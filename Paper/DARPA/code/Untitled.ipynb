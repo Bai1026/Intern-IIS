{
 "cells": [
  {
   "cell_type": "code",
   "execution_count": 2,
   "id": "b8c9106a",
   "metadata": {},
   "outputs": [
    {
     "data": {
      "application/vnd.jupyter.widget-view+json": {
       "model_id": "ba5e65f0be0b48db964b296172a484ec",
       "version_major": 2,
       "version_minor": 0
      },
      "text/plain": [
       "0it [00:00, ?it/s]"
      ]
     },
     "metadata": {},
     "output_type": "display_data"
    }
   ],
   "source": [
    "import json\n",
    "from tqdm.notebook import tqdm\n",
    "\n",
    "INPUT_PATH = '/workdir/home/bai/data_processing/dgl/data_new/DARPA/before_embedding/3.10/synthesized_format.json'\n",
    "\n",
    "data = list()\n",
    "with open(INPUT_PATH, 'r') as f:\n",
    "    for line in tqdm(f):\n",
    "        event = json.loads(line)\n",
    "        data.append(event)"
   ]
  },
  {
   "cell_type": "code",
   "execution_count": 3,
   "id": "cab58fca",
   "metadata": {},
   "outputs": [
    {
     "data": {
      "application/vnd.jupyter.widget-view+json": {
       "model_id": "9f440b897b21451fbe1466868916fef8",
       "version_major": 2,
       "version_minor": 0
      },
      "text/plain": [
       "  0%|          | 0/42899811 [00:00<?, ?it/s]"
      ]
     },
     "metadata": {},
     "output_type": "display_data"
    },
    {
     "name": "stdout",
     "output_type": "stream",
     "text": [
      "{'src_uuid': '966D983C-607E-4039-BEEF-5E76BC0A4DA8', 'src_node': {'Cmdline': 'None', 'Type': 'process', 'Pid': 9432}, 'dst_uuid': '1987EE68-E918-4765-8082-3DE89890A305', 'dst_node': {'Filepath': '\\\\Device\\\\HarddiskVolume2\\\\Users\\\\admin\\\\AppData\\\\Roaming\\\\Thunderbird\\\\Profiles\\\\isfi13ur.default\\\\datareporting', 'Type': 'file'}, 'relation': 'EVENT_OPEN', 'label': 'benign'}\n",
      "{'src_uuid': '966D983C-607E-4039-BEEF-5E76BC0A4DA8', 'src_node': {'Cmdline': 'None', 'Type': 'process', 'Pid': 9432}, 'dst_uuid': '1987EE68-E918-4765-8082-3DE89890A305', 'dst_node': {'Filepath': '\\\\Device\\\\HarddiskVolume2\\\\Users\\\\admin\\\\AppData\\\\Roaming\\\\Thunderbird\\\\Profiles\\\\isfi13ur.default\\\\datareporting', 'Type': 'file'}, 'relation': 'EVENT_OPEN', 'label': 'benign'}\n",
      "{'src_uuid': '966D983C-607E-4039-BEEF-5E76BC0A4DA8', 'src_node': {'Cmdline': 'None', 'Type': 'process', 'Pid': 9432}, 'dst_uuid': 'A6BD7B35-CACA-4557-BE82-33B752E35C00', 'dst_node': {'Filepath': 'Device\\\\HarddiskVolume2\\\\Users\\\\admin\\\\AppData\\\\Roaming\\\\Thunderbird\\\\Profiles\\\\isfi13ur.default\\\\datareporting', 'Type': 'file'}, 'relation': 'EVENT_OPEN', 'label': 'benign'}\n",
      "{'src_uuid': '966D983C-607E-4039-BEEF-5E76BC0A4DA8', 'src_node': {'Cmdline': 'None', 'Type': 'process', 'Pid': 9432}, 'dst_uuid': 'A6BD7B35-CACA-4557-BE82-33B752E35C00', 'dst_node': {'Filepath': 'Device\\\\HarddiskVolume2\\\\Users\\\\admin\\\\AppData\\\\Roaming\\\\Thunderbird\\\\Profiles\\\\isfi13ur.default\\\\datareporting', 'Type': 'file'}, 'relation': 'EVENT_OPEN', 'label': 'benign'}\n",
      "{'src_uuid': '966D983C-607E-4039-BEEF-5E76BC0A4DA8', 'src_node': {'Cmdline': 'None', 'Type': 'process', 'Pid': 9432}, 'dst_uuid': 'A6BD7B35-CACA-4557-BE82-33B752E35C00', 'dst_node': {'Filepath': 'Device\\\\HarddiskVolume2\\\\Users\\\\admin\\\\AppData\\\\Roaming\\\\Thunderbird\\\\Profiles\\\\isfi13ur.default\\\\datareporting', 'Type': 'file'}, 'relation': 'EVENT_OPEN', 'label': 'benign'}\n"
     ]
    }
   ],
   "source": [
    "count = 0\n",
    "for event in tqdm(data):\n",
    "    if event['relation'] != \"NO_CORRESPONDING_RELATION\":\n",
    "        count += 1\n",
    "        print(event)\n",
    "        if count == 5:\n",
    "            break"
   ]
  },
  {
   "cell_type": "code",
   "execution_count": null,
   "id": "23a5f15a",
   "metadata": {},
   "outputs": [],
   "source": []
  }
 ],
 "metadata": {
  "kernelspec": {
   "display_name": "Python 3",
   "language": "python",
   "name": "python3"
  },
  "language_info": {
   "codemirror_mode": {
    "name": "ipython",
    "version": 3
   },
   "file_extension": ".py",
   "mimetype": "text/x-python",
   "name": "python",
   "nbconvert_exporter": "python",
   "pygments_lexer": "ipython3",
   "version": "3.6.9"
  }
 },
 "nbformat": 4,
 "nbformat_minor": 5
}
