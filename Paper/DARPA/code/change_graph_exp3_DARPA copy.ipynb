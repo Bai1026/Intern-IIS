{
 "cells": [
  {
   "cell_type": "markdown",
   "metadata": {},
   "source": [
    "### For turn the graph in the 1000 folder with 400 folders with graph into the graph.jsonl"
   ]
  },
  {
   "cell_type": "code",
   "execution_count": 1,
   "metadata": {
    "scrolled": true
   },
   "outputs": [],
   "source": [
    "import os\n",
    "import json\n",
    "from tqdm.notebook import tqdm\n",
    "import logging \n",
    "\n",
    "def process_data(data_lines):\n",
    "    node_to_index = {}\n",
    "    nodes = set()\n",
    "    edges = []\n",
    "    edge_attrs = []\n",
    "    labels = []\n",
    "    \n",
    "    # for line in tqdm(data_lines, desc=\"Processing lines\"):\n",
    "    for line in data_lines:\n",
    "        try:\n",
    "            parts = line.strip().split()\n",
    "            source_node = int(parts[0])\n",
    "            dest_node = int(parts[1])\n",
    "            edge_id = int(parts[2])\n",
    "            label = parts[3]  # 0 means benign, 1 means malicious\n",
    "\n",
    "            nodes.add(source_node)\n",
    "            nodes.add(dest_node)\n",
    "            edges.append([source_node, dest_node])\n",
    "            edge_attrs.append(edge_id)\n",
    "            labels.append(label)\n",
    "        except Exception as e:\n",
    "            print(f\"Error processing line: {line}\\nError: {e}\")\n",
    "            continue\n",
    "    \n",
    "    for index, node in enumerate(nodes):\n",
    "        node_to_index[node] = index\n",
    "\n",
    "    edges = [[node_to_index[edge[0]], node_to_index[edge[1]]] for edge in edges]\n",
    "    edges = list(zip(*edges))\n",
    "    \n",
    "    return {\n",
    "        \"labels\": labels,\n",
    "        \"num_nodes\": len(nodes),\n",
    "        \"node_feat\": list(nodes),\n",
    "        \"edge_attr\": edge_attrs,\n",
    "        \"edge_index\": edges\n",
    "    }\n",
    "\n",
    "\n",
    "def read_data_from_file(file_path):\n",
    "    with open(file_path, 'r', encoding='utf-8') as file:\n",
    "        return file.readlines()\n",
    "\n",
    "\n"
   ]
  },
  {
   "cell_type": "markdown",
   "metadata": {},
   "source": [
    "- The version for small amount of folders"
   ]
  },
  {
   "cell_type": "code",
   "execution_count": 3,
   "metadata": {
    "scrolled": true
   },
   "outputs": [
    {
     "data": {
      "application/vnd.jupyter.widget-view+json": {
       "model_id": "a41a3ddd9ae84912acb26d9eea3bfab7",
       "version_major": 2,
       "version_minor": 0
      },
      "text/plain": [
       "Handling Subfolders:   0%|          | 0/50 [00:00<?, ?it/s]"
      ]
     },
     "metadata": {},
     "output_type": "display_data"
    },
    {
     "data": {
      "application/vnd.jupyter.widget-view+json": {
       "model_id": "37f98b4d72d64b55ac6c52cb124cfbfc",
       "version_major": 2,
       "version_minor": 0
      },
      "text/plain": [
       "Handling Subsubfolders:   0%|          | 0/400 [00:00<?, ?it/s]"
      ]
     },
     "metadata": {},
     "output_type": "display_data"
    },
    {
     "data": {
      "application/vnd.jupyter.widget-view+json": {
       "model_id": "5b9ce69990ef4ccabdcb73f4de5af1d5",
       "version_major": 2,
       "version_minor": 0
      },
      "text/plain": [
       "Handling Subsubfolders:   0%|          | 0/400 [00:00<?, ?it/s]"
      ]
     },
     "metadata": {},
     "output_type": "display_data"
    },
    {
     "data": {
      "application/vnd.jupyter.widget-view+json": {
       "model_id": "2f92ea7aa9f74472a1abba40af2e19bf",
       "version_major": 2,
       "version_minor": 0
      },
      "text/plain": [
       "Handling Subsubfolders:   0%|          | 0/400 [00:00<?, ?it/s]"
      ]
     },
     "metadata": {},
     "output_type": "display_data"
    },
    {
     "data": {
      "application/vnd.jupyter.widget-view+json": {
       "model_id": "d7712f2066b849be98f6a6fb52819047",
       "version_major": 2,
       "version_minor": 0
      },
      "text/plain": [
       "Handling Subsubfolders:   0%|          | 0/400 [00:00<?, ?it/s]"
      ]
     },
     "metadata": {},
     "output_type": "display_data"
    },
    {
     "data": {
      "application/vnd.jupyter.widget-view+json": {
       "model_id": "334b283c29414239875b8cc53ef33e27",
       "version_major": 2,
       "version_minor": 0
      },
      "text/plain": [
       "Handling Subsubfolders:   0%|          | 0/400 [00:00<?, ?it/s]"
      ]
     },
     "metadata": {},
     "output_type": "display_data"
    },
    {
     "data": {
      "application/vnd.jupyter.widget-view+json": {
       "model_id": "9892a8f8aa0d4b3880d79b696322ddf4",
       "version_major": 2,
       "version_minor": 0
      },
      "text/plain": [
       "Handling Subsubfolders:   0%|          | 0/400 [00:00<?, ?it/s]"
      ]
     },
     "metadata": {},
     "output_type": "display_data"
    },
    {
     "data": {
      "application/vnd.jupyter.widget-view+json": {
       "model_id": "9caf62d4b79348a48c549556b4aeea92",
       "version_major": 2,
       "version_minor": 0
      },
      "text/plain": [
       "Handling Subsubfolders:   0%|          | 0/400 [00:00<?, ?it/s]"
      ]
     },
     "metadata": {},
     "output_type": "display_data"
    },
    {
     "data": {
      "application/vnd.jupyter.widget-view+json": {
       "model_id": "61a039cfa1ca40429058013ed80f3230",
       "version_major": 2,
       "version_minor": 0
      },
      "text/plain": [
       "Handling Subsubfolders:   0%|          | 0/400 [00:00<?, ?it/s]"
      ]
     },
     "metadata": {},
     "output_type": "display_data"
    },
    {
     "data": {
      "application/vnd.jupyter.widget-view+json": {
       "model_id": "95facc1be32e40a8bb52a1e8018533e4",
       "version_major": 2,
       "version_minor": 0
      },
      "text/plain": [
       "Handling Subsubfolders:   0%|          | 0/400 [00:00<?, ?it/s]"
      ]
     },
     "metadata": {},
     "output_type": "display_data"
    },
    {
     "data": {
      "application/vnd.jupyter.widget-view+json": {
       "model_id": "01afa6b3400945f4b594805015f397cc",
       "version_major": 2,
       "version_minor": 0
      },
      "text/plain": [
       "Handling Subsubfolders:   0%|          | 0/400 [00:00<?, ?it/s]"
      ]
     },
     "metadata": {},
     "output_type": "display_data"
    },
    {
     "data": {
      "application/vnd.jupyter.widget-view+json": {
       "model_id": "bbbedc18fea3457382eb1cedc6f4c749",
       "version_major": 2,
       "version_minor": 0
      },
      "text/plain": [
       "Handling Subsubfolders:   0%|          | 0/400 [00:00<?, ?it/s]"
      ]
     },
     "metadata": {},
     "output_type": "display_data"
    },
    {
     "data": {
      "application/vnd.jupyter.widget-view+json": {
       "model_id": "2a50b45c30e14a54ae3311fd76923509",
       "version_major": 2,
       "version_minor": 0
      },
      "text/plain": [
       "Handling Subsubfolders:   0%|          | 0/400 [00:00<?, ?it/s]"
      ]
     },
     "metadata": {},
     "output_type": "display_data"
    },
    {
     "data": {
      "application/vnd.jupyter.widget-view+json": {
       "model_id": "4d2849b36cd74180a8d9bf2ab7505b8c",
       "version_major": 2,
       "version_minor": 0
      },
      "text/plain": [
       "Handling Subsubfolders:   0%|          | 0/400 [00:00<?, ?it/s]"
      ]
     },
     "metadata": {},
     "output_type": "display_data"
    },
    {
     "data": {
      "application/vnd.jupyter.widget-view+json": {
       "model_id": "d7b6d2ab1f0d4950b666c053e3e3a752",
       "version_major": 2,
       "version_minor": 0
      },
      "text/plain": [
       "Handling Subsubfolders:   0%|          | 0/400 [00:00<?, ?it/s]"
      ]
     },
     "metadata": {},
     "output_type": "display_data"
    },
    {
     "data": {
      "application/vnd.jupyter.widget-view+json": {
       "model_id": "372b54e9d50747918637d9fb986d503b",
       "version_major": 2,
       "version_minor": 0
      },
      "text/plain": [
       "Handling Subsubfolders:   0%|          | 0/400 [00:00<?, ?it/s]"
      ]
     },
     "metadata": {},
     "output_type": "display_data"
    },
    {
     "data": {
      "application/vnd.jupyter.widget-view+json": {
       "model_id": "2aa6ea941e474341888287365baf67f7",
       "version_major": 2,
       "version_minor": 0
      },
      "text/plain": [
       "Handling Subsubfolders:   0%|          | 0/400 [00:00<?, ?it/s]"
      ]
     },
     "metadata": {},
     "output_type": "display_data"
    },
    {
     "data": {
      "application/vnd.jupyter.widget-view+json": {
       "model_id": "a2c6e43b865e4079b4cdcfa2a7bed0e1",
       "version_major": 2,
       "version_minor": 0
      },
      "text/plain": [
       "Handling Subsubfolders:   0%|          | 0/400 [00:00<?, ?it/s]"
      ]
     },
     "metadata": {},
     "output_type": "display_data"
    },
    {
     "data": {
      "application/vnd.jupyter.widget-view+json": {
       "model_id": "cec4f6cf90364baa94d31f6f7feab446",
       "version_major": 2,
       "version_minor": 0
      },
      "text/plain": [
       "Handling Subsubfolders:   0%|          | 0/400 [00:00<?, ?it/s]"
      ]
     },
     "metadata": {},
     "output_type": "display_data"
    },
    {
     "data": {
      "application/vnd.jupyter.widget-view+json": {
       "model_id": "35ce92450e7746c6b2aef7c7ce1a7df5",
       "version_major": 2,
       "version_minor": 0
      },
      "text/plain": [
       "Handling Subsubfolders:   0%|          | 0/400 [00:00<?, ?it/s]"
      ]
     },
     "metadata": {},
     "output_type": "display_data"
    },
    {
     "data": {
      "application/vnd.jupyter.widget-view+json": {
       "model_id": "2d0d77a09f59428f94f60a172f1d92b3",
       "version_major": 2,
       "version_minor": 0
      },
      "text/plain": [
       "Handling Subsubfolders:   0%|          | 0/400 [00:00<?, ?it/s]"
      ]
     },
     "metadata": {},
     "output_type": "display_data"
    },
    {
     "data": {
      "application/vnd.jupyter.widget-view+json": {
       "model_id": "7ce906a7fa42499db528bf7fd1ad92ca",
       "version_major": 2,
       "version_minor": 0
      },
      "text/plain": [
       "Handling Subsubfolders:   0%|          | 0/400 [00:00<?, ?it/s]"
      ]
     },
     "metadata": {},
     "output_type": "display_data"
    },
    {
     "data": {
      "application/vnd.jupyter.widget-view+json": {
       "model_id": "77c6fdb1e0e24f5b802f3ccfbb2a5740",
       "version_major": 2,
       "version_minor": 0
      },
      "text/plain": [
       "Handling Subsubfolders:   0%|          | 0/400 [00:00<?, ?it/s]"
      ]
     },
     "metadata": {},
     "output_type": "display_data"
    },
    {
     "data": {
      "application/vnd.jupyter.widget-view+json": {
       "model_id": "7dd3fbc6b4544185a9640d46ebc4f14a",
       "version_major": 2,
       "version_minor": 0
      },
      "text/plain": [
       "Handling Subsubfolders:   0%|          | 0/400 [00:00<?, ?it/s]"
      ]
     },
     "metadata": {},
     "output_type": "display_data"
    },
    {
     "data": {
      "application/vnd.jupyter.widget-view+json": {
       "model_id": "f4a1734496a64ccca51b0fab5daa40f2",
       "version_major": 2,
       "version_minor": 0
      },
      "text/plain": [
       "Handling Subsubfolders:   0%|          | 0/400 [00:00<?, ?it/s]"
      ]
     },
     "metadata": {},
     "output_type": "display_data"
    },
    {
     "data": {
      "application/vnd.jupyter.widget-view+json": {
       "model_id": "4900adba08ae444cadffa865c0aea1ad",
       "version_major": 2,
       "version_minor": 0
      },
      "text/plain": [
       "Handling Subsubfolders:   0%|          | 0/400 [00:00<?, ?it/s]"
      ]
     },
     "metadata": {},
     "output_type": "display_data"
    },
    {
     "data": {
      "application/vnd.jupyter.widget-view+json": {
       "model_id": "437a4f22dcfd439595e26145c112c35e",
       "version_major": 2,
       "version_minor": 0
      },
      "text/plain": [
       "Handling Subsubfolders:   0%|          | 0/400 [00:00<?, ?it/s]"
      ]
     },
     "metadata": {},
     "output_type": "display_data"
    },
    {
     "data": {
      "application/vnd.jupyter.widget-view+json": {
       "model_id": "d65b098d2e33487b8533086c78be9665",
       "version_major": 2,
       "version_minor": 0
      },
      "text/plain": [
       "Handling Subsubfolders:   0%|          | 0/400 [00:00<?, ?it/s]"
      ]
     },
     "metadata": {},
     "output_type": "display_data"
    },
    {
     "data": {
      "application/vnd.jupyter.widget-view+json": {
       "model_id": "3ba0a7492f59455cafb7e0df7be98156",
       "version_major": 2,
       "version_minor": 0
      },
      "text/plain": [
       "Handling Subsubfolders:   0%|          | 0/400 [00:00<?, ?it/s]"
      ]
     },
     "metadata": {},
     "output_type": "display_data"
    },
    {
     "data": {
      "application/vnd.jupyter.widget-view+json": {
       "model_id": "dbd07c8546134a979c4ff336f84b761f",
       "version_major": 2,
       "version_minor": 0
      },
      "text/plain": [
       "Handling Subsubfolders:   0%|          | 0/400 [00:00<?, ?it/s]"
      ]
     },
     "metadata": {},
     "output_type": "display_data"
    },
    {
     "data": {
      "application/vnd.jupyter.widget-view+json": {
       "model_id": "d37cba3bcfc64e2b9eb9abadccb3d52e",
       "version_major": 2,
       "version_minor": 0
      },
      "text/plain": [
       "Handling Subsubfolders:   0%|          | 0/400 [00:00<?, ?it/s]"
      ]
     },
     "metadata": {},
     "output_type": "display_data"
    },
    {
     "data": {
      "application/vnd.jupyter.widget-view+json": {
       "model_id": "a8547532715845228ad3689a88fcfd04",
       "version_major": 2,
       "version_minor": 0
      },
      "text/plain": [
       "Handling Subsubfolders:   0%|          | 0/400 [00:00<?, ?it/s]"
      ]
     },
     "metadata": {},
     "output_type": "display_data"
    },
    {
     "data": {
      "application/vnd.jupyter.widget-view+json": {
       "model_id": "978b9d9834e048b59f0fd6656b971d3a",
       "version_major": 2,
       "version_minor": 0
      },
      "text/plain": [
       "Handling Subsubfolders:   0%|          | 0/400 [00:00<?, ?it/s]"
      ]
     },
     "metadata": {},
     "output_type": "display_data"
    },
    {
     "data": {
      "application/vnd.jupyter.widget-view+json": {
       "model_id": "e0d34072bc5044269079d3d542efb037",
       "version_major": 2,
       "version_minor": 0
      },
      "text/plain": [
       "Handling Subsubfolders:   0%|          | 0/400 [00:00<?, ?it/s]"
      ]
     },
     "metadata": {},
     "output_type": "display_data"
    },
    {
     "data": {
      "application/vnd.jupyter.widget-view+json": {
       "model_id": "7f8be2a900ff4ad5b15f11231ddfcd2c",
       "version_major": 2,
       "version_minor": 0
      },
      "text/plain": [
       "Handling Subsubfolders:   0%|          | 0/400 [00:00<?, ?it/s]"
      ]
     },
     "metadata": {},
     "output_type": "display_data"
    },
    {
     "data": {
      "application/vnd.jupyter.widget-view+json": {
       "model_id": "fce707e1a02e421db7528c6f0d623756",
       "version_major": 2,
       "version_minor": 0
      },
      "text/plain": [
       "Handling Subsubfolders:   0%|          | 0/400 [00:00<?, ?it/s]"
      ]
     },
     "metadata": {},
     "output_type": "display_data"
    },
    {
     "data": {
      "application/vnd.jupyter.widget-view+json": {
       "model_id": "41b10a08b2ac4d4e898a8a2c6ee72fb4",
       "version_major": 2,
       "version_minor": 0
      },
      "text/plain": [
       "Handling Subsubfolders:   0%|          | 0/400 [00:00<?, ?it/s]"
      ]
     },
     "metadata": {},
     "output_type": "display_data"
    },
    {
     "data": {
      "application/vnd.jupyter.widget-view+json": {
       "model_id": "7622c03d6606426da81e3d9300574c50",
       "version_major": 2,
       "version_minor": 0
      },
      "text/plain": [
       "Handling Subsubfolders:   0%|          | 0/400 [00:00<?, ?it/s]"
      ]
     },
     "metadata": {},
     "output_type": "display_data"
    },
    {
     "data": {
      "application/vnd.jupyter.widget-view+json": {
       "model_id": "a02cc23d68fb40d8b646ea32dea2a4f5",
       "version_major": 2,
       "version_minor": 0
      },
      "text/plain": [
       "Handling Subsubfolders:   0%|          | 0/400 [00:00<?, ?it/s]"
      ]
     },
     "metadata": {},
     "output_type": "display_data"
    },
    {
     "data": {
      "application/vnd.jupyter.widget-view+json": {
       "model_id": "14e61a27e44549e1b8e5371db203cecc",
       "version_major": 2,
       "version_minor": 0
      },
      "text/plain": [
       "Handling Subsubfolders:   0%|          | 0/400 [00:00<?, ?it/s]"
      ]
     },
     "metadata": {},
     "output_type": "display_data"
    },
    {
     "data": {
      "application/vnd.jupyter.widget-view+json": {
       "model_id": "fd7311fdb7d2452a92aacc3e7333365c",
       "version_major": 2,
       "version_minor": 0
      },
      "text/plain": [
       "Handling Subsubfolders:   0%|          | 0/400 [00:00<?, ?it/s]"
      ]
     },
     "metadata": {},
     "output_type": "display_data"
    },
    {
     "data": {
      "application/vnd.jupyter.widget-view+json": {
       "model_id": "33090e7f3a89449f95d44d155cc3137e",
       "version_major": 2,
       "version_minor": 0
      },
      "text/plain": [
       "Handling Subsubfolders:   0%|          | 0/400 [00:00<?, ?it/s]"
      ]
     },
     "metadata": {},
     "output_type": "display_data"
    },
    {
     "data": {
      "application/vnd.jupyter.widget-view+json": {
       "model_id": "96c7f395b6c84278b74e0198f698422f",
       "version_major": 2,
       "version_minor": 0
      },
      "text/plain": [
       "Handling Subsubfolders:   0%|          | 0/400 [00:00<?, ?it/s]"
      ]
     },
     "metadata": {},
     "output_type": "display_data"
    },
    {
     "data": {
      "application/vnd.jupyter.widget-view+json": {
       "model_id": "a58a8a86651c41dbb57a74b002893d62",
       "version_major": 2,
       "version_minor": 0
      },
      "text/plain": [
       "Handling Subsubfolders:   0%|          | 0/400 [00:00<?, ?it/s]"
      ]
     },
     "metadata": {},
     "output_type": "display_data"
    },
    {
     "data": {
      "application/vnd.jupyter.widget-view+json": {
       "model_id": "3df3ef8ca3f54d19a7374fa43b6c068e",
       "version_major": 2,
       "version_minor": 0
      },
      "text/plain": [
       "Handling Subsubfolders:   0%|          | 0/400 [00:00<?, ?it/s]"
      ]
     },
     "metadata": {},
     "output_type": "display_data"
    },
    {
     "data": {
      "application/vnd.jupyter.widget-view+json": {
       "model_id": "d6a9ad5b7b9044d4a147e4c02f1e6f73",
       "version_major": 2,
       "version_minor": 0
      },
      "text/plain": [
       "Handling Subsubfolders:   0%|          | 0/400 [00:00<?, ?it/s]"
      ]
     },
     "metadata": {},
     "output_type": "display_data"
    },
    {
     "data": {
      "application/vnd.jupyter.widget-view+json": {
       "model_id": "5ea767decd3c4e0186c428897c70eaed",
       "version_major": 2,
       "version_minor": 0
      },
      "text/plain": [
       "Handling Subsubfolders:   0%|          | 0/400 [00:00<?, ?it/s]"
      ]
     },
     "metadata": {},
     "output_type": "display_data"
    },
    {
     "data": {
      "application/vnd.jupyter.widget-view+json": {
       "model_id": "2fe13d37a2ef4343a822dfba52b0ed34",
       "version_major": 2,
       "version_minor": 0
      },
      "text/plain": [
       "Handling Subsubfolders:   0%|          | 0/400 [00:00<?, ?it/s]"
      ]
     },
     "metadata": {},
     "output_type": "display_data"
    },
    {
     "data": {
      "application/vnd.jupyter.widget-view+json": {
       "model_id": "12e08534af094a26b1b894e22f14b507",
       "version_major": 2,
       "version_minor": 0
      },
      "text/plain": [
       "Handling Subsubfolders:   0%|          | 0/400 [00:00<?, ?it/s]"
      ]
     },
     "metadata": {},
     "output_type": "display_data"
    },
    {
     "data": {
      "application/vnd.jupyter.widget-view+json": {
       "model_id": "b184cb0daabe4199a7e7730f324f81fb",
       "version_major": 2,
       "version_minor": 0
      },
      "text/plain": [
       "Handling Subsubfolders:   0%|          | 0/400 [00:00<?, ?it/s]"
      ]
     },
     "metadata": {},
     "output_type": "display_data"
    },
    {
     "data": {
      "application/vnd.jupyter.widget-view+json": {
       "model_id": "68c581f54546459e9d14eabc0ef02354",
       "version_major": 2,
       "version_minor": 0
      },
      "text/plain": [
       "Handling Subsubfolders:   0%|          | 0/400 [00:00<?, ?it/s]"
      ]
     },
     "metadata": {},
     "output_type": "display_data"
    },
    {
     "name": "stdout",
     "output_type": "stream",
     "text": [
      "all the data is saved in '../data/before_embedding/3.10/graph_data(50)-1.jsonl'\n"
     ]
    }
   ],
   "source": [
    "# 主資料夾路徑\n",
    "main_folder_path = '../data/source_data/output_graphs(200)'\n",
    "output_file_path = '../data/before_embedding/3.10/graph_data(50)-1.jsonl'\n",
    "\n",
    "all_graph_data = []\n",
    "\n",
    "try:\n",
    "    # 在开始处理数据之前打开文件，并保持打开状态\n",
    "    with open(output_file_path, 'w', encoding='utf-8') as f:\n",
    "        for subfolder_name in tqdm(os.listdir(main_folder_path)[:50], desc=\"Handling Subfolders: \"):\n",
    "            subfolder_path = os.path.join(main_folder_path, subfolder_name)\n",
    "            if not os.path.isdir(subfolder_path):\n",
    "                continue\n",
    "\n",
    "            for subsubfolder_name in tqdm(os.listdir(subfolder_path), desc=\"Handling Subsubfolders: \"):\n",
    "                subsubfolder_path = os.path.join(subfolder_path, subsubfolder_name)\n",
    "                if not os.path.isdir(subsubfolder_path):\n",
    "                    continue\n",
    "\n",
    "                file_path = os.path.join(subsubfolder_path, 'all_triplets.txt')\n",
    "                data_lines = read_data_from_file(file_path)\n",
    "                graph_data = process_data(data_lines)\n",
    "\n",
    "                # 直接写入文件，而不需要每次都打开和关闭\n",
    "                f.write(json.dumps(graph_data) + \"\\n\")\n",
    "\n",
    "except Exception as e:\n",
    "    print(f\"Error during processing files. Error: {e}\")\n",
    "\n",
    "print(f\"all the data is saved in '{output_file_path}'\")\n",
    "\n",
    "\n",
    "# with open(output_file_path, 'w', encoding='utf-8') as f:\n",
    "#     for graph_data in tqdm(all_graph_data, desc=\"writing into output JSONL file\"):\n",
    "#         f.write(json.dumps(graph_data))\n",
    "#         f.write(\"\\n\")\n",
    "\n",
    "# print(f\"all the data is saved in '{output_file_path}'\")\n"
   ]
  },
  {
   "cell_type": "markdown",
   "metadata": {},
   "source": [
    "#### The formal version\n",
    "- with dump the data each time\n",
    "- the all_graph_data would not be so huge so the consuming time is consistent"
   ]
  },
  {
   "cell_type": "code",
   "execution_count": null,
   "metadata": {
    "scrolled": true
   },
   "outputs": [
    {
     "data": {
      "application/vnd.jupyter.widget-view+json": {
       "model_id": "9bd216f073d449259d31876479a039af",
       "version_major": 2,
       "version_minor": 0
      },
      "text/plain": [
       "Handling Subfolders:   0%|          | 0/1000 [00:00<?, ?it/s]"
      ]
     },
     "metadata": {},
     "output_type": "display_data"
    },
    {
     "data": {
      "application/vnd.jupyter.widget-view+json": {
       "model_id": "321d6229837449629b1eb56bbca66c43",
       "version_major": 2,
       "version_minor": 0
      },
      "text/plain": [
       "Handling Subsubfolders:   0%|          | 0/400 [00:00<?, ?it/s]"
      ]
     },
     "metadata": {},
     "output_type": "display_data"
    },
    {
     "data": {
      "application/vnd.jupyter.widget-view+json": {
       "model_id": "70e6c1db3bcd4961a640a3ee82222d08",
       "version_major": 2,
       "version_minor": 0
      },
      "text/plain": [
       "Handling Subsubfolders:   0%|          | 0/400 [00:00<?, ?it/s]"
      ]
     },
     "metadata": {},
     "output_type": "display_data"
    },
    {
     "data": {
      "application/vnd.jupyter.widget-view+json": {
       "model_id": "4e4fe67b77ea4e519775e16160ec598d",
       "version_major": 2,
       "version_minor": 0
      },
      "text/plain": [
       "Handling Subsubfolders:   0%|          | 0/400 [00:00<?, ?it/s]"
      ]
     },
     "metadata": {},
     "output_type": "display_data"
    },
    {
     "data": {
      "application/vnd.jupyter.widget-view+json": {
       "model_id": "4f0a37e2b7c64d80968408b921e86c27",
       "version_major": 2,
       "version_minor": 0
      },
      "text/plain": [
       "Handling Subsubfolders:   0%|          | 0/400 [00:00<?, ?it/s]"
      ]
     },
     "metadata": {},
     "output_type": "display_data"
    },
    {
     "data": {
      "application/vnd.jupyter.widget-view+json": {
       "model_id": "fcd7fa3bc19242129813e6ef35c65ebd",
       "version_major": 2,
       "version_minor": 0
      },
      "text/plain": [
       "Handling Subsubfolders:   0%|          | 0/400 [00:00<?, ?it/s]"
      ]
     },
     "metadata": {},
     "output_type": "display_data"
    },
    {
     "data": {
      "application/vnd.jupyter.widget-view+json": {
       "model_id": "6cadb041c9084db6b1a1f6ca977e5def",
       "version_major": 2,
       "version_minor": 0
      },
      "text/plain": [
       "Handling Subsubfolders:   0%|          | 0/400 [00:00<?, ?it/s]"
      ]
     },
     "metadata": {},
     "output_type": "display_data"
    },
    {
     "data": {
      "application/vnd.jupyter.widget-view+json": {
       "model_id": "144db5751ec24fd4b5c651ed5e9c13a9",
       "version_major": 2,
       "version_minor": 0
      },
      "text/plain": [
       "Handling Subsubfolders:   0%|          | 0/400 [00:00<?, ?it/s]"
      ]
     },
     "metadata": {},
     "output_type": "display_data"
    },
    {
     "data": {
      "application/vnd.jupyter.widget-view+json": {
       "model_id": "8d7f4ea5ae5548d6a950fd84e84339c6",
       "version_major": 2,
       "version_minor": 0
      },
      "text/plain": [
       "Handling Subsubfolders:   0%|          | 0/400 [00:00<?, ?it/s]"
      ]
     },
     "metadata": {},
     "output_type": "display_data"
    },
    {
     "data": {
      "application/vnd.jupyter.widget-view+json": {
       "model_id": "85479b4dc86d4812b9d69d41af7fe848",
       "version_major": 2,
       "version_minor": 0
      },
      "text/plain": [
       "Handling Subsubfolders:   0%|          | 0/400 [00:00<?, ?it/s]"
      ]
     },
     "metadata": {},
     "output_type": "display_data"
    },
    {
     "data": {
      "application/vnd.jupyter.widget-view+json": {
       "model_id": "2682df81a57d40eb9ed0093acc4bced5",
       "version_major": 2,
       "version_minor": 0
      },
      "text/plain": [
       "Handling Subsubfolders:   0%|          | 0/400 [00:00<?, ?it/s]"
      ]
     },
     "metadata": {},
     "output_type": "display_data"
    },
    {
     "data": {
      "application/vnd.jupyter.widget-view+json": {
       "model_id": "091b390b036d4606b9c2fd5fb6a63542",
       "version_major": 2,
       "version_minor": 0
      },
      "text/plain": [
       "Handling Subsubfolders:   0%|          | 0/400 [00:00<?, ?it/s]"
      ]
     },
     "metadata": {},
     "output_type": "display_data"
    },
    {
     "data": {
      "application/vnd.jupyter.widget-view+json": {
       "model_id": "9b03f07a22704405bb04714dcca2549c",
       "version_major": 2,
       "version_minor": 0
      },
      "text/plain": [
       "Handling Subsubfolders:   0%|          | 0/400 [00:00<?, ?it/s]"
      ]
     },
     "metadata": {},
     "output_type": "display_data"
    },
    {
     "data": {
      "application/vnd.jupyter.widget-view+json": {
       "model_id": "d93eac28e76c486d9b93473f4510f6e7",
       "version_major": 2,
       "version_minor": 0
      },
      "text/plain": [
       "Handling Subsubfolders:   0%|          | 0/400 [00:00<?, ?it/s]"
      ]
     },
     "metadata": {},
     "output_type": "display_data"
    },
    {
     "data": {
      "application/vnd.jupyter.widget-view+json": {
       "model_id": "a4112fa3c08c4357a6bc87755aca9ddd",
       "version_major": 2,
       "version_minor": 0
      },
      "text/plain": [
       "Handling Subsubfolders:   0%|          | 0/400 [00:00<?, ?it/s]"
      ]
     },
     "metadata": {},
     "output_type": "display_data"
    },
    {
     "data": {
      "application/vnd.jupyter.widget-view+json": {
       "model_id": "fb87711fedd84b47ad890d1c75f126fe",
       "version_major": 2,
       "version_minor": 0
      },
      "text/plain": [
       "Handling Subsubfolders:   0%|          | 0/400 [00:00<?, ?it/s]"
      ]
     },
     "metadata": {},
     "output_type": "display_data"
    },
    {
     "data": {
      "application/vnd.jupyter.widget-view+json": {
       "model_id": "78da54cb312a48ef907b69d97823edbc",
       "version_major": 2,
       "version_minor": 0
      },
      "text/plain": [
       "Handling Subsubfolders:   0%|          | 0/400 [00:00<?, ?it/s]"
      ]
     },
     "metadata": {},
     "output_type": "display_data"
    },
    {
     "data": {
      "application/vnd.jupyter.widget-view+json": {
       "model_id": "ce792faf1a4c41f9b7e4a1aacb4d4b0d",
       "version_major": 2,
       "version_minor": 0
      },
      "text/plain": [
       "Handling Subsubfolders:   0%|          | 0/400 [00:00<?, ?it/s]"
      ]
     },
     "metadata": {},
     "output_type": "display_data"
    },
    {
     "data": {
      "application/vnd.jupyter.widget-view+json": {
       "model_id": "55d3adf222d74a8e9bef8c3c378ba664",
       "version_major": 2,
       "version_minor": 0
      },
      "text/plain": [
       "Handling Subsubfolders:   0%|          | 0/400 [00:00<?, ?it/s]"
      ]
     },
     "metadata": {},
     "output_type": "display_data"
    },
    {
     "data": {
      "application/vnd.jupyter.widget-view+json": {
       "model_id": "6b01e432116b4d21920557e62e076279",
       "version_major": 2,
       "version_minor": 0
      },
      "text/plain": [
       "Handling Subsubfolders:   0%|          | 0/400 [00:00<?, ?it/s]"
      ]
     },
     "metadata": {},
     "output_type": "display_data"
    },
    {
     "data": {
      "application/vnd.jupyter.widget-view+json": {
       "model_id": "4e97bf74a7394d1e8507b587514d01cf",
       "version_major": 2,
       "version_minor": 0
      },
      "text/plain": [
       "Handling Subsubfolders:   0%|          | 0/400 [00:00<?, ?it/s]"
      ]
     },
     "metadata": {},
     "output_type": "display_data"
    },
    {
     "data": {
      "application/vnd.jupyter.widget-view+json": {
       "model_id": "c7851099036a4816866ea6306ed4edf3",
       "version_major": 2,
       "version_minor": 0
      },
      "text/plain": [
       "Handling Subsubfolders:   0%|          | 0/400 [00:00<?, ?it/s]"
      ]
     },
     "metadata": {},
     "output_type": "display_data"
    },
    {
     "data": {
      "application/vnd.jupyter.widget-view+json": {
       "model_id": "f49da3c8b4444266bb66873f8b825039",
       "version_major": 2,
       "version_minor": 0
      },
      "text/plain": [
       "Handling Subsubfolders:   0%|          | 0/400 [00:00<?, ?it/s]"
      ]
     },
     "metadata": {},
     "output_type": "display_data"
    },
    {
     "data": {
      "application/vnd.jupyter.widget-view+json": {
       "model_id": "d4005e76f475424cbe2c2e54558a55f4",
       "version_major": 2,
       "version_minor": 0
      },
      "text/plain": [
       "Handling Subsubfolders:   0%|          | 0/400 [00:00<?, ?it/s]"
      ]
     },
     "metadata": {},
     "output_type": "display_data"
    },
    {
     "data": {
      "application/vnd.jupyter.widget-view+json": {
       "model_id": "25e250b34d754c34bef42f95d69552b8",
       "version_major": 2,
       "version_minor": 0
      },
      "text/plain": [
       "Handling Subsubfolders:   0%|          | 0/400 [00:00<?, ?it/s]"
      ]
     },
     "metadata": {},
     "output_type": "display_data"
    },
    {
     "data": {
      "application/vnd.jupyter.widget-view+json": {
       "model_id": "96ebcda8a84e40cdaa9dde9e3fa097ae",
       "version_major": 2,
       "version_minor": 0
      },
      "text/plain": [
       "Handling Subsubfolders:   0%|          | 0/400 [00:00<?, ?it/s]"
      ]
     },
     "metadata": {},
     "output_type": "display_data"
    },
    {
     "data": {
      "application/vnd.jupyter.widget-view+json": {
       "model_id": "22a7243d37124eacb67472e24ac46e16",
       "version_major": 2,
       "version_minor": 0
      },
      "text/plain": [
       "Handling Subsubfolders:   0%|          | 0/400 [00:00<?, ?it/s]"
      ]
     },
     "metadata": {},
     "output_type": "display_data"
    },
    {
     "data": {
      "application/vnd.jupyter.widget-view+json": {
       "model_id": "e3b8a8023a754adc9b9e6895d05ba46e",
       "version_major": 2,
       "version_minor": 0
      },
      "text/plain": [
       "Handling Subsubfolders:   0%|          | 0/400 [00:00<?, ?it/s]"
      ]
     },
     "metadata": {},
     "output_type": "display_data"
    },
    {
     "data": {
      "application/vnd.jupyter.widget-view+json": {
       "model_id": "bc640819b64f431b82c5c92ad2d39674",
       "version_major": 2,
       "version_minor": 0
      },
      "text/plain": [
       "Handling Subsubfolders:   0%|          | 0/400 [00:00<?, ?it/s]"
      ]
     },
     "metadata": {},
     "output_type": "display_data"
    },
    {
     "data": {
      "application/vnd.jupyter.widget-view+json": {
       "model_id": "c2644be2e1654043a60f23cc7a0b7fcf",
       "version_major": 2,
       "version_minor": 0
      },
      "text/plain": [
       "Handling Subsubfolders:   0%|          | 0/400 [00:00<?, ?it/s]"
      ]
     },
     "metadata": {},
     "output_type": "display_data"
    },
    {
     "data": {
      "application/vnd.jupyter.widget-view+json": {
       "model_id": "fb2f81475d0742a994548d3f45f8065c",
       "version_major": 2,
       "version_minor": 0
      },
      "text/plain": [
       "Handling Subsubfolders:   0%|          | 0/400 [00:00<?, ?it/s]"
      ]
     },
     "metadata": {},
     "output_type": "display_data"
    },
    {
     "data": {
      "application/vnd.jupyter.widget-view+json": {
       "model_id": "496af9a9886545819b290f6d7de0e00c",
       "version_major": 2,
       "version_minor": 0
      },
      "text/plain": [
       "Handling Subsubfolders:   0%|          | 0/400 [00:00<?, ?it/s]"
      ]
     },
     "metadata": {},
     "output_type": "display_data"
    },
    {
     "data": {
      "application/vnd.jupyter.widget-view+json": {
       "model_id": "05bbb0cf7c1d4e78a1e20fb258a905c6",
       "version_major": 2,
       "version_minor": 0
      },
      "text/plain": [
       "Handling Subsubfolders:   0%|          | 0/400 [00:00<?, ?it/s]"
      ]
     },
     "metadata": {},
     "output_type": "display_data"
    },
    {
     "data": {
      "application/vnd.jupyter.widget-view+json": {
       "model_id": "118f92c1c5fc4824a7823a893625d538",
       "version_major": 2,
       "version_minor": 0
      },
      "text/plain": [
       "Handling Subsubfolders:   0%|          | 0/400 [00:00<?, ?it/s]"
      ]
     },
     "metadata": {},
     "output_type": "display_data"
    },
    {
     "data": {
      "application/vnd.jupyter.widget-view+json": {
       "model_id": "41ffa2eb5e6845528f3866c2b23a5399",
       "version_major": 2,
       "version_minor": 0
      },
      "text/plain": [
       "Handling Subsubfolders:   0%|          | 0/400 [00:00<?, ?it/s]"
      ]
     },
     "metadata": {},
     "output_type": "display_data"
    },
    {
     "data": {
      "application/vnd.jupyter.widget-view+json": {
       "model_id": "9158cb68ebbe403e9e930dc7237040d1",
       "version_major": 2,
       "version_minor": 0
      },
      "text/plain": [
       "Handling Subsubfolders:   0%|          | 0/400 [00:00<?, ?it/s]"
      ]
     },
     "metadata": {},
     "output_type": "display_data"
    },
    {
     "data": {
      "application/vnd.jupyter.widget-view+json": {
       "model_id": "3e593aebb3a146d1bce6bae7920153cc",
       "version_major": 2,
       "version_minor": 0
      },
      "text/plain": [
       "Handling Subsubfolders:   0%|          | 0/400 [00:00<?, ?it/s]"
      ]
     },
     "metadata": {},
     "output_type": "display_data"
    },
    {
     "data": {
      "application/vnd.jupyter.widget-view+json": {
       "model_id": "f303c276185b4d6c8089c59166508c47",
       "version_major": 2,
       "version_minor": 0
      },
      "text/plain": [
       "Handling Subsubfolders:   0%|          | 0/400 [00:00<?, ?it/s]"
      ]
     },
     "metadata": {},
     "output_type": "display_data"
    },
    {
     "data": {
      "application/vnd.jupyter.widget-view+json": {
       "model_id": "710600d97947429e98e43a8adf5bfc6c",
       "version_major": 2,
       "version_minor": 0
      },
      "text/plain": [
       "Handling Subsubfolders:   0%|          | 0/400 [00:00<?, ?it/s]"
      ]
     },
     "metadata": {},
     "output_type": "display_data"
    },
    {
     "data": {
      "application/vnd.jupyter.widget-view+json": {
       "model_id": "ad95160300754d86bf1b756332c12d0b",
       "version_major": 2,
       "version_minor": 0
      },
      "text/plain": [
       "Handling Subsubfolders:   0%|          | 0/400 [00:00<?, ?it/s]"
      ]
     },
     "metadata": {},
     "output_type": "display_data"
    },
    {
     "data": {
      "application/vnd.jupyter.widget-view+json": {
       "model_id": "390588f6fe624e4f8f2e9792bd74f65a",
       "version_major": 2,
       "version_minor": 0
      },
      "text/plain": [
       "Handling Subsubfolders:   0%|          | 0/400 [00:00<?, ?it/s]"
      ]
     },
     "metadata": {},
     "output_type": "display_data"
    },
    {
     "data": {
      "application/vnd.jupyter.widget-view+json": {
       "model_id": "7b089563e38a48d6bc086c78380abafe",
       "version_major": 2,
       "version_minor": 0
      },
      "text/plain": [
       "Handling Subsubfolders:   0%|          | 0/400 [00:00<?, ?it/s]"
      ]
     },
     "metadata": {},
     "output_type": "display_data"
    },
    {
     "data": {
      "application/vnd.jupyter.widget-view+json": {
       "model_id": "209066b8fe3d4ff5969abc971b174c66",
       "version_major": 2,
       "version_minor": 0
      },
      "text/plain": [
       "Handling Subsubfolders:   0%|          | 0/400 [00:00<?, ?it/s]"
      ]
     },
     "metadata": {},
     "output_type": "display_data"
    },
    {
     "data": {
      "application/vnd.jupyter.widget-view+json": {
       "model_id": "5593d903fa264942a72cf03f8adb0934",
       "version_major": 2,
       "version_minor": 0
      },
      "text/plain": [
       "Handling Subsubfolders:   0%|          | 0/400 [00:00<?, ?it/s]"
      ]
     },
     "metadata": {},
     "output_type": "display_data"
    },
    {
     "data": {
      "application/vnd.jupyter.widget-view+json": {
       "model_id": "5eaf588d94ca4495866d82d2be86c6ef",
       "version_major": 2,
       "version_minor": 0
      },
      "text/plain": [
       "Handling Subsubfolders:   0%|          | 0/400 [00:00<?, ?it/s]"
      ]
     },
     "metadata": {},
     "output_type": "display_data"
    },
    {
     "data": {
      "application/vnd.jupyter.widget-view+json": {
       "model_id": "1a1cf35568704d3fad27e66a2d8fb4a8",
       "version_major": 2,
       "version_minor": 0
      },
      "text/plain": [
       "Handling Subsubfolders:   0%|          | 0/400 [00:00<?, ?it/s]"
      ]
     },
     "metadata": {},
     "output_type": "display_data"
    },
    {
     "data": {
      "application/vnd.jupyter.widget-view+json": {
       "model_id": "6c68d1a2b3264189a773e2dfee6e9272",
       "version_major": 2,
       "version_minor": 0
      },
      "text/plain": [
       "Handling Subsubfolders:   0%|          | 0/400 [00:00<?, ?it/s]"
      ]
     },
     "metadata": {},
     "output_type": "display_data"
    },
    {
     "data": {
      "application/vnd.jupyter.widget-view+json": {
       "model_id": "5aaaf624cddf4f29a606c025d6cc2e9a",
       "version_major": 2,
       "version_minor": 0
      },
      "text/plain": [
       "Handling Subsubfolders:   0%|          | 0/400 [00:00<?, ?it/s]"
      ]
     },
     "metadata": {},
     "output_type": "display_data"
    },
    {
     "data": {
      "application/vnd.jupyter.widget-view+json": {
       "model_id": "3275d363dad5420e8a34ec11097497dc",
       "version_major": 2,
       "version_minor": 0
      },
      "text/plain": [
       "Handling Subsubfolders:   0%|          | 0/400 [00:00<?, ?it/s]"
      ]
     },
     "metadata": {},
     "output_type": "display_data"
    },
    {
     "data": {
      "application/vnd.jupyter.widget-view+json": {
       "model_id": "b6fcdf4c791640199357caa87328d785",
       "version_major": 2,
       "version_minor": 0
      },
      "text/plain": [
       "Handling Subsubfolders:   0%|          | 0/400 [00:00<?, ?it/s]"
      ]
     },
     "metadata": {},
     "output_type": "display_data"
    },
    {
     "data": {
      "application/vnd.jupyter.widget-view+json": {
       "model_id": "e8d3a1217af44822a18a1541eb5c1be7",
       "version_major": 2,
       "version_minor": 0
      },
      "text/plain": [
       "Handling Subsubfolders:   0%|          | 0/400 [00:00<?, ?it/s]"
      ]
     },
     "metadata": {},
     "output_type": "display_data"
    },
    {
     "data": {
      "application/vnd.jupyter.widget-view+json": {
       "model_id": "33b6de5ec957410c804acb4cc889e25c",
       "version_major": 2,
       "version_minor": 0
      },
      "text/plain": [
       "Handling Subsubfolders:   0%|          | 0/400 [00:00<?, ?it/s]"
      ]
     },
     "metadata": {},
     "output_type": "display_data"
    },
    {
     "data": {
      "application/vnd.jupyter.widget-view+json": {
       "model_id": "b26b274a765e41399e95fcd3978c0c3c",
       "version_major": 2,
       "version_minor": 0
      },
      "text/plain": [
       "Handling Subsubfolders:   0%|          | 0/400 [00:00<?, ?it/s]"
      ]
     },
     "metadata": {},
     "output_type": "display_data"
    },
    {
     "data": {
      "application/vnd.jupyter.widget-view+json": {
       "model_id": "b2f7cc5dcb324842a28a134208c06e82",
       "version_major": 2,
       "version_minor": 0
      },
      "text/plain": [
       "Handling Subsubfolders:   0%|          | 0/400 [00:00<?, ?it/s]"
      ]
     },
     "metadata": {},
     "output_type": "display_data"
    },
    {
     "data": {
      "application/vnd.jupyter.widget-view+json": {
       "model_id": "a5e6105992e14852ba09cb52d7676437",
       "version_major": 2,
       "version_minor": 0
      },
      "text/plain": [
       "Handling Subsubfolders:   0%|          | 0/400 [00:00<?, ?it/s]"
      ]
     },
     "metadata": {},
     "output_type": "display_data"
    },
    {
     "data": {
      "application/vnd.jupyter.widget-view+json": {
       "model_id": "88e6d12f64ee48378d861192bedfc369",
       "version_major": 2,
       "version_minor": 0
      },
      "text/plain": [
       "Handling Subsubfolders:   0%|          | 0/400 [00:00<?, ?it/s]"
      ]
     },
     "metadata": {},
     "output_type": "display_data"
    },
    {
     "data": {
      "application/vnd.jupyter.widget-view+json": {
       "model_id": "71140ac4912944288b559cc6f261c7ad",
       "version_major": 2,
       "version_minor": 0
      },
      "text/plain": [
       "Handling Subsubfolders:   0%|          | 0/400 [00:00<?, ?it/s]"
      ]
     },
     "metadata": {},
     "output_type": "display_data"
    },
    {
     "data": {
      "application/vnd.jupyter.widget-view+json": {
       "model_id": "8ab216cf52e84d8a942bdb08d0677ed4",
       "version_major": 2,
       "version_minor": 0
      },
      "text/plain": [
       "Handling Subsubfolders:   0%|          | 0/400 [00:00<?, ?it/s]"
      ]
     },
     "metadata": {},
     "output_type": "display_data"
    },
    {
     "data": {
      "application/vnd.jupyter.widget-view+json": {
       "model_id": "34e1dcd4bc714abbb501222218b2857c",
       "version_major": 2,
       "version_minor": 0
      },
      "text/plain": [
       "Handling Subsubfolders:   0%|          | 0/400 [00:00<?, ?it/s]"
      ]
     },
     "metadata": {},
     "output_type": "display_data"
    },
    {
     "data": {
      "application/vnd.jupyter.widget-view+json": {
       "model_id": "be2dafce82dd49118dd2754600499447",
       "version_major": 2,
       "version_minor": 0
      },
      "text/plain": [
       "Handling Subsubfolders:   0%|          | 0/400 [00:00<?, ?it/s]"
      ]
     },
     "metadata": {},
     "output_type": "display_data"
    },
    {
     "data": {
      "application/vnd.jupyter.widget-view+json": {
       "model_id": "a83826a89096422194ce5400b5f7b248",
       "version_major": 2,
       "version_minor": 0
      },
      "text/plain": [
       "Handling Subsubfolders:   0%|          | 0/400 [00:00<?, ?it/s]"
      ]
     },
     "metadata": {},
     "output_type": "display_data"
    },
    {
     "data": {
      "application/vnd.jupyter.widget-view+json": {
       "model_id": "ff9840a030024734800054185fa86b78",
       "version_major": 2,
       "version_minor": 0
      },
      "text/plain": [
       "Handling Subsubfolders:   0%|          | 0/400 [00:00<?, ?it/s]"
      ]
     },
     "metadata": {},
     "output_type": "display_data"
    },
    {
     "data": {
      "application/vnd.jupyter.widget-view+json": {
       "model_id": "fc2595c852a747438a31da9af9603087",
       "version_major": 2,
       "version_minor": 0
      },
      "text/plain": [
       "Handling Subsubfolders:   0%|          | 0/400 [00:00<?, ?it/s]"
      ]
     },
     "metadata": {},
     "output_type": "display_data"
    },
    {
     "data": {
      "application/vnd.jupyter.widget-view+json": {
       "model_id": "053fa498a7c04f6b9756392acf053a91",
       "version_major": 2,
       "version_minor": 0
      },
      "text/plain": [
       "Handling Subsubfolders:   0%|          | 0/400 [00:00<?, ?it/s]"
      ]
     },
     "metadata": {},
     "output_type": "display_data"
    },
    {
     "data": {
      "application/vnd.jupyter.widget-view+json": {
       "model_id": "10bb9d31a95f470f8304a1197c2c835e",
       "version_major": 2,
       "version_minor": 0
      },
      "text/plain": [
       "Handling Subsubfolders:   0%|          | 0/400 [00:00<?, ?it/s]"
      ]
     },
     "metadata": {},
     "output_type": "display_data"
    },
    {
     "data": {
      "application/vnd.jupyter.widget-view+json": {
       "model_id": "9b7fa7310ba04f1a9b70bbee0db6bbfb",
       "version_major": 2,
       "version_minor": 0
      },
      "text/plain": [
       "Handling Subsubfolders:   0%|          | 0/400 [00:00<?, ?it/s]"
      ]
     },
     "metadata": {},
     "output_type": "display_data"
    },
    {
     "data": {
      "application/vnd.jupyter.widget-view+json": {
       "model_id": "6c0e958b96d94a11a9a3572a417eac1a",
       "version_major": 2,
       "version_minor": 0
      },
      "text/plain": [
       "Handling Subsubfolders:   0%|          | 0/400 [00:00<?, ?it/s]"
      ]
     },
     "metadata": {},
     "output_type": "display_data"
    },
    {
     "data": {
      "application/vnd.jupyter.widget-view+json": {
       "model_id": "7877ad1b6f51451fa28fc82ee0ae3ff6",
       "version_major": 2,
       "version_minor": 0
      },
      "text/plain": [
       "Handling Subsubfolders:   0%|          | 0/400 [00:00<?, ?it/s]"
      ]
     },
     "metadata": {},
     "output_type": "display_data"
    },
    {
     "data": {
      "application/vnd.jupyter.widget-view+json": {
       "model_id": "4bd26d716eef40a699a99ad1ddb5a7ab",
       "version_major": 2,
       "version_minor": 0
      },
      "text/plain": [
       "Handling Subsubfolders:   0%|          | 0/400 [00:00<?, ?it/s]"
      ]
     },
     "metadata": {},
     "output_type": "display_data"
    },
    {
     "data": {
      "application/vnd.jupyter.widget-view+json": {
       "model_id": "b70c0c87b9a1412e9d650ad658db7c97",
       "version_major": 2,
       "version_minor": 0
      },
      "text/plain": [
       "Handling Subsubfolders:   0%|          | 0/400 [00:00<?, ?it/s]"
      ]
     },
     "metadata": {},
     "output_type": "display_data"
    },
    {
     "data": {
      "application/vnd.jupyter.widget-view+json": {
       "model_id": "71ff4f99836145da94940bcfd179ae46",
       "version_major": 2,
       "version_minor": 0
      },
      "text/plain": [
       "Handling Subsubfolders:   0%|          | 0/400 [00:00<?, ?it/s]"
      ]
     },
     "metadata": {},
     "output_type": "display_data"
    },
    {
     "data": {
      "application/vnd.jupyter.widget-view+json": {
       "model_id": "e8c74d346e5049259b5d4d94865fd6cb",
       "version_major": 2,
       "version_minor": 0
      },
      "text/plain": [
       "Handling Subsubfolders:   0%|          | 0/400 [00:00<?, ?it/s]"
      ]
     },
     "metadata": {},
     "output_type": "display_data"
    },
    {
     "data": {
      "application/vnd.jupyter.widget-view+json": {
       "model_id": "5b5217fd748d40d480fba4f024d54f19",
       "version_major": 2,
       "version_minor": 0
      },
      "text/plain": [
       "Handling Subsubfolders:   0%|          | 0/400 [00:00<?, ?it/s]"
      ]
     },
     "metadata": {},
     "output_type": "display_data"
    },
    {
     "data": {
      "application/vnd.jupyter.widget-view+json": {
       "model_id": "625243c4ca364a9a8de37f910f0e9277",
       "version_major": 2,
       "version_minor": 0
      },
      "text/plain": [
       "Handling Subsubfolders:   0%|          | 0/400 [00:00<?, ?it/s]"
      ]
     },
     "metadata": {},
     "output_type": "display_data"
    },
    {
     "data": {
      "application/vnd.jupyter.widget-view+json": {
       "model_id": "2aae2825fad247719ac579d2ec7e24cd",
       "version_major": 2,
       "version_minor": 0
      },
      "text/plain": [
       "Handling Subsubfolders:   0%|          | 0/400 [00:00<?, ?it/s]"
      ]
     },
     "metadata": {},
     "output_type": "display_data"
    },
    {
     "data": {
      "application/vnd.jupyter.widget-view+json": {
       "model_id": "ee342c168ac141b69abbb6ad1414856b",
       "version_major": 2,
       "version_minor": 0
      },
      "text/plain": [
       "Handling Subsubfolders:   0%|          | 0/400 [00:00<?, ?it/s]"
      ]
     },
     "metadata": {},
     "output_type": "display_data"
    },
    {
     "data": {
      "application/vnd.jupyter.widget-view+json": {
       "model_id": "b0134f6fddf94a93b28cfa82a18bcaa5",
       "version_major": 2,
       "version_minor": 0
      },
      "text/plain": [
       "Handling Subsubfolders:   0%|          | 0/400 [00:00<?, ?it/s]"
      ]
     },
     "metadata": {},
     "output_type": "display_data"
    },
    {
     "data": {
      "application/vnd.jupyter.widget-view+json": {
       "model_id": "0e89f3e244e745a6b1ca3642085b500f",
       "version_major": 2,
       "version_minor": 0
      },
      "text/plain": [
       "Handling Subsubfolders:   0%|          | 0/400 [00:00<?, ?it/s]"
      ]
     },
     "metadata": {},
     "output_type": "display_data"
    },
    {
     "data": {
      "application/vnd.jupyter.widget-view+json": {
       "model_id": "15214033b7e5476d8d57bb9216e69a7a",
       "version_major": 2,
       "version_minor": 0
      },
      "text/plain": [
       "Handling Subsubfolders:   0%|          | 0/400 [00:00<?, ?it/s]"
      ]
     },
     "metadata": {},
     "output_type": "display_data"
    },
    {
     "data": {
      "application/vnd.jupyter.widget-view+json": {
       "model_id": "73444c83646a48338c6f66b21f1174e6",
       "version_major": 2,
       "version_minor": 0
      },
      "text/plain": [
       "Handling Subsubfolders:   0%|          | 0/400 [00:00<?, ?it/s]"
      ]
     },
     "metadata": {},
     "output_type": "display_data"
    },
    {
     "data": {
      "application/vnd.jupyter.widget-view+json": {
       "model_id": "86052c3351164288adcc2c88bdb87e40",
       "version_major": 2,
       "version_minor": 0
      },
      "text/plain": [
       "Handling Subsubfolders:   0%|          | 0/400 [00:00<?, ?it/s]"
      ]
     },
     "metadata": {},
     "output_type": "display_data"
    },
    {
     "data": {
      "application/vnd.jupyter.widget-view+json": {
       "model_id": "10da92aa8dde4d748586bc96e160edc2",
       "version_major": 2,
       "version_minor": 0
      },
      "text/plain": [
       "Handling Subsubfolders:   0%|          | 0/400 [00:00<?, ?it/s]"
      ]
     },
     "metadata": {},
     "output_type": "display_data"
    },
    {
     "data": {
      "application/vnd.jupyter.widget-view+json": {
       "model_id": "395431a03afb4302b0fc72178a5f8642",
       "version_major": 2,
       "version_minor": 0
      },
      "text/plain": [
       "Handling Subsubfolders:   0%|          | 0/400 [00:00<?, ?it/s]"
      ]
     },
     "metadata": {},
     "output_type": "display_data"
    },
    {
     "data": {
      "application/vnd.jupyter.widget-view+json": {
       "model_id": "564924bd42594fb6ad5ee9b2744c1c4e",
       "version_major": 2,
       "version_minor": 0
      },
      "text/plain": [
       "Handling Subsubfolders:   0%|          | 0/400 [00:00<?, ?it/s]"
      ]
     },
     "metadata": {},
     "output_type": "display_data"
    },
    {
     "data": {
      "application/vnd.jupyter.widget-view+json": {
       "model_id": "e3d6886c0b6c4fb79dfecfd08fcf3000",
       "version_major": 2,
       "version_minor": 0
      },
      "text/plain": [
       "Handling Subsubfolders:   0%|          | 0/400 [00:00<?, ?it/s]"
      ]
     },
     "metadata": {},
     "output_type": "display_data"
    },
    {
     "data": {
      "application/vnd.jupyter.widget-view+json": {
       "model_id": "9d3396ece01d418a9ff76aaf82cdb22d",
       "version_major": 2,
       "version_minor": 0
      },
      "text/plain": [
       "Handling Subsubfolders:   0%|          | 0/400 [00:00<?, ?it/s]"
      ]
     },
     "metadata": {},
     "output_type": "display_data"
    },
    {
     "data": {
      "application/vnd.jupyter.widget-view+json": {
       "model_id": "86dd6698138543a895be2f622b5bcbdf",
       "version_major": 2,
       "version_minor": 0
      },
      "text/plain": [
       "Handling Subsubfolders:   0%|          | 0/400 [00:00<?, ?it/s]"
      ]
     },
     "metadata": {},
     "output_type": "display_data"
    },
    {
     "data": {
      "application/vnd.jupyter.widget-view+json": {
       "model_id": "31c86a81207649f6bee4252869e64990",
       "version_major": 2,
       "version_minor": 0
      },
      "text/plain": [
       "Handling Subsubfolders:   0%|          | 0/400 [00:00<?, ?it/s]"
      ]
     },
     "metadata": {},
     "output_type": "display_data"
    },
    {
     "data": {
      "application/vnd.jupyter.widget-view+json": {
       "model_id": "eabca8326cd3471e96cf98070ac3c3e1",
       "version_major": 2,
       "version_minor": 0
      },
      "text/plain": [
       "Handling Subsubfolders:   0%|          | 0/400 [00:00<?, ?it/s]"
      ]
     },
     "metadata": {},
     "output_type": "display_data"
    },
    {
     "data": {
      "application/vnd.jupyter.widget-view+json": {
       "model_id": "0f028d52af19469c8fa13681d8d6c7eb",
       "version_major": 2,
       "version_minor": 0
      },
      "text/plain": [
       "Handling Subsubfolders:   0%|          | 0/400 [00:00<?, ?it/s]"
      ]
     },
     "metadata": {},
     "output_type": "display_data"
    },
    {
     "data": {
      "application/vnd.jupyter.widget-view+json": {
       "model_id": "8f1c786481e347578546c27369fe8481",
       "version_major": 2,
       "version_minor": 0
      },
      "text/plain": [
       "Handling Subsubfolders:   0%|          | 0/400 [00:00<?, ?it/s]"
      ]
     },
     "metadata": {},
     "output_type": "display_data"
    },
    {
     "data": {
      "application/vnd.jupyter.widget-view+json": {
       "model_id": "14272de7753d49a7bd658567c5426290",
       "version_major": 2,
       "version_minor": 0
      },
      "text/plain": [
       "Handling Subsubfolders:   0%|          | 0/400 [00:00<?, ?it/s]"
      ]
     },
     "metadata": {},
     "output_type": "display_data"
    },
    {
     "data": {
      "application/vnd.jupyter.widget-view+json": {
       "model_id": "782ef7b8555e40379a41c5d7b36f5c08",
       "version_major": 2,
       "version_minor": 0
      },
      "text/plain": [
       "Handling Subsubfolders:   0%|          | 0/400 [00:00<?, ?it/s]"
      ]
     },
     "metadata": {},
     "output_type": "display_data"
    },
    {
     "data": {
      "application/vnd.jupyter.widget-view+json": {
       "model_id": "0790a09dfd0b4063addd422d56b5f32d",
       "version_major": 2,
       "version_minor": 0
      },
      "text/plain": [
       "Handling Subsubfolders:   0%|          | 0/400 [00:00<?, ?it/s]"
      ]
     },
     "metadata": {},
     "output_type": "display_data"
    },
    {
     "data": {
      "application/vnd.jupyter.widget-view+json": {
       "model_id": "d7a63963a6bf41d489bdb61855a36a79",
       "version_major": 2,
       "version_minor": 0
      },
      "text/plain": [
       "Handling Subsubfolders:   0%|          | 0/400 [00:00<?, ?it/s]"
      ]
     },
     "metadata": {},
     "output_type": "display_data"
    },
    {
     "data": {
      "application/vnd.jupyter.widget-view+json": {
       "model_id": "524580874ef448d3bad179d87d8b0c91",
       "version_major": 2,
       "version_minor": 0
      },
      "text/plain": [
       "Handling Subsubfolders:   0%|          | 0/400 [00:00<?, ?it/s]"
      ]
     },
     "metadata": {},
     "output_type": "display_data"
    },
    {
     "data": {
      "application/vnd.jupyter.widget-view+json": {
       "model_id": "4b66aa9373f740eda194dac3d3cbdf60",
       "version_major": 2,
       "version_minor": 0
      },
      "text/plain": [
       "Handling Subsubfolders:   0%|          | 0/400 [00:00<?, ?it/s]"
      ]
     },
     "metadata": {},
     "output_type": "display_data"
    },
    {
     "data": {
      "application/vnd.jupyter.widget-view+json": {
       "model_id": "140c7a2bbefa4b10a1145a8cd295fa2b",
       "version_major": 2,
       "version_minor": 0
      },
      "text/plain": [
       "Handling Subsubfolders:   0%|          | 0/400 [00:00<?, ?it/s]"
      ]
     },
     "metadata": {},
     "output_type": "display_data"
    },
    {
     "data": {
      "application/vnd.jupyter.widget-view+json": {
       "model_id": "7ce182c829fd491c82afd0f6752f04d2",
       "version_major": 2,
       "version_minor": 0
      },
      "text/plain": [
       "Handling Subsubfolders:   0%|          | 0/400 [00:00<?, ?it/s]"
      ]
     },
     "metadata": {},
     "output_type": "display_data"
    },
    {
     "data": {
      "application/vnd.jupyter.widget-view+json": {
       "model_id": "7abbfca5da524605b95211f1ce931c9a",
       "version_major": 2,
       "version_minor": 0
      },
      "text/plain": [
       "Handling Subsubfolders:   0%|          | 0/400 [00:00<?, ?it/s]"
      ]
     },
     "metadata": {},
     "output_type": "display_data"
    },
    {
     "data": {
      "application/vnd.jupyter.widget-view+json": {
       "model_id": "c51b0b2f47d9477d82f381a18eec53a3",
       "version_major": 2,
       "version_minor": 0
      },
      "text/plain": [
       "Handling Subsubfolders:   0%|          | 0/400 [00:00<?, ?it/s]"
      ]
     },
     "metadata": {},
     "output_type": "display_data"
    },
    {
     "data": {
      "application/vnd.jupyter.widget-view+json": {
       "model_id": "323f30d4c7344512a3c33f2f4db1cf9b",
       "version_major": 2,
       "version_minor": 0
      },
      "text/plain": [
       "Handling Subsubfolders:   0%|          | 0/400 [00:00<?, ?it/s]"
      ]
     },
     "metadata": {},
     "output_type": "display_data"
    },
    {
     "data": {
      "application/vnd.jupyter.widget-view+json": {
       "model_id": "97afbfa6699c41dba87cb2ea3fda5639",
       "version_major": 2,
       "version_minor": 0
      },
      "text/plain": [
       "Handling Subsubfolders:   0%|          | 0/400 [00:00<?, ?it/s]"
      ]
     },
     "metadata": {},
     "output_type": "display_data"
    },
    {
     "data": {
      "application/vnd.jupyter.widget-view+json": {
       "model_id": "ca0863efbdc54ef49db1458690dd2880",
       "version_major": 2,
       "version_minor": 0
      },
      "text/plain": [
       "Handling Subsubfolders:   0%|          | 0/400 [00:00<?, ?it/s]"
      ]
     },
     "metadata": {},
     "output_type": "display_data"
    },
    {
     "data": {
      "application/vnd.jupyter.widget-view+json": {
       "model_id": "5454969393e34454a258e1470ad35beb",
       "version_major": 2,
       "version_minor": 0
      },
      "text/plain": [
       "Handling Subsubfolders:   0%|          | 0/400 [00:00<?, ?it/s]"
      ]
     },
     "metadata": {},
     "output_type": "display_data"
    },
    {
     "data": {
      "application/vnd.jupyter.widget-view+json": {
       "model_id": "4739b641fb014434b060fecc49acd231",
       "version_major": 2,
       "version_minor": 0
      },
      "text/plain": [
       "Handling Subsubfolders:   0%|          | 0/400 [00:00<?, ?it/s]"
      ]
     },
     "metadata": {},
     "output_type": "display_data"
    },
    {
     "data": {
      "application/vnd.jupyter.widget-view+json": {
       "model_id": "f95f4d64b318446abfbe5a56f9e30649",
       "version_major": 2,
       "version_minor": 0
      },
      "text/plain": [
       "Handling Subsubfolders:   0%|          | 0/400 [00:00<?, ?it/s]"
      ]
     },
     "metadata": {},
     "output_type": "display_data"
    },
    {
     "data": {
      "application/vnd.jupyter.widget-view+json": {
       "model_id": "da9169ae12cf4854827035e18d5fa302",
       "version_major": 2,
       "version_minor": 0
      },
      "text/plain": [
       "Handling Subsubfolders:   0%|          | 0/400 [00:00<?, ?it/s]"
      ]
     },
     "metadata": {},
     "output_type": "display_data"
    },
    {
     "data": {
      "application/vnd.jupyter.widget-view+json": {
       "model_id": "791cdaedd6b045ef986566ecdba3c760",
       "version_major": 2,
       "version_minor": 0
      },
      "text/plain": [
       "Handling Subsubfolders:   0%|          | 0/400 [00:00<?, ?it/s]"
      ]
     },
     "metadata": {},
     "output_type": "display_data"
    },
    {
     "data": {
      "application/vnd.jupyter.widget-view+json": {
       "model_id": "6cb6fb562af64d78816824f7efdb94af",
       "version_major": 2,
       "version_minor": 0
      },
      "text/plain": [
       "Handling Subsubfolders:   0%|          | 0/400 [00:00<?, ?it/s]"
      ]
     },
     "metadata": {},
     "output_type": "display_data"
    },
    {
     "data": {
      "application/vnd.jupyter.widget-view+json": {
       "model_id": "f4a26391f0a448d89cd64ab9d92b0d60",
       "version_major": 2,
       "version_minor": 0
      },
      "text/plain": [
       "Handling Subsubfolders:   0%|          | 0/400 [00:00<?, ?it/s]"
      ]
     },
     "metadata": {},
     "output_type": "display_data"
    },
    {
     "data": {
      "application/vnd.jupyter.widget-view+json": {
       "model_id": "af2cec0950864c6a821b3be65c729627",
       "version_major": 2,
       "version_minor": 0
      },
      "text/plain": [
       "Handling Subsubfolders:   0%|          | 0/400 [00:00<?, ?it/s]"
      ]
     },
     "metadata": {},
     "output_type": "display_data"
    },
    {
     "data": {
      "application/vnd.jupyter.widget-view+json": {
       "model_id": "382f11cbf705400eabdb7edb3c82cb84",
       "version_major": 2,
       "version_minor": 0
      },
      "text/plain": [
       "Handling Subsubfolders:   0%|          | 0/400 [00:00<?, ?it/s]"
      ]
     },
     "metadata": {},
     "output_type": "display_data"
    },
    {
     "data": {
      "application/vnd.jupyter.widget-view+json": {
       "model_id": "ca5c923798804c00a12c6e8a59a2fc35",
       "version_major": 2,
       "version_minor": 0
      },
      "text/plain": [
       "Handling Subsubfolders:   0%|          | 0/400 [00:00<?, ?it/s]"
      ]
     },
     "metadata": {},
     "output_type": "display_data"
    },
    {
     "data": {
      "application/vnd.jupyter.widget-view+json": {
       "model_id": "282af4f936584013a76ad2fa84b6eac6",
       "version_major": 2,
       "version_minor": 0
      },
      "text/plain": [
       "Handling Subsubfolders:   0%|          | 0/400 [00:00<?, ?it/s]"
      ]
     },
     "metadata": {},
     "output_type": "display_data"
    },
    {
     "data": {
      "application/vnd.jupyter.widget-view+json": {
       "model_id": "a41732b4f8bc4dd4876c9746fb4dbc5d",
       "version_major": 2,
       "version_minor": 0
      },
      "text/plain": [
       "Handling Subsubfolders:   0%|          | 0/400 [00:00<?, ?it/s]"
      ]
     },
     "metadata": {},
     "output_type": "display_data"
    },
    {
     "data": {
      "application/vnd.jupyter.widget-view+json": {
       "model_id": "28382d0f0e13419e9365a488c8107bb7",
       "version_major": 2,
       "version_minor": 0
      },
      "text/plain": [
       "Handling Subsubfolders:   0%|          | 0/400 [00:00<?, ?it/s]"
      ]
     },
     "metadata": {},
     "output_type": "display_data"
    },
    {
     "data": {
      "application/vnd.jupyter.widget-view+json": {
       "model_id": "851778351fc847f4b6faa8dba4500d8a",
       "version_major": 2,
       "version_minor": 0
      },
      "text/plain": [
       "Handling Subsubfolders:   0%|          | 0/400 [00:00<?, ?it/s]"
      ]
     },
     "metadata": {},
     "output_type": "display_data"
    },
    {
     "data": {
      "application/vnd.jupyter.widget-view+json": {
       "model_id": "729663d90e1f4b97b132a32baf1f2b6f",
       "version_major": 2,
       "version_minor": 0
      },
      "text/plain": [
       "Handling Subsubfolders:   0%|          | 0/400 [00:00<?, ?it/s]"
      ]
     },
     "metadata": {},
     "output_type": "display_data"
    },
    {
     "data": {
      "application/vnd.jupyter.widget-view+json": {
       "model_id": "e2b35535801a41d1bcf13747bb340440",
       "version_major": 2,
       "version_minor": 0
      },
      "text/plain": [
       "Handling Subsubfolders:   0%|          | 0/400 [00:00<?, ?it/s]"
      ]
     },
     "metadata": {},
     "output_type": "display_data"
    },
    {
     "data": {
      "application/vnd.jupyter.widget-view+json": {
       "model_id": "aaa72ac1b8054c8cb4a0898be0311115",
       "version_major": 2,
       "version_minor": 0
      },
      "text/plain": [
       "Handling Subsubfolders:   0%|          | 0/400 [00:00<?, ?it/s]"
      ]
     },
     "metadata": {},
     "output_type": "display_data"
    },
    {
     "data": {
      "application/vnd.jupyter.widget-view+json": {
       "model_id": "263fe5079cb246868dfbe594a763e051",
       "version_major": 2,
       "version_minor": 0
      },
      "text/plain": [
       "Handling Subsubfolders:   0%|          | 0/400 [00:00<?, ?it/s]"
      ]
     },
     "metadata": {},
     "output_type": "display_data"
    },
    {
     "data": {
      "application/vnd.jupyter.widget-view+json": {
       "model_id": "ff68f15a2dc24ffea4e534ca5d9efd17",
       "version_major": 2,
       "version_minor": 0
      },
      "text/plain": [
       "Handling Subsubfolders:   0%|          | 0/400 [00:00<?, ?it/s]"
      ]
     },
     "metadata": {},
     "output_type": "display_data"
    },
    {
     "data": {
      "application/vnd.jupyter.widget-view+json": {
       "model_id": "73a0fa51049a4839b28b1705cc0b31de",
       "version_major": 2,
       "version_minor": 0
      },
      "text/plain": [
       "Handling Subsubfolders:   0%|          | 0/400 [00:00<?, ?it/s]"
      ]
     },
     "metadata": {},
     "output_type": "display_data"
    },
    {
     "data": {
      "application/vnd.jupyter.widget-view+json": {
       "model_id": "c10fd5bf532d4e33acfad9d8bc355f2c",
       "version_major": 2,
       "version_minor": 0
      },
      "text/plain": [
       "Handling Subsubfolders:   0%|          | 0/400 [00:00<?, ?it/s]"
      ]
     },
     "metadata": {},
     "output_type": "display_data"
    },
    {
     "data": {
      "application/vnd.jupyter.widget-view+json": {
       "model_id": "7ed6b983d13e40aca3206322b2cac5e7",
       "version_major": 2,
       "version_minor": 0
      },
      "text/plain": [
       "Handling Subsubfolders:   0%|          | 0/400 [00:00<?, ?it/s]"
      ]
     },
     "metadata": {},
     "output_type": "display_data"
    },
    {
     "data": {
      "application/vnd.jupyter.widget-view+json": {
       "model_id": "0ed13dd8946b48c28ec4214f4a8b9e84",
       "version_major": 2,
       "version_minor": 0
      },
      "text/plain": [
       "Handling Subsubfolders:   0%|          | 0/400 [00:00<?, ?it/s]"
      ]
     },
     "metadata": {},
     "output_type": "display_data"
    },
    {
     "data": {
      "application/vnd.jupyter.widget-view+json": {
       "model_id": "02971fe89acc4fcabf05e0d9920b993f",
       "version_major": 2,
       "version_minor": 0
      },
      "text/plain": [
       "Handling Subsubfolders:   0%|          | 0/400 [00:00<?, ?it/s]"
      ]
     },
     "metadata": {},
     "output_type": "display_data"
    },
    {
     "data": {
      "application/vnd.jupyter.widget-view+json": {
       "model_id": "f0c3693d6b7a44e7818d09d93db35615",
       "version_major": 2,
       "version_minor": 0
      },
      "text/plain": [
       "Handling Subsubfolders:   0%|          | 0/400 [00:00<?, ?it/s]"
      ]
     },
     "metadata": {},
     "output_type": "display_data"
    },
    {
     "data": {
      "application/vnd.jupyter.widget-view+json": {
       "model_id": "e7f47d0854384fb88513302da8260852",
       "version_major": 2,
       "version_minor": 0
      },
      "text/plain": [
       "Handling Subsubfolders:   0%|          | 0/400 [00:00<?, ?it/s]"
      ]
     },
     "metadata": {},
     "output_type": "display_data"
    },
    {
     "data": {
      "application/vnd.jupyter.widget-view+json": {
       "model_id": "d00359fca4cc42a8aae144efdc456160",
       "version_major": 2,
       "version_minor": 0
      },
      "text/plain": [
       "Handling Subsubfolders:   0%|          | 0/400 [00:00<?, ?it/s]"
      ]
     },
     "metadata": {},
     "output_type": "display_data"
    },
    {
     "data": {
      "application/vnd.jupyter.widget-view+json": {
       "model_id": "4d5df1187a1e4f829cb52de30d6389ed",
       "version_major": 2,
       "version_minor": 0
      },
      "text/plain": [
       "Handling Subsubfolders:   0%|          | 0/400 [00:00<?, ?it/s]"
      ]
     },
     "metadata": {},
     "output_type": "display_data"
    },
    {
     "data": {
      "application/vnd.jupyter.widget-view+json": {
       "model_id": "936403bf43604139adee26c998d49c28",
       "version_major": 2,
       "version_minor": 0
      },
      "text/plain": [
       "Handling Subsubfolders:   0%|          | 0/400 [00:00<?, ?it/s]"
      ]
     },
     "metadata": {},
     "output_type": "display_data"
    },
    {
     "data": {
      "application/vnd.jupyter.widget-view+json": {
       "model_id": "ace4a1d6fb66402e83d9cb4507406580",
       "version_major": 2,
       "version_minor": 0
      },
      "text/plain": [
       "Handling Subsubfolders:   0%|          | 0/400 [00:00<?, ?it/s]"
      ]
     },
     "metadata": {},
     "output_type": "display_data"
    },
    {
     "data": {
      "application/vnd.jupyter.widget-view+json": {
       "model_id": "4f0401b0441a48b4904944c37836b42d",
       "version_major": 2,
       "version_minor": 0
      },
      "text/plain": [
       "Handling Subsubfolders:   0%|          | 0/400 [00:00<?, ?it/s]"
      ]
     },
     "metadata": {},
     "output_type": "display_data"
    },
    {
     "data": {
      "application/vnd.jupyter.widget-view+json": {
       "model_id": "0e09798903164771b30132a7da3e195f",
       "version_major": 2,
       "version_minor": 0
      },
      "text/plain": [
       "Handling Subsubfolders:   0%|          | 0/400 [00:00<?, ?it/s]"
      ]
     },
     "metadata": {},
     "output_type": "display_data"
    },
    {
     "data": {
      "application/vnd.jupyter.widget-view+json": {
       "model_id": "214af183a96c4de2b1d2fb6372559d38",
       "version_major": 2,
       "version_minor": 0
      },
      "text/plain": [
       "Handling Subsubfolders:   0%|          | 0/400 [00:00<?, ?it/s]"
      ]
     },
     "metadata": {},
     "output_type": "display_data"
    },
    {
     "data": {
      "application/vnd.jupyter.widget-view+json": {
       "model_id": "9d1f66e468ba4f10966f922563f4a973",
       "version_major": 2,
       "version_minor": 0
      },
      "text/plain": [
       "Handling Subsubfolders:   0%|          | 0/400 [00:00<?, ?it/s]"
      ]
     },
     "metadata": {},
     "output_type": "display_data"
    },
    {
     "data": {
      "application/vnd.jupyter.widget-view+json": {
       "model_id": "2573dfe56e314093bc55ed8d54fbb74d",
       "version_major": 2,
       "version_minor": 0
      },
      "text/plain": [
       "Handling Subsubfolders:   0%|          | 0/400 [00:00<?, ?it/s]"
      ]
     },
     "metadata": {},
     "output_type": "display_data"
    },
    {
     "data": {
      "application/vnd.jupyter.widget-view+json": {
       "model_id": "ca67cf3aeb774944b5e8499759bd42ab",
       "version_major": 2,
       "version_minor": 0
      },
      "text/plain": [
       "Handling Subsubfolders:   0%|          | 0/400 [00:00<?, ?it/s]"
      ]
     },
     "metadata": {},
     "output_type": "display_data"
    },
    {
     "data": {
      "application/vnd.jupyter.widget-view+json": {
       "model_id": "7f42a80bde3541c7a3d47fccb5ca4291",
       "version_major": 2,
       "version_minor": 0
      },
      "text/plain": [
       "Handling Subsubfolders:   0%|          | 0/400 [00:00<?, ?it/s]"
      ]
     },
     "metadata": {},
     "output_type": "display_data"
    },
    {
     "data": {
      "application/vnd.jupyter.widget-view+json": {
       "model_id": "03f7411fad1449808ff52d9a515f0ac6",
       "version_major": 2,
       "version_minor": 0
      },
      "text/plain": [
       "Handling Subsubfolders:   0%|          | 0/400 [00:00<?, ?it/s]"
      ]
     },
     "metadata": {},
     "output_type": "display_data"
    },
    {
     "data": {
      "application/vnd.jupyter.widget-view+json": {
       "model_id": "098789631a2c400ba6d07e99294a46bc",
       "version_major": 2,
       "version_minor": 0
      },
      "text/plain": [
       "Handling Subsubfolders:   0%|          | 0/400 [00:00<?, ?it/s]"
      ]
     },
     "metadata": {},
     "output_type": "display_data"
    },
    {
     "data": {
      "application/vnd.jupyter.widget-view+json": {
       "model_id": "b12ee2e763b94620ae14cbb75d121607",
       "version_major": 2,
       "version_minor": 0
      },
      "text/plain": [
       "Handling Subsubfolders:   0%|          | 0/400 [00:00<?, ?it/s]"
      ]
     },
     "metadata": {},
     "output_type": "display_data"
    },
    {
     "data": {
      "application/vnd.jupyter.widget-view+json": {
       "model_id": "ec2c7854ba4c40eb8b2440f698f97024",
       "version_major": 2,
       "version_minor": 0
      },
      "text/plain": [
       "Handling Subsubfolders:   0%|          | 0/400 [00:00<?, ?it/s]"
      ]
     },
     "metadata": {},
     "output_type": "display_data"
    },
    {
     "data": {
      "application/vnd.jupyter.widget-view+json": {
       "model_id": "e8646309ef3e4602a443044e890a6162",
       "version_major": 2,
       "version_minor": 0
      },
      "text/plain": [
       "Handling Subsubfolders:   0%|          | 0/400 [00:00<?, ?it/s]"
      ]
     },
     "metadata": {},
     "output_type": "display_data"
    },
    {
     "data": {
      "application/vnd.jupyter.widget-view+json": {
       "model_id": "1c7a235a040e498d93844e48cda822d3",
       "version_major": 2,
       "version_minor": 0
      },
      "text/plain": [
       "Handling Subsubfolders:   0%|          | 0/400 [00:00<?, ?it/s]"
      ]
     },
     "metadata": {},
     "output_type": "display_data"
    },
    {
     "data": {
      "application/vnd.jupyter.widget-view+json": {
       "model_id": "20fe756b7ef548cfa2936d25372d13f4",
       "version_major": 2,
       "version_minor": 0
      },
      "text/plain": [
       "Handling Subsubfolders:   0%|          | 0/400 [00:00<?, ?it/s]"
      ]
     },
     "metadata": {},
     "output_type": "display_data"
    },
    {
     "data": {
      "application/vnd.jupyter.widget-view+json": {
       "model_id": "320d48b4063348079ad1067726f74aff",
       "version_major": 2,
       "version_minor": 0
      },
      "text/plain": [
       "Handling Subsubfolders:   0%|          | 0/400 [00:00<?, ?it/s]"
      ]
     },
     "metadata": {},
     "output_type": "display_data"
    },
    {
     "data": {
      "application/vnd.jupyter.widget-view+json": {
       "model_id": "b90fab0470954da89ed0a1c0cdc76b63",
       "version_major": 2,
       "version_minor": 0
      },
      "text/plain": [
       "Handling Subsubfolders:   0%|          | 0/400 [00:00<?, ?it/s]"
      ]
     },
     "metadata": {},
     "output_type": "display_data"
    },
    {
     "data": {
      "application/vnd.jupyter.widget-view+json": {
       "model_id": "e8a880fc09d643c8ac1cefe358b9d11c",
       "version_major": 2,
       "version_minor": 0
      },
      "text/plain": [
       "Handling Subsubfolders:   0%|          | 0/400 [00:00<?, ?it/s]"
      ]
     },
     "metadata": {},
     "output_type": "display_data"
    },
    {
     "data": {
      "application/vnd.jupyter.widget-view+json": {
       "model_id": "d38167f889d44f91be8610bda8dbc4a4",
       "version_major": 2,
       "version_minor": 0
      },
      "text/plain": [
       "Handling Subsubfolders:   0%|          | 0/400 [00:00<?, ?it/s]"
      ]
     },
     "metadata": {},
     "output_type": "display_data"
    },
    {
     "data": {
      "application/vnd.jupyter.widget-view+json": {
       "model_id": "cf06b442c8a045f1802d53f029611369",
       "version_major": 2,
       "version_minor": 0
      },
      "text/plain": [
       "Handling Subsubfolders:   0%|          | 0/400 [00:00<?, ?it/s]"
      ]
     },
     "metadata": {},
     "output_type": "display_data"
    },
    {
     "data": {
      "application/vnd.jupyter.widget-view+json": {
       "model_id": "65411bc728614623ac12ca7d7d71a616",
       "version_major": 2,
       "version_minor": 0
      },
      "text/plain": [
       "Handling Subsubfolders:   0%|          | 0/400 [00:00<?, ?it/s]"
      ]
     },
     "metadata": {},
     "output_type": "display_data"
    },
    {
     "data": {
      "application/vnd.jupyter.widget-view+json": {
       "model_id": "e813a00f0def4ab08a900da95c8f7d32",
       "version_major": 2,
       "version_minor": 0
      },
      "text/plain": [
       "Handling Subsubfolders:   0%|          | 0/400 [00:00<?, ?it/s]"
      ]
     },
     "metadata": {},
     "output_type": "display_data"
    },
    {
     "data": {
      "application/vnd.jupyter.widget-view+json": {
       "model_id": "f837a454f05d446981c3d7b9378f4b48",
       "version_major": 2,
       "version_minor": 0
      },
      "text/plain": [
       "Handling Subsubfolders:   0%|          | 0/400 [00:00<?, ?it/s]"
      ]
     },
     "metadata": {},
     "output_type": "display_data"
    },
    {
     "data": {
      "application/vnd.jupyter.widget-view+json": {
       "model_id": "d8ccd7ee77224c2085a0deb5c6577d0a",
       "version_major": 2,
       "version_minor": 0
      },
      "text/plain": [
       "Handling Subsubfolders:   0%|          | 0/400 [00:00<?, ?it/s]"
      ]
     },
     "metadata": {},
     "output_type": "display_data"
    },
    {
     "data": {
      "application/vnd.jupyter.widget-view+json": {
       "model_id": "8ecc7ddc948542789d000a0ac22b2718",
       "version_major": 2,
       "version_minor": 0
      },
      "text/plain": [
       "Handling Subsubfolders:   0%|          | 0/400 [00:00<?, ?it/s]"
      ]
     },
     "metadata": {},
     "output_type": "display_data"
    },
    {
     "data": {
      "application/vnd.jupyter.widget-view+json": {
       "model_id": "2adc8a1b0f22433ba4192f2cafec2641",
       "version_major": 2,
       "version_minor": 0
      },
      "text/plain": [
       "Handling Subsubfolders:   0%|          | 0/400 [00:00<?, ?it/s]"
      ]
     },
     "metadata": {},
     "output_type": "display_data"
    },
    {
     "data": {
      "application/vnd.jupyter.widget-view+json": {
       "model_id": "be2ee35906104cf1bebdc36460baab96",
       "version_major": 2,
       "version_minor": 0
      },
      "text/plain": [
       "Handling Subsubfolders:   0%|          | 0/400 [00:00<?, ?it/s]"
      ]
     },
     "metadata": {},
     "output_type": "display_data"
    },
    {
     "data": {
      "application/vnd.jupyter.widget-view+json": {
       "model_id": "9b1c624697bc4ea3a2908acb08c960a4",
       "version_major": 2,
       "version_minor": 0
      },
      "text/plain": [
       "Handling Subsubfolders:   0%|          | 0/400 [00:00<?, ?it/s]"
      ]
     },
     "metadata": {},
     "output_type": "display_data"
    },
    {
     "data": {
      "application/vnd.jupyter.widget-view+json": {
       "model_id": "b0eec14b8bef46f6b6f7276d3dec9c40",
       "version_major": 2,
       "version_minor": 0
      },
      "text/plain": [
       "Handling Subsubfolders:   0%|          | 0/400 [00:00<?, ?it/s]"
      ]
     },
     "metadata": {},
     "output_type": "display_data"
    },
    {
     "data": {
      "application/vnd.jupyter.widget-view+json": {
       "model_id": "87c9e87dad1548d1992cf99c252d07a3",
       "version_major": 2,
       "version_minor": 0
      },
      "text/plain": [
       "Handling Subsubfolders:   0%|          | 0/400 [00:00<?, ?it/s]"
      ]
     },
     "metadata": {},
     "output_type": "display_data"
    },
    {
     "data": {
      "application/vnd.jupyter.widget-view+json": {
       "model_id": "de92b74c488d48ec9a81fb06891e97e6",
       "version_major": 2,
       "version_minor": 0
      },
      "text/plain": [
       "Handling Subsubfolders:   0%|          | 0/400 [00:00<?, ?it/s]"
      ]
     },
     "metadata": {},
     "output_type": "display_data"
    },
    {
     "data": {
      "application/vnd.jupyter.widget-view+json": {
       "model_id": "411907ca640440bf9656eac6fe3978bf",
       "version_major": 2,
       "version_minor": 0
      },
      "text/plain": [
       "Handling Subsubfolders:   0%|          | 0/400 [00:00<?, ?it/s]"
      ]
     },
     "metadata": {},
     "output_type": "display_data"
    },
    {
     "data": {
      "application/vnd.jupyter.widget-view+json": {
       "model_id": "13ac3cd5b5a14922a931febf46b23a3f",
       "version_major": 2,
       "version_minor": 0
      },
      "text/plain": [
       "Handling Subsubfolders:   0%|          | 0/400 [00:00<?, ?it/s]"
      ]
     },
     "metadata": {},
     "output_type": "display_data"
    },
    {
     "data": {
      "application/vnd.jupyter.widget-view+json": {
       "model_id": "4674675727ee41a89e5a50ef349f6dd5",
       "version_major": 2,
       "version_minor": 0
      },
      "text/plain": [
       "Handling Subsubfolders:   0%|          | 0/400 [00:00<?, ?it/s]"
      ]
     },
     "metadata": {},
     "output_type": "display_data"
    },
    {
     "data": {
      "application/vnd.jupyter.widget-view+json": {
       "model_id": "7e272eb81325434c8706563ebce87529",
       "version_major": 2,
       "version_minor": 0
      },
      "text/plain": [
       "Handling Subsubfolders:   0%|          | 0/400 [00:00<?, ?it/s]"
      ]
     },
     "metadata": {},
     "output_type": "display_data"
    },
    {
     "data": {
      "application/vnd.jupyter.widget-view+json": {
       "model_id": "a0197e84bddd4efabffb06af26aaae9c",
       "version_major": 2,
       "version_minor": 0
      },
      "text/plain": [
       "Handling Subsubfolders:   0%|          | 0/400 [00:00<?, ?it/s]"
      ]
     },
     "metadata": {},
     "output_type": "display_data"
    },
    {
     "data": {
      "application/vnd.jupyter.widget-view+json": {
       "model_id": "c43e6dd8b8644868b9728ea4370eb24f",
       "version_major": 2,
       "version_minor": 0
      },
      "text/plain": [
       "Handling Subsubfolders:   0%|          | 0/400 [00:00<?, ?it/s]"
      ]
     },
     "metadata": {},
     "output_type": "display_data"
    },
    {
     "data": {
      "application/vnd.jupyter.widget-view+json": {
       "model_id": "e2931d46c0d1462d9fff136eda213ddf",
       "version_major": 2,
       "version_minor": 0
      },
      "text/plain": [
       "Handling Subsubfolders:   0%|          | 0/400 [00:00<?, ?it/s]"
      ]
     },
     "metadata": {},
     "output_type": "display_data"
    },
    {
     "data": {
      "application/vnd.jupyter.widget-view+json": {
       "model_id": "d095f3406ccd426e82b3979199d89c47",
       "version_major": 2,
       "version_minor": 0
      },
      "text/plain": [
       "Handling Subsubfolders:   0%|          | 0/400 [00:00<?, ?it/s]"
      ]
     },
     "metadata": {},
     "output_type": "display_data"
    },
    {
     "data": {
      "application/vnd.jupyter.widget-view+json": {
       "model_id": "08bd6965ecea41c2944f3cdc36b0f204",
       "version_major": 2,
       "version_minor": 0
      },
      "text/plain": [
       "Handling Subsubfolders:   0%|          | 0/400 [00:00<?, ?it/s]"
      ]
     },
     "metadata": {},
     "output_type": "display_data"
    },
    {
     "data": {
      "application/vnd.jupyter.widget-view+json": {
       "model_id": "656f8cf2028e425bbad2132354ae5e3f",
       "version_major": 2,
       "version_minor": 0
      },
      "text/plain": [
       "Handling Subsubfolders:   0%|          | 0/400 [00:00<?, ?it/s]"
      ]
     },
     "metadata": {},
     "output_type": "display_data"
    },
    {
     "data": {
      "application/vnd.jupyter.widget-view+json": {
       "model_id": "28ee6439b67c4bf98004e692ce4b2203",
       "version_major": 2,
       "version_minor": 0
      },
      "text/plain": [
       "Handling Subsubfolders:   0%|          | 0/400 [00:00<?, ?it/s]"
      ]
     },
     "metadata": {},
     "output_type": "display_data"
    },
    {
     "data": {
      "application/vnd.jupyter.widget-view+json": {
       "model_id": "8b7f181c9e0a433c99ff5fd5dbe286da",
       "version_major": 2,
       "version_minor": 0
      },
      "text/plain": [
       "Handling Subsubfolders:   0%|          | 0/400 [00:00<?, ?it/s]"
      ]
     },
     "metadata": {},
     "output_type": "display_data"
    },
    {
     "data": {
      "application/vnd.jupyter.widget-view+json": {
       "model_id": "6cb3aef8276e41f08cc9cc6110dff960",
       "version_major": 2,
       "version_minor": 0
      },
      "text/plain": [
       "Handling Subsubfolders:   0%|          | 0/400 [00:00<?, ?it/s]"
      ]
     },
     "metadata": {},
     "output_type": "display_data"
    },
    {
     "data": {
      "application/vnd.jupyter.widget-view+json": {
       "model_id": "898d1d75fee2418f81acb85fb743e219",
       "version_major": 2,
       "version_minor": 0
      },
      "text/plain": [
       "Handling Subsubfolders:   0%|          | 0/400 [00:00<?, ?it/s]"
      ]
     },
     "metadata": {},
     "output_type": "display_data"
    },
    {
     "data": {
      "application/vnd.jupyter.widget-view+json": {
       "model_id": "f27d9901338b4a0b96aa25e30c32b516",
       "version_major": 2,
       "version_minor": 0
      },
      "text/plain": [
       "Handling Subsubfolders:   0%|          | 0/400 [00:00<?, ?it/s]"
      ]
     },
     "metadata": {},
     "output_type": "display_data"
    },
    {
     "data": {
      "application/vnd.jupyter.widget-view+json": {
       "model_id": "bfbf6f480dd64707a562dc729a27e037",
       "version_major": 2,
       "version_minor": 0
      },
      "text/plain": [
       "Handling Subsubfolders:   0%|          | 0/400 [00:00<?, ?it/s]"
      ]
     },
     "metadata": {},
     "output_type": "display_data"
    },
    {
     "data": {
      "application/vnd.jupyter.widget-view+json": {
       "model_id": "7899d8fbfef54b7092cf654464c0f260",
       "version_major": 2,
       "version_minor": 0
      },
      "text/plain": [
       "Handling Subsubfolders:   0%|          | 0/400 [00:00<?, ?it/s]"
      ]
     },
     "metadata": {},
     "output_type": "display_data"
    },
    {
     "data": {
      "application/vnd.jupyter.widget-view+json": {
       "model_id": "2c645b13eead4a12a30389a680b51894",
       "version_major": 2,
       "version_minor": 0
      },
      "text/plain": [
       "Handling Subsubfolders:   0%|          | 0/400 [00:00<?, ?it/s]"
      ]
     },
     "metadata": {},
     "output_type": "display_data"
    },
    {
     "data": {
      "application/vnd.jupyter.widget-view+json": {
       "model_id": "8e282e1aa0f948998037715112637e52",
       "version_major": 2,
       "version_minor": 0
      },
      "text/plain": [
       "Handling Subsubfolders:   0%|          | 0/400 [00:00<?, ?it/s]"
      ]
     },
     "metadata": {},
     "output_type": "display_data"
    },
    {
     "data": {
      "application/vnd.jupyter.widget-view+json": {
       "model_id": "6f355f60feca481f8b960f5b82b9d10d",
       "version_major": 2,
       "version_minor": 0
      },
      "text/plain": [
       "Handling Subsubfolders:   0%|          | 0/400 [00:00<?, ?it/s]"
      ]
     },
     "metadata": {},
     "output_type": "display_data"
    },
    {
     "data": {
      "application/vnd.jupyter.widget-view+json": {
       "model_id": "43d0ed5ae555483c86c947c650db95b8",
       "version_major": 2,
       "version_minor": 0
      },
      "text/plain": [
       "Handling Subsubfolders:   0%|          | 0/400 [00:00<?, ?it/s]"
      ]
     },
     "metadata": {},
     "output_type": "display_data"
    },
    {
     "data": {
      "application/vnd.jupyter.widget-view+json": {
       "model_id": "fab751199bbd47c295da606c160a523d",
       "version_major": 2,
       "version_minor": 0
      },
      "text/plain": [
       "Handling Subsubfolders:   0%|          | 0/400 [00:00<?, ?it/s]"
      ]
     },
     "metadata": {},
     "output_type": "display_data"
    },
    {
     "data": {
      "application/vnd.jupyter.widget-view+json": {
       "model_id": "609c28e1898849c78f79bce454c0fea5",
       "version_major": 2,
       "version_minor": 0
      },
      "text/plain": [
       "Handling Subsubfolders:   0%|          | 0/400 [00:00<?, ?it/s]"
      ]
     },
     "metadata": {},
     "output_type": "display_data"
    },
    {
     "data": {
      "application/vnd.jupyter.widget-view+json": {
       "model_id": "c752ec1289f242f3865236595de10d9e",
       "version_major": 2,
       "version_minor": 0
      },
      "text/plain": [
       "Handling Subsubfolders:   0%|          | 0/400 [00:00<?, ?it/s]"
      ]
     },
     "metadata": {},
     "output_type": "display_data"
    },
    {
     "data": {
      "application/vnd.jupyter.widget-view+json": {
       "model_id": "04df446cd3754abe9e53af0a8fb3cf7e",
       "version_major": 2,
       "version_minor": 0
      },
      "text/plain": [
       "Handling Subsubfolders:   0%|          | 0/400 [00:00<?, ?it/s]"
      ]
     },
     "metadata": {},
     "output_type": "display_data"
    },
    {
     "data": {
      "application/vnd.jupyter.widget-view+json": {
       "model_id": "dde114b6a0f24a6a91a0e319d7d3c250",
       "version_major": 2,
       "version_minor": 0
      },
      "text/plain": [
       "Handling Subsubfolders:   0%|          | 0/400 [00:00<?, ?it/s]"
      ]
     },
     "metadata": {},
     "output_type": "display_data"
    },
    {
     "data": {
      "application/vnd.jupyter.widget-view+json": {
       "model_id": "e31a4f25fbd545e78064b58846914027",
       "version_major": 2,
       "version_minor": 0
      },
      "text/plain": [
       "Handling Subsubfolders:   0%|          | 0/400 [00:00<?, ?it/s]"
      ]
     },
     "metadata": {},
     "output_type": "display_data"
    },
    {
     "data": {
      "application/vnd.jupyter.widget-view+json": {
       "model_id": "6a1fe3d2c31f4bd08dcd07b0d91c2d5c",
       "version_major": 2,
       "version_minor": 0
      },
      "text/plain": [
       "Handling Subsubfolders:   0%|          | 0/400 [00:00<?, ?it/s]"
      ]
     },
     "metadata": {},
     "output_type": "display_data"
    },
    {
     "data": {
      "application/vnd.jupyter.widget-view+json": {
       "model_id": "7df9b6bb583c45b89c4b8c2ab321c7e4",
       "version_major": 2,
       "version_minor": 0
      },
      "text/plain": [
       "Handling Subsubfolders:   0%|          | 0/400 [00:00<?, ?it/s]"
      ]
     },
     "metadata": {},
     "output_type": "display_data"
    },
    {
     "data": {
      "application/vnd.jupyter.widget-view+json": {
       "model_id": "23703532dc884841814be7a02dd980e8",
       "version_major": 2,
       "version_minor": 0
      },
      "text/plain": [
       "Handling Subsubfolders:   0%|          | 0/400 [00:00<?, ?it/s]"
      ]
     },
     "metadata": {},
     "output_type": "display_data"
    },
    {
     "data": {
      "application/vnd.jupyter.widget-view+json": {
       "model_id": "d4a12d770f4d4b6abff3e2646ff38677",
       "version_major": 2,
       "version_minor": 0
      },
      "text/plain": [
       "Handling Subsubfolders:   0%|          | 0/400 [00:00<?, ?it/s]"
      ]
     },
     "metadata": {},
     "output_type": "display_data"
    },
    {
     "data": {
      "application/vnd.jupyter.widget-view+json": {
       "model_id": "63b515403c434a959385387d7fc7d1d3",
       "version_major": 2,
       "version_minor": 0
      },
      "text/plain": [
       "Handling Subsubfolders:   0%|          | 0/400 [00:00<?, ?it/s]"
      ]
     },
     "metadata": {},
     "output_type": "display_data"
    },
    {
     "data": {
      "application/vnd.jupyter.widget-view+json": {
       "model_id": "5cc04cdc72c54e5cbbd29b11d8fb64d2",
       "version_major": 2,
       "version_minor": 0
      },
      "text/plain": [
       "Handling Subsubfolders:   0%|          | 0/400 [00:00<?, ?it/s]"
      ]
     },
     "metadata": {},
     "output_type": "display_data"
    },
    {
     "data": {
      "application/vnd.jupyter.widget-view+json": {
       "model_id": "268461ea90314b518fd0b4c8fcd9d1b9",
       "version_major": 2,
       "version_minor": 0
      },
      "text/plain": [
       "Handling Subsubfolders:   0%|          | 0/400 [00:00<?, ?it/s]"
      ]
     },
     "metadata": {},
     "output_type": "display_data"
    },
    {
     "data": {
      "application/vnd.jupyter.widget-view+json": {
       "model_id": "d91e722b7aca45128fc14f560a954323",
       "version_major": 2,
       "version_minor": 0
      },
      "text/plain": [
       "Handling Subsubfolders:   0%|          | 0/400 [00:00<?, ?it/s]"
      ]
     },
     "metadata": {},
     "output_type": "display_data"
    },
    {
     "data": {
      "application/vnd.jupyter.widget-view+json": {
       "model_id": "68c9f4e7150e4f538fbc662bc25aad3d",
       "version_major": 2,
       "version_minor": 0
      },
      "text/plain": [
       "Handling Subsubfolders:   0%|          | 0/400 [00:00<?, ?it/s]"
      ]
     },
     "metadata": {},
     "output_type": "display_data"
    },
    {
     "data": {
      "application/vnd.jupyter.widget-view+json": {
       "model_id": "4cd17e59c84640cf92bbb66371be74c9",
       "version_major": 2,
       "version_minor": 0
      },
      "text/plain": [
       "Handling Subsubfolders:   0%|          | 0/400 [00:00<?, ?it/s]"
      ]
     },
     "metadata": {},
     "output_type": "display_data"
    },
    {
     "data": {
      "application/vnd.jupyter.widget-view+json": {
       "model_id": "f4fa4943aa9f4264860acd64f1cd3dba",
       "version_major": 2,
       "version_minor": 0
      },
      "text/plain": [
       "Handling Subsubfolders:   0%|          | 0/400 [00:00<?, ?it/s]"
      ]
     },
     "metadata": {},
     "output_type": "display_data"
    },
    {
     "data": {
      "application/vnd.jupyter.widget-view+json": {
       "model_id": "c096ee9b178f421a8d4a1d8148b7a553",
       "version_major": 2,
       "version_minor": 0
      },
      "text/plain": [
       "Handling Subsubfolders:   0%|          | 0/400 [00:00<?, ?it/s]"
      ]
     },
     "metadata": {},
     "output_type": "display_data"
    },
    {
     "data": {
      "application/vnd.jupyter.widget-view+json": {
       "model_id": "2e0b94eaf2064e828bfe61c9a7eaa4ba",
       "version_major": 2,
       "version_minor": 0
      },
      "text/plain": [
       "Handling Subsubfolders:   0%|          | 0/400 [00:00<?, ?it/s]"
      ]
     },
     "metadata": {},
     "output_type": "display_data"
    },
    {
     "data": {
      "application/vnd.jupyter.widget-view+json": {
       "model_id": "7682cd934998440f8acd6b31781a2cd0",
       "version_major": 2,
       "version_minor": 0
      },
      "text/plain": [
       "Handling Subsubfolders:   0%|          | 0/400 [00:00<?, ?it/s]"
      ]
     },
     "metadata": {},
     "output_type": "display_data"
    },
    {
     "data": {
      "application/vnd.jupyter.widget-view+json": {
       "model_id": "25d4e26d5846428295e13d98e3e77285",
       "version_major": 2,
       "version_minor": 0
      },
      "text/plain": [
       "Handling Subsubfolders:   0%|          | 0/400 [00:00<?, ?it/s]"
      ]
     },
     "metadata": {},
     "output_type": "display_data"
    },
    {
     "data": {
      "application/vnd.jupyter.widget-view+json": {
       "model_id": "a911432895f0464899d9abaf117807c7",
       "version_major": 2,
       "version_minor": 0
      },
      "text/plain": [
       "Handling Subsubfolders:   0%|          | 0/400 [00:00<?, ?it/s]"
      ]
     },
     "metadata": {},
     "output_type": "display_data"
    },
    {
     "data": {
      "application/vnd.jupyter.widget-view+json": {
       "model_id": "b7ac0665a5c649af8846e81cfee12f27",
       "version_major": 2,
       "version_minor": 0
      },
      "text/plain": [
       "Handling Subsubfolders:   0%|          | 0/400 [00:00<?, ?it/s]"
      ]
     },
     "metadata": {},
     "output_type": "display_data"
    },
    {
     "data": {
      "application/vnd.jupyter.widget-view+json": {
       "model_id": "39ce971d4cd04ad89b27de62041ef17b",
       "version_major": 2,
       "version_minor": 0
      },
      "text/plain": [
       "Handling Subsubfolders:   0%|          | 0/400 [00:00<?, ?it/s]"
      ]
     },
     "metadata": {},
     "output_type": "display_data"
    },
    {
     "data": {
      "application/vnd.jupyter.widget-view+json": {
       "model_id": "562b4092f41d41f0b15e7faebc309af9",
       "version_major": 2,
       "version_minor": 0
      },
      "text/plain": [
       "Handling Subsubfolders:   0%|          | 0/400 [00:00<?, ?it/s]"
      ]
     },
     "metadata": {},
     "output_type": "display_data"
    },
    {
     "data": {
      "application/vnd.jupyter.widget-view+json": {
       "model_id": "aab85ea7d6654262a5818b04ad04114e",
       "version_major": 2,
       "version_minor": 0
      },
      "text/plain": [
       "Handling Subsubfolders:   0%|          | 0/400 [00:00<?, ?it/s]"
      ]
     },
     "metadata": {},
     "output_type": "display_data"
    },
    {
     "data": {
      "application/vnd.jupyter.widget-view+json": {
       "model_id": "038df8ba47d247f681a57459ce62c6dc",
       "version_major": 2,
       "version_minor": 0
      },
      "text/plain": [
       "Handling Subsubfolders:   0%|          | 0/400 [00:00<?, ?it/s]"
      ]
     },
     "metadata": {},
     "output_type": "display_data"
    },
    {
     "data": {
      "application/vnd.jupyter.widget-view+json": {
       "model_id": "6d73352ad867432bae06ed397d05bc8a",
       "version_major": 2,
       "version_minor": 0
      },
      "text/plain": [
       "Handling Subsubfolders:   0%|          | 0/400 [00:00<?, ?it/s]"
      ]
     },
     "metadata": {},
     "output_type": "display_data"
    },
    {
     "data": {
      "application/vnd.jupyter.widget-view+json": {
       "model_id": "c159c9e6ec07476b9105f0c219a95139",
       "version_major": 2,
       "version_minor": 0
      },
      "text/plain": [
       "Handling Subsubfolders:   0%|          | 0/400 [00:00<?, ?it/s]"
      ]
     },
     "metadata": {},
     "output_type": "display_data"
    },
    {
     "data": {
      "application/vnd.jupyter.widget-view+json": {
       "model_id": "693fa395f1ae435f9f7ca3a25a5fc0dc",
       "version_major": 2,
       "version_minor": 0
      },
      "text/plain": [
       "Handling Subsubfolders:   0%|          | 0/400 [00:00<?, ?it/s]"
      ]
     },
     "metadata": {},
     "output_type": "display_data"
    },
    {
     "data": {
      "application/vnd.jupyter.widget-view+json": {
       "model_id": "64494af74649487c80792e7eb263d19d",
       "version_major": 2,
       "version_minor": 0
      },
      "text/plain": [
       "Handling Subsubfolders:   0%|          | 0/400 [00:00<?, ?it/s]"
      ]
     },
     "metadata": {},
     "output_type": "display_data"
    },
    {
     "data": {
      "application/vnd.jupyter.widget-view+json": {
       "model_id": "5423ff5801d9407faa7832a06894779f",
       "version_major": 2,
       "version_minor": 0
      },
      "text/plain": [
       "Handling Subsubfolders:   0%|          | 0/400 [00:00<?, ?it/s]"
      ]
     },
     "metadata": {},
     "output_type": "display_data"
    },
    {
     "data": {
      "application/vnd.jupyter.widget-view+json": {
       "model_id": "345d6229bec94775907dc67811fa1cdd",
       "version_major": 2,
       "version_minor": 0
      },
      "text/plain": [
       "Handling Subsubfolders:   0%|          | 0/400 [00:00<?, ?it/s]"
      ]
     },
     "metadata": {},
     "output_type": "display_data"
    },
    {
     "data": {
      "application/vnd.jupyter.widget-view+json": {
       "model_id": "a7f451c8dc0e4c3d813c316fc56e1370",
       "version_major": 2,
       "version_minor": 0
      },
      "text/plain": [
       "Handling Subsubfolders:   0%|          | 0/400 [00:00<?, ?it/s]"
      ]
     },
     "metadata": {},
     "output_type": "display_data"
    },
    {
     "data": {
      "application/vnd.jupyter.widget-view+json": {
       "model_id": "c6ae6770eb834c559003d552f1850dcd",
       "version_major": 2,
       "version_minor": 0
      },
      "text/plain": [
       "Handling Subsubfolders:   0%|          | 0/400 [00:00<?, ?it/s]"
      ]
     },
     "metadata": {},
     "output_type": "display_data"
    },
    {
     "data": {
      "application/vnd.jupyter.widget-view+json": {
       "model_id": "909a9b2281d14fd2a5fbe444e377e1f6",
       "version_major": 2,
       "version_minor": 0
      },
      "text/plain": [
       "Handling Subsubfolders:   0%|          | 0/400 [00:00<?, ?it/s]"
      ]
     },
     "metadata": {},
     "output_type": "display_data"
    },
    {
     "data": {
      "application/vnd.jupyter.widget-view+json": {
       "model_id": "4a1c0fb2881b4acdbaeea20a6ebec762",
       "version_major": 2,
       "version_minor": 0
      },
      "text/plain": [
       "Handling Subsubfolders:   0%|          | 0/400 [00:00<?, ?it/s]"
      ]
     },
     "metadata": {},
     "output_type": "display_data"
    },
    {
     "data": {
      "application/vnd.jupyter.widget-view+json": {
       "model_id": "71183ec1908f44f79a0ec3be1ccc6c09",
       "version_major": 2,
       "version_minor": 0
      },
      "text/plain": [
       "Handling Subsubfolders:   0%|          | 0/400 [00:00<?, ?it/s]"
      ]
     },
     "metadata": {},
     "output_type": "display_data"
    },
    {
     "data": {
      "application/vnd.jupyter.widget-view+json": {
       "model_id": "2339542fb98846f583f74d6bd77da1ba",
       "version_major": 2,
       "version_minor": 0
      },
      "text/plain": [
       "Handling Subsubfolders:   0%|          | 0/400 [00:00<?, ?it/s]"
      ]
     },
     "metadata": {},
     "output_type": "display_data"
    },
    {
     "data": {
      "application/vnd.jupyter.widget-view+json": {
       "model_id": "600eb75e84394d8d84d9977148c0d7d1",
       "version_major": 2,
       "version_minor": 0
      },
      "text/plain": [
       "Handling Subsubfolders:   0%|          | 0/400 [00:00<?, ?it/s]"
      ]
     },
     "metadata": {},
     "output_type": "display_data"
    },
    {
     "data": {
      "application/vnd.jupyter.widget-view+json": {
       "model_id": "0f6b99c971dc4d069c5ff0f26b842b5c",
       "version_major": 2,
       "version_minor": 0
      },
      "text/plain": [
       "Handling Subsubfolders:   0%|          | 0/400 [00:00<?, ?it/s]"
      ]
     },
     "metadata": {},
     "output_type": "display_data"
    },
    {
     "data": {
      "application/vnd.jupyter.widget-view+json": {
       "model_id": "56021760ee6e490783581c5a1037909a",
       "version_major": 2,
       "version_minor": 0
      },
      "text/plain": [
       "Handling Subsubfolders:   0%|          | 0/400 [00:00<?, ?it/s]"
      ]
     },
     "metadata": {},
     "output_type": "display_data"
    },
    {
     "data": {
      "application/vnd.jupyter.widget-view+json": {
       "model_id": "f763590f7094419ea28e5baa74f867c1",
       "version_major": 2,
       "version_minor": 0
      },
      "text/plain": [
       "Handling Subsubfolders:   0%|          | 0/400 [00:00<?, ?it/s]"
      ]
     },
     "metadata": {},
     "output_type": "display_data"
    },
    {
     "data": {
      "application/vnd.jupyter.widget-view+json": {
       "model_id": "9edac0650fde4ac69e517af41d8ca2e2",
       "version_major": 2,
       "version_minor": 0
      },
      "text/plain": [
       "Handling Subsubfolders:   0%|          | 0/400 [00:00<?, ?it/s]"
      ]
     },
     "metadata": {},
     "output_type": "display_data"
    },
    {
     "data": {
      "application/vnd.jupyter.widget-view+json": {
       "model_id": "a714062efde749e1a81ed59fdbe58bc1",
       "version_major": 2,
       "version_minor": 0
      },
      "text/plain": [
       "Handling Subsubfolders:   0%|          | 0/400 [00:00<?, ?it/s]"
      ]
     },
     "metadata": {},
     "output_type": "display_data"
    },
    {
     "data": {
      "application/vnd.jupyter.widget-view+json": {
       "model_id": "7fedfdbf08ba4eea9c103a235f83e11f",
       "version_major": 2,
       "version_minor": 0
      },
      "text/plain": [
       "Handling Subsubfolders:   0%|          | 0/400 [00:00<?, ?it/s]"
      ]
     },
     "metadata": {},
     "output_type": "display_data"
    },
    {
     "data": {
      "application/vnd.jupyter.widget-view+json": {
       "model_id": "0dc43bf335664e19b10b0dc4fa316eed",
       "version_major": 2,
       "version_minor": 0
      },
      "text/plain": [
       "Handling Subsubfolders:   0%|          | 0/400 [00:00<?, ?it/s]"
      ]
     },
     "metadata": {},
     "output_type": "display_data"
    },
    {
     "data": {
      "application/vnd.jupyter.widget-view+json": {
       "model_id": "245c3ad45f3c4801a8e8c9461153e4e5",
       "version_major": 2,
       "version_minor": 0
      },
      "text/plain": [
       "Handling Subsubfolders:   0%|          | 0/400 [00:00<?, ?it/s]"
      ]
     },
     "metadata": {},
     "output_type": "display_data"
    },
    {
     "data": {
      "application/vnd.jupyter.widget-view+json": {
       "model_id": "8e7967f1aa4f4cc39f266c15323db86e",
       "version_major": 2,
       "version_minor": 0
      },
      "text/plain": [
       "Handling Subsubfolders:   0%|          | 0/400 [00:00<?, ?it/s]"
      ]
     },
     "metadata": {},
     "output_type": "display_data"
    },
    {
     "data": {
      "application/vnd.jupyter.widget-view+json": {
       "model_id": "9d4cc3ab996e40b1835d47ca74503087",
       "version_major": 2,
       "version_minor": 0
      },
      "text/plain": [
       "Handling Subsubfolders:   0%|          | 0/400 [00:00<?, ?it/s]"
      ]
     },
     "metadata": {},
     "output_type": "display_data"
    },
    {
     "data": {
      "application/vnd.jupyter.widget-view+json": {
       "model_id": "e74c31825c9145468f5d8b433d6db936",
       "version_major": 2,
       "version_minor": 0
      },
      "text/plain": [
       "Handling Subsubfolders:   0%|          | 0/400 [00:00<?, ?it/s]"
      ]
     },
     "metadata": {},
     "output_type": "display_data"
    },
    {
     "data": {
      "application/vnd.jupyter.widget-view+json": {
       "model_id": "8b14ba8e3ba24d86bda43402c2aeadb5",
       "version_major": 2,
       "version_minor": 0
      },
      "text/plain": [
       "Handling Subsubfolders:   0%|          | 0/400 [00:00<?, ?it/s]"
      ]
     },
     "metadata": {},
     "output_type": "display_data"
    },
    {
     "data": {
      "application/vnd.jupyter.widget-view+json": {
       "model_id": "d7f4dbd03c844df7b418270ba3252224",
       "version_major": 2,
       "version_minor": 0
      },
      "text/plain": [
       "Handling Subsubfolders:   0%|          | 0/400 [00:00<?, ?it/s]"
      ]
     },
     "metadata": {},
     "output_type": "display_data"
    },
    {
     "data": {
      "application/vnd.jupyter.widget-view+json": {
       "model_id": "886bf8fc121b4882af2cffdddf2fdc99",
       "version_major": 2,
       "version_minor": 0
      },
      "text/plain": [
       "Handling Subsubfolders:   0%|          | 0/400 [00:00<?, ?it/s]"
      ]
     },
     "metadata": {},
     "output_type": "display_data"
    },
    {
     "data": {
      "application/vnd.jupyter.widget-view+json": {
       "model_id": "ee76cb31a5894159a7c7d625bb79e55a",
       "version_major": 2,
       "version_minor": 0
      },
      "text/plain": [
       "Handling Subsubfolders:   0%|          | 0/400 [00:00<?, ?it/s]"
      ]
     },
     "metadata": {},
     "output_type": "display_data"
    },
    {
     "data": {
      "application/vnd.jupyter.widget-view+json": {
       "model_id": "3152d7cb94864579a40cc8d8ed5e1da2",
       "version_major": 2,
       "version_minor": 0
      },
      "text/plain": [
       "Handling Subsubfolders:   0%|          | 0/400 [00:00<?, ?it/s]"
      ]
     },
     "metadata": {},
     "output_type": "display_data"
    },
    {
     "data": {
      "application/vnd.jupyter.widget-view+json": {
       "model_id": "12daa0c76d9e4a2dbeb0c904283950a9",
       "version_major": 2,
       "version_minor": 0
      },
      "text/plain": [
       "Handling Subsubfolders:   0%|          | 0/400 [00:00<?, ?it/s]"
      ]
     },
     "metadata": {},
     "output_type": "display_data"
    },
    {
     "data": {
      "application/vnd.jupyter.widget-view+json": {
       "model_id": "6bd6a0005edb4716b5e700acd864cf4a",
       "version_major": 2,
       "version_minor": 0
      },
      "text/plain": [
       "Handling Subsubfolders:   0%|          | 0/400 [00:00<?, ?it/s]"
      ]
     },
     "metadata": {},
     "output_type": "display_data"
    },
    {
     "data": {
      "application/vnd.jupyter.widget-view+json": {
       "model_id": "a20967c5cd7c43e294260816dd764420",
       "version_major": 2,
       "version_minor": 0
      },
      "text/plain": [
       "Handling Subsubfolders:   0%|          | 0/400 [00:00<?, ?it/s]"
      ]
     },
     "metadata": {},
     "output_type": "display_data"
    },
    {
     "data": {
      "application/vnd.jupyter.widget-view+json": {
       "model_id": "561f633d419a4a438ee7b0bc3299da85",
       "version_major": 2,
       "version_minor": 0
      },
      "text/plain": [
       "Handling Subsubfolders:   0%|          | 0/400 [00:00<?, ?it/s]"
      ]
     },
     "metadata": {},
     "output_type": "display_data"
    },
    {
     "data": {
      "application/vnd.jupyter.widget-view+json": {
       "model_id": "ef090349c6a84932a037860b26895775",
       "version_major": 2,
       "version_minor": 0
      },
      "text/plain": [
       "Handling Subsubfolders:   0%|          | 0/400 [00:00<?, ?it/s]"
      ]
     },
     "metadata": {},
     "output_type": "display_data"
    },
    {
     "data": {
      "application/vnd.jupyter.widget-view+json": {
       "model_id": "8da434834ab9496b92981093c3859fa8",
       "version_major": 2,
       "version_minor": 0
      },
      "text/plain": [
       "Handling Subsubfolders:   0%|          | 0/400 [00:00<?, ?it/s]"
      ]
     },
     "metadata": {},
     "output_type": "display_data"
    },
    {
     "data": {
      "application/vnd.jupyter.widget-view+json": {
       "model_id": "41fc1679f9a34f31a9bd68c58086e45e",
       "version_major": 2,
       "version_minor": 0
      },
      "text/plain": [
       "Handling Subsubfolders:   0%|          | 0/400 [00:00<?, ?it/s]"
      ]
     },
     "metadata": {},
     "output_type": "display_data"
    },
    {
     "data": {
      "application/vnd.jupyter.widget-view+json": {
       "model_id": "f87a86adab284ebc9635101e15109e00",
       "version_major": 2,
       "version_minor": 0
      },
      "text/plain": [
       "Handling Subsubfolders:   0%|          | 0/400 [00:00<?, ?it/s]"
      ]
     },
     "metadata": {},
     "output_type": "display_data"
    },
    {
     "data": {
      "application/vnd.jupyter.widget-view+json": {
       "model_id": "826d9f7316ae4cb1a33e36208e7760d9",
       "version_major": 2,
       "version_minor": 0
      },
      "text/plain": [
       "Handling Subsubfolders:   0%|          | 0/400 [00:00<?, ?it/s]"
      ]
     },
     "metadata": {},
     "output_type": "display_data"
    },
    {
     "data": {
      "application/vnd.jupyter.widget-view+json": {
       "model_id": "47196e211d9c42f38849b6e2e0f57463",
       "version_major": 2,
       "version_minor": 0
      },
      "text/plain": [
       "Handling Subsubfolders:   0%|          | 0/400 [00:00<?, ?it/s]"
      ]
     },
     "metadata": {},
     "output_type": "display_data"
    },
    {
     "data": {
      "application/vnd.jupyter.widget-view+json": {
       "model_id": "7373a1192d43456793c1f8f30b142ced",
       "version_major": 2,
       "version_minor": 0
      },
      "text/plain": [
       "Handling Subsubfolders:   0%|          | 0/400 [00:00<?, ?it/s]"
      ]
     },
     "metadata": {},
     "output_type": "display_data"
    },
    {
     "data": {
      "application/vnd.jupyter.widget-view+json": {
       "model_id": "2b7b5b3bd179422bba39b4ad86495353",
       "version_major": 2,
       "version_minor": 0
      },
      "text/plain": [
       "Handling Subsubfolders:   0%|          | 0/400 [00:00<?, ?it/s]"
      ]
     },
     "metadata": {},
     "output_type": "display_data"
    },
    {
     "data": {
      "application/vnd.jupyter.widget-view+json": {
       "model_id": "dae9745bd25e4134a43299737ae04940",
       "version_major": 2,
       "version_minor": 0
      },
      "text/plain": [
       "Handling Subsubfolders:   0%|          | 0/400 [00:00<?, ?it/s]"
      ]
     },
     "metadata": {},
     "output_type": "display_data"
    },
    {
     "data": {
      "application/vnd.jupyter.widget-view+json": {
       "model_id": "9080d0f6a2464704a2a551e7799897c5",
       "version_major": 2,
       "version_minor": 0
      },
      "text/plain": [
       "Handling Subsubfolders:   0%|          | 0/400 [00:00<?, ?it/s]"
      ]
     },
     "metadata": {},
     "output_type": "display_data"
    },
    {
     "data": {
      "application/vnd.jupyter.widget-view+json": {
       "model_id": "16619b88cde943f1865260bbbde0800f",
       "version_major": 2,
       "version_minor": 0
      },
      "text/plain": [
       "Handling Subsubfolders:   0%|          | 0/400 [00:00<?, ?it/s]"
      ]
     },
     "metadata": {},
     "output_type": "display_data"
    },
    {
     "data": {
      "application/vnd.jupyter.widget-view+json": {
       "model_id": "3964c11ffc7d4fa69c61701f8c5826b0",
       "version_major": 2,
       "version_minor": 0
      },
      "text/plain": [
       "Handling Subsubfolders:   0%|          | 0/400 [00:00<?, ?it/s]"
      ]
     },
     "metadata": {},
     "output_type": "display_data"
    },
    {
     "data": {
      "application/vnd.jupyter.widget-view+json": {
       "model_id": "0ead0ad1492b4206baf8afae255458b2",
       "version_major": 2,
       "version_minor": 0
      },
      "text/plain": [
       "Handling Subsubfolders:   0%|          | 0/400 [00:00<?, ?it/s]"
      ]
     },
     "metadata": {},
     "output_type": "display_data"
    },
    {
     "data": {
      "application/vnd.jupyter.widget-view+json": {
       "model_id": "8421b76907954d479397cf31ce60ae4f",
       "version_major": 2,
       "version_minor": 0
      },
      "text/plain": [
       "Handling Subsubfolders:   0%|          | 0/400 [00:00<?, ?it/s]"
      ]
     },
     "metadata": {},
     "output_type": "display_data"
    },
    {
     "data": {
      "application/vnd.jupyter.widget-view+json": {
       "model_id": "3320db3c463d4286bbdc46973d94ade3",
       "version_major": 2,
       "version_minor": 0
      },
      "text/plain": [
       "Handling Subsubfolders:   0%|          | 0/400 [00:00<?, ?it/s]"
      ]
     },
     "metadata": {},
     "output_type": "display_data"
    },
    {
     "data": {
      "application/vnd.jupyter.widget-view+json": {
       "model_id": "67f5c74fdae2406ab20754820d0bbced",
       "version_major": 2,
       "version_minor": 0
      },
      "text/plain": [
       "Handling Subsubfolders:   0%|          | 0/400 [00:00<?, ?it/s]"
      ]
     },
     "metadata": {},
     "output_type": "display_data"
    },
    {
     "data": {
      "application/vnd.jupyter.widget-view+json": {
       "model_id": "8084e30d5ead4ac0997371fcbb329781",
       "version_major": 2,
       "version_minor": 0
      },
      "text/plain": [
       "Handling Subsubfolders:   0%|          | 0/400 [00:00<?, ?it/s]"
      ]
     },
     "metadata": {},
     "output_type": "display_data"
    },
    {
     "data": {
      "application/vnd.jupyter.widget-view+json": {
       "model_id": "41367a1f986b427daf9d7c1a95f8c4d9",
       "version_major": 2,
       "version_minor": 0
      },
      "text/plain": [
       "Handling Subsubfolders:   0%|          | 0/400 [00:00<?, ?it/s]"
      ]
     },
     "metadata": {},
     "output_type": "display_data"
    },
    {
     "data": {
      "application/vnd.jupyter.widget-view+json": {
       "model_id": "c3f83d1e026049e2bc67c2be54a9bd56",
       "version_major": 2,
       "version_minor": 0
      },
      "text/plain": [
       "Handling Subsubfolders:   0%|          | 0/400 [00:00<?, ?it/s]"
      ]
     },
     "metadata": {},
     "output_type": "display_data"
    },
    {
     "data": {
      "application/vnd.jupyter.widget-view+json": {
       "model_id": "a46e144d3d6045e09b3ce42a53bd868c",
       "version_major": 2,
       "version_minor": 0
      },
      "text/plain": [
       "Handling Subsubfolders:   0%|          | 0/400 [00:00<?, ?it/s]"
      ]
     },
     "metadata": {},
     "output_type": "display_data"
    },
    {
     "data": {
      "application/vnd.jupyter.widget-view+json": {
       "model_id": "871a1d35b3c5413a9d9f449254a868da",
       "version_major": 2,
       "version_minor": 0
      },
      "text/plain": [
       "Handling Subsubfolders:   0%|          | 0/400 [00:00<?, ?it/s]"
      ]
     },
     "metadata": {},
     "output_type": "display_data"
    },
    {
     "data": {
      "application/vnd.jupyter.widget-view+json": {
       "model_id": "28e9d56e00904ee2a7035f1917390c8d",
       "version_major": 2,
       "version_minor": 0
      },
      "text/plain": [
       "Handling Subsubfolders:   0%|          | 0/400 [00:00<?, ?it/s]"
      ]
     },
     "metadata": {},
     "output_type": "display_data"
    },
    {
     "data": {
      "application/vnd.jupyter.widget-view+json": {
       "model_id": "f25d2d2027d4445d98482dcd4afb365d",
       "version_major": 2,
       "version_minor": 0
      },
      "text/plain": [
       "Handling Subsubfolders:   0%|          | 0/400 [00:00<?, ?it/s]"
      ]
     },
     "metadata": {},
     "output_type": "display_data"
    },
    {
     "data": {
      "application/vnd.jupyter.widget-view+json": {
       "model_id": "442b27dd593345bbaa5206baceee7e10",
       "version_major": 2,
       "version_minor": 0
      },
      "text/plain": [
       "Handling Subsubfolders:   0%|          | 0/400 [00:00<?, ?it/s]"
      ]
     },
     "metadata": {},
     "output_type": "display_data"
    },
    {
     "data": {
      "application/vnd.jupyter.widget-view+json": {
       "model_id": "d3dd158dd91c4c19974b5154c0895be2",
       "version_major": 2,
       "version_minor": 0
      },
      "text/plain": [
       "Handling Subsubfolders:   0%|          | 0/400 [00:00<?, ?it/s]"
      ]
     },
     "metadata": {},
     "output_type": "display_data"
    },
    {
     "data": {
      "application/vnd.jupyter.widget-view+json": {
       "model_id": "4c69ae6fe49541298457f34380202198",
       "version_major": 2,
       "version_minor": 0
      },
      "text/plain": [
       "Handling Subsubfolders:   0%|          | 0/400 [00:00<?, ?it/s]"
      ]
     },
     "metadata": {},
     "output_type": "display_data"
    },
    {
     "data": {
      "application/vnd.jupyter.widget-view+json": {
       "model_id": "ad06e8423615469b9bbbbb853cddbfd9",
       "version_major": 2,
       "version_minor": 0
      },
      "text/plain": [
       "Handling Subsubfolders:   0%|          | 0/400 [00:00<?, ?it/s]"
      ]
     },
     "metadata": {},
     "output_type": "display_data"
    },
    {
     "data": {
      "application/vnd.jupyter.widget-view+json": {
       "model_id": "7e26f68c29554765ae619ad24a03478d",
       "version_major": 2,
       "version_minor": 0
      },
      "text/plain": [
       "Handling Subsubfolders:   0%|          | 0/400 [00:00<?, ?it/s]"
      ]
     },
     "metadata": {},
     "output_type": "display_data"
    },
    {
     "data": {
      "application/vnd.jupyter.widget-view+json": {
       "model_id": "45f43fabfec1434eba44ade30ea1d2cb",
       "version_major": 2,
       "version_minor": 0
      },
      "text/plain": [
       "Handling Subsubfolders:   0%|          | 0/400 [00:00<?, ?it/s]"
      ]
     },
     "metadata": {},
     "output_type": "display_data"
    },
    {
     "data": {
      "application/vnd.jupyter.widget-view+json": {
       "model_id": "23224cc1472440c59b855314631b45ce",
       "version_major": 2,
       "version_minor": 0
      },
      "text/plain": [
       "Handling Subsubfolders:   0%|          | 0/400 [00:00<?, ?it/s]"
      ]
     },
     "metadata": {},
     "output_type": "display_data"
    },
    {
     "data": {
      "application/vnd.jupyter.widget-view+json": {
       "model_id": "d3a6bafee29446d8a0a9433ffdb45f15",
       "version_major": 2,
       "version_minor": 0
      },
      "text/plain": [
       "Handling Subsubfolders:   0%|          | 0/400 [00:00<?, ?it/s]"
      ]
     },
     "metadata": {},
     "output_type": "display_data"
    },
    {
     "data": {
      "application/vnd.jupyter.widget-view+json": {
       "model_id": "3c5658bb552a4dd8a7eaa244fb01d4f3",
       "version_major": 2,
       "version_minor": 0
      },
      "text/plain": [
       "Handling Subsubfolders:   0%|          | 0/400 [00:00<?, ?it/s]"
      ]
     },
     "metadata": {},
     "output_type": "display_data"
    },
    {
     "data": {
      "application/vnd.jupyter.widget-view+json": {
       "model_id": "ac84282b3ef74b36a79e7a911a5eac07",
       "version_major": 2,
       "version_minor": 0
      },
      "text/plain": [
       "Handling Subsubfolders:   0%|          | 0/400 [00:00<?, ?it/s]"
      ]
     },
     "metadata": {},
     "output_type": "display_data"
    },
    {
     "data": {
      "application/vnd.jupyter.widget-view+json": {
       "model_id": "3351cde7809b46ca9a751e9a927a9601",
       "version_major": 2,
       "version_minor": 0
      },
      "text/plain": [
       "Handling Subsubfolders:   0%|          | 0/400 [00:00<?, ?it/s]"
      ]
     },
     "metadata": {},
     "output_type": "display_data"
    },
    {
     "data": {
      "application/vnd.jupyter.widget-view+json": {
       "model_id": "b7718bce4b8443b49e175e96cce65958",
       "version_major": 2,
       "version_minor": 0
      },
      "text/plain": [
       "Handling Subsubfolders:   0%|          | 0/400 [00:00<?, ?it/s]"
      ]
     },
     "metadata": {},
     "output_type": "display_data"
    },
    {
     "data": {
      "application/vnd.jupyter.widget-view+json": {
       "model_id": "c0472034ffe04a26916502c08a439a06",
       "version_major": 2,
       "version_minor": 0
      },
      "text/plain": [
       "Handling Subsubfolders:   0%|          | 0/400 [00:00<?, ?it/s]"
      ]
     },
     "metadata": {},
     "output_type": "display_data"
    },
    {
     "data": {
      "application/vnd.jupyter.widget-view+json": {
       "model_id": "368770a10e8649e6982641682b3aab8d",
       "version_major": 2,
       "version_minor": 0
      },
      "text/plain": [
       "Handling Subsubfolders:   0%|          | 0/400 [00:00<?, ?it/s]"
      ]
     },
     "metadata": {},
     "output_type": "display_data"
    },
    {
     "data": {
      "application/vnd.jupyter.widget-view+json": {
       "model_id": "a2ec8177bbe74dd7a35ae698b2df9f59",
       "version_major": 2,
       "version_minor": 0
      },
      "text/plain": [
       "Handling Subsubfolders:   0%|          | 0/400 [00:00<?, ?it/s]"
      ]
     },
     "metadata": {},
     "output_type": "display_data"
    },
    {
     "data": {
      "application/vnd.jupyter.widget-view+json": {
       "model_id": "ad1ced50e8c043aa915c227e257c64a3",
       "version_major": 2,
       "version_minor": 0
      },
      "text/plain": [
       "Handling Subsubfolders:   0%|          | 0/400 [00:00<?, ?it/s]"
      ]
     },
     "metadata": {},
     "output_type": "display_data"
    },
    {
     "data": {
      "application/vnd.jupyter.widget-view+json": {
       "model_id": "48d6e4641c17466fbc3c0cc3983d8021",
       "version_major": 2,
       "version_minor": 0
      },
      "text/plain": [
       "Handling Subsubfolders:   0%|          | 0/400 [00:00<?, ?it/s]"
      ]
     },
     "metadata": {},
     "output_type": "display_data"
    },
    {
     "data": {
      "application/vnd.jupyter.widget-view+json": {
       "model_id": "2c78c46ded4e4c8380b2dde70fd7188c",
       "version_major": 2,
       "version_minor": 0
      },
      "text/plain": [
       "Handling Subsubfolders:   0%|          | 0/400 [00:00<?, ?it/s]"
      ]
     },
     "metadata": {},
     "output_type": "display_data"
    },
    {
     "data": {
      "application/vnd.jupyter.widget-view+json": {
       "model_id": "66cfbf6bb3074b68816eee3ebb6af527",
       "version_major": 2,
       "version_minor": 0
      },
      "text/plain": [
       "Handling Subsubfolders:   0%|          | 0/400 [00:00<?, ?it/s]"
      ]
     },
     "metadata": {},
     "output_type": "display_data"
    },
    {
     "data": {
      "application/vnd.jupyter.widget-view+json": {
       "model_id": "7b45d5d403f14b278e1ff7116eaf156c",
       "version_major": 2,
       "version_minor": 0
      },
      "text/plain": [
       "Handling Subsubfolders:   0%|          | 0/400 [00:00<?, ?it/s]"
      ]
     },
     "metadata": {},
     "output_type": "display_data"
    },
    {
     "data": {
      "application/vnd.jupyter.widget-view+json": {
       "model_id": "25d33084e1c24a37b6f5b5dca0f224b8",
       "version_major": 2,
       "version_minor": 0
      },
      "text/plain": [
       "Handling Subsubfolders:   0%|          | 0/400 [00:00<?, ?it/s]"
      ]
     },
     "metadata": {},
     "output_type": "display_data"
    },
    {
     "data": {
      "application/vnd.jupyter.widget-view+json": {
       "model_id": "6613df63838b4908b86d85345c95f29b",
       "version_major": 2,
       "version_minor": 0
      },
      "text/plain": [
       "Handling Subsubfolders:   0%|          | 0/400 [00:00<?, ?it/s]"
      ]
     },
     "metadata": {},
     "output_type": "display_data"
    },
    {
     "data": {
      "application/vnd.jupyter.widget-view+json": {
       "model_id": "439f58b93d54479797a0db400bdaa012",
       "version_major": 2,
       "version_minor": 0
      },
      "text/plain": [
       "Handling Subsubfolders:   0%|          | 0/400 [00:00<?, ?it/s]"
      ]
     },
     "metadata": {},
     "output_type": "display_data"
    },
    {
     "data": {
      "application/vnd.jupyter.widget-view+json": {
       "model_id": "04f65cf618584b47bfcbda7451668125",
       "version_major": 2,
       "version_minor": 0
      },
      "text/plain": [
       "Handling Subsubfolders:   0%|          | 0/400 [00:00<?, ?it/s]"
      ]
     },
     "metadata": {},
     "output_type": "display_data"
    },
    {
     "data": {
      "application/vnd.jupyter.widget-view+json": {
       "model_id": "e32a6cbbecd545a1acc394f676c5633d",
       "version_major": 2,
       "version_minor": 0
      },
      "text/plain": [
       "Handling Subsubfolders:   0%|          | 0/400 [00:00<?, ?it/s]"
      ]
     },
     "metadata": {},
     "output_type": "display_data"
    },
    {
     "data": {
      "application/vnd.jupyter.widget-view+json": {
       "model_id": "1939ced1b4c34af69421870e8b4791eb",
       "version_major": 2,
       "version_minor": 0
      },
      "text/plain": [
       "Handling Subsubfolders:   0%|          | 0/400 [00:00<?, ?it/s]"
      ]
     },
     "metadata": {},
     "output_type": "display_data"
    },
    {
     "data": {
      "application/vnd.jupyter.widget-view+json": {
       "model_id": "b559bb74d3b64516877336363b859548",
       "version_major": 2,
       "version_minor": 0
      },
      "text/plain": [
       "Handling Subsubfolders:   0%|          | 0/400 [00:00<?, ?it/s]"
      ]
     },
     "metadata": {},
     "output_type": "display_data"
    },
    {
     "data": {
      "application/vnd.jupyter.widget-view+json": {
       "model_id": "9deea4a15f06479e990db8239283cd70",
       "version_major": 2,
       "version_minor": 0
      },
      "text/plain": [
       "Handling Subsubfolders:   0%|          | 0/400 [00:00<?, ?it/s]"
      ]
     },
     "metadata": {},
     "output_type": "display_data"
    },
    {
     "data": {
      "application/vnd.jupyter.widget-view+json": {
       "model_id": "b2e123fd296a494bbb1b81c9208e627d",
       "version_major": 2,
       "version_minor": 0
      },
      "text/plain": [
       "Handling Subsubfolders:   0%|          | 0/400 [00:00<?, ?it/s]"
      ]
     },
     "metadata": {},
     "output_type": "display_data"
    },
    {
     "data": {
      "application/vnd.jupyter.widget-view+json": {
       "model_id": "ad71ab9061da4a69bef207f26e6cd636",
       "version_major": 2,
       "version_minor": 0
      },
      "text/plain": [
       "Handling Subsubfolders:   0%|          | 0/400 [00:00<?, ?it/s]"
      ]
     },
     "metadata": {},
     "output_type": "display_data"
    },
    {
     "data": {
      "application/vnd.jupyter.widget-view+json": {
       "model_id": "ac4077a7a861490a831928fc295e6f3e",
       "version_major": 2,
       "version_minor": 0
      },
      "text/plain": [
       "Handling Subsubfolders:   0%|          | 0/400 [00:00<?, ?it/s]"
      ]
     },
     "metadata": {},
     "output_type": "display_data"
    },
    {
     "data": {
      "application/vnd.jupyter.widget-view+json": {
       "model_id": "bb499be4333f43f1810a0fcfb148a7b5",
       "version_major": 2,
       "version_minor": 0
      },
      "text/plain": [
       "Handling Subsubfolders:   0%|          | 0/400 [00:00<?, ?it/s]"
      ]
     },
     "metadata": {},
     "output_type": "display_data"
    },
    {
     "data": {
      "application/vnd.jupyter.widget-view+json": {
       "model_id": "de49cfa9e81540b0afe5e5734af16d61",
       "version_major": 2,
       "version_minor": 0
      },
      "text/plain": [
       "Handling Subsubfolders:   0%|          | 0/400 [00:00<?, ?it/s]"
      ]
     },
     "metadata": {},
     "output_type": "display_data"
    },
    {
     "data": {
      "application/vnd.jupyter.widget-view+json": {
       "model_id": "61783b099c354f50987197fd21b4ca10",
       "version_major": 2,
       "version_minor": 0
      },
      "text/plain": [
       "Handling Subsubfolders:   0%|          | 0/400 [00:00<?, ?it/s]"
      ]
     },
     "metadata": {},
     "output_type": "display_data"
    },
    {
     "data": {
      "application/vnd.jupyter.widget-view+json": {
       "model_id": "0e605f1401294ca686d13c5bfec87fd7",
       "version_major": 2,
       "version_minor": 0
      },
      "text/plain": [
       "Handling Subsubfolders:   0%|          | 0/400 [00:00<?, ?it/s]"
      ]
     },
     "metadata": {},
     "output_type": "display_data"
    },
    {
     "data": {
      "application/vnd.jupyter.widget-view+json": {
       "model_id": "ce468882d9574f4998e54cb731f70614",
       "version_major": 2,
       "version_minor": 0
      },
      "text/plain": [
       "Handling Subsubfolders:   0%|          | 0/400 [00:00<?, ?it/s]"
      ]
     },
     "metadata": {},
     "output_type": "display_data"
    },
    {
     "data": {
      "application/vnd.jupyter.widget-view+json": {
       "model_id": "ff34ae0a46324674bf4fca15d107208d",
       "version_major": 2,
       "version_minor": 0
      },
      "text/plain": [
       "Handling Subsubfolders:   0%|          | 0/400 [00:00<?, ?it/s]"
      ]
     },
     "metadata": {},
     "output_type": "display_data"
    },
    {
     "data": {
      "application/vnd.jupyter.widget-view+json": {
       "model_id": "cb229c4dafdb438e9f90610301ca1d75",
       "version_major": 2,
       "version_minor": 0
      },
      "text/plain": [
       "Handling Subsubfolders:   0%|          | 0/400 [00:00<?, ?it/s]"
      ]
     },
     "metadata": {},
     "output_type": "display_data"
    },
    {
     "data": {
      "application/vnd.jupyter.widget-view+json": {
       "model_id": "82e14dcdec794c0cb7d1fa9c525daed5",
       "version_major": 2,
       "version_minor": 0
      },
      "text/plain": [
       "Handling Subsubfolders:   0%|          | 0/400 [00:00<?, ?it/s]"
      ]
     },
     "metadata": {},
     "output_type": "display_data"
    },
    {
     "data": {
      "application/vnd.jupyter.widget-view+json": {
       "model_id": "9ed4a27c87b74e55a3b4e6416c67ec86",
       "version_major": 2,
       "version_minor": 0
      },
      "text/plain": [
       "Handling Subsubfolders:   0%|          | 0/400 [00:00<?, ?it/s]"
      ]
     },
     "metadata": {},
     "output_type": "display_data"
    },
    {
     "data": {
      "application/vnd.jupyter.widget-view+json": {
       "model_id": "d30b5a30f8e7473a8bdaaf7f1ea202e8",
       "version_major": 2,
       "version_minor": 0
      },
      "text/plain": [
       "Handling Subsubfolders:   0%|          | 0/400 [00:00<?, ?it/s]"
      ]
     },
     "metadata": {},
     "output_type": "display_data"
    },
    {
     "data": {
      "application/vnd.jupyter.widget-view+json": {
       "model_id": "e1cde2636d774aad8c2a82175cd3c30c",
       "version_major": 2,
       "version_minor": 0
      },
      "text/plain": [
       "Handling Subsubfolders:   0%|          | 0/400 [00:00<?, ?it/s]"
      ]
     },
     "metadata": {},
     "output_type": "display_data"
    },
    {
     "data": {
      "application/vnd.jupyter.widget-view+json": {
       "model_id": "2ea601edd5894675ad97e428860a7460",
       "version_major": 2,
       "version_minor": 0
      },
      "text/plain": [
       "Handling Subsubfolders:   0%|          | 0/400 [00:00<?, ?it/s]"
      ]
     },
     "metadata": {},
     "output_type": "display_data"
    },
    {
     "data": {
      "application/vnd.jupyter.widget-view+json": {
       "model_id": "66356d8083504d5b9b7ebe55e785ce57",
       "version_major": 2,
       "version_minor": 0
      },
      "text/plain": [
       "Handling Subsubfolders:   0%|          | 0/400 [00:00<?, ?it/s]"
      ]
     },
     "metadata": {},
     "output_type": "display_data"
    },
    {
     "data": {
      "application/vnd.jupyter.widget-view+json": {
       "model_id": "f1c16bdd59bb4caaab8359398f825601",
       "version_major": 2,
       "version_minor": 0
      },
      "text/plain": [
       "Handling Subsubfolders:   0%|          | 0/400 [00:00<?, ?it/s]"
      ]
     },
     "metadata": {},
     "output_type": "display_data"
    },
    {
     "data": {
      "application/vnd.jupyter.widget-view+json": {
       "model_id": "5649033af274488aa4f0ebaf63191a7b",
       "version_major": 2,
       "version_minor": 0
      },
      "text/plain": [
       "Handling Subsubfolders:   0%|          | 0/400 [00:00<?, ?it/s]"
      ]
     },
     "metadata": {},
     "output_type": "display_data"
    },
    {
     "data": {
      "application/vnd.jupyter.widget-view+json": {
       "model_id": "714aca70fda94a29a1221bf8969fc1f2",
       "version_major": 2,
       "version_minor": 0
      },
      "text/plain": [
       "Handling Subsubfolders:   0%|          | 0/400 [00:00<?, ?it/s]"
      ]
     },
     "metadata": {},
     "output_type": "display_data"
    },
    {
     "data": {
      "application/vnd.jupyter.widget-view+json": {
       "model_id": "4c6cc553c9824abd8db48592312f4389",
       "version_major": 2,
       "version_minor": 0
      },
      "text/plain": [
       "Handling Subsubfolders:   0%|          | 0/400 [00:00<?, ?it/s]"
      ]
     },
     "metadata": {},
     "output_type": "display_data"
    },
    {
     "data": {
      "application/vnd.jupyter.widget-view+json": {
       "model_id": "d28203fc93844fbb9d5a2a6e7d050029",
       "version_major": 2,
       "version_minor": 0
      },
      "text/plain": [
       "Handling Subsubfolders:   0%|          | 0/400 [00:00<?, ?it/s]"
      ]
     },
     "metadata": {},
     "output_type": "display_data"
    },
    {
     "data": {
      "application/vnd.jupyter.widget-view+json": {
       "model_id": "74ce147a84de4077b7ba40414ca45d77",
       "version_major": 2,
       "version_minor": 0
      },
      "text/plain": [
       "Handling Subsubfolders:   0%|          | 0/400 [00:00<?, ?it/s]"
      ]
     },
     "metadata": {},
     "output_type": "display_data"
    },
    {
     "data": {
      "application/vnd.jupyter.widget-view+json": {
       "model_id": "3703c5880ba34ed1bfaf312b6b0d787d",
       "version_major": 2,
       "version_minor": 0
      },
      "text/plain": [
       "Handling Subsubfolders:   0%|          | 0/400 [00:00<?, ?it/s]"
      ]
     },
     "metadata": {},
     "output_type": "display_data"
    },
    {
     "data": {
      "application/vnd.jupyter.widget-view+json": {
       "model_id": "59bf23f4ac7a45dc9e4536fdbb3a662c",
       "version_major": 2,
       "version_minor": 0
      },
      "text/plain": [
       "Handling Subsubfolders:   0%|          | 0/400 [00:00<?, ?it/s]"
      ]
     },
     "metadata": {},
     "output_type": "display_data"
    },
    {
     "data": {
      "application/vnd.jupyter.widget-view+json": {
       "model_id": "3dcb342f85b249958b30b4d4823a030c",
       "version_major": 2,
       "version_minor": 0
      },
      "text/plain": [
       "Handling Subsubfolders:   0%|          | 0/400 [00:00<?, ?it/s]"
      ]
     },
     "metadata": {},
     "output_type": "display_data"
    },
    {
     "data": {
      "application/vnd.jupyter.widget-view+json": {
       "model_id": "0163a8e691124f41a3c93e82fddfef1b",
       "version_major": 2,
       "version_minor": 0
      },
      "text/plain": [
       "Handling Subsubfolders:   0%|          | 0/400 [00:00<?, ?it/s]"
      ]
     },
     "metadata": {},
     "output_type": "display_data"
    },
    {
     "data": {
      "application/vnd.jupyter.widget-view+json": {
       "model_id": "e4b3213c2b784e38888daab9a1c5663b",
       "version_major": 2,
       "version_minor": 0
      },
      "text/plain": [
       "Handling Subsubfolders:   0%|          | 0/400 [00:00<?, ?it/s]"
      ]
     },
     "metadata": {},
     "output_type": "display_data"
    },
    {
     "data": {
      "application/vnd.jupyter.widget-view+json": {
       "model_id": "fcec83aca10342469c7f915837dd6d56",
       "version_major": 2,
       "version_minor": 0
      },
      "text/plain": [
       "Handling Subsubfolders:   0%|          | 0/400 [00:00<?, ?it/s]"
      ]
     },
     "metadata": {},
     "output_type": "display_data"
    },
    {
     "data": {
      "application/vnd.jupyter.widget-view+json": {
       "model_id": "e2d5466a6584457fbd7ec30de84fb5a5",
       "version_major": 2,
       "version_minor": 0
      },
      "text/plain": [
       "Handling Subsubfolders:   0%|          | 0/400 [00:00<?, ?it/s]"
      ]
     },
     "metadata": {},
     "output_type": "display_data"
    },
    {
     "data": {
      "application/vnd.jupyter.widget-view+json": {
       "model_id": "542d900607e2458a985e659c41a48d14",
       "version_major": 2,
       "version_minor": 0
      },
      "text/plain": [
       "Handling Subsubfolders:   0%|          | 0/400 [00:00<?, ?it/s]"
      ]
     },
     "metadata": {},
     "output_type": "display_data"
    },
    {
     "data": {
      "application/vnd.jupyter.widget-view+json": {
       "model_id": "1daba22b564e4b5d87f8220f686db442",
       "version_major": 2,
       "version_minor": 0
      },
      "text/plain": [
       "Handling Subsubfolders:   0%|          | 0/400 [00:00<?, ?it/s]"
      ]
     },
     "metadata": {},
     "output_type": "display_data"
    },
    {
     "data": {
      "application/vnd.jupyter.widget-view+json": {
       "model_id": "371a3527aac948a89452b5a7ec2f2759",
       "version_major": 2,
       "version_minor": 0
      },
      "text/plain": [
       "Handling Subsubfolders:   0%|          | 0/400 [00:00<?, ?it/s]"
      ]
     },
     "metadata": {},
     "output_type": "display_data"
    },
    {
     "data": {
      "application/vnd.jupyter.widget-view+json": {
       "model_id": "c526fee83b2546a9a268d52d296d8d8a",
       "version_major": 2,
       "version_minor": 0
      },
      "text/plain": [
       "Handling Subsubfolders:   0%|          | 0/400 [00:00<?, ?it/s]"
      ]
     },
     "metadata": {},
     "output_type": "display_data"
    },
    {
     "data": {
      "application/vnd.jupyter.widget-view+json": {
       "model_id": "5b66a41225c1444394845c6056d1ea4c",
       "version_major": 2,
       "version_minor": 0
      },
      "text/plain": [
       "Handling Subsubfolders:   0%|          | 0/400 [00:00<?, ?it/s]"
      ]
     },
     "metadata": {},
     "output_type": "display_data"
    },
    {
     "data": {
      "application/vnd.jupyter.widget-view+json": {
       "model_id": "5bbc2d0dd1724ed1a0ea8f404099ce1b",
       "version_major": 2,
       "version_minor": 0
      },
      "text/plain": [
       "Handling Subsubfolders:   0%|          | 0/400 [00:00<?, ?it/s]"
      ]
     },
     "metadata": {},
     "output_type": "display_data"
    },
    {
     "data": {
      "application/vnd.jupyter.widget-view+json": {
       "model_id": "7993583a8bf0416482bc6b5e6035cab1",
       "version_major": 2,
       "version_minor": 0
      },
      "text/plain": [
       "Handling Subsubfolders:   0%|          | 0/400 [00:00<?, ?it/s]"
      ]
     },
     "metadata": {},
     "output_type": "display_data"
    },
    {
     "data": {
      "application/vnd.jupyter.widget-view+json": {
       "model_id": "ed403a4a9d9e497fbb4bd705f6d772ca",
       "version_major": 2,
       "version_minor": 0
      },
      "text/plain": [
       "Handling Subsubfolders:   0%|          | 0/400 [00:00<?, ?it/s]"
      ]
     },
     "metadata": {},
     "output_type": "display_data"
    },
    {
     "data": {
      "application/vnd.jupyter.widget-view+json": {
       "model_id": "abc06fcd9ee44ad6a1c8b6fb0ce3f937",
       "version_major": 2,
       "version_minor": 0
      },
      "text/plain": [
       "Handling Subsubfolders:   0%|          | 0/400 [00:00<?, ?it/s]"
      ]
     },
     "metadata": {},
     "output_type": "display_data"
    },
    {
     "data": {
      "application/vnd.jupyter.widget-view+json": {
       "model_id": "bd4f2496b2a94089a5a037768c8bfe56",
       "version_major": 2,
       "version_minor": 0
      },
      "text/plain": [
       "Handling Subsubfolders:   0%|          | 0/400 [00:00<?, ?it/s]"
      ]
     },
     "metadata": {},
     "output_type": "display_data"
    },
    {
     "data": {
      "application/vnd.jupyter.widget-view+json": {
       "model_id": "09bdae1a57824d09b0a1b9ddb111eb9e",
       "version_major": 2,
       "version_minor": 0
      },
      "text/plain": [
       "Handling Subsubfolders:   0%|          | 0/400 [00:00<?, ?it/s]"
      ]
     },
     "metadata": {},
     "output_type": "display_data"
    },
    {
     "data": {
      "application/vnd.jupyter.widget-view+json": {
       "model_id": "e085a359970e4e41a02a492af0793ab3",
       "version_major": 2,
       "version_minor": 0
      },
      "text/plain": [
       "Handling Subsubfolders:   0%|          | 0/400 [00:00<?, ?it/s]"
      ]
     },
     "metadata": {},
     "output_type": "display_data"
    },
    {
     "data": {
      "application/vnd.jupyter.widget-view+json": {
       "model_id": "b17a8933a4454fdb836b9d3d808cfbd1",
       "version_major": 2,
       "version_minor": 0
      },
      "text/plain": [
       "Handling Subsubfolders:   0%|          | 0/400 [00:00<?, ?it/s]"
      ]
     },
     "metadata": {},
     "output_type": "display_data"
    },
    {
     "data": {
      "application/vnd.jupyter.widget-view+json": {
       "model_id": "38e9aff638264596bbe52c5d8a144856",
       "version_major": 2,
       "version_minor": 0
      },
      "text/plain": [
       "Handling Subsubfolders:   0%|          | 0/400 [00:00<?, ?it/s]"
      ]
     },
     "metadata": {},
     "output_type": "display_data"
    },
    {
     "data": {
      "application/vnd.jupyter.widget-view+json": {
       "model_id": "c6a500a61f214a99a989434f4a39ae0f",
       "version_major": 2,
       "version_minor": 0
      },
      "text/plain": [
       "Handling Subsubfolders:   0%|          | 0/400 [00:00<?, ?it/s]"
      ]
     },
     "metadata": {},
     "output_type": "display_data"
    },
    {
     "data": {
      "application/vnd.jupyter.widget-view+json": {
       "model_id": "233c390ca58e4df39bf6e15ebde14f76",
       "version_major": 2,
       "version_minor": 0
      },
      "text/plain": [
       "Handling Subsubfolders:   0%|          | 0/400 [00:00<?, ?it/s]"
      ]
     },
     "metadata": {},
     "output_type": "display_data"
    },
    {
     "data": {
      "application/vnd.jupyter.widget-view+json": {
       "model_id": "51b9e99230f94e15905fd59e76915040",
       "version_major": 2,
       "version_minor": 0
      },
      "text/plain": [
       "Handling Subsubfolders:   0%|          | 0/400 [00:00<?, ?it/s]"
      ]
     },
     "metadata": {},
     "output_type": "display_data"
    },
    {
     "data": {
      "application/vnd.jupyter.widget-view+json": {
       "model_id": "931f86f7530148c6977c0ebff31118fa",
       "version_major": 2,
       "version_minor": 0
      },
      "text/plain": [
       "Handling Subsubfolders:   0%|          | 0/400 [00:00<?, ?it/s]"
      ]
     },
     "metadata": {},
     "output_type": "display_data"
    },
    {
     "data": {
      "application/vnd.jupyter.widget-view+json": {
       "model_id": "9f6ebb7efbf34c249976c3bd4d824815",
       "version_major": 2,
       "version_minor": 0
      },
      "text/plain": [
       "Handling Subsubfolders:   0%|          | 0/400 [00:00<?, ?it/s]"
      ]
     },
     "metadata": {},
     "output_type": "display_data"
    },
    {
     "data": {
      "application/vnd.jupyter.widget-view+json": {
       "model_id": "03115f9271aa4c02aa044d81d3d3e443",
       "version_major": 2,
       "version_minor": 0
      },
      "text/plain": [
       "Handling Subsubfolders:   0%|          | 0/400 [00:00<?, ?it/s]"
      ]
     },
     "metadata": {},
     "output_type": "display_data"
    },
    {
     "data": {
      "application/vnd.jupyter.widget-view+json": {
       "model_id": "2f2dbf091678494e947aaec4e2b75d29",
       "version_major": 2,
       "version_minor": 0
      },
      "text/plain": [
       "Handling Subsubfolders:   0%|          | 0/400 [00:00<?, ?it/s]"
      ]
     },
     "metadata": {},
     "output_type": "display_data"
    },
    {
     "data": {
      "application/vnd.jupyter.widget-view+json": {
       "model_id": "ec9e6c5717cc4f5784576d59937eb0d6",
       "version_major": 2,
       "version_minor": 0
      },
      "text/plain": [
       "Handling Subsubfolders:   0%|          | 0/400 [00:00<?, ?it/s]"
      ]
     },
     "metadata": {},
     "output_type": "display_data"
    },
    {
     "data": {
      "application/vnd.jupyter.widget-view+json": {
       "model_id": "22faad18461e4f9ca2681162c35afc15",
       "version_major": 2,
       "version_minor": 0
      },
      "text/plain": [
       "Handling Subsubfolders:   0%|          | 0/400 [00:00<?, ?it/s]"
      ]
     },
     "metadata": {},
     "output_type": "display_data"
    },
    {
     "data": {
      "application/vnd.jupyter.widget-view+json": {
       "model_id": "9827969477094c129b26e5495d1ffd16",
       "version_major": 2,
       "version_minor": 0
      },
      "text/plain": [
       "Handling Subsubfolders:   0%|          | 0/400 [00:00<?, ?it/s]"
      ]
     },
     "metadata": {},
     "output_type": "display_data"
    },
    {
     "data": {
      "application/vnd.jupyter.widget-view+json": {
       "model_id": "0bccfe1fbb2e4762a4d8067422ee49f4",
       "version_major": 2,
       "version_minor": 0
      },
      "text/plain": [
       "Handling Subsubfolders:   0%|          | 0/400 [00:00<?, ?it/s]"
      ]
     },
     "metadata": {},
     "output_type": "display_data"
    },
    {
     "data": {
      "application/vnd.jupyter.widget-view+json": {
       "model_id": "37d16f4502dd49c197ae8dbe95acc0ac",
       "version_major": 2,
       "version_minor": 0
      },
      "text/plain": [
       "Handling Subsubfolders:   0%|          | 0/400 [00:00<?, ?it/s]"
      ]
     },
     "metadata": {},
     "output_type": "display_data"
    },
    {
     "data": {
      "application/vnd.jupyter.widget-view+json": {
       "model_id": "cd9ae3e885574f22a3b5dde8e75d9917",
       "version_major": 2,
       "version_minor": 0
      },
      "text/plain": [
       "Handling Subsubfolders:   0%|          | 0/400 [00:00<?, ?it/s]"
      ]
     },
     "metadata": {},
     "output_type": "display_data"
    },
    {
     "data": {
      "application/vnd.jupyter.widget-view+json": {
       "model_id": "f207da18690f4ceb91c94b11cfbecfc9",
       "version_major": 2,
       "version_minor": 0
      },
      "text/plain": [
       "Handling Subsubfolders:   0%|          | 0/400 [00:00<?, ?it/s]"
      ]
     },
     "metadata": {},
     "output_type": "display_data"
    },
    {
     "data": {
      "application/vnd.jupyter.widget-view+json": {
       "model_id": "eb6a6eacb6fa41dab7a2b555c1f2148d",
       "version_major": 2,
       "version_minor": 0
      },
      "text/plain": [
       "Handling Subsubfolders:   0%|          | 0/400 [00:00<?, ?it/s]"
      ]
     },
     "metadata": {},
     "output_type": "display_data"
    },
    {
     "data": {
      "application/vnd.jupyter.widget-view+json": {
       "model_id": "196b793a3a4144a9b29c3728b4a80328",
       "version_major": 2,
       "version_minor": 0
      },
      "text/plain": [
       "Handling Subsubfolders:   0%|          | 0/400 [00:00<?, ?it/s]"
      ]
     },
     "metadata": {},
     "output_type": "display_data"
    },
    {
     "data": {
      "application/vnd.jupyter.widget-view+json": {
       "model_id": "597cb4dfdc9f4561b031383e3aafa8b3",
       "version_major": 2,
       "version_minor": 0
      },
      "text/plain": [
       "Handling Subsubfolders:   0%|          | 0/400 [00:00<?, ?it/s]"
      ]
     },
     "metadata": {},
     "output_type": "display_data"
    },
    {
     "data": {
      "application/vnd.jupyter.widget-view+json": {
       "model_id": "03dff6d8e74c46fc99b6cbb844be0ca6",
       "version_major": 2,
       "version_minor": 0
      },
      "text/plain": [
       "Handling Subsubfolders:   0%|          | 0/400 [00:00<?, ?it/s]"
      ]
     },
     "metadata": {},
     "output_type": "display_data"
    },
    {
     "data": {
      "application/vnd.jupyter.widget-view+json": {
       "model_id": "b49f0fac3f2a4567bfa5c9fcf8226f42",
       "version_major": 2,
       "version_minor": 0
      },
      "text/plain": [
       "Handling Subsubfolders:   0%|          | 0/400 [00:00<?, ?it/s]"
      ]
     },
     "metadata": {},
     "output_type": "display_data"
    },
    {
     "data": {
      "application/vnd.jupyter.widget-view+json": {
       "model_id": "9b1f5bf6bd744122aa14925f8b7ca908",
       "version_major": 2,
       "version_minor": 0
      },
      "text/plain": [
       "Handling Subsubfolders:   0%|          | 0/400 [00:00<?, ?it/s]"
      ]
     },
     "metadata": {},
     "output_type": "display_data"
    },
    {
     "data": {
      "application/vnd.jupyter.widget-view+json": {
       "model_id": "547b9af716db45289947be24701f9dab",
       "version_major": 2,
       "version_minor": 0
      },
      "text/plain": [
       "Handling Subsubfolders:   0%|          | 0/400 [00:00<?, ?it/s]"
      ]
     },
     "metadata": {},
     "output_type": "display_data"
    },
    {
     "data": {
      "application/vnd.jupyter.widget-view+json": {
       "model_id": "2497f10f6e33497eac036c73b6c8db50",
       "version_major": 2,
       "version_minor": 0
      },
      "text/plain": [
       "Handling Subsubfolders:   0%|          | 0/400 [00:00<?, ?it/s]"
      ]
     },
     "metadata": {},
     "output_type": "display_data"
    },
    {
     "data": {
      "application/vnd.jupyter.widget-view+json": {
       "model_id": "4abd6fbc483544f1b5712c9f75033e29",
       "version_major": 2,
       "version_minor": 0
      },
      "text/plain": [
       "Handling Subsubfolders:   0%|          | 0/400 [00:00<?, ?it/s]"
      ]
     },
     "metadata": {},
     "output_type": "display_data"
    },
    {
     "data": {
      "application/vnd.jupyter.widget-view+json": {
       "model_id": "08033cce9a8e47b992d121593682a8cf",
       "version_major": 2,
       "version_minor": 0
      },
      "text/plain": [
       "Handling Subsubfolders:   0%|          | 0/400 [00:00<?, ?it/s]"
      ]
     },
     "metadata": {},
     "output_type": "display_data"
    },
    {
     "data": {
      "application/vnd.jupyter.widget-view+json": {
       "model_id": "8f5075fcb05e438dbfa7347a7fac9c13",
       "version_major": 2,
       "version_minor": 0
      },
      "text/plain": [
       "Handling Subsubfolders:   0%|          | 0/400 [00:00<?, ?it/s]"
      ]
     },
     "metadata": {},
     "output_type": "display_data"
    },
    {
     "data": {
      "application/vnd.jupyter.widget-view+json": {
       "model_id": "dbae72d7fe6b4f6899a4d5ef2d2f101a",
       "version_major": 2,
       "version_minor": 0
      },
      "text/plain": [
       "Handling Subsubfolders:   0%|          | 0/400 [00:00<?, ?it/s]"
      ]
     },
     "metadata": {},
     "output_type": "display_data"
    },
    {
     "data": {
      "application/vnd.jupyter.widget-view+json": {
       "model_id": "8ec74dcfe93e47aca4de3961b7e1a13c",
       "version_major": 2,
       "version_minor": 0
      },
      "text/plain": [
       "Handling Subsubfolders:   0%|          | 0/400 [00:00<?, ?it/s]"
      ]
     },
     "metadata": {},
     "output_type": "display_data"
    },
    {
     "data": {
      "application/vnd.jupyter.widget-view+json": {
       "model_id": "870ffad7a40642f7ba3f7bb1582e6aa5",
       "version_major": 2,
       "version_minor": 0
      },
      "text/plain": [
       "Handling Subsubfolders:   0%|          | 0/400 [00:00<?, ?it/s]"
      ]
     },
     "metadata": {},
     "output_type": "display_data"
    },
    {
     "data": {
      "application/vnd.jupyter.widget-view+json": {
       "model_id": "25cbb07bec754fc49def5c9892bebd64",
       "version_major": 2,
       "version_minor": 0
      },
      "text/plain": [
       "Handling Subsubfolders:   0%|          | 0/400 [00:00<?, ?it/s]"
      ]
     },
     "metadata": {},
     "output_type": "display_data"
    },
    {
     "data": {
      "application/vnd.jupyter.widget-view+json": {
       "model_id": "40261d5e94754ce3b4886ac191e8451a",
       "version_major": 2,
       "version_minor": 0
      },
      "text/plain": [
       "Handling Subsubfolders:   0%|          | 0/400 [00:00<?, ?it/s]"
      ]
     },
     "metadata": {},
     "output_type": "display_data"
    },
    {
     "data": {
      "application/vnd.jupyter.widget-view+json": {
       "model_id": "425ac1d4dda84764a41e0616ab45b220",
       "version_major": 2,
       "version_minor": 0
      },
      "text/plain": [
       "Handling Subsubfolders:   0%|          | 0/400 [00:00<?, ?it/s]"
      ]
     },
     "metadata": {},
     "output_type": "display_data"
    },
    {
     "data": {
      "application/vnd.jupyter.widget-view+json": {
       "model_id": "707b6f015b8541e090b99ac88b1e37c6",
       "version_major": 2,
       "version_minor": 0
      },
      "text/plain": [
       "Handling Subsubfolders:   0%|          | 0/400 [00:00<?, ?it/s]"
      ]
     },
     "metadata": {},
     "output_type": "display_data"
    },
    {
     "data": {
      "application/vnd.jupyter.widget-view+json": {
       "model_id": "5a6f8e44dd4c486ebfc517ad1750ec4e",
       "version_major": 2,
       "version_minor": 0
      },
      "text/plain": [
       "Handling Subsubfolders:   0%|          | 0/400 [00:00<?, ?it/s]"
      ]
     },
     "metadata": {},
     "output_type": "display_data"
    },
    {
     "data": {
      "application/vnd.jupyter.widget-view+json": {
       "model_id": "7c22fe6eb61241bcb88b8ed71fdf2fe0",
       "version_major": 2,
       "version_minor": 0
      },
      "text/plain": [
       "Handling Subsubfolders:   0%|          | 0/400 [00:00<?, ?it/s]"
      ]
     },
     "metadata": {},
     "output_type": "display_data"
    },
    {
     "data": {
      "application/vnd.jupyter.widget-view+json": {
       "model_id": "f81144344b6749af9456b968e6f9c42d",
       "version_major": 2,
       "version_minor": 0
      },
      "text/plain": [
       "Handling Subsubfolders:   0%|          | 0/400 [00:00<?, ?it/s]"
      ]
     },
     "metadata": {},
     "output_type": "display_data"
    },
    {
     "data": {
      "application/vnd.jupyter.widget-view+json": {
       "model_id": "82daf094aa804b179b5bc296c53d2c86",
       "version_major": 2,
       "version_minor": 0
      },
      "text/plain": [
       "Handling Subsubfolders:   0%|          | 0/400 [00:00<?, ?it/s]"
      ]
     },
     "metadata": {},
     "output_type": "display_data"
    },
    {
     "data": {
      "application/vnd.jupyter.widget-view+json": {
       "model_id": "bc1be593f7f44407aa8b7dfc556d2a0e",
       "version_major": 2,
       "version_minor": 0
      },
      "text/plain": [
       "Handling Subsubfolders:   0%|          | 0/400 [00:00<?, ?it/s]"
      ]
     },
     "metadata": {},
     "output_type": "display_data"
    },
    {
     "data": {
      "application/vnd.jupyter.widget-view+json": {
       "model_id": "0be0d24e6c644ef18fdf7130c7b400ef",
       "version_major": 2,
       "version_minor": 0
      },
      "text/plain": [
       "Handling Subsubfolders:   0%|          | 0/400 [00:00<?, ?it/s]"
      ]
     },
     "metadata": {},
     "output_type": "display_data"
    },
    {
     "data": {
      "application/vnd.jupyter.widget-view+json": {
       "model_id": "90e23d5f28da4aaf926e0d4ba3fa918e",
       "version_major": 2,
       "version_minor": 0
      },
      "text/plain": [
       "Handling Subsubfolders:   0%|          | 0/400 [00:00<?, ?it/s]"
      ]
     },
     "metadata": {},
     "output_type": "display_data"
    },
    {
     "data": {
      "application/vnd.jupyter.widget-view+json": {
       "model_id": "f4bafc77f5104b48ba5f722096024eb7",
       "version_major": 2,
       "version_minor": 0
      },
      "text/plain": [
       "Handling Subsubfolders:   0%|          | 0/400 [00:00<?, ?it/s]"
      ]
     },
     "metadata": {},
     "output_type": "display_data"
    },
    {
     "data": {
      "application/vnd.jupyter.widget-view+json": {
       "model_id": "30181d6a23d943cc8d9d0b255380247f",
       "version_major": 2,
       "version_minor": 0
      },
      "text/plain": [
       "Handling Subsubfolders:   0%|          | 0/400 [00:00<?, ?it/s]"
      ]
     },
     "metadata": {},
     "output_type": "display_data"
    },
    {
     "data": {
      "application/vnd.jupyter.widget-view+json": {
       "model_id": "64866f317d924d12bafd56ca7a31dfbe",
       "version_major": 2,
       "version_minor": 0
      },
      "text/plain": [
       "Handling Subsubfolders:   0%|          | 0/400 [00:00<?, ?it/s]"
      ]
     },
     "metadata": {},
     "output_type": "display_data"
    },
    {
     "data": {
      "application/vnd.jupyter.widget-view+json": {
       "model_id": "1b604f1f57674b63b6e708c0fdaadc18",
       "version_major": 2,
       "version_minor": 0
      },
      "text/plain": [
       "Handling Subsubfolders:   0%|          | 0/400 [00:00<?, ?it/s]"
      ]
     },
     "metadata": {},
     "output_type": "display_data"
    },
    {
     "data": {
      "application/vnd.jupyter.widget-view+json": {
       "model_id": "7925d67fc6764756ad062407539e984f",
       "version_major": 2,
       "version_minor": 0
      },
      "text/plain": [
       "Handling Subsubfolders:   0%|          | 0/400 [00:00<?, ?it/s]"
      ]
     },
     "metadata": {},
     "output_type": "display_data"
    },
    {
     "data": {
      "application/vnd.jupyter.widget-view+json": {
       "model_id": "a1bd13174518480c8ced1f627367bd0e",
       "version_major": 2,
       "version_minor": 0
      },
      "text/plain": [
       "Handling Subsubfolders:   0%|          | 0/400 [00:00<?, ?it/s]"
      ]
     },
     "metadata": {},
     "output_type": "display_data"
    },
    {
     "data": {
      "application/vnd.jupyter.widget-view+json": {
       "model_id": "28e605dc70d44223b8cfdb583d2edba8",
       "version_major": 2,
       "version_minor": 0
      },
      "text/plain": [
       "Handling Subsubfolders:   0%|          | 0/400 [00:00<?, ?it/s]"
      ]
     },
     "metadata": {},
     "output_type": "display_data"
    },
    {
     "data": {
      "application/vnd.jupyter.widget-view+json": {
       "model_id": "8dfa631927424c1ca8703f6f31085fb5",
       "version_major": 2,
       "version_minor": 0
      },
      "text/plain": [
       "Handling Subsubfolders:   0%|          | 0/400 [00:00<?, ?it/s]"
      ]
     },
     "metadata": {},
     "output_type": "display_data"
    },
    {
     "data": {
      "application/vnd.jupyter.widget-view+json": {
       "model_id": "540a1eb303444ecdbeeb76053045f668",
       "version_major": 2,
       "version_minor": 0
      },
      "text/plain": [
       "Handling Subsubfolders:   0%|          | 0/400 [00:00<?, ?it/s]"
      ]
     },
     "metadata": {},
     "output_type": "display_data"
    },
    {
     "data": {
      "application/vnd.jupyter.widget-view+json": {
       "model_id": "62db132a48a84edaa1911d61912bb62d",
       "version_major": 2,
       "version_minor": 0
      },
      "text/plain": [
       "Handling Subsubfolders:   0%|          | 0/400 [00:00<?, ?it/s]"
      ]
     },
     "metadata": {},
     "output_type": "display_data"
    },
    {
     "data": {
      "application/vnd.jupyter.widget-view+json": {
       "model_id": "dac4725c14d546b4bdf720d7a8d23f11",
       "version_major": 2,
       "version_minor": 0
      },
      "text/plain": [
       "Handling Subsubfolders:   0%|          | 0/400 [00:00<?, ?it/s]"
      ]
     },
     "metadata": {},
     "output_type": "display_data"
    },
    {
     "data": {
      "application/vnd.jupyter.widget-view+json": {
       "model_id": "46bb6aa20e8947d59d0a1c1b0637264b",
       "version_major": 2,
       "version_minor": 0
      },
      "text/plain": [
       "Handling Subsubfolders:   0%|          | 0/400 [00:00<?, ?it/s]"
      ]
     },
     "metadata": {},
     "output_type": "display_data"
    },
    {
     "data": {
      "application/vnd.jupyter.widget-view+json": {
       "model_id": "e0e71e105d0a4284821e43c1b129cb05",
       "version_major": 2,
       "version_minor": 0
      },
      "text/plain": [
       "Handling Subsubfolders:   0%|          | 0/400 [00:00<?, ?it/s]"
      ]
     },
     "metadata": {},
     "output_type": "display_data"
    },
    {
     "data": {
      "application/vnd.jupyter.widget-view+json": {
       "model_id": "f60270f356584bf19b35e7f123509331",
       "version_major": 2,
       "version_minor": 0
      },
      "text/plain": [
       "Handling Subsubfolders:   0%|          | 0/400 [00:00<?, ?it/s]"
      ]
     },
     "metadata": {},
     "output_type": "display_data"
    },
    {
     "data": {
      "application/vnd.jupyter.widget-view+json": {
       "model_id": "647d4342099746e6b6100ac977fbeeb0",
       "version_major": 2,
       "version_minor": 0
      },
      "text/plain": [
       "Handling Subsubfolders:   0%|          | 0/400 [00:00<?, ?it/s]"
      ]
     },
     "metadata": {},
     "output_type": "display_data"
    },
    {
     "data": {
      "application/vnd.jupyter.widget-view+json": {
       "model_id": "4d214bcf783e429db2ba312f11a9d8f1",
       "version_major": 2,
       "version_minor": 0
      },
      "text/plain": [
       "Handling Subsubfolders:   0%|          | 0/400 [00:00<?, ?it/s]"
      ]
     },
     "metadata": {},
     "output_type": "display_data"
    },
    {
     "data": {
      "application/vnd.jupyter.widget-view+json": {
       "model_id": "ddf52159a7ff48669844efa49ffb3277",
       "version_major": 2,
       "version_minor": 0
      },
      "text/plain": [
       "Handling Subsubfolders:   0%|          | 0/400 [00:00<?, ?it/s]"
      ]
     },
     "metadata": {},
     "output_type": "display_data"
    },
    {
     "data": {
      "application/vnd.jupyter.widget-view+json": {
       "model_id": "de58d7623c584c5faa58545c20e8cc1d",
       "version_major": 2,
       "version_minor": 0
      },
      "text/plain": [
       "Handling Subsubfolders:   0%|          | 0/400 [00:00<?, ?it/s]"
      ]
     },
     "metadata": {},
     "output_type": "display_data"
    },
    {
     "data": {
      "application/vnd.jupyter.widget-view+json": {
       "model_id": "6b59ebc02a1945e080e01eb673028c4f",
       "version_major": 2,
       "version_minor": 0
      },
      "text/plain": [
       "Handling Subsubfolders:   0%|          | 0/400 [00:00<?, ?it/s]"
      ]
     },
     "metadata": {},
     "output_type": "display_data"
    },
    {
     "data": {
      "application/vnd.jupyter.widget-view+json": {
       "model_id": "a501b21e92004f428e8e05adba93699a",
       "version_major": 2,
       "version_minor": 0
      },
      "text/plain": [
       "Handling Subsubfolders:   0%|          | 0/400 [00:00<?, ?it/s]"
      ]
     },
     "metadata": {},
     "output_type": "display_data"
    },
    {
     "data": {
      "application/vnd.jupyter.widget-view+json": {
       "model_id": "77f82ee642cd46f8a08e30d705543cbd",
       "version_major": 2,
       "version_minor": 0
      },
      "text/plain": [
       "Handling Subsubfolders:   0%|          | 0/400 [00:00<?, ?it/s]"
      ]
     },
     "metadata": {},
     "output_type": "display_data"
    },
    {
     "data": {
      "application/vnd.jupyter.widget-view+json": {
       "model_id": "24ec6b9d87124353b728d323ae6fa740",
       "version_major": 2,
       "version_minor": 0
      },
      "text/plain": [
       "Handling Subsubfolders:   0%|          | 0/400 [00:00<?, ?it/s]"
      ]
     },
     "metadata": {},
     "output_type": "display_data"
    },
    {
     "data": {
      "application/vnd.jupyter.widget-view+json": {
       "model_id": "a56bcbe17c82454dafe95ae8655ac674",
       "version_major": 2,
       "version_minor": 0
      },
      "text/plain": [
       "Handling Subsubfolders:   0%|          | 0/400 [00:00<?, ?it/s]"
      ]
     },
     "metadata": {},
     "output_type": "display_data"
    },
    {
     "data": {
      "application/vnd.jupyter.widget-view+json": {
       "model_id": "dea1df1606d14ca59d01530ad7c7d01d",
       "version_major": 2,
       "version_minor": 0
      },
      "text/plain": [
       "Handling Subsubfolders:   0%|          | 0/400 [00:00<?, ?it/s]"
      ]
     },
     "metadata": {},
     "output_type": "display_data"
    },
    {
     "data": {
      "application/vnd.jupyter.widget-view+json": {
       "model_id": "c80a1299cf9546d49ca03167591d7be9",
       "version_major": 2,
       "version_minor": 0
      },
      "text/plain": [
       "Handling Subsubfolders:   0%|          | 0/400 [00:00<?, ?it/s]"
      ]
     },
     "metadata": {},
     "output_type": "display_data"
    },
    {
     "data": {
      "application/vnd.jupyter.widget-view+json": {
       "model_id": "d856c545e6834766939c268d8be0daf5",
       "version_major": 2,
       "version_minor": 0
      },
      "text/plain": [
       "Handling Subsubfolders:   0%|          | 0/400 [00:00<?, ?it/s]"
      ]
     },
     "metadata": {},
     "output_type": "display_data"
    },
    {
     "data": {
      "application/vnd.jupyter.widget-view+json": {
       "model_id": "9658f419e55b48b792f65b57996a5cf7",
       "version_major": 2,
       "version_minor": 0
      },
      "text/plain": [
       "Handling Subsubfolders:   0%|          | 0/400 [00:00<?, ?it/s]"
      ]
     },
     "metadata": {},
     "output_type": "display_data"
    },
    {
     "data": {
      "application/vnd.jupyter.widget-view+json": {
       "model_id": "ec2feab66a47471ea3e1f3ce7fd9bb9a",
       "version_major": 2,
       "version_minor": 0
      },
      "text/plain": [
       "Handling Subsubfolders:   0%|          | 0/400 [00:00<?, ?it/s]"
      ]
     },
     "metadata": {},
     "output_type": "display_data"
    },
    {
     "data": {
      "application/vnd.jupyter.widget-view+json": {
       "model_id": "fa802d6d43f14ac6b9475cb317900de2",
       "version_major": 2,
       "version_minor": 0
      },
      "text/plain": [
       "Handling Subsubfolders:   0%|          | 0/400 [00:00<?, ?it/s]"
      ]
     },
     "metadata": {},
     "output_type": "display_data"
    },
    {
     "data": {
      "application/vnd.jupyter.widget-view+json": {
       "model_id": "1f9cfc70e5f04bd3a6db3da3c5fb5649",
       "version_major": 2,
       "version_minor": 0
      },
      "text/plain": [
       "Handling Subsubfolders:   0%|          | 0/400 [00:00<?, ?it/s]"
      ]
     },
     "metadata": {},
     "output_type": "display_data"
    },
    {
     "data": {
      "application/vnd.jupyter.widget-view+json": {
       "model_id": "f708ca7fcc564674b92412904997bd40",
       "version_major": 2,
       "version_minor": 0
      },
      "text/plain": [
       "Handling Subsubfolders:   0%|          | 0/400 [00:00<?, ?it/s]"
      ]
     },
     "metadata": {},
     "output_type": "display_data"
    },
    {
     "data": {
      "application/vnd.jupyter.widget-view+json": {
       "model_id": "d1be0334bc8e46439823ddaa698bae30",
       "version_major": 2,
       "version_minor": 0
      },
      "text/plain": [
       "Handling Subsubfolders:   0%|          | 0/400 [00:00<?, ?it/s]"
      ]
     },
     "metadata": {},
     "output_type": "display_data"
    },
    {
     "data": {
      "application/vnd.jupyter.widget-view+json": {
       "model_id": "b30b7ded1db44089891cc49e39c92c39",
       "version_major": 2,
       "version_minor": 0
      },
      "text/plain": [
       "Handling Subsubfolders:   0%|          | 0/400 [00:00<?, ?it/s]"
      ]
     },
     "metadata": {},
     "output_type": "display_data"
    },
    {
     "data": {
      "application/vnd.jupyter.widget-view+json": {
       "model_id": "2da1f4fa4fa74631b8274599ea2ad77e",
       "version_major": 2,
       "version_minor": 0
      },
      "text/plain": [
       "Handling Subsubfolders:   0%|          | 0/400 [00:00<?, ?it/s]"
      ]
     },
     "metadata": {},
     "output_type": "display_data"
    },
    {
     "data": {
      "application/vnd.jupyter.widget-view+json": {
       "model_id": "dee1e5337fd7416d959a783fcb9f3332",
       "version_major": 2,
       "version_minor": 0
      },
      "text/plain": [
       "Handling Subsubfolders:   0%|          | 0/400 [00:00<?, ?it/s]"
      ]
     },
     "metadata": {},
     "output_type": "display_data"
    },
    {
     "data": {
      "application/vnd.jupyter.widget-view+json": {
       "model_id": "ec227bbae7f647d884ea085c83fc3a14",
       "version_major": 2,
       "version_minor": 0
      },
      "text/plain": [
       "Handling Subsubfolders:   0%|          | 0/400 [00:00<?, ?it/s]"
      ]
     },
     "metadata": {},
     "output_type": "display_data"
    },
    {
     "data": {
      "application/vnd.jupyter.widget-view+json": {
       "model_id": "8dc25ba963d648b2afc42c521a34c401",
       "version_major": 2,
       "version_minor": 0
      },
      "text/plain": [
       "Handling Subsubfolders:   0%|          | 0/400 [00:00<?, ?it/s]"
      ]
     },
     "metadata": {},
     "output_type": "display_data"
    },
    {
     "data": {
      "application/vnd.jupyter.widget-view+json": {
       "model_id": "e59e1cf850c84a699ac718800b32d4c1",
       "version_major": 2,
       "version_minor": 0
      },
      "text/plain": [
       "Handling Subsubfolders:   0%|          | 0/400 [00:00<?, ?it/s]"
      ]
     },
     "metadata": {},
     "output_type": "display_data"
    },
    {
     "data": {
      "application/vnd.jupyter.widget-view+json": {
       "model_id": "9a8efce740394f3ab30e5a43500cc923",
       "version_major": 2,
       "version_minor": 0
      },
      "text/plain": [
       "Handling Subsubfolders:   0%|          | 0/400 [00:00<?, ?it/s]"
      ]
     },
     "metadata": {},
     "output_type": "display_data"
    },
    {
     "data": {
      "application/vnd.jupyter.widget-view+json": {
       "model_id": "d904f139d67148a6a9121cfa93a960bc",
       "version_major": 2,
       "version_minor": 0
      },
      "text/plain": [
       "Handling Subsubfolders:   0%|          | 0/400 [00:00<?, ?it/s]"
      ]
     },
     "metadata": {},
     "output_type": "display_data"
    },
    {
     "data": {
      "application/vnd.jupyter.widget-view+json": {
       "model_id": "19fa5d57007a477baad3ccb89e27d0a1",
       "version_major": 2,
       "version_minor": 0
      },
      "text/plain": [
       "Handling Subsubfolders:   0%|          | 0/400 [00:00<?, ?it/s]"
      ]
     },
     "metadata": {},
     "output_type": "display_data"
    },
    {
     "data": {
      "application/vnd.jupyter.widget-view+json": {
       "model_id": "7b18296af1814dccb47bb2fdd49fdac8",
       "version_major": 2,
       "version_minor": 0
      },
      "text/plain": [
       "Handling Subsubfolders:   0%|          | 0/400 [00:00<?, ?it/s]"
      ]
     },
     "metadata": {},
     "output_type": "display_data"
    },
    {
     "data": {
      "application/vnd.jupyter.widget-view+json": {
       "model_id": "46063b10807b44e8888a16e675ce52de",
       "version_major": 2,
       "version_minor": 0
      },
      "text/plain": [
       "Handling Subsubfolders:   0%|          | 0/400 [00:00<?, ?it/s]"
      ]
     },
     "metadata": {},
     "output_type": "display_data"
    },
    {
     "data": {
      "application/vnd.jupyter.widget-view+json": {
       "model_id": "d47d3429fa2d4895a22a265967b8871a",
       "version_major": 2,
       "version_minor": 0
      },
      "text/plain": [
       "Handling Subsubfolders:   0%|          | 0/400 [00:00<?, ?it/s]"
      ]
     },
     "metadata": {},
     "output_type": "display_data"
    },
    {
     "data": {
      "application/vnd.jupyter.widget-view+json": {
       "model_id": "e236eaafd39d455a9019ed94b1b7d95c",
       "version_major": 2,
       "version_minor": 0
      },
      "text/plain": [
       "Handling Subsubfolders:   0%|          | 0/400 [00:00<?, ?it/s]"
      ]
     },
     "metadata": {},
     "output_type": "display_data"
    },
    {
     "data": {
      "application/vnd.jupyter.widget-view+json": {
       "model_id": "4a5c8f018e304b628ffe1f0513f2fe14",
       "version_major": 2,
       "version_minor": 0
      },
      "text/plain": [
       "Handling Subsubfolders:   0%|          | 0/400 [00:00<?, ?it/s]"
      ]
     },
     "metadata": {},
     "output_type": "display_data"
    },
    {
     "data": {
      "application/vnd.jupyter.widget-view+json": {
       "model_id": "97d3ec9a4b7c4c638068653fe5b7544c",
       "version_major": 2,
       "version_minor": 0
      },
      "text/plain": [
       "Handling Subsubfolders:   0%|          | 0/400 [00:00<?, ?it/s]"
      ]
     },
     "metadata": {},
     "output_type": "display_data"
    },
    {
     "data": {
      "application/vnd.jupyter.widget-view+json": {
       "model_id": "b5017eb7d53241f3a40e784101c973c2",
       "version_major": 2,
       "version_minor": 0
      },
      "text/plain": [
       "Handling Subsubfolders:   0%|          | 0/400 [00:00<?, ?it/s]"
      ]
     },
     "metadata": {},
     "output_type": "display_data"
    },
    {
     "data": {
      "application/vnd.jupyter.widget-view+json": {
       "model_id": "c8ff494990ee4843a40585ede6cc28cb",
       "version_major": 2,
       "version_minor": 0
      },
      "text/plain": [
       "Handling Subsubfolders:   0%|          | 0/400 [00:00<?, ?it/s]"
      ]
     },
     "metadata": {},
     "output_type": "display_data"
    },
    {
     "data": {
      "application/vnd.jupyter.widget-view+json": {
       "model_id": "a68ff331ea524dffa0881e3e11996e94",
       "version_major": 2,
       "version_minor": 0
      },
      "text/plain": [
       "Handling Subsubfolders:   0%|          | 0/400 [00:00<?, ?it/s]"
      ]
     },
     "metadata": {},
     "output_type": "display_data"
    },
    {
     "data": {
      "application/vnd.jupyter.widget-view+json": {
       "model_id": "294dd9bf387d4cc6a177f870f021e740",
       "version_major": 2,
       "version_minor": 0
      },
      "text/plain": [
       "Handling Subsubfolders:   0%|          | 0/400 [00:00<?, ?it/s]"
      ]
     },
     "metadata": {},
     "output_type": "display_data"
    },
    {
     "data": {
      "application/vnd.jupyter.widget-view+json": {
       "model_id": "9b7f7a7f851b49718f9394a831227a10",
       "version_major": 2,
       "version_minor": 0
      },
      "text/plain": [
       "Handling Subsubfolders:   0%|          | 0/400 [00:00<?, ?it/s]"
      ]
     },
     "metadata": {},
     "output_type": "display_data"
    },
    {
     "data": {
      "application/vnd.jupyter.widget-view+json": {
       "model_id": "276f5e7500584bec8a2b902d85fbbaff",
       "version_major": 2,
       "version_minor": 0
      },
      "text/plain": [
       "Handling Subsubfolders:   0%|          | 0/400 [00:00<?, ?it/s]"
      ]
     },
     "metadata": {},
     "output_type": "display_data"
    },
    {
     "data": {
      "application/vnd.jupyter.widget-view+json": {
       "model_id": "e8dbb8564b6f4b68a2aebce09cc70d4f",
       "version_major": 2,
       "version_minor": 0
      },
      "text/plain": [
       "Handling Subsubfolders:   0%|          | 0/400 [00:00<?, ?it/s]"
      ]
     },
     "metadata": {},
     "output_type": "display_data"
    },
    {
     "data": {
      "application/vnd.jupyter.widget-view+json": {
       "model_id": "6e73da48be9c47e09133dc128b308963",
       "version_major": 2,
       "version_minor": 0
      },
      "text/plain": [
       "Handling Subsubfolders:   0%|          | 0/400 [00:00<?, ?it/s]"
      ]
     },
     "metadata": {},
     "output_type": "display_data"
    },
    {
     "data": {
      "application/vnd.jupyter.widget-view+json": {
       "model_id": "c7449a3f5cb5446c8390b86a335a5c6a",
       "version_major": 2,
       "version_minor": 0
      },
      "text/plain": [
       "Handling Subsubfolders:   0%|          | 0/400 [00:00<?, ?it/s]"
      ]
     },
     "metadata": {},
     "output_type": "display_data"
    },
    {
     "data": {
      "application/vnd.jupyter.widget-view+json": {
       "model_id": "ccae60edefa1468cb25e9cbbb87f7ae6",
       "version_major": 2,
       "version_minor": 0
      },
      "text/plain": [
       "Handling Subsubfolders:   0%|          | 0/400 [00:00<?, ?it/s]"
      ]
     },
     "metadata": {},
     "output_type": "display_data"
    },
    {
     "data": {
      "application/vnd.jupyter.widget-view+json": {
       "model_id": "325cfbfd6bfe4007beb650cdd774372b",
       "version_major": 2,
       "version_minor": 0
      },
      "text/plain": [
       "Handling Subsubfolders:   0%|          | 0/400 [00:00<?, ?it/s]"
      ]
     },
     "metadata": {},
     "output_type": "display_data"
    },
    {
     "data": {
      "application/vnd.jupyter.widget-view+json": {
       "model_id": "1b1f27b901dd444b8d24d2f1de447575",
       "version_major": 2,
       "version_minor": 0
      },
      "text/plain": [
       "Handling Subsubfolders:   0%|          | 0/400 [00:00<?, ?it/s]"
      ]
     },
     "metadata": {},
     "output_type": "display_data"
    },
    {
     "data": {
      "application/vnd.jupyter.widget-view+json": {
       "model_id": "8efed0daab3745e6807598fc071503e0",
       "version_major": 2,
       "version_minor": 0
      },
      "text/plain": [
       "Handling Subsubfolders:   0%|          | 0/400 [00:00<?, ?it/s]"
      ]
     },
     "metadata": {},
     "output_type": "display_data"
    },
    {
     "data": {
      "application/vnd.jupyter.widget-view+json": {
       "model_id": "cb01beca857b4aaeba9a67019e27f10f",
       "version_major": 2,
       "version_minor": 0
      },
      "text/plain": [
       "Handling Subsubfolders:   0%|          | 0/400 [00:00<?, ?it/s]"
      ]
     },
     "metadata": {},
     "output_type": "display_data"
    },
    {
     "data": {
      "application/vnd.jupyter.widget-view+json": {
       "model_id": "3f38239608cd4b5c94d27982ad164324",
       "version_major": 2,
       "version_minor": 0
      },
      "text/plain": [
       "Handling Subsubfolders:   0%|          | 0/400 [00:00<?, ?it/s]"
      ]
     },
     "metadata": {},
     "output_type": "display_data"
    },
    {
     "data": {
      "application/vnd.jupyter.widget-view+json": {
       "model_id": "f775b7a9522244d8889b3eb931ed5f27",
       "version_major": 2,
       "version_minor": 0
      },
      "text/plain": [
       "Handling Subsubfolders:   0%|          | 0/400 [00:00<?, ?it/s]"
      ]
     },
     "metadata": {},
     "output_type": "display_data"
    },
    {
     "data": {
      "application/vnd.jupyter.widget-view+json": {
       "model_id": "2975d97dc2d641b1a8ea91b4e31925e1",
       "version_major": 2,
       "version_minor": 0
      },
      "text/plain": [
       "Handling Subsubfolders:   0%|          | 0/400 [00:00<?, ?it/s]"
      ]
     },
     "metadata": {},
     "output_type": "display_data"
    },
    {
     "data": {
      "application/vnd.jupyter.widget-view+json": {
       "model_id": "d2367d4d3bca400b822c51f2d1e09042",
       "version_major": 2,
       "version_minor": 0
      },
      "text/plain": [
       "Handling Subsubfolders:   0%|          | 0/400 [00:00<?, ?it/s]"
      ]
     },
     "metadata": {},
     "output_type": "display_data"
    },
    {
     "data": {
      "application/vnd.jupyter.widget-view+json": {
       "model_id": "78b658ad61fd4783a67b66fa4b3ea2f7",
       "version_major": 2,
       "version_minor": 0
      },
      "text/plain": [
       "Handling Subsubfolders:   0%|          | 0/400 [00:00<?, ?it/s]"
      ]
     },
     "metadata": {},
     "output_type": "display_data"
    },
    {
     "data": {
      "application/vnd.jupyter.widget-view+json": {
       "model_id": "aed058c63f6b4ae1964c4105732cfcb5",
       "version_major": 2,
       "version_minor": 0
      },
      "text/plain": [
       "Handling Subsubfolders:   0%|          | 0/400 [00:00<?, ?it/s]"
      ]
     },
     "metadata": {},
     "output_type": "display_data"
    },
    {
     "data": {
      "application/vnd.jupyter.widget-view+json": {
       "model_id": "3a6b2c446b2c4ccc9846a7818d465ea4",
       "version_major": 2,
       "version_minor": 0
      },
      "text/plain": [
       "Handling Subsubfolders:   0%|          | 0/400 [00:00<?, ?it/s]"
      ]
     },
     "metadata": {},
     "output_type": "display_data"
    },
    {
     "data": {
      "application/vnd.jupyter.widget-view+json": {
       "model_id": "2a66005a8d104dfdbbc8e8d9114fbd7d",
       "version_major": 2,
       "version_minor": 0
      },
      "text/plain": [
       "Handling Subsubfolders:   0%|          | 0/400 [00:00<?, ?it/s]"
      ]
     },
     "metadata": {},
     "output_type": "display_data"
    },
    {
     "data": {
      "application/vnd.jupyter.widget-view+json": {
       "model_id": "1ff8145d3ec24a7a89571b48aa7474c9",
       "version_major": 2,
       "version_minor": 0
      },
      "text/plain": [
       "Handling Subsubfolders:   0%|          | 0/400 [00:00<?, ?it/s]"
      ]
     },
     "metadata": {},
     "output_type": "display_data"
    },
    {
     "data": {
      "application/vnd.jupyter.widget-view+json": {
       "model_id": "9753a3b7c3964dc28ae37ae0775e22b0",
       "version_major": 2,
       "version_minor": 0
      },
      "text/plain": [
       "Handling Subsubfolders:   0%|          | 0/400 [00:00<?, ?it/s]"
      ]
     },
     "metadata": {},
     "output_type": "display_data"
    },
    {
     "data": {
      "application/vnd.jupyter.widget-view+json": {
       "model_id": "2ac286b94c3a4853b177a49e133b5fe2",
       "version_major": 2,
       "version_minor": 0
      },
      "text/plain": [
       "Handling Subsubfolders:   0%|          | 0/400 [00:00<?, ?it/s]"
      ]
     },
     "metadata": {},
     "output_type": "display_data"
    },
    {
     "data": {
      "application/vnd.jupyter.widget-view+json": {
       "model_id": "93dad7e07af943d890a81d7634aa6e9a",
       "version_major": 2,
       "version_minor": 0
      },
      "text/plain": [
       "Handling Subsubfolders:   0%|          | 0/400 [00:00<?, ?it/s]"
      ]
     },
     "metadata": {},
     "output_type": "display_data"
    },
    {
     "data": {
      "application/vnd.jupyter.widget-view+json": {
       "model_id": "6ef1e12a99e548a9adbc0738cbfa9a33",
       "version_major": 2,
       "version_minor": 0
      },
      "text/plain": [
       "Handling Subsubfolders:   0%|          | 0/400 [00:00<?, ?it/s]"
      ]
     },
     "metadata": {},
     "output_type": "display_data"
    },
    {
     "data": {
      "application/vnd.jupyter.widget-view+json": {
       "model_id": "df5d9b2eb46e4e909dde5c4e7f71c9b0",
       "version_major": 2,
       "version_minor": 0
      },
      "text/plain": [
       "Handling Subsubfolders:   0%|          | 0/400 [00:00<?, ?it/s]"
      ]
     },
     "metadata": {},
     "output_type": "display_data"
    },
    {
     "data": {
      "application/vnd.jupyter.widget-view+json": {
       "model_id": "20b90813b7824a39b93ae22c4cb8dc4e",
       "version_major": 2,
       "version_minor": 0
      },
      "text/plain": [
       "Handling Subsubfolders:   0%|          | 0/400 [00:00<?, ?it/s]"
      ]
     },
     "metadata": {},
     "output_type": "display_data"
    },
    {
     "data": {
      "application/vnd.jupyter.widget-view+json": {
       "model_id": "2ce1f0ad8ceb48d9b0f5d3d81877fd2c",
       "version_major": 2,
       "version_minor": 0
      },
      "text/plain": [
       "Handling Subsubfolders:   0%|          | 0/400 [00:00<?, ?it/s]"
      ]
     },
     "metadata": {},
     "output_type": "display_data"
    },
    {
     "data": {
      "application/vnd.jupyter.widget-view+json": {
       "model_id": "fad5812a9f5e4e05a09974628584f23d",
       "version_major": 2,
       "version_minor": 0
      },
      "text/plain": [
       "Handling Subsubfolders:   0%|          | 0/400 [00:00<?, ?it/s]"
      ]
     },
     "metadata": {},
     "output_type": "display_data"
    },
    {
     "data": {
      "application/vnd.jupyter.widget-view+json": {
       "model_id": "8a7e8d8c6b61432e8567eaa9ec4d9859",
       "version_major": 2,
       "version_minor": 0
      },
      "text/plain": [
       "Handling Subsubfolders:   0%|          | 0/400 [00:00<?, ?it/s]"
      ]
     },
     "metadata": {},
     "output_type": "display_data"
    },
    {
     "data": {
      "application/vnd.jupyter.widget-view+json": {
       "model_id": "70fbcf7b903f48cdb686727a8e369b13",
       "version_major": 2,
       "version_minor": 0
      },
      "text/plain": [
       "Handling Subsubfolders:   0%|          | 0/400 [00:00<?, ?it/s]"
      ]
     },
     "metadata": {},
     "output_type": "display_data"
    },
    {
     "data": {
      "application/vnd.jupyter.widget-view+json": {
       "model_id": "0f43625f90054c2aaca56bf88e9ccb83",
       "version_major": 2,
       "version_minor": 0
      },
      "text/plain": [
       "Handling Subsubfolders:   0%|          | 0/400 [00:00<?, ?it/s]"
      ]
     },
     "metadata": {},
     "output_type": "display_data"
    },
    {
     "data": {
      "application/vnd.jupyter.widget-view+json": {
       "model_id": "49b5c4cb9dcd44e4af5565036e847950",
       "version_major": 2,
       "version_minor": 0
      },
      "text/plain": [
       "Handling Subsubfolders:   0%|          | 0/400 [00:00<?, ?it/s]"
      ]
     },
     "metadata": {},
     "output_type": "display_data"
    },
    {
     "data": {
      "application/vnd.jupyter.widget-view+json": {
       "model_id": "73c287fb5f4145b99c449ad4aebdf384",
       "version_major": 2,
       "version_minor": 0
      },
      "text/plain": [
       "Handling Subsubfolders:   0%|          | 0/400 [00:00<?, ?it/s]"
      ]
     },
     "metadata": {},
     "output_type": "display_data"
    },
    {
     "data": {
      "application/vnd.jupyter.widget-view+json": {
       "model_id": "3533ddbee5cc4d7a8742f7434006e7f8",
       "version_major": 2,
       "version_minor": 0
      },
      "text/plain": [
       "Handling Subsubfolders:   0%|          | 0/400 [00:00<?, ?it/s]"
      ]
     },
     "metadata": {},
     "output_type": "display_data"
    },
    {
     "data": {
      "application/vnd.jupyter.widget-view+json": {
       "model_id": "1c0bd442c73846c4af5030e74bb33319",
       "version_major": 2,
       "version_minor": 0
      },
      "text/plain": [
       "Handling Subsubfolders:   0%|          | 0/400 [00:00<?, ?it/s]"
      ]
     },
     "metadata": {},
     "output_type": "display_data"
    },
    {
     "data": {
      "application/vnd.jupyter.widget-view+json": {
       "model_id": "daba4da4c16e428197860b749aeaccc1",
       "version_major": 2,
       "version_minor": 0
      },
      "text/plain": [
       "Handling Subsubfolders:   0%|          | 0/400 [00:00<?, ?it/s]"
      ]
     },
     "metadata": {},
     "output_type": "display_data"
    },
    {
     "data": {
      "application/vnd.jupyter.widget-view+json": {
       "model_id": "d1ae0363bd9c47199ee044abe3881522",
       "version_major": 2,
       "version_minor": 0
      },
      "text/plain": [
       "Handling Subsubfolders:   0%|          | 0/400 [00:00<?, ?it/s]"
      ]
     },
     "metadata": {},
     "output_type": "display_data"
    },
    {
     "data": {
      "application/vnd.jupyter.widget-view+json": {
       "model_id": "942f48391d2f442e834955f592e03343",
       "version_major": 2,
       "version_minor": 0
      },
      "text/plain": [
       "Handling Subsubfolders:   0%|          | 0/400 [00:00<?, ?it/s]"
      ]
     },
     "metadata": {},
     "output_type": "display_data"
    },
    {
     "data": {
      "application/vnd.jupyter.widget-view+json": {
       "model_id": "8d0f52e99ec24364962017bbab7c40e3",
       "version_major": 2,
       "version_minor": 0
      },
      "text/plain": [
       "Handling Subsubfolders:   0%|          | 0/400 [00:00<?, ?it/s]"
      ]
     },
     "metadata": {},
     "output_type": "display_data"
    },
    {
     "data": {
      "application/vnd.jupyter.widget-view+json": {
       "model_id": "73e8a62aada740a490a5113f631355f3",
       "version_major": 2,
       "version_minor": 0
      },
      "text/plain": [
       "Handling Subsubfolders:   0%|          | 0/400 [00:00<?, ?it/s]"
      ]
     },
     "metadata": {},
     "output_type": "display_data"
    },
    {
     "data": {
      "application/vnd.jupyter.widget-view+json": {
       "model_id": "c2b5c84c56044b5ca334e4ab8c381ed9",
       "version_major": 2,
       "version_minor": 0
      },
      "text/plain": [
       "Handling Subsubfolders:   0%|          | 0/400 [00:00<?, ?it/s]"
      ]
     },
     "metadata": {},
     "output_type": "display_data"
    },
    {
     "data": {
      "application/vnd.jupyter.widget-view+json": {
       "model_id": "94b945bbf11b41eabd55cebbfca13c5b",
       "version_major": 2,
       "version_minor": 0
      },
      "text/plain": [
       "Handling Subsubfolders:   0%|          | 0/400 [00:00<?, ?it/s]"
      ]
     },
     "metadata": {},
     "output_type": "display_data"
    },
    {
     "data": {
      "application/vnd.jupyter.widget-view+json": {
       "model_id": "f5fd9bd03ec04c55a867990cd0ab3c75",
       "version_major": 2,
       "version_minor": 0
      },
      "text/plain": [
       "Handling Subsubfolders:   0%|          | 0/400 [00:00<?, ?it/s]"
      ]
     },
     "metadata": {},
     "output_type": "display_data"
    },
    {
     "data": {
      "application/vnd.jupyter.widget-view+json": {
       "model_id": "50a358bcd70549cca30100666ce4541c",
       "version_major": 2,
       "version_minor": 0
      },
      "text/plain": [
       "Handling Subsubfolders:   0%|          | 0/400 [00:00<?, ?it/s]"
      ]
     },
     "metadata": {},
     "output_type": "display_data"
    },
    {
     "data": {
      "application/vnd.jupyter.widget-view+json": {
       "model_id": "b1ccc214cd154378a08c448ce665a70b",
       "version_major": 2,
       "version_minor": 0
      },
      "text/plain": [
       "Handling Subsubfolders:   0%|          | 0/400 [00:00<?, ?it/s]"
      ]
     },
     "metadata": {},
     "output_type": "display_data"
    },
    {
     "data": {
      "application/vnd.jupyter.widget-view+json": {
       "model_id": "5f984c420409401a8225b102b91ec25d",
       "version_major": 2,
       "version_minor": 0
      },
      "text/plain": [
       "Handling Subsubfolders:   0%|          | 0/400 [00:00<?, ?it/s]"
      ]
     },
     "metadata": {},
     "output_type": "display_data"
    },
    {
     "data": {
      "application/vnd.jupyter.widget-view+json": {
       "model_id": "04808179a3ed48b7a524c75b7416fbca",
       "version_major": 2,
       "version_minor": 0
      },
      "text/plain": [
       "Handling Subsubfolders:   0%|          | 0/400 [00:00<?, ?it/s]"
      ]
     },
     "metadata": {},
     "output_type": "display_data"
    },
    {
     "data": {
      "application/vnd.jupyter.widget-view+json": {
       "model_id": "69f1312c775f4380809aa5cb6e64d388",
       "version_major": 2,
       "version_minor": 0
      },
      "text/plain": [
       "Handling Subsubfolders:   0%|          | 0/400 [00:00<?, ?it/s]"
      ]
     },
     "metadata": {},
     "output_type": "display_data"
    },
    {
     "data": {
      "application/vnd.jupyter.widget-view+json": {
       "model_id": "76044dd1be864b3f9a9517a292b09a8a",
       "version_major": 2,
       "version_minor": 0
      },
      "text/plain": [
       "Handling Subsubfolders:   0%|          | 0/400 [00:00<?, ?it/s]"
      ]
     },
     "metadata": {},
     "output_type": "display_data"
    },
    {
     "data": {
      "application/vnd.jupyter.widget-view+json": {
       "model_id": "e51e7b374a804da9ace7d1c3c2c6bc93",
       "version_major": 2,
       "version_minor": 0
      },
      "text/plain": [
       "Handling Subsubfolders:   0%|          | 0/400 [00:00<?, ?it/s]"
      ]
     },
     "metadata": {},
     "output_type": "display_data"
    },
    {
     "data": {
      "application/vnd.jupyter.widget-view+json": {
       "model_id": "733c920be7ea49a39c916354f9ce3166",
       "version_major": 2,
       "version_minor": 0
      },
      "text/plain": [
       "Handling Subsubfolders:   0%|          | 0/400 [00:00<?, ?it/s]"
      ]
     },
     "metadata": {},
     "output_type": "display_data"
    },
    {
     "data": {
      "application/vnd.jupyter.widget-view+json": {
       "model_id": "f384dd40622a4c63b3d8931167cd8a38",
       "version_major": 2,
       "version_minor": 0
      },
      "text/plain": [
       "Handling Subsubfolders:   0%|          | 0/400 [00:00<?, ?it/s]"
      ]
     },
     "metadata": {},
     "output_type": "display_data"
    },
    {
     "data": {
      "application/vnd.jupyter.widget-view+json": {
       "model_id": "592e8cc5a9874016ae511e49cf6dea55",
       "version_major": 2,
       "version_minor": 0
      },
      "text/plain": [
       "Handling Subsubfolders:   0%|          | 0/400 [00:00<?, ?it/s]"
      ]
     },
     "metadata": {},
     "output_type": "display_data"
    },
    {
     "data": {
      "application/vnd.jupyter.widget-view+json": {
       "model_id": "e2961a5701ea4190b696fb074a565b5a",
       "version_major": 2,
       "version_minor": 0
      },
      "text/plain": [
       "Handling Subsubfolders:   0%|          | 0/400 [00:00<?, ?it/s]"
      ]
     },
     "metadata": {},
     "output_type": "display_data"
    },
    {
     "data": {
      "application/vnd.jupyter.widget-view+json": {
       "model_id": "a8cf0a99e74d415ca5161682977dd6c4",
       "version_major": 2,
       "version_minor": 0
      },
      "text/plain": [
       "Handling Subsubfolders:   0%|          | 0/400 [00:00<?, ?it/s]"
      ]
     },
     "metadata": {},
     "output_type": "display_data"
    },
    {
     "data": {
      "application/vnd.jupyter.widget-view+json": {
       "model_id": "86116234764a44ff8598bcb9d034c23c",
       "version_major": 2,
       "version_minor": 0
      },
      "text/plain": [
       "Handling Subsubfolders:   0%|          | 0/400 [00:00<?, ?it/s]"
      ]
     },
     "metadata": {},
     "output_type": "display_data"
    },
    {
     "data": {
      "application/vnd.jupyter.widget-view+json": {
       "model_id": "89aa7438461e4209abfe1cf3cc3b9097",
       "version_major": 2,
       "version_minor": 0
      },
      "text/plain": [
       "Handling Subsubfolders:   0%|          | 0/400 [00:00<?, ?it/s]"
      ]
     },
     "metadata": {},
     "output_type": "display_data"
    },
    {
     "data": {
      "application/vnd.jupyter.widget-view+json": {
       "model_id": "417ad5501d2f4e79b5c150a469404368",
       "version_major": 2,
       "version_minor": 0
      },
      "text/plain": [
       "Handling Subsubfolders:   0%|          | 0/400 [00:00<?, ?it/s]"
      ]
     },
     "metadata": {},
     "output_type": "display_data"
    },
    {
     "data": {
      "application/vnd.jupyter.widget-view+json": {
       "model_id": "c864ebba1221477094b216adc7ca1976",
       "version_major": 2,
       "version_minor": 0
      },
      "text/plain": [
       "Handling Subsubfolders:   0%|          | 0/400 [00:00<?, ?it/s]"
      ]
     },
     "metadata": {},
     "output_type": "display_data"
    },
    {
     "data": {
      "application/vnd.jupyter.widget-view+json": {
       "model_id": "ec07fa1db50644a79dccfb03e19a178c",
       "version_major": 2,
       "version_minor": 0
      },
      "text/plain": [
       "Handling Subsubfolders:   0%|          | 0/400 [00:00<?, ?it/s]"
      ]
     },
     "metadata": {},
     "output_type": "display_data"
    },
    {
     "data": {
      "application/vnd.jupyter.widget-view+json": {
       "model_id": "8b93403384ee469499f477da6ef3840b",
       "version_major": 2,
       "version_minor": 0
      },
      "text/plain": [
       "Handling Subsubfolders:   0%|          | 0/400 [00:00<?, ?it/s]"
      ]
     },
     "metadata": {},
     "output_type": "display_data"
    },
    {
     "data": {
      "application/vnd.jupyter.widget-view+json": {
       "model_id": "43d82d5117d945abaa8677be78c33e9b",
       "version_major": 2,
       "version_minor": 0
      },
      "text/plain": [
       "Handling Subsubfolders:   0%|          | 0/400 [00:00<?, ?it/s]"
      ]
     },
     "metadata": {},
     "output_type": "display_data"
    },
    {
     "data": {
      "application/vnd.jupyter.widget-view+json": {
       "model_id": "ee0479acc6294822ab842368a8da4325",
       "version_major": 2,
       "version_minor": 0
      },
      "text/plain": [
       "Handling Subsubfolders:   0%|          | 0/400 [00:00<?, ?it/s]"
      ]
     },
     "metadata": {},
     "output_type": "display_data"
    },
    {
     "data": {
      "application/vnd.jupyter.widget-view+json": {
       "model_id": "45203f5bc6e24798b6d3c174c1c6ae46",
       "version_major": 2,
       "version_minor": 0
      },
      "text/plain": [
       "Handling Subsubfolders:   0%|          | 0/400 [00:00<?, ?it/s]"
      ]
     },
     "metadata": {},
     "output_type": "display_data"
    },
    {
     "data": {
      "application/vnd.jupyter.widget-view+json": {
       "model_id": "3c0d5b1c76cf43abba2d702bda4f289e",
       "version_major": 2,
       "version_minor": 0
      },
      "text/plain": [
       "Handling Subsubfolders:   0%|          | 0/400 [00:00<?, ?it/s]"
      ]
     },
     "metadata": {},
     "output_type": "display_data"
    },
    {
     "data": {
      "application/vnd.jupyter.widget-view+json": {
       "model_id": "ec1652204c214107adf0847bc2832758",
       "version_major": 2,
       "version_minor": 0
      },
      "text/plain": [
       "Handling Subsubfolders:   0%|          | 0/400 [00:00<?, ?it/s]"
      ]
     },
     "metadata": {},
     "output_type": "display_data"
    },
    {
     "data": {
      "application/vnd.jupyter.widget-view+json": {
       "model_id": "fe39c058f36b4f4b9f7c49703e9e7314",
       "version_major": 2,
       "version_minor": 0
      },
      "text/plain": [
       "Handling Subsubfolders:   0%|          | 0/400 [00:00<?, ?it/s]"
      ]
     },
     "metadata": {},
     "output_type": "display_data"
    },
    {
     "data": {
      "application/vnd.jupyter.widget-view+json": {
       "model_id": "7faef23f42b64bbe8c8550d421d2fb0e",
       "version_major": 2,
       "version_minor": 0
      },
      "text/plain": [
       "Handling Subsubfolders:   0%|          | 0/400 [00:00<?, ?it/s]"
      ]
     },
     "metadata": {},
     "output_type": "display_data"
    },
    {
     "data": {
      "application/vnd.jupyter.widget-view+json": {
       "model_id": "c7ea01d8afcc4d3c9077c975c219c2d2",
       "version_major": 2,
       "version_minor": 0
      },
      "text/plain": [
       "Handling Subsubfolders:   0%|          | 0/400 [00:00<?, ?it/s]"
      ]
     },
     "metadata": {},
     "output_type": "display_data"
    },
    {
     "data": {
      "application/vnd.jupyter.widget-view+json": {
       "model_id": "7f0371eb5ced49d284d336c36c7fce2b",
       "version_major": 2,
       "version_minor": 0
      },
      "text/plain": [
       "Handling Subsubfolders:   0%|          | 0/400 [00:00<?, ?it/s]"
      ]
     },
     "metadata": {},
     "output_type": "display_data"
    },
    {
     "data": {
      "application/vnd.jupyter.widget-view+json": {
       "model_id": "a881c6023c2c4f0d88b01cd7babc68f8",
       "version_major": 2,
       "version_minor": 0
      },
      "text/plain": [
       "Handling Subsubfolders:   0%|          | 0/400 [00:00<?, ?it/s]"
      ]
     },
     "metadata": {},
     "output_type": "display_data"
    },
    {
     "data": {
      "application/vnd.jupyter.widget-view+json": {
       "model_id": "08d10c7c8b394e4693ba0ddb96b0e420",
       "version_major": 2,
       "version_minor": 0
      },
      "text/plain": [
       "Handling Subsubfolders:   0%|          | 0/400 [00:00<?, ?it/s]"
      ]
     },
     "metadata": {},
     "output_type": "display_data"
    },
    {
     "data": {
      "application/vnd.jupyter.widget-view+json": {
       "model_id": "bc9a3abe19de434eb280f6f58a265dec",
       "version_major": 2,
       "version_minor": 0
      },
      "text/plain": [
       "Handling Subsubfolders:   0%|          | 0/400 [00:00<?, ?it/s]"
      ]
     },
     "metadata": {},
     "output_type": "display_data"
    },
    {
     "data": {
      "application/vnd.jupyter.widget-view+json": {
       "model_id": "599b03374ff24688885ac84f8ca1e9ff",
       "version_major": 2,
       "version_minor": 0
      },
      "text/plain": [
       "Handling Subsubfolders:   0%|          | 0/400 [00:00<?, ?it/s]"
      ]
     },
     "metadata": {},
     "output_type": "display_data"
    },
    {
     "data": {
      "application/vnd.jupyter.widget-view+json": {
       "model_id": "43182b30b2ef419ca0edddfa423adc62",
       "version_major": 2,
       "version_minor": 0
      },
      "text/plain": [
       "Handling Subsubfolders:   0%|          | 0/400 [00:00<?, ?it/s]"
      ]
     },
     "metadata": {},
     "output_type": "display_data"
    },
    {
     "data": {
      "application/vnd.jupyter.widget-view+json": {
       "model_id": "c27acb1f2f734b979619e375ceb6db33",
       "version_major": 2,
       "version_minor": 0
      },
      "text/plain": [
       "Handling Subsubfolders:   0%|          | 0/400 [00:00<?, ?it/s]"
      ]
     },
     "metadata": {},
     "output_type": "display_data"
    },
    {
     "data": {
      "application/vnd.jupyter.widget-view+json": {
       "model_id": "118321a5d75046e48296fd1c59ba1896",
       "version_major": 2,
       "version_minor": 0
      },
      "text/plain": [
       "Handling Subsubfolders:   0%|          | 0/400 [00:00<?, ?it/s]"
      ]
     },
     "metadata": {},
     "output_type": "display_data"
    },
    {
     "data": {
      "application/vnd.jupyter.widget-view+json": {
       "model_id": "34f3aad9168b4f079abd7099d3dd2188",
       "version_major": 2,
       "version_minor": 0
      },
      "text/plain": [
       "Handling Subsubfolders:   0%|          | 0/400 [00:00<?, ?it/s]"
      ]
     },
     "metadata": {},
     "output_type": "display_data"
    },
    {
     "data": {
      "application/vnd.jupyter.widget-view+json": {
       "model_id": "994bbe0532cd4add8622821b62b47e47",
       "version_major": 2,
       "version_minor": 0
      },
      "text/plain": [
       "Handling Subsubfolders:   0%|          | 0/400 [00:00<?, ?it/s]"
      ]
     },
     "metadata": {},
     "output_type": "display_data"
    },
    {
     "data": {
      "application/vnd.jupyter.widget-view+json": {
       "model_id": "dc524cd9cba747eb98aadcadb4e22d27",
       "version_major": 2,
       "version_minor": 0
      },
      "text/plain": [
       "Handling Subsubfolders:   0%|          | 0/400 [00:00<?, ?it/s]"
      ]
     },
     "metadata": {},
     "output_type": "display_data"
    },
    {
     "data": {
      "application/vnd.jupyter.widget-view+json": {
       "model_id": "d429d6d5f9ce4043bca871406531ebce",
       "version_major": 2,
       "version_minor": 0
      },
      "text/plain": [
       "Handling Subsubfolders:   0%|          | 0/400 [00:00<?, ?it/s]"
      ]
     },
     "metadata": {},
     "output_type": "display_data"
    },
    {
     "data": {
      "application/vnd.jupyter.widget-view+json": {
       "model_id": "c9f706da791940da9a82ba3b098d000b",
       "version_major": 2,
       "version_minor": 0
      },
      "text/plain": [
       "Handling Subsubfolders:   0%|          | 0/400 [00:00<?, ?it/s]"
      ]
     },
     "metadata": {},
     "output_type": "display_data"
    },
    {
     "data": {
      "application/vnd.jupyter.widget-view+json": {
       "model_id": "248edbf7fb1941b19238b18711869243",
       "version_major": 2,
       "version_minor": 0
      },
      "text/plain": [
       "Handling Subsubfolders:   0%|          | 0/400 [00:00<?, ?it/s]"
      ]
     },
     "metadata": {},
     "output_type": "display_data"
    },
    {
     "data": {
      "application/vnd.jupyter.widget-view+json": {
       "model_id": "26c4ea8cb2e34996b3ce19d67e652cfe",
       "version_major": 2,
       "version_minor": 0
      },
      "text/plain": [
       "Handling Subsubfolders:   0%|          | 0/400 [00:00<?, ?it/s]"
      ]
     },
     "metadata": {},
     "output_type": "display_data"
    },
    {
     "data": {
      "application/vnd.jupyter.widget-view+json": {
       "model_id": "15630c44598a42a4950fd1459f854153",
       "version_major": 2,
       "version_minor": 0
      },
      "text/plain": [
       "Handling Subsubfolders:   0%|          | 0/400 [00:00<?, ?it/s]"
      ]
     },
     "metadata": {},
     "output_type": "display_data"
    },
    {
     "data": {
      "application/vnd.jupyter.widget-view+json": {
       "model_id": "0c49dfe412d54db99f0f9d8a665980ba",
       "version_major": 2,
       "version_minor": 0
      },
      "text/plain": [
       "Handling Subsubfolders:   0%|          | 0/400 [00:00<?, ?it/s]"
      ]
     },
     "metadata": {},
     "output_type": "display_data"
    },
    {
     "data": {
      "application/vnd.jupyter.widget-view+json": {
       "model_id": "68732bceae334779a4a4badb5cec1f8e",
       "version_major": 2,
       "version_minor": 0
      },
      "text/plain": [
       "Handling Subsubfolders:   0%|          | 0/400 [00:00<?, ?it/s]"
      ]
     },
     "metadata": {},
     "output_type": "display_data"
    },
    {
     "data": {
      "application/vnd.jupyter.widget-view+json": {
       "model_id": "dae7e46eb6674297af38f3c5dcfc0753",
       "version_major": 2,
       "version_minor": 0
      },
      "text/plain": [
       "Handling Subsubfolders:   0%|          | 0/400 [00:00<?, ?it/s]"
      ]
     },
     "metadata": {},
     "output_type": "display_data"
    },
    {
     "data": {
      "application/vnd.jupyter.widget-view+json": {
       "model_id": "d2c0e5849d954fbc8e70176fd25ae129",
       "version_major": 2,
       "version_minor": 0
      },
      "text/plain": [
       "Handling Subsubfolders:   0%|          | 0/400 [00:00<?, ?it/s]"
      ]
     },
     "metadata": {},
     "output_type": "display_data"
    },
    {
     "data": {
      "application/vnd.jupyter.widget-view+json": {
       "model_id": "dc7d6379f130495f8b360dce8287e62b",
       "version_major": 2,
       "version_minor": 0
      },
      "text/plain": [
       "Handling Subsubfolders:   0%|          | 0/400 [00:00<?, ?it/s]"
      ]
     },
     "metadata": {},
     "output_type": "display_data"
    },
    {
     "data": {
      "application/vnd.jupyter.widget-view+json": {
       "model_id": "2f3614f6f2ae4d6a9ea45198a40dfbae",
       "version_major": 2,
       "version_minor": 0
      },
      "text/plain": [
       "Handling Subsubfolders:   0%|          | 0/400 [00:00<?, ?it/s]"
      ]
     },
     "metadata": {},
     "output_type": "display_data"
    },
    {
     "data": {
      "application/vnd.jupyter.widget-view+json": {
       "model_id": "ec5b5acd34dc4c0587a1a9b196f70918",
       "version_major": 2,
       "version_minor": 0
      },
      "text/plain": [
       "Handling Subsubfolders:   0%|          | 0/400 [00:00<?, ?it/s]"
      ]
     },
     "metadata": {},
     "output_type": "display_data"
    },
    {
     "data": {
      "application/vnd.jupyter.widget-view+json": {
       "model_id": "12fb041f46e04a0fa05187664357f50b",
       "version_major": 2,
       "version_minor": 0
      },
      "text/plain": [
       "Handling Subsubfolders:   0%|          | 0/400 [00:00<?, ?it/s]"
      ]
     },
     "metadata": {},
     "output_type": "display_data"
    },
    {
     "data": {
      "application/vnd.jupyter.widget-view+json": {
       "model_id": "5bbafef20bac4a768efb2ccc22de3809",
       "version_major": 2,
       "version_minor": 0
      },
      "text/plain": [
       "Handling Subsubfolders:   0%|          | 0/400 [00:00<?, ?it/s]"
      ]
     },
     "metadata": {},
     "output_type": "display_data"
    },
    {
     "data": {
      "application/vnd.jupyter.widget-view+json": {
       "model_id": "e23608ca4351439383e97231e78899ce",
       "version_major": 2,
       "version_minor": 0
      },
      "text/plain": [
       "Handling Subsubfolders:   0%|          | 0/400 [00:00<?, ?it/s]"
      ]
     },
     "metadata": {},
     "output_type": "display_data"
    },
    {
     "data": {
      "application/vnd.jupyter.widget-view+json": {
       "model_id": "6904d21d601246a3afbe18c027afb0ae",
       "version_major": 2,
       "version_minor": 0
      },
      "text/plain": [
       "Handling Subsubfolders:   0%|          | 0/400 [00:00<?, ?it/s]"
      ]
     },
     "metadata": {},
     "output_type": "display_data"
    },
    {
     "data": {
      "application/vnd.jupyter.widget-view+json": {
       "model_id": "17e59738c6fe45b7b44a5e5084e8dbe8",
       "version_major": 2,
       "version_minor": 0
      },
      "text/plain": [
       "Handling Subsubfolders:   0%|          | 0/400 [00:00<?, ?it/s]"
      ]
     },
     "metadata": {},
     "output_type": "display_data"
    },
    {
     "data": {
      "application/vnd.jupyter.widget-view+json": {
       "model_id": "c4ed2e00fe9d4a119e6c6fdc44c22c55",
       "version_major": 2,
       "version_minor": 0
      },
      "text/plain": [
       "Handling Subsubfolders:   0%|          | 0/400 [00:00<?, ?it/s]"
      ]
     },
     "metadata": {},
     "output_type": "display_data"
    },
    {
     "data": {
      "application/vnd.jupyter.widget-view+json": {
       "model_id": "4a33910041004c689d2d0ad9f2330426",
       "version_major": 2,
       "version_minor": 0
      },
      "text/plain": [
       "Handling Subsubfolders:   0%|          | 0/400 [00:00<?, ?it/s]"
      ]
     },
     "metadata": {},
     "output_type": "display_data"
    },
    {
     "data": {
      "application/vnd.jupyter.widget-view+json": {
       "model_id": "1b38f125bc9c49eb9330c5254d6b6956",
       "version_major": 2,
       "version_minor": 0
      },
      "text/plain": [
       "Handling Subsubfolders:   0%|          | 0/400 [00:00<?, ?it/s]"
      ]
     },
     "metadata": {},
     "output_type": "display_data"
    },
    {
     "data": {
      "application/vnd.jupyter.widget-view+json": {
       "model_id": "daed0d364e784ba78e62ff07d03b3198",
       "version_major": 2,
       "version_minor": 0
      },
      "text/plain": [
       "Handling Subsubfolders:   0%|          | 0/400 [00:00<?, ?it/s]"
      ]
     },
     "metadata": {},
     "output_type": "display_data"
    },
    {
     "data": {
      "application/vnd.jupyter.widget-view+json": {
       "model_id": "3dced9b066cd4f49b66cc4cd8450ec6a",
       "version_major": 2,
       "version_minor": 0
      },
      "text/plain": [
       "Handling Subsubfolders:   0%|          | 0/400 [00:00<?, ?it/s]"
      ]
     },
     "metadata": {},
     "output_type": "display_data"
    },
    {
     "data": {
      "application/vnd.jupyter.widget-view+json": {
       "model_id": "8aef2315518141edad064be267bc92f2",
       "version_major": 2,
       "version_minor": 0
      },
      "text/plain": [
       "Handling Subsubfolders:   0%|          | 0/400 [00:00<?, ?it/s]"
      ]
     },
     "metadata": {},
     "output_type": "display_data"
    },
    {
     "data": {
      "application/vnd.jupyter.widget-view+json": {
       "model_id": "f687454fd3c04ad0a59561070720be47",
       "version_major": 2,
       "version_minor": 0
      },
      "text/plain": [
       "Handling Subsubfolders:   0%|          | 0/400 [00:00<?, ?it/s]"
      ]
     },
     "metadata": {},
     "output_type": "display_data"
    },
    {
     "data": {
      "application/vnd.jupyter.widget-view+json": {
       "model_id": "1f23facf0db54dbfa4604131609a3b8a",
       "version_major": 2,
       "version_minor": 0
      },
      "text/plain": [
       "Handling Subsubfolders:   0%|          | 0/400 [00:00<?, ?it/s]"
      ]
     },
     "metadata": {},
     "output_type": "display_data"
    },
    {
     "data": {
      "application/vnd.jupyter.widget-view+json": {
       "model_id": "e9a20ec724544695975d7ca6b02c5698",
       "version_major": 2,
       "version_minor": 0
      },
      "text/plain": [
       "Handling Subsubfolders:   0%|          | 0/400 [00:00<?, ?it/s]"
      ]
     },
     "metadata": {},
     "output_type": "display_data"
    },
    {
     "data": {
      "application/vnd.jupyter.widget-view+json": {
       "model_id": "20213f1dc7b045a68241b20dcd7f3c73",
       "version_major": 2,
       "version_minor": 0
      },
      "text/plain": [
       "Handling Subsubfolders:   0%|          | 0/400 [00:00<?, ?it/s]"
      ]
     },
     "metadata": {},
     "output_type": "display_data"
    },
    {
     "data": {
      "application/vnd.jupyter.widget-view+json": {
       "model_id": "2f84d450f6a3478fb2d2f00e460be9db",
       "version_major": 2,
       "version_minor": 0
      },
      "text/plain": [
       "Handling Subsubfolders:   0%|          | 0/400 [00:00<?, ?it/s]"
      ]
     },
     "metadata": {},
     "output_type": "display_data"
    },
    {
     "data": {
      "application/vnd.jupyter.widget-view+json": {
       "model_id": "d92d15d7afba4a57afcebfcefa1ba929",
       "version_major": 2,
       "version_minor": 0
      },
      "text/plain": [
       "Handling Subsubfolders:   0%|          | 0/400 [00:00<?, ?it/s]"
      ]
     },
     "metadata": {},
     "output_type": "display_data"
    },
    {
     "data": {
      "application/vnd.jupyter.widget-view+json": {
       "model_id": "afcce1a7d19f454ea1485aa04290f211",
       "version_major": 2,
       "version_minor": 0
      },
      "text/plain": [
       "Handling Subsubfolders:   0%|          | 0/400 [00:00<?, ?it/s]"
      ]
     },
     "metadata": {},
     "output_type": "display_data"
    },
    {
     "data": {
      "application/vnd.jupyter.widget-view+json": {
       "model_id": "0df8ab9009e84597be0dd8c77a0efeb5",
       "version_major": 2,
       "version_minor": 0
      },
      "text/plain": [
       "Handling Subsubfolders:   0%|          | 0/400 [00:00<?, ?it/s]"
      ]
     },
     "metadata": {},
     "output_type": "display_data"
    },
    {
     "data": {
      "application/vnd.jupyter.widget-view+json": {
       "model_id": "df08b0009cb34e58908636fd5b9fe0fd",
       "version_major": 2,
       "version_minor": 0
      },
      "text/plain": [
       "Handling Subsubfolders:   0%|          | 0/400 [00:00<?, ?it/s]"
      ]
     },
     "metadata": {},
     "output_type": "display_data"
    },
    {
     "data": {
      "application/vnd.jupyter.widget-view+json": {
       "model_id": "fa3422ac26c846d7b0131f0a676d36b1",
       "version_major": 2,
       "version_minor": 0
      },
      "text/plain": [
       "Handling Subsubfolders:   0%|          | 0/400 [00:00<?, ?it/s]"
      ]
     },
     "metadata": {},
     "output_type": "display_data"
    },
    {
     "data": {
      "application/vnd.jupyter.widget-view+json": {
       "model_id": "f1b76b8989f94c2c86a363f760a908e1",
       "version_major": 2,
       "version_minor": 0
      },
      "text/plain": [
       "Handling Subsubfolders:   0%|          | 0/400 [00:00<?, ?it/s]"
      ]
     },
     "metadata": {},
     "output_type": "display_data"
    },
    {
     "data": {
      "application/vnd.jupyter.widget-view+json": {
       "model_id": "20729b56eab145e7b952ee710f63805b",
       "version_major": 2,
       "version_minor": 0
      },
      "text/plain": [
       "Handling Subsubfolders:   0%|          | 0/400 [00:00<?, ?it/s]"
      ]
     },
     "metadata": {},
     "output_type": "display_data"
    },
    {
     "data": {
      "application/vnd.jupyter.widget-view+json": {
       "model_id": "b4b5e084831749bb93132876ee35a5be",
       "version_major": 2,
       "version_minor": 0
      },
      "text/plain": [
       "Handling Subsubfolders:   0%|          | 0/400 [00:00<?, ?it/s]"
      ]
     },
     "metadata": {},
     "output_type": "display_data"
    },
    {
     "data": {
      "application/vnd.jupyter.widget-view+json": {
       "model_id": "92a9f74c89e042ef8ae36b4512dd9f3e",
       "version_major": 2,
       "version_minor": 0
      },
      "text/plain": [
       "Handling Subsubfolders:   0%|          | 0/400 [00:00<?, ?it/s]"
      ]
     },
     "metadata": {},
     "output_type": "display_data"
    },
    {
     "data": {
      "application/vnd.jupyter.widget-view+json": {
       "model_id": "c6d7b1438d7c47a2a5290227da5dfad4",
       "version_major": 2,
       "version_minor": 0
      },
      "text/plain": [
       "Handling Subsubfolders:   0%|          | 0/400 [00:00<?, ?it/s]"
      ]
     },
     "metadata": {},
     "output_type": "display_data"
    },
    {
     "data": {
      "application/vnd.jupyter.widget-view+json": {
       "model_id": "d30fb2532f53407faa83f7754b61d11e",
       "version_major": 2,
       "version_minor": 0
      },
      "text/plain": [
       "Handling Subsubfolders:   0%|          | 0/400 [00:00<?, ?it/s]"
      ]
     },
     "metadata": {},
     "output_type": "display_data"
    },
    {
     "data": {
      "application/vnd.jupyter.widget-view+json": {
       "model_id": "271f015ab11a41e6a45a84a9def6d843",
       "version_major": 2,
       "version_minor": 0
      },
      "text/plain": [
       "Handling Subsubfolders:   0%|          | 0/400 [00:00<?, ?it/s]"
      ]
     },
     "metadata": {},
     "output_type": "display_data"
    },
    {
     "data": {
      "application/vnd.jupyter.widget-view+json": {
       "model_id": "eff9e3ff86554715a66bcb09315ab93d",
       "version_major": 2,
       "version_minor": 0
      },
      "text/plain": [
       "Handling Subsubfolders:   0%|          | 0/400 [00:00<?, ?it/s]"
      ]
     },
     "metadata": {},
     "output_type": "display_data"
    },
    {
     "data": {
      "application/vnd.jupyter.widget-view+json": {
       "model_id": "3db9940aeb4745ae8fecb9121ba4a694",
       "version_major": 2,
       "version_minor": 0
      },
      "text/plain": [
       "Handling Subsubfolders:   0%|          | 0/400 [00:00<?, ?it/s]"
      ]
     },
     "metadata": {},
     "output_type": "display_data"
    },
    {
     "data": {
      "application/vnd.jupyter.widget-view+json": {
       "model_id": "946e8227d4fe482e99e7afe3241a0926",
       "version_major": 2,
       "version_minor": 0
      },
      "text/plain": [
       "Handling Subsubfolders:   0%|          | 0/400 [00:00<?, ?it/s]"
      ]
     },
     "metadata": {},
     "output_type": "display_data"
    },
    {
     "data": {
      "application/vnd.jupyter.widget-view+json": {
       "model_id": "9260733f31784a6d84d9f8150e89091b",
       "version_major": 2,
       "version_minor": 0
      },
      "text/plain": [
       "Handling Subsubfolders:   0%|          | 0/400 [00:00<?, ?it/s]"
      ]
     },
     "metadata": {},
     "output_type": "display_data"
    },
    {
     "data": {
      "application/vnd.jupyter.widget-view+json": {
       "model_id": "4e5fe1ca29c74d72b34954f8a08deb8a",
       "version_major": 2,
       "version_minor": 0
      },
      "text/plain": [
       "Handling Subsubfolders:   0%|          | 0/400 [00:00<?, ?it/s]"
      ]
     },
     "metadata": {},
     "output_type": "display_data"
    },
    {
     "data": {
      "application/vnd.jupyter.widget-view+json": {
       "model_id": "f7b74d8179894543b8bb9f65b76eeb48",
       "version_major": 2,
       "version_minor": 0
      },
      "text/plain": [
       "Handling Subsubfolders:   0%|          | 0/400 [00:00<?, ?it/s]"
      ]
     },
     "metadata": {},
     "output_type": "display_data"
    },
    {
     "data": {
      "application/vnd.jupyter.widget-view+json": {
       "model_id": "d6a88954d89347d3a15c7b73390fe92e",
       "version_major": 2,
       "version_minor": 0
      },
      "text/plain": [
       "Handling Subsubfolders:   0%|          | 0/400 [00:00<?, ?it/s]"
      ]
     },
     "metadata": {},
     "output_type": "display_data"
    },
    {
     "data": {
      "application/vnd.jupyter.widget-view+json": {
       "model_id": "3de02a5d3ae646799517011618208e2a",
       "version_major": 2,
       "version_minor": 0
      },
      "text/plain": [
       "Handling Subsubfolders:   0%|          | 0/400 [00:00<?, ?it/s]"
      ]
     },
     "metadata": {},
     "output_type": "display_data"
    },
    {
     "data": {
      "application/vnd.jupyter.widget-view+json": {
       "model_id": "a26b4eb3cc4f4641b6afcd573ea014af",
       "version_major": 2,
       "version_minor": 0
      },
      "text/plain": [
       "Handling Subsubfolders:   0%|          | 0/400 [00:00<?, ?it/s]"
      ]
     },
     "metadata": {},
     "output_type": "display_data"
    },
    {
     "data": {
      "application/vnd.jupyter.widget-view+json": {
       "model_id": "27b4e02258ad46ef86aba3c2189477e0",
       "version_major": 2,
       "version_minor": 0
      },
      "text/plain": [
       "Handling Subsubfolders:   0%|          | 0/400 [00:00<?, ?it/s]"
      ]
     },
     "metadata": {},
     "output_type": "display_data"
    },
    {
     "data": {
      "application/vnd.jupyter.widget-view+json": {
       "model_id": "0fd936bbd1d44d808a70a703a313bb40",
       "version_major": 2,
       "version_minor": 0
      },
      "text/plain": [
       "Handling Subsubfolders:   0%|          | 0/400 [00:00<?, ?it/s]"
      ]
     },
     "metadata": {},
     "output_type": "display_data"
    },
    {
     "data": {
      "application/vnd.jupyter.widget-view+json": {
       "model_id": "4cbb773c7d854b5db05b07bf4de83a0c",
       "version_major": 2,
       "version_minor": 0
      },
      "text/plain": [
       "Handling Subsubfolders:   0%|          | 0/400 [00:00<?, ?it/s]"
      ]
     },
     "metadata": {},
     "output_type": "display_data"
    },
    {
     "data": {
      "application/vnd.jupyter.widget-view+json": {
       "model_id": "a9070d662a674e96a2461d8afb583d7c",
       "version_major": 2,
       "version_minor": 0
      },
      "text/plain": [
       "Handling Subsubfolders:   0%|          | 0/400 [00:00<?, ?it/s]"
      ]
     },
     "metadata": {},
     "output_type": "display_data"
    },
    {
     "data": {
      "application/vnd.jupyter.widget-view+json": {
       "model_id": "809a9e7900b3433ebbcb19a1923d6ae8",
       "version_major": 2,
       "version_minor": 0
      },
      "text/plain": [
       "Handling Subsubfolders:   0%|          | 0/400 [00:00<?, ?it/s]"
      ]
     },
     "metadata": {},
     "output_type": "display_data"
    },
    {
     "data": {
      "application/vnd.jupyter.widget-view+json": {
       "model_id": "235c0b774a7f4054950f4d4415395835",
       "version_major": 2,
       "version_minor": 0
      },
      "text/plain": [
       "Handling Subsubfolders:   0%|          | 0/400 [00:00<?, ?it/s]"
      ]
     },
     "metadata": {},
     "output_type": "display_data"
    },
    {
     "data": {
      "application/vnd.jupyter.widget-view+json": {
       "model_id": "2dc5a30cedcf41e086afa50f8af85d8d",
       "version_major": 2,
       "version_minor": 0
      },
      "text/plain": [
       "Handling Subsubfolders:   0%|          | 0/400 [00:00<?, ?it/s]"
      ]
     },
     "metadata": {},
     "output_type": "display_data"
    },
    {
     "data": {
      "application/vnd.jupyter.widget-view+json": {
       "model_id": "3af18e346d2243379e5f02377ea3dbb1",
       "version_major": 2,
       "version_minor": 0
      },
      "text/plain": [
       "Handling Subsubfolders:   0%|          | 0/400 [00:00<?, ?it/s]"
      ]
     },
     "metadata": {},
     "output_type": "display_data"
    },
    {
     "data": {
      "application/vnd.jupyter.widget-view+json": {
       "model_id": "b6d58aa23dd34b3499a1b6f8e5b88ac1",
       "version_major": 2,
       "version_minor": 0
      },
      "text/plain": [
       "Handling Subsubfolders:   0%|          | 0/400 [00:00<?, ?it/s]"
      ]
     },
     "metadata": {},
     "output_type": "display_data"
    },
    {
     "data": {
      "application/vnd.jupyter.widget-view+json": {
       "model_id": "75f1571374bf430cb734873bc0a0b1dd",
       "version_major": 2,
       "version_minor": 0
      },
      "text/plain": [
       "Handling Subsubfolders:   0%|          | 0/400 [00:00<?, ?it/s]"
      ]
     },
     "metadata": {},
     "output_type": "display_data"
    },
    {
     "data": {
      "application/vnd.jupyter.widget-view+json": {
       "model_id": "a7bf401057704aa2b02e9af1179013a2",
       "version_major": 2,
       "version_minor": 0
      },
      "text/plain": [
       "Handling Subsubfolders:   0%|          | 0/400 [00:00<?, ?it/s]"
      ]
     },
     "metadata": {},
     "output_type": "display_data"
    },
    {
     "data": {
      "application/vnd.jupyter.widget-view+json": {
       "model_id": "c579a2962584439a8e936021c89bc7d9",
       "version_major": 2,
       "version_minor": 0
      },
      "text/plain": [
       "Handling Subsubfolders:   0%|          | 0/400 [00:00<?, ?it/s]"
      ]
     },
     "metadata": {},
     "output_type": "display_data"
    },
    {
     "data": {
      "application/vnd.jupyter.widget-view+json": {
       "model_id": "26ac422973e4488990edfd4b4c57f313",
       "version_major": 2,
       "version_minor": 0
      },
      "text/plain": [
       "Handling Subsubfolders:   0%|          | 0/400 [00:00<?, ?it/s]"
      ]
     },
     "metadata": {},
     "output_type": "display_data"
    },
    {
     "data": {
      "application/vnd.jupyter.widget-view+json": {
       "model_id": "495f29cddc484579a519c4e2ed901b7f",
       "version_major": 2,
       "version_minor": 0
      },
      "text/plain": [
       "Handling Subsubfolders:   0%|          | 0/400 [00:00<?, ?it/s]"
      ]
     },
     "metadata": {},
     "output_type": "display_data"
    },
    {
     "data": {
      "application/vnd.jupyter.widget-view+json": {
       "model_id": "6bde7b32eba84fb0a940e290af492128",
       "version_major": 2,
       "version_minor": 0
      },
      "text/plain": [
       "Handling Subsubfolders:   0%|          | 0/400 [00:00<?, ?it/s]"
      ]
     },
     "metadata": {},
     "output_type": "display_data"
    },
    {
     "data": {
      "application/vnd.jupyter.widget-view+json": {
       "model_id": "04d9a3cd9df84ce2a861caa9e7841882",
       "version_major": 2,
       "version_minor": 0
      },
      "text/plain": [
       "Handling Subsubfolders:   0%|          | 0/400 [00:00<?, ?it/s]"
      ]
     },
     "metadata": {},
     "output_type": "display_data"
    },
    {
     "data": {
      "application/vnd.jupyter.widget-view+json": {
       "model_id": "0d8023e427d747ce9d8e6d26b0447a38",
       "version_major": 2,
       "version_minor": 0
      },
      "text/plain": [
       "Handling Subsubfolders:   0%|          | 0/400 [00:00<?, ?it/s]"
      ]
     },
     "metadata": {},
     "output_type": "display_data"
    },
    {
     "data": {
      "application/vnd.jupyter.widget-view+json": {
       "model_id": "bb38ea96154d4186b879435a0ff47f3f",
       "version_major": 2,
       "version_minor": 0
      },
      "text/plain": [
       "Handling Subsubfolders:   0%|          | 0/400 [00:00<?, ?it/s]"
      ]
     },
     "metadata": {},
     "output_type": "display_data"
    },
    {
     "data": {
      "application/vnd.jupyter.widget-view+json": {
       "model_id": "09aa3fff9d124019a3a8111ca430652f",
       "version_major": 2,
       "version_minor": 0
      },
      "text/plain": [
       "Handling Subsubfolders:   0%|          | 0/400 [00:00<?, ?it/s]"
      ]
     },
     "metadata": {},
     "output_type": "display_data"
    },
    {
     "data": {
      "application/vnd.jupyter.widget-view+json": {
       "model_id": "4e206405cb2040be87b2990dfb8b09b8",
       "version_major": 2,
       "version_minor": 0
      },
      "text/plain": [
       "Handling Subsubfolders:   0%|          | 0/400 [00:00<?, ?it/s]"
      ]
     },
     "metadata": {},
     "output_type": "display_data"
    },
    {
     "data": {
      "application/vnd.jupyter.widget-view+json": {
       "model_id": "ba20f3fa85d04e21af1c40dbd51fb570",
       "version_major": 2,
       "version_minor": 0
      },
      "text/plain": [
       "Handling Subsubfolders:   0%|          | 0/400 [00:00<?, ?it/s]"
      ]
     },
     "metadata": {},
     "output_type": "display_data"
    },
    {
     "data": {
      "application/vnd.jupyter.widget-view+json": {
       "model_id": "545268d053e142499a1487f05d236941",
       "version_major": 2,
       "version_minor": 0
      },
      "text/plain": [
       "Handling Subsubfolders:   0%|          | 0/400 [00:00<?, ?it/s]"
      ]
     },
     "metadata": {},
     "output_type": "display_data"
    },
    {
     "data": {
      "application/vnd.jupyter.widget-view+json": {
       "model_id": "b0a137213408478a88de0fed088004d6",
       "version_major": 2,
       "version_minor": 0
      },
      "text/plain": [
       "Handling Subsubfolders:   0%|          | 0/400 [00:00<?, ?it/s]"
      ]
     },
     "metadata": {},
     "output_type": "display_data"
    },
    {
     "data": {
      "application/vnd.jupyter.widget-view+json": {
       "model_id": "2bc9e5a56868495f8ed68d82b7368544",
       "version_major": 2,
       "version_minor": 0
      },
      "text/plain": [
       "Handling Subsubfolders:   0%|          | 0/400 [00:00<?, ?it/s]"
      ]
     },
     "metadata": {},
     "output_type": "display_data"
    },
    {
     "data": {
      "application/vnd.jupyter.widget-view+json": {
       "model_id": "186f977bf11c4c2c8e1f4b616d4753c4",
       "version_major": 2,
       "version_minor": 0
      },
      "text/plain": [
       "Handling Subsubfolders:   0%|          | 0/400 [00:00<?, ?it/s]"
      ]
     },
     "metadata": {},
     "output_type": "display_data"
    },
    {
     "data": {
      "application/vnd.jupyter.widget-view+json": {
       "model_id": "152e15be630e45e59f39422b04a774f2",
       "version_major": 2,
       "version_minor": 0
      },
      "text/plain": [
       "Handling Subsubfolders:   0%|          | 0/400 [00:00<?, ?it/s]"
      ]
     },
     "metadata": {},
     "output_type": "display_data"
    },
    {
     "data": {
      "application/vnd.jupyter.widget-view+json": {
       "model_id": "d11d830af0eb4fb88108362829f3ea85",
       "version_major": 2,
       "version_minor": 0
      },
      "text/plain": [
       "Handling Subsubfolders:   0%|          | 0/400 [00:00<?, ?it/s]"
      ]
     },
     "metadata": {},
     "output_type": "display_data"
    },
    {
     "data": {
      "application/vnd.jupyter.widget-view+json": {
       "model_id": "f05a78d317ac42799c4c49f8499a079d",
       "version_major": 2,
       "version_minor": 0
      },
      "text/plain": [
       "Handling Subsubfolders:   0%|          | 0/400 [00:00<?, ?it/s]"
      ]
     },
     "metadata": {},
     "output_type": "display_data"
    },
    {
     "data": {
      "application/vnd.jupyter.widget-view+json": {
       "model_id": "e4b56a7f0619485095b483b39d1e2c3e",
       "version_major": 2,
       "version_minor": 0
      },
      "text/plain": [
       "Handling Subsubfolders:   0%|          | 0/400 [00:00<?, ?it/s]"
      ]
     },
     "metadata": {},
     "output_type": "display_data"
    },
    {
     "data": {
      "application/vnd.jupyter.widget-view+json": {
       "model_id": "fc96acf5b9ed4e69ba1f80da5b93d6c9",
       "version_major": 2,
       "version_minor": 0
      },
      "text/plain": [
       "Handling Subsubfolders:   0%|          | 0/400 [00:00<?, ?it/s]"
      ]
     },
     "metadata": {},
     "output_type": "display_data"
    },
    {
     "data": {
      "application/vnd.jupyter.widget-view+json": {
       "model_id": "ed049c09e11c46dabfdc007e3894bba9",
       "version_major": 2,
       "version_minor": 0
      },
      "text/plain": [
       "Handling Subsubfolders:   0%|          | 0/400 [00:00<?, ?it/s]"
      ]
     },
     "metadata": {},
     "output_type": "display_data"
    },
    {
     "data": {
      "application/vnd.jupyter.widget-view+json": {
       "model_id": "a8084c9958dd4690b76f2a400a776573",
       "version_major": 2,
       "version_minor": 0
      },
      "text/plain": [
       "Handling Subsubfolders:   0%|          | 0/400 [00:00<?, ?it/s]"
      ]
     },
     "metadata": {},
     "output_type": "display_data"
    },
    {
     "data": {
      "application/vnd.jupyter.widget-view+json": {
       "model_id": "f52b9a4a6ed94f889fc8042ab61a7908",
       "version_major": 2,
       "version_minor": 0
      },
      "text/plain": [
       "Handling Subsubfolders:   0%|          | 0/400 [00:00<?, ?it/s]"
      ]
     },
     "metadata": {},
     "output_type": "display_data"
    },
    {
     "data": {
      "application/vnd.jupyter.widget-view+json": {
       "model_id": "95a9a12cb3e04021804e7b2c385ec9f7",
       "version_major": 2,
       "version_minor": 0
      },
      "text/plain": [
       "Handling Subsubfolders:   0%|          | 0/400 [00:00<?, ?it/s]"
      ]
     },
     "metadata": {},
     "output_type": "display_data"
    },
    {
     "data": {
      "application/vnd.jupyter.widget-view+json": {
       "model_id": "8974c862047d435ba9aa1962184aa42c",
       "version_major": 2,
       "version_minor": 0
      },
      "text/plain": [
       "Handling Subsubfolders:   0%|          | 0/400 [00:00<?, ?it/s]"
      ]
     },
     "metadata": {},
     "output_type": "display_data"
    },
    {
     "data": {
      "application/vnd.jupyter.widget-view+json": {
       "model_id": "15a03a429ea54a6683915c60ad3bdaeb",
       "version_major": 2,
       "version_minor": 0
      },
      "text/plain": [
       "Handling Subsubfolders:   0%|          | 0/400 [00:00<?, ?it/s]"
      ]
     },
     "metadata": {},
     "output_type": "display_data"
    },
    {
     "data": {
      "application/vnd.jupyter.widget-view+json": {
       "model_id": "3403374cc19a42db9e5050c112eb5258",
       "version_major": 2,
       "version_minor": 0
      },
      "text/plain": [
       "Handling Subsubfolders:   0%|          | 0/400 [00:00<?, ?it/s]"
      ]
     },
     "metadata": {},
     "output_type": "display_data"
    },
    {
     "data": {
      "application/vnd.jupyter.widget-view+json": {
       "model_id": "7cc4eaf424d6432e8bd1e1a9fecb4536",
       "version_major": 2,
       "version_minor": 0
      },
      "text/plain": [
       "Handling Subsubfolders:   0%|          | 0/400 [00:00<?, ?it/s]"
      ]
     },
     "metadata": {},
     "output_type": "display_data"
    },
    {
     "data": {
      "application/vnd.jupyter.widget-view+json": {
       "model_id": "9a887b4ea2b84d1a8e792e77e81a25ba",
       "version_major": 2,
       "version_minor": 0
      },
      "text/plain": [
       "Handling Subsubfolders:   0%|          | 0/400 [00:00<?, ?it/s]"
      ]
     },
     "metadata": {},
     "output_type": "display_data"
    },
    {
     "data": {
      "application/vnd.jupyter.widget-view+json": {
       "model_id": "e09a554f4e9344dca9163ae3b2d890a1",
       "version_major": 2,
       "version_minor": 0
      },
      "text/plain": [
       "Handling Subsubfolders:   0%|          | 0/400 [00:00<?, ?it/s]"
      ]
     },
     "metadata": {},
     "output_type": "display_data"
    },
    {
     "data": {
      "application/vnd.jupyter.widget-view+json": {
       "model_id": "fdb79320e60e4734befe50225294f93b",
       "version_major": 2,
       "version_minor": 0
      },
      "text/plain": [
       "Handling Subsubfolders:   0%|          | 0/400 [00:00<?, ?it/s]"
      ]
     },
     "metadata": {},
     "output_type": "display_data"
    },
    {
     "data": {
      "application/vnd.jupyter.widget-view+json": {
       "model_id": "d5e4b297861d4cc8b8b59b10bdb822aa",
       "version_major": 2,
       "version_minor": 0
      },
      "text/plain": [
       "Handling Subsubfolders:   0%|          | 0/400 [00:00<?, ?it/s]"
      ]
     },
     "metadata": {},
     "output_type": "display_data"
    },
    {
     "data": {
      "application/vnd.jupyter.widget-view+json": {
       "model_id": "d8deb908fa584e41a21c5ac9b9c10e6f",
       "version_major": 2,
       "version_minor": 0
      },
      "text/plain": [
       "Handling Subsubfolders:   0%|          | 0/400 [00:00<?, ?it/s]"
      ]
     },
     "metadata": {},
     "output_type": "display_data"
    },
    {
     "data": {
      "application/vnd.jupyter.widget-view+json": {
       "model_id": "1d41574208d04bad94ef961a3bfac169",
       "version_major": 2,
       "version_minor": 0
      },
      "text/plain": [
       "Handling Subsubfolders:   0%|          | 0/400 [00:00<?, ?it/s]"
      ]
     },
     "metadata": {},
     "output_type": "display_data"
    },
    {
     "data": {
      "application/vnd.jupyter.widget-view+json": {
       "model_id": "43fbdcf286d246cea5b1b4261d8a5a55",
       "version_major": 2,
       "version_minor": 0
      },
      "text/plain": [
       "Handling Subsubfolders:   0%|          | 0/400 [00:00<?, ?it/s]"
      ]
     },
     "metadata": {},
     "output_type": "display_data"
    },
    {
     "data": {
      "application/vnd.jupyter.widget-view+json": {
       "model_id": "a14c17cd0a854681b76c4f7562ac252f",
       "version_major": 2,
       "version_minor": 0
      },
      "text/plain": [
       "Handling Subsubfolders:   0%|          | 0/400 [00:00<?, ?it/s]"
      ]
     },
     "metadata": {},
     "output_type": "display_data"
    },
    {
     "data": {
      "application/vnd.jupyter.widget-view+json": {
       "model_id": "49fd0ca4d0064c3b9efaa542e9f086e2",
       "version_major": 2,
       "version_minor": 0
      },
      "text/plain": [
       "Handling Subsubfolders:   0%|          | 0/400 [00:00<?, ?it/s]"
      ]
     },
     "metadata": {},
     "output_type": "display_data"
    },
    {
     "data": {
      "application/vnd.jupyter.widget-view+json": {
       "model_id": "c95478a311e74c00ab41a46a7c36dae6",
       "version_major": 2,
       "version_minor": 0
      },
      "text/plain": [
       "Handling Subsubfolders:   0%|          | 0/400 [00:00<?, ?it/s]"
      ]
     },
     "metadata": {},
     "output_type": "display_data"
    },
    {
     "data": {
      "application/vnd.jupyter.widget-view+json": {
       "model_id": "d5c366ed1dca478f9454ab38f5a1644b",
       "version_major": 2,
       "version_minor": 0
      },
      "text/plain": [
       "Handling Subsubfolders:   0%|          | 0/400 [00:00<?, ?it/s]"
      ]
     },
     "metadata": {},
     "output_type": "display_data"
    },
    {
     "data": {
      "application/vnd.jupyter.widget-view+json": {
       "model_id": "d0d9ddb37bfa49c880502c46d0d1ca3b",
       "version_major": 2,
       "version_minor": 0
      },
      "text/plain": [
       "Handling Subsubfolders:   0%|          | 0/400 [00:00<?, ?it/s]"
      ]
     },
     "metadata": {},
     "output_type": "display_data"
    },
    {
     "data": {
      "application/vnd.jupyter.widget-view+json": {
       "model_id": "1c8626f1c2054fc4b4238621d06db64c",
       "version_major": 2,
       "version_minor": 0
      },
      "text/plain": [
       "Handling Subsubfolders:   0%|          | 0/400 [00:00<?, ?it/s]"
      ]
     },
     "metadata": {},
     "output_type": "display_data"
    },
    {
     "data": {
      "application/vnd.jupyter.widget-view+json": {
       "model_id": "920f75dd6ab74f6d909e1bda34d729bd",
       "version_major": 2,
       "version_minor": 0
      },
      "text/plain": [
       "Handling Subsubfolders:   0%|          | 0/400 [00:00<?, ?it/s]"
      ]
     },
     "metadata": {},
     "output_type": "display_data"
    },
    {
     "data": {
      "application/vnd.jupyter.widget-view+json": {
       "model_id": "eab3ef1be2284130a80ded128d4a079a",
       "version_major": 2,
       "version_minor": 0
      },
      "text/plain": [
       "Handling Subsubfolders:   0%|          | 0/400 [00:00<?, ?it/s]"
      ]
     },
     "metadata": {},
     "output_type": "display_data"
    },
    {
     "data": {
      "application/vnd.jupyter.widget-view+json": {
       "model_id": "62f9d72b78b547c2a97a2c312895fef1",
       "version_major": 2,
       "version_minor": 0
      },
      "text/plain": [
       "Handling Subsubfolders:   0%|          | 0/400 [00:00<?, ?it/s]"
      ]
     },
     "metadata": {},
     "output_type": "display_data"
    },
    {
     "data": {
      "application/vnd.jupyter.widget-view+json": {
       "model_id": "56341bc3b9f2432b9ab507c9e611ef6b",
       "version_major": 2,
       "version_minor": 0
      },
      "text/plain": [
       "Handling Subsubfolders:   0%|          | 0/400 [00:00<?, ?it/s]"
      ]
     },
     "metadata": {},
     "output_type": "display_data"
    },
    {
     "data": {
      "application/vnd.jupyter.widget-view+json": {
       "model_id": "fe39578aae184740aef3999f2eebb690",
       "version_major": 2,
       "version_minor": 0
      },
      "text/plain": [
       "Handling Subsubfolders:   0%|          | 0/400 [00:00<?, ?it/s]"
      ]
     },
     "metadata": {},
     "output_type": "display_data"
    },
    {
     "data": {
      "application/vnd.jupyter.widget-view+json": {
       "model_id": "7b43ec205f784baa85987dd60fb7eb5d",
       "version_major": 2,
       "version_minor": 0
      },
      "text/plain": [
       "Handling Subsubfolders:   0%|          | 0/400 [00:00<?, ?it/s]"
      ]
     },
     "metadata": {},
     "output_type": "display_data"
    },
    {
     "data": {
      "application/vnd.jupyter.widget-view+json": {
       "model_id": "4e62d0c55d024e6a8672a50d8155c80c",
       "version_major": 2,
       "version_minor": 0
      },
      "text/plain": [
       "Handling Subsubfolders:   0%|          | 0/400 [00:00<?, ?it/s]"
      ]
     },
     "metadata": {},
     "output_type": "display_data"
    },
    {
     "data": {
      "application/vnd.jupyter.widget-view+json": {
       "model_id": "de643be1372348359b45734617a05d74",
       "version_major": 2,
       "version_minor": 0
      },
      "text/plain": [
       "Handling Subsubfolders:   0%|          | 0/400 [00:00<?, ?it/s]"
      ]
     },
     "metadata": {},
     "output_type": "display_data"
    },
    {
     "data": {
      "application/vnd.jupyter.widget-view+json": {
       "model_id": "b309f7ed6f5e40d19e630666d90e7f8a",
       "version_major": 2,
       "version_minor": 0
      },
      "text/plain": [
       "Handling Subsubfolders:   0%|          | 0/400 [00:00<?, ?it/s]"
      ]
     },
     "metadata": {},
     "output_type": "display_data"
    },
    {
     "data": {
      "application/vnd.jupyter.widget-view+json": {
       "model_id": "a7c1bfc97e3c4974ac4f83e6da508480",
       "version_major": 2,
       "version_minor": 0
      },
      "text/plain": [
       "Handling Subsubfolders:   0%|          | 0/400 [00:00<?, ?it/s]"
      ]
     },
     "metadata": {},
     "output_type": "display_data"
    },
    {
     "data": {
      "application/vnd.jupyter.widget-view+json": {
       "model_id": "9df9d6ddd6d14a6e82c6fd03ec5eab07",
       "version_major": 2,
       "version_minor": 0
      },
      "text/plain": [
       "Handling Subsubfolders:   0%|          | 0/400 [00:00<?, ?it/s]"
      ]
     },
     "metadata": {},
     "output_type": "display_data"
    },
    {
     "data": {
      "application/vnd.jupyter.widget-view+json": {
       "model_id": "604df2f4b7164d3ab1740dbe7e350957",
       "version_major": 2,
       "version_minor": 0
      },
      "text/plain": [
       "Handling Subsubfolders:   0%|          | 0/400 [00:00<?, ?it/s]"
      ]
     },
     "metadata": {},
     "output_type": "display_data"
    },
    {
     "data": {
      "application/vnd.jupyter.widget-view+json": {
       "model_id": "fc819ae2dd5a4c45b9d9cf38b3553e0d",
       "version_major": 2,
       "version_minor": 0
      },
      "text/plain": [
       "Handling Subsubfolders:   0%|          | 0/400 [00:00<?, ?it/s]"
      ]
     },
     "metadata": {},
     "output_type": "display_data"
    },
    {
     "data": {
      "application/vnd.jupyter.widget-view+json": {
       "model_id": "fede50dcccfe4321af3baf53848a2780",
       "version_major": 2,
       "version_minor": 0
      },
      "text/plain": [
       "Handling Subsubfolders:   0%|          | 0/400 [00:00<?, ?it/s]"
      ]
     },
     "metadata": {},
     "output_type": "display_data"
    },
    {
     "data": {
      "application/vnd.jupyter.widget-view+json": {
       "model_id": "6a52817fdc604e1b99aaf3539cb70ddc",
       "version_major": 2,
       "version_minor": 0
      },
      "text/plain": [
       "Handling Subsubfolders:   0%|          | 0/400 [00:00<?, ?it/s]"
      ]
     },
     "metadata": {},
     "output_type": "display_data"
    },
    {
     "data": {
      "application/vnd.jupyter.widget-view+json": {
       "model_id": "f9d35665a891439abe01352d6c4cc462",
       "version_major": 2,
       "version_minor": 0
      },
      "text/plain": [
       "Handling Subsubfolders:   0%|          | 0/400 [00:00<?, ?it/s]"
      ]
     },
     "metadata": {},
     "output_type": "display_data"
    },
    {
     "data": {
      "application/vnd.jupyter.widget-view+json": {
       "model_id": "c31b5a10c9c2407dbcf434034490d0db",
       "version_major": 2,
       "version_minor": 0
      },
      "text/plain": [
       "Handling Subsubfolders:   0%|          | 0/400 [00:00<?, ?it/s]"
      ]
     },
     "metadata": {},
     "output_type": "display_data"
    },
    {
     "data": {
      "application/vnd.jupyter.widget-view+json": {
       "model_id": "e8e6ce95645641899fb3b457c7e18407",
       "version_major": 2,
       "version_minor": 0
      },
      "text/plain": [
       "Handling Subsubfolders:   0%|          | 0/400 [00:00<?, ?it/s]"
      ]
     },
     "metadata": {},
     "output_type": "display_data"
    },
    {
     "data": {
      "application/vnd.jupyter.widget-view+json": {
       "model_id": "781e3860a7d14cf1896282d7f6c4b749",
       "version_major": 2,
       "version_minor": 0
      },
      "text/plain": [
       "Handling Subsubfolders:   0%|          | 0/400 [00:00<?, ?it/s]"
      ]
     },
     "metadata": {},
     "output_type": "display_data"
    },
    {
     "data": {
      "application/vnd.jupyter.widget-view+json": {
       "model_id": "8c8ed314e1ad4b9ba5c9ab1ac4577643",
       "version_major": 2,
       "version_minor": 0
      },
      "text/plain": [
       "Handling Subsubfolders:   0%|          | 0/400 [00:00<?, ?it/s]"
      ]
     },
     "metadata": {},
     "output_type": "display_data"
    },
    {
     "data": {
      "application/vnd.jupyter.widget-view+json": {
       "model_id": "315d020654d443d793857f8e4290d448",
       "version_major": 2,
       "version_minor": 0
      },
      "text/plain": [
       "Handling Subsubfolders:   0%|          | 0/400 [00:00<?, ?it/s]"
      ]
     },
     "metadata": {},
     "output_type": "display_data"
    },
    {
     "data": {
      "application/vnd.jupyter.widget-view+json": {
       "model_id": "c1bd3a462de8414dae0257b6857f2f5a",
       "version_major": 2,
       "version_minor": 0
      },
      "text/plain": [
       "Handling Subsubfolders:   0%|          | 0/400 [00:00<?, ?it/s]"
      ]
     },
     "metadata": {},
     "output_type": "display_data"
    },
    {
     "data": {
      "application/vnd.jupyter.widget-view+json": {
       "model_id": "08649da0119e4db2be4753fceb6ecb88",
       "version_major": 2,
       "version_minor": 0
      },
      "text/plain": [
       "Handling Subsubfolders:   0%|          | 0/400 [00:00<?, ?it/s]"
      ]
     },
     "metadata": {},
     "output_type": "display_data"
    },
    {
     "data": {
      "application/vnd.jupyter.widget-view+json": {
       "model_id": "f83d129cc46244f69a9b100c25144fd9",
       "version_major": 2,
       "version_minor": 0
      },
      "text/plain": [
       "Handling Subsubfolders:   0%|          | 0/400 [00:00<?, ?it/s]"
      ]
     },
     "metadata": {},
     "output_type": "display_data"
    },
    {
     "data": {
      "application/vnd.jupyter.widget-view+json": {
       "model_id": "fd48cd2dc4b449f2887d7ec97fbbe61c",
       "version_major": 2,
       "version_minor": 0
      },
      "text/plain": [
       "Handling Subsubfolders:   0%|          | 0/400 [00:00<?, ?it/s]"
      ]
     },
     "metadata": {},
     "output_type": "display_data"
    },
    {
     "data": {
      "application/vnd.jupyter.widget-view+json": {
       "model_id": "a4f12422c3a44d0ebbef73baee052d84",
       "version_major": 2,
       "version_minor": 0
      },
      "text/plain": [
       "Handling Subsubfolders:   0%|          | 0/400 [00:00<?, ?it/s]"
      ]
     },
     "metadata": {},
     "output_type": "display_data"
    },
    {
     "data": {
      "application/vnd.jupyter.widget-view+json": {
       "model_id": "101e5d665bcb402f995f165a30216452",
       "version_major": 2,
       "version_minor": 0
      },
      "text/plain": [
       "Handling Subsubfolders:   0%|          | 0/400 [00:00<?, ?it/s]"
      ]
     },
     "metadata": {},
     "output_type": "display_data"
    },
    {
     "data": {
      "application/vnd.jupyter.widget-view+json": {
       "model_id": "181d7e61c42349ea9fa654e31ee03007",
       "version_major": 2,
       "version_minor": 0
      },
      "text/plain": [
       "Handling Subsubfolders:   0%|          | 0/400 [00:00<?, ?it/s]"
      ]
     },
     "metadata": {},
     "output_type": "display_data"
    },
    {
     "data": {
      "application/vnd.jupyter.widget-view+json": {
       "model_id": "5a2b62fb02bf4261974538e6f10384a8",
       "version_major": 2,
       "version_minor": 0
      },
      "text/plain": [
       "Handling Subsubfolders:   0%|          | 0/400 [00:00<?, ?it/s]"
      ]
     },
     "metadata": {},
     "output_type": "display_data"
    },
    {
     "data": {
      "application/vnd.jupyter.widget-view+json": {
       "model_id": "6976c13ef08f4b9aa9d8ce10dda7b9ed",
       "version_major": 2,
       "version_minor": 0
      },
      "text/plain": [
       "Handling Subsubfolders:   0%|          | 0/400 [00:00<?, ?it/s]"
      ]
     },
     "metadata": {},
     "output_type": "display_data"
    },
    {
     "data": {
      "application/vnd.jupyter.widget-view+json": {
       "model_id": "1252132164a8472d83cfc830c870cbc1",
       "version_major": 2,
       "version_minor": 0
      },
      "text/plain": [
       "Handling Subsubfolders:   0%|          | 0/400 [00:00<?, ?it/s]"
      ]
     },
     "metadata": {},
     "output_type": "display_data"
    },
    {
     "data": {
      "application/vnd.jupyter.widget-view+json": {
       "model_id": "4ee992600848456dbf35fb76800351c7",
       "version_major": 2,
       "version_minor": 0
      },
      "text/plain": [
       "Handling Subsubfolders:   0%|          | 0/400 [00:00<?, ?it/s]"
      ]
     },
     "metadata": {},
     "output_type": "display_data"
    },
    {
     "data": {
      "application/vnd.jupyter.widget-view+json": {
       "model_id": "7dfd4fe4cc0d48a2905a0b0672e41657",
       "version_major": 2,
       "version_minor": 0
      },
      "text/plain": [
       "Handling Subsubfolders:   0%|          | 0/400 [00:00<?, ?it/s]"
      ]
     },
     "metadata": {},
     "output_type": "display_data"
    },
    {
     "data": {
      "application/vnd.jupyter.widget-view+json": {
       "model_id": "7e3ad1e8ebf64ceda3fa549aaeca91e7",
       "version_major": 2,
       "version_minor": 0
      },
      "text/plain": [
       "Handling Subsubfolders:   0%|          | 0/400 [00:00<?, ?it/s]"
      ]
     },
     "metadata": {},
     "output_type": "display_data"
    },
    {
     "data": {
      "application/vnd.jupyter.widget-view+json": {
       "model_id": "6fe9142c85c54032aa12835215463e9c",
       "version_major": 2,
       "version_minor": 0
      },
      "text/plain": [
       "Handling Subsubfolders:   0%|          | 0/400 [00:00<?, ?it/s]"
      ]
     },
     "metadata": {},
     "output_type": "display_data"
    },
    {
     "data": {
      "application/vnd.jupyter.widget-view+json": {
       "model_id": "ce02c53aea044fbead95ddeea8d155b4",
       "version_major": 2,
       "version_minor": 0
      },
      "text/plain": [
       "Handling Subsubfolders:   0%|          | 0/400 [00:00<?, ?it/s]"
      ]
     },
     "metadata": {},
     "output_type": "display_data"
    },
    {
     "data": {
      "application/vnd.jupyter.widget-view+json": {
       "model_id": "5ec2a007964145f890a511ac69bc5d61",
       "version_major": 2,
       "version_minor": 0
      },
      "text/plain": [
       "Handling Subsubfolders:   0%|          | 0/400 [00:00<?, ?it/s]"
      ]
     },
     "metadata": {},
     "output_type": "display_data"
    },
    {
     "data": {
      "application/vnd.jupyter.widget-view+json": {
       "model_id": "4753b341b87b4ba2a60ad4e418b69bb4",
       "version_major": 2,
       "version_minor": 0
      },
      "text/plain": [
       "Handling Subsubfolders:   0%|          | 0/400 [00:00<?, ?it/s]"
      ]
     },
     "metadata": {},
     "output_type": "display_data"
    },
    {
     "data": {
      "application/vnd.jupyter.widget-view+json": {
       "model_id": "f9aa6ea366de4f46bf881888e94e1ca1",
       "version_major": 2,
       "version_minor": 0
      },
      "text/plain": [
       "Handling Subsubfolders:   0%|          | 0/400 [00:00<?, ?it/s]"
      ]
     },
     "metadata": {},
     "output_type": "display_data"
    },
    {
     "data": {
      "application/vnd.jupyter.widget-view+json": {
       "model_id": "cd44bbfcecd9477286ac2d111a7e93a1",
       "version_major": 2,
       "version_minor": 0
      },
      "text/plain": [
       "Handling Subsubfolders:   0%|          | 0/400 [00:00<?, ?it/s]"
      ]
     },
     "metadata": {},
     "output_type": "display_data"
    },
    {
     "data": {
      "application/vnd.jupyter.widget-view+json": {
       "model_id": "3f43123a38754752a251d2de49f359e6",
       "version_major": 2,
       "version_minor": 0
      },
      "text/plain": [
       "Handling Subsubfolders:   0%|          | 0/400 [00:00<?, ?it/s]"
      ]
     },
     "metadata": {},
     "output_type": "display_data"
    },
    {
     "data": {
      "application/vnd.jupyter.widget-view+json": {
       "model_id": "7358a6f8dad04bd98b3befedfdd9eaa6",
       "version_major": 2,
       "version_minor": 0
      },
      "text/plain": [
       "Handling Subsubfolders:   0%|          | 0/400 [00:00<?, ?it/s]"
      ]
     },
     "metadata": {},
     "output_type": "display_data"
    },
    {
     "data": {
      "application/vnd.jupyter.widget-view+json": {
       "model_id": "c706c52114a64458b47d8542a6f387d0",
       "version_major": 2,
       "version_minor": 0
      },
      "text/plain": [
       "Handling Subsubfolders:   0%|          | 0/400 [00:00<?, ?it/s]"
      ]
     },
     "metadata": {},
     "output_type": "display_data"
    },
    {
     "data": {
      "application/vnd.jupyter.widget-view+json": {
       "model_id": "6f19a747a873457e90263e8401d35c08",
       "version_major": 2,
       "version_minor": 0
      },
      "text/plain": [
       "Handling Subsubfolders:   0%|          | 0/400 [00:00<?, ?it/s]"
      ]
     },
     "metadata": {},
     "output_type": "display_data"
    },
    {
     "data": {
      "application/vnd.jupyter.widget-view+json": {
       "model_id": "2a7ea6877ee345769ee55a15e3d35ae9",
       "version_major": 2,
       "version_minor": 0
      },
      "text/plain": [
       "Handling Subsubfolders:   0%|          | 0/400 [00:00<?, ?it/s]"
      ]
     },
     "metadata": {},
     "output_type": "display_data"
    },
    {
     "data": {
      "application/vnd.jupyter.widget-view+json": {
       "model_id": "2a39afbf9e5644ca97f124b8117747b8",
       "version_major": 2,
       "version_minor": 0
      },
      "text/plain": [
       "Handling Subsubfolders:   0%|          | 0/400 [00:00<?, ?it/s]"
      ]
     },
     "metadata": {},
     "output_type": "display_data"
    },
    {
     "data": {
      "application/vnd.jupyter.widget-view+json": {
       "model_id": "a4ca46e0c1f04568bf5ffa5971fbc4c3",
       "version_major": 2,
       "version_minor": 0
      },
      "text/plain": [
       "Handling Subsubfolders:   0%|          | 0/400 [00:00<?, ?it/s]"
      ]
     },
     "metadata": {},
     "output_type": "display_data"
    },
    {
     "data": {
      "application/vnd.jupyter.widget-view+json": {
       "model_id": "e80cb1f777b84cfc8e71e9b315ea54a1",
       "version_major": 2,
       "version_minor": 0
      },
      "text/plain": [
       "Handling Subsubfolders:   0%|          | 0/400 [00:00<?, ?it/s]"
      ]
     },
     "metadata": {},
     "output_type": "display_data"
    },
    {
     "data": {
      "application/vnd.jupyter.widget-view+json": {
       "model_id": "b31b64db6aaf4dfba64b577ecf88f95c",
       "version_major": 2,
       "version_minor": 0
      },
      "text/plain": [
       "Handling Subsubfolders:   0%|          | 0/400 [00:00<?, ?it/s]"
      ]
     },
     "metadata": {},
     "output_type": "display_data"
    },
    {
     "data": {
      "application/vnd.jupyter.widget-view+json": {
       "model_id": "847f1a2b00324b69b9a0309887941a9d",
       "version_major": 2,
       "version_minor": 0
      },
      "text/plain": [
       "Handling Subsubfolders:   0%|          | 0/400 [00:00<?, ?it/s]"
      ]
     },
     "metadata": {},
     "output_type": "display_data"
    },
    {
     "data": {
      "application/vnd.jupyter.widget-view+json": {
       "model_id": "bc408ed0c7e74821999aed4c04293002",
       "version_major": 2,
       "version_minor": 0
      },
      "text/plain": [
       "Handling Subsubfolders:   0%|          | 0/400 [00:00<?, ?it/s]"
      ]
     },
     "metadata": {},
     "output_type": "display_data"
    },
    {
     "data": {
      "application/vnd.jupyter.widget-view+json": {
       "model_id": "e6011442b5874285bb6a33a789c61c09",
       "version_major": 2,
       "version_minor": 0
      },
      "text/plain": [
       "Handling Subsubfolders:   0%|          | 0/400 [00:00<?, ?it/s]"
      ]
     },
     "metadata": {},
     "output_type": "display_data"
    },
    {
     "data": {
      "application/vnd.jupyter.widget-view+json": {
       "model_id": "1929dc4e1d044c0dae25a7f3f0ef156e",
       "version_major": 2,
       "version_minor": 0
      },
      "text/plain": [
       "Handling Subsubfolders:   0%|          | 0/400 [00:00<?, ?it/s]"
      ]
     },
     "metadata": {},
     "output_type": "display_data"
    },
    {
     "data": {
      "application/vnd.jupyter.widget-view+json": {
       "model_id": "085a129afff04b29867e1a06b2a93cd4",
       "version_major": 2,
       "version_minor": 0
      },
      "text/plain": [
       "Handling Subsubfolders:   0%|          | 0/400 [00:00<?, ?it/s]"
      ]
     },
     "metadata": {},
     "output_type": "display_data"
    },
    {
     "data": {
      "application/vnd.jupyter.widget-view+json": {
       "model_id": "42563c2963344a08bff1ec5ad6f099fd",
       "version_major": 2,
       "version_minor": 0
      },
      "text/plain": [
       "Handling Subsubfolders:   0%|          | 0/400 [00:00<?, ?it/s]"
      ]
     },
     "metadata": {},
     "output_type": "display_data"
    },
    {
     "data": {
      "application/vnd.jupyter.widget-view+json": {
       "model_id": "4281841ff0c643278f4170ab5e21c0ca",
       "version_major": 2,
       "version_minor": 0
      },
      "text/plain": [
       "Handling Subsubfolders:   0%|          | 0/400 [00:00<?, ?it/s]"
      ]
     },
     "metadata": {},
     "output_type": "display_data"
    },
    {
     "data": {
      "application/vnd.jupyter.widget-view+json": {
       "model_id": "40f2f56d9cab491ab174a77cbef826b1",
       "version_major": 2,
       "version_minor": 0
      },
      "text/plain": [
       "Handling Subsubfolders:   0%|          | 0/400 [00:00<?, ?it/s]"
      ]
     },
     "metadata": {},
     "output_type": "display_data"
    },
    {
     "data": {
      "application/vnd.jupyter.widget-view+json": {
       "model_id": "4e3eef142a8f4715b999cf7147562725",
       "version_major": 2,
       "version_minor": 0
      },
      "text/plain": [
       "Handling Subsubfolders:   0%|          | 0/400 [00:00<?, ?it/s]"
      ]
     },
     "metadata": {},
     "output_type": "display_data"
    },
    {
     "data": {
      "application/vnd.jupyter.widget-view+json": {
       "model_id": "ff63a19f2d7840e29e289460f47be08d",
       "version_major": 2,
       "version_minor": 0
      },
      "text/plain": [
       "Handling Subsubfolders:   0%|          | 0/400 [00:00<?, ?it/s]"
      ]
     },
     "metadata": {},
     "output_type": "display_data"
    },
    {
     "data": {
      "application/vnd.jupyter.widget-view+json": {
       "model_id": "d148b6716b6f40f98f3a368b91a7d6af",
       "version_major": 2,
       "version_minor": 0
      },
      "text/plain": [
       "Handling Subsubfolders:   0%|          | 0/400 [00:00<?, ?it/s]"
      ]
     },
     "metadata": {},
     "output_type": "display_data"
    },
    {
     "data": {
      "application/vnd.jupyter.widget-view+json": {
       "model_id": "48eca3ccafcf483d984f7c0ab7b052cd",
       "version_major": 2,
       "version_minor": 0
      },
      "text/plain": [
       "Handling Subsubfolders:   0%|          | 0/400 [00:00<?, ?it/s]"
      ]
     },
     "metadata": {},
     "output_type": "display_data"
    },
    {
     "data": {
      "application/vnd.jupyter.widget-view+json": {
       "model_id": "540ec4aff0084dd1bc968ed2c62ca6cc",
       "version_major": 2,
       "version_minor": 0
      },
      "text/plain": [
       "Handling Subsubfolders:   0%|          | 0/400 [00:00<?, ?it/s]"
      ]
     },
     "metadata": {},
     "output_type": "display_data"
    },
    {
     "data": {
      "application/vnd.jupyter.widget-view+json": {
       "model_id": "630f63b8ff1641e28e73cbeb564fdc2a",
       "version_major": 2,
       "version_minor": 0
      },
      "text/plain": [
       "Handling Subsubfolders:   0%|          | 0/400 [00:00<?, ?it/s]"
      ]
     },
     "metadata": {},
     "output_type": "display_data"
    },
    {
     "data": {
      "application/vnd.jupyter.widget-view+json": {
       "model_id": "296a0f6dcea04291a0d456fe5cfd61c5",
       "version_major": 2,
       "version_minor": 0
      },
      "text/plain": [
       "Handling Subsubfolders:   0%|          | 0/400 [00:00<?, ?it/s]"
      ]
     },
     "metadata": {},
     "output_type": "display_data"
    },
    {
     "data": {
      "application/vnd.jupyter.widget-view+json": {
       "model_id": "d395bf3070f345cda2ede7df9dc569d3",
       "version_major": 2,
       "version_minor": 0
      },
      "text/plain": [
       "Handling Subsubfolders:   0%|          | 0/400 [00:00<?, ?it/s]"
      ]
     },
     "metadata": {},
     "output_type": "display_data"
    },
    {
     "data": {
      "application/vnd.jupyter.widget-view+json": {
       "model_id": "197b91bcf4184ecfa3cb3ec50bbd2781",
       "version_major": 2,
       "version_minor": 0
      },
      "text/plain": [
       "Handling Subsubfolders:   0%|          | 0/400 [00:00<?, ?it/s]"
      ]
     },
     "metadata": {},
     "output_type": "display_data"
    },
    {
     "data": {
      "application/vnd.jupyter.widget-view+json": {
       "model_id": "7302e31f08074d9ea4ba161585599a67",
       "version_major": 2,
       "version_minor": 0
      },
      "text/plain": [
       "Handling Subsubfolders:   0%|          | 0/400 [00:00<?, ?it/s]"
      ]
     },
     "metadata": {},
     "output_type": "display_data"
    },
    {
     "data": {
      "application/vnd.jupyter.widget-view+json": {
       "model_id": "a17b4502df9947058860f028a8d213a1",
       "version_major": 2,
       "version_minor": 0
      },
      "text/plain": [
       "Handling Subsubfolders:   0%|          | 0/400 [00:00<?, ?it/s]"
      ]
     },
     "metadata": {},
     "output_type": "display_data"
    },
    {
     "data": {
      "application/vnd.jupyter.widget-view+json": {
       "model_id": "67df99408ca14213859969a44639853f",
       "version_major": 2,
       "version_minor": 0
      },
      "text/plain": [
       "Handling Subsubfolders:   0%|          | 0/400 [00:00<?, ?it/s]"
      ]
     },
     "metadata": {},
     "output_type": "display_data"
    },
    {
     "data": {
      "application/vnd.jupyter.widget-view+json": {
       "model_id": "7400efc4d03342c4ab924453a88dc47c",
       "version_major": 2,
       "version_minor": 0
      },
      "text/plain": [
       "Handling Subsubfolders:   0%|          | 0/400 [00:00<?, ?it/s]"
      ]
     },
     "metadata": {},
     "output_type": "display_data"
    },
    {
     "data": {
      "application/vnd.jupyter.widget-view+json": {
       "model_id": "12cf18c6daf44ad292ddbaa3aa184193",
       "version_major": 2,
       "version_minor": 0
      },
      "text/plain": [
       "Handling Subsubfolders:   0%|          | 0/400 [00:00<?, ?it/s]"
      ]
     },
     "metadata": {},
     "output_type": "display_data"
    },
    {
     "data": {
      "application/vnd.jupyter.widget-view+json": {
       "model_id": "c29051a08c5140d6947247f88aeb8b64",
       "version_major": 2,
       "version_minor": 0
      },
      "text/plain": [
       "Handling Subsubfolders:   0%|          | 0/400 [00:00<?, ?it/s]"
      ]
     },
     "metadata": {},
     "output_type": "display_data"
    },
    {
     "data": {
      "application/vnd.jupyter.widget-view+json": {
       "model_id": "5a920f71583147209e55b7ad92ee9540",
       "version_major": 2,
       "version_minor": 0
      },
      "text/plain": [
       "Handling Subsubfolders:   0%|          | 0/400 [00:00<?, ?it/s]"
      ]
     },
     "metadata": {},
     "output_type": "display_data"
    },
    {
     "data": {
      "application/vnd.jupyter.widget-view+json": {
       "model_id": "407214a251e840bfb479bef98fcbebdb",
       "version_major": 2,
       "version_minor": 0
      },
      "text/plain": [
       "Handling Subsubfolders:   0%|          | 0/400 [00:00<?, ?it/s]"
      ]
     },
     "metadata": {},
     "output_type": "display_data"
    },
    {
     "data": {
      "application/vnd.jupyter.widget-view+json": {
       "model_id": "67f52b13756a40439723c17ba010ddfe",
       "version_major": 2,
       "version_minor": 0
      },
      "text/plain": [
       "Handling Subsubfolders:   0%|          | 0/400 [00:00<?, ?it/s]"
      ]
     },
     "metadata": {},
     "output_type": "display_data"
    },
    {
     "data": {
      "application/vnd.jupyter.widget-view+json": {
       "model_id": "0ff526684aa746e793b7d7c69274169a",
       "version_major": 2,
       "version_minor": 0
      },
      "text/plain": [
       "Handling Subsubfolders:   0%|          | 0/400 [00:00<?, ?it/s]"
      ]
     },
     "metadata": {},
     "output_type": "display_data"
    },
    {
     "data": {
      "application/vnd.jupyter.widget-view+json": {
       "model_id": "9728f1ce9d0d4bfb9d97b3f08c7cf988",
       "version_major": 2,
       "version_minor": 0
      },
      "text/plain": [
       "Handling Subsubfolders:   0%|          | 0/400 [00:00<?, ?it/s]"
      ]
     },
     "metadata": {},
     "output_type": "display_data"
    },
    {
     "data": {
      "application/vnd.jupyter.widget-view+json": {
       "model_id": "a5465b66a48c4695872772803c50c3b4",
       "version_major": 2,
       "version_minor": 0
      },
      "text/plain": [
       "Handling Subsubfolders:   0%|          | 0/400 [00:00<?, ?it/s]"
      ]
     },
     "metadata": {},
     "output_type": "display_data"
    },
    {
     "data": {
      "application/vnd.jupyter.widget-view+json": {
       "model_id": "16576a818c4a4e5d899dca008e21314e",
       "version_major": 2,
       "version_minor": 0
      },
      "text/plain": [
       "Handling Subsubfolders:   0%|          | 0/400 [00:00<?, ?it/s]"
      ]
     },
     "metadata": {},
     "output_type": "display_data"
    },
    {
     "data": {
      "application/vnd.jupyter.widget-view+json": {
       "model_id": "1ab26ef880c54cd1af34b049d50da96b",
       "version_major": 2,
       "version_minor": 0
      },
      "text/plain": [
       "Handling Subsubfolders:   0%|          | 0/400 [00:00<?, ?it/s]"
      ]
     },
     "metadata": {},
     "output_type": "display_data"
    },
    {
     "data": {
      "application/vnd.jupyter.widget-view+json": {
       "model_id": "b4641ceaf86b4abab730d4d29f094bb9",
       "version_major": 2,
       "version_minor": 0
      },
      "text/plain": [
       "Handling Subsubfolders:   0%|          | 0/400 [00:00<?, ?it/s]"
      ]
     },
     "metadata": {},
     "output_type": "display_data"
    },
    {
     "data": {
      "application/vnd.jupyter.widget-view+json": {
       "model_id": "15226431470f4cf19c76cacb9cb59a72",
       "version_major": 2,
       "version_minor": 0
      },
      "text/plain": [
       "Handling Subsubfolders:   0%|          | 0/400 [00:00<?, ?it/s]"
      ]
     },
     "metadata": {},
     "output_type": "display_data"
    },
    {
     "data": {
      "application/vnd.jupyter.widget-view+json": {
       "model_id": "e5c1f77e5ac3447b8ab39a77c851cbd1",
       "version_major": 2,
       "version_minor": 0
      },
      "text/plain": [
       "Handling Subsubfolders:   0%|          | 0/400 [00:00<?, ?it/s]"
      ]
     },
     "metadata": {},
     "output_type": "display_data"
    },
    {
     "data": {
      "application/vnd.jupyter.widget-view+json": {
       "model_id": "4b126c0c292c41f5b6b1ae75ed154d56",
       "version_major": 2,
       "version_minor": 0
      },
      "text/plain": [
       "Handling Subsubfolders:   0%|          | 0/400 [00:00<?, ?it/s]"
      ]
     },
     "metadata": {},
     "output_type": "display_data"
    },
    {
     "data": {
      "application/vnd.jupyter.widget-view+json": {
       "model_id": "f33f367b443045c0bc0198d367451444",
       "version_major": 2,
       "version_minor": 0
      },
      "text/plain": [
       "Handling Subsubfolders:   0%|          | 0/400 [00:00<?, ?it/s]"
      ]
     },
     "metadata": {},
     "output_type": "display_data"
    },
    {
     "data": {
      "application/vnd.jupyter.widget-view+json": {
       "model_id": "866da18a220847baa21b79ceca405dd1",
       "version_major": 2,
       "version_minor": 0
      },
      "text/plain": [
       "Handling Subsubfolders:   0%|          | 0/400 [00:00<?, ?it/s]"
      ]
     },
     "metadata": {},
     "output_type": "display_data"
    },
    {
     "data": {
      "application/vnd.jupyter.widget-view+json": {
       "model_id": "46ef86fbaf09434f99bb5f5615b31c6d",
       "version_major": 2,
       "version_minor": 0
      },
      "text/plain": [
       "Handling Subsubfolders:   0%|          | 0/400 [00:00<?, ?it/s]"
      ]
     },
     "metadata": {},
     "output_type": "display_data"
    },
    {
     "data": {
      "application/vnd.jupyter.widget-view+json": {
       "model_id": "de5e63e17a3c4c6b86df9e7556718f2e",
       "version_major": 2,
       "version_minor": 0
      },
      "text/plain": [
       "Handling Subsubfolders:   0%|          | 0/400 [00:00<?, ?it/s]"
      ]
     },
     "metadata": {},
     "output_type": "display_data"
    },
    {
     "data": {
      "application/vnd.jupyter.widget-view+json": {
       "model_id": "072b7b1922c1400994643bde7d7b835d",
       "version_major": 2,
       "version_minor": 0
      },
      "text/plain": [
       "Handling Subsubfolders:   0%|          | 0/400 [00:00<?, ?it/s]"
      ]
     },
     "metadata": {},
     "output_type": "display_data"
    },
    {
     "data": {
      "application/vnd.jupyter.widget-view+json": {
       "model_id": "97b603b4fde3485fb418394d3e41bb36",
       "version_major": 2,
       "version_minor": 0
      },
      "text/plain": [
       "Handling Subsubfolders:   0%|          | 0/400 [00:00<?, ?it/s]"
      ]
     },
     "metadata": {},
     "output_type": "display_data"
    },
    {
     "data": {
      "application/vnd.jupyter.widget-view+json": {
       "model_id": "b829a9849dd54e769bea252b4ba7ee9f",
       "version_major": 2,
       "version_minor": 0
      },
      "text/plain": [
       "Handling Subsubfolders:   0%|          | 0/400 [00:00<?, ?it/s]"
      ]
     },
     "metadata": {},
     "output_type": "display_data"
    },
    {
     "data": {
      "application/vnd.jupyter.widget-view+json": {
       "model_id": "fd9b9e422aa0416d912eea089ebe0e35",
       "version_major": 2,
       "version_minor": 0
      },
      "text/plain": [
       "Handling Subsubfolders:   0%|          | 0/400 [00:00<?, ?it/s]"
      ]
     },
     "metadata": {},
     "output_type": "display_data"
    },
    {
     "data": {
      "application/vnd.jupyter.widget-view+json": {
       "model_id": "65f3eab57cf247638456b54359ac659b",
       "version_major": 2,
       "version_minor": 0
      },
      "text/plain": [
       "Handling Subsubfolders:   0%|          | 0/400 [00:00<?, ?it/s]"
      ]
     },
     "metadata": {},
     "output_type": "display_data"
    },
    {
     "data": {
      "application/vnd.jupyter.widget-view+json": {
       "model_id": "ab19dfd76805469387d8976ea19e3e81",
       "version_major": 2,
       "version_minor": 0
      },
      "text/plain": [
       "Handling Subsubfolders:   0%|          | 0/400 [00:00<?, ?it/s]"
      ]
     },
     "metadata": {},
     "output_type": "display_data"
    },
    {
     "data": {
      "application/vnd.jupyter.widget-view+json": {
       "model_id": "d7f3423336c64eeca2391039a63be91f",
       "version_major": 2,
       "version_minor": 0
      },
      "text/plain": [
       "Handling Subsubfolders:   0%|          | 0/400 [00:00<?, ?it/s]"
      ]
     },
     "metadata": {},
     "output_type": "display_data"
    },
    {
     "data": {
      "application/vnd.jupyter.widget-view+json": {
       "model_id": "8ce0f3c9374e4007b138f67c15a1660f",
       "version_major": 2,
       "version_minor": 0
      },
      "text/plain": [
       "Handling Subsubfolders:   0%|          | 0/400 [00:00<?, ?it/s]"
      ]
     },
     "metadata": {},
     "output_type": "display_data"
    },
    {
     "data": {
      "application/vnd.jupyter.widget-view+json": {
       "model_id": "d1911f505f634493a4868a8e3d0565e1",
       "version_major": 2,
       "version_minor": 0
      },
      "text/plain": [
       "Handling Subsubfolders:   0%|          | 0/400 [00:00<?, ?it/s]"
      ]
     },
     "metadata": {},
     "output_type": "display_data"
    },
    {
     "data": {
      "application/vnd.jupyter.widget-view+json": {
       "model_id": "74a153902c0141b1b27905314560fb22",
       "version_major": 2,
       "version_minor": 0
      },
      "text/plain": [
       "Handling Subsubfolders:   0%|          | 0/400 [00:00<?, ?it/s]"
      ]
     },
     "metadata": {},
     "output_type": "display_data"
    },
    {
     "data": {
      "application/vnd.jupyter.widget-view+json": {
       "model_id": "e2503b6df44540b68e4e59c337e4f909",
       "version_major": 2,
       "version_minor": 0
      },
      "text/plain": [
       "Handling Subsubfolders:   0%|          | 0/400 [00:00<?, ?it/s]"
      ]
     },
     "metadata": {},
     "output_type": "display_data"
    },
    {
     "data": {
      "application/vnd.jupyter.widget-view+json": {
       "model_id": "49f2e662ffe74f27b101d50408e36c15",
       "version_major": 2,
       "version_minor": 0
      },
      "text/plain": [
       "Handling Subsubfolders:   0%|          | 0/400 [00:00<?, ?it/s]"
      ]
     },
     "metadata": {},
     "output_type": "display_data"
    },
    {
     "data": {
      "application/vnd.jupyter.widget-view+json": {
       "model_id": "d0f29f1f0dbd4477b9aa1efd92240fd8",
       "version_major": 2,
       "version_minor": 0
      },
      "text/plain": [
       "Handling Subsubfolders:   0%|          | 0/400 [00:00<?, ?it/s]"
      ]
     },
     "metadata": {},
     "output_type": "display_data"
    },
    {
     "data": {
      "application/vnd.jupyter.widget-view+json": {
       "model_id": "52a86d0f43d74662b2a61da1ac2327b2",
       "version_major": 2,
       "version_minor": 0
      },
      "text/plain": [
       "Handling Subsubfolders:   0%|          | 0/400 [00:00<?, ?it/s]"
      ]
     },
     "metadata": {},
     "output_type": "display_data"
    },
    {
     "data": {
      "application/vnd.jupyter.widget-view+json": {
       "model_id": "4ff01bf24d6c42e88dfb4593e016efc2",
       "version_major": 2,
       "version_minor": 0
      },
      "text/plain": [
       "Handling Subsubfolders:   0%|          | 0/400 [00:00<?, ?it/s]"
      ]
     },
     "metadata": {},
     "output_type": "display_data"
    },
    {
     "data": {
      "application/vnd.jupyter.widget-view+json": {
       "model_id": "a2d45d5af00e4016b9d5099fde4af541",
       "version_major": 2,
       "version_minor": 0
      },
      "text/plain": [
       "Handling Subsubfolders:   0%|          | 0/400 [00:00<?, ?it/s]"
      ]
     },
     "metadata": {},
     "output_type": "display_data"
    },
    {
     "data": {
      "application/vnd.jupyter.widget-view+json": {
       "model_id": "c8a103861826449ebf74bedc380cf4af",
       "version_major": 2,
       "version_minor": 0
      },
      "text/plain": [
       "Handling Subsubfolders:   0%|          | 0/400 [00:00<?, ?it/s]"
      ]
     },
     "metadata": {},
     "output_type": "display_data"
    },
    {
     "data": {
      "application/vnd.jupyter.widget-view+json": {
       "model_id": "86bf772437b24f9296fce4bf208d4278",
       "version_major": 2,
       "version_minor": 0
      },
      "text/plain": [
       "Handling Subsubfolders:   0%|          | 0/400 [00:00<?, ?it/s]"
      ]
     },
     "metadata": {},
     "output_type": "display_data"
    },
    {
     "data": {
      "application/vnd.jupyter.widget-view+json": {
       "model_id": "7df8aef4141147b587f775c1a93df5a9",
       "version_major": 2,
       "version_minor": 0
      },
      "text/plain": [
       "Handling Subsubfolders:   0%|          | 0/400 [00:00<?, ?it/s]"
      ]
     },
     "metadata": {},
     "output_type": "display_data"
    },
    {
     "data": {
      "application/vnd.jupyter.widget-view+json": {
       "model_id": "99a08caecf774056a3b392ea3a3ce14c",
       "version_major": 2,
       "version_minor": 0
      },
      "text/plain": [
       "Handling Subsubfolders:   0%|          | 0/400 [00:00<?, ?it/s]"
      ]
     },
     "metadata": {},
     "output_type": "display_data"
    },
    {
     "data": {
      "application/vnd.jupyter.widget-view+json": {
       "model_id": "98d3c6f30d8f46af8f5197c6dfac725d",
       "version_major": 2,
       "version_minor": 0
      },
      "text/plain": [
       "Handling Subsubfolders:   0%|          | 0/400 [00:00<?, ?it/s]"
      ]
     },
     "metadata": {},
     "output_type": "display_data"
    },
    {
     "data": {
      "application/vnd.jupyter.widget-view+json": {
       "model_id": "ed2712ca9a96494185c7a78d5d7a2ae2",
       "version_major": 2,
       "version_minor": 0
      },
      "text/plain": [
       "Handling Subsubfolders:   0%|          | 0/400 [00:00<?, ?it/s]"
      ]
     },
     "metadata": {},
     "output_type": "display_data"
    },
    {
     "data": {
      "application/vnd.jupyter.widget-view+json": {
       "model_id": "263f11d1c39e450ca1e645658cb0d2b7",
       "version_major": 2,
       "version_minor": 0
      },
      "text/plain": [
       "Handling Subsubfolders:   0%|          | 0/400 [00:00<?, ?it/s]"
      ]
     },
     "metadata": {},
     "output_type": "display_data"
    },
    {
     "data": {
      "application/vnd.jupyter.widget-view+json": {
       "model_id": "f10f09f616864e7e927fcce704229f14",
       "version_major": 2,
       "version_minor": 0
      },
      "text/plain": [
       "Handling Subsubfolders:   0%|          | 0/400 [00:00<?, ?it/s]"
      ]
     },
     "metadata": {},
     "output_type": "display_data"
    },
    {
     "data": {
      "application/vnd.jupyter.widget-view+json": {
       "model_id": "d091cd19a4ab4b198646ad4ee0473716",
       "version_major": 2,
       "version_minor": 0
      },
      "text/plain": [
       "Handling Subsubfolders:   0%|          | 0/400 [00:00<?, ?it/s]"
      ]
     },
     "metadata": {},
     "output_type": "display_data"
    },
    {
     "data": {
      "application/vnd.jupyter.widget-view+json": {
       "model_id": "14a48fc801994ae88577b3ff40b01b89",
       "version_major": 2,
       "version_minor": 0
      },
      "text/plain": [
       "Handling Subsubfolders:   0%|          | 0/400 [00:00<?, ?it/s]"
      ]
     },
     "metadata": {},
     "output_type": "display_data"
    },
    {
     "data": {
      "application/vnd.jupyter.widget-view+json": {
       "model_id": "7e4d068b885c4826bddff99e7121769d",
       "version_major": 2,
       "version_minor": 0
      },
      "text/plain": [
       "Handling Subsubfolders:   0%|          | 0/400 [00:00<?, ?it/s]"
      ]
     },
     "metadata": {},
     "output_type": "display_data"
    },
    {
     "data": {
      "application/vnd.jupyter.widget-view+json": {
       "model_id": "1b6df80ee4c046a3811501f4a08454d5",
       "version_major": 2,
       "version_minor": 0
      },
      "text/plain": [
       "Handling Subsubfolders:   0%|          | 0/400 [00:00<?, ?it/s]"
      ]
     },
     "metadata": {},
     "output_type": "display_data"
    },
    {
     "data": {
      "application/vnd.jupyter.widget-view+json": {
       "model_id": "43e73543b37a4879a5abe10e0d878863",
       "version_major": 2,
       "version_minor": 0
      },
      "text/plain": [
       "Handling Subsubfolders:   0%|          | 0/400 [00:00<?, ?it/s]"
      ]
     },
     "metadata": {},
     "output_type": "display_data"
    },
    {
     "data": {
      "application/vnd.jupyter.widget-view+json": {
       "model_id": "ef1e383fc0614b92b6657fcf36735205",
       "version_major": 2,
       "version_minor": 0
      },
      "text/plain": [
       "Handling Subsubfolders:   0%|          | 0/400 [00:00<?, ?it/s]"
      ]
     },
     "metadata": {},
     "output_type": "display_data"
    },
    {
     "data": {
      "application/vnd.jupyter.widget-view+json": {
       "model_id": "2611ce823b394530b517f0e7b4f6e5b2",
       "version_major": 2,
       "version_minor": 0
      },
      "text/plain": [
       "Handling Subsubfolders:   0%|          | 0/400 [00:00<?, ?it/s]"
      ]
     },
     "metadata": {},
     "output_type": "display_data"
    },
    {
     "data": {
      "application/vnd.jupyter.widget-view+json": {
       "model_id": "657a029c5a794ad48dacf8d869a23ff5",
       "version_major": 2,
       "version_minor": 0
      },
      "text/plain": [
       "Handling Subsubfolders:   0%|          | 0/400 [00:00<?, ?it/s]"
      ]
     },
     "metadata": {},
     "output_type": "display_data"
    },
    {
     "data": {
      "application/vnd.jupyter.widget-view+json": {
       "model_id": "c3266901d726441eb130dce3677baef1",
       "version_major": 2,
       "version_minor": 0
      },
      "text/plain": [
       "Handling Subsubfolders:   0%|          | 0/400 [00:00<?, ?it/s]"
      ]
     },
     "metadata": {},
     "output_type": "display_data"
    },
    {
     "data": {
      "application/vnd.jupyter.widget-view+json": {
       "model_id": "ffcf9b63209e4b4eb77ac984a7556a27",
       "version_major": 2,
       "version_minor": 0
      },
      "text/plain": [
       "Handling Subsubfolders:   0%|          | 0/400 [00:00<?, ?it/s]"
      ]
     },
     "metadata": {},
     "output_type": "display_data"
    }
   ],
   "source": [
    "main_folder_path = '../data/source_data/output_graphs(200)'\n",
    "output_file_path = '../data/before_embedding/3.10/all_graph_data.jsonl'\n",
    "\n",
    "all_graph_data = []\n",
    "\n",
    "try:\n",
    "    # open the file before handling it\n",
    "    with open(output_file_path, 'w', encoding='utf-8') as f:\n",
    "        for subfolder_name in tqdm(os.listdir(main_folder_path), desc=\"Handling Subfolders: \"):\n",
    "            subfolder_path = os.path.join(main_folder_path, subfolder_name)\n",
    "            if not os.path.isdir(subfolder_path):\n",
    "                continue\n",
    "\n",
    "            for subsubfolder_name in tqdm(os.listdir(subfolder_path), desc=\"Handling Subsubfolders: \"):\n",
    "                subsubfolder_path = os.path.join(subfolder_path, subsubfolder_name)\n",
    "                if not os.path.isdir(subsubfolder_path):\n",
    "                    continue\n",
    "\n",
    "                file_path = os.path.join(subsubfolder_path, 'all_triplets.txt')\n",
    "                data_lines = read_data_from_file(file_path)\n",
    "                graph_data = process_data(data_lines)\n",
    "\n",
    "                # directly write into the file\n",
    "                f.write(json.dumps(graph_data) + \"\\n\")\n",
    "\n",
    "except Exception as e:\n",
    "    print(f\"Error during processing files. Error: {e}\")\n",
    "\n",
    "print(f\"all the data is saved in '{output_file_path}'\")"
   ]
  },
  {
   "cell_type": "markdown",
   "metadata": {},
   "source": [
    "#### The original version\n",
    "- open the file only once, so the all_graph_data would contains too much info, which takes a longer time"
   ]
  },
  {
   "cell_type": "code",
   "execution_count": null,
   "metadata": {},
   "outputs": [],
   "source": [
    "# # 主資料夾路徑\n",
    "# main_folder_path = '../data/source_data/output_graphs(200)-test'\n",
    "\n",
    "# all_graph_data = []\n",
    "\n",
    "# try:\n",
    "#     # 遍歷主資料夾中的前100個子資料夾\n",
    "#     for subfolder_name in tqdm(os.listdir(main_folder_path)[:50], desc=\"Handling Subfolders: \"):\n",
    "#         subfolder_path = os.path.join(main_folder_path, subfolder_name)\n",
    "        \n",
    "#         # 檢查是否為資料夾\n",
    "#         if not os.path.isdir(subfolder_path):\n",
    "#             continue\n",
    "\n",
    "#         # 遍歷每個子資料夾中的子子資料夾\n",
    "#         for subsubfolder_name in tqdm(os.listdir(subfolder_path), desc=\"Handling Subsubfolders: \"):\n",
    "#             subsubfolder_path = os.path.join(subfolder_path, subsubfolder_name)\n",
    "            \n",
    "#             if not os.path.isdir(subsubfolder_path):\n",
    "#                 continue\n",
    "\n",
    "#             file_path = os.path.join(subsubfolder_path, 'all_triplets.txt')\n",
    "#             data_lines = read_data_from_file(file_path)\n",
    "#             graph_data = process_data(data_lines)\n",
    "#             all_graph_data.append(graph_data)\n",
    "\n",
    "# except Exception as e:\n",
    "#     print(f\"Error during processing files. Error: {e}\")\n",
    "\n",
    "# output_file_path = '../data/before_embedding/3.10/graph_data(100).jsonl'\n",
    "# with open(output_file_path, 'w', encoding='utf-8') as f:\n",
    "#     for graph_data in tqdm(all_graph_data, desc=\"writing into output JSONL file\"):\n",
    "#         f.write(json.dumps(graph_data))\n",
    "#         f.write(\"\\n\")\n",
    "\n",
    "# print(f\"all the data is saved in '{output_file_path}'\")\n"
   ]
  }
 ],
 "metadata": {
  "kernelspec": {
   "display_name": "Python 3 (ipykernel)",
   "language": "python",
   "name": "python3"
  },
  "language_info": {
   "codemirror_mode": {
    "name": "ipython",
    "version": 3
   },
   "file_extension": ".py",
   "mimetype": "text/x-python",
   "name": "python",
   "nbconvert_exporter": "python",
   "pygments_lexer": "ipython3",
   "version": "3.9.12"
  }
 },
 "nbformat": 4,
 "nbformat_minor": 4
}
