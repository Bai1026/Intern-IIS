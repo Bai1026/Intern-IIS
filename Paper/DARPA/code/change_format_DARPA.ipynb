{
 "cells": [
  {
   "cell_type": "markdown",
   "id": "e943dfd4",
   "metadata": {},
   "source": [
    "## This is the code to make the original DARPA dataset(json file) to the format we want(src, dest, rel, label)"
   ]
  },
  {
   "cell_type": "code",
   "execution_count": null,
   "metadata": {},
   "outputs": [],
   "source": [
    "from glob import glob\n",
    "import linecache\n",
    "import json\n",
    "from tqdm import tqdm"
   ]
  },
  {
   "cell_type": "markdown",
   "metadata": {},
   "source": [
    "#### get the input file(DARPA)"
   ]
  },
  {
   "cell_type": "code",
   "execution_count": null,
   "metadata": {},
   "outputs": [],
   "source": [
    "# 获取文件路径\n",
    "file_path = glob(f'../data_new/DARPA/source_data/3.4/*.json')\n",
    "file_path = sorted(file_path)\n",
    "\n",
    "all_events = []\n",
    "for p in file_path:\n",
    "    all_events.extend(linecache.updatecache(p))\n",
    "\n",
    "# 对事件进行排序（如果需要）\n",
    "all_events = sorted(all_events)"
   ]
  },
  {
   "cell_type": "markdown",
   "metadata": {},
   "source": [
    "#### get the subject, relation, object mapping"
   ]
  },
  {
   "cell_type": "code",
   "execution_count": null,
   "metadata": {},
   "outputs": [],
   "source": [
    "# subj 和 obj 的 uuids\n",
    "nodes = set()\n",
    "rels = set()\n",
    "\n",
    "# 遍历所有事件，提取所需的字段\n",
    "for e in tqdm(all_events, desc=\"Processing events\"):\n",
    "    e = json.loads(e)\n",
    "\n",
    "    nodes.add(e[\"subj\"][\"uuid\"])\n",
    "    nodes.add(e[\"obj\"][\"uuid\"])\n",
    "    rels.add(e[\"relation\"])\n",
    "\n",
    "# 创建映射\n",
    "node2idx = {uuid: idx for idx, uuid in enumerate(tqdm(nodes, desc=\"Mapping nodes\"))}\n",
    "rel2idx = {rel: idx for idx, rel in enumerate(tqdm(rels, desc=\"Mapping relations\"))}"
   ]
  },
  {
   "cell_type": "markdown",
   "metadata": {},
   "source": [
    "#### get the output format of the data with the encoded uuids and label"
   ]
  },
  {
   "cell_type": "code",
   "execution_count": null,
   "metadata": {},
   "outputs": [],
   "source": [
    "event_encode = []\n",
    "for e in tqdm(all_events, desc=\"Encoding events\"):\n",
    "    e = json.loads(e)\n",
    "    label = 0 if e[\"label\"] == \"benign\" else 1\n",
    "    event_encode.append((node2idx[e[\"subj\"][\"uuid\"]], rel2idx[e[\"relation\"]], node2idx[e[\"obj\"][\"uuid\"]], label))\n",
    "\n",
    "# 打印结果\n",
    "print(event_encode)\n",
    "print(node2idx)"
   ]
  },
  {
   "cell_type": "markdown",
   "metadata": {},
   "source": [
    "### output the txt file\n",
    "- node mapping  \n",
    "- relation mapping  \n",
    "- output file(in the format we want)"
   ]
  },
  {
   "cell_type": "code",
   "execution_count": null,
   "id": "47498856",
   "metadata": {},
   "outputs": [],
   "source": [
    "\n",
    "# 保存映射和事件编码到文件\n",
    "with open('../data_new/DARPA/before_embedding/3.10/node2idx.txt', 'w') as f:\n",
    "    for key, value in node2idx.items():\n",
    "        f.write(f'{key} {value}\\n')\n",
    "\n",
    "with open('../data_new/DARPA/before_embedding/3.10/rel2idx.txt', 'w') as f:\n",
    "    for key, value in rel2idx.items():\n",
    "        f.write(f'{key} {value}\\n')\n",
    "\n",
    "with open('../data_new/DARPA/before_embedding/3.10/event_encode.txt', 'w') as f:\n",
    "    for item in event_encode:\n",
    "        f.write(f'{item[0]} {item[1]} {item[2]} {item[3]}\\n')\n"
   ]
  },
  {
   "cell_type": "markdown",
   "metadata": {},
   "source": [
    "#### get the # of the attack"
   ]
  },
  {
   "cell_type": "code",
   "execution_count": null,
   "metadata": {},
   "outputs": [],
   "source": [
    "# 计算 label = 1 的事件数量\n",
    "label_1_count = sum(1 for event in event_encode if event[-1] == 1)\n",
    "\n",
    "# 打印结果\n",
    "print(\"Number of events with label = 1:\", label_1_count)\n"
   ]
  },
  {
   "cell_type": "code",
   "execution_count": null,
   "id": "1814ab39",
   "metadata": {},
   "outputs": [],
   "source": []
  },
  {
   "cell_type": "code",
   "execution_count": null,
   "metadata": {},
   "outputs": [],
   "source": [
    "from glob import glob\n",
    "import linecache\n",
    "import json\n",
    "from tqdm import tqdm\n",
    "\n",
    "file_path = glob(f'../data_new/DARPA/source_data/test/*.json')\n",
    "file_path = sorted(file_path)\n",
    "\n",
    "all_events = []\n",
    "for p in file_path:\n",
    "    all_events.extend(linecache.updatecache(p))\n",
    "\n",
    "all_events = sorted(all_events)\n",
    "\n",
    "nodes = set()\n",
    "rels = set()\n",
    "\n",
    "for e in tqdm(all_events, desc=\"Processing events\"):\n",
    "    e = json.loads(e)\n",
    "\n",
    "    nodes.add(e[\"subj\"][\"uuid\"])\n",
    "    nodes.add(e[\"obj\"][\"uuid\"])\n",
    "    rels.add(e[\"relation\"])\n",
    "\n",
    "node2idx = {uuid: idx for idx, uuid in enumerate(tqdm(nodes, desc=\"Mapping nodes\"))}\n",
    "rel2idx = {rel: idx for idx, rel in enumerate(tqdm(rels, desc=\"Mapping relations\"))}\n",
    "\n",
    "event_encode = []\n",
    "for e in tqdm(all_events, desc=\"Encoding events\"):\n",
    "    e = json.loads(e)\n",
    "    label = 0 if e[\"label\"] == \"benign\" else 1\n",
    "    event_encode.append((node2idx[e[\"subj\"][\"uuid\"]], rel2idx[e[\"relation\"]], node2idx[e[\"obj\"][\"uuid\"]], label))\n",
    "\n",
    "print(event_encode)\n",
    "print(node2idx)\n"
   ]
  }
 ],
 "metadata": {
  "kernelspec": {
   "display_name": "Python 3",
   "language": "python",
   "name": "python3"
  },
  "language_info": {
   "codemirror_mode": {
    "name": "ipython",
    "version": 3
   },
   "file_extension": ".py",
   "mimetype": "text/x-python",
   "name": "python",
   "nbconvert_exporter": "python",
   "pygments_lexer": "ipython3",
   "version": "3.9.12"
  }
 },
 "nbformat": 4,
 "nbformat_minor": 5
}
