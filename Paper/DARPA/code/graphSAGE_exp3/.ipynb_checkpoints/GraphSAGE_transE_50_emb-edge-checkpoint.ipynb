{
 "cells": [
  {
   "cell_type": "markdown",
   "metadata": {},
   "source": [
    "# Test of GraphSAGE\n",
    "- use DGL\n",
    "- predict `graphs`\n",
    "- valid, test data are in the training dataset"
   ]
  },
  {
   "cell_type": "code",
   "execution_count": 1,
   "metadata": {},
   "outputs": [],
   "source": [
    "import os\n",
    "import dgl\n",
    "import json\n",
    "import torch\n",
    "import random\n",
    "import subprocess\n",
    "import numpy as np\n",
    "import torch as th\n",
    "import torch.nn as nn\n",
    "import dgl.nn as dglnn\n",
    "\n",
    "from tqdm.notebook import tqdm\n",
    "import torch.nn.functional as F\n",
    "from dgl.nn import GraphConv, GATConv, SAGEConv\n",
    "from torch.utils.data import Dataset, DataLoader\n",
    "from sklearn.model_selection import train_test_split\n",
    "from transformers import get_linear_schedule_with_warmup"
   ]
  },
  {
   "cell_type": "markdown",
   "metadata": {},
   "source": [
    "- check the GPU and assign the GPU by the best memory usage"
   ]
  },
  {
   "cell_type": "code",
   "execution_count": 2,
   "metadata": {},
   "outputs": [
    {
     "name": "stdout",
     "output_type": "stream",
     "text": [
      "cuda:0\n"
     ]
    }
   ],
   "source": [
    "def get_free_gpu():\n",
    "    try:\n",
    "        # Run nvidia-smi command to get GPU details\n",
    "        _output_to_list = lambda x: x.decode('ascii').split('\\n')[:-1]\n",
    "        command = \"nvidia-smi --query-gpu=memory.free --format=csv,nounits,noheader\"\n",
    "        memory_free_info = _output_to_list(subprocess.check_output(command.split())) \n",
    "        memory_free_values = [int(x) for i, x in enumerate(memory_free_info)]\n",
    "        \n",
    "        # Get the GPU with the maximum free memory\n",
    "        best_gpu_id = memory_free_values.index(max(memory_free_values))\n",
    "        return best_gpu_id\n",
    "    except:\n",
    "        # If any exception occurs, default to GPU 0 (this handles cases where nvidia-smi isn't installed)\n",
    "        return 0\n",
    "\n",
    "if torch.cuda.is_available():\n",
    "    # Get the best GPU ID based on free memory and set it\n",
    "    best_gpu_id = get_free_gpu()\n",
    "    device = torch.device(f\"cuda:{best_gpu_id}\")\n",
    "else:\n",
    "    device = torch.device(\"cpu\")\n",
    "    print(\"there's no available GPU\")\n",
    "\n",
    "# device = torch.device(f\"cuda:{1}\")\n",
    "print(device)\n"
   ]
  },
  {
   "cell_type": "markdown",
   "metadata": {},
   "source": [
    "## Fix the seed"
   ]
  },
  {
   "cell_type": "code",
   "execution_count": 3,
   "metadata": {},
   "outputs": [],
   "source": [
    "#fix seed\n",
    "def same_seeds(seed = 8787):\n",
    "    torch.manual_seed(seed)\n",
    "    # random.seed(seed) \n",
    "    if torch.cuda.is_available():\n",
    "        torch.cuda.manual_seed(seed)\n",
    "        torch.cuda.manual_seed_all(seed)  \n",
    "    np.random.seed(seed)  \n",
    "    torch.backends.cudnn.benchmark = False\n",
    "    torch.backends.cudnn.deterministic = True"
   ]
  },
  {
   "cell_type": "markdown",
   "metadata": {},
   "source": [
    "## Load the embedding"
   ]
  },
  {
   "cell_type": "code",
   "execution_count": 4,
   "metadata": {},
   "outputs": [],
   "source": [
    "embedding = 'transE_50'\n",
    "with open(f\"../../data/4_embedding/synthesize/{embedding}.vec.json\", \"r\") as f:\n",
    "    tmp = json.load(f)\n",
    "\n",
    "index2entemb = {idx:emb for idx, emb in enumerate(tmp[\"ent_embeddings.weight\"])}\n",
    "index2relemb = {idx:emb for idx, emb in enumerate(tmp[\"rel_embeddings.weight\"])}"
   ]
  },
  {
   "cell_type": "code",
   "execution_count": 5,
   "metadata": {},
   "outputs": [
    {
     "data": {
      "text/plain": [
       "26868"
      ]
     },
     "execution_count": 5,
     "metadata": {},
     "output_type": "execute_result"
    }
   ],
   "source": [
    "len(index2entemb)"
   ]
  },
  {
   "cell_type": "code",
   "execution_count": 6,
   "metadata": {},
   "outputs": [
    {
     "data": {
      "text/plain": [
       "23"
      ]
     },
     "execution_count": 6,
     "metadata": {},
     "output_type": "execute_result"
    }
   ],
   "source": [
    "len(index2relemb)"
   ]
  },
  {
   "cell_type": "code",
   "execution_count": null,
   "metadata": {},
   "outputs": [
    {
     "name": "stdout",
     "output_type": "stream",
     "text": [
      "Loading the data...\n"
     ]
    },
    {
     "data": {
      "application/vnd.jupyter.widget-view+json": {
       "model_id": "92f92346cb97429e89edc2ed74b88a66",
       "version_major": 2,
       "version_minor": 0
      },
      "text/plain": [
       "Loading:   0%|          | 0/399000 [00:00<?, ?it/s]"
      ]
     },
     "metadata": {},
     "output_type": "display_data"
    }
   ],
   "source": [
    "with open(\"../../data/source_data/before_embedding/3.10/all_graph_data.jsonl\", \"r\") as f:\n",
    "    print(\"Loading the data...\")\n",
    "\n",
    "    # only process 40000 data from 400000 data\n",
    "    wanted_data = 399000\n",
    "    input_data = []\n",
    "    for idx, line in tqdm(enumerate(f), total=wanted_data, desc=\"Loading\"):\n",
    "        if idx == wanted_data:\n",
    "            break\n",
    "        input_data.append(json.loads(line))\n",
    "        \n",
    "    print(\"FINISH...\")"
   ]
  },
  {
   "cell_type": "code",
   "execution_count": null,
   "metadata": {},
   "outputs": [],
   "source": [
    "len(input_data)"
   ]
  },
  {
   "cell_type": "markdown",
   "metadata": {},
   "source": [
    "- Convert the 'node_feat' and 'edge_attr' from int to embedding\n",
    "    - takes about 45 min to transform the embedding\n",
    "    - if use original method -> takes about 60 hours"
   ]
  },
  {
   "cell_type": "code",
   "execution_count": null,
   "metadata": {},
   "outputs": [],
   "source": [
    "# If type(input_data[0] == dict)\n",
    "for data_point in tqdm(input_data):\n",
    "    data_point['node_feat'] = [index2entemb[node_id] for node_id in data_point['node_feat']]\n",
    "    data_point['edge_attr'] = [index2relemb[edge_id] for edge_id in data_point['edge_attr']]\n",
    "\n",
    "\n",
    "# If type(input_data[0] == str)\n",
    "# for idx, data in tqdm(enumerate(input_data)):\n",
    "    \n",
    "#     # make the data from string to int\n",
    "#     data_point = json.loads(data)\n",
    "\n",
    "#     data_point['node_feat'] = [index2entemb[node_id] for node_id in data_point['node_feat']]\n",
    "#     data_point['edge_attr'] = [index2relemb[edge_id] for edge_id in data_point['edge_attr']]\n",
    "\n",
    "#     input_data[idx] = data_point"
   ]
  },
  {
   "cell_type": "code",
   "execution_count": null,
   "metadata": {},
   "outputs": [],
   "source": [
    "type(input_data[0])"
   ]
  },
  {
   "cell_type": "code",
   "execution_count": null,
   "metadata": {},
   "outputs": [],
   "source": [
    "type(input_data[16699])"
   ]
  },
  {
   "cell_type": "code",
   "execution_count": null,
   "metadata": {},
   "outputs": [],
   "source": [
    "len(input_data)"
   ]
  },
  {
   "cell_type": "code",
   "execution_count": null,
   "metadata": {},
   "outputs": [],
   "source": [
    "input_data[1]['node_feat']"
   ]
  },
  {
   "cell_type": "markdown",
   "metadata": {},
   "source": [
    "## Data Loader"
   ]
  },
  {
   "cell_type": "code",
   "execution_count": null,
   "metadata": {},
   "outputs": [],
   "source": [
    "class GraphDataset(Dataset):\n",
    "    def __init__(self, data_list, device):\n",
    "        self.data_list = data_list\n",
    "        self.device = device\n",
    "\n",
    "    def __len__(self):\n",
    "        return len(self.data_list)\n",
    "    \n",
    "    def __getitem__(self, idx):\n",
    "        data = self.data_list[idx]\n",
    "        return data\n",
    "\n",
    "def collate(samples):\n",
    "    data_list = samples\n",
    "    batched_graphs = []\n",
    "    for data in data_list:\n",
    "        g = dgl.graph((th.tensor(data[\"edge_index\"][0]), th.tensor(data[\"edge_index\"][1])), num_nodes=data[\"num_nodes\"])\n",
    "\n",
    "        g.ndata['feat'] = th.tensor(data[\"node_feat\"])\n",
    "        g.edata['feat'] = th.tensor(data[\"edge_attr\"])\n",
    "        g.edata['label'] = th.tensor(data[\"labels\"])  # Add edge labels to graph\n",
    "\n",
    "        batched_graphs.append(g)\n",
    "    \n",
    "    return dgl.batch(batched_graphs)"
   ]
  },
  {
   "cell_type": "code",
   "execution_count": null,
   "metadata": {},
   "outputs": [],
   "source": [
    "# split 8:1:1 (train, valid, test)\n",
    "train_data, test_data = train_test_split(input_data, test_size=0.2, random_state=42)\n",
    "valid_data, test_data = train_test_split(test_data, test_size=0.5, random_state=42)\n",
    "\n",
    "\n",
    "dataset_data = {\n",
    "    'train': GraphDataset(train_data, device),\n",
    "    'valid': GraphDataset(valid_data, device),\n",
    "    'test': GraphDataset(test_data, device)\n",
    "}\n",
    "\n",
    "print(\"Datasets loaded and ready for training!\")"
   ]
  },
  {
   "cell_type": "code",
   "execution_count": null,
   "metadata": {},
   "outputs": [],
   "source": [
    "len(dataset_data['test'])"
   ]
  },
  {
   "cell_type": "code",
   "execution_count": null,
   "metadata": {},
   "outputs": [],
   "source": [
    "dataset_data['train'][0]"
   ]
  },
  {
   "cell_type": "markdown",
   "metadata": {},
   "source": [
    "- choose batch size"
   ]
  },
  {
   "cell_type": "code",
   "execution_count": null,
   "metadata": {},
   "outputs": [],
   "source": [
    "def create_dataloaders(batch_size, shuffle=True):\n",
    "    dataloaders = {}\n",
    "    for dataset_name, dataset in dataset_data.items():\n",
    "        # do not shuffle the testing dataset\n",
    "        if dataset_name == \"test\":\n",
    "            dataloaders[dataset_name] = DataLoader(dataset, batch_size=batch_size, shuffle=False, collate_fn=collate)    \n",
    "        else:\n",
    "            dataloaders[dataset_name] = DataLoader(dataset, batch_size=batch_size, shuffle=shuffle, collate_fn=collate)\n",
    "    return dataloaders\n",
    "\n",
    "dataloaders = create_dataloaders(126)"
   ]
  },
  {
   "cell_type": "code",
   "execution_count": null,
   "metadata": {},
   "outputs": [],
   "source": [
    "edge_embedding_dim = 0\n",
    "\n",
    "# Assuming dataloaders is a dictionary with 'test' as one of the keys\n",
    "for batch in dataloaders['train']:\n",
    "    print(batch, \"\\n\")\n",
    "    \n",
    "#     print(\"edata:\", batch.edata, '\\n')\n",
    "    print(\"edata['feat'] size:\", batch.edata['feat'].shape, '\\n')\n",
    "    print(\"edata['label']:\", batch.edata['label'])\n",
    "\n",
    "    edge_embedding_dim = batch.edata['feat'].shape[1]\n",
    "\n",
    "    break  # To break out after the first batch if needed\n",
    "\n",
    "print(\"\\n\\nedge embedding dimension: \", edge_embedding_dim)"
   ]
  },
  {
   "cell_type": "markdown",
   "metadata": {},
   "source": [
    "- Turn the print message to a log file"
   ]
  },
  {
   "cell_type": "code",
   "execution_count": null,
   "metadata": {},
   "outputs": [],
   "source": [
    "import datetime\n",
    "\n",
    "now = datetime.datetime.now()\n",
    "\n",
    "formatted_time = now.strftime(\"%m%d_%H:%M\")\n",
    "\n",
    "log_file_path = f\"./log_message/{formatted_time}_GraphSAGE_transE_50-edge.log\"\n",
    "\n",
    "def add_log_msg(msg, log_file_path=log_file_path):\n",
    "    with open(log_file_path, 'a') as f:\n",
    "        f.write(f'{datetime.datetime.now().strftime(\"%m/%d/%Y, %H:%M:%S\")}# {msg}\\n')\n",
    "    print(f'{datetime.datetime.now().strftime(\"%m/%d/%Y, %H:%M:%S\")}# {msg}')\n",
    "\n",
    "print(log_file_path)"
   ]
  },
  {
   "cell_type": "markdown",
   "metadata": {},
   "source": [
    "### Model"
   ]
  },
  {
   "cell_type": "code",
   "execution_count": null,
   "metadata": {},
   "outputs": [],
   "source": [
    "class GraphSAGE(nn.Module):\n",
    "    def __init__(self, in_dim, hidden_dim, out_dim):\n",
    "        super(GraphSAGE, self).__init__()\n",
    "        self.layer1 = dglnn.SAGEConv(in_dim, hidden_dim, 'pool')\n",
    "        self.layer2 = dglnn.SAGEConv(hidden_dim, out_dim, 'pool')\n",
    "#         self.dropout = nn.Dropout(0.25)\n",
    "\n",
    "    def forward(self, g, inputs):\n",
    "        h = self.layer1(g, inputs)\n",
    "        h = torch.relu(h)\n",
    "#         h = self.dropout(h)\n",
    "        new_node_feat = self.layer2(g, h)\n",
    "    \n",
    "        return new_node_feat"
   ]
  },
  {
   "cell_type": "code",
   "execution_count": 23,
   "metadata": {},
   "outputs": [],
   "source": [
    "class MLPPredictor(nn.Module):\n",
    "    def __init__(self, out_feats, out_classes, edge_embedding_dim):\n",
    "        super().__init__()\n",
    "        self.W = nn.Linear(out_feats*2 + edge_embedding_dim, out_classes)\n",
    "\n",
    "    def apply_edges(self, edges, edge_feat):\n",
    "#     def apply_edges(self, edges):\n",
    "\n",
    "        h_u = edges.src['new_node_feat']\n",
    "        h_v = edges.dst['new_node_feat']\n",
    "        \n",
    "        num_edges, edge_feat_dim = edge_feat.shape\n",
    "#         print(num_edges, edge_feat_dim)\n",
    "        \n",
    "        h_e = edge_feat\n",
    "        \n",
    "        # concat 3 features\n",
    "        test = torch.cat([h_u, h_v, h_e],1)\n",
    "#         print(\"with edge: \", test.shape)\n",
    "        \n",
    "        test = torch.cat([h_u, h_v],1)\n",
    "#         print(\"without edge: \", test.shape)\n",
    "        \n",
    "        score = self.W(torch.cat([h_u, h_v, h_e], 1))\n",
    "#         score = self.W(torch.cat([h_u, h_v], 1))\n",
    "\n",
    "        return {'score': score}\n",
    "\n",
    "\n",
    "    def forward(self, graph, new_node_feat, edge_feat):\n",
    "        with graph.local_scope():\n",
    "            graph.ndata['new_node_feat'] = new_node_feat\n",
    "#             graph.apply_edges(self.apply_edges)\n",
    "\n",
    "            # 在 apply_edges 时传递 edge_feat\n",
    "            graph.apply_edges(lambda edges: self.apply_edges(edges, edge_feat))\n",
    "            return graph.edata['score']"
   ]
  },
  {
   "cell_type": "code",
   "execution_count": 24,
   "metadata": {},
   "outputs": [],
   "source": [
    "class Model(nn.Module):\n",
    "    def __init__(self, in_features, hidden_features, out_features, num_classes, edge_embedding_dim):\n",
    "        super().__init__()\n",
    "        self.sage = GraphSAGE(in_features, hidden_features, out_features)\n",
    "        self.pred = MLPPredictor(out_features, num_classes, edge_embedding_dim)\n",
    "      \n",
    "    def forward(self, g, node_feat, edge_feat, return_logits=False):\n",
    "        new_node_feat = self.sage(g, node_feat)\n",
    "        logits = self.pred(g, new_node_feat, edge_feat)\n",
    "        \n",
    "        return logits"
   ]
  },
  {
   "cell_type": "markdown",
   "metadata": {},
   "source": [
    "- Model Forward  "
   ]
  },
  {
   "cell_type": "code",
   "execution_count": 25,
   "metadata": {},
   "outputs": [],
   "source": [
    "def model_fn(batched_g, model, criterion, device, count=1, which_type='train'):\n",
    "    \"\"\"Forward a batch through the model.\"\"\"\n",
    "#     batched_g, labels = data\n",
    "    batched_g = batched_g.to(device)\n",
    "    \n",
    "    labels = batched_g.edata['label'].to(device)\n",
    "    \n",
    "#     logits = model(batched_g, batched_g.ndata['feat'].float())\n",
    "    logits = model(batched_g, batched_g.ndata['feat'].float(), batched_g.edata['feat'].float())\n",
    "\n",
    "    loss = criterion(logits, labels)\n",
    "\n",
    "    output = torch.softmax(logits, dim=1)\n",
    "    preds = output.argmax(1)\n",
    "    \n",
    "    # Compute accuracy\n",
    "    accuracy = torch.mean((preds == labels).float())\n",
    "        \n",
    "    return loss, accuracy, preds"
   ]
  },
  {
   "cell_type": "markdown",
   "metadata": {},
   "source": [
    "### Training Loop"
   ]
  },
  {
   "cell_type": "code",
   "execution_count": null,
   "metadata": {
    "scrolled": true
   },
   "outputs": [
    {
     "data": {
      "application/vnd.jupyter.widget-view+json": {
       "model_id": "a61df16f65294019a399a54f99c69997",
       "version_major": 2,
       "version_minor": 0
      },
      "text/plain": [
       "  0%|          | 0/200 [00:00<?, ?it/s]"
      ]
     },
     "metadata": {},
     "output_type": "display_data"
    },
    {
     "data": {
      "application/vnd.jupyter.widget-view+json": {
       "model_id": "92f00c46d44f4ce9a45039a29c07d1c0",
       "version_major": 2,
       "version_minor": 0
      },
      "text/plain": [
       "Training:   0%|          | 0/107 [00:00<?, ?it/s]"
      ]
     },
     "metadata": {},
     "output_type": "display_data"
    },
    {
     "name": "stdout",
     "output_type": "stream",
     "text": [
      "01/22/2024, 22:19:56# total batches: 107\n",
      "01/22/2024, 22:19:56# Epoch 0 | Train Loss: 5.5367 | Train Accuracy: 0.0060\n"
     ]
    },
    {
     "data": {
      "application/vnd.jupyter.widget-view+json": {
       "model_id": "308c1c0ad35f46b18b01056a2ffe1411",
       "version_major": 2,
       "version_minor": 0
      },
      "text/plain": [
       "Validation:   0%|          | 0/14 [00:00<?, ?it/s]"
      ]
     },
     "metadata": {},
     "output_type": "display_data"
    },
    {
     "name": "stdout",
     "output_type": "stream",
     "text": [
      "01/22/2024, 22:20:01# Validation Loss: 5.4916 | Validation Accuracy: 0.0151\n",
      "\n"
     ]
    },
    {
     "data": {
      "application/vnd.jupyter.widget-view+json": {
       "model_id": "255591b7de8246fa88e4680276e06ee4",
       "version_major": 2,
       "version_minor": 0
      },
      "text/plain": [
       "Training:   0%|          | 0/107 [00:00<?, ?it/s]"
      ]
     },
     "metadata": {},
     "output_type": "display_data"
    },
    {
     "name": "stdout",
     "output_type": "stream",
     "text": [
      "01/22/2024, 22:20:40# total batches: 107\n",
      "01/22/2024, 22:20:40# Epoch 1 | Train Loss: 5.4301 | Train Accuracy: 0.1076\n"
     ]
    },
    {
     "data": {
      "application/vnd.jupyter.widget-view+json": {
       "model_id": "ccfd69bd3e054deab5b7c6a7a67c934a",
       "version_major": 2,
       "version_minor": 0
      },
      "text/plain": [
       "Validation:   0%|          | 0/14 [00:00<?, ?it/s]"
      ]
     },
     "metadata": {},
     "output_type": "display_data"
    },
    {
     "name": "stdout",
     "output_type": "stream",
     "text": [
      "01/22/2024, 22:20:45# Validation Loss: 5.3885 | Validation Accuracy: 0.1989\n",
      "\n",
      "01/22/2024, 22:20:45# Find a better model!!\n"
     ]
    },
    {
     "data": {
      "application/vnd.jupyter.widget-view+json": {
       "model_id": "083adae5a6b241b58a34a069654cac69",
       "version_major": 2,
       "version_minor": 0
      },
      "text/plain": [
       "Training:   0%|          | 0/107 [00:00<?, ?it/s]"
      ]
     },
     "metadata": {},
     "output_type": "display_data"
    },
    {
     "name": "stdout",
     "output_type": "stream",
     "text": [
      "01/22/2024, 22:21:27# total batches: 107\n",
      "01/22/2024, 22:21:27# Epoch 2 | Train Loss: 5.3188 | Train Accuracy: 0.3559\n"
     ]
    },
    {
     "data": {
      "application/vnd.jupyter.widget-view+json": {
       "model_id": "d1adf1ab83834d35a28a548a6fdebacc",
       "version_major": 2,
       "version_minor": 0
      },
      "text/plain": [
       "Validation:   0%|          | 0/14 [00:00<?, ?it/s]"
      ]
     },
     "metadata": {},
     "output_type": "display_data"
    },
    {
     "name": "stdout",
     "output_type": "stream",
     "text": [
      "01/22/2024, 22:21:31# Validation Loss: 5.2877 | Validation Accuracy: 0.3585\n",
      "\n",
      "01/22/2024, 22:21:31# Find a better model!!\n"
     ]
    },
    {
     "data": {
      "application/vnd.jupyter.widget-view+json": {
       "model_id": "84dec9fd245245ec8ff573cea31c61c2",
       "version_major": 2,
       "version_minor": 0
      },
      "text/plain": [
       "Training:   0%|          | 0/107 [00:00<?, ?it/s]"
      ]
     },
     "metadata": {},
     "output_type": "display_data"
    },
    {
     "name": "stdout",
     "output_type": "stream",
     "text": [
      "01/22/2024, 22:22:13# total batches: 107\n",
      "01/22/2024, 22:22:13# Epoch 3 | Train Loss: 5.1997 | Train Accuracy: 0.4515\n"
     ]
    },
    {
     "data": {
      "application/vnd.jupyter.widget-view+json": {
       "model_id": "4c6da32f79d041f68d70aa69f5531f78",
       "version_major": 2,
       "version_minor": 0
      },
      "text/plain": [
       "Validation:   0%|          | 0/14 [00:00<?, ?it/s]"
      ]
     },
     "metadata": {},
     "output_type": "display_data"
    },
    {
     "name": "stdout",
     "output_type": "stream",
     "text": [
      "01/22/2024, 22:22:18# Validation Loss: 5.1564 | Validation Accuracy: 0.4119\n",
      "\n",
      "01/22/2024, 22:22:18# Find a better model!!\n"
     ]
    },
    {
     "data": {
      "application/vnd.jupyter.widget-view+json": {
       "model_id": "924bb22ea3c14917816bdc027e8cc8d8",
       "version_major": 2,
       "version_minor": 0
      },
      "text/plain": [
       "Training:   0%|          | 0/107 [00:00<?, ?it/s]"
      ]
     },
     "metadata": {},
     "output_type": "display_data"
    },
    {
     "name": "stdout",
     "output_type": "stream",
     "text": [
      "01/22/2024, 22:22:58# total batches: 107\n",
      "01/22/2024, 22:22:58# Epoch 4 | Train Loss: 5.0848 | Train Accuracy: 0.4741\n"
     ]
    },
    {
     "data": {
      "application/vnd.jupyter.widget-view+json": {
       "model_id": "f0aafaa1655f4fcd837e82aaf6124c0b",
       "version_major": 2,
       "version_minor": 0
      },
      "text/plain": [
       "Validation:   0%|          | 0/14 [00:00<?, ?it/s]"
      ]
     },
     "metadata": {},
     "output_type": "display_data"
    },
    {
     "name": "stdout",
     "output_type": "stream",
     "text": [
      "01/22/2024, 22:23:02# Validation Loss: 5.0744 | Validation Accuracy: 0.4202\n",
      "\n",
      "01/22/2024, 22:23:02# Find a better model!!\n"
     ]
    },
    {
     "data": {
      "application/vnd.jupyter.widget-view+json": {
       "model_id": "019a1d4851e34d908653d2a85df45aaa",
       "version_major": 2,
       "version_minor": 0
      },
      "text/plain": [
       "Training:   0%|          | 0/107 [00:00<?, ?it/s]"
      ]
     },
     "metadata": {},
     "output_type": "display_data"
    },
    {
     "name": "stdout",
     "output_type": "stream",
     "text": [
      "01/22/2024, 22:23:44# total batches: 107\n",
      "01/22/2024, 22:23:44# Epoch 5 | Train Loss: 4.9421 | Train Accuracy: 0.5308\n"
     ]
    },
    {
     "data": {
      "application/vnd.jupyter.widget-view+json": {
       "model_id": "f08440fdaeab4e8193846761f5e58939",
       "version_major": 2,
       "version_minor": 0
      },
      "text/plain": [
       "Validation:   0%|          | 0/14 [00:00<?, ?it/s]"
      ]
     },
     "metadata": {},
     "output_type": "display_data"
    },
    {
     "name": "stdout",
     "output_type": "stream",
     "text": [
      "01/22/2024, 22:23:48# Validation Loss: 4.9021 | Validation Accuracy: 0.4885\n",
      "\n",
      "01/22/2024, 22:23:48# Find a better model!!\n"
     ]
    },
    {
     "data": {
      "application/vnd.jupyter.widget-view+json": {
       "model_id": "70b7ab9312af481e8339e936de359102",
       "version_major": 2,
       "version_minor": 0
      },
      "text/plain": [
       "Training:   0%|          | 0/107 [00:00<?, ?it/s]"
      ]
     },
     "metadata": {},
     "output_type": "display_data"
    },
    {
     "name": "stdout",
     "output_type": "stream",
     "text": [
      "01/22/2024, 22:24:29# total batches: 107\n",
      "01/22/2024, 22:24:29# Epoch 6 | Train Loss: 4.7974 | Train Accuracy: 0.5446\n"
     ]
    },
    {
     "data": {
      "application/vnd.jupyter.widget-view+json": {
       "model_id": "3ffdf681966b49f9bbb38e1b3a961f12",
       "version_major": 2,
       "version_minor": 0
      },
      "text/plain": [
       "Validation:   0%|          | 0/14 [00:00<?, ?it/s]"
      ]
     },
     "metadata": {},
     "output_type": "display_data"
    },
    {
     "name": "stdout",
     "output_type": "stream",
     "text": [
      "01/22/2024, 22:24:34# Validation Loss: 4.7760 | Validation Accuracy: 0.4989\n",
      "\n",
      "01/22/2024, 22:24:34# Find a better model!!\n"
     ]
    },
    {
     "data": {
      "application/vnd.jupyter.widget-view+json": {
       "model_id": "2cf4eaca072049648bd360abbfe55d99",
       "version_major": 2,
       "version_minor": 0
      },
      "text/plain": [
       "Training:   0%|          | 0/107 [00:00<?, ?it/s]"
      ]
     },
     "metadata": {},
     "output_type": "display_data"
    },
    {
     "name": "stdout",
     "output_type": "stream",
     "text": [
      "01/22/2024, 22:25:13# total batches: 107\n",
      "01/22/2024, 22:25:13# Epoch 7 | Train Loss: 4.6372 | Train Accuracy: 0.5566\n"
     ]
    },
    {
     "data": {
      "application/vnd.jupyter.widget-view+json": {
       "model_id": "748e4f33b6de4dbdbcefccaa9dbdf353",
       "version_major": 2,
       "version_minor": 0
      },
      "text/plain": [
       "Validation:   0%|          | 0/14 [00:00<?, ?it/s]"
      ]
     },
     "metadata": {},
     "output_type": "display_data"
    },
    {
     "name": "stdout",
     "output_type": "stream",
     "text": [
      "01/22/2024, 22:25:18# Validation Loss: 4.6472 | Validation Accuracy: 0.4956\n",
      "\n",
      "01/22/2024, 22:25:18# Find a better model!!\n"
     ]
    },
    {
     "data": {
      "application/vnd.jupyter.widget-view+json": {
       "model_id": "9313517d3ea64dca8fa3ddfc258b2fdf",
       "version_major": 2,
       "version_minor": 0
      },
      "text/plain": [
       "Training:   0%|          | 0/107 [00:00<?, ?it/s]"
      ]
     },
     "metadata": {},
     "output_type": "display_data"
    }
   ],
   "source": [
    "import csv\n",
    "import pandas as pd\n",
    "from sklearn.metrics import classification_report\n",
    "from torch.optim import AdamW, lr_scheduler\n",
    "\n",
    "seed = 8787\n",
    "same_seeds(seed)\n",
    "\n",
    "model = Model(in_features=50, hidden_features=64, out_features=128, num_classes=274, edge_embedding_dim = edge_embedding_dim)\n",
    "# in_dim means the dimension of the node_feat(50 dim, since the 50-dim embedding)\n",
    "# out_dim means the # of the categories -> 168 for out tasks\n",
    "# model.load_state_dict(torch.load('model3_initial(graphsage)/initial_weight.pth'))\n",
    "best_model_path = \"./checkpoint_graphSAGE/best_model_GraphSAGE_transE_50-edge.pt\"\n",
    "\n",
    "model = model.to(device)\n",
    "\n",
    "# optimizer = torch.optim.AdamW(model.parameters(), lr=1e-5)\n",
    "optimizer = AdamW(model.parameters(), lr=1e-5)\n",
    "# scheduler = get_linear_schedule_with_warmup(optimizer, num_warmup_steps=18, num_training_steps=total_steps)\n",
    "\n",
    "# T_max control the period of the lr changing -> set 1/10 first\n",
    "scheduler = lr_scheduler.CosineAnnealingLR(optimizer, T_max=36, eta_min=0, last_epoch=- 1, verbose=False)\n",
    "\n",
    "criterion = nn.CrossEntropyLoss()\n",
    "# criterion = torch.nn.BCEWithLogitsLoss()\n",
    "\n",
    "total_steps = 200\n",
    "\n",
    "# save the best model\n",
    "best_val_loss = float('inf')\n",
    "patience = 10  # Number of epochs with no improvement after which training will be stopped.\n",
    "waiting = 0  # The number of epochs with no improvement so far.\n",
    "\n",
    "\n",
    "# Training Part\n",
    "for epoch in tqdm(range(total_steps)):\n",
    "    # Train\n",
    "    model.train()\n",
    "    total_loss = 0.0\n",
    "    total_accuracy = 0.0\n",
    "    num_batches = 0\n",
    "    \n",
    "    for batched_g in tqdm(dataloaders['train'], desc=\"Training\", position=0, leave=True):\n",
    "        num_batches += 1\n",
    "        loss, accuracy, _ = model_fn(batched_g, model, criterion, device, num_batches, which_type='train')\n",
    "        \n",
    "        optimizer.zero_grad()\n",
    "        loss.backward()\n",
    "        optimizer.step()\n",
    "\n",
    "        total_loss += loss.item()\n",
    "        total_accuracy += accuracy.item()\n",
    "\n",
    "    scheduler.step()\n",
    "    add_log_msg(f\"total batches: {num_batches}\")\n",
    "\n",
    "    avg_loss = total_loss / num_batches\n",
    "    avg_accuracy = total_accuracy / num_batches\n",
    "\n",
    "    add_log_msg(f'Epoch {epoch} | Train Loss: {avg_loss:.4f} | Train Accuracy: {avg_accuracy:.4f}')\n",
    "\n",
    "    \n",
    "    # Validation Part\n",
    "    model.eval()\n",
    "    total_accuracy = 0.0\n",
    "    total_loss = 0.0\n",
    "    num_batches = 0\n",
    "\n",
    "\n",
    "    with torch.no_grad():\n",
    "        for batched_g in tqdm(dataloaders['valid'], desc=\"Validation\", position=0, leave=True):\n",
    "            loss, accuracy, _ = model_fn(batched_g, model, criterion, device, num_batches, which_type='validation')\n",
    "            total_accuracy += accuracy.item()\n",
    "            total_loss += loss.item()\n",
    "            num_batches += 1\n",
    "\n",
    "    avg_accuracy = total_accuracy / num_batches\n",
    "    current_loss = total_loss / num_batches\n",
    "    \n",
    "    add_log_msg(f'Validation Loss: {current_loss:.4f} | Validation Accuracy: {avg_accuracy:.4f}\\n')\n",
    "    \n",
    "            \n",
    "    if current_loss < best_val_loss:\n",
    "        best_val_loss = current_loss\n",
    "        waiting = 0\n",
    "        \n",
    "        if os.path.exists(best_model_path):\n",
    "            os.remove(best_model_path)\n",
    "            add_log_msg(\"Find a better model!!\")\n",
    "\n",
    "        torch.save(model.state_dict(), best_model_path)\n",
    "\n",
    "#         print(best_model_path)\n",
    "\n",
    "    else:\n",
    "        waiting += 1\n",
    "        if waiting >= patience:\n",
    "            add_log_msg(\"============================== Early stopping ==================================\")\n",
    "            break"
   ]
  },
  {
   "cell_type": "markdown",
   "metadata": {},
   "source": [
    "### Testing Loop"
   ]
  },
  {
   "cell_type": "code",
   "execution_count": null,
   "metadata": {},
   "outputs": [],
   "source": [
    "# load the pretrained model\n",
    "model.load_state_dict(torch.load(best_model_path))\n",
    "\n",
    "model.to(device)\n",
    "model.eval()\n",
    "\n",
    "total = 0\n",
    "correct = 0\n",
    "count = 0\n",
    "\n",
    "true_labels = []\n",
    "predicted_labels = []\n",
    "\n",
    "with torch.no_grad():\n",
    "    for batched_g in tqdm(dataloaders['test'], desc=\"Testing\", position=0, leave=True):\n",
    "#         print(f\"data:{data[1]}\")\n",
    "        loss, accuracy, predicted = model_fn(batched_g, model, criterion, device, count, which_type='test')\n",
    "        labels = batched_g.edata['label'].to(device)\n",
    "        \n",
    "        true_labels.extend(labels.cpu().numpy())\n",
    "        predicted_labels.extend(predicted.cpu().numpy())\n",
    "        \n",
    "        # if count % 5000 == 0:\n",
    "        #     add_log_msg(f\"labels: {labels} {labels.shape}\")\n",
    "        #     add_log_msg(f\"predicted: {predicted} {predicted.shape}\")\n",
    "            \n",
    "        count += 1\n",
    "        \n",
    "        total += labels.size(0)\n",
    "        correct += (predicted == labels).sum().item()\n",
    "\n",
    "add_log_msg(f'Test Accuracy: {100 * correct / total} %\\n\\n\\n')"
   ]
  },
  {
   "cell_type": "code",
   "execution_count": 32,
   "metadata": {},
   "outputs": [
    {
     "name": "stderr",
     "output_type": "stream",
     "text": [
      "/workdir/home/euni/.local/lib/python3.6/site-packages/sklearn/metrics/_classification.py:1248: UndefinedMetricWarning: Precision and F-score are ill-defined and being set to 0.0 in labels with no predicted samples. Use `zero_division` parameter to control this behavior.\n",
      "  _warn_prf(average, modifier, msg_start, len(result))\n",
      "/workdir/home/euni/.local/lib/python3.6/site-packages/sklearn/metrics/_classification.py:1248: UndefinedMetricWarning: Precision and F-score are ill-defined and being set to 0.0 in labels with no predicted samples. Use `zero_division` parameter to control this behavior.\n",
      "  _warn_prf(average, modifier, msg_start, len(result))\n",
      "/workdir/home/euni/.local/lib/python3.6/site-packages/sklearn/metrics/_classification.py:1248: UndefinedMetricWarning: Precision and F-score are ill-defined and being set to 0.0 in labels with no predicted samples. Use `zero_division` parameter to control this behavior.\n",
      "  _warn_prf(average, modifier, msg_start, len(result))\n"
     ]
    },
    {
     "name": "stdout",
     "output_type": "stream",
     "text": [
      "01/23/2024, 00:21:29# report path: classification_report/classification_report-transE_50-graphSAGE-0.xlsx\n",
      "01/23/2024, 00:21:29# label path: classification_report/mapped_true_predicted_labels-transE_50-graphSAGE-0.xlsx\n"
     ]
    },
    {
     "name": "stderr",
     "output_type": "stream",
     "text": [
      "/workdir/home/euni/.local/lib/python3.6/site-packages/sklearn/metrics/_classification.py:1248: UndefinedMetricWarning: Precision and F-score are ill-defined and being set to 0.0 in labels with no predicted samples. Use `zero_division` parameter to control this behavior.\n",
      "  _warn_prf(average, modifier, msg_start, len(result))\n",
      "/workdir/home/euni/.local/lib/python3.6/site-packages/sklearn/metrics/_classification.py:1248: UndefinedMetricWarning: Precision and F-score are ill-defined and being set to 0.0 in labels with no predicted samples. Use `zero_division` parameter to control this behavior.\n",
      "  _warn_prf(average, modifier, msg_start, len(result))\n"
     ]
    },
    {
     "name": "stdout",
     "output_type": "stream",
     "text": [
      "01/23/2024, 00:22:01# mapped_report:\n",
      "                                                  precision    recall  f1-score   support\n",
      "\n",
      "                                               O       0.82      0.97      0.89    382725\n",
      "T1003.001_0ef4cc7b-611c-4237-b20b-db36b6906554_B       0.00      0.00      0.00        18\n",
      "T1003.001_0ef4cc7b-611c-4237-b20b-db36b6906554_I       0.00      0.00      0.00      1260\n",
      "    T1003.001_35d92515122effdd73801c6ac3021da7_B       0.00      0.00      0.00        16\n",
      "    T1003.001_35d92515122effdd73801c6ac3021da7_I       0.00      0.00      0.00        80\n",
      "    T1003.002_5a484b65c247675e3b7ada4ba648d376_B       0.00      0.00      0.00        18\n",
      "    T1003.002_5a484b65c247675e3b7ada4ba648d376_I       0.00      0.00      0.00        90\n",
      "    T1003.002_7fa4ea18694f2552547b65e23952cabb_B       0.00      0.00      0.00        21\n",
      "    T1003.002_7fa4ea18694f2552547b65e23952cabb_I       0.00      0.00      0.00        84\n",
      "    T1003.003_9f73269695e54311dd61dc68940fb3e1_B       0.00      0.00      0.00        13\n",
      "    T1003.003_f049b89533298c2d6cd37a940248b219_B       0.00      0.00      0.00        19\n",
      "        T1003_18f31c311ac208802e88ab8d5af8603e_B       0.00      0.00      0.00        23\n",
      "        T1003_18f31c311ac208802e88ab8d5af8603e_I       0.00      0.00      0.00       138\n",
      "    T1005_720a3356-eee1-4015-9135-0fc08f7eb2d5_B       0.00      0.00      0.00        18\n",
      "    T1005_720a3356-eee1-4015-9135-0fc08f7eb2d5_I       0.95      1.00      0.97    253566\n",
      "        T1007_9d03c91bdae5a80f17f89c987942b5a8_B       0.00      0.00      0.00        17\n",
      "        T1007_9d03c91bdae5a80f17f89c987942b5a8_I       0.00      0.00      0.00       102\n",
      "    T1007_c6607391-d02c-44b5-9b13-d3492ca58599_B       0.00      0.00      0.00        24\n",
      "        T1007_d6bb2a19da7246731ed9c44831b135f8_B       0.00      0.00      0.00        18\n",
      "    T1016_14a21534-350f-4d83-9dd7-3c56b93a0c17_B       0.00      0.00      0.00        21\n",
      "        T1016_71b3d2945679566b9d94d8cb11df4b70_B       0.00      0.00      0.00        18\n",
      "        T1016_7d8ee68f0e9731db82964f558f614608_B       0.00      0.00      0.00        20\n",
      "    T1016_921055f4-5970-4707-909e-62f594234d91_B       0.00      0.00      0.00        27\n",
      "    T1016_921055f4-5970-4707-909e-62f594234d91_I       0.00      0.00      0.00        27\n",
      "    T1016_a0676fe1-cd52-482e-8dde-349b73f9aa69_B       0.00      0.00      0.00        20\n",
      "    T1016_e8017c46-acb8-400c-a4b5-b3362b5b5baa_B       0.00      0.00      0.00        20\n",
      "    T1018_26c8b8b5-7b5b-4de1-a128-7d37fb14f517_B       0.00      0.00      0.00        18\n",
      "        T1018_a44bb43474728496276d5d73aa14588f_B       0.00      0.00      0.00        20\n",
      "        T1018_ac20e592bc912bddff4d6b88289095f0_B       0.00      0.00      0.00        10\n",
      "    T1021.001_dd67068b052fa553ad4a0ac7d6a5ea89_B       0.00      0.00      0.00        24\n",
      "    T1021.001_dd67068b052fa553ad4a0ac7d6a5ea89_I       0.00      0.00      0.00       144\n",
      "    T1033_bd527b63-9f9e-46e0-9816-b8434d2b8989_B       0.00      0.00      0.00        20\n",
      "    T1033_c0da588f-79f0-4263-8998-7496b1a40596_B       0.00      0.00      0.00        26\n",
      "    T1036.003_04e8d83e7badf098d50800d6aa1dd487_B       0.00      0.00      0.00        24\n",
      "    T1036.003_04e8d83e7badf098d50800d6aa1dd487_I       0.00      0.00      0.00       507\n",
      "    T1036.003_f5ef8466e5ebcd2ae03f338d9416069c_B       0.00      0.00      0.00        17\n",
      "    T1036.003_f5ef8466e5ebcd2ae03f338d9416069c_I       0.00      0.00      0.00       476\n",
      "    T1036.004_1f0614ea5c4af6faf1b44570f5f22f8a_B       0.00      0.00      0.00        19\n",
      "    T1036.004_7de3d7b4922a7b996d8df36fb22bb118_B       0.00      0.00      0.00        23\n",
      "    T1037.001_62cfa90fb03a6bc1a6ebcce8a3ea81b7_B       0.00      0.00      0.00        21\n",
      "    T1037.001_62cfa90fb03a6bc1a6ebcce8a3ea81b7_I       0.00      0.00      0.00        42\n",
      "        T1040_6881a4589710d53f0c146e91db513f01_B       0.00      0.00      0.00        25\n",
      "        T1040_6881a4589710d53f0c146e91db513f01_I       0.00      0.00      0.00       125\n",
      "    T1046_5a4cb2be-2684-4801-9355-3a90c91e0004_B       0.00      0.00      0.00        20\n",
      "    T1046_5a4cb2be-2684-4801-9355-3a90c91e0004_I       0.00      0.00      0.00     17660\n",
      "        T1047_09e0f9cf2eb803a1c35deeecf3665fad_B       0.00      0.00      0.00        20\n",
      "        T1047_09e0f9cf2eb803a1c35deeecf3665fad_I       0.00      0.00      0.00        19\n",
      "        T1047_6935e41353aa781bb723462d26114c44_B       0.00      0.00      0.00        13\n",
      "        T1047_ac122553ab4426ea3362bb4a97d31bfd_B       0.00      0.00      0.00        20\n",
      "        T1047_ac2764f7a67a9ce92b54e8e59b361838_B       0.00      0.00      0.00        23\n",
      "        T1047_b0255b5120cbabc062d8d4510a142c3b_B       0.00      0.00      0.00        24\n",
      "        T1047_ed736a123da6fb2aab22cfd4f437e8b5_B       0.00      0.00      0.00        14\n",
      "        T1047_f4b0b4129560ea66f9751275e82f6bab_B       0.00      0.00      0.00        25\n",
      "        T1047_f4b0b4129560ea66f9751275e82f6bab_I       0.00      0.00      0.00        25\n",
      "    T1049_638fb6bb-ba39-4285-93d1-7e4775b033a8_B       0.00      0.00      0.00        22\n",
      "        T1049_a14392d713dffba6a397682ff83259a0_B       0.00      0.00      0.00        21\n",
      "    T1053.005_5db2884b6ca3ab932848f295a3896dc0_B       0.00      0.00      0.00        30\n",
      "    T1053.005_ee454be9197890de62705ce6255933fd_B       0.00      0.00      0.00        17\n",
      "T1055.001_a74bc239-a196-4f7e-8d5c-fe8c0266071c_B       0.00      0.00      0.00        21\n",
      "T1055.002_e5bcefee-262d-4568-a261-e8a20855ec81_B       0.00      0.00      0.00        17\n",
      "    T1057_5a39d7ed-45c9-4a79-b581-e5fb99e24f65_B       0.00      0.00      0.00        12\n",
      "    T1057_8adf02e8-6e71-4244-886c-98c402857404_B       0.00      0.00      0.00        23\n",
      "    T1057_8adf02e8-6e71-4244-886c-98c402857404_I       0.00      0.00      0.00       265\n",
      "        T1057_b2a1e430ca6d36eb5af2fe666e769847_B       0.00      0.00      0.00        15\n",
      "        T1057_f8de05d1741dcc468f772ab0ff4dac72_B       0.00      0.00      0.00        24\n",
      "T1059.001_55678719-e76e-4df9-92aa-10655bbd1cf4_B       0.00      0.00      0.00        21\n",
      "T1059.001_55678719-e76e-4df9-92aa-10655bbd1cf4_I       0.00      0.00      0.00       105\n",
      "    T1059.001_6efbccc1869e8cd618c0d3ecda407d5f_B       0.00      0.00      0.00        26\n",
      "    T1059.001_6efbccc1869e8cd618c0d3ecda407d5f_I       0.00      0.00      0.00       416\n",
      "T1059.001_702bfdd2-9947-4eda-b551-c3a1ea9a59a2_B       0.00      0.00      0.00        16\n",
      "T1059.001_702bfdd2-9947-4eda-b551-c3a1ea9a59a2_I       0.00      0.00      0.00        64\n",
      "T1059.001_bfff9006-d1fb-46ce-b173-92cb04e9a031_B       0.00      0.00      0.00        24\n",
      "T1059.001_bfff9006-d1fb-46ce-b173-92cb04e9a031_I       0.00      0.00      0.00       144\n",
      "T1059.001_ccdb8caf-c69e-424b-b930-551969450c57_B       0.00      0.00      0.00        18\n",
      "T1059.001_ccdb8caf-c69e-424b-b930-551969450c57_I       0.00      0.00      0.00       103\n",
      "T1059.001_e5f9de8f-3df1-4e78-ad92-a784e3f6770d_B       0.00      0.00      0.00        17\n",
      "T1059.001_e5f9de8f-3df1-4e78-ad92-a784e3f6770d_I       0.00      0.00      0.00      2788\n",
      "    T1059.003_6c318ef0339d74d909ad556681b6493e_B       0.00      0.00      0.00        10\n",
      "    T1059.003_6c318ef0339d74d909ad556681b6493e_I       0.00      0.00      0.00        80\n",
      "    T1059.003_f38e58deb7ad20b5538ca40db7b7b4f8_B       0.00      0.00      0.00        15\n",
      "    T1059.003_f38e58deb7ad20b5538ca40db7b7b4f8_I       0.00      0.00      0.00        90\n",
      "T1069.001_5c4dd985-89e3-4590-9b57-71fed66ff4e2_B       0.00      0.00      0.00        15\n",
      "T1069.001_5c4dd985-89e3-4590-9b57-71fed66ff4e2_I       0.00      0.00      0.00        60\n",
      "    T1069.001_a1f48fa3ddee658b29b414523c9a295b_B       0.00      0.00      0.00        16\n",
      "    T1069.002_6103e503cb444bc7b4187704f2035708_B       0.00      0.00      0.00        18\n",
      "    T1070.005_1f91076e2be2014cc7b4f1296de02fd6_B       0.00      0.00      0.00        15\n",
      "    T1070.005_1f91076e2be2014cc7b4f1296de02fd6_I       0.00      0.00      0.00        75\n",
      "    T1071.001_24c3b7b004401d839a5c337201da3484_B       0.00      0.00      0.00        23\n",
      "    T1071.001_24c3b7b004401d839a5c337201da3484_I       0.00      0.00      0.00       460\n",
      "T1074.001_4e97e699-93d7-4040-b5a3-2e906a58199e_B       0.00      0.00      0.00        23\n",
      "T1074.001_4e97e699-93d7-4040-b5a3-2e906a58199e_I       0.00      0.00      0.00       207\n",
      "T1074.001_6469befa-748a-4b9c-a96d-f191fde47d89_B       0.00      0.00      0.00        21\n",
      "T1074.001_6469befa-748a-4b9c-a96d-f191fde47d89_I       0.00      0.00      0.00        42\n",
      "    T1074.001_e6dfc7e89359ac6fa6de84b0e1d5762e_B       0.00      0.00      0.00        24\n",
      "    T1074.001_e6dfc7e89359ac6fa6de84b0e1d5762e_I       0.00      0.00      0.00       168\n",
      "    T1078.001_d0ca00832890baa1d42322cf70fcab1a_B       0.00      0.00      0.00        14\n",
      "    T1082_29451844-9b76-4e16-a9ee-d6feab4b24db_B       0.00      0.00      0.00        22\n",
      "    T1083_52177cc1-b9ab-4411-ac21-2eadc4b5d3b8_B       0.00      0.00      0.00        32\n",
      "    T1083_52177cc1-b9ab-4411-ac21-2eadc4b5d3b8_I       0.00      0.00      0.00       640\n",
      "    T1083_6e1a53c0-7352-4899-be35-fa7f364d5722_B       0.00      0.00      0.00        22\n",
      "    T1087.001_6334877e8e3ba48f7835d4856d90a282_B       0.00      0.00      0.00        15\n",
      "    T1087.001_6334877e8e3ba48f7835d4856d90a282_I       0.00      0.00      0.00         1\n",
      "T1087.001_feaced8f-f43f-452a-9500-a5219488abb8_B       0.00      0.00      0.00        31\n",
      "    T1090.001_ba343199a4f15ed6b57eb52412f62e4e_B       0.00      0.00      0.00        23\n",
      "    T1090.001_ba343199a4f15ed6b57eb52412f62e4e_I       0.00      0.00      0.00        23\n",
      "        T1105_0856c235a1d26113d4f2d92e39c9a9f8_B       0.00      0.00      0.00        19\n",
      "        T1105_0856c235a1d26113d4f2d92e39c9a9f8_I       0.00      0.00      0.00       114\n",
      "        T1105_1095434782a00c8a4772a11e625bcf5d_B       0.00      0.00      0.00        15\n",
      "        T1105_1095434782a00c8a4772a11e625bcf5d_I       0.00      0.00      0.00        45\n",
      "        T1105_4f683658f161ccdc51337c470d32bab9_B       0.00      0.00      0.00        27\n",
      "        T1105_4f683658f161ccdc51337c470d32bab9_I       0.00      0.00      0.00       235\n",
      "    T1105_60f63260-39bb-4136-87a0-b6c2dca799fc_B       0.00      0.00      0.00        17\n",
      "    T1105_60f63260-39bb-4136-87a0-b6c2dca799fc_I       0.00      0.00      0.00       493\n",
      "        T1105_c521e0a70b243a0cf9217907ca3c6d27_B       0.00      0.00      0.00        19\n",
      "        T1105_c521e0a70b243a0cf9217907ca3c6d27_I       0.00      0.00      0.00       348\n",
      "        T1105_c76968acda4aa1673dadcd67f3ab7664_B       0.00      0.00      0.00        27\n",
      "        T1105_c76968acda4aa1673dadcd67f3ab7664_I       0.00      0.00      0.00       451\n",
      "        T1105_e6715e61f5df646692c624b3499384c4_B       0.00      0.00      0.00        18\n",
      "        T1105_e6715e61f5df646692c624b3499384c4_I       0.00      0.00      0.00      1026\n",
      "    T1105_eb814e03-811a-467a-bc6d-dcd453750fa2_B       0.00      0.00      0.00        17\n",
      "    T1105_eb814e03-811a-467a-bc6d-dcd453750fa2_I       0.00      0.00      0.00      2484\n",
      "        T1112_257313a3c93e3bb7dfb60d6753b09e34_B       0.00      0.00      0.00        23\n",
      "        T1112_257313a3c93e3bb7dfb60d6753b09e34_I       0.00      0.00      0.00        46\n",
      "        T1112_34041639e6e501856ecaf5969ee29c76_B       0.00      0.00      0.00        15\n",
      "        T1112_34041639e6e501856ecaf5969ee29c76_I       0.00      0.00      0.00        30\n",
      "        T1112_35c0360d226cf38104f300d9d57ce60e_B       0.00      0.00      0.00        22\n",
      "        T1112_35c0360d226cf38104f300d9d57ce60e_I       0.00      0.00      0.00        44\n",
      "        T1112_4bfb5f265a5ce07af6bf10da113af7db_B       0.00      0.00      0.00        22\n",
      "        T1112_4bfb5f265a5ce07af6bf10da113af7db_I       0.00      0.00      0.00        44\n",
      "        T1112_7fe6a66d03f4dbfc022609ba311c2b11_B       0.00      0.00      0.00        25\n",
      "        T1112_7fe6a66d03f4dbfc022609ba311c2b11_I       0.00      0.00      0.00        49\n",
      "        T1112_ba6f6214dbd17c54001e0a163b60f151_B       0.00      0.00      0.00        19\n",
      "        T1112_ba6f6214dbd17c54001e0a163b60f151_I       0.00      0.00      0.00        38\n",
      "        T1112_cab7b85611a290c0769546bfa9d6f962_B       0.00      0.00      0.00        19\n",
      "        T1112_cab7b85611a290c0769546bfa9d6f962_I       0.00      0.00      0.00        38\n",
      "        T1112_cd8be0e6b873919da25530a2c7ea6750_B       0.00      0.00      0.00        23\n",
      "        T1112_cd8be0e6b873919da25530a2c7ea6750_I       0.00      0.00      0.00        46\n",
      "        T1112_e74d2fb4ef5fa6c766a4151554033697_B       0.00      0.00      0.00        18\n",
      "        T1112_e74d2fb4ef5fa6c766a4151554033697_I       0.00      0.00      0.00        36\n",
      "        T1112_e7a987cbef27263e666e5b096488dc55_B       0.00      0.00      0.00        21\n",
      "        T1112_e7a987cbef27263e666e5b096488dc55_I       0.00      0.00      0.00        42\n",
      "        T1112_fa4ba6a06b4a5cd955ea5a60fae24281_B       0.00      0.00      0.00        14\n",
      "        T1112_fa4ba6a06b4a5cd955ea5a60fae24281_I       0.00      0.00      0.00        28\n",
      "        T1112_fd992e8ecfdac9b56dd6868904044827_B       0.00      0.00      0.00        28\n",
      "        T1112_fd992e8ecfdac9b56dd6868904044827_I       0.00      0.00      0.00        56\n",
      "    T1113_316251ed-6a28-4013-812b-ddf5b5b007f8_B       0.00      0.00      0.00        19\n",
      "    T1113_316251ed-6a28-4013-812b-ddf5b5b007f8_I       0.00      0.00      0.00        95\n",
      "        T1115_70795de7cbb842edb029b3378c27c008_B       0.00      0.00      0.00        24\n",
      "        T1115_70795de7cbb842edb029b3378c27c008_I       0.00      0.00      0.00       384\n",
      "    T1115_b007fe0c-c6b0-4fda-915c-255bbc070de2_B       0.00      0.00      0.00        21\n",
      "        T1119_344e7eaf650763e0d3e9f02e62c1cf4b_B       0.00      0.00      0.00        23\n",
      "        T1119_344e7eaf650763e0d3e9f02e62c1cf4b_I       0.00      0.00      0.00        89\n",
      "        T1119_7121cdf93b951311be9d7078c602efdc_B       0.00      0.00      0.00        21\n",
      "        T1119_7121cdf93b951311be9d7078c602efdc_I       0.00      0.00      0.00       399\n",
      "        T1120_7b9c7afaefa59aab759b49af0d699ac1_B       0.00      0.00      0.00        21\n",
      "        T1120_7b9c7afaefa59aab759b49af0d699ac1_I       0.00      0.00      0.00       126\n",
      "        T1123_372e6f46fca18e4f1b43209c20ffafa2_B       0.00      0.00      0.00        23\n",
      "        T1123_372e6f46fca18e4f1b43209c20ffafa2_I       0.00      0.00      0.00       138\n",
      "    T1124_fa6e8607-e0b1-425d-8924-9b894da5a002_B       0.00      0.00      0.00        32\n",
      "        T1125_da86001b5081fcf773d8e62f22cf2b00_B       0.00      0.00      0.00        15\n",
      "        T1125_da86001b5081fcf773d8e62f22cf2b00_I       0.00      0.00      0.00        85\n",
      "    T1135_530e47c6-8592-42bf-91df-c59ffbd8541b_B       0.00      0.00      0.00        18\n",
      "    T1135_deeac480-5c2a-42b5-90bb-41675ee53c7e_B       0.00      0.00      0.00        26\n",
      "    T1137.002_e2af3c3ab1b0f659c874b8af58c49759_B       0.00      0.00      0.00        13\n",
      "    T1137.002_e2af3c3ab1b0f659c874b8af58c49759_I       0.00      0.00      0.00        65\n",
      "        T1137_12ad9edefc86af07700fbf49bfdac6ba_B       0.00      0.00      0.00        15\n",
      "        T1137_12ad9edefc86af07700fbf49bfdac6ba_I       0.00      0.00      0.00       180\n",
      "        T1201_38f6f0e50a6b196140ec40d3dc9cc9e6_B       0.00      0.00      0.00        26\n",
      "        T1201_57296a2ddbeb7423c05feef2fe972111_B       0.00      0.00      0.00        23\n",
      "    T1204.002_522f3f35cd013e63830fa555495a0081_B       0.00      0.00      0.00        16\n",
      "    T1204.002_522f3f35cd013e63830fa555495a0081_I       0.00      0.00      0.00       160\n",
      "        T1217_69bbe2183fa09c00ccaac62d48e214f8_B       0.00      0.00      0.00        17\n",
      "        T1217_69bbe2183fa09c00ccaac62d48e214f8_I       0.00      0.00      0.00        68\n",
      "        T1217_f7a0f7d704aa52a764d9d1bee81e65d6_B       0.00      0.00      0.00        18\n",
      "        T1219_7dabcbecab0334b115feefab1630f84a_B       0.00      0.00      0.00        19\n",
      "        T1219_7dabcbecab0334b115feefab1630f84a_I       0.00      0.00      0.00      1881\n",
      "        T1219_af8cb2bf9b436aae5c106a0a9c207e14_B       0.00      0.00      0.00        22\n",
      "        T1219_af8cb2bf9b436aae5c106a0a9c207e14_I       0.00      0.00      0.00      4004\n",
      "        T1219_f1b3fca18d7465cd10e5a7477a3bf97d_B       0.00      0.00      0.00        30\n",
      "        T1219_f1b3fca18d7465cd10e5a7477a3bf97d_I       0.00      0.00      0.00      3010\n",
      "    T1482_6131397e-7765-424e-a594-3d7fb2d93a6a_B       0.00      0.00      0.00        15\n",
      "    T1482_6131397e-7765-424e-a594-3d7fb2d93a6a_I       0.00      0.00      0.00        75\n",
      "        T1482_cfb61005899996469ae3023796792ca5_B       0.00      0.00      0.00        14\n",
      "        T1486_d82ceb9939d3d920ee550187ad8235c8_B       0.00      0.00      0.00        16\n",
      "        T1486_d82ceb9939d3d920ee550187ad8235c8_I       0.00      0.00      0.00        64\n",
      "        T1490_2d53d6fabd39bf9c70b0dfcdfbbc926d_B       0.00      0.00      0.00        18\n",
      "        T1490_8467c994685ccf178db166964bd80fab_B       0.00      0.00      0.00        17\n",
      "        T1490_9e5e4c0655fd1b5be88bd40b8251175f_B       0.00      0.00      0.00        28\n",
      "        T1490_c156ac5c9fa67080365268d95f29053d_B       0.00      0.00      0.00        12\n",
      "        T1490_c8f329d2847ede593b6cb4a1ec6120fb_B       0.00      0.00      0.00        17\n",
      "        T1490_c8f329d2847ede593b6cb4a1ec6120fb_I       0.00      0.00      0.00        83\n",
      "        T1490_e90756bb6dcd21462dc4cc452661df91_B       0.00      0.00      0.00        20\n",
      "    T1491_47d08617-5ce1-424a-8cc5-c9c978ce6bf9_B       0.00      0.00      0.00        18\n",
      "    T1491_47d08617-5ce1-424a-8cc5-c9c978ce6bf9_I       0.00      0.00      0.00        90\n",
      "    T1491_68235976-2404-42a8-9105-68230cfef562_B       0.00      0.00      0.00        21\n",
      "    T1491_68235976-2404-42a8-9105-68230cfef562_I       0.00      0.00      0.00       186\n",
      "    T1496_46da2385-cf37-49cb-ba4b-a739c7a19de4_B       0.00      0.00      0.00        22\n",
      "    T1496_46da2385-cf37-49cb-ba4b-a739c7a19de4_I       0.00      0.00      0.00      1882\n",
      "T1497.001_1258b063-27d6-489b-a677-4807faacf868_B       0.00      0.00      0.00        20\n",
      "T1497.001_5dc841fd-28ad-40e2-b10e-fb007fe09e81_B       0.00      0.00      0.00        29\n",
      "T1497.001_7a6ba833-de40-466a-8969-5c37b13603e0_B       0.00      0.00      0.00        24\n",
      "    T1499_2fe2d5e6-7b06-4fc0-bf71-6966a1226731_B       0.00      0.00      0.00        17\n",
      "T1518.001_2dece965-37a0-4f70-a391-0f30e3331aba_B       0.00      0.00      0.00        14\n",
      "    T1518.001_33a24ff44719e6ac0614b58f8c9a7c72_B       0.00      0.00      0.00        13\n",
      "    T1518.001_b8453a5fe06b24aea12b27592d5c3d3a_B       0.00      0.00      0.00        18\n",
      "        T1518_8ddfaf982ab359cda13626b870ccb339_B       0.00      0.00      0.00        22\n",
      "        T1518_8ddfaf982ab359cda13626b870ccb339_I       0.00      0.00      0.00        44\n",
      "    T1518_c9be8043-a445-4cbf-b77b-ed7bb007fc7c_B       0.00      0.00      0.00        18\n",
      "    T1518_c9be8043-a445-4cbf-b77b-ed7bb007fc7c_I       0.00      0.00      0.00        36\n",
      "        T1531_aa6b15485a5f50ced34d87fda177b758_B       0.00      0.00      0.00        18\n",
      "        T1531_b25ae80dad74142fafb510e9c1949ace_B       0.00      0.00      0.00        20\n",
      "    T1546.013_f9a968af61d36983448c74cca5464e17_B       0.00      0.00      0.00        18\n",
      "    T1546.013_f9a968af61d36983448c74cca5464e17_I       0.00      0.00      0.00       270\n",
      "    T1547.001_0dbdf1a2a87e718a6ac8a8e3415a7fac_B       0.00      0.00      0.00        22\n",
      "    T1547.001_0dbdf1a2a87e718a6ac8a8e3415a7fac_I       0.00      0.00      0.00       132\n",
      "    T1547.001_163b023f43aba758d36f524d146cb8ea_B       0.00      0.00      0.00        20\n",
      "    T1547.001_163b023f43aba758d36f524d146cb8ea_I       0.00      0.00      0.00        80\n",
      "    T1547.001_1f15ab22c39a9b6bb2bb0d77276dfcb3_B       0.00      0.00      0.00        21\n",
      "    T1547.001_1f15ab22c39a9b6bb2bb0d77276dfcb3_I       0.00      0.00      0.00        63\n",
      "    T1547.001_4b71ebb2f6f6a01235ba240fa40ce978_B       0.00      0.00      0.00        19\n",
      "    T1547.001_4b71ebb2f6f6a01235ba240fa40ce978_I       0.00      0.00      0.00        57\n",
      "    T1547.001_777043894e42d2aae3881e63f6c76d33_B       0.00      0.00      0.00        20\n",
      "    T1547.001_777043894e42d2aae3881e63f6c76d33_I       0.00      0.00      0.00        60\n",
      "    T1547.001_d3ef4145e4144fd694514b1c5cc17350_B       0.00      0.00      0.00        15\n",
      "    T1547.001_d3ef4145e4144fd694514b1c5cc17350_I       0.00      0.00      0.00        60\n",
      "    T1547.004_0856714c9810ac55b53e9964d02958a0_B       0.00      0.00      0.00        24\n",
      "    T1547.004_0856714c9810ac55b53e9964d02958a0_I       0.00      0.00      0.00        72\n",
      "    T1547.004_aa147165f6c116cb0b0f944abe1db8ce_B       0.00      0.00      0.00        13\n",
      "    T1547.004_aa147165f6c116cb0b0f944abe1db8ce_I       0.00      0.00      0.00        39\n",
      "    T1547.009_501af516bd8b24fee0c7c650ae5cc861_B       0.00      0.00      0.00        24\n",
      "    T1547.009_501af516bd8b24fee0c7c650ae5cc861_I       0.00      0.00      0.00       216\n",
      "    T1547.009_b6e5c895c6709fe289352ee23f062229_B       0.00      0.00      0.00        23\n",
      "    T1547.009_b6e5c895c6709fe289352ee23f062229_I       0.00      0.00      0.00       161\n",
      "    T1547.010_4593d72a5145e3f494421ac772d37464_B       0.00      0.00      0.00        22\n",
      "    T1547.010_4593d72a5145e3f494421ac772d37464_I       0.00      0.00      0.00       110\n",
      "        T1547_fe9eeee9a7b339089e5fa634b08522c1_B       0.00      0.00      0.00        18\n",
      "        T1547_fe9eeee9a7b339089e5fa634b08522c1_I       0.00      0.00      0.00       380\n",
      "T1548.002_665432a4-42e7-4ee1-af19-a9a8c9455d0c_B       0.00      0.00      0.00        25\n",
      "T1548.002_665432a4-42e7-4ee1-af19-a9a8c9455d0c_I       0.00      0.00      0.00        75\n",
      "    T1552.002_3e5b04b8ee0a1a4950da8f35d95e65fc_B       0.00      0.00      0.00        21\n",
      "        T1560_a1ee301b0508747b468d578a14e5c1a5_B       0.00      0.00      0.00        23\n",
      "        T1560_a1ee301b0508747b468d578a14e5c1a5_I       0.00      0.00      0.00     31382\n",
      "    T1562.001_43e3334362b140924f001b256b229ee5_B       0.00      0.00      0.00        29\n",
      "    T1562.001_43e3334362b140924f001b256b229ee5_I       0.00      0.00      0.00        85\n",
      "    T1562.002_6a8d25d65a7d481dc479f89c62af1e6a_B       0.00      0.00      0.00        16\n",
      "    T1562.002_6a8d25d65a7d481dc479f89c62af1e6a_I       0.00      0.00      0.00        24\n",
      "    T1562.002_94f51bf01a7036fe02d07b4c18967669_B       0.00      0.00      0.00        19\n",
      "    T1562.002_94f51bf01a7036fe02d07b4c18967669_I       0.00      0.00      0.00        19\n",
      "    T1562.004_280003641a5cddf916c4f2bf605a71d3_B       0.00      0.00      0.00        11\n",
      "    T1562.004_41627f71f968225b9f162cb76d16bd9d_B       0.00      0.00      0.00        24\n",
      "    T1562.004_41627f71f968225b9f162cb76d16bd9d_I       0.00      0.00      0.00       240\n",
      "    T1562.004_5b93df032e230056c21a3e57334f77d1_B       0.00      0.00      0.00        23\n",
      "    T1562.004_5b93df032e230056c21a3e57334f77d1_I       0.00      0.00      0.00        23\n",
      "    T1562.004_8d0a4585e7c4646185a912b14cd9cb46_B       0.00      0.00      0.00        28\n",
      "    T1562.004_8d0a4585e7c4646185a912b14cd9cb46_I       0.00      0.00      0.00        28\n",
      "    T1562.004_8fe59e288f10a486dc8b44bc872019ff_B       0.00      0.00      0.00        23\n",
      "    T1562.004_8fe59e288f10a486dc8b44bc872019ff_I       0.00      0.00      0.00        46\n",
      "    T1564.001_66a5fd5f244819181f074dd082a28905_B       0.00      0.00      0.00        25\n",
      "    T1564.001_66a5fd5f244819181f074dd082a28905_I       0.00      0.00      0.00       100\n",
      "    T1564.001_dce51e632abdfe5392c7c1f942ac9273_B       0.00      0.00      0.00        17\n",
      "    T1564.001_dce51e632abdfe5392c7c1f942ac9273_I       0.00      0.00      0.00        68\n",
      "    T1564.003_9a2edad4053a2b59fb9167a9bc29e7dc_B       0.00      0.00      0.00        18\n",
      "    T1564.003_9a2edad4053a2b59fb9167a9bc29e7dc_I       0.00      0.00      0.00        36\n",
      "    T1564.004_28862487a99f5f89bc0d68c87396c7e9_B       0.00      0.00      0.00        24\n",
      "    T1564.004_28862487a99f5f89bc0d68c87396c7e9_I       0.00      0.00      0.00        93\n",
      "    T1564.004_76b6066fe170d38215251102e42be973_B       0.00      0.00      0.00        17\n",
      "    T1564.004_76b6066fe170d38215251102e42be973_I       0.00      0.00      0.00        68\n",
      "        T1564_dedfa0a54c9c13ce5714a0dc2e1f5d1a_B       0.00      0.00      0.00        17\n",
      "    T1566.001_1afaec09315ab71fdfb167175e8a019a_B       0.00      0.00      0.00        24\n",
      "    T1566.001_1afaec09315ab71fdfb167175e8a019a_I       0.00      0.00      0.00       192\n",
      "    T1574.001_63bbedafba2f541552ac3579e9e3737b_B       0.00      0.00      0.00        21\n",
      "    T1574.001_63bbedafba2f541552ac3579e9e3737b_I       0.00      0.00      0.00      1323\n",
      "    T1574.011_72249c1e9ffe7d8f30243d838e0791ca_B       0.00      0.00      0.00        17\n",
      "    T1574.011_72249c1e9ffe7d8f30243d838e0791ca_I       0.00      0.00      0.00        85\n",
      "\n",
      "                                        accuracy                           0.87    720587\n",
      "                                       macro avg       0.01      0.01      0.01    720587\n",
      "                                    weighted avg       0.77      0.87      0.81    720587\n",
      "\n"
     ]
    },
    {
     "name": "stderr",
     "output_type": "stream",
     "text": [
      "/workdir/home/euni/.local/lib/python3.6/site-packages/sklearn/metrics/_classification.py:1248: UndefinedMetricWarning: Precision and F-score are ill-defined and being set to 0.0 in labels with no predicted samples. Use `zero_division` parameter to control this behavior.\n",
      "  _warn_prf(average, modifier, msg_start, len(result))\n"
     ]
    }
   ],
   "source": [
    "mapping_file = '../../data/label2id.txt'\n",
    "label_mapping = {}\n",
    "with open(mapping_file, 'r') as f:\n",
    "    next(f)\n",
    "    for line in f:\n",
    "        parts = line.strip().split(' ')\n",
    "        label_mapping[int(parts[1])] = parts[0]\n",
    "        \n",
    "mapped_true_labels = [label_mapping[label] for label in true_labels]\n",
    "mapped_predicted_labels = [label_mapping[label] for label in predicted_labels]\n",
    "\n",
    "report_data = classification_report(mapped_true_labels, mapped_predicted_labels, output_dict=True)\n",
    "report_df = pd.DataFrame(report_data).transpose()\n",
    "\n",
    "\n",
    "report_folder = 'classification_report'\n",
    "os.makedirs(report_folder, exist_ok=True)\n",
    "\n",
    "count = 0\n",
    "while True:\n",
    "    report_filename = f'classification_report-transE_50-graphSAGE-{count}.xlsx'\n",
    "    labels_filename = f'mapped_true_predicted_labels-transE_50-graphSAGE-{count}.xlsx'\n",
    "    \n",
    "    report_path = os.path.join(report_folder, report_filename)\n",
    "    labels_path = os.path.join(report_folder, labels_filename)\n",
    "    \n",
    "    if not os.path.exists(report_path) and not os.path.exists(labels_path):\n",
    "        break\n",
    "    count += 1\n",
    "\n",
    "    \n",
    "report_df.to_excel(report_path, index_label='Label')\n",
    "\n",
    "mapped_labels_df = pd.DataFrame({'true_label': mapped_true_labels, 'predicted_label': mapped_predicted_labels})\n",
    "mapped_labels_df.to_excel(labels_path, index=False)\n",
    "\n",
    "add_log_msg(f\"report path: {report_path}\")\n",
    "add_log_msg(f\"label path: {labels_path}\")\n",
    "\n",
    "mapped_report = classification_report(mapped_true_labels, mapped_predicted_labels)\n",
    "add_log_msg(f\"mapped_report:\\n{mapped_report}\")"
   ]
  },
  {
   "cell_type": "code",
   "execution_count": null,
   "metadata": {},
   "outputs": [],
   "source": []
  },
  {
   "cell_type": "code",
   "execution_count": null,
   "metadata": {},
   "outputs": [],
   "source": []
  },
  {
   "cell_type": "markdown",
   "metadata": {},
   "source": [
    "### Training"
   ]
  },
  {
   "cell_type": "markdown",
   "metadata": {},
   "source": [
    "- Fix the seed and save the model.state_dict that contains the initial weight"
   ]
  },
  {
   "cell_type": "code",
   "execution_count": 68,
   "metadata": {},
   "outputs": [],
   "source": [
    "seed = 8787\n",
    "same_seeds(seed)\n",
    "\n",
    "model = Model(in_features=50, hidden_features=64, out_features=128, num_classes=167)\n",
    "torch.save(model.state_dict(), 'model3_initial(graphsage)/initial_weight.pth')"
   ]
  },
  {
   "cell_type": "code",
   "execution_count": 69,
   "metadata": {},
   "outputs": [
    {
     "data": {
      "text/plain": [
       "Parameter containing:\n",
       "tensor([[ 0.0181, -0.0857,  0.1973,  ...,  0.2417,  0.2702, -0.3041],\n",
       "        [-0.0768, -0.2723, -0.2001,  ...,  0.2989, -0.1387, -0.1940],\n",
       "        [ 0.2582, -0.0822,  0.3086,  ..., -0.0257, -0.1119, -0.0335],\n",
       "        ...,\n",
       "        [ 0.2274, -0.0411, -0.0334,  ..., -0.1679,  0.2455,  0.2424],\n",
       "        [ 0.1375,  0.2813,  0.0775,  ...,  0.1337,  0.2065,  0.2618],\n",
       "        [-0.0951,  0.1010, -0.2586,  ..., -0.1242, -0.0631,  0.0924]],\n",
       "       requires_grad=True)"
      ]
     },
     "execution_count": 69,
     "metadata": {},
     "output_type": "execute_result"
    }
   ],
   "source": [
    "# model.layer1.fc_self.weight\n",
    "model.sage.layer1.fc_self.weight"
   ]
  },
  {
   "cell_type": "markdown",
   "metadata": {},
   "source": [
    "- Check if model really load the model_dict"
   ]
  },
  {
   "cell_type": "code",
   "execution_count": 70,
   "metadata": {},
   "outputs": [
    {
     "data": {
      "text/plain": [
       "Parameter containing:\n",
       "tensor([[ 0.0181, -0.0857,  0.1973,  ...,  0.2417,  0.2702, -0.3041],\n",
       "        [-0.0768, -0.2723, -0.2001,  ...,  0.2989, -0.1387, -0.1940],\n",
       "        [ 0.2582, -0.0822,  0.3086,  ..., -0.0257, -0.1119, -0.0335],\n",
       "        ...,\n",
       "        [ 0.2274, -0.0411, -0.0334,  ..., -0.1679,  0.2455,  0.2424],\n",
       "        [ 0.1375,  0.2813,  0.0775,  ...,  0.1337,  0.2065,  0.2618],\n",
       "        [-0.0951,  0.1010, -0.2586,  ..., -0.1242, -0.0631,  0.0924]],\n",
       "       requires_grad=True)"
      ]
     },
     "execution_count": 70,
     "metadata": {},
     "output_type": "execute_result"
    }
   ],
   "source": [
    "model = Model(in_features=50, hidden_features=64, out_features=128, num_classes=167)\n",
    "model.load_state_dict(torch.load('model3_initial(graphsage)/initial_weight.pth'))\n",
    "model.sage.layer1.fc_self.weight"
   ]
  },
  {
   "cell_type": "markdown",
   "metadata": {},
   "source": [
    "- For release the GPU memory\n",
    "    - no need to restart the kernel"
   ]
  },
  {
   "cell_type": "code",
   "execution_count": 53,
   "metadata": {},
   "outputs": [],
   "source": [
    "# For release the GPU memory\n",
    "# No need to restart the kernel\n",
    "\n",
    "import gc\n",
    "gc.collect()\n",
    "torch.cuda.empty_cache()"
   ]
  },
  {
   "cell_type": "code",
   "execution_count": null,
   "metadata": {
    "scrolled": true
   },
   "outputs": [
    {
     "data": {
      "application/vnd.jupyter.widget-view+json": {
       "model_id": "d223a1c0d7c148d1a14ad4b507bf91d2",
       "version_major": 2,
       "version_minor": 0
      },
      "text/plain": [
       "  0%|          | 0/200 [00:00<?, ?it/s]"
      ]
     },
     "metadata": {},
     "output_type": "display_data"
    },
    {
     "data": {
      "application/vnd.jupyter.widget-view+json": {
       "model_id": "b8384bd837fa419e90d7d0239fa3cd47",
       "version_major": 2,
       "version_minor": 0
      },
      "text/plain": [
       "Training:   0%|          | 0/107 [00:00<?, ?it/s]"
      ]
     },
     "metadata": {},
     "output_type": "display_data"
    },
    {
     "name": "stdout",
     "output_type": "stream",
     "text": [
      "01/22/2024, 22:14:51# total batches: 107\n",
      "01/22/2024, 22:14:51# Epoch 0 | Train Loss: 5.5592 | Train Accuracy: 0.0219\n"
     ]
    },
    {
     "data": {
      "application/vnd.jupyter.widget-view+json": {
       "model_id": "990a29af3fd241baa0bb97a7c7bee6ff",
       "version_major": 2,
       "version_minor": 0
      },
      "text/plain": [
       "Validation:   0%|          | 0/14 [00:00<?, ?it/s]"
      ]
     },
     "metadata": {},
     "output_type": "display_data"
    },
    {
     "name": "stdout",
     "output_type": "stream",
     "text": [
      "01/22/2024, 22:14:55# Validation Loss: 5.4924 | Validation Accuracy: 0.3148\n",
      "\n",
      "01/22/2024, 22:14:55# Find a better model!!\n"
     ]
    },
    {
     "data": {
      "application/vnd.jupyter.widget-view+json": {
       "model_id": "afaf46a1772c4cc18f888ce720f12d6d",
       "version_major": 2,
       "version_minor": 0
      },
      "text/plain": [
       "Training:   0%|          | 0/107 [00:00<?, ?it/s]"
      ]
     },
     "metadata": {},
     "output_type": "display_data"
    }
   ],
   "source": [
    "import csv\n",
    "import pandas as pd\n",
    "from sklearn.metrics import classification_report\n",
    "from torch.optim import AdamW, lr_scheduler\n",
    "\n",
    "seed = 8787\n",
    "same_seeds(seed)\n",
    "\n",
    "# model = GraphSAGE(in_dim=50, hidden_dim=16, out_dim=167)\n",
    "model = Model(in_features=50, hidden_features=64, out_features=128, num_classes=274)\n",
    "# in_dim means the dimension of the node_feat(50 dim, since the 50-dim embedding)\n",
    "# out_dim means the # of the categories -> 168 for out tasks\n",
    "# model.load_state_dict(torch.load('model3_initial(graphsage)/initial_weight.pth'))\n",
    "best_model_path = \"./checkpoint_graphSAGE/best_model_GraphSAGE_transE_50.pt\"\n",
    "\n",
    "model = model.to(device)\n",
    "\n",
    "# optimizer = torch.optim.AdamW(model.parameters(), lr=1e-5)\n",
    "optimizer = AdamW(model.parameters(), lr=1e-5)\n",
    "# scheduler = get_linear_schedule_with_warmup(optimizer, num_warmup_steps=18, num_training_steps=total_steps)\n",
    "\n",
    "# T_max control the period of the lr changing -> set 1/10 first\n",
    "scheduler = lr_scheduler.CosineAnnealingLR(optimizer, T_max=36, eta_min=0, last_epoch=- 1, verbose=False)\n",
    "\n",
    "criterion = nn.CrossEntropyLoss()\n",
    "# criterion = torch.nn.BCEWithLogitsLoss()\n",
    "\n",
    "total_steps = 200\n",
    "\n",
    "# save the best model\n",
    "best_val_loss = float('inf')\n",
    "patience = 10  # Number of epochs with no improvement after which training will be stopped.\n",
    "waiting = 0  # The number of epochs with no improvement so far.\n",
    "\n",
    "\n",
    "# Training Part\n",
    "for epoch in tqdm(range(total_steps)):\n",
    "    # Train\n",
    "    model.train()\n",
    "    total_loss = 0.0\n",
    "    total_accuracy = 0.0\n",
    "    num_batches = 0\n",
    "    \n",
    "    for batched_g in tqdm(dataloaders['train'], desc=\"Training\", position=0, leave=True):\n",
    "        num_batches += 1\n",
    "        loss, accuracy, _ = model_fn(batched_g, model, criterion, device, num_batches, which_type='train')\n",
    "        \n",
    "        optimizer.zero_grad()\n",
    "        loss.backward()\n",
    "        optimizer.step()\n",
    "\n",
    "        total_loss += loss.item()\n",
    "        total_accuracy += accuracy.item()\n",
    "\n",
    "    scheduler.step()\n",
    "    add_log_msg(f\"total batches: {num_batches}\")\n",
    "\n",
    "    avg_loss = total_loss / num_batches\n",
    "    avg_accuracy = total_accuracy / num_batches\n",
    "\n",
    "    add_log_msg(f'Epoch {epoch} | Train Loss: {avg_loss:.4f} | Train Accuracy: {avg_accuracy:.4f}')\n",
    "\n",
    "    \n",
    "    # Validation Part\n",
    "    model.eval()\n",
    "    total_accuracy = 0.0\n",
    "    total_loss = 0.0\n",
    "    num_batches = 0\n",
    "\n",
    "\n",
    "    with torch.no_grad():\n",
    "        for batched_g in tqdm(dataloaders['valid'], desc=\"Validation\", position=0, leave=True):\n",
    "            loss, accuracy, _ = model_fn(batched_g, model, criterion, device, num_batches, which_type='validation')\n",
    "            total_accuracy += accuracy.item()\n",
    "            total_loss += loss.item()\n",
    "            num_batches += 1\n",
    "\n",
    "    avg_accuracy = total_accuracy / num_batches\n",
    "    current_loss = total_loss / num_batches\n",
    "    \n",
    "    add_log_msg(f'Validation Loss: {current_loss:.4f} | Validation Accuracy: {avg_accuracy:.4f}\\n')\n",
    "    \n",
    "            \n",
    "    if current_loss < best_val_loss:\n",
    "        best_val_loss = current_loss\n",
    "        waiting = 0\n",
    "        \n",
    "        if os.path.exists(best_model_path):\n",
    "            os.remove(best_model_path)\n",
    "            add_log_msg(\"Find a better model!!\")\n",
    "\n",
    "        torch.save(model.state_dict(), best_model_path)\n",
    "\n",
    "#         print(best_model_path)\n",
    "\n",
    "    else:\n",
    "        waiting += 1\n",
    "        if waiting >= patience:\n",
    "            add_log_msg(\"============================== Early stopping ==================================\")\n",
    "            break"
   ]
  },
  {
   "cell_type": "markdown",
   "metadata": {},
   "source": [
    "### test of valid and test part is ``graph``"
   ]
  },
  {
   "cell_type": "markdown",
   "metadata": {},
   "source": [
    "- 60 APs in training x 10000times\n",
    "- 5 APs in validation x 4 times\n",
    "- 3 APs in test x 4 times\n",
    "- Batch size = 4"
   ]
  },
  {
   "cell_type": "code",
   "execution_count": null,
   "metadata": {
    "scrolled": true
   },
   "outputs": [],
   "source": [
    "# load the pretrained model\n",
    "# best_model_path = \"./checkpoint_graphSAGE/best_model_GraphSAGE_transE_50.pt\"\n",
    "model.load_state_dict(torch.load(best_model_path))\n",
    "\n",
    "model.to(device)\n",
    "model.eval()\n",
    "\n",
    "total = 0\n",
    "correct = 0\n",
    "count = 0\n",
    "\n",
    "true_labels = []\n",
    "predicted_labels = []\n",
    "\n",
    "with torch.no_grad():\n",
    "    for batched_g in tqdm(dataloaders['test'], desc=\"Testing\", position=0, leave=True):\n",
    "#         print(f\"data:{data[1]}\")\n",
    "        loss, accuracy, predicted = model_fn(batched_g, model, criterion, device, count, which_type='test')\n",
    "        labels = batched_g.edata['label'].to(device)\n",
    "        \n",
    "        true_labels.extend(labels.cpu().numpy())\n",
    "        predicted_labels.extend(predicted.cpu().numpy())\n",
    "        \n",
    "        if count % 5000 == 0:\n",
    "            add_log_msg(f\"labels: {labels} {labels.shape}\")\n",
    "            add_log_msg(f\"predicted: {predicted} {predicted.shape}\")\n",
    "            \n",
    "        count += 1\n",
    "        \n",
    "        total += labels.size(0)\n",
    "        correct += (predicted == labels).sum().item()\n",
    "\n",
    "add_log_msg(f'Test Accuracy: {100 * correct / total} %\\n\\n\\n')"
   ]
  },
  {
   "cell_type": "markdown",
   "metadata": {},
   "source": [
    "- for mapping the labels and show the result"
   ]
  },
  {
   "cell_type": "code",
   "execution_count": null,
   "metadata": {},
   "outputs": [],
   "source": [
    "mapping_file = '../data/label2id.txt'\n",
    "label_mapping = {}\n",
    "with open(mapping_file, 'r') as f:\n",
    "    next(f)\n",
    "    for line in f:\n",
    "        parts = line.strip().split(' ')\n",
    "        label_mapping[int(parts[1])] = parts[0]\n",
    "        \n",
    "# 将映射后的标签应用到true和predicted标签列表\n",
    "mapped_true_labels = [label_mapping[label] for label in true_labels]\n",
    "mapped_predicted_labels = [label_mapping[label] for label in predicted_labels]\n",
    "\n",
    "# 生成Scikit-learn报告信息的DataFrame\n",
    "report_data = classification_report(mapped_true_labels, mapped_predicted_labels, output_dict=True)\n",
    "report_df = pd.DataFrame(report_data).transpose()\n",
    "\n",
    "# mapped_true_labels_np = np.array(mapped_true_labels)\n",
    "# mapped_predicted_labels_np = np.array(mapped_predicted_labels)\n",
    "\n",
    "# print(\"mapped_true_labels 的形状:\", mapped_true_labels_np.shape)\n",
    "# print(\"mapped_predicted_labels 的形状:\", mapped_predicted_labels_np.shape)\n",
    "\n",
    "report_folder = 'classification_report'\n",
    "os.makedirs(report_folder, exist_ok=True)\n",
    "\n",
    "count = 0\n",
    "while True:\n",
    "    report_filename = f'classification_report-transE_50-graphSAGE-{count}.xlsx'\n",
    "    labels_filename = f'mapped_true_predicted_labels-transE_50-graphSAGE-{count}.xlsx'\n",
    "    \n",
    "    report_path = os.path.join(report_folder, report_filename)\n",
    "    labels_path = os.path.join(report_folder, labels_filename)\n",
    "    \n",
    "    if not os.path.exists(report_path) and not os.path.exists(labels_path):\n",
    "        break\n",
    "    count += 1\n",
    "\n",
    "    \n",
    "report_df.to_excel(report_path, index_label='Label')\n",
    "\n",
    "mapped_labels_df = pd.DataFrame({'true_label': mapped_true_labels, 'predicted_label': mapped_predicted_labels})\n",
    "mapped_labels_df.to_excel(labels_path, index=False)\n",
    "\n",
    "add_log_msg(f\"report path: {report_path}\")\n",
    "add_log_msg(f\"label path: {labels_path}\")\n",
    "\n",
    "mapped_report = classification_report(mapped_true_labels, mapped_predicted_labels)\n",
    "add_log_msg(f\"mapped_report:\\n{mapped_report}\")"
   ]
  },
  {
   "cell_type": "code",
   "execution_count": null,
   "metadata": {},
   "outputs": [],
   "source": []
  },
  {
   "cell_type": "code",
   "execution_count": null,
   "metadata": {},
   "outputs": [],
   "source": [
    "# report_data = classification_report(true_labels, predicted_labels, output_dict=True)\n",
    "# report_df = pd.DataFrame(report_data).transpose()\n",
    "\n",
    "# report_folder = 'classification_report'\n",
    "# os.makedirs(report_folder, exist_ok=True)\n",
    "\n",
    "# count = 0\n",
    "# while True:\n",
    "#     report_filename = f'classification_report-transE_50-graphSAGE-{count}.xlsx'\n",
    "#     labels_filename = f'mapped_true_predicted_labels-transE_50-graphSAGE-{count}.xlsx'\n",
    "    \n",
    "#     report_path = os.path.join(report_folder, report_filename)\n",
    "#     labels_path = os.path.join(report_folder, labels_filename)\n",
    "    \n",
    "#     if not os.path.exists(report_path) and not os.path.exists(labels_path):\n",
    "#         break\n",
    "#     count += 1\n",
    "\n",
    "    \n",
    "# report_df.to_excel(report_path, index_label='Label')\n",
    "\n",
    "# labels_df = pd.DataFrame({'true_label': true_labels, 'predicted_label': predicted_labels})\n",
    "# labels_df.to_excel(labels_path, index=False)\n",
    "\n",
    "# add_log_msg(f\"report path: {report_path}\")\n",
    "# add_log_msg(f\"label path: {labels_path}\")\n",
    "\n",
    "# report = classification_report(true_labels, predicted_labels)\n",
    "# add_log_msg(f\"report:\\n{report}\")"
   ]
  },
  {
   "cell_type": "code",
   "execution_count": null,
   "metadata": {},
   "outputs": [],
   "source": []
  },
  {
   "cell_type": "code",
   "execution_count": null,
   "metadata": {},
   "outputs": [],
   "source": []
  }
 ],
 "metadata": {
  "kernelspec": {
   "display_name": "Python 3",
   "language": "python",
   "name": "python3"
  },
  "language_info": {
   "codemirror_mode": {
    "name": "ipython",
    "version": 3
   },
   "file_extension": ".py",
   "mimetype": "text/x-python",
   "name": "python",
   "nbconvert_exporter": "python",
   "pygments_lexer": "ipython3",
   "version": "3.6.9"
  }
 },
 "nbformat": 4,
 "nbformat_minor": 2
}
