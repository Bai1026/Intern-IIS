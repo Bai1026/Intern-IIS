{
 "cells": [
  {
   "cell_type": "code",
   "execution_count": 2,
   "id": "46c02099",
   "metadata": {},
   "outputs": [
    {
     "name": "stdout",
     "output_type": "stream",
     "text": [
      "a\n"
     ]
    }
   ],
   "source": [
    "print('a')"
   ]
  },
  {
   "cell_type": "code",
   "execution_count": 1,
   "id": "10a1911c",
   "metadata": {},
   "outputs": [],
   "source": [
    "'''\n",
    "Convert synthesize data to \n",
    "entity2id.txt, relation2id, entity2id_objType.txt\n",
    "'''\n",
    "\n",
    "import json\n",
    "import pickle\n",
    "import os\n",
    "from tqdm.notebook import tqdm\n",
    "from typing import Set, Tuple, Generator\n",
    "import pandas as pd\n",
    "import numpy as np\n",
    "from sklearn.model_selection import train_test_split\n",
    "\n",
    "\n",
    "OUTPUT_PATH = './data/3_openKE/synthesize'\n",
    "INPUT_PATH = '/workdir/home/bai/data_processing/dgl/data_new/DARPA/before_embedding/3.10/synthesized_format.json'\n",
    "\n",
    "pd.set_option('display.max_rows', 500)\n",
    "pd.set_option('display.max_columns', 500)\n",
    "pd.set_option('display.width', 500)"
   ]
  },
  {
   "cell_type": "code",
   "execution_count": 2,
   "id": "b1e85dbf",
   "metadata": {},
   "outputs": [
    {
     "data": {
      "application/vnd.jupyter.widget-view+json": {
       "model_id": "a02819f07f66403d9fa1b8568ba700ce",
       "version_major": 2,
       "version_minor": 0
      },
      "text/plain": [
       "0it [00:00, ?it/s]"
      ]
     },
     "metadata": {},
     "output_type": "display_data"
    }
   ],
   "source": [
    "data = list()\n",
    "with open(INPUT_PATH, 'r') as f:\n",
    "    for line in tqdm(f):\n",
    "        event = json.loads(line)\n",
    "        data.append(event)\n",
    "        \n",
    "\n",
    "# # Process each line as a separate JSON object\n",
    "# for line in tqdm(data, desc='Loading JSON'):\n",
    "#     try:\n",
    "#         item = json.loads(line)  # Parse the JSON object\n",
    "#         if item.get('label') == 'benign':\n",
    "#             print(item)\n",
    "#             break\n",
    "            \n",
    "#     except json.JSONDecodeError as e:\n",
    "#         print(f\"Error decoding JSON: {e}\")"
   ]
  },
  {
   "cell_type": "code",
   "execution_count": 5,
   "id": "5dbf6ee3",
   "metadata": {},
   "outputs": [
    {
     "name": "stdout",
     "output_type": "stream",
     "text": [
      "42899811\n"
     ]
    },
    {
     "data": {
      "text/plain": [
       "dict"
      ]
     },
     "execution_count": 5,
     "metadata": {},
     "output_type": "execute_result"
    }
   ],
   "source": [
    "print(len(data))\n",
    "type(data[1])"
   ]
  },
  {
   "cell_type": "code",
   "execution_count": 6,
   "id": "ffd1fd68",
   "metadata": {},
   "outputs": [
    {
     "data": {
      "text/plain": [
       "{'src_uuid': '966D983C-607E-4039-BEEF-5E76BC0A4DA8',\n",
       " 'src_node': {'Cmdline': 'None', 'Type': 'process', 'Pid': 9432},\n",
       " 'dst_uuid': '1987EE68-E918-4765-8082-3DE89890A305',\n",
       " 'dst_node': {'Filepath': '\\\\Device\\\\HarddiskVolume2\\\\Users\\\\admin\\\\AppData\\\\Roaming\\\\Thunderbird\\\\Profiles\\\\isfi13ur.default\\\\datareporting',\n",
       "  'Type': 'file'},\n",
       " 'relation': 'EVENT_OPEN',\n",
       " 'label': 'benign'}"
      ]
     },
     "execution_count": 6,
     "metadata": {},
     "output_type": "execute_result"
    }
   ],
   "source": [
    "data[1]"
   ]
  },
  {
   "cell_type": "code",
   "execution_count": 7,
   "id": "fde399bc",
   "metadata": {},
   "outputs": [
    {
     "data": {
      "application/vnd.jupyter.widget-view+json": {
       "model_id": "2b75186503f8408e994172c999e9b86e",
       "version_major": 2,
       "version_minor": 0
      },
      "text/plain": [
       "  0%|          | 0/42899811 [00:00<?, ?it/s]"
      ]
     },
     "metadata": {},
     "output_type": "display_data"
    },
    {
     "name": "stdout",
     "output_type": "stream",
     "text": [
      "{'src_uuid': '966D983C-607E-4039-BEEF-5E76BC0A4DA8', 'src_node': {'Cmdline': 'None', 'Type': 'process', 'Pid': 9432}, 'dst_uuid': '1987EE68-E918-4765-8082-3DE89890A305', 'dst_node': {'Filepath': '\\\\Device\\\\HarddiskVolume2\\\\Users\\\\admin\\\\AppData\\\\Roaming\\\\Thunderbird\\\\Profiles\\\\isfi13ur.default\\\\datareporting', 'Type': 'file'}, 'relation': 'EVENT_OPEN', 'label': 'benign'}\n",
      "{'src_uuid': '966D983C-607E-4039-BEEF-5E76BC0A4DA8', 'src_node': {'Cmdline': 'None', 'Type': 'process', 'Pid': 9432}, 'dst_uuid': '1987EE68-E918-4765-8082-3DE89890A305', 'dst_node': {'Filepath': '\\\\Device\\\\HarddiskVolume2\\\\Users\\\\admin\\\\AppData\\\\Roaming\\\\Thunderbird\\\\Profiles\\\\isfi13ur.default\\\\datareporting', 'Type': 'file'}, 'relation': 'EVENT_OPEN', 'label': 'benign'}\n",
      "{'src_uuid': '966D983C-607E-4039-BEEF-5E76BC0A4DA8', 'src_node': {'Cmdline': 'None', 'Type': 'process', 'Pid': 9432}, 'dst_uuid': 'A6BD7B35-CACA-4557-BE82-33B752E35C00', 'dst_node': {'Filepath': 'Device\\\\HarddiskVolume2\\\\Users\\\\admin\\\\AppData\\\\Roaming\\\\Thunderbird\\\\Profiles\\\\isfi13ur.default\\\\datareporting', 'Type': 'file'}, 'relation': 'EVENT_OPEN', 'label': 'benign'}\n",
      "{'src_uuid': '966D983C-607E-4039-BEEF-5E76BC0A4DA8', 'src_node': {'Cmdline': 'None', 'Type': 'process', 'Pid': 9432}, 'dst_uuid': 'A6BD7B35-CACA-4557-BE82-33B752E35C00', 'dst_node': {'Filepath': 'Device\\\\HarddiskVolume2\\\\Users\\\\admin\\\\AppData\\\\Roaming\\\\Thunderbird\\\\Profiles\\\\isfi13ur.default\\\\datareporting', 'Type': 'file'}, 'relation': 'EVENT_OPEN', 'label': 'benign'}\n",
      "{'src_uuid': '966D983C-607E-4039-BEEF-5E76BC0A4DA8', 'src_node': {'Cmdline': 'None', 'Type': 'process', 'Pid': 9432}, 'dst_uuid': 'A6BD7B35-CACA-4557-BE82-33B752E35C00', 'dst_node': {'Filepath': 'Device\\\\HarddiskVolume2\\\\Users\\\\admin\\\\AppData\\\\Roaming\\\\Thunderbird\\\\Profiles\\\\isfi13ur.default\\\\datareporting', 'Type': 'file'}, 'relation': 'EVENT_OPEN', 'label': 'benign'}\n"
     ]
    }
   ],
   "source": [
    "count = 0\n",
    "for event in tqdm(data):\n",
    "    if event['relation'] != \"NO_CORRESPONDING_RELATION\":\n",
    "        count += 1\n",
    "        print(event)\n",
    "        if count == 5:\n",
    "            break"
   ]
  },
  {
   "cell_type": "markdown",
   "id": "19d0cef0",
   "metadata": {},
   "source": [
    "### From here we transform the relation based on the mapping.yml"
   ]
  },
  {
   "cell_type": "code",
   "execution_count": 8,
   "id": "4c37e749",
   "metadata": {},
   "outputs": [],
   "source": [
    "import json\n",
    "import yaml\n",
    "\n",
    "def read_yaml(file_path):\n",
    "    \"\"\"Read a YAML file and return the parsed data.\"\"\"\n",
    "    with open(file_path, 'r') as file:\n",
    "        return yaml.safe_load(file)\n",
    "\n",
    "yaml_file_path = './data/darpa_synthesized_mapping.yml'\n",
    "\n",
    "yaml_file = read_yaml(yaml_file_path)\n",
    "\n"
   ]
  },
  {
   "cell_type": "code",
   "execution_count": 9,
   "id": "2fbd19b2",
   "metadata": {},
   "outputs": [
    {
     "name": "stdout",
     "output_type": "stream",
     "text": [
      "<class 'dict'>\n",
      "4\n"
     ]
    },
    {
     "data": {
      "text/plain": [
       "{'file': {'attr': {'filepath': 'File Name'},\n",
       "  'relation': {'EVENT_CREATE_OBJECT': 'CreateFile',\n",
       "   'EVENT_CHANGE_PRINCIPAL': 'SetBasicInformationFile',\n",
       "   'EVENT_EXECUTE': 'Process Create',\n",
       "   'EVENT_LOADLIBRARY': 'Load Image',\n",
       "   'EVENT_MODIFY_FILE_ATTRIBUTES': 'SetBasicInformationFile',\n",
       "   'EVENT_OPEN': 'CreateFile',\n",
       "   'EVENT_READ': 'ReadFile',\n",
       "   'EVENT_UNLINK': 'SetDispositionInformationFile',\n",
       "   'EVENT_WRITE': 'WriteFile',\n",
       "   'EVENT_CHECK_FILE_ATTRIBUTES': 'QueryBasicInformationFile',\n",
       "   'EVENT_CLOSE': 'CloseFile',\n",
       "   'EVENT_RENAME': 'SetRenameInformationFile',\n",
       "   'EVENT_FCNTL': 'CreateFileMapping',\n",
       "   'EVENT_OTHER': 'NO_CORRESPONDING_RELATION(EVENT_OTHER)'}},\n",
       " 'network': {'attr': {'localAddress': 'Source Ip',\n",
       "   'localPort': 'Source Port',\n",
       "   'remoteAddress': 'Destination Ip',\n",
       "   'remotePort': 'Destination Port'},\n",
       "  'relation': {'EVENT_CONNECT': 'TCP Connect',\n",
       "   'EVENT_RECVFROM': 'TCP Receive',\n",
       "   'EVENT_SENDTO': 'TCP Send',\n",
       "   'EVENT_ACCEPT': 'TCP Accept',\n",
       "   'EVENT_BIND': 'NO_CORRESPONDING_RELATION(EVENT_BIND)'}},\n",
       " 'registry': {'attr': {'key': 'Registry Key'},\n",
       "  'relation': {'EVENT_READ': 'RegOpenKey',\n",
       "   'EVENT_WRITE': 'RegSetInfoKey',\n",
       "   'EVENT_CHANGE_PRINCIPAL': 'RegSetInfoKey',\n",
       "   'EVENT_LINK': 'RegCreateKey',\n",
       "   'EVENT_MODIFY_FILE_ATTRIBUTES': 'RegSetInfoKey',\n",
       "   'EVENT_UNLINK': 'RegDeleteKey'}},\n",
       " 'process': {'attr': {'cmdline': 'Command Line'},\n",
       "  'relation': {'EVENT_OPEN': 'Process Create',\n",
       "   'EVENT_CREATE_THREAD': 'Thread Create',\n",
       "   'EVENT_FORK': 'Process Create'}}}"
      ]
     },
     "execution_count": 9,
     "metadata": {},
     "output_type": "execute_result"
    }
   ],
   "source": [
    "print(type(yaml_file))\n",
    "print(len(yaml_file))\n",
    "# print(yaml_file)\n",
    "yaml_file"
   ]
  },
  {
   "cell_type": "code",
   "execution_count": 10,
   "id": "0151fae4",
   "metadata": {
    "scrolled": true
   },
   "outputs": [
    {
     "data": {
      "application/vnd.jupyter.widget-view+json": {
       "model_id": "4c97d5ddb32443a3926033ecdd059e01",
       "version_major": 2,
       "version_minor": 0
      },
      "text/plain": [
       "  0%|          | 0/42899811 [00:00<?, ?it/s]"
      ]
     },
     "metadata": {},
     "output_type": "display_data"
    }
   ],
   "source": [
    "def map_relation_to_synthesized(data, mapping):\n",
    "    \"\"\"Map relation in the data from DARPA format to synthesized format using the provided mapping.\"\"\"\n",
    "    for event in tqdm(data):\n",
    "        src_type = event['src_node']['Type']\n",
    "        dst_type = event['dst_node']['Type']\n",
    "        darpa_relation = event['relation']\n",
    "\n",
    "        # Check if the relation mapping exists for source type\n",
    "        if darpa_relation in mapping[src_type]['relation']:\n",
    "            event['relation'] = mapping[src_type]['relation'][darpa_relation]\n",
    "        # If not found in source type, check in destination type\n",
    "        elif darpa_relation in mapping[dst_type]['relation']:\n",
    "            event['relation'] = mapping[dst_type]['relation'][darpa_relation]\n",
    "        # If not found in both, set to 'NO_CORRESPONDING_RELATION'\n",
    "        else:\n",
    "            event['relation'] = \"NO_CORRESPONDING_RELATION\"\n",
    "    return data\n",
    "\n",
    "mapped_data = map_relation_to_synthesized(data, yaml_file)\n",
    "# data_test"
   ]
  },
  {
   "cell_type": "code",
   "execution_count": 11,
   "id": "974b39d4",
   "metadata": {},
   "outputs": [
    {
     "data": {
      "application/vnd.jupyter.widget-view+json": {
       "model_id": "00afd6b5b2df4f1ab5a849b0e17dbe83",
       "version_major": 2,
       "version_minor": 0
      },
      "text/plain": [
       "  0%|          | 0/42899811 [00:00<?, ?it/s]"
      ]
     },
     "metadata": {},
     "output_type": "display_data"
    },
    {
     "name": "stdout",
     "output_type": "stream",
     "text": [
      "{'src_uuid': '966D983C-607E-4039-BEEF-5E76BC0A4DA8', 'src_node': {'Cmdline': 'None', 'Type': 'process', 'Pid': 9432}, 'dst_uuid': '1987EE68-E918-4765-8082-3DE89890A305', 'dst_node': {'Filepath': '\\\\Device\\\\HarddiskVolume2\\\\Users\\\\admin\\\\AppData\\\\Roaming\\\\Thunderbird\\\\Profiles\\\\isfi13ur.default\\\\datareporting', 'Type': 'file'}, 'relation': 'Process Create', 'label': 'benign'}\n",
      "{'src_uuid': '966D983C-607E-4039-BEEF-5E76BC0A4DA8', 'src_node': {'Cmdline': 'None', 'Type': 'process', 'Pid': 9432}, 'dst_uuid': '1987EE68-E918-4765-8082-3DE89890A305', 'dst_node': {'Filepath': '\\\\Device\\\\HarddiskVolume2\\\\Users\\\\admin\\\\AppData\\\\Roaming\\\\Thunderbird\\\\Profiles\\\\isfi13ur.default\\\\datareporting', 'Type': 'file'}, 'relation': 'Process Create', 'label': 'benign'}\n",
      "{'src_uuid': '966D983C-607E-4039-BEEF-5E76BC0A4DA8', 'src_node': {'Cmdline': 'None', 'Type': 'process', 'Pid': 9432}, 'dst_uuid': 'A6BD7B35-CACA-4557-BE82-33B752E35C00', 'dst_node': {'Filepath': 'Device\\\\HarddiskVolume2\\\\Users\\\\admin\\\\AppData\\\\Roaming\\\\Thunderbird\\\\Profiles\\\\isfi13ur.default\\\\datareporting', 'Type': 'file'}, 'relation': 'Process Create', 'label': 'benign'}\n",
      "{'src_uuid': '966D983C-607E-4039-BEEF-5E76BC0A4DA8', 'src_node': {'Cmdline': 'None', 'Type': 'process', 'Pid': 9432}, 'dst_uuid': 'A6BD7B35-CACA-4557-BE82-33B752E35C00', 'dst_node': {'Filepath': 'Device\\\\HarddiskVolume2\\\\Users\\\\admin\\\\AppData\\\\Roaming\\\\Thunderbird\\\\Profiles\\\\isfi13ur.default\\\\datareporting', 'Type': 'file'}, 'relation': 'Process Create', 'label': 'benign'}\n",
      "{'src_uuid': '966D983C-607E-4039-BEEF-5E76BC0A4DA8', 'src_node': {'Cmdline': 'None', 'Type': 'process', 'Pid': 9432}, 'dst_uuid': 'A6BD7B35-CACA-4557-BE82-33B752E35C00', 'dst_node': {'Filepath': 'Device\\\\HarddiskVolume2\\\\Users\\\\admin\\\\AppData\\\\Roaming\\\\Thunderbird\\\\Profiles\\\\isfi13ur.default\\\\datareporting', 'Type': 'file'}, 'relation': 'Process Create', 'label': 'benign'}\n"
     ]
    }
   ],
   "source": [
    "count = 0\n",
    "for event in tqdm(mapped_data):\n",
    "    if event['relation'] == \"NO_CORRESPONDING_RELATION\":\n",
    "        count += 1\n",
    "        print(event)\n",
    "        if count == 5:\n",
    "            break"
   ]
  },
  {
   "cell_type": "markdown",
   "id": "88ae49fd",
   "metadata": {},
   "source": [
    "#### Here we analyze the num of the label with \"NO_CORRESPONDING_RELATION\""
   ]
  },
  {
   "cell_type": "code",
   "execution_count": 12,
   "id": "1637da96",
   "metadata": {},
   "outputs": [
    {
     "data": {
      "application/vnd.jupyter.widget-view+json": {
       "model_id": "01f945ad5a6444e08476033f0e2984b0",
       "version_major": 2,
       "version_minor": 0
      },
      "text/plain": [
       "  0%|          | 0/42899811 [00:00<?, ?it/s]"
      ]
     },
     "metadata": {},
     "output_type": "display_data"
    },
    {
     "name": "stdout",
     "output_type": "stream",
     "text": [
      "1887495\n"
     ]
    }
   ],
   "source": [
    "count == 0 \n",
    "for event in tqdm(data):\n",
    "    if event['relation'] == \"NO_CORRESPONDING_RELATION\":\n",
    "        count += 1\n",
    "\n",
    "print(count)"
   ]
  },
  {
   "cell_type": "code",
   "execution_count": 13,
   "id": "1dfdde50",
   "metadata": {},
   "outputs": [
    {
     "data": {
      "application/vnd.jupyter.widget-view+json": {
       "model_id": "e9cdd847b3f1413094e78f73931374c4",
       "version_major": 2,
       "version_minor": 0
      },
      "text/plain": [
       "  0%|          | 0/42899811 [00:00<?, ?it/s]"
      ]
     },
     "metadata": {},
     "output_type": "display_data"
    },
    {
     "name": "stdout",
     "output_type": "stream",
     "text": [
      "3774985\n"
     ]
    }
   ],
   "source": [
    "count == 0 \n",
    "for event in tqdm(mapped_data):\n",
    "    if event['relation'] == \"NO_CORRESPONDING_RELATION\":\n",
    "        count += 1\n",
    "\n",
    "print(count)"
   ]
  },
  {
   "cell_type": "code",
   "execution_count": 14,
   "id": "3c2bb459",
   "metadata": {},
   "outputs": [
    {
     "data": {
      "application/vnd.jupyter.widget-view+json": {
       "model_id": "0d2acc127fbb4b09b52c8800e7234186",
       "version_major": 2,
       "version_minor": 0
      },
      "text/plain": [
       "0it [00:00, ?it/s]"
      ]
     },
     "metadata": {},
     "output_type": "display_data"
    },
    {
     "name": "stdout",
     "output_type": "stream",
     "text": [
      "Original Event: {'src_uuid': '107A5E79-B50A-4D91-8480-D2EBE2E0F8C6', 'src_node': {'Cmdline': 'None', 'Type': 'process', 'Pid': 8560}, 'dst_uuid': '7082E8FD-A4A6-4198-82D7-1A3165474B89', 'dst_node': {'Cmdline': '\"hJauWl01\"', 'Type': 'process', 'Pid': 2760}, 'relation': 'NO_CORRESPONDING_RELATION', 'label': 'attack'}\n",
      "Mapped Event: {'src_uuid': '107A5E79-B50A-4D91-8480-D2EBE2E0F8C6', 'src_node': {'Cmdline': 'None', 'Type': 'process', 'Pid': 8560}, 'dst_uuid': '7082E8FD-A4A6-4198-82D7-1A3165474B89', 'dst_node': {'Cmdline': '\"hJauWl01\"', 'Type': 'process', 'Pid': 2760}, 'relation': 'NO_CORRESPONDING_RELATION', 'label': 'attack'}\n",
      "\n",
      "Original Event: {'src_uuid': '107A5E79-B50A-4D91-8480-D2EBE2E0F8C6', 'src_node': {'Cmdline': 'None', 'Type': 'process', 'Pid': 8560}, 'dst_uuid': '7082E8FD-A4A6-4198-82D7-1A3165474B89', 'dst_node': {'Cmdline': '\"hJauWl01\"', 'Type': 'process', 'Pid': 2760}, 'relation': 'NO_CORRESPONDING_RELATION', 'label': 'attack'}\n",
      "Mapped Event: {'src_uuid': '107A5E79-B50A-4D91-8480-D2EBE2E0F8C6', 'src_node': {'Cmdline': 'None', 'Type': 'process', 'Pid': 8560}, 'dst_uuid': '7082E8FD-A4A6-4198-82D7-1A3165474B89', 'dst_node': {'Cmdline': '\"hJauWl01\"', 'Type': 'process', 'Pid': 2760}, 'relation': 'NO_CORRESPONDING_RELATION', 'label': 'attack'}\n",
      "\n",
      "Original Event: {'src_uuid': '7E7ED3EB-36C3-48BC-BAA6-F1DEB3919990', 'src_node': {'Cmdline': 'None', 'Type': 'process', 'Pid': 3800}, 'dst_uuid': '7082E8FD-A4A6-4198-82D7-1A3165474B89', 'dst_node': {'Cmdline': '\"hJauWl01\"', 'Type': 'process', 'Pid': 2760}, 'relation': 'NO_CORRESPONDING_RELATION', 'label': 'attack'}\n",
      "Mapped Event: {'src_uuid': '7E7ED3EB-36C3-48BC-BAA6-F1DEB3919990', 'src_node': {'Cmdline': 'None', 'Type': 'process', 'Pid': 3800}, 'dst_uuid': '7082E8FD-A4A6-4198-82D7-1A3165474B89', 'dst_node': {'Cmdline': '\"hJauWl01\"', 'Type': 'process', 'Pid': 2760}, 'relation': 'NO_CORRESPONDING_RELATION', 'label': 'attack'}\n",
      "\n",
      "Original Event: {'src_uuid': '6DEB1FCB-CD94-4C14-BD95-E2DC1E087105', 'src_node': {'Cmdline': 'None', 'Type': 'process', 'Pid': 4532}, 'dst_uuid': '7082E8FD-A4A6-4198-82D7-1A3165474B89', 'dst_node': {'Cmdline': '\"hJauWl01\"', 'Type': 'process', 'Pid': 2760}, 'relation': 'NO_CORRESPONDING_RELATION', 'label': 'attack'}\n",
      "Mapped Event: {'src_uuid': '6DEB1FCB-CD94-4C14-BD95-E2DC1E087105', 'src_node': {'Cmdline': 'None', 'Type': 'process', 'Pid': 4532}, 'dst_uuid': '7082E8FD-A4A6-4198-82D7-1A3165474B89', 'dst_node': {'Cmdline': '\"hJauWl01\"', 'Type': 'process', 'Pid': 2760}, 'relation': 'NO_CORRESPONDING_RELATION', 'label': 'attack'}\n",
      "\n",
      "Original Event: {'src_uuid': '6DEB1FCB-CD94-4C14-BD95-E2DC1E087105', 'src_node': {'Cmdline': 'None', 'Type': 'process', 'Pid': 4532}, 'dst_uuid': '7082E8FD-A4A6-4198-82D7-1A3165474B89', 'dst_node': {'Cmdline': '\"hJauWl01\"', 'Type': 'process', 'Pid': 2760}, 'relation': 'NO_CORRESPONDING_RELATION', 'label': 'attack'}\n",
      "Mapped Event: {'src_uuid': '6DEB1FCB-CD94-4C14-BD95-E2DC1E087105', 'src_node': {'Cmdline': 'None', 'Type': 'process', 'Pid': 4532}, 'dst_uuid': '7082E8FD-A4A6-4198-82D7-1A3165474B89', 'dst_node': {'Cmdline': '\"hJauWl01\"', 'Type': 'process', 'Pid': 2760}, 'relation': 'NO_CORRESPONDING_RELATION', 'label': 'attack'}\n",
      "\n"
     ]
    }
   ],
   "source": [
    "def print_first_five_events_with_no_corresponding_relation(original_data, mapped_data):\n",
    "    count = 0\n",
    "    for original_event, mapped_event in tqdm(zip(original_data, mapped_data)):\n",
    "#         if mapped_event['relation'] == \"NO_CORRESPONDING_RELATION\":\n",
    "        if mapped_event['relation'] == \"NO_CORRESPONDING_RELATION\" and mapped_event['label'] == \"attack\":\n",
    "            print(\"Original Event:\", original_event)\n",
    "            print(\"Mapped Event:\", mapped_event)\n",
    "            print()  # Newline for separation\n",
    "            count += 1\n",
    "            if count == 5:\n",
    "                break\n",
    "                \n",
    "print_first_five_events_with_no_corresponding_relation(data, mapped_data)"
   ]
  },
  {
   "cell_type": "code",
   "execution_count": 15,
   "id": "c8844fbb",
   "metadata": {},
   "outputs": [
    {
     "data": {
      "application/vnd.jupyter.widget-view+json": {
       "model_id": "81730dc1a88a4e97afb771685ec22303",
       "version_major": 2,
       "version_minor": 0
      },
      "text/plain": [
       "  0%|          | 0/42899811 [00:00<?, ?it/s]"
      ]
     },
     "metadata": {},
     "output_type": "display_data"
    },
    {
     "name": "stdout",
     "output_type": "stream",
     "text": [
      "{'Ipprotocol', 'Localaddress', 'Localport', 'Remoteport', 'Remoteaddress', 'Type'}\n"
     ]
    }
   ],
   "source": [
    "keys = set()\n",
    "for d in tqdm(data):\n",
    "    if d['dst_node'].get('Type') == 'network':\n",
    "        keys.update(d['dst_node'].keys())\n",
    "\n",
    "print(keys)"
   ]
  },
  {
   "cell_type": "code",
   "execution_count": 19,
   "id": "52b657d2",
   "metadata": {},
   "outputs": [
    {
     "data": {
      "application/vnd.jupyter.widget-view+json": {
       "model_id": "468ab3939cf04c86886860e4225607f9",
       "version_major": 2,
       "version_minor": 0
      },
      "text/plain": [
       "  0%|          | 0/42899811 [00:00<?, ?it/s]"
      ]
     },
     "metadata": {},
     "output_type": "display_data"
    },
    {
     "name": "stdout",
     "output_type": "stream",
     "text": [
      "{'Ipprotocol', 'Localaddress', 'Localport', 'Remoteport', 'Remoteaddress', 'Type'}\n"
     ]
    }
   ],
   "source": [
    "keys = set()\n",
    "for d in tqdm(mapped_data):\n",
    "    if d['dst_node'].get('Type') == 'network':\n",
    "        keys.update(d['dst_node'].keys())\n",
    "\n",
    "print(keys)"
   ]
  },
  {
   "cell_type": "code",
   "execution_count": 16,
   "id": "7e92206d",
   "metadata": {},
   "outputs": [
    {
     "data": {
      "application/vnd.jupyter.widget-view+json": {
       "model_id": "403fb302c8ce43fcb2eb3c6fe9afdd52",
       "version_major": 2,
       "version_minor": 0
      },
      "text/plain": [
       "  0%|          | 0/42899811 [00:00<?, ?it/s]"
      ]
     },
     "metadata": {},
     "output_type": "display_data"
    },
    {
     "data": {
      "text/plain": [
       "{'Cmdline', 'Pid', 'Type'}"
      ]
     },
     "execution_count": 16,
     "metadata": {},
     "output_type": "execute_result"
    }
   ],
   "source": [
    "keys = set()\n",
    "for d in tqdm(data):\n",
    "    if d['dst_node']['Type'] == 'process':\n",
    "        keys = keys.union(d['dst_node'].keys())\n",
    "keys"
   ]
  },
  {
   "cell_type": "code",
   "execution_count": 17,
   "id": "2f4b22cb",
   "metadata": {},
   "outputs": [
    {
     "data": {
      "application/vnd.jupyter.widget-view+json": {
       "model_id": "78b74948e5074767815fa9ab2eb05303",
       "version_major": 2,
       "version_minor": 0
      },
      "text/plain": [
       "  0%|          | 0/42899811 [00:00<?, ?it/s]"
      ]
     },
     "metadata": {},
     "output_type": "display_data"
    },
    {
     "data": {
      "text/plain": [
       "{'Key', 'Type'}"
      ]
     },
     "execution_count": 17,
     "metadata": {},
     "output_type": "execute_result"
    }
   ],
   "source": [
    "keys = set()\n",
    "for d in tqdm(data):\n",
    "    if d['dst_node']['Type'] == 'registry':\n",
    "        keys = keys.union(d['dst_node'].keys())\n",
    "keys"
   ]
  },
  {
   "cell_type": "code",
   "execution_count": 18,
   "id": "73b29fda",
   "metadata": {},
   "outputs": [
    {
     "data": {
      "application/vnd.jupyter.widget-view+json": {
       "model_id": "3a354d54502b462ba03a1928fee3f86e",
       "version_major": 2,
       "version_minor": 0
      },
      "text/plain": [
       "  0%|          | 0/42899811 [00:00<?, ?it/s]"
      ]
     },
     "metadata": {},
     "output_type": "display_data"
    },
    {
     "data": {
      "text/plain": [
       "{'Filepath', 'Type'}"
      ]
     },
     "execution_count": 18,
     "metadata": {},
     "output_type": "execute_result"
    }
   ],
   "source": [
    "keys = set()\n",
    "for d in tqdm(data):\n",
    "    if d['dst_node']['Type'] == 'file':\n",
    "        keys = keys.union(d['dst_node'].keys())\n",
    "keys"
   ]
  },
  {
   "cell_type": "code",
   "execution_count": 20,
   "id": "d28ecf4c",
   "metadata": {},
   "outputs": [
    {
     "data": {
      "application/vnd.jupyter.widget-view+json": {
       "model_id": "08b958321fee42a0ac6576bc98b11def",
       "version_major": 2,
       "version_minor": 0
      },
      "text/plain": [
       "  0%|          | 0/42899811 [00:00<?, ?it/s]"
      ]
     },
     "metadata": {},
     "output_type": "display_data"
    },
    {
     "name": "stdout",
     "output_type": "stream",
     "text": [
      "(42899811, 7)\n"
     ]
    }
   ],
   "source": [
    "save_data = list()\n",
    "for d in tqdm(data):\n",
    "    src_uuid = d['src_uuid']\n",
    "    src_node = d['src_node']\n",
    "    dst_uuid = d['dst_uuid']\n",
    "    dst_node = d['dst_node']\n",
    "    relation = d['relation']\n",
    "    label = d['label']\n",
    "\n",
    "    # 处理 src_node 中的 Cmdline\n",
    "    src_cmdline = 'nan' if src_node['Cmdline'] == 'None' else src_node['Cmdline']\n",
    "\n",
    "    # 初始化 dst_value\n",
    "    dst_value = 'nan'\n",
    "\n",
    "    new_row = {\n",
    "        'src_uuid': src_uuid, \n",
    "        'src': f'process:{src_node[\"Pid\"]}&{src_cmdline}',\n",
    "        'dst_uuid': dst_uuid, \n",
    "        'dst': None, \n",
    "        'relation': relation, \n",
    "        'dst_type': dst_node['Type'].lower(),\n",
    "        'label': label\n",
    "    }\n",
    "\n",
    "    # 根据 dst_node 的类型构造 dst 字段\n",
    "    if new_row['dst_type'] == 'file':\n",
    "        # 如果有 'Name' 字段，添加到 dst\n",
    "        new_row['dst'] = new_row['dst_type'] + ':' + dst_node.get('Name', 'nan')\n",
    "    elif new_row['dst_type'] == 'network':\n",
    "        # 如果有网络相关字段，添加到 dst\n",
    "        new_row['dst'] = new_row['dst_type'] + ':' + dst_node.get('Srcaddress', 'nan') + '&' + dst_node.get('Dstaddress', 'nan') + '&' + dst_node.get('Port', 'nan')\n",
    "    elif new_row['dst_type'] == 'registry':\n",
    "        # 使用 Key 字段\n",
    "        new_row['dst'] = new_row['dst_type'] + ':' + dst_node['Key']\n",
    "    elif new_row['dst_type'] == 'process':\n",
    "        # 处理 dst_node 中的 Cmdline\n",
    "        dst_cmdline = 'nan' if dst_node['Cmdline'] == 'None' else dst_node['Cmdline']\n",
    "        new_row['dst'] = new_row['dst_type'] + ':' + f'{dst_node[\"Pid\"]}&{dst_cmdline}'\n",
    "\n",
    "    # 替换空格\n",
    "    new_row['src'] = new_row['src'].replace(' ', '_')\n",
    "    new_row['dst'] = new_row['dst'].replace(' ', '_')\n",
    "    \n",
    "    save_data.append(new_row)\n",
    "\n",
    "df = pd.DataFrame(save_data)\n",
    "print(df.shape)\n"
   ]
  },
  {
   "cell_type": "code",
   "execution_count": 21,
   "id": "3e168e4b",
   "metadata": {},
   "outputs": [
    {
     "data": {
      "text/html": [
       "<div>\n",
       "<style scoped>\n",
       "    .dataframe tbody tr th:only-of-type {\n",
       "        vertical-align: middle;\n",
       "    }\n",
       "\n",
       "    .dataframe tbody tr th {\n",
       "        vertical-align: top;\n",
       "    }\n",
       "\n",
       "    .dataframe thead th {\n",
       "        text-align: right;\n",
       "    }\n",
       "</style>\n",
       "<table border=\"1\" class=\"dataframe\">\n",
       "  <thead>\n",
       "    <tr style=\"text-align: right;\">\n",
       "      <th></th>\n",
       "      <th>src_uuid</th>\n",
       "      <th>src</th>\n",
       "      <th>dst_uuid</th>\n",
       "      <th>dst</th>\n",
       "      <th>relation</th>\n",
       "      <th>dst_type</th>\n",
       "      <th>label</th>\n",
       "    </tr>\n",
       "  </thead>\n",
       "  <tbody>\n",
       "    <tr>\n",
       "      <th>0</th>\n",
       "      <td>966D983C-607E-4039-BEEF-5E76BC0A4DA8</td>\n",
       "      <td>process:9432&amp;nan</td>\n",
       "      <td>1987EE68-E918-4765-8082-3DE89890A305</td>\n",
       "      <td>file:nan</td>\n",
       "      <td>Process Create</td>\n",
       "      <td>file</td>\n",
       "      <td>benign</td>\n",
       "    </tr>\n",
       "    <tr>\n",
       "      <th>1</th>\n",
       "      <td>966D983C-607E-4039-BEEF-5E76BC0A4DA8</td>\n",
       "      <td>process:9432&amp;nan</td>\n",
       "      <td>1987EE68-E918-4765-8082-3DE89890A305</td>\n",
       "      <td>file:nan</td>\n",
       "      <td>Process Create</td>\n",
       "      <td>file</td>\n",
       "      <td>benign</td>\n",
       "    </tr>\n",
       "    <tr>\n",
       "      <th>2</th>\n",
       "      <td>966D983C-607E-4039-BEEF-5E76BC0A4DA8</td>\n",
       "      <td>process:9432&amp;nan</td>\n",
       "      <td>A6BD7B35-CACA-4557-BE82-33B752E35C00</td>\n",
       "      <td>file:nan</td>\n",
       "      <td>Process Create</td>\n",
       "      <td>file</td>\n",
       "      <td>benign</td>\n",
       "    </tr>\n",
       "    <tr>\n",
       "      <th>3</th>\n",
       "      <td>966D983C-607E-4039-BEEF-5E76BC0A4DA8</td>\n",
       "      <td>process:9432&amp;nan</td>\n",
       "      <td>A6BD7B35-CACA-4557-BE82-33B752E35C00</td>\n",
       "      <td>file:nan</td>\n",
       "      <td>Process Create</td>\n",
       "      <td>file</td>\n",
       "      <td>benign</td>\n",
       "    </tr>\n",
       "    <tr>\n",
       "      <th>4</th>\n",
       "      <td>966D983C-607E-4039-BEEF-5E76BC0A4DA8</td>\n",
       "      <td>process:9432&amp;nan</td>\n",
       "      <td>A6BD7B35-CACA-4557-BE82-33B752E35C00</td>\n",
       "      <td>file:nan</td>\n",
       "      <td>Process Create</td>\n",
       "      <td>file</td>\n",
       "      <td>benign</td>\n",
       "    </tr>\n",
       "    <tr>\n",
       "      <th>5</th>\n",
       "      <td>966D983C-607E-4039-BEEF-5E76BC0A4DA8</td>\n",
       "      <td>process:9432&amp;nan</td>\n",
       "      <td>A6BD7B35-CACA-4557-BE82-33B752E35C00</td>\n",
       "      <td>file:nan</td>\n",
       "      <td>CloseFile</td>\n",
       "      <td>file</td>\n",
       "      <td>benign</td>\n",
       "    </tr>\n",
       "    <tr>\n",
       "      <th>6</th>\n",
       "      <td>966D983C-607E-4039-BEEF-5E76BC0A4DA8</td>\n",
       "      <td>process:9432&amp;nan</td>\n",
       "      <td>A6BD7B35-CACA-4557-BE82-33B752E35C00</td>\n",
       "      <td>file:nan</td>\n",
       "      <td>CloseFile</td>\n",
       "      <td>file</td>\n",
       "      <td>benign</td>\n",
       "    </tr>\n",
       "    <tr>\n",
       "      <th>7</th>\n",
       "      <td>966D983C-607E-4039-BEEF-5E76BC0A4DA8</td>\n",
       "      <td>process:9432&amp;nan</td>\n",
       "      <td>A6BD7B35-CACA-4557-BE82-33B752E35C00</td>\n",
       "      <td>file:nan</td>\n",
       "      <td>CloseFile</td>\n",
       "      <td>file</td>\n",
       "      <td>benign</td>\n",
       "    </tr>\n",
       "    <tr>\n",
       "      <th>8</th>\n",
       "      <td>966D983C-607E-4039-BEEF-5E76BC0A4DA8</td>\n",
       "      <td>process:9432&amp;nan</td>\n",
       "      <td>F17B89A1-F883-41C2-B0FD-F4FD5B7C21A2</td>\n",
       "      <td>file:nan</td>\n",
       "      <td>CreateFile</td>\n",
       "      <td>file</td>\n",
       "      <td>benign</td>\n",
       "    </tr>\n",
       "    <tr>\n",
       "      <th>9</th>\n",
       "      <td>509DFF9D-9792-49A5-8DCC-F60F29425F5E</td>\n",
       "      <td>process:6128&amp;nan</td>\n",
       "      <td>084E9EFD-62AA-4FE4-B9DC-118DC1D0222F</td>\n",
       "      <td>file:nan</td>\n",
       "      <td>CreateFileMapping</td>\n",
       "      <td>file</td>\n",
       "      <td>benign</td>\n",
       "    </tr>\n",
       "  </tbody>\n",
       "</table>\n",
       "</div>"
      ],
      "text/plain": [
       "                               src_uuid               src                              dst_uuid       dst           relation dst_type   label\n",
       "0  966D983C-607E-4039-BEEF-5E76BC0A4DA8  process:9432&nan  1987EE68-E918-4765-8082-3DE89890A305  file:nan     Process Create     file  benign\n",
       "1  966D983C-607E-4039-BEEF-5E76BC0A4DA8  process:9432&nan  1987EE68-E918-4765-8082-3DE89890A305  file:nan     Process Create     file  benign\n",
       "2  966D983C-607E-4039-BEEF-5E76BC0A4DA8  process:9432&nan  A6BD7B35-CACA-4557-BE82-33B752E35C00  file:nan     Process Create     file  benign\n",
       "3  966D983C-607E-4039-BEEF-5E76BC0A4DA8  process:9432&nan  A6BD7B35-CACA-4557-BE82-33B752E35C00  file:nan     Process Create     file  benign\n",
       "4  966D983C-607E-4039-BEEF-5E76BC0A4DA8  process:9432&nan  A6BD7B35-CACA-4557-BE82-33B752E35C00  file:nan     Process Create     file  benign\n",
       "5  966D983C-607E-4039-BEEF-5E76BC0A4DA8  process:9432&nan  A6BD7B35-CACA-4557-BE82-33B752E35C00  file:nan          CloseFile     file  benign\n",
       "6  966D983C-607E-4039-BEEF-5E76BC0A4DA8  process:9432&nan  A6BD7B35-CACA-4557-BE82-33B752E35C00  file:nan          CloseFile     file  benign\n",
       "7  966D983C-607E-4039-BEEF-5E76BC0A4DA8  process:9432&nan  A6BD7B35-CACA-4557-BE82-33B752E35C00  file:nan          CloseFile     file  benign\n",
       "8  966D983C-607E-4039-BEEF-5E76BC0A4DA8  process:9432&nan  F17B89A1-F883-41C2-B0FD-F4FD5B7C21A2  file:nan         CreateFile     file  benign\n",
       "9  509DFF9D-9792-49A5-8DCC-F60F29425F5E  process:6128&nan  084E9EFD-62AA-4FE4-B9DC-118DC1D0222F  file:nan  CreateFileMapping     file  benign"
      ]
     },
     "execution_count": 21,
     "metadata": {},
     "output_type": "execute_result"
    }
   ],
   "source": [
    "df.head(10)"
   ]
  },
  {
   "cell_type": "code",
   "execution_count": 94,
   "id": "1625961a",
   "metadata": {},
   "outputs": [
    {
     "name": "stdout",
     "output_type": "stream",
     "text": [
      "src_uuid                 37E4A4E7-C628-4099-9058-D7D10B901512\n",
      "src         process:8120&\"C:\\Program_Files\\Mozilla_Firefox...\n",
      "dst_uuid                 3F3FCFE5-BA84-4DB1-A538-4A2674E5511D\n",
      "dst                                       network:nan&nan&nan\n",
      "relation                                             TCP Send\n",
      "dst_type                                              network\n",
      "label                                                  benign\n",
      "Name: 12000000, dtype: object\n"
     ]
    }
   ],
   "source": [
    "row_12000000 = df.iloc[12000000]\n",
    "print(row_12000000)"
   ]
  },
  {
   "cell_type": "code",
   "execution_count": null,
   "id": "93ab1a31",
   "metadata": {},
   "outputs": [],
   "source": [
    "data[0]"
   ]
  },
  {
   "cell_type": "code",
   "execution_count": 45,
   "id": "4584a382",
   "metadata": {},
   "outputs": [
    {
     "data": {
      "text/plain": [
       "{'src_uuid': '966D983C-607E-4039-BEEF-5E76BC0A4DA8',\n",
       " 'src_node': {'Cmdline': 'None', 'Type': 'process', 'Pid': 9432},\n",
       " 'dst_uuid': '1987EE68-E918-4765-8082-3DE89890A305',\n",
       " 'dst_node': {'Filepath': '\\\\Device\\\\HarddiskVolume2\\\\Users\\\\admin\\\\AppData\\\\Roaming\\\\Thunderbird\\\\Profiles\\\\isfi13ur.default\\\\datareporting',\n",
       "  'Type': 'file'},\n",
       " 'relation': 'Process Create',\n",
       " 'label': 'benign'}"
      ]
     },
     "execution_count": 45,
     "metadata": {},
     "output_type": "execute_result"
    }
   ],
   "source": [
    "mapped_data[0]"
   ]
  },
  {
   "cell_type": "code",
   "execution_count": 43,
   "id": "adf2246f",
   "metadata": {},
   "outputs": [
    {
     "data": {
      "text/plain": [
       "{'src_uuid': '6654BFF3-F769-43C6-B91A-15C087F1DBB5',\n",
       " 'src_node': {'Cmdline': 'None', 'Type': 'process', 'Pid': 7780},\n",
       " 'dst_uuid': '5AC4D736-CF60-40C6-9A13-AF49457A3574',\n",
       " 'dst_node': {'Filepath': '\\\\Device\\\\HarddiskVolume2\\\\Windows\\\\System32\\\\Windows.CloudStore.dll',\n",
       "  'Type': 'file'},\n",
       " 'relation': 'QueryBasicInformationFile',\n",
       " 'label': 'benign'}"
      ]
     },
     "execution_count": 43,
     "metadata": {},
     "output_type": "execute_result"
    }
   ],
   "source": [
    "data[1000000]"
   ]
  },
  {
   "cell_type": "code",
   "execution_count": 79,
   "id": "ca42427f",
   "metadata": {},
   "outputs": [
    {
     "data": {
      "text/plain": [
       "{'src_uuid': '6654BFF3-F769-43C6-B91A-15C087F1DBB5',\n",
       " 'src_node': {'Cmdline': 'None', 'Type': 'process', 'Pid': 7780},\n",
       " 'dst_uuid': '5AC4D736-CF60-40C6-9A13-AF49457A3574',\n",
       " 'dst_node': {'Filepath': '\\\\Device\\\\HarddiskVolume2\\\\Windows\\\\System32\\\\Windows.CloudStore.dll',\n",
       "  'Type': 'file'},\n",
       " 'relation': 'NO_CORRESPONDING_RELATION',\n",
       " 'label': 'benign'}"
      ]
     },
     "execution_count": 79,
     "metadata": {},
     "output_type": "execute_result"
    }
   ],
   "source": [
    "mapped_data[1000000]"
   ]
  },
  {
   "cell_type": "code",
   "execution_count": 95,
   "id": "a2f6b3e5",
   "metadata": {},
   "outputs": [
    {
     "data": {
      "text/plain": [
       "{'src_uuid': '37E4A4E7-C628-4099-9058-D7D10B901512',\n",
       " 'src_node': {'Cmdline': '\"C:\\\\Program Files\\\\Mozilla Firefox\\\\firefox.exe\" ',\n",
       "  'Type': 'process',\n",
       "  'Pid': 8120},\n",
       " 'dst_uuid': '3F3FCFE5-BA84-4DB1-A538-4A2674E5511D',\n",
       " 'dst_node': {'Localaddress': '127.0.0.1',\n",
       "  'Localport': 61396,\n",
       "  'Remoteaddress': '127.0.0.1',\n",
       "  'Remoteport': 61395,\n",
       "  'Ipprotocol': 6,\n",
       "  'Type': 'network'},\n",
       " 'relation': 'TCP Send',\n",
       " 'label': 'benign'}"
      ]
     },
     "execution_count": 95,
     "metadata": {},
     "output_type": "execute_result"
    }
   ],
   "source": [
    "data[12000000]"
   ]
  },
  {
   "cell_type": "code",
   "execution_count": 78,
   "id": "b1e1390d",
   "metadata": {},
   "outputs": [
    {
     "data": {
      "text/plain": [
       "{'src_uuid': '37E4A4E7-C628-4099-9058-D7D10B901512',\n",
       " 'src_node': {'Cmdline': '\"C:\\\\Program Files\\\\Mozilla Firefox\\\\firefox.exe\" ',\n",
       "  'Type': 'process',\n",
       "  'Pid': 8120},\n",
       " 'dst_uuid': '3F3FCFE5-BA84-4DB1-A538-4A2674E5511D',\n",
       " 'dst_node': {'Localaddress': '127.0.0.1',\n",
       "  'Localport': 61396,\n",
       "  'Remoteaddress': '127.0.0.1',\n",
       "  'Remoteport': 61395,\n",
       "  'Ipprotocol': 6,\n",
       "  'Type': 'network'},\n",
       " 'relation': 'TCP Send',\n",
       " 'label': 'benign'}"
      ]
     },
     "execution_count": 78,
     "metadata": {},
     "output_type": "execute_result"
    }
   ],
   "source": [
    "mapped_data[12000000]"
   ]
  },
  {
   "cell_type": "code",
   "execution_count": 22,
   "id": "54269c22",
   "metadata": {},
   "outputs": [
    {
     "data": {
      "application/vnd.jupyter.widget-view+json": {
       "model_id": "60af6b3acd0f4a0daddbab696d2fa207",
       "version_major": 2,
       "version_minor": 0
      },
      "text/plain": [
       "  0%|          | 0/42899811 [00:00<?, ?it/s]"
      ]
     },
     "metadata": {},
     "output_type": "display_data"
    },
    {
     "name": "stdout",
     "output_type": "stream",
     "text": [
      "(42899811, 7)\n"
     ]
    }
   ],
   "source": [
    "save_data = list()\n",
    "for d in tqdm(mapped_data):\n",
    "    src_uuid = d['src_uuid']\n",
    "    src_node = d['src_node']\n",
    "    dst_uuid = d['dst_uuid']\n",
    "    dst_node = d['dst_node']\n",
    "    relation = d['relation']\n",
    "    label = d['label']\n",
    "\n",
    "    # 处理 src_node 中的 Cmdline\n",
    "    src_cmdline = 'nan' if src_node['Cmdline'] == 'None' else src_node['Cmdline']\n",
    "\n",
    "    # 初始化 dst_value\n",
    "    dst_value = 'nan'\n",
    "\n",
    "    new_row = {\n",
    "        'src_uuid': src_uuid, \n",
    "        'src': f'process:{src_node[\"Pid\"]}&{src_cmdline}',\n",
    "        'dst_uuid': dst_uuid, \n",
    "        'dst': None, \n",
    "        'relation': relation, \n",
    "        'dst_type': dst_node['Type'].lower(),\n",
    "        'label': label\n",
    "    }\n",
    "\n",
    "    # 根据 dst_node 的类型构造 dst 字段\n",
    "    if new_row['dst_type'] == 'file':\n",
    "        # 如果有 'Name' 字段，添加到 dst\n",
    "        new_row['dst'] = new_row['dst_type'] + ':' + dst_node.get('Name', 'nan')\n",
    "    elif new_row['dst_type'] == 'network':\n",
    "        # 如果有网络相关字段，添加到 dst\n",
    "        new_row['dst'] = new_row['dst_type'] + ':' + dst_node.get('Srcaddress', 'nan') + '&' + dst_node.get('Dstaddress', 'nan') + '&' + dst_node.get('Port', 'nan')\n",
    "    elif new_row['dst_type'] == 'registry':\n",
    "        # 使用 Key 字段\n",
    "        new_row['dst'] = new_row['dst_type'] + ':' + dst_node['Key']\n",
    "    elif new_row['dst_type'] == 'process':\n",
    "        # 处理 dst_node 中的 Cmdline\n",
    "        dst_cmdline = 'nan' if dst_node['Cmdline'] == 'None' else dst_node['Cmdline']\n",
    "        new_row['dst'] = new_row['dst_type'] + ':' + f'{dst_node[\"Pid\"]}&{dst_cmdline}'\n",
    "\n",
    "    # 替换空格 \n",
    "    new_row['src'] = new_row['src'].replace(' ', '_')\n",
    "    new_row['dst'] = new_row['dst'].replace(' ', '_')\n",
    "    \n",
    "    save_data.append(new_row)\n",
    "\n",
    "df_mapped = pd.DataFrame(save_data)\n",
    "print(df_mapped.shape)"
   ]
  },
  {
   "cell_type": "code",
   "execution_count": 93,
   "id": "e9dec2bd",
   "metadata": {},
   "outputs": [
    {
     "name": "stdout",
     "output_type": "stream",
     "text": [
      "src_uuid                 37E4A4E7-C628-4099-9058-D7D10B901512\n",
      "src         process:8120&\"C:\\Program_Files\\Mozilla_Firefox...\n",
      "dst_uuid                 3F3FCFE5-BA84-4DB1-A538-4A2674E5511D\n",
      "dst                                       network:nan&nan&nan\n",
      "relation                                             TCP Send\n",
      "dst_type                                              network\n",
      "label                                                  benign\n",
      "Name: 12000000, dtype: object\n"
     ]
    }
   ],
   "source": [
    "# df_mapped.head(10)\n",
    "row_12000000 = df_mapped.iloc[12000000]\n",
    "print(row_12000000)"
   ]
  },
  {
   "cell_type": "code",
   "execution_count": 89,
   "id": "cf80ce8a",
   "metadata": {},
   "outputs": [
    {
     "name": "stdout",
     "output_type": "stream",
     "text": [
      "0\n"
     ]
    }
   ],
   "source": [
    "save_data = list()\n",
    "\n",
    "print(len(save_data))"
   ]
  },
  {
   "cell_type": "code",
   "execution_count": 23,
   "id": "1f253cf0",
   "metadata": {},
   "outputs": [
    {
     "data": {
      "text/html": [
       "<div>\n",
       "<style scoped>\n",
       "    .dataframe tbody tr th:only-of-type {\n",
       "        vertical-align: middle;\n",
       "    }\n",
       "\n",
       "    .dataframe tbody tr th {\n",
       "        vertical-align: top;\n",
       "    }\n",
       "\n",
       "    .dataframe thead th {\n",
       "        text-align: right;\n",
       "    }\n",
       "</style>\n",
       "<table border=\"1\" class=\"dataframe\">\n",
       "  <thead>\n",
       "    <tr style=\"text-align: right;\">\n",
       "      <th></th>\n",
       "      <th>src_uuid</th>\n",
       "      <th>src</th>\n",
       "      <th>dst_uuid</th>\n",
       "      <th>dst</th>\n",
       "      <th>relation</th>\n",
       "      <th>dst_type</th>\n",
       "      <th>label</th>\n",
       "    </tr>\n",
       "  </thead>\n",
       "  <tbody>\n",
       "    <tr>\n",
       "      <th>0</th>\n",
       "      <td>966D983C-607E-4039-BEEF-5E76BC0A4DA8</td>\n",
       "      <td>process:9432&amp;nan</td>\n",
       "      <td>1987EE68-E918-4765-8082-3DE89890A305</td>\n",
       "      <td>file:nan</td>\n",
       "      <td>Process Create</td>\n",
       "      <td>file</td>\n",
       "      <td>benign</td>\n",
       "    </tr>\n",
       "    <tr>\n",
       "      <th>1</th>\n",
       "      <td>966D983C-607E-4039-BEEF-5E76BC0A4DA8</td>\n",
       "      <td>process:9432&amp;nan</td>\n",
       "      <td>1987EE68-E918-4765-8082-3DE89890A305</td>\n",
       "      <td>file:nan</td>\n",
       "      <td>Process Create</td>\n",
       "      <td>file</td>\n",
       "      <td>benign</td>\n",
       "    </tr>\n",
       "    <tr>\n",
       "      <th>2</th>\n",
       "      <td>966D983C-607E-4039-BEEF-5E76BC0A4DA8</td>\n",
       "      <td>process:9432&amp;nan</td>\n",
       "      <td>A6BD7B35-CACA-4557-BE82-33B752E35C00</td>\n",
       "      <td>file:nan</td>\n",
       "      <td>Process Create</td>\n",
       "      <td>file</td>\n",
       "      <td>benign</td>\n",
       "    </tr>\n",
       "    <tr>\n",
       "      <th>3</th>\n",
       "      <td>966D983C-607E-4039-BEEF-5E76BC0A4DA8</td>\n",
       "      <td>process:9432&amp;nan</td>\n",
       "      <td>A6BD7B35-CACA-4557-BE82-33B752E35C00</td>\n",
       "      <td>file:nan</td>\n",
       "      <td>Process Create</td>\n",
       "      <td>file</td>\n",
       "      <td>benign</td>\n",
       "    </tr>\n",
       "    <tr>\n",
       "      <th>4</th>\n",
       "      <td>966D983C-607E-4039-BEEF-5E76BC0A4DA8</td>\n",
       "      <td>process:9432&amp;nan</td>\n",
       "      <td>A6BD7B35-CACA-4557-BE82-33B752E35C00</td>\n",
       "      <td>file:nan</td>\n",
       "      <td>Process Create</td>\n",
       "      <td>file</td>\n",
       "      <td>benign</td>\n",
       "    </tr>\n",
       "    <tr>\n",
       "      <th>5</th>\n",
       "      <td>966D983C-607E-4039-BEEF-5E76BC0A4DA8</td>\n",
       "      <td>process:9432&amp;nan</td>\n",
       "      <td>A6BD7B35-CACA-4557-BE82-33B752E35C00</td>\n",
       "      <td>file:nan</td>\n",
       "      <td>CloseFile</td>\n",
       "      <td>file</td>\n",
       "      <td>benign</td>\n",
       "    </tr>\n",
       "    <tr>\n",
       "      <th>6</th>\n",
       "      <td>966D983C-607E-4039-BEEF-5E76BC0A4DA8</td>\n",
       "      <td>process:9432&amp;nan</td>\n",
       "      <td>A6BD7B35-CACA-4557-BE82-33B752E35C00</td>\n",
       "      <td>file:nan</td>\n",
       "      <td>CloseFile</td>\n",
       "      <td>file</td>\n",
       "      <td>benign</td>\n",
       "    </tr>\n",
       "    <tr>\n",
       "      <th>7</th>\n",
       "      <td>966D983C-607E-4039-BEEF-5E76BC0A4DA8</td>\n",
       "      <td>process:9432&amp;nan</td>\n",
       "      <td>A6BD7B35-CACA-4557-BE82-33B752E35C00</td>\n",
       "      <td>file:nan</td>\n",
       "      <td>CloseFile</td>\n",
       "      <td>file</td>\n",
       "      <td>benign</td>\n",
       "    </tr>\n",
       "    <tr>\n",
       "      <th>8</th>\n",
       "      <td>966D983C-607E-4039-BEEF-5E76BC0A4DA8</td>\n",
       "      <td>process:9432&amp;nan</td>\n",
       "      <td>F17B89A1-F883-41C2-B0FD-F4FD5B7C21A2</td>\n",
       "      <td>file:nan</td>\n",
       "      <td>CreateFile</td>\n",
       "      <td>file</td>\n",
       "      <td>benign</td>\n",
       "    </tr>\n",
       "    <tr>\n",
       "      <th>9</th>\n",
       "      <td>509DFF9D-9792-49A5-8DCC-F60F29425F5E</td>\n",
       "      <td>process:6128&amp;nan</td>\n",
       "      <td>084E9EFD-62AA-4FE4-B9DC-118DC1D0222F</td>\n",
       "      <td>file:nan</td>\n",
       "      <td>CreateFileMapping</td>\n",
       "      <td>file</td>\n",
       "      <td>benign</td>\n",
       "    </tr>\n",
       "  </tbody>\n",
       "</table>\n",
       "</div>"
      ],
      "text/plain": [
       "                               src_uuid               src                              dst_uuid       dst           relation dst_type   label\n",
       "0  966D983C-607E-4039-BEEF-5E76BC0A4DA8  process:9432&nan  1987EE68-E918-4765-8082-3DE89890A305  file:nan     Process Create     file  benign\n",
       "1  966D983C-607E-4039-BEEF-5E76BC0A4DA8  process:9432&nan  1987EE68-E918-4765-8082-3DE89890A305  file:nan     Process Create     file  benign\n",
       "2  966D983C-607E-4039-BEEF-5E76BC0A4DA8  process:9432&nan  A6BD7B35-CACA-4557-BE82-33B752E35C00  file:nan     Process Create     file  benign\n",
       "3  966D983C-607E-4039-BEEF-5E76BC0A4DA8  process:9432&nan  A6BD7B35-CACA-4557-BE82-33B752E35C00  file:nan     Process Create     file  benign\n",
       "4  966D983C-607E-4039-BEEF-5E76BC0A4DA8  process:9432&nan  A6BD7B35-CACA-4557-BE82-33B752E35C00  file:nan     Process Create     file  benign\n",
       "5  966D983C-607E-4039-BEEF-5E76BC0A4DA8  process:9432&nan  A6BD7B35-CACA-4557-BE82-33B752E35C00  file:nan          CloseFile     file  benign\n",
       "6  966D983C-607E-4039-BEEF-5E76BC0A4DA8  process:9432&nan  A6BD7B35-CACA-4557-BE82-33B752E35C00  file:nan          CloseFile     file  benign\n",
       "7  966D983C-607E-4039-BEEF-5E76BC0A4DA8  process:9432&nan  A6BD7B35-CACA-4557-BE82-33B752E35C00  file:nan          CloseFile     file  benign\n",
       "8  966D983C-607E-4039-BEEF-5E76BC0A4DA8  process:9432&nan  F17B89A1-F883-41C2-B0FD-F4FD5B7C21A2  file:nan         CreateFile     file  benign\n",
       "9  509DFF9D-9792-49A5-8DCC-F60F29425F5E  process:6128&nan  084E9EFD-62AA-4FE4-B9DC-118DC1D0222F  file:nan  CreateFileMapping     file  benign"
      ]
     },
     "execution_count": 23,
     "metadata": {},
     "output_type": "execute_result"
    }
   ],
   "source": [
    "df_mapped.head(10)"
   ]
  },
  {
   "cell_type": "markdown",
   "id": "f1d4fbe8",
   "metadata": {},
   "source": [
    "## entity2id.txt, relation2id, entity2id_objType.txt, relation2id_type.txt"
   ]
  },
  {
   "cell_type": "markdown",
   "id": "d965f1ef",
   "metadata": {},
   "source": [
    "- entity set is the unique source  \n",
    "- relation set is the unique relation"
   ]
  },
  {
   "cell_type": "code",
   "execution_count": 24,
   "id": "d7e5268b",
   "metadata": {},
   "outputs": [
    {
     "name": "stdout",
     "output_type": "stream",
     "text": [
      "26868\n",
      "23\n"
     ]
    }
   ],
   "source": [
    "entity_set = set(df_mapped['src']).union(set(df['dst']))\n",
    "relation_set = set(df_mapped['relation'])\n",
    "print(len(entity_set))\n",
    "print(len(relation_set))"
   ]
  },
  {
   "cell_type": "code",
   "execution_count": 30,
   "id": "e473503e",
   "metadata": {},
   "outputs": [
    {
     "name": "stdout",
     "output_type": "stream",
     "text": [
      "{'process', 'registry', 'file', 'network'}\n",
      "Saved ./data/3_openKE/synthesize/entity2id.txt\n",
      "Saved ./data/3_openKE/synthesize/entity2id_objType.txt\n",
      "Saved ./data/3_openKE/synthesize/relation2id.txt\n",
      "Saved ./data/3_openKE/synthesize/relation2id_type.txt\n"
     ]
    }
   ],
   "source": [
    "def save_entity2id(entity_set):\n",
    "    entity_idx_dict = dict()\n",
    "    msg = f'{len(entity_set)}\\n'\n",
    "    msg2 = f'{len(entity_set)}\\n'\n",
    "    obj_types = set()\n",
    "    for idx, entity in enumerate(entity_set):\n",
    "        tmp = entity.split(':')\n",
    "        obj_type = tmp[0]\n",
    "        entity = ':'.join(tmp[1:])\n",
    "        obj_types.add(obj_type)\n",
    "        entity = str(entity).replace(' ', '_')\n",
    "#         if entity in entity_idx_dict:\n",
    "#             print('new:', idx, entity, obj_type)\n",
    "#             print('existed:', entity_idx_dict[entity], entity_obj_dict[entity])\n",
    "        if entity in entity_idx_dict:\n",
    "            print('new:', idx, entity, obj_type)\n",
    "            print('existed:', entity_idx_dict[entity])\n",
    "        msg += f'{entity}\\t{idx}\\n'\n",
    "        msg2 += f'{obj_type}\\t{idx}\\n'\n",
    "        entity_idx_dict[entity] = idx\n",
    "#         entity_obj_dict[entity] = obj_type\n",
    "    print(obj_types)\n",
    "\n",
    "    with open(f'{OUTPUT_PATH}/entity2id.txt','w') as f:\n",
    "        f.write(msg.strip())\n",
    "    with open(f'{OUTPUT_PATH}/entity2id_objType.txt','w') as f:\n",
    "        f.write(msg2.strip())\n",
    "    print(f'Saved {OUTPUT_PATH}/entity2id.txt')\n",
    "    print(f'Saved {OUTPUT_PATH}/entity2id_objType.txt')\n",
    "    \n",
    "    return entity_idx_dict\n",
    "\n",
    "\n",
    "def save_relation2id(relation_set, yaml_mapping):\n",
    "    relation_idx_dict = dict()\n",
    "    with open(f'{OUTPUT_PATH}/relation2id.txt', 'w') as f, \\\n",
    "         open(f'{OUTPUT_PATH}/relation2id_type.txt', 'w') as f_type:\n",
    "        \n",
    "        msg = f'{len(relation_set)}\\n'\n",
    "        msg_type = f'{len(relation_set)}\\n'\n",
    "\n",
    "        # 创建一个反向映射，将合成的关系名称映射到其类型\n",
    "        reverse_mapping = {}\n",
    "        for object_type, relations in yaml_mapping.items():\n",
    "            for darpa_rel, synth_rel in relations['relation'].items():\n",
    "                # 将下划线替换为空格\n",
    "                synth_rel = synth_rel.replace('_', ' ')\n",
    "                reverse_mapping[synth_rel] = object_type\n",
    "\n",
    "        for idx, relation in enumerate(relation_set):\n",
    "            # 将下划线替换为空格\n",
    "            relation = relation.replace('_', ' ')\n",
    "            rel_type = reverse_mapping.get(relation, 'unknown')  # 如果找不到类型，则使用 'unknown'\n",
    "\n",
    "            msg += f'{relation}\\t{idx}\\n'\n",
    "            msg_type += f'{rel_type}\\t{idx}\\n'\n",
    "            relation_idx_dict[relation] = idx\n",
    "\n",
    "        f.write(msg.strip())\n",
    "        f_type.write(msg_type.strip())\n",
    "\n",
    "    print(f'Saved {OUTPUT_PATH}/relation2id.txt')\n",
    "    print(f'Saved {OUTPUT_PATH}/relation2id_type.txt')\n",
    "    return relation_idx_dict\n",
    "\n",
    "entity_id_dict = save_entity2id(entity_set)\n",
    "rel_id_dict = save_relation2id(relation_set, yaml_file)"
   ]
  },
  {
   "cell_type": "code",
   "execution_count": 26,
   "id": "6a5b2429",
   "metadata": {},
   "outputs": [
    {
     "name": "stdout",
     "output_type": "stream",
     "text": [
      "26868\n"
     ]
    }
   ],
   "source": [
    "print(len(entity_id_dict))"
   ]
  },
  {
   "cell_type": "code",
   "execution_count": null,
   "id": "4b884da9",
   "metadata": {},
   "outputs": [],
   "source": []
  },
  {
   "cell_type": "markdown",
   "id": "2d54700d",
   "metadata": {},
   "source": [
    "## train2id.txt, valid2id.txt, test2id.txt, train2id_labels.txt, valid2id_labels.txt, test2id_labels.txt"
   ]
  },
  {
   "cell_type": "code",
   "execution_count": 32,
   "id": "98552205",
   "metadata": {},
   "outputs": [
    {
     "name": "stdout",
     "output_type": "stream",
     "text": [
      "42899811\n"
     ]
    },
    {
     "data": {
      "application/vnd.jupyter.widget-view+json": {
       "model_id": "a37824dd3656484fb2966083ac7c46bc",
       "version_major": 2,
       "version_minor": 0
      },
      "text/plain": [
       "  0%|          | 0/30 [00:00<?, ?it/s]"
      ]
     },
     "metadata": {},
     "output_type": "display_data"
    },
    {
     "name": "stdout",
     "output_type": "stream",
     "text": [
      "benign,benign,benign,benign,benign,benign,benign,benign,benign,benign,benign,benign,benign,benign,benign,benign,benign,benign,benign,benign,benign,benign,benign,benign,benign,benign,benign,benign,benign,benign,"
     ]
    }
   ],
   "source": [
    "triplets = list(zip(df_mapped['src'],df_mapped['dst'],df_mapped['relation'],df_mapped['dst_type'],df_mapped['label']))\n",
    "print(len(triplets))\n",
    "\n",
    "for t in tqdm(triplets[:30]):\n",
    "    print(t[4], end=',')"
   ]
  },
  {
   "cell_type": "code",
   "execution_count": 35,
   "id": "81754a52",
   "metadata": {},
   "outputs": [
    {
     "data": {
      "application/vnd.jupyter.widget-view+json": {
       "model_id": "",
       "version_major": 2,
       "version_minor": 0
      },
      "text/plain": [
       "  0%|          | 0/42899811 [00:00<?, ?it/s]"
      ]
     },
     "metadata": {},
     "output_type": "display_data"
    },
    {
     "data": {
      "text/plain": [
       "42899811"
      ]
     },
     "execution_count": 35,
     "metadata": {},
     "output_type": "execute_result"
    }
   ],
   "source": [
    "new_triplets = list()\n",
    "for triplet in tqdm(triplets):\n",
    "    src_entity = str(':'.join(triplet[0].split(':')[1:])).replace(' ', '_')\n",
    "    dst_entity = str(':'.join(triplet[1].split(':')[1:])).replace(' ', '_')\n",
    "\n",
    "    # 使用空格而不是下划线来匹配 rel_id_dict\n",
    "    relation = triplet[2].replace('_', ' ')\n",
    "\n",
    "    new_triplets.append((\n",
    "        entity_id_dict[src_entity],\n",
    "        entity_id_dict[dst_entity],\n",
    "        rel_id_dict[relation],  # 使用修改后的关系名称\n",
    "        triplet[3],\n",
    "        triplet[4]\n",
    "    ))\n",
    "\n",
    "len(new_triplets)\n"
   ]
  },
  {
   "cell_type": "code",
   "execution_count": 38,
   "id": "044a5833",
   "metadata": {},
   "outputs": [
    {
     "name": "stdout",
     "output_type": "stream",
     "text": [
      "[(7042, 8575, 1, 'file', 'benign'), (7042, 8575, 1, 'file', 'benign'), (7042, 8575, 1, 'file', 'benign'), (7042, 8575, 1, 'file', 'benign'), (7042, 8575, 1, 'file', 'benign')]\n"
     ]
    }
   ],
   "source": [
    "print(new_triplets[:5])"
   ]
  },
  {
   "cell_type": "code",
   "execution_count": 33,
   "id": "605e2554",
   "metadata": {},
   "outputs": [
    {
     "data": {
      "text/plain": [
       "[('benign', 42898977), ('attack', 834)]"
      ]
     },
     "execution_count": 33,
     "metadata": {},
     "output_type": "execute_result"
    }
   ],
   "source": [
    "from collections import Counter\n",
    "Counter(df_mapped['label']).most_common()"
   ]
  },
  {
   "cell_type": "code",
   "execution_count": 39,
   "id": "50cea946",
   "metadata": {},
   "outputs": [],
   "source": [
    "# new_triplets = list()\n",
    "# for triplet in tqdm(triplets):\n",
    "#     src_entity = str(':'.join(triplet[0].split(':')[1:])).replace(' ', '_')\n",
    "#     dst_entity = str(':'.join(triplet[1].split(':')[1:])).replace(' ', '_')\n",
    "#     new_triplets.append((\n",
    "#         entity_id_dict[src_entity],\n",
    "#         entity_id_dict[dst_entity],\n",
    "#         rel_id_dict[triplet[2].replace(' ', '_')],\n",
    "#         triplet[3],\n",
    "#         triplet[4]\n",
    "#     ))\n",
    "# len(new_triplets)"
   ]
  },
  {
   "cell_type": "code",
   "execution_count": 40,
   "id": "20d358e1",
   "metadata": {
    "scrolled": true
   },
   "outputs": [
    {
     "name": "stdout",
     "output_type": "stream",
     "text": [
      "train_dataset.shape: (42899811, 5) (1)\n",
      "valid_dataset.shape: (4289981, 5) (0.1)\n",
      "test_dataset.shape: (4289982, 5) (0.1)\n"
     ]
    }
   ],
   "source": [
    "TRAIN_SIZE = 1\n",
    "VALID_SIZE = 0.1\n",
    "TEST_SIZE = 0.1\n",
    "train_dataset = np.array(new_triplets)\n",
    "_, tmp = train_test_split(train_dataset, test_size=VALID_SIZE+TEST_SIZE, shuffle=True)\n",
    "valid_dataset, test_dataset = train_test_split(tmp, test_size=TEST_SIZE/(VALID_SIZE+TEST_SIZE),shuffle=True)\n",
    "print(f'train_dataset.shape: {train_dataset.shape} ({TRAIN_SIZE})')\n",
    "print(f'valid_dataset.shape: {valid_dataset.shape} ({VALID_SIZE})')\n",
    "print(f'test_dataset.shape: {test_dataset.shape} ({TEST_SIZE})')"
   ]
  },
  {
   "cell_type": "code",
   "execution_count": 41,
   "id": "08d3de7a",
   "metadata": {},
   "outputs": [
    {
     "name": "stdout",
     "output_type": "stream",
     "text": [
      "Saved ./data/3_openKE/synthesize/train2id.txt\n",
      "Saved ./data/3_openKE/synthesize/train2id_label.txt\n",
      "Saved ./data/3_openKE/synthesize/valid2id.txt\n",
      "Saved ./data/3_openKE/synthesize/valid2id_label.txt\n",
      "Saved ./data/3_openKE/synthesize/test2id.txt\n",
      "Saved ./data/3_openKE/synthesize/test2id_label.txt\n"
     ]
    }
   ],
   "source": [
    "def save_2id_txt(data, ent_fname, ent_label_fname):\n",
    "    msg = f'{len(data)}\\n'\n",
    "    msg2 = f'{len(data)}\\n'\n",
    "    for ids in data:\n",
    "        msg += f'{ids[0]} {ids[1]} {ids[2]}\\n'\n",
    "        msg2 += f'{ids[3]} {ids[4]}\\n'\n",
    "    with open(f'{OUTPUT_PATH}/{ent_fname}', 'w') as f:\n",
    "        f.write(msg.strip())\n",
    "    print(f'Saved {OUTPUT_PATH}/{ent_fname}')\n",
    "    with open(f'{OUTPUT_PATH}/{ent_label_fname}', 'w') as f:\n",
    "        f.write(msg2.strip())\n",
    "    print(f'Saved {OUTPUT_PATH}/{ent_label_fname}')\n",
    "\n",
    "save_2id_txt(train_dataset, 'train2id.txt', 'train2id_label.txt')\n",
    "save_2id_txt(valid_dataset, 'valid2id.txt', 'valid2id_label.txt')\n",
    "save_2id_txt(test_dataset, 'test2id.txt', 'test2id_label.txt')"
   ]
  },
  {
   "cell_type": "code",
   "execution_count": null,
   "id": "401f7fe4",
   "metadata": {},
   "outputs": [],
   "source": []
  },
  {
   "cell_type": "code",
   "execution_count": null,
   "id": "076463c7",
   "metadata": {},
   "outputs": [],
   "source": []
  }
 ],
 "metadata": {
  "kernelspec": {
   "display_name": "Python 3",
   "language": "python",
   "name": "python3"
  },
  "language_info": {
   "codemirror_mode": {
    "name": "ipython",
    "version": 3
   },
   "file_extension": ".py",
   "mimetype": "text/x-python",
   "name": "python",
   "nbconvert_exporter": "python",
   "pygments_lexer": "ipython3",
   "version": "3.6.9"
  }
 },
 "nbformat": 4,
 "nbformat_minor": 5
}
