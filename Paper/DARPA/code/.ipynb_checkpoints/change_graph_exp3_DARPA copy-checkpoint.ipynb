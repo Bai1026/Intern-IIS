{
 "cells": [
  {
   "cell_type": "markdown",
   "metadata": {},
   "source": [
    "### For turn the graph in the 1000 folder with 400 folders with graph into the graph.jsonl"
   ]
  },
  {
   "cell_type": "code",
   "execution_count": 1,
   "metadata": {
    "scrolled": true
   },
   "outputs": [],
   "source": [
    "import os\n",
    "import json\n",
    "from tqdm.notebook import tqdm\n",
    "import logging \n",
    "\n",
    "def process_data(data_lines):\n",
    "    node_to_index = {}\n",
    "    nodes = set()\n",
    "    edges = []\n",
    "    edge_attrs = []\n",
    "    labels = []\n",
    "    \n",
    "    # for line in tqdm(data_lines, desc=\"Processing lines\"):\n",
    "    for line in data_lines:\n",
    "        try:\n",
    "            parts = line.strip().split()\n",
    "            source_node = int(parts[0])\n",
    "            dest_node = int(parts[1])\n",
    "            edge_id = int(parts[2])\n",
    "            label = parts[3]  # 0 means benign, 1 means malicious\n",
    "\n",
    "            nodes.add(source_node)\n",
    "            nodes.add(dest_node)\n",
    "            edges.append([source_node, dest_node])\n",
    "            edge_attrs.append(edge_id)\n",
    "            labels.append(label)\n",
    "        except Exception as e:\n",
    "            print(f\"Error processing line: {line}\\nError: {e}\")\n",
    "            continue\n",
    "    \n",
    "    for index, node in enumerate(nodes):\n",
    "        node_to_index[node] = index\n",
    "\n",
    "    edges = [[node_to_index[edge[0]], node_to_index[edge[1]]] for edge in edges]\n",
    "    edges = list(zip(*edges))\n",
    "    \n",
    "    return {\n",
    "        \"labels\": labels,\n",
    "        \"num_nodes\": len(nodes),\n",
    "        \"node_feat\": list(nodes),\n",
    "        \"edge_attr\": edge_attrs,\n",
    "        \"edge_index\": edges\n",
    "    }\n",
    "\n",
    "\n",
    "def read_data_from_file(file_path):\n",
    "    with open(file_path, 'r', encoding='utf-8') as file:\n",
    "        return file.readlines()\n",
    "\n",
    "\n"
   ]
  },
  {
   "cell_type": "markdown",
   "metadata": {},
   "source": [
    "- The version for small amount of folders"
   ]
  },
  {
   "cell_type": "code",
   "execution_count": 3,
   "metadata": {
    "scrolled": true
   },
   "outputs": [
    {
     "data": {
      "application/vnd.jupyter.widget-view+json": {
       "model_id": "a41a3ddd9ae84912acb26d9eea3bfab7",
       "version_major": 2,
       "version_minor": 0
      },
      "text/plain": [
       "Handling Subfolders:   0%|          | 0/50 [00:00<?, ?it/s]"
      ]
     },
     "metadata": {},
     "output_type": "display_data"
    },
    {
     "data": {
      "application/vnd.jupyter.widget-view+json": {
       "model_id": "37f98b4d72d64b55ac6c52cb124cfbfc",
       "version_major": 2,
       "version_minor": 0
      },
      "text/plain": [
       "Handling Subsubfolders:   0%|          | 0/400 [00:00<?, ?it/s]"
      ]
     },
     "metadata": {},
     "output_type": "display_data"
    },
    {
     "data": {
      "application/vnd.jupyter.widget-view+json": {
       "model_id": "5b9ce69990ef4ccabdcb73f4de5af1d5",
       "version_major": 2,
       "version_minor": 0
      },
      "text/plain": [
       "Handling Subsubfolders:   0%|          | 0/400 [00:00<?, ?it/s]"
      ]
     },
     "metadata": {},
     "output_type": "display_data"
    },
    {
     "data": {
      "application/vnd.jupyter.widget-view+json": {
       "model_id": "2f92ea7aa9f74472a1abba40af2e19bf",
       "version_major": 2,
       "version_minor": 0
      },
      "text/plain": [
       "Handling Subsubfolders:   0%|          | 0/400 [00:00<?, ?it/s]"
      ]
     },
     "metadata": {},
     "output_type": "display_data"
    },
    {
     "data": {
      "application/vnd.jupyter.widget-view+json": {
       "model_id": "d7712f2066b849be98f6a6fb52819047",
       "version_major": 2,
       "version_minor": 0
      },
      "text/plain": [
       "Handling Subsubfolders:   0%|          | 0/400 [00:00<?, ?it/s]"
      ]
     },
     "metadata": {},
     "output_type": "display_data"
    },
    {
     "data": {
      "application/vnd.jupyter.widget-view+json": {
       "model_id": "334b283c29414239875b8cc53ef33e27",
       "version_major": 2,
       "version_minor": 0
      },
      "text/plain": [
       "Handling Subsubfolders:   0%|          | 0/400 [00:00<?, ?it/s]"
      ]
     },
     "metadata": {},
     "output_type": "display_data"
    },
    {
     "data": {
      "application/vnd.jupyter.widget-view+json": {
       "model_id": "9892a8f8aa0d4b3880d79b696322ddf4",
       "version_major": 2,
       "version_minor": 0
      },
      "text/plain": [
       "Handling Subsubfolders:   0%|          | 0/400 [00:00<?, ?it/s]"
      ]
     },
     "metadata": {},
     "output_type": "display_data"
    },
    {
     "data": {
      "application/vnd.jupyter.widget-view+json": {
       "model_id": "9caf62d4b79348a48c549556b4aeea92",
       "version_major": 2,
       "version_minor": 0
      },
      "text/plain": [
       "Handling Subsubfolders:   0%|          | 0/400 [00:00<?, ?it/s]"
      ]
     },
     "metadata": {},
     "output_type": "display_data"
    },
    {
     "data": {
      "application/vnd.jupyter.widget-view+json": {
       "model_id": "61a039cfa1ca40429058013ed80f3230",
       "version_major": 2,
       "version_minor": 0
      },
      "text/plain": [
       "Handling Subsubfolders:   0%|          | 0/400 [00:00<?, ?it/s]"
      ]
     },
     "metadata": {},
     "output_type": "display_data"
    },
    {
     "data": {
      "application/vnd.jupyter.widget-view+json": {
       "model_id": "95facc1be32e40a8bb52a1e8018533e4",
       "version_major": 2,
       "version_minor": 0
      },
      "text/plain": [
       "Handling Subsubfolders:   0%|          | 0/400 [00:00<?, ?it/s]"
      ]
     },
     "metadata": {},
     "output_type": "display_data"
    },
    {
     "data": {
      "application/vnd.jupyter.widget-view+json": {
       "model_id": "01afa6b3400945f4b594805015f397cc",
       "version_major": 2,
       "version_minor": 0
      },
      "text/plain": [
       "Handling Subsubfolders:   0%|          | 0/400 [00:00<?, ?it/s]"
      ]
     },
     "metadata": {},
     "output_type": "display_data"
    },
    {
     "data": {
      "application/vnd.jupyter.widget-view+json": {
       "model_id": "bbbedc18fea3457382eb1cedc6f4c749",
       "version_major": 2,
       "version_minor": 0
      },
      "text/plain": [
       "Handling Subsubfolders:   0%|          | 0/400 [00:00<?, ?it/s]"
      ]
     },
     "metadata": {},
     "output_type": "display_data"
    },
    {
     "data": {
      "application/vnd.jupyter.widget-view+json": {
       "model_id": "2a50b45c30e14a54ae3311fd76923509",
       "version_major": 2,
       "version_minor": 0
      },
      "text/plain": [
       "Handling Subsubfolders:   0%|          | 0/400 [00:00<?, ?it/s]"
      ]
     },
     "metadata": {},
     "output_type": "display_data"
    },
    {
     "data": {
      "application/vnd.jupyter.widget-view+json": {
       "model_id": "4d2849b36cd74180a8d9bf2ab7505b8c",
       "version_major": 2,
       "version_minor": 0
      },
      "text/plain": [
       "Handling Subsubfolders:   0%|          | 0/400 [00:00<?, ?it/s]"
      ]
     },
     "metadata": {},
     "output_type": "display_data"
    },
    {
     "data": {
      "application/vnd.jupyter.widget-view+json": {
       "model_id": "d7b6d2ab1f0d4950b666c053e3e3a752",
       "version_major": 2,
       "version_minor": 0
      },
      "text/plain": [
       "Handling Subsubfolders:   0%|          | 0/400 [00:00<?, ?it/s]"
      ]
     },
     "metadata": {},
     "output_type": "display_data"
    },
    {
     "data": {
      "application/vnd.jupyter.widget-view+json": {
       "model_id": "372b54e9d50747918637d9fb986d503b",
       "version_major": 2,
       "version_minor": 0
      },
      "text/plain": [
       "Handling Subsubfolders:   0%|          | 0/400 [00:00<?, ?it/s]"
      ]
     },
     "metadata": {},
     "output_type": "display_data"
    },
    {
     "data": {
      "application/vnd.jupyter.widget-view+json": {
       "model_id": "2aa6ea941e474341888287365baf67f7",
       "version_major": 2,
       "version_minor": 0
      },
      "text/plain": [
       "Handling Subsubfolders:   0%|          | 0/400 [00:00<?, ?it/s]"
      ]
     },
     "metadata": {},
     "output_type": "display_data"
    },
    {
     "data": {
      "application/vnd.jupyter.widget-view+json": {
       "model_id": "a2c6e43b865e4079b4cdcfa2a7bed0e1",
       "version_major": 2,
       "version_minor": 0
      },
      "text/plain": [
       "Handling Subsubfolders:   0%|          | 0/400 [00:00<?, ?it/s]"
      ]
     },
     "metadata": {},
     "output_type": "display_data"
    },
    {
     "data": {
      "application/vnd.jupyter.widget-view+json": {
       "model_id": "cec4f6cf90364baa94d31f6f7feab446",
       "version_major": 2,
       "version_minor": 0
      },
      "text/plain": [
       "Handling Subsubfolders:   0%|          | 0/400 [00:00<?, ?it/s]"
      ]
     },
     "metadata": {},
     "output_type": "display_data"
    },
    {
     "data": {
      "application/vnd.jupyter.widget-view+json": {
       "model_id": "35ce92450e7746c6b2aef7c7ce1a7df5",
       "version_major": 2,
       "version_minor": 0
      },
      "text/plain": [
       "Handling Subsubfolders:   0%|          | 0/400 [00:00<?, ?it/s]"
      ]
     },
     "metadata": {},
     "output_type": "display_data"
    },
    {
     "data": {
      "application/vnd.jupyter.widget-view+json": {
       "model_id": "2d0d77a09f59428f94f60a172f1d92b3",
       "version_major": 2,
       "version_minor": 0
      },
      "text/plain": [
       "Handling Subsubfolders:   0%|          | 0/400 [00:00<?, ?it/s]"
      ]
     },
     "metadata": {},
     "output_type": "display_data"
    },
    {
     "data": {
      "application/vnd.jupyter.widget-view+json": {
       "model_id": "7ce906a7fa42499db528bf7fd1ad92ca",
       "version_major": 2,
       "version_minor": 0
      },
      "text/plain": [
       "Handling Subsubfolders:   0%|          | 0/400 [00:00<?, ?it/s]"
      ]
     },
     "metadata": {},
     "output_type": "display_data"
    },
    {
     "data": {
      "application/vnd.jupyter.widget-view+json": {
       "model_id": "77c6fdb1e0e24f5b802f3ccfbb2a5740",
       "version_major": 2,
       "version_minor": 0
      },
      "text/plain": [
       "Handling Subsubfolders:   0%|          | 0/400 [00:00<?, ?it/s]"
      ]
     },
     "metadata": {},
     "output_type": "display_data"
    },
    {
     "data": {
      "application/vnd.jupyter.widget-view+json": {
       "model_id": "7dd3fbc6b4544185a9640d46ebc4f14a",
       "version_major": 2,
       "version_minor": 0
      },
      "text/plain": [
       "Handling Subsubfolders:   0%|          | 0/400 [00:00<?, ?it/s]"
      ]
     },
     "metadata": {},
     "output_type": "display_data"
    },
    {
     "data": {
      "application/vnd.jupyter.widget-view+json": {
       "model_id": "f4a1734496a64ccca51b0fab5daa40f2",
       "version_major": 2,
       "version_minor": 0
      },
      "text/plain": [
       "Handling Subsubfolders:   0%|          | 0/400 [00:00<?, ?it/s]"
      ]
     },
     "metadata": {},
     "output_type": "display_data"
    },
    {
     "data": {
      "application/vnd.jupyter.widget-view+json": {
       "model_id": "4900adba08ae444cadffa865c0aea1ad",
       "version_major": 2,
       "version_minor": 0
      },
      "text/plain": [
       "Handling Subsubfolders:   0%|          | 0/400 [00:00<?, ?it/s]"
      ]
     },
     "metadata": {},
     "output_type": "display_data"
    },
    {
     "data": {
      "application/vnd.jupyter.widget-view+json": {
       "model_id": "437a4f22dcfd439595e26145c112c35e",
       "version_major": 2,
       "version_minor": 0
      },
      "text/plain": [
       "Handling Subsubfolders:   0%|          | 0/400 [00:00<?, ?it/s]"
      ]
     },
     "metadata": {},
     "output_type": "display_data"
    },
    {
     "data": {
      "application/vnd.jupyter.widget-view+json": {
       "model_id": "d65b098d2e33487b8533086c78be9665",
       "version_major": 2,
       "version_minor": 0
      },
      "text/plain": [
       "Handling Subsubfolders:   0%|          | 0/400 [00:00<?, ?it/s]"
      ]
     },
     "metadata": {},
     "output_type": "display_data"
    },
    {
     "data": {
      "application/vnd.jupyter.widget-view+json": {
       "model_id": "3ba0a7492f59455cafb7e0df7be98156",
       "version_major": 2,
       "version_minor": 0
      },
      "text/plain": [
       "Handling Subsubfolders:   0%|          | 0/400 [00:00<?, ?it/s]"
      ]
     },
     "metadata": {},
     "output_type": "display_data"
    },
    {
     "data": {
      "application/vnd.jupyter.widget-view+json": {
       "model_id": "dbd07c8546134a979c4ff336f84b761f",
       "version_major": 2,
       "version_minor": 0
      },
      "text/plain": [
       "Handling Subsubfolders:   0%|          | 0/400 [00:00<?, ?it/s]"
      ]
     },
     "metadata": {},
     "output_type": "display_data"
    },
    {
     "data": {
      "application/vnd.jupyter.widget-view+json": {
       "model_id": "d37cba3bcfc64e2b9eb9abadccb3d52e",
       "version_major": 2,
       "version_minor": 0
      },
      "text/plain": [
       "Handling Subsubfolders:   0%|          | 0/400 [00:00<?, ?it/s]"
      ]
     },
     "metadata": {},
     "output_type": "display_data"
    },
    {
     "data": {
      "application/vnd.jupyter.widget-view+json": {
       "model_id": "a8547532715845228ad3689a88fcfd04",
       "version_major": 2,
       "version_minor": 0
      },
      "text/plain": [
       "Handling Subsubfolders:   0%|          | 0/400 [00:00<?, ?it/s]"
      ]
     },
     "metadata": {},
     "output_type": "display_data"
    },
    {
     "data": {
      "application/vnd.jupyter.widget-view+json": {
       "model_id": "978b9d9834e048b59f0fd6656b971d3a",
       "version_major": 2,
       "version_minor": 0
      },
      "text/plain": [
       "Handling Subsubfolders:   0%|          | 0/400 [00:00<?, ?it/s]"
      ]
     },
     "metadata": {},
     "output_type": "display_data"
    },
    {
     "data": {
      "application/vnd.jupyter.widget-view+json": {
       "model_id": "e0d34072bc5044269079d3d542efb037",
       "version_major": 2,
       "version_minor": 0
      },
      "text/plain": [
       "Handling Subsubfolders:   0%|          | 0/400 [00:00<?, ?it/s]"
      ]
     },
     "metadata": {},
     "output_type": "display_data"
    },
    {
     "data": {
      "application/vnd.jupyter.widget-view+json": {
       "model_id": "7f8be2a900ff4ad5b15f11231ddfcd2c",
       "version_major": 2,
       "version_minor": 0
      },
      "text/plain": [
       "Handling Subsubfolders:   0%|          | 0/400 [00:00<?, ?it/s]"
      ]
     },
     "metadata": {},
     "output_type": "display_data"
    },
    {
     "data": {
      "application/vnd.jupyter.widget-view+json": {
       "model_id": "fce707e1a02e421db7528c6f0d623756",
       "version_major": 2,
       "version_minor": 0
      },
      "text/plain": [
       "Handling Subsubfolders:   0%|          | 0/400 [00:00<?, ?it/s]"
      ]
     },
     "metadata": {},
     "output_type": "display_data"
    },
    {
     "data": {
      "application/vnd.jupyter.widget-view+json": {
       "model_id": "41b10a08b2ac4d4e898a8a2c6ee72fb4",
       "version_major": 2,
       "version_minor": 0
      },
      "text/plain": [
       "Handling Subsubfolders:   0%|          | 0/400 [00:00<?, ?it/s]"
      ]
     },
     "metadata": {},
     "output_type": "display_data"
    },
    {
     "data": {
      "application/vnd.jupyter.widget-view+json": {
       "model_id": "7622c03d6606426da81e3d9300574c50",
       "version_major": 2,
       "version_minor": 0
      },
      "text/plain": [
       "Handling Subsubfolders:   0%|          | 0/400 [00:00<?, ?it/s]"
      ]
     },
     "metadata": {},
     "output_type": "display_data"
    },
    {
     "data": {
      "application/vnd.jupyter.widget-view+json": {
       "model_id": "a02cc23d68fb40d8b646ea32dea2a4f5",
       "version_major": 2,
       "version_minor": 0
      },
      "text/plain": [
       "Handling Subsubfolders:   0%|          | 0/400 [00:00<?, ?it/s]"
      ]
     },
     "metadata": {},
     "output_type": "display_data"
    },
    {
     "data": {
      "application/vnd.jupyter.widget-view+json": {
       "model_id": "14e61a27e44549e1b8e5371db203cecc",
       "version_major": 2,
       "version_minor": 0
      },
      "text/plain": [
       "Handling Subsubfolders:   0%|          | 0/400 [00:00<?, ?it/s]"
      ]
     },
     "metadata": {},
     "output_type": "display_data"
    },
    {
     "data": {
      "application/vnd.jupyter.widget-view+json": {
       "model_id": "fd7311fdb7d2452a92aacc3e7333365c",
       "version_major": 2,
       "version_minor": 0
      },
      "text/plain": [
       "Handling Subsubfolders:   0%|          | 0/400 [00:00<?, ?it/s]"
      ]
     },
     "metadata": {},
     "output_type": "display_data"
    },
    {
     "data": {
      "application/vnd.jupyter.widget-view+json": {
       "model_id": "33090e7f3a89449f95d44d155cc3137e",
       "version_major": 2,
       "version_minor": 0
      },
      "text/plain": [
       "Handling Subsubfolders:   0%|          | 0/400 [00:00<?, ?it/s]"
      ]
     },
     "metadata": {},
     "output_type": "display_data"
    },
    {
     "data": {
      "application/vnd.jupyter.widget-view+json": {
       "model_id": "96c7f395b6c84278b74e0198f698422f",
       "version_major": 2,
       "version_minor": 0
      },
      "text/plain": [
       "Handling Subsubfolders:   0%|          | 0/400 [00:00<?, ?it/s]"
      ]
     },
     "metadata": {},
     "output_type": "display_data"
    },
    {
     "data": {
      "application/vnd.jupyter.widget-view+json": {
       "model_id": "a58a8a86651c41dbb57a74b002893d62",
       "version_major": 2,
       "version_minor": 0
      },
      "text/plain": [
       "Handling Subsubfolders:   0%|          | 0/400 [00:00<?, ?it/s]"
      ]
     },
     "metadata": {},
     "output_type": "display_data"
    },
    {
     "data": {
      "application/vnd.jupyter.widget-view+json": {
       "model_id": "3df3ef8ca3f54d19a7374fa43b6c068e",
       "version_major": 2,
       "version_minor": 0
      },
      "text/plain": [
       "Handling Subsubfolders:   0%|          | 0/400 [00:00<?, ?it/s]"
      ]
     },
     "metadata": {},
     "output_type": "display_data"
    },
    {
     "data": {
      "application/vnd.jupyter.widget-view+json": {
       "model_id": "d6a9ad5b7b9044d4a147e4c02f1e6f73",
       "version_major": 2,
       "version_minor": 0
      },
      "text/plain": [
       "Handling Subsubfolders:   0%|          | 0/400 [00:00<?, ?it/s]"
      ]
     },
     "metadata": {},
     "output_type": "display_data"
    },
    {
     "data": {
      "application/vnd.jupyter.widget-view+json": {
       "model_id": "5ea767decd3c4e0186c428897c70eaed",
       "version_major": 2,
       "version_minor": 0
      },
      "text/plain": [
       "Handling Subsubfolders:   0%|          | 0/400 [00:00<?, ?it/s]"
      ]
     },
     "metadata": {},
     "output_type": "display_data"
    },
    {
     "data": {
      "application/vnd.jupyter.widget-view+json": {
       "model_id": "2fe13d37a2ef4343a822dfba52b0ed34",
       "version_major": 2,
       "version_minor": 0
      },
      "text/plain": [
       "Handling Subsubfolders:   0%|          | 0/400 [00:00<?, ?it/s]"
      ]
     },
     "metadata": {},
     "output_type": "display_data"
    },
    {
     "data": {
      "application/vnd.jupyter.widget-view+json": {
       "model_id": "12e08534af094a26b1b894e22f14b507",
       "version_major": 2,
       "version_minor": 0
      },
      "text/plain": [
       "Handling Subsubfolders:   0%|          | 0/400 [00:00<?, ?it/s]"
      ]
     },
     "metadata": {},
     "output_type": "display_data"
    },
    {
     "data": {
      "application/vnd.jupyter.widget-view+json": {
       "model_id": "b184cb0daabe4199a7e7730f324f81fb",
       "version_major": 2,
       "version_minor": 0
      },
      "text/plain": [
       "Handling Subsubfolders:   0%|          | 0/400 [00:00<?, ?it/s]"
      ]
     },
     "metadata": {},
     "output_type": "display_data"
    },
    {
     "data": {
      "application/vnd.jupyter.widget-view+json": {
       "model_id": "68c581f54546459e9d14eabc0ef02354",
       "version_major": 2,
       "version_minor": 0
      },
      "text/plain": [
       "Handling Subsubfolders:   0%|          | 0/400 [00:00<?, ?it/s]"
      ]
     },
     "metadata": {},
     "output_type": "display_data"
    },
    {
     "name": "stdout",
     "output_type": "stream",
     "text": [
      "all the data is saved in '../data/before_embedding/3.10/graph_data(50)-1.jsonl'\n"
     ]
    }
   ],
   "source": [
    "# 主資料夾路徑\n",
    "main_folder_path = '../data/source_data/output_graphs(200)'\n",
    "output_file_path = '../data/before_embedding/3.10/graph_data(50)-1.jsonl'\n",
    "\n",
    "all_graph_data = []\n",
    "\n",
    "try:\n",
    "    # 在开始处理数据之前打开文件，并保持打开状态\n",
    "    with open(output_file_path, 'w', encoding='utf-8') as f:\n",
    "        for subfolder_name in tqdm(os.listdir(main_folder_path)[:50], desc=\"Handling Subfolders: \"):\n",
    "            subfolder_path = os.path.join(main_folder_path, subfolder_name)\n",
    "            if not os.path.isdir(subfolder_path):\n",
    "                continue\n",
    "\n",
    "            for subsubfolder_name in tqdm(os.listdir(subfolder_path), desc=\"Handling Subsubfolders: \"):\n",
    "                subsubfolder_path = os.path.join(subfolder_path, subsubfolder_name)\n",
    "                if not os.path.isdir(subsubfolder_path):\n",
    "                    continue\n",
    "\n",
    "                file_path = os.path.join(subsubfolder_path, 'all_triplets.txt')\n",
    "                data_lines = read_data_from_file(file_path)\n",
    "                graph_data = process_data(data_lines)\n",
    "\n",
    "                # 直接写入文件，而不需要每次都打开和关闭\n",
    "                f.write(json.dumps(graph_data) + \"\\n\")\n",
    "\n",
    "except Exception as e:\n",
    "    print(f\"Error during processing files. Error: {e}\")\n",
    "\n",
    "print(f\"all the data is saved in '{output_file_path}'\")\n",
    "\n",
    "\n",
    "# with open(output_file_path, 'w', encoding='utf-8') as f:\n",
    "#     for graph_data in tqdm(all_graph_data, desc=\"writing into output JSONL file\"):\n",
    "#         f.write(json.dumps(graph_data))\n",
    "#         f.write(\"\\n\")\n",
    "\n",
    "# print(f\"all the data is saved in '{output_file_path}'\")\n"
   ]
  },
  {
   "cell_type": "markdown",
   "metadata": {},
   "source": [
    "#### The formal version\n",
    "- with dump the data each time\n",
    "- the all_graph_data would not be so huge so the consuming time is consistent"
   ]
  },
  {
   "cell_type": "code",
   "execution_count": null,
   "metadata": {
    "scrolled": true
   },
   "outputs": [
    {
     "data": {
      "application/vnd.jupyter.widget-view+json": {
       "model_id": "9bd216f073d449259d31876479a039af",
       "version_major": 2,
       "version_minor": 0
      },
      "text/plain": [
       "Handling Subfolders:   0%|          | 0/1000 [00:00<?, ?it/s]"
      ]
     },
     "metadata": {},
     "output_type": "display_data"
    },
    {
     "data": {
      "application/vnd.jupyter.widget-view+json": {
       "model_id": "321d6229837449629b1eb56bbca66c43",
       "version_major": 2,
       "version_minor": 0
      },
      "text/plain": [
       "Handling Subsubfolders:   0%|          | 0/400 [00:00<?, ?it/s]"
      ]
     },
     "metadata": {},
     "output_type": "display_data"
    },
    {
     "data": {
      "application/vnd.jupyter.widget-view+json": {
       "model_id": "70e6c1db3bcd4961a640a3ee82222d08",
       "version_major": 2,
       "version_minor": 0
      },
      "text/plain": [
       "Handling Subsubfolders:   0%|          | 0/400 [00:00<?, ?it/s]"
      ]
     },
     "metadata": {},
     "output_type": "display_data"
    },
    {
     "data": {
      "application/vnd.jupyter.widget-view+json": {
       "model_id": "4e4fe67b77ea4e519775e16160ec598d",
       "version_major": 2,
       "version_minor": 0
      },
      "text/plain": [
       "Handling Subsubfolders:   0%|          | 0/400 [00:00<?, ?it/s]"
      ]
     },
     "metadata": {},
     "output_type": "display_data"
    },
    {
     "data": {
      "application/vnd.jupyter.widget-view+json": {
       "model_id": "4f0a37e2b7c64d80968408b921e86c27",
       "version_major": 2,
       "version_minor": 0
      },
      "text/plain": [
       "Handling Subsubfolders:   0%|          | 0/400 [00:00<?, ?it/s]"
      ]
     },
     "metadata": {},
     "output_type": "display_data"
    },
    {
     "data": {
      "application/vnd.jupyter.widget-view+json": {
       "model_id": "fcd7fa3bc19242129813e6ef35c65ebd",
       "version_major": 2,
       "version_minor": 0
      },
      "text/plain": [
       "Handling Subsubfolders:   0%|          | 0/400 [00:00<?, ?it/s]"
      ]
     },
     "metadata": {},
     "output_type": "display_data"
    },
    {
     "data": {
      "application/vnd.jupyter.widget-view+json": {
       "model_id": "6cadb041c9084db6b1a1f6ca977e5def",
       "version_major": 2,
       "version_minor": 0
      },
      "text/plain": [
       "Handling Subsubfolders:   0%|          | 0/400 [00:00<?, ?it/s]"
      ]
     },
     "metadata": {},
     "output_type": "display_data"
    },
    {
     "data": {
      "application/vnd.jupyter.widget-view+json": {
       "model_id": "144db5751ec24fd4b5c651ed5e9c13a9",
       "version_major": 2,
       "version_minor": 0
      },
      "text/plain": [
       "Handling Subsubfolders:   0%|          | 0/400 [00:00<?, ?it/s]"
      ]
     },
     "metadata": {},
     "output_type": "display_data"
    },
    {
     "data": {
      "application/vnd.jupyter.widget-view+json": {
       "model_id": "8d7f4ea5ae5548d6a950fd84e84339c6",
       "version_major": 2,
       "version_minor": 0
      },
      "text/plain": [
       "Handling Subsubfolders:   0%|          | 0/400 [00:00<?, ?it/s]"
      ]
     },
     "metadata": {},
     "output_type": "display_data"
    },
    {
     "data": {
      "application/vnd.jupyter.widget-view+json": {
       "model_id": "85479b4dc86d4812b9d69d41af7fe848",
       "version_major": 2,
       "version_minor": 0
      },
      "text/plain": [
       "Handling Subsubfolders:   0%|          | 0/400 [00:00<?, ?it/s]"
      ]
     },
     "metadata": {},
     "output_type": "display_data"
    },
    {
     "data": {
      "application/vnd.jupyter.widget-view+json": {
       "model_id": "2682df81a57d40eb9ed0093acc4bced5",
       "version_major": 2,
       "version_minor": 0
      },
      "text/plain": [
       "Handling Subsubfolders:   0%|          | 0/400 [00:00<?, ?it/s]"
      ]
     },
     "metadata": {},
     "output_type": "display_data"
    },
    {
     "data": {
      "application/vnd.jupyter.widget-view+json": {
       "model_id": "091b390b036d4606b9c2fd5fb6a63542",
       "version_major": 2,
       "version_minor": 0
      },
      "text/plain": [
       "Handling Subsubfolders:   0%|          | 0/400 [00:00<?, ?it/s]"
      ]
     },
     "metadata": {},
     "output_type": "display_data"
    },
    {
     "data": {
      "application/vnd.jupyter.widget-view+json": {
       "model_id": "9b03f07a22704405bb04714dcca2549c",
       "version_major": 2,
       "version_minor": 0
      },
      "text/plain": [
       "Handling Subsubfolders:   0%|          | 0/400 [00:00<?, ?it/s]"
      ]
     },
     "metadata": {},
     "output_type": "display_data"
    },
    {
     "data": {
      "application/vnd.jupyter.widget-view+json": {
       "model_id": "d93eac28e76c486d9b93473f4510f6e7",
       "version_major": 2,
       "version_minor": 0
      },
      "text/plain": [
       "Handling Subsubfolders:   0%|          | 0/400 [00:00<?, ?it/s]"
      ]
     },
     "metadata": {},
     "output_type": "display_data"
    },
    {
     "data": {
      "application/vnd.jupyter.widget-view+json": {
       "model_id": "a4112fa3c08c4357a6bc87755aca9ddd",
       "version_major": 2,
       "version_minor": 0
      },
      "text/plain": [
       "Handling Subsubfolders:   0%|          | 0/400 [00:00<?, ?it/s]"
      ]
     },
     "metadata": {},
     "output_type": "display_data"
    },
    {
     "data": {
      "application/vnd.jupyter.widget-view+json": {
       "model_id": "fb87711fedd84b47ad890d1c75f126fe",
       "version_major": 2,
       "version_minor": 0
      },
      "text/plain": [
       "Handling Subsubfolders:   0%|          | 0/400 [00:00<?, ?it/s]"
      ]
     },
     "metadata": {},
     "output_type": "display_data"
    },
    {
     "data": {
      "application/vnd.jupyter.widget-view+json": {
       "model_id": "78da54cb312a48ef907b69d97823edbc",
       "version_major": 2,
       "version_minor": 0
      },
      "text/plain": [
       "Handling Subsubfolders:   0%|          | 0/400 [00:00<?, ?it/s]"
      ]
     },
     "metadata": {},
     "output_type": "display_data"
    },
    {
     "data": {
      "application/vnd.jupyter.widget-view+json": {
       "model_id": "ce792faf1a4c41f9b7e4a1aacb4d4b0d",
       "version_major": 2,
       "version_minor": 0
      },
      "text/plain": [
       "Handling Subsubfolders:   0%|          | 0/400 [00:00<?, ?it/s]"
      ]
     },
     "metadata": {},
     "output_type": "display_data"
    },
    {
     "data": {
      "application/vnd.jupyter.widget-view+json": {
       "model_id": "55d3adf222d74a8e9bef8c3c378ba664",
       "version_major": 2,
       "version_minor": 0
      },
      "text/plain": [
       "Handling Subsubfolders:   0%|          | 0/400 [00:00<?, ?it/s]"
      ]
     },
     "metadata": {},
     "output_type": "display_data"
    },
    {
     "data": {
      "application/vnd.jupyter.widget-view+json": {
       "model_id": "6b01e432116b4d21920557e62e076279",
       "version_major": 2,
       "version_minor": 0
      },
      "text/plain": [
       "Handling Subsubfolders:   0%|          | 0/400 [00:00<?, ?it/s]"
      ]
     },
     "metadata": {},
     "output_type": "display_data"
    },
    {
     "data": {
      "application/vnd.jupyter.widget-view+json": {
       "model_id": "4e97bf74a7394d1e8507b587514d01cf",
       "version_major": 2,
       "version_minor": 0
      },
      "text/plain": [
       "Handling Subsubfolders:   0%|          | 0/400 [00:00<?, ?it/s]"
      ]
     },
     "metadata": {},
     "output_type": "display_data"
    },
    {
     "data": {
      "application/vnd.jupyter.widget-view+json": {
       "model_id": "c7851099036a4816866ea6306ed4edf3",
       "version_major": 2,
       "version_minor": 0
      },
      "text/plain": [
       "Handling Subsubfolders:   0%|          | 0/400 [00:00<?, ?it/s]"
      ]
     },
     "metadata": {},
     "output_type": "display_data"
    },
    {
     "data": {
      "application/vnd.jupyter.widget-view+json": {
       "model_id": "f49da3c8b4444266bb66873f8b825039",
       "version_major": 2,
       "version_minor": 0
      },
      "text/plain": [
       "Handling Subsubfolders:   0%|          | 0/400 [00:00<?, ?it/s]"
      ]
     },
     "metadata": {},
     "output_type": "display_data"
    },
    {
     "data": {
      "application/vnd.jupyter.widget-view+json": {
       "model_id": "d4005e76f475424cbe2c2e54558a55f4",
       "version_major": 2,
       "version_minor": 0
      },
      "text/plain": [
       "Handling Subsubfolders:   0%|          | 0/400 [00:00<?, ?it/s]"
      ]
     },
     "metadata": {},
     "output_type": "display_data"
    },
    {
     "data": {
      "application/vnd.jupyter.widget-view+json": {
       "model_id": "25e250b34d754c34bef42f95d69552b8",
       "version_major": 2,
       "version_minor": 0
      },
      "text/plain": [
       "Handling Subsubfolders:   0%|          | 0/400 [00:00<?, ?it/s]"
      ]
     },
     "metadata": {},
     "output_type": "display_data"
    },
    {
     "data": {
      "application/vnd.jupyter.widget-view+json": {
       "model_id": "96ebcda8a84e40cdaa9dde9e3fa097ae",
       "version_major": 2,
       "version_minor": 0
      },
      "text/plain": [
       "Handling Subsubfolders:   0%|          | 0/400 [00:00<?, ?it/s]"
      ]
     },
     "metadata": {},
     "output_type": "display_data"
    },
    {
     "data": {
      "application/vnd.jupyter.widget-view+json": {
       "model_id": "22a7243d37124eacb67472e24ac46e16",
       "version_major": 2,
       "version_minor": 0
      },
      "text/plain": [
       "Handling Subsubfolders:   0%|          | 0/400 [00:00<?, ?it/s]"
      ]
     },
     "metadata": {},
     "output_type": "display_data"
    },
    {
     "data": {
      "application/vnd.jupyter.widget-view+json": {
       "model_id": "e3b8a8023a754adc9b9e6895d05ba46e",
       "version_major": 2,
       "version_minor": 0
      },
      "text/plain": [
       "Handling Subsubfolders:   0%|          | 0/400 [00:00<?, ?it/s]"
      ]
     },
     "metadata": {},
     "output_type": "display_data"
    },
    {
     "data": {
      "application/vnd.jupyter.widget-view+json": {
       "model_id": "bc640819b64f431b82c5c92ad2d39674",
       "version_major": 2,
       "version_minor": 0
      },
      "text/plain": [
       "Handling Subsubfolders:   0%|          | 0/400 [00:00<?, ?it/s]"
      ]
     },
     "metadata": {},
     "output_type": "display_data"
    },
    {
     "data": {
      "application/vnd.jupyter.widget-view+json": {
       "model_id": "c2644be2e1654043a60f23cc7a0b7fcf",
       "version_major": 2,
       "version_minor": 0
      },
      "text/plain": [
       "Handling Subsubfolders:   0%|          | 0/400 [00:00<?, ?it/s]"
      ]
     },
     "metadata": {},
     "output_type": "display_data"
    },
    {
     "data": {
      "application/vnd.jupyter.widget-view+json": {
       "model_id": "fb2f81475d0742a994548d3f45f8065c",
       "version_major": 2,
       "version_minor": 0
      },
      "text/plain": [
       "Handling Subsubfolders:   0%|          | 0/400 [00:00<?, ?it/s]"
      ]
     },
     "metadata": {},
     "output_type": "display_data"
    },
    {
     "data": {
      "application/vnd.jupyter.widget-view+json": {
       "model_id": "496af9a9886545819b290f6d7de0e00c",
       "version_major": 2,
       "version_minor": 0
      },
      "text/plain": [
       "Handling Subsubfolders:   0%|          | 0/400 [00:00<?, ?it/s]"
      ]
     },
     "metadata": {},
     "output_type": "display_data"
    },
    {
     "data": {
      "application/vnd.jupyter.widget-view+json": {
       "model_id": "05bbb0cf7c1d4e78a1e20fb258a905c6",
       "version_major": 2,
       "version_minor": 0
      },
      "text/plain": [
       "Handling Subsubfolders:   0%|          | 0/400 [00:00<?, ?it/s]"
      ]
     },
     "metadata": {},
     "output_type": "display_data"
    },
    {
     "data": {
      "application/vnd.jupyter.widget-view+json": {
       "model_id": "118f92c1c5fc4824a7823a893625d538",
       "version_major": 2,
       "version_minor": 0
      },
      "text/plain": [
       "Handling Subsubfolders:   0%|          | 0/400 [00:00<?, ?it/s]"
      ]
     },
     "metadata": {},
     "output_type": "display_data"
    },
    {
     "data": {
      "application/vnd.jupyter.widget-view+json": {
       "model_id": "41ffa2eb5e6845528f3866c2b23a5399",
       "version_major": 2,
       "version_minor": 0
      },
      "text/plain": [
       "Handling Subsubfolders:   0%|          | 0/400 [00:00<?, ?it/s]"
      ]
     },
     "metadata": {},
     "output_type": "display_data"
    },
    {
     "data": {
      "application/vnd.jupyter.widget-view+json": {
       "model_id": "9158cb68ebbe403e9e930dc7237040d1",
       "version_major": 2,
       "version_minor": 0
      },
      "text/plain": [
       "Handling Subsubfolders:   0%|          | 0/400 [00:00<?, ?it/s]"
      ]
     },
     "metadata": {},
     "output_type": "display_data"
    },
    {
     "data": {
      "application/vnd.jupyter.widget-view+json": {
       "model_id": "3e593aebb3a146d1bce6bae7920153cc",
       "version_major": 2,
       "version_minor": 0
      },
      "text/plain": [
       "Handling Subsubfolders:   0%|          | 0/400 [00:00<?, ?it/s]"
      ]
     },
     "metadata": {},
     "output_type": "display_data"
    },
    {
     "data": {
      "application/vnd.jupyter.widget-view+json": {
       "model_id": "f303c276185b4d6c8089c59166508c47",
       "version_major": 2,
       "version_minor": 0
      },
      "text/plain": [
       "Handling Subsubfolders:   0%|          | 0/400 [00:00<?, ?it/s]"
      ]
     },
     "metadata": {},
     "output_type": "display_data"
    },
    {
     "data": {
      "application/vnd.jupyter.widget-view+json": {
       "model_id": "710600d97947429e98e43a8adf5bfc6c",
       "version_major": 2,
       "version_minor": 0
      },
      "text/plain": [
       "Handling Subsubfolders:   0%|          | 0/400 [00:00<?, ?it/s]"
      ]
     },
     "metadata": {},
     "output_type": "display_data"
    },
    {
     "data": {
      "application/vnd.jupyter.widget-view+json": {
       "model_id": "ad95160300754d86bf1b756332c12d0b",
       "version_major": 2,
       "version_minor": 0
      },
      "text/plain": [
       "Handling Subsubfolders:   0%|          | 0/400 [00:00<?, ?it/s]"
      ]
     },
     "metadata": {},
     "output_type": "display_data"
    },
    {
     "data": {
      "application/vnd.jupyter.widget-view+json": {
       "model_id": "390588f6fe624e4f8f2e9792bd74f65a",
       "version_major": 2,
       "version_minor": 0
      },
      "text/plain": [
       "Handling Subsubfolders:   0%|          | 0/400 [00:00<?, ?it/s]"
      ]
     },
     "metadata": {},
     "output_type": "display_data"
    },
    {
     "data": {
      "application/vnd.jupyter.widget-view+json": {
       "model_id": "7b089563e38a48d6bc086c78380abafe",
       "version_major": 2,
       "version_minor": 0
      },
      "text/plain": [
       "Handling Subsubfolders:   0%|          | 0/400 [00:00<?, ?it/s]"
      ]
     },
     "metadata": {},
     "output_type": "display_data"
    },
    {
     "data": {
      "application/vnd.jupyter.widget-view+json": {
       "model_id": "209066b8fe3d4ff5969abc971b174c66",
       "version_major": 2,
       "version_minor": 0
      },
      "text/plain": [
       "Handling Subsubfolders:   0%|          | 0/400 [00:00<?, ?it/s]"
      ]
     },
     "metadata": {},
     "output_type": "display_data"
    },
    {
     "data": {
      "application/vnd.jupyter.widget-view+json": {
       "model_id": "5593d903fa264942a72cf03f8adb0934",
       "version_major": 2,
       "version_minor": 0
      },
      "text/plain": [
       "Handling Subsubfolders:   0%|          | 0/400 [00:00<?, ?it/s]"
      ]
     },
     "metadata": {},
     "output_type": "display_data"
    },
    {
     "data": {
      "application/vnd.jupyter.widget-view+json": {
       "model_id": "5eaf588d94ca4495866d82d2be86c6ef",
       "version_major": 2,
       "version_minor": 0
      },
      "text/plain": [
       "Handling Subsubfolders:   0%|          | 0/400 [00:00<?, ?it/s]"
      ]
     },
     "metadata": {},
     "output_type": "display_data"
    },
    {
     "data": {
      "application/vnd.jupyter.widget-view+json": {
       "model_id": "1a1cf35568704d3fad27e66a2d8fb4a8",
       "version_major": 2,
       "version_minor": 0
      },
      "text/plain": [
       "Handling Subsubfolders:   0%|          | 0/400 [00:00<?, ?it/s]"
      ]
     },
     "metadata": {},
     "output_type": "display_data"
    },
    {
     "data": {
      "application/vnd.jupyter.widget-view+json": {
       "model_id": "6c68d1a2b3264189a773e2dfee6e9272",
       "version_major": 2,
       "version_minor": 0
      },
      "text/plain": [
       "Handling Subsubfolders:   0%|          | 0/400 [00:00<?, ?it/s]"
      ]
     },
     "metadata": {},
     "output_type": "display_data"
    },
    {
     "data": {
      "application/vnd.jupyter.widget-view+json": {
       "model_id": "5aaaf624cddf4f29a606c025d6cc2e9a",
       "version_major": 2,
       "version_minor": 0
      },
      "text/plain": [
       "Handling Subsubfolders:   0%|          | 0/400 [00:00<?, ?it/s]"
      ]
     },
     "metadata": {},
     "output_type": "display_data"
    },
    {
     "data": {
      "application/vnd.jupyter.widget-view+json": {
       "model_id": "3275d363dad5420e8a34ec11097497dc",
       "version_major": 2,
       "version_minor": 0
      },
      "text/plain": [
       "Handling Subsubfolders:   0%|          | 0/400 [00:00<?, ?it/s]"
      ]
     },
     "metadata": {},
     "output_type": "display_data"
    },
    {
     "data": {
      "application/vnd.jupyter.widget-view+json": {
       "model_id": "b6fcdf4c791640199357caa87328d785",
       "version_major": 2,
       "version_minor": 0
      },
      "text/plain": [
       "Handling Subsubfolders:   0%|          | 0/400 [00:00<?, ?it/s]"
      ]
     },
     "metadata": {},
     "output_type": "display_data"
    },
    {
     "data": {
      "application/vnd.jupyter.widget-view+json": {
       "model_id": "e8d3a1217af44822a18a1541eb5c1be7",
       "version_major": 2,
       "version_minor": 0
      },
      "text/plain": [
       "Handling Subsubfolders:   0%|          | 0/400 [00:00<?, ?it/s]"
      ]
     },
     "metadata": {},
     "output_type": "display_data"
    },
    {
     "data": {
      "application/vnd.jupyter.widget-view+json": {
       "model_id": "33b6de5ec957410c804acb4cc889e25c",
       "version_major": 2,
       "version_minor": 0
      },
      "text/plain": [
       "Handling Subsubfolders:   0%|          | 0/400 [00:00<?, ?it/s]"
      ]
     },
     "metadata": {},
     "output_type": "display_data"
    },
    {
     "data": {
      "application/vnd.jupyter.widget-view+json": {
       "model_id": "b26b274a765e41399e95fcd3978c0c3c",
       "version_major": 2,
       "version_minor": 0
      },
      "text/plain": [
       "Handling Subsubfolders:   0%|          | 0/400 [00:00<?, ?it/s]"
      ]
     },
     "metadata": {},
     "output_type": "display_data"
    },
    {
     "data": {
      "application/vnd.jupyter.widget-view+json": {
       "model_id": "b2f7cc5dcb324842a28a134208c06e82",
       "version_major": 2,
       "version_minor": 0
      },
      "text/plain": [
       "Handling Subsubfolders:   0%|          | 0/400 [00:00<?, ?it/s]"
      ]
     },
     "metadata": {},
     "output_type": "display_data"
    },
    {
     "data": {
      "application/vnd.jupyter.widget-view+json": {
       "model_id": "a5e6105992e14852ba09cb52d7676437",
       "version_major": 2,
       "version_minor": 0
      },
      "text/plain": [
       "Handling Subsubfolders:   0%|          | 0/400 [00:00<?, ?it/s]"
      ]
     },
     "metadata": {},
     "output_type": "display_data"
    },
    {
     "data": {
      "application/vnd.jupyter.widget-view+json": {
       "model_id": "88e6d12f64ee48378d861192bedfc369",
       "version_major": 2,
       "version_minor": 0
      },
      "text/plain": [
       "Handling Subsubfolders:   0%|          | 0/400 [00:00<?, ?it/s]"
      ]
     },
     "metadata": {},
     "output_type": "display_data"
    },
    {
     "data": {
      "application/vnd.jupyter.widget-view+json": {
       "model_id": "71140ac4912944288b559cc6f261c7ad",
       "version_major": 2,
       "version_minor": 0
      },
      "text/plain": [
       "Handling Subsubfolders:   0%|          | 0/400 [00:00<?, ?it/s]"
      ]
     },
     "metadata": {},
     "output_type": "display_data"
    },
    {
     "data": {
      "application/vnd.jupyter.widget-view+json": {
       "model_id": "8ab216cf52e84d8a942bdb08d0677ed4",
       "version_major": 2,
       "version_minor": 0
      },
      "text/plain": [
       "Handling Subsubfolders:   0%|          | 0/400 [00:00<?, ?it/s]"
      ]
     },
     "metadata": {},
     "output_type": "display_data"
    },
    {
     "data": {
      "application/vnd.jupyter.widget-view+json": {
       "model_id": "34e1dcd4bc714abbb501222218b2857c",
       "version_major": 2,
       "version_minor": 0
      },
      "text/plain": [
       "Handling Subsubfolders:   0%|          | 0/400 [00:00<?, ?it/s]"
      ]
     },
     "metadata": {},
     "output_type": "display_data"
    },
    {
     "data": {
      "application/vnd.jupyter.widget-view+json": {
       "model_id": "be2dafce82dd49118dd2754600499447",
       "version_major": 2,
       "version_minor": 0
      },
      "text/plain": [
       "Handling Subsubfolders:   0%|          | 0/400 [00:00<?, ?it/s]"
      ]
     },
     "metadata": {},
     "output_type": "display_data"
    },
    {
     "data": {
      "application/vnd.jupyter.widget-view+json": {
       "model_id": "a83826a89096422194ce5400b5f7b248",
       "version_major": 2,
       "version_minor": 0
      },
      "text/plain": [
       "Handling Subsubfolders:   0%|          | 0/400 [00:00<?, ?it/s]"
      ]
     },
     "metadata": {},
     "output_type": "display_data"
    },
    {
     "data": {
      "application/vnd.jupyter.widget-view+json": {
       "model_id": "ff9840a030024734800054185fa86b78",
       "version_major": 2,
       "version_minor": 0
      },
      "text/plain": [
       "Handling Subsubfolders:   0%|          | 0/400 [00:00<?, ?it/s]"
      ]
     },
     "metadata": {},
     "output_type": "display_data"
    },
    {
     "data": {
      "application/vnd.jupyter.widget-view+json": {
       "model_id": "fc2595c852a747438a31da9af9603087",
       "version_major": 2,
       "version_minor": 0
      },
      "text/plain": [
       "Handling Subsubfolders:   0%|          | 0/400 [00:00<?, ?it/s]"
      ]
     },
     "metadata": {},
     "output_type": "display_data"
    },
    {
     "data": {
      "application/vnd.jupyter.widget-view+json": {
       "model_id": "053fa498a7c04f6b9756392acf053a91",
       "version_major": 2,
       "version_minor": 0
      },
      "text/plain": [
       "Handling Subsubfolders:   0%|          | 0/400 [00:00<?, ?it/s]"
      ]
     },
     "metadata": {},
     "output_type": "display_data"
    },
    {
     "data": {
      "application/vnd.jupyter.widget-view+json": {
       "model_id": "10bb9d31a95f470f8304a1197c2c835e",
       "version_major": 2,
       "version_minor": 0
      },
      "text/plain": [
       "Handling Subsubfolders:   0%|          | 0/400 [00:00<?, ?it/s]"
      ]
     },
     "metadata": {},
     "output_type": "display_data"
    },
    {
     "data": {
      "application/vnd.jupyter.widget-view+json": {
       "model_id": "9b7fa7310ba04f1a9b70bbee0db6bbfb",
       "version_major": 2,
       "version_minor": 0
      },
      "text/plain": [
       "Handling Subsubfolders:   0%|          | 0/400 [00:00<?, ?it/s]"
      ]
     },
     "metadata": {},
     "output_type": "display_data"
    },
    {
     "data": {
      "application/vnd.jupyter.widget-view+json": {
       "model_id": "6c0e958b96d94a11a9a3572a417eac1a",
       "version_major": 2,
       "version_minor": 0
      },
      "text/plain": [
       "Handling Subsubfolders:   0%|          | 0/400 [00:00<?, ?it/s]"
      ]
     },
     "metadata": {},
     "output_type": "display_data"
    },
    {
     "data": {
      "application/vnd.jupyter.widget-view+json": {
       "model_id": "7877ad1b6f51451fa28fc82ee0ae3ff6",
       "version_major": 2,
       "version_minor": 0
      },
      "text/plain": [
       "Handling Subsubfolders:   0%|          | 0/400 [00:00<?, ?it/s]"
      ]
     },
     "metadata": {},
     "output_type": "display_data"
    },
    {
     "data": {
      "application/vnd.jupyter.widget-view+json": {
       "model_id": "4bd26d716eef40a699a99ad1ddb5a7ab",
       "version_major": 2,
       "version_minor": 0
      },
      "text/plain": [
       "Handling Subsubfolders:   0%|          | 0/400 [00:00<?, ?it/s]"
      ]
     },
     "metadata": {},
     "output_type": "display_data"
    },
    {
     "data": {
      "application/vnd.jupyter.widget-view+json": {
       "model_id": "b70c0c87b9a1412e9d650ad658db7c97",
       "version_major": 2,
       "version_minor": 0
      },
      "text/plain": [
       "Handling Subsubfolders:   0%|          | 0/400 [00:00<?, ?it/s]"
      ]
     },
     "metadata": {},
     "output_type": "display_data"
    },
    {
     "data": {
      "application/vnd.jupyter.widget-view+json": {
       "model_id": "71ff4f99836145da94940bcfd179ae46",
       "version_major": 2,
       "version_minor": 0
      },
      "text/plain": [
       "Handling Subsubfolders:   0%|          | 0/400 [00:00<?, ?it/s]"
      ]
     },
     "metadata": {},
     "output_type": "display_data"
    },
    {
     "data": {
      "application/vnd.jupyter.widget-view+json": {
       "model_id": "e8c74d346e5049259b5d4d94865fd6cb",
       "version_major": 2,
       "version_minor": 0
      },
      "text/plain": [
       "Handling Subsubfolders:   0%|          | 0/400 [00:00<?, ?it/s]"
      ]
     },
     "metadata": {},
     "output_type": "display_data"
    },
    {
     "data": {
      "application/vnd.jupyter.widget-view+json": {
       "model_id": "5b5217fd748d40d480fba4f024d54f19",
       "version_major": 2,
       "version_minor": 0
      },
      "text/plain": [
       "Handling Subsubfolders:   0%|          | 0/400 [00:00<?, ?it/s]"
      ]
     },
     "metadata": {},
     "output_type": "display_data"
    },
    {
     "data": {
      "application/vnd.jupyter.widget-view+json": {
       "model_id": "625243c4ca364a9a8de37f910f0e9277",
       "version_major": 2,
       "version_minor": 0
      },
      "text/plain": [
       "Handling Subsubfolders:   0%|          | 0/400 [00:00<?, ?it/s]"
      ]
     },
     "metadata": {},
     "output_type": "display_data"
    },
    {
     "data": {
      "application/vnd.jupyter.widget-view+json": {
       "model_id": "2aae2825fad247719ac579d2ec7e24cd",
       "version_major": 2,
       "version_minor": 0
      },
      "text/plain": [
       "Handling Subsubfolders:   0%|          | 0/400 [00:00<?, ?it/s]"
      ]
     },
     "metadata": {},
     "output_type": "display_data"
    },
    {
     "data": {
      "application/vnd.jupyter.widget-view+json": {
       "model_id": "ee342c168ac141b69abbb6ad1414856b",
       "version_major": 2,
       "version_minor": 0
      },
      "text/plain": [
       "Handling Subsubfolders:   0%|          | 0/400 [00:00<?, ?it/s]"
      ]
     },
     "metadata": {},
     "output_type": "display_data"
    },
    {
     "data": {
      "application/vnd.jupyter.widget-view+json": {
       "model_id": "b0134f6fddf94a93b28cfa82a18bcaa5",
       "version_major": 2,
       "version_minor": 0
      },
      "text/plain": [
       "Handling Subsubfolders:   0%|          | 0/400 [00:00<?, ?it/s]"
      ]
     },
     "metadata": {},
     "output_type": "display_data"
    },
    {
     "data": {
      "application/vnd.jupyter.widget-view+json": {
       "model_id": "0e89f3e244e745a6b1ca3642085b500f",
       "version_major": 2,
       "version_minor": 0
      },
      "text/plain": [
       "Handling Subsubfolders:   0%|          | 0/400 [00:00<?, ?it/s]"
      ]
     },
     "metadata": {},
     "output_type": "display_data"
    },
    {
     "data": {
      "application/vnd.jupyter.widget-view+json": {
       "model_id": "15214033b7e5476d8d57bb9216e69a7a",
       "version_major": 2,
       "version_minor": 0
      },
      "text/plain": [
       "Handling Subsubfolders:   0%|          | 0/400 [00:00<?, ?it/s]"
      ]
     },
     "metadata": {},
     "output_type": "display_data"
    },
    {
     "data": {
      "application/vnd.jupyter.widget-view+json": {
       "model_id": "73444c83646a48338c6f66b21f1174e6",
       "version_major": 2,
       "version_minor": 0
      },
      "text/plain": [
       "Handling Subsubfolders:   0%|          | 0/400 [00:00<?, ?it/s]"
      ]
     },
     "metadata": {},
     "output_type": "display_data"
    },
    {
     "data": {
      "application/vnd.jupyter.widget-view+json": {
       "model_id": "86052c3351164288adcc2c88bdb87e40",
       "version_major": 2,
       "version_minor": 0
      },
      "text/plain": [
       "Handling Subsubfolders:   0%|          | 0/400 [00:00<?, ?it/s]"
      ]
     },
     "metadata": {},
     "output_type": "display_data"
    },
    {
     "data": {
      "application/vnd.jupyter.widget-view+json": {
       "model_id": "10da92aa8dde4d748586bc96e160edc2",
       "version_major": 2,
       "version_minor": 0
      },
      "text/plain": [
       "Handling Subsubfolders:   0%|          | 0/400 [00:00<?, ?it/s]"
      ]
     },
     "metadata": {},
     "output_type": "display_data"
    },
    {
     "data": {
      "application/vnd.jupyter.widget-view+json": {
       "model_id": "395431a03afb4302b0fc72178a5f8642",
       "version_major": 2,
       "version_minor": 0
      },
      "text/plain": [
       "Handling Subsubfolders:   0%|          | 0/400 [00:00<?, ?it/s]"
      ]
     },
     "metadata": {},
     "output_type": "display_data"
    },
    {
     "data": {
      "application/vnd.jupyter.widget-view+json": {
       "model_id": "564924bd42594fb6ad5ee9b2744c1c4e",
       "version_major": 2,
       "version_minor": 0
      },
      "text/plain": [
       "Handling Subsubfolders:   0%|          | 0/400 [00:00<?, ?it/s]"
      ]
     },
     "metadata": {},
     "output_type": "display_data"
    },
    {
     "data": {
      "application/vnd.jupyter.widget-view+json": {
       "model_id": "e3d6886c0b6c4fb79dfecfd08fcf3000",
       "version_major": 2,
       "version_minor": 0
      },
      "text/plain": [
       "Handling Subsubfolders:   0%|          | 0/400 [00:00<?, ?it/s]"
      ]
     },
     "metadata": {},
     "output_type": "display_data"
    },
    {
     "data": {
      "application/vnd.jupyter.widget-view+json": {
       "model_id": "9d3396ece01d418a9ff76aaf82cdb22d",
       "version_major": 2,
       "version_minor": 0
      },
      "text/plain": [
       "Handling Subsubfolders:   0%|          | 0/400 [00:00<?, ?it/s]"
      ]
     },
     "metadata": {},
     "output_type": "display_data"
    },
    {
     "data": {
      "application/vnd.jupyter.widget-view+json": {
       "model_id": "86dd6698138543a895be2f622b5bcbdf",
       "version_major": 2,
       "version_minor": 0
      },
      "text/plain": [
       "Handling Subsubfolders:   0%|          | 0/400 [00:00<?, ?it/s]"
      ]
     },
     "metadata": {},
     "output_type": "display_data"
    },
    {
     "data": {
      "application/vnd.jupyter.widget-view+json": {
       "model_id": "31c86a81207649f6bee4252869e64990",
       "version_major": 2,
       "version_minor": 0
      },
      "text/plain": [
       "Handling Subsubfolders:   0%|          | 0/400 [00:00<?, ?it/s]"
      ]
     },
     "metadata": {},
     "output_type": "display_data"
    },
    {
     "data": {
      "application/vnd.jupyter.widget-view+json": {
       "model_id": "eabca8326cd3471e96cf98070ac3c3e1",
       "version_major": 2,
       "version_minor": 0
      },
      "text/plain": [
       "Handling Subsubfolders:   0%|          | 0/400 [00:00<?, ?it/s]"
      ]
     },
     "metadata": {},
     "output_type": "display_data"
    },
    {
     "data": {
      "application/vnd.jupyter.widget-view+json": {
       "model_id": "0f028d52af19469c8fa13681d8d6c7eb",
       "version_major": 2,
       "version_minor": 0
      },
      "text/plain": [
       "Handling Subsubfolders:   0%|          | 0/400 [00:00<?, ?it/s]"
      ]
     },
     "metadata": {},
     "output_type": "display_data"
    },
    {
     "data": {
      "application/vnd.jupyter.widget-view+json": {
       "model_id": "8f1c786481e347578546c27369fe8481",
       "version_major": 2,
       "version_minor": 0
      },
      "text/plain": [
       "Handling Subsubfolders:   0%|          | 0/400 [00:00<?, ?it/s]"
      ]
     },
     "metadata": {},
     "output_type": "display_data"
    },
    {
     "data": {
      "application/vnd.jupyter.widget-view+json": {
       "model_id": "14272de7753d49a7bd658567c5426290",
       "version_major": 2,
       "version_minor": 0
      },
      "text/plain": [
       "Handling Subsubfolders:   0%|          | 0/400 [00:00<?, ?it/s]"
      ]
     },
     "metadata": {},
     "output_type": "display_data"
    },
    {
     "data": {
      "application/vnd.jupyter.widget-view+json": {
       "model_id": "782ef7b8555e40379a41c5d7b36f5c08",
       "version_major": 2,
       "version_minor": 0
      },
      "text/plain": [
       "Handling Subsubfolders:   0%|          | 0/400 [00:00<?, ?it/s]"
      ]
     },
     "metadata": {},
     "output_type": "display_data"
    },
    {
     "data": {
      "application/vnd.jupyter.widget-view+json": {
       "model_id": "0790a09dfd0b4063addd422d56b5f32d",
       "version_major": 2,
       "version_minor": 0
      },
      "text/plain": [
       "Handling Subsubfolders:   0%|          | 0/400 [00:00<?, ?it/s]"
      ]
     },
     "metadata": {},
     "output_type": "display_data"
    },
    {
     "data": {
      "application/vnd.jupyter.widget-view+json": {
       "model_id": "d7a63963a6bf41d489bdb61855a36a79",
       "version_major": 2,
       "version_minor": 0
      },
      "text/plain": [
       "Handling Subsubfolders:   0%|          | 0/400 [00:00<?, ?it/s]"
      ]
     },
     "metadata": {},
     "output_type": "display_data"
    },
    {
     "data": {
      "application/vnd.jupyter.widget-view+json": {
       "model_id": "524580874ef448d3bad179d87d8b0c91",
       "version_major": 2,
       "version_minor": 0
      },
      "text/plain": [
       "Handling Subsubfolders:   0%|          | 0/400 [00:00<?, ?it/s]"
      ]
     },
     "metadata": {},
     "output_type": "display_data"
    },
    {
     "data": {
      "application/vnd.jupyter.widget-view+json": {
       "model_id": "4b66aa9373f740eda194dac3d3cbdf60",
       "version_major": 2,
       "version_minor": 0
      },
      "text/plain": [
       "Handling Subsubfolders:   0%|          | 0/400 [00:00<?, ?it/s]"
      ]
     },
     "metadata": {},
     "output_type": "display_data"
    },
    {
     "data": {
      "application/vnd.jupyter.widget-view+json": {
       "model_id": "140c7a2bbefa4b10a1145a8cd295fa2b",
       "version_major": 2,
       "version_minor": 0
      },
      "text/plain": [
       "Handling Subsubfolders:   0%|          | 0/400 [00:00<?, ?it/s]"
      ]
     },
     "metadata": {},
     "output_type": "display_data"
    },
    {
     "data": {
      "application/vnd.jupyter.widget-view+json": {
       "model_id": "7ce182c829fd491c82afd0f6752f04d2",
       "version_major": 2,
       "version_minor": 0
      },
      "text/plain": [
       "Handling Subsubfolders:   0%|          | 0/400 [00:00<?, ?it/s]"
      ]
     },
     "metadata": {},
     "output_type": "display_data"
    },
    {
     "data": {
      "application/vnd.jupyter.widget-view+json": {
       "model_id": "7abbfca5da524605b95211f1ce931c9a",
       "version_major": 2,
       "version_minor": 0
      },
      "text/plain": [
       "Handling Subsubfolders:   0%|          | 0/400 [00:00<?, ?it/s]"
      ]
     },
     "metadata": {},
     "output_type": "display_data"
    },
    {
     "data": {
      "application/vnd.jupyter.widget-view+json": {
       "model_id": "c51b0b2f47d9477d82f381a18eec53a3",
       "version_major": 2,
       "version_minor": 0
      },
      "text/plain": [
       "Handling Subsubfolders:   0%|          | 0/400 [00:00<?, ?it/s]"
      ]
     },
     "metadata": {},
     "output_type": "display_data"
    },
    {
     "data": {
      "application/vnd.jupyter.widget-view+json": {
       "model_id": "323f30d4c7344512a3c33f2f4db1cf9b",
       "version_major": 2,
       "version_minor": 0
      },
      "text/plain": [
       "Handling Subsubfolders:   0%|          | 0/400 [00:00<?, ?it/s]"
      ]
     },
     "metadata": {},
     "output_type": "display_data"
    },
    {
     "data": {
      "application/vnd.jupyter.widget-view+json": {
       "model_id": "97afbfa6699c41dba87cb2ea3fda5639",
       "version_major": 2,
       "version_minor": 0
      },
      "text/plain": [
       "Handling Subsubfolders:   0%|          | 0/400 [00:00<?, ?it/s]"
      ]
     },
     "metadata": {},
     "output_type": "display_data"
    },
    {
     "data": {
      "application/vnd.jupyter.widget-view+json": {
       "model_id": "ca0863efbdc54ef49db1458690dd2880",
       "version_major": 2,
       "version_minor": 0
      },
      "text/plain": [
       "Handling Subsubfolders:   0%|          | 0/400 [00:00<?, ?it/s]"
      ]
     },
     "metadata": {},
     "output_type": "display_data"
    },
    {
     "data": {
      "application/vnd.jupyter.widget-view+json": {
       "model_id": "5454969393e34454a258e1470ad35beb",
       "version_major": 2,
       "version_minor": 0
      },
      "text/plain": [
       "Handling Subsubfolders:   0%|          | 0/400 [00:00<?, ?it/s]"
      ]
     },
     "metadata": {},
     "output_type": "display_data"
    },
    {
     "data": {
      "application/vnd.jupyter.widget-view+json": {
       "model_id": "4739b641fb014434b060fecc49acd231",
       "version_major": 2,
       "version_minor": 0
      },
      "text/plain": [
       "Handling Subsubfolders:   0%|          | 0/400 [00:00<?, ?it/s]"
      ]
     },
     "metadata": {},
     "output_type": "display_data"
    },
    {
     "data": {
      "application/vnd.jupyter.widget-view+json": {
       "model_id": "f95f4d64b318446abfbe5a56f9e30649",
       "version_major": 2,
       "version_minor": 0
      },
      "text/plain": [
       "Handling Subsubfolders:   0%|          | 0/400 [00:00<?, ?it/s]"
      ]
     },
     "metadata": {},
     "output_type": "display_data"
    },
    {
     "data": {
      "application/vnd.jupyter.widget-view+json": {
       "model_id": "da9169ae12cf4854827035e18d5fa302",
       "version_major": 2,
       "version_minor": 0
      },
      "text/plain": [
       "Handling Subsubfolders:   0%|          | 0/400 [00:00<?, ?it/s]"
      ]
     },
     "metadata": {},
     "output_type": "display_data"
    },
    {
     "data": {
      "application/vnd.jupyter.widget-view+json": {
       "model_id": "791cdaedd6b045ef986566ecdba3c760",
       "version_major": 2,
       "version_minor": 0
      },
      "text/plain": [
       "Handling Subsubfolders:   0%|          | 0/400 [00:00<?, ?it/s]"
      ]
     },
     "metadata": {},
     "output_type": "display_data"
    },
    {
     "data": {
      "application/vnd.jupyter.widget-view+json": {
       "model_id": "6cb6fb562af64d78816824f7efdb94af",
       "version_major": 2,
       "version_minor": 0
      },
      "text/plain": [
       "Handling Subsubfolders:   0%|          | 0/400 [00:00<?, ?it/s]"
      ]
     },
     "metadata": {},
     "output_type": "display_data"
    },
    {
     "data": {
      "application/vnd.jupyter.widget-view+json": {
       "model_id": "f4a26391f0a448d89cd64ab9d92b0d60",
       "version_major": 2,
       "version_minor": 0
      },
      "text/plain": [
       "Handling Subsubfolders:   0%|          | 0/400 [00:00<?, ?it/s]"
      ]
     },
     "metadata": {},
     "output_type": "display_data"
    },
    {
     "data": {
      "application/vnd.jupyter.widget-view+json": {
       "model_id": "af2cec0950864c6a821b3be65c729627",
       "version_major": 2,
       "version_minor": 0
      },
      "text/plain": [
       "Handling Subsubfolders:   0%|          | 0/400 [00:00<?, ?it/s]"
      ]
     },
     "metadata": {},
     "output_type": "display_data"
    },
    {
     "data": {
      "application/vnd.jupyter.widget-view+json": {
       "model_id": "382f11cbf705400eabdb7edb3c82cb84",
       "version_major": 2,
       "version_minor": 0
      },
      "text/plain": [
       "Handling Subsubfolders:   0%|          | 0/400 [00:00<?, ?it/s]"
      ]
     },
     "metadata": {},
     "output_type": "display_data"
    },
    {
     "data": {
      "application/vnd.jupyter.widget-view+json": {
       "model_id": "ca5c923798804c00a12c6e8a59a2fc35",
       "version_major": 2,
       "version_minor": 0
      },
      "text/plain": [
       "Handling Subsubfolders:   0%|          | 0/400 [00:00<?, ?it/s]"
      ]
     },
     "metadata": {},
     "output_type": "display_data"
    },
    {
     "data": {
      "application/vnd.jupyter.widget-view+json": {
       "model_id": "282af4f936584013a76ad2fa84b6eac6",
       "version_major": 2,
       "version_minor": 0
      },
      "text/plain": [
       "Handling Subsubfolders:   0%|          | 0/400 [00:00<?, ?it/s]"
      ]
     },
     "metadata": {},
     "output_type": "display_data"
    },
    {
     "data": {
      "application/vnd.jupyter.widget-view+json": {
       "model_id": "a41732b4f8bc4dd4876c9746fb4dbc5d",
       "version_major": 2,
       "version_minor": 0
      },
      "text/plain": [
       "Handling Subsubfolders:   0%|          | 0/400 [00:00<?, ?it/s]"
      ]
     },
     "metadata": {},
     "output_type": "display_data"
    },
    {
     "data": {
      "application/vnd.jupyter.widget-view+json": {
       "model_id": "28382d0f0e13419e9365a488c8107bb7",
       "version_major": 2,
       "version_minor": 0
      },
      "text/plain": [
       "Handling Subsubfolders:   0%|          | 0/400 [00:00<?, ?it/s]"
      ]
     },
     "metadata": {},
     "output_type": "display_data"
    },
    {
     "data": {
      "application/vnd.jupyter.widget-view+json": {
       "model_id": "851778351fc847f4b6faa8dba4500d8a",
       "version_major": 2,
       "version_minor": 0
      },
      "text/plain": [
       "Handling Subsubfolders:   0%|          | 0/400 [00:00<?, ?it/s]"
      ]
     },
     "metadata": {},
     "output_type": "display_data"
    },
    {
     "data": {
      "application/vnd.jupyter.widget-view+json": {
       "model_id": "729663d90e1f4b97b132a32baf1f2b6f",
       "version_major": 2,
       "version_minor": 0
      },
      "text/plain": [
       "Handling Subsubfolders:   0%|          | 0/400 [00:00<?, ?it/s]"
      ]
     },
     "metadata": {},
     "output_type": "display_data"
    },
    {
     "data": {
      "application/vnd.jupyter.widget-view+json": {
       "model_id": "e2b35535801a41d1bcf13747bb340440",
       "version_major": 2,
       "version_minor": 0
      },
      "text/plain": [
       "Handling Subsubfolders:   0%|          | 0/400 [00:00<?, ?it/s]"
      ]
     },
     "metadata": {},
     "output_type": "display_data"
    },
    {
     "data": {
      "application/vnd.jupyter.widget-view+json": {
       "model_id": "aaa72ac1b8054c8cb4a0898be0311115",
       "version_major": 2,
       "version_minor": 0
      },
      "text/plain": [
       "Handling Subsubfolders:   0%|          | 0/400 [00:00<?, ?it/s]"
      ]
     },
     "metadata": {},
     "output_type": "display_data"
    },
    {
     "data": {
      "application/vnd.jupyter.widget-view+json": {
       "model_id": "263fe5079cb246868dfbe594a763e051",
       "version_major": 2,
       "version_minor": 0
      },
      "text/plain": [
       "Handling Subsubfolders:   0%|          | 0/400 [00:00<?, ?it/s]"
      ]
     },
     "metadata": {},
     "output_type": "display_data"
    },
    {
     "data": {
      "application/vnd.jupyter.widget-view+json": {
       "model_id": "ff68f15a2dc24ffea4e534ca5d9efd17",
       "version_major": 2,
       "version_minor": 0
      },
      "text/plain": [
       "Handling Subsubfolders:   0%|          | 0/400 [00:00<?, ?it/s]"
      ]
     },
     "metadata": {},
     "output_type": "display_data"
    },
    {
     "data": {
      "application/vnd.jupyter.widget-view+json": {
       "model_id": "73a0fa51049a4839b28b1705cc0b31de",
       "version_major": 2,
       "version_minor": 0
      },
      "text/plain": [
       "Handling Subsubfolders:   0%|          | 0/400 [00:00<?, ?it/s]"
      ]
     },
     "metadata": {},
     "output_type": "display_data"
    },
    {
     "data": {
      "application/vnd.jupyter.widget-view+json": {
       "model_id": "c10fd5bf532d4e33acfad9d8bc355f2c",
       "version_major": 2,
       "version_minor": 0
      },
      "text/plain": [
       "Handling Subsubfolders:   0%|          | 0/400 [00:00<?, ?it/s]"
      ]
     },
     "metadata": {},
     "output_type": "display_data"
    },
    {
     "data": {
      "application/vnd.jupyter.widget-view+json": {
       "model_id": "7ed6b983d13e40aca3206322b2cac5e7",
       "version_major": 2,
       "version_minor": 0
      },
      "text/plain": [
       "Handling Subsubfolders:   0%|          | 0/400 [00:00<?, ?it/s]"
      ]
     },
     "metadata": {},
     "output_type": "display_data"
    },
    {
     "data": {
      "application/vnd.jupyter.widget-view+json": {
       "model_id": "0ed13dd8946b48c28ec4214f4a8b9e84",
       "version_major": 2,
       "version_minor": 0
      },
      "text/plain": [
       "Handling Subsubfolders:   0%|          | 0/400 [00:00<?, ?it/s]"
      ]
     },
     "metadata": {},
     "output_type": "display_data"
    },
    {
     "data": {
      "application/vnd.jupyter.widget-view+json": {
       "model_id": "02971fe89acc4fcabf05e0d9920b993f",
       "version_major": 2,
       "version_minor": 0
      },
      "text/plain": [
       "Handling Subsubfolders:   0%|          | 0/400 [00:00<?, ?it/s]"
      ]
     },
     "metadata": {},
     "output_type": "display_data"
    },
    {
     "data": {
      "application/vnd.jupyter.widget-view+json": {
       "model_id": "f0c3693d6b7a44e7818d09d93db35615",
       "version_major": 2,
       "version_minor": 0
      },
      "text/plain": [
       "Handling Subsubfolders:   0%|          | 0/400 [00:00<?, ?it/s]"
      ]
     },
     "metadata": {},
     "output_type": "display_data"
    },
    {
     "data": {
      "application/vnd.jupyter.widget-view+json": {
       "model_id": "e7f47d0854384fb88513302da8260852",
       "version_major": 2,
       "version_minor": 0
      },
      "text/plain": [
       "Handling Subsubfolders:   0%|          | 0/400 [00:00<?, ?it/s]"
      ]
     },
     "metadata": {},
     "output_type": "display_data"
    },
    {
     "data": {
      "application/vnd.jupyter.widget-view+json": {
       "model_id": "d00359fca4cc42a8aae144efdc456160",
       "version_major": 2,
       "version_minor": 0
      },
      "text/plain": [
       "Handling Subsubfolders:   0%|          | 0/400 [00:00<?, ?it/s]"
      ]
     },
     "metadata": {},
     "output_type": "display_data"
    },
    {
     "data": {
      "application/vnd.jupyter.widget-view+json": {
       "model_id": "4d5df1187a1e4f829cb52de30d6389ed",
       "version_major": 2,
       "version_minor": 0
      },
      "text/plain": [
       "Handling Subsubfolders:   0%|          | 0/400 [00:00<?, ?it/s]"
      ]
     },
     "metadata": {},
     "output_type": "display_data"
    },
    {
     "data": {
      "application/vnd.jupyter.widget-view+json": {
       "model_id": "936403bf43604139adee26c998d49c28",
       "version_major": 2,
       "version_minor": 0
      },
      "text/plain": [
       "Handling Subsubfolders:   0%|          | 0/400 [00:00<?, ?it/s]"
      ]
     },
     "metadata": {},
     "output_type": "display_data"
    },
    {
     "data": {
      "application/vnd.jupyter.widget-view+json": {
       "model_id": "ace4a1d6fb66402e83d9cb4507406580",
       "version_major": 2,
       "version_minor": 0
      },
      "text/plain": [
       "Handling Subsubfolders:   0%|          | 0/400 [00:00<?, ?it/s]"
      ]
     },
     "metadata": {},
     "output_type": "display_data"
    },
    {
     "data": {
      "application/vnd.jupyter.widget-view+json": {
       "model_id": "4f0401b0441a48b4904944c37836b42d",
       "version_major": 2,
       "version_minor": 0
      },
      "text/plain": [
       "Handling Subsubfolders:   0%|          | 0/400 [00:00<?, ?it/s]"
      ]
     },
     "metadata": {},
     "output_type": "display_data"
    },
    {
     "data": {
      "application/vnd.jupyter.widget-view+json": {
       "model_id": "0e09798903164771b30132a7da3e195f",
       "version_major": 2,
       "version_minor": 0
      },
      "text/plain": [
       "Handling Subsubfolders:   0%|          | 0/400 [00:00<?, ?it/s]"
      ]
     },
     "metadata": {},
     "output_type": "display_data"
    },
    {
     "data": {
      "application/vnd.jupyter.widget-view+json": {
       "model_id": "214af183a96c4de2b1d2fb6372559d38",
       "version_major": 2,
       "version_minor": 0
      },
      "text/plain": [
       "Handling Subsubfolders:   0%|          | 0/400 [00:00<?, ?it/s]"
      ]
     },
     "metadata": {},
     "output_type": "display_data"
    },
    {
     "data": {
      "application/vnd.jupyter.widget-view+json": {
       "model_id": "9d1f66e468ba4f10966f922563f4a973",
       "version_major": 2,
       "version_minor": 0
      },
      "text/plain": [
       "Handling Subsubfolders:   0%|          | 0/400 [00:00<?, ?it/s]"
      ]
     },
     "metadata": {},
     "output_type": "display_data"
    },
    {
     "data": {
      "application/vnd.jupyter.widget-view+json": {
       "model_id": "2573dfe56e314093bc55ed8d54fbb74d",
       "version_major": 2,
       "version_minor": 0
      },
      "text/plain": [
       "Handling Subsubfolders:   0%|          | 0/400 [00:00<?, ?it/s]"
      ]
     },
     "metadata": {},
     "output_type": "display_data"
    }
   ],
   "source": [
    "main_folder_path = '../data/source_data/output_graphs(200)'\n",
    "output_file_path = '../data/before_embedding/3.10/all_graph_data.jsonl'\n",
    "\n",
    "all_graph_data = []\n",
    "\n",
    "try:\n",
    "    # open the file before handling it\n",
    "    with open(output_file_path, 'w', encoding='utf-8') as f:\n",
    "        for subfolder_name in tqdm(os.listdir(main_folder_path), desc=\"Handling Subfolders: \"):\n",
    "            subfolder_path = os.path.join(main_folder_path, subfolder_name)\n",
    "            if not os.path.isdir(subfolder_path):\n",
    "                continue\n",
    "\n",
    "            for subsubfolder_name in tqdm(os.listdir(subfolder_path), desc=\"Handling Subsubfolders: \"):\n",
    "                subsubfolder_path = os.path.join(subfolder_path, subsubfolder_name)\n",
    "                if not os.path.isdir(subsubfolder_path):\n",
    "                    continue\n",
    "\n",
    "                file_path = os.path.join(subsubfolder_path, 'all_triplets.txt')\n",
    "                data_lines = read_data_from_file(file_path)\n",
    "                graph_data = process_data(data_lines)\n",
    "\n",
    "                # directly write into the file\n",
    "                f.write(json.dumps(graph_data) + \"\\n\")\n",
    "\n",
    "except Exception as e:\n",
    "    print(f\"Error during processing files. Error: {e}\")\n",
    "\n",
    "print(f\"all the data is saved in '{output_file_path}'\")"
   ]
  },
  {
   "cell_type": "markdown",
   "metadata": {},
   "source": [
    "#### The original version\n",
    "- open the file only once, so the all_graph_data would contains too much info, which takes a longer time"
   ]
  },
  {
   "cell_type": "code",
   "execution_count": null,
   "metadata": {},
   "outputs": [],
   "source": [
    "# # 主資料夾路徑\n",
    "# main_folder_path = '../data/source_data/output_graphs(200)-test'\n",
    "\n",
    "# all_graph_data = []\n",
    "\n",
    "# try:\n",
    "#     # 遍歷主資料夾中的前100個子資料夾\n",
    "#     for subfolder_name in tqdm(os.listdir(main_folder_path)[:50], desc=\"Handling Subfolders: \"):\n",
    "#         subfolder_path = os.path.join(main_folder_path, subfolder_name)\n",
    "        \n",
    "#         # 檢查是否為資料夾\n",
    "#         if not os.path.isdir(subfolder_path):\n",
    "#             continue\n",
    "\n",
    "#         # 遍歷每個子資料夾中的子子資料夾\n",
    "#         for subsubfolder_name in tqdm(os.listdir(subfolder_path), desc=\"Handling Subsubfolders: \"):\n",
    "#             subsubfolder_path = os.path.join(subfolder_path, subsubfolder_name)\n",
    "            \n",
    "#             if not os.path.isdir(subsubfolder_path):\n",
    "#                 continue\n",
    "\n",
    "#             file_path = os.path.join(subsubfolder_path, 'all_triplets.txt')\n",
    "#             data_lines = read_data_from_file(file_path)\n",
    "#             graph_data = process_data(data_lines)\n",
    "#             all_graph_data.append(graph_data)\n",
    "\n",
    "# except Exception as e:\n",
    "#     print(f\"Error during processing files. Error: {e}\")\n",
    "\n",
    "# output_file_path = '../data/before_embedding/3.10/graph_data(100).jsonl'\n",
    "# with open(output_file_path, 'w', encoding='utf-8') as f:\n",
    "#     for graph_data in tqdm(all_graph_data, desc=\"writing into output JSONL file\"):\n",
    "#         f.write(json.dumps(graph_data))\n",
    "#         f.write(\"\\n\")\n",
    "\n",
    "# print(f\"all the data is saved in '{output_file_path}'\")\n"
   ]
  }
 ],
 "metadata": {
  "kernelspec": {
   "display_name": "Python 3 (ipykernel)",
   "language": "python",
   "name": "python3"
  },
  "language_info": {
   "codemirror_mode": {
    "name": "ipython",
    "version": 3
   },
   "file_extension": ".py",
   "mimetype": "text/x-python",
   "name": "python",
   "nbconvert_exporter": "python",
   "pygments_lexer": "ipython3",
   "version": "3.9.12"
  }
 },
 "nbformat": 4,
 "nbformat_minor": 4
}
