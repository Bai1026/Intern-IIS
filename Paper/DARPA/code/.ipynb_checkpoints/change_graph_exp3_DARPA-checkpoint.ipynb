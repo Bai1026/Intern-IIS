{
 "cells": [
  {
   "cell_type": "markdown",
   "metadata": {},
   "source": [
    "### For turn the graph in the 1000 folder with 400 folders with graph into the graph.jsonl"
   ]
  },
  {
   "cell_type": "code",
   "execution_count": 1,
   "metadata": {
    "scrolled": true
   },
   "outputs": [],
   "source": [
    "import os\n",
    "import json\n",
    "from tqdm.notebook import tqdm\n",
    "import logging \n",
    "\n",
    "def process_data(data_lines):\n",
    "    node_to_index = {}\n",
    "    nodes = set()\n",
    "    edges = []\n",
    "    edge_attrs = []\n",
    "    labels = []\n",
    "    \n",
    "#     for line in tqdm(data_lines, desc=\"Processing lines\"):\n",
    "    for line in data_lines:\n",
    "        try:\n",
    "            parts = line.strip().split()\n",
    "            source_node = int(parts[0])\n",
    "            dest_node = int(parts[1])\n",
    "            edge_id = int(parts[2])\n",
    "            label = parts[3]  \n",
    "            \n",
    "            # 0 means benign, 1 means malicious\n",
    "            if label == 'benign':\n",
    "                label = 0\n",
    "            else:\n",
    "                label = 1\n",
    "\n",
    "            nodes.add(source_node)\n",
    "            nodes.add(dest_node)\n",
    "            edges.append([source_node, dest_node])\n",
    "            edge_attrs.append(edge_id)\n",
    "            labels.append(label)\n",
    "        except Exception as e:\n",
    "            print(f\"Error processing line: {line}\\nError: {e}\")\n",
    "            continue\n",
    "    \n",
    "    for index, node in enumerate(nodes):\n",
    "        node_to_index[node] = index\n",
    "\n",
    "    edges = [[node_to_index[edge[0]], node_to_index[edge[1]]] for edge in edges]\n",
    "    edges = list(zip(*edges))\n",
    "    \n",
    "    return {\n",
    "        \"labels\": labels,\n",
    "        \"num_nodes\": len(nodes),\n",
    "        \"node_feat\": list(nodes),\n",
    "        \"edge_attr\": edge_attrs,\n",
    "        \"edge_index\": edges\n",
    "    }\n",
    "\n",
    "\n",
    "def read_data_from_file(file_path):\n",
    "    with open(file_path, 'r', encoding='utf-8') as file:\n",
    "        return file.readlines()"
   ]
  },
  {
   "cell_type": "markdown",
   "metadata": {},
   "source": [
    "- Test on 100 folders"
   ]
  },
  {
   "cell_type": "code",
   "execution_count": null,
   "metadata": {
    "scrolled": true
   },
   "outputs": [
    {
     "data": {
      "application/vnd.jupyter.widget-view+json": {
       "model_id": "32067b2ff5cd4dca93631caf2887d97e",
       "version_major": 2,
       "version_minor": 0
      },
      "text/plain": [
       "Handling Subfolders:   0%|          | 0/50 [00:00<?, ?it/s]"
      ]
     },
     "metadata": {},
     "output_type": "display_data"
    },
    {
     "data": {
      "application/vnd.jupyter.widget-view+json": {
       "model_id": "d3d9932c9b9841078d86c805bfce4045",
       "version_major": 2,
       "version_minor": 0
      },
      "text/plain": [
       "Handling Subsubfolders:   0%|          | 0/400 [00:00<?, ?it/s]"
      ]
     },
     "metadata": {},
     "output_type": "display_data"
    },
    {
     "data": {
      "application/vnd.jupyter.widget-view+json": {
       "model_id": "773c137e9a354131b9b85594a13882a2",
       "version_major": 2,
       "version_minor": 0
      },
      "text/plain": [
       "Handling Subsubfolders:   0%|          | 0/400 [00:00<?, ?it/s]"
      ]
     },
     "metadata": {},
     "output_type": "display_data"
    },
    {
     "data": {
      "application/vnd.jupyter.widget-view+json": {
       "model_id": "b8c3ecd610154235b64f48ec2a23074b",
       "version_major": 2,
       "version_minor": 0
      },
      "text/plain": [
       "Handling Subsubfolders:   0%|          | 0/400 [00:00<?, ?it/s]"
      ]
     },
     "metadata": {},
     "output_type": "display_data"
    },
    {
     "data": {
      "application/vnd.jupyter.widget-view+json": {
       "model_id": "cfef0e0c4bae4a248bacff4ba3cb1972",
       "version_major": 2,
       "version_minor": 0
      },
      "text/plain": [
       "Handling Subsubfolders:   0%|          | 0/400 [00:00<?, ?it/s]"
      ]
     },
     "metadata": {},
     "output_type": "display_data"
    },
    {
     "data": {
      "application/vnd.jupyter.widget-view+json": {
       "model_id": "ecabe984cc3c4ea18ad88a464958d733",
       "version_major": 2,
       "version_minor": 0
      },
      "text/plain": [
       "Handling Subsubfolders:   0%|          | 0/400 [00:00<?, ?it/s]"
      ]
     },
     "metadata": {},
     "output_type": "display_data"
    },
    {
     "data": {
      "application/vnd.jupyter.widget-view+json": {
       "model_id": "929947561f154b67a87ac3be67562734",
       "version_major": 2,
       "version_minor": 0
      },
      "text/plain": [
       "Handling Subsubfolders:   0%|          | 0/400 [00:00<?, ?it/s]"
      ]
     },
     "metadata": {},
     "output_type": "display_data"
    },
    {
     "data": {
      "application/vnd.jupyter.widget-view+json": {
       "model_id": "44998d7fcff34674af1783d59dddeb94",
       "version_major": 2,
       "version_minor": 0
      },
      "text/plain": [
       "Handling Subsubfolders:   0%|          | 0/400 [00:00<?, ?it/s]"
      ]
     },
     "metadata": {},
     "output_type": "display_data"
    },
    {
     "data": {
      "application/vnd.jupyter.widget-view+json": {
       "model_id": "6f20b24284c14f00958324c74247baae",
       "version_major": 2,
       "version_minor": 0
      },
      "text/plain": [
       "Handling Subsubfolders:   0%|          | 0/400 [00:00<?, ?it/s]"
      ]
     },
     "metadata": {},
     "output_type": "display_data"
    },
    {
     "data": {
      "application/vnd.jupyter.widget-view+json": {
       "model_id": "207f27cd542042489ca2581568f20af4",
       "version_major": 2,
       "version_minor": 0
      },
      "text/plain": [
       "Handling Subsubfolders:   0%|          | 0/400 [00:00<?, ?it/s]"
      ]
     },
     "metadata": {},
     "output_type": "display_data"
    },
    {
     "data": {
      "application/vnd.jupyter.widget-view+json": {
       "model_id": "ad02aa36792648dea267bf782493fda3",
       "version_major": 2,
       "version_minor": 0
      },
      "text/plain": [
       "Handling Subsubfolders:   0%|          | 0/400 [00:00<?, ?it/s]"
      ]
     },
     "metadata": {},
     "output_type": "display_data"
    },
    {
     "data": {
      "application/vnd.jupyter.widget-view+json": {
       "model_id": "e0cc1184e05544b1a09678740ca9d7d6",
       "version_major": 2,
       "version_minor": 0
      },
      "text/plain": [
       "Handling Subsubfolders:   0%|          | 0/400 [00:00<?, ?it/s]"
      ]
     },
     "metadata": {},
     "output_type": "display_data"
    },
    {
     "data": {
      "application/vnd.jupyter.widget-view+json": {
       "model_id": "1b4634e49d1645d4a022c5dac87b1fb7",
       "version_major": 2,
       "version_minor": 0
      },
      "text/plain": [
       "Handling Subsubfolders:   0%|          | 0/400 [00:00<?, ?it/s]"
      ]
     },
     "metadata": {},
     "output_type": "display_data"
    },
    {
     "data": {
      "application/vnd.jupyter.widget-view+json": {
       "model_id": "4f2d40f4016b4273a155b482d592ddb4",
       "version_major": 2,
       "version_minor": 0
      },
      "text/plain": [
       "Handling Subsubfolders:   0%|          | 0/400 [00:00<?, ?it/s]"
      ]
     },
     "metadata": {},
     "output_type": "display_data"
    },
    {
     "data": {
      "application/vnd.jupyter.widget-view+json": {
       "model_id": "482bf1ed52f946808c8fae49138201c3",
       "version_major": 2,
       "version_minor": 0
      },
      "text/plain": [
       "Handling Subsubfolders:   0%|          | 0/400 [00:00<?, ?it/s]"
      ]
     },
     "metadata": {},
     "output_type": "display_data"
    },
    {
     "data": {
      "application/vnd.jupyter.widget-view+json": {
       "model_id": "51822f27bbcc4d7bb43251e3521a40b1",
       "version_major": 2,
       "version_minor": 0
      },
      "text/plain": [
       "Handling Subsubfolders:   0%|          | 0/400 [00:00<?, ?it/s]"
      ]
     },
     "metadata": {},
     "output_type": "display_data"
    },
    {
     "data": {
      "application/vnd.jupyter.widget-view+json": {
       "model_id": "e696ea51543a42958dd3c8a2c07ba1bf",
       "version_major": 2,
       "version_minor": 0
      },
      "text/plain": [
       "Handling Subsubfolders:   0%|          | 0/400 [00:00<?, ?it/s]"
      ]
     },
     "metadata": {},
     "output_type": "display_data"
    },
    {
     "data": {
      "application/vnd.jupyter.widget-view+json": {
       "model_id": "1a6eeb45572349e0bb8268ecaa0adfa0",
       "version_major": 2,
       "version_minor": 0
      },
      "text/plain": [
       "Handling Subsubfolders:   0%|          | 0/400 [00:00<?, ?it/s]"
      ]
     },
     "metadata": {},
     "output_type": "display_data"
    }
   ],
   "source": [
    "# 主資料夾路徑\n",
    "main_folder_path = '../data/source_data/output_graphs(200)-test'\n",
    "\n",
    "all_graph_data = []\n",
    "\n",
    "try:\n",
    "    # 遍歷主資料夾中的前100個子資料夾\n",
    "    for subfolder_name in tqdm(os.listdir(main_folder_path)[:50], desc=\"Handling Subfolders: \"):\n",
    "        subfolder_path = os.path.join(main_folder_path, subfolder_name)\n",
    "        \n",
    "        # 檢查是否為資料夾\n",
    "        if not os.path.isdir(subfolder_path):\n",
    "            continue\n",
    "\n",
    "        # 遍歷每個子資料夾中的子子資料夾\n",
    "        for subsubfolder_name in tqdm(os.listdir(subfolder_path), desc=\"Handling Subsubfolders: \"):\n",
    "            subsubfolder_path = os.path.join(subfolder_path, subsubfolder_name)\n",
    "            \n",
    "            if not os.path.isdir(subsubfolder_path):\n",
    "                continue\n",
    "\n",
    "            file_path = os.path.join(subsubfolder_path, 'all_triplets.txt')\n",
    "            data_lines = read_data_from_file(file_path)\n",
    "            graph_data = process_data(data_lines)\n",
    "            all_graph_data.append(graph_data)\n",
    "\n",
    "except Exception as e:\n",
    "    print(f\"Error during processing files. Error: {e}\")\n",
    "\n",
    "output_file_path = '../data/before_embedding/3.10/graph_data(100).jsonl'\n",
    "with open(output_file_path, 'w', encoding='utf-8') as f:\n",
    "    for graph_data in tqdm(all_graph_data, desc=\"writing into output JSONL file\"):\n",
    "        f.write(json.dumps(graph_data))\n",
    "        f.write(\"\\n\")\n",
    "\n",
    "print(f\"all the data is saved in '{output_file_path}'\")\n"
   ]
  },
  {
   "cell_type": "markdown",
   "metadata": {},
   "source": [
    "- The formal one"
   ]
  },
  {
   "cell_type": "code",
   "execution_count": null,
   "metadata": {},
   "outputs": [],
   "source": [
    "# 主資料夾路徑\n",
    "main_folder_path = '/workdir/home/bai/euni_Handover_DARPA/data/source_data/output_graphs(200)-2'\n",
    "\n",
    "all_graph_data = []\n",
    "\n",
    "try:\n",
    "    # 遍歷主資料夾中的每個子資料夾\n",
    "    for subfolder_name in tqdm(os.listdir(main_folder_path), desc=\"Handling Subfolders: \"):\n",
    "        subfolder_path = os.path.join(main_folder_path, subfolder_name)\n",
    "        \n",
    "        # 檢查是否為資料夾\n",
    "        if not os.path.isdir(subfolder_path):\n",
    "            continue\n",
    "\n",
    "        # 遍歷每個子資料夾中的子子資料夾\n",
    "        for subsubfolder_name in tqdm(os.listdir(subfolder_path), desc=\"Handling Subsubfolders: \"):\n",
    "            subsubfolder_path = os.path.join(subfolder_path, subsubfolder_name)\n",
    "            \n",
    "            if not os.path.isdir(subsubfolder_path):\n",
    "                continue\n",
    "\n",
    "            \n",
    "            file_path = os.path.join(subsubfolder_path, 'all_triplets.txt')\n",
    "            data_lines = read_data_from_file(file_path)\n",
    "            graph_data = process_data(data_lines)\n",
    "            all_graph_data.append(graph_data)\n",
    "\n",
    "except Exception as e:\n",
    "    print(f\"Error during processing files. Error: {e}\")\n",
    "\n",
    "\n",
    "output_file_path = '../data_new/DARPA/before_embedding/3.10/all_graph_data.jsonl'\n",
    "# output_file_path = '/workdir/home/bai/euni_Handover_DARPA/data/3_openKE/synthesize/all_graph_data(200).jsonl'\n",
    "with open(output_file_path, 'w', encoding='utf-8') as f:\n",
    "    for graph_data in tqdm(all_graph_data, desc=\"writing into output JSONL file\"):\n",
    "        f.write(json.dumps(graph_data))\n",
    "        f.write(\"\\n\")\n",
    "\n",
    "print(f\"all the data is saved in '{output_file_path}'\")"
   ]
  },
  {
   "cell_type": "code",
   "execution_count": null,
   "metadata": {},
   "outputs": [],
   "source": []
  },
  {
   "cell_type": "code",
   "execution_count": null,
   "metadata": {},
   "outputs": [],
   "source": []
  },
  {
   "cell_type": "code",
   "execution_count": null,
   "metadata": {},
   "outputs": [],
   "source": [
    "# # folder_path = '../data_new/DARPA/before_embedding/3.10/output_graphs'\n",
    "\n",
    "# # contains 1000 folders with 400 folders with graph\n",
    "# folder_path = '/workdir/home/bai/euni_Handover_DARPA/data/source_data/output_graphs(200)-2'\n",
    "# # folder_path = '../data_new/DARPA/before_embedding/output_graphs_test'\n",
    "\n",
    "# all_graph_data = []\n",
    "\n",
    "# try:\n",
    "#     file_names = [f for f in os.listdir(folder_path) if f.endswith('.txt')]\n",
    "#     for file_name in tqdm(file_names, desc=\"Handling Documents: \"):\n",
    "#         file_path = os.path.join(folder_path, file_name)\n",
    "#         data_lines = read_data_from_file(file_path)\n",
    "#         graph_data = process_data(data_lines)\n",
    "#         all_graph_data.append(graph_data)\n",
    "# except Exception as e:\n",
    "#     print(f\"Error during processing files. Error: {e}\")"
   ]
  }
 ],
 "metadata": {
  "kernelspec": {
   "display_name": "Python 3 (ipykernel)",
   "language": "python",
   "name": "python3"
  },
  "language_info": {
   "codemirror_mode": {
    "name": "ipython",
    "version": 3
   },
   "file_extension": ".py",
   "mimetype": "text/x-python",
   "name": "python",
   "nbconvert_exporter": "python",
   "pygments_lexer": "ipython3",
   "version": "3.9.12"
  }
 },
 "nbformat": 4,
 "nbformat_minor": 4
}
