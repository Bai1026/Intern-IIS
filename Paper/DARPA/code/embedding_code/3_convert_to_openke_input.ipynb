{
 "cells": [
  {
   "cell_type": "code",
   "execution_count": 1,
   "id": "46c02099",
   "metadata": {},
   "outputs": [
    {
     "name": "stdout",
     "output_type": "stream",
     "text": [
      "a\n"
     ]
    }
   ],
   "source": [
    "print('a')"
   ]
  },
  {
   "cell_type": "code",
   "execution_count": 2,
   "id": "10a1911c",
   "metadata": {},
   "outputs": [],
   "source": [
    "'''\n",
    "Convert synthesize data to \n",
    "entity2id.txt, relation2id, entity2id_objType.txt\n",
    "'''\n",
    "\n",
    "import json\n",
    "import pickle\n",
    "import os\n",
    "from tqdm.notebook import tqdm\n",
    "from typing import Set, Tuple, Generator\n",
    "import pandas as pd\n",
    "import numpy as np\n",
    "from sklearn.model_selection import train_test_split\n",
    "\n",
    "\n",
    "OUTPUT_PATH = './data/3_openKE/synthesize'\n",
    "INPUT_PATH = '/workdir/home/bai/data_processing/dgl/data_new/DARPA/before_embedding/3.10/synthesized_format.json'\n",
    "\n",
    "\n",
    "pd.set_option('display.max_rows', 500)\n",
    "pd.set_option('display.max_columns', 500)\n",
    "pd.set_option('display.width', 500)\n"
   ]
  },
  {
   "cell_type": "code",
   "execution_count": 3,
   "id": "b1e85dbf",
   "metadata": {},
   "outputs": [],
   "source": [
    "data = list()\n",
    "with open(INPUT_PATH, 'r') as f:\n",
    "    for line in f:\n",
    "        event = json.loads(line)\n",
    "        data.append(event)\n",
    "        \n",
    "\n",
    "# # Process each line as a separate JSON object\n",
    "# for line in tqdm(data, desc='Loading JSON'):\n",
    "#     try:\n",
    "#         item = json.loads(line)  # Parse the JSON object\n",
    "#         if item.get('label') == 'benign':\n",
    "#             print(item)\n",
    "#             break\n",
    "            \n",
    "#     except json.JSONDecodeError as e:\n",
    "#         print(f\"Error decoding JSON: {e}\")"
   ]
  },
  {
   "cell_type": "code",
   "execution_count": 4,
   "id": "5dbf6ee3",
   "metadata": {},
   "outputs": [
    {
     "name": "stdout",
     "output_type": "stream",
     "text": [
      "42899811\n"
     ]
    },
    {
     "data": {
      "text/plain": [
       "dict"
      ]
     },
     "execution_count": 4,
     "metadata": {},
     "output_type": "execute_result"
    }
   ],
   "source": [
    "print(len(data))\n",
    "type(data[1])"
   ]
  },
  {
   "cell_type": "code",
   "execution_count": 5,
   "id": "ffd1fd68",
   "metadata": {},
   "outputs": [
    {
     "data": {
      "text/plain": [
       "{'src_uuid': '966D983C-607E-4039-BEEF-5E76BC0A4DA8',\n",
       " 'src_node': {'Cmdline': 'None', 'Type': 'process', 'Pid': 9432},\n",
       " 'dst_uuid': '1987EE68-E918-4765-8082-3DE89890A305',\n",
       " 'dst_node': {'Filepath': '\\\\Device\\\\HarddiskVolume2\\\\Users\\\\admin\\\\AppData\\\\Roaming\\\\Thunderbird\\\\Profiles\\\\isfi13ur.default\\\\datareporting',\n",
       "  'Type': 'file'},\n",
       " 'relation': 'EVENT_OPEN',\n",
       " 'label': 'benign'}"
      ]
     },
     "execution_count": 5,
     "metadata": {},
     "output_type": "execute_result"
    }
   ],
   "source": [
    "data[1]"
   ]
  },
  {
   "cell_type": "code",
   "execution_count": 6,
   "id": "5a9146db",
   "metadata": {},
   "outputs": [],
   "source": [
    "import json\n",
    "import yaml\n",
    "\n",
    "def read_yaml(file_path):\n",
    "    \"\"\"Read a YAML file and return the parsed data.\"\"\"\n",
    "    with open(file_path, 'r') as file:\n",
    "        return yaml.safe_load(file)\n",
    "\n",
    "yaml_file_path = './data/darpa_synthesized_mapping.yml'\n",
    "\n",
    "yaml_file = read_yaml(yaml_file_path)"
   ]
  },
  {
   "cell_type": "code",
   "execution_count": 7,
   "id": "a8f55cec",
   "metadata": {},
   "outputs": [
    {
     "name": "stdout",
     "output_type": "stream",
     "text": [
      "<class 'dict'>\n",
      "4\n"
     ]
    },
    {
     "data": {
      "text/plain": [
       "{'file': {'attr': {'filepath': 'File Name'},\n",
       "  'relation': {'EVENT_CREATE_OBJECT': 'CreateFile',\n",
       "   'EVENT_CHANGE_PRINCIPAL': 'SetBasicInformationFile',\n",
       "   'EVENT_EXECUTE': 'Process Create',\n",
       "   'EVENT_LOADLIBRARY': 'Load Image',\n",
       "   'EVENT_MODIFY_FILE_ATTRIBUTES': 'SetBasicInformationFile',\n",
       "   'EVENT_OPEN': 'CreateFile',\n",
       "   'EVENT_READ': 'ReadFile',\n",
       "   'EVENT_UNLINK': 'SetDispositionInformationFile',\n",
       "   'EVENT_WRITE': 'WriteFile',\n",
       "   'EVENT_CHECK_FILE_ATTRIBUTES': 'QueryBasicInformationFile',\n",
       "   'EVENT_CLOSE': 'CloseFile',\n",
       "   'EVENT_RENAME': 'SetRenameInformationFile',\n",
       "   'EVENT_FCNTL': 'CreateFileMapping',\n",
       "   'EVENT_OTHER': 'NO_CORRESPONDING_RELATION'}},\n",
       " 'network': {'attr': {'localAddress': 'Source Ip',\n",
       "   'localPort': 'Source Port',\n",
       "   'remoteAddress': 'Destination Ip',\n",
       "   'remotePort': 'Destination Port'},\n",
       "  'relation': {'EVENT_CONNECT': 'TCP Connect',\n",
       "   'EVENT_RECVFROM': 'TCP Receive',\n",
       "   'EVENT_SENDTO': 'TCP Send',\n",
       "   'EVENT_ACCEPT': 'TCP Accept',\n",
       "   'EVENT_BIND': 'NO_CORRESPONDING_RELATION'}},\n",
       " 'registry': {'attr': {'key': 'Registry Key'},\n",
       "  'relation': {'EVENT_READ': 'RegOpenKey',\n",
       "   'EVENT_WRITE': 'RegSetInfoKey',\n",
       "   'EVENT_CHANGE_PRINCIPAL': 'RegSetInfoKey',\n",
       "   'EVENT_LINK': 'RegCreateKey',\n",
       "   'EVENT_MODIFY_FILE_ATTRIBUTES': 'RegSetInfoKey',\n",
       "   'EVENT_UNLINK': 'RegDeleteKey'}},\n",
       " 'process': {'attr': {'cmdline': 'Command Line'},\n",
       "  'relation': {'EVENT_OPEN': 'Process Create',\n",
       "   'EVENT_CREATE_THREAD': 'Thread Create',\n",
       "   'EVENT_FORK': 'Process Create'}}}"
      ]
     },
     "execution_count": 7,
     "metadata": {},
     "output_type": "execute_result"
    }
   ],
   "source": [
    "print(type(yaml_file))\n",
    "print(len(yaml_file))\n",
    "# print(yaml_file)\n",
    "yaml_file"
   ]
  },
  {
   "cell_type": "code",
   "execution_count": 8,
   "id": "0151fae4",
   "metadata": {
    "scrolled": true
   },
   "outputs": [],
   "source": [
    "def map_relation_to_synthesized(data, mapping):\n",
    "    \"\"\"Map relation in the data from DARPA format to synthesized format using the provided mapping.\"\"\"\n",
    "    for event in data:\n",
    "        src_type = event['src_node']['Type']\n",
    "        dst_type = event['dst_node']['Type']\n",
    "        darpa_relation = event['relation']\n",
    "\n",
    "        # Check if the relation mapping exists for source type\n",
    "        if darpa_relation in mapping[src_type]['relation']:\n",
    "            event['relation'] = mapping[src_type]['relation'][darpa_relation]\n",
    "        # If not found in source type, check in destination type\n",
    "        elif darpa_relation in mapping[dst_type]['relation']:\n",
    "            event['relation'] = mapping[dst_type]['relation'][darpa_relation]\n",
    "        # If not found in both, set to 'NO_CORRESPONDING_RELATION'\n",
    "        else:\n",
    "            event['relation'] = \"NO_CORRESPONDING_RELATION\"\n",
    "    return data\n",
    "\n",
    "mapped_data = map_relation_to_synthesized(data, yaml_file)\n",
    "# data_test"
   ]
  },
  {
   "cell_type": "code",
   "execution_count": 9,
   "id": "ca0581b9",
   "metadata": {},
   "outputs": [
    {
     "data": {
      "text/plain": [
       "{'src_uuid': '966D983C-607E-4039-BEEF-5E76BC0A4DA8',\n",
       " 'src_node': {'Cmdline': 'None', 'Type': 'process', 'Pid': 9432},\n",
       " 'dst_uuid': '1987EE68-E918-4765-8082-3DE89890A305',\n",
       " 'dst_node': {'Filepath': '\\\\Device\\\\HarddiskVolume2\\\\Users\\\\admin\\\\AppData\\\\Roaming\\\\Thunderbird\\\\Profiles\\\\isfi13ur.default\\\\datareporting',\n",
       "  'Type': 'file'},\n",
       " 'relation': 'Process Create',\n",
       " 'label': 'benign'}"
      ]
     },
     "execution_count": 9,
     "metadata": {},
     "output_type": "execute_result"
    }
   ],
   "source": [
    "mapped_data[1]"
   ]
  },
  {
   "cell_type": "code",
   "execution_count": 10,
   "id": "974b39d4",
   "metadata": {},
   "outputs": [
    {
     "ename": "NameError",
     "evalue": "name 'data_test' is not defined",
     "output_type": "error",
     "traceback": [
      "\u001b[0;31m---------------------------------------------------------------------------\u001b[0m",
      "\u001b[0;31mNameError\u001b[0m                                 Traceback (most recent call last)",
      "\u001b[0;32m<ipython-input-10-9d111200e146>\u001b[0m in \u001b[0;36m<module>\u001b[0;34m\u001b[0m\n\u001b[1;32m      1\u001b[0m \u001b[0mcount\u001b[0m \u001b[0;34m=\u001b[0m \u001b[0;36m0\u001b[0m\u001b[0;34m\u001b[0m\u001b[0;34m\u001b[0m\u001b[0m\n\u001b[1;32m      2\u001b[0m \u001b[0;34m\u001b[0m\u001b[0m\n\u001b[0;32m----> 3\u001b[0;31m \u001b[0;32mfor\u001b[0m \u001b[0mevent\u001b[0m \u001b[0;32min\u001b[0m \u001b[0mdata_test\u001b[0m\u001b[0;34m:\u001b[0m\u001b[0;34m\u001b[0m\u001b[0;34m\u001b[0m\u001b[0m\n\u001b[0m\u001b[1;32m      4\u001b[0m     \u001b[0;32mif\u001b[0m \u001b[0mevent\u001b[0m\u001b[0;34m[\u001b[0m\u001b[0;34m'relation'\u001b[0m\u001b[0;34m]\u001b[0m \u001b[0;34m==\u001b[0m \u001b[0;34m\"NO_CORRESPONDING_RELATION\"\u001b[0m\u001b[0;34m:\u001b[0m\u001b[0;34m\u001b[0m\u001b[0;34m\u001b[0m\u001b[0m\n\u001b[1;32m      5\u001b[0m         \u001b[0mcount\u001b[0m \u001b[0;34m+=\u001b[0m \u001b[0;36m1\u001b[0m\u001b[0;34m\u001b[0m\u001b[0;34m\u001b[0m\u001b[0m\n",
      "\u001b[0;31mNameError\u001b[0m: name 'data_test' is not defined"
     ]
    }
   ],
   "source": [
    "count = 0\n",
    "\n",
    "for event in data_test:\n",
    "    if event['relation'] == \"NO_CORRESPONDING_RELATION\":\n",
    "        count += 1\n",
    "        print(event)\n",
    "        if count == 5:\n",
    "            break"
   ]
  },
  {
   "cell_type": "code",
   "execution_count": null,
   "id": "91b613b1",
   "metadata": {},
   "outputs": [],
   "source": [
    "def print_events_with_no_corresponding_relation(original_data, mapped_data):\n",
    "    for original_event, mapped_event in zip(original_data, mapped_data):\n",
    "        if mapped_event['relation'] == \"NO_CORRESPONDING_RELATION\":\n",
    "            print(\"Original Event:\", original_event)\n",
    "            print(\"Mapped Event:\", mapped_event)\n",
    "            print()  # Newline for separation\n",
    "        \n",
    "        \n",
    "print_events_with_no_corresponding_relation(original_data, mapped_data)"
   ]
  },
  {
   "cell_type": "code",
   "execution_count": 29,
   "id": "619ab827",
   "metadata": {},
   "outputs": [
    {
     "data": {
      "application/vnd.jupyter.widget-view+json": {
       "model_id": "8f4efe454d744321a3bb3db06622f36a",
       "version_major": 2,
       "version_minor": 0
      },
      "text/plain": [
       "  0%|          | 0/42899811 [00:00<?, ?it/s]"
      ]
     },
     "metadata": {},
     "output_type": "display_data"
    },
    {
     "name": "stdout",
     "output_type": "stream",
     "text": [
      "{'Localaddress', 'Remoteport', 'Ipprotocol', 'Localport', 'Type', 'Remoteaddress'}\n"
     ]
    }
   ],
   "source": [
    "# keys = set()\n",
    "# for d in tqdm(data):\n",
    "#     if d['dst_node']['Type'] == 'network':\n",
    "#         keys = keys.union(d['dst_node'].keys())\n",
    "# keys \n",
    "\n",
    "keys = set()\n",
    "for d in tqdm(data):\n",
    "    if d['dst_node'].get('Type') == 'network':\n",
    "        keys.update(d['dst_node'].keys())\n",
    "\n",
    "print(keys)"
   ]
  },
  {
   "cell_type": "code",
   "execution_count": 40,
   "id": "c8844fbb",
   "metadata": {},
   "outputs": [
    {
     "data": {
      "application/vnd.jupyter.widget-view+json": {
       "model_id": "920499a9488243848664e5922c73345a",
       "version_major": 2,
       "version_minor": 0
      },
      "text/plain": [
       "  0%|          | 0/42899811 [00:00<?, ?it/s]"
      ]
     },
     "metadata": {},
     "output_type": "display_data"
    },
    {
     "name": "stdout",
     "output_type": "stream",
     "text": [
      "{'Localaddress', 'Remoteport', 'Ipprotocol', 'Localport', 'Type', 'Remoteaddress'}\n"
     ]
    }
   ],
   "source": [
    "# keys = set()\n",
    "# for d in tqdm(data):\n",
    "#     if d['dst_node']['Type'] == 'network':\n",
    "#         keys = keys.union(d['dst_node'].keys())\n",
    "# keys \n",
    "\n",
    "keys = set()\n",
    "for d in tqdm(data):\n",
    "    if d['dst_node'].get('Type') == 'network':\n",
    "        keys.update(d['dst_node'].keys())\n",
    "\n",
    "print(keys)"
   ]
  },
  {
   "cell_type": "code",
   "execution_count": 17,
   "id": "7e92206d",
   "metadata": {},
   "outputs": [
    {
     "data": {
      "application/vnd.jupyter.widget-view+json": {
       "model_id": "8f496f4c8aee4a3987957e3326dd19b1",
       "version_major": 2,
       "version_minor": 0
      },
      "text/plain": [
       "  0%|          | 0/42899811 [00:00<?, ?it/s]"
      ]
     },
     "metadata": {},
     "output_type": "display_data"
    },
    {
     "data": {
      "text/plain": [
       "{'Cmdline', 'Pid', 'Type'}"
      ]
     },
     "execution_count": 17,
     "metadata": {},
     "output_type": "execute_result"
    }
   ],
   "source": [
    "keys = set()\n",
    "for d in tqdm(data):\n",
    "    if d['dst_node']['Type'] == 'process':\n",
    "        keys = keys.union(d['dst_node'].keys())\n",
    "keys"
   ]
  },
  {
   "cell_type": "code",
   "execution_count": 18,
   "id": "2f4b22cb",
   "metadata": {},
   "outputs": [
    {
     "data": {
      "application/vnd.jupyter.widget-view+json": {
       "model_id": "968bc94141d849579a99e6a96262ba53",
       "version_major": 2,
       "version_minor": 0
      },
      "text/plain": [
       "  0%|          | 0/42899811 [00:00<?, ?it/s]"
      ]
     },
     "metadata": {},
     "output_type": "display_data"
    },
    {
     "data": {
      "text/plain": [
       "{'Key', 'Type'}"
      ]
     },
     "execution_count": 18,
     "metadata": {},
     "output_type": "execute_result"
    }
   ],
   "source": [
    "keys = set()\n",
    "for d in tqdm(data):\n",
    "    if d['dst_node']['Type'] == 'registry':\n",
    "        keys = keys.union(d['dst_node'].keys())\n",
    "keys"
   ]
  },
  {
   "cell_type": "code",
   "execution_count": 19,
   "id": "73b29fda",
   "metadata": {},
   "outputs": [
    {
     "data": {
      "application/vnd.jupyter.widget-view+json": {
       "model_id": "d00683276cb8492da402386b10f36f08",
       "version_major": 2,
       "version_minor": 0
      },
      "text/plain": [
       "  0%|          | 0/42899811 [00:00<?, ?it/s]"
      ]
     },
     "metadata": {},
     "output_type": "display_data"
    },
    {
     "data": {
      "text/plain": [
       "{'Filepath', 'Type'}"
      ]
     },
     "execution_count": 19,
     "metadata": {},
     "output_type": "execute_result"
    }
   ],
   "source": [
    "keys = set()\n",
    "for d in tqdm(data):\n",
    "    if d['dst_node']['Type'] == 'file':\n",
    "        keys = keys.union(d['dst_node'].keys())\n",
    "keys"
   ]
  },
  {
   "cell_type": "code",
   "execution_count": 20,
   "id": "5785830b",
   "metadata": {},
   "outputs": [
    {
     "data": {
      "application/vnd.jupyter.widget-view+json": {
       "model_id": "8987f4f5e7214d6392bb0f6ad3c94200",
       "version_major": 2,
       "version_minor": 0
      },
      "text/plain": [
       "  0%|          | 0/42899811 [00:00<?, ?it/s]"
      ]
     },
     "metadata": {},
     "output_type": "display_data"
    },
    {
     "name": "stdout",
     "output_type": "stream",
     "text": [
      "(42899811, 7)\n"
     ]
    }
   ],
   "source": [
    "save_data = list()\n",
    "for d in tqdm(data):\n",
    "    src_uuid = d['src_uuid']\n",
    "    src_node = d['src_node']\n",
    "    dst_uuid = d['dst_uuid']\n",
    "    dst_node = d['dst_node']\n",
    "    relation = d['relation']\n",
    "    label = d['label']\n",
    "    \n",
    "    src_cmdline = 'nan' if type(src_node['Cmdline']) == float and np.isnan(src_node['Cmdline']) else src_node['Cmdline']\n",
    "    dst_value = 'nan' if 'Value' not in dst_node else dst_node['Value']\n",
    "    \n",
    "    new_row = {\n",
    "        'src_uuid': src_uuid, \n",
    "#         'src': f'process:Cmdline: {cmdline}\\nImage: {src_node[\"Image\"]}\\nName: {src_node[\"Name\"]}\\nPid: {src_node[\"Pid\"]}',\n",
    "#         'src': f'process:{src_node[\"Image\"]}&{src_cmdline}&{src_node[\"Pid\"]}',\n",
    "        'src': f'process:{src_node[\"Pid\"]}&{src_cmdline}',\n",
    "        'dst_uuid': dst_uuid, \n",
    "        'dst': None, \n",
    "        'relation': relation, \n",
    "        'dst_type': dst_node['Type'].lower(),\n",
    "        'label': label\n",
    "    }\n",
    "\n",
    "    \n",
    "    if new_row['dst_type'] == 'file':\n",
    "        new_row['dst'] = new_row['dst_type'] + ':' + dst_node['Filepath']\n",
    "    elif new_row['dst_type'] == 'network':\n",
    "#         new_row['dst'] = new_row['dst_type'] + ':' + dst_node['Localport'] + '&' + dst_node['Localaddress'] + '&' + dst_node['Remoteaddress'] + '&'+ dst_node['Ipprotocol'] + '&'  + dst_node['Remoteport']\n",
    "        new_row['dst'] = new_row['dst_type'] + ':' + str(dst_node['Localport']) + '&' + str(dst_node['Localaddress']) + '&' + str(dst_node['Remoteaddress']) + '&'+ str(dst_node['Ipprotocol']) + '&'  + str(dst_node['Remoteport'])\n",
    "\n",
    "    elif new_row['dst_type'] == 'registry':\n",
    "        new_row['dst'] = new_row['dst_type'] + ':' + dst_node['Key']\n",
    "    elif new_row['dst_type'] == 'process':\n",
    "#         new_row['dst'] = new_row['dst_type'] + ':' + f'{dst_node[\"Cmdline\"]}&{dst_node[\"Image\"]}&{dst_node[\"Name\"]}&{dst_node[\"Pid\"]}'\n",
    "        new_row['dst'] = new_row['dst_type'] + ':' + f'{dst_node[\"Pid\"]}&{dst_node[\"Cmdline\"]}'\n",
    "#         new_row['dst'] = new_row['dst_type'] + ':' + f'{dst_node[\"Image\"]}&{dst_node[\"Cmdline\"]}${dst_node[\"Pid\"]}'\n",
    "        \n",
    "    new_row['src'] = new_row['src'].replace(' ', '_')\n",
    "    new_row['dst'] = new_row['dst'].replace(' ', '_')\n",
    "    \n",
    "#     if new_row['dst'] != :\n",
    "#         save_data.append(new_row)\n",
    "\n",
    "    save_data.append(new_row)\n",
    "\n",
    "df = pd.DataFrame(save_data)\n",
    "print(df.shape)"
   ]
  },
  {
   "cell_type": "code",
   "execution_count": 21,
   "id": "97da7e79",
   "metadata": {},
   "outputs": [
    {
     "data": {
      "text/html": [
       "<div>\n",
       "<style scoped>\n",
       "    .dataframe tbody tr th:only-of-type {\n",
       "        vertical-align: middle;\n",
       "    }\n",
       "\n",
       "    .dataframe tbody tr th {\n",
       "        vertical-align: top;\n",
       "    }\n",
       "\n",
       "    .dataframe thead th {\n",
       "        text-align: right;\n",
       "    }\n",
       "</style>\n",
       "<table border=\"1\" class=\"dataframe\">\n",
       "  <thead>\n",
       "    <tr style=\"text-align: right;\">\n",
       "      <th></th>\n",
       "      <th>src_uuid</th>\n",
       "      <th>src</th>\n",
       "      <th>dst_uuid</th>\n",
       "      <th>dst</th>\n",
       "      <th>relation</th>\n",
       "      <th>dst_type</th>\n",
       "      <th>label</th>\n",
       "    </tr>\n",
       "  </thead>\n",
       "  <tbody>\n",
       "    <tr>\n",
       "      <th>0</th>\n",
       "      <td>966D983C-607E-4039-BEEF-5E76BC0A4DA8</td>\n",
       "      <td>process:9432&amp;None</td>\n",
       "      <td>1987EE68-E918-4765-8082-3DE89890A305</td>\n",
       "      <td>file:\\Device\\HarddiskVolume2\\Users\\admin\\AppDa...</td>\n",
       "      <td>EVENT_OPEN</td>\n",
       "      <td>file</td>\n",
       "      <td>benign</td>\n",
       "    </tr>\n",
       "    <tr>\n",
       "      <th>1</th>\n",
       "      <td>966D983C-607E-4039-BEEF-5E76BC0A4DA8</td>\n",
       "      <td>process:9432&amp;None</td>\n",
       "      <td>1987EE68-E918-4765-8082-3DE89890A305</td>\n",
       "      <td>file:\\Device\\HarddiskVolume2\\Users\\admin\\AppDa...</td>\n",
       "      <td>EVENT_OPEN</td>\n",
       "      <td>file</td>\n",
       "      <td>benign</td>\n",
       "    </tr>\n",
       "    <tr>\n",
       "      <th>2</th>\n",
       "      <td>966D983C-607E-4039-BEEF-5E76BC0A4DA8</td>\n",
       "      <td>process:9432&amp;None</td>\n",
       "      <td>A6BD7B35-CACA-4557-BE82-33B752E35C00</td>\n",
       "      <td>file:Device\\HarddiskVolume2\\Users\\admin\\AppDat...</td>\n",
       "      <td>EVENT_OPEN</td>\n",
       "      <td>file</td>\n",
       "      <td>benign</td>\n",
       "    </tr>\n",
       "    <tr>\n",
       "      <th>3</th>\n",
       "      <td>966D983C-607E-4039-BEEF-5E76BC0A4DA8</td>\n",
       "      <td>process:9432&amp;None</td>\n",
       "      <td>A6BD7B35-CACA-4557-BE82-33B752E35C00</td>\n",
       "      <td>file:Device\\HarddiskVolume2\\Users\\admin\\AppDat...</td>\n",
       "      <td>EVENT_OPEN</td>\n",
       "      <td>file</td>\n",
       "      <td>benign</td>\n",
       "    </tr>\n",
       "    <tr>\n",
       "      <th>4</th>\n",
       "      <td>966D983C-607E-4039-BEEF-5E76BC0A4DA8</td>\n",
       "      <td>process:9432&amp;None</td>\n",
       "      <td>A6BD7B35-CACA-4557-BE82-33B752E35C00</td>\n",
       "      <td>file:Device\\HarddiskVolume2\\Users\\admin\\AppDat...</td>\n",
       "      <td>EVENT_OPEN</td>\n",
       "      <td>file</td>\n",
       "      <td>benign</td>\n",
       "    </tr>\n",
       "    <tr>\n",
       "      <th>5</th>\n",
       "      <td>966D983C-607E-4039-BEEF-5E76BC0A4DA8</td>\n",
       "      <td>process:9432&amp;None</td>\n",
       "      <td>A6BD7B35-CACA-4557-BE82-33B752E35C00</td>\n",
       "      <td>file:Device\\HarddiskVolume2\\Users\\admin\\AppDat...</td>\n",
       "      <td>EVENT_CLOSE</td>\n",
       "      <td>file</td>\n",
       "      <td>benign</td>\n",
       "    </tr>\n",
       "    <tr>\n",
       "      <th>6</th>\n",
       "      <td>966D983C-607E-4039-BEEF-5E76BC0A4DA8</td>\n",
       "      <td>process:9432&amp;None</td>\n",
       "      <td>A6BD7B35-CACA-4557-BE82-33B752E35C00</td>\n",
       "      <td>file:Device\\HarddiskVolume2\\Users\\admin\\AppDat...</td>\n",
       "      <td>EVENT_CLOSE</td>\n",
       "      <td>file</td>\n",
       "      <td>benign</td>\n",
       "    </tr>\n",
       "    <tr>\n",
       "      <th>7</th>\n",
       "      <td>966D983C-607E-4039-BEEF-5E76BC0A4DA8</td>\n",
       "      <td>process:9432&amp;None</td>\n",
       "      <td>A6BD7B35-CACA-4557-BE82-33B752E35C00</td>\n",
       "      <td>file:Device\\HarddiskVolume2\\Users\\admin\\AppDat...</td>\n",
       "      <td>EVENT_CLOSE</td>\n",
       "      <td>file</td>\n",
       "      <td>benign</td>\n",
       "    </tr>\n",
       "    <tr>\n",
       "      <th>8</th>\n",
       "      <td>966D983C-607E-4039-BEEF-5E76BC0A4DA8</td>\n",
       "      <td>process:9432&amp;None</td>\n",
       "      <td>F17B89A1-F883-41C2-B0FD-F4FD5B7C21A2</td>\n",
       "      <td>file:\\Device\\HarddiskVolume2\\Users\\admin\\AppDa...</td>\n",
       "      <td>EVENT_CREATE_OBJECT</td>\n",
       "      <td>file</td>\n",
       "      <td>benign</td>\n",
       "    </tr>\n",
       "    <tr>\n",
       "      <th>9</th>\n",
       "      <td>509DFF9D-9792-49A5-8DCC-F60F29425F5E</td>\n",
       "      <td>process:6128&amp;None</td>\n",
       "      <td>084E9EFD-62AA-4FE4-B9DC-118DC1D0222F</td>\n",
       "      <td>file:\\Device\\HarddiskVolume2</td>\n",
       "      <td>EVENT_FCNTL</td>\n",
       "      <td>file</td>\n",
       "      <td>benign</td>\n",
       "    </tr>\n",
       "  </tbody>\n",
       "</table>\n",
       "</div>"
      ],
      "text/plain": [
       "                               src_uuid                src                              dst_uuid                                                dst             relation dst_type   label\n",
       "0  966D983C-607E-4039-BEEF-5E76BC0A4DA8  process:9432&None  1987EE68-E918-4765-8082-3DE89890A305  file:\\Device\\HarddiskVolume2\\Users\\admin\\AppDa...           EVENT_OPEN     file  benign\n",
       "1  966D983C-607E-4039-BEEF-5E76BC0A4DA8  process:9432&None  1987EE68-E918-4765-8082-3DE89890A305  file:\\Device\\HarddiskVolume2\\Users\\admin\\AppDa...           EVENT_OPEN     file  benign\n",
       "2  966D983C-607E-4039-BEEF-5E76BC0A4DA8  process:9432&None  A6BD7B35-CACA-4557-BE82-33B752E35C00  file:Device\\HarddiskVolume2\\Users\\admin\\AppDat...           EVENT_OPEN     file  benign\n",
       "3  966D983C-607E-4039-BEEF-5E76BC0A4DA8  process:9432&None  A6BD7B35-CACA-4557-BE82-33B752E35C00  file:Device\\HarddiskVolume2\\Users\\admin\\AppDat...           EVENT_OPEN     file  benign\n",
       "4  966D983C-607E-4039-BEEF-5E76BC0A4DA8  process:9432&None  A6BD7B35-CACA-4557-BE82-33B752E35C00  file:Device\\HarddiskVolume2\\Users\\admin\\AppDat...           EVENT_OPEN     file  benign\n",
       "5  966D983C-607E-4039-BEEF-5E76BC0A4DA8  process:9432&None  A6BD7B35-CACA-4557-BE82-33B752E35C00  file:Device\\HarddiskVolume2\\Users\\admin\\AppDat...          EVENT_CLOSE     file  benign\n",
       "6  966D983C-607E-4039-BEEF-5E76BC0A4DA8  process:9432&None  A6BD7B35-CACA-4557-BE82-33B752E35C00  file:Device\\HarddiskVolume2\\Users\\admin\\AppDat...          EVENT_CLOSE     file  benign\n",
       "7  966D983C-607E-4039-BEEF-5E76BC0A4DA8  process:9432&None  A6BD7B35-CACA-4557-BE82-33B752E35C00  file:Device\\HarddiskVolume2\\Users\\admin\\AppDat...          EVENT_CLOSE     file  benign\n",
       "8  966D983C-607E-4039-BEEF-5E76BC0A4DA8  process:9432&None  F17B89A1-F883-41C2-B0FD-F4FD5B7C21A2  file:\\Device\\HarddiskVolume2\\Users\\admin\\AppDa...  EVENT_CREATE_OBJECT     file  benign\n",
       "9  509DFF9D-9792-49A5-8DCC-F60F29425F5E  process:6128&None  084E9EFD-62AA-4FE4-B9DC-118DC1D0222F                       file:\\Device\\HarddiskVolume2          EVENT_FCNTL     file  benign"
      ]
     },
     "execution_count": 21,
     "metadata": {},
     "output_type": "execute_result"
    }
   ],
   "source": [
    "df.head(10)"
   ]
  },
  {
   "cell_type": "markdown",
   "id": "f1d4fbe8",
   "metadata": {},
   "source": [
    "## entity2id.txt, relation2id, entity2id_objType.txt, relation2id_type.txt"
   ]
  },
  {
   "cell_type": "code",
   "execution_count": 22,
   "id": "d7e5268b",
   "metadata": {},
   "outputs": [
    {
     "name": "stdout",
     "output_type": "stream",
     "text": [
      "500281\n",
      "25\n"
     ]
    }
   ],
   "source": [
    "entity_set = set(df['src']).union(set(df['dst']))\n",
    "relation_set = set(df['relation'])\n",
    "print(len(entity_set))\n",
    "print(len(relation_set))"
   ]
  },
  {
   "cell_type": "code",
   "execution_count": 23,
   "id": "e473503e",
   "metadata": {},
   "outputs": [
    {
     "name": "stdout",
     "output_type": "stream",
     "text": [
      "{'network', 'registry', 'process', 'file'}\n",
      "Saved ./data/3_openKE/synthesize/entity2id.txt\n",
      "Saved ./data/3_openKE/synthesize/entity2id_objType.txt\n",
      "Saved ./data/3_openKE/synthesize/relation2id.txt\n",
      "Saved ./data/3_openKE/synthesize/relation2id_type.txt\n"
     ]
    }
   ],
   "source": [
    "def save_entity2id(entity_set):\n",
    "    entity_idx_dict = dict()\n",
    "    msg = f'{len(entity_set)}\\n'\n",
    "    msg2 = f'{len(entity_set)}\\n'\n",
    "    obj_types = set()\n",
    "    for idx, entity in enumerate(entity_set):\n",
    "        tmp = entity.split(':')\n",
    "        obj_type = tmp[0]\n",
    "        entity = ':'.join(tmp[1:])\n",
    "        obj_types.add(obj_type)\n",
    "        entity = str(entity).replace(' ', '_')\n",
    "#         if entity in entity_idx_dict:\n",
    "#             print('new:', idx, entity, obj_type)\n",
    "#             print('existed:', entity_idx_dict[entity], entity_obj_dict[entity])\n",
    "        if entity in entity_idx_dict:\n",
    "            print('new:', idx, entity, obj_type)\n",
    "            print('existed:', entity_idx_dict[entity])\n",
    "        msg += f'{entity}\\t{idx}\\n'\n",
    "        msg2 += f'{obj_type}\\t{idx}\\n'\n",
    "        entity_idx_dict[entity] = idx\n",
    "#         entity_obj_dict[entity] = obj_type\n",
    "    print(obj_types)\n",
    "\n",
    "    with open(f'{OUTPUT_PATH}/entity2id.txt','w') as f:\n",
    "        f.write(msg.strip())\n",
    "    with open(f'{OUTPUT_PATH}/entity2id_objType.txt','w') as f:\n",
    "        f.write(msg2.strip())\n",
    "    print(f'Saved {OUTPUT_PATH}/entity2id.txt')\n",
    "    print(f'Saved {OUTPUT_PATH}/entity2id_objType.txt')\n",
    "    \n",
    "    return entity_idx_dict\n",
    "\n",
    "\n",
    "def save_relation2id(relation_set):\n",
    "    relation_idx_dict = dict()\n",
    "    relation_types = set()\n",
    "    with open(f'{OUTPUT_PATH}/relation2id.txt', 'w') as f, \\\n",
    "         open(f'{OUTPUT_PATH}/relation2id_type.txt', 'w') as f_type:\n",
    "        \n",
    "        msg = f'{len(relation_set)}\\n'\n",
    "        msg_type = f'{len(relation_set)}\\n'\n",
    "\n",
    "        for idx, relation in enumerate(relation_set):\n",
    "            tmp = relation.split(':')\n",
    "            rel_type = tmp[0]\n",
    "            relation = ':'.join(tmp[1:])\n",
    "            relation_types.add(rel_type)\n",
    "\n",
    "            relation = str(relation).replace(' ', '_')\n",
    "            msg += f'{relation}\\t{idx}\\n'\n",
    "            msg_type += f'{rel_type}\\t{idx}\\n'\n",
    "            relation_idx_dict[relation] = idx\n",
    "\n",
    "        f.write(msg.strip())\n",
    "        f_type.write(msg_type.strip())\n",
    "\n",
    "    print(f'Saved {OUTPUT_PATH}/relation2id.txt')\n",
    "    print(f'Saved {OUTPUT_PATH}/relation2id_type.txt')\n",
    "    return relation_idx_dict\n",
    "\n",
    "\n",
    "# def save_relation2id(relation_set):\n",
    "#     relation_idx_dict = dict()\n",
    "#     with open(f'{OUTPUT_PATH}/relation2id.txt','w') as f:\n",
    "#         msg = f'{len(relation_set)}\\n'\n",
    "#         for idx, relation in enumerate(relation_set):\n",
    "#             relation = str(relation).replace(' ', '_')\n",
    "#             msg += f'{relation}\\t{idx}\\n'\n",
    "#             relation_idx_dict[relation] = idx\n",
    "#         f.write(msg.strip())\n",
    "#     print(f'Saved {OUTPUT_PATH}/relation2id.txt')\n",
    "#     return relation_idx_dict\n",
    "\n",
    "entity_id_dict = save_entity2id(entity_set)\n",
    "rel_id_dict = save_relation2id(relation_set)"
   ]
  },
  {
   "cell_type": "code",
   "execution_count": 24,
   "id": "6a5b2429",
   "metadata": {},
   "outputs": [
    {
     "name": "stdout",
     "output_type": "stream",
     "text": [
      "500281\n"
     ]
    }
   ],
   "source": [
    "print(len(entity_id_dict))"
   ]
  },
  {
   "cell_type": "markdown",
   "id": "2d54700d",
   "metadata": {},
   "source": [
    "## train2id.txt, valid2id.txt, test2id.txt, train2id_labels.txt, valid2id_labels.txt, test2id_labels.txt"
   ]
  },
  {
   "cell_type": "code",
   "execution_count": null,
   "id": "98552205",
   "metadata": {},
   "outputs": [],
   "source": [
    "triplets = list(zip(df['src'],df['dst'],df['relation'],df['dst_type'],df['label']))\n",
    "print(len(triplets))\n",
    "for t in triplets[:30]:\n",
    "    print(t[4], end=',')"
   ]
  },
  {
   "cell_type": "code",
   "execution_count": null,
   "id": "605e2554",
   "metadata": {},
   "outputs": [],
   "source": [
    "from collections import Counter\n",
    "Counter(df['label']).most_common()"
   ]
  },
  {
   "cell_type": "code",
   "execution_count": null,
   "id": "50cea946",
   "metadata": {},
   "outputs": [],
   "source": [
    "new_triplets = list()\n",
    "for triplet in tqdm(triplets):\n",
    "    src_entity = str(':'.join(triplet[0].split(':')[1:])).replace(' ', '_')\n",
    "    dst_entity = str(':'.join(triplet[1].split(':')[1:])).replace(' ', '_')\n",
    "    new_triplets.append((\n",
    "        entity_id_dict[src_entity],\n",
    "        entity_id_dict[dst_entity],\n",
    "        rel_id_dict[triplet[2].replace(' ', '_')],\n",
    "        triplet[3],\n",
    "        triplet[4]\n",
    "    ))\n",
    "len(new_triplets)"
   ]
  },
  {
   "cell_type": "code",
   "execution_count": null,
   "id": "20d358e1",
   "metadata": {
    "scrolled": true
   },
   "outputs": [],
   "source": [
    "TRAIN_SIZE = 1\n",
    "VALID_SIZE = 0.1\n",
    "TEST_SIZE = 0.1\n",
    "train_dataset = np.array(new_triplets)\n",
    "_, tmp = train_test_split(train_dataset, test_size=VALID_SIZE+TEST_SIZE, shuffle=True)\n",
    "valid_dataset, test_dataset = train_test_split(tmp, test_size=TEST_SIZE/(VALID_SIZE+TEST_SIZE),shuffle=True)\n",
    "print(f'train_dataset.shape: {train_dataset.shape} ({TRAIN_SIZE})')\n",
    "print(f'valid_dataset.shape: {valid_dataset.shape} ({VALID_SIZE})')\n",
    "print(f'test_dataset.shape: {test_dataset.shape} ({TEST_SIZE})')"
   ]
  },
  {
   "cell_type": "code",
   "execution_count": null,
   "id": "08d3de7a",
   "metadata": {},
   "outputs": [],
   "source": [
    "def save_2id_txt(data, ent_fname, ent_label_fname):\n",
    "    msg = f'{len(data)}\\n'\n",
    "    msg2 = f'{len(data)}\\n'\n",
    "    for ids in data:\n",
    "        msg += f'{ids[0]} {ids[1]} {ids[2]}\\n'\n",
    "        msg2 += f'{ids[3]} {ids[4]}\\n'\n",
    "    with open(f'{OUTPUT_PATH}/{ent_fname}', 'w') as f:\n",
    "        f.write(msg.strip())\n",
    "    print(f'Saved {OUTPUT_PATH}/{ent_fname}')\n",
    "    with open(f'{OUTPUT_PATH}/{ent_label_fname}', 'w') as f:\n",
    "        f.write(msg2.strip())\n",
    "    print(f'Saved {OUTPUT_PATH}/{ent_label_fname}')\n",
    "\n",
    "save_2id_txt(train_dataset, 'train2id.txt', 'train2id_label.txt')\n",
    "save_2id_txt(valid_dataset, 'valid2id.txt', 'valid2id_label.txt')\n",
    "save_2id_txt(test_dataset, 'test2id.txt', 'test2id_label.txt')"
   ]
  },
  {
   "cell_type": "code",
   "execution_count": null,
   "id": "401f7fe4",
   "metadata": {},
   "outputs": [],
   "source": []
  },
  {
   "cell_type": "code",
   "execution_count": null,
   "id": "076463c7",
   "metadata": {},
   "outputs": [],
   "source": []
  }
 ],
 "metadata": {
  "kernelspec": {
   "display_name": "Python 3",
   "language": "python",
   "name": "python3"
  },
  "language_info": {
   "codemirror_mode": {
    "name": "ipython",
    "version": 3
   },
   "file_extension": ".py",
   "mimetype": "text/x-python",
   "name": "python",
   "nbconvert_exporter": "python",
   "pygments_lexer": "ipython3",
   "version": "3.6.9"
  }
 },
 "nbformat": 4,
 "nbformat_minor": 5
}
