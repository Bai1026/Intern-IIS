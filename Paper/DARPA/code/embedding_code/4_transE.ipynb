{
 "cells": [
  {
   "cell_type": "code",
   "execution_count": 2,
   "id": "b78019bd",
   "metadata": {},
   "outputs": [],
   "source": [
    "import os\n",
    "import openke\n",
    "import traceback\n",
    "\n",
    "\n",
    "from openke.config import Trainer, Tester\n",
    "from openke.module.model import TransE\n",
    "from openke.module.loss import MarginLoss\n",
    "from openke.module.strategy import NegativeSampling\n",
    "from openke.data import TrainDataLoader, TestDataLoader\n",
    "\n",
    "os.environ['CUDA_VISIBLE_DEVICES'] = \"0\""
   ]
  },
  {
   "cell_type": "markdown",
   "id": "0606afd8",
   "metadata": {},
   "source": [
    "# DIM=50"
   ]
  },
  {
   "cell_type": "code",
   "execution_count": 3,
   "id": "adad22d1",
   "metadata": {},
   "outputs": [],
   "source": [
    "INPUT_PATH = './data/3_openKE/synthesize/'\n",
    "OUTPUT_EMBEDDING_PATH = './data/4_embedding/synthesize'\n",
    "OUTPUT_MODEL_PATH = './data/4_embedding/synthesize/model'\n",
    "MODEL_NAME = 'transE'\n",
    "DIM = 150 #可改：50, 100, 150\n",
    "EMBEDDING_NAME = f'{MODEL_NAME}_{DIM}.vec.json'"
   ]
  },
  {
   "cell_type": "code",
   "execution_count": null,
   "id": "abbbf9ad",
   "metadata": {},
   "outputs": [],
   "source": [
    "# dataloader for training\n",
    "print(f'Preparing train_dataloader...')\n",
    "train_dataloader = TrainDataLoader(\n",
    "\tin_path = INPUT_PATH, \n",
    "\tnbatches = 500,\n",
    "\tthreads = os.cpu_count(), \n",
    "\tsampling_mode = \"normal\", \n",
    "\tbern_flag = 1, \n",
    "\tfilter_flag = 1, \n",
    "\tneg_ent = 25,\n",
    "\tneg_rel = 0)"
   ]
  },
  {
   "cell_type": "code",
   "execution_count": 4,
   "id": "dd4ab7c3",
   "metadata": {},
   "outputs": [
    {
     "name": "stdout",
     "output_type": "stream",
     "text": [
      "Defining the model...\n",
      "Finish initializing...\n"
     ]
    },
    {
     "name": "stderr",
     "output_type": "stream",
     "text": [
      "Epoch 499 | loss: 0.826426: 100%|██████████| 500/500 [5:20:35<00:00, 38.47s/it]  \n"
     ]
    },
    {
     "name": "stdout",
     "output_type": "stream",
     "text": [
      "Finish training the model\n"
     ]
    }
   ],
   "source": [
    "# define the model\n",
    "print('Defining the model...')\n",
    "transe = TransE(\n",
    "\tent_tot = train_dataloader.get_ent_tot(),\n",
    "\trel_tot = train_dataloader.get_rel_tot(),\n",
    "\tdim = DIM, \n",
    "\tp_norm = 1, \n",
    "\tnorm_flag = True)\n",
    "\n",
    "model_e = NegativeSampling(\n",
    "\tmodel = transe, \n",
    "\tloss = MarginLoss(margin = 5.0),\n",
    "\tbatch_size = train_dataloader.get_batch_size())\n",
    "\n",
    "# train transe\n",
    "trainer = Trainer(model = model_e, data_loader = train_dataloader, train_times = 500, alpha = 1.0, use_gpu = True)\n",
    "trainer.run()\n",
    "transe.save_checkpoint(f'{OUTPUT_MODEL_PATH}/{MODEL_NAME}_{DIM}.ckpt')\n",
    "print('Finish training the model')"
   ]
  },
  {
   "cell_type": "code",
   "execution_count": 5,
   "id": "4926ce4c",
   "metadata": {},
   "outputs": [
    {
     "name": "stdout",
     "output_type": "stream",
     "text": [
      "Saving embedding...\n"
     ]
    }
   ],
   "source": [
    "# save the embeddings\n",
    "print('Saving embedding...')\n",
    "transe.save_parameters(f\"{OUTPUT_EMBEDDING_PATH}/{EMBEDDING_NAME}\")"
   ]
  },
  {
   "cell_type": "markdown",
   "id": "427e1049",
   "metadata": {},
   "source": [
    "### Loss and Time\n",
    "##### dim = 50\n",
    "Epoch 499 | loss: 11.588346: 100%|██████████| 500/500 [3:10:06<00:00, 22.81s/it]  \n",
    "##### dim=150\n",
    "Epoch 499 | loss: 0.826426: 100%|██████████| 500/500 [5:20:35<00:00, 38.47s/it]  \n"
   ]
  },
  {
   "cell_type": "code",
   "execution_count": null,
   "id": "382ea7a6",
   "metadata": {},
   "outputs": [],
   "source": []
  }
 ],
 "metadata": {
  "kernelspec": {
   "display_name": "Python 3 (ipykernel)",
   "language": "python",
   "name": "python3"
  },
  "language_info": {
   "codemirror_mode": {
    "name": "ipython",
    "version": 3
   },
   "file_extension": ".py",
   "mimetype": "text/x-python",
   "name": "python",
   "nbconvert_exporter": "python",
   "pygments_lexer": "ipython3",
   "version": "3.10.13"
  }
 },
 "nbformat": 4,
 "nbformat_minor": 5
}
