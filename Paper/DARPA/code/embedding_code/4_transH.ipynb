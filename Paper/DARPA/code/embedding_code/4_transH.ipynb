{
 "cells": [
  {
   "cell_type": "code",
   "execution_count": 1,
   "id": "b78019bd",
   "metadata": {},
   "outputs": [],
   "source": [
    "import os\n",
    "import traceback\n",
    "import openke\n",
    "from openke.config import Trainer, Tester\n",
    "from openke.module.model import TransH\n",
    "from openke.module.loss import MarginLoss\n",
    "from openke.module.strategy import NegativeSampling\n",
    "from openke.data import TrainDataLoader, TestDataLoader\n",
    "os.environ['CUDA_VISIBLE_DEVICES'] = \"2\""
   ]
  },
  {
   "cell_type": "markdown",
   "id": "0606afd8",
   "metadata": {},
   "source": [
    "# DIM=50"
   ]
  },
  {
   "cell_type": "code",
   "execution_count": 2,
   "id": "adad22d1",
   "metadata": {},
   "outputs": [],
   "source": [
    "INPUT_PATH = './data/3_openKE/synthesize/'\n",
    "OUTPUT_EMBEDDING_PATH = './data/4_embedding/synthesize'\n",
    "OUTPUT_MODEL_PATH = './data/4_embedding/synthesize/model'\n",
    "MODEL_NAME = 'transH'\n",
    "DIM = 150 #可改：50, 100, 150\n",
    "EMBEDDING_NAME = f'{MODEL_NAME}_{DIM}.vec.json'"
   ]
  },
  {
   "cell_type": "code",
   "execution_count": 3,
   "id": "abbbf9ad",
   "metadata": {},
   "outputs": [
    {
     "name": "stdout",
     "output_type": "stream",
     "text": [
      "Preparing train_dataloader...\n"
     ]
    }
   ],
   "source": [
    "# dataloader for training\n",
    "print(f'Preparing train_dataloader...')\n",
    "train_dataloader = TrainDataLoader(\n",
    "\tin_path = INPUT_PATH, \n",
    "\tnbatches = 500,\n",
    "\tthreads = os.cpu_count(), \n",
    "\tsampling_mode = \"normal\", \n",
    "\tbern_flag = 1, \n",
    "\tfilter_flag = 1, \n",
    "\tneg_ent = 25,\n",
    "\tneg_rel = 0)"
   ]
  },
  {
   "cell_type": "code",
   "execution_count": 4,
   "id": "dd4ab7c3",
   "metadata": {},
   "outputs": [
    {
     "name": "stdout",
     "output_type": "stream",
     "text": [
      "Defining the model...\n",
      "Finish initializing...\n"
     ]
    },
    {
     "name": "stderr",
     "output_type": "stream",
     "text": [
      "Epoch 499 | loss: 0.496723: 100%|██████████| 500/500 [8:14:03<00:00, 59.29s/it]  \n"
     ]
    },
    {
     "name": "stdout",
     "output_type": "stream",
     "text": [
      "Finish training the model\n"
     ]
    }
   ],
   "source": [
    "# define the model\n",
    "print('Defining the model...')\n",
    "transh = TransH(\n",
    "\tent_tot = train_dataloader.get_ent_tot(),\n",
    "\trel_tot = train_dataloader.get_rel_tot(),\n",
    "\tdim = DIM, \n",
    "\tp_norm = 1, \n",
    "\tnorm_flag = True)\n",
    "\n",
    "model_h = NegativeSampling(\n",
    "\tmodel = transh, \n",
    "\tloss = MarginLoss(margin = 5.0),\n",
    "\tbatch_size = train_dataloader.get_batch_size())\n",
    "\n",
    "# train transh\n",
    "trainer = Trainer(model = model_h, data_loader = train_dataloader, train_times = 500, alpha = 1.0, use_gpu = True)\n",
    "trainer.run()\n",
    "transh.save_checkpoint(f'{OUTPUT_MODEL_PATH}/{MODEL_NAME}_{DIM}.ckpt')\n",
    "print('Finish training the model')"
   ]
  },
  {
   "cell_type": "code",
   "execution_count": 5,
   "id": "fcdb4a75",
   "metadata": {},
   "outputs": [
    {
     "name": "stdout",
     "output_type": "stream",
     "text": [
      "Saving embedding...\n"
     ]
    }
   ],
   "source": [
    "# save the embeddings\n",
    "print('Saving embedding...')\n",
    "transh.save_parameters(f\"{OUTPUT_EMBEDDING_PATH}/{EMBEDDING_NAME}\")"
   ]
  },
  {
   "cell_type": "markdown",
   "id": "73fcde1d",
   "metadata": {},
   "source": [
    "### Loss and Time\n",
    "##### dim = 100\n",
    "Epoch 499 | loss: 1.202724: 100%|██████████| 500/500 [6:15:39<00:00, 45.08s/it]  \n",
    "##### dim = 150\n",
    "Epoch 499 | loss: 0.496723: 100%|██████████| 500/500 [8:14:03<00:00, 59.29s/it]  \n"
   ]
  },
  {
   "cell_type": "markdown",
   "id": "2f6dfbbe",
   "metadata": {},
   "source": [
    "### Testing"
   ]
  },
  {
   "cell_type": "code",
   "execution_count": 6,
   "id": "ca73b5de",
   "metadata": {},
   "outputs": [],
   "source": [
    "import json\n",
    "import numpy as np\n",
    "from sklearn.decomposition import PCA\n",
    "import matplotlib.pyplot as plt"
   ]
  },
  {
   "cell_type": "code",
   "execution_count": 7,
   "id": "1508f069",
   "metadata": {},
   "outputs": [],
   "source": [
    "def get_entity_labels():\n",
    "    labels = list()\n",
    "    with open(f'{INPUT_PATH}entity2id_objType.txt') as f:\n",
    "        for line in f.readlines()[1:]:\n",
    "             dst_type, id = line.split('\\t')\n",
    "             labels.append(dst_type)\n",
    "    return labels\n",
    "\n",
    "def dimension_reduce(data):\n",
    "    ent_embeddings = np.array(data['ent_embeddings.weight'])\n",
    "    rel_embeddings = np.array(data['rel_embeddings.weight'])\n",
    "    print(ent_embeddings.shape)\n",
    "    print(rel_embeddings.shape)\n",
    "    pca = PCA(n_components=2)\n",
    "    ent_X = pca.fit_transform(ent_embeddings)\n",
    "    rel_X = pca.fit_transform(rel_embeddings)\n",
    "    print(ent_X.shape)\n",
    "    print(rel_X.shape)\n",
    "    reduced_embedding = {\n",
    "        'ent_embeddings': np.array(ent_X.tolist()),\n",
    "        'rel_embeddings': np.array(rel_X.tolist())\n",
    "    }\n",
    "    return reduced_embedding\n",
    "\n",
    "def draw_ent_embedding(X, labels, model, dim):\n",
    "    colors = {'process': 'red', 'file': 'green', 'network': 'blue', 'registry': 'purple'}\n",
    "    markers = {'process': '+', 'file': 'x', 'network': '1', 'registry': '2'}\n",
    "    x1 = X[:, 0]\n",
    "    x2 = X[:, 1]\n",
    "    print_cat = ['process','file','network','registry']\n",
    "    fig, (ax1, ax2) = plt.subplots(1, 2, figsize=(10, 6))\n",
    "    for cat in print_cat:\n",
    "        flags = [True if l == cat else False for l in labels]\n",
    "        ax1.scatter(x1[flags], x2[flags], color=colors[cat], marker=markers[cat], label=f'{cat}({sum(flags)})')\n",
    "        ax2.scatter(x1[flags], x2[flags], color=colors[cat], marker=markers[cat], label=f'{cat}({sum(flags)})')\n",
    "    ax1.set_xlim([np.percentile(x1, 1),np.percentile(x1, 99)])\n",
    "    ax1.set_ylim([np.percentile(x2, 1),np.percentile(x2, 99)])\n",
    "    ax2.set_xlim([np.percentile(x1, 0),np.percentile(x1, 99.999)])\n",
    "    ax2.set_ylim([np.percentile(x2, 0),np.percentile(x2, 99.999)])\n",
    "    fig.tight_layout()\n",
    "    # Add a legend and labels\n",
    "    plt.title(f'Entity Embedding({model}, dim={dim})')\n",
    "    plt.legend()\n",
    "    plt.xlabel(f'pca1')\n",
    "    plt.ylabel(f'pca2')\n",
    "    plt.show()\n",
    "def draw_rel_embedding(X, y, model, dim):\n",
    "    x1 = X[:, 0]\n",
    "    x2 = X[:, 1]\n",
    "    fig, ax = plt.subplots(figsize=(10, 10))\n",
    "    print_cat = ['process','file','network','registry', 'other']\n",
    "    for cat in print_cat:\n",
    "        flags = [True if label_type[l] == cat else False for l in y]\n",
    "        ax.scatter(x1[flags], x2[flags], color=colors[cat], label=f'{cat}({sum(flags)})')\n",
    "    for i, txt in enumerate(y):\n",
    "        ax.annotate(txt, (x1[i], x2[i]))\n",
    "        \n",
    "    plt.title(f'Relation Embedding({model}, dim={dim})')\n",
    "    plt.legend()\n",
    "    plt.xlabel(f'pca1')\n",
    "    plt.ylabel(f'pca2')\n",
    "    plt.show()"
   ]
  },
  {
   "cell_type": "code",
   "execution_count": null,
   "id": "0668cdc3",
   "metadata": {},
   "outputs": [],
   "source": []
  },
  {
   "cell_type": "code",
   "execution_count": null,
   "id": "18ed0219",
   "metadata": {},
   "outputs": [],
   "source": []
  }
 ],
 "metadata": {
  "kernelspec": {
   "display_name": "Python 3",
   "language": "python",
   "name": "python3"
  },
  "language_info": {
   "codemirror_mode": {
    "name": "ipython",
    "version": 3
   },
   "file_extension": ".py",
   "mimetype": "text/x-python",
   "name": "python",
   "nbconvert_exporter": "python",
   "pygments_lexer": "ipython3",
   "version": "3.6.9"
  }
 },
 "nbformat": 4,
 "nbformat_minor": 5
}
