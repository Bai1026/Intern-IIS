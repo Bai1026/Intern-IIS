{
 "cells": [
  {
   "cell_type": "code",
   "execution_count": 6,
   "id": "ee0bb7ba",
   "metadata": {},
   "outputs": [
    {
     "name": "stdout",
     "output_type": "stream",
     "text": [
      "/workdir/home/bai/Euni_HO_modified\n",
      "total 3608\n",
      "-rw-rw-r-- 1 euni euni  27520 十二 26 23:02 3_convert_to_openke_input.ipynb\n",
      "-rw-rw-r-- 1 euni euni 939005 十二 12 21:51 4_embedding_visualization.ipynb\n",
      "-rw-rw-r-- 1 euni euni 690732 十二 24 16:06 4_secBERT_entity.ipynb\n",
      "-rw-rw-r-- 1 euni euni  74855 十二 24 16:28 4_secBERT_relation.ipynb\n",
      "-rw-rw-r-- 1 euni euni 689360 十二 12 21:51 4_secureBERT_entity.ipynb\n",
      "-rw-rw-r-- 1 euni euni 110537 十二 23 21:28 4_secureBERT_relation.ipynb\n",
      "-rw-rw-r-- 1 euni euni   6135 十二 27 00:04 4_transE.ipynb\n",
      "-rw-rw-r-- 1 euni euni   8185 十二 12 21:51 4_transH.ipynb\n",
      "-rw-rw-r-- 1 euni euni  10909 十二 26 23:58 4_transR.ipynb\n",
      "-rw-rw-r-- 1 euni euni 647378 十二 12 22:13 5_convert_to_apg_format.ipynb\n",
      "-rw-rw-r-- 1 euni euni 201506 十二 12 21:51 6_mlp.ipynb\n",
      "-rw-rw-r-- 1 euni euni 262358 十二 12 21:51 6_rnn.ipynb\n",
      "drwxrwxr-x 4 euni euni     53 十二 26 23:41 data\n",
      "drwxrwxr-x 6 euni euni    129 十二 27 00:03 OpenKE\n"
     ]
    }
   ],
   "source": [
    "!pwd\n",
    "!ls -l"
   ]
  },
  {
   "cell_type": "code",
   "execution_count": 3,
   "id": "365c04bc",
   "metadata": {},
   "outputs": [
    {
     "data": {
      "text/plain": [
       "'/workdir/home/bai/Euni_HO_modified'"
      ]
     },
     "execution_count": 3,
     "metadata": {},
     "output_type": "execute_result"
    }
   ],
   "source": [
    "%pwd"
   ]
  },
  {
   "cell_type": "code",
   "execution_count": 4,
   "id": "0b2951ff",
   "metadata": {},
   "outputs": [
    {
     "name": "stdout",
     "output_type": "stream",
     "text": [
      "/workdir/home/bai/Euni_HO_modified/OpenKE\n",
      "\u001b[0m\u001b[01;34mbenchmarks\u001b[0m/  \u001b[01;34mexamples\u001b[0m/  README.md\n",
      "\u001b[01;34mcheckpoint\u001b[0m/  \u001b[01;34mopenke\u001b[0m/    \u001b[01;32mtrain_transe_FB15K237.py\u001b[0m*\n"
     ]
    }
   ],
   "source": [
    "%cd OpenKE\n",
    "%ls"
   ]
  },
  {
   "cell_type": "code",
   "execution_count": 13,
   "id": "0ce3c6d4",
   "metadata": {},
   "outputs": [
    {
     "name": "stdout",
     "output_type": "stream",
     "text": [
      "/workdir/home/bai/Euni_HO_modified/OpenKE/openke\n",
      "\u001b[0m\u001b[01;34mbase\u001b[0m/  \u001b[01;34mconfig\u001b[0m/  \u001b[01;34mdata\u001b[0m/  \u001b[01;32m__init__.py\u001b[0m*  \u001b[01;32mmake.sh\u001b[0m*  \u001b[01;34mmodule\u001b[0m/  \u001b[01;34m__pycache__\u001b[0m/  \u001b[01;34mrelease\u001b[0m/\n"
     ]
    }
   ],
   "source": [
    "%cd openke\n",
    "%ls"
   ]
  },
  {
   "cell_type": "code",
   "execution_count": 6,
   "id": "f582f158",
   "metadata": {},
   "outputs": [
    {
     "ename": "ImportError",
     "evalue": "cannot import name 'Trainer'",
     "output_type": "error",
     "traceback": [
      "\u001b[0;31m---------------------------------------------------------------------------\u001b[0m",
      "\u001b[0;31mImportError\u001b[0m                               Traceback (most recent call last)",
      "\u001b[0;32m<ipython-input-6-c3470a1a6d12>\u001b[0m in \u001b[0;36m<module>\u001b[0;34m\u001b[0m\n\u001b[0;32m----> 1\u001b[0;31m \u001b[0;32mfrom\u001b[0m \u001b[0mopenke\u001b[0m\u001b[0;34m.\u001b[0m\u001b[0mconfig\u001b[0m \u001b[0;32mimport\u001b[0m \u001b[0mTrainer\u001b[0m\u001b[0;34m,\u001b[0m \u001b[0mTester\u001b[0m\u001b[0;34m\u001b[0m\u001b[0;34m\u001b[0m\u001b[0m\n\u001b[0m",
      "\u001b[0;31mImportError\u001b[0m: cannot import name 'Trainer'"
     ]
    }
   ],
   "source": [
    "from openke.config import Trainer, Tester"
   ]
  },
  {
   "cell_type": "code",
   "execution_count": 7,
   "id": "917dafa5",
   "metadata": {},
   "outputs": [],
   "source": [
    "import sys\n",
    "sys.path.append('/workdir/home/bai/Euni_HO_modified/OpenKE')"
   ]
  },
  {
   "cell_type": "code",
   "execution_count": 11,
   "id": "3081f7d4",
   "metadata": {},
   "outputs": [
    {
     "ename": "ImportError",
     "evalue": "cannot import name 'TransR'",
     "output_type": "error",
     "traceback": [
      "\u001b[0;31m---------------------------------------------------------------------------\u001b[0m",
      "\u001b[0;31mImportError\u001b[0m                               Traceback (most recent call last)",
      "\u001b[0;32m<ipython-input-11-cc4e042b2859>\u001b[0m in \u001b[0;36m<module>\u001b[0;34m\u001b[0m\n\u001b[1;32m      3\u001b[0m \u001b[0;34m\u001b[0m\u001b[0m\n\u001b[1;32m      4\u001b[0m \u001b[0;31m# from openke.config import Trainer, Tester\u001b[0m\u001b[0;34m\u001b[0m\u001b[0;34m\u001b[0m\u001b[0;34m\u001b[0m\u001b[0m\n\u001b[0;32m----> 5\u001b[0;31m \u001b[0;32mfrom\u001b[0m \u001b[0mopenke\u001b[0m\u001b[0;34m.\u001b[0m\u001b[0mconfig\u001b[0m \u001b[0;32mimport\u001b[0m \u001b[0mTransR\u001b[0m\u001b[0;34m\u001b[0m\u001b[0;34m\u001b[0m\u001b[0m\n\u001b[0m",
      "\u001b[0;31mImportError\u001b[0m: cannot import name 'TransR'"
     ]
    }
   ],
   "source": [
    "import sys\n",
    "sys.path.append('/workdir/home/bai/Euni_HO_modified/OpenKE')\n",
    "\n",
    "# from openke.config import Trainer, Tester\n",
    "from openke.config import TransR\n"
   ]
  },
  {
   "cell_type": "code",
   "execution_count": 19,
   "id": "7726ae74",
   "metadata": {},
   "outputs": [
    {
     "name": "stdout",
     "output_type": "stream",
     "text": [
      "/workdir/home/bai/Euni_HO_modified/OpenKE/openke\n"
     ]
    },
    {
     "data": {
      "text/plain": [
       "'/workdir/home/bai/Euni_HO_modified/OpenKE/openke'"
      ]
     },
     "execution_count": 19,
     "metadata": {},
     "output_type": "execute_result"
    }
   ],
   "source": [
    "%cd openke\n",
    "%pwd\n",
    "%ls"
   ]
  },
  {
   "cell_type": "code",
   "execution_count": 1,
   "id": "b78019bd",
   "metadata": {},
   "outputs": [],
   "source": [
    "\n",
    "\n",
    "import os\n",
    "import openke\n",
    "import traceback\n",
    "\n",
    "\n",
    "from openke.config import Trainer, Tester\n",
    "from openke.module.model import TransE\n",
    "from openke.module.loss import MarginLoss\n",
    "from openke.module.strategy import NegativeSampling\n",
    "from openke.data import TrainDataLoader, TestDataLoader\n",
    "\n",
    "os.environ['CUDA_VISIBLE_DEVICES'] = \"2\""
   ]
  },
  {
   "cell_type": "markdown",
   "id": "0606afd8",
   "metadata": {},
   "source": [
    "# DIM=50"
   ]
  },
  {
   "cell_type": "code",
   "execution_count": 22,
   "id": "adad22d1",
   "metadata": {},
   "outputs": [],
   "source": [
    "INPUT_PATH = './data/3_openKE/synthesize/'\n",
    "OUTPUT_EMBEDDING_PATH = './data/4_embedding/synthesize'\n",
    "OUTPUT_MODEL_PATH = './data/4_embedding/synthesize/model'\n",
    "MODEL_NAME = 'transE'\n",
    "DIM = 150 #可改：50, 100, 150\n",
    "EMBEDDING_NAME = f'{MODEL_NAME}_{DIM}.vec.json'"
   ]
  },
  {
   "cell_type": "code",
   "execution_count": 1,
   "id": "abbbf9ad",
   "metadata": {},
   "outputs": [
    {
     "name": "stdout",
     "output_type": "stream",
     "text": [
      "Preparing train_dataloader...\n"
     ]
    },
    {
     "ename": "NameError",
     "evalue": "name 'TrainDataLoader' is not defined",
     "output_type": "error",
     "traceback": [
      "\u001b[0;31m---------------------------------------------------------------------------\u001b[0m",
      "\u001b[0;31mNameError\u001b[0m                                 Traceback (most recent call last)",
      "\u001b[0;32m<ipython-input-1-89279b5f74f8>\u001b[0m in \u001b[0;36m<module>\u001b[0;34m\u001b[0m\n\u001b[1;32m      1\u001b[0m \u001b[0;31m# dataloader for training\u001b[0m\u001b[0;34m\u001b[0m\u001b[0;34m\u001b[0m\u001b[0;34m\u001b[0m\u001b[0m\n\u001b[1;32m      2\u001b[0m \u001b[0mprint\u001b[0m\u001b[0;34m(\u001b[0m\u001b[0;34mf'Preparing train_dataloader...'\u001b[0m\u001b[0;34m)\u001b[0m\u001b[0;34m\u001b[0m\u001b[0;34m\u001b[0m\u001b[0m\n\u001b[0;32m----> 3\u001b[0;31m train_dataloader = TrainDataLoader(\n\u001b[0m\u001b[1;32m      4\u001b[0m         \u001b[0min_path\u001b[0m \u001b[0;34m=\u001b[0m \u001b[0mINPUT_PATH\u001b[0m\u001b[0;34m,\u001b[0m\u001b[0;34m\u001b[0m\u001b[0;34m\u001b[0m\u001b[0m\n\u001b[1;32m      5\u001b[0m         \u001b[0mnbatches\u001b[0m \u001b[0;34m=\u001b[0m \u001b[0;36m500\u001b[0m\u001b[0;34m,\u001b[0m\u001b[0;34m\u001b[0m\u001b[0;34m\u001b[0m\u001b[0m\n",
      "\u001b[0;31mNameError\u001b[0m: name 'TrainDataLoader' is not defined"
     ]
    }
   ],
   "source": [
    "# dataloader for training\n",
    "print(f'Preparing train_dataloader...')\n",
    "train_dataloader = TrainDataLoader(\n",
    "\tin_path = INPUT_PATH, \n",
    "\tnbatches = 500,\n",
    "\tthreads = os.cpu_count(), \n",
    "\tsampling_mode = \"normal\", \n",
    "\tbern_flag = 1, \n",
    "\tfilter_flag = 1, \n",
    "\tneg_ent = 25,\n",
    "\tneg_rel = 0)"
   ]
  },
  {
   "cell_type": "code",
   "execution_count": 4,
   "id": "dd4ab7c3",
   "metadata": {},
   "outputs": [
    {
     "name": "stdout",
     "output_type": "stream",
     "text": [
      "Defining the model...\n",
      "Finish initializing...\n"
     ]
    },
    {
     "name": "stderr",
     "output_type": "stream",
     "text": [
      "Epoch 499 | loss: 0.826426: 100%|██████████| 500/500 [5:20:35<00:00, 38.47s/it]  \n"
     ]
    },
    {
     "name": "stdout",
     "output_type": "stream",
     "text": [
      "Finish training the model\n"
     ]
    }
   ],
   "source": [
    "# define the model\n",
    "print('Defining the model...')\n",
    "transe = TransE(\n",
    "\tent_tot = train_dataloader.get_ent_tot(),\n",
    "\trel_tot = train_dataloader.get_rel_tot(),\n",
    "\tdim = DIM, \n",
    "\tp_norm = 1, \n",
    "\tnorm_flag = True)\n",
    "\n",
    "model_e = NegativeSampling(\n",
    "\tmodel = transe, \n",
    "\tloss = MarginLoss(margin = 5.0),\n",
    "\tbatch_size = train_dataloader.get_batch_size())\n",
    "\n",
    "# train transe\n",
    "trainer = Trainer(model = model_e, data_loader = train_dataloader, train_times = 500, alpha = 1.0, use_gpu = True)\n",
    "trainer.run()\n",
    "transe.save_checkpoint(f'{OUTPUT_MODEL_PATH}/{MODEL_NAME}_{DIM}.ckpt')\n",
    "print('Finish training the model')"
   ]
  },
  {
   "cell_type": "code",
   "execution_count": 5,
   "id": "4926ce4c",
   "metadata": {},
   "outputs": [
    {
     "name": "stdout",
     "output_type": "stream",
     "text": [
      "Saving embedding...\n"
     ]
    }
   ],
   "source": [
    "# save the embeddings\n",
    "print('Saving embedding...')\n",
    "transe.save_parameters(f\"{OUTPUT_EMBEDDING_PATH}/{EMBEDDING_NAME}\")"
   ]
  },
  {
   "cell_type": "markdown",
   "id": "427e1049",
   "metadata": {},
   "source": [
    "### Loss and Time\n",
    "##### dim = 50\n",
    "Epoch 499 | loss: 11.588346: 100%|██████████| 500/500 [3:10:06<00:00, 22.81s/it]  \n",
    "##### dim=150\n",
    "Epoch 499 | loss: 0.826426: 100%|██████████| 500/500 [5:20:35<00:00, 38.47s/it]  \n"
   ]
  },
  {
   "cell_type": "code",
   "execution_count": null,
   "id": "382ea7a6",
   "metadata": {},
   "outputs": [],
   "source": []
  }
 ],
 "metadata": {
  "kernelspec": {
   "display_name": "Python 3",
   "language": "python",
   "name": "python3"
  },
  "language_info": {
   "codemirror_mode": {
    "name": "ipython",
    "version": 3
   },
   "file_extension": ".py",
   "mimetype": "text/x-python",
   "name": "python",
   "nbconvert_exporter": "python",
   "pygments_lexer": "ipython3",
   "version": "3.6.9"
  }
 },
 "nbformat": 4,
 "nbformat_minor": 5
}
