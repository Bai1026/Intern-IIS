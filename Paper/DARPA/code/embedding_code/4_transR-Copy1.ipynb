{
 "cells": [
  {
   "cell_type": "code",
   "execution_count": 1,
   "id": "b78019bd",
   "metadata": {},
   "outputs": [],
   "source": [
    "import os\n",
    "import traceback\n",
    "import openke\n",
    "\n",
    "from openke.config import Trainer, Tester\n",
    "from openke.module.model import TransE, TransR\n",
    "from openke.module.loss import MarginLoss\n",
    "from openke.module.strategy import NegativeSampling\n",
    "from openke.data import TrainDataLoader, TestDataLoader\n",
    "\n",
    "os.environ['CUDA_VISIBLE_DEVICES'] = \"2\"\n",
    "CPU_COUNT = 30"
   ]
  },
  {
   "cell_type": "code",
   "execution_count": null,
   "id": "c17c839b",
   "metadata": {},
   "outputs": [],
   "source": []
  },
  {
   "cell_type": "markdown",
   "id": "0606afd8",
   "metadata": {},
   "source": [
    "# DIM=50"
   ]
  },
  {
   "cell_type": "code",
   "execution_count": 3,
   "id": "adad22d1",
   "metadata": {},
   "outputs": [],
   "source": [
    "INPUT_PATH = './data/3_openKE/synthesize/'\n",
    "OUTPUT_EMBEDDING_PATH = './data/4_embedding/synthesize'\n",
    "OUTPUT_MODEL_PATH = './data/4_embedding/synthesize/model'\n",
    "MODEL_NAME = 'transR'\n",
    "DIM = 50 #只能50不然會 CUDA out of memory.\n",
    "EMBEDDING_NAME = f'{MODEL_NAME}_{DIM}.vec.json'"
   ]
  },
  {
   "cell_type": "code",
   "execution_count": null,
   "id": "bff0bd7b",
   "metadata": {},
   "outputs": [],
   "source": []
  },
  {
   "cell_type": "code",
   "execution_count": 4,
   "id": "abbbf9ad",
   "metadata": {},
   "outputs": [
    {
     "name": "stdout",
     "output_type": "stream",
     "text": [
      "Preparing train_dataloader...\n"
     ]
    }
   ],
   "source": [
    "# dataloader for training\n",
    "print(f'Preparing train_dataloader...')\n",
    "train_dataloader = TrainDataLoader(\n",
    "\tin_path = INPUT_PATH, \n",
    "\tnbatches = 1000,\n",
    "\tthreads = CPU_COUNT, \n",
    "\tsampling_mode = \"normal\", \n",
    "\tbern_flag = 1, \n",
    "\tfilter_flag = 1, \n",
    "\tneg_ent = 25,\n",
    "\tneg_rel = 0)"
   ]
  },
  {
   "cell_type": "code",
   "execution_count": null,
   "id": "86462e68",
   "metadata": {},
   "outputs": [],
   "source": []
  },
  {
   "cell_type": "code",
   "execution_count": 5,
   "id": "dd4ab7c3",
   "metadata": {},
   "outputs": [
    {
     "name": "stdout",
     "output_type": "stream",
     "text": [
      "Defining the model...\n",
      "Finish initializing...\n"
     ]
    },
    {
     "name": "stderr",
     "output_type": "stream",
     "text": [
      "Epoch 499 | loss: 133.563006: 100%|██████████| 500/500 [1:24:32<00:00, 10.14s/it]\n"
     ]
    },
    {
     "name": "stdout",
     "output_type": "stream",
     "text": [
      "Finish initializing...\n"
     ]
    },
    {
     "name": "stderr",
     "output_type": "stream",
     "text": [
      "Epoch 299 | loss: 94.865339: 100%|██████████| 300/300 [1:05:34<00:00, 13.12s/it]\n"
     ]
    },
    {
     "name": "stdout",
     "output_type": "stream",
     "text": [
      "Finish training the model\n",
      "Saving embedding...\n"
     ]
    }
   ],
   "source": [
    "# define the model\n",
    "print('Defining the model...')\n",
    "\n",
    "transe = TransE(\n",
    "\tent_tot = train_dataloader.get_ent_tot(),\n",
    "\trel_tot = train_dataloader.get_rel_tot(),\n",
    "\tdim = DIM, \n",
    "\tp_norm = 1, \n",
    "\tnorm_flag = True)\n",
    "\n",
    "model_e = NegativeSampling(\n",
    "\tmodel = transe, \n",
    "\tloss = MarginLoss(margin = 5.0),\n",
    "\tbatch_size = train_dataloader.get_batch_size())\n",
    "\n",
    "transr = TransR(\n",
    "\tent_tot = train_dataloader.get_ent_tot(),\n",
    "\trel_tot = train_dataloader.get_rel_tot(),\n",
    "\tdim_e = DIM,\n",
    "\tdim_r = DIM,\n",
    "\tp_norm = 1, \n",
    "\tnorm_flag = True,\n",
    "    rand_init = False)\n",
    "\n",
    "model_r = NegativeSampling(\n",
    "\tmodel = transr, \n",
    "\tloss = MarginLoss(margin = 5.0),\n",
    "\tbatch_size = train_dataloader.get_batch_size())\n",
    "\n",
    "#pretrain transe\n",
    "trainer = Trainer(model = model_e, data_loader = train_dataloader, train_times = 500, alpha = 0.5, use_gpu = True)\n",
    "trainer.run()\n",
    "parameters = transe.get_parameters()\n",
    "transe.save_parameters(f\"{OUTPUT_EMBEDDING_PATH}/transE_{DIM}.vec.json\")\n",
    "# transe.load_checkpoint(f'./data/3_openKE_model/synthesize/v5/benign_and_expand_atk/transE_100.ckpt')\n",
    "# parameters = transe.get_parameters()\n",
    "\n",
    "# train transr\n",
    "transr.set_parameters(parameters)\n",
    "trainer = Trainer(model = model_r, data_loader = train_dataloader, train_times = 300, alpha = 1.0, use_gpu = True)\n",
    "trainer.run()\n",
    "transr.save_checkpoint(f'{OUTPUT_MODEL_PATH}/{MODEL_NAME}_{DIM}.ckpt')\n",
    "print('Finish training the model')\n",
    "\n",
    "# save the embeddings\n",
    "print('Saving embedding...')\n",
    "transr.save_parameters(f\"{OUTPUT_EMBEDDING_PATH}/{EMBEDDING_NAME}\")"
   ]
  },
  {
   "cell_type": "code",
   "execution_count": null,
   "id": "91f83f6c",
   "metadata": {},
   "outputs": [],
   "source": []
  }
 ],
 "metadata": {
  "kernelspec": {
   "display_name": "Python 3",
   "language": "python",
   "name": "python3"
  },
  "language_info": {
   "codemirror_mode": {
    "name": "ipython",
    "version": 3
   },
   "file_extension": ".py",
   "mimetype": "text/x-python",
   "name": "python",
   "nbconvert_exporter": "python",
   "pygments_lexer": "ipython3",
   "version": "3.6.9"
  }
 },
 "nbformat": 4,
 "nbformat_minor": 5
}
