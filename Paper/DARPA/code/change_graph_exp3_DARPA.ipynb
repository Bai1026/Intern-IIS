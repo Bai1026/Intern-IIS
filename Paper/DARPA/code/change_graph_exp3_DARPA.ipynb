{
 "cells": [
  {
   "cell_type": "markdown",
   "metadata": {},
   "source": [
    "### For turn the graph in the 1000 folder with 400 folders with graph into the graph.jsonl"
   ]
  },
  {
   "cell_type": "code",
   "execution_count": 1,
   "metadata": {
    "scrolled": true
   },
   "outputs": [],
   "source": [
    "import os\n",
    "import json\n",
    "from tqdm.notebook import tqdm\n",
    "import logging \n",
    "\n",
    "def process_data(data_lines):\n",
    "    node_to_index = {}\n",
    "    nodes = set()\n",
    "    edges = []\n",
    "    edge_attrs = []\n",
    "    labels = []\n",
    "    \n",
    "#     for line in tqdm(data_lines, desc=\"Processing lines\"):\n",
    "    for line in data_lines:\n",
    "        try:\n",
    "            parts = line.strip().split()\n",
    "            source_node = int(parts[0])\n",
    "            dest_node = int(parts[1])\n",
    "            edge_id = int(parts[2])\n",
    "            label = parts[3]  \n",
    "            \n",
    "            # 0 means benign, 1 means malicious\n",
    "            if label == 'benign':\n",
    "                label = 0\n",
    "            else:\n",
    "                label = 1\n",
    "\n",
    "            nodes.add(source_node)\n",
    "            nodes.add(dest_node)\n",
    "            edges.append([source_node, dest_node])\n",
    "            edge_attrs.append(edge_id)\n",
    "            labels.append(label)\n",
    "        except Exception as e:\n",
    "            print(f\"Error processing line: {line}\\nError: {e}\")\n",
    "            continue\n",
    "    \n",
    "    for index, node in enumerate(nodes):\n",
    "        node_to_index[node] = index\n",
    "\n",
    "    edges = [[node_to_index[edge[0]], node_to_index[edge[1]]] for edge in edges]\n",
    "    edges = list(zip(*edges))\n",
    "    \n",
    "    return {\n",
    "        \"labels\": labels,\n",
    "        \"num_nodes\": len(nodes),\n",
    "        \"node_feat\": list(nodes),\n",
    "        \"edge_attr\": edge_attrs,\n",
    "        \"edge_index\": edges\n",
    "    }\n",
    "\n",
    "\n",
    "def read_data_from_file(file_path):\n",
    "    with open(file_path, 'r', encoding='utf-8') as file:\n",
    "        return file.readlines()"
   ]
  },
  {
   "cell_type": "markdown",
   "metadata": {},
   "source": [
    "- Test on 100 folders"
   ]
  },
  {
   "cell_type": "code",
   "execution_count": 3,
   "metadata": {
    "scrolled": true
   },
   "outputs": [
    {
     "data": {
      "application/vnd.jupyter.widget-view+json": {
       "model_id": "dbefb159c00d42cea802e960a21cf830",
       "version_major": 2,
       "version_minor": 0
      },
      "text/plain": [
       "Handling Subfolders:   0%|          | 0/50 [00:00<?, ?it/s]"
      ]
     },
     "metadata": {},
     "output_type": "display_data"
    },
    {
     "data": {
      "application/vnd.jupyter.widget-view+json": {
       "model_id": "23d48961d7f04abda794eb14a8764af7",
       "version_major": 2,
       "version_minor": 0
      },
      "text/plain": [
       "Handling Subsubfolders:   0%|          | 0/400 [00:00<?, ?it/s]"
      ]
     },
     "metadata": {},
     "output_type": "display_data"
    },
    {
     "data": {
      "application/vnd.jupyter.widget-view+json": {
       "model_id": "80d4759947514cb883f92b4c6be618f9",
       "version_major": 2,
       "version_minor": 0
      },
      "text/plain": [
       "Handling Subsubfolders:   0%|          | 0/400 [00:00<?, ?it/s]"
      ]
     },
     "metadata": {},
     "output_type": "display_data"
    },
    {
     "data": {
      "application/vnd.jupyter.widget-view+json": {
       "model_id": "e2f655404f4d4f83bf6529c9644633fe",
       "version_major": 2,
       "version_minor": 0
      },
      "text/plain": [
       "Handling Subsubfolders:   0%|          | 0/400 [00:00<?, ?it/s]"
      ]
     },
     "metadata": {},
     "output_type": "display_data"
    },
    {
     "data": {
      "application/vnd.jupyter.widget-view+json": {
       "model_id": "c4c4d0a2d5f44f648f4b65d4880cc9ba",
       "version_major": 2,
       "version_minor": 0
      },
      "text/plain": [
       "Handling Subsubfolders:   0%|          | 0/400 [00:00<?, ?it/s]"
      ]
     },
     "metadata": {},
     "output_type": "display_data"
    },
    {
     "data": {
      "application/vnd.jupyter.widget-view+json": {
       "model_id": "3c9e4279cbc1482d8b74aec953aba1b6",
       "version_major": 2,
       "version_minor": 0
      },
      "text/plain": [
       "Handling Subsubfolders:   0%|          | 0/400 [00:00<?, ?it/s]"
      ]
     },
     "metadata": {},
     "output_type": "display_data"
    },
    {
     "data": {
      "application/vnd.jupyter.widget-view+json": {
       "model_id": "7ccf67fa17ce4886b3d1e8e3d3e885d6",
       "version_major": 2,
       "version_minor": 0
      },
      "text/plain": [
       "Handling Subsubfolders:   0%|          | 0/400 [00:00<?, ?it/s]"
      ]
     },
     "metadata": {},
     "output_type": "display_data"
    },
    {
     "data": {
      "application/vnd.jupyter.widget-view+json": {
       "model_id": "0b2b031a9ae740a7a7e9fbe7954625bc",
       "version_major": 2,
       "version_minor": 0
      },
      "text/plain": [
       "Handling Subsubfolders:   0%|          | 0/400 [00:00<?, ?it/s]"
      ]
     },
     "metadata": {},
     "output_type": "display_data"
    },
    {
     "data": {
      "application/vnd.jupyter.widget-view+json": {
       "model_id": "47477572cb78451184b4dfd02307a398",
       "version_major": 2,
       "version_minor": 0
      },
      "text/plain": [
       "Handling Subsubfolders:   0%|          | 0/400 [00:00<?, ?it/s]"
      ]
     },
     "metadata": {},
     "output_type": "display_data"
    },
    {
     "data": {
      "application/vnd.jupyter.widget-view+json": {
       "model_id": "bb1c977cc8ab46718954835fbbf1d84e",
       "version_major": 2,
       "version_minor": 0
      },
      "text/plain": [
       "Handling Subsubfolders:   0%|          | 0/400 [00:00<?, ?it/s]"
      ]
     },
     "metadata": {},
     "output_type": "display_data"
    },
    {
     "data": {
      "application/vnd.jupyter.widget-view+json": {
       "model_id": "fda5dad5056d4fcab37387fc80ba1eb0",
       "version_major": 2,
       "version_minor": 0
      },
      "text/plain": [
       "Handling Subsubfolders:   0%|          | 0/400 [00:00<?, ?it/s]"
      ]
     },
     "metadata": {},
     "output_type": "display_data"
    },
    {
     "data": {
      "application/vnd.jupyter.widget-view+json": {
       "model_id": "1bf9968fc060434a87d7ad4627ab5e13",
       "version_major": 2,
       "version_minor": 0
      },
      "text/plain": [
       "Handling Subsubfolders:   0%|          | 0/400 [00:00<?, ?it/s]"
      ]
     },
     "metadata": {},
     "output_type": "display_data"
    },
    {
     "data": {
      "application/vnd.jupyter.widget-view+json": {
       "model_id": "7fbc3cd7bf424f9c86db01f90d9d7b65",
       "version_major": 2,
       "version_minor": 0
      },
      "text/plain": [
       "Handling Subsubfolders:   0%|          | 0/400 [00:00<?, ?it/s]"
      ]
     },
     "metadata": {},
     "output_type": "display_data"
    },
    {
     "data": {
      "application/vnd.jupyter.widget-view+json": {
       "model_id": "6f7356e291e349f593b42fd0cf5101d9",
       "version_major": 2,
       "version_minor": 0
      },
      "text/plain": [
       "Handling Subsubfolders:   0%|          | 0/400 [00:00<?, ?it/s]"
      ]
     },
     "metadata": {},
     "output_type": "display_data"
    },
    {
     "data": {
      "application/vnd.jupyter.widget-view+json": {
       "model_id": "6d17d37ebc8d49369f1f92c2ee031e81",
       "version_major": 2,
       "version_minor": 0
      },
      "text/plain": [
       "Handling Subsubfolders:   0%|          | 0/400 [00:00<?, ?it/s]"
      ]
     },
     "metadata": {},
     "output_type": "display_data"
    },
    {
     "data": {
      "application/vnd.jupyter.widget-view+json": {
       "model_id": "49bac18f69704b9c94d6b59a0e6bb45b",
       "version_major": 2,
       "version_minor": 0
      },
      "text/plain": [
       "Handling Subsubfolders:   0%|          | 0/400 [00:00<?, ?it/s]"
      ]
     },
     "metadata": {},
     "output_type": "display_data"
    },
    {
     "data": {
      "application/vnd.jupyter.widget-view+json": {
       "model_id": "bb296b6a50e642d6aa24596a88d9d02c",
       "version_major": 2,
       "version_minor": 0
      },
      "text/plain": [
       "Handling Subsubfolders:   0%|          | 0/400 [00:00<?, ?it/s]"
      ]
     },
     "metadata": {},
     "output_type": "display_data"
    },
    {
     "data": {
      "application/vnd.jupyter.widget-view+json": {
       "model_id": "f316d41472d44dd2b9f882277551c09a",
       "version_major": 2,
       "version_minor": 0
      },
      "text/plain": [
       "Handling Subsubfolders:   0%|          | 0/400 [00:00<?, ?it/s]"
      ]
     },
     "metadata": {},
     "output_type": "display_data"
    },
    {
     "data": {
      "application/vnd.jupyter.widget-view+json": {
       "model_id": "25193e7e0f46487a8f063fab49996a00",
       "version_major": 2,
       "version_minor": 0
      },
      "text/plain": [
       "Handling Subsubfolders:   0%|          | 0/400 [00:00<?, ?it/s]"
      ]
     },
     "metadata": {},
     "output_type": "display_data"
    },
    {
     "data": {
      "application/vnd.jupyter.widget-view+json": {
       "model_id": "6a010d06b6c44f8aa94a6e6adbee5e2a",
       "version_major": 2,
       "version_minor": 0
      },
      "text/plain": [
       "Handling Subsubfolders:   0%|          | 0/400 [00:00<?, ?it/s]"
      ]
     },
     "metadata": {},
     "output_type": "display_data"
    },
    {
     "data": {
      "application/vnd.jupyter.widget-view+json": {
       "model_id": "86af6484e4054fb4bb0e8e80d071522b",
       "version_major": 2,
       "version_minor": 0
      },
      "text/plain": [
       "Handling Subsubfolders:   0%|          | 0/400 [00:00<?, ?it/s]"
      ]
     },
     "metadata": {},
     "output_type": "display_data"
    },
    {
     "data": {
      "application/vnd.jupyter.widget-view+json": {
       "model_id": "99d65d1e6e6041148bdd9f51a3d06d60",
       "version_major": 2,
       "version_minor": 0
      },
      "text/plain": [
       "Handling Subsubfolders:   0%|          | 0/400 [00:00<?, ?it/s]"
      ]
     },
     "metadata": {},
     "output_type": "display_data"
    },
    {
     "data": {
      "application/vnd.jupyter.widget-view+json": {
       "model_id": "6bd8f9aaff224a959906feba4d698a9f",
       "version_major": 2,
       "version_minor": 0
      },
      "text/plain": [
       "Handling Subsubfolders:   0%|          | 0/400 [00:00<?, ?it/s]"
      ]
     },
     "metadata": {},
     "output_type": "display_data"
    },
    {
     "data": {
      "application/vnd.jupyter.widget-view+json": {
       "model_id": "b6bb6c12f0374467bba83619df337595",
       "version_major": 2,
       "version_minor": 0
      },
      "text/plain": [
       "Handling Subsubfolders:   0%|          | 0/400 [00:00<?, ?it/s]"
      ]
     },
     "metadata": {},
     "output_type": "display_data"
    },
    {
     "data": {
      "application/vnd.jupyter.widget-view+json": {
       "model_id": "33e34abe516f4421826cd66c7737431d",
       "version_major": 2,
       "version_minor": 0
      },
      "text/plain": [
       "Handling Subsubfolders:   0%|          | 0/400 [00:00<?, ?it/s]"
      ]
     },
     "metadata": {},
     "output_type": "display_data"
    },
    {
     "data": {
      "application/vnd.jupyter.widget-view+json": {
       "model_id": "2328cc205f9b4c49a0c8a3e003095644",
       "version_major": 2,
       "version_minor": 0
      },
      "text/plain": [
       "Handling Subsubfolders:   0%|          | 0/400 [00:00<?, ?it/s]"
      ]
     },
     "metadata": {},
     "output_type": "display_data"
    },
    {
     "data": {
      "application/vnd.jupyter.widget-view+json": {
       "model_id": "62b343475e414e53948adc7a5b65666d",
       "version_major": 2,
       "version_minor": 0
      },
      "text/plain": [
       "Handling Subsubfolders:   0%|          | 0/400 [00:00<?, ?it/s]"
      ]
     },
     "metadata": {},
     "output_type": "display_data"
    },
    {
     "data": {
      "application/vnd.jupyter.widget-view+json": {
       "model_id": "731f6dfc8c644fff813bc2c61e5ae70c",
       "version_major": 2,
       "version_minor": 0
      },
      "text/plain": [
       "Handling Subsubfolders:   0%|          | 0/400 [00:00<?, ?it/s]"
      ]
     },
     "metadata": {},
     "output_type": "display_data"
    },
    {
     "data": {
      "application/vnd.jupyter.widget-view+json": {
       "model_id": "c0340e602bdd4ff68f8a75fa2ea74a11",
       "version_major": 2,
       "version_minor": 0
      },
      "text/plain": [
       "Handling Subsubfolders:   0%|          | 0/400 [00:00<?, ?it/s]"
      ]
     },
     "metadata": {},
     "output_type": "display_data"
    },
    {
     "data": {
      "application/vnd.jupyter.widget-view+json": {
       "model_id": "0e2a3c76c4b54010a6f0a9ae754601f0",
       "version_major": 2,
       "version_minor": 0
      },
      "text/plain": [
       "Handling Subsubfolders:   0%|          | 0/400 [00:00<?, ?it/s]"
      ]
     },
     "metadata": {},
     "output_type": "display_data"
    },
    {
     "data": {
      "application/vnd.jupyter.widget-view+json": {
       "model_id": "5a06ac96a61c47b8bb6746d97d02f592",
       "version_major": 2,
       "version_minor": 0
      },
      "text/plain": [
       "Handling Subsubfolders:   0%|          | 0/400 [00:00<?, ?it/s]"
      ]
     },
     "metadata": {},
     "output_type": "display_data"
    },
    {
     "data": {
      "application/vnd.jupyter.widget-view+json": {
       "model_id": "718565815df341b390634c070c41982b",
       "version_major": 2,
       "version_minor": 0
      },
      "text/plain": [
       "Handling Subsubfolders:   0%|          | 0/400 [00:00<?, ?it/s]"
      ]
     },
     "metadata": {},
     "output_type": "display_data"
    },
    {
     "data": {
      "application/vnd.jupyter.widget-view+json": {
       "model_id": "24525977f5c549479bd3acea6aa79d91",
       "version_major": 2,
       "version_minor": 0
      },
      "text/plain": [
       "Handling Subsubfolders:   0%|          | 0/400 [00:00<?, ?it/s]"
      ]
     },
     "metadata": {},
     "output_type": "display_data"
    },
    {
     "data": {
      "application/vnd.jupyter.widget-view+json": {
       "model_id": "58777b83a9de4e6eb56244880545dd9e",
       "version_major": 2,
       "version_minor": 0
      },
      "text/plain": [
       "Handling Subsubfolders:   0%|          | 0/400 [00:00<?, ?it/s]"
      ]
     },
     "metadata": {},
     "output_type": "display_data"
    },
    {
     "data": {
      "application/vnd.jupyter.widget-view+json": {
       "model_id": "c6f6e376c69e4fdfa1a650aa99fb95e7",
       "version_major": 2,
       "version_minor": 0
      },
      "text/plain": [
       "Handling Subsubfolders:   0%|          | 0/400 [00:00<?, ?it/s]"
      ]
     },
     "metadata": {},
     "output_type": "display_data"
    },
    {
     "data": {
      "application/vnd.jupyter.widget-view+json": {
       "model_id": "e31cab90b79f443e960cd188ea71da1a",
       "version_major": 2,
       "version_minor": 0
      },
      "text/plain": [
       "Handling Subsubfolders:   0%|          | 0/400 [00:00<?, ?it/s]"
      ]
     },
     "metadata": {},
     "output_type": "display_data"
    },
    {
     "data": {
      "application/vnd.jupyter.widget-view+json": {
       "model_id": "64c5f99c71d64aa580d617c86f35fec5",
       "version_major": 2,
       "version_minor": 0
      },
      "text/plain": [
       "Handling Subsubfolders:   0%|          | 0/400 [00:00<?, ?it/s]"
      ]
     },
     "metadata": {},
     "output_type": "display_data"
    },
    {
     "data": {
      "application/vnd.jupyter.widget-view+json": {
       "model_id": "ea357f4e4c7b4943b3f28135393c0303",
       "version_major": 2,
       "version_minor": 0
      },
      "text/plain": [
       "Handling Subsubfolders:   0%|          | 0/400 [00:00<?, ?it/s]"
      ]
     },
     "metadata": {},
     "output_type": "display_data"
    },
    {
     "data": {
      "application/vnd.jupyter.widget-view+json": {
       "model_id": "b3f1922c154b4566a300e45e27de0c5b",
       "version_major": 2,
       "version_minor": 0
      },
      "text/plain": [
       "Handling Subsubfolders:   0%|          | 0/400 [00:00<?, ?it/s]"
      ]
     },
     "metadata": {},
     "output_type": "display_data"
    },
    {
     "data": {
      "application/vnd.jupyter.widget-view+json": {
       "model_id": "97bb04bf88884f2185ef3d45ddfac68f",
       "version_major": 2,
       "version_minor": 0
      },
      "text/plain": [
       "Handling Subsubfolders:   0%|          | 0/400 [00:00<?, ?it/s]"
      ]
     },
     "metadata": {},
     "output_type": "display_data"
    },
    {
     "data": {
      "application/vnd.jupyter.widget-view+json": {
       "model_id": "5b4c966764b948c4945c010111ce6426",
       "version_major": 2,
       "version_minor": 0
      },
      "text/plain": [
       "Handling Subsubfolders:   0%|          | 0/400 [00:00<?, ?it/s]"
      ]
     },
     "metadata": {},
     "output_type": "display_data"
    },
    {
     "data": {
      "application/vnd.jupyter.widget-view+json": {
       "model_id": "8143257edd95480b92b7729ab5884d26",
       "version_major": 2,
       "version_minor": 0
      },
      "text/plain": [
       "Handling Subsubfolders:   0%|          | 0/400 [00:00<?, ?it/s]"
      ]
     },
     "metadata": {},
     "output_type": "display_data"
    },
    {
     "data": {
      "application/vnd.jupyter.widget-view+json": {
       "model_id": "c8d5b878f2ba4c76a13475a8b4bfc77d",
       "version_major": 2,
       "version_minor": 0
      },
      "text/plain": [
       "Handling Subsubfolders:   0%|          | 0/400 [00:00<?, ?it/s]"
      ]
     },
     "metadata": {},
     "output_type": "display_data"
    },
    {
     "data": {
      "application/vnd.jupyter.widget-view+json": {
       "model_id": "8f0a112cefdd40bd9334318f08f4f5af",
       "version_major": 2,
       "version_minor": 0
      },
      "text/plain": [
       "Handling Subsubfolders:   0%|          | 0/400 [00:00<?, ?it/s]"
      ]
     },
     "metadata": {},
     "output_type": "display_data"
    },
    {
     "ename": "KeyboardInterrupt",
     "evalue": "",
     "output_type": "error",
     "traceback": [
      "\u001b[0;31m---------------------------------------------------------------------------\u001b[0m",
      "\u001b[0;31mKeyboardInterrupt\u001b[0m                         Traceback (most recent call last)",
      "Cell \u001b[0;32mIn[3], line 24\u001b[0m\n\u001b[1;32m     22\u001b[0m             file_path \u001b[38;5;241m=\u001b[39m os\u001b[38;5;241m.\u001b[39mpath\u001b[38;5;241m.\u001b[39mjoin(subsubfolder_path, \u001b[38;5;124m'\u001b[39m\u001b[38;5;124mall_triplets.txt\u001b[39m\u001b[38;5;124m'\u001b[39m)\n\u001b[1;32m     23\u001b[0m             data_lines \u001b[38;5;241m=\u001b[39m read_data_from_file(file_path)\n\u001b[0;32m---> 24\u001b[0m             graph_data \u001b[38;5;241m=\u001b[39m \u001b[43mprocess_data\u001b[49m\u001b[43m(\u001b[49m\u001b[43mdata_lines\u001b[49m\u001b[43m)\u001b[49m\n\u001b[1;32m     25\u001b[0m             all_graph_data\u001b[38;5;241m.\u001b[39mappend(graph_data)\n\u001b[1;32m     27\u001b[0m \u001b[38;5;28;01mexcept\u001b[39;00m \u001b[38;5;167;01mException\u001b[39;00m \u001b[38;5;28;01mas\u001b[39;00m e:\n",
      "Cell \u001b[0;32mIn[1], line 41\u001b[0m, in \u001b[0;36mprocess_data\u001b[0;34m(data_lines)\u001b[0m\n\u001b[1;32m     38\u001b[0m     node_to_index[node] \u001b[38;5;241m=\u001b[39m index\n\u001b[1;32m     40\u001b[0m edges \u001b[38;5;241m=\u001b[39m [[node_to_index[edge[\u001b[38;5;241m0\u001b[39m]], node_to_index[edge[\u001b[38;5;241m1\u001b[39m]]] \u001b[38;5;28;01mfor\u001b[39;00m edge \u001b[38;5;129;01min\u001b[39;00m edges]\n\u001b[0;32m---> 41\u001b[0m edges \u001b[38;5;241m=\u001b[39m \u001b[38;5;28mlist\u001b[39m(\u001b[38;5;28;43mzip\u001b[39;49m\u001b[43m(\u001b[49m\u001b[38;5;241;43m*\u001b[39;49m\u001b[43medges\u001b[49m\u001b[43m)\u001b[49m)\n\u001b[1;32m     43\u001b[0m \u001b[38;5;28;01mreturn\u001b[39;00m {\n\u001b[1;32m     44\u001b[0m     \u001b[38;5;124m\"\u001b[39m\u001b[38;5;124mlabels\u001b[39m\u001b[38;5;124m\"\u001b[39m: labels,\n\u001b[1;32m     45\u001b[0m     \u001b[38;5;124m\"\u001b[39m\u001b[38;5;124mnum_nodes\u001b[39m\u001b[38;5;124m\"\u001b[39m: \u001b[38;5;28mlen\u001b[39m(nodes),\n\u001b[0;32m   (...)\u001b[0m\n\u001b[1;32m     48\u001b[0m     \u001b[38;5;124m\"\u001b[39m\u001b[38;5;124medge_index\u001b[39m\u001b[38;5;124m\"\u001b[39m: edges\n\u001b[1;32m     49\u001b[0m }\n",
      "\u001b[0;31mKeyboardInterrupt\u001b[0m: "
     ]
    }
   ],
   "source": [
    "# 主資料夾路徑\n",
    "main_folder_path = '../data/source_data/output_graphs(200)-test'\n",
    "\n",
    "all_graph_data = []\n",
    "\n",
    "try:\n",
    "    # 遍歷主資料夾中的前100個子資料夾\n",
    "    for subfolder_name in tqdm(os.listdir(main_folder_path)[:50], desc=\"Handling Subfolders: \"):\n",
    "        subfolder_path = os.path.join(main_folder_path, subfolder_name)\n",
    "        \n",
    "        # 檢查是否為資料夾\n",
    "        if not os.path.isdir(subfolder_path):\n",
    "            continue\n",
    "\n",
    "        # 遍歷每個子資料夾中的子子資料夾\n",
    "        for subsubfolder_name in tqdm(os.listdir(subfolder_path), desc=\"Handling Subsubfolders: \"):\n",
    "            subsubfolder_path = os.path.join(subfolder_path, subsubfolder_name)\n",
    "            \n",
    "            if not os.path.isdir(subsubfolder_path):\n",
    "                continue\n",
    "\n",
    "            file_path = os.path.join(subsubfolder_path, 'all_triplets.txt')\n",
    "            data_lines = read_data_from_file(file_path)\n",
    "            graph_data = process_data(data_lines)\n",
    "            all_graph_data.append(graph_data)\n",
    "\n",
    "except Exception as e:\n",
    "    print(f\"Error during processing files. Error: {e}\")\n",
    "\n",
    "output_file_path = '../data/before_embedding/3.10/graph_data(100).jsonl'\n",
    "with open(output_file_path, 'w', encoding='utf-8') as f:\n",
    "    for graph_data in tqdm(all_graph_data, desc=\"writing into output JSONL file\"):\n",
    "        f.write(json.dumps(graph_data))\n",
    "        f.write(\"\\n\")\n",
    "\n",
    "print(f\"all the data is saved in '{output_file_path}'\")\n"
   ]
  },
  {
   "cell_type": "markdown",
   "metadata": {},
   "source": [
    "- The formal one"
   ]
  },
  {
   "cell_type": "code",
   "execution_count": null,
   "metadata": {},
   "outputs": [],
   "source": [
    "# 主資料夾路徑\n",
    "main_folder_path = '/workdir/home/bai/euni_Handover_DARPA/data/source_data/output_graphs(200)-2'\n",
    "\n",
    "all_graph_data = []\n",
    "\n",
    "try:\n",
    "    # 遍歷主資料夾中的每個子資料夾\n",
    "    for subfolder_name in tqdm(os.listdir(main_folder_path), desc=\"Handling Subfolders: \"):\n",
    "        subfolder_path = os.path.join(main_folder_path, subfolder_name)\n",
    "        \n",
    "        # 檢查是否為資料夾\n",
    "        if not os.path.isdir(subfolder_path):\n",
    "            continue\n",
    "\n",
    "        # 遍歷每個子資料夾中的子子資料夾\n",
    "        for subsubfolder_name in tqdm(os.listdir(subfolder_path), desc=\"Handling Subsubfolders: \"):\n",
    "            subsubfolder_path = os.path.join(subfolder_path, subsubfolder_name)\n",
    "            \n",
    "            if not os.path.isdir(subsubfolder_path):\n",
    "                continue\n",
    "\n",
    "            \n",
    "            file_path = os.path.join(subsubfolder_path, 'all_triplets.txt')\n",
    "            data_lines = read_data_from_file(file_path)\n",
    "            graph_data = process_data(data_lines)\n",
    "            all_graph_data.append(graph_data)\n",
    "\n",
    "except Exception as e:\n",
    "    print(f\"Error during processing files. Error: {e}\")\n",
    "\n",
    "\n",
    "output_file_path = '../data_new/DARPA/before_embedding/3.10/all_graph_data.jsonl'\n",
    "# output_file_path = '/workdir/home/bai/euni_Handover_DARPA/data/3_openKE/synthesize/all_graph_data(200).jsonl'\n",
    "with open(output_file_path, 'w', encoding='utf-8') as f:\n",
    "    for graph_data in tqdm(all_graph_data, desc=\"writing into output JSONL file\"):\n",
    "        f.write(json.dumps(graph_data))\n",
    "        f.write(\"\\n\")\n",
    "\n",
    "print(f\"all the data is saved in '{output_file_path}'\")"
   ]
  },
  {
   "cell_type": "code",
   "execution_count": null,
   "metadata": {},
   "outputs": [],
   "source": []
  },
  {
   "cell_type": "code",
   "execution_count": null,
   "metadata": {},
   "outputs": [],
   "source": []
  },
  {
   "cell_type": "code",
   "execution_count": null,
   "metadata": {},
   "outputs": [],
   "source": [
    "# # folder_path = '../data_new/DARPA/before_embedding/3.10/output_graphs'\n",
    "\n",
    "# # contains 1000 folders with 400 folders with graph\n",
    "# folder_path = '/workdir/home/bai/euni_Handover_DARPA/data/source_data/output_graphs(200)-2'\n",
    "# # folder_path = '../data_new/DARPA/before_embedding/output_graphs_test'\n",
    "\n",
    "# all_graph_data = []\n",
    "\n",
    "# try:\n",
    "#     file_names = [f for f in os.listdir(folder_path) if f.endswith('.txt')]\n",
    "#     for file_name in tqdm(file_names, desc=\"Handling Documents: \"):\n",
    "#         file_path = os.path.join(folder_path, file_name)\n",
    "#         data_lines = read_data_from_file(file_path)\n",
    "#         graph_data = process_data(data_lines)\n",
    "#         all_graph_data.append(graph_data)\n",
    "# except Exception as e:\n",
    "#     print(f\"Error during processing files. Error: {e}\")"
   ]
  }
 ],
 "metadata": {
  "kernelspec": {
   "display_name": "Python 3 (ipykernel)",
   "language": "python",
   "name": "python3"
  },
  "language_info": {
   "codemirror_mode": {
    "name": "ipython",
    "version": 3
   },
   "file_extension": ".py",
   "mimetype": "text/x-python",
   "name": "python",
   "nbconvert_exporter": "python",
   "pygments_lexer": "ipython3",
   "version": "3.9.12"
  }
 },
 "nbformat": 4,
 "nbformat_minor": 4
}
