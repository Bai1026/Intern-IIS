{
 "cells": [
  {
   "cell_type": "markdown",
   "id": "fe112c5f",
   "metadata": {},
   "source": [
    "### This is the file to merge the train2id.txt and train2id_type.txt"
   ]
  },
  {
   "cell_type": "code",
   "execution_count": 18,
   "id": "59c01766",
   "metadata": {},
   "outputs": [
    {
     "data": {
      "application/vnd.jupyter.widget-view+json": {
       "model_id": "e0eb8f23d7a84eb8a754f14f3de47345",
       "version_major": 2,
       "version_minor": 0
      },
      "text/plain": [
       "  0%|          | 0/4289981 [00:00<?, ?it/s]"
      ]
     },
     "metadata": {},
     "output_type": "display_data"
    },
    {
     "data": {
      "application/vnd.jupyter.widget-view+json": {
       "model_id": "0dd1b441127145809ec0e23ff3d1c13b",
       "version_major": 2,
       "version_minor": 0
      },
      "text/plain": [
       "0it [00:00, ?it/s]"
      ]
     },
     "metadata": {},
     "output_type": "display_data"
    }
   ],
   "source": [
    "from tqdm.notebook import tqdm\n",
    "\n",
    "with open('./data/3_openKE/synthesize/test2id.txt', 'r') as file1:\n",
    "    next(file1)\n",
    "    lines1 = file1.readlines()\n",
    "\n",
    "with open('./data/3_openKE/synthesize/test2id_label.txt', 'r') as file2:\n",
    "    next(file2)\n",
    "    labels = [line.strip().split(' ')[1] for line in tqdm(file2.readlines()[1:])]\n",
    "\n",
    "merged_lines = [f\"{line1.strip()} {label}\" for line1, label in tqdm(zip(lines1, labels))]"
   ]
  },
  {
   "cell_type": "code",
   "execution_count": 19,
   "id": "aaefc31c",
   "metadata": {},
   "outputs": [
    {
     "name": "stdout",
     "output_type": "stream",
     "text": [
      "['14291 8575 14 benign', '16352 8575 14 benign', '13722 8575 12 benign', '9054 17168 4 benign', '24342 8575 1 benign']\n"
     ]
    }
   ],
   "source": [
    "print(merged_lines[:5])"
   ]
  },
  {
   "cell_type": "code",
   "execution_count": 20,
   "id": "25abb5cd",
   "metadata": {},
   "outputs": [
    {
     "name": "stdout",
     "output_type": "stream",
     "text": [
      "output file at './data/3_openKE/synthesize/merged_test.txt'\n"
     ]
    }
   ],
   "source": [
    "# 寫入新的txt文件\n",
    "with open('./data/3_openKE/synthesize/merged_test.txt', 'w') as merged_file:\n",
    "    merged_file.write('\\n'.join(merged_lines))\n",
    "    print(\"output file at './data/3_openKE/synthesize/merged_test.txt'\")"
   ]
  },
  {
   "cell_type": "code",
   "execution_count": null,
   "id": "cd01bae8",
   "metadata": {},
   "outputs": [],
   "source": []
  },
  {
   "cell_type": "markdown",
   "id": "5cf896f7",
   "metadata": {},
   "source": [
    "### This is to merge all the 3 files together"
   ]
  },
  {
   "cell_type": "code",
   "execution_count": 32,
   "id": "f392dd01",
   "metadata": {},
   "outputs": [
    {
     "data": {
      "application/vnd.jupyter.widget-view+json": {
       "model_id": "",
       "version_major": 2,
       "version_minor": 0
      },
      "text/plain": [
       "Reading ./data/3_openKE/synthesize/merged_train.txt: 0it [00:00, ?it/s]"
      ]
     },
     "metadata": {},
     "output_type": "display_data"
    },
    {
     "data": {
      "application/vnd.jupyter.widget-view+json": {
       "model_id": "",
       "version_major": 2,
       "version_minor": 0
      },
      "text/plain": [
       "Reading ./data/3_openKE/synthesize/merged_test.txt: 0it [00:00, ?it/s]"
      ]
     },
     "metadata": {},
     "output_type": "display_data"
    },
    {
     "data": {
      "application/vnd.jupyter.widget-view+json": {
       "model_id": "",
       "version_major": 2,
       "version_minor": 0
      },
      "text/plain": [
       "Reading ./data/3_openKE/synthesize/merged_valid.txt: 0it [00:00, ?it/s]"
      ]
     },
     "metadata": {},
     "output_type": "display_data"
    }
   ],
   "source": [
    "from tqdm.notebook import tqdm\n",
    "\n",
    "# 設定三個文件的路徑\n",
    "file_paths = [\n",
    "    './data/3_openKE/synthesize/merged_train.txt',\n",
    "    './data/3_openKE/synthesize/merged_test.txt',\n",
    "    './data/3_openKE/synthesize/merged_valid.txt'\n",
    "]\n",
    "\n",
    "# 初始化合併的結果\n",
    "merged_lines = []\n",
    "\n",
    "# 遍歷每個文件\n",
    "for file_path in file_paths:\n",
    "    with open(file_path, 'r') as file:\n",
    "        # 使用tqdm追蹤讀取進度\n",
    "        lines = tqdm(file, desc=f\"Reading {file_path}\", leave=False)\n",
    "        \n",
    "        # 將每一行添加到合併結果中\n",
    "        merged_lines.extend(lines)"
   ]
  },
  {
   "cell_type": "code",
   "execution_count": 33,
   "id": "4f2a3871",
   "metadata": {},
   "outputs": [
    {
     "name": "stdout",
     "output_type": "stream",
     "text": [
      "51479771\n"
     ]
    }
   ],
   "source": [
    "print(len(merged_lines))"
   ]
  },
  {
   "cell_type": "code",
   "execution_count": 38,
   "id": "ccffa89b",
   "metadata": {},
   "outputs": [
    {
     "data": {
      "text/plain": [
       "['7042 8575 1 benign\\n',\n",
       " '7042 8575 1 benign\\n',\n",
       " '7042 8575 1 benign\\n',\n",
       " '7042 8575 1 benign\\n',\n",
       " '7042 8575 1 benign\\n']"
      ]
     },
     "execution_count": 38,
     "metadata": {},
     "output_type": "execute_result"
    }
   ],
   "source": [
    "merged_lines[:5]"
   ]
  },
  {
   "cell_type": "code",
   "execution_count": 34,
   "id": "fcf31432",
   "metadata": {},
   "outputs": [
    {
     "data": {
      "application/vnd.jupyter.widget-view+json": {
       "model_id": "",
       "version_major": 2,
       "version_minor": 0
      },
      "text/plain": [
       "Writing merged file:   0%|          | 0/51479771 [00:00<?, ?it/s]"
      ]
     },
     "metadata": {},
     "output_type": "display_data"
    },
    {
     "name": "stdout",
     "output_type": "stream",
     "text": [
      "Output file at './data/3_openKE/synthesize/merged_all.txt'\n"
     ]
    }
   ],
   "source": [
    "with open('./data/3_openKE/synthesize/merged_all.txt', 'w') as merged_file:\n",
    "    # 使用tqdm追蹤寫入進度\n",
    "    for line in tqdm(merged_lines, desc=\"Writing merged file\", leave=False):\n",
    "        merged_file.write(line)\n",
    "\n",
    "print(\"Output file at './data/3_openKE/synthesize/merged_all.txt'\")"
   ]
  },
  {
   "cell_type": "code",
   "execution_count": null,
   "id": "34888060",
   "metadata": {},
   "outputs": [],
   "source": []
  },
  {
   "cell_type": "code",
   "execution_count": null,
   "id": "3b53ba1b",
   "metadata": {},
   "outputs": [],
   "source": []
  },
  {
   "cell_type": "code",
   "execution_count": 42,
   "id": "3b8183c3",
   "metadata": {},
   "outputs": [
    {
     "data": {
      "text/plain": [
       "3"
      ]
     },
     "execution_count": 42,
     "metadata": {},
     "output_type": "execute_result"
    }
   ],
   "source": [
    "def process_and_save_graphs_dfs(file_path):\n",
    "    with open(file_path, 'r') as file:\n",
    "        lines = file.readlines()\n",
    "\n",
    "    # Create a graph and a reverse graph\n",
    "    graph = {}\n",
    "    reverse_graph = {}\n",
    "\n",
    "    for line in lines:\n",
    "        parts = line.strip().split()\n",
    "        if len(parts) != 4:\n",
    "            continue  # Skip lines that don't have exactly 4 parts\n",
    "\n",
    "        source, destination, _ = parts[:3]\n",
    "\n",
    "        if source not in graph:\n",
    "            graph[source] = set()\n",
    "        graph[source].add(destination)\n",
    "\n",
    "        if destination not in reverse_graph:\n",
    "            reverse_graph[destination] = set()\n",
    "        reverse_graph[destination].add(source)\n",
    "\n",
    "    # Find connected components using DFS\n",
    "    visited = set()\n",
    "    components = []\n",
    "\n",
    "    for node in set(graph.keys()).union(set(reverse_graph.keys())):  # Include all nodes\n",
    "        if node not in visited:\n",
    "            component = set()\n",
    "            dfs(graph, node, visited, component)\n",
    "\n",
    "            # Include nodes that are only in reverse_graph\n",
    "            additional_nodes = set()\n",
    "            for rev_node in component:\n",
    "                if rev_node in reverse_graph:\n",
    "                    for source in reverse_graph[rev_node]:\n",
    "                        if source not in component:\n",
    "                            additional_nodes.add(source)\n",
    "\n",
    "            component.update(additional_nodes)\n",
    "            components.append(component)\n",
    "\n",
    "    # Group lines based on components\n",
    "    grouped_lines = {i: [] for i in range(len(components))}\n",
    "    for line in lines:\n",
    "        parts = line.strip().split()\n",
    "        if len(parts) != 4:\n",
    "            continue\n",
    "\n",
    "        source, destination, _, _ = parts\n",
    "        for i, component in enumerate(components):\n",
    "            if source in component or destination in component:\n",
    "                grouped_lines[i].append(line)\n",
    "                break\n",
    "\n",
    "    # Save each component to a separate file\n",
    "    # 在腳本中保存文件的部分\n",
    "    output_folder = '/workdir/home/bai/Euni_HO_modified/data/3_openKE/synthesize/output_graphs'\n",
    "    for i, lines in grouped_lines.items():\n",
    "        with open(f'{output_folder}graph{i + 1}.txt', 'w') as file:\n",
    "            file.writelines(lines)\n",
    "\n",
    "\n",
    "    return len(grouped_lines)\n",
    "\n",
    "\n",
    "INPUT_FILE_PATH = '/workdir/home/bai/Euni_HO_modified/data/3_openKE/synthesize/merged_all.txt'\n",
    "process_and_save_graphs_dfs(INPUT_FILE_PATH)\n"
   ]
  },
  {
   "cell_type": "code",
   "execution_count": null,
   "id": "e76931db",
   "metadata": {},
   "outputs": [],
   "source": []
  },
  {
   "cell_type": "code",
   "execution_count": null,
   "id": "ac974703",
   "metadata": {},
   "outputs": [],
   "source": []
  },
  {
   "cell_type": "code",
   "execution_count": 43,
   "id": "fe83c62a",
   "metadata": {},
   "outputs": [
    {
     "name": "stderr",
     "output_type": "stream",
     "text": [
      "\n",
      "Processing Nodes:   0%|          | 0/26868 [00:00<?, ?it/s]\u001b[A\n",
      "Processing Nodes: 100%|██████████| 26868/26868 [00:00<00:00, 176382.53it/s]\n",
      "\n",
      "Saving Files:   0%|          | 0/219 [00:00<?, ?it/s]\u001b[A\n",
      "Saving Files:   0%|          | 1/219 [00:01<05:55,  1.63s/it]\u001b[A"
     ]
    },
    {
     "name": "stdout",
     "output_type": "stream",
     "text": [
      "File saved: /workdir/home/bai/Euni_HO_modified/data/3_openKE/synthesize/output_graphs/graph1.txt\n"
     ]
    },
    {
     "name": "stderr",
     "output_type": "stream",
     "text": [
      "\n",
      "Saving Files:   1%|          | 2/219 [00:01<03:02,  1.19it/s]\u001b[A"
     ]
    },
    {
     "name": "stdout",
     "output_type": "stream",
     "text": [
      "File saved: /workdir/home/bai/Euni_HO_modified/data/3_openKE/synthesize/output_graphs/graph2.txt\n",
      "File saved: /workdir/home/bai/Euni_HO_modified/data/3_openKE/synthesize/output_graphs/graph3.txt\n"
     ]
    },
    {
     "name": "stderr",
     "output_type": "stream",
     "text": [
      "\n",
      "Saving Files:   2%|▏         | 4/219 [00:09<09:54,  2.77s/it]\u001b[A"
     ]
    },
    {
     "name": "stdout",
     "output_type": "stream",
     "text": [
      "File saved: /workdir/home/bai/Euni_HO_modified/data/3_openKE/synthesize/output_graphs/graph4.txt\n",
      "File saved: /workdir/home/bai/Euni_HO_modified/data/3_openKE/synthesize/output_graphs/graph5.txt\n",
      "File saved: /workdir/home/bai/Euni_HO_modified/data/3_openKE/synthesize/output_graphs/graph6.txt\n",
      "File saved: /workdir/home/bai/Euni_HO_modified/data/3_openKE/synthesize/output_graphs/graph7.txt\n",
      "File saved: /workdir/home/bai/Euni_HO_modified/data/3_openKE/synthesize/output_graphs/graph8.txt\n",
      "File saved: /workdir/home/bai/Euni_HO_modified/data/3_openKE/synthesize/output_graphs/graph9.txt\n",
      "File saved: /workdir/home/bai/Euni_HO_modified/data/3_openKE/synthesize/output_graphs/graph10.txt\n"
     ]
    },
    {
     "name": "stderr",
     "output_type": "stream",
     "text": [
      "\n",
      "Saving Files:   5%|▌         | 11/219 [00:10<02:28,  1.40it/s]\u001b[A\n",
      "Saving Files:   8%|▊         | 17/219 [00:10<01:16,  2.62it/s]\u001b[A"
     ]
    },
    {
     "name": "stdout",
     "output_type": "stream",
     "text": [
      "File saved: /workdir/home/bai/Euni_HO_modified/data/3_openKE/synthesize/output_graphs/graph11.txt\n",
      "File saved: /workdir/home/bai/Euni_HO_modified/data/3_openKE/synthesize/output_graphs/graph12.txt\n",
      "File saved: /workdir/home/bai/Euni_HO_modified/data/3_openKE/synthesize/output_graphs/graph13.txt\n",
      "File saved: /workdir/home/bai/Euni_HO_modified/data/3_openKE/synthesize/output_graphs/graph14.txt\n",
      "File saved: /workdir/home/bai/Euni_HO_modified/data/3_openKE/synthesize/output_graphs/graph15.txt\n",
      "File saved: /workdir/home/bai/Euni_HO_modified/data/3_openKE/synthesize/output_graphs/graph16.txt\n",
      "File saved: /workdir/home/bai/Euni_HO_modified/data/3_openKE/synthesize/output_graphs/graph17.txt\n",
      "File saved: /workdir/home/bai/Euni_HO_modified/data/3_openKE/synthesize/output_graphs/graph18.txt\n"
     ]
    },
    {
     "name": "stderr",
     "output_type": "stream",
     "text": [
      "\n",
      "Saving Files:   9%|▉         | 20/219 [00:17<03:01,  1.10it/s]\u001b[A\n",
      "Saving Files:  16%|█▌        | 34/219 [00:17<01:03,  2.92it/s]\u001b[A"
     ]
    },
    {
     "name": "stdout",
     "output_type": "stream",
     "text": [
      "File saved: /workdir/home/bai/Euni_HO_modified/data/3_openKE/synthesize/output_graphs/graph19.txt\n",
      "File saved: /workdir/home/bai/Euni_HO_modified/data/3_openKE/synthesize/output_graphs/graph20.txt\n",
      "File saved: /workdir/home/bai/Euni_HO_modified/data/3_openKE/synthesize/output_graphs/graph21.txt\n",
      "File saved: /workdir/home/bai/Euni_HO_modified/data/3_openKE/synthesize/output_graphs/graph22.txt\n",
      "File saved: /workdir/home/bai/Euni_HO_modified/data/3_openKE/synthesize/output_graphs/graph23.txt\n",
      "File saved: /workdir/home/bai/Euni_HO_modified/data/3_openKE/synthesize/output_graphs/graph24.txt\n",
      "File saved: /workdir/home/bai/Euni_HO_modified/data/3_openKE/synthesize/output_graphs/graph25.txt\n",
      "File saved: /workdir/home/bai/Euni_HO_modified/data/3_openKE/synthesize/output_graphs/graph26.txt\n",
      "File saved: /workdir/home/bai/Euni_HO_modified/data/3_openKE/synthesize/output_graphs/graph27.txt\n",
      "File saved: /workdir/home/bai/Euni_HO_modified/data/3_openKE/synthesize/output_graphs/graph28.txt\n",
      "File saved: /workdir/home/bai/Euni_HO_modified/data/3_openKE/synthesize/output_graphs/graph29.txt\n",
      "File saved: /workdir/home/bai/Euni_HO_modified/data/3_openKE/synthesize/output_graphs/graph30.txt\n",
      "File saved: /workdir/home/bai/Euni_HO_modified/data/3_openKE/synthesize/output_graphs/graph31.txt\n",
      "File saved: /workdir/home/bai/Euni_HO_modified/data/3_openKE/synthesize/output_graphs/graph32.txt\n",
      "File saved: /workdir/home/bai/Euni_HO_modified/data/3_openKE/synthesize/output_graphs/graph33.txt\n",
      "File saved: /workdir/home/bai/Euni_HO_modified/data/3_openKE/synthesize/output_graphs/graph34.txt\n",
      "File saved: /workdir/home/bai/Euni_HO_modified/data/3_openKE/synthesize/output_graphs/graph35.txt\n",
      "File saved: /workdir/home/bai/Euni_HO_modified/data/3_openKE/synthesize/output_graphs/graph36.txt\n",
      "File saved: /workdir/home/bai/Euni_HO_modified/data/3_openKE/synthesize/output_graphs/graph37.txt\n",
      "File saved: /workdir/home/bai/Euni_HO_modified/data/3_openKE/synthesize/output_graphs/graph38.txt\n",
      "File saved: /workdir/home/bai/Euni_HO_modified/data/3_openKE/synthesize/output_graphs/graph39.txt\n",
      "File saved: /workdir/home/bai/Euni_HO_modified/data/3_openKE/synthesize/output_graphs/graph40.txt\n",
      "File saved: /workdir/home/bai/Euni_HO_modified/data/3_openKE/synthesize/output_graphs/graph41.txt\n",
      "File saved: /workdir/home/bai/Euni_HO_modified/data/3_openKE/synthesize/output_graphs/graph42.txt\n"
     ]
    },
    {
     "name": "stderr",
     "output_type": "stream",
     "text": [
      "\n",
      "Saving Files:  20%|██        | 44/219 [00:17<00:37,  4.68it/s]\u001b[A"
     ]
    },
    {
     "name": "stdout",
     "output_type": "stream",
     "text": [
      "File saved: /workdir/home/bai/Euni_HO_modified/data/3_openKE/synthesize/output_graphs/graph43.txt\n",
      "File saved: /workdir/home/bai/Euni_HO_modified/data/3_openKE/synthesize/output_graphs/graph44.txt\n",
      "File saved: /workdir/home/bai/Euni_HO_modified/data/3_openKE/synthesize/output_graphs/graph45.txt\n"
     ]
    },
    {
     "name": "stderr",
     "output_type": "stream",
     "text": [
      "\n",
      "Saving Files:  23%|██▎       | 50/219 [00:18<00:28,  5.98it/s]\u001b[A\n",
      "Saving Files:  25%|██▌       | 55/219 [00:18<00:21,  7.48it/s]\u001b[A"
     ]
    },
    {
     "name": "stdout",
     "output_type": "stream",
     "text": [
      "File saved: /workdir/home/bai/Euni_HO_modified/data/3_openKE/synthesize/output_graphs/graph46.txt\n",
      "File saved: /workdir/home/bai/Euni_HO_modified/data/3_openKE/synthesize/output_graphs/graph47.txt\n",
      "File saved: /workdir/home/bai/Euni_HO_modified/data/3_openKE/synthesize/output_graphs/graph48.txt\n",
      "File saved: /workdir/home/bai/Euni_HO_modified/data/3_openKE/synthesize/output_graphs/graph49.txt\n",
      "File saved: /workdir/home/bai/Euni_HO_modified/data/3_openKE/synthesize/output_graphs/graph50.txt\n",
      "File saved: /workdir/home/bai/Euni_HO_modified/data/3_openKE/synthesize/output_graphs/graph51.txt\n",
      "File saved: /workdir/home/bai/Euni_HO_modified/data/3_openKE/synthesize/output_graphs/graph52.txt\n",
      "File saved: /workdir/home/bai/Euni_HO_modified/data/3_openKE/synthesize/output_graphs/graph53.txt\n",
      "File saved: /workdir/home/bai/Euni_HO_modified/data/3_openKE/synthesize/output_graphs/graph54.txt\n",
      "File saved: /workdir/home/bai/Euni_HO_modified/data/3_openKE/synthesize/output_graphs/graph55.txt\n",
      "File saved: /workdir/home/bai/Euni_HO_modified/data/3_openKE/synthesize/output_graphs/graph56.txt\n",
      "File saved: /workdir/home/bai/Euni_HO_modified/data/3_openKE/synthesize/output_graphs/graph57.txt\n"
     ]
    },
    {
     "name": "stderr",
     "output_type": "stream",
     "text": [
      "\n",
      "Saving Files:  27%|██▋       | 60/219 [00:18<00:17,  9.30it/s]\u001b[A"
     ]
    },
    {
     "name": "stdout",
     "output_type": "stream",
     "text": [
      "File saved: /workdir/home/bai/Euni_HO_modified/data/3_openKE/synthesize/output_graphs/graph58.txt\n",
      "File saved: /workdir/home/bai/Euni_HO_modified/data/3_openKE/synthesize/output_graphs/graph59.txt\n",
      "File saved: /workdir/home/bai/Euni_HO_modified/data/3_openKE/synthesize/output_graphs/graph60.txt\n",
      "File saved: /workdir/home/bai/Euni_HO_modified/data/3_openKE/synthesize/output_graphs/graph61.txt\n",
      "File saved: /workdir/home/bai/Euni_HO_modified/data/3_openKE/synthesize/output_graphs/graph62.txt\n",
      "File saved: /workdir/home/bai/Euni_HO_modified/data/3_openKE/synthesize/output_graphs/graph63.txt\n",
      "File saved: /workdir/home/bai/Euni_HO_modified/data/3_openKE/synthesize/output_graphs/graph64.txt\n",
      "File saved: /workdir/home/bai/Euni_HO_modified/data/3_openKE/synthesize/output_graphs/graph65.txt\n",
      "File saved: /workdir/home/bai/Euni_HO_modified/data/3_openKE/synthesize/output_graphs/graph66.txt\n",
      "File saved: /workdir/home/bai/Euni_HO_modified/data/3_openKE/synthesize/output_graphs/graph67.txt\n",
      "File saved: /workdir/home/bai/Euni_HO_modified/data/3_openKE/synthesize/output_graphs/graph68.txt\n",
      "File saved: /workdir/home/bai/Euni_HO_modified/data/3_openKE/synthesize/output_graphs/graph69.txt\n",
      "File saved: /workdir/home/bai/Euni_HO_modified/data/3_openKE/synthesize/output_graphs/graph70.txt\n",
      "File saved: /workdir/home/bai/Euni_HO_modified/data/3_openKE/synthesize/output_graphs/graph71.txt\n"
     ]
    },
    {
     "name": "stderr",
     "output_type": "stream",
     "text": [
      "\n",
      "Saving Files:  33%|███▎      | 72/219 [00:18<00:09, 15.01it/s]\u001b[A\n",
      "Saving Files:  42%|████▏     | 92/219 [00:18<00:04, 27.86it/s]\u001b[A"
     ]
    },
    {
     "name": "stdout",
     "output_type": "stream",
     "text": [
      "File saved: /workdir/home/bai/Euni_HO_modified/data/3_openKE/synthesize/output_graphs/graph72.txt\n",
      "File saved: /workdir/home/bai/Euni_HO_modified/data/3_openKE/synthesize/output_graphs/graph73.txt\n",
      "File saved: /workdir/home/bai/Euni_HO_modified/data/3_openKE/synthesize/output_graphs/graph74.txt\n",
      "File saved: /workdir/home/bai/Euni_HO_modified/data/3_openKE/synthesize/output_graphs/graph75.txt\n",
      "File saved: /workdir/home/bai/Euni_HO_modified/data/3_openKE/synthesize/output_graphs/graph76.txt\n",
      "File saved: /workdir/home/bai/Euni_HO_modified/data/3_openKE/synthesize/output_graphs/graph77.txt\n",
      "File saved: /workdir/home/bai/Euni_HO_modified/data/3_openKE/synthesize/output_graphs/graph78.txt\n",
      "File saved: /workdir/home/bai/Euni_HO_modified/data/3_openKE/synthesize/output_graphs/graph79.txt\n",
      "File saved: /workdir/home/bai/Euni_HO_modified/data/3_openKE/synthesize/output_graphs/graph80.txt\n",
      "File saved: /workdir/home/bai/Euni_HO_modified/data/3_openKE/synthesize/output_graphs/graph81.txt\n",
      "File saved: /workdir/home/bai/Euni_HO_modified/data/3_openKE/synthesize/output_graphs/graph82.txt\n",
      "File saved: /workdir/home/bai/Euni_HO_modified/data/3_openKE/synthesize/output_graphs/graph83.txt\n",
      "File saved: /workdir/home/bai/Euni_HO_modified/data/3_openKE/synthesize/output_graphs/graph84.txt\n",
      "File saved: /workdir/home/bai/Euni_HO_modified/data/3_openKE/synthesize/output_graphs/graph85.txt\n",
      "File saved: /workdir/home/bai/Euni_HO_modified/data/3_openKE/synthesize/output_graphs/graph86.txt\n",
      "File saved: /workdir/home/bai/Euni_HO_modified/data/3_openKE/synthesize/output_graphs/graph87.txt\n",
      "File saved: /workdir/home/bai/Euni_HO_modified/data/3_openKE/synthesize/output_graphs/graph88.txt\n",
      "File saved: /workdir/home/bai/Euni_HO_modified/data/3_openKE/synthesize/output_graphs/graph89.txt\n",
      "File saved: /workdir/home/bai/Euni_HO_modified/data/3_openKE/synthesize/output_graphs/graph90.txt\n",
      "File saved: /workdir/home/bai/Euni_HO_modified/data/3_openKE/synthesize/output_graphs/graph91.txt\n",
      "File saved: /workdir/home/bai/Euni_HO_modified/data/3_openKE/synthesize/output_graphs/graph92.txt\n",
      "File saved: /workdir/home/bai/Euni_HO_modified/data/3_openKE/synthesize/output_graphs/graph93.txt\n",
      "File saved: /workdir/home/bai/Euni_HO_modified/data/3_openKE/synthesize/output_graphs/graph94.txt\n",
      "File saved: /workdir/home/bai/Euni_HO_modified/data/3_openKE/synthesize/output_graphs/graph95.txt\n",
      "File saved: /workdir/home/bai/Euni_HO_modified/data/3_openKE/synthesize/output_graphs/graph96.txt\n"
     ]
    },
    {
     "name": "stderr",
     "output_type": "stream",
     "text": [
      "\n",
      "Saving Files:  52%|█████▏    | 113/219 [00:18<00:02, 44.47it/s]\u001b[A\n",
      "Saving Files:  60%|██████    | 132/219 [00:18<00:01, 60.54it/s]\u001b[A"
     ]
    },
    {
     "name": "stdout",
     "output_type": "stream",
     "text": [
      "File saved: /workdir/home/bai/Euni_HO_modified/data/3_openKE/synthesize/output_graphs/graph97.txt\n",
      "File saved: /workdir/home/bai/Euni_HO_modified/data/3_openKE/synthesize/output_graphs/graph98.txt\n",
      "File saved: /workdir/home/bai/Euni_HO_modified/data/3_openKE/synthesize/output_graphs/graph99.txt\n",
      "File saved: /workdir/home/bai/Euni_HO_modified/data/3_openKE/synthesize/output_graphs/graph100.txt\n",
      "File saved: /workdir/home/bai/Euni_HO_modified/data/3_openKE/synthesize/output_graphs/graph101.txt\n",
      "File saved: /workdir/home/bai/Euni_HO_modified/data/3_openKE/synthesize/output_graphs/graph102.txt\n",
      "File saved: /workdir/home/bai/Euni_HO_modified/data/3_openKE/synthesize/output_graphs/graph103.txt\n",
      "File saved: /workdir/home/bai/Euni_HO_modified/data/3_openKE/synthesize/output_graphs/graph104.txt\n",
      "File saved: /workdir/home/bai/Euni_HO_modified/data/3_openKE/synthesize/output_graphs/graph105.txt\n",
      "File saved: /workdir/home/bai/Euni_HO_modified/data/3_openKE/synthesize/output_graphs/graph106.txt\n",
      "File saved: /workdir/home/bai/Euni_HO_modified/data/3_openKE/synthesize/output_graphs/graph107.txt\n",
      "File saved: /workdir/home/bai/Euni_HO_modified/data/3_openKE/synthesize/output_graphs/graph108.txt\n",
      "File saved: /workdir/home/bai/Euni_HO_modified/data/3_openKE/synthesize/output_graphs/graph109.txt\n",
      "File saved: /workdir/home/bai/Euni_HO_modified/data/3_openKE/synthesize/output_graphs/graph110.txt\n",
      "File saved: /workdir/home/bai/Euni_HO_modified/data/3_openKE/synthesize/output_graphs/graph111.txt\n",
      "File saved: /workdir/home/bai/Euni_HO_modified/data/3_openKE/synthesize/output_graphs/graph112.txt\n",
      "File saved: /workdir/home/bai/Euni_HO_modified/data/3_openKE/synthesize/output_graphs/graph113.txt\n",
      "File saved: /workdir/home/bai/Euni_HO_modified/data/3_openKE/synthesize/output_graphs/graph114.txt\n",
      "File saved: /workdir/home/bai/Euni_HO_modified/data/3_openKE/synthesize/output_graphs/graph115.txt\n",
      "File saved: /workdir/home/bai/Euni_HO_modified/data/3_openKE/synthesize/output_graphs/graph116.txt\n",
      "File saved: /workdir/home/bai/Euni_HO_modified/data/3_openKE/synthesize/output_graphs/graph117.txt\n",
      "File saved: /workdir/home/bai/Euni_HO_modified/data/3_openKE/synthesize/output_graphs/graph118.txt\n",
      "File saved: /workdir/home/bai/Euni_HO_modified/data/3_openKE/synthesize/output_graphs/graph119.txt\n",
      "File saved: /workdir/home/bai/Euni_HO_modified/data/3_openKE/synthesize/output_graphs/graph120.txt\n",
      "File saved: /workdir/home/bai/Euni_HO_modified/data/3_openKE/synthesize/output_graphs/graph121.txt\n",
      "File saved: /workdir/home/bai/Euni_HO_modified/data/3_openKE/synthesize/output_graphs/graph122.txt\n",
      "File saved: /workdir/home/bai/Euni_HO_modified/data/3_openKE/synthesize/output_graphs/graph123.txt\n",
      "File saved: /workdir/home/bai/Euni_HO_modified/data/3_openKE/synthesize/output_graphs/graph124.txt\n",
      "File saved: /workdir/home/bai/Euni_HO_modified/data/3_openKE/synthesize/output_graphs/graph125.txt\n",
      "File saved: /workdir/home/bai/Euni_HO_modified/data/3_openKE/synthesize/output_graphs/graph126.txt\n",
      "File saved: /workdir/home/bai/Euni_HO_modified/data/3_openKE/synthesize/output_graphs/graph127.txt\n",
      "File saved: /workdir/home/bai/Euni_HO_modified/data/3_openKE/synthesize/output_graphs/graph128.txt\n",
      "File saved: /workdir/home/bai/Euni_HO_modified/data/3_openKE/synthesize/output_graphs/graph129.txt\n",
      "File saved: /workdir/home/bai/Euni_HO_modified/data/3_openKE/synthesize/output_graphs/graph130.txt\n",
      "File saved: /workdir/home/bai/Euni_HO_modified/data/3_openKE/synthesize/output_graphs/graph131.txt\n",
      "File saved: /workdir/home/bai/Euni_HO_modified/data/3_openKE/synthesize/output_graphs/graph132.txt\n",
      "File saved: /workdir/home/bai/Euni_HO_modified/data/3_openKE/synthesize/output_graphs/graph133.txt\n",
      "File saved: /workdir/home/bai/Euni_HO_modified/data/3_openKE/synthesize/output_graphs/graph134.txt\n",
      "File saved: /workdir/home/bai/Euni_HO_modified/data/3_openKE/synthesize/output_graphs/graph135.txt\n",
      "File saved: /workdir/home/bai/Euni_HO_modified/data/3_openKE/synthesize/output_graphs/graph136.txt\n",
      "File saved: /workdir/home/bai/Euni_HO_modified/data/3_openKE/synthesize/output_graphs/graph137.txt\n"
     ]
    },
    {
     "name": "stderr",
     "output_type": "stream",
     "text": [
      "\n",
      "Saving Files:  66%|██████▌   | 145/219 [00:19<00:02, 36.99it/s]\u001b[A"
     ]
    },
    {
     "name": "stdout",
     "output_type": "stream",
     "text": [
      "File saved: /workdir/home/bai/Euni_HO_modified/data/3_openKE/synthesize/output_graphs/graph138.txt\n",
      "File saved: /workdir/home/bai/Euni_HO_modified/data/3_openKE/synthesize/output_graphs/graph139.txt\n",
      "File saved: /workdir/home/bai/Euni_HO_modified/data/3_openKE/synthesize/output_graphs/graph140.txt\n",
      "File saved: /workdir/home/bai/Euni_HO_modified/data/3_openKE/synthesize/output_graphs/graph141.txt\n",
      "File saved: /workdir/home/bai/Euni_HO_modified/data/3_openKE/synthesize/output_graphs/graph142.txt\n",
      "File saved: /workdir/home/bai/Euni_HO_modified/data/3_openKE/synthesize/output_graphs/graph143.txt\n",
      "File saved: /workdir/home/bai/Euni_HO_modified/data/3_openKE/synthesize/output_graphs/graph144.txt\n",
      "File saved: /workdir/home/bai/Euni_HO_modified/data/3_openKE/synthesize/output_graphs/graph145.txt\n",
      "File saved: /workdir/home/bai/Euni_HO_modified/data/3_openKE/synthesize/output_graphs/graph146.txt\n",
      "File saved: /workdir/home/bai/Euni_HO_modified/data/3_openKE/synthesize/output_graphs/graph147.txt\n",
      "File saved: /workdir/home/bai/Euni_HO_modified/data/3_openKE/synthesize/output_graphs/graph148.txt\n",
      "File saved: /workdir/home/bai/Euni_HO_modified/data/3_openKE/synthesize/output_graphs/graph149.txt\n",
      "File saved: /workdir/home/bai/Euni_HO_modified/data/3_openKE/synthesize/output_graphs/graph150.txt\n",
      "File saved: /workdir/home/bai/Euni_HO_modified/data/3_openKE/synthesize/output_graphs/graph151.txt\n",
      "File saved: /workdir/home/bai/Euni_HO_modified/data/3_openKE/synthesize/output_graphs/graph152.txt\n",
      "File saved: /workdir/home/bai/Euni_HO_modified/data/3_openKE/synthesize/output_graphs/graph153.txt\n",
      "File saved: /workdir/home/bai/Euni_HO_modified/data/3_openKE/synthesize/output_graphs/graph154.txt\n",
      "File saved: /workdir/home/bai/Euni_HO_modified/data/3_openKE/synthesize/output_graphs/graph155.txt\n",
      "File saved: /workdir/home/bai/Euni_HO_modified/data/3_openKE/synthesize/output_graphs/graph156.txt\n",
      "File saved: /workdir/home/bai/Euni_HO_modified/data/3_openKE/synthesize/output_graphs/graph157.txt\n",
      "File saved: /workdir/home/bai/Euni_HO_modified/data/3_openKE/synthesize/output_graphs/graph158.txt\n"
     ]
    },
    {
     "name": "stderr",
     "output_type": "stream",
     "text": [
      "\n",
      "Saving Files:  73%|███████▎  | 159/219 [00:20<00:01, 35.03it/s]\u001b[A\n",
      "Saving Files:  78%|███████▊  | 171/219 [00:20<00:01, 42.80it/s]\u001b[A"
     ]
    },
    {
     "name": "stdout",
     "output_type": "stream",
     "text": [
      "File saved: /workdir/home/bai/Euni_HO_modified/data/3_openKE/synthesize/output_graphs/graph159.txt\n",
      "File saved: /workdir/home/bai/Euni_HO_modified/data/3_openKE/synthesize/output_graphs/graph160.txt\n",
      "File saved: /workdir/home/bai/Euni_HO_modified/data/3_openKE/synthesize/output_graphs/graph161.txt\n",
      "File saved: /workdir/home/bai/Euni_HO_modified/data/3_openKE/synthesize/output_graphs/graph162.txt\n",
      "File saved: /workdir/home/bai/Euni_HO_modified/data/3_openKE/synthesize/output_graphs/graph163.txt\n",
      "File saved: /workdir/home/bai/Euni_HO_modified/data/3_openKE/synthesize/output_graphs/graph164.txt\n",
      "File saved: /workdir/home/bai/Euni_HO_modified/data/3_openKE/synthesize/output_graphs/graph165.txt\n",
      "File saved: /workdir/home/bai/Euni_HO_modified/data/3_openKE/synthesize/output_graphs/graph166.txt\n",
      "File saved: /workdir/home/bai/Euni_HO_modified/data/3_openKE/synthesize/output_graphs/graph167.txt\n",
      "File saved: /workdir/home/bai/Euni_HO_modified/data/3_openKE/synthesize/output_graphs/graph168.txt\n",
      "File saved: /workdir/home/bai/Euni_HO_modified/data/3_openKE/synthesize/output_graphs/graph169.txt\n",
      "File saved: /workdir/home/bai/Euni_HO_modified/data/3_openKE/synthesize/output_graphs/graph170.txt\n",
      "File saved: /workdir/home/bai/Euni_HO_modified/data/3_openKE/synthesize/output_graphs/graph171.txt\n",
      "File saved: /workdir/home/bai/Euni_HO_modified/data/3_openKE/synthesize/output_graphs/graph172.txt\n",
      "File saved: /workdir/home/bai/Euni_HO_modified/data/3_openKE/synthesize/output_graphs/graph173.txt\n"
     ]
    },
    {
     "name": "stderr",
     "output_type": "stream",
     "text": [
      "\n",
      "Saving Files:  82%|████████▏ | 180/219 [00:20<00:00, 47.72it/s]\u001b[A"
     ]
    },
    {
     "name": "stdout",
     "output_type": "stream",
     "text": [
      "File saved: /workdir/home/bai/Euni_HO_modified/data/3_openKE/synthesize/output_graphs/graph174.txt\n",
      "File saved: /workdir/home/bai/Euni_HO_modified/data/3_openKE/synthesize/output_graphs/graph175.txt\n",
      "File saved: /workdir/home/bai/Euni_HO_modified/data/3_openKE/synthesize/output_graphs/graph176.txt\n",
      "File saved: /workdir/home/bai/Euni_HO_modified/data/3_openKE/synthesize/output_graphs/graph177.txt\n",
      "File saved: /workdir/home/bai/Euni_HO_modified/data/3_openKE/synthesize/output_graphs/graph178.txt\n",
      "File saved: /workdir/home/bai/Euni_HO_modified/data/3_openKE/synthesize/output_graphs/graph179.txt\n",
      "File saved: /workdir/home/bai/Euni_HO_modified/data/3_openKE/synthesize/output_graphs/graph180.txt\n",
      "File saved: /workdir/home/bai/Euni_HO_modified/data/3_openKE/synthesize/output_graphs/graph181.txt\n",
      "File saved: /workdir/home/bai/Euni_HO_modified/data/3_openKE/synthesize/output_graphs/graph182.txt\n",
      "File saved: /workdir/home/bai/Euni_HO_modified/data/3_openKE/synthesize/output_graphs/graph183.txt\n",
      "File saved: /workdir/home/bai/Euni_HO_modified/data/3_openKE/synthesize/output_graphs/graph184.txt\n",
      "File saved: /workdir/home/bai/Euni_HO_modified/data/3_openKE/synthesize/output_graphs/graph185.txt\n",
      "File saved: /workdir/home/bai/Euni_HO_modified/data/3_openKE/synthesize/output_graphs/graph186.txt\n",
      "File saved: /workdir/home/bai/Euni_HO_modified/data/3_openKE/synthesize/output_graphs/graph187.txt\n",
      "File saved: /workdir/home/bai/Euni_HO_modified/data/3_openKE/synthesize/output_graphs/graph188.txt\n",
      "File saved: /workdir/home/bai/Euni_HO_modified/data/3_openKE/synthesize/output_graphs/graph189.txt\n",
      "File saved: /workdir/home/bai/Euni_HO_modified/data/3_openKE/synthesize/output_graphs/graph190.txt\n",
      "File saved: /workdir/home/bai/Euni_HO_modified/data/3_openKE/synthesize/output_graphs/graph191.txt\n",
      "File saved: /workdir/home/bai/Euni_HO_modified/data/3_openKE/synthesize/output_graphs/graph192.txt\n",
      "File saved: /workdir/home/bai/Euni_HO_modified/data/3_openKE/synthesize/output_graphs/graph193.txt\n",
      "File saved: /workdir/home/bai/Euni_HO_modified/data/3_openKE/synthesize/output_graphs/graph194.txt\n",
      "File saved: /workdir/home/bai/Euni_HO_modified/data/3_openKE/synthesize/output_graphs/graph195.txt\n",
      "File saved: /workdir/home/bai/Euni_HO_modified/data/3_openKE/synthesize/output_graphs/graph196.txt\n",
      "File saved: /workdir/home/bai/Euni_HO_modified/data/3_openKE/synthesize/output_graphs/graph197.txt\n",
      "File saved: /workdir/home/bai/Euni_HO_modified/data/3_openKE/synthesize/output_graphs/graph198.txt\n",
      "File saved: /workdir/home/bai/Euni_HO_modified/data/3_openKE/synthesize/output_graphs/graph199.txt\n",
      "File saved: /workdir/home/bai/Euni_HO_modified/data/3_openKE/synthesize/output_graphs/graph200.txt\n"
     ]
    },
    {
     "name": "stderr",
     "output_type": "stream",
     "text": [
      "\n",
      "Saving Files: 100%|██████████| 219/219 [00:20<00:00, 10.64it/s]\u001b[A"
     ]
    },
    {
     "name": "stdout",
     "output_type": "stream",
     "text": [
      "File saved: /workdir/home/bai/Euni_HO_modified/data/3_openKE/synthesize/output_graphs/graph201.txt\n",
      "File saved: /workdir/home/bai/Euni_HO_modified/data/3_openKE/synthesize/output_graphs/graph202.txt\n",
      "File saved: /workdir/home/bai/Euni_HO_modified/data/3_openKE/synthesize/output_graphs/graph203.txt\n",
      "File saved: /workdir/home/bai/Euni_HO_modified/data/3_openKE/synthesize/output_graphs/graph204.txt\n",
      "File saved: /workdir/home/bai/Euni_HO_modified/data/3_openKE/synthesize/output_graphs/graph205.txt\n",
      "File saved: /workdir/home/bai/Euni_HO_modified/data/3_openKE/synthesize/output_graphs/graph206.txt\n",
      "File saved: /workdir/home/bai/Euni_HO_modified/data/3_openKE/synthesize/output_graphs/graph207.txt\n",
      "File saved: /workdir/home/bai/Euni_HO_modified/data/3_openKE/synthesize/output_graphs/graph208.txt\n",
      "File saved: /workdir/home/bai/Euni_HO_modified/data/3_openKE/synthesize/output_graphs/graph209.txt\n",
      "File saved: /workdir/home/bai/Euni_HO_modified/data/3_openKE/synthesize/output_graphs/graph210.txt\n",
      "File saved: /workdir/home/bai/Euni_HO_modified/data/3_openKE/synthesize/output_graphs/graph211.txt\n",
      "File saved: /workdir/home/bai/Euni_HO_modified/data/3_openKE/synthesize/output_graphs/graph212.txt\n",
      "File saved: /workdir/home/bai/Euni_HO_modified/data/3_openKE/synthesize/output_graphs/graph213.txt\n",
      "File saved: /workdir/home/bai/Euni_HO_modified/data/3_openKE/synthesize/output_graphs/graph214.txt\n",
      "File saved: /workdir/home/bai/Euni_HO_modified/data/3_openKE/synthesize/output_graphs/graph215.txt\n",
      "File saved: /workdir/home/bai/Euni_HO_modified/data/3_openKE/synthesize/output_graphs/graph216.txt\n",
      "File saved: /workdir/home/bai/Euni_HO_modified/data/3_openKE/synthesize/output_graphs/graph217.txt\n",
      "File saved: /workdir/home/bai/Euni_HO_modified/data/3_openKE/synthesize/output_graphs/graph218.txt\n",
      "File saved: /workdir/home/bai/Euni_HO_modified/data/3_openKE/synthesize/output_graphs/graph219.txt\n",
      "Total number of files created: 219"
     ]
    },
    {
     "name": "stderr",
     "output_type": "stream",
     "text": [
      "\n"
     ]
    },
    {
     "name": "stdout",
     "output_type": "stream",
     "text": [
      "\n"
     ]
    }
   ],
   "source": [
    "from tqdm import tqdm\n",
    "\n",
    "def dfs(graph, start_node, visited, component):\n",
    "    visited.add(start_node)\n",
    "    component.add(start_node)\n",
    "    if start_node in graph:\n",
    "        for neighbor in graph[start_node]:\n",
    "            if neighbor not in visited:\n",
    "                dfs(graph, neighbor, visited, component)\n",
    "\n",
    "def process_and_save_graphs_dfs(file_path):\n",
    "    with open(file_path, 'r') as file:\n",
    "        lines = file.readlines()\n",
    "\n",
    "    graph = {}\n",
    "    reverse_graph = {}\n",
    "    for line in lines:\n",
    "        parts = line.strip().split()\n",
    "        if len(parts) != 4:\n",
    "            continue\n",
    "        source, destination, _ = parts[:3]\n",
    "        if source not in graph:\n",
    "            graph[source] = set()\n",
    "        graph[source].add(destination)\n",
    "        if destination not in reverse_graph:\n",
    "            reverse_graph[destination] = set()\n",
    "        reverse_graph[destination].add(source)\n",
    "\n",
    "    visited = set()\n",
    "    components = []\n",
    "\n",
    "    for node in tqdm(set(graph.keys()).union(set(reverse_graph.keys())), desc=\"Processing Nodes\"):\n",
    "        if node not in visited:\n",
    "            component = set()\n",
    "            dfs(graph, node, visited, component)\n",
    "            additional_nodes = set()\n",
    "            for rev_node in component:\n",
    "                if rev_node in reverse_graph:\n",
    "                    additional_nodes.update(reverse_graph[rev_node] - component)\n",
    "            component.update(additional_nodes)\n",
    "            components.append(component)\n",
    "\n",
    "    grouped_lines = {i: [] for i in range(len(components))}\n",
    "    for line in lines:\n",
    "        parts = line.strip().split()\n",
    "        if len(parts) != 4:\n",
    "            continue\n",
    "        source, destination, _, _ = parts\n",
    "        for i, component in enumerate(components):\n",
    "            if source in component or destination in component:\n",
    "                grouped_lines[i].append(line)\n",
    "\n",
    "    output_folder = '/workdir/home/bai/Euni_HO_modified/data/3_openKE/synthesize/output_graphs/'\n",
    "    for i, lines in tqdm(grouped_lines.items(), desc=\"Saving Files\"):\n",
    "        output_path = f'{output_folder}graph{i + 1}.txt'\n",
    "        with open(output_path, 'w') as file:\n",
    "            file.writelines(lines)\n",
    "        print(f\"File saved: {output_path}\")\n",
    "\n",
    "    return len(grouped_lines)\n",
    "\n",
    "INPUT_FILE_PATH = '/workdir/home/bai/Euni_HO_modified/data/3_openKE/synthesize/merged_all.txt'\n",
    "num_files = process_and_save_graphs_dfs(INPUT_FILE_PATH)\n",
    "print(f\"Total number of files created: {num_files}\")\n"
   ]
  },
  {
   "cell_type": "code",
   "execution_count": null,
   "id": "8d66997b",
   "metadata": {},
   "outputs": [],
   "source": []
  },
  {
   "cell_type": "markdown",
   "id": "5ca64d5c",
   "metadata": {},
   "source": [
    "#### For statistics of the triplets num"
   ]
  },
  {
   "cell_type": "code",
   "execution_count": 45,
   "id": "a9644754",
   "metadata": {},
   "outputs": [
    {
     "data": {
      "application/vnd.jupyter.widget-view+json": {
       "model_id": "6c1902cbc4804af8a17a19542bdfe6ac",
       "version_major": 2,
       "version_minor": 0
      },
      "text/plain": [
       "  0%|          | 0/220 [00:00<?, ?it/s]"
      ]
     },
     "metadata": {},
     "output_type": "display_data"
    }
   ],
   "source": [
    "import os\n",
    "from tqdm.notebook import tqdm\n",
    "\n",
    "def remove_duplicates_in_folder(folder_path):\n",
    "    for filename in tqdm(os.listdir(folder_path)):\n",
    "        file_path = os.path.join(folder_path, filename)\n",
    "        if os.path.isfile(file_path):\n",
    "            with open(file_path, 'r') as file:\n",
    "                lines = file.readlines()\n",
    "            \n",
    "            unique_lines = set(lines)\n",
    "            with open(file_path, 'w') as file:\n",
    "                file.writelines(unique_lines)\n",
    "\n",
    "output_folder = '/workdir/home/bai/Euni_HO_modified/data/3_openKE/synthesize/output_graphs/'  # 更換為您的輸出文件夾路徑\n",
    "remove_duplicates_in_folder(output_folder)\n"
   ]
  },
  {
   "cell_type": "code",
   "execution_count": 51,
   "id": "dd457e6c",
   "metadata": {},
   "outputs": [
    {
     "name": "stdout",
     "output_type": "stream",
     "text": [
      "Filename: Count\n",
      "group_0.txt: 492598\n",
      "graph1.txt: 4659\n",
      "graph2.txt: 44054\n",
      "graph3.txt: 1352\n",
      "graph4.txt: 492446\n",
      "graph5.txt: 4847\n",
      "graph6.txt: 3875\n",
      "graph7.txt: 4847\n",
      "graph8.txt: 28208\n",
      "graph9.txt: 3302\n",
      "graph10.txt: 383\n",
      "graph11.txt: 2555\n",
      "graph12.txt: 3302\n",
      "graph13.txt: 743\n",
      "graph14.txt: 3875\n",
      "graph15.txt: 3603\n",
      "graph16.txt: 4847\n",
      "graph17.txt: 441\n",
      "graph18.txt: 3875\n",
      "graph19.txt: 490946\n",
      "graph20.txt: 8\n",
      "graph21.txt: 8\n",
      "graph22.txt: 3\n",
      "graph23.txt: 9\n",
      "graph24.txt: 26\n",
      "graph25.txt: 121\n",
      "graph26.txt: 5\n",
      "graph27.txt: 1471\n",
      "graph28.txt: 26\n",
      "graph29.txt: 14\n",
      "graph30.txt: 3\n",
      "graph31.txt: 97\n",
      "graph32.txt: 3\n",
      "graph33.txt: 1\n",
      "graph34.txt: 10\n",
      "graph35.txt: 11\n",
      "graph36.txt: 1\n",
      "graph37.txt: 3\n",
      "graph38.txt: 9\n",
      "graph39.txt: 3\n",
      "graph40.txt: 53\n",
      "graph41.txt: 2\n",
      "graph42.txt: 26\n",
      "graph43.txt: 3\n",
      "graph44.txt: 10\n",
      "graph45.txt: 5\n",
      "graph46.txt: 9\n",
      "graph47.txt: 166\n",
      "graph48.txt: 467\n",
      "graph49.txt: 135\n",
      "graph50.txt: 4\n",
      "graph51.txt: 948\n",
      "graph52.txt: 2545\n",
      "graph53.txt: 3\n",
      "graph54.txt: 1\n",
      "graph55.txt: 8\n",
      "graph56.txt: 1045\n",
      "graph57.txt: 10\n",
      "graph58.txt: 3\n",
      "graph59.txt: 26\n",
      "graph60.txt: 41\n",
      "graph61.txt: 26\n",
      "graph62.txt: 1\n",
      "graph63.txt: 1061\n",
      "graph64.txt: 1\n",
      "graph65.txt: 388\n",
      "graph66.txt: 2\n",
      "graph67.txt: 1092\n",
      "graph68.txt: 26\n",
      "graph69.txt: 26\n",
      "graph70.txt: 1473\n",
      "graph71.txt: 2\n",
      "graph72.txt: 1430\n",
      "graph73.txt: 1\n",
      "graph74.txt: 570\n",
      "graph75.txt: 1058\n",
      "graph76.txt: 2\n",
      "graph77.txt: 5\n",
      "graph78.txt: 4\n",
      "graph79.txt: 3\n",
      "graph80.txt: 322\n",
      "graph81.txt: 3\n",
      "graph82.txt: 1490\n",
      "graph83.txt: 5\n",
      "graph84.txt: 637\n",
      "graph85.txt: 12\n",
      "graph86.txt: 380\n",
      "graph87.txt: 4\n",
      "graph88.txt: 1\n",
      "graph89.txt: 2\n",
      "graph90.txt: 4\n",
      "graph91.txt: 2\n",
      "graph92.txt: 8\n",
      "graph93.txt: 37\n",
      "graph94.txt: 26\n",
      "graph95.txt: 2\n",
      "graph96.txt: 16\n",
      "graph97.txt: 318\n",
      "graph98.txt: 1472\n",
      "graph99.txt: 2\n",
      "graph100.txt: 2251\n",
      "graph101.txt: 25\n",
      "graph102.txt: 26\n",
      "graph103.txt: 3\n",
      "graph104.txt: 1\n",
      "graph105.txt: 427\n",
      "graph106.txt: 1\n",
      "graph107.txt: 28\n",
      "graph108.txt: 12\n",
      "graph109.txt: 97\n",
      "graph110.txt: 122\n",
      "graph111.txt: 9\n",
      "graph112.txt: 1248\n",
      "graph113.txt: 824\n",
      "graph114.txt: 1368\n",
      "graph115.txt: 3\n",
      "graph116.txt: 1\n",
      "graph117.txt: 26\n",
      "graph118.txt: 6\n",
      "graph119.txt: 26\n",
      "graph120.txt: 3\n",
      "graph121.txt: 583\n",
      "graph122.txt: 18\n",
      "graph123.txt: 88\n",
      "graph124.txt: 26\n",
      "graph125.txt: 121\n",
      "graph126.txt: 97\n",
      "graph127.txt: 665\n",
      "graph128.txt: 2\n",
      "graph129.txt: 3\n",
      "graph130.txt: 26\n",
      "graph131.txt: 3\n",
      "graph132.txt: 29\n",
      "graph133.txt: 8\n",
      "graph134.txt: 2\n",
      "graph135.txt: 1\n",
      "graph136.txt: 3\n",
      "graph137.txt: 3\n",
      "graph138.txt: 1271\n",
      "graph139.txt: 1356\n",
      "graph140.txt: 26\n",
      "graph141.txt: 479\n",
      "graph142.txt: 1\n",
      "graph143.txt: 26\n",
      "graph144.txt: 3\n",
      "graph145.txt: 3\n",
      "graph146.txt: 5\n",
      "graph147.txt: 1\n",
      "graph148.txt: 2\n",
      "graph149.txt: 652\n",
      "graph150.txt: 2\n",
      "graph151.txt: 167\n",
      "graph152.txt: 1471\n",
      "graph153.txt: 5\n",
      "graph154.txt: 26\n",
      "graph155.txt: 5\n",
      "graph156.txt: 141\n",
      "graph157.txt: 41\n",
      "graph158.txt: 1414\n",
      "graph159.txt: 277\n",
      "graph160.txt: 4\n",
      "graph161.txt: 26\n",
      "graph162.txt: 1096\n",
      "graph163.txt: 1495\n",
      "graph164.txt: 3\n",
      "graph165.txt: 66\n",
      "graph166.txt: 6\n",
      "graph167.txt: 443\n",
      "graph168.txt: 284\n",
      "graph169.txt: 41\n",
      "graph170.txt: 13\n",
      "graph171.txt: 10\n",
      "graph172.txt: 3\n",
      "graph173.txt: 25\n",
      "graph174.txt: 5\n",
      "graph175.txt: 7\n",
      "graph176.txt: 1\n",
      "graph177.txt: 2\n",
      "graph178.txt: 26\n",
      "graph179.txt: 5\n",
      "graph180.txt: 6\n",
      "graph181.txt: 2\n",
      "graph182.txt: 37\n",
      "graph183.txt: 26\n",
      "graph184.txt: 3\n",
      "graph185.txt: 71\n",
      "graph186.txt: 1\n",
      "graph187.txt: 4\n",
      "graph188.txt: 1\n",
      "graph189.txt: 3\n",
      "graph190.txt: 2\n",
      "graph191.txt: 2\n",
      "graph192.txt: 351\n",
      "graph193.txt: 114\n",
      "graph194.txt: 392\n",
      "graph195.txt: 78\n",
      "graph196.txt: 380\n",
      "graph197.txt: 26\n",
      "graph198.txt: 1\n",
      "graph199.txt: 6\n",
      "graph200.txt: 10\n",
      "graph201.txt: 1358\n",
      "graph202.txt: 1\n",
      "graph203.txt: 3\n",
      "graph204.txt: 2\n",
      "graph205.txt: 1\n",
      "graph206.txt: 4\n",
      "graph207.txt: 23\n",
      "graph208.txt: 375\n",
      "graph209.txt: 385\n",
      "graph210.txt: 5\n",
      "graph211.txt: 42\n",
      "graph212.txt: 148\n",
      "graph213.txt: 7\n",
      "graph214.txt: 7\n",
      "graph215.txt: 2\n",
      "graph216.txt: 4\n",
      "graph217.txt: 1\n",
      "graph218.txt: 393\n",
      "graph219.txt: 1\n"
     ]
    }
   ],
   "source": [
    "import os\n",
    "\n",
    "def count_rows_in_files(folder_path):\n",
    "    row_counts = {}\n",
    "    for filename in os.listdir(folder_path):\n",
    "        file_path = os.path.join(folder_path, filename)\n",
    "        if os.path.isfile(file_path):\n",
    "            with open(file_path, 'r') as file:\n",
    "                lines = file.readlines()\n",
    "            \n",
    "            row_counts[filename] = len(lines)\n",
    "    \n",
    "    return row_counts\n",
    "\n",
    "# output_folder = '/path/to/your/output/folder'  # 更換為您的輸出文件夾路徑\n",
    "row_counts = count_rows_in_files(output_folder)\n",
    "\n",
    "print(\"Filename: Count\")\n",
    "for filename, count in row_counts.items():\n",
    "    print(f\"{filename}: {count}\")\n"
   ]
  },
  {
   "cell_type": "code",
   "execution_count": 49,
   "id": "19bf5039",
   "metadata": {
    "scrolled": true
   },
   "outputs": [
    {
     "name": "stdout",
     "output_type": "stream",
     "text": [
      "Triplets Number 492598: 1 files\n",
      "Triplets Number 492446: 1 files\n",
      "Triplets Number 490946: 1 files\n",
      "Triplets Number 44054: 1 files\n",
      "Triplets Number 28208: 1 files\n",
      "Triplets Number 4847: 3 files\n",
      "Triplets Number 4659: 1 files\n",
      "Triplets Number 3875: 3 files\n",
      "Triplets Number 3603: 1 files\n",
      "Triplets Number 3302: 2 files\n",
      "Triplets Number 2555: 1 files\n",
      "Triplets Number 2545: 1 files\n",
      "Triplets Number 2251: 1 files\n",
      "Triplets Number 1495: 1 files\n",
      "Triplets Number 1490: 1 files\n",
      "Triplets Number 1473: 1 files\n",
      "Triplets Number 1472: 1 files\n",
      "Triplets Number 1471: 2 files\n",
      "Triplets Number 1430: 1 files\n",
      "Triplets Number 1414: 1 files\n",
      "Triplets Number 1368: 1 files\n",
      "Triplets Number 1358: 1 files\n",
      "Triplets Number 1356: 1 files\n",
      "Triplets Number 1352: 1 files\n",
      "Triplets Number 1271: 1 files\n",
      "Triplets Number 1248: 1 files\n",
      "Triplets Number 1096: 1 files\n",
      "Triplets Number 1092: 1 files\n",
      "Triplets Number 1061: 1 files\n",
      "Triplets Number 1058: 1 files\n",
      "Triplets Number 1045: 1 files\n",
      "Triplets Number 948: 1 files\n",
      "Triplets Number 824: 1 files\n",
      "Triplets Number 743: 1 files\n",
      "Triplets Number 665: 1 files\n",
      "Triplets Number 652: 1 files\n",
      "Triplets Number 637: 1 files\n",
      "Triplets Number 583: 1 files\n",
      "Triplets Number 570: 1 files\n",
      "Triplets Number 479: 1 files\n",
      "Triplets Number 467: 1 files\n",
      "Triplets Number 443: 1 files\n",
      "Triplets Number 441: 1 files\n",
      "Triplets Number 427: 1 files\n",
      "Triplets Number 393: 1 files\n",
      "Triplets Number 392: 1 files\n",
      "Triplets Number 388: 1 files\n",
      "Triplets Number 385: 1 files\n",
      "Triplets Number 383: 1 files\n",
      "Triplets Number 380: 2 files\n",
      "Triplets Number 375: 1 files\n",
      "Triplets Number 351: 1 files\n",
      "Triplets Number 322: 1 files\n",
      "Triplets Number 318: 1 files\n",
      "Triplets Number 284: 1 files\n",
      "Triplets Number 277: 1 files\n",
      "Triplets Number 167: 1 files\n",
      "Triplets Number 166: 1 files\n",
      "Triplets Number 148: 1 files\n",
      "Triplets Number 141: 1 files\n",
      "Triplets Number 135: 1 files\n",
      "Triplets Number 122: 1 files\n",
      "Triplets Number 121: 2 files\n",
      "Triplets Number 114: 1 files\n",
      "Triplets Number 97: 3 files\n",
      "Triplets Number 88: 1 files\n",
      "Triplets Number 78: 1 files\n",
      "Triplets Number 71: 1 files\n",
      "Triplets Number 66: 1 files\n",
      "Triplets Number 53: 1 files\n",
      "Triplets Number 42: 1 files\n",
      "Triplets Number 41: 3 files\n",
      "Triplets Number 37: 2 files\n",
      "Triplets Number 29: 1 files\n",
      "Triplets Number 28: 1 files\n",
      "Triplets Number 26: 20 files\n",
      "Triplets Number 25: 2 files\n",
      "Triplets Number 23: 1 files\n",
      "Triplets Number 18: 1 files\n",
      "Triplets Number 16: 1 files\n",
      "Triplets Number 14: 1 files\n",
      "Triplets Number 13: 1 files\n",
      "Triplets Number 12: 2 files\n",
      "Triplets Number 11: 1 files\n",
      "Triplets Number 10: 5 files\n",
      "Triplets Number 9: 4 files\n",
      "Triplets Number 8: 5 files\n",
      "Triplets Number 7: 3 files\n",
      "Triplets Number 6: 4 files\n",
      "Triplets Number 5: 10 files\n",
      "Triplets Number 4: 8 files\n",
      "Triplets Number 3: 24 files\n",
      "Triplets Number 2: 18 files\n",
      "Triplets Number 1: 21 files\n"
     ]
    }
   ],
   "source": [
    "import os\n",
    "\n",
    "def count_files_by_triplets(folder_path):\n",
    "    triplets_count = {}\n",
    "    for filename in os.listdir(folder_path):\n",
    "        file_path = os.path.join(folder_path, filename)\n",
    "        if os.path.isfile(file_path):\n",
    "            with open(file_path, 'r') as file:\n",
    "                lines = file.readlines()\n",
    "            \n",
    "            count = len(lines)\n",
    "            triplets_count[count] = triplets_count.get(count, 0) + 1\n",
    "    \n",
    "    return triplets_count\n",
    "\n",
    "def sort_and_print_triplets_count(triplets_count):\n",
    "    # 按照Triplets数量从大到小排序\n",
    "    sorted_triplets_count = sorted(triplets_count.items(), key=lambda x: x[0], reverse=True)\n",
    "\n",
    "    for count, num_files in sorted_triplets_count:\n",
    "        print(f\"Triplets Number {count}: {num_files} files\")\n",
    "\n",
    "# 示例路径，根据实际情况替换\n",
    "# output_folder = '/path/to/your/output/folder'\n",
    "files_count_by_triplets = count_files_by_triplets(output_folder)\n",
    "sort_and_print_triplets_count(files_count_by_triplets)\n"
   ]
  },
  {
   "cell_type": "code",
   "execution_count": null,
   "id": "2417667a",
   "metadata": {},
   "outputs": [],
   "source": []
  }
 ],
 "metadata": {
  "kernelspec": {
   "display_name": "Python 3",
   "language": "python",
   "name": "python3"
  },
  "language_info": {
   "codemirror_mode": {
    "name": "ipython",
    "version": 3
   },
   "file_extension": ".py",
   "mimetype": "text/x-python",
   "name": "python",
   "nbconvert_exporter": "python",
   "pygments_lexer": "ipython3",
   "version": "3.6.9"
  }
 },
 "nbformat": 4,
 "nbformat_minor": 5
}
