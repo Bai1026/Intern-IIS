{
 "cells": [
  {
   "cell_type": "code",
   "execution_count": 1,
   "id": "46c02099",
   "metadata": {},
   "outputs": [
    {
     "name": "stdout",
     "output_type": "stream",
     "text": [
      "a\n"
     ]
    }
   ],
   "source": [
    "print('a')"
   ]
  },
  {
   "cell_type": "code",
   "execution_count": 2,
   "id": "10a1911c",
   "metadata": {},
   "outputs": [],
   "source": [
    "'''\n",
    "Convert synthesize data to \n",
    "entity2id.txt, relation2id, entity2id_objType.txt\n",
    "'''\n",
    "\n",
    "import json\n",
    "import pickle\n",
    "import os\n",
    "from tqdm.notebook import tqdm\n",
    "from typing import Set, Tuple, Generator\n",
    "import pandas as pd\n",
    "import numpy as np\n",
    "from sklearn.model_selection import train_test_split\n",
    "\n",
    "OUTPUT_PATH = '../data/3_openKE/synthesize'\n",
    "INPUT_PATH = '/workdir/home/bai/new_dataset/data/raw_dataset_all.json'\n",
    "# INPUT_PATH = '/workdir/home/bai/new_dataset/data/raw_dataset_all_test2.json'\n",
    "\n",
    "pd.set_option('display.max_rows', 500)\n",
    "pd.set_option('display.max_columns', 500)\n",
    "pd.set_option('display.width', 500)"
   ]
  },
  {
   "cell_type": "code",
   "execution_count": 3,
   "id": "b1e85dbf",
   "metadata": {},
   "outputs": [
    {
     "data": {
      "application/vnd.jupyter.widget-view+json": {
       "model_id": "3567116ddbb042989ff96a47294b419f",
       "version_major": 2,
       "version_minor": 0
      },
      "text/plain": [
       "0it [00:00, ?it/s]"
      ]
     },
     "metadata": {},
     "output_type": "display_data"
    }
   ],
   "source": [
    "data = list()\n",
    "\n",
    "with open(INPUT_PATH, 'r') as f:\n",
    "    for line in tqdm(f):\n",
    "        event = json.loads(line)\n",
    "        data.append(event)"
   ]
  },
  {
   "cell_type": "code",
   "execution_count": 4,
   "id": "5dbf6ee3",
   "metadata": {},
   "outputs": [
    {
     "name": "stdout",
     "output_type": "stream",
     "text": [
      "76152566\n"
     ]
    },
    {
     "data": {
      "text/plain": [
       "dict"
      ]
     },
     "execution_count": 4,
     "metadata": {},
     "output_type": "execute_result"
    }
   ],
   "source": [
    "print(len(data))\n",
    "type(data[1])"
   ]
  },
  {
   "cell_type": "code",
   "execution_count": 5,
   "id": "ffd1fd68",
   "metadata": {},
   "outputs": [
    {
     "data": {
      "text/plain": [
       "{'src_uuid': '5c767619-68b1-5524-b484-a445435557d0',\n",
       " 'src_node': {'Name': 'I1806201911266473',\n",
       "  'Image': 'I1806201911266473.doc',\n",
       "  'Cmdline': 'I1806201911266473.doc',\n",
       "  'Type': 'Process',\n",
       "  'Pid': 99719},\n",
       " 'dst_uuid': '5c767619-68b1-5524-b484-a445435557d0',\n",
       " 'dst_node': {'Name': 'I1806201911266473',\n",
       "  'Image': 'I1806201911266473.doc',\n",
       "  'Cmdline': 'I1806201911266473.doc',\n",
       "  'Type': 'Process',\n",
       "  'Pid': 99719},\n",
       " 'relation': 'Process Start',\n",
       " 'label': 'O'}"
      ]
     },
     "execution_count": 5,
     "metadata": {},
     "output_type": "execute_result"
    }
   ],
   "source": [
    "data[0]"
   ]
  },
  {
   "cell_type": "code",
   "execution_count": 6,
   "id": "c8844fbb",
   "metadata": {},
   "outputs": [
    {
     "data": {
      "application/vnd.jupyter.widget-view+json": {
       "model_id": "d87b92145cf942feb76aa15e46a54f89",
       "version_major": 2,
       "version_minor": 0
      },
      "text/plain": [
       "  0%|          | 0/76152566 [00:00<?, ?it/s]"
      ]
     },
     "metadata": {},
     "output_type": "display_data"
    },
    {
     "name": "stdout",
     "output_type": "stream",
     "text": [
      "{'Port', 'Dstaddress', 'Type', 'Srcaddress'}\n"
     ]
    }
   ],
   "source": [
    "keys = set()\n",
    "for d in tqdm(data):\n",
    "    if d['dst_node'].get('Type') == 'Network':\n",
    "        keys.update(d['dst_node'].keys())\n",
    "\n",
    "print(keys)"
   ]
  },
  {
   "cell_type": "code",
   "execution_count": 7,
   "id": "7e92206d",
   "metadata": {},
   "outputs": [
    {
     "data": {
      "application/vnd.jupyter.widget-view+json": {
       "model_id": "29ffb60f8f90459f90945f6164a3bf82",
       "version_major": 2,
       "version_minor": 0
      },
      "text/plain": [
       "  0%|          | 0/76152566 [00:00<?, ?it/s]"
      ]
     },
     "metadata": {},
     "output_type": "display_data"
    },
    {
     "data": {
      "text/plain": [
       "{'Cmdline', 'Image', 'Name', 'Pid', 'Type'}"
      ]
     },
     "execution_count": 7,
     "metadata": {},
     "output_type": "execute_result"
    }
   ],
   "source": [
    "keys = set()\n",
    "for d in tqdm(data):\n",
    "    if d['dst_node']['Type'] == 'Process':\n",
    "        keys = keys.union(d['dst_node'].keys())\n",
    "keys"
   ]
  },
  {
   "cell_type": "code",
   "execution_count": 8,
   "id": "2f4b22cb",
   "metadata": {},
   "outputs": [
    {
     "data": {
      "application/vnd.jupyter.widget-view+json": {
       "model_id": "7215761526dc4b24b26b343728a0448d",
       "version_major": 2,
       "version_minor": 0
      },
      "text/plain": [
       "  0%|          | 0/76152566 [00:00<?, ?it/s]"
      ]
     },
     "metadata": {},
     "output_type": "display_data"
    },
    {
     "data": {
      "text/plain": [
       "{'Key', 'Type', 'Value'}"
      ]
     },
     "execution_count": 8,
     "metadata": {},
     "output_type": "execute_result"
    }
   ],
   "source": [
    "keys = set()\n",
    "for d in tqdm(data):\n",
    "    if d['dst_node']['Type'] == 'Registry':\n",
    "        keys = keys.union(d['dst_node'].keys())\n",
    "keys"
   ]
  },
  {
   "cell_type": "code",
   "execution_count": 9,
   "id": "73b29fda",
   "metadata": {},
   "outputs": [
    {
     "data": {
      "application/vnd.jupyter.widget-view+json": {
       "model_id": "24e4606f73cc402d84012656bc0780ae",
       "version_major": 2,
       "version_minor": 0
      },
      "text/plain": [
       "  0%|          | 0/76152566 [00:00<?, ?it/s]"
      ]
     },
     "metadata": {},
     "output_type": "display_data"
    },
    {
     "data": {
      "text/plain": [
       "{'Name', 'Type'}"
      ]
     },
     "execution_count": 9,
     "metadata": {},
     "output_type": "execute_result"
    }
   ],
   "source": [
    "keys = set()\n",
    "for d in tqdm(data):\n",
    "    if d['dst_node']['Type'] == 'File':\n",
    "        keys = keys.union(d['dst_node'].keys())\n",
    "keys"
   ]
  },
  {
   "cell_type": "code",
   "execution_count": 10,
   "id": "d28ecf4c",
   "metadata": {},
   "outputs": [
    {
     "data": {
      "application/vnd.jupyter.widget-view+json": {
       "model_id": "60a819eb533340a79c08e756a39cac1f",
       "version_major": 2,
       "version_minor": 0
      },
      "text/plain": [
       "  0%|          | 0/76152566 [00:00<?, ?it/s]"
      ]
     },
     "metadata": {},
     "output_type": "display_data"
    },
    {
     "name": "stdout",
     "output_type": "stream",
     "text": [
      "(76152566, 7)\n"
     ]
    }
   ],
   "source": [
    "save_data = list()\n",
    "for d in tqdm(data):\n",
    "    src_uuid = d['src_uuid']\n",
    "    src_node = d['src_node']\n",
    "    dst_uuid = d['dst_uuid']\n",
    "    dst_node = d['dst_node']\n",
    "    relation = d['relation']\n",
    "    label = d['label']\n",
    "    src_cmdline = 'nan' if type(src_node['Cmdline']) == float and np.isnan(src_node['Cmdline']) else src_node['Cmdline']\n",
    "    dst_value = 'nan' if 'Value' not in dst_node else dst_node['Value']\n",
    "    new_row = {\n",
    "        'src_uuid': src_uuid, \n",
    "#         'src': f'process:Cmdline: {cmdline}\\nImage: {src_node[\"Image\"]}\\nName: {src_node[\"Name\"]}\\nPid: {src_node[\"Pid\"]}',\n",
    "#         'src': f'process:{src_node[\"Image\"]}&{src_cmdline}&{src_node[\"Pid\"]}',\n",
    "        'src': f'process:{src_node[\"Pid\"]}&{src_cmdline}',\n",
    "        'dst_uuid': dst_uuid, \n",
    "        'dst': None, \n",
    "        'relation': relation, \n",
    "        'dst_type': dst_node['Type'].lower(),\n",
    "        'label': label\n",
    "    }\n",
    "    if new_row['dst_type'] == 'file':\n",
    "        new_row['dst'] = new_row['dst_type'] + ':' + dst_node['Name']\n",
    "    elif new_row['dst_type'] == 'network':\n",
    "        new_row['dst'] = new_row['dst_type'] + ':' + dst_node['Srcaddress'] + '&' + dst_node['Dstaddress'] + '&' + dst_node['Port']\n",
    "    elif new_row['dst_type'] == 'registry':\n",
    "        new_row['dst'] = new_row['dst_type'] + ':' + dst_node['Key']\n",
    "        \n",
    "    elif new_row['dst_type'] == 'process':\n",
    "#         new_row['dst'] = new_row['dst_type'] + ':' + f'{dst_node[\"Cmdline\"]}&{dst_node[\"Image\"]}&{dst_node[\"Name\"]}&{dst_node[\"Pid\"]}'\n",
    "        new_row['dst'] = new_row['dst_type'] + ':' + f'{dst_node[\"Pid\"]}&{dst_node[\"Cmdline\"]}'\n",
    "#         new_row['dst'] = new_row['dst_type'] + ':' + f'{dst_node[\"Image\"]}&{dst_node[\"Cmdline\"]}${dst_node[\"Pid\"]}'\n",
    "        \n",
    "    new_row['src'] = new_row['src'].replace(' ', '_')\n",
    "    new_row['dst'] = new_row['dst'].replace(' ', '_')\n",
    "    \n",
    "#     if new_row['dst'] != :\n",
    "#         save_data.append(new_row)\n",
    "    save_data.append(new_row)\n",
    "\n",
    "df = pd.DataFrame(save_data)\n",
    "print(df.shape)"
   ]
  },
  {
   "cell_type": "code",
   "execution_count": 11,
   "id": "3e168e4b",
   "metadata": {},
   "outputs": [
    {
     "data": {
      "text/html": [
       "<div>\n",
       "<style scoped>\n",
       "    .dataframe tbody tr th:only-of-type {\n",
       "        vertical-align: middle;\n",
       "    }\n",
       "\n",
       "    .dataframe tbody tr th {\n",
       "        vertical-align: top;\n",
       "    }\n",
       "\n",
       "    .dataframe thead th {\n",
       "        text-align: right;\n",
       "    }\n",
       "</style>\n",
       "<table border=\"1\" class=\"dataframe\">\n",
       "  <thead>\n",
       "    <tr style=\"text-align: right;\">\n",
       "      <th></th>\n",
       "      <th>src_uuid</th>\n",
       "      <th>src</th>\n",
       "      <th>dst_uuid</th>\n",
       "      <th>dst</th>\n",
       "      <th>relation</th>\n",
       "      <th>dst_type</th>\n",
       "      <th>label</th>\n",
       "    </tr>\n",
       "  </thead>\n",
       "  <tbody>\n",
       "    <tr>\n",
       "      <th>0</th>\n",
       "      <td>5c767619-68b1-5524-b484-a445435557d0</td>\n",
       "      <td>process:99719&amp;I1806201911266473.doc</td>\n",
       "      <td>5c767619-68b1-5524-b484-a445435557d0</td>\n",
       "      <td>process:99719&amp;I1806201911266473.doc</td>\n",
       "      <td>Process Start</td>\n",
       "      <td>process</td>\n",
       "      <td>O</td>\n",
       "    </tr>\n",
       "    <tr>\n",
       "      <th>1</th>\n",
       "      <td>5c767619-68b1-5524-b484-a445435557d0</td>\n",
       "      <td>process:99719&amp;I1806201911266473.doc</td>\n",
       "      <td>cd624d9f-8a02-589e-b404-de6e18628651</td>\n",
       "      <td>registry:HKLM\\System\\CurrentControlSet\\Control...</td>\n",
       "      <td>RegOpenKey</td>\n",
       "      <td>registry</td>\n",
       "      <td>O</td>\n",
       "    </tr>\n",
       "    <tr>\n",
       "      <th>2</th>\n",
       "      <td>5c767619-68b1-5524-b484-a445435557d0</td>\n",
       "      <td>process:99719&amp;I1806201911266473.doc</td>\n",
       "      <td>cd624d9f-8a02-589e-b404-de6e18628651</td>\n",
       "      <td>registry:HKLM\\System\\CurrentControlSet\\Control...</td>\n",
       "      <td>RegOpenKey</td>\n",
       "      <td>registry</td>\n",
       "      <td>O</td>\n",
       "    </tr>\n",
       "    <tr>\n",
       "      <th>3</th>\n",
       "      <td>5c767619-68b1-5524-b484-a445435557d0</td>\n",
       "      <td>process:99719&amp;I1806201911266473.doc</td>\n",
       "      <td>80270878-3234-569d-83ee-45dc060fd89b</td>\n",
       "      <td>registry:HKLM\\System\\CurrentControlSet\\Control...</td>\n",
       "      <td>RegQueryValue</td>\n",
       "      <td>registry</td>\n",
       "      <td>O</td>\n",
       "    </tr>\n",
       "    <tr>\n",
       "      <th>4</th>\n",
       "      <td>5c767619-68b1-5524-b484-a445435557d0</td>\n",
       "      <td>process:99719&amp;I1806201911266473.doc</td>\n",
       "      <td>cd624d9f-8a02-589e-b404-de6e18628651</td>\n",
       "      <td>registry:HKLM\\System\\CurrentControlSet\\Control...</td>\n",
       "      <td>RegCloseKey</td>\n",
       "      <td>registry</td>\n",
       "      <td>O</td>\n",
       "    </tr>\n",
       "    <tr>\n",
       "      <th>5</th>\n",
       "      <td>5c767619-68b1-5524-b484-a445435557d0</td>\n",
       "      <td>process:99719&amp;I1806201911266473.doc</td>\n",
       "      <td>cd5c07a0-fdbf-561b-ad4c-1af758255c43</td>\n",
       "      <td>registry:HKLM\\SYSTEM\\CurrentControlSet\\Control...</td>\n",
       "      <td>RegOpenKey</td>\n",
       "      <td>registry</td>\n",
       "      <td>O</td>\n",
       "    </tr>\n",
       "    <tr>\n",
       "      <th>6</th>\n",
       "      <td>5c767619-68b1-5524-b484-a445435557d0</td>\n",
       "      <td>process:99719&amp;I1806201911266473.doc</td>\n",
       "      <td>d71746dd-ef79-5c1d-a674-d61fe32dd650</td>\n",
       "      <td>registry:HKLM\\System\\CurrentControlSet\\Control...</td>\n",
       "      <td>RegOpenKey</td>\n",
       "      <td>registry</td>\n",
       "      <td>O</td>\n",
       "    </tr>\n",
       "    <tr>\n",
       "      <th>7</th>\n",
       "      <td>5c767619-68b1-5524-b484-a445435557d0</td>\n",
       "      <td>process:99719&amp;I1806201911266473.doc</td>\n",
       "      <td>603e5097-1217-568e-b499-08902f2865a3</td>\n",
       "      <td>registry:HKLM\\SYSTEM\\CurrentControlSet\\Control...</td>\n",
       "      <td>RegOpenKey</td>\n",
       "      <td>registry</td>\n",
       "      <td>O</td>\n",
       "    </tr>\n",
       "    <tr>\n",
       "      <th>8</th>\n",
       "      <td>5c767619-68b1-5524-b484-a445435557d0</td>\n",
       "      <td>process:99719&amp;I1806201911266473.doc</td>\n",
       "      <td>cd624d9f-8a02-589e-b404-de6e18628651</td>\n",
       "      <td>registry:HKLM\\System\\CurrentControlSet\\Control...</td>\n",
       "      <td>RegOpenKey</td>\n",
       "      <td>registry</td>\n",
       "      <td>O</td>\n",
       "    </tr>\n",
       "    <tr>\n",
       "      <th>9</th>\n",
       "      <td>5c767619-68b1-5524-b484-a445435557d0</td>\n",
       "      <td>process:99719&amp;I1806201911266473.doc</td>\n",
       "      <td>6c10e362-11fd-5a7a-8ad8-4b10f59dddb9</td>\n",
       "      <td>registry:HKLM\\System\\CurrentControlSet\\Control...</td>\n",
       "      <td>RegQueryValue</td>\n",
       "      <td>registry</td>\n",
       "      <td>O</td>\n",
       "    </tr>\n",
       "  </tbody>\n",
       "</table>\n",
       "</div>"
      ],
      "text/plain": [
       "                               src_uuid                                  src                              dst_uuid                                                dst       relation  dst_type label\n",
       "0  5c767619-68b1-5524-b484-a445435557d0  process:99719&I1806201911266473.doc  5c767619-68b1-5524-b484-a445435557d0                process:99719&I1806201911266473.doc  Process Start   process     O\n",
       "1  5c767619-68b1-5524-b484-a445435557d0  process:99719&I1806201911266473.doc  cd624d9f-8a02-589e-b404-de6e18628651  registry:HKLM\\System\\CurrentControlSet\\Control...     RegOpenKey  registry     O\n",
       "2  5c767619-68b1-5524-b484-a445435557d0  process:99719&I1806201911266473.doc  cd624d9f-8a02-589e-b404-de6e18628651  registry:HKLM\\System\\CurrentControlSet\\Control...     RegOpenKey  registry     O\n",
       "3  5c767619-68b1-5524-b484-a445435557d0  process:99719&I1806201911266473.doc  80270878-3234-569d-83ee-45dc060fd89b  registry:HKLM\\System\\CurrentControlSet\\Control...  RegQueryValue  registry     O\n",
       "4  5c767619-68b1-5524-b484-a445435557d0  process:99719&I1806201911266473.doc  cd624d9f-8a02-589e-b404-de6e18628651  registry:HKLM\\System\\CurrentControlSet\\Control...    RegCloseKey  registry     O\n",
       "5  5c767619-68b1-5524-b484-a445435557d0  process:99719&I1806201911266473.doc  cd5c07a0-fdbf-561b-ad4c-1af758255c43  registry:HKLM\\SYSTEM\\CurrentControlSet\\Control...     RegOpenKey  registry     O\n",
       "6  5c767619-68b1-5524-b484-a445435557d0  process:99719&I1806201911266473.doc  d71746dd-ef79-5c1d-a674-d61fe32dd650  registry:HKLM\\System\\CurrentControlSet\\Control...     RegOpenKey  registry     O\n",
       "7  5c767619-68b1-5524-b484-a445435557d0  process:99719&I1806201911266473.doc  603e5097-1217-568e-b499-08902f2865a3  registry:HKLM\\SYSTEM\\CurrentControlSet\\Control...     RegOpenKey  registry     O\n",
       "8  5c767619-68b1-5524-b484-a445435557d0  process:99719&I1806201911266473.doc  cd624d9f-8a02-589e-b404-de6e18628651  registry:HKLM\\System\\CurrentControlSet\\Control...     RegOpenKey  registry     O\n",
       "9  5c767619-68b1-5524-b484-a445435557d0  process:99719&I1806201911266473.doc  6c10e362-11fd-5a7a-8ad8-4b10f59dddb9  registry:HKLM\\System\\CurrentControlSet\\Control...  RegQueryValue  registry     O"
      ]
     },
     "execution_count": 11,
     "metadata": {},
     "output_type": "execute_result"
    }
   ],
   "source": [
    "df.head(10)"
   ]
  },
  {
   "cell_type": "markdown",
   "id": "f1d4fbe8",
   "metadata": {},
   "source": [
    "## entity2id.txt, relation2id, entity2id_objType.txt, relation2id_type.txt"
   ]
  },
  {
   "cell_type": "markdown",
   "id": "d965f1ef",
   "metadata": {},
   "source": [
    "- entity set is the unique source  \n",
    "- relation set is the unique relation"
   ]
  },
  {
   "cell_type": "code",
   "execution_count": 12,
   "id": "d7e5268b",
   "metadata": {},
   "outputs": [
    {
     "name": "stdout",
     "output_type": "stream",
     "text": [
      "829357\n",
      "25\n"
     ]
    }
   ],
   "source": [
    "entity_set = set(df['src']).union(set(df['dst']))\n",
    "relation_set = set(df['relation'])\n",
    "print(len(entity_set))\n",
    "print(len(relation_set))"
   ]
  },
  {
   "cell_type": "code",
   "execution_count": 13,
   "id": "b638e468",
   "metadata": {},
   "outputs": [
    {
     "data": {
      "text/plain": [
       "{'CloseFile',\n",
       " 'CreateFile',\n",
       " 'Process Create',\n",
       " 'Process Start',\n",
       " 'QueryAllInformationFile',\n",
       " 'QueryAttributeTagFile',\n",
       " 'QueryBasicInformationFile',\n",
       " 'QueryDirectory',\n",
       " 'QueryNetworkOpenInformationFile',\n",
       " 'ReadFile',\n",
       " 'RegCloseKey',\n",
       " 'RegCreateKey',\n",
       " 'RegDeleteValue',\n",
       " 'RegOpenKey',\n",
       " 'RegQueryKey',\n",
       " 'RegQueryValue',\n",
       " 'RegSetValue',\n",
       " 'SetBasicInformationFile',\n",
       " 'SetDispositionInformationEx',\n",
       " 'SetDispositionInformationFile',\n",
       " 'TCP Connect',\n",
       " 'TCP Disconnect',\n",
       " 'TCP Receive',\n",
       " 'TCP Send',\n",
       " 'WriteFile'}"
      ]
     },
     "execution_count": 13,
     "metadata": {},
     "output_type": "execute_result"
    }
   ],
   "source": [
    "relation_set"
   ]
  },
  {
   "cell_type": "code",
   "execution_count": 15,
   "id": "e473503e",
   "metadata": {},
   "outputs": [
    {
     "name": "stdout",
     "output_type": "stream",
     "text": [
      "{'process', 'network', 'file', 'registry'}\n",
      "Saved ../data/3_openKE/synthesize/entity2id.txt\n",
      "Saved ../data/3_openKE/synthesize/entity2id_objType.txt\n"
     ]
    }
   ],
   "source": [
    "def save_entity2id(entity_set):\n",
    "    entity_idx_dict = dict()\n",
    "    msg = f'{len(entity_set)}\\n'\n",
    "    msg2 = f'{len(entity_set)}\\n'\n",
    "    obj_types = set()\n",
    "    for idx, entity in enumerate(entity_set):\n",
    "        tmp = entity.split(':')\n",
    "        obj_type = tmp[0]\n",
    "        entity = ':'.join(tmp[1:])\n",
    "        obj_types.add(obj_type)\n",
    "        entity = str(entity).replace(' ', '_')\n",
    "#         if entity in entity_idx_dict:\n",
    "#             print('new:', idx, entity, obj_type)\n",
    "#             print('existed:', entity_idx_dict[entity], entity_obj_dict[entity])\n",
    "        if entity in entity_idx_dict:\n",
    "            print('new:', idx, entity, obj_type)\n",
    "            print('existed:', entity_idx_dict[entity])\n",
    "        msg += f'{entity}\\t{idx}\\n'\n",
    "        msg2 += f'{obj_type}\\t{idx}\\n'\n",
    "        entity_idx_dict[entity] = idx\n",
    "#         entity_obj_dict[entity] = obj_type\n",
    "    print(obj_types)\n",
    "\n",
    "    with open(f'{OUTPUT_PATH}/entity2id.txt','w') as f:\n",
    "        f.write(msg.strip())\n",
    "    with open(f'{OUTPUT_PATH}/entity2id_objType.txt','w') as f:\n",
    "        f.write(msg2.strip())\n",
    "    print(f'Saved {OUTPUT_PATH}/entity2id.txt')\n",
    "    print(f'Saved {OUTPUT_PATH}/entity2id_objType.txt')\n",
    "    \n",
    "    return entity_idx_dict\n",
    "\n",
    "\n",
    "# use 學長直接給我的 txt file\n",
    "# def save_relation2id(relation_set):\n",
    "#     relation_idx_dict = dict()\n",
    "#     relation_types = set()\n",
    "#     with open(f'{OUTPUT_PATH}/relation2id_type.txt', 'w') as f, \\\n",
    "#          open(f'{OUTPUT_PATH}/relation2id.txt', 'w') as f_type:\n",
    "        \n",
    "#         msg = f'{len(relation_set)}\\n'\n",
    "#         msg_type = f'{len(relation_set)}\\n'\n",
    "\n",
    "#         for idx, relation in enumerate(relation_set):\n",
    "#             tmp = relation.split(':')\n",
    "#             rel_type = tmp[0]\n",
    "#             relation = ':'.join(tmp[1:])\n",
    "#             relation_types.add(rel_type)\n",
    "\n",
    "#             relation = str(relation).replace(' ', '_')\n",
    "#             msg += f'{relation}\\t{idx}\\n'\n",
    "#             msg_type += f'{rel_type}\\t{idx}\\n'\n",
    "#             relation_idx_dict[relation] = idx\n",
    "\n",
    "#         f.write(msg.strip())\n",
    "#         f_type.write(msg_type.strip())\n",
    "\n",
    "#     print(f'Saved {OUTPUT_PATH}/relation2id.txt')\n",
    "#     print(f'Saved {OUTPUT_PATH}/relation2id_type.txt')\n",
    "#     return relation_idx_dict\n",
    "\n",
    "\n",
    "entity_id_dict = save_entity2id(entity_set)\n",
    "# rel_id_dict = save_relation2id(relation_set)"
   ]
  },
  {
   "cell_type": "code",
   "execution_count": 16,
   "id": "27402a2a",
   "metadata": {},
   "outputs": [
    {
     "name": "stdout",
     "output_type": "stream",
     "text": [
      "{'Process_Create': 0, 'Process_Start': 1, 'CreateFile': 2, 'SetBasicInformationFile': 3, 'SetDispositionInformationEx': 4, 'SetDispositionInformationFile': 5, 'WriteFile': 6, 'TCP_Connect': 7, 'TCP_Send': 8, 'UDP_Send': 9, 'TCP_Disconnect': 10, 'RegQueryKey': 11, 'RegQueryValue': 12, 'CloseFile': 13, 'QueryAllInformationFile': 14, 'QueryAttributeTagFile': 15, 'QueryBasicInformationFile': 16, 'QueryDirectory': 17, 'QueryNetworkOpenInformationFile': 18, 'ReadFile': 19, 'TCP_Receive': 20, 'UDP_Receive': 21, 'RegCreateKey': 22, 'RegSetValue': 23, 'RegCloseKey': 24, 'RegDeleteValue': 25, 'RegOpenKey': 26}\n"
     ]
    }
   ],
   "source": [
    "def read_relation2id(file_path):\n",
    "    relation_idx_dict = {}\n",
    "    with open(file_path, 'r') as f:\n",
    "        lines = f.readlines()\n",
    "\n",
    "        # 获取关系的数量\n",
    "        num_relations = int(lines[0].strip())\n",
    "\n",
    "        for line in lines[1:]:\n",
    "            parts = line.strip().split()\n",
    "#             relation = parts[0].replace('_', ' ')\n",
    "            relation = parts[0]\n",
    "            idx = int(parts[1])\n",
    "            relation_idx_dict[relation] = idx\n",
    "\n",
    "    return relation_idx_dict\n",
    "\n",
    "# 用法示例\n",
    "file_path = f'../data/3_openKE/test/relation2id.txt'\n",
    "rel_id_dict = read_relation2id(file_path)\n",
    "\n",
    "# 输出读取的关系-索引字典\n",
    "print(rel_id_dict)\n"
   ]
  },
  {
   "cell_type": "code",
   "execution_count": 17,
   "id": "b6ed9db5",
   "metadata": {},
   "outputs": [
    {
     "data": {
      "text/plain": [
       "{'Process_Create': 0,\n",
       " 'Process_Start': 1,\n",
       " 'CreateFile': 2,\n",
       " 'SetBasicInformationFile': 3,\n",
       " 'SetDispositionInformationEx': 4,\n",
       " 'SetDispositionInformationFile': 5,\n",
       " 'WriteFile': 6,\n",
       " 'TCP_Connect': 7,\n",
       " 'TCP_Send': 8,\n",
       " 'UDP_Send': 9,\n",
       " 'TCP_Disconnect': 10,\n",
       " 'RegQueryKey': 11,\n",
       " 'RegQueryValue': 12,\n",
       " 'CloseFile': 13,\n",
       " 'QueryAllInformationFile': 14,\n",
       " 'QueryAttributeTagFile': 15,\n",
       " 'QueryBasicInformationFile': 16,\n",
       " 'QueryDirectory': 17,\n",
       " 'QueryNetworkOpenInformationFile': 18,\n",
       " 'ReadFile': 19,\n",
       " 'TCP_Receive': 20,\n",
       " 'UDP_Receive': 21,\n",
       " 'RegCreateKey': 22,\n",
       " 'RegSetValue': 23,\n",
       " 'RegCloseKey': 24,\n",
       " 'RegDeleteValue': 25,\n",
       " 'RegOpenKey': 26}"
      ]
     },
     "execution_count": 17,
     "metadata": {},
     "output_type": "execute_result"
    }
   ],
   "source": [
    "rel_id_dict"
   ]
  },
  {
   "cell_type": "code",
   "execution_count": 18,
   "id": "6a5b2429",
   "metadata": {},
   "outputs": [
    {
     "name": "stdout",
     "output_type": "stream",
     "text": [
      "829357\n"
     ]
    }
   ],
   "source": [
    "print(len(entity_id_dict))"
   ]
  },
  {
   "cell_type": "markdown",
   "id": "2d54700d",
   "metadata": {},
   "source": [
    "## train2id.txt, valid2id.txt, test2id.txt, train2id_labels.txt, valid2id_labels.txt, test2id_labels.txt"
   ]
  },
  {
   "cell_type": "code",
   "execution_count": 19,
   "id": "98552205",
   "metadata": {},
   "outputs": [
    {
     "name": "stdout",
     "output_type": "stream",
     "text": [
      "76152566\n"
     ]
    },
    {
     "data": {
      "application/vnd.jupyter.widget-view+json": {
       "model_id": "742b5633a8af421284514bf41a290d82",
       "version_major": 2,
       "version_minor": 0
      },
      "text/plain": [
       "  0%|          | 0/30 [00:00<?, ?it/s]"
      ]
     },
     "metadata": {},
     "output_type": "display_data"
    },
    {
     "name": "stdout",
     "output_type": "stream",
     "text": [
      "O,O,O,O,O,O,O,O,O,O,O,O,O,O,O,O,O,O,O,O,O,O,O,O,O,O,O,O,O,O,"
     ]
    }
   ],
   "source": [
    "triplets = list(zip(df['src'],df['dst'],df['relation'],df['dst_type'],df['label']))\n",
    "print(len(triplets))\n",
    "\n",
    "for t in tqdm(triplets[:30]):\n",
    "    print(t[4], end=',')"
   ]
  },
  {
   "cell_type": "code",
   "execution_count": 20,
   "id": "605e2554",
   "metadata": {},
   "outputs": [
    {
     "data": {
      "text/plain": [
       "[('O', 72370001),\n",
       " ('T1005_720a3356-eee1-4015-9135-0fc08f7eb2d5_I', 2987415),\n",
       " ('T1560_a1ee301b0508747b468d578a14e5c1a5_I', 274861),\n",
       " ('T1046_5a4cb2be-2684-4801-9355-3a90c91e0004_I', 182760),\n",
       " ('T1219_af8cb2bf9b436aae5c106a0a9c207e14_I', 31961),\n",
       " ('T1059.001_e5f9de8f-3df1-4e78-ad92-a784e3f6770d_I', 30380),\n",
       " ('T1105_eb814e03-811a-467a-bc6d-dcd453750fa2_I', 28345),\n",
       " ('T1219_7dabcbecab0334b115feefab1630f84a_I', 19248),\n",
       " ('T1219_f1b3fca18d7465cd10e5a7477a3bf97d_I', 19039),\n",
       " ('T1496_46da2385-cf37-49cb-ba4b-a739c7a19de4_I', 18297),\n",
       " ('T1003.001_0ef4cc7b-611c-4237-b20b-db36b6906554_I', 14584),\n",
       " ('T1574.001_63bbedafba2f541552ac3579e9e3737b_I', 12593),\n",
       " ('T1105_e6715e61f5df646692c624b3499384c4_I', 10789),\n",
       " ('T1105_60f63260-39bb-4136-87a0-b6c2dca799fc_I', 5790),\n",
       " ('T1036.003_f5ef8466e5ebcd2ae03f338d9416069c_I', 5458),\n",
       " ('T1547_fe9eeee9a7b339089e5fa634b08522c1_I', 4931),\n",
       " ('T1083_52177cc1-b9ab-4411-ac21-2eadc4b5d3b8_I', 4300),\n",
       " ('T1036.003_04e8d83e7badf098d50800d6aa1dd487_I', 4293),\n",
       " ('T1105_c521e0a70b243a0cf9217907ca3c6d27_I', 3907),\n",
       " ('T1119_7121cdf93b951311be9d7078c602efdc_I', 3857),\n",
       " ('T1071.001_24c3b7b004401d839a5c337201da3484_I', 3693),\n",
       " ('T1105_c76968acda4aa1673dadcd67f3ab7664_I', 3375),\n",
       " ('T1115_70795de7cbb842edb029b3378c27c008_I', 3200),\n",
       " ('T1059.001_6efbccc1869e8cd618c0d3ecda407d5f_I', 3022),\n",
       " ('T1546.013_f9a968af61d36983448c74cca5464e17_I', 2976),\n",
       " ('T1057_8adf02e8-6e71-4244-886c-98c402857404_I', 2513),\n",
       " ('T1137_12ad9edefc86af07700fbf49bfdac6ba_I', 2121),\n",
       " ('T1562.004_41627f71f968225b9f162cb76d16bd9d_I', 2062),\n",
       " ('T1204.002_522f3f35cd013e63830fa555495a0081_I', 1998),\n",
       " ('T1547.009_501af516bd8b24fee0c7c650ae5cc861_I', 1908),\n",
       " ('T1074.001_4e97e699-93d7-4040-b5a3-2e906a58199e_I', 1883),\n",
       " ('T1491_68235976-2404-42a8-9105-68230cfef562_I', 1762),\n",
       " ('T1566.001_1afaec09315ab71fdfb167175e8a019a_I', 1656),\n",
       " ('T1105_4f683658f161ccdc51337c470d32bab9_I', 1648),\n",
       " ('T1059.003_6c318ef0339d74d909ad556681b6493e_I', 1544),\n",
       " ('T1074.001_e6dfc7e89359ac6fa6de84b0e1d5762e_I', 1463),\n",
       " ('T1547.009_b6e5c895c6709fe289352ee23f062229_I', 1351),\n",
       " ('T1003_18f31c311ac208802e88ab8d5af8603e_I', 1290),\n",
       " ('T1105_0856c235a1d26113d4f2d92e39c9a9f8_I', 1255),\n",
       " ('T1120_7b9c7afaefa59aab759b49af0d699ac1_I', 1249),\n",
       " ('T1059.001_bfff9006-d1fb-46ce-b173-92cb04e9a031_I', 1234),\n",
       " ('T1125_da86001b5081fcf773d8e62f22cf2b00_I', 1231),\n",
       " ('T1007_9d03c91bdae5a80f17f89c987942b5a8_I', 1188),\n",
       " ('T1021.001_dd67068b052fa553ad4a0ac7d6a5ea89_I', 1161),\n",
       " ('T1123_372e6f46fca18e4f1b43209c20ffafa2_I', 1155),\n",
       " ('T1547.001_0dbdf1a2a87e718a6ac8a8e3415a7fac_I', 1114),\n",
       " ('T1059.003_f38e58deb7ad20b5538ca40db7b7b4f8_I', 1080),\n",
       " ('T1059.001_ccdb8caf-c69e-424b-b930-551969450c57_I', 1068),\n",
       " ('T1059.001_55678719-e76e-4df9-92aa-10655bbd1cf4_I', 1060),\n",
       " ('T1547.010_4593d72a5145e3f494421ac772d37464_I', 1030),\n",
       " ('T1113_316251ed-6a28-4013-812b-ddf5b5b007f8_I', 1025),\n",
       " ('T1003.001_35d92515122effdd73801c6ac3021da7_I', 1025),\n",
       " ('T1070.005_1f91076e2be2014cc7b4f1296de02fd6_I', 1021),\n",
       " ('T1137.002_e2af3c3ab1b0f659c874b8af58c49759_I', 1001),\n",
       " ('T1040_6881a4589710d53f0c146e91db513f01_I', 997),\n",
       " ('T1491_47d08617-5ce1-424a-8cc5-c9c978ce6bf9_I', 991),\n",
       " ('T1482_6131397e-7765-424e-a594-3d7fb2d93a6a_I', 980),\n",
       " ('T1003.002_5a484b65c247675e3b7ada4ba648d376_I', 960),\n",
       " ('T1490_c8f329d2847ede593b6cb4a1ec6120fb_I', 959),\n",
       " ('T1574.011_72249c1e9ffe7d8f30243d838e0791ca_I', 955),\n",
       " ('T1547.001_163b023f43aba758d36f524d146cb8ea_I', 878),\n",
       " ('T1564.001_66a5fd5f244819181f074dd082a28905_I', 872),\n",
       " ('T1003.002_7fa4ea18694f2552547b65e23952cabb_I', 856),\n",
       " ('T1564.004_76b6066fe170d38215251102e42be973_I', 824),\n",
       " ('T1564.001_dce51e632abdfe5392c7c1f942ac9273_I', 816),\n",
       " ('T1119_344e7eaf650763e0d3e9f02e62c1cf4b_I', 806),\n",
       " ('T1217_69bbe2183fa09c00ccaac62d48e214f8_I', 788),\n",
       " ('T1486_d82ceb9939d3d920ee550187ad8235c8_I', 781),\n",
       " ('T1069.001_5c4dd985-89e3-4590-9b57-71fed66ff4e2_I', 760),\n",
       " ('T1564.004_28862487a99f5f89bc0d68c87396c7e9_I', 752),\n",
       " ('T1547.001_d3ef4145e4144fd694514b1c5cc17350_I', 736),\n",
       " ('T1059.001_702bfdd2-9947-4eda-b551-c3a1ea9a59a2_I', 730),\n",
       " ('T1562.001_43e3334362b140924f001b256b229ee5_I', 617),\n",
       " ('T1548.002_665432a4-42e7-4ee1-af19-a9a8c9455d0c_I', 603),\n",
       " ('T1547.001_1f15ab22c39a9b6bb2bb0d77276dfcb3_I', 603),\n",
       " ('T1547.001_4b71ebb2f6f6a01235ba240fa40ce978_I', 590),\n",
       " ('T1105_1095434782a00c8a4772a11e625bcf5d_I', 584),\n",
       " ('T1547.004_0856714c9810ac55b53e9964d02958a0_I', 579),\n",
       " ('T1547.004_aa147165f6c116cb0b0f944abe1db8ce_I', 564),\n",
       " ('T1547.001_777043894e42d2aae3881e63f6c76d33_I', 562),\n",
       " ('T1112_cd8be0e6b873919da25530a2c7ea6750_I', 432),\n",
       " ('T1112_e74d2fb4ef5fa6c766a4151554033697_I', 420),\n",
       " ('T1562.004_8fe59e288f10a486dc8b44bc872019ff_I', 414),\n",
       " ('T1112_ba6f6214dbd17c54001e0a163b60f151_I', 408),\n",
       " ('T1112_4bfb5f265a5ce07af6bf10da113af7db_I', 406),\n",
       " ('T1518_8ddfaf982ab359cda13626b870ccb339_I', 406),\n",
       " ('T1112_fd992e8ecfdac9b56dd6868904044827_I', 404),\n",
       " ('T1112_e7a987cbef27263e666e5b096488dc55_I', 402),\n",
       " ('T1112_257313a3c93e3bb7dfb60d6753b09e34_I', 399),\n",
       " ('T1037.001_62cfa90fb03a6bc1a6ebcce8a3ea81b7_I', 398),\n",
       " ('T1112_fa4ba6a06b4a5cd955ea5a60fae24281_I', 398),\n",
       " ('T1562.002_6a8d25d65a7d481dc479f89c62af1e6a_I', 396),\n",
       " ('T1112_7fe6a66d03f4dbfc022609ba311c2b11_I', 395),\n",
       " ('T1074.001_6469befa-748a-4b9c-a96d-f191fde47d89_I', 394),\n",
       " ('T1518_c9be8043-a445-4cbf-b77b-ed7bb007fc7c_I', 392),\n",
       " ('T1112_35c0360d226cf38104f300d9d57ce60e_I', 384),\n",
       " ('T1564.003_9a2edad4053a2b59fb9167a9bc29e7dc_I', 382),\n",
       " ('T1112_34041639e6e501856ecaf5969ee29c76_I', 382),\n",
       " ('T1112_cab7b85611a290c0769546bfa9d6f962_I', 370),\n",
       " ('T1547_fe9eeee9a7b339089e5fa634b08522c1_B', 225),\n",
       " ('T1497.001_5dc841fd-28ad-40e2-b10e-fb007fe09e81_B', 221),\n",
       " ('T1135_530e47c6-8592-42bf-91df-c59ffbd8541b_B', 221),\n",
       " ('T1005_720a3356-eee1-4015-9135-0fc08f7eb2d5_B', 220),\n",
       " ('T1547.001_163b023f43aba758d36f524d146cb8ea_B', 220),\n",
       " ('T1564.001_66a5fd5f244819181f074dd082a28905_B', 218),\n",
       " ('T1057_f8de05d1741dcc468f772ab0ff4dac72_B', 217),\n",
       " ('T1112_cd8be0e6b873919da25530a2c7ea6750_B', 216),\n",
       " ('T1047_ac2764f7a67a9ce92b54e8e59b361838_B', 216),\n",
       " ('T1003_18f31c311ac208802e88ab8d5af8603e_B', 215),\n",
       " ('T1083_52177cc1-b9ab-4411-ac21-2eadc4b5d3b8_B', 215),\n",
       " ('T1552.002_3e5b04b8ee0a1a4950da8f35d95e65fc_B', 214),\n",
       " ('T1003.002_7fa4ea18694f2552547b65e23952cabb_B', 214),\n",
       " ('T1053.005_5db2884b6ca3ab932848f295a3896dc0_B', 213),\n",
       " ('T1547.009_501af516bd8b24fee0c7c650ae5cc861_B', 212),\n",
       " ('T1059.001_55678719-e76e-4df9-92aa-10655bbd1cf4_B', 212),\n",
       " ('T1049_a14392d713dffba6a397682ff83259a0_B', 211),\n",
       " ('T1057_8adf02e8-6e71-4244-886c-98c402857404_B', 211),\n",
       " ('T1112_e74d2fb4ef5fa6c766a4151554033697_B', 210),\n",
       " ('T1562.004_8d0a4585e7c4646185a912b14cd9cb46_B', 210),\n",
       " ('T1562.004_8d0a4585e7c4646185a912b14cd9cb46_I', 210),\n",
       " ('T1105_0856c235a1d26113d4f2d92e39c9a9f8_B', 210),\n",
       " ('T1074.001_4e97e699-93d7-4040-b5a3-2e906a58199e_B', 210),\n",
       " ('T1074.001_e6dfc7e89359ac6fa6de84b0e1d5762e_B', 209),\n",
       " ('T1120_7b9c7afaefa59aab759b49af0d699ac1_B', 209),\n",
       " ('T1033_bd527b63-9f9e-46e0-9816-b8434d2b8989_B', 208),\n",
       " ('T1566.001_1afaec09315ab71fdfb167175e8a019a_B', 207),\n",
       " ('T1560_a1ee301b0508747b468d578a14e5c1a5_B', 207),\n",
       " ('T1105_c521e0a70b243a0cf9217907ca3c6d27_B', 207),\n",
       " ('T1562.001_43e3334362b140924f001b256b229ee5_B', 207),\n",
       " ('T1562.004_41627f71f968225b9f162cb76d16bd9d_B', 207),\n",
       " ('T1007_c6607391-d02c-44b5-9b13-d3492ca58599_B', 207),\n",
       " ('T1562.004_8fe59e288f10a486dc8b44bc872019ff_B', 207),\n",
       " ('T1016_921055f4-5970-4707-909e-62f594234d91_B', 207),\n",
       " ('T1016_921055f4-5970-4707-909e-62f594234d91_I', 207),\n",
       " ('T1496_46da2385-cf37-49cb-ba4b-a739c7a19de4_B', 207),\n",
       " ('T1003.001_0ef4cc7b-611c-4237-b20b-db36b6906554_B', 207),\n",
       " ('T1047_f4b0b4129560ea66f9751275e82f6bab_B', 207),\n",
       " ('T1047_f4b0b4129560ea66f9751275e82f6bab_I', 207),\n",
       " ('T1562.002_94f51bf01a7036fe02d07b4c18967669_B', 207),\n",
       " ('T1059.001_bfff9006-d1fb-46ce-b173-92cb04e9a031_B', 207),\n",
       " ('T1490_8467c994685ccf178db166964bd80fab_B', 206),\n",
       " ('T1016_71b3d2945679566b9d94d8cb11df4b70_B', 206),\n",
       " ('T1547.010_4593d72a5145e3f494421ac772d37464_B', 206),\n",
       " ('T1049_638fb6bb-ba39-4285-93d1-7e4775b033a8_B', 206),\n",
       " ('T1125_da86001b5081fcf773d8e62f22cf2b00_B', 206),\n",
       " ('T1562.002_94f51bf01a7036fe02d07b4c18967669_I', 206),\n",
       " ('T1564.004_76b6066fe170d38215251102e42be973_B', 206),\n",
       " ('T1090.001_ba343199a4f15ed6b57eb52412f62e4e_B', 205),\n",
       " ('T1090.001_ba343199a4f15ed6b57eb52412f62e4e_I', 205),\n",
       " ('T1497.001_7a6ba833-de40-466a-8969-5c37b13603e0_B', 205),\n",
       " ('T1113_316251ed-6a28-4013-812b-ddf5b5b007f8_B', 205),\n",
       " ('T1531_aa6b15485a5f50ced34d87fda177b758_B', 205),\n",
       " ('T1003.001_35d92515122effdd73801c6ac3021da7_B', 205),\n",
       " ('T1070.005_1f91076e2be2014cc7b4f1296de02fd6_B', 205),\n",
       " ('T1112_ba6f6214dbd17c54001e0a163b60f151_B', 204),\n",
       " ('T1564.001_dce51e632abdfe5392c7c1f942ac9273_B', 204),\n",
       " ('T1574.001_63bbedafba2f541552ac3579e9e3737b_B', 204),\n",
       " ('T1119_7121cdf93b951311be9d7078c602efdc_B', 203),\n",
       " ('T1119_344e7eaf650763e0d3e9f02e62c1cf4b_B', 203),\n",
       " ('T1112_4bfb5f265a5ce07af6bf10da113af7db_B', 203),\n",
       " ('T1217_f7a0f7d704aa52a764d9d1bee81e65d6_B', 203),\n",
       " ('T1518_8ddfaf982ab359cda13626b870ccb339_B', 203),\n",
       " ('T1490_e90756bb6dcd21462dc4cc452661df91_B', 203),\n",
       " ('T1003.003_f049b89533298c2d6cd37a940248b219_B', 203),\n",
       " ('T1105_60f63260-39bb-4136-87a0-b6c2dca799fc_B', 203),\n",
       " ('T1078.001_d0ca00832890baa1d42322cf70fcab1a_B', 202),\n",
       " ('T1201_38f6f0e50a6b196140ec40d3dc9cc9e6_B', 202),\n",
       " ('T1036.004_1f0614ea5c4af6faf1b44570f5f22f8a_B', 202),\n",
       " ('T1112_fd992e8ecfdac9b56dd6868904044827_B', 202),\n",
       " ('T1055.001_a74bc239-a196-4f7e-8d5c-fe8c0266071c_B', 202),\n",
       " ('T1482_cfb61005899996469ae3023796792ca5_B', 202),\n",
       " ('T1112_e7a987cbef27263e666e5b096488dc55_B', 201),\n",
       " ('T1137.002_e2af3c3ab1b0f659c874b8af58c49759_B', 201),\n",
       " ('T1548.002_665432a4-42e7-4ee1-af19-a9a8c9455d0c_B', 201),\n",
       " ('T1016_e8017c46-acb8-400c-a4b5-b3362b5b5baa_B', 201),\n",
       " ('T1547.001_1f15ab22c39a9b6bb2bb0d77276dfcb3_B', 201),\n",
       " ('T1040_6881a4589710d53f0c146e91db513f01_B', 200),\n",
       " ('T1037.001_62cfa90fb03a6bc1a6ebcce8a3ea81b7_B', 200),\n",
       " ('T1087.001_6334877e8e3ba48f7835d4856d90a282_B', 200),\n",
       " ('T1082_29451844-9b76-4e16-a9ee-d6feab4b24db_B', 200),\n",
       " ('T1546.013_f9a968af61d36983448c74cca5464e17_B', 200),\n",
       " ('T1016_14a21534-350f-4d83-9dd7-3c56b93a0c17_B', 200),\n",
       " ('T1112_257313a3c93e3bb7dfb60d6753b09e34_B', 200),\n",
       " ('T1115_70795de7cbb842edb029b3378c27c008_B', 200),\n",
       " ('T1204.002_522f3f35cd013e63830fa555495a0081_B', 200),\n",
       " ('T1491_47d08617-5ce1-424a-8cc5-c9c978ce6bf9_B', 199),\n",
       " ('T1219_7dabcbecab0334b115feefab1630f84a_B', 199),\n",
       " ('T1112_fa4ba6a06b4a5cd955ea5a60fae24281_B', 199),\n",
       " ('T1036.003_04e8d83e7badf098d50800d6aa1dd487_B', 199),\n",
       " ('T1490_2d53d6fabd39bf9c70b0dfcdfbbc926d_B', 199),\n",
       " ('T1105_c76968acda4aa1673dadcd67f3ab7664_B', 199),\n",
       " ('T1115_b007fe0c-c6b0-4fda-915c-255bbc070de2_B', 198),\n",
       " ('T1518.001_33a24ff44719e6ac0614b58f8c9a7c72_B', 198),\n",
       " ('T1547.001_4b71ebb2f6f6a01235ba240fa40ce978_B', 198),\n",
       " ('T1007_9d03c91bdae5a80f17f89c987942b5a8_B', 198),\n",
       " ('T1112_7fe6a66d03f4dbfc022609ba311c2b11_B', 198),\n",
       " ('T1217_69bbe2183fa09c00ccaac62d48e214f8_B', 197),\n",
       " ('T1074.001_6469befa-748a-4b9c-a96d-f191fde47d89_B', 197),\n",
       " ('T1057_5a39d7ed-45c9-4a79-b581-e5fb99e24f65_B', 197),\n",
       " ('T1069.001_a1f48fa3ddee658b29b414523c9a295b_B', 197),\n",
       " ('T1124_fa6e8607-e0b1-425d-8924-9b894da5a002_B', 197),\n",
       " ('T1036.003_f5ef8466e5ebcd2ae03f338d9416069c_B', 197),\n",
       " ('T1491_68235976-2404-42a8-9105-68230cfef562_B', 197),\n",
       " ('T1562.002_6a8d25d65a7d481dc479f89c62af1e6a_B', 197),\n",
       " ('T1053.005_ee454be9197890de62705ce6255933fd_B', 197),\n",
       " ('T1486_d82ceb9939d3d920ee550187ad8235c8_B', 196),\n",
       " ('T1482_6131397e-7765-424e-a594-3d7fb2d93a6a_B', 196),\n",
       " ('T1016_7d8ee68f0e9731db82964f558f614608_B', 196),\n",
       " ('T1518_c9be8043-a445-4cbf-b77b-ed7bb007fc7c_B', 196),\n",
       " ('T1562.004_5b93df032e230056c21a3e57334f77d1_B', 196),\n",
       " ('T1562.004_5b93df032e230056c21a3e57334f77d1_I', 196),\n",
       " ('T1219_f1b3fca18d7465cd10e5a7477a3bf97d_B', 195),\n",
       " ('T1518.001_2dece965-37a0-4f70-a391-0f30e3331aba_B', 195),\n",
       " ('T1036.004_7de3d7b4922a7b996d8df36fb22bb118_B', 195),\n",
       " ('T1135_deeac480-5c2a-42b5-90bb-41675ee53c7e_B', 195),\n",
       " ('T1490_c8f329d2847ede593b6cb4a1ec6120fb_B', 195),\n",
       " ('T1490_c156ac5c9fa67080365268d95f29053d_B', 195),\n",
       " ('T1105_1095434782a00c8a4772a11e625bcf5d_B', 195),\n",
       " ('T1047_ed736a123da6fb2aab22cfd4f437e8b5_B', 194),\n",
       " ('T1018_26c8b8b5-7b5b-4de1-a128-7d37fb14f517_B', 194),\n",
       " ('T1497.001_1258b063-27d6-489b-a677-4807faacf868_B', 194),\n",
       " ('T1201_57296a2ddbeb7423c05feef2fe972111_B', 194),\n",
       " ('T1021.001_dd67068b052fa553ad4a0ac7d6a5ea89_B', 194),\n",
       " ('T1057_b2a1e430ca6d36eb5af2fe666e769847_B', 194),\n",
       " ('T1547.009_b6e5c895c6709fe289352ee23f062229_B', 193),\n",
       " ('T1547.004_0856714c9810ac55b53e9964d02958a0_B', 193),\n",
       " ('T1123_372e6f46fca18e4f1b43209c20ffafa2_B', 193),\n",
       " ('T1046_5a4cb2be-2684-4801-9355-3a90c91e0004_B', 193),\n",
       " ('T1033_c0da588f-79f0-4263-8998-7496b1a40596_B', 193),\n",
       " ('T1059.003_6c318ef0339d74d909ad556681b6493e_B', 193),\n",
       " ('T1047_6935e41353aa781bb723462d26114c44_B', 192),\n",
       " ('T1112_35c0360d226cf38104f300d9d57ce60e_B', 192),\n",
       " ('T1059.001_e5f9de8f-3df1-4e78-ad92-a784e3f6770d_B', 192),\n",
       " ('T1564.003_9a2edad4053a2b59fb9167a9bc29e7dc_B', 192),\n",
       " ('T1003.002_5a484b65c247675e3b7ada4ba648d376_B', 192),\n",
       " ('T1518.001_b8453a5fe06b24aea12b27592d5c3d3a_B', 191),\n",
       " ('T1499_2fe2d5e6-7b06-4fc0-bf71-6966a1226731_B', 191),\n",
       " ('T1574.011_72249c1e9ffe7d8f30243d838e0791ca_B', 191),\n",
       " ('T1562.004_280003641a5cddf916c4f2bf605a71d3_B', 191),\n",
       " ('T1112_34041639e6e501856ecaf5969ee29c76_B', 191),\n",
       " ('T1018_ac20e592bc912bddff4d6b88289095f0_B', 191),\n",
       " ('T1055.002_e5bcefee-262d-4568-a261-e8a20855ec81_B', 191),\n",
       " ('T1105_e6715e61f5df646692c624b3499384c4_B', 191),\n",
       " ('T1059.001_6efbccc1869e8cd618c0d3ecda407d5f_B', 190),\n",
       " ('T1047_ac122553ab4426ea3362bb4a97d31bfd_B', 190),\n",
       " ('T1069.001_5c4dd985-89e3-4590-9b57-71fed66ff4e2_B', 190),\n",
       " ('T1564.004_28862487a99f5f89bc0d68c87396c7e9_B', 189),\n",
       " ('T1490_9e5e4c0655fd1b5be88bd40b8251175f_B', 189),\n",
       " ('T1547.004_aa147165f6c116cb0b0f944abe1db8ce_B', 188),\n",
       " ('T1547.001_777043894e42d2aae3881e63f6c76d33_B', 188),\n",
       " ('T1105_eb814e03-811a-467a-bc6d-dcd453750fa2_B', 187),\n",
       " ('T1112_cab7b85611a290c0769546bfa9d6f962_B', 186),\n",
       " ('T1547.001_0dbdf1a2a87e718a6ac8a8e3415a7fac_B', 186),\n",
       " ('T1531_b25ae80dad74142fafb510e9c1949ace_B', 186),\n",
       " ('T1016_a0676fe1-cd52-482e-8dde-349b73f9aa69_B', 186),\n",
       " ('T1018_a44bb43474728496276d5d73aa14588f_B', 185),\n",
       " ('T1071.001_24c3b7b004401d839a5c337201da3484_B', 185),\n",
       " ('T1059.001_702bfdd2-9947-4eda-b551-c3a1ea9a59a2_B', 184),\n",
       " ('T1547.001_d3ef4145e4144fd694514b1c5cc17350_B', 184),\n",
       " ('T1087.001_feaced8f-f43f-452a-9500-a5219488abb8_B', 184),\n",
       " ('T1105_4f683658f161ccdc51337c470d32bab9_B', 184),\n",
       " ('T1047_09e0f9cf2eb803a1c35deeecf3665fad_B', 182),\n",
       " ('T1003.003_9f73269695e54311dd61dc68940fb3e1_B', 182),\n",
       " ('T1007_d6bb2a19da7246731ed9c44831b135f8_B', 182),\n",
       " ('T1047_09e0f9cf2eb803a1c35deeecf3665fad_I', 181),\n",
       " ('T1219_af8cb2bf9b436aae5c106a0a9c207e14_B', 181),\n",
       " ('T1083_6e1a53c0-7352-4899-be35-fa7f364d5722_B', 181),\n",
       " ('T1047_b0255b5120cbabc062d8d4510a142c3b_B', 181),\n",
       " ('T1059.001_ccdb8caf-c69e-424b-b930-551969450c57_B', 180),\n",
       " ('T1059.003_f38e58deb7ad20b5538ca40db7b7b4f8_B', 180),\n",
       " ('T1069.002_6103e503cb444bc7b4187704f2035708_B', 179),\n",
       " ('T1137_12ad9edefc86af07700fbf49bfdac6ba_B', 177),\n",
       " ('T1564_dedfa0a54c9c13ce5714a0dc2e1f5d1a_B', 175),\n",
       " ('T1087.001_6334877e8e3ba48f7835d4856d90a282_I', 38)]"
      ]
     },
     "execution_count": 20,
     "metadata": {},
     "output_type": "execute_result"
    }
   ],
   "source": [
    "from collections import Counter\n",
    "Counter(df['label']).most_common()"
   ]
  },
  {
   "cell_type": "code",
   "execution_count": 21,
   "id": "50cea946",
   "metadata": {},
   "outputs": [
    {
     "data": {
      "application/vnd.jupyter.widget-view+json": {
       "model_id": "891ef3932f85409eb407f84812a1b873",
       "version_major": 2,
       "version_minor": 0
      },
      "text/plain": [
       "  0%|          | 0/76152566 [00:00<?, ?it/s]"
      ]
     },
     "metadata": {},
     "output_type": "display_data"
    },
    {
     "data": {
      "text/plain": [
       "76152566"
      ]
     },
     "execution_count": 21,
     "metadata": {},
     "output_type": "execute_result"
    }
   ],
   "source": [
    "new_triplets = list()\n",
    "for triplet in tqdm(triplets):\n",
    "    src_entity = str(':'.join(triplet[0].split(':')[1:])).replace(' ', '_')\n",
    "    dst_entity = str(':'.join(triplet[1].split(':')[1:])).replace(' ', '_')\n",
    "    \n",
    "    new_triplets.append((\n",
    "        entity_id_dict[src_entity],\n",
    "        entity_id_dict[dst_entity],\n",
    "        rel_id_dict[triplet[2].replace(' ', '_')],\n",
    "        triplet[3],\n",
    "        triplet[4]\n",
    "    ))\n",
    "len(new_triplets)"
   ]
  },
  {
   "cell_type": "code",
   "execution_count": 22,
   "id": "20d358e1",
   "metadata": {
    "scrolled": true
   },
   "outputs": [
    {
     "name": "stdout",
     "output_type": "stream",
     "text": [
      "train_dataset.shape: (76152566, 5) (1)\n",
      "valid_dataset.shape: (7615257, 5) (0.1)\n",
      "test_dataset.shape: (7615257, 5) (0.1)\n"
     ]
    }
   ],
   "source": [
    "TRAIN_SIZE = 1\n",
    "VALID_SIZE = 0.1\n",
    "TEST_SIZE = 0.1\n",
    "train_dataset = np.array(new_triplets)\n",
    "_, tmp = train_test_split(train_dataset, test_size=VALID_SIZE+TEST_SIZE, shuffle=True)\n",
    "valid_dataset, test_dataset = train_test_split(tmp, test_size=TEST_SIZE/(VALID_SIZE+TEST_SIZE),shuffle=True)\n",
    "print(f'train_dataset.shape: {train_dataset.shape} ({TRAIN_SIZE})')\n",
    "print(f'valid_dataset.shape: {valid_dataset.shape} ({VALID_SIZE})')\n",
    "print(f'test_dataset.shape: {test_dataset.shape} ({TEST_SIZE})')"
   ]
  },
  {
   "cell_type": "code",
   "execution_count": 23,
   "id": "08d3de7a",
   "metadata": {},
   "outputs": [
    {
     "name": "stdout",
     "output_type": "stream",
     "text": [
      "Saved ../data/3_openKE/synthesize/train2id.txt\n",
      "Saved ../data/3_openKE/synthesize/train2id_label.txt\n",
      "Saved ../data/3_openKE/synthesize/valid2id.txt\n",
      "Saved ../data/3_openKE/synthesize/valid2id_label.txt\n",
      "Saved ../data/3_openKE/synthesize/test2id.txt\n",
      "Saved ../data/3_openKE/synthesize/test2id_label.txt\n"
     ]
    }
   ],
   "source": [
    "def save_2id_txt(data, ent_fname, ent_label_fname):\n",
    "    msg = f'{len(data)}\\n'\n",
    "    msg2 = f'{len(data)}\\n'\n",
    "    \n",
    "    for ids in data:\n",
    "        msg += f'{ids[0]} {ids[1]} {ids[2]}\\n'\n",
    "        msg2 += f'{ids[3]} {ids[4]}\\n'\n",
    "        \n",
    "    with open(f'{OUTPUT_PATH}/{ent_fname}', 'w') as f:\n",
    "        f.write(msg.strip())\n",
    "    print(f'Saved {OUTPUT_PATH}/{ent_fname}')\n",
    "    with open(f'{OUTPUT_PATH}/{ent_label_fname}', 'w') as f:\n",
    "        f.write(msg2.strip())\n",
    "    print(f'Saved {OUTPUT_PATH}/{ent_label_fname}')\n",
    "\n",
    "save_2id_txt(train_dataset, 'train2id.txt', 'train2id_label.txt')\n",
    "save_2id_txt(valid_dataset, 'valid2id.txt', 'valid2id_label.txt')\n",
    "save_2id_txt(test_dataset, 'test2id.txt', 'test2id_label.txt')"
   ]
  },
  {
   "cell_type": "code",
   "execution_count": null,
   "id": "401f7fe4",
   "metadata": {},
   "outputs": [],
   "source": []
  },
  {
   "cell_type": "code",
   "execution_count": null,
   "id": "076463c7",
   "metadata": {},
   "outputs": [],
   "source": []
  }
 ],
 "metadata": {
  "kernelspec": {
   "display_name": "Python 3",
   "language": "python",
   "name": "python3"
  },
  "language_info": {
   "codemirror_mode": {
    "name": "ipython",
    "version": 3
   },
   "file_extension": ".py",
   "mimetype": "text/x-python",
   "name": "python",
   "nbconvert_exporter": "python",
   "pygments_lexer": "ipython3",
   "version": "3.6.9"
  }
 },
 "nbformat": 4,
 "nbformat_minor": 5
}
