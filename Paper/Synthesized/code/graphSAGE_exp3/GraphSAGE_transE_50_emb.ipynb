{
 "cells": [
  {
   "cell_type": "markdown",
   "metadata": {},
   "source": [
    "# Test of GraphSAGE\n",
    "- use DGL\n",
    "- predict `graphs`\n",
    "- valid, test data are in the training dataset"
   ]
  },
  {
   "cell_type": "code",
   "execution_count": 1,
   "metadata": {},
   "outputs": [],
   "source": [
    "import os\n",
    "import dgl\n",
    "import csv\n",
    "import json\n",
    "import torch\n",
    "import random\n",
    "import subprocess\n",
    "import torch as th\n",
    "import numpy as np\n",
    "import pandas as pd\n",
    "import torch.nn as nn\n",
    "import dgl.nn as dglnn\n",
    "import torch.nn.functional as F\n",
    "\n",
    "from tqdm.notebook import tqdm\n",
    "from sklearn.decomposition import PCA\n",
    "from torch.optim import AdamW, lr_scheduler\n",
    "from dgl.nn import GraphConv, GATConv, SAGEConv\n",
    "from torch.utils.data import Dataset, DataLoader\n",
    "from sklearn.metrics import classification_report\n",
    "from sklearn.model_selection import train_test_split\n",
    "from transformers import get_linear_schedule_with_warmup\n",
    "\n",
    "os.environ['CUDA_VISIBLE_DEVICES'] = \"1\"\n",
    "device = torch.device('cuda' if torch.cuda.is_available() else 'cpu')"
   ]
  },
  {
   "cell_type": "markdown",
   "metadata": {},
   "source": [
    "- check the GPU and assign the GPU by the best memory usage"
   ]
  },
  {
   "cell_type": "code",
   "execution_count": 2,
   "metadata": {},
   "outputs": [],
   "source": [
    "# def get_free_gpu():\n",
    "#     try:\n",
    "#         # Run nvidia-smi command to get GPU details\n",
    "#         _output_to_list = lambda x: x.decode('ascii').split('\\n')[:-1]\n",
    "#         command = \"nvidia-smi --query-gpu=memory.free --format=csv,nounits,noheader\"\n",
    "#         memory_free_info = _output_to_list(subprocess.check_output(command.split())) \n",
    "#         memory_free_values = [int(x) for i, x in enumerate(memory_free_info)]\n",
    "        \n",
    "#         # Get the GPU with the maximum free memory\n",
    "#         best_gpu_id = memory_free_values.index(max(memory_free_values))\n",
    "#         return best_gpu_id\n",
    "#     except:\n",
    "#         # If any exception occurs, default to GPU 0 (this handles cases where nvidia-smi isn't installed)\n",
    "#         return 0\n",
    "\n",
    "# if torch.cuda.is_available():\n",
    "#     # Get the best GPU ID based on free memory and set it\n",
    "#     best_gpu_id = get_free_gpu()\n",
    "#     device = torch.device(f\"cuda:{best_gpu_id}\")\n",
    "# else:\n",
    "#     device = torch.device(\"cpu\")\n",
    "#     print(\"there's no available GPU\")\n",
    "\n",
    "# # device = torch.device(f\"cuda:{1}\")\n",
    "# print(device)\n"
   ]
  },
  {
   "cell_type": "markdown",
   "metadata": {},
   "source": [
    "## Fix the seed"
   ]
  },
  {
   "cell_type": "code",
   "execution_count": 3,
   "metadata": {},
   "outputs": [],
   "source": [
    "#fix seed\n",
    "def same_seeds(seed = 8787):\n",
    "    torch.manual_seed(seed)\n",
    "    # random.seed(seed) \n",
    "    if torch.cuda.is_available():\n",
    "        torch.cuda.manual_seed(seed)\n",
    "        torch.cuda.manual_seed_all(seed)  \n",
    "    np.random.seed(seed)  \n",
    "    torch.backends.cudnn.benchmark = False\n",
    "    torch.backends.cudnn.deterministic = True"
   ]
  },
  {
   "cell_type": "markdown",
   "metadata": {},
   "source": [
    "## Load the embedding"
   ]
  },
  {
   "cell_type": "code",
   "execution_count": 4,
   "metadata": {},
   "outputs": [],
   "source": [
    "embedding = 'transE_256'\n",
    "with open(f\"../../data/4_embedding/{embedding}.vec.json\", \"r\") as f:\n",
    "    tmp = json.load(f)\n",
    "\n",
    "index2entemb = {idx:emb for idx, emb in enumerate(tmp[\"ent_embeddings.weight\"])}\n",
    "index2relemb = {idx:emb for idx, emb in enumerate(tmp[\"rel_embeddings.weight\"])}"
   ]
  },
  {
   "cell_type": "code",
   "execution_count": 5,
   "metadata": {},
   "outputs": [
    {
     "data": {
      "text/plain": [
       "824642"
      ]
     },
     "execution_count": 5,
     "metadata": {},
     "output_type": "execute_result"
    }
   ],
   "source": [
    "len(index2entemb)"
   ]
  },
  {
   "cell_type": "code",
   "execution_count": 6,
   "metadata": {},
   "outputs": [
    {
     "data": {
      "text/plain": [
       "27"
      ]
     },
     "execution_count": 6,
     "metadata": {},
     "output_type": "execute_result"
    }
   ],
   "source": [
    "len(index2relemb)"
   ]
  },
  {
   "cell_type": "markdown",
   "metadata": {},
   "source": [
    "- this file is 55 GB -> takes about 1 min to load it"
   ]
  },
  {
   "cell_type": "code",
   "execution_count": 8,
   "metadata": {},
   "outputs": [
    {
     "name": "stdout",
     "output_type": "stream",
     "text": [
      "Loading the data...\n"
     ]
    },
    {
     "data": {
      "application/vnd.jupyter.widget-view+json": {
       "model_id": "8d021834fb434ac9acef46006214e4fd",
       "version_major": 2,
       "version_minor": 0
      },
      "text/plain": [
       "Loading:   0%|          | 0/16900 [00:00<?, ?it/s]"
      ]
     },
     "metadata": {},
     "output_type": "display_data"
    },
    {
     "name": "stdout",
     "output_type": "stream",
     "text": [
      "FINISH...\n"
     ]
    }
   ],
   "source": [
    "with open(\"../../data/all_graph_data.jsonl\", \"r\") as f:\n",
    "    print(\"Loading the data...\")\n",
    "#     input_data = list(f)\n",
    "#     input_data = [json.loads(line) for idx, line in tqdm(f, desc=\"Loading\")]\n",
    "\n",
    "    input_data = []\n",
    "    for idx, line in tqdm(enumerate(f), total=16900, desc=\"Loading\"):\n",
    "        input_data.append(json.loads(line))\n",
    "        \n",
    "    print(\"FINISH...\")"
   ]
  },
  {
   "cell_type": "code",
   "execution_count": 9,
   "metadata": {},
   "outputs": [
    {
     "data": {
      "text/plain": [
       "16900"
      ]
     },
     "execution_count": 9,
     "metadata": {},
     "output_type": "execute_result"
    }
   ],
   "source": [
    "len(input_data)"
   ]
  },
  {
   "cell_type": "markdown",
   "metadata": {},
   "source": [
    "- Convert the 'node_feat' and 'edge_attr' from int to embedding\n",
    "    - takes about 45 min to transform the embedding\n",
    "    - if use original method -> takes about 60 hours"
   ]
  },
  {
   "cell_type": "code",
   "execution_count": 11,
   "metadata": {},
   "outputs": [
    {
     "data": {
      "text/plain": [
       "list"
      ]
     },
     "execution_count": 11,
     "metadata": {},
     "output_type": "execute_result"
    }
   ],
   "source": [
    "type(input_data)"
   ]
  },
  {
   "cell_type": "code",
   "execution_count": 12,
   "metadata": {},
   "outputs": [
    {
     "data": {
      "text/plain": [
       "dict"
      ]
     },
     "execution_count": 12,
     "metadata": {},
     "output_type": "execute_result"
    }
   ],
   "source": [
    "type(input_data[0])"
   ]
  },
  {
   "cell_type": "markdown",
   "metadata": {},
   "source": [
    "- need to get the new graph.jsonl -> the id is not corresponding"
   ]
  },
  {
   "cell_type": "code",
   "execution_count": 13,
   "metadata": {},
   "outputs": [
    {
     "data": {
      "application/vnd.jupyter.widget-view+json": {
       "model_id": "1fb5f0e9aff14d8bbe18571f185b7455",
       "version_major": 2,
       "version_minor": 0
      },
      "text/plain": [
       "  0%|          | 0/16900 [00:00<?, ?it/s]"
      ]
     },
     "metadata": {},
     "output_type": "display_data"
    }
   ],
   "source": [
    "# ============ If type(input_data[0] == dict) ============\n",
    "for data_point in tqdm(input_data):\n",
    "    data_point['node_feat'] = [index2entemb[node_id] for node_id in data_point['node_feat']]\n",
    "    data_point['edge_attr'] = [index2relemb[edge_id] for edge_id in data_point['edge_attr']]\n",
    "\n",
    "\n",
    "# ============ If type(input_data[0] == str) ============\n",
    "# for idx, data in tqdm(enumerate(input_data)):\n",
    "    \n",
    "#     # make the data from string to int\n",
    "#     data_point = json.loads(data)\n",
    "\n",
    "#     data_point['node_feat'] = [index2entemb[node_id] for node_id in data_point['node_feat']]\n",
    "#     data_point['edge_attr'] = [index2relemb[edge_id] for edge_id in data_point['edge_attr']]\n",
    "\n",
    "#     input_data[idx] = data_point"
   ]
  },
  {
   "cell_type": "code",
   "execution_count": 14,
   "metadata": {},
   "outputs": [
    {
     "data": {
      "text/plain": [
       "dict"
      ]
     },
     "execution_count": 14,
     "metadata": {},
     "output_type": "execute_result"
    }
   ],
   "source": [
    "type(input_data[0])"
   ]
  },
  {
   "cell_type": "code",
   "execution_count": 19,
   "metadata": {},
   "outputs": [
    {
     "data": {
      "text/plain": [
       "256"
      ]
     },
     "execution_count": 19,
     "metadata": {},
     "output_type": "execute_result"
    }
   ],
   "source": [
    "len(input_data[1]['node_feat'][0])"
   ]
  },
  {
   "cell_type": "markdown",
   "metadata": {},
   "source": [
    "## Data Loader"
   ]
  },
  {
   "cell_type": "code",
   "execution_count": 20,
   "metadata": {},
   "outputs": [],
   "source": [
    "tmp_data = input_data"
   ]
  },
  {
   "cell_type": "code",
   "execution_count": 21,
   "metadata": {},
   "outputs": [
    {
     "data": {
      "text/plain": [
       "16900"
      ]
     },
     "execution_count": 21,
     "metadata": {},
     "output_type": "execute_result"
    }
   ],
   "source": [
    "len(tmp_data)"
   ]
  },
  {
   "cell_type": "code",
   "execution_count": 22,
   "metadata": {},
   "outputs": [],
   "source": [
    "class GraphDataset(Dataset):\n",
    "    def __init__(self, data_list, device):\n",
    "        self.data_list = data_list\n",
    "        self.device = device\n",
    "\n",
    "    def __len__(self):\n",
    "        return len(self.data_list)\n",
    "    \n",
    "    def __getitem__(self, idx):\n",
    "        data = self.data_list[idx]\n",
    "        return data\n",
    "\n",
    "def collate(samples):\n",
    "    data_list = samples\n",
    "    batched_graphs = []\n",
    "    for data in data_list:\n",
    "        g = dgl.graph((th.tensor(data[\"edge_index\"][0]), th.tensor(data[\"edge_index\"][1])), num_nodes=data[\"num_nodes\"])\n",
    "\n",
    "        g.ndata['feat'] = th.tensor(data[\"node_feat\"])\n",
    "        g.edata['feat'] = th.tensor(data[\"edge_attr\"])\n",
    "        g.edata['label'] = th.tensor(data[\"labels\"])  # Add edge labels to graph\n",
    "\n",
    "        batched_graphs.append(g)\n",
    "    \n",
    "    return dgl.batch(batched_graphs)"
   ]
  },
  {
   "cell_type": "code",
   "execution_count": 23,
   "metadata": {},
   "outputs": [
    {
     "name": "stdout",
     "output_type": "stream",
     "text": [
      "Datasets loaded and ready for training!\n"
     ]
    }
   ],
   "source": [
    "# split 8:1:1 (train, valid, test)\n",
    "train_data, test_data = train_test_split(tmp_data, test_size=0.2, random_state=42)\n",
    "valid_data, test_data = train_test_split(test_data, test_size=0.5, random_state=42)\n",
    "\n",
    "\n",
    "dataset_data = {\n",
    "    'train': GraphDataset(train_data, device),\n",
    "    'valid': GraphDataset(valid_data, device),\n",
    "    'test': GraphDataset(test_data, device)\n",
    "}\n",
    "\n",
    "print(\"Datasets loaded and ready for training!\")"
   ]
  },
  {
   "cell_type": "code",
   "execution_count": 25,
   "metadata": {},
   "outputs": [],
   "source": [
    "# dataset_data['train'][0]"
   ]
  },
  {
   "cell_type": "markdown",
   "metadata": {},
   "source": [
    "- choose batch size"
   ]
  },
  {
   "cell_type": "code",
   "execution_count": 26,
   "metadata": {},
   "outputs": [],
   "source": [
    "def create_dataloaders(batch_size, shuffle=True):\n",
    "    dataloaders = {}\n",
    "    for dataset_name, dataset in dataset_data.items():\n",
    "        # do not shuffle the testing dataset\n",
    "        if dataset_name == \"test\":\n",
    "            dataloaders[dataset_name] = DataLoader(dataset, batch_size=batch_size, shuffle=False, collate_fn=collate)    \n",
    "        else:\n",
    "            dataloaders[dataset_name] = DataLoader(dataset, batch_size=batch_size, shuffle=shuffle, collate_fn=collate)\n",
    "    return dataloaders\n",
    "\n",
    "dataloaders = create_dataloaders(32)"
   ]
  },
  {
   "cell_type": "markdown",
   "metadata": {},
   "source": [
    "- Turn the print message to a log file"
   ]
  },
  {
   "cell_type": "code",
   "execution_count": 27,
   "metadata": {},
   "outputs": [
    {
     "name": "stdout",
     "output_type": "stream",
     "text": [
      "./log_message/0203_16:17_GraphSAGE_transE_256.log\n"
     ]
    }
   ],
   "source": [
    "import datetime\n",
    "\n",
    "now = datetime.datetime.now()\n",
    "\n",
    "formatted_time = now.strftime(\"%m%d_%H:%M\")\n",
    "\n",
    "log_file_path = f\"./log_message/{formatted_time}_GraphSAGE_transE_256.log\"\n",
    "\n",
    "def add_log_msg(msg, log_file_path=log_file_path):\n",
    "    with open(log_file_path, 'a') as f:\n",
    "        f.write(f'{datetime.datetime.now().strftime(\"%m/%d/%Y, %H:%M:%S\")}# {msg}\\n')\n",
    "    print(f'{datetime.datetime.now().strftime(\"%m/%d/%Y, %H:%M:%S\")}# {msg}')\n",
    "\n",
    "print(log_file_path)"
   ]
  },
  {
   "cell_type": "markdown",
   "metadata": {},
   "source": [
    "### Model"
   ]
  },
  {
   "cell_type": "code",
   "execution_count": 28,
   "metadata": {},
   "outputs": [],
   "source": [
    "class GraphSAGE(nn.Module):\n",
    "    def __init__(self, in_dim, hidden_dim, out_dim):\n",
    "        super(GraphSAGE, self).__init__()\n",
    "        self.layer1 = dglnn.SAGEConv(in_dim, hidden_dim, 'pool')\n",
    "        self.layer2 = dglnn.SAGEConv(hidden_dim, out_dim, 'pool')\n",
    "        self.dropout = nn.Dropout(0.25)\n",
    "\n",
    "    def forward(self, g, inputs):\n",
    "        h = self.layer1(g, inputs)\n",
    "        h = torch.relu(h)\n",
    "        h = self.dropout(h)\n",
    "        h = self.layer2(g, h)\n",
    "        return h"
   ]
  },
  {
   "cell_type": "code",
   "execution_count": 29,
   "metadata": {},
   "outputs": [],
   "source": [
    "class MLPPredictor(nn.Module):\n",
    "    def __init__(self, out_feats, out_classes):\n",
    "        super().__init__()\n",
    "        self.W = nn.Linear(out_feats*2, out_classes)\n",
    "\n",
    "    def apply_edges(self, edges):\n",
    "        h_u = edges.src['h']\n",
    "        h_v = edges.dst['h']\n",
    "        score = self.W(torch.cat([h_u, h_v], 1))\n",
    "        return {'score': score}\n",
    "\n",
    "    def forward(self, graph, h):\n",
    "        with graph.local_scope():\n",
    "            graph.ndata['h'] = h\n",
    "            graph.apply_edges(self.apply_edges)\n",
    "            return graph.edata['score']"
   ]
  },
  {
   "cell_type": "code",
   "execution_count": 30,
   "metadata": {},
   "outputs": [],
   "source": [
    "class Model(nn.Module):\n",
    "    def __init__(self, in_features, hidden_features, out_features, num_classes):\n",
    "        super().__init__()\n",
    "        self.sage = GraphSAGE(in_features, hidden_features, out_features)\n",
    "        self.pred = MLPPredictor(out_features, num_classes)\n",
    "      \n",
    "    def forward(self, g, node_feat, return_logits=False):\n",
    "        h = self.sage(g, node_feat)\n",
    "        logits = self.pred(g, h)\n",
    "        \n",
    "        return logits"
   ]
  },
  {
   "cell_type": "markdown",
   "metadata": {},
   "source": [
    "- Model Forward  "
   ]
  },
  {
   "cell_type": "code",
   "execution_count": 31,
   "metadata": {},
   "outputs": [],
   "source": [
    "def model_fn(batched_g, model, criterion, device, count=1, which_type='train'):\n",
    "    \"\"\"Forward a batch through the model.\"\"\"\n",
    "#     batched_g, labels = data\n",
    "    batched_g = batched_g.to(device)\n",
    "    \n",
    "    labels = batched_g.edata['label'].to(device)\n",
    "    \n",
    "    logits = model(batched_g, batched_g.ndata['feat'].float())\n",
    "\n",
    "    loss = criterion(logits, labels)\n",
    "\n",
    "    output = torch.softmax(logits, dim=1)\n",
    "    preds = output.argmax(1)\n",
    "    \n",
    "    # Compute accuracy\n",
    "    accuracy = torch.mean((preds == labels).float())\n",
    "        \n",
    "    return loss, accuracy, preds"
   ]
  },
  {
   "cell_type": "code",
   "execution_count": 52,
   "metadata": {
    "scrolled": true
   },
   "outputs": [
    {
     "data": {
      "text/plain": [
       "{0: 'T1059.001_702bfdd2-9947-4eda-b551-c3a1ea9a59a2_B',\n",
       " 1: 'T1078.001_d0ca00832890baa1d42322cf70fcab1a_B',\n",
       " 2: 'T1074.001_e6dfc7e89359ac6fa6de84b0e1d5762e_B',\n",
       " 3: 'T1491_68235976-2404-42a8-9105-68230cfef562_B',\n",
       " 4: 'T1016_14a21534-350f-4d83-9dd7-3c56b93a0c17_B',\n",
       " 5: 'T1491_47d08617-5ce1-424a-8cc5-c9c978ce6bf9_I',\n",
       " 6: 'T1074.001_4e97e699-93d7-4040-b5a3-2e906a58199e_I',\n",
       " 7: 'T1040_6881a4589710d53f0c146e91db513f01_B',\n",
       " 8: 'T1547.009_b6e5c895c6709fe289352ee23f062229_B',\n",
       " 9: 'T1564.001_66a5fd5f244819181f074dd082a28905_B',\n",
       " 10: 'T1047_f4b0b4129560ea66f9751275e82f6bab_B',\n",
       " 11: 'T1112_257313a3c93e3bb7dfb60d6753b09e34_I',\n",
       " 12: 'T1047_ac2764f7a67a9ce92b54e8e59b361838_B',\n",
       " 13: 'T1518.001_33a24ff44719e6ac0614b58f8c9a7c72_B',\n",
       " 14: 'T1204.002_522f3f35cd013e63830fa555495a0081_I',\n",
       " 15: 'T1059.001_ccdb8caf-c69e-424b-b930-551969450c57_B',\n",
       " 16: 'T1105_0856c235a1d26113d4f2d92e39c9a9f8_B',\n",
       " 17: 'T1547_fe9eeee9a7b339089e5fa634b08522c1_I',\n",
       " 18: 'T1574.001_63bbedafba2f541552ac3579e9e3737b_B',\n",
       " 19: 'T1137.002_e2af3c3ab1b0f659c874b8af58c49759_B',\n",
       " 20: 'T1105_e6715e61f5df646692c624b3499384c4_B',\n",
       " 21: 'T1105_4f683658f161ccdc51337c470d32bab9_B',\n",
       " 22: 'T1112_4bfb5f265a5ce07af6bf10da113af7db_B',\n",
       " 23: 'T1016_921055f4-5970-4707-909e-62f594234d91_B',\n",
       " 24: 'T1105_60f63260-39bb-4136-87a0-b6c2dca799fc_I',\n",
       " 25: 'T1041_ea713bc4-63f0-491c-9a6f-0b01d560b87e_B',\n",
       " 26: 'T1007_d6bb2a19da7246731ed9c44831b135f8_B',\n",
       " 27: 'T1496_46da2385-cf37-49cb-ba4b-a739c7a19de4_B',\n",
       " 28: 'T1115_70795de7cbb842edb029b3378c27c008_B',\n",
       " 29: 'T1125_da86001b5081fcf773d8e62f22cf2b00_I',\n",
       " 30: 'T1105_60f63260-39bb-4136-87a0-b6c2dca799fc_B',\n",
       " 31: 'T1003.001_0ef4cc7b-611c-4237-b20b-db36b6906554_B',\n",
       " 32: 'T1531_aa6b15485a5f50ced34d87fda177b758_B',\n",
       " 33: 'T1547.001_1f15ab22c39a9b6bb2bb0d77276dfcb3_B',\n",
       " 34: 'T1059.001_702bfdd2-9947-4eda-b551-c3a1ea9a59a2_I',\n",
       " 35: 'T1047_f4b0b4129560ea66f9751275e82f6bab_I',\n",
       " 36: 'T1562.002_6a8d25d65a7d481dc479f89c62af1e6a_I',\n",
       " 37: 'T1059.003_6c318ef0339d74d909ad556681b6493e_I',\n",
       " 38: 'T1059.001_6efbccc1869e8cd618c0d3ecda407d5f_I',\n",
       " 39: 'T1090.001_ba343199a4f15ed6b57eb52412f62e4e_I',\n",
       " 40: 'T1518_8ddfaf982ab359cda13626b870ccb339_I',\n",
       " 41: 'T1059.001_6efbccc1869e8cd618c0d3ecda407d5f_B',\n",
       " 42: 'T1219_f1b3fca18d7465cd10e5a7477a3bf97d_B',\n",
       " 43: 'T1003.002_7fa4ea18694f2552547b65e23952cabb_I',\n",
       " 44: 'T1105_0856c235a1d26113d4f2d92e39c9a9f8_I',\n",
       " 45: 'T1112_cd8be0e6b873919da25530a2c7ea6750_B',\n",
       " 46: 'T1204.002_522f3f35cd013e63830fa555495a0081_B',\n",
       " 47: 'T1482_6131397e-7765-424e-a594-3d7fb2d93a6a_B',\n",
       " 48: 'T1082_29451844-9b76-4e16-a9ee-d6feab4b24db_B',\n",
       " 49: 'T1518.001_2dece965-37a0-4f70-a391-0f30e3331aba_B',\n",
       " 50: 'T1074.001_4e97e699-93d7-4040-b5a3-2e906a58199e_B',\n",
       " 51: 'T1564.003_9a2edad4053a2b59fb9167a9bc29e7dc_B',\n",
       " 52: 'T1547.001_4b71ebb2f6f6a01235ba240fa40ce978_I',\n",
       " 53: 'T1547.001_777043894e42d2aae3881e63f6c76d33_I',\n",
       " 54: 'T1083_52177cc1-b9ab-4411-ac21-2eadc4b5d3b8_B',\n",
       " 55: 'T1040_6881a4589710d53f0c146e91db513f01_I',\n",
       " 56: 'T1016_71b3d2945679566b9d94d8cb11df4b70_B',\n",
       " 57: 'T1562.001_43e3334362b140924f001b256b229ee5_I',\n",
       " 58: 'T1105_eb814e03-811a-467a-bc6d-dcd453750fa2_I',\n",
       " 59: 'T1057_b2a1e430ca6d36eb5af2fe666e769847_B',\n",
       " 60: 'T1490_c8f329d2847ede593b6cb4a1ec6120fb_I',\n",
       " 61: 'T1562.004_5b93df032e230056c21a3e57334f77d1_I',\n",
       " 62: 'T1564.001_66a5fd5f244819181f074dd082a28905_I',\n",
       " 63: 'T1005_720a3356-eee1-4015-9135-0fc08f7eb2d5_I',\n",
       " 64: 'T1049_638fb6bb-ba39-4285-93d1-7e4775b033a8_B',\n",
       " 65: 'T1003_18f31c311ac208802e88ab8d5af8603e_I',\n",
       " 66: 'T1562.004_8d0a4585e7c4646185a912b14cd9cb46_B',\n",
       " 67: 'T1036.004_7de3d7b4922a7b996d8df36fb22bb118_B',\n",
       " 68: 'T1041_ea713bc4-63f0-491c-9a6f-0b01d560b87e_I',\n",
       " 69: 'T1567_3d3d378b0bf66f763b0c9d7a129eb130_I',\n",
       " 70: 'T1547.001_1f15ab22c39a9b6bb2bb0d77276dfcb3_I',\n",
       " 71: 'T1071.001_24c3b7b004401d839a5c337201da3484_I',\n",
       " 72: 'T1574.011_72249c1e9ffe7d8f30243d838e0791ca_B',\n",
       " 73: 'T1560_a1ee301b0508747b468d578a14e5c1a5_I',\n",
       " 74: 'T1074.001_e6dfc7e89359ac6fa6de84b0e1d5762e_I',\n",
       " 75: 'T1113_316251ed-6a28-4013-812b-ddf5b5b007f8_I',\n",
       " 76: 'T1518_8ddfaf982ab359cda13626b870ccb339_B',\n",
       " 77: 'T1021.001_dd67068b052fa553ad4a0ac7d6a5ea89_B',\n",
       " 78: 'T1201_38f6f0e50a6b196140ec40d3dc9cc9e6_B',\n",
       " 79: 'T1119_7121cdf93b951311be9d7078c602efdc_I',\n",
       " 80: 'T1059.001_ccdb8caf-c69e-424b-b930-551969450c57_I',\n",
       " 81: 'T1562.001_43e3334362b140924f001b256b229ee5_B',\n",
       " 82: 'T1059.001_e5f9de8f-3df1-4e78-ad92-a784e3f6770d_I',\n",
       " 83: 'T1071.001_24c3b7b004401d839a5c337201da3484_B',\n",
       " 84: 'T1112_34041639e6e501856ecaf5969ee29c76_B',\n",
       " 85: 'T1115_70795de7cbb842edb029b3378c27c008_I',\n",
       " 86: 'T1564.001_dce51e632abdfe5392c7c1f942ac9273_B',\n",
       " 87: 'T1033_c0da588f-79f0-4263-8998-7496b1a40596_B',\n",
       " 88: 'T1564.004_76b6066fe170d38215251102e42be973_B',\n",
       " 89: 'T1037.001_62cfa90fb03a6bc1a6ebcce8a3ea81b7_B',\n",
       " 90: 'T1119_344e7eaf650763e0d3e9f02e62c1cf4b_I',\n",
       " 91: 'T1105_1095434782a00c8a4772a11e625bcf5d_I',\n",
       " 92: 'T1047_ac122553ab4426ea3362bb4a97d31bfd_B',\n",
       " 93: 'T1003.001_35d92515122effdd73801c6ac3021da7_I',\n",
       " 94: 'T1574.011_72249c1e9ffe7d8f30243d838e0791ca_I',\n",
       " 95: 'T1016_a0676fe1-cd52-482e-8dde-349b73f9aa69_B',\n",
       " 96: 'T1547.001_163b023f43aba758d36f524d146cb8ea_I',\n",
       " 97: 'T1047_ed736a123da6fb2aab22cfd4f437e8b5_B',\n",
       " 98: 'T1018_a44bb43474728496276d5d73aa14588f_B',\n",
       " 99: 'T1562.004_41627f71f968225b9f162cb76d16bd9d_B',\n",
       " 100: 'T1021.001_dd67068b052fa553ad4a0ac7d6a5ea89_I',\n",
       " 101: 'T1135_deeac480-5c2a-42b5-90bb-41675ee53c7e_B',\n",
       " 102: 'T1547.004_aa147165f6c116cb0b0f944abe1db8ce_I',\n",
       " 103: 'T1120_7b9c7afaefa59aab759b49af0d699ac1_I',\n",
       " 104: 'T1007_9d03c91bdae5a80f17f89c987942b5a8_I',\n",
       " 105: 'T1003.002_5a484b65c247675e3b7ada4ba648d376_B',\n",
       " 106: 'T1518.001_b8453a5fe06b24aea12b27592d5c3d3a_B',\n",
       " 107: 'T1219_af8cb2bf9b436aae5c106a0a9c207e14_I',\n",
       " 108: 'T1105_c76968acda4aa1673dadcd67f3ab7664_B',\n",
       " 109: 'T1547.009_b6e5c895c6709fe289352ee23f062229_I',\n",
       " 110: 'T1564.003_9a2edad4053a2b59fb9167a9bc29e7dc_I',\n",
       " 111: 'T1201_57296a2ddbeb7423c05feef2fe972111_B',\n",
       " 112: 'T1003.001_35d92515122effdd73801c6ac3021da7_B',\n",
       " 113: 'T1547.009_501af516bd8b24fee0c7c650ae5cc861_I',\n",
       " 114: 'T1036.003_f5ef8466e5ebcd2ae03f338d9416069c_I',\n",
       " 115: 'T1112_e74d2fb4ef5fa6c766a4151554033697_I',\n",
       " 116: 'T1490_2d53d6fabd39bf9c70b0dfcdfbbc926d_B',\n",
       " 117: 'T1137.002_e2af3c3ab1b0f659c874b8af58c49759_I',\n",
       " 118: 'T1112_e7a987cbef27263e666e5b096488dc55_I',\n",
       " 119: 'T1124_fa6e8607-e0b1-425d-8924-9b894da5a002_B',\n",
       " 120: 'T1490_e90756bb6dcd21462dc4cc452661df91_B',\n",
       " 121: 'T1087.001_6334877e8e3ba48f7835d4856d90a282_I',\n",
       " 122: 'T1499_2fe2d5e6-7b06-4fc0-bf71-6966a1226731_B',\n",
       " 123: 'T1546.013_f9a968af61d36983448c74cca5464e17_B',\n",
       " 124: 'T1562.004_41627f71f968225b9f162cb76d16bd9d_I',\n",
       " 125: 'T1059.003_f38e58deb7ad20b5538ca40db7b7b4f8_B',\n",
       " 126: 'T1112_ba6f6214dbd17c54001e0a163b60f151_I',\n",
       " 127: 'T1217_f7a0f7d704aa52a764d9d1bee81e65d6_B',\n",
       " 128: 'T1112_35c0360d226cf38104f300d9d57ce60e_I',\n",
       " 129: 'T1113_316251ed-6a28-4013-812b-ddf5b5b007f8_B',\n",
       " 130: 'T1560_a1ee301b0508747b468d578a14e5c1a5_B',\n",
       " 131: 'T1482_cfb61005899996469ae3023796792ca5_B',\n",
       " 132: 'T1112_257313a3c93e3bb7dfb60d6753b09e34_B',\n",
       " 133: 'T1490_c156ac5c9fa67080365268d95f29053d_B',\n",
       " 134: 'T1217_69bbe2183fa09c00ccaac62d48e214f8_I',\n",
       " 135: 'T1496_46da2385-cf37-49cb-ba4b-a739c7a19de4_I',\n",
       " 136: 'T1003.001_0ef4cc7b-611c-4237-b20b-db36b6906554_I',\n",
       " 137: 'T1046_5a4cb2be-2684-4801-9355-3a90c91e0004_B',\n",
       " 138: 'T1047_b0255b5120cbabc062d8d4510a142c3b_B',\n",
       " 139: 'T1566.001_1afaec09315ab71fdfb167175e8a019a_B',\n",
       " 140: 'T1049_a14392d713dffba6a397682ff83259a0_B',\n",
       " 141: 'T1137_12ad9edefc86af07700fbf49bfdac6ba_I',\n",
       " 142: 'T1547.010_4593d72a5145e3f494421ac772d37464_I',\n",
       " 143: 'T1016_e8017c46-acb8-400c-a4b5-b3362b5b5baa_B',\n",
       " 144: 'T1120_7b9c7afaefa59aab759b49af0d699ac1_B',\n",
       " 145: 'T1018_ac20e592bc912bddff4d6b88289095f0_B',\n",
       " 146: 'T1105_c521e0a70b243a0cf9217907ca3c6d27_I',\n",
       " 147: 'T1003.003_f049b89533298c2d6cd37a940248b219_B',\n",
       " 148: 'T1112_7fe6a66d03f4dbfc022609ba311c2b11_B',\n",
       " 149: 'T1057_f8de05d1741dcc468f772ab0ff4dac72_B',\n",
       " 150: 'T1562.004_8fe59e288f10a486dc8b44bc872019ff_B',\n",
       " 151: 'T1053.005_5db2884b6ca3ab932848f295a3896dc0_B',\n",
       " 152: 'T1547.010_4593d72a5145e3f494421ac772d37464_B',\n",
       " 153: 'T1564.004_28862487a99f5f89bc0d68c87396c7e9_B',\n",
       " 154: 'T1059.003_6c318ef0339d74d909ad556681b6493e_B',\n",
       " 155: 'T1007_c6607391-d02c-44b5-9b13-d3492ca58599_B',\n",
       " 156: 'T1135_530e47c6-8592-42bf-91df-c59ffbd8541b_B',\n",
       " 157: 'T1112_4bfb5f265a5ce07af6bf10da113af7db_I',\n",
       " 158: 'T1547.001_0dbdf1a2a87e718a6ac8a8e3415a7fac_I',\n",
       " 159: 'T1112_35c0360d226cf38104f300d9d57ce60e_B',\n",
       " 160: 'T1105_c521e0a70b243a0cf9217907ca3c6d27_B',\n",
       " 161: 'T1574.001_63bbedafba2f541552ac3579e9e3737b_I',\n",
       " 162: 'T1564.004_76b6066fe170d38215251102e42be973_I',\n",
       " 163: 'T1105_c76968acda4aa1673dadcd67f3ab7664_I',\n",
       " 164: 'T1083_52177cc1-b9ab-4411-ac21-2eadc4b5d3b8_I',\n",
       " 165: 'T1562.002_94f51bf01a7036fe02d07b4c18967669_B',\n",
       " 166: 'T1112_e7a987cbef27263e666e5b096488dc55_B',\n",
       " 167: 'T1137_12ad9edefc86af07700fbf49bfdac6ba_B',\n",
       " 168: 'T1112_ba6f6214dbd17c54001e0a163b60f151_B',\n",
       " 169: 'T1547.009_501af516bd8b24fee0c7c650ae5cc861_B',\n",
       " 170: 'T1057_8adf02e8-6e71-4244-886c-98c402857404_B',\n",
       " 171: 'T1105_4f683658f161ccdc51337c470d32bab9_I',\n",
       " 172: 'T1219_7dabcbecab0334b115feefab1630f84a_B',\n",
       " 173: 'T1548.002_665432a4-42e7-4ee1-af19-a9a8c9455d0c_B',\n",
       " 174: 'T1105_e6715e61f5df646692c624b3499384c4_I',\n",
       " 175: 'T1219_af8cb2bf9b436aae5c106a0a9c207e14_B',\n",
       " 176: 'T1119_7121cdf93b951311be9d7078c602efdc_B',\n",
       " 177: 'T1217_69bbe2183fa09c00ccaac62d48e214f8_B',\n",
       " 178: 'T1069.001_a1f48fa3ddee658b29b414523c9a295b_B',\n",
       " 179: 'T1074.001_6469befa-748a-4b9c-a96d-f191fde47d89_I',\n",
       " 180: 'T1564.001_dce51e632abdfe5392c7c1f942ac9273_I',\n",
       " 181: 'T1018_26c8b8b5-7b5b-4de1-a128-7d37fb14f517_B',\n",
       " 182: 'T1059.003_f38e58deb7ad20b5538ca40db7b7b4f8_I',\n",
       " 183: 'T1112_cab7b85611a290c0769546bfa9d6f962_B',\n",
       " 184: 'T1497.001_7a6ba833-de40-466a-8969-5c37b13603e0_B',\n",
       " 185: 'T1112_cab7b85611a290c0769546bfa9d6f962_I',\n",
       " 186: 'T1112_fd992e8ecfdac9b56dd6868904044827_I',\n",
       " 187: 'T1112_cd8be0e6b873919da25530a2c7ea6750_I',\n",
       " 188: 'T1057_5a39d7ed-45c9-4a79-b581-e5fb99e24f65_B',\n",
       " 189: 'T1547.001_777043894e42d2aae3881e63f6c76d33_B',\n",
       " 190: 'T1490_c8f329d2847ede593b6cb4a1ec6120fb_B',\n",
       " 191: 'T1055.002_e5bcefee-262d-4568-a261-e8a20855ec81_B',\n",
       " 192: 'T1562.004_8fe59e288f10a486dc8b44bc872019ff_I',\n",
       " 193: 'T1562.004_280003641a5cddf916c4f2bf605a71d3_B',\n",
       " 194: 'T1059.001_55678719-e76e-4df9-92aa-10655bbd1cf4_B',\n",
       " 195: 'T1219_7dabcbecab0334b115feefab1630f84a_I',\n",
       " 196: 'T1003.002_7fa4ea18694f2552547b65e23952cabb_B',\n",
       " 197: 'T1518_c9be8043-a445-4cbf-b77b-ed7bb007fc7c_B',\n",
       " 198: 'T1047_09e0f9cf2eb803a1c35deeecf3665fad_B',\n",
       " 199: 'T1497.001_1258b063-27d6-489b-a677-4807faacf868_B',\n",
       " 200: 'T1123_372e6f46fca18e4f1b43209c20ffafa2_B',\n",
       " 201: 'T1123_372e6f46fca18e4f1b43209c20ffafa2_I',\n",
       " 202: 'T1486_d82ceb9939d3d920ee550187ad8235c8_I',\n",
       " 203: 'T1059.001_55678719-e76e-4df9-92aa-10655bbd1cf4_I',\n",
       " 204: 'T1087.001_feaced8f-f43f-452a-9500-a5219488abb8_B',\n",
       " 205: 'T1490_9e5e4c0655fd1b5be88bd40b8251175f_B',\n",
       " 206: 'T1033_bd527b63-9f9e-46e0-9816-b8434d2b8989_B',\n",
       " 207: 'T1562.002_94f51bf01a7036fe02d07b4c18967669_I',\n",
       " 208: 'T1567_3d3d378b0bf66f763b0c9d7a129eb130_B',\n",
       " 209: 'T1003.002_5a484b65c247675e3b7ada4ba648d376_I',\n",
       " 210: 'T1112_fa4ba6a06b4a5cd955ea5a60fae24281_I',\n",
       " 211: 'T1546.013_f9a968af61d36983448c74cca5464e17_I',\n",
       " 212: 'T1059.001_bfff9006-d1fb-46ce-b173-92cb04e9a031_B',\n",
       " 213: 'T1036.003_04e8d83e7badf098d50800d6aa1dd487_I',\n",
       " 214: 'T1548.002_665432a4-42e7-4ee1-af19-a9a8c9455d0c_I',\n",
       " 215: 'T1087.001_6334877e8e3ba48f7835d4856d90a282_B',\n",
       " 216: 'T1547.004_0856714c9810ac55b53e9964d02958a0_I',\n",
       " 217: 'T1037.001_62cfa90fb03a6bc1a6ebcce8a3ea81b7_I',\n",
       " 218: 'T1070.005_1f91076e2be2014cc7b4f1296de02fd6_B',\n",
       " 219: 'T1070.005_1f91076e2be2014cc7b4f1296de02fd6_I',\n",
       " 220: 'T1564.004_28862487a99f5f89bc0d68c87396c7e9_I',\n",
       " 221: 'T1069.001_5c4dd985-89e3-4590-9b57-71fed66ff4e2_I',\n",
       " 222: 'T1055.001_a74bc239-a196-4f7e-8d5c-fe8c0266071c_B',\n",
       " 223: 'T1047_6935e41353aa781bb723462d26114c44_B',\n",
       " 224: 'T1112_34041639e6e501856ecaf5969ee29c76_I',\n",
       " 225: 'T1005_720a3356-eee1-4015-9135-0fc08f7eb2d5_B',\n",
       " 226: 'T1547.001_4b71ebb2f6f6a01235ba240fa40ce978_B',\n",
       " 227: 'T1552.002_3e5b04b8ee0a1a4950da8f35d95e65fc_B',\n",
       " 228: 'T1016_921055f4-5970-4707-909e-62f594234d91_I',\n",
       " 229: 'T1518_c9be8043-a445-4cbf-b77b-ed7bb007fc7c_I',\n",
       " 230: 'T1007_9d03c91bdae5a80f17f89c987942b5a8_B',\n",
       " 231: 'T1046_5a4cb2be-2684-4801-9355-3a90c91e0004_I',\n",
       " 232: 'T1564_dedfa0a54c9c13ce5714a0dc2e1f5d1a_B',\n",
       " 233: 'T1547_fe9eeee9a7b339089e5fa634b08522c1_B',\n",
       " 234: 'T1112_fd992e8ecfdac9b56dd6868904044827_B',\n",
       " 235: 'T1482_6131397e-7765-424e-a594-3d7fb2d93a6a_I',\n",
       " 236: 'T1547.004_aa147165f6c116cb0b0f944abe1db8ce_B',\n",
       " 237: 'T1112_e74d2fb4ef5fa6c766a4151554033697_B',\n",
       " 238: 'T1069.002_6103e503cb444bc7b4187704f2035708_B',\n",
       " 239: 'T1547.001_d3ef4145e4144fd694514b1c5cc17350_I',\n",
       " 240: 'T1125_da86001b5081fcf773d8e62f22cf2b00_B',\n",
       " 241: 'T1562.004_5b93df032e230056c21a3e57334f77d1_B',\n",
       " 242: 'T1003_18f31c311ac208802e88ab8d5af8603e_B',\n",
       " 243: 'T1547.001_0dbdf1a2a87e718a6ac8a8e3415a7fac_B',\n",
       " 244: 'T1490_8467c994685ccf178db166964bd80fab_B',\n",
       " 245: 'T1547.001_d3ef4145e4144fd694514b1c5cc17350_B',\n",
       " 246: 'T1074.001_6469befa-748a-4b9c-a96d-f191fde47d89_B',\n",
       " 247: 'T1562.004_8d0a4585e7c4646185a912b14cd9cb46_I',\n",
       " 248: 'O',\n",
       " 249: 'T1016_7d8ee68f0e9731db82964f558f614608_B',\n",
       " 250: 'T1059.001_bfff9006-d1fb-46ce-b173-92cb04e9a031_I',\n",
       " 251: 'T1105_1095434782a00c8a4772a11e625bcf5d_B',\n",
       " 252: 'T1105_eb814e03-811a-467a-bc6d-dcd453750fa2_B',\n",
       " 253: 'T1112_fa4ba6a06b4a5cd955ea5a60fae24281_B',\n",
       " 254: 'T1497.001_5dc841fd-28ad-40e2-b10e-fb007fe09e81_B',\n",
       " 255: 'T1083_6e1a53c0-7352-4899-be35-fa7f364d5722_B',\n",
       " 256: 'T1057_8adf02e8-6e71-4244-886c-98c402857404_I',\n",
       " 257: 'T1491_68235976-2404-42a8-9105-68230cfef562_I',\n",
       " 258: 'T1047_09e0f9cf2eb803a1c35deeecf3665fad_I',\n",
       " 259: 'T1069.001_5c4dd985-89e3-4590-9b57-71fed66ff4e2_B',\n",
       " 260: 'T1119_344e7eaf650763e0d3e9f02e62c1cf4b_B',\n",
       " 261: 'T1059.001_e5f9de8f-3df1-4e78-ad92-a784e3f6770d_B',\n",
       " 262: 'T1486_d82ceb9939d3d920ee550187ad8235c8_B',\n",
       " 263: 'T1090.001_ba343199a4f15ed6b57eb52412f62e4e_B',\n",
       " 264: 'T1547.004_0856714c9810ac55b53e9964d02958a0_B',\n",
       " 265: 'T1115_b007fe0c-c6b0-4fda-915c-255bbc070de2_B',\n",
       " 266: 'T1036.004_1f0614ea5c4af6faf1b44570f5f22f8a_B',\n",
       " 267: 'T1112_7fe6a66d03f4dbfc022609ba311c2b11_I',\n",
       " 268: 'T1562.002_6a8d25d65a7d481dc479f89c62af1e6a_B',\n",
       " 269: 'T1036.003_04e8d83e7badf098d50800d6aa1dd487_B',\n",
       " 270: 'T1219_f1b3fca18d7465cd10e5a7477a3bf97d_I',\n",
       " 271: 'T1566.001_1afaec09315ab71fdfb167175e8a019a_I',\n",
       " 272: 'T1531_b25ae80dad74142fafb510e9c1949ace_B',\n",
       " 273: 'T1491_47d08617-5ce1-424a-8cc5-c9c978ce6bf9_B',\n",
       " 274: 'T1036.003_f5ef8466e5ebcd2ae03f338d9416069c_B',\n",
       " 275: 'T1053.005_ee454be9197890de62705ce6255933fd_B',\n",
       " 276: 'T1003.003_9f73269695e54311dd61dc68940fb3e1_B',\n",
       " 277: 'T1547.001_163b023f43aba758d36f524d146cb8ea_B'}"
      ]
     },
     "execution_count": 52,
     "metadata": {},
     "output_type": "execute_result"
    }
   ],
   "source": [
    "import re\n",
    "\n",
    "def build_dictionary(file_path):\n",
    "    with open(file_path, 'r') as file:\n",
    "        next(file)\n",
    "        # 使用正则表达式去除行末的数字\n",
    "        dictionary = {re.sub(r'\\s\\d+$', '', line.strip()): index for index, line in enumerate(file)}\n",
    "    return dictionary\n",
    "    \n",
    "file_path = '../../data/3_openKE/label2id.txt'  # 替換為您檔案的路徑\n",
    "label2index = build_dictionary(file_path)\n",
    "index2label = {v: k for k, v in label2index.items()}\n",
    "\n",
    "index2label"
   ]
  },
  {
   "cell_type": "code",
   "execution_count": null,
   "metadata": {},
   "outputs": [],
   "source": [
    "type(index2entemb)"
   ]
  },
  {
   "cell_type": "markdown",
   "metadata": {},
   "source": [
    "### Main Training Loop"
   ]
  },
  {
   "cell_type": "markdown",
   "metadata": {},
   "source": [
    "- For release the GPU memory\n",
    "    - no need to restart the kernel"
   ]
  },
  {
   "cell_type": "code",
   "execution_count": 32,
   "metadata": {},
   "outputs": [],
   "source": [
    "# # For release the GPU memory\n",
    "# # No need to restart the kernel\n",
    "\n",
    "# import gc\n",
    "# gc.collect()\n",
    "# torch.cuda.empty_cache()"
   ]
  },
  {
   "cell_type": "code",
   "execution_count": 47,
   "metadata": {},
   "outputs": [],
   "source": [
    "DIM = 256\n",
    "embedding = 'transE_256'"
   ]
  },
  {
   "cell_type": "code",
   "execution_count": 48,
   "metadata": {},
   "outputs": [],
   "source": [
    "seed = 5269\n",
    "in_dim = DIM # dimension of the node feature\n",
    "hidden_dim = 64\n",
    "out_dim = 128\n",
    "num_classes = len(label2index)\n",
    "\n",
    "lr = 5e-4\n",
    "\n",
    "total_steps = 100\n",
    "patience = 5\n",
    "waiting = 0"
   ]
  },
  {
   "cell_type": "code",
   "execution_count": 49,
   "metadata": {},
   "outputs": [],
   "source": [
    "model = Model(in_dim, hidden_dim, out_dim, num_classes)\n",
    "best_model_path = f\"./checkpoint_graphSAGE/best_model_GraphSAGE_{embedding}.pt\"\n",
    "\n",
    "optimizer = AdamW(model.parameters(), lr)\n",
    "\n",
    "scheduler = lr_scheduler.CosineAnnealingLR(optimizer, T_max=10, eta_min=0, last_epoch=-1, verbose=False)\n",
    "\n",
    "criterion = nn.CrossEntropyLoss()\n",
    "# criterion = torch.nn.BCEWithLogitsLoss()"
   ]
  },
  {
   "cell_type": "code",
   "execution_count": 50,
   "metadata": {
    "scrolled": true
   },
   "outputs": [
    {
     "data": {
      "application/vnd.jupyter.widget-view+json": {
       "model_id": "0b2ac7431b7e4421a6da10e19b8af12f",
       "version_major": 2,
       "version_minor": 0
      },
      "text/plain": [
       "  0%|          | 0/100 [00:00<?, ?it/s]"
      ]
     },
     "metadata": {},
     "output_type": "display_data"
    },
    {
     "data": {
      "application/vnd.jupyter.widget-view+json": {
       "model_id": "75fc39746ff143e38d3d06c4e5943ae9",
       "version_major": 2,
       "version_minor": 0
      },
      "text/plain": [
       "Training:   0%|          | 0/423 [00:00<?, ?it/s]"
      ]
     },
     "metadata": {},
     "output_type": "display_data"
    },
    {
     "name": "stdout",
     "output_type": "stream",
     "text": [
      "02/03/2024, 22:25:25# total batches: 423\n",
      "02/03/2024, 22:25:25# Epoch 0 | Train Loss: 1.4500 | Train Accuracy: 0.7688\n"
     ]
    },
    {
     "data": {
      "application/vnd.jupyter.widget-view+json": {
       "model_id": "9960078151bf4005a576ea41c159c9e6",
       "version_major": 2,
       "version_minor": 0
      },
      "text/plain": [
       "Validation:   0%|          | 0/53 [00:00<?, ?it/s]"
      ]
     },
     "metadata": {},
     "output_type": "display_data"
    },
    {
     "name": "stdout",
     "output_type": "stream",
     "text": [
      "02/03/2024, 22:25:40# Validation Loss: 1.0710 | Validation Accuracy: 0.7878\n",
      "\n",
      "02/03/2024, 22:25:40# Find a better model!!\n"
     ]
    },
    {
     "data": {
      "application/vnd.jupyter.widget-view+json": {
       "model_id": "1b7dfecbba3b44bf91475f5aa8c95b22",
       "version_major": 2,
       "version_minor": 0
      },
      "text/plain": [
       "Training:   0%|          | 0/423 [00:00<?, ?it/s]"
      ]
     },
     "metadata": {},
     "output_type": "display_data"
    },
    {
     "name": "stdout",
     "output_type": "stream",
     "text": [
      "02/03/2024, 22:27:57# total batches: 423\n",
      "02/03/2024, 22:27:57# Epoch 1 | Train Loss: 0.8786 | Train Accuracy: 0.8135\n"
     ]
    },
    {
     "data": {
      "application/vnd.jupyter.widget-view+json": {
       "model_id": "5236bbe99b6b4e358afb67b96e5ba0ed",
       "version_major": 2,
       "version_minor": 0
      },
      "text/plain": [
       "Validation:   0%|          | 0/53 [00:00<?, ?it/s]"
      ]
     },
     "metadata": {},
     "output_type": "display_data"
    },
    {
     "name": "stdout",
     "output_type": "stream",
     "text": [
      "02/03/2024, 22:28:11# Validation Loss: 0.8926 | Validation Accuracy: 0.8470\n",
      "\n",
      "02/03/2024, 22:28:11# Find a better model!!\n"
     ]
    },
    {
     "data": {
      "application/vnd.jupyter.widget-view+json": {
       "model_id": "e58bfcf891214296b795449aa312ec5b",
       "version_major": 2,
       "version_minor": 0
      },
      "text/plain": [
       "Training:   0%|          | 0/423 [00:00<?, ?it/s]"
      ]
     },
     "metadata": {},
     "output_type": "display_data"
    },
    {
     "name": "stdout",
     "output_type": "stream",
     "text": [
      "02/03/2024, 22:30:30# total batches: 423\n",
      "02/03/2024, 22:30:30# Epoch 2 | Train Loss: 0.7341 | Train Accuracy: 0.8626\n"
     ]
    },
    {
     "data": {
      "application/vnd.jupyter.widget-view+json": {
       "model_id": "698e14610ed74bea948281b8f1e5a125",
       "version_major": 2,
       "version_minor": 0
      },
      "text/plain": [
       "Validation:   0%|          | 0/53 [00:00<?, ?it/s]"
      ]
     },
     "metadata": {},
     "output_type": "display_data"
    },
    {
     "name": "stdout",
     "output_type": "stream",
     "text": [
      "02/03/2024, 22:30:44# Validation Loss: 0.8623 | Validation Accuracy: 0.8421\n",
      "\n",
      "02/03/2024, 22:30:44# Find a better model!!\n"
     ]
    },
    {
     "data": {
      "application/vnd.jupyter.widget-view+json": {
       "model_id": "41c2afd6813d45de9d14f65451256139",
       "version_major": 2,
       "version_minor": 0
      },
      "text/plain": [
       "Training:   0%|          | 0/423 [00:00<?, ?it/s]"
      ]
     },
     "metadata": {},
     "output_type": "display_data"
    },
    {
     "name": "stdout",
     "output_type": "stream",
     "text": [
      "02/03/2024, 22:33:03# total batches: 423\n",
      "02/03/2024, 22:33:03# Epoch 3 | Train Loss: 0.6404 | Train Accuracy: 0.8774\n"
     ]
    },
    {
     "data": {
      "application/vnd.jupyter.widget-view+json": {
       "model_id": "aff34f84420f4a2096833104f68f57d3",
       "version_major": 2,
       "version_minor": 0
      },
      "text/plain": [
       "Validation:   0%|          | 0/53 [00:00<?, ?it/s]"
      ]
     },
     "metadata": {},
     "output_type": "display_data"
    },
    {
     "name": "stdout",
     "output_type": "stream",
     "text": [
      "02/03/2024, 22:33:17# Validation Loss: 0.7150 | Validation Accuracy: 0.8537\n",
      "\n",
      "02/03/2024, 22:33:17# Find a better model!!\n"
     ]
    },
    {
     "data": {
      "application/vnd.jupyter.widget-view+json": {
       "model_id": "c70856bbd4c84df0930ef06566c71a26",
       "version_major": 2,
       "version_minor": 0
      },
      "text/plain": [
       "Training:   0%|          | 0/423 [00:00<?, ?it/s]"
      ]
     },
     "metadata": {},
     "output_type": "display_data"
    },
    {
     "name": "stdout",
     "output_type": "stream",
     "text": [
      "02/03/2024, 22:35:33# total batches: 423\n",
      "02/03/2024, 22:35:33# Epoch 4 | Train Loss: 0.5909 | Train Accuracy: 0.8856\n"
     ]
    },
    {
     "data": {
      "application/vnd.jupyter.widget-view+json": {
       "model_id": "52c4687a7fb04ddfaa2db48cdd3f4090",
       "version_major": 2,
       "version_minor": 0
      },
      "text/plain": [
       "Validation:   0%|          | 0/53 [00:00<?, ?it/s]"
      ]
     },
     "metadata": {},
     "output_type": "display_data"
    },
    {
     "name": "stdout",
     "output_type": "stream",
     "text": [
      "02/03/2024, 22:35:47# Validation Loss: 0.7175 | Validation Accuracy: 0.8573\n",
      "\n"
     ]
    },
    {
     "data": {
      "application/vnd.jupyter.widget-view+json": {
       "model_id": "01339813f9b24d47b072178a53099ebf",
       "version_major": 2,
       "version_minor": 0
      },
      "text/plain": [
       "Training:   0%|          | 0/423 [00:00<?, ?it/s]"
      ]
     },
     "metadata": {},
     "output_type": "display_data"
    },
    {
     "name": "stdout",
     "output_type": "stream",
     "text": [
      "02/03/2024, 22:38:07# total batches: 423\n",
      "02/03/2024, 22:38:07# Epoch 5 | Train Loss: 0.5472 | Train Accuracy: 0.8919\n"
     ]
    },
    {
     "data": {
      "application/vnd.jupyter.widget-view+json": {
       "model_id": "13e6c5b71dfa4755b136b5e5f0e6d40b",
       "version_major": 2,
       "version_minor": 0
      },
      "text/plain": [
       "Validation:   0%|          | 0/53 [00:00<?, ?it/s]"
      ]
     },
     "metadata": {},
     "output_type": "display_data"
    },
    {
     "name": "stdout",
     "output_type": "stream",
     "text": [
      "02/03/2024, 22:38:21# Validation Loss: 0.5679 | Validation Accuracy: 0.8919\n",
      "\n",
      "02/03/2024, 22:38:21# Find a better model!!\n"
     ]
    },
    {
     "data": {
      "application/vnd.jupyter.widget-view+json": {
       "model_id": "3e1a23972016402aa0428efe2f0670e6",
       "version_major": 2,
       "version_minor": 0
      },
      "text/plain": [
       "Training:   0%|          | 0/423 [00:00<?, ?it/s]"
      ]
     },
     "metadata": {},
     "output_type": "display_data"
    },
    {
     "name": "stdout",
     "output_type": "stream",
     "text": [
      "02/03/2024, 22:40:43# total batches: 423\n",
      "02/03/2024, 22:40:43# Epoch 6 | Train Loss: 0.5213 | Train Accuracy: 0.8989\n"
     ]
    },
    {
     "data": {
      "application/vnd.jupyter.widget-view+json": {
       "model_id": "cde0d6bf58004998a256eed5365b204f",
       "version_major": 2,
       "version_minor": 0
      },
      "text/plain": [
       "Validation:   0%|          | 0/53 [00:00<?, ?it/s]"
      ]
     },
     "metadata": {},
     "output_type": "display_data"
    },
    {
     "name": "stdout",
     "output_type": "stream",
     "text": [
      "02/03/2024, 22:40:58# Validation Loss: 0.5909 | Validation Accuracy: 0.8877\n",
      "\n"
     ]
    },
    {
     "data": {
      "application/vnd.jupyter.widget-view+json": {
       "model_id": "0c6e06d88595495b9adcb2e421d63a2e",
       "version_major": 2,
       "version_minor": 0
      },
      "text/plain": [
       "Training:   0%|          | 0/423 [00:00<?, ?it/s]"
      ]
     },
     "metadata": {},
     "output_type": "display_data"
    },
    {
     "name": "stdout",
     "output_type": "stream",
     "text": [
      "02/03/2024, 22:43:15# total batches: 423\n",
      "02/03/2024, 22:43:15# Epoch 7 | Train Loss: 0.5040 | Train Accuracy: 0.9013\n"
     ]
    },
    {
     "data": {
      "application/vnd.jupyter.widget-view+json": {
       "model_id": "05e9f69aaa0e45d49ca3e8810be97280",
       "version_major": 2,
       "version_minor": 0
      },
      "text/plain": [
       "Validation:   0%|          | 0/53 [00:00<?, ?it/s]"
      ]
     },
     "metadata": {},
     "output_type": "display_data"
    },
    {
     "name": "stdout",
     "output_type": "stream",
     "text": [
      "02/03/2024, 22:43:30# Validation Loss: 0.5909 | Validation Accuracy: 0.8823\n",
      "\n"
     ]
    },
    {
     "data": {
      "application/vnd.jupyter.widget-view+json": {
       "model_id": "9e92d5d72b364f229f0d22bba11bd202",
       "version_major": 2,
       "version_minor": 0
      },
      "text/plain": [
       "Training:   0%|          | 0/423 [00:00<?, ?it/s]"
      ]
     },
     "metadata": {},
     "output_type": "display_data"
    },
    {
     "name": "stdout",
     "output_type": "stream",
     "text": [
      "02/03/2024, 22:45:49# total batches: 423\n",
      "02/03/2024, 22:45:49# Epoch 8 | Train Loss: 0.4803 | Train Accuracy: 0.9046\n"
     ]
    },
    {
     "data": {
      "application/vnd.jupyter.widget-view+json": {
       "model_id": "86cbc1d53dd74448aff6db2975663c52",
       "version_major": 2,
       "version_minor": 0
      },
      "text/plain": [
       "Validation:   0%|          | 0/53 [00:00<?, ?it/s]"
      ]
     },
     "metadata": {},
     "output_type": "display_data"
    },
    {
     "name": "stdout",
     "output_type": "stream",
     "text": [
      "02/03/2024, 22:46:04# Validation Loss: 0.5272 | Validation Accuracy: 0.8953\n",
      "\n",
      "02/03/2024, 22:46:04# Find a better model!!\n"
     ]
    },
    {
     "data": {
      "application/vnd.jupyter.widget-view+json": {
       "model_id": "3937d9ea90d74581b6498fa26f10abea",
       "version_major": 2,
       "version_minor": 0
      },
      "text/plain": [
       "Training:   0%|          | 0/423 [00:00<?, ?it/s]"
      ]
     },
     "metadata": {},
     "output_type": "display_data"
    },
    {
     "name": "stdout",
     "output_type": "stream",
     "text": [
      "02/03/2024, 22:48:19# total batches: 423\n",
      "02/03/2024, 22:48:19# Epoch 9 | Train Loss: 0.4660 | Train Accuracy: 0.9101\n"
     ]
    },
    {
     "data": {
      "application/vnd.jupyter.widget-view+json": {
       "model_id": "36629590a4f44a54980e3dd1795efc78",
       "version_major": 2,
       "version_minor": 0
      },
      "text/plain": [
       "Validation:   0%|          | 0/53 [00:00<?, ?it/s]"
      ]
     },
     "metadata": {},
     "output_type": "display_data"
    },
    {
     "name": "stdout",
     "output_type": "stream",
     "text": [
      "02/03/2024, 22:48:34# Validation Loss: 0.4711 | Validation Accuracy: 0.9113\n",
      "\n",
      "02/03/2024, 22:48:34# Find a better model!!\n"
     ]
    },
    {
     "data": {
      "application/vnd.jupyter.widget-view+json": {
       "model_id": "738c76cbf8ad43dda9e0b92fbf1f091c",
       "version_major": 2,
       "version_minor": 0
      },
      "text/plain": [
       "Training:   0%|          | 0/423 [00:00<?, ?it/s]"
      ]
     },
     "metadata": {},
     "output_type": "display_data"
    },
    {
     "name": "stdout",
     "output_type": "stream",
     "text": [
      "02/03/2024, 22:50:51# total batches: 423\n",
      "02/03/2024, 22:50:51# Epoch 10 | Train Loss: 0.4215 | Train Accuracy: 0.9194\n"
     ]
    },
    {
     "data": {
      "application/vnd.jupyter.widget-view+json": {
       "model_id": "edb697be8b5e4019b0449fa833801026",
       "version_major": 2,
       "version_minor": 0
      },
      "text/plain": [
       "Validation:   0%|          | 0/53 [00:00<?, ?it/s]"
      ]
     },
     "metadata": {},
     "output_type": "display_data"
    },
    {
     "name": "stdout",
     "output_type": "stream",
     "text": [
      "02/03/2024, 22:51:06# Validation Loss: 0.5045 | Validation Accuracy: 0.8969\n",
      "\n"
     ]
    },
    {
     "data": {
      "application/vnd.jupyter.widget-view+json": {
       "model_id": "cfe9317b94c64df9805d3199e9ac3392",
       "version_major": 2,
       "version_minor": 0
      },
      "text/plain": [
       "Training:   0%|          | 0/423 [00:00<?, ?it/s]"
      ]
     },
     "metadata": {},
     "output_type": "display_data"
    },
    {
     "name": "stdout",
     "output_type": "stream",
     "text": [
      "02/03/2024, 22:53:23# total batches: 423\n",
      "02/03/2024, 22:53:23# Epoch 11 | Train Loss: 0.3747 | Train Accuracy: 0.9286\n"
     ]
    },
    {
     "data": {
      "application/vnd.jupyter.widget-view+json": {
       "model_id": "901fc5b8173f4574afb4659d80a34166",
       "version_major": 2,
       "version_minor": 0
      },
      "text/plain": [
       "Validation:   0%|          | 0/53 [00:00<?, ?it/s]"
      ]
     },
     "metadata": {},
     "output_type": "display_data"
    },
    {
     "name": "stdout",
     "output_type": "stream",
     "text": [
      "02/03/2024, 22:53:38# Validation Loss: 0.4792 | Validation Accuracy: 0.9073\n",
      "\n"
     ]
    },
    {
     "data": {
      "application/vnd.jupyter.widget-view+json": {
       "model_id": "feef6f6239d14cf4a61f15b6f638cf6c",
       "version_major": 2,
       "version_minor": 0
      },
      "text/plain": [
       "Training:   0%|          | 0/423 [00:00<?, ?it/s]"
      ]
     },
     "metadata": {},
     "output_type": "display_data"
    },
    {
     "name": "stdout",
     "output_type": "stream",
     "text": [
      "02/03/2024, 22:56:01# total batches: 423\n",
      "02/03/2024, 22:56:01# Epoch 12 | Train Loss: 0.3723 | Train Accuracy: 0.9302\n"
     ]
    },
    {
     "data": {
      "application/vnd.jupyter.widget-view+json": {
       "model_id": "be408fdb85084479b8139dabb5f1000f",
       "version_major": 2,
       "version_minor": 0
      },
      "text/plain": [
       "Validation:   0%|          | 0/53 [00:00<?, ?it/s]"
      ]
     },
     "metadata": {},
     "output_type": "display_data"
    },
    {
     "name": "stdout",
     "output_type": "stream",
     "text": [
      "02/03/2024, 22:56:15# Validation Loss: 0.3834 | Validation Accuracy: 0.9319\n",
      "\n",
      "02/03/2024, 22:56:15# Find a better model!!\n"
     ]
    },
    {
     "data": {
      "application/vnd.jupyter.widget-view+json": {
       "model_id": "245490ab6ada491198d0fc5e1ff6fdf8",
       "version_major": 2,
       "version_minor": 0
      },
      "text/plain": [
       "Training:   0%|          | 0/423 [00:00<?, ?it/s]"
      ]
     },
     "metadata": {},
     "output_type": "display_data"
    },
    {
     "name": "stdout",
     "output_type": "stream",
     "text": [
      "02/03/2024, 22:58:32# total batches: 423\n",
      "02/03/2024, 22:58:32# Epoch 13 | Train Loss: 0.3318 | Train Accuracy: 0.9382\n"
     ]
    },
    {
     "data": {
      "application/vnd.jupyter.widget-view+json": {
       "model_id": "19c0fa43fe164e1abc9c6249b91bf51c",
       "version_major": 2,
       "version_minor": 0
      },
      "text/plain": [
       "Validation:   0%|          | 0/53 [00:00<?, ?it/s]"
      ]
     },
     "metadata": {},
     "output_type": "display_data"
    },
    {
     "name": "stdout",
     "output_type": "stream",
     "text": [
      "02/03/2024, 22:58:47# Validation Loss: 0.4127 | Validation Accuracy: 0.9121\n",
      "\n"
     ]
    },
    {
     "data": {
      "application/vnd.jupyter.widget-view+json": {
       "model_id": "f738cbe402ae4e869f9b58817c73e25d",
       "version_major": 2,
       "version_minor": 0
      },
      "text/plain": [
       "Training:   0%|          | 0/423 [00:00<?, ?it/s]"
      ]
     },
     "metadata": {},
     "output_type": "display_data"
    },
    {
     "name": "stdout",
     "output_type": "stream",
     "text": [
      "02/03/2024, 23:01:02# total batches: 423\n",
      "02/03/2024, 23:01:02# Epoch 14 | Train Loss: 0.3304 | Train Accuracy: 0.9374\n"
     ]
    },
    {
     "data": {
      "application/vnd.jupyter.widget-view+json": {
       "model_id": "bd3ccfe22edf451b9a48a44c23022a5d",
       "version_major": 2,
       "version_minor": 0
      },
      "text/plain": [
       "Validation:   0%|          | 0/53 [00:00<?, ?it/s]"
      ]
     },
     "metadata": {},
     "output_type": "display_data"
    },
    {
     "name": "stdout",
     "output_type": "stream",
     "text": [
      "02/03/2024, 23:01:17# Validation Loss: 0.3883 | Validation Accuracy: 0.9214\n",
      "\n"
     ]
    },
    {
     "data": {
      "application/vnd.jupyter.widget-view+json": {
       "model_id": "f74cc647fb7f4d42ae25bd416498816e",
       "version_major": 2,
       "version_minor": 0
      },
      "text/plain": [
       "Training:   0%|          | 0/423 [00:00<?, ?it/s]"
      ]
     },
     "metadata": {},
     "output_type": "display_data"
    },
    {
     "name": "stdout",
     "output_type": "stream",
     "text": [
      "02/03/2024, 23:03:33# total batches: 423\n",
      "02/03/2024, 23:03:33# Epoch 15 | Train Loss: 0.3290 | Train Accuracy: 0.9366\n"
     ]
    },
    {
     "data": {
      "application/vnd.jupyter.widget-view+json": {
       "model_id": "8824e038ccd543e981ed09cd42e131e2",
       "version_major": 2,
       "version_minor": 0
      },
      "text/plain": [
       "Validation:   0%|          | 0/53 [00:00<?, ?it/s]"
      ]
     },
     "metadata": {},
     "output_type": "display_data"
    },
    {
     "name": "stdout",
     "output_type": "stream",
     "text": [
      "02/03/2024, 23:03:47# Validation Loss: 0.4086 | Validation Accuracy: 0.9089\n",
      "\n"
     ]
    },
    {
     "data": {
      "application/vnd.jupyter.widget-view+json": {
       "model_id": "f7362db4c35f47bdb4fd0fa167cb9b41",
       "version_major": 2,
       "version_minor": 0
      },
      "text/plain": [
       "Training:   0%|          | 0/423 [00:00<?, ?it/s]"
      ]
     },
     "metadata": {},
     "output_type": "display_data"
    },
    {
     "name": "stdout",
     "output_type": "stream",
     "text": [
      "02/03/2024, 23:06:05# total batches: 423\n",
      "02/03/2024, 23:06:05# Epoch 16 | Train Loss: 0.2963 | Train Accuracy: 0.9427\n"
     ]
    },
    {
     "data": {
      "application/vnd.jupyter.widget-view+json": {
       "model_id": "24aa960c66954791aa2a5ec12a18b45a",
       "version_major": 2,
       "version_minor": 0
      },
      "text/plain": [
       "Validation:   0%|          | 0/53 [00:00<?, ?it/s]"
      ]
     },
     "metadata": {},
     "output_type": "display_data"
    },
    {
     "name": "stdout",
     "output_type": "stream",
     "text": [
      "02/03/2024, 23:06:20# Validation Loss: 0.3369 | Validation Accuracy: 0.9321\n",
      "\n",
      "02/03/2024, 23:06:20# Find a better model!!\n"
     ]
    },
    {
     "data": {
      "application/vnd.jupyter.widget-view+json": {
       "model_id": "d9d3827ee97b4d67af81627df2c6109e",
       "version_major": 2,
       "version_minor": 0
      },
      "text/plain": [
       "Training:   0%|          | 0/423 [00:00<?, ?it/s]"
      ]
     },
     "metadata": {},
     "output_type": "display_data"
    },
    {
     "name": "stdout",
     "output_type": "stream",
     "text": [
      "02/03/2024, 23:08:38# total batches: 423\n",
      "02/03/2024, 23:08:38# Epoch 17 | Train Loss: 0.2951 | Train Accuracy: 0.9409\n"
     ]
    },
    {
     "data": {
      "application/vnd.jupyter.widget-view+json": {
       "model_id": "da4761c37f87418e9327c4f26f2f3ece",
       "version_major": 2,
       "version_minor": 0
      },
      "text/plain": [
       "Validation:   0%|          | 0/53 [00:00<?, ?it/s]"
      ]
     },
     "metadata": {},
     "output_type": "display_data"
    },
    {
     "name": "stdout",
     "output_type": "stream",
     "text": [
      "02/03/2024, 23:08:53# Validation Loss: 0.3179 | Validation Accuracy: 0.9339\n",
      "\n",
      "02/03/2024, 23:08:53# Find a better model!!\n"
     ]
    },
    {
     "data": {
      "application/vnd.jupyter.widget-view+json": {
       "model_id": "3eaa696ec3684880815f1fd795997b10",
       "version_major": 2,
       "version_minor": 0
      },
      "text/plain": [
       "Training:   0%|          | 0/423 [00:00<?, ?it/s]"
      ]
     },
     "metadata": {},
     "output_type": "display_data"
    },
    {
     "name": "stdout",
     "output_type": "stream",
     "text": [
      "02/03/2024, 23:11:14# total batches: 423\n",
      "02/03/2024, 23:11:14# Epoch 18 | Train Loss: 0.2516 | Train Accuracy: 0.9489\n"
     ]
    },
    {
     "data": {
      "application/vnd.jupyter.widget-view+json": {
       "model_id": "d81c8c5130024ac6b447f6ef9e42ebbf",
       "version_major": 2,
       "version_minor": 0
      },
      "text/plain": [
       "Validation:   0%|          | 0/53 [00:00<?, ?it/s]"
      ]
     },
     "metadata": {},
     "output_type": "display_data"
    },
    {
     "name": "stdout",
     "output_type": "stream",
     "text": [
      "02/03/2024, 23:11:29# Validation Loss: 0.2615 | Validation Accuracy: 0.9492\n",
      "\n",
      "02/03/2024, 23:11:29# Find a better model!!\n"
     ]
    },
    {
     "data": {
      "application/vnd.jupyter.widget-view+json": {
       "model_id": "69151d13440c44fb867ff8a904a1fbaf",
       "version_major": 2,
       "version_minor": 0
      },
      "text/plain": [
       "Training:   0%|          | 0/423 [00:00<?, ?it/s]"
      ]
     },
     "metadata": {},
     "output_type": "display_data"
    },
    {
     "name": "stdout",
     "output_type": "stream",
     "text": [
      "02/03/2024, 23:13:48# total batches: 423\n",
      "02/03/2024, 23:13:48# Epoch 19 | Train Loss: 0.2512 | Train Accuracy: 0.9479\n"
     ]
    },
    {
     "data": {
      "application/vnd.jupyter.widget-view+json": {
       "model_id": "952533b37bd849aa82818e43ad13e8ba",
       "version_major": 2,
       "version_minor": 0
      },
      "text/plain": [
       "Validation:   0%|          | 0/53 [00:00<?, ?it/s]"
      ]
     },
     "metadata": {},
     "output_type": "display_data"
    },
    {
     "name": "stdout",
     "output_type": "stream",
     "text": [
      "02/03/2024, 23:14:03# Validation Loss: 0.2728 | Validation Accuracy: 0.9451\n",
      "\n"
     ]
    },
    {
     "data": {
      "application/vnd.jupyter.widget-view+json": {
       "model_id": "cfb0976c3e784b1d8f004b8ba1278469",
       "version_major": 2,
       "version_minor": 0
      },
      "text/plain": [
       "Training:   0%|          | 0/423 [00:00<?, ?it/s]"
      ]
     },
     "metadata": {},
     "output_type": "display_data"
    },
    {
     "name": "stdout",
     "output_type": "stream",
     "text": [
      "02/03/2024, 23:16:28# total batches: 423\n",
      "02/03/2024, 23:16:28# Epoch 20 | Train Loss: 0.2495 | Train Accuracy: 0.9489\n"
     ]
    },
    {
     "data": {
      "application/vnd.jupyter.widget-view+json": {
       "model_id": "d1231215ca3646208473514db15a76b5",
       "version_major": 2,
       "version_minor": 0
      },
      "text/plain": [
       "Validation:   0%|          | 0/53 [00:00<?, ?it/s]"
      ]
     },
     "metadata": {},
     "output_type": "display_data"
    },
    {
     "name": "stdout",
     "output_type": "stream",
     "text": [
      "02/03/2024, 23:16:43# Validation Loss: 0.2693 | Validation Accuracy: 0.9464\n",
      "\n"
     ]
    },
    {
     "data": {
      "application/vnd.jupyter.widget-view+json": {
       "model_id": "e1bf77a156de4bdbb4d3d8d3197494a8",
       "version_major": 2,
       "version_minor": 0
      },
      "text/plain": [
       "Training:   0%|          | 0/423 [00:00<?, ?it/s]"
      ]
     },
     "metadata": {},
     "output_type": "display_data"
    },
    {
     "name": "stdout",
     "output_type": "stream",
     "text": [
      "02/03/2024, 23:18:59# total batches: 423\n",
      "02/03/2024, 23:18:59# Epoch 21 | Train Loss: 0.2322 | Train Accuracy: 0.9531\n"
     ]
    },
    {
     "data": {
      "application/vnd.jupyter.widget-view+json": {
       "model_id": "7bc50ab0ff814b6e83229c52acbd80a5",
       "version_major": 2,
       "version_minor": 0
      },
      "text/plain": [
       "Validation:   0%|          | 0/53 [00:00<?, ?it/s]"
      ]
     },
     "metadata": {},
     "output_type": "display_data"
    },
    {
     "name": "stdout",
     "output_type": "stream",
     "text": [
      "02/03/2024, 23:19:13# Validation Loss: 0.2733 | Validation Accuracy: 0.9451\n",
      "\n"
     ]
    },
    {
     "data": {
      "application/vnd.jupyter.widget-view+json": {
       "model_id": "b4f3a588cfe64b7cab4904b6cabedb18",
       "version_major": 2,
       "version_minor": 0
      },
      "text/plain": [
       "Training:   0%|          | 0/423 [00:00<?, ?it/s]"
      ]
     },
     "metadata": {},
     "output_type": "display_data"
    },
    {
     "name": "stdout",
     "output_type": "stream",
     "text": [
      "02/03/2024, 23:21:32# total batches: 423\n",
      "02/03/2024, 23:21:32# Epoch 22 | Train Loss: 0.2167 | Train Accuracy: 0.9560\n"
     ]
    },
    {
     "data": {
      "application/vnd.jupyter.widget-view+json": {
       "model_id": "df1595f26e0941e7ac1264379f67e377",
       "version_major": 2,
       "version_minor": 0
      },
      "text/plain": [
       "Validation:   0%|          | 0/53 [00:00<?, ?it/s]"
      ]
     },
     "metadata": {},
     "output_type": "display_data"
    },
    {
     "name": "stdout",
     "output_type": "stream",
     "text": [
      "02/03/2024, 23:21:46# Validation Loss: 0.2355 | Validation Accuracy: 0.9479\n",
      "\n",
      "02/03/2024, 23:21:46# Find a better model!!\n"
     ]
    },
    {
     "data": {
      "application/vnd.jupyter.widget-view+json": {
       "model_id": "5c6c7580fead4667aa7baa49299e5008",
       "version_major": 2,
       "version_minor": 0
      },
      "text/plain": [
       "Training:   0%|          | 0/423 [00:00<?, ?it/s]"
      ]
     },
     "metadata": {},
     "output_type": "display_data"
    },
    {
     "name": "stdout",
     "output_type": "stream",
     "text": [
      "02/03/2024, 23:24:10# total batches: 423\n",
      "02/03/2024, 23:24:10# Epoch 23 | Train Loss: 0.2080 | Train Accuracy: 0.9577\n"
     ]
    },
    {
     "data": {
      "application/vnd.jupyter.widget-view+json": {
       "model_id": "65efff5fda9d425aaddcfe0c0baa8561",
       "version_major": 2,
       "version_minor": 0
      },
      "text/plain": [
       "Validation:   0%|          | 0/53 [00:00<?, ?it/s]"
      ]
     },
     "metadata": {},
     "output_type": "display_data"
    },
    {
     "name": "stdout",
     "output_type": "stream",
     "text": [
      "02/03/2024, 23:24:25# Validation Loss: 0.2274 | Validation Accuracy: 0.9480\n",
      "\n",
      "02/03/2024, 23:24:25# Find a better model!!\n"
     ]
    },
    {
     "data": {
      "application/vnd.jupyter.widget-view+json": {
       "model_id": "dace4c8138f04674ab612db4b59dec8b",
       "version_major": 2,
       "version_minor": 0
      },
      "text/plain": [
       "Training:   0%|          | 0/423 [00:00<?, ?it/s]"
      ]
     },
     "metadata": {},
     "output_type": "display_data"
    },
    {
     "name": "stdout",
     "output_type": "stream",
     "text": [
      "02/03/2024, 23:26:50# total batches: 423\n",
      "02/03/2024, 23:26:50# Epoch 24 | Train Loss: 0.2029 | Train Accuracy: 0.9585\n"
     ]
    },
    {
     "data": {
      "application/vnd.jupyter.widget-view+json": {
       "model_id": "3043456f2d68454c97f317bf842d725a",
       "version_major": 2,
       "version_minor": 0
      },
      "text/plain": [
       "Validation:   0%|          | 0/53 [00:00<?, ?it/s]"
      ]
     },
     "metadata": {},
     "output_type": "display_data"
    },
    {
     "name": "stdout",
     "output_type": "stream",
     "text": [
      "02/03/2024, 23:27:06# Validation Loss: 0.2254 | Validation Accuracy: 0.9449\n",
      "\n",
      "02/03/2024, 23:27:06# Find a better model!!\n"
     ]
    },
    {
     "data": {
      "application/vnd.jupyter.widget-view+json": {
       "model_id": "0b1510d656d942fbaa922eb0d64ba9d7",
       "version_major": 2,
       "version_minor": 0
      },
      "text/plain": [
       "Training:   0%|          | 0/423 [00:00<?, ?it/s]"
      ]
     },
     "metadata": {},
     "output_type": "display_data"
    },
    {
     "name": "stdout",
     "output_type": "stream",
     "text": [
      "02/03/2024, 23:29:28# total batches: 423\n",
      "02/03/2024, 23:29:28# Epoch 25 | Train Loss: 0.2020 | Train Accuracy: 0.9581\n"
     ]
    },
    {
     "data": {
      "application/vnd.jupyter.widget-view+json": {
       "model_id": "cd7ea2260101489980a74b8db64723ba",
       "version_major": 2,
       "version_minor": 0
      },
      "text/plain": [
       "Validation:   0%|          | 0/53 [00:00<?, ?it/s]"
      ]
     },
     "metadata": {},
     "output_type": "display_data"
    },
    {
     "name": "stdout",
     "output_type": "stream",
     "text": [
      "02/03/2024, 23:29:43# Validation Loss: 0.1972 | Validation Accuracy: 0.9627\n",
      "\n",
      "02/03/2024, 23:29:43# Find a better model!!\n"
     ]
    },
    {
     "data": {
      "application/vnd.jupyter.widget-view+json": {
       "model_id": "e66a1588b7bc424681aeddd487187ee2",
       "version_major": 2,
       "version_minor": 0
      },
      "text/plain": [
       "Training:   0%|          | 0/423 [00:00<?, ?it/s]"
      ]
     },
     "metadata": {},
     "output_type": "display_data"
    },
    {
     "name": "stdout",
     "output_type": "stream",
     "text": [
      "02/03/2024, 23:32:00# total batches: 423\n",
      "02/03/2024, 23:32:00# Epoch 26 | Train Loss: 0.1963 | Train Accuracy: 0.9584\n"
     ]
    },
    {
     "data": {
      "application/vnd.jupyter.widget-view+json": {
       "model_id": "a0cfc6e9464b4cfcb84bc39069c5af49",
       "version_major": 2,
       "version_minor": 0
      },
      "text/plain": [
       "Validation:   0%|          | 0/53 [00:00<?, ?it/s]"
      ]
     },
     "metadata": {},
     "output_type": "display_data"
    },
    {
     "name": "stdout",
     "output_type": "stream",
     "text": [
      "02/03/2024, 23:32:14# Validation Loss: 0.2115 | Validation Accuracy: 0.9465\n",
      "\n"
     ]
    },
    {
     "data": {
      "application/vnd.jupyter.widget-view+json": {
       "model_id": "0b6a1e2f74ea47fbbd0237920477aec8",
       "version_major": 2,
       "version_minor": 0
      },
      "text/plain": [
       "Training:   0%|          | 0/423 [00:00<?, ?it/s]"
      ]
     },
     "metadata": {},
     "output_type": "display_data"
    },
    {
     "name": "stdout",
     "output_type": "stream",
     "text": [
      "02/03/2024, 23:34:32# total batches: 423\n",
      "02/03/2024, 23:34:32# Epoch 27 | Train Loss: 0.1932 | Train Accuracy: 0.9593\n"
     ]
    },
    {
     "data": {
      "application/vnd.jupyter.widget-view+json": {
       "model_id": "37efcc18fc6c463eae016fb8d99ae95b",
       "version_major": 2,
       "version_minor": 0
      },
      "text/plain": [
       "Validation:   0%|          | 0/53 [00:00<?, ?it/s]"
      ]
     },
     "metadata": {},
     "output_type": "display_data"
    },
    {
     "name": "stdout",
     "output_type": "stream",
     "text": [
      "02/03/2024, 23:34:47# Validation Loss: 0.2027 | Validation Accuracy: 0.9602\n",
      "\n"
     ]
    },
    {
     "data": {
      "application/vnd.jupyter.widget-view+json": {
       "model_id": "15687771c39343d5b4c728ad46361408",
       "version_major": 2,
       "version_minor": 0
      },
      "text/plain": [
       "Training:   0%|          | 0/423 [00:00<?, ?it/s]"
      ]
     },
     "metadata": {},
     "output_type": "display_data"
    },
    {
     "name": "stdout",
     "output_type": "stream",
     "text": [
      "02/03/2024, 23:37:08# total batches: 423\n",
      "02/03/2024, 23:37:08# Epoch 28 | Train Loss: 0.1829 | Train Accuracy: 0.9619\n"
     ]
    },
    {
     "data": {
      "application/vnd.jupyter.widget-view+json": {
       "model_id": "175a52bc5dd74b0085a9de2a83daf50e",
       "version_major": 2,
       "version_minor": 0
      },
      "text/plain": [
       "Validation:   0%|          | 0/53 [00:00<?, ?it/s]"
      ]
     },
     "metadata": {},
     "output_type": "display_data"
    },
    {
     "name": "stdout",
     "output_type": "stream",
     "text": [
      "02/03/2024, 23:37:22# Validation Loss: 0.1975 | Validation Accuracy: 0.9574\n",
      "\n"
     ]
    },
    {
     "data": {
      "application/vnd.jupyter.widget-view+json": {
       "model_id": "c333b763f0e84edeb57cf0dde2afae34",
       "version_major": 2,
       "version_minor": 0
      },
      "text/plain": [
       "Training:   0%|          | 0/423 [00:00<?, ?it/s]"
      ]
     },
     "metadata": {},
     "output_type": "display_data"
    },
    {
     "name": "stdout",
     "output_type": "stream",
     "text": [
      "02/03/2024, 23:39:39# total batches: 423\n",
      "02/03/2024, 23:39:39# Epoch 29 | Train Loss: 0.1711 | Train Accuracy: 0.9643\n"
     ]
    },
    {
     "data": {
      "application/vnd.jupyter.widget-view+json": {
       "model_id": "e1957f1794064283bc36b30cfceeb626",
       "version_major": 2,
       "version_minor": 0
      },
      "text/plain": [
       "Validation:   0%|          | 0/53 [00:00<?, ?it/s]"
      ]
     },
     "metadata": {},
     "output_type": "display_data"
    },
    {
     "name": "stdout",
     "output_type": "stream",
     "text": [
      "02/03/2024, 23:39:53# Validation Loss: 0.1894 | Validation Accuracy: 0.9502\n",
      "\n",
      "02/03/2024, 23:39:53# Find a better model!!\n"
     ]
    },
    {
     "data": {
      "application/vnd.jupyter.widget-view+json": {
       "model_id": "4ac9819675774657b75ff8fc9a8db279",
       "version_major": 2,
       "version_minor": 0
      },
      "text/plain": [
       "Training:   0%|          | 0/423 [00:00<?, ?it/s]"
      ]
     },
     "metadata": {},
     "output_type": "display_data"
    },
    {
     "name": "stdout",
     "output_type": "stream",
     "text": [
      "02/03/2024, 23:42:09# total batches: 423\n",
      "02/03/2024, 23:42:09# Epoch 30 | Train Loss: 0.1789 | Train Accuracy: 0.9623\n"
     ]
    },
    {
     "data": {
      "application/vnd.jupyter.widget-view+json": {
       "model_id": "c61f811334614467a7868a536257672d",
       "version_major": 2,
       "version_minor": 0
      },
      "text/plain": [
       "Validation:   0%|          | 0/53 [00:00<?, ?it/s]"
      ]
     },
     "metadata": {},
     "output_type": "display_data"
    },
    {
     "name": "stdout",
     "output_type": "stream",
     "text": [
      "02/03/2024, 23:42:23# Validation Loss: 0.2171 | Validation Accuracy: 0.9543\n",
      "\n"
     ]
    },
    {
     "data": {
      "application/vnd.jupyter.widget-view+json": {
       "model_id": "b2619c3e32104615b8d1c42e43c4eba6",
       "version_major": 2,
       "version_minor": 0
      },
      "text/plain": [
       "Training:   0%|          | 0/423 [00:00<?, ?it/s]"
      ]
     },
     "metadata": {},
     "output_type": "display_data"
    },
    {
     "name": "stdout",
     "output_type": "stream",
     "text": [
      "02/03/2024, 23:44:40# total batches: 423\n",
      "02/03/2024, 23:44:40# Epoch 31 | Train Loss: 0.1750 | Train Accuracy: 0.9619\n"
     ]
    },
    {
     "data": {
      "application/vnd.jupyter.widget-view+json": {
       "model_id": "4f0279dc9293468db74b77c8f6d33e55",
       "version_major": 2,
       "version_minor": 0
      },
      "text/plain": [
       "Validation:   0%|          | 0/53 [00:00<?, ?it/s]"
      ]
     },
     "metadata": {},
     "output_type": "display_data"
    },
    {
     "name": "stdout",
     "output_type": "stream",
     "text": [
      "02/03/2024, 23:44:54# Validation Loss: 0.2185 | Validation Accuracy: 0.9545\n",
      "\n"
     ]
    },
    {
     "data": {
      "application/vnd.jupyter.widget-view+json": {
       "model_id": "d76b5ea2b19b428dbf5f965d6c6c109c",
       "version_major": 2,
       "version_minor": 0
      },
      "text/plain": [
       "Training:   0%|          | 0/423 [00:00<?, ?it/s]"
      ]
     },
     "metadata": {},
     "output_type": "display_data"
    },
    {
     "name": "stdout",
     "output_type": "stream",
     "text": [
      "02/03/2024, 23:47:08# total batches: 423\n",
      "02/03/2024, 23:47:08# Epoch 32 | Train Loss: 0.1579 | Train Accuracy: 0.9664\n"
     ]
    },
    {
     "data": {
      "application/vnd.jupyter.widget-view+json": {
       "model_id": "7355b8011e57417bb327ec2dbf0e7abd",
       "version_major": 2,
       "version_minor": 0
      },
      "text/plain": [
       "Validation:   0%|          | 0/53 [00:00<?, ?it/s]"
      ]
     },
     "metadata": {},
     "output_type": "display_data"
    },
    {
     "name": "stdout",
     "output_type": "stream",
     "text": [
      "02/03/2024, 23:47:23# Validation Loss: 0.2063 | Validation Accuracy: 0.9529\n",
      "\n"
     ]
    },
    {
     "data": {
      "application/vnd.jupyter.widget-view+json": {
       "model_id": "f275cbdb5ee0492694bb9c8b0bb6efcc",
       "version_major": 2,
       "version_minor": 0
      },
      "text/plain": [
       "Training:   0%|          | 0/423 [00:00<?, ?it/s]"
      ]
     },
     "metadata": {},
     "output_type": "display_data"
    },
    {
     "name": "stdout",
     "output_type": "stream",
     "text": [
      "02/03/2024, 23:49:38# total batches: 423\n",
      "02/03/2024, 23:49:38# Epoch 33 | Train Loss: 0.1640 | Train Accuracy: 0.9654\n"
     ]
    },
    {
     "data": {
      "application/vnd.jupyter.widget-view+json": {
       "model_id": "448b202b77094383b68839274b7912e6",
       "version_major": 2,
       "version_minor": 0
      },
      "text/plain": [
       "Validation:   0%|          | 0/53 [00:00<?, ?it/s]"
      ]
     },
     "metadata": {},
     "output_type": "display_data"
    },
    {
     "name": "stdout",
     "output_type": "stream",
     "text": [
      "02/03/2024, 23:49:52# Validation Loss: 0.1940 | Validation Accuracy: 0.9578\n",
      "\n"
     ]
    },
    {
     "data": {
      "application/vnd.jupyter.widget-view+json": {
       "model_id": "0e85ccd40915470f974a02ef807e350b",
       "version_major": 2,
       "version_minor": 0
      },
      "text/plain": [
       "Training:   0%|          | 0/423 [00:00<?, ?it/s]"
      ]
     },
     "metadata": {},
     "output_type": "display_data"
    },
    {
     "name": "stdout",
     "output_type": "stream",
     "text": [
      "02/03/2024, 23:52:07# total batches: 423\n",
      "02/03/2024, 23:52:07# Epoch 34 | Train Loss: 0.1534 | Train Accuracy: 0.9676\n"
     ]
    },
    {
     "data": {
      "application/vnd.jupyter.widget-view+json": {
       "model_id": "1f5b1e752dca4a36bfbeb5e576bed3fd",
       "version_major": 2,
       "version_minor": 0
      },
      "text/plain": [
       "Validation:   0%|          | 0/53 [00:00<?, ?it/s]"
      ]
     },
     "metadata": {},
     "output_type": "display_data"
    },
    {
     "name": "stdout",
     "output_type": "stream",
     "text": [
      "02/03/2024, 23:52:22# Validation Loss: 0.1743 | Validation Accuracy: 0.9562\n",
      "\n",
      "02/03/2024, 23:52:22# Find a better model!!\n"
     ]
    },
    {
     "data": {
      "application/vnd.jupyter.widget-view+json": {
       "model_id": "85c88fe8ab334f5ca23279b83710de2e",
       "version_major": 2,
       "version_minor": 0
      },
      "text/plain": [
       "Training:   0%|          | 0/423 [00:00<?, ?it/s]"
      ]
     },
     "metadata": {},
     "output_type": "display_data"
    },
    {
     "name": "stdout",
     "output_type": "stream",
     "text": [
      "02/03/2024, 23:54:37# total batches: 423\n",
      "02/03/2024, 23:54:37# Epoch 35 | Train Loss: 0.1506 | Train Accuracy: 0.9676\n"
     ]
    },
    {
     "data": {
      "application/vnd.jupyter.widget-view+json": {
       "model_id": "e9c0a1b5ec3b4dcb86102c4201f7a13f",
       "version_major": 2,
       "version_minor": 0
      },
      "text/plain": [
       "Validation:   0%|          | 0/53 [00:00<?, ?it/s]"
      ]
     },
     "metadata": {},
     "output_type": "display_data"
    },
    {
     "name": "stdout",
     "output_type": "stream",
     "text": [
      "02/03/2024, 23:54:51# Validation Loss: 0.1664 | Validation Accuracy: 0.9617\n",
      "\n",
      "02/03/2024, 23:54:51# Find a better model!!\n"
     ]
    },
    {
     "data": {
      "application/vnd.jupyter.widget-view+json": {
       "model_id": "db26140436174f878c9db54a366a759f",
       "version_major": 2,
       "version_minor": 0
      },
      "text/plain": [
       "Training:   0%|          | 0/423 [00:00<?, ?it/s]"
      ]
     },
     "metadata": {},
     "output_type": "display_data"
    },
    {
     "name": "stdout",
     "output_type": "stream",
     "text": [
      "02/03/2024, 23:57:06# total batches: 423\n",
      "02/03/2024, 23:57:06# Epoch 36 | Train Loss: 0.1441 | Train Accuracy: 0.9689\n"
     ]
    },
    {
     "data": {
      "application/vnd.jupyter.widget-view+json": {
       "model_id": "b5a99be071124577abbcce7074e97209",
       "version_major": 2,
       "version_minor": 0
      },
      "text/plain": [
       "Validation:   0%|          | 0/53 [00:00<?, ?it/s]"
      ]
     },
     "metadata": {},
     "output_type": "display_data"
    },
    {
     "name": "stdout",
     "output_type": "stream",
     "text": [
      "02/03/2024, 23:57:20# Validation Loss: 0.1628 | Validation Accuracy: 0.9612\n",
      "\n",
      "02/03/2024, 23:57:20# Find a better model!!\n"
     ]
    },
    {
     "data": {
      "application/vnd.jupyter.widget-view+json": {
       "model_id": "6b671d7623da4ac691f62b0458562a1c",
       "version_major": 2,
       "version_minor": 0
      },
      "text/plain": [
       "Training:   0%|          | 0/423 [00:00<?, ?it/s]"
      ]
     },
     "metadata": {},
     "output_type": "display_data"
    },
    {
     "name": "stdout",
     "output_type": "stream",
     "text": [
      "02/03/2024, 23:59:35# total batches: 423\n",
      "02/03/2024, 23:59:35# Epoch 37 | Train Loss: 0.1432 | Train Accuracy: 0.9693\n"
     ]
    },
    {
     "data": {
      "application/vnd.jupyter.widget-view+json": {
       "model_id": "9aabf47a3789462c8ca804f830c7a852",
       "version_major": 2,
       "version_minor": 0
      },
      "text/plain": [
       "Validation:   0%|          | 0/53 [00:00<?, ?it/s]"
      ]
     },
     "metadata": {},
     "output_type": "display_data"
    },
    {
     "name": "stdout",
     "output_type": "stream",
     "text": [
      "02/03/2024, 23:59:49# Validation Loss: 0.1671 | Validation Accuracy: 0.9598\n",
      "\n"
     ]
    },
    {
     "data": {
      "application/vnd.jupyter.widget-view+json": {
       "model_id": "c966f3f841ec4e29965ba228a9c3b0e2",
       "version_major": 2,
       "version_minor": 0
      },
      "text/plain": [
       "Training:   0%|          | 0/423 [00:00<?, ?it/s]"
      ]
     },
     "metadata": {},
     "output_type": "display_data"
    },
    {
     "name": "stdout",
     "output_type": "stream",
     "text": [
      "02/04/2024, 00:02:07# total batches: 423\n",
      "02/04/2024, 00:02:07# Epoch 38 | Train Loss: 0.1440 | Train Accuracy: 0.9689\n"
     ]
    },
    {
     "data": {
      "application/vnd.jupyter.widget-view+json": {
       "model_id": "4a69f76718f14b0eb2ce7280e8b04a67",
       "version_major": 2,
       "version_minor": 0
      },
      "text/plain": [
       "Validation:   0%|          | 0/53 [00:00<?, ?it/s]"
      ]
     },
     "metadata": {},
     "output_type": "display_data"
    },
    {
     "name": "stdout",
     "output_type": "stream",
     "text": [
      "02/04/2024, 00:02:22# Validation Loss: 0.1603 | Validation Accuracy: 0.9683\n",
      "\n",
      "02/04/2024, 00:02:22# Find a better model!!\n"
     ]
    },
    {
     "data": {
      "application/vnd.jupyter.widget-view+json": {
       "model_id": "b8b2773cdbc7427f8928d238b79e89ac",
       "version_major": 2,
       "version_minor": 0
      },
      "text/plain": [
       "Training:   0%|          | 0/423 [00:00<?, ?it/s]"
      ]
     },
     "metadata": {},
     "output_type": "display_data"
    },
    {
     "name": "stdout",
     "output_type": "stream",
     "text": [
      "02/04/2024, 00:04:38# total batches: 423\n",
      "02/04/2024, 00:04:38# Epoch 39 | Train Loss: 0.1343 | Train Accuracy: 0.9714\n"
     ]
    },
    {
     "data": {
      "application/vnd.jupyter.widget-view+json": {
       "model_id": "973b585a4b3a4b9fb535fa6452c75a1b",
       "version_major": 2,
       "version_minor": 0
      },
      "text/plain": [
       "Validation:   0%|          | 0/53 [00:00<?, ?it/s]"
      ]
     },
     "metadata": {},
     "output_type": "display_data"
    },
    {
     "name": "stdout",
     "output_type": "stream",
     "text": [
      "02/04/2024, 00:04:53# Validation Loss: 0.1449 | Validation Accuracy: 0.9705\n",
      "\n",
      "02/04/2024, 00:04:53# Find a better model!!\n"
     ]
    },
    {
     "data": {
      "application/vnd.jupyter.widget-view+json": {
       "model_id": "f38b2c04ec5f433c8d8d85dbc47fb157",
       "version_major": 2,
       "version_minor": 0
      },
      "text/plain": [
       "Training:   0%|          | 0/423 [00:00<?, ?it/s]"
      ]
     },
     "metadata": {},
     "output_type": "display_data"
    },
    {
     "name": "stdout",
     "output_type": "stream",
     "text": [
      "02/04/2024, 00:07:11# total batches: 423\n",
      "02/04/2024, 00:07:11# Epoch 40 | Train Loss: 0.1361 | Train Accuracy: 0.9707\n"
     ]
    },
    {
     "data": {
      "application/vnd.jupyter.widget-view+json": {
       "model_id": "857fce1b162c439b976fd832cd037d38",
       "version_major": 2,
       "version_minor": 0
      },
      "text/plain": [
       "Validation:   0%|          | 0/53 [00:00<?, ?it/s]"
      ]
     },
     "metadata": {},
     "output_type": "display_data"
    },
    {
     "name": "stdout",
     "output_type": "stream",
     "text": [
      "02/04/2024, 00:07:26# Validation Loss: 0.1666 | Validation Accuracy: 0.9601\n",
      "\n"
     ]
    },
    {
     "data": {
      "application/vnd.jupyter.widget-view+json": {
       "model_id": "4e7f956f99d741f48773347c673087cb",
       "version_major": 2,
       "version_minor": 0
      },
      "text/plain": [
       "Training:   0%|          | 0/423 [00:00<?, ?it/s]"
      ]
     },
     "metadata": {},
     "output_type": "display_data"
    },
    {
     "name": "stdout",
     "output_type": "stream",
     "text": [
      "02/04/2024, 00:09:45# total batches: 423\n",
      "02/04/2024, 00:09:45# Epoch 41 | Train Loss: 0.1259 | Train Accuracy: 0.9729\n"
     ]
    },
    {
     "data": {
      "application/vnd.jupyter.widget-view+json": {
       "model_id": "cf0ef9ad746c41aabd3a0a32ce2cab96",
       "version_major": 2,
       "version_minor": 0
      },
      "text/plain": [
       "Validation:   0%|          | 0/53 [00:00<?, ?it/s]"
      ]
     },
     "metadata": {},
     "output_type": "display_data"
    },
    {
     "name": "stdout",
     "output_type": "stream",
     "text": [
      "02/04/2024, 00:10:00# Validation Loss: 0.1449 | Validation Accuracy: 0.9640\n",
      "\n"
     ]
    },
    {
     "data": {
      "application/vnd.jupyter.widget-view+json": {
       "model_id": "7087c37568a04813bcd83b6c597b5f78",
       "version_major": 2,
       "version_minor": 0
      },
      "text/plain": [
       "Training:   0%|          | 0/423 [00:00<?, ?it/s]"
      ]
     },
     "metadata": {},
     "output_type": "display_data"
    },
    {
     "name": "stdout",
     "output_type": "stream",
     "text": [
      "02/04/2024, 00:12:14# total batches: 423\n",
      "02/04/2024, 00:12:14# Epoch 42 | Train Loss: 0.1199 | Train Accuracy: 0.9739\n"
     ]
    },
    {
     "data": {
      "application/vnd.jupyter.widget-view+json": {
       "model_id": "35f57246459a43da8d054ed79ab5af39",
       "version_major": 2,
       "version_minor": 0
      },
      "text/plain": [
       "Validation:   0%|          | 0/53 [00:00<?, ?it/s]"
      ]
     },
     "metadata": {},
     "output_type": "display_data"
    },
    {
     "name": "stdout",
     "output_type": "stream",
     "text": [
      "02/04/2024, 00:12:29# Validation Loss: 0.1652 | Validation Accuracy: 0.9595\n",
      "\n"
     ]
    },
    {
     "data": {
      "application/vnd.jupyter.widget-view+json": {
       "model_id": "dc3fae550bb14711b1660c4009264929",
       "version_major": 2,
       "version_minor": 0
      },
      "text/plain": [
       "Training:   0%|          | 0/423 [00:00<?, ?it/s]"
      ]
     },
     "metadata": {},
     "output_type": "display_data"
    },
    {
     "name": "stdout",
     "output_type": "stream",
     "text": [
      "02/04/2024, 00:14:44# total batches: 423\n",
      "02/04/2024, 00:14:44# Epoch 43 | Train Loss: 0.1266 | Train Accuracy: 0.9724\n"
     ]
    },
    {
     "data": {
      "application/vnd.jupyter.widget-view+json": {
       "model_id": "95f35e8c0dc1478f9d2112d5bd066028",
       "version_major": 2,
       "version_minor": 0
      },
      "text/plain": [
       "Validation:   0%|          | 0/53 [00:00<?, ?it/s]"
      ]
     },
     "metadata": {},
     "output_type": "display_data"
    },
    {
     "name": "stdout",
     "output_type": "stream",
     "text": [
      "02/04/2024, 00:14:59# Validation Loss: 0.1385 | Validation Accuracy: 0.9660\n",
      "\n",
      "02/04/2024, 00:14:59# Find a better model!!\n"
     ]
    },
    {
     "data": {
      "application/vnd.jupyter.widget-view+json": {
       "model_id": "a94cab3fcdc04779a035e93434ae061d",
       "version_major": 2,
       "version_minor": 0
      },
      "text/plain": [
       "Training:   0%|          | 0/423 [00:00<?, ?it/s]"
      ]
     },
     "metadata": {},
     "output_type": "display_data"
    },
    {
     "name": "stdout",
     "output_type": "stream",
     "text": [
      "02/04/2024, 00:17:15# total batches: 423\n",
      "02/04/2024, 00:17:15# Epoch 44 | Train Loss: 0.1244 | Train Accuracy: 0.9722\n"
     ]
    },
    {
     "data": {
      "application/vnd.jupyter.widget-view+json": {
       "model_id": "5177917bfe5842b4877adcc255807609",
       "version_major": 2,
       "version_minor": 0
      },
      "text/plain": [
       "Validation:   0%|          | 0/53 [00:00<?, ?it/s]"
      ]
     },
     "metadata": {},
     "output_type": "display_data"
    },
    {
     "name": "stdout",
     "output_type": "stream",
     "text": [
      "02/04/2024, 00:17:29# Validation Loss: 0.1431 | Validation Accuracy: 0.9675\n",
      "\n"
     ]
    },
    {
     "data": {
      "application/vnd.jupyter.widget-view+json": {
       "model_id": "36f4b145c6db42a5acde2d18196f92af",
       "version_major": 2,
       "version_minor": 0
      },
      "text/plain": [
       "Training:   0%|          | 0/423 [00:00<?, ?it/s]"
      ]
     },
     "metadata": {},
     "output_type": "display_data"
    },
    {
     "name": "stdout",
     "output_type": "stream",
     "text": [
      "02/04/2024, 00:19:47# total batches: 423\n",
      "02/04/2024, 00:19:47# Epoch 45 | Train Loss: 0.1188 | Train Accuracy: 0.9738\n"
     ]
    },
    {
     "data": {
      "application/vnd.jupyter.widget-view+json": {
       "model_id": "42f858767750439e9a88374a2ccf36d1",
       "version_major": 2,
       "version_minor": 0
      },
      "text/plain": [
       "Validation:   0%|          | 0/53 [00:00<?, ?it/s]"
      ]
     },
     "metadata": {},
     "output_type": "display_data"
    },
    {
     "name": "stdout",
     "output_type": "stream",
     "text": [
      "02/04/2024, 00:20:02# Validation Loss: 0.1304 | Validation Accuracy: 0.9692\n",
      "\n",
      "02/04/2024, 00:20:02# Find a better model!!\n"
     ]
    },
    {
     "data": {
      "application/vnd.jupyter.widget-view+json": {
       "model_id": "1ddd58c8ce1e44b88d96420852de7197",
       "version_major": 2,
       "version_minor": 0
      },
      "text/plain": [
       "Training:   0%|          | 0/423 [00:00<?, ?it/s]"
      ]
     },
     "metadata": {},
     "output_type": "display_data"
    },
    {
     "name": "stdout",
     "output_type": "stream",
     "text": [
      "02/04/2024, 00:22:20# total batches: 423\n",
      "02/04/2024, 00:22:20# Epoch 46 | Train Loss: 0.1175 | Train Accuracy: 0.9741\n"
     ]
    },
    {
     "data": {
      "application/vnd.jupyter.widget-view+json": {
       "model_id": "e3a34b5c57d740c787a0969e2c62aac0",
       "version_major": 2,
       "version_minor": 0
      },
      "text/plain": [
       "Validation:   0%|          | 0/53 [00:00<?, ?it/s]"
      ]
     },
     "metadata": {},
     "output_type": "display_data"
    },
    {
     "name": "stdout",
     "output_type": "stream",
     "text": [
      "02/04/2024, 00:22:34# Validation Loss: 0.1360 | Validation Accuracy: 0.9664\n",
      "\n"
     ]
    },
    {
     "data": {
      "application/vnd.jupyter.widget-view+json": {
       "model_id": "b1bca097ecb5410ca217df90263679c2",
       "version_major": 2,
       "version_minor": 0
      },
      "text/plain": [
       "Training:   0%|          | 0/423 [00:00<?, ?it/s]"
      ]
     },
     "metadata": {},
     "output_type": "display_data"
    },
    {
     "name": "stdout",
     "output_type": "stream",
     "text": [
      "02/04/2024, 00:24:55# total batches: 423\n",
      "02/04/2024, 00:24:55# Epoch 47 | Train Loss: 0.1151 | Train Accuracy: 0.9747\n"
     ]
    },
    {
     "data": {
      "application/vnd.jupyter.widget-view+json": {
       "model_id": "274f9102844e45888b668109eb982924",
       "version_major": 2,
       "version_minor": 0
      },
      "text/plain": [
       "Validation:   0%|          | 0/53 [00:00<?, ?it/s]"
      ]
     },
     "metadata": {},
     "output_type": "display_data"
    },
    {
     "name": "stdout",
     "output_type": "stream",
     "text": [
      "02/04/2024, 00:25:10# Validation Loss: 0.1371 | Validation Accuracy: 0.9692\n",
      "\n"
     ]
    },
    {
     "data": {
      "application/vnd.jupyter.widget-view+json": {
       "model_id": "749f18eb2b5d426e8593b26574ea3985",
       "version_major": 2,
       "version_minor": 0
      },
      "text/plain": [
       "Training:   0%|          | 0/423 [00:00<?, ?it/s]"
      ]
     },
     "metadata": {},
     "output_type": "display_data"
    },
    {
     "name": "stdout",
     "output_type": "stream",
     "text": [
      "02/04/2024, 00:27:46# total batches: 423\n",
      "02/04/2024, 00:27:46# Epoch 48 | Train Loss: 0.1169 | Train Accuracy: 0.9741\n"
     ]
    },
    {
     "data": {
      "application/vnd.jupyter.widget-view+json": {
       "model_id": "3ab233229d8d496980d02f8c32e80b57",
       "version_major": 2,
       "version_minor": 0
      },
      "text/plain": [
       "Validation:   0%|          | 0/53 [00:00<?, ?it/s]"
      ]
     },
     "metadata": {},
     "output_type": "display_data"
    },
    {
     "name": "stdout",
     "output_type": "stream",
     "text": [
      "02/04/2024, 00:28:04# Validation Loss: 0.1601 | Validation Accuracy: 0.9618\n",
      "\n"
     ]
    },
    {
     "data": {
      "application/vnd.jupyter.widget-view+json": {
       "model_id": "3713160eb8924bbb94feb8edf564a032",
       "version_major": 2,
       "version_minor": 0
      },
      "text/plain": [
       "Training:   0%|          | 0/423 [00:00<?, ?it/s]"
      ]
     },
     "metadata": {},
     "output_type": "display_data"
    },
    {
     "name": "stdout",
     "output_type": "stream",
     "text": [
      "02/04/2024, 00:30:25# total batches: 423\n",
      "02/04/2024, 00:30:25# Epoch 49 | Train Loss: 0.1107 | Train Accuracy: 0.9752\n"
     ]
    },
    {
     "data": {
      "application/vnd.jupyter.widget-view+json": {
       "model_id": "e5a405d25b774a21b38351a565c7c782",
       "version_major": 2,
       "version_minor": 0
      },
      "text/plain": [
       "Validation:   0%|          | 0/53 [00:00<?, ?it/s]"
      ]
     },
     "metadata": {},
     "output_type": "display_data"
    },
    {
     "name": "stdout",
     "output_type": "stream",
     "text": [
      "02/04/2024, 00:30:40# Validation Loss: 0.1245 | Validation Accuracy: 0.9736\n",
      "\n",
      "02/04/2024, 00:30:40# Find a better model!!\n"
     ]
    },
    {
     "data": {
      "application/vnd.jupyter.widget-view+json": {
       "model_id": "6c68559be0b4431ca358eee368075dae",
       "version_major": 2,
       "version_minor": 0
      },
      "text/plain": [
       "Training:   0%|          | 0/423 [00:00<?, ?it/s]"
      ]
     },
     "metadata": {},
     "output_type": "display_data"
    },
    {
     "name": "stdout",
     "output_type": "stream",
     "text": [
      "02/04/2024, 00:33:31# total batches: 423\n",
      "02/04/2024, 00:33:31# Epoch 50 | Train Loss: 0.1119 | Train Accuracy: 0.9749\n"
     ]
    },
    {
     "data": {
      "application/vnd.jupyter.widget-view+json": {
       "model_id": "c91a09e6e88f4bc095370ec1e783b2f5",
       "version_major": 2,
       "version_minor": 0
      },
      "text/plain": [
       "Validation:   0%|          | 0/53 [00:00<?, ?it/s]"
      ]
     },
     "metadata": {},
     "output_type": "display_data"
    },
    {
     "name": "stdout",
     "output_type": "stream",
     "text": [
      "02/04/2024, 00:33:50# Validation Loss: 0.1351 | Validation Accuracy: 0.9698\n",
      "\n"
     ]
    },
    {
     "data": {
      "application/vnd.jupyter.widget-view+json": {
       "model_id": "986b8ecda7db44a98f56c26e92a530b9",
       "version_major": 2,
       "version_minor": 0
      },
      "text/plain": [
       "Training:   0%|          | 0/423 [00:00<?, ?it/s]"
      ]
     },
     "metadata": {},
     "output_type": "display_data"
    },
    {
     "name": "stdout",
     "output_type": "stream",
     "text": [
      "02/04/2024, 00:36:39# total batches: 423\n",
      "02/04/2024, 00:36:39# Epoch 51 | Train Loss: 0.1074 | Train Accuracy: 0.9759\n"
     ]
    },
    {
     "data": {
      "application/vnd.jupyter.widget-view+json": {
       "model_id": "f5f82bfae6154ecbbec9f62b298cc3dc",
       "version_major": 2,
       "version_minor": 0
      },
      "text/plain": [
       "Validation:   0%|          | 0/53 [00:00<?, ?it/s]"
      ]
     },
     "metadata": {},
     "output_type": "display_data"
    },
    {
     "name": "stdout",
     "output_type": "stream",
     "text": [
      "02/04/2024, 00:36:58# Validation Loss: 0.1160 | Validation Accuracy: 0.9695\n",
      "\n",
      "02/04/2024, 00:36:58# Find a better model!!\n"
     ]
    },
    {
     "data": {
      "application/vnd.jupyter.widget-view+json": {
       "model_id": "6105747cf72a437ab40c262c906c1dfa",
       "version_major": 2,
       "version_minor": 0
      },
      "text/plain": [
       "Training:   0%|          | 0/423 [00:00<?, ?it/s]"
      ]
     },
     "metadata": {},
     "output_type": "display_data"
    },
    {
     "name": "stdout",
     "output_type": "stream",
     "text": [
      "02/04/2024, 00:39:45# total batches: 423\n",
      "02/04/2024, 00:39:45# Epoch 52 | Train Loss: 0.1098 | Train Accuracy: 0.9755\n"
     ]
    },
    {
     "data": {
      "application/vnd.jupyter.widget-view+json": {
       "model_id": "8656a30bfaea4c208ced081c768f986f",
       "version_major": 2,
       "version_minor": 0
      },
      "text/plain": [
       "Validation:   0%|          | 0/53 [00:00<?, ?it/s]"
      ]
     },
     "metadata": {},
     "output_type": "display_data"
    },
    {
     "name": "stdout",
     "output_type": "stream",
     "text": [
      "02/04/2024, 00:40:05# Validation Loss: 0.1146 | Validation Accuracy: 0.9711\n",
      "\n",
      "02/04/2024, 00:40:05# Find a better model!!\n"
     ]
    },
    {
     "data": {
      "application/vnd.jupyter.widget-view+json": {
       "model_id": "d115b7e1c2a1497aa2a47395c441d7a0",
       "version_major": 2,
       "version_minor": 0
      },
      "text/plain": [
       "Training:   0%|          | 0/423 [00:00<?, ?it/s]"
      ]
     },
     "metadata": {},
     "output_type": "display_data"
    },
    {
     "name": "stdout",
     "output_type": "stream",
     "text": [
      "02/04/2024, 00:42:56# total batches: 423\n",
      "02/04/2024, 00:42:56# Epoch 53 | Train Loss: 0.1097 | Train Accuracy: 0.9751\n"
     ]
    },
    {
     "data": {
      "application/vnd.jupyter.widget-view+json": {
       "model_id": "5c3bad80329642798936c2287f71ad49",
       "version_major": 2,
       "version_minor": 0
      },
      "text/plain": [
       "Validation:   0%|          | 0/53 [00:00<?, ?it/s]"
      ]
     },
     "metadata": {},
     "output_type": "display_data"
    },
    {
     "name": "stdout",
     "output_type": "stream",
     "text": [
      "02/04/2024, 00:43:14# Validation Loss: 0.1545 | Validation Accuracy: 0.9626\n",
      "\n"
     ]
    },
    {
     "data": {
      "application/vnd.jupyter.widget-view+json": {
       "model_id": "0f09306f2217478d8bc5c99d41b0cfd4",
       "version_major": 2,
       "version_minor": 0
      },
      "text/plain": [
       "Training:   0%|          | 0/423 [00:00<?, ?it/s]"
      ]
     },
     "metadata": {},
     "output_type": "display_data"
    },
    {
     "name": "stdout",
     "output_type": "stream",
     "text": [
      "02/04/2024, 00:46:06# total batches: 423\n",
      "02/04/2024, 00:46:06# Epoch 54 | Train Loss: 0.1004 | Train Accuracy: 0.9770\n"
     ]
    },
    {
     "data": {
      "application/vnd.jupyter.widget-view+json": {
       "model_id": "a1ec977e509c45e5b193742223734d13",
       "version_major": 2,
       "version_minor": 0
      },
      "text/plain": [
       "Validation:   0%|          | 0/53 [00:00<?, ?it/s]"
      ]
     },
     "metadata": {},
     "output_type": "display_data"
    },
    {
     "name": "stdout",
     "output_type": "stream",
     "text": [
      "02/04/2024, 00:46:25# Validation Loss: 0.1329 | Validation Accuracy: 0.9646\n",
      "\n"
     ]
    },
    {
     "data": {
      "application/vnd.jupyter.widget-view+json": {
       "model_id": "14f45bd02a064aa7af10d20861eaecc3",
       "version_major": 2,
       "version_minor": 0
      },
      "text/plain": [
       "Training:   0%|          | 0/423 [00:00<?, ?it/s]"
      ]
     },
     "metadata": {},
     "output_type": "display_data"
    },
    {
     "name": "stdout",
     "output_type": "stream",
     "text": [
      "02/04/2024, 00:49:14# total batches: 423\n",
      "02/04/2024, 00:49:14# Epoch 55 | Train Loss: 0.0967 | Train Accuracy: 0.9781\n"
     ]
    },
    {
     "data": {
      "application/vnd.jupyter.widget-view+json": {
       "model_id": "8ba75287ca2b4463aafdbd626989989b",
       "version_major": 2,
       "version_minor": 0
      },
      "text/plain": [
       "Validation:   0%|          | 0/53 [00:00<?, ?it/s]"
      ]
     },
     "metadata": {},
     "output_type": "display_data"
    },
    {
     "name": "stdout",
     "output_type": "stream",
     "text": [
      "02/04/2024, 00:49:32# Validation Loss: 0.1133 | Validation Accuracy: 0.9716\n",
      "\n",
      "02/04/2024, 00:49:32# Find a better model!!\n"
     ]
    },
    {
     "data": {
      "application/vnd.jupyter.widget-view+json": {
       "model_id": "772764d90525453e98f7c4957abd8960",
       "version_major": 2,
       "version_minor": 0
      },
      "text/plain": [
       "Training:   0%|          | 0/423 [00:00<?, ?it/s]"
      ]
     },
     "metadata": {},
     "output_type": "display_data"
    },
    {
     "name": "stdout",
     "output_type": "stream",
     "text": [
      "02/04/2024, 00:52:18# total batches: 423\n",
      "02/04/2024, 00:52:18# Epoch 56 | Train Loss: 0.1028 | Train Accuracy: 0.9767\n"
     ]
    },
    {
     "data": {
      "application/vnd.jupyter.widget-view+json": {
       "model_id": "88a01964877b42bf9a18be578a25f0d3",
       "version_major": 2,
       "version_minor": 0
      },
      "text/plain": [
       "Validation:   0%|          | 0/53 [00:00<?, ?it/s]"
      ]
     },
     "metadata": {},
     "output_type": "display_data"
    },
    {
     "name": "stdout",
     "output_type": "stream",
     "text": [
      "02/04/2024, 00:52:36# Validation Loss: 0.1324 | Validation Accuracy: 0.9676\n",
      "\n"
     ]
    },
    {
     "data": {
      "application/vnd.jupyter.widget-view+json": {
       "model_id": "9184ee881f3f4c9899902b0c743d9743",
       "version_major": 2,
       "version_minor": 0
      },
      "text/plain": [
       "Training:   0%|          | 0/423 [00:00<?, ?it/s]"
      ]
     },
     "metadata": {},
     "output_type": "display_data"
    },
    {
     "name": "stdout",
     "output_type": "stream",
     "text": [
      "02/04/2024, 00:55:22# total batches: 423\n",
      "02/04/2024, 00:55:22# Epoch 57 | Train Loss: 0.0969 | Train Accuracy: 0.9775\n"
     ]
    },
    {
     "data": {
      "application/vnd.jupyter.widget-view+json": {
       "model_id": "fa1c579285d14e9fb340774926c267f0",
       "version_major": 2,
       "version_minor": 0
      },
      "text/plain": [
       "Validation:   0%|          | 0/53 [00:00<?, ?it/s]"
      ]
     },
     "metadata": {},
     "output_type": "display_data"
    },
    {
     "name": "stdout",
     "output_type": "stream",
     "text": [
      "02/04/2024, 00:55:40# Validation Loss: 0.1239 | Validation Accuracy: 0.9705\n",
      "\n"
     ]
    },
    {
     "data": {
      "application/vnd.jupyter.widget-view+json": {
       "model_id": "f35b921b360b4d48b1d464f969209428",
       "version_major": 2,
       "version_minor": 0
      },
      "text/plain": [
       "Training:   0%|          | 0/423 [00:00<?, ?it/s]"
      ]
     },
     "metadata": {},
     "output_type": "display_data"
    },
    {
     "name": "stdout",
     "output_type": "stream",
     "text": [
      "02/04/2024, 00:58:36# total batches: 423\n",
      "02/04/2024, 00:58:36# Epoch 58 | Train Loss: 0.0938 | Train Accuracy: 0.9783\n"
     ]
    },
    {
     "data": {
      "application/vnd.jupyter.widget-view+json": {
       "model_id": "e49845e9492d49f3add8eb7061c0c43a",
       "version_major": 2,
       "version_minor": 0
      },
      "text/plain": [
       "Validation:   0%|          | 0/53 [00:00<?, ?it/s]"
      ]
     },
     "metadata": {},
     "output_type": "display_data"
    },
    {
     "name": "stdout",
     "output_type": "stream",
     "text": [
      "02/04/2024, 00:58:55# Validation Loss: 0.1043 | Validation Accuracy: 0.9776\n",
      "\n",
      "02/04/2024, 00:58:55# Find a better model!!\n"
     ]
    },
    {
     "data": {
      "application/vnd.jupyter.widget-view+json": {
       "model_id": "33ec9cbb9b3a4647930d04df1b136e57",
       "version_major": 2,
       "version_minor": 0
      },
      "text/plain": [
       "Training:   0%|          | 0/423 [00:00<?, ?it/s]"
      ]
     },
     "metadata": {},
     "output_type": "display_data"
    },
    {
     "name": "stdout",
     "output_type": "stream",
     "text": [
      "02/04/2024, 01:01:46# total batches: 423\n",
      "02/04/2024, 01:01:46# Epoch 59 | Train Loss: 0.0975 | Train Accuracy: 0.9778\n"
     ]
    },
    {
     "data": {
      "application/vnd.jupyter.widget-view+json": {
       "model_id": "5911d952587b414887e18c6bf3d75f75",
       "version_major": 2,
       "version_minor": 0
      },
      "text/plain": [
       "Validation:   0%|          | 0/53 [00:00<?, ?it/s]"
      ]
     },
     "metadata": {},
     "output_type": "display_data"
    },
    {
     "name": "stdout",
     "output_type": "stream",
     "text": [
      "02/04/2024, 01:02:04# Validation Loss: 0.1458 | Validation Accuracy: 0.9644\n",
      "\n"
     ]
    },
    {
     "data": {
      "application/vnd.jupyter.widget-view+json": {
       "model_id": "ea166eb1c3b94e8f807ebcd8ea0d351a",
       "version_major": 2,
       "version_minor": 0
      },
      "text/plain": [
       "Training:   0%|          | 0/423 [00:00<?, ?it/s]"
      ]
     },
     "metadata": {},
     "output_type": "display_data"
    },
    {
     "name": "stdout",
     "output_type": "stream",
     "text": [
      "02/04/2024, 01:04:54# total batches: 423\n",
      "02/04/2024, 01:04:54# Epoch 60 | Train Loss: 0.1003 | Train Accuracy: 0.9771\n"
     ]
    },
    {
     "data": {
      "application/vnd.jupyter.widget-view+json": {
       "model_id": "ee2b1fe67dda47f489dce0ed6f565c26",
       "version_major": 2,
       "version_minor": 0
      },
      "text/plain": [
       "Validation:   0%|          | 0/53 [00:00<?, ?it/s]"
      ]
     },
     "metadata": {},
     "output_type": "display_data"
    },
    {
     "name": "stdout",
     "output_type": "stream",
     "text": [
      "02/04/2024, 01:05:12# Validation Loss: 0.0945 | Validation Accuracy: 0.9801\n",
      "\n",
      "02/04/2024, 01:05:12# Find a better model!!\n"
     ]
    },
    {
     "data": {
      "application/vnd.jupyter.widget-view+json": {
       "model_id": "7ffac2b03678428aab51045c166fd5e7",
       "version_major": 2,
       "version_minor": 0
      },
      "text/plain": [
       "Training:   0%|          | 0/423 [00:00<?, ?it/s]"
      ]
     },
     "metadata": {},
     "output_type": "display_data"
    },
    {
     "name": "stdout",
     "output_type": "stream",
     "text": [
      "02/04/2024, 01:07:59# total batches: 423\n",
      "02/04/2024, 01:07:59# Epoch 61 | Train Loss: 0.0901 | Train Accuracy: 0.9791\n"
     ]
    },
    {
     "data": {
      "application/vnd.jupyter.widget-view+json": {
       "model_id": "1374f630b87b4342b572ceb86ba25515",
       "version_major": 2,
       "version_minor": 0
      },
      "text/plain": [
       "Validation:   0%|          | 0/53 [00:00<?, ?it/s]"
      ]
     },
     "metadata": {},
     "output_type": "display_data"
    },
    {
     "name": "stdout",
     "output_type": "stream",
     "text": [
      "02/04/2024, 01:08:16# Validation Loss: 0.1015 | Validation Accuracy: 0.9772\n",
      "\n"
     ]
    },
    {
     "data": {
      "application/vnd.jupyter.widget-view+json": {
       "model_id": "bdfa6ebe32904bf89e083721d2bd1a28",
       "version_major": 2,
       "version_minor": 0
      },
      "text/plain": [
       "Training:   0%|          | 0/423 [00:00<?, ?it/s]"
      ]
     },
     "metadata": {},
     "output_type": "display_data"
    },
    {
     "name": "stdout",
     "output_type": "stream",
     "text": [
      "02/04/2024, 01:11:04# total batches: 423\n",
      "02/04/2024, 01:11:04# Epoch 62 | Train Loss: 0.0882 | Train Accuracy: 0.9795\n"
     ]
    },
    {
     "data": {
      "application/vnd.jupyter.widget-view+json": {
       "model_id": "e0f05b9448be47329002cf9cb3182f69",
       "version_major": 2,
       "version_minor": 0
      },
      "text/plain": [
       "Validation:   0%|          | 0/53 [00:00<?, ?it/s]"
      ]
     },
     "metadata": {},
     "output_type": "display_data"
    },
    {
     "name": "stdout",
     "output_type": "stream",
     "text": [
      "02/04/2024, 01:11:22# Validation Loss: 0.1171 | Validation Accuracy: 0.9706\n",
      "\n"
     ]
    },
    {
     "data": {
      "application/vnd.jupyter.widget-view+json": {
       "model_id": "3009a08a76b64c569e4237ca4f565b00",
       "version_major": 2,
       "version_minor": 0
      },
      "text/plain": [
       "Training:   0%|          | 0/423 [00:00<?, ?it/s]"
      ]
     },
     "metadata": {},
     "output_type": "display_data"
    },
    {
     "name": "stdout",
     "output_type": "stream",
     "text": [
      "02/04/2024, 01:14:07# total batches: 423\n",
      "02/04/2024, 01:14:07# Epoch 63 | Train Loss: 0.0947 | Train Accuracy: 0.9783\n"
     ]
    },
    {
     "data": {
      "application/vnd.jupyter.widget-view+json": {
       "model_id": "a0edd68ddc174e84b6514c14751ad93d",
       "version_major": 2,
       "version_minor": 0
      },
      "text/plain": [
       "Validation:   0%|          | 0/53 [00:00<?, ?it/s]"
      ]
     },
     "metadata": {},
     "output_type": "display_data"
    },
    {
     "name": "stdout",
     "output_type": "stream",
     "text": [
      "02/04/2024, 01:14:26# Validation Loss: 0.1060 | Validation Accuracy: 0.9691\n",
      "\n"
     ]
    },
    {
     "data": {
      "application/vnd.jupyter.widget-view+json": {
       "model_id": "545e126e930a42c7999efaf4bfbeb5da",
       "version_major": 2,
       "version_minor": 0
      },
      "text/plain": [
       "Training:   0%|          | 0/423 [00:00<?, ?it/s]"
      ]
     },
     "metadata": {},
     "output_type": "display_data"
    },
    {
     "name": "stdout",
     "output_type": "stream",
     "text": [
      "02/04/2024, 01:17:18# total batches: 423\n",
      "02/04/2024, 01:17:18# Epoch 64 | Train Loss: 0.0861 | Train Accuracy: 0.9799\n"
     ]
    },
    {
     "data": {
      "application/vnd.jupyter.widget-view+json": {
       "model_id": "56653c6fc2894c05b4bb48d97c2aea94",
       "version_major": 2,
       "version_minor": 0
      },
      "text/plain": [
       "Validation:   0%|          | 0/53 [00:00<?, ?it/s]"
      ]
     },
     "metadata": {},
     "output_type": "display_data"
    },
    {
     "name": "stdout",
     "output_type": "stream",
     "text": [
      "02/04/2024, 01:17:36# Validation Loss: 0.1057 | Validation Accuracy: 0.9748\n",
      "\n"
     ]
    },
    {
     "data": {
      "application/vnd.jupyter.widget-view+json": {
       "model_id": "55fd3826018943cc9fb0a116700d1f38",
       "version_major": 2,
       "version_minor": 0
      },
      "text/plain": [
       "Training:   0%|          | 0/423 [00:00<?, ?it/s]"
      ]
     },
     "metadata": {},
     "output_type": "display_data"
    },
    {
     "name": "stdout",
     "output_type": "stream",
     "text": [
      "02/04/2024, 01:20:24# total batches: 423\n",
      "02/04/2024, 01:20:24# Epoch 65 | Train Loss: 0.0863 | Train Accuracy: 0.9799\n"
     ]
    },
    {
     "data": {
      "application/vnd.jupyter.widget-view+json": {
       "model_id": "5a1961e8934a480cb4213f242493b6db",
       "version_major": 2,
       "version_minor": 0
      },
      "text/plain": [
       "Validation:   0%|          | 0/53 [00:00<?, ?it/s]"
      ]
     },
     "metadata": {},
     "output_type": "display_data"
    },
    {
     "name": "stdout",
     "output_type": "stream",
     "text": [
      "02/04/2024, 01:20:43# Validation Loss: 0.0958 | Validation Accuracy: 0.9787\n",
      "\n",
      "02/04/2024, 01:20:43# ============================== Early stopping ==================================\n"
     ]
    }
   ],
   "source": [
    "same_seeds(seed)\n",
    "model = model.to(device)\n",
    "best_val_loss = float('inf')\n",
    "\n",
    "# Training Part\n",
    "for epoch in tqdm(range(total_steps)):\n",
    "    # Train\n",
    "    model.train()\n",
    "    total_loss = 0.0\n",
    "    total_accuracy = 0.0\n",
    "    num_batches = 0\n",
    "    \n",
    "    for batched_g in tqdm(dataloaders['train'], desc=\"Training\", position=0, leave=True):\n",
    "        num_batches += 1\n",
    "        loss, accuracy, _ = model_fn(batched_g, model, criterion, device, num_batches, which_type='train')\n",
    "        \n",
    "        optimizer.zero_grad()\n",
    "        loss.backward()\n",
    "        optimizer.step()\n",
    "\n",
    "        total_loss += loss.item()\n",
    "        total_accuracy += accuracy.item()\n",
    "\n",
    "    # scheduler affect the performance a lot\n",
    "    # scheduler.step()\n",
    "    add_log_msg(f\"total batches: {num_batches}\")\n",
    "\n",
    "    avg_loss = total_loss / num_batches\n",
    "    avg_accuracy = total_accuracy / num_batches\n",
    "\n",
    "    add_log_msg(f'Epoch {epoch} | Train Loss: {avg_loss:.4f} | Train Accuracy: {avg_accuracy:.4f}')\n",
    "\n",
    "    \n",
    "    # Validation Part\n",
    "    model.eval()\n",
    "    total_accuracy = 0.0\n",
    "    total_loss = 0.0\n",
    "    num_batches = 0\n",
    "\n",
    "\n",
    "    with torch.no_grad():\n",
    "        for batched_g in tqdm(dataloaders['valid'], desc=\"Validation\", position=0, leave=True):\n",
    "            loss, accuracy, _ = model_fn(batched_g, model, criterion, device, num_batches, which_type='validation')\n",
    "            total_accuracy += accuracy.item()\n",
    "            total_loss += loss.item()\n",
    "            num_batches += 1\n",
    "\n",
    "    avg_accuracy = total_accuracy / num_batches\n",
    "    current_loss = total_loss / num_batches\n",
    "    \n",
    "    add_log_msg(f'Validation Loss: {current_loss:.4f} | Validation Accuracy: {avg_accuracy:.4f}\\n')\n",
    "    \n",
    "            \n",
    "    if current_loss < best_val_loss:\n",
    "        best_val_loss = current_loss\n",
    "        waiting = 0\n",
    "        \n",
    "        if os.path.exists(best_model_path):\n",
    "            os.remove(best_model_path)\n",
    "            add_log_msg(\"Find a better model!!\")\n",
    "\n",
    "        torch.save(model.state_dict(), best_model_path)\n",
    " \n",
    "    else:\n",
    "        waiting += 1\n",
    "        if waiting >= patience:\n",
    "            add_log_msg(\"============================== Early stopping ==================================\")\n",
    "            break"
   ]
  },
  {
   "cell_type": "markdown",
   "metadata": {},
   "source": [
    "### test of valid and test part is ``graph``"
   ]
  },
  {
   "cell_type": "markdown",
   "metadata": {},
   "source": [
    "- 60 APs in training x 10000times\n",
    "- 5 APs in validation x 4 times\n",
    "- 3 APs in test x 4 times\n",
    "- Batch size = 4"
   ]
  },
  {
   "cell_type": "code",
   "execution_count": 51,
   "metadata": {
    "scrolled": true
   },
   "outputs": [
    {
     "data": {
      "application/vnd.jupyter.widget-view+json": {
       "model_id": "f13527b21b8a499da08202ab01c886e7",
       "version_major": 2,
       "version_minor": 0
      },
      "text/plain": [
       "Testing:   0%|          | 0/53 [00:00<?, ?it/s]"
      ]
     },
     "metadata": {},
     "output_type": "display_data"
    },
    {
     "name": "stdout",
     "output_type": "stream",
     "text": [
      "02/04/2024, 01:20:44# labels: tensor([248, 248, 248,  ..., 248, 248, 248], device='cuda:0') torch.Size([11896])\n",
      "02/04/2024, 01:20:44# predicted: tensor([248, 248, 248,  ..., 248, 248, 248], device='cuda:0') torch.Size([11896])\n",
      "02/04/2024, 01:21:04# Test Accuracy: 95.84972005882635 %\n",
      "\n",
      "\n",
      "\n"
     ]
    }
   ],
   "source": [
    "# load the pretrained model\n",
    "# pretrained_model_path = './checkpoint_graphSAGE/best_model_GraphSAGE_transE_50.pt'\n",
    "model.load_state_dict(torch.load(best_model_path))\n",
    "\n",
    "model.to(device)\n",
    "model.eval()\n",
    "\n",
    "total = 0\n",
    "correct = 0\n",
    "count = 0\n",
    "\n",
    "true_labels = []\n",
    "predicted_labels = []\n",
    "\n",
    "with torch.no_grad():\n",
    "    for batched_g in tqdm(dataloaders['test'], desc=\"Testing\", position=0, leave=True):\n",
    "#         print(f\"data:{data[1]}\")\n",
    "        loss, accuracy, predicted = model_fn(batched_g, model, criterion, device, count, which_type='test')\n",
    "        labels = batched_g.edata['label'].to(device)\n",
    "        \n",
    "        true_labels.extend(labels.cpu().numpy())\n",
    "        predicted_labels.extend(predicted.cpu().numpy())\n",
    "        \n",
    "        if count % 5000 == 0:\n",
    "            add_log_msg(f\"labels: {labels} {labels.shape}\")\n",
    "            add_log_msg(f\"predicted: {predicted} {predicted.shape}\")\n",
    "            \n",
    "        count += 1\n",
    "        \n",
    "        total += labels.size(0)\n",
    "        correct += (predicted == labels).sum().item()\n",
    "\n",
    "add_log_msg(f'Test Accuracy: {100 * correct / total} %\\n\\n\\n')"
   ]
  },
  {
   "cell_type": "code",
   "execution_count": 54,
   "metadata": {},
   "outputs": [
    {
     "name": "stderr",
     "output_type": "stream",
     "text": [
      "/media/Raid6_disk/bai/anaconda3/envs/DGL/lib/python3.10/site-packages/sklearn/metrics/_classification.py:1497: UndefinedMetricWarning: Precision is ill-defined and being set to 0.0 in labels with no predicted samples. Use `zero_division` parameter to control this behavior.\n",
      "  _warn_prf(average, modifier, f\"{metric.capitalize()} is\", len(result))\n",
      "/media/Raid6_disk/bai/anaconda3/envs/DGL/lib/python3.10/site-packages/sklearn/metrics/_classification.py:1497: UndefinedMetricWarning: Precision is ill-defined and being set to 0.0 in labels with no predicted samples. Use `zero_division` parameter to control this behavior.\n",
      "  _warn_prf(average, modifier, f\"{metric.capitalize()} is\", len(result))\n",
      "/media/Raid6_disk/bai/anaconda3/envs/DGL/lib/python3.10/site-packages/sklearn/metrics/_classification.py:1497: UndefinedMetricWarning: Precision is ill-defined and being set to 0.0 in labels with no predicted samples. Use `zero_division` parameter to control this behavior.\n",
      "  _warn_prf(average, modifier, f\"{metric.capitalize()} is\", len(result))\n"
     ]
    },
    {
     "data": {
      "text/html": [
       "<div>\n",
       "<style scoped>\n",
       "    .dataframe tbody tr th:only-of-type {\n",
       "        vertical-align: middle;\n",
       "    }\n",
       "\n",
       "    .dataframe tbody tr th {\n",
       "        vertical-align: top;\n",
       "    }\n",
       "\n",
       "    .dataframe thead th {\n",
       "        text-align: right;\n",
       "    }\n",
       "</style>\n",
       "<table border=\"1\" class=\"dataframe\">\n",
       "  <thead>\n",
       "    <tr style=\"text-align: right;\">\n",
       "      <th></th>\n",
       "      <th>label</th>\n",
       "      <th>precision</th>\n",
       "      <th>recall</th>\n",
       "      <th>f1-score</th>\n",
       "      <th>support</th>\n",
       "    </tr>\n",
       "  </thead>\n",
       "  <tbody>\n",
       "    <tr>\n",
       "      <th>0</th>\n",
       "      <td>T1059.001_702bfdd2-9947-4eda-b551-c3a1ea9a59a2_B</td>\n",
       "      <td>0.000000</td>\n",
       "      <td>0.000000</td>\n",
       "      <td>0.000000</td>\n",
       "      <td>16.000000</td>\n",
       "    </tr>\n",
       "    <tr>\n",
       "      <th>1</th>\n",
       "      <td>T1078.001_d0ca00832890baa1d42322cf70fcab1a_B</td>\n",
       "      <td>0.812500</td>\n",
       "      <td>1.000000</td>\n",
       "      <td>0.896552</td>\n",
       "      <td>13.000000</td>\n",
       "    </tr>\n",
       "    <tr>\n",
       "      <th>2</th>\n",
       "      <td>T1074.001_e6dfc7e89359ac6fa6de84b0e1d5762e_B</td>\n",
       "      <td>0.000000</td>\n",
       "      <td>0.000000</td>\n",
       "      <td>0.000000</td>\n",
       "      <td>25.000000</td>\n",
       "    </tr>\n",
       "    <tr>\n",
       "      <th>3</th>\n",
       "      <td>T1491_68235976-2404-42a8-9105-68230cfef562_B</td>\n",
       "      <td>0.333333</td>\n",
       "      <td>0.055556</td>\n",
       "      <td>0.095238</td>\n",
       "      <td>18.000000</td>\n",
       "    </tr>\n",
       "    <tr>\n",
       "      <th>4</th>\n",
       "      <td>T1016_14a21534-350f-4d83-9dd7-3c56b93a0c17_B</td>\n",
       "      <td>1.000000</td>\n",
       "      <td>1.000000</td>\n",
       "      <td>1.000000</td>\n",
       "      <td>27.000000</td>\n",
       "    </tr>\n",
       "    <tr>\n",
       "      <th>...</th>\n",
       "      <td>...</td>\n",
       "      <td>...</td>\n",
       "      <td>...</td>\n",
       "      <td>...</td>\n",
       "      <td>...</td>\n",
       "    </tr>\n",
       "    <tr>\n",
       "      <th>276</th>\n",
       "      <td>T1003.003_9f73269695e54311dd61dc68940fb3e1_B</td>\n",
       "      <td>0.928571</td>\n",
       "      <td>1.000000</td>\n",
       "      <td>0.962963</td>\n",
       "      <td>13.000000</td>\n",
       "    </tr>\n",
       "    <tr>\n",
       "      <th>277</th>\n",
       "      <td>T1547.001_163b023f43aba758d36f524d146cb8ea_B</td>\n",
       "      <td>0.000000</td>\n",
       "      <td>0.000000</td>\n",
       "      <td>0.000000</td>\n",
       "      <td>25.000000</td>\n",
       "    </tr>\n",
       "    <tr>\n",
       "      <th>278</th>\n",
       "      <td>accuracy</td>\n",
       "      <td>0.958497</td>\n",
       "      <td>0.958497</td>\n",
       "      <td>0.958497</td>\n",
       "      <td>0.958497</td>\n",
       "    </tr>\n",
       "    <tr>\n",
       "      <th>279</th>\n",
       "      <td>macro avg</td>\n",
       "      <td>0.518653</td>\n",
       "      <td>0.510898</td>\n",
       "      <td>0.502995</td>\n",
       "      <td>813921.000000</td>\n",
       "    </tr>\n",
       "    <tr>\n",
       "      <th>280</th>\n",
       "      <td>weighted avg</td>\n",
       "      <td>0.956726</td>\n",
       "      <td>0.958497</td>\n",
       "      <td>0.957160</td>\n",
       "      <td>813921.000000</td>\n",
       "    </tr>\n",
       "  </tbody>\n",
       "</table>\n",
       "<p>281 rows × 5 columns</p>\n",
       "</div>"
      ],
      "text/plain": [
       "                                                label  precision    recall  \\\n",
       "0    T1059.001_702bfdd2-9947-4eda-b551-c3a1ea9a59a2_B   0.000000  0.000000   \n",
       "1        T1078.001_d0ca00832890baa1d42322cf70fcab1a_B   0.812500  1.000000   \n",
       "2        T1074.001_e6dfc7e89359ac6fa6de84b0e1d5762e_B   0.000000  0.000000   \n",
       "3        T1491_68235976-2404-42a8-9105-68230cfef562_B   0.333333  0.055556   \n",
       "4        T1016_14a21534-350f-4d83-9dd7-3c56b93a0c17_B   1.000000  1.000000   \n",
       "..                                                ...        ...       ...   \n",
       "276      T1003.003_9f73269695e54311dd61dc68940fb3e1_B   0.928571  1.000000   \n",
       "277      T1547.001_163b023f43aba758d36f524d146cb8ea_B   0.000000  0.000000   \n",
       "278                                          accuracy   0.958497  0.958497   \n",
       "279                                         macro avg   0.518653  0.510898   \n",
       "280                                      weighted avg   0.956726  0.958497   \n",
       "\n",
       "     f1-score        support  \n",
       "0    0.000000      16.000000  \n",
       "1    0.896552      13.000000  \n",
       "2    0.000000      25.000000  \n",
       "3    0.095238      18.000000  \n",
       "4    1.000000      27.000000  \n",
       "..        ...            ...  \n",
       "276  0.962963      13.000000  \n",
       "277  0.000000      25.000000  \n",
       "278  0.958497       0.958497  \n",
       "279  0.502995  813921.000000  \n",
       "280  0.957160  813921.000000  \n",
       "\n",
       "[281 rows x 5 columns]"
      ]
     },
     "execution_count": 54,
     "metadata": {},
     "output_type": "execute_result"
    }
   ],
   "source": [
    "report_data = classification_report(true_labels, predicted_labels, output_dict=True)\n",
    "report_df = pd.DataFrame(report_data).transpose()\n",
    "\n",
    "output_path = \"./result\"\n",
    "if not os.path.isdir(output_path):\n",
    "    os.makedirs(output_path)\n",
    "    \n",
    "report_df.reset_index(inplace=True, names='label')\n",
    "\n",
    "label_list = []\n",
    "for idx, row in report_df.iterrows():\n",
    "    if row[\"label\"].isdigit():\n",
    "        row[\"label\"] = index2label[int(row[\"label\"])]\n",
    "    label_list.append(row[\"label\"])\n",
    "report_df[\"label\"] = label_list\n",
    "\n",
    "# report_df.to_csv(f'{output_path}/result_{embedding}.csv', index=False)\n",
    "# print(\"report output at: \", f'{output_path}/result_{embedding}.csv')\n",
    "\n",
    "report_df"
   ]
  },
  {
   "cell_type": "code",
   "execution_count": null,
   "metadata": {},
   "outputs": [],
   "source": []
  },
  {
   "cell_type": "code",
   "execution_count": null,
   "metadata": {},
   "outputs": [],
   "source": []
  },
  {
   "cell_type": "markdown",
   "metadata": {
    "jp-MarkdownHeadingCollapsed": true
   },
   "source": [
    "### Training"
   ]
  },
  {
   "cell_type": "markdown",
   "metadata": {},
   "source": [
    "- Fix the seed and save the model.state_dict that contains the initial weight"
   ]
  },
  {
   "cell_type": "code",
   "execution_count": 36,
   "metadata": {},
   "outputs": [],
   "source": [
    "seed = 8787\n",
    "same_seeds(seed)\n",
    "\n",
    "model = Model(in_features=50, hidden_features=64, out_features=128, num_classes=167)\n",
    "torch.save(model.state_dict(), 'model3_initial(graphsage)/initial_weight.pth')"
   ]
  },
  {
   "cell_type": "code",
   "execution_count": 69,
   "metadata": {},
   "outputs": [
    {
     "data": {
      "text/plain": [
       "Parameter containing:\n",
       "tensor([[ 0.0181, -0.0857,  0.1973,  ...,  0.2417,  0.2702, -0.3041],\n",
       "        [-0.0768, -0.2723, -0.2001,  ...,  0.2989, -0.1387, -0.1940],\n",
       "        [ 0.2582, -0.0822,  0.3086,  ..., -0.0257, -0.1119, -0.0335],\n",
       "        ...,\n",
       "        [ 0.2274, -0.0411, -0.0334,  ..., -0.1679,  0.2455,  0.2424],\n",
       "        [ 0.1375,  0.2813,  0.0775,  ...,  0.1337,  0.2065,  0.2618],\n",
       "        [-0.0951,  0.1010, -0.2586,  ..., -0.1242, -0.0631,  0.0924]],\n",
       "       requires_grad=True)"
      ]
     },
     "execution_count": 69,
     "metadata": {},
     "output_type": "execute_result"
    }
   ],
   "source": [
    "# model.layer1.fc_self.weight\n",
    "model.sage.layer1.fc_self.weight"
   ]
  },
  {
   "cell_type": "markdown",
   "metadata": {},
   "source": [
    "- Check if model really load the model_dict"
   ]
  },
  {
   "cell_type": "code",
   "execution_count": 70,
   "metadata": {},
   "outputs": [
    {
     "data": {
      "text/plain": [
       "Parameter containing:\n",
       "tensor([[ 0.0181, -0.0857,  0.1973,  ...,  0.2417,  0.2702, -0.3041],\n",
       "        [-0.0768, -0.2723, -0.2001,  ...,  0.2989, -0.1387, -0.1940],\n",
       "        [ 0.2582, -0.0822,  0.3086,  ..., -0.0257, -0.1119, -0.0335],\n",
       "        ...,\n",
       "        [ 0.2274, -0.0411, -0.0334,  ..., -0.1679,  0.2455,  0.2424],\n",
       "        [ 0.1375,  0.2813,  0.0775,  ...,  0.1337,  0.2065,  0.2618],\n",
       "        [-0.0951,  0.1010, -0.2586,  ..., -0.1242, -0.0631,  0.0924]],\n",
       "       requires_grad=True)"
      ]
     },
     "execution_count": 70,
     "metadata": {},
     "output_type": "execute_result"
    }
   ],
   "source": [
    "model = Model(in_features=50, hidden_features=64, out_features=128, num_classes=167)\n",
    "model.load_state_dict(torch.load('model3_initial(graphsage)/initial_weight.pth'))\n",
    "model.sage.layer1.fc_self.weight"
   ]
  },
  {
   "cell_type": "code",
   "execution_count": null,
   "metadata": {},
   "outputs": [],
   "source": []
  },
  {
   "cell_type": "code",
   "execution_count": null,
   "metadata": {},
   "outputs": [],
   "source": []
  }
 ],
 "metadata": {
  "kernelspec": {
   "display_name": "Python 3 (ipykernel)",
   "language": "python",
   "name": "python3"
  },
  "language_info": {
   "codemirror_mode": {
    "name": "ipython",
    "version": 3
   },
   "file_extension": ".py",
   "mimetype": "text/x-python",
   "name": "python",
   "nbconvert_exporter": "python",
   "pygments_lexer": "ipython3",
   "version": "3.10.13"
  }
 },
 "nbformat": 4,
 "nbformat_minor": 4
}
