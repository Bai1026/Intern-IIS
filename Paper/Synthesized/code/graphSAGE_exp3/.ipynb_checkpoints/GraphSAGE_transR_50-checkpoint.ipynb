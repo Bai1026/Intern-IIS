{
 "cells": [
  {
   "cell_type": "markdown",
   "metadata": {},
   "source": [
    "# Test of GraphSAGE\n",
    "- use DGL\n",
    "- predict `graphs`\n",
    "- valid, test data are in the training dataset"
   ]
  },
  {
   "cell_type": "code",
   "execution_count": 1,
   "metadata": {},
   "outputs": [],
   "source": [
    "import os\n",
    "import dgl\n",
    "import json\n",
    "import torch\n",
    "import torch as th\n",
    "import dgl.nn as dglnn\n",
    "# from tqdm import tqdm\n",
    "from tqdm.notebook import tqdm  # 使用 notebook 版本的 tqdm\n",
    "import torch.nn as nn\n",
    "from dgl.nn import GraphConv, GATConv, SAGEConv\n",
    "import torch.nn.functional as F\n",
    "from torch.utils.data import Dataset, DataLoader\n",
    "from transformers import get_linear_schedule_with_warmup"
   ]
  },
  {
   "cell_type": "markdown",
   "metadata": {},
   "source": [
    "- check the GPU and assign the GPU by the best memory usage"
   ]
  },
  {
   "cell_type": "code",
   "execution_count": 2,
   "metadata": {},
   "outputs": [
    {
     "name": "stdout",
     "output_type": "stream",
     "text": [
      "cuda:0\n"
     ]
    }
   ],
   "source": [
    "import subprocess\n",
    "import torch\n",
    "\n",
    "def get_free_gpu():\n",
    "    try:\n",
    "        # Run nvidia-smi command to get GPU details\n",
    "        _output_to_list = lambda x: x.decode('ascii').split('\\n')[:-1]\n",
    "        command = \"nvidia-smi --query-gpu=memory.free --format=csv,nounits,noheader\"\n",
    "        memory_free_info = _output_to_list(subprocess.check_output(command.split())) \n",
    "        memory_free_values = [int(x) for i, x in enumerate(memory_free_info)]\n",
    "        \n",
    "        # Get the GPU with the maximum free memory\n",
    "        best_gpu_id = memory_free_values.index(max(memory_free_values))\n",
    "        return best_gpu_id\n",
    "    except:\n",
    "        # If any exception occurs, default to GPU 0 (this handles cases where nvidia-smi isn't installed)\n",
    "        return 0\n",
    "\n",
    "if torch.cuda.is_available():\n",
    "    # Get the best GPU ID based on free memory and set it\n",
    "    best_gpu_id = get_free_gpu()\n",
    "    device = torch.device(f\"cuda:{best_gpu_id}\")\n",
    "else:\n",
    "    device = torch.device(\"cpu\")\n",
    "    print(\"there's no available GPU\")\n",
    "\n",
    "# device = torch.device(f\"cuda:{1}\")\n",
    "print(device)\n"
   ]
  },
  {
   "cell_type": "markdown",
   "metadata": {},
   "source": [
    "## Fix the seed"
   ]
  },
  {
   "cell_type": "code",
   "execution_count": 3,
   "metadata": {},
   "outputs": [],
   "source": [
    "import numpy as np\n",
    "import torch\n",
    "import random\n",
    "\n",
    "#fix seed\n",
    "def same_seeds(seed = 8787):\n",
    "    torch.manual_seed(seed)\n",
    "    # random.seed(seed) \n",
    "    if torch.cuda.is_available():\n",
    "        torch.cuda.manual_seed(seed)\n",
    "        torch.cuda.manual_seed_all(seed)  \n",
    "    np.random.seed(seed)  \n",
    "    torch.backends.cudnn.benchmark = False\n",
    "    torch.backends.cudnn.deterministic = True"
   ]
  },
  {
   "cell_type": "markdown",
   "metadata": {},
   "source": [
    "## Data Loader"
   ]
  },
  {
   "cell_type": "code",
   "execution_count": 4,
   "metadata": {},
   "outputs": [],
   "source": [
    "class GraphDataset(Dataset):\n",
    "    def __init__(self, data_list, device):\n",
    "        self.data_list = data_list\n",
    "        self.device = device\n",
    "\n",
    "    def __len__(self):\n",
    "        return len(self.data_list)\n",
    "    \n",
    "    def __getitem__(self, idx):\n",
    "        data = self.data_list[idx]\n",
    "\n",
    "        g = dgl.graph((th.tensor(data[\"edge_index\"][0]), th.tensor(data[\"edge_index\"][1])), num_nodes=data[\"num_nodes\"]).to(self.device)\n",
    "\n",
    "        g.ndata['feat'] = th.tensor(data[\"node_feat\"]).to(self.device)\n",
    "        g.edata['feat'] = th.tensor(data[\"edge_attr\"]).to(self.device)  # Add edge features to graph\n",
    "\n",
    "        return g, th.tensor(data[\"label\"]).to(self.device)\n",
    "\n",
    "\n",
    "def collate(samples):\n",
    "    # The input `samples` is a list of pairs\n",
    "    #  (graph, label).\n",
    "    graphs, labels = map(list, zip(*samples))\n",
    "    batched_graph = dgl.batch(graphs)\n",
    "    return batched_graph, torch.tensor(labels)\n"
   ]
  },
  {
   "cell_type": "code",
   "execution_count": 5,
   "metadata": {},
   "outputs": [
    {
     "data": {
      "application/vnd.jupyter.widget-view+json": {
       "model_id": "586b4cb6eba94976a38ac9b630da9563",
       "version_major": 2,
       "version_minor": 0
      },
      "text/plain": [
       "  0%|          | 0/3 [00:00<?, ?it/s]"
      ]
     },
     "metadata": {},
     "output_type": "display_data"
    },
    {
     "name": "stdout",
     "output_type": "stream",
     "text": [
      "../../data_processing/dgl/data_new/exp1-2/training_data/exp_2/transE_50/train.jsonl\n"
     ]
    },
    {
     "data": {
      "application/vnd.jupyter.widget-view+json": {
       "model_id": "fd012a847eb64baa8dfbea2ea8225c56",
       "version_major": 2,
       "version_minor": 0
      },
      "text/plain": [
       "0it [00:00, ?it/s]"
      ]
     },
     "metadata": {},
     "output_type": "display_data"
    },
    {
     "name": "stdout",
     "output_type": "stream",
     "text": [
      "../../data_processing/dgl/data_new/exp1-2/training_data/exp_2/transE_50/valid.jsonl\n"
     ]
    },
    {
     "data": {
      "application/vnd.jupyter.widget-view+json": {
       "model_id": "e204522b7e584220b811971b99e42eaa",
       "version_major": 2,
       "version_minor": 0
      },
      "text/plain": [
       "0it [00:00, ?it/s]"
      ]
     },
     "metadata": {},
     "output_type": "display_data"
    },
    {
     "name": "stdout",
     "output_type": "stream",
     "text": [
      "../../data_processing/dgl/data_new/exp1-2/training_data/exp_2/transE_50/test.jsonl\n"
     ]
    },
    {
     "data": {
      "application/vnd.jupyter.widget-view+json": {
       "model_id": "11d652013ffb4b00a51603ddca35005a",
       "version_major": 2,
       "version_minor": 0
      },
      "text/plain": [
       "0it [00:00, ?it/s]"
      ]
     },
     "metadata": {},
     "output_type": "display_data"
    },
    {
     "name": "stdout",
     "output_type": "stream",
     "text": [
      "Datasets loaded!\n"
     ]
    }
   ],
   "source": [
    "datasets = ['train', 'valid', 'test']\n",
    "dataset_data = {}\n",
    "\n",
    "for dataset_name in tqdm(datasets):\n",
    "    file_path = f\"../../data_processing/dgl/data_new/exp1-2/training_data/exp_2/transE_50/{dataset_name}.jsonl\"\n",
    "    \n",
    "    print(file_path)\n",
    "    with open(file_path) as f:\n",
    "        data_list = [json.loads(line) for line in tqdm(f, position=0, leave=True)]\n",
    "    \n",
    "    dataset_data[dataset_name] = GraphDataset(data_list, device)\n",
    "\n",
    "print(\"Datasets loaded!\")"
   ]
  },
  {
   "cell_type": "markdown",
   "metadata": {},
   "source": [
    "- choose batch size"
   ]
  },
  {
   "cell_type": "code",
   "execution_count": 6,
   "metadata": {},
   "outputs": [],
   "source": [
    "def create_dataloaders(batch_size, shuffle=True):\n",
    "    dataloaders = {}\n",
    "    for dataset_name, dataset in dataset_data.items():\n",
    "        # do not shuffle the testing dataset\n",
    "        if dataset_name == \"test\":\n",
    "            dataloaders[dataset_name] = DataLoader(dataset, batch_size=batch_size, shuffle=False, collate_fn=collate)    \n",
    "        else:\n",
    "            dataloaders[dataset_name] = DataLoader(dataset, batch_size=batch_size, shuffle=shuffle, collate_fn=collate)\n",
    "    return dataloaders\n",
    "\n",
    "# dataloaders = create_dataloaders(4)\n",
    "dataloaders = create_dataloaders(16)"
   ]
  },
  {
   "cell_type": "markdown",
   "metadata": {},
   "source": [
    "- Turn the print message to a log file"
   ]
  },
  {
   "cell_type": "code",
   "execution_count": 7,
   "metadata": {},
   "outputs": [
    {
     "name": "stdout",
     "output_type": "stream",
     "text": [
      "../log_message/0910_23:02_GraphSAGE_transE_50.log\n"
     ]
    }
   ],
   "source": [
    "import datetime\n",
    "\n",
    "now = datetime.datetime.now()\n",
    "\n",
    "formatted_time = now.strftime(\"%m%d_%H:%M\")\n",
    "\n",
    "log_file_path = f\"../log_message/{formatted_time}_GraphSAGE_transE_50.log\"\n",
    "\n",
    "def add_log_msg(msg, log_file_path=log_file_path):\n",
    "    with open(log_file_path, 'a') as f:\n",
    "        f.write(f'{datetime.datetime.now().strftime(\"%m/%d/%Y, %H:%M:%S\")}# {msg}\\n')\n",
    "    print(f'{datetime.datetime.now().strftime(\"%m/%d/%Y, %H:%M:%S\")}# {msg}')\n",
    "\n",
    "print(log_file_path)"
   ]
  },
  {
   "cell_type": "markdown",
   "metadata": {},
   "source": [
    "### Model"
   ]
  },
  {
   "cell_type": "code",
   "execution_count": 8,
   "metadata": {},
   "outputs": [],
   "source": [
    "class GraphSAGE(nn.Module):\n",
    "    def __init__(self, in_dim, hidden_dim, out_dim):\n",
    "        super(GraphSAGE, self).__init__()\n",
    "        self.layer1 = dglnn.SAGEConv(in_dim, hidden_dim, 'mean')\n",
    "        self.layer2 = dglnn.SAGEConv(hidden_dim, out_dim, 'mean')  # Output layer\n",
    "\n",
    "    def forward(self, g, inputs):\n",
    "        h = self.layer1(g, inputs)\n",
    "        h = torch.relu(h)\n",
    "        h = self.layer2(g, h)  # You can apply another non-linearity here if needed\n",
    "        \n",
    "        g.ndata['h'] = h\n",
    "        hg = dgl.mean_nodes(g, 'h')\n",
    "        return hg\n"
   ]
  },
  {
   "cell_type": "markdown",
   "metadata": {},
   "source": [
    "- Model Forward  "
   ]
  },
  {
   "cell_type": "code",
   "execution_count": 9,
   "metadata": {},
   "outputs": [],
   "source": [
    "def model_fn(data, model, criterion, device, count=1, which_type='train'):\n",
    "    \"\"\"Forward a batch through the model.\"\"\"\n",
    "    batched_g, labels = data\n",
    "    batched_g = batched_g.to(device)\n",
    "    \n",
    "    labels = labels.to(device)\n",
    "#     labels = labels.float()\n",
    "\n",
    "    logits = model(batched_g, batched_g.ndata['feat'].float()) # for GAT\n",
    "#     logits = logits.mean(dim=1)\n",
    "#     print(labels)\n",
    "#     print(labels.shape)\n",
    "#     print(logits)\n",
    "#     print(logits.shape)\n",
    "\n",
    "    \n",
    "    loss = criterion(logits, labels)\n",
    "\n",
    "    # Get the class id with the highest probability\n",
    "    preds = logits.argmax(1) # for GAT\n",
    "#     print(preds)\n",
    "#     preds = logits.argmax() # for graphSAGE\n",
    "    \n",
    "    '''\n",
    "    问题出在GAT和GraphSAGE模型的输出形状上。\n",
    "    在你的 GAT 模型中，最后一层的输出是一个一维的张量，因此 logits 是一个形状为 (batch_size,) 的张量。这是因为 GAT 模型最后一层的输出被处理成了一个节点的预测，而不是整个图的预测。\n",
    "    在 GraphSAGE 模型中，最后一层的输出形状是 (num_nodes, out_dim)，也就是说，它返回了整个图的节点级别的预测。因此，logits 是一个二维的张量，形状为 (num_nodes, out_dim)。\n",
    "    当你尝试在一个一维张量上调用 logits.argmax(1) 时，会产生维度错误，因为它期望一个二维张量来执行操作。\n",
    "    所以，在 GraphSAGE 模型中，你应该将以下行：\n",
    "    '''\n",
    "    \n",
    "    \n",
    "    # Compute accuracy\n",
    "    accuracy = torch.mean((preds == labels).float())\n",
    "    \n",
    "    if which_type == 'validation' and count % 1000 == 0:\n",
    "        add_log_msg(f\"labels of Validation: {labels} {labels.shape}\")\n",
    "        add_log_msg(f\"predicted of Validation: {preds} {preds.shape}\")\n",
    "        \n",
    "    elif which_type == 'test'  and count % 1000 == 0:\n",
    "        add_log_msg(f\"labels of Test: {labels} {labels.shape}\")\n",
    "        add_log_msg(f\"predicted of Test: {preds} {preds.shape}\")\n",
    "        \n",
    "    if count % 5000 == 0: \n",
    "        add_log_msg(f\"labels of {count}: {labels} {labels.shape}\")\n",
    "        add_log_msg(f\"predicted of {count}: {preds} {preds.shape}\")\n",
    "        \n",
    "    return loss, accuracy, preds"
   ]
  },
  {
   "cell_type": "code",
   "execution_count": null,
   "metadata": {},
   "outputs": [],
   "source": []
  },
  {
   "cell_type": "markdown",
   "metadata": {},
   "source": [
    "### Training"
   ]
  },
  {
   "cell_type": "markdown",
   "metadata": {},
   "source": [
    "- Fix the seed and save the model.state_dict that contains the initial weight"
   ]
  },
  {
   "cell_type": "code",
   "execution_count": 10,
   "metadata": {},
   "outputs": [],
   "source": [
    "seed = 8787\n",
    "same_seeds(seed)\n",
    "\n",
    "model = GraphSAGE(in_dim=50, hidden_dim=16, out_dim=167)\n",
    "torch.save(model.state_dict(), 'model3_initial(graphsage)/initial_weight.pth')"
   ]
  },
  {
   "cell_type": "code",
   "execution_count": 11,
   "metadata": {},
   "outputs": [
    {
     "data": {
      "text/plain": [
       "Parameter containing:\n",
       "tensor([[ 0.3966, -0.2622, -0.4172, -0.2120,  0.0392, -0.1415,  0.4194,  0.1208,\n",
       "         -0.0180, -0.4136, -0.3660,  0.2784,  0.1991, -0.0898,  0.3969, -0.1612,\n",
       "          0.2863, -0.3886, -0.0421, -0.1185, -0.3744,  0.3962,  0.2371, -0.3675,\n",
       "         -0.4098,  0.3475,  0.1936,  0.1666, -0.3460,  0.3121, -0.2045, -0.0577,\n",
       "          0.4003, -0.1058,  0.1000, -0.1319,  0.1262, -0.1793, -0.3533,  0.2065,\n",
       "         -0.3789,  0.1936,  0.2644, -0.4193,  0.2918,  0.1618,  0.0928, -0.0824,\n",
       "         -0.1039,  0.0728],\n",
       "        [ 0.2606, -0.4032,  0.3426,  0.3319, -0.1503, -0.0656, -0.1955, -0.2699,\n",
       "         -0.1863,  0.4212,  0.1890, -0.3355, -0.1435,  0.0435,  0.2325,  0.1970,\n",
       "          0.0711,  0.3621,  0.0238,  0.4196,  0.2668,  0.4046, -0.0977, -0.2018,\n",
       "          0.1634, -0.1156,  0.4119,  0.2383, -0.0069,  0.0162, -0.0569, -0.2738,\n",
       "          0.2987, -0.0467,  0.3767, -0.4006, -0.1762, -0.3149,  0.3337,  0.2914,\n",
       "         -0.3179,  0.1646,  0.2352,  0.1848, -0.0304, -0.2352, -0.0916, -0.4173,\n",
       "         -0.1962,  0.1680],\n",
       "        [-0.3955, -0.2733, -0.2143, -0.0949, -0.2613,  0.0485, -0.1711,  0.2472,\n",
       "          0.4258, -0.3867, -0.0101, -0.0509, -0.0020,  0.1807,  0.0531, -0.3851,\n",
       "         -0.1289, -0.2341,  0.2579, -0.0700, -0.0746,  0.0744, -0.1322, -0.2659,\n",
       "          0.1036, -0.2613,  0.0528,  0.2774,  0.1657, -0.0223,  0.2717,  0.2409,\n",
       "         -0.1759,  0.2770, -0.2728,  0.2717,  0.2931, -0.3396, -0.0655,  0.2213,\n",
       "         -0.1585,  0.3815,  0.0898,  0.2685, -0.0511, -0.0491, -0.1455, -0.3152,\n",
       "          0.3718,  0.0401],\n",
       "        [-0.0526,  0.3129,  0.1182,  0.1495,  0.3100, -0.2846,  0.2842,  0.3208,\n",
       "         -0.1709,  0.2818,  0.0574,  0.1631,  0.0176,  0.3787,  0.3850, -0.1557,\n",
       "          0.3404,  0.0212, -0.0585, -0.0840,  0.1000,  0.2150,  0.1874, -0.0934,\n",
       "          0.2823,  0.0364,  0.3107,  0.2605, -0.2760,  0.2738,  0.3397,  0.4261,\n",
       "         -0.0089, -0.4151, -0.3470, -0.3903,  0.0176,  0.0066,  0.4170,  0.0809,\n",
       "          0.2620,  0.2925, -0.0316,  0.3910, -0.0862,  0.0918,  0.0726, -0.0321,\n",
       "          0.2580,  0.2650],\n",
       "        [ 0.0809,  0.1844,  0.2368, -0.2497,  0.3937,  0.4161, -0.1714,  0.2564,\n",
       "          0.2421,  0.0008, -0.1180,  0.1060,  0.1978, -0.4016,  0.1255, -0.0681,\n",
       "          0.4020,  0.3465,  0.1458,  0.3296,  0.0295, -0.1697, -0.3350,  0.3008,\n",
       "          0.1973,  0.4147, -0.1843, -0.1982, -0.2045, -0.3087, -0.0983,  0.2928,\n",
       "         -0.3624, -0.2456,  0.2913,  0.4202,  0.0211,  0.0742,  0.4098, -0.2871,\n",
       "         -0.0412, -0.3656,  0.0905,  0.2548,  0.1606, -0.3483, -0.3074,  0.2003,\n",
       "          0.1364,  0.1945],\n",
       "        [ 0.3465,  0.0210, -0.3160, -0.2047,  0.1928,  0.0265, -0.0104,  0.2502,\n",
       "          0.2950, -0.2486, -0.1005, -0.0393,  0.2541,  0.0770,  0.3265,  0.0139,\n",
       "          0.2148, -0.3089, -0.3765,  0.0685, -0.2119, -0.2772, -0.0662,  0.3089,\n",
       "          0.3781, -0.2002, -0.1485, -0.4033,  0.2130, -0.3671,  0.3161, -0.1168,\n",
       "         -0.3976,  0.3946, -0.0490,  0.3798, -0.2464, -0.2154,  0.1883,  0.1512,\n",
       "          0.0772,  0.2752,  0.0770,  0.3352,  0.2286,  0.3050,  0.0232, -0.0484,\n",
       "          0.1438,  0.1350],\n",
       "        [ 0.0865, -0.1998,  0.2551, -0.2516,  0.2936,  0.1217,  0.2935,  0.2676,\n",
       "          0.2569, -0.3902,  0.0402, -0.2754,  0.2002, -0.2174, -0.4157,  0.1002,\n",
       "         -0.4213, -0.3210,  0.0042, -0.1022,  0.2842, -0.0266, -0.4259, -0.3642,\n",
       "         -0.0523,  0.1985,  0.1760,  0.3073,  0.0433,  0.2527,  0.0817,  0.3587,\n",
       "          0.0400, -0.2071, -0.3740,  0.2019, -0.3812, -0.1693,  0.0199,  0.2717,\n",
       "         -0.3279, -0.2870, -0.2542,  0.0218,  0.0065,  0.2792, -0.3168, -0.3030,\n",
       "         -0.1765, -0.2291],\n",
       "        [-0.0974,  0.0681,  0.3705,  0.3378, -0.0871,  0.3833, -0.2075, -0.4184,\n",
       "          0.0039, -0.2754,  0.4118,  0.2632, -0.0374,  0.0044, -0.2644,  0.2640,\n",
       "         -0.0033, -0.1948, -0.1722, -0.0203, -0.1935, -0.1658,  0.1571, -0.3501,\n",
       "          0.1841,  0.0695, -0.2524,  0.3420,  0.1361, -0.2062,  0.1536,  0.2644,\n",
       "          0.2315, -0.1814,  0.2079,  0.2888, -0.0622,  0.1731,  0.3946, -0.4192,\n",
       "          0.4138, -0.0254,  0.1522, -0.2319, -0.3396,  0.3404,  0.0400,  0.1102,\n",
       "          0.2690, -0.1969],\n",
       "        [ 0.3451, -0.3485, -0.0154,  0.0540,  0.1940,  0.1186,  0.2752,  0.1278,\n",
       "         -0.0472,  0.1369,  0.0916,  0.2476, -0.4053,  0.1082, -0.0348, -0.0343,\n",
       "         -0.0863,  0.1470, -0.3175,  0.3610,  0.1853,  0.2829, -0.0731, -0.2957,\n",
       "          0.3264, -0.0797,  0.2035, -0.1318,  0.1465, -0.3395,  0.3758, -0.3031,\n",
       "          0.0752, -0.2755,  0.1884,  0.1520,  0.0889, -0.2839, -0.1764, -0.0527,\n",
       "         -0.0733,  0.0557, -0.1347,  0.0319,  0.0474, -0.2055,  0.3556, -0.3010,\n",
       "         -0.1375,  0.0521],\n",
       "        [ 0.2512,  0.0021,  0.3049,  0.2307,  0.0684, -0.0689,  0.1481,  0.0792,\n",
       "          0.3411, -0.1899, -0.1305, -0.2483,  0.2239, -0.2841, -0.3196,  0.0792,\n",
       "         -0.3794,  0.2955, -0.3304,  0.3235,  0.1728,  0.1992,  0.0772,  0.2903,\n",
       "         -0.0914, -0.3157,  0.2919,  0.1768, -0.2779,  0.1249,  0.0320,  0.3014,\n",
       "          0.0472, -0.0314, -0.4216,  0.2833, -0.3722, -0.4260,  0.0741, -0.4072,\n",
       "         -0.2483, -0.0110, -0.3415,  0.3126, -0.3563, -0.0041, -0.2903, -0.2376,\n",
       "         -0.4249, -0.2237],\n",
       "        [ 0.2810, -0.3753, -0.3990, -0.0488,  0.1052, -0.0074,  0.3169, -0.2680,\n",
       "         -0.0781, -0.4229, -0.3627, -0.0477,  0.0053,  0.1862, -0.2472,  0.3865,\n",
       "         -0.0061,  0.1598, -0.2274, -0.4130,  0.2115, -0.3777,  0.2349,  0.1858,\n",
       "         -0.3197, -0.2045, -0.0061, -0.0310, -0.1111,  0.3608,  0.2678, -0.0662,\n",
       "          0.0984, -0.1406,  0.1794, -0.1250,  0.3153, -0.2828, -0.3745, -0.3821,\n",
       "         -0.3374, -0.2525,  0.1525, -0.3772,  0.3000, -0.3990,  0.3419,  0.0656,\n",
       "         -0.3652, -0.1180],\n",
       "        [-0.3710,  0.0852,  0.1024, -0.2855, -0.0229,  0.2096,  0.1020, -0.0780,\n",
       "         -0.2063,  0.3487,  0.4227, -0.2360, -0.3658,  0.0492, -0.2266, -0.0255,\n",
       "         -0.1213,  0.3051,  0.3865,  0.3418,  0.0144,  0.2157,  0.2428, -0.2703,\n",
       "         -0.2700,  0.2411,  0.3405, -0.4191,  0.2882, -0.3063, -0.4158,  0.1393,\n",
       "          0.4180,  0.0348,  0.4048,  0.0376,  0.3753, -0.0561,  0.2808,  0.0431,\n",
       "         -0.2323,  0.2125, -0.1057, -0.1570,  0.3889,  0.3545,  0.2135,  0.1808,\n",
       "         -0.2845, -0.0553],\n",
       "        [-0.3383,  0.1681, -0.1017,  0.2130, -0.3140,  0.0737,  0.1717, -0.3480,\n",
       "          0.3156,  0.3751, -0.1772,  0.2354, -0.2479, -0.3993, -0.0734, -0.2198,\n",
       "         -0.0785, -0.2074, -0.3281,  0.1539,  0.3796, -0.3314,  0.4038, -0.0546,\n",
       "          0.2317, -0.2939, -0.0005,  0.4075, -0.2280,  0.2192,  0.2653, -0.0153,\n",
       "         -0.3949, -0.3087,  0.0377,  0.1357, -0.2838,  0.1896,  0.1652, -0.3417,\n",
       "          0.1565, -0.3255,  0.3435, -0.1889,  0.3504, -0.0713, -0.3456,  0.3876,\n",
       "          0.1695,  0.0742],\n",
       "        [-0.2449, -0.2024,  0.2424,  0.3588,  0.1758, -0.0788,  0.1980, -0.1884,\n",
       "         -0.0570, -0.3697, -0.2051, -0.0956, -0.2723,  0.3247, -0.3421, -0.4079,\n",
       "         -0.0047, -0.3301, -0.3144,  0.3353, -0.3392,  0.1480, -0.3871,  0.2547,\n",
       "          0.1866, -0.0557, -0.3331, -0.1749,  0.1643, -0.2220,  0.3706,  0.0429,\n",
       "          0.3496, -0.3897, -0.1284, -0.3060,  0.0922,  0.3831,  0.1867, -0.0666,\n",
       "          0.3401, -0.2241, -0.2238, -0.0886,  0.0996,  0.1283,  0.3193, -0.0384,\n",
       "         -0.3754,  0.2367],\n",
       "        [ 0.2583,  0.1586, -0.4263,  0.3266,  0.3738, -0.2878, -0.0031,  0.2569,\n",
       "         -0.3633,  0.2934, -0.0189,  0.3302, -0.3839,  0.2389,  0.2838, -0.3675,\n",
       "         -0.4237,  0.1869, -0.3721,  0.1750, -0.2344, -0.3522,  0.0628,  0.0841,\n",
       "         -0.4091, -0.1319, -0.1330,  0.2291,  0.2065, -0.2599, -0.1051,  0.1456,\n",
       "         -0.1308,  0.3338,  0.1367,  0.3693, -0.1172,  0.3153,  0.4057, -0.1361,\n",
       "          0.1985, -0.1725,  0.0735,  0.3100,  0.0874,  0.0501, -0.2251,  0.0634,\n",
       "         -0.0650, -0.1329],\n",
       "        [-0.3987, -0.1397, -0.2321, -0.1635, -0.0825,  0.2782, -0.2349, -0.1756,\n",
       "          0.3969, -0.1123, -0.2454,  0.1455, -0.0837,  0.2237, -0.0819, -0.1751,\n",
       "          0.0240,  0.3532, -0.1970,  0.0272, -0.3916, -0.2981, -0.1291, -0.1274,\n",
       "          0.1960, -0.1504,  0.0623,  0.4089, -0.0492, -0.3787, -0.3993, -0.0232,\n",
       "          0.2797,  0.0746, -0.3203, -0.3951,  0.1246,  0.0734, -0.0708, -0.3647,\n",
       "          0.1245,  0.1614, -0.1981,  0.3926,  0.1790, -0.3246,  0.3508,  0.2509,\n",
       "         -0.2810,  0.0680]], requires_grad=True)"
      ]
     },
     "execution_count": 11,
     "metadata": {},
     "output_type": "execute_result"
    }
   ],
   "source": [
    "model.layer1.fc_self.weight"
   ]
  },
  {
   "cell_type": "markdown",
   "metadata": {},
   "source": [
    "- Check if model really load the model_dict"
   ]
  },
  {
   "cell_type": "code",
   "execution_count": 12,
   "metadata": {},
   "outputs": [
    {
     "data": {
      "text/plain": [
       "Parameter containing:\n",
       "tensor([[ 0.3966, -0.2622, -0.4172, -0.2120,  0.0392, -0.1415,  0.4194,  0.1208,\n",
       "         -0.0180, -0.4136, -0.3660,  0.2784,  0.1991, -0.0898,  0.3969, -0.1612,\n",
       "          0.2863, -0.3886, -0.0421, -0.1185, -0.3744,  0.3962,  0.2371, -0.3675,\n",
       "         -0.4098,  0.3475,  0.1936,  0.1666, -0.3460,  0.3121, -0.2045, -0.0577,\n",
       "          0.4003, -0.1058,  0.1000, -0.1319,  0.1262, -0.1793, -0.3533,  0.2065,\n",
       "         -0.3789,  0.1936,  0.2644, -0.4193,  0.2918,  0.1618,  0.0928, -0.0824,\n",
       "         -0.1039,  0.0728],\n",
       "        [ 0.2606, -0.4032,  0.3426,  0.3319, -0.1503, -0.0656, -0.1955, -0.2699,\n",
       "         -0.1863,  0.4212,  0.1890, -0.3355, -0.1435,  0.0435,  0.2325,  0.1970,\n",
       "          0.0711,  0.3621,  0.0238,  0.4196,  0.2668,  0.4046, -0.0977, -0.2018,\n",
       "          0.1634, -0.1156,  0.4119,  0.2383, -0.0069,  0.0162, -0.0569, -0.2738,\n",
       "          0.2987, -0.0467,  0.3767, -0.4006, -0.1762, -0.3149,  0.3337,  0.2914,\n",
       "         -0.3179,  0.1646,  0.2352,  0.1848, -0.0304, -0.2352, -0.0916, -0.4173,\n",
       "         -0.1962,  0.1680],\n",
       "        [-0.3955, -0.2733, -0.2143, -0.0949, -0.2613,  0.0485, -0.1711,  0.2472,\n",
       "          0.4258, -0.3867, -0.0101, -0.0509, -0.0020,  0.1807,  0.0531, -0.3851,\n",
       "         -0.1289, -0.2341,  0.2579, -0.0700, -0.0746,  0.0744, -0.1322, -0.2659,\n",
       "          0.1036, -0.2613,  0.0528,  0.2774,  0.1657, -0.0223,  0.2717,  0.2409,\n",
       "         -0.1759,  0.2770, -0.2728,  0.2717,  0.2931, -0.3396, -0.0655,  0.2213,\n",
       "         -0.1585,  0.3815,  0.0898,  0.2685, -0.0511, -0.0491, -0.1455, -0.3152,\n",
       "          0.3718,  0.0401],\n",
       "        [-0.0526,  0.3129,  0.1182,  0.1495,  0.3100, -0.2846,  0.2842,  0.3208,\n",
       "         -0.1709,  0.2818,  0.0574,  0.1631,  0.0176,  0.3787,  0.3850, -0.1557,\n",
       "          0.3404,  0.0212, -0.0585, -0.0840,  0.1000,  0.2150,  0.1874, -0.0934,\n",
       "          0.2823,  0.0364,  0.3107,  0.2605, -0.2760,  0.2738,  0.3397,  0.4261,\n",
       "         -0.0089, -0.4151, -0.3470, -0.3903,  0.0176,  0.0066,  0.4170,  0.0809,\n",
       "          0.2620,  0.2925, -0.0316,  0.3910, -0.0862,  0.0918,  0.0726, -0.0321,\n",
       "          0.2580,  0.2650],\n",
       "        [ 0.0809,  0.1844,  0.2368, -0.2497,  0.3937,  0.4161, -0.1714,  0.2564,\n",
       "          0.2421,  0.0008, -0.1180,  0.1060,  0.1978, -0.4016,  0.1255, -0.0681,\n",
       "          0.4020,  0.3465,  0.1458,  0.3296,  0.0295, -0.1697, -0.3350,  0.3008,\n",
       "          0.1973,  0.4147, -0.1843, -0.1982, -0.2045, -0.3087, -0.0983,  0.2928,\n",
       "         -0.3624, -0.2456,  0.2913,  0.4202,  0.0211,  0.0742,  0.4098, -0.2871,\n",
       "         -0.0412, -0.3656,  0.0905,  0.2548,  0.1606, -0.3483, -0.3074,  0.2003,\n",
       "          0.1364,  0.1945],\n",
       "        [ 0.3465,  0.0210, -0.3160, -0.2047,  0.1928,  0.0265, -0.0104,  0.2502,\n",
       "          0.2950, -0.2486, -0.1005, -0.0393,  0.2541,  0.0770,  0.3265,  0.0139,\n",
       "          0.2148, -0.3089, -0.3765,  0.0685, -0.2119, -0.2772, -0.0662,  0.3089,\n",
       "          0.3781, -0.2002, -0.1485, -0.4033,  0.2130, -0.3671,  0.3161, -0.1168,\n",
       "         -0.3976,  0.3946, -0.0490,  0.3798, -0.2464, -0.2154,  0.1883,  0.1512,\n",
       "          0.0772,  0.2752,  0.0770,  0.3352,  0.2286,  0.3050,  0.0232, -0.0484,\n",
       "          0.1438,  0.1350],\n",
       "        [ 0.0865, -0.1998,  0.2551, -0.2516,  0.2936,  0.1217,  0.2935,  0.2676,\n",
       "          0.2569, -0.3902,  0.0402, -0.2754,  0.2002, -0.2174, -0.4157,  0.1002,\n",
       "         -0.4213, -0.3210,  0.0042, -0.1022,  0.2842, -0.0266, -0.4259, -0.3642,\n",
       "         -0.0523,  0.1985,  0.1760,  0.3073,  0.0433,  0.2527,  0.0817,  0.3587,\n",
       "          0.0400, -0.2071, -0.3740,  0.2019, -0.3812, -0.1693,  0.0199,  0.2717,\n",
       "         -0.3279, -0.2870, -0.2542,  0.0218,  0.0065,  0.2792, -0.3168, -0.3030,\n",
       "         -0.1765, -0.2291],\n",
       "        [-0.0974,  0.0681,  0.3705,  0.3378, -0.0871,  0.3833, -0.2075, -0.4184,\n",
       "          0.0039, -0.2754,  0.4118,  0.2632, -0.0374,  0.0044, -0.2644,  0.2640,\n",
       "         -0.0033, -0.1948, -0.1722, -0.0203, -0.1935, -0.1658,  0.1571, -0.3501,\n",
       "          0.1841,  0.0695, -0.2524,  0.3420,  0.1361, -0.2062,  0.1536,  0.2644,\n",
       "          0.2315, -0.1814,  0.2079,  0.2888, -0.0622,  0.1731,  0.3946, -0.4192,\n",
       "          0.4138, -0.0254,  0.1522, -0.2319, -0.3396,  0.3404,  0.0400,  0.1102,\n",
       "          0.2690, -0.1969],\n",
       "        [ 0.3451, -0.3485, -0.0154,  0.0540,  0.1940,  0.1186,  0.2752,  0.1278,\n",
       "         -0.0472,  0.1369,  0.0916,  0.2476, -0.4053,  0.1082, -0.0348, -0.0343,\n",
       "         -0.0863,  0.1470, -0.3175,  0.3610,  0.1853,  0.2829, -0.0731, -0.2957,\n",
       "          0.3264, -0.0797,  0.2035, -0.1318,  0.1465, -0.3395,  0.3758, -0.3031,\n",
       "          0.0752, -0.2755,  0.1884,  0.1520,  0.0889, -0.2839, -0.1764, -0.0527,\n",
       "         -0.0733,  0.0557, -0.1347,  0.0319,  0.0474, -0.2055,  0.3556, -0.3010,\n",
       "         -0.1375,  0.0521],\n",
       "        [ 0.2512,  0.0021,  0.3049,  0.2307,  0.0684, -0.0689,  0.1481,  0.0792,\n",
       "          0.3411, -0.1899, -0.1305, -0.2483,  0.2239, -0.2841, -0.3196,  0.0792,\n",
       "         -0.3794,  0.2955, -0.3304,  0.3235,  0.1728,  0.1992,  0.0772,  0.2903,\n",
       "         -0.0914, -0.3157,  0.2919,  0.1768, -0.2779,  0.1249,  0.0320,  0.3014,\n",
       "          0.0472, -0.0314, -0.4216,  0.2833, -0.3722, -0.4260,  0.0741, -0.4072,\n",
       "         -0.2483, -0.0110, -0.3415,  0.3126, -0.3563, -0.0041, -0.2903, -0.2376,\n",
       "         -0.4249, -0.2237],\n",
       "        [ 0.2810, -0.3753, -0.3990, -0.0488,  0.1052, -0.0074,  0.3169, -0.2680,\n",
       "         -0.0781, -0.4229, -0.3627, -0.0477,  0.0053,  0.1862, -0.2472,  0.3865,\n",
       "         -0.0061,  0.1598, -0.2274, -0.4130,  0.2115, -0.3777,  0.2349,  0.1858,\n",
       "         -0.3197, -0.2045, -0.0061, -0.0310, -0.1111,  0.3608,  0.2678, -0.0662,\n",
       "          0.0984, -0.1406,  0.1794, -0.1250,  0.3153, -0.2828, -0.3745, -0.3821,\n",
       "         -0.3374, -0.2525,  0.1525, -0.3772,  0.3000, -0.3990,  0.3419,  0.0656,\n",
       "         -0.3652, -0.1180],\n",
       "        [-0.3710,  0.0852,  0.1024, -0.2855, -0.0229,  0.2096,  0.1020, -0.0780,\n",
       "         -0.2063,  0.3487,  0.4227, -0.2360, -0.3658,  0.0492, -0.2266, -0.0255,\n",
       "         -0.1213,  0.3051,  0.3865,  0.3418,  0.0144,  0.2157,  0.2428, -0.2703,\n",
       "         -0.2700,  0.2411,  0.3405, -0.4191,  0.2882, -0.3063, -0.4158,  0.1393,\n",
       "          0.4180,  0.0348,  0.4048,  0.0376,  0.3753, -0.0561,  0.2808,  0.0431,\n",
       "         -0.2323,  0.2125, -0.1057, -0.1570,  0.3889,  0.3545,  0.2135,  0.1808,\n",
       "         -0.2845, -0.0553],\n",
       "        [-0.3383,  0.1681, -0.1017,  0.2130, -0.3140,  0.0737,  0.1717, -0.3480,\n",
       "          0.3156,  0.3751, -0.1772,  0.2354, -0.2479, -0.3993, -0.0734, -0.2198,\n",
       "         -0.0785, -0.2074, -0.3281,  0.1539,  0.3796, -0.3314,  0.4038, -0.0546,\n",
       "          0.2317, -0.2939, -0.0005,  0.4075, -0.2280,  0.2192,  0.2653, -0.0153,\n",
       "         -0.3949, -0.3087,  0.0377,  0.1357, -0.2838,  0.1896,  0.1652, -0.3417,\n",
       "          0.1565, -0.3255,  0.3435, -0.1889,  0.3504, -0.0713, -0.3456,  0.3876,\n",
       "          0.1695,  0.0742],\n",
       "        [-0.2449, -0.2024,  0.2424,  0.3588,  0.1758, -0.0788,  0.1980, -0.1884,\n",
       "         -0.0570, -0.3697, -0.2051, -0.0956, -0.2723,  0.3247, -0.3421, -0.4079,\n",
       "         -0.0047, -0.3301, -0.3144,  0.3353, -0.3392,  0.1480, -0.3871,  0.2547,\n",
       "          0.1866, -0.0557, -0.3331, -0.1749,  0.1643, -0.2220,  0.3706,  0.0429,\n",
       "          0.3496, -0.3897, -0.1284, -0.3060,  0.0922,  0.3831,  0.1867, -0.0666,\n",
       "          0.3401, -0.2241, -0.2238, -0.0886,  0.0996,  0.1283,  0.3193, -0.0384,\n",
       "         -0.3754,  0.2367],\n",
       "        [ 0.2583,  0.1586, -0.4263,  0.3266,  0.3738, -0.2878, -0.0031,  0.2569,\n",
       "         -0.3633,  0.2934, -0.0189,  0.3302, -0.3839,  0.2389,  0.2838, -0.3675,\n",
       "         -0.4237,  0.1869, -0.3721,  0.1750, -0.2344, -0.3522,  0.0628,  0.0841,\n",
       "         -0.4091, -0.1319, -0.1330,  0.2291,  0.2065, -0.2599, -0.1051,  0.1456,\n",
       "         -0.1308,  0.3338,  0.1367,  0.3693, -0.1172,  0.3153,  0.4057, -0.1361,\n",
       "          0.1985, -0.1725,  0.0735,  0.3100,  0.0874,  0.0501, -0.2251,  0.0634,\n",
       "         -0.0650, -0.1329],\n",
       "        [-0.3987, -0.1397, -0.2321, -0.1635, -0.0825,  0.2782, -0.2349, -0.1756,\n",
       "          0.3969, -0.1123, -0.2454,  0.1455, -0.0837,  0.2237, -0.0819, -0.1751,\n",
       "          0.0240,  0.3532, -0.1970,  0.0272, -0.3916, -0.2981, -0.1291, -0.1274,\n",
       "          0.1960, -0.1504,  0.0623,  0.4089, -0.0492, -0.3787, -0.3993, -0.0232,\n",
       "          0.2797,  0.0746, -0.3203, -0.3951,  0.1246,  0.0734, -0.0708, -0.3647,\n",
       "          0.1245,  0.1614, -0.1981,  0.3926,  0.1790, -0.3246,  0.3508,  0.2509,\n",
       "         -0.2810,  0.0680]], requires_grad=True)"
      ]
     },
     "execution_count": 12,
     "metadata": {},
     "output_type": "execute_result"
    }
   ],
   "source": [
    "model = GraphSAGE(in_dim=50, hidden_dim=16, out_dim=167)\n",
    "model.load_state_dict(torch.load('model3_initial(graphsage)/initial_weight.pth'))\n",
    "model.layer1.fc_self.weight"
   ]
  },
  {
   "cell_type": "code",
   "execution_count": null,
   "metadata": {
    "scrolled": true
   },
   "outputs": [],
   "source": [
    "import csv\n",
    "import pandas as pd\n",
    "from sklearn.metrics import classification_report\n",
    "from torch.optim import AdamW, lr_scheduler\n",
    "\n",
    "seed = 8787\n",
    "same_seeds(seed)\n",
    "\n",
    "model = GraphSAGE(in_dim=50, hidden_dim=16, out_dim=167)\n",
    "# in_dim means the dimension of the node_feat(50 dim, since the 50-dim embedding)\n",
    "# out_dim means the # of the categories -> 168 for out tasks\n",
    "model.load_state_dict(torch.load('model3_initial(graphsage)/initial_weight.pth'))\n",
    "best_model_path = \"../checkpoint_graphSAGE/best_model_GraphSAGE_transE_50.pt\"\n",
    "\n",
    "model = model.to(device)\n",
    "\n",
    "# optimizer = torch.optim.AdamW(model.parameters(), lr=1e-5)\n",
    "optimizer = AdamW(model.parameters(), lr=5e-4)\n",
    "# scheduler = get_linear_schedule_with_warmup(optimizer, num_warmup_steps=18, num_training_steps=total_steps)\n",
    "\n",
    "# T_max control the period of the lr changing -> set 1/10 first\n",
    "scheduler = lr_scheduler.CosineAnnealingLR(optimizer, T_max=36, eta_min=0, last_epoch=- 1, verbose=False)\n",
    "\n",
    "\n",
    "criterion = nn.CrossEntropyLoss()\n",
    "# criterion = torch.nn.BCEWithLogitsLoss()\n",
    "\n",
    "total_steps = 10\n",
    "\n",
    "# save the best model\n",
    "best_val_loss = float('inf')\n",
    "patience = 10  # Number of epochs with no improvement after which training will be stopped.\n",
    "waiting = 0  # The number of epochs with no improvement so far.\n",
    "\n",
    "\n",
    "# Training Part\n",
    "for epoch in tqdm(range(total_steps)):\n",
    "    # Train\n",
    "    model.train()\n",
    "    total_loss = 0.0\n",
    "    total_accuracy = 0.0\n",
    "    num_batches = 0\n",
    "    \n",
    "    for data in tqdm(dataloaders['train'], desc=\"Training\", position=0, leave=True):\n",
    "        num_batches += 1\n",
    "        loss, accuracy, _ = model_fn(data, model, criterion, device, num_batches, which_type='train')\n",
    "        \n",
    "        optimizer.zero_grad()\n",
    "        loss.backward()\n",
    "        optimizer.step()\n",
    "\n",
    "        total_loss += loss.item()\n",
    "        total_accuracy += accuracy.item()\n",
    "\n",
    "        \n",
    "#     scheduler.step()\n",
    "    add_log_msg(f\"total batches: {num_batches}\")\n",
    "\n",
    "    avg_loss = total_loss / num_batches\n",
    "    avg_accuracy = total_accuracy / num_batches\n",
    "\n",
    "    add_log_msg(f'Epoch {epoch} | Train Loss: {avg_loss:.4f} | Train Accuracy: {avg_accuracy:.4f}')\n",
    "\n",
    "    \n",
    "    # Validation Part\n",
    "    model.eval()\n",
    "    total_accuracy = 0.0\n",
    "    total_loss = 0.0\n",
    "    num_batches = 0\n",
    "\n",
    "\n",
    "    with torch.no_grad():\n",
    "        for data in tqdm(dataloaders['valid'], desc=\"Validation\", position=0, leave=True):\n",
    "            loss, accuracy, _ = model_fn(data, model, criterion, device, num_batches, which_type='validation')\n",
    "            total_accuracy += accuracy.item()\n",
    "            total_loss += loss.item()\n",
    "            num_batches += 1\n",
    "\n",
    "    avg_accuracy = total_accuracy / num_batches\n",
    "    current_loss = total_loss / num_batches\n",
    "    \n",
    "    add_log_msg(f'Validation Loss: {current_loss:.4f} | Validation Accuracy: {avg_accuracy:.4f}\\n')\n",
    "    \n",
    "            \n",
    "    if current_loss < best_val_loss:\n",
    "        best_val_loss = current_loss\n",
    "        waiting = 0\n",
    "        \n",
    "        if os.path.exists(best_model_path):\n",
    "            os.remove(best_model_path)\n",
    "            add_log_msg(\"Find a better model!!\")\n",
    "\n",
    "        torch.save(model.state_dict(), best_model_path)\n",
    "\n",
    "#         print(best_model_path)\n",
    "\n",
    "    else:\n",
    "        waiting += 1\n",
    "        if waiting >= patience:\n",
    "            add_log_msg(\"============================== Early stopping ==================================\")\n",
    "            break"
   ]
  },
  {
   "cell_type": "markdown",
   "metadata": {},
   "source": [
    "### test of valid and test part is ``graph``"
   ]
  },
  {
   "cell_type": "markdown",
   "metadata": {},
   "source": [
    "- 60 APs in training x 10000times\n",
    "- 5 APs in validation x 4 times\n",
    "- 3 APs in test x 4 times\n",
    "- Batch size = 4"
   ]
  },
  {
   "cell_type": "code",
   "execution_count": null,
   "metadata": {},
   "outputs": [],
   "source": [
    "# load the pretrained model\n",
    "pretrained_model_path = '../checkpoint_graphSAGE/best_model_GraphSAGE_transE_50.pt'\n",
    "model.load_state_dict(torch.load(pretrained_model_path))\n",
    "\n",
    "model.to(device)\n",
    "model.eval()\n",
    "\n",
    "total = 0\n",
    "correct = 0\n",
    "count = 0\n",
    "\n",
    "true_labels = []\n",
    "predicted_labels = []\n",
    "\n",
    "with torch.no_grad():\n",
    "    for data in tqdm(dataloaders['test'], desc=\"Testing\", position=0, leave=True):\n",
    "#         print(f\"data:{data[1]}\")\n",
    "        loss, accuracy, predicted = model_fn(data, model, criterion, device, count, which_type='test')\n",
    "        labels = data[1].to(device)\n",
    "        \n",
    "        true_labels.extend(labels.cpu().numpy())\n",
    "        predicted_labels.extend(predicted.cpu().numpy())\n",
    "        \n",
    "        if count % 5000 == 0:\n",
    "            add_log_msg(f\"labels: {labels} {labels.shape}\")\n",
    "            add_log_msg(f\"predicted: {predicted} {predicted.shape}\")\n",
    "            \n",
    "        count += 1\n",
    "        \n",
    "        total += labels.size(0)\n",
    "        correct += (predicted == labels).sum().item()\n",
    "\n",
    "add_log_msg(f'Test Accuracy: {100 * correct / total} %\\n\\n\\n')\n",
    "\n",
    "\n",
    "# ======================================== handlig the output excel files ========================================\n",
    "mapping_file = './new_mapping.txt'\n",
    "label_mapping = {}\n",
    "with open(mapping_file, 'r') as f:\n",
    "    for line in f:\n",
    "        parts = line.strip().split(': ')\n",
    "        label_mapping[int(parts[1])] = parts[0]\n",
    "        \n",
    "# 将映射后的标签应用到true和predicted标签列表\n",
    "mapped_true_labels = [label_mapping[label] for label in true_labels]\n",
    "mapped_predicted_labels = [label_mapping[label] for label in predicted_labels]\n",
    "\n",
    "# 生成Scikit-learn报告信息的DataFrame\n",
    "report_data = classification_report(mapped_true_labels, mapped_predicted_labels, output_dict=True)\n",
    "report_df = pd.DataFrame(report_data).transpose()\n",
    "\n",
    "# mapped_true_labels_np = np.array(mapped_true_labels)\n",
    "# mapped_predicted_labels_np = np.array(mapped_predicted_labels)\n",
    "\n",
    "# print(\"mapped_true_labels 的形状:\", mapped_true_labels_np.shape)\n",
    "# print(\"mapped_predicted_labels 的形状:\", mapped_predicted_labels_np.shape)\n",
    "\n",
    "report_folder = 'classification_report'\n",
    "os.makedirs(report_folder, exist_ok=True)\n",
    "\n",
    "count = 0\n",
    "while True:\n",
    "    report_filename = f'classification_report-transE_50-graphSAGE-{count}.xlsx'\n",
    "    labels_filename = f'mapped_true_predicted_labels-transE_50-graphSAGE-{count}.xlsx'\n",
    "    \n",
    "    report_path = os.path.join(report_folder, report_filename)\n",
    "    labels_path = os.path.join(report_folder, labels_filename)\n",
    "    \n",
    "    if not os.path.exists(report_path) and not os.path.exists(labels_path):\n",
    "        break\n",
    "    count += 1\n",
    "\n",
    "    \n",
    "report_df.to_excel(report_path, index_label='Label')\n",
    "\n",
    "mapped_labels_df = pd.DataFrame({'true_label': mapped_true_labels, 'predicted_label': mapped_predicted_labels})\n",
    "mapped_labels_df.to_excel(labels_path, index=False)\n",
    "\n",
    "add_log_msg(f\"report path: {report_path}\")\n",
    "add_log_msg(f\"label path: {labels_path}\")\n",
    "\n",
    "mapped_report = classification_report(mapped_true_labels, mapped_predicted_labels)\n",
    "add_log_msg(f\"mapped_report:\\n{mapped_report}\")"
   ]
  },
  {
   "cell_type": "code",
   "execution_count": null,
   "metadata": {},
   "outputs": [],
   "source": []
  }
 ],
 "metadata": {
  "kernelspec": {
   "display_name": "Python 3",
   "language": "python",
   "name": "python3"
  },
  "language_info": {
   "codemirror_mode": {
    "name": "ipython",
    "version": 3
   },
   "file_extension": ".py",
   "mimetype": "text/x-python",
   "name": "python",
   "nbconvert_exporter": "python",
   "pygments_lexer": "ipython3",
   "version": "3.6.9"
  }
 },
 "nbformat": 4,
 "nbformat_minor": 2
}
