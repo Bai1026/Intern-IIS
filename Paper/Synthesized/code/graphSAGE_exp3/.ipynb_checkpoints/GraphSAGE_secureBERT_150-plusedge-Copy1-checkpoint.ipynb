{
 "cells": [
  {
   "cell_type": "markdown",
   "metadata": {},
   "source": [
    "# Test of GraphSAGE\n",
    "- consider the edge embedding with secureBERT_150\n",
    "- use DGL\n",
    "- predict `graphs`\n",
    "- valid, test data are in the training dataset"
   ]
  },
  {
   "cell_type": "code",
   "execution_count": 1,
   "metadata": {},
   "outputs": [],
   "source": [
    "import os\n",
    "import dgl\n",
    "import json\n",
    "import torch\n",
    "import torch as th\n",
    "import dgl.nn as dglnn\n",
    "# from tqdm import tqdm\n",
    "from tqdm.notebook import tqdm  # 使用 notebook 版本的 tqdm\n",
    "import torch.nn as nn\n",
    "from dgl.nn import GraphConv, GATConv, SAGEConv\n",
    "import torch.nn.functional as F\n",
    "from torch.utils.data import Dataset, DataLoader\n",
    "from transformers import get_linear_schedule_with_warmup"
   ]
  },
  {
   "cell_type": "markdown",
   "metadata": {},
   "source": [
    "- check the GPU and assign the GPU by the best memory usage"
   ]
  },
  {
   "cell_type": "code",
   "execution_count": 2,
   "metadata": {},
   "outputs": [
    {
     "name": "stdout",
     "output_type": "stream",
     "text": [
      "cuda:0\n"
     ]
    }
   ],
   "source": [
    "import subprocess\n",
    "import torch\n",
    "\n",
    "def get_free_gpu():\n",
    "    try:\n",
    "        # Run nvidia-smi command to get GPU details\n",
    "        _output_to_list = lambda x: x.decode('ascii').split('\\n')[:-1]\n",
    "        command = \"nvidia-smi --query-gpu=memory.free --format=csv,nounits,noheader\"\n",
    "        memory_free_info = _output_to_list(subprocess.check_output(command.split())) \n",
    "        memory_free_values = [int(x) for i, x in enumerate(memory_free_info)]\n",
    "        \n",
    "        # Get the GPU with the maximum free memory\n",
    "        best_gpu_id = memory_free_values.index(max(memory_free_values))\n",
    "        return best_gpu_id\n",
    "    except:\n",
    "        # If any exception occurs, default to GPU 0 (this handles cases where nvidia-smi isn't installed)\n",
    "        return 0\n",
    "\n",
    "if torch.cuda.is_available():\n",
    "    # Get the best GPU ID based on free memory and set it\n",
    "    best_gpu_id = get_free_gpu()\n",
    "    device = torch.device(f\"cuda:{best_gpu_id}\")\n",
    "else:\n",
    "    device = torch.device(\"cpu\")\n",
    "    print(\"there's no available GPU\")\n",
    "\n",
    "# device = torch.device(f\"cuda:{1}\")\n",
    "print(device)\n"
   ]
  },
  {
   "cell_type": "markdown",
   "metadata": {},
   "source": [
    "## Fix the seed"
   ]
  },
  {
   "cell_type": "code",
   "execution_count": 3,
   "metadata": {},
   "outputs": [],
   "source": [
    "import numpy as np\n",
    "import torch\n",
    "import random\n",
    "\n",
    "#fix seed\n",
    "def same_seeds(seed = 8787):\n",
    "    torch.manual_seed(seed)\n",
    "    # random.seed(seed) \n",
    "    if torch.cuda.is_available():\n",
    "        torch.cuda.manual_seed(seed)\n",
    "        torch.cuda.manual_seed_all(seed)  \n",
    "    np.random.seed(seed)  \n",
    "    torch.backends.cudnn.benchmark = False\n",
    "    torch.backends.cudnn.deterministic = True"
   ]
  },
  {
   "cell_type": "markdown",
   "metadata": {},
   "source": [
    "## Data Loader"
   ]
  },
  {
   "cell_type": "code",
   "execution_count": 4,
   "metadata": {},
   "outputs": [],
   "source": [
    "class GraphDataset(Dataset):\n",
    "    def __init__(self, data_list, device):\n",
    "        self.data_list = data_list\n",
    "        self.device = device\n",
    "\n",
    "    def __len__(self):\n",
    "        return len(self.data_list)\n",
    "    \n",
    "    def __getitem__(self, idx):\n",
    "        data = self.data_list[idx]\n",
    "        return data\n",
    "\n",
    "def collate(samples):\n",
    "    data_list = samples\n",
    "    batched_graphs = []\n",
    "    for data in data_list:\n",
    "        g = dgl.graph((th.tensor(data[\"edge_index\"][0]), th.tensor(data[\"edge_index\"][1])), num_nodes=data[\"num_nodes\"])\n",
    "\n",
    "        g.ndata['feat'] = th.tensor(data[\"node_feat\"])\n",
    "        g.edata['feat'] = th.tensor(data[\"edge_attr\"])\n",
    "        g.edata['label'] = th.tensor(data[\"labels\"])  # Add edge labels to graph\n",
    "\n",
    "        batched_graphs.append(g)\n",
    "    \n",
    "    return dgl.batch(batched_graphs)"
   ]
  },
  {
   "cell_type": "code",
   "execution_count": 5,
   "metadata": {},
   "outputs": [
    {
     "data": {
      "application/vnd.jupyter.widget-view+json": {
       "model_id": "8a3e43f8d6ea4fd99f272470d3b45347",
       "version_major": 2,
       "version_minor": 0
      },
      "text/plain": [
       "  0%|          | 0/3 [00:00<?, ?it/s]"
      ]
     },
     "metadata": {},
     "output_type": "display_data"
    },
    {
     "name": "stdout",
     "output_type": "stream",
     "text": [
      "../../data_processing/dgl/data_new/exp3/training_data/secureBERT_150/train.jsonl\n"
     ]
    },
    {
     "data": {
      "application/vnd.jupyter.widget-view+json": {
       "model_id": "7d33f32267254e68b657e77f9ea938da",
       "version_major": 2,
       "version_minor": 0
      },
      "text/plain": [
       "0it [00:00, ?it/s]"
      ]
     },
     "metadata": {},
     "output_type": "display_data"
    },
    {
     "name": "stdout",
     "output_type": "stream",
     "text": [
      "../../data_processing/dgl/data_new/exp3/training_data/secureBERT_150/valid.jsonl\n"
     ]
    },
    {
     "data": {
      "application/vnd.jupyter.widget-view+json": {
       "model_id": "459d1c04a2044ab892456092f6006073",
       "version_major": 2,
       "version_minor": 0
      },
      "text/plain": [
       "0it [00:00, ?it/s]"
      ]
     },
     "metadata": {},
     "output_type": "display_data"
    },
    {
     "name": "stdout",
     "output_type": "stream",
     "text": [
      "../../data_processing/dgl/data_new/exp3/training_data/secureBERT_150/test.jsonl\n"
     ]
    },
    {
     "data": {
      "application/vnd.jupyter.widget-view+json": {
       "model_id": "7b106ae3c5fb4b4e8131c30849df4c2c",
       "version_major": 2,
       "version_minor": 0
      },
      "text/plain": [
       "0it [00:00, ?it/s]"
      ]
     },
     "metadata": {},
     "output_type": "display_data"
    },
    {
     "name": "stdout",
     "output_type": "stream",
     "text": [
      "Datasets loaded!\n"
     ]
    }
   ],
   "source": [
    "datasets = ['train', 'valid', 'test']\n",
    "# datasets = ['valid']\n",
    "dataset_data = {}\n",
    "\n",
    "for dataset_name in tqdm(datasets):\n",
    "#     file_path = f\"../../data_processing/dgl/data_new/exp3/training_data/secureBERT_150/{dataset_name}.jsonl\"\n",
    "    file_path = f\"/workdir/home/bai/Euni_HO_modified/data/training_data/secureBERT_150/{dataset_name}.jsonl\"\n",
    "    \n",
    "    print(file_path)\n",
    "    with open(file_path) as f:\n",
    "        data_list = [json.loads(line) for line in tqdm(f, position=0, leave=True)]\n",
    "    \n",
    "    dataset_data[dataset_name] = GraphDataset(data_list, device)\n",
    "\n",
    "print(\"Datasets loaded!\")"
   ]
  },
  {
   "cell_type": "markdown",
   "metadata": {},
   "source": [
    "- choose batch size"
   ]
  },
  {
   "cell_type": "code",
   "execution_count": 6,
   "metadata": {},
   "outputs": [],
   "source": [
    "def create_dataloaders(batch_size, shuffle=True):\n",
    "    dataloaders = {}\n",
    "    for dataset_name, dataset in dataset_data.items():\n",
    "        # do not shuffle the testing dataset\n",
    "        if dataset_name == \"test\":\n",
    "            dataloaders[dataset_name] = DataLoader(dataset, batch_size=batch_size, shuffle=False, collate_fn=collate)    \n",
    "        else:\n",
    "            dataloaders[dataset_name] = DataLoader(dataset, batch_size=batch_size, shuffle=shuffle, collate_fn=collate)\n",
    "    return dataloaders\n",
    "\n",
    "dataloaders = create_dataloaders(16)"
   ]
  },
  {
   "cell_type": "code",
   "execution_count": 7,
   "metadata": {},
   "outputs": [
    {
     "name": "stdout",
     "output_type": "stream",
     "text": [
      "Graph(num_nodes=89, num_edges=154,\n",
      "      ndata_schemes={'feat': Scheme(shape=(150,), dtype=torch.float32)}\n",
      "      edata_schemes={'feat': Scheme(shape=(26,), dtype=torch.float32), 'label': Scheme(shape=(), dtype=torch.int64)}) \n",
      "\n",
      "edata['feat'] size: torch.Size([154, 26]) \n",
      "\n",
      "edata['label']: tensor([148, 148, 148, 148, 148, 148, 148,  53, 114, 114, 152,  62,  62,  62,\n",
      "         62,  62,  62, 111, 138, 138, 138, 138, 138, 138, 138, 138, 138, 138,\n",
      "         91,  91,  91, 130, 130, 130, 130, 130,  17,  17,  17,  17,  17,  17,\n",
      "         17,  17,  17,  17,  17,  17,  17,  17,  17,  17,  17,  17,  17,  17,\n",
      "         17,  17,  17,  17,  17,  17,  17,  17,  17,  17,  17,  17,  17,  17,\n",
      "         17,  17,  17,  17,  17,  17,  17,  17,  17,  17,  17,  17,  17,  17,\n",
      "         17,  17,  17,  17,  17,  17,  17,  17,  17,  17,  17,  17,  17,  17,\n",
      "         17,  17,  17,  17,  17,  17,  17,  17,  17,  17,  17,  17,  17,  17,\n",
      "         17,  17,  17,  17,  17,  17,  17,  17,  17,  17,  17,  17,  17,  17,\n",
      "         17,  17,  17,  17,  17,  17,  17,  17,  17,  17,  17,  17,  17,  17,\n",
      "         57,  59,  59,  59,  83, 103, 103, 120, 120, 120, 120, 120, 120,  83])\n",
      "\n",
      "\n",
      "edge embedding dimension:  26\n"
     ]
    }
   ],
   "source": [
    "edge_embedding_dim = 0\n",
    "\n",
    "# Assuming dataloaders is a dictionary with 'test' as one of the keys\n",
    "for batch in dataloaders['train']:\n",
    "    # Your batch processing code here\n",
    "    print(batch, \"\\n\")\n",
    "#     print(\"edata:\", batch.edata, '\\n')\n",
    "    print(\"edata['feat'] size:\", batch.edata['feat'].shape, '\\n')\n",
    "    print(\"edata['label']:\", batch.edata['label'])\n",
    "\n",
    "    edge_embedding_dim = batch.edata['feat'].shape[1]\n",
    "\n",
    "    break  # To break out after the first batch if needed\n",
    "\n",
    "print(\"\\n\\nedge embedding dimension: \", edge_embedding_dim)"
   ]
  },
  {
   "cell_type": "markdown",
   "metadata": {},
   "source": [
    "- Turn the print message to a log file"
   ]
  },
  {
   "cell_type": "code",
   "execution_count": 14,
   "metadata": {},
   "outputs": [
    {
     "name": "stdout",
     "output_type": "stream",
     "text": [
      "../log_message/1212_00:59_GraphSAGE_secureBERT_150-withedge.log\n"
     ]
    }
   ],
   "source": [
    "import datetime\n",
    "\n",
    "now = datetime.datetime.now()\n",
    "\n",
    "formatted_time = now.strftime(\"%m%d_%H:%M\")\n",
    "\n",
    "log_file_path = f\"../log_message/{formatted_time}_GraphSAGE_secureBERT_150-withedge.log\"\n",
    "\n",
    "def add_log_msg(msg, log_file_path=log_file_path):\n",
    "    with open(log_file_path, 'a') as f:\n",
    "        f.write(f'{datetime.datetime.now().strftime(\"%m/%d/%Y, %H:%M:%S\")}# {msg}\\n')\n",
    "    print(f'{datetime.datetime.now().strftime(\"%m/%d/%Y, %H:%M:%S\")}# {msg}')\n",
    "\n",
    "print(log_file_path)"
   ]
  },
  {
   "cell_type": "markdown",
   "metadata": {},
   "source": [
    "### Model"
   ]
  },
  {
   "cell_type": "code",
   "execution_count": 15,
   "metadata": {},
   "outputs": [],
   "source": [
    "class GraphSAGE(nn.Module):\n",
    "    def __init__(self, in_dim, hidden_dim, out_dim):\n",
    "        super(GraphSAGE, self).__init__()\n",
    "        self.layer1 = dglnn.SAGEConv(in_dim, hidden_dim, 'pool')\n",
    "        self.layer2 = dglnn.SAGEConv(hidden_dim, out_dim, 'pool')\n",
    "#         self.dropout = nn.Dropout(0.25)\n",
    "\n",
    "    def forward(self, g, inputs):\n",
    "        h = self.layer1(g, inputs)\n",
    "        h = torch.relu(h)\n",
    "#         h = self.dropout(h)\n",
    "        new_node_feat = self.layer2(g, h)\n",
    "    \n",
    "        return new_node_feat"
   ]
  },
  {
   "cell_type": "code",
   "execution_count": 16,
   "metadata": {},
   "outputs": [],
   "source": [
    "class MLPPredictor(nn.Module):\n",
    "    def __init__(self, out_feats, out_classes, edge_embedding_dim):\n",
    "        super().__init__()\n",
    "        self.W = nn.Linear(out_feats*2 + edge_embedding_dim, out_classes)\n",
    "\n",
    "    def apply_edges(self, edges, edge_feat):\n",
    "#     def apply_edges(self, edges):\n",
    "\n",
    "        h_u = edges.src['new_node_feat']\n",
    "        h_v = edges.dst['new_node_feat']\n",
    "        \n",
    "        num_edges, edge_feat_dim = edge_feat.shape\n",
    "#         print(num_edges, edge_feat_dim)\n",
    "        \n",
    "        h_e = edge_feat\n",
    "        \n",
    "        # concat 3 features\n",
    "#         test = torch.cat([h_u, h_v, h_e],1)\n",
    "#         print(\"with edge: \", test.shape)\n",
    "        \n",
    "#         test = torch.cat([h_u, h_v],1)\n",
    "#         print(\"without edge: \", test.shape)\n",
    "        \n",
    "        score = self.W(torch.cat([h_u, h_v, h_e], 1))\n",
    "#         score = self.W(torch.cat([h_u, h_v], 1))\n",
    "\n",
    "        return {'score': score}\n",
    "\n",
    "\n",
    "    def forward(self, graph, new_node_feat, edge_feat):\n",
    "        with graph.local_scope():\n",
    "            graph.ndata['new_node_feat'] = new_node_feat\n",
    "#             graph.apply_edges(self.apply_edges)\n",
    "\n",
    "            # 在 apply_edges 时传递 edge_feat\n",
    "            graph.apply_edges(lambda edges: self.apply_edges(edges, edge_feat))\n",
    "            return graph.edata['score']"
   ]
  },
  {
   "cell_type": "code",
   "execution_count": 17,
   "metadata": {},
   "outputs": [],
   "source": [
    "class Model(nn.Module):\n",
    "    def __init__(self, in_features, hidden_features, out_features, num_classes, edge_embedding_dim):\n",
    "        super().__init__()\n",
    "        self.sage = GraphSAGE(in_features, hidden_features, out_features)\n",
    "        self.pred = MLPPredictor(out_features, num_classes, edge_embedding_dim)\n",
    "      \n",
    "    def forward(self, g, node_feat, edge_feat, return_logits=False):\n",
    "        new_node_feat = self.sage(g, node_feat)\n",
    "        logits = self.pred(g, new_node_feat, edge_feat)\n",
    "        \n",
    "        return logits"
   ]
  },
  {
   "cell_type": "markdown",
   "metadata": {},
   "source": [
    "- Model Forward  "
   ]
  },
  {
   "cell_type": "code",
   "execution_count": 18,
   "metadata": {},
   "outputs": [],
   "source": [
    "def model_fn(batched_g, model, criterion, device, count=1, which_type='train'):\n",
    "    \"\"\"Forward a batch through the model.\"\"\"\n",
    "#     batched_g, labels = data\n",
    "    batched_g = batched_g.to(device)\n",
    "    \n",
    "    labels = batched_g.edata['label'].to(device)\n",
    "    \n",
    "#     logits = model(batched_g, batched_g.ndata['feat'].float())\n",
    "    logits = model(batched_g, batched_g.ndata['feat'].float(), batched_g.edata['feat'].float())\n",
    "\n",
    "    loss = criterion(logits, labels)\n",
    "\n",
    "    output = torch.softmax(logits, dim=1)\n",
    "    preds = output.argmax(1)\n",
    "    \n",
    "    # Compute accuracy\n",
    "    accuracy = torch.mean((preds == labels).float())\n",
    "    \n",
    "#     if which_type == 'validation' and count % 1000 == 0:\n",
    "#         add_log_msg(f\"labels of Validation: {labels} {labels.shape}\")\n",
    "#         add_log_msg(f\"predicted of Validation: {preds} {preds.shape}\")\n",
    "        \n",
    "#     elif which_type == 'test'  and count % 1000 == 0:\n",
    "#         add_log_msg(f\"labels of Test: {labels} {labels.shape}\")\n",
    "#         add_log_msg(f\"predicted of Test: {preds} {preds.shape}\")\n",
    "        \n",
    "#     if count % 5000 == 0: \n",
    "#         add_log_msg(f\"labels of {count}: {labels} {labels.shape}\")\n",
    "#         add_log_msg(f\"predicted of {count}: {preds} {preds.shape}\")\n",
    "        \n",
    "    return loss, accuracy, preds"
   ]
  },
  {
   "cell_type": "markdown",
   "metadata": {},
   "source": [
    "### Training"
   ]
  },
  {
   "cell_type": "markdown",
   "metadata": {},
   "source": [
    "- Fix the seed and save the model.state_dict that contains the initial weight"
   ]
  },
  {
   "cell_type": "code",
   "execution_count": null,
   "metadata": {},
   "outputs": [],
   "source": [
    "seed = 8787\n",
    "same_seeds(seed)\n",
    "\n",
    "model = Model(in_features=150, hidden_features=64, out_features=128, num_classes=167)\n",
    "torch.save(model.state_dict(), 'model3_initial(graphsage)/initial_weight.pth')"
   ]
  },
  {
   "cell_type": "code",
   "execution_count": null,
   "metadata": {},
   "outputs": [],
   "source": [
    "# model.layer1.fc_self.weight\n",
    "model.sage.layer1.fc_self.weight"
   ]
  },
  {
   "cell_type": "markdown",
   "metadata": {},
   "source": [
    "- Check if model really load the model_dict"
   ]
  },
  {
   "cell_type": "code",
   "execution_count": null,
   "metadata": {},
   "outputs": [],
   "source": [
    "model = Model(in_features=150, hidden_features=64, out_features=128, num_classes=167)\n",
    "model.load_state_dict(torch.load('model3_initial(graphsage)/initial_weight.pth'))\n",
    "model.sage.layer1.fc_self.weight"
   ]
  },
  {
   "cell_type": "code",
   "execution_count": 19,
   "metadata": {
    "scrolled": true
   },
   "outputs": [
    {
     "data": {
      "application/vnd.jupyter.widget-view+json": {
       "model_id": "82b3c868216a474da4d60940bbd4a50f",
       "version_major": 2,
       "version_minor": 0
      },
      "text/plain": [
       "  0%|          | 0/20 [00:00<?, ?it/s]"
      ]
     },
     "metadata": {},
     "output_type": "display_data"
    },
    {
     "data": {
      "application/vnd.jupyter.widget-view+json": {
       "model_id": "870e4acda89b4acd9256fda360b397ee",
       "version_major": 2,
       "version_minor": 0
      },
      "text/plain": [
       "Training:   0%|          | 0/8250 [00:00<?, ?it/s]"
      ]
     },
     "metadata": {},
     "output_type": "display_data"
    },
    {
     "name": "stdout",
     "output_type": "stream",
     "text": [
      "12/12/2023, 01:01:38# total batches: 8250\n",
      "12/12/2023, 01:01:38# Epoch 0 | Train Loss: 1.1464 | Train Accuracy: 0.7572\n"
     ]
    },
    {
     "data": {
      "application/vnd.jupyter.widget-view+json": {
       "model_id": "cba342af59904ffbbc8229cc8ecf1c8f",
       "version_major": 2,
       "version_minor": 0
      },
      "text/plain": [
       "Validation:   0%|          | 0/1032 [00:00<?, ?it/s]"
      ]
     },
     "metadata": {},
     "output_type": "display_data"
    },
    {
     "name": "stdout",
     "output_type": "stream",
     "text": [
      "12/12/2023, 01:01:50# Validation Loss: 0.7459 | Validation Accuracy: 0.8537\n",
      "\n",
      "12/12/2023, 01:01:50# Find a better model!!\n"
     ]
    },
    {
     "data": {
      "application/vnd.jupyter.widget-view+json": {
       "model_id": "7f762447933a4a8981afa4ba37d0ab45",
       "version_major": 2,
       "version_minor": 0
      },
      "text/plain": [
       "Training:   0%|          | 0/8250 [00:00<?, ?it/s]"
      ]
     },
     "metadata": {},
     "output_type": "display_data"
    },
    {
     "name": "stdout",
     "output_type": "stream",
     "text": [
      "12/12/2023, 01:04:00# total batches: 8250\n",
      "12/12/2023, 01:04:00# Epoch 1 | Train Loss: 0.7156 | Train Accuracy: 0.8570\n"
     ]
    },
    {
     "data": {
      "application/vnd.jupyter.widget-view+json": {
       "model_id": "e37afb49a7a1454cb5c097af88cbd249",
       "version_major": 2,
       "version_minor": 0
      },
      "text/plain": [
       "Validation:   0%|          | 0/1032 [00:00<?, ?it/s]"
      ]
     },
     "metadata": {},
     "output_type": "display_data"
    },
    {
     "name": "stdout",
     "output_type": "stream",
     "text": [
      "12/12/2023, 01:04:12# Validation Loss: 0.7105 | Validation Accuracy: 0.8551\n",
      "\n",
      "12/12/2023, 01:04:12# Find a better model!!\n"
     ]
    },
    {
     "data": {
      "application/vnd.jupyter.widget-view+json": {
       "model_id": "44a04339776140a591bcf000ae5a1c4a",
       "version_major": 2,
       "version_minor": 0
      },
      "text/plain": [
       "Training:   0%|          | 0/8250 [00:00<?, ?it/s]"
      ]
     },
     "metadata": {},
     "output_type": "display_data"
    },
    {
     "name": "stdout",
     "output_type": "stream",
     "text": [
      "12/12/2023, 01:06:27# total batches: 8250\n",
      "12/12/2023, 01:06:27# Epoch 2 | Train Loss: 0.6861 | Train Accuracy: 0.8592\n"
     ]
    },
    {
     "data": {
      "application/vnd.jupyter.widget-view+json": {
       "model_id": "b1751e97e25049f29ac1c0ad347b9caa",
       "version_major": 2,
       "version_minor": 0
      },
      "text/plain": [
       "Validation:   0%|          | 0/1032 [00:00<?, ?it/s]"
      ]
     },
     "metadata": {},
     "output_type": "display_data"
    },
    {
     "name": "stdout",
     "output_type": "stream",
     "text": [
      "12/12/2023, 01:06:37# Validation Loss: 0.6826 | Validation Accuracy: 0.8600\n",
      "\n",
      "12/12/2023, 01:06:37# Find a better model!!\n"
     ]
    },
    {
     "data": {
      "application/vnd.jupyter.widget-view+json": {
       "model_id": "8a5ac11ac0db41c884cedae8d4c31c35",
       "version_major": 2,
       "version_minor": 0
      },
      "text/plain": [
       "Training:   0%|          | 0/8250 [00:00<?, ?it/s]"
      ]
     },
     "metadata": {},
     "output_type": "display_data"
    },
    {
     "name": "stdout",
     "output_type": "stream",
     "text": [
      "12/12/2023, 01:08:47# total batches: 8250\n",
      "12/12/2023, 01:08:47# Epoch 3 | Train Loss: 0.6712 | Train Accuracy: 0.8606\n"
     ]
    },
    {
     "data": {
      "application/vnd.jupyter.widget-view+json": {
       "model_id": "1b240ca776be43c7914a563d1fc9942b",
       "version_major": 2,
       "version_minor": 0
      },
      "text/plain": [
       "Validation:   0%|          | 0/1032 [00:00<?, ?it/s]"
      ]
     },
     "metadata": {},
     "output_type": "display_data"
    },
    {
     "name": "stdout",
     "output_type": "stream",
     "text": [
      "12/12/2023, 01:08:59# Validation Loss: 0.6792 | Validation Accuracy: 0.8600\n",
      "\n",
      "12/12/2023, 01:08:59# Find a better model!!\n"
     ]
    },
    {
     "data": {
      "application/vnd.jupyter.widget-view+json": {
       "model_id": "163349efcac14db4aae43aaf9ba851fa",
       "version_major": 2,
       "version_minor": 0
      },
      "text/plain": [
       "Training:   0%|          | 0/8250 [00:00<?, ?it/s]"
      ]
     },
     "metadata": {},
     "output_type": "display_data"
    },
    {
     "name": "stdout",
     "output_type": "stream",
     "text": [
      "12/12/2023, 01:11:10# total batches: 8250\n",
      "12/12/2023, 01:11:10# Epoch 4 | Train Loss: 0.6667 | Train Accuracy: 0.8607\n"
     ]
    },
    {
     "data": {
      "application/vnd.jupyter.widget-view+json": {
       "model_id": "ee9396e380ee4271a9cf377b17b04c66",
       "version_major": 2,
       "version_minor": 0
      },
      "text/plain": [
       "Validation:   0%|          | 0/1032 [00:00<?, ?it/s]"
      ]
     },
     "metadata": {},
     "output_type": "display_data"
    },
    {
     "name": "stdout",
     "output_type": "stream",
     "text": [
      "12/12/2023, 01:11:21# Validation Loss: 0.6783 | Validation Accuracy: 0.8588\n",
      "\n",
      "12/12/2023, 01:11:21# Find a better model!!\n"
     ]
    },
    {
     "data": {
      "application/vnd.jupyter.widget-view+json": {
       "model_id": "4f22682cf8164df8b27feaf71db18f60",
       "version_major": 2,
       "version_minor": 0
      },
      "text/plain": [
       "Training:   0%|          | 0/8250 [00:00<?, ?it/s]"
      ]
     },
     "metadata": {},
     "output_type": "display_data"
    },
    {
     "name": "stdout",
     "output_type": "stream",
     "text": [
      "12/12/2023, 01:13:26# total batches: 8250\n",
      "12/12/2023, 01:13:26# Epoch 5 | Train Loss: 0.6620 | Train Accuracy: 0.8611\n"
     ]
    },
    {
     "data": {
      "application/vnd.jupyter.widget-view+json": {
       "model_id": "2791ca38c458425582aec44817b7ef35",
       "version_major": 2,
       "version_minor": 0
      },
      "text/plain": [
       "Validation:   0%|          | 0/1032 [00:00<?, ?it/s]"
      ]
     },
     "metadata": {},
     "output_type": "display_data"
    },
    {
     "name": "stdout",
     "output_type": "stream",
     "text": [
      "12/12/2023, 01:13:38# Validation Loss: 0.6759 | Validation Accuracy: 0.8578\n",
      "\n",
      "12/12/2023, 01:13:38# Find a better model!!\n"
     ]
    },
    {
     "data": {
      "application/vnd.jupyter.widget-view+json": {
       "model_id": "fd88d16d5e584020a9048dc421824e4e",
       "version_major": 2,
       "version_minor": 0
      },
      "text/plain": [
       "Training:   0%|          | 0/8250 [00:00<?, ?it/s]"
      ]
     },
     "metadata": {},
     "output_type": "display_data"
    },
    {
     "name": "stdout",
     "output_type": "stream",
     "text": [
      "12/12/2023, 01:15:46# total batches: 8250\n",
      "12/12/2023, 01:15:46# Epoch 6 | Train Loss: 0.6567 | Train Accuracy: 0.8618\n"
     ]
    },
    {
     "data": {
      "application/vnd.jupyter.widget-view+json": {
       "model_id": "b090413d8c494197a89df241e0a0f98a",
       "version_major": 2,
       "version_minor": 0
      },
      "text/plain": [
       "Validation:   0%|          | 0/1032 [00:00<?, ?it/s]"
      ]
     },
     "metadata": {},
     "output_type": "display_data"
    },
    {
     "name": "stdout",
     "output_type": "stream",
     "text": [
      "12/12/2023, 01:15:58# Validation Loss: 0.6764 | Validation Accuracy: 0.8581\n",
      "\n"
     ]
    },
    {
     "data": {
      "application/vnd.jupyter.widget-view+json": {
       "model_id": "3e246085811841f099e73f0f8a8e46a8",
       "version_major": 2,
       "version_minor": 0
      },
      "text/plain": [
       "Training:   0%|          | 0/8250 [00:00<?, ?it/s]"
      ]
     },
     "metadata": {},
     "output_type": "display_data"
    },
    {
     "name": "stdout",
     "output_type": "stream",
     "text": [
      "12/12/2023, 01:18:02# total batches: 8250\n",
      "12/12/2023, 01:18:02# Epoch 7 | Train Loss: 0.6567 | Train Accuracy: 0.8619\n"
     ]
    },
    {
     "data": {
      "application/vnd.jupyter.widget-view+json": {
       "model_id": "e8dc3bcd7a474bd689127d9e16341a38",
       "version_major": 2,
       "version_minor": 0
      },
      "text/plain": [
       "Validation:   0%|          | 0/1032 [00:00<?, ?it/s]"
      ]
     },
     "metadata": {},
     "output_type": "display_data"
    },
    {
     "name": "stdout",
     "output_type": "stream",
     "text": [
      "12/12/2023, 01:18:14# Validation Loss: 0.6668 | Validation Accuracy: 0.8596\n",
      "\n",
      "12/12/2023, 01:18:14# Find a better model!!\n"
     ]
    },
    {
     "data": {
      "application/vnd.jupyter.widget-view+json": {
       "model_id": "14fb95070b5e4b40b2b19cfe5c8efe52",
       "version_major": 2,
       "version_minor": 0
      },
      "text/plain": [
       "Training:   0%|          | 0/8250 [00:00<?, ?it/s]"
      ]
     },
     "metadata": {},
     "output_type": "display_data"
    },
    {
     "name": "stdout",
     "output_type": "stream",
     "text": [
      "12/12/2023, 01:20:21# total batches: 8250\n",
      "12/12/2023, 01:20:21# Epoch 8 | Train Loss: 0.6501 | Train Accuracy: 0.8634\n"
     ]
    },
    {
     "data": {
      "application/vnd.jupyter.widget-view+json": {
       "model_id": "8753333457dc4dbe975cdba7b82434c7",
       "version_major": 2,
       "version_minor": 0
      },
      "text/plain": [
       "Validation:   0%|          | 0/1032 [00:00<?, ?it/s]"
      ]
     },
     "metadata": {},
     "output_type": "display_data"
    },
    {
     "name": "stdout",
     "output_type": "stream",
     "text": [
      "12/12/2023, 01:20:33# Validation Loss: 0.6693 | Validation Accuracy: 0.8595\n",
      "\n"
     ]
    },
    {
     "data": {
      "application/vnd.jupyter.widget-view+json": {
       "model_id": "b78060cf2f8e4961a5a8a2f18c119403",
       "version_major": 2,
       "version_minor": 0
      },
      "text/plain": [
       "Training:   0%|          | 0/8250 [00:00<?, ?it/s]"
      ]
     },
     "metadata": {},
     "output_type": "display_data"
    },
    {
     "name": "stdout",
     "output_type": "stream",
     "text": [
      "12/12/2023, 01:22:38# total batches: 8250\n",
      "12/12/2023, 01:22:38# Epoch 9 | Train Loss: 0.6392 | Train Accuracy: 0.8656\n"
     ]
    },
    {
     "data": {
      "application/vnd.jupyter.widget-view+json": {
       "model_id": "d501e822e2454b56bd4160402e6b502a",
       "version_major": 2,
       "version_minor": 0
      },
      "text/plain": [
       "Validation:   0%|          | 0/1032 [00:00<?, ?it/s]"
      ]
     },
     "metadata": {},
     "output_type": "display_data"
    },
    {
     "name": "stdout",
     "output_type": "stream",
     "text": [
      "12/12/2023, 01:22:50# Validation Loss: 0.6570 | Validation Accuracy: 0.8621\n",
      "\n",
      "12/12/2023, 01:22:50# Find a better model!!\n"
     ]
    },
    {
     "data": {
      "application/vnd.jupyter.widget-view+json": {
       "model_id": "e0860b0163b34c6bab7ec23213878e7b",
       "version_major": 2,
       "version_minor": 0
      },
      "text/plain": [
       "Training:   0%|          | 0/8250 [00:00<?, ?it/s]"
      ]
     },
     "metadata": {},
     "output_type": "display_data"
    },
    {
     "name": "stdout",
     "output_type": "stream",
     "text": [
      "12/12/2023, 01:24:57# total batches: 8250\n",
      "12/12/2023, 01:24:57# Epoch 10 | Train Loss: 0.6394 | Train Accuracy: 0.8658\n"
     ]
    },
    {
     "data": {
      "application/vnd.jupyter.widget-view+json": {
       "model_id": "de694ef03e554e6690b929df7ad7fe0a",
       "version_major": 2,
       "version_minor": 0
      },
      "text/plain": [
       "Validation:   0%|          | 0/1032 [00:00<?, ?it/s]"
      ]
     },
     "metadata": {},
     "output_type": "display_data"
    },
    {
     "name": "stdout",
     "output_type": "stream",
     "text": [
      "12/12/2023, 01:25:09# Validation Loss: 0.6802 | Validation Accuracy: 0.8568\n",
      "\n"
     ]
    },
    {
     "data": {
      "application/vnd.jupyter.widget-view+json": {
       "model_id": "bc1b289bc65f4a96b184c7b0ae13689f",
       "version_major": 2,
       "version_minor": 0
      },
      "text/plain": [
       "Training:   0%|          | 0/8250 [00:00<?, ?it/s]"
      ]
     },
     "metadata": {},
     "output_type": "display_data"
    },
    {
     "name": "stdout",
     "output_type": "stream",
     "text": [
      "12/12/2023, 01:27:14# total batches: 8250\n",
      "12/12/2023, 01:27:14# Epoch 11 | Train Loss: 0.6412 | Train Accuracy: 0.8655\n"
     ]
    },
    {
     "data": {
      "application/vnd.jupyter.widget-view+json": {
       "model_id": "e370b662c99844e1b6388c67a33084f5",
       "version_major": 2,
       "version_minor": 0
      },
      "text/plain": [
       "Validation:   0%|          | 0/1032 [00:00<?, ?it/s]"
      ]
     },
     "metadata": {},
     "output_type": "display_data"
    },
    {
     "name": "stdout",
     "output_type": "stream",
     "text": [
      "12/12/2023, 01:27:25# Validation Loss: 0.6800 | Validation Accuracy: 0.8572\n",
      "\n"
     ]
    },
    {
     "data": {
      "application/vnd.jupyter.widget-view+json": {
       "model_id": "c128adf5401043e3904a0fefb817c0b4",
       "version_major": 2,
       "version_minor": 0
      },
      "text/plain": [
       "Training:   0%|          | 0/8250 [00:00<?, ?it/s]"
      ]
     },
     "metadata": {},
     "output_type": "display_data"
    },
    {
     "name": "stdout",
     "output_type": "stream",
     "text": [
      "12/12/2023, 01:29:34# total batches: 8250\n",
      "12/12/2023, 01:29:34# Epoch 12 | Train Loss: 0.6394 | Train Accuracy: 0.8658\n"
     ]
    },
    {
     "data": {
      "application/vnd.jupyter.widget-view+json": {
       "model_id": "4908c80d5d414e92aa4ebc012697f01b",
       "version_major": 2,
       "version_minor": 0
      },
      "text/plain": [
       "Validation:   0%|          | 0/1032 [00:00<?, ?it/s]"
      ]
     },
     "metadata": {},
     "output_type": "display_data"
    },
    {
     "name": "stdout",
     "output_type": "stream",
     "text": [
      "12/12/2023, 01:29:45# Validation Loss: 0.6796 | Validation Accuracy: 0.8584\n",
      "\n"
     ]
    },
    {
     "data": {
      "application/vnd.jupyter.widget-view+json": {
       "model_id": "756fc6308c384088aa3cb3c962674a2e",
       "version_major": 2,
       "version_minor": 0
      },
      "text/plain": [
       "Training:   0%|          | 0/8250 [00:00<?, ?it/s]"
      ]
     },
     "metadata": {},
     "output_type": "display_data"
    },
    {
     "name": "stdout",
     "output_type": "stream",
     "text": [
      "12/12/2023, 01:32:00# total batches: 8250\n",
      "12/12/2023, 01:32:00# Epoch 13 | Train Loss: 0.6324 | Train Accuracy: 0.8672\n"
     ]
    },
    {
     "data": {
      "application/vnd.jupyter.widget-view+json": {
       "model_id": "639a616b6ecb4bf7884a329848875595",
       "version_major": 2,
       "version_minor": 0
      },
      "text/plain": [
       "Validation:   0%|          | 0/1032 [00:00<?, ?it/s]"
      ]
     },
     "metadata": {},
     "output_type": "display_data"
    },
    {
     "name": "stdout",
     "output_type": "stream",
     "text": [
      "12/12/2023, 01:32:10# Validation Loss: 0.6792 | Validation Accuracy: 0.8583\n",
      "\n",
      "12/12/2023, 01:32:10# ============================== Early stopping ==================================\n"
     ]
    }
   ],
   "source": [
    "import csv\n",
    "import pandas as pd\n",
    "from sklearn.metrics import classification_report\n",
    "from torch.optim import AdamW, lr_scheduler\n",
    "\n",
    "seed = 8787\n",
    "same_seeds(seed)\n",
    "\n",
    "# model = GraphSAGE(in_dim=50, hidden_dim=16, out_dim=167)\n",
    "model = Model(in_features=150, hidden_features=64, out_features=128, num_classes=167, edge_embedding_dim = edge_embedding_dim)\n",
    "# in_dim means the dimension of the node_feat(50 dim, since the 50-dim embedding)\n",
    "# out_dim means the # of the categories -> 168 for out tasks\n",
    "# model.load_state_dict(torch.load('model3_initial(graphsage)/initial_weight.pth'))\n",
    "best_model_path = \"../checkpoint_graphSAGE/best_model_GraphSAGE_secureBERT_150.pt\"\n",
    "\n",
    "model = model.to(device)\n",
    "\n",
    "# optimizer = torch.optim.AdamW(model.parameters(), lr=1e-5)\n",
    "optimizer = AdamW(model.parameters(), lr=5e-4)\n",
    "# scheduler = get_linear_schedule_with_warmup(optimizer, num_warmup_steps=18, num_training_steps=total_steps)\n",
    "\n",
    "# T_max control the period of the lr changing -> set 1/10 first\n",
    "scheduler = lr_scheduler.CosineAnnealingLR(optimizer, T_max=36, eta_min=0, last_epoch=- 1, verbose=False)\n",
    "\n",
    "criterion = nn.CrossEntropyLoss()\n",
    "# criterion = torch.nn.BCEWithLogitsLoss()\n",
    "\n",
    "total_steps = 20\n",
    "\n",
    "# save the best model\n",
    "best_val_loss = float('inf')\n",
    "patience = 4  # Number of epochs with no improvement after which training will be stopped.\n",
    "waiting = 0  # The number of epochs with no improvement so far.\n",
    "\n",
    "\n",
    "# Training Part\n",
    "for epoch in tqdm(range(total_steps)):\n",
    "    # Train\n",
    "    model.train()\n",
    "    total_loss = 0.0\n",
    "    total_accuracy = 0.0\n",
    "    num_batches = 0\n",
    "    \n",
    "    for batched_g in tqdm(dataloaders['train'], desc=\"Training\", position=0, leave=True):\n",
    "        num_batches += 1\n",
    "        loss, accuracy, _ = model_fn(batched_g, model, criterion, device, num_batches, which_type='train')\n",
    "        \n",
    "        optimizer.zero_grad()\n",
    "        loss.backward()\n",
    "        optimizer.step()\n",
    "\n",
    "        total_loss += loss.item()\n",
    "        total_accuracy += accuracy.item()\n",
    "\n",
    "        \n",
    "#     scheduler.step()\n",
    "    add_log_msg(f\"total batches: {num_batches}\")\n",
    "\n",
    "    avg_loss = total_loss / num_batches\n",
    "    avg_accuracy = total_accuracy / num_batches\n",
    "\n",
    "    add_log_msg(f'Epoch {epoch} | Train Loss: {avg_loss:.4f} | Train Accuracy: {avg_accuracy:.4f}')\n",
    "\n",
    "    \n",
    "    # Validation Part\n",
    "    model.eval()\n",
    "    total_accuracy = 0.0\n",
    "    total_loss = 0.0\n",
    "    num_batches = 0\n",
    "\n",
    "\n",
    "    with torch.no_grad():\n",
    "        for batched_g in tqdm(dataloaders['valid'], desc=\"Validation\", position=0, leave=True):\n",
    "            loss, accuracy, _ = model_fn(batched_g, model, criterion, device, num_batches, which_type='validation')\n",
    "            total_accuracy += accuracy.item()\n",
    "            total_loss += loss.item()\n",
    "            num_batches += 1\n",
    "\n",
    "    avg_accuracy = total_accuracy / num_batches\n",
    "    current_loss = total_loss / num_batches\n",
    "    \n",
    "    add_log_msg(f'Validation Loss: {current_loss:.4f} | Validation Accuracy: {avg_accuracy:.4f}\\n')\n",
    "    \n",
    "            \n",
    "    if current_loss < best_val_loss:\n",
    "        best_val_loss = current_loss\n",
    "        waiting = 0\n",
    "        \n",
    "        if os.path.exists(best_model_path):\n",
    "            os.remove(best_model_path)\n",
    "            add_log_msg(\"Find a better model!!\")\n",
    "\n",
    "        torch.save(model.state_dict(), best_model_path)\n",
    "\n",
    "#         print(best_model_path)\n",
    "\n",
    "    else:\n",
    "        waiting += 1\n",
    "        if waiting >= patience:\n",
    "            add_log_msg(\"============================== Early stopping ==================================\")\n",
    "            break"
   ]
  },
  {
   "cell_type": "markdown",
   "metadata": {},
   "source": [
    "### test of valid and test part is ``graph``"
   ]
  },
  {
   "cell_type": "markdown",
   "metadata": {},
   "source": [
    "- 60 APs in training x 10000times\n",
    "- 5 APs in validation x 4 times\n",
    "- 3 APs in test x 4 times\n",
    "- Batch size = 4"
   ]
  },
  {
   "cell_type": "code",
   "execution_count": 20,
   "metadata": {
    "scrolled": true
   },
   "outputs": [
    {
     "data": {
      "application/vnd.jupyter.widget-view+json": {
       "model_id": "5dc32198be4f40db86e9f01e54576faa",
       "version_major": 2,
       "version_minor": 0
      },
      "text/plain": [
       "Testing:   0%|          | 0/1032 [00:00<?, ?it/s]"
      ]
     },
     "metadata": {},
     "output_type": "display_data"
    },
    {
     "name": "stdout",
     "output_type": "stream",
     "text": [
      "12/12/2023, 01:32:10# labels: tensor([65, 65, 65, 65, 70, 70, 70, 70, 70, 70, 70, 70, 70, 70, 70, 70, 70, 70,\n",
      "        70, 70, 70, 70, 70, 70, 70, 70, 70, 65, 65, 65, 65, 65, 65, 65, 65, 65,\n",
      "        65, 65, 65, 65, 65, 65, 65, 65, 65, 65, 65, 65, 65, 65, 65, 65, 65, 65,\n",
      "        65, 65, 65, 70, 70, 70, 70, 70, 70, 70, 70, 70, 70, 70, 70, 70, 70, 70,\n",
      "        70, 70, 70, 70, 70, 70, 70, 70, 65, 65, 65, 65, 65, 65, 65, 65, 70, 70,\n",
      "        70, 70, 70, 70, 70, 70, 70, 70, 70, 70, 70, 70, 70, 70, 70, 70, 70, 70,\n",
      "        70, 70, 70, 65, 65, 65, 65, 65, 65, 65, 65, 70, 70, 70, 70, 70, 70, 70,\n",
      "        70, 70, 70, 70, 70, 70, 70, 70, 70, 70, 70, 70, 70, 70, 70, 70, 65, 65,\n",
      "        65, 65, 65, 65, 65, 65, 65, 70, 70, 70, 70, 70, 70, 70, 70, 70, 70, 70,\n",
      "        70, 70, 70, 70, 70, 70, 70, 70, 70, 70, 70, 70, 65, 65, 65, 65, 65, 65,\n",
      "        65, 65, 65, 65, 65, 65, 70, 70, 70, 70, 70, 70, 70, 70, 70, 70, 70, 70,\n",
      "        70, 70, 70, 70, 70, 70, 70, 70, 70, 70, 70, 65, 65, 65, 65, 65, 65, 65,\n",
      "        65, 65, 65, 65, 65, 65, 65, 65, 65, 65, 70, 70, 70, 70, 70, 70, 70, 70,\n",
      "        70, 70, 70, 70, 70, 70, 70, 70, 70, 70, 70, 70, 70, 70, 70, 65, 65, 65,\n",
      "        65, 65, 65, 65, 65, 65, 65, 65, 65, 65, 65, 65, 65, 65, 65, 65, 65, 65,\n",
      "        65, 65, 65, 65, 65, 65, 65, 65, 65, 65, 65, 65, 65, 65, 65, 65, 70, 70,\n",
      "        70, 70, 70, 70, 70, 70, 70, 70, 70, 70, 70, 70, 70, 70, 70, 70, 70, 70,\n",
      "        70, 70, 70, 65, 65, 65, 65, 65, 65, 65, 65, 65, 65, 65, 65, 65, 65, 65,\n",
      "        65, 65, 65, 65, 65, 65, 65, 65, 65, 65, 70, 70, 70, 70, 70, 70, 70, 70,\n",
      "        70, 70, 70, 70, 70, 70, 70, 70, 70, 70, 70, 70, 70, 70, 70, 65, 65, 65,\n",
      "        65, 65, 65, 65, 65, 65, 65, 65, 65, 65, 65, 65, 65, 65, 65, 65, 70, 70,\n",
      "        70, 70, 70, 70, 70, 70, 70, 70, 70, 70, 70, 70, 70, 70, 70, 70, 70, 70,\n",
      "        70, 70, 70, 65, 65, 65, 65, 65, 65, 65, 65, 65, 65, 65, 65, 65, 65, 70,\n",
      "        70, 70, 70, 70, 70, 70, 70, 70, 70, 70, 70, 70, 70, 70, 70, 70, 70, 70,\n",
      "        70, 70, 70, 70, 65, 65, 65, 65, 65, 65, 65, 65, 65, 65, 65, 65, 65, 65,\n",
      "        65, 65, 70, 70, 70, 70, 70, 70, 70, 70, 70, 70, 70, 70, 70, 70, 70, 70,\n",
      "        70, 70, 70, 70, 70, 70, 70, 65, 65, 65, 65, 65, 65, 65, 65, 65, 65, 65,\n",
      "        65, 65, 65, 65, 65, 65, 65, 65, 65, 65, 65, 70, 70, 70, 70, 70, 70, 70,\n",
      "        70, 70, 70, 70, 70, 70, 70, 70, 70, 70, 70, 70, 70, 70, 70, 70, 65, 65,\n",
      "        65, 65, 65, 65, 65, 65, 65, 65, 65, 65, 65, 65, 65, 65, 65, 65, 65, 65,\n",
      "        65, 65, 65, 65, 65, 70, 70, 70, 70, 70, 70, 70, 70, 70, 70, 70, 70, 70,\n",
      "        70, 70, 70, 70, 70, 70, 70, 70, 70, 70, 65, 65, 65, 65, 65, 65, 65, 65,\n",
      "        70, 70, 70, 70, 70, 70, 70, 70, 70, 70, 70, 70, 70, 70, 70, 70, 70, 70,\n",
      "        70, 70, 70, 70, 70, 65, 65, 65, 65, 65, 65, 65, 65, 65, 65, 65, 65, 70,\n",
      "        70, 70, 70, 70, 70, 70, 70, 70, 70, 70, 70, 70, 70, 70, 70, 70, 70, 70,\n",
      "        70, 70, 70, 70], device='cuda:2') torch.Size([634])\n",
      "12/12/2023, 01:32:10# predicted: tensor([ 65,  65,  65,  65,  70,  70,  70,  82,  70,  70,  70,  70,  82,  82,\n",
      "         82,  82,  82,  82,  70,  82, 131,  82,  82,  82,  82,  82,  82,  65,\n",
      "         65,  65,  65,  65,  65,  65,  65,  65,  65,  65,  65,  65,  65,  65,\n",
      "         65,  65,  65,  65,  65,  65,  65,  65,  65,  65,  65,  65,  65,  65,\n",
      "         65,  70,  70,  70,  70,  70,  70,  70,  70,  70,  70,  70,  70,  70,\n",
      "         70,  70,  70,  70,  82,  70,  70,  70,  70,  70,  65,  65,  65,  65,\n",
      "         65,  65,  65,  65,  70,  70,  70,  70,  70,  70,  70,  70,  70,  70,\n",
      "         70,  70,  82,  82,  82,  70, 131,  82,  70,  70,  70,  82,  82,  65,\n",
      "         65,  65,  65,  65,  65,  65,  65,  70,  70,  70,  70,  70,  70,  70,\n",
      "         70,  70,  70,  70,  70,  82,  70,  70,  70, 131,  82,  70,  70,  70,\n",
      "         82,  70,  65,  65,  65,  65,  65,  65,  65,  65,  65,  70,  70,  70,\n",
      "         70,  70,  70,  70,  70,  70,  70,  70,  82,  82,  70,  70,  70, 131,\n",
      "         82,  82,  70,  70,  82,  70,  65,  65,  65,  65,  65,  65,  65,  65,\n",
      "         65,  65,  65,  65,  70,  70,  70,  70,  70,  70,  70,  70,  70,  70,\n",
      "         70,  70,  82,  82,  82,  70, 128,  82,  70,  70,  70,  82,  82,  65,\n",
      "         65,  65,  65,  65,  65,  65,  65,  65,  65,  65,  65,  65,  65,  65,\n",
      "         65,  65,  70,  70,  70,  70,  70,  70,  70,  70,  70,  70,  70,  70,\n",
      "         70,  70,  70,  70, 131,  82,  70,  70,  70,  70,  70,  65,  65,  65,\n",
      "         65,  65,  65,  65,  65,  65,  65,  65,  65,  65,  65,  65,  65,  65,\n",
      "         65,  65,  65,  65,  65,  65,  65,  65,  65,  65,  65,  65,  65,  65,\n",
      "         65,  65,  65,  65,  65,  65,  70,  70,  70,  70,  70,  70,  70,  70,\n",
      "         70,  70,  70,  70,  70,  70,  70,  70, 131,  70,  70,  70,  70,  82,\n",
      "         70,  65,  65,  65,  65,  65,  65,  65,  65,  65,  65,  65,  65,  65,\n",
      "         65,  65,  65,  65,  65,  65,  65,  65,  65,  65,  65,  65,  70,  70,\n",
      "         70,  70,  70,  70,  70,  70,  70,  70,  70,  70,  70,  70,  70,  70,\n",
      "         16,  82,  70,  70,  70,  70,  70,  65,  65,  65,  65,  65,  65,  65,\n",
      "         65,  65,  65,  65,  65,  65,  65,  65,  65,  65,  65,  65,  70,  70,\n",
      "         70,  70,  70,  70,  70,  70,  70,  70,  70,  70,  70,  70,  70,  70,\n",
      "        134,  70,  70,  70,  70,  70,  70,  65,  65,  65,  65,  65,  65,  65,\n",
      "         65,  65,  65,  65,  65,  65,  65,  70,  70,  70,  70,  70,  70,  70,\n",
      "         70,  70,  70,  70,  70,  82,  70,  70,  70, 103,  82,  70,  70,  70,\n",
      "         70,  70,  65,  65,  65,  65,  65,  65,  65,  65,  65,  65,  65,  65,\n",
      "         65,  65,  65,  65,  70,  70,  70,  70,  70,  70,  70,  70,  70,  70,\n",
      "         70,  70,  70,  70,  70,  70, 118,  70,  70,  70,  70,  70,  70,  65,\n",
      "         65,  65,  65,  65,  65,  65,  65,  65,  65,  65,  65,  65,  65,  65,\n",
      "         65,  65,  65,  65,  65,  65,  65,  70,  70,  70,  70,  70,  70,  70,\n",
      "         70,  70,  70,  70,  70,  70,  70,  70,  70,  16,  70,  70,  70,  70,\n",
      "         70,  70,  65,  65,  65,  65,  65,  65,  65,  65,  65,  65,  65,  65,\n",
      "         65,  65,  65,  65,  65,  65,  65,  65,  65,  65,  65,  65,  65,  70,\n",
      "         70,  70,  70,  70,  70,  70,  70,  70,  70,  70,  70,  82,  70,  70,\n",
      "         70, 146,  82,  70,  70,  70,  82,  82,  65,  65,  65,  65,  65,  65,\n",
      "         65,  65,  70,  70,  70,  70,  70,  70,  70,  70,  70,  70,  70,  70,\n",
      "         70,  82,  70,  70, 127,  70,  70,  70,  70,  82,  82,  65,  65,  65,\n",
      "         65,  65,  65,  65,  65,  65,  65,  65,  65,  70,  70,  70,  70,  70,\n",
      "         70,  70,  70,  70,  70,  70,  70,  70,  70,  70,  70, 131,  70,  70,\n",
      "         70,  70,  70,  70], device='cuda:2') torch.Size([634])\n",
      "12/12/2023, 01:32:23# Test Accuracy: 92.85767236183496 %\n",
      "\n",
      "\n",
      "\n"
     ]
    },
    {
     "name": "stderr",
     "output_type": "stream",
     "text": [
      "/workdir/home/euni/.local/lib/python3.6/site-packages/sklearn/metrics/_classification.py:1248: UndefinedMetricWarning: Precision and F-score are ill-defined and being set to 0.0 in labels with no predicted samples. Use `zero_division` parameter to control this behavior.\n",
      "  _warn_prf(average, modifier, msg_start, len(result))\n",
      "/workdir/home/euni/.local/lib/python3.6/site-packages/sklearn/metrics/_classification.py:1248: UndefinedMetricWarning: Precision and F-score are ill-defined and being set to 0.0 in labels with no predicted samples. Use `zero_division` parameter to control this behavior.\n",
      "  _warn_prf(average, modifier, msg_start, len(result))\n",
      "/workdir/home/euni/.local/lib/python3.6/site-packages/sklearn/metrics/_classification.py:1248: UndefinedMetricWarning: Precision and F-score are ill-defined and being set to 0.0 in labels with no predicted samples. Use `zero_division` parameter to control this behavior.\n",
      "  _warn_prf(average, modifier, msg_start, len(result))\n"
     ]
    },
    {
     "name": "stdout",
     "output_type": "stream",
     "text": [
      "12/12/2023, 01:33:19# report path: classification_report/classification_report-secureBERT_150-graphSAGE-1.xlsx\n",
      "12/12/2023, 01:33:19# label path: classification_report/mapped_true_predicted_labels-secureBERT_150-graphSAGE-1.xlsx\n"
     ]
    },
    {
     "name": "stderr",
     "output_type": "stream",
     "text": [
      "/workdir/home/euni/.local/lib/python3.6/site-packages/sklearn/metrics/_classification.py:1248: UndefinedMetricWarning: Precision and F-score are ill-defined and being set to 0.0 in labels with no predicted samples. Use `zero_division` parameter to control this behavior.\n",
      "  _warn_prf(average, modifier, msg_start, len(result))\n",
      "/workdir/home/euni/.local/lib/python3.6/site-packages/sklearn/metrics/_classification.py:1248: UndefinedMetricWarning: Precision and F-score are ill-defined and being set to 0.0 in labels with no predicted samples. Use `zero_division` parameter to control this behavior.\n",
      "  _warn_prf(average, modifier, msg_start, len(result))\n"
     ]
    },
    {
     "name": "stdout",
     "output_type": "stream",
     "text": [
      "12/12/2023, 01:33:31# mapped_report:\n",
      "                                                precision    recall  f1-score   support\n",
      "\n",
      "T1003.001_0ef4cc7b-611c-4237-b20b-db36b6906554       0.99      0.98      0.99      6400\n",
      "    T1003.001_35d92515122effdd73801c6ac3021da7       0.90      0.83      0.87       600\n",
      "    T1003.002_5a484b65c247675e3b7ada4ba648d376       1.00      1.00      1.00       500\n",
      "    T1003.002_7fa4ea18694f2552547b65e23952cabb       0.79      0.80      0.80      1500\n",
      "    T1003.003_9f73269695e54311dd61dc68940fb3e1       0.00      0.00      0.00       100\n",
      "    T1003.003_f049b89533298c2d6cd37a940248b219       0.00      0.00      0.00       100\n",
      "        T1003_18f31c311ac208802e88ab8d5af8603e       0.99      0.83      0.90       600\n",
      "        T1007_9d03c91bdae5a80f17f89c987942b5a8       0.89      0.68      0.77       600\n",
      "    T1007_c6607391-d02c-44b5-9b13-d3492ca58599       0.00      0.00      0.00       100\n",
      "        T1007_d6bb2a19da7246731ed9c44831b135f8       0.01      0.01      0.01       300\n",
      "    T1016_14a21534-350f-4d83-9dd7-3c56b93a0c17       0.00      0.00      0.00       100\n",
      "        T1016_71b3d2945679566b9d94d8cb11df4b70       0.06      0.01      0.02       100\n",
      "        T1016_7d8ee68f0e9731db82964f558f614608       0.03      0.30      0.05       500\n",
      "    T1016_921055f4-5970-4707-909e-62f594234d91       0.00      0.00      0.00       100\n",
      "    T1016_a0676fe1-cd52-482e-8dde-349b73f9aa69       0.00      0.00      0.00       100\n",
      "    T1016_e8017c46-acb8-400c-a4b5-b3362b5b5baa       0.00      0.00      0.00       100\n",
      "    T1018_26c8b8b5-7b5b-4de1-a128-7d37fb14f517       0.00      0.00      0.00       100\n",
      "        T1018_a44bb43474728496276d5d73aa14588f       0.00      0.00      0.00       100\n",
      "        T1018_ac20e592bc912bddff4d6b88289095f0       0.00      0.00      0.00       100\n",
      "    T1021.001_dd67068b052fa553ad4a0ac7d6a5ea89       0.65      0.67      0.66       600\n",
      "    T1033_bd527b63-9f9e-46e0-9816-b8434d2b8989       0.00      0.00      0.00       100\n",
      "    T1033_c0da588f-79f0-4263-8998-7496b1a40596       0.00      0.00      0.00       100\n",
      "    T1036.003_04e8d83e7badf098d50800d6aa1dd487       0.86      0.80      0.83      2300\n",
      "    T1036.003_f5ef8466e5ebcd2ae03f338d9416069c       0.83      0.84      0.84      2700\n",
      "    T1036.004_1f0614ea5c4af6faf1b44570f5f22f8a       0.00      0.00      0.00       200\n",
      "    T1036.004_7de3d7b4922a7b996d8df36fb22bb118       0.00      0.00      0.00       200\n",
      "    T1037.001_62cfa90fb03a6bc1a6ebcce8a3ea81b7       0.94      0.86      0.90       700\n",
      "        T1040_6881a4589710d53f0c146e91db513f01       0.96      0.80      0.87       500\n",
      "        T1047_09e0f9cf2eb803a1c35deeecf3665fad       0.00      0.00      0.00       100\n",
      "        T1047_6935e41353aa781bb723462d26114c44       0.00      0.00      0.00       100\n",
      "        T1047_ac122553ab4426ea3362bb4a97d31bfd       0.00      0.00      0.00       100\n",
      "        T1047_ac2764f7a67a9ce92b54e8e59b361838       0.00      0.00      0.00       100\n",
      "        T1047_b0255b5120cbabc062d8d4510a142c3b       0.00      0.00      0.00       100\n",
      "        T1047_ed736a123da6fb2aab22cfd4f437e8b5       0.00      0.00      0.00       100\n",
      "        T1047_f4b0b4129560ea66f9751275e82f6bab       0.00      0.00      0.00       100\n",
      "    T1049_638fb6bb-ba39-4285-93d1-7e4775b033a8       0.00      0.00      0.00       100\n",
      "        T1049_a14392d713dffba6a397682ff83259a0       0.05      0.01      0.01       300\n",
      "    T1053.005_5db2884b6ca3ab932848f295a3896dc0       0.25      0.01      0.01       200\n",
      "    T1053.005_ee454be9197890de62705ce6255933fd       0.00      0.00      0.00       100\n",
      "T1055.001_a74bc239-a196-4f7e-8d5c-fe8c0266071c       0.00      0.00      0.00       100\n",
      "T1055.002_e5bcefee-262d-4568-a261-e8a20855ec81       0.00      0.00      0.00       100\n",
      "    T1057_5a39d7ed-45c9-4a79-b581-e5fb99e24f65       0.00      0.00      0.00       100\n",
      "    T1057_8adf02e8-6e71-4244-886c-98c402857404       1.00      0.86      0.92       700\n",
      "        T1057_b2a1e430ca6d36eb5af2fe666e769847       0.00      0.00      0.00       100\n",
      "        T1057_f8de05d1741dcc468f772ab0ff4dac72       0.00      0.00      0.00       100\n",
      "T1059.001_55678719-e76e-4df9-92aa-10655bbd1cf4       0.33      0.65      0.44      1000\n",
      "    T1059.001_6efbccc1869e8cd618c0d3ecda407d5f       0.97      0.87      0.92      1500\n",
      "T1059.001_702bfdd2-9947-4eda-b551-c3a1ea9a59a2       0.99      0.80      0.89       500\n",
      "T1059.001_bfff9006-d1fb-46ce-b173-92cb04e9a031       0.96      0.80      0.87      1000\n",
      "T1059.001_ccdb8caf-c69e-424b-b930-551969450c57       0.99      0.80      0.89       500\n",
      "T1059.001_e5f9de8f-3df1-4e78-ad92-a784e3f6770d       0.98      0.97      0.97     13700\n",
      "    T1059.003_6c318ef0339d74d909ad556681b6493e       0.94      0.86      0.89       700\n",
      "    T1059.003_f38e58deb7ad20b5538ca40db7b7b4f8       1.00      1.00      1.00       600\n",
      "T1069.001_5c4dd985-89e3-4590-9b57-71fed66ff4e2       0.95      0.89      0.92       900\n",
      "    T1069.001_a1f48fa3ddee658b29b414523c9a295b       0.00      0.00      0.00       200\n",
      "    T1069.002_6103e503cb444bc7b4187704f2035708       0.02      0.12      0.04       400\n",
      "    T1070.005_1f91076e2be2014cc7b4f1296de02fd6       0.84      0.67      0.75       600\n",
      "    T1071.001_24c3b7b004401d839a5c337201da3484       0.55      0.82      0.66      2000\n",
      "T1074.001_4e97e699-93d7-4040-b5a3-2e906a58199e       1.00      1.00      1.00      1000\n",
      "T1074.001_6469befa-748a-4b9c-a96d-f191fde47d89       1.00      1.00      1.00       300\n",
      "    T1074.001_e6dfc7e89359ac6fa6de84b0e1d5762e       1.00      0.99      1.00       800\n",
      "    T1078.001_d0ca00832890baa1d42322cf70fcab1a       0.00      0.00      0.00       100\n",
      "    T1082_29451844-9b76-4e16-a9ee-d6feab4b24db       0.00      0.00      0.00       100\n",
      "    T1083_52177cc1-b9ab-4411-ac21-2eadc4b5d3b8       1.00      1.00      1.00      1200\n",
      "    T1083_6e1a53c0-7352-4899-be35-fa7f364d5722       0.00      0.00      0.00       100\n",
      "    T1087.001_6334877e8e3ba48f7835d4856d90a282       0.25      0.22      0.23       500\n",
      "T1087.001_feaced8f-f43f-452a-9500-a5219488abb8       0.00      0.00      0.00       100\n",
      "    T1090.001_ba343199a4f15ed6b57eb52412f62e4e       0.99      0.44      0.61       200\n",
      "        T1105_0856c235a1d26113d4f2d92e39c9a9f8       0.93      0.91      0.92      1100\n",
      "        T1105_1095434782a00c8a4772a11e625bcf5d       0.93      0.50      0.65       200\n",
      "        T1105_4f683658f161ccdc51337c470d32bab9       1.00      1.00      1.00       800\n",
      "    T1105_60f63260-39bb-4136-87a0-b6c2dca799fc       0.89      0.91      0.90      2100\n",
      "        T1105_c521e0a70b243a0cf9217907ca3c6d27       0.74      0.81      0.77      2000\n",
      "        T1105_c76968acda4aa1673dadcd67f3ab7664       0.98      0.92      0.95      1300\n",
      "        T1105_e6715e61f5df646692c624b3499384c4       0.98      0.98      0.98      5700\n",
      "    T1105_eb814e03-811a-467a-bc6d-dcd453750fa2       1.00      1.00      1.00     15000\n",
      "        T1112_257313a3c93e3bb7dfb60d6753b09e34       0.80      0.67      0.73       300\n",
      "        T1112_34041639e6e501856ecaf5969ee29c76       1.00      0.67      0.80       300\n",
      "        T1112_35c0360d226cf38104f300d9d57ce60e       0.87      0.67      0.76       300\n",
      "        T1112_4bfb5f265a5ce07af6bf10da113af7db       0.90      0.67      0.77       300\n",
      "        T1112_7fe6a66d03f4dbfc022609ba311c2b11       1.00      0.67      0.80       300\n",
      "        T1112_ba6f6214dbd17c54001e0a163b60f151       1.00      0.67      0.80       300\n",
      "        T1112_cab7b85611a290c0769546bfa9d6f962       0.99      0.67      0.80       300\n",
      "        T1112_cd8be0e6b873919da25530a2c7ea6750       1.00      1.00      1.00       200\n",
      "        T1112_e74d2fb4ef5fa6c766a4151554033697       0.98      0.67      0.79       300\n",
      "        T1112_e7a987cbef27263e666e5b096488dc55       1.00      0.66      0.80      1800\n",
      "        T1112_fa4ba6a06b4a5cd955ea5a60fae24281       0.98      0.67      0.79       300\n",
      "        T1112_fd992e8ecfdac9b56dd6868904044827       0.90      0.67      0.77       300\n",
      "    T1113_316251ed-6a28-4013-812b-ddf5b5b007f8       1.00      1.00      1.00       500\n",
      "        T1115_70795de7cbb842edb029b3378c27c008       0.91      0.77      0.83      1600\n",
      "    T1115_b007fe0c-c6b0-4fda-915c-255bbc070de2       0.00      0.00      0.00       100\n",
      "        T1119_344e7eaf650763e0d3e9f02e62c1cf4b       0.85      0.84      0.85      1900\n",
      "        T1119_7121cdf93b951311be9d7078c602efdc       0.29      0.81      0.43      2000\n",
      "        T1120_7b9c7afaefa59aab759b49af0d699ac1       1.00      1.00      1.00       600\n",
      "        T1123_372e6f46fca18e4f1b43209c20ffafa2       0.95      0.67      0.79       600\n",
      "    T1124_fa6e8607-e0b1-425d-8924-9b894da5a002       0.07      0.01      0.02       100\n",
      "        T1125_da86001b5081fcf773d8e62f22cf2b00       0.80      0.68      0.73       600\n",
      "    T1135_530e47c6-8592-42bf-91df-c59ffbd8541b       0.00      0.00      0.00       100\n",
      "    T1135_deeac480-5c2a-42b5-90bb-41675ee53c7e       0.00      0.00      0.00       100\n",
      "    T1137.002_e2af3c3ab1b0f659c874b8af58c49759       0.94      0.83      0.89       600\n",
      "        T1137_12ad9edefc86af07700fbf49bfdac6ba       0.96      0.92      0.94      1300\n",
      "        T1201_38f6f0e50a6b196140ec40d3dc9cc9e6       0.00      0.00      0.00       100\n",
      "        T1201_57296a2ddbeb7423c05feef2fe972111       0.00      0.00      0.00       100\n",
      "    T1204.002_522f3f35cd013e63830fa555495a0081       0.95      0.90      0.93      1000\n",
      "        T1217_69bbe2183fa09c00ccaac62d48e214f8       0.58      0.69      0.63       400\n",
      "        T1217_f7a0f7d704aa52a764d9d1bee81e65d6       0.25      0.01      0.02       100\n",
      "        T1219_7dabcbecab0334b115feefab1630f84a       0.95      0.96      0.96      6700\n",
      "        T1219_af8cb2bf9b436aae5c106a0a9c207e14       0.99      0.96      0.97     10400\n",
      "        T1219_f1b3fca18d7465cd10e5a7477a3bf97d       0.92      0.96      0.94      5000\n",
      "    T1482_6131397e-7765-424e-a594-3d7fb2d93a6a       1.00      1.00      1.00       500\n",
      "        T1482_cfb61005899996469ae3023796792ca5       0.00      0.00      0.00       100\n",
      "        T1486_d82ceb9939d3d920ee550187ad8235c8       1.00      1.00      1.00       400\n",
      "        T1490_2d53d6fabd39bf9c70b0dfcdfbbc926d       0.00      0.00      0.00       100\n",
      "        T1490_8467c994685ccf178db166964bd80fab       0.01      0.01      0.01       200\n",
      "        T1490_9e5e4c0655fd1b5be88bd40b8251175f       0.00      0.00      0.00       100\n",
      "        T1490_c156ac5c9fa67080365268d95f29053d       0.00      0.00      0.00       100\n",
      "        T1490_c8f329d2847ede593b6cb4a1ec6120fb       0.49      0.61      0.54      1000\n",
      "        T1490_e90756bb6dcd21462dc4cc452661df91       0.00      0.00      0.00       100\n",
      "    T1491_47d08617-5ce1-424a-8cc5-c9c978ce6bf9       1.00      1.00      1.00       500\n",
      "    T1491_68235976-2404-42a8-9105-68230cfef562       1.00      1.00      1.00       700\n",
      "    T1496_46da2385-cf37-49cb-ba4b-a739c7a19de4       0.98      0.99      0.99      8200\n",
      "T1497.001_1258b063-27d6-489b-a677-4807faacf868       0.00      0.00      0.00       100\n",
      "T1497.001_5dc841fd-28ad-40e2-b10e-fb007fe09e81       0.00      0.00      0.00       100\n",
      "T1497.001_7a6ba833-de40-466a-8969-5c37b13603e0       0.00      0.00      0.00       100\n",
      "    T1499_2fe2d5e6-7b06-4fc0-bf71-6966a1226731       0.00      0.00      0.00       100\n",
      "T1518.001_2dece965-37a0-4f70-a391-0f30e3331aba       0.00      0.00      0.00       100\n",
      "    T1518.001_33a24ff44719e6ac0614b58f8c9a7c72       0.02      0.01      0.01       200\n",
      "    T1518.001_b8453a5fe06b24aea12b27592d5c3d3a       0.00      0.00      0.00       100\n",
      "        T1518_8ddfaf982ab359cda13626b870ccb339       0.93      0.50      0.65       200\n",
      "    T1518_c9be8043-a445-4cbf-b77b-ed7bb007fc7c       1.00      1.00      1.00       100\n",
      "        T1531_aa6b15485a5f50ced34d87fda177b758       0.00      0.00      0.00       200\n",
      "        T1531_b25ae80dad74142fafb510e9c1949ace       0.00      0.00      0.00       200\n",
      "    T1546.013_f9a968af61d36983448c74cca5464e17       0.97      0.87      0.92      1500\n",
      "    T1547.001_0dbdf1a2a87e718a6ac8a8e3415a7fac       0.98      0.86      0.92       700\n",
      "    T1547.001_163b023f43aba758d36f524d146cb8ea       1.00      0.80      0.89       500\n",
      "    T1547.001_1f15ab22c39a9b6bb2bb0d77276dfcb3       0.97      0.83      0.90       600\n",
      "    T1547.001_4b71ebb2f6f6a01235ba240fa40ce978       0.99      0.99      0.99       200\n",
      "    T1547.001_777043894e42d2aae3881e63f6c76d33       1.00      1.00      1.00       200\n",
      "    T1547.001_d3ef4145e4144fd694514b1c5cc17350       1.00      0.80      0.89       500\n",
      "    T1547.004_0856714c9810ac55b53e9964d02958a0       1.00      1.00      1.00       200\n",
      "    T1547.004_aa147165f6c116cb0b0f944abe1db8ce       1.00      1.00      1.00       200\n",
      "    T1547.009_501af516bd8b24fee0c7c650ae5cc861       1.00      1.00      1.00      1000\n",
      "    T1547.009_b6e5c895c6709fe289352ee23f062229       0.98      0.88      0.92       800\n",
      "    T1547.010_4593d72a5145e3f494421ac772d37464       0.86      0.83      0.85       600\n",
      "        T1547_fe9eeee9a7b339089e5fa634b08522c1       0.98      0.95      0.96      2200\n",
      "T1548.002_665432a4-42e7-4ee1-af19-a9a8c9455d0c       1.00      1.00      1.00       200\n",
      "    T1552.002_3e5b04b8ee0a1a4950da8f35d95e65fc       0.00      0.00      0.00       200\n",
      "        T1560_a1ee301b0508747b468d578a14e5c1a5       0.99      0.98      0.99     21600\n",
      "    T1562.001_43e3334362b140924f001b256b229ee5       1.00      0.97      0.99       200\n",
      "    T1562.002_6a8d25d65a7d481dc479f89c62af1e6a       0.90      0.67      0.77       600\n",
      "    T1562.002_94f51bf01a7036fe02d07b4c18967669       0.00      0.00      0.00       100\n",
      "    T1562.004_280003641a5cddf916c4f2bf605a71d3       0.04      0.01      0.01       200\n",
      "    T1562.004_41627f71f968225b9f162cb76d16bd9d       0.97      0.91      0.94      1100\n",
      "    T1562.004_5b93df032e230056c21a3e57334f77d1       0.00      0.00      0.00       100\n",
      "    T1562.004_8d0a4585e7c4646185a912b14cd9cb46       0.00      0.00      0.00       100\n",
      "    T1562.004_8fe59e288f10a486dc8b44bc872019ff       0.99      0.67      0.80       300\n",
      "    T1564.001_66a5fd5f244819181f074dd082a28905       0.43      0.17      0.25       500\n",
      "    T1564.001_dce51e632abdfe5392c7c1f942ac9273       0.48      0.58      0.52       500\n",
      "    T1564.003_9a2edad4053a2b59fb9167a9bc29e7dc       0.12      0.03      0.05       200\n",
      "    T1564.004_28862487a99f5f89bc0d68c87396c7e9       0.98      0.83      0.90       600\n",
      "    T1564.004_76b6066fe170d38215251102e42be973       1.00      0.99      1.00      1600\n",
      "        T1564_dedfa0a54c9c13ce5714a0dc2e1f5d1a       0.00      0.00      0.00       100\n",
      "    T1566.001_1afaec09315ab71fdfb167175e8a019a       1.00      1.00      1.00       800\n",
      "    T1574.001_63bbedafba2f541552ac3579e9e3737b       0.98      0.98      0.98      6200\n",
      "    T1574.011_72249c1e9ffe7d8f30243d838e0791ca       0.96      0.83      0.89       600\n",
      "                                        benign       1.00      1.00      1.00    134563\n",
      "\n",
      "                                      accuracy                           0.93    310263\n",
      "                                     macro avg       0.54      0.49      0.51    310263\n",
      "                                  weighted avg       0.94      0.93      0.93    310263\n",
      "\n"
     ]
    },
    {
     "name": "stderr",
     "output_type": "stream",
     "text": [
      "/workdir/home/euni/.local/lib/python3.6/site-packages/sklearn/metrics/_classification.py:1248: UndefinedMetricWarning: Precision and F-score are ill-defined and being set to 0.0 in labels with no predicted samples. Use `zero_division` parameter to control this behavior.\n",
      "  _warn_prf(average, modifier, msg_start, len(result))\n"
     ]
    }
   ],
   "source": [
    "# load the pretrained model\n",
    "pretrained_model_path = '../checkpoint_graphSAGE/best_model_GraphSAGE_secureBERT_150.pt'\n",
    "model.load_state_dict(torch.load(pretrained_model_path))\n",
    "\n",
    "model.to(device)\n",
    "model.eval()\n",
    "\n",
    "total = 0\n",
    "correct = 0\n",
    "count = 0\n",
    "\n",
    "true_labels = []\n",
    "predicted_labels = []\n",
    "\n",
    "with torch.no_grad():\n",
    "    for batched_g in tqdm(dataloaders['test'], desc=\"Testing\", position=0, leave=True):\n",
    "#         print(f\"data:{data[1]}\")\n",
    "        loss, accuracy, predicted = model_fn(batched_g, model, criterion, device, count, which_type='test')\n",
    "        labels = batched_g.edata['label'].to(device)\n",
    "        \n",
    "        true_labels.extend(labels.cpu().numpy())\n",
    "        predicted_labels.extend(predicted.cpu().numpy())\n",
    "        \n",
    "        if count % 5000 == 0:\n",
    "            add_log_msg(f\"labels: {labels} {labels.shape}\")\n",
    "            add_log_msg(f\"predicted: {predicted} {predicted.shape}\")\n",
    "            \n",
    "        count += 1\n",
    "        \n",
    "        total += labels.size(0)\n",
    "        correct += (predicted == labels).sum().item()\n",
    "\n",
    "add_log_msg(f'Test Accuracy: {100 * correct / total} %\\n\\n\\n')\n",
    "\n",
    "\n",
    "# ======================================== handlig the output excel files ========================================\n",
    "mapping_file = './new_mapping.txt'\n",
    "label_mapping = {}\n",
    "with open(mapping_file, 'r') as f:\n",
    "    for line in f:\n",
    "        parts = line.strip().split(': ')\n",
    "        label_mapping[int(parts[1])] = parts[0]\n",
    "        \n",
    "# 将映射后的标签应用到true和predicted标签列表\n",
    "mapped_true_labels = [label_mapping[label] for label in true_labels]\n",
    "mapped_predicted_labels = [label_mapping[label] for label in predicted_labels]\n",
    "\n",
    "# 生成Scikit-learn报告信息的DataFrame\n",
    "report_data = classification_report(mapped_true_labels, mapped_predicted_labels, output_dict=True)\n",
    "report_df = pd.DataFrame(report_data).transpose()\n",
    "\n",
    "# mapped_true_labels_np = np.array(mapped_true_labels)\n",
    "# mapped_predicted_labels_np = np.array(mapped_predicted_labels)\n",
    "\n",
    "# print(\"mapped_true_labels 的形状:\", mapped_true_labels_np.shape)\n",
    "# print(\"mapped_predicted_labels 的形状:\", mapped_predicted_labels_np.shape)\n",
    "\n",
    "report_folder = 'classification_report'\n",
    "os.makedirs(report_folder, exist_ok=True)\n",
    "\n",
    "count = 0\n",
    "while True:\n",
    "    report_filename = f'classification_report-secureBERT_150-graphSAGE-{count}.xlsx'\n",
    "    labels_filename = f'mapped_true_predicted_labels-secureBERT_150-graphSAGE-{count}.xlsx'\n",
    "    \n",
    "    report_path = os.path.join(report_folder, report_filename)\n",
    "    labels_path = os.path.join(report_folder, labels_filename)\n",
    "    \n",
    "    if not os.path.exists(report_path) and not os.path.exists(labels_path):\n",
    "        break\n",
    "    count += 1\n",
    "\n",
    "    \n",
    "report_df.to_excel(report_path, index_label='Label')\n",
    "\n",
    "mapped_labels_df = pd.DataFrame({'true_label': mapped_true_labels, 'predicted_label': mapped_predicted_labels})\n",
    "mapped_labels_df.to_excel(labels_path, index=False)\n",
    "\n",
    "add_log_msg(f\"report path: {report_path}\")\n",
    "add_log_msg(f\"label path: {labels_path}\")\n",
    "\n",
    "mapped_report = classification_report(mapped_true_labels, mapped_predicted_labels)\n",
    "add_log_msg(f\"mapped_report:\\n{mapped_report}\")"
   ]
  },
  {
   "cell_type": "code",
   "execution_count": null,
   "metadata": {},
   "outputs": [],
   "source": []
  },
  {
   "cell_type": "code",
   "execution_count": null,
   "metadata": {},
   "outputs": [],
   "source": []
  },
  {
   "cell_type": "code",
   "execution_count": null,
   "metadata": {},
   "outputs": [],
   "source": []
  },
  {
   "cell_type": "code",
   "execution_count": null,
   "metadata": {},
   "outputs": [],
   "source": []
  }
 ],
 "metadata": {
  "kernelspec": {
   "display_name": "Python 3",
   "language": "python",
   "name": "python3"
  },
  "language_info": {
   "codemirror_mode": {
    "name": "ipython",
    "version": 3
   },
   "file_extension": ".py",
   "mimetype": "text/x-python",
   "name": "python",
   "nbconvert_exporter": "python",
   "pygments_lexer": "ipython3",
   "version": "3.6.9"
  }
 },
 "nbformat": 4,
 "nbformat_minor": 2
}
