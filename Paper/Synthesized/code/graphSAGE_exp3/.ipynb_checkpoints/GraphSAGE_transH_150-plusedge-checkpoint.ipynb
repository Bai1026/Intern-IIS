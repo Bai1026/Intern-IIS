{
 "cells": [
  {
   "cell_type": "markdown",
   "metadata": {},
   "source": [
    "# Test of GraphSAGE\n",
    "- use DGL\n",
    "- predict `graphs`\n",
    "- valid, test data are in the training dataset"
   ]
  },
  {
   "cell_type": "code",
   "execution_count": 1,
   "metadata": {},
   "outputs": [],
   "source": [
    "import os\n",
    "import dgl\n",
    "import json\n",
    "import torch\n",
    "import torch as th\n",
    "import dgl.nn as dglnn\n",
    "# from tqdm import tqdm\n",
    "from tqdm.notebook import tqdm  # 使用 notebook 版本的 tqdm\n",
    "import torch.nn as nn\n",
    "from dgl.nn import GraphConv, GATConv, SAGEConv\n",
    "import torch.nn.functional as F\n",
    "from torch.utils.data import Dataset, DataLoader\n",
    "from transformers import get_linear_schedule_with_warmup"
   ]
  },
  {
   "cell_type": "markdown",
   "metadata": {},
   "source": [
    "- check the GPU and assign the GPU by the best memory usage"
   ]
  },
  {
   "cell_type": "code",
   "execution_count": 2,
   "metadata": {},
   "outputs": [
    {
     "name": "stdout",
     "output_type": "stream",
     "text": [
      "cuda:1\n"
     ]
    }
   ],
   "source": [
    "import subprocess\n",
    "import torch\n",
    "\n",
    "def get_free_gpu():\n",
    "    try:\n",
    "        # Run nvidia-smi command to get GPU details\n",
    "        _output_to_list = lambda x: x.decode('ascii').split('\\n')[:-1]\n",
    "        command = \"nvidia-smi --query-gpu=memory.free --format=csv,nounits,noheader\"\n",
    "        memory_free_info = _output_to_list(subprocess.check_output(command.split())) \n",
    "        memory_free_values = [int(x) for i, x in enumerate(memory_free_info)]\n",
    "        \n",
    "        # Get the GPU with the maximum free memory\n",
    "        best_gpu_id = memory_free_values.index(max(memory_free_values))\n",
    "        return best_gpu_id\n",
    "    except:\n",
    "        # If any exception occurs, default to GPU 0 (this handles cases where nvidia-smi isn't installed)\n",
    "        return 0\n",
    "\n",
    "if torch.cuda.is_available():\n",
    "    # Get the best GPU ID based on free memory and set it\n",
    "    best_gpu_id = get_free_gpu()\n",
    "    device = torch.device(f\"cuda:{best_gpu_id}\")\n",
    "else:\n",
    "    device = torch.device(\"cpu\")\n",
    "    print(\"there's no available GPU\")\n",
    "\n",
    "# device = torch.device(f\"cuda:{1}\")\n",
    "print(device)\n"
   ]
  },
  {
   "cell_type": "markdown",
   "metadata": {},
   "source": [
    "## Fix the seed"
   ]
  },
  {
   "cell_type": "code",
   "execution_count": 3,
   "metadata": {},
   "outputs": [],
   "source": [
    "import numpy as np\n",
    "import torch\n",
    "import random\n",
    "\n",
    "#fix seed\n",
    "def same_seeds(seed = 8787):\n",
    "    torch.manual_seed(seed)\n",
    "    # random.seed(seed) \n",
    "    if torch.cuda.is_available():\n",
    "        torch.cuda.manual_seed(seed)\n",
    "        torch.cuda.manual_seed_all(seed)  \n",
    "    np.random.seed(seed)  \n",
    "    torch.backends.cudnn.benchmark = False\n",
    "    torch.backends.cudnn.deterministic = True"
   ]
  },
  {
   "cell_type": "markdown",
   "metadata": {},
   "source": [
    "## Data Loader"
   ]
  },
  {
   "cell_type": "code",
   "execution_count": 4,
   "metadata": {},
   "outputs": [],
   "source": [
    "class GraphDataset(Dataset):\n",
    "    def __init__(self, data_list, device):\n",
    "        self.data_list = data_list\n",
    "        self.device = device\n",
    "\n",
    "    def __len__(self):\n",
    "        return len(self.data_list)\n",
    "    \n",
    "    def __getitem__(self, idx):\n",
    "        data = self.data_list[idx]\n",
    "        return data\n",
    "\n",
    "def collate(samples):\n",
    "    data_list = samples\n",
    "    batched_graphs = []\n",
    "    for data in data_list:\n",
    "        g = dgl.graph((th.tensor(data[\"edge_index\"][0]), th.tensor(data[\"edge_index\"][1])), num_nodes=data[\"num_nodes\"])\n",
    "\n",
    "        g.ndata['feat'] = th.tensor(data[\"node_feat\"])\n",
    "        g.edata['feat'] = th.tensor(data[\"edge_attr\"])\n",
    "        g.edata['label'] = th.tensor(data[\"labels\"])  # Add edge labels to graph\n",
    "\n",
    "        batched_graphs.append(g)\n",
    "    \n",
    "    return dgl.batch(batched_graphs)"
   ]
  },
  {
   "cell_type": "code",
   "execution_count": 5,
   "metadata": {},
   "outputs": [
    {
     "data": {
      "application/vnd.jupyter.widget-view+json": {
       "model_id": "16a5d06640734c11a281e33592e0064d",
       "version_major": 2,
       "version_minor": 0
      },
      "text/plain": [
       "  0%|          | 0/3 [00:00<?, ?it/s]"
      ]
     },
     "metadata": {},
     "output_type": "display_data"
    },
    {
     "name": "stdout",
     "output_type": "stream",
     "text": [
      "../../data_processing/dgl/data_new/exp3/training_data/transH_150/train.jsonl\n"
     ]
    },
    {
     "data": {
      "application/vnd.jupyter.widget-view+json": {
       "model_id": "9aab1b1f42ab41e4992ecac31e543a9b",
       "version_major": 2,
       "version_minor": 0
      },
      "text/plain": [
       "0it [00:00, ?it/s]"
      ]
     },
     "metadata": {},
     "output_type": "display_data"
    },
    {
     "name": "stdout",
     "output_type": "stream",
     "text": [
      "../../data_processing/dgl/data_new/exp3/training_data/transH_150/valid.jsonl\n"
     ]
    },
    {
     "data": {
      "application/vnd.jupyter.widget-view+json": {
       "model_id": "44c57dbbafa74d658d67270ef0509de5",
       "version_major": 2,
       "version_minor": 0
      },
      "text/plain": [
       "0it [00:00, ?it/s]"
      ]
     },
     "metadata": {},
     "output_type": "display_data"
    },
    {
     "name": "stdout",
     "output_type": "stream",
     "text": [
      "../../data_processing/dgl/data_new/exp3/training_data/transH_150/test.jsonl\n"
     ]
    },
    {
     "data": {
      "application/vnd.jupyter.widget-view+json": {
       "model_id": "2285d2b8ac4b44b3935f8c170640efdb",
       "version_major": 2,
       "version_minor": 0
      },
      "text/plain": [
       "0it [00:00, ?it/s]"
      ]
     },
     "metadata": {},
     "output_type": "display_data"
    },
    {
     "name": "stdout",
     "output_type": "stream",
     "text": [
      "Datasets loaded!\n"
     ]
    }
   ],
   "source": [
    "datasets = ['train', 'valid', 'test']\n",
    "# datasets = ['valid']\n",
    "dataset_data = {}\n",
    "\n",
    "for dataset_name in tqdm(datasets):\n",
    "    file_path = f\"../../data_processing/dgl/data_new/exp3/training_data/transH_150/{dataset_name}.jsonl\"\n",
    "    \n",
    "    print(file_path)\n",
    "    with open(file_path) as f:\n",
    "        data_list = [json.loads(line) for line in tqdm(f, position=0, leave=True)]\n",
    "    \n",
    "    dataset_data[dataset_name] = GraphDataset(data_list, device)\n",
    "\n",
    "print(\"Datasets loaded!\")"
   ]
  },
  {
   "cell_type": "markdown",
   "metadata": {},
   "source": [
    "- choose batch size"
   ]
  },
  {
   "cell_type": "code",
   "execution_count": 6,
   "metadata": {},
   "outputs": [],
   "source": [
    "def create_dataloaders(batch_size, shuffle=True):\n",
    "    dataloaders = {}\n",
    "    for dataset_name, dataset in dataset_data.items():\n",
    "        # do not shuffle the testing dataset\n",
    "        if dataset_name == \"test\":\n",
    "            dataloaders[dataset_name] = DataLoader(dataset, batch_size=batch_size, shuffle=False, collate_fn=collate)    \n",
    "        else:\n",
    "            dataloaders[dataset_name] = DataLoader(dataset, batch_size=batch_size, shuffle=shuffle, collate_fn=collate)\n",
    "    return dataloaders\n",
    "\n",
    "dataloaders = create_dataloaders(16)"
   ]
  },
  {
   "cell_type": "markdown",
   "metadata": {},
   "source": [
    "- Turn the print message to a log file"
   ]
  },
  {
   "cell_type": "code",
   "execution_count": 7,
   "metadata": {},
   "outputs": [
    {
     "name": "stdout",
     "output_type": "stream",
     "text": [
      "../log_message/0922_02:06_GraphSAGE_transH_150.log\n"
     ]
    }
   ],
   "source": [
    "import datetime\n",
    "\n",
    "now = datetime.datetime.now()\n",
    "\n",
    "formatted_time = now.strftime(\"%m%d_%H:%M\")\n",
    "\n",
    "log_file_path = f\"../log_message/{formatted_time}_GraphSAGE_transH_150.log\"\n",
    "\n",
    "def add_log_msg(msg, log_file_path=log_file_path):\n",
    "    with open(log_file_path, 'a') as f:\n",
    "        f.write(f'{datetime.datetime.now().strftime(\"%m/%d/%Y, %H:%M:%S\")}# {msg}\\n')\n",
    "    print(f'{datetime.datetime.now().strftime(\"%m/%d/%Y, %H:%M:%S\")}# {msg}')\n",
    "\n",
    "print(log_file_path)"
   ]
  },
  {
   "cell_type": "markdown",
   "metadata": {},
   "source": [
    "### Model"
   ]
  },
  {
   "cell_type": "code",
   "execution_count": 8,
   "metadata": {},
   "outputs": [],
   "source": [
    "class GraphSAGE(nn.Module):\n",
    "    def __init__(self, in_dim, hidden_dim, out_dim):\n",
    "        super(GraphSAGE, self).__init__()\n",
    "        self.layer1 = dglnn.SAGEConv(in_dim, hidden_dim, 'pool')\n",
    "        self.layer2 = dglnn.SAGEConv(hidden_dim, out_dim, 'pool')\n",
    "        self.dropout = nn.Dropout(0.25)\n",
    "\n",
    "    def forward(self, g, inputs):\n",
    "        h = self.layer1(g, inputs)\n",
    "        h = torch.relu(h)\n",
    "        h = self.dropout(h)\n",
    "        h = self.layer2(g, h)\n",
    "        return h"
   ]
  },
  {
   "cell_type": "code",
   "execution_count": 9,
   "metadata": {},
   "outputs": [],
   "source": [
    "class MLPPredictor(nn.Module):\n",
    "    def __init__(self, out_feats, out_classes):\n",
    "        super().__init__()\n",
    "        self.W = nn.Linear(out_feats*2, out_classes)\n",
    "\n",
    "    def apply_edges(self, edges):\n",
    "        h_u = edges.src['h']\n",
    "        h_v = edges.dst['h']\n",
    "        score = self.W(torch.cat([h_u, h_v], 1))\n",
    "        return {'score': score}\n",
    "\n",
    "    def forward(self, graph, h):\n",
    "        with graph.local_scope():\n",
    "            graph.ndata['h'] = h\n",
    "            graph.apply_edges(self.apply_edges)\n",
    "            return graph.edata['score']"
   ]
  },
  {
   "cell_type": "code",
   "execution_count": 10,
   "metadata": {},
   "outputs": [],
   "source": [
    "class Model(nn.Module):\n",
    "    def __init__(self, in_features, hidden_features, out_features, num_classes):\n",
    "        super().__init__()\n",
    "        self.sage = GraphSAGE(in_features, hidden_features, out_features)\n",
    "        self.pred = MLPPredictor(out_features, num_classes)\n",
    "      \n",
    "    def forward(self, g, node_feat, return_logits=False):\n",
    "        h = self.sage(g, node_feat)\n",
    "        logits = self.pred(g, h)\n",
    "        \n",
    "        return logits"
   ]
  },
  {
   "cell_type": "markdown",
   "metadata": {},
   "source": [
    "- Model Forward  "
   ]
  },
  {
   "cell_type": "code",
   "execution_count": 11,
   "metadata": {},
   "outputs": [],
   "source": [
    "def model_fn(batched_g, model, criterion, device, count=1, which_type='train'):\n",
    "    \"\"\"Forward a batch through the model.\"\"\"\n",
    "#     batched_g, labels = data\n",
    "    batched_g = batched_g.to(device)\n",
    "    \n",
    "    labels = batched_g.edata['label'].to(device)\n",
    "    \n",
    "    logits = model(batched_g, batched_g.ndata['feat'].float())\n",
    "\n",
    "    loss = criterion(logits, labels)\n",
    "\n",
    "    output = torch.softmax(logits, dim=1)\n",
    "    preds = output.argmax(1)\n",
    "    \n",
    "    # Compute accuracy\n",
    "    accuracy = torch.mean((preds == labels).float())\n",
    "    \n",
    "    if which_type == 'validation' and count % 1000 == 0:\n",
    "        add_log_msg(f\"labels of Validation: {labels} {labels.shape}\")\n",
    "        add_log_msg(f\"predicted of Validation: {preds} {preds.shape}\")\n",
    "        \n",
    "    elif which_type == 'test'  and count % 1000 == 0:\n",
    "        add_log_msg(f\"labels of Test: {labels} {labels.shape}\")\n",
    "        add_log_msg(f\"predicted of Test: {preds} {preds.shape}\")\n",
    "        \n",
    "    if count % 5000 == 0: \n",
    "        add_log_msg(f\"labels of {count}: {labels} {labels.shape}\")\n",
    "        add_log_msg(f\"predicted of {count}: {preds} {preds.shape}\")\n",
    "        \n",
    "    return loss, accuracy, preds"
   ]
  },
  {
   "cell_type": "markdown",
   "metadata": {},
   "source": [
    "### Training"
   ]
  },
  {
   "cell_type": "markdown",
   "metadata": {},
   "source": [
    "- Fix the seed and save the model.state_dict that contains the initial weight"
   ]
  },
  {
   "cell_type": "code",
   "execution_count": 12,
   "metadata": {},
   "outputs": [],
   "source": [
    "seed = 8787\n",
    "same_seeds(seed)\n",
    "\n",
    "model = Model(in_features=150, hidden_features=64, out_features=128, num_classes=167)\n",
    "torch.save(model.state_dict(), 'model3_initial(graphsage)/initial_weight.pth')"
   ]
  },
  {
   "cell_type": "code",
   "execution_count": 13,
   "metadata": {},
   "outputs": [
    {
     "data": {
      "text/plain": [
       "Parameter containing:\n",
       "tensor([[-0.0682,  0.0153, -0.1769,  ...,  0.0375,  0.2321, -0.2812],\n",
       "        [-0.2271,  0.2290, -0.1997,  ..., -0.0095,  0.1509,  0.2686],\n",
       "        [-0.2743,  0.0406, -0.1222,  ...,  0.1036, -0.1590, -0.2555],\n",
       "        ...,\n",
       "        [-0.0758,  0.0461,  0.1273,  ...,  0.1367,  0.0671, -0.2605],\n",
       "        [-0.2425, -0.1362,  0.2474,  ..., -0.3221, -0.0595,  0.3141],\n",
       "        [ 0.0234, -0.2783,  0.2146,  ..., -0.3020, -0.1751,  0.0528]],\n",
       "       requires_grad=True)"
      ]
     },
     "execution_count": 13,
     "metadata": {},
     "output_type": "execute_result"
    }
   ],
   "source": [
    "# model.layer1.fc_self.weight\n",
    "model.sage.layer1.fc_self.weight"
   ]
  },
  {
   "cell_type": "markdown",
   "metadata": {},
   "source": [
    "- Check if model really load the model_dict"
   ]
  },
  {
   "cell_type": "code",
   "execution_count": 14,
   "metadata": {},
   "outputs": [
    {
     "data": {
      "text/plain": [
       "Parameter containing:\n",
       "tensor([[-0.0682,  0.0153, -0.1769,  ...,  0.0375,  0.2321, -0.2812],\n",
       "        [-0.2271,  0.2290, -0.1997,  ..., -0.0095,  0.1509,  0.2686],\n",
       "        [-0.2743,  0.0406, -0.1222,  ...,  0.1036, -0.1590, -0.2555],\n",
       "        ...,\n",
       "        [-0.0758,  0.0461,  0.1273,  ...,  0.1367,  0.0671, -0.2605],\n",
       "        [-0.2425, -0.1362,  0.2474,  ..., -0.3221, -0.0595,  0.3141],\n",
       "        [ 0.0234, -0.2783,  0.2146,  ..., -0.3020, -0.1751,  0.0528]],\n",
       "       requires_grad=True)"
      ]
     },
     "execution_count": 14,
     "metadata": {},
     "output_type": "execute_result"
    }
   ],
   "source": [
    "model = Model(in_features=150, hidden_features=64, out_features=128, num_classes=167)\n",
    "model.load_state_dict(torch.load('model3_initial(graphsage)/initial_weight.pth'))\n",
    "model.sage.layer1.fc_self.weight"
   ]
  },
  {
   "cell_type": "code",
   "execution_count": null,
   "metadata": {
    "scrolled": true
   },
   "outputs": [
    {
     "data": {
      "application/vnd.jupyter.widget-view+json": {
       "model_id": "191c8034c0e94e00b69bd699c2412945",
       "version_major": 2,
       "version_minor": 0
      },
      "text/plain": [
       "  0%|          | 0/20 [00:00<?, ?it/s]"
      ]
     },
     "metadata": {},
     "output_type": "display_data"
    },
    {
     "data": {
      "application/vnd.jupyter.widget-view+json": {
       "model_id": "b25f0dea453a4787a333bded35a94739",
       "version_major": 2,
       "version_minor": 0
      },
      "text/plain": [
       "Training:   0%|          | 0/8250 [00:00<?, ?it/s]"
      ]
     },
     "metadata": {},
     "output_type": "display_data"
    },
    {
     "name": "stdout",
     "output_type": "stream",
     "text": [
      "09/22/2023, 02:11:16# labels of 5000: tensor([101, 101, 101, 101, 101, 101, 101, 101, 101, 101, 101, 101, 101, 101,\n",
      "        101, 101,  50,  50,  50, 104,  77,  77,  77,  77,  77,  77,  77,  77,\n",
      "        112,  31,  18,  45,  45,  45, 113, 113,  54, 159, 159, 159, 159, 159,\n",
      "        159, 159, 159, 159, 159,  65,  65, 135, 135,  56,  56,  56,  56,  56,\n",
      "         56,  33,  76, 161, 161, 161, 161, 161, 161, 161, 161, 161, 161, 161,\n",
      "        161, 161, 161, 161, 161, 161, 161, 161, 161, 161, 161, 161, 161, 161,\n",
      "        161, 161, 161, 161, 161, 161, 161, 161, 161, 161, 161, 161, 161, 161,\n",
      "        161, 161, 161, 161, 161, 161, 161, 161, 161, 161, 161, 161, 161, 161,\n",
      "        161, 161, 161, 161, 161, 161, 161, 161, 161, 161, 161, 161, 161, 161,\n",
      "        161, 161, 161, 161, 161, 161, 161, 161, 161, 161, 161, 161, 161, 161,\n",
      "        161, 161, 161, 161, 161, 161, 161, 161, 161, 161, 161, 161, 161, 161,\n",
      "        161, 161, 161, 161, 161, 161, 161, 161, 161, 161, 161, 161, 161, 161,\n",
      "        161, 161, 161, 161, 161, 161, 161, 161, 161, 161, 161, 161, 161, 161,\n",
      "        161, 161, 161, 161, 161, 161, 161, 161, 161, 161, 161, 161, 161, 161,\n",
      "        161, 161, 161, 161, 161, 161, 161, 161, 161, 161, 161, 161, 161],\n",
      "       device='cuda:1') torch.Size([209])\n",
      "09/22/2023, 02:11:16# predicted of 5000: tensor([101, 101, 101, 101, 101, 101, 101, 101, 101, 101, 101, 101, 101, 101,\n",
      "        101, 101,  87,  50,  50, 154,  77,  77,  77,  77,  77,  77,  77,  77,\n",
      "        120, 131,   5,  23,  50,  50, 127, 127,   5, 159, 159, 159, 159, 159,\n",
      "        159, 159, 159, 159, 159,  65,  65, 135, 135,  28,  56,  56,  56,  56,\n",
      "         56,  94, 120, 161, 161, 161, 161, 161, 161, 161, 161, 161, 161, 161,\n",
      "        161, 161, 161, 161, 161, 161, 161, 161, 161, 161, 161, 161, 161, 161,\n",
      "        161, 161, 161, 161, 161, 161, 161, 161, 161, 161, 161, 161, 161, 161,\n",
      "        161, 161, 161, 161, 161, 161, 161, 161, 161, 161, 161, 161, 161, 161,\n",
      "        161, 161, 161, 161, 161, 161, 161, 161, 161, 161, 161, 161, 161, 161,\n",
      "        161, 161, 161, 161, 161, 161, 161, 161, 161, 161, 161, 161, 161, 161,\n",
      "        161, 161, 161, 161, 161, 161, 161, 161, 161, 161, 161, 161, 161, 161,\n",
      "        161, 161, 161, 161, 161, 161, 161, 161, 161, 161, 161, 161, 161, 161,\n",
      "        161, 161, 161, 161, 161, 161, 161, 161, 161, 161, 161, 161, 161, 161,\n",
      "        161, 161, 161, 161, 161, 161, 161, 161, 161, 161, 161, 161, 161, 161,\n",
      "        161, 161, 161, 161, 161, 161, 161, 161, 161, 161, 161, 161, 161],\n",
      "       device='cuda:1') torch.Size([209])\n",
      "09/22/2023, 02:12:07# total batches: 8250\n",
      "09/22/2023, 02:12:07# Epoch 0 | Train Loss: 1.2469 | Train Accuracy: 0.7248\n"
     ]
    },
    {
     "data": {
      "application/vnd.jupyter.widget-view+json": {
       "model_id": "fca3910dc07347719bf79c96b67fcd6e",
       "version_major": 2,
       "version_minor": 0
      },
      "text/plain": [
       "Validation:   0%|          | 0/1032 [00:00<?, ?it/s]"
      ]
     },
     "metadata": {},
     "output_type": "display_data"
    },
    {
     "name": "stdout",
     "output_type": "stream",
     "text": [
      "09/22/2023, 02:12:07# labels of Validation: tensor([ 72,  72,   0,   0,   0,   0,   0,   0, 155,  65,  65,  65,  65, 155,\n",
      "        155, 155,  27,  27,  27,  53,  73,  73,  73,  33,  55, 145, 145, 145,\n",
      "        145, 145, 145, 131, 131, 131, 131, 131, 153, 153, 153,  49,  23,  23,\n",
      "         23,  23,  23,  54,  27,  27,  27,  34], device='cuda:1') torch.Size([50])\n",
      "09/22/2023, 02:12:07# predicted of Validation: tensor([ 84,  72,   0,   0,   0,   0,   0,   0, 155,  65,  65,  65,  65, 155,\n",
      "        155, 155,  27,  27,  27,  41,  95,  73,  73,  40, 131, 145, 145, 145,\n",
      "        145, 145, 145, 127, 127, 127, 127, 127, 153, 153, 153, 155,  23,  23,\n",
      "         23,  23,  23,  88, 126,  27,  27,  95], device='cuda:1') torch.Size([50])\n",
      "09/22/2023, 02:12:07# labels of 0: tensor([ 72,  72,   0,   0,   0,   0,   0,   0, 155,  65,  65,  65,  65, 155,\n",
      "        155, 155,  27,  27,  27,  53,  73,  73,  73,  33,  55, 145, 145, 145,\n",
      "        145, 145, 145, 131, 131, 131, 131, 131, 153, 153, 153,  49,  23,  23,\n",
      "         23,  23,  23,  54,  27,  27,  27,  34], device='cuda:1') torch.Size([50])\n",
      "09/22/2023, 02:12:07# predicted of 0: tensor([ 84,  72,   0,   0,   0,   0,   0,   0, 155,  65,  65,  65,  65, 155,\n",
      "        155, 155,  27,  27,  27,  41,  95,  73,  73,  40, 131, 145, 145, 145,\n",
      "        145, 145, 145, 127, 127, 127, 127, 127, 153, 153, 153, 155,  23,  23,\n",
      "         23,  23,  23,  88, 126,  27,  27,  95], device='cuda:1') torch.Size([50])\n",
      "09/22/2023, 02:12:20# labels of Validation: tensor([ 31,  50,  50,  50,  19,  19,  19,  19,  19,  80,  80,  80,  80,  80,\n",
      "         80,  78,  78,  78,  78,  78,  95,  95,  95, 101, 101, 101, 101, 101,\n",
      "        101, 101, 101, 101, 101, 101, 101, 101, 101, 101, 101, 144,  92,  47,\n",
      "        133, 133, 133, 133, 133, 133, 133, 133,  47,  50,  50,  50, 157,  80,\n",
      "         80,  80,  80,  80,  80,  29,  29,  29,  29,  29,  29,  29,  29,  29,\n",
      "         29], device='cuda:1') torch.Size([71])\n",
      "09/22/2023, 02:12:20# predicted of Validation: tensor([158,  15,  50,  50,  19,  19,  19,  19,  19, 146,  80,  80,  80,  80,\n",
      "         80,  48,  78,  78,  78,  78,  95,  95,  95, 101, 101, 101, 101, 101,\n",
      "        101, 101, 101, 101, 101, 101, 101, 101, 101, 101, 101,  61,  67,  59,\n",
      "        133, 133, 133, 133, 133, 133, 133, 133,  50,  50,  50,  50, 130, 146,\n",
      "         80,  80,  80,  80,  80,  29,  29,  29,  29,  29,  29, 128,  29,  29,\n",
      "         84], device='cuda:1') torch.Size([71])\n",
      "09/22/2023, 02:12:20# Validation Loss: 0.3958 | Validation Accuracy: 0.9152\n",
      "\n",
      "09/22/2023, 02:12:20# Find a better model!!\n"
     ]
    },
    {
     "data": {
      "application/vnd.jupyter.widget-view+json": {
       "model_id": "81463cba400e44d5b6f15f07eb8b978c",
       "version_major": 2,
       "version_minor": 0
      },
      "text/plain": [
       "Training:   0%|          | 0/8250 [00:00<?, ?it/s]"
      ]
     },
     "metadata": {},
     "output_type": "display_data"
    },
    {
     "name": "stdout",
     "output_type": "stream",
     "text": [
      "09/22/2023, 02:13:38# labels of 5000: tensor([ 50,  50,  50, 109, 153, 153, 153,  80,  80,  80,  80,  80,  80,  98,\n",
      "         67,  67,  67,  67,  67,  43,  43,  74,  88,  88,  77,  77,  77,  77,\n",
      "         77,  77,  77,  77,  54,  86,  86,  65,  65,  65,  65,  65,  65,  65,\n",
      "         65,  65,  65,  65,  65,  65,  65,  65,  65,  65,  65,  65,  65,  65,\n",
      "         65,  65,  65,  65,  65,  65,  65,  65,  65,  65,  65,  65,  65,  65,\n",
      "         65,  65,  65,  65,  70,  70,  70,  70,  70,  70,  70,  70,  70,  70,\n",
      "         70,  70,  70,  70,  70,  70,  70,  70,  70,  70,  70,  70,  70, 156,\n",
      "        156, 156, 156, 156, 156, 156, 156, 156, 156, 156, 156, 156, 156, 156,\n",
      "        156, 156, 156, 156, 156, 156, 156, 156, 156, 156, 156, 156, 156, 156,\n",
      "        156, 156, 156, 156, 156, 156, 156, 156, 156, 156, 156, 156, 156, 156,\n",
      "        156, 156, 156, 156, 156, 156, 156, 156, 156, 156, 156, 156, 156,  65,\n",
      "         65,  65,  65,  65,  65, 156, 156, 156, 156, 156, 156, 156, 156,  87,\n",
      "         63,  63,  63,  63], device='cuda:1') torch.Size([172])\n",
      "09/22/2023, 02:13:38# predicted of 5000: tensor([ 73,  50,  50,  95, 153, 153, 153, 136,  80,  80,  80,  80,  80,  98,\n",
      "         56,  67,  67,  67,  67,  43,  43,  89, 113,   8,  77,  77,  77,  77,\n",
      "         77,  77,  77,  77,  48,  86,  86,  65,  65,  65,  65,  65,  65,  65,\n",
      "         65,  65,  65,  65,  65,  65,  65,  65,  65,  65,  65,  65,  65,  65,\n",
      "         65,  65,  65,  65,  65,  65,  65,  65,  65,  65,  65,  65,  65,  65,\n",
      "         65,  65,  65,  65,  70,  70,  70,  70,  70,  70,  70,  70,  70,  70,\n",
      "         70,  70,  70,  70,  70,  70,  70,  70,  70,  70,  70,  70,  70, 156,\n",
      "        156, 156, 156, 156, 156, 156, 156, 156, 156, 156, 156, 156, 156, 156,\n",
      "        156, 156, 156, 156, 156, 156, 156, 156, 156, 156, 156, 156, 156, 156,\n",
      "        156, 156, 156, 156, 156, 156, 156, 156, 156, 156, 156, 156, 156, 156,\n",
      "        156, 156, 156, 156, 156, 156, 156, 156, 156, 156, 156, 156, 156,  65,\n",
      "         65,  65,  65,  65,  65, 156, 156, 156, 156, 156, 156, 156, 156, 126,\n",
      "         63,  63,  63,  63], device='cuda:1') torch.Size([172])\n",
      "09/22/2023, 02:14:31# total batches: 8250\n",
      "09/22/2023, 02:14:31# Epoch 1 | Train Loss: 0.3748 | Train Accuracy: 0.9148\n"
     ]
    },
    {
     "data": {
      "application/vnd.jupyter.widget-view+json": {
       "model_id": "2e9f91547bd04eb2b1df042ffc510f33",
       "version_major": 2,
       "version_minor": 0
      },
      "text/plain": [
       "Validation:   0%|          | 0/1032 [00:00<?, ?it/s]"
      ]
     },
     "metadata": {},
     "output_type": "display_data"
    },
    {
     "name": "stdout",
     "output_type": "stream",
     "text": [
      "09/22/2023, 02:14:31# labels of Validation: tensor([ 10,  10,  78,  78,  78,  78,  78,  60,  84,  84,  84,  84,  84,  84,\n",
      "         84,  84,  84, 110, 110,  17,  17,  17,  17,  17,  17,  17,  17,  17,\n",
      "         17,  17,  17,  17,  17,  17,  17,  17,  17,  17,  17,  17,  17,  17,\n",
      "         17,  17,  17,  17,  17,  17,  17,  17,  17,  17,  17,  17,  17,  17,\n",
      "         17,  17,  17,  17,  17,  17,  17,  17,  17,  17,  17,  17,  17,  17,\n",
      "         17,  17,  17,  17,  17,  17,  17,  17,  17,  17,  17,  17,  17,  17,\n",
      "         17,  17,  17,  17,  17,  17,  17,  17,  17,  17,  17,  17,  17,  17,\n",
      "         17,  17,  17,  17,  17,  17,  17,  17,  17,  17,  17,  17,  17,  17,\n",
      "         17,  17,  17,  17,  17,  17,  17,  17,  17,  17,  17,  98,  66,  66,\n",
      "         66,  66,  66,  66,  66,  66,  66,  66, 104, 123, 123, 123, 123, 123,\n",
      "        123, 123, 123, 123, 123, 123, 123, 123, 123, 123,  84,  84,  84,  84,\n",
      "         84,  84,  84,  84,  84,   3,   3,   3,   3,   3,   3,   3,   3,   3,\n",
      "          3,   3,   3,   3,   3,   3, 100, 100, 100, 100, 100, 100, 105, 105,\n",
      "        105, 105, 105, 105, 105, 105, 105, 105, 105, 105, 105, 121,  14],\n",
      "       device='cuda:1') torch.Size([195])\n",
      "09/22/2023, 02:14:31# predicted of Validation: tensor([ 10,  10,  78,  78,  78,  78,  78, 146,   3,  84,  84,  84,  84,  84,\n",
      "         84,  84,  84, 114, 114,  17,  17,  17,  17,  17,  17,  17,  17,  17,\n",
      "         17,  17,  17,  17,  17,  17,  17,  17,  17,  17,  17,  17,  17,  17,\n",
      "         17,  17,  17,  17,  17,  17,  17,  17,  17,  17,  17,  17,  17,  17,\n",
      "         17,  17,  17,  17,  17,  17,  17,  17,  17,  17,  17,  17,  17,  17,\n",
      "         17,  17,  17,  17,  17,  17,  17,  17,  17,  17, 108,  17,  17,  17,\n",
      "         17,  17,  17,  79,  17,  17,  17,  17,  17,  17,  17,  17,  17,  17,\n",
      "         17,  17,  17,  17,  17,  17,  17,  17,  17,  17,  17,  17,  17,  17,\n",
      "         17,  17,  17,  17,  17,  17,  17,  17,  17,  17,  17,  98,  66,  66,\n",
      "         66,  66,  66,  66,  66,  66,  66,  66, 142, 123, 123, 123, 123, 123,\n",
      "        123, 123, 123, 123, 123, 123, 123, 123, 123, 123,  84,  84,  84,  84,\n",
      "         84,  84,  84,  84,  84,   3,   3,   3,   3,   3,   3,   3,   3,   3,\n",
      "          3,   3,   3,   3,   3,   3, 100, 100, 100, 100, 100, 100, 105, 105,\n",
      "        105, 105, 105, 105, 105, 105, 105, 105, 105, 105, 105, 142, 142],\n",
      "       device='cuda:1') torch.Size([195])\n",
      "09/22/2023, 02:14:31# labels of 0: tensor([ 10,  10,  78,  78,  78,  78,  78,  60,  84,  84,  84,  84,  84,  84,\n",
      "         84,  84,  84, 110, 110,  17,  17,  17,  17,  17,  17,  17,  17,  17,\n",
      "         17,  17,  17,  17,  17,  17,  17,  17,  17,  17,  17,  17,  17,  17,\n",
      "         17,  17,  17,  17,  17,  17,  17,  17,  17,  17,  17,  17,  17,  17,\n",
      "         17,  17,  17,  17,  17,  17,  17,  17,  17,  17,  17,  17,  17,  17,\n",
      "         17,  17,  17,  17,  17,  17,  17,  17,  17,  17,  17,  17,  17,  17,\n",
      "         17,  17,  17,  17,  17,  17,  17,  17,  17,  17,  17,  17,  17,  17,\n",
      "         17,  17,  17,  17,  17,  17,  17,  17,  17,  17,  17,  17,  17,  17,\n",
      "         17,  17,  17,  17,  17,  17,  17,  17,  17,  17,  17,  98,  66,  66,\n",
      "         66,  66,  66,  66,  66,  66,  66,  66, 104, 123, 123, 123, 123, 123,\n",
      "        123, 123, 123, 123, 123, 123, 123, 123, 123, 123,  84,  84,  84,  84,\n",
      "         84,  84,  84,  84,  84,   3,   3,   3,   3,   3,   3,   3,   3,   3,\n",
      "          3,   3,   3,   3,   3,   3, 100, 100, 100, 100, 100, 100, 105, 105,\n",
      "        105, 105, 105, 105, 105, 105, 105, 105, 105, 105, 105, 121,  14],\n",
      "       device='cuda:1') torch.Size([195])\n",
      "09/22/2023, 02:14:31# predicted of 0: tensor([ 10,  10,  78,  78,  78,  78,  78, 146,   3,  84,  84,  84,  84,  84,\n",
      "         84,  84,  84, 114, 114,  17,  17,  17,  17,  17,  17,  17,  17,  17,\n",
      "         17,  17,  17,  17,  17,  17,  17,  17,  17,  17,  17,  17,  17,  17,\n",
      "         17,  17,  17,  17,  17,  17,  17,  17,  17,  17,  17,  17,  17,  17,\n",
      "         17,  17,  17,  17,  17,  17,  17,  17,  17,  17,  17,  17,  17,  17,\n",
      "         17,  17,  17,  17,  17,  17,  17,  17,  17,  17, 108,  17,  17,  17,\n",
      "         17,  17,  17,  79,  17,  17,  17,  17,  17,  17,  17,  17,  17,  17,\n",
      "         17,  17,  17,  17,  17,  17,  17,  17,  17,  17,  17,  17,  17,  17,\n",
      "         17,  17,  17,  17,  17,  17,  17,  17,  17,  17,  17,  98,  66,  66,\n",
      "         66,  66,  66,  66,  66,  66,  66,  66, 142, 123, 123, 123, 123, 123,\n",
      "        123, 123, 123, 123, 123, 123, 123, 123, 123, 123,  84,  84,  84,  84,\n",
      "         84,  84,  84,  84,  84,   3,   3,   3,   3,   3,   3,   3,   3,   3,\n",
      "          3,   3,   3,   3,   3,   3, 100, 100, 100, 100, 100, 100, 105, 105,\n",
      "        105, 105, 105, 105, 105, 105, 105, 105, 105, 105, 105, 142, 142],\n",
      "       device='cuda:1') torch.Size([195])\n",
      "09/22/2023, 02:14:46# labels of Validation: tensor([ 33,  47, 107, 107, 107, 107, 107, 107, 107, 107,  87, 108, 108, 108,\n",
      "        108,   4,  84,  84,  84,  84,  84,  84,  84,  84,  84,  21,  21,  21,\n",
      "         21,  21,  21,  21,  21,  21,  21,  21,  74, 132, 132, 132, 132, 132,\n",
      "        132, 132, 132, 132, 132, 132, 132, 132, 132, 132, 132, 132, 132, 132,\n",
      "        132, 132, 132, 132, 132, 132, 132, 132, 132, 132, 132, 132, 132, 132,\n",
      "        132, 132, 132, 132, 132, 132, 132, 132, 132, 132, 132, 132, 132, 132,\n",
      "        132, 132, 132, 132, 132, 132, 132, 132, 132, 132, 132, 132, 132, 132,\n",
      "        132, 132, 132, 132, 132, 132, 132, 132, 132, 132, 132, 132, 132, 132,\n",
      "        132, 132, 132, 132, 132, 132, 132, 132, 132, 132, 132, 132, 132, 132,\n",
      "        132, 132, 132, 132, 132, 132, 132, 132, 132, 132, 132, 132, 132, 132,\n",
      "        132, 132, 132, 132, 132, 132, 132, 132, 132, 132, 132, 132, 132, 132,\n",
      "        132, 132, 132, 132, 132, 132, 132, 132, 132, 132, 132, 132, 132, 132,\n",
      "        132, 132, 132, 132, 132, 132, 132, 132, 132, 132, 132, 132, 132, 132,\n",
      "        132, 132, 132, 132, 132, 132, 132, 132, 132, 132, 132, 132, 132, 132,\n",
      "        132, 132, 132, 132, 132, 132, 132, 132, 132, 132, 132, 132, 132, 132,\n",
      "        132, 132, 132,  65, 132, 132, 132, 132, 132, 132, 132, 132, 132, 132,\n",
      "        132, 132, 132, 132, 132, 132, 132, 132, 132, 132, 132, 132, 132, 132,\n",
      "        132, 132, 132, 132, 132, 132, 132, 132, 132, 132, 132, 132, 132, 132,\n",
      "        132, 132,   1,   4,  43,  43, 134, 134, 134, 134, 134, 134, 134, 134,\n",
      "        134, 134, 134, 134, 134, 134, 134, 134, 134, 134, 134, 134, 134, 134,\n",
      "        134, 134, 134, 134, 134, 134, 134, 134, 134, 134, 134, 134, 134, 134,\n",
      "        134, 134, 134, 134, 134, 134, 134, 134,  65,  65, 134, 134, 134, 134,\n",
      "        134, 134, 134, 134, 134, 134, 134, 134, 134, 134, 134, 134, 134, 134,\n",
      "        129, 129, 129, 129, 129, 129, 129,  26,  26,  26,  26,  26,  26],\n",
      "       device='cuda:1') torch.Size([335])\n",
      "09/22/2023, 02:14:46# predicted of Validation: tensor([142, 108, 107, 107, 107, 107, 107, 107, 107, 107, 108, 108, 108, 108,\n",
      "        108, 108,  84,  84,  84,  84,  84,  84,  84,  84,  84,  21,  21,  21,\n",
      "         21,  21,  21,  21,  21,  21,  21,  21, 146, 132, 132, 132, 132, 132,\n",
      "        132, 132, 132, 132, 132, 132, 132, 132, 132, 132, 132, 132, 132, 132,\n",
      "        132, 132, 132, 132, 132, 132, 132, 132, 132, 132, 132, 132, 132, 132,\n",
      "        132, 132, 132, 132, 132, 132, 132, 132, 132, 132, 132, 132, 132, 132,\n",
      "        132, 132, 132, 132, 132, 132, 132, 132, 132, 132, 132, 132, 132, 132,\n",
      "        132, 132, 132, 132, 132, 132, 132, 132, 132, 132, 132, 132, 132, 132,\n",
      "        132, 132, 132, 132, 132, 132, 132, 132, 132, 132, 132, 132, 132, 132,\n",
      "        132, 132, 132, 132, 132, 132, 132, 132, 132, 132, 132, 132, 132, 132,\n",
      "        132, 132, 132, 132, 132, 132, 132, 132, 132, 132, 132, 132, 132, 132,\n",
      "        132, 132, 132, 132, 132, 132, 132, 132, 132, 132, 132, 132, 132, 132,\n",
      "        132, 132, 132, 132, 132, 132, 132, 132, 132, 132, 132, 132, 132, 132,\n",
      "        132, 132, 132, 132, 132, 132, 132, 132, 132, 132, 132, 132, 132, 132,\n",
      "        132, 132, 132, 132, 132, 132, 132, 132, 132, 132, 132, 132, 132, 132,\n",
      "        132, 132, 132,  65, 132, 132, 132, 132, 132, 132, 132, 132, 132, 132,\n",
      "        132, 132, 132, 132, 132, 132, 132, 132, 132, 132, 132, 132, 132, 132,\n",
      "        132, 132, 132, 132, 132, 132, 132, 132, 132, 132, 132, 132, 132, 132,\n",
      "        132, 132, 140, 117,  43,  43, 134, 134, 134, 134, 134, 134, 134, 134,\n",
      "        134, 134, 134, 134, 134, 134, 134, 134, 134, 134, 134, 134, 134, 134,\n",
      "        134, 134, 134, 134, 134, 134, 134, 134, 134, 134, 134, 134, 134, 134,\n",
      "        134, 134, 134, 134, 134, 134, 134, 134,  65,  65, 134, 134, 134, 134,\n",
      "        134, 134, 134, 134, 134, 134, 134, 134, 134, 134, 134, 134, 134, 134,\n",
      "        129, 129, 129, 129, 129, 129, 129,  26,  26,  26,  26,  26,  26],\n",
      "       device='cuda:1') torch.Size([335])\n"
     ]
    },
    {
     "name": "stdout",
     "output_type": "stream",
     "text": [
      "09/22/2023, 02:14:47# Validation Loss: 0.3124 | Validation Accuracy: 0.9270\n",
      "\n",
      "09/22/2023, 02:14:47# Find a better model!!\n"
     ]
    },
    {
     "data": {
      "application/vnd.jupyter.widget-view+json": {
       "model_id": "77ab149c747249dab8f03a39f9d0ddbf",
       "version_major": 2,
       "version_minor": 0
      },
      "text/plain": [
       "Training:   0%|          | 0/8250 [00:00<?, ?it/s]"
      ]
     },
     "metadata": {},
     "output_type": "display_data"
    },
    {
     "name": "stdout",
     "output_type": "stream",
     "text": [
      "09/22/2023, 02:16:06# labels of 5000: tensor([ 65,  65,  65,  65,  65,  65,  65, 135, 135,  66,  66,  66,  66,  66,\n",
      "         66,  66,  66,  66,  66, 105, 105, 105, 105, 105, 105, 105, 105, 105,\n",
      "        105, 105, 105, 105,  76,  74,  20,  20,  18,  54,  32,  32,  32,  32,\n",
      "         32,  32,  32,  32,  32,  32,  32,  32,  32,  32,  32, 134, 134, 134,\n",
      "        134, 134, 134, 134, 134, 134, 134, 134, 134, 134, 134, 134, 134, 134,\n",
      "        134, 134, 134, 134, 134, 134, 134, 134, 134, 134, 134, 134, 134, 134,\n",
      "        134, 134, 134, 134, 134, 134, 134, 134, 134, 134, 134, 134, 134,  65,\n",
      "         65, 134, 134, 134, 134, 134, 134, 134, 134, 134, 134, 134, 134, 134,\n",
      "        134, 134, 134, 134, 134,  84,  84,  84,  84,  84,  84,  84,  84,  84,\n",
      "         21,  21,  21,  21,  21,  21,  21,  21,  21,  21,  21, 145, 145, 145,\n",
      "        145, 145, 145, 155,  65,  65,  65, 155, 155, 155,  12,  66,  66,  66,\n",
      "         66,  66,  66,  66,  66,  66,  66], device='cuda:1') torch.Size([161])\n",
      "09/22/2023, 02:16:06# predicted of 5000: tensor([ 65,  65,  65,  65,  65,  65,  65, 135, 135,  66,  66,  66,  66,  66,\n",
      "         66,  66,  66,  66,  66, 105, 105, 105, 105, 105, 105, 105, 105, 105,\n",
      "        105, 105, 105, 105,   1, 131,  20,  20,  15,  93,  32,  32,  32,  32,\n",
      "         32,  32,  32,  32,  32,  32,  32,  32,  32,  32,  32, 134, 134, 134,\n",
      "        134, 134, 134, 134, 134, 134, 134, 134, 134, 134, 134, 134, 134, 134,\n",
      "        134, 134, 134, 134, 134, 134, 134, 134, 134, 134, 134, 134, 134, 134,\n",
      "        134, 134, 134, 134, 134, 134, 134, 134, 134, 134, 134, 134, 134,  65,\n",
      "         65, 134, 134, 134, 134, 134, 134, 134, 134, 134, 134, 134, 134, 134,\n",
      "        134, 134, 134, 134, 134,  84,  84,  84,  84,  84,  84,  84,  84,  84,\n",
      "         21,  21,  21,  21,  21,  21,  21,  21,  21,  21,  21,  23, 145, 145,\n",
      "        145, 145, 145, 155,  65,  65,  65, 155, 155, 155,  31,  66,  66,  66,\n",
      "         66,  66,  66,  66,  66,  66,  66], device='cuda:1') torch.Size([161])\n",
      "09/22/2023, 02:16:57# total batches: 8250\n",
      "09/22/2023, 02:16:57# Epoch 2 | Train Loss: 0.3127 | Train Accuracy: 0.9260\n"
     ]
    },
    {
     "data": {
      "application/vnd.jupyter.widget-view+json": {
       "model_id": "37f46ff04b784878b183498cb7a90620",
       "version_major": 2,
       "version_minor": 0
      },
      "text/plain": [
       "Validation:   0%|          | 0/1032 [00:00<?, ?it/s]"
      ]
     },
     "metadata": {},
     "output_type": "display_data"
    },
    {
     "name": "stdout",
     "output_type": "stream",
     "text": [
      "09/22/2023, 02:16:57# labels of Validation: tensor([128, 128, 128, 128, 128, 128, 128, 128, 128, 128, 128, 128, 128, 128,\n",
      "        128, 128, 128, 128, 128, 128,  87,  59,  59,  59,  44,   8,   8, 109,\n",
      "         14,  72,  72,  42, 162,  18, 145, 145, 145, 145, 145, 145, 112, 146,\n",
      "        146, 146, 146, 146, 146, 115, 115, 115, 115, 115, 115, 115, 115, 115,\n",
      "        115,  35,  35,  65,  35,  35,  35,  35], device='cuda:1') torch.Size([64])\n",
      "09/22/2023, 02:16:57# predicted of Validation: tensor([128, 128, 128, 128, 128, 128, 128, 128, 128, 128, 128, 128, 128, 128,\n",
      "        128, 128, 128, 128, 128, 128,  18, 131, 131, 131,  67,  95, 151, 110,\n",
      "         84,   5,  72,  12,  12,  64, 145, 145, 145, 145, 145, 145,  12, 146,\n",
      "         15, 146, 146, 146, 146, 115, 115, 115, 115, 115, 115, 115, 115, 115,\n",
      "        115,  35,  62,  65,  35,  35,  35,  35], device='cuda:1') torch.Size([64])\n",
      "09/22/2023, 02:16:57# labels of 0: tensor([128, 128, 128, 128, 128, 128, 128, 128, 128, 128, 128, 128, 128, 128,\n",
      "        128, 128, 128, 128, 128, 128,  87,  59,  59,  59,  44,   8,   8, 109,\n",
      "         14,  72,  72,  42, 162,  18, 145, 145, 145, 145, 145, 145, 112, 146,\n",
      "        146, 146, 146, 146, 146, 115, 115, 115, 115, 115, 115, 115, 115, 115,\n",
      "        115,  35,  35,  65,  35,  35,  35,  35], device='cuda:1') torch.Size([64])\n",
      "09/22/2023, 02:16:57# predicted of 0: tensor([128, 128, 128, 128, 128, 128, 128, 128, 128, 128, 128, 128, 128, 128,\n",
      "        128, 128, 128, 128, 128, 128,  18, 131, 131, 131,  67,  95, 151, 110,\n",
      "         84,   5,  72,  12,  12,  64, 145, 145, 145, 145, 145, 145,  12, 146,\n",
      "         15, 146, 146, 146, 146, 115, 115, 115, 115, 115, 115, 115, 115, 115,\n",
      "        115,  35,  62,  65,  35,  35,  35,  35], device='cuda:1') torch.Size([64])\n",
      "09/22/2023, 02:17:10# labels of Validation: tensor([ 97,  51,  65,  65,  65,  51,  51,  51,  51, 138, 138, 138, 138, 138,\n",
      "        138, 138, 138, 138, 138,  43,  43,  27,  27,  27,  47,  82,  82,  82,\n",
      "         82,  82,  82,  82,  82,  82,  82,  82,  82,  82,  82,  82,  82,  82,\n",
      "         82,  82,  82,  82,  82,  82,  82,  82,  82,  82, 158,  64,  64,  20,\n",
      "         20,  28,  28,  28,  28,  28,  65,  28,  28,  28,  28,  28,  28,  28,\n",
      "        144,   9,  54, 144, 165, 165, 165, 165, 165, 165, 165, 165, 165, 165,\n",
      "        165, 165, 165, 165, 165, 165, 165, 165, 165, 165, 165, 165, 165, 165,\n",
      "        165, 165, 165, 165, 165, 165, 165, 165, 165, 165, 165, 165, 165, 165,\n",
      "        165, 165, 165, 165, 165, 165, 165, 165, 165, 165, 165, 165, 165, 165,\n",
      "        165, 165, 165, 165, 165, 165, 165, 165, 165, 165, 165, 165, 165, 165,\n",
      "        165, 165, 165, 165, 165, 165, 165, 165, 165, 165, 165, 165, 165, 165,\n",
      "        165, 165], device='cuda:1') torch.Size([156])\n",
      "09/22/2023, 02:17:10# predicted of Validation: tensor([151,  51,  65,  65,  65,  51,  51,  51,  51, 138, 138, 138, 138, 138,\n",
      "        138, 138, 138, 138, 138,  43,  43,  27,  27,  27,  39,  82,  82,  82,\n",
      "         82,  82,  82,  82,  82,  82,  82,  82,  82,  82,  82,  82,  82,  82,\n",
      "         82,  82,  82,  82,  82,  82,  82,  82,  82,  82,  12, 110, 151,  20,\n",
      "         20,  28,  28,  28,  28,  28,  65,  28,  28,  28,  28,  28,  28,  28,\n",
      "        151,  74,  15,  55, 165, 165, 165, 165, 165, 165, 165, 165, 165, 165,\n",
      "        165, 165, 165, 165, 165, 165, 165, 165, 165, 165, 165, 165, 165, 165,\n",
      "        165, 165, 165, 165, 165, 165, 165, 165, 165, 165, 165, 165, 165, 165,\n",
      "        165, 165, 165, 165, 165, 165, 165, 165, 165, 165, 165, 165, 165, 165,\n",
      "        165, 165, 165, 165, 165, 165, 165, 165, 165, 165, 165, 165, 165, 165,\n",
      "        165, 165, 165, 165, 165, 165, 165, 165, 165, 165, 165, 165, 165, 165,\n",
      "        165, 165], device='cuda:1') torch.Size([156])\n",
      "09/22/2023, 02:17:11# Validation Loss: 0.2799 | Validation Accuracy: 0.9322\n",
      "\n",
      "09/22/2023, 02:17:11# Find a better model!!\n"
     ]
    },
    {
     "data": {
      "application/vnd.jupyter.widget-view+json": {
       "model_id": "84f6c4c22f6c477ca8c4c48e03a2ea71",
       "version_major": 2,
       "version_minor": 0
      },
      "text/plain": [
       "Training:   0%|          | 0/8250 [00:00<?, ?it/s]"
      ]
     },
     "metadata": {},
     "output_type": "display_data"
    },
    {
     "name": "stdout",
     "output_type": "stream",
     "text": [
      "09/22/2023, 02:18:29# labels of 5000: tensor([ 12,  65,  65,  65,  65,  65,  65,  65,  65,  65, 135, 135, 130, 130,\n",
      "        130, 130, 130,  64,  64,  32,  32,  32,  32,  32,  32,  32,  32,  32,\n",
      "         32,  32,  32,  32,  32,  32,  12, 105, 105, 105, 105, 105, 105, 105,\n",
      "        105, 105, 105, 105, 105, 105,  35,  35,  65,  35,  35,  35,  35,  32,\n",
      "         32,  32,  32,  32,  32,  32,  32,  32,  32,  32,  32,  32,  32,  32,\n",
      "         16,  16,  16,  16,  16,  16,  16,  16,  16,  16,  16,  16,  16,  16,\n",
      "         16,  16,  16,  16,  16,  16, 156, 156, 156, 156, 156, 156, 156, 156,\n",
      "        156, 156, 156, 156, 156, 156, 156, 156, 156, 156, 156, 156, 156, 156,\n",
      "        156, 156, 156, 156, 156, 156, 156, 156, 156, 156, 156, 156, 156, 156,\n",
      "        156, 156, 156, 156, 156, 156, 156, 156, 156, 156, 156, 156, 156, 156,\n",
      "        156, 156, 156, 156, 156, 156,  65, 156, 156, 156, 156, 156, 156, 156,\n",
      "        156, 164,  34, 140, 140, 140, 140, 140, 140, 140, 140, 140, 140, 140,\n",
      "        140, 140,   2,  78,  78,  78,  78,  78], device='cuda:1') torch.Size([176])\n",
      "09/22/2023, 02:18:29# predicted of 5000: tensor([103,  65,  65,  65,  65,  65,  65,  65,  65,  65, 135, 135,  94,  96,\n",
      "         96,  96,  96,  36,  94,  32,  32,  32,  32,  32,  32,  32,  32,  32,\n",
      "         32,  32,  32,  32,  32,  32,   9, 105, 105, 105, 105, 105, 105, 105,\n",
      "        105, 105, 105, 105, 105, 105,  35,  35,  65,  35,  35,  35,  35,  32,\n",
      "         32,  32,  32,  32,  32,  32,  32,  32,  32,  32,  32,  32,  32,  32,\n",
      "         16,  16,  16,  16,  16,  16,  16,  16,  16,  16,  16,  16,  16,  16,\n",
      "         16,  16,  16,  16,  16,  16, 156, 156, 156, 156, 156, 156, 156, 156,\n",
      "        156, 156, 156, 156, 156, 156, 156, 156, 156, 156, 156, 156, 156, 156,\n",
      "        156, 156, 156, 156, 156, 156, 156, 156, 156, 156, 156, 156, 156, 156,\n",
      "        156, 156, 156, 156, 156, 156, 156, 156, 156, 156, 156, 156, 156, 156,\n",
      "        156, 156, 156, 156, 156, 156,  65, 156, 156, 156, 156, 156, 156, 156,\n",
      "        156,  97, 116, 140, 140, 140, 140, 140, 140, 140, 140, 140, 140, 140,\n",
      "        140, 140,  94,  78,  78,  78,  78,  78], device='cuda:1') torch.Size([176])\n",
      "09/22/2023, 02:19:22# total batches: 8250\n",
      "09/22/2023, 02:19:22# Epoch 3 | Train Loss: 0.2893 | Train Accuracy: 0.9303\n"
     ]
    },
    {
     "data": {
      "application/vnd.jupyter.widget-view+json": {
       "model_id": "b04333a66ad641b2b2481f5a3e700b2e",
       "version_major": 2,
       "version_minor": 0
      },
      "text/plain": [
       "Validation:   0%|          | 0/1032 [00:00<?, ?it/s]"
      ]
     },
     "metadata": {},
     "output_type": "display_data"
    },
    {
     "name": "stdout",
     "output_type": "stream",
     "text": [
      "09/22/2023, 02:19:22# labels of Validation: tensor([  1,  28,  28,  28,  28,  28,  65,  28,  28,  28,  28,  28,  28,  28,\n",
      "         65,  65,  65,  65,  65,  65,  65,  65,  65,  65,  65,  65,  65,  65,\n",
      "         65,  65,  65,  65,  65,  65,  65,  65,  65,  65,  65,  65,  65,  65,\n",
      "         65,  65,  65,  65,  65,  65,  65,  70,  70,  70,  70,  70,  70,  70,\n",
      "         70,  70,  70,  70,  70,  70,  70,  70,  70,  70,  70,  70,  70,  70,\n",
      "         70,  70,  15,  15,  15, 163,  76,  34,  54, 112,  69,  69,  69,  69,\n",
      "         69,  69, 131, 131, 131, 131, 131,  61,  61,  61,  65,  65,  65,  65,\n",
      "         65,  65,  70,  70,  70,  70,  70,  70,  70,  70,  70,  70,  70,  70,\n",
      "         70,  70,  70,  70,  70,  70,  70,  70,  70,  70,  70,  65,  65,  65,\n",
      "         65,  65,  65,  65,  65,  65,  65, 149, 149, 149, 149, 149, 149, 149,\n",
      "        149, 149, 149, 149, 149, 149, 149, 149, 149, 115, 115, 115, 115, 115,\n",
      "        115, 115, 115, 115, 115,  75], device='cuda:1') torch.Size([160])\n",
      "09/22/2023, 02:19:22# predicted of Validation: tensor([ 93,  28,  28,  28,  28,  28,  65,  28,  28,  28,  28,  28,  28,  28,\n",
      "         65,  65,  65,  65,  65,  65,  65,  65,  65,  65,  65,  65,  65,  65,\n",
      "         65,  65,  65,  65,  65,  65,  65,  65,  65,  65,  65,  65,  65,  65,\n",
      "         65,  65,  65,  65,  65,  65,  65,  70,  70,  70,  70,  70,  70,  70,\n",
      "         70,  70,  70,  70,  70,  70,  70,  70,  70,  70,  70,  70,  70,  70,\n",
      "         70,  70,  15,  15,  15,  44,  35,   0,  93, 144,  69,  69,  69,  69,\n",
      "         69,  69, 131, 131, 131, 131, 131,  61,  61,  61,  65,  65,  65,  65,\n",
      "         65,  65,  70,  70,  70,  70,  70,  70,  70,  70,  70,  70,  70,  70,\n",
      "         70,  70,  70,  70,  70,  70,  70,  70,  70,  70,  70,  65,  65,  65,\n",
      "         65,  65,  65,  65,  65,  65,  65, 149, 149, 149, 149, 149, 149, 149,\n",
      "        149, 149, 149, 149, 149, 149, 149, 149, 149, 115, 115, 115, 115, 115,\n",
      "        115, 115, 115, 115, 115,  93], device='cuda:1') torch.Size([160])\n",
      "09/22/2023, 02:19:22# labels of 0: tensor([  1,  28,  28,  28,  28,  28,  65,  28,  28,  28,  28,  28,  28,  28,\n",
      "         65,  65,  65,  65,  65,  65,  65,  65,  65,  65,  65,  65,  65,  65,\n",
      "         65,  65,  65,  65,  65,  65,  65,  65,  65,  65,  65,  65,  65,  65,\n",
      "         65,  65,  65,  65,  65,  65,  65,  70,  70,  70,  70,  70,  70,  70,\n",
      "         70,  70,  70,  70,  70,  70,  70,  70,  70,  70,  70,  70,  70,  70,\n",
      "         70,  70,  15,  15,  15, 163,  76,  34,  54, 112,  69,  69,  69,  69,\n",
      "         69,  69, 131, 131, 131, 131, 131,  61,  61,  61,  65,  65,  65,  65,\n",
      "         65,  65,  70,  70,  70,  70,  70,  70,  70,  70,  70,  70,  70,  70,\n",
      "         70,  70,  70,  70,  70,  70,  70,  70,  70,  70,  70,  65,  65,  65,\n",
      "         65,  65,  65,  65,  65,  65,  65, 149, 149, 149, 149, 149, 149, 149,\n",
      "        149, 149, 149, 149, 149, 149, 149, 149, 149, 115, 115, 115, 115, 115,\n",
      "        115, 115, 115, 115, 115,  75], device='cuda:1') torch.Size([160])\n",
      "09/22/2023, 02:19:22# predicted of 0: tensor([ 93,  28,  28,  28,  28,  28,  65,  28,  28,  28,  28,  28,  28,  28,\n",
      "         65,  65,  65,  65,  65,  65,  65,  65,  65,  65,  65,  65,  65,  65,\n",
      "         65,  65,  65,  65,  65,  65,  65,  65,  65,  65,  65,  65,  65,  65,\n",
      "         65,  65,  65,  65,  65,  65,  65,  70,  70,  70,  70,  70,  70,  70,\n",
      "         70,  70,  70,  70,  70,  70,  70,  70,  70,  70,  70,  70,  70,  70,\n",
      "         70,  70,  15,  15,  15,  44,  35,   0,  93, 144,  69,  69,  69,  69,\n",
      "         69,  69, 131, 131, 131, 131, 131,  61,  61,  61,  65,  65,  65,  65,\n",
      "         65,  65,  70,  70,  70,  70,  70,  70,  70,  70,  70,  70,  70,  70,\n",
      "         70,  70,  70,  70,  70,  70,  70,  70,  70,  70,  70,  65,  65,  65,\n",
      "         65,  65,  65,  65,  65,  65,  65, 149, 149, 149, 149, 149, 149, 149,\n",
      "        149, 149, 149, 149, 149, 149, 149, 149, 149, 115, 115, 115, 115, 115,\n",
      "        115, 115, 115, 115, 115,  93], device='cuda:1') torch.Size([160])\n",
      "09/22/2023, 02:19:36# labels of Validation: tensor([ 52,  52,  52,  52,  52,  52,  52,  52,  52,  52,  52,  65,  52,  52,\n",
      "         52,  52,  52,  52,  52,  52,  52,  52,  52,  52,  52,  52,  52,  52,\n",
      "         52,  52,  52,  52,  52,  52,  52,  52,  52,  52,  52,  52,  52,  52,\n",
      "         52,  52,  52,  52,  52,  52,  52,  52,  52,  52,  52,  52,  52,  52,\n",
      "         52,  52,  52,  52,  52,  52,  52,  52,  52,  52,  52,  52,  52,  52,\n",
      "         52,  52,  52,  52,  52,  52,  52,  52,  52,  52,  52,  52,  52,  52,\n",
      "         52,  52,  52,  52,  52,  52,  52,  52,  52,  52,  52,  52,  52,  52,\n",
      "         52,  52,  52,  52,  52,  52,  52,  52,  52,  52,  52,  52,  52,  52,\n",
      "         52,  52,  52,  52,  52,  52,  52,  52,  52,  52,  52,  52,  52,  52,\n",
      "         52,  52,  52,  52,  52,  52,  52,  52,  52,  52,  52,  52,  39,  39,\n",
      "         39,   7,   7,   7,   7,   7,   7,   7,   7,   7,   7,   7,   7,   7,\n",
      "          7,   7,   7,   7,   7,   7,   7,   7,   7,   7,   7,   7,   7,   7,\n",
      "          7,   7,   7,   7,   7,   7,   7,   7,   7,   7,   7,   7,   7,   7,\n",
      "          7,   7,   7,   7,   7,   7,   7,   7,   7,   7,   7,   7,   7,   7,\n",
      "          7,   7,   7,   7,   7,   7,   7,   7,   7,   7,   7,   7,  47,  28,\n",
      "         28,  28,  28,  28,  65,  28,  28,  28,  28,  28,  28,  28,  62,  62,\n",
      "         62,  62,  62,  62, 102, 102, 162, 162, 163, 105, 105, 105, 105, 105,\n",
      "        105, 105, 105, 105, 105, 105, 105, 105,  19,  19,  19,  19,  19, 100,\n",
      "        100, 100, 100, 100, 100,   0,   0,   0,   0,   0,   0, 135, 135,  95,\n",
      "         95,  95], device='cuda:1') torch.Size([268])\n",
      "09/22/2023, 02:19:36# predicted of Validation: tensor([ 52,  52,  52,  52,  52,  52,  52,  52,  52,  52,  52,  65,  52,  52,\n",
      "         52,  52,  52,  52,  52,  52,  52,  52,  52,  52,  52,  52,  52,  52,\n",
      "         52,  52,  52,  52,  52,  52,  52,  52,  52,  52,  52,  52,  52,  52,\n",
      "         52,  52,  52,  52,  52,  52,  52,  52,  52,  52,  52,  52,  52,  52,\n",
      "         52,  52,  52,  52,  52,  52,  52,  52,  52,  52,  52,  52,  52,  52,\n",
      "         52,  52,  52,  52,  52,  52,  52,  52,  52,  52,  52,  52,  52,  52,\n",
      "         52,  52,  52,  52,  52,  52,  52,  52,  52,  52,  52,  52,  52,  52,\n",
      "         52,  52,  52,  52,  52,  52,  52,  52,  52,  52,  52,  52,  52,  52,\n",
      "         52,  52,  52,  52,  52,  52,  52,  52,  52,  52,  52,  52,  52,  52,\n",
      "         52,  52,  52,  52,  52,  52,  52,  52,  52,  52,  52,  52,  39,  39,\n",
      "         39,   7,   7,   7,   7,   7,   7,   7,   7,   7,   7,   7,   7,   7,\n",
      "          7,   7,   7,   7,   7,   7,   7,   7,   7,   7,   7,   7,   7,   7,\n",
      "          7,   7,   7,   7,   7,   7,   7,   7,   7,   7,   7,   7,   7,   7,\n",
      "          7,   7,   7,   7,   7,   7,   7,   7,   7,   7,   7,   7,   7,   7,\n",
      "          7,   7,   7,   7,   7,   7,   7,   7,   7,   7,   7,   7, 103,  28,\n",
      "         28,  28,  28,  28,  65,  28,  28,  28,  28,  28,  28,  28,  62,  62,\n",
      "         62,  62,  62,  62, 102, 102, 144, 144, 144, 105, 105, 105, 105, 105,\n",
      "        105, 105, 105, 105, 105, 105, 105, 105,  19,  19,  19,  19,  19, 100,\n",
      "        100, 100, 100, 100, 100,   0,   0,   0,   0,   0,   0, 135, 135,  95,\n",
      "         95,  95], device='cuda:1') torch.Size([268])\n",
      "09/22/2023, 02:19:36# Validation Loss: 0.2697 | Validation Accuracy: 0.9335\n",
      "\n",
      "09/22/2023, 02:19:36# Find a better model!!\n"
     ]
    },
    {
     "data": {
      "application/vnd.jupyter.widget-view+json": {
       "model_id": "52652f7e38ae4b658070b4dee2ecc510",
       "version_major": 2,
       "version_minor": 0
      },
      "text/plain": [
       "Training:   0%|          | 0/8250 [00:00<?, ?it/s]"
      ]
     },
     "metadata": {},
     "output_type": "display_data"
    },
    {
     "name": "stdout",
     "output_type": "stream",
     "text": [
      "09/22/2023, 02:20:53# labels of 5000: tensor([  8,   8,  27,  27,  27, 110, 110, 121,  62,  62,  62,  62,  62,  62,\n",
      "         42, 126, 126, 126,  96,  96,  96,  96,  96,  96, 134, 134, 134, 134,\n",
      "        134, 134, 134, 134, 134, 134, 134, 134, 134, 134, 134, 134, 134, 134,\n",
      "        134, 134, 134, 134, 134, 134, 134, 134, 134, 134, 134, 134, 134, 134,\n",
      "        134, 134, 134, 134, 134, 134, 134, 134, 134, 134, 134, 134,  65,  65,\n",
      "        134, 134, 134, 134, 134, 134, 134, 134, 134, 134, 134, 134, 134, 134,\n",
      "        134, 134, 134, 134,  64,  64,  57, 164, 126, 126, 126, 101, 101, 101,\n",
      "        101, 101, 101, 101, 101, 101, 101, 101, 101, 101, 101, 101, 101,  26,\n",
      "         26,  26,  26,  26,  26, 103, 103], device='cuda:1') torch.Size([119])\n",
      "09/22/2023, 02:20:53# predicted of 5000: tensor([ 91,  91,  27,  27,  27, 146, 146,  91,  62,  62,  62,  62,  62,  62,\n",
      "         91, 126, 126, 126,  96,  96,  96,  96,  96,  96, 134, 134, 134, 134,\n",
      "        134, 134, 134, 134, 134, 134, 134, 134, 134, 134, 134, 134, 134, 134,\n",
      "        134, 134, 134, 134, 134, 134, 134, 134, 134, 134, 134, 134, 134, 134,\n",
      "        134, 134, 134, 134, 134, 134, 134, 134, 134, 134, 134, 134,  65,  65,\n",
      "        134, 134, 134, 134, 134, 134, 134, 134, 134, 134, 134, 134, 134, 134,\n",
      "        134, 134, 134, 134,  35,  35,  31, 110, 126, 126, 126, 101, 101, 101,\n",
      "        101, 101, 101, 101, 101, 101, 101, 101, 101, 101, 101, 101, 101,  26,\n",
      "         26,  26,  26,  26,  26,  91,  59], device='cuda:1') torch.Size([119])\n",
      "09/22/2023, 02:21:43# total batches: 8250\n",
      "09/22/2023, 02:21:43# Epoch 4 | Train Loss: 0.2734 | Train Accuracy: 0.9330\n"
     ]
    },
    {
     "data": {
      "application/vnd.jupyter.widget-view+json": {
       "model_id": "96d53fe275584cd2b82d85c82a79ee13",
       "version_major": 2,
       "version_minor": 0
      },
      "text/plain": [
       "Validation:   0%|          | 0/1032 [00:00<?, ?it/s]"
      ]
     },
     "metadata": {},
     "output_type": "display_data"
    },
    {
     "name": "stdout",
     "output_type": "stream",
     "text": [
      "09/22/2023, 02:21:43# labels of Validation: tensor([ 15,  15,  15,  73,  73,  73, 155,  65,  65, 155, 155, 155,  96,  96,\n",
      "         96,  96,  96,  96,  84,  84,  84,  84,  84,  84,  84,  84,  84, 148,\n",
      "        148, 148, 148, 148, 148, 148,  14,  85,  85,  85,  85,  85,  85,  85,\n",
      "         85,  85,  85,  85,  47,   7,   7,   7,   7,   7,   7,   7,   7,   7,\n",
      "          7,   7,   7,   7,   7,   7,   7,   7,   7,   7,   7,   7,   7,   7,\n",
      "          7,   7,   7,   7,   7,   7,   7,   7,   7,   7,   7,   7,   7,   7,\n",
      "          7,   7,   7,   7,   7,   7,   7,   7,   7,   7,   7,   7,   7,   7,\n",
      "          7,   7,   7,   7,   7,   7,   7,   7,   7,   7,   7,   7,   7,   7,\n",
      "          7,   7,  87,  48,  62,  62,  62,  62,  62,  62,  65,  65,  65,  65,\n",
      "         65,  65,  65,  65,  65,  65,  65, 141, 141, 141, 141, 141, 141, 141,\n",
      "        141, 141, 141, 119, 107, 107, 107, 107, 107, 107, 107, 107],\n",
      "       device='cuda:1') torch.Size([152])\n",
      "09/22/2023, 02:21:43# predicted of Validation: tensor([ 15,  15,  15,  73,  73,  73, 155,  65,  65, 155, 155, 155,  96,  96,\n",
      "         96,  96,  96,  96,  84,  84,  84,  84,  84,  84,  84,  84,  84, 148,\n",
      "        148, 148, 148, 148, 148, 148,  81,  85,  85,  85,  85,  85,  85,  85,\n",
      "         85,  85,  85,  85, 114,   7,   7,   7,   7,   7,   7,   7,   7,   7,\n",
      "          7,   7,   7,   7,   7,   7,   7,   7,   7,   7,   7,   7,   7,   7,\n",
      "          7,   7,   7,   7,   7,   7,   7,   7,   7,   7,   7,   7,   7,   7,\n",
      "          7,   7,   7,   7,   7,   7,   7,   7,   7,   7,   7,   7,   7,   7,\n",
      "          7,   7,   7,   7,   7,   7,   7,   7,   7,   7,   7,   7,   7,   7,\n",
      "          7,   7,  72,  68,  62,  62,  62,  62,  62,  62,  65,  65,  65,  65,\n",
      "         65,  65,  65,  65,  65,  65,  65, 141, 141, 141, 141, 141, 141, 141,\n",
      "        141, 141, 141,  68, 107, 107, 107, 107, 107, 107, 107, 107],\n",
      "       device='cuda:1') torch.Size([152])\n",
      "09/22/2023, 02:21:43# labels of 0: tensor([ 15,  15,  15,  73,  73,  73, 155,  65,  65, 155, 155, 155,  96,  96,\n",
      "         96,  96,  96,  96,  84,  84,  84,  84,  84,  84,  84,  84,  84, 148,\n",
      "        148, 148, 148, 148, 148, 148,  14,  85,  85,  85,  85,  85,  85,  85,\n",
      "         85,  85,  85,  85,  47,   7,   7,   7,   7,   7,   7,   7,   7,   7,\n",
      "          7,   7,   7,   7,   7,   7,   7,   7,   7,   7,   7,   7,   7,   7,\n",
      "          7,   7,   7,   7,   7,   7,   7,   7,   7,   7,   7,   7,   7,   7,\n",
      "          7,   7,   7,   7,   7,   7,   7,   7,   7,   7,   7,   7,   7,   7,\n",
      "          7,   7,   7,   7,   7,   7,   7,   7,   7,   7,   7,   7,   7,   7,\n",
      "          7,   7,  87,  48,  62,  62,  62,  62,  62,  62,  65,  65,  65,  65,\n",
      "         65,  65,  65,  65,  65,  65,  65, 141, 141, 141, 141, 141, 141, 141,\n",
      "        141, 141, 141, 119, 107, 107, 107, 107, 107, 107, 107, 107],\n",
      "       device='cuda:1') torch.Size([152])\n",
      "09/22/2023, 02:21:43# predicted of 0: tensor([ 15,  15,  15,  73,  73,  73, 155,  65,  65, 155, 155, 155,  96,  96,\n",
      "         96,  96,  96,  96,  84,  84,  84,  84,  84,  84,  84,  84,  84, 148,\n",
      "        148, 148, 148, 148, 148, 148,  81,  85,  85,  85,  85,  85,  85,  85,\n",
      "         85,  85,  85,  85, 114,   7,   7,   7,   7,   7,   7,   7,   7,   7,\n",
      "          7,   7,   7,   7,   7,   7,   7,   7,   7,   7,   7,   7,   7,   7,\n",
      "          7,   7,   7,   7,   7,   7,   7,   7,   7,   7,   7,   7,   7,   7,\n",
      "          7,   7,   7,   7,   7,   7,   7,   7,   7,   7,   7,   7,   7,   7,\n",
      "          7,   7,   7,   7,   7,   7,   7,   7,   7,   7,   7,   7,   7,   7,\n",
      "          7,   7,  72,  68,  62,  62,  62,  62,  62,  62,  65,  65,  65,  65,\n",
      "         65,  65,  65,  65,  65,  65,  65, 141, 141, 141, 141, 141, 141, 141,\n",
      "        141, 141, 141,  68, 107, 107, 107, 107, 107, 107, 107, 107],\n",
      "       device='cuda:1') torch.Size([152])\n",
      "09/22/2023, 02:21:56# labels of Validation: tensor([ 63,  63,  63,  63, 166, 166, 166, 166, 166, 166, 126, 126, 126, 134,\n",
      "        134, 134, 134, 134, 134, 134, 134, 134, 134, 134, 134, 134, 134, 134,\n",
      "        134, 134, 134, 134, 134, 134, 134, 134, 134, 134, 134, 134, 134, 134,\n",
      "        134, 134, 134, 134, 134, 134, 134, 134, 134, 134, 134, 134, 134, 134,\n",
      "        134,  65,  65, 134, 134, 134, 134, 134, 134, 134, 134, 134, 134, 134,\n",
      "        134, 134, 134, 134, 134, 134, 134,  69,  69,  69,  69,  69,  69,  40,\n",
      "         40,  40,  40,  40,  40,  57,  72,  72, 163, 105, 105, 105, 105, 105,\n",
      "        105, 105, 105, 105, 105, 105, 105, 105, 119, 133, 133, 133, 133, 133,\n",
      "        133, 133, 133,   8,   8,  66,  66,  66,  66,  66,  66,  66,  66,  66,\n",
      "         66,  47,   8,   8], device='cuda:1') torch.Size([130])\n",
      "09/22/2023, 02:21:56# predicted of Validation: tensor([ 63,  63,  63,  63, 166, 166, 166, 166, 166, 166, 126, 126, 126, 134,\n",
      "        134, 134, 134, 134, 134, 134, 134, 134, 134, 134, 134, 134, 134, 134,\n",
      "        134, 134, 134, 134, 134, 134, 134, 134, 134, 134, 134, 134, 134, 134,\n",
      "        134, 134, 134, 134, 134, 134, 134, 134, 134, 134, 134, 134, 134, 134,\n",
      "        134,  65,  65, 134, 134, 134, 134, 134, 134, 134, 134, 134, 134, 134,\n",
      "        134, 134, 134, 134, 134, 134, 134,  69,  69,  69,  69,  69,  69,  40,\n",
      "         40,  40,  40,  40,  40,  89, 131,  79,  35, 105, 105, 105, 105, 105,\n",
      "        105, 105, 105, 105, 105, 105, 105, 105,  72, 133, 133, 133, 133, 133,\n",
      "        133, 133, 133, 114, 114,  66,  66,  66,  66,  66,  66,  66,  66,  66,\n",
      "         66, 146, 131, 131], device='cuda:1') torch.Size([130])\n",
      "09/22/2023, 02:21:56# Validation Loss: 0.2655 | Validation Accuracy: 0.9339\n",
      "\n",
      "09/22/2023, 02:21:56# Find a better model!!\n"
     ]
    },
    {
     "data": {
      "application/vnd.jupyter.widget-view+json": {
       "model_id": "1276ada166b241f6b1185e1dce3e8611",
       "version_major": 2,
       "version_minor": 0
      },
      "text/plain": [
       "Training:   0%|          | 0/8250 [00:00<?, ?it/s]"
      ]
     },
     "metadata": {},
     "output_type": "display_data"
    },
    {
     "name": "stdout",
     "output_type": "stream",
     "text": [
      "09/22/2023, 02:23:22# labels of 5000: tensor([ 15,  15,  15, 117, 117, 117, 159, 159, 159, 159, 159, 159, 159, 159,\n",
      "        159, 159, 143, 155,  65,  65,  65,  65,  65,  65, 155, 155, 155, 133,\n",
      "        133, 133, 133, 133, 133, 133, 133, 161, 161, 161, 161, 161, 161, 161,\n",
      "        161, 161, 161, 161, 161, 161, 161, 161, 161, 161, 161, 161, 161, 161,\n",
      "        161, 161, 161, 161, 161, 161, 161, 161, 161, 161, 161, 161, 161, 161,\n",
      "        161, 161, 161, 161, 161, 161, 161, 161, 161, 161, 161, 161, 161, 161,\n",
      "        161, 161, 161, 161, 161, 161, 161, 161, 161, 161, 161, 161, 161, 161,\n",
      "        161, 161, 161, 161, 161, 161, 161, 161, 161, 161, 161, 161, 161, 161,\n",
      "        161, 161, 161, 161, 161, 161, 161, 161, 161, 161, 161, 161, 161, 161,\n",
      "        161, 161, 161, 161, 161, 161, 161, 161, 161, 161, 161, 161, 161, 161,\n",
      "        161, 161, 161, 161, 161, 161, 161, 161, 161, 161, 161, 161, 161, 161,\n",
      "        161, 161, 161, 161, 161, 161, 161, 161, 161, 161, 161, 161, 161, 161,\n",
      "        161, 161, 161, 161, 161, 161, 161, 161, 161, 161, 161, 161, 161, 161,\n",
      "        161, 161, 161, 109,  88,  88,  65,  65,  65,  65,  65,  65,  65,  65,\n",
      "         65,  65,  65,  65,  65,  65,  65,  65,  65,  65,  65,  65,  65,  65,\n",
      "         65,  65,  65,  65,  65,  70,  70,  70,  70,  70,  70,  70,  70,  70,\n",
      "         70,  70,  70,  70,  70,  70,  70,  70,  70,  70,  70,  70,  70,  70,\n",
      "         85,  85,  85,  85,  85,  85,  85,  85,  85,  85,  85, 130, 130, 130,\n",
      "        130, 130,  96,  96,  96,  96,  96,  96,  47,   5,   5,   5,  69,  69,\n",
      "         69,  69,  69,  69], device='cuda:1') torch.Size([270])\n",
      "09/22/2023, 02:23:22# predicted of 5000: tensor([ 15,  15,  15, 117, 117, 117, 159, 159, 159, 159, 159, 159, 159, 159,\n",
      "        159, 159, 110, 155,  65,  65,  65,  65,  65,  65, 155, 155, 155, 133,\n",
      "        133, 133, 133, 133, 133, 133, 133, 161, 161, 161, 161, 161, 161, 161,\n",
      "        161, 161, 161, 161, 161, 161, 161, 161, 161, 161, 161, 161, 161, 161,\n",
      "        161, 161, 161, 161, 161, 161, 161, 161, 161, 161, 161, 161, 161, 161,\n",
      "        161, 161, 161, 161, 161, 161, 161, 161, 161, 161, 161, 161, 161, 161,\n",
      "        161, 161, 161, 161, 161, 161, 161, 161, 161, 161, 161, 161, 161, 161,\n",
      "        161, 161, 161, 161, 161, 161, 161, 161, 161, 161, 161, 161, 161, 161,\n",
      "        161, 161, 161, 161, 161, 161, 161, 161, 161, 161, 161, 161, 161, 161,\n",
      "        161, 161, 161, 161, 161, 161, 161, 161, 161, 161, 161, 161, 161, 161,\n",
      "        161, 161, 161, 161, 161, 161, 161, 161, 161, 161, 161, 161, 161, 161,\n",
      "        161, 161, 161, 161, 161, 161, 161, 161, 161, 161, 161, 161, 161, 161,\n",
      "        161, 161, 161, 161, 161, 161, 161, 161, 161, 161, 161, 161, 161, 161,\n",
      "        161, 161, 161,  96,  91, 108,  65,  65,  65,  65,  65,  65,  65,  65,\n",
      "         65,  65,  65,  65,  65,  65,  65,  65,  65,  65,  65,  65,  65,  65,\n",
      "         65,  65,  65,  65,  65,  70,  70,  70,  70,  70,  70,  70,  70,  70,\n",
      "         70,  70,  70,  70,  70,  70,  70,  70,  70,  70,  70,  70,  70,  70,\n",
      "         85,  85,  85,  85,  85,  85,  85,  85,  85,  85,  85, 130, 130, 130,\n",
      "        130, 130,  96,  96,  96,  96,  96,  96,  11,   5,   5,   5,  69,  69,\n",
      "         69,  69,  69,  69], device='cuda:1') torch.Size([270])\n",
      "09/22/2023, 02:24:12# total batches: 8250\n",
      "09/22/2023, 02:24:12# Epoch 5 | Train Loss: 0.2686 | Train Accuracy: 0.9336\n"
     ]
    },
    {
     "data": {
      "application/vnd.jupyter.widget-view+json": {
       "model_id": "575e1083aad34f828c7ec1af304568a2",
       "version_major": 2,
       "version_minor": 0
      },
      "text/plain": [
       "Validation:   0%|          | 0/1032 [00:00<?, ?it/s]"
      ]
     },
     "metadata": {},
     "output_type": "display_data"
    },
    {
     "name": "stdout",
     "output_type": "stream",
     "text": [
      "09/22/2023, 02:24:12# labels of Validation: tensor([ 91,  91,  91,  76,   5,   5,   5,   0,   0,   0,   0,   0,   0,  67,\n",
      "         67,  67,  67,  67,  96,  96,  96,  96,  96,  96, 129, 129, 129, 129,\n",
      "        129, 129, 129,  10,  10,  31,  19,  19,  19,  19,  19,  56,  56,  56,\n",
      "         56,  56,  56,  89,  89, 165, 165, 165, 165, 165, 165, 165, 165, 165,\n",
      "        165, 165, 165, 165, 165, 165, 165, 165, 165, 165, 165, 165, 165, 165,\n",
      "        165, 165, 165, 165, 165, 165, 165, 165, 165, 165, 165, 165, 165, 165,\n",
      "        165, 165, 165, 165, 165, 165, 165, 165, 165, 165, 165, 165, 165, 165,\n",
      "        165, 165, 165, 165, 165, 165, 165, 165, 165, 165, 165, 165, 165, 165,\n",
      "        165, 165, 165, 165, 165, 165, 165, 165, 165, 165, 165, 165, 165, 165,\n",
      "        165, 165, 165, 162, 105, 105, 105, 105, 105, 105, 105, 105, 105, 105,\n",
      "        105, 105, 105,  65,  46,  46], device='cuda:1') torch.Size([146])\n",
      "09/22/2023, 02:24:12# predicted of Validation: tensor([131, 131, 131,  14,   5,   5,   5,   0,   0,   0,   0,   0,   0,  78,\n",
      "         78,  78,  78,  78,  96,  96,  96,  96,  96,  96, 129, 129, 129, 129,\n",
      "        129, 129, 129,  10,  10, 144,  19,  19,  19,  19,  19,  56,  56,  56,\n",
      "         56,  56,  56,  89,  89, 165, 165, 165, 165, 165, 165, 165, 165, 165,\n",
      "        165, 165, 165, 165, 165, 165, 165, 165, 165, 165, 165, 165, 165, 165,\n",
      "        165, 165, 165, 165, 165, 165, 165, 165, 165, 165, 165, 165, 165, 165,\n",
      "        165, 165, 165, 165, 165, 165, 165, 165, 165, 165, 165, 165, 165, 165,\n",
      "        165, 165, 165, 165, 165, 165, 165, 165, 165, 165, 165, 165, 165, 165,\n",
      "        165, 165, 165, 165, 165, 165, 165, 165, 165, 165, 165, 165, 165, 165,\n",
      "        165, 165, 165,  87, 105, 105, 105, 105, 105, 105, 105, 105, 105, 105,\n",
      "        105, 105, 105,  65,  46,  46], device='cuda:1') torch.Size([146])\n",
      "09/22/2023, 02:24:12# labels of 0: tensor([ 91,  91,  91,  76,   5,   5,   5,   0,   0,   0,   0,   0,   0,  67,\n",
      "         67,  67,  67,  67,  96,  96,  96,  96,  96,  96, 129, 129, 129, 129,\n",
      "        129, 129, 129,  10,  10,  31,  19,  19,  19,  19,  19,  56,  56,  56,\n",
      "         56,  56,  56,  89,  89, 165, 165, 165, 165, 165, 165, 165, 165, 165,\n",
      "        165, 165, 165, 165, 165, 165, 165, 165, 165, 165, 165, 165, 165, 165,\n",
      "        165, 165, 165, 165, 165, 165, 165, 165, 165, 165, 165, 165, 165, 165,\n",
      "        165, 165, 165, 165, 165, 165, 165, 165, 165, 165, 165, 165, 165, 165,\n",
      "        165, 165, 165, 165, 165, 165, 165, 165, 165, 165, 165, 165, 165, 165,\n",
      "        165, 165, 165, 165, 165, 165, 165, 165, 165, 165, 165, 165, 165, 165,\n",
      "        165, 165, 165, 162, 105, 105, 105, 105, 105, 105, 105, 105, 105, 105,\n",
      "        105, 105, 105,  65,  46,  46], device='cuda:1') torch.Size([146])\n",
      "09/22/2023, 02:24:12# predicted of 0: tensor([131, 131, 131,  14,   5,   5,   5,   0,   0,   0,   0,   0,   0,  78,\n",
      "         78,  78,  78,  78,  96,  96,  96,  96,  96,  96, 129, 129, 129, 129,\n",
      "        129, 129, 129,  10,  10, 144,  19,  19,  19,  19,  19,  56,  56,  56,\n",
      "         56,  56,  56,  89,  89, 165, 165, 165, 165, 165, 165, 165, 165, 165,\n",
      "        165, 165, 165, 165, 165, 165, 165, 165, 165, 165, 165, 165, 165, 165,\n",
      "        165, 165, 165, 165, 165, 165, 165, 165, 165, 165, 165, 165, 165, 165,\n",
      "        165, 165, 165, 165, 165, 165, 165, 165, 165, 165, 165, 165, 165, 165,\n",
      "        165, 165, 165, 165, 165, 165, 165, 165, 165, 165, 165, 165, 165, 165,\n",
      "        165, 165, 165, 165, 165, 165, 165, 165, 165, 165, 165, 165, 165, 165,\n",
      "        165, 165, 165,  87, 105, 105, 105, 105, 105, 105, 105, 105, 105, 105,\n",
      "        105, 105, 105,  65,  46,  46], device='cuda:1') torch.Size([146])\n",
      "09/22/2023, 02:24:25# labels of Validation: tensor([114, 114,  57,  36,  54, 127, 127, 127, 127, 127, 127, 127, 127, 127,\n",
      "        127, 127, 127, 127, 127, 127, 127, 127, 127, 127, 127,  39,  39,  39,\n",
      "         76,  75, 154, 154, 154, 154, 154, 154, 154, 154, 154, 154, 154, 154,\n",
      "        154, 154, 154, 154, 154, 154, 154, 154, 154, 154, 154, 154, 154, 154,\n",
      "        154, 154, 154, 154, 154, 154, 154, 154, 154, 154, 154, 154, 154, 154,\n",
      "        154, 154,  65,  65,  65,  65,  65,  65,  65,  65,  65,  65,  65,  65,\n",
      "         65,  65,  65,  65,  65,  65,  65,  65,  65, 154, 154, 154, 154, 154,\n",
      "        154, 154, 154, 154, 154, 154, 154, 154, 154, 154,  72,  72,  72,  72,\n",
      "        103, 103,   7,   7,   7,   7,   7,   7,   7,   7,   7,   7,   7,   7,\n",
      "          7,   7,   7,   7,   7,   7,   7,   7,   7,   7,   7,   7,   7,   7,\n",
      "          7,   7,   7,   7,   7,   7,   7,   7,   7,   7,   7,   7,   7,   7,\n",
      "          7,   7,   7,   7,   7,   7,   7,   7,   7,   7,   7,   7,   7,   7,\n",
      "          7,   7,   7,   7,   7,   7,   7,   7,   7,   7,   7,   7,   7,  96,\n",
      "         96,  96,  96,  96,  96, 120, 120, 120, 120, 120, 120,  65, 102, 102],\n",
      "       device='cuda:1') torch.Size([196])\n",
      "09/22/2023, 02:24:25# predicted of Validation: tensor([ 59,  59,  64,  42,  64, 127, 127, 127, 127, 127, 127, 127, 127, 127,\n",
      "        127, 127, 127, 127, 127, 127, 127, 127, 127, 127, 127,  39,  39,  39,\n",
      "         35,  75, 154, 154, 154, 154, 154, 154, 154, 154, 154, 154, 154, 154,\n",
      "        154, 154, 154, 154, 154, 154, 154, 154, 154, 154, 154, 154, 154, 154,\n",
      "        154, 154, 154, 154, 154, 154, 154, 154, 154, 154, 154, 154, 154, 154,\n",
      "        154, 154,  65,  65,  65,  65,  65,  65,  65,  65,  65,  65,  65,  65,\n",
      "         65,  65,  65,  65,  65,  65,  65,  65,  65, 154, 154, 154, 154, 154,\n",
      "        154, 154, 154, 154, 154, 154, 154, 154, 154, 154,  72,  72,  15,  72,\n",
      "         64,  78,   7,   7,   7,   7,   7,   7,   7,   7,   7,   7,   7,   7,\n",
      "          7,   7,   7,   7,   7,   7,   7,   7,   7,   7,   7,   7,   7,   7,\n",
      "          7,   7,   7,   7,   7,   7,   7,   7,   7,   7,   7,   7,   7,   7,\n",
      "          7,   7,   7,   7,   7,   7,   7,   7,   7,   7,   7,   7,   7,   7,\n",
      "          7,   7,   7,   7,   7,   7,   7,   7,   7,   7,   7,   7,   7,  96,\n",
      "         96,  96,  96,  96,  96, 120, 120, 120, 120, 120, 120,  65, 102, 102],\n",
      "       device='cuda:1') torch.Size([196])\n",
      "09/22/2023, 02:24:26# Validation Loss: 0.2559 | Validation Accuracy: 0.9351\n",
      "\n",
      "09/22/2023, 02:24:26# Find a better model!!\n"
     ]
    },
    {
     "data": {
      "application/vnd.jupyter.widget-view+json": {
       "model_id": "8372425e53d54dfab46d0ca08e0cc2d4",
       "version_major": 2,
       "version_minor": 0
      },
      "text/plain": [
       "Training:   0%|          | 0/8250 [00:00<?, ?it/s]"
      ]
     },
     "metadata": {},
     "output_type": "display_data"
    },
    {
     "name": "stdout",
     "output_type": "stream",
     "text": [
      "09/22/2023, 02:25:51# labels of 5000: tensor([34, 52, 52,  ...,  5,  5,  5], device='cuda:1') torch.Size([1440])\n",
      "09/22/2023, 02:25:51# predicted of 5000: tensor([42, 52, 52,  ...,  5,  5,  5], device='cuda:1') torch.Size([1440])\n",
      "09/22/2023, 02:26:41# total batches: 8250\n",
      "09/22/2023, 02:26:41# Epoch 6 | Train Loss: 0.2603 | Train Accuracy: 0.9350\n"
     ]
    },
    {
     "data": {
      "application/vnd.jupyter.widget-view+json": {
       "model_id": "6606e26cd1e545c9b3b81d77daa53b4f",
       "version_major": 2,
       "version_minor": 0
      },
      "text/plain": [
       "Validation:   0%|          | 0/1032 [00:00<?, ?it/s]"
      ]
     },
     "metadata": {},
     "output_type": "display_data"
    },
    {
     "name": "stdout",
     "output_type": "stream",
     "text": [
      "09/22/2023, 02:26:41# labels of Validation: tensor([ 63,  63,  63,  63,  44, 160, 160, 160, 160, 160, 160, 160, 160,  16,\n",
      "         16,  16,  16,  16,  16,  16,  16,  16,  16,  16,  16,  16,  16,  16,\n",
      "         16,  16,  16,  16,  16, 120, 120, 120, 120, 120, 120, 100, 100, 100,\n",
      "        100, 100, 100, 153, 153, 153,  37,  37,  37,  37,  37,  54, 113, 113,\n",
      "        115, 115, 115, 115, 115, 115, 115, 115, 115, 115, 125, 146, 146, 146,\n",
      "        146, 146, 146,  83, 152,  31], device='cuda:1') torch.Size([76])\n",
      "09/22/2023, 02:26:41# predicted of Validation: tensor([ 63,  63,  63,  63,  93, 160, 160, 160, 160, 160, 160, 160, 160,  16,\n",
      "         16,  16,  16,  16,  16,  16,  16,  16,  16,  16,  16,  16,  16,  16,\n",
      "         16,  16,  16,  16,  16, 120, 120, 120, 120, 120, 120, 100, 100, 100,\n",
      "        100, 100, 100, 153, 153, 153,  37,  37,  37,  37,  37,   9,  59,  93,\n",
      "        115, 115, 115, 115, 115, 115, 115, 115, 115, 115,  59, 146, 146, 146,\n",
      "        146, 146, 146,  93,   4,  74], device='cuda:1') torch.Size([76])\n",
      "09/22/2023, 02:26:41# labels of 0: tensor([ 63,  63,  63,  63,  44, 160, 160, 160, 160, 160, 160, 160, 160,  16,\n",
      "         16,  16,  16,  16,  16,  16,  16,  16,  16,  16,  16,  16,  16,  16,\n",
      "         16,  16,  16,  16,  16, 120, 120, 120, 120, 120, 120, 100, 100, 100,\n",
      "        100, 100, 100, 153, 153, 153,  37,  37,  37,  37,  37,  54, 113, 113,\n",
      "        115, 115, 115, 115, 115, 115, 115, 115, 115, 115, 125, 146, 146, 146,\n",
      "        146, 146, 146,  83, 152,  31], device='cuda:1') torch.Size([76])\n",
      "09/22/2023, 02:26:41# predicted of 0: tensor([ 63,  63,  63,  63,  93, 160, 160, 160, 160, 160, 160, 160, 160,  16,\n",
      "         16,  16,  16,  16,  16,  16,  16,  16,  16,  16,  16,  16,  16,  16,\n",
      "         16,  16,  16,  16,  16, 120, 120, 120, 120, 120, 120, 100, 100, 100,\n",
      "        100, 100, 100, 153, 153, 153,  37,  37,  37,  37,  37,   9,  59,  93,\n",
      "        115, 115, 115, 115, 115, 115, 115, 115, 115, 115,  59, 146, 146, 146,\n",
      "        146, 146, 146,  93,   4,  74], device='cuda:1') torch.Size([76])\n",
      "09/22/2023, 02:26:55# labels of Validation: tensor([122, 122, 122, 122, 122, 122, 122,   7,   7,   7,   7,   7,   7,   7,\n",
      "          7,   7,   7,   7,   7,   7,   7,   7,   7,   7,   7,   7,   7,   7,\n",
      "          7,   7,   7,   7,   7,   7,   7,   7,   7,   7,   7,   7,   7,   7,\n",
      "          7,   7,   7,   7,   7,   7,   7,   7,   7,   7,   7,   7,   7,   7,\n",
      "          7,   7,   7,   7,   7,   7,   7,   7,   7,   7,   7,   7,   7,   7,\n",
      "          7,   7,   7,   7,  63,  63,  63,  63, 145, 145, 145, 145, 145, 145,\n",
      "         72,  72, 108, 108, 108, 108, 118, 118, 118, 118, 118, 118, 118, 118,\n",
      "        118, 118, 118, 118, 118, 118, 118, 118, 118, 118, 118, 118, 118, 160,\n",
      "        160, 160, 160, 160, 160, 160, 160,  28,  28,  28,  28,  28,  65,  28,\n",
      "         28,  28,  28,  28,  28,  28, 121, 134, 134, 134, 134, 134, 134, 134,\n",
      "        134, 134, 134, 134, 134, 134, 134, 134, 134, 134, 134, 134, 134, 134,\n",
      "        134, 134, 134, 134, 134, 134, 134, 134, 134, 134, 134, 134, 134, 134,\n",
      "        134, 134, 134, 134, 134, 134, 134, 134, 134,  65,  65, 134, 134, 134,\n",
      "        134, 134, 134, 134, 134, 134, 134, 134, 134, 134, 134, 134, 134, 134,\n",
      "        134,  41,  41,  41,  41,  41,  38,  40,  40,  40,  40,  40,  40, 158,\n",
      "        140, 140, 140, 140, 140, 140, 140, 140, 140, 140, 140, 140, 140],\n",
      "       device='cuda:1') torch.Size([223])\n",
      "09/22/2023, 02:26:55# predicted of Validation: tensor([122, 122, 122, 122, 122, 122, 122,   7,   7,   7,   7,   7,   7,   7,\n",
      "          7,   7,   7,   7,   7,   7,   7,   7,   7,   7,   7,   7,   7,   7,\n",
      "          7,   7,   7,   7,   7,   7,   7,   7,   7,   7,   7,   7,   7,   7,\n",
      "          7,   7,   7,   7,   7,   7,   7,   7,   7,   7,   7,   7,   7,   7,\n",
      "          7,   7,   7,   7,   7,   7,   7,   7,   7,   7,   7,   7,   7,   7,\n",
      "          7,   7,   7,   7,  63,  63,  63,  63, 145, 145, 145, 145, 145, 145,\n",
      "         93,  72, 108, 108, 108, 108, 118, 118, 118, 118, 118, 118, 118, 118,\n",
      "        118, 118, 118, 118, 118, 118, 118, 118, 118, 118, 118, 118, 118, 160,\n",
      "        160, 160, 160, 160, 160, 160, 160,  28,  28,  28,  28,  28,  65,  28,\n",
      "         28,  28,  28,  28,  28,  28,  72, 134, 134, 134, 134, 134, 134, 134,\n",
      "        134, 134, 134, 134, 134, 134, 134, 134, 134, 134, 134, 134, 134, 134,\n",
      "        134, 134, 134, 134, 134, 134, 134, 134, 134, 134, 134, 134, 134, 134,\n",
      "        134, 134, 134, 134, 134, 134, 134, 134, 134,  65,  65, 134, 134, 134,\n",
      "        134, 134, 134, 134, 134, 134, 134, 134, 134, 134, 134, 134, 134, 134,\n",
      "        134,  41,  41,  41,  41,  41,  93,  40,  40,  40,  40,  40,  40,   1,\n",
      "        140, 140, 140, 140, 140, 140, 140, 140, 140, 140, 140, 140, 140],\n",
      "       device='cuda:1') torch.Size([223])\n",
      "09/22/2023, 02:26:56# Validation Loss: 0.2563 | Validation Accuracy: 0.9354\n",
      "\n"
     ]
    },
    {
     "data": {
      "application/vnd.jupyter.widget-view+json": {
       "model_id": "a990ce4c509841599b1f0d40078939da",
       "version_major": 2,
       "version_minor": 0
      },
      "text/plain": [
       "Training:   0%|          | 0/8250 [00:00<?, ?it/s]"
      ]
     },
     "metadata": {},
     "output_type": "display_data"
    }
   ],
   "source": [
    "import csv\n",
    "import pandas as pd\n",
    "from sklearn.metrics import classification_report\n",
    "from torch.optim import AdamW, lr_scheduler\n",
    "\n",
    "seed = 8787\n",
    "same_seeds(seed)\n",
    "\n",
    "# model = GraphSAGE(in_dim=50, hidden_dim=16, out_dim=167)\n",
    "model = Model(in_features=150, hidden_features=64, out_features=128, num_classes=167)\n",
    "# in_dim means the dimension of the node_feat(50 dim, since the 50-dim embedding)\n",
    "# out_dim means the # of the categories -> 168 for out tasks\n",
    "# model.load_state_dict(torch.load('model3_initial(graphsage)/initial_weight.pth'))\n",
    "best_model_path = \"../checkpoint_graphSAGE/best_model_GraphSAGE_transH_150.pt\"\n",
    "\n",
    "model = model.to(device)\n",
    "\n",
    "# optimizer = torch.optim.AdamW(model.parameters(), lr=1e-5)\n",
    "optimizer = AdamW(model.parameters(), lr=5e-4)\n",
    "# scheduler = get_linear_schedule_with_warmup(optimizer, num_warmup_steps=18, num_training_steps=total_steps)\n",
    "\n",
    "# T_max control the period of the lr changing -> set 1/10 first\n",
    "scheduler = lr_scheduler.CosineAnnealingLR(optimizer, T_max=36, eta_min=0, last_epoch=- 1, verbose=False)\n",
    "\n",
    "criterion = nn.CrossEntropyLoss()\n",
    "# criterion = torch.nn.BCEWithLogitsLoss()\n",
    "\n",
    "total_steps = 20\n",
    "\n",
    "# save the best model\n",
    "best_val_loss = float('inf')\n",
    "patience = 4  # Number of epochs with no improvement after which training will be stopped.\n",
    "waiting = 0  # The number of epochs with no improvement so far.\n",
    "\n",
    "\n",
    "# Training Part\n",
    "for epoch in tqdm(range(total_steps)):\n",
    "    # Train\n",
    "    model.train()\n",
    "    total_loss = 0.0\n",
    "    total_accuracy = 0.0\n",
    "    num_batches = 0\n",
    "    \n",
    "    for batched_g in tqdm(dataloaders['train'], desc=\"Training\", position=0, leave=True):\n",
    "        num_batches += 1\n",
    "        loss, accuracy, _ = model_fn(batched_g, model, criterion, device, num_batches, which_type='train')\n",
    "        \n",
    "        optimizer.zero_grad()\n",
    "        loss.backward()\n",
    "        optimizer.step()\n",
    "\n",
    "        total_loss += loss.item()\n",
    "        total_accuracy += accuracy.item()\n",
    "\n",
    "        \n",
    "#     scheduler.step()\n",
    "    add_log_msg(f\"total batches: {num_batches}\")\n",
    "\n",
    "    avg_loss = total_loss / num_batches\n",
    "    avg_accuracy = total_accuracy / num_batches\n",
    "\n",
    "    add_log_msg(f'Epoch {epoch} | Train Loss: {avg_loss:.4f} | Train Accuracy: {avg_accuracy:.4f}')\n",
    "\n",
    "    \n",
    "    # Validation Part\n",
    "    model.eval()\n",
    "    total_accuracy = 0.0\n",
    "    total_loss = 0.0\n",
    "    num_batches = 0\n",
    "\n",
    "\n",
    "    with torch.no_grad():\n",
    "        for batched_g in tqdm(dataloaders['valid'], desc=\"Validation\", position=0, leave=True):\n",
    "            loss, accuracy, _ = model_fn(batched_g, model, criterion, device, num_batches, which_type='validation')\n",
    "            total_accuracy += accuracy.item()\n",
    "            total_loss += loss.item()\n",
    "            num_batches += 1\n",
    "\n",
    "    avg_accuracy = total_accuracy / num_batches\n",
    "    current_loss = total_loss / num_batches\n",
    "    \n",
    "    add_log_msg(f'Validation Loss: {current_loss:.4f} | Validation Accuracy: {avg_accuracy:.4f}\\n')\n",
    "    \n",
    "            \n",
    "    if current_loss < best_val_loss:\n",
    "        best_val_loss = current_loss\n",
    "        waiting = 0\n",
    "        \n",
    "        if os.path.exists(best_model_path):\n",
    "            os.remove(best_model_path)\n",
    "            add_log_msg(\"Find a better model!!\")\n",
    "\n",
    "        torch.save(model.state_dict(), best_model_path)\n",
    "\n",
    "#         print(best_model_path)\n",
    "\n",
    "    else:\n",
    "        waiting += 1\n",
    "        if waiting >= patience:\n",
    "            add_log_msg(\"============================== Early stopping ==================================\")\n",
    "            break"
   ]
  },
  {
   "cell_type": "markdown",
   "metadata": {},
   "source": [
    "### test of valid and test part is ``graph``"
   ]
  },
  {
   "cell_type": "markdown",
   "metadata": {},
   "source": [
    "- 60 APs in training x 10000times\n",
    "- 5 APs in validation x 4 times\n",
    "- 3 APs in test x 4 times\n",
    "- Batch size = 4"
   ]
  },
  {
   "cell_type": "code",
   "execution_count": null,
   "metadata": {
    "scrolled": false
   },
   "outputs": [],
   "source": [
    "# load the pretrained model\n",
    "pretrained_model_path = '../checkpoint_graphSAGE/best_model_GraphSAGE_transH_150.pt'\n",
    "model.load_state_dict(torch.load(pretrained_model_path))\n",
    "\n",
    "model.to(device)\n",
    "model.eval()\n",
    "\n",
    "total = 0\n",
    "correct = 0\n",
    "count = 0\n",
    "\n",
    "true_labels = []\n",
    "predicted_labels = []\n",
    "\n",
    "with torch.no_grad():\n",
    "    for batched_g in tqdm(dataloaders['test'], desc=\"Testing\", position=0, leave=True):\n",
    "#         print(f\"data:{data[1]}\")\n",
    "        loss, accuracy, predicted = model_fn(batched_g, model, criterion, device, count, which_type='test')\n",
    "        labels = batched_g.edata['label'].to(device)\n",
    "        \n",
    "        true_labels.extend(labels.cpu().numpy())\n",
    "        predicted_labels.extend(predicted.cpu().numpy())\n",
    "        \n",
    "        if count % 5000 == 0:\n",
    "            add_log_msg(f\"labels: {labels} {labels.shape}\")\n",
    "            add_log_msg(f\"predicted: {predicted} {predicted.shape}\")\n",
    "            \n",
    "        count += 1\n",
    "        \n",
    "        total += labels.size(0)\n",
    "        correct += (predicted == labels).sum().item()\n",
    "\n",
    "add_log_msg(f'Test Accuracy: {100 * correct / total} %\\n\\n\\n')\n",
    "\n",
    "\n",
    "# ======================================== handlig the output excel files ========================================\n",
    "mapping_file = './new_mapping.txt'\n",
    "label_mapping = {}\n",
    "with open(mapping_file, 'r') as f:\n",
    "    for line in f:\n",
    "        parts = line.strip().split(': ')\n",
    "        label_mapping[int(parts[1])] = parts[0]\n",
    "        \n",
    "# 将映射后的标签应用到true和predicted标签列表\n",
    "mapped_true_labels = [label_mapping[label] for label in true_labels]\n",
    "mapped_predicted_labels = [label_mapping[label] for label in predicted_labels]\n",
    "\n",
    "# 生成Scikit-learn报告信息的DataFrame\n",
    "report_data = classification_report(mapped_true_labels, mapped_predicted_labels, output_dict=True)\n",
    "report_df = pd.DataFrame(report_data).transpose()\n",
    "\n",
    "# mapped_true_labels_np = np.array(mapped_true_labels)\n",
    "# mapped_predicted_labels_np = np.array(mapped_predicted_labels)\n",
    "\n",
    "# print(\"mapped_true_labels 的形状:\", mapped_true_labels_np.shape)\n",
    "# print(\"mapped_predicted_labels 的形状:\", mapped_predicted_labels_np.shape)\n",
    "\n",
    "report_folder = 'classification_report'\n",
    "os.makedirs(report_folder, exist_ok=True)\n",
    "\n",
    "count = 0\n",
    "while True:\n",
    "    report_filename = f'classification_report-transH_150-graphSAGE-{count}.xlsx'\n",
    "    labels_filename = f'mapped_true_predicted_labels-transH_150-graphSAGE-{count}.xlsx'\n",
    "    \n",
    "    report_path = os.path.join(report_folder, report_filename)\n",
    "    labels_path = os.path.join(report_folder, labels_filename)\n",
    "    \n",
    "    if not os.path.exists(report_path) and not os.path.exists(labels_path):\n",
    "        break\n",
    "    count += 1\n",
    "\n",
    "    \n",
    "report_df.to_excel(report_path, index_label='Label')\n",
    "\n",
    "mapped_labels_df = pd.DataFrame({'true_label': mapped_true_labels, 'predicted_label': mapped_predicted_labels})\n",
    "mapped_labels_df.to_excel(labels_path, index=False)\n",
    "\n",
    "add_log_msg(f\"report path: {report_path}\")\n",
    "add_log_msg(f\"label path: {labels_path}\")\n",
    "\n",
    "mapped_report = classification_report(mapped_true_labels, mapped_predicted_labels)\n",
    "add_log_msg(f\"mapped_report:\\n{mapped_report}\")"
   ]
  },
  {
   "cell_type": "code",
   "execution_count": null,
   "metadata": {},
   "outputs": [],
   "source": []
  },
  {
   "cell_type": "code",
   "execution_count": null,
   "metadata": {},
   "outputs": [],
   "source": []
  }
 ],
 "metadata": {
  "kernelspec": {
   "display_name": "Python 3",
   "language": "python",
   "name": "python3"
  },
  "language_info": {
   "codemirror_mode": {
    "name": "ipython",
    "version": 3
   },
   "file_extension": ".py",
   "mimetype": "text/x-python",
   "name": "python",
   "nbconvert_exporter": "python",
   "pygments_lexer": "ipython3",
   "version": "3.6.9"
  }
 },
 "nbformat": 4,
 "nbformat_minor": 2
}
