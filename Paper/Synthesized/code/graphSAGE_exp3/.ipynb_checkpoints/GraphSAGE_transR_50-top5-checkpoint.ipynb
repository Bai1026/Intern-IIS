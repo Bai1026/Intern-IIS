{
 "cells": [
  {
   "cell_type": "markdown",
   "metadata": {},
   "source": [
    "# Test of GraphSAGE\n",
    "- use DGL\n",
    "- predict `graphs`\n",
    "- valid, test data are in the training dataset"
   ]
  },
  {
   "cell_type": "code",
   "execution_count": 1,
   "metadata": {},
   "outputs": [],
   "source": [
    "import os\n",
    "import dgl\n",
    "import json\n",
    "import torch\n",
    "import torch as th\n",
    "import dgl.nn as dglnn\n",
    "# from tqdm import tqdm\n",
    "from tqdm.notebook import tqdm  # 使用 notebook 版本的 tqdm\n",
    "import torch.nn as nn\n",
    "from dgl.nn import GraphConv, GATConv, SAGEConv\n",
    "import torch.nn.functional as F\n",
    "from torch.utils.data import Dataset, DataLoader\n",
    "from transformers import get_linear_schedule_with_warmup"
   ]
  },
  {
   "cell_type": "markdown",
   "metadata": {},
   "source": [
    "- check the GPU and assign the GPU by the best memory usage"
   ]
  },
  {
   "cell_type": "code",
   "execution_count": 2,
   "metadata": {},
   "outputs": [
    {
     "name": "stdout",
     "output_type": "stream",
     "text": [
      "cuda:1\n"
     ]
    }
   ],
   "source": [
    "import subprocess\n",
    "import torch\n",
    "\n",
    "def get_free_gpu():\n",
    "    try:\n",
    "        # Run nvidia-smi command to get GPU details\n",
    "        _output_to_list = lambda x: x.decode('ascii').split('\\n')[:-1]\n",
    "        command = \"nvidia-smi --query-gpu=memory.free --format=csv,nounits,noheader\"\n",
    "        memory_free_info = _output_to_list(subprocess.check_output(command.split())) \n",
    "        memory_free_values = [int(x) for i, x in enumerate(memory_free_info)]\n",
    "        \n",
    "        # Get the GPU with the maximum free memory\n",
    "        best_gpu_id = memory_free_values.index(max(memory_free_values))\n",
    "        return best_gpu_id\n",
    "    except:\n",
    "        # If any exception occurs, default to GPU 0 (this handles cases where nvidia-smi isn't installed)\n",
    "        return 0\n",
    "\n",
    "if torch.cuda.is_available():\n",
    "    # Get the best GPU ID based on free memory and set it\n",
    "    best_gpu_id = get_free_gpu()\n",
    "    device = torch.device(f\"cuda:{best_gpu_id}\")\n",
    "else:\n",
    "    device = torch.device(\"cpu\")\n",
    "    print(\"there's no available GPU\")\n",
    "\n",
    "# device = torch.device(f\"cuda:{1}\")\n",
    "print(device)\n"
   ]
  },
  {
   "cell_type": "markdown",
   "metadata": {},
   "source": [
    "## Fix the seed"
   ]
  },
  {
   "cell_type": "code",
   "execution_count": 3,
   "metadata": {},
   "outputs": [],
   "source": [
    "import numpy as np\n",
    "import torch\n",
    "import random\n",
    "\n",
    "#fix seed\n",
    "def same_seeds(seed = 8787):\n",
    "    torch.manual_seed(seed)\n",
    "    # random.seed(seed) \n",
    "    if torch.cuda.is_available():\n",
    "        torch.cuda.manual_seed(seed)\n",
    "        torch.cuda.manual_seed_all(seed)  \n",
    "    np.random.seed(seed)  \n",
    "    torch.backends.cudnn.benchmark = False\n",
    "    torch.backends.cudnn.deterministic = True"
   ]
  },
  {
   "cell_type": "markdown",
   "metadata": {},
   "source": [
    "## Data Loader"
   ]
  },
  {
   "cell_type": "code",
   "execution_count": 4,
   "metadata": {},
   "outputs": [],
   "source": [
    "class GraphDataset(Dataset):\n",
    "    def __init__(self, data_list, device):\n",
    "        self.data_list = data_list\n",
    "        self.device = device\n",
    "\n",
    "    def __len__(self):\n",
    "        return len(self.data_list)\n",
    "    \n",
    "    def __getitem__(self, idx):\n",
    "        data = self.data_list[idx]\n",
    "        return data\n",
    "\n",
    "def collate(samples):\n",
    "    data_list = samples\n",
    "    batched_graphs = []\n",
    "    for data in data_list:\n",
    "        g = dgl.graph((th.tensor(data[\"edge_index\"][0]), th.tensor(data[\"edge_index\"][1])), num_nodes=data[\"num_nodes\"])\n",
    "\n",
    "        g.ndata['feat'] = th.tensor(data[\"node_feat\"])\n",
    "        g.edata['feat'] = th.tensor(data[\"edge_attr\"])\n",
    "        g.edata['label'] = th.tensor(data[\"labels\"])  # Add edge labels to graph\n",
    "\n",
    "        batched_graphs.append(g)\n",
    "    \n",
    "    return dgl.batch(batched_graphs)"
   ]
  },
  {
   "cell_type": "code",
   "execution_count": 5,
   "metadata": {},
   "outputs": [
    {
     "data": {
      "application/vnd.jupyter.widget-view+json": {
       "model_id": "6ff0ea6323d949e6b66a190a08171d5f",
       "version_major": 2,
       "version_minor": 0
      },
      "text/plain": [
       "  0%|          | 0/3 [00:00<?, ?it/s]"
      ]
     },
     "metadata": {},
     "output_type": "display_data"
    },
    {
     "name": "stdout",
     "output_type": "stream",
     "text": [
      "../../data_processing/dgl/data_new/exp3/training_data/transR_50/train.jsonl\n"
     ]
    },
    {
     "data": {
      "application/vnd.jupyter.widget-view+json": {
       "model_id": "fad5a737000b48d6b9670e339b57f128",
       "version_major": 2,
       "version_minor": 0
      },
      "text/plain": [
       "0it [00:00, ?it/s]"
      ]
     },
     "metadata": {},
     "output_type": "display_data"
    },
    {
     "name": "stdout",
     "output_type": "stream",
     "text": [
      "../../data_processing/dgl/data_new/exp3/training_data/transR_50/valid.jsonl\n"
     ]
    },
    {
     "data": {
      "application/vnd.jupyter.widget-view+json": {
       "model_id": "6d8a0c8ede96431f940a8ca65ed07f1a",
       "version_major": 2,
       "version_minor": 0
      },
      "text/plain": [
       "0it [00:00, ?it/s]"
      ]
     },
     "metadata": {},
     "output_type": "display_data"
    },
    {
     "name": "stdout",
     "output_type": "stream",
     "text": [
      "../../data_processing/dgl/data_new/exp3/training_data/transR_50/test.jsonl\n"
     ]
    },
    {
     "data": {
      "application/vnd.jupyter.widget-view+json": {
       "model_id": "14ad732842a54ff3860a996523f19f97",
       "version_major": 2,
       "version_minor": 0
      },
      "text/plain": [
       "0it [00:00, ?it/s]"
      ]
     },
     "metadata": {},
     "output_type": "display_data"
    },
    {
     "name": "stdout",
     "output_type": "stream",
     "text": [
      "Datasets loaded!\n"
     ]
    }
   ],
   "source": [
    "datasets = ['train', 'valid', 'test']\n",
    "# datasets = ['valid']\n",
    "dataset_data = {}\n",
    "\n",
    "for dataset_name in tqdm(datasets):\n",
    "    file_path = f\"../../data_processing/dgl/data_new/exp3/training_data/transR_50/{dataset_name}.jsonl\"\n",
    "    \n",
    "    print(file_path)\n",
    "    with open(file_path) as f:\n",
    "        data_list = [json.loads(line) for line in tqdm(f, position=0, leave=True)]\n",
    "    \n",
    "    dataset_data[dataset_name] = GraphDataset(data_list, device)\n",
    "\n",
    "print(\"Datasets loaded!\")"
   ]
  },
  {
   "cell_type": "markdown",
   "metadata": {},
   "source": [
    "- choose batch size"
   ]
  },
  {
   "cell_type": "code",
   "execution_count": 6,
   "metadata": {},
   "outputs": [],
   "source": [
    "def create_dataloaders(batch_size, shuffle=True):\n",
    "    dataloaders = {}\n",
    "    for dataset_name, dataset in dataset_data.items():\n",
    "        # do not shuffle the testing dataset\n",
    "        if dataset_name == \"test\":\n",
    "            dataloaders[dataset_name] = DataLoader(dataset, batch_size=batch_size, shuffle=False, collate_fn=collate)    \n",
    "        else:\n",
    "            dataloaders[dataset_name] = DataLoader(dataset, batch_size=batch_size, shuffle=shuffle, collate_fn=collate)\n",
    "    return dataloaders\n",
    "\n",
    "dataloaders = create_dataloaders(16)"
   ]
  },
  {
   "cell_type": "markdown",
   "metadata": {},
   "source": [
    "- Turn the print message to a log file"
   ]
  },
  {
   "cell_type": "code",
   "execution_count": 7,
   "metadata": {},
   "outputs": [
    {
     "name": "stdout",
     "output_type": "stream",
     "text": [
      "../log_message/1128_15:43_GraphSAGE_transR_50.log\n"
     ]
    }
   ],
   "source": [
    "import datetime\n",
    "\n",
    "now = datetime.datetime.now()\n",
    "\n",
    "formatted_time = now.strftime(\"%m%d_%H:%M\")\n",
    "\n",
    "log_file_path = f\"../log_message/{formatted_time}_GraphSAGE_transR_50.log\"\n",
    "\n",
    "def add_log_msg(msg, log_file_path=log_file_path):\n",
    "    with open(log_file_path, 'a') as f:\n",
    "        f.write(f'{datetime.datetime.now().strftime(\"%m/%d/%Y, %H:%M:%S\")}# {msg}\\n')\n",
    "    print(f'{datetime.datetime.now().strftime(\"%m/%d/%Y, %H:%M:%S\")}# {msg}')\n",
    "\n",
    "print(log_file_path)"
   ]
  },
  {
   "cell_type": "markdown",
   "metadata": {},
   "source": [
    "### Model"
   ]
  },
  {
   "cell_type": "code",
   "execution_count": 8,
   "metadata": {},
   "outputs": [],
   "source": [
    "class GraphSAGE(nn.Module):\n",
    "    def __init__(self, in_dim, hidden_dim, out_dim):\n",
    "        super(GraphSAGE, self).__init__()\n",
    "        self.layer1 = dglnn.SAGEConv(in_dim, hidden_dim, 'pool')\n",
    "        self.layer2 = dglnn.SAGEConv(hidden_dim, out_dim, 'pool')\n",
    "        self.dropout = nn.Dropout(0.25)\n",
    "\n",
    "    def forward(self, g, inputs):\n",
    "        h = self.layer1(g, inputs)\n",
    "        h = torch.relu(h)\n",
    "        h = self.dropout(h)\n",
    "        h = self.layer2(g, h)\n",
    "        return h"
   ]
  },
  {
   "cell_type": "code",
   "execution_count": 9,
   "metadata": {},
   "outputs": [],
   "source": [
    "class MLPPredictor(nn.Module):\n",
    "    def __init__(self, out_feats, out_classes):\n",
    "        super().__init__()\n",
    "        self.W = nn.Linear(out_feats*2, out_classes)\n",
    "\n",
    "    def apply_edges(self, edges):\n",
    "        h_u = edges.src['h']\n",
    "        h_v = edges.dst['h']\n",
    "        score = self.W(torch.cat([h_u, h_v], 1))\n",
    "        return {'score': score}\n",
    "\n",
    "    def forward(self, graph, h):\n",
    "        with graph.local_scope():\n",
    "            graph.ndata['h'] = h\n",
    "            graph.apply_edges(self.apply_edges)\n",
    "            return graph.edata['score']"
   ]
  },
  {
   "cell_type": "code",
   "execution_count": 10,
   "metadata": {},
   "outputs": [],
   "source": [
    "class Model(nn.Module):\n",
    "    def __init__(self, in_features, hidden_features, out_features, num_classes):\n",
    "        super().__init__()\n",
    "        self.sage = GraphSAGE(in_features, hidden_features, out_features)\n",
    "        self.pred = MLPPredictor(out_features, num_classes)\n",
    "      \n",
    "    def forward(self, g, node_feat, return_logits=False):\n",
    "        h = self.sage(g, node_feat)\n",
    "        logits = self.pred(g, h)\n",
    "        \n",
    "        return logits"
   ]
  },
  {
   "cell_type": "markdown",
   "metadata": {},
   "source": [
    "- Model Forward  "
   ]
  },
  {
   "cell_type": "code",
   "execution_count": 11,
   "metadata": {},
   "outputs": [],
   "source": [
    "def model_fn(batched_g, model, criterion, device, count=1, which_type='train'):\n",
    "    \"\"\"Forward a batch through the model.\"\"\"\n",
    "#     batched_g, labels = data\n",
    "    batched_g = batched_g.to(device)\n",
    "    \n",
    "    labels = batched_g.edata['label'].to(device)\n",
    "    \n",
    "    logits = model(batched_g, batched_g.ndata['feat'].float())\n",
    "    loss = criterion(logits, labels)\n",
    "\n",
    "    output = torch.softmax(logits, dim=1)\n",
    "    \n",
    "    # 獲取概率最高的 前5個 類別及其概率\n",
    "    top_probs, top_classes = output.topk(5, dim=1)\n",
    "\n",
    "    # Compute accuracy 可以根據需求修改或保留\n",
    "    accuracy = torch.mean((top_classes[:, 0] == labels).float())\n",
    "\n",
    "#     return loss, accuracy, top_probs, top_classes\n",
    "    return loss, accuracy, top_classes\n",
    "\n",
    "\n",
    "#     logits = model(batched_g, batched_g.ndata['feat'].float())\n",
    "\n",
    "#     loss = criterion(logits, labels)\n",
    "\n",
    "#     output = torch.softmax(logits, dim=1)\n",
    "#     preds = output.argmax(1)\n",
    "    \n",
    "#     # Compute accuracy\n",
    "#     accuracy = torch.mean((preds == labels).float())\n",
    "    \n",
    "#     if which_type == 'validation' and count % 1000 == 0:\n",
    "#         add_log_msg(f\"labels of Validation: {labels} {labels.shape}\")\n",
    "#         add_log_msg(f\"predicted of Validation: {preds} {preds.shape}\")\n",
    "        \n",
    "#     elif which_type == 'test'  and count % 1000 == 0:\n",
    "#         add_log_msg(f\"labels of Test: {labels} {labels.shape}\")\n",
    "#         add_log_msg(f\"predicted of Test: {preds} {preds.shape}\")\n",
    "        \n",
    "#     if count % 5000 == 0: \n",
    "#         add_log_msg(f\"labels of {count}: {labels} {labels.shape}\")\n",
    "#         add_log_msg(f\"predicted of {count}: {preds} {preds.shape}\")\n",
    "        \n",
    "#     return loss, accuracy, preds"
   ]
  },
  {
   "cell_type": "markdown",
   "metadata": {},
   "source": [
    "### Training"
   ]
  },
  {
   "cell_type": "markdown",
   "metadata": {},
   "source": [
    "- Fix the seed and save the model.state_dict that contains the initial weight"
   ]
  },
  {
   "cell_type": "code",
   "execution_count": 12,
   "metadata": {},
   "outputs": [],
   "source": [
    "seed = 8787\n",
    "same_seeds(seed)\n",
    "\n",
    "model = Model(in_features=50, hidden_features=64, out_features=128, num_classes=167)\n",
    "torch.save(model.state_dict(), 'model3_initial(graphsage)/initial_weight.pth')"
   ]
  },
  {
   "cell_type": "code",
   "execution_count": 13,
   "metadata": {},
   "outputs": [
    {
     "data": {
      "text/plain": [
       "Parameter containing:\n",
       "tensor([[-0.0682,  0.0153, -0.1769,  ...,  0.0375,  0.2321, -0.2812],\n",
       "        [-0.2271,  0.2290, -0.1997,  ..., -0.0095,  0.1509,  0.2686],\n",
       "        [-0.2743,  0.0406, -0.1222,  ...,  0.1036, -0.1590, -0.2555],\n",
       "        ...,\n",
       "        [-0.0758,  0.0461,  0.1273,  ...,  0.1367,  0.0671, -0.2605],\n",
       "        [-0.2425, -0.1362,  0.2474,  ..., -0.3221, -0.0595,  0.3141],\n",
       "        [ 0.0234, -0.2783,  0.2146,  ..., -0.3020, -0.1751,  0.0528]],\n",
       "       requires_grad=True)"
      ]
     },
     "execution_count": 13,
     "metadata": {},
     "output_type": "execute_result"
    }
   ],
   "source": [
    "# model.layer1.fc_self.weight\n",
    "model.sage.layer1.fc_self.weight"
   ]
  },
  {
   "cell_type": "markdown",
   "metadata": {},
   "source": [
    "- Check if model really load the model_dict"
   ]
  },
  {
   "cell_type": "code",
   "execution_count": 14,
   "metadata": {},
   "outputs": [
    {
     "data": {
      "text/plain": [
       "Parameter containing:\n",
       "tensor([[-0.0682,  0.0153, -0.1769,  ...,  0.0375,  0.2321, -0.2812],\n",
       "        [-0.2271,  0.2290, -0.1997,  ..., -0.0095,  0.1509,  0.2686],\n",
       "        [-0.2743,  0.0406, -0.1222,  ...,  0.1036, -0.1590, -0.2555],\n",
       "        ...,\n",
       "        [-0.0758,  0.0461,  0.1273,  ...,  0.1367,  0.0671, -0.2605],\n",
       "        [-0.2425, -0.1362,  0.2474,  ..., -0.3221, -0.0595,  0.3141],\n",
       "        [ 0.0234, -0.2783,  0.2146,  ..., -0.3020, -0.1751,  0.0528]],\n",
       "       requires_grad=True)"
      ]
     },
     "execution_count": 14,
     "metadata": {},
     "output_type": "execute_result"
    }
   ],
   "source": [
    "model = Model(in_features=50, hidden_features=64, out_features=128, num_classes=167)\n",
    "model.load_state_dict(torch.load('model3_initial(graphsage)/initial_weight.pth'))\n",
    "model.sage.layer1.fc_self.weight"
   ]
  },
  {
   "cell_type": "code",
   "execution_count": null,
   "metadata": {
    "scrolled": true
   },
   "outputs": [
    {
     "data": {
      "application/vnd.jupyter.widget-view+json": {
       "model_id": "78d258bca42548e4810b41d89ea4f53d",
       "version_major": 2,
       "version_minor": 0
      },
      "text/plain": [
       "  0%|          | 0/100 [00:00<?, ?it/s]"
      ]
     },
     "metadata": {},
     "output_type": "display_data"
    },
    {
     "data": {
      "application/vnd.jupyter.widget-view+json": {
       "model_id": "42a08b2fddd047559262e9372c7b83c9",
       "version_major": 2,
       "version_minor": 0
      },
      "text/plain": [
       "Training:   0%|          | 0/8250 [00:00<?, ?it/s]"
      ]
     },
     "metadata": {},
     "output_type": "display_data"
    },
    {
     "name": "stdout",
     "output_type": "stream",
     "text": [
      "11/28/2023, 15:45:57# total batches: 8250\n",
      "11/28/2023, 15:45:57# Epoch 0 | Train Loss: 1.0734 | Train Accuracy: 0.7753\n"
     ]
    },
    {
     "data": {
      "application/vnd.jupyter.widget-view+json": {
       "model_id": "0a998b629c3a47138a045c9880982f25",
       "version_major": 2,
       "version_minor": 0
      },
      "text/plain": [
       "Validation:   0%|          | 0/1032 [00:00<?, ?it/s]"
      ]
     },
     "metadata": {},
     "output_type": "display_data"
    },
    {
     "name": "stdout",
     "output_type": "stream",
     "text": [
      "11/28/2023, 15:46:08# Validation Loss: 0.3045 | Validation Accuracy: 0.9331\n",
      "\n"
     ]
    },
    {
     "data": {
      "application/vnd.jupyter.widget-view+json": {
       "model_id": "1eb80a7df9ae43ff8614e8321794072d",
       "version_major": 2,
       "version_minor": 0
      },
      "text/plain": [
       "Training:   0%|          | 0/8250 [00:00<?, ?it/s]"
      ]
     },
     "metadata": {},
     "output_type": "display_data"
    },
    {
     "name": "stdout",
     "output_type": "stream",
     "text": [
      "11/28/2023, 15:47:54# total batches: 8250\n",
      "11/28/2023, 15:47:54# Epoch 1 | Train Loss: 0.2899 | Train Accuracy: 0.9331\n"
     ]
    },
    {
     "data": {
      "application/vnd.jupyter.widget-view+json": {
       "model_id": "b174d142794e4236bcb8676b9ef997f3",
       "version_major": 2,
       "version_minor": 0
      },
      "text/plain": [
       "Validation:   0%|          | 0/1032 [00:00<?, ?it/s]"
      ]
     },
     "metadata": {},
     "output_type": "display_data"
    },
    {
     "name": "stdout",
     "output_type": "stream",
     "text": [
      "11/28/2023, 15:48:05# Validation Loss: 0.2547 | Validation Accuracy: 0.9372\n",
      "\n",
      "11/28/2023, 15:48:05# Find a better model!!\n"
     ]
    },
    {
     "data": {
      "application/vnd.jupyter.widget-view+json": {
       "model_id": "52f04043d2494c59a845bf06cdde0393",
       "version_major": 2,
       "version_minor": 0
      },
      "text/plain": [
       "Training:   0%|          | 0/8250 [00:00<?, ?it/s]"
      ]
     },
     "metadata": {},
     "output_type": "display_data"
    },
    {
     "name": "stdout",
     "output_type": "stream",
     "text": [
      "11/28/2023, 15:49:56# total batches: 8250\n",
      "11/28/2023, 15:49:56# Epoch 2 | Train Loss: 0.2626 | Train Accuracy: 0.9353\n"
     ]
    },
    {
     "data": {
      "application/vnd.jupyter.widget-view+json": {
       "model_id": "9a6378d139524e3e896fd4c4c2be5039",
       "version_major": 2,
       "version_minor": 0
      },
      "text/plain": [
       "Validation:   0%|          | 0/1032 [00:00<?, ?it/s]"
      ]
     },
     "metadata": {},
     "output_type": "display_data"
    },
    {
     "name": "stdout",
     "output_type": "stream",
     "text": [
      "11/28/2023, 15:50:06# Validation Loss: 0.2456 | Validation Accuracy: 0.9379\n",
      "\n",
      "11/28/2023, 15:50:06# Find a better model!!\n"
     ]
    },
    {
     "data": {
      "application/vnd.jupyter.widget-view+json": {
       "model_id": "0e2d55c46fd44f9a8bb890ca735532b6",
       "version_major": 2,
       "version_minor": 0
      },
      "text/plain": [
       "Training:   0%|          | 0/8250 [00:00<?, ?it/s]"
      ]
     },
     "metadata": {},
     "output_type": "display_data"
    },
    {
     "name": "stdout",
     "output_type": "stream",
     "text": [
      "11/28/2023, 15:51:55# total batches: 8250\n",
      "11/28/2023, 15:51:55# Epoch 3 | Train Loss: 0.2516 | Train Accuracy: 0.9369\n"
     ]
    },
    {
     "data": {
      "application/vnd.jupyter.widget-view+json": {
       "model_id": "663ff8cee70a43ce9a97e6950542deed",
       "version_major": 2,
       "version_minor": 0
      },
      "text/plain": [
       "Validation:   0%|          | 0/1032 [00:00<?, ?it/s]"
      ]
     },
     "metadata": {},
     "output_type": "display_data"
    },
    {
     "name": "stdout",
     "output_type": "stream",
     "text": [
      "11/28/2023, 15:52:04# Validation Loss: 0.2486 | Validation Accuracy: 0.9368\n",
      "\n"
     ]
    },
    {
     "data": {
      "application/vnd.jupyter.widget-view+json": {
       "model_id": "28256a12435f4a8abae72b30d27d919b",
       "version_major": 2,
       "version_minor": 0
      },
      "text/plain": [
       "Training:   0%|          | 0/8250 [00:00<?, ?it/s]"
      ]
     },
     "metadata": {},
     "output_type": "display_data"
    },
    {
     "name": "stdout",
     "output_type": "stream",
     "text": [
      "11/28/2023, 15:53:47# total batches: 8250\n",
      "11/28/2023, 15:53:47# Epoch 4 | Train Loss: 0.2481 | Train Accuracy: 0.9374\n"
     ]
    },
    {
     "data": {
      "application/vnd.jupyter.widget-view+json": {
       "model_id": "54d98789603248ebb3ed4470e174194d",
       "version_major": 2,
       "version_minor": 0
      },
      "text/plain": [
       "Validation:   0%|          | 0/1032 [00:00<?, ?it/s]"
      ]
     },
     "metadata": {},
     "output_type": "display_data"
    },
    {
     "name": "stdout",
     "output_type": "stream",
     "text": [
      "11/28/2023, 15:53:57# Validation Loss: 0.2397 | Validation Accuracy: 0.9385\n",
      "\n",
      "11/28/2023, 15:53:57# Find a better model!!\n"
     ]
    },
    {
     "data": {
      "application/vnd.jupyter.widget-view+json": {
       "model_id": "32d959f63bb84377b402788537c3bd75",
       "version_major": 2,
       "version_minor": 0
      },
      "text/plain": [
       "Training:   0%|          | 0/8250 [00:00<?, ?it/s]"
      ]
     },
     "metadata": {},
     "output_type": "display_data"
    },
    {
     "name": "stdout",
     "output_type": "stream",
     "text": [
      "11/28/2023, 15:55:43# total batches: 8250\n",
      "11/28/2023, 15:55:43# Epoch 5 | Train Loss: 0.2468 | Train Accuracy: 0.9373\n"
     ]
    },
    {
     "data": {
      "application/vnd.jupyter.widget-view+json": {
       "model_id": "aacc349b8ba5495d82e55f1e719466ad",
       "version_major": 2,
       "version_minor": 0
      },
      "text/plain": [
       "Validation:   0%|          | 0/1032 [00:00<?, ?it/s]"
      ]
     },
     "metadata": {},
     "output_type": "display_data"
    },
    {
     "name": "stdout",
     "output_type": "stream",
     "text": [
      "11/28/2023, 15:55:52# Validation Loss: 0.2371 | Validation Accuracy: 0.9391\n",
      "\n",
      "11/28/2023, 15:55:52# Find a better model!!\n"
     ]
    },
    {
     "data": {
      "application/vnd.jupyter.widget-view+json": {
       "model_id": "96d1f5e7192847ae8a2247d82d4b3ffa",
       "version_major": 2,
       "version_minor": 0
      },
      "text/plain": [
       "Training:   0%|          | 0/8250 [00:00<?, ?it/s]"
      ]
     },
     "metadata": {},
     "output_type": "display_data"
    },
    {
     "name": "stdout",
     "output_type": "stream",
     "text": [
      "11/28/2023, 15:57:47# total batches: 8250\n",
      "11/28/2023, 15:57:47# Epoch 6 | Train Loss: 0.2423 | Train Accuracy: 0.9381\n"
     ]
    },
    {
     "data": {
      "application/vnd.jupyter.widget-view+json": {
       "model_id": "855165f4b03c496f91471ccef9d38a33",
       "version_major": 2,
       "version_minor": 0
      },
      "text/plain": [
       "Validation:   0%|          | 0/1032 [00:00<?, ?it/s]"
      ]
     },
     "metadata": {},
     "output_type": "display_data"
    },
    {
     "name": "stdout",
     "output_type": "stream",
     "text": [
      "11/28/2023, 15:57:56# Validation Loss: 0.2368 | Validation Accuracy: 0.9399\n",
      "\n",
      "11/28/2023, 15:57:56# Find a better model!!\n"
     ]
    },
    {
     "data": {
      "application/vnd.jupyter.widget-view+json": {
       "model_id": "9ffb3f8b32464ccca56caff232b44991",
       "version_major": 2,
       "version_minor": 0
      },
      "text/plain": [
       "Training:   0%|          | 0/8250 [00:00<?, ?it/s]"
      ]
     },
     "metadata": {},
     "output_type": "display_data"
    },
    {
     "name": "stdout",
     "output_type": "stream",
     "text": [
      "11/28/2023, 15:59:44# total batches: 8250\n",
      "11/28/2023, 15:59:44# Epoch 7 | Train Loss: 0.2373 | Train Accuracy: 0.9393\n"
     ]
    },
    {
     "data": {
      "application/vnd.jupyter.widget-view+json": {
       "model_id": "0acfd4d9609046d3872a7d1361849159",
       "version_major": 2,
       "version_minor": 0
      },
      "text/plain": [
       "Validation:   0%|          | 0/1032 [00:00<?, ?it/s]"
      ]
     },
     "metadata": {},
     "output_type": "display_data"
    },
    {
     "name": "stdout",
     "output_type": "stream",
     "text": [
      "11/28/2023, 15:59:55# Validation Loss: 0.2386 | Validation Accuracy: 0.9389\n",
      "\n"
     ]
    },
    {
     "data": {
      "application/vnd.jupyter.widget-view+json": {
       "model_id": "e1d2ef5bbd76454e9134f0a3052563e3",
       "version_major": 2,
       "version_minor": 0
      },
      "text/plain": [
       "Training:   0%|          | 0/8250 [00:00<?, ?it/s]"
      ]
     },
     "metadata": {},
     "output_type": "display_data"
    },
    {
     "name": "stdout",
     "output_type": "stream",
     "text": [
      "11/28/2023, 16:01:42# total batches: 8250\n",
      "11/28/2023, 16:01:42# Epoch 8 | Train Loss: 0.2393 | Train Accuracy: 0.9385\n"
     ]
    },
    {
     "data": {
      "application/vnd.jupyter.widget-view+json": {
       "model_id": "f30e978433d743d7853ab3a1912424f1",
       "version_major": 2,
       "version_minor": 0
      },
      "text/plain": [
       "Validation:   0%|          | 0/1032 [00:00<?, ?it/s]"
      ]
     },
     "metadata": {},
     "output_type": "display_data"
    },
    {
     "name": "stdout",
     "output_type": "stream",
     "text": [
      "11/28/2023, 16:01:51# Validation Loss: 0.2387 | Validation Accuracy: 0.9380\n",
      "\n"
     ]
    },
    {
     "data": {
      "application/vnd.jupyter.widget-view+json": {
       "model_id": "20e56063839e4bd48b8328fd9840b7b3",
       "version_major": 2,
       "version_minor": 0
      },
      "text/plain": [
       "Training:   0%|          | 0/8250 [00:00<?, ?it/s]"
      ]
     },
     "metadata": {},
     "output_type": "display_data"
    },
    {
     "name": "stdout",
     "output_type": "stream",
     "text": [
      "11/28/2023, 16:03:41# total batches: 8250\n",
      "11/28/2023, 16:03:41# Epoch 9 | Train Loss: 0.2438 | Train Accuracy: 0.9377\n"
     ]
    },
    {
     "data": {
      "application/vnd.jupyter.widget-view+json": {
       "model_id": "49a97c74aee545b5baa0dfd62ee0cf7a",
       "version_major": 2,
       "version_minor": 0
      },
      "text/plain": [
       "Validation:   0%|          | 0/1032 [00:00<?, ?it/s]"
      ]
     },
     "metadata": {},
     "output_type": "display_data"
    },
    {
     "name": "stdout",
     "output_type": "stream",
     "text": [
      "11/28/2023, 16:03:50# Validation Loss: 0.2363 | Validation Accuracy: 0.9388\n",
      "\n",
      "11/28/2023, 16:03:50# Find a better model!!\n"
     ]
    },
    {
     "data": {
      "application/vnd.jupyter.widget-view+json": {
       "model_id": "0b669a4b231243619409c68c6d157a3f",
       "version_major": 2,
       "version_minor": 0
      },
      "text/plain": [
       "Training:   0%|          | 0/8250 [00:00<?, ?it/s]"
      ]
     },
     "metadata": {},
     "output_type": "display_data"
    },
    {
     "name": "stdout",
     "output_type": "stream",
     "text": [
      "11/28/2023, 16:05:33# total batches: 8250\n",
      "11/28/2023, 16:05:33# Epoch 10 | Train Loss: 0.2393 | Train Accuracy: 0.9388\n"
     ]
    },
    {
     "data": {
      "application/vnd.jupyter.widget-view+json": {
       "model_id": "028fdaec80414f8ebe511dd26f632e0a",
       "version_major": 2,
       "version_minor": 0
      },
      "text/plain": [
       "Validation:   0%|          | 0/1032 [00:00<?, ?it/s]"
      ]
     },
     "metadata": {},
     "output_type": "display_data"
    },
    {
     "name": "stdout",
     "output_type": "stream",
     "text": [
      "11/28/2023, 16:05:43# Validation Loss: 0.2367 | Validation Accuracy: 0.9383\n",
      "\n"
     ]
    },
    {
     "data": {
      "application/vnd.jupyter.widget-view+json": {
       "model_id": "2bf837a5cb044903b32f874ff35a9b80",
       "version_major": 2,
       "version_minor": 0
      },
      "text/plain": [
       "Training:   0%|          | 0/8250 [00:00<?, ?it/s]"
      ]
     },
     "metadata": {},
     "output_type": "display_data"
    },
    {
     "name": "stdout",
     "output_type": "stream",
     "text": [
      "11/28/2023, 16:07:41# total batches: 8250\n",
      "11/28/2023, 16:07:41# Epoch 11 | Train Loss: 0.2397 | Train Accuracy: 0.9385\n"
     ]
    },
    {
     "data": {
      "application/vnd.jupyter.widget-view+json": {
       "model_id": "bc29d8b98fed4ab397e4605074a7569f",
       "version_major": 2,
       "version_minor": 0
      },
      "text/plain": [
       "Validation:   0%|          | 0/1032 [00:00<?, ?it/s]"
      ]
     },
     "metadata": {},
     "output_type": "display_data"
    },
    {
     "name": "stdout",
     "output_type": "stream",
     "text": [
      "11/28/2023, 16:07:52# Validation Loss: 0.2373 | Validation Accuracy: 0.9386\n",
      "\n"
     ]
    },
    {
     "data": {
      "application/vnd.jupyter.widget-view+json": {
       "model_id": "48851e9be7cc4791beedc807de17d4a0",
       "version_major": 2,
       "version_minor": 0
      },
      "text/plain": [
       "Training:   0%|          | 0/8250 [00:00<?, ?it/s]"
      ]
     },
     "metadata": {},
     "output_type": "display_data"
    },
    {
     "name": "stdout",
     "output_type": "stream",
     "text": [
      "11/28/2023, 16:09:42# total batches: 8250\n",
      "11/28/2023, 16:09:42# Epoch 12 | Train Loss: 0.2391 | Train Accuracy: 0.9389\n"
     ]
    },
    {
     "data": {
      "application/vnd.jupyter.widget-view+json": {
       "model_id": "0e776009c4cd4a8abda4e5e10173c9d0",
       "version_major": 2,
       "version_minor": 0
      },
      "text/plain": [
       "Validation:   0%|          | 0/1032 [00:00<?, ?it/s]"
      ]
     },
     "metadata": {},
     "output_type": "display_data"
    },
    {
     "name": "stdout",
     "output_type": "stream",
     "text": [
      "11/28/2023, 16:09:51# Validation Loss: 0.2422 | Validation Accuracy: 0.9377\n",
      "\n"
     ]
    },
    {
     "data": {
      "application/vnd.jupyter.widget-view+json": {
       "model_id": "995033c685dd4f598e2ed20826932c27",
       "version_major": 2,
       "version_minor": 0
      },
      "text/plain": [
       "Training:   0%|          | 0/8250 [00:00<?, ?it/s]"
      ]
     },
     "metadata": {},
     "output_type": "display_data"
    },
    {
     "name": "stdout",
     "output_type": "stream",
     "text": [
      "11/28/2023, 16:11:48# total batches: 8250\n",
      "11/28/2023, 16:11:48# Epoch 13 | Train Loss: 0.2384 | Train Accuracy: 0.9390\n"
     ]
    },
    {
     "data": {
      "application/vnd.jupyter.widget-view+json": {
       "model_id": "688d0c5ac9cd41c498c12756841e5a2c",
       "version_major": 2,
       "version_minor": 0
      },
      "text/plain": [
       "Validation:   0%|          | 0/1032 [00:00<?, ?it/s]"
      ]
     },
     "metadata": {},
     "output_type": "display_data"
    },
    {
     "name": "stdout",
     "output_type": "stream",
     "text": [
      "11/28/2023, 16:11:58# Validation Loss: 0.2434 | Validation Accuracy: 0.9373\n",
      "\n"
     ]
    },
    {
     "data": {
      "application/vnd.jupyter.widget-view+json": {
       "model_id": "16b513d2cab2480aab31c80fdb3081a1",
       "version_major": 2,
       "version_minor": 0
      },
      "text/plain": [
       "Training:   0%|          | 0/8250 [00:00<?, ?it/s]"
      ]
     },
     "metadata": {},
     "output_type": "display_data"
    },
    {
     "name": "stdout",
     "output_type": "stream",
     "text": [
      "11/28/2023, 16:13:42# total batches: 8250\n",
      "11/28/2023, 16:13:42# Epoch 14 | Train Loss: 0.2390 | Train Accuracy: 0.9388\n"
     ]
    },
    {
     "data": {
      "application/vnd.jupyter.widget-view+json": {
       "model_id": "41f173e74a9447bca1a7c00091019a61",
       "version_major": 2,
       "version_minor": 0
      },
      "text/plain": [
       "Validation:   0%|          | 0/1032 [00:00<?, ?it/s]"
      ]
     },
     "metadata": {},
     "output_type": "display_data"
    },
    {
     "name": "stdout",
     "output_type": "stream",
     "text": [
      "11/28/2023, 16:13:51# Validation Loss: 0.2441 | Validation Accuracy: 0.9370\n",
      "\n"
     ]
    },
    {
     "data": {
      "application/vnd.jupyter.widget-view+json": {
       "model_id": "4ca8a8f1b0474597b4a2342efe61f63b",
       "version_major": 2,
       "version_minor": 0
      },
      "text/plain": [
       "Training:   0%|          | 0/8250 [00:00<?, ?it/s]"
      ]
     },
     "metadata": {},
     "output_type": "display_data"
    },
    {
     "name": "stdout",
     "output_type": "stream",
     "text": [
      "11/28/2023, 16:15:34# total batches: 8250\n",
      "11/28/2023, 16:15:34# Epoch 15 | Train Loss: 0.2416 | Train Accuracy: 0.9381\n"
     ]
    },
    {
     "data": {
      "application/vnd.jupyter.widget-view+json": {
       "model_id": "bb57040559634a879ae97e556c547160",
       "version_major": 2,
       "version_minor": 0
      },
      "text/plain": [
       "Validation:   0%|          | 0/1032 [00:00<?, ?it/s]"
      ]
     },
     "metadata": {},
     "output_type": "display_data"
    },
    {
     "name": "stdout",
     "output_type": "stream",
     "text": [
      "11/28/2023, 16:15:44# Validation Loss: 0.2432 | Validation Accuracy: 0.9365\n",
      "\n"
     ]
    },
    {
     "data": {
      "application/vnd.jupyter.widget-view+json": {
       "model_id": "f74464b2d906400182382a5ee992f5ea",
       "version_major": 2,
       "version_minor": 0
      },
      "text/plain": [
       "Training:   0%|          | 0/8250 [00:00<?, ?it/s]"
      ]
     },
     "metadata": {},
     "output_type": "display_data"
    },
    {
     "name": "stdout",
     "output_type": "stream",
     "text": [
      "11/28/2023, 16:17:39# total batches: 8250\n",
      "11/28/2023, 16:17:39# Epoch 16 | Train Loss: 0.2411 | Train Accuracy: 0.9380\n"
     ]
    },
    {
     "data": {
      "application/vnd.jupyter.widget-view+json": {
       "model_id": "d778929751f54cdbbf0dbd08d005882d",
       "version_major": 2,
       "version_minor": 0
      },
      "text/plain": [
       "Validation:   0%|          | 0/1032 [00:00<?, ?it/s]"
      ]
     },
     "metadata": {},
     "output_type": "display_data"
    },
    {
     "name": "stdout",
     "output_type": "stream",
     "text": [
      "11/28/2023, 16:17:48# Validation Loss: 0.2305 | Validation Accuracy: 0.9404\n",
      "\n",
      "11/28/2023, 16:17:48# Find a better model!!\n"
     ]
    },
    {
     "data": {
      "application/vnd.jupyter.widget-view+json": {
       "model_id": "68c486b459204a76b36343b3906bd0e1",
       "version_major": 2,
       "version_minor": 0
      },
      "text/plain": [
       "Training:   0%|          | 0/8250 [00:00<?, ?it/s]"
      ]
     },
     "metadata": {},
     "output_type": "display_data"
    },
    {
     "name": "stdout",
     "output_type": "stream",
     "text": [
      "11/28/2023, 16:19:35# total batches: 8250\n",
      "11/28/2023, 16:19:35# Epoch 17 | Train Loss: 0.2407 | Train Accuracy: 0.9382\n"
     ]
    },
    {
     "data": {
      "application/vnd.jupyter.widget-view+json": {
       "model_id": "08c03f71dfc2429390eb0b0612600add",
       "version_major": 2,
       "version_minor": 0
      },
      "text/plain": [
       "Validation:   0%|          | 0/1032 [00:00<?, ?it/s]"
      ]
     },
     "metadata": {},
     "output_type": "display_data"
    },
    {
     "name": "stdout",
     "output_type": "stream",
     "text": [
      "11/28/2023, 16:19:44# Validation Loss: 0.2448 | Validation Accuracy: 0.9378\n",
      "\n"
     ]
    },
    {
     "data": {
      "application/vnd.jupyter.widget-view+json": {
       "model_id": "4667d2e8ce9944d4b3f265c90f81601b",
       "version_major": 2,
       "version_minor": 0
      },
      "text/plain": [
       "Training:   0%|          | 0/8250 [00:00<?, ?it/s]"
      ]
     },
     "metadata": {},
     "output_type": "display_data"
    },
    {
     "name": "stdout",
     "output_type": "stream",
     "text": [
      "11/28/2023, 16:21:27# total batches: 8250\n",
      "11/28/2023, 16:21:27# Epoch 18 | Train Loss: 0.2390 | Train Accuracy: 0.9385\n"
     ]
    },
    {
     "data": {
      "application/vnd.jupyter.widget-view+json": {
       "model_id": "dfc9845e3d8340b398f4ec8be6cef041",
       "version_major": 2,
       "version_minor": 0
      },
      "text/plain": [
       "Validation:   0%|          | 0/1032 [00:00<?, ?it/s]"
      ]
     },
     "metadata": {},
     "output_type": "display_data"
    },
    {
     "name": "stdout",
     "output_type": "stream",
     "text": [
      "11/28/2023, 16:21:36# Validation Loss: 0.2323 | Validation Accuracy: 0.9404\n",
      "\n"
     ]
    },
    {
     "data": {
      "application/vnd.jupyter.widget-view+json": {
       "model_id": "ce1da573a76d459bad4c8320774cb9e5",
       "version_major": 2,
       "version_minor": 0
      },
      "text/plain": [
       "Training:   0%|          | 0/8250 [00:00<?, ?it/s]"
      ]
     },
     "metadata": {},
     "output_type": "display_data"
    },
    {
     "name": "stdout",
     "output_type": "stream",
     "text": [
      "11/28/2023, 16:23:21# total batches: 8250\n",
      "11/28/2023, 16:23:21# Epoch 19 | Train Loss: 0.2409 | Train Accuracy: 0.9384\n"
     ]
    },
    {
     "data": {
      "application/vnd.jupyter.widget-view+json": {
       "model_id": "2ef249210efd4eb4bfa68b9ea4841f09",
       "version_major": 2,
       "version_minor": 0
      },
      "text/plain": [
       "Validation:   0%|          | 0/1032 [00:00<?, ?it/s]"
      ]
     },
     "metadata": {},
     "output_type": "display_data"
    },
    {
     "name": "stdout",
     "output_type": "stream",
     "text": [
      "11/28/2023, 16:23:30# Validation Loss: 0.2390 | Validation Accuracy: 0.9386\n",
      "\n"
     ]
    },
    {
     "data": {
      "application/vnd.jupyter.widget-view+json": {
       "model_id": "cb7a0310004f4667a90fdf662c582f65",
       "version_major": 2,
       "version_minor": 0
      },
      "text/plain": [
       "Training:   0%|          | 0/8250 [00:00<?, ?it/s]"
      ]
     },
     "metadata": {},
     "output_type": "display_data"
    },
    {
     "name": "stdout",
     "output_type": "stream",
     "text": [
      "11/28/2023, 16:25:11# total batches: 8250\n",
      "11/28/2023, 16:25:11# Epoch 20 | Train Loss: 0.2387 | Train Accuracy: 0.9389\n"
     ]
    },
    {
     "data": {
      "application/vnd.jupyter.widget-view+json": {
       "model_id": "511b6b2255e84598936be6d1498cb851",
       "version_major": 2,
       "version_minor": 0
      },
      "text/plain": [
       "Validation:   0%|          | 0/1032 [00:00<?, ?it/s]"
      ]
     },
     "metadata": {},
     "output_type": "display_data"
    },
    {
     "name": "stdout",
     "output_type": "stream",
     "text": [
      "11/28/2023, 16:25:21# Validation Loss: 0.2410 | Validation Accuracy: 0.9374\n",
      "\n"
     ]
    },
    {
     "data": {
      "application/vnd.jupyter.widget-view+json": {
       "model_id": "ce50b8af881247c285dbf9340c170b0f",
       "version_major": 2,
       "version_minor": 0
      },
      "text/plain": [
       "Training:   0%|          | 0/8250 [00:00<?, ?it/s]"
      ]
     },
     "metadata": {},
     "output_type": "display_data"
    },
    {
     "name": "stdout",
     "output_type": "stream",
     "text": [
      "11/28/2023, 16:27:13# total batches: 8250\n",
      "11/28/2023, 16:27:13# Epoch 21 | Train Loss: 0.2406 | Train Accuracy: 0.9380\n"
     ]
    },
    {
     "data": {
      "application/vnd.jupyter.widget-view+json": {
       "model_id": "6b9709fb158148d5914938d925ecd0cd",
       "version_major": 2,
       "version_minor": 0
      },
      "text/plain": [
       "Validation:   0%|          | 0/1032 [00:00<?, ?it/s]"
      ]
     },
     "metadata": {},
     "output_type": "display_data"
    },
    {
     "name": "stdout",
     "output_type": "stream",
     "text": [
      "11/28/2023, 16:27:23# Validation Loss: 0.2360 | Validation Accuracy: 0.9375\n",
      "\n"
     ]
    },
    {
     "data": {
      "application/vnd.jupyter.widget-view+json": {
       "model_id": "ad006ded8bce483ab306617e9a55fd82",
       "version_major": 2,
       "version_minor": 0
      },
      "text/plain": [
       "Training:   0%|          | 0/8250 [00:00<?, ?it/s]"
      ]
     },
     "metadata": {},
     "output_type": "display_data"
    },
    {
     "name": "stdout",
     "output_type": "stream",
     "text": [
      "11/28/2023, 16:29:05# total batches: 8250\n",
      "11/28/2023, 16:29:05# Epoch 22 | Train Loss: 0.2395 | Train Accuracy: 0.9382\n"
     ]
    },
    {
     "data": {
      "application/vnd.jupyter.widget-view+json": {
       "model_id": "6970272d45924a70ac2b7aa376d5582c",
       "version_major": 2,
       "version_minor": 0
      },
      "text/plain": [
       "Validation:   0%|          | 0/1032 [00:00<?, ?it/s]"
      ]
     },
     "metadata": {},
     "output_type": "display_data"
    },
    {
     "name": "stdout",
     "output_type": "stream",
     "text": [
      "11/28/2023, 16:29:14# Validation Loss: 0.2391 | Validation Accuracy: 0.9373\n",
      "\n"
     ]
    },
    {
     "data": {
      "application/vnd.jupyter.widget-view+json": {
       "model_id": "3f4fdcfcc7a347219aa5813c97c5e7c2",
       "version_major": 2,
       "version_minor": 0
      },
      "text/plain": [
       "Training:   0%|          | 0/8250 [00:00<?, ?it/s]"
      ]
     },
     "metadata": {},
     "output_type": "display_data"
    },
    {
     "name": "stdout",
     "output_type": "stream",
     "text": [
      "11/28/2023, 16:30:58# total batches: 8250\n",
      "11/28/2023, 16:30:58# Epoch 23 | Train Loss: 0.2377 | Train Accuracy: 0.9385\n"
     ]
    },
    {
     "data": {
      "application/vnd.jupyter.widget-view+json": {
       "model_id": "aa57ce1f1bdc4161afde084b8856cc80",
       "version_major": 2,
       "version_minor": 0
      },
      "text/plain": [
       "Validation:   0%|          | 0/1032 [00:00<?, ?it/s]"
      ]
     },
     "metadata": {},
     "output_type": "display_data"
    },
    {
     "name": "stdout",
     "output_type": "stream",
     "text": [
      "11/28/2023, 16:31:07# Validation Loss: 0.2417 | Validation Accuracy: 0.9369\n",
      "\n"
     ]
    },
    {
     "data": {
      "application/vnd.jupyter.widget-view+json": {
       "model_id": "dd241ae28ef54086bbd5274f96259be1",
       "version_major": 2,
       "version_minor": 0
      },
      "text/plain": [
       "Training:   0%|          | 0/8250 [00:00<?, ?it/s]"
      ]
     },
     "metadata": {},
     "output_type": "display_data"
    },
    {
     "name": "stdout",
     "output_type": "stream",
     "text": [
      "11/28/2023, 16:32:55# total batches: 8250\n",
      "11/28/2023, 16:32:55# Epoch 24 | Train Loss: 0.2349 | Train Accuracy: 0.9390\n"
     ]
    },
    {
     "data": {
      "application/vnd.jupyter.widget-view+json": {
       "model_id": "1077f72eac98498fad2b97817c602d76",
       "version_major": 2,
       "version_minor": 0
      },
      "text/plain": [
       "Validation:   0%|          | 0/1032 [00:00<?, ?it/s]"
      ]
     },
     "metadata": {},
     "output_type": "display_data"
    },
    {
     "name": "stdout",
     "output_type": "stream",
     "text": [
      "11/28/2023, 16:33:05# Validation Loss: 0.2317 | Validation Accuracy: 0.9403\n",
      "\n"
     ]
    },
    {
     "data": {
      "application/vnd.jupyter.widget-view+json": {
       "model_id": "66d50fab4aca450e8ad90f240ea4b1d9",
       "version_major": 2,
       "version_minor": 0
      },
      "text/plain": [
       "Training:   0%|          | 0/8250 [00:00<?, ?it/s]"
      ]
     },
     "metadata": {},
     "output_type": "display_data"
    },
    {
     "name": "stdout",
     "output_type": "stream",
     "text": [
      "11/28/2023, 16:34:45# total batches: 8250\n",
      "11/28/2023, 16:34:45# Epoch 25 | Train Loss: 0.2339 | Train Accuracy: 0.9393\n"
     ]
    },
    {
     "data": {
      "application/vnd.jupyter.widget-view+json": {
       "model_id": "ead3e9c638c145a0a758b53b06c828c5",
       "version_major": 2,
       "version_minor": 0
      },
      "text/plain": [
       "Validation:   0%|          | 0/1032 [00:00<?, ?it/s]"
      ]
     },
     "metadata": {},
     "output_type": "display_data"
    },
    {
     "name": "stdout",
     "output_type": "stream",
     "text": [
      "11/28/2023, 16:34:54# Validation Loss: 0.2300 | Validation Accuracy: 0.9396\n",
      "\n",
      "11/28/2023, 16:34:54# Find a better model!!\n"
     ]
    },
    {
     "data": {
      "application/vnd.jupyter.widget-view+json": {
       "model_id": "e87a33622459423d9735d4da188700a8",
       "version_major": 2,
       "version_minor": 0
      },
      "text/plain": [
       "Training:   0%|          | 0/8250 [00:00<?, ?it/s]"
      ]
     },
     "metadata": {},
     "output_type": "display_data"
    },
    {
     "name": "stdout",
     "output_type": "stream",
     "text": [
      "11/28/2023, 16:36:51# total batches: 8250\n",
      "11/28/2023, 16:36:51# Epoch 26 | Train Loss: 0.2327 | Train Accuracy: 0.9396\n"
     ]
    },
    {
     "data": {
      "application/vnd.jupyter.widget-view+json": {
       "model_id": "8650de3e46164fd3ad9456020a0f5156",
       "version_major": 2,
       "version_minor": 0
      },
      "text/plain": [
       "Validation:   0%|          | 0/1032 [00:00<?, ?it/s]"
      ]
     },
     "metadata": {},
     "output_type": "display_data"
    },
    {
     "name": "stdout",
     "output_type": "stream",
     "text": [
      "11/28/2023, 16:37:00# Validation Loss: 0.2348 | Validation Accuracy: 0.9390\n",
      "\n"
     ]
    },
    {
     "data": {
      "application/vnd.jupyter.widget-view+json": {
       "model_id": "622cb2b7f99e443bbf290e5f9b5ed38b",
       "version_major": 2,
       "version_minor": 0
      },
      "text/plain": [
       "Training:   0%|          | 0/8250 [00:00<?, ?it/s]"
      ]
     },
     "metadata": {},
     "output_type": "display_data"
    }
   ],
   "source": [
    "import csv\n",
    "import pandas as pd\n",
    "from sklearn.metrics import classification_report\n",
    "from torch.optim import AdamW, lr_scheduler\n",
    "\n",
    "seed = 8787\n",
    "same_seeds(seed)\n",
    "\n",
    "# model = GraphSAGE(in_dim=50, hidden_dim=16, out_dim=167)\n",
    "model = Model(in_features=50, hidden_features=64, out_features=128, num_classes=167)\n",
    "# in_dim means the dimension of the node_feat(50 dim, since the 50-dim embedding)\n",
    "# out_dim means the # of the categories -> 168 for out tasks\n",
    "best_model_path = \"../checkpoint_graphSAGE/best_model_GraphSAGE_transR_50-top5.pt\"\n",
    "\n",
    "model = model.to(device)\n",
    "\n",
    "# optimizer = torch.optim.AdamW(model.parameters(), lr=1e-5)\n",
    "optimizer = AdamW(model.parameters(), lr=5e-4)\n",
    "\n",
    "# T_max control the period of the lr changing -> set 1/10 first\n",
    "scheduler = lr_scheduler.CosineAnnealingLR(optimizer, T_max=10, eta_min=0, last_epoch=- 1, verbose=False)\n",
    "\n",
    "criterion = nn.CrossEntropyLoss()\n",
    "# criterion = torch.nn.BCEWithLogitsLoss()\n",
    "\n",
    "total_steps = 100\n",
    "\n",
    "train_losses = []\n",
    "train_accuracies = []\n",
    "valid_losses = []\n",
    "valid_accuracies = []\n",
    "\n",
    "# save the best model\n",
    "best_val_loss = float('inf')\n",
    "patience = 20  # Number of epochs with no improvement after which training will be stopped.\n",
    "waiting = 0  # The number of epochs with no improvement so far.\n",
    "\n",
    "\n",
    "# Training Part\n",
    "for epoch in tqdm(range(total_steps)):\n",
    "    # Train\n",
    "    model.train()\n",
    "    total_loss = 0.0\n",
    "    total_accuracy = 0.0\n",
    "    num_batches = 0\n",
    "    \n",
    "    for batched_g in tqdm(dataloaders['train'], desc=\"Training\", position=0, leave=True):\n",
    "        num_batches += 1\n",
    "        loss, accuracy, _ = model_fn(batched_g, model, criterion, device, num_batches, which_type='train')\n",
    "        \n",
    "        optimizer.zero_grad()\n",
    "        loss.backward()\n",
    "        optimizer.step()\n",
    "\n",
    "        total_loss += loss.item()\n",
    "        total_accuracy += accuracy.item()\n",
    "\n",
    "    scheduler.step()\n",
    "    add_log_msg(f\"total batches: {num_batches}\")\n",
    "\n",
    "    avg_loss = total_loss / num_batches\n",
    "    avg_accuracy = total_accuracy / num_batches\n",
    "    \n",
    "    train_losses.append(avg_loss)\n",
    "    train_accuracies.append(avg_accuracy)\n",
    "\n",
    "    add_log_msg(f'Epoch {epoch} | Train Loss: {avg_loss:.4f} | Train Accuracy: {avg_accuracy:.4f}')\n",
    "\n",
    "    \n",
    "    # Validation Part\n",
    "    model.eval()\n",
    "    total_accuracy = 0.0\n",
    "    total_loss = 0.0\n",
    "    num_batches = 0\n",
    "\n",
    "\n",
    "    with torch.no_grad():\n",
    "        for batched_g in tqdm(dataloaders['valid'], desc=\"Validation\", position=0, leave=True):\n",
    "            loss, accuracy, _ = model_fn(batched_g, model, criterion, device, num_batches, which_type='validation')\n",
    "            total_accuracy += accuracy.item()\n",
    "            total_loss += loss.item()\n",
    "            num_batches += 1\n",
    "\n",
    "    avg_accuracy = total_accuracy / num_batches\n",
    "    current_loss = total_loss / num_batches\n",
    "    \n",
    "    valid_losses.append(current_loss)\n",
    "    valid_accuracies.append(avg_accuracy)\n",
    "    \n",
    "    add_log_msg(f'Validation Loss: {current_loss:.4f} | Validation Accuracy: {avg_accuracy:.4f}\\n')\n",
    "    \n",
    "            \n",
    "    if current_loss < best_val_loss:\n",
    "        best_val_loss = current_loss\n",
    "        waiting = 0\n",
    "        \n",
    "        if os.path.exists(best_model_path):\n",
    "            os.remove(best_model_path)\n",
    "            add_log_msg(\"Find a better model!!\")\n",
    "\n",
    "        torch.save(model.state_dict(), best_model_path)\n",
    "\n",
    "#         print(best_model_path)\n",
    "\n",
    "    else:\n",
    "        waiting += 1\n",
    "        if waiting >= patience:\n",
    "            add_log_msg(\"============================== Early stopping ==================================\")\n",
    "            break"
   ]
  },
  {
   "cell_type": "code",
   "execution_count": 23,
   "metadata": {},
   "outputs": [
    {
     "data": {
      "image/png": "[encoded data removed]",
      "text/plain": [
       "<Figure size 864x432 with 2 Axes>"
      ]
     },
     "metadata": {
      "needs_background": "light"
     },
     "output_type": "display_data"
    }
   ],
   "source": [
    "import matplotlib.pyplot as plt\n",
    "\n",
    "plt.figure(figsize=(12, 6))\n",
    "plt.subplot(1, 2, 1)\n",
    "plt.plot(train_losses, label='Train Loss')\n",
    "plt.plot(valid_losses, label='Validation Loss')\n",
    "plt.title('Loss during training')\n",
    "plt.xlabel('Epoch')\n",
    "plt.ylabel('Loss')\n",
    "plt.ylim(0.2, 0.3)\n",
    "plt.legend()\n",
    "\n",
    "\n",
    "plt.subplot(1, 2, 2)\n",
    "plt.plot(train_accuracies, label='Train Accuracy')\n",
    "plt.plot(valid_accuracies, label='Validation Accuracy')\n",
    "plt.title('Accuracy during training')\n",
    "plt.xlabel('Epoch')\n",
    "plt.ylabel('Accuracy')\n",
    "plt.ylim(0.925, 0.95)\n",
    "plt.legend()\n",
    "\n",
    "plt.show()"
   ]
  },
  {
   "cell_type": "markdown",
   "metadata": {},
   "source": [
    "### Get the mapping and triplet information"
   ]
  },
  {
   "cell_type": "code",
   "execution_count": 24,
   "metadata": {},
   "outputs": [],
   "source": [
    "mapping_file = './new_mapping.txt'\n",
    "label_mapping = {}\n",
    "with open(mapping_file, 'r') as f:\n",
    "    for line in f:\n",
    "        parts = line.strip().split(': ')\n",
    "        label_mapping[int(parts[1])] = parts[0]"
   ]
  },
  {
   "cell_type": "code",
   "execution_count": 25,
   "metadata": {},
   "outputs": [],
   "source": [
    "triplets_labels = set()\n",
    "with open('triplets_1.txt', 'r') as file:\n",
    "    for line in file:\n",
    "        # Assuming the line is just a number corresponding to label_mapping keys\n",
    "        num_id = int(line.strip())\n",
    "        triplets_labels.add(label_mapping[num_id])  # Convert to string label here"
   ]
  },
  {
   "cell_type": "markdown",
   "metadata": {},
   "source": [
    "### Test of valid and test part is ``graph``"
   ]
  },
  {
   "cell_type": "markdown",
   "metadata": {},
   "source": [
    "- 60 APs in training x 10000times\n",
    "- 5 APs in validation x 4 times\n",
    "- 3 APs in test x 4 times\n",
    "- Batch size = 4"
   ]
  },
  {
   "cell_type": "code",
   "execution_count": 26,
   "metadata": {},
   "outputs": [
    {
     "data": {
      "application/vnd.jupyter.widget-view+json": {
       "model_id": "73e9b7642d884dacabe78173c42f6880",
       "version_major": 2,
       "version_minor": 0
      },
      "text/plain": [
       "Testing:   0%|          | 0/1032 [00:00<?, ?it/s]"
      ]
     },
     "metadata": {},
     "output_type": "display_data"
    },
    {
     "name": "stdout",
     "output_type": "stream",
     "text": [
      "11/28/2023, 18:51:11# Test Accuracy: 97.97977844602805 %\n",
      "\n",
      "\n",
      "\n"
     ]
    },
    {
     "data": {
      "text/html": [
       "<div>\n",
       "<style scoped>\n",
       "    .dataframe tbody tr th:only-of-type {\n",
       "        vertical-align: middle;\n",
       "    }\n",
       "\n",
       "    .dataframe tbody tr th {\n",
       "        vertical-align: top;\n",
       "    }\n",
       "\n",
       "    .dataframe thead th {\n",
       "        text-align: right;\n",
       "    }\n",
       "</style>\n",
       "<table border=\"1\" class=\"dataframe\">\n",
       "  <thead>\n",
       "    <tr style=\"text-align: right;\">\n",
       "      <th></th>\n",
       "      <th>precision</th>\n",
       "      <th>recall</th>\n",
       "      <th>f1-score</th>\n",
       "      <th>support</th>\n",
       "    </tr>\n",
       "  </thead>\n",
       "  <tbody>\n",
       "    <tr>\n",
       "      <th>T1003.001_0ef4cc7b-611c-4237-b20b-db36b6906554</th>\n",
       "      <td>1.000000</td>\n",
       "      <td>1.00</td>\n",
       "      <td>1.000000</td>\n",
       "      <td>6400.0</td>\n",
       "    </tr>\n",
       "    <tr>\n",
       "      <th>T1003.001_35d92515122effdd73801c6ac3021da7</th>\n",
       "      <td>1.000000</td>\n",
       "      <td>1.00</td>\n",
       "      <td>1.000000</td>\n",
       "      <td>600.0</td>\n",
       "    </tr>\n",
       "    <tr>\n",
       "      <th>T1003.002_5a484b65c247675e3b7ada4ba648d376</th>\n",
       "      <td>1.000000</td>\n",
       "      <td>1.00</td>\n",
       "      <td>1.000000</td>\n",
       "      <td>500.0</td>\n",
       "    </tr>\n",
       "    <tr>\n",
       "      <th>T1003.002_7fa4ea18694f2552547b65e23952cabb</th>\n",
       "      <td>1.000000</td>\n",
       "      <td>1.00</td>\n",
       "      <td>1.000000</td>\n",
       "      <td>1500.0</td>\n",
       "    </tr>\n",
       "    <tr>\n",
       "      <th>T1003.003_9f73269695e54311dd61dc68940fb3e1</th>\n",
       "      <td>0.083333</td>\n",
       "      <td>0.36</td>\n",
       "      <td>0.135338</td>\n",
       "      <td>100.0</td>\n",
       "    </tr>\n",
       "    <tr>\n",
       "      <th>...</th>\n",
       "      <td>...</td>\n",
       "      <td>...</td>\n",
       "      <td>...</td>\n",
       "      <td>...</td>\n",
       "    </tr>\n",
       "    <tr>\n",
       "      <th>T1564_dedfa0a54c9c13ce5714a0dc2e1f5d1a</th>\n",
       "      <td>0.099359</td>\n",
       "      <td>0.31</td>\n",
       "      <td>0.150485</td>\n",
       "      <td>100.0</td>\n",
       "    </tr>\n",
       "    <tr>\n",
       "      <th>T1566.001_1afaec09315ab71fdfb167175e8a019a</th>\n",
       "      <td>1.000000</td>\n",
       "      <td>1.00</td>\n",
       "      <td>1.000000</td>\n",
       "      <td>800.0</td>\n",
       "    </tr>\n",
       "    <tr>\n",
       "      <th>T1574.001_63bbedafba2f541552ac3579e9e3737b</th>\n",
       "      <td>1.000000</td>\n",
       "      <td>1.00</td>\n",
       "      <td>1.000000</td>\n",
       "      <td>6200.0</td>\n",
       "    </tr>\n",
       "    <tr>\n",
       "      <th>T1574.011_72249c1e9ffe7d8f30243d838e0791ca</th>\n",
       "      <td>1.000000</td>\n",
       "      <td>1.00</td>\n",
       "      <td>1.000000</td>\n",
       "      <td>600.0</td>\n",
       "    </tr>\n",
       "    <tr>\n",
       "      <th>benign</th>\n",
       "      <td>1.000000</td>\n",
       "      <td>1.00</td>\n",
       "      <td>1.000000</td>\n",
       "      <td>134563.0</td>\n",
       "    </tr>\n",
       "  </tbody>\n",
       "</table>\n",
       "<p>166 rows × 4 columns</p>\n",
       "</div>"
      ],
      "text/plain": [
       "                                                precision  recall  f1-score  \\\n",
       "T1003.001_0ef4cc7b-611c-4237-b20b-db36b6906554   1.000000    1.00  1.000000   \n",
       "T1003.001_35d92515122effdd73801c6ac3021da7       1.000000    1.00  1.000000   \n",
       "T1003.002_5a484b65c247675e3b7ada4ba648d376       1.000000    1.00  1.000000   \n",
       "T1003.002_7fa4ea18694f2552547b65e23952cabb       1.000000    1.00  1.000000   \n",
       "T1003.003_9f73269695e54311dd61dc68940fb3e1       0.083333    0.36  0.135338   \n",
       "...                                                   ...     ...       ...   \n",
       "T1564_dedfa0a54c9c13ce5714a0dc2e1f5d1a           0.099359    0.31  0.150485   \n",
       "T1566.001_1afaec09315ab71fdfb167175e8a019a       1.000000    1.00  1.000000   \n",
       "T1574.001_63bbedafba2f541552ac3579e9e3737b       1.000000    1.00  1.000000   \n",
       "T1574.011_72249c1e9ffe7d8f30243d838e0791ca       1.000000    1.00  1.000000   \n",
       "benign                                           1.000000    1.00  1.000000   \n",
       "\n",
       "                                                 support  \n",
       "T1003.001_0ef4cc7b-611c-4237-b20b-db36b6906554    6400.0  \n",
       "T1003.001_35d92515122effdd73801c6ac3021da7         600.0  \n",
       "T1003.002_5a484b65c247675e3b7ada4ba648d376         500.0  \n",
       "T1003.002_7fa4ea18694f2552547b65e23952cabb        1500.0  \n",
       "T1003.003_9f73269695e54311dd61dc68940fb3e1         100.0  \n",
       "...                                                  ...  \n",
       "T1564_dedfa0a54c9c13ce5714a0dc2e1f5d1a             100.0  \n",
       "T1566.001_1afaec09315ab71fdfb167175e8a019a         800.0  \n",
       "T1574.001_63bbedafba2f541552ac3579e9e3737b        6200.0  \n",
       "T1574.011_72249c1e9ffe7d8f30243d838e0791ca         600.0  \n",
       "benign                                          134563.0  \n",
       "\n",
       "[166 rows x 4 columns]"
      ]
     },
     "execution_count": 26,
     "metadata": {},
     "output_type": "execute_result"
    }
   ],
   "source": [
    "model.load_state_dict(torch.load(best_model_path))\n",
    "        \n",
    "model.to(device)\n",
    "model.eval()\n",
    "\n",
    "total = 0\n",
    "correct = 0\n",
    "count = 0\n",
    "        \n",
    "true_labels = []\n",
    "predicted_labels = []\n",
    "        \n",
    "with torch.no_grad():\n",
    "    for batched_g in tqdm(dataloaders['test'], desc=\"Testing\", position=0, leave=True):\n",
    "        loss, accuracy, predicted = model_fn(batched_g, model, criterion, device, count, which_type='test')\n",
    "        labels = batched_g.edata['label'].to(device)\n",
    "#         print(predicted)\n",
    "        \n",
    "        true_labels.extend(labels.cpu().numpy())\n",
    "#         predicted_labels.extend(predicted.cpu().numpy()[:, 2]) \n",
    "        predicted_labels.extend(predicted.cpu().numpy().tolist())        \n",
    "    \n",
    "#         print(count, predicted_labels, \"\\n\")\n",
    "        total += labels.size(0)\n",
    "        \n",
    "        for i in range(len(predicted)):\n",
    "            if labels[i] in predicted[i]:\n",
    "#                 print(predicted[i])\n",
    "                correct += 1\n",
    "        \n",
    "        count += 1\n",
    "        \n",
    "add_log_msg(f'Test Accuracy: {100 * correct / total} %\\n\\n\\n')\n",
    "\n",
    "\n",
    "\n",
    "mapped_true_labels = [label_mapping[label] for label in true_labels]\n",
    "# mapped_predicted_labels = [label_mapping[label] for label in predicted_labels]\n",
    "mapped_predicted_labels = [[label_mapping[pred] for pred in sublist] for sublist in predicted_labels]\n",
    "\n",
    "\n",
    "# 获取所有不同的类别\n",
    "all_labels = sorted(set(mapped_true_labels))\n",
    "\n",
    "# 初始化混淆矩阵\n",
    "conf_matrix = np.zeros((len(all_labels), len(all_labels)), dtype=int)\n",
    "\n",
    "# 创建标签到索引的映射\n",
    "label_to_index = {label: index for index, label in enumerate(all_labels)}\n",
    "\n",
    "# 填充混淆矩阵\n",
    "for true_label, pred_labels in zip(mapped_true_labels, mapped_predicted_labels):\n",
    "    true_index = label_to_index[true_label]\n",
    "    if true_label in pred_labels:\n",
    "        pred_index = true_index  # 真阳性\n",
    "    else:\n",
    "        pred_index = label_to_index[pred_labels[0]]  # 取预测的第一个作为假阳性\n",
    "    conf_matrix[true_index, pred_index] += 1\n",
    "\n",
    "# 计算性能指标\n",
    "class_report = {}\n",
    "for label in all_labels:\n",
    "    index = label_to_index[label]\n",
    "    tp = conf_matrix[index, index]\n",
    "    fp = conf_matrix[:, index].sum() - tp\n",
    "    fn = conf_matrix[index, :].sum() - tp\n",
    "    tn = conf_matrix.sum() - tp - fp - fn\n",
    "\n",
    "    precision = tp / (tp + fp) if (tp + fp) != 0 else 0\n",
    "    recall = tp / (tp + fn) if (tp + fn) != 0 else 0\n",
    "    f1 = 2 * precision * recall / (precision + recall) if (precision + recall) != 0 else 0\n",
    "\n",
    "    class_report[label] = {\n",
    "        'precision': precision,\n",
    "        'recall': recall,\n",
    "        'f1-score': f1,\n",
    "        'support': tp + fn\n",
    "    }\n",
    "\n",
    "report_df = pd.DataFrame(class_report).T\n",
    "report_df"
   ]
  },
  {
   "cell_type": "markdown",
   "metadata": {},
   "source": [
    "#### Get the macro and micro average"
   ]
  },
  {
   "cell_type": "code",
   "execution_count": 29,
   "metadata": {},
   "outputs": [
    {
     "name": "stdout",
     "output_type": "stream",
     "text": [
      "Macro Avg Precision: 0.7\n",
      "Macro Avg Recall: 0.67\n",
      "Macro Avg F1-Score: 0.66 \n",
      "\n",
      "Micro Avg Precision: 0.98\n",
      "Micro Avg Recall: 0.98\n",
      "Micro Avg F1-Score: 0.98\n"
     ]
    }
   ],
   "source": [
    "macro_precision = np.mean([class_report[label]['precision'] for label in all_labels])\n",
    "macro_recall = np.mean([class_report[label]['recall'] for label in all_labels])\n",
    "macro_f1 = np.mean([class_report[label]['f1-score'] for label in all_labels])\n",
    "\n",
    "total_tp = sum([conf_matrix[i, i] for i in range(len(all_labels))])\n",
    "total_fp = sum([conf_matrix[:, i].sum() - conf_matrix[i, i] for i in range(len(all_labels))])\n",
    "total_fn = sum([conf_matrix[i, :].sum() - conf_matrix[i, i] for i in range(len(all_labels))])\n",
    "\n",
    "micro_precision = total_tp / (total_tp + total_fp) if (total_tp + total_fp) != 0 else 0\n",
    "micro_recall = total_tp / (total_tp + total_fn) if (total_tp + total_fn) != 0 else 0\n",
    "micro_f1 = 2 * micro_precision * micro_recall / (micro_precision + micro_recall) if (micro_precision + micro_recall) != 0 else 0\n",
    "\n",
    "\n",
    "macro_precision = round(macro_precision, 2)\n",
    "macro_recall = round(macro_recall, 2)\n",
    "macro_f1 = round(macro_f1, 2)\n",
    "\n",
    "micro_precision = round(micro_precision, 2)\n",
    "micro_recall = round(micro_recall, 2)\n",
    "micro_f1 = round(micro_f1, 2)\n",
    "\n",
    "\n",
    "print(f\"Macro Avg Precision: {macro_precision}\")\n",
    "print(f\"Macro Avg Recall: {macro_recall}\")\n",
    "print(f\"Macro Avg F1-Scor e: {macro_f1}\", \"\\n\")\n",
    "\n",
    "print(f\"Micro Avg Precision: {micro_precision}\")\n",
    "print(f\"Micro Avg Recall: {micro_recall}\")\n",
    "print(f\"Micro Avg F1-Score: {micro_f1}\")"
   ]
  },
  {
   "cell_type": "code",
   "execution_count": 28,
   "metadata": {},
   "outputs": [
    {
     "data": {
      "text/html": [
       "<div>\n",
       "<style scoped>\n",
       "    .dataframe tbody tr th:only-of-type {\n",
       "        vertical-align: middle;\n",
       "    }\n",
       "\n",
       "    .dataframe tbody tr th {\n",
       "        vertical-align: top;\n",
       "    }\n",
       "\n",
       "    .dataframe thead th {\n",
       "        text-align: right;\n",
       "    }\n",
       "</style>\n",
       "<table border=\"1\" class=\"dataframe\">\n",
       "  <thead>\n",
       "    <tr style=\"text-align: right;\">\n",
       "      <th></th>\n",
       "      <th>precision</th>\n",
       "      <th>recall</th>\n",
       "      <th>f1-score</th>\n",
       "      <th>support</th>\n",
       "    </tr>\n",
       "  </thead>\n",
       "  <tbody>\n",
       "    <tr>\n",
       "      <th>T1003.001_0ef4cc7b-611c-4237-b20b-db36b6906554</th>\n",
       "      <td>1.000000</td>\n",
       "      <td>1.000000</td>\n",
       "      <td>1.000000</td>\n",
       "      <td>6400.0</td>\n",
       "    </tr>\n",
       "    <tr>\n",
       "      <th>T1003.001_35d92515122effdd73801c6ac3021da7</th>\n",
       "      <td>1.000000</td>\n",
       "      <td>1.000000</td>\n",
       "      <td>1.000000</td>\n",
       "      <td>600.0</td>\n",
       "    </tr>\n",
       "    <tr>\n",
       "      <th>T1003.002_5a484b65c247675e3b7ada4ba648d376</th>\n",
       "      <td>1.000000</td>\n",
       "      <td>1.000000</td>\n",
       "      <td>1.000000</td>\n",
       "      <td>500.0</td>\n",
       "    </tr>\n",
       "    <tr>\n",
       "      <th>T1003.002_7fa4ea18694f2552547b65e23952cabb</th>\n",
       "      <td>1.000000</td>\n",
       "      <td>1.000000</td>\n",
       "      <td>1.000000</td>\n",
       "      <td>1500.0</td>\n",
       "    </tr>\n",
       "    <tr>\n",
       "      <th>T1003.003_9f73269695e54311dd61dc68940fb3e1</th>\n",
       "      <td>0.083333</td>\n",
       "      <td>0.360000</td>\n",
       "      <td>0.135338</td>\n",
       "      <td>100.0</td>\n",
       "    </tr>\n",
       "    <tr>\n",
       "      <th>...</th>\n",
       "      <td>...</td>\n",
       "      <td>...</td>\n",
       "      <td>...</td>\n",
       "      <td>...</td>\n",
       "    </tr>\n",
       "    <tr>\n",
       "      <th>T1574.001_63bbedafba2f541552ac3579e9e3737b</th>\n",
       "      <td>1.000000</td>\n",
       "      <td>1.000000</td>\n",
       "      <td>1.000000</td>\n",
       "      <td>6200.0</td>\n",
       "    </tr>\n",
       "    <tr>\n",
       "      <th>T1574.011_72249c1e9ffe7d8f30243d838e0791ca</th>\n",
       "      <td>1.000000</td>\n",
       "      <td>1.000000</td>\n",
       "      <td>1.000000</td>\n",
       "      <td>600.0</td>\n",
       "    </tr>\n",
       "    <tr>\n",
       "      <th>benign</th>\n",
       "      <td>1.000000</td>\n",
       "      <td>1.000000</td>\n",
       "      <td>1.000000</td>\n",
       "      <td>134563.0</td>\n",
       "    </tr>\n",
       "    <tr>\n",
       "      <th>macro avg</th>\n",
       "      <td>0.701622</td>\n",
       "      <td>0.665422</td>\n",
       "      <td>0.656189</td>\n",
       "      <td>NaN</td>\n",
       "    </tr>\n",
       "    <tr>\n",
       "      <th>micro avg</th>\n",
       "      <td>0.979798</td>\n",
       "      <td>0.979798</td>\n",
       "      <td>0.979798</td>\n",
       "      <td>NaN</td>\n",
       "    </tr>\n",
       "  </tbody>\n",
       "</table>\n",
       "<p>168 rows × 4 columns</p>\n",
       "</div>"
      ],
      "text/plain": [
       "                                                precision    recall  f1-score  \\\n",
       "T1003.001_0ef4cc7b-611c-4237-b20b-db36b6906554   1.000000  1.000000  1.000000   \n",
       "T1003.001_35d92515122effdd73801c6ac3021da7       1.000000  1.000000  1.000000   \n",
       "T1003.002_5a484b65c247675e3b7ada4ba648d376       1.000000  1.000000  1.000000   \n",
       "T1003.002_7fa4ea18694f2552547b65e23952cabb       1.000000  1.000000  1.000000   \n",
       "T1003.003_9f73269695e54311dd61dc68940fb3e1       0.083333  0.360000  0.135338   \n",
       "...                                                   ...       ...       ...   \n",
       "T1574.001_63bbedafba2f541552ac3579e9e3737b       1.000000  1.000000  1.000000   \n",
       "T1574.011_72249c1e9ffe7d8f30243d838e0791ca       1.000000  1.000000  1.000000   \n",
       "benign                                           1.000000  1.000000  1.000000   \n",
       "macro avg                                        0.701622  0.665422  0.656189   \n",
       "micro avg                                        0.979798  0.979798  0.979798   \n",
       "\n",
       "                                                 support  \n",
       "T1003.001_0ef4cc7b-611c-4237-b20b-db36b6906554    6400.0  \n",
       "T1003.001_35d92515122effdd73801c6ac3021da7         600.0  \n",
       "T1003.002_5a484b65c247675e3b7ada4ba648d376         500.0  \n",
       "T1003.002_7fa4ea18694f2552547b65e23952cabb        1500.0  \n",
       "T1003.003_9f73269695e54311dd61dc68940fb3e1         100.0  \n",
       "...                                                  ...  \n",
       "T1574.001_63bbedafba2f541552ac3579e9e3737b        6200.0  \n",
       "T1574.011_72249c1e9ffe7d8f30243d838e0791ca         600.0  \n",
       "benign                                          134563.0  \n",
       "macro avg                                            NaN  \n",
       "micro avg                                            NaN  \n",
       "\n",
       "[168 rows x 4 columns]"
      ]
     },
     "execution_count": 28,
     "metadata": {},
     "output_type": "execute_result"
    }
   ],
   "source": [
    "avg_df = pd.DataFrame({\n",
    "    'precision': [macro_precision, micro_precision],\n",
    "    'recall': [macro_recall, micro_recall],\n",
    "    'f1-score': [macro_f1, micro_f1],\n",
    "    'support': [np.nan, np.nan]  # 宏平均和微平均不涉及支持的计数\n",
    "}, index=['macro avg', 'micro avg'])\n",
    "\n",
    "\n",
    "final_report_df = pd.concat([report_df, avg_df])\n",
    "# final_report_df.to_excel('classification_report.xlsx', index_label='ID')\n",
    "final_report_df"
   ]
  },
  {
   "cell_type": "markdown",
   "metadata": {},
   "source": [
    "### Get the output true predicted mapped xlsx file"
   ]
  },
  {
   "cell_type": "code",
   "execution_count": null,
   "metadata": {},
   "outputs": [],
   "source": [
    "count = 0\n",
    "\n",
    "true_predicted_mapping = \"\"\n",
    "\n",
    "while True:\n",
    "    labels_filename = f'mapped_true_predicted_labels-transR_50-graphSAGE-top5-{count}.xlsx'    \n",
    "    true_predicted_mapping = labels_filename\n",
    "    labels_path = os.path.join(report_folder, labels_filename)\n",
    "\n",
    "    if not os.path.exists(labels_path):\n",
    "        break\n",
    "    count += 1\n",
    "\n",
    "mapped_labels_df = pd.DataFrame({'true_label': mapped_true_labels, 'predicted_label': mapped_predicted_labels})\n",
    "mapped_labels_df.to_excel(labels_path, index=False)\n",
    "\n",
    "add_log_msg(f\"label path: {labels_path}\")"
   ]
  },
  {
   "cell_type": "markdown",
   "metadata": {},
   "source": [
    "#### the filtered version"
   ]
  },
  {
   "cell_type": "code",
   "execution_count": null,
   "metadata": {},
   "outputs": [],
   "source": [
    "filtered_true_labels = []\n",
    "filtered_predicted_labels = []\n",
    "\n",
    "for true, pred in zip(mapped_true_labels, mapped_predicted_labels):\n",
    "    if true in triplets_labels:\n",
    "        filtered_true_labels.append(true)\n",
    "        filtered_predicted_labels.append(pred)\n",
    "\n",
    "        \n",
    "filtered_labels_path = os.path.join(report_folder, 'filtered_' + labels_filename)\n",
    "filtered_labels_df = pd.DataFrame({'true_label': filtered_true_labels, 'predicted_label': filtered_predicted_labels})\n",
    "filtered_labels_df.to_excel(filtered_labels_path, index=False)\n",
    "\n",
    "\n",
    "add_log_msg(f\"Number of filtered true labels: {len(filtered_true_labels)}\")\n",
    "add_log_msg(f\"Filtered labels path: {filtered_labels_path}\")"
   ]
  },
  {
   "cell_type": "code",
   "execution_count": 30,
   "metadata": {},
   "outputs": [
    {
     "data": {
      "text/plain": [
       "[[65, 28, 148, 165, 6],\n",
       " [65, 28, 46, 154, 148],\n",
       " [65, 28, 46, 154, 148],\n",
       " [65, 28, 46, 154, 135],\n",
       " [70, 154, 149, 52, 135],\n",
       " [70, 154, 149, 52, 135],\n",
       " [70, 154, 149, 52, 135],\n",
       " [70, 82, 154, 149, 65],\n",
       " [70, 82, 154, 149, 65],\n",
       " [70, 82, 154, 149, 65],\n",
       " [70, 154, 149, 52, 135],\n",
       " [70, 154, 149, 52, 135],\n",
       " [70, 82, 154, 149, 65],\n",
       " [70, 82, 154, 149, 65],\n",
       " [70, 82, 154, 149, 65],\n",
       " [70, 82, 154, 149, 65],\n",
       " [70, 82, 154, 29, 149],\n",
       " [70, 154, 149, 82, 65],\n",
       " [70, 154, 149, 82, 65],\n",
       " [70, 82, 154, 149, 65],\n",
       " [70, 82, 72, 154, 105],\n",
       " [70, 82, 154, 149, 105],\n",
       " [70, 154, 82, 149, 105],\n",
       " [70, 154, 82, 149, 105],\n",
       " [70, 154, 82, 149, 105],\n",
       " [70, 154, 105, 82, 149],\n",
       " [70, 154, 105, 82, 149],\n",
       " [65, 155, 6, 28, 106],\n",
       " [65, 155, 6, 28, 46],\n",
       " [65, 155, 6, 28, 46],\n",
       " [65, 6, 155, 28, 135],\n",
       " [65, 155, 6, 28, 46],\n",
       " [65, 155, 28, 6, 134],\n",
       " [65, 155, 28, 1, 0],\n",
       " [65, 28, 155, 6, 134],\n",
       " [65, 155, 6, 28, 154],\n",
       " [65, 28, 134, 138, 6],\n",
       " [65, 28, 155, 6, 134],\n",
       " [65, 28, 6, 155, 134],\n",
       " [65, 6, 155, 28, 46],\n",
       " [65, 6, 155, 28, 46],\n",
       " [65, 2, 0, 3, 1],\n",
       " [65, 28, 6, 155, 134],\n",
       " [65, 28, 6, 155, 134],\n",
       " [65, 6, 155, 28, 46],\n",
       " [65, 6, 28, 155, 46],\n",
       " [65, 155, 6, 28, 106],\n",
       " [65, 155, 6, 28, 46],\n",
       " [65, 155, 28, 6, 106],\n",
       " [65, 28, 6, 155, 134],\n",
       " [65, 6, 155, 28, 46],\n",
       " [65, 6, 155, 28, 46],\n",
       " [65, 28, 2, 1, 0],\n",
       " [65, 155, 6, 28, 46],\n",
       " [65, 28, 6, 1, 0],\n",
       " [65, 6, 155, 28, 46],\n",
       " [65, 6, 155, 28, 106],\n",
       " [70, 149, 154, 65, 52],\n",
       " [70, 149, 154, 65, 52],\n",
       " [70, 149, 154, 65, 52],\n",
       " [70, 154, 82, 149, 65],\n",
       " [70, 154, 82, 149, 65],\n",
       " [70, 154, 82, 149, 65],\n",
       " [70, 149, 154, 65, 52],\n",
       " [70, 149, 154, 65, 52],\n",
       " [70, 154, 82, 149, 65],\n",
       " [70, 154, 82, 149, 65],\n",
       " [70, 154, 82, 149, 65],\n",
       " [70, 154, 82, 149, 65],\n",
       " [70, 82, 154, 29, 149],\n",
       " [70, 154, 149, 82, 65],\n",
       " [70, 154, 149, 82, 65],\n",
       " [70, 154, 82, 149, 65],\n",
       " [70, 82, 154, 72, 105],\n",
       " [70, 82, 154, 149, 105],\n",
       " [70, 154, 82, 149, 105],\n",
       " [70, 154, 82, 149, 105],\n",
       " [70, 154, 82, 149, 105],\n",
       " [70, 154, 105, 149, 82],\n",
       " [70, 154, 105, 149, 82],\n",
       " [65, 28, 165, 155, 0],\n",
       " [65, 28, 6, 138, 148],\n",
       " [65, 28, 6, 46, 135],\n",
       " [65, 28, 46, 6, 135],\n",
       " [65, 28, 6, 46, 155],\n",
       " [65, 28, 6, 46, 148],\n",
       " [65, 28, 2, 1, 0],\n",
       " [65, 28, 6, 46, 135],\n",
       " [70, 154, 149, 135, 52],\n",
       " [70, 154, 149, 135, 52],\n",
       " [70, 154, 149, 135, 52],\n",
       " [70, 154, 82, 149, 65],\n",
       " [70, 154, 82, 149, 65],\n",
       " [70, 154, 82, 149, 65],\n",
       " [70, 154, 149, 135, 52],\n",
       " [70, 154, 149, 135, 52],\n",
       " [70, 154, 82, 149, 65],\n",
       " [70, 154, 82, 149, 65],\n",
       " [70, 154, 82, 149, 65],\n",
       " [70, 154, 82, 149, 65],\n",
       " [70, 82, 154, 29, 149],\n",
       " [70, 154, 149, 82, 65],\n",
       " [70, 154, 149, 82, 65],\n",
       " [70, 154, 82, 149, 65],\n",
       " [70, 82, 154, 105, 72],\n",
       " [70, 82, 154, 149, 105],\n",
       " [70, 154, 82, 149, 105],\n",
       " [70, 154, 82, 149, 105],\n",
       " [70, 154, 82, 149, 105],\n",
       " [70, 154, 105, 149, 82],\n",
       " [70, 154, 105, 149, 82],\n",
       " [65, 6, 155, 106, 141],\n",
       " [65, 6, 155, 106, 28],\n",
       " [65, 6, 28, 155, 153],\n",
       " [65, 6, 155, 106, 141],\n",
       " [65, 6, 155, 106, 141],\n",
       " [65, 2, 0, 3, 1],\n",
       " [65, 28, 134, 6, 0],\n",
       " [65, 155, 6, 106, 82],\n",
       " [70, 149, 65, 141, 154],\n",
       " [70, 149, 65, 141, 154],\n",
       " [70, 149, 65, 141, 154],\n",
       " [70, 82, 154, 149, 65],\n",
       " [70, 82, 154, 149, 65],\n",
       " [70, 82, 154, 149, 65],\n",
       " [70, 149, 65, 141, 154],\n",
       " [70, 149, 65, 141, 154],\n",
       " [70, 82, 154, 149, 65],\n",
       " [70, 82, 154, 149, 65],\n",
       " [70, 82, 154, 149, 65],\n",
       " [70, 82, 154, 149, 65],\n",
       " [70, 82, 154, 29, 149],\n",
       " [70, 149, 154, 82, 65],\n",
       " [70, 149, 154, 82, 65],\n",
       " [70, 82, 154, 149, 65],\n",
       " [70, 82, 154, 72, 105],\n",
       " [70, 82, 154, 149, 105],\n",
       " [70, 154, 82, 149, 105],\n",
       " [70, 154, 82, 149, 105],\n",
       " [70, 154, 82, 149, 105],\n",
       " [70, 154, 105, 149, 82],\n",
       " [70, 154, 105, 149, 82],\n",
       " [65, 28, 154, 46, 155],\n",
       " [65, 28, 154, 46, 135],\n",
       " [65, 28, 6, 46, 135],\n",
       " [65, 28, 6, 1, 0],\n",
       " [65, 28, 6, 46, 148],\n",
       " [65, 28, 154, 155, 46],\n",
       " [65, 154, 28, 132, 155],\n",
       " [65, 154, 28, 46, 135],\n",
       " [65, 28, 6, 46, 135],\n",
       " [70, 154, 149, 132, 135],\n",
       " [70, 154, 149, 132, 135],\n",
       " [70, 154, 149, 132, 135],\n",
       " [70, 82, 154, 149, 65],\n",
       " [70, 82, 154, 149, 65],\n",
       " [70, 82, 154, 149, 65],\n",
       " [70, 154, 149, 132, 135],\n",
       " [70, 154, 149, 132, 135],\n",
       " [70, 82, 154, 149, 65],\n",
       " [70, 82, 154, 149, 65],\n",
       " [70, 82, 154, 149, 65],\n",
       " [70, 82, 154, 149, 65],\n",
       " [70, 82, 154, 29, 149],\n",
       " [70, 154, 149, 82, 65],\n",
       " [70, 154, 149, 82, 65],\n",
       " [70, 82, 154, 149, 65],\n",
       " [70, 82, 72, 154, 105],\n",
       " [70, 82, 154, 149, 105],\n",
       " [70, 154, 82, 149, 105],\n",
       " [70, 154, 82, 149, 105],\n",
       " [70, 154, 82, 149, 105],\n",
       " [70, 154, 105, 82, 149],\n",
       " [70, 154, 105, 82, 149],\n",
       " [65, 6, 155, 106, 28],\n",
       " [65, 2, 0, 3, 1],\n",
       " [65, 155, 6, 106, 28],\n",
       " [65, 6, 155, 106, 28],\n",
       " [65, 6, 28, 155, 153],\n",
       " [65, 6, 155, 28, 106],\n",
       " [65, 155, 6, 106, 141],\n",
       " [65, 6, 155, 106, 28],\n",
       " [65, 28, 6, 1, 0],\n",
       " [65, 155, 6, 106, 82],\n",
       " [65, 6, 155, 28, 0],\n",
       " [65, 155, 6, 106, 28],\n",
       " [70, 149, 65, 141, 154],\n",
       " [70, 149, 65, 141, 154],\n",
       " [70, 149, 65, 141, 154],\n",
       " [70, 82, 154, 149, 65],\n",
       " [70, 82, 154, 149, 65],\n",
       " [70, 82, 154, 149, 65],\n",
       " [70, 149, 65, 141, 154],\n",
       " [70, 149, 65, 141, 154],\n",
       " [70, 82, 154, 149, 65],\n",
       " [70, 82, 154, 149, 65],\n",
       " [70, 82, 154, 149, 65],\n",
       " [70, 82, 154, 149, 65],\n",
       " [70, 82, 154, 29, 149],\n",
       " [70, 154, 149, 82, 65],\n",
       " [70, 154, 149, 82, 65],\n",
       " [70, 82, 154, 149, 65],\n",
       " [70, 82, 154, 72, 105],\n",
       " [70, 82, 154, 149, 105],\n",
       " [70, 154, 82, 149, 105],\n",
       " [70, 154, 82, 149, 105],\n",
       " [70, 154, 82, 149, 105],\n",
       " [70, 154, 105, 149, 82],\n",
       " [70, 154, 105, 149, 82],\n",
       " [65, 155, 6, 106, 28],\n",
       " [65, 28, 6, 1, 0],\n",
       " [65, 155, 6, 106, 135],\n",
       " [65, 2, 0, 3, 1],\n",
       " [65, 155, 6, 106, 141],\n",
       " [65, 2, 0, 3, 1],\n",
       " [65, 6, 155, 106, 135],\n",
       " [65, 6, 155, 106, 135],\n",
       " [65, 6, 155, 106, 135],\n",
       " [65, 6, 155, 106, 141],\n",
       " [65, 155, 6, 28, 0],\n",
       " [65, 155, 2, 1, 0],\n",
       " [65, 6, 155, 28, 46],\n",
       " [65, 155, 6, 106, 135],\n",
       " [65, 6, 155, 106, 135],\n",
       " [65, 155, 6, 106, 135],\n",
       " [65, 6, 155, 28, 46],\n",
       " [70, 149, 65, 141, 154],\n",
       " [70, 149, 65, 141, 154],\n",
       " [70, 149, 65, 141, 154],\n",
       " [70, 82, 154, 149, 65],\n",
       " [70, 82, 154, 149, 65],\n",
       " [70, 82, 154, 149, 65],\n",
       " [70, 149, 65, 141, 154],\n",
       " [70, 149, 65, 141, 154],\n",
       " [70, 82, 154, 149, 65],\n",
       " [70, 82, 154, 149, 65],\n",
       " [70, 82, 154, 149, 65],\n",
       " [70, 82, 154, 149, 65],\n",
       " [70, 82, 154, 29, 149],\n",
       " [70, 154, 149, 82, 65],\n",
       " [70, 154, 149, 82, 65],\n",
       " [70, 82, 154, 149, 65],\n",
       " [70, 82, 154, 72, 105],\n",
       " [70, 82, 154, 149, 105],\n",
       " [70, 154, 82, 105, 149],\n",
       " [70, 154, 82, 105, 149],\n",
       " [70, 154, 82, 105, 149],\n",
       " [70, 154, 105, 149, 82],\n",
       " [70, 154, 105, 149, 82],\n",
       " [65, 6, 155, 106, 135],\n",
       " [65, 2, 0, 3, 1],\n",
       " [65, 6, 155, 106, 135],\n",
       " [65, 6, 155, 106, 135],\n",
       " [65, 155, 6, 106, 135],\n",
       " [65, 6, 155, 106, 135],\n",
       " [65, 155, 6, 28, 0],\n",
       " [65, 155, 6, 106, 135],\n",
       " [65, 6, 155, 28, 106],\n",
       " [65, 6, 155, 106, 135],\n",
       " [65, 6, 155, 106, 141],\n",
       " [65, 6, 155, 106, 141],\n",
       " [65, 155, 6, 106, 135],\n",
       " [65, 6, 155, 106, 135],\n",
       " [65, 6, 155, 106, 135],\n",
       " [65, 6, 155, 106, 135],\n",
       " [65, 2, 0, 3, 1],\n",
       " [65, 6, 155, 28, 106],\n",
       " [65, 155, 6, 106, 135],\n",
       " [65, 155, 6, 106, 141],\n",
       " [65, 28, 6, 155, 0],\n",
       " [65, 6, 155, 106, 135],\n",
       " [65, 155, 2, 1, 0],\n",
       " [65, 6, 155, 28, 106],\n",
       " [65, 155, 6, 106, 135],\n",
       " [65, 6, 155, 28, 106],\n",
       " [65, 6, 155, 106, 135],\n",
       " [65, 6, 155, 28, 106],\n",
       " [65, 155, 6, 106, 135],\n",
       " [65, 155, 6, 28, 0],\n",
       " [65, 155, 6, 106, 135],\n",
       " [65, 155, 6, 28, 0],\n",
       " [65, 28, 6, 1, 0],\n",
       " [65, 155, 6, 106, 135],\n",
       " [65, 155, 6, 106, 135],\n",
       " [65, 2, 0, 3, 1],\n",
       " [65, 155, 6, 106, 28],\n",
       " [70, 149, 65, 141, 154],\n",
       " [70, 149, 65, 141, 154],\n",
       " [70, 149, 65, 141, 154],\n",
       " [70, 82, 154, 149, 65],\n",
       " [70, 82, 154, 149, 65],\n",
       " [70, 82, 154, 149, 65],\n",
       " [70, 149, 65, 141, 154],\n",
       " [70, 149, 65, 141, 154],\n",
       " [70, 82, 154, 149, 65],\n",
       " [70, 82, 154, 149, 65],\n",
       " [70, 82, 154, 149, 65],\n",
       " [70, 82, 154, 149, 65],\n",
       " [70, 82, 154, 29, 149],\n",
       " [70, 154, 149, 82, 65],\n",
       " [70, 154, 149, 82, 65],\n",
       " [70, 82, 154, 149, 65],\n",
       " [70, 82, 154, 72, 105],\n",
       " [70, 82, 154, 149, 105],\n",
       " [70, 154, 82, 149, 105],\n",
       " [70, 154, 82, 149, 105],\n",
       " [70, 154, 82, 149, 105],\n",
       " [70, 154, 105, 149, 82],\n",
       " [70, 154, 105, 149, 82],\n",
       " [65, 2, 0, 3, 1],\n",
       " [65, 155, 6, 28, 0],\n",
       " [65, 2, 0, 3, 1],\n",
       " [65, 28, 6, 155, 0],\n",
       " [65, 6, 155, 106, 135],\n",
       " [65, 155, 6, 106, 135],\n",
       " [65, 6, 155, 106, 135],\n",
       " [65, 155, 6, 106, 135],\n",
       " [65, 6, 28, 1, 0],\n",
       " [65, 155, 6, 106, 135],\n",
       " [65, 155, 6, 106, 135],\n",
       " [65, 6, 155, 106, 135],\n",
       " [65, 6, 155, 106, 135],\n",
       " [65, 6, 155, 106, 135],\n",
       " [65, 6, 155, 106, 135],\n",
       " [65, 155, 6, 106, 135],\n",
       " [65, 155, 6, 28, 0],\n",
       " [65, 155, 6, 106, 135],\n",
       " [65, 155, 6, 28, 0],\n",
       " [65, 6, 155, 106, 135],\n",
       " [65, 155, 2, 1, 0],\n",
       " [65, 6, 155, 106, 135],\n",
       " [65, 6, 155, 28, 106],\n",
       " [65, 6, 155, 106, 28],\n",
       " [65, 6, 155, 106, 135],\n",
       " [70, 149, 65, 141, 154],\n",
       " [70, 149, 65, 141, 154],\n",
       " [70, 149, 65, 141, 154],\n",
       " [70, 154, 82, 149, 65],\n",
       " [70, 154, 82, 149, 65],\n",
       " [70, 154, 82, 149, 65],\n",
       " [70, 149, 65, 141, 154],\n",
       " [70, 149, 65, 141, 154],\n",
       " [70, 154, 82, 149, 65],\n",
       " [70, 154, 82, 149, 65],\n",
       " [70, 154, 82, 149, 65],\n",
       " [70, 154, 82, 149, 65],\n",
       " [70, 82, 154, 29, 149],\n",
       " [70, 149, 154, 82, 65],\n",
       " [70, 149, 154, 82, 65],\n",
       " [70, 154, 82, 149, 65],\n",
       " [70, 82, 154, 105, 72],\n",
       " [70, 82, 154, 149, 105],\n",
       " [70, 154, 82, 149, 105],\n",
       " [70, 154, 82, 149, 105],\n",
       " [70, 154, 82, 149, 105],\n",
       " [70, 154, 105, 149, 82],\n",
       " [70, 154, 105, 149, 82],\n",
       " [65, 28, 46, 6, 154],\n",
       " [65, 154, 28, 132, 46],\n",
       " [65, 28, 154, 46, 155],\n",
       " [65, 28, 6, 46, 165],\n",
       " [65, 28, 154, 46, 6],\n",
       " [65, 28, 46, 6, 154],\n",
       " [65, 28, 154, 46, 6],\n",
       " [65, 28, 6, 46, 154],\n",
       " [65, 28, 6, 46, 135],\n",
       " [65, 154, 28, 132, 155],\n",
       " [65, 28, 154, 6, 46],\n",
       " [65, 28, 154, 46, 6],\n",
       " [65, 28, 6, 46, 154],\n",
       " [65, 28, 6, 46, 155],\n",
       " [65, 28, 6, 1, 0],\n",
       " [65, 28, 155, 6, 46],\n",
       " [65, 28, 154, 6, 46],\n",
       " [65, 28, 154, 46, 6],\n",
       " [65, 28, 6, 46, 165],\n",
       " [70, 154, 149, 132, 52],\n",
       " [70, 154, 149, 132, 52],\n",
       " [70, 154, 149, 132, 52],\n",
       " [70, 154, 82, 149, 65],\n",
       " [70, 154, 82, 149, 65],\n",
       " [70, 154, 82, 149, 65],\n",
       " [70, 154, 149, 132, 52],\n",
       " [70, 154, 149, 132, 52],\n",
       " [70, 154, 82, 149, 65],\n",
       " [70, 154, 82, 149, 65],\n",
       " [70, 154, 82, 149, 65],\n",
       " [70, 154, 82, 149, 65],\n",
       " [70, 82, 154, 29, 149],\n",
       " [70, 154, 149, 82, 65],\n",
       " [70, 154, 149, 82, 65],\n",
       " [70, 154, 82, 149, 65],\n",
       " [70, 82, 72, 154, 105],\n",
       " [70, 82, 154, 149, 105],\n",
       " [70, 154, 82, 149, 105],\n",
       " [70, 154, 82, 149, 105],\n",
       " [70, 154, 82, 149, 105],\n",
       " [70, 154, 105, 149, 82],\n",
       " [70, 154, 105, 149, 82],\n",
       " [65, 155, 6, 28, 46],\n",
       " [65, 6, 155, 28, 46],\n",
       " [65, 28, 6, 155, 46],\n",
       " [65, 155, 28, 6, 46],\n",
       " [65, 6, 28, 155, 46],\n",
       " [65, 28, 155, 1, 0],\n",
       " [65, 6, 28, 155, 46],\n",
       " [65, 6, 28, 155, 46],\n",
       " [65, 155, 28, 6, 46],\n",
       " [65, 28, 6, 155, 46],\n",
       " [65, 2, 0, 3, 1],\n",
       " [65, 155, 28, 6, 46],\n",
       " [65, 28, 6, 155, 46],\n",
       " [65, 6, 28, 155, 46],\n",
       " [70, 149, 154, 65, 52],\n",
       " [70, 149, 154, 65, 52],\n",
       " [70, 149, 154, 65, 52],\n",
       " [70, 82, 154, 149, 65],\n",
       " [70, 82, 154, 149, 65],\n",
       " [70, 82, 154, 149, 65],\n",
       " [70, 149, 154, 65, 52],\n",
       " [70, 149, 154, 65, 52],\n",
       " [70, 82, 154, 149, 65],\n",
       " [70, 82, 154, 149, 65],\n",
       " [70, 82, 154, 149, 65],\n",
       " [70, 82, 154, 149, 65],\n",
       " [70, 82, 154, 29, 149],\n",
       " [70, 149, 154, 82, 65],\n",
       " [70, 149, 154, 82, 65],\n",
       " [70, 82, 154, 149, 65],\n",
       " [70, 82, 154, 105, 72],\n",
       " [70, 82, 154, 149, 105],\n",
       " [70, 154, 82, 149, 105],\n",
       " [70, 154, 82, 149, 105],\n",
       " [70, 154, 82, 149, 105],\n",
       " [70, 154, 105, 149, 82],\n",
       " [70, 154, 105, 149, 82],\n",
       " [65, 155, 46, 154, 28],\n",
       " [65, 28, 6, 46, 155],\n",
       " [65, 155, 46, 28, 154],\n",
       " [65, 28, 6, 46, 155],\n",
       " [65, 28, 46, 6, 155],\n",
       " [65, 46, 28, 6, 155],\n",
       " [65, 155, 28, 46, 6],\n",
       " [65, 28, 46, 6, 155],\n",
       " [65, 28, 6, 46, 155],\n",
       " [65, 28, 6, 46, 155],\n",
       " [65, 46, 155, 28, 6],\n",
       " [65, 6, 46, 28, 155],\n",
       " [65, 28, 155, 6, 46],\n",
       " [65, 28, 46, 6, 155],\n",
       " [65, 28, 46, 6, 155],\n",
       " [65, 2, 0, 3, 1],\n",
       " [70, 154, 149, 52, 65],\n",
       " [70, 154, 149, 52, 65],\n",
       " [70, 154, 149, 52, 65],\n",
       " [70, 154, 149, 82, 65],\n",
       " [70, 154, 149, 82, 65],\n",
       " [70, 154, 149, 82, 65],\n",
       " [70, 154, 149, 52, 65],\n",
       " [70, 154, 149, 52, 65],\n",
       " [70, 154, 149, 82, 65],\n",
       " [70, 154, 149, 82, 65],\n",
       " [70, 154, 149, 82, 65],\n",
       " [70, 154, 149, 82, 65],\n",
       " [70, 82, 154, 29, 149],\n",
       " [70, 154, 149, 82, 65],\n",
       " [70, 154, 149, 82, 65],\n",
       " [70, 154, 149, 82, 65],\n",
       " [70, 154, 82, 72, 105],\n",
       " [70, 82, 154, 149, 105],\n",
       " [70, 154, 82, 149, 105],\n",
       " [70, 154, 82, 149, 105],\n",
       " [70, 154, 82, 149, 105],\n",
       " [70, 154, 105, 149, 82],\n",
       " [70, 154, 105, 149, 82],\n",
       " [65, 155, 6, 106, 135],\n",
       " [65, 6, 155, 106, 141],\n",
       " [65, 155, 6, 106, 135],\n",
       " [65, 6, 155, 106, 141],\n",
       " [65, 2, 0, 3, 1],\n",
       " [65, 155, 6, 28, 0],\n",
       " [65, 2, 0, 3, 1],\n",
       " [65, 6, 155, 106, 141],\n",
       " [65, 6, 155, 106, 141],\n",
       " [65, 6, 155, 106, 28],\n",
       " [65, 6, 155, 106, 141],\n",
       " [65, 6, 155, 28, 141],\n",
       " [65, 155, 6, 28, 0],\n",
       " [65, 6, 155, 28, 141],\n",
       " [65, 28, 6, 1, 0],\n",
       " [65, 2, 0, 3, 1],\n",
       " [65, 155, 6, 106, 135],\n",
       " [65, 6, 155, 106, 141],\n",
       " [65, 155, 6, 28, 0],\n",
       " [65, 6, 155, 106, 141],\n",
       " [65, 155, 6, 106, 28],\n",
       " [65, 6, 155, 28, 141],\n",
       " [70, 149, 65, 141, 154],\n",
       " [70, 149, 65, 141, 154],\n",
       " [70, 149, 65, 141, 154],\n",
       " [70, 82, 154, 149, 65],\n",
       " [70, 82, 154, 149, 65],\n",
       " [70, 82, 154, 149, 65],\n",
       " [70, 149, 65, 141, 154],\n",
       " [70, 149, 65, 141, 154],\n",
       " [70, 82, 154, 149, 65],\n",
       " [70, 82, 154, 149, 65],\n",
       " [70, 82, 154, 149, 65],\n",
       " [70, 82, 154, 149, 65],\n",
       " [70, 82, 154, 29, 149],\n",
       " [70, 149, 154, 82, 65],\n",
       " [70, 149, 154, 82, 65],\n",
       " [70, 82, 154, 149, 65],\n",
       " [70, 82, 154, 72, 105],\n",
       " [70, 82, 154, 149, 105],\n",
       " [70, 154, 82, 149, 105],\n",
       " [70, 154, 82, 149, 105],\n",
       " [70, 154, 82, 149, 105],\n",
       " [70, 154, 105, 82, 149],\n",
       " [70, 154, 105, 82, 149],\n",
       " [65, 155, 6, 106, 46],\n",
       " [65, 155, 6, 106, 46],\n",
       " [65, 6, 155, 106, 141],\n",
       " [65, 155, 6, 106, 46],\n",
       " [65, 6, 155, 28, 46],\n",
       " [65, 6, 155, 106, 28],\n",
       " [65, 155, 6, 106, 46],\n",
       " [65, 2, 0, 3, 1],\n",
       " [65, 155, 6, 106, 46],\n",
       " [65, 155, 2, 1, 0],\n",
       " [65, 155, 6, 106, 46],\n",
       " [65, 6, 155, 106, 141],\n",
       " [65, 2, 0, 3, 1],\n",
       " [65, 155, 6, 106, 46],\n",
       " [65, 6, 155, 106, 46],\n",
       " [65, 6, 155, 106, 46],\n",
       " [65, 155, 6, 106, 46],\n",
       " [65, 6, 155, 28, 46],\n",
       " [65, 155, 6, 106, 46],\n",
       " [65, 155, 6, 106, 141],\n",
       " [65, 155, 6, 28, 46],\n",
       " [65, 155, 6, 106, 141],\n",
       " [65, 155, 6, 106, 141],\n",
       " [65, 6, 155, 106, 46],\n",
       " [65, 155, 6, 106, 46],\n",
       " [70, 149, 65, 141, 154],\n",
       " [70, 149, 65, 141, 154],\n",
       " [70, 149, 65, 141, 154],\n",
       " [70, 82, 154, 149, 65],\n",
       " [70, 82, 154, 149, 65],\n",
       " [70, 82, 154, 149, 65],\n",
       " [70, 149, 65, 141, 154],\n",
       " [70, 149, 65, 141, 154],\n",
       " [70, 82, 154, 149, 65],\n",
       " [70, 82, 154, 149, 65],\n",
       " [70, 82, 154, 149, 65],\n",
       " [70, 82, 154, 149, 65],\n",
       " [70, 82, 154, 29, 149],\n",
       " [70, 154, 149, 82, 65],\n",
       " [70, 154, 149, 82, 65],\n",
       " [70, 82, 154, 149, 65],\n",
       " [70, 82, 154, 72, 105],\n",
       " [70, 82, 154, 149, 105],\n",
       " [70, 82, 154, 149, 105],\n",
       " [70, 82, 154, 149, 105],\n",
       " [70, 82, 154, 149, 105],\n",
       " [70, 154, 105, 82, 149],\n",
       " [70, 154, 105, 82, 149],\n",
       " [65, 155, 6, 28, 106],\n",
       " [65, 2, 0, 3, 1],\n",
       " [65, 28, 6, 1, 0],\n",
       " [65, 6, 155, 106, 28],\n",
       " [65, 155, 6, 106, 82],\n",
       " [65, 6, 155, 106, 28],\n",
       " [65, 155, 6, 106, 132],\n",
       " [65, 155, 6, 28, 0],\n",
       " [70, 149, 65, 141, 154],\n",
       " [70, 149, 65, 141, 154],\n",
       " [70, 149, 65, 141, 154],\n",
       " [70, 154, 82, 149, 65],\n",
       " [70, 154, 82, 149, 65],\n",
       " [70, 154, 82, 149, 65],\n",
       " [70, 149, 65, 141, 154],\n",
       " [70, 149, 65, 141, 154],\n",
       " [70, 154, 82, 149, 65],\n",
       " [70, 154, 82, 149, 65],\n",
       " [70, 154, 82, 149, 65],\n",
       " [70, 154, 82, 149, 65],\n",
       " [70, 82, 154, 29, 149],\n",
       " [70, 154, 149, 82, 65],\n",
       " [70, 154, 149, 82, 65],\n",
       " [70, 154, 82, 149, 65],\n",
       " [70, 82, 154, 72, 105],\n",
       " [70, 82, 154, 149, 105],\n",
       " [70, 154, 82, 149, 105],\n",
       " [70, 154, 82, 149, 105],\n",
       " [70, 154, 82, 149, 105],\n",
       " [70, 154, 105, 149, 82],\n",
       " [70, 154, 105, 149, 82],\n",
       " [65, 28, 134, 155, 165],\n",
       " [65, 28, 6, 46, 134],\n",
       " [65, 28, 155, 6, 46],\n",
       " [65, 28, 6, 134, 46],\n",
       " [65, 28, 6, 46, 134],\n",
       " [65, 28, 6, 46, 134],\n",
       " [65, 28, 155, 6, 134],\n",
       " [65, 28, 6, 46, 155],\n",
       " [65, 28, 134, 6, 155],\n",
       " [65, 28, 6, 134, 46],\n",
       " [65, 28, 6, 134, 46],\n",
       " [65, 155, 28, 134, 46],\n",
       " [70, 149, 154, 135, 65],\n",
       " [70, 149, 154, 135, 65],\n",
       " [70, 149, 154, 135, 65],\n",
       " [70, 154, 149, 82, 65],\n",
       " [70, 154, 149, 82, 65],\n",
       " [70, 154, 149, 82, 65],\n",
       " [70, 149, 154, 135, 65],\n",
       " [70, 149, 154, 135, 65],\n",
       " [70, 154, 149, 82, 65],\n",
       " [70, 154, 149, 82, 65],\n",
       " [70, 154, 149, 82, 65],\n",
       " [70, 154, 149, 82, 65],\n",
       " [70, 82, 154, 29, 149],\n",
       " [70, 154, 149, 82, 65],\n",
       " [70, 154, 149, 82, 65],\n",
       " [70, 154, 149, 82, 65],\n",
       " [70, 154, 82, 72, 105],\n",
       " [70, 82, 154, 149, 105],\n",
       " [70, 154, 82, 149, 105],\n",
       " [70, 154, 82, 149, 105],\n",
       " [70, 154, 82, 149, 105],\n",
       " [70, 154, 105, 149, 82],\n",
       " [70, 154, 105, 149, 82],\n",
       " [65, 28, 46, 6, 154],\n",
       " [65, 28, 46, 154, 6],\n",
       " [65, 28, 46, 6, 154],\n",
       " [65, 28, 46, 154, 6],\n",
       " [65, 28, 46, 154, 6],\n",
       " [65, 28, 46, 6, 135],\n",
       " [65, 28, 46, 154, 135],\n",
       " [65, 28, 154, 46, 135],\n",
       " [65, 28, 6, 148, 165],\n",
       " [70, 154, 149, 135, 132],\n",
       " [70, 154, 149, 135, 132],\n",
       " [70, 154, 149, 135, 132],\n",
       " [70, 154, 82, 149, 65],\n",
       " [70, 154, 82, 149, 65],\n",
       " [70, 154, 82, 149, 65],\n",
       " [70, 154, 149, 135, 132],\n",
       " [70, 154, 149, 135, 132],\n",
       " [70, 154, 82, 149, 65],\n",
       " [70, 154, 82, 149, 65],\n",
       " [70, 154, 82, 149, 65],\n",
       " [70, 154, 82, 149, 65],\n",
       " [70, 82, 154, 29, 149],\n",
       " [70, 154, 149, 82, 65],\n",
       " [70, 154, 149, 82, 65],\n",
       " [70, 154, 82, 149, 65],\n",
       " [70, 82, 154, 72, 105],\n",
       " [70, 82, 154, 149, 105],\n",
       " [70, 154, 82, 149, 105],\n",
       " [70, 154, 82, 149, 105],\n",
       " [70, 154, 82, 149, 105],\n",
       " [70, 154, 105, 149, 82],\n",
       " [70, 154, 105, 149, 82],\n",
       " [65, 6, 155, 28, 46],\n",
       " [65, 6, 155, 28, 106],\n",
       " [65, 155, 28, 1, 0],\n",
       " [65, 155, 28, 6, 106],\n",
       " [65, 155, 6, 28, 106],\n",
       " [65, 6, 155, 28, 46],\n",
       " [65, 28, 2, 1, 0],\n",
       " [65, 6, 155, 28, 46],\n",
       " [65, 6, 155, 28, 46],\n",
       " [65, 28, 6, 155, 134],\n",
       " [65, 6, 155, 28, 106],\n",
       " [65, 155, 6, 28, 106],\n",
       " [65, 155, 28, 6, 72],\n",
       " [65, 155, 28, 6, 106],\n",
       " [65, 6, 155, 28, 46],\n",
       " [65, 155, 28, 6, 106],\n",
       " [65, 2, 0, 3, 1],\n",
       " [65, 28, 134, 138, 19],\n",
       " [65, 6, 155, 28, 106],\n",
       " [65, 28, 6, 155, 134],\n",
       " [65, 155, 6, 28, 141],\n",
       " [70, 149, 154, 65, 52],\n",
       " [70, 149, 154, 65, 52],\n",
       " [70, 149, 154, 65, 52],\n",
       " [70, 154, 82, 149, 65],\n",
       " [70, 154, 82, 149, 65],\n",
       " [70, 154, 82, 149, 65],\n",
       " [70, 149, 154, 65, 52],\n",
       " [70, 149, 154, 65, 52],\n",
       " [70, 154, 82, 149, 65],\n",
       " [70, 154, 82, 149, 65],\n",
       " [70, 154, 82, 149, 65],\n",
       " [70, 154, 82, 149, 65],\n",
       " [70, 82, 154, 29, 149],\n",
       " [70, 154, 149, 82, 65],\n",
       " [70, 154, 149, 82, 65],\n",
       " [70, 154, 82, 149, 65],\n",
       " [70, 82, 154, 105, 72],\n",
       " [70, 82, 154, 149, 105],\n",
       " [70, 154, 82, 105, 149],\n",
       " [70, 154, 82, 105, 149],\n",
       " [70, 154, 82, 105, 149],\n",
       " [70, 154, 105, 149, 82],\n",
       " [70, 154, 105, 149, 82],\n",
       " [65, 155, 28, 46, 6],\n",
       " [65, 6, 28, 155, 46],\n",
       " [65, 28, 2, 1, 0],\n",
       " [65, 6, 28, 46, 155],\n",
       " [65, 28, 6, 1, 0],\n",
       " [65, 28, 6, 155, 46],\n",
       " [65, 28, 134, 138, 0],\n",
       " [65, 6, 155, 28, 46],\n",
       " [65, 6, 28, 155, 46],\n",
       " [65, 6, 28, 155, 46],\n",
       " [65, 155, 28, 6, 46],\n",
       " [65, 155, 6, 28, 46],\n",
       " [65, 6, 155, 28, 46],\n",
       " [65, 155, 6, 28, 46],\n",
       " [65, 28, 155, 6, 46],\n",
       " [65, 155, 28, 46, 6],\n",
       " [65, 155, 6, 28, 46],\n",
       " [65, 155, 6, 28, 46],\n",
       " [65, 6, 155, 28, 46],\n",
       " [65, 155, 6, 28, 46],\n",
       " [65, 6, 28, 155, 46],\n",
       " [65, 2, 0, 3, 1],\n",
       " [65, 155, 28, 6, 46],\n",
       " [65, 28, 6, 155, 46],\n",
       " [65, 6, 28, 155, 46],\n",
       " [65, 28, 6, 155, 46],\n",
       " [65, 155, 6, 28, 46],\n",
       " [70, 149, 154, 65, 52],\n",
       " [70, 149, 154, 65, 52],\n",
       " [70, 149, 154, 65, 52],\n",
       " [70, 82, 154, 149, 65],\n",
       " [70, 82, 154, 149, 65],\n",
       " [70, 82, 154, 149, 65],\n",
       " [70, 149, 154, 65, 52],\n",
       " [70, 149, 154, 65, 52],\n",
       " [70, 82, 154, 149, 65],\n",
       " [70, 82, 154, 149, 65],\n",
       " [70, 82, 154, 149, 65],\n",
       " [70, 82, 154, 149, 65],\n",
       " [70, 82, 154, 29, 149],\n",
       " [70, 154, 149, 82, 65],\n",
       " [70, 154, 149, 82, 65],\n",
       " [70, 82, 154, 149, 65],\n",
       " [70, 82, 154, 72, 105],\n",
       " [70, 82, 154, 149, 105],\n",
       " [70, 154, 82, 149, 105],\n",
       " [70, 154, 82, 149, 105],\n",
       " [70, 154, 82, 149, 105],\n",
       " [70, 154, 105, 149, 82],\n",
       " [70, 154, 105, 149, 82],\n",
       " [65, 155, 28, 6, 72],\n",
       " [65, 155, 28, 6, 46],\n",
       " [65, 28, 6, 134, 155],\n",
       " [65, 28, 6, 155, 46],\n",
       " [65, 28, 155, 1, 0],\n",
       " [65, 28, 6, 134, 46],\n",
       " [65, 155, 28, 72, 6],\n",
       " [65, 28, 6, 46, 135],\n",
       " [70, 154, 149, 135, 82],\n",
       " [70, 154, 149, 135, 82],\n",
       " [70, 154, 149, 135, 82],\n",
       " [70, 82, 154, 149, 65],\n",
       " [70, 82, 154, 149, 65],\n",
       " [70, 82, 154, 149, 65],\n",
       " [70, 154, 149, 135, 82],\n",
       " [70, 154, 149, 135, 82],\n",
       " [70, 82, 154, 149, 65],\n",
       " [70, 82, 154, 149, 65],\n",
       " [70, 82, 154, 149, 65],\n",
       " [70, 82, 154, 149, 65],\n",
       " [70, 82, 154, 29, 149],\n",
       " [70, 154, 149, 82, 65],\n",
       " [70, 154, 149, 82, 65],\n",
       " [70, 82, 154, 149, 65],\n",
       " [70, 82, 72, 154, 105],\n",
       " [70, 82, 154, 149, 105],\n",
       " [70, 154, 82, 105, 149],\n",
       " [70, 154, 82, 105, 149],\n",
       " [70, 154, 82, 105, 149],\n",
       " [70, 154, 105, 82, 149],\n",
       " [70, 154, 105, 82, 149],\n",
       " [65, 154, 28, 132, 46],\n",
       " [65, 28, 6, 46, 135],\n",
       " [65, 28, 46, 154, 135],\n",
       " [65, 28, 46, 6, 155],\n",
       " [65, 28, 6, 1, 0],\n",
       " [65, 154, 28, 46, 135],\n",
       " [65, 28, 46, 6, 135],\n",
       " [65, 28, 46, 135, 154],\n",
       " [70, 154, 149, 132, 135],\n",
       " [70, 154, 149, 132, 135],\n",
       " [70, 154, 149, 132, 135],\n",
       " [70, 82, 154, 149, 65],\n",
       " [70, 82, 154, 149, 65],\n",
       " [70, 82, 154, 149, 65],\n",
       " [70, 154, 149, 132, 135],\n",
       " [70, 154, 149, 132, 135],\n",
       " [70, 82, 154, 149, 65],\n",
       " [70, 82, 154, 149, 65],\n",
       " [70, 82, 154, 149, 65],\n",
       " [70, 82, 154, 149, 65],\n",
       " [70, 82, 154, 29, 149],\n",
       " [70, 149, 154, 82, 65],\n",
       " [70, 149, 154, 82, 65],\n",
       " [70, 82, 154, 149, 65],\n",
       " [70, 82, 154, 72, 105],\n",
       " [70, 82, 154, 149, 105],\n",
       " [70, 154, 82, 149, 105],\n",
       " [70, 154, 82, 149, 105],\n",
       " [70, 154, 82, 149, 105],\n",
       " [70, 154, 105, 82, 149],\n",
       " [70, 154, 105, 82, 149],\n",
       " [65, 28, 46, 6, 154],\n",
       " [65, 28, 6, 46, 134],\n",
       " [65, 28, 46, 6, 154],\n",
       " [65, 28, 46, 6, 154],\n",
       " [65, 28, 154, 46, 155],\n",
       " [65, 28, 46, 6, 155],\n",
       " [65, 28, 46, 6, 154],\n",
       " [65, 28, 46, 6, 154],\n",
       " [65, 28, 46, 6, 154],\n",
       " [65, 28, 46, 154, 135],\n",
       " [65, 28, 6, 46, 134],\n",
       " [70, 154, 149, 132, 135],\n",
       " [70, 154, 149, 132, 135],\n",
       " [70, 154, 149, 132, 135],\n",
       " [70, 82, 154, 149, 65],\n",
       " [70, 82, 154, 149, 65],\n",
       " [70, 82, 154, 149, 65],\n",
       " [70, 154, 149, 132, 135],\n",
       " [70, 154, 149, 132, 135],\n",
       " [70, 82, 154, 149, 65],\n",
       " [70, 82, 154, 149, 65],\n",
       " [70, 82, 154, 149, 65],\n",
       " [70, 82, 154, 149, 65],\n",
       " [70, 82, 154, 29, 149],\n",
       " [70, 154, 149, 82, 65],\n",
       " [70, 154, 149, 82, 65],\n",
       " [70, 82, 154, 149, 65],\n",
       " [70, 82, 72, 154, 105],\n",
       " [70, 82, 154, 149, 105],\n",
       " [70, 154, 82, 105, 149],\n",
       " [70, 154, 82, 105, 149],\n",
       " [70, 154, 82, 105, 149],\n",
       " [70, 154, 105, 82, 149],\n",
       " [70, 154, 105, 82, 149],\n",
       " [65, 6, 155, 106, 135],\n",
       " [65, 6, 155, 28, 106],\n",
       " [65, 6, 155, 106, 135],\n",
       " [65, 155, 6, 28, 0],\n",
       " [65, 2, 0, 3, 1],\n",
       " [65, 6, 155, 106, 135],\n",
       " [65, 6, 155, 106, 135],\n",
       " [65, 155, 6, 106, 135],\n",
       " [65, 155, 6, 106, 141],\n",
       " [65, 6, 155, 106, 135],\n",
       " [65, 6, 155, 106, 135],\n",
       " [65, 155, 6, 106, 135],\n",
       " [65, 6, 155, 28, 106],\n",
       " [65, 155, 6, 106, 135],\n",
       " [65, 6, 155, 106, 135],\n",
       " [65, 28, 6, 155, 0],\n",
       " [65, 155, 6, 106, 135],\n",
       " [65, 6, 155, 106, 141],\n",
       " [65, 155, 6, 106, 135],\n",
       " [65, 155, 6, 106, 135],\n",
       " [65, 155, 6, 106, 28],\n",
       " [65, 6, 155, 106, 135],\n",
       " [65, 6, 155, 106, 135],\n",
       " [65, 6, 155, 28, 106],\n",
       " [65, 155, 6, 28, 0],\n",
       " [65, 6, 155, 28, 106],\n",
       " [65, 2, 0, 3, 1],\n",
       " [65, 2, 0, 3, 1],\n",
       " [65, 28, 6, 1, 0],\n",
       " [65, 6, 155, 106, 135],\n",
       " [65, 6, 155, 28, 106],\n",
       " [65, 155, 2, 1, 0],\n",
       " [70, 149, 65, 141, 154],\n",
       " [70, 149, 65, 141, 154],\n",
       " [70, 149, 65, 141, 154],\n",
       " [70, 154, 82, 149, 65],\n",
       " [70, 154, 82, 149, 65],\n",
       " [70, 154, 82, 149, 65],\n",
       " [70, 149, 65, 141, 154],\n",
       " [70, 149, 65, 141, 154],\n",
       " [70, 154, 82, 149, 65],\n",
       " [70, 154, 82, 149, 65],\n",
       " [70, 154, 82, 149, 65],\n",
       " [70, 154, 82, 149, 65],\n",
       " [70, 82, 154, 29, 149],\n",
       " [70, 154, 149, 82, 65],\n",
       " [70, 154, 149, 82, 65],\n",
       " [70, 154, 82, 149, 65],\n",
       " [70, 82, 154, 72, 105],\n",
       " [70, 82, 154, 149, 105],\n",
       " [70, 154, 82, 149, 105],\n",
       " [70, 154, 82, 149, 105],\n",
       " [70, 154, 82, 149, 105],\n",
       " [70, 154, 105, 149, 82],\n",
       " [70, 154, 105, 149, 82],\n",
       " [65, 155, 2, 1, 0],\n",
       " [65, 155, 6, 106, 46],\n",
       " [65, 155, 6, 106, 46],\n",
       " [65, 6, 155, 106, 141],\n",
       " [65, 155, 6, 106, 46],\n",
       " [65, 6, 155, 106, 141],\n",
       " [65, 6, 155, 106, 141],\n",
       " [65, 155, 6, 106, 46],\n",
       " [65, 6, 155, 106, 28],\n",
       " [65, 6, 28, 155, 46],\n",
       " [65, 155, 6, 28, 0],\n",
       " [65, 6, 155, 106, 28],\n",
       " [65, 2, 0, 3, 1],\n",
       " [65, 2, 0, 3, 1],\n",
       " [65, 155, 6, 106, 82],\n",
       " [65, 6, 155, 106, 141],\n",
       " [65, 155, 6, 28, 0],\n",
       " [65, 155, 6, 106, 141],\n",
       " [65, 6, 155, 106, 141],\n",
       " [65, 6, 28, 155, 46],\n",
       " [65, 155, 6, 106, 28],\n",
       " [70, 149, 65, 141, 154],\n",
       " [70, 149, 65, 141, 154],\n",
       " [70, 149, 65, 141, 154],\n",
       " [70, 82, 154, 149, 65],\n",
       " [70, 82, 154, 149, 65],\n",
       " [70, 82, 154, 149, 65],\n",
       " [70, 149, 65, 141, 154],\n",
       " [70, 149, 65, 141, 154],\n",
       " [70, 82, 154, 149, 65],\n",
       " [70, 82, 154, 149, 65],\n",
       " [70, 82, 154, 149, 65],\n",
       " [70, 82, 154, 149, 65],\n",
       " [70, 82, 154, 29, 149],\n",
       " [70, 149, 154, 82, 65],\n",
       " [70, 149, 154, 82, 65],\n",
       " [70, 82, 154, 149, 65],\n",
       " [70, 82, 154, 72, 105],\n",
       " [70, 82, 154, 149, 105],\n",
       " [70, 154, 82, 149, 105],\n",
       " [70, 154, 82, 149, 105],\n",
       " [70, 154, 82, 149, 105],\n",
       " [70, 154, 105, 149, 82],\n",
       " [70, 154, 105, 149, 82],\n",
       " [65, 155, 6, 106, 135],\n",
       " [65, 6, 155, 28, 106],\n",
       " [65, 155, 6, 106, 28],\n",
       " [65, 6, 155, 106, 141],\n",
       " [65, 6, 155, 106, 141],\n",
       " [65, 2, 0, 3, 1],\n",
       " [65, 155, 6, 106, 135],\n",
       " [65, 6, 155, 28, 106],\n",
       " [65, 6, 155, 106, 141],\n",
       " [65, 6, 155, 106, 141],\n",
       " [65, 155, 6, 106, 135],\n",
       " [65, 155, 6, 106, 46],\n",
       " [65, 28, 6, 1, 0],\n",
       " [65, 155, 6, 106, 28],\n",
       " [65, 6, 155, 106, 141],\n",
       " [65, 155, 6, 28, 0],\n",
       " [65, 155, 6, 106, 28],\n",
       " [65, 6, 155, 106, 141],\n",
       " [65, 6, 155, 106, 141],\n",
       " [65, 6, 155, 106, 141],\n",
       " [65, 6, 155, 106, 141],\n",
       " [65, 6, 155, 106, 141],\n",
       " [65, 6, 155, 28, 106],\n",
       " [65, 155, 6, 106, 132],\n",
       " [65, 6, 155, 106, 141],\n",
       " [65, 6, 155, 28, 141],\n",
       " [65, 2, 0, 3, 1],\n",
       " [65, 155, 6, 106, 135],\n",
       " [65, 155, 6, 106, 141],\n",
       " [65, 2, 0, 3, 1],\n",
       " [70, 149, 65, 141, 154],\n",
       " [70, 149, 65, 141, 154],\n",
       " [70, 149, 65, 141, 154],\n",
       " [70, 154, 82, 149, 65],\n",
       " [70, 154, 82, 149, 65],\n",
       " [70, 154, 82, 149, 65],\n",
       " [70, 149, 65, 141, 154],\n",
       " [70, 149, 65, 141, 154],\n",
       " [70, 154, 82, 149, 65],\n",
       " [70, 154, 82, 149, 65],\n",
       " [70, 154, 82, 149, 65],\n",
       " [70, 154, 82, 149, 65],\n",
       " [70, 82, 154, 29, 149],\n",
       " [70, 154, 149, 82, 65],\n",
       " [70, 154, 149, 82, 65],\n",
       " ...]"
      ]
     },
     "execution_count": 30,
     "metadata": {},
     "output_type": "execute_result"
    }
   ],
   "source": [
    "predicted_labels"
   ]
  },
  {
   "cell_type": "code",
   "execution_count": null,
   "metadata": {},
   "outputs": [],
   "source": [
    "mapped_predicted_labels"
   ]
  },
  {
   "cell_type": "code",
   "execution_count": null,
   "metadata": {},
   "outputs": [],
   "source": []
  },
  {
   "cell_type": "code",
   "execution_count": null,
   "metadata": {},
   "outputs": [],
   "source": []
  },
  {
   "cell_type": "code",
   "execution_count": null,
   "metadata": {},
   "outputs": [],
   "source": []
  }
 ],
 "metadata": {
  "kernelspec": {
   "display_name": "Python 3",
   "language": "python",
   "name": "python3"
  },
  "language_info": {
   "codemirror_mode": {
    "name": "ipython",
    "version": 3
   },
   "file_extension": ".py",
   "mimetype": "text/x-python",
   "name": "python",
   "nbconvert_exporter": "python",
   "pygments_lexer": "ipython3",
   "version": "3.6.9"
  }
 },
 "nbformat": 4,
 "nbformat_minor": 2
}
