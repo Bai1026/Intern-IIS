{
 "cells": [
  {
   "cell_type": "markdown",
   "id": "2e929b83",
   "metadata": {},
   "source": [
    "# Filter the xlsx file to have only the single triplet\n",
    "- should be 5400 cases"
   ]
  },
  {
   "cell_type": "code",
   "execution_count": null,
   "id": "8bfac201",
   "metadata": {},
   "outputs": [],
   "source": [
    "mapping_file = './new_mapping.txt'\n",
    "label_mapping = {}\n",
    "with open(mapping_file, 'r') as f:\n",
    "    for line in f:\n",
    "        parts = line.strip().split(': ')\n",
    "        label_mapping[int(parts[1])] = parts[0]"
   ]
  },
  {
   "cell_type": "code",
   "execution_count": null,
   "id": "68e82012",
   "metadata": {},
   "outputs": [],
   "source": [
    "triplets_labels = set()\n",
    "with open('triplets_1.txt', 'r') as file:\n",
    "    for line in file:\n",
    "        # Assuming the line is just a number corresponding to label_mapping keys\n",
    "        num_id = int(line.strip())\n",
    "        triplets_labels.add(label_mapping[num_id])  # Convert to string label here"
   ]
  },
  {
   "cell_type": "code",
   "execution_count": null,
   "id": "9ebafb9a",
   "metadata": {},
   "outputs": [],
   "source": [
    "import pandas as pd\n",
    "\n",
    "# Specify the path to your Excel file\n",
    "excel_file_path = 'path_to_your_excel_file.xlsx'\n",
    "\n",
    "# Read the Excel file into a DataFrame\n",
    "df = pd.read_excel(excel_file_path, engine='openpyxl')\n",
    "\n",
    "# The true labels are in the first column and the predicted labels are in the second column\n",
    "mapped_true_labels = df.iloc[:, 0].tolist()\n",
    "mapped_predicted_labels = df.iloc[:, 1].tolist()\n"
   ]
  },
  {
   "cell_type": "code",
   "execution_count": null,
   "id": "d2a27567",
   "metadata": {},
   "outputs": [],
   "source": []
  },
  {
   "cell_type": "code",
   "execution_count": null,
   "id": "77ef8652",
   "metadata": {},
   "outputs": [],
   "source": []
  },
  {
   "cell_type": "code",
   "execution_count": null,
   "id": "6f704b7b",
   "metadata": {},
   "outputs": [],
   "source": [
    "\n",
    "        \n",
    "# Filter the labels using string labels\n",
    "labels_path = 'filtered_' + labels_filename\n",
    "    \n",
    "filtered_true_labels = []\n",
    "filtered_predicted_labels = []\n",
    "for true, pred in zip(mapped_true_labels, mapped_predicted_labels):\n",
    "    if true in triplets_labels:\n",
    "        filtered_true_labels.append(true)\n",
    "        filtered_predicted_labels.append(pred)\n",
    "        \n",
    "# Save the DataFrame with the filtered labels\n",
    "filtered_labels_df = pd.DataFrame({'true_label': filtered_true_labels, 'predicted_label': filtered_predicted_labels})\n",
    "filtered_labels_df.to_excel(labels_path, index=False)\n",
    "\n",
    "add_log_msg(labels_path)"
   ]
  },
  {
   "cell_type": "code",
   "execution_count": null,
   "id": "01412ac9",
   "metadata": {},
   "outputs": [],
   "source": [
    "# Filter the labels using string labels\n",
    "labels_path = 'filtered_' + labels_filename\n",
    "    \n",
    "filtered_true_labels = []\n",
    "filtered_predicted_labels = []\n",
    "for true, pred in zip(mapped_true_labels, mapped_predicted_labels):\n",
    "    if true in triplets_labels:\n",
    "        filtered_true_labels.append(true)\n",
    "        filtered_predicted_labels.append(pred)\n",
    "        \n",
    "# Save the DataFrame with the filtered labels\n",
    "filtered_labels_df = pd.DataFrame({'true_label': filtered_true_labels, 'predicted_label': filtered_predicted_labels})\n",
    "filtered_labels_df.to_excel(labels_path, index=False)\n",
    "\n",
    "add_log_msg(labels_path)"
   ]
  },
  {
   "cell_type": "code",
   "execution_count": null,
   "id": "a953fc0a",
   "metadata": {},
   "outputs": [],
   "source": [
    "\n",
    "\n",
    "# Filter the labels using string labels\n",
    "filtered_true_labels = []\n",
    "filtered_predicted_labels = []\n",
    "for true, pred in zip(mapped_true_labels, mapped_predicted_labels):\n",
    "    if true in triplets_labels:\n",
    "        filtered_true_labels.append(true)\n",
    "        filtered_predicted_labels.append(pred)\n",
    "        \n",
    "        \n",
    "# Save the DataFrame with the filtered labels\n",
    "filtered_labels_path = os.path.join(report_folder, 'filtered_' + labels_filename)\n",
    "filtered_labels_df = pd.DataFrame({'true_label': filtered_true_labels, 'predicted_label': filtered_predicted_labels})\n",
    "\n",
    "# Print the count of filtered labels\n",
    "print(f\"Number of filtered true labels: {len(filtered_true_labels)}\")\n",
    "print(f\"Number of filtered predicted labels: {len(filtered_predicted_labels)}\")\n",
    "\n",
    "# Save the filtered DataFrame to an Excel file\n",
    "filtered_labels_df.to_excel(filtered_labels_path, index=False)\n",
    "\n",
    "# Add a log message with the filtered labels path\n",
    "print(f\"Filtered labels path: {filtered_labels_path}\")"
   ]
  }
 ],
 "metadata": {
  "kernelspec": {
   "display_name": "Python 3",
   "language": "python",
   "name": "python3"
  },
  "language_info": {
   "codemirror_mode": {
    "name": "ipython",
    "version": 3
   },
   "file_extension": ".py",
   "mimetype": "text/x-python",
   "name": "python",
   "nbconvert_exporter": "python",
   "pygments_lexer": "ipython3",
   "version": "3.6.9"
  }
 },
 "nbformat": 4,
 "nbformat_minor": 5
}
