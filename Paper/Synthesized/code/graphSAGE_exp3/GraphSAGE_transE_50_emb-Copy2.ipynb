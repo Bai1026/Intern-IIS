{
 "cells": [
  {
   "cell_type": "markdown",
   "metadata": {},
   "source": [
    "# Test of GraphSAGE\n",
    "- use DGL\n",
    "- predict `graphs`\n",
    "- valid, test data are in the training dataset"
   ]
  },
  {
   "cell_type": "code",
   "execution_count": 30,
   "metadata": {},
   "outputs": [],
   "source": [
    "import os\n",
    "import dgl\n",
    "import csv\n",
    "import json\n",
    "import torch\n",
    "import random\n",
    "import subprocess\n",
    "import torch as th\n",
    "import numpy as np\n",
    "import pandas as pd\n",
    "import torch.nn as nn\n",
    "import dgl.nn as dglnn\n",
    "import torch.nn.functional as F\n",
    "\n",
    "from tqdm.notebook import tqdm\n",
    "from sklearn.decomposition import PCA\n",
    "from torch.optim import AdamW, lr_scheduler\n",
    "from dgl.nn import GraphConv, GATConv, SAGEConv\n",
    "from torch.utils.data import Dataset, DataLoader\n",
    "from sklearn.metrics import classification_report\n",
    "from sklearn.model_selection import train_test_split\n",
    "from transformers import get_linear_schedule_with_warmup\n",
    "\n",
    "os.environ['CUDA_VISIBLE_DEVICES'] = \"1\"\n",
    "device = torch.device('cuda' if torch.cuda.is_available() else 'cpu')"
   ]
  },
  {
   "cell_type": "markdown",
   "metadata": {},
   "source": [
    "- check the GPU and assign the GPU by the best memory usage"
   ]
  },
  {
   "cell_type": "code",
   "execution_count": 2,
   "metadata": {},
   "outputs": [],
   "source": [
    "# def get_free_gpu():\n",
    "#     try:\n",
    "#         # Run nvidia-smi command to get GPU details\n",
    "#         _output_to_list = lambda x: x.decode('ascii').split('\\n')[:-1]\n",
    "#         command = \"nvidia-smi --query-gpu=memory.free --format=csv,nounits,noheader\"\n",
    "#         memory_free_info = _output_to_list(subprocess.check_output(command.split())) \n",
    "#         memory_free_values = [int(x) for i, x in enumerate(memory_free_info)]\n",
    "        \n",
    "#         # Get the GPU with the maximum free memory\n",
    "#         best_gpu_id = memory_free_values.index(max(memory_free_values))\n",
    "#         return best_gpu_id\n",
    "#     except:\n",
    "#         # If any exception occurs, default to GPU 0 (this handles cases where nvidia-smi isn't installed)\n",
    "#         return 0\n",
    "\n",
    "# if torch.cuda.is_available():\n",
    "#     # Get the best GPU ID based on free memory and set it\n",
    "#     best_gpu_id = get_free_gpu()\n",
    "#     device = torch.device(f\"cuda:{best_gpu_id}\")\n",
    "# else:\n",
    "#     device = torch.device(\"cpu\")\n",
    "#     print(\"there's no available GPU\")\n",
    "\n",
    "# # device = torch.device(f\"cuda:{1}\")\n",
    "# print(device)\n"
   ]
  },
  {
   "cell_type": "markdown",
   "metadata": {},
   "source": [
    "## Fix the seed"
   ]
  },
  {
   "cell_type": "code",
   "execution_count": 3,
   "metadata": {},
   "outputs": [],
   "source": [
    "#fix seed\n",
    "def same_seeds(seed = 8787):\n",
    "    torch.manual_seed(seed)\n",
    "    # random.seed(seed) \n",
    "    if torch.cuda.is_available():\n",
    "        torch.cuda.manual_seed(seed)\n",
    "        torch.cuda.manual_seed_all(seed)  \n",
    "    np.random.seed(seed)  \n",
    "    torch.backends.cudnn.benchmark = False\n",
    "    torch.backends.cudnn.deterministic = True"
   ]
  },
  {
   "cell_type": "markdown",
   "metadata": {},
   "source": [
    "## Load the embedding"
   ]
  },
  {
   "cell_type": "code",
   "execution_count": 4,
   "metadata": {},
   "outputs": [],
   "source": [
    "embedding = 'transE_256'\n",
    "with open(f\"../../data/4_embedding/{embedding}.vec.json\", \"r\") as f:\n",
    "    tmp = json.load(f)\n",
    "\n",
    "index2entemb = {idx:emb for idx, emb in enumerate(tmp[\"ent_embeddings.weight\"])}\n",
    "index2relemb = {idx:emb for idx, emb in enumerate(tmp[\"rel_embeddings.weight\"])}"
   ]
  },
  {
   "cell_type": "code",
   "execution_count": 5,
   "metadata": {},
   "outputs": [
    {
     "data": {
      "text/plain": [
       "824642"
      ]
     },
     "execution_count": 5,
     "metadata": {},
     "output_type": "execute_result"
    }
   ],
   "source": [
    "len(index2entemb)"
   ]
  },
  {
   "cell_type": "code",
   "execution_count": 6,
   "metadata": {},
   "outputs": [
    {
     "data": {
      "text/plain": [
       "27"
      ]
     },
     "execution_count": 6,
     "metadata": {},
     "output_type": "execute_result"
    }
   ],
   "source": [
    "len(index2relemb)"
   ]
  },
  {
   "cell_type": "markdown",
   "metadata": {},
   "source": [
    "- this file is 55 GB -> takes about 1 min to load it"
   ]
  },
  {
   "cell_type": "code",
   "execution_count": 7,
   "metadata": {},
   "outputs": [
    {
     "name": "stdout",
     "output_type": "stream",
     "text": [
      "Loading the data...\n"
     ]
    },
    {
     "data": {
      "application/vnd.jupyter.widget-view+json": {
       "model_id": "7d9ef02b833549e295a18835132fe8e6",
       "version_major": 2,
       "version_minor": 0
      },
      "text/plain": [
       "Loading:   0%|          | 0/16900 [00:00<?, ?it/s]"
      ]
     },
     "metadata": {},
     "output_type": "display_data"
    },
    {
     "name": "stdout",
     "output_type": "stream",
     "text": [
      "FINISH...\n"
     ]
    }
   ],
   "source": [
    "with open(\"../../data/all_graph_data.jsonl\", \"r\") as f:\n",
    "    print(\"Loading the data...\")\n",
    "#     input_data = list(f)\n",
    "#     input_data = [json.loads(line) for idx, line in tqdm(f, desc=\"Loading\")]\n",
    "\n",
    "    input_data = []\n",
    "    for idx, line in tqdm(enumerate(f), total=16900, desc=\"Loading\"):\n",
    "        input_data.append(json.loads(line))\n",
    "        \n",
    "    print(\"FINISH...\")"
   ]
  },
  {
   "cell_type": "code",
   "execution_count": 8,
   "metadata": {},
   "outputs": [
    {
     "data": {
      "text/plain": [
       "16900"
      ]
     },
     "execution_count": 8,
     "metadata": {},
     "output_type": "execute_result"
    }
   ],
   "source": [
    "len(input_data)"
   ]
  },
  {
   "cell_type": "markdown",
   "metadata": {},
   "source": [
    "- Convert the 'node_feat' and 'edge_attr' from int to embedding\n",
    "    - takes about 45 min to transform the embedding\n",
    "    - if use original method -> takes about 60 hours"
   ]
  },
  {
   "cell_type": "code",
   "execution_count": 9,
   "metadata": {},
   "outputs": [
    {
     "data": {
      "text/plain": [
       "list"
      ]
     },
     "execution_count": 9,
     "metadata": {},
     "output_type": "execute_result"
    }
   ],
   "source": [
    "type(input_data)"
   ]
  },
  {
   "cell_type": "code",
   "execution_count": 10,
   "metadata": {},
   "outputs": [
    {
     "data": {
      "text/plain": [
       "dict"
      ]
     },
     "execution_count": 10,
     "metadata": {},
     "output_type": "execute_result"
    }
   ],
   "source": [
    "type(input_data[0])"
   ]
  },
  {
   "cell_type": "markdown",
   "metadata": {},
   "source": [
    "- need to get the new graph.jsonl -> the id is not corresponding"
   ]
  },
  {
   "cell_type": "code",
   "execution_count": 11,
   "metadata": {},
   "outputs": [
    {
     "data": {
      "application/vnd.jupyter.widget-view+json": {
       "model_id": "e6ce3ca3fa624abda25df20a3f034b78",
       "version_major": 2,
       "version_minor": 0
      },
      "text/plain": [
       "  0%|          | 0/16900 [00:00<?, ?it/s]"
      ]
     },
     "metadata": {},
     "output_type": "display_data"
    }
   ],
   "source": [
    "# ============ If type(input_data[0] == dict) ============\n",
    "for data_point in tqdm(input_data):\n",
    "    data_point['node_feat'] = [index2entemb[node_id] for node_id in data_point['node_feat']]\n",
    "    data_point['edge_attr'] = [index2relemb[edge_id] for edge_id in data_point['edge_attr']]\n",
    "\n",
    "\n",
    "# ============ If type(input_data[0] == str) ============\n",
    "# for idx, data in tqdm(enumerate(input_data)):\n",
    "    \n",
    "#     # make the data from string to int\n",
    "#     data_point = json.loads(data)\n",
    "\n",
    "#     data_point['node_feat'] = [index2entemb[node_id] for node_id in data_point['node_feat']]\n",
    "#     data_point['edge_attr'] = [index2relemb[edge_id] for edge_id in data_point['edge_attr']]\n",
    "\n",
    "#     input_data[idx] = data_point"
   ]
  },
  {
   "cell_type": "code",
   "execution_count": 12,
   "metadata": {},
   "outputs": [
    {
     "data": {
      "text/plain": [
       "dict"
      ]
     },
     "execution_count": 12,
     "metadata": {},
     "output_type": "execute_result"
    }
   ],
   "source": [
    "type(input_data[0])"
   ]
  },
  {
   "cell_type": "code",
   "execution_count": 13,
   "metadata": {},
   "outputs": [
    {
     "data": {
      "text/plain": [
       "256"
      ]
     },
     "execution_count": 13,
     "metadata": {},
     "output_type": "execute_result"
    }
   ],
   "source": [
    "len(input_data[1]['node_feat'][0])"
   ]
  },
  {
   "cell_type": "markdown",
   "metadata": {},
   "source": [
    "## Data Loader"
   ]
  },
  {
   "cell_type": "code",
   "execution_count": 14,
   "metadata": {},
   "outputs": [],
   "source": [
    "tmp_data = input_data"
   ]
  },
  {
   "cell_type": "code",
   "execution_count": 15,
   "metadata": {},
   "outputs": [
    {
     "data": {
      "text/plain": [
       "16900"
      ]
     },
     "execution_count": 15,
     "metadata": {},
     "output_type": "execute_result"
    }
   ],
   "source": [
    "len(tmp_data)"
   ]
  },
  {
   "cell_type": "code",
   "execution_count": 16,
   "metadata": {},
   "outputs": [],
   "source": [
    "class GraphDataset(Dataset):\n",
    "    def __init__(self, data_list, device):\n",
    "        self.data_list = data_list\n",
    "        self.device = device\n",
    "\n",
    "    def __len__(self):\n",
    "        return len(self.data_list)\n",
    "    \n",
    "    def __getitem__(self, idx):\n",
    "        data = self.data_list[idx]\n",
    "        return data\n",
    "\n",
    "def collate(samples):\n",
    "    data_list = samples\n",
    "    batched_graphs = []\n",
    "    for data in data_list:\n",
    "        g = dgl.graph((th.tensor(data[\"edge_index\"][0]), th.tensor(data[\"edge_index\"][1])), num_nodes=data[\"num_nodes\"])\n",
    "\n",
    "        g.ndata['feat'] = th.tensor(data[\"node_feat\"])\n",
    "        g.edata['feat'] = th.tensor(data[\"edge_attr\"])\n",
    "        g.edata['label'] = th.tensor(data[\"labels\"])  # Add edge labels to graph\n",
    "\n",
    "        batched_graphs.append(g)\n",
    "    \n",
    "    return dgl.batch(batched_graphs)"
   ]
  },
  {
   "cell_type": "code",
   "execution_count": 17,
   "metadata": {},
   "outputs": [
    {
     "name": "stdout",
     "output_type": "stream",
     "text": [
      "Datasets loaded and ready for training!\n"
     ]
    }
   ],
   "source": [
    "# split 8:1:1 (train, valid, test)\n",
    "train_data, test_data = train_test_split(tmp_data, test_size=0.2, random_state=42)\n",
    "valid_data, test_data = train_test_split(test_data, test_size=0.5, random_state=42)\n",
    "\n",
    "\n",
    "dataset_data = {\n",
    "    'train': GraphDataset(train_data, device),\n",
    "    'valid': GraphDataset(valid_data, device),\n",
    "    'test': GraphDataset(test_data, device)\n",
    "}\n",
    "\n",
    "print(\"Datasets loaded and ready for training!\")"
   ]
  },
  {
   "cell_type": "code",
   "execution_count": 18,
   "metadata": {},
   "outputs": [],
   "source": [
    "# dataset_data['train'][0]"
   ]
  },
  {
   "cell_type": "markdown",
   "metadata": {},
   "source": [
    "- choose batch size"
   ]
  },
  {
   "cell_type": "code",
   "execution_count": 19,
   "metadata": {},
   "outputs": [],
   "source": [
    "def create_dataloaders(batch_size, shuffle=True):\n",
    "    dataloaders = {}\n",
    "    for dataset_name, dataset in dataset_data.items():\n",
    "        # do not shuffle the testing dataset\n",
    "        if dataset_name == \"test\":\n",
    "            dataloaders[dataset_name] = DataLoader(dataset, batch_size=batch_size, shuffle=False, collate_fn=collate)    \n",
    "        else:\n",
    "            dataloaders[dataset_name] = DataLoader(dataset, batch_size=batch_size, shuffle=shuffle, collate_fn=collate)\n",
    "    return dataloaders\n",
    "\n",
    "dataloaders = create_dataloaders(16)"
   ]
  },
  {
   "cell_type": "markdown",
   "metadata": {},
   "source": [
    "- Turn the print message to a log file"
   ]
  },
  {
   "cell_type": "code",
   "execution_count": 20,
   "metadata": {},
   "outputs": [
    {
     "name": "stdout",
     "output_type": "stream",
     "text": [
      "./log_message/0204_00:21_GraphSAGE_transE_256.log\n"
     ]
    }
   ],
   "source": [
    "import datetime\n",
    "\n",
    "now = datetime.datetime.now()\n",
    "\n",
    "formatted_time = now.strftime(\"%m%d_%H:%M\")\n",
    "\n",
    "log_file_path = f\"./log_message/{formatted_time}_GraphSAGE_transE_256.log\"\n",
    "\n",
    "def add_log_msg(msg, log_file_path=log_file_path):\n",
    "    with open(log_file_path, 'a') as f:\n",
    "        f.write(f'{datetime.datetime.now().strftime(\"%m/%d/%Y, %H:%M:%S\")}# {msg}\\n')\n",
    "    print(f'{datetime.datetime.now().strftime(\"%m/%d/%Y, %H:%M:%S\")}# {msg}')\n",
    "\n",
    "print(log_file_path)"
   ]
  },
  {
   "cell_type": "markdown",
   "metadata": {},
   "source": [
    "### Model"
   ]
  },
  {
   "cell_type": "code",
   "execution_count": 21,
   "metadata": {},
   "outputs": [],
   "source": [
    "class GraphSAGE(nn.Module):\n",
    "    def __init__(self, in_dim, hidden_dim, out_dim):\n",
    "        super(GraphSAGE, self).__init__()\n",
    "        self.layer1 = dglnn.SAGEConv(in_dim, hidden_dim, 'pool')\n",
    "        self.layer2 = dglnn.SAGEConv(hidden_dim, out_dim, 'pool')\n",
    "        self.dropout = nn.Dropout(0.25)\n",
    "\n",
    "    def forward(self, g, inputs):\n",
    "        h = self.layer1(g, inputs)\n",
    "        h = torch.relu(h)\n",
    "        h = self.dropout(h)\n",
    "        h = self.layer2(g, h)\n",
    "        return h"
   ]
  },
  {
   "cell_type": "code",
   "execution_count": 22,
   "metadata": {},
   "outputs": [],
   "source": [
    "class MLPPredictor(nn.Module):\n",
    "    def __init__(self, out_feats, out_classes):\n",
    "        super().__init__()\n",
    "        self.W = nn.Linear(out_feats*2, out_classes)\n",
    "\n",
    "    def apply_edges(self, edges):\n",
    "        h_u = edges.src['h']\n",
    "        h_v = edges.dst['h']\n",
    "        score = self.W(torch.cat([h_u, h_v], 1))\n",
    "        return {'score': score}\n",
    "\n",
    "    def forward(self, graph, h):\n",
    "        with graph.local_scope():\n",
    "            graph.ndata['h'] = h\n",
    "            graph.apply_edges(self.apply_edges)\n",
    "            return graph.edata['score']"
   ]
  },
  {
   "cell_type": "code",
   "execution_count": 23,
   "metadata": {},
   "outputs": [],
   "source": [
    "class Model(nn.Module):\n",
    "    def __init__(self, in_features, hidden_features, out_features, num_classes):\n",
    "        super().__init__()\n",
    "        self.sage = GraphSAGE(in_features, hidden_features, out_features)\n",
    "        self.pred = MLPPredictor(out_features, num_classes)\n",
    "      \n",
    "    def forward(self, g, node_feat, return_logits=False):\n",
    "        h = self.sage(g, node_feat)\n",
    "        logits = self.pred(g, h)\n",
    "        \n",
    "        return logits"
   ]
  },
  {
   "cell_type": "markdown",
   "metadata": {},
   "source": [
    "- Model Forward  "
   ]
  },
  {
   "cell_type": "code",
   "execution_count": 24,
   "metadata": {},
   "outputs": [],
   "source": [
    "def model_fn(batched_g, model, criterion, device, count=1, which_type='train'):\n",
    "    \"\"\"Forward a batch through the model.\"\"\"\n",
    "#     batched_g, labels = data\n",
    "    batched_g = batched_g.to(device)\n",
    "    \n",
    "    labels = batched_g.edata['label'].to(device)\n",
    "    \n",
    "    logits = model(batched_g, batched_g.ndata['feat'].float())\n",
    "\n",
    "    loss = criterion(logits, labels)\n",
    "\n",
    "    output = torch.softmax(logits, dim=1)\n",
    "    preds = output.argmax(1)\n",
    "    \n",
    "    # Compute accuracy\n",
    "    accuracy = torch.mean((preds == labels).float())\n",
    "        \n",
    "    return loss, accuracy, preds"
   ]
  },
  {
   "cell_type": "markdown",
   "metadata": {},
   "source": [
    "### Training"
   ]
  },
  {
   "cell_type": "markdown",
   "metadata": {},
   "source": [
    "- Fix the seed and save the model.state_dict that contains the initial weight"
   ]
  },
  {
   "cell_type": "code",
   "execution_count": 36,
   "metadata": {},
   "outputs": [],
   "source": [
    "seed = 8787\n",
    "same_seeds(seed)\n",
    "\n",
    "model = Model(in_features=50, hidden_features=64, out_features=128, num_classes=167)\n",
    "torch.save(model.state_dict(), 'model3_initial(graphsage)/initial_weight.pth')"
   ]
  },
  {
   "cell_type": "code",
   "execution_count": 69,
   "metadata": {},
   "outputs": [
    {
     "data": {
      "text/plain": [
       "Parameter containing:\n",
       "tensor([[ 0.0181, -0.0857,  0.1973,  ...,  0.2417,  0.2702, -0.3041],\n",
       "        [-0.0768, -0.2723, -0.2001,  ...,  0.2989, -0.1387, -0.1940],\n",
       "        [ 0.2582, -0.0822,  0.3086,  ..., -0.0257, -0.1119, -0.0335],\n",
       "        ...,\n",
       "        [ 0.2274, -0.0411, -0.0334,  ..., -0.1679,  0.2455,  0.2424],\n",
       "        [ 0.1375,  0.2813,  0.0775,  ...,  0.1337,  0.2065,  0.2618],\n",
       "        [-0.0951,  0.1010, -0.2586,  ..., -0.1242, -0.0631,  0.0924]],\n",
       "       requires_grad=True)"
      ]
     },
     "execution_count": 69,
     "metadata": {},
     "output_type": "execute_result"
    }
   ],
   "source": [
    "# model.layer1.fc_self.weight\n",
    "model.sage.layer1.fc_self.weight"
   ]
  },
  {
   "cell_type": "markdown",
   "metadata": {},
   "source": [
    "- Check if model really load the model_dict"
   ]
  },
  {
   "cell_type": "code",
   "execution_count": 70,
   "metadata": {},
   "outputs": [
    {
     "data": {
      "text/plain": [
       "Parameter containing:\n",
       "tensor([[ 0.0181, -0.0857,  0.1973,  ...,  0.2417,  0.2702, -0.3041],\n",
       "        [-0.0768, -0.2723, -0.2001,  ...,  0.2989, -0.1387, -0.1940],\n",
       "        [ 0.2582, -0.0822,  0.3086,  ..., -0.0257, -0.1119, -0.0335],\n",
       "        ...,\n",
       "        [ 0.2274, -0.0411, -0.0334,  ..., -0.1679,  0.2455,  0.2424],\n",
       "        [ 0.1375,  0.2813,  0.0775,  ...,  0.1337,  0.2065,  0.2618],\n",
       "        [-0.0951,  0.1010, -0.2586,  ..., -0.1242, -0.0631,  0.0924]],\n",
       "       requires_grad=True)"
      ]
     },
     "execution_count": 70,
     "metadata": {},
     "output_type": "execute_result"
    }
   ],
   "source": [
    "model = Model(in_features=50, hidden_features=64, out_features=128, num_classes=167)\n",
    "model.load_state_dict(torch.load('model3_initial(graphsage)/initial_weight.pth'))\n",
    "model.sage.layer1.fc_self.weight"
   ]
  },
  {
   "cell_type": "markdown",
   "metadata": {},
   "source": [
    "- For release the GPU memory\n",
    "    - no need to restart the kernel"
   ]
  },
  {
   "cell_type": "code",
   "execution_count": 32,
   "metadata": {},
   "outputs": [],
   "source": [
    "# # For release the GPU memory\n",
    "# # No need to restart the kernel\n",
    "\n",
    "# import gc\n",
    "# gc.collect()\n",
    "# torch.cuda.empty_cache()"
   ]
  },
  {
   "cell_type": "code",
   "execution_count": 26,
   "metadata": {},
   "outputs": [],
   "source": [
    "DIM = 256\n",
    "embedding = 'transE_256'"
   ]
  },
  {
   "cell_type": "code",
   "execution_count": 38,
   "metadata": {},
   "outputs": [],
   "source": [
    "seed = 5269\n",
    "in_dim = DIM # dimension of the node feature\n",
    "hidden_dim = 1024\n",
    "out_dim = 2048\n",
    "# num_classes = len(label2index)\n",
    "num_classes = 278\n",
    "\n",
    "lr = 5e-4\n",
    "\n",
    "total_steps = 100\n",
    "patience = 5\n",
    "waiting = 0"
   ]
  },
  {
   "cell_type": "code",
   "execution_count": 39,
   "metadata": {},
   "outputs": [],
   "source": [
    "model = Model(in_dim, hidden_dim, out_dim, num_classes)\n",
    "best_model_path = f\"./checkpoint_graphSAGE/best_model_GraphSAGE_{embedding}-large_dim-2.pt\"\n",
    "\n",
    "optimizer = AdamW(model.parameters(), lr)\n",
    "\n",
    "scheduler = lr_scheduler.CosineAnnealingLR(optimizer, T_max=10, eta_min=0, last_epoch=-1, verbose=False)\n",
    "\n",
    "criterion = nn.CrossEntropyLoss()\n",
    "# criterion = torch.nn.BCEWithLogitsLoss()"
   ]
  },
  {
   "cell_type": "code",
   "execution_count": 40,
   "metadata": {
    "scrolled": true
   },
   "outputs": [
    {
     "data": {
      "application/vnd.jupyter.widget-view+json": {
       "model_id": "5eb9f39def8b4842a560ae6bce31753e",
       "version_major": 2,
       "version_minor": 0
      },
      "text/plain": [
       "  0%|          | 0/100 [00:00<?, ?it/s]"
      ]
     },
     "metadata": {},
     "output_type": "display_data"
    },
    {
     "data": {
      "application/vnd.jupyter.widget-view+json": {
       "model_id": "eb02326d60b84894ba161b5aba4a57e7",
       "version_major": 2,
       "version_minor": 0
      },
      "text/plain": [
       "Training:   0%|          | 0/845 [00:00<?, ?it/s]"
      ]
     },
     "metadata": {},
     "output_type": "display_data"
    },
    {
     "name": "stdout",
     "output_type": "stream",
     "text": [
      "02/04/2024, 04:21:32# total batches: 845\n",
      "02/04/2024, 04:21:32# Epoch 0 | Train Loss: 1.0648 | Train Accuracy: 0.7989\n"
     ]
    },
    {
     "data": {
      "application/vnd.jupyter.widget-view+json": {
       "model_id": "d2e9ceda45374a1b9ad5a66aca83c4ea",
       "version_major": 2,
       "version_minor": 0
      },
      "text/plain": [
       "Validation:   0%|          | 0/106 [00:00<?, ?it/s]"
      ]
     },
     "metadata": {},
     "output_type": "display_data"
    },
    {
     "name": "stdout",
     "output_type": "stream",
     "text": [
      "02/04/2024, 04:21:50# Validation Loss: 0.7660 | Validation Accuracy: 0.8492\n",
      "\n"
     ]
    },
    {
     "data": {
      "application/vnd.jupyter.widget-view+json": {
       "model_id": "5929c4e9782443b09e71bde7903ecb94",
       "version_major": 2,
       "version_minor": 0
      },
      "text/plain": [
       "Training:   0%|          | 0/845 [00:00<?, ?it/s]"
      ]
     },
     "metadata": {},
     "output_type": "display_data"
    },
    {
     "name": "stdout",
     "output_type": "stream",
     "text": [
      "02/04/2024, 04:24:31# total batches: 845\n",
      "02/04/2024, 04:24:31# Epoch 1 | Train Loss: 0.5259 | Train Accuracy: 0.8958\n"
     ]
    },
    {
     "data": {
      "application/vnd.jupyter.widget-view+json": {
       "model_id": "668b7584aa2c43da83e099a868594ea2",
       "version_major": 2,
       "version_minor": 0
      },
      "text/plain": [
       "Validation:   0%|          | 0/106 [00:00<?, ?it/s]"
      ]
     },
     "metadata": {},
     "output_type": "display_data"
    },
    {
     "name": "stdout",
     "output_type": "stream",
     "text": [
      "02/04/2024, 04:24:46# Validation Loss: 0.4371 | Validation Accuracy: 0.9103\n",
      "\n",
      "02/04/2024, 04:24:46# Find a better model!!\n"
     ]
    },
    {
     "data": {
      "application/vnd.jupyter.widget-view+json": {
       "model_id": "dfc42e8ff8144214b0f6a48e4f0ba2ec",
       "version_major": 2,
       "version_minor": 0
      },
      "text/plain": [
       "Training:   0%|          | 0/845 [00:00<?, ?it/s]"
      ]
     },
     "metadata": {},
     "output_type": "display_data"
    },
    {
     "name": "stdout",
     "output_type": "stream",
     "text": [
      "02/04/2024, 04:27:27# total batches: 845\n",
      "02/04/2024, 04:27:27# Epoch 2 | Train Loss: 0.3658 | Train Accuracy: 0.9227\n"
     ]
    },
    {
     "data": {
      "application/vnd.jupyter.widget-view+json": {
       "model_id": "2c3f350b0f794a3f95cb543bf4106f38",
       "version_major": 2,
       "version_minor": 0
      },
      "text/plain": [
       "Validation:   0%|          | 0/106 [00:00<?, ?it/s]"
      ]
     },
     "metadata": {},
     "output_type": "display_data"
    },
    {
     "name": "stdout",
     "output_type": "stream",
     "text": [
      "02/04/2024, 04:27:42# Validation Loss: 0.3736 | Validation Accuracy: 0.9209\n",
      "\n",
      "02/04/2024, 04:27:42# Find a better model!!\n"
     ]
    },
    {
     "data": {
      "application/vnd.jupyter.widget-view+json": {
       "model_id": "f4e4e3327b54489eaa6873e7da3e7b9e",
       "version_major": 2,
       "version_minor": 0
      },
      "text/plain": [
       "Training:   0%|          | 0/845 [00:00<?, ?it/s]"
      ]
     },
     "metadata": {},
     "output_type": "display_data"
    },
    {
     "name": "stdout",
     "output_type": "stream",
     "text": [
      "02/04/2024, 04:30:24# total batches: 845\n",
      "02/04/2024, 04:30:24# Epoch 3 | Train Loss: 0.2882 | Train Accuracy: 0.9378\n"
     ]
    },
    {
     "data": {
      "application/vnd.jupyter.widget-view+json": {
       "model_id": "f01847dc0fde47bbbbd4b2853150af1f",
       "version_major": 2,
       "version_minor": 0
      },
      "text/plain": [
       "Validation:   0%|          | 0/106 [00:00<?, ?it/s]"
      ]
     },
     "metadata": {},
     "output_type": "display_data"
    },
    {
     "name": "stdout",
     "output_type": "stream",
     "text": [
      "02/04/2024, 04:30:40# Validation Loss: 0.2726 | Validation Accuracy: 0.9398\n",
      "\n",
      "02/04/2024, 04:30:40# Find a better model!!\n"
     ]
    },
    {
     "data": {
      "application/vnd.jupyter.widget-view+json": {
       "model_id": "a18863c1f62f4b0887a5de965426a142",
       "version_major": 2,
       "version_minor": 0
      },
      "text/plain": [
       "Training:   0%|          | 0/845 [00:00<?, ?it/s]"
      ]
     },
     "metadata": {},
     "output_type": "display_data"
    },
    {
     "name": "stdout",
     "output_type": "stream",
     "text": [
      "02/04/2024, 04:33:20# total batches: 845\n",
      "02/04/2024, 04:33:20# Epoch 4 | Train Loss: 0.2415 | Train Accuracy: 0.9483\n"
     ]
    },
    {
     "data": {
      "application/vnd.jupyter.widget-view+json": {
       "model_id": "e519156af3b649749d91b3ad90c7ea97",
       "version_major": 2,
       "version_minor": 0
      },
      "text/plain": [
       "Validation:   0%|          | 0/106 [00:00<?, ?it/s]"
      ]
     },
     "metadata": {},
     "output_type": "display_data"
    },
    {
     "name": "stdout",
     "output_type": "stream",
     "text": [
      "02/04/2024, 04:33:36# Validation Loss: 0.2411 | Validation Accuracy: 0.9519\n",
      "\n",
      "02/04/2024, 04:33:36# Find a better model!!\n"
     ]
    },
    {
     "data": {
      "application/vnd.jupyter.widget-view+json": {
       "model_id": "548263ea9e90427bbf36f21bb30f6253",
       "version_major": 2,
       "version_minor": 0
      },
      "text/plain": [
       "Training:   0%|          | 0/845 [00:00<?, ?it/s]"
      ]
     },
     "metadata": {},
     "output_type": "display_data"
    },
    {
     "name": "stdout",
     "output_type": "stream",
     "text": [
      "02/04/2024, 04:36:18# total batches: 845\n",
      "02/04/2024, 04:36:18# Epoch 5 | Train Loss: 0.1988 | Train Accuracy: 0.9555\n"
     ]
    },
    {
     "data": {
      "application/vnd.jupyter.widget-view+json": {
       "model_id": "08cb499156474282908ab9c8ea2cabfc",
       "version_major": 2,
       "version_minor": 0
      },
      "text/plain": [
       "Validation:   0%|          | 0/106 [00:00<?, ?it/s]"
      ]
     },
     "metadata": {},
     "output_type": "display_data"
    },
    {
     "name": "stdout",
     "output_type": "stream",
     "text": [
      "02/04/2024, 04:36:34# Validation Loss: 0.2000 | Validation Accuracy: 0.9556\n",
      "\n",
      "02/04/2024, 04:36:34# Find a better model!!\n"
     ]
    },
    {
     "data": {
      "application/vnd.jupyter.widget-view+json": {
       "model_id": "cdb08c8db8db4d62bc845f5610d0c409",
       "version_major": 2,
       "version_minor": 0
      },
      "text/plain": [
       "Training:   0%|          | 0/845 [00:00<?, ?it/s]"
      ]
     },
     "metadata": {},
     "output_type": "display_data"
    },
    {
     "name": "stdout",
     "output_type": "stream",
     "text": [
      "02/04/2024, 04:39:14# total batches: 845\n",
      "02/04/2024, 04:39:14# Epoch 6 | Train Loss: 0.1797 | Train Accuracy: 0.9593\n"
     ]
    },
    {
     "data": {
      "application/vnd.jupyter.widget-view+json": {
       "model_id": "e07bbf3b36c443e48f9e1812c17011ba",
       "version_major": 2,
       "version_minor": 0
      },
      "text/plain": [
       "Validation:   0%|          | 0/106 [00:00<?, ?it/s]"
      ]
     },
     "metadata": {},
     "output_type": "display_data"
    },
    {
     "name": "stdout",
     "output_type": "stream",
     "text": [
      "02/04/2024, 04:39:30# Validation Loss: 0.1812 | Validation Accuracy: 0.9578\n",
      "\n",
      "02/04/2024, 04:39:30# Find a better model!!\n"
     ]
    },
    {
     "data": {
      "application/vnd.jupyter.widget-view+json": {
       "model_id": "2799f17d81414b19b854a90351b7b5ac",
       "version_major": 2,
       "version_minor": 0
      },
      "text/plain": [
       "Training:   0%|          | 0/845 [00:00<?, ?it/s]"
      ]
     },
     "metadata": {},
     "output_type": "display_data"
    },
    {
     "name": "stdout",
     "output_type": "stream",
     "text": [
      "02/04/2024, 04:42:08# total batches: 845\n",
      "02/04/2024, 04:42:08# Epoch 7 | Train Loss: 0.1543 | Train Accuracy: 0.9638\n"
     ]
    },
    {
     "data": {
      "application/vnd.jupyter.widget-view+json": {
       "model_id": "d6ce0e8e259c46ec99fff71f5a82a5c5",
       "version_major": 2,
       "version_minor": 0
      },
      "text/plain": [
       "Validation:   0%|          | 0/106 [00:00<?, ?it/s]"
      ]
     },
     "metadata": {},
     "output_type": "display_data"
    },
    {
     "name": "stdout",
     "output_type": "stream",
     "text": [
      "02/04/2024, 04:42:24# Validation Loss: 0.1747 | Validation Accuracy: 0.9583\n",
      "\n",
      "02/04/2024, 04:42:24# Find a better model!!\n"
     ]
    },
    {
     "data": {
      "application/vnd.jupyter.widget-view+json": {
       "model_id": "a5da0038c90c4f0f87b1b5303a996caf",
       "version_major": 2,
       "version_minor": 0
      },
      "text/plain": [
       "Training:   0%|          | 0/845 [00:00<?, ?it/s]"
      ]
     },
     "metadata": {},
     "output_type": "display_data"
    },
    {
     "name": "stdout",
     "output_type": "stream",
     "text": [
      "02/04/2024, 04:45:06# total batches: 845\n",
      "02/04/2024, 04:45:06# Epoch 8 | Train Loss: 0.1456 | Train Accuracy: 0.9653\n"
     ]
    },
    {
     "data": {
      "application/vnd.jupyter.widget-view+json": {
       "model_id": "cdf264b0eb63427d9d2c83060e883d6a",
       "version_major": 2,
       "version_minor": 0
      },
      "text/plain": [
       "Validation:   0%|          | 0/106 [00:00<?, ?it/s]"
      ]
     },
     "metadata": {},
     "output_type": "display_data"
    },
    {
     "name": "stdout",
     "output_type": "stream",
     "text": [
      "02/04/2024, 04:45:23# Validation Loss: 0.1525 | Validation Accuracy: 0.9629\n",
      "\n",
      "02/04/2024, 04:45:23# Find a better model!!\n"
     ]
    },
    {
     "data": {
      "application/vnd.jupyter.widget-view+json": {
       "model_id": "4b161fbb431c4956a559a4a135700aa2",
       "version_major": 2,
       "version_minor": 0
      },
      "text/plain": [
       "Training:   0%|          | 0/845 [00:00<?, ?it/s]"
      ]
     },
     "metadata": {},
     "output_type": "display_data"
    },
    {
     "name": "stdout",
     "output_type": "stream",
     "text": [
      "02/04/2024, 04:48:02# total batches: 845\n",
      "02/04/2024, 04:48:02# Epoch 9 | Train Loss: 0.1383 | Train Accuracy: 0.9664\n"
     ]
    },
    {
     "data": {
      "application/vnd.jupyter.widget-view+json": {
       "model_id": "db4e032017a94de5957e21f1923f9eb5",
       "version_major": 2,
       "version_minor": 0
      },
      "text/plain": [
       "Validation:   0%|          | 0/106 [00:00<?, ?it/s]"
      ]
     },
     "metadata": {},
     "output_type": "display_data"
    },
    {
     "name": "stdout",
     "output_type": "stream",
     "text": [
      "02/04/2024, 04:48:18# Validation Loss: 0.1502 | Validation Accuracy: 0.9637\n",
      "\n",
      "02/04/2024, 04:48:18# Find a better model!!\n"
     ]
    },
    {
     "data": {
      "application/vnd.jupyter.widget-view+json": {
       "model_id": "8469d97e261c41a9ba07936d82846fdf",
       "version_major": 2,
       "version_minor": 0
      },
      "text/plain": [
       "Training:   0%|          | 0/845 [00:00<?, ?it/s]"
      ]
     },
     "metadata": {},
     "output_type": "display_data"
    },
    {
     "name": "stdout",
     "output_type": "stream",
     "text": [
      "02/04/2024, 04:50:58# total batches: 845\n",
      "02/04/2024, 04:50:58# Epoch 10 | Train Loss: 0.1277 | Train Accuracy: 0.9688\n"
     ]
    },
    {
     "data": {
      "application/vnd.jupyter.widget-view+json": {
       "model_id": "5b4f2b5c190147c18e849d542b264233",
       "version_major": 2,
       "version_minor": 0
      },
      "text/plain": [
       "Validation:   0%|          | 0/106 [00:00<?, ?it/s]"
      ]
     },
     "metadata": {},
     "output_type": "display_data"
    },
    {
     "name": "stdout",
     "output_type": "stream",
     "text": [
      "02/04/2024, 04:51:14# Validation Loss: 0.1285 | Validation Accuracy: 0.9685\n",
      "\n",
      "02/04/2024, 04:51:14# Find a better model!!\n"
     ]
    },
    {
     "data": {
      "application/vnd.jupyter.widget-view+json": {
       "model_id": "864fea31441c476ab310a926abae1daa",
       "version_major": 2,
       "version_minor": 0
      },
      "text/plain": [
       "Training:   0%|          | 0/845 [00:00<?, ?it/s]"
      ]
     },
     "metadata": {},
     "output_type": "display_data"
    },
    {
     "name": "stdout",
     "output_type": "stream",
     "text": [
      "02/04/2024, 04:53:55# total batches: 845\n",
      "02/04/2024, 04:53:55# Epoch 11 | Train Loss: 0.1318 | Train Accuracy: 0.9667\n"
     ]
    },
    {
     "data": {
      "application/vnd.jupyter.widget-view+json": {
       "model_id": "f3cbbeebe8bc4cb5b0b6419ec2f1b7e7",
       "version_major": 2,
       "version_minor": 0
      },
      "text/plain": [
       "Validation:   0%|          | 0/106 [00:00<?, ?it/s]"
      ]
     },
     "metadata": {},
     "output_type": "display_data"
    },
    {
     "name": "stdout",
     "output_type": "stream",
     "text": [
      "02/04/2024, 04:54:11# Validation Loss: 0.1752 | Validation Accuracy: 0.9575\n",
      "\n"
     ]
    },
    {
     "data": {
      "application/vnd.jupyter.widget-view+json": {
       "model_id": "018707e8f6cb4351b15d45b4ecff681c",
       "version_major": 2,
       "version_minor": 0
      },
      "text/plain": [
       "Training:   0%|          | 0/845 [00:00<?, ?it/s]"
      ]
     },
     "metadata": {},
     "output_type": "display_data"
    },
    {
     "name": "stdout",
     "output_type": "stream",
     "text": [
      "02/04/2024, 04:56:53# total batches: 845\n",
      "02/04/2024, 04:56:53# Epoch 12 | Train Loss: 0.1261 | Train Accuracy: 0.9677\n"
     ]
    },
    {
     "data": {
      "application/vnd.jupyter.widget-view+json": {
       "model_id": "bc55e6e02c5b42249b48cb2a3650a514",
       "version_major": 2,
       "version_minor": 0
      },
      "text/plain": [
       "Validation:   0%|          | 0/106 [00:00<?, ?it/s]"
      ]
     },
     "metadata": {},
     "output_type": "display_data"
    },
    {
     "name": "stdout",
     "output_type": "stream",
     "text": [
      "02/04/2024, 04:57:09# Validation Loss: 0.1343 | Validation Accuracy: 0.9674\n",
      "\n"
     ]
    },
    {
     "data": {
      "application/vnd.jupyter.widget-view+json": {
       "model_id": "2b111ae0d47c4280bcc90a53f07eb822",
       "version_major": 2,
       "version_minor": 0
      },
      "text/plain": [
       "Training:   0%|          | 0/845 [00:00<?, ?it/s]"
      ]
     },
     "metadata": {},
     "output_type": "display_data"
    },
    {
     "name": "stdout",
     "output_type": "stream",
     "text": [
      "02/04/2024, 04:59:50# total batches: 845\n",
      "02/04/2024, 04:59:50# Epoch 13 | Train Loss: 0.1215 | Train Accuracy: 0.9693\n"
     ]
    },
    {
     "data": {
      "application/vnd.jupyter.widget-view+json": {
       "model_id": "aae39a4d69cd4ffe91f80f2560cbb7f5",
       "version_major": 2,
       "version_minor": 0
      },
      "text/plain": [
       "Validation:   0%|          | 0/106 [00:00<?, ?it/s]"
      ]
     },
     "metadata": {},
     "output_type": "display_data"
    },
    {
     "name": "stdout",
     "output_type": "stream",
     "text": [
      "02/04/2024, 05:00:05# Validation Loss: 0.1357 | Validation Accuracy: 0.9642\n",
      "\n"
     ]
    },
    {
     "data": {
      "application/vnd.jupyter.widget-view+json": {
       "model_id": "aa0c351a4478442bae121fe365ac3e6a",
       "version_major": 2,
       "version_minor": 0
      },
      "text/plain": [
       "Training:   0%|          | 0/845 [00:00<?, ?it/s]"
      ]
     },
     "metadata": {},
     "output_type": "display_data"
    },
    {
     "name": "stdout",
     "output_type": "stream",
     "text": [
      "02/04/2024, 05:02:45# total batches: 845\n",
      "02/04/2024, 05:02:45# Epoch 14 | Train Loss: 0.1138 | Train Accuracy: 0.9708\n"
     ]
    },
    {
     "data": {
      "application/vnd.jupyter.widget-view+json": {
       "model_id": "77702d4dfd9b495da3379825189fdaa4",
       "version_major": 2,
       "version_minor": 0
      },
      "text/plain": [
       "Validation:   0%|          | 0/106 [00:00<?, ?it/s]"
      ]
     },
     "metadata": {},
     "output_type": "display_data"
    },
    {
     "name": "stdout",
     "output_type": "stream",
     "text": [
      "02/04/2024, 05:03:01# Validation Loss: 0.1272 | Validation Accuracy: 0.9678\n",
      "\n",
      "02/04/2024, 05:03:01# Find a better model!!\n"
     ]
    },
    {
     "data": {
      "application/vnd.jupyter.widget-view+json": {
       "model_id": "da51bbdb2ad3402ea2713d9159d4eda2",
       "version_major": 2,
       "version_minor": 0
      },
      "text/plain": [
       "Training:   0%|          | 0/845 [00:00<?, ?it/s]"
      ]
     },
     "metadata": {},
     "output_type": "display_data"
    },
    {
     "name": "stdout",
     "output_type": "stream",
     "text": [
      "02/04/2024, 05:05:41# total batches: 845\n",
      "02/04/2024, 05:05:41# Epoch 15 | Train Loss: 0.1183 | Train Accuracy: 0.9705\n"
     ]
    },
    {
     "data": {
      "application/vnd.jupyter.widget-view+json": {
       "model_id": "32b90ef4cf564144b0af207c777c41c8",
       "version_major": 2,
       "version_minor": 0
      },
      "text/plain": [
       "Validation:   0%|          | 0/106 [00:00<?, ?it/s]"
      ]
     },
     "metadata": {},
     "output_type": "display_data"
    },
    {
     "name": "stdout",
     "output_type": "stream",
     "text": [
      "02/04/2024, 05:05:57# Validation Loss: 0.1362 | Validation Accuracy: 0.9667\n",
      "\n"
     ]
    },
    {
     "data": {
      "application/vnd.jupyter.widget-view+json": {
       "model_id": "6246e1ab83764e61a5e088b0de85425a",
       "version_major": 2,
       "version_minor": 0
      },
      "text/plain": [
       "Training:   0%|          | 0/845 [00:00<?, ?it/s]"
      ]
     },
     "metadata": {},
     "output_type": "display_data"
    },
    {
     "name": "stdout",
     "output_type": "stream",
     "text": [
      "02/04/2024, 05:08:38# total batches: 845\n",
      "02/04/2024, 05:08:38# Epoch 16 | Train Loss: 0.1010 | Train Accuracy: 0.9736\n"
     ]
    },
    {
     "data": {
      "application/vnd.jupyter.widget-view+json": {
       "model_id": "34bddbd438d245c89d3e4bcafb78e5c3",
       "version_major": 2,
       "version_minor": 0
      },
      "text/plain": [
       "Validation:   0%|          | 0/106 [00:00<?, ?it/s]"
      ]
     },
     "metadata": {},
     "output_type": "display_data"
    },
    {
     "name": "stdout",
     "output_type": "stream",
     "text": [
      "02/04/2024, 05:08:53# Validation Loss: 0.1146 | Validation Accuracy: 0.9716\n",
      "\n",
      "02/04/2024, 05:08:53# Find a better model!!\n"
     ]
    },
    {
     "data": {
      "application/vnd.jupyter.widget-view+json": {
       "model_id": "bfd80659263e4bd7bffd49460dc1e8c2",
       "version_major": 2,
       "version_minor": 0
      },
      "text/plain": [
       "Training:   0%|          | 0/845 [00:00<?, ?it/s]"
      ]
     },
     "metadata": {},
     "output_type": "display_data"
    },
    {
     "name": "stdout",
     "output_type": "stream",
     "text": [
      "02/04/2024, 05:11:35# total batches: 845\n",
      "02/04/2024, 05:11:35# Epoch 17 | Train Loss: 0.0917 | Train Accuracy: 0.9760\n"
     ]
    },
    {
     "data": {
      "application/vnd.jupyter.widget-view+json": {
       "model_id": "bc422851a821493ba34a8132239dc85e",
       "version_major": 2,
       "version_minor": 0
      },
      "text/plain": [
       "Validation:   0%|          | 0/106 [00:00<?, ?it/s]"
      ]
     },
     "metadata": {},
     "output_type": "display_data"
    },
    {
     "name": "stdout",
     "output_type": "stream",
     "text": [
      "02/04/2024, 05:11:50# Validation Loss: 0.0987 | Validation Accuracy: 0.9738\n",
      "\n",
      "02/04/2024, 05:11:50# Find a better model!!\n"
     ]
    },
    {
     "data": {
      "application/vnd.jupyter.widget-view+json": {
       "model_id": "9af76e9e5b6b433f9e7c5ed60f6f4a9e",
       "version_major": 2,
       "version_minor": 0
      },
      "text/plain": [
       "Training:   0%|          | 0/845 [00:00<?, ?it/s]"
      ]
     },
     "metadata": {},
     "output_type": "display_data"
    },
    {
     "name": "stdout",
     "output_type": "stream",
     "text": [
      "02/04/2024, 05:14:30# total batches: 845\n",
      "02/04/2024, 05:14:30# Epoch 18 | Train Loss: 0.1080 | Train Accuracy: 0.9748\n"
     ]
    },
    {
     "data": {
      "application/vnd.jupyter.widget-view+json": {
       "model_id": "90f8c327562c47dbbe2fa94d7a5f6df6",
       "version_major": 2,
       "version_minor": 0
      },
      "text/plain": [
       "Validation:   0%|          | 0/106 [00:00<?, ?it/s]"
      ]
     },
     "metadata": {},
     "output_type": "display_data"
    },
    {
     "name": "stdout",
     "output_type": "stream",
     "text": [
      "02/04/2024, 05:14:47# Validation Loss: 0.1557 | Validation Accuracy: 0.9603\n",
      "\n"
     ]
    },
    {
     "data": {
      "application/vnd.jupyter.widget-view+json": {
       "model_id": "92b3e12c126a467eb5f11fde05830ecd",
       "version_major": 2,
       "version_minor": 0
      },
      "text/plain": [
       "Training:   0%|          | 0/845 [00:00<?, ?it/s]"
      ]
     },
     "metadata": {},
     "output_type": "display_data"
    },
    {
     "name": "stdout",
     "output_type": "stream",
     "text": [
      "02/04/2024, 05:17:27# total batches: 845\n",
      "02/04/2024, 05:17:27# Epoch 19 | Train Loss: 0.1138 | Train Accuracy: 0.9726\n"
     ]
    },
    {
     "data": {
      "application/vnd.jupyter.widget-view+json": {
       "model_id": "fc33ea3ad94a4835a9cb75ad75a0c8e1",
       "version_major": 2,
       "version_minor": 0
      },
      "text/plain": [
       "Validation:   0%|          | 0/106 [00:00<?, ?it/s]"
      ]
     },
     "metadata": {},
     "output_type": "display_data"
    },
    {
     "name": "stdout",
     "output_type": "stream",
     "text": [
      "02/04/2024, 05:17:43# Validation Loss: 0.1135 | Validation Accuracy: 0.9706\n",
      "\n"
     ]
    },
    {
     "data": {
      "application/vnd.jupyter.widget-view+json": {
       "model_id": "20af7a04c4474aaa9685183f25c1a491",
       "version_major": 2,
       "version_minor": 0
      },
      "text/plain": [
       "Training:   0%|          | 0/845 [00:00<?, ?it/s]"
      ]
     },
     "metadata": {},
     "output_type": "display_data"
    },
    {
     "name": "stdout",
     "output_type": "stream",
     "text": [
      "02/04/2024, 05:20:25# total batches: 845\n",
      "02/04/2024, 05:20:25# Epoch 20 | Train Loss: 0.0885 | Train Accuracy: 0.9767\n"
     ]
    },
    {
     "data": {
      "application/vnd.jupyter.widget-view+json": {
       "model_id": "153c70b904614bcfa3fc289167a73b44",
       "version_major": 2,
       "version_minor": 0
      },
      "text/plain": [
       "Validation:   0%|          | 0/106 [00:00<?, ?it/s]"
      ]
     },
     "metadata": {},
     "output_type": "display_data"
    },
    {
     "name": "stdout",
     "output_type": "stream",
     "text": [
      "02/04/2024, 05:20:40# Validation Loss: 0.1076 | Validation Accuracy: 0.9719\n",
      "\n"
     ]
    },
    {
     "data": {
      "application/vnd.jupyter.widget-view+json": {
       "model_id": "799c3852b5b1410aa5fdfd7cb1599e54",
       "version_major": 2,
       "version_minor": 0
      },
      "text/plain": [
       "Training:   0%|          | 0/845 [00:00<?, ?it/s]"
      ]
     },
     "metadata": {},
     "output_type": "display_data"
    },
    {
     "name": "stdout",
     "output_type": "stream",
     "text": [
      "02/04/2024, 05:23:21# total batches: 845\n",
      "02/04/2024, 05:23:21# Epoch 21 | Train Loss: 0.0849 | Train Accuracy: 0.9774\n"
     ]
    },
    {
     "data": {
      "application/vnd.jupyter.widget-view+json": {
       "model_id": "ef013cd407e840a8b06b7562ade73815",
       "version_major": 2,
       "version_minor": 0
      },
      "text/plain": [
       "Validation:   0%|          | 0/106 [00:00<?, ?it/s]"
      ]
     },
     "metadata": {},
     "output_type": "display_data"
    },
    {
     "name": "stdout",
     "output_type": "stream",
     "text": [
      "02/04/2024, 05:23:37# Validation Loss: 0.1214 | Validation Accuracy: 0.9700\n",
      "\n"
     ]
    },
    {
     "data": {
      "application/vnd.jupyter.widget-view+json": {
       "model_id": "e941063411274277b32d959ef007bdfe",
       "version_major": 2,
       "version_minor": 0
      },
      "text/plain": [
       "Training:   0%|          | 0/845 [00:00<?, ?it/s]"
      ]
     },
     "metadata": {},
     "output_type": "display_data"
    },
    {
     "name": "stdout",
     "output_type": "stream",
     "text": [
      "02/04/2024, 05:26:18# total batches: 845\n",
      "02/04/2024, 05:26:18# Epoch 22 | Train Loss: 0.0896 | Train Accuracy: 0.9767\n"
     ]
    },
    {
     "data": {
      "application/vnd.jupyter.widget-view+json": {
       "model_id": "22166d9b7af3417f9ad3c5b36460f832",
       "version_major": 2,
       "version_minor": 0
      },
      "text/plain": [
       "Validation:   0%|          | 0/106 [00:00<?, ?it/s]"
      ]
     },
     "metadata": {},
     "output_type": "display_data"
    },
    {
     "name": "stdout",
     "output_type": "stream",
     "text": [
      "02/04/2024, 05:26:34# Validation Loss: 0.1480 | Validation Accuracy: 0.9643\n",
      "\n",
      "02/04/2024, 05:26:34# ============================== Early stopping ==================================\n"
     ]
    }
   ],
   "source": [
    "same_seeds(seed)\n",
    "model = model.to(device)\n",
    "best_val_loss = float('inf')\n",
    "\n",
    "# Training Part\n",
    "for epoch in tqdm(range(total_steps)):\n",
    "    # Train\n",
    "    model.train()\n",
    "    total_loss = 0.0\n",
    "    total_accuracy = 0.0\n",
    "    num_batches = 0\n",
    "    \n",
    "    for batched_g in tqdm(dataloaders['train'], desc=\"Training\", position=0, leave=True):\n",
    "        num_batches += 1\n",
    "        loss, accuracy, _ = model_fn(batched_g, model, criterion, device, num_batches, which_type='train')\n",
    "        \n",
    "        optimizer.zero_grad()\n",
    "        loss.backward()\n",
    "        optimizer.step()\n",
    "\n",
    "        total_loss += loss.item()\n",
    "        total_accuracy += accuracy.item()\n",
    "\n",
    "    # scheduler affect the performance a lot\n",
    "    # scheduler.step()\n",
    "    add_log_msg(f\"total batches: {num_batches}\")\n",
    "\n",
    "    avg_loss = total_loss / num_batches\n",
    "    avg_accuracy = total_accuracy / num_batches\n",
    "\n",
    "    add_log_msg(f'Epoch {epoch} | Train Loss: {avg_loss:.4f} | Train Accuracy: {avg_accuracy:.4f}')\n",
    "\n",
    "    \n",
    "    # Validation Part\n",
    "    model.eval()\n",
    "    total_accuracy = 0.0\n",
    "    total_loss = 0.0\n",
    "    num_batches = 0\n",
    "\n",
    "\n",
    "    with torch.no_grad():\n",
    "        for batched_g in tqdm(dataloaders['valid'], desc=\"Validation\", position=0, leave=True):\n",
    "            loss, accuracy, _ = model_fn(batched_g, model, criterion, device, num_batches, which_type='validation')\n",
    "            total_accuracy += accuracy.item()\n",
    "            total_loss += loss.item()\n",
    "            num_batches += 1\n",
    "\n",
    "    avg_accuracy = total_accuracy / num_batches\n",
    "    current_loss = total_loss / num_batches\n",
    "    \n",
    "    add_log_msg(f'Validation Loss: {current_loss:.4f} | Validation Accuracy: {avg_accuracy:.4f}\\n')\n",
    "    \n",
    "            \n",
    "    if current_loss < best_val_loss:\n",
    "        best_val_loss = current_loss\n",
    "        waiting = 0\n",
    "        \n",
    "        if os.path.exists(best_model_path):\n",
    "            os.remove(best_model_path)\n",
    "            add_log_msg(\"Find a better model!!\")\n",
    "\n",
    "        torch.save(model.state_dict(), best_model_path)\n",
    " \n",
    "    else:\n",
    "        waiting += 1\n",
    "        if waiting >= patience:\n",
    "            add_log_msg(\"============================== Early stopping ==================================\")\n",
    "            break"
   ]
  },
  {
   "cell_type": "markdown",
   "metadata": {},
   "source": [
    "### test of valid and test part is ``graph``"
   ]
  },
  {
   "cell_type": "markdown",
   "metadata": {},
   "source": [
    "- 60 APs in training x 10000times\n",
    "- 5 APs in validation x 4 times\n",
    "- 3 APs in test x 4 times\n",
    "- Batch size = 4"
   ]
  },
  {
   "cell_type": "code",
   "execution_count": 41,
   "metadata": {
    "scrolled": true
   },
   "outputs": [
    {
     "data": {
      "application/vnd.jupyter.widget-view+json": {
       "model_id": "bced7b8ec2ea4f7baaaac0b69a12e9b8",
       "version_major": 2,
       "version_minor": 0
      },
      "text/plain": [
       "Testing:   0%|          | 0/106 [00:00<?, ?it/s]"
      ]
     },
     "metadata": {},
     "output_type": "display_data"
    },
    {
     "name": "stdout",
     "output_type": "stream",
     "text": [
      "02/04/2024, 05:26:34# labels: tensor([248, 248, 248,  ..., 248, 248, 248], device='cuda:0') torch.Size([6003])\n",
      "02/04/2024, 05:26:34# predicted: tensor([248, 248, 248,  ..., 248, 248, 248], device='cuda:0') torch.Size([6003])\n",
      "02/04/2024, 05:26:52# Test Accuracy: 96.18243048158236 %\n",
      "\n",
      "\n",
      "\n"
     ]
    }
   ],
   "source": [
    "# load the pretrained model\n",
    "# pretrained_model_path = './checkpoint_graphSAGE/best_model_GraphSAGE_transE_50.pt'\n",
    "model.load_state_dict(torch.load(best_model_path))\n",
    "\n",
    "model.to(device)\n",
    "model.eval()\n",
    "\n",
    "total = 0\n",
    "correct = 0\n",
    "count = 0\n",
    "\n",
    "true_labels = []\n",
    "predicted_labels = []\n",
    "\n",
    "with torch.no_grad():\n",
    "    for batched_g in tqdm(dataloaders['test'], desc=\"Testing\", position=0, leave=True):\n",
    "#         print(f\"data:{data[1]}\")\n",
    "        loss, accuracy, predicted = model_fn(batched_g, model, criterion, device, count, which_type='test')\n",
    "        labels = batched_g.edata['label'].to(device)\n",
    "        \n",
    "        true_labels.extend(labels.cpu().numpy())\n",
    "        predicted_labels.extend(predicted.cpu().numpy())\n",
    "        \n",
    "        if count % 5000 == 0:\n",
    "            add_log_msg(f\"labels: {labels} {labels.shape}\")\n",
    "            add_log_msg(f\"predicted: {predicted} {predicted.shape}\")\n",
    "            \n",
    "        count += 1\n",
    "        \n",
    "        total += labels.size(0)\n",
    "        correct += (predicted == labels).sum().item()\n",
    "\n",
    "add_log_msg(f'Test Accuracy: {100 * correct / total} %\\n\\n\\n')"
   ]
  },
  {
   "cell_type": "code",
   "execution_count": 42,
   "metadata": {},
   "outputs": [
    {
     "data": {
      "text/plain": [
       "{0: 'T1059.001_702bfdd2-9947-4eda-b551-c3a1ea9a59a2_B',\n",
       " 1: 'T1078.001_d0ca00832890baa1d42322cf70fcab1a_B',\n",
       " 2: 'T1074.001_e6dfc7e89359ac6fa6de84b0e1d5762e_B',\n",
       " 3: 'T1491_68235976-2404-42a8-9105-68230cfef562_B',\n",
       " 4: 'T1016_14a21534-350f-4d83-9dd7-3c56b93a0c17_B',\n",
       " 5: 'T1491_47d08617-5ce1-424a-8cc5-c9c978ce6bf9_I',\n",
       " 6: 'T1074.001_4e97e699-93d7-4040-b5a3-2e906a58199e_I',\n",
       " 7: 'T1040_6881a4589710d53f0c146e91db513f01_B',\n",
       " 8: 'T1547.009_b6e5c895c6709fe289352ee23f062229_B',\n",
       " 9: 'T1564.001_66a5fd5f244819181f074dd082a28905_B',\n",
       " 10: 'T1047_f4b0b4129560ea66f9751275e82f6bab_B',\n",
       " 11: 'T1112_257313a3c93e3bb7dfb60d6753b09e34_I',\n",
       " 12: 'T1047_ac2764f7a67a9ce92b54e8e59b361838_B',\n",
       " 13: 'T1518.001_33a24ff44719e6ac0614b58f8c9a7c72_B',\n",
       " 14: 'T1204.002_522f3f35cd013e63830fa555495a0081_I',\n",
       " 15: 'T1059.001_ccdb8caf-c69e-424b-b930-551969450c57_B',\n",
       " 16: 'T1105_0856c235a1d26113d4f2d92e39c9a9f8_B',\n",
       " 17: 'T1547_fe9eeee9a7b339089e5fa634b08522c1_I',\n",
       " 18: 'T1574.001_63bbedafba2f541552ac3579e9e3737b_B',\n",
       " 19: 'T1137.002_e2af3c3ab1b0f659c874b8af58c49759_B',\n",
       " 20: 'T1105_e6715e61f5df646692c624b3499384c4_B',\n",
       " 21: 'T1105_4f683658f161ccdc51337c470d32bab9_B',\n",
       " 22: 'T1112_4bfb5f265a5ce07af6bf10da113af7db_B',\n",
       " 23: 'T1016_921055f4-5970-4707-909e-62f594234d91_B',\n",
       " 24: 'T1105_60f63260-39bb-4136-87a0-b6c2dca799fc_I',\n",
       " 25: 'T1041_ea713bc4-63f0-491c-9a6f-0b01d560b87e_B',\n",
       " 26: 'T1007_d6bb2a19da7246731ed9c44831b135f8_B',\n",
       " 27: 'T1496_46da2385-cf37-49cb-ba4b-a739c7a19de4_B',\n",
       " 28: 'T1115_70795de7cbb842edb029b3378c27c008_B',\n",
       " 29: 'T1125_da86001b5081fcf773d8e62f22cf2b00_I',\n",
       " 30: 'T1105_60f63260-39bb-4136-87a0-b6c2dca799fc_B',\n",
       " 31: 'T1003.001_0ef4cc7b-611c-4237-b20b-db36b6906554_B',\n",
       " 32: 'T1531_aa6b15485a5f50ced34d87fda177b758_B',\n",
       " 33: 'T1547.001_1f15ab22c39a9b6bb2bb0d77276dfcb3_B',\n",
       " 34: 'T1059.001_702bfdd2-9947-4eda-b551-c3a1ea9a59a2_I',\n",
       " 35: 'T1047_f4b0b4129560ea66f9751275e82f6bab_I',\n",
       " 36: 'T1562.002_6a8d25d65a7d481dc479f89c62af1e6a_I',\n",
       " 37: 'T1059.003_6c318ef0339d74d909ad556681b6493e_I',\n",
       " 38: 'T1059.001_6efbccc1869e8cd618c0d3ecda407d5f_I',\n",
       " 39: 'T1090.001_ba343199a4f15ed6b57eb52412f62e4e_I',\n",
       " 40: 'T1518_8ddfaf982ab359cda13626b870ccb339_I',\n",
       " 41: 'T1059.001_6efbccc1869e8cd618c0d3ecda407d5f_B',\n",
       " 42: 'T1219_f1b3fca18d7465cd10e5a7477a3bf97d_B',\n",
       " 43: 'T1003.002_7fa4ea18694f2552547b65e23952cabb_I',\n",
       " 44: 'T1105_0856c235a1d26113d4f2d92e39c9a9f8_I',\n",
       " 45: 'T1112_cd8be0e6b873919da25530a2c7ea6750_B',\n",
       " 46: 'T1204.002_522f3f35cd013e63830fa555495a0081_B',\n",
       " 47: 'T1482_6131397e-7765-424e-a594-3d7fb2d93a6a_B',\n",
       " 48: 'T1082_29451844-9b76-4e16-a9ee-d6feab4b24db_B',\n",
       " 49: 'T1518.001_2dece965-37a0-4f70-a391-0f30e3331aba_B',\n",
       " 50: 'T1074.001_4e97e699-93d7-4040-b5a3-2e906a58199e_B',\n",
       " 51: 'T1564.003_9a2edad4053a2b59fb9167a9bc29e7dc_B',\n",
       " 52: 'T1547.001_4b71ebb2f6f6a01235ba240fa40ce978_I',\n",
       " 53: 'T1547.001_777043894e42d2aae3881e63f6c76d33_I',\n",
       " 54: 'T1083_52177cc1-b9ab-4411-ac21-2eadc4b5d3b8_B',\n",
       " 55: 'T1040_6881a4589710d53f0c146e91db513f01_I',\n",
       " 56: 'T1016_71b3d2945679566b9d94d8cb11df4b70_B',\n",
       " 57: 'T1562.001_43e3334362b140924f001b256b229ee5_I',\n",
       " 58: 'T1105_eb814e03-811a-467a-bc6d-dcd453750fa2_I',\n",
       " 59: 'T1057_b2a1e430ca6d36eb5af2fe666e769847_B',\n",
       " 60: 'T1490_c8f329d2847ede593b6cb4a1ec6120fb_I',\n",
       " 61: 'T1562.004_5b93df032e230056c21a3e57334f77d1_I',\n",
       " 62: 'T1564.001_66a5fd5f244819181f074dd082a28905_I',\n",
       " 63: 'T1005_720a3356-eee1-4015-9135-0fc08f7eb2d5_I',\n",
       " 64: 'T1049_638fb6bb-ba39-4285-93d1-7e4775b033a8_B',\n",
       " 65: 'T1003_18f31c311ac208802e88ab8d5af8603e_I',\n",
       " 66: 'T1562.004_8d0a4585e7c4646185a912b14cd9cb46_B',\n",
       " 67: 'T1036.004_7de3d7b4922a7b996d8df36fb22bb118_B',\n",
       " 68: 'T1041_ea713bc4-63f0-491c-9a6f-0b01d560b87e_I',\n",
       " 69: 'T1567_3d3d378b0bf66f763b0c9d7a129eb130_I',\n",
       " 70: 'T1547.001_1f15ab22c39a9b6bb2bb0d77276dfcb3_I',\n",
       " 71: 'T1071.001_24c3b7b004401d839a5c337201da3484_I',\n",
       " 72: 'T1574.011_72249c1e9ffe7d8f30243d838e0791ca_B',\n",
       " 73: 'T1560_a1ee301b0508747b468d578a14e5c1a5_I',\n",
       " 74: 'T1074.001_e6dfc7e89359ac6fa6de84b0e1d5762e_I',\n",
       " 75: 'T1113_316251ed-6a28-4013-812b-ddf5b5b007f8_I',\n",
       " 76: 'T1518_8ddfaf982ab359cda13626b870ccb339_B',\n",
       " 77: 'T1021.001_dd67068b052fa553ad4a0ac7d6a5ea89_B',\n",
       " 78: 'T1201_38f6f0e50a6b196140ec40d3dc9cc9e6_B',\n",
       " 79: 'T1119_7121cdf93b951311be9d7078c602efdc_I',\n",
       " 80: 'T1059.001_ccdb8caf-c69e-424b-b930-551969450c57_I',\n",
       " 81: 'T1562.001_43e3334362b140924f001b256b229ee5_B',\n",
       " 82: 'T1059.001_e5f9de8f-3df1-4e78-ad92-a784e3f6770d_I',\n",
       " 83: 'T1071.001_24c3b7b004401d839a5c337201da3484_B',\n",
       " 84: 'T1112_34041639e6e501856ecaf5969ee29c76_B',\n",
       " 85: 'T1115_70795de7cbb842edb029b3378c27c008_I',\n",
       " 86: 'T1564.001_dce51e632abdfe5392c7c1f942ac9273_B',\n",
       " 87: 'T1033_c0da588f-79f0-4263-8998-7496b1a40596_B',\n",
       " 88: 'T1564.004_76b6066fe170d38215251102e42be973_B',\n",
       " 89: 'T1037.001_62cfa90fb03a6bc1a6ebcce8a3ea81b7_B',\n",
       " 90: 'T1119_344e7eaf650763e0d3e9f02e62c1cf4b_I',\n",
       " 91: 'T1105_1095434782a00c8a4772a11e625bcf5d_I',\n",
       " 92: 'T1047_ac122553ab4426ea3362bb4a97d31bfd_B',\n",
       " 93: 'T1003.001_35d92515122effdd73801c6ac3021da7_I',\n",
       " 94: 'T1574.011_72249c1e9ffe7d8f30243d838e0791ca_I',\n",
       " 95: 'T1016_a0676fe1-cd52-482e-8dde-349b73f9aa69_B',\n",
       " 96: 'T1547.001_163b023f43aba758d36f524d146cb8ea_I',\n",
       " 97: 'T1047_ed736a123da6fb2aab22cfd4f437e8b5_B',\n",
       " 98: 'T1018_a44bb43474728496276d5d73aa14588f_B',\n",
       " 99: 'T1562.004_41627f71f968225b9f162cb76d16bd9d_B',\n",
       " 100: 'T1021.001_dd67068b052fa553ad4a0ac7d6a5ea89_I',\n",
       " 101: 'T1135_deeac480-5c2a-42b5-90bb-41675ee53c7e_B',\n",
       " 102: 'T1547.004_aa147165f6c116cb0b0f944abe1db8ce_I',\n",
       " 103: 'T1120_7b9c7afaefa59aab759b49af0d699ac1_I',\n",
       " 104: 'T1007_9d03c91bdae5a80f17f89c987942b5a8_I',\n",
       " 105: 'T1003.002_5a484b65c247675e3b7ada4ba648d376_B',\n",
       " 106: 'T1518.001_b8453a5fe06b24aea12b27592d5c3d3a_B',\n",
       " 107: 'T1219_af8cb2bf9b436aae5c106a0a9c207e14_I',\n",
       " 108: 'T1105_c76968acda4aa1673dadcd67f3ab7664_B',\n",
       " 109: 'T1547.009_b6e5c895c6709fe289352ee23f062229_I',\n",
       " 110: 'T1564.003_9a2edad4053a2b59fb9167a9bc29e7dc_I',\n",
       " 111: 'T1201_57296a2ddbeb7423c05feef2fe972111_B',\n",
       " 112: 'T1003.001_35d92515122effdd73801c6ac3021da7_B',\n",
       " 113: 'T1547.009_501af516bd8b24fee0c7c650ae5cc861_I',\n",
       " 114: 'T1036.003_f5ef8466e5ebcd2ae03f338d9416069c_I',\n",
       " 115: 'T1112_e74d2fb4ef5fa6c766a4151554033697_I',\n",
       " 116: 'T1490_2d53d6fabd39bf9c70b0dfcdfbbc926d_B',\n",
       " 117: 'T1137.002_e2af3c3ab1b0f659c874b8af58c49759_I',\n",
       " 118: 'T1112_e7a987cbef27263e666e5b096488dc55_I',\n",
       " 119: 'T1124_fa6e8607-e0b1-425d-8924-9b894da5a002_B',\n",
       " 120: 'T1490_e90756bb6dcd21462dc4cc452661df91_B',\n",
       " 121: 'T1087.001_6334877e8e3ba48f7835d4856d90a282_I',\n",
       " 122: 'T1499_2fe2d5e6-7b06-4fc0-bf71-6966a1226731_B',\n",
       " 123: 'T1546.013_f9a968af61d36983448c74cca5464e17_B',\n",
       " 124: 'T1562.004_41627f71f968225b9f162cb76d16bd9d_I',\n",
       " 125: 'T1059.003_f38e58deb7ad20b5538ca40db7b7b4f8_B',\n",
       " 126: 'T1112_ba6f6214dbd17c54001e0a163b60f151_I',\n",
       " 127: 'T1217_f7a0f7d704aa52a764d9d1bee81e65d6_B',\n",
       " 128: 'T1112_35c0360d226cf38104f300d9d57ce60e_I',\n",
       " 129: 'T1113_316251ed-6a28-4013-812b-ddf5b5b007f8_B',\n",
       " 130: 'T1560_a1ee301b0508747b468d578a14e5c1a5_B',\n",
       " 131: 'T1482_cfb61005899996469ae3023796792ca5_B',\n",
       " 132: 'T1112_257313a3c93e3bb7dfb60d6753b09e34_B',\n",
       " 133: 'T1490_c156ac5c9fa67080365268d95f29053d_B',\n",
       " 134: 'T1217_69bbe2183fa09c00ccaac62d48e214f8_I',\n",
       " 135: 'T1496_46da2385-cf37-49cb-ba4b-a739c7a19de4_I',\n",
       " 136: 'T1003.001_0ef4cc7b-611c-4237-b20b-db36b6906554_I',\n",
       " 137: 'T1046_5a4cb2be-2684-4801-9355-3a90c91e0004_B',\n",
       " 138: 'T1047_b0255b5120cbabc062d8d4510a142c3b_B',\n",
       " 139: 'T1566.001_1afaec09315ab71fdfb167175e8a019a_B',\n",
       " 140: 'T1049_a14392d713dffba6a397682ff83259a0_B',\n",
       " 141: 'T1137_12ad9edefc86af07700fbf49bfdac6ba_I',\n",
       " 142: 'T1547.010_4593d72a5145e3f494421ac772d37464_I',\n",
       " 143: 'T1016_e8017c46-acb8-400c-a4b5-b3362b5b5baa_B',\n",
       " 144: 'T1120_7b9c7afaefa59aab759b49af0d699ac1_B',\n",
       " 145: 'T1018_ac20e592bc912bddff4d6b88289095f0_B',\n",
       " 146: 'T1105_c521e0a70b243a0cf9217907ca3c6d27_I',\n",
       " 147: 'T1003.003_f049b89533298c2d6cd37a940248b219_B',\n",
       " 148: 'T1112_7fe6a66d03f4dbfc022609ba311c2b11_B',\n",
       " 149: 'T1057_f8de05d1741dcc468f772ab0ff4dac72_B',\n",
       " 150: 'T1562.004_8fe59e288f10a486dc8b44bc872019ff_B',\n",
       " 151: 'T1053.005_5db2884b6ca3ab932848f295a3896dc0_B',\n",
       " 152: 'T1547.010_4593d72a5145e3f494421ac772d37464_B',\n",
       " 153: 'T1564.004_28862487a99f5f89bc0d68c87396c7e9_B',\n",
       " 154: 'T1059.003_6c318ef0339d74d909ad556681b6493e_B',\n",
       " 155: 'T1007_c6607391-d02c-44b5-9b13-d3492ca58599_B',\n",
       " 156: 'T1135_530e47c6-8592-42bf-91df-c59ffbd8541b_B',\n",
       " 157: 'T1112_4bfb5f265a5ce07af6bf10da113af7db_I',\n",
       " 158: 'T1547.001_0dbdf1a2a87e718a6ac8a8e3415a7fac_I',\n",
       " 159: 'T1112_35c0360d226cf38104f300d9d57ce60e_B',\n",
       " 160: 'T1105_c521e0a70b243a0cf9217907ca3c6d27_B',\n",
       " 161: 'T1574.001_63bbedafba2f541552ac3579e9e3737b_I',\n",
       " 162: 'T1564.004_76b6066fe170d38215251102e42be973_I',\n",
       " 163: 'T1105_c76968acda4aa1673dadcd67f3ab7664_I',\n",
       " 164: 'T1083_52177cc1-b9ab-4411-ac21-2eadc4b5d3b8_I',\n",
       " 165: 'T1562.002_94f51bf01a7036fe02d07b4c18967669_B',\n",
       " 166: 'T1112_e7a987cbef27263e666e5b096488dc55_B',\n",
       " 167: 'T1137_12ad9edefc86af07700fbf49bfdac6ba_B',\n",
       " 168: 'T1112_ba6f6214dbd17c54001e0a163b60f151_B',\n",
       " 169: 'T1547.009_501af516bd8b24fee0c7c650ae5cc861_B',\n",
       " 170: 'T1057_8adf02e8-6e71-4244-886c-98c402857404_B',\n",
       " 171: 'T1105_4f683658f161ccdc51337c470d32bab9_I',\n",
       " 172: 'T1219_7dabcbecab0334b115feefab1630f84a_B',\n",
       " 173: 'T1548.002_665432a4-42e7-4ee1-af19-a9a8c9455d0c_B',\n",
       " 174: 'T1105_e6715e61f5df646692c624b3499384c4_I',\n",
       " 175: 'T1219_af8cb2bf9b436aae5c106a0a9c207e14_B',\n",
       " 176: 'T1119_7121cdf93b951311be9d7078c602efdc_B',\n",
       " 177: 'T1217_69bbe2183fa09c00ccaac62d48e214f8_B',\n",
       " 178: 'T1069.001_a1f48fa3ddee658b29b414523c9a295b_B',\n",
       " 179: 'T1074.001_6469befa-748a-4b9c-a96d-f191fde47d89_I',\n",
       " 180: 'T1564.001_dce51e632abdfe5392c7c1f942ac9273_I',\n",
       " 181: 'T1018_26c8b8b5-7b5b-4de1-a128-7d37fb14f517_B',\n",
       " 182: 'T1059.003_f38e58deb7ad20b5538ca40db7b7b4f8_I',\n",
       " 183: 'T1112_cab7b85611a290c0769546bfa9d6f962_B',\n",
       " 184: 'T1497.001_7a6ba833-de40-466a-8969-5c37b13603e0_B',\n",
       " 185: 'T1112_cab7b85611a290c0769546bfa9d6f962_I',\n",
       " 186: 'T1112_fd992e8ecfdac9b56dd6868904044827_I',\n",
       " 187: 'T1112_cd8be0e6b873919da25530a2c7ea6750_I',\n",
       " 188: 'T1057_5a39d7ed-45c9-4a79-b581-e5fb99e24f65_B',\n",
       " 189: 'T1547.001_777043894e42d2aae3881e63f6c76d33_B',\n",
       " 190: 'T1490_c8f329d2847ede593b6cb4a1ec6120fb_B',\n",
       " 191: 'T1055.002_e5bcefee-262d-4568-a261-e8a20855ec81_B',\n",
       " 192: 'T1562.004_8fe59e288f10a486dc8b44bc872019ff_I',\n",
       " 193: 'T1562.004_280003641a5cddf916c4f2bf605a71d3_B',\n",
       " 194: 'T1059.001_55678719-e76e-4df9-92aa-10655bbd1cf4_B',\n",
       " 195: 'T1219_7dabcbecab0334b115feefab1630f84a_I',\n",
       " 196: 'T1003.002_7fa4ea18694f2552547b65e23952cabb_B',\n",
       " 197: 'T1518_c9be8043-a445-4cbf-b77b-ed7bb007fc7c_B',\n",
       " 198: 'T1047_09e0f9cf2eb803a1c35deeecf3665fad_B',\n",
       " 199: 'T1497.001_1258b063-27d6-489b-a677-4807faacf868_B',\n",
       " 200: 'T1123_372e6f46fca18e4f1b43209c20ffafa2_B',\n",
       " 201: 'T1123_372e6f46fca18e4f1b43209c20ffafa2_I',\n",
       " 202: 'T1486_d82ceb9939d3d920ee550187ad8235c8_I',\n",
       " 203: 'T1059.001_55678719-e76e-4df9-92aa-10655bbd1cf4_I',\n",
       " 204: 'T1087.001_feaced8f-f43f-452a-9500-a5219488abb8_B',\n",
       " 205: 'T1490_9e5e4c0655fd1b5be88bd40b8251175f_B',\n",
       " 206: 'T1033_bd527b63-9f9e-46e0-9816-b8434d2b8989_B',\n",
       " 207: 'T1562.002_94f51bf01a7036fe02d07b4c18967669_I',\n",
       " 208: 'T1567_3d3d378b0bf66f763b0c9d7a129eb130_B',\n",
       " 209: 'T1003.002_5a484b65c247675e3b7ada4ba648d376_I',\n",
       " 210: 'T1112_fa4ba6a06b4a5cd955ea5a60fae24281_I',\n",
       " 211: 'T1546.013_f9a968af61d36983448c74cca5464e17_I',\n",
       " 212: 'T1059.001_bfff9006-d1fb-46ce-b173-92cb04e9a031_B',\n",
       " 213: 'T1036.003_04e8d83e7badf098d50800d6aa1dd487_I',\n",
       " 214: 'T1548.002_665432a4-42e7-4ee1-af19-a9a8c9455d0c_I',\n",
       " 215: 'T1087.001_6334877e8e3ba48f7835d4856d90a282_B',\n",
       " 216: 'T1547.004_0856714c9810ac55b53e9964d02958a0_I',\n",
       " 217: 'T1037.001_62cfa90fb03a6bc1a6ebcce8a3ea81b7_I',\n",
       " 218: 'T1070.005_1f91076e2be2014cc7b4f1296de02fd6_B',\n",
       " 219: 'T1070.005_1f91076e2be2014cc7b4f1296de02fd6_I',\n",
       " 220: 'T1564.004_28862487a99f5f89bc0d68c87396c7e9_I',\n",
       " 221: 'T1069.001_5c4dd985-89e3-4590-9b57-71fed66ff4e2_I',\n",
       " 222: 'T1055.001_a74bc239-a196-4f7e-8d5c-fe8c0266071c_B',\n",
       " 223: 'T1047_6935e41353aa781bb723462d26114c44_B',\n",
       " 224: 'T1112_34041639e6e501856ecaf5969ee29c76_I',\n",
       " 225: 'T1005_720a3356-eee1-4015-9135-0fc08f7eb2d5_B',\n",
       " 226: 'T1547.001_4b71ebb2f6f6a01235ba240fa40ce978_B',\n",
       " 227: 'T1552.002_3e5b04b8ee0a1a4950da8f35d95e65fc_B',\n",
       " 228: 'T1016_921055f4-5970-4707-909e-62f594234d91_I',\n",
       " 229: 'T1518_c9be8043-a445-4cbf-b77b-ed7bb007fc7c_I',\n",
       " 230: 'T1007_9d03c91bdae5a80f17f89c987942b5a8_B',\n",
       " 231: 'T1046_5a4cb2be-2684-4801-9355-3a90c91e0004_I',\n",
       " 232: 'T1564_dedfa0a54c9c13ce5714a0dc2e1f5d1a_B',\n",
       " 233: 'T1547_fe9eeee9a7b339089e5fa634b08522c1_B',\n",
       " 234: 'T1112_fd992e8ecfdac9b56dd6868904044827_B',\n",
       " 235: 'T1482_6131397e-7765-424e-a594-3d7fb2d93a6a_I',\n",
       " 236: 'T1547.004_aa147165f6c116cb0b0f944abe1db8ce_B',\n",
       " 237: 'T1112_e74d2fb4ef5fa6c766a4151554033697_B',\n",
       " 238: 'T1069.002_6103e503cb444bc7b4187704f2035708_B',\n",
       " 239: 'T1547.001_d3ef4145e4144fd694514b1c5cc17350_I',\n",
       " 240: 'T1125_da86001b5081fcf773d8e62f22cf2b00_B',\n",
       " 241: 'T1562.004_5b93df032e230056c21a3e57334f77d1_B',\n",
       " 242: 'T1003_18f31c311ac208802e88ab8d5af8603e_B',\n",
       " 243: 'T1547.001_0dbdf1a2a87e718a6ac8a8e3415a7fac_B',\n",
       " 244: 'T1490_8467c994685ccf178db166964bd80fab_B',\n",
       " 245: 'T1547.001_d3ef4145e4144fd694514b1c5cc17350_B',\n",
       " 246: 'T1074.001_6469befa-748a-4b9c-a96d-f191fde47d89_B',\n",
       " 247: 'T1562.004_8d0a4585e7c4646185a912b14cd9cb46_I',\n",
       " 248: 'O',\n",
       " 249: 'T1016_7d8ee68f0e9731db82964f558f614608_B',\n",
       " 250: 'T1059.001_bfff9006-d1fb-46ce-b173-92cb04e9a031_I',\n",
       " 251: 'T1105_1095434782a00c8a4772a11e625bcf5d_B',\n",
       " 252: 'T1105_eb814e03-811a-467a-bc6d-dcd453750fa2_B',\n",
       " 253: 'T1112_fa4ba6a06b4a5cd955ea5a60fae24281_B',\n",
       " 254: 'T1497.001_5dc841fd-28ad-40e2-b10e-fb007fe09e81_B',\n",
       " 255: 'T1083_6e1a53c0-7352-4899-be35-fa7f364d5722_B',\n",
       " 256: 'T1057_8adf02e8-6e71-4244-886c-98c402857404_I',\n",
       " 257: 'T1491_68235976-2404-42a8-9105-68230cfef562_I',\n",
       " 258: 'T1047_09e0f9cf2eb803a1c35deeecf3665fad_I',\n",
       " 259: 'T1069.001_5c4dd985-89e3-4590-9b57-71fed66ff4e2_B',\n",
       " 260: 'T1119_344e7eaf650763e0d3e9f02e62c1cf4b_B',\n",
       " 261: 'T1059.001_e5f9de8f-3df1-4e78-ad92-a784e3f6770d_B',\n",
       " 262: 'T1486_d82ceb9939d3d920ee550187ad8235c8_B',\n",
       " 263: 'T1090.001_ba343199a4f15ed6b57eb52412f62e4e_B',\n",
       " 264: 'T1547.004_0856714c9810ac55b53e9964d02958a0_B',\n",
       " 265: 'T1115_b007fe0c-c6b0-4fda-915c-255bbc070de2_B',\n",
       " 266: 'T1036.004_1f0614ea5c4af6faf1b44570f5f22f8a_B',\n",
       " 267: 'T1112_7fe6a66d03f4dbfc022609ba311c2b11_I',\n",
       " 268: 'T1562.002_6a8d25d65a7d481dc479f89c62af1e6a_B',\n",
       " 269: 'T1036.003_04e8d83e7badf098d50800d6aa1dd487_B',\n",
       " 270: 'T1219_f1b3fca18d7465cd10e5a7477a3bf97d_I',\n",
       " 271: 'T1566.001_1afaec09315ab71fdfb167175e8a019a_I',\n",
       " 272: 'T1531_b25ae80dad74142fafb510e9c1949ace_B',\n",
       " 273: 'T1491_47d08617-5ce1-424a-8cc5-c9c978ce6bf9_B',\n",
       " 274: 'T1036.003_f5ef8466e5ebcd2ae03f338d9416069c_B',\n",
       " 275: 'T1053.005_ee454be9197890de62705ce6255933fd_B',\n",
       " 276: 'T1003.003_9f73269695e54311dd61dc68940fb3e1_B',\n",
       " 277: 'T1547.001_163b023f43aba758d36f524d146cb8ea_B'}"
      ]
     },
     "execution_count": 42,
     "metadata": {},
     "output_type": "execute_result"
    }
   ],
   "source": [
    "import re\n",
    "\n",
    "def build_dictionary(file_path):\n",
    "    with open(file_path, 'r') as file:\n",
    "        next(file)\n",
    "        # 使用正则表达式去除行末的数字\n",
    "        dictionary = {re.sub(r'\\s\\d+$', '', line.strip()): index for index, line in enumerate(file)}\n",
    "    return dictionary\n",
    "    \n",
    "file_path = '../../data/3_openKE/label2id.txt'  # 替換為您檔案的路徑\n",
    "label2index = build_dictionary(file_path)\n",
    "index2label = {v: k for k, v in label2index.items()}\n",
    "\n",
    "index2label"
   ]
  },
  {
   "cell_type": "code",
   "execution_count": 43,
   "metadata": {},
   "outputs": [
    {
     "data": {
      "text/plain": [
       "dict"
      ]
     },
     "execution_count": 43,
     "metadata": {},
     "output_type": "execute_result"
    }
   ],
   "source": [
    "type(index2entemb)"
   ]
  },
  {
   "cell_type": "code",
   "execution_count": 44,
   "metadata": {},
   "outputs": [
    {
     "name": "stderr",
     "output_type": "stream",
     "text": [
      "/media/Raid6_disk/bai/anaconda3/envs/DGL/lib/python3.10/site-packages/sklearn/metrics/_classification.py:1497: UndefinedMetricWarning: Precision is ill-defined and being set to 0.0 in labels with no predicted samples. Use `zero_division` parameter to control this behavior.\n",
      "  _warn_prf(average, modifier, f\"{metric.capitalize()} is\", len(result))\n"
     ]
    },
    {
     "name": "stdout",
     "output_type": "stream",
     "text": [
      "report output at:  ./result/result_transE_256.csv\n"
     ]
    },
    {
     "name": "stderr",
     "output_type": "stream",
     "text": [
      "/media/Raid6_disk/bai/anaconda3/envs/DGL/lib/python3.10/site-packages/sklearn/metrics/_classification.py:1497: UndefinedMetricWarning: Precision is ill-defined and being set to 0.0 in labels with no predicted samples. Use `zero_division` parameter to control this behavior.\n",
      "  _warn_prf(average, modifier, f\"{metric.capitalize()} is\", len(result))\n",
      "/media/Raid6_disk/bai/anaconda3/envs/DGL/lib/python3.10/site-packages/sklearn/metrics/_classification.py:1497: UndefinedMetricWarning: Precision is ill-defined and being set to 0.0 in labels with no predicted samples. Use `zero_division` parameter to control this behavior.\n",
      "  _warn_prf(average, modifier, f\"{metric.capitalize()} is\", len(result))\n"
     ]
    },
    {
     "data": {
      "text/html": [
       "<div>\n",
       "<style scoped>\n",
       "    .dataframe tbody tr th:only-of-type {\n",
       "        vertical-align: middle;\n",
       "    }\n",
       "\n",
       "    .dataframe tbody tr th {\n",
       "        vertical-align: top;\n",
       "    }\n",
       "\n",
       "    .dataframe thead th {\n",
       "        text-align: right;\n",
       "    }\n",
       "</style>\n",
       "<table border=\"1\" class=\"dataframe\">\n",
       "  <thead>\n",
       "    <tr style=\"text-align: right;\">\n",
       "      <th></th>\n",
       "      <th>label</th>\n",
       "      <th>precision</th>\n",
       "      <th>recall</th>\n",
       "      <th>f1-score</th>\n",
       "      <th>support</th>\n",
       "    </tr>\n",
       "  </thead>\n",
       "  <tbody>\n",
       "    <tr>\n",
       "      <th>0</th>\n",
       "      <td>T1059.001_702bfdd2-9947-4eda-b551-c3a1ea9a59a2_B</td>\n",
       "      <td>0.000000</td>\n",
       "      <td>0.000000</td>\n",
       "      <td>0.000000</td>\n",
       "      <td>16.000000</td>\n",
       "    </tr>\n",
       "    <tr>\n",
       "      <th>1</th>\n",
       "      <td>T1078.001_d0ca00832890baa1d42322cf70fcab1a_B</td>\n",
       "      <td>1.000000</td>\n",
       "      <td>1.000000</td>\n",
       "      <td>1.000000</td>\n",
       "      <td>13.000000</td>\n",
       "    </tr>\n",
       "    <tr>\n",
       "      <th>2</th>\n",
       "      <td>T1074.001_e6dfc7e89359ac6fa6de84b0e1d5762e_B</td>\n",
       "      <td>0.000000</td>\n",
       "      <td>0.000000</td>\n",
       "      <td>0.000000</td>\n",
       "      <td>25.000000</td>\n",
       "    </tr>\n",
       "    <tr>\n",
       "      <th>3</th>\n",
       "      <td>T1491_68235976-2404-42a8-9105-68230cfef562_B</td>\n",
       "      <td>0.263158</td>\n",
       "      <td>0.277778</td>\n",
       "      <td>0.270270</td>\n",
       "      <td>18.000000</td>\n",
       "    </tr>\n",
       "    <tr>\n",
       "      <th>4</th>\n",
       "      <td>T1016_14a21534-350f-4d83-9dd7-3c56b93a0c17_B</td>\n",
       "      <td>1.000000</td>\n",
       "      <td>1.000000</td>\n",
       "      <td>1.000000</td>\n",
       "      <td>27.000000</td>\n",
       "    </tr>\n",
       "    <tr>\n",
       "      <th>...</th>\n",
       "      <td>...</td>\n",
       "      <td>...</td>\n",
       "      <td>...</td>\n",
       "      <td>...</td>\n",
       "      <td>...</td>\n",
       "    </tr>\n",
       "    <tr>\n",
       "      <th>276</th>\n",
       "      <td>T1003.003_9f73269695e54311dd61dc68940fb3e1_B</td>\n",
       "      <td>1.000000</td>\n",
       "      <td>1.000000</td>\n",
       "      <td>1.000000</td>\n",
       "      <td>13.000000</td>\n",
       "    </tr>\n",
       "    <tr>\n",
       "      <th>277</th>\n",
       "      <td>T1547.001_163b023f43aba758d36f524d146cb8ea_B</td>\n",
       "      <td>0.078947</td>\n",
       "      <td>0.120000</td>\n",
       "      <td>0.095238</td>\n",
       "      <td>25.000000</td>\n",
       "    </tr>\n",
       "    <tr>\n",
       "      <th>278</th>\n",
       "      <td>accuracy</td>\n",
       "      <td>0.961824</td>\n",
       "      <td>0.961824</td>\n",
       "      <td>0.961824</td>\n",
       "      <td>0.961824</td>\n",
       "    </tr>\n",
       "    <tr>\n",
       "      <th>279</th>\n",
       "      <td>macro avg</td>\n",
       "      <td>0.604988</td>\n",
       "      <td>0.596923</td>\n",
       "      <td>0.589100</td>\n",
       "      <td>813921.000000</td>\n",
       "    </tr>\n",
       "    <tr>\n",
       "      <th>280</th>\n",
       "      <td>weighted avg</td>\n",
       "      <td>0.961255</td>\n",
       "      <td>0.961824</td>\n",
       "      <td>0.961242</td>\n",
       "      <td>813921.000000</td>\n",
       "    </tr>\n",
       "  </tbody>\n",
       "</table>\n",
       "<p>281 rows × 5 columns</p>\n",
       "</div>"
      ],
      "text/plain": [
       "                                                label  precision    recall  \\\n",
       "0    T1059.001_702bfdd2-9947-4eda-b551-c3a1ea9a59a2_B   0.000000  0.000000   \n",
       "1        T1078.001_d0ca00832890baa1d42322cf70fcab1a_B   1.000000  1.000000   \n",
       "2        T1074.001_e6dfc7e89359ac6fa6de84b0e1d5762e_B   0.000000  0.000000   \n",
       "3        T1491_68235976-2404-42a8-9105-68230cfef562_B   0.263158  0.277778   \n",
       "4        T1016_14a21534-350f-4d83-9dd7-3c56b93a0c17_B   1.000000  1.000000   \n",
       "..                                                ...        ...       ...   \n",
       "276      T1003.003_9f73269695e54311dd61dc68940fb3e1_B   1.000000  1.000000   \n",
       "277      T1547.001_163b023f43aba758d36f524d146cb8ea_B   0.078947  0.120000   \n",
       "278                                          accuracy   0.961824  0.961824   \n",
       "279                                         macro avg   0.604988  0.596923   \n",
       "280                                      weighted avg   0.961255  0.961824   \n",
       "\n",
       "     f1-score        support  \n",
       "0    0.000000      16.000000  \n",
       "1    1.000000      13.000000  \n",
       "2    0.000000      25.000000  \n",
       "3    0.270270      18.000000  \n",
       "4    1.000000      27.000000  \n",
       "..        ...            ...  \n",
       "276  1.000000      13.000000  \n",
       "277  0.095238      25.000000  \n",
       "278  0.961824       0.961824  \n",
       "279  0.589100  813921.000000  \n",
       "280  0.961242  813921.000000  \n",
       "\n",
       "[281 rows x 5 columns]"
      ]
     },
     "execution_count": 44,
     "metadata": {},
     "output_type": "execute_result"
    }
   ],
   "source": [
    "report_data = classification_report(true_labels, predicted_labels, output_dict=True)\n",
    "report_df = pd.DataFrame(report_data).transpose()\n",
    "\n",
    "output_path = \"./result\"\n",
    "if not os.path.isdir(output_path):\n",
    "    os.makedirs(output_path)\n",
    "    \n",
    "report_df.reset_index(inplace=True, names='label')\n",
    "\n",
    "label_list = []\n",
    "for idx, row in report_df.iterrows():\n",
    "    if row[\"label\"].isdigit():\n",
    "        row[\"label\"] = index2label[int(row[\"label\"])]\n",
    "    label_list.append(row[\"label\"])\n",
    "report_df[\"label\"] = label_list\n",
    "\n",
    "report_df.to_csv(f'{output_path}/result_{embedding}-large_dim-2.csv', index=False)\n",
    "print(\"report output at: \", f'{output_path}/result_{embedding}.csv')\n",
    "\n",
    "report_df"
   ]
  },
  {
   "cell_type": "code",
   "execution_count": null,
   "metadata": {},
   "outputs": [],
   "source": []
  },
  {
   "cell_type": "code",
   "execution_count": null,
   "metadata": {},
   "outputs": [],
   "source": []
  },
  {
   "cell_type": "code",
   "execution_count": null,
   "metadata": {},
   "outputs": [],
   "source": [
    "\n",
    "\n",
    "\n",
    "# # ======================================== handlig the output excel files ========================================\n",
    "# mapping_file = './new_mapping.txt'\n",
    "# label_mapping = {}\n",
    "# with open(mapping_file, 'r') as f:\n",
    "#     for line in f:\n",
    "#         parts = line.strip().split(': ')\n",
    "#         label_mapping[int(parts[1])] = parts[0]\n",
    "        \n",
    "# # 将映射后的标签应用到true和predicted标签列表\n",
    "# mapped_true_labels = [label_mapping[label] for label in true_labels]\n",
    "# mapped_predicted_labels = [label_mapping[label] for label in predicted_labels]\n",
    "\n",
    "# # 生成Scikit-learn报告信息的DataFrame\n",
    "# report_data = classification_report(mapped_true_labels, mapped_predicted_labels, output_dict=True)\n",
    "# report_df = pd.DataFrame(report_data).transpose()\n",
    "\n",
    "# # mapped_true_labels_np = np.array(mapped_true_labels)\n",
    "# # mapped_predicted_labels_np = np.array(mapped_predicted_labels)\n",
    "\n",
    "# # print(\"mapped_true_labels 的形状:\", mapped_true_labels_np.shape)\n",
    "# # print(\"mapped_predicted_labels 的形状:\", mapped_predicted_labels_np.shape)\n",
    "\n",
    "# report_folder = 'classification_report'\n",
    "# os.makedirs(report_folder, exist_ok=True)\n",
    "\n",
    "# count = 0\n",
    "# while True:\n",
    "#     report_filename = f'classification_report-transE_50-graphSAGE-{count}.xlsx'\n",
    "#     labels_filename = f'mapped_true_predicted_labels-transE_50-graphSAGE-{count}.xlsx'\n",
    "    \n",
    "#     report_path = os.path.join(report_folder, report_filename)\n",
    "#     labels_path = os.path.join(report_folder, labels_filename)\n",
    "    \n",
    "#     if not os.path.exists(report_path) and not os.path.exists(labels_path):\n",
    "#         break\n",
    "#     count += 1\n",
    "\n",
    "    \n",
    "# report_df.to_excel(report_path, index_label='Label')\n",
    "\n",
    "# mapped_labels_df = pd.DataFrame({'true_label': mapped_true_labels, 'predicted_label': mapped_predicted_labels})\n",
    "# mapped_labels_df.to_excel(labels_path, index=False)\n",
    "\n",
    "# add_log_msg(f\"report path: {report_path}\")\n",
    "# add_log_msg(f\"label path: {labels_path}\")\n",
    "\n",
    "# mapped_report = classification_report(mapped_true_labels, mapped_predicted_labels)\n",
    "# add_log_msg(f\"mapped_report:\\n{mapped_report}\")"
   ]
  },
  {
   "cell_type": "code",
   "execution_count": null,
   "metadata": {},
   "outputs": [],
   "source": []
  },
  {
   "cell_type": "code",
   "execution_count": null,
   "metadata": {},
   "outputs": [],
   "source": []
  }
 ],
 "metadata": {
  "kernelspec": {
   "display_name": "Python 3 (ipykernel)",
   "language": "python",
   "name": "python3"
  },
  "language_info": {
   "codemirror_mode": {
    "name": "ipython",
    "version": 3
   },
   "file_extension": ".py",
   "mimetype": "text/x-python",
   "name": "python",
   "nbconvert_exporter": "python",
   "pygments_lexer": "ipython3",
   "version": "3.10.13"
  }
 },
 "nbformat": 4,
 "nbformat_minor": 4
}
