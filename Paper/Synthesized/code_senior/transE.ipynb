{
 "cells": [
  {
   "cell_type": "code",
   "execution_count": 1,
   "metadata": {},
   "outputs": [],
   "source": [
    "import openke\n",
    "from openke.config import Trainer, Tester\n",
    "from openke.module.model import TransE, TransR\n",
    "from openke.module.loss import MarginLoss\n",
    "from openke.module.strategy import NegativeSampling\n",
    "from openke.data import TrainDataLoader, TestDataLoader"
   ]
  },
  {
   "cell_type": "code",
   "execution_count": null,
   "metadata": {},
   "outputs": [],
   "source": [
    "DIM = 50\n",
    "# # dataloader for training\n",
    "train_dataloader = TrainDataLoader(\n",
    "    in_path = \"../dat_senior/3_openKE/\", \n",
    "    nbatches = 100,\n",
    "    threads = 8, \n",
    "    sampling_mode = \"normal\", \n",
    "    bern_flag = 1, \n",
    "    filter_flag = 1, \n",
    "    neg_ent = 25,\n",
    "    neg_rel = 0)\n",
    "\n",
    "# dataloader for test\n",
    "test_dataloader = TestDataLoader(\"../data_senior/3_openKE/\", \"link\")"
   ]
  },
  {
   "cell_type": "code",
   "execution_count": null,
   "metadata": {},
   "outputs": [],
   "source": [
    "# define the model\n",
    "transe = TransE(\n",
    "    ent_tot = train_dataloader.get_ent_tot(),\n",
    "    rel_tot = train_dataloader.get_rel_tot(),\n",
    "    dim = DIM, \n",
    "    p_norm = 1, \n",
    "    norm_flag = True)"
   ]
  },
  {
   "cell_type": "code",
   "execution_count": null,
   "metadata": {},
   "outputs": [],
   "source": [
    "# define the loss function\n",
    "model = NegativeSampling(\n",
    "    model = transe, \n",
    "    loss = MarginLoss(margin = 5.0),\n",
    "    batch_size = train_dataloader.get_batch_size()\n",
    ")\n",
    "\n",
    "trainer = Trainer(model = model, data_loader = train_dataloader, train_times = 500, alpha = 1.0, use_gpu = True)\n",
    "trainer.run()\n",
    "transe.save_checkpoint('./checkpoint/transe.ckpt')"
   ]
  },
  {
   "cell_type": "code",
   "execution_count": null,
   "metadata": {},
   "outputs": [],
   "source": []
  }
 ],
 "metadata": {
  "kernelspec": {
   "display_name": "Python 3 (ipykernel)",
   "language": "python",
   "name": "python3"
  },
  "language_info": {
   "codemirror_mode": {
    "name": "ipython",
    "version": 3
   },
   "file_extension": ".py",
   "mimetype": "text/x-python",
   "name": "python",
   "nbconvert_exporter": "python",
   "pygments_lexer": "ipython3",
   "version": "3.10.13"
  }
 },
 "nbformat": 4,
 "nbformat_minor": 4
}
