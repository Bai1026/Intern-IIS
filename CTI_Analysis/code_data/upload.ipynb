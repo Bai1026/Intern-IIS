{
 "cells": [
  {
   "attachments": {},
   "cell_type": "markdown",
   "metadata": {},
   "source": [
    "# The automatic uploading \n",
    "- Reference: https://www.tutorialspoint.com/how-to-upload-file-with-selenium-python\n",
    "- If we want to find an element, we need to find the **id**"
   ]
  },
  {
   "cell_type": "code",
   "execution_count": 5,
   "metadata": {},
   "outputs": [],
   "source": [
    "import os\n",
    "import time\n",
    "from selenium import webdriver\n",
    "from selenium.webdriver.common.by import By\n",
    "\n",
    "# open on Chrome\n",
    "driver = webdriver.Chrome() \n",
    "driver.implicitly_wait(10)\n",
    "\n",
    "login_url = \"http://localhost:8000/login/?next=/\"\n",
    "driver.get(login_url)\n",
    "\n",
    "# Find their id, which are id_username and id_password\n",
    "username_input = driver.find_element(By.ID, \"id_username\")\n",
    "password_input = driver.find_element(By.ID, \"id_password\")\n",
    "\n",
    "username_input.send_keys(\"djangoSuperuser\")\n",
    "password_input.send_keys(\"LEGITPassword1234\")\n",
    "\n",
    "# Find the \"Sign In\" element\n",
    "sign_in_button = driver.find_element(By.XPATH, \"//button[@type='submit']\")\n",
    "sign_in_button.click()\n",
    "\n",
    "# ==================== After \"Sign In\" we do =======================================\n",
    "target_url = \"http://localhost:8000\"\n",
    "driver.get(target_url)\n",
    "\n",
    "folder_path = \"/Users/zoungming/Desktop/Intern-IIS/CTI_Analysis/code/upload_file\"\n",
    "\n",
    "# go through the folder that contains all the files(CTI report) we want to upload\n",
    "for file_name in os.listdir(folder_path):\n",
    "    # Since folder_path + file_name = file_path\n",
    "    file_path = os.path.join(folder_path, file_name)\n",
    "    \n",
    "    # to identify element, which is input element and the type is \"file\" or the id is \"id-upload\"\n",
    "    upload_file = driver.find_element(By.XPATH, \"//input[@id='id-upload']\")\n",
    "    upload_file.send_keys(file_path)\n",
    "       \n",
    "    # wait 1 sec to ensure that the file has been uploaded\n",
    "    time.sleep(1)\n",
    "\n",
    "time.sleep(3)\n",
    "# driver.quit()"
   ]
  },
  {
   "attachments": {},
   "cell_type": "markdown",
   "metadata": {},
   "source": [
    "# Exporting the JSON file we want"
   ]
  },
  {
   "cell_type": "code",
   "execution_count": 6,
   "metadata": {},
   "outputs": [
    {
     "ename": "NoSuchElementException",
     "evalue": "Message: no such element: Unable to locate element: {\"method\":\"xpath\",\"selector\":\".//strong\"}\n  (Session info: chrome=114.0.5735.198); For documentation on this error, please visit: https://www.selenium.dev/documentation/webdriver/troubleshooting/errors#no-such-element-exception\nStacktrace:\n0   chromedriver                        0x000000010cf166b8 chromedriver + 4937400\n1   chromedriver                        0x000000010cf0db73 chromedriver + 4901747\n2   chromedriver                        0x000000010cacb616 chromedriver + 435734\n3   chromedriver                        0x000000010cb0ee0f chromedriver + 712207\n4   chromedriver                        0x000000010cb0f0a1 chromedriver + 712865\n5   chromedriver                        0x000000010cb02ae6 chromedriver + 662246\n6   chromedriver                        0x000000010cb3303d chromedriver + 860221\n7   chromedriver                        0x000000010cb029c1 chromedriver + 661953\n8   chromedriver                        0x000000010cb331ce chromedriver + 860622\n9   chromedriver                        0x000000010cb4de76 chromedriver + 970358\n10  chromedriver                        0x000000010cb32de3 chromedriver + 859619\n11  chromedriver                        0x000000010cb00d7f chromedriver + 654719\n12  chromedriver                        0x000000010cb020de chromedriver + 659678\n13  chromedriver                        0x000000010ced22ad chromedriver + 4657837\n14  chromedriver                        0x000000010ced7130 chromedriver + 4677936\n15  chromedriver                        0x000000010cedddef chromedriver + 4705775\n16  chromedriver                        0x000000010ced805a chromedriver + 4681818\n17  chromedriver                        0x000000010ceaa92c chromedriver + 4495660\n18  chromedriver                        0x000000010cef5838 chromedriver + 4802616\n19  chromedriver                        0x000000010cef59b7 chromedriver + 4802999\n20  chromedriver                        0x000000010cf0699f chromedriver + 4872607\n21  libsystem_pthread.dylib             0x00007ff81266d1d3 _pthread_start + 125\n22  libsystem_pthread.dylib             0x00007ff812668bd3 thread_start + 15\n",
     "output_type": "error",
     "traceback": [
      "\u001b[0;31m---------------------------------------------------------------------------\u001b[0m",
      "\u001b[0;31mNoSuchElementException\u001b[0m                    Traceback (most recent call last)",
      "Cell \u001b[0;32mIn[6], line 7\u001b[0m\n\u001b[1;32m      4\u001b[0m \u001b[39m# 遍历表格行\u001b[39;00m\n\u001b[1;32m      5\u001b[0m \u001b[39mfor\u001b[39;00m row \u001b[39min\u001b[39;00m table_rows:\n\u001b[1;32m      6\u001b[0m     \u001b[39m# 找到表格行内的 strong 元素\u001b[39;00m\n\u001b[0;32m----> 7\u001b[0m     strong_element \u001b[39m=\u001b[39m row\u001b[39m.\u001b[39;49mfind_element(By\u001b[39m.\u001b[39;49mXPATH, \u001b[39m'\u001b[39;49m\u001b[39m.//strong\u001b[39;49m\u001b[39m'\u001b[39;49m)\n\u001b[1;32m      8\u001b[0m     text \u001b[39m=\u001b[39m strong_element\u001b[39m.\u001b[39mtext\n\u001b[1;32m     10\u001b[0m     \u001b[39m# 判断特定文本内容\u001b[39;00m\n",
      "File \u001b[0;32m~/.pyenv/versions/3.9.12/lib/python3.9/site-packages/selenium/webdriver/remote/webelement.py:417\u001b[0m, in \u001b[0;36mWebElement.find_element\u001b[0;34m(self, by, value)\u001b[0m\n\u001b[1;32m    414\u001b[0m     by \u001b[39m=\u001b[39m By\u001b[39m.\u001b[39mCSS_SELECTOR\n\u001b[1;32m    415\u001b[0m     value \u001b[39m=\u001b[39m \u001b[39mf\u001b[39m\u001b[39m'\u001b[39m\u001b[39m[name=\u001b[39m\u001b[39m\"\u001b[39m\u001b[39m{\u001b[39;00mvalue\u001b[39m}\u001b[39;00m\u001b[39m\"\u001b[39m\u001b[39m]\u001b[39m\u001b[39m'\u001b[39m\n\u001b[0;32m--> 417\u001b[0m \u001b[39mreturn\u001b[39;00m \u001b[39mself\u001b[39;49m\u001b[39m.\u001b[39;49m_execute(Command\u001b[39m.\u001b[39;49mFIND_CHILD_ELEMENT, {\u001b[39m\"\u001b[39;49m\u001b[39musing\u001b[39;49m\u001b[39m\"\u001b[39;49m: by, \u001b[39m\"\u001b[39;49m\u001b[39mvalue\u001b[39;49m\u001b[39m\"\u001b[39;49m: value})[\u001b[39m\"\u001b[39m\u001b[39mvalue\u001b[39m\u001b[39m\"\u001b[39m]\n",
      "File \u001b[0;32m~/.pyenv/versions/3.9.12/lib/python3.9/site-packages/selenium/webdriver/remote/webelement.py:395\u001b[0m, in \u001b[0;36mWebElement._execute\u001b[0;34m(self, command, params)\u001b[0m\n\u001b[1;32m    393\u001b[0m     params \u001b[39m=\u001b[39m {}\n\u001b[1;32m    394\u001b[0m params[\u001b[39m\"\u001b[39m\u001b[39mid\u001b[39m\u001b[39m\"\u001b[39m] \u001b[39m=\u001b[39m \u001b[39mself\u001b[39m\u001b[39m.\u001b[39m_id\n\u001b[0;32m--> 395\u001b[0m \u001b[39mreturn\u001b[39;00m \u001b[39mself\u001b[39;49m\u001b[39m.\u001b[39;49m_parent\u001b[39m.\u001b[39;49mexecute(command, params)\n",
      "File \u001b[0;32m~/.pyenv/versions/3.9.12/lib/python3.9/site-packages/selenium/webdriver/remote/webdriver.py:346\u001b[0m, in \u001b[0;36mWebDriver.execute\u001b[0;34m(self, driver_command, params)\u001b[0m\n\u001b[1;32m    344\u001b[0m response \u001b[39m=\u001b[39m \u001b[39mself\u001b[39m\u001b[39m.\u001b[39mcommand_executor\u001b[39m.\u001b[39mexecute(driver_command, params)\n\u001b[1;32m    345\u001b[0m \u001b[39mif\u001b[39;00m response:\n\u001b[0;32m--> 346\u001b[0m     \u001b[39mself\u001b[39;49m\u001b[39m.\u001b[39;49merror_handler\u001b[39m.\u001b[39;49mcheck_response(response)\n\u001b[1;32m    347\u001b[0m     response[\u001b[39m\"\u001b[39m\u001b[39mvalue\u001b[39m\u001b[39m\"\u001b[39m] \u001b[39m=\u001b[39m \u001b[39mself\u001b[39m\u001b[39m.\u001b[39m_unwrap_value(response\u001b[39m.\u001b[39mget(\u001b[39m\"\u001b[39m\u001b[39mvalue\u001b[39m\u001b[39m\"\u001b[39m, \u001b[39mNone\u001b[39;00m))\n\u001b[1;32m    348\u001b[0m     \u001b[39mreturn\u001b[39;00m response\n",
      "File \u001b[0;32m~/.pyenv/versions/3.9.12/lib/python3.9/site-packages/selenium/webdriver/remote/errorhandler.py:245\u001b[0m, in \u001b[0;36mErrorHandler.check_response\u001b[0;34m(self, response)\u001b[0m\n\u001b[1;32m    243\u001b[0m         alert_text \u001b[39m=\u001b[39m value[\u001b[39m\"\u001b[39m\u001b[39malert\u001b[39m\u001b[39m\"\u001b[39m]\u001b[39m.\u001b[39mget(\u001b[39m\"\u001b[39m\u001b[39mtext\u001b[39m\u001b[39m\"\u001b[39m)\n\u001b[1;32m    244\u001b[0m     \u001b[39mraise\u001b[39;00m exception_class(message, screen, stacktrace, alert_text)  \u001b[39m# type: ignore[call-arg]  # mypy is not smart enough here\u001b[39;00m\n\u001b[0;32m--> 245\u001b[0m \u001b[39mraise\u001b[39;00m exception_class(message, screen, stacktrace)\n",
      "\u001b[0;31mNoSuchElementException\u001b[0m: Message: no such element: Unable to locate element: {\"method\":\"xpath\",\"selector\":\".//strong\"}\n  (Session info: chrome=114.0.5735.198); For documentation on this error, please visit: https://www.selenium.dev/documentation/webdriver/troubleshooting/errors#no-such-element-exception\nStacktrace:\n0   chromedriver                        0x000000010cf166b8 chromedriver + 4937400\n1   chromedriver                        0x000000010cf0db73 chromedriver + 4901747\n2   chromedriver                        0x000000010cacb616 chromedriver + 435734\n3   chromedriver                        0x000000010cb0ee0f chromedriver + 712207\n4   chromedriver                        0x000000010cb0f0a1 chromedriver + 712865\n5   chromedriver                        0x000000010cb02ae6 chromedriver + 662246\n6   chromedriver                        0x000000010cb3303d chromedriver + 860221\n7   chromedriver                        0x000000010cb029c1 chromedriver + 661953\n8   chromedriver                        0x000000010cb331ce chromedriver + 860622\n9   chromedriver                        0x000000010cb4de76 chromedriver + 970358\n10  chromedriver                        0x000000010cb32de3 chromedriver + 859619\n11  chromedriver                        0x000000010cb00d7f chromedriver + 654719\n12  chromedriver                        0x000000010cb020de chromedriver + 659678\n13  chromedriver                        0x000000010ced22ad chromedriver + 4657837\n14  chromedriver                        0x000000010ced7130 chromedriver + 4677936\n15  chromedriver                        0x000000010cedddef chromedriver + 4705775\n16  chromedriver                        0x000000010ced805a chromedriver + 4681818\n17  chromedriver                        0x000000010ceaa92c chromedriver + 4495660\n18  chromedriver                        0x000000010cef5838 chromedriver + 4802616\n19  chromedriver                        0x000000010cef59b7 chromedriver + 4802999\n20  chromedriver                        0x000000010cf0699f chromedriver + 4872607\n21  libsystem_pthread.dylib             0x00007ff81266d1d3 _pthread_start + 125\n22  libsystem_pthread.dylib             0x00007ff812668bd3 thread_start + 15\n"
     ]
    }
   ],
   "source": [
    "# 找到所有表格行元素\n",
    "table_rows = driver.find_elements(By.XPATH, '//tr')\n",
    "\n",
    "# 遍历表格行\n",
    "for row in table_rows:\n",
    "    # 找到表格行内的 strong 元素\n",
    "    strong_element = row.find_element(By.XPATH, './/strong')\n",
    "    text = strong_element.text\n",
    "\n",
    "    # 判断特定文本内容\n",
    "    if \"Bootstrap Training Data\" in text:\n",
    "        continue  # 排除该表格行\n",
    "\n",
    "    # 找到导出按钮元素\n",
    "    export_button = row.find_element(By.XPATH, './/button[@id=\"export-dropdown\"]')\n",
    "    # 点击导出按钮\n",
    "    export_button.click()\n",
    "\n",
    "    # 找到导出项链接元素\n",
    "    export_links = row.find_elements(By.XPATH, './/a[contains(@class, \"dropdown-item\")]')\n",
    "    # 遍历导出项链接并点击\n",
    "    for link in export_links:\n",
    "        if link.text == \"JSON\":\n",
    "            link.click()\n",
    "            break  # 仅点击第一个满足条件的链接，这里是 \"JSON\" 链接"
   ]
  },
  {
   "cell_type": "code",
   "execution_count": null,
   "metadata": {},
   "outputs": [],
   "source": []
  }
 ],
 "metadata": {
  "kernelspec": {
   "display_name": "Python 3",
   "language": "python",
   "name": "python3"
  },
  "language_info": {
   "codemirror_mode": {
    "name": "ipython",
    "version": 3
   },
   "file_extension": ".py",
   "mimetype": "text/x-python",
   "name": "python",
   "nbconvert_exporter": "python",
   "pygments_lexer": "ipython3",
   "version": "3.9.12"
  },
  "orig_nbformat": 4
 },
 "nbformat": 4,
 "nbformat_minor": 2
}
