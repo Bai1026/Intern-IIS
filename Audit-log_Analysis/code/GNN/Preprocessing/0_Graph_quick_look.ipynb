{
 "cells": [
  {
   "cell_type": "code",
   "execution_count": 1,
   "id": "3acc643d",
   "metadata": {},
   "outputs": [],
   "source": [
    "import json\n",
    "from tqdm.notebook import tqdm"
   ]
  },
  {
   "cell_type": "code",
   "execution_count": 2,
   "id": "4fd07484",
   "metadata": {},
   "outputs": [
    {
     "data": {
      "text/plain": [
       "'/workdir/home/bai/data_processing/dgl/code_new'"
      ]
     },
     "execution_count": 2,
     "metadata": {},
     "output_type": "execute_result"
    }
   ],
   "source": [
    "pwd"
   ]
  },
  {
   "cell_type": "code",
   "execution_count": 3,
   "id": "89891e3d",
   "metadata": {},
   "outputs": [
    {
     "data": {
      "application/vnd.jupyter.widget-view+json": {
       "model_id": "90a1f0420c6a40248e99acfa27f3a54b",
       "version_major": 2,
       "version_minor": 0
      },
      "text/plain": [
       "0it [00:00, ?it/s]"
      ]
     },
     "metadata": {},
     "output_type": "display_data"
    },
    {
     "name": "stdout",
     "output_type": "stream",
     "text": [
      "4949305\n",
      "906916 1164108 9\n"
     ]
    }
   ],
   "source": [
    "# INPUT_PATH = './workdir/home/bai/data_processing/dgl/data_new/source_data/4_extended_APG_bai/benign.txt'\n",
    "INPUT_PATH = '../data_new/source_data/4_extended_APG_bai/benign.txt'\n",
    "\n",
    "data = list()\n",
    "with open(INPUT_PATH, 'r') as f:\n",
    "    for line in tqdm(f):\n",
    "        data.append(line.strip())\n",
    "        \n",
    "print(len(data))\n",
    "print(data[0])\n"
   ]
  },
  {
   "cell_type": "code",
   "execution_count": 4,
   "id": "a2220e25",
   "metadata": {},
   "outputs": [
    {
     "data": {
      "application/vnd.jupyter.widget-view+json": {
       "model_id": "9eaa72afa7cb421292c7e41d8cb81977",
       "version_major": 2,
       "version_minor": 0
      },
      "text/plain": [
       "  0%|          | 0/4949305 [00:00<?, ?it/s]"
      ]
     },
     "metadata": {},
     "output_type": "display_data"
    },
    {
     "name": "stdout",
     "output_type": "stream",
     "text": [
      "4949305\n",
      "(906916, 1164108, 9)\n",
      "{9, 11, 15}\n"
     ]
    }
   ],
   "source": [
    "new_data = list()\n",
    "inner_neighbor_nodes = dict()\n",
    "outer_neighbor_nodes = dict()\n",
    "relation_dict = dict()\n",
    "\n",
    "for line in tqdm(data):\n",
    "    source, destination, relation = map(int, line.strip().split())\n",
    "    \n",
    "    if str(source).startswith('fake'):\n",
    "        continue\n",
    "    \n",
    "#     new_data.append((source, destination, relation, label))\n",
    "    new_data.append((source, destination, relation))\n",
    "    inner_neighbor_nodes.setdefault(destination, set())\n",
    "    outer_neighbor_nodes.setdefault(source, set())\n",
    "    relation_dict.setdefault((source, destination), set())\n",
    "    \n",
    "    inner_neighbor_nodes[destination].add(source)\n",
    "    outer_neighbor_nodes[source].add(destination)\n",
    "    \n",
    "    relation_dict[(source, destination)].add(relation)\n",
    "\n",
    "print(len(new_data))\n",
    "print(new_data[0])\n",
    "print(relation_dict[(906916, 1164108)])\n"
   ]
  },
  {
   "cell_type": "code",
   "execution_count": 5,
   "id": "dc6ad900",
   "metadata": {},
   "outputs": [
    {
     "name": "stdout",
     "output_type": "stream",
     "text": [
      "793937\n",
      "2463\n",
      "Leaf Node Count: 791759\n",
      "Root Node Count: 285\n"
     ]
    }
   ],
   "source": [
    "all_nodes = set(inner_neighbor_nodes.keys()).union(set(outer_neighbor_nodes.keys()))\n",
    "leaf_nodes = list(all_nodes - set(outer_neighbor_nodes.keys()))\n",
    "root_nodes = list(all_nodes - set(inner_neighbor_nodes.keys()))\n",
    "print(len(inner_neighbor_nodes))\n",
    "print(len(outer_neighbor_nodes))\n",
    "print(f'Leaf Node Count: {len(leaf_nodes)}')\n",
    "print(f'Root Node Count: {len(root_nodes)}')"
   ]
  },
  {
   "cell_type": "code",
   "execution_count": 6,
   "id": "e9ca12aa",
   "metadata": {},
   "outputs": [
    {
     "name": "stdout",
     "output_type": "stream",
     "text": [
      "1\n",
      "{280074}\n",
      "item 280074's source nodes: {23340}\n"
     ]
    }
   ],
   "source": [
    "print(leaf_nodes[1])\n",
    "print(inner_neighbor_nodes[leaf_nodes[2]])\n",
    "for item in inner_neighbor_nodes[leaf_nodes[2]]:\n",
    "    print(f\"item {item}'s source nodes: {inner_neighbor_nodes[item]}\")\n",
    "# print(inner_neighbor_nodes[inner_neighbor_nodes[leaf_nodes[1]]](0))\n",
    "# "
   ]
  },
  {
   "cell_type": "code",
   "execution_count": 37,
   "id": "24e34bed",
   "metadata": {},
   "outputs": [
    {
     "name": "stdout",
     "output_type": "stream",
     "text": [
      "791759\n"
     ]
    }
   ],
   "source": [
    "print(len(leaf_nodes))"
   ]
  },
  {
   "cell_type": "markdown",
   "id": "65ec1f50",
   "metadata": {},
   "source": [
    "### benign 1"
   ]
  },
  {
   "cell_type": "code",
   "execution_count": 38,
   "id": "2a8d3427",
   "metadata": {
    "scrolled": true
   },
   "outputs": [
    {
     "data": {
      "application/vnd.jupyter.widget-view+json": {
       "model_id": "87efebcfd28443b086f8edb20f8dbe7e",
       "version_major": 2,
       "version_minor": 0
      },
      "text/plain": [
       "  0%|          | 0/1000 [00:00<?, ?it/s]"
      ]
     },
     "metadata": {},
     "output_type": "display_data"
    },
    {
     "name": "stdout",
     "output_type": "stream",
     "text": [
      "triplet: {(581548, 32, 7), (280074, 34, 3), (295347, 39, 9), (196635, 161, 11), (75216, 134, 7), (1028649, 56, 3), (761498, 12, 9), (444542, 162, 5), (745444, 180, 16), (145379, 71, 19), (444542, 137, 17), (440212, 19, 3), (280074, 224, 3), (339437, 210, 7), (444542, 99, 5), (444542, 243, 3), (954492, 248, 9), (218864, 172, 19), (1028649, 0, 5), (1003134, 181, 3), (405440, 134, 7), (440212, 28, 17), (781820, 237, 7), (625912, 179, 9), (272194, 38, 20), (444542, 99, 13), (684176, 136, 22), (789081, 21, 5), (444542, 17, 5), (440212, 148, 17), (1028649, 0, 13), (145379, 71, 3), (145379, 105, 5), (1003134, 26, 0), (62762, 56, 5), (954492, 12, 9), (444542, 17, 13), (1076424, 129, 9), (218864, 172, 3), (954492, 20, 9), (1028649, 214, 17), (272194, 94, 7), (659904, 200, 9), (464398, 121, 9), (440212, 135, 8), (789081, 160, 0), (440212, 148, 8), (444542, 22, 3), (677631, 193, 19), (1013153, 15, 9), (789081, 250, 0), (1003134, 196, 3), (272194, 38, 3), (1050536, 190, 9), (745444, 43, 9), (684176, 136, 5), (545701, 92, 23), (25467, 111, 7), (272194, 68, 7), (280074, 145, 3), (1013153, 126, 9), (272194, 61, 2), (444542, 67, 3), (263246, 192, 3), (677631, 193, 3), (772141, 94, 7), (1003134, 100, 3), (761498, 15, 9), (949521, 59, 7), (444542, 159, 3), (1028649, 31, 13), (545701, 92, 12), (272194, 38, 19), (552507, 212, 7), (1003134, 25, 3), (444542, 23, 5), (981524, 48, 7), (339437, 190, 11), (1025026, 35, 0), (440212, 102, 5), (597595, 144, 3), (581548, 234, 7), (1028649, 31, 5), (280074, 245, 3), (589911, 128, 3), (581548, 222, 7), (187482, 96, 17), (876053, 101, 17), (272194, 8, 2), (440212, 19, 17), (1146383, 223, 9), (263246, 192, 19), (444542, 23, 13), (280074, 107, 19), (440212, 102, 13), (761498, 164, 9), (915552, 124, 5), (1003134, 235, 3), (757500, 37, 9), (62762, 144, 3), (187482, 73, 5), (772141, 32, 7), (589911, 155, 22), (444542, 104, 3), (1028649, 206, 3), (235109, 69, 7), (295347, 39, 11), (196635, 161, 9), (440212, 135, 17), (745444, 43, 6), (1013153, 20, 11), (444542, 162, 3), (1028649, 0, 3), (211018, 1, 9), (589911, 128, 19), (145379, 105, 19), (789081, 26, 19), (1137462, 37, 9), (272194, 244, 7), (280074, 107, 3), (39671, 134, 7), (444542, 243, 5), (789081, 160, 17), (444542, 17, 3), (218864, 172, 17), (145379, 71, 5), (1028649, 214, 3), (440212, 120, 13), (62762, 144, 19), (1003134, 221, 3), (1003134, 60, 3), (113197, 83, 5), (62762, 49, 9), (1003134, 182, 5), (113197, 70, 19), (915552, 124, 20), (55091, 59, 7), (444542, 243, 13), (1003134, 46, 0), (876053, 101, 8), (694771, 51, 9), (145379, 105, 3), (464398, 248, 9), (440212, 120, 5), (444542, 151, 17), (789081, 26, 3), (62762, 228, 19), (625912, 37, 9), (444542, 132, 17), (745444, 43, 15), (113197, 70, 3), (677631, 193, 17), (145379, 49, 9), (934285, 70, 3), (532771, 94, 7), (1050536, 190, 11), (1013153, 164, 9), (684176, 136, 3), (1003134, 213, 5), (62762, 228, 3), (25467, 188, 7), (761498, 79, 9), (148442, 188, 7), (1076424, 113, 3), (444542, 159, 5), (280074, 24, 3), (444542, 99, 8), (187482, 96, 3), (272194, 98, 13), (295347, 122, 7), (876053, 101, 3), (444542, 67, 5), (279417, 80, 7), (263246, 192, 5), (444542, 22, 17), (789081, 201, 17), (429138, 74, 11), (954492, 126, 9), (954492, 152, 7), (362542, 29, 7), (272194, 44, 13), (1028649, 31, 3), (589911, 128, 5), (684176, 136, 19), (444542, 67, 13), (211018, 112, 9), (1025026, 88, 3), (915552, 124, 3), (1028649, 0, 17), (295347, 86, 9), (187482, 96, 19), (1076424, 195, 9), (1146383, 223, 11), (367166, 152, 7), (469061, 212, 7), (1138178, 59, 7), (444542, 104, 13), (440212, 148, 5), (979016, 242, 7), (279417, 236, 2), (187482, 73, 3), (789081, 250, 3), (789081, 201, 0), (444542, 104, 5), (940541, 59, 7), (280074, 107, 5), (789081, 21, 17), (1013153, 20, 9), (1028649, 214, 5), (444542, 151, 3), (876053, 16, 7), (113197, 83, 3), (1137462, 179, 9), (272194, 222, 7), (573944, 29, 7), (1003134, 182, 3), (295347, 14, 9), (1050536, 7, 7), (1013153, 248, 9), (1028649, 214, 13), (444542, 137, 13), (440212, 120, 3), (187482, 73, 19), (532771, 234, 7), (1076424, 213, 3), (581548, 143, 7), (1003134, 229, 3), (280074, 5, 3), (464398, 79, 9), (694771, 51, 11), (1003134, 158, 3), (444542, 137, 5), (440212, 28, 5), (761498, 121, 9), (196635, 161, 6), (1025026, 35, 3), (1003134, 182, 19), (215632, 153, 3), (757500, 179, 9), (789507, 150, 3), (444542, 17, 17), (772141, 234, 7), (272194, 77, 13), (62762, 173, 7), (772141, 222, 7), (440212, 28, 13), (464398, 12, 9), (1123753, 200, 9), (272194, 32, 7), (1013153, 12, 9), (148442, 111, 7), (793281, 6, 7), (444542, 162, 8), (145379, 71, 22), (589911, 128, 22), (789081, 201, 3), (145379, 129, 9), (295347, 186, 7), (589911, 155, 19), (954492, 15, 9), (1016145, 29, 7), (444542, 233, 3), (1028649, 228, 3), (1025026, 35, 19), (187482, 96, 5), (1003134, 213, 3), (215632, 153, 19), (1013153, 121, 9), (62762, 228, 5), (280074, 127, 3), (789081, 181, 0), (62762, 144, 20), (444542, 132, 3), (440212, 108, 5), (915552, 124, 17), (876053, 101, 5), (1028649, 52, 3), (761498, 248, 9), (429138, 74, 9), (589911, 155, 3), (1003134, 26, 3), (19498, 225, 13), (1003134, 117, 3), (440212, 108, 13), (440212, 113, 19), (1003134, 241, 5), (789081, 21, 0), (1003134, 213, 19), (793281, 74, 9), (280074, 246, 3), (100240, 200, 9), (950841, 161, 6), (440212, 135, 5), (305424, 134, 7), (789081, 181, 19), (1003134, 133, 3), (272194, 40, 13), (639689, 80, 7), (295347, 39, 15), (1025026, 35, 20), (789081, 46, 3), (440212, 102, 17), (789081, 160, 5), (440212, 148, 3), (1028649, 31, 17), (1013153, 20, 15), (440212, 113, 3), (440212, 19, 5), (440212, 120, 17), (444542, 151, 5), (789081, 250, 5), (444542, 23, 17), (444542, 159, 8), (187482, 178, 19), (626432, 29, 7), (444542, 99, 3), (581548, 94, 7), (789081, 181, 3), (440212, 19, 13), (444542, 151, 13), (464398, 15, 9), (272194, 61, 7), (789081, 46, 19), (444542, 137, 3), (761498, 126, 9), (272194, 247, 2), (187482, 73, 17), (1003134, 55, 3), (444542, 243, 17), (789081, 21, 3), (979016, 38, 3), (954492, 164, 9), (440212, 28, 3), (1076424, 241, 3), (113197, 83, 17), (1003134, 168, 3), (280074, 57, 3), (62762, 56, 3), (444542, 67, 17), (1028649, 53, 3), (954492, 79, 9), (754508, 200, 9), (218864, 172, 5), (263246, 192, 22), (1003134, 114, 3), (1003134, 116, 3), (745444, 43, 11), (545701, 218, 12), (145379, 105, 22), (581548, 95, 13), (444542, 22, 5), (915552, 16, 7), (444542, 132, 5), (789081, 201, 5), (339437, 239, 7), (1076424, 85, 9), (272194, 244, 2), (1013153, 79, 9), (295347, 63, 9), (367166, 212, 7), (62762, 56, 19), (581548, 238, 7), (1003134, 241, 19), (532771, 32, 7), (444542, 22, 13), (954492, 179, 9), (444542, 132, 13), (113197, 83, 0), (589911, 155, 5), (1003134, 182, 0), (440212, 108, 3), (464398, 126, 9), (1003134, 241, 3), (1003134, 46, 3), (954492, 121, 9), (444542, 104, 17), (677631, 193, 5), (339437, 190, 9), (532771, 222, 7), (440212, 135, 3), (440212, 102, 3), (954492, 212, 7), (62762, 165, 7), (1003134, 197, 3), (1003134, 207, 3), (1076424, 49, 9), (618136, 76, 13), (793281, 74, 11), (927897, 91, 7), (444542, 23, 3), (464398, 164, 9), (979016, 130, 7), (272194, 234, 7), (789081, 160, 3), (113197, 70, 0), (444542, 159, 17), (440212, 108, 19), (444542, 162, 13), (981524, 107, 20), (440212, 113, 5)}\n",
      "# of triplet:400\n"
     ]
    },
    {
     "data": {
      "application/vnd.jupyter.widget-view+json": {
       "model_id": "be6a6ac9021b41b293e2dfebc13fb52d",
       "version_major": 2,
       "version_minor": 0
      },
      "text/plain": [
       "  0%|          | 0/400 [00:00<?, ?it/s]"
      ]
     },
     "metadata": {},
     "output_type": "display_data"
    },
    {
     "name": "stdout",
     "output_type": "stream",
     "text": [
      "item: (581548, 32, 7)\n",
      "item: (280074, 34, 3)\n",
      "item: (295347, 39, 9)\n",
      "item: (196635, 161, 11)\n",
      "item: (75216, 134, 7)\n",
      "item: (1028649, 56, 3)\n",
      "item: (761498, 12, 9)\n",
      "item: (444542, 162, 5)\n",
      "item: (745444, 180, 16)\n",
      "item: (145379, 71, 19)\n",
      "item: (444542, 137, 17)\n",
      "item: (440212, 19, 3)\n",
      "item: (280074, 224, 3)\n",
      "item: (339437, 210, 7)\n",
      "item: (444542, 99, 5)\n",
      "item: (444542, 243, 3)\n",
      "item: (954492, 248, 9)\n",
      "item: (218864, 172, 19)\n",
      "item: (1028649, 0, 5)\n",
      "item: (1003134, 181, 3)\n",
      "item: (405440, 134, 7)\n",
      "item: (440212, 28, 17)\n",
      "item: (781820, 237, 7)\n",
      "item: (625912, 179, 9)\n",
      "item: (272194, 38, 20)\n",
      "item: (444542, 99, 13)\n",
      "item: (684176, 136, 22)\n",
      "item: (789081, 21, 5)\n",
      "item: (444542, 17, 5)\n",
      "item: (440212, 148, 17)\n",
      "item: (1028649, 0, 13)\n",
      "item: (145379, 71, 3)\n",
      "item: (145379, 105, 5)\n",
      "item: (1003134, 26, 0)\n",
      "item: (62762, 56, 5)\n",
      "item: (954492, 12, 9)\n",
      "item: (444542, 17, 13)\n",
      "item: (1076424, 129, 9)\n",
      "item: (218864, 172, 3)\n",
      "item: (954492, 20, 9)\n",
      "item: (1028649, 214, 17)\n",
      "item: (272194, 94, 7)\n",
      "item: (659904, 200, 9)\n",
      "item: (464398, 121, 9)\n",
      "item: (440212, 135, 8)\n",
      "item: (789081, 160, 0)\n",
      "item: (440212, 148, 8)\n",
      "item: (444542, 22, 3)\n",
      "item: (677631, 193, 19)\n",
      "item: (1013153, 15, 9)\n",
      "item: (789081, 250, 0)\n",
      "item: (1003134, 196, 3)\n",
      "item: (272194, 38, 3)\n",
      "item: (1050536, 190, 9)\n",
      "item: (745444, 43, 9)\n",
      "item: (684176, 136, 5)\n",
      "item: (545701, 92, 23)\n",
      "item: (25467, 111, 7)\n",
      "item: (272194, 68, 7)\n",
      "item: (280074, 145, 3)\n",
      "item: (1013153, 126, 9)\n",
      "item: (272194, 61, 2)\n",
      "item: (444542, 67, 3)\n",
      "item: (263246, 192, 3)\n",
      "item: (677631, 193, 3)\n",
      "item: (772141, 94, 7)\n",
      "item: (1003134, 100, 3)\n",
      "item: (761498, 15, 9)\n",
      "item: (949521, 59, 7)\n",
      "item: (444542, 159, 3)\n",
      "item: (1028649, 31, 13)\n",
      "item: (545701, 92, 12)\n",
      "item: (272194, 38, 19)\n",
      "item: (552507, 212, 7)\n",
      "item: (1003134, 25, 3)\n",
      "item: (444542, 23, 5)\n",
      "item: (981524, 48, 7)\n",
      "item: (339437, 190, 11)\n",
      "item: (1025026, 35, 0)\n",
      "item: (440212, 102, 5)\n",
      "item: (597595, 144, 3)\n",
      "item: (581548, 234, 7)\n",
      "item: (1028649, 31, 5)\n",
      "item: (280074, 245, 3)\n",
      "item: (589911, 128, 3)\n",
      "item: (581548, 222, 7)\n",
      "item: (187482, 96, 17)\n",
      "item: (876053, 101, 17)\n",
      "item: (272194, 8, 2)\n",
      "item: (440212, 19, 17)\n",
      "item: (1146383, 223, 9)\n",
      "item: (263246, 192, 19)\n",
      "item: (444542, 23, 13)\n",
      "item: (280074, 107, 19)\n",
      "item: (440212, 102, 13)\n",
      "item: (761498, 164, 9)\n",
      "item: (915552, 124, 5)\n",
      "item: (1003134, 235, 3)\n",
      "item: (757500, 37, 9)\n",
      "item: (62762, 144, 3)\n",
      "item: (187482, 73, 5)\n",
      "item: (772141, 32, 7)\n",
      "item: (589911, 155, 22)\n",
      "item: (444542, 104, 3)\n",
      "item: (1028649, 206, 3)\n",
      "item: (235109, 69, 7)\n",
      "item: (295347, 39, 11)\n",
      "item: (196635, 161, 9)\n",
      "item: (440212, 135, 17)\n",
      "item: (745444, 43, 6)\n",
      "item: (1013153, 20, 11)\n",
      "item: (444542, 162, 3)\n",
      "item: (1028649, 0, 3)\n",
      "item: (211018, 1, 9)\n",
      "item: (589911, 128, 19)\n",
      "item: (145379, 105, 19)\n",
      "item: (789081, 26, 19)\n",
      "item: (1137462, 37, 9)\n",
      "item: (272194, 244, 7)\n",
      "item: (280074, 107, 3)\n",
      "item: (39671, 134, 7)\n",
      "item: (444542, 243, 5)\n",
      "item: (789081, 160, 17)\n",
      "item: (444542, 17, 3)\n",
      "item: (218864, 172, 17)\n",
      "item: (145379, 71, 5)\n",
      "item: (1028649, 214, 3)\n",
      "item: (440212, 120, 13)\n",
      "item: (62762, 144, 19)\n",
      "item: (1003134, 221, 3)\n",
      "item: (1003134, 60, 3)\n",
      "item: (113197, 83, 5)\n",
      "item: (62762, 49, 9)\n",
      "item: (1003134, 182, 5)\n",
      "item: (113197, 70, 19)\n",
      "item: (915552, 124, 20)\n",
      "item: (55091, 59, 7)\n",
      "item: (444542, 243, 13)\n",
      "item: (1003134, 46, 0)\n",
      "item: (876053, 101, 8)\n",
      "item: (694771, 51, 9)\n",
      "item: (145379, 105, 3)\n",
      "item: (464398, 248, 9)\n",
      "item: (440212, 120, 5)\n",
      "item: (444542, 151, 17)\n",
      "item: (789081, 26, 3)\n",
      "item: (62762, 228, 19)\n",
      "item: (625912, 37, 9)\n",
      "item: (444542, 132, 17)\n",
      "item: (745444, 43, 15)\n",
      "item: (113197, 70, 3)\n",
      "item: (677631, 193, 17)\n",
      "item: (145379, 49, 9)\n",
      "item: (934285, 70, 3)\n",
      "item: (532771, 94, 7)\n",
      "item: (1050536, 190, 11)\n",
      "item: (1013153, 164, 9)\n",
      "item: (684176, 136, 3)\n",
      "item: (1003134, 213, 5)\n",
      "item: (62762, 228, 3)\n",
      "item: (25467, 188, 7)\n",
      "item: (761498, 79, 9)\n",
      "item: (148442, 188, 7)\n",
      "item: (1076424, 113, 3)\n",
      "item: (444542, 159, 5)\n",
      "item: (280074, 24, 3)\n",
      "item: (444542, 99, 8)\n",
      "item: (187482, 96, 3)\n",
      "item: (272194, 98, 13)\n",
      "item: (295347, 122, 7)\n",
      "item: (876053, 101, 3)\n",
      "item: (444542, 67, 5)\n",
      "item: (279417, 80, 7)\n",
      "item: (263246, 192, 5)\n",
      "item: (444542, 22, 17)\n",
      "item: (789081, 201, 17)\n",
      "item: (429138, 74, 11)\n",
      "item: (954492, 126, 9)\n",
      "item: (954492, 152, 7)\n",
      "item: (362542, 29, 7)\n",
      "item: (272194, 44, 13)\n",
      "item: (1028649, 31, 3)\n",
      "item: (589911, 128, 5)\n",
      "item: (684176, 136, 19)\n",
      "item: (444542, 67, 13)\n",
      "item: (211018, 112, 9)\n",
      "item: (1025026, 88, 3)\n",
      "item: (915552, 124, 3)\n",
      "item: (1028649, 0, 17)\n",
      "item: (295347, 86, 9)\n",
      "item: (187482, 96, 19)\n",
      "item: (1076424, 195, 9)\n",
      "item: (1146383, 223, 11)\n",
      "item: (367166, 152, 7)\n",
      "item: (469061, 212, 7)\n",
      "item: (1138178, 59, 7)\n",
      "item: (444542, 104, 13)\n",
      "item: (440212, 148, 5)\n",
      "item: (979016, 242, 7)\n",
      "item: (279417, 236, 2)\n",
      "item: (187482, 73, 3)\n",
      "item: (789081, 250, 3)\n",
      "item: (789081, 201, 0)\n",
      "item: (444542, 104, 5)\n",
      "item: (940541, 59, 7)\n",
      "item: (280074, 107, 5)\n",
      "item: (789081, 21, 17)\n",
      "item: (1013153, 20, 9)\n",
      "item: (1028649, 214, 5)\n",
      "item: (444542, 151, 3)\n",
      "item: (876053, 16, 7)\n",
      "item: (113197, 83, 3)\n",
      "item: (1137462, 179, 9)\n",
      "item: (272194, 222, 7)\n",
      "item: (573944, 29, 7)\n",
      "item: (1003134, 182, 3)\n",
      "item: (295347, 14, 9)\n",
      "item: (1050536, 7, 7)\n",
      "item: (1013153, 248, 9)\n",
      "item: (1028649, 214, 13)\n",
      "item: (444542, 137, 13)\n",
      "item: (440212, 120, 3)\n",
      "item: (187482, 73, 19)\n",
      "item: (532771, 234, 7)\n",
      "item: (1076424, 213, 3)\n",
      "item: (581548, 143, 7)\n",
      "item: (1003134, 229, 3)\n",
      "item: (280074, 5, 3)\n",
      "item: (464398, 79, 9)\n",
      "item: (694771, 51, 11)\n",
      "item: (1003134, 158, 3)\n",
      "item: (444542, 137, 5)\n",
      "item: (440212, 28, 5)\n",
      "item: (761498, 121, 9)\n",
      "item: (196635, 161, 6)\n",
      "item: (1025026, 35, 3)\n",
      "item: (1003134, 182, 19)\n",
      "item: (215632, 153, 3)\n",
      "item: (757500, 179, 9)\n",
      "item: (789507, 150, 3)\n",
      "item: (444542, 17, 17)\n",
      "item: (772141, 234, 7)\n",
      "item: (272194, 77, 13)\n",
      "item: (62762, 173, 7)\n",
      "item: (772141, 222, 7)\n",
      "item: (440212, 28, 13)\n",
      "item: (464398, 12, 9)\n",
      "item: (1123753, 200, 9)\n",
      "item: (272194, 32, 7)\n",
      "item: (1013153, 12, 9)\n",
      "item: (148442, 111, 7)\n",
      "item: (793281, 6, 7)\n",
      "item: (444542, 162, 8)\n",
      "item: (145379, 71, 22)\n",
      "item: (589911, 128, 22)\n",
      "item: (789081, 201, 3)\n",
      "item: (145379, 129, 9)\n",
      "item: (295347, 186, 7)\n",
      "item: (589911, 155, 19)\n",
      "item: (954492, 15, 9)\n",
      "item: (1016145, 29, 7)\n",
      "item: (444542, 233, 3)\n",
      "item: (1028649, 228, 3)\n",
      "item: (1025026, 35, 19)\n",
      "item: (187482, 96, 5)\n",
      "item: (1003134, 213, 3)\n",
      "item: (215632, 153, 19)\n",
      "item: (1013153, 121, 9)\n",
      "item: (62762, 228, 5)\n",
      "item: (280074, 127, 3)\n",
      "item: (789081, 181, 0)\n",
      "item: (62762, 144, 20)\n",
      "item: (444542, 132, 3)\n",
      "item: (440212, 108, 5)\n",
      "item: (915552, 124, 17)\n",
      "item: (876053, 101, 5)\n",
      "item: (1028649, 52, 3)\n",
      "item: (761498, 248, 9)\n",
      "item: (429138, 74, 9)\n",
      "item: (589911, 155, 3)\n",
      "item: (1003134, 26, 3)\n",
      "item: (19498, 225, 13)\n",
      "item: (1003134, 117, 3)\n",
      "item: (440212, 108, 13)\n",
      "item: (440212, 113, 19)\n",
      "item: (1003134, 241, 5)\n",
      "item: (789081, 21, 0)\n",
      "item: (1003134, 213, 19)\n",
      "item: (793281, 74, 9)\n",
      "item: (280074, 246, 3)\n",
      "item: (100240, 200, 9)\n",
      "item: (950841, 161, 6)\n",
      "item: (440212, 135, 5)\n",
      "item: (305424, 134, 7)\n",
      "item: (789081, 181, 19)\n",
      "item: (1003134, 133, 3)\n",
      "item: (272194, 40, 13)\n",
      "item: (639689, 80, 7)\n",
      "item: (295347, 39, 15)\n",
      "item: (1025026, 35, 20)\n",
      "item: (789081, 46, 3)\n",
      "item: (440212, 102, 17)\n",
      "item: (789081, 160, 5)\n",
      "item: (440212, 148, 3)\n",
      "item: (1028649, 31, 17)\n",
      "item: (1013153, 20, 15)\n",
      "item: (440212, 113, 3)\n",
      "item: (440212, 19, 5)\n",
      "item: (440212, 120, 17)\n",
      "item: (444542, 151, 5)\n",
      "item: (789081, 250, 5)\n",
      "item: (444542, 23, 17)\n",
      "item: (444542, 159, 8)\n",
      "item: (187482, 178, 19)\n",
      "item: (626432, 29, 7)\n",
      "item: (444542, 99, 3)\n",
      "item: (581548, 94, 7)\n",
      "item: (789081, 181, 3)\n",
      "item: (440212, 19, 13)\n",
      "item: (444542, 151, 13)\n",
      "item: (464398, 15, 9)\n",
      "item: (272194, 61, 7)\n",
      "item: (789081, 46, 19)\n",
      "item: (444542, 137, 3)\n",
      "item: (761498, 126, 9)\n",
      "item: (272194, 247, 2)\n",
      "item: (187482, 73, 17)\n",
      "item: (1003134, 55, 3)\n",
      "item: (444542, 243, 17)\n",
      "item: (789081, 21, 3)\n",
      "item: (979016, 38, 3)\n",
      "item: (954492, 164, 9)\n",
      "item: (440212, 28, 3)\n",
      "item: (1076424, 241, 3)\n",
      "item: (113197, 83, 17)\n",
      "item: (1003134, 168, 3)\n",
      "item: (280074, 57, 3)\n",
      "item: (62762, 56, 3)\n",
      "item: (444542, 67, 17)\n",
      "item: (1028649, 53, 3)\n",
      "item: (954492, 79, 9)\n",
      "item: (754508, 200, 9)\n",
      "item: (218864, 172, 5)\n",
      "item: (263246, 192, 22)\n",
      "item: (1003134, 114, 3)\n",
      "item: (1003134, 116, 3)\n",
      "item: (745444, 43, 11)\n",
      "item: (545701, 218, 12)\n",
      "item: (145379, 105, 22)\n",
      "item: (581548, 95, 13)\n",
      "item: (444542, 22, 5)\n",
      "item: (915552, 16, 7)\n",
      "item: (444542, 132, 5)\n",
      "item: (789081, 201, 5)\n",
      "item: (339437, 239, 7)\n",
      "item: (1076424, 85, 9)\n",
      "item: (272194, 244, 2)\n",
      "item: (1013153, 79, 9)\n",
      "item: (295347, 63, 9)\n",
      "item: (367166, 212, 7)\n",
      "item: (62762, 56, 19)\n",
      "item: (581548, 238, 7)\n",
      "item: (1003134, 241, 19)\n",
      "item: (532771, 32, 7)\n",
      "item: (444542, 22, 13)\n",
      "item: (954492, 179, 9)\n",
      "item: (444542, 132, 13)\n",
      "item: (113197, 83, 0)\n",
      "item: (589911, 155, 5)\n",
      "item: (1003134, 182, 0)\n",
      "item: (440212, 108, 3)\n",
      "item: (464398, 126, 9)\n",
      "item: (1003134, 241, 3)\n",
      "item: (1003134, 46, 3)\n",
      "item: (954492, 121, 9)\n",
      "item: (444542, 104, 17)\n",
      "item: (677631, 193, 5)\n",
      "item: (339437, 190, 9)\n",
      "item: (532771, 222, 7)\n",
      "item: (440212, 135, 3)\n",
      "item: (440212, 102, 3)\n",
      "item: (954492, 212, 7)\n",
      "item: (62762, 165, 7)\n",
      "item: (1003134, 197, 3)\n",
      "item: (1003134, 207, 3)\n",
      "item: (1076424, 49, 9)\n",
      "item: (618136, 76, 13)\n",
      "item: (793281, 74, 11)\n",
      "item: (927897, 91, 7)\n",
      "item: (444542, 23, 3)\n",
      "item: (464398, 164, 9)\n",
      "item: (979016, 130, 7)\n",
      "item: (272194, 234, 7)\n",
      "item: (789081, 160, 3)\n",
      "item: (113197, 70, 0)\n",
      "item: (444542, 159, 17)\n",
      "item: (440212, 108, 19)\n",
      "item: (444542, 162, 13)\n",
      "item: (981524, 107, 20)\n",
      "item: (440212, 113, 5)\n"
     ]
    }
   ],
   "source": [
    "finish = False\n",
    "triplet = set()\n",
    "\n",
    "for i in tqdm(range(1000)):\n",
    "    target_leaf_node = leaf_nodes[i]\n",
    "    count = 0\n",
    "    count_match = 0\n",
    "\n",
    "    for source, destination, relation in new_data:\n",
    "        \n",
    "        if destination == target_leaf_node:\n",
    "            count_match += 1\n",
    "#             print(new_data[count])\n",
    "            triplet.add(new_data[count])\n",
    "            if count_match == 4: break    \n",
    "            if len(triplet) == 400:\n",
    "                finish = True\n",
    "                break\n",
    "        count += 1\n",
    "        if finish: break\n",
    "    if finish: break\n",
    "        \n",
    "print(f\"triplet: {triplet}\")\n",
    "print(f\"# of triplet:{len(triplet)}\")\n",
    "\n",
    "num = 100\n",
    "for item in tqdm(triplet):\n",
    "    output_file = f\"./benign/benign_1/{num}.txt\"  # 根据循环索引生成文件名\n",
    "    num += 1\n",
    "    print(f\"item: {item}\")\n",
    "\n",
    "    with open(output_file, 'w') as f:\n",
    "        formatted_item = f\"{item[0]} {item[1]} {item[2]}\\n\"\n",
    "        f.write(formatted_item)"
   ]
  },
  {
   "cell_type": "markdown",
   "id": "3d42a4df",
   "metadata": {},
   "source": [
    "### benign 2"
   ]
  },
  {
   "cell_type": "code",
   "execution_count": 50,
   "id": "846e8ab5",
   "metadata": {},
   "outputs": [
    {
     "data": {
      "application/vnd.jupyter.widget-view+json": {
       "model_id": "eb61344314e34143913e3e647a755b8c",
       "version_major": 2,
       "version_minor": 0
      },
      "text/plain": [
       "  0%|          | 0/4949305 [00:00<?, ?it/s]"
      ]
     },
     "metadata": {},
     "output_type": "display_data"
    },
    {
     "name": "stdout",
     "output_type": "stream",
     "text": [
      "layer1: (1028649, 0, 13)\n",
      "there're 23362 neighbors for 1028649\n",
      "Triplets for iteration 0 have been written to ./benign/benign_3/500.txt\n",
      "the # of the triplets: 32\n"
     ]
    },
    {
     "data": {
      "application/vnd.jupyter.widget-view+json": {
       "model_id": "534ae8571069446d8766e8fd1bba4a87",
       "version_major": 2,
       "version_minor": 0
      },
      "text/plain": [
       "  0%|          | 0/4949305 [00:00<?, ?it/s]"
      ]
     },
     "metadata": {},
     "output_type": "display_data"
    },
    {
     "name": "stdout",
     "output_type": "stream",
     "text": [
      "layer1: (1028649, 0, 13)\n",
      "there're 12863 neighbors for 211018\n",
      "Triplets for iteration 1 have been written to ./benign/benign_3/501.txt\n",
      "the # of the triplets: 32\n"
     ]
    },
    {
     "data": {
      "application/vnd.jupyter.widget-view+json": {
       "model_id": "3d70b303ed1b4d7091e254a5d83081fe",
       "version_major": 2,
       "version_minor": 0
      },
      "text/plain": [
       "  0%|          | 0/4949305 [00:00<?, ?it/s]"
      ]
     },
     "metadata": {},
     "output_type": "display_data"
    },
    {
     "name": "stdout",
     "output_type": "stream",
     "text": [
      "layer1: (1028649, 0, 13)\n",
      "there're 52002 neighbors for 280074\n",
      "Triplets for iteration 2 have been written to ./benign/benign_3/502.txt\n",
      "the # of the triplets: 32\n"
     ]
    },
    {
     "data": {
      "application/vnd.jupyter.widget-view+json": {
       "model_id": "9f7f4b8264344cfdb39a7812a79a9e1e",
       "version_major": 2,
       "version_minor": 0
      },
      "text/plain": [
       "  0%|          | 0/4949305 [00:00<?, ?it/s]"
      ]
     },
     "metadata": {},
     "output_type": "display_data"
    },
    {
     "name": "stdout",
     "output_type": "stream",
     "text": [
      "layer1: (1028649, 0, 13)\n",
      "there're 3708 neighbors for 793281\n",
      "Triplets for iteration 3 have been written to ./benign/benign_3/503.txt\n",
      "the # of the triplets: 32\n"
     ]
    },
    {
     "data": {
      "application/vnd.jupyter.widget-view+json": {
       "model_id": "2af25c35941a472ab8bb49e1721198bf",
       "version_major": 2,
       "version_minor": 0
      },
      "text/plain": [
       "  0%|          | 0/4949305 [00:00<?, ?it/s]"
      ]
     },
     "metadata": {},
     "output_type": "display_data"
    },
    {
     "name": "stdout",
     "output_type": "stream",
     "text": [
      "layer1: (1028649, 0, 13)\n",
      "there're 2189 neighbors for 1050536\n",
      "Triplets for iteration 4 have been written to ./benign/benign_3/504.txt\n",
      "the # of the triplets: 32\n"
     ]
    },
    {
     "data": {
      "application/vnd.jupyter.widget-view+json": {
       "model_id": "048d6ceb27d34f23bafa0767682cf6ed",
       "version_major": 2,
       "version_minor": 0
      },
      "text/plain": [
       "  0%|          | 0/4949305 [00:00<?, ?it/s]"
      ]
     },
     "metadata": {},
     "output_type": "display_data"
    },
    {
     "name": "stdout",
     "output_type": "stream",
     "text": [
      "layer1: (1028649, 0, 13)\n",
      "there're 73949 neighbors for 272194\n",
      "Triplets for iteration 5 have been written to ./benign/benign_3/505.txt\n",
      "the # of the triplets: 32\n"
     ]
    },
    {
     "data": {
      "application/vnd.jupyter.widget-view+json": {
       "model_id": "966d4dde1bbe4346a65c84f302226f5b",
       "version_major": 2,
       "version_minor": 0
      },
      "text/plain": [
       "  0%|          | 0/4949305 [00:00<?, ?it/s]"
      ]
     },
     "metadata": {},
     "output_type": "display_data"
    },
    {
     "name": "stdout",
     "output_type": "stream",
     "text": [
      "layer1: (1028649, 0, 13)\n",
      "there're 34767 neighbors for 1013153\n",
      "Triplets for iteration 6 have been written to ./benign/benign_3/506.txt\n",
      "the # of the triplets: 32\n"
     ]
    },
    {
     "data": {
      "application/vnd.jupyter.widget-view+json": {
       "model_id": "25aa73a00ac046938921bba2973cd8a9",
       "version_major": 2,
       "version_minor": 0
      },
      "text/plain": [
       "  0%|          | 0/4949305 [00:00<?, ?it/s]"
      ]
     },
     "metadata": {},
     "output_type": "display_data"
    },
    {
     "name": "stdout",
     "output_type": "stream",
     "text": [
      "layer1: (1028649, 0, 13)\n",
      "there're 25895 neighbors for 295347\n",
      "Triplets for iteration 7 have been written to ./benign/benign_3/507.txt\n",
      "the # of the triplets: 32\n"
     ]
    },
    {
     "data": {
      "application/vnd.jupyter.widget-view+json": {
       "model_id": "6d9b9035a98147aca7d8d25ec3971954",
       "version_major": 2,
       "version_minor": 0
      },
      "text/plain": [
       "  0%|          | 0/4949305 [00:00<?, ?it/s]"
      ]
     },
     "metadata": {},
     "output_type": "display_data"
    },
    {
     "name": "stdout",
     "output_type": "stream",
     "text": [
      "layer1: (1028649, 0, 13)\n",
      "there're 34767 neighbors for 1013153\n",
      "Triplets for iteration 8 have been written to ./benign/benign_3/508.txt\n",
      "the # of the triplets: 32\n"
     ]
    },
    {
     "data": {
      "application/vnd.jupyter.widget-view+json": {
       "model_id": "5f471ef39be94d8a9984a7f5b0808330",
       "version_major": 2,
       "version_minor": 0
      },
      "text/plain": [
       "  0%|          | 0/4949305 [00:00<?, ?it/s]"
      ]
     },
     "metadata": {},
     "output_type": "display_data"
    },
    {
     "name": "stdout",
     "output_type": "stream",
     "text": [
      "layer1: (1028649, 0, 13)\n",
      "there're 15421 neighbors for 915552\n",
      "Triplets for iteration 9 have been written to ./benign/benign_3/509.txt\n",
      "the # of the triplets: 32\n"
     ]
    },
    {
     "data": {
      "application/vnd.jupyter.widget-view+json": {
       "model_id": "3db0b18d0ca84095bda3ebba95927836",
       "version_major": 2,
       "version_minor": 0
      },
      "text/plain": [
       "  0%|          | 0/4949305 [00:00<?, ?it/s]"
      ]
     },
     "metadata": {},
     "output_type": "display_data"
    },
    {
     "name": "stdout",
     "output_type": "stream",
     "text": [
      "layer1: (1028649, 0, 13)\n",
      "there're 59003 neighbors for 444542\n",
      "Triplets for iteration 10 have been written to ./benign/benign_3/510.txt\n",
      "the # of the triplets: 32\n"
     ]
    },
    {
     "data": {
      "application/vnd.jupyter.widget-view+json": {
       "model_id": "c83fd908f4854099aa8507352297667f",
       "version_major": 2,
       "version_minor": 0
      },
      "text/plain": [
       "  0%|          | 0/4949305 [00:00<?, ?it/s]"
      ]
     },
     "metadata": {},
     "output_type": "display_data"
    },
    {
     "name": "stdout",
     "output_type": "stream",
     "text": [
      "layer1: (1028649, 0, 13)\n",
      "there're 61081 neighbors for 440212\n",
      "Triplets for iteration 11 have been written to ./benign/benign_3/511.txt\n",
      "the # of the triplets: 32\n"
     ]
    },
    {
     "data": {
      "application/vnd.jupyter.widget-view+json": {
       "model_id": "0d9a1aa143f04c3098576026b2cd3361",
       "version_major": 2,
       "version_minor": 0
      },
      "text/plain": [
       "  0%|          | 0/4949305 [00:00<?, ?it/s]"
      ]
     },
     "metadata": {},
     "output_type": "display_data"
    },
    {
     "name": "stdout",
     "output_type": "stream",
     "text": [
      "layer1: (1028649, 0, 13)\n",
      "there're 34767 neighbors for 1013153\n",
      "Triplets for iteration 12 have been written to ./benign/benign_3/512.txt\n",
      "the # of the triplets: 32\n"
     ]
    },
    {
     "data": {
      "application/vnd.jupyter.widget-view+json": {
       "model_id": "fa4f76730a534fc48f68fdc08a1ab12e",
       "version_major": 2,
       "version_minor": 0
      },
      "text/plain": [
       "  0%|          | 0/4949305 [00:00<?, ?it/s]"
      ]
     },
     "metadata": {},
     "output_type": "display_data"
    },
    {
     "name": "stdout",
     "output_type": "stream",
     "text": [
      "layer1: (1028649, 0, 13)\n",
      "there're 57517 neighbors for 789081\n",
      "Triplets for iteration 13 have been written to ./benign/benign_3/513.txt\n",
      "the # of the triplets: 32\n"
     ]
    },
    {
     "data": {
      "application/vnd.jupyter.widget-view+json": {
       "model_id": "b076486967ea47c9b2c399f8cd6dc288",
       "version_major": 2,
       "version_minor": 0
      },
      "text/plain": [
       "  0%|          | 0/4949305 [00:00<?, ?it/s]"
      ]
     },
     "metadata": {},
     "output_type": "display_data"
    },
    {
     "name": "stdout",
     "output_type": "stream",
     "text": [
      "layer1: (1028649, 0, 13)\n",
      "there're 59003 neighbors for 444542\n",
      "Triplets for iteration 14 have been written to ./benign/benign_3/514.txt\n",
      "the # of the triplets: 32\n"
     ]
    },
    {
     "data": {
      "application/vnd.jupyter.widget-view+json": {
       "model_id": "e47744660d7c4ff5a927f1a60a63a490",
       "version_major": 2,
       "version_minor": 0
      },
      "text/plain": [
       "  0%|          | 0/4949305 [00:00<?, ?it/s]"
      ]
     },
     "metadata": {},
     "output_type": "display_data"
    },
    {
     "name": "stdout",
     "output_type": "stream",
     "text": [
      "layer1: (1028649, 0, 13)\n",
      "there're 59003 neighbors for 444542\n",
      "Triplets for iteration 15 have been written to ./benign/benign_3/515.txt\n",
      "the # of the triplets: 32\n"
     ]
    },
    {
     "data": {
      "application/vnd.jupyter.widget-view+json": {
       "model_id": "a5f685443ed34c7a950d322f6b25b2ab",
       "version_major": 2,
       "version_minor": 0
      },
      "text/plain": [
       "  0%|          | 0/4949305 [00:00<?, ?it/s]"
      ]
     },
     "metadata": {},
     "output_type": "display_data"
    },
    {
     "name": "stdout",
     "output_type": "stream",
     "text": [
      "layer1: (1028649, 0, 13)\n",
      "there're 52002 neighbors for 280074\n",
      "Triplets for iteration 16 have been written to ./benign/benign_3/516.txt\n",
      "the # of the triplets: 32\n"
     ]
    },
    {
     "data": {
      "application/vnd.jupyter.widget-view+json": {
       "model_id": "f6f2ae439f2040dc8c1b71f647058a8e",
       "version_major": 2,
       "version_minor": 0
      },
      "text/plain": [
       "  0%|          | 0/4949305 [00:00<?, ?it/s]"
      ]
     },
     "metadata": {},
     "output_type": "display_data"
    },
    {
     "name": "stdout",
     "output_type": "stream",
     "text": [
      "layer1: (1028649, 0, 13)\n",
      "there're 211162 neighbors for 1003134\n",
      "Triplets for iteration 17 have been written to ./benign/benign_3/517.txt\n",
      "the # of the triplets: 32\n"
     ]
    },
    {
     "data": {
      "application/vnd.jupyter.widget-view+json": {
       "model_id": "4a365c7fa2c84b53a373a821abc528ec",
       "version_major": 2,
       "version_minor": 0
      },
      "text/plain": [
       "  0%|          | 0/4949305 [00:00<?, ?it/s]"
      ]
     },
     "metadata": {},
     "output_type": "display_data"
    },
    {
     "name": "stdout",
     "output_type": "stream",
     "text": [
      "layer1: (1028649, 0, 13)\n",
      "there're 57517 neighbors for 789081\n",
      "Triplets for iteration 18 have been written to ./benign/benign_3/518.txt\n",
      "the # of the triplets: 32\n"
     ]
    },
    {
     "data": {
      "application/vnd.jupyter.widget-view+json": {
       "model_id": "6293c3cdf19d4acc8e8ecc480357b564",
       "version_major": 2,
       "version_minor": 0
      },
      "text/plain": [
       "  0%|          | 0/4949305 [00:00<?, ?it/s]"
      ]
     },
     "metadata": {},
     "output_type": "display_data"
    },
    {
     "name": "stdout",
     "output_type": "stream",
     "text": [
      "layer1: (1028649, 0, 13)\n",
      "there're 61081 neighbors for 440212\n",
      "Triplets for iteration 19 have been written to ./benign/benign_3/519.txt\n",
      "the # of the triplets: 32\n"
     ]
    },
    {
     "data": {
      "application/vnd.jupyter.widget-view+json": {
       "model_id": "e591ed20e6f9466aa20dc44a8767e2b4",
       "version_major": 2,
       "version_minor": 0
      },
      "text/plain": [
       "  0%|          | 0/4949305 [00:00<?, ?it/s]"
      ]
     },
     "metadata": {},
     "output_type": "display_data"
    },
    {
     "name": "stdout",
     "output_type": "stream",
     "text": [
      "layer1: (1028649, 0, 13)\n",
      "there're 1313 neighbors for 1016145\n",
      "Triplets for iteration 20 have been written to ./benign/benign_3/520.txt\n",
      "the # of the triplets: 32\n"
     ]
    },
    {
     "data": {
      "application/vnd.jupyter.widget-view+json": {
       "model_id": "a302cd62046641c7b7c47e4aa4692b7b",
       "version_major": 2,
       "version_minor": 0
      },
      "text/plain": [
       "  0%|          | 0/4949305 [00:00<?, ?it/s]"
      ]
     },
     "metadata": {},
     "output_type": "display_data"
    },
    {
     "name": "stdout",
     "output_type": "stream",
     "text": [
      "layer1: (1028649, 0, 13)\n",
      "there're 23362 neighbors for 1028649\n",
      "Triplets for iteration 21 have been written to ./benign/benign_3/521.txt\n",
      "the # of the triplets: 32\n"
     ]
    },
    {
     "data": {
      "application/vnd.jupyter.widget-view+json": {
       "model_id": "e36ff0573d0543a69a583330f56e7c52",
       "version_major": 2,
       "version_minor": 0
      },
      "text/plain": [
       "  0%|          | 0/4949305 [00:00<?, ?it/s]"
      ]
     },
     "metadata": {},
     "output_type": "display_data"
    },
    {
     "name": "stdout",
     "output_type": "stream",
     "text": [
      "layer1: (1028649, 0, 13)\n",
      "there're 73949 neighbors for 272194\n",
      "Triplets for iteration 22 have been written to ./benign/benign_3/522.txt\n",
      "the # of the triplets: 32\n"
     ]
    },
    {
     "data": {
      "application/vnd.jupyter.widget-view+json": {
       "model_id": "48b8912a704c479189b00f08be49c46a",
       "version_major": 2,
       "version_minor": 0
      },
      "text/plain": [
       "  0%|          | 0/4949305 [00:00<?, ?it/s]"
      ]
     },
     "metadata": {},
     "output_type": "display_data"
    },
    {
     "name": "stdout",
     "output_type": "stream",
     "text": [
      "layer1: (1028649, 0, 13)\n",
      "there're 52002 neighbors for 280074\n",
      "Triplets for iteration 23 have been written to ./benign/benign_3/523.txt\n",
      "the # of the triplets: 32\n"
     ]
    },
    {
     "data": {
      "application/vnd.jupyter.widget-view+json": {
       "model_id": "51529fa894f846be85f42a8ea6412275",
       "version_major": 2,
       "version_minor": 0
      },
      "text/plain": [
       "  0%|          | 0/4949305 [00:00<?, ?it/s]"
      ]
     },
     "metadata": {},
     "output_type": "display_data"
    },
    {
     "name": "stdout",
     "output_type": "stream",
     "text": [
      "layer1: (1028649, 0, 13)\n",
      "there're 7251 neighbors for 1025026\n",
      "Triplets for iteration 24 have been written to ./benign/benign_3/524.txt\n",
      "the # of the triplets: 32\n"
     ]
    },
    {
     "data": {
      "application/vnd.jupyter.widget-view+json": {
       "model_id": "9cb787ba7dd049f1b98328003b88d8cd",
       "version_major": 2,
       "version_minor": 0
      },
      "text/plain": [
       "  0%|          | 0/4949305 [00:00<?, ?it/s]"
      ]
     },
     "metadata": {},
     "output_type": "display_data"
    },
    {
     "name": "stdout",
     "output_type": "stream",
     "text": [
      "layer1: (1028649, 0, 13)\n",
      "there're 10026 neighbors for 757500\n",
      "Triplets for iteration 25 have been written to ./benign/benign_3/525.txt\n",
      "the # of the triplets: 32\n"
     ]
    },
    {
     "data": {
      "application/vnd.jupyter.widget-view+json": {
       "model_id": "ab29c7049d414cb7a0dc1aa95a362eee",
       "version_major": 2,
       "version_minor": 0
      },
      "text/plain": [
       "  0%|          | 0/4949305 [00:00<?, ?it/s]"
      ]
     },
     "metadata": {},
     "output_type": "display_data"
    },
    {
     "name": "stdout",
     "output_type": "stream",
     "text": [
      "layer1: (1028649, 0, 13)\n",
      "there're 73949 neighbors for 272194\n",
      "Triplets for iteration 26 have been written to ./benign/benign_3/526.txt\n",
      "the # of the triplets: 32\n"
     ]
    },
    {
     "data": {
      "application/vnd.jupyter.widget-view+json": {
       "model_id": "2a4fc93f532948b49561d16d8dacc911",
       "version_major": 2,
       "version_minor": 0
      },
      "text/plain": [
       "  0%|          | 0/4949305 [00:00<?, ?it/s]"
      ]
     },
     "metadata": {},
     "output_type": "display_data"
    },
    {
     "name": "stdout",
     "output_type": "stream",
     "text": [
      "layer1: (1028649, 0, 13)\n",
      "there're 25895 neighbors for 295347\n",
      "Triplets for iteration 27 have been written to ./benign/benign_3/527.txt\n",
      "the # of the triplets: 32\n"
     ]
    },
    {
     "data": {
      "application/vnd.jupyter.widget-view+json": {
       "model_id": "19a5beccb81c4c5a8a6cab263927f2e8",
       "version_major": 2,
       "version_minor": 0
      },
      "text/plain": [
       "  0%|          | 0/4949305 [00:00<?, ?it/s]"
      ]
     },
     "metadata": {},
     "output_type": "display_data"
    },
    {
     "name": "stdout",
     "output_type": "stream",
     "text": [
      "layer1: (1028649, 0, 13)\n",
      "there're 73949 neighbors for 272194\n",
      "Triplets for iteration 28 have been written to ./benign/benign_3/528.txt\n",
      "the # of the triplets: 32\n"
     ]
    },
    {
     "data": {
      "application/vnd.jupyter.widget-view+json": {
       "model_id": "f55702b0b89a4b809c1d829e42f5680b",
       "version_major": 2,
       "version_minor": 0
      },
      "text/plain": [
       "  0%|          | 0/4949305 [00:00<?, ?it/s]"
      ]
     },
     "metadata": {},
     "output_type": "display_data"
    },
    {
     "name": "stdout",
     "output_type": "stream",
     "text": [
      "layer1: (1028649, 0, 13)\n",
      "there're 4344 neighbors for 745444\n",
      "Triplets for iteration 29 have been written to ./benign/benign_3/529.txt\n",
      "the # of the triplets: 32\n"
     ]
    },
    {
     "data": {
      "application/vnd.jupyter.widget-view+json": {
       "model_id": "5c3b8acf92d3420a894eac5b9d922dbe",
       "version_major": 2,
       "version_minor": 0
      },
      "text/plain": [
       "  0%|          | 0/4949305 [00:00<?, ?it/s]"
      ]
     },
     "metadata": {},
     "output_type": "display_data"
    },
    {
     "name": "stdout",
     "output_type": "stream",
     "text": [
      "layer1: (1028649, 0, 13)\n",
      "there're 73949 neighbors for 272194\n",
      "Triplets for iteration 30 have been written to ./benign/benign_3/530.txt\n",
      "the # of the triplets: 32\n"
     ]
    },
    {
     "data": {
      "application/vnd.jupyter.widget-view+json": {
       "model_id": "cd6275cf7b424193b63b8ee481c62451",
       "version_major": 2,
       "version_minor": 0
      },
      "text/plain": [
       "  0%|          | 0/4949305 [00:00<?, ?it/s]"
      ]
     },
     "metadata": {},
     "output_type": "display_data"
    },
    {
     "name": "stdout",
     "output_type": "stream",
     "text": [
      "layer1: (1028649, 0, 13)\n",
      "there're 57517 neighbors for 789081\n",
      "Triplets for iteration 31 have been written to ./benign/benign_3/531.txt\n",
      "the # of the triplets: 32\n"
     ]
    },
    {
     "data": {
      "application/vnd.jupyter.widget-view+json": {
       "model_id": "a8f4a6daf5354ebabfbcd6262e5007a3",
       "version_major": 2,
       "version_minor": 0
      },
      "text/plain": [
       "  0%|          | 0/4949305 [00:00<?, ?it/s]"
      ]
     },
     "metadata": {},
     "output_type": "display_data"
    },
    {
     "name": "stdout",
     "output_type": "stream",
     "text": [
      "layer1: (1028649, 0, 13)\n",
      "there're 5791 neighbors for 981524\n",
      "Triplets for iteration 32 have been written to ./benign/benign_3/532.txt\n",
      "the # of the triplets: 32\n"
     ]
    },
    {
     "data": {
      "application/vnd.jupyter.widget-view+json": {
       "model_id": "6c30924b09ce4cd397eb15ff49c9edc1",
       "version_major": 2,
       "version_minor": 0
      },
      "text/plain": [
       "  0%|          | 0/4949305 [00:00<?, ?it/s]"
      ]
     },
     "metadata": {},
     "output_type": "display_data"
    },
    {
     "name": "stdout",
     "output_type": "stream",
     "text": [
      "layer1: (1028649, 0, 13)\n",
      "there're 52605 neighbors for 1076424\n",
      "Triplets for iteration 33 have been written to ./benign/benign_3/533.txt\n",
      "the # of the triplets: 32\n"
     ]
    },
    {
     "data": {
      "application/vnd.jupyter.widget-view+json": {
       "model_id": "1029dc80dad143dcb83b19e2f0d94cc2",
       "version_major": 2,
       "version_minor": 0
      },
      "text/plain": [
       "  0%|          | 0/4949305 [00:00<?, ?it/s]"
      ]
     },
     "metadata": {},
     "output_type": "display_data"
    },
    {
     "name": "stdout",
     "output_type": "stream",
     "text": [
      "layer1: (1028649, 0, 13)\n",
      "there're 1115 neighbors for 694771\n",
      "Triplets for iteration 34 have been written to ./benign/benign_3/534.txt\n",
      "the # of the triplets: 32\n"
     ]
    },
    {
     "data": {
      "application/vnd.jupyter.widget-view+json": {
       "model_id": "7ed6c22b9e7346c6a60b4cdd42b7c61f",
       "version_major": 2,
       "version_minor": 0
      },
      "text/plain": [
       "  0%|          | 0/4949305 [00:00<?, ?it/s]"
      ]
     },
     "metadata": {},
     "output_type": "display_data"
    },
    {
     "name": "stdout",
     "output_type": "stream",
     "text": [
      "layer1: (1028649, 0, 13)\n",
      "there're 23362 neighbors for 1028649\n",
      "Triplets for iteration 35 have been written to ./benign/benign_3/535.txt\n",
      "the # of the triplets: 32\n"
     ]
    },
    {
     "data": {
      "application/vnd.jupyter.widget-view+json": {
       "model_id": "ceccc38b31494e5792bcbb112d74e916",
       "version_major": 2,
       "version_minor": 0
      },
      "text/plain": [
       "  0%|          | 0/4949305 [00:00<?, ?it/s]"
      ]
     },
     "metadata": {},
     "output_type": "display_data"
    },
    {
     "name": "stdout",
     "output_type": "stream",
     "text": [
      "layer1: (1028649, 0, 13)\n",
      "there're 23362 neighbors for 1028649\n",
      "Triplets for iteration 36 have been written to ./benign/benign_3/536.txt\n",
      "the # of the triplets: 32\n"
     ]
    },
    {
     "data": {
      "application/vnd.jupyter.widget-view+json": {
       "model_id": "1d160fa3b4304473a7e0f39295e9cec5",
       "version_major": 2,
       "version_minor": 0
      },
      "text/plain": [
       "  0%|          | 0/4949305 [00:00<?, ?it/s]"
      ]
     },
     "metadata": {},
     "output_type": "display_data"
    },
    {
     "name": "stdout",
     "output_type": "stream",
     "text": [
      "layer1: (1028649, 0, 13)\n",
      "there're 211162 neighbors for 1003134\n",
      "Triplets for iteration 37 have been written to ./benign/benign_3/537.txt\n",
      "the # of the triplets: 32\n"
     ]
    },
    {
     "data": {
      "application/vnd.jupyter.widget-view+json": {
       "model_id": "d945f0e4a172450c8345c20ac192f7e7",
       "version_major": 2,
       "version_minor": 0
      },
      "text/plain": [
       "  0%|          | 0/4949305 [00:00<?, ?it/s]"
      ]
     },
     "metadata": {},
     "output_type": "display_data"
    },
    {
     "name": "stdout",
     "output_type": "stream",
     "text": [
      "layer1: (1028649, 0, 13)\n",
      "there're 23362 neighbors for 1028649\n",
      "Triplets for iteration 38 have been written to ./benign/benign_3/538.txt\n",
      "the # of the triplets: 32\n"
     ]
    },
    {
     "data": {
      "application/vnd.jupyter.widget-view+json": {
       "model_id": "e91724e1ddc34e46b1d9d68ed90073af",
       "version_major": 2,
       "version_minor": 0
      },
      "text/plain": [
       "  0%|          | 0/4949305 [00:00<?, ?it/s]"
      ]
     },
     "metadata": {},
     "output_type": "display_data"
    },
    {
     "name": "stdout",
     "output_type": "stream",
     "text": [
      "layer1: (1028649, 0, 13)\n",
      "there're 52002 neighbors for 280074\n",
      "Triplets for iteration 39 have been written to ./benign/benign_3/539.txt\n",
      "the # of the triplets: 32\n"
     ]
    },
    {
     "data": {
      "application/vnd.jupyter.widget-view+json": {
       "model_id": "8d1a4d87461847eeac11a88a4ff40e82",
       "version_major": 2,
       "version_minor": 0
      },
      "text/plain": [
       "  0%|          | 0/4949305 [00:00<?, ?it/s]"
      ]
     },
     "metadata": {},
     "output_type": "display_data"
    },
    {
     "name": "stdout",
     "output_type": "stream",
     "text": [
      "layer1: (1028649, 0, 13)\n",
      "there're 3894 neighbors for 1138178\n",
      "Triplets for iteration 40 have been written to ./benign/benign_3/540.txt\n",
      "the # of the triplets: 32\n"
     ]
    },
    {
     "data": {
      "application/vnd.jupyter.widget-view+json": {
       "model_id": "cd8e5d950d894c8ca3fff4dedbedb5a8",
       "version_major": 2,
       "version_minor": 0
      },
      "text/plain": [
       "  0%|          | 0/4949305 [00:00<?, ?it/s]"
      ]
     },
     "metadata": {},
     "output_type": "display_data"
    },
    {
     "name": "stdout",
     "output_type": "stream",
     "text": [
      "layer1: (1028649, 0, 13)\n",
      "there're 211162 neighbors for 1003134\n",
      "Triplets for iteration 41 have been written to ./benign/benign_3/541.txt\n",
      "the # of the triplets: 32\n"
     ]
    },
    {
     "data": {
      "application/vnd.jupyter.widget-view+json": {
       "model_id": "65532a0d1b844e7dad175bb8971e6584",
       "version_major": 2,
       "version_minor": 0
      },
      "text/plain": [
       "  0%|          | 0/4949305 [00:00<?, ?it/s]"
      ]
     },
     "metadata": {},
     "output_type": "display_data"
    },
    {
     "name": "stdout",
     "output_type": "stream",
     "text": [
      "layer1: (1028649, 0, 13)\n",
      "there're 73949 neighbors for 272194\n",
      "Triplets for iteration 42 have been written to ./benign/benign_3/542.txt\n",
      "the # of the triplets: 32\n"
     ]
    },
    {
     "data": {
      "application/vnd.jupyter.widget-view+json": {
       "model_id": "d4d63b4ffffe444e964dc5336f69362f",
       "version_major": 2,
       "version_minor": 0
      },
      "text/plain": [
       "  0%|          | 0/4949305 [00:00<?, ?it/s]"
      ]
     },
     "metadata": {},
     "output_type": "display_data"
    },
    {
     "name": "stdout",
     "output_type": "stream",
     "text": [
      "layer1: (1028649, 0, 13)\n",
      "there're 25895 neighbors for 295347\n",
      "Triplets for iteration 43 have been written to ./benign/benign_3/543.txt\n",
      "the # of the triplets: 32\n"
     ]
    },
    {
     "data": {
      "application/vnd.jupyter.widget-view+json": {
       "model_id": "f1020a74032a4379814693f579482965",
       "version_major": 2,
       "version_minor": 0
      },
      "text/plain": [
       "  0%|          | 0/4949305 [00:00<?, ?it/s]"
      ]
     },
     "metadata": {},
     "output_type": "display_data"
    },
    {
     "name": "stdout",
     "output_type": "stream",
     "text": [
      "layer1: (1028649, 0, 13)\n",
      "there're 59003 neighbors for 444542\n",
      "Triplets for iteration 44 have been written to ./benign/benign_3/544.txt\n",
      "the # of the triplets: 32\n"
     ]
    },
    {
     "data": {
      "application/vnd.jupyter.widget-view+json": {
       "model_id": "e2e2e3cd0ce04ea08512cb68d8a46281",
       "version_major": 2,
       "version_minor": 0
      },
      "text/plain": [
       "  0%|          | 0/4949305 [00:00<?, ?it/s]"
      ]
     },
     "metadata": {},
     "output_type": "display_data"
    },
    {
     "name": "stdout",
     "output_type": "stream",
     "text": [
      "layer1: (1028649, 0, 13)\n",
      "there're 73949 neighbors for 272194\n",
      "Triplets for iteration 45 have been written to ./benign/benign_3/545.txt\n",
      "the # of the triplets: 32\n"
     ]
    },
    {
     "data": {
      "application/vnd.jupyter.widget-view+json": {
       "model_id": "362938adc3d6417a9c8a3c62b1e24c6b",
       "version_major": 2,
       "version_minor": 0
      },
      "text/plain": [
       "  0%|          | 0/4949305 [00:00<?, ?it/s]"
      ]
     },
     "metadata": {},
     "output_type": "display_data"
    },
    {
     "name": "stdout",
     "output_type": "stream",
     "text": [
      "layer1: (1028649, 0, 13)\n",
      "there're 1829 neighbors for 235109\n",
      "Triplets for iteration 46 have been written to ./benign/benign_3/546.txt\n",
      "the # of the triplets: 32\n"
     ]
    },
    {
     "data": {
      "application/vnd.jupyter.widget-view+json": {
       "model_id": "b275590794f4480cba021fcf6aae5de4",
       "version_major": 2,
       "version_minor": 0
      },
      "text/plain": [
       "  0%|          | 0/4949305 [00:00<?, ?it/s]"
      ]
     },
     "metadata": {},
     "output_type": "display_data"
    },
    {
     "name": "stdout",
     "output_type": "stream",
     "text": [
      "layer1: (1028649, 0, 13)\n",
      "there're 9909 neighbors for 113197\n",
      "Triplets for iteration 47 have been written to ./benign/benign_3/547.txt\n",
      "the # of the triplets: 32\n"
     ]
    },
    {
     "data": {
      "application/vnd.jupyter.widget-view+json": {
       "model_id": "ab26134e3e0849c7950925f84a9d56ea",
       "version_major": 2,
       "version_minor": 0
      },
      "text/plain": [
       "  0%|          | 0/4949305 [00:00<?, ?it/s]"
      ]
     },
     "metadata": {},
     "output_type": "display_data"
    },
    {
     "name": "stdout",
     "output_type": "stream",
     "text": [
      "layer1: (1028649, 0, 13)\n",
      "there're 30536 neighbors for 145379\n",
      "Triplets for iteration 48 have been written to ./benign/benign_3/548.txt\n",
      "the # of the triplets: 32\n"
     ]
    },
    {
     "data": {
      "application/vnd.jupyter.widget-view+json": {
       "model_id": "197e518b05254684add8e175e2bb9919",
       "version_major": 2,
       "version_minor": 0
      },
      "text/plain": [
       "  0%|          | 0/4949305 [00:00<?, ?it/s]"
      ]
     },
     "metadata": {},
     "output_type": "display_data"
    },
    {
     "name": "stdout",
     "output_type": "stream",
     "text": [
      "layer1: (1028649, 0, 13)\n",
      "there're 6227 neighbors for 187482\n",
      "Triplets for iteration 49 have been written to ./benign/benign_3/549.txt\n",
      "the # of the triplets: 32\n"
     ]
    },
    {
     "data": {
      "application/vnd.jupyter.widget-view+json": {
       "model_id": "bbe79f6c73554f1e832d37ed4469f826",
       "version_major": 2,
       "version_minor": 0
      },
      "text/plain": [
       "  0%|          | 0/4949305 [00:00<?, ?it/s]"
      ]
     },
     "metadata": {},
     "output_type": "display_data"
    },
    {
     "name": "stdout",
     "output_type": "stream",
     "text": [
      "layer1: (1028649, 0, 13)\n",
      "there're 883 neighbors for 429138\n",
      "Triplets for iteration 50 have been written to ./benign/benign_3/550.txt\n",
      "the # of the triplets: 32\n"
     ]
    },
    {
     "data": {
      "application/vnd.jupyter.widget-view+json": {
       "model_id": "dc2d77873ef84279be611d62b9586b91",
       "version_major": 2,
       "version_minor": 0
      },
      "text/plain": [
       "  0%|          | 0/4949305 [00:00<?, ?it/s]"
      ]
     },
     "metadata": {},
     "output_type": "display_data"
    },
    {
     "name": "stdout",
     "output_type": "stream",
     "text": [
      "layer1: (1028649, 0, 13)\n",
      "there're 7273 neighbors for 618136\n",
      "Triplets for iteration 51 have been written to ./benign/benign_3/551.txt\n",
      "the # of the triplets: 32\n"
     ]
    },
    {
     "data": {
      "application/vnd.jupyter.widget-view+json": {
       "model_id": "4b645e0c2d964284a22fe987fbb50383",
       "version_major": 2,
       "version_minor": 0
      },
      "text/plain": [
       "  0%|          | 0/4949305 [00:00<?, ?it/s]"
      ]
     },
     "metadata": {},
     "output_type": "display_data"
    },
    {
     "name": "stdout",
     "output_type": "stream",
     "text": [
      "layer1: (1028649, 0, 13)\n",
      "there're 73949 neighbors for 272194\n",
      "Triplets for iteration 52 have been written to ./benign/benign_3/552.txt\n",
      "the # of the triplets: 32\n"
     ]
    },
    {
     "data": {
      "application/vnd.jupyter.widget-view+json": {
       "model_id": "f0181b18bbde4ef39a7835c1f2598de2",
       "version_major": 2,
       "version_minor": 0
      },
      "text/plain": [
       "  0%|          | 0/4949305 [00:00<?, ?it/s]"
      ]
     },
     "metadata": {},
     "output_type": "display_data"
    },
    {
     "name": "stdout",
     "output_type": "stream",
     "text": [
      "layer1: (1028649, 0, 13)\n",
      "there're 34767 neighbors for 1013153\n",
      "Triplets for iteration 53 have been written to ./benign/benign_3/553.txt\n",
      "the # of the triplets: 32\n"
     ]
    },
    {
     "data": {
      "application/vnd.jupyter.widget-view+json": {
       "model_id": "fefe853d270a425380ed1d2112718dcb",
       "version_major": 2,
       "version_minor": 0
      },
      "text/plain": [
       "  0%|          | 0/4949305 [00:00<?, ?it/s]"
      ]
     },
     "metadata": {},
     "output_type": "display_data"
    },
    {
     "name": "stdout",
     "output_type": "stream",
     "text": [
      "layer1: (1028649, 0, 13)\n",
      "there're 6567 neighbors for 279417\n",
      "Triplets for iteration 54 have been written to ./benign/benign_3/554.txt\n",
      "the # of the triplets: 32\n"
     ]
    },
    {
     "data": {
      "application/vnd.jupyter.widget-view+json": {
       "model_id": "265069ea42224eabac0c126ef289102e",
       "version_major": 2,
       "version_minor": 0
      },
      "text/plain": [
       "  0%|          | 0/4949305 [00:00<?, ?it/s]"
      ]
     },
     "metadata": {},
     "output_type": "display_data"
    },
    {
     "name": "stdout",
     "output_type": "stream",
     "text": [
      "layer1: (1028649, 0, 13)\n",
      "there're 9909 neighbors for 113197\n",
      "Triplets for iteration 55 have been written to ./benign/benign_3/555.txt\n",
      "the # of the triplets: 32\n"
     ]
    },
    {
     "data": {
      "application/vnd.jupyter.widget-view+json": {
       "model_id": "0a3b493847da415faeaef952a96293d2",
       "version_major": 2,
       "version_minor": 0
      },
      "text/plain": [
       "  0%|          | 0/4949305 [00:00<?, ?it/s]"
      ]
     },
     "metadata": {},
     "output_type": "display_data"
    },
    {
     "name": "stdout",
     "output_type": "stream",
     "text": [
      "layer1: (1028649, 0, 13)\n",
      "there're 52605 neighbors for 1076424\n",
      "Triplets for iteration 56 have been written to ./benign/benign_3/556.txt\n",
      "the # of the triplets: 32\n"
     ]
    },
    {
     "data": {
      "application/vnd.jupyter.widget-view+json": {
       "model_id": "74bc03b06f094e06a5bf9c13274af427",
       "version_major": 2,
       "version_minor": 0
      },
      "text/plain": [
       "  0%|          | 0/4949305 [00:00<?, ?it/s]"
      ]
     },
     "metadata": {},
     "output_type": "display_data"
    },
    {
     "name": "stdout",
     "output_type": "stream",
     "text": [
      "layer1: (1028649, 0, 13)\n",
      "there're 25895 neighbors for 295347\n",
      "Triplets for iteration 57 have been written to ./benign/benign_3/557.txt\n",
      "the # of the triplets: 32\n"
     ]
    },
    {
     "data": {
      "application/vnd.jupyter.widget-view+json": {
       "model_id": "efe760052feb478ca419429397512ba9",
       "version_major": 2,
       "version_minor": 0
      },
      "text/plain": [
       "  0%|          | 0/4949305 [00:00<?, ?it/s]"
      ]
     },
     "metadata": {},
     "output_type": "display_data"
    },
    {
     "name": "stdout",
     "output_type": "stream",
     "text": [
      "layer1: (1028649, 0, 13)\n",
      "there're 7251 neighbors for 1025026\n",
      "Triplets for iteration 58 have been written to ./benign/benign_3/558.txt\n",
      "the # of the triplets: 32\n"
     ]
    },
    {
     "data": {
      "application/vnd.jupyter.widget-view+json": {
       "model_id": "98b12d495d854cf4be24b187c97b7aa5",
       "version_major": 2,
       "version_minor": 0
      },
      "text/plain": [
       "  0%|          | 0/4949305 [00:00<?, ?it/s]"
      ]
     },
     "metadata": {},
     "output_type": "display_data"
    },
    {
     "name": "stdout",
     "output_type": "stream",
     "text": [
      "layer1: (1028649, 0, 13)\n",
      "there're 5806 neighbors for 927897\n",
      "Triplets for iteration 59 have been written to ./benign/benign_3/559.txt\n",
      "the # of the triplets: 32\n"
     ]
    },
    {
     "data": {
      "application/vnd.jupyter.widget-view+json": {
       "model_id": "a1d853cfad2f44bf9adc81296105b3ef",
       "version_major": 2,
       "version_minor": 0
      },
      "text/plain": [
       "  0%|          | 0/4949305 [00:00<?, ?it/s]"
      ]
     },
     "metadata": {},
     "output_type": "display_data"
    },
    {
     "name": "stdout",
     "output_type": "stream",
     "text": [
      "layer1: (1028649, 0, 13)\n",
      "there're 2949 neighbors for 545701\n",
      "Triplets for iteration 60 have been written to ./benign/benign_3/560.txt\n",
      "the # of the triplets: 32\n"
     ]
    },
    {
     "data": {
      "application/vnd.jupyter.widget-view+json": {
       "model_id": "2d8930a53f23493d979109cc51367f51",
       "version_major": 2,
       "version_minor": 0
      },
      "text/plain": [
       "  0%|          | 0/4949305 [00:00<?, ?it/s]"
      ]
     },
     "metadata": {},
     "output_type": "display_data"
    },
    {
     "name": "stdout",
     "output_type": "stream",
     "text": [
      "layer1: (1028649, 0, 13)\n",
      "there're 73949 neighbors for 272194\n",
      "Triplets for iteration 61 have been written to ./benign/benign_3/561.txt\n",
      "the # of the triplets: 32\n"
     ]
    },
    {
     "data": {
      "application/vnd.jupyter.widget-view+json": {
       "model_id": "44e94b38c2c7427a96c24ebb82f7e872",
       "version_major": 2,
       "version_minor": 0
      },
      "text/plain": [
       "  0%|          | 0/4949305 [00:00<?, ?it/s]"
      ]
     },
     "metadata": {},
     "output_type": "display_data"
    },
    {
     "name": "stdout",
     "output_type": "stream",
     "text": [
      "layer1: (1028649, 0, 13)\n",
      "there're 25246 neighbors for 581548\n",
      "Triplets for iteration 62 have been written to ./benign/benign_3/562.txt\n",
      "the # of the triplets: 32\n"
     ]
    },
    {
     "data": {
      "application/vnd.jupyter.widget-view+json": {
       "model_id": "ff6ea4357ce4452cab89c89ddbae2246",
       "version_major": 2,
       "version_minor": 0
      },
      "text/plain": [
       "  0%|          | 0/4949305 [00:00<?, ?it/s]"
      ]
     },
     "metadata": {},
     "output_type": "display_data"
    },
    {
     "name": "stdout",
     "output_type": "stream",
     "text": [
      "layer1: (1028649, 0, 13)\n",
      "there're 6227 neighbors for 187482\n",
      "Triplets for iteration 63 have been written to ./benign/benign_3/563.txt\n",
      "the # of the triplets: 32\n"
     ]
    },
    {
     "data": {
      "application/vnd.jupyter.widget-view+json": {
       "model_id": "e75f98412f264df590b338cd625ea676",
       "version_major": 2,
       "version_minor": 0
      },
      "text/plain": [
       "  0%|          | 0/4949305 [00:00<?, ?it/s]"
      ]
     },
     "metadata": {},
     "output_type": "display_data"
    },
    {
     "name": "stdout",
     "output_type": "stream",
     "text": [
      "layer1: (1028649, 0, 13)\n",
      "there're 73949 neighbors for 272194\n",
      "Triplets for iteration 64 have been written to ./benign/benign_3/564.txt\n",
      "the # of the triplets: 32\n"
     ]
    },
    {
     "data": {
      "application/vnd.jupyter.widget-view+json": {
       "model_id": "d1fc84a0224a4733bafae30b92ae63f9",
       "version_major": 2,
       "version_minor": 0
      },
      "text/plain": [
       "  0%|          | 0/4949305 [00:00<?, ?it/s]"
      ]
     },
     "metadata": {},
     "output_type": "display_data"
    },
    {
     "name": "stdout",
     "output_type": "stream",
     "text": [
      "layer1: (1028649, 0, 13)\n",
      "there're 59003 neighbors for 444542\n",
      "Triplets for iteration 65 have been written to ./benign/benign_3/565.txt\n",
      "the # of the triplets: 32\n"
     ]
    },
    {
     "data": {
      "application/vnd.jupyter.widget-view+json": {
       "model_id": "fbb453a2252448bd86922bda8c9a7351",
       "version_major": 2,
       "version_minor": 0
      },
      "text/plain": [
       "  0%|          | 0/4949305 [00:00<?, ?it/s]"
      ]
     },
     "metadata": {},
     "output_type": "display_data"
    },
    {
     "name": "stdout",
     "output_type": "stream",
     "text": [
      "layer1: (1028649, 0, 13)\n",
      "there're 211162 neighbors for 1003134\n",
      "Triplets for iteration 66 have been written to ./benign/benign_3/566.txt\n",
      "the # of the triplets: 32\n"
     ]
    },
    {
     "data": {
      "application/vnd.jupyter.widget-view+json": {
       "model_id": "0766010462e24612ac2cfef373b4913b",
       "version_major": 2,
       "version_minor": 0
      },
      "text/plain": [
       "  0%|          | 0/4949305 [00:00<?, ?it/s]"
      ]
     },
     "metadata": {},
     "output_type": "display_data"
    },
    {
     "name": "stdout",
     "output_type": "stream",
     "text": [
      "layer1: (1028649, 0, 13)\n",
      "there're 6246 neighbors for 876053\n",
      "Triplets for iteration 67 have been written to ./benign/benign_3/567.txt\n",
      "the # of the triplets: 32\n"
     ]
    },
    {
     "data": {
      "application/vnd.jupyter.widget-view+json": {
       "model_id": "408740e44009477d8281c347cf892208",
       "version_major": 2,
       "version_minor": 0
      },
      "text/plain": [
       "  0%|          | 0/4949305 [00:00<?, ?it/s]"
      ]
     },
     "metadata": {},
     "output_type": "display_data"
    },
    {
     "name": "stdout",
     "output_type": "stream",
     "text": [
      "layer1: (1028649, 0, 13)\n",
      "there're 61081 neighbors for 440212\n",
      "Triplets for iteration 68 have been written to ./benign/benign_3/568.txt\n",
      "the # of the triplets: 32\n"
     ]
    },
    {
     "data": {
      "application/vnd.jupyter.widget-view+json": {
       "model_id": "0e08b24c03d34bd2b7ac143a8f9f3033",
       "version_major": 2,
       "version_minor": 0
      },
      "text/plain": [
       "  0%|          | 0/4949305 [00:00<?, ?it/s]"
      ]
     },
     "metadata": {},
     "output_type": "display_data"
    },
    {
     "name": "stdout",
     "output_type": "stream",
     "text": [
      "layer1: (1028649, 0, 13)\n",
      "there're 59003 neighbors for 444542\n",
      "Triplets for iteration 69 have been written to ./benign/benign_3/569.txt\n",
      "the # of the triplets: 32\n"
     ]
    },
    {
     "data": {
      "application/vnd.jupyter.widget-view+json": {
       "model_id": "b2fbea5e06e54997871b3ed3a6f16c1c",
       "version_major": 2,
       "version_minor": 0
      },
      "text/plain": [
       "  0%|          | 0/4949305 [00:00<?, ?it/s]"
      ]
     },
     "metadata": {},
     "output_type": "display_data"
    },
    {
     "name": "stdout",
     "output_type": "stream",
     "text": [
      "layer1: (1028649, 0, 13)\n",
      "there're 30536 neighbors for 145379\n",
      "Triplets for iteration 70 have been written to ./benign/benign_3/570.txt\n",
      "the # of the triplets: 32\n"
     ]
    },
    {
     "data": {
      "application/vnd.jupyter.widget-view+json": {
       "model_id": "ed513ef4b4694d9ca97f7dff20afbf0c",
       "version_major": 2,
       "version_minor": 0
      },
      "text/plain": [
       "  0%|          | 0/4949305 [00:00<?, ?it/s]"
      ]
     },
     "metadata": {},
     "output_type": "display_data"
    },
    {
     "name": "stdout",
     "output_type": "stream",
     "text": [
      "layer1: (1028649, 0, 13)\n",
      "there're 52002 neighbors for 280074\n",
      "Triplets for iteration 71 have been written to ./benign/benign_3/571.txt\n",
      "the # of the triplets: 32\n"
     ]
    },
    {
     "data": {
      "application/vnd.jupyter.widget-view+json": {
       "model_id": "797908cb0ec44fde8d48bf560fc905ac",
       "version_major": 2,
       "version_minor": 0
      },
      "text/plain": [
       "  0%|          | 0/4949305 [00:00<?, ?it/s]"
      ]
     },
     "metadata": {},
     "output_type": "display_data"
    },
    {
     "name": "stdout",
     "output_type": "stream",
     "text": [
      "layer1: (1028649, 0, 13)\n",
      "there're 61081 neighbors for 440212\n",
      "Triplets for iteration 72 have been written to ./benign/benign_3/572.txt\n",
      "the # of the triplets: 32\n"
     ]
    },
    {
     "data": {
      "application/vnd.jupyter.widget-view+json": {
       "model_id": "fe9d7c5ab1fd476da94a6a1fdc10940f",
       "version_major": 2,
       "version_minor": 0
      },
      "text/plain": [
       "  0%|          | 0/4949305 [00:00<?, ?it/s]"
      ]
     },
     "metadata": {},
     "output_type": "display_data"
    },
    {
     "name": "stdout",
     "output_type": "stream",
     "text": [
      "layer1: (1028649, 0, 13)\n",
      "there're 14844 neighbors for 148442\n",
      "Triplets for iteration 73 have been written to ./benign/benign_3/573.txt\n",
      "the # of the triplets: 32\n"
     ]
    },
    {
     "data": {
      "application/vnd.jupyter.widget-view+json": {
       "model_id": "6daf9cb1f57b474e80d7e04cd6f42100",
       "version_major": 2,
       "version_minor": 0
      },
      "text/plain": [
       "  0%|          | 0/4949305 [00:00<?, ?it/s]"
      ]
     },
     "metadata": {},
     "output_type": "display_data"
    },
    {
     "name": "stdout",
     "output_type": "stream",
     "text": [
      "layer1: (1028649, 0, 13)\n",
      "there're 12863 neighbors for 211018\n",
      "Triplets for iteration 74 have been written to ./benign/benign_3/574.txt\n",
      "the # of the triplets: 32\n"
     ]
    },
    {
     "data": {
      "application/vnd.jupyter.widget-view+json": {
       "model_id": "54b5c88e5b6b457a9df231c3e0f4af44",
       "version_major": 2,
       "version_minor": 0
      },
      "text/plain": [
       "  0%|          | 0/4949305 [00:00<?, ?it/s]"
      ]
     },
     "metadata": {},
     "output_type": "display_data"
    },
    {
     "name": "stdout",
     "output_type": "stream",
     "text": [
      "layer1: (1028649, 0, 13)\n",
      "there're 61081 neighbors for 440212\n",
      "Triplets for iteration 75 have been written to ./benign/benign_3/575.txt\n",
      "the # of the triplets: 32\n"
     ]
    },
    {
     "data": {
      "application/vnd.jupyter.widget-view+json": {
       "model_id": "cfe6a97f28164c81a2106f38e19437ee",
       "version_major": 2,
       "version_minor": 0
      },
      "text/plain": [
       "  0%|          | 0/4949305 [00:00<?, ?it/s]"
      ]
     },
     "metadata": {},
     "output_type": "display_data"
    },
    {
     "name": "stdout",
     "output_type": "stream",
     "text": [
      "layer1: (1028649, 0, 13)\n",
      "there're 211162 neighbors for 1003134\n",
      "Triplets for iteration 76 have been written to ./benign/benign_3/576.txt\n",
      "the # of the triplets: 32\n"
     ]
    },
    {
     "data": {
      "application/vnd.jupyter.widget-view+json": {
       "model_id": "cf79bfafa0ec49ffa126df9e62585c3f",
       "version_major": 2,
       "version_minor": 0
      },
      "text/plain": [
       "  0%|          | 0/4949305 [00:00<?, ?it/s]"
      ]
     },
     "metadata": {},
     "output_type": "display_data"
    },
    {
     "name": "stdout",
     "output_type": "stream",
     "text": [
      "layer1: (1028649, 0, 13)\n",
      "there're 211162 neighbors for 1003134\n",
      "Triplets for iteration 77 have been written to ./benign/benign_3/577.txt\n",
      "the # of the triplets: 32\n"
     ]
    },
    {
     "data": {
      "application/vnd.jupyter.widget-view+json": {
       "model_id": "9481ffc7dc094daeba894470052a2648",
       "version_major": 2,
       "version_minor": 0
      },
      "text/plain": [
       "  0%|          | 0/4949305 [00:00<?, ?it/s]"
      ]
     },
     "metadata": {},
     "output_type": "display_data"
    },
    {
     "name": "stdout",
     "output_type": "stream",
     "text": [
      "layer1: (1028649, 0, 13)\n",
      "there're 211162 neighbors for 1003134\n",
      "Triplets for iteration 78 have been written to ./benign/benign_3/578.txt\n",
      "the # of the triplets: 32\n"
     ]
    },
    {
     "data": {
      "application/vnd.jupyter.widget-view+json": {
       "model_id": "a9ef9614216d4d99aad7d3c977f14445",
       "version_major": 2,
       "version_minor": 0
      },
      "text/plain": [
       "  0%|          | 0/4949305 [00:00<?, ?it/s]"
      ]
     },
     "metadata": {},
     "output_type": "display_data"
    },
    {
     "name": "stdout",
     "output_type": "stream",
     "text": [
      "layer1: (1028649, 0, 13)\n",
      "there're 61081 neighbors for 440212\n",
      "Triplets for iteration 79 have been written to ./benign/benign_3/579.txt\n",
      "the # of the triplets: 32\n"
     ]
    },
    {
     "data": {
      "application/vnd.jupyter.widget-view+json": {
       "model_id": "fdc8cd2c14744601ab8c24ebebae2d6a",
       "version_major": 2,
       "version_minor": 0
      },
      "text/plain": [
       "  0%|          | 0/4949305 [00:00<?, ?it/s]"
      ]
     },
     "metadata": {},
     "output_type": "display_data"
    },
    {
     "name": "stdout",
     "output_type": "stream",
     "text": [
      "layer1: (1028649, 0, 13)\n",
      "there're 34767 neighbors for 1013153\n",
      "Triplets for iteration 80 have been written to ./benign/benign_3/580.txt\n",
      "the # of the triplets: 32\n"
     ]
    },
    {
     "data": {
      "application/vnd.jupyter.widget-view+json": {
       "model_id": "a9fbf1a8513b486f975ce10dc32f6f27",
       "version_major": 2,
       "version_minor": 0
      },
      "text/plain": [
       "  0%|          | 0/4949305 [00:00<?, ?it/s]"
      ]
     },
     "metadata": {},
     "output_type": "display_data"
    },
    {
     "name": "stdout",
     "output_type": "stream",
     "text": [
      "layer1: (1028649, 0, 13)\n",
      "there're 25895 neighbors for 295347\n",
      "Triplets for iteration 81 have been written to ./benign/benign_3/581.txt\n",
      "the # of the triplets: 32\n"
     ]
    },
    {
     "data": {
      "application/vnd.jupyter.widget-view+json": {
       "model_id": "14648fe75fa54bff85cd41ac5475a3aa",
       "version_major": 2,
       "version_minor": 0
      },
      "text/plain": [
       "  0%|          | 0/4949305 [00:00<?, ?it/s]"
      ]
     },
     "metadata": {},
     "output_type": "display_data"
    },
    {
     "name": "stdout",
     "output_type": "stream",
     "text": [
      "layer1: (1028649, 0, 13)\n",
      "there're 15421 neighbors for 915552\n",
      "Triplets for iteration 82 have been written to ./benign/benign_3/582.txt\n",
      "the # of the triplets: 32\n"
     ]
    },
    {
     "data": {
      "application/vnd.jupyter.widget-view+json": {
       "model_id": "e43639adad074919a0c70fbb220aded7",
       "version_major": 2,
       "version_minor": 0
      },
      "text/plain": [
       "  0%|          | 0/4949305 [00:00<?, ?it/s]"
      ]
     },
     "metadata": {},
     "output_type": "display_data"
    },
    {
     "name": "stdout",
     "output_type": "stream",
     "text": [
      "layer1: (1028649, 0, 13)\n",
      "there're 34767 neighbors for 1013153\n",
      "Triplets for iteration 83 have been written to ./benign/benign_3/583.txt\n",
      "the # of the triplets: 32\n"
     ]
    },
    {
     "data": {
      "application/vnd.jupyter.widget-view+json": {
       "model_id": "49991b4932d84373abefc816d0511d78",
       "version_major": 2,
       "version_minor": 0
      },
      "text/plain": [
       "  0%|          | 0/4949305 [00:00<?, ?it/s]"
      ]
     },
     "metadata": {},
     "output_type": "display_data"
    },
    {
     "name": "stdout",
     "output_type": "stream",
     "text": [
      "layer1: (1028649, 0, 13)\n",
      "there're 52002 neighbors for 280074\n",
      "Triplets for iteration 84 have been written to ./benign/benign_3/584.txt\n",
      "the # of the triplets: 32\n"
     ]
    },
    {
     "data": {
      "application/vnd.jupyter.widget-view+json": {
       "model_id": "70c7dc54567e4211aecd884d9da33fb5",
       "version_major": 2,
       "version_minor": 0
      },
      "text/plain": [
       "  0%|          | 0/4949305 [00:00<?, ?it/s]"
      ]
     },
     "metadata": {},
     "output_type": "display_data"
    },
    {
     "name": "stdout",
     "output_type": "stream",
     "text": [
      "layer1: (1028649, 0, 13)\n",
      "there're 9120 neighbors for 589911\n",
      "Triplets for iteration 85 have been written to ./benign/benign_3/585.txt\n",
      "the # of the triplets: 32\n"
     ]
    },
    {
     "data": {
      "application/vnd.jupyter.widget-view+json": {
       "model_id": "2f53e96ce15c40029bf057320de656b1",
       "version_major": 2,
       "version_minor": 0
      },
      "text/plain": [
       "  0%|          | 0/4949305 [00:00<?, ?it/s]"
      ]
     },
     "metadata": {},
     "output_type": "display_data"
    },
    {
     "name": "stdout",
     "output_type": "stream",
     "text": [
      "layer1: (1028649, 0, 13)\n",
      "there're 52605 neighbors for 1076424\n",
      "Triplets for iteration 86 have been written to ./benign/benign_3/586.txt\n",
      "the # of the triplets: 32\n"
     ]
    },
    {
     "data": {
      "application/vnd.jupyter.widget-view+json": {
       "model_id": "c4396bd6c0ac49528ce7690eaa43ed90",
       "version_major": 2,
       "version_minor": 0
      },
      "text/plain": [
       "  0%|          | 0/4949305 [00:00<?, ?it/s]"
      ]
     },
     "metadata": {},
     "output_type": "display_data"
    },
    {
     "name": "stdout",
     "output_type": "stream",
     "text": [
      "layer1: (1028649, 0, 13)\n",
      "there're 29008 neighbors for 979016\n",
      "Triplets for iteration 87 have been written to ./benign/benign_3/587.txt\n",
      "the # of the triplets: 32\n"
     ]
    },
    {
     "data": {
      "application/vnd.jupyter.widget-view+json": {
       "model_id": "aa05be3058f6486f842eeef707365f13",
       "version_major": 2,
       "version_minor": 0
      },
      "text/plain": [
       "  0%|          | 0/4949305 [00:00<?, ?it/s]"
      ]
     },
     "metadata": {},
     "output_type": "display_data"
    },
    {
     "name": "stdout",
     "output_type": "stream",
     "text": [
      "layer1: (1028649, 0, 13)\n",
      "there're 59003 neighbors for 444542\n",
      "Triplets for iteration 88 have been written to ./benign/benign_3/588.txt\n",
      "the # of the triplets: 32\n"
     ]
    },
    {
     "data": {
      "application/vnd.jupyter.widget-view+json": {
       "model_id": "67509c56377d46949fbd7349cd009a7e",
       "version_major": 2,
       "version_minor": 0
      },
      "text/plain": [
       "  0%|          | 0/4949305 [00:00<?, ?it/s]"
      ]
     },
     "metadata": {},
     "output_type": "display_data"
    },
    {
     "name": "stdout",
     "output_type": "stream",
     "text": [
      "layer1: (1028649, 0, 13)\n",
      "there're 211162 neighbors for 1003134\n",
      "Triplets for iteration 89 have been written to ./benign/benign_3/589.txt\n",
      "the # of the triplets: 32\n"
     ]
    },
    {
     "data": {
      "application/vnd.jupyter.widget-view+json": {
       "model_id": "eb9f4273738747288ac41206e34628fe",
       "version_major": 2,
       "version_minor": 0
      },
      "text/plain": [
       "  0%|          | 0/4949305 [00:00<?, ?it/s]"
      ]
     },
     "metadata": {},
     "output_type": "display_data"
    },
    {
     "name": "stdout",
     "output_type": "stream",
     "text": [
      "layer1: (1028649, 0, 13)\n",
      "there're 443 neighbors for 305424\n",
      "Triplets for iteration 90 have been written to ./benign/benign_3/590.txt\n",
      "the # of the triplets: 32\n"
     ]
    },
    {
     "data": {
      "application/vnd.jupyter.widget-view+json": {
       "model_id": "3e6adf8dd5f248b791fb98c7f08ee7cc",
       "version_major": 2,
       "version_minor": 0
      },
      "text/plain": [
       "  0%|          | 0/4949305 [00:00<?, ?it/s]"
      ]
     },
     "metadata": {},
     "output_type": "display_data"
    },
    {
     "name": "stdout",
     "output_type": "stream",
     "text": [
      "layer1: (1028649, 0, 13)\n",
      "there're 61081 neighbors for 440212\n",
      "Triplets for iteration 91 have been written to ./benign/benign_3/591.txt\n",
      "the # of the triplets: 32\n"
     ]
    },
    {
     "data": {
      "application/vnd.jupyter.widget-view+json": {
       "model_id": "7210a746265b447eb7bcf99be1d0f604",
       "version_major": 2,
       "version_minor": 0
      },
      "text/plain": [
       "  0%|          | 0/4949305 [00:00<?, ?it/s]"
      ]
     },
     "metadata": {},
     "output_type": "display_data"
    },
    {
     "name": "stdout",
     "output_type": "stream",
     "text": [
      "layer1: (1028649, 0, 13)\n",
      "there're 5007 neighbors for 684176\n",
      "Triplets for iteration 92 have been written to ./benign/benign_3/592.txt\n",
      "the # of the triplets: 32\n"
     ]
    },
    {
     "data": {
      "application/vnd.jupyter.widget-view+json": {
       "model_id": "a8f1360742444db289ad62d87b73440c",
       "version_major": 2,
       "version_minor": 0
      },
      "text/plain": [
       "  0%|          | 0/4949305 [00:00<?, ?it/s]"
      ]
     },
     "metadata": {},
     "output_type": "display_data"
    },
    {
     "name": "stdout",
     "output_type": "stream",
     "text": [
      "layer1: (1028649, 0, 13)\n",
      "there're 59003 neighbors for 444542\n",
      "Triplets for iteration 93 have been written to ./benign/benign_3/593.txt\n",
      "the # of the triplets: 32\n"
     ]
    },
    {
     "data": {
      "application/vnd.jupyter.widget-view+json": {
       "model_id": "f9d31330cb8d477db6a1cf234f55ec26",
       "version_major": 2,
       "version_minor": 0
      },
      "text/plain": [
       "  0%|          | 0/4949305 [00:00<?, ?it/s]"
      ]
     },
     "metadata": {},
     "output_type": "display_data"
    },
    {
     "name": "stdout",
     "output_type": "stream",
     "text": [
      "layer1: (1028649, 0, 13)\n",
      "there're 25246 neighbors for 581548\n",
      "Triplets for iteration 94 have been written to ./benign/benign_3/594.txt\n",
      "the # of the triplets: 32\n"
     ]
    },
    {
     "data": {
      "application/vnd.jupyter.widget-view+json": {
       "model_id": "ccbf1c26225042e3a65131e29ace50e6",
       "version_major": 2,
       "version_minor": 0
      },
      "text/plain": [
       "  0%|          | 0/4949305 [00:00<?, ?it/s]"
      ]
     },
     "metadata": {},
     "output_type": "display_data"
    },
    {
     "name": "stdout",
     "output_type": "stream",
     "text": [
      "layer1: (1028649, 0, 13)\n",
      "there're 50059 neighbors for 62762\n",
      "Triplets for iteration 95 have been written to ./benign/benign_3/595.txt\n",
      "the # of the triplets: 32\n"
     ]
    },
    {
     "data": {
      "application/vnd.jupyter.widget-view+json": {
       "model_id": "ac4578d2dc9e409a89fc9d24f205de09",
       "version_major": 2,
       "version_minor": 0
      },
      "text/plain": [
       "  0%|          | 0/4949305 [00:00<?, ?it/s]"
      ]
     },
     "metadata": {},
     "output_type": "display_data"
    },
    {
     "name": "stdout",
     "output_type": "stream",
     "text": [
      "layer1: (1028649, 0, 13)\n",
      "there're 52002 neighbors for 280074\n",
      "Triplets for iteration 96 have been written to ./benign/benign_3/596.txt\n",
      "the # of the triplets: 32\n"
     ]
    },
    {
     "data": {
      "application/vnd.jupyter.widget-view+json": {
       "model_id": "f30cb18fcf514c88aab46b5b5ed9a3f5",
       "version_major": 2,
       "version_minor": 0
      },
      "text/plain": [
       "  0%|          | 0/4949305 [00:00<?, ?it/s]"
      ]
     },
     "metadata": {},
     "output_type": "display_data"
    },
    {
     "name": "stdout",
     "output_type": "stream",
     "text": [
      "layer1: (1028649, 0, 13)\n",
      "there're 61081 neighbors for 440212\n",
      "Triplets for iteration 97 have been written to ./benign/benign_3/597.txt\n",
      "the # of the triplets: 32\n"
     ]
    },
    {
     "data": {
      "application/vnd.jupyter.widget-view+json": {
       "model_id": "817227e9a7374f67a511869861dc91bb",
       "version_major": 2,
       "version_minor": 0
      },
      "text/plain": [
       "  0%|          | 0/4949305 [00:00<?, ?it/s]"
      ]
     },
     "metadata": {},
     "output_type": "display_data"
    },
    {
     "name": "stdout",
     "output_type": "stream",
     "text": [
      "layer1: (1028649, 0, 13)\n",
      "there're 2050 neighbors for 789507\n",
      "Triplets for iteration 98 have been written to ./benign/benign_3/598.txt\n",
      "the # of the triplets: 32\n"
     ]
    },
    {
     "data": {
      "application/vnd.jupyter.widget-view+json": {
       "model_id": "a6431d54203e43179775571483c7ac78",
       "version_major": 2,
       "version_minor": 0
      },
      "text/plain": [
       "  0%|          | 0/4949305 [00:00<?, ?it/s]"
      ]
     },
     "metadata": {},
     "output_type": "display_data"
    },
    {
     "name": "stdout",
     "output_type": "stream",
     "text": [
      "layer1: (1028649, 0, 13)\n",
      "there're 59003 neighbors for 444542\n",
      "Triplets for iteration 99 have been written to ./benign/benign_3/599.txt\n",
      "the # of the triplets: 32\n"
     ]
    },
    {
     "data": {
      "application/vnd.jupyter.widget-view+json": {
       "model_id": "02c111d333a74e4a946791e443467a1d",
       "version_major": 2,
       "version_minor": 0
      },
      "text/plain": [
       "  0%|          | 0/4949305 [00:00<?, ?it/s]"
      ]
     },
     "metadata": {},
     "output_type": "display_data"
    },
    {
     "name": "stdout",
     "output_type": "stream",
     "text": [
      "layer1: (1028649, 0, 13)\n",
      "there're 52607 neighbors for 954492\n",
      "Triplets for iteration 100 have been written to ./benign/benign_3/600.txt\n",
      "the # of the triplets: 32\n"
     ]
    },
    {
     "data": {
      "application/vnd.jupyter.widget-view+json": {
       "model_id": "bc2ba9392a674bb8afd671ecb42ccfa9",
       "version_major": 2,
       "version_minor": 0
      },
      "text/plain": [
       "  0%|          | 0/4949305 [00:00<?, ?it/s]"
      ]
     },
     "metadata": {},
     "output_type": "display_data"
    },
    {
     "name": "stdout",
     "output_type": "stream",
     "text": [
      "layer1: (1028649, 0, 13)\n",
      "there're 5582 neighbors for 215632\n",
      "Triplets for iteration 101 have been written to ./benign/benign_3/601.txt\n",
      "the # of the triplets: 32\n"
     ]
    },
    {
     "data": {
      "application/vnd.jupyter.widget-view+json": {
       "model_id": "702d4af7958f497d8f27f7f7648542de",
       "version_major": 2,
       "version_minor": 0
      },
      "text/plain": [
       "  0%|          | 0/4949305 [00:00<?, ?it/s]"
      ]
     },
     "metadata": {},
     "output_type": "display_data"
    },
    {
     "name": "stdout",
     "output_type": "stream",
     "text": [
      "layer1: (1028649, 0, 13)\n",
      "there're 9120 neighbors for 589911\n",
      "Triplets for iteration 102 have been written to ./benign/benign_3/602.txt\n",
      "the # of the triplets: 32\n"
     ]
    },
    {
     "data": {
      "application/vnd.jupyter.widget-view+json": {
       "model_id": "3d1fcc7b56984c73a78b45d56c4fee9a",
       "version_major": 2,
       "version_minor": 0
      },
      "text/plain": [
       "  0%|          | 0/4949305 [00:00<?, ?it/s]"
      ]
     },
     "metadata": {},
     "output_type": "display_data"
    },
    {
     "name": "stdout",
     "output_type": "stream",
     "text": [
      "layer1: (1028649, 0, 13)\n",
      "there're 211162 neighbors for 1003134\n",
      "Triplets for iteration 103 have been written to ./benign/benign_3/603.txt\n",
      "the # of the triplets: 32\n"
     ]
    },
    {
     "data": {
      "application/vnd.jupyter.widget-view+json": {
       "model_id": "7bd4eede82b14309a31ed1b48abd69cf",
       "version_major": 2,
       "version_minor": 0
      },
      "text/plain": [
       "  0%|          | 0/4949305 [00:00<?, ?it/s]"
      ]
     },
     "metadata": {},
     "output_type": "display_data"
    },
    {
     "name": "stdout",
     "output_type": "stream",
     "text": [
      "layer1: (1028649, 0, 13)\n",
      "there're 59003 neighbors for 444542\n",
      "Triplets for iteration 104 have been written to ./benign/benign_3/604.txt\n",
      "the # of the triplets: 32\n"
     ]
    },
    {
     "data": {
      "application/vnd.jupyter.widget-view+json": {
       "model_id": "3f9f7e1ea16a4da88cc555e3164ad35e",
       "version_major": 2,
       "version_minor": 0
      },
      "text/plain": [
       "  0%|          | 0/4949305 [00:00<?, ?it/s]"
      ]
     },
     "metadata": {},
     "output_type": "display_data"
    },
    {
     "name": "stdout",
     "output_type": "stream",
     "text": [
      "layer1: (1028649, 0, 13)\n",
      "there're 57517 neighbors for 789081\n",
      "Triplets for iteration 105 have been written to ./benign/benign_3/605.txt\n",
      "the # of the triplets: 32\n"
     ]
    },
    {
     "data": {
      "application/vnd.jupyter.widget-view+json": {
       "model_id": "346038499780470ca58a5e3bad1c6b5b",
       "version_major": 2,
       "version_minor": 0
      },
      "text/plain": [
       "  0%|          | 0/4949305 [00:00<?, ?it/s]"
      ]
     },
     "metadata": {},
     "output_type": "display_data"
    },
    {
     "name": "stdout",
     "output_type": "stream",
     "text": [
      "layer1: (1028649, 0, 13)\n",
      "there're 9710 neighbors for 196635\n",
      "Triplets for iteration 106 have been written to ./benign/benign_3/606.txt\n",
      "the # of the triplets: 32\n"
     ]
    },
    {
     "data": {
      "application/vnd.jupyter.widget-view+json": {
       "model_id": "b53319b9a2f541cc847086134e9b40c0",
       "version_major": 2,
       "version_minor": 0
      },
      "text/plain": [
       "  0%|          | 0/4949305 [00:00<?, ?it/s]"
      ]
     },
     "metadata": {},
     "output_type": "display_data"
    },
    {
     "name": "stdout",
     "output_type": "stream",
     "text": [
      "layer1: (1028649, 0, 13)\n",
      "there're 59003 neighbors for 444542\n",
      "Triplets for iteration 107 have been written to ./benign/benign_3/607.txt\n",
      "the # of the triplets: 32\n"
     ]
    },
    {
     "data": {
      "application/vnd.jupyter.widget-view+json": {
       "model_id": "1a455ca3663944a2982be62ed846f2c8",
       "version_major": 2,
       "version_minor": 0
      },
      "text/plain": [
       "  0%|          | 0/4949305 [00:00<?, ?it/s]"
      ]
     },
     "metadata": {},
     "output_type": "display_data"
    },
    {
     "name": "stdout",
     "output_type": "stream",
     "text": [
      "layer1: (1028649, 0, 13)\n",
      "there're 34767 neighbors for 1013153\n",
      "Triplets for iteration 108 have been written to ./benign/benign_3/608.txt\n",
      "the # of the triplets: 32\n"
     ]
    },
    {
     "data": {
      "application/vnd.jupyter.widget-view+json": {
       "model_id": "07d2c941fbd6473a9b50ab0faf21e3b1",
       "version_major": 2,
       "version_minor": 0
      },
      "text/plain": [
       "  0%|          | 0/4949305 [00:00<?, ?it/s]"
      ]
     },
     "metadata": {},
     "output_type": "display_data"
    },
    {
     "name": "stdout",
     "output_type": "stream",
     "text": [
      "layer1: (1028649, 0, 13)\n",
      "there're 50059 neighbors for 62762\n",
      "Triplets for iteration 109 have been written to ./benign/benign_3/609.txt\n",
      "the # of the triplets: 32\n"
     ]
    },
    {
     "data": {
      "application/vnd.jupyter.widget-view+json": {
       "model_id": "019d99fcc6664cecb97100cc63b2f4ab",
       "version_major": 2,
       "version_minor": 0
      },
      "text/plain": [
       "  0%|          | 0/4949305 [00:00<?, ?it/s]"
      ]
     },
     "metadata": {},
     "output_type": "display_data"
    },
    {
     "name": "stdout",
     "output_type": "stream",
     "text": [
      "layer1: (1028649, 0, 13)\n",
      "there're 211162 neighbors for 1003134\n",
      "Triplets for iteration 110 have been written to ./benign/benign_3/610.txt\n",
      "the # of the triplets: 32\n"
     ]
    },
    {
     "data": {
      "application/vnd.jupyter.widget-view+json": {
       "model_id": "63cbe73082154fcd8b485d0d0ea65779",
       "version_major": 2,
       "version_minor": 0
      },
      "text/plain": [
       "  0%|          | 0/4949305 [00:00<?, ?it/s]"
      ]
     },
     "metadata": {},
     "output_type": "display_data"
    },
    {
     "name": "stdout",
     "output_type": "stream",
     "text": [
      "layer1: (1028649, 0, 13)\n",
      "there're 2297 neighbors for 218864\n",
      "Triplets for iteration 111 have been written to ./benign/benign_3/611.txt\n",
      "the # of the triplets: 32\n"
     ]
    },
    {
     "data": {
      "application/vnd.jupyter.widget-view+json": {
       "model_id": "2f7acd55a0d84fbc93a4f58c768f35f9",
       "version_major": 2,
       "version_minor": 0
      },
      "text/plain": [
       "  0%|          | 0/4949305 [00:00<?, ?it/s]"
      ]
     },
     "metadata": {},
     "output_type": "display_data"
    },
    {
     "name": "stdout",
     "output_type": "stream",
     "text": [
      "layer1: (1028649, 0, 13)\n",
      "there're 50059 neighbors for 62762\n",
      "Triplets for iteration 112 have been written to ./benign/benign_3/612.txt\n",
      "the # of the triplets: 32\n"
     ]
    },
    {
     "data": {
      "application/vnd.jupyter.widget-view+json": {
       "model_id": "b01aa25efb7b4b0fb7700ff9e68c81cd",
       "version_major": 2,
       "version_minor": 0
      },
      "text/plain": [
       "  0%|          | 0/4949305 [00:00<?, ?it/s]"
      ]
     },
     "metadata": {},
     "output_type": "display_data"
    },
    {
     "name": "stdout",
     "output_type": "stream",
     "text": [
      "layer1: (1028649, 0, 13)\n",
      "there're 6227 neighbors for 187482\n",
      "Triplets for iteration 113 have been written to ./benign/benign_3/613.txt\n",
      "the # of the triplets: 32\n"
     ]
    },
    {
     "data": {
      "application/vnd.jupyter.widget-view+json": {
       "model_id": "9089368246e5466e8514fa44266522e0",
       "version_major": 2,
       "version_minor": 0
      },
      "text/plain": [
       "  0%|          | 0/4949305 [00:00<?, ?it/s]"
      ]
     },
     "metadata": {},
     "output_type": "display_data"
    },
    {
     "name": "stdout",
     "output_type": "stream",
     "text": [
      "layer1: (1028649, 0, 13)\n",
      "there're 52607 neighbors for 954492\n",
      "Triplets for iteration 114 have been written to ./benign/benign_3/614.txt\n",
      "the # of the triplets: 32\n"
     ]
    },
    {
     "data": {
      "application/vnd.jupyter.widget-view+json": {
       "model_id": "929e5d5dbe0b4e5db05312417b990c16",
       "version_major": 2,
       "version_minor": 0
      },
      "text/plain": [
       "  0%|          | 0/4949305 [00:00<?, ?it/s]"
      ]
     },
     "metadata": {},
     "output_type": "display_data"
    },
    {
     "name": "stdout",
     "output_type": "stream",
     "text": [
      "layer1: (1028649, 0, 13)\n",
      "there're 4344 neighbors for 745444\n",
      "Triplets for iteration 115 have been written to ./benign/benign_3/615.txt\n",
      "the # of the triplets: 32\n"
     ]
    },
    {
     "data": {
      "application/vnd.jupyter.widget-view+json": {
       "model_id": "4e53480d95634db88d8a8d8de74c82b8",
       "version_major": 2,
       "version_minor": 0
      },
      "text/plain": [
       "  0%|          | 0/4949305 [00:00<?, ?it/s]"
      ]
     },
     "metadata": {},
     "output_type": "display_data"
    },
    {
     "name": "stdout",
     "output_type": "stream",
     "text": [
      "layer1: (1028649, 0, 13)\n",
      "there're 211162 neighbors for 1003134\n",
      "Triplets for iteration 116 have been written to ./benign/benign_3/616.txt\n",
      "the # of the triplets: 32\n"
     ]
    },
    {
     "data": {
      "application/vnd.jupyter.widget-view+json": {
       "model_id": "fe9a6705cb5e4eeaa03a1cd9dfa2e3fc",
       "version_major": 2,
       "version_minor": 0
      },
      "text/plain": [
       "  0%|          | 0/4949305 [00:00<?, ?it/s]"
      ]
     },
     "metadata": {},
     "output_type": "display_data"
    },
    {
     "name": "stdout",
     "output_type": "stream",
     "text": [
      "layer1: (1028649, 0, 13)\n",
      "there're 211162 neighbors for 1003134\n",
      "Triplets for iteration 117 have been written to ./benign/benign_3/617.txt\n",
      "the # of the triplets: 32\n"
     ]
    },
    {
     "data": {
      "application/vnd.jupyter.widget-view+json": {
       "model_id": "105d9c2ff452429b8cf09ee9f0c6352e",
       "version_major": 2,
       "version_minor": 0
      },
      "text/plain": [
       "  0%|          | 0/4949305 [00:00<?, ?it/s]"
      ]
     },
     "metadata": {},
     "output_type": "display_data"
    },
    {
     "name": "stdout",
     "output_type": "stream",
     "text": [
      "layer1: (1028649, 0, 13)\n",
      "there're 25895 neighbors for 295347\n",
      "Triplets for iteration 118 have been written to ./benign/benign_3/618.txt\n",
      "the # of the triplets: 32\n"
     ]
    },
    {
     "data": {
      "application/vnd.jupyter.widget-view+json": {
       "model_id": "88d5cccfe80a4c7cb1c2a683c0aebcf1",
       "version_major": 2,
       "version_minor": 0
      },
      "text/plain": [
       "  0%|          | 0/4949305 [00:00<?, ?it/s]"
      ]
     },
     "metadata": {},
     "output_type": "display_data"
    },
    {
     "name": "stdout",
     "output_type": "stream",
     "text": [
      "layer1: (1028649, 0, 13)\n",
      "there're 14844 neighbors for 148442\n",
      "Triplets for iteration 119 have been written to ./benign/benign_3/619.txt\n",
      "the # of the triplets: 32\n"
     ]
    },
    {
     "data": {
      "application/vnd.jupyter.widget-view+json": {
       "model_id": "0d59be2194ab4710b321204926400995",
       "version_major": 2,
       "version_minor": 0
      },
      "text/plain": [
       "  0%|          | 0/4949305 [00:00<?, ?it/s]"
      ]
     },
     "metadata": {},
     "output_type": "display_data"
    },
    {
     "name": "stdout",
     "output_type": "stream",
     "text": [
      "layer1: (1028649, 0, 13)\n",
      "there're 4559 neighbors for 339437\n",
      "Triplets for iteration 120 have been written to ./benign/benign_3/620.txt\n",
      "the # of the triplets: 32\n"
     ]
    },
    {
     "data": {
      "application/vnd.jupyter.widget-view+json": {
       "model_id": "fe3dff4c28db4be09a40b434372ef9db",
       "version_major": 2,
       "version_minor": 0
      },
      "text/plain": [
       "  0%|          | 0/4949305 [00:00<?, ?it/s]"
      ]
     },
     "metadata": {},
     "output_type": "display_data"
    },
    {
     "name": "stdout",
     "output_type": "stream",
     "text": [
      "layer1: (1028649, 0, 13)\n",
      "there're 4056 neighbors for 263246\n",
      "Triplets for iteration 121 have been written to ./benign/benign_3/621.txt\n",
      "the # of the triplets: 32\n"
     ]
    },
    {
     "data": {
      "application/vnd.jupyter.widget-view+json": {
       "model_id": "fd130b982cb04e138dba04b19dd8acd9",
       "version_major": 2,
       "version_minor": 0
      },
      "text/plain": [
       "  0%|          | 0/4949305 [00:00<?, ?it/s]"
      ]
     },
     "metadata": {},
     "output_type": "display_data"
    },
    {
     "name": "stdout",
     "output_type": "stream",
     "text": [
      "layer1: (1028649, 0, 13)\n",
      "there're 2297 neighbors for 677631\n",
      "Triplets for iteration 122 have been written to ./benign/benign_3/622.txt\n",
      "the # of the triplets: 32\n"
     ]
    },
    {
     "data": {
      "application/vnd.jupyter.widget-view+json": {
       "model_id": "327f4bc05b034d9db2af20150f063f68",
       "version_major": 2,
       "version_minor": 0
      },
      "text/plain": [
       "  0%|          | 0/4949305 [00:00<?, ?it/s]"
      ]
     },
     "metadata": {},
     "output_type": "display_data"
    },
    {
     "name": "stdout",
     "output_type": "stream",
     "text": [
      "layer1: (1028649, 0, 13)\n",
      "there're 52605 neighbors for 1076424\n",
      "Triplets for iteration 123 have been written to ./benign/benign_3/623.txt\n",
      "the # of the triplets: 32\n"
     ]
    },
    {
     "data": {
      "application/vnd.jupyter.widget-view+json": {
       "model_id": "de58bf2142f2409d9c23fdb7d6c2a271",
       "version_major": 2,
       "version_minor": 0
      },
      "text/plain": [
       "  0%|          | 0/4949305 [00:00<?, ?it/s]"
      ]
     },
     "metadata": {},
     "output_type": "display_data"
    },
    {
     "name": "stdout",
     "output_type": "stream",
     "text": [
      "layer1: (1028649, 0, 13)\n",
      "there're 211162 neighbors for 1003134\n",
      "Triplets for iteration 124 have been written to ./benign/benign_3/624.txt\n",
      "the # of the triplets: 32\n"
     ]
    },
    {
     "data": {
      "application/vnd.jupyter.widget-view+json": {
       "model_id": "4ba62ebe5f884fa0b9e98604d359212f",
       "version_major": 2,
       "version_minor": 0
      },
      "text/plain": [
       "  0%|          | 0/4949305 [00:00<?, ?it/s]"
      ]
     },
     "metadata": {},
     "output_type": "display_data"
    },
    {
     "name": "stdout",
     "output_type": "stream",
     "text": [
      "layer1: (1028649, 0, 13)\n",
      "there're 211162 neighbors for 1003134\n",
      "Triplets for iteration 125 have been written to ./benign/benign_3/625.txt\n",
      "the # of the triplets: 32\n"
     ]
    },
    {
     "data": {
      "application/vnd.jupyter.widget-view+json": {
       "model_id": "8919ceac33204f9eb22bf273cdbc8e42",
       "version_major": 2,
       "version_minor": 0
      },
      "text/plain": [
       "  0%|          | 0/4949305 [00:00<?, ?it/s]"
      ]
     },
     "metadata": {},
     "output_type": "display_data"
    },
    {
     "name": "stdout",
     "output_type": "stream",
     "text": [
      "layer1: (1028649, 0, 13)\n",
      "there're 1011 neighbors for 659904\n",
      "Triplets for iteration 126 have been written to ./benign/benign_3/626.txt\n",
      "the # of the triplets: 32\n"
     ]
    },
    {
     "data": {
      "application/vnd.jupyter.widget-view+json": {
       "model_id": "39ff54579e94459ba40a2cf60d5a225f",
       "version_major": 2,
       "version_minor": 0
      },
      "text/plain": [
       "  0%|          | 0/4949305 [00:00<?, ?it/s]"
      ]
     },
     "metadata": {},
     "output_type": "display_data"
    },
    {
     "name": "stdout",
     "output_type": "stream",
     "text": [
      "layer1: (1028649, 0, 13)\n",
      "there're 57517 neighbors for 789081\n",
      "Triplets for iteration 127 have been written to ./benign/benign_3/627.txt\n",
      "the # of the triplets: 32\n"
     ]
    },
    {
     "data": {
      "application/vnd.jupyter.widget-view+json": {
       "model_id": "b5dfa55fa9e24488b4dcab3df4b932aa",
       "version_major": 2,
       "version_minor": 0
      },
      "text/plain": [
       "  0%|          | 0/4949305 [00:00<?, ?it/s]"
      ]
     },
     "metadata": {},
     "output_type": "display_data"
    },
    {
     "name": "stdout",
     "output_type": "stream",
     "text": [
      "layer1: (1028649, 0, 13)\n",
      "there're 23362 neighbors for 1028649\n",
      "Triplets for iteration 128 have been written to ./benign/benign_3/628.txt\n",
      "the # of the triplets: 32\n"
     ]
    },
    {
     "data": {
      "application/vnd.jupyter.widget-view+json": {
       "model_id": "ed76274e3f534fdab497a4fd259a1937",
       "version_major": 2,
       "version_minor": 0
      },
      "text/plain": [
       "  0%|          | 0/4949305 [00:00<?, ?it/s]"
      ]
     },
     "metadata": {},
     "output_type": "display_data"
    },
    {
     "name": "stdout",
     "output_type": "stream",
     "text": [
      "layer1: (1028649, 0, 13)\n",
      "there're 211162 neighbors for 1003134\n",
      "Triplets for iteration 129 have been written to ./benign/benign_3/629.txt\n",
      "the # of the triplets: 32\n"
     ]
    },
    {
     "data": {
      "application/vnd.jupyter.widget-view+json": {
       "model_id": "d92ee5a380bb4a2b99eda2c2270e890d",
       "version_major": 2,
       "version_minor": 0
      },
      "text/plain": [
       "  0%|          | 0/4949305 [00:00<?, ?it/s]"
      ]
     },
     "metadata": {},
     "output_type": "display_data"
    },
    {
     "name": "stdout",
     "output_type": "stream",
     "text": [
      "layer1: (1028649, 0, 13)\n",
      "there're 4559 neighbors for 339437\n",
      "Triplets for iteration 130 have been written to ./benign/benign_3/630.txt\n",
      "the # of the triplets: 32\n"
     ]
    },
    {
     "data": {
      "application/vnd.jupyter.widget-view+json": {
       "model_id": "3517bf6a611c41a7aabe842f59857066",
       "version_major": 2,
       "version_minor": 0
      },
      "text/plain": [
       "  0%|          | 0/4949305 [00:00<?, ?it/s]"
      ]
     },
     "metadata": {},
     "output_type": "display_data"
    },
    {
     "name": "stdout",
     "output_type": "stream",
     "text": [
      "layer1: (1028649, 0, 13)\n",
      "there're 128 neighbors for 469061\n",
      "Triplets for iteration 131 have been written to ./benign/benign_3/631.txt\n",
      "the # of the triplets: 32\n"
     ]
    },
    {
     "data": {
      "application/vnd.jupyter.widget-view+json": {
       "model_id": "3d23447a73194372aefba0ecd5dedbdc",
       "version_major": 2,
       "version_minor": 0
      },
      "text/plain": [
       "  0%|          | 0/4949305 [00:00<?, ?it/s]"
      ]
     },
     "metadata": {},
     "output_type": "display_data"
    },
    {
     "name": "stdout",
     "output_type": "stream",
     "text": [
      "layer1: (1028649, 0, 13)\n",
      "there're 211162 neighbors for 1003134\n",
      "Triplets for iteration 132 have been written to ./benign/benign_3/632.txt\n",
      "the # of the triplets: 32\n"
     ]
    },
    {
     "data": {
      "application/vnd.jupyter.widget-view+json": {
       "model_id": "0dcd651e4a5d401883318cc17be8ff7b",
       "version_major": 2,
       "version_minor": 0
      },
      "text/plain": [
       "  0%|          | 0/4949305 [00:00<?, ?it/s]"
      ]
     },
     "metadata": {},
     "output_type": "display_data"
    },
    {
     "name": "stdout",
     "output_type": "stream",
     "text": [
      "layer1: (1028649, 0, 13)\n",
      "there're 23362 neighbors for 1028649\n",
      "Triplets for iteration 133 have been written to ./benign/benign_3/633.txt\n",
      "the # of the triplets: 32\n"
     ]
    },
    {
     "data": {
      "application/vnd.jupyter.widget-view+json": {
       "model_id": "5eed244970cc426ca33c544372bfa1f9",
       "version_major": 2,
       "version_minor": 0
      },
      "text/plain": [
       "  0%|          | 0/4949305 [00:00<?, ?it/s]"
      ]
     },
     "metadata": {},
     "output_type": "display_data"
    },
    {
     "name": "stdout",
     "output_type": "stream",
     "text": [
      "layer1: (1028649, 0, 13)\n",
      "there're 2949 neighbors for 545701\n",
      "Triplets for iteration 134 have been written to ./benign/benign_3/634.txt\n",
      "the # of the triplets: 32\n"
     ]
    },
    {
     "data": {
      "application/vnd.jupyter.widget-view+json": {
       "model_id": "5ffb17aa732e4c17a8acf963a7a19468",
       "version_major": 2,
       "version_minor": 0
      },
      "text/plain": [
       "  0%|          | 0/4949305 [00:00<?, ?it/s]"
      ]
     },
     "metadata": {},
     "output_type": "display_data"
    },
    {
     "name": "stdout",
     "output_type": "stream",
     "text": [
      "layer1: (1028649, 0, 13)\n",
      "there're 211162 neighbors for 1003134\n",
      "Triplets for iteration 135 have been written to ./benign/benign_3/635.txt\n",
      "the # of the triplets: 32\n"
     ]
    },
    {
     "data": {
      "application/vnd.jupyter.widget-view+json": {
       "model_id": "0d0f486bcf9341f0b6b67fae3a4a1b0c",
       "version_major": 2,
       "version_minor": 0
      },
      "text/plain": [
       "  0%|          | 0/4949305 [00:00<?, ?it/s]"
      ]
     },
     "metadata": {},
     "output_type": "display_data"
    },
    {
     "name": "stdout",
     "output_type": "stream",
     "text": [
      "layer1: (1028649, 0, 13)\n",
      "there're 73949 neighbors for 272194\n",
      "Triplets for iteration 136 have been written to ./benign/benign_3/636.txt\n",
      "the # of the triplets: 32\n"
     ]
    },
    {
     "data": {
      "application/vnd.jupyter.widget-view+json": {
       "model_id": "a8302a213eec426b95b02726c5d769af",
       "version_major": 2,
       "version_minor": 0
      },
      "text/plain": [
       "  0%|          | 0/4949305 [00:00<?, ?it/s]"
      ]
     },
     "metadata": {},
     "output_type": "display_data"
    },
    {
     "name": "stdout",
     "output_type": "stream",
     "text": [
      "layer1: (1028649, 0, 13)\n",
      "there're 3378 neighbors for 1146383\n",
      "Triplets for iteration 137 have been written to ./benign/benign_3/637.txt\n",
      "the # of the triplets: 32\n"
     ]
    },
    {
     "data": {
      "application/vnd.jupyter.widget-view+json": {
       "model_id": "8b7d89b5ea854dc49157b88c537d8a19",
       "version_major": 2,
       "version_minor": 0
      },
      "text/plain": [
       "  0%|          | 0/4949305 [00:00<?, ?it/s]"
      ]
     },
     "metadata": {},
     "output_type": "display_data"
    },
    {
     "name": "stdout",
     "output_type": "stream",
     "text": [
      "layer1: (1028649, 0, 13)\n",
      "there're 52002 neighbors for 280074\n",
      "Triplets for iteration 138 have been written to ./benign/benign_3/638.txt\n",
      "the # of the triplets: 32\n"
     ]
    },
    {
     "data": {
      "application/vnd.jupyter.widget-view+json": {
       "model_id": "e5666197aedd43168bf3432d30aad722",
       "version_major": 2,
       "version_minor": 0
      },
      "text/plain": [
       "  0%|          | 0/4949305 [00:00<?, ?it/s]"
      ]
     },
     "metadata": {},
     "output_type": "display_data"
    },
    {
     "name": "stdout",
     "output_type": "stream",
     "text": [
      "layer1: (1028649, 0, 13)\n",
      "there're 9693 neighbors for 19498\n",
      "Triplets for iteration 139 have been written to ./benign/benign_3/639.txt\n",
      "the # of the triplets: 32\n"
     ]
    },
    {
     "data": {
      "application/vnd.jupyter.widget-view+json": {
       "model_id": "c1322105516f4a13bf331ee60636cad8",
       "version_major": 2,
       "version_minor": 0
      },
      "text/plain": [
       "  0%|          | 0/4949305 [00:00<?, ?it/s]"
      ]
     },
     "metadata": {},
     "output_type": "display_data"
    },
    {
     "name": "stdout",
     "output_type": "stream",
     "text": [
      "layer1: (1028649, 0, 13)\n",
      "there're 23362 neighbors for 1028649\n",
      "Triplets for iteration 140 have been written to ./benign/benign_3/640.txt\n",
      "the # of the triplets: 32\n"
     ]
    },
    {
     "data": {
      "application/vnd.jupyter.widget-view+json": {
       "model_id": "d88ac2a7ca2343c082437d78bbf3b245",
       "version_major": 2,
       "version_minor": 0
      },
      "text/plain": [
       "  0%|          | 0/4949305 [00:00<?, ?it/s]"
      ]
     },
     "metadata": {},
     "output_type": "display_data"
    },
    {
     "name": "stdout",
     "output_type": "stream",
     "text": [
      "layer1: (1028649, 0, 13)\n",
      "there're 211162 neighbors for 1003134\n",
      "Triplets for iteration 141 have been written to ./benign/benign_3/641.txt\n",
      "the # of the triplets: 32\n"
     ]
    },
    {
     "data": {
      "application/vnd.jupyter.widget-view+json": {
       "model_id": "fbbd81a54e5a4b1585ff98c09ea1f1e6",
       "version_major": 2,
       "version_minor": 0
      },
      "text/plain": [
       "  0%|          | 0/4949305 [00:00<?, ?it/s]"
      ]
     },
     "metadata": {},
     "output_type": "display_data"
    },
    {
     "name": "stdout",
     "output_type": "stream",
     "text": [
      "layer1: (1028649, 0, 13)\n",
      "there're 59003 neighbors for 444542\n",
      "Triplets for iteration 142 have been written to ./benign/benign_3/642.txt\n",
      "the # of the triplets: 32\n"
     ]
    },
    {
     "data": {
      "application/vnd.jupyter.widget-view+json": {
       "model_id": "8dc1ce1aed9c426ebaacb364405ea7e9",
       "version_major": 2,
       "version_minor": 0
      },
      "text/plain": [
       "  0%|          | 0/4949305 [00:00<?, ?it/s]"
      ]
     },
     "metadata": {},
     "output_type": "display_data"
    },
    {
     "name": "stdout",
     "output_type": "stream",
     "text": [
      "layer1: (1028649, 0, 13)\n",
      "there're 73949 neighbors for 272194\n",
      "Triplets for iteration 143 have been written to ./benign/benign_3/643.txt\n",
      "the # of the triplets: 32\n"
     ]
    },
    {
     "data": {
      "application/vnd.jupyter.widget-view+json": {
       "model_id": "a1d7cc745dbc45d0a5d769bf11ce91db",
       "version_major": 2,
       "version_minor": 0
      },
      "text/plain": [
       "  0%|          | 0/4949305 [00:00<?, ?it/s]"
      ]
     },
     "metadata": {},
     "output_type": "display_data"
    },
    {
     "name": "stdout",
     "output_type": "stream",
     "text": [
      "layer1: (1028649, 0, 13)\n",
      "there're 211162 neighbors for 1003134\n",
      "Triplets for iteration 144 have been written to ./benign/benign_3/644.txt\n",
      "the # of the triplets: 32\n"
     ]
    },
    {
     "data": {
      "application/vnd.jupyter.widget-view+json": {
       "model_id": "ad8d1030552d45f498a8dd408ed0e170",
       "version_major": 2,
       "version_minor": 0
      },
      "text/plain": [
       "  0%|          | 0/4949305 [00:00<?, ?it/s]"
      ]
     },
     "metadata": {},
     "output_type": "display_data"
    },
    {
     "name": "stdout",
     "output_type": "stream",
     "text": [
      "layer1: (1028649, 0, 13)\n",
      "there're 6567 neighbors for 279417\n",
      "Triplets for iteration 145 have been written to ./benign/benign_3/645.txt\n",
      "the # of the triplets: 32\n"
     ]
    },
    {
     "data": {
      "application/vnd.jupyter.widget-view+json": {
       "model_id": "6477c0898be24e44a4398ffee5a609b8",
       "version_major": 2,
       "version_minor": 0
      },
      "text/plain": [
       "  0%|          | 0/4949305 [00:00<?, ?it/s]"
      ]
     },
     "metadata": {},
     "output_type": "display_data"
    },
    {
     "name": "stdout",
     "output_type": "stream",
     "text": [
      "layer1: (1028649, 0, 13)\n",
      "there're 4054 neighbors for 781820\n",
      "Triplets for iteration 146 have been written to ./benign/benign_3/646.txt\n",
      "the # of the triplets: 32\n"
     ]
    },
    {
     "data": {
      "application/vnd.jupyter.widget-view+json": {
       "model_id": "32e63e5c098245f8a0e4da48ebdf049b",
       "version_major": 2,
       "version_minor": 0
      },
      "text/plain": [
       "  0%|          | 0/4949305 [00:00<?, ?it/s]"
      ]
     },
     "metadata": {},
     "output_type": "display_data"
    },
    {
     "name": "stdout",
     "output_type": "stream",
     "text": [
      "layer1: (1028649, 0, 13)\n",
      "there're 25246 neighbors for 581548\n",
      "Triplets for iteration 147 have been written to ./benign/benign_3/647.txt\n",
      "the # of the triplets: 32\n"
     ]
    },
    {
     "data": {
      "application/vnd.jupyter.widget-view+json": {
       "model_id": "00cb70bbca834c75a5cd13ec5853deeb",
       "version_major": 2,
       "version_minor": 0
      },
      "text/plain": [
       "  0%|          | 0/4949305 [00:00<?, ?it/s]"
      ]
     },
     "metadata": {},
     "output_type": "display_data"
    },
    {
     "name": "stdout",
     "output_type": "stream",
     "text": [
      "layer1: (1028649, 0, 13)\n",
      "there're 4559 neighbors for 339437\n",
      "Triplets for iteration 148 have been written to ./benign/benign_3/648.txt\n",
      "the # of the triplets: 32\n"
     ]
    },
    {
     "data": {
      "application/vnd.jupyter.widget-view+json": {
       "model_id": "4be2c19f08f742a7ae1639af089e9e2f",
       "version_major": 2,
       "version_minor": 0
      },
      "text/plain": [
       "  0%|          | 0/4949305 [00:00<?, ?it/s]"
      ]
     },
     "metadata": {},
     "output_type": "display_data"
    },
    {
     "name": "stdout",
     "output_type": "stream",
     "text": [
      "layer1: (1028649, 0, 13)\n",
      "there're 211162 neighbors for 1003134\n",
      "Triplets for iteration 149 have been written to ./benign/benign_3/649.txt\n",
      "the # of the triplets: 32\n"
     ]
    },
    {
     "data": {
      "application/vnd.jupyter.widget-view+json": {
       "model_id": "4b41bd7839c644808c8f430adb72d120",
       "version_major": 2,
       "version_minor": 0
      },
      "text/plain": [
       "  0%|          | 0/4949305 [00:00<?, ?it/s]"
      ]
     },
     "metadata": {},
     "output_type": "display_data"
    },
    {
     "name": "stdout",
     "output_type": "stream",
     "text": [
      "layer1: (1028649, 0, 13)\n",
      "there're 29008 neighbors for 979016\n",
      "Triplets for iteration 150 have been written to ./benign/benign_3/650.txt\n",
      "the # of the triplets: 32\n"
     ]
    },
    {
     "data": {
      "application/vnd.jupyter.widget-view+json": {
       "model_id": "d2306ed0ae3a4b3aa9eb50cc174731c9",
       "version_major": 2,
       "version_minor": 0
      },
      "text/plain": [
       "  0%|          | 0/4949305 [00:00<?, ?it/s]"
      ]
     },
     "metadata": {},
     "output_type": "display_data"
    },
    {
     "name": "stdout",
     "output_type": "stream",
     "text": [
      "layer1: (1028649, 0, 13)\n",
      "there're 59003 neighbors for 444542\n",
      "Triplets for iteration 151 have been written to ./benign/benign_3/651.txt\n",
      "the # of the triplets: 32\n"
     ]
    },
    {
     "data": {
      "application/vnd.jupyter.widget-view+json": {
       "model_id": "f29b9f92c2194f87a1599b5992b4ab81",
       "version_major": 2,
       "version_minor": 0
      },
      "text/plain": [
       "  0%|          | 0/4949305 [00:00<?, ?it/s]"
      ]
     },
     "metadata": {},
     "output_type": "display_data"
    },
    {
     "name": "stdout",
     "output_type": "stream",
     "text": [
      "layer1: (1028649, 0, 13)\n",
      "there're 73949 neighbors for 272194\n",
      "Triplets for iteration 152 have been written to ./benign/benign_3/652.txt\n",
      "the # of the triplets: 32\n"
     ]
    },
    {
     "data": {
      "application/vnd.jupyter.widget-view+json": {
       "model_id": "8f7a2ec656274205bfaae8260a77b00f",
       "version_major": 2,
       "version_minor": 0
      },
      "text/plain": [
       "  0%|          | 0/4949305 [00:00<?, ?it/s]"
      ]
     },
     "metadata": {},
     "output_type": "display_data"
    },
    {
     "name": "stdout",
     "output_type": "stream",
     "text": [
      "layer1: (1028649, 0, 13)\n",
      "there're 52002 neighbors for 280074\n",
      "Triplets for iteration 153 have been written to ./benign/benign_3/653.txt\n",
      "the # of the triplets: 32\n"
     ]
    },
    {
     "data": {
      "application/vnd.jupyter.widget-view+json": {
       "model_id": "962768ee4b5f489e9029ba27f29841bd",
       "version_major": 2,
       "version_minor": 0
      },
      "text/plain": [
       "  0%|          | 0/4949305 [00:00<?, ?it/s]"
      ]
     },
     "metadata": {},
     "output_type": "display_data"
    },
    {
     "name": "stdout",
     "output_type": "stream",
     "text": [
      "layer1: (1028649, 0, 13)\n",
      "there're 52002 neighbors for 280074\n",
      "Triplets for iteration 154 have been written to ./benign/benign_3/654.txt\n",
      "the # of the triplets: 32\n"
     ]
    },
    {
     "data": {
      "application/vnd.jupyter.widget-view+json": {
       "model_id": "086c86c406e44240b209bf2f96575db4",
       "version_major": 2,
       "version_minor": 0
      },
      "text/plain": [
       "  0%|          | 0/4949305 [00:00<?, ?it/s]"
      ]
     },
     "metadata": {},
     "output_type": "display_data"
    },
    {
     "name": "stdout",
     "output_type": "stream",
     "text": [
      "layer1: (1028649, 0, 13)\n",
      "there're 73949 neighbors for 272194\n",
      "Triplets for iteration 155 have been written to ./benign/benign_3/655.txt\n",
      "the # of the triplets: 32\n"
     ]
    },
    {
     "data": {
      "application/vnd.jupyter.widget-view+json": {
       "model_id": "5a85f6c8ddae467ca4fb648d3a9a4f12",
       "version_major": 2,
       "version_minor": 0
      },
      "text/plain": [
       "  0%|          | 0/4949305 [00:00<?, ?it/s]"
      ]
     },
     "metadata": {},
     "output_type": "display_data"
    },
    {
     "name": "stdout",
     "output_type": "stream",
     "text": [
      "layer1: (1028649, 0, 13)\n",
      "there're 34767 neighbors for 1013153\n",
      "Triplets for iteration 156 have been written to ./benign/benign_3/656.txt\n",
      "the # of the triplets: 32\n"
     ]
    },
    {
     "data": {
      "application/vnd.jupyter.widget-view+json": {
       "model_id": "075e9a1654604810a7c730a8249ddf90",
       "version_major": 2,
       "version_minor": 0
      },
      "text/plain": [
       "  0%|          | 0/4949305 [00:00<?, ?it/s]"
      ]
     },
     "metadata": {},
     "output_type": "display_data"
    },
    {
     "name": "stdout",
     "output_type": "stream",
     "text": [
      "layer1: (1028649, 0, 13)\n",
      "there're 57517 neighbors for 789081\n",
      "Triplets for iteration 157 have been written to ./benign/benign_3/657.txt\n",
      "the # of the triplets: 32\n"
     ]
    },
    {
     "data": {
      "application/vnd.jupyter.widget-view+json": {
       "model_id": "efe2178f32dd402eba8f329e261024ab",
       "version_major": 2,
       "version_minor": 0
      },
      "text/plain": [
       "  0%|          | 0/4949305 [00:00<?, ?it/s]"
      ]
     },
     "metadata": {},
     "output_type": "display_data"
    },
    {
     "name": "stdout",
     "output_type": "stream",
     "text": [
      "layer1: (1028649, 0, 13)\n",
      "there're 52002 neighbors for 280074\n",
      "Triplets for iteration 158 have been written to ./benign/benign_3/658.txt\n",
      "the # of the triplets: 32\n"
     ]
    },
    {
     "data": {
      "application/vnd.jupyter.widget-view+json": {
       "model_id": "2085782af3494ba8833f7bfdf34dc644",
       "version_major": 2,
       "version_minor": 0
      },
      "text/plain": [
       "  0%|          | 0/4949305 [00:00<?, ?it/s]"
      ]
     },
     "metadata": {},
     "output_type": "display_data"
    },
    {
     "name": "stdout",
     "output_type": "stream",
     "text": [
      "layer1: (1028649, 0, 13)\n",
      "there're 61081 neighbors for 440212\n",
      "Triplets for iteration 159 have been written to ./benign/benign_3/659.txt\n",
      "the # of the triplets: 32\n"
     ]
    },
    {
     "data": {
      "application/vnd.jupyter.widget-view+json": {
       "model_id": "b9820804e43043c8bae0fb25ec33d46f",
       "version_major": 2,
       "version_minor": 0
      },
      "text/plain": [
       "  0%|          | 0/4949305 [00:00<?, ?it/s]"
      ]
     },
     "metadata": {},
     "output_type": "display_data"
    },
    {
     "name": "stdout",
     "output_type": "stream",
     "text": [
      "layer1: (1028649, 0, 13)\n",
      "there're 57517 neighbors for 789081\n",
      "Triplets for iteration 160 have been written to ./benign/benign_3/660.txt\n",
      "the # of the triplets: 32\n"
     ]
    },
    {
     "data": {
      "application/vnd.jupyter.widget-view+json": {
       "model_id": "d5c2bfc5688e4cbb8385926ecd58e8df",
       "version_major": 2,
       "version_minor": 0
      },
      "text/plain": [
       "  0%|          | 0/4949305 [00:00<?, ?it/s]"
      ]
     },
     "metadata": {},
     "output_type": "display_data"
    },
    {
     "name": "stdout",
     "output_type": "stream",
     "text": [
      "layer1: (1028649, 0, 13)\n",
      "there're 52002 neighbors for 280074\n",
      "Triplets for iteration 161 have been written to ./benign/benign_3/661.txt\n",
      "the # of the triplets: 32\n"
     ]
    },
    {
     "data": {
      "application/vnd.jupyter.widget-view+json": {
       "model_id": "14c454bf900e446e98376d4538ab3441",
       "version_major": 2,
       "version_minor": 0
      },
      "text/plain": [
       "  0%|          | 0/4949305 [00:00<?, ?it/s]"
      ]
     },
     "metadata": {},
     "output_type": "display_data"
    },
    {
     "name": "stdout",
     "output_type": "stream",
     "text": [
      "layer1: (1028649, 0, 13)\n",
      "there're 25895 neighbors for 295347\n",
      "Triplets for iteration 162 have been written to ./benign/benign_3/662.txt\n",
      "the # of the triplets: 32\n"
     ]
    },
    {
     "data": {
      "application/vnd.jupyter.widget-view+json": {
       "model_id": "f118097da94446eba04c95c35ec61a93",
       "version_major": 2,
       "version_minor": 0
      },
      "text/plain": [
       "  0%|          | 0/4949305 [00:00<?, ?it/s]"
      ]
     },
     "metadata": {},
     "output_type": "display_data"
    },
    {
     "name": "stdout",
     "output_type": "stream",
     "text": [
      "layer1: (1028649, 0, 13)\n",
      "there're 211162 neighbors for 1003134\n",
      "Triplets for iteration 163 have been written to ./benign/benign_3/663.txt\n",
      "the # of the triplets: 32\n"
     ]
    },
    {
     "data": {
      "application/vnd.jupyter.widget-view+json": {
       "model_id": "aaee16df9c5344f5a6ffa7ed9e489804",
       "version_major": 2,
       "version_minor": 0
      },
      "text/plain": [
       "  0%|          | 0/4949305 [00:00<?, ?it/s]"
      ]
     },
     "metadata": {},
     "output_type": "display_data"
    },
    {
     "name": "stdout",
     "output_type": "stream",
     "text": [
      "layer1: (1028649, 0, 13)\n",
      "there're 57517 neighbors for 789081\n",
      "Triplets for iteration 164 have been written to ./benign/benign_3/664.txt\n",
      "the # of the triplets: 32\n"
     ]
    },
    {
     "data": {
      "application/vnd.jupyter.widget-view+json": {
       "model_id": "123e9984c4fb47ad9eaa39aa49fbd789",
       "version_major": 2,
       "version_minor": 0
      },
      "text/plain": [
       "  0%|          | 0/4949305 [00:00<?, ?it/s]"
      ]
     },
     "metadata": {},
     "output_type": "display_data"
    },
    {
     "name": "stdout",
     "output_type": "stream",
     "text": [
      "layer1: (1028649, 0, 13)\n",
      "there're 61081 neighbors for 440212\n",
      "Triplets for iteration 165 have been written to ./benign/benign_3/665.txt\n",
      "the # of the triplets: 32\n"
     ]
    },
    {
     "data": {
      "application/vnd.jupyter.widget-view+json": {
       "model_id": "4a0256c927fa4ae4898fddbd47264ad2",
       "version_major": 2,
       "version_minor": 0
      },
      "text/plain": [
       "  0%|          | 0/4949305 [00:00<?, ?it/s]"
      ]
     },
     "metadata": {},
     "output_type": "display_data"
    },
    {
     "name": "stdout",
     "output_type": "stream",
     "text": [
      "layer1: (1028649, 0, 13)\n",
      "there're 57517 neighbors for 789081\n",
      "Triplets for iteration 166 have been written to ./benign/benign_3/666.txt\n",
      "the # of the triplets: 32\n"
     ]
    },
    {
     "data": {
      "application/vnd.jupyter.widget-view+json": {
       "model_id": "42e894d7c8904c30a11078feebda1cba",
       "version_major": 2,
       "version_minor": 0
      },
      "text/plain": [
       "  0%|          | 0/4949305 [00:00<?, ?it/s]"
      ]
     },
     "metadata": {},
     "output_type": "display_data"
    },
    {
     "name": "stdout",
     "output_type": "stream",
     "text": [
      "layer1: (1028649, 0, 13)\n",
      "there're 23362 neighbors for 1028649\n",
      "Triplets for iteration 167 have been written to ./benign/benign_3/667.txt\n",
      "the # of the triplets: 32\n"
     ]
    },
    {
     "data": {
      "application/vnd.jupyter.widget-view+json": {
       "model_id": "99cc105454b24802aa10557acbceb74a",
       "version_major": 2,
       "version_minor": 0
      },
      "text/plain": [
       "  0%|          | 0/4949305 [00:00<?, ?it/s]"
      ]
     },
     "metadata": {},
     "output_type": "display_data"
    },
    {
     "name": "stdout",
     "output_type": "stream",
     "text": [
      "layer1: (1028649, 0, 13)\n",
      "there're 9013 neighbors for 639689\n",
      "Triplets for iteration 168 have been written to ./benign/benign_3/668.txt\n",
      "the # of the triplets: 32\n"
     ]
    },
    {
     "data": {
      "application/vnd.jupyter.widget-view+json": {
       "model_id": "16fd4716841b48578f949ad56b87a4a4",
       "version_major": 2,
       "version_minor": 0
      },
      "text/plain": [
       "  0%|          | 0/4949305 [00:00<?, ?it/s]"
      ]
     },
     "metadata": {},
     "output_type": "display_data"
    },
    {
     "name": "stdout",
     "output_type": "stream",
     "text": [
      "layer1: (1028649, 0, 13)\n",
      "there're 7596 neighbors for 79150\n",
      "Triplets for iteration 169 have been written to ./benign/benign_3/669.txt\n",
      "the # of the triplets: 32\n"
     ]
    },
    {
     "data": {
      "application/vnd.jupyter.widget-view+json": {
       "model_id": "06dd94340a414497b8b6e902ea2ecc38",
       "version_major": 2,
       "version_minor": 0
      },
      "text/plain": [
       "  0%|          | 0/4949305 [00:00<?, ?it/s]"
      ]
     },
     "metadata": {},
     "output_type": "display_data"
    },
    {
     "name": "stdout",
     "output_type": "stream",
     "text": [
      "layer1: (1028649, 0, 13)\n",
      "there're 4478 neighbors for 667229\n",
      "Triplets for iteration 170 have been written to ./benign/benign_3/670.txt\n",
      "the # of the triplets: 32\n"
     ]
    },
    {
     "data": {
      "application/vnd.jupyter.widget-view+json": {
       "model_id": "31a8efceca68450eabd9a068a08adcf4",
       "version_major": 2,
       "version_minor": 0
      },
      "text/plain": [
       "  0%|          | 0/4949305 [00:00<?, ?it/s]"
      ]
     },
     "metadata": {},
     "output_type": "display_data"
    },
    {
     "name": "stdout",
     "output_type": "stream",
     "text": [
      "layer1: (1028649, 0, 13)\n",
      "there're 23362 neighbors for 1028649\n",
      "Triplets for iteration 171 have been written to ./benign/benign_3/671.txt\n",
      "the # of the triplets: 32\n"
     ]
    },
    {
     "data": {
      "application/vnd.jupyter.widget-view+json": {
       "model_id": "6e542e14444d4e3fa43d5c5f84377bd0",
       "version_major": 2,
       "version_minor": 0
      },
      "text/plain": [
       "  0%|          | 0/4949305 [00:00<?, ?it/s]"
      ]
     },
     "metadata": {},
     "output_type": "display_data"
    },
    {
     "name": "stdout",
     "output_type": "stream",
     "text": [
      "layer1: (1028649, 0, 13)\n",
      "there're 57517 neighbors for 789081\n",
      "Triplets for iteration 172 have been written to ./benign/benign_3/672.txt\n",
      "the # of the triplets: 32\n"
     ]
    },
    {
     "data": {
      "application/vnd.jupyter.widget-view+json": {
       "model_id": "f69371ba79f447fb831579333c6c5808",
       "version_major": 2,
       "version_minor": 0
      },
      "text/plain": [
       "  0%|          | 0/4949305 [00:00<?, ?it/s]"
      ]
     },
     "metadata": {},
     "output_type": "display_data"
    },
    {
     "name": "stdout",
     "output_type": "stream",
     "text": [
      "layer1: (1028649, 0, 13)\n",
      "there're 9120 neighbors for 589911\n",
      "Triplets for iteration 173 have been written to ./benign/benign_3/673.txt\n",
      "the # of the triplets: 32\n"
     ]
    },
    {
     "data": {
      "application/vnd.jupyter.widget-view+json": {
       "model_id": "d90d160a86fb4ba19490b2fac491c210",
       "version_major": 2,
       "version_minor": 0
      },
      "text/plain": [
       "  0%|          | 0/4949305 [00:00<?, ?it/s]"
      ]
     },
     "metadata": {},
     "output_type": "display_data"
    },
    {
     "name": "stdout",
     "output_type": "stream",
     "text": [
      "layer1: (1028649, 0, 13)\n",
      "there're 23362 neighbors for 1028649\n",
      "Triplets for iteration 174 have been written to ./benign/benign_3/674.txt\n",
      "the # of the triplets: 32\n"
     ]
    },
    {
     "data": {
      "application/vnd.jupyter.widget-view+json": {
       "model_id": "3d767c5bd26d4d979c91bb30c9360e0d",
       "version_major": 2,
       "version_minor": 0
      },
      "text/plain": [
       "  0%|          | 0/4949305 [00:00<?, ?it/s]"
      ]
     },
     "metadata": {},
     "output_type": "display_data"
    },
    {
     "name": "stdout",
     "output_type": "stream",
     "text": [
      "layer1: (1028649, 0, 13)\n",
      "there're 1066 neighbors for 392902\n",
      "Triplets for iteration 175 have been written to ./benign/benign_3/675.txt\n",
      "the # of the triplets: 32\n"
     ]
    },
    {
     "data": {
      "application/vnd.jupyter.widget-view+json": {
       "model_id": "1b64022d22514190945984992a98d9b1",
       "version_major": 2,
       "version_minor": 0
      },
      "text/plain": [
       "  0%|          | 0/4949305 [00:00<?, ?it/s]"
      ]
     },
     "metadata": {},
     "output_type": "display_data"
    },
    {
     "name": "stdout",
     "output_type": "stream",
     "text": [
      "layer1: (1028649, 0, 13)\n",
      "there're 57517 neighbors for 789081\n",
      "Triplets for iteration 176 have been written to ./benign/benign_3/676.txt\n",
      "the # of the triplets: 32\n"
     ]
    },
    {
     "data": {
      "application/vnd.jupyter.widget-view+json": {
       "model_id": "5972ff9b60da4a259cbb88c6dcc857f2",
       "version_major": 2,
       "version_minor": 0
      },
      "text/plain": [
       "  0%|          | 0/4949305 [00:00<?, ?it/s]"
      ]
     },
     "metadata": {},
     "output_type": "display_data"
    },
    {
     "name": "stdout",
     "output_type": "stream",
     "text": [
      "layer1: (1028649, 0, 13)\n",
      "there're 13558 neighbors for 779386\n",
      "Triplets for iteration 177 have been written to ./benign/benign_3/677.txt\n",
      "the # of the triplets: 32\n"
     ]
    },
    {
     "data": {
      "application/vnd.jupyter.widget-view+json": {
       "model_id": "455c1d1851984e06bee1724066f24118",
       "version_major": 2,
       "version_minor": 0
      },
      "text/plain": [
       "  0%|          | 0/4949305 [00:00<?, ?it/s]"
      ]
     },
     "metadata": {},
     "output_type": "display_data"
    },
    {
     "name": "stdout",
     "output_type": "stream",
     "text": [
      "layer1: (1028649, 0, 13)\n",
      "there're 1599 neighbors for 635308\n",
      "Triplets for iteration 178 have been written to ./benign/benign_3/678.txt\n",
      "the # of the triplets: 32\n"
     ]
    },
    {
     "data": {
      "application/vnd.jupyter.widget-view+json": {
       "model_id": "8b515e2f4d124c0c850e4f75ad67890d",
       "version_major": 2,
       "version_minor": 0
      },
      "text/plain": [
       "  0%|          | 0/4949305 [00:00<?, ?it/s]"
      ]
     },
     "metadata": {},
     "output_type": "display_data"
    },
    {
     "name": "stdout",
     "output_type": "stream",
     "text": [
      "layer1: (1028649, 0, 13)\n",
      "there're 59003 neighbors for 444542\n",
      "Triplets for iteration 179 have been written to ./benign/benign_3/679.txt\n",
      "the # of the triplets: 32\n"
     ]
    },
    {
     "data": {
      "application/vnd.jupyter.widget-view+json": {
       "model_id": "e8689fe827744d5ba410060a5672e1b9",
       "version_major": 2,
       "version_minor": 0
      },
      "text/plain": [
       "  0%|          | 0/4949305 [00:00<?, ?it/s]"
      ]
     },
     "metadata": {},
     "output_type": "display_data"
    },
    {
     "name": "stdout",
     "output_type": "stream",
     "text": [
      "layer1: (1028649, 0, 13)\n",
      "there're 25895 neighbors for 295347\n",
      "Triplets for iteration 180 have been written to ./benign/benign_3/680.txt\n",
      "the # of the triplets: 32\n"
     ]
    },
    {
     "data": {
      "application/vnd.jupyter.widget-view+json": {
       "model_id": "39288513b7ea42b1b972568d91dd4ba9",
       "version_major": 2,
       "version_minor": 0
      },
      "text/plain": [
       "  0%|          | 0/4949305 [00:00<?, ?it/s]"
      ]
     },
     "metadata": {},
     "output_type": "display_data"
    },
    {
     "name": "stdout",
     "output_type": "stream",
     "text": [
      "layer1: (1028649, 0, 13)\n",
      "there're 211162 neighbors for 1003134\n",
      "Triplets for iteration 181 have been written to ./benign/benign_3/681.txt\n",
      "the # of the triplets: 32\n"
     ]
    },
    {
     "data": {
      "application/vnd.jupyter.widget-view+json": {
       "model_id": "6260dbca315a4b6c9ebc8027dfe2c8e5",
       "version_major": 2,
       "version_minor": 0
      },
      "text/plain": [
       "  0%|          | 0/4949305 [00:00<?, ?it/s]"
      ]
     },
     "metadata": {},
     "output_type": "display_data"
    },
    {
     "name": "stdout",
     "output_type": "stream",
     "text": [
      "layer1: (1028649, 0, 13)\n",
      "there're 4478 neighbors for 667229\n",
      "Triplets for iteration 182 have been written to ./benign/benign_3/682.txt\n",
      "the # of the triplets: 32\n"
     ]
    },
    {
     "data": {
      "application/vnd.jupyter.widget-view+json": {
       "model_id": "35302d8c931b464386d6804876aac24b",
       "version_major": 2,
       "version_minor": 0
      },
      "text/plain": [
       "  0%|          | 0/4949305 [00:00<?, ?it/s]"
      ]
     },
     "metadata": {},
     "output_type": "display_data"
    },
    {
     "name": "stdout",
     "output_type": "stream",
     "text": [
      "layer1: (1028649, 0, 13)\n",
      "there're 59003 neighbors for 444542\n",
      "Triplets for iteration 183 have been written to ./benign/benign_3/683.txt\n",
      "the # of the triplets: 32\n"
     ]
    },
    {
     "data": {
      "application/vnd.jupyter.widget-view+json": {
       "model_id": "a588000fc80d414790dba80cb609e882",
       "version_major": 2,
       "version_minor": 0
      },
      "text/plain": [
       "  0%|          | 0/4949305 [00:00<?, ?it/s]"
      ]
     },
     "metadata": {},
     "output_type": "display_data"
    },
    {
     "name": "stdout",
     "output_type": "stream",
     "text": [
      "layer1: (1028649, 0, 13)\n",
      "there're 15421 neighbors for 915552\n",
      "Triplets for iteration 184 have been written to ./benign/benign_3/684.txt\n",
      "the # of the triplets: 32\n"
     ]
    },
    {
     "data": {
      "application/vnd.jupyter.widget-view+json": {
       "model_id": "a10d7b06d55144978b1ca512ef1a4d23",
       "version_major": 2,
       "version_minor": 0
      },
      "text/plain": [
       "  0%|          | 0/4949305 [00:00<?, ?it/s]"
      ]
     },
     "metadata": {},
     "output_type": "display_data"
    },
    {
     "name": "stdout",
     "output_type": "stream",
     "text": [
      "layer1: (1028649, 0, 13)\n",
      "there're 6939 neighbors for 896414\n",
      "Triplets for iteration 185 have been written to ./benign/benign_3/685.txt\n",
      "the # of the triplets: 32\n"
     ]
    },
    {
     "data": {
      "application/vnd.jupyter.widget-view+json": {
       "model_id": "2d2a7da655a14fc5a718b0fb2f7a46b7",
       "version_major": 2,
       "version_minor": 0
      },
      "text/plain": [
       "  0%|          | 0/4949305 [00:00<?, ?it/s]"
      ]
     },
     "metadata": {},
     "output_type": "display_data"
    },
    {
     "name": "stdout",
     "output_type": "stream",
     "text": [
      "layer1: (1028649, 0, 13)\n",
      "there're 211162 neighbors for 1003134\n",
      "Triplets for iteration 186 have been written to ./benign/benign_3/686.txt\n",
      "the # of the triplets: 32\n"
     ]
    },
    {
     "data": {
      "application/vnd.jupyter.widget-view+json": {
       "model_id": "e6f94f17f7d843a5bf7cf757ce8d95f1",
       "version_major": 2,
       "version_minor": 0
      },
      "text/plain": [
       "  0%|          | 0/4949305 [00:00<?, ?it/s]"
      ]
     },
     "metadata": {},
     "output_type": "display_data"
    },
    {
     "name": "stdout",
     "output_type": "stream",
     "text": [
      "layer1: (1028649, 0, 13)\n",
      "there're 52002 neighbors for 280074\n",
      "Triplets for iteration 187 have been written to ./benign/benign_3/687.txt\n",
      "the # of the triplets: 32\n"
     ]
    },
    {
     "data": {
      "application/vnd.jupyter.widget-view+json": {
       "model_id": "f7255f2bf7924755ae25c521dd230921",
       "version_major": 2,
       "version_minor": 0
      },
      "text/plain": [
       "  0%|          | 0/4949305 [00:00<?, ?it/s]"
      ]
     },
     "metadata": {},
     "output_type": "display_data"
    },
    {
     "name": "stdout",
     "output_type": "stream",
     "text": [
      "layer1: (1028649, 0, 13)\n",
      "there're 52002 neighbors for 280074\n",
      "Triplets for iteration 188 have been written to ./benign/benign_3/688.txt\n",
      "the # of the triplets: 32\n"
     ]
    },
    {
     "data": {
      "application/vnd.jupyter.widget-view+json": {
       "model_id": "ff8cbf8b961f4c3a92e8abea7bd14138",
       "version_major": 2,
       "version_minor": 0
      },
      "text/plain": [
       "  0%|          | 0/4949305 [00:00<?, ?it/s]"
      ]
     },
     "metadata": {},
     "output_type": "display_data"
    },
    {
     "name": "stdout",
     "output_type": "stream",
     "text": [
      "layer1: (1028649, 0, 13)\n",
      "there're 7092 neighbors for 949521\n",
      "Triplets for iteration 189 have been written to ./benign/benign_3/689.txt\n",
      "the # of the triplets: 32\n"
     ]
    },
    {
     "data": {
      "application/vnd.jupyter.widget-view+json": {
       "model_id": "54f756efceb548268fa31dd174cd618b",
       "version_major": 2,
       "version_minor": 0
      },
      "text/plain": [
       "  0%|          | 0/4949305 [00:00<?, ?it/s]"
      ]
     },
     "metadata": {},
     "output_type": "display_data"
    },
    {
     "name": "stdout",
     "output_type": "stream",
     "text": [
      "layer1: (1028649, 0, 13)\n",
      "there're 59003 neighbors for 444542\n",
      "Triplets for iteration 190 have been written to ./benign/benign_3/690.txt\n",
      "the # of the triplets: 32\n"
     ]
    },
    {
     "data": {
      "application/vnd.jupyter.widget-view+json": {
       "model_id": "85872e25b0144010a823d805a77206ed",
       "version_major": 2,
       "version_minor": 0
      },
      "text/plain": [
       "  0%|          | 0/4949305 [00:00<?, ?it/s]"
      ]
     },
     "metadata": {},
     "output_type": "display_data"
    },
    {
     "name": "stdout",
     "output_type": "stream",
     "text": [
      "layer1: (1028649, 0, 13)\n",
      "there're 61081 neighbors for 440212\n",
      "Triplets for iteration 191 have been written to ./benign/benign_3/691.txt\n",
      "the # of the triplets: 32\n"
     ]
    },
    {
     "data": {
      "application/vnd.jupyter.widget-view+json": {
       "model_id": "54542a4bc8e3421e9a583869630ca5f2",
       "version_major": 2,
       "version_minor": 0
      },
      "text/plain": [
       "  0%|          | 0/4949305 [00:00<?, ?it/s]"
      ]
     },
     "metadata": {},
     "output_type": "display_data"
    },
    {
     "name": "stdout",
     "output_type": "stream",
     "text": [
      "layer1: (1028649, 0, 13)\n",
      "there're 211162 neighbors for 1003134\n",
      "Triplets for iteration 192 have been written to ./benign/benign_3/692.txt\n",
      "the # of the triplets: 32\n"
     ]
    },
    {
     "data": {
      "application/vnd.jupyter.widget-view+json": {
       "model_id": "06dd49f612484497a7bda3531e91c1dd",
       "version_major": 2,
       "version_minor": 0
      },
      "text/plain": [
       "  0%|          | 0/4949305 [00:00<?, ?it/s]"
      ]
     },
     "metadata": {},
     "output_type": "display_data"
    },
    {
     "name": "stdout",
     "output_type": "stream",
     "text": [
      "layer1: (1028649, 0, 13)\n",
      "there're 4559 neighbors for 339437\n",
      "Triplets for iteration 193 have been written to ./benign/benign_3/693.txt\n",
      "the # of the triplets: 32\n"
     ]
    },
    {
     "data": {
      "application/vnd.jupyter.widget-view+json": {
       "model_id": "0bea7ffbf1894e9190e37716b421257b",
       "version_major": 2,
       "version_minor": 0
      },
      "text/plain": [
       "  0%|          | 0/4949305 [00:00<?, ?it/s]"
      ]
     },
     "metadata": {},
     "output_type": "display_data"
    },
    {
     "name": "stdout",
     "output_type": "stream",
     "text": [
      "layer1: (1028649, 0, 13)\n",
      "there're 7092 neighbors for 949521\n",
      "Triplets for iteration 194 have been written to ./benign/benign_3/694.txt\n",
      "the # of the triplets: 32\n"
     ]
    },
    {
     "data": {
      "application/vnd.jupyter.widget-view+json": {
       "model_id": "52213b9f83cd4b61aa635ee521bc89a3",
       "version_major": 2,
       "version_minor": 0
      },
      "text/plain": [
       "  0%|          | 0/4949305 [00:00<?, ?it/s]"
      ]
     },
     "metadata": {},
     "output_type": "display_data"
    },
    {
     "name": "stdout",
     "output_type": "stream",
     "text": [
      "layer1: (1028649, 0, 13)\n",
      "there're 2399 neighbors for 343069\n",
      "Triplets for iteration 195 have been written to ./benign/benign_3/695.txt\n",
      "the # of the triplets: 32\n"
     ]
    },
    {
     "data": {
      "application/vnd.jupyter.widget-view+json": {
       "model_id": "6ba2c13f94984d92b9059815e6883cd3",
       "version_major": 2,
       "version_minor": 0
      },
      "text/plain": [
       "  0%|          | 0/4949305 [00:00<?, ?it/s]"
      ]
     },
     "metadata": {},
     "output_type": "display_data"
    },
    {
     "name": "stdout",
     "output_type": "stream",
     "text": [
      "layer1: (1028649, 0, 13)\n",
      "there're 211162 neighbors for 1003134\n",
      "Triplets for iteration 196 have been written to ./benign/benign_3/696.txt\n",
      "the # of the triplets: 32\n"
     ]
    },
    {
     "data": {
      "application/vnd.jupyter.widget-view+json": {
       "model_id": "8bf6abca33894781a0e1606a85f18251",
       "version_major": 2,
       "version_minor": 0
      },
      "text/plain": [
       "  0%|          | 0/4949305 [00:00<?, ?it/s]"
      ]
     },
     "metadata": {},
     "output_type": "display_data"
    },
    {
     "name": "stdout",
     "output_type": "stream",
     "text": [
      "layer1: (1028649, 0, 13)\n",
      "there're 59003 neighbors for 444542\n",
      "Triplets for iteration 197 have been written to ./benign/benign_3/697.txt\n",
      "the # of the triplets: 32\n"
     ]
    },
    {
     "data": {
      "application/vnd.jupyter.widget-view+json": {
       "model_id": "511a49fa144d4356bc8c68e78dbef321",
       "version_major": 2,
       "version_minor": 0
      },
      "text/plain": [
       "  0%|          | 0/4949305 [00:00<?, ?it/s]"
      ]
     },
     "metadata": {},
     "output_type": "display_data"
    },
    {
     "name": "stdout",
     "output_type": "stream",
     "text": [
      "layer1: (1028649, 0, 13)\n",
      "there're 211162 neighbors for 1003134\n",
      "Triplets for iteration 198 have been written to ./benign/benign_3/698.txt\n",
      "the # of the triplets: 32\n"
     ]
    },
    {
     "data": {
      "application/vnd.jupyter.widget-view+json": {
       "model_id": "efff3fadb17c4283b39537fbcaf28f67",
       "version_major": 2,
       "version_minor": 0
      },
      "text/plain": [
       "  0%|          | 0/4949305 [00:00<?, ?it/s]"
      ]
     },
     "metadata": {},
     "output_type": "display_data"
    },
    {
     "name": "stdout",
     "output_type": "stream",
     "text": [
      "layer1: (1028649, 0, 13)\n",
      "there're 59003 neighbors for 444542\n",
      "Triplets for iteration 199 have been written to ./benign/benign_3/699.txt\n",
      "the # of the triplets: 32\n"
     ]
    },
    {
     "data": {
      "application/vnd.jupyter.widget-view+json": {
       "model_id": "f01d796dca1142e893402fb8a7262944",
       "version_major": 2,
       "version_minor": 0
      },
      "text/plain": [
       "  0%|          | 0/4949305 [00:00<?, ?it/s]"
      ]
     },
     "metadata": {},
     "output_type": "display_data"
    },
    {
     "name": "stdout",
     "output_type": "stream",
     "text": [
      "layer1: (1028649, 0, 13)\n",
      "there're 25895 neighbors for 295347\n",
      "Triplets for iteration 200 have been written to ./benign/benign_3/700.txt\n",
      "the # of the triplets: 32\n"
     ]
    },
    {
     "data": {
      "application/vnd.jupyter.widget-view+json": {
       "model_id": "a8a11481027842eb912ecbe29fc1a76a",
       "version_major": 2,
       "version_minor": 0
      },
      "text/plain": [
       "  0%|          | 0/4949305 [00:00<?, ?it/s]"
      ]
     },
     "metadata": {},
     "output_type": "display_data"
    },
    {
     "name": "stdout",
     "output_type": "stream",
     "text": [
      "layer1: (1028649, 0, 13)\n",
      "there're 23362 neighbors for 1028649\n",
      "Triplets for iteration 201 have been written to ./benign/benign_3/701.txt\n",
      "the # of the triplets: 32\n"
     ]
    },
    {
     "data": {
      "application/vnd.jupyter.widget-view+json": {
       "model_id": "3a0561698ced46d19a0bf05aad61a590",
       "version_major": 2,
       "version_minor": 0
      },
      "text/plain": [
       "  0%|          | 0/4949305 [00:00<?, ?it/s]"
      ]
     },
     "metadata": {},
     "output_type": "display_data"
    },
    {
     "name": "stdout",
     "output_type": "stream",
     "text": [
      "layer1: (1028649, 0, 13)\n",
      "there're 481 neighbors for 1009747\n",
      "Triplets for iteration 202 have been written to ./benign/benign_3/702.txt\n",
      "the # of the triplets: 32\n"
     ]
    },
    {
     "data": {
      "application/vnd.jupyter.widget-view+json": {
       "model_id": "ddcf46584e124c01a4ace326433ee427",
       "version_major": 2,
       "version_minor": 0
      },
      "text/plain": [
       "  0%|          | 0/4949305 [00:00<?, ?it/s]"
      ]
     },
     "metadata": {},
     "output_type": "display_data"
    },
    {
     "name": "stdout",
     "output_type": "stream",
     "text": [
      "layer1: (1028649, 0, 13)\n",
      "there're 23362 neighbors for 1028649\n",
      "Triplets for iteration 203 have been written to ./benign/benign_3/703.txt\n",
      "the # of the triplets: 32\n"
     ]
    },
    {
     "data": {
      "application/vnd.jupyter.widget-view+json": {
       "model_id": "0089677856b4459d8fa98aa98b66f272",
       "version_major": 2,
       "version_minor": 0
      },
      "text/plain": [
       "  0%|          | 0/4949305 [00:00<?, ?it/s]"
      ]
     },
     "metadata": {},
     "output_type": "display_data"
    },
    {
     "name": "stdout",
     "output_type": "stream",
     "text": [
      "layer1: (1028649, 0, 13)\n",
      "there're 57517 neighbors for 789081\n",
      "Triplets for iteration 204 have been written to ./benign/benign_3/704.txt\n",
      "the # of the triplets: 32\n"
     ]
    },
    {
     "data": {
      "application/vnd.jupyter.widget-view+json": {
       "model_id": "58de178ccfea42fb89bb5727573eaaba",
       "version_major": 2,
       "version_minor": 0
      },
      "text/plain": [
       "  0%|          | 0/4949305 [00:00<?, ?it/s]"
      ]
     },
     "metadata": {},
     "output_type": "display_data"
    },
    {
     "name": "stdout",
     "output_type": "stream",
     "text": [
      "layer1: (1028649, 0, 13)\n",
      "there're 1882 neighbors for 491945\n",
      "Triplets for iteration 205 have been written to ./benign/benign_3/705.txt\n",
      "the # of the triplets: 32\n"
     ]
    },
    {
     "data": {
      "application/vnd.jupyter.widget-view+json": {
       "model_id": "26275e7044854a87a2ab311dc7067ff6",
       "version_major": 2,
       "version_minor": 0
      },
      "text/plain": [
       "  0%|          | 0/4949305 [00:00<?, ?it/s]"
      ]
     },
     "metadata": {},
     "output_type": "display_data"
    },
    {
     "name": "stdout",
     "output_type": "stream",
     "text": [
      "layer1: (1028649, 0, 13)\n",
      "there're 29008 neighbors for 979016\n",
      "Triplets for iteration 206 have been written to ./benign/benign_3/706.txt\n",
      "the # of the triplets: 32\n"
     ]
    },
    {
     "data": {
      "application/vnd.jupyter.widget-view+json": {
       "model_id": "86df791bfcda41a0ae8c386ce02cf720",
       "version_major": 2,
       "version_minor": 0
      },
      "text/plain": [
       "  0%|          | 0/4949305 [00:00<?, ?it/s]"
      ]
     },
     "metadata": {},
     "output_type": "display_data"
    },
    {
     "name": "stdout",
     "output_type": "stream",
     "text": [
      "layer1: (1028649, 0, 13)\n",
      "there're 61081 neighbors for 440212\n",
      "Triplets for iteration 207 have been written to ./benign/benign_3/707.txt\n",
      "the # of the triplets: 32\n"
     ]
    },
    {
     "data": {
      "application/vnd.jupyter.widget-view+json": {
       "model_id": "0f22481ba68f4234b67fe750dd296601",
       "version_major": 2,
       "version_minor": 0
      },
      "text/plain": [
       "  0%|          | 0/4949305 [00:00<?, ?it/s]"
      ]
     },
     "metadata": {},
     "output_type": "display_data"
    },
    {
     "name": "stdout",
     "output_type": "stream",
     "text": [
      "layer1: (1028649, 0, 13)\n",
      "there're 211162 neighbors for 1003134\n",
      "Triplets for iteration 208 have been written to ./benign/benign_3/708.txt\n",
      "the # of the triplets: 32\n"
     ]
    },
    {
     "data": {
      "application/vnd.jupyter.widget-view+json": {
       "model_id": "76d346151fd54cd884f4a8f6a3e50072",
       "version_major": 2,
       "version_minor": 0
      },
      "text/plain": [
       "  0%|          | 0/4949305 [00:00<?, ?it/s]"
      ]
     },
     "metadata": {},
     "output_type": "display_data"
    },
    {
     "name": "stdout",
     "output_type": "stream",
     "text": [
      "layer1: (1028649, 0, 13)\n",
      "there're 57517 neighbors for 789081\n",
      "Triplets for iteration 209 have been written to ./benign/benign_3/709.txt\n",
      "the # of the triplets: 32\n"
     ]
    },
    {
     "data": {
      "application/vnd.jupyter.widget-view+json": {
       "model_id": "3f41bf84a3c44ba6b2ec1a5d6c42483c",
       "version_major": 2,
       "version_minor": 0
      },
      "text/plain": [
       "  0%|          | 0/4949305 [00:00<?, ?it/s]"
      ]
     },
     "metadata": {},
     "output_type": "display_data"
    },
    {
     "name": "stdout",
     "output_type": "stream",
     "text": [
      "layer1: (1028649, 0, 13)\n",
      "there're 3708 neighbors for 793281\n",
      "Triplets for iteration 210 have been written to ./benign/benign_3/710.txt\n",
      "the # of the triplets: 32\n"
     ]
    },
    {
     "data": {
      "application/vnd.jupyter.widget-view+json": {
       "model_id": "fa81cd3184274c40be01f86c094a3b3c",
       "version_major": 2,
       "version_minor": 0
      },
      "text/plain": [
       "  0%|          | 0/4949305 [00:00<?, ?it/s]"
      ]
     },
     "metadata": {},
     "output_type": "display_data"
    },
    {
     "name": "stdout",
     "output_type": "stream",
     "text": [
      "layer1: (1028649, 0, 13)\n",
      "there're 73949 neighbors for 272194\n",
      "Triplets for iteration 211 have been written to ./benign/benign_3/711.txt\n",
      "the # of the triplets: 32\n"
     ]
    },
    {
     "data": {
      "application/vnd.jupyter.widget-view+json": {
       "model_id": "7637efb3cf244ad48e7fdeda946335fb",
       "version_major": 2,
       "version_minor": 0
      },
      "text/plain": [
       "  0%|          | 0/4949305 [00:00<?, ?it/s]"
      ]
     },
     "metadata": {},
     "output_type": "display_data"
    },
    {
     "name": "stdout",
     "output_type": "stream",
     "text": [
      "layer1: (1028649, 0, 13)\n",
      "there're 2498 neighbors for 564390\n",
      "Triplets for iteration 212 have been written to ./benign/benign_3/712.txt\n",
      "the # of the triplets: 32\n"
     ]
    },
    {
     "data": {
      "application/vnd.jupyter.widget-view+json": {
       "model_id": "7adc22574b524f859b334ffddedc3fe4",
       "version_major": 2,
       "version_minor": 0
      },
      "text/plain": [
       "  0%|          | 0/4949305 [00:00<?, ?it/s]"
      ]
     },
     "metadata": {},
     "output_type": "display_data"
    },
    {
     "name": "stdout",
     "output_type": "stream",
     "text": [
      "layer1: (1028649, 0, 13)\n",
      "there're 9013 neighbors for 639689\n",
      "Triplets for iteration 213 have been written to ./benign/benign_3/713.txt\n",
      "the # of the triplets: 32\n"
     ]
    },
    {
     "data": {
      "application/vnd.jupyter.widget-view+json": {
       "model_id": "814eeb8f30f84f30ab0cf6eacf9788f0",
       "version_major": 2,
       "version_minor": 0
      },
      "text/plain": [
       "  0%|          | 0/4949305 [00:00<?, ?it/s]"
      ]
     },
     "metadata": {},
     "output_type": "display_data"
    },
    {
     "name": "stdout",
     "output_type": "stream",
     "text": [
      "layer1: (1028649, 0, 13)\n",
      "there're 4124 neighbors for 940541\n",
      "Triplets for iteration 214 have been written to ./benign/benign_3/714.txt\n",
      "the # of the triplets: 32\n"
     ]
    },
    {
     "data": {
      "application/vnd.jupyter.widget-view+json": {
       "model_id": "5fcdf897a0004d3394807bd4b24a0bd1",
       "version_major": 2,
       "version_minor": 0
      },
      "text/plain": [
       "  0%|          | 0/4949305 [00:00<?, ?it/s]"
      ]
     },
     "metadata": {},
     "output_type": "display_data"
    },
    {
     "name": "stdout",
     "output_type": "stream",
     "text": [
      "layer1: (1028649, 0, 13)\n",
      "there're 59003 neighbors for 444542\n",
      "Triplets for iteration 215 have been written to ./benign/benign_3/715.txt\n",
      "the # of the triplets: 32\n"
     ]
    },
    {
     "data": {
      "application/vnd.jupyter.widget-view+json": {
       "model_id": "24f9a1f4cfa8480ab6324b833a54ec45",
       "version_major": 2,
       "version_minor": 0
      },
      "text/plain": [
       "  0%|          | 0/4949305 [00:00<?, ?it/s]"
      ]
     },
     "metadata": {},
     "output_type": "display_data"
    },
    {
     "name": "stdout",
     "output_type": "stream",
     "text": [
      "layer1: (1028649, 0, 13)\n",
      "there're 52002 neighbors for 280074\n",
      "Triplets for iteration 216 have been written to ./benign/benign_3/716.txt\n",
      "the # of the triplets: 32\n"
     ]
    },
    {
     "data": {
      "application/vnd.jupyter.widget-view+json": {
       "model_id": "bf0ef4fb99df46abb29534dee2aa0ab9",
       "version_major": 2,
       "version_minor": 0
      },
      "text/plain": [
       "  0%|          | 0/4949305 [00:00<?, ?it/s]"
      ]
     },
     "metadata": {},
     "output_type": "display_data"
    },
    {
     "name": "stdout",
     "output_type": "stream",
     "text": [
      "layer1: (1028649, 0, 13)\n",
      "there're 52002 neighbors for 280074\n",
      "Triplets for iteration 217 have been written to ./benign/benign_3/717.txt\n",
      "the # of the triplets: 32\n"
     ]
    },
    {
     "data": {
      "application/vnd.jupyter.widget-view+json": {
       "model_id": "10a12c04f39942b4bf2d5a5a75acec99",
       "version_major": 2,
       "version_minor": 0
      },
      "text/plain": [
       "  0%|          | 0/4949305 [00:00<?, ?it/s]"
      ]
     },
     "metadata": {},
     "output_type": "display_data"
    },
    {
     "name": "stdout",
     "output_type": "stream",
     "text": [
      "layer1: (1028649, 0, 13)\n",
      "there're 59003 neighbors for 444542\n",
      "Triplets for iteration 218 have been written to ./benign/benign_3/718.txt\n",
      "the # of the triplets: 32\n"
     ]
    },
    {
     "data": {
      "application/vnd.jupyter.widget-view+json": {
       "model_id": "9524ae3d32d848e295c46dad3656ff12",
       "version_major": 2,
       "version_minor": 0
      },
      "text/plain": [
       "  0%|          | 0/4949305 [00:00<?, ?it/s]"
      ]
     },
     "metadata": {},
     "output_type": "display_data"
    },
    {
     "name": "stdout",
     "output_type": "stream",
     "text": [
      "layer1: (1028649, 0, 13)\n",
      "there're 211162 neighbors for 1003134\n",
      "Triplets for iteration 219 have been written to ./benign/benign_3/719.txt\n",
      "the # of the triplets: 32\n"
     ]
    },
    {
     "data": {
      "application/vnd.jupyter.widget-view+json": {
       "model_id": "debf9f3194504625a6abbd8d2a206b30",
       "version_major": 2,
       "version_minor": 0
      },
      "text/plain": [
       "  0%|          | 0/4949305 [00:00<?, ?it/s]"
      ]
     },
     "metadata": {},
     "output_type": "display_data"
    },
    {
     "name": "stdout",
     "output_type": "stream",
     "text": [
      "layer1: (1028649, 0, 13)\n",
      "there're 1066 neighbors for 392902\n",
      "Triplets for iteration 220 have been written to ./benign/benign_3/720.txt\n",
      "the # of the triplets: 32\n"
     ]
    },
    {
     "data": {
      "application/vnd.jupyter.widget-view+json": {
       "model_id": "4fc5d4f32467455b921c5eed6ff757c7",
       "version_major": 2,
       "version_minor": 0
      },
      "text/plain": [
       "  0%|          | 0/4949305 [00:00<?, ?it/s]"
      ]
     },
     "metadata": {},
     "output_type": "display_data"
    },
    {
     "name": "stdout",
     "output_type": "stream",
     "text": [
      "layer1: (1028649, 0, 13)\n",
      "there're 211162 neighbors for 1003134\n",
      "Triplets for iteration 221 have been written to ./benign/benign_3/721.txt\n",
      "the # of the triplets: 32\n"
     ]
    },
    {
     "data": {
      "application/vnd.jupyter.widget-view+json": {
       "model_id": "15d1d2f8b7ee42c9bee9109b6637a23c",
       "version_major": 2,
       "version_minor": 0
      },
      "text/plain": [
       "  0%|          | 0/4949305 [00:00<?, ?it/s]"
      ]
     },
     "metadata": {},
     "output_type": "display_data"
    },
    {
     "name": "stdout",
     "output_type": "stream",
     "text": [
      "layer1: (1028649, 0, 13)\n",
      "there're 211162 neighbors for 1003134\n",
      "Triplets for iteration 222 have been written to ./benign/benign_3/722.txt\n",
      "the # of the triplets: 32\n"
     ]
    },
    {
     "data": {
      "application/vnd.jupyter.widget-view+json": {
       "model_id": "aecbc9826bce42f79b74aa4324c6acdc",
       "version_major": 2,
       "version_minor": 0
      },
      "text/plain": [
       "  0%|          | 0/4949305 [00:00<?, ?it/s]"
      ]
     },
     "metadata": {},
     "output_type": "display_data"
    },
    {
     "name": "stdout",
     "output_type": "stream",
     "text": [
      "layer1: (1028649, 0, 13)\n",
      "there're 61081 neighbors for 440212\n",
      "Triplets for iteration 223 have been written to ./benign/benign_3/723.txt\n",
      "the # of the triplets: 32\n"
     ]
    },
    {
     "data": {
      "application/vnd.jupyter.widget-view+json": {
       "model_id": "2b406066fbee49039130945d4f1b51ac",
       "version_major": 2,
       "version_minor": 0
      },
      "text/plain": [
       "  0%|          | 0/4949305 [00:00<?, ?it/s]"
      ]
     },
     "metadata": {},
     "output_type": "display_data"
    },
    {
     "name": "stdout",
     "output_type": "stream",
     "text": [
      "layer1: (1028649, 0, 13)\n",
      "there're 73949 neighbors for 272194\n",
      "Triplets for iteration 224 have been written to ./benign/benign_3/724.txt\n",
      "the # of the triplets: 32\n"
     ]
    },
    {
     "data": {
      "application/vnd.jupyter.widget-view+json": {
       "model_id": "4e3c9438c71b4a19a6432ae1eb4c6ece",
       "version_major": 2,
       "version_minor": 0
      },
      "text/plain": [
       "  0%|          | 0/4949305 [00:00<?, ?it/s]"
      ]
     },
     "metadata": {},
     "output_type": "display_data"
    },
    {
     "name": "stdout",
     "output_type": "stream",
     "text": [
      "layer1: (1028649, 0, 13)\n",
      "there're 25895 neighbors for 295347\n",
      "Triplets for iteration 225 have been written to ./benign/benign_3/725.txt\n",
      "the # of the triplets: 32\n"
     ]
    },
    {
     "data": {
      "application/vnd.jupyter.widget-view+json": {
       "model_id": "ed73805a2b2147daa7528c8d90ae6ac0",
       "version_major": 2,
       "version_minor": 0
      },
      "text/plain": [
       "  0%|          | 0/4949305 [00:00<?, ?it/s]"
      ]
     },
     "metadata": {},
     "output_type": "display_data"
    },
    {
     "name": "stdout",
     "output_type": "stream",
     "text": [
      "layer1: (1028649, 0, 13)\n",
      "there're 211162 neighbors for 1003134\n",
      "Triplets for iteration 226 have been written to ./benign/benign_3/726.txt\n",
      "the # of the triplets: 32\n"
     ]
    },
    {
     "data": {
      "application/vnd.jupyter.widget-view+json": {
       "model_id": "45ceefebe8a04c32933198d82a76dd5a",
       "version_major": 2,
       "version_minor": 0
      },
      "text/plain": [
       "  0%|          | 0/4949305 [00:00<?, ?it/s]"
      ]
     },
     "metadata": {},
     "output_type": "display_data"
    },
    {
     "name": "stdout",
     "output_type": "stream",
     "text": [
      "layer1: (1028649, 0, 13)\n",
      "there're 57517 neighbors for 789081\n",
      "Triplets for iteration 227 have been written to ./benign/benign_3/727.txt\n",
      "the # of the triplets: 32\n"
     ]
    },
    {
     "data": {
      "application/vnd.jupyter.widget-view+json": {
       "model_id": "5c5cfdd0061644f89dcca4ea2d795426",
       "version_major": 2,
       "version_minor": 0
      },
      "text/plain": [
       "  0%|          | 0/4949305 [00:00<?, ?it/s]"
      ]
     },
     "metadata": {},
     "output_type": "display_data"
    },
    {
     "name": "stdout",
     "output_type": "stream",
     "text": [
      "layer1: (1028649, 0, 13)\n",
      "there're 3708 neighbors for 793281\n",
      "Triplets for iteration 228 have been written to ./benign/benign_3/728.txt\n",
      "the # of the triplets: 32\n"
     ]
    },
    {
     "data": {
      "application/vnd.jupyter.widget-view+json": {
       "model_id": "4290a8e3342945d68ae9c98338c7ddf6",
       "version_major": 2,
       "version_minor": 0
      },
      "text/plain": [
       "  0%|          | 0/4949305 [00:00<?, ?it/s]"
      ]
     },
     "metadata": {},
     "output_type": "display_data"
    },
    {
     "name": "stdout",
     "output_type": "stream",
     "text": [
      "layer1: (1028649, 0, 13)\n",
      "there're 2361 neighbors for 480374\n",
      "Triplets for iteration 229 have been written to ./benign/benign_3/729.txt\n",
      "the # of the triplets: 32\n"
     ]
    },
    {
     "data": {
      "application/vnd.jupyter.widget-view+json": {
       "model_id": "59ba24d21c7446a0b781adae4a979e90",
       "version_major": 2,
       "version_minor": 0
      },
      "text/plain": [
       "  0%|          | 0/4949305 [00:00<?, ?it/s]"
      ]
     },
     "metadata": {},
     "output_type": "display_data"
    },
    {
     "name": "stdout",
     "output_type": "stream",
     "text": [
      "layer1: (1028649, 0, 13)\n",
      "there're 52002 neighbors for 280074\n",
      "Triplets for iteration 230 have been written to ./benign/benign_3/730.txt\n",
      "the # of the triplets: 32\n"
     ]
    },
    {
     "data": {
      "application/vnd.jupyter.widget-view+json": {
       "model_id": "9d8f05aefa8a49c9bfe62c4263e562fe",
       "version_major": 2,
       "version_minor": 0
      },
      "text/plain": [
       "  0%|          | 0/4949305 [00:00<?, ?it/s]"
      ]
     },
     "metadata": {},
     "output_type": "display_data"
    },
    {
     "name": "stdout",
     "output_type": "stream",
     "text": [
      "layer1: (1028649, 0, 13)\n",
      "there're 23362 neighbors for 1028649\n",
      "Triplets for iteration 231 have been written to ./benign/benign_3/731.txt\n",
      "the # of the triplets: 32\n"
     ]
    },
    {
     "data": {
      "application/vnd.jupyter.widget-view+json": {
       "model_id": "ed6dafa620aa41919ec8a9c186f5f6db",
       "version_major": 2,
       "version_minor": 0
      },
      "text/plain": [
       "  0%|          | 0/4949305 [00:00<?, ?it/s]"
      ]
     },
     "metadata": {},
     "output_type": "display_data"
    },
    {
     "name": "stdout",
     "output_type": "stream",
     "text": [
      "layer1: (1028649, 0, 13)\n",
      "there're 52605 neighbors for 1076424\n",
      "Triplets for iteration 232 have been written to ./benign/benign_3/732.txt\n",
      "the # of the triplets: 32\n"
     ]
    },
    {
     "data": {
      "application/vnd.jupyter.widget-view+json": {
       "model_id": "ece886afaa6c470b9db9623e83d5d94f",
       "version_major": 2,
       "version_minor": 0
      },
      "text/plain": [
       "  0%|          | 0/4949305 [00:00<?, ?it/s]"
      ]
     },
     "metadata": {},
     "output_type": "display_data"
    },
    {
     "name": "stdout",
     "output_type": "stream",
     "text": [
      "layer1: (1028649, 0, 13)\n",
      "there're 211162 neighbors for 1003134\n",
      "Triplets for iteration 233 have been written to ./benign/benign_3/733.txt\n",
      "the # of the triplets: 32\n"
     ]
    },
    {
     "data": {
      "application/vnd.jupyter.widget-view+json": {
       "model_id": "bd102e2ebbb5469cbccd150c7401997f",
       "version_major": 2,
       "version_minor": 0
      },
      "text/plain": [
       "  0%|          | 0/4949305 [00:00<?, ?it/s]"
      ]
     },
     "metadata": {},
     "output_type": "display_data"
    },
    {
     "name": "stdout",
     "output_type": "stream",
     "text": [
      "layer1: (1028649, 0, 13)\n",
      "there're 61081 neighbors for 440212\n",
      "Triplets for iteration 234 have been written to ./benign/benign_3/734.txt\n",
      "the # of the triplets: 32\n"
     ]
    },
    {
     "data": {
      "application/vnd.jupyter.widget-view+json": {
       "model_id": "cc6e4236fd7a47a0a1673d32026c9894",
       "version_major": 2,
       "version_minor": 0
      },
      "text/plain": [
       "  0%|          | 0/4949305 [00:00<?, ?it/s]"
      ]
     },
     "metadata": {},
     "output_type": "display_data"
    },
    {
     "name": "stdout",
     "output_type": "stream",
     "text": [
      "layer1: (1028649, 0, 13)\n",
      "there're 18669 neighbors for 252867\n",
      "Triplets for iteration 235 have been written to ./benign/benign_3/735.txt\n",
      "the # of the triplets: 32\n"
     ]
    },
    {
     "data": {
      "application/vnd.jupyter.widget-view+json": {
       "model_id": "5da16b861400401699b5535fe417da45",
       "version_major": 2,
       "version_minor": 0
      },
      "text/plain": [
       "  0%|          | 0/4949305 [00:00<?, ?it/s]"
      ]
     },
     "metadata": {},
     "output_type": "display_data"
    },
    {
     "name": "stdout",
     "output_type": "stream",
     "text": [
      "layer1: (1028649, 0, 13)\n",
      "there're 59003 neighbors for 444542\n",
      "Triplets for iteration 236 have been written to ./benign/benign_3/736.txt\n",
      "the # of the triplets: 32\n"
     ]
    },
    {
     "data": {
      "application/vnd.jupyter.widget-view+json": {
       "model_id": "2a99cf5cefb344bcb12946ac6db6209d",
       "version_major": 2,
       "version_minor": 0
      },
      "text/plain": [
       "  0%|          | 0/4949305 [00:00<?, ?it/s]"
      ]
     },
     "metadata": {},
     "output_type": "display_data"
    },
    {
     "name": "stdout",
     "output_type": "stream",
     "text": [
      "layer1: (1028649, 0, 13)\n",
      "there're 7273 neighbors for 618136\n",
      "Triplets for iteration 237 have been written to ./benign/benign_3/737.txt\n",
      "the # of the triplets: 32\n"
     ]
    },
    {
     "data": {
      "application/vnd.jupyter.widget-view+json": {
       "model_id": "add50c08808c406db6f0c25b1b90fcf6",
       "version_major": 2,
       "version_minor": 0
      },
      "text/plain": [
       "  0%|          | 0/4949305 [00:00<?, ?it/s]"
      ]
     },
     "metadata": {},
     "output_type": "display_data"
    },
    {
     "name": "stdout",
     "output_type": "stream",
     "text": [
      "layer1: (1028649, 0, 13)\n",
      "there're 73949 neighbors for 272194\n",
      "Triplets for iteration 238 have been written to ./benign/benign_3/738.txt\n",
      "the # of the triplets: 32\n"
     ]
    },
    {
     "data": {
      "application/vnd.jupyter.widget-view+json": {
       "model_id": "0a701595b1ed48d8a879f04eef2e3b15",
       "version_major": 2,
       "version_minor": 0
      },
      "text/plain": [
       "  0%|          | 0/4949305 [00:00<?, ?it/s]"
      ]
     },
     "metadata": {},
     "output_type": "display_data"
    },
    {
     "name": "stdout",
     "output_type": "stream",
     "text": [
      "layer1: (1028649, 0, 13)\n",
      "there're 18669 neighbors for 252867\n",
      "Triplets for iteration 239 have been written to ./benign/benign_3/739.txt\n",
      "the # of the triplets: 32\n"
     ]
    },
    {
     "data": {
      "application/vnd.jupyter.widget-view+json": {
       "model_id": "a68497e8a6b34ab499bb4c63d0456635",
       "version_major": 2,
       "version_minor": 0
      },
      "text/plain": [
       "  0%|          | 0/4949305 [00:00<?, ?it/s]"
      ]
     },
     "metadata": {},
     "output_type": "display_data"
    },
    {
     "name": "stdout",
     "output_type": "stream",
     "text": [
      "layer1: (1028649, 0, 13)\n",
      "there're 29008 neighbors for 979016\n",
      "Triplets for iteration 240 have been written to ./benign/benign_3/740.txt\n",
      "the # of the triplets: 32\n"
     ]
    },
    {
     "data": {
      "application/vnd.jupyter.widget-view+json": {
       "model_id": "f0612255a4604f0b857c0c7963e5e763",
       "version_major": 2,
       "version_minor": 0
      },
      "text/plain": [
       "  0%|          | 0/4949305 [00:00<?, ?it/s]"
      ]
     },
     "metadata": {},
     "output_type": "display_data"
    },
    {
     "name": "stdout",
     "output_type": "stream",
     "text": [
      "layer1: (1028649, 0, 13)\n",
      "there're 61081 neighbors for 440212\n",
      "Triplets for iteration 241 have been written to ./benign/benign_3/741.txt\n",
      "the # of the triplets: 32\n"
     ]
    },
    {
     "data": {
      "application/vnd.jupyter.widget-view+json": {
       "model_id": "e9f7bdb031ce4818874940f5caded533",
       "version_major": 2,
       "version_minor": 0
      },
      "text/plain": [
       "  0%|          | 0/4949305 [00:00<?, ?it/s]"
      ]
     },
     "metadata": {},
     "output_type": "display_data"
    },
    {
     "name": "stdout",
     "output_type": "stream",
     "text": [
      "layer1: (1028649, 0, 13)\n",
      "there're 211162 neighbors for 1003134\n",
      "Triplets for iteration 242 have been written to ./benign/benign_3/742.txt\n",
      "the # of the triplets: 32\n"
     ]
    },
    {
     "data": {
      "application/vnd.jupyter.widget-view+json": {
       "model_id": "0ebc27b2bf994505ae354567aed852f6",
       "version_major": 2,
       "version_minor": 0
      },
      "text/plain": [
       "  0%|          | 0/4949305 [00:00<?, ?it/s]"
      ]
     },
     "metadata": {},
     "output_type": "display_data"
    },
    {
     "name": "stdout",
     "output_type": "stream",
     "text": [
      "layer1: (1028649, 0, 13)\n",
      "there're 211162 neighbors for 1003134\n",
      "Triplets for iteration 243 have been written to ./benign/benign_3/743.txt\n",
      "the # of the triplets: 32\n"
     ]
    },
    {
     "data": {
      "application/vnd.jupyter.widget-view+json": {
       "model_id": "727fbfad199a41ea9e61df70c08ef9a2",
       "version_major": 2,
       "version_minor": 0
      },
      "text/plain": [
       "  0%|          | 0/4949305 [00:00<?, ?it/s]"
      ]
     },
     "metadata": {},
     "output_type": "display_data"
    },
    {
     "name": "stdout",
     "output_type": "stream",
     "text": [
      "layer1: (1028649, 0, 13)\n",
      "there're 211162 neighbors for 1003134\n",
      "Triplets for iteration 244 have been written to ./benign/benign_3/744.txt\n",
      "the # of the triplets: 32\n"
     ]
    },
    {
     "data": {
      "application/vnd.jupyter.widget-view+json": {
       "model_id": "bb52497a5f6d486ea9540d97eef838ff",
       "version_major": 2,
       "version_minor": 0
      },
      "text/plain": [
       "  0%|          | 0/4949305 [00:00<?, ?it/s]"
      ]
     },
     "metadata": {},
     "output_type": "display_data"
    },
    {
     "name": "stdout",
     "output_type": "stream",
     "text": [
      "layer1: (1028649, 0, 13)\n",
      "there're 23362 neighbors for 1028649\n",
      "Triplets for iteration 245 have been written to ./benign/benign_3/745.txt\n",
      "the # of the triplets: 32\n"
     ]
    },
    {
     "data": {
      "application/vnd.jupyter.widget-view+json": {
       "model_id": "b019c64df073423e9517629992dead8d",
       "version_major": 2,
       "version_minor": 0
      },
      "text/plain": [
       "  0%|          | 0/4949305 [00:00<?, ?it/s]"
      ]
     },
     "metadata": {},
     "output_type": "display_data"
    },
    {
     "name": "stdout",
     "output_type": "stream",
     "text": [
      "layer1: (1028649, 0, 13)\n",
      "there're 59003 neighbors for 444542\n",
      "Triplets for iteration 246 have been written to ./benign/benign_3/746.txt\n",
      "the # of the triplets: 32\n"
     ]
    },
    {
     "data": {
      "application/vnd.jupyter.widget-view+json": {
       "model_id": "93ce665cb26a44eaa80ba6b7d68f46ef",
       "version_major": 2,
       "version_minor": 0
      },
      "text/plain": [
       "  0%|          | 0/4949305 [00:00<?, ?it/s]"
      ]
     },
     "metadata": {},
     "output_type": "display_data"
    },
    {
     "name": "stdout",
     "output_type": "stream",
     "text": [
      "layer1: (1028649, 0, 13)\n",
      "there're 34767 neighbors for 1013153\n",
      "Triplets for iteration 247 have been written to ./benign/benign_3/747.txt\n",
      "the # of the triplets: 32\n"
     ]
    },
    {
     "data": {
      "application/vnd.jupyter.widget-view+json": {
       "model_id": "678bc3665db24de7a2ed4c9597f04535",
       "version_major": 2,
       "version_minor": 0
      },
      "text/plain": [
       "  0%|          | 0/4949305 [00:00<?, ?it/s]"
      ]
     },
     "metadata": {},
     "output_type": "display_data"
    },
    {
     "name": "stdout",
     "output_type": "stream",
     "text": [
      "layer1: (1028649, 0, 13)\n",
      "there're 34767 neighbors for 1013153\n",
      "Triplets for iteration 248 have been written to ./benign/benign_3/748.txt\n",
      "the # of the triplets: 32\n"
     ]
    },
    {
     "data": {
      "application/vnd.jupyter.widget-view+json": {
       "model_id": "4a799a85db0d41f09154a7c8ade2ed3b",
       "version_major": 2,
       "version_minor": 0
      },
      "text/plain": [
       "  0%|          | 0/4949305 [00:00<?, ?it/s]"
      ]
     },
     "metadata": {},
     "output_type": "display_data"
    },
    {
     "name": "stdout",
     "output_type": "stream",
     "text": [
      "layer1: (1028649, 0, 13)\n",
      "there're 1804 neighbors for 766773\n",
      "Triplets for iteration 249 have been written to ./benign/benign_3/749.txt\n",
      "the # of the triplets: 32\n"
     ]
    },
    {
     "data": {
      "application/vnd.jupyter.widget-view+json": {
       "model_id": "32d76258f88c4e22bae182a52126529c",
       "version_major": 2,
       "version_minor": 0
      },
      "text/plain": [
       "  0%|          | 0/4949305 [00:00<?, ?it/s]"
      ]
     },
     "metadata": {},
     "output_type": "display_data"
    },
    {
     "name": "stdout",
     "output_type": "stream",
     "text": [
      "layer1: (1028649, 0, 13)\n",
      "there're 211162 neighbors for 1003134\n",
      "Triplets for iteration 250 have been written to ./benign/benign_3/750.txt\n",
      "the # of the triplets: 32\n"
     ]
    },
    {
     "data": {
      "application/vnd.jupyter.widget-view+json": {
       "model_id": "ea8aca45eb1d4037a9cc2278b614d46d",
       "version_major": 2,
       "version_minor": 0
      },
      "text/plain": [
       "  0%|          | 0/4949305 [00:00<?, ?it/s]"
      ]
     },
     "metadata": {},
     "output_type": "display_data"
    },
    {
     "name": "stdout",
     "output_type": "stream",
     "text": [
      "layer1: (1028649, 0, 13)\n",
      "there're 211162 neighbors for 1003134\n",
      "Triplets for iteration 251 have been written to ./benign/benign_3/751.txt\n",
      "the # of the triplets: 32\n"
     ]
    },
    {
     "data": {
      "application/vnd.jupyter.widget-view+json": {
       "model_id": "11f8cd4ccbab4f198d603778fe6a66a2",
       "version_major": 2,
       "version_minor": 0
      },
      "text/plain": [
       "  0%|          | 0/4949305 [00:00<?, ?it/s]"
      ]
     },
     "metadata": {},
     "output_type": "display_data"
    },
    {
     "name": "stdout",
     "output_type": "stream",
     "text": [
      "layer1: (1028649, 0, 13)\n",
      "there're 2361 neighbors for 480374\n",
      "Triplets for iteration 252 have been written to ./benign/benign_3/752.txt\n",
      "the # of the triplets: 32\n"
     ]
    },
    {
     "data": {
      "application/vnd.jupyter.widget-view+json": {
       "model_id": "754cf173e3eb430586a58b1a68a62810",
       "version_major": 2,
       "version_minor": 0
      },
      "text/plain": [
       "  0%|          | 0/4949305 [00:00<?, ?it/s]"
      ]
     },
     "metadata": {},
     "output_type": "display_data"
    },
    {
     "name": "stdout",
     "output_type": "stream",
     "text": [
      "layer1: (1028649, 0, 13)\n",
      "there're 211162 neighbors for 1003134\n",
      "Triplets for iteration 253 have been written to ./benign/benign_3/753.txt\n",
      "the # of the triplets: 32\n"
     ]
    },
    {
     "data": {
      "application/vnd.jupyter.widget-view+json": {
       "model_id": "e32f0fc2e9df40e2b31300eecb46ab47",
       "version_major": 2,
       "version_minor": 0
      },
      "text/plain": [
       "  0%|          | 0/4949305 [00:00<?, ?it/s]"
      ]
     },
     "metadata": {},
     "output_type": "display_data"
    },
    {
     "name": "stdout",
     "output_type": "stream",
     "text": [
      "layer1: (1028649, 0, 13)\n",
      "there're 52605 neighbors for 1076424\n",
      "Triplets for iteration 254 have been written to ./benign/benign_3/754.txt\n",
      "the # of the triplets: 32\n"
     ]
    },
    {
     "data": {
      "application/vnd.jupyter.widget-view+json": {
       "model_id": "fac708c8c86d43dfae36f5981a3bf40f",
       "version_major": 2,
       "version_minor": 0
      },
      "text/plain": [
       "  0%|          | 0/4949305 [00:00<?, ?it/s]"
      ]
     },
     "metadata": {},
     "output_type": "display_data"
    },
    {
     "name": "stdout",
     "output_type": "stream",
     "text": [
      "layer1: (1028649, 0, 13)\n",
      "there're 2415 neighbors for 543320\n",
      "Triplets for iteration 255 have been written to ./benign/benign_3/755.txt\n",
      "the # of the triplets: 32\n"
     ]
    },
    {
     "data": {
      "application/vnd.jupyter.widget-view+json": {
       "model_id": "a8baf6aa04da4fb0b2678de56ac350ed",
       "version_major": 2,
       "version_minor": 0
      },
      "text/plain": [
       "  0%|          | 0/4949305 [00:00<?, ?it/s]"
      ]
     },
     "metadata": {},
     "output_type": "display_data"
    },
    {
     "name": "stdout",
     "output_type": "stream",
     "text": [
      "layer1: (1028649, 0, 13)\n",
      "there're 73949 neighbors for 272194\n",
      "Triplets for iteration 256 have been written to ./benign/benign_3/756.txt\n",
      "the # of the triplets: 32\n"
     ]
    },
    {
     "data": {
      "application/vnd.jupyter.widget-view+json": {
       "model_id": "a87045c3f4cd4fae9f7c5aa6edc12646",
       "version_major": 2,
       "version_minor": 0
      },
      "text/plain": [
       "  0%|          | 0/4949305 [00:00<?, ?it/s]"
      ]
     },
     "metadata": {},
     "output_type": "display_data"
    },
    {
     "name": "stdout",
     "output_type": "stream",
     "text": [
      "layer1: (1028649, 0, 13)\n",
      "there're 1211 neighbors for 932513\n",
      "Triplets for iteration 257 have been written to ./benign/benign_3/757.txt\n",
      "the # of the triplets: 32\n"
     ]
    },
    {
     "data": {
      "application/vnd.jupyter.widget-view+json": {
       "model_id": "ed9556c17c1f494ea9949dc437b3aad9",
       "version_major": 2,
       "version_minor": 0
      },
      "text/plain": [
       "  0%|          | 0/4949305 [00:00<?, ?it/s]"
      ]
     },
     "metadata": {},
     "output_type": "display_data"
    },
    {
     "name": "stdout",
     "output_type": "stream",
     "text": [
      "layer1: (1028649, 0, 13)\n",
      "there're 4559 neighbors for 339437\n",
      "Triplets for iteration 258 have been written to ./benign/benign_3/758.txt\n",
      "the # of the triplets: 32\n"
     ]
    },
    {
     "data": {
      "application/vnd.jupyter.widget-view+json": {
       "model_id": "7ad7594b80674b549cc181033ed4e514",
       "version_major": 2,
       "version_minor": 0
      },
      "text/plain": [
       "  0%|          | 0/4949305 [00:00<?, ?it/s]"
      ]
     },
     "metadata": {},
     "output_type": "display_data"
    },
    {
     "name": "stdout",
     "output_type": "stream",
     "text": [
      "layer1: (1028649, 0, 13)\n",
      "there're 61081 neighbors for 440212\n",
      "Triplets for iteration 259 have been written to ./benign/benign_3/759.txt\n",
      "the # of the triplets: 32\n"
     ]
    },
    {
     "data": {
      "application/vnd.jupyter.widget-view+json": {
       "model_id": "3d077a1d9b664c61961a718da5762c29",
       "version_major": 2,
       "version_minor": 0
      },
      "text/plain": [
       "  0%|          | 0/4949305 [00:00<?, ?it/s]"
      ]
     },
     "metadata": {},
     "output_type": "display_data"
    },
    {
     "name": "stdout",
     "output_type": "stream",
     "text": [
      "layer1: (1028649, 0, 13)\n",
      "there're 211162 neighbors for 1003134\n",
      "Triplets for iteration 260 have been written to ./benign/benign_3/760.txt\n",
      "the # of the triplets: 32\n"
     ]
    },
    {
     "data": {
      "application/vnd.jupyter.widget-view+json": {
       "model_id": "3580cb9fe5a243829d5cb7a50443bd4d",
       "version_major": 2,
       "version_minor": 0
      },
      "text/plain": [
       "  0%|          | 0/4949305 [00:00<?, ?it/s]"
      ]
     },
     "metadata": {},
     "output_type": "display_data"
    },
    {
     "name": "stdout",
     "output_type": "stream",
     "text": [
      "layer1: (1028649, 0, 13)\n",
      "there're 211162 neighbors for 1003134\n",
      "Triplets for iteration 261 have been written to ./benign/benign_3/761.txt\n",
      "the # of the triplets: 32\n"
     ]
    },
    {
     "data": {
      "application/vnd.jupyter.widget-view+json": {
       "model_id": "9800c8c838aa43be813ac08207805f06",
       "version_major": 2,
       "version_minor": 0
      },
      "text/plain": [
       "  0%|          | 0/4949305 [00:00<?, ?it/s]"
      ]
     },
     "metadata": {},
     "output_type": "display_data"
    },
    {
     "name": "stdout",
     "output_type": "stream",
     "text": [
      "layer1: (1028649, 0, 13)\n",
      "there're 52605 neighbors for 1076424\n",
      "Triplets for iteration 262 have been written to ./benign/benign_3/762.txt\n",
      "the # of the triplets: 32\n"
     ]
    },
    {
     "data": {
      "application/vnd.jupyter.widget-view+json": {
       "model_id": "95e89591b7304a889f6f92f4de705ca3",
       "version_major": 2,
       "version_minor": 0
      },
      "text/plain": [
       "  0%|          | 0/4949305 [00:00<?, ?it/s]"
      ]
     },
     "metadata": {},
     "output_type": "display_data"
    },
    {
     "name": "stdout",
     "output_type": "stream",
     "text": [
      "layer1: (1028649, 0, 13)\n",
      "there're 3894 neighbors for 1138178\n",
      "Triplets for iteration 263 have been written to ./benign/benign_3/763.txt\n",
      "the # of the triplets: 32\n"
     ]
    },
    {
     "data": {
      "application/vnd.jupyter.widget-view+json": {
       "model_id": "77aa692dd7fd4ff3b0e4d6d467875de0",
       "version_major": 2,
       "version_minor": 0
      },
      "text/plain": [
       "  0%|          | 0/4949305 [00:00<?, ?it/s]"
      ]
     },
     "metadata": {},
     "output_type": "display_data"
    },
    {
     "name": "stdout",
     "output_type": "stream",
     "text": [
      "layer1: (1028649, 0, 13)\n",
      "there're 57517 neighbors for 789081\n",
      "Triplets for iteration 264 have been written to ./benign/benign_3/764.txt\n",
      "the # of the triplets: 32\n"
     ]
    },
    {
     "data": {
      "application/vnd.jupyter.widget-view+json": {
       "model_id": "bf71140a27af4bc9819a650c4f236885",
       "version_major": 2,
       "version_minor": 0
      },
      "text/plain": [
       "  0%|          | 0/4949305 [00:00<?, ?it/s]"
      ]
     },
     "metadata": {},
     "output_type": "display_data"
    },
    {
     "name": "stdout",
     "output_type": "stream",
     "text": [
      "layer1: (1028649, 0, 13)\n",
      "there're 211162 neighbors for 1003134\n",
      "Triplets for iteration 265 have been written to ./benign/benign_3/765.txt\n",
      "the # of the triplets: 32\n"
     ]
    },
    {
     "data": {
      "application/vnd.jupyter.widget-view+json": {
       "model_id": "c3955171b49241148b05af11b93e4d51",
       "version_major": 2,
       "version_minor": 0
      },
      "text/plain": [
       "  0%|          | 0/4949305 [00:00<?, ?it/s]"
      ]
     },
     "metadata": {},
     "output_type": "display_data"
    },
    {
     "name": "stdout",
     "output_type": "stream",
     "text": [
      "layer1: (1028649, 0, 13)\n",
      "there're 29008 neighbors for 979016\n",
      "Triplets for iteration 266 have been written to ./benign/benign_3/766.txt\n",
      "the # of the triplets: 32\n"
     ]
    },
    {
     "data": {
      "application/vnd.jupyter.widget-view+json": {
       "model_id": "43c627d60dbd424b884576cf460e5995",
       "version_major": 2,
       "version_minor": 0
      },
      "text/plain": [
       "  0%|          | 0/4949305 [00:00<?, ?it/s]"
      ]
     },
     "metadata": {},
     "output_type": "display_data"
    },
    {
     "name": "stdout",
     "output_type": "stream",
     "text": [
      "layer1: (1028649, 0, 13)\n",
      "there're 29008 neighbors for 979016\n",
      "Triplets for iteration 267 have been written to ./benign/benign_3/767.txt\n",
      "the # of the triplets: 32\n"
     ]
    },
    {
     "data": {
      "application/vnd.jupyter.widget-view+json": {
       "model_id": "65c3a9746e7e43b482b2e98388b58c9f",
       "version_major": 2,
       "version_minor": 0
      },
      "text/plain": [
       "  0%|          | 0/4949305 [00:00<?, ?it/s]"
      ]
     },
     "metadata": {},
     "output_type": "display_data"
    },
    {
     "name": "stdout",
     "output_type": "stream",
     "text": [
      "layer1: (1028649, 0, 13)\n",
      "there're 12863 neighbors for 211018\n",
      "Triplets for iteration 268 have been written to ./benign/benign_3/768.txt\n",
      "the # of the triplets: 32\n"
     ]
    },
    {
     "data": {
      "application/vnd.jupyter.widget-view+json": {
       "model_id": "6a3b6e7f9d8444e9885e5561c90ac0e8",
       "version_major": 2,
       "version_minor": 0
      },
      "text/plain": [
       "  0%|          | 0/4949305 [00:00<?, ?it/s]"
      ]
     },
     "metadata": {},
     "output_type": "display_data"
    },
    {
     "name": "stdout",
     "output_type": "stream",
     "text": [
      "layer1: (1028649, 0, 13)\n",
      "there're 61081 neighbors for 440212\n",
      "Triplets for iteration 269 have been written to ./benign/benign_3/769.txt\n",
      "the # of the triplets: 32\n"
     ]
    },
    {
     "data": {
      "application/vnd.jupyter.widget-view+json": {
       "model_id": "83d9565bb72d41b6bf3b5a0bef980086",
       "version_major": 2,
       "version_minor": 0
      },
      "text/plain": [
       "  0%|          | 0/4949305 [00:00<?, ?it/s]"
      ]
     },
     "metadata": {},
     "output_type": "display_data"
    },
    {
     "name": "stdout",
     "output_type": "stream",
     "text": [
      "layer1: (1028649, 0, 13)\n",
      "there're 52002 neighbors for 280074\n",
      "Triplets for iteration 270 have been written to ./benign/benign_3/770.txt\n",
      "the # of the triplets: 32\n"
     ]
    },
    {
     "data": {
      "application/vnd.jupyter.widget-view+json": {
       "model_id": "4e53d6c92eb74ea48a0392157bfcc9be",
       "version_major": 2,
       "version_minor": 0
      },
      "text/plain": [
       "  0%|          | 0/4949305 [00:00<?, ?it/s]"
      ]
     },
     "metadata": {},
     "output_type": "display_data"
    },
    {
     "name": "stdout",
     "output_type": "stream",
     "text": [
      "layer1: (1028649, 0, 13)\n",
      "there're 18669 neighbors for 252867\n",
      "Triplets for iteration 271 have been written to ./benign/benign_3/771.txt\n",
      "the # of the triplets: 32\n"
     ]
    },
    {
     "data": {
      "application/vnd.jupyter.widget-view+json": {
       "model_id": "af489b1467794540817d3dcd1fc7ba39",
       "version_major": 2,
       "version_minor": 0
      },
      "text/plain": [
       "  0%|          | 0/4949305 [00:00<?, ?it/s]"
      ]
     },
     "metadata": {},
     "output_type": "display_data"
    },
    {
     "name": "stdout",
     "output_type": "stream",
     "text": [
      "layer1: (1028649, 0, 13)\n",
      "there're 4056 neighbors for 263246\n",
      "Triplets for iteration 272 have been written to ./benign/benign_3/772.txt\n",
      "the # of the triplets: 32\n"
     ]
    },
    {
     "data": {
      "application/vnd.jupyter.widget-view+json": {
       "model_id": "0b68ceb818d14547aac9f3680274ce8b",
       "version_major": 2,
       "version_minor": 0
      },
      "text/plain": [
       "  0%|          | 0/4949305 [00:00<?, ?it/s]"
      ]
     },
     "metadata": {},
     "output_type": "display_data"
    },
    {
     "name": "stdout",
     "output_type": "stream",
     "text": [
      "layer1: (1028649, 0, 13)\n",
      "there're 73949 neighbors for 272194\n",
      "Triplets for iteration 273 have been written to ./benign/benign_3/773.txt\n",
      "the # of the triplets: 32\n"
     ]
    },
    {
     "data": {
      "application/vnd.jupyter.widget-view+json": {
       "model_id": "0e6b62e5e8154d7f87b114b334ade6a8",
       "version_major": 2,
       "version_minor": 0
      },
      "text/plain": [
       "  0%|          | 0/4949305 [00:00<?, ?it/s]"
      ]
     },
     "metadata": {},
     "output_type": "display_data"
    },
    {
     "name": "stdout",
     "output_type": "stream",
     "text": [
      "layer1: (1028649, 0, 13)\n",
      "there're 34767 neighbors for 1013153\n",
      "Triplets for iteration 274 have been written to ./benign/benign_3/774.txt\n",
      "the # of the triplets: 32\n"
     ]
    },
    {
     "data": {
      "application/vnd.jupyter.widget-view+json": {
       "model_id": "de3e0234ce0b4ee7b93f6362abd2b06f",
       "version_major": 2,
       "version_minor": 0
      },
      "text/plain": [
       "  0%|          | 0/4949305 [00:00<?, ?it/s]"
      ]
     },
     "metadata": {},
     "output_type": "display_data"
    },
    {
     "name": "stdout",
     "output_type": "stream",
     "text": [
      "layer1: (1028649, 0, 13)\n",
      "there're 211162 neighbors for 1003134\n",
      "Triplets for iteration 275 have been written to ./benign/benign_3/775.txt\n",
      "the # of the triplets: 32\n"
     ]
    },
    {
     "data": {
      "application/vnd.jupyter.widget-view+json": {
       "model_id": "7f31ffb591b04cd7a68cda81834164f0",
       "version_major": 2,
       "version_minor": 0
      },
      "text/plain": [
       "  0%|          | 0/4949305 [00:00<?, ?it/s]"
      ]
     },
     "metadata": {},
     "output_type": "display_data"
    },
    {
     "name": "stdout",
     "output_type": "stream",
     "text": [
      "layer1: (1028649, 0, 13)\n",
      "there're 52002 neighbors for 280074\n",
      "Triplets for iteration 276 have been written to ./benign/benign_3/776.txt\n",
      "the # of the triplets: 32\n"
     ]
    },
    {
     "data": {
      "application/vnd.jupyter.widget-view+json": {
       "model_id": "ab07ba03412a45bc8dc4cd1b3fcfb63e",
       "version_major": 2,
       "version_minor": 0
      },
      "text/plain": [
       "  0%|          | 0/4949305 [00:00<?, ?it/s]"
      ]
     },
     "metadata": {},
     "output_type": "display_data"
    },
    {
     "name": "stdout",
     "output_type": "stream",
     "text": [
      "layer1: (1028649, 0, 13)\n",
      "there're 61081 neighbors for 440212\n",
      "Triplets for iteration 277 have been written to ./benign/benign_3/777.txt\n",
      "the # of the triplets: 32\n"
     ]
    },
    {
     "data": {
      "application/vnd.jupyter.widget-view+json": {
       "model_id": "24c23f05bff84ac5a3fa0e9b50b3f127",
       "version_major": 2,
       "version_minor": 0
      },
      "text/plain": [
       "  0%|          | 0/4949305 [00:00<?, ?it/s]"
      ]
     },
     "metadata": {},
     "output_type": "display_data"
    },
    {
     "name": "stdout",
     "output_type": "stream",
     "text": [
      "layer1: (1028649, 0, 13)\n",
      "there're 18669 neighbors for 252867\n",
      "Triplets for iteration 278 have been written to ./benign/benign_3/778.txt\n",
      "the # of the triplets: 32\n"
     ]
    },
    {
     "data": {
      "application/vnd.jupyter.widget-view+json": {
       "model_id": "4c3a073e957a4bbaae8bc87d4bbe8cc6",
       "version_major": 2,
       "version_minor": 0
      },
      "text/plain": [
       "  0%|          | 0/4949305 [00:00<?, ?it/s]"
      ]
     },
     "metadata": {},
     "output_type": "display_data"
    },
    {
     "name": "stdout",
     "output_type": "stream",
     "text": [
      "layer1: (1028649, 0, 13)\n",
      "there're 52002 neighbors for 280074\n",
      "Triplets for iteration 279 have been written to ./benign/benign_3/779.txt\n",
      "the # of the triplets: 32\n"
     ]
    },
    {
     "data": {
      "application/vnd.jupyter.widget-view+json": {
       "model_id": "1b666efa2ec44052892ec7c7905c2f7c",
       "version_major": 2,
       "version_minor": 0
      },
      "text/plain": [
       "  0%|          | 0/4949305 [00:00<?, ?it/s]"
      ]
     },
     "metadata": {},
     "output_type": "display_data"
    },
    {
     "name": "stdout",
     "output_type": "stream",
     "text": [
      "layer1: (1028649, 0, 13)\n",
      "there're 29008 neighbors for 979016\n",
      "Triplets for iteration 280 have been written to ./benign/benign_3/780.txt\n",
      "the # of the triplets: 32\n"
     ]
    },
    {
     "data": {
      "application/vnd.jupyter.widget-view+json": {
       "model_id": "297d92cfcf2744d3aee86d1b623db9c7",
       "version_major": 2,
       "version_minor": 0
      },
      "text/plain": [
       "  0%|          | 0/4949305 [00:00<?, ?it/s]"
      ]
     },
     "metadata": {},
     "output_type": "display_data"
    },
    {
     "name": "stdout",
     "output_type": "stream",
     "text": [
      "layer1: (1028649, 0, 13)\n",
      "there're 34767 neighbors for 1013153\n",
      "Triplets for iteration 281 have been written to ./benign/benign_3/781.txt\n",
      "the # of the triplets: 32\n"
     ]
    },
    {
     "data": {
      "application/vnd.jupyter.widget-view+json": {
       "model_id": "b77c2f9c7e7144f58dcd0600521b4f2c",
       "version_major": 2,
       "version_minor": 0
      },
      "text/plain": [
       "  0%|          | 0/4949305 [00:00<?, ?it/s]"
      ]
     },
     "metadata": {},
     "output_type": "display_data"
    },
    {
     "name": "stdout",
     "output_type": "stream",
     "text": [
      "layer1: (1028649, 0, 13)\n",
      "there're 52605 neighbors for 1076424\n",
      "Triplets for iteration 282 have been written to ./benign/benign_3/782.txt\n",
      "the # of the triplets: 32\n"
     ]
    },
    {
     "data": {
      "application/vnd.jupyter.widget-view+json": {
       "model_id": "b05c7aec9f2b42c89a81c88f9160583f",
       "version_major": 2,
       "version_minor": 0
      },
      "text/plain": [
       "  0%|          | 0/4949305 [00:00<?, ?it/s]"
      ]
     },
     "metadata": {},
     "output_type": "display_data"
    },
    {
     "name": "stdout",
     "output_type": "stream",
     "text": [
      "layer1: (1028649, 0, 13)\n",
      "there're 25895 neighbors for 295347\n",
      "Triplets for iteration 283 have been written to ./benign/benign_3/783.txt\n",
      "the # of the triplets: 32\n"
     ]
    },
    {
     "data": {
      "application/vnd.jupyter.widget-view+json": {
       "model_id": "a4cff3912a7b497b95adf0cd4611fedf",
       "version_major": 2,
       "version_minor": 0
      },
      "text/plain": [
       "  0%|          | 0/4949305 [00:00<?, ?it/s]"
      ]
     },
     "metadata": {},
     "output_type": "display_data"
    },
    {
     "name": "stdout",
     "output_type": "stream",
     "text": [
      "layer1: (1028649, 0, 13)\n",
      "there're 4559 neighbors for 339437\n",
      "Triplets for iteration 284 have been written to ./benign/benign_3/784.txt\n",
      "the # of the triplets: 32\n"
     ]
    },
    {
     "data": {
      "application/vnd.jupyter.widget-view+json": {
       "model_id": "cbaef942a04247a180e4e909600a2c3f",
       "version_major": 2,
       "version_minor": 0
      },
      "text/plain": [
       "  0%|          | 0/4949305 [00:00<?, ?it/s]"
      ]
     },
     "metadata": {},
     "output_type": "display_data"
    },
    {
     "name": "stdout",
     "output_type": "stream",
     "text": [
      "layer1: (1028649, 0, 13)\n",
      "there're 810 neighbors for 212770\n",
      "Triplets for iteration 285 have been written to ./benign/benign_3/785.txt\n",
      "the # of the triplets: 32\n"
     ]
    },
    {
     "data": {
      "application/vnd.jupyter.widget-view+json": {
       "model_id": "e4af71aa3c6644cda7152fe5c33a634c",
       "version_major": 2,
       "version_minor": 0
      },
      "text/plain": [
       "  0%|          | 0/4949305 [00:00<?, ?it/s]"
      ]
     },
     "metadata": {},
     "output_type": "display_data"
    },
    {
     "name": "stdout",
     "output_type": "stream",
     "text": [
      "layer1: (1028649, 0, 13)\n",
      "there're 59003 neighbors for 444542\n",
      "Triplets for iteration 286 have been written to ./benign/benign_3/786.txt\n",
      "the # of the triplets: 32\n"
     ]
    },
    {
     "data": {
      "application/vnd.jupyter.widget-view+json": {
       "model_id": "a6f6ece63ab842ce874dadb4303ca232",
       "version_major": 2,
       "version_minor": 0
      },
      "text/plain": [
       "  0%|          | 0/4949305 [00:00<?, ?it/s]"
      ]
     },
     "metadata": {},
     "output_type": "display_data"
    },
    {
     "name": "stdout",
     "output_type": "stream",
     "text": [
      "layer1: (1028649, 0, 13)\n",
      "there're 61081 neighbors for 440212\n",
      "Triplets for iteration 287 have been written to ./benign/benign_3/787.txt\n",
      "the # of the triplets: 32\n"
     ]
    },
    {
     "data": {
      "application/vnd.jupyter.widget-view+json": {
       "model_id": "2bdb1ce416b5466284210436443fb1f2",
       "version_major": 2,
       "version_minor": 0
      },
      "text/plain": [
       "  0%|          | 0/4949305 [00:00<?, ?it/s]"
      ]
     },
     "metadata": {},
     "output_type": "display_data"
    },
    {
     "name": "stdout",
     "output_type": "stream",
     "text": [
      "layer1: (1028649, 0, 13)\n",
      "there're 57517 neighbors for 789081\n",
      "Triplets for iteration 288 have been written to ./benign/benign_3/788.txt\n",
      "the # of the triplets: 32\n"
     ]
    },
    {
     "data": {
      "application/vnd.jupyter.widget-view+json": {
       "model_id": "d0fea2f0ee3e45bfbb57b0ac107b1aa7",
       "version_major": 2,
       "version_minor": 0
      },
      "text/plain": [
       "  0%|          | 0/4949305 [00:00<?, ?it/s]"
      ]
     },
     "metadata": {},
     "output_type": "display_data"
    },
    {
     "name": "stdout",
     "output_type": "stream",
     "text": [
      "layer1: (1028649, 0, 13)\n",
      "there're 59003 neighbors for 444542\n",
      "Triplets for iteration 289 have been written to ./benign/benign_3/789.txt\n",
      "the # of the triplets: 32\n"
     ]
    },
    {
     "data": {
      "application/vnd.jupyter.widget-view+json": {
       "model_id": "d3e9e3a8c44b4d13954fbb9b2ac7b46b",
       "version_major": 2,
       "version_minor": 0
      },
      "text/plain": [
       "  0%|          | 0/4949305 [00:00<?, ?it/s]"
      ]
     },
     "metadata": {},
     "output_type": "display_data"
    },
    {
     "name": "stdout",
     "output_type": "stream",
     "text": [
      "layer1: (1028649, 0, 13)\n",
      "there're 9961 neighbors for 1086819\n",
      "Triplets for iteration 290 have been written to ./benign/benign_3/790.txt\n",
      "the # of the triplets: 32\n"
     ]
    },
    {
     "data": {
      "application/vnd.jupyter.widget-view+json": {
       "model_id": "5d2c63c840a04034a6c59ed310426b1e",
       "version_major": 2,
       "version_minor": 0
      },
      "text/plain": [
       "  0%|          | 0/4949305 [00:00<?, ?it/s]"
      ]
     },
     "metadata": {},
     "output_type": "display_data"
    },
    {
     "name": "stdout",
     "output_type": "stream",
     "text": [
      "layer1: (1028649, 0, 13)\n",
      "there're 211162 neighbors for 1003134\n",
      "Triplets for iteration 291 have been written to ./benign/benign_3/791.txt\n",
      "the # of the triplets: 32\n"
     ]
    },
    {
     "data": {
      "application/vnd.jupyter.widget-view+json": {
       "model_id": "dacd2f6cd6e94c40b9e5df485ad086ca",
       "version_major": 2,
       "version_minor": 0
      },
      "text/plain": [
       "  0%|          | 0/4949305 [00:00<?, ?it/s]"
      ]
     },
     "metadata": {},
     "output_type": "display_data"
    },
    {
     "name": "stdout",
     "output_type": "stream",
     "text": [
      "layer1: (1028649, 0, 13)\n",
      "there're 30536 neighbors for 145379\n",
      "Triplets for iteration 292 have been written to ./benign/benign_3/792.txt\n",
      "the # of the triplets: 32\n"
     ]
    },
    {
     "data": {
      "application/vnd.jupyter.widget-view+json": {
       "model_id": "720bb1ebfce3443c9490a90d8c368a2a",
       "version_major": 2,
       "version_minor": 0
      },
      "text/plain": [
       "  0%|          | 0/4949305 [00:00<?, ?it/s]"
      ]
     },
     "metadata": {},
     "output_type": "display_data"
    },
    {
     "name": "stdout",
     "output_type": "stream",
     "text": [
      "layer1: (1028649, 0, 13)\n",
      "there're 13558 neighbors for 779386\n",
      "Triplets for iteration 293 have been written to ./benign/benign_3/793.txt\n",
      "the # of the triplets: 32\n"
     ]
    },
    {
     "data": {
      "application/vnd.jupyter.widget-view+json": {
       "model_id": "51c7d5b96e1849d5866c4c807c209327",
       "version_major": 2,
       "version_minor": 0
      },
      "text/plain": [
       "  0%|          | 0/4949305 [00:00<?, ?it/s]"
      ]
     },
     "metadata": {},
     "output_type": "display_data"
    },
    {
     "name": "stdout",
     "output_type": "stream",
     "text": [
      "layer1: (1028649, 0, 13)\n",
      "there're 315 neighbors for 1111250\n",
      "Triplets for iteration 294 have been written to ./benign/benign_3/794.txt\n",
      "the # of the triplets: 32\n"
     ]
    },
    {
     "data": {
      "application/vnd.jupyter.widget-view+json": {
       "model_id": "a244c3d6726447069df4172124038df5",
       "version_major": 2,
       "version_minor": 0
      },
      "text/plain": [
       "  0%|          | 0/4949305 [00:00<?, ?it/s]"
      ]
     },
     "metadata": {},
     "output_type": "display_data"
    },
    {
     "name": "stdout",
     "output_type": "stream",
     "text": [
      "layer1: (1028649, 0, 13)\n",
      "there're 2361 neighbors for 480374\n",
      "Triplets for iteration 295 have been written to ./benign/benign_3/795.txt\n",
      "the # of the triplets: 32\n"
     ]
    },
    {
     "data": {
      "application/vnd.jupyter.widget-view+json": {
       "model_id": "a2b6187dd4784268867011bff1888d4c",
       "version_major": 2,
       "version_minor": 0
      },
      "text/plain": [
       "  0%|          | 0/4949305 [00:00<?, ?it/s]"
      ]
     },
     "metadata": {},
     "output_type": "display_data"
    },
    {
     "name": "stdout",
     "output_type": "stream",
     "text": [
      "layer1: (1028649, 0, 13)\n",
      "there're 73949 neighbors for 272194\n",
      "Triplets for iteration 296 have been written to ./benign/benign_3/796.txt\n",
      "the # of the triplets: 32\n"
     ]
    },
    {
     "data": {
      "application/vnd.jupyter.widget-view+json": {
       "model_id": "4f69aaf1b0ed45879b2fb7b207e293e6",
       "version_major": 2,
       "version_minor": 0
      },
      "text/plain": [
       "  0%|          | 0/4949305 [00:00<?, ?it/s]"
      ]
     },
     "metadata": {},
     "output_type": "display_data"
    },
    {
     "name": "stdout",
     "output_type": "stream",
     "text": [
      "layer1: (1028649, 0, 13)\n",
      "there're 52002 neighbors for 280074\n",
      "Triplets for iteration 297 have been written to ./benign/benign_3/797.txt\n",
      "the # of the triplets: 32\n"
     ]
    },
    {
     "data": {
      "application/vnd.jupyter.widget-view+json": {
       "model_id": "be2c1aabdbd646a0871f02a93a86221f",
       "version_major": 2,
       "version_minor": 0
      },
      "text/plain": [
       "  0%|          | 0/4949305 [00:00<?, ?it/s]"
      ]
     },
     "metadata": {},
     "output_type": "display_data"
    },
    {
     "name": "stdout",
     "output_type": "stream",
     "text": [
      "layer1: (1028649, 0, 13)\n",
      "there're 15421 neighbors for 915552\n",
      "Triplets for iteration 298 have been written to ./benign/benign_3/798.txt\n",
      "the # of the triplets: 32\n"
     ]
    },
    {
     "data": {
      "application/vnd.jupyter.widget-view+json": {
       "model_id": "00d0b6a997fd43dc8c88fd82a928cabc",
       "version_major": 2,
       "version_minor": 0
      },
      "text/plain": [
       "  0%|          | 0/4949305 [00:00<?, ?it/s]"
      ]
     },
     "metadata": {},
     "output_type": "display_data"
    },
    {
     "name": "stdout",
     "output_type": "stream",
     "text": [
      "layer1: (1028649, 0, 13)\n",
      "there're 29008 neighbors for 979016\n",
      "Triplets for iteration 299 have been written to ./benign/benign_3/799.txt\n",
      "the # of the triplets: 32\n"
     ]
    }
   ],
   "source": [
    "def make_triplet(new_data, target_leaf_node, triplet):\n",
    "    for source, destination, relation in new_data:\n",
    "        if destination == target_leaf_node:\n",
    "#             print(f\"Found matching data for leaf node {target_leaf_node}:\")\n",
    "            print(f\"layer1: {new_data[count]}\")\n",
    "            print(f\"there're {len(outer_neighbor_nodes[source])} neighbors for {source}\")\n",
    "            \n",
    "            for node in outer_neighbor_nodes[source]:\n",
    "                count_rel = 0\n",
    "                for r in relation_dict[source, node]:\n",
    "                    count_rel += 1\n",
    "                    triplet.add((source, node, r))\n",
    "                    if len(triplet) == 32: return\n",
    "                    if count_rel == 4: break\n",
    "\n",
    "num = 500\n",
    "for i in tqdm(range(300)):\n",
    "    target_leaf_node = leaf_nodes[i]\n",
    "    current_triplet = set()  \n",
    "    \n",
    "    make_triplet(temp_new_data, target_leaf_node, current_triplet)\n",
    "\n",
    "    output_file = f\"./benign/benign_3/{num}.txt\" \n",
    "    num += 1\n",
    "    with open(output_file, 'w') as f:\n",
    "        for t in current_triplet:\n",
    "            f.write(f\"{t[0]} {t[1]} {t[2]}\\n\")\n",
    "\n",
    "    print(f\"Triplets for iteration {i} have been written to\", output_file)\n",
    "    print(f\"the # of the triplets: {len(current_triplet)}\")\n",
    "#     print(current_triplet)\n",
    "    "
   ]
  },
  {
   "cell_type": "code",
   "execution_count": 45,
   "id": "1b5fb9d9",
   "metadata": {
    "scrolled": true
   },
   "outputs": [
    {
     "name": "stdout",
     "output_type": "stream",
     "text": [
      "Found matching data for leaf node 0:\n",
      "layer1: (1028649, 0, 13)\n",
      "there're 23362 neighbors for 1028649\n",
      "there're :1 results\n",
      "\n",
      "# of the triplets: 10\n",
      "{(1028649, 0, 5), (1028649, 262146, 3), (1028649, 655367, 0), (1028649, 786452, 0), (1028649, 655367, 3), (1028649, 0, 8), (1028649, 0, 3), (1028649, 0, 13), (1028649, 655367, 5), (1028649, 655367, 8)}\n"
     ]
    }
   ],
   "source": [
    "target_leaf_node = leaf_nodes[0]\n",
    "count = 0\n",
    "count_match = 0\n",
    "\n",
    "finish = False\n",
    "triplet = set()\n",
    "\n",
    "for source, destination, relation in new_data:\n",
    "    if destination == target_leaf_node:\n",
    "        count_match += 1\n",
    "        print(f\"Found matching data for leaf node {target_leaf_node}:\")\n",
    "        print(f\"layer1: {new_data[count]}\")\n",
    "        \n",
    "        neighbor = outer_neighbor_nodes[source]\n",
    "        print(f\"there're {len(neighbor)} neighbors for {source}\")\n",
    "        \n",
    "#         count_node = 0\n",
    "        for node in neighbor:\n",
    "\n",
    "            count_rel = 0\n",
    "            for r in relation_dict[source, node]:\n",
    "                count_rel += 1\n",
    "                triplet.add((source, node, r))\n",
    "                if len(triplet) == 32: finish = True\n",
    "                if count_rel == 4 or finish: break\n",
    "            if finish: break\n",
    "        if finish: break\n",
    "            \n",
    "    count += 1\n",
    "    \n",
    "print(f\"there're :{count_match} results\\n\")\n",
    "print(f\"# of the triplets: {len(triplet)}\")\n",
    "print(triplet)"
   ]
  },
  {
   "cell_type": "markdown",
   "id": "8b8c434b",
   "metadata": {},
   "source": [
    "### benign 3"
   ]
  },
  {
   "cell_type": "code",
   "execution_count": 63,
   "id": "1c815904",
   "metadata": {
    "scrolled": true
   },
   "outputs": [
    {
     "data": {
      "application/vnd.jupyter.widget-view+json": {
       "model_id": "1e7d1206be7949df8cbce011de0fb665",
       "version_major": 2,
       "version_minor": 0
      },
      "text/plain": [
       "  0%|          | 0/300 [00:00<?, ?it/s]"
      ]
     },
     "metadata": {},
     "output_type": "display_data"
    },
    {
     "name": "stdout",
     "output_type": "stream",
     "text": [
      "Found matching data for leaf node 0:\n",
      "layer1: (1028649, 0, 13)\n",
      "\n",
      "layer2: (1035455, 1028649, 24)\n",
      "\n",
      "Triplets for iteration 0 have been written to ./benign/benign_2/800.txt\n",
      "the # of the triplets: 2\n",
      "Found matching data for leaf node 1:\n",
      "layer1: (211018, 1, 9)\n",
      "\n",
      "layer2: (927897, 211018, 24)\n",
      "\n",
      "Triplets for iteration 1 have been written to ./benign/benign_2/801.txt\n",
      "the # of the triplets: 2\n",
      "Found matching data for leaf node 5:\n",
      "layer1: (280074, 5, 3)\n",
      "\n",
      "layer2: (23340, 280074, 24)\n",
      "\n",
      "Triplets for iteration 2 have been written to ./benign/benign_2/802.txt\n",
      "the # of the triplets: 2\n",
      "Found matching data for leaf node 6:\n",
      "layer1: (793281, 6, 7)\n",
      "\n",
      "layer2: (639689, 793281, 24)\n",
      "\n",
      "Triplets for iteration 3 have been written to ./benign/benign_2/803.txt\n",
      "the # of the triplets: 2\n",
      "Found matching data for leaf node 7:\n",
      "layer1: (1050536, 7, 7)\n",
      "\n",
      "Found matching data for leaf node 8:\n",
      "layer1: (272194, 8, 2)\n",
      "\n",
      "layer2: (19498, 272194, 24)\n",
      "\n",
      "Triplets for iteration 5 have been written to ./benign/benign_2/804.txt\n",
      "the # of the triplets: 2\n",
      "Found matching data for leaf node 12:\n",
      "layer1: (1013153, 12, 9)\n",
      "\n",
      "layer2: (949521, 1013153, 24)\n",
      "\n",
      "Triplets for iteration 6 have been written to ./benign/benign_2/805.txt\n",
      "the # of the triplets: 2\n",
      "Found matching data for leaf node 14:\n",
      "layer1: (295347, 14, 9)\n",
      "\n",
      "Found matching data for leaf node 15:\n",
      "layer1: (1013153, 15, 9)\n",
      "\n",
      "layer2: (949521, 1013153, 24)\n",
      "\n",
      "Triplets for iteration 8 have been written to ./benign/benign_2/806.txt\n",
      "the # of the triplets: 2\n",
      "Found matching data for leaf node 16:\n",
      "layer1: (915552, 16, 7)\n",
      "\n",
      "layer2: (264688, 915552, 24)\n",
      "\n",
      "Triplets for iteration 9 have been written to ./benign/benign_2/807.txt\n",
      "the # of the triplets: 2\n",
      "Found matching data for leaf node 17:\n",
      "layer1: (444542, 17, 13)\n",
      "\n",
      "layer2: (918633, 444542, 24)\n",
      "\n",
      "Triplets for iteration 10 have been written to ./benign/benign_2/808.txt\n",
      "the # of the triplets: 2\n",
      "Found matching data for leaf node 19:\n",
      "layer1: (440212, 19, 13)\n",
      "\n",
      "layer2: (918633, 440212, 24)\n",
      "\n",
      "Triplets for iteration 11 have been written to ./benign/benign_2/809.txt\n",
      "the # of the triplets: 2\n",
      "Found matching data for leaf node 20:\n",
      "layer1: (1013153, 20, 9)\n",
      "\n",
      "layer2: (949521, 1013153, 24)\n",
      "\n",
      "Triplets for iteration 12 have been written to ./benign/benign_2/810.txt\n",
      "the # of the triplets: 2\n",
      "Found matching data for leaf node 21:\n",
      "layer1: (789081, 21, 3)\n",
      "\n",
      "layer2: (208069, 789081, 24)\n",
      "\n",
      "Triplets for iteration 13 have been written to ./benign/benign_2/811.txt\n",
      "the # of the triplets: 2\n",
      "Found matching data for leaf node 22:\n",
      "layer1: (444542, 22, 13)\n",
      "\n",
      "layer2: (918633, 444542, 24)\n",
      "\n",
      "Triplets for iteration 14 have been written to ./benign/benign_2/812.txt\n",
      "the # of the triplets: 2\n",
      "Found matching data for leaf node 23:\n",
      "layer1: (444542, 23, 13)\n",
      "\n",
      "layer2: (918633, 444542, 24)\n",
      "\n",
      "Triplets for iteration 15 have been written to ./benign/benign_2/813.txt\n",
      "the # of the triplets: 2\n",
      "Found matching data for leaf node 24:\n",
      "layer1: (280074, 24, 3)\n",
      "\n",
      "layer2: (23340, 280074, 24)\n",
      "\n",
      "Triplets for iteration 16 have been written to ./benign/benign_2/814.txt\n",
      "the # of the triplets: 2\n",
      "Found matching data for leaf node 25:\n",
      "layer1: (1003134, 25, 3)\n",
      "\n",
      "layer2: (677631, 1003134, 24)\n",
      "\n",
      "Triplets for iteration 17 have been written to ./benign/benign_2/815.txt\n",
      "the # of the triplets: 2\n",
      "Found matching data for leaf node 26:\n",
      "layer1: (789081, 26, 3)\n",
      "\n",
      "layer2: (208069, 789081, 24)\n",
      "\n",
      "Triplets for iteration 18 have been written to ./benign/benign_2/816.txt\n",
      "the # of the triplets: 2\n",
      "Found matching data for leaf node 28:\n",
      "layer1: (440212, 28, 13)\n",
      "\n",
      "layer2: (918633, 440212, 24)\n",
      "\n",
      "Triplets for iteration 19 have been written to ./benign/benign_2/817.txt\n",
      "the # of the triplets: 2\n",
      "Found matching data for leaf node 29:\n",
      "layer1: (1016145, 29, 7)\n",
      "\n",
      "layer2: (987417, 1016145, 24)\n",
      "\n",
      "Triplets for iteration 20 have been written to ./benign/benign_2/818.txt\n",
      "the # of the triplets: 2\n",
      "Found matching data for leaf node 31:\n",
      "layer1: (1028649, 31, 13)\n",
      "\n",
      "layer2: (1035455, 1028649, 24)\n",
      "\n",
      "Triplets for iteration 21 have been written to ./benign/benign_2/819.txt\n",
      "the # of the triplets: 2\n",
      "Found matching data for leaf node 32:\n",
      "layer1: (272194, 32, 7)\n",
      "\n",
      "layer2: (19498, 272194, 24)\n",
      "\n",
      "Triplets for iteration 22 have been written to ./benign/benign_2/820.txt\n",
      "the # of the triplets: 2\n",
      "Found matching data for leaf node 34:\n",
      "layer1: (280074, 34, 3)\n",
      "\n",
      "layer2: (23340, 280074, 24)\n",
      "\n",
      "Triplets for iteration 23 have been written to ./benign/benign_2/821.txt\n",
      "the # of the triplets: 2\n",
      "Found matching data for leaf node 35:\n",
      "layer1: (1025026, 35, 3)\n",
      "\n",
      "layer2: (241695, 1025026, 24)\n",
      "\n",
      "Triplets for iteration 24 have been written to ./benign/benign_2/822.txt\n",
      "the # of the triplets: 2\n",
      "Found matching data for leaf node 37:\n",
      "layer1: (757500, 37, 9)\n",
      "\n",
      "layer2: (954492, 757500, 24)\n",
      "\n",
      "Triplets for iteration 25 have been written to ./benign/benign_2/823.txt\n",
      "the # of the triplets: 2\n",
      "Found matching data for leaf node 38:\n",
      "layer1: (272194, 38, 3)\n",
      "\n",
      "layer2: (19498, 272194, 24)\n",
      "\n",
      "Triplets for iteration 26 have been written to ./benign/benign_2/824.txt\n",
      "the # of the triplets: 2\n",
      "Found matching data for leaf node 39:\n",
      "layer1: (295347, 39, 9)\n",
      "\n",
      "Found matching data for leaf node 39:\n",
      "layer1: (295347, 39, 15)\n",
      "\n",
      "Found matching data for leaf node 39:\n",
      "layer1: (295347, 39, 11)\n",
      "\n",
      "Found matching data for leaf node 40:\n",
      "layer1: (272194, 40, 13)\n",
      "\n",
      "layer2: (19498, 272194, 24)\n",
      "\n",
      "Triplets for iteration 28 have been written to ./benign/benign_2/825.txt\n",
      "the # of the triplets: 2\n",
      "Found matching data for leaf node 43:\n",
      "layer1: (745444, 43, 6)\n",
      "\n",
      "layer2: (927897, 745444, 24)\n",
      "\n",
      "Triplets for iteration 29 have been written to ./benign/benign_2/826.txt\n",
      "the # of the triplets: 2\n",
      "Found matching data for leaf node 44:\n",
      "layer1: (272194, 44, 13)\n",
      "\n",
      "layer2: (19498, 272194, 24)\n",
      "\n",
      "Triplets for iteration 30 have been written to ./benign/benign_2/827.txt\n",
      "the # of the triplets: 2\n",
      "Found matching data for leaf node 46:\n",
      "layer1: (789081, 46, 3)\n",
      "\n",
      "layer2: (208069, 789081, 24)\n",
      "\n",
      "Triplets for iteration 31 have been written to ./benign/benign_2/828.txt\n",
      "the # of the triplets: 2\n",
      "Found matching data for leaf node 48:\n",
      "layer1: (981524, 48, 7)\n",
      "\n",
      "layer2: (280074, 981524, 24)\n",
      "\n",
      "Triplets for iteration 32 have been written to ./benign/benign_2/829.txt\n",
      "the # of the triplets: 2\n",
      "Found matching data for leaf node 49:\n",
      "layer1: (1076424, 49, 9)\n",
      "\n",
      "Found matching data for leaf node 49:\n",
      "layer1: (145379, 49, 9)\n",
      "\n",
      "Found matching data for leaf node 49:\n",
      "layer1: (62762, 49, 9)\n",
      "\n",
      "Found matching data for leaf node 51:\n",
      "layer1: (694771, 51, 9)\n",
      "\n",
      "Found matching data for leaf node 51:\n",
      "layer1: (694771, 51, 11)\n",
      "\n",
      "Found matching data for leaf node 52:\n",
      "layer1: (1028649, 52, 3)\n",
      "\n",
      "layer2: (1035455, 1028649, 24)\n",
      "\n",
      "Triplets for iteration 35 have been written to ./benign/benign_2/830.txt\n",
      "the # of the triplets: 2\n",
      "Found matching data for leaf node 53:\n",
      "layer1: (1028649, 53, 3)\n",
      "\n",
      "layer2: (1035455, 1028649, 24)\n",
      "\n",
      "Triplets for iteration 36 have been written to ./benign/benign_2/831.txt\n",
      "the # of the triplets: 2\n",
      "Found matching data for leaf node 55:\n",
      "layer1: (1003134, 55, 3)\n",
      "\n",
      "layer2: (677631, 1003134, 24)\n",
      "\n",
      "Triplets for iteration 37 have been written to ./benign/benign_2/832.txt\n",
      "the # of the triplets: 2\n",
      "Found matching data for leaf node 56:\n",
      "layer1: (1028649, 56, 3)\n",
      "\n",
      "layer2: (1035455, 1028649, 24)\n",
      "\n",
      "Triplets for iteration 38 have been written to ./benign/benign_2/833.txt\n",
      "the # of the triplets: 2\n",
      "Found matching data for leaf node 57:\n",
      "layer1: (280074, 57, 3)\n",
      "\n",
      "layer2: (23340, 280074, 24)\n",
      "\n",
      "Triplets for iteration 39 have been written to ./benign/benign_2/834.txt\n",
      "the # of the triplets: 2\n",
      "Found matching data for leaf node 59:\n",
      "layer1: (1138178, 59, 7)\n",
      "\n",
      "layer2: (834175, 1138178, 24)\n",
      "\n",
      "Triplets for iteration 40 have been written to ./benign/benign_2/835.txt\n",
      "the # of the triplets: 2\n",
      "Found matching data for leaf node 60:\n",
      "layer1: (1003134, 60, 3)\n",
      "\n",
      "layer2: (677631, 1003134, 24)\n",
      "\n",
      "Triplets for iteration 41 have been written to ./benign/benign_2/836.txt\n",
      "the # of the triplets: 2\n",
      "Found matching data for leaf node 61:\n",
      "layer1: (272194, 61, 2)\n",
      "\n",
      "layer2: (19498, 272194, 24)\n",
      "\n",
      "Triplets for iteration 42 have been written to ./benign/benign_2/837.txt\n",
      "the # of the triplets: 2\n",
      "Found matching data for leaf node 63:\n",
      "layer1: (295347, 63, 9)\n",
      "\n",
      "Found matching data for leaf node 67:\n",
      "layer1: (444542, 67, 13)\n",
      "\n",
      "layer2: (918633, 444542, 24)\n",
      "\n",
      "Triplets for iteration 44 have been written to ./benign/benign_2/838.txt\n",
      "the # of the triplets: 2\n",
      "Found matching data for leaf node 68:\n",
      "layer1: (272194, 68, 7)\n",
      "\n",
      "layer2: (19498, 272194, 24)\n",
      "\n",
      "Triplets for iteration 45 have been written to ./benign/benign_2/839.txt\n",
      "the # of the triplets: 2\n"
     ]
    },
    {
     "name": "stdout",
     "output_type": "stream",
     "text": [
      "Found matching data for leaf node 69:\n",
      "layer1: (235109, 69, 7)\n",
      "\n",
      "layer2: (573257, 235109, 24)\n",
      "\n",
      "Triplets for iteration 46 have been written to ./benign/benign_2/840.txt\n",
      "the # of the triplets: 2\n",
      "Found matching data for leaf node 70:\n",
      "layer1: (113197, 70, 3)\n",
      "\n",
      "layer2: (1149805, 113197, 24)\n",
      "\n",
      "Triplets for iteration 47 have been written to ./benign/benign_2/841.txt\n",
      "the # of the triplets: 2\n",
      "Found matching data for leaf node 71:\n",
      "layer1: (145379, 71, 19)\n",
      "\n",
      "Found matching data for leaf node 71:\n",
      "layer1: (145379, 71, 3)\n",
      "\n",
      "Found matching data for leaf node 71:\n",
      "layer1: (145379, 71, 22)\n",
      "\n",
      "Found matching data for leaf node 71:\n",
      "layer1: (145379, 71, 5)\n",
      "\n",
      "Found matching data for leaf node 73:\n",
      "layer1: (187482, 73, 3)\n",
      "\n",
      "Found matching data for leaf node 73:\n",
      "layer1: (187482, 73, 5)\n",
      "\n",
      "Found matching data for leaf node 73:\n",
      "layer1: (187482, 73, 17)\n",
      "\n",
      "Found matching data for leaf node 73:\n",
      "layer1: (187482, 73, 19)\n",
      "\n",
      "Found matching data for leaf node 73:\n",
      "layer1: (187482, 73, 0)\n",
      "\n",
      "Found matching data for leaf node 73:\n",
      "layer1: (187482, 73, 20)\n",
      "\n",
      "Found matching data for leaf node 74:\n",
      "layer1: (429138, 74, 9)\n",
      "\n",
      "layer2: (927897, 429138, 24)\n",
      "\n",
      "Triplets for iteration 50 have been written to ./benign/benign_2/842.txt\n",
      "the # of the triplets: 2\n",
      "Found matching data for leaf node 76:\n",
      "layer1: (618136, 76, 13)\n",
      "\n",
      "layer2: (573257, 618136, 24)\n",
      "\n",
      "Triplets for iteration 51 have been written to ./benign/benign_2/843.txt\n",
      "the # of the triplets: 2\n",
      "Found matching data for leaf node 77:\n",
      "layer1: (272194, 77, 13)\n",
      "\n",
      "layer2: (19498, 272194, 24)\n",
      "\n",
      "Triplets for iteration 52 have been written to ./benign/benign_2/844.txt\n",
      "the # of the triplets: 2\n",
      "Found matching data for leaf node 79:\n",
      "layer1: (1013153, 79, 9)\n",
      "\n",
      "layer2: (949521, 1013153, 24)\n",
      "\n",
      "Triplets for iteration 53 have been written to ./benign/benign_2/845.txt\n",
      "the # of the triplets: 2\n",
      "Found matching data for leaf node 80:\n",
      "layer1: (279417, 80, 7)\n",
      "\n",
      "Found matching data for leaf node 80:\n",
      "layer1: (639689, 80, 7)\n",
      "\n",
      "Triplets for iteration 54 have been written to ./benign/benign_2/846.txt\n",
      "the # of the triplets: 2\n",
      "Found matching data for leaf node 83:\n",
      "layer1: (113197, 83, 3)\n",
      "\n",
      "layer2: (1149805, 113197, 24)\n",
      "\n",
      "Triplets for iteration 55 have been written to ./benign/benign_2/847.txt\n",
      "the # of the triplets: 2\n",
      "Found matching data for leaf node 85:\n",
      "layer1: (1076424, 85, 9)\n",
      "\n",
      "Found matching data for leaf node 86:\n",
      "layer1: (295347, 86, 9)\n",
      "\n",
      "Found matching data for leaf node 88:\n",
      "layer1: (1025026, 88, 3)\n",
      "\n",
      "layer2: (241695, 1025026, 24)\n",
      "\n",
      "Triplets for iteration 58 have been written to ./benign/benign_2/848.txt\n",
      "the # of the triplets: 2\n",
      "Found matching data for leaf node 91:\n",
      "layer1: (927897, 91, 7)\n",
      "\n",
      "Found matching data for leaf node 92:\n",
      "layer1: (545701, 92, 23)\n",
      "\n",
      "Found matching data for leaf node 92:\n",
      "layer1: (545701, 92, 12)\n",
      "\n",
      "Found matching data for leaf node 94:\n",
      "layer1: (272194, 94, 7)\n",
      "\n",
      "layer2: (19498, 272194, 24)\n",
      "\n",
      "Triplets for iteration 61 have been written to ./benign/benign_2/849.txt\n",
      "the # of the triplets: 2\n",
      "Found matching data for leaf node 95:\n",
      "layer1: (581548, 95, 13)\n",
      "\n",
      "Found matching data for leaf node 96:\n",
      "layer1: (187482, 96, 3)\n",
      "\n",
      "Found matching data for leaf node 96:\n",
      "layer1: (187482, 96, 5)\n",
      "\n",
      "Found matching data for leaf node 96:\n",
      "layer1: (187482, 96, 17)\n",
      "\n",
      "Found matching data for leaf node 96:\n",
      "layer1: (187482, 96, 19)\n",
      "\n",
      "Found matching data for leaf node 96:\n",
      "layer1: (187482, 96, 0)\n",
      "\n",
      "Found matching data for leaf node 96:\n",
      "layer1: (187482, 96, 20)\n",
      "\n",
      "Found matching data for leaf node 98:\n",
      "layer1: (272194, 98, 13)\n",
      "\n",
      "layer2: (19498, 272194, 24)\n",
      "\n",
      "Triplets for iteration 64 have been written to ./benign/benign_2/850.txt\n",
      "the # of the triplets: 2\n",
      "Found matching data for leaf node 99:\n",
      "layer1: (444542, 99, 13)\n",
      "\n",
      "layer2: (918633, 444542, 24)\n",
      "\n",
      "Triplets for iteration 65 have been written to ./benign/benign_2/851.txt\n",
      "the # of the triplets: 2\n",
      "Found matching data for leaf node 100:\n",
      "layer1: (1003134, 100, 3)\n",
      "\n",
      "layer2: (677631, 1003134, 24)\n",
      "\n",
      "Triplets for iteration 66 have been written to ./benign/benign_2/852.txt\n",
      "the # of the triplets: 2\n",
      "Found matching data for leaf node 101:\n",
      "layer1: (876053, 101, 3)\n",
      "\n",
      "layer2: (23340, 876053, 24)\n",
      "\n",
      "Triplets for iteration 67 have been written to ./benign/benign_2/853.txt\n",
      "the # of the triplets: 2\n",
      "Found matching data for leaf node 102:\n",
      "layer1: (440212, 102, 13)\n",
      "\n",
      "layer2: (918633, 440212, 24)\n",
      "\n",
      "Triplets for iteration 68 have been written to ./benign/benign_2/854.txt\n",
      "the # of the triplets: 2\n",
      "Found matching data for leaf node 104:\n",
      "layer1: (444542, 104, 13)\n",
      "\n",
      "layer2: (918633, 444542, 24)\n",
      "\n",
      "Triplets for iteration 69 have been written to ./benign/benign_2/855.txt\n",
      "the # of the triplets: 2\n",
      "Found matching data for leaf node 105:\n",
      "layer1: (145379, 105, 19)\n",
      "\n",
      "Found matching data for leaf node 105:\n",
      "layer1: (145379, 105, 3)\n",
      "\n",
      "Found matching data for leaf node 105:\n",
      "layer1: (145379, 105, 22)\n",
      "\n",
      "Found matching data for leaf node 105:\n",
      "layer1: (145379, 105, 5)\n",
      "\n",
      "Found matching data for leaf node 107:\n",
      "layer1: (280074, 107, 3)\n",
      "\n",
      "layer2: (23340, 280074, 24)\n",
      "\n",
      "Triplets for iteration 71 have been written to ./benign/benign_2/856.txt\n",
      "the # of the triplets: 2\n",
      "Found matching data for leaf node 108:\n",
      "layer1: (440212, 108, 13)\n",
      "\n",
      "layer2: (918633, 440212, 24)\n",
      "\n",
      "Triplets for iteration 72 have been written to ./benign/benign_2/857.txt\n",
      "the # of the triplets: 2\n",
      "Found matching data for leaf node 111:\n",
      "layer1: (148442, 111, 7)\n",
      "\n",
      "layer2: (279417, 148442, 24)\n",
      "\n",
      "Triplets for iteration 73 have been written to ./benign/benign_2/858.txt\n",
      "the # of the triplets: 2\n",
      "Found matching data for leaf node 112:\n",
      "layer1: (211018, 112, 9)\n",
      "\n",
      "layer2: (927897, 211018, 24)\n",
      "\n",
      "Triplets for iteration 74 have been written to ./benign/benign_2/859.txt\n",
      "the # of the triplets: 2\n",
      "Found matching data for leaf node 113:\n",
      "layer1: (440212, 113, 3)\n",
      "\n",
      "layer2: (918633, 440212, 24)\n",
      "\n",
      "Triplets for iteration 75 have been written to ./benign/benign_2/860.txt\n",
      "the # of the triplets: 2\n",
      "Found matching data for leaf node 114:\n",
      "layer1: (1003134, 114, 3)\n",
      "\n",
      "layer2: (677631, 1003134, 24)\n",
      "\n",
      "Triplets for iteration 76 have been written to ./benign/benign_2/861.txt\n",
      "the # of the triplets: 2\n",
      "Found matching data for leaf node 116:\n",
      "layer1: (1003134, 116, 3)\n",
      "\n",
      "layer2: (677631, 1003134, 24)\n",
      "\n",
      "Triplets for iteration 77 have been written to ./benign/benign_2/862.txt\n",
      "the # of the triplets: 2\n",
      "Found matching data for leaf node 117:\n",
      "layer1: (1003134, 117, 3)\n",
      "\n",
      "layer2: (677631, 1003134, 24)\n",
      "\n",
      "Triplets for iteration 78 have been written to ./benign/benign_2/863.txt\n",
      "the # of the triplets: 2\n",
      "Found matching data for leaf node 120:\n",
      "layer1: (440212, 120, 13)\n",
      "\n",
      "layer2: (918633, 440212, 24)\n",
      "\n",
      "Triplets for iteration 79 have been written to ./benign/benign_2/864.txt\n",
      "the # of the triplets: 2\n",
      "Found matching data for leaf node 121:\n",
      "layer1: (1013153, 121, 9)\n",
      "\n",
      "layer2: (949521, 1013153, 24)\n",
      "\n",
      "Triplets for iteration 80 have been written to ./benign/benign_2/865.txt\n",
      "the # of the triplets: 2\n",
      "Found matching data for leaf node 122:\n",
      "layer1: (295347, 122, 7)\n",
      "\n",
      "Found matching data for leaf node 124:\n",
      "layer1: (915552, 124, 3)\n",
      "\n",
      "layer2: (264688, 915552, 24)\n",
      "\n",
      "Triplets for iteration 82 have been written to ./benign/benign_2/866.txt\n",
      "the # of the triplets: 2\n",
      "Found matching data for leaf node 126:\n",
      "layer1: (1013153, 126, 9)\n",
      "\n",
      "layer2: (949521, 1013153, 24)\n",
      "\n",
      "Triplets for iteration 83 have been written to ./benign/benign_2/867.txt\n",
      "the # of the triplets: 2\n",
      "Found matching data for leaf node 127:\n",
      "layer1: (280074, 127, 3)\n",
      "\n",
      "layer2: (23340, 280074, 24)\n",
      "\n",
      "Triplets for iteration 84 have been written to ./benign/benign_2/868.txt\n",
      "the # of the triplets: 2\n",
      "Found matching data for leaf node 128:\n",
      "layer1: (589911, 128, 3)\n",
      "\n",
      "Found matching data for leaf node 128:\n",
      "layer1: (589911, 128, 5)\n",
      "\n",
      "Found matching data for leaf node 128:\n",
      "layer1: (589911, 128, 19)\n",
      "\n",
      "Found matching data for leaf node 128:\n",
      "layer1: (589911, 128, 22)\n",
      "\n",
      "Found matching data for leaf node 128:\n",
      "layer1: (589911, 128, 13)\n",
      "\n",
      "Found matching data for leaf node 128:\n",
      "layer1: (589911, 128, 20)\n",
      "\n",
      "Found matching data for leaf node 129:\n",
      "layer1: (1076424, 129, 9)\n",
      "\n",
      "Found matching data for leaf node 129:\n",
      "layer1: (145379, 129, 9)\n",
      "\n",
      "Triplets for iteration 86 have been written to ./benign/benign_2/869.txt\n",
      "the # of the triplets: 2\n",
      "Found matching data for leaf node 130:\n",
      "layer1: (979016, 130, 7)\n",
      "\n",
      "layer2: (1158174, 979016, 24)\n",
      "\n",
      "Triplets for iteration 87 have been written to ./benign/benign_2/870.txt\n",
      "the # of the triplets: 2\n",
      "Found matching data for leaf node 132:\n",
      "layer1: (444542, 132, 13)\n",
      "\n",
      "layer2: (918633, 444542, 24)\n",
      "\n",
      "Triplets for iteration 88 have been written to ./benign/benign_2/871.txt\n",
      "the # of the triplets: 2\n",
      "Found matching data for leaf node 133:\n",
      "layer1: (1003134, 133, 3)\n",
      "\n",
      "layer2: (677631, 1003134, 24)\n",
      "\n",
      "Triplets for iteration 89 have been written to ./benign/benign_2/872.txt\n",
      "the # of the triplets: 2\n",
      "Found matching data for leaf node 134:\n",
      "layer1: (305424, 134, 7)\n",
      "\n",
      "layer2: (573257, 305424, 24)\n",
      "\n",
      "Triplets for iteration 90 have been written to ./benign/benign_2/873.txt\n",
      "the # of the triplets: 2\n",
      "Found matching data for leaf node 135:\n",
      "layer1: (440212, 135, 3)\n",
      "\n",
      "layer2: (918633, 440212, 24)\n",
      "\n",
      "Triplets for iteration 91 have been written to ./benign/benign_2/874.txt\n",
      "the # of the triplets: 2\n"
     ]
    },
    {
     "name": "stdout",
     "output_type": "stream",
     "text": [
      "Found matching data for leaf node 136:\n",
      "layer1: (684176, 136, 3)\n",
      "\n",
      "layer2: (954492, 684176, 24)\n",
      "\n",
      "Triplets for iteration 92 have been written to ./benign/benign_2/875.txt\n",
      "the # of the triplets: 2\n",
      "Found matching data for leaf node 137:\n",
      "layer1: (444542, 137, 13)\n",
      "\n",
      "layer2: (918633, 444542, 24)\n",
      "\n",
      "Triplets for iteration 93 have been written to ./benign/benign_2/876.txt\n",
      "the # of the triplets: 2\n",
      "Found matching data for leaf node 143:\n",
      "layer1: (581548, 143, 7)\n",
      "\n",
      "Found matching data for leaf node 144:\n",
      "layer1: (62762, 144, 3)\n",
      "\n",
      "Found matching data for leaf node 144:\n",
      "layer1: (62762, 144, 20)\n",
      "\n",
      "Found matching data for leaf node 144:\n",
      "layer1: (62762, 144, 19)\n",
      "\n",
      "Found matching data for leaf node 144:\n",
      "layer1: (597595, 144, 3)\n",
      "\n",
      "layer2: (1086819, 597595, 24)\n",
      "\n",
      "Found matching data for leaf node 145:\n",
      "layer1: (280074, 145, 3)\n",
      "\n",
      "layer2: (23340, 280074, 24)\n",
      "\n",
      "Triplets for iteration 96 have been written to ./benign/benign_2/877.txt\n",
      "the # of the triplets: 2\n",
      "Found matching data for leaf node 148:\n",
      "layer1: (440212, 148, 3)\n",
      "\n",
      "layer2: (918633, 440212, 24)\n",
      "\n",
      "Triplets for iteration 97 have been written to ./benign/benign_2/878.txt\n",
      "the # of the triplets: 2\n",
      "Found matching data for leaf node 150:\n",
      "layer1: (789507, 150, 3)\n",
      "\n",
      "layer2: (661121, 789507, 24)\n",
      "\n",
      "Triplets for iteration 98 have been written to ./benign/benign_2/879.txt\n",
      "the # of the triplets: 2\n",
      "Found matching data for leaf node 151:\n",
      "layer1: (444542, 151, 13)\n",
      "\n",
      "layer2: (918633, 444542, 24)\n",
      "\n",
      "Triplets for iteration 99 have been written to ./benign/benign_2/880.txt\n",
      "the # of the triplets: 2\n",
      "Found matching data for leaf node 152:\n",
      "layer1: (954492, 152, 7)\n",
      "\n",
      "Found matching data for leaf node 152:\n",
      "layer1: (367166, 152, 7)\n",
      "\n",
      "Triplets for iteration 100 have been written to ./benign/benign_2/881.txt\n",
      "the # of the triplets: 2\n",
      "Found matching data for leaf node 153:\n",
      "layer1: (215632, 153, 3)\n",
      "\n",
      "layer2: (927897, 215632, 24)\n",
      "\n",
      "Triplets for iteration 101 have been written to ./benign/benign_2/882.txt\n",
      "the # of the triplets: 2\n",
      "Found matching data for leaf node 155:\n",
      "layer1: (589911, 155, 3)\n",
      "\n",
      "Found matching data for leaf node 155:\n",
      "layer1: (589911, 155, 5)\n",
      "\n",
      "Found matching data for leaf node 155:\n",
      "layer1: (589911, 155, 19)\n",
      "\n",
      "Found matching data for leaf node 155:\n",
      "layer1: (589911, 155, 22)\n",
      "\n",
      "Found matching data for leaf node 155:\n",
      "layer1: (589911, 155, 13)\n",
      "\n",
      "Found matching data for leaf node 155:\n",
      "layer1: (589911, 155, 20)\n",
      "\n",
      "Found matching data for leaf node 158:\n",
      "layer1: (1003134, 158, 3)\n",
      "\n",
      "layer2: (677631, 1003134, 24)\n",
      "\n",
      "Triplets for iteration 103 have been written to ./benign/benign_2/883.txt\n",
      "the # of the triplets: 2\n",
      "Found matching data for leaf node 159:\n",
      "layer1: (444542, 159, 3)\n",
      "\n",
      "layer2: (918633, 444542, 24)\n",
      "\n",
      "Triplets for iteration 104 have been written to ./benign/benign_2/884.txt\n",
      "the # of the triplets: 2\n",
      "Found matching data for leaf node 160:\n",
      "layer1: (789081, 160, 3)\n",
      "\n",
      "layer2: (208069, 789081, 24)\n",
      "\n",
      "Triplets for iteration 105 have been written to ./benign/benign_2/885.txt\n",
      "the # of the triplets: 2\n",
      "Found matching data for leaf node 161:\n",
      "layer1: (196635, 161, 9)\n",
      "\n",
      "layer2: (918346, 196635, 24)\n",
      "\n",
      "Triplets for iteration 106 have been written to ./benign/benign_2/886.txt\n",
      "the # of the triplets: 2\n",
      "Found matching data for leaf node 162:\n",
      "layer1: (444542, 162, 13)\n",
      "\n",
      "layer2: (918633, 444542, 24)\n",
      "\n",
      "Triplets for iteration 107 have been written to ./benign/benign_2/887.txt\n",
      "the # of the triplets: 2\n",
      "Found matching data for leaf node 164:\n",
      "layer1: (1013153, 164, 9)\n",
      "\n",
      "layer2: (949521, 1013153, 24)\n",
      "\n",
      "Triplets for iteration 108 have been written to ./benign/benign_2/888.txt\n",
      "the # of the triplets: 2\n",
      "Found matching data for leaf node 165:\n",
      "layer1: (62762, 165, 7)\n",
      "\n",
      "Found matching data for leaf node 168:\n",
      "layer1: (1003134, 168, 3)\n",
      "\n",
      "layer2: (677631, 1003134, 24)\n",
      "\n",
      "Triplets for iteration 110 have been written to ./benign/benign_2/889.txt\n",
      "the # of the triplets: 2\n",
      "Found matching data for leaf node 172:\n",
      "layer1: (218864, 172, 3)\n",
      "\n",
      "layer2: (1111388, 218864, 24)\n",
      "\n",
      "Triplets for iteration 111 have been written to ./benign/benign_2/890.txt\n",
      "the # of the triplets: 2\n",
      "Found matching data for leaf node 173:\n",
      "layer1: (62762, 173, 7)\n",
      "\n",
      "Found matching data for leaf node 178:\n",
      "layer1: (187482, 178, 19)\n",
      "\n",
      "Found matching data for leaf node 179:\n",
      "layer1: (954492, 179, 9)\n",
      "\n",
      "Found matching data for leaf node 179:\n",
      "layer1: (757500, 179, 9)\n",
      "\n",
      "layer2: (954492, 757500, 24)\n",
      "\n",
      "Found matching data for leaf node 180:\n",
      "layer1: (745444, 180, 16)\n",
      "\n",
      "layer2: (927897, 745444, 24)\n",
      "\n",
      "Triplets for iteration 115 have been written to ./benign/benign_2/891.txt\n",
      "the # of the triplets: 2\n",
      "Found matching data for leaf node 181:\n",
      "layer1: (1003134, 181, 3)\n",
      "\n",
      "layer2: (677631, 1003134, 24)\n",
      "\n",
      "Triplets for iteration 116 have been written to ./benign/benign_2/892.txt\n",
      "the # of the triplets: 2\n",
      "Found matching data for leaf node 182:\n",
      "layer1: (1003134, 182, 3)\n",
      "\n",
      "layer2: (677631, 1003134, 24)\n",
      "\n",
      "Triplets for iteration 117 have been written to ./benign/benign_2/893.txt\n",
      "the # of the triplets: 2\n",
      "Found matching data for leaf node 186:\n",
      "layer1: (295347, 186, 7)\n",
      "\n",
      "Found matching data for leaf node 188:\n",
      "layer1: (148442, 188, 7)\n",
      "\n",
      "layer2: (279417, 148442, 24)\n",
      "\n",
      "Triplets for iteration 119 have been written to ./benign/benign_2/894.txt\n",
      "the # of the triplets: 2\n",
      "Found matching data for leaf node 190:\n",
      "layer1: (339437, 190, 9)\n",
      "\n",
      "Found matching data for leaf node 190:\n",
      "layer1: (339437, 190, 11)\n",
      "\n",
      "Found matching data for leaf node 190:\n",
      "layer1: (1050536, 190, 9)\n",
      "\n",
      "Found matching data for leaf node 190:\n",
      "layer1: (1050536, 190, 11)\n",
      "\n",
      "Triplets for iteration 120 have been written to ./benign/benign_2/895.txt\n",
      "the # of the triplets: 2\n",
      "Found matching data for leaf node 192:\n",
      "layer1: (263246, 192, 3)\n",
      "\n",
      "Found matching data for leaf node 192:\n",
      "layer1: (263246, 192, 5)\n",
      "\n",
      "Found matching data for leaf node 192:\n",
      "layer1: (263246, 192, 19)\n",
      "\n",
      "Found matching data for leaf node 192:\n",
      "layer1: (263246, 192, 22)\n",
      "\n",
      "Found matching data for leaf node 192:\n",
      "layer1: (263246, 192, 21)\n",
      "\n",
      "Found matching data for leaf node 192:\n",
      "layer1: (263246, 192, 20)\n",
      "\n",
      "Found matching data for leaf node 193:\n",
      "layer1: (677631, 193, 3)\n",
      "\n",
      "layer2: (1111388, 677631, 24)\n",
      "\n",
      "Triplets for iteration 122 have been written to ./benign/benign_2/896.txt\n",
      "the # of the triplets: 2\n",
      "Found matching data for leaf node 195:\n",
      "layer1: (1076424, 195, 9)\n",
      "\n",
      "Found matching data for leaf node 196:\n",
      "layer1: (1003134, 196, 3)\n",
      "\n",
      "layer2: (677631, 1003134, 24)\n",
      "\n",
      "Triplets for iteration 124 have been written to ./benign/benign_2/897.txt\n",
      "the # of the triplets: 2\n",
      "Found matching data for leaf node 197:\n",
      "layer1: (1003134, 197, 3)\n",
      "\n",
      "layer2: (677631, 1003134, 24)\n",
      "\n",
      "Triplets for iteration 125 have been written to ./benign/benign_2/898.txt\n",
      "the # of the triplets: 2\n",
      "Found matching data for leaf node 200:\n",
      "layer1: (659904, 200, 9)\n",
      "\n",
      "layer2: (145379, 659904, 24)\n",
      "\n",
      "Triplets for iteration 126 have been written to ./benign/benign_2/899.txt\n",
      "the # of the triplets: 2\n",
      "Found matching data for leaf node 201:\n",
      "layer1: (789081, 201, 3)\n",
      "\n",
      "layer2: (208069, 789081, 24)\n",
      "\n",
      "Triplets for iteration 127 have been written to ./benign/benign_2/900.txt\n",
      "the # of the triplets: 2\n",
      "Found matching data for leaf node 206:\n",
      "layer1: (1028649, 206, 3)\n",
      "\n",
      "layer2: (1035455, 1028649, 24)\n",
      "\n",
      "Triplets for iteration 128 have been written to ./benign/benign_2/901.txt\n",
      "the # of the triplets: 2\n",
      "Found matching data for leaf node 207:\n",
      "layer1: (1003134, 207, 3)\n",
      "\n",
      "layer2: (677631, 1003134, 24)\n",
      "\n",
      "Triplets for iteration 129 have been written to ./benign/benign_2/902.txt\n",
      "the # of the triplets: 2\n",
      "Found matching data for leaf node 210:\n",
      "layer1: (339437, 210, 7)\n",
      "\n",
      "Found matching data for leaf node 212:\n",
      "layer1: (469061, 212, 7)\n",
      "\n",
      "Found matching data for leaf node 212:\n",
      "layer1: (954492, 212, 7)\n",
      "\n",
      "Found matching data for leaf node 212:\n",
      "layer1: (552507, 212, 7)\n",
      "\n",
      "Found matching data for leaf node 212:\n",
      "layer1: (367166, 212, 7)\n",
      "\n",
      "Found matching data for leaf node 213:\n",
      "layer1: (1003134, 213, 3)\n",
      "\n",
      "layer2: (677631, 1003134, 24)\n",
      "\n",
      "Triplets for iteration 132 have been written to ./benign/benign_2/903.txt\n",
      "the # of the triplets: 2\n",
      "Found matching data for leaf node 214:\n",
      "layer1: (1028649, 214, 13)\n",
      "\n",
      "layer2: (1035455, 1028649, 24)\n",
      "\n",
      "Triplets for iteration 133 have been written to ./benign/benign_2/904.txt\n",
      "the # of the triplets: 2\n",
      "Found matching data for leaf node 218:\n",
      "layer1: (545701, 218, 12)\n",
      "\n",
      "Found matching data for leaf node 221:\n",
      "layer1: (1003134, 221, 3)\n",
      "\n",
      "layer2: (677631, 1003134, 24)\n",
      "\n",
      "Triplets for iteration 135 have been written to ./benign/benign_2/905.txt\n",
      "the # of the triplets: 2\n",
      "Found matching data for leaf node 222:\n",
      "layer1: (272194, 222, 7)\n",
      "\n",
      "layer2: (19498, 272194, 24)\n",
      "\n",
      "Triplets for iteration 136 have been written to ./benign/benign_2/906.txt\n",
      "the # of the triplets: 2\n"
     ]
    },
    {
     "name": "stdout",
     "output_type": "stream",
     "text": [
      "Found matching data for leaf node 223:\n",
      "layer1: (1146383, 223, 9)\n",
      "\n",
      "layer2: (639689, 1146383, 24)\n",
      "\n",
      "Triplets for iteration 137 have been written to ./benign/benign_2/907.txt\n",
      "the # of the triplets: 2\n",
      "Found matching data for leaf node 224:\n",
      "layer1: (280074, 224, 3)\n",
      "\n",
      "layer2: (23340, 280074, 24)\n",
      "\n",
      "Triplets for iteration 138 have been written to ./benign/benign_2/908.txt\n",
      "the # of the triplets: 2\n",
      "Found matching data for leaf node 225:\n",
      "layer1: (19498, 225, 13)\n",
      "\n",
      "Found matching data for leaf node 228:\n",
      "layer1: (1028649, 228, 3)\n",
      "\n",
      "layer2: (1035455, 1028649, 24)\n",
      "\n",
      "Triplets for iteration 140 have been written to ./benign/benign_2/909.txt\n",
      "the # of the triplets: 2\n",
      "Found matching data for leaf node 229:\n",
      "layer1: (1003134, 229, 3)\n",
      "\n",
      "layer2: (677631, 1003134, 24)\n",
      "\n",
      "Triplets for iteration 141 have been written to ./benign/benign_2/910.txt\n",
      "the # of the triplets: 2\n",
      "Found matching data for leaf node 233:\n",
      "layer1: (444542, 233, 3)\n",
      "\n",
      "layer2: (918633, 444542, 24)\n",
      "\n",
      "Triplets for iteration 142 have been written to ./benign/benign_2/911.txt\n",
      "the # of the triplets: 2\n",
      "Found matching data for leaf node 234:\n",
      "layer1: (272194, 234, 7)\n",
      "\n",
      "layer2: (19498, 272194, 24)\n",
      "\n",
      "Triplets for iteration 143 have been written to ./benign/benign_2/912.txt\n",
      "the # of the triplets: 2\n",
      "Found matching data for leaf node 235:\n",
      "layer1: (1003134, 235, 3)\n",
      "\n",
      "layer2: (677631, 1003134, 24)\n",
      "\n",
      "Triplets for iteration 144 have been written to ./benign/benign_2/913.txt\n",
      "the # of the triplets: 2\n",
      "Found matching data for leaf node 236:\n",
      "layer1: (279417, 236, 2)\n",
      "\n",
      "Found matching data for leaf node 237:\n",
      "layer1: (781820, 237, 7)\n",
      "\n",
      "layer2: (639689, 781820, 24)\n",
      "\n",
      "Triplets for iteration 146 have been written to ./benign/benign_2/914.txt\n",
      "the # of the triplets: 2\n",
      "Found matching data for leaf node 238:\n",
      "layer1: (581548, 238, 7)\n",
      "\n",
      "Found matching data for leaf node 239:\n",
      "layer1: (339437, 239, 7)\n",
      "\n",
      "Found matching data for leaf node 241:\n",
      "layer1: (1003134, 241, 3)\n",
      "\n",
      "layer2: (677631, 1003134, 24)\n",
      "\n",
      "Triplets for iteration 149 have been written to ./benign/benign_2/915.txt\n",
      "the # of the triplets: 2\n",
      "Found matching data for leaf node 242:\n",
      "layer1: (979016, 242, 7)\n",
      "\n",
      "layer2: (1158174, 979016, 24)\n",
      "\n",
      "Triplets for iteration 150 have been written to ./benign/benign_2/916.txt\n",
      "the # of the triplets: 2\n",
      "Found matching data for leaf node 243:\n",
      "layer1: (444542, 243, 13)\n",
      "\n",
      "layer2: (918633, 444542, 24)\n",
      "\n",
      "Triplets for iteration 151 have been written to ./benign/benign_2/917.txt\n",
      "the # of the triplets: 2\n",
      "Found matching data for leaf node 244:\n",
      "layer1: (272194, 244, 2)\n",
      "\n",
      "layer2: (19498, 272194, 24)\n",
      "\n",
      "Triplets for iteration 152 have been written to ./benign/benign_2/918.txt\n",
      "the # of the triplets: 2\n",
      "Found matching data for leaf node 245:\n",
      "layer1: (280074, 245, 3)\n",
      "\n",
      "layer2: (23340, 280074, 24)\n",
      "\n",
      "Triplets for iteration 153 have been written to ./benign/benign_2/919.txt\n",
      "the # of the triplets: 2\n",
      "Found matching data for leaf node 246:\n",
      "layer1: (280074, 246, 3)\n",
      "\n",
      "layer2: (23340, 280074, 24)\n",
      "\n",
      "Triplets for iteration 154 have been written to ./benign/benign_2/920.txt\n",
      "the # of the triplets: 2\n",
      "Found matching data for leaf node 247:\n",
      "layer1: (272194, 247, 2)\n",
      "\n",
      "layer2: (19498, 272194, 24)\n",
      "\n",
      "Triplets for iteration 155 have been written to ./benign/benign_2/921.txt\n",
      "the # of the triplets: 2\n",
      "Found matching data for leaf node 248:\n",
      "layer1: (1013153, 248, 9)\n",
      "\n",
      "layer2: (949521, 1013153, 24)\n",
      "\n",
      "Triplets for iteration 156 have been written to ./benign/benign_2/922.txt\n",
      "the # of the triplets: 2\n",
      "Found matching data for leaf node 250:\n",
      "layer1: (789081, 250, 3)\n",
      "\n",
      "layer2: (208069, 789081, 24)\n",
      "\n",
      "Triplets for iteration 157 have been written to ./benign/benign_2/923.txt\n",
      "the # of the triplets: 2\n",
      "Found matching data for leaf node 254:\n",
      "layer1: (280074, 254, 3)\n",
      "\n",
      "layer2: (23340, 280074, 24)\n",
      "\n",
      "Triplets for iteration 158 have been written to ./benign/benign_2/924.txt\n",
      "the # of the triplets: 2\n",
      "Found matching data for leaf node 255:\n",
      "layer1: (440212, 255, 13)\n",
      "\n",
      "layer2: (918633, 440212, 24)\n",
      "\n",
      "Triplets for iteration 159 have been written to ./benign/benign_2/925.txt\n",
      "the # of the triplets: 2\n",
      "Found matching data for leaf node 256:\n",
      "layer1: (789081, 256, 3)\n",
      "\n",
      "layer2: (208069, 789081, 24)\n",
      "\n",
      "Triplets for iteration 160 have been written to ./benign/benign_2/926.txt\n",
      "the # of the triplets: 2\n",
      "Found matching data for leaf node 257:\n",
      "layer1: (280074, 257, 3)\n",
      "\n",
      "layer2: (23340, 280074, 24)\n",
      "\n",
      "Triplets for iteration 161 have been written to ./benign/benign_2/927.txt\n",
      "the # of the triplets: 2\n",
      "Found matching data for leaf node 260:\n",
      "layer1: (295347, 260, 9)\n",
      "\n",
      "Found matching data for leaf node 260:\n",
      "layer1: (295347, 260, 15)\n",
      "\n",
      "Found matching data for leaf node 260:\n",
      "layer1: (295347, 260, 11)\n",
      "\n",
      "Found matching data for leaf node 261:\n",
      "layer1: (1003134, 261, 3)\n",
      "\n",
      "layer2: (677631, 1003134, 24)\n",
      "\n",
      "Triplets for iteration 163 have been written to ./benign/benign_2/928.txt\n",
      "the # of the triplets: 2\n",
      "Found matching data for leaf node 262:\n",
      "layer1: (789081, 262, 3)\n",
      "\n",
      "layer2: (208069, 789081, 24)\n",
      "\n",
      "Triplets for iteration 164 have been written to ./benign/benign_2/929.txt\n",
      "the # of the triplets: 2\n",
      "Found matching data for leaf node 264:\n",
      "layer1: (440212, 264, 13)\n",
      "\n",
      "layer2: (918633, 440212, 24)\n",
      "\n",
      "Triplets for iteration 165 have been written to ./benign/benign_2/930.txt\n",
      "the # of the triplets: 2\n",
      "Found matching data for leaf node 265:\n",
      "layer1: (789081, 265, 3)\n",
      "\n",
      "layer2: (208069, 789081, 24)\n",
      "\n",
      "Triplets for iteration 166 have been written to ./benign/benign_2/931.txt\n",
      "the # of the triplets: 2\n",
      "Found matching data for leaf node 266:\n",
      "layer1: (1028649, 266, 3)\n",
      "\n",
      "layer2: (1035455, 1028649, 24)\n",
      "\n",
      "Triplets for iteration 167 have been written to ./benign/benign_2/932.txt\n",
      "the # of the triplets: 2\n",
      "Found matching data for leaf node 267:\n",
      "layer1: (639689, 267, 2)\n",
      "\n",
      "Found matching data for leaf node 268:\n",
      "layer1: (79150, 268, 9)\n",
      "\n",
      "layer2: (954492, 79150, 24)\n",
      "\n",
      "Triplets for iteration 169 have been written to ./benign/benign_2/933.txt\n",
      "the # of the triplets: 2\n",
      "Found matching data for leaf node 269:\n",
      "layer1: (667229, 269, 9)\n",
      "\n",
      "layer2: (279417, 667229, 24)\n",
      "\n",
      "Triplets for iteration 170 have been written to ./benign/benign_2/934.txt\n",
      "the # of the triplets: 2\n",
      "Found matching data for leaf node 271:\n",
      "layer1: (1028649, 271, 3)\n",
      "\n",
      "layer2: (1035455, 1028649, 24)\n",
      "\n",
      "Triplets for iteration 171 have been written to ./benign/benign_2/935.txt\n",
      "the # of the triplets: 2\n",
      "Found matching data for leaf node 272:\n",
      "layer1: (789081, 272, 3)\n",
      "\n",
      "layer2: (208069, 789081, 24)\n",
      "\n",
      "Triplets for iteration 172 have been written to ./benign/benign_2/936.txt\n",
      "the # of the triplets: 2\n",
      "Found matching data for leaf node 273:\n",
      "layer1: (589911, 273, 3)\n",
      "\n",
      "Found matching data for leaf node 273:\n",
      "layer1: (589911, 273, 5)\n",
      "\n",
      "Found matching data for leaf node 273:\n",
      "layer1: (589911, 273, 19)\n",
      "\n",
      "Found matching data for leaf node 273:\n",
      "layer1: (589911, 273, 22)\n",
      "\n",
      "Found matching data for leaf node 273:\n",
      "layer1: (589911, 273, 13)\n",
      "\n",
      "Found matching data for leaf node 273:\n",
      "layer1: (589911, 273, 20)\n",
      "\n",
      "Found matching data for leaf node 275:\n",
      "layer1: (1028649, 275, 3)\n",
      "\n",
      "layer2: (1035455, 1028649, 24)\n",
      "\n",
      "Triplets for iteration 174 have been written to ./benign/benign_2/937.txt\n",
      "the # of the triplets: 2\n",
      "Found matching data for leaf node 276:\n",
      "layer1: (392902, 276, 7)\n",
      "\n",
      "layer2: (927897, 392902, 24)\n",
      "\n",
      "Triplets for iteration 175 have been written to ./benign/benign_2/938.txt\n",
      "the # of the triplets: 2\n",
      "Found matching data for leaf node 277:\n",
      "layer1: (789081, 277, 3)\n",
      "\n",
      "layer2: (208069, 789081, 24)\n",
      "\n",
      "Triplets for iteration 176 have been written to ./benign/benign_2/939.txt\n",
      "the # of the triplets: 2\n",
      "Found matching data for leaf node 278:\n",
      "layer1: (779386, 278, 13)\n",
      "\n",
      "layer2: (779835, 779386, 24)\n",
      "\n",
      "Triplets for iteration 177 have been written to ./benign/benign_2/940.txt\n",
      "the # of the triplets: 2\n",
      "Found matching data for leaf node 279:\n",
      "layer1: (635308, 279, 7)\n",
      "\n",
      "layer2: (1142421, 635308, 24)\n",
      "\n",
      "Triplets for iteration 178 have been written to ./benign/benign_2/941.txt\n",
      "the # of the triplets: 2\n",
      "Found matching data for leaf node 280:\n",
      "layer1: (444542, 280, 13)\n",
      "\n",
      "layer2: (918633, 444542, 24)\n",
      "\n",
      "Triplets for iteration 179 have been written to ./benign/benign_2/942.txt\n",
      "the # of the triplets: 2\n",
      "Found matching data for leaf node 281:\n",
      "layer1: (295347, 281, 9)\n",
      "\n",
      "Found matching data for leaf node 283:\n",
      "layer1: (1003134, 283, 3)\n",
      "\n",
      "layer2: (677631, 1003134, 24)\n",
      "\n",
      "Triplets for iteration 181 have been written to ./benign/benign_2/943.txt\n",
      "the # of the triplets: 2\n",
      "Found matching data for leaf node 287:\n",
      "layer1: (667229, 287, 7)\n",
      "\n",
      "layer2: (279417, 667229, 24)\n",
      "\n",
      "Triplets for iteration 182 have been written to ./benign/benign_2/944.txt\n",
      "the # of the triplets: 2\n",
      "Found matching data for leaf node 289:\n",
      "layer1: (444542, 289, 13)\n",
      "\n",
      "layer2: (918633, 444542, 24)\n",
      "\n",
      "Triplets for iteration 183 have been written to ./benign/benign_2/945.txt\n",
      "the # of the triplets: 2\n"
     ]
    },
    {
     "name": "stdout",
     "output_type": "stream",
     "text": [
      "Found matching data for leaf node 291:\n",
      "layer1: (915552, 291, 3)\n",
      "\n",
      "layer2: (264688, 915552, 24)\n",
      "\n",
      "Triplets for iteration 184 have been written to ./benign/benign_2/946.txt\n",
      "the # of the triplets: 2\n",
      "Found matching data for leaf node 292:\n",
      "layer1: (896414, 292, 9)\n",
      "\n",
      "layer2: (639689, 896414, 24)\n",
      "\n",
      "Triplets for iteration 185 have been written to ./benign/benign_2/947.txt\n",
      "the # of the triplets: 2\n",
      "Found matching data for leaf node 293:\n",
      "layer1: (1003134, 293, 3)\n",
      "\n",
      "layer2: (677631, 1003134, 24)\n",
      "\n",
      "Triplets for iteration 186 have been written to ./benign/benign_2/948.txt\n",
      "the # of the triplets: 2\n",
      "Found matching data for leaf node 294:\n",
      "layer1: (280074, 294, 3)\n",
      "\n",
      "layer2: (23340, 280074, 24)\n",
      "\n",
      "Triplets for iteration 187 have been written to ./benign/benign_2/949.txt\n",
      "the # of the triplets: 2\n",
      "Found matching data for leaf node 296:\n",
      "layer1: (280074, 296, 3)\n",
      "\n",
      "layer2: (23340, 280074, 24)\n",
      "\n",
      "Triplets for iteration 188 have been written to ./benign/benign_2/950.txt\n",
      "the # of the triplets: 2\n",
      "Found matching data for leaf node 298:\n",
      "layer1: (949521, 298, 9)\n",
      "\n",
      "layer2: (954492, 949521, 24)\n",
      "\n",
      "Triplets for iteration 189 have been written to ./benign/benign_2/951.txt\n",
      "the # of the triplets: 2\n",
      "Found matching data for leaf node 299:\n",
      "layer1: (444542, 299, 13)\n",
      "\n",
      "layer2: (918633, 444542, 24)\n",
      "\n",
      "Triplets for iteration 190 have been written to ./benign/benign_2/952.txt\n",
      "the # of the triplets: 2\n",
      "Found matching data for leaf node 300:\n",
      "layer1: (440212, 300, 13)\n",
      "\n",
      "layer2: (918633, 440212, 24)\n",
      "\n",
      "Triplets for iteration 191 have been written to ./benign/benign_2/953.txt\n",
      "the # of the triplets: 2\n",
      "Found matching data for leaf node 302:\n",
      "layer1: (1003134, 302, 3)\n",
      "\n",
      "layer2: (677631, 1003134, 24)\n",
      "\n",
      "Triplets for iteration 192 have been written to ./benign/benign_2/954.txt\n",
      "the # of the triplets: 2\n",
      "Found matching data for leaf node 305:\n",
      "layer1: (339437, 305, 9)\n",
      "\n",
      "Found matching data for leaf node 305:\n",
      "layer1: (339437, 305, 11)\n",
      "\n",
      "Found matching data for leaf node 307:\n",
      "layer1: (949521, 307, 9)\n",
      "\n",
      "layer2: (954492, 949521, 24)\n",
      "\n",
      "Triplets for iteration 194 have been written to ./benign/benign_2/955.txt\n",
      "the # of the triplets: 2\n",
      "Found matching data for leaf node 308:\n",
      "layer1: (343069, 308, 7)\n",
      "\n",
      "Found matching data for leaf node 310:\n",
      "layer1: (1003134, 310, 3)\n",
      "\n",
      "layer2: (677631, 1003134, 24)\n",
      "\n",
      "Triplets for iteration 196 have been written to ./benign/benign_2/956.txt\n",
      "the # of the triplets: 2\n",
      "Found matching data for leaf node 311:\n",
      "layer1: (444542, 311, 13)\n",
      "\n",
      "layer2: (918633, 444542, 24)\n",
      "\n",
      "Triplets for iteration 197 have been written to ./benign/benign_2/957.txt\n",
      "the # of the triplets: 2\n",
      "Found matching data for leaf node 312:\n",
      "layer1: (1003134, 312, 3)\n",
      "\n",
      "layer2: (677631, 1003134, 24)\n",
      "\n",
      "Triplets for iteration 198 have been written to ./benign/benign_2/958.txt\n",
      "the # of the triplets: 2\n",
      "Found matching data for leaf node 313:\n",
      "layer1: (444542, 313, 13)\n",
      "\n",
      "layer2: (918633, 444542, 24)\n",
      "\n",
      "Triplets for iteration 199 have been written to ./benign/benign_2/959.txt\n",
      "the # of the triplets: 2\n",
      "Found matching data for leaf node 314:\n",
      "layer1: (295347, 314, 9)\n",
      "\n",
      "Found matching data for leaf node 315:\n",
      "layer1: (1028649, 315, 3)\n",
      "\n",
      "layer2: (1035455, 1028649, 24)\n",
      "\n",
      "Triplets for iteration 201 have been written to ./benign/benign_2/960.txt\n",
      "the # of the triplets: 2\n",
      "Found matching data for leaf node 316:\n",
      "layer1: (1009747, 316, 19)\n",
      "\n",
      "layer2: (639689, 1009747, 24)\n",
      "\n",
      "Triplets for iteration 202 have been written to ./benign/benign_2/961.txt\n",
      "the # of the triplets: 2\n",
      "Found matching data for leaf node 318:\n",
      "layer1: (1028649, 318, 3)\n",
      "\n",
      "layer2: (1035455, 1028649, 24)\n",
      "\n",
      "Triplets for iteration 203 have been written to ./benign/benign_2/962.txt\n",
      "the # of the triplets: 2\n",
      "Found matching data for leaf node 322:\n",
      "layer1: (789081, 322, 3)\n",
      "\n",
      "layer2: (208069, 789081, 24)\n",
      "\n",
      "Triplets for iteration 204 have been written to ./benign/benign_2/963.txt\n",
      "the # of the triplets: 2\n",
      "Found matching data for leaf node 323:\n",
      "layer1: (491945, 323, 9)\n",
      "\n",
      "Found matching data for leaf node 323:\n",
      "layer1: (954492, 323, 9)\n",
      "\n",
      "Found matching data for leaf node 323:\n",
      "layer1: (1168874, 323, 9)\n",
      "\n",
      "Found matching data for leaf node 323:\n",
      "layer1: (367166, 323, 9)\n",
      "\n",
      "Found matching data for leaf node 323:\n",
      "layer1: (427586, 323, 9)\n",
      "\n",
      "Found matching data for leaf node 323:\n",
      "layer1: (79150, 323, 9)\n",
      "\n",
      "layer2: (954492, 79150, 24)\n",
      "\n",
      "Found matching data for leaf node 324:\n",
      "layer1: (979016, 324, 7)\n",
      "\n",
      "layer2: (1158174, 979016, 24)\n",
      "\n",
      "Triplets for iteration 206 have been written to ./benign/benign_2/964.txt\n",
      "the # of the triplets: 2\n",
      "Found matching data for leaf node 326:\n",
      "layer1: (440212, 326, 3)\n",
      "\n",
      "layer2: (918633, 440212, 24)\n",
      "\n",
      "Triplets for iteration 207 have been written to ./benign/benign_2/965.txt\n",
      "the # of the triplets: 2\n",
      "Found matching data for leaf node 328:\n",
      "layer1: (1003134, 328, 3)\n",
      "\n",
      "layer2: (677631, 1003134, 24)\n",
      "\n",
      "Triplets for iteration 208 have been written to ./benign/benign_2/966.txt\n",
      "the # of the triplets: 2\n",
      "Found matching data for leaf node 329:\n",
      "layer1: (789081, 329, 3)\n",
      "\n",
      "layer2: (208069, 789081, 24)\n",
      "\n",
      "Triplets for iteration 209 have been written to ./benign/benign_2/967.txt\n",
      "the # of the triplets: 2\n",
      "Found matching data for leaf node 331:\n",
      "layer1: (793281, 331, 9)\n",
      "\n",
      "layer2: (639689, 793281, 24)\n",
      "\n",
      "Triplets for iteration 210 have been written to ./benign/benign_2/968.txt\n",
      "the # of the triplets: 2\n",
      "Found matching data for leaf node 332:\n",
      "layer1: (272194, 332, 9)\n",
      "\n",
      "layer2: (19498, 272194, 24)\n",
      "\n",
      "Triplets for iteration 211 have been written to ./benign/benign_2/969.txt\n",
      "the # of the triplets: 2\n",
      "Found matching data for leaf node 333:\n",
      "layer1: (564390, 333, 3)\n",
      "\n",
      "layer2: (170475, 564390, 24)\n",
      "\n",
      "Triplets for iteration 212 have been written to ./benign/benign_2/970.txt\n",
      "the # of the triplets: 2\n",
      "Found matching data for leaf node 334:\n",
      "layer1: (639689, 334, 2)\n",
      "\n",
      "Found matching data for leaf node 336:\n",
      "layer1: (940541, 336, 7)\n",
      "\n",
      "layer2: (834175, 940541, 24)\n",
      "\n",
      "Triplets for iteration 214 have been written to ./benign/benign_2/971.txt\n",
      "the # of the triplets: 2\n",
      "Found matching data for leaf node 337:\n",
      "layer1: (444542, 337, 13)\n",
      "\n",
      "layer2: (918633, 444542, 24)\n",
      "\n",
      "Triplets for iteration 215 have been written to ./benign/benign_2/972.txt\n",
      "the # of the triplets: 2\n",
      "Found matching data for leaf node 338:\n",
      "layer1: (280074, 338, 3)\n",
      "\n",
      "layer2: (23340, 280074, 24)\n",
      "\n",
      "Triplets for iteration 216 have been written to ./benign/benign_2/973.txt\n",
      "the # of the triplets: 2\n",
      "Found matching data for leaf node 339:\n",
      "layer1: (280074, 339, 3)\n",
      "\n",
      "layer2: (23340, 280074, 24)\n",
      "\n",
      "Triplets for iteration 217 have been written to ./benign/benign_2/974.txt\n",
      "the # of the triplets: 2\n",
      "Found matching data for leaf node 340:\n",
      "layer1: (444542, 340, 13)\n",
      "\n",
      "layer2: (918633, 444542, 24)\n",
      "\n",
      "Triplets for iteration 218 have been written to ./benign/benign_2/975.txt\n",
      "the # of the triplets: 2\n",
      "Found matching data for leaf node 341:\n",
      "layer1: (1003134, 341, 3)\n",
      "\n",
      "layer2: (677631, 1003134, 24)\n",
      "\n",
      "Triplets for iteration 219 have been written to ./benign/benign_2/976.txt\n",
      "the # of the triplets: 2\n",
      "Found matching data for leaf node 342:\n",
      "layer1: (392902, 342, 7)\n",
      "\n",
      "layer2: (927897, 392902, 24)\n",
      "\n",
      "Triplets for iteration 220 have been written to ./benign/benign_2/977.txt\n",
      "the # of the triplets: 2\n",
      "Found matching data for leaf node 343:\n",
      "layer1: (1003134, 343, 3)\n",
      "\n",
      "layer2: (677631, 1003134, 24)\n",
      "\n",
      "Triplets for iteration 221 have been written to ./benign/benign_2/978.txt\n",
      "the # of the triplets: 2\n",
      "Found matching data for leaf node 344:\n",
      "layer1: (1003134, 344, 3)\n",
      "\n",
      "layer2: (677631, 1003134, 24)\n",
      "\n",
      "Triplets for iteration 222 have been written to ./benign/benign_2/979.txt\n",
      "the # of the triplets: 2\n",
      "Found matching data for leaf node 346:\n",
      "layer1: (440212, 346, 13)\n",
      "\n",
      "layer2: (918633, 440212, 24)\n",
      "\n",
      "Triplets for iteration 223 have been written to ./benign/benign_2/980.txt\n",
      "the # of the triplets: 2\n",
      "Found matching data for leaf node 347:\n",
      "layer1: (272194, 347, 2)\n",
      "\n",
      "layer2: (19498, 272194, 24)\n",
      "\n",
      "Triplets for iteration 224 have been written to ./benign/benign_2/981.txt\n",
      "the # of the triplets: 2\n",
      "Found matching data for leaf node 348:\n",
      "layer1: (295347, 348, 9)\n",
      "\n",
      "Found matching data for leaf node 349:\n",
      "layer1: (1003134, 349, 3)\n",
      "\n",
      "layer2: (677631, 1003134, 24)\n",
      "\n",
      "Triplets for iteration 226 have been written to ./benign/benign_2/982.txt\n",
      "the # of the triplets: 2\n",
      "Found matching data for leaf node 350:\n",
      "layer1: (789081, 350, 3)\n",
      "\n",
      "layer2: (208069, 789081, 24)\n",
      "\n",
      "Triplets for iteration 227 have been written to ./benign/benign_2/983.txt\n",
      "the # of the triplets: 2\n"
     ]
    },
    {
     "name": "stdout",
     "output_type": "stream",
     "text": [
      "Found matching data for leaf node 351:\n",
      "layer1: (793281, 351, 9)\n",
      "\n",
      "layer2: (639689, 793281, 24)\n",
      "\n",
      "Triplets for iteration 228 have been written to ./benign/benign_2/984.txt\n",
      "the # of the triplets: 2\n",
      "Found matching data for leaf node 352:\n",
      "layer1: (480374, 352, 3)\n",
      "\n",
      "layer2: (279417, 480374, 24)\n",
      "\n",
      "Triplets for iteration 229 have been written to ./benign/benign_2/985.txt\n",
      "the # of the triplets: 2\n",
      "Found matching data for leaf node 353:\n",
      "layer1: (280074, 353, 3)\n",
      "\n",
      "layer2: (23340, 280074, 24)\n",
      "\n",
      "Triplets for iteration 230 have been written to ./benign/benign_2/986.txt\n",
      "the # of the triplets: 2\n",
      "Found matching data for leaf node 355:\n",
      "layer1: (1028649, 355, 3)\n",
      "\n",
      "layer2: (1035455, 1028649, 24)\n",
      "\n",
      "Triplets for iteration 231 have been written to ./benign/benign_2/987.txt\n",
      "the # of the triplets: 2\n",
      "Found matching data for leaf node 356:\n",
      "layer1: (1076424, 356, 9)\n",
      "\n",
      "Found matching data for leaf node 359:\n",
      "layer1: (1003134, 359, 3)\n",
      "\n",
      "layer2: (677631, 1003134, 24)\n",
      "\n",
      "Triplets for iteration 233 have been written to ./benign/benign_2/988.txt\n",
      "the # of the triplets: 2\n",
      "Found matching data for leaf node 360:\n",
      "layer1: (440212, 360, 13)\n",
      "\n",
      "layer2: (918633, 440212, 24)\n",
      "\n",
      "Triplets for iteration 234 have been written to ./benign/benign_2/989.txt\n",
      "the # of the triplets: 2\n",
      "Found matching data for leaf node 361:\n",
      "layer1: (252867, 361, 3)\n",
      "\n",
      "layer2: (451722, 252867, 24)\n",
      "\n",
      "Triplets for iteration 235 have been written to ./benign/benign_2/990.txt\n",
      "the # of the triplets: 2\n",
      "Found matching data for leaf node 363:\n",
      "layer1: (444542, 363, 13)\n",
      "\n",
      "layer2: (918633, 444542, 24)\n",
      "\n",
      "Triplets for iteration 236 have been written to ./benign/benign_2/991.txt\n",
      "the # of the triplets: 2\n",
      "Found matching data for leaf node 364:\n",
      "layer1: (618136, 364, 7)\n",
      "\n",
      "layer2: (573257, 618136, 24)\n",
      "\n",
      "Triplets for iteration 237 have been written to ./benign/benign_2/992.txt\n",
      "the # of the triplets: 2\n",
      "Found matching data for leaf node 366:\n",
      "layer1: (272194, 366, 13)\n",
      "\n",
      "layer2: (19498, 272194, 24)\n",
      "\n",
      "Triplets for iteration 238 have been written to ./benign/benign_2/993.txt\n",
      "the # of the triplets: 2\n",
      "Found matching data for leaf node 367:\n",
      "layer1: (252867, 367, 3)\n",
      "\n",
      "layer2: (451722, 252867, 24)\n",
      "\n",
      "Triplets for iteration 239 have been written to ./benign/benign_2/994.txt\n",
      "the # of the triplets: 2\n",
      "Found matching data for leaf node 368:\n",
      "layer1: (979016, 368, 7)\n",
      "\n",
      "layer2: (1158174, 979016, 24)\n",
      "\n",
      "Triplets for iteration 240 have been written to ./benign/benign_2/995.txt\n",
      "the # of the triplets: 2\n",
      "Found matching data for leaf node 370:\n",
      "layer1: (440212, 370, 13)\n",
      "\n",
      "layer2: (918633, 440212, 24)\n",
      "\n",
      "Triplets for iteration 241 have been written to ./benign/benign_2/996.txt\n",
      "the # of the triplets: 2\n",
      "Found matching data for leaf node 371:\n",
      "layer1: (1003134, 371, 3)\n",
      "\n",
      "layer2: (677631, 1003134, 24)\n",
      "\n",
      "Triplets for iteration 242 have been written to ./benign/benign_2/997.txt\n",
      "the # of the triplets: 2\n",
      "Found matching data for leaf node 372:\n",
      "layer1: (1003134, 372, 3)\n",
      "\n",
      "layer2: (677631, 1003134, 24)\n",
      "\n",
      "Triplets for iteration 243 have been written to ./benign/benign_2/998.txt\n",
      "the # of the triplets: 2\n",
      "Found matching data for leaf node 373:\n",
      "layer1: (1003134, 373, 3)\n",
      "\n",
      "layer2: (677631, 1003134, 24)\n",
      "\n",
      "Triplets for iteration 244 have been written to ./benign/benign_2/999.txt\n",
      "the # of the triplets: 2\n",
      "Found matching data for leaf node 374:\n",
      "layer1: (1028649, 374, 3)\n",
      "\n",
      "layer2: (1035455, 1028649, 24)\n",
      "\n",
      "Triplets for iteration 245 have been written to ./benign/benign_2/1000.txt\n",
      "the # of the triplets: 2\n",
      "Found matching data for leaf node 375:\n",
      "layer1: (444542, 375, 13)\n",
      "\n",
      "layer2: (918633, 444542, 24)\n",
      "\n",
      "Triplets for iteration 246 have been written to ./benign/benign_2/1001.txt\n",
      "the # of the triplets: 2\n",
      "Found matching data for leaf node 376:\n",
      "layer1: (1013153, 376, 9)\n",
      "\n",
      "layer2: (949521, 1013153, 24)\n",
      "\n",
      "Triplets for iteration 247 have been written to ./benign/benign_2/1002.txt\n",
      "the # of the triplets: 2\n",
      "Found matching data for leaf node 379:\n",
      "layer1: (1013153, 379, 9)\n",
      "\n",
      "layer2: (949521, 1013153, 24)\n",
      "\n",
      "Triplets for iteration 248 have been written to ./benign/benign_2/1003.txt\n",
      "the # of the triplets: 2\n",
      "Found matching data for leaf node 380:\n",
      "layer1: (766773, 380, 12)\n",
      "\n",
      "Found matching data for leaf node 383:\n",
      "layer1: (1003134, 383, 3)\n",
      "\n",
      "layer2: (677631, 1003134, 24)\n",
      "\n",
      "Triplets for iteration 250 have been written to ./benign/benign_2/1004.txt\n",
      "the # of the triplets: 2\n",
      "Found matching data for leaf node 384:\n",
      "layer1: (1003134, 384, 3)\n",
      "\n",
      "layer2: (677631, 1003134, 24)\n",
      "\n",
      "Triplets for iteration 251 have been written to ./benign/benign_2/1005.txt\n",
      "the # of the triplets: 2\n",
      "Found matching data for leaf node 386:\n",
      "layer1: (480374, 386, 7)\n",
      "\n",
      "layer2: (279417, 480374, 24)\n",
      "\n",
      "Triplets for iteration 252 have been written to ./benign/benign_2/1006.txt\n",
      "the # of the triplets: 2\n",
      "Found matching data for leaf node 387:\n",
      "layer1: (1003134, 387, 3)\n",
      "\n",
      "layer2: (677631, 1003134, 24)\n",
      "\n",
      "Triplets for iteration 253 have been written to ./benign/benign_2/1007.txt\n",
      "the # of the triplets: 2\n",
      "Found matching data for leaf node 389:\n",
      "layer1: (1076424, 389, 9)\n",
      "\n",
      "Found matching data for leaf node 391:\n",
      "layer1: (543320, 391, 7)\n",
      "\n",
      "layer2: (639689, 543320, 24)\n",
      "\n",
      "Triplets for iteration 255 have been written to ./benign/benign_2/1008.txt\n",
      "the # of the triplets: 2\n",
      "Found matching data for leaf node 392:\n",
      "layer1: (272194, 392, 13)\n",
      "\n",
      "layer2: (19498, 272194, 24)\n",
      "\n",
      "Triplets for iteration 256 have been written to ./benign/benign_2/1009.txt\n",
      "the # of the triplets: 2\n",
      "Found matching data for leaf node 395:\n",
      "layer1: (932513, 395, 7)\n",
      "\n",
      "layer2: (279417, 932513, 24)\n",
      "\n",
      "Triplets for iteration 257 have been written to ./benign/benign_2/1010.txt\n",
      "the # of the triplets: 2\n",
      "Found matching data for leaf node 396:\n",
      "layer1: (339437, 396, 7)\n",
      "\n",
      "Found matching data for leaf node 398:\n",
      "layer1: (440212, 398, 13)\n",
      "\n",
      "layer2: (918633, 440212, 24)\n",
      "\n",
      "Triplets for iteration 259 have been written to ./benign/benign_2/1011.txt\n",
      "the # of the triplets: 2\n",
      "Found matching data for leaf node 399:\n",
      "layer1: (1003134, 399, 3)\n",
      "\n",
      "layer2: (677631, 1003134, 24)\n",
      "\n",
      "Triplets for iteration 260 have been written to ./benign/benign_2/1012.txt\n",
      "the # of the triplets: 2\n",
      "Found matching data for leaf node 400:\n",
      "layer1: (1003134, 400, 3)\n",
      "\n",
      "layer2: (677631, 1003134, 24)\n",
      "\n",
      "Triplets for iteration 261 have been written to ./benign/benign_2/1013.txt\n",
      "the # of the triplets: 2\n",
      "Found matching data for leaf node 401:\n",
      "layer1: (1076424, 401, 9)\n",
      "\n",
      "Found matching data for leaf node 401:\n",
      "layer1: (145379, 401, 9)\n",
      "\n",
      "Triplets for iteration 262 have been written to ./benign/benign_2/1014.txt\n",
      "the # of the triplets: 2\n",
      "Found matching data for leaf node 405:\n",
      "layer1: (1138178, 405, 7)\n",
      "\n",
      "layer2: (834175, 1138178, 24)\n",
      "\n",
      "Triplets for iteration 263 have been written to ./benign/benign_2/1015.txt\n",
      "the # of the triplets: 2\n",
      "Found matching data for leaf node 406:\n",
      "layer1: (789081, 406, 3)\n",
      "\n",
      "layer2: (208069, 789081, 24)\n",
      "\n",
      "Triplets for iteration 264 have been written to ./benign/benign_2/1016.txt\n",
      "the # of the triplets: 2\n",
      "Found matching data for leaf node 409:\n",
      "layer1: (1003134, 409, 3)\n",
      "\n",
      "layer2: (677631, 1003134, 24)\n",
      "\n",
      "Triplets for iteration 265 have been written to ./benign/benign_2/1017.txt\n",
      "the # of the triplets: 2\n",
      "Found matching data for leaf node 411:\n",
      "layer1: (979016, 411, 7)\n",
      "\n",
      "layer2: (1158174, 979016, 24)\n",
      "\n",
      "Triplets for iteration 266 have been written to ./benign/benign_2/1018.txt\n",
      "the # of the triplets: 2\n",
      "Found matching data for leaf node 413:\n",
      "layer1: (979016, 413, 7)\n",
      "\n",
      "layer2: (1158174, 979016, 24)\n",
      "\n",
      "Triplets for iteration 267 have been written to ./benign/benign_2/1019.txt\n",
      "the # of the triplets: 2\n",
      "Found matching data for leaf node 414:\n",
      "layer1: (211018, 414, 7)\n",
      "\n",
      "layer2: (927897, 211018, 24)\n",
      "\n",
      "Triplets for iteration 268 have been written to ./benign/benign_2/1020.txt\n",
      "the # of the triplets: 2\n",
      "Found matching data for leaf node 415:\n",
      "layer1: (440212, 415, 3)\n",
      "\n",
      "layer2: (918633, 440212, 24)\n",
      "\n",
      "Triplets for iteration 269 have been written to ./benign/benign_2/1021.txt\n",
      "the # of the triplets: 2\n",
      "Found matching data for leaf node 416:\n",
      "layer1: (280074, 416, 3)\n",
      "\n",
      "layer2: (23340, 280074, 24)\n",
      "\n",
      "Triplets for iteration 270 have been written to ./benign/benign_2/1022.txt\n",
      "the # of the triplets: 2\n",
      "Found matching data for leaf node 417:\n",
      "layer1: (252867, 417, 3)\n",
      "\n",
      "layer2: (451722, 252867, 24)\n",
      "\n",
      "Triplets for iteration 271 have been written to ./benign/benign_2/1023.txt\n",
      "the # of the triplets: 2\n",
      "Found matching data for leaf node 418:\n",
      "layer1: (263246, 418, 7)\n",
      "\n",
      "Found matching data for leaf node 419:\n",
      "layer1: (272194, 419, 7)\n",
      "\n",
      "layer2: (19498, 272194, 24)\n",
      "\n",
      "Triplets for iteration 273 have been written to ./benign/benign_2/1024.txt\n",
      "the # of the triplets: 2\n",
      "Found matching data for leaf node 420:\n",
      "layer1: (1013153, 420, 15)\n",
      "\n",
      "layer2: (949521, 1013153, 24)\n",
      "\n",
      "Triplets for iteration 274 have been written to ./benign/benign_2/1025.txt\n",
      "the # of the triplets: 2\n",
      "Found matching data for leaf node 421:\n",
      "layer1: (1003134, 421, 3)\n",
      "\n",
      "layer2: (677631, 1003134, 24)\n",
      "\n",
      "Triplets for iteration 275 have been written to ./benign/benign_2/1026.txt\n",
      "the # of the triplets: 2\n"
     ]
    },
    {
     "name": "stdout",
     "output_type": "stream",
     "text": [
      "Found matching data for leaf node 422:\n",
      "layer1: (280074, 422, 3)\n",
      "\n",
      "layer2: (23340, 280074, 24)\n",
      "\n",
      "Triplets for iteration 276 have been written to ./benign/benign_2/1027.txt\n",
      "the # of the triplets: 2\n",
      "Found matching data for leaf node 424:\n",
      "layer1: (440212, 424, 13)\n",
      "\n",
      "layer2: (918633, 440212, 24)\n",
      "\n",
      "Triplets for iteration 277 have been written to ./benign/benign_2/1028.txt\n",
      "the # of the triplets: 2\n",
      "Found matching data for leaf node 425:\n",
      "layer1: (252867, 425, 3)\n",
      "\n",
      "layer2: (451722, 252867, 24)\n",
      "\n",
      "Triplets for iteration 278 have been written to ./benign/benign_2/1029.txt\n",
      "the # of the triplets: 2\n",
      "Found matching data for leaf node 426:\n",
      "layer1: (280074, 426, 3)\n",
      "\n",
      "layer2: (23340, 280074, 24)\n",
      "\n",
      "Triplets for iteration 279 have been written to ./benign/benign_2/1030.txt\n",
      "the # of the triplets: 2\n",
      "Found matching data for leaf node 427:\n",
      "layer1: (979016, 427, 7)\n",
      "\n",
      "layer2: (1158174, 979016, 24)\n",
      "\n",
      "Triplets for iteration 280 have been written to ./benign/benign_2/1031.txt\n",
      "the # of the triplets: 2\n",
      "Found matching data for leaf node 429:\n",
      "layer1: (1013153, 429, 9)\n",
      "\n",
      "layer2: (949521, 1013153, 24)\n",
      "\n",
      "Triplets for iteration 281 have been written to ./benign/benign_2/1032.txt\n",
      "the # of the triplets: 2\n",
      "Found matching data for leaf node 430:\n",
      "layer1: (1076424, 430, 9)\n",
      "\n",
      "Found matching data for leaf node 430:\n",
      "layer1: (145379, 430, 9)\n",
      "\n",
      "Triplets for iteration 282 have been written to ./benign/benign_2/1033.txt\n",
      "the # of the triplets: 2\n",
      "Found matching data for leaf node 431:\n",
      "layer1: (295347, 431, 7)\n",
      "\n",
      "Found matching data for leaf node 432:\n",
      "layer1: (339437, 432, 9)\n",
      "\n",
      "Found matching data for leaf node 432:\n",
      "layer1: (339437, 432, 15)\n",
      "\n",
      "Found matching data for leaf node 432:\n",
      "layer1: (339437, 432, 11)\n",
      "\n",
      "Found matching data for leaf node 435:\n",
      "layer1: (212770, 435, 7)\n",
      "\n",
      "layer2: (279417, 212770, 24)\n",
      "\n",
      "Triplets for iteration 285 have been written to ./benign/benign_2/1034.txt\n",
      "the # of the triplets: 2\n",
      "Found matching data for leaf node 436:\n",
      "layer1: (444542, 436, 13)\n",
      "\n",
      "layer2: (918633, 444542, 24)\n",
      "\n",
      "Triplets for iteration 286 have been written to ./benign/benign_2/1035.txt\n",
      "the # of the triplets: 2\n",
      "Found matching data for leaf node 437:\n",
      "layer1: (440212, 437, 13)\n",
      "\n",
      "layer2: (918633, 440212, 24)\n",
      "\n",
      "Triplets for iteration 287 have been written to ./benign/benign_2/1036.txt\n",
      "the # of the triplets: 2\n",
      "Found matching data for leaf node 439:\n",
      "layer1: (789081, 439, 3)\n",
      "\n",
      "layer2: (208069, 789081, 24)\n",
      "\n",
      "Triplets for iteration 288 have been written to ./benign/benign_2/1037.txt\n",
      "the # of the triplets: 2\n",
      "Found matching data for leaf node 441:\n",
      "layer1: (444542, 441, 3)\n",
      "\n",
      "layer2: (918633, 444542, 24)\n",
      "\n",
      "Triplets for iteration 289 have been written to ./benign/benign_2/1038.txt\n",
      "the # of the triplets: 2\n",
      "Found matching data for leaf node 442:\n",
      "layer1: (1086819, 442, 3)\n",
      "\n",
      "layer2: (954492, 1086819, 24)\n",
      "\n",
      "Triplets for iteration 290 have been written to ./benign/benign_2/1039.txt\n",
      "the # of the triplets: 2\n",
      "Found matching data for leaf node 443:\n",
      "layer1: (1003134, 443, 3)\n",
      "\n",
      "layer2: (677631, 1003134, 24)\n",
      "\n",
      "Triplets for iteration 291 have been written to ./benign/benign_2/1040.txt\n",
      "the # of the triplets: 2\n",
      "Found matching data for leaf node 444:\n",
      "layer1: (145379, 444, 19)\n",
      "\n",
      "Found matching data for leaf node 444:\n",
      "layer1: (145379, 444, 3)\n",
      "\n",
      "Found matching data for leaf node 444:\n",
      "layer1: (145379, 444, 22)\n",
      "\n",
      "Found matching data for leaf node 444:\n",
      "layer1: (145379, 444, 5)\n",
      "\n",
      "Found matching data for leaf node 445:\n",
      "layer1: (779386, 445, 7)\n",
      "\n",
      "layer2: (779835, 779386, 24)\n",
      "\n",
      "Triplets for iteration 293 have been written to ./benign/benign_2/1041.txt\n",
      "the # of the triplets: 2\n",
      "Found matching data for leaf node 447:\n",
      "layer1: (1111250, 447, 7)\n",
      "\n",
      "layer2: (927897, 1111250, 24)\n",
      "\n",
      "Triplets for iteration 294 have been written to ./benign/benign_2/1042.txt\n",
      "the # of the triplets: 2\n",
      "Found matching data for leaf node 449:\n",
      "layer1: (480374, 449, 11)\n",
      "\n",
      "layer2: (279417, 480374, 24)\n",
      "\n",
      "Triplets for iteration 295 have been written to ./benign/benign_2/1043.txt\n",
      "the # of the triplets: 2\n",
      "Found matching data for leaf node 450:\n",
      "layer1: (272194, 450, 13)\n",
      "\n",
      "layer2: (19498, 272194, 24)\n",
      "\n",
      "Triplets for iteration 296 have been written to ./benign/benign_2/1044.txt\n",
      "the # of the triplets: 2\n",
      "Found matching data for leaf node 451:\n",
      "layer1: (280074, 451, 3)\n",
      "\n",
      "layer2: (23340, 280074, 24)\n",
      "\n",
      "Triplets for iteration 297 have been written to ./benign/benign_2/1045.txt\n",
      "the # of the triplets: 2\n",
      "Found matching data for leaf node 453:\n",
      "layer1: (915552, 453, 9)\n",
      "\n",
      "layer2: (264688, 915552, 24)\n",
      "\n",
      "Triplets for iteration 298 have been written to ./benign/benign_2/1046.txt\n",
      "the # of the triplets: 2\n",
      "Found matching data for leaf node 458:\n",
      "layer1: (979016, 458, 7)\n",
      "\n",
      "layer2: (1158174, 979016, 24)\n",
      "\n",
      "Triplets for iteration 299 have been written to ./benign/benign_2/1047.txt\n",
      "the # of the triplets: 2\n"
     ]
    }
   ],
   "source": [
    "def make_triplet(new_data, target_leaf_node, triplet):\n",
    "#     count = 0\n",
    "    count_match = 0\n",
    "\n",
    "    for source, destination, relation in new_data:\n",
    "        if destination == target_leaf_node:\n",
    "            count_match += 1\n",
    "            \n",
    "            print(f\"Found matching data for leaf node {target_leaf_node}:\")\n",
    "            print(f\"layer1: ({source}, {destination}, {relation})\\n\")\n",
    "\n",
    "            count_rel = 0\n",
    "            for r in relation_dict[source, destination]:\n",
    "                triplet.add((source, destination, r))\n",
    "                break\n",
    "\n",
    "            for src, dest, rel in new_data:\n",
    "                if dest == source:\n",
    "                    print(f\"layer2: ({src}, {dest}, {rel})\\n\")\n",
    "                    count_rel = 0\n",
    "                    for r in relation_dict[src, dest]:\n",
    "                        triplet.add((src, dest, r))\n",
    "                        return\n",
    "#             if len(triplet) == 1:\n",
    "\n",
    "    \n",
    "temp_new_data = list(new_data)\n",
    "num = 800\n",
    "\n",
    "\n",
    "for i in tqdm(range(300)):\n",
    "    target_leaf_node = leaf_nodes[i]\n",
    "    current_triplet = set()  \n",
    "    \n",
    "    make_triplet(temp_new_data, target_leaf_node, current_triplet)\n",
    "    if len(current_triplet) != 2: continue\n",
    "    \n",
    "    output_file = f\"./benign/benign_2/{num}.txt\" \n",
    "    num += 1\n",
    "    with open(output_file, 'w') as f:\n",
    "        for t in current_triplet:\n",
    "            f.write(f\"{t[0]} {t[1]} {t[2]}\\n\")\n",
    "\n",
    "    print(f\"Triplets for iteration {i} have been written to\", output_file)\n",
    "    print(f\"the # of the triplets: {len(current_triplet)}\")\n",
    "    \n",
    "    if num == 999: break"
   ]
  },
  {
   "cell_type": "code",
   "execution_count": 29,
   "id": "f976399e",
   "metadata": {
    "scrolled": true
   },
   "outputs": [
    {
     "name": "stdout",
     "output_type": "stream",
     "text": [
      "Found matching data for leaf node 0:\n",
      "Source: 1028649, Destination: 0, Relation: 13\n",
      "layer1: (1028649, 0, 13)\n",
      "1028649\n",
      "layer2: (1035455, 1028649, 24)\n",
      "\n",
      "Found matching data for leaf node 0:\n",
      "Source: 1028649, Destination: 0, Relation: 3\n",
      "layer1: (1028649, 0, 3)\n",
      "1028649\n",
      "layer2: (1035455, 1028649, 24)\n",
      "\n",
      "Found matching data for leaf node 0:\n",
      "Source: 1028649, Destination: 0, Relation: 5\n",
      "layer1: (1028649, 0, 5)\n",
      "1028649\n",
      "layer2: (1035455, 1028649, 24)\n",
      "\n",
      "Found matching data for leaf node 0:\n",
      "Source: 1028649, Destination: 0, Relation: 17\n",
      "layer1: (1028649, 0, 17)\n",
      "1028649\n",
      "layer2: (1035455, 1028649, 24)\n",
      "\n",
      "Found matching data for leaf node 0:\n",
      "Source: 1028649, Destination: 0, Relation: 8\n",
      "layer1: (1028649, 0, 8)\n",
      "1028649\n",
      "layer2: (1035455, 1028649, 24)\n",
      "\n",
      "Found matching data for leaf node 0:\n",
      "Source: 1028649, Destination: 0, Relation: 19\n",
      "layer1: (1028649, 0, 19)\n",
      "1028649\n",
      "layer2: (1035455, 1028649, 24)\n",
      "\n",
      "Found matching data for leaf node 0:\n",
      "Source: 62762, Destination: 0, Relation: 3\n",
      "layer1: (62762, 0, 3)\n",
      "62762\n",
      "Found matching data for leaf node 0:\n",
      "Source: 62762, Destination: 0, Relation: 5\n",
      "layer1: (62762, 0, 5)\n",
      "62762\n",
      "Found matching data for leaf node 0:\n",
      "Source: 62762, Destination: 0, Relation: 19\n",
      "layer1: (62762, 0, 19)\n",
      "62762\n",
      "Found matching data for leaf node 0:\n",
      "Source: 62762, Destination: 0, Relation: 22\n",
      "layer1: (62762, 0, 22)\n",
      "62762\n",
      "Found matching data for leaf node 0:\n",
      "Source: 62762, Destination: 0, Relation: 13\n",
      "layer1: (62762, 0, 13)\n",
      "62762\n",
      "Found matching data for leaf node 0:\n",
      "Source: 62762, Destination: 0, Relation: 20\n",
      "layer1: (62762, 0, 20)\n",
      "62762\n",
      "there're :12 results\n"
     ]
    }
   ],
   "source": [
    "target_leaf_node = leaf_nodes[0]\n",
    "count = 0\n",
    "count_match = 0\n",
    "\n",
    "for source, destination, relation in new_data:\n",
    "    if destination == target_leaf_node:\n",
    "        count_match += 1\n",
    "        print(f\"Found matching data for leaf node {target_leaf_node}:\")\n",
    "        print(f\"Source: {source}, Destination: {destination}, Relation: {relation}\")\n",
    "        print(f\"layer1: {new_data[count]}\")\n",
    "        \n",
    "        # Find one layer of source nodes for the current leaf node\n",
    "#         layer1_sources = inner_neighbor_nodes.get(source, set())\n",
    "        layer1_source = source\n",
    "        print(layer1_source)\n",
    "        \n",
    "        for src, dest, rel in new_data:\n",
    "            if dest == layer1_source:\n",
    "                print(f\"layer2: ({src}, {dest}, {rel})\\n\")\n",
    "\n",
    "    count += 1\n",
    "    \n",
    "print(f\"there're :{count_match} results\")\n"
   ]
  },
  {
   "cell_type": "code",
   "execution_count": null,
   "id": "e02a1a08",
   "metadata": {
    "scrolled": true
   },
   "outputs": [],
   "source": []
  },
  {
   "cell_type": "code",
   "execution_count": 75,
   "id": "3c2064b9",
   "metadata": {},
   "outputs": [
    {
     "name": "stdout",
     "output_type": "stream",
     "text": [
      "[(1, 2), (1, 2, 3)]\n"
     ]
    }
   ],
   "source": [
    "triplet = list()\n",
    "triplet.append((1,2))\n",
    "triplet.append((1,2,3))\n",
    "print(triplet)"
   ]
  },
  {
   "cell_type": "markdown",
   "id": "eb8fff8a",
   "metadata": {},
   "source": [
    "### benign_4"
   ]
  },
  {
   "cell_type": "code",
   "execution_count": 46,
   "id": "c5ebb5f6",
   "metadata": {
    "scrolled": true
   },
   "outputs": [
    {
     "data": {
      "application/vnd.jupyter.widget-view+json": {
       "model_id": "8bd7faca24f5427194e330f1eec525f3",
       "version_major": 2,
       "version_minor": 0
      },
      "text/plain": [
       "  0%|          | 0/4949305 [00:00<?, ?it/s]"
      ]
     },
     "metadata": {},
     "output_type": "display_data"
    },
    {
     "name": "stdout",
     "output_type": "stream",
     "text": [
      "Found matching data for leaf node 0:\n",
      "Source: 1028649, Destination: 0, Relation: 13\n",
      "layer1_source is: 1028649\n",
      "# of the neighbor of layer1 source: 23362\n",
      "[262146, 655367, 786452, 393236, 786454, 28, 1048605, 31]\n",
      "8\n"
     ]
    },
    {
     "data": {
      "application/vnd.jupyter.widget-view+json": {
       "model_id": "97a5b00d0c3f443c842c941d23666dc3",
       "version_major": 2,
       "version_minor": 0
      },
      "text/plain": [
       "  0%|          | 0/4949305 [00:00<?, ?it/s]"
      ]
     },
     "metadata": {},
     "output_type": "display_data"
    },
    {
     "name": "stdout",
     "output_type": "stream",
     "text": [
      "original layer2: (1035455, 1028649, 24)\n",
      "# of triplets = 32\n",
      " DONE!!\n",
      "\n",
      "Triplets for iteration 0 have been written to ./benign/benign_4/0.txt\n",
      "the # of the triplets: 32\n",
      "{(1035455, 595218, 3), (1028649, 262146, 3), (1035455, 1149594, 9), (1035455, 796675, 11), (1035455, 84499, 9), (1035455, 245409, 9), (1028649, 0, 13), (1035455, 950174, 9), (1035455, 801183, 7), (1028649, 0, 3), (1035455, 874773, 9), (1035455, 322974, 7), (1035455, 1017875, 5), (1035455, 601887, 9), (1035455, 977041, 9), (1028649, 0, 19), (1035455, 601887, 11), (1035455, 391700, 7), (1035455, 286477, 9), (1035455, 52633, 7), (1028649, 0, 17), (1035455, 1017875, 19), (1035455, 963464, 7), (1028649, 0, 5), (1035455, 1017875, 0), (1028649, 655367, 0), (1035455, 950174, 11), (1035455, 1017875, 3), (1035455, 595218, 19), (1035455, 1028649, 24), (1028649, 0, 8), (1035455, 717221, 11)}\n"
     ]
    },
    {
     "data": {
      "application/vnd.jupyter.widget-view+json": {
       "model_id": "aaacbc8ed6fe4b438d034f03a2b70167",
       "version_major": 2,
       "version_minor": 0
      },
      "text/plain": [
       "  0%|          | 0/4949305 [00:00<?, ?it/s]"
      ]
     },
     "metadata": {},
     "output_type": "display_data"
    },
    {
     "name": "stdout",
     "output_type": "stream",
     "text": [
      "Found matching data for leaf node 1:\n",
      "Source: 211018, Destination: 1, Relation: 9\n",
      "layer1_source is: 211018\n",
      "# of the neighbor of layer1 source: 12863\n",
      "[950275, 819205, 655368, 950282, 491532, 622605, 655373, 425997]\n",
      "8\n"
     ]
    },
    {
     "data": {
      "application/vnd.jupyter.widget-view+json": {
       "model_id": "f5934411998140fb9b86d7d1f376c8bc",
       "version_major": 2,
       "version_minor": 0
      },
      "text/plain": [
       "  0%|          | 0/4949305 [00:00<?, ?it/s]"
      ]
     },
     "metadata": {},
     "output_type": "display_data"
    },
    {
     "name": "stdout",
     "output_type": "stream",
     "text": [
      "original layer2: (927897, 211018, 24)\n",
      "# of triplets = 32\n",
      " DONE!!\n",
      "\n",
      "Triplets for iteration 1 have been written to ./benign/benign_4/1.txt\n",
      "the # of the triplets: 32\n",
      "{(927897, 131134, 11), (927897, 720922, 7), (927897, 720968, 7), (927897, 229456, 9), (211018, 622605, 7), (211018, 491532, 9), (927897, 983098, 7), (211018, 1, 9), (927897, 622599, 7), (927897, 1081410, 9), (927897, 131119, 11), (927897, 1015840, 7), (211018, 950282, 7), (211018, 655368, 9), (927897, 1081410, 11), (927897, 131119, 9), (927897, 91, 7), (927897, 589917, 7), (927897, 426002, 7), (927897, 1146956, 11), (211018, 655373, 9), (927897, 229379, 7), (211018, 950275, 9), (927897, 229456, 11), (927897, 211018, 24), (927897, 1146956, 9), (927897, 360540, 7), (211018, 819205, 7), (927897, 131134, 9), (927897, 131164, 7), (927897, 1114129, 7), (927897, 1146910, 7)}\n"
     ]
    },
    {
     "data": {
      "application/vnd.jupyter.widget-view+json": {
       "model_id": "2a67a9bc4b5f4046a1d403f53b0ffac3",
       "version_major": 2,
       "version_minor": 0
      },
      "text/plain": [
       "  0%|          | 0/4949305 [00:00<?, ?it/s]"
      ]
     },
     "metadata": {},
     "output_type": "display_data"
    },
    {
     "name": "stdout",
     "output_type": "stream",
     "text": [
      "Found matching data for leaf node 5:\n",
      "Source: 280074, Destination: 5, Relation: 3\n",
      "layer1_source is: 280074\n",
      "# of the neighbor of layer1 source: 52002\n",
      "[524292, 5, 524294, 786440, 262159, 131092, 524311, 24]\n",
      "8\n"
     ]
    },
    {
     "data": {
      "application/vnd.jupyter.widget-view+json": {
       "model_id": "68bbf44e457e41af9652d13be38c565e",
       "version_major": 2,
       "version_minor": 0
      },
      "text/plain": [
       "  0%|          | 0/4949305 [00:00<?, ?it/s]"
      ]
     },
     "metadata": {},
     "output_type": "display_data"
    },
    {
     "name": "stdout",
     "output_type": "stream",
     "text": [
      "original layer2: (23340, 280074, 24)\n",
      "# of triplets = 32\n",
      " DONE!!\n",
      "\n",
      "Triplets for iteration 2 have been written to ./benign/benign_4/2.txt\n",
      "the # of the triplets: 32\n",
      "{(280074, 524292, 3), (23340, 1081368, 13), (23340, 589850, 3), (23340, 491552, 5), (280074, 524294, 3), (23340, 98314, 15), (280074, 5, 3), (23340, 753699, 15), (280074, 262159, 3), (23340, 98314, 9), (280074, 1048578, 3), (23340, 327716, 7), (23340, 98314, 11), (23340, 753699, 11), (23340, 983090, 5), (23340, 280074, 24), (23340, 819227, 15), (23340, 983090, 4), (23340, 983090, 17), (23340, 491552, 8), (280074, 786440, 3), (280074, 131092, 13), (23340, 983090, 1), (23340, 786432, 19), (23340, 819227, 11), (23340, 622605, 7), (23340, 983090, 3), (23340, 491552, 3), (23340, 819227, 9), (23340, 426000, 7), (280074, 524311, 3), (23340, 491552, 19)}\n"
     ]
    },
    {
     "data": {
      "application/vnd.jupyter.widget-view+json": {
       "model_id": "aa196c0aa3ca408d9990eee4c3934147",
       "version_major": 2,
       "version_minor": 0
      },
      "text/plain": [
       "  0%|          | 0/4949305 [00:00<?, ?it/s]"
      ]
     },
     "metadata": {},
     "output_type": "display_data"
    },
    {
     "name": "stdout",
     "output_type": "stream",
     "text": [
      "Found matching data for leaf node 6:\n",
      "Source: 793281, Destination: 6, Relation: 7\n",
      "layer1_source is: 793281\n",
      "# of the neighbor of layer1 source: 3708\n",
      "[278534, 475143, 483335, 6, 933899, 565263, 1032208, 1064977]\n",
      "8\n"
     ]
    },
    {
     "data": {
      "application/vnd.jupyter.widget-view+json": {
       "model_id": "a72073cf9b804e83875379ed17461828",
       "version_major": 2,
       "version_minor": 0
      },
      "text/plain": [
       "  0%|          | 0/4949305 [00:00<?, ?it/s]"
      ]
     },
     "metadata": {},
     "output_type": "display_data"
    },
    {
     "name": "stdout",
     "output_type": "stream",
     "text": [
      "original layer2: (639689, 793281, 24)\n",
      "# of triplets = 32\n",
      " DONE!!\n",
      "\n",
      "Triplets for iteration 3 have been written to ./benign/benign_4/3.txt\n",
      "the # of the triplets: 32\n",
      "{(639689, 793281, 24), (639689, 491568, 2), (639689, 622642, 9), (639689, 950302, 9), (639689, 884807, 7), (793281, 278534, 7), (793281, 6, 7), (639689, 622642, 11), (639689, 950302, 11), (639689, 393269, 2), (639689, 426023, 2), (793281, 475143, 11), (639689, 1048581, 2), (639689, 655420, 11), (639689, 950302, 6), (639689, 294973, 7), (639689, 622642, 15), (639689, 131089, 7), (639689, 1114142, 7), (793281, 475143, 9), (639689, 98367, 9), (639689, 655420, 9), (639689, 655420, 6), (639689, 557068, 9), (639689, 720953, 7), (639689, 786443, 3), (639689, 688203, 9), (793281, 933899, 9), (793281, 778241, 9), (793281, 778241, 11), (793281, 483335, 7), (639689, 327686, 2)}\n"
     ]
    },
    {
     "data": {
      "application/vnd.jupyter.widget-view+json": {
       "model_id": "12bedab46dfa49ebb4486e647ab4e50a",
       "version_major": 2,
       "version_minor": 0
      },
      "text/plain": [
       "  0%|          | 0/4949305 [00:00<?, ?it/s]"
      ]
     },
     "metadata": {},
     "output_type": "display_data"
    },
    {
     "name": "stdout",
     "output_type": "stream",
     "text": [
      "Found matching data for leaf node 7:\n",
      "Source: 1050536, Destination: 7, Relation: 7\n",
      "layer1_source is: 1050536\n",
      "# of the neighbor of layer1 source: 2189\n",
      "[7, 630792, 786443, 557068, 892941, 1105937, 909341, 1040420]\n",
      "8\n"
     ]
    },
    {
     "data": {
      "application/vnd.jupyter.widget-view+json": {
       "model_id": "91100215946049ac8597ec7fac28bc43",
       "version_major": 2,
       "version_minor": 0
      },
      "text/plain": [
       "  0%|          | 0/4949305 [00:00<?, ?it/s]"
      ]
     },
     "metadata": {},
     "output_type": "display_data"
    },
    {
     "name": "stdout",
     "output_type": "stream",
     "text": [
      "Triplets for iteration 4 have been written to ./benign/benign_4/4.txt\n",
      "the # of the triplets: 8\n",
      "{(1050536, 557068, 9), (1050536, 892941, 11), (1050536, 630792, 11), (1050536, 548868, 7), (1050536, 786443, 3), (1050536, 630792, 9), (1050536, 892941, 9), (1050536, 7, 7)}\n"
     ]
    },
    {
     "data": {
      "application/vnd.jupyter.widget-view+json": {
       "model_id": "2b40aca0a5b14228b7940234f5e1e379",
       "version_major": 2,
       "version_minor": 0
      },
      "text/plain": [
       "  0%|          | 0/4949305 [00:00<?, ?it/s]"
      ]
     },
     "metadata": {},
     "output_type": "display_data"
    },
    {
     "name": "stdout",
     "output_type": "stream",
     "text": [
      "Found matching data for leaf node 8:\n",
      "Source: 272194, Destination: 8, Relation: 2\n",
      "layer1_source is: 272194\n",
      "# of the neighbor of layer1 source: 73949\n",
      "[393219, 655366, 393223, 1048584, 262151, 262154, 8, 393227]\n",
      "8\n"
     ]
    },
    {
     "data": {
      "application/vnd.jupyter.widget-view+json": {
       "model_id": "5e339bbee41743b18a64f87a9e76269f",
       "version_major": 2,
       "version_minor": 0
      },
      "text/plain": [
       "  0%|          | 0/4949305 [00:00<?, ?it/s]"
      ]
     },
     "metadata": {},
     "output_type": "display_data"
    },
    {
     "name": "stdout",
     "output_type": "stream",
     "text": [
      "original layer2: (19498, 272194, 24)\n",
      "# of triplets = 32\n",
      " DONE!!\n",
      "\n",
      "Triplets for iteration 5 have been written to ./benign/benign_4/5.txt\n",
      "the # of the triplets: 32\n",
      "{(19498, 65613, 19), (19498, 852007, 7), (272194, 131072, 3), (19498, 1114179, 7), (19498, 294929, 7), (19498, 262198, 7), (19498, 819248, 7), (19498, 819258, 7), (19498, 98387, 7), (19498, 589889, 9), (19498, 131165, 7), (272194, 131072, 13), (272194, 655366, 13), (19498, 272194, 24), (19498, 59, 7), (19498, 196698, 7), (19498, 1081434, 7), (19498, 524363, 7), (19498, 196661, 7), (19498, 196664, 7), (19498, 524351, 7), (272194, 393219, 7), (272194, 8, 2), (19498, 65613, 13), (19498, 622652, 7), (19498, 393311, 7), (272194, 655366, 19), (19498, 65613, 3), (272194, 131072, 19), (19498, 1114116, 7), (272194, 655366, 3), (19498, 819211, 7)}\n"
     ]
    },
    {
     "data": {
      "application/vnd.jupyter.widget-view+json": {
       "model_id": "a99a417c87b349aabdfce7b26fcc3313",
       "version_major": 2,
       "version_minor": 0
      },
      "text/plain": [
       "  0%|          | 0/4949305 [00:00<?, ?it/s]"
      ]
     },
     "metadata": {},
     "output_type": "display_data"
    },
    {
     "name": "stdout",
     "output_type": "stream",
     "text": [
      "Found matching data for leaf node 12:\n",
      "Source: 1013153, Destination: 12, Relation: 9\n",
      "layer1_source is: 1013153\n",
      "# of the neighbor of layer1 source: 34767\n",
      "[393220, 786439, 524299, 12, 15, 1048592, 655376, 20]\n",
      "8\n"
     ]
    },
    {
     "data": {
      "application/vnd.jupyter.widget-view+json": {
       "model_id": "0147144de48646b59fc0476fd8771c12",
       "version_major": 2,
       "version_minor": 0
      },
      "text/plain": [
       "  0%|          | 0/4949305 [00:00<?, ?it/s]"
      ]
     },
     "metadata": {},
     "output_type": "display_data"
    },
    {
     "name": "stdout",
     "output_type": "stream",
     "text": [
      "original layer2: (949521, 1013153, 24)\n",
      "# of triplets = 32\n",
      " DONE!!\n",
      "\n",
      "Triplets for iteration 6 have been written to ./benign/benign_4/6.txt\n",
      "the # of the triplets: 32\n",
      "{(949521, 131113, 3), (1013153, 1048577, 9), (949521, 753699, 11), (1013153, 15, 9), (949521, 1013153, 24), (949521, 196613, 5), (1013153, 12, 9), (1013153, 1048577, 11), (949521, 131113, 19), (949521, 98314, 15), (949521, 491552, 8), (1013153, 1048577, 15), (949521, 819227, 15), (949521, 196613, 3), (949521, 196613, 17), (949521, 196613, 19), (949521, 819227, 11), (1013153, 786439, 9), (949521, 491552, 3), (949521, 327716, 7), (1013153, 393220, 9), (949521, 589850, 3), (949521, 819227, 9), (949521, 622605, 7), (949521, 491552, 19), (949521, 753699, 15), (949521, 1081368, 13), (949521, 98314, 9), (949521, 196613, 8), (949521, 491552, 5), (1013153, 524299, 9), (949521, 98314, 11)}\n"
     ]
    },
    {
     "data": {
      "application/vnd.jupyter.widget-view+json": {
       "model_id": "693b72079a7b404a8ca34944c2279a97",
       "version_major": 2,
       "version_minor": 0
      },
      "text/plain": [
       "  0%|          | 0/4949305 [00:00<?, ?it/s]"
      ]
     },
     "metadata": {},
     "output_type": "display_data"
    },
    {
     "name": "stdout",
     "output_type": "stream",
     "text": [
      "Found matching data for leaf node 14:\n",
      "Source: 295347, Destination: 14, Relation: 9\n",
      "layer1_source is: 295347\n",
      "# of the neighbor of layer1 source: 25895\n",
      "[14, 131092, 393244, 524319, 524320, 39, 524343, 63]\n",
      "8\n"
     ]
    },
    {
     "data": {
      "application/vnd.jupyter.widget-view+json": {
       "model_id": "c7e94cecc15e4d9280e96172855dee24",
       "version_major": 2,
       "version_minor": 0
      },
      "text/plain": [
       "  0%|          | 0/4949305 [00:00<?, ?it/s]"
      ]
     },
     "metadata": {},
     "output_type": "display_data"
    },
    {
     "name": "stdout",
     "output_type": "stream",
     "text": [
      "Triplets for iteration 7 have been written to ./benign/benign_4/7.txt\n",
      "the # of the triplets: 8\n",
      "{(295347, 524320, 9), (295347, 39, 11), (295347, 917510, 7), (295347, 131092, 13), (295347, 14, 9), (295347, 393244, 9), (295347, 39, 9), (295347, 524319, 7)}\n"
     ]
    },
    {
     "data": {
      "application/vnd.jupyter.widget-view+json": {
       "model_id": "650bb837599b4acbb56b941cc183843c",
       "version_major": 2,
       "version_minor": 0
      },
      "text/plain": [
       "  0%|          | 0/4949305 [00:00<?, ?it/s]"
      ]
     },
     "metadata": {},
     "output_type": "display_data"
    },
    {
     "name": "stdout",
     "output_type": "stream",
     "text": [
      "Found matching data for leaf node 15:\n",
      "Source: 1013153, Destination: 15, Relation: 9\n",
      "layer1_source is: 1013153\n",
      "# of the neighbor of layer1 source: 34767\n",
      "[393220, 786439, 524299, 12, 15, 1048592, 655376, 20]\n",
      "8\n"
     ]
    },
    {
     "data": {
      "application/vnd.jupyter.widget-view+json": {
       "model_id": "62ab1896a58b490e97c76657170958ca",
       "version_major": 2,
       "version_minor": 0
      },
      "text/plain": [
       "  0%|          | 0/4949305 [00:00<?, ?it/s]"
      ]
     },
     "metadata": {},
     "output_type": "display_data"
    },
    {
     "name": "stdout",
     "output_type": "stream",
     "text": [
      "original layer2: (949521, 1013153, 24)\n",
      "# of triplets = 32\n",
      " DONE!!\n",
      "\n",
      "Triplets for iteration 8 have been written to ./benign/benign_4/8.txt\n",
      "the # of the triplets: 32\n",
      "{(949521, 131113, 3), (1013153, 1048577, 9), (949521, 753699, 11), (1013153, 15, 9), (949521, 1013153, 24), (949521, 196613, 5), (1013153, 12, 9), (1013153, 1048577, 11), (949521, 131113, 19), (949521, 98314, 15), (949521, 491552, 8), (1013153, 1048577, 15), (949521, 819227, 15), (949521, 196613, 3), (949521, 196613, 17), (949521, 196613, 19), (949521, 819227, 11), (1013153, 786439, 9), (949521, 491552, 3), (949521, 327716, 7), (1013153, 393220, 9), (949521, 589850, 3), (949521, 819227, 9), (949521, 622605, 7), (949521, 491552, 19), (949521, 753699, 15), (949521, 1081368, 13), (949521, 98314, 9), (949521, 196613, 8), (949521, 491552, 5), (1013153, 524299, 9), (949521, 98314, 11)}\n"
     ]
    },
    {
     "data": {
      "application/vnd.jupyter.widget-view+json": {
       "model_id": "80d7c4dc62fe491ba3deb4b5344c6f3d",
       "version_major": 2,
       "version_minor": 0
      },
      "text/plain": [
       "  0%|          | 0/4949305 [00:00<?, ?it/s]"
      ]
     },
     "metadata": {},
     "output_type": "display_data"
    },
    {
     "name": "stdout",
     "output_type": "stream",
     "text": [
      "Found matching data for leaf node 16:\n",
      "Source: 915552, Destination: 16, Relation: 7\n",
      "layer1_source is: 915552\n",
      "# of the neighbor of layer1 source: 15421\n",
      "[819207, 983048, 98313, 524298, 1048587, 622602, 983053, 458765]\n",
      "8\n"
     ]
    },
    {
     "data": {
      "application/vnd.jupyter.widget-view+json": {
       "model_id": "16e012f01cc048a0910cb5d492a74214",
       "version_major": 2,
       "version_minor": 0
      },
      "text/plain": [
       "  0%|          | 0/4949305 [00:00<?, ?it/s]"
      ]
     },
     "metadata": {},
     "output_type": "display_data"
    },
    {
     "name": "stdout",
     "output_type": "stream",
     "text": [
      "original layer2: (264688, 915552, 24)\n",
      "# of triplets = 32\n",
      " DONE!!\n",
      "\n",
      "Triplets for iteration 9 have been written to ./benign/benign_4/9.txt\n",
      "the # of the triplets: 32\n",
      "{(915552, 65538, 9), (264688, 915552, 24), (264688, 106499, 3), (264688, 106499, 0), (264688, 991772, 7), (264688, 106499, 19), (264688, 291358, 11), (264688, 106499, 17), (264688, 820251, 9), (915552, 16, 7), (264688, 106499, 4), (264688, 106499, 22), (264688, 126996, 3), (264688, 106499, 5), (264688, 617492, 3), (264688, 2058, 3), (264688, 106499, 20), (264688, 106499, 21), (915552, 819207, 8), (264688, 2058, 19), (264688, 116745, 9), (264688, 391700, 7), (915552, 819207, 20), (264688, 931331, 11), (264688, 796675, 11), (264688, 363019, 3), (264688, 363019, 19), (915552, 819207, 19), (915552, 819207, 5), (264688, 84499, 9), (915552, 819207, 17), (915552, 819207, 3)}\n"
     ]
    },
    {
     "data": {
      "application/vnd.jupyter.widget-view+json": {
       "model_id": "13d7d8140cb54022b9eb1dd723214111",
       "version_major": 2,
       "version_minor": 0
      },
      "text/plain": [
       "  0%|          | 0/4949305 [00:00<?, ?it/s]"
      ]
     },
     "metadata": {},
     "output_type": "display_data"
    },
    {
     "name": "stdout",
     "output_type": "stream",
     "text": [
      "Found matching data for leaf node 17:\n",
      "Source: 444542, Destination: 17, Relation: 13\n",
      "layer1_source is: 444542\n",
      "# of the neighbor of layer1 source: 59003\n",
      "[917505, 131072, 786435, 655364, 917509, 1048589, 262161, 786450]\n",
      "8\n"
     ]
    },
    {
     "data": {
      "application/vnd.jupyter.widget-view+json": {
       "model_id": "8e794895f8754e41be8836ced682863b",
       "version_major": 2,
       "version_minor": 0
      },
      "text/plain": [
       "  0%|          | 0/4949305 [00:00<?, ?it/s]"
      ]
     },
     "metadata": {},
     "output_type": "display_data"
    },
    {
     "name": "stdout",
     "output_type": "stream",
     "text": [
      "original layer2: (918633, 444542, 24)\n",
      "# of triplets = 32\n",
      " DONE!!\n",
      "\n",
      "Triplets for iteration 10 have been written to ./benign/benign_4/10.txt\n",
      "the # of the triplets: 32\n",
      "{(918633, 1087535, 7), (918633, 509980, 15), (918633, 165951, 0), (918633, 483374, 5), (444542, 17, 5), (918633, 163903, 7), (918633, 419911, 9), (918633, 165951, 5), (918633, 509980, 11), (444542, 17, 8), (918633, 444542, 24), (918633, 509980, 9), (918633, 483374, 3), (918633, 796675, 11), (444542, 1048576, 3), (918633, 1107996, 7), (918633, 188463, 9), (918633, 563202, 3), (918633, 55368, 9), (444542, 17, 13), (918633, 483374, 19), (444542, 1048576, 5), (918633, 722985, 7), (444542, 17, 19), (918633, 661519, 7), (444542, 17, 17), (444542, 17, 3), (918633, 165951, 19), (918633, 368671, 7), (918633, 165951, 17), (918633, 165951, 3), (918633, 157752, 7)}\n"
     ]
    },
    {
     "data": {
      "application/vnd.jupyter.widget-view+json": {
       "model_id": "0845f409dbe640e3921f61323bc45ba0",
       "version_major": 2,
       "version_minor": 0
      },
      "text/plain": [
       "  0%|          | 0/4949305 [00:00<?, ?it/s]"
      ]
     },
     "metadata": {},
     "output_type": "display_data"
    },
    {
     "name": "stdout",
     "output_type": "stream",
     "text": [
      "Found matching data for leaf node 19:\n",
      "Source: 440212, Destination: 19, Relation: 13\n",
      "layer1_source is: 440212\n",
      "# of the neighbor of layer1 source: 61081\n",
      "[131087, 786447, 524306, 19, 1048595, 524307, 262169, 917530]\n",
      "8\n"
     ]
    },
    {
     "data": {
      "application/vnd.jupyter.widget-view+json": {
       "model_id": "f990d3a23a584db48a775a6c605bfed1",
       "version_major": 2,
       "version_minor": 0
      },
      "text/plain": [
       "  0%|          | 0/4949305 [00:00<?, ?it/s]"
      ]
     },
     "metadata": {},
     "output_type": "display_data"
    },
    {
     "name": "stdout",
     "output_type": "stream",
     "text": [
      "original layer2: (918633, 440212, 24)\n",
      "# of triplets = 32\n",
      " DONE!!\n",
      "\n",
      "Triplets for iteration 11 have been written to ./benign/benign_4/11.txt\n",
      "the # of the triplets: 32\n",
      "{(918633, 1087535, 7), (918633, 509980, 15), (918633, 165951, 0), (918633, 483374, 5), (918633, 163903, 7), (918633, 419911, 9), (440212, 131080, 5), (918633, 509980, 11), (918633, 165951, 5), (440212, 19, 5), (918633, 509980, 9), (440212, 19, 3), (918633, 483374, 3), (918633, 796675, 11), (918633, 188463, 9), (918633, 1107996, 7), (440212, 19, 19), (918633, 563202, 3), (918633, 55368, 9), (918633, 483374, 19), (440212, 19, 17), (918633, 440212, 24), (918633, 722985, 7), (918633, 165951, 3), (440212, 19, 13), (918633, 661519, 7), (918633, 165951, 19), (440212, 19, 8), (918633, 368671, 7), (918633, 165951, 17), (440212, 131080, 3), (918633, 157752, 7)}\n"
     ]
    },
    {
     "data": {
      "application/vnd.jupyter.widget-view+json": {
       "model_id": "871c732301a745089539cecea2730b97",
       "version_major": 2,
       "version_minor": 0
      },
      "text/plain": [
       "  0%|          | 0/4949305 [00:00<?, ?it/s]"
      ]
     },
     "metadata": {},
     "output_type": "display_data"
    },
    {
     "name": "stdout",
     "output_type": "stream",
     "text": [
      "Found matching data for leaf node 20:\n",
      "Source: 1013153, Destination: 20, Relation: 9\n",
      "layer1_source is: 1013153\n",
      "# of the neighbor of layer1 source: 34767\n",
      "[393220, 786439, 524299, 12, 15, 1048592, 655376, 20]\n",
      "8\n"
     ]
    },
    {
     "data": {
      "application/vnd.jupyter.widget-view+json": {
       "model_id": "65db4eb4153149f3baccf1b06f5ce045",
       "version_major": 2,
       "version_minor": 0
      },
      "text/plain": [
       "  0%|          | 0/4949305 [00:00<?, ?it/s]"
      ]
     },
     "metadata": {},
     "output_type": "display_data"
    },
    {
     "name": "stdout",
     "output_type": "stream",
     "text": [
      "original layer2: (949521, 1013153, 24)\n",
      "# of triplets = 32\n",
      " DONE!!\n",
      "\n",
      "Triplets for iteration 12 have been written to ./benign/benign_4/12.txt\n",
      "the # of the triplets: 32\n",
      "{(949521, 131113, 3), (1013153, 1048577, 9), (949521, 753699, 11), (949521, 1013153, 24), (949521, 196613, 5), (1013153, 1048577, 11), (949521, 131113, 19), (1013153, 20, 15), (949521, 98314, 15), (949521, 491552, 8), (1013153, 1048577, 15), (949521, 819227, 15), (949521, 196613, 3), (1013153, 20, 11), (949521, 196613, 17), (1013153, 20, 9), (949521, 196613, 19), (949521, 819227, 11), (1013153, 786439, 9), (949521, 491552, 3), (949521, 327716, 7), (1013153, 393220, 9), (949521, 589850, 3), (949521, 819227, 9), (949521, 622605, 7), (949521, 491552, 19), (949521, 753699, 15), (949521, 1081368, 13), (949521, 98314, 9), (949521, 196613, 8), (949521, 491552, 5), (949521, 98314, 11)}\n"
     ]
    },
    {
     "data": {
      "application/vnd.jupyter.widget-view+json": {
       "model_id": "68c499d041fa407c8a7fd3c67f8cee46",
       "version_major": 2,
       "version_minor": 0
      },
      "text/plain": [
       "  0%|          | 0/4949305 [00:00<?, ?it/s]"
      ]
     },
     "metadata": {},
     "output_type": "display_data"
    },
    {
     "name": "stdout",
     "output_type": "stream",
     "text": [
      "Found matching data for leaf node 21:\n",
      "Source: 789081, Destination: 21, Relation: 3\n",
      "layer1_source is: 789081\n",
      "# of the neighbor of layer1 source: 57517\n",
      "[131075, 1048580, 786441, 917513, 917518, 262158, 524302, 917525]\n",
      "8\n"
     ]
    },
    {
     "data": {
      "application/vnd.jupyter.widget-view+json": {
       "model_id": "1ceabebcb2e94a61b4e1d9d1b329aeb3",
       "version_major": 2,
       "version_minor": 0
      },
      "text/plain": [
       "  0%|          | 0/4949305 [00:00<?, ?it/s]"
      ]
     },
     "metadata": {},
     "output_type": "display_data"
    },
    {
     "name": "stdout",
     "output_type": "stream",
     "text": [
      "original layer2: (208069, 789081, 24)\n",
      "# of triplets = 32\n",
      " DONE!!\n",
      "\n",
      "Triplets for iteration 13 have been written to ./benign/benign_4/13.txt\n",
      "the # of the triplets: 32\n",
      "{(789081, 524290, 0), (208069, 1017875, 13), (208069, 959527, 19), (789081, 524290, 19), (208069, 728623, 11), (789081, 21, 5), (208069, 879619, 3), (208069, 1017875, 19), (208069, 188463, 9), (208069, 959527, 3), (208069, 501797, 7), (208069, 483374, 3), (208069, 294454, 9), (208069, 879619, 19), (208069, 1017875, 3), (208069, 391700, 7), (208069, 483374, 5), (208069, 483374, 19), (208069, 319000, 9), (789081, 21, 0), (208069, 789081, 24), (789081, 21, 22), (208069, 1017875, 0), (789081, 21, 3), (789081, 21, 17), (208069, 796675, 11), (789081, 21, 19), (208069, 1098764, 7), (208069, 70156, 7), (208069, 1017875, 5), (208069, 84499, 9), (208069, 148998, 9)}\n"
     ]
    },
    {
     "data": {
      "application/vnd.jupyter.widget-view+json": {
       "model_id": "5ed9c40646534d498814773ea91a643a",
       "version_major": 2,
       "version_minor": 0
      },
      "text/plain": [
       "  0%|          | 0/4949305 [00:00<?, ?it/s]"
      ]
     },
     "metadata": {},
     "output_type": "display_data"
    },
    {
     "name": "stdout",
     "output_type": "stream",
     "text": [
      "Found matching data for leaf node 22:\n",
      "Source: 444542, Destination: 22, Relation: 13\n",
      "layer1_source is: 444542\n",
      "# of the neighbor of layer1 source: 59003\n",
      "[917505, 131072, 786435, 655364, 917509, 1048589, 262161, 786450]\n",
      "8\n"
     ]
    },
    {
     "data": {
      "application/vnd.jupyter.widget-view+json": {
       "model_id": "94f3ad294f8d48969c669e8c48af1ad9",
       "version_major": 2,
       "version_minor": 0
      },
      "text/plain": [
       "  0%|          | 0/4949305 [00:00<?, ?it/s]"
      ]
     },
     "metadata": {},
     "output_type": "display_data"
    },
    {
     "name": "stdout",
     "output_type": "stream",
     "text": [
      "original layer2: (918633, 444542, 24)\n",
      "# of triplets = 32\n",
      " DONE!!\n",
      "\n",
      "Triplets for iteration 14 have been written to ./benign/benign_4/14.txt\n",
      "the # of the triplets: 32\n",
      "{(444542, 22, 17), (444542, 22, 3), (918633, 1087535, 7), (918633, 509980, 15), (918633, 165951, 0), (918633, 483374, 5), (918633, 163903, 7), (918633, 419911, 9), (918633, 165951, 5), (918633, 509980, 11), (444542, 22, 5), (918633, 444542, 24), (918633, 509980, 9), (918633, 483374, 3), (918633, 796675, 11), (444542, 1048576, 3), (918633, 1107996, 7), (918633, 188463, 9), (918633, 563202, 3), (918633, 55368, 9), (918633, 483374, 19), (444542, 1048576, 5), (444542, 22, 8), (918633, 722985, 7), (444542, 22, 13), (918633, 661519, 7), (918633, 165951, 19), (444542, 22, 19), (918633, 368671, 7), (918633, 165951, 17), (918633, 165951, 3), (918633, 157752, 7)}\n"
     ]
    },
    {
     "data": {
      "application/vnd.jupyter.widget-view+json": {
       "model_id": "da73ca8eb7344480b894fc16fe162955",
       "version_major": 2,
       "version_minor": 0
      },
      "text/plain": [
       "  0%|          | 0/4949305 [00:00<?, ?it/s]"
      ]
     },
     "metadata": {},
     "output_type": "display_data"
    },
    {
     "name": "stdout",
     "output_type": "stream",
     "text": [
      "Found matching data for leaf node 23:\n",
      "Source: 444542, Destination: 23, Relation: 13\n",
      "layer1_source is: 444542\n",
      "# of the neighbor of layer1 source: 59003\n",
      "[917505, 131072, 786435, 655364, 917509, 1048589, 262161, 786450]\n",
      "8\n"
     ]
    },
    {
     "data": {
      "application/vnd.jupyter.widget-view+json": {
       "model_id": "79d1b6cb7be044dfadebca20869fad51",
       "version_major": 2,
       "version_minor": 0
      },
      "text/plain": [
       "  0%|          | 0/4949305 [00:00<?, ?it/s]"
      ]
     },
     "metadata": {},
     "output_type": "display_data"
    },
    {
     "name": "stdout",
     "output_type": "stream",
     "text": [
      "original layer2: (918633, 444542, 24)\n",
      "# of triplets = 32\n",
      " DONE!!\n",
      "\n",
      "Triplets for iteration 15 have been written to ./benign/benign_4/15.txt\n",
      "the # of the triplets: 32\n",
      "{(918633, 1087535, 7), (918633, 509980, 15), (918633, 165951, 0), (918633, 483374, 5), (918633, 163903, 7), (918633, 419911, 9), (918633, 165951, 5), (918633, 509980, 11), (444542, 23, 5), (918633, 444542, 24), (918633, 509980, 9), (444542, 23, 17), (918633, 483374, 3), (918633, 796675, 11), (444542, 1048576, 3), (918633, 1107996, 7), (918633, 188463, 9), (444542, 23, 19), (918633, 563202, 3), (918633, 55368, 9), (918633, 483374, 19), (444542, 1048576, 5), (444542, 23, 3), (918633, 722985, 7), (444542, 23, 13), (918633, 661519, 7), (918633, 165951, 19), (444542, 23, 8), (918633, 368671, 7), (918633, 165951, 17), (918633, 165951, 3), (918633, 157752, 7)}\n"
     ]
    },
    {
     "data": {
      "application/vnd.jupyter.widget-view+json": {
       "model_id": "771273f8b0ee4ccc8d739e807c3ebf6f",
       "version_major": 2,
       "version_minor": 0
      },
      "text/plain": [
       "  0%|          | 0/4949305 [00:00<?, ?it/s]"
      ]
     },
     "metadata": {},
     "output_type": "display_data"
    },
    {
     "name": "stdout",
     "output_type": "stream",
     "text": [
      "Found matching data for leaf node 24:\n",
      "Source: 280074, Destination: 24, Relation: 3\n",
      "layer1_source is: 280074\n",
      "# of the neighbor of layer1 source: 52002\n",
      "[524292, 5, 524294, 786440, 262159, 131092, 524311, 24]\n",
      "8\n"
     ]
    },
    {
     "data": {
      "application/vnd.jupyter.widget-view+json": {
       "model_id": "437dcfe13c0641e1b5f754f4296d55a4",
       "version_major": 2,
       "version_minor": 0
      },
      "text/plain": [
       "  0%|          | 0/4949305 [00:00<?, ?it/s]"
      ]
     },
     "metadata": {},
     "output_type": "display_data"
    },
    {
     "name": "stdout",
     "output_type": "stream",
     "text": [
      "original layer2: (23340, 280074, 24)\n",
      "# of triplets = 32\n",
      " DONE!!\n",
      "\n",
      "Triplets for iteration 16 have been written to ./benign/benign_4/16.txt\n",
      "the # of the triplets: 32\n",
      "{(280074, 524292, 3), (23340, 1081368, 13), (23340, 589850, 3), (23340, 491552, 5), (280074, 524294, 3), (23340, 98314, 15), (280074, 5, 3), (23340, 753699, 15), (280074, 262159, 3), (23340, 98314, 9), (280074, 1048578, 3), (23340, 327716, 7), (23340, 98314, 11), (23340, 753699, 11), (23340, 983090, 5), (23340, 280074, 24), (23340, 819227, 15), (23340, 983090, 4), (23340, 983090, 17), (23340, 491552, 8), (280074, 786440, 3), (280074, 131092, 13), (23340, 983090, 1), (23340, 786432, 19), (23340, 819227, 11), (23340, 622605, 7), (280074, 24, 3), (23340, 983090, 3), (23340, 491552, 3), (23340, 819227, 9), (23340, 426000, 7), (23340, 491552, 19)}\n"
     ]
    },
    {
     "data": {
      "application/vnd.jupyter.widget-view+json": {
       "model_id": "bfdbb705114145af8259236df746a1a1",
       "version_major": 2,
       "version_minor": 0
      },
      "text/plain": [
       "  0%|          | 0/4949305 [00:00<?, ?it/s]"
      ]
     },
     "metadata": {},
     "output_type": "display_data"
    },
    {
     "name": "stdout",
     "output_type": "stream",
     "text": [
      "Found matching data for leaf node 25:\n",
      "Source: 1003134, Destination: 25, Relation: 3\n",
      "layer1_source is: 1003134\n",
      "# of the neighbor of layer1 source: 211162\n",
      "[524288, 524290, 1048580, 1048584, 524302, 17, 524306, 524307]\n",
      "8\n"
     ]
    },
    {
     "data": {
      "application/vnd.jupyter.widget-view+json": {
       "model_id": "8d0b00df381e4e77b944d06b3b0cbcfe",
       "version_major": 2,
       "version_minor": 0
      },
      "text/plain": [
       "  0%|          | 0/4949305 [00:00<?, ?it/s]"
      ]
     },
     "metadata": {},
     "output_type": "display_data"
    },
    {
     "name": "stdout",
     "output_type": "stream",
     "text": [
      "original layer2: (677631, 1003134, 24)\n",
      "# of triplets = 32\n",
      " DONE!!\n",
      "\n",
      "Triplets for iteration 17 have been written to ./benign/benign_4/17.txt\n",
      "the # of the triplets: 32\n",
      "{(677631, 376841, 17), (677631, 376841, 5), (677631, 376841, 4), (677631, 376841, 22), (677631, 983042, 4), (1003134, 25, 3), (677631, 983042, 22), (677631, 376841, 21), (677631, 983042, 5), (677631, 376841, 20), (677631, 983042, 20), (677631, 155665, 19), (677631, 983042, 3), (677631, 983042, 21), (1003134, 1048576, 0), (1003134, 1048576, 3), (1003134, 524288, 3), (677631, 1003134, 24), (677631, 155665, 3), (677631, 155665, 17), (677631, 983042, 19), (677631, 950287, 19), (1003134, 1048576, 5), (1003134, 1048576, 19), (677631, 983042, 17), (1003134, 524290, 3), (677631, 581646, 19), (677631, 376841, 3), (677631, 155665, 5), (1003134, 1048576, 22), (677631, 155665, 4), (677631, 376841, 19)}\n"
     ]
    },
    {
     "data": {
      "application/vnd.jupyter.widget-view+json": {
       "model_id": "09e4c69a08ff4faa83c2d6b339a0a4d1",
       "version_major": 2,
       "version_minor": 0
      },
      "text/plain": [
       "  0%|          | 0/4949305 [00:00<?, ?it/s]"
      ]
     },
     "metadata": {},
     "output_type": "display_data"
    },
    {
     "name": "stdout",
     "output_type": "stream",
     "text": [
      "Found matching data for leaf node 26:\n",
      "Source: 789081, Destination: 26, Relation: 3\n",
      "layer1_source is: 789081\n",
      "# of the neighbor of layer1 source: 57517\n",
      "[131075, 1048580, 786441, 917513, 917518, 262158, 524302, 917525]\n",
      "8\n"
     ]
    },
    {
     "data": {
      "application/vnd.jupyter.widget-view+json": {
       "model_id": "f8b3ff5e54174ba581030a7eee15f0b8",
       "version_major": 2,
       "version_minor": 0
      },
      "text/plain": [
       "  0%|          | 0/4949305 [00:00<?, ?it/s]"
      ]
     },
     "metadata": {},
     "output_type": "display_data"
    },
    {
     "name": "stdout",
     "output_type": "stream",
     "text": [
      "original layer2: (208069, 789081, 24)\n",
      "# of triplets = 32\n",
      " DONE!!\n",
      "\n",
      "Triplets for iteration 18 have been written to ./benign/benign_4/18.txt\n",
      "the # of the triplets: 32\n",
      "{(789081, 524290, 0), (208069, 1017875, 13), (208069, 959527, 19), (789081, 524290, 19), (208069, 728623, 11), (789081, 524290, 20), (208069, 879619, 3), (208069, 1017875, 19), (208069, 188463, 9), (208069, 959527, 3), (789081, 524290, 3), (208069, 501797, 7), (208069, 483374, 3), (208069, 294454, 9), (208069, 879619, 19), (208069, 1017875, 3), (208069, 391700, 7), (208069, 483374, 5), (208069, 483374, 19), (208069, 319000, 9), (208069, 789081, 24), (208069, 1017875, 0), (789081, 26, 3), (789081, 131075, 3), (208069, 796675, 11), (208069, 1017875, 5), (208069, 1098764, 7), (208069, 70156, 7), (789081, 26, 19), (789081, 131075, 0), (208069, 84499, 9), (208069, 148998, 9)}\n"
     ]
    },
    {
     "data": {
      "application/vnd.jupyter.widget-view+json": {
       "model_id": "b242550818a84c41a0aa9fba88d7aa9f",
       "version_major": 2,
       "version_minor": 0
      },
      "text/plain": [
       "  0%|          | 0/4949305 [00:00<?, ?it/s]"
      ]
     },
     "metadata": {},
     "output_type": "display_data"
    },
    {
     "name": "stdout",
     "output_type": "stream",
     "text": [
      "Found matching data for leaf node 28:\n",
      "Source: 440212, Destination: 28, Relation: 13\n",
      "layer1_source is: 440212\n",
      "# of the neighbor of layer1 source: 61081\n",
      "[131087, 786447, 524306, 19, 1048595, 524307, 262169, 917530]\n",
      "8\n"
     ]
    },
    {
     "data": {
      "application/vnd.jupyter.widget-view+json": {
       "model_id": "0b857cf2ce8142b69317d54ed19abd6c",
       "version_major": 2,
       "version_minor": 0
      },
      "text/plain": [
       "  0%|          | 0/4949305 [00:00<?, ?it/s]"
      ]
     },
     "metadata": {},
     "output_type": "display_data"
    },
    {
     "name": "stdout",
     "output_type": "stream",
     "text": [
      "original layer2: (918633, 440212, 24)\n",
      "# of triplets = 32\n",
      " DONE!!\n",
      "\n",
      "Triplets for iteration 19 have been written to ./benign/benign_4/19.txt\n",
      "the # of the triplets: 32\n",
      "{(918633, 1087535, 7), (918633, 509980, 15), (918633, 165951, 0), (918633, 483374, 5), (918633, 163903, 7), (918633, 419911, 9), (440212, 28, 8), (440212, 131080, 5), (918633, 509980, 11), (918633, 165951, 5), (918633, 509980, 9), (918633, 483374, 3), (918633, 796675, 11), (440212, 28, 5), (918633, 1107996, 7), (918633, 188463, 9), (918633, 563202, 3), (918633, 55368, 9), (918633, 483374, 19), (440212, 28, 3), (918633, 440212, 24), (918633, 722985, 7), (440212, 28, 19), (918633, 165951, 3), (918633, 661519, 7), (918633, 165951, 17), (918633, 165951, 19), (440212, 28, 17), (918633, 368671, 7), (440212, 28, 13), (440212, 131080, 3), (918633, 157752, 7)}\n"
     ]
    },
    {
     "data": {
      "application/vnd.jupyter.widget-view+json": {
       "model_id": "f75fae672d8f44c19b7c479fa88b060d",
       "version_major": 2,
       "version_minor": 0
      },
      "text/plain": [
       "  0%|          | 0/4949305 [00:00<?, ?it/s]"
      ]
     },
     "metadata": {},
     "output_type": "display_data"
    },
    {
     "name": "stdout",
     "output_type": "stream",
     "text": [
      "Found matching data for leaf node 29:\n",
      "Source: 1016145, Destination: 29, Relation: 7\n",
      "layer1_source is: 1016145\n",
      "# of the neighbor of layer1 source: 1313\n",
      "[1130498, 1142788, 839686, 737288, 116745, 112649, 69642, 1101836]\n",
      "8\n"
     ]
    },
    {
     "data": {
      "application/vnd.jupyter.widget-view+json": {
       "model_id": "d12430bd21274cb9a2f957c0b91fbb02",
       "version_major": 2,
       "version_minor": 0
      },
      "text/plain": [
       "  0%|          | 0/4949305 [00:00<?, ?it/s]"
      ]
     },
     "metadata": {},
     "output_type": "display_data"
    },
    {
     "name": "stdout",
     "output_type": "stream",
     "text": [
      "original layer2: (987417, 1016145, 24)\n",
      "# of triplets = 32\n",
      " DONE!!\n",
      "\n",
      "Triplets for iteration 20 have been written to ./benign/benign_4/20.txt\n",
      "the # of the triplets: 32\n",
      "{(1016145, 1130498, 11), (1016145, 983040, 7), (987417, 483374, 5), (987417, 639015, 13), (987417, 589853, 1), (987417, 843785, 3), (1016145, 29, 7), (987417, 589853, 3), (987417, 819236, 19), (987417, 360449, 13), (987417, 24628, 3), (987417, 483374, 19), (1016145, 839686, 7), (987417, 589853, 19), (987417, 819236, 3), (1016145, 116745, 9), (987417, 483374, 3), (987417, 499768, 3), (987417, 819236, 1), (1016145, 737288, 7), (987417, 335922, 1), (987417, 360449, 19), (987417, 1016145, 24), (987417, 360449, 1), (987417, 499768, 19), (987417, 335922, 3), (987417, 311332, 13), (987417, 360449, 3), (1016145, 1142788, 7), (987417, 360449, 20), (987417, 335922, 19), (1016145, 1130498, 9)}\n"
     ]
    },
    {
     "data": {
      "application/vnd.jupyter.widget-view+json": {
       "model_id": "7c343b321c204c09b714e35bd16c1fc1",
       "version_major": 2,
       "version_minor": 0
      },
      "text/plain": [
       "  0%|          | 0/4949305 [00:00<?, ?it/s]"
      ]
     },
     "metadata": {},
     "output_type": "display_data"
    },
    {
     "name": "stdout",
     "output_type": "stream",
     "text": [
      "Found matching data for leaf node 31:\n",
      "Source: 1028649, Destination: 31, Relation: 13\n",
      "layer1_source is: 1028649\n",
      "# of the neighbor of layer1 source: 23362\n",
      "[262146, 655367, 786452, 393236, 786454, 28, 1048605, 31]\n",
      "76807\n"
     ]
    },
    {
     "data": {
      "application/vnd.jupyter.widget-view+json": {
       "model_id": "8484a6fa5a304581842fe121a524c04f",
       "version_major": 2,
       "version_minor": 0
      },
      "text/plain": [
       "  0%|          | 0/4949305 [00:00<?, ?it/s]"
      ]
     },
     "metadata": {},
     "output_type": "display_data"
    },
    {
     "name": "stdout",
     "output_type": "stream",
     "text": [
      "original layer2: (1035455, 1028649, 24)\n",
      "Found matching data for leaf node 31:\n",
      "Source: 1028649, Destination: 31, Relation: 3\n",
      "layer1_source is: 1028649\n",
      "# of the neighbor of layer1 source: 23362\n",
      "[262146, 655367, 786452, 393236, 786454, 28, 1048605, 31]\n",
      "76878\n"
     ]
    },
    {
     "data": {
      "application/vnd.jupyter.widget-view+json": {
       "model_id": "a7eea58356764f87b8891e41915c4d51",
       "version_major": 2,
       "version_minor": 0
      },
      "text/plain": [
       "  0%|          | 0/4949305 [00:00<?, ?it/s]"
      ]
     },
     "metadata": {},
     "output_type": "display_data"
    },
    {
     "name": "stdout",
     "output_type": "stream",
     "text": [
      "original layer2: (1035455, 1028649, 24)\n",
      "Found matching data for leaf node 31:\n",
      "Source: 1028649, Destination: 31, Relation: 5\n",
      "layer1_source is: 1028649\n",
      "# of the neighbor of layer1 source: 23362\n",
      "[262146, 655367, 786452, 393236, 786454, 28, 1048605, 31]\n",
      "76878\n"
     ]
    },
    {
     "data": {
      "application/vnd.jupyter.widget-view+json": {
       "model_id": "1419307ea9564a05a8866f88f4333b60",
       "version_major": 2,
       "version_minor": 0
      },
      "text/plain": [
       "  0%|          | 0/4949305 [00:00<?, ?it/s]"
      ]
     },
     "metadata": {},
     "output_type": "display_data"
    },
    {
     "name": "stdout",
     "output_type": "stream",
     "text": [
      "original layer2: (1035455, 1028649, 24)\n",
      "Found matching data for leaf node 31:\n",
      "Source: 1028649, Destination: 31, Relation: 17\n",
      "layer1_source is: 1028649\n",
      "# of the neighbor of layer1 source: 23362\n",
      "[262146, 655367, 786452, 393236, 786454, 28, 1048605, 31]\n",
      "76878\n"
     ]
    },
    {
     "data": {
      "application/vnd.jupyter.widget-view+json": {
       "model_id": "bafb4399314e4a1aa84239b7fcaad401",
       "version_major": 2,
       "version_minor": 0
      },
      "text/plain": [
       "  0%|          | 0/4949305 [00:00<?, ?it/s]"
      ]
     },
     "metadata": {},
     "output_type": "display_data"
    },
    {
     "name": "stdout",
     "output_type": "stream",
     "text": [
      "original layer2: (1035455, 1028649, 24)\n",
      "Found matching data for leaf node 31:\n",
      "Source: 1028649, Destination: 31, Relation: 8\n",
      "layer1_source is: 1028649\n",
      "# of the neighbor of layer1 source: 23362\n",
      "[262146, 655367, 786452, 393236, 786454, 28, 1048605, 31]\n",
      "76878\n"
     ]
    },
    {
     "data": {
      "application/vnd.jupyter.widget-view+json": {
       "model_id": "267d97cb0d044c869b1a8a7f96f8de3b",
       "version_major": 2,
       "version_minor": 0
      },
      "text/plain": [
       "  0%|          | 0/4949305 [00:00<?, ?it/s]"
      ]
     },
     "metadata": {},
     "output_type": "display_data"
    },
    {
     "name": "stdout",
     "output_type": "stream",
     "text": [
      "original layer2: (1035455, 1028649, 24)\n",
      "Found matching data for leaf node 31:\n",
      "Source: 1028649, Destination: 31, Relation: 19\n",
      "layer1_source is: 1028649\n",
      "# of the neighbor of layer1 source: 23362\n",
      "[262146, 655367, 786452, 393236, 786454, 28, 1048605, 31]\n",
      "76878\n"
     ]
    },
    {
     "data": {
      "application/vnd.jupyter.widget-view+json": {
       "model_id": "baca52ec30d3413297e294193006522f",
       "version_major": 2,
       "version_minor": 0
      },
      "text/plain": [
       "  0%|          | 0/4949305 [00:00<?, ?it/s]"
      ]
     },
     "metadata": {},
     "output_type": "display_data"
    },
    {
     "name": "stdout",
     "output_type": "stream",
     "text": [
      "original layer2: (1035455, 1028649, 24)\n",
      "Found matching data for leaf node 31:\n",
      "Source: 1028649, Destination: 31, Relation: 22\n",
      "layer1_source is: 1028649\n",
      "# of the neighbor of layer1 source: 23362\n",
      "[262146, 655367, 786452, 393236, 786454, 28, 1048605, 31]\n",
      "76878\n"
     ]
    },
    {
     "data": {
      "application/vnd.jupyter.widget-view+json": {
       "model_id": "198ccd06d1174ba1ba5a381a99eda1c7",
       "version_major": 2,
       "version_minor": 0
      },
      "text/plain": [
       "  0%|          | 0/4949305 [00:00<?, ?it/s]"
      ]
     },
     "metadata": {},
     "output_type": "display_data"
    },
    {
     "name": "stdout",
     "output_type": "stream",
     "text": [
      "original layer2: (1035455, 1028649, 24)\n",
      "Found matching data for leaf node 31:\n",
      "Source: 1028649, Destination: 31, Relation: 0\n",
      "layer1_source is: 1028649\n",
      "# of the neighbor of layer1 source: 23362\n",
      "[262146, 655367, 786452, 393236, 786454, 28, 1048605, 31]\n",
      "76878\n"
     ]
    },
    {
     "data": {
      "application/vnd.jupyter.widget-view+json": {
       "model_id": "fe57f3143ac7471293945b368151eb37",
       "version_major": 2,
       "version_minor": 0
      },
      "text/plain": [
       "  0%|          | 0/4949305 [00:00<?, ?it/s]"
      ]
     },
     "metadata": {},
     "output_type": "display_data"
    },
    {
     "name": "stdout",
     "output_type": "stream",
     "text": [
      "original layer2: (1035455, 1028649, 24)\n",
      "Found matching data for leaf node 31:\n",
      "Source: 62762, Destination: 31, Relation: 3\n",
      "layer1_source is: 62762\n",
      "# of the neighbor of layer1 source: 50059\n",
      "[655367, 1048584, 262154, 1048594, 786452, 917526, 393241, 131100]\n",
      "285137\n"
     ]
    },
    {
     "data": {
      "application/vnd.jupyter.widget-view+json": {
       "model_id": "3437fb7794f34bfd9f607b4407ccc27e",
       "version_major": 2,
       "version_minor": 0
      },
      "text/plain": [
       "  0%|          | 0/4949305 [00:00<?, ?it/s]"
      ]
     },
     "metadata": {},
     "output_type": "display_data"
    },
    {
     "name": "stdout",
     "output_type": "stream",
     "text": [
      "Found matching data for leaf node 31:\n",
      "Source: 62762, Destination: 31, Relation: 5\n",
      "layer1_source is: 62762\n",
      "# of the neighbor of layer1 source: 50059\n",
      "[655367, 1048584, 262154, 1048594, 786452, 917526, 393241, 131100]\n",
      "285137\n"
     ]
    },
    {
     "data": {
      "application/vnd.jupyter.widget-view+json": {
       "model_id": "1d8a4a1e2f3c45c6b04be76cad5cac48",
       "version_major": 2,
       "version_minor": 0
      },
      "text/plain": [
       "  0%|          | 0/4949305 [00:00<?, ?it/s]"
      ]
     },
     "metadata": {},
     "output_type": "display_data"
    },
    {
     "name": "stdout",
     "output_type": "stream",
     "text": [
      "Found matching data for leaf node 31:\n",
      "Source: 62762, Destination: 31, Relation: 19\n",
      "layer1_source is: 62762\n",
      "# of the neighbor of layer1 source: 50059\n",
      "[655367, 1048584, 262154, 1048594, 786452, 917526, 393241, 131100]\n",
      "285137\n"
     ]
    },
    {
     "data": {
      "application/vnd.jupyter.widget-view+json": {
       "model_id": "81e35dab02b44aecbb9a57eb548eb812",
       "version_major": 2,
       "version_minor": 0
      },
      "text/plain": [
       "  0%|          | 0/4949305 [00:00<?, ?it/s]"
      ]
     },
     "metadata": {},
     "output_type": "display_data"
    },
    {
     "name": "stdout",
     "output_type": "stream",
     "text": [
      "Found matching data for leaf node 31:\n",
      "Source: 62762, Destination: 31, Relation: 22\n",
      "layer1_source is: 62762\n",
      "# of the neighbor of layer1 source: 50059\n",
      "[655367, 1048584, 262154, 1048594, 786452, 917526, 393241, 131100]\n",
      "285137\n"
     ]
    },
    {
     "data": {
      "application/vnd.jupyter.widget-view+json": {
       "model_id": "fc6f89c2e8e54c78b59d297deddfb81c",
       "version_major": 2,
       "version_minor": 0
      },
      "text/plain": [
       "  0%|          | 0/4949305 [00:00<?, ?it/s]"
      ]
     },
     "metadata": {},
     "output_type": "display_data"
    },
    {
     "name": "stdout",
     "output_type": "stream",
     "text": [
      "Found matching data for leaf node 31:\n",
      "Source: 62762, Destination: 31, Relation: 20\n",
      "layer1_source is: 62762\n",
      "# of the neighbor of layer1 source: 50059\n",
      "[655367, 1048584, 262154, 1048594, 786452, 917526, 393241, 131100]\n",
      "285137\n"
     ]
    },
    {
     "data": {
      "application/vnd.jupyter.widget-view+json": {
       "model_id": "40695164136c48dd85a615f836504249",
       "version_major": 2,
       "version_minor": 0
      },
      "text/plain": [
       "  0%|          | 0/4949305 [00:00<?, ?it/s]"
      ]
     },
     "metadata": {},
     "output_type": "display_data"
    },
    {
     "name": "stdout",
     "output_type": "stream",
     "text": [
      "Found matching data for leaf node 31:\n",
      "Source: 62762, Destination: 31, Relation: 13\n",
      "layer1_source is: 62762\n",
      "# of the neighbor of layer1 source: 50059\n",
      "[655367, 1048584, 262154, 1048594, 786452, 917526, 393241, 131100]\n",
      "285137\n"
     ]
    },
    {
     "data": {
      "application/vnd.jupyter.widget-view+json": {
       "model_id": "bd61d1b4fe7d409aa241d2f501f55725",
       "version_major": 2,
       "version_minor": 0
      },
      "text/plain": [
       "  0%|          | 0/4949305 [00:00<?, ?it/s]"
      ]
     },
     "metadata": {},
     "output_type": "display_data"
    },
    {
     "name": "stderr",
     "output_type": "stream",
     "text": [
      "IOPub data rate exceeded.\n",
      "The notebook server will temporarily stop sending output\n",
      "to the client in order to avoid crashing it.\n",
      "To change this limit, set the config variable\n",
      "`--NotebookApp.iopub_data_rate_limit`.\n",
      "\n",
      "Current values:\n",
      "NotebookApp.iopub_data_rate_limit=1000000.0 (bytes/sec)\n",
      "NotebookApp.rate_limit_window=3.0 (secs)\n",
      "\n"
     ]
    },
    {
     "data": {
      "application/vnd.jupyter.widget-view+json": {
       "model_id": "1c3ef1bfae2744159e26770175596c75",
       "version_major": 2,
       "version_minor": 0
      },
      "text/plain": [
       "  0%|          | 0/4949305 [00:00<?, ?it/s]"
      ]
     },
     "metadata": {},
     "output_type": "display_data"
    },
    {
     "name": "stdout",
     "output_type": "stream",
     "text": [
      "Found matching data for leaf node 32:\n",
      "Source: 272194, Destination: 32, Relation: 7\n",
      "layer1_source is: 272194\n",
      "# of the neighbor of layer1 source: 73949\n",
      "[393219, 655366, 393223, 1048584, 262151, 262154, 8, 393227]\n",
      "8\n"
     ]
    },
    {
     "data": {
      "application/vnd.jupyter.widget-view+json": {
       "model_id": "795c7831356f4ce8bb6391964f767e0d",
       "version_major": 2,
       "version_minor": 0
      },
      "text/plain": [
       "  0%|          | 0/4949305 [00:00<?, ?it/s]"
      ]
     },
     "metadata": {},
     "output_type": "display_data"
    },
    {
     "name": "stdout",
     "output_type": "stream",
     "text": [
      "original layer2: (19498, 272194, 24)\n",
      "# of triplets = 32\n",
      " DONE!!\n",
      "\n",
      "Triplets for iteration 22 have been written to ./benign/benign_4/22.txt\n",
      "the # of the triplets: 32\n",
      "{(19498, 65613, 19), (19498, 852007, 7), (272194, 131072, 3), (19498, 1114179, 7), (272194, 32, 7), (19498, 294929, 7), (19498, 262198, 7), (19498, 819248, 7), (19498, 819258, 7), (19498, 98387, 7), (19498, 589889, 9), (19498, 131165, 7), (272194, 131072, 13), (272194, 655366, 13), (19498, 272194, 24), (19498, 59, 7), (19498, 196698, 7), (19498, 1081434, 7), (19498, 524363, 7), (19498, 196661, 7), (19498, 196664, 7), (19498, 524351, 7), (272194, 393219, 7), (19498, 65613, 13), (19498, 622652, 7), (19498, 393311, 7), (272194, 655366, 19), (19498, 65613, 3), (272194, 131072, 19), (19498, 1114116, 7), (272194, 655366, 3), (19498, 819211, 7)}\n"
     ]
    },
    {
     "data": {
      "application/vnd.jupyter.widget-view+json": {
       "model_id": "5c3022beb43142a0892c98b4d53ae44a",
       "version_major": 2,
       "version_minor": 0
      },
      "text/plain": [
       "  0%|          | 0/4949305 [00:00<?, ?it/s]"
      ]
     },
     "metadata": {},
     "output_type": "display_data"
    },
    {
     "name": "stdout",
     "output_type": "stream",
     "text": [
      "Found matching data for leaf node 34:\n",
      "Source: 280074, Destination: 34, Relation: 3\n",
      "layer1_source is: 280074\n",
      "# of the neighbor of layer1 source: 52002\n",
      "[524292, 5, 524294, 786440, 262159, 131092, 524311, 24]\n",
      "8\n"
     ]
    },
    {
     "data": {
      "application/vnd.jupyter.widget-view+json": {
       "model_id": "b664ac6d5a8948ec976dd4f7b016d286",
       "version_major": 2,
       "version_minor": 0
      },
      "text/plain": [
       "  0%|          | 0/4949305 [00:00<?, ?it/s]"
      ]
     },
     "metadata": {},
     "output_type": "display_data"
    },
    {
     "name": "stdout",
     "output_type": "stream",
     "text": [
      "original layer2: (23340, 280074, 24)\n",
      "# of triplets = 32\n",
      " DONE!!\n",
      "\n",
      "Triplets for iteration 23 have been written to ./benign/benign_4/23.txt\n",
      "the # of the triplets: 32\n",
      "{(280074, 524292, 3), (23340, 1081368, 13), (23340, 589850, 3), (280074, 34, 3), (23340, 491552, 5), (280074, 524294, 3), (23340, 98314, 15), (280074, 5, 3), (23340, 753699, 15), (280074, 262159, 3), (23340, 98314, 9), (280074, 1048578, 3), (23340, 327716, 7), (23340, 98314, 11), (23340, 753699, 11), (23340, 983090, 5), (23340, 280074, 24), (23340, 819227, 15), (23340, 983090, 4), (23340, 983090, 17), (23340, 491552, 8), (280074, 786440, 3), (280074, 131092, 13), (23340, 983090, 1), (23340, 786432, 19), (23340, 819227, 11), (23340, 622605, 7), (23340, 983090, 3), (23340, 491552, 3), (23340, 819227, 9), (23340, 426000, 7), (23340, 491552, 19)}\n"
     ]
    },
    {
     "data": {
      "application/vnd.jupyter.widget-view+json": {
       "model_id": "72be0b4a484947b5865e2dc738943542",
       "version_major": 2,
       "version_minor": 0
      },
      "text/plain": [
       "  0%|          | 0/4949305 [00:00<?, ?it/s]"
      ]
     },
     "metadata": {},
     "output_type": "display_data"
    },
    {
     "name": "stdout",
     "output_type": "stream",
     "text": [
      "Found matching data for leaf node 35:\n",
      "Source: 1025026, Destination: 35, Relation: 3\n",
      "layer1_source is: 1025026\n",
      "# of the neighbor of layer1 source: 7251\n",
      "[819206, 98314, 1081355, 884749, 622605, 589843, 262170, 819227]\n",
      "8\n"
     ]
    },
    {
     "data": {
      "application/vnd.jupyter.widget-view+json": {
       "model_id": "e13d87daec50483eb04c6c8c05f73216",
       "version_major": 2,
       "version_minor": 0
      },
      "text/plain": [
       "  0%|          | 0/4949305 [00:00<?, ?it/s]"
      ]
     },
     "metadata": {},
     "output_type": "display_data"
    },
    {
     "name": "stdout",
     "output_type": "stream",
     "text": [
      "original layer2: (241695, 1025026, 24)\n",
      "# of triplets = 32\n",
      " DONE!!\n",
      "\n",
      "Triplets for iteration 24 have been written to ./benign/benign_4/24.txt\n",
      "the # of the triplets: 32\n",
      "{(241695, 203270, 19), (1025026, 35, 20), (241695, 296963, 19), (241695, 563219, 3), (241695, 999441, 19), (241695, 584210, 19), (241695, 676885, 19), (241695, 563219, 13), (241695, 66560, 11), (241695, 999958, 19), (241695, 203270, 5), (241695, 1006594, 19), (241695, 261635, 9), (241695, 796675, 11), (241695, 495119, 7), (1025026, 35, 0), (241695, 84499, 9), (1025026, 35, 19), (241695, 318981, 11), (241695, 563219, 19), (1025026, 229381, 3), (241695, 742411, 19), (1025026, 35, 3), (241695, 1080854, 9), (1025026, 229381, 20), (241695, 364047, 11), (241695, 740887, 19), (1025026, 229381, 4), (241695, 1025026, 24), (1025026, 229381, 5), (241695, 203270, 3), (241695, 996363, 11)}\n"
     ]
    },
    {
     "data": {
      "application/vnd.jupyter.widget-view+json": {
       "model_id": "0d485171f1d540a1ae8a256dda42c8e0",
       "version_major": 2,
       "version_minor": 0
      },
      "text/plain": [
       "  0%|          | 0/4949305 [00:00<?, ?it/s]"
      ]
     },
     "metadata": {},
     "output_type": "display_data"
    },
    {
     "name": "stdout",
     "output_type": "stream",
     "text": [
      "Found matching data for leaf node 37:\n",
      "Source: 757500, Destination: 37, Relation: 9\n",
      "layer1_source is: 757500\n",
      "# of the neighbor of layer1 source: 10026\n",
      "[131076, 851975, 917514, 622605, 360463, 229393, 622612, 1015831]\n",
      "8\n"
     ]
    },
    {
     "data": {
      "application/vnd.jupyter.widget-view+json": {
       "model_id": "ea9510020b094f82a04a139171a64c4c",
       "version_major": 2,
       "version_minor": 0
      },
      "text/plain": [
       "  0%|          | 0/4949305 [00:00<?, ?it/s]"
      ]
     },
     "metadata": {},
     "output_type": "display_data"
    },
    {
     "name": "stdout",
     "output_type": "stream",
     "text": [
      "original layer2: (954492, 757500, 24)\n",
      "# of triplets = 32\n",
      " DONE!!\n",
      "\n",
      "Triplets for iteration 25 have been written to ./benign/benign_4/25.txt\n",
      "the # of the triplets: 32\n",
      "{(954492, 786436, 7), (954492, 655371, 17), (954492, 655371, 3), (757500, 917514, 25), (954492, 131074, 17), (757500, 37, 9), (954492, 131074, 19), (757500, 458755, 7), (954492, 131074, 3), (954492, 655365, 9), (757500, 917514, 10), (954492, 655371, 5), (757500, 458755, 2), (954492, 1048577, 15), (954492, 786442, 20), (954492, 12, 9), (757500, 851975, 7), (954492, 786442, 5), (954492, 757500, 24), (954492, 1048577, 9), (954492, 524299, 9), (954492, 786442, 17), (954492, 1048577, 11), (954492, 786442, 19), (757500, 917514, 18), (757500, 131076, 9), (954492, 131074, 8), (954492, 393220, 9), (954492, 786442, 3), (954492, 131074, 20), (954492, 786439, 9), (954492, 131074, 5)}\n"
     ]
    },
    {
     "data": {
      "application/vnd.jupyter.widget-view+json": {
       "model_id": "830adee0c1f645288a4282b0abcb5e3b",
       "version_major": 2,
       "version_minor": 0
      },
      "text/plain": [
       "  0%|          | 0/4949305 [00:00<?, ?it/s]"
      ]
     },
     "metadata": {},
     "output_type": "display_data"
    },
    {
     "name": "stdout",
     "output_type": "stream",
     "text": [
      "Found matching data for leaf node 38:\n",
      "Source: 272194, Destination: 38, Relation: 3\n",
      "layer1_source is: 272194\n",
      "# of the neighbor of layer1 source: 73949\n",
      "[393219, 655366, 393223, 1048584, 262151, 262154, 8, 393227]\n",
      "8\n"
     ]
    },
    {
     "data": {
      "application/vnd.jupyter.widget-view+json": {
       "model_id": "80010f9dbe5b466399a5b2e0f94f0baf",
       "version_major": 2,
       "version_minor": 0
      },
      "text/plain": [
       "  0%|          | 0/4949305 [00:00<?, ?it/s]"
      ]
     },
     "metadata": {},
     "output_type": "display_data"
    },
    {
     "name": "stdout",
     "output_type": "stream",
     "text": [
      "original layer2: (19498, 272194, 24)\n",
      "# of triplets = 32\n",
      " DONE!!\n",
      "\n",
      "Triplets for iteration 26 have been written to ./benign/benign_4/26.txt\n",
      "the # of the triplets: 32\n",
      "{(19498, 65613, 19), (19498, 852007, 7), (272194, 131072, 3), (272194, 38, 20), (19498, 1114179, 7), (19498, 294929, 7), (19498, 262198, 7), (272194, 38, 19), (19498, 819248, 7), (19498, 819258, 7), (19498, 98387, 7), (19498, 589889, 9), (19498, 131165, 7), (272194, 38, 3), (272194, 131072, 13), (19498, 272194, 24), (19498, 59, 7), (19498, 196698, 7), (19498, 1081434, 7), (19498, 524363, 7), (19498, 196661, 7), (19498, 196664, 7), (19498, 524351, 7), (272194, 393219, 7), (19498, 65613, 13), (19498, 622652, 7), (19498, 393311, 7), (272194, 655366, 19), (19498, 65613, 3), (272194, 131072, 19), (19498, 1114116, 7), (19498, 819211, 7)}\n"
     ]
    },
    {
     "data": {
      "application/vnd.jupyter.widget-view+json": {
       "model_id": "48a45665d3fd447a92815e992834828d",
       "version_major": 2,
       "version_minor": 0
      },
      "text/plain": [
       "  0%|          | 0/4949305 [00:00<?, ?it/s]"
      ]
     },
     "metadata": {},
     "output_type": "display_data"
    },
    {
     "name": "stdout",
     "output_type": "stream",
     "text": [
      "Found matching data for leaf node 39:\n",
      "Source: 295347, Destination: 39, Relation: 9\n",
      "layer1_source is: 295347\n",
      "# of the neighbor of layer1 source: 25895\n",
      "[14, 131092, 393244, 524319, 524320, 39, 524343, 63]\n",
      "8\n"
     ]
    },
    {
     "data": {
      "application/vnd.jupyter.widget-view+json": {
       "model_id": "3f3cefcc908a43958f7b8876016464c0",
       "version_major": 2,
       "version_minor": 0
      },
      "text/plain": [
       "  0%|          | 0/4949305 [00:00<?, ?it/s]"
      ]
     },
     "metadata": {},
     "output_type": "display_data"
    },
    {
     "name": "stdout",
     "output_type": "stream",
     "text": [
      "Found matching data for leaf node 39:\n",
      "Source: 295347, Destination: 39, Relation: 15\n",
      "layer1_source is: 295347\n",
      "# of the neighbor of layer1 source: 25895\n",
      "[14, 131092, 393244, 524319, 524320, 39, 524343, 63]\n",
      "8\n"
     ]
    },
    {
     "data": {
      "application/vnd.jupyter.widget-view+json": {
       "model_id": "77fa68d2f5974110b77083dd4e217248",
       "version_major": 2,
       "version_minor": 0
      },
      "text/plain": [
       "  0%|          | 0/4949305 [00:00<?, ?it/s]"
      ]
     },
     "metadata": {},
     "output_type": "display_data"
    },
    {
     "name": "stdout",
     "output_type": "stream",
     "text": [
      "Found matching data for leaf node 39:\n",
      "Source: 295347, Destination: 39, Relation: 11\n",
      "layer1_source is: 295347\n",
      "# of the neighbor of layer1 source: 25895\n",
      "[14, 131092, 393244, 524319, 524320, 39, 524343, 63]\n",
      "8\n"
     ]
    },
    {
     "data": {
      "application/vnd.jupyter.widget-view+json": {
       "model_id": "640822ed55594ae2bacf0477ac76df97",
       "version_major": 2,
       "version_minor": 0
      },
      "text/plain": [
       "  0%|          | 0/4949305 [00:00<?, ?it/s]"
      ]
     },
     "metadata": {},
     "output_type": "display_data"
    },
    {
     "name": "stdout",
     "output_type": "stream",
     "text": [
      "Triplets for iteration 27 have been written to ./benign/benign_4/27.txt\n",
      "the # of the triplets: 8\n",
      "{(295347, 39, 11), (295347, 39, 15), (295347, 917510, 7), (295347, 131092, 13), (295347, 14, 9), (295347, 393244, 9), (295347, 39, 9), (295347, 524319, 7)}\n"
     ]
    },
    {
     "data": {
      "application/vnd.jupyter.widget-view+json": {
       "model_id": "ab0fca79fee545839f74dec0b4bfa5ce",
       "version_major": 2,
       "version_minor": 0
      },
      "text/plain": [
       "  0%|          | 0/4949305 [00:00<?, ?it/s]"
      ]
     },
     "metadata": {},
     "output_type": "display_data"
    },
    {
     "name": "stdout",
     "output_type": "stream",
     "text": [
      "Found matching data for leaf node 40:\n",
      "Source: 272194, Destination: 40, Relation: 13\n",
      "layer1_source is: 272194\n",
      "# of the neighbor of layer1 source: 73949\n",
      "[393219, 655366, 393223, 1048584, 262151, 262154, 8, 393227]\n",
      "8\n"
     ]
    },
    {
     "data": {
      "application/vnd.jupyter.widget-view+json": {
       "model_id": "be59f1735b044d55809d760a878d53d3",
       "version_major": 2,
       "version_minor": 0
      },
      "text/plain": [
       "  0%|          | 0/4949305 [00:00<?, ?it/s]"
      ]
     },
     "metadata": {},
     "output_type": "display_data"
    },
    {
     "name": "stdout",
     "output_type": "stream",
     "text": [
      "original layer2: (19498, 272194, 24)\n",
      "# of triplets = 32\n",
      " DONE!!\n",
      "\n",
      "Triplets for iteration 28 have been written to ./benign/benign_4/28.txt\n",
      "the # of the triplets: 32\n",
      "{(19498, 65613, 19), (19498, 852007, 7), (272194, 131072, 3), (19498, 1114179, 7), (19498, 294929, 7), (19498, 262198, 7), (19498, 819248, 7), (19498, 819258, 7), (19498, 98387, 7), (19498, 589889, 9), (19498, 131165, 7), (272194, 131072, 13), (272194, 655366, 13), (19498, 272194, 24), (19498, 59, 7), (19498, 196698, 7), (19498, 1081434, 7), (19498, 524363, 7), (19498, 196661, 7), (19498, 196664, 7), (19498, 524351, 7), (272194, 393219, 7), (19498, 65613, 13), (19498, 622652, 7), (19498, 393311, 7), (272194, 655366, 19), (19498, 65613, 3), (272194, 131072, 19), (272194, 40, 13), (19498, 1114116, 7), (272194, 655366, 3), (19498, 819211, 7)}\n"
     ]
    },
    {
     "data": {
      "application/vnd.jupyter.widget-view+json": {
       "model_id": "7e941e4ca7aa4279a2eb871c2e3a1574",
       "version_major": 2,
       "version_minor": 0
      },
      "text/plain": [
       "  0%|          | 0/4949305 [00:00<?, ?it/s]"
      ]
     },
     "metadata": {},
     "output_type": "display_data"
    },
    {
     "name": "stdout",
     "output_type": "stream",
     "text": [
      "Found matching data for leaf node 43:\n",
      "Source: 745444, Destination: 43, Relation: 6\n",
      "layer1_source is: 745444\n",
      "# of the neighbor of layer1 source: 4344\n",
      "[172032, 204805, 909319, 417800, 712715, 573452, 729099, 647180]\n",
      "8\n"
     ]
    },
    {
     "data": {
      "application/vnd.jupyter.widget-view+json": {
       "model_id": "00656c8714414f369e1a1331f1992fc1",
       "version_major": 2,
       "version_minor": 0
      },
      "text/plain": [
       "  0%|          | 0/4949305 [00:00<?, ?it/s]"
      ]
     },
     "metadata": {},
     "output_type": "display_data"
    },
    {
     "name": "stdout",
     "output_type": "stream",
     "text": [
      "original layer2: (927897, 745444, 24)\n",
      "# of triplets = 32\n",
      " DONE!!\n",
      "\n",
      "Triplets for iteration 29 have been written to ./benign/benign_4/29.txt\n",
      "the # of the triplets: 32\n",
      "{(927897, 131134, 11), (745444, 172032, 15), (745444, 43, 11), (927897, 720922, 7), (927897, 720968, 7), (745444, 43, 9), (927897, 229456, 9), (745444, 43, 6), (927897, 745444, 24), (927897, 983098, 7), (927897, 622599, 7), (927897, 1081410, 9), (927897, 131119, 11), (927897, 1015840, 7), (927897, 1081410, 11), (927897, 131119, 9), (927897, 91, 7), (927897, 589917, 7), (927897, 426002, 7), (927897, 1146956, 11), (745444, 172032, 11), (927897, 229379, 7), (927897, 229456, 11), (927897, 360540, 7), (927897, 1146956, 9), (745444, 622592, 9), (927897, 131134, 9), (927897, 131164, 7), (745444, 172032, 9), (745444, 43, 15), (927897, 1114129, 7), (927897, 1146910, 7)}\n"
     ]
    },
    {
     "data": {
      "application/vnd.jupyter.widget-view+json": {
       "model_id": "2cd5e49802c74a07a295324289ee5e04",
       "version_major": 2,
       "version_minor": 0
      },
      "text/plain": [
       "  0%|          | 0/4949305 [00:00<?, ?it/s]"
      ]
     },
     "metadata": {},
     "output_type": "display_data"
    },
    {
     "name": "stdout",
     "output_type": "stream",
     "text": [
      "Found matching data for leaf node 44:\n",
      "Source: 272194, Destination: 44, Relation: 13\n",
      "layer1_source is: 272194\n",
      "# of the neighbor of layer1 source: 73949\n",
      "[393219, 655366, 393223, 1048584, 262151, 262154, 8, 393227]\n",
      "8\n"
     ]
    },
    {
     "data": {
      "application/vnd.jupyter.widget-view+json": {
       "model_id": "d71820b0942f47c5a0664e6136a803b3",
       "version_major": 2,
       "version_minor": 0
      },
      "text/plain": [
       "  0%|          | 0/4949305 [00:00<?, ?it/s]"
      ]
     },
     "metadata": {},
     "output_type": "display_data"
    },
    {
     "name": "stdout",
     "output_type": "stream",
     "text": [
      "original layer2: (19498, 272194, 24)\n",
      "# of triplets = 32\n",
      " DONE!!\n",
      "\n",
      "Triplets for iteration 30 have been written to ./benign/benign_4/30.txt\n",
      "the # of the triplets: 32\n",
      "{(19498, 65613, 19), (19498, 852007, 7), (272194, 131072, 3), (19498, 1114179, 7), (19498, 294929, 7), (19498, 262198, 7), (19498, 819248, 7), (272194, 44, 13), (19498, 819258, 7), (19498, 98387, 7), (19498, 589889, 9), (19498, 131165, 7), (272194, 131072, 13), (272194, 655366, 13), (19498, 272194, 24), (19498, 59, 7), (19498, 196698, 7), (19498, 1081434, 7), (19498, 524363, 7), (19498, 196661, 7), (19498, 196664, 7), (19498, 524351, 7), (272194, 393219, 7), (19498, 65613, 13), (19498, 622652, 7), (19498, 393311, 7), (272194, 655366, 19), (19498, 65613, 3), (272194, 131072, 19), (19498, 1114116, 7), (272194, 655366, 3), (19498, 819211, 7)}\n"
     ]
    },
    {
     "data": {
      "application/vnd.jupyter.widget-view+json": {
       "model_id": "62d9434ec95c4687ba2ab4b48a6f83c4",
       "version_major": 2,
       "version_minor": 0
      },
      "text/plain": [
       "  0%|          | 0/4949305 [00:00<?, ?it/s]"
      ]
     },
     "metadata": {},
     "output_type": "display_data"
    },
    {
     "name": "stdout",
     "output_type": "stream",
     "text": [
      "Found matching data for leaf node 46:\n",
      "Source: 789081, Destination: 46, Relation: 3\n",
      "layer1_source is: 789081\n",
      "# of the neighbor of layer1 source: 57517\n",
      "[131075, 1048580, 786441, 917513, 917518, 262158, 524302, 917525]\n",
      "8\n"
     ]
    },
    {
     "data": {
      "application/vnd.jupyter.widget-view+json": {
       "model_id": "32e8c82f90a44ce1aa00bef8a97cbafe",
       "version_major": 2,
       "version_minor": 0
      },
      "text/plain": [
       "  0%|          | 0/4949305 [00:00<?, ?it/s]"
      ]
     },
     "metadata": {},
     "output_type": "display_data"
    },
    {
     "name": "stdout",
     "output_type": "stream",
     "text": [
      "original layer2: (208069, 789081, 24)\n",
      "# of triplets = 32\n",
      " DONE!!\n",
      "\n",
      "Triplets for iteration 31 have been written to ./benign/benign_4/31.txt\n",
      "the # of the triplets: 32\n",
      "{(789081, 524290, 0), (208069, 1017875, 13), (208069, 959527, 19), (789081, 524290, 19), (208069, 728623, 11), (789081, 46, 3), (789081, 524290, 20), (208069, 879619, 3), (208069, 1017875, 19), (208069, 188463, 9), (208069, 959527, 3), (789081, 524290, 3), (208069, 501797, 7), (208069, 483374, 3), (208069, 294454, 9), (208069, 879619, 19), (208069, 1017875, 3), (208069, 391700, 7), (208069, 483374, 5), (208069, 483374, 19), (208069, 319000, 9), (208069, 789081, 24), (208069, 1017875, 0), (789081, 131075, 3), (208069, 796675, 11), (208069, 1017875, 5), (208069, 1098764, 7), (208069, 70156, 7), (789081, 131075, 0), (208069, 84499, 9), (208069, 148998, 9), (789081, 46, 19)}\n"
     ]
    },
    {
     "data": {
      "application/vnd.jupyter.widget-view+json": {
       "model_id": "666adc78a6ce401da699fd021d759a2b",
       "version_major": 2,
       "version_minor": 0
      },
      "text/plain": [
       "  0%|          | 0/4949305 [00:00<?, ?it/s]"
      ]
     },
     "metadata": {},
     "output_type": "display_data"
    },
    {
     "name": "stdout",
     "output_type": "stream",
     "text": [
      "Found matching data for leaf node 48:\n",
      "Source: 981524, Destination: 48, Relation: 7\n",
      "layer1_source is: 981524\n",
      "# of the neighbor of layer1 source: 5791\n",
      "[622599, 557064, 98314, 1015820, 622611, 426008, 98329, 1146918]\n",
      "8\n"
     ]
    },
    {
     "data": {
      "application/vnd.jupyter.widget-view+json": {
       "model_id": "98423f219245470da1042d99d62c1dc0",
       "version_major": 2,
       "version_minor": 0
      },
      "text/plain": [
       "  0%|          | 0/4949305 [00:00<?, ?it/s]"
      ]
     },
     "metadata": {},
     "output_type": "display_data"
    },
    {
     "name": "stdout",
     "output_type": "stream",
     "text": [
      "original layer2: (280074, 981524, 24)\n",
      "# of triplets = 32\n",
      " DONE!!\n",
      "\n",
      "Triplets for iteration 32 have been written to ./benign/benign_4/32.txt\n",
      "the # of the triplets: 32\n",
      "{(280074, 524292, 3), (981524, 98314, 15), (280074, 34, 3), (981524, 557064, 7), (981524, 1114112, 15), (280074, 524294, 3), (280074, 5, 3), (280074, 131115, 3), (280074, 262159, 3), (280074, 524337, 3), (981524, 98314, 11), (981524, 48, 7), (280074, 393247, 3), (280074, 131103, 3), (280074, 981524, 24), (280074, 1048578, 3), (280074, 131119, 9), (981524, 622599, 7), (280074, 262172, 3), (280074, 786459, 3), (280074, 1048617, 3), (981524, 1015820, 19), (280074, 786440, 3), (280074, 131092, 13), (280074, 57, 3), (280074, 1048611, 3), (280074, 24, 3), (280074, 393254, 3), (280074, 524311, 3), (280074, 917541, 3), (981524, 1114112, 11), (280074, 655392, 3)}\n"
     ]
    },
    {
     "data": {
      "application/vnd.jupyter.widget-view+json": {
       "model_id": "7a175ab6a7ce45e888b7b91d95990d7e",
       "version_major": 2,
       "version_minor": 0
      },
      "text/plain": [
       "  0%|          | 0/4949305 [00:00<?, ?it/s]"
      ]
     },
     "metadata": {},
     "output_type": "display_data"
    },
    {
     "name": "stdout",
     "output_type": "stream",
     "text": [
      "Found matching data for leaf node 49:\n",
      "Source: 1076424, Destination: 49, Relation: 9\n",
      "layer1_source is: 1076424\n",
      "# of the neighbor of layer1 source: 52605\n",
      "[786436, 1048584, 262154, 262164, 1048598, 393241, 262170, 1048603]\n",
      "8\n"
     ]
    },
    {
     "data": {
      "application/vnd.jupyter.widget-view+json": {
       "model_id": "f7c9bce5000544a7882cac940c4facf0",
       "version_major": 2,
       "version_minor": 0
      },
      "text/plain": [
       "  0%|          | 0/4949305 [00:00<?, ?it/s]"
      ]
     },
     "metadata": {},
     "output_type": "display_data"
    },
    {
     "name": "stdout",
     "output_type": "stream",
     "text": [
      "Found matching data for leaf node 49:\n",
      "Source: 145379, Destination: 49, Relation: 9\n",
      "layer1_source is: 145379\n",
      "# of the neighbor of layer1 source: 30536\n",
      "[262154, 524301, 262164, 393241, 393249, 262184, 131117, 262189]\n",
      "12\n"
     ]
    },
    {
     "data": {
      "application/vnd.jupyter.widget-view+json": {
       "model_id": "48013a84f8b84e34b9085cfe420c61a9",
       "version_major": 2,
       "version_minor": 0
      },
      "text/plain": [
       "  0%|          | 0/4949305 [00:00<?, ?it/s]"
      ]
     },
     "metadata": {},
     "output_type": "display_data"
    },
    {
     "name": "stdout",
     "output_type": "stream",
     "text": [
      "Found matching data for leaf node 49:\n",
      "Source: 62762, Destination: 49, Relation: 9\n",
      "layer1_source is: 62762\n",
      "# of the neighbor of layer1 source: 50059\n",
      "[655367, 1048584, 262154, 1048594, 786452, 917526, 393241, 131100]\n",
      "19\n"
     ]
    },
    {
     "data": {
      "application/vnd.jupyter.widget-view+json": {
       "model_id": "0152ef07bf8346a4a37a72db1f97476e",
       "version_major": 2,
       "version_minor": 0
      },
      "text/plain": [
       "  0%|          | 0/4949305 [00:00<?, ?it/s]"
      ]
     },
     "metadata": {},
     "output_type": "display_data"
    },
    {
     "name": "stdout",
     "output_type": "stream",
     "text": [
      "Triplets for iteration 33 have been written to ./benign/benign_4/33.txt\n",
      "the # of the triplets: 19\n",
      "{(1076424, 1048584, 5), (1076424, 49, 9), (1076424, 131072, 19), (1076424, 131072, 5), (62762, 0, 20), (62762, 0, 13), (62762, 49, 9), (62762, 0, 19), (145379, 1048584, 5), (1076424, 786436, 7), (1076424, 1048584, 3), (145379, 1048584, 19), (62762, 0, 5), (62762, 0, 3), (1076424, 131072, 3), (62762, 0, 22), (145379, 49, 9), (1076424, 1048584, 19), (145379, 1048584, 3)}\n"
     ]
    },
    {
     "data": {
      "application/vnd.jupyter.widget-view+json": {
       "model_id": "8a6d3edd3a2244d981c27af1835e9995",
       "version_major": 2,
       "version_minor": 0
      },
      "text/plain": [
       "  0%|          | 0/4949305 [00:00<?, ?it/s]"
      ]
     },
     "metadata": {},
     "output_type": "display_data"
    },
    {
     "name": "stdout",
     "output_type": "stream",
     "text": [
      "Found matching data for leaf node 51:\n",
      "Source: 694771, Destination: 51, Relation: 9\n",
      "layer1_source is: 694771\n",
      "# of the neighbor of layer1 source: 1115\n",
      "[833538, 714757, 102405, 444428, 184334, 174098, 827412, 571415]\n",
      "8\n"
     ]
    },
    {
     "data": {
      "application/vnd.jupyter.widget-view+json": {
       "model_id": "9d2598e369f343a98671dc54196fbcdd",
       "version_major": 2,
       "version_minor": 0
      },
      "text/plain": [
       "  0%|          | 0/4949305 [00:00<?, ?it/s]"
      ]
     },
     "metadata": {},
     "output_type": "display_data"
    },
    {
     "name": "stdout",
     "output_type": "stream",
     "text": [
      "Found matching data for leaf node 51:\n",
      "Source: 694771, Destination: 51, Relation: 11\n",
      "layer1_source is: 694771\n",
      "# of the neighbor of layer1 source: 1115\n",
      "[833538, 714757, 102405, 444428, 184334, 174098, 827412, 571415]\n",
      "8\n"
     ]
    },
    {
     "data": {
      "application/vnd.jupyter.widget-view+json": {
       "model_id": "04ac4966faa043f88080570da5864cf2",
       "version_major": 2,
       "version_minor": 0
      },
      "text/plain": [
       "  0%|          | 0/4949305 [00:00<?, ?it/s]"
      ]
     },
     "metadata": {},
     "output_type": "display_data"
    },
    {
     "name": "stdout",
     "output_type": "stream",
     "text": [
      "Triplets for iteration 34 have been written to ./benign/benign_4/34.txt\n",
      "the # of the triplets: 8\n",
      "{(694771, 184334, 7), (694771, 124930, 7), (694771, 833538, 7), (694771, 102405, 7), (694771, 51, 9), (694771, 444428, 20), (694771, 51, 11), (694771, 714757, 7)}\n"
     ]
    },
    {
     "data": {
      "application/vnd.jupyter.widget-view+json": {
       "model_id": "1b2f885173c943ccb14f9d1c6c096c9f",
       "version_major": 2,
       "version_minor": 0
      },
      "text/plain": [
       "  0%|          | 0/4949305 [00:00<?, ?it/s]"
      ]
     },
     "metadata": {},
     "output_type": "display_data"
    },
    {
     "name": "stdout",
     "output_type": "stream",
     "text": [
      "Found matching data for leaf node 52:\n",
      "Source: 1028649, Destination: 52, Relation: 3\n",
      "layer1_source is: 1028649\n",
      "# of the neighbor of layer1 source: 23362\n",
      "[262146, 655367, 786452, 393236, 786454, 28, 1048605, 31]\n",
      "8\n"
     ]
    },
    {
     "data": {
      "application/vnd.jupyter.widget-view+json": {
       "model_id": "7df43ba5084f4abbbed7a62111eb3382",
       "version_major": 2,
       "version_minor": 0
      },
      "text/plain": [
       "  0%|          | 0/4949305 [00:00<?, ?it/s]"
      ]
     },
     "metadata": {},
     "output_type": "display_data"
    },
    {
     "name": "stdout",
     "output_type": "stream",
     "text": [
      "original layer2: (1035455, 1028649, 24)\n",
      "# of triplets = 32\n",
      " DONE!!\n",
      "\n",
      "Triplets for iteration 35 have been written to ./benign/benign_4/35.txt\n",
      "the # of the triplets: 32\n",
      "{(1028649, 52, 3), (1035455, 595218, 3), (1028649, 262146, 3), (1035455, 1149594, 9), (1035455, 796675, 11), (1035455, 84499, 9), (1035455, 245409, 9), (1028649, 0, 13), (1035455, 950174, 9), (1035455, 801183, 7), (1028649, 0, 3), (1035455, 874773, 9), (1035455, 322974, 7), (1035455, 1017875, 5), (1035455, 601887, 9), (1035455, 977041, 9), (1028649, 0, 19), (1035455, 601887, 11), (1035455, 391700, 7), (1035455, 286477, 9), (1035455, 52633, 7), (1028649, 0, 17), (1035455, 1017875, 19), (1035455, 963464, 7), (1028649, 0, 5), (1035455, 1017875, 0), (1035455, 950174, 11), (1035455, 1017875, 3), (1035455, 595218, 19), (1035455, 1028649, 24), (1028649, 0, 8), (1035455, 717221, 11)}\n"
     ]
    },
    {
     "data": {
      "application/vnd.jupyter.widget-view+json": {
       "model_id": "f67946385fb5416e8174667e9536a90a",
       "version_major": 2,
       "version_minor": 0
      },
      "text/plain": [
       "  0%|          | 0/4949305 [00:00<?, ?it/s]"
      ]
     },
     "metadata": {},
     "output_type": "display_data"
    },
    {
     "name": "stdout",
     "output_type": "stream",
     "text": [
      "Found matching data for leaf node 53:\n",
      "Source: 1028649, Destination: 53, Relation: 3\n",
      "layer1_source is: 1028649\n",
      "# of the neighbor of layer1 source: 23362\n",
      "[262146, 655367, 786452, 393236, 786454, 28, 1048605, 31]\n",
      "8\n"
     ]
    },
    {
     "data": {
      "application/vnd.jupyter.widget-view+json": {
       "model_id": "5301fc35ba154300a78ba7468e96c7e1",
       "version_major": 2,
       "version_minor": 0
      },
      "text/plain": [
       "  0%|          | 0/4949305 [00:00<?, ?it/s]"
      ]
     },
     "metadata": {},
     "output_type": "display_data"
    },
    {
     "name": "stdout",
     "output_type": "stream",
     "text": [
      "original layer2: (1035455, 1028649, 24)\n",
      "# of triplets = 32\n",
      " DONE!!\n",
      "\n",
      "Triplets for iteration 36 have been written to ./benign/benign_4/36.txt\n",
      "the # of the triplets: 32\n",
      "{(1035455, 595218, 3), (1028649, 262146, 3), (1035455, 1149594, 9), (1035455, 796675, 11), (1035455, 84499, 9), (1035455, 245409, 9), (1028649, 0, 13), (1035455, 950174, 9), (1035455, 801183, 7), (1028649, 0, 3), (1035455, 874773, 9), (1035455, 322974, 7), (1035455, 1017875, 5), (1035455, 601887, 9), (1035455, 977041, 9), (1028649, 0, 19), (1035455, 601887, 11), (1035455, 391700, 7), (1035455, 286477, 9), (1035455, 52633, 7), (1028649, 0, 17), (1035455, 1017875, 19), (1035455, 963464, 7), (1028649, 0, 5), (1035455, 1017875, 0), (1035455, 950174, 11), (1028649, 53, 3), (1035455, 1017875, 3), (1035455, 595218, 19), (1035455, 1028649, 24), (1028649, 0, 8), (1035455, 717221, 11)}\n"
     ]
    },
    {
     "data": {
      "application/vnd.jupyter.widget-view+json": {
       "model_id": "160663e20efd4a33b69e299a6f002e42",
       "version_major": 2,
       "version_minor": 0
      },
      "text/plain": [
       "  0%|          | 0/4949305 [00:00<?, ?it/s]"
      ]
     },
     "metadata": {},
     "output_type": "display_data"
    },
    {
     "name": "stdout",
     "output_type": "stream",
     "text": [
      "Found matching data for leaf node 55:\n",
      "Source: 1003134, Destination: 55, Relation: 3\n",
      "layer1_source is: 1003134\n",
      "# of the neighbor of layer1 source: 211162\n",
      "[524288, 524290, 1048580, 1048584, 524302, 17, 524306, 524307]\n",
      "8\n"
     ]
    },
    {
     "data": {
      "application/vnd.jupyter.widget-view+json": {
       "model_id": "aaf0302eaa664ef0bdfc84c399404ede",
       "version_major": 2,
       "version_minor": 0
      },
      "text/plain": [
       "  0%|          | 0/4949305 [00:00<?, ?it/s]"
      ]
     },
     "metadata": {},
     "output_type": "display_data"
    },
    {
     "name": "stdout",
     "output_type": "stream",
     "text": [
      "original layer2: (677631, 1003134, 24)\n",
      "# of triplets = 32\n",
      " DONE!!\n",
      "\n",
      "Triplets for iteration 37 have been written to ./benign/benign_4/37.txt\n",
      "the # of the triplets: 32\n",
      "{(677631, 376841, 17), (677631, 376841, 5), (677631, 376841, 4), (677631, 376841, 22), (677631, 983042, 4), (677631, 983042, 22), (677631, 376841, 21), (677631, 983042, 5), (677631, 376841, 20), (677631, 983042, 20), (677631, 155665, 19), (1003134, 55, 3), (677631, 983042, 3), (677631, 983042, 21), (1003134, 1048576, 0), (1003134, 1048576, 3), (1003134, 524288, 3), (677631, 1003134, 24), (677631, 155665, 3), (677631, 155665, 17), (677631, 983042, 19), (677631, 950287, 19), (1003134, 1048576, 5), (1003134, 1048576, 19), (677631, 983042, 17), (1003134, 524290, 3), (677631, 581646, 19), (677631, 376841, 3), (677631, 155665, 5), (1003134, 1048576, 22), (677631, 155665, 4), (677631, 376841, 19)}\n"
     ]
    },
    {
     "data": {
      "application/vnd.jupyter.widget-view+json": {
       "model_id": "cfa631ed0d434eda8c5fbb86f5db92b3",
       "version_major": 2,
       "version_minor": 0
      },
      "text/plain": [
       "  0%|          | 0/4949305 [00:00<?, ?it/s]"
      ]
     },
     "metadata": {},
     "output_type": "display_data"
    },
    {
     "name": "stdout",
     "output_type": "stream",
     "text": [
      "Found matching data for leaf node 56:\n",
      "Source: 1028649, Destination: 56, Relation: 3\n",
      "layer1_source is: 1028649\n",
      "# of the neighbor of layer1 source: 23362\n",
      "[262146, 655367, 786452, 393236, 786454, 28, 1048605, 31]\n",
      "8\n"
     ]
    },
    {
     "data": {
      "application/vnd.jupyter.widget-view+json": {
       "model_id": "e1afd26fdd5c4865a961576bd7d77839",
       "version_major": 2,
       "version_minor": 0
      },
      "text/plain": [
       "  0%|          | 0/4949305 [00:00<?, ?it/s]"
      ]
     },
     "metadata": {},
     "output_type": "display_data"
    },
    {
     "name": "stdout",
     "output_type": "stream",
     "text": [
      "original layer2: (1035455, 1028649, 24)\n",
      "# of triplets = 32\n",
      " DONE!!\n",
      "\n",
      "Triplets for iteration 38 have been written to ./benign/benign_4/38.txt\n",
      "the # of the triplets: 32\n",
      "{(1035455, 595218, 3), (1028649, 262146, 3), (1035455, 1149594, 9), (1035455, 796675, 11), (1035455, 84499, 9), (1035455, 245409, 9), (1028649, 0, 13), (1035455, 950174, 9), (1028649, 56, 3), (1035455, 801183, 7), (1028649, 0, 3), (1035455, 874773, 9), (1035455, 322974, 7), (1035455, 1017875, 5), (1035455, 601887, 9), (1035455, 977041, 9), (1028649, 0, 19), (1035455, 601887, 11), (1035455, 391700, 7), (1035455, 286477, 9), (1035455, 52633, 7), (1028649, 0, 17), (1035455, 1017875, 19), (1035455, 963464, 7), (1028649, 0, 5), (1035455, 1017875, 0), (1035455, 950174, 11), (1035455, 1017875, 3), (1035455, 595218, 19), (1035455, 1028649, 24), (1028649, 0, 8), (1035455, 717221, 11)}\n"
     ]
    },
    {
     "data": {
      "application/vnd.jupyter.widget-view+json": {
       "model_id": "cdffe12b50ef4a90b0377e6eb06ae183",
       "version_major": 2,
       "version_minor": 0
      },
      "text/plain": [
       "  0%|          | 0/4949305 [00:00<?, ?it/s]"
      ]
     },
     "metadata": {},
     "output_type": "display_data"
    },
    {
     "name": "stdout",
     "output_type": "stream",
     "text": [
      "Found matching data for leaf node 57:\n",
      "Source: 280074, Destination: 57, Relation: 3\n",
      "layer1_source is: 280074\n",
      "# of the neighbor of layer1 source: 52002\n",
      "[524292, 5, 524294, 786440, 262159, 131092, 524311, 24]\n",
      "8\n"
     ]
    },
    {
     "data": {
      "application/vnd.jupyter.widget-view+json": {
       "model_id": "eac2fc2cc20a4b18bedd3f857006ed29",
       "version_major": 2,
       "version_minor": 0
      },
      "text/plain": [
       "  0%|          | 0/4949305 [00:00<?, ?it/s]"
      ]
     },
     "metadata": {},
     "output_type": "display_data"
    },
    {
     "name": "stdout",
     "output_type": "stream",
     "text": [
      "original layer2: (23340, 280074, 24)\n",
      "# of triplets = 32\n",
      " DONE!!\n",
      "\n",
      "Triplets for iteration 39 have been written to ./benign/benign_4/39.txt\n",
      "the # of the triplets: 32\n",
      "{(280074, 524292, 3), (23340, 1081368, 13), (23340, 589850, 3), (23340, 491552, 5), (280074, 524294, 3), (23340, 98314, 15), (280074, 5, 3), (23340, 753699, 15), (280074, 262159, 3), (23340, 98314, 9), (280074, 1048578, 3), (23340, 327716, 7), (23340, 98314, 11), (23340, 753699, 11), (23340, 983090, 5), (23340, 280074, 24), (23340, 819227, 15), (23340, 983090, 4), (23340, 983090, 17), (23340, 491552, 8), (280074, 786440, 3), (280074, 131092, 13), (23340, 983090, 1), (23340, 786432, 19), (23340, 819227, 11), (280074, 57, 3), (23340, 622605, 7), (23340, 983090, 3), (23340, 491552, 3), (23340, 819227, 9), (23340, 426000, 7), (23340, 491552, 19)}\n"
     ]
    },
    {
     "data": {
      "application/vnd.jupyter.widget-view+json": {
       "model_id": "28c5bcaace54422196d7869009c1184d",
       "version_major": 2,
       "version_minor": 0
      },
      "text/plain": [
       "  0%|          | 0/4949305 [00:00<?, ?it/s]"
      ]
     },
     "metadata": {},
     "output_type": "display_data"
    },
    {
     "name": "stdout",
     "output_type": "stream",
     "text": [
      "Found matching data for leaf node 59:\n",
      "Source: 1138178, Destination: 59, Relation: 7\n",
      "layer1_source is: 1138178\n",
      "# of the neighbor of layer1 source: 3894\n",
      "[851975, 999437, 401425, 876561, 860182, 1015831, 843801, 843808]\n",
      "8\n"
     ]
    },
    {
     "data": {
      "application/vnd.jupyter.widget-view+json": {
       "model_id": "2d5d803029834ec9b54d42bfc4d0cb96",
       "version_major": 2,
       "version_minor": 0
      },
      "text/plain": [
       "  0%|          | 0/4949305 [00:00<?, ?it/s]"
      ]
     },
     "metadata": {},
     "output_type": "display_data"
    },
    {
     "name": "stdout",
     "output_type": "stream",
     "text": [
      "original layer2: (834175, 1138178, 24)\n",
      "# of triplets = 32\n",
      " DONE!!\n",
      "\n",
      "Triplets for iteration 40 have been written to ./benign/benign_4/40.txt\n",
      "the # of the triplets: 32\n",
      "{(834175, 1138178, 24), (1138178, 860182, 7), (834175, 391700, 7), (834175, 801837, 7), (834175, 288262, 3), (1138178, 1015831, 7), (834175, 879619, 3), (1138178, 737286, 7), (1138178, 999437, 7), (834175, 288262, 19), (1138178, 851975, 7), (834175, 879619, 19), (1138178, 401425, 7), (1138178, 876561, 7), (834175, 818193, 19), (834175, 483374, 3), (834175, 123910, 7), (834175, 1098764, 7), (834175, 483374, 19), (834175, 818193, 3), (834175, 441872, 11), (834175, 188463, 9), (834175, 84499, 9), (834175, 501797, 7), (834175, 483374, 5), (834175, 148998, 9), (1138178, 59, 7), (834175, 959516, 9), (834175, 818193, 5), (834175, 728100, 9), (834175, 959516, 11), (834175, 728100, 11)}\n"
     ]
    },
    {
     "data": {
      "application/vnd.jupyter.widget-view+json": {
       "model_id": "5c8ccbf0c72e49a5bf1c32452014721f",
       "version_major": 2,
       "version_minor": 0
      },
      "text/plain": [
       "  0%|          | 0/4949305 [00:00<?, ?it/s]"
      ]
     },
     "metadata": {},
     "output_type": "display_data"
    },
    {
     "name": "stdout",
     "output_type": "stream",
     "text": [
      "Found matching data for leaf node 60:\n",
      "Source: 1003134, Destination: 60, Relation: 3\n",
      "layer1_source is: 1003134\n",
      "# of the neighbor of layer1 source: 211162\n",
      "[524288, 524290, 1048580, 1048584, 524302, 17, 524306, 524307]\n",
      "8\n"
     ]
    },
    {
     "data": {
      "application/vnd.jupyter.widget-view+json": {
       "model_id": "ea4412b99bbc4051aec51a55ddd4f8b1",
       "version_major": 2,
       "version_minor": 0
      },
      "text/plain": [
       "  0%|          | 0/4949305 [00:00<?, ?it/s]"
      ]
     },
     "metadata": {},
     "output_type": "display_data"
    },
    {
     "name": "stdout",
     "output_type": "stream",
     "text": [
      "original layer2: (677631, 1003134, 24)\n",
      "# of triplets = 32\n",
      " DONE!!\n",
      "\n",
      "Triplets for iteration 41 have been written to ./benign/benign_4/41.txt\n",
      "the # of the triplets: 32\n",
      "{(1003134, 60, 3), (677631, 376841, 17), (677631, 376841, 5), (677631, 376841, 4), (677631, 376841, 22), (677631, 983042, 4), (677631, 983042, 22), (677631, 376841, 21), (677631, 983042, 5), (677631, 376841, 20), (677631, 983042, 20), (677631, 155665, 19), (677631, 983042, 3), (677631, 983042, 21), (1003134, 1048576, 0), (1003134, 1048576, 3), (1003134, 524288, 3), (677631, 1003134, 24), (677631, 155665, 3), (677631, 155665, 17), (677631, 983042, 19), (677631, 950287, 19), (1003134, 1048576, 5), (1003134, 1048576, 19), (677631, 983042, 17), (1003134, 524290, 3), (677631, 581646, 19), (677631, 376841, 3), (677631, 155665, 5), (1003134, 1048576, 22), (677631, 155665, 4), (677631, 376841, 19)}\n"
     ]
    },
    {
     "data": {
      "application/vnd.jupyter.widget-view+json": {
       "model_id": "664fc4b21a3844fe8cdaac4a9f42004d",
       "version_major": 2,
       "version_minor": 0
      },
      "text/plain": [
       "  0%|          | 0/4949305 [00:00<?, ?it/s]"
      ]
     },
     "metadata": {},
     "output_type": "display_data"
    },
    {
     "name": "stdout",
     "output_type": "stream",
     "text": [
      "Found matching data for leaf node 61:\n",
      "Source: 272194, Destination: 61, Relation: 2\n",
      "layer1_source is: 272194\n",
      "# of the neighbor of layer1 source: 73949\n",
      "[393219, 655366, 393223, 1048584, 262151, 262154, 8, 393227]\n",
      "8\n"
     ]
    },
    {
     "data": {
      "application/vnd.jupyter.widget-view+json": {
       "model_id": "844a6e3ba0bb43769b7abf93873f59c5",
       "version_major": 2,
       "version_minor": 0
      },
      "text/plain": [
       "  0%|          | 0/4949305 [00:00<?, ?it/s]"
      ]
     },
     "metadata": {},
     "output_type": "display_data"
    },
    {
     "name": "stdout",
     "output_type": "stream",
     "text": [
      "original layer2: (19498, 272194, 24)\n",
      "# of triplets = 32\n",
      " DONE!!\n",
      "\n",
      "Triplets for iteration 42 have been written to ./benign/benign_4/42.txt\n",
      "the # of the triplets: 32\n",
      "{(19498, 65613, 19), (19498, 852007, 7), (272194, 131072, 3), (19498, 1114179, 7), (19498, 294929, 7), (19498, 262198, 7), (19498, 819248, 7), (19498, 819258, 7), (19498, 98387, 7), (19498, 589889, 9), (19498, 131165, 7), (272194, 131072, 13), (19498, 272194, 24), (19498, 59, 7), (19498, 196698, 7), (19498, 1081434, 7), (19498, 524363, 7), (19498, 196661, 7), (19498, 196664, 7), (19498, 524351, 7), (272194, 393219, 7), (272194, 61, 2), (19498, 65613, 13), (19498, 622652, 7), (19498, 393311, 7), (272194, 655366, 19), (19498, 65613, 3), (272194, 131072, 19), (272194, 61, 7), (19498, 1114116, 7), (272194, 655366, 3), (19498, 819211, 7)}\n"
     ]
    },
    {
     "data": {
      "application/vnd.jupyter.widget-view+json": {
       "model_id": "ff503829bbd14e0b9f4cdc8d708cda64",
       "version_major": 2,
       "version_minor": 0
      },
      "text/plain": [
       "  0%|          | 0/4949305 [00:00<?, ?it/s]"
      ]
     },
     "metadata": {},
     "output_type": "display_data"
    },
    {
     "name": "stdout",
     "output_type": "stream",
     "text": [
      "Found matching data for leaf node 63:\n",
      "Source: 295347, Destination: 63, Relation: 9\n",
      "layer1_source is: 295347\n",
      "# of the neighbor of layer1 source: 25895\n",
      "[14, 131092, 393244, 524319, 524320, 39, 524343, 63]\n",
      "8\n"
     ]
    },
    {
     "data": {
      "application/vnd.jupyter.widget-view+json": {
       "model_id": "fc0a5b34f0774949a44539c73bcdd804",
       "version_major": 2,
       "version_minor": 0
      },
      "text/plain": [
       "  0%|          | 0/4949305 [00:00<?, ?it/s]"
      ]
     },
     "metadata": {},
     "output_type": "display_data"
    },
    {
     "name": "stdout",
     "output_type": "stream",
     "text": [
      "Triplets for iteration 43 have been written to ./benign/benign_4/43.txt\n",
      "the # of the triplets: 8\n",
      "{(295347, 524320, 9), (295347, 917510, 7), (295347, 63, 9), (295347, 131092, 13), (295347, 14, 9), (295347, 393244, 9), (295347, 39, 9), (295347, 524319, 7)}\n"
     ]
    },
    {
     "data": {
      "application/vnd.jupyter.widget-view+json": {
       "model_id": "246b4f8a3dd648a8bdfb1ad225113466",
       "version_major": 2,
       "version_minor": 0
      },
      "text/plain": [
       "  0%|          | 0/4949305 [00:00<?, ?it/s]"
      ]
     },
     "metadata": {},
     "output_type": "display_data"
    },
    {
     "name": "stdout",
     "output_type": "stream",
     "text": [
      "Found matching data for leaf node 67:\n",
      "Source: 444542, Destination: 67, Relation: 13\n",
      "layer1_source is: 444542\n",
      "# of the neighbor of layer1 source: 59003\n",
      "[917505, 131072, 786435, 655364, 917509, 1048589, 262161, 786450]\n",
      "8\n"
     ]
    },
    {
     "data": {
      "application/vnd.jupyter.widget-view+json": {
       "model_id": "4d29b819dd934064b75314c672b04cea",
       "version_major": 2,
       "version_minor": 0
      },
      "text/plain": [
       "  0%|          | 0/4949305 [00:00<?, ?it/s]"
      ]
     },
     "metadata": {},
     "output_type": "display_data"
    },
    {
     "name": "stdout",
     "output_type": "stream",
     "text": [
      "original layer2: (918633, 444542, 24)\n",
      "# of triplets = 32\n",
      " DONE!!\n",
      "\n",
      "Triplets for iteration 44 have been written to ./benign/benign_4/44.txt\n",
      "the # of the triplets: 32\n",
      "{(918633, 1087535, 7), (918633, 509980, 15), (444542, 67, 8), (918633, 165951, 0), (918633, 483374, 5), (918633, 163903, 7), (918633, 419911, 9), (918633, 165951, 5), (918633, 509980, 11), (444542, 67, 13), (918633, 444542, 24), (918633, 509980, 9), (918633, 483374, 3), (918633, 796675, 11), (444542, 1048576, 3), (918633, 1107996, 7), (918633, 188463, 9), (918633, 563202, 3), (918633, 55368, 9), (918633, 483374, 19), (444542, 1048576, 5), (918633, 722985, 7), (918633, 661519, 7), (444542, 67, 3), (444542, 67, 17), (918633, 165951, 19), (444542, 67, 5), (918633, 368671, 7), (444542, 67, 19), (918633, 165951, 17), (918633, 165951, 3), (918633, 157752, 7)}\n"
     ]
    },
    {
     "data": {
      "application/vnd.jupyter.widget-view+json": {
       "model_id": "5ee282d63dff4ee887a289968d9c4ed7",
       "version_major": 2,
       "version_minor": 0
      },
      "text/plain": [
       "  0%|          | 0/4949305 [00:00<?, ?it/s]"
      ]
     },
     "metadata": {},
     "output_type": "display_data"
    },
    {
     "name": "stdout",
     "output_type": "stream",
     "text": [
      "Found matching data for leaf node 68:\n",
      "Source: 272194, Destination: 68, Relation: 7\n",
      "layer1_source is: 272194\n",
      "# of the neighbor of layer1 source: 73949\n",
      "[393219, 655366, 393223, 1048584, 262151, 262154, 8, 393227]\n",
      "8\n"
     ]
    },
    {
     "data": {
      "application/vnd.jupyter.widget-view+json": {
       "model_id": "7376352463f04c8b81830cd42813c6f8",
       "version_major": 2,
       "version_minor": 0
      },
      "text/plain": [
       "  0%|          | 0/4949305 [00:00<?, ?it/s]"
      ]
     },
     "metadata": {},
     "output_type": "display_data"
    },
    {
     "name": "stdout",
     "output_type": "stream",
     "text": [
      "original layer2: (19498, 272194, 24)\n",
      "# of triplets = 32\n",
      " DONE!!\n",
      "\n",
      "Triplets for iteration 45 have been written to ./benign/benign_4/45.txt\n",
      "the # of the triplets: 32\n",
      "{(19498, 65613, 19), (19498, 852007, 7), (272194, 131072, 3), (19498, 1114179, 7), (19498, 294929, 7), (19498, 262198, 7), (19498, 819248, 7), (19498, 819258, 7), (19498, 98387, 7), (19498, 589889, 9), (19498, 131165, 7), (272194, 131072, 13), (272194, 655366, 13), (19498, 272194, 24), (19498, 59, 7), (19498, 196698, 7), (19498, 1081434, 7), (19498, 524363, 7), (272194, 68, 7), (19498, 196661, 7), (19498, 196664, 7), (19498, 524351, 7), (272194, 393219, 7), (19498, 65613, 13), (19498, 622652, 7), (19498, 393311, 7), (272194, 655366, 19), (19498, 65613, 3), (272194, 131072, 19), (19498, 1114116, 7), (272194, 655366, 3), (19498, 819211, 7)}\n"
     ]
    },
    {
     "data": {
      "application/vnd.jupyter.widget-view+json": {
       "model_id": "ae71b5c3d4724f05867ce6df7ab9a527",
       "version_major": 2,
       "version_minor": 0
      },
      "text/plain": [
       "  0%|          | 0/4949305 [00:00<?, ?it/s]"
      ]
     },
     "metadata": {},
     "output_type": "display_data"
    },
    {
     "name": "stdout",
     "output_type": "stream",
     "text": [
      "Found matching data for leaf node 69:\n",
      "Source: 235109, Destination: 69, Relation: 7\n",
      "layer1_source is: 235109\n",
      "# of the neighbor of layer1 source: 1829\n",
      "[966665, 892938, 802828, 335886, 253969, 237593, 942108, 524316]\n",
      "8\n"
     ]
    },
    {
     "data": {
      "application/vnd.jupyter.widget-view+json": {
       "model_id": "25f505e91de948b786a7bc221af9aa02",
       "version_major": 2,
       "version_minor": 0
      },
      "text/plain": [
       "  0%|          | 0/4949305 [00:00<?, ?it/s]"
      ]
     },
     "metadata": {},
     "output_type": "display_data"
    },
    {
     "name": "stdout",
     "output_type": "stream",
     "text": [
      "original layer2: (573257, 235109, 24)\n",
      "# of triplets = 32\n",
      " DONE!!\n",
      "\n",
      "Triplets for iteration 46 have been written to ./benign/benign_4/46.txt\n",
      "the # of the triplets: 32\n",
      "{(235109, 237593, 7), (573257, 876597, 2), (573257, 57397, 2), (573257, 155721, 7), (573257, 483374, 3), (235109, 69, 7), (573257, 483374, 19), (235109, 802828, 7), (573257, 491603, 11), (573257, 409667, 7), (573257, 917545, 6), (573257, 491603, 9), (573257, 409688, 7), (573257, 720940, 2), (573257, 491622, 9), (235109, 253969, 7), (573257, 917545, 9), (573257, 1048672, 7), (235109, 270345, 7), (573257, 409667, 16), (235109, 892938, 7), (573257, 458836, 7), (573257, 893009, 7), (573257, 876597, 7), (573257, 483374, 5), (573257, 57397, 7), (573257, 245859, 13), (573257, 49222, 24), (235109, 966665, 7), (235109, 335886, 7), (573257, 235109, 24), (573257, 458836, 2)}\n"
     ]
    },
    {
     "data": {
      "application/vnd.jupyter.widget-view+json": {
       "model_id": "2637fa3341c3481d8fe2e67979c3ac85",
       "version_major": 2,
       "version_minor": 0
      },
      "text/plain": [
       "  0%|          | 0/4949305 [00:00<?, ?it/s]"
      ]
     },
     "metadata": {},
     "output_type": "display_data"
    },
    {
     "name": "stdout",
     "output_type": "stream",
     "text": [
      "Found matching data for leaf node 70:\n",
      "Source: 113197, Destination: 70, Relation: 3\n",
      "layer1_source is: 113197\n",
      "# of the neighbor of layer1 source: 9909\n",
      "[360456, 753674, 622605, 294928, 131100, 32799, 917537, 196642]\n",
      "8\n"
     ]
    },
    {
     "data": {
      "application/vnd.jupyter.widget-view+json": {
       "model_id": "bfecb84d8a5f465aadfd3e3a44b80990",
       "version_major": 2,
       "version_minor": 0
      },
      "text/plain": [
       "  0%|          | 0/4949305 [00:00<?, ?it/s]"
      ]
     },
     "metadata": {},
     "output_type": "display_data"
    },
    {
     "name": "stdout",
     "output_type": "stream",
     "text": [
      "original layer2: (1149805, 113197, 24)\n",
      "# of triplets = 32\n",
      " DONE!!\n",
      "\n",
      "Triplets for iteration 47 have been written to ./benign/benign_4/47.txt\n",
      "the # of the triplets: 32\n",
      "{(113197, 458753, 19), (1149805, 568855, 9), (1149805, 163903, 7), (113197, 70, 19), (1149805, 796675, 11), (1149805, 156762, 7), (1149805, 1081921, 15), (1149805, 121344, 9), (1149805, 356930, 11), (1149805, 1081921, 9), (1149805, 84499, 9), (1149805, 148998, 9), (1149805, 1081921, 11), (1149805, 113197, 24), (1149805, 616970, 7), (1149805, 294454, 11), (113197, 360456, 3), (113197, 360456, 0), (1149805, 391700, 7), (1149805, 483374, 3), (1149805, 294454, 9), (113197, 70, 0), (1149805, 971862, 7), (1149805, 188463, 9), (113197, 458753, 0), (1149805, 451667, 9), (113197, 458753, 3), (1149805, 483374, 5), (1149805, 483374, 19), (1149805, 258612, 7), (1149805, 1000535, 3), (113197, 70, 3)}\n"
     ]
    },
    {
     "data": {
      "application/vnd.jupyter.widget-view+json": {
       "model_id": "9cc0089210b942c7be323af8d94965de",
       "version_major": 2,
       "version_minor": 0
      },
      "text/plain": [
       "  0%|          | 0/4949305 [00:00<?, ?it/s]"
      ]
     },
     "metadata": {},
     "output_type": "display_data"
    },
    {
     "name": "stdout",
     "output_type": "stream",
     "text": [
      "Found matching data for leaf node 71:\n",
      "Source: 145379, Destination: 71, Relation: 19\n",
      "layer1_source is: 145379\n",
      "# of the neighbor of layer1 source: 30536\n",
      "[262154, 524301, 262164, 393241, 393249, 262184, 131117, 262189]\n",
      "8\n"
     ]
    },
    {
     "data": {
      "application/vnd.jupyter.widget-view+json": {
       "model_id": "025e81f27e7345269a7a34c8f61de6a2",
       "version_major": 2,
       "version_minor": 0
      },
      "text/plain": [
       "  0%|          | 0/4949305 [00:00<?, ?it/s]"
      ]
     },
     "metadata": {},
     "output_type": "display_data"
    },
    {
     "name": "stdout",
     "output_type": "stream",
     "text": [
      "Found matching data for leaf node 71:\n",
      "Source: 145379, Destination: 71, Relation: 3\n",
      "layer1_source is: 145379\n",
      "# of the neighbor of layer1 source: 30536\n",
      "[262154, 524301, 262164, 393241, 393249, 262184, 131117, 262189]\n",
      "8\n"
     ]
    },
    {
     "data": {
      "application/vnd.jupyter.widget-view+json": {
       "model_id": "0d7c32c0fabd49e1a84083a0c88bc279",
       "version_major": 2,
       "version_minor": 0
      },
      "text/plain": [
       "  0%|          | 0/4949305 [00:00<?, ?it/s]"
      ]
     },
     "metadata": {},
     "output_type": "display_data"
    },
    {
     "name": "stdout",
     "output_type": "stream",
     "text": [
      "Found matching data for leaf node 71:\n",
      "Source: 145379, Destination: 71, Relation: 22\n",
      "layer1_source is: 145379\n",
      "# of the neighbor of layer1 source: 30536\n",
      "[262154, 524301, 262164, 393241, 393249, 262184, 131117, 262189]\n",
      "8\n"
     ]
    },
    {
     "data": {
      "application/vnd.jupyter.widget-view+json": {
       "model_id": "883836c5476e498fbcbb2549d227f402",
       "version_major": 2,
       "version_minor": 0
      },
      "text/plain": [
       "  0%|          | 0/4949305 [00:00<?, ?it/s]"
      ]
     },
     "metadata": {},
     "output_type": "display_data"
    },
    {
     "name": "stdout",
     "output_type": "stream",
     "text": [
      "Found matching data for leaf node 71:\n",
      "Source: 145379, Destination: 71, Relation: 5\n",
      "layer1_source is: 145379\n",
      "# of the neighbor of layer1 source: 30536\n",
      "[262154, 524301, 262164, 393241, 393249, 262184, 131117, 262189]\n",
      "8\n"
     ]
    },
    {
     "data": {
      "application/vnd.jupyter.widget-view+json": {
       "model_id": "e681022091934492b0df801440342c4a",
       "version_major": 2,
       "version_minor": 0
      },
      "text/plain": [
       "  0%|          | 0/4949305 [00:00<?, ?it/s]"
      ]
     },
     "metadata": {},
     "output_type": "display_data"
    },
    {
     "name": "stdout",
     "output_type": "stream",
     "text": [
      "Triplets for iteration 48 have been written to ./benign/benign_4/48.txt\n",
      "the # of the triplets: 8\n",
      "{(145379, 262154, 19), (145379, 71, 19), (145379, 1048584, 5), (145379, 1048584, 19), (145379, 71, 5), (145379, 71, 22), (145379, 71, 3), (145379, 1048584, 3)}\n"
     ]
    },
    {
     "data": {
      "application/vnd.jupyter.widget-view+json": {
       "model_id": "2b43d8df20d24c0e9985316cfc598abe",
       "version_major": 2,
       "version_minor": 0
      },
      "text/plain": [
       "  0%|          | 0/4949305 [00:00<?, ?it/s]"
      ]
     },
     "metadata": {},
     "output_type": "display_data"
    },
    {
     "name": "stdout",
     "output_type": "stream",
     "text": [
      "Found matching data for leaf node 73:\n",
      "Source: 187482, Destination: 73, Relation: 3\n",
      "layer1_source is: 187482\n",
      "# of the neighbor of layer1 source: 6227\n",
      "[360455, 622605, 557071, 524304, 196633, 819227, 786465, 983077]\n",
      "8\n"
     ]
    },
    {
     "data": {
      "application/vnd.jupyter.widget-view+json": {
       "model_id": "fc071413c4e347cfb81a1a381c18a215",
       "version_major": 2,
       "version_minor": 0
      },
      "text/plain": [
       "  0%|          | 0/4949305 [00:00<?, ?it/s]"
      ]
     },
     "metadata": {},
     "output_type": "display_data"
    },
    {
     "name": "stdout",
     "output_type": "stream",
     "text": [
      "Found matching data for leaf node 73:\n",
      "Source: 187482, Destination: 73, Relation: 5\n",
      "layer1_source is: 187482\n",
      "# of the neighbor of layer1 source: 6227\n",
      "[360455, 622605, 557071, 524304, 196633, 819227, 786465, 983077]\n",
      "8\n"
     ]
    },
    {
     "data": {
      "application/vnd.jupyter.widget-view+json": {
       "model_id": "bcdea57d8b904093953479e80f0293ca",
       "version_major": 2,
       "version_minor": 0
      },
      "text/plain": [
       "  0%|          | 0/4949305 [00:00<?, ?it/s]"
      ]
     },
     "metadata": {},
     "output_type": "display_data"
    },
    {
     "name": "stdout",
     "output_type": "stream",
     "text": [
      "Found matching data for leaf node 73:\n",
      "Source: 187482, Destination: 73, Relation: 17\n",
      "layer1_source is: 187482\n",
      "# of the neighbor of layer1 source: 6227\n",
      "[360455, 622605, 557071, 524304, 196633, 819227, 786465, 983077]\n",
      "8\n"
     ]
    },
    {
     "data": {
      "application/vnd.jupyter.widget-view+json": {
       "model_id": "d7591b60448c408eb0eec1dc5427249b",
       "version_major": 2,
       "version_minor": 0
      },
      "text/plain": [
       "  0%|          | 0/4949305 [00:00<?, ?it/s]"
      ]
     },
     "metadata": {},
     "output_type": "display_data"
    },
    {
     "name": "stdout",
     "output_type": "stream",
     "text": [
      "Found matching data for leaf node 73:\n",
      "Source: 187482, Destination: 73, Relation: 19\n",
      "layer1_source is: 187482\n",
      "# of the neighbor of layer1 source: 6227\n",
      "[360455, 622605, 557071, 524304, 196633, 819227, 786465, 983077]\n",
      "8\n"
     ]
    },
    {
     "data": {
      "application/vnd.jupyter.widget-view+json": {
       "model_id": "364b0f9cb6f74c9a9a7334437f0e8aad",
       "version_major": 2,
       "version_minor": 0
      },
      "text/plain": [
       "  0%|          | 0/4949305 [00:00<?, ?it/s]"
      ]
     },
     "metadata": {},
     "output_type": "display_data"
    },
    {
     "name": "stdout",
     "output_type": "stream",
     "text": [
      "Found matching data for leaf node 73:\n",
      "Source: 187482, Destination: 73, Relation: 0\n",
      "layer1_source is: 187482\n",
      "# of the neighbor of layer1 source: 6227\n",
      "[360455, 622605, 557071, 524304, 196633, 819227, 786465, 983077]\n",
      "8\n"
     ]
    },
    {
     "data": {
      "application/vnd.jupyter.widget-view+json": {
       "model_id": "49aef1a6642343f2a384c3f9144ace3a",
       "version_major": 2,
       "version_minor": 0
      },
      "text/plain": [
       "  0%|          | 0/4949305 [00:00<?, ?it/s]"
      ]
     },
     "metadata": {},
     "output_type": "display_data"
    },
    {
     "name": "stdout",
     "output_type": "stream",
     "text": [
      "Found matching data for leaf node 73:\n",
      "Source: 187482, Destination: 73, Relation: 20\n",
      "layer1_source is: 187482\n",
      "# of the neighbor of layer1 source: 6227\n",
      "[360455, 622605, 557071, 524304, 196633, 819227, 786465, 983077]\n",
      "8\n"
     ]
    },
    {
     "data": {
      "application/vnd.jupyter.widget-view+json": {
       "model_id": "d8cd9b23f32c41f3aa29a1bae4bb1120",
       "version_major": 2,
       "version_minor": 0
      },
      "text/plain": [
       "  0%|          | 0/4949305 [00:00<?, ?it/s]"
      ]
     },
     "metadata": {},
     "output_type": "display_data"
    },
    {
     "name": "stdout",
     "output_type": "stream",
     "text": [
      "Triplets for iteration 49 have been written to ./benign/benign_4/49.txt\n",
      "the # of the triplets: 8\n",
      "{(187482, 73, 0), (187482, 557060, 0), (187482, 73, 19), (187482, 73, 5), (187482, 557060, 3), (187482, 73, 20), (187482, 73, 17), (187482, 73, 3)}\n"
     ]
    },
    {
     "data": {
      "application/vnd.jupyter.widget-view+json": {
       "model_id": "8d5695542fc2409a897360b09ef20efa",
       "version_major": 2,
       "version_minor": 0
      },
      "text/plain": [
       "  0%|          | 0/4949305 [00:00<?, ?it/s]"
      ]
     },
     "metadata": {},
     "output_type": "display_data"
    },
    {
     "name": "stdout",
     "output_type": "stream",
     "text": [
      "Found matching data for leaf node 74:\n",
      "Source: 429138, Destination: 74, Relation: 9\n",
      "layer1_source is: 429138\n",
      "# of the neighbor of layer1 source: 883\n",
      "[106504, 436232, 950282, 358412, 1110030, 870415, 1112080, 831506]\n",
      "8\n"
     ]
    },
    {
     "data": {
      "application/vnd.jupyter.widget-view+json": {
       "model_id": "14090bef8f2a4dd9b95882bbdbf650d4",
       "version_major": 2,
       "version_minor": 0
      },
      "text/plain": [
       "  0%|          | 0/4949305 [00:00<?, ?it/s]"
      ]
     },
     "metadata": {},
     "output_type": "display_data"
    },
    {
     "name": "stdout",
     "output_type": "stream",
     "text": [
      "original layer2: (927897, 429138, 24)\n",
      "# of triplets = 32\n",
      " DONE!!\n",
      "\n",
      "Triplets for iteration 50 have been written to ./benign/benign_4/50.txt\n",
      "the # of the triplets: 32\n",
      "{(927897, 131134, 11), (429138, 74, 11), (429138, 358412, 7), (429138, 74, 9), (927897, 720922, 7), (927897, 720968, 7), (927897, 229456, 9), (429138, 106504, 9), (429138, 950282, 7), (429138, 282625, 7), (429138, 106504, 11), (927897, 429138, 24), (927897, 983098, 7), (927897, 622599, 7), (927897, 1081410, 9), (927897, 131119, 11), (927897, 1015840, 7), (927897, 1081410, 11), (927897, 131119, 9), (927897, 91, 7), (927897, 589917, 7), (429138, 436232, 7), (927897, 426002, 7), (927897, 1146956, 11), (927897, 229379, 7), (927897, 229456, 11), (927897, 360540, 7), (927897, 1146956, 9), (927897, 131164, 7), (927897, 131134, 9), (927897, 1114129, 7), (927897, 1146910, 7)}\n"
     ]
    },
    {
     "data": {
      "application/vnd.jupyter.widget-view+json": {
       "model_id": "5d153c83c2b44d528f283f1057dc2967",
       "version_major": 2,
       "version_minor": 0
      },
      "text/plain": [
       "  0%|          | 0/4949305 [00:00<?, ?it/s]"
      ]
     },
     "metadata": {},
     "output_type": "display_data"
    },
    {
     "name": "stdout",
     "output_type": "stream",
     "text": [
      "Found matching data for leaf node 76:\n",
      "Source: 618136, Destination: 76, Relation: 13\n",
      "layer1_source is: 618136\n",
      "# of the neighbor of layer1 source: 7273\n",
      "[950282, 688142, 1114127, 163864, 327718, 426029, 196655, 852023]\n",
      "8\n"
     ]
    },
    {
     "data": {
      "application/vnd.jupyter.widget-view+json": {
       "model_id": "2d88bdabdf484c5097e757a23e47e7a9",
       "version_major": 2,
       "version_minor": 0
      },
      "text/plain": [
       "  0%|          | 0/4949305 [00:00<?, ?it/s]"
      ]
     },
     "metadata": {},
     "output_type": "display_data"
    },
    {
     "name": "stdout",
     "output_type": "stream",
     "text": [
      "original layer2: (573257, 618136, 24)\n",
      "# of triplets = 32\n",
      " DONE!!\n",
      "\n",
      "Triplets for iteration 51 have been written to ./benign/benign_4/51.txt\n",
      "the # of the triplets: 32\n",
      "{(618136, 1114127, 7), (618136, 950282, 7), (573257, 876597, 2), (573257, 57397, 2), (573257, 155721, 7), (618136, 327718, 9), (618136, 884741, 7), (573257, 483374, 3), (573257, 618136, 24), (618136, 327718, 11), (573257, 483374, 19), (573257, 491603, 11), (573257, 409667, 7), (573257, 917545, 6), (573257, 491603, 9), (573257, 409688, 7), (573257, 720940, 2), (618136, 76, 13), (573257, 491622, 9), (618136, 163864, 7), (573257, 917545, 9), (573257, 1048672, 7), (573257, 409667, 16), (618136, 688142, 7), (573257, 458836, 7), (573257, 893009, 7), (573257, 876597, 7), (573257, 483374, 5), (573257, 57397, 7), (573257, 245859, 13), (573257, 49222, 24), (573257, 458836, 2)}\n"
     ]
    },
    {
     "data": {
      "application/vnd.jupyter.widget-view+json": {
       "model_id": "a6e937fb45434e1994b2206f8f607678",
       "version_major": 2,
       "version_minor": 0
      },
      "text/plain": [
       "  0%|          | 0/4949305 [00:00<?, ?it/s]"
      ]
     },
     "metadata": {},
     "output_type": "display_data"
    },
    {
     "name": "stdout",
     "output_type": "stream",
     "text": [
      "Found matching data for leaf node 77:\n",
      "Source: 272194, Destination: 77, Relation: 13\n",
      "layer1_source is: 272194\n",
      "# of the neighbor of layer1 source: 73949\n",
      "[393219, 655366, 393223, 1048584, 262151, 262154, 8, 393227]\n",
      "8\n"
     ]
    },
    {
     "data": {
      "application/vnd.jupyter.widget-view+json": {
       "model_id": "1f7f164d8ead4e899f0175f1697fa7ed",
       "version_major": 2,
       "version_minor": 0
      },
      "text/plain": [
       "  0%|          | 0/4949305 [00:00<?, ?it/s]"
      ]
     },
     "metadata": {},
     "output_type": "display_data"
    },
    {
     "name": "stdout",
     "output_type": "stream",
     "text": [
      "original layer2: (19498, 272194, 24)\n",
      "# of triplets = 32\n",
      " DONE!!\n",
      "\n",
      "Triplets for iteration 52 have been written to ./benign/benign_4/52.txt\n",
      "the # of the triplets: 32\n",
      "{(19498, 65613, 19), (19498, 852007, 7), (272194, 131072, 3), (19498, 1114179, 7), (19498, 294929, 7), (19498, 262198, 7), (19498, 819248, 7), (19498, 819258, 7), (19498, 98387, 7), (19498, 589889, 9), (19498, 131165, 7), (272194, 131072, 13), (272194, 655366, 13), (19498, 272194, 24), (19498, 59, 7), (19498, 196698, 7), (19498, 1081434, 7), (19498, 524363, 7), (19498, 196661, 7), (19498, 196664, 7), (19498, 524351, 7), (272194, 393219, 7), (19498, 65613, 13), (19498, 622652, 7), (272194, 77, 13), (19498, 393311, 7), (272194, 655366, 19), (19498, 65613, 3), (272194, 131072, 19), (19498, 1114116, 7), (272194, 655366, 3), (19498, 819211, 7)}\n"
     ]
    },
    {
     "data": {
      "application/vnd.jupyter.widget-view+json": {
       "model_id": "23c68db8fed340f5aa4d3d15a0878b91",
       "version_major": 2,
       "version_minor": 0
      },
      "text/plain": [
       "  0%|          | 0/4949305 [00:00<?, ?it/s]"
      ]
     },
     "metadata": {},
     "output_type": "display_data"
    },
    {
     "name": "stdout",
     "output_type": "stream",
     "text": [
      "Found matching data for leaf node 79:\n",
      "Source: 1013153, Destination: 79, Relation: 9\n",
      "layer1_source is: 1013153\n",
      "# of the neighbor of layer1 source: 34767\n",
      "[393220, 786439, 524299, 12, 15, 1048592, 655376, 20]\n",
      "8\n"
     ]
    },
    {
     "data": {
      "application/vnd.jupyter.widget-view+json": {
       "model_id": "f6d360295768486d99499c4509215400",
       "version_major": 2,
       "version_minor": 0
      },
      "text/plain": [
       "  0%|          | 0/4949305 [00:00<?, ?it/s]"
      ]
     },
     "metadata": {},
     "output_type": "display_data"
    },
    {
     "name": "stdout",
     "output_type": "stream",
     "text": [
      "original layer2: (949521, 1013153, 24)\n",
      "# of triplets = 32\n",
      " DONE!!\n",
      "\n",
      "Triplets for iteration 53 have been written to ./benign/benign_4/53.txt\n",
      "the # of the triplets: 32\n",
      "{(949521, 131113, 3), (1013153, 1048577, 9), (949521, 753699, 11), (949521, 1013153, 24), (949521, 196613, 5), (1013153, 12, 9), (1013153, 1048577, 11), (949521, 131113, 19), (949521, 98314, 15), (949521, 491552, 8), (1013153, 1048577, 15), (949521, 819227, 15), (949521, 196613, 3), (949521, 196613, 17), (949521, 196613, 19), (1013153, 79, 9), (949521, 819227, 11), (1013153, 786439, 9), (949521, 491552, 3), (949521, 327716, 7), (1013153, 393220, 9), (949521, 589850, 3), (949521, 819227, 9), (949521, 622605, 7), (949521, 491552, 19), (949521, 753699, 15), (949521, 1081368, 13), (949521, 98314, 9), (949521, 196613, 8), (949521, 491552, 5), (1013153, 524299, 9), (949521, 98314, 11)}\n"
     ]
    },
    {
     "data": {
      "application/vnd.jupyter.widget-view+json": {
       "model_id": "e4445fd95b4d4ae4b53114e7f40e3c87",
       "version_major": 2,
       "version_minor": 0
      },
      "text/plain": [
       "  0%|          | 0/4949305 [00:00<?, ?it/s]"
      ]
     },
     "metadata": {},
     "output_type": "display_data"
    },
    {
     "name": "stdout",
     "output_type": "stream",
     "text": [
      "Found matching data for leaf node 80:\n",
      "Source: 279417, Destination: 80, Relation: 7\n",
      "layer1_source is: 279417\n",
      "# of the neighbor of layer1 source: 6567\n",
      "[786443, 1114142, 131116, 622642, 458806, 720953, 917561, 1081403]\n",
      "8\n"
     ]
    },
    {
     "data": {
      "application/vnd.jupyter.widget-view+json": {
       "model_id": "52eab2e8219c470e86584b379c78a650",
       "version_major": 2,
       "version_minor": 0
      },
      "text/plain": [
       "  0%|          | 0/4949305 [00:00<?, ?it/s]"
      ]
     },
     "metadata": {},
     "output_type": "display_data"
    },
    {
     "name": "stdout",
     "output_type": "stream",
     "text": [
      "Found matching data for leaf node 80:\n",
      "Source: 639689, Destination: 80, Relation: 7\n",
      "layer1_source is: 639689\n",
      "# of the neighbor of layer1 source: 9013\n",
      "[327686, 786443, 557068, 131089, 1114142, 950302, 426023, 491568]\n",
      "10\n"
     ]
    },
    {
     "data": {
      "application/vnd.jupyter.widget-view+json": {
       "model_id": "e36e649e346f4319b7e0ff2787d97576",
       "version_major": 2,
       "version_minor": 0
      },
      "text/plain": [
       "  0%|          | 0/4949305 [00:00<?, ?it/s]"
      ]
     },
     "metadata": {},
     "output_type": "display_data"
    },
    {
     "name": "stdout",
     "output_type": "stream",
     "text": [
      "Triplets for iteration 54 have been written to ./benign/benign_4/54.txt\n",
      "the # of the triplets: 10\n",
      "{(279417, 622642, 11), (639689, 1048581, 2), (639689, 80, 7), (279417, 622642, 9), (279417, 80, 7), (279417, 131116, 2), (279417, 851972, 2), (279417, 622642, 15), (279417, 786443, 3), (279417, 1114142, 7)}\n"
     ]
    },
    {
     "data": {
      "application/vnd.jupyter.widget-view+json": {
       "model_id": "033a0296ae104538b7a2e49a587fa549",
       "version_major": 2,
       "version_minor": 0
      },
      "text/plain": [
       "  0%|          | 0/4949305 [00:00<?, ?it/s]"
      ]
     },
     "metadata": {},
     "output_type": "display_data"
    },
    {
     "name": "stdout",
     "output_type": "stream",
     "text": [
      "Found matching data for leaf node 83:\n",
      "Source: 113197, Destination: 83, Relation: 3\n",
      "layer1_source is: 113197\n",
      "# of the neighbor of layer1 source: 9909\n",
      "[360456, 753674, 622605, 294928, 131100, 32799, 917537, 196642]\n",
      "8\n"
     ]
    },
    {
     "data": {
      "application/vnd.jupyter.widget-view+json": {
       "model_id": "6b4fa76a67b14ffebac8b6605a4062eb",
       "version_major": 2,
       "version_minor": 0
      },
      "text/plain": [
       "  0%|          | 0/4949305 [00:00<?, ?it/s]"
      ]
     },
     "metadata": {},
     "output_type": "display_data"
    },
    {
     "name": "stdout",
     "output_type": "stream",
     "text": [
      "original layer2: (1149805, 113197, 24)\n",
      "# of triplets = 32\n",
      " DONE!!\n",
      "\n",
      "Triplets for iteration 55 have been written to ./benign/benign_4/55.txt\n",
      "the # of the triplets: 32\n",
      "{(113197, 83, 5), (113197, 458753, 19), (1149805, 568855, 9), (1149805, 163903, 7), (1149805, 796675, 11), (1149805, 156762, 7), (1149805, 1081921, 15), (1149805, 121344, 9), (1149805, 356930, 11), (1149805, 1081921, 9), (1149805, 84499, 9), (1149805, 148998, 9), (1149805, 1081921, 11), (1149805, 113197, 24), (1149805, 616970, 7), (113197, 83, 19), (1149805, 294454, 11), (113197, 83, 17), (113197, 83, 3), (1149805, 391700, 7), (1149805, 483374, 3), (1149805, 294454, 9), (1149805, 971862, 7), (1149805, 188463, 9), (113197, 458753, 0), (113197, 83, 0), (1149805, 451667, 9), (1149805, 483374, 5), (1149805, 483374, 19), (113197, 83, 20), (1149805, 258612, 7), (1149805, 1000535, 3)}\n"
     ]
    },
    {
     "data": {
      "application/vnd.jupyter.widget-view+json": {
       "model_id": "14be7b508d514f27a4ae4ad340f8baf7",
       "version_major": 2,
       "version_minor": 0
      },
      "text/plain": [
       "  0%|          | 0/4949305 [00:00<?, ?it/s]"
      ]
     },
     "metadata": {},
     "output_type": "display_data"
    },
    {
     "name": "stdout",
     "output_type": "stream",
     "text": [
      "Found matching data for leaf node 85:\n",
      "Source: 1076424, Destination: 85, Relation: 9\n",
      "layer1_source is: 1076424\n",
      "# of the neighbor of layer1 source: 52605\n",
      "[786436, 1048584, 262154, 262164, 1048598, 393241, 262170, 1048603]\n",
      "8\n"
     ]
    },
    {
     "data": {
      "application/vnd.jupyter.widget-view+json": {
       "model_id": "3e39961d021145fb8caebffee8db55ed",
       "version_major": 2,
       "version_minor": 0
      },
      "text/plain": [
       "  0%|          | 0/4949305 [00:00<?, ?it/s]"
      ]
     },
     "metadata": {},
     "output_type": "display_data"
    },
    {
     "name": "stdout",
     "output_type": "stream",
     "text": [
      "Triplets for iteration 56 have been written to ./benign/benign_4/56.txt\n",
      "the # of the triplets: 8\n",
      "{(1076424, 1048584, 5), (1076424, 131072, 19), (1076424, 131072, 5), (1076424, 786436, 7), (1076424, 1048584, 3), (1076424, 131072, 3), (1076424, 85, 9), (1076424, 1048584, 19)}\n"
     ]
    },
    {
     "data": {
      "application/vnd.jupyter.widget-view+json": {
       "model_id": "d964f7f100a74f28a49501e9ab4da838",
       "version_major": 2,
       "version_minor": 0
      },
      "text/plain": [
       "  0%|          | 0/4949305 [00:00<?, ?it/s]"
      ]
     },
     "metadata": {},
     "output_type": "display_data"
    },
    {
     "name": "stdout",
     "output_type": "stream",
     "text": [
      "Found matching data for leaf node 86:\n",
      "Source: 295347, Destination: 86, Relation: 9\n",
      "layer1_source is: 295347\n",
      "# of the neighbor of layer1 source: 25895\n",
      "[14, 131092, 393244, 524319, 524320, 39, 524343, 63]\n",
      "8\n"
     ]
    },
    {
     "data": {
      "application/vnd.jupyter.widget-view+json": {
       "model_id": "199d961830e8465c930044c9c1b30bb3",
       "version_major": 2,
       "version_minor": 0
      },
      "text/plain": [
       "  0%|          | 0/4949305 [00:00<?, ?it/s]"
      ]
     },
     "metadata": {},
     "output_type": "display_data"
    },
    {
     "name": "stdout",
     "output_type": "stream",
     "text": [
      "Triplets for iteration 57 have been written to ./benign/benign_4/57.txt\n",
      "the # of the triplets: 8\n",
      "{(295347, 524320, 9), (295347, 917510, 7), (295347, 131092, 13), (295347, 14, 9), (295347, 393244, 9), (295347, 39, 9), (295347, 524319, 7), (295347, 86, 9)}\n"
     ]
    },
    {
     "data": {
      "application/vnd.jupyter.widget-view+json": {
       "model_id": "8e0a51bde4424845b2ae43a078d9a073",
       "version_major": 2,
       "version_minor": 0
      },
      "text/plain": [
       "  0%|          | 0/4949305 [00:00<?, ?it/s]"
      ]
     },
     "metadata": {},
     "output_type": "display_data"
    },
    {
     "name": "stdout",
     "output_type": "stream",
     "text": [
      "Found matching data for leaf node 88:\n",
      "Source: 1025026, Destination: 88, Relation: 3\n",
      "layer1_source is: 1025026\n",
      "# of the neighbor of layer1 source: 7251\n",
      "[819206, 98314, 1081355, 884749, 622605, 589843, 262170, 819227]\n",
      "8\n"
     ]
    },
    {
     "data": {
      "application/vnd.jupyter.widget-view+json": {
       "model_id": "f3474f98d68d47b6909de81006f8c9a8",
       "version_major": 2,
       "version_minor": 0
      },
      "text/plain": [
       "  0%|          | 0/4949305 [00:00<?, ?it/s]"
      ]
     },
     "metadata": {},
     "output_type": "display_data"
    },
    {
     "name": "stdout",
     "output_type": "stream",
     "text": [
      "original layer2: (241695, 1025026, 24)\n",
      "# of triplets = 32\n",
      " DONE!!\n",
      "\n",
      "Triplets for iteration 58 have been written to ./benign/benign_4/58.txt\n",
      "the # of the triplets: 32\n",
      "{(241695, 203270, 19), (241695, 296963, 19), (241695, 563219, 3), (241695, 999441, 19), (241695, 584210, 19), (241695, 676885, 19), (241695, 563219, 13), (241695, 66560, 11), (241695, 999958, 19), (241695, 203270, 5), (241695, 1006594, 19), (241695, 261635, 9), (1025026, 819206, 19), (241695, 796675, 11), (241695, 495119, 7), (241695, 84499, 9), (1025026, 88, 3), (241695, 318981, 11), (241695, 563219, 19), (1025026, 229381, 3), (241695, 742411, 19), (1025026, 229381, 22), (241695, 1080854, 9), (1025026, 229381, 20), (1025026, 229381, 21), (241695, 364047, 11), (241695, 740887, 19), (1025026, 229381, 4), (241695, 1025026, 24), (1025026, 229381, 5), (241695, 203270, 3), (241695, 996363, 11)}\n"
     ]
    },
    {
     "data": {
      "application/vnd.jupyter.widget-view+json": {
       "model_id": "2838fd1df3ef4cfc96d1f8b1d450acc3",
       "version_major": 2,
       "version_minor": 0
      },
      "text/plain": [
       "  0%|          | 0/4949305 [00:00<?, ?it/s]"
      ]
     },
     "metadata": {},
     "output_type": "display_data"
    },
    {
     "name": "stdout",
     "output_type": "stream",
     "text": [
      "Found matching data for leaf node 91:\n",
      "Source: 927897, Destination: 91, Relation: 7\n",
      "layer1_source is: 927897\n",
      "# of the neighbor of layer1 source: 5806\n",
      "[622599, 1114129, 426002, 720922, 1146910, 1015840, 131119, 983098]\n",
      "8\n"
     ]
    },
    {
     "data": {
      "application/vnd.jupyter.widget-view+json": {
       "model_id": "47682c4ced274f28bd963d7196e1ce1c",
       "version_major": 2,
       "version_minor": 0
      },
      "text/plain": [
       "  0%|          | 0/4949305 [00:00<?, ?it/s]"
      ]
     },
     "metadata": {},
     "output_type": "display_data"
    },
    {
     "name": "stdout",
     "output_type": "stream",
     "text": [
      "Triplets for iteration 59 have been written to ./benign/benign_4/59.txt\n",
      "the # of the triplets: 8\n",
      "{(927897, 426002, 7), (927897, 1015840, 7), (927897, 229379, 7), (927897, 91, 7), (927897, 720922, 7), (927897, 1114129, 7), (927897, 622599, 7), (927897, 1146910, 7)}\n"
     ]
    },
    {
     "data": {
      "application/vnd.jupyter.widget-view+json": {
       "model_id": "afec9face642448bb4a652711c9d6aa8",
       "version_major": 2,
       "version_minor": 0
      },
      "text/plain": [
       "  0%|          | 0/4949305 [00:00<?, ?it/s]"
      ]
     },
     "metadata": {},
     "output_type": "display_data"
    },
    {
     "name": "stdout",
     "output_type": "stream",
     "text": [
      "Found matching data for leaf node 92:\n",
      "Source: 545701, Destination: 92, Relation: 23\n",
      "layer1_source is: 545701\n",
      "# of the neighbor of layer1 source: 2949\n",
      "[991235, 942086, 1032198, 1040392, 409611, 1056780, 1114126, 573455]\n",
      "8\n"
     ]
    },
    {
     "data": {
      "application/vnd.jupyter.widget-view+json": {
       "model_id": "46171b72f3a3418d8b6cbb319425f025",
       "version_major": 2,
       "version_minor": 0
      },
      "text/plain": [
       "  0%|          | 0/4949305 [00:00<?, ?it/s]"
      ]
     },
     "metadata": {},
     "output_type": "display_data"
    },
    {
     "name": "stdout",
     "output_type": "stream",
     "text": [
      "Found matching data for leaf node 92:\n",
      "Source: 545701, Destination: 92, Relation: 12\n",
      "layer1_source is: 545701\n",
      "# of the neighbor of layer1 source: 2949\n",
      "[991235, 942086, 1032198, 1040392, 409611, 1056780, 1114126, 573455]\n",
      "8\n"
     ]
    },
    {
     "data": {
      "application/vnd.jupyter.widget-view+json": {
       "model_id": "0679ae4468a84794937d8d2aaeb537a4",
       "version_major": 2,
       "version_minor": 0
      },
      "text/plain": [
       "  0%|          | 0/4949305 [00:00<?, ?it/s]"
      ]
     },
     "metadata": {},
     "output_type": "display_data"
    },
    {
     "name": "stdout",
     "output_type": "stream",
     "text": [
      "Triplets for iteration 60 have been written to ./benign/benign_4/60.txt\n",
      "the # of the triplets: 8\n",
      "{(545701, 1040392, 12), (545701, 942086, 12), (545701, 1032198, 12), (545701, 92, 12), (545701, 92, 23), (545701, 335873, 23), (545701, 991235, 12), (545701, 991235, 23)}\n"
     ]
    },
    {
     "data": {
      "application/vnd.jupyter.widget-view+json": {
       "model_id": "17b2bb26f3b04f18aa7f226044077d40",
       "version_major": 2,
       "version_minor": 0
      },
      "text/plain": [
       "  0%|          | 0/4949305 [00:00<?, ?it/s]"
      ]
     },
     "metadata": {},
     "output_type": "display_data"
    },
    {
     "name": "stdout",
     "output_type": "stream",
     "text": [
      "Found matching data for leaf node 94:\n",
      "Source: 272194, Destination: 94, Relation: 7\n",
      "layer1_source is: 272194\n",
      "# of the neighbor of layer1 source: 73949\n",
      "[393219, 655366, 393223, 1048584, 262151, 262154, 8, 393227]\n",
      "8\n"
     ]
    },
    {
     "data": {
      "application/vnd.jupyter.widget-view+json": {
       "model_id": "cfc364e95dec4e9b929a9464bcb06e2e",
       "version_major": 2,
       "version_minor": 0
      },
      "text/plain": [
       "  0%|          | 0/4949305 [00:00<?, ?it/s]"
      ]
     },
     "metadata": {},
     "output_type": "display_data"
    },
    {
     "name": "stdout",
     "output_type": "stream",
     "text": [
      "original layer2: (19498, 272194, 24)\n",
      "# of triplets = 32\n",
      " DONE!!\n",
      "\n",
      "Triplets for iteration 61 have been written to ./benign/benign_4/61.txt\n",
      "the # of the triplets: 32\n",
      "{(19498, 65613, 19), (19498, 852007, 7), (272194, 131072, 3), (19498, 1114179, 7), (19498, 294929, 7), (19498, 262198, 7), (19498, 819248, 7), (19498, 819258, 7), (19498, 98387, 7), (19498, 589889, 9), (19498, 131165, 7), (272194, 131072, 13), (272194, 655366, 13), (19498, 272194, 24), (19498, 59, 7), (19498, 196698, 7), (19498, 1081434, 7), (19498, 524363, 7), (19498, 196661, 7), (19498, 196664, 7), (19498, 524351, 7), (272194, 393219, 7), (272194, 94, 7), (19498, 65613, 13), (19498, 622652, 7), (19498, 393311, 7), (272194, 655366, 19), (19498, 65613, 3), (272194, 131072, 19), (19498, 1114116, 7), (272194, 655366, 3), (19498, 819211, 7)}\n"
     ]
    },
    {
     "data": {
      "application/vnd.jupyter.widget-view+json": {
       "model_id": "2c069906b54d4769ae4db0e7c2738aeb",
       "version_major": 2,
       "version_minor": 0
      },
      "text/plain": [
       "  0%|          | 0/4949305 [00:00<?, ?it/s]"
      ]
     },
     "metadata": {},
     "output_type": "display_data"
    },
    {
     "name": "stdout",
     "output_type": "stream",
     "text": [
      "Found matching data for leaf node 95:\n",
      "Source: 581548, Destination: 95, Relation: 13\n",
      "layer1_source is: 581548\n",
      "# of the neighbor of layer1 source: 25246\n",
      "[524295, 917520, 786453, 1048600, 917528, 131099, 917532, 32]\n",
      "8\n"
     ]
    },
    {
     "data": {
      "application/vnd.jupyter.widget-view+json": {
       "model_id": "e3fce80cee7b4167b39ba23ed52f5732",
       "version_major": 2,
       "version_minor": 0
      },
      "text/plain": [
       "  0%|          | 0/4949305 [00:00<?, ?it/s]"
      ]
     },
     "metadata": {},
     "output_type": "display_data"
    },
    {
     "name": "stdout",
     "output_type": "stream",
     "text": [
      "Triplets for iteration 62 have been written to ./benign/benign_4/62.txt\n",
      "the # of the triplets: 8\n",
      "{(581548, 917528, 7), (581548, 131099, 7), (581548, 786453, 7), (581548, 95, 13), (581548, 524295, 7), (581548, 131079, 7), (581548, 917520, 7), (581548, 1048600, 7)}\n"
     ]
    },
    {
     "data": {
      "application/vnd.jupyter.widget-view+json": {
       "model_id": "3b5683fa398543a1a7752aabd21addab",
       "version_major": 2,
       "version_minor": 0
      },
      "text/plain": [
       "  0%|          | 0/4949305 [00:00<?, ?it/s]"
      ]
     },
     "metadata": {},
     "output_type": "display_data"
    },
    {
     "name": "stdout",
     "output_type": "stream",
     "text": [
      "Found matching data for leaf node 96:\n",
      "Source: 187482, Destination: 96, Relation: 3\n",
      "layer1_source is: 187482\n",
      "# of the neighbor of layer1 source: 6227\n",
      "[360455, 622605, 557071, 524304, 196633, 819227, 786465, 983077]\n",
      "8\n"
     ]
    },
    {
     "data": {
      "application/vnd.jupyter.widget-view+json": {
       "model_id": "aec012db8d1a434eabebddfeeb078567",
       "version_major": 2,
       "version_minor": 0
      },
      "text/plain": [
       "  0%|          | 0/4949305 [00:00<?, ?it/s]"
      ]
     },
     "metadata": {},
     "output_type": "display_data"
    },
    {
     "name": "stdout",
     "output_type": "stream",
     "text": [
      "Found matching data for leaf node 96:\n",
      "Source: 187482, Destination: 96, Relation: 5\n",
      "layer1_source is: 187482\n",
      "# of the neighbor of layer1 source: 6227\n",
      "[360455, 622605, 557071, 524304, 196633, 819227, 786465, 983077]\n",
      "8\n"
     ]
    },
    {
     "data": {
      "application/vnd.jupyter.widget-view+json": {
       "model_id": "46fd91ef6d83463bb0eadb8730164716",
       "version_major": 2,
       "version_minor": 0
      },
      "text/plain": [
       "  0%|          | 0/4949305 [00:00<?, ?it/s]"
      ]
     },
     "metadata": {},
     "output_type": "display_data"
    },
    {
     "name": "stdout",
     "output_type": "stream",
     "text": [
      "Found matching data for leaf node 96:\n",
      "Source: 187482, Destination: 96, Relation: 17\n",
      "layer1_source is: 187482\n",
      "# of the neighbor of layer1 source: 6227\n",
      "[360455, 622605, 557071, 524304, 196633, 819227, 786465, 983077]\n",
      "8\n"
     ]
    },
    {
     "data": {
      "application/vnd.jupyter.widget-view+json": {
       "model_id": "adcf4c7f4b3f4f55abd0db8fb44cbf71",
       "version_major": 2,
       "version_minor": 0
      },
      "text/plain": [
       "  0%|          | 0/4949305 [00:00<?, ?it/s]"
      ]
     },
     "metadata": {},
     "output_type": "display_data"
    },
    {
     "name": "stdout",
     "output_type": "stream",
     "text": [
      "Found matching data for leaf node 96:\n",
      "Source: 187482, Destination: 96, Relation: 19\n",
      "layer1_source is: 187482\n",
      "# of the neighbor of layer1 source: 6227\n",
      "[360455, 622605, 557071, 524304, 196633, 819227, 786465, 983077]\n",
      "8\n"
     ]
    },
    {
     "data": {
      "application/vnd.jupyter.widget-view+json": {
       "model_id": "41e3329bf87b44ffab9b1a62152386a2",
       "version_major": 2,
       "version_minor": 0
      },
      "text/plain": [
       "  0%|          | 0/4949305 [00:00<?, ?it/s]"
      ]
     },
     "metadata": {},
     "output_type": "display_data"
    },
    {
     "name": "stdout",
     "output_type": "stream",
     "text": [
      "Found matching data for leaf node 96:\n",
      "Source: 187482, Destination: 96, Relation: 0\n",
      "layer1_source is: 187482\n",
      "# of the neighbor of layer1 source: 6227\n",
      "[360455, 622605, 557071, 524304, 196633, 819227, 786465, 983077]\n",
      "8\n"
     ]
    },
    {
     "data": {
      "application/vnd.jupyter.widget-view+json": {
       "model_id": "7de614bfb960493994e92fdfd02c3eb1",
       "version_major": 2,
       "version_minor": 0
      },
      "text/plain": [
       "  0%|          | 0/4949305 [00:00<?, ?it/s]"
      ]
     },
     "metadata": {},
     "output_type": "display_data"
    },
    {
     "name": "stdout",
     "output_type": "stream",
     "text": [
      "Found matching data for leaf node 96:\n",
      "Source: 187482, Destination: 96, Relation: 20\n",
      "layer1_source is: 187482\n",
      "# of the neighbor of layer1 source: 6227\n",
      "[360455, 622605, 557071, 524304, 196633, 819227, 786465, 983077]\n",
      "8\n"
     ]
    },
    {
     "data": {
      "application/vnd.jupyter.widget-view+json": {
       "model_id": "6f84db4e566e441c981650ea299384e6",
       "version_major": 2,
       "version_minor": 0
      },
      "text/plain": [
       "  0%|          | 0/4949305 [00:00<?, ?it/s]"
      ]
     },
     "metadata": {},
     "output_type": "display_data"
    },
    {
     "name": "stdout",
     "output_type": "stream",
     "text": [
      "Triplets for iteration 63 have been written to ./benign/benign_4/63.txt\n",
      "the # of the triplets: 8\n",
      "{(187482, 96, 5), (187482, 96, 0), (187482, 557060, 0), (187482, 96, 3), (187482, 96, 17), (187482, 557060, 3), (187482, 96, 20), (187482, 96, 19)}\n"
     ]
    },
    {
     "data": {
      "application/vnd.jupyter.widget-view+json": {
       "model_id": "9835894a4d0740ff9d89d1c4960b7424",
       "version_major": 2,
       "version_minor": 0
      },
      "text/plain": [
       "  0%|          | 0/4949305 [00:00<?, ?it/s]"
      ]
     },
     "metadata": {},
     "output_type": "display_data"
    },
    {
     "name": "stdout",
     "output_type": "stream",
     "text": [
      "Found matching data for leaf node 98:\n",
      "Source: 272194, Destination: 98, Relation: 13\n",
      "layer1_source is: 272194\n",
      "# of the neighbor of layer1 source: 73949\n",
      "[393219, 655366, 393223, 1048584, 262151, 262154, 8, 393227]\n",
      "8\n"
     ]
    },
    {
     "data": {
      "application/vnd.jupyter.widget-view+json": {
       "model_id": "609d93faba06418490d0281db36809c0",
       "version_major": 2,
       "version_minor": 0
      },
      "text/plain": [
       "  0%|          | 0/4949305 [00:00<?, ?it/s]"
      ]
     },
     "metadata": {},
     "output_type": "display_data"
    },
    {
     "name": "stdout",
     "output_type": "stream",
     "text": [
      "original layer2: (19498, 272194, 24)\n",
      "# of triplets = 32\n",
      " DONE!!\n",
      "\n",
      "Triplets for iteration 64 have been written to ./benign/benign_4/64.txt\n",
      "the # of the triplets: 32\n",
      "{(19498, 65613, 19), (19498, 852007, 7), (272194, 131072, 3), (19498, 1114179, 7), (19498, 294929, 7), (19498, 262198, 7), (19498, 819248, 7), (19498, 819258, 7), (19498, 98387, 7), (19498, 589889, 9), (19498, 131165, 7), (272194, 131072, 13), (272194, 655366, 13), (19498, 272194, 24), (19498, 59, 7), (19498, 196698, 7), (19498, 1081434, 7), (19498, 524363, 7), (19498, 196661, 7), (19498, 196664, 7), (19498, 524351, 7), (272194, 393219, 7), (19498, 65613, 13), (19498, 622652, 7), (19498, 393311, 7), (272194, 98, 13), (272194, 655366, 19), (19498, 65613, 3), (272194, 131072, 19), (19498, 1114116, 7), (272194, 655366, 3), (19498, 819211, 7)}\n"
     ]
    },
    {
     "data": {
      "application/vnd.jupyter.widget-view+json": {
       "model_id": "84aa62ea2dad42f08b8e4611722f3199",
       "version_major": 2,
       "version_minor": 0
      },
      "text/plain": [
       "  0%|          | 0/4949305 [00:00<?, ?it/s]"
      ]
     },
     "metadata": {},
     "output_type": "display_data"
    },
    {
     "name": "stdout",
     "output_type": "stream",
     "text": [
      "Found matching data for leaf node 99:\n",
      "Source: 444542, Destination: 99, Relation: 13\n",
      "layer1_source is: 444542\n",
      "# of the neighbor of layer1 source: 59003\n",
      "[917505, 131072, 786435, 655364, 917509, 1048589, 262161, 786450]\n",
      "8\n"
     ]
    },
    {
     "data": {
      "application/vnd.jupyter.widget-view+json": {
       "model_id": "abc6a95b7105457d93ab850e51057606",
       "version_major": 2,
       "version_minor": 0
      },
      "text/plain": [
       "  0%|          | 0/4949305 [00:00<?, ?it/s]"
      ]
     },
     "metadata": {},
     "output_type": "display_data"
    },
    {
     "name": "stdout",
     "output_type": "stream",
     "text": [
      "original layer2: (918633, 444542, 24)\n",
      "# of triplets = 32\n",
      " DONE!!\n",
      "\n",
      "Triplets for iteration 65 have been written to ./benign/benign_4/65.txt\n",
      "the # of the triplets: 32\n",
      "{(918633, 1087535, 7), (918633, 509980, 15), (444542, 99, 13), (918633, 165951, 0), (918633, 483374, 5), (918633, 163903, 7), (918633, 419911, 9), (918633, 165951, 5), (918633, 509980, 11), (918633, 444542, 24), (918633, 509980, 9), (918633, 483374, 3), (918633, 796675, 11), (444542, 1048576, 3), (918633, 1107996, 7), (918633, 188463, 9), (444542, 99, 3), (918633, 563202, 3), (918633, 55368, 9), (918633, 483374, 19), (444542, 1048576, 5), (918633, 722985, 7), (444542, 99, 5), (444542, 99, 19), (918633, 661519, 7), (444542, 99, 8), (918633, 165951, 19), (444542, 1048576, 8), (918633, 368671, 7), (918633, 165951, 17), (918633, 165951, 3), (918633, 157752, 7)}\n"
     ]
    },
    {
     "data": {
      "application/vnd.jupyter.widget-view+json": {
       "model_id": "27996334d6c94ea4a62af561f9277b74",
       "version_major": 2,
       "version_minor": 0
      },
      "text/plain": [
       "  0%|          | 0/4949305 [00:00<?, ?it/s]"
      ]
     },
     "metadata": {},
     "output_type": "display_data"
    },
    {
     "name": "stdout",
     "output_type": "stream",
     "text": [
      "Found matching data for leaf node 100:\n",
      "Source: 1003134, Destination: 100, Relation: 3\n",
      "layer1_source is: 1003134\n",
      "# of the neighbor of layer1 source: 211162\n",
      "[524288, 524290, 1048580, 1048584, 524302, 17, 524306, 524307]\n",
      "8\n"
     ]
    },
    {
     "data": {
      "application/vnd.jupyter.widget-view+json": {
       "model_id": "7183f47e914b41acac2bd66e5f0611d2",
       "version_major": 2,
       "version_minor": 0
      },
      "text/plain": [
       "  0%|          | 0/4949305 [00:00<?, ?it/s]"
      ]
     },
     "metadata": {},
     "output_type": "display_data"
    },
    {
     "name": "stdout",
     "output_type": "stream",
     "text": [
      "original layer2: (677631, 1003134, 24)\n",
      "# of triplets = 32\n",
      " DONE!!\n",
      "\n",
      "Triplets for iteration 66 have been written to ./benign/benign_4/66.txt\n",
      "the # of the triplets: 32\n",
      "{(677631, 376841, 17), (677631, 376841, 5), (677631, 376841, 4), (677631, 376841, 22), (677631, 983042, 4), (677631, 983042, 22), (677631, 376841, 21), (677631, 983042, 5), (677631, 376841, 20), (677631, 983042, 20), (677631, 155665, 19), (677631, 983042, 3), (677631, 983042, 21), (1003134, 1048576, 0), (1003134, 1048576, 3), (1003134, 524288, 3), (677631, 1003134, 24), (677631, 155665, 3), (677631, 155665, 17), (677631, 983042, 19), (677631, 950287, 19), (1003134, 1048576, 5), (1003134, 1048576, 19), (677631, 983042, 17), (1003134, 524290, 3), (677631, 581646, 19), (677631, 376841, 3), (677631, 155665, 5), (1003134, 1048576, 22), (677631, 155665, 4), (677631, 376841, 19), (1003134, 100, 3)}\n"
     ]
    },
    {
     "data": {
      "application/vnd.jupyter.widget-view+json": {
       "model_id": "65f20e1a532d43b58e673b7a5f6d36a4",
       "version_major": 2,
       "version_minor": 0
      },
      "text/plain": [
       "  0%|          | 0/4949305 [00:00<?, ?it/s]"
      ]
     },
     "metadata": {},
     "output_type": "display_data"
    },
    {
     "name": "stdout",
     "output_type": "stream",
     "text": [
      "Found matching data for leaf node 101:\n",
      "Source: 876053, Destination: 101, Relation: 3\n",
      "layer1_source is: 876053\n",
      "# of the neighbor of layer1 source: 6246\n",
      "[458763, 16, 393237, 622630, 524329, 655403, 1146931, 524341]\n",
      "8\n"
     ]
    },
    {
     "data": {
      "application/vnd.jupyter.widget-view+json": {
       "model_id": "47d547bd725a4945a65601e3ba497507",
       "version_major": 2,
       "version_minor": 0
      },
      "text/plain": [
       "  0%|          | 0/4949305 [00:00<?, ?it/s]"
      ]
     },
     "metadata": {},
     "output_type": "display_data"
    },
    {
     "name": "stdout",
     "output_type": "stream",
     "text": [
      "original layer2: (23340, 876053, 24)\n",
      "# of triplets = 32\n",
      " DONE!!\n",
      "\n",
      "Triplets for iteration 67 have been written to ./benign/benign_4/67.txt\n",
      "the # of the triplets: 32\n",
      "{(23340, 1081368, 13), (23340, 589850, 3), (876053, 131081, 19), (23340, 491552, 5), (23340, 98314, 15), (23340, 753699, 15), (876053, 101, 8), (876053, 131081, 3), (23340, 98314, 9), (23340, 876053, 24), (23340, 327716, 7), (23340, 98314, 11), (23340, 753699, 11), (23340, 983090, 5), (23340, 819227, 15), (23340, 983090, 4), (23340, 983090, 17), (23340, 491552, 8), (876053, 101, 17), (876053, 131081, 5), (23340, 983090, 1), (23340, 786432, 19), (23340, 819227, 11), (876053, 101, 19), (23340, 622605, 7), (23340, 983090, 3), (23340, 491552, 3), (23340, 819227, 9), (876053, 101, 3), (23340, 426000, 7), (23340, 491552, 19), (876053, 101, 5)}\n"
     ]
    },
    {
     "data": {
      "application/vnd.jupyter.widget-view+json": {
       "model_id": "071a6a0cfed34765b4025011ff82847c",
       "version_major": 2,
       "version_minor": 0
      },
      "text/plain": [
       "  0%|          | 0/4949305 [00:00<?, ?it/s]"
      ]
     },
     "metadata": {},
     "output_type": "display_data"
    },
    {
     "name": "stdout",
     "output_type": "stream",
     "text": [
      "Found matching data for leaf node 102:\n",
      "Source: 440212, Destination: 102, Relation: 13\n",
      "layer1_source is: 440212\n",
      "# of the neighbor of layer1 source: 61081\n",
      "[131087, 786447, 524306, 19, 1048595, 524307, 262169, 917530]\n",
      "8\n"
     ]
    },
    {
     "data": {
      "application/vnd.jupyter.widget-view+json": {
       "model_id": "fbdb47f497224a439706ba5803cda86c",
       "version_major": 2,
       "version_minor": 0
      },
      "text/plain": [
       "  0%|          | 0/4949305 [00:00<?, ?it/s]"
      ]
     },
     "metadata": {},
     "output_type": "display_data"
    },
    {
     "name": "stdout",
     "output_type": "stream",
     "text": [
      "original layer2: (918633, 440212, 24)\n",
      "# of triplets = 32\n",
      " DONE!!\n",
      "\n",
      "Triplets for iteration 68 have been written to ./benign/benign_4/68.txt\n",
      "the # of the triplets: 32\n",
      "{(918633, 1087535, 7), (918633, 509980, 15), (918633, 165951, 0), (918633, 483374, 5), (440212, 102, 17), (918633, 163903, 7), (918633, 419911, 9), (440212, 102, 19), (440212, 131080, 5), (918633, 509980, 11), (918633, 165951, 5), (440212, 102, 3), (918633, 509980, 9), (918633, 483374, 3), (918633, 796675, 11), (440212, 102, 5), (918633, 188463, 9), (918633, 1107996, 7), (918633, 563202, 3), (918633, 55368, 9), (918633, 483374, 19), (918633, 440212, 24), (918633, 722985, 7), (918633, 165951, 3), (440212, 102, 8), (918633, 661519, 7), (918633, 165951, 19), (440212, 102, 13), (918633, 368671, 7), (918633, 165951, 17), (440212, 131080, 3), (918633, 157752, 7)}\n"
     ]
    },
    {
     "data": {
      "application/vnd.jupyter.widget-view+json": {
       "model_id": "bf6610f64ba94dd0973153d96f9389a0",
       "version_major": 2,
       "version_minor": 0
      },
      "text/plain": [
       "  0%|          | 0/4949305 [00:00<?, ?it/s]"
      ]
     },
     "metadata": {},
     "output_type": "display_data"
    },
    {
     "name": "stdout",
     "output_type": "stream",
     "text": [
      "Found matching data for leaf node 104:\n",
      "Source: 444542, Destination: 104, Relation: 13\n",
      "layer1_source is: 444542\n",
      "# of the neighbor of layer1 source: 59003\n",
      "[917505, 131072, 786435, 655364, 917509, 1048589, 262161, 786450]\n",
      "8\n"
     ]
    },
    {
     "data": {
      "application/vnd.jupyter.widget-view+json": {
       "model_id": "1b8d7694370647c983a242641b8afbf1",
       "version_major": 2,
       "version_minor": 0
      },
      "text/plain": [
       "  0%|          | 0/4949305 [00:00<?, ?it/s]"
      ]
     },
     "metadata": {},
     "output_type": "display_data"
    },
    {
     "name": "stdout",
     "output_type": "stream",
     "text": [
      "original layer2: (918633, 444542, 24)\n",
      "# of triplets = 32\n",
      " DONE!!\n",
      "\n",
      "Triplets for iteration 69 have been written to ./benign/benign_4/69.txt\n",
      "the # of the triplets: 32\n",
      "{(918633, 1087535, 7), (918633, 509980, 15), (918633, 165951, 0), (918633, 483374, 5), (918633, 163903, 7), (444542, 104, 3), (918633, 419911, 9), (444542, 104, 17), (918633, 165951, 5), (918633, 509980, 11), (444542, 104, 5), (444542, 104, 19), (918633, 444542, 24), (918633, 509980, 9), (918633, 483374, 3), (918633, 796675, 11), (444542, 1048576, 3), (918633, 1107996, 7), (918633, 188463, 9), (918633, 563202, 3), (918633, 55368, 9), (918633, 483374, 19), (444542, 1048576, 5), (918633, 722985, 7), (444542, 104, 8), (918633, 661519, 7), (918633, 165951, 19), (444542, 104, 13), (918633, 368671, 7), (918633, 165951, 17), (918633, 165951, 3), (918633, 157752, 7)}\n"
     ]
    },
    {
     "data": {
      "application/vnd.jupyter.widget-view+json": {
       "model_id": "cbb8b37893344f999cef0e76f2d39f88",
       "version_major": 2,
       "version_minor": 0
      },
      "text/plain": [
       "  0%|          | 0/4949305 [00:00<?, ?it/s]"
      ]
     },
     "metadata": {},
     "output_type": "display_data"
    },
    {
     "name": "stdout",
     "output_type": "stream",
     "text": [
      "Found matching data for leaf node 105:\n",
      "Source: 145379, Destination: 105, Relation: 19\n",
      "layer1_source is: 145379\n",
      "# of the neighbor of layer1 source: 30536\n",
      "[262154, 524301, 262164, 393241, 393249, 262184, 131117, 262189]\n",
      "8\n"
     ]
    },
    {
     "data": {
      "application/vnd.jupyter.widget-view+json": {
       "model_id": "7a764910c2d944d7b1eaddc1a60f9934",
       "version_major": 2,
       "version_minor": 0
      },
      "text/plain": [
       "  0%|          | 0/4949305 [00:00<?, ?it/s]"
      ]
     },
     "metadata": {},
     "output_type": "display_data"
    },
    {
     "name": "stdout",
     "output_type": "stream",
     "text": [
      "Found matching data for leaf node 105:\n",
      "Source: 145379, Destination: 105, Relation: 3\n",
      "layer1_source is: 145379\n",
      "# of the neighbor of layer1 source: 30536\n",
      "[262154, 524301, 262164, 393241, 393249, 262184, 131117, 262189]\n",
      "8\n"
     ]
    },
    {
     "data": {
      "application/vnd.jupyter.widget-view+json": {
       "model_id": "829c4d22c54f4c1a83133a97b20c1cd9",
       "version_major": 2,
       "version_minor": 0
      },
      "text/plain": [
       "  0%|          | 0/4949305 [00:00<?, ?it/s]"
      ]
     },
     "metadata": {},
     "output_type": "display_data"
    },
    {
     "name": "stdout",
     "output_type": "stream",
     "text": [
      "Found matching data for leaf node 105:\n",
      "Source: 145379, Destination: 105, Relation: 22\n",
      "layer1_source is: 145379\n",
      "# of the neighbor of layer1 source: 30536\n",
      "[262154, 524301, 262164, 393241, 393249, 262184, 131117, 262189]\n",
      "8\n"
     ]
    },
    {
     "data": {
      "application/vnd.jupyter.widget-view+json": {
       "model_id": "01221c9673f64333a6c6218864b3d4eb",
       "version_major": 2,
       "version_minor": 0
      },
      "text/plain": [
       "  0%|          | 0/4949305 [00:00<?, ?it/s]"
      ]
     },
     "metadata": {},
     "output_type": "display_data"
    },
    {
     "name": "stdout",
     "output_type": "stream",
     "text": [
      "Found matching data for leaf node 105:\n",
      "Source: 145379, Destination: 105, Relation: 5\n",
      "layer1_source is: 145379\n",
      "# of the neighbor of layer1 source: 30536\n",
      "[262154, 524301, 262164, 393241, 393249, 262184, 131117, 262189]\n",
      "8\n"
     ]
    },
    {
     "data": {
      "application/vnd.jupyter.widget-view+json": {
       "model_id": "531a6300973a41d9851fc3051e3930ee",
       "version_major": 2,
       "version_minor": 0
      },
      "text/plain": [
       "  0%|          | 0/4949305 [00:00<?, ?it/s]"
      ]
     },
     "metadata": {},
     "output_type": "display_data"
    },
    {
     "name": "stdout",
     "output_type": "stream",
     "text": [
      "Triplets for iteration 70 have been written to ./benign/benign_4/70.txt\n",
      "the # of the triplets: 8\n",
      "{(145379, 105, 5), (145379, 262154, 19), (145379, 105, 22), (145379, 1048584, 5), (145379, 105, 3), (145379, 1048584, 19), (145379, 105, 19), (145379, 1048584, 3)}\n"
     ]
    },
    {
     "data": {
      "application/vnd.jupyter.widget-view+json": {
       "model_id": "85fae5738f24483d853ca193372c8743",
       "version_major": 2,
       "version_minor": 0
      },
      "text/plain": [
       "  0%|          | 0/4949305 [00:00<?, ?it/s]"
      ]
     },
     "metadata": {},
     "output_type": "display_data"
    },
    {
     "name": "stdout",
     "output_type": "stream",
     "text": [
      "Found matching data for leaf node 107:\n",
      "Source: 280074, Destination: 107, Relation: 3\n",
      "layer1_source is: 280074\n",
      "# of the neighbor of layer1 source: 52002\n",
      "[524292, 5, 524294, 786440, 262159, 131092, 524311, 24]\n",
      "8\n"
     ]
    },
    {
     "data": {
      "application/vnd.jupyter.widget-view+json": {
       "model_id": "3e3211e0d2334c8f9ae0f79b64854c8e",
       "version_major": 2,
       "version_minor": 0
      },
      "text/plain": [
       "  0%|          | 0/4949305 [00:00<?, ?it/s]"
      ]
     },
     "metadata": {},
     "output_type": "display_data"
    },
    {
     "name": "stdout",
     "output_type": "stream",
     "text": [
      "original layer2: (23340, 280074, 24)\n",
      "# of triplets = 32\n",
      " DONE!!\n",
      "\n",
      "Triplets for iteration 71 have been written to ./benign/benign_4/71.txt\n",
      "the # of the triplets: 32\n",
      "{(280074, 524292, 3), (23340, 1081368, 13), (23340, 589850, 3), (23340, 491552, 5), (280074, 524294, 3), (23340, 98314, 15), (280074, 5, 3), (23340, 753699, 15), (23340, 98314, 9), (280074, 107, 5), (280074, 1048578, 3), (23340, 327716, 7), (23340, 98314, 11), (23340, 753699, 11), (23340, 983090, 5), (23340, 280074, 24), (23340, 819227, 15), (23340, 983090, 4), (23340, 983090, 17), (23340, 491552, 8), (280074, 786440, 3), (23340, 983090, 1), (23340, 786432, 19), (280074, 107, 3), (23340, 819227, 11), (23340, 622605, 7), (23340, 983090, 3), (23340, 491552, 3), (280074, 107, 19), (23340, 819227, 9), (23340, 426000, 7), (23340, 491552, 19)}\n"
     ]
    },
    {
     "data": {
      "application/vnd.jupyter.widget-view+json": {
       "model_id": "91908acc931b42bbaa213f0912d3bf71",
       "version_major": 2,
       "version_minor": 0
      },
      "text/plain": [
       "  0%|          | 0/4949305 [00:00<?, ?it/s]"
      ]
     },
     "metadata": {},
     "output_type": "display_data"
    },
    {
     "name": "stdout",
     "output_type": "stream",
     "text": [
      "Found matching data for leaf node 108:\n",
      "Source: 440212, Destination: 108, Relation: 13\n",
      "layer1_source is: 440212\n",
      "# of the neighbor of layer1 source: 61081\n",
      "[131087, 786447, 524306, 19, 1048595, 524307, 262169, 917530]\n",
      "8\n"
     ]
    },
    {
     "data": {
      "application/vnd.jupyter.widget-view+json": {
       "model_id": "e75f34b65d9246c9b155583011b5bde5",
       "version_major": 2,
       "version_minor": 0
      },
      "text/plain": [
       "  0%|          | 0/4949305 [00:00<?, ?it/s]"
      ]
     },
     "metadata": {},
     "output_type": "display_data"
    },
    {
     "name": "stdout",
     "output_type": "stream",
     "text": [
      "original layer2: (918633, 440212, 24)\n",
      "# of triplets = 32\n",
      " DONE!!\n",
      "\n",
      "Triplets for iteration 72 have been written to ./benign/benign_4/72.txt\n",
      "the # of the triplets: 32\n",
      "{(918633, 1087535, 7), (918633, 509980, 15), (918633, 165951, 0), (918633, 483374, 5), (440212, 108, 0), (918633, 163903, 7), (918633, 419911, 9), (440212, 131080, 5), (918633, 509980, 11), (918633, 165951, 5), (440212, 108, 13), (918633, 509980, 9), (918633, 483374, 3), (918633, 796675, 11), (918633, 188463, 9), (918633, 1107996, 7), (918633, 563202, 3), (918633, 55368, 9), (440212, 108, 8), (918633, 483374, 19), (918633, 440212, 24), (918633, 722985, 7), (918633, 165951, 3), (918633, 661519, 7), (918633, 165951, 19), (440212, 108, 19), (440212, 108, 5), (918633, 368671, 7), (918633, 165951, 17), (440212, 131080, 3), (918633, 157752, 7), (440212, 108, 3)}\n"
     ]
    },
    {
     "data": {
      "application/vnd.jupyter.widget-view+json": {
       "model_id": "5b57cd021dfd4274b95ded15427fa224",
       "version_major": 2,
       "version_minor": 0
      },
      "text/plain": [
       "  0%|          | 0/4949305 [00:00<?, ?it/s]"
      ]
     },
     "metadata": {},
     "output_type": "display_data"
    },
    {
     "name": "stdout",
     "output_type": "stream",
     "text": [
      "Found matching data for leaf node 111:\n",
      "Source: 148442, Destination: 111, Relation: 7\n",
      "layer1_source is: 148442\n",
      "# of the neighbor of layer1 source: 14844\n",
      "[524291, 950277, 524293, 1114119, 1015816, 589834, 1015823, 524305]\n",
      "8\n"
     ]
    },
    {
     "data": {
      "application/vnd.jupyter.widget-view+json": {
       "model_id": "3c5c8fe2851e4000b00805e510dfd42f",
       "version_major": 2,
       "version_minor": 0
      },
      "text/plain": [
       "  0%|          | 0/4949305 [00:00<?, ?it/s]"
      ]
     },
     "metadata": {},
     "output_type": "display_data"
    },
    {
     "name": "stdout",
     "output_type": "stream",
     "text": [
      "original layer2: (279417, 148442, 24)\n",
      "# of triplets = 32\n",
      " DONE!!\n",
      "\n",
      "Triplets for iteration 73 have been written to ./benign/benign_4/73.txt\n",
      "the # of the triplets: 32\n",
      "{(148442, 111, 7), (279417, 294973, 7), (279417, 786493, 7), (279417, 622642, 15), (148442, 524291, 9), (279417, 884807, 7), (279417, 917561, 2), (279417, 1114142, 7), (279417, 98367, 9), (279417, 148442, 24), (148442, 524293, 7), (148442, 524291, 11), (279417, 1081403, 3), (279417, 720953, 7), (279417, 852039, 11), (279417, 262205, 2), (279417, 851972, 2), (148442, 950277, 11), (148442, 950277, 9), (279417, 131116, 2), (148442, 163843, 7), (279417, 327768, 11), (279417, 458806, 2), (279417, 786443, 3), (279417, 327768, 9), (279417, 589885, 9), (279417, 622642, 9), (148442, 1114119, 7), (279417, 80, 7), (279417, 327768, 15), (279417, 589885, 11), (279417, 622642, 11)}\n"
     ]
    },
    {
     "data": {
      "application/vnd.jupyter.widget-view+json": {
       "model_id": "b2de0a63c5a84c28919a19072317d9c5",
       "version_major": 2,
       "version_minor": 0
      },
      "text/plain": [
       "  0%|          | 0/4949305 [00:00<?, ?it/s]"
      ]
     },
     "metadata": {},
     "output_type": "display_data"
    },
    {
     "name": "stdout",
     "output_type": "stream",
     "text": [
      "Found matching data for leaf node 112:\n",
      "Source: 211018, Destination: 112, Relation: 9\n",
      "layer1_source is: 211018\n",
      "# of the neighbor of layer1 source: 12863\n",
      "[950275, 819205, 655368, 950282, 491532, 622605, 655373, 425997]\n",
      "8\n"
     ]
    },
    {
     "data": {
      "application/vnd.jupyter.widget-view+json": {
       "model_id": "b605bcf198a844e5864565cb96318243",
       "version_major": 2,
       "version_minor": 0
      },
      "text/plain": [
       "  0%|          | 0/4949305 [00:00<?, ?it/s]"
      ]
     },
     "metadata": {},
     "output_type": "display_data"
    },
    {
     "name": "stdout",
     "output_type": "stream",
     "text": [
      "original layer2: (927897, 211018, 24)\n",
      "# of triplets = 32\n",
      " DONE!!\n",
      "\n",
      "Triplets for iteration 74 have been written to ./benign/benign_4/74.txt\n",
      "the # of the triplets: 32\n",
      "{(927897, 131134, 11), (927897, 720922, 7), (927897, 720968, 7), (927897, 229456, 9), (211018, 622605, 7), (211018, 491532, 9), (211018, 112, 9), (927897, 983098, 7), (211018, 1, 9), (927897, 622599, 7), (927897, 1081410, 9), (927897, 131119, 11), (927897, 1015840, 7), (211018, 950282, 7), (211018, 655368, 9), (927897, 1081410, 11), (927897, 131119, 9), (927897, 91, 7), (927897, 589917, 7), (927897, 426002, 7), (927897, 1146956, 11), (927897, 229379, 7), (211018, 950275, 9), (927897, 229456, 11), (927897, 211018, 24), (927897, 1146956, 9), (927897, 360540, 7), (211018, 819205, 7), (927897, 131134, 9), (927897, 131164, 7), (927897, 1114129, 7), (927897, 1146910, 7)}\n"
     ]
    },
    {
     "data": {
      "application/vnd.jupyter.widget-view+json": {
       "model_id": "a23ea826b57b4763b33b1b9c7d87798a",
       "version_major": 2,
       "version_minor": 0
      },
      "text/plain": [
       "  0%|          | 0/4949305 [00:00<?, ?it/s]"
      ]
     },
     "metadata": {},
     "output_type": "display_data"
    },
    {
     "name": "stdout",
     "output_type": "stream",
     "text": [
      "Found matching data for leaf node 113:\n",
      "Source: 440212, Destination: 113, Relation: 3\n",
      "layer1_source is: 440212\n",
      "# of the neighbor of layer1 source: 61081\n",
      "[131087, 786447, 524306, 19, 1048595, 524307, 262169, 917530]\n",
      "8\n"
     ]
    },
    {
     "data": {
      "application/vnd.jupyter.widget-view+json": {
       "model_id": "72d43967d4db4c369376c3ae23e4402c",
       "version_major": 2,
       "version_minor": 0
      },
      "text/plain": [
       "  0%|          | 0/4949305 [00:00<?, ?it/s]"
      ]
     },
     "metadata": {},
     "output_type": "display_data"
    },
    {
     "name": "stdout",
     "output_type": "stream",
     "text": [
      "original layer2: (918633, 440212, 24)\n",
      "# of triplets = 32\n",
      " DONE!!\n",
      "\n",
      "Triplets for iteration 75 have been written to ./benign/benign_4/75.txt\n",
      "the # of the triplets: 32\n",
      "{(918633, 1087535, 7), (918633, 509980, 15), (440212, 113, 0), (918633, 165951, 0), (918633, 483374, 5), (918633, 163903, 7), (918633, 419911, 9), (440212, 113, 3), (440212, 131080, 5), (918633, 509980, 11), (918633, 165951, 5), (440212, 113, 13), (440212, 113, 19), (918633, 509980, 9), (918633, 483374, 3), (918633, 796675, 11), (918633, 188463, 9), (918633, 1107996, 7), (440212, 113, 8), (918633, 563202, 3), (918633, 55368, 9), (918633, 483374, 19), (918633, 440212, 24), (918633, 722985, 7), (918633, 165951, 3), (918633, 661519, 7), (918633, 165951, 19), (918633, 368671, 7), (918633, 165951, 17), (440212, 113, 5), (440212, 131080, 3), (918633, 157752, 7)}\n"
     ]
    },
    {
     "data": {
      "application/vnd.jupyter.widget-view+json": {
       "model_id": "e7b60c623c2c407dbb13b3289d069cd6",
       "version_major": 2,
       "version_minor": 0
      },
      "text/plain": [
       "  0%|          | 0/4949305 [00:00<?, ?it/s]"
      ]
     },
     "metadata": {},
     "output_type": "display_data"
    },
    {
     "name": "stdout",
     "output_type": "stream",
     "text": [
      "Found matching data for leaf node 114:\n",
      "Source: 1003134, Destination: 114, Relation: 3\n",
      "layer1_source is: 1003134\n",
      "# of the neighbor of layer1 source: 211162\n",
      "[524288, 524290, 1048580, 1048584, 524302, 17, 524306, 524307]\n",
      "8\n"
     ]
    },
    {
     "data": {
      "application/vnd.jupyter.widget-view+json": {
       "model_id": "245e0f68884b462f8b1d59259a0b9c5b",
       "version_major": 2,
       "version_minor": 0
      },
      "text/plain": [
       "  0%|          | 0/4949305 [00:00<?, ?it/s]"
      ]
     },
     "metadata": {},
     "output_type": "display_data"
    },
    {
     "name": "stdout",
     "output_type": "stream",
     "text": [
      "original layer2: (677631, 1003134, 24)\n",
      "# of triplets = 32\n",
      " DONE!!\n",
      "\n",
      "Triplets for iteration 76 have been written to ./benign/benign_4/76.txt\n",
      "the # of the triplets: 32\n",
      "{(1003134, 114, 3), (677631, 376841, 17), (677631, 376841, 5), (677631, 376841, 4), (677631, 376841, 22), (677631, 983042, 4), (677631, 983042, 22), (677631, 376841, 21), (677631, 983042, 5), (677631, 376841, 20), (677631, 983042, 20), (677631, 155665, 19), (677631, 983042, 3), (677631, 983042, 21), (1003134, 1048576, 0), (1003134, 1048576, 3), (1003134, 524288, 3), (677631, 1003134, 24), (677631, 155665, 3), (677631, 155665, 17), (677631, 983042, 19), (677631, 950287, 19), (1003134, 1048576, 5), (1003134, 1048576, 19), (677631, 983042, 17), (1003134, 524290, 3), (677631, 581646, 19), (677631, 376841, 3), (677631, 155665, 5), (1003134, 1048576, 22), (677631, 155665, 4), (677631, 376841, 19)}\n"
     ]
    },
    {
     "data": {
      "application/vnd.jupyter.widget-view+json": {
       "model_id": "9197d1a885734d648ff234c577fab4ab",
       "version_major": 2,
       "version_minor": 0
      },
      "text/plain": [
       "  0%|          | 0/4949305 [00:00<?, ?it/s]"
      ]
     },
     "metadata": {},
     "output_type": "display_data"
    },
    {
     "name": "stdout",
     "output_type": "stream",
     "text": [
      "Found matching data for leaf node 116:\n",
      "Source: 1003134, Destination: 116, Relation: 3\n",
      "layer1_source is: 1003134\n",
      "# of the neighbor of layer1 source: 211162\n",
      "[524288, 524290, 1048580, 1048584, 524302, 17, 524306, 524307]\n",
      "8\n"
     ]
    },
    {
     "data": {
      "application/vnd.jupyter.widget-view+json": {
       "model_id": "a9bde65ee90c44ebb5762559b5e4397c",
       "version_major": 2,
       "version_minor": 0
      },
      "text/plain": [
       "  0%|          | 0/4949305 [00:00<?, ?it/s]"
      ]
     },
     "metadata": {},
     "output_type": "display_data"
    },
    {
     "name": "stdout",
     "output_type": "stream",
     "text": [
      "original layer2: (677631, 1003134, 24)\n",
      "# of triplets = 32\n",
      " DONE!!\n",
      "\n",
      "Triplets for iteration 77 have been written to ./benign/benign_4/77.txt\n",
      "the # of the triplets: 32\n",
      "{(677631, 376841, 17), (1003134, 116, 3), (677631, 376841, 5), (677631, 376841, 4), (677631, 376841, 22), (677631, 983042, 4), (677631, 983042, 22), (677631, 376841, 21), (677631, 983042, 5), (677631, 376841, 20), (677631, 983042, 20), (677631, 155665, 19), (677631, 983042, 3), (677631, 983042, 21), (1003134, 1048576, 0), (1003134, 1048576, 3), (1003134, 524288, 3), (677631, 1003134, 24), (677631, 155665, 3), (677631, 155665, 17), (677631, 983042, 19), (677631, 950287, 19), (1003134, 1048576, 5), (1003134, 1048576, 19), (677631, 983042, 17), (1003134, 524290, 3), (677631, 581646, 19), (677631, 376841, 3), (677631, 155665, 5), (1003134, 1048576, 22), (677631, 155665, 4), (677631, 376841, 19)}\n"
     ]
    },
    {
     "data": {
      "application/vnd.jupyter.widget-view+json": {
       "model_id": "35029be01d4043f6be15b6d547d009f5",
       "version_major": 2,
       "version_minor": 0
      },
      "text/plain": [
       "  0%|          | 0/4949305 [00:00<?, ?it/s]"
      ]
     },
     "metadata": {},
     "output_type": "display_data"
    },
    {
     "name": "stdout",
     "output_type": "stream",
     "text": [
      "Found matching data for leaf node 117:\n",
      "Source: 1003134, Destination: 117, Relation: 3\n",
      "layer1_source is: 1003134\n",
      "# of the neighbor of layer1 source: 211162\n",
      "[524288, 524290, 1048580, 1048584, 524302, 17, 524306, 524307]\n",
      "8\n"
     ]
    },
    {
     "data": {
      "application/vnd.jupyter.widget-view+json": {
       "model_id": "7e002ff4a55b4bb589690bb122eafdd0",
       "version_major": 2,
       "version_minor": 0
      },
      "text/plain": [
       "  0%|          | 0/4949305 [00:00<?, ?it/s]"
      ]
     },
     "metadata": {},
     "output_type": "display_data"
    },
    {
     "name": "stdout",
     "output_type": "stream",
     "text": [
      "original layer2: (677631, 1003134, 24)\n",
      "# of triplets = 32\n",
      " DONE!!\n",
      "\n",
      "Triplets for iteration 78 have been written to ./benign/benign_4/78.txt\n",
      "the # of the triplets: 32\n",
      "{(677631, 376841, 17), (677631, 376841, 5), (677631, 376841, 4), (677631, 376841, 22), (677631, 983042, 4), (677631, 983042, 22), (677631, 376841, 21), (1003134, 117, 3), (677631, 983042, 5), (677631, 376841, 20), (677631, 983042, 20), (677631, 155665, 19), (677631, 983042, 3), (677631, 983042, 21), (1003134, 1048576, 0), (1003134, 1048576, 3), (1003134, 524288, 3), (677631, 1003134, 24), (677631, 155665, 3), (677631, 155665, 17), (677631, 983042, 19), (677631, 950287, 19), (1003134, 1048576, 5), (1003134, 1048576, 19), (677631, 983042, 17), (1003134, 524290, 3), (677631, 581646, 19), (677631, 376841, 3), (677631, 155665, 5), (1003134, 1048576, 22), (677631, 155665, 4), (677631, 376841, 19)}\n"
     ]
    },
    {
     "data": {
      "application/vnd.jupyter.widget-view+json": {
       "model_id": "bd930078e75043ef809afd71d3af6e51",
       "version_major": 2,
       "version_minor": 0
      },
      "text/plain": [
       "  0%|          | 0/4949305 [00:00<?, ?it/s]"
      ]
     },
     "metadata": {},
     "output_type": "display_data"
    },
    {
     "name": "stdout",
     "output_type": "stream",
     "text": [
      "Found matching data for leaf node 120:\n",
      "Source: 440212, Destination: 120, Relation: 13\n",
      "layer1_source is: 440212\n",
      "# of the neighbor of layer1 source: 61081\n",
      "[131087, 786447, 524306, 19, 1048595, 524307, 262169, 917530]\n",
      "8\n"
     ]
    },
    {
     "data": {
      "application/vnd.jupyter.widget-view+json": {
       "model_id": "5e7a40aa06b3487eadf9ad12288ac62a",
       "version_major": 2,
       "version_minor": 0
      },
      "text/plain": [
       "  0%|          | 0/4949305 [00:00<?, ?it/s]"
      ]
     },
     "metadata": {},
     "output_type": "display_data"
    },
    {
     "name": "stdout",
     "output_type": "stream",
     "text": [
      "original layer2: (918633, 440212, 24)\n",
      "# of triplets = 32\n",
      " DONE!!\n",
      "\n",
      "Triplets for iteration 79 have been written to ./benign/benign_4/79.txt\n",
      "the # of the triplets: 32\n",
      "{(918633, 1087535, 7), (918633, 509980, 15), (440212, 120, 3), (918633, 165951, 0), (918633, 483374, 5), (918633, 163903, 7), (918633, 419911, 9), (440212, 120, 19), (440212, 131080, 5), (918633, 509980, 11), (918633, 165951, 5), (440212, 120, 17), (918633, 509980, 9), (440212, 120, 5), (918633, 483374, 3), (918633, 796675, 11), (918633, 188463, 9), (918633, 1107996, 7), (918633, 563202, 3), (918633, 55368, 9), (918633, 483374, 19), (918633, 440212, 24), (918633, 722985, 7), (918633, 165951, 3), (918633, 661519, 7), (440212, 120, 8), (918633, 165951, 19), (918633, 368671, 7), (918633, 165951, 17), (440212, 131080, 3), (440212, 120, 13), (918633, 157752, 7)}\n"
     ]
    },
    {
     "data": {
      "application/vnd.jupyter.widget-view+json": {
       "model_id": "4cc06bba03e149d3b14d4d26a2fb6edc",
       "version_major": 2,
       "version_minor": 0
      },
      "text/plain": [
       "  0%|          | 0/4949305 [00:00<?, ?it/s]"
      ]
     },
     "metadata": {},
     "output_type": "display_data"
    },
    {
     "name": "stdout",
     "output_type": "stream",
     "text": [
      "Found matching data for leaf node 121:\n",
      "Source: 1013153, Destination: 121, Relation: 9\n",
      "layer1_source is: 1013153\n",
      "# of the neighbor of layer1 source: 34767\n",
      "[393220, 786439, 524299, 12, 15, 1048592, 655376, 20]\n",
      "8\n"
     ]
    },
    {
     "data": {
      "application/vnd.jupyter.widget-view+json": {
       "model_id": "7d1b9a2f22ef49cab13a834ce9b1073c",
       "version_major": 2,
       "version_minor": 0
      },
      "text/plain": [
       "  0%|          | 0/4949305 [00:00<?, ?it/s]"
      ]
     },
     "metadata": {},
     "output_type": "display_data"
    },
    {
     "name": "stdout",
     "output_type": "stream",
     "text": [
      "original layer2: (949521, 1013153, 24)\n",
      "# of triplets = 32\n",
      " DONE!!\n",
      "\n",
      "Triplets for iteration 80 have been written to ./benign/benign_4/80.txt\n",
      "the # of the triplets: 32\n",
      "{(949521, 131113, 3), (1013153, 1048577, 9), (949521, 753699, 11), (949521, 1013153, 24), (949521, 196613, 5), (1013153, 12, 9), (1013153, 1048577, 11), (949521, 131113, 19), (949521, 98314, 15), (949521, 491552, 8), (1013153, 1048577, 15), (949521, 819227, 15), (949521, 196613, 3), (949521, 196613, 17), (949521, 196613, 19), (1013153, 121, 9), (949521, 819227, 11), (1013153, 786439, 9), (949521, 491552, 3), (949521, 327716, 7), (1013153, 393220, 9), (949521, 589850, 3), (949521, 819227, 9), (949521, 622605, 7), (949521, 491552, 19), (949521, 753699, 15), (949521, 1081368, 13), (949521, 98314, 9), (949521, 196613, 8), (949521, 491552, 5), (1013153, 524299, 9), (949521, 98314, 11)}\n"
     ]
    },
    {
     "data": {
      "application/vnd.jupyter.widget-view+json": {
       "model_id": "3c89eccbc5e940abb19d40f4f4ab4201",
       "version_major": 2,
       "version_minor": 0
      },
      "text/plain": [
       "  0%|          | 0/4949305 [00:00<?, ?it/s]"
      ]
     },
     "metadata": {},
     "output_type": "display_data"
    },
    {
     "name": "stdout",
     "output_type": "stream",
     "text": [
      "Found matching data for leaf node 122:\n",
      "Source: 295347, Destination: 122, Relation: 7\n",
      "layer1_source is: 295347\n",
      "# of the neighbor of layer1 source: 25895\n",
      "[14, 131092, 393244, 524319, 524320, 39, 524343, 63]\n",
      "8\n"
     ]
    },
    {
     "data": {
      "application/vnd.jupyter.widget-view+json": {
       "model_id": "61b90bd0e6874140ace3a42aa56c9eee",
       "version_major": 2,
       "version_minor": 0
      },
      "text/plain": [
       "  0%|          | 0/4949305 [00:00<?, ?it/s]"
      ]
     },
     "metadata": {},
     "output_type": "display_data"
    },
    {
     "name": "stdout",
     "output_type": "stream",
     "text": [
      "Triplets for iteration 81 have been written to ./benign/benign_4/81.txt\n",
      "the # of the triplets: 8\n",
      "{(295347, 524320, 9), (295347, 917510, 7), (295347, 122, 7), (295347, 131092, 13), (295347, 14, 9), (295347, 393244, 9), (295347, 39, 9), (295347, 524319, 7)}\n"
     ]
    },
    {
     "data": {
      "application/vnd.jupyter.widget-view+json": {
       "model_id": "1bfaabc9a27540eab50243eea072f594",
       "version_major": 2,
       "version_minor": 0
      },
      "text/plain": [
       "  0%|          | 0/4949305 [00:00<?, ?it/s]"
      ]
     },
     "metadata": {},
     "output_type": "display_data"
    },
    {
     "name": "stdout",
     "output_type": "stream",
     "text": [
      "Found matching data for leaf node 124:\n",
      "Source: 915552, Destination: 124, Relation: 3\n",
      "layer1_source is: 915552\n",
      "# of the neighbor of layer1 source: 15421\n",
      "[819207, 983048, 98313, 524298, 1048587, 622602, 983053, 458765]\n",
      "8\n"
     ]
    },
    {
     "data": {
      "application/vnd.jupyter.widget-view+json": {
       "model_id": "24262196bc064fdaa696db6f35f4a2ad",
       "version_major": 2,
       "version_minor": 0
      },
      "text/plain": [
       "  0%|          | 0/4949305 [00:00<?, ?it/s]"
      ]
     },
     "metadata": {},
     "output_type": "display_data"
    },
    {
     "name": "stdout",
     "output_type": "stream",
     "text": [
      "original layer2: (264688, 915552, 24)\n",
      "# of triplets = 32\n",
      " DONE!!\n",
      "\n",
      "Triplets for iteration 82 have been written to ./benign/benign_4/82.txt\n",
      "the # of the triplets: 32\n",
      "{(915552, 65538, 9), (915552, 124, 22), (264688, 915552, 24), (264688, 106499, 3), (915552, 124, 20), (264688, 106499, 0), (264688, 991772, 7), (915552, 124, 8), (264688, 106499, 19), (264688, 291358, 11), (264688, 106499, 17), (264688, 820251, 9), (264688, 106499, 4), (264688, 106499, 22), (264688, 126996, 3), (264688, 106499, 5), (264688, 617492, 3), (264688, 2058, 3), (264688, 106499, 20), (264688, 106499, 21), (264688, 2058, 19), (264688, 116745, 9), (915552, 124, 3), (264688, 391700, 7), (264688, 931331, 11), (264688, 796675, 11), (264688, 363019, 3), (915552, 124, 19), (264688, 363019, 19), (915552, 124, 17), (264688, 84499, 9), (915552, 124, 5)}\n"
     ]
    },
    {
     "data": {
      "application/vnd.jupyter.widget-view+json": {
       "model_id": "c7a902773c134f4197096a66620c41b9",
       "version_major": 2,
       "version_minor": 0
      },
      "text/plain": [
       "  0%|          | 0/4949305 [00:00<?, ?it/s]"
      ]
     },
     "metadata": {},
     "output_type": "display_data"
    },
    {
     "name": "stdout",
     "output_type": "stream",
     "text": [
      "Found matching data for leaf node 126:\n",
      "Source: 1013153, Destination: 126, Relation: 9\n",
      "layer1_source is: 1013153\n",
      "# of the neighbor of layer1 source: 34767\n",
      "[393220, 786439, 524299, 12, 15, 1048592, 655376, 20]\n",
      "8\n"
     ]
    },
    {
     "data": {
      "application/vnd.jupyter.widget-view+json": {
       "model_id": "6ada83def9a8480fa75609ef7b2a64c0",
       "version_major": 2,
       "version_minor": 0
      },
      "text/plain": [
       "  0%|          | 0/4949305 [00:00<?, ?it/s]"
      ]
     },
     "metadata": {},
     "output_type": "display_data"
    },
    {
     "name": "stdout",
     "output_type": "stream",
     "text": [
      "original layer2: (949521, 1013153, 24)\n",
      "# of triplets = 32\n",
      " DONE!!\n",
      "\n",
      "Triplets for iteration 83 have been written to ./benign/benign_4/83.txt\n",
      "the # of the triplets: 32\n",
      "{(949521, 131113, 3), (1013153, 1048577, 9), (949521, 753699, 11), (949521, 1013153, 24), (949521, 196613, 5), (1013153, 12, 9), (1013153, 1048577, 11), (949521, 131113, 19), (949521, 98314, 15), (949521, 491552, 8), (1013153, 1048577, 15), (949521, 819227, 15), (949521, 196613, 3), (949521, 196613, 17), (949521, 196613, 19), (1013153, 126, 9), (949521, 819227, 11), (1013153, 786439, 9), (949521, 491552, 3), (949521, 327716, 7), (1013153, 393220, 9), (949521, 589850, 3), (949521, 819227, 9), (949521, 622605, 7), (949521, 491552, 19), (949521, 753699, 15), (949521, 1081368, 13), (949521, 98314, 9), (949521, 196613, 8), (949521, 491552, 5), (1013153, 524299, 9), (949521, 98314, 11)}\n"
     ]
    },
    {
     "data": {
      "application/vnd.jupyter.widget-view+json": {
       "model_id": "1c7d567e80b542e78faad88a5aa51bd6",
       "version_major": 2,
       "version_minor": 0
      },
      "text/plain": [
       "  0%|          | 0/4949305 [00:00<?, ?it/s]"
      ]
     },
     "metadata": {},
     "output_type": "display_data"
    },
    {
     "name": "stdout",
     "output_type": "stream",
     "text": [
      "Found matching data for leaf node 127:\n",
      "Source: 280074, Destination: 127, Relation: 3\n",
      "layer1_source is: 280074\n",
      "# of the neighbor of layer1 source: 52002\n",
      "[524292, 5, 524294, 786440, 262159, 131092, 524311, 24]\n",
      "8\n"
     ]
    },
    {
     "data": {
      "application/vnd.jupyter.widget-view+json": {
       "model_id": "2846b15d5e3b42288d8253510bb45996",
       "version_major": 2,
       "version_minor": 0
      },
      "text/plain": [
       "  0%|          | 0/4949305 [00:00<?, ?it/s]"
      ]
     },
     "metadata": {},
     "output_type": "display_data"
    },
    {
     "name": "stdout",
     "output_type": "stream",
     "text": [
      "original layer2: (23340, 280074, 24)\n",
      "# of triplets = 32\n",
      " DONE!!\n",
      "\n",
      "Triplets for iteration 84 have been written to ./benign/benign_4/84.txt\n",
      "the # of the triplets: 32\n",
      "{(280074, 524292, 3), (23340, 1081368, 13), (23340, 589850, 3), (23340, 491552, 5), (280074, 524294, 3), (23340, 98314, 15), (280074, 5, 3), (23340, 753699, 15), (280074, 262159, 3), (23340, 98314, 9), (280074, 1048578, 3), (23340, 327716, 7), (23340, 98314, 11), (23340, 753699, 11), (23340, 983090, 5), (23340, 280074, 24), (23340, 819227, 15), (23340, 983090, 4), (23340, 983090, 17), (23340, 491552, 8), (280074, 127, 3), (280074, 786440, 3), (280074, 131092, 13), (23340, 983090, 1), (23340, 786432, 19), (23340, 819227, 11), (23340, 622605, 7), (23340, 983090, 3), (23340, 491552, 3), (23340, 819227, 9), (23340, 426000, 7), (23340, 491552, 19)}\n"
     ]
    },
    {
     "data": {
      "application/vnd.jupyter.widget-view+json": {
       "model_id": "2ee183494b1c4c498d994d276f61677f",
       "version_major": 2,
       "version_minor": 0
      },
      "text/plain": [
       "  0%|          | 0/4949305 [00:00<?, ?it/s]"
      ]
     },
     "metadata": {},
     "output_type": "display_data"
    },
    {
     "name": "stdout",
     "output_type": "stream",
     "text": [
      "Found matching data for leaf node 128:\n",
      "Source: 589911, Destination: 128, Relation: 3\n",
      "layer1_source is: 589911\n",
      "# of the neighbor of layer1 source: 9120\n",
      "[983046, 360461, 622607, 819216, 32791, 98330, 262179, 1081388]\n",
      "8\n"
     ]
    },
    {
     "data": {
      "application/vnd.jupyter.widget-view+json": {
       "model_id": "2b1149b6ba354741ab2ae13c5861a539",
       "version_major": 2,
       "version_minor": 0
      },
      "text/plain": [
       "  0%|          | 0/4949305 [00:00<?, ?it/s]"
      ]
     },
     "metadata": {},
     "output_type": "display_data"
    },
    {
     "name": "stdout",
     "output_type": "stream",
     "text": [
      "Found matching data for leaf node 128:\n",
      "Source: 589911, Destination: 128, Relation: 5\n",
      "layer1_source is: 589911\n",
      "# of the neighbor of layer1 source: 9120\n",
      "[983046, 360461, 622607, 819216, 32791, 98330, 262179, 1081388]\n",
      "8\n"
     ]
    },
    {
     "data": {
      "application/vnd.jupyter.widget-view+json": {
       "model_id": "5d475c83d978452ca932f434eed96c78",
       "version_major": 2,
       "version_minor": 0
      },
      "text/plain": [
       "  0%|          | 0/4949305 [00:00<?, ?it/s]"
      ]
     },
     "metadata": {},
     "output_type": "display_data"
    },
    {
     "name": "stdout",
     "output_type": "stream",
     "text": [
      "Found matching data for leaf node 128:\n",
      "Source: 589911, Destination: 128, Relation: 19\n",
      "layer1_source is: 589911\n",
      "# of the neighbor of layer1 source: 9120\n",
      "[983046, 360461, 622607, 819216, 32791, 98330, 262179, 1081388]\n",
      "8\n"
     ]
    },
    {
     "data": {
      "application/vnd.jupyter.widget-view+json": {
       "model_id": "d1c44cb9f00c47b284ae7adb4a981160",
       "version_major": 2,
       "version_minor": 0
      },
      "text/plain": [
       "  0%|          | 0/4949305 [00:00<?, ?it/s]"
      ]
     },
     "metadata": {},
     "output_type": "display_data"
    },
    {
     "name": "stdout",
     "output_type": "stream",
     "text": [
      "Found matching data for leaf node 128:\n",
      "Source: 589911, Destination: 128, Relation: 22\n",
      "layer1_source is: 589911\n",
      "# of the neighbor of layer1 source: 9120\n",
      "[983046, 360461, 622607, 819216, 32791, 98330, 262179, 1081388]\n",
      "8\n"
     ]
    },
    {
     "data": {
      "application/vnd.jupyter.widget-view+json": {
       "model_id": "0c9be6b96fab4848913854ed2cb549c7",
       "version_major": 2,
       "version_minor": 0
      },
      "text/plain": [
       "  0%|          | 0/4949305 [00:00<?, ?it/s]"
      ]
     },
     "metadata": {},
     "output_type": "display_data"
    },
    {
     "name": "stdout",
     "output_type": "stream",
     "text": [
      "Found matching data for leaf node 128:\n",
      "Source: 589911, Destination: 128, Relation: 13\n",
      "layer1_source is: 589911\n",
      "# of the neighbor of layer1 source: 9120\n",
      "[983046, 360461, 622607, 819216, 32791, 98330, 262179, 1081388]\n",
      "8\n"
     ]
    },
    {
     "data": {
      "application/vnd.jupyter.widget-view+json": {
       "model_id": "8014587639c44021a734634349ae6cd4",
       "version_major": 2,
       "version_minor": 0
      },
      "text/plain": [
       "  0%|          | 0/4949305 [00:00<?, ?it/s]"
      ]
     },
     "metadata": {},
     "output_type": "display_data"
    },
    {
     "name": "stdout",
     "output_type": "stream",
     "text": [
      "Found matching data for leaf node 128:\n",
      "Source: 589911, Destination: 128, Relation: 20\n",
      "layer1_source is: 589911\n",
      "# of the neighbor of layer1 source: 9120\n",
      "[983046, 360461, 622607, 819216, 32791, 98330, 262179, 1081388]\n",
      "8\n"
     ]
    },
    {
     "data": {
      "application/vnd.jupyter.widget-view+json": {
       "model_id": "a1b33e0a37d24d6db13abf041e311388",
       "version_major": 2,
       "version_minor": 0
      },
      "text/plain": [
       "  0%|          | 0/4949305 [00:00<?, ?it/s]"
      ]
     },
     "metadata": {},
     "output_type": "display_data"
    },
    {
     "name": "stdout",
     "output_type": "stream",
     "text": [
      "Triplets for iteration 85 have been written to ./benign/benign_4/85.txt\n",
      "the # of the triplets: 8\n",
      "{(589911, 128, 5), (589911, 128, 13), (589911, 128, 20), (589911, 128, 3), (589911, 131074, 5), (589911, 128, 22), (589911, 128, 19), (589911, 131074, 3)}\n"
     ]
    },
    {
     "data": {
      "application/vnd.jupyter.widget-view+json": {
       "model_id": "7fc07b28da4b4a68a49a4ff8bc7bfed7",
       "version_major": 2,
       "version_minor": 0
      },
      "text/plain": [
       "  0%|          | 0/4949305 [00:00<?, ?it/s]"
      ]
     },
     "metadata": {},
     "output_type": "display_data"
    },
    {
     "name": "stdout",
     "output_type": "stream",
     "text": [
      "Found matching data for leaf node 129:\n",
      "Source: 1076424, Destination: 129, Relation: 9\n",
      "layer1_source is: 1076424\n",
      "# of the neighbor of layer1 source: 52605\n",
      "[786436, 1048584, 262154, 262164, 1048598, 393241, 262170, 1048603]\n",
      "8\n"
     ]
    },
    {
     "data": {
      "application/vnd.jupyter.widget-view+json": {
       "model_id": "6c3faf1ecb4f4bd08cf84e03e2385e02",
       "version_major": 2,
       "version_minor": 0
      },
      "text/plain": [
       "  0%|          | 0/4949305 [00:00<?, ?it/s]"
      ]
     },
     "metadata": {},
     "output_type": "display_data"
    },
    {
     "name": "stdout",
     "output_type": "stream",
     "text": [
      "Found matching data for leaf node 129:\n",
      "Source: 145379, Destination: 129, Relation: 9\n",
      "layer1_source is: 145379\n",
      "# of the neighbor of layer1 source: 30536\n",
      "[262154, 524301, 262164, 393241, 393249, 262184, 131117, 262189]\n",
      "12\n"
     ]
    },
    {
     "data": {
      "application/vnd.jupyter.widget-view+json": {
       "model_id": "f054f321111c4be783344dae70b8d7db",
       "version_major": 2,
       "version_minor": 0
      },
      "text/plain": [
       "  0%|          | 0/4949305 [00:00<?, ?it/s]"
      ]
     },
     "metadata": {},
     "output_type": "display_data"
    },
    {
     "name": "stdout",
     "output_type": "stream",
     "text": [
      "Triplets for iteration 86 have been written to ./benign/benign_4/86.txt\n",
      "the # of the triplets: 12\n",
      "{(1076424, 1048584, 5), (1076424, 131072, 19), (1076424, 131072, 5), (145379, 129, 9), (145379, 1048584, 5), (1076424, 786436, 7), (1076424, 1048584, 3), (145379, 1048584, 19), (1076424, 129, 9), (1076424, 131072, 3), (1076424, 1048584, 19), (145379, 1048584, 3)}\n"
     ]
    },
    {
     "data": {
      "application/vnd.jupyter.widget-view+json": {
       "model_id": "fae47331d27145dc8107ce2c0fe64a8e",
       "version_major": 2,
       "version_minor": 0
      },
      "text/plain": [
       "  0%|          | 0/4949305 [00:00<?, ?it/s]"
      ]
     },
     "metadata": {},
     "output_type": "display_data"
    },
    {
     "name": "stdout",
     "output_type": "stream",
     "text": [
      "Found matching data for leaf node 130:\n",
      "Source: 979016, Destination: 130, Relation: 7\n",
      "layer1_source is: 979016\n",
      "# of the neighbor of layer1 source: 29008\n",
      "[262148, 655366, 917511, 917516, 786448, 131090, 262163, 262168]\n",
      "8\n"
     ]
    },
    {
     "data": {
      "application/vnd.jupyter.widget-view+json": {
       "model_id": "50d30e8ee47848f3915123cc0c8f24af",
       "version_major": 2,
       "version_minor": 0
      },
      "text/plain": [
       "  0%|          | 0/4949305 [00:00<?, ?it/s]"
      ]
     },
     "metadata": {},
     "output_type": "display_data"
    },
    {
     "name": "stdout",
     "output_type": "stream",
     "text": [
      "original layer2: (1158174, 979016, 24)\n",
      "# of triplets = 32\n",
      " DONE!!\n",
      "\n",
      "Triplets for iteration 87 have been written to ./benign/benign_4/87.txt\n",
      "the # of the triplets: 32\n",
      "{(1158174, 479254, 20), (1158174, 1017875, 19), (1158174, 563219, 19), (979016, 262148, 7), (1158174, 1017875, 3), (1158174, 563219, 3), (1158174, 75801, 7), (1158174, 1017875, 5), (979016, 393217, 3), (1158174, 133159, 7), (1158174, 483374, 3), (1158174, 178223, 9), (979016, 393217, 19), (1158174, 483374, 19), (1158174, 796675, 11), (1158174, 178223, 11), (1158174, 65582, 7), (1158174, 249881, 11), (1158174, 483374, 5), (1158174, 249881, 9), (979016, 655366, 3), (979016, 130, 7), (1158174, 563219, 13), (1158174, 989235, 9), (1158174, 753705, 9), (1158174, 979016, 24), (979016, 655366, 13), (1158174, 483374, 20), (979016, 655366, 19), (979016, 393217, 13), (1158174, 989235, 11), (1158174, 940054, 7)}\n"
     ]
    },
    {
     "data": {
      "application/vnd.jupyter.widget-view+json": {
       "model_id": "e2d16b287eb441c5a18eb17b8e9ee44e",
       "version_major": 2,
       "version_minor": 0
      },
      "text/plain": [
       "  0%|          | 0/4949305 [00:00<?, ?it/s]"
      ]
     },
     "metadata": {},
     "output_type": "display_data"
    },
    {
     "name": "stdout",
     "output_type": "stream",
     "text": [
      "Found matching data for leaf node 132:\n",
      "Source: 444542, Destination: 132, Relation: 13\n",
      "layer1_source is: 444542\n",
      "# of the neighbor of layer1 source: 59003\n",
      "[917505, 131072, 786435, 655364, 917509, 1048589, 262161, 786450]\n",
      "8\n"
     ]
    },
    {
     "data": {
      "application/vnd.jupyter.widget-view+json": {
       "model_id": "50d60a18c0564d89bddef151ef050e24",
       "version_major": 2,
       "version_minor": 0
      },
      "text/plain": [
       "  0%|          | 0/4949305 [00:00<?, ?it/s]"
      ]
     },
     "metadata": {},
     "output_type": "display_data"
    },
    {
     "name": "stdout",
     "output_type": "stream",
     "text": [
      "original layer2: (918633, 444542, 24)\n",
      "# of triplets = 32\n",
      " DONE!!\n",
      "\n",
      "Triplets for iteration 88 have been written to ./benign/benign_4/88.txt\n",
      "the # of the triplets: 32\n",
      "{(918633, 1087535, 7), (918633, 509980, 15), (444542, 132, 8), (918633, 165951, 0), (918633, 483374, 5), (918633, 163903, 7), (918633, 419911, 9), (918633, 165951, 5), (918633, 509980, 11), (918633, 444542, 24), (444542, 132, 5), (918633, 509980, 9), (918633, 483374, 3), (918633, 796675, 11), (444542, 1048576, 3), (918633, 1107996, 7), (918633, 188463, 9), (918633, 563202, 3), (918633, 55368, 9), (918633, 483374, 19), (444542, 1048576, 5), (918633, 722985, 7), (444542, 132, 3), (444542, 132, 17), (918633, 661519, 7), (444542, 132, 13), (918633, 165951, 19), (444542, 132, 19), (918633, 368671, 7), (918633, 165951, 17), (918633, 165951, 3), (918633, 157752, 7)}\n"
     ]
    },
    {
     "data": {
      "application/vnd.jupyter.widget-view+json": {
       "model_id": "1951312b1b084c46b2d1e49092c0dd4f",
       "version_major": 2,
       "version_minor": 0
      },
      "text/plain": [
       "  0%|          | 0/4949305 [00:00<?, ?it/s]"
      ]
     },
     "metadata": {},
     "output_type": "display_data"
    },
    {
     "name": "stdout",
     "output_type": "stream",
     "text": [
      "Found matching data for leaf node 133:\n",
      "Source: 1003134, Destination: 133, Relation: 3\n",
      "layer1_source is: 1003134\n",
      "# of the neighbor of layer1 source: 211162\n",
      "[524288, 524290, 1048580, 1048584, 524302, 17, 524306, 524307]\n",
      "8\n"
     ]
    },
    {
     "data": {
      "application/vnd.jupyter.widget-view+json": {
       "model_id": "91c9450d31d041a7a1f148c8a491a16f",
       "version_major": 2,
       "version_minor": 0
      },
      "text/plain": [
       "  0%|          | 0/4949305 [00:00<?, ?it/s]"
      ]
     },
     "metadata": {},
     "output_type": "display_data"
    },
    {
     "name": "stdout",
     "output_type": "stream",
     "text": [
      "original layer2: (677631, 1003134, 24)\n",
      "# of triplets = 32\n",
      " DONE!!\n",
      "\n",
      "Triplets for iteration 89 have been written to ./benign/benign_4/89.txt\n",
      "the # of the triplets: 32\n",
      "{(677631, 376841, 17), (677631, 376841, 5), (677631, 376841, 4), (677631, 376841, 22), (677631, 983042, 4), (677631, 983042, 22), (677631, 376841, 21), (677631, 983042, 5), (677631, 376841, 20), (677631, 983042, 20), (677631, 155665, 19), (677631, 983042, 3), (677631, 983042, 21), (1003134, 1048576, 0), (1003134, 1048576, 3), (1003134, 524288, 3), (677631, 1003134, 24), (677631, 155665, 3), (677631, 155665, 17), (677631, 983042, 19), (677631, 950287, 19), (1003134, 1048576, 5), (1003134, 1048576, 19), (677631, 983042, 17), (1003134, 524290, 3), (677631, 581646, 19), (677631, 376841, 3), (677631, 155665, 5), (1003134, 1048576, 22), (677631, 155665, 4), (1003134, 133, 3), (677631, 376841, 19)}\n"
     ]
    },
    {
     "data": {
      "application/vnd.jupyter.widget-view+json": {
       "model_id": "c02a57dcc5884d22994a67eb2ba6a528",
       "version_major": 2,
       "version_minor": 0
      },
      "text/plain": [
       "  0%|          | 0/4949305 [00:00<?, ?it/s]"
      ]
     },
     "metadata": {},
     "output_type": "display_data"
    },
    {
     "name": "stdout",
     "output_type": "stream",
     "text": [
      "Found matching data for leaf node 134:\n",
      "Source: 305424, Destination: 134, Relation: 7\n",
      "layer1_source is: 305424\n",
      "# of the neighbor of layer1 source: 443\n",
      "[116745, 1169419, 356383, 397344, 882727, 276523, 704556, 364588]\n",
      "8\n"
     ]
    },
    {
     "data": {
      "application/vnd.jupyter.widget-view+json": {
       "model_id": "9adcc89587d94a68b35d40dc6935726d",
       "version_major": 2,
       "version_minor": 0
      },
      "text/plain": [
       "  0%|          | 0/4949305 [00:00<?, ?it/s]"
      ]
     },
     "metadata": {},
     "output_type": "display_data"
    },
    {
     "name": "stdout",
     "output_type": "stream",
     "text": [
      "original layer2: (573257, 305424, 24)\n",
      "# of triplets = 32\n",
      " DONE!!\n",
      "\n",
      "Triplets for iteration 90 have been written to ./benign/benign_4/90.txt\n",
      "the # of the triplets: 32\n",
      "{(305424, 1169419, 15), (573257, 876597, 2), (573257, 57397, 2), (573257, 155721, 7), (573257, 483374, 3), (305424, 292866, 11), (573257, 483374, 19), (573257, 491603, 11), (305424, 116745, 9), (573257, 409667, 7), (573257, 917545, 6), (573257, 491603, 9), (573257, 409688, 7), (573257, 720940, 2), (305424, 356383, 7), (573257, 491622, 9), (573257, 917545, 9), (305424, 397344, 9), (573257, 1048672, 7), (573257, 305424, 24), (305424, 134, 7), (573257, 409667, 16), (573257, 458836, 7), (573257, 893009, 7), (573257, 876597, 7), (305424, 1169419, 11), (573257, 483374, 5), (573257, 57397, 7), (573257, 245859, 13), (573257, 49222, 24), (573257, 458836, 2), (305424, 1169419, 9)}\n"
     ]
    },
    {
     "data": {
      "application/vnd.jupyter.widget-view+json": {
       "model_id": "036f148968ad4932ab5996aebbc1a351",
       "version_major": 2,
       "version_minor": 0
      },
      "text/plain": [
       "  0%|          | 0/4949305 [00:00<?, ?it/s]"
      ]
     },
     "metadata": {},
     "output_type": "display_data"
    },
    {
     "name": "stdout",
     "output_type": "stream",
     "text": [
      "Found matching data for leaf node 135:\n",
      "Source: 440212, Destination: 135, Relation: 3\n",
      "layer1_source is: 440212\n",
      "# of the neighbor of layer1 source: 61081\n",
      "[131087, 786447, 524306, 19, 1048595, 524307, 262169, 917530]\n",
      "8\n"
     ]
    },
    {
     "data": {
      "application/vnd.jupyter.widget-view+json": {
       "model_id": "38bb9cb1331e4cd9ae340db1426ac15f",
       "version_major": 2,
       "version_minor": 0
      },
      "text/plain": [
       "  0%|          | 0/4949305 [00:00<?, ?it/s]"
      ]
     },
     "metadata": {},
     "output_type": "display_data"
    },
    {
     "name": "stdout",
     "output_type": "stream",
     "text": [
      "original layer2: (918633, 440212, 24)\n",
      "# of triplets = 32\n",
      " DONE!!\n",
      "\n",
      "Triplets for iteration 91 have been written to ./benign/benign_4/91.txt\n",
      "the # of the triplets: 32\n",
      "{(918633, 1087535, 7), (918633, 509980, 15), (918633, 165951, 0), (918633, 483374, 5), (918633, 163903, 7), (918633, 419911, 9), (440212, 135, 19), (440212, 131080, 5), (918633, 509980, 11), (918633, 165951, 5), (440212, 135, 17), (440212, 135, 3), (918633, 509980, 9), (918633, 483374, 3), (918633, 796675, 11), (918633, 188463, 9), (918633, 1107996, 7), (918633, 563202, 3), (918633, 55368, 9), (918633, 483374, 19), (440212, 135, 5), (918633, 440212, 24), (918633, 722985, 7), (440212, 131080, 8), (918633, 165951, 3), (918633, 661519, 7), (440212, 135, 8), (918633, 165951, 19), (918633, 368671, 7), (918633, 165951, 17), (440212, 131080, 3), (918633, 157752, 7)}\n"
     ]
    },
    {
     "data": {
      "application/vnd.jupyter.widget-view+json": {
       "model_id": "ab4e412c066e465488373c098852f557",
       "version_major": 2,
       "version_minor": 0
      },
      "text/plain": [
       "  0%|          | 0/4949305 [00:00<?, ?it/s]"
      ]
     },
     "metadata": {},
     "output_type": "display_data"
    },
    {
     "name": "stdout",
     "output_type": "stream",
     "text": [
      "Found matching data for leaf node 136:\n",
      "Source: 684176, Destination: 136, Relation: 3\n",
      "layer1_source is: 684176\n",
      "# of the neighbor of layer1 source: 5007\n",
      "[876548, 761860, 155654, 737284, 892936, 98314, 933898, 466956]\n",
      "8\n"
     ]
    },
    {
     "data": {
      "application/vnd.jupyter.widget-view+json": {
       "model_id": "85af981babcc4bf1a7bb51d8c7a487ce",
       "version_major": 2,
       "version_minor": 0
      },
      "text/plain": [
       "  0%|          | 0/4949305 [00:00<?, ?it/s]"
      ]
     },
     "metadata": {},
     "output_type": "display_data"
    },
    {
     "name": "stdout",
     "output_type": "stream",
     "text": [
      "original layer2: (954492, 684176, 24)\n",
      "# of triplets = 32\n",
      " DONE!!\n",
      "\n",
      "Triplets for iteration 92 have been written to ./benign/benign_4/92.txt\n",
      "the # of the triplets: 32\n",
      "{(954492, 786436, 7), (954492, 655371, 17), (954492, 655371, 3), (954492, 131074, 17), (684176, 729091, 7), (684176, 136, 22), (954492, 131074, 19), (954492, 684176, 24), (684176, 136, 21), (684176, 136, 20), (954492, 131074, 3), (684176, 136, 19), (684176, 136, 5), (954492, 655365, 9), (684176, 136, 4), (954492, 655371, 5), (684176, 136, 3), (954492, 1048577, 15), (954492, 786442, 20), (954492, 12, 9), (954492, 786442, 5), (954492, 1048577, 9), (954492, 524299, 9), (954492, 786442, 17), (954492, 1048577, 11), (954492, 786442, 19), (954492, 393220, 9), (954492, 131074, 8), (954492, 786442, 3), (954492, 131074, 20), (954492, 786439, 9), (954492, 131074, 5)}\n"
     ]
    },
    {
     "data": {
      "application/vnd.jupyter.widget-view+json": {
       "model_id": "e82e35b29ec445829361159cc5963eb1",
       "version_major": 2,
       "version_minor": 0
      },
      "text/plain": [
       "  0%|          | 0/4949305 [00:00<?, ?it/s]"
      ]
     },
     "metadata": {},
     "output_type": "display_data"
    },
    {
     "name": "stdout",
     "output_type": "stream",
     "text": [
      "Found matching data for leaf node 137:\n",
      "Source: 444542, Destination: 137, Relation: 13\n",
      "layer1_source is: 444542\n",
      "# of the neighbor of layer1 source: 59003\n",
      "[917505, 131072, 786435, 655364, 917509, 1048589, 262161, 786450]\n",
      "8\n"
     ]
    },
    {
     "data": {
      "application/vnd.jupyter.widget-view+json": {
       "model_id": "1e649862be7b4c29930460164ac3a7b9",
       "version_major": 2,
       "version_minor": 0
      },
      "text/plain": [
       "  0%|          | 0/4949305 [00:00<?, ?it/s]"
      ]
     },
     "metadata": {},
     "output_type": "display_data"
    },
    {
     "name": "stdout",
     "output_type": "stream",
     "text": [
      "original layer2: (918633, 444542, 24)\n",
      "# of triplets = 32\n",
      " DONE!!\n",
      "\n",
      "Triplets for iteration 93 have been written to ./benign/benign_4/93.txt\n",
      "the # of the triplets: 32\n",
      "{(444542, 137, 13), (918633, 1087535, 7), (918633, 509980, 15), (918633, 165951, 0), (444542, 137, 3), (918633, 483374, 5), (918633, 163903, 7), (918633, 419911, 9), (444542, 137, 19), (918633, 165951, 5), (918633, 509980, 11), (918633, 444542, 24), (444542, 137, 17), (918633, 509980, 9), (918633, 483374, 3), (444542, 137, 5), (918633, 796675, 11), (444542, 1048576, 3), (918633, 1107996, 7), (918633, 188463, 9), (918633, 563202, 3), (918633, 55368, 9), (918633, 483374, 19), (444542, 1048576, 5), (918633, 722985, 7), (444542, 137, 8), (918633, 661519, 7), (918633, 165951, 19), (918633, 368671, 7), (918633, 165951, 17), (918633, 165951, 3), (918633, 157752, 7)}\n"
     ]
    },
    {
     "data": {
      "application/vnd.jupyter.widget-view+json": {
       "model_id": "d1ed8e963d85494a90c6a463b9fe7182",
       "version_major": 2,
       "version_minor": 0
      },
      "text/plain": [
       "  0%|          | 0/4949305 [00:00<?, ?it/s]"
      ]
     },
     "metadata": {},
     "output_type": "display_data"
    },
    {
     "name": "stdout",
     "output_type": "stream",
     "text": [
      "Found matching data for leaf node 143:\n",
      "Source: 581548, Destination: 143, Relation: 7\n",
      "layer1_source is: 581548\n",
      "# of the neighbor of layer1 source: 25246\n",
      "[524295, 917520, 786453, 1048600, 917528, 131099, 917532, 32]\n",
      "8\n"
     ]
    },
    {
     "data": {
      "application/vnd.jupyter.widget-view+json": {
       "model_id": "9bad4a3ee59542eeadd3f6dba62a766d",
       "version_major": 2,
       "version_minor": 0
      },
      "text/plain": [
       "  0%|          | 0/4949305 [00:00<?, ?it/s]"
      ]
     },
     "metadata": {},
     "output_type": "display_data"
    },
    {
     "name": "stdout",
     "output_type": "stream",
     "text": [
      "Triplets for iteration 94 have been written to ./benign/benign_4/94.txt\n",
      "the # of the triplets: 8\n",
      "{(581548, 917528, 7), (581548, 131099, 7), (581548, 786453, 7), (581548, 524295, 7), (581548, 131079, 7), (581548, 143, 7), (581548, 917520, 7), (581548, 1048600, 7)}\n"
     ]
    },
    {
     "data": {
      "application/vnd.jupyter.widget-view+json": {
       "model_id": "041852f21dfd4b189e6330dd170ddf53",
       "version_major": 2,
       "version_minor": 0
      },
      "text/plain": [
       "  0%|          | 0/4949305 [00:00<?, ?it/s]"
      ]
     },
     "metadata": {},
     "output_type": "display_data"
    },
    {
     "name": "stdout",
     "output_type": "stream",
     "text": [
      "Found matching data for leaf node 144:\n",
      "Source: 62762, Destination: 144, Relation: 3\n",
      "layer1_source is: 62762\n",
      "# of the neighbor of layer1 source: 50059\n",
      "[655367, 1048584, 262154, 1048594, 786452, 917526, 393241, 131100]\n",
      "8\n"
     ]
    },
    {
     "data": {
      "application/vnd.jupyter.widget-view+json": {
       "model_id": "a086c4ad25bf4d1186386279e0f29414",
       "version_major": 2,
       "version_minor": 0
      },
      "text/plain": [
       "  0%|          | 0/4949305 [00:00<?, ?it/s]"
      ]
     },
     "metadata": {},
     "output_type": "display_data"
    },
    {
     "name": "stdout",
     "output_type": "stream",
     "text": [
      "Found matching data for leaf node 144:\n",
      "Source: 62762, Destination: 144, Relation: 20\n",
      "layer1_source is: 62762\n",
      "# of the neighbor of layer1 source: 50059\n",
      "[655367, 1048584, 262154, 1048594, 786452, 917526, 393241, 131100]\n",
      "8\n"
     ]
    },
    {
     "data": {
      "application/vnd.jupyter.widget-view+json": {
       "model_id": "2881d36b6c7d4098b53a27047d137b85",
       "version_major": 2,
       "version_minor": 0
      },
      "text/plain": [
       "  0%|          | 0/4949305 [00:00<?, ?it/s]"
      ]
     },
     "metadata": {},
     "output_type": "display_data"
    },
    {
     "name": "stdout",
     "output_type": "stream",
     "text": [
      "Found matching data for leaf node 144:\n",
      "Source: 62762, Destination: 144, Relation: 19\n",
      "layer1_source is: 62762\n",
      "# of the neighbor of layer1 source: 50059\n",
      "[655367, 1048584, 262154, 1048594, 786452, 917526, 393241, 131100]\n",
      "8\n"
     ]
    },
    {
     "data": {
      "application/vnd.jupyter.widget-view+json": {
       "model_id": "9e429a5ef5a24af0936e3127a196a955",
       "version_major": 2,
       "version_minor": 0
      },
      "text/plain": [
       "  0%|          | 0/4949305 [00:00<?, ?it/s]"
      ]
     },
     "metadata": {},
     "output_type": "display_data"
    },
    {
     "name": "stdout",
     "output_type": "stream",
     "text": [
      "Found matching data for leaf node 144:\n",
      "Source: 597595, Destination: 144, Relation: 3\n",
      "layer1_source is: 597595\n",
      "# of the neighbor of layer1 source: 1015\n",
      "[796675, 944135, 774155, 323601, 231443, 524308, 563219, 270359]\n",
      "14\n"
     ]
    },
    {
     "data": {
      "application/vnd.jupyter.widget-view+json": {
       "model_id": "40721800f7fd49f2b9df51f26166a6c9",
       "version_major": 2,
       "version_minor": 0
      },
      "text/plain": [
       "  0%|          | 0/4949305 [00:00<?, ?it/s]"
      ]
     },
     "metadata": {},
     "output_type": "display_data"
    },
    {
     "name": "stdout",
     "output_type": "stream",
     "text": [
      "original layer2: (1086819, 597595, 24)\n",
      "# of triplets = 32\n",
      " DONE!!\n",
      "\n",
      "Triplets for iteration 95 have been written to ./benign/benign_4/95.txt\n",
      "the # of the triplets: 32\n",
      "{(1086819, 491552, 3), (597595, 956416, 9), (62762, 0, 13), (62762, 144, 3), (62762, 0, 19), (1086819, 491552, 5), (597595, 956416, 11), (1086819, 491552, 19), (1086819, 589850, 3), (1086819, 491552, 8), (597595, 956416, 15), (597595, 144, 3), (1086819, 851975, 7), (62762, 144, 19), (1086819, 819227, 9), (1086819, 1081368, 13), (1086819, 622605, 7), (597595, 144, 19), (1086819, 1015831, 7), (1086819, 819227, 11), (62762, 0, 5), (597595, 144, 20), (1086819, 98314, 11), (62762, 144, 20), (1086819, 98314, 9), (62762, 0, 20), (1086819, 819227, 15), (1086819, 983064, 3), (1086819, 98314, 15), (1086819, 597595, 24), (62762, 0, 3), (1086819, 983064, 5)}\n"
     ]
    },
    {
     "data": {
      "application/vnd.jupyter.widget-view+json": {
       "model_id": "8bb516f391754969999711f77338e1cc",
       "version_major": 2,
       "version_minor": 0
      },
      "text/plain": [
       "  0%|          | 0/4949305 [00:00<?, ?it/s]"
      ]
     },
     "metadata": {},
     "output_type": "display_data"
    },
    {
     "name": "stdout",
     "output_type": "stream",
     "text": [
      "Found matching data for leaf node 145:\n",
      "Source: 280074, Destination: 145, Relation: 3\n",
      "layer1_source is: 280074\n",
      "# of the neighbor of layer1 source: 52002\n",
      "[524292, 5, 524294, 786440, 262159, 131092, 524311, 24]\n",
      "8\n"
     ]
    },
    {
     "data": {
      "application/vnd.jupyter.widget-view+json": {
       "model_id": "22faad08615f4fb4b1491358269a83e2",
       "version_major": 2,
       "version_minor": 0
      },
      "text/plain": [
       "  0%|          | 0/4949305 [00:00<?, ?it/s]"
      ]
     },
     "metadata": {},
     "output_type": "display_data"
    },
    {
     "name": "stdout",
     "output_type": "stream",
     "text": [
      "original layer2: (23340, 280074, 24)\n",
      "# of triplets = 32\n",
      " DONE!!\n",
      "\n",
      "Triplets for iteration 96 have been written to ./benign/benign_4/96.txt\n",
      "the # of the triplets: 32\n",
      "{(280074, 524292, 3), (23340, 1081368, 13), (23340, 589850, 3), (23340, 491552, 5), (280074, 524294, 3), (23340, 98314, 15), (280074, 5, 3), (23340, 753699, 15), (280074, 262159, 3), (23340, 98314, 9), (280074, 1048578, 3), (23340, 327716, 7), (23340, 98314, 11), (23340, 753699, 11), (23340, 983090, 5), (23340, 280074, 24), (23340, 819227, 15), (23340, 983090, 4), (280074, 145, 3), (23340, 983090, 17), (23340, 491552, 8), (280074, 786440, 3), (280074, 131092, 13), (23340, 983090, 1), (23340, 786432, 19), (23340, 819227, 11), (23340, 622605, 7), (23340, 983090, 3), (23340, 491552, 3), (23340, 819227, 9), (23340, 426000, 7), (23340, 491552, 19)}\n"
     ]
    },
    {
     "data": {
      "application/vnd.jupyter.widget-view+json": {
       "model_id": "6f3109126f3d419db51f667aff854ec2",
       "version_major": 2,
       "version_minor": 0
      },
      "text/plain": [
       "  0%|          | 0/4949305 [00:00<?, ?it/s]"
      ]
     },
     "metadata": {},
     "output_type": "display_data"
    },
    {
     "name": "stdout",
     "output_type": "stream",
     "text": [
      "Found matching data for leaf node 148:\n",
      "Source: 440212, Destination: 148, Relation: 3\n",
      "layer1_source is: 440212\n",
      "# of the neighbor of layer1 source: 61081\n",
      "[131087, 786447, 524306, 19, 1048595, 524307, 262169, 917530]\n",
      "8\n"
     ]
    },
    {
     "data": {
      "application/vnd.jupyter.widget-view+json": {
       "model_id": "8f418ad64cc94858a2ed0090d01a8f7a",
       "version_major": 2,
       "version_minor": 0
      },
      "text/plain": [
       "  0%|          | 0/4949305 [00:00<?, ?it/s]"
      ]
     },
     "metadata": {},
     "output_type": "display_data"
    },
    {
     "name": "stdout",
     "output_type": "stream",
     "text": [
      "original layer2: (918633, 440212, 24)\n",
      "# of triplets = 32\n",
      " DONE!!\n",
      "\n",
      "Triplets for iteration 97 have been written to ./benign/benign_4/97.txt\n",
      "the # of the triplets: 32\n",
      "{(440212, 148, 19), (918633, 1087535, 7), (440212, 148, 5), (918633, 509980, 15), (918633, 165951, 0), (918633, 483374, 5), (440212, 148, 17), (440212, 148, 3), (918633, 163903, 7), (918633, 419911, 9), (440212, 131080, 5), (918633, 509980, 11), (918633, 165951, 5), (918633, 509980, 9), (918633, 483374, 3), (918633, 796675, 11), (918633, 188463, 9), (918633, 1107996, 7), (918633, 563202, 3), (918633, 55368, 9), (918633, 483374, 19), (918633, 440212, 24), (918633, 722985, 7), (440212, 131080, 8), (918633, 165951, 3), (918633, 661519, 7), (918633, 165951, 19), (440212, 148, 8), (918633, 368671, 7), (918633, 165951, 17), (440212, 131080, 3), (918633, 157752, 7)}\n"
     ]
    },
    {
     "data": {
      "application/vnd.jupyter.widget-view+json": {
       "model_id": "49f2ff1809644287b2ec5b99420626af",
       "version_major": 2,
       "version_minor": 0
      },
      "text/plain": [
       "  0%|          | 0/4949305 [00:00<?, ?it/s]"
      ]
     },
     "metadata": {},
     "output_type": "display_data"
    },
    {
     "name": "stdout",
     "output_type": "stream",
     "text": [
      "Found matching data for leaf node 150:\n",
      "Source: 789507, Destination: 150, Relation: 3\n",
      "layer1_source is: 789507\n",
      "# of the neighbor of layer1 source: 2050\n",
      "[450562, 1163267, 409604, 40973, 958478, 237583, 204816, 1114125]\n",
      "8\n"
     ]
    },
    {
     "data": {
      "application/vnd.jupyter.widget-view+json": {
       "model_id": "83da1c878ca2454e868cc62e86f3c331",
       "version_major": 2,
       "version_minor": 0
      },
      "text/plain": [
       "  0%|          | 0/4949305 [00:00<?, ?it/s]"
      ]
     },
     "metadata": {},
     "output_type": "display_data"
    },
    {
     "name": "stdout",
     "output_type": "stream",
     "text": [
      "original layer2: (661121, 789507, 24)\n",
      "# of triplets = 32\n",
      " DONE!!\n",
      "\n",
      "Triplets for iteration 98 have been written to ./benign/benign_4/98.txt\n",
      "the # of the triplets: 32\n",
      "{(661121, 237603, 7), (661121, 1089576, 7), (661121, 57391, 16), (661121, 1097767, 9), (661121, 1064977, 9), (661121, 737297, 9), (661121, 581668, 9), (661121, 851980, 11), (661121, 57391, 7), (661121, 1064977, 11), (661121, 614426, 7), (789507, 802817, 19), (661121, 237587, 11), (661121, 483374, 5), (661121, 851980, 9), (661121, 237587, 9), (789507, 802817, 3), (789507, 450562, 3), (661121, 789507, 24), (661121, 221197, 19), (661121, 483374, 19), (789507, 802817, 1), (789507, 450562, 1), (661121, 573442, 2), (789507, 450562, 19), (661121, 188463, 9), (661121, 221197, 3), (661121, 483374, 3), (789507, 150, 3), (661121, 122885, 7), (661121, 573442, 7), (789507, 802817, 13)}\n"
     ]
    },
    {
     "data": {
      "application/vnd.jupyter.widget-view+json": {
       "model_id": "7b2089d68bdb45e0a705776e80926c07",
       "version_major": 2,
       "version_minor": 0
      },
      "text/plain": [
       "  0%|          | 0/4949305 [00:00<?, ?it/s]"
      ]
     },
     "metadata": {},
     "output_type": "display_data"
    },
    {
     "name": "stdout",
     "output_type": "stream",
     "text": [
      "Found matching data for leaf node 151:\n",
      "Source: 444542, Destination: 151, Relation: 13\n",
      "layer1_source is: 444542\n",
      "# of the neighbor of layer1 source: 59003\n",
      "[917505, 131072, 786435, 655364, 917509, 1048589, 262161, 786450]\n",
      "8\n"
     ]
    },
    {
     "data": {
      "application/vnd.jupyter.widget-view+json": {
       "model_id": "d4749e53796445ca8a172d15b37c9603",
       "version_major": 2,
       "version_minor": 0
      },
      "text/plain": [
       "  0%|          | 0/4949305 [00:00<?, ?it/s]"
      ]
     },
     "metadata": {},
     "output_type": "display_data"
    },
    {
     "name": "stdout",
     "output_type": "stream",
     "text": [
      "original layer2: (918633, 444542, 24)\n",
      "# of triplets = 32\n",
      " DONE!!\n",
      "\n",
      "Triplets for iteration 99 have been written to ./benign/benign_4/99.txt\n",
      "the # of the triplets: 32\n",
      "{(918633, 1087535, 7), (918633, 509980, 15), (918633, 165951, 0), (918633, 483374, 5), (918633, 163903, 7), (918633, 419911, 9), (918633, 165951, 5), (918633, 509980, 11), (444542, 151, 5), (918633, 444542, 24), (918633, 509980, 9), (444542, 151, 17), (918633, 483374, 3), (918633, 796675, 11), (444542, 1048576, 3), (918633, 1107996, 7), (918633, 188463, 9), (444542, 151, 19), (918633, 563202, 3), (918633, 55368, 9), (918633, 483374, 19), (444542, 1048576, 5), (444542, 151, 3), (918633, 722985, 7), (444542, 151, 13), (918633, 661519, 7), (918633, 165951, 19), (444542, 151, 8), (918633, 368671, 7), (918633, 165951, 17), (918633, 165951, 3), (918633, 157752, 7)}\n"
     ]
    }
   ],
   "source": [
    "def make_triplet(new_data, target_leaf_node, triplet):\n",
    "    count = 0\n",
    "    count_match = 0\n",
    "    count_layer1 = 0\n",
    "    count_layer2 = 0\n",
    "    out_1 = False\n",
    "\n",
    "    for source, destination, relation in tqdm(new_data):\n",
    "        if destination == target_leaf_node:\n",
    "            count_match += 1\n",
    "            print(f\"Found matching data for leaf node {target_leaf_node}:\")\n",
    "            print(f\"Source: {source}, Destination: {destination}, Relation: {relation}\")\n",
    "            print(f\"layer1_source is: {source}\")\n",
    "\n",
    "            # add layer1's neighbors into the triplet set()\n",
    "            for original_rel in relation_dict[source, destination]:\n",
    "                triplet.add((source, destination, original_rel))\n",
    "\n",
    "                # at most add 16 triplets in layer1\n",
    "                if len(triplet) == 8: break\n",
    "\n",
    "            layer1_triplet_num = len(triplet)\n",
    "\n",
    "            neighbor1 = outer_neighbor_nodes[source]\n",
    "            print(f\"# of the neighbor of layer1 source: {len(neighbor1)}\")\n",
    "\n",
    "            print(list(neighbor1)[1:9])\n",
    "            for layer1_neighbor in neighbor1:\n",
    "                for r in relation_dict[source, layer1_neighbor]:\n",
    "                    triplet.add((source, layer1_neighbor, r))\n",
    "                    if len(triplet) == 8:\n",
    "#                         print(f\"# of triplets: {len(triplet)}\")\n",
    "#                         print(triplet)\n",
    "                        out_1 = True\n",
    "                        break\n",
    "                if out_1: break\n",
    "                    \n",
    "\n",
    "            print(len(triplet))\n",
    "            for src, dest, rel in tqdm(new_data):\n",
    "                if dest == source:\n",
    "                    print(f\"original layer2: ({src}, {dest}, {rel})\")\n",
    "                    triplet.add((src, dest, rel))\n",
    "                    a = 0\n",
    "\n",
    "                    for node_2 in outer_neighbor_nodes[src]:\n",
    "#                         print(f\"{node_2} is outer node of {src}\")\n",
    "\n",
    "                        for r in relation_dict[src, node_2]:\n",
    "                            triplet.add((src, node_2, r))\n",
    "                            if len(triplet) == 32: \n",
    "                                print(\"# of triplets = 32\\n\", \"DONE!!\\n\")\n",
    "#                                 print(triplet)\n",
    "                                return\n",
    "                        try:\n",
    "                            for node_3 in outer_neighbor_nodes[node_2]:\n",
    "                                for r in relation_dict[src, node_3]:\n",
    "                                    triplet.add((node_2, node_3, r))\n",
    "\n",
    "                                    if len(triplet) == 32: \n",
    "                                        print(\"# of triplets = 32\\n\", \"DONE!!\\n\")\n",
    "                                        return\n",
    "\n",
    "                        except KeyError:\n",
    "                            continue\n",
    "\n",
    "\n",
    "temp_new_data = list(new_data)\n",
    "for i in range(100):\n",
    "    target_leaf_node = leaf_nodes[i]  # 这里你可能需要根据你的实际需求来选择目标叶节点\n",
    "    current_triplet = set()  # 每次循环创建一个新的 triplet 集合\n",
    "\n",
    "    make_triplet(temp_new_data, target_leaf_node, current_triplet)\n",
    "\n",
    "    output_file = f\"./benign/benign_4/{i}.txt\"  # 根据循环索引生成文件名\n",
    "    with open(output_file, 'w') as f:\n",
    "        for t in current_triplet:\n",
    "            f.write(f\"{t[0]} {t[1]} {t[2]}\\n\")\n",
    "\n",
    "    print(f\"Triplets for iteration {i} have been written to\", output_file)\n",
    "    print(f\"the # of the triplets: {len(current_triplet)}\")\n",
    "    print(current_triplet)\n",
    "    \n",
    "    # 将已经处理过的 triplet 从 temp_new_data 中删除\n",
    "#     for t in current_triplet:\n",
    "#         temp_new_data.remove((t[0], t[1], t[2]))"
   ]
  },
  {
   "cell_type": "code",
   "execution_count": 18,
   "id": "29313c94",
   "metadata": {},
   "outputs": [
    {
     "name": "stdout",
     "output_type": "stream",
     "text": [
      "[0, 1, 5, 6, 7, 8, 12, 14, 15, 16]\n"
     ]
    }
   ],
   "source": [
    "print(leaf_nodes[:10])"
   ]
  },
  {
   "cell_type": "code",
   "execution_count": 111,
   "id": "1a29452a",
   "metadata": {
    "scrolled": true
   },
   "outputs": [
    {
     "data": {
      "application/vnd.jupyter.widget-view+json": {
       "model_id": "263c4bcb57e14266885f7571fd762eef",
       "version_major": 2,
       "version_minor": 0
      },
      "text/plain": [
       "  0%|          | 0/4949305 [00:00<?, ?it/s]"
      ]
     },
     "metadata": {},
     "output_type": "display_data"
    },
    {
     "name": "stdout",
     "output_type": "stream",
     "text": [
      "Found matching data for leaf node 0:\n",
      "Source: 1028649, Destination: 0, Relation: 13\n",
      "layer1_source is: 1028649\n",
      "# of the neighbor of layer1 source: 23362\n",
      "[262146, 655367, 786452, 393236, 786454, 28, 1048605, 31]\n",
      "8\n",
      "76800\n"
     ]
    },
    {
     "data": {
      "application/vnd.jupyter.widget-view+json": {
       "model_id": "d2e8c974a64f42eaab133c642f0b806c",
       "version_major": 2,
       "version_minor": 0
      },
      "text/plain": [
       "  0%|          | 0/4949305 [00:00<?, ?it/s]"
      ]
     },
     "metadata": {},
     "output_type": "display_data"
    },
    {
     "name": "stdout",
     "output_type": "stream",
     "text": [
      "original layer2: (1035455, 1028649, 24)\n",
      "796675 is outer node of 1035455\n",
      "796675 is the leaf node\n",
      "\n",
      "963464 is outer node of 1035455\n",
      "963464 is the leaf node\n",
      "\n",
      "286477 is outer node of 1035455\n",
      "286477 is the leaf node\n",
      "\n",
      "977041 is outer node of 1035455\n",
      "977041 is the leaf node\n",
      "\n",
      "595218 is outer node of 1035455\n",
      "595218 is the leaf node\n",
      "\n",
      "1017875 is outer node of 1035455\n",
      "1017875 is the leaf node\n",
      "\n",
      "391700 is outer node of 1035455\n",
      "391700 is the leaf node\n",
      "\n",
      "874773 is outer node of 1035455\n",
      "874773 is the leaf node\n",
      "\n",
      "84499 is outer node of 1035455\n",
      "84499 is the leaf node\n",
      "\n",
      "52633 is outer node of 1035455\n",
      "52633 is the leaf node\n",
      "\n",
      "1149594 is outer node of 1035455\n",
      "1149594 is the leaf node\n",
      "\n",
      "950174 is outer node of 1035455\n",
      "950174 is the leaf node\n",
      "\n",
      "601887 is outer node of 1035455\n",
      "601887 is the leaf node\n",
      "\n",
      "322974 is outer node of 1035455\n",
      "322974 is the leaf node\n",
      "\n",
      "245409 is outer node of 1035455\n",
      "245409 is the leaf node\n",
      "\n",
      "801183 is outer node of 1035455\n",
      "801183 is the leaf node\n",
      "\n",
      "717221 is outer node of 1035455\n",
      "717221 is the leaf node\n",
      "\n",
      "1028649 is outer node of 1035455\n",
      "1028649 is the leaf node\n",
      "\n",
      "745901 is outer node of 1035455\n",
      "745901 is the leaf node\n",
      "\n",
      "483374 is outer node of 1035455\n",
      "483374 is the leaf node\n",
      "\n",
      "871600 is outer node of 1035455\n",
      "871600 is the leaf node\n",
      "\n",
      "294454 is outer node of 1035455\n",
      "294454 is the leaf node\n",
      "\n",
      "52666 is outer node of 1035455\n",
      "52666 is the leaf node\n",
      "\n",
      "369598 is outer node of 1035455\n",
      "369598 is the leaf node\n",
      "\n",
      "163903 is outer node of 1035455\n",
      "163903 is the leaf node\n",
      "\n",
      "1081921 is outer node of 1035455\n",
      "1081921 is the leaf node\n",
      "\n",
      "356930 is outer node of 1035455\n",
      "356930 is the leaf node\n",
      "\n",
      "93379 is outer node of 1035455\n",
      "93379 is the leaf node\n",
      "\n",
      "369994 is outer node of 1035455\n",
      "369994 is the leaf node\n",
      "\n",
      "328395 is outer node of 1035455\n",
      "328395 is the leaf node\n",
      "\n",
      "569546 is outer node of 1035455\n",
      "569546 is the leaf node\n",
      "\n",
      "517067 is outer node of 1035455\n",
      "517067 is the leaf node\n",
      "\n",
      "639312 is outer node of 1035455\n",
      "639312 is the leaf node\n",
      "\n",
      "637905 is outer node of 1035455\n",
      "637905 is the leaf node\n",
      "\n",
      "849876 is outer node of 1035455\n",
      "849876 is the leaf node\n",
      "\n",
      "950613 is outer node of 1035455\n",
      "950613 is the leaf node\n",
      "\n",
      "971862 is outer node of 1035455\n",
      "971862 is the leaf node\n",
      "\n",
      "198613 is outer node of 1035455\n",
      "198613 is the leaf node\n",
      "\n",
      "362586 is outer node of 1035455\n",
      "362586 is the leaf node\n",
      "\n",
      "457565 is outer node of 1035455\n",
      "457565 is the leaf node\n",
      "\n",
      "167266 is outer node of 1035455\n",
      "167266 is the leaf node\n",
      "\n",
      "610276 is outer node of 1035455\n",
      "610276 is the leaf node\n",
      "\n",
      "382826 is outer node of 1035455\n",
      "382826 is the leaf node\n",
      "\n",
      "550636 is outer node of 1035455\n",
      "550636 is the leaf node\n",
      "\n",
      "273260 is outer node of 1035455\n",
      "273260 is the leaf node\n",
      "\n",
      "241519 is outer node of 1035455\n",
      "241519 is the leaf node\n",
      "\n",
      "10736 is outer node of 1035455\n",
      "10736 is the leaf node\n",
      "\n",
      "1133044 is outer node of 1035455\n",
      "1133044 is the leaf node\n",
      "\n",
      "422261 is outer node of 1035455\n",
      "422261 is the leaf node\n",
      "\n",
      "1043828 is outer node of 1035455\n",
      "1043828 is the leaf node\n",
      "\n",
      "518008 is outer node of 1035455\n",
      "518008 is the leaf node\n",
      "\n",
      "58873 is outer node of 1035455\n",
      "58873 is the leaf node\n",
      "\n",
      "158206 is outer node of 1035455\n",
      "158206 is the leaf node\n",
      "\n",
      "496383 is outer node of 1035455\n",
      "496383 is the leaf node\n",
      "\n",
      "# of triplets: 76871\n",
      "\n",
      "\n",
      "\n",
      "Found matching data for leaf node 0:\n",
      "Source: 1028649, Destination: 0, Relation: 3\n",
      "layer1_source is: 1028649\n",
      "# of the neighbor of layer1 source: 23362\n",
      "[262146, 655367, 786452, 393236, 786454, 28, 1048605, 31]\n",
      "76878\n"
     ]
    },
    {
     "data": {
      "application/vnd.jupyter.widget-view+json": {
       "model_id": "30d223920613458e8e367149587fada9",
       "version_major": 2,
       "version_minor": 0
      },
      "text/plain": [
       "  0%|          | 0/4949305 [00:00<?, ?it/s]"
      ]
     },
     "metadata": {},
     "output_type": "display_data"
    },
    {
     "name": "stdout",
     "output_type": "stream",
     "text": [
      "original layer2: (1035455, 1028649, 24)\n",
      "796675 is outer node of 1035455\n",
      "796675 is the leaf node\n",
      "\n",
      "963464 is outer node of 1035455\n",
      "963464 is the leaf node\n",
      "\n",
      "286477 is outer node of 1035455\n",
      "286477 is the leaf node\n",
      "\n",
      "977041 is outer node of 1035455\n",
      "977041 is the leaf node\n",
      "\n",
      "595218 is outer node of 1035455\n",
      "595218 is the leaf node\n",
      "\n",
      "1017875 is outer node of 1035455\n",
      "1017875 is the leaf node\n",
      "\n",
      "391700 is outer node of 1035455\n",
      "391700 is the leaf node\n",
      "\n",
      "874773 is outer node of 1035455\n",
      "874773 is the leaf node\n",
      "\n",
      "84499 is outer node of 1035455\n",
      "84499 is the leaf node\n",
      "\n",
      "52633 is outer node of 1035455\n",
      "52633 is the leaf node\n",
      "\n",
      "1149594 is outer node of 1035455\n",
      "1149594 is the leaf node\n",
      "\n",
      "950174 is outer node of 1035455\n",
      "950174 is the leaf node\n",
      "\n",
      "601887 is outer node of 1035455\n",
      "601887 is the leaf node\n",
      "\n",
      "322974 is outer node of 1035455\n",
      "322974 is the leaf node\n",
      "\n",
      "245409 is outer node of 1035455\n",
      "245409 is the leaf node\n",
      "\n",
      "801183 is outer node of 1035455\n",
      "801183 is the leaf node\n",
      "\n",
      "717221 is outer node of 1035455\n",
      "717221 is the leaf node\n",
      "\n",
      "1028649 is outer node of 1035455\n",
      "1028649 is the leaf node\n",
      "\n",
      "745901 is outer node of 1035455\n",
      "745901 is the leaf node\n",
      "\n",
      "483374 is outer node of 1035455\n",
      "483374 is the leaf node\n",
      "\n",
      "871600 is outer node of 1035455\n",
      "871600 is the leaf node\n",
      "\n",
      "294454 is outer node of 1035455\n",
      "294454 is the leaf node\n",
      "\n",
      "52666 is outer node of 1035455\n",
      "52666 is the leaf node\n",
      "\n",
      "369598 is outer node of 1035455\n",
      "369598 is the leaf node\n",
      "\n",
      "163903 is outer node of 1035455\n",
      "163903 is the leaf node\n",
      "\n",
      "1081921 is outer node of 1035455\n",
      "1081921 is the leaf node\n",
      "\n",
      "356930 is outer node of 1035455\n",
      "356930 is the leaf node\n",
      "\n",
      "93379 is outer node of 1035455\n",
      "93379 is the leaf node\n",
      "\n",
      "369994 is outer node of 1035455\n",
      "369994 is the leaf node\n",
      "\n",
      "328395 is outer node of 1035455\n",
      "328395 is the leaf node\n",
      "\n",
      "569546 is outer node of 1035455\n",
      "569546 is the leaf node\n",
      "\n",
      "517067 is outer node of 1035455\n",
      "517067 is the leaf node\n",
      "\n",
      "639312 is outer node of 1035455\n",
      "639312 is the leaf node\n",
      "\n",
      "637905 is outer node of 1035455\n",
      "637905 is the leaf node\n",
      "\n",
      "849876 is outer node of 1035455\n",
      "849876 is the leaf node\n",
      "\n",
      "950613 is outer node of 1035455\n",
      "950613 is the leaf node\n",
      "\n",
      "971862 is outer node of 1035455\n",
      "971862 is the leaf node\n",
      "\n",
      "198613 is outer node of 1035455\n",
      "198613 is the leaf node\n",
      "\n",
      "362586 is outer node of 1035455\n",
      "362586 is the leaf node\n",
      "\n",
      "457565 is outer node of 1035455\n",
      "457565 is the leaf node\n",
      "\n",
      "167266 is outer node of 1035455\n",
      "167266 is the leaf node\n",
      "\n",
      "610276 is outer node of 1035455\n",
      "610276 is the leaf node\n",
      "\n",
      "382826 is outer node of 1035455\n",
      "382826 is the leaf node\n",
      "\n",
      "550636 is outer node of 1035455\n",
      "550636 is the leaf node\n",
      "\n",
      "273260 is outer node of 1035455\n",
      "273260 is the leaf node\n",
      "\n",
      "241519 is outer node of 1035455\n",
      "241519 is the leaf node\n",
      "\n",
      "10736 is outer node of 1035455\n",
      "10736 is the leaf node\n",
      "\n",
      "1133044 is outer node of 1035455\n",
      "1133044 is the leaf node\n",
      "\n",
      "422261 is outer node of 1035455\n",
      "422261 is the leaf node\n",
      "\n",
      "1043828 is outer node of 1035455\n",
      "1043828 is the leaf node\n",
      "\n",
      "518008 is outer node of 1035455\n",
      "518008 is the leaf node\n",
      "\n",
      "58873 is outer node of 1035455\n",
      "58873 is the leaf node\n",
      "\n",
      "158206 is outer node of 1035455\n",
      "158206 is the leaf node\n",
      "\n",
      "496383 is outer node of 1035455\n",
      "496383 is the leaf node\n",
      "\n",
      "# of triplets: 76878\n",
      "\n",
      "\n",
      "\n",
      "Found matching data for leaf node 0:\n",
      "Source: 1028649, Destination: 0, Relation: 5\n",
      "layer1_source is: 1028649\n",
      "# of the neighbor of layer1 source: 23362\n",
      "[262146, 655367, 786452, 393236, 786454, 28, 1048605, 31]\n",
      "76878\n"
     ]
    },
    {
     "data": {
      "application/vnd.jupyter.widget-view+json": {
       "model_id": "9cb98c16367e45b9869268a5ab68bfc5",
       "version_major": 2,
       "version_minor": 0
      },
      "text/plain": [
       "  0%|          | 0/4949305 [00:00<?, ?it/s]"
      ]
     },
     "metadata": {},
     "output_type": "display_data"
    },
    {
     "name": "stdout",
     "output_type": "stream",
     "text": [
      "original layer2: (1035455, 1028649, 24)\n",
      "796675 is outer node of 1035455\n",
      "796675 is the leaf node\n",
      "\n",
      "963464 is outer node of 1035455\n",
      "963464 is the leaf node\n",
      "\n",
      "286477 is outer node of 1035455\n",
      "286477 is the leaf node\n",
      "\n",
      "977041 is outer node of 1035455\n",
      "977041 is the leaf node\n",
      "\n",
      "595218 is outer node of 1035455\n",
      "595218 is the leaf node\n",
      "\n",
      "1017875 is outer node of 1035455\n",
      "1017875 is the leaf node\n",
      "\n",
      "391700 is outer node of 1035455\n",
      "391700 is the leaf node\n",
      "\n",
      "874773 is outer node of 1035455\n",
      "874773 is the leaf node\n",
      "\n",
      "84499 is outer node of 1035455\n",
      "84499 is the leaf node\n",
      "\n",
      "52633 is outer node of 1035455\n",
      "52633 is the leaf node\n",
      "\n",
      "1149594 is outer node of 1035455\n",
      "1149594 is the leaf node\n",
      "\n",
      "950174 is outer node of 1035455\n",
      "950174 is the leaf node\n",
      "\n",
      "601887 is outer node of 1035455\n",
      "601887 is the leaf node\n",
      "\n",
      "322974 is outer node of 1035455\n",
      "322974 is the leaf node\n",
      "\n",
      "245409 is outer node of 1035455\n",
      "245409 is the leaf node\n",
      "\n",
      "801183 is outer node of 1035455\n",
      "801183 is the leaf node\n",
      "\n",
      "717221 is outer node of 1035455\n",
      "717221 is the leaf node\n",
      "\n",
      "1028649 is outer node of 1035455\n",
      "1028649 is the leaf node\n",
      "\n",
      "745901 is outer node of 1035455\n",
      "745901 is the leaf node\n",
      "\n",
      "483374 is outer node of 1035455\n",
      "483374 is the leaf node\n",
      "\n",
      "871600 is outer node of 1035455\n",
      "871600 is the leaf node\n",
      "\n",
      "294454 is outer node of 1035455\n",
      "294454 is the leaf node\n",
      "\n",
      "52666 is outer node of 1035455\n",
      "52666 is the leaf node\n",
      "\n",
      "369598 is outer node of 1035455\n",
      "369598 is the leaf node\n",
      "\n",
      "163903 is outer node of 1035455\n",
      "163903 is the leaf node\n",
      "\n",
      "1081921 is outer node of 1035455\n",
      "1081921 is the leaf node\n",
      "\n",
      "356930 is outer node of 1035455\n",
      "356930 is the leaf node\n",
      "\n",
      "93379 is outer node of 1035455\n",
      "93379 is the leaf node\n",
      "\n",
      "369994 is outer node of 1035455\n",
      "369994 is the leaf node\n",
      "\n",
      "328395 is outer node of 1035455\n",
      "328395 is the leaf node\n",
      "\n",
      "569546 is outer node of 1035455\n",
      "569546 is the leaf node\n",
      "\n",
      "517067 is outer node of 1035455\n",
      "517067 is the leaf node\n",
      "\n",
      "639312 is outer node of 1035455\n",
      "639312 is the leaf node\n",
      "\n",
      "637905 is outer node of 1035455\n",
      "637905 is the leaf node\n",
      "\n",
      "849876 is outer node of 1035455\n",
      "849876 is the leaf node\n",
      "\n",
      "950613 is outer node of 1035455\n",
      "950613 is the leaf node\n",
      "\n",
      "971862 is outer node of 1035455\n",
      "971862 is the leaf node\n",
      "\n",
      "198613 is outer node of 1035455\n",
      "198613 is the leaf node\n",
      "\n",
      "362586 is outer node of 1035455\n",
      "362586 is the leaf node\n",
      "\n",
      "457565 is outer node of 1035455\n",
      "457565 is the leaf node\n",
      "\n",
      "167266 is outer node of 1035455\n",
      "167266 is the leaf node\n",
      "\n",
      "610276 is outer node of 1035455\n",
      "610276 is the leaf node\n",
      "\n",
      "382826 is outer node of 1035455\n",
      "382826 is the leaf node\n",
      "\n",
      "550636 is outer node of 1035455\n",
      "550636 is the leaf node\n",
      "\n",
      "273260 is outer node of 1035455\n",
      "273260 is the leaf node\n",
      "\n",
      "241519 is outer node of 1035455\n",
      "241519 is the leaf node\n",
      "\n",
      "10736 is outer node of 1035455\n",
      "10736 is the leaf node\n",
      "\n",
      "1133044 is outer node of 1035455\n",
      "1133044 is the leaf node\n",
      "\n",
      "422261 is outer node of 1035455\n",
      "422261 is the leaf node\n",
      "\n",
      "1043828 is outer node of 1035455\n",
      "1043828 is the leaf node\n",
      "\n",
      "518008 is outer node of 1035455\n",
      "518008 is the leaf node\n",
      "\n",
      "58873 is outer node of 1035455\n",
      "58873 is the leaf node\n",
      "\n",
      "158206 is outer node of 1035455\n",
      "158206 is the leaf node\n",
      "\n",
      "496383 is outer node of 1035455\n",
      "496383 is the leaf node\n",
      "\n",
      "# of triplets: 76878\n",
      "\n",
      "\n",
      "\n"
     ]
    },
    {
     "ename": "KeyboardInterrupt",
     "evalue": "",
     "output_type": "error",
     "traceback": [
      "\u001b[0;31m---------------------------------------------------------------------------\u001b[0m",
      "\u001b[0;31mKeyboardInterrupt\u001b[0m                         Traceback (most recent call last)",
      "\u001b[0;32m<ipython-input-111-500d97926b54>\u001b[0m in \u001b[0;36m<module>\u001b[0;34m\u001b[0m\n\u001b[1;32m     37\u001b[0m \u001b[0;34m\u001b[0m\u001b[0m\n\u001b[1;32m     38\u001b[0m         \u001b[0mprint\u001b[0m\u001b[0;34m(\u001b[0m\u001b[0mlen\u001b[0m\u001b[0;34m(\u001b[0m\u001b[0mtriplet\u001b[0m\u001b[0;34m)\u001b[0m\u001b[0;34m)\u001b[0m\u001b[0;34m\u001b[0m\u001b[0;34m\u001b[0m\u001b[0m\n\u001b[0;32m---> 39\u001b[0;31m         \u001b[0;32mfor\u001b[0m \u001b[0msrc\u001b[0m\u001b[0;34m,\u001b[0m \u001b[0mdest\u001b[0m\u001b[0;34m,\u001b[0m \u001b[0mrel\u001b[0m \u001b[0;32min\u001b[0m \u001b[0mtqdm\u001b[0m\u001b[0;34m(\u001b[0m\u001b[0mnew_data\u001b[0m\u001b[0;34m)\u001b[0m\u001b[0;34m:\u001b[0m\u001b[0;34m\u001b[0m\u001b[0;34m\u001b[0m\u001b[0m\n\u001b[0m\u001b[1;32m     40\u001b[0m             \u001b[0;32mif\u001b[0m \u001b[0mdest\u001b[0m \u001b[0;34m==\u001b[0m \u001b[0msource\u001b[0m\u001b[0;34m:\u001b[0m\u001b[0;34m\u001b[0m\u001b[0;34m\u001b[0m\u001b[0m\n\u001b[1;32m     41\u001b[0m                 \u001b[0mprint\u001b[0m\u001b[0;34m(\u001b[0m\u001b[0;34mf\"original layer2: ({src}, {dest}, {rel})\"\u001b[0m\u001b[0;34m)\u001b[0m\u001b[0;34m\u001b[0m\u001b[0;34m\u001b[0m\u001b[0m\n",
      "\u001b[0;32m~/.local/lib/python3.6/site-packages/tqdm/notebook.py\u001b[0m in \u001b[0;36m__iter__\u001b[0;34m(self)\u001b[0m\n\u001b[1;32m    257\u001b[0m         \u001b[0;32mtry\u001b[0m\u001b[0;34m:\u001b[0m\u001b[0;34m\u001b[0m\u001b[0;34m\u001b[0m\u001b[0m\n\u001b[1;32m    258\u001b[0m             \u001b[0mit\u001b[0m \u001b[0;34m=\u001b[0m \u001b[0msuper\u001b[0m\u001b[0;34m(\u001b[0m\u001b[0mtqdm_notebook\u001b[0m\u001b[0;34m,\u001b[0m \u001b[0mself\u001b[0m\u001b[0;34m)\u001b[0m\u001b[0;34m.\u001b[0m\u001b[0m__iter__\u001b[0m\u001b[0;34m(\u001b[0m\u001b[0;34m)\u001b[0m\u001b[0;34m\u001b[0m\u001b[0;34m\u001b[0m\u001b[0m\n\u001b[0;32m--> 259\u001b[0;31m             \u001b[0;32mfor\u001b[0m \u001b[0mobj\u001b[0m \u001b[0;32min\u001b[0m \u001b[0mit\u001b[0m\u001b[0;34m:\u001b[0m\u001b[0;34m\u001b[0m\u001b[0;34m\u001b[0m\u001b[0m\n\u001b[0m\u001b[1;32m    260\u001b[0m                 \u001b[0;31m# return super(tqdm...) will not catch exception\u001b[0m\u001b[0;34m\u001b[0m\u001b[0;34m\u001b[0m\u001b[0;34m\u001b[0m\u001b[0m\n\u001b[1;32m    261\u001b[0m                 \u001b[0;32myield\u001b[0m \u001b[0mobj\u001b[0m\u001b[0;34m\u001b[0m\u001b[0;34m\u001b[0m\u001b[0m\n",
      "\u001b[0;32m~/.local/lib/python3.6/site-packages/tqdm/std.py\u001b[0m in \u001b[0;36m__iter__\u001b[0;34m(self)\u001b[0m\n\u001b[1;32m   1194\u001b[0m         \u001b[0;32mtry\u001b[0m\u001b[0;34m:\u001b[0m\u001b[0;34m\u001b[0m\u001b[0;34m\u001b[0m\u001b[0m\n\u001b[1;32m   1195\u001b[0m             \u001b[0;32mfor\u001b[0m \u001b[0mobj\u001b[0m \u001b[0;32min\u001b[0m \u001b[0miterable\u001b[0m\u001b[0;34m:\u001b[0m\u001b[0;34m\u001b[0m\u001b[0;34m\u001b[0m\u001b[0m\n\u001b[0;32m-> 1196\u001b[0;31m                 \u001b[0;32myield\u001b[0m \u001b[0mobj\u001b[0m\u001b[0;34m\u001b[0m\u001b[0;34m\u001b[0m\u001b[0m\n\u001b[0m\u001b[1;32m   1197\u001b[0m                 \u001b[0;31m# Update and possibly print the progressbar.\u001b[0m\u001b[0;34m\u001b[0m\u001b[0;34m\u001b[0m\u001b[0;34m\u001b[0m\u001b[0m\n\u001b[1;32m   1198\u001b[0m                 \u001b[0;31m# Note: does not call self.update(1) for speed optimisation.\u001b[0m\u001b[0;34m\u001b[0m\u001b[0;34m\u001b[0m\u001b[0;34m\u001b[0m\u001b[0m\n",
      "\u001b[0;31mKeyboardInterrupt\u001b[0m: "
     ]
    }
   ],
   "source": [
    "target_leaf_node = leaf_nodes[0]\n",
    "count = 0\n",
    "count_match = 0\n",
    "count_layer1 = 0\n",
    "count_layer2 = 0\n",
    "\n",
    "triplet = set()\n",
    "\n",
    "\n",
    "    \n",
    "for source, destination, relation in tqdm(new_data):\n",
    "    if destination == target_leaf_node:\n",
    "        count_match += 1\n",
    "        print(f\"Found matching data for leaf node {target_leaf_node}:\")\n",
    "        print(f\"Source: {source}, Destination: {destination}, Relation: {relation}\")\n",
    "        print(f\"layer1_source is: {source}\")\n",
    "        \n",
    "        # add layer1's neighbors into the triplet set()\n",
    "        for original_rel in relation_dict[source, destination]:\n",
    "            triplet.add((source, destination, original_rel))\n",
    "            \n",
    "            # at most add 16 triplets in layer1\n",
    "            if len(triplet) == 8: break\n",
    "        \n",
    "        layer1_triplet_num = len(triplet)\n",
    "        \n",
    "        neighbor1 = outer_neighbor_nodes[source]\n",
    "        print(f\"# of the neighbor of layer1 source: {len(neighbor1)}\")\n",
    "        \n",
    "        print(list(neighbor1)[1:9])\n",
    "        for layer1_neighbor in neighbor1:\n",
    "            for r in relation_dict[source, layer1_neighbor]:\n",
    "                triplet.add((source, layer1_neighbor, r))\n",
    "                if len(triplet) == 8:\n",
    "                    print(len(triplet))\n",
    "                    break\n",
    "                    \n",
    "        print(len(triplet))\n",
    "        for src, dest, rel in tqdm(new_data):\n",
    "            if dest == source:\n",
    "                print(f\"original layer2: ({src}, {dest}, {rel})\")\n",
    "                triplet.add((src, dest, rel))\n",
    "                a = 0\n",
    "            \n",
    "                for node_2 in outer_neighbor_nodes[src]:\n",
    "                    print(f\"{node_2} is outer node of {src}\")\n",
    "\n",
    "                    for r in relation_dict[src, node_2]:\n",
    "                        triplet.add((src, node_2, r))\n",
    "                        if len(triplet) == 32: \n",
    "                            print(\"# of triplets = 32\")\n",
    "                            break\n",
    "                            \n",
    "                \n",
    "                    try:\n",
    "#                         print(f\"outer of {node_2}: {outer_neighbor_nodes[node_2]}\")\n",
    "                        for node_3 in outer_neighbor_nodes[node_2]:\n",
    "                            for r in relation_dict[src, node_3]:\n",
    "                                triplet.add((node_2, node_3, r))\n",
    "                                \n",
    "                                if len(triplet) == 32: \n",
    "                                    print(\"# of triplets = 32\")\n",
    "                                    break\n",
    "                \n",
    "#                         triplet.add()\n",
    "                            \n",
    "                    except KeyError:\n",
    "#                         print(f\"Node {node_1} not found in outer_neighbor_nodes.\")\n",
    "                        print(f\"{node_2} is the leaf node\\n\")\n",
    "                print(f\"# of triplets: {len(triplet)}\\n\\n\\n\")\n",
    "\n",
    "#         if len(triplet) == layer1_triplet_num:\n",
    "#             print(\"NO LAYER 2!!\\n\")\n",
    "            \n",
    "            \n",
    "                \n",
    "# #                 print(list(outer_neighbor_nodes[src])[:5]) # need to turned into a list\n",
    "\n",
    "#                 for node_1 in outer_neighbor_nodes[src]:\n",
    "#                     print(f\"{node_1} is outer node of {src}\")\n",
    "#                     a += 1\n",
    "                \n",
    "#                     try:\n",
    "# #                         print(node_1)\n",
    "# #                         print(f\"outer of {node_1}: {list(outer_neighbor_nodes[node_1])[:3]}\")\n",
    "#                         print(f\"outer of {node_1}: {outer_neighbor_nodes[node_1]}\")\n",
    "                            \n",
    "#                     except KeyError:\n",
    "# #                         print(f\"Node {node_1} not found in outer_neighbor_nodes.\")\n",
    "#                         print(f\"{node_1} is the leaf node\\n\")\n",
    "    \n",
    "#                     if a == 16: break\n",
    "\n",
    "\n",
    "print(triplet)\n",
    "print(len(triplet))\n",
    "# print(outer_neighbor_nodes[954492])"
   ]
  },
  {
   "cell_type": "code",
   "execution_count": 9,
   "id": "d95445df",
   "metadata": {},
   "outputs": [
    {
     "name": "stdout",
     "output_type": "stream",
     "text": [
      "0.txt\n"
     ]
    }
   ],
   "source": [
    "from collections import deque\n",
    "\n",
    "# Define the maximum number of iterations and desired node counts\n",
    "# max_iterations = 1000\n",
    "# node_counts = [400, 300, 200, 100]\n",
    "max_iterations = 10\n",
    "node_counts = [10]\n",
    "\n",
    "# Initialize a counter for file naming\n",
    "file_counter = 0\n",
    "\n",
    "# Iterate through different node counts\n",
    "for i in range(len(node_counts)):\n",
    "    for count in range(node_counts[i]):\n",
    "        # Initialize a set to store the selected nodes\n",
    "        selected_nodes = set()\n",
    "        \n",
    "        # Initialize a queue for BFS traversal\n",
    "        queue = deque(leaf_nodes)\n",
    "        \n",
    "        # Perform BFS traversal to collect nodes based on the desired count\n",
    "        while len(selected_nodes) < count and queue:\n",
    "            node = queue.popleft()\n",
    "            selected_nodes.add(node)\n",
    "            queue.extend(outer_neighbor_nodes.get(node, set()))\n",
    "        \n",
    "        # Create the content for the current file\n",
    "        content = '\\n'.join(map(str, selected_nodes))\n",
    "        \n",
    "        # Write the content to a file with the appropriate name\n",
    "        file_name = f\"{file_counter}.txt\"\n",
    "        print(file_name)\n",
    "        with open(file_name, 'w') as f:\n",
    "            f.write(content)\n",
    "        \n",
    "        # Increment the file counter\n",
    "        file_counter += 1\n",
    "        \n",
    "        # Break the loop if the maximum number of iterations is reached\n",
    "        if file_counter >= max_iterations:\n",
    "            break\n"
   ]
  },
  {
   "cell_type": "code",
   "execution_count": 5,
   "id": "38bb955e",
   "metadata": {},
   "outputs": [
    {
     "name": "stdout",
     "output_type": "stream",
     "text": [
      "793937\n",
      "2463\n"
     ]
    }
   ],
   "source": [
    "# len(inner_neighbor_nodes[906916])\n",
    "# print(len(inner_neighbor_nodes[5]))\n",
    "print(len(inner_neighbor_nodes))\n",
    "print(len(outer_neighbor_nodes))"
   ]
  },
  {
   "cell_type": "code",
   "execution_count": 6,
   "id": "8e9eb5b1",
   "metadata": {},
   "outputs": [],
   "source": [
    "# del data"
   ]
  },
  {
   "cell_type": "code",
   "execution_count": null,
   "id": "c4c10ef8",
   "metadata": {},
   "outputs": [],
   "source": []
  },
  {
   "cell_type": "code",
   "execution_count": null,
   "id": "1b46283c",
   "metadata": {},
   "outputs": [],
   "source": []
  },
  {
   "cell_type": "code",
   "execution_count": 10,
   "id": "63157437",
   "metadata": {
    "scrolled": true
   },
   "outputs": [
    {
     "name": "stderr",
     "output_type": "stream",
     "text": [
      "100%|██████████| 285/285 [00:02<00:00, 109.13it/s]"
     ]
    },
    {
     "name": "stdout",
     "output_type": "stream",
     "text": [
      "291878\n"
     ]
    },
    {
     "name": "stderr",
     "output_type": "stream",
     "text": [
      "\n"
     ]
    }
   ],
   "source": [
    "layer1_nodes = set()\n",
    "for n in tqdm(root_nodes):\n",
    "    layer1_nodes = layer1_nodes.union(outer_neighbor_nodes[n])\n",
    "print(len(layer1_nodes))"
   ]
  },
  {
   "cell_type": "code",
   "execution_count": 11,
   "id": "464d2b89",
   "metadata": {},
   "outputs": [
    {
     "name": "stderr",
     "output_type": "stream",
     "text": [
      "100%|██████████| 785/785 [00:06<00:00, 130.41it/s]"
     ]
    },
    {
     "name": "stdout",
     "output_type": "stream",
     "text": [
      "237830\n"
     ]
    },
    {
     "name": "stderr",
     "output_type": "stream",
     "text": [
      "\n"
     ]
    }
   ],
   "source": [
    "layer2_nodes = set()\n",
    "for n in tqdm(layer1_nodes-set(leaf_nodes)):\n",
    "    layer2_nodes = layer2_nodes.union(outer_neighbor_nodes[n])\n",
    "print(len(layer2_nodes))"
   ]
  },
  {
   "cell_type": "code",
   "execution_count": 12,
   "id": "9cd1f0cc",
   "metadata": {},
   "outputs": [
    {
     "name": "stderr",
     "output_type": "stream",
     "text": [
      "100%|██████████| 310/310 [00:01<00:00, 167.71it/s]"
     ]
    },
    {
     "name": "stdout",
     "output_type": "stream",
     "text": [
      "132678\n"
     ]
    },
    {
     "name": "stderr",
     "output_type": "stream",
     "text": [
      "\n"
     ]
    }
   ],
   "source": [
    "layer3_nodes = set()\n",
    "for n in tqdm(layer2_nodes-set(leaf_nodes)):\n",
    "    layer3_nodes = layer3_nodes.union(outer_neighbor_nodes[n])\n",
    "print(len(layer3_nodes))"
   ]
  },
  {
   "cell_type": "code",
   "execution_count": 13,
   "id": "2d56193c",
   "metadata": {},
   "outputs": [
    {
     "name": "stderr",
     "output_type": "stream",
     "text": [
      "100%|██████████| 199/199 [00:00<00:00, 479.18it/s]"
     ]
    },
    {
     "name": "stdout",
     "output_type": "stream",
     "text": [
      "74675\n"
     ]
    },
    {
     "name": "stderr",
     "output_type": "stream",
     "text": [
      "\n"
     ]
    }
   ],
   "source": [
    "layer4_nodes = set()\n",
    "for n in tqdm(layer3_nodes-set(leaf_nodes)):\n",
    "    layer4_nodes = layer4_nodes.union(outer_neighbor_nodes[n])\n",
    "print(len(layer4_nodes))"
   ]
  },
  {
   "cell_type": "code",
   "execution_count": 14,
   "id": "e62b0030",
   "metadata": {},
   "outputs": [
    {
     "name": "stderr",
     "output_type": "stream",
     "text": [
      "100%|██████████| 50/50 [00:00<00:00, 2178.09it/s]"
     ]
    },
    {
     "name": "stdout",
     "output_type": "stream",
     "text": [
      "215002\n"
     ]
    },
    {
     "name": "stderr",
     "output_type": "stream",
     "text": [
      "\n"
     ]
    }
   ],
   "source": [
    "layer5_nodes = set()\n",
    "for n in tqdm(layer4_nodes-set(leaf_nodes)):\n",
    "    layer5_nodes = layer5_nodes.union(outer_neighbor_nodes[n])\n",
    "print(len(layer5_nodes))"
   ]
  },
  {
   "cell_type": "code",
   "execution_count": 15,
   "id": "4de7a65e",
   "metadata": {},
   "outputs": [
    {
     "name": "stderr",
     "output_type": "stream",
     "text": [
      "100%|██████████| 19/19 [00:00<00:00, 415.45it/s]"
     ]
    },
    {
     "name": "stdout",
     "output_type": "stream",
     "text": [
      "147882\n"
     ]
    },
    {
     "name": "stderr",
     "output_type": "stream",
     "text": [
      "\n"
     ]
    }
   ],
   "source": [
    "layer6_nodes = set()\n",
    "for n in tqdm(layer5_nodes-set(leaf_nodes)):\n",
    "    layer6_nodes = layer6_nodes.union(outer_neighbor_nodes[n])\n",
    "print(len(layer6_nodes))"
   ]
  },
  {
   "cell_type": "code",
   "execution_count": 16,
   "id": "71d11bce",
   "metadata": {},
   "outputs": [
    {
     "name": "stderr",
     "output_type": "stream",
     "text": [
      "100%|██████████| 802/802 [00:01<00:00, 501.57it/s] "
     ]
    },
    {
     "name": "stdout",
     "output_type": "stream",
     "text": [
      "68965\n"
     ]
    },
    {
     "name": "stderr",
     "output_type": "stream",
     "text": [
      "\n"
     ]
    }
   ],
   "source": [
    "layer7_nodes = set()\n",
    "for n in tqdm(layer6_nodes-set(leaf_nodes)):\n",
    "    layer7_nodes = layer7_nodes.union(outer_neighbor_nodes[n])\n",
    "print(len(layer7_nodes))"
   ]
  },
  {
   "cell_type": "code",
   "execution_count": 17,
   "id": "e1e78edd",
   "metadata": {},
   "outputs": [
    {
     "name": "stderr",
     "output_type": "stream",
     "text": [
      "100%|██████████| 10/10 [00:00<00:00, 9244.66it/s]"
     ]
    },
    {
     "name": "stdout",
     "output_type": "stream",
     "text": [
      "2615\n"
     ]
    },
    {
     "name": "stderr",
     "output_type": "stream",
     "text": [
      "\n"
     ]
    }
   ],
   "source": [
    "layer8_nodes = set()\n",
    "for n in tqdm(layer7_nodes-set(leaf_nodes)):\n",
    "    layer8_nodes = layer8_nodes.union(outer_neighbor_nodes[n])\n",
    "print(len(layer8_nodes))"
   ]
  },
  {
   "cell_type": "code",
   "execution_count": 18,
   "id": "35bd62b3",
   "metadata": {},
   "outputs": [
    {
     "name": "stderr",
     "output_type": "stream",
     "text": [
      "100%|██████████| 2/2 [00:00<00:00, 9098.27it/s]"
     ]
    },
    {
     "name": "stdout",
     "output_type": "stream",
     "text": [
      "163\n"
     ]
    },
    {
     "name": "stderr",
     "output_type": "stream",
     "text": [
      "\n"
     ]
    }
   ],
   "source": [
    "layer9_nodes = set()\n",
    "for n in tqdm(layer8_nodes-set(leaf_nodes)):\n",
    "    layer9_nodes = layer9_nodes.union(outer_neighbor_nodes[n])\n",
    "print(len(layer9_nodes))"
   ]
  },
  {
   "cell_type": "code",
   "execution_count": 19,
   "id": "9b12d244",
   "metadata": {},
   "outputs": [
    {
     "name": "stderr",
     "output_type": "stream",
     "text": [
      "100%|██████████| 1/1 [00:00<00:00, 2434.30it/s]"
     ]
    },
    {
     "name": "stdout",
     "output_type": "stream",
     "text": [
      "4900\n"
     ]
    },
    {
     "name": "stderr",
     "output_type": "stream",
     "text": [
      "\n"
     ]
    }
   ],
   "source": [
    "layer10_nodes = set()\n",
    "for n in tqdm(layer9_nodes-set(leaf_nodes)):\n",
    "    layer10_nodes = layer10_nodes.union(outer_neighbor_nodes[n])\n",
    "print(len(layer10_nodes))"
   ]
  },
  {
   "cell_type": "code",
   "execution_count": 20,
   "id": "d6adc4df",
   "metadata": {},
   "outputs": [
    {
     "name": "stderr",
     "output_type": "stream",
     "text": [
      "100%|██████████| 1/1 [00:00<00:00, 10538.45it/s]"
     ]
    },
    {
     "name": "stdout",
     "output_type": "stream",
     "text": [
      "68\n"
     ]
    },
    {
     "name": "stderr",
     "output_type": "stream",
     "text": [
      "\n"
     ]
    }
   ],
   "source": [
    "layer11_nodes = set()\n",
    "for n in tqdm(layer10_nodes-set(leaf_nodes)):\n",
    "    layer11_nodes = layer11_nodes.union(outer_neighbor_nodes[n])\n",
    "print(len(layer11_nodes))"
   ]
  },
  {
   "cell_type": "code",
   "execution_count": 21,
   "id": "46d98fd2",
   "metadata": {},
   "outputs": [
    {
     "name": "stderr",
     "output_type": "stream",
     "text": [
      "0it [00:00, ?it/s]"
     ]
    },
    {
     "name": "stdout",
     "output_type": "stream",
     "text": [
      "0\n"
     ]
    },
    {
     "name": "stderr",
     "output_type": "stream",
     "text": [
      "\n"
     ]
    }
   ],
   "source": [
    "layer12_nodes = set()\n",
    "for n in tqdm(layer11_nodes-set(leaf_nodes)):\n",
    "    layer12_nodes = layer12_nodes.union(outer_neighbor_nodes[n])\n",
    "print(len(layer12_nodes))"
   ]
  },
  {
   "cell_type": "code",
   "execution_count": null,
   "id": "609863da",
   "metadata": {},
   "outputs": [],
   "source": []
  }
 ],
 "metadata": {
  "kernelspec": {
   "display_name": "Python 3",
   "language": "python",
   "name": "python3"
  },
  "language_info": {
   "codemirror_mode": {
    "name": "ipython",
    "version": 3
   },
   "file_extension": ".py",
   "mimetype": "text/x-python",
   "name": "python",
   "nbconvert_exporter": "python",
   "pygments_lexer": "ipython3",
   "version": "3.9.12"
  }
 },
 "nbformat": 4,
 "nbformat_minor": 5
}
