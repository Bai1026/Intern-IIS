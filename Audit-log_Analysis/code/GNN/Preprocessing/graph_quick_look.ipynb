{
 "cells": [
  {
   "cell_type": "code",
   "execution_count": 1,
   "id": "3acc643d",
   "metadata": {},
   "outputs": [],
   "source": [
    "import json\n",
    "from tqdm import tqdm"
   ]
  },
  {
   "cell_type": "code",
   "execution_count": 3,
   "id": "61f54920",
   "metadata": {},
   "outputs": [
    {
     "data": {
      "text/plain": [
       "'/workdir/home/bai/data_processing/dgl/code_new'"
      ]
     },
     "execution_count": 3,
     "metadata": {},
     "output_type": "execute_result"
    }
   ],
   "source": [
    "pwd"
   ]
  },
  {
   "cell_type": "code",
   "execution_count": 12,
   "id": "89891e3d",
   "metadata": {},
   "outputs": [
    {
     "name": "stderr",
     "output_type": "stream",
     "text": [
      "4949305it [00:02, 1933199.16it/s]"
     ]
    },
    {
     "name": "stdout",
     "output_type": "stream",
     "text": [
      "4949305\n",
      "906916 1164108 9\n"
     ]
    },
    {
     "name": "stderr",
     "output_type": "stream",
     "text": [
      "\n"
     ]
    }
   ],
   "source": [
    "# INPUT_PATH = './workdir/home/bai/data_processing/dgl/data_new/source_data/4_extended_APG_bai/benign.txt'\n",
    "INPUT_PATH = '../data_new/source_data/4_extended_APG_bai/benign.txt'\n",
    "\n",
    "data = list()\n",
    "with open(INPUT_PATH, 'r') as f:\n",
    "    for line in tqdm(f):\n",
    "        data.append(line.strip())\n",
    "        \n",
    "print(len(data))\n",
    "print(data[0])\n"
   ]
  },
  {
   "cell_type": "code",
   "execution_count": 17,
   "id": "a2220e25",
   "metadata": {},
   "outputs": [
    {
     "name": "stderr",
     "output_type": "stream",
     "text": [
      "100%|██████████| 4949305/4949305 [00:16<00:00, 295531.25it/s]"
     ]
    },
    {
     "name": "stdout",
     "output_type": "stream",
     "text": [
      "4949305\n",
      "(906916, 1164108, 9)\n"
     ]
    },
    {
     "name": "stderr",
     "output_type": "stream",
     "text": [
      "\n"
     ]
    }
   ],
   "source": [
    "new_data = list()\n",
    "inner_neighbor_nodes = dict()\n",
    "outer_neighbor_nodes = dict()\n",
    "for line in tqdm(data):\n",
    "    source, destination, relation = map(int, line.strip().split())\n",
    "    \n",
    "    if str(source).startswith('fake'):\n",
    "        continue\n",
    "    \n",
    "#     new_data.append((source, destination, relation, label))\n",
    "    new_data.append((source, destination, relation))\n",
    "    inner_neighbor_nodes.setdefault(destination, set())\n",
    "    outer_neighbor_nodes.setdefault(source, set())\n",
    "    inner_neighbor_nodes[destination].add(source)\n",
    "    outer_neighbor_nodes[source].add(destination)\n",
    "\n",
    "print(len(new_data))\n",
    "print(new_data[0])\n"
   ]
  },
  {
   "cell_type": "code",
   "execution_count": 32,
   "id": "38bb955e",
   "metadata": {},
   "outputs": [
    {
     "name": "stdout",
     "output_type": "stream",
     "text": [
      "793937\n",
      "2463\n"
     ]
    }
   ],
   "source": [
    "# len(inner_neighbor_nodes[906916])\n",
    "# print(len(inner_neighbor_nodes[5]))\n",
    "print(len(inner_neighbor_nodes))\n",
    "print(len(outer_neighbor_nodes))"
   ]
  },
  {
   "cell_type": "code",
   "execution_count": 33,
   "id": "8e9eb5b1",
   "metadata": {},
   "outputs": [],
   "source": [
    "# del data"
   ]
  },
  {
   "cell_type": "code",
   "execution_count": 34,
   "id": "dc6ad900",
   "metadata": {},
   "outputs": [
    {
     "name": "stdout",
     "output_type": "stream",
     "text": [
      "793937\n",
      "2463\n",
      "Leaf Node Count: 791759\n",
      "Root Node Count: 285\n"
     ]
    }
   ],
   "source": [
    "all_nodes = set(inner_neighbor_nodes.keys()).union(set(outer_neighbor_nodes.keys()))\n",
    "leaf_nodes = list(all_nodes - set(outer_neighbor_nodes.keys()))\n",
    "root_nodes = list(all_nodes - set(inner_neighbor_nodes.keys()))\n",
    "print(len(inner_neighbor_nodes))\n",
    "print(len(outer_neighbor_nodes))\n",
    "print(f'Leaf Node Count: {len(leaf_nodes)}')\n",
    "print(f'Root Node Count: {len(root_nodes)}')"
   ]
  },
  {
   "cell_type": "code",
   "execution_count": null,
   "id": "d95445df",
   "metadata": {},
   "outputs": [],
   "source": []
  },
  {
   "cell_type": "code",
   "execution_count": null,
   "id": "c4c10ef8",
   "metadata": {},
   "outputs": [],
   "source": []
  },
  {
   "cell_type": "code",
   "execution_count": null,
   "id": "1b46283c",
   "metadata": {},
   "outputs": [],
   "source": []
  },
  {
   "cell_type": "code",
   "execution_count": 7,
   "id": "63157437",
   "metadata": {
    "scrolled": true
   },
   "outputs": [
    {
     "name": "stderr",
     "output_type": "stream",
     "text": [
      "100%|██████████| 265/265 [00:02<00:00, 91.44it/s] "
     ]
    },
    {
     "name": "stdout",
     "output_type": "stream",
     "text": [
      "279888\n"
     ]
    },
    {
     "name": "stderr",
     "output_type": "stream",
     "text": [
      "\n"
     ]
    }
   ],
   "source": [
    "layer1_nodes = set()\n",
    "for n in tqdm(root_nodes):\n",
    "    layer1_nodes = layer1_nodes.union(outer_neighbor_nodes[n])\n",
    "print(len(layer1_nodes))"
   ]
  },
  {
   "cell_type": "code",
   "execution_count": 8,
   "id": "464d2b89",
   "metadata": {},
   "outputs": [
    {
     "name": "stderr",
     "output_type": "stream",
     "text": [
      "100%|██████████| 775/775 [00:09<00:00, 82.71it/s] "
     ]
    },
    {
     "name": "stdout",
     "output_type": "stream",
     "text": [
      "237153\n"
     ]
    },
    {
     "name": "stderr",
     "output_type": "stream",
     "text": [
      "\n"
     ]
    }
   ],
   "source": [
    "layer2_nodes = set()\n",
    "for n in tqdm(layer1_nodes-set(leaf_nodes)):\n",
    "    layer2_nodes = layer2_nodes.union(outer_neighbor_nodes[n])\n",
    "print(len(layer2_nodes))"
   ]
  },
  {
   "cell_type": "code",
   "execution_count": 9,
   "id": "9cd1f0cc",
   "metadata": {},
   "outputs": [
    {
     "name": "stderr",
     "output_type": "stream",
     "text": [
      "100%|██████████| 306/306 [00:01<00:00, 194.65it/s]"
     ]
    },
    {
     "name": "stdout",
     "output_type": "stream",
     "text": [
      "134563\n"
     ]
    },
    {
     "name": "stderr",
     "output_type": "stream",
     "text": [
      "\n"
     ]
    }
   ],
   "source": [
    "layer3_nodes = set()\n",
    "for n in tqdm(layer2_nodes-set(leaf_nodes)):\n",
    "    layer3_nodes = layer3_nodes.union(outer_neighbor_nodes[n])\n",
    "print(len(layer3_nodes))"
   ]
  },
  {
   "cell_type": "code",
   "execution_count": 10,
   "id": "2d56193c",
   "metadata": {},
   "outputs": [
    {
     "name": "stderr",
     "output_type": "stream",
     "text": [
      "100%|██████████| 258/258 [00:00<00:00, 585.84it/s] "
     ]
    },
    {
     "name": "stdout",
     "output_type": "stream",
     "text": [
      "82900\n"
     ]
    },
    {
     "name": "stderr",
     "output_type": "stream",
     "text": [
      "\n"
     ]
    }
   ],
   "source": [
    "layer4_nodes = set()\n",
    "for n in tqdm(layer3_nodes-set(leaf_nodes)):\n",
    "    layer4_nodes = layer4_nodes.union(outer_neighbor_nodes[n])\n",
    "print(len(layer4_nodes))"
   ]
  },
  {
   "cell_type": "code",
   "execution_count": 11,
   "id": "e62b0030",
   "metadata": {},
   "outputs": [
    {
     "name": "stderr",
     "output_type": "stream",
     "text": [
      "100%|██████████| 56/56 [00:00<00:00, 297.75it/s]"
     ]
    },
    {
     "name": "stdout",
     "output_type": "stream",
     "text": [
      "217313\n"
     ]
    },
    {
     "name": "stderr",
     "output_type": "stream",
     "text": [
      "\n"
     ]
    }
   ],
   "source": [
    "layer5_nodes = set()\n",
    "for n in tqdm(layer4_nodes-set(leaf_nodes)):\n",
    "    layer5_nodes = layer5_nodes.union(outer_neighbor_nodes[n])\n",
    "print(len(layer5_nodes))"
   ]
  },
  {
   "cell_type": "code",
   "execution_count": 12,
   "id": "4de7a65e",
   "metadata": {},
   "outputs": [
    {
     "name": "stderr",
     "output_type": "stream",
     "text": [
      "100%|██████████| 23/23 [00:00<00:00, 111.16it/s]"
     ]
    },
    {
     "name": "stdout",
     "output_type": "stream",
     "text": [
      "147703\n"
     ]
    },
    {
     "name": "stderr",
     "output_type": "stream",
     "text": [
      "\n"
     ]
    }
   ],
   "source": [
    "layer6_nodes = set()\n",
    "for n in tqdm(layer5_nodes-set(leaf_nodes)):\n",
    "    layer6_nodes = layer6_nodes.union(outer_neighbor_nodes[n])\n",
    "print(len(layer6_nodes))"
   ]
  },
  {
   "cell_type": "code",
   "execution_count": 13,
   "id": "71d11bce",
   "metadata": {},
   "outputs": [
    {
     "name": "stderr",
     "output_type": "stream",
     "text": [
      "100%|██████████| 626/626 [00:02<00:00, 275.23it/s] "
     ]
    },
    {
     "name": "stdout",
     "output_type": "stream",
     "text": [
      "69330\n"
     ]
    },
    {
     "name": "stderr",
     "output_type": "stream",
     "text": [
      "\n"
     ]
    }
   ],
   "source": [
    "layer7_nodes = set()\n",
    "for n in tqdm(layer6_nodes-set(leaf_nodes)):\n",
    "    layer7_nodes = layer7_nodes.union(outer_neighbor_nodes[n])\n",
    "print(len(layer7_nodes))"
   ]
  },
  {
   "cell_type": "code",
   "execution_count": 14,
   "id": "e1e78edd",
   "metadata": {},
   "outputs": [
    {
     "name": "stderr",
     "output_type": "stream",
     "text": [
      "100%|██████████| 12/12 [00:00<00:00, 49.60it/s]"
     ]
    },
    {
     "name": "stdout",
     "output_type": "stream",
     "text": [
      "2862\n"
     ]
    },
    {
     "name": "stderr",
     "output_type": "stream",
     "text": [
      "\n"
     ]
    }
   ],
   "source": [
    "layer8_nodes = set()\n",
    "for n in tqdm(layer7_nodes-set(leaf_nodes)):\n",
    "    layer8_nodes = layer8_nodes.union(outer_neighbor_nodes[n])\n",
    "print(len(layer8_nodes))"
   ]
  },
  {
   "cell_type": "code",
   "execution_count": 15,
   "id": "35bd62b3",
   "metadata": {},
   "outputs": [
    {
     "name": "stderr",
     "output_type": "stream",
     "text": [
      "100%|██████████| 3/3 [00:00<00:00, 6868.40it/s]"
     ]
    },
    {
     "name": "stdout",
     "output_type": "stream",
     "text": [
      "4938\n"
     ]
    },
    {
     "name": "stderr",
     "output_type": "stream",
     "text": [
      "\n"
     ]
    }
   ],
   "source": [
    "layer9_nodes = set()\n",
    "for n in tqdm(layer8_nodes-set(leaf_nodes)):\n",
    "    layer9_nodes = layer9_nodes.union(outer_neighbor_nodes[n])\n",
    "print(len(layer9_nodes))"
   ]
  },
  {
   "cell_type": "code",
   "execution_count": 16,
   "id": "9b12d244",
   "metadata": {},
   "outputs": [
    {
     "name": "stderr",
     "output_type": "stream",
     "text": [
      "100%|██████████| 2/2 [00:00<00:00, 4846.11it/s]"
     ]
    },
    {
     "name": "stdout",
     "output_type": "stream",
     "text": [
      "4927\n"
     ]
    },
    {
     "name": "stderr",
     "output_type": "stream",
     "text": [
      "\n"
     ]
    }
   ],
   "source": [
    "layer10_nodes = set()\n",
    "for n in tqdm(layer9_nodes-set(leaf_nodes)):\n",
    "    layer10_nodes = layer10_nodes.union(outer_neighbor_nodes[n])\n",
    "print(len(layer10_nodes))"
   ]
  },
  {
   "cell_type": "code",
   "execution_count": 17,
   "id": "d6adc4df",
   "metadata": {},
   "outputs": [
    {
     "name": "stderr",
     "output_type": "stream",
     "text": [
      "100%|██████████| 1/1 [00:00<00:00, 9799.78it/s]"
     ]
    },
    {
     "name": "stdout",
     "output_type": "stream",
     "text": [
      "79\n"
     ]
    },
    {
     "name": "stderr",
     "output_type": "stream",
     "text": [
      "\n"
     ]
    }
   ],
   "source": [
    "layer11_nodes = set()\n",
    "for n in tqdm(layer10_nodes-set(leaf_nodes)):\n",
    "    layer11_nodes = layer11_nodes.union(outer_neighbor_nodes[n])\n",
    "print(len(layer11_nodes))"
   ]
  },
  {
   "cell_type": "code",
   "execution_count": 18,
   "id": "46d98fd2",
   "metadata": {},
   "outputs": [
    {
     "name": "stderr",
     "output_type": "stream",
     "text": [
      "0it [00:00, ?it/s]"
     ]
    },
    {
     "name": "stdout",
     "output_type": "stream",
     "text": [
      "0\n"
     ]
    },
    {
     "name": "stderr",
     "output_type": "stream",
     "text": [
      "\n"
     ]
    }
   ],
   "source": [
    "layer12_nodes = set()\n",
    "for n in tqdm(layer11_nodes-set(leaf_nodes)):\n",
    "    layer12_nodes = layer12_nodes.union(outer_neighbor_nodes[n])\n",
    "print(len(layer12_nodes))"
   ]
  },
  {
   "cell_type": "code",
   "execution_count": null,
   "id": "609863da",
   "metadata": {},
   "outputs": [],
   "source": []
  }
 ],
 "metadata": {
  "kernelspec": {
   "display_name": "Python 3",
   "language": "python",
   "name": "python3"
  },
  "language_info": {
   "codemirror_mode": {
    "name": "ipython",
    "version": 3
   },
   "file_extension": ".py",
   "mimetype": "text/x-python",
   "name": "python",
   "nbconvert_exporter": "python",
   "pygments_lexer": "ipython3",
   "version": "3.6.9"
  }
 },
 "nbformat": 4,
 "nbformat_minor": 5
}
