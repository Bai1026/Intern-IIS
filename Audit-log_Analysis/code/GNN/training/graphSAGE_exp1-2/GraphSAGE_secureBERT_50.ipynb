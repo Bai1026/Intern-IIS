{
 "cells": [
  {
   "cell_type": "markdown",
   "metadata": {},
   "source": [
    "# Test of GraphSAGE\n",
    "- use DGL\n",
    "- predict `graphs`\n",
    "- valid, test data are in the training dataset"
   ]
  },
  {
   "cell_type": "code",
   "execution_count": 1,
   "metadata": {},
   "outputs": [],
   "source": [
    "import os\n",
    "import dgl\n",
    "import json\n",
    "import torch\n",
    "import torch as th\n",
    "import dgl.nn as dglnn\n",
    "# from tqdm import tqdm\n",
    "from tqdm.notebook import tqdm  # 使用 notebook 版本的 tqdm\n",
    "import torch.nn as nn\n",
    "from dgl.nn import GraphConv, GATConv, SAGEConv\n",
    "import torch.nn.functional as F\n",
    "from torch.utils.data import Dataset, DataLoader\n",
    "from transformers import get_linear_schedule_with_warmup"
   ]
  },
  {
   "cell_type": "markdown",
   "metadata": {},
   "source": [
    "- check the GPU and assign the GPU by the best memory usage"
   ]
  },
  {
   "cell_type": "code",
   "execution_count": 2,
   "metadata": {},
   "outputs": [
    {
     "name": "stdout",
     "output_type": "stream",
     "text": [
      "cuda:2\n"
     ]
    }
   ],
   "source": [
    "import subprocess\n",
    "import torch\n",
    "\n",
    "def get_free_gpu():\n",
    "    try:\n",
    "        # Run nvidia-smi command to get GPU details\n",
    "        _output_to_list = lambda x: x.decode('ascii').split('\\n')[:-1]\n",
    "        command = \"nvidia-smi --query-gpu=memory.free --format=csv,nounits,noheader\"\n",
    "        memory_free_info = _output_to_list(subprocess.check_output(command.split())) \n",
    "        memory_free_values = [int(x) for i, x in enumerate(memory_free_info)]\n",
    "        \n",
    "        # Get the GPU with the maximum free memory\n",
    "        best_gpu_id = memory_free_values.index(max(memory_free_values))\n",
    "        return best_gpu_id\n",
    "    except:\n",
    "        # If any exception occurs, default to GPU 0 (this handles cases where nvidia-smi isn't installed)\n",
    "        return 0\n",
    "\n",
    "if torch.cuda.is_available():\n",
    "    # Get the best GPU ID based on free memory and set it\n",
    "    best_gpu_id = get_free_gpu()\n",
    "    device = torch.device(f\"cuda:{best_gpu_id}\")\n",
    "else:\n",
    "    device = torch.device(\"cpu\")\n",
    "    print(\"there's no available GPU\")\n",
    "\n",
    "# device = torch.device(f\"cuda:{1}\")\n",
    "print(device)\n"
   ]
  },
  {
   "cell_type": "markdown",
   "metadata": {},
   "source": [
    "## Fix the seed"
   ]
  },
  {
   "cell_type": "code",
   "execution_count": 3,
   "metadata": {},
   "outputs": [],
   "source": [
    "import numpy as np\n",
    "import torch\n",
    "import random\n",
    "\n",
    "#fix seed\n",
    "def same_seeds(seed = 8787):\n",
    "    torch.manual_seed(seed)\n",
    "    # random.seed(seed) \n",
    "    if torch.cuda.is_available():\n",
    "        torch.cuda.manual_seed(seed)\n",
    "        torch.cuda.manual_seed_all(seed)  \n",
    "    np.random.seed(seed)  \n",
    "    torch.backends.cudnn.benchmark = False\n",
    "    torch.backends.cudnn.deterministic = True"
   ]
  },
  {
   "cell_type": "markdown",
   "metadata": {},
   "source": [
    "## Data Loader"
   ]
  },
  {
   "cell_type": "code",
   "execution_count": 4,
   "metadata": {},
   "outputs": [],
   "source": [
    "class GraphDataset(Dataset):\n",
    "    def __init__(self, data_list, device):\n",
    "        self.data_list = data_list\n",
    "        self.device = device\n",
    "\n",
    "    def __len__(self):\n",
    "        return len(self.data_list)\n",
    "    \n",
    "    def __getitem__(self, idx):\n",
    "        data = self.data_list[idx]\n",
    "\n",
    "        g = dgl.graph((th.tensor(data[\"edge_index\"][0]), th.tensor(data[\"edge_index\"][1])), num_nodes=data[\"num_nodes\"]).to(self.device)\n",
    "\n",
    "        g.ndata['feat'] = th.tensor(data[\"node_feat\"]).to(self.device)\n",
    "        g.edata['feat'] = th.tensor(data[\"edge_attr\"]).to(self.device)  # Add edge features to graph\n",
    "\n",
    "        return g, th.tensor(data[\"label\"]).to(self.device)\n",
    "\n",
    "\n",
    "def collate(samples):\n",
    "    # The input `samples` is a list of pairs\n",
    "    #  (graph, label).\n",
    "    graphs, labels = map(list, zip(*samples))\n",
    "    batched_graph = dgl.batch(graphs)\n",
    "    return batched_graph, torch.tensor(labels)\n"
   ]
  },
  {
   "cell_type": "code",
   "execution_count": 5,
   "metadata": {},
   "outputs": [
    {
     "data": {
      "application/vnd.jupyter.widget-view+json": {
       "model_id": "2f944801cbd247028a749b742368b54c",
       "version_major": 2,
       "version_minor": 0
      },
      "text/plain": [
       "  0%|          | 0/3 [00:00<?, ?it/s]"
      ]
     },
     "metadata": {},
     "output_type": "display_data"
    },
    {
     "name": "stdout",
     "output_type": "stream",
     "text": [
      "../../data_processing/dgl/data_new/exp1-2/training_data/exp_1/secureBERT_50/train.jsonl\n"
     ]
    },
    {
     "data": {
      "application/vnd.jupyter.widget-view+json": {
       "model_id": "7c851ef08ca743d78230d9847724e53e",
       "version_major": 2,
       "version_minor": 0
      },
      "text/plain": [
       "0it [00:00, ?it/s]"
      ]
     },
     "metadata": {},
     "output_type": "display_data"
    },
    {
     "name": "stdout",
     "output_type": "stream",
     "text": [
      "../../data_processing/dgl/data_new/exp1-2/training_data/exp_1/secureBERT_50/valid.jsonl\n"
     ]
    },
    {
     "data": {
      "application/vnd.jupyter.widget-view+json": {
       "model_id": "bd06233e47194f9dad44dcab10a730d4",
       "version_major": 2,
       "version_minor": 0
      },
      "text/plain": [
       "0it [00:00, ?it/s]"
      ]
     },
     "metadata": {},
     "output_type": "display_data"
    },
    {
     "name": "stdout",
     "output_type": "stream",
     "text": [
      "../../data_processing/dgl/data_new/exp1-2/training_data/exp_1/secureBERT_50/test.jsonl\n"
     ]
    },
    {
     "data": {
      "application/vnd.jupyter.widget-view+json": {
       "model_id": "987dbc92788141a0acb9109566bbfcd4",
       "version_major": 2,
       "version_minor": 0
      },
      "text/plain": [
       "0it [00:00, ?it/s]"
      ]
     },
     "metadata": {},
     "output_type": "display_data"
    },
    {
     "name": "stdout",
     "output_type": "stream",
     "text": [
      "Datasets loaded!\n"
     ]
    }
   ],
   "source": [
    "datasets = ['train', 'valid', 'test']\n",
    "dataset_data = {}\n",
    "\n",
    "for dataset_name in tqdm(datasets):\n",
    "    file_path = f\"../../data_processing/dgl/data_new/exp1-2/training_data/exp_1/secureBERT_50/{dataset_name}.jsonl\"\n",
    "    \n",
    "    print(file_path)\n",
    "    with open(file_path) as f:\n",
    "        data_list = [json.loads(line) for line in tqdm(f, position=0, leave=True)]\n",
    "    \n",
    "    dataset_data[dataset_name] = GraphDataset(data_list, device)\n",
    "\n",
    "print(\"Datasets loaded!\")"
   ]
  },
  {
   "cell_type": "markdown",
   "metadata": {},
   "source": [
    "- choose batch size"
   ]
  },
  {
   "cell_type": "code",
   "execution_count": 6,
   "metadata": {},
   "outputs": [],
   "source": [
    "def create_dataloaders(batch_size, shuffle=True):\n",
    "    dataloaders = {}\n",
    "    for dataset_name, dataset in dataset_data.items():\n",
    "        # do not shuffle the testing dataset\n",
    "        if dataset_name == \"test\":\n",
    "            dataloaders[dataset_name] = DataLoader(dataset, batch_size=batch_size, shuffle=False, collate_fn=collate)    \n",
    "        else:\n",
    "            dataloaders[dataset_name] = DataLoader(dataset, batch_size=batch_size, shuffle=shuffle, collate_fn=collate)\n",
    "    return dataloaders\n",
    "\n",
    "# dataloaders = create_dataloaders(4)\n",
    "dataloaders = create_dataloaders(16)"
   ]
  },
  {
   "cell_type": "markdown",
   "metadata": {},
   "source": [
    "- Turn the print message to a log file"
   ]
  },
  {
   "cell_type": "code",
   "execution_count": 7,
   "metadata": {},
   "outputs": [
    {
     "name": "stdout",
     "output_type": "stream",
     "text": [
      "../log_message/0911_23:14_GraphSAGE_secureBERT_50.log\n"
     ]
    }
   ],
   "source": [
    "import datetime\n",
    "\n",
    "now = datetime.datetime.now()\n",
    "\n",
    "formatted_time = now.strftime(\"%m%d_%H:%M\")\n",
    "\n",
    "log_file_path = f\"../log_message/{formatted_time}_GraphSAGE_secureBERT_50.log\"\n",
    "\n",
    "def add_log_msg(msg, log_file_path=log_file_path):\n",
    "    with open(log_file_path, 'a') as f:\n",
    "        f.write(f'{datetime.datetime.now().strftime(\"%m/%d/%Y, %H:%M:%S\")}# {msg}\\n')\n",
    "    print(f'{datetime.datetime.now().strftime(\"%m/%d/%Y, %H:%M:%S\")}# {msg}')\n",
    "\n",
    "print(log_file_path)"
   ]
  },
  {
   "cell_type": "markdown",
   "metadata": {},
   "source": [
    "### Model"
   ]
  },
  {
   "cell_type": "code",
   "execution_count": 8,
   "metadata": {},
   "outputs": [],
   "source": [
    "class GraphSAGE(nn.Module):\n",
    "    def __init__(self, in_dim, hidden_dim, out_dim):\n",
    "        super(GraphSAGE, self).__init__()\n",
    "        self.layer1 = dglnn.SAGEConv(in_dim, hidden_dim, 'mean')\n",
    "        self.layer2 = dglnn.SAGEConv(hidden_dim, out_dim, 'mean')  # Output layer\n",
    "\n",
    "    def forward(self, g, inputs):\n",
    "        h = self.layer1(g, inputs)\n",
    "        h = torch.relu(h)\n",
    "        h = self.layer2(g, h)  # You can apply another non-linearity here if needed\n",
    "        \n",
    "        g.ndata['h'] = h\n",
    "        hg = dgl.mean_nodes(g, 'h')\n",
    "        return hg\n"
   ]
  },
  {
   "cell_type": "markdown",
   "metadata": {},
   "source": [
    "- Model Forward  "
   ]
  },
  {
   "cell_type": "code",
   "execution_count": 9,
   "metadata": {},
   "outputs": [],
   "source": [
    "def model_fn(data, model, criterion, device, count=1, which_type='train'):\n",
    "    \"\"\"Forward a batch through the model.\"\"\"\n",
    "    batched_g, labels = data\n",
    "    batched_g = batched_g.to(device)\n",
    "    \n",
    "    labels = labels.to(device)\n",
    "#     labels = labels.float()\n",
    "\n",
    "    logits = model(batched_g, batched_g.ndata['feat'].float()) # for GAT\n",
    "#     logits = logits.mean(dim=1)\n",
    "#     print(labels)\n",
    "#     print(labels.shape)\n",
    "#     print(logits)\n",
    "#     print(logits.shape)\n",
    "\n",
    "    \n",
    "    loss = criterion(logits, labels)\n",
    "\n",
    "    # Get the class id with the highest probability\n",
    "    preds = logits.argmax(1) # for GAT\n",
    "#     print(preds)\n",
    "#     preds = logits.argmax() # for graphSAGE\n",
    "    \n",
    "    '''\n",
    "    问题出在GAT和GraphSAGE模型的输出形状上。\n",
    "    在你的 GAT 模型中，最后一层的输出是一个一维的张量，因此 logits 是一个形状为 (batch_size,) 的张量。这是因为 GAT 模型最后一层的输出被处理成了一个节点的预测，而不是整个图的预测。\n",
    "    在 GraphSAGE 模型中，最后一层的输出形状是 (num_nodes, out_dim)，也就是说，它返回了整个图的节点级别的预测。因此，logits 是一个二维的张量，形状为 (num_nodes, out_dim)。\n",
    "    当你尝试在一个一维张量上调用 logits.argmax(1) 时，会产生维度错误，因为它期望一个二维张量来执行操作。\n",
    "    所以，在 GraphSAGE 模型中，你应该将以下行：\n",
    "    '''\n",
    "    \n",
    "    \n",
    "    # Compute accuracy\n",
    "    accuracy = torch.mean((preds == labels).float())\n",
    "    \n",
    "    if which_type == 'validation' and count % 1000 == 0:\n",
    "        add_log_msg(f\"labels of Validation: {labels} {labels.shape}\")\n",
    "        add_log_msg(f\"predicted of Validation: {preds} {preds.shape}\")\n",
    "        \n",
    "    elif which_type == 'test'  and count % 1000 == 0:\n",
    "        add_log_msg(f\"labels of Test: {labels} {labels.shape}\")\n",
    "        add_log_msg(f\"predicted of Test: {preds} {preds.shape}\")\n",
    "        \n",
    "    if count % 5000 == 0: \n",
    "        add_log_msg(f\"labels of {count}: {labels} {labels.shape}\")\n",
    "        add_log_msg(f\"predicted of {count}: {preds} {preds.shape}\")\n",
    "        \n",
    "    return loss, accuracy, preds"
   ]
  },
  {
   "cell_type": "code",
   "execution_count": null,
   "metadata": {},
   "outputs": [],
   "source": []
  },
  {
   "cell_type": "markdown",
   "metadata": {},
   "source": [
    "### Training"
   ]
  },
  {
   "cell_type": "markdown",
   "metadata": {},
   "source": [
    "- Fix the seed and save the model.state_dict that contains the initial weight"
   ]
  },
  {
   "cell_type": "code",
   "execution_count": 10,
   "metadata": {},
   "outputs": [],
   "source": [
    "seed = 8787\n",
    "same_seeds(seed)\n",
    "\n",
    "model = GraphSAGE(in_dim=50, hidden_dim=16, out_dim=167)\n",
    "torch.save(model.state_dict(), 'model3_initial(graphsage)/initial_weight.pth')"
   ]
  },
  {
   "cell_type": "code",
   "execution_count": 11,
   "metadata": {},
   "outputs": [
    {
     "data": {
      "text/plain": [
       "Parameter containing:\n",
       "tensor([[ 0.3966, -0.2622, -0.4172, -0.2120,  0.0392, -0.1415,  0.4194,  0.1208,\n",
       "         -0.0180, -0.4136, -0.3660,  0.2784,  0.1991, -0.0898,  0.3969, -0.1612,\n",
       "          0.2863, -0.3886, -0.0421, -0.1185, -0.3744,  0.3962,  0.2371, -0.3675,\n",
       "         -0.4098,  0.3475,  0.1936,  0.1666, -0.3460,  0.3121, -0.2045, -0.0577,\n",
       "          0.4003, -0.1058,  0.1000, -0.1319,  0.1262, -0.1793, -0.3533,  0.2065,\n",
       "         -0.3789,  0.1936,  0.2644, -0.4193,  0.2918,  0.1618,  0.0928, -0.0824,\n",
       "         -0.1039,  0.0728],\n",
       "        [ 0.2606, -0.4032,  0.3426,  0.3319, -0.1503, -0.0656, -0.1955, -0.2699,\n",
       "         -0.1863,  0.4212,  0.1890, -0.3355, -0.1435,  0.0435,  0.2325,  0.1970,\n",
       "          0.0711,  0.3621,  0.0238,  0.4196,  0.2668,  0.4046, -0.0977, -0.2018,\n",
       "          0.1634, -0.1156,  0.4119,  0.2383, -0.0069,  0.0162, -0.0569, -0.2738,\n",
       "          0.2987, -0.0467,  0.3767, -0.4006, -0.1762, -0.3149,  0.3337,  0.2914,\n",
       "         -0.3179,  0.1646,  0.2352,  0.1848, -0.0304, -0.2352, -0.0916, -0.4173,\n",
       "         -0.1962,  0.1680],\n",
       "        [-0.3955, -0.2733, -0.2143, -0.0949, -0.2613,  0.0485, -0.1711,  0.2472,\n",
       "          0.4258, -0.3867, -0.0101, -0.0509, -0.0020,  0.1807,  0.0531, -0.3851,\n",
       "         -0.1289, -0.2341,  0.2579, -0.0700, -0.0746,  0.0744, -0.1322, -0.2659,\n",
       "          0.1036, -0.2613,  0.0528,  0.2774,  0.1657, -0.0223,  0.2717,  0.2409,\n",
       "         -0.1759,  0.2770, -0.2728,  0.2717,  0.2931, -0.3396, -0.0655,  0.2213,\n",
       "         -0.1585,  0.3815,  0.0898,  0.2685, -0.0511, -0.0491, -0.1455, -0.3152,\n",
       "          0.3718,  0.0401],\n",
       "        [-0.0526,  0.3129,  0.1182,  0.1495,  0.3100, -0.2846,  0.2842,  0.3208,\n",
       "         -0.1709,  0.2818,  0.0574,  0.1631,  0.0176,  0.3787,  0.3850, -0.1557,\n",
       "          0.3404,  0.0212, -0.0585, -0.0840,  0.1000,  0.2150,  0.1874, -0.0934,\n",
       "          0.2823,  0.0364,  0.3107,  0.2605, -0.2760,  0.2738,  0.3397,  0.4261,\n",
       "         -0.0089, -0.4151, -0.3470, -0.3903,  0.0176,  0.0066,  0.4170,  0.0809,\n",
       "          0.2620,  0.2925, -0.0316,  0.3910, -0.0862,  0.0918,  0.0726, -0.0321,\n",
       "          0.2580,  0.2650],\n",
       "        [ 0.0809,  0.1844,  0.2368, -0.2497,  0.3937,  0.4161, -0.1714,  0.2564,\n",
       "          0.2421,  0.0008, -0.1180,  0.1060,  0.1978, -0.4016,  0.1255, -0.0681,\n",
       "          0.4020,  0.3465,  0.1458,  0.3296,  0.0295, -0.1697, -0.3350,  0.3008,\n",
       "          0.1973,  0.4147, -0.1843, -0.1982, -0.2045, -0.3087, -0.0983,  0.2928,\n",
       "         -0.3624, -0.2456,  0.2913,  0.4202,  0.0211,  0.0742,  0.4098, -0.2871,\n",
       "         -0.0412, -0.3656,  0.0905,  0.2548,  0.1606, -0.3483, -0.3074,  0.2003,\n",
       "          0.1364,  0.1945],\n",
       "        [ 0.3465,  0.0210, -0.3160, -0.2047,  0.1928,  0.0265, -0.0104,  0.2502,\n",
       "          0.2950, -0.2486, -0.1005, -0.0393,  0.2541,  0.0770,  0.3265,  0.0139,\n",
       "          0.2148, -0.3089, -0.3765,  0.0685, -0.2119, -0.2772, -0.0662,  0.3089,\n",
       "          0.3781, -0.2002, -0.1485, -0.4033,  0.2130, -0.3671,  0.3161, -0.1168,\n",
       "         -0.3976,  0.3946, -0.0490,  0.3798, -0.2464, -0.2154,  0.1883,  0.1512,\n",
       "          0.0772,  0.2752,  0.0770,  0.3352,  0.2286,  0.3050,  0.0232, -0.0484,\n",
       "          0.1438,  0.1350],\n",
       "        [ 0.0865, -0.1998,  0.2551, -0.2516,  0.2936,  0.1217,  0.2935,  0.2676,\n",
       "          0.2569, -0.3902,  0.0402, -0.2754,  0.2002, -0.2174, -0.4157,  0.1002,\n",
       "         -0.4213, -0.3210,  0.0042, -0.1022,  0.2842, -0.0266, -0.4259, -0.3642,\n",
       "         -0.0523,  0.1985,  0.1760,  0.3073,  0.0433,  0.2527,  0.0817,  0.3587,\n",
       "          0.0400, -0.2071, -0.3740,  0.2019, -0.3812, -0.1693,  0.0199,  0.2717,\n",
       "         -0.3279, -0.2870, -0.2542,  0.0218,  0.0065,  0.2792, -0.3168, -0.3030,\n",
       "         -0.1765, -0.2291],\n",
       "        [-0.0974,  0.0681,  0.3705,  0.3378, -0.0871,  0.3833, -0.2075, -0.4184,\n",
       "          0.0039, -0.2754,  0.4118,  0.2632, -0.0374,  0.0044, -0.2644,  0.2640,\n",
       "         -0.0033, -0.1948, -0.1722, -0.0203, -0.1935, -0.1658,  0.1571, -0.3501,\n",
       "          0.1841,  0.0695, -0.2524,  0.3420,  0.1361, -0.2062,  0.1536,  0.2644,\n",
       "          0.2315, -0.1814,  0.2079,  0.2888, -0.0622,  0.1731,  0.3946, -0.4192,\n",
       "          0.4138, -0.0254,  0.1522, -0.2319, -0.3396,  0.3404,  0.0400,  0.1102,\n",
       "          0.2690, -0.1969],\n",
       "        [ 0.3451, -0.3485, -0.0154,  0.0540,  0.1940,  0.1186,  0.2752,  0.1278,\n",
       "         -0.0472,  0.1369,  0.0916,  0.2476, -0.4053,  0.1082, -0.0348, -0.0343,\n",
       "         -0.0863,  0.1470, -0.3175,  0.3610,  0.1853,  0.2829, -0.0731, -0.2957,\n",
       "          0.3264, -0.0797,  0.2035, -0.1318,  0.1465, -0.3395,  0.3758, -0.3031,\n",
       "          0.0752, -0.2755,  0.1884,  0.1520,  0.0889, -0.2839, -0.1764, -0.0527,\n",
       "         -0.0733,  0.0557, -0.1347,  0.0319,  0.0474, -0.2055,  0.3556, -0.3010,\n",
       "         -0.1375,  0.0521],\n",
       "        [ 0.2512,  0.0021,  0.3049,  0.2307,  0.0684, -0.0689,  0.1481,  0.0792,\n",
       "          0.3411, -0.1899, -0.1305, -0.2483,  0.2239, -0.2841, -0.3196,  0.0792,\n",
       "         -0.3794,  0.2955, -0.3304,  0.3235,  0.1728,  0.1992,  0.0772,  0.2903,\n",
       "         -0.0914, -0.3157,  0.2919,  0.1768, -0.2779,  0.1249,  0.0320,  0.3014,\n",
       "          0.0472, -0.0314, -0.4216,  0.2833, -0.3722, -0.4260,  0.0741, -0.4072,\n",
       "         -0.2483, -0.0110, -0.3415,  0.3126, -0.3563, -0.0041, -0.2903, -0.2376,\n",
       "         -0.4249, -0.2237],\n",
       "        [ 0.2810, -0.3753, -0.3990, -0.0488,  0.1052, -0.0074,  0.3169, -0.2680,\n",
       "         -0.0781, -0.4229, -0.3627, -0.0477,  0.0053,  0.1862, -0.2472,  0.3865,\n",
       "         -0.0061,  0.1598, -0.2274, -0.4130,  0.2115, -0.3777,  0.2349,  0.1858,\n",
       "         -0.3197, -0.2045, -0.0061, -0.0310, -0.1111,  0.3608,  0.2678, -0.0662,\n",
       "          0.0984, -0.1406,  0.1794, -0.1250,  0.3153, -0.2828, -0.3745, -0.3821,\n",
       "         -0.3374, -0.2525,  0.1525, -0.3772,  0.3000, -0.3990,  0.3419,  0.0656,\n",
       "         -0.3652, -0.1180],\n",
       "        [-0.3710,  0.0852,  0.1024, -0.2855, -0.0229,  0.2096,  0.1020, -0.0780,\n",
       "         -0.2063,  0.3487,  0.4227, -0.2360, -0.3658,  0.0492, -0.2266, -0.0255,\n",
       "         -0.1213,  0.3051,  0.3865,  0.3418,  0.0144,  0.2157,  0.2428, -0.2703,\n",
       "         -0.2700,  0.2411,  0.3405, -0.4191,  0.2882, -0.3063, -0.4158,  0.1393,\n",
       "          0.4180,  0.0348,  0.4048,  0.0376,  0.3753, -0.0561,  0.2808,  0.0431,\n",
       "         -0.2323,  0.2125, -0.1057, -0.1570,  0.3889,  0.3545,  0.2135,  0.1808,\n",
       "         -0.2845, -0.0553],\n",
       "        [-0.3383,  0.1681, -0.1017,  0.2130, -0.3140,  0.0737,  0.1717, -0.3480,\n",
       "          0.3156,  0.3751, -0.1772,  0.2354, -0.2479, -0.3993, -0.0734, -0.2198,\n",
       "         -0.0785, -0.2074, -0.3281,  0.1539,  0.3796, -0.3314,  0.4038, -0.0546,\n",
       "          0.2317, -0.2939, -0.0005,  0.4075, -0.2280,  0.2192,  0.2653, -0.0153,\n",
       "         -0.3949, -0.3087,  0.0377,  0.1357, -0.2838,  0.1896,  0.1652, -0.3417,\n",
       "          0.1565, -0.3255,  0.3435, -0.1889,  0.3504, -0.0713, -0.3456,  0.3876,\n",
       "          0.1695,  0.0742],\n",
       "        [-0.2449, -0.2024,  0.2424,  0.3588,  0.1758, -0.0788,  0.1980, -0.1884,\n",
       "         -0.0570, -0.3697, -0.2051, -0.0956, -0.2723,  0.3247, -0.3421, -0.4079,\n",
       "         -0.0047, -0.3301, -0.3144,  0.3353, -0.3392,  0.1480, -0.3871,  0.2547,\n",
       "          0.1866, -0.0557, -0.3331, -0.1749,  0.1643, -0.2220,  0.3706,  0.0429,\n",
       "          0.3496, -0.3897, -0.1284, -0.3060,  0.0922,  0.3831,  0.1867, -0.0666,\n",
       "          0.3401, -0.2241, -0.2238, -0.0886,  0.0996,  0.1283,  0.3193, -0.0384,\n",
       "         -0.3754,  0.2367],\n",
       "        [ 0.2583,  0.1586, -0.4263,  0.3266,  0.3738, -0.2878, -0.0031,  0.2569,\n",
       "         -0.3633,  0.2934, -0.0189,  0.3302, -0.3839,  0.2389,  0.2838, -0.3675,\n",
       "         -0.4237,  0.1869, -0.3721,  0.1750, -0.2344, -0.3522,  0.0628,  0.0841,\n",
       "         -0.4091, -0.1319, -0.1330,  0.2291,  0.2065, -0.2599, -0.1051,  0.1456,\n",
       "         -0.1308,  0.3338,  0.1367,  0.3693, -0.1172,  0.3153,  0.4057, -0.1361,\n",
       "          0.1985, -0.1725,  0.0735,  0.3100,  0.0874,  0.0501, -0.2251,  0.0634,\n",
       "         -0.0650, -0.1329],\n",
       "        [-0.3987, -0.1397, -0.2321, -0.1635, -0.0825,  0.2782, -0.2349, -0.1756,\n",
       "          0.3969, -0.1123, -0.2454,  0.1455, -0.0837,  0.2237, -0.0819, -0.1751,\n",
       "          0.0240,  0.3532, -0.1970,  0.0272, -0.3916, -0.2981, -0.1291, -0.1274,\n",
       "          0.1960, -0.1504,  0.0623,  0.4089, -0.0492, -0.3787, -0.3993, -0.0232,\n",
       "          0.2797,  0.0746, -0.3203, -0.3951,  0.1246,  0.0734, -0.0708, -0.3647,\n",
       "          0.1245,  0.1614, -0.1981,  0.3926,  0.1790, -0.3246,  0.3508,  0.2509,\n",
       "         -0.2810,  0.0680]], requires_grad=True)"
      ]
     },
     "execution_count": 11,
     "metadata": {},
     "output_type": "execute_result"
    }
   ],
   "source": [
    "model.layer1.fc_self.weight"
   ]
  },
  {
   "cell_type": "markdown",
   "metadata": {},
   "source": [
    "- Check if model really load the model_dict"
   ]
  },
  {
   "cell_type": "code",
   "execution_count": 12,
   "metadata": {},
   "outputs": [
    {
     "data": {
      "text/plain": [
       "Parameter containing:\n",
       "tensor([[ 0.3966, -0.2622, -0.4172, -0.2120,  0.0392, -0.1415,  0.4194,  0.1208,\n",
       "         -0.0180, -0.4136, -0.3660,  0.2784,  0.1991, -0.0898,  0.3969, -0.1612,\n",
       "          0.2863, -0.3886, -0.0421, -0.1185, -0.3744,  0.3962,  0.2371, -0.3675,\n",
       "         -0.4098,  0.3475,  0.1936,  0.1666, -0.3460,  0.3121, -0.2045, -0.0577,\n",
       "          0.4003, -0.1058,  0.1000, -0.1319,  0.1262, -0.1793, -0.3533,  0.2065,\n",
       "         -0.3789,  0.1936,  0.2644, -0.4193,  0.2918,  0.1618,  0.0928, -0.0824,\n",
       "         -0.1039,  0.0728],\n",
       "        [ 0.2606, -0.4032,  0.3426,  0.3319, -0.1503, -0.0656, -0.1955, -0.2699,\n",
       "         -0.1863,  0.4212,  0.1890, -0.3355, -0.1435,  0.0435,  0.2325,  0.1970,\n",
       "          0.0711,  0.3621,  0.0238,  0.4196,  0.2668,  0.4046, -0.0977, -0.2018,\n",
       "          0.1634, -0.1156,  0.4119,  0.2383, -0.0069,  0.0162, -0.0569, -0.2738,\n",
       "          0.2987, -0.0467,  0.3767, -0.4006, -0.1762, -0.3149,  0.3337,  0.2914,\n",
       "         -0.3179,  0.1646,  0.2352,  0.1848, -0.0304, -0.2352, -0.0916, -0.4173,\n",
       "         -0.1962,  0.1680],\n",
       "        [-0.3955, -0.2733, -0.2143, -0.0949, -0.2613,  0.0485, -0.1711,  0.2472,\n",
       "          0.4258, -0.3867, -0.0101, -0.0509, -0.0020,  0.1807,  0.0531, -0.3851,\n",
       "         -0.1289, -0.2341,  0.2579, -0.0700, -0.0746,  0.0744, -0.1322, -0.2659,\n",
       "          0.1036, -0.2613,  0.0528,  0.2774,  0.1657, -0.0223,  0.2717,  0.2409,\n",
       "         -0.1759,  0.2770, -0.2728,  0.2717,  0.2931, -0.3396, -0.0655,  0.2213,\n",
       "         -0.1585,  0.3815,  0.0898,  0.2685, -0.0511, -0.0491, -0.1455, -0.3152,\n",
       "          0.3718,  0.0401],\n",
       "        [-0.0526,  0.3129,  0.1182,  0.1495,  0.3100, -0.2846,  0.2842,  0.3208,\n",
       "         -0.1709,  0.2818,  0.0574,  0.1631,  0.0176,  0.3787,  0.3850, -0.1557,\n",
       "          0.3404,  0.0212, -0.0585, -0.0840,  0.1000,  0.2150,  0.1874, -0.0934,\n",
       "          0.2823,  0.0364,  0.3107,  0.2605, -0.2760,  0.2738,  0.3397,  0.4261,\n",
       "         -0.0089, -0.4151, -0.3470, -0.3903,  0.0176,  0.0066,  0.4170,  0.0809,\n",
       "          0.2620,  0.2925, -0.0316,  0.3910, -0.0862,  0.0918,  0.0726, -0.0321,\n",
       "          0.2580,  0.2650],\n",
       "        [ 0.0809,  0.1844,  0.2368, -0.2497,  0.3937,  0.4161, -0.1714,  0.2564,\n",
       "          0.2421,  0.0008, -0.1180,  0.1060,  0.1978, -0.4016,  0.1255, -0.0681,\n",
       "          0.4020,  0.3465,  0.1458,  0.3296,  0.0295, -0.1697, -0.3350,  0.3008,\n",
       "          0.1973,  0.4147, -0.1843, -0.1982, -0.2045, -0.3087, -0.0983,  0.2928,\n",
       "         -0.3624, -0.2456,  0.2913,  0.4202,  0.0211,  0.0742,  0.4098, -0.2871,\n",
       "         -0.0412, -0.3656,  0.0905,  0.2548,  0.1606, -0.3483, -0.3074,  0.2003,\n",
       "          0.1364,  0.1945],\n",
       "        [ 0.3465,  0.0210, -0.3160, -0.2047,  0.1928,  0.0265, -0.0104,  0.2502,\n",
       "          0.2950, -0.2486, -0.1005, -0.0393,  0.2541,  0.0770,  0.3265,  0.0139,\n",
       "          0.2148, -0.3089, -0.3765,  0.0685, -0.2119, -0.2772, -0.0662,  0.3089,\n",
       "          0.3781, -0.2002, -0.1485, -0.4033,  0.2130, -0.3671,  0.3161, -0.1168,\n",
       "         -0.3976,  0.3946, -0.0490,  0.3798, -0.2464, -0.2154,  0.1883,  0.1512,\n",
       "          0.0772,  0.2752,  0.0770,  0.3352,  0.2286,  0.3050,  0.0232, -0.0484,\n",
       "          0.1438,  0.1350],\n",
       "        [ 0.0865, -0.1998,  0.2551, -0.2516,  0.2936,  0.1217,  0.2935,  0.2676,\n",
       "          0.2569, -0.3902,  0.0402, -0.2754,  0.2002, -0.2174, -0.4157,  0.1002,\n",
       "         -0.4213, -0.3210,  0.0042, -0.1022,  0.2842, -0.0266, -0.4259, -0.3642,\n",
       "         -0.0523,  0.1985,  0.1760,  0.3073,  0.0433,  0.2527,  0.0817,  0.3587,\n",
       "          0.0400, -0.2071, -0.3740,  0.2019, -0.3812, -0.1693,  0.0199,  0.2717,\n",
       "         -0.3279, -0.2870, -0.2542,  0.0218,  0.0065,  0.2792, -0.3168, -0.3030,\n",
       "         -0.1765, -0.2291],\n",
       "        [-0.0974,  0.0681,  0.3705,  0.3378, -0.0871,  0.3833, -0.2075, -0.4184,\n",
       "          0.0039, -0.2754,  0.4118,  0.2632, -0.0374,  0.0044, -0.2644,  0.2640,\n",
       "         -0.0033, -0.1948, -0.1722, -0.0203, -0.1935, -0.1658,  0.1571, -0.3501,\n",
       "          0.1841,  0.0695, -0.2524,  0.3420,  0.1361, -0.2062,  0.1536,  0.2644,\n",
       "          0.2315, -0.1814,  0.2079,  0.2888, -0.0622,  0.1731,  0.3946, -0.4192,\n",
       "          0.4138, -0.0254,  0.1522, -0.2319, -0.3396,  0.3404,  0.0400,  0.1102,\n",
       "          0.2690, -0.1969],\n",
       "        [ 0.3451, -0.3485, -0.0154,  0.0540,  0.1940,  0.1186,  0.2752,  0.1278,\n",
       "         -0.0472,  0.1369,  0.0916,  0.2476, -0.4053,  0.1082, -0.0348, -0.0343,\n",
       "         -0.0863,  0.1470, -0.3175,  0.3610,  0.1853,  0.2829, -0.0731, -0.2957,\n",
       "          0.3264, -0.0797,  0.2035, -0.1318,  0.1465, -0.3395,  0.3758, -0.3031,\n",
       "          0.0752, -0.2755,  0.1884,  0.1520,  0.0889, -0.2839, -0.1764, -0.0527,\n",
       "         -0.0733,  0.0557, -0.1347,  0.0319,  0.0474, -0.2055,  0.3556, -0.3010,\n",
       "         -0.1375,  0.0521],\n",
       "        [ 0.2512,  0.0021,  0.3049,  0.2307,  0.0684, -0.0689,  0.1481,  0.0792,\n",
       "          0.3411, -0.1899, -0.1305, -0.2483,  0.2239, -0.2841, -0.3196,  0.0792,\n",
       "         -0.3794,  0.2955, -0.3304,  0.3235,  0.1728,  0.1992,  0.0772,  0.2903,\n",
       "         -0.0914, -0.3157,  0.2919,  0.1768, -0.2779,  0.1249,  0.0320,  0.3014,\n",
       "          0.0472, -0.0314, -0.4216,  0.2833, -0.3722, -0.4260,  0.0741, -0.4072,\n",
       "         -0.2483, -0.0110, -0.3415,  0.3126, -0.3563, -0.0041, -0.2903, -0.2376,\n",
       "         -0.4249, -0.2237],\n",
       "        [ 0.2810, -0.3753, -0.3990, -0.0488,  0.1052, -0.0074,  0.3169, -0.2680,\n",
       "         -0.0781, -0.4229, -0.3627, -0.0477,  0.0053,  0.1862, -0.2472,  0.3865,\n",
       "         -0.0061,  0.1598, -0.2274, -0.4130,  0.2115, -0.3777,  0.2349,  0.1858,\n",
       "         -0.3197, -0.2045, -0.0061, -0.0310, -0.1111,  0.3608,  0.2678, -0.0662,\n",
       "          0.0984, -0.1406,  0.1794, -0.1250,  0.3153, -0.2828, -0.3745, -0.3821,\n",
       "         -0.3374, -0.2525,  0.1525, -0.3772,  0.3000, -0.3990,  0.3419,  0.0656,\n",
       "         -0.3652, -0.1180],\n",
       "        [-0.3710,  0.0852,  0.1024, -0.2855, -0.0229,  0.2096,  0.1020, -0.0780,\n",
       "         -0.2063,  0.3487,  0.4227, -0.2360, -0.3658,  0.0492, -0.2266, -0.0255,\n",
       "         -0.1213,  0.3051,  0.3865,  0.3418,  0.0144,  0.2157,  0.2428, -0.2703,\n",
       "         -0.2700,  0.2411,  0.3405, -0.4191,  0.2882, -0.3063, -0.4158,  0.1393,\n",
       "          0.4180,  0.0348,  0.4048,  0.0376,  0.3753, -0.0561,  0.2808,  0.0431,\n",
       "         -0.2323,  0.2125, -0.1057, -0.1570,  0.3889,  0.3545,  0.2135,  0.1808,\n",
       "         -0.2845, -0.0553],\n",
       "        [-0.3383,  0.1681, -0.1017,  0.2130, -0.3140,  0.0737,  0.1717, -0.3480,\n",
       "          0.3156,  0.3751, -0.1772,  0.2354, -0.2479, -0.3993, -0.0734, -0.2198,\n",
       "         -0.0785, -0.2074, -0.3281,  0.1539,  0.3796, -0.3314,  0.4038, -0.0546,\n",
       "          0.2317, -0.2939, -0.0005,  0.4075, -0.2280,  0.2192,  0.2653, -0.0153,\n",
       "         -0.3949, -0.3087,  0.0377,  0.1357, -0.2838,  0.1896,  0.1652, -0.3417,\n",
       "          0.1565, -0.3255,  0.3435, -0.1889,  0.3504, -0.0713, -0.3456,  0.3876,\n",
       "          0.1695,  0.0742],\n",
       "        [-0.2449, -0.2024,  0.2424,  0.3588,  0.1758, -0.0788,  0.1980, -0.1884,\n",
       "         -0.0570, -0.3697, -0.2051, -0.0956, -0.2723,  0.3247, -0.3421, -0.4079,\n",
       "         -0.0047, -0.3301, -0.3144,  0.3353, -0.3392,  0.1480, -0.3871,  0.2547,\n",
       "          0.1866, -0.0557, -0.3331, -0.1749,  0.1643, -0.2220,  0.3706,  0.0429,\n",
       "          0.3496, -0.3897, -0.1284, -0.3060,  0.0922,  0.3831,  0.1867, -0.0666,\n",
       "          0.3401, -0.2241, -0.2238, -0.0886,  0.0996,  0.1283,  0.3193, -0.0384,\n",
       "         -0.3754,  0.2367],\n",
       "        [ 0.2583,  0.1586, -0.4263,  0.3266,  0.3738, -0.2878, -0.0031,  0.2569,\n",
       "         -0.3633,  0.2934, -0.0189,  0.3302, -0.3839,  0.2389,  0.2838, -0.3675,\n",
       "         -0.4237,  0.1869, -0.3721,  0.1750, -0.2344, -0.3522,  0.0628,  0.0841,\n",
       "         -0.4091, -0.1319, -0.1330,  0.2291,  0.2065, -0.2599, -0.1051,  0.1456,\n",
       "         -0.1308,  0.3338,  0.1367,  0.3693, -0.1172,  0.3153,  0.4057, -0.1361,\n",
       "          0.1985, -0.1725,  0.0735,  0.3100,  0.0874,  0.0501, -0.2251,  0.0634,\n",
       "         -0.0650, -0.1329],\n",
       "        [-0.3987, -0.1397, -0.2321, -0.1635, -0.0825,  0.2782, -0.2349, -0.1756,\n",
       "          0.3969, -0.1123, -0.2454,  0.1455, -0.0837,  0.2237, -0.0819, -0.1751,\n",
       "          0.0240,  0.3532, -0.1970,  0.0272, -0.3916, -0.2981, -0.1291, -0.1274,\n",
       "          0.1960, -0.1504,  0.0623,  0.4089, -0.0492, -0.3787, -0.3993, -0.0232,\n",
       "          0.2797,  0.0746, -0.3203, -0.3951,  0.1246,  0.0734, -0.0708, -0.3647,\n",
       "          0.1245,  0.1614, -0.1981,  0.3926,  0.1790, -0.3246,  0.3508,  0.2509,\n",
       "         -0.2810,  0.0680]], requires_grad=True)"
      ]
     },
     "execution_count": 12,
     "metadata": {},
     "output_type": "execute_result"
    }
   ],
   "source": [
    "model = GraphSAGE(in_dim=50, hidden_dim=16, out_dim=167)\n",
    "model.load_state_dict(torch.load('model3_initial(graphsage)/initial_weight.pth'))\n",
    "model.layer1.fc_self.weight"
   ]
  },
  {
   "cell_type": "code",
   "execution_count": 13,
   "metadata": {
    "scrolled": true
   },
   "outputs": [
    {
     "data": {
      "application/vnd.jupyter.widget-view+json": {
       "model_id": "c15cb2b9b3bd426789587c3c8eb5f647",
       "version_major": 2,
       "version_minor": 0
      },
      "text/plain": [
       "  0%|          | 0/10 [00:00<?, ?it/s]"
      ]
     },
     "metadata": {},
     "output_type": "display_data"
    },
    {
     "data": {
      "application/vnd.jupyter.widget-view+json": {
       "model_id": "5bdd774312974ff5bbb5af70ce8e8861",
       "version_major": 2,
       "version_minor": 0
      },
      "text/plain": [
       "Training:   0%|          | 0/8250 [00:00<?, ?it/s]"
      ]
     },
     "metadata": {},
     "output_type": "display_data"
    },
    {
     "name": "stdout",
     "output_type": "stream",
     "text": [
      "09/11/2023, 23:16:05# labels of 5000: tensor([ 49,  52,  31,  91,  46,  87, 163,  54,  93, 150, 143, 162, 146,  14,\n",
      "        102,  24], device='cuda:2') torch.Size([16])\n",
      "09/11/2023, 23:16:05# predicted of 5000: tensor([  0, 154,  86, 142,  46,   1,  71,  89,  48,   8,  71,  20, 146, 109,\n",
      "        102,   8], device='cuda:2') torch.Size([16])\n",
      "09/11/2023, 23:17:01# total batches: 8250\n",
      "09/11/2023, 23:17:01# Epoch 0 | Train Loss: 3.5220 | Train Accuracy: 0.2974\n"
     ]
    },
    {
     "data": {
      "application/vnd.jupyter.widget-view+json": {
       "model_id": "bf0127cd7a53487a9d56d22354bab41e",
       "version_major": 2,
       "version_minor": 0
      },
      "text/plain": [
       "Validation:   0%|          | 0/1032 [00:00<?, ?it/s]"
      ]
     },
     "metadata": {},
     "output_type": "display_data"
    },
    {
     "name": "stdout",
     "output_type": "stream",
     "text": [
      "09/11/2023, 23:17:01# labels of Validation: tensor([ 23, 118,   1,  90, 147,  92,  86, 109,  48,  67,  80, 146,  50,  71,\n",
      "        103, 144], device='cuda:2') torch.Size([16])\n",
      "09/11/2023, 23:17:01# predicted of Validation: tensor([ 23, 118, 141,  91, 147, 142,  86,  42,  74,  67,  80, 146,  50,  71,\n",
      "        108,  81], device='cuda:2') torch.Size([16])\n",
      "09/11/2023, 23:17:01# labels of 0: tensor([ 23, 118,   1,  90, 147,  92,  86, 109,  48,  67,  80, 146,  50,  71,\n",
      "        103, 144], device='cuda:2') torch.Size([16])\n",
      "09/11/2023, 23:17:01# predicted of 0: tensor([ 23, 118, 141,  91, 147, 142,  86,  42,  74,  67,  80, 146,  50,  71,\n",
      "        108,  81], device='cuda:2') torch.Size([16])\n",
      "09/11/2023, 23:17:14# labels of Validation: tensor([117,  78,   3,  73,  80,  67,   6,   3,  43, 104, 146, 161, 143,  39,\n",
      "        160,  49], device='cuda:2') torch.Size([16])\n",
      "09/11/2023, 23:17:14# predicted of Validation: tensor([117,  78,  79,  73,  80,  67,   6,   3,  43,  74, 146, 161, 141,  39,\n",
      "        160,  74], device='cuda:2') torch.Size([16])\n",
      "09/11/2023, 23:17:15# Validation Loss: 2.3830 | Validation Accuracy: 0.5217\n",
      "\n",
      "09/11/2023, 23:17:15# Find a better model!!\n"
     ]
    },
    {
     "data": {
      "application/vnd.jupyter.widget-view+json": {
       "model_id": "744215d52ab844e08d35d812c4a6b0e1",
       "version_major": 2,
       "version_minor": 0
      },
      "text/plain": [
       "Training:   0%|          | 0/8250 [00:00<?, ?it/s]"
      ]
     },
     "metadata": {},
     "output_type": "display_data"
    },
    {
     "name": "stdout",
     "output_type": "stream",
     "text": [
      "09/11/2023, 23:18:41# labels of 5000: tensor([110,  89, 121,  82,  20, 128, 131,  13,  40,  58,  46, 135,  71, 117,\n",
      "         19, 133], device='cuda:2') torch.Size([16])\n",
      "09/11/2023, 23:18:41# predicted of 5000: tensor([  8,  89,  48,  82,  20, 128, 131,  13,  40,  71,  46, 135,  71, 117,\n",
      "         19, 133], device='cuda:2') torch.Size([16])\n",
      "09/11/2023, 23:19:37# total batches: 8250\n",
      "09/11/2023, 23:19:37# Epoch 1 | Train Loss: 2.0735 | Train Accuracy: 0.5615\n"
     ]
    },
    {
     "data": {
      "application/vnd.jupyter.widget-view+json": {
       "model_id": "3cfdea50e49048e9ae836bf3193f60ea",
       "version_major": 2,
       "version_minor": 0
      },
      "text/plain": [
       "Validation:   0%|          | 0/1032 [00:00<?, ?it/s]"
      ]
     },
     "metadata": {},
     "output_type": "display_data"
    },
    {
     "name": "stdout",
     "output_type": "stream",
     "text": [
      "09/11/2023, 23:19:37# labels of Validation: tensor([151,  59,  32,  81, 139, 113,  78,  31,  16, 127, 117,  10, 125,   5,\n",
      "         32, 125], device='cuda:2') torch.Size([16])\n",
      "09/11/2023, 23:19:37# predicted of Validation: tensor([ 58,  91,  32,  12, 139, 113,  67, 116,  16, 127, 117,  10,  58,   5,\n",
      "         32,  54], device='cuda:2') torch.Size([16])\n",
      "09/11/2023, 23:19:37# labels of 0: tensor([151,  59,  32,  81, 139, 113,  78,  31,  16, 127, 117,  10, 125,   5,\n",
      "         32, 125], device='cuda:2') torch.Size([16])\n",
      "09/11/2023, 23:19:37# predicted of 0: tensor([ 58,  91,  32,  12, 139, 113,  67, 116,  16, 127, 117,  10,  58,   5,\n",
      "         32,  54], device='cuda:2') torch.Size([16])\n",
      "09/11/2023, 23:19:51# labels of Validation: tensor([ 81,  17, 131,  27,   1, 137,  13, 138, 108,  20,   3,  99,  45,  43,\n",
      "          2,  27], device='cuda:2') torch.Size([16])\n",
      "09/11/2023, 23:19:51# predicted of Validation: tensor([ 37,  17,  91,  27,  57, 137,  13, 138, 131,  20,   3,  99,  45,  43,\n",
      "         21,  27], device='cuda:2') torch.Size([16])\n",
      "09/11/2023, 23:19:51# Validation Loss: 1.8873 | Validation Accuracy: 0.5806\n",
      "\n",
      "09/11/2023, 23:19:51# Find a better model!!\n"
     ]
    },
    {
     "data": {
      "application/vnd.jupyter.widget-view+json": {
       "model_id": "87bbacc9609840f68a42bd73b46f1d56",
       "version_major": 2,
       "version_minor": 0
      },
      "text/plain": [
       "Training:   0%|          | 0/8250 [00:00<?, ?it/s]"
      ]
     },
     "metadata": {},
     "output_type": "display_data"
    },
    {
     "name": "stdout",
     "output_type": "stream",
     "text": [
      "09/11/2023, 23:21:16# labels of 5000: tensor([  8,  74, 137, 125,   8, 163,  55,  57,  51,  63,   9, 143, 151, 165,\n",
      "        128,  19], device='cuda:2') torch.Size([16])\n",
      "09/11/2023, 23:21:16# predicted of 5000: tensor([ 59,  30, 137,  81, 166,  58,  53,  14,  51,  63,   1,  58,  76, 165,\n",
      "        128,  19], device='cuda:2') torch.Size([16])\n",
      "09/11/2023, 23:22:11# total batches: 8250\n",
      "09/11/2023, 23:22:11# Epoch 2 | Train Loss: 1.7981 | Train Accuracy: 0.5854\n"
     ]
    },
    {
     "data": {
      "application/vnd.jupyter.widget-view+json": {
       "model_id": "6f4161caebc849ae95c9fd9f1be4ae78",
       "version_major": 2,
       "version_minor": 0
      },
      "text/plain": [
       "Validation:   0%|          | 0/1032 [00:00<?, ?it/s]"
      ]
     },
     "metadata": {},
     "output_type": "display_data"
    },
    {
     "name": "stdout",
     "output_type": "stream",
     "text": [
      "09/11/2023, 23:22:11# labels of Validation: tensor([ 62,  36,  81,  28, 125, 105,  56,  88, 163,  60, 131, 121,  21,  76,\n",
      "         48,  42], device='cuda:2') torch.Size([16])\n",
      "09/11/2023, 23:22:11# predicted of Validation: tensor([ 62,  58,  60,  28,  14, 105,  56,  90,  60,  11,  51,  49,  21,  60,\n",
      "         60,  60], device='cuda:2') torch.Size([16])\n",
      "09/11/2023, 23:22:11# labels of 0: tensor([ 62,  36,  81,  28, 125, 105,  56,  88, 163,  60, 131, 121,  21,  76,\n",
      "         48,  42], device='cuda:2') torch.Size([16])\n",
      "09/11/2023, 23:22:11# predicted of 0: tensor([ 62,  58,  60,  28,  14, 105,  56,  90,  60,  11,  51,  49,  21,  60,\n",
      "         60,  60], device='cuda:2') torch.Size([16])\n",
      "09/11/2023, 23:22:25# labels of Validation: tensor([131,  92,  54,  81,  69, 155, 111, 163,  75,  25, 123, 165,  26,  40,\n",
      "        128, 110], device='cuda:2') torch.Size([16])\n",
      "09/11/2023, 23:22:25# predicted of Validation: tensor([ 51,  60,  60,  60,  69, 155,  60, 138,  58,  25, 123, 165,  26,  40,\n",
      "        128,  21], device='cuda:2') torch.Size([16])\n",
      "09/11/2023, 23:22:26# Validation Loss: 1.7460 | Validation Accuracy: 0.5862\n",
      "\n",
      "09/11/2023, 23:22:26# Find a better model!!\n"
     ]
    },
    {
     "data": {
      "application/vnd.jupyter.widget-view+json": {
       "model_id": "b59ae74ba4574e4780ed76148313909d",
       "version_major": 2,
       "version_minor": 0
      },
      "text/plain": [
       "Training:   0%|          | 0/8250 [00:00<?, ?it/s]"
      ]
     },
     "metadata": {},
     "output_type": "display_data"
    },
    {
     "name": "stdout",
     "output_type": "stream",
     "text": [
      "09/11/2023, 23:23:51# labels of 5000: tensor([ 90,  72,  94, 152,  86,  14,  52, 130,  87,   0, 155, 164,   1, 133,\n",
      "         89,  49], device='cuda:2') torch.Size([16])\n",
      "09/11/2023, 23:23:51# predicted of 5000: tensor([103,  62,  94,  53,  86,  60,  52, 130,  60,   0, 155,  60,  57, 133,\n",
      "         89,  60], device='cuda:2') torch.Size([16])\n",
      "09/11/2023, 23:24:46# total batches: 8250\n",
      "09/11/2023, 23:24:46# Epoch 3 | Train Loss: 1.7023 | Train Accuracy: 0.5917\n"
     ]
    },
    {
     "data": {
      "application/vnd.jupyter.widget-view+json": {
       "model_id": "fe200ee083f04e1ca79de915ca9c4628",
       "version_major": 2,
       "version_minor": 0
      },
      "text/plain": [
       "Validation:   0%|          | 0/1032 [00:00<?, ?it/s]"
      ]
     },
     "metadata": {},
     "output_type": "display_data"
    },
    {
     "name": "stdout",
     "output_type": "stream",
     "text": [
      "09/11/2023, 23:24:46# labels of Validation: tensor([ 21,  67,  92, 122,  23,  35,  43,   5,  79, 122,  55,  52, 149,  31,\n",
      "         62, 116], device='cuda:2') torch.Size([16])\n",
      "09/11/2023, 23:24:46# predicted of Validation: tensor([ 21,  78, 150, 122,  23,  35,  43,   5,  79, 122,  75,  52, 149, 144,\n",
      "         62,  75], device='cuda:2') torch.Size([16])\n",
      "09/11/2023, 23:24:46# labels of 0: tensor([ 21,  67,  92, 122,  23,  35,  43,   5,  79, 122,  55,  52, 149,  31,\n",
      "         62, 116], device='cuda:2') torch.Size([16])\n",
      "09/11/2023, 23:24:46# predicted of 0: tensor([ 21,  78, 150, 122,  23,  35,  43,   5,  79, 122,  75,  52, 149, 144,\n",
      "         62,  75], device='cuda:2') torch.Size([16])\n",
      "09/11/2023, 23:25:00# labels of Validation: tensor([ 87,  52,  45,  61,  62, 135,  93, 135,  20, 155, 164,   3,   5,  25,\n",
      "         35,  90], device='cuda:2') torch.Size([16])\n",
      "09/11/2023, 23:25:00# predicted of Validation: tensor([ 75,  52,  45,  61,  62, 135,  93, 135,  40, 155,  24,   3,   5,  25,\n",
      "         35, 113], device='cuda:2') torch.Size([16])\n",
      "09/11/2023, 23:25:00# Validation Loss: 1.6944 | Validation Accuracy: 0.5911\n",
      "\n",
      "09/11/2023, 23:25:00# Find a better model!!\n"
     ]
    },
    {
     "data": {
      "application/vnd.jupyter.widget-view+json": {
       "model_id": "65c6d3c0473f406a96cc2253ab720a88",
       "version_major": 2,
       "version_minor": 0
      },
      "text/plain": [
       "Training:   0%|          | 0/8250 [00:00<?, ?it/s]"
      ]
     },
     "metadata": {},
     "output_type": "display_data"
    },
    {
     "name": "stdout",
     "output_type": "stream",
     "text": [
      "09/11/2023, 23:26:25# labels of 5000: tensor([ 44, 163,   5,  35,  96,  94,  66, 115,  99,  29, 135,  16, 103,  19,\n",
      "        115,  69], device='cuda:2') torch.Size([16])\n",
      "09/11/2023, 23:26:25# predicted of 5000: tensor([  4,  55,   5,  35,  96,  94,  66, 115,  99,  29, 135,  16,  21,  19,\n",
      "        115,  69], device='cuda:2') torch.Size([16])\n",
      "09/11/2023, 23:27:21# total batches: 8250\n",
      "09/11/2023, 23:27:21# Epoch 4 | Train Loss: 1.6546 | Train Accuracy: 0.5956\n"
     ]
    },
    {
     "data": {
      "application/vnd.jupyter.widget-view+json": {
       "model_id": "71a306b5621644049fba9616d09beb61",
       "version_major": 2,
       "version_minor": 0
      },
      "text/plain": [
       "Validation:   0%|          | 0/1032 [00:00<?, ?it/s]"
      ]
     },
     "metadata": {},
     "output_type": "display_data"
    },
    {
     "name": "stdout",
     "output_type": "stream",
     "text": [
      "09/11/2023, 23:27:21# labels of Validation: tensor([147, 102,  48, 120, 100,   0, 127, 166, 144, 150, 144,  73,  47,  27,\n",
      "        111,  14], device='cuda:2') torch.Size([16])\n",
      "09/11/2023, 23:27:21# predicted of Validation: tensor([147, 102,  48, 120, 100,   0, 127, 166,  47,  83, 100,  73,  76,  27,\n",
      "         48,  48], device='cuda:2') torch.Size([16])\n",
      "09/11/2023, 23:27:21# labels of 0: tensor([147, 102,  48, 120, 100,   0, 127, 166, 144, 150, 144,  73,  47,  27,\n",
      "        111,  14], device='cuda:2') torch.Size([16])\n",
      "09/11/2023, 23:27:21# predicted of 0: tensor([147, 102,  48, 120, 100,   0, 127, 166,  47,  83, 100,  73,  76,  27,\n",
      "         48,  48], device='cuda:2') torch.Size([16])\n",
      "09/11/2023, 23:27:34# labels of Validation: tensor([107,  94,   3,   2, 114,  10,  27,  74,  78, 137, 146,  71, 108,  69,\n",
      "        157,  77], device='cuda:2') torch.Size([16])\n",
      "09/11/2023, 23:27:34# predicted of Validation: tensor([107,  94,   3,  83,  21,  10,  27,  48,  67, 137, 146,  71, 131,  69,\n",
      "         48,  77], device='cuda:2') torch.Size([16])\n",
      "09/11/2023, 23:27:35# Validation Loss: 1.6481 | Validation Accuracy: 0.5929\n",
      "\n",
      "09/11/2023, 23:27:35# Find a better model!!\n"
     ]
    },
    {
     "data": {
      "application/vnd.jupyter.widget-view+json": {
       "model_id": "289b889f39754e7c9fc044f3cf85715d",
       "version_major": 2,
       "version_minor": 0
      },
      "text/plain": [
       "Training:   0%|          | 0/8250 [00:00<?, ?it/s]"
      ]
     },
     "metadata": {},
     "output_type": "display_data"
    },
    {
     "name": "stdout",
     "output_type": "stream",
     "text": [
      "09/11/2023, 23:29:02# labels of 5000: tensor([165,  60,  44, 119,  84, 144,  44,   0,  89,  38,  45, 143,  93,  57,\n",
      "         77,  39], device='cuda:2') torch.Size([16])\n",
      "09/11/2023, 23:29:02# predicted of 5000: tensor([165, 124, 143, 143,  84, 124,  48,   0,  89,  46,  45,  76, 110, 124,\n",
      "         77,  39], device='cuda:2') torch.Size([16])\n",
      "09/11/2023, 23:29:57# total batches: 8250\n",
      "09/11/2023, 23:29:57# Epoch 5 | Train Loss: 1.6267 | Train Accuracy: 0.5971\n"
     ]
    },
    {
     "data": {
      "application/vnd.jupyter.widget-view+json": {
       "model_id": "99800e11e8114ccdbabd5a0a64541995",
       "version_major": 2,
       "version_minor": 0
      },
      "text/plain": [
       "Validation:   0%|          | 0/1032 [00:00<?, ?it/s]"
      ]
     },
     "metadata": {},
     "output_type": "display_data"
    },
    {
     "name": "stdout",
     "output_type": "stream",
     "text": [
      "09/11/2023, 23:29:57# labels of Validation: tensor([134, 157, 153,  70,  88, 145,  17,  99,  78, 146,  82,  97, 143,  71,\n",
      "         12, 149], device='cuda:2') torch.Size([16])\n",
      "09/11/2023, 23:29:57# predicted of Validation: tensor([134,  34, 153,  70,  90, 145,  17,  99,  78, 146,  82,  81,  76,  71,\n",
      "        137, 149], device='cuda:2') torch.Size([16])\n",
      "09/11/2023, 23:29:57# labels of 0: tensor([134, 157, 153,  70,  88, 145,  17,  99,  78, 146,  82,  97, 143,  71,\n",
      "         12, 149], device='cuda:2') torch.Size([16])\n",
      "09/11/2023, 23:29:57# predicted of 0: tensor([134,  34, 153,  70,  90, 145,  17,  99,  78, 146,  82,  81,  76,  71,\n",
      "        137, 149], device='cuda:2') torch.Size([16])\n",
      "09/11/2023, 23:30:11# labels of Validation: tensor([141, 100,  77,  83,  13, 154,  77, 140,  39,  73, 166,  81,  59, 142,\n",
      "         96, 147], device='cuda:2') torch.Size([16])\n",
      "09/11/2023, 23:30:11# predicted of Validation: tensor([141, 100,  77,  47,  13, 154,  77, 140,  39,  73, 166,  58,  90,  34,\n",
      "         96, 147], device='cuda:2') torch.Size([16])\n",
      "09/11/2023, 23:30:12# Validation Loss: 1.6279 | Validation Accuracy: 0.5967\n",
      "\n",
      "09/11/2023, 23:30:12# Find a better model!!\n"
     ]
    },
    {
     "data": {
      "application/vnd.jupyter.widget-view+json": {
       "model_id": "b609c710ae464d31bc95b2b42ca17da5",
       "version_major": 2,
       "version_minor": 0
      },
      "text/plain": [
       "Training:   0%|          | 0/8250 [00:00<?, ?it/s]"
      ]
     },
     "metadata": {},
     "output_type": "display_data"
    },
    {
     "name": "stdout",
     "output_type": "stream",
     "text": [
      "09/11/2023, 23:31:37# labels of 5000: tensor([158, 140,  71,  96,  80, 111, 134,  15,  78, 142,   4, 155, 107, 164,\n",
      "         89,  31], device='cuda:2') torch.Size([16])\n",
      "09/11/2023, 23:31:37# predicted of 5000: tensor([ 87, 140,  71,  96,  80, 160, 134,  15,  78,  87,  58, 155, 107,  57,\n",
      "         89, 103], device='cuda:2') torch.Size([16])\n",
      "09/11/2023, 23:32:32# total batches: 8250\n",
      "09/11/2023, 23:32:32# Epoch 6 | Train Loss: 1.6076 | Train Accuracy: 0.5986\n"
     ]
    },
    {
     "data": {
      "application/vnd.jupyter.widget-view+json": {
       "model_id": "4a90b388f2f1491dbd235fa9a1655fd8",
       "version_major": 2,
       "version_minor": 0
      },
      "text/plain": [
       "Validation:   0%|          | 0/1032 [00:00<?, ?it/s]"
      ]
     },
     "metadata": {},
     "output_type": "display_data"
    },
    {
     "name": "stdout",
     "output_type": "stream",
     "text": [
      "09/11/2023, 23:32:32# labels of Validation: tensor([ 95, 138, 129, 160,  97, 109, 109, 128, 126, 114,  41, 129,  24,  23,\n",
      "        115,  20], device='cuda:2') torch.Size([16])\n",
      "09/11/2023, 23:32:32# predicted of Validation: tensor([ 95, 138, 129, 160,  92, 104,  42, 128, 126, 123,  41, 129, 143,  23,\n",
      "        115,  20], device='cuda:2') torch.Size([16])\n",
      "09/11/2023, 23:32:32# labels of 0: tensor([ 95, 138, 129, 160,  97, 109, 109, 128, 126, 114,  41, 129,  24,  23,\n",
      "        115,  20], device='cuda:2') torch.Size([16])\n",
      "09/11/2023, 23:32:32# predicted of 0: tensor([ 95, 138, 129, 160,  92, 104,  42, 128, 126, 123,  41, 129, 143,  23,\n",
      "        115,  20], device='cuda:2') torch.Size([16])\n",
      "09/11/2023, 23:32:45# labels of Validation: tensor([ 84, 110, 142,  16,  23,  31,  74,  99, 124, 116,  97,  45,  71,  46,\n",
      "        155,  41], device='cuda:2') torch.Size([16])\n",
      "09/11/2023, 23:32:45# predicted of Validation: tensor([ 84,  90,  55,  16,  23, 104, 143,  99,  55, 143, 119,  45,  71,  46,\n",
      "        155,  41], device='cuda:2') torch.Size([16])\n",
      "09/11/2023, 23:32:46# Validation Loss: 1.6093 | Validation Accuracy: 0.5990\n",
      "\n",
      "09/11/2023, 23:32:46# Find a better model!!\n"
     ]
    },
    {
     "data": {
      "application/vnd.jupyter.widget-view+json": {
       "model_id": "7122a73fa3224a23b97c4f244d53347a",
       "version_major": 2,
       "version_minor": 0
      },
      "text/plain": [
       "Training:   0%|          | 0/8250 [00:00<?, ?it/s]"
      ]
     },
     "metadata": {},
     "output_type": "display_data"
    },
    {
     "name": "stdout",
     "output_type": "stream",
     "text": [
      "09/11/2023, 23:34:12# labels of 5000: tensor([135,  98, 158, 103,  67,  25,  73,  73,  29,  12,  43, 125,  63,  75,\n",
      "         66,  67], device='cuda:2') torch.Size([16])\n",
      "09/11/2023, 23:34:12# predicted of 5000: tensor([135,  98,   9,  91,  67,  25,  73,  73,  29,   9,  43,   9,  63,   4,\n",
      "         66,  67], device='cuda:2') torch.Size([16])\n",
      "09/11/2023, 23:35:08# total batches: 8250\n",
      "09/11/2023, 23:35:08# Epoch 7 | Train Loss: 1.5946 | Train Accuracy: 0.5995\n"
     ]
    },
    {
     "data": {
      "application/vnd.jupyter.widget-view+json": {
       "model_id": "85689dcf5e2f4f53a984c79d6f97ec23",
       "version_major": 2,
       "version_minor": 0
      },
      "text/plain": [
       "Validation:   0%|          | 0/1032 [00:00<?, ?it/s]"
      ]
     },
     "metadata": {},
     "output_type": "display_data"
    },
    {
     "name": "stdout",
     "output_type": "stream",
     "text": [
      "09/11/2023, 23:35:08# labels of Validation: tensor([164, 108,   3,  72,  86, 160, 113, 154,  59, 110,  45,  57,  84, 110,\n",
      "         50,  93], device='cuda:2') torch.Size([16])\n",
      "09/11/2023, 23:35:08# predicted of Validation: tensor([104, 131,   3,  72,  86, 160, 113, 154,  64,  68,  45, 104,  84,  91,\n",
      "         50,  91], device='cuda:2') torch.Size([16])\n",
      "09/11/2023, 23:35:08# labels of 0: tensor([164, 108,   3,  72,  86, 160, 113, 154,  59, 110,  45,  57,  84, 110,\n",
      "         50,  93], device='cuda:2') torch.Size([16])\n",
      "09/11/2023, 23:35:08# predicted of 0: tensor([104, 131,   3,  72,  86, 160, 113, 154,  64,  68,  45, 104,  84,  91,\n",
      "         50,  91], device='cuda:2') torch.Size([16])\n",
      "09/11/2023, 23:35:21# labels of Validation: tensor([ 24,  72,  21,  40, 166, 145,  94,  92, 152,  60,  59, 125,   2,  21,\n",
      "        144,  29], device='cuda:2') torch.Size([16])\n",
      "09/11/2023, 23:35:21# predicted of Validation: tensor([ 31,  79,  21,  40, 166, 145,  94, 144,  76,  31,  91, 142,  31,  21,\n",
      "        158,  29], device='cuda:2') torch.Size([16])\n",
      "09/11/2023, 23:35:22# Validation Loss: 1.6077 | Validation Accuracy: 0.5977\n",
      "\n",
      "09/11/2023, 23:35:22# Find a better model!!\n"
     ]
    },
    {
     "data": {
      "application/vnd.jupyter.widget-view+json": {
       "model_id": "c643d44cc66a4abf810497e7fbd88a80",
       "version_major": 2,
       "version_minor": 0
      },
      "text/plain": [
       "Training:   0%|          | 0/8250 [00:00<?, ?it/s]"
      ]
     },
     "metadata": {},
     "output_type": "display_data"
    },
    {
     "name": "stdout",
     "output_type": "stream",
     "text": [
      "09/11/2023, 23:36:47# labels of 5000: tensor([159, 139,  61,  20, 148, 126,  38,  55,  93,  31,  34,  26, 129, 164,\n",
      "        144,  89], device='cuda:2') torch.Size([16])\n",
      "09/11/2023, 23:36:47# predicted of 5000: tensor([159, 139,  61,  20, 148, 126,  92,  92, 100, 124,   4,  26, 129,  31,\n",
      "         44,  89], device='cuda:2') torch.Size([16])\n",
      "09/11/2023, 23:37:42# total batches: 8250\n",
      "09/11/2023, 23:37:42# Epoch 8 | Train Loss: 1.5841 | Train Accuracy: 0.6013\n"
     ]
    },
    {
     "data": {
      "application/vnd.jupyter.widget-view+json": {
       "model_id": "325e5a27b0c8456a8f07164fae827a9f",
       "version_major": 2,
       "version_minor": 0
      },
      "text/plain": [
       "Validation:   0%|          | 0/1032 [00:00<?, ?it/s]"
      ]
     },
     "metadata": {},
     "output_type": "display_data"
    },
    {
     "name": "stdout",
     "output_type": "stream",
     "text": [
      "09/11/2023, 23:37:42# labels of Validation: tensor([ 26, 136, 111, 166, 144,  92,  43,  78,  64,  54,  77, 124,  79, 100,\n",
      "         46, 164], device='cuda:2') torch.Size([16])\n",
      "09/11/2023, 23:37:42# predicted of Validation: tensor([ 26, 136,   4, 166,  12, 124,  43,  67,  68, 124,  77,  76,  35, 100,\n",
      "         46, 124], device='cuda:2') torch.Size([16])\n",
      "09/11/2023, 23:37:42# labels of 0: tensor([ 26, 136, 111, 166, 144,  92,  43,  78,  64,  54,  77, 124,  79, 100,\n",
      "         46, 164], device='cuda:2') torch.Size([16])\n",
      "09/11/2023, 23:37:42# predicted of 0: tensor([ 26, 136,   4, 166,  12, 124,  43,  67,  68, 124,  77,  76,  35, 100,\n",
      "         46, 124], device='cuda:2') torch.Size([16])\n",
      "09/11/2023, 23:37:56# labels of Validation: tensor([ 61, 152,  53,  58,  66,  90,  62,  14,  25,  11,  56,  75,  60,  94,\n",
      "        130,   4], device='cuda:2') torch.Size([16])\n",
      "09/11/2023, 23:37:56# predicted of Validation: tensor([ 61,  76, 124,  58,  66,  68,  62,  12,  25,  76,  56, 124,  94,  94,\n",
      "        130, 142], device='cuda:2') torch.Size([16])\n",
      "09/11/2023, 23:37:57# Validation Loss: 1.5857 | Validation Accuracy: 0.5977\n",
      "\n",
      "09/11/2023, 23:37:57# Find a better model!!\n"
     ]
    },
    {
     "data": {
      "application/vnd.jupyter.widget-view+json": {
       "model_id": "3dc89d0b84bf4dd9801a964c6665e1b1",
       "version_major": 2,
       "version_minor": 0
      },
      "text/plain": [
       "Training:   0%|          | 0/8250 [00:00<?, ?it/s]"
      ]
     },
     "metadata": {},
     "output_type": "display_data"
    },
    {
     "name": "stdout",
     "output_type": "stream",
     "text": [
      "09/11/2023, 23:39:25# labels of 5000: tensor([  3,  13, 137, 145,  85, 158, 145,  70,  14,  91, 138,  70, 162,  53,\n",
      "         26,  78], device='cuda:2') torch.Size([16])\n",
      "09/11/2023, 23:39:25# predicted of 5000: tensor([  3,  13, 137, 145,  85, 143, 145,  70,  31, 108, 138, 149, 143, 143,\n",
      "         26,  78], device='cuda:2') torch.Size([16])\n",
      "09/11/2023, 23:40:20# total batches: 8250\n",
      "09/11/2023, 23:40:20# Epoch 9 | Train Loss: 1.5769 | Train Accuracy: 0.6013\n"
     ]
    },
    {
     "data": {
      "application/vnd.jupyter.widget-view+json": {
       "model_id": "edd19b00d7fa4ecf9f431032346a85d7",
       "version_major": 2,
       "version_minor": 0
      },
      "text/plain": [
       "Validation:   0%|          | 0/1032 [00:00<?, ?it/s]"
      ]
     },
     "metadata": {},
     "output_type": "display_data"
    },
    {
     "name": "stdout",
     "output_type": "stream",
     "text": [
      "09/11/2023, 23:40:20# labels of Validation: tensor([ 44, 101, 120, 148,  71,  94, 145, 166,  99, 103,  93, 152,  33, 164,\n",
      "        136, 129], device='cuda:2') torch.Size([16])\n",
      "09/11/2023, 23:40:20# predicted of Validation: tensor([125, 101, 120, 148,  71,  94, 145, 166,  99, 114, 103, 125, 125, 125,\n",
      "        136, 129], device='cuda:2') torch.Size([16])\n",
      "09/11/2023, 23:40:20# labels of 0: tensor([ 44, 101, 120, 148,  71,  94, 145, 166,  99, 103,  93, 152,  33, 164,\n",
      "        136, 129], device='cuda:2') torch.Size([16])\n",
      "09/11/2023, 23:40:20# predicted of 0: tensor([125, 101, 120, 148,  71,  94, 145, 166,  99, 114, 103, 125, 125, 125,\n",
      "        136, 129], device='cuda:2') torch.Size([16])\n",
      "09/11/2023, 23:40:34# labels of Validation: tensor([ 97,  43, 108, 134,  67,  67,  99,  78,  36, 116, 152,  31, 102,   7,\n",
      "         62, 120], device='cuda:2') torch.Size([16])\n",
      "09/11/2023, 23:40:34# predicted of Validation: tensor([125,  43, 108, 134,  67,  67,  99,  67, 125, 125, 125,  81, 102,   7,\n",
      "         62, 120], device='cuda:2') torch.Size([16])\n",
      "09/11/2023, 23:40:34# Validation Loss: 1.5917 | Validation Accuracy: 0.5985\n",
      "\n"
     ]
    }
   ],
   "source": [
    "import csv\n",
    "import pandas as pd\n",
    "from sklearn.metrics import classification_report\n",
    "from torch.optim import AdamW, lr_scheduler\n",
    "\n",
    "seed = 8787\n",
    "same_seeds(seed)\n",
    "\n",
    "model = GraphSAGE(in_dim=50, hidden_dim=16, out_dim=167)\n",
    "# in_dim means the dimension of the node_feat(50 dim, since the 50-dim embedding)\n",
    "# out_dim means the # of the categories -> 168 for out tasks\n",
    "model.load_state_dict(torch.load('model3_initial(graphsage)/initial_weight.pth'))\n",
    "best_model_path = \"../checkpoint_graphSAGE/best_model_GraphSAGE_secureBERT_50.pt\"\n",
    "\n",
    "model = model.to(device)\n",
    "\n",
    "# optimizer = torch.optim.AdamW(model.parameters(), lr=1e-5)\n",
    "optimizer = AdamW(model.parameters(), lr=5e-4)\n",
    "# scheduler = get_linear_schedule_with_warmup(optimizer, num_warmup_steps=18, num_training_steps=total_steps)\n",
    "\n",
    "# T_max control the period of the lr changing -> set 1/10 first\n",
    "scheduler = lr_scheduler.CosineAnnealingLR(optimizer, T_max=36, eta_min=0, last_epoch=- 1, verbose=False)\n",
    "\n",
    "\n",
    "criterion = nn.CrossEntropyLoss()\n",
    "# criterion = torch.nn.BCEWithLogitsLoss()\n",
    "\n",
    "total_steps = 10\n",
    "\n",
    "# save the best model\n",
    "best_val_loss = float('inf')\n",
    "patience = 10  # Number of epochs with no improvement after which training will be stopped.\n",
    "waiting = 0  # The number of epochs with no improvement so far.\n",
    "\n",
    "\n",
    "# Training Part\n",
    "for epoch in tqdm(range(total_steps)):\n",
    "    # Train\n",
    "    model.train()\n",
    "    total_loss = 0.0\n",
    "    total_accuracy = 0.0\n",
    "    num_batches = 0\n",
    "    \n",
    "    for data in tqdm(dataloaders['train'], desc=\"Training\", position=0, leave=True):\n",
    "        num_batches += 1\n",
    "        loss, accuracy, _ = model_fn(data, model, criterion, device, num_batches, which_type='train')\n",
    "        \n",
    "        optimizer.zero_grad()\n",
    "        loss.backward()\n",
    "        optimizer.step()\n",
    "\n",
    "        total_loss += loss.item()\n",
    "        total_accuracy += accuracy.item()\n",
    "\n",
    "        \n",
    "#     scheduler.step()\n",
    "    add_log_msg(f\"total batches: {num_batches}\")\n",
    "\n",
    "    avg_loss = total_loss / num_batches\n",
    "    avg_accuracy = total_accuracy / num_batches\n",
    "\n",
    "    add_log_msg(f'Epoch {epoch} | Train Loss: {avg_loss:.4f} | Train Accuracy: {avg_accuracy:.4f}')\n",
    "\n",
    "    \n",
    "    # Validation Part\n",
    "    model.eval()\n",
    "    total_accuracy = 0.0\n",
    "    total_loss = 0.0\n",
    "    num_batches = 0\n",
    "\n",
    "\n",
    "    with torch.no_grad():\n",
    "        for data in tqdm(dataloaders['valid'], desc=\"Validation\", position=0, leave=True):\n",
    "            loss, accuracy, _ = model_fn(data, model, criterion, device, num_batches, which_type='validation')\n",
    "            total_accuracy += accuracy.item()\n",
    "            total_loss += loss.item()\n",
    "            num_batches += 1\n",
    "\n",
    "    avg_accuracy = total_accuracy / num_batches\n",
    "    current_loss = total_loss / num_batches\n",
    "    \n",
    "    add_log_msg(f'Validation Loss: {current_loss:.4f} | Validation Accuracy: {avg_accuracy:.4f}\\n')\n",
    "    \n",
    "            \n",
    "    if current_loss < best_val_loss:\n",
    "        best_val_loss = current_loss\n",
    "        waiting = 0\n",
    "        \n",
    "        if os.path.exists(best_model_path):\n",
    "            os.remove(best_model_path)\n",
    "            add_log_msg(\"Find a better model!!\")\n",
    "\n",
    "        torch.save(model.state_dict(), best_model_path)\n",
    "\n",
    "#         print(best_model_path)\n",
    "\n",
    "    else:\n",
    "        waiting += 1\n",
    "        if waiting >= patience:\n",
    "            add_log_msg(\"============================== Early stopping ==================================\")\n",
    "            break"
   ]
  },
  {
   "cell_type": "markdown",
   "metadata": {},
   "source": [
    "### test of valid and test part is ``graph``"
   ]
  },
  {
   "cell_type": "markdown",
   "metadata": {},
   "source": [
    "- 60 APs in training x 10000times\n",
    "- 5 APs in validation x 4 times\n",
    "- 3 APs in test x 4 times\n",
    "- Batch size = 4"
   ]
  },
  {
   "cell_type": "code",
   "execution_count": 14,
   "metadata": {},
   "outputs": [
    {
     "data": {
      "application/vnd.jupyter.widget-view+json": {
       "model_id": "120bb73f097f4ebb8bc7add0aa94abcc",
       "version_major": 2,
       "version_minor": 0
      },
      "text/plain": [
       "Testing:   0%|          | 0/1032 [00:00<?, ?it/s]"
      ]
     },
     "metadata": {},
     "output_type": "display_data"
    },
    {
     "name": "stdout",
     "output_type": "stream",
     "text": [
      "09/11/2023, 23:40:34# labels of Test: tensor([1, 1, 1, 1, 1, 1, 1, 1, 1, 1, 1, 1, 1, 1, 1, 1], device='cuda:2') torch.Size([16])\n",
      "09/11/2023, 23:40:34# predicted of Test: tensor([ 47,  54,  12,  76, 124,  47,  74,  76, 124,  47,  31, 124,  12,  12,\n",
      "         47,  54], device='cuda:2') torch.Size([16])\n",
      "09/11/2023, 23:40:34# labels of 0: tensor([1, 1, 1, 1, 1, 1, 1, 1, 1, 1, 1, 1, 1, 1, 1, 1], device='cuda:2') torch.Size([16])\n",
      "09/11/2023, 23:40:34# predicted of 0: tensor([ 47,  54,  12,  76, 124,  47,  74,  76, 124,  47,  31, 124,  12,  12,\n",
      "         47,  54], device='cuda:2') torch.Size([16])\n",
      "09/11/2023, 23:40:34# labels: tensor([1, 1, 1, 1, 1, 1, 1, 1, 1, 1, 1, 1, 1, 1, 1, 1], device='cuda:2') torch.Size([16])\n",
      "09/11/2023, 23:40:34# predicted: tensor([ 47,  54,  12,  76, 124,  47,  74,  76, 124,  47,  31, 124,  12,  12,\n",
      "         47,  54], device='cuda:2') torch.Size([16])\n",
      "09/11/2023, 23:40:48# labels of Test: tensor([163, 163, 163, 163, 163, 163, 163, 163, 163, 163, 163, 163, 163, 163,\n",
      "        163, 163], device='cuda:2') torch.Size([16])\n",
      "09/11/2023, 23:40:48# predicted of Test: tensor([124,  31,  12, 142,  12, 124,  12,   4,  12, 124,  74, 124,   4,  12,\n",
      "        124,  12], device='cuda:2') torch.Size([16])\n",
      "09/11/2023, 23:40:48# Test Accuracy: 59.85454545454545 %\n",
      "\n",
      "\n",
      "\n"
     ]
    },
    {
     "name": "stderr",
     "output_type": "stream",
     "text": [
      "/workdir/home/euni/.local/lib/python3.6/site-packages/sklearn/metrics/_classification.py:1248: UndefinedMetricWarning: Precision and F-score are ill-defined and being set to 0.0 in labels with no predicted samples. Use `zero_division` parameter to control this behavior.\n",
      "  _warn_prf(average, modifier, msg_start, len(result))\n",
      "/workdir/home/euni/.local/lib/python3.6/site-packages/sklearn/metrics/_classification.py:1248: UndefinedMetricWarning: Precision and F-score are ill-defined and being set to 0.0 in labels with no predicted samples. Use `zero_division` parameter to control this behavior.\n",
      "  _warn_prf(average, modifier, msg_start, len(result))\n",
      "/workdir/home/euni/.local/lib/python3.6/site-packages/sklearn/metrics/_classification.py:1248: UndefinedMetricWarning: Precision and F-score are ill-defined and being set to 0.0 in labels with no predicted samples. Use `zero_division` parameter to control this behavior.\n",
      "  _warn_prf(average, modifier, msg_start, len(result))\n"
     ]
    },
    {
     "name": "stdout",
     "output_type": "stream",
     "text": [
      "09/11/2023, 23:40:50# report path: classification_report/classification_report-secureBERT_50-graphSAGE-0.xlsx\n",
      "09/11/2023, 23:40:50# label path: classification_report/mapped_true_predicted_labels-secureBERT_50-graphSAGE-0.xlsx\n"
     ]
    },
    {
     "name": "stderr",
     "output_type": "stream",
     "text": [
      "/workdir/home/euni/.local/lib/python3.6/site-packages/sklearn/metrics/_classification.py:1248: UndefinedMetricWarning: Precision and F-score are ill-defined and being set to 0.0 in labels with no predicted samples. Use `zero_division` parameter to control this behavior.\n",
      "  _warn_prf(average, modifier, msg_start, len(result))\n",
      "/workdir/home/euni/.local/lib/python3.6/site-packages/sklearn/metrics/_classification.py:1248: UndefinedMetricWarning: Precision and F-score are ill-defined and being set to 0.0 in labels with no predicted samples. Use `zero_division` parameter to control this behavior.\n",
      "  _warn_prf(average, modifier, msg_start, len(result))\n"
     ]
    },
    {
     "name": "stdout",
     "output_type": "stream",
     "text": [
      "09/11/2023, 23:40:50# mapped_report:\n",
      "                                                precision    recall  f1-score   support\n",
      "\n",
      "T1003.001_0ef4cc7b-611c-4237-b20b-db36b6906554       1.00      1.00      1.00       100\n",
      "    T1003.001_35d92515122effdd73801c6ac3021da7       1.00      1.00      1.00       100\n",
      "    T1003.002_5a484b65c247675e3b7ada4ba648d376       1.00      1.00      1.00       100\n",
      "    T1003.002_7fa4ea18694f2552547b65e23952cabb       0.99      1.00      1.00       100\n",
      "    T1003.003_9f73269695e54311dd61dc68940fb3e1       0.00      0.00      0.00       100\n",
      "    T1003.003_f049b89533298c2d6cd37a940248b219       0.12      0.02      0.03       100\n",
      "        T1003_18f31c311ac208802e88ab8d5af8603e       1.00      1.00      1.00       100\n",
      "        T1007_9d03c91bdae5a80f17f89c987942b5a8       0.98      0.94      0.96       100\n",
      "    T1007_c6607391-d02c-44b5-9b13-d3492ca58599       0.00      0.00      0.00       100\n",
      "        T1007_d6bb2a19da7246731ed9c44831b135f8       0.18      0.09      0.12       100\n",
      "    T1016_14a21534-350f-4d83-9dd7-3c56b93a0c17       0.00      0.00      0.00       100\n",
      "        T1016_71b3d2945679566b9d94d8cb11df4b70       0.00      0.00      0.00       100\n",
      "        T1016_7d8ee68f0e9731db82964f558f614608       0.52      0.13      0.21       100\n",
      "    T1016_921055f4-5970-4707-909e-62f594234d91       0.00      0.00      0.00       100\n",
      "    T1016_a0676fe1-cd52-482e-8dde-349b73f9aa69       0.00      0.00      0.00       100\n",
      "    T1016_e8017c46-acb8-400c-a4b5-b3362b5b5baa       0.00      0.00      0.00       100\n",
      "    T1018_26c8b8b5-7b5b-4de1-a128-7d37fb14f517       0.03      0.04      0.03       100\n",
      "        T1018_a44bb43474728496276d5d73aa14588f       0.00      0.00      0.00       100\n",
      "        T1018_ac20e592bc912bddff4d6b88289095f0       0.01      0.01      0.01       100\n",
      "    T1021.001_dd67068b052fa553ad4a0ac7d6a5ea89       0.99      1.00      1.00       100\n",
      "    T1033_bd527b63-9f9e-46e0-9816-b8434d2b8989       0.02      0.05      0.03       100\n",
      "    T1033_c0da588f-79f0-4263-8998-7496b1a40596       0.00      0.00      0.00       100\n",
      "    T1036.003_04e8d83e7badf098d50800d6aa1dd487       0.94      1.00      0.97       100\n",
      "    T1036.003_f5ef8466e5ebcd2ae03f338d9416069c       1.00      1.00      1.00       100\n",
      "    T1036.004_1f0614ea5c4af6faf1b44570f5f22f8a       0.00      0.00      0.00       100\n",
      "    T1036.004_7de3d7b4922a7b996d8df36fb22bb118       0.06      0.01      0.02       100\n",
      "    T1037.001_62cfa90fb03a6bc1a6ebcce8a3ea81b7       0.99      1.00      1.00       100\n",
      "        T1040_6881a4589710d53f0c146e91db513f01       1.00      1.00      1.00       100\n",
      "        T1047_09e0f9cf2eb803a1c35deeecf3665fad       0.00      0.00      0.00       100\n",
      "        T1047_6935e41353aa781bb723462d26114c44       0.00      0.00      0.00       100\n",
      "        T1047_ac122553ab4426ea3362bb4a97d31bfd       0.00      0.00      0.00       100\n",
      "        T1047_ac2764f7a67a9ce92b54e8e59b361838       0.02      0.07      0.03       100\n",
      "        T1047_b0255b5120cbabc062d8d4510a142c3b       0.02      0.22      0.04       100\n",
      "        T1047_ed736a123da6fb2aab22cfd4f437e8b5       0.00      0.00      0.00       100\n",
      "        T1047_f4b0b4129560ea66f9751275e82f6bab       0.00      0.00      0.00       100\n",
      "    T1049_638fb6bb-ba39-4285-93d1-7e4775b033a8       0.00      0.00      0.00       100\n",
      "        T1049_a14392d713dffba6a397682ff83259a0       0.35      0.06      0.10       100\n",
      "    T1053.005_5db2884b6ca3ab932848f295a3896dc0       0.10      0.68      0.17       100\n",
      "    T1053.005_ee454be9197890de62705ce6255933fd       0.00      0.00      0.00       100\n",
      "T1055.001_a74bc239-a196-4f7e-8d5c-fe8c0266071c       0.00      0.00      0.00       100\n",
      "T1055.002_e5bcefee-262d-4568-a261-e8a20855ec81       0.00      0.00      0.00       100\n",
      "    T1057_5a39d7ed-45c9-4a79-b581-e5fb99e24f65       0.00      0.00      0.00       100\n",
      "    T1057_8adf02e8-6e71-4244-886c-98c402857404       1.00      0.99      0.99       100\n",
      "        T1057_b2a1e430ca6d36eb5af2fe666e769847       0.03      0.04      0.03       100\n",
      "        T1057_f8de05d1741dcc468f772ab0ff4dac72       0.00      0.00      0.00       100\n",
      "T1059.001_55678719-e76e-4df9-92aa-10655bbd1cf4       1.00      0.95      0.97       100\n",
      "    T1059.001_6efbccc1869e8cd618c0d3ecda407d5f       1.00      1.00      1.00       100\n",
      "T1059.001_702bfdd2-9947-4eda-b551-c3a1ea9a59a2       1.00      1.00      1.00       100\n",
      "T1059.001_bfff9006-d1fb-46ce-b173-92cb04e9a031       1.00      1.00      1.00       100\n",
      "T1059.001_ccdb8caf-c69e-424b-b930-551969450c57       0.85      1.00      0.92       100\n",
      "T1059.001_e5f9de8f-3df1-4e78-ad92-a784e3f6770d       1.00      1.00      1.00       100\n",
      "    T1059.003_6c318ef0339d74d909ad556681b6493e       0.43      1.00      0.61       100\n",
      "    T1059.003_f38e58deb7ad20b5538ca40db7b7b4f8       0.75      1.00      0.86       100\n",
      "T1069.001_5c4dd985-89e3-4590-9b57-71fed66ff4e2       0.99      1.00      1.00       100\n",
      "    T1069.001_a1f48fa3ddee658b29b414523c9a295b       0.00      0.00      0.00       100\n",
      "    T1069.002_6103e503cb444bc7b4187704f2035708       0.28      0.80      0.42       100\n",
      "    T1070.005_1f91076e2be2014cc7b4f1296de02fd6       0.99      1.00      1.00       100\n",
      "    T1071.001_24c3b7b004401d839a5c337201da3484       0.96      0.99      0.98       100\n",
      "T1074.001_4e97e699-93d7-4040-b5a3-2e906a58199e       0.91      1.00      0.95       100\n",
      "T1074.001_6469befa-748a-4b9c-a96d-f191fde47d89       0.99      1.00      1.00       100\n",
      "    T1074.001_e6dfc7e89359ac6fa6de84b0e1d5762e       0.97      0.99      0.98       100\n",
      "    T1078.001_d0ca00832890baa1d42322cf70fcab1a       0.04      0.09      0.05       100\n",
      "    T1082_29451844-9b76-4e16-a9ee-d6feab4b24db       0.00      0.00      0.00       100\n",
      "    T1083_52177cc1-b9ab-4411-ac21-2eadc4b5d3b8       0.99      1.00      1.00       100\n",
      "    T1083_6e1a53c0-7352-4899-be35-fa7f364d5722       0.00      0.00      0.00       100\n",
      "    T1087.001_6334877e8e3ba48f7835d4856d90a282       0.85      1.00      0.92       100\n",
      "T1087.001_feaced8f-f43f-452a-9500-a5219488abb8       0.00      0.00      0.00       100\n",
      "    T1090.001_ba343199a4f15ed6b57eb52412f62e4e       0.63      0.29      0.40       100\n",
      "        T1105_0856c235a1d26113d4f2d92e39c9a9f8       0.97      0.98      0.98       100\n",
      "        T1105_1095434782a00c8a4772a11e625bcf5d       0.92      1.00      0.96       100\n",
      "        T1105_4f683658f161ccdc51337c470d32bab9       1.00      1.00      1.00       100\n",
      "    T1105_60f63260-39bb-4136-87a0-b6c2dca799fc       1.00      1.00      1.00       100\n",
      "        T1105_c521e0a70b243a0cf9217907ca3c6d27       1.00      1.00      1.00       100\n",
      "        T1105_c76968acda4aa1673dadcd67f3ab7664       1.00      1.00      1.00       100\n",
      "        T1105_e6715e61f5df646692c624b3499384c4       1.00      1.00      1.00       100\n",
      "    T1105_eb814e03-811a-467a-bc6d-dcd453750fa2       1.00      1.00      1.00       100\n",
      "        T1112_257313a3c93e3bb7dfb60d6753b09e34       0.96      1.00      0.98       100\n",
      "        T1112_34041639e6e501856ecaf5969ee29c76       0.93      1.00      0.97       100\n",
      "        T1112_35c0360d226cf38104f300d9d57ce60e       0.97      1.00      0.99       100\n",
      "        T1112_4bfb5f265a5ce07af6bf10da113af7db       0.92      1.00      0.96       100\n",
      "        T1112_7fe6a66d03f4dbfc022609ba311c2b11       0.93      0.99      0.96       100\n",
      "        T1112_ba6f6214dbd17c54001e0a163b60f151       0.98      1.00      0.99       100\n",
      "        T1112_cab7b85611a290c0769546bfa9d6f962       0.99      1.00      1.00       100\n",
      "        T1112_cd8be0e6b873919da25530a2c7ea6750       0.93      1.00      0.96       100\n",
      "        T1112_e74d2fb4ef5fa6c766a4151554033697       0.98      1.00      0.99       100\n",
      "        T1112_e7a987cbef27263e666e5b096488dc55       1.00      1.00      1.00       100\n",
      "        T1112_fa4ba6a06b4a5cd955ea5a60fae24281       0.98      1.00      0.99       100\n",
      "        T1112_fd992e8ecfdac9b56dd6868904044827       0.99      1.00      1.00       100\n",
      "    T1113_316251ed-6a28-4013-812b-ddf5b5b007f8       0.96      1.00      0.98       100\n",
      "        T1115_70795de7cbb842edb029b3378c27c008       0.99      1.00      1.00       100\n",
      "    T1115_b007fe0c-c6b0-4fda-915c-255bbc070de2       0.00      0.00      0.00       100\n",
      "        T1119_344e7eaf650763e0d3e9f02e62c1cf4b       1.00      1.00      1.00       100\n",
      "        T1119_7121cdf93b951311be9d7078c602efdc       0.97      1.00      0.99       100\n",
      "        T1120_7b9c7afaefa59aab759b49af0d699ac1       1.00      1.00      1.00       100\n",
      "        T1123_372e6f46fca18e4f1b43209c20ffafa2       1.00      1.00      1.00       100\n",
      "    T1124_fa6e8607-e0b1-425d-8924-9b894da5a002       0.11      0.02      0.03       100\n",
      "        T1125_da86001b5081fcf773d8e62f22cf2b00       1.00      1.00      1.00       100\n",
      "    T1135_530e47c6-8592-42bf-91df-c59ffbd8541b       0.02      0.03      0.02       100\n",
      "    T1135_deeac480-5c2a-42b5-90bb-41675ee53c7e       0.00      0.00      0.00       100\n",
      "    T1137.002_e2af3c3ab1b0f659c874b8af58c49759       1.00      0.99      0.99       100\n",
      "        T1137_12ad9edefc86af07700fbf49bfdac6ba       1.00      1.00      1.00       100\n",
      "        T1201_38f6f0e50a6b196140ec40d3dc9cc9e6       0.00      0.00      0.00       100\n",
      "        T1201_57296a2ddbeb7423c05feef2fe972111       0.04      0.02      0.03       100\n",
      "    T1204.002_522f3f35cd013e63830fa555495a0081       0.86      1.00      0.93       100\n",
      "        T1217_69bbe2183fa09c00ccaac62d48e214f8       0.99      0.99      0.99       100\n",
      "        T1217_f7a0f7d704aa52a764d9d1bee81e65d6       0.00      0.00      0.00       100\n",
      "        T1219_7dabcbecab0334b115feefab1630f84a       1.00      1.00      1.00       100\n",
      "        T1219_af8cb2bf9b436aae5c106a0a9c207e14       0.99      1.00      1.00       100\n",
      "        T1219_f1b3fca18d7465cd10e5a7477a3bf97d       1.00      1.00      1.00       100\n",
      "    T1482_6131397e-7765-424e-a594-3d7fb2d93a6a       1.00      1.00      1.00       100\n",
      "        T1482_cfb61005899996469ae3023796792ca5       0.00      0.00      0.00       100\n",
      "        T1486_d82ceb9939d3d920ee550187ad8235c8       0.88      1.00      0.93       100\n",
      "        T1490_2d53d6fabd39bf9c70b0dfcdfbbc926d       0.00      0.00      0.00       100\n",
      "        T1490_8467c994685ccf178db166964bd80fab       0.00      0.00      0.00       100\n",
      "        T1490_9e5e4c0655fd1b5be88bd40b8251175f       0.00      0.00      0.00       100\n",
      "        T1490_c156ac5c9fa67080365268d95f29053d       0.00      0.00      0.00       100\n",
      "        T1490_c8f329d2847ede593b6cb4a1ec6120fb       1.00      1.00      1.00       100\n",
      "        T1490_e90756bb6dcd21462dc4cc452661df91       0.02      0.19      0.03       100\n",
      "    T1491_47d08617-5ce1-424a-8cc5-c9c978ce6bf9       0.73      0.99      0.84       100\n",
      "    T1491_68235976-2404-42a8-9105-68230cfef562       1.00      1.00      1.00       100\n",
      "    T1496_46da2385-cf37-49cb-ba4b-a739c7a19de4       1.00      1.00      1.00       100\n",
      "T1497.001_1258b063-27d6-489b-a677-4807faacf868       0.00      0.00      0.00       100\n",
      "T1497.001_5dc841fd-28ad-40e2-b10e-fb007fe09e81       0.00      0.00      0.00       100\n",
      "T1497.001_7a6ba833-de40-466a-8969-5c37b13603e0       0.00      0.00      0.00       100\n",
      "    T1499_2fe2d5e6-7b06-4fc0-bf71-6966a1226731       0.00      0.00      0.00       100\n",
      "T1518.001_2dece965-37a0-4f70-a391-0f30e3331aba       0.03      0.13      0.04       100\n",
      "    T1518.001_33a24ff44719e6ac0614b58f8c9a7c72       0.14      0.07      0.09       100\n",
      "    T1518.001_b8453a5fe06b24aea12b27592d5c3d3a       0.02      0.09      0.03       100\n",
      "        T1518_8ddfaf982ab359cda13626b870ccb339       1.00      1.00      1.00       100\n",
      "    T1518_c9be8043-a445-4cbf-b77b-ed7bb007fc7c       0.92      1.00      0.96       100\n",
      "        T1531_aa6b15485a5f50ced34d87fda177b758       0.00      0.00      0.00       100\n",
      "        T1531_b25ae80dad74142fafb510e9c1949ace       0.00      0.00      0.00       100\n",
      "    T1546.013_f9a968af61d36983448c74cca5464e17       0.99      0.99      0.99       100\n",
      "    T1547.001_0dbdf1a2a87e718a6ac8a8e3415a7fac       1.00      1.00      1.00       100\n",
      "    T1547.001_163b023f43aba758d36f524d146cb8ea       1.00      1.00      1.00       100\n",
      "    T1547.001_1f15ab22c39a9b6bb2bb0d77276dfcb3       0.93      1.00      0.96       100\n",
      "    T1547.001_4b71ebb2f6f6a01235ba240fa40ce978       0.92      1.00      0.96       100\n",
      "    T1547.001_777043894e42d2aae3881e63f6c76d33       0.91      1.00      0.95       100\n",
      "    T1547.001_d3ef4145e4144fd694514b1c5cc17350       1.00      1.00      1.00       100\n",
      "    T1547.004_0856714c9810ac55b53e9964d02958a0       0.95      1.00      0.98       100\n",
      "    T1547.004_aa147165f6c116cb0b0f944abe1db8ce       0.85      1.00      0.92       100\n",
      "    T1547.009_501af516bd8b24fee0c7c650ae5cc861       1.00      0.99      0.99       100\n",
      "    T1547.009_b6e5c895c6709fe289352ee23f062229       0.91      1.00      0.95       100\n",
      "    T1547.010_4593d72a5145e3f494421ac772d37464       0.99      1.00      1.00       100\n",
      "        T1547_fe9eeee9a7b339089e5fa634b08522c1       1.00      0.97      0.98       100\n",
      "T1548.002_665432a4-42e7-4ee1-af19-a9a8c9455d0c       0.99      1.00      1.00       100\n",
      "    T1552.002_3e5b04b8ee0a1a4950da8f35d95e65fc       0.17      0.05      0.08       100\n",
      "        T1560_a1ee301b0508747b468d578a14e5c1a5       0.99      1.00      1.00       100\n",
      "    T1562.001_43e3334362b140924f001b256b229ee5       1.00      1.00      1.00       100\n",
      "    T1562.002_6a8d25d65a7d481dc479f89c62af1e6a       0.99      0.99      0.99       100\n",
      "    T1562.002_94f51bf01a7036fe02d07b4c18967669       0.00      0.00      0.00       100\n",
      "    T1562.004_280003641a5cddf916c4f2bf605a71d3       0.10      0.15      0.12       100\n",
      "    T1562.004_41627f71f968225b9f162cb76d16bd9d       0.77      0.99      0.87       100\n",
      "    T1562.004_5b93df032e230056c21a3e57334f77d1       0.00      0.00      0.00       100\n",
      "    T1562.004_8d0a4585e7c4646185a912b14cd9cb46       0.00      0.00      0.00       100\n",
      "    T1562.004_8fe59e288f10a486dc8b44bc872019ff       0.99      1.00      1.00       100\n",
      "    T1564.001_66a5fd5f244819181f074dd082a28905       0.49      0.72      0.58       100\n",
      "    T1564.001_dce51e632abdfe5392c7c1f942ac9273       0.43      0.24      0.31       100\n",
      "    T1564.003_9a2edad4053a2b59fb9167a9bc29e7dc       0.63      0.76      0.69       100\n",
      "    T1564.004_28862487a99f5f89bc0d68c87396c7e9       0.69      0.98      0.81       100\n",
      "    T1564.004_76b6066fe170d38215251102e42be973       0.99      1.00      1.00       100\n",
      "        T1564_dedfa0a54c9c13ce5714a0dc2e1f5d1a       0.00      0.00      0.00       100\n",
      "    T1566.001_1afaec09315ab71fdfb167175e8a019a       1.00      1.00      1.00       100\n",
      "    T1574.001_63bbedafba2f541552ac3579e9e3737b       1.00      0.99      0.99       100\n",
      "    T1574.011_72249c1e9ffe7d8f30243d838e0791ca       0.98      0.99      0.99       100\n",
      "\n",
      "                                      accuracy                           0.60     16500\n",
      "                                     macro avg       0.57      0.60      0.58     16500\n",
      "                                  weighted avg       0.57      0.60      0.58     16500\n",
      "\n"
     ]
    },
    {
     "name": "stderr",
     "output_type": "stream",
     "text": [
      "/workdir/home/euni/.local/lib/python3.6/site-packages/sklearn/metrics/_classification.py:1248: UndefinedMetricWarning: Precision and F-score are ill-defined and being set to 0.0 in labels with no predicted samples. Use `zero_division` parameter to control this behavior.\n",
      "  _warn_prf(average, modifier, msg_start, len(result))\n"
     ]
    }
   ],
   "source": [
    "# load the pretrained model\n",
    "pretrained_model_path = '../checkpoint_graphSAGE/best_model_GraphSAGE_secureBERT_50.pt'\n",
    "model.load_state_dict(torch.load(pretrained_model_path))\n",
    "\n",
    "model.to(device)\n",
    "model.eval()\n",
    "\n",
    "total = 0\n",
    "correct = 0\n",
    "count = 0\n",
    "\n",
    "true_labels = []\n",
    "predicted_labels = []\n",
    "\n",
    "with torch.no_grad():\n",
    "    for data in tqdm(dataloaders['test'], desc=\"Testing\", position=0, leave=True):\n",
    "#         print(f\"data:{data[1]}\")\n",
    "        loss, accuracy, predicted = model_fn(data, model, criterion, device, count, which_type='test')\n",
    "        labels = data[1].to(device)\n",
    "        \n",
    "        true_labels.extend(labels.cpu().numpy())\n",
    "        predicted_labels.extend(predicted.cpu().numpy())\n",
    "        \n",
    "        if count % 5000 == 0:\n",
    "            add_log_msg(f\"labels: {labels} {labels.shape}\")\n",
    "            add_log_msg(f\"predicted: {predicted} {predicted.shape}\")\n",
    "            \n",
    "        count += 1\n",
    "        \n",
    "        total += labels.size(0)\n",
    "        correct += (predicted == labels).sum().item()\n",
    "\n",
    "add_log_msg(f'Test Accuracy: {100 * correct / total} %\\n\\n\\n')\n",
    "\n",
    "\n",
    "# ======================================== handlig the output excel files ========================================\n",
    "mapping_file = './new_mapping.txt'\n",
    "label_mapping = {}\n",
    "with open(mapping_file, 'r') as f:\n",
    "    for line in f:\n",
    "        parts = line.strip().split(': ')\n",
    "        label_mapping[int(parts[1])] = parts[0]\n",
    "        \n",
    "# 将映射后的标签应用到true和predicted标签列表\n",
    "mapped_true_labels = [label_mapping[label] for label in true_labels]\n",
    "mapped_predicted_labels = [label_mapping[label] for label in predicted_labels]\n",
    "\n",
    "# 生成Scikit-learn报告信息的DataFrame\n",
    "report_data = classification_report(mapped_true_labels, mapped_predicted_labels, output_dict=True)\n",
    "report_df = pd.DataFrame(report_data).transpose()\n",
    "\n",
    "# mapped_true_labels_np = np.array(mapped_true_labels)\n",
    "# mapped_predicted_labels_np = np.array(mapped_predicted_labels)\n",
    "\n",
    "# print(\"mapped_true_labels 的形状:\", mapped_true_labels_np.shape)\n",
    "# print(\"mapped_predicted_labels 的形状:\", mapped_predicted_labels_np.shape)\n",
    "\n",
    "report_folder = 'classification_report'\n",
    "os.makedirs(report_folder, exist_ok=True)\n",
    "\n",
    "count = 0\n",
    "while True:\n",
    "    report_filename = f'classification_report-secureBERT_50-graphSAGE-{count}.xlsx'\n",
    "    labels_filename = f'mapped_true_predicted_labels-secureBERT_50-graphSAGE-{count}.xlsx'\n",
    "    \n",
    "    report_path = os.path.join(report_folder, report_filename)\n",
    "    labels_path = os.path.join(report_folder, labels_filename)\n",
    "    \n",
    "    if not os.path.exists(report_path) and not os.path.exists(labels_path):\n",
    "        break\n",
    "    count += 1\n",
    "\n",
    "    \n",
    "report_df.to_excel(report_path, index_label='Label')\n",
    "\n",
    "mapped_labels_df = pd.DataFrame({'true_label': mapped_true_labels, 'predicted_label': mapped_predicted_labels})\n",
    "mapped_labels_df.to_excel(labels_path, index=False)\n",
    "\n",
    "add_log_msg(f\"report path: {report_path}\")\n",
    "add_log_msg(f\"label path: {labels_path}\")\n",
    "\n",
    "mapped_report = classification_report(mapped_true_labels, mapped_predicted_labels)\n",
    "add_log_msg(f\"mapped_report:\\n{mapped_report}\")"
   ]
  },
  {
   "cell_type": "code",
   "execution_count": null,
   "metadata": {},
   "outputs": [],
   "source": []
  },
  {
   "cell_type": "code",
   "execution_count": null,
   "metadata": {},
   "outputs": [],
   "source": []
  },
  {
   "cell_type": "code",
   "execution_count": null,
   "metadata": {},
   "outputs": [],
   "source": []
  }
 ],
 "metadata": {
  "kernelspec": {
   "display_name": "Python 3",
   "language": "python",
   "name": "python3"
  },
  "language_info": {
   "codemirror_mode": {
    "name": "ipython",
    "version": 3
   },
   "file_extension": ".py",
   "mimetype": "text/x-python",
   "name": "python",
   "nbconvert_exporter": "python",
   "pygments_lexer": "ipython3",
   "version": "3.6.9"
  }
 },
 "nbformat": 4,
 "nbformat_minor": 2
}
