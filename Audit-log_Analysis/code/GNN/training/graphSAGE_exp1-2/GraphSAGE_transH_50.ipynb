{
 "cells": [
  {
   "cell_type": "markdown",
   "metadata": {},
   "source": [
    "# Test of GraphSAGE\n",
    "- use DGL\n",
    "- predict `graphs`\n",
    "- valid, test data are in the training dataset"
   ]
  },
  {
   "cell_type": "code",
   "execution_count": 1,
   "metadata": {},
   "outputs": [],
   "source": [
    "import os\n",
    "import dgl\n",
    "import json\n",
    "import torch\n",
    "import torch as th\n",
    "import dgl.nn as dglnn\n",
    "# from tqdm import tqdm\n",
    "from tqdm.notebook import tqdm  # 使用 notebook 版本的 tqdm\n",
    "import torch.nn as nn\n",
    "from dgl.nn import GraphConv, GATConv, SAGEConv\n",
    "import torch.nn.functional as F\n",
    "from torch.utils.data import Dataset, DataLoader\n",
    "from transformers import get_linear_schedule_with_warmup"
   ]
  },
  {
   "cell_type": "markdown",
   "metadata": {},
   "source": [
    "- check the GPU and assign the GPU by the best memory usage"
   ]
  },
  {
   "cell_type": "code",
   "execution_count": 2,
   "metadata": {},
   "outputs": [
    {
     "name": "stdout",
     "output_type": "stream",
     "text": [
      "cuda:1\n"
     ]
    }
   ],
   "source": [
    "import subprocess\n",
    "import torch\n",
    "\n",
    "def get_free_gpu():\n",
    "    try:\n",
    "        # Run nvidia-smi command to get GPU details\n",
    "        _output_to_list = lambda x: x.decode('ascii').split('\\n')[:-1]\n",
    "        command = \"nvidia-smi --query-gpu=memory.free --format=csv,nounits,noheader\"\n",
    "        memory_free_info = _output_to_list(subprocess.check_output(command.split())) \n",
    "        memory_free_values = [int(x) for i, x in enumerate(memory_free_info)]\n",
    "        \n",
    "        # Get the GPU with the maximum free memory\n",
    "        best_gpu_id = memory_free_values.index(max(memory_free_values))\n",
    "        return best_gpu_id\n",
    "    except:\n",
    "        # If any exception occurs, default to GPU 0 (this handles cases where nvidia-smi isn't installed)\n",
    "        return 0\n",
    "\n",
    "if torch.cuda.is_available():\n",
    "    # Get the best GPU ID based on free memory and set it\n",
    "    best_gpu_id = get_free_gpu()\n",
    "    device = torch.device(f\"cuda:{best_gpu_id}\")\n",
    "else:\n",
    "    device = torch.device(\"cpu\")\n",
    "    print(\"there's no available GPU\")\n",
    "\n",
    "# device = torch.device(f\"cuda:{1}\")\n",
    "print(device)\n"
   ]
  },
  {
   "cell_type": "markdown",
   "metadata": {},
   "source": [
    "## Fix the seed"
   ]
  },
  {
   "cell_type": "code",
   "execution_count": 3,
   "metadata": {},
   "outputs": [],
   "source": [
    "import numpy as np\n",
    "import torch\n",
    "import random\n",
    "\n",
    "#fix seed\n",
    "def same_seeds(seed = 8787):\n",
    "    torch.manual_seed(seed)\n",
    "    # random.seed(seed) \n",
    "    if torch.cuda.is_available():\n",
    "        torch.cuda.manual_seed(seed)\n",
    "        torch.cuda.manual_seed_all(seed)  \n",
    "    np.random.seed(seed)  \n",
    "    torch.backends.cudnn.benchmark = False\n",
    "    torch.backends.cudnn.deterministic = True"
   ]
  },
  {
   "cell_type": "markdown",
   "metadata": {},
   "source": [
    "## Data Loader"
   ]
  },
  {
   "cell_type": "code",
   "execution_count": 4,
   "metadata": {},
   "outputs": [],
   "source": [
    "class GraphDataset(Dataset):\n",
    "    def __init__(self, data_list, device):\n",
    "        self.data_list = data_list\n",
    "        self.device = device\n",
    "\n",
    "    def __len__(self):\n",
    "        return len(self.data_list)\n",
    "    \n",
    "    def __getitem__(self, idx):\n",
    "        data = self.data_list[idx]\n",
    "\n",
    "        g = dgl.graph((th.tensor(data[\"edge_index\"][0]), th.tensor(data[\"edge_index\"][1])), num_nodes=data[\"num_nodes\"]).to(self.device)\n",
    "\n",
    "        g.ndata['feat'] = th.tensor(data[\"node_feat\"]).to(self.device)\n",
    "        g.edata['feat'] = th.tensor(data[\"edge_attr\"]).to(self.device)  # Add edge features to graph\n",
    "\n",
    "        return g, th.tensor(data[\"label\"]).to(self.device)\n",
    "\n",
    "\n",
    "def collate(samples):\n",
    "    # The input `samples` is a list of pairs\n",
    "    #  (graph, label).\n",
    "    graphs, labels = map(list, zip(*samples))\n",
    "    batched_graph = dgl.batch(graphs)\n",
    "    return batched_graph, torch.tensor(labels)\n"
   ]
  },
  {
   "cell_type": "code",
   "execution_count": 5,
   "metadata": {},
   "outputs": [
    {
     "data": {
      "application/vnd.jupyter.widget-view+json": {
       "model_id": "e7c9f68f2aa141ee959883126e1d59d2",
       "version_major": 2,
       "version_minor": 0
      },
      "text/plain": [
       "  0%|          | 0/3 [00:00<?, ?it/s]"
      ]
     },
     "metadata": {},
     "output_type": "display_data"
    },
    {
     "name": "stdout",
     "output_type": "stream",
     "text": [
      "../../data_processing/dgl/data_new/exp1-2/training_data/exp_1/transH_50/train.jsonl\n"
     ]
    },
    {
     "data": {
      "application/vnd.jupyter.widget-view+json": {
       "model_id": "a1105561f264414a982f5a5f8bea5d56",
       "version_major": 2,
       "version_minor": 0
      },
      "text/plain": [
       "0it [00:00, ?it/s]"
      ]
     },
     "metadata": {},
     "output_type": "display_data"
    },
    {
     "name": "stdout",
     "output_type": "stream",
     "text": [
      "../../data_processing/dgl/data_new/exp1-2/training_data/exp_1/transH_50/valid.jsonl\n"
     ]
    },
    {
     "data": {
      "application/vnd.jupyter.widget-view+json": {
       "model_id": "ae053346bd774fdc993a368cfc558ae8",
       "version_major": 2,
       "version_minor": 0
      },
      "text/plain": [
       "0it [00:00, ?it/s]"
      ]
     },
     "metadata": {},
     "output_type": "display_data"
    },
    {
     "name": "stdout",
     "output_type": "stream",
     "text": [
      "../../data_processing/dgl/data_new/exp1-2/training_data/exp_1/transH_50/test.jsonl\n"
     ]
    },
    {
     "data": {
      "application/vnd.jupyter.widget-view+json": {
       "model_id": "ef482e5411a94db0bc899d62cbe83878",
       "version_major": 2,
       "version_minor": 0
      },
      "text/plain": [
       "0it [00:00, ?it/s]"
      ]
     },
     "metadata": {},
     "output_type": "display_data"
    },
    {
     "name": "stdout",
     "output_type": "stream",
     "text": [
      "Datasets loaded!\n"
     ]
    }
   ],
   "source": [
    "datasets = ['train', 'valid', 'test']\n",
    "dataset_data = {}\n",
    "\n",
    "for dataset_name in tqdm(datasets):\n",
    "    file_path = f\"../../data_processing/dgl/data_new/exp1-2/training_data/exp_1/transH_50/{dataset_name}.jsonl\"\n",
    "    \n",
    "    print(file_path)\n",
    "    with open(file_path) as f:\n",
    "        data_list = [json.loads(line) for line in tqdm(f, position=0, leave=True)]\n",
    "    \n",
    "    dataset_data[dataset_name] = GraphDataset(data_list, device)\n",
    "\n",
    "print(\"Datasets loaded!\")"
   ]
  },
  {
   "cell_type": "markdown",
   "metadata": {},
   "source": [
    "- choose batch size"
   ]
  },
  {
   "cell_type": "code",
   "execution_count": 6,
   "metadata": {},
   "outputs": [],
   "source": [
    "def create_dataloaders(batch_size, shuffle=True):\n",
    "    dataloaders = {}\n",
    "    for dataset_name, dataset in dataset_data.items():\n",
    "        # do not shuffle the testing dataset\n",
    "        if dataset_name == \"test\":\n",
    "            dataloaders[dataset_name] = DataLoader(dataset, batch_size=batch_size, shuffle=False, collate_fn=collate)    \n",
    "        else:\n",
    "            dataloaders[dataset_name] = DataLoader(dataset, batch_size=batch_size, shuffle=shuffle, collate_fn=collate)\n",
    "    return dataloaders\n",
    "\n",
    "# dataloaders = create_dataloaders(4)\n",
    "dataloaders = create_dataloaders(16)"
   ]
  },
  {
   "cell_type": "markdown",
   "metadata": {},
   "source": [
    "- Turn the print message to a log file"
   ]
  },
  {
   "cell_type": "code",
   "execution_count": 7,
   "metadata": {},
   "outputs": [
    {
     "name": "stdout",
     "output_type": "stream",
     "text": [
      "../log_message/0911_18:54_GraphSAGE.log\n"
     ]
    }
   ],
   "source": [
    "import datetime\n",
    "\n",
    "now = datetime.datetime.now()\n",
    "\n",
    "formatted_time = now.strftime(\"%m%d_%H:%M\")\n",
    "\n",
    "log_file_path = f\"../log_message/{formatted_time}_GraphSAGE.log\"\n",
    "\n",
    "def add_log_msg(msg, log_file_path=log_file_path):\n",
    "    with open(log_file_path, 'a') as f:\n",
    "        f.write(f'{datetime.datetime.now().strftime(\"%m/%d/%Y, %H:%M:%S\")}# {msg}\\n')\n",
    "    print(f'{datetime.datetime.now().strftime(\"%m/%d/%Y, %H:%M:%S\")}# {msg}')\n",
    "\n",
    "print(log_file_path)"
   ]
  },
  {
   "cell_type": "markdown",
   "metadata": {},
   "source": [
    "### Model"
   ]
  },
  {
   "cell_type": "code",
   "execution_count": 8,
   "metadata": {},
   "outputs": [],
   "source": [
    "class GraphSAGE(nn.Module):\n",
    "    def __init__(self, in_dim, hidden_dim, out_dim):\n",
    "        super(GraphSAGE, self).__init__()\n",
    "        self.layer1 = dglnn.SAGEConv(in_dim, hidden_dim, 'mean')\n",
    "        self.layer2 = dglnn.SAGEConv(hidden_dim, out_dim, 'mean')  # Output layer\n",
    "\n",
    "    def forward(self, g, inputs):\n",
    "        h = self.layer1(g, inputs)\n",
    "        h = torch.relu(h)\n",
    "        h = self.layer2(g, h)  # You can apply another non-linearity here if needed\n",
    "        \n",
    "        g.ndata['h'] = h\n",
    "        hg = dgl.mean_nodes(g, 'h')\n",
    "        return hg\n"
   ]
  },
  {
   "cell_type": "markdown",
   "metadata": {},
   "source": [
    "- Model Forward  "
   ]
  },
  {
   "cell_type": "code",
   "execution_count": 9,
   "metadata": {},
   "outputs": [],
   "source": [
    "def model_fn(data, model, criterion, device, count=1, which_type='train'):\n",
    "    \"\"\"Forward a batch through the model.\"\"\"\n",
    "    batched_g, labels = data\n",
    "    batched_g = batched_g.to(device)\n",
    "    \n",
    "    labels = labels.to(device)\n",
    "#     labels = labels.float()\n",
    "\n",
    "    logits = model(batched_g, batched_g.ndata['feat'].float()) # for GAT\n",
    "#     logits = logits.mean(dim=1)\n",
    "#     print(labels)\n",
    "#     print(labels.shape)\n",
    "#     print(logits)\n",
    "#     print(logits.shape)\n",
    "\n",
    "    \n",
    "    loss = criterion(logits, labels)\n",
    "\n",
    "    # Get the class id with the highest probability\n",
    "    preds = logits.argmax(1) # for GAT\n",
    "#     print(preds)\n",
    "#     preds = logits.argmax() # for graphSAGE\n",
    "    \n",
    "    '''\n",
    "    问题出在GAT和GraphSAGE模型的输出形状上。\n",
    "    在你的 GAT 模型中，最后一层的输出是一个一维的张量，因此 logits 是一个形状为 (batch_size,) 的张量。这是因为 GAT 模型最后一层的输出被处理成了一个节点的预测，而不是整个图的预测。\n",
    "    在 GraphSAGE 模型中，最后一层的输出形状是 (num_nodes, out_dim)，也就是说，它返回了整个图的节点级别的预测。因此，logits 是一个二维的张量，形状为 (num_nodes, out_dim)。\n",
    "    当你尝试在一个一维张量上调用 logits.argmax(1) 时，会产生维度错误，因为它期望一个二维张量来执行操作。\n",
    "    所以，在 GraphSAGE 模型中，你应该将以下行：\n",
    "    '''\n",
    "    \n",
    "    \n",
    "    # Compute accuracy\n",
    "    accuracy = torch.mean((preds == labels).float())\n",
    "    \n",
    "    if which_type == 'validation' and count % 1000 == 0:\n",
    "        add_log_msg(f\"labels of Validation: {labels} {labels.shape}\")\n",
    "        add_log_msg(f\"predicted of Validation: {preds} {preds.shape}\")\n",
    "        \n",
    "    elif which_type == 'test'  and count % 1000 == 0:\n",
    "        add_log_msg(f\"labels of Test: {labels} {labels.shape}\")\n",
    "        add_log_msg(f\"predicted of Test: {preds} {preds.shape}\")\n",
    "        \n",
    "    if count % 5000 == 0: \n",
    "        add_log_msg(f\"labels of {count}: {labels} {labels.shape}\")\n",
    "        add_log_msg(f\"predicted of {count}: {preds} {preds.shape}\")\n",
    "        \n",
    "    return loss, accuracy, preds"
   ]
  },
  {
   "cell_type": "code",
   "execution_count": null,
   "metadata": {},
   "outputs": [],
   "source": []
  },
  {
   "cell_type": "code",
   "execution_count": null,
   "metadata": {
    "scrolled": true
   },
   "outputs": [
    {
     "data": {
      "application/vnd.jupyter.widget-view+json": {
       "model_id": "6961900296854e73a5c58b787e2ef4be",
       "version_major": 2,
       "version_minor": 0
      },
      "text/plain": [
       "  0%|          | 0/50 [00:00<?, ?it/s]"
      ]
     },
     "metadata": {},
     "output_type": "display_data"
    },
    {
     "data": {
      "application/vnd.jupyter.widget-view+json": {
       "model_id": "f5c7317738db4c4cba42f8bc4f4968e5",
       "version_major": 2,
       "version_minor": 0
      },
      "text/plain": [
       "Training:   0%|          | 0/8250 [00:00<?, ?it/s]"
      ]
     },
     "metadata": {},
     "output_type": "display_data"
    },
    {
     "name": "stdout",
     "output_type": "stream",
     "text": [
      "09/11/2023, 18:56:40# labels of 5000: tensor([ 49,  52,  31,  91,  46,  87, 163,  54,  93, 150, 143, 162, 146,  14,\n",
      "        102,  24], device='cuda:1') torch.Size([16])\n",
      "09/11/2023, 18:56:40# predicted of 5000: tensor([ 76,  52,  92, 131,  98,  92,  31, 144, 131, 131, 140,  76, 146,  31,\n",
      "        102, 131], device='cuda:1') torch.Size([16])\n",
      "09/11/2023, 18:58:27# total batches: 8250\n",
      "09/11/2023, 18:58:27# Epoch 0 | Train Loss: 3.9895 | Train Accuracy: 0.3968\n"
     ]
    },
    {
     "data": {
      "application/vnd.jupyter.widget-view+json": {
       "model_id": "edff74e1604c47e0bb607db35e81ae52",
       "version_major": 2,
       "version_minor": 0
      },
      "text/plain": [
       "Validation:   0%|          | 0/1032 [00:00<?, ?it/s]"
      ]
     },
     "metadata": {},
     "output_type": "display_data"
    },
    {
     "name": "stdout",
     "output_type": "stream",
     "text": [
      "09/11/2023, 18:58:27# labels of Validation: tensor([ 23, 118,   1,  90, 147,  92,  86, 109,  48,  67,  80, 146,  50,  71,\n",
      "        103, 144], device='cuda:1') torch.Size([16])\n",
      "09/11/2023, 18:58:27# predicted of Validation: tensor([ 23, 118, 158, 108, 147, 158,  86, 158, 158,  67,  80, 146,  50,  71,\n",
      "        108, 158], device='cuda:1') torch.Size([16])\n",
      "09/11/2023, 18:58:27# labels of 0: tensor([ 23, 118,   1,  90, 147,  92,  86, 109,  48,  67,  80, 146,  50,  71,\n",
      "        103, 144], device='cuda:1') torch.Size([16])\n",
      "09/11/2023, 18:58:27# predicted of 0: tensor([ 23, 118, 158, 108, 147, 158,  86, 158, 158,  67,  80, 146,  50,  71,\n",
      "        108, 158], device='cuda:1') torch.Size([16])\n",
      "09/11/2023, 18:58:56# labels of Validation: tensor([117,  78,   3,  73,  80,  67,   6,   3,  43, 104, 146, 161, 143,  39,\n",
      "        160,  49], device='cuda:1') torch.Size([16])\n",
      "09/11/2023, 18:58:56# predicted of Validation: tensor([117,  67,   3,   3,  80,  67,   6,   3,  43, 158, 146, 161, 158,  39,\n",
      "        160, 158], device='cuda:1') torch.Size([16])\n",
      "09/11/2023, 18:58:57# Validation Loss: 2.7314 | Validation Accuracy: 0.5799\n",
      "\n",
      "09/11/2023, 18:58:57# Find a better model!!\n"
     ]
    },
    {
     "data": {
      "application/vnd.jupyter.widget-view+json": {
       "model_id": "097e39c0f253497b9be23274b7f85076",
       "version_major": 2,
       "version_minor": 0
      },
      "text/plain": [
       "Training:   0%|          | 0/8250 [00:00<?, ?it/s]"
      ]
     },
     "metadata": {},
     "output_type": "display_data"
    },
    {
     "name": "stdout",
     "output_type": "stream",
     "text": [
      "09/11/2023, 19:01:49# labels of 5000: tensor([110,  89, 121,  82,  20, 128, 131,  13,  40,  58,  46, 135,  71, 117,\n",
      "         19, 133], device='cuda:1') torch.Size([16])\n",
      "09/11/2023, 19:01:49# predicted of 5000: tensor([  8,  89,  38,  82,  20, 128, 131,  13,  40,  58,  46, 135,  71, 117,\n",
      "         19, 133], device='cuda:1') torch.Size([16])\n",
      "09/11/2023, 19:03:44# total batches: 8250\n",
      "09/11/2023, 19:03:44# Epoch 1 | Train Loss: 2.1523 | Train Accuracy: 0.5882\n"
     ]
    },
    {
     "data": {
      "application/vnd.jupyter.widget-view+json": {
       "model_id": "0176adb413dc44ac93d283064913c922",
       "version_major": 2,
       "version_minor": 0
      },
      "text/plain": [
       "Validation:   0%|          | 0/1032 [00:00<?, ?it/s]"
      ]
     },
     "metadata": {},
     "output_type": "display_data"
    },
    {
     "name": "stdout",
     "output_type": "stream",
     "text": [
      "09/11/2023, 19:03:44# labels of Validation: tensor([151,  59,  32,  81, 139, 113,  78,  31,  16, 127, 117,  10, 125,   5,\n",
      "         32, 125], device='cuda:1') torch.Size([16])\n",
      "09/11/2023, 19:03:44# predicted of Validation: tensor([104, 108,  32, 104, 139,  88,  67, 104,  16, 127, 117,  10, 104,   5,\n",
      "         32, 104], device='cuda:1') torch.Size([16])\n",
      "09/11/2023, 19:03:44# labels of 0: tensor([151,  59,  32,  81, 139, 113,  78,  31,  16, 127, 117,  10, 125,   5,\n",
      "         32, 125], device='cuda:1') torch.Size([16])\n",
      "09/11/2023, 19:03:44# predicted of 0: tensor([104, 108,  32, 104, 139,  88,  67, 104,  16, 127, 117,  10, 104,   5,\n",
      "         32, 104], device='cuda:1') torch.Size([16])\n",
      "09/11/2023, 19:04:15# labels of Validation: tensor([ 81,  17, 131,  27,   1, 137,  13, 138, 108,  20,   3,  99,  45,  43,\n",
      "          2,  27], device='cuda:1') torch.Size([16])\n",
      "09/11/2023, 19:04:15# predicted of Validation: tensor([104,  17, 131,  27, 104, 137,  13, 138, 108,  20,   3,  99,  45,  43,\n",
      "        104,  27], device='cuda:1') torch.Size([16])\n",
      "09/11/2023, 19:04:17# Validation Loss: 1.8137 | Validation Accuracy: 0.5950\n",
      "\n",
      "09/11/2023, 19:04:17# Find a better model!!\n"
     ]
    },
    {
     "data": {
      "application/vnd.jupyter.widget-view+json": {
       "model_id": "6f55eb69eb5d4909a619ee290e345402",
       "version_major": 2,
       "version_minor": 0
      },
      "text/plain": [
       "Training:   0%|          | 0/8250 [00:00<?, ?it/s]"
      ]
     },
     "metadata": {},
     "output_type": "display_data"
    },
    {
     "name": "stdout",
     "output_type": "stream",
     "text": [
      "09/11/2023, 19:07:16# labels of 5000: tensor([  8,  74, 137, 125,   8, 163,  55,  57,  51,  63,   9, 143, 151, 165,\n",
      "        128,  19], device='cuda:1') torch.Size([16])\n",
      "09/11/2023, 19:07:16# predicted of 5000: tensor([ 59,  14, 137,  81,  59,  81,  87,  14,  51,  63,  81,  81,  81, 165,\n",
      "        128,  19], device='cuda:1') torch.Size([16])\n",
      "09/11/2023, 19:09:11# total batches: 8250\n",
      "09/11/2023, 19:09:11# Epoch 2 | Train Loss: 1.7043 | Train Accuracy: 0.5959\n"
     ]
    },
    {
     "data": {
      "application/vnd.jupyter.widget-view+json": {
       "model_id": "f47f4fe246dd453a8633bde1c0f4ebc2",
       "version_major": 2,
       "version_minor": 0
      },
      "text/plain": [
       "Validation:   0%|          | 0/1032 [00:00<?, ?it/s]"
      ]
     },
     "metadata": {},
     "output_type": "display_data"
    },
    {
     "name": "stdout",
     "output_type": "stream",
     "text": [
      "09/11/2023, 19:09:11# labels of Validation: tensor([ 62,  36,  81,  28, 125, 105,  56,  88, 163,  60, 131, 121,  21,  76,\n",
      "         48,  42], device='cuda:1') torch.Size([16])\n",
      "09/11/2023, 19:09:11# predicted of Validation: tensor([ 62,  60,  60,  28,  60, 105,  56,  72,  60,  60, 131,  60,  21,  60,\n",
      "         60,  60], device='cuda:1') torch.Size([16])\n",
      "09/11/2023, 19:09:11# labels of 0: tensor([ 62,  36,  81,  28, 125, 105,  56,  88, 163,  60, 131, 121,  21,  76,\n",
      "         48,  42], device='cuda:1') torch.Size([16])\n",
      "09/11/2023, 19:09:11# predicted of 0: tensor([ 62,  60,  60,  28,  60, 105,  56,  72,  60,  60, 131,  60,  21,  60,\n",
      "         60,  60], device='cuda:1') torch.Size([16])\n",
      "09/11/2023, 19:09:42# labels of Validation: tensor([131,  92,  54,  81,  69, 155, 111, 163,  75,  25, 123, 165,  26,  40,\n",
      "        128, 110], device='cuda:1') torch.Size([16])\n",
      "09/11/2023, 19:09:42# predicted of Validation: tensor([131,  60,  60,  60,  69, 155,   1,  60,  60,  25, 123, 165,  26,  40,\n",
      "        128,  72], device='cuda:1') torch.Size([16])\n",
      "09/11/2023, 19:09:42# Validation Loss: 1.6375 | Validation Accuracy: 0.5974\n",
      "\n",
      "09/11/2023, 19:09:42# Find a better model!!\n"
     ]
    },
    {
     "data": {
      "application/vnd.jupyter.widget-view+json": {
       "model_id": "3e89fc93d81b4d2589dd053048cf1e00",
       "version_major": 2,
       "version_minor": 0
      },
      "text/plain": [
       "Training:   0%|          | 0/8250 [00:00<?, ?it/s]"
      ]
     },
     "metadata": {},
     "output_type": "display_data"
    },
    {
     "name": "stdout",
     "output_type": "stream",
     "text": [
      "09/11/2023, 19:12:43# labels of 5000: tensor([ 90,  72,  94, 152,  86,  14,  52, 130,  87,   0, 155, 164,   1, 133,\n",
      "         89,  49], device='cuda:1') torch.Size([16])\n",
      "09/11/2023, 19:12:43# predicted of 5000: tensor([114,  72,  94,  60,  86,  60,  52, 130, 151,   0, 155, 104, 104, 133,\n",
      "         89, 151], device='cuda:1') torch.Size([16])\n",
      "09/11/2023, 19:14:37# total batches: 8250\n",
      "09/11/2023, 19:14:37# Epoch 3 | Train Loss: 1.6072 | Train Accuracy: 0.6000\n"
     ]
    },
    {
     "data": {
      "application/vnd.jupyter.widget-view+json": {
       "model_id": "549a06d4eb1242ae8c60fc0deb09bbca",
       "version_major": 2,
       "version_minor": 0
      },
      "text/plain": [
       "Validation:   0%|          | 0/1032 [00:00<?, ?it/s]"
      ]
     },
     "metadata": {},
     "output_type": "display_data"
    },
    {
     "name": "stdout",
     "output_type": "stream",
     "text": [
      "09/11/2023, 19:14:38# labels of Validation: tensor([ 21,  67,  92, 122,  23,  35,  43,   5,  79, 122,  55,  52, 149,  31,\n",
      "         62, 116], device='cuda:1') torch.Size([16])\n",
      "09/11/2023, 19:14:38# predicted of Validation: tensor([ 21,  78, 163, 122,  23,  35,  43,   5,  72, 122, 163,  52, 149, 163,\n",
      "         62, 163], device='cuda:1') torch.Size([16])\n",
      "09/11/2023, 19:14:38# labels of 0: tensor([ 21,  67,  92, 122,  23,  35,  43,   5,  79, 122,  55,  52, 149,  31,\n",
      "         62, 116], device='cuda:1') torch.Size([16])\n",
      "09/11/2023, 19:14:38# predicted of 0: tensor([ 21,  78, 163, 122,  23,  35,  43,   5,  72, 122, 163,  52, 149, 163,\n",
      "         62, 163], device='cuda:1') torch.Size([16])\n",
      "09/11/2023, 19:15:06# labels of Validation: tensor([ 87,  52,  45,  61,  62, 135,  93, 135,  20, 155, 164,   3,   5,  25,\n",
      "         35,  90], device='cuda:1') torch.Size([16])\n",
      "09/11/2023, 19:15:06# predicted of Validation: tensor([163,  52,  45,  61,  62, 135,  93, 135,  20, 155, 163,   3,   5,  25,\n",
      "         35,  91], device='cuda:1') torch.Size([16])\n",
      "09/11/2023, 19:15:07# Validation Loss: 1.5917 | Validation Accuracy: 0.6028\n",
      "\n",
      "09/11/2023, 19:15:07# Find a better model!!\n"
     ]
    },
    {
     "data": {
      "application/vnd.jupyter.widget-view+json": {
       "model_id": "4e04d3ae943e40e0b693242d8ec19a3f",
       "version_major": 2,
       "version_minor": 0
      },
      "text/plain": [
       "Training:   0%|          | 0/8250 [00:00<?, ?it/s]"
      ]
     },
     "metadata": {},
     "output_type": "display_data"
    },
    {
     "name": "stdout",
     "output_type": "stream",
     "text": [
      "09/11/2023, 19:18:06# labels of 5000: tensor([ 44, 163,   5,  35,  96,  94,  66, 115,  99,  29, 135,  16, 103,  19,\n",
      "        115,  69], device='cuda:1') torch.Size([16])\n",
      "09/11/2023, 19:18:06# predicted of 5000: tensor([ 97,  49,   5,  35,  96,  94,  66, 115,  99,  29, 135,  16, 110,  19,\n",
      "        115,  69], device='cuda:1') torch.Size([16])\n",
      "09/11/2023, 19:20:02# total batches: 8250\n",
      "09/11/2023, 19:20:02# Epoch 4 | Train Loss: 1.5722 | Train Accuracy: 0.6024\n"
     ]
    },
    {
     "data": {
      "application/vnd.jupyter.widget-view+json": {
       "model_id": "0bf2640b05e1464e8224cc0910771831",
       "version_major": 2,
       "version_minor": 0
      },
      "text/plain": [
       "Validation:   0%|          | 0/1032 [00:00<?, ?it/s]"
      ]
     },
     "metadata": {},
     "output_type": "display_data"
    },
    {
     "name": "stdout",
     "output_type": "stream",
     "text": [
      "09/11/2023, 19:20:02# labels of Validation: tensor([147, 102,  48, 120, 100,   0, 127, 166, 144, 150, 144,  73,  47,  27,\n",
      "        111,  14], device='cuda:1') torch.Size([16])\n",
      "09/11/2023, 19:20:02# predicted of Validation: tensor([147, 102,  48, 120, 100,   0, 127, 166,  48,  48,  48,  73,  48,  27,\n",
      "         48,  48], device='cuda:1') torch.Size([16])\n",
      "09/11/2023, 19:20:02# labels of 0: tensor([147, 102,  48, 120, 100,   0, 127, 166, 144, 150, 144,  73,  47,  27,\n",
      "        111,  14], device='cuda:1') torch.Size([16])\n",
      "09/11/2023, 19:20:02# predicted of 0: tensor([147, 102,  48, 120, 100,   0, 127, 166,  48,  48,  48,  73,  48,  27,\n",
      "         48,  48], device='cuda:1') torch.Size([16])\n",
      "09/11/2023, 19:20:31# labels of Validation: tensor([107,  94,   3,   2, 114,  10,  27,  74,  78, 137, 146,  71, 108,  69,\n",
      "        157,  77], device='cuda:1') torch.Size([16])\n",
      "09/11/2023, 19:20:31# predicted of Validation: tensor([107,  94,   3,  48,  72,  10,  27,  48,  67, 137, 146,  71, 131,  69,\n",
      "         48,  77], device='cuda:1') torch.Size([16])\n",
      "09/11/2023, 19:20:32# Validation Loss: 1.5628 | Validation Accuracy: 0.5974\n",
      "\n",
      "09/11/2023, 19:20:32# Find a better model!!\n"
     ]
    },
    {
     "data": {
      "application/vnd.jupyter.widget-view+json": {
       "model_id": "021ff368365c40f2956af7e8b3cdd22c",
       "version_major": 2,
       "version_minor": 0
      },
      "text/plain": [
       "Training:   0%|          | 0/8250 [00:00<?, ?it/s]"
      ]
     },
     "metadata": {},
     "output_type": "display_data"
    },
    {
     "name": "stdout",
     "output_type": "stream",
     "text": [
      "09/11/2023, 19:23:27# labels of 5000: tensor([165,  60,  44, 119,  84, 144,  44,   0,  89,  38,  45, 143,  93,  57,\n",
      "         77,  39], device='cuda:1') torch.Size([16])\n",
      "09/11/2023, 19:23:27# predicted of 5000: tensor([165,  30, 124, 124,  84, 124, 124,   0,  89, 124,  45, 124, 110, 124,\n",
      "         77,  39], device='cuda:1') torch.Size([16])\n",
      "09/11/2023, 19:24:54# total batches: 8250\n",
      "09/11/2023, 19:24:54# Epoch 5 | Train Loss: 1.5534 | Train Accuracy: 0.6039\n"
     ]
    },
    {
     "data": {
      "application/vnd.jupyter.widget-view+json": {
       "model_id": "cb7592b1c6344408a88ff66c81aeef30",
       "version_major": 2,
       "version_minor": 0
      },
      "text/plain": [
       "Validation:   0%|          | 0/1032 [00:00<?, ?it/s]"
      ]
     },
     "metadata": {},
     "output_type": "display_data"
    },
    {
     "name": "stdout",
     "output_type": "stream",
     "text": [
      "09/11/2023, 19:24:54# labels of Validation: tensor([134, 157, 153,  70,  88, 145,  17,  99,  78, 146,  82,  97, 143,  71,\n",
      "         12, 149], device='cuda:1') torch.Size([16])\n",
      "09/11/2023, 19:24:54# predicted of Validation: tensor([134,  34, 153,  70,  90, 145,  17,  99,  78, 146,  82,  76,  76,  71,\n",
      "         76, 149], device='cuda:1') torch.Size([16])\n",
      "09/11/2023, 19:24:54# labels of 0: tensor([134, 157, 153,  70,  88, 145,  17,  99,  78, 146,  82,  97, 143,  71,\n",
      "         12, 149], device='cuda:1') torch.Size([16])\n",
      "09/11/2023, 19:24:54# predicted of 0: tensor([134,  34, 153,  70,  90, 145,  17,  99,  78, 146,  82,  76,  76,  71,\n",
      "         76, 149], device='cuda:1') torch.Size([16])\n",
      "09/11/2023, 19:25:13# labels of Validation: tensor([141, 100,  77,  83,  13, 154,  77, 140,  39,  73, 166,  81,  59, 142,\n",
      "         96, 147], device='cuda:1') torch.Size([16])\n",
      "09/11/2023, 19:25:13# predicted of Validation: tensor([141, 100,  77,  76,  13, 154,  77, 140,  39,  73, 166,  76,  91,  76,\n",
      "         96, 147], device='cuda:1') torch.Size([16])\n",
      "09/11/2023, 19:25:14# Validation Loss: 1.5484 | Validation Accuracy: 0.6068\n",
      "\n",
      "09/11/2023, 19:25:14# Find a better model!!\n"
     ]
    },
    {
     "data": {
      "application/vnd.jupyter.widget-view+json": {
       "model_id": "44eeb9670d5444c997eeee710c2cdd73",
       "version_major": 2,
       "version_minor": 0
      },
      "text/plain": [
       "Training:   0%|          | 0/8250 [00:00<?, ?it/s]"
      ]
     },
     "metadata": {},
     "output_type": "display_data"
    },
    {
     "name": "stdout",
     "output_type": "stream",
     "text": [
      "09/11/2023, 19:27:13# labels of 5000: tensor([158, 140,  71,  96,  80, 111, 134,  15,  78, 142,   4, 155, 107, 164,\n",
      "         89,  31], device='cuda:1') torch.Size([16])\n",
      "09/11/2023, 19:27:13# predicted of 5000: tensor([ 36, 140,  71,  96,  80, 158, 134,  15,  78,  87,  57, 155, 107,  57,\n",
      "         89,  57], device='cuda:1') torch.Size([16])\n",
      "09/11/2023, 19:28:30# total batches: 8250\n",
      "09/11/2023, 19:28:30# Epoch 6 | Train Loss: 1.5408 | Train Accuracy: 0.6048\n"
     ]
    },
    {
     "data": {
      "application/vnd.jupyter.widget-view+json": {
       "model_id": "7953e6190d8c48a39093dd6ad5824a24",
       "version_major": 2,
       "version_minor": 0
      },
      "text/plain": [
       "Validation:   0%|          | 0/1032 [00:00<?, ?it/s]"
      ]
     },
     "metadata": {},
     "output_type": "display_data"
    },
    {
     "name": "stdout",
     "output_type": "stream",
     "text": [
      "09/11/2023, 19:28:31# labels of Validation: tensor([ 95, 138, 129, 160,  97, 109, 109, 128, 126, 114,  41, 129,  24,  23,\n",
      "        115,  20], device='cuda:1') torch.Size([16])\n",
      "09/11/2023, 19:28:31# predicted of Validation: tensor([ 95, 138, 129, 160,  55,  55,  55, 128, 126,  90,  41, 129,  55,  23,\n",
      "        115,  20], device='cuda:1') torch.Size([16])\n",
      "09/11/2023, 19:28:31# labels of 0: tensor([ 95, 138, 129, 160,  97, 109, 109, 128, 126, 114,  41, 129,  24,  23,\n",
      "        115,  20], device='cuda:1') torch.Size([16])\n",
      "09/11/2023, 19:28:31# predicted of 0: tensor([ 95, 138, 129, 160,  55,  55,  55, 128, 126,  90,  41, 129,  55,  23,\n",
      "        115,  20], device='cuda:1') torch.Size([16])\n",
      "09/11/2023, 19:28:50# labels of Validation: tensor([ 84, 110, 142,  16,  23,  31,  74,  99, 124, 116,  97,  45,  71,  46,\n",
      "        155,  41], device='cuda:1') torch.Size([16])\n",
      "09/11/2023, 19:28:50# predicted of Validation: tensor([ 84,  90,  55,  16,  23,  55,  55,  99, 104, 104,  55,  45,  71,  46,\n",
      "        155,  41], device='cuda:1') torch.Size([16])\n",
      "09/11/2023, 19:28:51# Validation Loss: 1.5355 | Validation Accuracy: 0.6096\n",
      "\n",
      "09/11/2023, 19:28:51# Find a better model!!\n"
     ]
    },
    {
     "data": {
      "application/vnd.jupyter.widget-view+json": {
       "model_id": "8278ad41e91d4dd8878fed9f72340ad2",
       "version_major": 2,
       "version_minor": 0
      },
      "text/plain": [
       "Training:   0%|          | 0/8250 [00:00<?, ?it/s]"
      ]
     },
     "metadata": {},
     "output_type": "display_data"
    },
    {
     "name": "stdout",
     "output_type": "stream",
     "text": [
      "09/11/2023, 19:30:48# labels of 5000: tensor([135,  98, 158, 103,  67,  25,  73,  73,  29,  12,  43, 125,  63,  75,\n",
      "         66,  67], device='cuda:1') torch.Size([16])\n",
      "09/11/2023, 19:30:48# predicted of 5000: tensor([135,  98,   9,  91,  67,  25,  73,  73,  29,   9,  43,   4,  63,   9,\n",
      "         66,  67], device='cuda:1') torch.Size([16])\n",
      "09/11/2023, 19:32:04# total batches: 8250\n",
      "09/11/2023, 19:32:04# Epoch 7 | Train Loss: 1.5315 | Train Accuracy: 0.6057\n"
     ]
    },
    {
     "data": {
      "application/vnd.jupyter.widget-view+json": {
       "model_id": "749b044707c14372b8eff31ee03ed36d",
       "version_major": 2,
       "version_minor": 0
      },
      "text/plain": [
       "Validation:   0%|          | 0/1032 [00:00<?, ?it/s]"
      ]
     },
     "metadata": {},
     "output_type": "display_data"
    },
    {
     "name": "stdout",
     "output_type": "stream",
     "text": [
      "09/11/2023, 19:32:04# labels of Validation: tensor([164, 108,   3,  72,  86, 160, 113, 154,  59, 110,  45,  57,  84, 110,\n",
      "         50,  93], device='cuda:1') torch.Size([16])\n",
      "09/11/2023, 19:32:04# predicted of Validation: tensor([ 31, 131,   3,  72,  86, 160,  91, 154, 131,  68,  45,  31,  84,  68,\n",
      "         50,  91], device='cuda:1') torch.Size([16])\n",
      "09/11/2023, 19:32:04# labels of 0: tensor([164, 108,   3,  72,  86, 160, 113, 154,  59, 110,  45,  57,  84, 110,\n",
      "         50,  93], device='cuda:1') torch.Size([16])\n",
      "09/11/2023, 19:32:04# predicted of 0: tensor([ 31, 131,   3,  72,  86, 160,  91, 154, 131,  68,  45,  31,  84,  68,\n",
      "         50,  91], device='cuda:1') torch.Size([16])\n",
      "09/11/2023, 19:32:24# labels of Validation: tensor([ 24,  72,  21,  40, 166, 145,  94,  92, 152,  60,  59, 125,   2,  21,\n",
      "        144,  29], device='cuda:1') torch.Size([16])\n",
      "09/11/2023, 19:32:24# predicted of Validation: tensor([ 31,  72,  21,  40, 166, 145,  94,  76, 151, 116,  91, 158,  31,  21,\n",
      "         31,  29], device='cuda:1') torch.Size([16])\n",
      "09/11/2023, 19:32:24# Validation Loss: 1.5319 | Validation Accuracy: 0.6063\n",
      "\n",
      "09/11/2023, 19:32:24# Find a better model!!\n"
     ]
    },
    {
     "data": {
      "application/vnd.jupyter.widget-view+json": {
       "model_id": "33ddb5b1a6b1452b80822a7f9c779e31",
       "version_major": 2,
       "version_minor": 0
      },
      "text/plain": [
       "Training:   0%|          | 0/8250 [00:00<?, ?it/s]"
      ]
     },
     "metadata": {},
     "output_type": "display_data"
    },
    {
     "name": "stdout",
     "output_type": "stream",
     "text": [
      "09/11/2023, 19:34:23# labels of 5000: tensor([159, 139,  61,  20, 148, 126,  38,  55,  93,  31,  34,  26, 129, 164,\n",
      "        144,  89], device='cuda:1') torch.Size([16])\n",
      "09/11/2023, 19:34:23# predicted of 5000: tensor([159, 139,  61,  20, 148, 126,  74,  74, 110,  74,  74,  26, 129,  74,\n",
      "         74,  89], device='cuda:1') torch.Size([16])\n",
      "09/11/2023, 19:35:42# total batches: 8250\n",
      "09/11/2023, 19:35:42# Epoch 8 | Train Loss: 1.5238 | Train Accuracy: 0.6082\n"
     ]
    },
    {
     "data": {
      "application/vnd.jupyter.widget-view+json": {
       "model_id": "998ab16975d74887947bda35b71276b6",
       "version_major": 2,
       "version_minor": 0
      },
      "text/plain": [
       "Validation:   0%|          | 0/1032 [00:00<?, ?it/s]"
      ]
     },
     "metadata": {},
     "output_type": "display_data"
    },
    {
     "name": "stdout",
     "output_type": "stream",
     "text": [
      "09/11/2023, 19:35:42# labels of Validation: tensor([ 26, 136, 111, 166, 144,  92,  43,  78,  64,  54,  77, 124,  79, 100,\n",
      "         46, 164], device='cuda:1') torch.Size([16])\n",
      "09/11/2023, 19:35:42# predicted of Validation: tensor([ 26, 136,  47, 166,  47,  47,  43,  67,   8,  47,  77,  47,  79, 100,\n",
      "         46,  47], device='cuda:1') torch.Size([16])\n",
      "09/11/2023, 19:35:42# labels of 0: tensor([ 26, 136, 111, 166, 144,  92,  43,  78,  64,  54,  77, 124,  79, 100,\n",
      "         46, 164], device='cuda:1') torch.Size([16])\n",
      "09/11/2023, 19:35:42# predicted of 0: tensor([ 26, 136,  47, 166,  47,  47,  43,  67,   8,  47,  77,  47,  79, 100,\n",
      "         46,  47], device='cuda:1') torch.Size([16])\n",
      "09/11/2023, 19:36:02# labels of Validation: tensor([ 61, 152,  53,  58,  66,  90,  62,  14,  25,  11,  56,  75,  60,  94,\n",
      "        130,   4], device='cuda:1') torch.Size([16])\n",
      "09/11/2023, 19:36:02# predicted of Validation: tensor([ 61,  47,  47,  58,  66,  68,  62,  47,  25,  47,  56,  47,  47,  94,\n",
      "        130,  47], device='cuda:1') torch.Size([16])\n",
      "09/11/2023, 19:36:03# Validation Loss: 1.5175 | Validation Accuracy: 0.6073\n",
      "\n",
      "09/11/2023, 19:36:03# Find a better model!!\n"
     ]
    },
    {
     "data": {
      "application/vnd.jupyter.widget-view+json": {
       "model_id": "d4e229d7fdc6443e80b2f5413e180f8c",
       "version_major": 2,
       "version_minor": 0
      },
      "text/plain": [
       "Training:   0%|          | 0/8250 [00:00<?, ?it/s]"
      ]
     },
     "metadata": {},
     "output_type": "display_data"
    },
    {
     "name": "stdout",
     "output_type": "stream",
     "text": [
      "09/11/2023, 19:38:04# labels of 5000: tensor([  3,  13, 137, 145,  85, 158, 145,  70,  14,  91, 138,  70, 162,  53,\n",
      "         26,  78], device='cuda:1') torch.Size([16])\n",
      "09/11/2023, 19:38:04# predicted of 5000: tensor([  3,  13, 137, 145,  85,  31, 145,  70,  31, 108, 138,  70,  31,  31,\n",
      "         26,  78], device='cuda:1') torch.Size([16])\n",
      "09/11/2023, 19:39:22# total batches: 8250\n",
      "09/11/2023, 19:39:22# Epoch 9 | Train Loss: 1.5179 | Train Accuracy: 0.6086\n"
     ]
    },
    {
     "data": {
      "application/vnd.jupyter.widget-view+json": {
       "model_id": "e6718bb43d634964b9198f204011192e",
       "version_major": 2,
       "version_minor": 0
      },
      "text/plain": [
       "Validation:   0%|          | 0/1032 [00:00<?, ?it/s]"
      ]
     },
     "metadata": {},
     "output_type": "display_data"
    },
    {
     "name": "stdout",
     "output_type": "stream",
     "text": [
      "09/11/2023, 19:39:22# labels of Validation: tensor([ 44, 101, 120, 148,  71,  94, 145, 166,  99, 103,  93, 152,  33, 164,\n",
      "        136, 129], device='cuda:1') torch.Size([16])\n",
      "09/11/2023, 19:39:22# predicted of Validation: tensor([125, 101, 120, 148,  71,  94, 145, 166,  99, 114, 114, 125, 125, 125,\n",
      "        136, 129], device='cuda:1') torch.Size([16])\n",
      "09/11/2023, 19:39:22# labels of 0: tensor([ 44, 101, 120, 148,  71,  94, 145, 166,  99, 103,  93, 152,  33, 164,\n",
      "        136, 129], device='cuda:1') torch.Size([16])\n",
      "09/11/2023, 19:39:22# predicted of 0: tensor([125, 101, 120, 148,  71,  94, 145, 166,  99, 114, 114, 125, 125, 125,\n",
      "        136, 129], device='cuda:1') torch.Size([16])\n",
      "09/11/2023, 19:39:44# labels of Validation: tensor([ 97,  43, 108, 134,  67,  67,  99,  78,  36, 116, 152,  31, 102,   7,\n",
      "         62, 120], device='cuda:1') torch.Size([16])\n",
      "09/11/2023, 19:39:44# predicted of Validation: tensor([125,  43, 108, 134,  67,  67,  99,  67, 125, 125, 125, 125, 102,   7,\n",
      "         62, 120], device='cuda:1') torch.Size([16])\n",
      "09/11/2023, 19:39:44# Validation Loss: 1.5193 | Validation Accuracy: 0.6098\n",
      "\n"
     ]
    },
    {
     "data": {
      "application/vnd.jupyter.widget-view+json": {
       "model_id": "a0cdcc3b13da4e61a8e16a68a0725d2c",
       "version_major": 2,
       "version_minor": 0
      },
      "text/plain": [
       "Training:   0%|          | 0/8250 [00:00<?, ?it/s]"
      ]
     },
     "metadata": {},
     "output_type": "display_data"
    },
    {
     "name": "stdout",
     "output_type": "stream",
     "text": [
      "09/11/2023, 19:41:43# labels of 5000: tensor([ 46, 151,  89,  83, 157,  58,  30,  68, 106,  78,  17, 121, 151, 144,\n",
      "         78, 147], device='cuda:1') torch.Size([16])\n",
      "09/11/2023, 19:41:43# predicted of 5000: tensor([ 46,   4,  89,   4,   4,  58, 104,   8, 106,  67,  17,   4,   4,   4,\n",
      "         67, 147], device='cuda:1') torch.Size([16])\n",
      "09/11/2023, 19:43:00# total batches: 8250\n",
      "09/11/2023, 19:43:00# Epoch 10 | Train Loss: 1.5132 | Train Accuracy: 0.6096\n"
     ]
    },
    {
     "data": {
      "application/vnd.jupyter.widget-view+json": {
       "model_id": "a09747ebc8fb49cabfe1c052bee4fbf6",
       "version_major": 2,
       "version_minor": 0
      },
      "text/plain": [
       "Validation:   0%|          | 0/1032 [00:00<?, ?it/s]"
      ]
     },
     "metadata": {},
     "output_type": "display_data"
    },
    {
     "name": "stdout",
     "output_type": "stream",
     "text": [
      "09/11/2023, 19:43:00# labels of Validation: tensor([ 63,   9,  35,  32,  43,  38, 142,  19, 148,   2,  52,  59,  51,  35,\n",
      "         70, 158], device='cuda:1') torch.Size([16])\n",
      "09/11/2023, 19:43:00# predicted of Validation: tensor([ 63, 104,  35,  32,  43,  92,  92,  19, 148,  92,  52,  91,  51,  35,\n",
      "         70,  92], device='cuda:1') torch.Size([16])\n",
      "09/11/2023, 19:43:00# labels of 0: tensor([ 63,   9,  35,  32,  43,  38, 142,  19, 148,   2,  52,  59,  51,  35,\n",
      "         70, 158], device='cuda:1') torch.Size([16])\n",
      "09/11/2023, 19:43:00# predicted of 0: tensor([ 63, 104,  35,  32,  43,  92,  92,  19, 148,  92,  52,  91,  51,  35,\n",
      "         70,  92], device='cuda:1') torch.Size([16])\n",
      "09/11/2023, 19:43:20# labels of Validation: tensor([111, 105,  36, 135, 162,  80, 108,  45,  63,  33, 151,  89,  16,  48,\n",
      "        139,  26], device='cuda:1') torch.Size([16])\n",
      "09/11/2023, 19:43:20# predicted of Validation: tensor([ 92, 105,  92, 135, 152,  80, 108,  45,  63,  92,  92,  89,  16,  92,\n",
      "        139,  26], device='cuda:1') torch.Size([16])\n",
      "09/11/2023, 19:43:20# Validation Loss: 1.5095 | Validation Accuracy: 0.6086\n",
      "\n",
      "09/11/2023, 19:43:20# Find a better model!!\n"
     ]
    },
    {
     "data": {
      "application/vnd.jupyter.widget-view+json": {
       "model_id": "ea139f0a54d446a6908afddba24c550f",
       "version_major": 2,
       "version_minor": 0
      },
      "text/plain": [
       "Training:   0%|          | 0/8250 [00:00<?, ?it/s]"
      ]
     },
     "metadata": {},
     "output_type": "display_data"
    },
    {
     "name": "stdout",
     "output_type": "stream",
     "text": [
      "09/11/2023, 19:45:14# labels of 5000: tensor([161,  91,   0, 152,  42, 159,  26, 146,   0, 113, 103,  37,  13,  14,\n",
      "        100, 137], device='cuda:1') torch.Size([16])\n",
      "09/11/2023, 19:45:14# predicted of 5000: tensor([161,  59,   0,  30,  30, 159,  26, 146,   0,  88,  64,  37,  13,  30,\n",
      "        100, 137], device='cuda:1') torch.Size([16])\n",
      "09/11/2023, 19:46:09# total batches: 8250\n",
      "09/11/2023, 19:46:09# Epoch 11 | Train Loss: 1.5093 | Train Accuracy: 0.6094\n"
     ]
    },
    {
     "data": {
      "application/vnd.jupyter.widget-view+json": {
       "model_id": "37d33cfa69504b78a00d223998841571",
       "version_major": 2,
       "version_minor": 0
      },
      "text/plain": [
       "Validation:   0%|          | 0/1032 [00:00<?, ?it/s]"
      ]
     },
     "metadata": {},
     "output_type": "display_data"
    },
    {
     "name": "stdout",
     "output_type": "stream",
     "text": [
      "09/11/2023, 19:46:09# labels of Validation: tensor([ 64, 162, 156,   8,  21,  13,   6, 133,  44,  30,  41,  29,  89, 140,\n",
      "         83,  16], device='cuda:1') torch.Size([16])\n",
      "09/11/2023, 19:46:09# predicted of Validation: tensor([ 93,  38, 156,  93,  21,  13,   6, 133,  38,  38,  41,  29,  89, 140,\n",
      "         38,  16], device='cuda:1') torch.Size([16])\n",
      "09/11/2023, 19:46:09# labels of 0: tensor([ 64, 162, 156,   8,  21,  13,   6, 133,  44,  30,  41,  29,  89, 140,\n",
      "         83,  16], device='cuda:1') torch.Size([16])\n",
      "09/11/2023, 19:46:09# predicted of 0: tensor([ 93,  38, 156,  93,  21,  13,   6, 133,  38,  38,  41,  29,  89, 140,\n",
      "         38,  16], device='cuda:1') torch.Size([16])\n",
      "09/11/2023, 19:46:22# labels of Validation: tensor([152,  54, 115, 140, 111,  53, 149,  45, 158,  79,  74, 151,   8, 114,\n",
      "         21,  75], device='cuda:1') torch.Size([16])\n",
      "09/11/2023, 19:46:22# predicted of Validation: tensor([ 38,  38, 115, 140,  38,  38, 149,  45,  38,  79,  38,  38,  93,  93,\n",
      "         21,  38], device='cuda:1') torch.Size([16])\n",
      "09/11/2023, 19:46:22# Validation Loss: 1.5044 | Validation Accuracy: 0.6134\n",
      "\n",
      "09/11/2023, 19:46:22# Find a better model!!\n"
     ]
    },
    {
     "data": {
      "application/vnd.jupyter.widget-view+json": {
       "model_id": "1d99c81e591a43768d58e3de48517017",
       "version_major": 2,
       "version_minor": 0
      },
      "text/plain": [
       "Training:   0%|          | 0/8250 [00:00<?, ?it/s]"
      ]
     },
     "metadata": {},
     "output_type": "display_data"
    },
    {
     "name": "stdout",
     "output_type": "stream",
     "text": [
      "09/11/2023, 19:47:45# labels of 5000: tensor([ 52,  62,  49,  70, 153, 142,  85, 135,  96,  52,  44, 161,   8,  74,\n",
      "        153,  64], device='cuda:1') torch.Size([16])\n",
      "09/11/2023, 19:47:45# predicted of 5000: tensor([ 52,  62, 144,  70, 153, 144,  85, 135,  96,  52, 144, 161,  93, 144,\n",
      "        153, 103], device='cuda:1') torch.Size([16])\n",
      "09/11/2023, 19:48:36# total batches: 8250\n",
      "09/11/2023, 19:48:36# Epoch 12 | Train Loss: 1.5059 | Train Accuracy: 0.6102\n"
     ]
    },
    {
     "data": {
      "application/vnd.jupyter.widget-view+json": {
       "model_id": "ce76dc7a4666410c94bea81df0c7e443",
       "version_major": 2,
       "version_minor": 0
      },
      "text/plain": [
       "Validation:   0%|          | 0/1032 [00:00<?, ?it/s]"
      ]
     },
     "metadata": {},
     "output_type": "display_data"
    },
    {
     "name": "stdout",
     "output_type": "stream",
     "text": [
      "09/11/2023, 19:48:37# labels of Validation: tensor([124, 122, 163,  53, 121,  80,  14,  47,  69, 154,  78, 153,  24,   6,\n",
      "         36, 165], device='cuda:1') torch.Size([16])\n",
      "09/11/2023, 19:48:37# predicted of Validation: tensor([158, 122, 158, 158, 158,  80, 158, 158,  69, 154,  67, 153, 158,   6,\n",
      "        158, 165], device='cuda:1') torch.Size([16])\n",
      "09/11/2023, 19:48:37# labels of 0: tensor([124, 122, 163,  53, 121,  80,  14,  47,  69, 154,  78, 153,  24,   6,\n",
      "         36, 165], device='cuda:1') torch.Size([16])\n",
      "09/11/2023, 19:48:37# predicted of 0: tensor([158, 122, 158, 158, 158,  80, 158, 158,  69, 154,  67, 153, 158,   6,\n",
      "        158, 165], device='cuda:1') torch.Size([16])\n",
      "09/11/2023, 19:48:49# labels of Validation: tensor([ 30,  27,  72, 110,  91, 126,  28, 134,  74, 138,   6,  27, 159, 115,\n",
      "        136,  74], device='cuda:1') torch.Size([16])\n",
      "09/11/2023, 19:48:49# predicted of Validation: tensor([158,  27,  72,   8,  59, 126,  28, 134, 164, 138,   6,  27, 159, 115,\n",
      "        136, 158], device='cuda:1') torch.Size([16])\n",
      "09/11/2023, 19:48:50# Validation Loss: 1.5061 | Validation Accuracy: 0.6074\n",
      "\n"
     ]
    },
    {
     "data": {
      "application/vnd.jupyter.widget-view+json": {
       "model_id": "393f3f1e5bb34b99a25f817d9a3ca6e6",
       "version_major": 2,
       "version_minor": 0
      },
      "text/plain": [
       "Training:   0%|          | 0/8250 [00:00<?, ?it/s]"
      ]
     },
     "metadata": {},
     "output_type": "display_data"
    },
    {
     "name": "stdout",
     "output_type": "stream",
     "text": [
      "09/11/2023, 19:50:12# labels of 5000: tensor([124,  92,  73,  14,  31, 149,  93,  35, 131, 108, 150, 108, 126,  11,\n",
      "         51,   5], device='cuda:1') torch.Size([16])\n",
      "09/11/2023, 19:50:12# predicted of 5000: tensor([ 54,  54,  73,  54,  54, 149, 113,  35, 131, 108,  54, 108, 126,  54,\n",
      "         51,   5], device='cuda:1') torch.Size([16])\n",
      "09/11/2023, 19:51:04# total batches: 8250\n",
      "09/11/2023, 19:51:04# Epoch 13 | Train Loss: 1.5036 | Train Accuracy: 0.6110\n"
     ]
    },
    {
     "data": {
      "application/vnd.jupyter.widget-view+json": {
       "model_id": "0c9ae59285954ec7b3c14d40c98e7577",
       "version_major": 2,
       "version_minor": 0
      },
      "text/plain": [
       "Validation:   0%|          | 0/1032 [00:00<?, ?it/s]"
      ]
     },
     "metadata": {},
     "output_type": "display_data"
    },
    {
     "name": "stdout",
     "output_type": "stream",
     "text": [
      "09/11/2023, 19:51:04# labels of Validation: tensor([ 61,  24, 125, 123, 101,  13,  91,  40, 119,  88,   7, 124,  48, 115,\n",
      "         93,   1], device='cuda:1') torch.Size([16])\n",
      "09/11/2023, 19:51:04# predicted of Validation: tensor([ 61,  38,  38, 123, 101,  13,  59,  40,  38,   8,   7,  38,  38, 115,\n",
      "          8,  55], device='cuda:1') torch.Size([16])\n",
      "09/11/2023, 19:51:04# labels of 0: tensor([ 61,  24, 125, 123, 101,  13,  91,  40, 119,  88,   7, 124,  48, 115,\n",
      "         93,   1], device='cuda:1') torch.Size([16])\n",
      "09/11/2023, 19:51:04# predicted of 0: tensor([ 61,  38,  38, 123, 101,  13,  59,  40,  38,   8,   7,  38,  38, 115,\n",
      "          8,  55], device='cuda:1') torch.Size([16])\n",
      "09/11/2023, 19:51:17# labels of Validation: tensor([ 50, 108, 125,  21,  82,  69, 117,  47,  15,  76,  38, 162,   7,  28,\n",
      "        101, 154], device='cuda:1') torch.Size([16])\n",
      "09/11/2023, 19:51:17# predicted of Validation: tensor([ 50, 131,  38,  21,  82,  69, 117,  38,  15,  38,  55,  38,   7,  28,\n",
      "        101, 154], device='cuda:1') torch.Size([16])\n",
      "09/11/2023, 19:51:17# Validation Loss: 1.5046 | Validation Accuracy: 0.6146\n",
      "\n"
     ]
    },
    {
     "data": {
      "application/vnd.jupyter.widget-view+json": {
       "model_id": "cae97b8e876143738a337aba0b72d0b0",
       "version_major": 2,
       "version_minor": 0
      },
      "text/plain": [
       "Training:   0%|          | 0/8250 [00:00<?, ?it/s]"
      ]
     },
     "metadata": {},
     "output_type": "display_data"
    },
    {
     "name": "stdout",
     "output_type": "stream",
     "text": [
      "09/11/2023, 19:52:39# labels of 5000: tensor([  6,  40,  73,  95,  99, 119,  20,  47,  77,  23, 120,  53,  33,  72,\n",
      "        148, 134], device='cuda:1') torch.Size([16])\n",
      "09/11/2023, 19:52:39# predicted of 5000: tensor([  6,  40,  73,  95,  99,  87,  20,  87,  77,  23, 120,  87,  87,  72,\n",
      "        148, 134], device='cuda:1') torch.Size([16])\n",
      "09/11/2023, 19:53:29# total batches: 8250\n",
      "09/11/2023, 19:53:29# Epoch 14 | Train Loss: 1.5012 | Train Accuracy: 0.6128\n"
     ]
    },
    {
     "data": {
      "application/vnd.jupyter.widget-view+json": {
       "model_id": "75204af5823345dfaf614acb8428ee4a",
       "version_major": 2,
       "version_minor": 0
      },
      "text/plain": [
       "Validation:   0%|          | 0/1032 [00:00<?, ?it/s]"
      ]
     },
     "metadata": {},
     "output_type": "display_data"
    },
    {
     "name": "stdout",
     "output_type": "stream",
     "text": [
      "09/11/2023, 19:53:29# labels of Validation: tensor([163, 162,  56, 115,   4,  55,  82, 135,  89, 126,  18,  73, 122, 138,\n",
      "         75,  71], device='cuda:1') torch.Size([16])\n",
      "09/11/2023, 19:53:29# predicted of Validation: tensor([ 31,  31,  56, 115,  31,  31,  82, 135,  89, 126,  31,  73, 122, 138,\n",
      "         31,  71], device='cuda:1') torch.Size([16])\n",
      "09/11/2023, 19:53:29# labels of 0: tensor([163, 162,  56, 115,   4,  55,  82, 135,  89, 126,  18,  73, 122, 138,\n",
      "         75,  71], device='cuda:1') torch.Size([16])\n",
      "09/11/2023, 19:53:29# predicted of 0: tensor([ 31,  31,  56, 115,  31,  31,  82, 135,  89, 126,  31,  73, 122, 138,\n",
      "         31,  71], device='cuda:1') torch.Size([16])\n",
      "09/11/2023, 19:53:42# labels of Validation: tensor([ 81,   6, 106, 155, 102,  15,   7, 101, 138,  48,  91, 109, 118,   2,\n",
      "         66, 124], device='cuda:1') torch.Size([16])\n",
      "09/11/2023, 19:53:42# predicted of Validation: tensor([ 31,   6, 106, 155, 102,  15,   7, 101, 138,  31, 108,  31, 118,  31,\n",
      "         66,  31], device='cuda:1') torch.Size([16])\n",
      "09/11/2023, 19:53:43# Validation Loss: 1.5011 | Validation Accuracy: 0.6087\n",
      "\n",
      "09/11/2023, 19:53:43# Find a better model!!\n"
     ]
    },
    {
     "data": {
      "application/vnd.jupyter.widget-view+json": {
       "model_id": "f9e32d24554b4c24b2c9aadaf551d9db",
       "version_major": 2,
       "version_minor": 0
      },
      "text/plain": [
       "Training:   0%|          | 0/8250 [00:00<?, ?it/s]"
      ]
     },
     "metadata": {},
     "output_type": "display_data"
    },
    {
     "name": "stdout",
     "output_type": "stream",
     "text": [
      "09/11/2023, 19:54:59# labels of 5000: tensor([162, 138,  99,  29,  74, 108,  56, 115,  15, 141, 119,  20,  36,  37,\n",
      "        117, 160], device='cuda:1') torch.Size([16])\n",
      "09/11/2023, 19:54:59# predicted of 5000: tensor([ 54, 138,  99,  29,  54, 108,  56, 115,  15, 141,  54,  20,  54,  37,\n",
      "        117, 160], device='cuda:1') torch.Size([16])\n",
      "09/11/2023, 19:55:50# total batches: 8250\n",
      "09/11/2023, 19:55:50# Epoch 15 | Train Loss: 1.5001 | Train Accuracy: 0.6112\n"
     ]
    },
    {
     "data": {
      "application/vnd.jupyter.widget-view+json": {
       "model_id": "8e13fdbd57d34d259a7da2cea13d4a40",
       "version_major": 2,
       "version_minor": 0
      },
      "text/plain": [
       "Validation:   0%|          | 0/1032 [00:00<?, ?it/s]"
      ]
     },
     "metadata": {},
     "output_type": "display_data"
    },
    {
     "name": "stdout",
     "output_type": "stream",
     "text": [
      "09/11/2023, 19:55:50# labels of Validation: tensor([ 30, 138,  99, 110,   7,  15,  11, 150, 145, 160,  58,  57, 160,  43,\n",
      "        149,   2], device='cuda:1') torch.Size([16])\n",
      "09/11/2023, 19:55:50# predicted of Validation: tensor([124, 138,  99,  90,   7,  15,  12,  12, 145, 160,  58, 124, 160,  43,\n",
      "        149, 124], device='cuda:1') torch.Size([16])\n",
      "09/11/2023, 19:55:50# labels of 0: tensor([ 30, 138,  99, 110,   7,  15,  11, 150, 145, 160,  58,  57, 160,  43,\n",
      "        149,   2], device='cuda:1') torch.Size([16])\n",
      "09/11/2023, 19:55:50# predicted of 0: tensor([124, 138,  99,  90,   7,  15,  12,  12, 145, 160,  58, 124, 160,  43,\n",
      "        149, 124], device='cuda:1') torch.Size([16])\n",
      "09/11/2023, 19:56:03# labels of Validation: tensor([ 94, 122, 127,   6, 132,  49, 112,  58,  37,  74, 136, 155,  80,  37,\n",
      "         21,  11], device='cuda:1') torch.Size([16])\n",
      "09/11/2023, 19:56:03# predicted of Validation: tensor([ 94, 122, 127,   6, 132, 124, 124,  58,  37,  12, 136, 155,  80,  37,\n",
      "         21, 124], device='cuda:1') torch.Size([16])\n",
      "09/11/2023, 19:56:03# Validation Loss: 1.5013 | Validation Accuracy: 0.6125\n",
      "\n"
     ]
    },
    {
     "data": {
      "application/vnd.jupyter.widget-view+json": {
       "model_id": "80a770bbeacd47b38d9e7ee90a53bd82",
       "version_major": 2,
       "version_minor": 0
      },
      "text/plain": [
       "Training:   0%|          | 0/8250 [00:00<?, ?it/s]"
      ]
     },
     "metadata": {},
     "output_type": "display_data"
    },
    {
     "name": "stdout",
     "output_type": "stream",
     "text": [
      "09/11/2023, 19:57:24# labels of 5000: tensor([111,  48,  28, 147, 150, 140, 115,  17, 116,  61, 156,  70, 135, 140,\n",
      "         19, 117], device='cuda:1') torch.Size([16])\n",
      "09/11/2023, 19:57:24# predicted of 5000: tensor([ 31,  31,  28, 147,  31, 140, 115,  17,  31,  61, 156,  70, 135, 140,\n",
      "         19, 117], device='cuda:1') torch.Size([16])\n",
      "09/11/2023, 19:58:16# total batches: 8250\n",
      "09/11/2023, 19:58:16# Epoch 16 | Train Loss: 1.4984 | Train Accuracy: 0.6116\n"
     ]
    },
    {
     "data": {
      "application/vnd.jupyter.widget-view+json": {
       "model_id": "905854d130df498996462c227c76f1e4",
       "version_major": 2,
       "version_minor": 0
      },
      "text/plain": [
       "Validation:   0%|          | 0/1032 [00:00<?, ?it/s]"
      ]
     },
     "metadata": {},
     "output_type": "display_data"
    },
    {
     "name": "stdout",
     "output_type": "stream",
     "text": [
      "09/11/2023, 19:58:16# labels of Validation: tensor([151, 109,  14,   7, 104,   6,  78,  52,  25,  98,  72,   9, 152,  86,\n",
      "         31,  19], device='cuda:1') torch.Size([16])\n",
      "09/11/2023, 19:58:16# predicted of Validation: tensor([36,  9, 36,  7, 36,  6, 67, 52, 25, 98, 72, 36, 36, 86, 36, 19],\n",
      "       device='cuda:1') torch.Size([16])\n",
      "09/11/2023, 19:58:16# labels of 0: tensor([151, 109,  14,   7, 104,   6,  78,  52,  25,  98,  72,   9, 152,  86,\n",
      "         31,  19], device='cuda:1') torch.Size([16])\n",
      "09/11/2023, 19:58:16# predicted of 0: tensor([36,  9, 36,  7, 36,  6, 67, 52, 25, 98, 72, 36, 36, 86, 36, 19],\n",
      "       device='cuda:1') torch.Size([16])\n",
      "09/11/2023, 19:58:29# labels of Validation: tensor([ 75,  28,  17, 100, 137, 112,  38, 147,  15, 148,  36, 147, 110, 103,\n",
      "        122, 130], device='cuda:1') torch.Size([16])\n",
      "09/11/2023, 19:58:29# predicted of Validation: tensor([  9,  28,  17, 100, 137,   9,   9, 147,  15, 148,  36, 147,   8,   8,\n",
      "        122, 130], device='cuda:1') torch.Size([16])\n",
      "09/11/2023, 19:58:30# Validation Loss: 1.5014 | Validation Accuracy: 0.6128\n",
      "\n"
     ]
    },
    {
     "data": {
      "application/vnd.jupyter.widget-view+json": {
       "model_id": "7c8724d8c7a0440a81a468135f290656",
       "version_major": 2,
       "version_minor": 0
      },
      "text/plain": [
       "Training:   0%|          | 0/8250 [00:00<?, ?it/s]"
      ]
     },
     "metadata": {},
     "output_type": "display_data"
    },
    {
     "name": "stdout",
     "output_type": "stream",
     "text": [
      "09/11/2023, 19:59:50# labels of 5000: tensor([ 23,  49,  36,  87,  25,  53,  89, 138, 103, 162,  74,   6, 107,  81,\n",
      "        149, 115], device='cuda:1') torch.Size([16])\n",
      "09/11/2023, 19:59:50# predicted of 5000: tensor([ 23,  42,  42,  42,  25,  42,  89, 138, 113,  42,  42,   6, 107,  42,\n",
      "        149, 115], device='cuda:1') torch.Size([16])\n",
      "09/11/2023, 20:00:42# total batches: 8250\n",
      "09/11/2023, 20:00:42# Epoch 17 | Train Loss: 1.4971 | Train Accuracy: 0.6116\n"
     ]
    },
    {
     "data": {
      "application/vnd.jupyter.widget-view+json": {
       "model_id": "83066dd2b06a439dbc2a776c7177ad28",
       "version_major": 2,
       "version_minor": 0
      },
      "text/plain": [
       "Validation:   0%|          | 0/1032 [00:00<?, ?it/s]"
      ]
     },
     "metadata": {},
     "output_type": "display_data"
    },
    {
     "name": "stdout",
     "output_type": "stream",
     "text": [
      "09/11/2023, 20:00:42# labels of Validation: tensor([150,  61,  33,   5,   1, 120, 166, 120,  33,  20, 129,  50,  41, 111,\n",
      "        150,  27], device='cuda:1') torch.Size([16])\n",
      "09/11/2023, 20:00:42# predicted of Validation: tensor([ 87,  61,  87,   5,  87, 120, 166, 120,  87,  20, 129,  50,  41,  87,\n",
      "         87,  27], device='cuda:1') torch.Size([16])\n",
      "09/11/2023, 20:00:42# labels of 0: tensor([150,  61,  33,   5,   1, 120, 166, 120,  33,  20, 129,  50,  41, 111,\n",
      "        150,  27], device='cuda:1') torch.Size([16])\n",
      "09/11/2023, 20:00:42# predicted of 0: tensor([ 87,  61,  87,   5,  87, 120, 166, 120,  87,  20, 129,  50,  41,  87,\n",
      "         87,  27], device='cuda:1') torch.Size([16])\n",
      "09/11/2023, 20:00:54# labels of Validation: tensor([132, 156,  60,  43, 150,  13,  59, 123,  18,  45, 116,  35, 164, 103,\n",
      "        142, 111], device='cuda:1') torch.Size([16])\n",
      "09/11/2023, 20:00:54# predicted of Validation: tensor([132, 156,  81,  43,  81,  13,  91, 123,  87,  45,  87,  35,   9,  93,\n",
      "         87,  87], device='cuda:1') torch.Size([16])\n",
      "09/11/2023, 20:00:55# Validation Loss: 1.4956 | Validation Accuracy: 0.6124\n",
      "\n",
      "09/11/2023, 20:00:55# Find a better model!!\n"
     ]
    },
    {
     "data": {
      "application/vnd.jupyter.widget-view+json": {
       "model_id": "5eec4ccd4bb94cb8a131c98f34f5ef87",
       "version_major": 2,
       "version_minor": 0
      },
      "text/plain": [
       "Training:   0%|          | 0/8250 [00:00<?, ?it/s]"
      ]
     },
     "metadata": {},
     "output_type": "display_data"
    },
    {
     "name": "stdout",
     "output_type": "stream",
     "text": [
      "09/11/2023, 20:02:18# labels of 5000: tensor([  4, 102, 142,  54, 106, 116,  48,  77,  68, 116, 111,  27,  64,  52,\n",
      "         36, 111], device='cuda:1') torch.Size([16])\n",
      "09/11/2023, 20:02:18# predicted of 5000: tensor([ 38, 102,  38,  38, 106,  38, 125,  77,  64,  38,  38,  27,  64,  52,\n",
      "        125, 125], device='cuda:1') torch.Size([16])\n",
      "09/11/2023, 20:03:11# total batches: 8250\n",
      "09/11/2023, 20:03:11# Epoch 18 | Train Loss: 1.4958 | Train Accuracy: 0.6134\n"
     ]
    },
    {
     "data": {
      "application/vnd.jupyter.widget-view+json": {
       "model_id": "1a9d0157c64143cd8c52bf07e5a5ad91",
       "version_major": 2,
       "version_minor": 0
      },
      "text/plain": [
       "Validation:   0%|          | 0/1032 [00:00<?, ?it/s]"
      ]
     },
     "metadata": {},
     "output_type": "display_data"
    },
    {
     "name": "stdout",
     "output_type": "stream",
     "text": [
      "09/11/2023, 20:03:11# labels of Validation: tensor([ 36,  49, 123,  97, 103,  91,  79, 104,  15,  67,  50,  96,  21, 120,\n",
      "        114, 136], device='cuda:1') torch.Size([16])\n",
      "09/11/2023, 20:03:11# predicted of Validation: tensor([ 30,  30, 123,  30, 113,  91,  79,  30,  15,  67,  50,  96,  21, 120,\n",
      "        113, 136], device='cuda:1') torch.Size([16])\n",
      "09/11/2023, 20:03:11# labels of 0: tensor([ 36,  49, 123,  97, 103,  91,  79, 104,  15,  67,  50,  96,  21, 120,\n",
      "        114, 136], device='cuda:1') torch.Size([16])\n",
      "09/11/2023, 20:03:11# predicted of 0: tensor([ 30,  30, 123,  30, 113,  91,  79,  30,  15,  67,  50,  96,  21, 120,\n",
      "        113, 136], device='cuda:1') torch.Size([16])\n",
      "09/11/2023, 20:03:24# labels of Validation: tensor([100,  28,  21,  43,  75, 136,  41, 128, 127,  80,  33,  10,  39, 114,\n",
      "        124,  18], device='cuda:1') torch.Size([16])\n",
      "09/11/2023, 20:03:24# predicted of Validation: tensor([100,  28,  21,  43,  30, 136,  41, 128, 127,  80,  30,  10,  39, 113,\n",
      "         30,  30], device='cuda:1') torch.Size([16])\n",
      "09/11/2023, 20:03:24# Validation Loss: 1.4944 | Validation Accuracy: 0.6109\n",
      "\n",
      "09/11/2023, 20:03:24# Find a better model!!\n"
     ]
    },
    {
     "data": {
      "application/vnd.jupyter.widget-view+json": {
       "model_id": "1619134dc0944092bc12e3a89d790a6b",
       "version_major": 2,
       "version_minor": 0
      },
      "text/plain": [
       "Training:   0%|          | 0/8250 [00:00<?, ?it/s]"
      ]
     },
     "metadata": {},
     "output_type": "display_data"
    },
    {
     "name": "stdout",
     "output_type": "stream",
     "text": [
      "09/11/2023, 20:04:45# labels of 5000: tensor([109,  10, 145,  49,  85,  13,  48, 161,   3, 150,  83,  15,  34, 132,\n",
      "         29,  41], device='cuda:1') torch.Size([16])\n",
      "09/11/2023, 20:04:45# predicted of 5000: tensor([151,  10, 145, 151,  85,  13, 151, 161,   3, 151, 151,  15, 151, 132,\n",
      "         29,  41], device='cuda:1') torch.Size([16])\n"
     ]
    }
   ],
   "source": [
    "import csv\n",
    "import pandas as pd\n",
    "from sklearn.metrics import classification_report\n",
    "from torch.optim import AdamW, lr_scheduler\n",
    "\n",
    "seed = 8787\n",
    "same_seeds(seed)\n",
    "\n",
    "model = GraphSAGE(in_dim=50, hidden_dim=16, out_dim=167)\n",
    "# in_dim means the dimension of the node_feat(50 dim, since the 50-dim embedding)\n",
    "# out_dim means the # of the categories -> 168 for out tasks\n",
    "model.load_state_dict(torch.load('model3_initial(graphsage)/initial_weight.pth'))\n",
    "best_model_path = \"../checkpoint_graphSAGE/best_model_GraphSAGE_transH_50.pt\"\n",
    "\n",
    "model = model.to(device)\n",
    "\n",
    "# optimizer = torch.optim.AdamW(model.parameters(), lr=1e-5)\n",
    "optimizer = AdamW(model.parameters(), lr=5e-4)\n",
    "# scheduler = get_linear_schedule_with_warmup(optimizer, num_warmup_steps=18, num_training_steps=total_steps)\n",
    "\n",
    "# T_max control the period of the lr changing -> set 1/10 first\n",
    "scheduler = lr_scheduler.CosineAnnealingLR(optimizer, T_max=36, eta_min=0, last_epoch=- 1, verbose=False)\n",
    "\n",
    "\n",
    "criterion = nn.CrossEntropyLoss()\n",
    "# criterion = torch.nn.BCEWithLogitsLoss()\n",
    "\n",
    "total_steps = 50\n",
    "\n",
    "# save the best model\n",
    "best_val_loss = float('inf')\n",
    "patience = 10  # Number of epochs with no improvement after which training will be stopped.\n",
    "waiting = 0  # The number of epochs with no improvement so far.\n",
    "\n",
    "\n",
    "# Training Part\n",
    "for epoch in tqdm(range(total_steps)):\n",
    "    # Train\n",
    "    model.train()\n",
    "    total_loss = 0.0\n",
    "    total_accuracy = 0.0\n",
    "    num_batches = 0\n",
    "    \n",
    "    for data in tqdm(dataloaders['train'], desc=\"Training\", position=0, leave=True):\n",
    "        num_batches += 1\n",
    "        loss, accuracy, _ = model_fn(data, model, criterion, device, num_batches, which_type='train')\n",
    "        \n",
    "        optimizer.zero_grad()\n",
    "        loss.backward()\n",
    "        optimizer.step()\n",
    "\n",
    "        total_loss += loss.item()\n",
    "        total_accuracy += accuracy.item()\n",
    "\n",
    "        \n",
    "#     scheduler.step()\n",
    "    add_log_msg(f\"total batches: {num_batches}\")\n",
    "\n",
    "    avg_loss = total_loss / num_batches\n",
    "    avg_accuracy = total_accuracy / num_batches\n",
    "\n",
    "    add_log_msg(f'Epoch {epoch} | Train Loss: {avg_loss:.4f} | Train Accuracy: {avg_accuracy:.4f}')\n",
    "\n",
    "    \n",
    "    # Validation Part\n",
    "    model.eval()\n",
    "    total_accuracy = 0.0\n",
    "    total_loss = 0.0\n",
    "    num_batches = 0\n",
    "\n",
    "\n",
    "    with torch.no_grad():\n",
    "        for data in tqdm(dataloaders['valid'], desc=\"Validation\", position=0, leave=True):\n",
    "            loss, accuracy, _ = model_fn(data, model, criterion, device, num_batches, which_type='validation')\n",
    "            total_accuracy += accuracy.item()\n",
    "            total_loss += loss.item()\n",
    "            num_batches += 1\n",
    "\n",
    "    avg_accuracy = total_accuracy / num_batches\n",
    "    current_loss = total_loss / num_batches\n",
    "    \n",
    "    add_log_msg(f'Validation Loss: {current_loss:.4f} | Validation Accuracy: {avg_accuracy:.4f}\\n')\n",
    "    \n",
    "            \n",
    "    if current_loss < best_val_loss:\n",
    "        best_val_loss = current_loss\n",
    "        waiting = 0\n",
    "        \n",
    "        if os.path.exists(best_model_path):\n",
    "            os.remove(best_model_path)\n",
    "            add_log_msg(\"Find a better model!!\")\n",
    "\n",
    "        torch.save(model.state_dict(), best_model_path)\n",
    "\n",
    "#         print(best_model_path)\n",
    "\n",
    "    else:\n",
    "        waiting += 1\n",
    "        if waiting >= patience:\n",
    "            add_log_msg(\"============================== Early stopping ==================================\")\n",
    "            break"
   ]
  },
  {
   "cell_type": "code",
   "execution_count": null,
   "metadata": {},
   "outputs": [],
   "source": [
    "# load the pretrained model\n",
    "pretrained_model_path = '../checkpoint_graphSAGE/best_model_GraphSAGE_transH_50.pt'\n",
    "model.load_state_dict(torch.load(pretrained_model_path))\n",
    "\n",
    "model.to(device)\n",
    "model.eval()\n",
    "\n",
    "total = 0\n",
    "correct = 0\n",
    "count = 0\n",
    "\n",
    "true_labels = []\n",
    "predicted_labels = []\n",
    "\n",
    "with torch.no_grad():\n",
    "    for data in tqdm(dataloaders['test'], desc=\"Testing\", position=0, leave=True):\n",
    "#         print(f\"data:{data[1]}\")\n",
    "        loss, accuracy, predicted = model_fn(data, model, criterion, device, count, which_type='test')\n",
    "        labels = data[1].to(device)\n",
    "        \n",
    "        true_labels.extend(labels.cpu().numpy())\n",
    "        predicted_labels.extend(predicted.cpu().numpy())\n",
    "        \n",
    "        if count % 5000 == 0:\n",
    "            add_log_msg(f\"labels: {labels} {labels.shape}\")\n",
    "            add_log_msg(f\"predicted: {predicted} {predicted.shape}\")\n",
    "            \n",
    "        count += 1\n",
    "        \n",
    "        total += labels.size(0)\n",
    "        correct += (predicted == labels).sum().item()\n",
    "\n",
    "add_log_msg(f'Test Accuracy: {100 * correct / total} %\\n\\n\\n')\n",
    "\n",
    "\n",
    "# ======================================== handlig the output excel files ========================================\n",
    "mapping_file = './new_mapping.txt'\n",
    "label_mapping = {}\n",
    "with open(mapping_file, 'r') as f:\n",
    "    for line in f:\n",
    "        parts = line.strip().split(': ')\n",
    "        label_mapping[int(parts[1])] = parts[0]\n",
    "        \n",
    "# 将映射后的标签应用到true和predicted标签列表\n",
    "mapped_true_labels = [label_mapping[label] for label in true_labels]\n",
    "mapped_predicted_labels = [label_mapping[label] for label in predicted_labels]\n",
    "\n",
    "# 生成Scikit-learn报告信息的DataFrame\n",
    "report_data = classification_report(mapped_true_labels, mapped_predicted_labels, output_dict=True)\n",
    "report_df = pd.DataFrame(report_data).transpose()\n",
    "\n",
    "# mapped_true_labels_np = np.array(mapped_true_labels)\n",
    "# mapped_predicted_labels_np = np.array(mapped_predicted_labels)\n",
    "\n",
    "# print(\"mapped_true_labels 的形状:\", mapped_true_labels_np.shape)\n",
    "# print(\"mapped_predicted_labels 的形状:\", mapped_predicted_labels_np.shape)\n",
    "\n",
    "report_folder = 'classification_report'\n",
    "os.makedirs(report_folder, exist_ok=True)\n",
    "\n",
    "count = 0\n",
    "while True:\n",
    "    report_filename = f'classification_report-transH_50-graphSAGE-{count}.xlsx'\n",
    "    labels_filename = f'mapped_true_predicted_labels-transH_50-graphSAGE-{count}.xlsx'\n",
    "    \n",
    "    report_path = os.path.join(report_folder, report_filename)\n",
    "    labels_path = os.path.join(report_folder, labels_filename)\n",
    "    \n",
    "    if not os.path.exists(report_path) and not os.path.exists(labels_path):\n",
    "        break\n",
    "    count += 1\n",
    "\n",
    "    \n",
    "report_df.to_excel(report_path, index_label='Label')\n",
    "\n",
    "mapped_labels_df = pd.DataFrame({'true_label': mapped_true_labels, 'predicted_label': mapped_predicted_labels})\n",
    "mapped_labels_df.to_excel(labels_path, index=False)\n",
    "\n",
    "add_log_msg(f\"report path: {report_path}\")\n",
    "add_log_msg(f\"label path: {labels_path}\")\n",
    "\n",
    "mapped_report = classification_report(mapped_true_labels, mapped_predicted_labels)\n",
    "add_log_msg(f\"mapped_report:\\n{mapped_report}\")"
   ]
  },
  {
   "cell_type": "markdown",
   "metadata": {},
   "source": [
    "### Training"
   ]
  },
  {
   "cell_type": "markdown",
   "metadata": {},
   "source": [
    "- Fix the seed and save the model.state_dict that contains the initial weight"
   ]
  },
  {
   "cell_type": "code",
   "execution_count": null,
   "metadata": {},
   "outputs": [],
   "source": [
    "seed = 8787\n",
    "same_seeds(seed)\n",
    "\n",
    "model = GraphSAGE(in_dim=50, hidden_dim=16, out_dim=167)\n",
    "torch.save(model.state_dict(), 'model3_initial(graphsage)/initial_weight.pth')"
   ]
  },
  {
   "cell_type": "code",
   "execution_count": null,
   "metadata": {},
   "outputs": [],
   "source": [
    "model.layer1.fc_self.weight"
   ]
  },
  {
   "cell_type": "markdown",
   "metadata": {},
   "source": [
    "- Check if model really load the model_dict"
   ]
  },
  {
   "cell_type": "code",
   "execution_count": null,
   "metadata": {},
   "outputs": [],
   "source": [
    "model = GraphSAGE(in_dim=50, hidden_dim=16, out_dim=167)\n",
    "model.load_state_dict(torch.load('model3_initial(graphsage)/initial_weight.pth'))\n",
    "model.layer1.fc_self.weight"
   ]
  },
  {
   "cell_type": "markdown",
   "metadata": {},
   "source": [
    "### test of valid and test part is ``graph``"
   ]
  },
  {
   "cell_type": "markdown",
   "metadata": {},
   "source": [
    "- 60 APs in training x 10000times\n",
    "- 5 APs in validation x 4 times\n",
    "- 3 APs in test x 4 times\n",
    "- Batch size = 4"
   ]
  },
  {
   "cell_type": "code",
   "execution_count": null,
   "metadata": {},
   "outputs": [],
   "source": [
    "seed = 8787\n",
    "same_seeds(seed)\n",
    "\n",
    "model = GraphSAGE(in_dim=50, hidden_dim=16, out_dim=167)\n",
    "# in_dim means the dimension of the node_feat(50 dim, since the 50-dim embedding)\n",
    "# out_dim means the # of the categories -> 168 for out tasks\n",
    "model.load_state_dict(torch.load('model3_initial(graphsage)/initial_weight.pth'))\n",
    "\n",
    "model = model.to(device)\n",
    "\n",
    "optimizer = torch.optim.AdamW(model.parameters(), lr=1e-5)\n",
    "# scheduler = get_linear_schedule_with_warmup(optimizer, num_warmup_steps=100, num_training_steps=total_steps)\n",
    "\n",
    "criterion = nn.CrossEntropyLoss()\n",
    "total_steps = 180\n",
    "\n",
    "# save the best model\n",
    "best_val_loss = float('inf')\n",
    "patience = 10  # Number of epochs with no improvement after which training will be stopped.\n",
    "waiting = 0  # The number of epochs with no improvement so far.\n",
    "\n",
    "\n",
    "# Training Part\n",
    "for epoch in tqdm(range(total_steps)):\n",
    "    # Train\n",
    "    model.train()\n",
    "    total_loss = 0.0\n",
    "    total_accuracy = 0.0\n",
    "    num_batches = 0\n",
    "    \n",
    "    count = 0 \n",
    "    \n",
    "    for data in tqdm(dataloaders['train'], desc=\"Training\", position=0, leave=True):\n",
    "        \n",
    "        count += 1\n",
    "        loss, accuracy, _ = model_fn(data, model, criterion, device, count, type='train')\n",
    "        \n",
    "        optimizer.zero_grad()\n",
    "        loss.backward()\n",
    "        optimizer.step()\n",
    "\n",
    "        total_loss += loss.item()\n",
    "        total_accuracy += accuracy.item()\n",
    "        num_batches += 1\n",
    "        \n",
    "#     scheduler.step()\n",
    "    add_log_msg(f\"total count: {count}\")\n",
    "\n",
    "    avg_loss = total_loss / num_batches\n",
    "    avg_accuracy = total_accuracy / num_batches\n",
    "\n",
    "    add_log_msg(f'Epoch {epoch} | Train Loss: {avg_loss:.4f} | Train Accuracy: {avg_accuracy:.4f}')\n",
    "\n",
    "    \n",
    "    # Validation Part\n",
    "    model.eval()\n",
    "    total_accuracy = 0.0\n",
    "    total_loss = 0.0\n",
    "    num_batches = 0\n",
    "\n",
    "    with torch.no_grad():\n",
    "        for batched_g in dataloaders['valid']:\n",
    "            loss, accuracy, _ = model_fn(batched_g, model, criterion, device, type=='validation')\n",
    "            total_accuracy += accuracy.item()\n",
    "            total_loss += loss.item()\n",
    "            num_batches += 1\n",
    "\n",
    "    avg_accuracy = total_accuracy / num_batches\n",
    "    current_loss = total_loss / num_batches\n",
    "    \n",
    "    add_log_msg(f'Validation Loss: {current_loss:.4f} | Validation Accuracy: {avg_accuracy:.4f}\\n')\n",
    "    \n",
    "    \n",
    "    if current_loss < best_val_loss:\n",
    "        best_val_loss = current_loss\n",
    "        waiting = 0\n",
    "        \n",
    "#         torch.save(model.state_dict(), 'best_model.pth')\n",
    "        torch.save({\n",
    "                'epoch': epoch,\n",
    "                'model_state_dict': model.state_dict(),\n",
    "                'optimizer_state_dict': optimizer.state_dict(),\n",
    "                'loss': loss,\n",
    "                }, f\"../checkpoint_GAT/best_model_{epoch}.pt\")\n",
    "    \n",
    "    else:\n",
    "        waiting += 1\n",
    "        if waiting >= patience:\n",
    "            add_log_msg(\"Early stopping\")\n",
    "            break\n",
    "\n",
    "            \n",
    "# Testing Part\n",
    "model.eval()\n",
    "total = 0\n",
    "correct = 0\n",
    "\n",
    "with torch.no_grad():\n",
    "    for data in dataloaders['test']:\n",
    "        loss, accuracy, predicted = model_fn(data, model, criterion, device, type=='test')\n",
    "        labels = data[1].to(device)  # Assuming labels are the second element in the tuple\n",
    "        \n",
    "        add_log_msg(f\"labels: {labels} {labels.shape}\")\n",
    "        add_log_msg(f\"predicted: {predicted} {predicted.shape}\")\n",
    "        \n",
    "        total += labels.size(0) # label.size(0) is the batch size\n",
    "        correct += (predicted == labels).sum().item() \n",
    "        # (predicted == labels).sum() would return how many of them are equal; \n",
    "        # .item() would make the tensor to the regular value\n",
    "        \n",
    "#     print('Test Accuracy: %d %%' % (100 * correct / total))\n",
    "add_log_msg(f'Test Accuracy: {100 * correct / total} %%')"
   ]
  },
  {
   "cell_type": "code",
   "execution_count": null,
   "metadata": {},
   "outputs": [],
   "source": []
  },
  {
   "cell_type": "code",
   "execution_count": null,
   "metadata": {},
   "outputs": [],
   "source": []
  }
 ],
 "metadata": {
  "kernelspec": {
   "display_name": "Python 3",
   "language": "python",
   "name": "python3"
  },
  "language_info": {
   "codemirror_mode": {
    "name": "ipython",
    "version": 3
   },
   "file_extension": ".py",
   "mimetype": "text/x-python",
   "name": "python",
   "nbconvert_exporter": "python",
   "pygments_lexer": "ipython3",
   "version": "3.6.9"
  }
 },
 "nbformat": 4,
 "nbformat_minor": 2
}
