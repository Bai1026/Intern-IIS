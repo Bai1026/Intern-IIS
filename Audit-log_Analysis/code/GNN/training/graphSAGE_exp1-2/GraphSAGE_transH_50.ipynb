{
 "cells": [
  {
   "cell_type": "markdown",
   "metadata": {},
   "source": [
    "# Test of GraphSAGE\n",
    "- use DGL\n",
    "- predict `graphs`\n",
    "- valid, test data are in the training dataset"
   ]
  },
  {
   "cell_type": "code",
   "execution_count": 1,
   "metadata": {},
   "outputs": [],
   "source": [
    "import os\n",
    "import dgl\n",
    "import json\n",
    "import torch\n",
    "import torch as th\n",
    "import dgl.nn as dglnn\n",
    "# from tqdm import tqdm\n",
    "from tqdm.notebook import tqdm  # 使用 notebook 版本的 tqdm\n",
    "import torch.nn as nn\n",
    "from dgl.nn import GraphConv, GATConv, SAGEConv\n",
    "import torch.nn.functional as F\n",
    "from torch.utils.data import Dataset, DataLoader\n",
    "from transformers import get_linear_schedule_with_warmup"
   ]
  },
  {
   "cell_type": "markdown",
   "metadata": {},
   "source": [
    "- check the GPU and assign the GPU by the best memory usage"
   ]
  },
  {
   "cell_type": "code",
   "execution_count": 2,
   "metadata": {},
   "outputs": [
    {
     "name": "stdout",
     "output_type": "stream",
     "text": [
      "cuda:1\n"
     ]
    }
   ],
   "source": [
    "import subprocess\n",
    "import torch\n",
    "\n",
    "def get_free_gpu():\n",
    "    try:\n",
    "        # Run nvidia-smi command to get GPU details\n",
    "        _output_to_list = lambda x: x.decode('ascii').split('\\n')[:-1]\n",
    "        command = \"nvidia-smi --query-gpu=memory.free --format=csv,nounits,noheader\"\n",
    "        memory_free_info = _output_to_list(subprocess.check_output(command.split())) \n",
    "        memory_free_values = [int(x) for i, x in enumerate(memory_free_info)]\n",
    "        \n",
    "        # Get the GPU with the maximum free memory\n",
    "        best_gpu_id = memory_free_values.index(max(memory_free_values))\n",
    "        return best_gpu_id\n",
    "    except:\n",
    "        # If any exception occurs, default to GPU 0 (this handles cases where nvidia-smi isn't installed)\n",
    "        return 0\n",
    "\n",
    "if torch.cuda.is_available():\n",
    "    # Get the best GPU ID based on free memory and set it\n",
    "    best_gpu_id = get_free_gpu()\n",
    "    device = torch.device(f\"cuda:{best_gpu_id}\")\n",
    "else:\n",
    "    device = torch.device(\"cpu\")\n",
    "    print(\"there's no available GPU\")\n",
    "\n",
    "# device = torch.device(f\"cuda:{1}\")\n",
    "print(device)\n"
   ]
  },
  {
   "cell_type": "markdown",
   "metadata": {},
   "source": [
    "## Fix the seed"
   ]
  },
  {
   "cell_type": "code",
   "execution_count": 3,
   "metadata": {},
   "outputs": [],
   "source": [
    "import numpy as np\n",
    "import torch\n",
    "import random\n",
    "\n",
    "#fix seed\n",
    "def same_seeds(seed = 8787):\n",
    "    torch.manual_seed(seed)\n",
    "    # random.seed(seed) \n",
    "    if torch.cuda.is_available():\n",
    "        torch.cuda.manual_seed(seed)\n",
    "        torch.cuda.manual_seed_all(seed)  \n",
    "    np.random.seed(seed)  \n",
    "    torch.backends.cudnn.benchmark = False\n",
    "    torch.backends.cudnn.deterministic = True"
   ]
  },
  {
   "cell_type": "markdown",
   "metadata": {},
   "source": [
    "## Data Loader"
   ]
  },
  {
   "cell_type": "code",
   "execution_count": 4,
   "metadata": {},
   "outputs": [],
   "source": [
    "class GraphDataset(Dataset):\n",
    "    def __init__(self, data_list, device):\n",
    "        self.data_list = data_list\n",
    "        self.device = device\n",
    "\n",
    "    def __len__(self):\n",
    "        return len(self.data_list)\n",
    "    \n",
    "    def __getitem__(self, idx):\n",
    "        data = self.data_list[idx]\n",
    "\n",
    "        g = dgl.graph((th.tensor(data[\"edge_index\"][0]), th.tensor(data[\"edge_index\"][1])), num_nodes=data[\"num_nodes\"]).to(self.device)\n",
    "\n",
    "        g.ndata['feat'] = th.tensor(data[\"node_feat\"]).to(self.device)\n",
    "        g.edata['feat'] = th.tensor(data[\"edge_attr\"]).to(self.device)  # Add edge features to graph\n",
    "\n",
    "        return g, th.tensor(data[\"label\"]).to(self.device)\n",
    "\n",
    "\n",
    "def collate(samples):\n",
    "    # The input `samples` is a list of pairs\n",
    "    #  (graph, label).\n",
    "    graphs, labels = map(list, zip(*samples))\n",
    "    batched_graph = dgl.batch(graphs)\n",
    "    return batched_graph, torch.tensor(labels)\n"
   ]
  },
  {
   "cell_type": "code",
   "execution_count": 5,
   "metadata": {},
   "outputs": [
    {
     "data": {
      "application/vnd.jupyter.widget-view+json": {
       "model_id": "a195281485d449faa3429994d14dd490",
       "version_major": 2,
       "version_minor": 0
      },
      "text/plain": [
       "  0%|          | 0/3 [00:00<?, ?it/s]"
      ]
     },
     "metadata": {},
     "output_type": "display_data"
    },
    {
     "name": "stdout",
     "output_type": "stream",
     "text": [
      "../../data_processing/dgl/data_new/exp1-2/training_data/exp_2/transH_50/train.jsonl\n"
     ]
    },
    {
     "data": {
      "application/vnd.jupyter.widget-view+json": {
       "model_id": "168c3ac6cc8b4f6a95965066c2fc6932",
       "version_major": 2,
       "version_minor": 0
      },
      "text/plain": [
       "0it [00:00, ?it/s]"
      ]
     },
     "metadata": {},
     "output_type": "display_data"
    },
    {
     "name": "stdout",
     "output_type": "stream",
     "text": [
      "../../data_processing/dgl/data_new/exp1-2/training_data/exp_2/transH_50/valid.jsonl\n"
     ]
    },
    {
     "data": {
      "application/vnd.jupyter.widget-view+json": {
       "model_id": "01ff7d6c462d4060bb2405cf72206a3c",
       "version_major": 2,
       "version_minor": 0
      },
      "text/plain": [
       "0it [00:00, ?it/s]"
      ]
     },
     "metadata": {},
     "output_type": "display_data"
    },
    {
     "name": "stdout",
     "output_type": "stream",
     "text": [
      "../../data_processing/dgl/data_new/exp1-2/training_data/exp_2/transH_50/test.jsonl\n"
     ]
    },
    {
     "data": {
      "application/vnd.jupyter.widget-view+json": {
       "model_id": "2617ea0d42b64a6e914c9cbedb807014",
       "version_major": 2,
       "version_minor": 0
      },
      "text/plain": [
       "0it [00:00, ?it/s]"
      ]
     },
     "metadata": {},
     "output_type": "display_data"
    },
    {
     "name": "stdout",
     "output_type": "stream",
     "text": [
      "Datasets loaded!\n"
     ]
    }
   ],
   "source": [
    "datasets = ['train', 'valid', 'test']\n",
    "dataset_data = {}\n",
    "\n",
    "for dataset_name in tqdm(datasets):\n",
    "    file_path = f\"../../data_processing/dgl/data_new/exp1-2/training_data/exp_2/transH_50/{dataset_name}.jsonl\"\n",
    "    \n",
    "    print(file_path)\n",
    "    with open(file_path) as f:\n",
    "        data_list = [json.loads(line) for line in tqdm(f, position=0, leave=True)]\n",
    "    \n",
    "    dataset_data[dataset_name] = GraphDataset(data_list, device)\n",
    "\n",
    "print(\"Datasets loaded!\")"
   ]
  },
  {
   "cell_type": "markdown",
   "metadata": {},
   "source": [
    "- choose batch size"
   ]
  },
  {
   "cell_type": "code",
   "execution_count": 6,
   "metadata": {},
   "outputs": [],
   "source": [
    "def create_dataloaders(batch_size, shuffle=True):\n",
    "    dataloaders = {}\n",
    "    for dataset_name, dataset in dataset_data.items():\n",
    "        # do not shuffle the testing dataset\n",
    "        if dataset_name == \"test\":\n",
    "            dataloaders[dataset_name] = DataLoader(dataset, batch_size=batch_size, shuffle=False, collate_fn=collate)    \n",
    "        else:\n",
    "            dataloaders[dataset_name] = DataLoader(dataset, batch_size=batch_size, shuffle=shuffle, collate_fn=collate)\n",
    "    return dataloaders\n",
    "\n",
    "# dataloaders = create_dataloaders(4)\n",
    "dataloaders = create_dataloaders(16)"
   ]
  },
  {
   "cell_type": "markdown",
   "metadata": {},
   "source": [
    "- Turn the print message to a log file"
   ]
  },
  {
   "cell_type": "code",
   "execution_count": 7,
   "metadata": {},
   "outputs": [
    {
     "name": "stdout",
     "output_type": "stream",
     "text": [
      "../log_message/0918_14:34_GraphSAGE.log\n"
     ]
    }
   ],
   "source": [
    "import datetime\n",
    "\n",
    "now = datetime.datetime.now()\n",
    "\n",
    "formatted_time = now.strftime(\"%m%d_%H:%M\")\n",
    "\n",
    "log_file_path = f\"../log_message/{formatted_time}_GraphSAGE.log\"\n",
    "\n",
    "def add_log_msg(msg, log_file_path=log_file_path):\n",
    "    with open(log_file_path, 'a') as f:\n",
    "        f.write(f'{datetime.datetime.now().strftime(\"%m/%d/%Y, %H:%M:%S\")}# {msg}\\n')\n",
    "    print(f'{datetime.datetime.now().strftime(\"%m/%d/%Y, %H:%M:%S\")}# {msg}')\n",
    "\n",
    "print(log_file_path)"
   ]
  },
  {
   "cell_type": "markdown",
   "metadata": {},
   "source": [
    "### Model"
   ]
  },
  {
   "cell_type": "code",
   "execution_count": 8,
   "metadata": {},
   "outputs": [],
   "source": [
    "class GraphSAGE(nn.Module):\n",
    "    def __init__(self, in_dim, hidden_dim, out_dim):\n",
    "        super(GraphSAGE, self).__init__()\n",
    "        self.layer1 = dglnn.SAGEConv(in_dim, hidden_dim, 'pool')\n",
    "        self.layer2 = dglnn.SAGEConv(hidden_dim, out_dim, 'pool')  # Output layer\n",
    "\n",
    "    def forward(self, g, inputs):\n",
    "        h = self.layer1(g, inputs)\n",
    "        h = torch.relu(h)\n",
    "        h = self.layer2(g, h)  # You can apply another non-linearity here if needed\n",
    "        \n",
    "        g.ndata['h'] = h\n",
    "        hg = dgl.mean_nodes(g, 'h')\n",
    "        return hg\n"
   ]
  },
  {
   "cell_type": "markdown",
   "metadata": {},
   "source": [
    "- Model Forward  "
   ]
  },
  {
   "cell_type": "code",
   "execution_count": 9,
   "metadata": {},
   "outputs": [],
   "source": [
    "def model_fn(data, model, criterion, device, count=1, which_type='train'):\n",
    "    \"\"\"Forward a batch through the model.\"\"\"\n",
    "    batched_g, labels = data\n",
    "    batched_g = batched_g.to(device)\n",
    "    \n",
    "    labels = labels.to(device)\n",
    "#     labels = labels.float()\n",
    "\n",
    "    logits = model(batched_g, batched_g.ndata['feat'].float()) # for GAT\n",
    "#     logits = logits.mean(dim=1)\n",
    "#     print(labels)\n",
    "#     print(labels.shape)\n",
    "#     print(logits)\n",
    "#     print(logits.shape)\n",
    "\n",
    "    \n",
    "    loss = criterion(logits, labels)\n",
    "\n",
    "    # Get the class id with the highest probability\n",
    "    preds = logits.argmax(1) # for GAT\n",
    "#     print(preds)\n",
    "#     preds = logits.argmax() # for graphSAGE\n",
    "    \n",
    "    '''\n",
    "    问题出在GAT和GraphSAGE模型的输出形状上。\n",
    "    在你的 GAT 模型中，最后一层的输出是一个一维的张量，因此 logits 是一个形状为 (batch_size,) 的张量。这是因为 GAT 模型最后一层的输出被处理成了一个节点的预测，而不是整个图的预测。\n",
    "    在 GraphSAGE 模型中，最后一层的输出形状是 (num_nodes, out_dim)，也就是说，它返回了整个图的节点级别的预测。因此，logits 是一个二维的张量，形状为 (num_nodes, out_dim)。\n",
    "    当你尝试在一个一维张量上调用 logits.argmax(1) 时，会产生维度错误，因为它期望一个二维张量来执行操作。\n",
    "    所以，在 GraphSAGE 模型中，你应该将以下行：\n",
    "    '''\n",
    "    \n",
    "    \n",
    "    # Compute accuracy\n",
    "    accuracy = torch.mean((preds == labels).float())\n",
    "    \n",
    "    if which_type == 'validation' and count % 1000 == 0:\n",
    "        add_log_msg(f\"labels of Validation: {labels} {labels.shape}\")\n",
    "        add_log_msg(f\"predicted of Validation: {preds} {preds.shape}\")\n",
    "        \n",
    "    elif which_type == 'test'  and count % 1000 == 0:\n",
    "        add_log_msg(f\"labels of Test: {labels} {labels.shape}\")\n",
    "        add_log_msg(f\"predicted of Test: {preds} {preds.shape}\")\n",
    "        \n",
    "    if count % 5000 == 0: \n",
    "        add_log_msg(f\"labels of {count}: {labels} {labels.shape}\")\n",
    "        add_log_msg(f\"predicted of {count}: {preds} {preds.shape}\")\n",
    "        \n",
    "    return loss, accuracy, preds"
   ]
  },
  {
   "cell_type": "code",
   "execution_count": null,
   "metadata": {},
   "outputs": [],
   "source": []
  },
  {
   "cell_type": "code",
   "execution_count": 10,
   "metadata": {
    "scrolled": true
   },
   "outputs": [
    {
     "data": {
      "application/vnd.jupyter.widget-view+json": {
       "model_id": "81ec951a563c4db79c46aa241d0b312d",
       "version_major": 2,
       "version_minor": 0
      },
      "text/plain": [
       "  0%|          | 0/25 [00:00<?, ?it/s]"
      ]
     },
     "metadata": {},
     "output_type": "display_data"
    },
    {
     "data": {
      "application/vnd.jupyter.widget-view+json": {
       "model_id": "b2ade20b8fb342b5853a926f7fd54b2d",
       "version_major": 2,
       "version_minor": 0
      },
      "text/plain": [
       "Training:   0%|          | 0/8300 [00:00<?, ?it/s]"
      ]
     },
     "metadata": {},
     "output_type": "display_data"
    },
    {
     "name": "stdout",
     "output_type": "stream",
     "text": [
      "09/18/2023, 14:36:18# labels of 5000: tensor([126,   8,  63,  92, 158,  76, 130,  85, 166,  99, 101,  45, 137,   8,\n",
      "        151,  33], device='cuda:1') torch.Size([16])\n",
      "09/18/2023, 14:36:18# predicted of 5000: tensor([ 39, 131,  63,  93,  21, 107,  56,  85, 166,  99, 161,  95,  20,  93,\n",
      "        131, 131], device='cuda:1') torch.Size([16])\n",
      "09/18/2023, 14:38:12# total batches: 8300\n",
      "09/18/2023, 14:38:12# Epoch 0 | Train Loss: 3.7201 | Train Accuracy: 0.2360\n"
     ]
    },
    {
     "data": {
      "application/vnd.jupyter.widget-view+json": {
       "model_id": "d357003033754cec9b1ea9e28f017e31",
       "version_major": 2,
       "version_minor": 0
      },
      "text/plain": [
       "Validation:   0%|          | 0/1038 [00:00<?, ?it/s]"
      ]
     },
     "metadata": {},
     "output_type": "display_data"
    },
    {
     "name": "stdout",
     "output_type": "stream",
     "text": [
      "09/18/2023, 14:38:12# labels of Validation: tensor([ 34, 124,  14,   9,  96,  64,  21,  38,  97,  80, 151,  67,  93,   7,\n",
      "         71,  67], device='cuda:1') torch.Size([16])\n",
      "09/18/2023, 14:38:12# predicted of Validation: tensor([ 59,  71,  41, 110,  25, 148,  66,  41, 135,  80, 121,  78, 131,   7,\n",
      "         71,  78], device='cuda:1') torch.Size([16])\n",
      "09/18/2023, 14:38:12# labels of 0: tensor([ 34, 124,  14,   9,  96,  64,  21,  38,  97,  80, 151,  67,  93,   7,\n",
      "         71,  67], device='cuda:1') torch.Size([16])\n",
      "09/18/2023, 14:38:12# predicted of 0: tensor([ 59,  71,  41, 110,  25, 148,  66,  41, 135,  80, 121,  78, 131,   7,\n",
      "         71,  78], device='cuda:1') torch.Size([16])\n",
      "09/18/2023, 14:38:41# labels of Validation: tensor([ 34,  61, 107,  39, 153, 107, 164, 143,  39,  39,  51,   6,  19, 126,\n",
      "        102, 133], device='cuda:1') torch.Size([16])\n",
      "09/18/2023, 14:38:41# predicted of Validation: tensor([121,  50, 107,  39, 153, 107, 121, 121,  39,  39,  51,   6,  19,  32,\n",
      "         98, 133], device='cuda:1') torch.Size([16])\n",
      "09/18/2023, 14:38:42# Validation Loss: 2.6726 | Validation Accuracy: 0.4742\n",
      "\n",
      "09/18/2023, 14:38:42# Find a better model!!\n"
     ]
    },
    {
     "data": {
      "application/vnd.jupyter.widget-view+json": {
       "model_id": "9055ce5b842e483f8836f8c495fe5252",
       "version_major": 2,
       "version_minor": 0
      },
      "text/plain": [
       "Training:   0%|          | 0/8300 [00:00<?, ?it/s]"
      ]
     },
     "metadata": {},
     "output_type": "display_data"
    },
    {
     "name": "stdout",
     "output_type": "stream",
     "text": [
      "09/18/2023, 14:41:42# labels of 5000: tensor([ 26,  32,  49, 156, 145, 136,  38, 158,   1, 123, 111,  92, 115, 114,\n",
      "         56,   2], device='cuda:1') torch.Size([16])\n",
      "09/18/2023, 14:41:42# predicted of 5000: tensor([ 26,  32, 158, 156, 145, 136, 158, 125, 155, 123,  57, 158, 115, 131,\n",
      "         56,  42], device='cuda:1') torch.Size([16])\n",
      "09/18/2023, 14:43:38# total batches: 8300\n",
      "09/18/2023, 14:43:38# Epoch 1 | Train Loss: 2.1285 | Train Accuracy: 0.5600\n"
     ]
    },
    {
     "data": {
      "application/vnd.jupyter.widget-view+json": {
       "model_id": "96b96e57c85b4c1aa519a63a668d935e",
       "version_major": 2,
       "version_minor": 0
      },
      "text/plain": [
       "Validation:   0%|          | 0/1038 [00:00<?, ?it/s]"
      ]
     },
     "metadata": {},
     "output_type": "display_data"
    },
    {
     "name": "stdout",
     "output_type": "stream",
     "text": [
      "09/18/2023, 14:43:39# labels of Validation: tensor([ 74,   0, 120,  25, 150,  26,  82,  88, 143,   0, 109, 158,   4,  48,\n",
      "         28,  66], device='cuda:1') torch.Size([16])\n",
      "09/18/2023, 14:43:39# predicted of Validation: tensor([ 36,   0, 120,  25, 124,  26,  82,  91,   8,   0, 116,  36, 144,  36,\n",
      "         28,  66], device='cuda:1') torch.Size([16])\n",
      "09/18/2023, 14:43:39# labels of 0: tensor([ 74,   0, 120,  25, 150,  26,  82,  88, 143,   0, 109, 158,   4,  48,\n",
      "         28,  66], device='cuda:1') torch.Size([16])\n",
      "09/18/2023, 14:43:39# predicted of 0: tensor([ 36,   0, 120,  25, 124,  26,  82,  91,   8,   0, 116,  36, 144,  36,\n",
      "         28,  66], device='cuda:1') torch.Size([16])\n",
      "09/18/2023, 14:44:10# labels of Validation: tensor([110,  83, 145, 111,  27,  40, 105,  98, 111,  47, 124,  35,  45, 156,\n",
      "        144,  76], device='cuda:1') torch.Size([16])\n",
      "09/18/2023, 14:44:10# predicted of Validation: tensor([ 91,  44, 145,  44,  27,  40, 105,  98,  44,  44,  44,  35,  45, 156,\n",
      "         37,  36], device='cuda:1') torch.Size([16])\n",
      "09/18/2023, 14:44:12# Validation Loss: 1.8193 | Validation Accuracy: 0.5909\n",
      "\n",
      "09/18/2023, 14:44:12# Find a better model!!\n"
     ]
    },
    {
     "data": {
      "application/vnd.jupyter.widget-view+json": {
       "model_id": "9e706622d519455d85de79395b99babb",
       "version_major": 2,
       "version_minor": 0
      },
      "text/plain": [
       "Training:   0%|          | 0/8300 [00:00<?, ?it/s]"
      ]
     },
     "metadata": {},
     "output_type": "display_data"
    },
    {
     "name": "stdout",
     "output_type": "stream",
     "text": [
      "09/18/2023, 14:47:10# labels of 5000: tensor([ 58,  16, 159, 117, 135, 117,  48, 153,  10,  40,  44,  87,  51,  59,\n",
      "        152, 140], device='cuda:1') torch.Size([16])\n",
      "09/18/2023, 14:47:10# predicted of 5000: tensor([ 58,  16, 159, 117, 135, 117,  11, 153,  10,  40,  37,  55,  51, 131,\n",
      "         11, 140], device='cuda:1') torch.Size([16])\n",
      "09/18/2023, 14:49:10# total batches: 8300\n",
      "09/18/2023, 14:49:10# Epoch 2 | Train Loss: 1.7046 | Train Accuracy: 0.5981\n"
     ]
    },
    {
     "data": {
      "application/vnd.jupyter.widget-view+json": {
       "model_id": "f7097c2937e24fb2ba2553d4ff0ce516",
       "version_major": 2,
       "version_minor": 0
      },
      "text/plain": [
       "Validation:   0%|          | 0/1038 [00:00<?, ?it/s]"
      ]
     },
     "metadata": {},
     "output_type": "display_data"
    },
    {
     "name": "stdout",
     "output_type": "stream",
     "text": [
      "09/18/2023, 14:49:11# labels of Validation: tensor([ 43,  78,  58,  53, 141,  35,  43,  87,  24, 138,  39, 165,  61,  15,\n",
      "         66,  24], device='cuda:1') torch.Size([16])\n",
      "09/18/2023, 14:49:11# predicted of Validation: tensor([ 43,  67,  58,   4, 141,  35,  43,   4, 116, 138,  39, 165,  61,  15,\n",
      "         66,   4], device='cuda:1') torch.Size([16])\n",
      "09/18/2023, 14:49:11# labels of 0: tensor([ 43,  78,  58,  53, 141,  35,  43,  87,  24, 138,  39, 165,  61,  15,\n",
      "         66,  24], device='cuda:1') torch.Size([16])\n",
      "09/18/2023, 14:49:11# predicted of 0: tensor([ 43,  67,  58,   4, 141,  35,  43,   4, 116, 138,  39, 165,  61,  15,\n",
      "         66,   4], device='cuda:1') torch.Size([16])\n",
      "09/18/2023, 14:49:41# labels of Validation: tensor([ 44, 164,  14,  35,  16, 153, 119,  49, 102,  68,  87, 141,   4, 145,\n",
      "         58, 140], device='cuda:1') torch.Size([16])\n",
      "09/18/2023, 14:49:41# predicted of Validation: tensor([  4,  31, 150,  35,  16, 153, 116,  42, 102, 108, 116, 141, 116, 145,\n",
      "         58, 140], device='cuda:1') torch.Size([16])\n",
      "09/18/2023, 14:49:42# Validation Loss: 1.6324 | Validation Accuracy: 0.6020\n",
      "\n",
      "09/18/2023, 14:49:42# Find a better model!!\n"
     ]
    },
    {
     "data": {
      "application/vnd.jupyter.widget-view+json": {
       "model_id": "75cb18eaa59544a6bcba41251edaa64d",
       "version_major": 2,
       "version_minor": 0
      },
      "text/plain": [
       "Training:   0%|          | 0/8300 [00:00<?, ?it/s]"
      ]
     },
     "metadata": {},
     "output_type": "display_data"
    },
    {
     "name": "stdout",
     "output_type": "stream",
     "text": [
      "09/18/2023, 14:52:42# labels of 5000: tensor([ 28,  19,  49,  68,  25,  50, 112,  92, 115,  73,  62,  46, 148, 122,\n",
      "        130,  54], device='cuda:1') torch.Size([16])\n",
      "09/18/2023, 14:52:42# predicted of 5000: tensor([ 28,  19,  76, 103,  25,  50, 152, 152, 115,  73,  62,  46, 148, 122,\n",
      "        130, 152], device='cuda:1') torch.Size([16])\n",
      "09/18/2023, 14:54:41# total batches: 8300\n",
      "09/18/2023, 14:54:41# Epoch 3 | Train Loss: 1.6005 | Train Accuracy: 0.6041\n"
     ]
    },
    {
     "data": {
      "application/vnd.jupyter.widget-view+json": {
       "model_id": "487ba3e3a7d6470fb659e4c0b5975da1",
       "version_major": 2,
       "version_minor": 0
      },
      "text/plain": [
       "Validation:   0%|          | 0/1038 [00:00<?, ?it/s]"
      ]
     },
     "metadata": {},
     "output_type": "display_data"
    },
    {
     "name": "stdout",
     "output_type": "stream",
     "text": [
      "09/18/2023, 14:54:41# labels of Validation: tensor([ 58,  37,  53, 125, 150,   4,  76, 137,   2,  47,  46,  63,  50,  39,\n",
      "         47,  96], device='cuda:1') torch.Size([16])\n",
      "09/18/2023, 14:54:41# predicted of Validation: tensor([ 58,  37, 114,   1, 151, 151,   1, 137, 151,   1,  46,  63,  50,  39,\n",
      "        151,  96], device='cuda:1') torch.Size([16])\n",
      "09/18/2023, 14:54:41# labels of 0: tensor([ 58,  37,  53, 125, 150,   4,  76, 137,   2,  47,  46,  63,  50,  39,\n",
      "         47,  96], device='cuda:1') torch.Size([16])\n",
      "09/18/2023, 14:54:41# predicted of 0: tensor([ 58,  37, 114,   1, 151, 151,   1, 137, 151,   1,  46,  63,  50,  39,\n",
      "        151,  96], device='cuda:1') torch.Size([16])\n",
      "09/18/2023, 14:55:12# labels of Validation: tensor([ 51,  34, 150,  91,  15,  20, 152, 164,  46, 119, 125,  29, 153, 134,\n",
      "        148, 150], device='cuda:1') torch.Size([16])\n",
      "09/18/2023, 14:55:12# predicted of Validation: tensor([ 51,   1, 151, 114,  15,  20,   1, 151,  46, 151, 151,  29, 153, 134,\n",
      "        148,   1], device='cuda:1') torch.Size([16])\n",
      "09/18/2023, 14:55:13# Validation Loss: 1.5761 | Validation Accuracy: 0.6043\n",
      "\n",
      "09/18/2023, 14:55:13# Find a better model!!\n"
     ]
    },
    {
     "data": {
      "application/vnd.jupyter.widget-view+json": {
       "model_id": "0040cb7c038b40b0864574c72267dd62",
       "version_major": 2,
       "version_minor": 0
      },
      "text/plain": [
       "Training:   0%|          | 0/8300 [00:00<?, ?it/s]"
      ]
     },
     "metadata": {},
     "output_type": "display_data"
    },
    {
     "name": "stdout",
     "output_type": "stream",
     "text": [
      "09/18/2023, 14:58:14# labels of 5000: tensor([162, 108,  27, 111, 155,  56, 128,  96,  34, 137, 151, 162, 143, 117,\n",
      "        161,  81], device='cuda:1') torch.Size([16])\n",
      "09/18/2023, 14:58:14# predicted of 5000: tensor([ 87, 108,  27,  31, 155,  56, 128,  96,   4, 137,  87,  31,  87, 117,\n",
      "        161,  87], device='cuda:1') torch.Size([16])\n",
      "09/18/2023, 15:00:14# total batches: 8300\n",
      "09/18/2023, 15:00:14# Epoch 4 | Train Loss: 1.5566 | Train Accuracy: 0.6068\n"
     ]
    },
    {
     "data": {
      "application/vnd.jupyter.widget-view+json": {
       "model_id": "f8bf17799eac4dd6903b9f325a179ec0",
       "version_major": 2,
       "version_minor": 0
      },
      "text/plain": [
       "Validation:   0%|          | 0/1038 [00:00<?, ?it/s]"
      ]
     },
     "metadata": {},
     "output_type": "display_data"
    },
    {
     "name": "stdout",
     "output_type": "stream",
     "text": [
      "09/18/2023, 15:00:14# labels of Validation: tensor([118, 115,   8,  29, 158, 161,  98, 156,  30, 124,  23,  13,  74,  71,\n",
      "        134,  83], device='cuda:1') torch.Size([16])\n",
      "09/18/2023, 15:00:14# predicted of Validation: tensor([118, 115,  90,  29, 111, 161,  98, 156, 111,  30,  23,  13, 111,  71,\n",
      "        134, 111], device='cuda:1') torch.Size([16])\n",
      "09/18/2023, 15:00:14# labels of 0: tensor([118, 115,   8,  29, 158, 161,  98, 156,  30, 124,  23,  13,  74,  71,\n",
      "        134,  83], device='cuda:1') torch.Size([16])\n",
      "09/18/2023, 15:00:14# predicted of 0: tensor([118, 115,  90,  29, 111, 161,  98, 156, 111,  30,  23,  13, 111,  71,\n",
      "        134, 111], device='cuda:1') torch.Size([16])\n",
      "09/18/2023, 15:00:48# labels of Validation: tensor([ 65, 101,  26, 145,  16,  79,  92, 104, 115,  27, 122,  85,  77,  34,\n",
      "         19, 131], device='cuda:1') torch.Size([16])\n",
      "09/18/2023, 15:00:48# predicted of Validation: tensor([ 65, 101,  26, 145,  16,  79, 111, 111, 115,  27, 122,  85,  77, 111,\n",
      "         19, 131], device='cuda:1') torch.Size([16])\n",
      "09/18/2023, 15:00:48# Validation Loss: 1.5394 | Validation Accuracy: 0.6074\n",
      "\n",
      "09/18/2023, 15:00:48# Find a better model!!\n"
     ]
    },
    {
     "data": {
      "application/vnd.jupyter.widget-view+json": {
       "model_id": "7c9fd7321d3847c8aae50bfd513f9fdc",
       "version_major": 2,
       "version_minor": 0
      },
      "text/plain": [
       "Training:   0%|          | 0/8300 [00:00<?, ?it/s]"
      ]
     },
     "metadata": {},
     "output_type": "display_data"
    },
    {
     "name": "stdout",
     "output_type": "stream",
     "text": [
      "09/18/2023, 15:03:49# labels of 5000: tensor([151, 147,  98, 141,   6, 104,  34,   6, 139,  73, 154, 155,  97,   0,\n",
      "         27,  51], device='cuda:1') torch.Size([16])\n",
      "09/18/2023, 15:03:49# predicted of 5000: tensor([ 60, 147,  98, 141,   6,  60,  55,   6, 139,  73, 154, 155,  38,   0,\n",
      "         27,  51], device='cuda:1') torch.Size([16])\n",
      "09/18/2023, 15:05:45# total batches: 8300\n",
      "09/18/2023, 15:05:45# Epoch 5 | Train Loss: 1.5306 | Train Accuracy: 0.6092\n"
     ]
    },
    {
     "data": {
      "application/vnd.jupyter.widget-view+json": {
       "model_id": "514a40006cdb4e5280cdc18b90c15d59",
       "version_major": 2,
       "version_minor": 0
      },
      "text/plain": [
       "Validation:   0%|          | 0/1038 [00:00<?, ?it/s]"
      ]
     },
     "metadata": {},
     "output_type": "display_data"
    },
    {
     "name": "stdout",
     "output_type": "stream",
     "text": [
      "09/18/2023, 15:05:45# labels of Validation: tensor([ 43, 155,  61,  48, 127,  97,  88,  52, 161, 148,  91,  51,  35,  95,\n",
      "         64, 101], device='cuda:1') torch.Size([16])\n",
      "09/18/2023, 15:05:45# predicted of Validation: tensor([ 43, 155,  61, 111, 127,  33,  59,  52, 161, 148,  59,  51,  35,  95,\n",
      "         90, 101], device='cuda:1') torch.Size([16])\n",
      "09/18/2023, 15:05:45# labels of 0: tensor([ 43, 155,  61,  48, 127,  97,  88,  52, 161, 148,  91,  51,  35,  95,\n",
      "         64, 101], device='cuda:1') torch.Size([16])\n",
      "09/18/2023, 15:05:45# predicted of 0: tensor([ 43, 155,  61, 111, 127,  33,  59,  52, 161, 148,  59,  51,  35,  95,\n",
      "         90, 101], device='cuda:1') torch.Size([16])\n",
      "09/18/2023, 15:06:16# labels of Validation: tensor([ 83, 120, 127,  71,  29,  39, 108, 129,  19, 100, 160,  68,  67,  10,\n",
      "         60,  38], device='cuda:1') torch.Size([16])\n",
      "09/18/2023, 15:06:16# predicted of Validation: tensor([111, 120, 127,  71,  29,  39, 108, 129,  19, 100, 160,  59,  78,  10,\n",
      "        111, 111], device='cuda:1') torch.Size([16])\n",
      "09/18/2023, 15:06:18# Validation Loss: 1.5206 | Validation Accuracy: 0.6092\n",
      "\n",
      "09/18/2023, 15:06:18# Find a better model!!\n"
     ]
    },
    {
     "data": {
      "application/vnd.jupyter.widget-view+json": {
       "model_id": "6afac60f83b645bcbea6df1a6543b622",
       "version_major": 2,
       "version_minor": 0
      },
      "text/plain": [
       "Training:   0%|          | 0/8300 [00:00<?, ?it/s]"
      ]
     },
     "metadata": {},
     "output_type": "display_data"
    },
    {
     "name": "stdout",
     "output_type": "stream",
     "text": [
      "09/18/2023, 15:09:16# labels of 5000: tensor([139, 163, 126,  27, 159, 112,  41,  72,  82, 162,  23, 143,  25, 165,\n",
      "         82, 166], device='cuda:1') torch.Size([16])\n",
      "09/18/2023, 15:09:16# predicted of 5000: tensor([139,  30, 126,  27, 159,  30,  41,  72,  82, 104,  23, 151,  25, 165,\n",
      "         82, 166], device='cuda:1') torch.Size([16])\n",
      "09/18/2023, 15:11:08# total batches: 8300\n",
      "09/18/2023, 15:11:08# Epoch 6 | Train Loss: 1.5134 | Train Accuracy: 0.6109\n"
     ]
    },
    {
     "data": {
      "application/vnd.jupyter.widget-view+json": {
       "model_id": "4ed6661a280449fca87268a208dcfb92",
       "version_major": 2,
       "version_minor": 0
      },
      "text/plain": [
       "Validation:   0%|          | 0/1038 [00:00<?, ?it/s]"
      ]
     },
     "metadata": {},
     "output_type": "display_data"
    },
    {
     "name": "stdout",
     "output_type": "stream",
     "text": [
      "09/18/2023, 15:11:08# labels of Validation: tensor([102, 130,  62,  19, 114,  95,  43,  86, 120,  49, 135, 152, 133,  81,\n",
      "         52,  84], device='cuda:1') torch.Size([16])\n",
      "09/18/2023, 15:11:08# predicted of Validation: tensor([102, 130,  62,  19, 113,  95,  43,  86, 120, 152, 135, 150, 133, 125,\n",
      "         52,  84], device='cuda:1') torch.Size([16])\n",
      "09/18/2023, 15:11:08# labels of 0: tensor([102, 130,  62,  19, 114,  95,  43,  86, 120,  49, 135, 152, 133,  81,\n",
      "         52,  84], device='cuda:1') torch.Size([16])\n",
      "09/18/2023, 15:11:08# predicted of 0: tensor([102, 130,  62,  19, 113,  95,  43,  86, 120, 152, 135, 150, 133, 125,\n",
      "         52,  84], device='cuda:1') torch.Size([16])\n",
      "09/18/2023, 15:11:36# labels of Validation: tensor([112, 133, 160,  15, 126,   5, 110, 110,  88,  76, 141,  83,  69,  71,\n",
      "         50,  16], device='cuda:1') torch.Size([16])\n",
      "09/18/2023, 15:11:36# predicted of Validation: tensor([125, 133, 160,  15, 126,   5, 113, 113, 113, 150, 141, 150,  69,  71,\n",
      "         50,  16], device='cuda:1') torch.Size([16])\n",
      "09/18/2023, 15:11:38# Validation Loss: 1.5046 | Validation Accuracy: 0.6128\n",
      "\n",
      "09/18/2023, 15:11:38# Find a better model!!\n"
     ]
    },
    {
     "data": {
      "application/vnd.jupyter.widget-view+json": {
       "model_id": "e5fac08144024839bbb4761aa96ed8e8",
       "version_major": 2,
       "version_minor": 0
      },
      "text/plain": [
       "Training:   0%|          | 0/8300 [00:00<?, ?it/s]"
      ]
     },
     "metadata": {},
     "output_type": "display_data"
    },
    {
     "name": "stdout",
     "output_type": "stream",
     "text": [
      "09/18/2023, 15:14:29# labels of 5000: tensor([ 29,  67, 134, 119,  75, 133, 121,  27, 148, 139,  30,  97,  33, 123,\n",
      "         71, 144], device='cuda:1') torch.Size([16])\n",
      "09/18/2023, 15:14:29# predicted of 5000: tensor([ 29,  67, 134, 164, 143, 133, 164,  27, 148, 139, 143, 143, 143, 123,\n",
      "         71, 143], device='cuda:1') torch.Size([16])\n",
      "09/18/2023, 15:16:25# total batches: 8300\n",
      "09/18/2023, 15:16:25# Epoch 7 | Train Loss: 1.5010 | Train Accuracy: 0.6113\n"
     ]
    },
    {
     "data": {
      "application/vnd.jupyter.widget-view+json": {
       "model_id": "8537f2b8d7f54ab2b29037b425e01b9f",
       "version_major": 2,
       "version_minor": 0
      },
      "text/plain": [
       "Validation:   0%|          | 0/1038 [00:00<?, ?it/s]"
      ]
     },
     "metadata": {},
     "output_type": "display_data"
    },
    {
     "name": "stdout",
     "output_type": "stream",
     "text": [
      "09/18/2023, 15:16:25# labels of Validation: tensor([149, 150,  86, 119,  29, 140,  19,   5,  18,  11, 123, 158,  16,  28,\n",
      "         24, 126], device='cuda:1') torch.Size([16])\n",
      "09/18/2023, 15:16:25# predicted of Validation: tensor([149, 162,  86, 162,  29, 140,  19,   5, 162, 162, 123, 162,  16,  28,\n",
      "        162, 126], device='cuda:1') torch.Size([16])\n",
      "09/18/2023, 15:16:25# labels of 0: tensor([149, 150,  86, 119,  29, 140,  19,   5,  18,  11, 123, 158,  16,  28,\n",
      "         24, 126], device='cuda:1') torch.Size([16])\n",
      "09/18/2023, 15:16:25# predicted of 0: tensor([149, 162,  86, 162,  29, 140,  19,   5, 162, 162, 123, 162,  16,  28,\n",
      "        162, 126], device='cuda:1') torch.Size([16])\n",
      "09/18/2023, 15:16:53# labels of Validation: tensor([143,  11, 110,  29,  82,  10,  61, 158,  10,  87,  90,  94,  69,  66,\n",
      "         32, 120], device='cuda:1') torch.Size([16])\n",
      "09/18/2023, 15:16:53# predicted of Validation: tensor([162, 162, 114,  29,  82,  10,  61, 162,  10, 162, 114,  94,  69,  66,\n",
      "         32, 120], device='cuda:1') torch.Size([16])\n",
      "09/18/2023, 15:16:54# Validation Loss: 1.5041 | Validation Accuracy: 0.6136\n",
      "\n",
      "09/18/2023, 15:16:54# Find a better model!!\n"
     ]
    },
    {
     "data": {
      "application/vnd.jupyter.widget-view+json": {
       "model_id": "ded80b2d5cd84de2baad697e1080febe",
       "version_major": 2,
       "version_minor": 0
      },
      "text/plain": [
       "Training:   0%|          | 0/8300 [00:00<?, ?it/s]"
      ]
     },
     "metadata": {},
     "output_type": "display_data"
    },
    {
     "name": "stdout",
     "output_type": "stream",
     "text": [
      "09/18/2023, 15:19:46# labels of 5000: tensor([131,  65,  35,   5, 145, 159,  29, 165, 156,  95,  46,  90,  93, 150,\n",
      "        100,  45], device='cuda:1') torch.Size([16])\n",
      "09/18/2023, 15:19:46# predicted of 5000: tensor([131,  65,  35,   5, 145, 159,  29, 165, 156,  95,  46, 114, 114, 150,\n",
      "        100,  45], device='cuda:1') torch.Size([16])\n",
      "09/18/2023, 15:21:37# total batches: 8300\n",
      "09/18/2023, 15:21:37# Epoch 8 | Train Loss: 1.4926 | Train Accuracy: 0.6127\n"
     ]
    },
    {
     "data": {
      "application/vnd.jupyter.widget-view+json": {
       "model_id": "967b9042898a45e79f3c84b94d31daa6",
       "version_major": 2,
       "version_minor": 0
      },
      "text/plain": [
       "Validation:   0%|          | 0/1038 [00:00<?, ?it/s]"
      ]
     },
     "metadata": {},
     "output_type": "display_data"
    },
    {
     "name": "stdout",
     "output_type": "stream",
     "text": [
      "09/18/2023, 15:21:37# labels of Validation: tensor([107,   2, 112,  62,  85,  63, 113, 153, 115,  48,  23,  36,  58, 131,\n",
      "         55,   5], device='cuda:1') torch.Size([16])\n",
      "09/18/2023, 15:21:37# predicted of Validation: tensor([107, 116, 116,  62,  85,  63, 114, 153, 115, 150,  23, 116,  58, 131,\n",
      "        116,   5], device='cuda:1') torch.Size([16])\n",
      "09/18/2023, 15:21:37# labels of 0: tensor([107,   2, 112,  62,  85,  63, 113, 153, 115,  48,  23,  36,  58, 131,\n",
      "         55,   5], device='cuda:1') torch.Size([16])\n",
      "09/18/2023, 15:21:37# predicted of 0: tensor([107, 116, 116,  62,  85,  63, 114, 153, 115, 150,  23, 116,  58, 131,\n",
      "        116,   5], device='cuda:1') torch.Size([16])\n",
      "09/18/2023, 15:22:04# labels of Validation: tensor([166, 148,   3,   2, 152,  25,  48, 158, 140, 122,  13,   0,  59,   8,\n",
      "         62, 136], device='cuda:1') torch.Size([16])\n",
      "09/18/2023, 15:22:04# predicted of Validation: tensor([166, 148,   3, 116, 116,  25, 116, 116, 140, 122,  13,   0,  59,  90,\n",
      "         62, 136], device='cuda:1') torch.Size([16])\n",
      "09/18/2023, 15:22:05# Validation Loss: 1.4842 | Validation Accuracy: 0.6130\n",
      "\n",
      "09/18/2023, 15:22:05# Find a better model!!\n"
     ]
    },
    {
     "data": {
      "application/vnd.jupyter.widget-view+json": {
       "model_id": "4e71f8a24be44a30a98a7198307f7166",
       "version_major": 2,
       "version_minor": 0
      },
      "text/plain": [
       "Training:   0%|          | 0/8300 [00:00<?, ?it/s]"
      ]
     },
     "metadata": {},
     "output_type": "display_data"
    },
    {
     "name": "stdout",
     "output_type": "stream",
     "text": [
      "09/18/2023, 15:25:00# labels of 5000: tensor([139, 166, 133,  11, 132,   0,  48,  86,  87, 155,   4, 135,  16, 166,\n",
      "         74,  29], device='cuda:1') torch.Size([16])\n",
      "09/18/2023, 15:25:00# predicted of 5000: tensor([139, 166, 133,   2, 132,   0,   2,  86,   2, 155,   2, 135,  16, 166,\n",
      "          2,  29], device='cuda:1') torch.Size([16])\n",
      "09/18/2023, 15:26:58# total batches: 8300\n",
      "09/18/2023, 15:26:58# Epoch 9 | Train Loss: 1.4854 | Train Accuracy: 0.6140\n"
     ]
    },
    {
     "data": {
      "application/vnd.jupyter.widget-view+json": {
       "model_id": "3562efdc13c4442e9d8b9cdb4876e109",
       "version_major": 2,
       "version_minor": 0
      },
      "text/plain": [
       "Validation:   0%|          | 0/1038 [00:00<?, ?it/s]"
      ]
     },
     "metadata": {},
     "output_type": "display_data"
    },
    {
     "name": "stdout",
     "output_type": "stream",
     "text": [
      "09/18/2023, 15:26:58# labels of Validation: tensor([142,  10, 126,  97, 129,  69, 156,  38,  59, 104, 130,  97,  50,  30,\n",
      "          1,  61], device='cuda:1') torch.Size([16])\n",
      "09/18/2023, 15:26:58# predicted of Validation: tensor([ 38,  10, 126, 104, 129,  69, 156,  55,  91,  54, 130,  30,  50,  38,\n",
      "        104,  61], device='cuda:1') torch.Size([16])\n",
      "09/18/2023, 15:26:58# labels of 0: tensor([142,  10, 126,  97, 129,  69, 156,  38,  59, 104, 130,  97,  50,  30,\n",
      "          1,  61], device='cuda:1') torch.Size([16])\n",
      "09/18/2023, 15:26:58# predicted of 0: tensor([ 38,  10, 126, 104, 129,  69, 156,  55,  91,  54, 130,  30,  50,  38,\n",
      "        104,  61], device='cuda:1') torch.Size([16])\n",
      "09/18/2023, 15:27:29# labels of Validation: tensor([154,  40, 103,  62,  89, 143,  23, 115,  54, 114,  26,  20,  56,  17,\n",
      "          5, 111], device='cuda:1') torch.Size([16])\n",
      "09/18/2023, 15:27:29# predicted of Validation: tensor([154,  40,  68,  62,  89,  54,  23, 115,  54,  68,  26,  20,  56,  17,\n",
      "          5, 104], device='cuda:1') torch.Size([16])\n",
      "09/18/2023, 15:27:30# Validation Loss: 1.4845 | Validation Accuracy: 0.6150\n",
      "\n"
     ]
    },
    {
     "data": {
      "application/vnd.jupyter.widget-view+json": {
       "model_id": "2b4b3d3d942048c6a759be501cbfa2b8",
       "version_major": 2,
       "version_minor": 0
      },
      "text/plain": [
       "Training:   0%|          | 0/8300 [00:00<?, ?it/s]"
      ]
     },
     "metadata": {},
     "output_type": "display_data"
    },
    {
     "name": "stdout",
     "output_type": "stream",
     "text": [
      "09/18/2023, 15:30:22# labels of 5000: tensor([ 31,  97, 111, 164,  77,  26,  93, 108,  70,  94, 101,  65,  33, 129,\n",
      "        126,  40], device='cuda:1') torch.Size([16])\n",
      "09/18/2023, 15:30:22# predicted of 5000: tensor([ 83,  83, 163, 121,  77,  26,  93, 131,  70,  94, 101,  65, 125, 129,\n",
      "        126,  40], device='cuda:1') torch.Size([16])\n",
      "09/18/2023, 15:32:15# total batches: 8300\n",
      "09/18/2023, 15:32:15# Epoch 10 | Train Loss: 1.4798 | Train Accuracy: 0.6144\n"
     ]
    },
    {
     "data": {
      "application/vnd.jupyter.widget-view+json": {
       "model_id": "a8f483f96a974417b6e114b2e4f7a0f0",
       "version_major": 2,
       "version_minor": 0
      },
      "text/plain": [
       "Validation:   0%|          | 0/1038 [00:00<?, ?it/s]"
      ]
     },
     "metadata": {},
     "output_type": "display_data"
    },
    {
     "name": "stdout",
     "output_type": "stream",
     "text": [
      "09/18/2023, 15:32:15# labels of Validation: tensor([158, 140,  45,  82,  35,  17,  19,  95,  30,  32, 157,  12, 157, 157,\n",
      "         72,  10], device='cuda:1') torch.Size([16])\n",
      "09/18/2023, 15:32:15# predicted of Validation: tensor([121, 140,  45,  82,  35,  17,  19,  95,  49,  32,  49,  49,  49, 109,\n",
      "         72,  10], device='cuda:1') torch.Size([16])\n",
      "09/18/2023, 15:32:15# labels of 0: tensor([158, 140,  45,  82,  35,  17,  19,  95,  30,  32, 157,  12, 157, 157,\n",
      "         72,  10], device='cuda:1') torch.Size([16])\n",
      "09/18/2023, 15:32:15# predicted of 0: tensor([121, 140,  45,  82,  35,  17,  19,  95,  49,  32,  49,  49,  49, 109,\n",
      "         72,  10], device='cuda:1') torch.Size([16])\n",
      "09/18/2023, 15:32:43# labels of Validation: tensor([ 32,  71, 104, 131,  55, 141, 151, 110,  50,  25,  61,  44,  10, 160,\n",
      "        132, 156], device='cuda:1') torch.Size([16])\n",
      "09/18/2023, 15:32:43# predicted of Validation: tensor([ 32,  71, 121, 131,  49, 141,  49, 113,  50,  25,  61,  49,  10, 160,\n",
      "        132, 156], device='cuda:1') torch.Size([16])\n",
      "09/18/2023, 15:32:44# Validation Loss: 1.4785 | Validation Accuracy: 0.6155\n",
      "\n",
      "09/18/2023, 15:32:44# Find a better model!!\n"
     ]
    },
    {
     "data": {
      "application/vnd.jupyter.widget-view+json": {
       "model_id": "2f5dd1d81c3545dc97b0408e271e9f44",
       "version_major": 2,
       "version_minor": 0
      },
      "text/plain": [
       "Training:   0%|          | 0/8300 [00:00<?, ?it/s]"
      ]
     },
     "metadata": {},
     "output_type": "display_data"
    },
    {
     "name": "stdout",
     "output_type": "stream",
     "text": [
      "09/18/2023, 15:35:37# labels of 5000: tensor([ 73, 143,  65,  99, 119, 118, 165, 128,  86,  57,  53,   3,  56, 123,\n",
      "        102,  11], device='cuda:1') torch.Size([16])\n",
      "09/18/2023, 15:35:37# predicted of 5000: tensor([ 73,  76,  65,  99, 152, 118, 165, 128,  86,  76,  76,   3,  56, 123,\n",
      "        102,  76], device='cuda:1') torch.Size([16])\n",
      "09/18/2023, 15:37:34# total batches: 8300\n",
      "09/18/2023, 15:37:34# Epoch 11 | Train Loss: 1.4752 | Train Accuracy: 0.6158\n"
     ]
    },
    {
     "data": {
      "application/vnd.jupyter.widget-view+json": {
       "model_id": "31328f5280774c6199f0d5325869b223",
       "version_major": 2,
       "version_minor": 0
      },
      "text/plain": [
       "Validation:   0%|          | 0/1038 [00:00<?, ?it/s]"
      ]
     },
     "metadata": {},
     "output_type": "display_data"
    },
    {
     "name": "stdout",
     "output_type": "stream",
     "text": [
      "09/18/2023, 15:37:34# labels of Validation: tensor([ 28,  93,  63,  38,  69, 121, 103, 157,  93, 119, 140, 163,  29,  28,\n",
      "         62, 160], device='cuda:1') torch.Size([16])\n",
      "09/18/2023, 15:37:34# predicted of Validation: tensor([ 28,  93,  63, 124,  69, 116,  93, 124,  93, 124, 140, 124,  29,  28,\n",
      "         62, 160], device='cuda:1') torch.Size([16])\n",
      "09/18/2023, 15:37:34# labels of 0: tensor([ 28,  93,  63,  38,  69, 121, 103, 157,  93, 119, 140, 163,  29,  28,\n",
      "         62, 160], device='cuda:1') torch.Size([16])\n",
      "09/18/2023, 15:37:34# predicted of 0: tensor([ 28,  93,  63, 124,  69, 116,  93, 124,  93, 124, 140, 124,  29,  28,\n",
      "         62, 160], device='cuda:1') torch.Size([16])\n",
      "09/18/2023, 15:38:03# labels of Validation: tensor([ 60, 157,  54,   0,   8,  59,  31,  46,  21,  40,  65,   8,  15,  86,\n",
      "        118,  19], device='cuda:1') torch.Size([16])\n",
      "09/18/2023, 15:38:03# predicted of Validation: tensor([124, 124, 124,   0,  93, 108, 151,  46,  21,  40,  65,  93,  15,  86,\n",
      "        118,  19], device='cuda:1') torch.Size([16])\n",
      "09/18/2023, 15:38:04# Validation Loss: 1.4752 | Validation Accuracy: 0.6172\n",
      "\n",
      "09/18/2023, 15:38:04# Find a better model!!\n"
     ]
    },
    {
     "data": {
      "application/vnd.jupyter.widget-view+json": {
       "model_id": "81fb3bca9d2945f095f5e5ca8a50ae8e",
       "version_major": 2,
       "version_minor": 0
      },
      "text/plain": [
       "Training:   0%|          | 0/8300 [00:00<?, ?it/s]"
      ]
     },
     "metadata": {},
     "output_type": "display_data"
    },
    {
     "name": "stdout",
     "output_type": "stream",
     "text": [
      "09/18/2023, 15:41:00# labels of 5000: tensor([ 60, 118, 158,  31,   2, 117,  51,  98, 156, 101, 163,  95, 140,  54,\n",
      "         45, 143], device='cuda:1') torch.Size([16])\n",
      "09/18/2023, 15:41:00# predicted of 5000: tensor([ 57, 118,  34, 121,  75, 117,  51,  98, 156, 101,  34,  95, 140, 121,\n",
      "         45,  75], device='cuda:1') torch.Size([16])\n",
      "09/18/2023, 15:42:56# total batches: 8300\n",
      "09/18/2023, 15:42:56# Epoch 12 | Train Loss: 1.4722 | Train Accuracy: 0.6155\n"
     ]
    },
    {
     "data": {
      "application/vnd.jupyter.widget-view+json": {
       "model_id": "e2550bc727a8474d8d157718988bc426",
       "version_major": 2,
       "version_minor": 0
      },
      "text/plain": [
       "Validation:   0%|          | 0/1038 [00:00<?, ?it/s]"
      ]
     },
     "metadata": {},
     "output_type": "display_data"
    },
    {
     "name": "stdout",
     "output_type": "stream",
     "text": [
      "09/18/2023, 15:42:56# labels of Validation: tensor([112,  47,  30, 155, 145,  72,   5, 127,  17, 138, 132,  94, 131, 124,\n",
      "        157,  54], device='cuda:1') torch.Size([16])\n",
      "09/18/2023, 15:42:56# predicted of Validation: tensor([162, 162, 152, 155, 145,  72,   5, 127,  17, 138, 132,  94, 131,  54,\n",
      "        162, 162], device='cuda:1') torch.Size([16])\n",
      "09/18/2023, 15:42:56# labels of 0: tensor([112,  47,  30, 155, 145,  72,   5, 127,  17, 138, 132,  94, 131, 124,\n",
      "        157,  54], device='cuda:1') torch.Size([16])\n",
      "09/18/2023, 15:42:56# predicted of 0: tensor([162, 162, 152, 155, 145,  72,   5, 127,  17, 138, 132,  94, 131,  54,\n",
      "        162, 162], device='cuda:1') torch.Size([16])\n",
      "09/18/2023, 15:43:25# labels of Validation: tensor([ 90,  38,  54, 156, 120, 132,  83, 123,  30,  94,  67,  62,  49,  20,\n",
      "         29,   1], device='cuda:1') torch.Size([16])\n",
      "09/18/2023, 15:43:25# predicted of Validation: tensor([113, 152,  76, 156, 120, 132,  76, 123, 152,  94,  67,  62, 152,  20,\n",
      "         29,  54], device='cuda:1') torch.Size([16])\n",
      "09/18/2023, 15:43:25# Validation Loss: 1.4705 | Validation Accuracy: 0.6167\n",
      "\n",
      "09/18/2023, 15:43:25# Find a better model!!\n"
     ]
    },
    {
     "data": {
      "application/vnd.jupyter.widget-view+json": {
       "model_id": "2bc7258ebb0e4d0881df05cfb517c555",
       "version_major": 2,
       "version_minor": 0
      },
      "text/plain": [
       "Training:   0%|          | 0/8300 [00:00<?, ?it/s]"
      ]
     },
     "metadata": {},
     "output_type": "display_data"
    },
    {
     "name": "stdout",
     "output_type": "stream",
     "text": [
      "09/18/2023, 15:46:20# labels of 5000: tensor([  3,   0,  40, 148, 130,  47,  37,  98,   1, 109, 127, 105, 145, 120,\n",
      "         28,  55], device='cuda:1') torch.Size([16])\n",
      "09/18/2023, 15:46:20# predicted of 5000: tensor([  3,   0,  40, 148, 130,  92,  37,  98,  83,  83, 127, 105, 145, 120,\n",
      "         28,  83], device='cuda:1') torch.Size([16])\n",
      "09/18/2023, 15:48:16# total batches: 8300\n",
      "09/18/2023, 15:48:16# Epoch 13 | Train Loss: 1.4689 | Train Accuracy: 0.6171\n"
     ]
    },
    {
     "data": {
      "application/vnd.jupyter.widget-view+json": {
       "model_id": "033b20b1dba44794b8fbea8a8a5e0289",
       "version_major": 2,
       "version_minor": 0
      },
      "text/plain": [
       "Validation:   0%|          | 0/1038 [00:00<?, ?it/s]"
      ]
     },
     "metadata": {},
     "output_type": "display_data"
    },
    {
     "name": "stdout",
     "output_type": "stream",
     "text": [
      "09/18/2023, 15:48:16# labels of Validation: tensor([  9,  87, 112, 115,  71, 115,   0, 106, 162,  85,  40,  43,  17, 143,\n",
      "         32, 160], device='cuda:1') torch.Size([16])\n",
      "09/18/2023, 15:48:16# predicted of Validation: tensor([ 36,  36,  36, 115,  71, 115,   0, 106,  36,  85,  40,  43,  17,  36,\n",
      "         32, 160], device='cuda:1') torch.Size([16])\n",
      "09/18/2023, 15:48:16# labels of 0: tensor([  9,  87, 112, 115,  71, 115,   0, 106, 162,  85,  40,  43,  17, 143,\n",
      "         32, 160], device='cuda:1') torch.Size([16])\n",
      "09/18/2023, 15:48:16# predicted of 0: tensor([ 36,  36,  36, 115,  71, 115,   0, 106,  36,  85,  40,  43,  17,  36,\n",
      "         32, 160], device='cuda:1') torch.Size([16])\n",
      "09/18/2023, 15:48:44# labels of Validation: tensor([123, 138,  53, 124,  48,  65,  32,  31,  89,  37, 110,  75,  40, 101,\n",
      "         21,  29], device='cuda:1') torch.Size([16])\n",
      "09/18/2023, 15:48:44# predicted of Validation: tensor([123, 138,  24,  36,  36,  65,  32,  36,  89,  37,  64,  36,  40, 101,\n",
      "         21,  29], device='cuda:1') torch.Size([16])\n",
      "09/18/2023, 15:48:45# Validation Loss: 1.4710 | Validation Accuracy: 0.6159\n",
      "\n"
     ]
    },
    {
     "data": {
      "application/vnd.jupyter.widget-view+json": {
       "model_id": "3215c1d86f4e484298d9b43cb93d68b1",
       "version_major": 2,
       "version_minor": 0
      },
      "text/plain": [
       "Training:   0%|          | 0/8300 [00:00<?, ?it/s]"
      ]
     },
     "metadata": {},
     "output_type": "display_data"
    },
    {
     "name": "stdout",
     "output_type": "stream",
     "text": [
      "09/18/2023, 15:51:39# labels of 5000: tensor([102,  99,  12,  83,  84, 149,  15, 141, 156,  53,  41, 163,  87,  56,\n",
      "         99,  63], device='cuda:1') torch.Size([16])\n",
      "09/18/2023, 15:51:39# predicted of 5000: tensor([102,  99, 151, 151,  84, 149,  15, 141, 156, 151,  41, 162, 162,  56,\n",
      "         99,  63], device='cuda:1') torch.Size([16])\n",
      "09/18/2023, 15:53:31# total batches: 8300\n",
      "09/18/2023, 15:53:31# Epoch 14 | Train Loss: 1.4668 | Train Accuracy: 0.6171\n"
     ]
    },
    {
     "data": {
      "application/vnd.jupyter.widget-view+json": {
       "model_id": "8de80d6d06b74834b9622761c952c71d",
       "version_major": 2,
       "version_minor": 0
      },
      "text/plain": [
       "Validation:   0%|          | 0/1038 [00:00<?, ?it/s]"
      ]
     },
     "metadata": {},
     "output_type": "display_data"
    },
    {
     "name": "stdout",
     "output_type": "stream",
     "text": [
      "09/18/2023, 15:53:31# labels of Validation: tensor([165, 120, 141, 139, 132,  51,  52,  18, 146, 161, 154, 126, 155, 121,\n",
      "         70,  35], device='cuda:1') torch.Size([16])\n",
      "09/18/2023, 15:53:31# predicted of Validation: tensor([165, 120, 141, 139, 132,  51,  52,  97, 146, 161, 154, 126, 155,  97,\n",
      "         70,  35], device='cuda:1') torch.Size([16])\n",
      "09/18/2023, 15:53:31# labels of 0: tensor([165, 120, 141, 139, 132,  51,  52,  18, 146, 161, 154, 126, 155, 121,\n",
      "         70,  35], device='cuda:1') torch.Size([16])\n",
      "09/18/2023, 15:53:31# predicted of 0: tensor([165, 120, 141, 139, 132,  51,  52,  97, 146, 161, 154, 126, 155,  97,\n",
      "         70,  35], device='cuda:1') torch.Size([16])\n",
      "09/18/2023, 15:53:59# labels of Validation: tensor([ 81, 150,  11,  48, 149,   8, 146, 152,  30, 108, 159,   7,  66,  10,\n",
      "        144,  98], device='cuda:1') torch.Size([16])\n",
      "09/18/2023, 15:53:59# predicted of Validation: tensor([ 42,  97,  76,  97, 149,  68, 146,  42,  97, 131, 159,   7,  66,  10,\n",
      "         97,  98], device='cuda:1') torch.Size([16])\n",
      "09/18/2023, 15:54:00# Validation Loss: 1.4678 | Validation Accuracy: 0.6171\n",
      "\n",
      "09/18/2023, 15:54:00# Find a better model!!\n"
     ]
    },
    {
     "data": {
      "application/vnd.jupyter.widget-view+json": {
       "model_id": "25e1fe3337a44d6bb73ca3c57119859f",
       "version_major": 2,
       "version_minor": 0
      },
      "text/plain": [
       "Training:   0%|          | 0/8300 [00:00<?, ?it/s]"
      ]
     },
     "metadata": {},
     "output_type": "display_data"
    },
    {
     "name": "stdout",
     "output_type": "stream",
     "text": [
      "09/18/2023, 15:56:46# labels of 5000: tensor([106,  44, 127,   4, 120, 127,   4, 160,  56,  72,   6,  17,  10,  31,\n",
      "        106,  91], device='cuda:1') torch.Size([16])\n",
      "09/18/2023, 15:56:46# predicted of 5000: tensor([106,  97, 127,  83, 120, 127,  83, 160,  56,  72,   6,  17,  10,  83,\n",
      "        106,  59], device='cuda:1') torch.Size([16])\n",
      "09/18/2023, 15:58:01# total batches: 8300\n",
      "09/18/2023, 15:58:01# Epoch 15 | Train Loss: 1.4646 | Train Accuracy: 0.6177\n"
     ]
    },
    {
     "data": {
      "application/vnd.jupyter.widget-view+json": {
       "model_id": "73c476919079422ab25f5ff62ede3563",
       "version_major": 2,
       "version_minor": 0
      },
      "text/plain": [
       "Validation:   0%|          | 0/1038 [00:00<?, ?it/s]"
      ]
     },
     "metadata": {},
     "output_type": "display_data"
    },
    {
     "name": "stdout",
     "output_type": "stream",
     "text": [
      "09/18/2023, 15:58:02# labels of Validation: tensor([120, 125, 152,  90,  55,  56,  33, 109,  96, 124,  21, 117,   1, 124,\n",
      "         35,  76], device='cuda:1') torch.Size([16])\n",
      "09/18/2023, 15:58:02# predicted of Validation: tensor([120,  54, 158, 110,  54,  56,  54,  54,  96, 162,  21, 117,  54,  54,\n",
      "         35,  54], device='cuda:1') torch.Size([16])\n",
      "09/18/2023, 15:58:02# labels of 0: tensor([120, 125, 152,  90,  55,  56,  33, 109,  96, 124,  21, 117,   1, 124,\n",
      "         35,  76], device='cuda:1') torch.Size([16])\n",
      "09/18/2023, 15:58:02# predicted of 0: tensor([120,  54, 158, 110,  54,  56,  54,  54,  96, 162,  21, 117,  54,  54,\n",
      "         35,  54], device='cuda:1') torch.Size([16])\n",
      "09/18/2023, 15:58:19# labels of Validation: tensor([121,  73,   8,  60, 144,   4, 105, 155,  34, 123,  58, 143,  97, 117,\n",
      "        109,   2], device='cuda:1') torch.Size([16])\n",
      "09/18/2023, 15:58:19# predicted of Validation: tensor([ 54,  73, 110,  14,  54,  54, 105, 155, 111, 123,  58,  54, 158, 117,\n",
      "         54,  54], device='cuda:1') torch.Size([16])\n",
      "09/18/2023, 15:58:19# Validation Loss: 1.4641 | Validation Accuracy: 0.6164\n",
      "\n",
      "09/18/2023, 15:58:19# Find a better model!!\n"
     ]
    },
    {
     "data": {
      "application/vnd.jupyter.widget-view+json": {
       "model_id": "957566e338e945f38aa4eb0dd0f00193",
       "version_major": 2,
       "version_minor": 0
      },
      "text/plain": [
       "Training:   0%|          | 0/8300 [00:00<?, ?it/s]"
      ]
     },
     "metadata": {},
     "output_type": "display_data"
    },
    {
     "name": "stdout",
     "output_type": "stream",
     "text": [
      "09/18/2023, 16:00:09# labels of 5000: tensor([112, 131,  41, 118, 100,  71, 134, 116,  62,  18, 138, 136,  13,  77,\n",
      "         98,  19], device='cuda:1') torch.Size([16])\n",
      "09/18/2023, 16:00:09# predicted of 5000: tensor([150, 131,  41, 118, 100,  71, 134, 150,  62,  49, 138, 136,  13,  77,\n",
      "         98,  19], device='cuda:1') torch.Size([16])\n",
      "09/18/2023, 16:01:06# total batches: 8300\n",
      "09/18/2023, 16:01:06# Epoch 16 | Train Loss: 1.4627 | Train Accuracy: 0.6183\n"
     ]
    },
    {
     "data": {
      "application/vnd.jupyter.widget-view+json": {
       "model_id": "aaac50ce3e9f4ef3afe6639785ef929f",
       "version_major": 2,
       "version_minor": 0
      },
      "text/plain": [
       "Validation:   0%|          | 0/1038 [00:00<?, ?it/s]"
      ]
     },
     "metadata": {},
     "output_type": "display_data"
    },
    {
     "name": "stdout",
     "output_type": "stream",
     "text": [
      "09/18/2023, 16:01:06# labels of Validation: tensor([ 99, 148, 121,  84,  96, 105,  99, 163,  92, 133, 163, 116, 162,  51,\n",
      "         64,  16], device='cuda:1') torch.Size([16])\n",
      "09/18/2023, 16:01:06# predicted of Validation: tensor([ 99, 148, 143,  84,  96, 105,  99, 150, 150, 133, 124, 150, 150,  51,\n",
      "         88,  16], device='cuda:1') torch.Size([16])\n",
      "09/18/2023, 16:01:06# labels of 0: tensor([ 99, 148, 121,  84,  96, 105,  99, 163,  92, 133, 163, 116, 162,  51,\n",
      "         64,  16], device='cuda:1') torch.Size([16])\n",
      "09/18/2023, 16:01:06# predicted of 0: tensor([ 99, 148, 143,  84,  96, 105,  99, 150, 150, 133, 124, 150, 150,  51,\n",
      "         88,  16], device='cuda:1') torch.Size([16])\n",
      "09/18/2023, 16:01:20# labels of Validation: tensor([120,  70, 105,  71, 146,  78,  71,  39, 119,  87,  60,   8,  40, 104,\n",
      "         86, 116], device='cuda:1') torch.Size([16])\n",
      "09/18/2023, 16:01:20# predicted of Validation: tensor([120,  70, 105,  71, 146,  78,  71,  39, 143, 150, 143,  88,  40, 150,\n",
      "         86, 150], device='cuda:1') torch.Size([16])\n",
      "09/18/2023, 16:01:20# Validation Loss: 1.4660 | Validation Accuracy: 0.6195\n",
      "\n"
     ]
    },
    {
     "data": {
      "application/vnd.jupyter.widget-view+json": {
       "model_id": "8bea39099b814d4b8432c347c8e2455e",
       "version_major": 2,
       "version_minor": 0
      },
      "text/plain": [
       "Training:   0%|          | 0/8300 [00:00<?, ?it/s]"
      ]
     },
     "metadata": {},
     "output_type": "display_data"
    },
    {
     "name": "stdout",
     "output_type": "stream",
     "text": [
      "09/18/2023, 16:02:48# labels of 5000: tensor([147, 114,  53,   3, 162, 143, 113, 117, 130, 120, 148,   1, 145,  63,\n",
      "        143,  62], device='cuda:1') torch.Size([16])\n",
      "09/18/2023, 16:02:48# predicted of 5000: tensor([147, 114, 163,   3, 152, 163, 113, 117, 130, 120, 148, 163, 145,  63,\n",
      "        163,  62], device='cuda:1') torch.Size([16])\n",
      "09/18/2023, 16:03:45# total batches: 8300\n",
      "09/18/2023, 16:03:45# Epoch 17 | Train Loss: 1.4615 | Train Accuracy: 0.6181\n"
     ]
    },
    {
     "data": {
      "application/vnd.jupyter.widget-view+json": {
       "model_id": "825556bcd38942bda011b92fa79b95ac",
       "version_major": 2,
       "version_minor": 0
      },
      "text/plain": [
       "Validation:   0%|          | 0/1038 [00:00<?, ?it/s]"
      ]
     },
     "metadata": {},
     "output_type": "display_data"
    },
    {
     "name": "stdout",
     "output_type": "stream",
     "text": [
      "09/18/2023, 16:03:45# labels of Validation: tensor([125,  14, 128, 106,  62,  80, 108,  41, 159, 163,  80, 104, 135,  91,\n",
      "         83, 107], device='cuda:1') torch.Size([16])\n",
      "09/18/2023, 16:03:45# predicted of Validation: tensor([111, 111, 128, 106,  62,  80,  91,  41, 159, 111,  80, 111, 135,  59,\n",
      "        111, 107], device='cuda:1') torch.Size([16])\n",
      "09/18/2023, 16:03:45# labels of 0: tensor([125,  14, 128, 106,  62,  80, 108,  41, 159, 163,  80, 104, 135,  91,\n",
      "         83, 107], device='cuda:1') torch.Size([16])\n",
      "09/18/2023, 16:03:45# predicted of 0: tensor([111, 111, 128, 106,  62,  80,  91,  41, 159, 111,  80, 111, 135,  59,\n",
      "        111, 107], device='cuda:1') torch.Size([16])\n",
      "09/18/2023, 16:03:58# labels of Validation: tensor([155,  14,  18, 114,  72,   4,  39,  44,  75,  41,  41, 121,  18,  18,\n",
      "        113, 164], device='cuda:1') torch.Size([16])\n",
      "09/18/2023, 16:03:58# predicted of Validation: tensor([155, 111, 111,  64,  72, 111,  39, 111, 111,  41,  41, 111, 111, 111,\n",
      "          8, 111], device='cuda:1') torch.Size([16])\n",
      "09/18/2023, 16:03:59# Validation Loss: 1.4633 | Validation Accuracy: 0.6189\n",
      "\n",
      "09/18/2023, 16:03:59# Find a better model!!\n"
     ]
    },
    {
     "data": {
      "application/vnd.jupyter.widget-view+json": {
       "model_id": "f4e41f8590c3430db50e9b006a035559",
       "version_major": 2,
       "version_minor": 0
      },
      "text/plain": [
       "Training:   0%|          | 0/8300 [00:00<?, ?it/s]"
      ]
     },
     "metadata": {},
     "output_type": "display_data"
    },
    {
     "name": "stdout",
     "output_type": "stream",
     "text": [
      "09/18/2023, 16:05:26# labels of 5000: tensor([114,  42,  89, 152,  97, 153, 132,  98,  15,  56, 112, 114, 103,  34,\n",
      "         33,   5], device='cuda:1') torch.Size([16])\n",
      "09/18/2023, 16:05:27# predicted of 5000: tensor([ 64,  75,  89,  75,  75, 153, 132,  98,  15,  56,  75,  64,  64,  75,\n",
      "         75,   5], device='cuda:1') torch.Size([16])\n",
      "09/18/2023, 16:06:24# total batches: 8300\n",
      "09/18/2023, 16:06:24# Epoch 18 | Train Loss: 1.4603 | Train Accuracy: 0.6172\n"
     ]
    },
    {
     "data": {
      "application/vnd.jupyter.widget-view+json": {
       "model_id": "176ce2c7fa474f05b41ba3ba58c3f659",
       "version_major": 2,
       "version_minor": 0
      },
      "text/plain": [
       "Validation:   0%|          | 0/1038 [00:00<?, ?it/s]"
      ]
     },
     "metadata": {},
     "output_type": "display_data"
    },
    {
     "name": "stdout",
     "output_type": "stream",
     "text": [
      "09/18/2023, 16:06:24# labels of Validation: tensor([119,  36,   5,  79, 130,  90,  85,  39, 100,  16,  87, 150, 133, 119,\n",
      "        154, 104], device='cuda:1') torch.Size([16])\n",
      "09/18/2023, 16:06:24# predicted of Validation: tensor([  2,   2,   5,  79, 130, 114,  85,  39, 100,  16,   2,   2, 133,   2,\n",
      "        154,   2], device='cuda:1') torch.Size([16])\n",
      "09/18/2023, 16:06:24# labels of 0: tensor([119,  36,   5,  79, 130,  90,  85,  39, 100,  16,  87, 150, 133, 119,\n",
      "        154, 104], device='cuda:1') torch.Size([16])\n",
      "09/18/2023, 16:06:24# predicted of 0: tensor([  2,   2,   5,  79, 130, 114,  85,  39, 100,  16,   2,   2, 133,   2,\n",
      "        154,   2], device='cuda:1') torch.Size([16])\n",
      "09/18/2023, 16:06:40# labels of Validation: tensor([146,  97,  62,  28, 113,  74, 134,   9,   8, 128,  58, 152,  94, 153,\n",
      "        152, 135], device='cuda:1') torch.Size([16])\n",
      "09/18/2023, 16:06:40# predicted of Validation: tensor([146,   2,  62,  28, 114,   2, 134,  12, 114, 128,  58,   2,  94, 153,\n",
      "          2, 135], device='cuda:1') torch.Size([16])\n",
      "09/18/2023, 16:06:40# Validation Loss: 1.4624 | Validation Accuracy: 0.6158\n",
      "\n",
      "09/18/2023, 16:06:40# Find a better model!!\n"
     ]
    },
    {
     "data": {
      "application/vnd.jupyter.widget-view+json": {
       "model_id": "2b74752867084912b753947875e4bf59",
       "version_major": 2,
       "version_minor": 0
      },
      "text/plain": [
       "Training:   0%|          | 0/8300 [00:00<?, ?it/s]"
      ]
     },
     "metadata": {},
     "output_type": "display_data"
    },
    {
     "ename": "KeyboardInterrupt",
     "evalue": "",
     "output_type": "error",
     "traceback": [
      "\u001b[0;31m---------------------------------------------------------------------------\u001b[0m",
      "\u001b[0;31mKeyboardInterrupt\u001b[0m                         Traceback (most recent call last)",
      "\u001b[0;32m<ipython-input-10-4ce7b90c6e14>\u001b[0m in \u001b[0;36m<module>\u001b[0;34m\u001b[0m\n\u001b[1;32m     44\u001b[0m     \u001b[0;32mfor\u001b[0m \u001b[0mdata\u001b[0m \u001b[0;32min\u001b[0m \u001b[0mtqdm\u001b[0m\u001b[0;34m(\u001b[0m\u001b[0mdataloaders\u001b[0m\u001b[0;34m[\u001b[0m\u001b[0;34m'train'\u001b[0m\u001b[0;34m]\u001b[0m\u001b[0;34m,\u001b[0m \u001b[0mdesc\u001b[0m\u001b[0;34m=\u001b[0m\u001b[0;34m\"Training\"\u001b[0m\u001b[0;34m,\u001b[0m \u001b[0mposition\u001b[0m\u001b[0;34m=\u001b[0m\u001b[0;36m0\u001b[0m\u001b[0;34m,\u001b[0m \u001b[0mleave\u001b[0m\u001b[0;34m=\u001b[0m\u001b[0;32mTrue\u001b[0m\u001b[0;34m)\u001b[0m\u001b[0;34m:\u001b[0m\u001b[0;34m\u001b[0m\u001b[0;34m\u001b[0m\u001b[0m\n\u001b[1;32m     45\u001b[0m         \u001b[0mnum_batches\u001b[0m \u001b[0;34m+=\u001b[0m \u001b[0;36m1\u001b[0m\u001b[0;34m\u001b[0m\u001b[0;34m\u001b[0m\u001b[0m\n\u001b[0;32m---> 46\u001b[0;31m         \u001b[0mloss\u001b[0m\u001b[0;34m,\u001b[0m \u001b[0maccuracy\u001b[0m\u001b[0;34m,\u001b[0m \u001b[0m_\u001b[0m \u001b[0;34m=\u001b[0m \u001b[0mmodel_fn\u001b[0m\u001b[0;34m(\u001b[0m\u001b[0mdata\u001b[0m\u001b[0;34m,\u001b[0m \u001b[0mmodel\u001b[0m\u001b[0;34m,\u001b[0m \u001b[0mcriterion\u001b[0m\u001b[0;34m,\u001b[0m \u001b[0mdevice\u001b[0m\u001b[0;34m,\u001b[0m \u001b[0mnum_batches\u001b[0m\u001b[0;34m,\u001b[0m \u001b[0mwhich_type\u001b[0m\u001b[0;34m=\u001b[0m\u001b[0;34m'train'\u001b[0m\u001b[0;34m)\u001b[0m\u001b[0;34m\u001b[0m\u001b[0;34m\u001b[0m\u001b[0m\n\u001b[0m\u001b[1;32m     47\u001b[0m \u001b[0;34m\u001b[0m\u001b[0m\n\u001b[1;32m     48\u001b[0m         \u001b[0moptimizer\u001b[0m\u001b[0;34m.\u001b[0m\u001b[0mzero_grad\u001b[0m\u001b[0;34m(\u001b[0m\u001b[0;34m)\u001b[0m\u001b[0;34m\u001b[0m\u001b[0;34m\u001b[0m\u001b[0m\n",
      "\u001b[0;32m<ipython-input-9-c094e135a8c2>\u001b[0m in \u001b[0;36mmodel_fn\u001b[0;34m(data, model, criterion, device, count, which_type)\u001b[0m\n\u001b[1;32m      7\u001b[0m \u001b[0;31m#     labels = labels.float()\u001b[0m\u001b[0;34m\u001b[0m\u001b[0;34m\u001b[0m\u001b[0;34m\u001b[0m\u001b[0m\n\u001b[1;32m      8\u001b[0m \u001b[0;34m\u001b[0m\u001b[0m\n\u001b[0;32m----> 9\u001b[0;31m     \u001b[0mlogits\u001b[0m \u001b[0;34m=\u001b[0m \u001b[0mmodel\u001b[0m\u001b[0;34m(\u001b[0m\u001b[0mbatched_g\u001b[0m\u001b[0;34m,\u001b[0m \u001b[0mbatched_g\u001b[0m\u001b[0;34m.\u001b[0m\u001b[0mndata\u001b[0m\u001b[0;34m[\u001b[0m\u001b[0;34m'feat'\u001b[0m\u001b[0;34m]\u001b[0m\u001b[0;34m.\u001b[0m\u001b[0mfloat\u001b[0m\u001b[0;34m(\u001b[0m\u001b[0;34m)\u001b[0m\u001b[0;34m)\u001b[0m \u001b[0;31m# for GAT\u001b[0m\u001b[0;34m\u001b[0m\u001b[0;34m\u001b[0m\u001b[0m\n\u001b[0m\u001b[1;32m     10\u001b[0m \u001b[0;31m#     logits = logits.mean(dim=1)\u001b[0m\u001b[0;34m\u001b[0m\u001b[0;34m\u001b[0m\u001b[0;34m\u001b[0m\u001b[0m\n\u001b[1;32m     11\u001b[0m \u001b[0;31m#     print(labels)\u001b[0m\u001b[0;34m\u001b[0m\u001b[0;34m\u001b[0m\u001b[0;34m\u001b[0m\u001b[0m\n",
      "\u001b[0;32m~/.local/lib/python3.6/site-packages/torch/nn/modules/module.py\u001b[0m in \u001b[0;36m_call_impl\u001b[0;34m(self, *input, **kwargs)\u001b[0m\n\u001b[1;32m   1100\u001b[0m         if not (self._backward_hooks or self._forward_hooks or self._forward_pre_hooks or _global_backward_hooks\n\u001b[1;32m   1101\u001b[0m                 or _global_forward_hooks or _global_forward_pre_hooks):\n\u001b[0;32m-> 1102\u001b[0;31m             \u001b[0;32mreturn\u001b[0m \u001b[0mforward_call\u001b[0m\u001b[0;34m(\u001b[0m\u001b[0;34m*\u001b[0m\u001b[0minput\u001b[0m\u001b[0;34m,\u001b[0m \u001b[0;34m**\u001b[0m\u001b[0mkwargs\u001b[0m\u001b[0;34m)\u001b[0m\u001b[0;34m\u001b[0m\u001b[0;34m\u001b[0m\u001b[0m\n\u001b[0m\u001b[1;32m   1103\u001b[0m         \u001b[0;31m# Do not call functions when jit is used\u001b[0m\u001b[0;34m\u001b[0m\u001b[0;34m\u001b[0m\u001b[0;34m\u001b[0m\u001b[0m\n\u001b[1;32m   1104\u001b[0m         \u001b[0mfull_backward_hooks\u001b[0m\u001b[0;34m,\u001b[0m \u001b[0mnon_full_backward_hooks\u001b[0m \u001b[0;34m=\u001b[0m \u001b[0;34m[\u001b[0m\u001b[0;34m]\u001b[0m\u001b[0;34m,\u001b[0m \u001b[0;34m[\u001b[0m\u001b[0;34m]\u001b[0m\u001b[0;34m\u001b[0m\u001b[0;34m\u001b[0m\u001b[0m\n",
      "\u001b[0;32m<ipython-input-8-3ef86d839520>\u001b[0m in \u001b[0;36mforward\u001b[0;34m(self, g, inputs)\u001b[0m\n\u001b[1;32m      6\u001b[0m \u001b[0;34m\u001b[0m\u001b[0m\n\u001b[1;32m      7\u001b[0m     \u001b[0;32mdef\u001b[0m \u001b[0mforward\u001b[0m\u001b[0;34m(\u001b[0m\u001b[0mself\u001b[0m\u001b[0;34m,\u001b[0m \u001b[0mg\u001b[0m\u001b[0;34m,\u001b[0m \u001b[0minputs\u001b[0m\u001b[0;34m)\u001b[0m\u001b[0;34m:\u001b[0m\u001b[0;34m\u001b[0m\u001b[0;34m\u001b[0m\u001b[0m\n\u001b[0;32m----> 8\u001b[0;31m         \u001b[0mh\u001b[0m \u001b[0;34m=\u001b[0m \u001b[0mself\u001b[0m\u001b[0;34m.\u001b[0m\u001b[0mlayer1\u001b[0m\u001b[0;34m(\u001b[0m\u001b[0mg\u001b[0m\u001b[0;34m,\u001b[0m \u001b[0minputs\u001b[0m\u001b[0;34m)\u001b[0m\u001b[0;34m\u001b[0m\u001b[0;34m\u001b[0m\u001b[0m\n\u001b[0m\u001b[1;32m      9\u001b[0m         \u001b[0mh\u001b[0m \u001b[0;34m=\u001b[0m \u001b[0mtorch\u001b[0m\u001b[0;34m.\u001b[0m\u001b[0mrelu\u001b[0m\u001b[0;34m(\u001b[0m\u001b[0mh\u001b[0m\u001b[0;34m)\u001b[0m\u001b[0;34m\u001b[0m\u001b[0;34m\u001b[0m\u001b[0m\n\u001b[1;32m     10\u001b[0m         \u001b[0mh\u001b[0m \u001b[0;34m=\u001b[0m \u001b[0mself\u001b[0m\u001b[0;34m.\u001b[0m\u001b[0mlayer2\u001b[0m\u001b[0;34m(\u001b[0m\u001b[0mg\u001b[0m\u001b[0;34m,\u001b[0m \u001b[0mh\u001b[0m\u001b[0;34m)\u001b[0m  \u001b[0;31m# You can apply another non-linearity here if needed\u001b[0m\u001b[0;34m\u001b[0m\u001b[0;34m\u001b[0m\u001b[0m\n",
      "\u001b[0;32m~/.local/lib/python3.6/site-packages/torch/nn/modules/module.py\u001b[0m in \u001b[0;36m_call_impl\u001b[0;34m(self, *input, **kwargs)\u001b[0m\n\u001b[1;32m   1100\u001b[0m         if not (self._backward_hooks or self._forward_hooks or self._forward_pre_hooks or _global_backward_hooks\n\u001b[1;32m   1101\u001b[0m                 or _global_forward_hooks or _global_forward_pre_hooks):\n\u001b[0;32m-> 1102\u001b[0;31m             \u001b[0;32mreturn\u001b[0m \u001b[0mforward_call\u001b[0m\u001b[0;34m(\u001b[0m\u001b[0;34m*\u001b[0m\u001b[0minput\u001b[0m\u001b[0;34m,\u001b[0m \u001b[0;34m**\u001b[0m\u001b[0mkwargs\u001b[0m\u001b[0;34m)\u001b[0m\u001b[0;34m\u001b[0m\u001b[0;34m\u001b[0m\u001b[0m\n\u001b[0m\u001b[1;32m   1103\u001b[0m         \u001b[0;31m# Do not call functions when jit is used\u001b[0m\u001b[0;34m\u001b[0m\u001b[0;34m\u001b[0m\u001b[0;34m\u001b[0m\u001b[0m\n\u001b[1;32m   1104\u001b[0m         \u001b[0mfull_backward_hooks\u001b[0m\u001b[0;34m,\u001b[0m \u001b[0mnon_full_backward_hooks\u001b[0m \u001b[0;34m=\u001b[0m \u001b[0;34m[\u001b[0m\u001b[0;34m]\u001b[0m\u001b[0;34m,\u001b[0m \u001b[0;34m[\u001b[0m\u001b[0;34m]\u001b[0m\u001b[0;34m\u001b[0m\u001b[0;34m\u001b[0m\u001b[0m\n",
      "\u001b[0;32m~/.local/lib/python3.6/site-packages/dgl/nn/pytorch/conv/sageconv.py\u001b[0m in \u001b[0;36mforward\u001b[0;34m(self, graph, feat, edge_weight)\u001b[0m\n\u001b[1;32m    265\u001b[0m             \u001b[0;32melif\u001b[0m \u001b[0mself\u001b[0m\u001b[0;34m.\u001b[0m\u001b[0m_aggre_type\u001b[0m \u001b[0;34m==\u001b[0m \u001b[0;34m\"pool\"\u001b[0m\u001b[0;34m:\u001b[0m\u001b[0;34m\u001b[0m\u001b[0;34m\u001b[0m\u001b[0m\n\u001b[1;32m    266\u001b[0m                 \u001b[0mgraph\u001b[0m\u001b[0;34m.\u001b[0m\u001b[0msrcdata\u001b[0m\u001b[0;34m[\u001b[0m\u001b[0;34m\"h\"\u001b[0m\u001b[0;34m]\u001b[0m \u001b[0;34m=\u001b[0m \u001b[0mF\u001b[0m\u001b[0;34m.\u001b[0m\u001b[0mrelu\u001b[0m\u001b[0;34m(\u001b[0m\u001b[0mself\u001b[0m\u001b[0;34m.\u001b[0m\u001b[0mfc_pool\u001b[0m\u001b[0;34m(\u001b[0m\u001b[0mfeat_src\u001b[0m\u001b[0;34m)\u001b[0m\u001b[0;34m)\u001b[0m\u001b[0;34m\u001b[0m\u001b[0;34m\u001b[0m\u001b[0m\n\u001b[0;32m--> 267\u001b[0;31m                 \u001b[0mgraph\u001b[0m\u001b[0;34m.\u001b[0m\u001b[0mupdate_all\u001b[0m\u001b[0;34m(\u001b[0m\u001b[0mmsg_fn\u001b[0m\u001b[0;34m,\u001b[0m \u001b[0mfn\u001b[0m\u001b[0;34m.\u001b[0m\u001b[0mmax\u001b[0m\u001b[0;34m(\u001b[0m\u001b[0;34m\"m\"\u001b[0m\u001b[0;34m,\u001b[0m \u001b[0;34m\"neigh\"\u001b[0m\u001b[0;34m)\u001b[0m\u001b[0;34m)\u001b[0m\u001b[0;34m\u001b[0m\u001b[0;34m\u001b[0m\u001b[0m\n\u001b[0m\u001b[1;32m    268\u001b[0m                 \u001b[0mh_neigh\u001b[0m \u001b[0;34m=\u001b[0m \u001b[0mself\u001b[0m\u001b[0;34m.\u001b[0m\u001b[0mfc_neigh\u001b[0m\u001b[0;34m(\u001b[0m\u001b[0mgraph\u001b[0m\u001b[0;34m.\u001b[0m\u001b[0mdstdata\u001b[0m\u001b[0;34m[\u001b[0m\u001b[0;34m\"neigh\"\u001b[0m\u001b[0;34m]\u001b[0m\u001b[0;34m)\u001b[0m\u001b[0;34m\u001b[0m\u001b[0;34m\u001b[0m\u001b[0m\n\u001b[1;32m    269\u001b[0m             \u001b[0;32melif\u001b[0m \u001b[0mself\u001b[0m\u001b[0;34m.\u001b[0m\u001b[0m_aggre_type\u001b[0m \u001b[0;34m==\u001b[0m \u001b[0;34m\"lstm\"\u001b[0m\u001b[0;34m:\u001b[0m\u001b[0;34m\u001b[0m\u001b[0;34m\u001b[0m\u001b[0m\n",
      "\u001b[0;32m~/.local/lib/python3.6/site-packages/dgl/heterograph.py\u001b[0m in \u001b[0;36mupdate_all\u001b[0;34m(self, message_func, reduce_func, apply_node_func, etype)\u001b[0m\n\u001b[1;32m   5109\u001b[0m             \u001b[0mg\u001b[0m \u001b[0;34m=\u001b[0m \u001b[0mself\u001b[0m \u001b[0;32mif\u001b[0m \u001b[0metype\u001b[0m \u001b[0;32mis\u001b[0m \u001b[0;32mNone\u001b[0m \u001b[0;32melse\u001b[0m \u001b[0mself\u001b[0m\u001b[0;34m[\u001b[0m\u001b[0metype\u001b[0m\u001b[0;34m]\u001b[0m\u001b[0;34m\u001b[0m\u001b[0;34m\u001b[0m\u001b[0m\n\u001b[1;32m   5110\u001b[0m             ndata = core.message_passing(\n\u001b[0;32m-> 5111\u001b[0;31m                 \u001b[0mg\u001b[0m\u001b[0;34m,\u001b[0m \u001b[0mmessage_func\u001b[0m\u001b[0;34m,\u001b[0m \u001b[0mreduce_func\u001b[0m\u001b[0;34m,\u001b[0m \u001b[0mapply_node_func\u001b[0m\u001b[0;34m\u001b[0m\u001b[0;34m\u001b[0m\u001b[0m\n\u001b[0m\u001b[1;32m   5112\u001b[0m             )\n\u001b[1;32m   5113\u001b[0m             if (\n",
      "\u001b[0;32m~/.local/lib/python3.6/site-packages/dgl/core.py\u001b[0m in \u001b[0;36mmessage_passing\u001b[0;34m(g, mfunc, rfunc, afunc)\u001b[0m\n\u001b[1;32m    386\u001b[0m     ):\n\u001b[1;32m    387\u001b[0m         \u001b[0;31m# invoke fused message passing\u001b[0m\u001b[0;34m\u001b[0m\u001b[0;34m\u001b[0m\u001b[0;34m\u001b[0m\u001b[0m\n\u001b[0;32m--> 388\u001b[0;31m         \u001b[0mndata\u001b[0m \u001b[0;34m=\u001b[0m \u001b[0minvoke_gspmm\u001b[0m\u001b[0;34m(\u001b[0m\u001b[0mg\u001b[0m\u001b[0;34m,\u001b[0m \u001b[0mmfunc\u001b[0m\u001b[0;34m,\u001b[0m \u001b[0mrfunc\u001b[0m\u001b[0;34m)\u001b[0m\u001b[0;34m\u001b[0m\u001b[0;34m\u001b[0m\u001b[0m\n\u001b[0m\u001b[1;32m    389\u001b[0m     \u001b[0;32melse\u001b[0m\u001b[0;34m:\u001b[0m\u001b[0;34m\u001b[0m\u001b[0;34m\u001b[0m\u001b[0m\n\u001b[1;32m    390\u001b[0m         \u001b[0;31m# invoke message passing in two separate steps\u001b[0m\u001b[0;34m\u001b[0m\u001b[0;34m\u001b[0m\u001b[0;34m\u001b[0m\u001b[0m\n",
      "\u001b[0;32m~/.local/lib/python3.6/site-packages/dgl/core.py\u001b[0m in \u001b[0;36minvoke_gspmm\u001b[0;34m(graph, mfunc, rfunc, srcdata, dstdata, edata)\u001b[0m\n\u001b[1;32m    356\u001b[0m             \u001b[0;32melse\u001b[0m\u001b[0;34m:\u001b[0m  \u001b[0;31m# \"copy_e\"\u001b[0m\u001b[0;34m\u001b[0m\u001b[0;34m\u001b[0m\u001b[0m\n\u001b[1;32m    357\u001b[0m                 \u001b[0mx\u001b[0m \u001b[0;34m=\u001b[0m \u001b[0mdata_dict_to_list\u001b[0m\u001b[0;34m(\u001b[0m\u001b[0mgraph\u001b[0m\u001b[0;34m,\u001b[0m \u001b[0mx\u001b[0m\u001b[0;34m,\u001b[0m \u001b[0mmfunc\u001b[0m\u001b[0;34m,\u001b[0m \u001b[0;34m\"e\"\u001b[0m\u001b[0;34m)\u001b[0m\u001b[0;34m\u001b[0m\u001b[0;34m\u001b[0m\u001b[0m\n\u001b[0;32m--> 358\u001b[0;31m         \u001b[0mz\u001b[0m \u001b[0;34m=\u001b[0m \u001b[0mop\u001b[0m\u001b[0;34m(\u001b[0m\u001b[0mgraph\u001b[0m\u001b[0;34m,\u001b[0m \u001b[0mx\u001b[0m\u001b[0;34m)\u001b[0m\u001b[0;34m\u001b[0m\u001b[0;34m\u001b[0m\u001b[0m\n\u001b[0m\u001b[1;32m    359\u001b[0m     \u001b[0;32mreturn\u001b[0m \u001b[0;34m{\u001b[0m\u001b[0mrfunc\u001b[0m\u001b[0;34m.\u001b[0m\u001b[0mout_field\u001b[0m\u001b[0;34m:\u001b[0m \u001b[0mz\u001b[0m\u001b[0;34m}\u001b[0m\u001b[0;34m\u001b[0m\u001b[0;34m\u001b[0m\u001b[0m\n\u001b[1;32m    360\u001b[0m \u001b[0;34m\u001b[0m\u001b[0m\n",
      "\u001b[0;32m~/.local/lib/python3.6/site-packages/dgl/ops/spmm.py\u001b[0m in \u001b[0;36mfunc\u001b[0;34m(g, x)\u001b[0m\n\u001b[1;32m    213\u001b[0m     \u001b[0;32mdef\u001b[0m \u001b[0mfunc\u001b[0m\u001b[0;34m(\u001b[0m\u001b[0mg\u001b[0m\u001b[0;34m,\u001b[0m \u001b[0mx\u001b[0m\u001b[0;34m)\u001b[0m\u001b[0;34m:\u001b[0m\u001b[0;34m\u001b[0m\u001b[0;34m\u001b[0m\u001b[0m\n\u001b[1;32m    214\u001b[0m         \u001b[0;32mif\u001b[0m \u001b[0mbinary_op\u001b[0m \u001b[0;34m==\u001b[0m \u001b[0;34m\"copy_u\"\u001b[0m\u001b[0;34m:\u001b[0m\u001b[0;34m\u001b[0m\u001b[0;34m\u001b[0m\u001b[0m\n\u001b[0;32m--> 215\u001b[0;31m             \u001b[0;32mreturn\u001b[0m \u001b[0mgspmm\u001b[0m\u001b[0;34m(\u001b[0m\u001b[0mg\u001b[0m\u001b[0;34m,\u001b[0m \u001b[0;34m\"copy_lhs\"\u001b[0m\u001b[0;34m,\u001b[0m \u001b[0mreduce_op\u001b[0m\u001b[0;34m,\u001b[0m \u001b[0mx\u001b[0m\u001b[0;34m,\u001b[0m \u001b[0;32mNone\u001b[0m\u001b[0;34m)\u001b[0m\u001b[0;34m\u001b[0m\u001b[0;34m\u001b[0m\u001b[0m\n\u001b[0m\u001b[1;32m    216\u001b[0m         \u001b[0;32melse\u001b[0m\u001b[0;34m:\u001b[0m\u001b[0;34m\u001b[0m\u001b[0;34m\u001b[0m\u001b[0m\n\u001b[1;32m    217\u001b[0m             \u001b[0;32mreturn\u001b[0m \u001b[0mgspmm\u001b[0m\u001b[0;34m(\u001b[0m\u001b[0mg\u001b[0m\u001b[0;34m,\u001b[0m \u001b[0;34m\"copy_rhs\"\u001b[0m\u001b[0;34m,\u001b[0m \u001b[0mreduce_op\u001b[0m\u001b[0;34m,\u001b[0m \u001b[0;32mNone\u001b[0m\u001b[0;34m,\u001b[0m \u001b[0mx\u001b[0m\u001b[0;34m)\u001b[0m\u001b[0;34m\u001b[0m\u001b[0;34m\u001b[0m\u001b[0m\n",
      "\u001b[0;32m~/.local/lib/python3.6/site-packages/dgl/ops/spmm.py\u001b[0m in \u001b[0;36mgspmm\u001b[0;34m(g, op, reduce_op, lhs_data, rhs_data)\u001b[0m\n\u001b[1;32m     82\u001b[0m             \u001b[0;34m\"sum\"\u001b[0m \u001b[0;32mif\u001b[0m \u001b[0mreduce_op\u001b[0m \u001b[0;34m==\u001b[0m \u001b[0;34m\"mean\"\u001b[0m \u001b[0;32melse\u001b[0m \u001b[0mreduce_op\u001b[0m\u001b[0;34m,\u001b[0m\u001b[0;34m\u001b[0m\u001b[0;34m\u001b[0m\u001b[0m\n\u001b[1;32m     83\u001b[0m             \u001b[0mlhs_data\u001b[0m\u001b[0;34m,\u001b[0m\u001b[0;34m\u001b[0m\u001b[0;34m\u001b[0m\u001b[0m\n\u001b[0;32m---> 84\u001b[0;31m             \u001b[0mrhs_data\u001b[0m\u001b[0;34m,\u001b[0m\u001b[0;34m\u001b[0m\u001b[0;34m\u001b[0m\u001b[0m\n\u001b[0m\u001b[1;32m     85\u001b[0m         )\n\u001b[1;32m     86\u001b[0m     \u001b[0;32melse\u001b[0m\u001b[0;34m:\u001b[0m\u001b[0;34m\u001b[0m\u001b[0;34m\u001b[0m\u001b[0m\n",
      "\u001b[0;32m~/.local/lib/python3.6/site-packages/dgl/backend/pytorch/sparse.py\u001b[0m in \u001b[0;36mgspmm\u001b[0;34m(gidx, op, reduce_op, lhs_data, rhs_data)\u001b[0m\n\u001b[1;32m   1030\u001b[0m     \u001b[0margs\u001b[0m \u001b[0;34m=\u001b[0m \u001b[0m_cast_if_autocast_enabled\u001b[0m\u001b[0;34m(\u001b[0m\u001b[0mgidx\u001b[0m\u001b[0;34m,\u001b[0m \u001b[0mop\u001b[0m\u001b[0;34m,\u001b[0m \u001b[0mreduce_op\u001b[0m\u001b[0;34m,\u001b[0m \u001b[0mlhs_data\u001b[0m\u001b[0;34m,\u001b[0m \u001b[0mrhs_data\u001b[0m\u001b[0;34m)\u001b[0m\u001b[0;34m\u001b[0m\u001b[0;34m\u001b[0m\u001b[0m\n\u001b[1;32m   1031\u001b[0m     \u001b[0;32mwith\u001b[0m \u001b[0m_disable_autocast_if_enabled\u001b[0m\u001b[0;34m(\u001b[0m\u001b[0;34m)\u001b[0m\u001b[0;34m:\u001b[0m\u001b[0;34m\u001b[0m\u001b[0;34m\u001b[0m\u001b[0m\n\u001b[0;32m-> 1032\u001b[0;31m         \u001b[0;32mreturn\u001b[0m \u001b[0mGSpMM\u001b[0m\u001b[0;34m.\u001b[0m\u001b[0mapply\u001b[0m\u001b[0;34m(\u001b[0m\u001b[0;34m*\u001b[0m\u001b[0margs\u001b[0m\u001b[0;34m)\u001b[0m\u001b[0;34m\u001b[0m\u001b[0;34m\u001b[0m\u001b[0m\n\u001b[0m\u001b[1;32m   1033\u001b[0m \u001b[0;34m\u001b[0m\u001b[0m\n\u001b[1;32m   1034\u001b[0m \u001b[0;34m\u001b[0m\u001b[0m\n",
      "\u001b[0;32m~/.local/lib/python3.6/site-packages/dgl/backend/pytorch/sparse.py\u001b[0m in \u001b[0;36mforward\u001b[0;34m(ctx, gidx, op, reduce_op, X, Y)\u001b[0m\n\u001b[1;32m    163\u001b[0m     \u001b[0;34m@\u001b[0m\u001b[0mstaticmethod\u001b[0m\u001b[0;34m\u001b[0m\u001b[0;34m\u001b[0m\u001b[0m\n\u001b[1;32m    164\u001b[0m     \u001b[0;32mdef\u001b[0m \u001b[0mforward\u001b[0m\u001b[0;34m(\u001b[0m\u001b[0mctx\u001b[0m\u001b[0;34m,\u001b[0m \u001b[0mgidx\u001b[0m\u001b[0;34m,\u001b[0m \u001b[0mop\u001b[0m\u001b[0;34m,\u001b[0m \u001b[0mreduce_op\u001b[0m\u001b[0;34m,\u001b[0m \u001b[0mX\u001b[0m\u001b[0;34m,\u001b[0m \u001b[0mY\u001b[0m\u001b[0;34m)\u001b[0m\u001b[0;34m:\u001b[0m\u001b[0;34m\u001b[0m\u001b[0;34m\u001b[0m\u001b[0m\n\u001b[0;32m--> 165\u001b[0;31m         \u001b[0mout\u001b[0m\u001b[0;34m,\u001b[0m \u001b[0;34m(\u001b[0m\u001b[0margX\u001b[0m\u001b[0;34m,\u001b[0m \u001b[0margY\u001b[0m\u001b[0;34m)\u001b[0m \u001b[0;34m=\u001b[0m \u001b[0m_gspmm\u001b[0m\u001b[0;34m(\u001b[0m\u001b[0mgidx\u001b[0m\u001b[0;34m,\u001b[0m \u001b[0mop\u001b[0m\u001b[0;34m,\u001b[0m \u001b[0mreduce_op\u001b[0m\u001b[0;34m,\u001b[0m \u001b[0mX\u001b[0m\u001b[0;34m,\u001b[0m \u001b[0mY\u001b[0m\u001b[0;34m)\u001b[0m\u001b[0;34m\u001b[0m\u001b[0;34m\u001b[0m\u001b[0m\n\u001b[0m\u001b[1;32m    166\u001b[0m         \u001b[0mreduce_last\u001b[0m \u001b[0;34m=\u001b[0m \u001b[0m_need_reduce_last_dim\u001b[0m\u001b[0;34m(\u001b[0m\u001b[0mX\u001b[0m\u001b[0;34m,\u001b[0m \u001b[0mY\u001b[0m\u001b[0;34m)\u001b[0m\u001b[0;34m\u001b[0m\u001b[0;34m\u001b[0m\u001b[0m\n\u001b[1;32m    167\u001b[0m         \u001b[0mX_shape\u001b[0m \u001b[0;34m=\u001b[0m \u001b[0mX\u001b[0m\u001b[0;34m.\u001b[0m\u001b[0mshape\u001b[0m \u001b[0;32mif\u001b[0m \u001b[0mX\u001b[0m \u001b[0;32mis\u001b[0m \u001b[0;32mnot\u001b[0m \u001b[0;32mNone\u001b[0m \u001b[0;32melse\u001b[0m \u001b[0;32mNone\u001b[0m\u001b[0;34m\u001b[0m\u001b[0;34m\u001b[0m\u001b[0m\n",
      "\u001b[0;32m~/.local/lib/python3.6/site-packages/dgl/_sparse_ops.py\u001b[0m in \u001b[0;36m_gspmm\u001b[0;34m(gidx, op, reduce_op, u, e)\u001b[0m\n\u001b[1;32m    234\u001b[0m         \u001b[0;32mif\u001b[0m \u001b[0muse_e\u001b[0m\u001b[0;34m:\u001b[0m\u001b[0;34m\u001b[0m\u001b[0;34m\u001b[0m\u001b[0m\n\u001b[1;32m    235\u001b[0m             \u001b[0marg_e\u001b[0m \u001b[0;34m=\u001b[0m \u001b[0mF\u001b[0m\u001b[0;34m.\u001b[0m\u001b[0mzeros\u001b[0m\u001b[0;34m(\u001b[0m\u001b[0mv_shp\u001b[0m\u001b[0;34m,\u001b[0m \u001b[0midtype\u001b[0m\u001b[0;34m,\u001b[0m \u001b[0mctx\u001b[0m\u001b[0;34m)\u001b[0m\u001b[0;34m\u001b[0m\u001b[0;34m\u001b[0m\u001b[0m\n\u001b[0;32m--> 236\u001b[0;31m     \u001b[0marg_u_nd\u001b[0m \u001b[0;34m=\u001b[0m \u001b[0mto_dgl_nd_for_write\u001b[0m\u001b[0;34m(\u001b[0m\u001b[0marg_u\u001b[0m\u001b[0;34m)\u001b[0m\u001b[0;34m\u001b[0m\u001b[0;34m\u001b[0m\u001b[0m\n\u001b[0m\u001b[1;32m    237\u001b[0m     \u001b[0marg_e_nd\u001b[0m \u001b[0;34m=\u001b[0m \u001b[0mto_dgl_nd_for_write\u001b[0m\u001b[0;34m(\u001b[0m\u001b[0marg_e\u001b[0m\u001b[0;34m)\u001b[0m\u001b[0;34m\u001b[0m\u001b[0;34m\u001b[0m\u001b[0m\n\u001b[1;32m    238\u001b[0m     \u001b[0;32mif\u001b[0m \u001b[0mgidx\u001b[0m\u001b[0;34m.\u001b[0m\u001b[0mnum_edges\u001b[0m\u001b[0;34m(\u001b[0m\u001b[0;36m0\u001b[0m\u001b[0;34m)\u001b[0m \u001b[0;34m>\u001b[0m \u001b[0;36m0\u001b[0m\u001b[0;34m:\u001b[0m\u001b[0;34m\u001b[0m\u001b[0;34m\u001b[0m\u001b[0m\n",
      "\u001b[0;32m~/.local/lib/python3.6/site-packages/dgl/_sparse_ops.py\u001b[0m in \u001b[0;36mto_dgl_nd_for_write\u001b[0;34m(x)\u001b[0m\n\u001b[1;32m     71\u001b[0m         \u001b[0mnd\u001b[0m\u001b[0;34m.\u001b[0m\u001b[0mNULL\u001b[0m\u001b[0;34m[\u001b[0m\u001b[0;34m\"int64\"\u001b[0m\u001b[0;34m]\u001b[0m\u001b[0;34m\u001b[0m\u001b[0;34m\u001b[0m\u001b[0m\n\u001b[1;32m     72\u001b[0m         \u001b[0;32mif\u001b[0m \u001b[0mx\u001b[0m \u001b[0;32mis\u001b[0m \u001b[0;32mNone\u001b[0m\u001b[0;34m\u001b[0m\u001b[0;34m\u001b[0m\u001b[0m\n\u001b[0;32m---> 73\u001b[0;31m         \u001b[0;32melse\u001b[0m \u001b[0mF\u001b[0m\u001b[0;34m.\u001b[0m\u001b[0mzerocopy_to_dgl_ndarray_for_write\u001b[0m\u001b[0;34m(\u001b[0m\u001b[0mx\u001b[0m\u001b[0;34m)\u001b[0m\u001b[0;34m\u001b[0m\u001b[0;34m\u001b[0m\u001b[0m\n\u001b[0m\u001b[1;32m     74\u001b[0m     )\n\u001b[1;32m     75\u001b[0m \u001b[0;34m\u001b[0m\u001b[0m\n",
      "\u001b[0;32m~/.local/lib/python3.6/site-packages/dgl/backend/pytorch/tensor.py\u001b[0m in \u001b[0;36mzerocopy_to_dgl_ndarray_for_write\u001b[0;34m(input)\u001b[0m\n\u001b[1;32m    450\u001b[0m         \u001b[0;34m\"Cannot convert view \"\u001b[0m \u001b[0;34m\"tensors to dgl ndarray for write.\"\u001b[0m\u001b[0;34m\u001b[0m\u001b[0;34m\u001b[0m\u001b[0m\n\u001b[1;32m    451\u001b[0m     )\n\u001b[0;32m--> 452\u001b[0;31m     \u001b[0;32mreturn\u001b[0m \u001b[0mzerocopy_to_dgl_ndarray\u001b[0m\u001b[0;34m(\u001b[0m\u001b[0minput\u001b[0m\u001b[0;34m)\u001b[0m\u001b[0;34m\u001b[0m\u001b[0;34m\u001b[0m\u001b[0m\n\u001b[0m\u001b[1;32m    453\u001b[0m \u001b[0;34m\u001b[0m\u001b[0m\n\u001b[1;32m    454\u001b[0m \u001b[0;34m\u001b[0m\u001b[0m\n",
      "\u001b[0;32m~/.local/lib/python3.6/site-packages/dgl/backend/pytorch/tensor.py\u001b[0m in \u001b[0;36mzerocopy_to_dgl_ndarray\u001b[0;34m(data)\u001b[0m\n\u001b[1;32m    434\u001b[0m         \u001b[0;32mif\u001b[0m \u001b[0mdata\u001b[0m\u001b[0;34m.\u001b[0m\u001b[0mdtype\u001b[0m \u001b[0;34m==\u001b[0m \u001b[0mth\u001b[0m\u001b[0;34m.\u001b[0m\u001b[0mbool\u001b[0m\u001b[0;34m:\u001b[0m\u001b[0;34m\u001b[0m\u001b[0;34m\u001b[0m\u001b[0m\n\u001b[1;32m    435\u001b[0m             \u001b[0mdata\u001b[0m \u001b[0;34m=\u001b[0m \u001b[0mdata\u001b[0m\u001b[0;34m.\u001b[0m\u001b[0mbyte\u001b[0m\u001b[0;34m(\u001b[0m\u001b[0;34m)\u001b[0m\u001b[0;34m\u001b[0m\u001b[0;34m\u001b[0m\u001b[0m\n\u001b[0;32m--> 436\u001b[0;31m         \u001b[0;32mreturn\u001b[0m \u001b[0mnd\u001b[0m\u001b[0;34m.\u001b[0m\u001b[0mfrom_dlpack\u001b[0m\u001b[0;34m(\u001b[0m\u001b[0mdlpack\u001b[0m\u001b[0;34m.\u001b[0m\u001b[0mto_dlpack\u001b[0m\u001b[0;34m(\u001b[0m\u001b[0mdata\u001b[0m\u001b[0;34m.\u001b[0m\u001b[0mcontiguous\u001b[0m\u001b[0;34m(\u001b[0m\u001b[0;34m)\u001b[0m\u001b[0;34m)\u001b[0m\u001b[0;34m)\u001b[0m\u001b[0;34m\u001b[0m\u001b[0;34m\u001b[0m\u001b[0m\n\u001b[0m\u001b[1;32m    437\u001b[0m \u001b[0;34m\u001b[0m\u001b[0m\n\u001b[1;32m    438\u001b[0m \u001b[0;32melse\u001b[0m\u001b[0;34m:\u001b[0m\u001b[0;34m\u001b[0m\u001b[0;34m\u001b[0m\u001b[0m\n",
      "\u001b[0;31mKeyboardInterrupt\u001b[0m: "
     ]
    }
   ],
   "source": [
    "import csv\n",
    "import pandas as pd\n",
    "from sklearn.metrics import classification_report\n",
    "from torch.optim import AdamW, lr_scheduler\n",
    "\n",
    "seed = 8787\n",
    "same_seeds(seed)\n",
    "\n",
    "model = GraphSAGE(in_dim=50, hidden_dim=16, out_dim=167)\n",
    "# in_dim means the dimension of the node_feat(50 dim, since the 50-dim embedding)\n",
    "# out_dim means the # of the categories -> 168 for out tasks\n",
    "# model.load_state_dict(torch.load('model3_initial(graphsage)/initial_weight.pth'))\n",
    "best_model_path = \"../checkpoint_graphSAGE/best_model_GraphSAGE_transH_50.pt\"\n",
    "\n",
    "model = model.to(device)\n",
    "\n",
    "# optimizer = torch.optim.AdamW(model.parameters(), lr=1e-5)\n",
    "optimizer = AdamW(model.parameters(), lr=5e-4)\n",
    "# scheduler = get_linear_schedule_with_warmup(optimizer, num_warmup_steps=18, num_training_steps=total_steps)\n",
    "\n",
    "# T_max control the period of the lr changing -> set 1/10 first\n",
    "scheduler = lr_scheduler.CosineAnnealingLR(optimizer, T_max=36, eta_min=0, last_epoch=- 1, verbose=False)\n",
    "\n",
    "\n",
    "criterion = nn.CrossEntropyLoss()\n",
    "# criterion = torch.nn.BCEWithLogitsLoss()\n",
    "\n",
    "total_steps = 25\n",
    "\n",
    "# save the best model\n",
    "best_val_loss = float('inf')\n",
    "patience = 10  # Number of epochs with no improvement after which training will be stopped.\n",
    "waiting = 0  # The number of epochs with no improvement so far.\n",
    "\n",
    "\n",
    "# Training Part\n",
    "for epoch in tqdm(range(total_steps)):\n",
    "    # Train\n",
    "    model.train()\n",
    "    total_loss = 0.0\n",
    "    total_accuracy = 0.0\n",
    "    num_batches = 0\n",
    "    \n",
    "    for data in tqdm(dataloaders['train'], desc=\"Training\", position=0, leave=True):\n",
    "        num_batches += 1\n",
    "        loss, accuracy, _ = model_fn(data, model, criterion, device, num_batches, which_type='train')\n",
    "        \n",
    "        optimizer.zero_grad()\n",
    "        loss.backward()\n",
    "        optimizer.step()\n",
    "\n",
    "        total_loss += loss.item()\n",
    "        total_accuracy += accuracy.item()\n",
    "\n",
    "        \n",
    "#     scheduler.step()\n",
    "    add_log_msg(f\"total batches: {num_batches}\")\n",
    "\n",
    "    avg_loss = total_loss / num_batches\n",
    "    avg_accuracy = total_accuracy / num_batches\n",
    "\n",
    "    add_log_msg(f'Epoch {epoch} | Train Loss: {avg_loss:.4f} | Train Accuracy: {avg_accuracy:.4f}')\n",
    "\n",
    "    \n",
    "    # Validation Part\n",
    "    model.eval()\n",
    "    total_accuracy = 0.0\n",
    "    total_loss = 0.0\n",
    "    num_batches = 0\n",
    "\n",
    "\n",
    "    with torch.no_grad():\n",
    "        for data in tqdm(dataloaders['valid'], desc=\"Validation\", position=0, leave=True):\n",
    "            loss, accuracy, _ = model_fn(data, model, criterion, device, num_batches, which_type='validation')\n",
    "            total_accuracy += accuracy.item()\n",
    "            total_loss += loss.item()\n",
    "            num_batches += 1\n",
    "\n",
    "    avg_accuracy = total_accuracy / num_batches\n",
    "    current_loss = total_loss / num_batches\n",
    "    \n",
    "    add_log_msg(f'Validation Loss: {current_loss:.4f} | Validation Accuracy: {avg_accuracy:.4f}\\n')\n",
    "    \n",
    "            \n",
    "    if current_loss < best_val_loss:\n",
    "        best_val_loss = current_loss\n",
    "        waiting = 0\n",
    "        \n",
    "        if os.path.exists(best_model_path):\n",
    "            os.remove(best_model_path)\n",
    "            add_log_msg(\"Find a better model!!\")\n",
    "\n",
    "        torch.save(model.state_dict(), best_model_path)\n",
    "\n",
    "#         print(best_model_path)\n",
    "\n",
    "    else:\n",
    "        waiting += 1\n",
    "        if waiting >= patience:\n",
    "            add_log_msg(\"============================== Early stopping ==================================\")\n",
    "            break"
   ]
  },
  {
   "cell_type": "code",
   "execution_count": 11,
   "metadata": {},
   "outputs": [
    {
     "data": {
      "application/vnd.jupyter.widget-view+json": {
       "model_id": "034d225a1f4047a3bb7d4168982e2d9e",
       "version_major": 2,
       "version_minor": 0
      },
      "text/plain": [
       "Testing:   0%|          | 0/1038 [00:00<?, ?it/s]"
      ]
     },
     "metadata": {},
     "output_type": "display_data"
    },
    {
     "name": "stdout",
     "output_type": "stream",
     "text": [
      "09/18/2023, 16:07:29# labels of Test: tensor([65, 65, 65, 65, 65, 65, 65, 65, 65, 65, 65, 65, 65, 65, 65, 65],\n",
      "       device='cuda:1') torch.Size([16])\n",
      "09/18/2023, 16:07:29# predicted of Test: tensor([65, 65, 65, 65, 65, 65, 65, 65, 65, 65, 65, 65, 65, 65, 65, 65],\n",
      "       device='cuda:1') torch.Size([16])\n",
      "09/18/2023, 16:07:29# labels of 0: tensor([65, 65, 65, 65, 65, 65, 65, 65, 65, 65, 65, 65, 65, 65, 65, 65],\n",
      "       device='cuda:1') torch.Size([16])\n",
      "09/18/2023, 16:07:29# predicted of 0: tensor([65, 65, 65, 65, 65, 65, 65, 65, 65, 65, 65, 65, 65, 65, 65, 65],\n",
      "       device='cuda:1') torch.Size([16])\n",
      "09/18/2023, 16:07:29# labels: tensor([65, 65, 65, 65, 65, 65, 65, 65, 65, 65, 65, 65, 65, 65, 65, 65],\n",
      "       device='cuda:1') torch.Size([16])\n",
      "09/18/2023, 16:07:29# predicted: tensor([65, 65, 65, 65, 65, 65, 65, 65, 65, 65, 65, 65, 65, 65, 65, 65],\n",
      "       device='cuda:1') torch.Size([16])\n",
      "09/18/2023, 16:07:43# labels of Test: tensor([162, 162, 162, 162, 162, 162, 162, 162, 162, 162, 162, 162, 162, 162,\n",
      "        162, 162], device='cuda:1') torch.Size([16])\n",
      "09/18/2023, 16:07:43# predicted of Test: tensor([76,  2,  2,  2,  2, 76,  2,  2,  2, 76,  2,  2,  2,  2,  2,  2],\n",
      "       device='cuda:1') torch.Size([16])\n",
      "09/18/2023, 16:07:44# Test Accuracy: 61.6144578313253 %\n",
      "\n",
      "\n",
      "\n"
     ]
    },
    {
     "name": "stderr",
     "output_type": "stream",
     "text": [
      "/workdir/home/euni/.local/lib/python3.6/site-packages/sklearn/metrics/_classification.py:1248: UndefinedMetricWarning: Precision and F-score are ill-defined and being set to 0.0 in labels with no predicted samples. Use `zero_division` parameter to control this behavior.\n",
      "  _warn_prf(average, modifier, msg_start, len(result))\n",
      "/workdir/home/euni/.local/lib/python3.6/site-packages/sklearn/metrics/_classification.py:1248: UndefinedMetricWarning: Precision and F-score are ill-defined and being set to 0.0 in labels with no predicted samples. Use `zero_division` parameter to control this behavior.\n",
      "  _warn_prf(average, modifier, msg_start, len(result))\n",
      "/workdir/home/euni/.local/lib/python3.6/site-packages/sklearn/metrics/_classification.py:1248: UndefinedMetricWarning: Precision and F-score are ill-defined and being set to 0.0 in labels with no predicted samples. Use `zero_division` parameter to control this behavior.\n",
      "  _warn_prf(average, modifier, msg_start, len(result))\n"
     ]
    },
    {
     "name": "stdout",
     "output_type": "stream",
     "text": [
      "09/18/2023, 16:07:45# report path: classification_report/classification_report-transH_50-graphSAGE-0.xlsx\n",
      "09/18/2023, 16:07:45# label path: classification_report/mapped_true_predicted_labels-transH_50-graphSAGE-0.xlsx\n"
     ]
    },
    {
     "name": "stderr",
     "output_type": "stream",
     "text": [
      "/workdir/home/euni/.local/lib/python3.6/site-packages/sklearn/metrics/_classification.py:1248: UndefinedMetricWarning: Precision and F-score are ill-defined and being set to 0.0 in labels with no predicted samples. Use `zero_division` parameter to control this behavior.\n",
      "  _warn_prf(average, modifier, msg_start, len(result))\n",
      "/workdir/home/euni/.local/lib/python3.6/site-packages/sklearn/metrics/_classification.py:1248: UndefinedMetricWarning: Precision and F-score are ill-defined and being set to 0.0 in labels with no predicted samples. Use `zero_division` parameter to control this behavior.\n",
      "  _warn_prf(average, modifier, msg_start, len(result))\n"
     ]
    },
    {
     "name": "stdout",
     "output_type": "stream",
     "text": [
      "09/18/2023, 16:07:46# mapped_report:\n",
      "                                                precision    recall  f1-score   support\n",
      "\n",
      "T1003.001_0ef4cc7b-611c-4237-b20b-db36b6906554       1.00      1.00      1.00       100\n",
      "    T1003.001_35d92515122effdd73801c6ac3021da7       1.00      1.00      1.00       100\n",
      "    T1003.002_5a484b65c247675e3b7ada4ba648d376       1.00      1.00      1.00       100\n",
      "    T1003.002_7fa4ea18694f2552547b65e23952cabb       1.00      1.00      1.00       100\n",
      "    T1003.003_9f73269695e54311dd61dc68940fb3e1       0.00      0.00      0.00       100\n",
      "    T1003.003_f049b89533298c2d6cd37a940248b219       0.00      0.00      0.00       100\n",
      "        T1003_18f31c311ac208802e88ab8d5af8603e       1.00      1.00      1.00       100\n",
      "        T1007_9d03c91bdae5a80f17f89c987942b5a8       1.00      1.00      1.00       100\n",
      "    T1007_c6607391-d02c-44b5-9b13-d3492ca58599       0.00      0.00      0.00       100\n",
      "        T1007_d6bb2a19da7246731ed9c44831b135f8       0.49      0.65      0.56       100\n",
      "    T1016_14a21534-350f-4d83-9dd7-3c56b93a0c17       0.00      0.00      0.00       100\n",
      "        T1016_71b3d2945679566b9d94d8cb11df4b70       0.00      0.00      0.00       100\n",
      "        T1016_7d8ee68f0e9731db82964f558f614608       0.56      1.00      0.72       100\n",
      "    T1016_921055f4-5970-4707-909e-62f594234d91       0.00      0.00      0.00       100\n",
      "    T1016_a0676fe1-cd52-482e-8dde-349b73f9aa69       0.00      0.00      0.00       100\n",
      "    T1016_e8017c46-acb8-400c-a4b5-b3362b5b5baa       0.00      0.00      0.00       100\n",
      "    T1018_26c8b8b5-7b5b-4de1-a128-7d37fb14f517       0.00      0.00      0.00       100\n",
      "        T1018_a44bb43474728496276d5d73aa14588f       0.00      0.00      0.00       100\n",
      "        T1018_ac20e592bc912bddff4d6b88289095f0       0.00      0.00      0.00       100\n",
      "    T1021.001_dd67068b052fa553ad4a0ac7d6a5ea89       1.00      1.00      1.00       100\n",
      "    T1033_bd527b63-9f9e-46e0-9816-b8434d2b8989       0.00      0.00      0.00       100\n",
      "    T1033_c0da588f-79f0-4263-8998-7496b1a40596       0.00      0.00      0.00       100\n",
      "    T1036.003_04e8d83e7badf098d50800d6aa1dd487       1.00      1.00      1.00       100\n",
      "    T1036.003_f5ef8466e5ebcd2ae03f338d9416069c       1.00      1.00      1.00       100\n",
      "    T1036.004_1f0614ea5c4af6faf1b44570f5f22f8a       0.09      0.08      0.09       100\n",
      "    T1036.004_7de3d7b4922a7b996d8df36fb22bb118       0.10      0.61      0.17       100\n",
      "    T1037.001_62cfa90fb03a6bc1a6ebcce8a3ea81b7       1.00      1.00      1.00       100\n",
      "        T1040_6881a4589710d53f0c146e91db513f01       1.00      1.00      1.00       100\n",
      "        T1047_09e0f9cf2eb803a1c35deeecf3665fad       0.00      0.00      0.00       100\n",
      "        T1047_6935e41353aa781bb723462d26114c44       0.00      0.00      0.00       100\n",
      "        T1047_ac122553ab4426ea3362bb4a97d31bfd       0.00      0.00      0.00       100\n",
      "        T1047_ac2764f7a67a9ce92b54e8e59b361838       0.02      0.83      0.04       100\n",
      "        T1047_b0255b5120cbabc062d8d4510a142c3b       0.01      0.02      0.01       100\n",
      "        T1047_ed736a123da6fb2aab22cfd4f437e8b5       0.00      0.00      0.00       100\n",
      "        T1047_f4b0b4129560ea66f9751275e82f6bab       0.00      0.00      0.00       100\n",
      "    T1049_638fb6bb-ba39-4285-93d1-7e4775b033a8       0.00      0.00      0.00       100\n",
      "        T1049_a14392d713dffba6a397682ff83259a0       0.53      0.43      0.48       100\n",
      "    T1053.005_5db2884b6ca3ab932848f295a3896dc0       0.00      0.00      0.00       100\n",
      "    T1053.005_ee454be9197890de62705ce6255933fd       0.00      0.00      0.00       100\n",
      "T1055.001_a74bc239-a196-4f7e-8d5c-fe8c0266071c       0.00      0.00      0.00       100\n",
      "T1055.002_e5bcefee-262d-4568-a261-e8a20855ec81       0.00      0.00      0.00       100\n",
      "    T1057_5a39d7ed-45c9-4a79-b581-e5fb99e24f65       0.00      0.00      0.00       100\n",
      "    T1057_8adf02e8-6e71-4244-886c-98c402857404       1.00      1.00      1.00       100\n",
      "        T1057_b2a1e430ca6d36eb5af2fe666e769847       0.00      0.00      0.00       100\n",
      "        T1057_f8de05d1741dcc468f772ab0ff4dac72       0.00      0.00      0.00       100\n",
      "T1059.001_55678719-e76e-4df9-92aa-10655bbd1cf4       1.00      1.00      1.00       100\n",
      "    T1059.001_6efbccc1869e8cd618c0d3ecda407d5f       1.00      1.00      1.00       100\n",
      "T1059.001_702bfdd2-9947-4eda-b551-c3a1ea9a59a2       1.00      1.00      1.00       100\n",
      "T1059.001_bfff9006-d1fb-46ce-b173-92cb04e9a031       1.00      1.00      1.00       100\n",
      "T1059.001_ccdb8caf-c69e-424b-b930-551969450c57       1.00      1.00      1.00       100\n",
      "T1059.001_e5f9de8f-3df1-4e78-ad92-a784e3f6770d       1.00      1.00      1.00       100\n",
      "    T1059.003_6c318ef0339d74d909ad556681b6493e       1.00      1.00      1.00       100\n",
      "    T1059.003_f38e58deb7ad20b5538ca40db7b7b4f8       1.00      1.00      1.00       100\n",
      "T1069.001_5c4dd985-89e3-4590-9b57-71fed66ff4e2       1.00      1.00      1.00       100\n",
      "    T1069.001_a1f48fa3ddee658b29b414523c9a295b       0.33      0.01      0.02       100\n",
      "    T1069.002_6103e503cb444bc7b4187704f2035708       1.00      0.22      0.36       100\n",
      "    T1070.005_1f91076e2be2014cc7b4f1296de02fd6       1.00      1.00      1.00       100\n",
      "    T1071.001_24c3b7b004401d839a5c337201da3484       1.00      1.00      1.00       100\n",
      "T1074.001_4e97e699-93d7-4040-b5a3-2e906a58199e       1.00      1.00      1.00       100\n",
      "T1074.001_6469befa-748a-4b9c-a96d-f191fde47d89       1.00      1.00      1.00       100\n",
      "    T1074.001_e6dfc7e89359ac6fa6de84b0e1d5762e       1.00      1.00      1.00       100\n",
      "    T1078.001_d0ca00832890baa1d42322cf70fcab1a       0.00      0.00      0.00       100\n",
      "    T1082_29451844-9b76-4e16-a9ee-d6feab4b24db       0.00      0.00      0.00       100\n",
      "    T1083_52177cc1-b9ab-4411-ac21-2eadc4b5d3b8       1.00      1.00      1.00       100\n",
      "    T1083_6e1a53c0-7352-4899-be35-fa7f364d5722       0.00      0.00      0.00       100\n",
      "    T1087.001_6334877e8e3ba48f7835d4856d90a282       1.00      1.00      1.00       100\n",
      "T1087.001_feaced8f-f43f-452a-9500-a5219488abb8       0.00      0.00      0.00       100\n",
      "    T1090.001_ba343199a4f15ed6b57eb52412f62e4e       1.00      1.00      1.00       100\n",
      "        T1105_0856c235a1d26113d4f2d92e39c9a9f8       1.00      1.00      1.00       100\n",
      "        T1105_1095434782a00c8a4772a11e625bcf5d       1.00      1.00      1.00       100\n",
      "        T1105_4f683658f161ccdc51337c470d32bab9       1.00      1.00      1.00       100\n",
      "    T1105_60f63260-39bb-4136-87a0-b6c2dca799fc       1.00      1.00      1.00       100\n",
      "        T1105_c521e0a70b243a0cf9217907ca3c6d27       1.00      1.00      1.00       100\n",
      "        T1105_c76968acda4aa1673dadcd67f3ab7664       1.00      1.00      1.00       100\n",
      "        T1105_e6715e61f5df646692c624b3499384c4       1.00      1.00      1.00       100\n",
      "    T1105_eb814e03-811a-467a-bc6d-dcd453750fa2       1.00      1.00      1.00       100\n",
      "        T1112_257313a3c93e3bb7dfb60d6753b09e34       1.00      1.00      1.00       100\n",
      "        T1112_34041639e6e501856ecaf5969ee29c76       1.00      1.00      1.00       100\n",
      "        T1112_35c0360d226cf38104f300d9d57ce60e       1.00      1.00      1.00       100\n",
      "        T1112_4bfb5f265a5ce07af6bf10da113af7db       1.00      1.00      1.00       100\n",
      "        T1112_7fe6a66d03f4dbfc022609ba311c2b11       1.00      1.00      1.00       100\n",
      "        T1112_ba6f6214dbd17c54001e0a163b60f151       1.00      1.00      1.00       100\n",
      "        T1112_cab7b85611a290c0769546bfa9d6f962       1.00      1.00      1.00       100\n",
      "        T1112_cd8be0e6b873919da25530a2c7ea6750       1.00      1.00      1.00       100\n",
      "        T1112_e74d2fb4ef5fa6c766a4151554033697       1.00      1.00      1.00       100\n",
      "        T1112_e7a987cbef27263e666e5b096488dc55       1.00      1.00      1.00       100\n",
      "        T1112_fa4ba6a06b4a5cd955ea5a60fae24281       1.00      1.00      1.00       100\n",
      "        T1112_fd992e8ecfdac9b56dd6868904044827       1.00      1.00      1.00       100\n",
      "    T1113_316251ed-6a28-4013-812b-ddf5b5b007f8       1.00      1.00      1.00       100\n",
      "        T1115_70795de7cbb842edb029b3378c27c008       1.00      1.00      1.00       100\n",
      "    T1115_b007fe0c-c6b0-4fda-915c-255bbc070de2       0.00      0.00      0.00       100\n",
      "        T1119_344e7eaf650763e0d3e9f02e62c1cf4b       1.00      1.00      1.00       100\n",
      "        T1119_7121cdf93b951311be9d7078c602efdc       1.00      1.00      1.00       100\n",
      "        T1120_7b9c7afaefa59aab759b49af0d699ac1       1.00      1.00      1.00       100\n",
      "        T1123_372e6f46fca18e4f1b43209c20ffafa2       1.00      1.00      1.00       100\n",
      "    T1124_fa6e8607-e0b1-425d-8924-9b894da5a002       0.02      0.03      0.03       100\n",
      "        T1125_da86001b5081fcf773d8e62f22cf2b00       1.00      1.00      1.00       100\n",
      "    T1135_530e47c6-8592-42bf-91df-c59ffbd8541b       0.00      0.00      0.00       100\n",
      "    T1135_deeac480-5c2a-42b5-90bb-41675ee53c7e       0.00      0.00      0.00       100\n",
      "    T1137.002_e2af3c3ab1b0f659c874b8af58c49759       1.00      1.00      1.00       100\n",
      "        T1137_12ad9edefc86af07700fbf49bfdac6ba       1.00      1.00      1.00       100\n",
      "        T1201_38f6f0e50a6b196140ec40d3dc9cc9e6       0.00      0.00      0.00       100\n",
      "        T1201_57296a2ddbeb7423c05feef2fe972111       0.00      0.00      0.00       100\n",
      "    T1204.002_522f3f35cd013e63830fa555495a0081       1.00      1.00      1.00       100\n",
      "        T1217_69bbe2183fa09c00ccaac62d48e214f8       1.00      1.00      1.00       100\n",
      "        T1217_f7a0f7d704aa52a764d9d1bee81e65d6       0.00      0.00      0.00       100\n",
      "        T1219_7dabcbecab0334b115feefab1630f84a       1.00      1.00      1.00       100\n",
      "        T1219_af8cb2bf9b436aae5c106a0a9c207e14       1.00      1.00      1.00       100\n",
      "        T1219_f1b3fca18d7465cd10e5a7477a3bf97d       1.00      1.00      1.00       100\n",
      "    T1482_6131397e-7765-424e-a594-3d7fb2d93a6a       1.00      1.00      1.00       100\n",
      "        T1482_cfb61005899996469ae3023796792ca5       0.00      0.00      0.00       100\n",
      "        T1486_d82ceb9939d3d920ee550187ad8235c8       1.00      1.00      1.00       100\n",
      "        T1490_2d53d6fabd39bf9c70b0dfcdfbbc926d       0.00      0.00      0.00       100\n",
      "        T1490_8467c994685ccf178db166964bd80fab       0.00      0.00      0.00       100\n",
      "        T1490_9e5e4c0655fd1b5be88bd40b8251175f       0.00      0.00      0.00       100\n",
      "        T1490_c156ac5c9fa67080365268d95f29053d       0.00      0.00      0.00       100\n",
      "        T1490_c8f329d2847ede593b6cb4a1ec6120fb       1.00      1.00      1.00       100\n",
      "        T1490_e90756bb6dcd21462dc4cc452661df91       0.00      0.00      0.00       100\n",
      "    T1491_47d08617-5ce1-424a-8cc5-c9c978ce6bf9       1.00      1.00      1.00       100\n",
      "    T1491_68235976-2404-42a8-9105-68230cfef562       1.00      1.00      1.00       100\n",
      "    T1496_46da2385-cf37-49cb-ba4b-a739c7a19de4       1.00      1.00      1.00       100\n",
      "T1497.001_1258b063-27d6-489b-a677-4807faacf868       0.00      0.00      0.00       100\n",
      "T1497.001_5dc841fd-28ad-40e2-b10e-fb007fe09e81       0.00      0.00      0.00       100\n",
      "T1497.001_7a6ba833-de40-466a-8969-5c37b13603e0       0.00      0.00      0.00       100\n",
      "    T1499_2fe2d5e6-7b06-4fc0-bf71-6966a1226731       0.00      0.00      0.00       100\n",
      "T1518.001_2dece965-37a0-4f70-a391-0f30e3331aba       0.00      0.00      0.00       100\n",
      "    T1518.001_33a24ff44719e6ac0614b58f8c9a7c72       0.00      0.00      0.00       100\n",
      "    T1518.001_b8453a5fe06b24aea12b27592d5c3d3a       0.02      0.13      0.04       100\n",
      "        T1518_8ddfaf982ab359cda13626b870ccb339       1.00      1.00      1.00       100\n",
      "    T1518_c9be8043-a445-4cbf-b77b-ed7bb007fc7c       1.00      1.00      1.00       100\n",
      "        T1531_aa6b15485a5f50ced34d87fda177b758       0.00      0.00      0.00       100\n",
      "        T1531_b25ae80dad74142fafb510e9c1949ace       0.10      0.27      0.14       100\n",
      "    T1546.013_f9a968af61d36983448c74cca5464e17       1.00      1.00      1.00       100\n",
      "    T1547.001_0dbdf1a2a87e718a6ac8a8e3415a7fac       1.00      1.00      1.00       100\n",
      "    T1547.001_163b023f43aba758d36f524d146cb8ea       1.00      1.00      1.00       100\n",
      "    T1547.001_1f15ab22c39a9b6bb2bb0d77276dfcb3       1.00      1.00      1.00       100\n",
      "    T1547.001_4b71ebb2f6f6a01235ba240fa40ce978       1.00      1.00      1.00       100\n",
      "    T1547.001_777043894e42d2aae3881e63f6c76d33       1.00      1.00      1.00       100\n",
      "    T1547.001_d3ef4145e4144fd694514b1c5cc17350       1.00      1.00      1.00       100\n",
      "    T1547.004_0856714c9810ac55b53e9964d02958a0       1.00      1.00      1.00       100\n",
      "    T1547.004_aa147165f6c116cb0b0f944abe1db8ce       1.00      1.00      1.00       100\n",
      "    T1547.009_501af516bd8b24fee0c7c650ae5cc861       1.00      1.00      1.00       100\n",
      "    T1547.009_b6e5c895c6709fe289352ee23f062229       1.00      1.00      1.00       100\n",
      "    T1547.010_4593d72a5145e3f494421ac772d37464       1.00      1.00      1.00       100\n",
      "        T1547_fe9eeee9a7b339089e5fa634b08522c1       1.00      1.00      1.00       100\n",
      "T1548.002_665432a4-42e7-4ee1-af19-a9a8c9455d0c       1.00      1.00      1.00       100\n",
      "    T1552.002_3e5b04b8ee0a1a4950da8f35d95e65fc       0.00      0.00      0.00       100\n",
      "        T1560_a1ee301b0508747b468d578a14e5c1a5       1.00      1.00      1.00       100\n",
      "    T1562.001_43e3334362b140924f001b256b229ee5       1.00      1.00      1.00       100\n",
      "    T1562.002_6a8d25d65a7d481dc479f89c62af1e6a       1.00      1.00      1.00       100\n",
      "    T1562.002_94f51bf01a7036fe02d07b4c18967669       0.00      0.00      0.00       100\n",
      "    T1562.004_280003641a5cddf916c4f2bf605a71d3       0.00      0.00      0.00       100\n",
      "    T1562.004_41627f71f968225b9f162cb76d16bd9d       1.00      1.00      1.00       100\n",
      "    T1562.004_5b93df032e230056c21a3e57334f77d1       0.00      0.00      0.00       100\n",
      "    T1562.004_8d0a4585e7c4646185a912b14cd9cb46       0.00      0.00      0.00       100\n",
      "    T1562.004_8fe59e288f10a486dc8b44bc872019ff       1.00      1.00      1.00       100\n",
      "    T1564.001_66a5fd5f244819181f074dd082a28905       0.50      1.00      0.67       100\n",
      "    T1564.001_dce51e632abdfe5392c7c1f942ac9273       0.00      0.00      0.00       100\n",
      "    T1564.003_9a2edad4053a2b59fb9167a9bc29e7dc       1.00      1.00      1.00       100\n",
      "    T1564.004_28862487a99f5f89bc0d68c87396c7e9       1.00      1.00      1.00       100\n",
      "    T1564.004_76b6066fe170d38215251102e42be973       1.00      1.00      1.00       100\n",
      "        T1564_dedfa0a54c9c13ce5714a0dc2e1f5d1a       0.00      0.00      0.00       100\n",
      "    T1566.001_1afaec09315ab71fdfb167175e8a019a       1.00      1.00      1.00       100\n",
      "    T1574.001_63bbedafba2f541552ac3579e9e3737b       1.00      1.00      1.00       100\n",
      "    T1574.011_72249c1e9ffe7d8f30243d838e0791ca       1.00      1.00      1.00       100\n",
      "                                        benign       1.00      1.00      1.00       100\n",
      "\n",
      "                                      accuracy                           0.62     16600\n",
      "                                     macro avg       0.61      0.62      0.60     16600\n",
      "                                  weighted avg       0.61      0.62      0.60     16600\n",
      "\n"
     ]
    },
    {
     "name": "stderr",
     "output_type": "stream",
     "text": [
      "/workdir/home/euni/.local/lib/python3.6/site-packages/sklearn/metrics/_classification.py:1248: UndefinedMetricWarning: Precision and F-score are ill-defined and being set to 0.0 in labels with no predicted samples. Use `zero_division` parameter to control this behavior.\n",
      "  _warn_prf(average, modifier, msg_start, len(result))\n"
     ]
    }
   ],
   "source": [
    "# load the pretrained model\n",
    "pretrained_model_path = '../checkpoint_graphSAGE/best_model_GraphSAGE_transH_50.pt'\n",
    "model.load_state_dict(torch.load(pretrained_model_path))\n",
    "\n",
    "model.to(device)\n",
    "model.eval()\n",
    "\n",
    "total = 0\n",
    "correct = 0\n",
    "count = 0\n",
    "\n",
    "true_labels = []\n",
    "predicted_labels = []\n",
    "\n",
    "with torch.no_grad():\n",
    "    for data in tqdm(dataloaders['test'], desc=\"Testing\", position=0, leave=True):\n",
    "#         print(f\"data:{data[1]}\")\n",
    "        loss, accuracy, predicted = model_fn(data, model, criterion, device, count, which_type='test')\n",
    "        labels = data[1].to(device)\n",
    "        \n",
    "        true_labels.extend(labels.cpu().numpy())\n",
    "        predicted_labels.extend(predicted.cpu().numpy())\n",
    "        \n",
    "        if count % 5000 == 0:\n",
    "            add_log_msg(f\"labels: {labels} {labels.shape}\")\n",
    "            add_log_msg(f\"predicted: {predicted} {predicted.shape}\")\n",
    "            \n",
    "        count += 1\n",
    "        \n",
    "        total += labels.size(0)\n",
    "        correct += (predicted == labels).sum().item()\n",
    "\n",
    "add_log_msg(f'Test Accuracy: {100 * correct / total} %\\n\\n\\n')\n",
    "\n",
    "\n",
    "# ======================================== handlig the output excel files ========================================\n",
    "mapping_file = './new_mapping.txt'\n",
    "label_mapping = {}\n",
    "with open(mapping_file, 'r') as f:\n",
    "    for line in f:\n",
    "        parts = line.strip().split(': ')\n",
    "        label_mapping[int(parts[1])] = parts[0]\n",
    "        \n",
    "# 将映射后的标签应用到true和predicted标签列表\n",
    "mapped_true_labels = [label_mapping[label] for label in true_labels]\n",
    "mapped_predicted_labels = [label_mapping[label] for label in predicted_labels]\n",
    "\n",
    "# 生成Scikit-learn报告信息的DataFrame\n",
    "report_data = classification_report(mapped_true_labels, mapped_predicted_labels, output_dict=True)\n",
    "report_df = pd.DataFrame(report_data).transpose()\n",
    "\n",
    "# mapped_true_labels_np = np.array(mapped_true_labels)\n",
    "# mapped_predicted_labels_np = np.array(mapped_predicted_labels)\n",
    "\n",
    "# print(\"mapped_true_labels 的形状:\", mapped_true_labels_np.shape)\n",
    "# print(\"mapped_predicted_labels 的形状:\", mapped_predicted_labels_np.shape)\n",
    "\n",
    "report_folder = 'classification_report'\n",
    "os.makedirs(report_folder, exist_ok=True)\n",
    "\n",
    "count = 0\n",
    "while True:\n",
    "    report_filename = f'classification_report-transH_50-graphSAGE-{count}.xlsx'\n",
    "    labels_filename = f'mapped_true_predicted_labels-transH_50-graphSAGE-{count}.xlsx'\n",
    "    \n",
    "    report_path = os.path.join(report_folder, report_filename)\n",
    "    labels_path = os.path.join(report_folder, labels_filename)\n",
    "    \n",
    "    if not os.path.exists(report_path) and not os.path.exists(labels_path):\n",
    "        break\n",
    "    count += 1\n",
    "\n",
    "    \n",
    "report_df.to_excel(report_path, index_label='Label')\n",
    "\n",
    "mapped_labels_df = pd.DataFrame({'true_label': mapped_true_labels, 'predicted_label': mapped_predicted_labels})\n",
    "mapped_labels_df.to_excel(labels_path, index=False)\n",
    "\n",
    "add_log_msg(f\"report path: {report_path}\")\n",
    "add_log_msg(f\"label path: {labels_path}\")\n",
    "\n",
    "mapped_report = classification_report(mapped_true_labels, mapped_predicted_labels)\n",
    "add_log_msg(f\"mapped_report:\\n{mapped_report}\")"
   ]
  },
  {
   "cell_type": "markdown",
   "metadata": {},
   "source": [
    "### Training"
   ]
  },
  {
   "cell_type": "markdown",
   "metadata": {},
   "source": [
    "- Fix the seed and save the model.state_dict that contains the initial weight"
   ]
  },
  {
   "cell_type": "code",
   "execution_count": null,
   "metadata": {},
   "outputs": [],
   "source": [
    "seed = 8787\n",
    "same_seeds(seed)\n",
    "\n",
    "model = GraphSAGE(in_dim=50, hidden_dim=16, out_dim=167)\n",
    "torch.save(model.state_dict(), 'model3_initial(graphsage)/initial_weight.pth')"
   ]
  },
  {
   "cell_type": "code",
   "execution_count": null,
   "metadata": {},
   "outputs": [],
   "source": [
    "model.layer1.fc_self.weight"
   ]
  },
  {
   "cell_type": "markdown",
   "metadata": {},
   "source": [
    "- Check if model really load the model_dict"
   ]
  },
  {
   "cell_type": "code",
   "execution_count": null,
   "metadata": {},
   "outputs": [],
   "source": [
    "model = GraphSAGE(in_dim=50, hidden_dim=16, out_dim=167)\n",
    "model.load_state_dict(torch.load('model3_initial(graphsage)/initial_weight.pth'))\n",
    "model.layer1.fc_self.weight"
   ]
  },
  {
   "cell_type": "markdown",
   "metadata": {},
   "source": [
    "### test of valid and test part is ``graph``"
   ]
  },
  {
   "cell_type": "markdown",
   "metadata": {},
   "source": [
    "- 60 APs in training x 10000times\n",
    "- 5 APs in validation x 4 times\n",
    "- 3 APs in test x 4 times\n",
    "- Batch size = 4"
   ]
  },
  {
   "cell_type": "code",
   "execution_count": null,
   "metadata": {},
   "outputs": [],
   "source": [
    "seed = 8787\n",
    "same_seeds(seed)\n",
    "\n",
    "model = GraphSAGE(in_dim=50, hidden_dim=16, out_dim=167)\n",
    "# in_dim means the dimension of the node_feat(50 dim, since the 50-dim embedding)\n",
    "# out_dim means the # of the categories -> 168 for out tasks\n",
    "model.load_state_dict(torch.load('model3_initial(graphsage)/initial_weight.pth'))\n",
    "\n",
    "model = model.to(device)\n",
    "\n",
    "optimizer = torch.optim.AdamW(model.parameters(), lr=1e-5)\n",
    "# scheduler = get_linear_schedule_with_warmup(optimizer, num_warmup_steps=100, num_training_steps=total_steps)\n",
    "\n",
    "criterion = nn.CrossEntropyLoss()\n",
    "total_steps = 180\n",
    "\n",
    "# save the best model\n",
    "best_val_loss = float('inf')\n",
    "patience = 10  # Number of epochs with no improvement after which training will be stopped.\n",
    "waiting = 0  # The number of epochs with no improvement so far.\n",
    "\n",
    "\n",
    "# Training Part\n",
    "for epoch in tqdm(range(total_steps)):\n",
    "    # Train\n",
    "    model.train()\n",
    "    total_loss = 0.0\n",
    "    total_accuracy = 0.0\n",
    "    num_batches = 0\n",
    "    \n",
    "    count = 0 \n",
    "    \n",
    "    for data in tqdm(dataloaders['train'], desc=\"Training\", position=0, leave=True):\n",
    "        \n",
    "        count += 1\n",
    "        loss, accuracy, _ = model_fn(data, model, criterion, device, count, type='train')\n",
    "        \n",
    "        optimizer.zero_grad()\n",
    "        loss.backward()\n",
    "        optimizer.step()\n",
    "\n",
    "        total_loss += loss.item()\n",
    "        total_accuracy += accuracy.item()\n",
    "        num_batches += 1\n",
    "        \n",
    "#     scheduler.step()\n",
    "    add_log_msg(f\"total count: {count}\")\n",
    "\n",
    "    avg_loss = total_loss / num_batches\n",
    "    avg_accuracy = total_accuracy / num_batches\n",
    "\n",
    "    add_log_msg(f'Epoch {epoch} | Train Loss: {avg_loss:.4f} | Train Accuracy: {avg_accuracy:.4f}')\n",
    "\n",
    "    \n",
    "    # Validation Part\n",
    "    model.eval()\n",
    "    total_accuracy = 0.0\n",
    "    total_loss = 0.0\n",
    "    num_batches = 0\n",
    "\n",
    "    with torch.no_grad():\n",
    "        for batched_g in dataloaders['valid']:\n",
    "            loss, accuracy, _ = model_fn(batched_g, model, criterion, device, type=='validation')\n",
    "            total_accuracy += accuracy.item()\n",
    "            total_loss += loss.item()\n",
    "            num_batches += 1\n",
    "\n",
    "    avg_accuracy = total_accuracy / num_batches\n",
    "    current_loss = total_loss / num_batches\n",
    "    \n",
    "    add_log_msg(f'Validation Loss: {current_loss:.4f} | Validation Accuracy: {avg_accuracy:.4f}\\n')\n",
    "    \n",
    "    \n",
    "    if current_loss < best_val_loss:\n",
    "        best_val_loss = current_loss\n",
    "        waiting = 0\n",
    "        \n",
    "#         torch.save(model.state_dict(), 'best_model.pth')\n",
    "        torch.save({\n",
    "                'epoch': epoch,\n",
    "                'model_state_dict': model.state_dict(),\n",
    "                'optimizer_state_dict': optimizer.state_dict(),\n",
    "                'loss': loss,\n",
    "                }, f\"../checkpoint_GAT/best_model_{epoch}.pt\")\n",
    "    \n",
    "    else:\n",
    "        waiting += 1\n",
    "        if waiting >= patience:\n",
    "            add_log_msg(\"Early stopping\")\n",
    "            break\n",
    "\n",
    "            \n",
    "# Testing Part\n",
    "model.eval()\n",
    "total = 0\n",
    "correct = 0\n",
    "\n",
    "with torch.no_grad():\n",
    "    for data in dataloaders['test']:\n",
    "        loss, accuracy, predicted = model_fn(data, model, criterion, device, type=='test')\n",
    "        labels = data[1].to(device)  # Assuming labels are the second element in the tuple\n",
    "        \n",
    "        add_log_msg(f\"labels: {labels} {labels.shape}\")\n",
    "        add_log_msg(f\"predicted: {predicted} {predicted.shape}\")\n",
    "        \n",
    "        total += labels.size(0) # label.size(0) is the batch size\n",
    "        correct += (predicted == labels).sum().item() \n",
    "        # (predicted == labels).sum() would return how many of them are equal; \n",
    "        # .item() would make the tensor to the regular value\n",
    "        \n",
    "#     print('Test Accuracy: %d %%' % (100 * correct / total))\n",
    "add_log_msg(f'Test Accuracy: {100 * correct / total} %%')"
   ]
  },
  {
   "cell_type": "code",
   "execution_count": null,
   "metadata": {},
   "outputs": [],
   "source": []
  },
  {
   "cell_type": "code",
   "execution_count": null,
   "metadata": {},
   "outputs": [],
   "source": []
  },
  {
   "cell_type": "code",
   "execution_count": null,
   "metadata": {},
   "outputs": [],
   "source": []
  }
 ],
 "metadata": {
  "kernelspec": {
   "display_name": "Python 3",
   "language": "python",
   "name": "python3"
  },
  "language_info": {
   "codemirror_mode": {
    "name": "ipython",
    "version": 3
   },
   "file_extension": ".py",
   "mimetype": "text/x-python",
   "name": "python",
   "nbconvert_exporter": "python",
   "pygments_lexer": "ipython3",
   "version": "3.6.9"
  }
 },
 "nbformat": 4,
 "nbformat_minor": 2
}
