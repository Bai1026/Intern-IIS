{
 "cells": [
  {
   "cell_type": "markdown",
   "metadata": {},
   "source": [
    "# Test of GraphSAGE\n",
    "- use DGL\n",
    "- predict `graphs`\n",
    "- valid, test data are in the training dataset"
   ]
  },
  {
   "cell_type": "code",
   "execution_count": 1,
   "metadata": {},
   "outputs": [],
   "source": [
    "import os\n",
    "import dgl\n",
    "import json\n",
    "import torch\n",
    "import torch as th\n",
    "import dgl.nn as dglnn\n",
    "# from tqdm import tqdm\n",
    "from tqdm.notebook import tqdm  # 使用 notebook 版本的 tqdm\n",
    "import torch.nn as nn\n",
    "from dgl.nn import GraphConv, GATConv, SAGEConv\n",
    "import torch.nn.functional as F\n",
    "from torch.utils.data import Dataset, DataLoader\n",
    "from transformers import get_linear_schedule_with_warmup"
   ]
  },
  {
   "cell_type": "markdown",
   "metadata": {},
   "source": [
    "- check the GPU and assign the GPU by the best memory usage"
   ]
  },
  {
   "cell_type": "code",
   "execution_count": 2,
   "metadata": {},
   "outputs": [
    {
     "name": "stdout",
     "output_type": "stream",
     "text": [
      "cuda:0\n"
     ]
    }
   ],
   "source": [
    "import subprocess\n",
    "import torch\n",
    "\n",
    "def get_free_gpu():\n",
    "    try:\n",
    "        # Run nvidia-smi command to get GPU details\n",
    "        _output_to_list = lambda x: x.decode('ascii').split('\\n')[:-1]\n",
    "        command = \"nvidia-smi --query-gpu=memory.free --format=csv,nounits,noheader\"\n",
    "        memory_free_info = _output_to_list(subprocess.check_output(command.split())) \n",
    "        memory_free_values = [int(x) for i, x in enumerate(memory_free_info)]\n",
    "        \n",
    "        # Get the GPU with the maximum free memory\n",
    "        best_gpu_id = memory_free_values.index(max(memory_free_values))\n",
    "        return best_gpu_id\n",
    "    except:\n",
    "        # If any exception occurs, default to GPU 0 (this handles cases where nvidia-smi isn't installed)\n",
    "        return 0\n",
    "\n",
    "if torch.cuda.is_available():\n",
    "    # Get the best GPU ID based on free memory and set it\n",
    "    best_gpu_id = get_free_gpu()\n",
    "    device = torch.device(f\"cuda:{best_gpu_id}\")\n",
    "else:\n",
    "    device = torch.device(\"cpu\")\n",
    "    print(\"there's no available GPU\")\n",
    "\n",
    "# device = torch.device(f\"cuda:{1}\")\n",
    "print(device)\n"
   ]
  },
  {
   "cell_type": "markdown",
   "metadata": {},
   "source": [
    "## Fix the seed"
   ]
  },
  {
   "cell_type": "code",
   "execution_count": 3,
   "metadata": {},
   "outputs": [],
   "source": [
    "import numpy as np\n",
    "import torch\n",
    "import random\n",
    "\n",
    "#fix seed\n",
    "def same_seeds(seed = 8787):\n",
    "    torch.manual_seed(seed)\n",
    "    # random.seed(seed) \n",
    "    if torch.cuda.is_available():\n",
    "        torch.cuda.manual_seed(seed)\n",
    "        torch.cuda.manual_seed_all(seed)  \n",
    "    np.random.seed(seed)  \n",
    "    torch.backends.cudnn.benchmark = False\n",
    "    torch.backends.cudnn.deterministic = True"
   ]
  },
  {
   "cell_type": "markdown",
   "metadata": {},
   "source": [
    "## Data Loader"
   ]
  },
  {
   "cell_type": "code",
   "execution_count": 4,
   "metadata": {},
   "outputs": [],
   "source": [
    "class GraphDataset(Dataset):\n",
    "    def __init__(self, data_list, device):\n",
    "        self.data_list = data_list\n",
    "        self.device = device\n",
    "\n",
    "    def __len__(self):\n",
    "        return len(self.data_list)\n",
    "    \n",
    "    def __getitem__(self, idx):\n",
    "        data = self.data_list[idx]\n",
    "\n",
    "        g = dgl.graph((th.tensor(data[\"edge_index\"][0]), th.tensor(data[\"edge_index\"][1])), num_nodes=data[\"num_nodes\"]).to(self.device)\n",
    "\n",
    "        g.ndata['feat'] = th.tensor(data[\"node_feat\"]).to(self.device)\n",
    "        g.edata['feat'] = th.tensor(data[\"edge_attr\"]).to(self.device)  # Add edge features to graph\n",
    "\n",
    "        return g, th.tensor(data[\"label\"]).to(self.device)\n",
    "\n",
    "\n",
    "def collate(samples):\n",
    "    # The input `samples` is a list of pairs\n",
    "    #  (graph, label).\n",
    "    graphs, labels = map(list, zip(*samples))\n",
    "    batched_graph = dgl.batch(graphs)\n",
    "    return batched_graph, torch.tensor(labels)\n"
   ]
  },
  {
   "cell_type": "code",
   "execution_count": 5,
   "metadata": {},
   "outputs": [
    {
     "data": {
      "application/vnd.jupyter.widget-view+json": {
       "model_id": "176794dd7db04aadac73eaecac089227",
       "version_major": 2,
       "version_minor": 0
      },
      "text/plain": [
       "  0%|          | 0/3 [00:00<?, ?it/s]"
      ]
     },
     "metadata": {},
     "output_type": "display_data"
    },
    {
     "name": "stdout",
     "output_type": "stream",
     "text": [
      "../../data_processing/dgl/data_new/exp1-2/training_data/exp_1/transH_150/train.jsonl\n"
     ]
    },
    {
     "data": {
      "application/vnd.jupyter.widget-view+json": {
       "model_id": "a106a61b88d145268629f5eb09f483c7",
       "version_major": 2,
       "version_minor": 0
      },
      "text/plain": [
       "0it [00:00, ?it/s]"
      ]
     },
     "metadata": {},
     "output_type": "display_data"
    },
    {
     "name": "stdout",
     "output_type": "stream",
     "text": [
      "../../data_processing/dgl/data_new/exp1-2/training_data/exp_1/transH_150/valid.jsonl\n"
     ]
    },
    {
     "data": {
      "application/vnd.jupyter.widget-view+json": {
       "model_id": "ce840d4b02fd4baf90539046c6a94813",
       "version_major": 2,
       "version_minor": 0
      },
      "text/plain": [
       "0it [00:00, ?it/s]"
      ]
     },
     "metadata": {},
     "output_type": "display_data"
    },
    {
     "name": "stdout",
     "output_type": "stream",
     "text": [
      "../../data_processing/dgl/data_new/exp1-2/training_data/exp_1/transH_150/test.jsonl\n"
     ]
    },
    {
     "data": {
      "application/vnd.jupyter.widget-view+json": {
       "model_id": "a0e3a1d6c3c54acc9a16d5a942a6418d",
       "version_major": 2,
       "version_minor": 0
      },
      "text/plain": [
       "0it [00:00, ?it/s]"
      ]
     },
     "metadata": {},
     "output_type": "display_data"
    },
    {
     "name": "stdout",
     "output_type": "stream",
     "text": [
      "Datasets loaded!\n"
     ]
    }
   ],
   "source": [
    "datasets = ['train', 'valid', 'test']\n",
    "dataset_data = {}\n",
    "\n",
    "for dataset_name in tqdm(datasets):\n",
    "    file_path = f\"../../data_processing/dgl/data_new/exp1-2/training_data/exp_1/transH_150/{dataset_name}.jsonl\"\n",
    "    \n",
    "    print(file_path)\n",
    "    with open(file_path) as f:\n",
    "        data_list = [json.loads(line) for line in tqdm(f, position=0, leave=True)]\n",
    "    \n",
    "    dataset_data[dataset_name] = GraphDataset(data_list, device)\n",
    "\n",
    "print(\"Datasets loaded!\")"
   ]
  },
  {
   "cell_type": "markdown",
   "metadata": {},
   "source": [
    "- choose batch size"
   ]
  },
  {
   "cell_type": "code",
   "execution_count": 6,
   "metadata": {},
   "outputs": [],
   "source": [
    "def create_dataloaders(batch_size, shuffle=True):\n",
    "    dataloaders = {}\n",
    "    for dataset_name, dataset in dataset_data.items():\n",
    "        # do not shuffle the testing dataset\n",
    "        if dataset_name == \"test\":\n",
    "            dataloaders[dataset_name] = DataLoader(dataset, batch_size=batch_size, shuffle=False, collate_fn=collate)    \n",
    "        else:\n",
    "            dataloaders[dataset_name] = DataLoader(dataset, batch_size=batch_size, shuffle=shuffle, collate_fn=collate)\n",
    "    return dataloaders\n",
    "\n",
    "# dataloaders = create_dataloaders(4)\n",
    "dataloaders = create_dataloaders(16)"
   ]
  },
  {
   "cell_type": "markdown",
   "metadata": {},
   "source": [
    "- Turn the print message to a log file"
   ]
  },
  {
   "cell_type": "code",
   "execution_count": 7,
   "metadata": {},
   "outputs": [
    {
     "name": "stdout",
     "output_type": "stream",
     "text": [
      "../log_message/0911_20:09_GraphSAGE_transH_150.log\n"
     ]
    }
   ],
   "source": [
    "import datetime\n",
    "\n",
    "now = datetime.datetime.now()\n",
    "\n",
    "formatted_time = now.strftime(\"%m%d_%H:%M\")\n",
    "\n",
    "log_file_path = f\"../log_message/{formatted_time}_GraphSAGE_transH_150.log\"\n",
    "\n",
    "def add_log_msg(msg, log_file_path=log_file_path):\n",
    "    with open(log_file_path, 'a') as f:\n",
    "        f.write(f'{datetime.datetime.now().strftime(\"%m/%d/%Y, %H:%M:%S\")}# {msg}\\n')\n",
    "    print(f'{datetime.datetime.now().strftime(\"%m/%d/%Y, %H:%M:%S\")}# {msg}')\n",
    "\n",
    "print(log_file_path)"
   ]
  },
  {
   "cell_type": "markdown",
   "metadata": {},
   "source": [
    "### Model"
   ]
  },
  {
   "cell_type": "code",
   "execution_count": 8,
   "metadata": {},
   "outputs": [],
   "source": [
    "class GraphSAGE(nn.Module):\n",
    "    def __init__(self, in_dim, hidden_dim, out_dim):\n",
    "        super(GraphSAGE, self).__init__()\n",
    "        self.layer1 = dglnn.SAGEConv(in_dim, hidden_dim, 'mean')\n",
    "        self.layer2 = dglnn.SAGEConv(hidden_dim, out_dim, 'mean')  # Output layer\n",
    "\n",
    "    def forward(self, g, inputs):\n",
    "        h = self.layer1(g, inputs)\n",
    "        h = torch.relu(h)\n",
    "        h = self.layer2(g, h)  # You can apply another non-linearity here if needed\n",
    "        \n",
    "        g.ndata['h'] = h\n",
    "        hg = dgl.mean_nodes(g, 'h')\n",
    "        return hg\n"
   ]
  },
  {
   "cell_type": "markdown",
   "metadata": {},
   "source": [
    "- Model Forward  "
   ]
  },
  {
   "cell_type": "code",
   "execution_count": 9,
   "metadata": {},
   "outputs": [],
   "source": [
    "def model_fn(data, model, criterion, device, count=1, which_type='train'):\n",
    "    \"\"\"Forward a batch through the model.\"\"\"\n",
    "    batched_g, labels = data\n",
    "    batched_g = batched_g.to(device)\n",
    "    \n",
    "    labels = labels.to(device)\n",
    "#     labels = labels.float()\n",
    "\n",
    "    logits = model(batched_g, batched_g.ndata['feat'].float()) # for GAT\n",
    "#     logits = logits.mean(dim=1)\n",
    "#     print(labels)\n",
    "#     print(labels.shape)\n",
    "#     print(logits)\n",
    "#     print(logits.shape)\n",
    "\n",
    "    \n",
    "    loss = criterion(logits, labels)\n",
    "\n",
    "    # Get the class id with the highest probability\n",
    "    preds = logits.argmax(1) # for GAT\n",
    "#     print(preds)\n",
    "#     preds = logits.argmax() # for graphSAGE\n",
    "    \n",
    "    '''\n",
    "    问题出在GAT和GraphSAGE模型的输出形状上。\n",
    "    在你的 GAT 模型中，最后一层的输出是一个一维的张量，因此 logits 是一个形状为 (batch_size,) 的张量。这是因为 GAT 模型最后一层的输出被处理成了一个节点的预测，而不是整个图的预测。\n",
    "    在 GraphSAGE 模型中，最后一层的输出形状是 (num_nodes, out_dim)，也就是说，它返回了整个图的节点级别的预测。因此，logits 是一个二维的张量，形状为 (num_nodes, out_dim)。\n",
    "    当你尝试在一个一维张量上调用 logits.argmax(1) 时，会产生维度错误，因为它期望一个二维张量来执行操作。\n",
    "    所以，在 GraphSAGE 模型中，你应该将以下行：\n",
    "    '''\n",
    "    \n",
    "    \n",
    "    # Compute accuracy\n",
    "    accuracy = torch.mean((preds == labels).float())\n",
    "    \n",
    "    if which_type == 'validation' and count % 1000 == 0:\n",
    "        add_log_msg(f\"labels of Validation: {labels} {labels.shape}\")\n",
    "        add_log_msg(f\"predicted of Validation: {preds} {preds.shape}\")\n",
    "        \n",
    "    elif which_type == 'test'  and count % 1000 == 0:\n",
    "        add_log_msg(f\"labels of Test: {labels} {labels.shape}\")\n",
    "        add_log_msg(f\"predicted of Test: {preds} {preds.shape}\")\n",
    "        \n",
    "    if count % 5000 == 0: \n",
    "        add_log_msg(f\"labels of {count}: {labels} {labels.shape}\")\n",
    "        add_log_msg(f\"predicted of {count}: {preds} {preds.shape}\")\n",
    "        \n",
    "    return loss, accuracy, preds"
   ]
  },
  {
   "cell_type": "code",
   "execution_count": null,
   "metadata": {},
   "outputs": [],
   "source": []
  },
  {
   "cell_type": "markdown",
   "metadata": {},
   "source": [
    "### Training"
   ]
  },
  {
   "cell_type": "markdown",
   "metadata": {},
   "source": [
    "- Fix the seed and save the model.state_dict that contains the initial weight"
   ]
  },
  {
   "cell_type": "code",
   "execution_count": 10,
   "metadata": {},
   "outputs": [],
   "source": [
    "seed = 8787\n",
    "same_seeds(seed)\n",
    "\n",
    "model = GraphSAGE(in_dim=150, hidden_dim=16, out_dim=167)\n",
    "torch.save(model.state_dict(), 'model3_initial(graphsage)/initial_weight.pth')"
   ]
  },
  {
   "cell_type": "code",
   "execution_count": 11,
   "metadata": {},
   "outputs": [
    {
     "data": {
      "text/plain": [
       "Parameter containing:\n",
       "tensor([[ 0.0830, -0.1682, -0.0041,  ..., -0.0299, -0.0471,  0.2389],\n",
       "        [-0.1693, -0.1562, -0.1144,  ..., -0.0757,  0.2199,  0.2198],\n",
       "        [ 0.1249, -0.1492, -0.2611,  ..., -0.2249, -0.0689, -0.1858],\n",
       "        ...,\n",
       "        [-0.2456,  0.2318,  0.0255,  ..., -0.0146,  0.0506,  0.0634],\n",
       "        [ 0.0623, -0.2388,  0.0710,  ...,  0.1001, -0.1990, -0.0524],\n",
       "        [ 0.0107, -0.2428, -0.1743,  ..., -0.2333,  0.0951, -0.1517]],\n",
       "       requires_grad=True)"
      ]
     },
     "execution_count": 11,
     "metadata": {},
     "output_type": "execute_result"
    }
   ],
   "source": [
    "model.layer1.fc_self.weight"
   ]
  },
  {
   "cell_type": "markdown",
   "metadata": {},
   "source": [
    "- Check if model really load the model_dict"
   ]
  },
  {
   "cell_type": "code",
   "execution_count": 12,
   "metadata": {},
   "outputs": [
    {
     "data": {
      "text/plain": [
       "Parameter containing:\n",
       "tensor([[ 0.0830, -0.1682, -0.0041,  ..., -0.0299, -0.0471,  0.2389],\n",
       "        [-0.1693, -0.1562, -0.1144,  ..., -0.0757,  0.2199,  0.2198],\n",
       "        [ 0.1249, -0.1492, -0.2611,  ..., -0.2249, -0.0689, -0.1858],\n",
       "        ...,\n",
       "        [-0.2456,  0.2318,  0.0255,  ..., -0.0146,  0.0506,  0.0634],\n",
       "        [ 0.0623, -0.2388,  0.0710,  ...,  0.1001, -0.1990, -0.0524],\n",
       "        [ 0.0107, -0.2428, -0.1743,  ..., -0.2333,  0.0951, -0.1517]],\n",
       "       requires_grad=True)"
      ]
     },
     "execution_count": 12,
     "metadata": {},
     "output_type": "execute_result"
    }
   ],
   "source": [
    "model = GraphSAGE(in_dim=150, hidden_dim=16, out_dim=167)\n",
    "model.load_state_dict(torch.load('model3_initial(graphsage)/initial_weight.pth'))\n",
    "model.layer1.fc_self.weight"
   ]
  },
  {
   "cell_type": "code",
   "execution_count": 13,
   "metadata": {
    "scrolled": true
   },
   "outputs": [
    {
     "data": {
      "application/vnd.jupyter.widget-view+json": {
       "model_id": "88a9738fc7c2420e84ada335ea943f4b",
       "version_major": 2,
       "version_minor": 0
      },
      "text/plain": [
       "  0%|          | 0/10 [00:00<?, ?it/s]"
      ]
     },
     "metadata": {},
     "output_type": "display_data"
    },
    {
     "data": {
      "application/vnd.jupyter.widget-view+json": {
       "model_id": "213bb1f19dab46d8afc38e40ae74709f",
       "version_major": 2,
       "version_minor": 0
      },
      "text/plain": [
       "Training:   0%|          | 0/8250 [00:00<?, ?it/s]"
      ]
     },
     "metadata": {},
     "output_type": "display_data"
    },
    {
     "name": "stdout",
     "output_type": "stream",
     "text": [
      "09/11/2023, 20:12:34# labels of 5000: tensor([ 56,  78, 115,  11, 101, 110, 127,  12, 131,  74,  64,   9, 114,  78,\n",
      "         34, 140], device='cuda:0') torch.Size([16])\n",
      "09/11/2023, 20:12:34# predicted of 5000: tensor([ 56,  78, 115, 121, 101,  91, 159,  33,  91, 116,  91,  33,  91,  78,\n",
      "        143, 140], device='cuda:0') torch.Size([16])\n",
      "09/11/2023, 20:14:34# total batches: 8250\n",
      "09/11/2023, 20:14:34# Epoch 0 | Train Loss: 4.0392 | Train Accuracy: 0.3301\n"
     ]
    },
    {
     "data": {
      "application/vnd.jupyter.widget-view+json": {
       "model_id": "fd9153381b634cbe9e2f396a959ef77e",
       "version_major": 2,
       "version_minor": 0
      },
      "text/plain": [
       "Validation:   0%|          | 0/1032 [00:00<?, ?it/s]"
      ]
     },
     "metadata": {},
     "output_type": "display_data"
    },
    {
     "name": "stdout",
     "output_type": "stream",
     "text": [
      "09/11/2023, 20:14:34# labels of Validation: tensor([163,   8,  21,  18,  52,  38, 138, 166,  97, 133, 105, 155, 107, 102,\n",
      "        122,  63], device='cuda:0') torch.Size([16])\n",
      "09/11/2023, 20:14:34# predicted of Validation: tensor([ 87, 113,  21, 162,  52,  87, 138, 166, 162, 133, 105, 155, 107, 102,\n",
      "        122,  63], device='cuda:0') torch.Size([16])\n",
      "09/11/2023, 20:14:34# labels of 0: tensor([163,   8,  21,  18,  52,  38, 138, 166,  97, 133, 105, 155, 107, 102,\n",
      "        122,  63], device='cuda:0') torch.Size([16])\n",
      "09/11/2023, 20:14:34# predicted of 0: tensor([ 87, 113,  21, 162,  52,  87, 138, 166, 162, 133, 105, 155, 107, 102,\n",
      "        122,  63], device='cuda:0') torch.Size([16])\n",
      "09/11/2023, 20:15:07# labels of Validation: tensor([101,  93,  55,  88,  58,  54, 126,   4,  58,   3,  10,  21, 117,  87,\n",
      "        125, 100], device='cuda:0') torch.Size([16])\n",
      "09/11/2023, 20:15:07# predicted of Validation: tensor([101, 113, 162, 131,  58,  87, 126, 162,  58,   3,  10,  21, 117, 162,\n",
      "        162, 100], device='cuda:0') torch.Size([16])\n",
      "09/11/2023, 20:15:08# Validation Loss: 2.8423 | Validation Accuracy: 0.5600\n",
      "\n",
      "09/11/2023, 20:15:08# Find a better model!!\n"
     ]
    },
    {
     "data": {
      "application/vnd.jupyter.widget-view+json": {
       "model_id": "4a494d792a7a442099f3b3a5d8ba7228",
       "version_major": 2,
       "version_minor": 0
      },
      "text/plain": [
       "Training:   0%|          | 0/8250 [00:00<?, ?it/s]"
      ]
     },
     "metadata": {},
     "output_type": "display_data"
    },
    {
     "name": "stdout",
     "output_type": "stream",
     "text": [
      "09/11/2023, 20:18:24# labels of 5000: tensor([100,  94, 111,  93,   9,  16, 121, 158,  33, 123,  26, 153,  12,   2,\n",
      "        145,  12], device='cuda:0') torch.Size([16])\n",
      "09/11/2023, 20:18:24# predicted of 5000: tensor([100,  94,  47,  59, 144,  16, 144,  47,  55, 123,  26, 153, 144, 144,\n",
      "        145, 144], device='cuda:0') torch.Size([16])\n",
      "09/11/2023, 20:20:29# total batches: 8250\n",
      "09/11/2023, 20:20:29# Epoch 1 | Train Loss: 2.2952 | Train Accuracy: 0.5809\n"
     ]
    },
    {
     "data": {
      "application/vnd.jupyter.widget-view+json": {
       "model_id": "07459bcba38d4d0c81f1a28932592b53",
       "version_major": 2,
       "version_minor": 0
      },
      "text/plain": [
       "Validation:   0%|          | 0/1032 [00:00<?, ?it/s]"
      ]
     },
     "metadata": {},
     "output_type": "display_data"
    },
    {
     "name": "stdout",
     "output_type": "stream",
     "text": [
      "09/11/2023, 20:20:29# labels of Validation: tensor([130, 121,  61, 124,  30,  90,  28, 141,  89, 146,  93, 110, 143, 163,\n",
      "        124,  99], device='cuda:0') torch.Size([16])\n",
      "09/11/2023, 20:20:29# predicted of Validation: tensor([130,  74,  61,  12, 104, 110,  28, 141,  89, 146, 108,  90, 104, 104,\n",
      "        104,  99], device='cuda:0') torch.Size([16])\n",
      "09/11/2023, 20:20:29# labels of 0: tensor([130, 121,  61, 124,  30,  90,  28, 141,  89, 146,  93, 110, 143, 163,\n",
      "        124,  99], device='cuda:0') torch.Size([16])\n",
      "09/11/2023, 20:20:29# predicted of 0: tensor([130,  74,  61,  12, 104, 110,  28, 141,  89, 146, 108,  90, 104, 104,\n",
      "        104,  99], device='cuda:0') torch.Size([16])\n",
      "09/11/2023, 20:21:03# labels of Validation: tensor([ 74,  25,  59, 140,  42,  43, 137, 157, 156,  32, 150,  52, 128, 119,\n",
      "         34,  91], device='cuda:0') torch.Size([16])\n",
      "09/11/2023, 20:21:03# predicted of Validation: tensor([ 12,  25, 131, 140, 104,  43, 137, 104, 156,  32, 164,  52, 128,  12,\n",
      "        104, 131], device='cuda:0') torch.Size([16])\n",
      "09/11/2023, 20:21:04# Validation Loss: 1.9335 | Validation Accuracy: 0.5948\n",
      "\n",
      "09/11/2023, 20:21:04# Find a better model!!\n"
     ]
    },
    {
     "data": {
      "application/vnd.jupyter.widget-view+json": {
       "model_id": "0c2628a2c6df4ec7927ea7848cdbea87",
       "version_major": 2,
       "version_minor": 0
      },
      "text/plain": [
       "Training:   0%|          | 0/8250 [00:00<?, ?it/s]"
      ]
     },
     "metadata": {},
     "output_type": "display_data"
    },
    {
     "name": "stdout",
     "output_type": "stream",
     "text": [
      "09/11/2023, 20:24:13# labels of 5000: tensor([ 72,  94, 157, 132,  10,  35,  40,  64,  98, 150,  70,  90,  69, 136,\n",
      "          0,  44], device='cuda:0') torch.Size([16])\n",
      "09/11/2023, 20:24:13# predicted of 5000: tensor([ 72,  94,  24, 132,  10,  35,  40, 103,  98,  24,  70, 103,  69, 136,\n",
      "          0,  24], device='cuda:0') torch.Size([16])\n",
      "09/11/2023, 20:26:17# total batches: 8250\n",
      "09/11/2023, 20:26:17# Epoch 2 | Train Loss: 1.7746 | Train Accuracy: 0.6008\n"
     ]
    },
    {
     "data": {
      "application/vnd.jupyter.widget-view+json": {
       "model_id": "ccace066277f46169dc0df1c86b6cd5b",
       "version_major": 2,
       "version_minor": 0
      },
      "text/plain": [
       "Validation:   0%|          | 0/1032 [00:00<?, ?it/s]"
      ]
     },
     "metadata": {},
     "output_type": "display_data"
    },
    {
     "name": "stdout",
     "output_type": "stream",
     "text": [
      "09/11/2023, 20:26:17# labels of Validation: tensor([ 36,  61, 161,  29, 144,  17, 155,  59,   6,   2, 163,  51,  94, 141,\n",
      "        105, 135], device='cuda:0') torch.Size([16])\n",
      "09/11/2023, 20:26:17# predicted of Validation: tensor([ 11,  61, 161,  29,  11,  17, 155, 131,   6,  31,  12,  51,  94, 141,\n",
      "        105, 135], device='cuda:0') torch.Size([16])\n",
      "09/11/2023, 20:26:17# labels of 0: tensor([ 36,  61, 161,  29, 144,  17, 155,  59,   6,   2, 163,  51,  94, 141,\n",
      "        105, 135], device='cuda:0') torch.Size([16])\n",
      "09/11/2023, 20:26:17# predicted of 0: tensor([ 11,  61, 161,  29,  11,  17, 155, 131,   6,  31,  12,  51,  94, 141,\n",
      "        105, 135], device='cuda:0') torch.Size([16])\n",
      "09/11/2023, 20:26:50# labels of Validation: tensor([ 33, 114,  33, 120,  10, 149,  64,  88, 142,   4, 144,  85,  48,   5,\n",
      "        157, 106], device='cuda:0') torch.Size([16])\n",
      "09/11/2023, 20:26:50# predicted of Validation: tensor([ 11,  91,  11, 120,  10, 149,  93,  91,  11,  12,  97,  85,  11,   5,\n",
      "         11, 106], device='cuda:0') torch.Size([16])\n",
      "09/11/2023, 20:26:51# Validation Loss: 1.6649 | Validation Accuracy: 0.6023\n",
      "\n",
      "09/11/2023, 20:26:51# Find a better model!!\n"
     ]
    },
    {
     "data": {
      "application/vnd.jupyter.widget-view+json": {
       "model_id": "9654c8f109cb4c989679e2835b3c47d7",
       "version_major": 2,
       "version_minor": 0
      },
      "text/plain": [
       "Training:   0%|          | 0/8250 [00:00<?, ?it/s]"
      ]
     },
     "metadata": {},
     "output_type": "display_data"
    },
    {
     "name": "stdout",
     "output_type": "stream",
     "text": [
      "09/11/2023, 20:30:03# labels of 5000: tensor([113, 135,  52,  58,  16,  18,  39,   8,  95,  62,  19,  66,  44, 166,\n",
      "        166,  10], device='cuda:0') torch.Size([16])\n",
      "09/11/2023, 20:30:03# predicted of 5000: tensor([113, 135,  52,  58,  16,  83,  39, 113,  95,  62,  19,  66,  24, 166,\n",
      "        166,  10], device='cuda:0') torch.Size([16])\n",
      "09/11/2023, 20:32:06# total batches: 8250\n",
      "09/11/2023, 20:32:06# Epoch 3 | Train Loss: 1.6146 | Train Accuracy: 0.6036\n"
     ]
    },
    {
     "data": {
      "application/vnd.jupyter.widget-view+json": {
       "model_id": "efd7ab6e56b64ad2ae4e110dca66fb3d",
       "version_major": 2,
       "version_minor": 0
      },
      "text/plain": [
       "Validation:   0%|          | 0/1032 [00:00<?, ?it/s]"
      ]
     },
     "metadata": {},
     "output_type": "display_data"
    },
    {
     "name": "stdout",
     "output_type": "stream",
     "text": [
      "09/11/2023, 20:32:06# labels of Validation: tensor([ 20, 118, 161, 142, 161, 130, 107,  45, 129,  15, 109, 166, 145,  83,\n",
      "         56,  32], device='cuda:0') torch.Size([16])\n",
      "09/11/2023, 20:32:06# predicted of Validation: tensor([ 20, 118, 161,   1, 161, 130, 107,  45, 129,  15,   1, 166, 145,   1,\n",
      "         56,  32], device='cuda:0') torch.Size([16])\n",
      "09/11/2023, 20:32:06# labels of 0: tensor([ 20, 118, 161, 142, 161, 130, 107,  45, 129,  15, 109, 166, 145,  83,\n",
      "         56,  32], device='cuda:0') torch.Size([16])\n",
      "09/11/2023, 20:32:06# predicted of 0: tensor([ 20, 118, 161,   1, 161, 130, 107,  45, 129,  15,   1, 166, 145,   1,\n",
      "         56,  32], device='cuda:0') torch.Size([16])\n",
      "09/11/2023, 20:32:39# labels of Validation: tensor([111, 121,  79,   2, 133,  41,  79,  55,  83, 102,  86, 160,  60,  57,\n",
      "          1, 102], device='cuda:0') torch.Size([16])\n",
      "09/11/2023, 20:32:39# predicted of Validation: tensor([  1,   1,  72,   1, 133,  41,  79,   1,   1, 102,  86, 160,   1,   1,\n",
      "         81, 102], device='cuda:0') torch.Size([16])\n",
      "09/11/2023, 20:32:40# Validation Loss: 1.5826 | Validation Accuracy: 0.6031\n",
      "\n",
      "09/11/2023, 20:32:40# Find a better model!!\n"
     ]
    },
    {
     "data": {
      "application/vnd.jupyter.widget-view+json": {
       "model_id": "e3b25f1787364808ba7c627aa20a131b",
       "version_major": 2,
       "version_minor": 0
      },
      "text/plain": [
       "Training:   0%|          | 0/8250 [00:00<?, ?it/s]"
      ]
     },
     "metadata": {},
     "output_type": "display_data"
    },
    {
     "name": "stdout",
     "output_type": "stream",
     "text": [
      "09/11/2023, 20:35:50# labels of 5000: tensor([ 94, 112, 117,  17,  79, 104,  12, 133, 117, 101,  19,  45, 166, 110,\n",
      "         92, 144], device='cuda:0') torch.Size([16])\n",
      "09/11/2023, 20:35:50# predicted of 5000: tensor([ 94,  92, 117,  17,  79,  92,  92, 133, 117, 101,  19,  45, 166,  88,\n",
      "         92,  92], device='cuda:0') torch.Size([16])\n",
      "09/11/2023, 20:37:54# total batches: 8250\n",
      "09/11/2023, 20:37:54# Epoch 4 | Train Loss: 1.5610 | Train Accuracy: 0.6059\n"
     ]
    },
    {
     "data": {
      "application/vnd.jupyter.widget-view+json": {
       "model_id": "e31e5803f304472d9e5974e874be4352",
       "version_major": 2,
       "version_minor": 0
      },
      "text/plain": [
       "Validation:   0%|          | 0/1032 [00:00<?, ?it/s]"
      ]
     },
     "metadata": {},
     "output_type": "display_data"
    },
    {
     "name": "stdout",
     "output_type": "stream",
     "text": [
      "09/11/2023, 20:37:54# labels of Validation: tensor([162,  66, 152,   8, 104, 111, 157,  55, 135,  69,  26,   8,  71,  57,\n",
      "         74,  43], device='cuda:0') torch.Size([16])\n",
      "09/11/2023, 20:37:54# predicted of Validation: tensor([ 12,  66,  12, 114,  12, 121,  12,  12, 135,  69,  26, 114,  71,  12,\n",
      "         12,  43], device='cuda:0') torch.Size([16])\n",
      "09/11/2023, 20:37:54# labels of 0: tensor([162,  66, 152,   8, 104, 111, 157,  55, 135,  69,  26,   8,  71,  57,\n",
      "         74,  43], device='cuda:0') torch.Size([16])\n",
      "09/11/2023, 20:37:54# predicted of 0: tensor([ 12,  66,  12, 114,  12, 121,  12,  12, 135,  69,  26, 114,  71,  12,\n",
      "         12,  43], device='cuda:0') torch.Size([16])\n",
      "09/11/2023, 20:38:29# labels of Validation: tensor([ 85, 134, 165,  20,  35,  63, 102, 137, 138,  16, 149, 144,  74,  51,\n",
      "         49, 159], device='cuda:0') torch.Size([16])\n",
      "09/11/2023, 20:38:29# predicted of Validation: tensor([ 85, 134, 165,  20,  35,  63, 102, 137, 138,  16, 149,  12, 121,  51,\n",
      "         12, 159], device='cuda:0') torch.Size([16])\n",
      "09/11/2023, 20:38:30# Validation Loss: 1.5494 | Validation Accuracy: 0.6100\n",
      "\n",
      "09/11/2023, 20:38:30# Find a better model!!\n"
     ]
    },
    {
     "data": {
      "application/vnd.jupyter.widget-view+json": {
       "model_id": "9f47d23b08b24b029fa0187a9f59b536",
       "version_major": 2,
       "version_minor": 0
      },
      "text/plain": [
       "Training:   0%|          | 0/8250 [00:00<?, ?it/s]"
      ]
     },
     "metadata": {},
     "output_type": "display_data"
    },
    {
     "name": "stdout",
     "output_type": "stream",
     "text": [
      "09/11/2023, 20:41:45# labels of 5000: tensor([ 86, 146,  12,   5,  24, 146,  71,  93, 154,  28,  68,   2, 119,  76,\n",
      "         81, 130], device='cuda:0') torch.Size([16])\n",
      "09/11/2023, 20:41:45# predicted of 5000: tensor([ 86, 146,  48,   5,  36, 146,  71, 103, 154,  28, 113, 158,  11,  48,\n",
      "         36, 130], device='cuda:0') torch.Size([16])\n",
      "09/11/2023, 20:43:50# total batches: 8250\n",
      "09/11/2023, 20:43:50# Epoch 5 | Train Loss: 1.5370 | Train Accuracy: 0.6072\n"
     ]
    },
    {
     "data": {
      "application/vnd.jupyter.widget-view+json": {
       "model_id": "1b10a9362b5445418699dd49063829e9",
       "version_major": 2,
       "version_minor": 0
      },
      "text/plain": [
       "Validation:   0%|          | 0/1032 [00:00<?, ?it/s]"
      ]
     },
     "metadata": {},
     "output_type": "display_data"
    },
    {
     "name": "stdout",
     "output_type": "stream",
     "text": [
      "09/11/2023, 20:43:50# labels of Validation: tensor([ 68, 158, 125, 161,  55,  44, 138, 134,  76,  56,  70,  49, 148,  16,\n",
      "         26, 113], device='cuda:0') torch.Size([16])\n",
      "09/11/2023, 20:43:50# predicted of Validation: tensor([ 88,  60, 111, 161,  74,  74, 138, 134,  74,  56,  70,  47, 148,  16,\n",
      "         26,  88], device='cuda:0') torch.Size([16])\n",
      "09/11/2023, 20:43:50# labels of 0: tensor([ 68, 158, 125, 161,  55,  44, 138, 134,  76,  56,  70,  49, 148,  16,\n",
      "         26, 113], device='cuda:0') torch.Size([16])\n",
      "09/11/2023, 20:43:50# predicted of 0: tensor([ 88,  60, 111, 161,  74,  74, 138, 134,  74,  56,  70,  47, 148,  16,\n",
      "         26,  88], device='cuda:0') torch.Size([16])\n",
      "09/11/2023, 20:44:25# labels of Validation: tensor([ 78, 137, 112,  74,  98, 150, 161, 165,  38, 129, 101,  20,  84,  62,\n",
      "         68,  37], device='cuda:0') torch.Size([16])\n",
      "09/11/2023, 20:44:25# predicted of Validation: tensor([ 78, 137, 111,  34,  98, 111, 161, 165, 111, 129, 101,  20,  84,  62,\n",
      "        110,  37], device='cuda:0') torch.Size([16])\n",
      "09/11/2023, 20:44:26# Validation Loss: 1.5252 | Validation Accuracy: 0.6110\n",
      "\n",
      "09/11/2023, 20:44:26# Find a better model!!\n"
     ]
    },
    {
     "data": {
      "application/vnd.jupyter.widget-view+json": {
       "model_id": "77c9c64e6c124df9bbcb17d7ed5ebd3f",
       "version_major": 2,
       "version_minor": 0
      },
      "text/plain": [
       "Training:   0%|          | 0/8250 [00:00<?, ?it/s]"
      ]
     },
     "metadata": {},
     "output_type": "display_data"
    },
    {
     "name": "stdout",
     "output_type": "stream",
     "text": [
      "09/11/2023, 20:47:44# labels of 5000: tensor([123,  55,  11,  73,  10,  72,  93,  41,  31, 103,   7, 123,  68,  73,\n",
      "         26,   5], device='cuda:0') torch.Size([16])\n",
      "09/11/2023, 20:47:44# predicted of 5000: tensor([123,  42,  44,  73,  10,  72, 110,  41,  42, 110,   7, 123, 110,  73,\n",
      "         26,   5], device='cuda:0') torch.Size([16])\n",
      "09/11/2023, 20:49:52# total batches: 8250\n",
      "09/11/2023, 20:49:52# Epoch 6 | Train Loss: 1.5233 | Train Accuracy: 0.6090\n"
     ]
    },
    {
     "data": {
      "application/vnd.jupyter.widget-view+json": {
       "model_id": "6491975026c142fe8c1d6b5022b66138",
       "version_major": 2,
       "version_minor": 0
      },
      "text/plain": [
       "Validation:   0%|          | 0/1032 [00:00<?, ?it/s]"
      ]
     },
     "metadata": {},
     "output_type": "display_data"
    },
    {
     "name": "stdout",
     "output_type": "stream",
     "text": [
      "09/11/2023, 20:49:52# labels of Validation: tensor([ 40, 114,  32,  89, 141,  94,   7, 138,  16,  35,  87, 165,  20,  46,\n",
      "        109,   6], device='cuda:0') torch.Size([16])\n",
      "09/11/2023, 20:49:52# predicted of Validation: tensor([ 40, 113,  32,  89, 141,  94,   7, 138,  16,  35,  54, 165,  20,  46,\n",
      "         48,   6], device='cuda:0') torch.Size([16])\n",
      "09/11/2023, 20:49:52# labels of 0: tensor([ 40, 114,  32,  89, 141,  94,   7, 138,  16,  35,  87, 165,  20,  46,\n",
      "        109,   6], device='cuda:0') torch.Size([16])\n",
      "09/11/2023, 20:49:52# predicted of 0: tensor([ 40, 113,  32,  89, 141,  94,   7, 138,  16,  35,  54, 165,  20,  46,\n",
      "         48,   6], device='cuda:0') torch.Size([16])\n",
      "09/11/2023, 20:50:26# labels of Validation: tensor([ 16, 157,  81, 147, 152,  35,  11,  70,   7, 162,  43,  38, 115,  40,\n",
      "          4,  49], device='cuda:0') torch.Size([16])\n",
      "09/11/2023, 20:50:26# predicted of Validation: tensor([ 16, 109,  54, 147, 109,  35,  42,  70,   7,  54,  43,   9, 115,  40,\n",
      "         48,  36], device='cuda:0') torch.Size([16])\n",
      "09/11/2023, 20:50:27# Validation Loss: 1.5187 | Validation Accuracy: 0.6125\n",
      "\n",
      "09/11/2023, 20:50:27# Find a better model!!\n"
     ]
    },
    {
     "data": {
      "application/vnd.jupyter.widget-view+json": {
       "model_id": "fc82e57184264ac7917de3aad78ef62f",
       "version_major": 2,
       "version_minor": 0
      },
      "text/plain": [
       "Training:   0%|          | 0/8250 [00:00<?, ?it/s]"
      ]
     },
     "metadata": {},
     "output_type": "display_data"
    },
    {
     "name": "stdout",
     "output_type": "stream",
     "text": [
      "09/11/2023, 20:53:46# labels of 5000: tensor([ 21,  68,  32,  26,  93,  30,  11,  77,  25,  17,  87,  34, 138,  24,\n",
      "         44, 145], device='cuda:0') torch.Size([16])\n",
      "09/11/2023, 20:53:46# predicted of 5000: tensor([ 21, 114,  32,  26, 103, 116, 104,  77,  25,  17,   2, 104, 138, 104,\n",
      "        116, 145], device='cuda:0') torch.Size([16])\n",
      "09/11/2023, 20:55:56# total batches: 8250\n",
      "09/11/2023, 20:55:56# Epoch 7 | Train Loss: 1.5148 | Train Accuracy: 0.6106\n"
     ]
    },
    {
     "data": {
      "application/vnd.jupyter.widget-view+json": {
       "model_id": "4043fcad1ada4905a4a69f240138ac91",
       "version_major": 2,
       "version_minor": 0
      },
      "text/plain": [
       "Validation:   0%|          | 0/1032 [00:00<?, ?it/s]"
      ]
     },
     "metadata": {},
     "output_type": "display_data"
    },
    {
     "name": "stdout",
     "output_type": "stream",
     "text": [
      "09/11/2023, 20:55:56# labels of Validation: tensor([ 57, 110, 112, 147,  97, 121, 151,  83, 117,  24,  16,  10, 147,  18,\n",
      "         54,  24], device='cuda:0') torch.Size([16])\n",
      "09/11/2023, 20:55:56# predicted of Validation: tensor([ 34,  90,  34, 147,  55,  34,  34,  31, 117, 112,  16,  10, 147,  34,\n",
      "         31,  34], device='cuda:0') torch.Size([16])\n",
      "09/11/2023, 20:55:56# labels of 0: tensor([ 57, 110, 112, 147,  97, 121, 151,  83, 117,  24,  16,  10, 147,  18,\n",
      "         54,  24], device='cuda:0') torch.Size([16])\n",
      "09/11/2023, 20:55:56# predicted of 0: tensor([ 34,  90,  34, 147,  55,  34,  34,  31, 117, 112,  16,  10, 147,  34,\n",
      "         31,  34], device='cuda:0') torch.Size([16])\n",
      "09/11/2023, 20:56:30# labels of Validation: tensor([ 81,  31,  49,  46,  51,  35, 147,  60, 128,  61, 165,  40,   3,  84,\n",
      "         18,  64], device='cuda:0') torch.Size([16])\n",
      "09/11/2023, 20:56:30# predicted of Validation: tensor([ 34,  34, 112,  46,  51,  35, 147,  34, 128,  61, 165,  40,   3,  84,\n",
      "        112,  90], device='cuda:0') torch.Size([16])\n",
      "09/11/2023, 20:56:31# Validation Loss: 1.5075 | Validation Accuracy: 0.6074\n",
      "\n",
      "09/11/2023, 20:56:31# Find a better model!!\n"
     ]
    },
    {
     "data": {
      "application/vnd.jupyter.widget-view+json": {
       "model_id": "4fa16f14b45a47d1b45690a4388a0fe8",
       "version_major": 2,
       "version_minor": 0
      },
      "text/plain": [
       "Training:   0%|          | 0/8250 [00:00<?, ?it/s]"
      ]
     },
     "metadata": {},
     "output_type": "display_data"
    },
    {
     "name": "stdout",
     "output_type": "stream",
     "text": [
      "09/11/2023, 20:59:48# labels of 5000: tensor([ 31, 117, 104,  40,  44, 162, 134, 107, 125,  67,  28,  49,  68,  86,\n",
      "        112,  46], device='cuda:0') torch.Size([16])\n",
      "09/11/2023, 20:59:48# predicted of 5000: tensor([162, 117,  34,  40, 164,  11, 134, 107, 164,  67,  28,  76, 110,  86,\n",
      "         11,  46], device='cuda:0') torch.Size([16])\n",
      "09/11/2023, 21:01:34# total batches: 8250\n",
      "09/11/2023, 21:01:34# Epoch 8 | Train Loss: 1.5087 | Train Accuracy: 0.6114\n"
     ]
    },
    {
     "data": {
      "application/vnd.jupyter.widget-view+json": {
       "model_id": "1036d350998e427ab3e7286b85be7ece",
       "version_major": 2,
       "version_minor": 0
      },
      "text/plain": [
       "Validation:   0%|          | 0/1032 [00:00<?, ?it/s]"
      ]
     },
     "metadata": {},
     "output_type": "display_data"
    },
    {
     "name": "stdout",
     "output_type": "stream",
     "text": [
      "09/11/2023, 21:01:34# labels of Validation: tensor([ 55, 149,  80,  88, 150,  84,  51, 113, 150,  17, 130, 160,   4, 126,\n",
      "         92,  68], device='cuda:0') torch.Size([16])\n",
      "09/11/2023, 21:01:34# predicted of Validation: tensor([152, 149,  80, 110, 104,  84,  51,  93, 143,  17, 130, 160, 143, 126,\n",
      "        163, 110], device='cuda:0') torch.Size([16])\n",
      "09/11/2023, 21:01:34# labels of 0: tensor([ 55, 149,  80,  88, 150,  84,  51, 113, 150,  17, 130, 160,   4, 126,\n",
      "         92,  68], device='cuda:0') torch.Size([16])\n",
      "09/11/2023, 21:01:34# predicted of 0: tensor([152, 149,  80, 110, 104,  84,  51,  93, 143,  17, 130, 160, 143, 126,\n",
      "        163, 110], device='cuda:0') torch.Size([16])\n",
      "09/11/2023, 21:01:56# labels of Validation: tensor([ 53,  63, 128,  33,  28,   3, 121,  37, 131, 144,  29,  18, 125, 164,\n",
      "         71, 103], device='cuda:0') torch.Size([16])\n",
      "09/11/2023, 21:01:56# predicted of Validation: tensor([143,  63, 128, 143,  28,   3, 152,  37, 131, 104,  29, 104, 152, 143,\n",
      "         71,  93], device='cuda:0') torch.Size([16])\n",
      "09/11/2023, 21:01:57# Validation Loss: 1.5029 | Validation Accuracy: 0.6125\n",
      "\n",
      "09/11/2023, 21:01:57# Find a better model!!\n"
     ]
    },
    {
     "data": {
      "application/vnd.jupyter.widget-view+json": {
       "model_id": "92b839d658f2425f8cfe24b20b128438",
       "version_major": 2,
       "version_minor": 0
      },
      "text/plain": [
       "Training:   0%|          | 0/8250 [00:00<?, ?it/s]"
      ]
     },
     "metadata": {},
     "output_type": "display_data"
    },
    {
     "name": "stdout",
     "output_type": "stream",
     "text": [
      "09/11/2023, 21:04:06# labels of 5000: tensor([161,  26, 123,  57,  80, 117,  33, 138,  61,  79, 135,  96, 142,  28,\n",
      "         12, 119], device='cuda:0') torch.Size([16])\n",
      "09/11/2023, 21:04:06# predicted of 5000: tensor([161,  26, 123,  55,  80, 117,  55, 138,  61,  79, 135,  96,  14,  28,\n",
      "         55,  55], device='cuda:0') torch.Size([16])\n",
      "09/11/2023, 21:05:30# total batches: 8250\n",
      "09/11/2023, 21:05:30# Epoch 9 | Train Loss: 1.5040 | Train Accuracy: 0.6122\n"
     ]
    },
    {
     "data": {
      "application/vnd.jupyter.widget-view+json": {
       "model_id": "c144811fe3064419b5cf3f0ac453d015",
       "version_major": 2,
       "version_minor": 0
      },
      "text/plain": [
       "Validation:   0%|          | 0/1032 [00:00<?, ?it/s]"
      ]
     },
     "metadata": {},
     "output_type": "display_data"
    },
    {
     "name": "stdout",
     "output_type": "stream",
     "text": [
      "09/11/2023, 21:05:30# labels of Validation: tensor([105,  10, 151,  60, 163,   1, 131,  53,  84, 134, 164, 147,   2,  83,\n",
      "        146, 117], device='cuda:0') torch.Size([16])\n",
      "09/11/2023, 21:05:30# predicted of Validation: tensor([105,  10, 112,  44,  54,  44, 131,  33,  84, 134, 112, 147,  54, 112,\n",
      "        146, 117], device='cuda:0') torch.Size([16])\n",
      "09/11/2023, 21:05:30# labels of 0: tensor([105,  10, 151,  60, 163,   1, 131,  53,  84, 134, 164, 147,   2,  83,\n",
      "        146, 117], device='cuda:0') torch.Size([16])\n",
      "09/11/2023, 21:05:30# predicted of 0: tensor([105,  10, 112,  44,  54,  44, 131,  33,  84, 134, 112, 147,  54, 112,\n",
      "        146, 117], device='cuda:0') torch.Size([16])\n",
      "09/11/2023, 21:05:52# labels of Validation: tensor([103, 115,  12,  24,  14, 134, 134,  89,  97, 133,  96, 136, 101, 157,\n",
      "          1,  71], device='cuda:0') torch.Size([16])\n",
      "09/11/2023, 21:05:52# predicted of Validation: tensor([114, 115,  44, 112,  44, 134, 134,  89,  54, 133,  96, 136, 101,  54,\n",
      "         44,  71], device='cuda:0') torch.Size([16])\n",
      "09/11/2023, 21:05:53# Validation Loss: 1.5024 | Validation Accuracy: 0.6119\n",
      "\n",
      "09/11/2023, 21:05:53# Find a better model!!\n"
     ]
    }
   ],
   "source": [
    "import csv\n",
    "import pandas as pd\n",
    "from sklearn.metrics import classification_report\n",
    "from torch.optim import AdamW, lr_scheduler\n",
    "\n",
    "seed = 8787\n",
    "same_seeds(seed)\n",
    "\n",
    "model = GraphSAGE(in_dim=150, hidden_dim=16, out_dim=167)\n",
    "# in_dim means the dimension of the node_feat(50 dim, since the 50-dim embedding)\n",
    "# out_dim means the # of the categories -> 168 for out tasks\n",
    "model.load_state_dict(torch.load('model3_initial(graphsage)/initial_weight.pth'))\n",
    "best_model_path = \"../checkpoint_graphSAGE/best_model_GraphSAGE_transH_150.pt\"\n",
    "\n",
    "model = model.to(device)\n",
    "\n",
    "# optimizer = torch.optim.AdamW(model.parameters(), lr=1e-5)\n",
    "optimizer = AdamW(model.parameters(), lr=5e-4)\n",
    "# scheduler = get_linear_schedule_with_warmup(optimizer, num_warmup_steps=18, num_training_steps=total_steps)\n",
    "\n",
    "# T_max control the period of the lr changing -> set 1/10 first\n",
    "scheduler = lr_scheduler.CosineAnnealingLR(optimizer, T_max=36, eta_min=0, last_epoch=- 1, verbose=False)\n",
    "\n",
    "\n",
    "criterion = nn.CrossEntropyLoss()\n",
    "# criterion = torch.nn.BCEWithLogitsLoss()\n",
    "\n",
    "total_steps = 10\n",
    "\n",
    "# save the best model\n",
    "best_val_loss = float('inf')\n",
    "patience = 10  # Number of epochs with no improvement after which training will be stopped.\n",
    "waiting = 0  # The number of epochs with no improvement so far.\n",
    "\n",
    "\n",
    "# Training Part\n",
    "for epoch in tqdm(range(total_steps)):\n",
    "    # Train\n",
    "    model.train()\n",
    "    total_loss = 0.0\n",
    "    total_accuracy = 0.0\n",
    "    num_batches = 0\n",
    "    \n",
    "    for data in tqdm(dataloaders['train'], desc=\"Training\", position=0, leave=True):\n",
    "        num_batches += 1\n",
    "        loss, accuracy, _ = model_fn(data, model, criterion, device, num_batches, which_type='train')\n",
    "        \n",
    "        optimizer.zero_grad()\n",
    "        loss.backward()\n",
    "        optimizer.step()\n",
    "\n",
    "        total_loss += loss.item()\n",
    "        total_accuracy += accuracy.item()\n",
    "\n",
    "        \n",
    "#     scheduler.step()\n",
    "    add_log_msg(f\"total batches: {num_batches}\")\n",
    "\n",
    "    avg_loss = total_loss / num_batches\n",
    "    avg_accuracy = total_accuracy / num_batches\n",
    "\n",
    "    add_log_msg(f'Epoch {epoch} | Train Loss: {avg_loss:.4f} | Train Accuracy: {avg_accuracy:.4f}')\n",
    "\n",
    "    \n",
    "    # Validation Part\n",
    "    model.eval()\n",
    "    total_accuracy = 0.0\n",
    "    total_loss = 0.0\n",
    "    num_batches = 0\n",
    "\n",
    "\n",
    "    with torch.no_grad():\n",
    "        for data in tqdm(dataloaders['valid'], desc=\"Validation\", position=0, leave=True):\n",
    "            loss, accuracy, _ = model_fn(data, model, criterion, device, num_batches, which_type='validation')\n",
    "            total_accuracy += accuracy.item()\n",
    "            total_loss += loss.item()\n",
    "            num_batches += 1\n",
    "\n",
    "    avg_accuracy = total_accuracy / num_batches\n",
    "    current_loss = total_loss / num_batches\n",
    "    \n",
    "    add_log_msg(f'Validation Loss: {current_loss:.4f} | Validation Accuracy: {avg_accuracy:.4f}\\n')\n",
    "    \n",
    "            \n",
    "    if current_loss < best_val_loss:\n",
    "        best_val_loss = current_loss\n",
    "        waiting = 0\n",
    "        \n",
    "        if os.path.exists(best_model_path):\n",
    "            os.remove(best_model_path)\n",
    "            add_log_msg(\"Find a better model!!\")\n",
    "\n",
    "        torch.save(model.state_dict(), best_model_path)\n",
    "\n",
    "#         print(best_model_path)\n",
    "\n",
    "    else:\n",
    "        waiting += 1\n",
    "        if waiting >= patience:\n",
    "            add_log_msg(\"============================== Early stopping ==================================\")\n",
    "            break"
   ]
  },
  {
   "cell_type": "markdown",
   "metadata": {},
   "source": [
    "### test of valid and test part is ``graph``"
   ]
  },
  {
   "cell_type": "markdown",
   "metadata": {},
   "source": [
    "- 60 APs in training x 10000times\n",
    "- 5 APs in validation x 4 times\n",
    "- 3 APs in test x 4 times\n",
    "- Batch size = 4"
   ]
  },
  {
   "cell_type": "code",
   "execution_count": 14,
   "metadata": {},
   "outputs": [
    {
     "data": {
      "application/vnd.jupyter.widget-view+json": {
       "model_id": "e4bd2c4addc142fd9f04964f36cdf799",
       "version_major": 2,
       "version_minor": 0
      },
      "text/plain": [
       "Testing:   0%|          | 0/1032 [00:00<?, ?it/s]"
      ]
     },
     "metadata": {},
     "output_type": "display_data"
    },
    {
     "name": "stdout",
     "output_type": "stream",
     "text": [
      "09/11/2023, 21:05:53# labels of Test: tensor([1, 1, 1, 1, 1, 1, 1, 1, 1, 1, 1, 1, 1, 1, 1, 1], device='cuda:0') torch.Size([16])\n",
      "09/11/2023, 21:05:53# predicted of Test: tensor([143,  44,  54,  54, 112,  54,  54, 112,  54, 112,  54, 112,  54,  44,\n",
      "        112,  44], device='cuda:0') torch.Size([16])\n",
      "09/11/2023, 21:05:53# labels of 0: tensor([1, 1, 1, 1, 1, 1, 1, 1, 1, 1, 1, 1, 1, 1, 1, 1], device='cuda:0') torch.Size([16])\n",
      "09/11/2023, 21:05:53# predicted of 0: tensor([143,  44,  54,  54, 112,  54,  54, 112,  54, 112,  54, 112,  54,  44,\n",
      "        112,  44], device='cuda:0') torch.Size([16])\n",
      "09/11/2023, 21:05:53# labels: tensor([1, 1, 1, 1, 1, 1, 1, 1, 1, 1, 1, 1, 1, 1, 1, 1], device='cuda:0') torch.Size([16])\n",
      "09/11/2023, 21:05:53# predicted: tensor([143,  44,  54,  54, 112,  54,  54, 112,  54, 112,  54, 112,  54,  44,\n",
      "        112,  44], device='cuda:0') torch.Size([16])\n",
      "09/11/2023, 21:06:15# labels of Test: tensor([163, 163, 163, 163, 163, 163, 163, 163, 163, 163, 163, 163, 163, 163,\n",
      "        163, 163], device='cuda:0') torch.Size([16])\n",
      "09/11/2023, 21:06:15# predicted of Test: tensor([ 54,  54,  54, 112, 112, 112,  54, 112, 112, 112, 112,  54, 112,  44,\n",
      "         54,  54], device='cuda:0') torch.Size([16])\n",
      "09/11/2023, 21:06:16# Test Accuracy: 61.1030303030303 %\n",
      "\n",
      "\n",
      "\n"
     ]
    },
    {
     "name": "stderr",
     "output_type": "stream",
     "text": [
      "/workdir/home/euni/.local/lib/python3.6/site-packages/sklearn/metrics/_classification.py:1248: UndefinedMetricWarning: Precision and F-score are ill-defined and being set to 0.0 in labels with no predicted samples. Use `zero_division` parameter to control this behavior.\n",
      "  _warn_prf(average, modifier, msg_start, len(result))\n",
      "/workdir/home/euni/.local/lib/python3.6/site-packages/sklearn/metrics/_classification.py:1248: UndefinedMetricWarning: Precision and F-score are ill-defined and being set to 0.0 in labels with no predicted samples. Use `zero_division` parameter to control this behavior.\n",
      "  _warn_prf(average, modifier, msg_start, len(result))\n",
      "/workdir/home/euni/.local/lib/python3.6/site-packages/sklearn/metrics/_classification.py:1248: UndefinedMetricWarning: Precision and F-score are ill-defined and being set to 0.0 in labels with no predicted samples. Use `zero_division` parameter to control this behavior.\n",
      "  _warn_prf(average, modifier, msg_start, len(result))\n"
     ]
    },
    {
     "name": "stdout",
     "output_type": "stream",
     "text": [
      "09/11/2023, 21:06:17# report path: classification_report/classification_report-transH_150-graphSAGE-0.xlsx\n",
      "09/11/2023, 21:06:17# label path: classification_report/mapped_true_predicted_labels-transH_150-graphSAGE-0.xlsx\n"
     ]
    },
    {
     "name": "stderr",
     "output_type": "stream",
     "text": [
      "/workdir/home/euni/.local/lib/python3.6/site-packages/sklearn/metrics/_classification.py:1248: UndefinedMetricWarning: Precision and F-score are ill-defined and being set to 0.0 in labels with no predicted samples. Use `zero_division` parameter to control this behavior.\n",
      "  _warn_prf(average, modifier, msg_start, len(result))\n",
      "/workdir/home/euni/.local/lib/python3.6/site-packages/sklearn/metrics/_classification.py:1248: UndefinedMetricWarning: Precision and F-score are ill-defined and being set to 0.0 in labels with no predicted samples. Use `zero_division` parameter to control this behavior.\n",
      "  _warn_prf(average, modifier, msg_start, len(result))\n"
     ]
    },
    {
     "name": "stdout",
     "output_type": "stream",
     "text": [
      "09/11/2023, 21:06:18# mapped_report:\n",
      "                                                precision    recall  f1-score   support\n",
      "\n",
      "T1003.001_0ef4cc7b-611c-4237-b20b-db36b6906554       1.00      1.00      1.00       100\n",
      "    T1003.001_35d92515122effdd73801c6ac3021da7       1.00      1.00      1.00       100\n",
      "    T1003.002_5a484b65c247675e3b7ada4ba648d376       1.00      1.00      1.00       100\n",
      "    T1003.002_7fa4ea18694f2552547b65e23952cabb       1.00      1.00      1.00       100\n",
      "    T1003.003_9f73269695e54311dd61dc68940fb3e1       0.00      0.00      0.00       100\n",
      "    T1003.003_f049b89533298c2d6cd37a940248b219       0.00      0.00      0.00       100\n",
      "        T1003_18f31c311ac208802e88ab8d5af8603e       1.00      1.00      1.00       100\n",
      "        T1007_9d03c91bdae5a80f17f89c987942b5a8       1.00      1.00      1.00       100\n",
      "    T1007_c6607391-d02c-44b5-9b13-d3492ca58599       0.00      0.00      0.00       100\n",
      "        T1007_d6bb2a19da7246731ed9c44831b135f8       0.49      0.85      0.62       100\n",
      "    T1016_14a21534-350f-4d83-9dd7-3c56b93a0c17       0.00      0.00      0.00       100\n",
      "        T1016_71b3d2945679566b9d94d8cb11df4b70       0.00      0.00      0.00       100\n",
      "        T1016_7d8ee68f0e9731db82964f558f614608       0.49      1.00      0.65       100\n",
      "    T1016_921055f4-5970-4707-909e-62f594234d91       0.00      0.00      0.00       100\n",
      "    T1016_a0676fe1-cd52-482e-8dde-349b73f9aa69       0.00      0.00      0.00       100\n",
      "    T1016_e8017c46-acb8-400c-a4b5-b3362b5b5baa       0.00      0.00      0.00       100\n",
      "    T1018_26c8b8b5-7b5b-4de1-a128-7d37fb14f517       0.00      0.00      0.00       100\n",
      "        T1018_a44bb43474728496276d5d73aa14588f       0.00      0.00      0.00       100\n",
      "        T1018_ac20e592bc912bddff4d6b88289095f0       0.00      0.00      0.00       100\n",
      "    T1021.001_dd67068b052fa553ad4a0ac7d6a5ea89       1.00      1.00      1.00       100\n",
      "    T1033_bd527b63-9f9e-46e0-9816-b8434d2b8989       0.02      0.45      0.04       100\n",
      "    T1033_c0da588f-79f0-4263-8998-7496b1a40596       0.00      0.00      0.00       100\n",
      "    T1036.003_04e8d83e7badf098d50800d6aa1dd487       1.00      1.00      1.00       100\n",
      "    T1036.003_f5ef8466e5ebcd2ae03f338d9416069c       1.00      1.00      1.00       100\n",
      "    T1036.004_1f0614ea5c4af6faf1b44570f5f22f8a       0.06      0.15      0.09       100\n",
      "    T1036.004_7de3d7b4922a7b996d8df36fb22bb118       0.00      0.00      0.00       100\n",
      "    T1037.001_62cfa90fb03a6bc1a6ebcce8a3ea81b7       1.00      1.00      1.00       100\n",
      "        T1040_6881a4589710d53f0c146e91db513f01       1.00      1.00      1.00       100\n",
      "        T1047_09e0f9cf2eb803a1c35deeecf3665fad       0.00      0.00      0.00       100\n",
      "        T1047_6935e41353aa781bb723462d26114c44       0.02      0.03      0.02       100\n",
      "        T1047_ac122553ab4426ea3362bb4a97d31bfd       0.00      0.00      0.00       100\n",
      "        T1047_ac2764f7a67a9ce92b54e8e59b361838       0.00      0.00      0.00       100\n",
      "        T1047_b0255b5120cbabc062d8d4510a142c3b       0.00      0.00      0.00       100\n",
      "        T1047_ed736a123da6fb2aab22cfd4f437e8b5       0.00      0.00      0.00       100\n",
      "        T1047_f4b0b4129560ea66f9751275e82f6bab       0.00      0.00      0.00       100\n",
      "    T1049_638fb6bb-ba39-4285-93d1-7e4775b033a8       0.00      0.00      0.00       100\n",
      "        T1049_a14392d713dffba6a397682ff83259a0       0.45      0.09      0.15       100\n",
      "    T1053.005_5db2884b6ca3ab932848f295a3896dc0       0.00      0.00      0.00       100\n",
      "    T1053.005_ee454be9197890de62705ce6255933fd       0.00      0.00      0.00       100\n",
      "T1055.001_a74bc239-a196-4f7e-8d5c-fe8c0266071c       0.00      0.00      0.00       100\n",
      "T1055.002_e5bcefee-262d-4568-a261-e8a20855ec81       0.00      0.00      0.00       100\n",
      "    T1057_5a39d7ed-45c9-4a79-b581-e5fb99e24f65       0.00      0.00      0.00       100\n",
      "    T1057_8adf02e8-6e71-4244-886c-98c402857404       1.00      1.00      1.00       100\n",
      "        T1057_b2a1e430ca6d36eb5af2fe666e769847       0.00      0.00      0.00       100\n",
      "        T1057_f8de05d1741dcc468f772ab0ff4dac72       0.00      0.00      0.00       100\n",
      "T1059.001_55678719-e76e-4df9-92aa-10655bbd1cf4       1.00      1.00      1.00       100\n",
      "    T1059.001_6efbccc1869e8cd618c0d3ecda407d5f       1.00      1.00      1.00       100\n",
      "T1059.001_702bfdd2-9947-4eda-b551-c3a1ea9a59a2       1.00      1.00      1.00       100\n",
      "T1059.001_bfff9006-d1fb-46ce-b173-92cb04e9a031       1.00      1.00      1.00       100\n",
      "T1059.001_ccdb8caf-c69e-424b-b930-551969450c57       1.00      1.00      1.00       100\n",
      "T1059.001_e5f9de8f-3df1-4e78-ad92-a784e3f6770d       1.00      1.00      1.00       100\n",
      "    T1059.003_6c318ef0339d74d909ad556681b6493e       1.00      1.00      1.00       100\n",
      "    T1059.003_f38e58deb7ad20b5538ca40db7b7b4f8       1.00      1.00      1.00       100\n",
      "T1069.001_5c4dd985-89e3-4590-9b57-71fed66ff4e2       1.00      1.00      1.00       100\n",
      "    T1069.001_a1f48fa3ddee658b29b414523c9a295b       0.00      0.00      0.00       100\n",
      "    T1069.002_6103e503cb444bc7b4187704f2035708       0.00      0.00      0.00       100\n",
      "    T1070.005_1f91076e2be2014cc7b4f1296de02fd6       1.00      1.00      1.00       100\n",
      "    T1071.001_24c3b7b004401d839a5c337201da3484       1.00      1.00      1.00       100\n",
      "T1074.001_4e97e699-93d7-4040-b5a3-2e906a58199e       1.00      1.00      1.00       100\n",
      "T1074.001_6469befa-748a-4b9c-a96d-f191fde47d89       1.00      1.00      1.00       100\n",
      "    T1074.001_e6dfc7e89359ac6fa6de84b0e1d5762e       1.00      1.00      1.00       100\n",
      "    T1078.001_d0ca00832890baa1d42322cf70fcab1a       0.00      0.00      0.00       100\n",
      "    T1082_29451844-9b76-4e16-a9ee-d6feab4b24db       0.00      0.00      0.00       100\n",
      "    T1083_52177cc1-b9ab-4411-ac21-2eadc4b5d3b8       1.00      1.00      1.00       100\n",
      "    T1083_6e1a53c0-7352-4899-be35-fa7f364d5722       0.00      0.00      0.00       100\n",
      "    T1087.001_6334877e8e3ba48f7835d4856d90a282       1.00      1.00      1.00       100\n",
      "T1087.001_feaced8f-f43f-452a-9500-a5219488abb8       0.03      0.02      0.03       100\n",
      "    T1090.001_ba343199a4f15ed6b57eb52412f62e4e       1.00      1.00      1.00       100\n",
      "        T1105_0856c235a1d26113d4f2d92e39c9a9f8       1.00      1.00      1.00       100\n",
      "        T1105_1095434782a00c8a4772a11e625bcf5d       1.00      1.00      1.00       100\n",
      "        T1105_4f683658f161ccdc51337c470d32bab9       1.00      1.00      1.00       100\n",
      "    T1105_60f63260-39bb-4136-87a0-b6c2dca799fc       1.00      1.00      1.00       100\n",
      "        T1105_c521e0a70b243a0cf9217907ca3c6d27       1.00      1.00      1.00       100\n",
      "        T1105_c76968acda4aa1673dadcd67f3ab7664       1.00      1.00      1.00       100\n",
      "        T1105_e6715e61f5df646692c624b3499384c4       1.00      1.00      1.00       100\n",
      "    T1105_eb814e03-811a-467a-bc6d-dcd453750fa2       1.00      1.00      1.00       100\n",
      "        T1112_257313a3c93e3bb7dfb60d6753b09e34       1.00      1.00      1.00       100\n",
      "        T1112_34041639e6e501856ecaf5969ee29c76       1.00      1.00      1.00       100\n",
      "        T1112_35c0360d226cf38104f300d9d57ce60e       1.00      1.00      1.00       100\n",
      "        T1112_4bfb5f265a5ce07af6bf10da113af7db       1.00      1.00      1.00       100\n",
      "        T1112_7fe6a66d03f4dbfc022609ba311c2b11       1.00      1.00      1.00       100\n",
      "        T1112_ba6f6214dbd17c54001e0a163b60f151       1.00      1.00      1.00       100\n",
      "        T1112_cab7b85611a290c0769546bfa9d6f962       1.00      1.00      1.00       100\n",
      "        T1112_cd8be0e6b873919da25530a2c7ea6750       1.00      1.00      1.00       100\n",
      "        T1112_e74d2fb4ef5fa6c766a4151554033697       1.00      1.00      1.00       100\n",
      "        T1112_e7a987cbef27263e666e5b096488dc55       1.00      1.00      1.00       100\n",
      "        T1112_fa4ba6a06b4a5cd955ea5a60fae24281       1.00      1.00      1.00       100\n",
      "        T1112_fd992e8ecfdac9b56dd6868904044827       1.00      1.00      1.00       100\n",
      "    T1113_316251ed-6a28-4013-812b-ddf5b5b007f8       1.00      1.00      1.00       100\n",
      "        T1115_70795de7cbb842edb029b3378c27c008       1.00      1.00      1.00       100\n",
      "    T1115_b007fe0c-c6b0-4fda-915c-255bbc070de2       0.06      0.02      0.03       100\n",
      "        T1119_344e7eaf650763e0d3e9f02e62c1cf4b       1.00      1.00      1.00       100\n",
      "        T1119_7121cdf93b951311be9d7078c602efdc       1.00      1.00      1.00       100\n",
      "        T1120_7b9c7afaefa59aab759b49af0d699ac1       1.00      1.00      1.00       100\n",
      "        T1123_372e6f46fca18e4f1b43209c20ffafa2       1.00      1.00      1.00       100\n",
      "    T1124_fa6e8607-e0b1-425d-8924-9b894da5a002       0.00      0.00      0.00       100\n",
      "        T1125_da86001b5081fcf773d8e62f22cf2b00       1.00      1.00      1.00       100\n",
      "    T1135_530e47c6-8592-42bf-91df-c59ffbd8541b       0.00      0.00      0.00       100\n",
      "    T1135_deeac480-5c2a-42b5-90bb-41675ee53c7e       0.00      0.00      0.00       100\n",
      "    T1137.002_e2af3c3ab1b0f659c874b8af58c49759       1.00      1.00      1.00       100\n",
      "        T1137_12ad9edefc86af07700fbf49bfdac6ba       1.00      1.00      1.00       100\n",
      "        T1201_38f6f0e50a6b196140ec40d3dc9cc9e6       0.00      0.00      0.00       100\n",
      "        T1201_57296a2ddbeb7423c05feef2fe972111       0.00      0.00      0.00       100\n",
      "    T1204.002_522f3f35cd013e63830fa555495a0081       1.00      1.00      1.00       100\n",
      "        T1217_69bbe2183fa09c00ccaac62d48e214f8       1.00      1.00      1.00       100\n",
      "        T1217_f7a0f7d704aa52a764d9d1bee81e65d6       0.00      0.00      0.00       100\n",
      "        T1219_7dabcbecab0334b115feefab1630f84a       1.00      1.00      1.00       100\n",
      "        T1219_af8cb2bf9b436aae5c106a0a9c207e14       1.00      1.00      1.00       100\n",
      "        T1219_f1b3fca18d7465cd10e5a7477a3bf97d       1.00      1.00      1.00       100\n",
      "    T1482_6131397e-7765-424e-a594-3d7fb2d93a6a       1.00      1.00      1.00       100\n",
      "        T1482_cfb61005899996469ae3023796792ca5       0.00      0.00      0.00       100\n",
      "        T1486_d82ceb9939d3d920ee550187ad8235c8       1.00      1.00      1.00       100\n",
      "        T1490_2d53d6fabd39bf9c70b0dfcdfbbc926d       0.00      0.00      0.00       100\n",
      "        T1490_8467c994685ccf178db166964bd80fab       0.00      0.00      0.00       100\n",
      "        T1490_9e5e4c0655fd1b5be88bd40b8251175f       0.00      0.00      0.00       100\n",
      "        T1490_c156ac5c9fa67080365268d95f29053d       0.00      0.00      0.00       100\n",
      "        T1490_c8f329d2847ede593b6cb4a1ec6120fb       1.00      1.00      1.00       100\n",
      "        T1490_e90756bb6dcd21462dc4cc452661df91       0.00      0.00      0.00       100\n",
      "    T1491_47d08617-5ce1-424a-8cc5-c9c978ce6bf9       1.00      1.00      1.00       100\n",
      "    T1491_68235976-2404-42a8-9105-68230cfef562       1.00      1.00      1.00       100\n",
      "    T1496_46da2385-cf37-49cb-ba4b-a739c7a19de4       1.00      1.00      1.00       100\n",
      "T1497.001_1258b063-27d6-489b-a677-4807faacf868       0.00      0.00      0.00       100\n",
      "T1497.001_5dc841fd-28ad-40e2-b10e-fb007fe09e81       0.00      0.00      0.00       100\n",
      "T1497.001_7a6ba833-de40-466a-8969-5c37b13603e0       0.00      0.00      0.00       100\n",
      "    T1499_2fe2d5e6-7b06-4fc0-bf71-6966a1226731       0.00      0.00      0.00       100\n",
      "T1518.001_2dece965-37a0-4f70-a391-0f30e3331aba       0.00      0.00      0.00       100\n",
      "    T1518.001_33a24ff44719e6ac0614b58f8c9a7c72       0.00      0.00      0.00       100\n",
      "    T1518.001_b8453a5fe06b24aea12b27592d5c3d3a       0.00      0.00      0.00       100\n",
      "        T1518_8ddfaf982ab359cda13626b870ccb339       1.00      1.00      1.00       100\n",
      "    T1518_c9be8043-a445-4cbf-b77b-ed7bb007fc7c       1.00      1.00      1.00       100\n",
      "        T1531_aa6b15485a5f50ced34d87fda177b758       0.00      0.00      0.00       100\n",
      "        T1531_b25ae80dad74142fafb510e9c1949ace       0.10      0.74      0.17       100\n",
      "    T1546.013_f9a968af61d36983448c74cca5464e17       1.00      1.00      1.00       100\n",
      "    T1547.001_0dbdf1a2a87e718a6ac8a8e3415a7fac       1.00      1.00      1.00       100\n",
      "    T1547.001_163b023f43aba758d36f524d146cb8ea       1.00      1.00      1.00       100\n",
      "    T1547.001_1f15ab22c39a9b6bb2bb0d77276dfcb3       1.00      1.00      1.00       100\n",
      "    T1547.001_4b71ebb2f6f6a01235ba240fa40ce978       1.00      1.00      1.00       100\n",
      "    T1547.001_777043894e42d2aae3881e63f6c76d33       1.00      1.00      1.00       100\n",
      "    T1547.001_d3ef4145e4144fd694514b1c5cc17350       1.00      1.00      1.00       100\n",
      "    T1547.004_0856714c9810ac55b53e9964d02958a0       1.00      1.00      1.00       100\n",
      "    T1547.004_aa147165f6c116cb0b0f944abe1db8ce       1.00      1.00      1.00       100\n",
      "    T1547.009_501af516bd8b24fee0c7c650ae5cc861       1.00      1.00      1.00       100\n",
      "    T1547.009_b6e5c895c6709fe289352ee23f062229       1.00      1.00      1.00       100\n",
      "    T1547.010_4593d72a5145e3f494421ac772d37464       1.00      1.00      1.00       100\n",
      "        T1547_fe9eeee9a7b339089e5fa634b08522c1       1.00      1.00      1.00       100\n",
      "T1548.002_665432a4-42e7-4ee1-af19-a9a8c9455d0c       1.00      1.00      1.00       100\n",
      "    T1552.002_3e5b04b8ee0a1a4950da8f35d95e65fc       0.00      0.00      0.00       100\n",
      "        T1560_a1ee301b0508747b468d578a14e5c1a5       1.00      1.00      1.00       100\n",
      "    T1562.001_43e3334362b140924f001b256b229ee5       1.00      1.00      1.00       100\n",
      "    T1562.002_6a8d25d65a7d481dc479f89c62af1e6a       1.00      1.00      1.00       100\n",
      "    T1562.002_94f51bf01a7036fe02d07b4c18967669       0.00      0.00      0.00       100\n",
      "    T1562.004_280003641a5cddf916c4f2bf605a71d3       0.00      0.00      0.00       100\n",
      "    T1562.004_41627f71f968225b9f162cb76d16bd9d       1.00      1.00      1.00       100\n",
      "    T1562.004_5b93df032e230056c21a3e57334f77d1       0.00      0.00      0.00       100\n",
      "    T1562.004_8d0a4585e7c4646185a912b14cd9cb46       0.02      0.21      0.04       100\n",
      "    T1562.004_8fe59e288f10a486dc8b44bc872019ff       1.00      1.00      1.00       100\n",
      "    T1564.001_66a5fd5f244819181f074dd082a28905       0.50      1.00      0.67       100\n",
      "    T1564.001_dce51e632abdfe5392c7c1f942ac9273       0.00      0.00      0.00       100\n",
      "    T1564.003_9a2edad4053a2b59fb9167a9bc29e7dc       1.00      1.00      1.00       100\n",
      "    T1564.004_28862487a99f5f89bc0d68c87396c7e9       1.00      1.00      1.00       100\n",
      "    T1564.004_76b6066fe170d38215251102e42be973       1.00      1.00      1.00       100\n",
      "        T1564_dedfa0a54c9c13ce5714a0dc2e1f5d1a       0.02      0.26      0.04       100\n",
      "    T1566.001_1afaec09315ab71fdfb167175e8a019a       1.00      1.00      1.00       100\n",
      "    T1574.001_63bbedafba2f541552ac3579e9e3737b       1.00      1.00      1.00       100\n",
      "    T1574.011_72249c1e9ffe7d8f30243d838e0791ca       1.00      1.00      1.00       100\n",
      "\n",
      "                                      accuracy                           0.61     16500\n",
      "                                     macro avg       0.60      0.61      0.60     16500\n",
      "                                  weighted avg       0.60      0.61      0.60     16500\n",
      "\n"
     ]
    },
    {
     "name": "stderr",
     "output_type": "stream",
     "text": [
      "/workdir/home/euni/.local/lib/python3.6/site-packages/sklearn/metrics/_classification.py:1248: UndefinedMetricWarning: Precision and F-score are ill-defined and being set to 0.0 in labels with no predicted samples. Use `zero_division` parameter to control this behavior.\n",
      "  _warn_prf(average, modifier, msg_start, len(result))\n"
     ]
    }
   ],
   "source": [
    "# load the pretrained model\n",
    "pretrained_model_path = '../checkpoint_graphSAGE/best_model_GraphSAGE_transH_150.pt'\n",
    "model.load_state_dict(torch.load(pretrained_model_path))\n",
    "\n",
    "model.to(device)\n",
    "model.eval()\n",
    "\n",
    "total = 0\n",
    "correct = 0\n",
    "count = 0\n",
    "\n",
    "true_labels = []\n",
    "predicted_labels = []\n",
    "\n",
    "with torch.no_grad():\n",
    "    for data in tqdm(dataloaders['test'], desc=\"Testing\", position=0, leave=True):\n",
    "#         print(f\"data:{data[1]}\")\n",
    "        loss, accuracy, predicted = model_fn(data, model, criterion, device, count, which_type='test')\n",
    "        labels = data[1].to(device)\n",
    "        \n",
    "        true_labels.extend(labels.cpu().numpy())\n",
    "        predicted_labels.extend(predicted.cpu().numpy())\n",
    "        \n",
    "        if count % 5000 == 0:\n",
    "            add_log_msg(f\"labels: {labels} {labels.shape}\")\n",
    "            add_log_msg(f\"predicted: {predicted} {predicted.shape}\")\n",
    "            \n",
    "        count += 1\n",
    "        \n",
    "        total += labels.size(0)\n",
    "        correct += (predicted == labels).sum().item()\n",
    "\n",
    "add_log_msg(f'Test Accuracy: {100 * correct / total} %\\n\\n\\n')\n",
    "\n",
    "\n",
    "# ======================================== handlig the output excel files ========================================\n",
    "mapping_file = './new_mapping.txt'\n",
    "label_mapping = {}\n",
    "with open(mapping_file, 'r') as f:\n",
    "    for line in f:\n",
    "        parts = line.strip().split(': ')\n",
    "        label_mapping[int(parts[1])] = parts[0]\n",
    "        \n",
    "# 将映射后的标签应用到true和predicted标签列表\n",
    "mapped_true_labels = [label_mapping[label] for label in true_labels]\n",
    "mapped_predicted_labels = [label_mapping[label] for label in predicted_labels]\n",
    "\n",
    "# 生成Scikit-learn报告信息的DataFrame\n",
    "report_data = classification_report(mapped_true_labels, mapped_predicted_labels, output_dict=True)\n",
    "report_df = pd.DataFrame(report_data).transpose()\n",
    "\n",
    "# mapped_true_labels_np = np.array(mapped_true_labels)\n",
    "# mapped_predicted_labels_np = np.array(mapped_predicted_labels)\n",
    "\n",
    "# print(\"mapped_true_labels 的形状:\", mapped_true_labels_np.shape)\n",
    "# print(\"mapped_predicted_labels 的形状:\", mapped_predicted_labels_np.shape)\n",
    "\n",
    "report_folder = 'classification_report'\n",
    "os.makedirs(report_folder, exist_ok=True)\n",
    "\n",
    "count = 0\n",
    "while True:\n",
    "    report_filename = f'classification_report-transH_150-graphSAGE-{count}.xlsx'\n",
    "    labels_filename = f'mapped_true_predicted_labels-transH_150-graphSAGE-{count}.xlsx'\n",
    "    \n",
    "    report_path = os.path.join(report_folder, report_filename)\n",
    "    labels_path = os.path.join(report_folder, labels_filename)\n",
    "    \n",
    "    if not os.path.exists(report_path) and not os.path.exists(labels_path):\n",
    "        break\n",
    "    count += 1\n",
    "\n",
    "    \n",
    "report_df.to_excel(report_path, index_label='Label')\n",
    "\n",
    "mapped_labels_df = pd.DataFrame({'true_label': mapped_true_labels, 'predicted_label': mapped_predicted_labels})\n",
    "mapped_labels_df.to_excel(labels_path, index=False)\n",
    "\n",
    "add_log_msg(f\"report path: {report_path}\")\n",
    "add_log_msg(f\"label path: {labels_path}\")\n",
    "\n",
    "mapped_report = classification_report(mapped_true_labels, mapped_predicted_labels)\n",
    "add_log_msg(f\"mapped_report:\\n{mapped_report}\")"
   ]
  },
  {
   "cell_type": "code",
   "execution_count": null,
   "metadata": {},
   "outputs": [],
   "source": []
  },
  {
   "cell_type": "code",
   "execution_count": null,
   "metadata": {},
   "outputs": [],
   "source": []
  }
 ],
 "metadata": {
  "kernelspec": {
   "display_name": "Python 3",
   "language": "python",
   "name": "python3"
  },
  "language_info": {
   "codemirror_mode": {
    "name": "ipython",
    "version": 3
   },
   "file_extension": ".py",
   "mimetype": "text/x-python",
   "name": "python",
   "nbconvert_exporter": "python",
   "pygments_lexer": "ipython3",
   "version": "3.6.9"
  }
 },
 "nbformat": 4,
 "nbformat_minor": 2
}
