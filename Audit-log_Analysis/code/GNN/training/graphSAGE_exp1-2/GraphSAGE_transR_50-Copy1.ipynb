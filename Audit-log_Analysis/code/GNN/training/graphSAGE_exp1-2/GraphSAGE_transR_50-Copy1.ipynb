{
 "cells": [
  {
   "cell_type": "markdown",
   "metadata": {},
   "source": [
    "# Test of GraphSAGE\n",
    "- use DGL\n",
    "- predict `graphs`\n",
    "- valid, test data are in the training dataset"
   ]
  },
  {
   "cell_type": "code",
   "execution_count": 15,
   "metadata": {},
   "outputs": [],
   "source": [
    "import os\n",
    "import dgl\n",
    "import json\n",
    "import torch\n",
    "import torch as th\n",
    "import dgl.nn as dglnn\n",
    "# from tqdm import tqdm\n",
    "from tqdm.notebook import tqdm  # 使用 notebook 版本的 tqdm\n",
    "import torch.nn as nn\n",
    "from dgl.nn import GraphConv, GATConv, SAGEConv\n",
    "import torch.nn.functional as F\n",
    "from torch.utils.data import Dataset, DataLoader\n",
    "from transformers import get_linear_schedule_with_warmup"
   ]
  },
  {
   "cell_type": "markdown",
   "metadata": {},
   "source": [
    "- check the GPU and assign the GPU by the best memory usage"
   ]
  },
  {
   "cell_type": "code",
   "execution_count": 16,
   "metadata": {},
   "outputs": [
    {
     "name": "stdout",
     "output_type": "stream",
     "text": [
      "cuda:1\n"
     ]
    }
   ],
   "source": [
    "import subprocess\n",
    "import torch\n",
    "\n",
    "def get_free_gpu():\n",
    "    try:\n",
    "        # Run nvidia-smi command to get GPU details\n",
    "        _output_to_list = lambda x: x.decode('ascii').split('\\n')[:-1]\n",
    "        command = \"nvidia-smi --query-gpu=memory.free --format=csv,nounits,noheader\"\n",
    "        memory_free_info = _output_to_list(subprocess.check_output(command.split())) \n",
    "        memory_free_values = [int(x) for i, x in enumerate(memory_free_info)]\n",
    "        \n",
    "        # Get the GPU with the maximum free memory\n",
    "        best_gpu_id = memory_free_values.index(max(memory_free_values))\n",
    "        return best_gpu_id\n",
    "    except:\n",
    "        # If any exception occurs, default to GPU 0 (this handles cases where nvidia-smi isn't installed)\n",
    "        return 0\n",
    "\n",
    "if torch.cuda.is_available():\n",
    "    # Get the best GPU ID based on free memory and set it\n",
    "    best_gpu_id = get_free_gpu()\n",
    "    device = torch.device(f\"cuda:{best_gpu_id}\")\n",
    "else:\n",
    "    device = torch.device(\"cpu\")\n",
    "    print(\"there's no available GPU\")\n",
    "\n",
    "# device = torch.device(f\"cuda:{1}\")\n",
    "print(device)\n"
   ]
  },
  {
   "cell_type": "markdown",
   "metadata": {},
   "source": [
    "## Fix the seed"
   ]
  },
  {
   "cell_type": "code",
   "execution_count": 3,
   "metadata": {},
   "outputs": [],
   "source": [
    "import numpy as np\n",
    "import torch\n",
    "import random\n",
    "\n",
    "#fix seed\n",
    "def same_seeds(seed = 8787):\n",
    "    torch.manual_seed(seed)\n",
    "    # random.seed(seed) \n",
    "    if torch.cuda.is_available():\n",
    "        torch.cuda.manual_seed(seed)\n",
    "        torch.cuda.manual_seed_all(seed)  \n",
    "    np.random.seed(seed)  \n",
    "    torch.backends.cudnn.benchmark = False\n",
    "    torch.backends.cudnn.deterministic = True"
   ]
  },
  {
   "cell_type": "markdown",
   "metadata": {},
   "source": [
    "## Data Loader"
   ]
  },
  {
   "cell_type": "code",
   "execution_count": 4,
   "metadata": {},
   "outputs": [],
   "source": [
    "class GraphDataset(Dataset):\n",
    "    def __init__(self, data_list, device):\n",
    "        self.data_list = data_list\n",
    "        self.device = device\n",
    "\n",
    "    def __len__(self):\n",
    "        return len(self.data_list)\n",
    "    \n",
    "    def __getitem__(self, idx):\n",
    "        data = self.data_list[idx]\n",
    "\n",
    "        g = dgl.graph((th.tensor(data[\"edge_index\"][0]), th.tensor(data[\"edge_index\"][1])), num_nodes=data[\"num_nodes\"]).to(self.device)\n",
    "\n",
    "        g.ndata['feat'] = th.tensor(data[\"node_feat\"]).to(self.device)\n",
    "        g.edata['feat'] = th.tensor(data[\"edge_attr\"]).to(self.device)  # Add edge features to graph\n",
    "\n",
    "        return g, th.tensor(data[\"label\"]).to(self.device)\n",
    "\n",
    "\n",
    "def collate(samples):\n",
    "    # The input `samples` is a list of pairs\n",
    "    #  (graph, label).\n",
    "    graphs, labels = map(list, zip(*samples))\n",
    "    batched_graph = dgl.batch(graphs)\n",
    "    return batched_graph, torch.tensor(labels)\n"
   ]
  },
  {
   "cell_type": "code",
   "execution_count": 5,
   "metadata": {},
   "outputs": [
    {
     "data": {
      "application/vnd.jupyter.widget-view+json": {
       "model_id": "e66f951f3cdf416899df711385bd7dab",
       "version_major": 2,
       "version_minor": 0
      },
      "text/plain": [
       "  0%|          | 0/3 [00:00<?, ?it/s]"
      ]
     },
     "metadata": {},
     "output_type": "display_data"
    },
    {
     "name": "stdout",
     "output_type": "stream",
     "text": [
      "../../data_processing/dgl/data_new/exp1-2/training_data/exp_2/transR_50/train.jsonl\n"
     ]
    },
    {
     "data": {
      "application/vnd.jupyter.widget-view+json": {
       "model_id": "49d38d9c846e46fa8e604d5a49f45159",
       "version_major": 2,
       "version_minor": 0
      },
      "text/plain": [
       "0it [00:00, ?it/s]"
      ]
     },
     "metadata": {},
     "output_type": "display_data"
    },
    {
     "name": "stdout",
     "output_type": "stream",
     "text": [
      "../../data_processing/dgl/data_new/exp1-2/training_data/exp_2/transR_50/valid.jsonl\n"
     ]
    },
    {
     "data": {
      "application/vnd.jupyter.widget-view+json": {
       "model_id": "e1527258aaed494eba81eaa08f1f00a2",
       "version_major": 2,
       "version_minor": 0
      },
      "text/plain": [
       "0it [00:00, ?it/s]"
      ]
     },
     "metadata": {},
     "output_type": "display_data"
    },
    {
     "name": "stdout",
     "output_type": "stream",
     "text": [
      "../../data_processing/dgl/data_new/exp1-2/training_data/exp_2/transR_50/test.jsonl\n"
     ]
    },
    {
     "data": {
      "application/vnd.jupyter.widget-view+json": {
       "model_id": "b00bf0f739994bcd833200756fcbe6c9",
       "version_major": 2,
       "version_minor": 0
      },
      "text/plain": [
       "0it [00:00, ?it/s]"
      ]
     },
     "metadata": {},
     "output_type": "display_data"
    },
    {
     "name": "stdout",
     "output_type": "stream",
     "text": [
      "Datasets loaded!\n"
     ]
    }
   ],
   "source": [
    "datasets = ['train', 'valid', 'test']\n",
    "dataset_data = {}\n",
    "\n",
    "for dataset_name in tqdm(datasets):\n",
    "    file_path = f\"../../data_processing/dgl/data_new/exp1-2/training_data/exp_2/transR_50/{dataset_name}.jsonl\"\n",
    "    \n",
    "    print(file_path)\n",
    "    with open(file_path) as f:\n",
    "        data_list = [json.loads(line) for line in tqdm(f, position=0, leave=True)]\n",
    "    \n",
    "    dataset_data[dataset_name] = GraphDataset(data_list, device)\n",
    "\n",
    "print(\"Datasets loaded!\")"
   ]
  },
  {
   "cell_type": "markdown",
   "metadata": {},
   "source": [
    "- choose batch size"
   ]
  },
  {
   "cell_type": "code",
   "execution_count": 6,
   "metadata": {},
   "outputs": [],
   "source": [
    "def create_dataloaders(batch_size, shuffle=True):\n",
    "    dataloaders = {}\n",
    "    for dataset_name, dataset in dataset_data.items():\n",
    "        # do not shuffle the testing dataset\n",
    "        if dataset_name == \"test\":\n",
    "            dataloaders[dataset_name] = DataLoader(dataset, batch_size=batch_size, shuffle=False, collate_fn=collate)    \n",
    "        else:\n",
    "            dataloaders[dataset_name] = DataLoader(dataset, batch_size=batch_size, shuffle=shuffle, collate_fn=collate)\n",
    "    return dataloaders\n",
    "\n",
    "dataloaders = create_dataloaders(8)"
   ]
  },
  {
   "cell_type": "markdown",
   "metadata": {},
   "source": [
    "- Turn the print message to a log file"
   ]
  },
  {
   "cell_type": "code",
   "execution_count": 7,
   "metadata": {},
   "outputs": [
    {
     "name": "stdout",
     "output_type": "stream",
     "text": [
      "../log_message/0912_22:49_GraphSAGE_transR_50.log\n"
     ]
    }
   ],
   "source": [
    "import datetime\n",
    "\n",
    "now = datetime.datetime.now()\n",
    "\n",
    "formatted_time = now.strftime(\"%m%d_%H:%M\")\n",
    "\n",
    "log_file_path = f\"../log_message/{formatted_time}_GraphSAGE_transR_50.log\"\n",
    "\n",
    "def add_log_msg(msg, log_file_path=log_file_path):\n",
    "    with open(log_file_path, 'a') as f:\n",
    "        f.write(f'{datetime.datetime.now().strftime(\"%m/%d/%Y, %H:%M:%S\")}# {msg}\\n')\n",
    "    print(f'{datetime.datetime.now().strftime(\"%m/%d/%Y, %H:%M:%S\")}# {msg}')\n",
    "\n",
    "print(log_file_path)"
   ]
  },
  {
   "cell_type": "markdown",
   "metadata": {},
   "source": [
    "### Model"
   ]
  },
  {
   "cell_type": "code",
   "execution_count": 8,
   "metadata": {},
   "outputs": [],
   "source": [
    "class GraphSAGE(nn.Module):\n",
    "    def __init__(self, in_dim, hidden_dim, out_dim):\n",
    "        super(GraphSAGE, self).__init__()\n",
    "#         self.layer1 = dglnn.SAGEConv(in_dim, hidden_dim, 'mean')\n",
    "#         self.layer2 = dglnn.SAGEConv(hidden_dim, out_dim, 'mean')  # Output layer\n",
    "        self.layer1 = dglnn.SAGEConv(in_dim, hidden_dim, 'pool')\n",
    "        self.layer2 = dglnn.SAGEConv(hidden_dim, out_dim, 'pool')  # Output layer\n",
    "\n",
    "    def forward(self, g, inputs):\n",
    "        h = self.layer1(g, inputs)\n",
    "        h = torch.relu(h)\n",
    "        h = self.layer2(g, h)  # You can apply another non-linearity here if needed\n",
    "        \n",
    "        g.ndata['h'] = h\n",
    "        hg = dgl.mean_nodes(g, 'h')\n",
    "        return hg\n"
   ]
  },
  {
   "cell_type": "markdown",
   "metadata": {},
   "source": [
    "- Model Forward  "
   ]
  },
  {
   "cell_type": "code",
   "execution_count": 9,
   "metadata": {},
   "outputs": [],
   "source": [
    "def model_fn(data, model, criterion, device, count=1, which_type='train'):\n",
    "    \"\"\"Forward a batch through the model.\"\"\"\n",
    "    batched_g, labels = data\n",
    "    batched_g = batched_g.to(device)\n",
    "    \n",
    "    labels = labels.to(device)\n",
    "#     labels = labels.float()\n",
    "\n",
    "    logits = model(batched_g, batched_g.ndata['feat'].float()) # for GAT\n",
    "#     logits = logits.mean(dim=1)\n",
    "#     print(labels)\n",
    "#     print(labels.shape)\n",
    "#     print(logits)\n",
    "#     print(logits.shape)\n",
    "\n",
    "    \n",
    "    loss = criterion(logits, labels)\n",
    "\n",
    "    # Get the class id with the highest probability\n",
    "    preds = logits.argmax(1) # for GAT\n",
    "#     print(preds)\n",
    "#     preds = logits.argmax() # for graphSAGE\n",
    "    \n",
    "    '''\n",
    "    问题出在GAT和GraphSAGE模型的输出形状上。\n",
    "    在你的 GAT 模型中，最后一层的输出是一个一维的张量，因此 logits 是一个形状为 (batch_size,) 的张量。这是因为 GAT 模型最后一层的输出被处理成了一个节点的预测，而不是整个图的预测。\n",
    "    在 GraphSAGE 模型中，最后一层的输出形状是 (num_nodes, out_dim)，也就是说，它返回了整个图的节点级别的预测。因此，logits 是一个二维的张量，形状为 (num_nodes, out_dim)。\n",
    "    当你尝试在一个一维张量上调用 logits.argmax(1) 时，会产生维度错误，因为它期望一个二维张量来执行操作。\n",
    "    所以，在 GraphSAGE 模型中，你应该将以下行：\n",
    "    '''\n",
    "    \n",
    "    \n",
    "    # Compute accuracy\n",
    "    accuracy = torch.mean((preds == labels).float())\n",
    "    \n",
    "    if which_type == 'validation' and count % 1000 == 0:\n",
    "        add_log_msg(f\"labels of Validation: {labels} {labels.shape}\")\n",
    "        add_log_msg(f\"predicted of Validation: {preds} {preds.shape}\")\n",
    "        \n",
    "    elif which_type == 'test'  and count % 1000 == 0:\n",
    "        add_log_msg(f\"labels of Test: {labels} {labels.shape}\")\n",
    "        add_log_msg(f\"predicted of Test: {preds} {preds.shape}\")\n",
    "        \n",
    "    if count % 5000 == 0: \n",
    "        add_log_msg(f\"labels of {count}: {labels} {labels.shape}\")\n",
    "        add_log_msg(f\"predicted of {count}: {preds} {preds.shape}\")\n",
    "        \n",
    "    return loss, accuracy, preds"
   ]
  },
  {
   "cell_type": "code",
   "execution_count": null,
   "metadata": {},
   "outputs": [],
   "source": []
  },
  {
   "cell_type": "markdown",
   "metadata": {},
   "source": [
    "### Training"
   ]
  },
  {
   "cell_type": "markdown",
   "metadata": {},
   "source": [
    "- Fix the seed and save the model.state_dict that contains the initial weight"
   ]
  },
  {
   "cell_type": "code",
   "execution_count": 10,
   "metadata": {},
   "outputs": [],
   "source": [
    "seed = 8787\n",
    "same_seeds(seed)\n",
    "\n",
    "model = GraphSAGE(in_dim=50, hidden_dim=128, out_dim=167)\n",
    "torch.save(model.state_dict(), 'model3_initial(graphsage)/initial_weight.pth')"
   ]
  },
  {
   "cell_type": "code",
   "execution_count": 11,
   "metadata": {},
   "outputs": [
    {
     "data": {
      "text/plain": [
       "Parameter containing:\n",
       "tensor([[-0.1415, -0.1232, -0.2210,  ..., -0.1132,  0.1040,  0.1068],\n",
       "        [ 0.2094, -0.0312,  0.1230,  ..., -0.0153, -0.0057,  0.1573],\n",
       "        [-0.1400,  0.2284, -0.0143,  ..., -0.1863, -0.2516, -0.1591],\n",
       "        ...,\n",
       "        [ 0.1911,  0.0178, -0.2430,  ..., -0.1795, -0.0926, -0.0837],\n",
       "        [ 0.1862,  0.0516,  0.0851,  ...,  0.2165,  0.2184, -0.2323],\n",
       "        [ 0.0705, -0.0225,  0.0456,  ..., -0.0348, -0.0728,  0.2025]],\n",
       "       requires_grad=True)"
      ]
     },
     "execution_count": 11,
     "metadata": {},
     "output_type": "execute_result"
    }
   ],
   "source": [
    "model.layer1.fc_self.weight"
   ]
  },
  {
   "cell_type": "markdown",
   "metadata": {},
   "source": [
    "- Check if model really load the model_dict"
   ]
  },
  {
   "cell_type": "code",
   "execution_count": 12,
   "metadata": {},
   "outputs": [
    {
     "data": {
      "text/plain": [
       "Parameter containing:\n",
       "tensor([[-0.1415, -0.1232, -0.2210,  ..., -0.1132,  0.1040,  0.1068],\n",
       "        [ 0.2094, -0.0312,  0.1230,  ..., -0.0153, -0.0057,  0.1573],\n",
       "        [-0.1400,  0.2284, -0.0143,  ..., -0.1863, -0.2516, -0.1591],\n",
       "        ...,\n",
       "        [ 0.1911,  0.0178, -0.2430,  ..., -0.1795, -0.0926, -0.0837],\n",
       "        [ 0.1862,  0.0516,  0.0851,  ...,  0.2165,  0.2184, -0.2323],\n",
       "        [ 0.0705, -0.0225,  0.0456,  ..., -0.0348, -0.0728,  0.2025]],\n",
       "       requires_grad=True)"
      ]
     },
     "execution_count": 12,
     "metadata": {},
     "output_type": "execute_result"
    }
   ],
   "source": [
    "model = GraphSAGE(in_dim=50, hidden_dim=128, out_dim=167)\n",
    "model.load_state_dict(torch.load('model3_initial(graphsage)/initial_weight.pth'))\n",
    "model.layer1.fc_self.weight"
   ]
  },
  {
   "cell_type": "markdown",
   "metadata": {},
   "source": [
    "### training part\n",
    "- hidden_dim = 128\n",
    "- batch_size = 8"
   ]
  },
  {
   "cell_type": "code",
   "execution_count": null,
   "metadata": {
    "scrolled": true
   },
   "outputs": [
    {
     "data": {
      "application/vnd.jupyter.widget-view+json": {
       "model_id": "38fab9b7c6fa4a068b35649515f6f8cd",
       "version_major": 2,
       "version_minor": 0
      },
      "text/plain": [
       "  0%|          | 0/100 [00:00<?, ?it/s]"
      ]
     },
     "metadata": {},
     "output_type": "display_data"
    },
    {
     "data": {
      "application/vnd.jupyter.widget-view+json": {
       "model_id": "a952daf5c7be4f189a0502ef6d247477",
       "version_major": 2,
       "version_minor": 0
      },
      "text/plain": [
       "Training:   0%|          | 0/16600 [00:00<?, ?it/s]"
      ]
     },
     "metadata": {},
     "output_type": "display_data"
    },
    {
     "name": "stdout",
     "output_type": "stream",
     "text": [
      "09/12/2023, 22:50:20# labels of 5000: tensor([ 34, 100, 143,  58,   7,  33,  17,  50], device='cuda:2') torch.Size([8])\n",
      "09/12/2023, 22:50:20# predicted of 5000: tensor([ 91,  91,  91,  91, 134,  91, 134, 106], device='cuda:2') torch.Size([8])\n",
      "09/12/2023, 22:51:35# labels of 10000: tensor([113,  19, 104, 154,  11,  57,   4,  78], device='cuda:2') torch.Size([8])\n",
      "09/12/2023, 22:51:35# predicted of 10000: tensor([131,  19,  36, 154,  49,  36,  36, 127], device='cuda:2') torch.Size([8])\n",
      "09/12/2023, 22:52:52# labels of 15000: tensor([118, 145,  50, 112, 143,   2, 117, 110], device='cuda:2') torch.Size([8])\n",
      "09/12/2023, 22:52:52# predicted of 15000: tensor([118,  80, 117,  83,  83,  83, 117, 108], device='cuda:2') torch.Size([8])\n",
      "09/12/2023, 22:53:18# total batches: 16600\n",
      "09/12/2023, 22:53:18# Epoch 0 | Train Loss: 3.7291 | Train Accuracy: 0.3031\n"
     ]
    },
    {
     "data": {
      "application/vnd.jupyter.widget-view+json": {
       "model_id": "50b8ab94b524474c8a79acf7c21b5ad5",
       "version_major": 2,
       "version_minor": 0
      },
      "text/plain": [
       "Validation:   0%|          | 0/2075 [00:00<?, ?it/s]"
      ]
     },
     "metadata": {},
     "output_type": "display_data"
    },
    {
     "name": "stdout",
     "output_type": "stream",
     "text": [
      "09/12/2023, 22:53:18# labels of Validation: tensor([114, 151,  84,  64, 131,  55, 119,  98], device='cuda:2') torch.Size([8])\n",
      "09/12/2023, 22:53:18# predicted of Validation: tensor([108,  57,  84, 108, 108,  57,  57,  98], device='cuda:2') torch.Size([8])\n",
      "09/12/2023, 22:53:18# labels of 0: tensor([114, 151,  84,  64, 131,  55, 119,  98], device='cuda:2') torch.Size([8])\n",
      "09/12/2023, 22:53:18# predicted of 0: tensor([108,  57,  84, 108, 108,  57,  57,  98], device='cuda:2') torch.Size([8])\n",
      "09/12/2023, 22:53:29# labels of Validation: tensor([ 77,  63,  71, 131, 163, 152,  26, 145], device='cuda:2') torch.Size([8])\n",
      "09/12/2023, 22:53:29# predicted of Validation: tensor([ 77,  63,  71, 108,  57,  57,  26, 145], device='cuda:2') torch.Size([8])\n",
      "09/12/2023, 22:53:41# labels of Validation: tensor([ 56,  66, 134,  74,  81, 151, 163,  44], device='cuda:2') torch.Size([8])\n",
      "09/12/2023, 22:53:41# predicted of Validation: tensor([ 56,  66, 134,  57,  57,  57,  57,  57], device='cuda:2') torch.Size([8])\n",
      "09/12/2023, 22:53:42# Validation Loss: 2.7545 | Validation Accuracy: 0.5048\n",
      "\n",
      "09/12/2023, 22:53:42# Find a better model!!\n"
     ]
    },
    {
     "data": {
      "application/vnd.jupyter.widget-view+json": {
       "model_id": "ff1e0d2d0d094acdb014a8798f682771",
       "version_major": 2,
       "version_minor": 0
      },
      "text/plain": [
       "Training:   0%|          | 0/16600 [00:00<?, ?it/s]"
      ]
     },
     "metadata": {},
     "output_type": "display_data"
    },
    {
     "name": "stdout",
     "output_type": "stream",
     "text": [
      "09/12/2023, 22:54:59# labels of 5000: tensor([ 17,  44, 128, 109,  55,  88,  82, 155], device='cuda:2') torch.Size([8])\n",
      "09/12/2023, 22:54:59# predicted of 5000: tensor([ 17,  60, 128,  60, 151, 131,  82, 155], device='cuda:2') torch.Size([8])\n",
      "09/12/2023, 22:56:16# labels of 10000: tensor([109, 118, 119, 126,  32,  37,  58, 137], device='cuda:2') torch.Size([8])\n",
      "09/12/2023, 22:56:16# predicted of 10000: tensor([ 54, 118,  54, 126,  32,  37,  58, 137], device='cuda:2') torch.Size([8])\n",
      "09/12/2023, 22:57:32# labels of 15000: tensor([ 50, 101,  62,  89,  64,  72, 159, 141], device='cuda:2') torch.Size([8])\n",
      "09/12/2023, 22:57:32# predicted of 15000: tensor([ 50, 101,  62,  89,  91,  94, 159, 141], device='cuda:2') torch.Size([8])\n",
      "09/12/2023, 22:57:58# total batches: 16600\n",
      "09/12/2023, 22:57:58# Epoch 1 | Train Loss: 2.1564 | Train Accuracy: 0.5845\n"
     ]
    },
    {
     "data": {
      "application/vnd.jupyter.widget-view+json": {
       "model_id": "ed47ce41099346dc96aec30356f07cc3",
       "version_major": 2,
       "version_minor": 0
      },
      "text/plain": [
       "Validation:   0%|          | 0/2075 [00:00<?, ?it/s]"
      ]
     },
     "metadata": {},
     "output_type": "display_data"
    },
    {
     "name": "stdout",
     "output_type": "stream",
     "text": [
      "09/12/2023, 22:57:58# labels of Validation: tensor([109, 126,  76,  48, 100,  89, 137,  97], device='cuda:2') torch.Size([8])\n",
      "09/12/2023, 22:57:58# predicted of Validation: tensor([164, 126, 164,  75, 100,  89, 137, 164], device='cuda:2') torch.Size([8])\n",
      "09/12/2023, 22:57:58# labels of 0: tensor([109, 126,  76,  48, 100,  89, 137,  97], device='cuda:2') torch.Size([8])\n",
      "09/12/2023, 22:57:58# predicted of 0: tensor([164, 126, 164,  75, 100,  89, 137, 164], device='cuda:2') torch.Size([8])\n",
      "09/12/2023, 22:58:09# labels of Validation: tensor([ 64, 116,  19,  53,  71,  24, 108,   1], device='cuda:2') torch.Size([8])\n",
      "09/12/2023, 22:58:09# predicted of Validation: tensor([108, 164,  19,  75,  71, 164, 108, 164], device='cuda:2') torch.Size([8])\n",
      "09/12/2023, 22:58:20# labels of Validation: tensor([ 85,  93, 154, 112, 106,  32, 140,  12], device='cuda:2') torch.Size([8])\n",
      "09/12/2023, 22:58:20# predicted of Validation: tensor([ 85,  59, 154, 164, 106,  32, 140, 164], device='cuda:2') torch.Size([8])\n",
      "09/12/2023, 22:58:21# Validation Loss: 1.7763 | Validation Accuracy: 0.5993\n",
      "\n",
      "09/12/2023, 22:58:21# Find a better model!!\n"
     ]
    },
    {
     "data": {
      "application/vnd.jupyter.widget-view+json": {
       "model_id": "56a30145fbe247a0835010ee6d036f85",
       "version_major": 2,
       "version_minor": 0
      },
      "text/plain": [
       "Training:   0%|          | 0/16600 [00:00<?, ?it/s]"
      ]
     },
     "metadata": {},
     "output_type": "display_data"
    },
    {
     "name": "stdout",
     "output_type": "stream",
     "text": [
      "09/12/2023, 22:59:38# labels of 5000: tensor([ 86,  34,  62, 163,  39,   4,  28, 105], device='cuda:2') torch.Size([8])\n",
      "09/12/2023, 22:59:38# predicted of 5000: tensor([ 86, 142,  62, 142,  39,  53,  28, 105], device='cuda:2') torch.Size([8])\n",
      "09/12/2023, 23:00:56# labels of 10000: tensor([  5,  82, 102, 136,  51,  77,  19, 131], device='cuda:2') torch.Size([8])\n",
      "09/12/2023, 23:00:56# predicted of 10000: tensor([  5,  82, 102, 136,  51,  77,  19, 108], device='cuda:2') torch.Size([8])\n",
      "09/12/2023, 23:02:10# labels of 15000: tensor([158,   2,  70,  66,  73,  97, 121,  47], device='cuda:2') torch.Size([8])\n",
      "09/12/2023, 23:02:10# predicted of 15000: tensor([121, 121,  70,  66,  73, 121, 121,  44], device='cuda:2') torch.Size([8])\n",
      "09/12/2023, 23:02:34# total batches: 16600\n",
      "09/12/2023, 23:02:34# Epoch 2 | Train Loss: 1.6673 | Train Accuracy: 0.6002\n"
     ]
    },
    {
     "data": {
      "application/vnd.jupyter.widget-view+json": {
       "model_id": "35caa6e3e63c4325be550738aa537fa2",
       "version_major": 2,
       "version_minor": 0
      },
      "text/plain": [
       "Validation:   0%|          | 0/2075 [00:00<?, ?it/s]"
      ]
     },
     "metadata": {},
     "output_type": "display_data"
    },
    {
     "name": "stdout",
     "output_type": "stream",
     "text": [
      "09/12/2023, 23:02:34# labels of Validation: tensor([156,  68,  97, 117,  28, 156, 119, 152], device='cuda:2') torch.Size([8])\n",
      "09/12/2023, 23:02:34# predicted of Validation: tensor([156, 110,   2, 117,  28, 156,   2,   2], device='cuda:2') torch.Size([8])\n",
      "09/12/2023, 23:02:34# labels of 0: tensor([156,  68,  97, 117,  28, 156, 119, 152], device='cuda:2') torch.Size([8])\n",
      "09/12/2023, 23:02:34# predicted of 0: tensor([156, 110,   2, 117,  28, 156,   2,   2], device='cuda:2') torch.Size([8])\n",
      "09/12/2023, 23:02:46# labels of Validation: tensor([111,   1,  72, 126, 125, 132, 140, 148], device='cuda:2') torch.Size([8])\n",
      "09/12/2023, 23:02:46# predicted of Validation: tensor([ 74,   2,  79, 126,   2, 132, 140, 148], device='cuda:2') torch.Size([8])\n",
      "09/12/2023, 23:02:57# labels of Validation: tensor([135, 164, 111,  67,  69,  64,  75,  84], device='cuda:2') torch.Size([8])\n",
      "09/12/2023, 23:02:57# predicted of Validation: tensor([135,   2,   2,  67,  69,  68,   2,  84], device='cuda:2') torch.Size([8])\n",
      "09/12/2023, 23:02:58# Validation Loss: 1.6004 | Validation Accuracy: 0.5998\n",
      "\n",
      "09/12/2023, 23:02:58# Find a better model!!\n"
     ]
    },
    {
     "data": {
      "application/vnd.jupyter.widget-view+json": {
       "model_id": "125e310f32244af6850478e60a12356a",
       "version_major": 2,
       "version_minor": 0
      },
      "text/plain": [
       "Training:   0%|          | 0/16600 [00:00<?, ?it/s]"
      ]
     },
     "metadata": {},
     "output_type": "display_data"
    },
    {
     "name": "stdout",
     "output_type": "stream",
     "text": [
      "09/12/2023, 23:04:13# labels of 5000: tensor([ 84, 141,  41, 165,  37,  29,  36, 124], device='cuda:2') torch.Size([8])\n",
      "09/12/2023, 23:04:13# predicted of 5000: tensor([ 84, 141,  41, 165,  37,  29,  97,  97], device='cuda:2') torch.Size([8])\n",
      "09/12/2023, 23:05:29# labels of 10000: tensor([  6,  26,   6, 145, 161, 108, 128,  25], device='cuda:2') torch.Size([8])\n",
      "09/12/2023, 23:05:29# predicted of 10000: tensor([  6,  26,   6, 145, 161, 108, 128,  25], device='cuda:2') torch.Size([8])\n",
      "09/12/2023, 23:06:41# labels of 15000: tensor([ 92,  30, 112,  53, 114, 145,   8, 103], device='cuda:2') torch.Size([8])\n",
      "09/12/2023, 23:06:41# predicted of 15000: tensor([ 48,  60,  60,  60, 108, 145,  93,  93], device='cuda:2') torch.Size([8])\n",
      "09/12/2023, 23:07:05# total batches: 16600\n",
      "09/12/2023, 23:07:05# Epoch 3 | Train Loss: 1.5762 | Train Accuracy: 0.6044\n"
     ]
    },
    {
     "data": {
      "application/vnd.jupyter.widget-view+json": {
       "model_id": "17038cd091324ce086de5a1d1eb31e39",
       "version_major": 2,
       "version_minor": 0
      },
      "text/plain": [
       "Validation:   0%|          | 0/2075 [00:00<?, ?it/s]"
      ]
     },
     "metadata": {},
     "output_type": "display_data"
    },
    {
     "name": "stdout",
     "output_type": "stream",
     "text": [
      "09/12/2023, 23:07:05# labels of Validation: tensor([156,  35,  56, 104, 121,  72, 135, 127], device='cuda:2') torch.Size([8])\n",
      "09/12/2023, 23:07:05# predicted of Validation: tensor([156,  35,  56,  33,  33,  72, 135, 127], device='cuda:2') torch.Size([8])\n",
      "09/12/2023, 23:07:05# labels of 0: tensor([156,  35,  56, 104, 121,  72, 135, 127], device='cuda:2') torch.Size([8])\n",
      "09/12/2023, 23:07:05# predicted of 0: tensor([156,  35,  56,  33,  33,  72, 135, 127], device='cuda:2') torch.Size([8])\n",
      "09/12/2023, 23:07:16# labels of Validation: tensor([150, 110, 109, 142, 130,  94,  97,  24], device='cuda:2') torch.Size([8])\n",
      "09/12/2023, 23:07:16# predicted of Validation: tensor([ 33,  91,  33,  33, 130,  94,   9,  33], device='cuda:2') torch.Size([8])\n",
      "09/12/2023, 23:07:27# labels of Validation: tensor([123, 119,   4,  42,  19, 161,  52,  69], device='cuda:2') torch.Size([8])\n",
      "09/12/2023, 23:07:27# predicted of Validation: tensor([123,  53,  53,  33,  19, 161,  52,  69], device='cuda:2') torch.Size([8])\n",
      "09/12/2023, 23:07:28# Validation Loss: 1.5569 | Validation Accuracy: 0.6061\n",
      "\n",
      "09/12/2023, 23:07:28# Find a better model!!\n"
     ]
    },
    {
     "data": {
      "application/vnd.jupyter.widget-view+json": {
       "model_id": "366350bfce9b42239d7617c73444af0e",
       "version_major": 2,
       "version_minor": 0
      },
      "text/plain": [
       "Training:   0%|          | 0/16600 [00:00<?, ?it/s]"
      ]
     },
     "metadata": {},
     "output_type": "display_data"
    },
    {
     "name": "stdout",
     "output_type": "stream",
     "text": [
      "09/12/2023, 23:08:43# labels of 5000: tensor([ 43, 117, 161,  17, 141,  74,  54,  96], device='cuda:2') torch.Size([8])\n",
      "09/12/2023, 23:08:43# predicted of 5000: tensor([ 43, 117, 161,  17, 141,  76, 125,  96], device='cuda:2') torch.Size([8])\n",
      "09/12/2023, 23:10:00# labels of 10000: tensor([ 54,  76, 133,  20, 154, 122,  58,  50], device='cuda:2') torch.Size([8])\n",
      "09/12/2023, 23:10:00# predicted of 10000: tensor([ 24,  24, 133,  20, 154, 122,  58,  50], device='cuda:2') torch.Size([8])\n",
      "09/12/2023, 23:11:15# labels of 15000: tensor([ 40,  61,  20,  57, 109, 162,   6, 148], device='cuda:2') torch.Size([8])\n",
      "09/12/2023, 23:11:15# predicted of 15000: tensor([ 40,  61,  20,  81,  81,  81,   6, 148], device='cuda:2') torch.Size([8])\n",
      "09/12/2023, 23:11:41# total batches: 16600\n",
      "09/12/2023, 23:11:41# Epoch 4 | Train Loss: 1.5456 | Train Accuracy: 0.6060\n"
     ]
    },
    {
     "data": {
      "application/vnd.jupyter.widget-view+json": {
       "model_id": "c4e95080338244e6bc667c32a91a8705",
       "version_major": 2,
       "version_minor": 0
      },
      "text/plain": [
       "Validation:   0%|          | 0/2075 [00:00<?, ?it/s]"
      ]
     },
     "metadata": {},
     "output_type": "display_data"
    },
    {
     "name": "stdout",
     "output_type": "stream",
     "text": [
      "09/12/2023, 23:11:41# labels of Validation: tensor([116, 142, 138,   4,  95, 108,  17,  47], device='cuda:2') torch.Size([8])\n",
      "09/12/2023, 23:11:41# predicted of Validation: tensor([ 53,  18, 138, 150,  95, 108,  17,  11], device='cuda:2') torch.Size([8])\n",
      "09/12/2023, 23:11:41# labels of 0: tensor([116, 142, 138,   4,  95, 108,  17,  47], device='cuda:2') torch.Size([8])\n",
      "09/12/2023, 23:11:41# predicted of 0: tensor([ 53,  18, 138, 150,  95, 108,  17,  11], device='cuda:2') torch.Size([8])\n",
      "09/12/2023, 23:11:52# labels of Validation: tensor([ 18,  67, 144, 144, 126,  44, 125,  31], device='cuda:2') torch.Size([8])\n",
      "09/12/2023, 23:11:52# predicted of Validation: tensor([ 11,  78,  11, 124, 126,  18, 142,  11], device='cuda:2') torch.Size([8])\n",
      "09/12/2023, 23:12:03# labels of Validation: tensor([ 17, 151,  75,   1, 113, 163,  82,  56], device='cuda:2') torch.Size([8])\n",
      "09/12/2023, 23:12:03# predicted of Validation: tensor([17, 11, 11, 11, 59, 11, 82, 56], device='cuda:2') torch.Size([8])\n",
      "09/12/2023, 23:12:04# Validation Loss: 1.5368 | Validation Accuracy: 0.6065\n",
      "\n",
      "09/12/2023, 23:12:04# Find a better model!!\n"
     ]
    },
    {
     "data": {
      "application/vnd.jupyter.widget-view+json": {
       "model_id": "ccc808d50cf441d5acb5d400ce3789ac",
       "version_major": 2,
       "version_minor": 0
      },
      "text/plain": [
       "Training:   0%|          | 0/16600 [00:00<?, ?it/s]"
      ]
     },
     "metadata": {},
     "output_type": "display_data"
    },
    {
     "name": "stdout",
     "output_type": "stream",
     "text": [
      "09/12/2023, 23:13:17# labels of 5000: tensor([157, 106,  24,  72,  49,  37,  45, 128], device='cuda:2') torch.Size([8])\n",
      "09/12/2023, 23:13:17# predicted of 5000: tensor([ 92, 106,  38,  72,  92,  37,  45, 128], device='cuda:2') torch.Size([8])\n",
      "09/12/2023, 23:14:32# labels of 10000: tensor([121, 153, 144, 103, 118, 163, 128,  12], device='cuda:2') torch.Size([8])\n",
      "09/12/2023, 23:14:32# predicted of 10000: tensor([151, 153, 151,  64, 118,  31, 128, 151], device='cuda:2') torch.Size([8])\n",
      "09/12/2023, 23:15:47# labels of 15000: tensor([ 91,  12, 103, 109,  80, 143, 125, 155], device='cuda:2') torch.Size([8])\n",
      "09/12/2023, 23:15:47# predicted of 15000: tensor([ 59, 104, 110,  81,  80, 104, 142, 155], device='cuda:2') torch.Size([8])\n",
      "09/12/2023, 23:16:09# total batches: 16600\n",
      "09/12/2023, 23:16:09# Epoch 5 | Train Loss: 1.5292 | Train Accuracy: 0.6079\n"
     ]
    },
    {
     "data": {
      "application/vnd.jupyter.widget-view+json": {
       "model_id": "1daee02b60ed48ef9bf8a2630d937dc2",
       "version_major": 2,
       "version_minor": 0
      },
      "text/plain": [
       "Validation:   0%|          | 0/2075 [00:00<?, ?it/s]"
      ]
     },
     "metadata": {},
     "output_type": "display_data"
    },
    {
     "name": "stdout",
     "output_type": "stream",
     "text": [
      "09/12/2023, 23:16:09# labels of Validation: tensor([142,  28,  42,  67,  12,  16,  90,  57], device='cuda:2') torch.Size([8])\n",
      "09/12/2023, 23:16:09# predicted of Validation: tensor([152,  28,   1,  78, 152,  16, 114,   1], device='cuda:2') torch.Size([8])\n",
      "09/12/2023, 23:16:09# labels of 0: tensor([142,  28,  42,  67,  12,  16,  90,  57], device='cuda:2') torch.Size([8])\n",
      "09/12/2023, 23:16:09# predicted of 0: tensor([152,  28,   1,  78, 152,  16, 114,   1], device='cuda:2') torch.Size([8])\n",
      "09/12/2023, 23:16:21# labels of Validation: tensor([ 43,  34, 143,  59, 108,  70, 105, 149], device='cuda:2') torch.Size([8])\n",
      "09/12/2023, 23:16:21# predicted of Validation: tensor([ 43, 124, 152, 108, 131,  70, 105, 149], device='cuda:2') torch.Size([8])\n",
      "09/12/2023, 23:16:32# labels of Validation: tensor([ 36,  68,  79,  54, 101,  35,   7,  25], device='cuda:2') torch.Size([8])\n",
      "09/12/2023, 23:16:32# predicted of Validation: tensor([124,  91,  79, 152, 101,  35,   7,  25], device='cuda:2') torch.Size([8])\n",
      "09/12/2023, 23:16:33# Validation Loss: 1.5245 | Validation Accuracy: 0.6068\n",
      "\n",
      "09/12/2023, 23:16:33# Find a better model!!\n"
     ]
    },
    {
     "data": {
      "application/vnd.jupyter.widget-view+json": {
       "model_id": "d7e150cb510e415c8b989866a6be0b12",
       "version_major": 2,
       "version_minor": 0
      },
      "text/plain": [
       "Training:   0%|          | 0/16600 [00:00<?, ?it/s]"
      ]
     },
     "metadata": {},
     "output_type": "display_data"
    },
    {
     "name": "stdout",
     "output_type": "stream",
     "text": [
      "09/12/2023, 23:17:48# labels of 5000: tensor([ 25,   3,  89, 115,  80,  25,  71, 162], device='cuda:2') torch.Size([8])\n",
      "09/12/2023, 23:17:48# predicted of 5000: tensor([ 25,   3,  89, 115,  80,  25,  71,  31], device='cuda:2') torch.Size([8])\n",
      "09/12/2023, 23:19:04# labels of 10000: tensor([134,   1,  97, 133,  20, 137,  86, 120], device='cuda:2') torch.Size([8])\n",
      "09/12/2023, 23:19:04# predicted of 10000: tensor([134, 111, 112, 133,  20, 137,  86, 120], device='cuda:2') torch.Size([8])\n",
      "09/12/2023, 23:20:16# labels of 15000: tensor([138,  68, 134,  97, 116, 164, 145, 154], device='cuda:2') torch.Size([8])\n",
      "09/12/2023, 23:20:16# predicted of 15000: tensor([138, 114, 134, 109,  34, 109, 145, 154], device='cuda:2') torch.Size([8])\n",
      "09/12/2023, 23:20:39# total batches: 16600\n",
      "09/12/2023, 23:20:39# Epoch 6 | Train Loss: 1.5187 | Train Accuracy: 0.6090\n"
     ]
    },
    {
     "data": {
      "application/vnd.jupyter.widget-view+json": {
       "model_id": "aa46f33b94f049bc92cf2b8b4d867f0d",
       "version_major": 2,
       "version_minor": 0
      },
      "text/plain": [
       "Validation:   0%|          | 0/2075 [00:00<?, ?it/s]"
      ]
     },
     "metadata": {},
     "output_type": "display_data"
    },
    {
     "name": "stdout",
     "output_type": "stream",
     "text": [
      "09/12/2023, 23:20:39# labels of Validation: tensor([ 86, 136, 162,  39,  87,  27,  52, 157], device='cuda:2') torch.Size([8])\n",
      "09/12/2023, 23:20:39# predicted of Validation: tensor([ 86, 136,  18,  39,  53,  27,  52,  18], device='cuda:2') torch.Size([8])\n",
      "09/12/2023, 23:20:39# labels of 0: tensor([ 86, 136, 162,  39,  87,  27,  52, 157], device='cuda:2') torch.Size([8])\n",
      "09/12/2023, 23:20:39# predicted of 0: tensor([ 86, 136,  18,  39,  53,  27,  52,  18], device='cuda:2') torch.Size([8])\n",
      "09/12/2023, 23:20:50# labels of Validation: tensor([109,  43, 108, 104, 126, 154, 116, 105], device='cuda:2') torch.Size([8])\n",
      "09/12/2023, 23:20:50# predicted of Validation: tensor([ 18,  43, 108,  18, 126, 154,  18, 105], device='cuda:2') torch.Size([8])\n",
      "09/12/2023, 23:21:02# labels of Validation: tensor([ 93,  70, 151, 153, 142, 106, 140,  89], device='cuda:2') torch.Size([8])\n",
      "09/12/2023, 23:21:02# predicted of Validation: tensor([  8,  70,  18, 153,  18, 106, 140,  89], device='cuda:2') torch.Size([8])\n",
      "09/12/2023, 23:21:02# Validation Loss: 1.5161 | Validation Accuracy: 0.6077\n",
      "\n",
      "09/12/2023, 23:21:02# Find a better model!!\n"
     ]
    },
    {
     "data": {
      "application/vnd.jupyter.widget-view+json": {
       "model_id": "2334ac9a77b14b25a279c26a5d892fa4",
       "version_major": 2,
       "version_minor": 0
      },
      "text/plain": [
       "Training:   0%|          | 0/16600 [00:00<?, ?it/s]"
      ]
     },
     "metadata": {},
     "output_type": "display_data"
    },
    {
     "name": "stdout",
     "output_type": "stream",
     "text": [
      "09/12/2023, 23:22:19# labels of 5000: tensor([ 16,  94,  28,  39,  21,  23, 113, 158], device='cuda:2') torch.Size([8])\n",
      "09/12/2023, 23:22:19# predicted of 5000: tensor([ 16,  94,  28,  39,  21,  23, 113,   9], device='cuda:2') torch.Size([8])\n",
      "09/12/2023, 23:23:36# labels of 10000: tensor([112, 143,  27, 157,  80,  32, 130, 108], device='cuda:2') torch.Size([8])\n",
      "09/12/2023, 23:23:36# predicted of 10000: tensor([ 42,  74,  27, 112,  80,  32, 130, 131], device='cuda:2') torch.Size([8])\n",
      "09/12/2023, 23:24:49# labels of 15000: tensor([104,  37, 108,  33, 154, 125,  40, 135], device='cuda:2') torch.Size([8])\n",
      "09/12/2023, 23:24:49# predicted of 15000: tensor([ 54,  37, 131,  54, 154, 157,  40, 135], device='cuda:2') torch.Size([8])\n",
      "09/12/2023, 23:25:15# total batches: 16600\n",
      "09/12/2023, 23:25:15# Epoch 7 | Train Loss: 1.5119 | Train Accuracy: 0.6091\n"
     ]
    },
    {
     "data": {
      "application/vnd.jupyter.widget-view+json": {
       "model_id": "09beaa51381a4d019a78150c3699a41d",
       "version_major": 2,
       "version_minor": 0
      },
      "text/plain": [
       "Validation:   0%|          | 0/2075 [00:00<?, ?it/s]"
      ]
     },
     "metadata": {},
     "output_type": "display_data"
    },
    {
     "name": "stdout",
     "output_type": "stream",
     "text": [
      "09/12/2023, 23:25:15# labels of Validation: tensor([ 30,  57, 127, 127,  51,  32, 138,  87], device='cuda:2') torch.Size([8])\n",
      "09/12/2023, 23:25:15# predicted of Validation: tensor([ 49,  49, 127, 127,  51,  32, 138, 152], device='cuda:2') torch.Size([8])\n",
      "09/12/2023, 23:25:15# labels of 0: tensor([ 30,  57, 127, 127,  51,  32, 138,  87], device='cuda:2') torch.Size([8])\n",
      "09/12/2023, 23:25:15# predicted of 0: tensor([ 49,  49, 127, 127,  51,  32, 138, 152], device='cuda:2') torch.Size([8])\n",
      "09/12/2023, 23:25:26# labels of Validation: tensor([ 48, 146,  89, 139, 100, 102, 141, 166], device='cuda:2') torch.Size([8])\n",
      "09/12/2023, 23:25:26# predicted of Validation: tensor([ 54, 146,  89, 139, 100, 102, 141, 166], device='cuda:2') torch.Size([8])\n",
      "09/12/2023, 23:25:37# labels of Validation: tensor([ 91, 114, 160,  63, 132,  11,  87,  55], device='cuda:2') torch.Size([8])\n",
      "09/12/2023, 23:25:37# predicted of Validation: tensor([108,   8, 160,  63, 132,  54,  54,  54], device='cuda:2') torch.Size([8])\n",
      "09/12/2023, 23:25:38# Validation Loss: 1.5108 | Validation Accuracy: 0.6085\n",
      "\n",
      "09/12/2023, 23:25:38# Find a better model!!\n"
     ]
    },
    {
     "data": {
      "application/vnd.jupyter.widget-view+json": {
       "model_id": "a96cfbfc64dc4355a0f7039201eb4928",
       "version_major": 2,
       "version_minor": 0
      },
      "text/plain": [
       "Training:   0%|          | 0/16600 [00:00<?, ?it/s]"
      ]
     },
     "metadata": {},
     "output_type": "display_data"
    },
    {
     "name": "stdout",
     "output_type": "stream",
     "text": [
      "09/12/2023, 23:26:54# labels of 5000: tensor([ 91,  27,  75,  28,  94, 103,  90,  13], device='cuda:2') torch.Size([8])\n",
      "09/12/2023, 23:26:54# predicted of 5000: tensor([108,  27, 150,  28,  94, 114, 114,  13], device='cuda:2') torch.Size([8])\n",
      "09/12/2023, 23:28:10# labels of 10000: tensor([  5,  54, 141,  35,  62,  51,  52,  40], device='cuda:2') torch.Size([8])\n",
      "09/12/2023, 23:28:10# predicted of 10000: tensor([  5,  49, 141,  35,  62,  51,  52,  40], device='cuda:2') torch.Size([8])\n",
      "09/12/2023, 23:29:26# labels of 15000: tensor([125, 109, 133,  45,  71,  53,  99, 109], device='cuda:2') torch.Size([8])\n",
      "09/12/2023, 23:29:26# predicted of 15000: tensor([144, 162, 133,  45,  71, 150,  99,   9], device='cuda:2') torch.Size([8])\n",
      "09/12/2023, 23:29:51# total batches: 16600\n",
      "09/12/2023, 23:29:51# Epoch 8 | Train Loss: 1.5075 | Train Accuracy: 0.6106\n"
     ]
    },
    {
     "data": {
      "application/vnd.jupyter.widget-view+json": {
       "model_id": "7ee9150ec6b041b8bfc183a38821139c",
       "version_major": 2,
       "version_minor": 0
      },
      "text/plain": [
       "Validation:   0%|          | 0/2075 [00:00<?, ?it/s]"
      ]
     },
     "metadata": {},
     "output_type": "display_data"
    },
    {
     "name": "stdout",
     "output_type": "stream",
     "text": [
      "09/12/2023, 23:29:51# labels of Validation: tensor([ 60,  85,  84,  63, 144,  69,  48, 166], device='cuda:2') torch.Size([8])\n",
      "09/12/2023, 23:29:51# predicted of Validation: tensor([125,  85,  84,  63,  92,  69,  60, 166], device='cuda:2') torch.Size([8])\n",
      "09/12/2023, 23:29:51# labels of 0: tensor([ 60,  85,  84,  63, 144,  69,  48, 166], device='cuda:2') torch.Size([8])\n",
      "09/12/2023, 23:29:51# predicted of 0: tensor([125,  85,  84,  63,  92,  69,  60, 166], device='cuda:2') torch.Size([8])\n",
      "09/12/2023, 23:30:02# labels of Validation: tensor([ 11,  14,   4, 153, 105,  49, 124, 125], device='cuda:2') torch.Size([8])\n",
      "09/12/2023, 23:30:02# predicted of Validation: tensor([  2,   2,  60, 153, 105,  60,  92, 152], device='cuda:2') torch.Size([8])\n",
      "09/12/2023, 23:30:13# labels of Validation: tensor([  0,  32, 131, 150,  68,  19,  65, 129], device='cuda:2') torch.Size([8])\n",
      "09/12/2023, 23:30:13# predicted of Validation: tensor([  0,  32, 131,   2,  88,  19,  65, 129], device='cuda:2') torch.Size([8])\n",
      "09/12/2023, 23:30:14# Validation Loss: 1.5085 | Validation Accuracy: 0.6102\n",
      "\n",
      "09/12/2023, 23:30:14# Find a better model!!\n"
     ]
    },
    {
     "data": {
      "application/vnd.jupyter.widget-view+json": {
       "model_id": "bc0dfc9ca22b413f968ed131ee825df0",
       "version_major": 2,
       "version_minor": 0
      },
      "text/plain": [
       "Training:   0%|          | 0/16600 [00:00<?, ?it/s]"
      ]
     },
     "metadata": {},
     "output_type": "display_data"
    },
    {
     "name": "stdout",
     "output_type": "stream",
     "text": [
      "09/12/2023, 23:31:29# labels of 5000: tensor([112, 133,  20,  53, 132,  14, 116, 129], device='cuda:2') torch.Size([8])\n",
      "09/12/2023, 23:31:29# predicted of 5000: tensor([ 92, 133,  20,   2, 132, 152, 152, 129], device='cuda:2') torch.Size([8])\n",
      "09/12/2023, 23:32:41# labels of 10000: tensor([131,  43,  28,  66,  37,  63, 138, 160], device='cuda:2') torch.Size([8])\n",
      "09/12/2023, 23:32:41# predicted of 10000: tensor([108,  43,  28,  66,  37,  63, 138, 160], device='cuda:2') torch.Size([8])\n",
      "09/12/2023, 23:33:57# labels of 15000: tensor([102, 139,  23, 122,  91,  54,  68,  33], device='cuda:2') torch.Size([8])\n",
      "09/12/2023, 23:33:57# predicted of 15000: tensor([102, 139,  23, 122, 108,  12, 110,  49], device='cuda:2') torch.Size([8])\n",
      "09/12/2023, 23:34:19# total batches: 16600\n",
      "09/12/2023, 23:34:19# Epoch 9 | Train Loss: 1.5057 | Train Accuracy: 0.6108\n"
     ]
    },
    {
     "data": {
      "application/vnd.jupyter.widget-view+json": {
       "model_id": "a0f7f18d64d349d498e42975af0b911b",
       "version_major": 2,
       "version_minor": 0
      },
      "text/plain": [
       "Validation:   0%|          | 0/2075 [00:00<?, ?it/s]"
      ]
     },
     "metadata": {},
     "output_type": "display_data"
    },
    {
     "name": "stdout",
     "output_type": "stream",
     "text": [
      "09/12/2023, 23:34:19# labels of Validation: tensor([162, 124, 114, 108, 104, 141, 161,  27], device='cuda:2') torch.Size([8])\n",
      "09/12/2023, 23:34:19# predicted of Validation: tensor([ 12,  49, 110, 131,  48, 141, 161,  27], device='cuda:2') torch.Size([8])\n",
      "09/12/2023, 23:34:19# labels of 0: tensor([162, 124, 114, 108, 104, 141, 161,  27], device='cuda:2') torch.Size([8])\n",
      "09/12/2023, 23:34:19# predicted of 0: tensor([ 12,  49, 110, 131,  48, 141, 161,  27], device='cuda:2') torch.Size([8])\n",
      "09/12/2023, 23:34:30# labels of Validation: tensor([ 66, 155, 139,  94,  83, 137,  89, 103], device='cuda:2') torch.Size([8])\n",
      "09/12/2023, 23:34:30# predicted of Validation: tensor([ 66, 155, 139,  94,  42, 137,  89, 103], device='cuda:2') torch.Size([8])\n",
      "09/12/2023, 23:34:41# labels of Validation: tensor([ 85, 150,  32, 113,  40,  90,   4,  94], device='cuda:2') torch.Size([8])\n",
      "09/12/2023, 23:34:41# predicted of Validation: tensor([ 85, 112,  32,   8,  40,   8,  74,  94], device='cuda:2') torch.Size([8])\n",
      "09/12/2023, 23:34:42# Validation Loss: 1.5070 | Validation Accuracy: 0.6096\n",
      "\n",
      "09/12/2023, 23:34:42# Find a better model!!\n"
     ]
    },
    {
     "data": {
      "application/vnd.jupyter.widget-view+json": {
       "model_id": "5b83a665001241549fe384e658dd5aef",
       "version_major": 2,
       "version_minor": 0
      },
      "text/plain": [
       "Training:   0%|          | 0/16600 [00:00<?, ?it/s]"
      ]
     },
     "metadata": {},
     "output_type": "display_data"
    },
    {
     "name": "stdout",
     "output_type": "stream",
     "text": [
      "09/12/2023, 23:35:51# labels of 5000: tensor([  5,  87, 154,  52, 133, 119, 157,  45], device='cuda:2') torch.Size([8])\n",
      "09/12/2023, 23:35:51# predicted of 5000: tensor([  5,  74, 154,  52, 133,  81, 163,  45], device='cuda:2') torch.Size([8])\n",
      "09/12/2023, 23:37:08# labels of 10000: tensor([119,   3,  18,  12,   3,  90,  41, 126], device='cuda:2') torch.Size([8])\n",
      "09/12/2023, 23:37:08# predicted of 10000: tensor([152,   3, 164,  74,   3, 114,  41, 126], device='cuda:2') torch.Size([8])\n",
      "09/12/2023, 23:38:24# labels of 15000: tensor([158, 103,  73,  61, 144, 101,  17,  39], device='cuda:2') torch.Size([8])\n",
      "09/12/2023, 23:38:24# predicted of 15000: tensor([  1,   8,  73,  61, 142, 101,  17,  39], device='cuda:2') torch.Size([8])\n",
      "09/12/2023, 23:38:49# total batches: 16600\n",
      "09/12/2023, 23:38:49# Epoch 10 | Train Loss: 1.5049 | Train Accuracy: 0.6103\n"
     ]
    },
    {
     "data": {
      "application/vnd.jupyter.widget-view+json": {
       "model_id": "8c56fc06c9194819b2a946d5ae496e0a",
       "version_major": 2,
       "version_minor": 0
      },
      "text/plain": [
       "Validation:   0%|          | 0/2075 [00:00<?, ?it/s]"
      ]
     },
     "metadata": {},
     "output_type": "display_data"
    },
    {
     "name": "stdout",
     "output_type": "stream",
     "text": [
      "09/12/2023, 23:38:49# labels of Validation: tensor([122,  40, 146,  64,  63,  51,   0,  71], device='cuda:2') torch.Size([8])\n",
      "09/12/2023, 23:38:49# predicted of Validation: tensor([122,  40, 146, 110,  63,  51,   0,  71], device='cuda:2') torch.Size([8])\n",
      "09/12/2023, 23:38:49# labels of 0: tensor([122,  40, 146,  64,  63,  51,   0,  71], device='cuda:2') torch.Size([8])\n",
      "09/12/2023, 23:38:49# predicted of 0: tensor([122,  40, 146, 110,  63,  51,   0,  71], device='cuda:2') torch.Size([8])\n",
      "09/12/2023, 23:39:00# labels of Validation: tensor([  8,  72,   2,  65,  48,  76, 135, 143], device='cuda:2') torch.Size([8])\n",
      "09/12/2023, 23:39:00# predicted of Validation: tensor([ 59,  72, 164,  65,  81, 152, 135,  38], device='cuda:2') torch.Size([8])\n",
      "09/12/2023, 23:39:11# labels of Validation: tensor([ 49,  91,  28,  33, 117,  36,  28, 161], device='cuda:2') torch.Size([8])\n",
      "09/12/2023, 23:39:11# predicted of Validation: tensor([150,  91,  28,  47, 117,  12,  28, 161], device='cuda:2') torch.Size([8])\n",
      "09/12/2023, 23:39:12# Validation Loss: 1.5070 | Validation Accuracy: 0.6096\n",
      "\n"
     ]
    },
    {
     "data": {
      "application/vnd.jupyter.widget-view+json": {
       "model_id": "d8bbc453f48c4bdb9b6d6fb3a08f7527",
       "version_major": 2,
       "version_minor": 0
      },
      "text/plain": [
       "Training:   0%|          | 0/16600 [00:00<?, ?it/s]"
      ]
     },
     "metadata": {},
     "output_type": "display_data"
    },
    {
     "name": "stdout",
     "output_type": "stream",
     "text": [
      "09/12/2023, 23:40:29# labels of 5000: tensor([ 73, 146,  31, 154,  25, 162, 146,  40], device='cuda:2') torch.Size([8])\n",
      "09/12/2023, 23:40:29# predicted of 5000: tensor([ 73, 146, 109, 154,  25, 124, 146,  40], device='cuda:2') torch.Size([8])\n",
      "09/12/2023, 23:41:46# labels of 10000: tensor([131, 144,  89,   3, 141, 109,  32, 134], device='cuda:2') torch.Size([8])\n",
      "09/12/2023, 23:41:46# predicted of 10000: tensor([131,  33,  89,   3, 141, 150,  32, 134], device='cuda:2') torch.Size([8])\n",
      "09/12/2023, 23:42:58# labels of 15000: tensor([ 18, 165, 162,  35,  82, 130,  15, 138], device='cuda:2') torch.Size([8])\n",
      "09/12/2023, 23:42:58# predicted of 15000: tensor([ 18, 165, 150,  35,  82, 130,  15, 138], device='cuda:2') torch.Size([8])\n",
      "09/12/2023, 23:43:22# total batches: 16600\n",
      "09/12/2023, 23:43:22# Epoch 11 | Train Loss: 1.5051 | Train Accuracy: 0.6101\n"
     ]
    },
    {
     "data": {
      "application/vnd.jupyter.widget-view+json": {
       "model_id": "c8cdf44546ed48ba90831e95978b88ba",
       "version_major": 2,
       "version_minor": 0
      },
      "text/plain": [
       "Validation:   0%|          | 0/2075 [00:00<?, ?it/s]"
      ]
     },
     "metadata": {},
     "output_type": "display_data"
    },
    {
     "name": "stdout",
     "output_type": "stream",
     "text": [
      "09/12/2023, 23:43:22# labels of Validation: tensor([109,  84, 146,  87, 101, 131,  58,  85], device='cuda:2') torch.Size([8])\n",
      "09/12/2023, 23:43:22# predicted of Validation: tensor([ 12,  84, 146,  81, 101, 131,  58,  85], device='cuda:2') torch.Size([8])\n",
      "09/12/2023, 23:43:22# labels of 0: tensor([109,  84, 146,  87, 101, 131,  58,  85], device='cuda:2') torch.Size([8])\n",
      "09/12/2023, 23:43:22# predicted of 0: tensor([ 12,  84, 146,  81, 101, 131,  58,  85], device='cuda:2') torch.Size([8])\n",
      "09/12/2023, 23:43:34# labels of Validation: tensor([ 72, 112,  11,  10, 134,  96, 130,  52], device='cuda:2') torch.Size([8])\n",
      "09/12/2023, 23:43:34# predicted of Validation: tensor([ 72,  30,  74,  10, 134,  96, 130,  52], device='cuda:2') torch.Size([8])\n",
      "09/12/2023, 23:43:45# labels of Validation: tensor([108,  34,  32,  52,  66, 136,  82, 102], device='cuda:2') torch.Size([8])\n",
      "09/12/2023, 23:43:45# predicted of Validation: tensor([131,  60,  32,  52,  66, 136,  82, 102], device='cuda:2') torch.Size([8])\n",
      "09/12/2023, 23:43:46# Validation Loss: 1.5067 | Validation Accuracy: 0.6091\n",
      "\n",
      "09/12/2023, 23:43:46# Find a better model!!\n"
     ]
    },
    {
     "data": {
      "application/vnd.jupyter.widget-view+json": {
       "model_id": "94639456f02d455f90b4638238994601",
       "version_major": 2,
       "version_minor": 0
      },
      "text/plain": [
       "Training:   0%|          | 0/16600 [00:00<?, ?it/s]"
      ]
     },
     "metadata": {},
     "output_type": "display_data"
    },
    {
     "name": "stdout",
     "output_type": "stream",
     "text": [
      "09/12/2023, 23:45:04# labels of 5000: tensor([ 73, 161,  15, 100,  56,  60,  46, 163], device='cuda:2') torch.Size([8])\n",
      "09/12/2023, 23:45:04# predicted of 5000: tensor([ 73, 161,  15, 100,  56, 119,  46,  30], device='cuda:2') torch.Size([8])\n",
      "09/12/2023, 23:46:22# labels of 10000: tensor([147,   7, 114, 135, 120,  85, 160,  41], device='cuda:2') torch.Size([8])\n",
      "09/12/2023, 23:46:22# predicted of 10000: tensor([147,   7,  93, 135, 120,  85, 160,  41], device='cuda:2') torch.Size([8])\n",
      "09/12/2023, 23:47:40# labels of 15000: tensor([ 84, 150, 128, 127,  21,  49,  98,  67], device='cuda:2') torch.Size([8])\n",
      "09/12/2023, 23:47:40# predicted of 15000: tensor([ 84, 150, 128, 127,  21, 143,  98,  67], device='cuda:2') torch.Size([8])\n",
      "09/12/2023, 23:48:05# total batches: 16600\n",
      "09/12/2023, 23:48:05# Epoch 12 | Train Loss: 1.5053 | Train Accuracy: 0.6102\n"
     ]
    },
    {
     "data": {
      "application/vnd.jupyter.widget-view+json": {
       "model_id": "10f9e94b9c7547ab965cd1d65dd636fc",
       "version_major": 2,
       "version_minor": 0
      },
      "text/plain": [
       "Validation:   0%|          | 0/2075 [00:00<?, ?it/s]"
      ]
     },
     "metadata": {},
     "output_type": "display_data"
    },
    {
     "name": "stdout",
     "output_type": "stream",
     "text": [
      "09/12/2023, 23:48:05# labels of Validation: tensor([ 95, 162,  25,  13, 163, 164,  64,  23], device='cuda:2') torch.Size([8])\n",
      "09/12/2023, 23:48:05# predicted of Validation: tensor([ 95,  47,  25,  13, 150, 150, 114,  23], device='cuda:2') torch.Size([8])\n",
      "09/12/2023, 23:48:05# labels of 0: tensor([ 95, 162,  25,  13, 163, 164,  64,  23], device='cuda:2') torch.Size([8])\n",
      "09/12/2023, 23:48:05# predicted of 0: tensor([ 95,  47,  25,  13, 150, 150, 114,  23], device='cuda:2') torch.Size([8])\n",
      "09/12/2023, 23:48:17# labels of Validation: tensor([ 39,  37, 139,  14,   0,  16,  90,  50], device='cuda:2') torch.Size([8])\n",
      "09/12/2023, 23:48:17# predicted of Validation: tensor([ 39,  37, 139,  36,   0,  16,  91,  50], device='cuda:2') torch.Size([8])\n",
      "09/12/2023, 23:48:29# labels of Validation: tensor([ 61, 148,   4,  34, 111,  25,   8,  10], device='cuda:2') torch.Size([8])\n",
      "09/12/2023, 23:48:29# predicted of Validation: tensor([ 61, 148,  36,  36,   9,  25, 114,  10], device='cuda:2') torch.Size([8])\n",
      "09/12/2023, 23:48:29# Validation Loss: 1.5063 | Validation Accuracy: 0.6099\n",
      "\n",
      "09/12/2023, 23:48:29# Find a better model!!\n"
     ]
    },
    {
     "data": {
      "application/vnd.jupyter.widget-view+json": {
       "model_id": "1e6963fd434540f6bb19924011c594db",
       "version_major": 2,
       "version_minor": 0
      },
      "text/plain": [
       "Training:   0%|          | 0/16600 [00:00<?, ?it/s]"
      ]
     },
     "metadata": {},
     "output_type": "display_data"
    },
    {
     "name": "stdout",
     "output_type": "stream",
     "text": [
      "09/12/2023, 23:49:47# labels of 5000: tensor([ 38, 161,  87,  71, 153, 136, 105, 140], device='cuda:2') torch.Size([8])\n",
      "09/12/2023, 23:49:47# predicted of 5000: tensor([ 24, 161,  97,  71, 153, 136, 105, 140], device='cuda:2') torch.Size([8])\n",
      "09/12/2023, 23:50:59# labels of 10000: tensor([ 48, 109,  58,  41,  30,  15, 146, 152], device='cuda:2') torch.Size([8])\n",
      "09/12/2023, 23:50:59# predicted of 10000: tensor([121, 164,  58,  41,  49,  15, 146,  36], device='cuda:2') torch.Size([8])\n",
      "09/12/2023, 23:52:11# labels of 15000: tensor([ 58, 109,  90,  73,  55, 148, 136,  92], device='cuda:2') torch.Size([8])\n",
      "09/12/2023, 23:52:11# predicted of 15000: tensor([ 58,  31,  90,  73,  48, 148, 136,  31], device='cuda:2') torch.Size([8])\n",
      "09/12/2023, 23:52:35# total batches: 16600\n",
      "09/12/2023, 23:52:35# Epoch 13 | Train Loss: 1.5048 | Train Accuracy: 0.6108\n"
     ]
    },
    {
     "data": {
      "application/vnd.jupyter.widget-view+json": {
       "model_id": "fd7adee168be419e8a1675577a7f9ce7",
       "version_major": 2,
       "version_minor": 0
      },
      "text/plain": [
       "Validation:   0%|          | 0/2075 [00:00<?, ?it/s]"
      ]
     },
     "metadata": {},
     "output_type": "display_data"
    },
    {
     "name": "stdout",
     "output_type": "stream",
     "text": [
      "09/12/2023, 23:52:35# labels of Validation: tensor([ 80, 119,  50,  92,  19,   1,   5,  30], device='cuda:2') torch.Size([8])\n",
      "09/12/2023, 23:52:35# predicted of Validation: tensor([ 80, 162,  50,  60,  19,  60,   5,  60], device='cuda:2') torch.Size([8])\n",
      "09/12/2023, 23:52:35# labels of 0: tensor([ 80, 119,  50,  92,  19,   1,   5,  30], device='cuda:2') torch.Size([8])\n",
      "09/12/2023, 23:52:35# predicted of 0: tensor([ 80, 162,  50,  60,  19,  60,   5,  60], device='cuda:2') torch.Size([8])\n",
      "09/12/2023, 23:52:46# labels of Validation: tensor([ 18,  41,   3,  79, 114,  29, 161,  84], device='cuda:2') torch.Size([8])\n",
      "09/12/2023, 23:52:46# predicted of Validation: tensor([150,  41,   3,  79,  88,  29, 161,  84], device='cuda:2') torch.Size([8])\n",
      "09/12/2023, 23:52:58# labels of Validation: tensor([ 99,  47,  59,  92,  50, 158, 139,  96], device='cuda:2') torch.Size([8])\n",
      "09/12/2023, 23:52:58# predicted of Validation: tensor([ 99, 151, 108,  60,  50, 150, 139,  96], device='cuda:2') torch.Size([8])\n",
      "09/12/2023, 23:52:59# Validation Loss: 1.5050 | Validation Accuracy: 0.6092\n",
      "\n",
      "09/12/2023, 23:52:59# Find a better model!!\n"
     ]
    },
    {
     "data": {
      "application/vnd.jupyter.widget-view+json": {
       "model_id": "b5d6e74d089e42bf8c846c20003be06d",
       "version_major": 2,
       "version_minor": 0
      },
      "text/plain": [
       "Training:   0%|          | 0/16600 [00:00<?, ?it/s]"
      ]
     },
     "metadata": {},
     "output_type": "display_data"
    },
    {
     "name": "stdout",
     "output_type": "stream",
     "text": [
      "09/12/2023, 23:54:14# labels of 5000: tensor([ 15, 119, 137,  44, 164, 131, 148, 111], device='cuda:2') torch.Size([8])\n",
      "09/12/2023, 23:54:14# predicted of 5000: tensor([ 15, 112, 137,  55, 112, 131, 148,  55], device='cuda:2') torch.Size([8])\n",
      "09/12/2023, 23:55:31# labels of 10000: tensor([136,  87,  80,  36, 128,  29, 157, 109], device='cuda:2') torch.Size([8])\n",
      "09/12/2023, 23:55:31# predicted of 10000: tensor([136,  42,  80, 144, 128,  29, 144,  49], device='cuda:2') torch.Size([8])\n",
      "09/12/2023, 23:56:44# labels of 15000: tensor([23, 76,  1, 13, 38, 54, 49,  4], device='cuda:2') torch.Size([8])\n",
      "09/12/2023, 23:56:44# predicted of 15000: tensor([ 23, 150, 150,  13,  24, 150,  24, 150], device='cuda:2') torch.Size([8])\n",
      "09/12/2023, 23:57:07# total batches: 16600\n",
      "09/12/2023, 23:57:07# Epoch 14 | Train Loss: 1.5032 | Train Accuracy: 0.6107\n"
     ]
    },
    {
     "data": {
      "application/vnd.jupyter.widget-view+json": {
       "model_id": "fcf1044491694985a4489b996d6e7efc",
       "version_major": 2,
       "version_minor": 0
      },
      "text/plain": [
       "Validation:   0%|          | 0/2075 [00:00<?, ?it/s]"
      ]
     },
     "metadata": {},
     "output_type": "display_data"
    },
    {
     "name": "stdout",
     "output_type": "stream",
     "text": [
      "09/12/2023, 23:57:07# labels of Validation: tensor([ 94,  28,  70,  77, 109,  42,  53,  91], device='cuda:2') torch.Size([8])\n",
      "09/12/2023, 23:57:07# predicted of Validation: tensor([ 94,  28,  70,  77, 151,  87,  87, 131], device='cuda:2') torch.Size([8])\n",
      "09/12/2023, 23:57:07# labels of 0: tensor([ 94,  28,  70,  77, 109,  42,  53,  91], device='cuda:2') torch.Size([8])\n",
      "09/12/2023, 23:57:07# predicted of 0: tensor([ 94,  28,  70,  77, 151,  87,  87, 131], device='cuda:2') torch.Size([8])\n",
      "09/12/2023, 23:57:19# labels of Validation: tensor([113,  79,  76, 142,   0, 142,  68, 160], device='cuda:2') torch.Size([8])\n",
      "09/12/2023, 23:57:19# predicted of Validation: tensor([ 68,  79, 151,  87,   0, 111,  68, 160], device='cuda:2') torch.Size([8])\n",
      "09/12/2023, 23:57:30# labels of Validation: tensor([ 92, 119, 121,  20, 130, 150,  17, 133], device='cuda:2') torch.Size([8])\n",
      "09/12/2023, 23:57:30# predicted of Validation: tensor([151, 111, 151,  20, 130, 151,  17, 133], device='cuda:2') torch.Size([8])\n",
      "09/12/2023, 23:57:31# Validation Loss: 1.5034 | Validation Accuracy: 0.6073\n",
      "\n",
      "09/12/2023, 23:57:31# Find a better model!!\n"
     ]
    },
    {
     "data": {
      "application/vnd.jupyter.widget-view+json": {
       "model_id": "b5a7e07f839645d09c263f823e73753e",
       "version_major": 2,
       "version_minor": 0
      },
      "text/plain": [
       "Training:   0%|          | 0/16600 [00:00<?, ?it/s]"
      ]
     },
     "metadata": {},
     "output_type": "display_data"
    },
    {
     "name": "stdout",
     "output_type": "stream",
     "text": [
      "09/12/2023, 23:58:44# labels of 5000: tensor([153, 161,  72, 108,  50, 106,  27,   6], device='cuda:2') torch.Size([8])\n",
      "09/12/2023, 23:58:44# predicted of 5000: tensor([153, 161,  72, 131,  50, 106,  27,   6], device='cuda:2') torch.Size([8])\n",
      "09/13/2023, 00:00:00# labels of 10000: tensor([130, 146, 146,   2,  41, 136,  62,  74], device='cuda:2') torch.Size([8])\n",
      "09/13/2023, 00:00:00# predicted of 10000: tensor([130, 146, 146,   2,  41, 136,  62,   2], device='cuda:2') torch.Size([8])\n",
      "09/13/2023, 00:01:18# labels of 15000: tensor([ 46, 117, 130, 162,   0, 115,  33,   9], device='cuda:2') torch.Size([8])\n",
      "09/13/2023, 00:01:18# predicted of 15000: tensor([ 46, 117, 130, 163,   0, 115,  44,  44], device='cuda:2') torch.Size([8])\n",
      "09/13/2023, 00:01:43# total batches: 16600\n",
      "09/13/2023, 00:01:43# Epoch 15 | Train Loss: 1.5009 | Train Accuracy: 0.6116\n"
     ]
    },
    {
     "data": {
      "application/vnd.jupyter.widget-view+json": {
       "model_id": "a3ea206ad58d4e45907b8ff167b98758",
       "version_major": 2,
       "version_minor": 0
      },
      "text/plain": [
       "Validation:   0%|          | 0/2075 [00:00<?, ?it/s]"
      ]
     },
     "metadata": {},
     "output_type": "display_data"
    },
    {
     "name": "stdout",
     "output_type": "stream",
     "text": [
      "09/13/2023, 00:01:43# labels of Validation: tensor([147,  43,  95,  50,  61,  36,  61, 117], device='cuda:2') torch.Size([8])\n",
      "09/13/2023, 00:01:43# predicted of Validation: tensor([147,  43,  95,  50,  61,  18,  61, 117], device='cuda:2') torch.Size([8])\n",
      "09/13/2023, 00:01:43# labels of 0: tensor([147,  43,  95,  50,  61,  36,  61, 117], device='cuda:2') torch.Size([8])\n",
      "09/13/2023, 00:01:43# predicted of 0: tensor([147,  43,  95,  50,  61,  18,  61, 117], device='cuda:2') torch.Size([8])\n",
      "09/13/2023, 00:01:54# labels of Validation: tensor([  8,  87, 123,   2,  62,  60,  77,  79], device='cuda:2') torch.Size([8])\n",
      "09/13/2023, 00:01:54# predicted of Validation: tensor([ 88, 109, 123, 109,  62,  14,  77,  79], device='cuda:2') torch.Size([8])\n",
      "09/13/2023, 00:02:06# labels of Validation: tensor([ 50,  99, 129,  57,  71,  11, 144, 126], device='cuda:2') torch.Size([8])\n",
      "09/13/2023, 00:02:06# predicted of Validation: tensor([ 50,  99, 129,  14,  71,   1, 109, 126], device='cuda:2') torch.Size([8])\n",
      "09/13/2023, 00:02:07# Validation Loss: 1.5000 | Validation Accuracy: 0.6118\n",
      "\n",
      "09/13/2023, 00:02:07# Find a better model!!\n"
     ]
    },
    {
     "data": {
      "application/vnd.jupyter.widget-view+json": {
       "model_id": "b336ca2bd30045e592496092f0674c35",
       "version_major": 2,
       "version_minor": 0
      },
      "text/plain": [
       "Training:   0%|          | 0/16600 [00:00<?, ?it/s]"
      ]
     },
     "metadata": {},
     "output_type": "display_data"
    },
    {
     "name": "stdout",
     "output_type": "stream",
     "text": [
      "09/13/2023, 00:03:20# labels of 5000: tensor([129, 136, 146,  99, 104, 130, 135,  97], device='cuda:2') torch.Size([8])\n",
      "09/13/2023, 00:03:20# predicted of 5000: tensor([129, 136, 146,  99, 124, 130, 135, 124], device='cuda:2') torch.Size([8])\n",
      "09/13/2023, 00:04:33# labels of 10000: tensor([  7,  20, 114,  90,  41, 162,  32, 154], device='cuda:2') torch.Size([8])\n",
      "09/13/2023, 00:04:33# predicted of 10000: tensor([  7,  20, 103, 103,  41, 144,  32, 154], device='cuda:2') torch.Size([8])\n",
      "09/13/2023, 00:05:52# labels of 15000: tensor([151,  56, 113, 135, 133,  82, 145,  80], device='cuda:2') torch.Size([8])\n",
      "09/13/2023, 00:05:52# predicted of 15000: tensor([152,  56, 113, 135, 133,  82, 145,  80], device='cuda:2') torch.Size([8])\n",
      "09/13/2023, 00:06:15# total batches: 16600\n",
      "09/13/2023, 00:06:15# Epoch 16 | Train Loss: 1.4976 | Train Accuracy: 0.6122\n"
     ]
    },
    {
     "data": {
      "application/vnd.jupyter.widget-view+json": {
       "model_id": "45ba3834e7c746388ec454c63d436613",
       "version_major": 2,
       "version_minor": 0
      },
      "text/plain": [
       "Validation:   0%|          | 0/2075 [00:00<?, ?it/s]"
      ]
     },
     "metadata": {},
     "output_type": "display_data"
    },
    {
     "name": "stdout",
     "output_type": "stream",
     "text": [
      "09/13/2023, 00:06:15# labels of Validation: tensor([ 65, 109, 115,  77,  20, 147,  25,  20], device='cuda:2') torch.Size([8])\n",
      "09/13/2023, 00:06:15# predicted of Validation: tensor([ 65, 124, 115,  77,  20, 147,  25,  20], device='cuda:2') torch.Size([8])\n",
      "09/13/2023, 00:06:15# labels of 0: tensor([ 65, 109, 115,  77,  20, 147,  25,  20], device='cuda:2') torch.Size([8])\n",
      "09/13/2023, 00:06:15# predicted of 0: tensor([ 65, 124, 115,  77,  20, 147,  25,  20], device='cuda:2') torch.Size([8])\n",
      "09/13/2023, 00:06:26# labels of Validation: tensor([130, 105,  59, 112,  85, 163, 140, 117], device='cuda:2') torch.Size([8])\n",
      "09/13/2023, 00:06:26# predicted of Validation: tensor([130, 105,  59, 124,  85, 152, 140, 117], device='cuda:2') torch.Size([8])\n",
      "09/13/2023, 00:06:38# labels of Validation: tensor([ 42,   8, 126,   2, 115,  71,  86,  27], device='cuda:2') torch.Size([8])\n",
      "09/13/2023, 00:06:38# predicted of Validation: tensor([124, 114, 126, 124, 115,  71,  86,  27], device='cuda:2') torch.Size([8])\n",
      "09/13/2023, 00:06:38# Validation Loss: 1.4993 | Validation Accuracy: 0.6113\n",
      "\n",
      "09/13/2023, 00:06:38# Find a better model!!\n"
     ]
    },
    {
     "data": {
      "application/vnd.jupyter.widget-view+json": {
       "model_id": "b1592d6c4a0148b4ac6b61d5c8ebc9d0",
       "version_major": 2,
       "version_minor": 0
      },
      "text/plain": [
       "Training:   0%|          | 0/16600 [00:00<?, ?it/s]"
      ]
     },
     "metadata": {},
     "output_type": "display_data"
    },
    {
     "name": "stdout",
     "output_type": "stream",
     "text": [
      "09/13/2023, 00:07:54# labels of 5000: tensor([ 35, 133, 100,  79, 119, 135,  66, 109], device='cuda:2') torch.Size([8])\n",
      "09/13/2023, 00:07:54# predicted of 5000: tensor([ 35, 133, 100,  79,  57, 135,  66, 162], device='cuda:2') torch.Size([8])\n",
      "09/13/2023, 00:09:11# labels of 10000: tensor([ 80, 124,   4, 144,  15, 114,  15,   8], device='cuda:2') torch.Size([8])\n",
      "09/13/2023, 00:09:11# predicted of 10000: tensor([80, 60, 11, 11, 15, 68, 15, 68], device='cuda:2') torch.Size([8])\n",
      "09/13/2023, 00:10:26# labels of 15000: tensor([ 78,  41, 112,  31,  67, 162,  78,  95], device='cuda:2') torch.Size([8])\n",
      "09/13/2023, 00:10:26# predicted of 15000: tensor([ 78,  41, 142, 151,  78, 151,  78,  95], device='cuda:2') torch.Size([8])\n",
      "09/13/2023, 00:10:51# total batches: 16600\n",
      "09/13/2023, 00:10:51# Epoch 17 | Train Loss: 1.4934 | Train Accuracy: 0.6131\n"
     ]
    },
    {
     "data": {
      "application/vnd.jupyter.widget-view+json": {
       "model_id": "599912efcc714d378d6789eaed8693ed",
       "version_major": 2,
       "version_minor": 0
      },
      "text/plain": [
       "Validation:   0%|          | 0/2075 [00:00<?, ?it/s]"
      ]
     },
     "metadata": {},
     "output_type": "display_data"
    },
    {
     "name": "stdout",
     "output_type": "stream",
     "text": [
      "09/13/2023, 00:10:51# labels of Validation: tensor([ 86,  69,  66, 141,  45, 126,  17, 145], device='cuda:2') torch.Size([8])\n",
      "09/13/2023, 00:10:51# predicted of Validation: tensor([ 86,  69,  66, 141,  45, 126,  17, 145], device='cuda:2') torch.Size([8])\n",
      "09/13/2023, 00:10:51# labels of 0: tensor([ 86,  69,  66, 141,  45, 126,  17, 145], device='cuda:2') torch.Size([8])\n",
      "09/13/2023, 00:10:51# predicted of 0: tensor([ 86,  69,  66, 141,  45, 126,  17, 145], device='cuda:2') torch.Size([8])\n",
      "09/13/2023, 00:11:02# labels of Validation: tensor([126, 159, 164,  78, 105,  55,  92,  17], device='cuda:2') torch.Size([8])\n",
      "09/13/2023, 00:11:02# predicted of Validation: tensor([126, 159, 150,  78, 105, 150,  12,  17], device='cuda:2') torch.Size([8])\n",
      "09/13/2023, 00:11:13# labels of Validation: tensor([162,  25, 118,  31,  47, 100, 127,  50], device='cuda:2') torch.Size([8])\n",
      "09/13/2023, 00:11:13# predicted of Validation: tensor([121,  25, 118,  97,  97, 100, 127,  50], device='cuda:2') torch.Size([8])\n",
      "09/13/2023, 00:11:14# Validation Loss: 1.4905 | Validation Accuracy: 0.6116\n",
      "\n",
      "09/13/2023, 00:11:14# Find a better model!!\n"
     ]
    },
    {
     "data": {
      "application/vnd.jupyter.widget-view+json": {
       "model_id": "e106c15381814c26b2de9b58a188d276",
       "version_major": 2,
       "version_minor": 0
      },
      "text/plain": [
       "Training:   0%|          | 0/16600 [00:00<?, ?it/s]"
      ]
     },
     "metadata": {},
     "output_type": "display_data"
    },
    {
     "name": "stdout",
     "output_type": "stream",
     "text": [
      "09/13/2023, 00:12:32# labels of 5000: tensor([ 84,  99,  19, 143, 129,  76,  26,  81], device='cuda:2') torch.Size([8])\n",
      "09/13/2023, 00:12:32# predicted of 5000: tensor([ 84,  99,  19,  36, 129,  36,  26,  36], device='cuda:2') torch.Size([8])\n",
      "09/13/2023, 00:13:50# labels of 10000: tensor([ 56, 129,  43,  14,  37, 128, 123, 105], device='cuda:2') torch.Size([8])\n",
      "09/13/2023, 00:13:50# predicted of 10000: tensor([ 56, 129,  43,  38,  37, 128, 123, 105], device='cuda:2') torch.Size([8])\n",
      "09/13/2023, 00:15:06# labels of 15000: tensor([ 49,  72,  72, 107,  13,  82,  83, 114], device='cuda:2') torch.Size([8])\n",
      "09/13/2023, 00:15:06# predicted of 15000: tensor([ 44,  72,  72, 107,  13,  82,  44,  64], device='cuda:2') torch.Size([8])\n",
      "09/13/2023, 00:15:31# total batches: 16600\n",
      "09/13/2023, 00:15:31# Epoch 18 | Train Loss: 1.4889 | Train Accuracy: 0.6134\n"
     ]
    },
    {
     "data": {
      "application/vnd.jupyter.widget-view+json": {
       "model_id": "a61da5b6f04c4ca89fc4ba8526dca362",
       "version_major": 2,
       "version_minor": 0
      },
      "text/plain": [
       "Validation:   0%|          | 0/2075 [00:00<?, ?it/s]"
      ]
     },
     "metadata": {},
     "output_type": "display_data"
    },
    {
     "name": "stdout",
     "output_type": "stream",
     "text": [
      "09/13/2023, 00:15:31# labels of Validation: tensor([142, 137,  18, 148, 153, 162, 128, 149], device='cuda:2') torch.Size([8])\n",
      "09/13/2023, 00:15:31# predicted of Validation: tensor([ 74, 137,  74, 148, 153, 163, 128, 149], device='cuda:2') torch.Size([8])\n",
      "09/13/2023, 00:15:31# labels of 0: tensor([142, 137,  18, 148, 153, 162, 128, 149], device='cuda:2') torch.Size([8])\n",
      "09/13/2023, 00:15:31# predicted of 0: tensor([ 74, 137,  74, 148, 153, 163, 128, 149], device='cuda:2') torch.Size([8])\n",
      "09/13/2023, 00:15:42# labels of Validation: tensor([ 23, 154,  17,  75,  12,   2, 126,  84], device='cuda:2') torch.Size([8])\n",
      "09/13/2023, 00:15:42# predicted of Validation: tensor([ 23, 154,  17,  74, 163, 163, 126,  84], device='cuda:2') torch.Size([8])\n",
      "09/13/2023, 00:15:53# labels of Validation: tensor([116,  94,  31, 118, 151, 127,  75, 137], device='cuda:2') torch.Size([8])\n",
      "09/13/2023, 00:15:53# predicted of Validation: tensor([ 74,  94,  74, 118, 104, 127,  74, 137], device='cuda:2') torch.Size([8])\n",
      "09/13/2023, 00:15:54# Validation Loss: 1.4882 | Validation Accuracy: 0.6124\n",
      "\n",
      "09/13/2023, 00:15:54# Find a better model!!\n"
     ]
    },
    {
     "data": {
      "application/vnd.jupyter.widget-view+json": {
       "model_id": "fc4a804cfac04bdda8c063df5c610739",
       "version_major": 2,
       "version_minor": 0
      },
      "text/plain": [
       "Training:   0%|          | 0/16600 [00:00<?, ?it/s]"
      ]
     },
     "metadata": {},
     "output_type": "display_data"
    },
    {
     "name": "stdout",
     "output_type": "stream",
     "text": [
      "09/13/2023, 00:17:11# labels of 5000: tensor([ 56, 139, 110,   0,  32, 119,  32,  73], device='cuda:2') torch.Size([8])\n",
      "09/13/2023, 00:17:11# predicted of 5000: tensor([ 56, 139, 110,   0,  32, 111,  32,  73], device='cuda:2') torch.Size([8])\n",
      "09/13/2023, 00:18:23# labels of 10000: tensor([ 76,  72, 133, 135,  30,  95,  11, 156], device='cuda:2') torch.Size([8])\n",
      "09/13/2023, 00:18:23# predicted of 10000: tensor([ 53,  72, 133, 135,  60,  95,  53, 156], device='cuda:2') torch.Size([8])\n",
      "09/13/2023, 00:19:40# labels of 15000: tensor([ 32, 128,  85,  87,  87, 118,  21,  12], device='cuda:2') torch.Size([8])\n",
      "09/13/2023, 00:19:40# predicted of 15000: tensor([ 32, 128,  85,  81,  81, 118,  21,  81], device='cuda:2') torch.Size([8])\n",
      "09/13/2023, 00:20:03# total batches: 16600\n",
      "09/13/2023, 00:20:03# Epoch 19 | Train Loss: 1.4847 | Train Accuracy: 0.6139\n"
     ]
    },
    {
     "data": {
      "application/vnd.jupyter.widget-view+json": {
       "model_id": "62d2d0937da840d7a8914eaf5d4b5874",
       "version_major": 2,
       "version_minor": 0
      },
      "text/plain": [
       "Validation:   0%|          | 0/2075 [00:00<?, ?it/s]"
      ]
     },
     "metadata": {},
     "output_type": "display_data"
    },
    {
     "name": "stdout",
     "output_type": "stream",
     "text": [
      "09/13/2023, 00:20:03# labels of Validation: tensor([110,  95,  43,  75,  37,  59,   8,  63], device='cuda:2') torch.Size([8])\n",
      "09/13/2023, 00:20:03# predicted of Validation: tensor([ 88,  95,  43, 109,  37,  91,  88,  63], device='cuda:2') torch.Size([8])\n",
      "09/13/2023, 00:20:03# labels of 0: tensor([110,  95,  43,  75,  37,  59,   8,  63], device='cuda:2') torch.Size([8])\n",
      "09/13/2023, 00:20:03# predicted of 0: tensor([ 88,  95,  43, 109,  37,  91,  88,  63], device='cuda:2') torch.Size([8])\n",
      "09/13/2023, 00:20:14# labels of Validation: tensor([119, 114,  89, 105,  89,  56,  76,  95], device='cuda:2') torch.Size([8])\n",
      "09/13/2023, 00:20:14# predicted of Validation: tensor([142,  88,  89, 105,  89,  56, 124,  95], device='cuda:2') torch.Size([8])\n",
      "09/13/2023, 00:20:26# labels of Validation: tensor([ 49, 107,  81,  83,  44, 115, 134,  76], device='cuda:2') torch.Size([8])\n",
      "09/13/2023, 00:20:26# predicted of Validation: tensor([109, 107, 109, 124, 109, 115, 134,   9], device='cuda:2') torch.Size([8])\n",
      "09/13/2023, 00:20:26# Validation Loss: 1.4867 | Validation Accuracy: 0.6133\n",
      "\n",
      "09/13/2023, 00:20:26# Find a better model!!\n"
     ]
    },
    {
     "data": {
      "application/vnd.jupyter.widget-view+json": {
       "model_id": "f71e2f76588a48b49d73f97ae8c313ed",
       "version_major": 2,
       "version_minor": 0
      },
      "text/plain": [
       "Training:   0%|          | 0/16600 [00:00<?, ?it/s]"
      ]
     },
     "metadata": {},
     "output_type": "display_data"
    },
    {
     "name": "stdout",
     "output_type": "stream",
     "text": [
      "09/13/2023, 00:21:42# labels of 5000: tensor([116,  80,  95,  63, 138, 126,  43,  74], device='cuda:2') torch.Size([8])\n",
      "09/13/2023, 00:21:42# predicted of 5000: tensor([112,  80,  95,  63, 138, 126,  43, 142], device='cuda:2') torch.Size([8])\n",
      "09/13/2023, 00:22:57# labels of 10000: tensor([ 90,   4, 162, 138, 149,  10,  23,  88], device='cuda:2') torch.Size([8])\n",
      "09/13/2023, 00:22:57# predicted of 10000: tensor([110,  76,  76, 138, 149,  10,  23, 110], device='cuda:2') torch.Size([8])\n",
      "09/13/2023, 00:24:12# labels of 15000: tensor([114,  86,  88, 122,  41,   6,  35, 118], device='cuda:2') torch.Size([8])\n",
      "09/13/2023, 00:24:12# predicted of 15000: tensor([113,  86, 113, 122,  41,   6,  35, 118], device='cuda:2') torch.Size([8])\n",
      "09/13/2023, 00:24:37# total batches: 16600\n",
      "09/13/2023, 00:24:37# Epoch 20 | Train Loss: 1.4799 | Train Accuracy: 0.6143\n"
     ]
    },
    {
     "data": {
      "application/vnd.jupyter.widget-view+json": {
       "model_id": "b7be3b6543274a07be9377378520d090",
       "version_major": 2,
       "version_minor": 0
      },
      "text/plain": [
       "Validation:   0%|          | 0/2075 [00:00<?, ?it/s]"
      ]
     },
     "metadata": {},
     "output_type": "display_data"
    },
    {
     "name": "stdout",
     "output_type": "stream",
     "text": [
      "09/13/2023, 00:24:37# labels of Validation: tensor([149, 157,  15, 132, 119,  77,  86,  45], device='cuda:2') torch.Size([8])\n",
      "09/13/2023, 00:24:37# predicted of Validation: tensor([149,  44,  15, 132,  76,  77,  86,  45], device='cuda:2') torch.Size([8])\n",
      "09/13/2023, 00:24:37# labels of 0: tensor([149, 157,  15, 132, 119,  77,  86,  45], device='cuda:2') torch.Size([8])\n",
      "09/13/2023, 00:24:37# predicted of 0: tensor([149,  44,  15, 132,  76,  77,  86,  45], device='cuda:2') torch.Size([8])\n",
      "09/13/2023, 00:24:49# labels of Validation: tensor([126, 127,  21,  63,  13, 139, 137,  21], device='cuda:2') torch.Size([8])\n",
      "09/13/2023, 00:24:49# predicted of Validation: tensor([126, 127,  21,  63,  13, 139, 137,  21], device='cuda:2') torch.Size([8])\n",
      "09/13/2023, 00:25:00# labels of Validation: tensor([104, 131, 148,  42,  86, 155,  98,  66], device='cuda:2') torch.Size([8])\n",
      "09/13/2023, 00:25:00# predicted of Validation: tensor([ 44, 131, 148,  33,  86, 155,  98,  66], device='cuda:2') torch.Size([8])\n",
      "09/13/2023, 00:25:01# Validation Loss: 1.4792 | Validation Accuracy: 0.6157\n",
      "\n",
      "09/13/2023, 00:25:01# Find a better model!!\n"
     ]
    },
    {
     "data": {
      "application/vnd.jupyter.widget-view+json": {
       "model_id": "28155a230f45458b8e605f5a3f784692",
       "version_major": 2,
       "version_minor": 0
      },
      "text/plain": [
       "Training:   0%|          | 0/16600 [00:00<?, ?it/s]"
      ]
     },
     "metadata": {},
     "output_type": "display_data"
    },
    {
     "name": "stdout",
     "output_type": "stream",
     "text": [
      "09/13/2023, 00:26:12# labels of 5000: tensor([139,   6,  77,  13, 122, 127,   9, 151], device='cuda:2') torch.Size([8])\n",
      "09/13/2023, 00:26:12# predicted of 5000: tensor([139,   6,  77,  13, 122, 127, 152, 152], device='cuda:2') torch.Size([8])\n",
      "09/13/2023, 00:27:27# labels of 10000: tensor([ 68,  84, 128, 113, 133, 121, 163, 130], device='cuda:2') torch.Size([8])\n",
      "09/13/2023, 00:27:27# predicted of 10000: tensor([103,  84, 128, 103, 133, 111, 111, 130], device='cuda:2') torch.Size([8])\n",
      "09/13/2023, 00:28:40# labels of 15000: tensor([ 82, 108,  42,  65,  79, 105,  72,  35], device='cuda:2') torch.Size([8])\n",
      "09/13/2023, 00:28:40# predicted of 15000: tensor([ 82, 108,  47,  65,  79, 105,  72,  35], device='cuda:2') torch.Size([8])\n",
      "09/13/2023, 00:29:03# total batches: 16600\n",
      "09/13/2023, 00:29:03# Epoch 21 | Train Loss: 1.4754 | Train Accuracy: 0.6160\n"
     ]
    },
    {
     "data": {
      "application/vnd.jupyter.widget-view+json": {
       "model_id": "fea557b73b96404fbc76cda81987c647",
       "version_major": 2,
       "version_minor": 0
      },
      "text/plain": [
       "Validation:   0%|          | 0/2075 [00:00<?, ?it/s]"
      ]
     },
     "metadata": {},
     "output_type": "display_data"
    },
    {
     "name": "stdout",
     "output_type": "stream",
     "text": [
      "09/13/2023, 00:29:03# labels of Validation: tensor([110, 135, 127, 142,  91, 117,  51, 148], device='cuda:2') torch.Size([8])\n",
      "09/13/2023, 00:29:03# predicted of Validation: tensor([113, 135, 127,  48,  59, 117,  51, 148], device='cuda:2') torch.Size([8])\n",
      "09/13/2023, 00:29:03# labels of 0: tensor([110, 135, 127, 142,  91, 117,  51, 148], device='cuda:2') torch.Size([8])\n",
      "09/13/2023, 00:29:03# predicted of 0: tensor([113, 135, 127,  48,  59, 117,  51, 148], device='cuda:2') torch.Size([8])\n",
      "09/13/2023, 00:29:15# labels of Validation: tensor([144, 101,  43,  49,  43,  14, 164,  74], device='cuda:2') torch.Size([8])\n",
      "09/13/2023, 00:29:15# predicted of Validation: tensor([ 48, 101,  43,  48,  43,  48,  48,  48], device='cuda:2') torch.Size([8])\n",
      "09/13/2023, 00:29:26# labels of Validation: tensor([118, 145,   0, 125, 114, 145,  69,   7], device='cuda:2') torch.Size([8])\n",
      "09/13/2023, 00:29:26# predicted of Validation: tensor([118, 145,   0,  48,   8, 145,  69,   7], device='cuda:2') torch.Size([8])\n",
      "09/13/2023, 00:29:26# Validation Loss: 1.4793 | Validation Accuracy: 0.6136\n",
      "\n"
     ]
    },
    {
     "data": {
      "application/vnd.jupyter.widget-view+json": {
       "model_id": "e1cd77df24af4a10ab77bfbaa260e37b",
       "version_major": 2,
       "version_minor": 0
      },
      "text/plain": [
       "Training:   0%|          | 0/16600 [00:00<?, ?it/s]"
      ]
     },
     "metadata": {},
     "output_type": "display_data"
    },
    {
     "name": "stdout",
     "output_type": "stream",
     "text": [
      "09/13/2023, 00:30:42# labels of 5000: tensor([162,  20, 132,   9, 155,  88,  57,  67], device='cuda:2') torch.Size([8])\n",
      "09/13/2023, 00:30:42# predicted of 5000: tensor([ 48,  20, 132,  48, 155,  90,  48,  67], device='cuda:2') torch.Size([8])\n",
      "09/13/2023, 00:31:55# labels of 10000: tensor([133,  56, 154,  72,  37,  75,  43, 142], device='cuda:2') torch.Size([8])\n",
      "09/13/2023, 00:31:55# predicted of 10000: tensor([133,  56, 154,  72,  37,   2,  43,   2], device='cuda:2') torch.Size([8])\n",
      "09/13/2023, 00:33:12# labels of 15000: tensor([147, 148,  35,   9, 152,   5, 108,  89], device='cuda:2') torch.Size([8])\n",
      "09/13/2023, 00:33:12# predicted of 15000: tensor([147, 148,  35, 164, 164,   5, 108,  89], device='cuda:2') torch.Size([8])\n",
      "09/13/2023, 00:33:37# total batches: 16600\n",
      "09/13/2023, 00:33:37# Epoch 22 | Train Loss: 1.4717 | Train Accuracy: 0.6154\n"
     ]
    },
    {
     "data": {
      "application/vnd.jupyter.widget-view+json": {
       "model_id": "ccc1ff0204bc44689a04dca69dd9e5d2",
       "version_major": 2,
       "version_minor": 0
      },
      "text/plain": [
       "Validation:   0%|          | 0/2075 [00:00<?, ?it/s]"
      ]
     },
     "metadata": {},
     "output_type": "display_data"
    },
    {
     "name": "stdout",
     "output_type": "stream",
     "text": [
      "09/13/2023, 00:33:37# labels of Validation: tensor([ 40, 152,  91,  63,  62,  42,  31, 152], device='cuda:2') torch.Size([8])\n",
      "09/13/2023, 00:33:37# predicted of Validation: tensor([40, 33, 59, 63, 62, 33, 33, 33], device='cuda:2') torch.Size([8])\n",
      "09/13/2023, 00:33:37# labels of 0: tensor([ 40, 152,  91,  63,  62,  42,  31, 152], device='cuda:2') torch.Size([8])\n",
      "09/13/2023, 00:33:37# predicted of 0: tensor([40, 33, 59, 63, 62, 33, 33, 33], device='cuda:2') torch.Size([8])\n",
      "09/13/2023, 00:33:48# labels of Validation: tensor([ 80, 131, 148,  71, 130,  91,  26, 113], device='cuda:2') torch.Size([8])\n",
      "09/13/2023, 00:33:48# predicted of Validation: tensor([ 80, 131, 148,  71, 130,  59,  26,  59], device='cuda:2') torch.Size([8])\n",
      "09/13/2023, 00:33:59# labels of Validation: tensor([ 80, 142,  28, 124,  80,  91, 164, 120], device='cuda:2') torch.Size([8])\n",
      "09/13/2023, 00:33:59# predicted of Validation: tensor([ 80,  33,  28,  33,  80,  59,  33, 120], device='cuda:2') torch.Size([8])\n",
      "09/13/2023, 00:34:00# Validation Loss: 1.4705 | Validation Accuracy: 0.6139\n",
      "\n",
      "09/13/2023, 00:34:00# Find a better model!!\n"
     ]
    },
    {
     "data": {
      "application/vnd.jupyter.widget-view+json": {
       "model_id": "d1d423bb85b94834905d057a16b0a3b9",
       "version_major": 2,
       "version_minor": 0
      },
      "text/plain": [
       "Training:   0%|          | 0/16600 [00:00<?, ?it/s]"
      ]
     },
     "metadata": {},
     "output_type": "display_data"
    },
    {
     "name": "stdout",
     "output_type": "stream",
     "text": [
      "09/13/2023, 00:35:19# labels of 5000: tensor([ 35, 120, 135, 148,  79, 141, 166,  66], device='cuda:2') torch.Size([8])\n",
      "09/13/2023, 00:35:19# predicted of 5000: tensor([ 35, 120, 135, 148,  79, 141, 166,  66], device='cuda:2') torch.Size([8])\n",
      "09/13/2023, 00:36:38# labels of 10000: tensor([  2, 144, 132,  37,  84,  89,  77,  24], device='cuda:2') torch.Size([8])\n",
      "09/13/2023, 00:36:38# predicted of 10000: tensor([150, 150, 132,  37,  84,  89,  77, 150], device='cuda:2') torch.Size([8])\n",
      "09/13/2023, 00:37:53# labels of 15000: tensor([ 2, 36, 60, 48, 26, 93, 79, 41], device='cuda:2') torch.Size([8])\n",
      "09/13/2023, 00:37:53# predicted of 15000: tensor([ 34,  34,  81, 124,  26,  93,  79,  41], device='cuda:2') torch.Size([8])\n",
      "09/13/2023, 00:38:19# total batches: 16600\n",
      "09/13/2023, 00:38:19# Epoch 23 | Train Loss: 1.4674 | Train Accuracy: 0.6174\n"
     ]
    },
    {
     "data": {
      "application/vnd.jupyter.widget-view+json": {
       "model_id": "e76bbd835b094da49fb0467e15008799",
       "version_major": 2,
       "version_minor": 0
      },
      "text/plain": [
       "Validation:   0%|          | 0/2075 [00:00<?, ?it/s]"
      ]
     },
     "metadata": {},
     "output_type": "display_data"
    },
    {
     "name": "stdout",
     "output_type": "stream",
     "text": [
      "09/13/2023, 00:38:19# labels of Validation: tensor([137,  46, 100, 136,  95, 109,  63,  46], device='cuda:2') torch.Size([8])\n",
      "09/13/2023, 00:38:19# predicted of Validation: tensor([137,  46, 100, 136,  95, 157,  63,  46], device='cuda:2') torch.Size([8])\n",
      "09/13/2023, 00:38:19# labels of 0: tensor([137,  46, 100, 136,  95, 109,  63,  46], device='cuda:2') torch.Size([8])\n",
      "09/13/2023, 00:38:19# predicted of 0: tensor([137,  46, 100, 136,  95, 157,  63,  46], device='cuda:2') torch.Size([8])\n",
      "09/13/2023, 00:38:30# labels of Validation: tensor([ 83,  83, 165,  62,  15,  43, 145,   7], device='cuda:2') torch.Size([8])\n",
      "09/13/2023, 00:38:30# predicted of Validation: tensor([162, 162, 165,  62,  15,  43, 145,   7], device='cuda:2') torch.Size([8])\n",
      "09/13/2023, 00:38:42# labels of Validation: tensor([153, 132, 154,  65,  54,  71, 114,  74], device='cuda:2') torch.Size([8])\n",
      "09/13/2023, 00:38:42# predicted of Validation: tensor([153, 132, 154,  65, 162,  71, 113, 163], device='cuda:2') torch.Size([8])\n",
      "09/13/2023, 00:38:43# Validation Loss: 1.4700 | Validation Accuracy: 0.6147\n",
      "\n",
      "09/13/2023, 00:38:43# Find a better model!!\n"
     ]
    },
    {
     "data": {
      "application/vnd.jupyter.widget-view+json": {
       "model_id": "fe5ca3e1a7d74bf8a72db44c809da271",
       "version_major": 2,
       "version_minor": 0
      },
      "text/plain": [
       "Training:   0%|          | 0/16600 [00:00<?, ?it/s]"
      ]
     },
     "metadata": {},
     "output_type": "display_data"
    },
    {
     "name": "stdout",
     "output_type": "stream",
     "text": [
      "09/13/2023, 00:40:01# labels of 5000: tensor([157, 158,  90,  75, 126, 149,  83, 144], device='cuda:2') torch.Size([8])\n",
      "09/13/2023, 00:40:01# predicted of 5000: tensor([ 49, 124,  68, 124, 126, 149, 157, 124], device='cuda:2') torch.Size([8])\n",
      "09/13/2023, 00:41:17# labels of 10000: tensor([ 21, 106, 140,  42,  62, 129,  41, 124], device='cuda:2') torch.Size([8])\n",
      "09/13/2023, 00:41:17# predicted of 10000: tensor([ 21, 106, 140,  74,  62, 129,  41, 144], device='cuda:2') torch.Size([8])\n",
      "09/13/2023, 00:42:35# labels of 15000: tensor([ 65,  38, 156,  40, 139,  80,  89,  58], device='cuda:2') torch.Size([8])\n",
      "09/13/2023, 00:42:35# predicted of 15000: tensor([ 65,  30, 156,  40, 139,  80,  89,  58], device='cuda:2') torch.Size([8])\n",
      "09/13/2023, 00:42:58# total batches: 16600\n",
      "09/13/2023, 00:42:58# Epoch 24 | Train Loss: 1.4637 | Train Accuracy: 0.6176\n"
     ]
    },
    {
     "data": {
      "application/vnd.jupyter.widget-view+json": {
       "model_id": "f305675b0f2d4f7da6d2df631c9a1488",
       "version_major": 2,
       "version_minor": 0
      },
      "text/plain": [
       "Validation:   0%|          | 0/2075 [00:00<?, ?it/s]"
      ]
     },
     "metadata": {},
     "output_type": "display_data"
    },
    {
     "name": "stdout",
     "output_type": "stream",
     "text": [
      "09/13/2023, 00:42:58# labels of Validation: tensor([ 23,  73, 164,  80,  18,   4, 105,  33], device='cuda:2') torch.Size([8])\n",
      "09/13/2023, 00:42:58# predicted of Validation: tensor([ 23,  73,  92,  80, 164,  42, 105, 164], device='cuda:2') torch.Size([8])\n",
      "09/13/2023, 00:42:58# labels of 0: tensor([ 23,  73, 164,  80,  18,   4, 105,  33], device='cuda:2') torch.Size([8])\n",
      "09/13/2023, 00:42:58# predicted of 0: tensor([ 23,  73,  92,  80, 164,  42, 105, 164], device='cuda:2') torch.Size([8])\n",
      "09/13/2023, 00:43:09# labels of Validation: tensor([139,  10, 115, 152,  18, 139,  28, 109], device='cuda:2') torch.Size([8])\n",
      "09/13/2023, 00:43:09# predicted of Validation: tensor([139,  10, 115,  47, 162, 139,  28,  42], device='cuda:2') torch.Size([8])\n",
      "09/13/2023, 00:43:21# labels of Validation: tensor([ 89,  12,  58,  80,   0, 160,  87, 103], device='cuda:2') torch.Size([8])\n",
      "09/13/2023, 00:43:21# predicted of Validation: tensor([ 89,  76,  58,  80,   0, 160,  92,  64], device='cuda:2') torch.Size([8])\n",
      "09/13/2023, 00:43:21# Validation Loss: 1.4668 | Validation Accuracy: 0.6152\n",
      "\n",
      "09/13/2023, 00:43:21# Find a better model!!\n"
     ]
    },
    {
     "data": {
      "application/vnd.jupyter.widget-view+json": {
       "model_id": "53590fb5d7224d499293043d57a5879c",
       "version_major": 2,
       "version_minor": 0
      },
      "text/plain": [
       "Training:   0%|          | 0/16600 [00:00<?, ?it/s]"
      ]
     },
     "metadata": {},
     "output_type": "display_data"
    },
    {
     "name": "stdout",
     "output_type": "stream",
     "text": [
      "09/13/2023, 00:44:40# labels of 5000: tensor([126, 151, 162,  45, 151, 159,  62,  47], device='cuda:2') torch.Size([8])\n",
      "09/13/2023, 00:44:40# predicted of 5000: tensor([126,  12,  12,  45,  75, 159,  62,  75], device='cuda:2') torch.Size([8])\n",
      "09/13/2023, 00:45:53# labels of 10000: tensor([ 65,  28,  64, 129,  59, 142,  56,  29], device='cuda:2') torch.Size([8])\n",
      "09/13/2023, 00:45:53# predicted of 10000: tensor([ 65,  28, 110, 129,  91,   9,  56,  29], device='cuda:2') torch.Size([8])\n",
      "09/13/2023, 00:47:11# labels of 15000: tensor([  8,  67, 138,  62,  35, 108, 142, 139], device='cuda:2') torch.Size([8])\n",
      "09/13/2023, 00:47:11# predicted of 15000: tensor([103,  67, 138,  62,  35, 131,  83, 139], device='cuda:2') torch.Size([8])\n",
      "09/13/2023, 00:47:34# total batches: 16600\n",
      "09/13/2023, 00:47:34# Epoch 25 | Train Loss: 1.4602 | Train Accuracy: 0.6184\n"
     ]
    },
    {
     "data": {
      "application/vnd.jupyter.widget-view+json": {
       "model_id": "de659d5362a640449e7c825028a3e982",
       "version_major": 2,
       "version_minor": 0
      },
      "text/plain": [
       "Validation:   0%|          | 0/2075 [00:00<?, ?it/s]"
      ]
     },
     "metadata": {},
     "output_type": "display_data"
    },
    {
     "name": "stdout",
     "output_type": "stream",
     "text": [
      "09/13/2023, 00:47:34# labels of Validation: tensor([149, 164, 134,  87,  76, 147,  90,  16], device='cuda:2') torch.Size([8])\n",
      "09/13/2023, 00:47:34# predicted of Validation: tensor([149,  24, 134, 164, 164, 147,  64,  16], device='cuda:2') torch.Size([8])\n",
      "09/13/2023, 00:47:34# labels of 0: tensor([149, 164, 134,  87,  76, 147,  90,  16], device='cuda:2') torch.Size([8])\n",
      "09/13/2023, 00:47:34# predicted of 0: tensor([149,  24, 134, 164, 164, 147,  64,  16], device='cuda:2') torch.Size([8])\n",
      "09/13/2023, 00:47:46# labels of Validation: tensor([ 66, 162,  75, 103, 119, 165,  91,  48], device='cuda:2') torch.Size([8])\n",
      "09/13/2023, 00:47:46# predicted of Validation: tensor([ 66, 164,  24,  64, 164, 165,  91, 164], device='cuda:2') torch.Size([8])\n",
      "09/13/2023, 00:47:57# labels of Validation: tensor([ 38, 120,  56,  77, 157, 162, 101,  74], device='cuda:2') torch.Size([8])\n",
      "09/13/2023, 00:47:57# predicted of Validation: tensor([ 24, 120,  56,  77, 164, 150, 101,  24], device='cuda:2') torch.Size([8])\n",
      "09/13/2023, 00:47:58# Validation Loss: 1.4627 | Validation Accuracy: 0.6172\n",
      "\n",
      "09/13/2023, 00:47:58# Find a better model!!\n"
     ]
    },
    {
     "data": {
      "application/vnd.jupyter.widget-view+json": {
       "model_id": "dd304d33f4384550b8ffa3a8fa5b9928",
       "version_major": 2,
       "version_minor": 0
      },
      "text/plain": [
       "Training:   0%|          | 0/16600 [00:00<?, ?it/s]"
      ]
     },
     "metadata": {},
     "output_type": "display_data"
    },
    {
     "name": "stdout",
     "output_type": "stream",
     "text": [
      "09/13/2023, 00:49:12# labels of 5000: tensor([ 59,  36, 126, 129, 125,  91,  16, 127], device='cuda:2') torch.Size([8])\n",
      "09/13/2023, 00:49:12# predicted of 5000: tensor([ 91,  49, 126, 129,  49,  91,  16, 127], device='cuda:2') torch.Size([8])\n",
      "09/13/2023, 00:50:29# labels of 10000: tensor([154,  61,  21, 165,  42, 126, 146, 127], device='cuda:2') torch.Size([8])\n",
      "09/13/2023, 00:50:29# predicted of 10000: tensor([154,  61,  21, 165, 158, 126, 146, 127], device='cuda:2') torch.Size([8])\n",
      "09/13/2023, 00:51:45# labels of 15000: tensor([ 11,  72,  83,  37, 146,  60,  61,  31], device='cuda:2') torch.Size([8])\n",
      "09/13/2023, 00:51:45# predicted of 15000: tensor([162,  72, 162,  37, 146, 152,  61, 152], device='cuda:2') torch.Size([8])\n",
      "09/13/2023, 00:52:10# total batches: 16600\n",
      "09/13/2023, 00:52:10# Epoch 26 | Train Loss: 1.4573 | Train Accuracy: 0.6192\n"
     ]
    },
    {
     "data": {
      "application/vnd.jupyter.widget-view+json": {
       "model_id": "c17efc21657743b7af1a2f86d3cf280f",
       "version_major": 2,
       "version_minor": 0
      },
      "text/plain": [
       "Validation:   0%|          | 0/2075 [00:00<?, ?it/s]"
      ]
     },
     "metadata": {},
     "output_type": "display_data"
    },
    {
     "name": "stdout",
     "output_type": "stream",
     "text": [
      "09/13/2023, 00:52:10# labels of Validation: tensor([125,  62, 153,  77,  33,  45,  11, 131], device='cuda:2') torch.Size([8])\n",
      "09/13/2023, 00:52:10# predicted of Validation: tensor([  4,  62, 153,  77,   4,  45,   4, 131], device='cuda:2') torch.Size([8])\n",
      "09/13/2023, 00:52:10# labels of 0: tensor([125,  62, 153,  77,  33,  45,  11, 131], device='cuda:2') torch.Size([8])\n",
      "09/13/2023, 00:52:10# predicted of 0: tensor([  4,  62, 153,  77,   4,  45,   4, 131], device='cuda:2') torch.Size([8])\n",
      "09/13/2023, 00:52:21# labels of Validation: tensor([ 23,  67, 110, 101,  69,  28, 162,  31], device='cuda:2') torch.Size([8])\n",
      "09/13/2023, 00:52:21# predicted of Validation: tensor([ 23,  78, 113, 101,  69,  28,   2, 124], device='cuda:2') torch.Size([8])\n",
      "09/13/2023, 00:52:32# labels of Validation: tensor([ 49,  38,  38,  73, 156,  76,  54, 143], device='cuda:2') torch.Size([8])\n",
      "09/13/2023, 00:52:32# predicted of Validation: tensor([124, 124,   4,  73, 156,   4,   4, 124], device='cuda:2') torch.Size([8])\n",
      "09/13/2023, 00:52:33# Validation Loss: 1.4609 | Validation Accuracy: 0.6161\n",
      "\n",
      "09/13/2023, 00:52:33# Find a better model!!\n"
     ]
    },
    {
     "data": {
      "application/vnd.jupyter.widget-view+json": {
       "model_id": "eca2772ee76b4263aff40b8b949c5374",
       "version_major": 2,
       "version_minor": 0
      },
      "text/plain": [
       "Training:   0%|          | 0/16600 [00:00<?, ?it/s]"
      ]
     },
     "metadata": {},
     "output_type": "display_data"
    },
    {
     "name": "stdout",
     "output_type": "stream",
     "text": [
      "09/13/2023, 00:53:46# labels of 5000: tensor([166, 164,  81, 130,  77, 165, 108, 161], device='cuda:2') torch.Size([8])\n",
      "09/13/2023, 00:53:46# predicted of 5000: tensor([166,  30,   9, 130,  77, 165, 108, 161], device='cuda:2') torch.Size([8])\n",
      "09/13/2023, 00:55:03# labels of 10000: tensor([144,  33, 157,  41, 125,  91, 119,   6], device='cuda:2') torch.Size([8])\n",
      "09/13/2023, 00:55:03# predicted of 10000: tensor([ 11,  11,  11,  41,  11, 108,  11,   6], device='cuda:2') torch.Size([8])\n",
      "09/13/2023, 00:56:22# labels of 15000: tensor([102,  32,  25,  28,   5,  92, 137, 148], device='cuda:2') torch.Size([8])\n",
      "09/13/2023, 00:56:22# predicted of 15000: tensor([102,  32,  25,  28,   5, 142, 137, 148], device='cuda:2') torch.Size([8])\n",
      "09/13/2023, 00:56:48# total batches: 16600\n",
      "09/13/2023, 00:56:48# Epoch 27 | Train Loss: 1.4552 | Train Accuracy: 0.6198\n"
     ]
    },
    {
     "data": {
      "application/vnd.jupyter.widget-view+json": {
       "model_id": "9cfe09c6e248433fa56502c919d39585",
       "version_major": 2,
       "version_minor": 0
      },
      "text/plain": [
       "Validation:   0%|          | 0/2075 [00:00<?, ?it/s]"
      ]
     },
     "metadata": {},
     "output_type": "display_data"
    },
    {
     "name": "stdout",
     "output_type": "stream",
     "text": [
      "09/13/2023, 00:56:48# labels of Validation: tensor([ 85,  99, 111,   8,  90, 128,   4,  80], device='cuda:2') torch.Size([8])\n",
      "09/13/2023, 00:56:48# predicted of Validation: tensor([ 85,  99,  38,  93, 113, 128, 162,  80], device='cuda:2') torch.Size([8])\n",
      "09/13/2023, 00:56:48# labels of 0: tensor([ 85,  99, 111,   8,  90, 128,   4,  80], device='cuda:2') torch.Size([8])\n",
      "09/13/2023, 00:56:48# predicted of 0: tensor([ 85,  99,  38,  93, 113, 128, 162,  80], device='cuda:2') torch.Size([8])\n",
      "09/13/2023, 00:56:59# labels of Validation: tensor([151, 159, 155, 157,  17, 164, 126,  89], device='cuda:2') torch.Size([8])\n",
      "09/13/2023, 00:56:59# predicted of Validation: tensor([ 38, 159, 155,  53,  17, 142, 126,  89], device='cuda:2') torch.Size([8])\n",
      "09/13/2023, 00:57:11# labels of Validation: tensor([  4, 143, 134,  10,  81,  37, 154, 152], device='cuda:2') torch.Size([8])\n",
      "09/13/2023, 00:57:11# predicted of Validation: tensor([ 11,  38, 134,  10,  38,  37, 154,  38], device='cuda:2') torch.Size([8])\n",
      "09/13/2023, 00:57:11# Validation Loss: 1.4595 | Validation Accuracy: 0.6177\n",
      "\n",
      "09/13/2023, 00:57:11# Find a better model!!\n"
     ]
    },
    {
     "data": {
      "application/vnd.jupyter.widget-view+json": {
       "model_id": "668185931c4042f496eebc39145ef185",
       "version_major": 2,
       "version_minor": 0
      },
      "text/plain": [
       "Training:   0%|          | 0/16600 [00:00<?, ?it/s]"
      ]
     },
     "metadata": {},
     "output_type": "display_data"
    },
    {
     "name": "stdout",
     "output_type": "stream",
     "text": [
      "09/13/2023, 00:58:27# labels of 5000: tensor([ 12, 163, 133, 163, 122, 159,  53,  32], device='cuda:2') torch.Size([8])\n",
      "09/13/2023, 00:58:27# predicted of 5000: tensor([ 49,  76, 133,  53, 122, 159,  48,  32], device='cuda:2') torch.Size([8])\n",
      "09/13/2023, 00:59:44# labels of 10000: tensor([ 85, 100, 112,  37,  27, 104,  81,  13], device='cuda:2') torch.Size([8])\n",
      "09/13/2023, 00:59:44# predicted of 10000: tensor([ 85, 100, 142,  37,  27,  14,  11,  13], device='cuda:2') torch.Size([8])\n",
      "09/13/2023, 01:01:04# labels of 15000: tensor([ 30,  75, 121, 159,  55,  48, 159,  54], device='cuda:2') torch.Size([8])\n",
      "09/13/2023, 01:01:04# predicted of 15000: tensor([ 30,   2,  44, 159, 157,  74, 159, 109], device='cuda:2') torch.Size([8])\n",
      "09/13/2023, 01:01:28# total batches: 16600\n",
      "09/13/2023, 01:01:28# Epoch 28 | Train Loss: 1.4535 | Train Accuracy: 0.6205\n"
     ]
    },
    {
     "data": {
      "application/vnd.jupyter.widget-view+json": {
       "model_id": "26f40babd5654992850671ef54935fa8",
       "version_major": 2,
       "version_minor": 0
      },
      "text/plain": [
       "Validation:   0%|          | 0/2075 [00:00<?, ?it/s]"
      ]
     },
     "metadata": {},
     "output_type": "display_data"
    },
    {
     "name": "stdout",
     "output_type": "stream",
     "text": [
      "09/13/2023, 01:01:28# labels of Validation: tensor([ 43,  26,  18, 112, 165, 115,  27, 165], device='cuda:2') torch.Size([8])\n",
      "09/13/2023, 01:01:28# predicted of Validation: tensor([ 43,  26,   2, 143, 165, 115,  27, 165], device='cuda:2') torch.Size([8])\n",
      "09/13/2023, 01:01:28# labels of 0: tensor([ 43,  26,  18, 112, 165, 115,  27, 165], device='cuda:2') torch.Size([8])\n",
      "09/13/2023, 01:01:28# predicted of 0: tensor([ 43,  26,   2, 143, 165, 115,  27, 165], device='cuda:2') torch.Size([8])\n",
      "09/13/2023, 01:01:39# labels of Validation: tensor([ 55,  29, 142,  88,  59, 165,   8,  68], device='cuda:2') torch.Size([8])\n",
      "09/13/2023, 01:01:39# predicted of Validation: tensor([163,  29,  24,  90,  91, 165,  90,  68], device='cuda:2') torch.Size([8])\n",
      "09/13/2023, 01:01:51# labels of Validation: tensor([ 78, 111,  96,  27, 152,  16,  63,  72], device='cuda:2') torch.Size([8])\n",
      "09/13/2023, 01:01:51# predicted of Validation: tensor([ 67, 164,  96,  27, 143,  16,  63,  72], device='cuda:2') torch.Size([8])\n",
      "09/13/2023, 01:01:51# Validation Loss: 1.4576 | Validation Accuracy: 0.6191\n",
      "\n",
      "09/13/2023, 01:01:51# Find a better model!!\n"
     ]
    },
    {
     "data": {
      "application/vnd.jupyter.widget-view+json": {
       "model_id": "1b55593427e84a119c5b70d7f250a7c6",
       "version_major": 2,
       "version_minor": 0
      },
      "text/plain": [
       "Training:   0%|          | 0/16600 [00:00<?, ?it/s]"
      ]
     },
     "metadata": {},
     "output_type": "display_data"
    },
    {
     "name": "stdout",
     "output_type": "stream",
     "text": [
      "09/13/2023, 01:03:10# labels of 5000: tensor([ 80, 105, 111,  98, 149,  32, 149, 110], device='cuda:2') torch.Size([8])\n",
      "09/13/2023, 01:03:10# predicted of 5000: tensor([ 80, 105,  49,  98, 149,  32, 149,  64], device='cuda:2') torch.Size([8])\n",
      "09/13/2023, 01:04:25# labels of 10000: tensor([ 19,  42,  68,  29, 110, 110, 149,  18], device='cuda:2') torch.Size([8])\n",
      "09/13/2023, 01:04:25# predicted of 10000: tensor([ 19,  74,  90,  29,  68, 113, 149,  11], device='cuda:2') torch.Size([8])\n",
      "09/13/2023, 01:05:40# labels of 15000: tensor([137, 164,  43,  79,  31,  25,  10,  85], device='cuda:2') torch.Size([8])\n",
      "09/13/2023, 01:05:40# predicted of 15000: tensor([137, 150,  43,  79, 109,  25,  10,  85], device='cuda:2') torch.Size([8])\n",
      "09/13/2023, 01:06:05# total batches: 16600\n",
      "09/13/2023, 01:06:05# Epoch 29 | Train Loss: 1.4526 | Train Accuracy: 0.6215\n"
     ]
    },
    {
     "data": {
      "application/vnd.jupyter.widget-view+json": {
       "model_id": "46427dc4285049d9ac447585be051892",
       "version_major": 2,
       "version_minor": 0
      },
      "text/plain": [
       "Validation:   0%|          | 0/2075 [00:00<?, ?it/s]"
      ]
     },
     "metadata": {},
     "output_type": "display_data"
    },
    {
     "name": "stdout",
     "output_type": "stream",
     "text": [
      "09/13/2023, 01:06:05# labels of Validation: tensor([110,  47,  14,   6, 114, 123,  95,  74], device='cuda:2') torch.Size([8])\n",
      "09/13/2023, 01:06:05# predicted of Validation: tensor([114,  49,  47,   6, 114, 123,  95,  30], device='cuda:2') torch.Size([8])\n",
      "09/13/2023, 01:06:05# labels of 0: tensor([110,  47,  14,   6, 114, 123,  95,  74], device='cuda:2') torch.Size([8])\n",
      "09/13/2023, 01:06:05# predicted of 0: tensor([114,  49,  47,   6, 114, 123,  95,  30], device='cuda:2') torch.Size([8])\n",
      "09/13/2023, 01:06:16# labels of Validation: tensor([ 86, 155,  19,  88,  35, 117, 130,  34], device='cuda:2') torch.Size([8])\n",
      "09/13/2023, 01:06:16# predicted of Validation: tensor([ 86, 155,  19,   8,  35, 117, 130,   2], device='cuda:2') torch.Size([8])\n",
      "09/13/2023, 01:06:28# labels of Validation: tensor([ 39,  49, 102,  78,  79,  73, 124,  59], device='cuda:2') torch.Size([8])\n",
      "09/13/2023, 01:06:28# predicted of Validation: tensor([ 39,  49, 102,  67,  79,  73,  30,  91], device='cuda:2') torch.Size([8])\n",
      "09/13/2023, 01:06:29# Validation Loss: 1.4569 | Validation Accuracy: 0.6166\n",
      "\n",
      "09/13/2023, 01:06:29# Find a better model!!\n"
     ]
    },
    {
     "data": {
      "application/vnd.jupyter.widget-view+json": {
       "model_id": "b6a3459874434a4a85b548c0554bb4f0",
       "version_major": 2,
       "version_minor": 0
      },
      "text/plain": [
       "Training:   0%|          | 0/16600 [00:00<?, ?it/s]"
      ]
     },
     "metadata": {},
     "output_type": "display_data"
    },
    {
     "name": "stdout",
     "output_type": "stream",
     "text": [
      "09/13/2023, 01:07:42# labels of 5000: tensor([100,  77,  82,  53,  79, 150,  65,  85], device='cuda:2') torch.Size([8])\n",
      "09/13/2023, 01:07:42# predicted of 5000: tensor([100,  77,  82,  74,  79, 150,  65,  85], device='cuda:2') torch.Size([8])\n",
      "09/13/2023, 01:08:52# labels of 10000: tensor([ 84,  10, 111, 106,  69, 118, 115, 123], device='cuda:2') torch.Size([8])\n",
      "09/13/2023, 01:08:52# predicted of 10000: tensor([ 84,  10,  49, 106,  69, 118, 115, 123], device='cuda:2') torch.Size([8])\n",
      "09/13/2023, 01:10:06# labels of 15000: tensor([ 86,  62,  85,  59, 113,  80,  93,  97], device='cuda:2') torch.Size([8])\n",
      "09/13/2023, 01:10:06# predicted of 15000: tensor([ 86,  62,  85,  59,  93,  80, 114,  30], device='cuda:2') torch.Size([8])\n",
      "09/13/2023, 01:10:30# total batches: 16600\n",
      "09/13/2023, 01:10:30# Epoch 30 | Train Loss: 1.4520 | Train Accuracy: 0.6222\n"
     ]
    },
    {
     "data": {
      "application/vnd.jupyter.widget-view+json": {
       "model_id": "62f232f8912f4a1c84c20d55eb20a915",
       "version_major": 2,
       "version_minor": 0
      },
      "text/plain": [
       "Validation:   0%|          | 0/2075 [00:00<?, ?it/s]"
      ]
     },
     "metadata": {},
     "output_type": "display_data"
    },
    {
     "name": "stdout",
     "output_type": "stream",
     "text": [
      "09/13/2023, 01:10:30# labels of Validation: tensor([ 18,  75,  77, 156, 154,  85,  95, 105], device='cuda:2') torch.Size([8])\n",
      "09/13/2023, 01:10:30# predicted of Validation: tensor([121,  49,  77, 156, 154,  85,  95, 105], device='cuda:2') torch.Size([8])\n",
      "09/13/2023, 01:10:30# labels of 0: tensor([ 18,  75,  77, 156, 154,  85,  95, 105], device='cuda:2') torch.Size([8])\n",
      "09/13/2023, 01:10:30# predicted of 0: tensor([121,  49,  77, 156, 154,  85,  95, 105], device='cuda:2') torch.Size([8])\n",
      "09/13/2023, 01:10:41# labels of Validation: tensor([  5, 105,  72,  50, 166, 134,  51,   5], device='cuda:2') torch.Size([8])\n",
      "09/13/2023, 01:10:41# predicted of Validation: tensor([  5, 105,  72,  50, 166, 134,  51,   5], device='cuda:2') torch.Size([8])\n",
      "09/13/2023, 01:10:52# labels of Validation: tensor([ 17,  36,  74,  72,  17,  37,  65, 101], device='cuda:2') torch.Size([8])\n",
      "09/13/2023, 01:10:52# predicted of Validation: tensor([ 17,  49, 150,  72,  17,  37,  65, 101], device='cuda:2') torch.Size([8])\n",
      "09/13/2023, 01:10:53# Validation Loss: 1.4569 | Validation Accuracy: 0.6166\n",
      "\n"
     ]
    },
    {
     "data": {
      "application/vnd.jupyter.widget-view+json": {
       "model_id": "28374a15a1de468683b1ab1c051953f5",
       "version_major": 2,
       "version_minor": 0
      },
      "text/plain": [
       "Training:   0%|          | 0/16600 [00:00<?, ?it/s]"
      ]
     },
     "metadata": {},
     "output_type": "display_data"
    },
    {
     "name": "stdout",
     "output_type": "stream",
     "text": [
      "09/13/2023, 01:12:13# labels of 5000: tensor([150, 108, 166,  83, 155, 113,  11, 116], device='cuda:2') torch.Size([8])\n",
      "09/13/2023, 01:12:13# predicted of 5000: tensor([124, 108, 166,  47, 155,  64, 124,  74], device='cuda:2') torch.Size([8])\n",
      "09/13/2023, 01:13:29# labels of 10000: tensor([ 64, 125,  88,   8, 101, 143, 108,  55], device='cuda:2') torch.Size([8])\n",
      "09/13/2023, 01:13:29# predicted of 10000: tensor([110,  30,  93,   8, 101, 109, 131,  49], device='cuda:2') torch.Size([8])\n",
      "09/13/2023, 01:14:42# labels of 15000: tensor([116, 138, 121,  20,  70,  67,   0,  87], device='cuda:2') torch.Size([8])\n",
      "09/13/2023, 01:14:42# predicted of 15000: tensor([ 30, 138,  75,  20,  70,  78,   0, 163], device='cuda:2') torch.Size([8])\n",
      "09/13/2023, 01:15:06# total batches: 16600\n",
      "09/13/2023, 01:15:06# Epoch 31 | Train Loss: 1.4523 | Train Accuracy: 0.6219\n"
     ]
    },
    {
     "data": {
      "application/vnd.jupyter.widget-view+json": {
       "model_id": "86cee6379cae49d6b1d7ece37257ebc2",
       "version_major": 2,
       "version_minor": 0
      },
      "text/plain": [
       "Validation:   0%|          | 0/2075 [00:00<?, ?it/s]"
      ]
     },
     "metadata": {},
     "output_type": "display_data"
    },
    {
     "name": "stdout",
     "output_type": "stream",
     "text": [
      "09/13/2023, 01:15:06# labels of Validation: tensor([109,  24, 133,  99, 111, 128,  43,   6], device='cuda:2') torch.Size([8])\n",
      "09/13/2023, 01:15:06# predicted of Validation: tensor([157,  34, 133,  99, 164, 128,  43,   6], device='cuda:2') torch.Size([8])\n",
      "09/13/2023, 01:15:06# labels of 0: tensor([109,  24, 133,  99, 111, 128,  43,   6], device='cuda:2') torch.Size([8])\n",
      "09/13/2023, 01:15:06# predicted of 0: tensor([157,  34, 133,  99, 164, 128,  43,   6], device='cuda:2') torch.Size([8])\n",
      "09/13/2023, 01:15:18# labels of Validation: tensor([122, 110, 103,  79,  17, 110,  97, 153], device='cuda:2') torch.Size([8])\n",
      "09/13/2023, 01:15:18# predicted of Validation: tensor([122,   8, 103,  79,  17,  88,   2, 153], device='cuda:2') torch.Size([8])\n",
      "09/13/2023, 01:15:29# labels of Validation: tensor([16, 49, 12, 86, 30, 86, 89, 20], device='cuda:2') torch.Size([8])\n",
      "09/13/2023, 01:15:29# predicted of Validation: tensor([ 16,   2,  14,  86, 152,  86,  89,  20], device='cuda:2') torch.Size([8])\n",
      "09/13/2023, 01:15:30# Validation Loss: 1.4568 | Validation Accuracy: 0.6174\n",
      "\n",
      "09/13/2023, 01:15:30# Find a better model!!\n"
     ]
    },
    {
     "data": {
      "application/vnd.jupyter.widget-view+json": {
       "model_id": "4b147273abee4781909c1fe593066acb",
       "version_major": 2,
       "version_minor": 0
      },
      "text/plain": [
       "Training:   0%|          | 0/16600 [00:00<?, ?it/s]"
      ]
     },
     "metadata": {},
     "output_type": "display_data"
    },
    {
     "name": "stdout",
     "output_type": "stream",
     "text": [
      "09/13/2023, 01:16:46# labels of 5000: tensor([ 32,  50,  29,  86,  85,  92,  79, 159], device='cuda:2') torch.Size([8])\n",
      "09/13/2023, 01:16:46# predicted of 5000: tensor([ 32,  50,  29,  86,  85, 142,  79, 159], device='cuda:2') torch.Size([8])\n",
      "09/13/2023, 01:18:01# labels of 10000: tensor([159, 107,  12,  21,  94, 115,  69,  96], device='cuda:2') torch.Size([8])\n",
      "09/13/2023, 01:18:01# predicted of 10000: tensor([159, 107,   2,  21,  94, 115,  69,  96], device='cuda:2') torch.Size([8])\n",
      "09/13/2023, 01:19:17# labels of 15000: tensor([149, 125,  96,  21,  30,  28,  40, 107], device='cuda:2') torch.Size([8])\n",
      "09/13/2023, 01:19:17# predicted of 15000: tensor([149,  87,  96,  21, 125,  28,  40, 107], device='cuda:2') torch.Size([8])\n",
      "09/13/2023, 01:19:42# total batches: 16600\n",
      "09/13/2023, 01:19:42# Epoch 32 | Train Loss: 1.4530 | Train Accuracy: 0.6210\n"
     ]
    },
    {
     "data": {
      "application/vnd.jupyter.widget-view+json": {
       "model_id": "227abfc5a3d64d1da81fbff6b5d30348",
       "version_major": 2,
       "version_minor": 0
      },
      "text/plain": [
       "Validation:   0%|          | 0/2075 [00:00<?, ?it/s]"
      ]
     },
     "metadata": {},
     "output_type": "display_data"
    },
    {
     "name": "stdout",
     "output_type": "stream",
     "text": [
      "09/13/2023, 01:19:42# labels of Validation: tensor([ 96, 105,  19,  86,  56,  80,  30,   5], device='cuda:2') torch.Size([8])\n",
      "09/13/2023, 01:19:42# predicted of Validation: tensor([ 96, 105,  19,  86,  56,  80, 124,   5], device='cuda:2') torch.Size([8])\n",
      "09/13/2023, 01:19:42# labels of 0: tensor([ 96, 105,  19,  86,  56,  80,  30,   5], device='cuda:2') torch.Size([8])\n",
      "09/13/2023, 01:19:42# predicted of 0: tensor([ 96, 105,  19,  86,  56,  80, 124,   5], device='cuda:2') torch.Size([8])\n",
      "09/13/2023, 01:19:54# labels of Validation: tensor([113,  13,  15,  39,  19, 149, 104,  24], device='cuda:2') torch.Size([8])\n",
      "09/13/2023, 01:19:54# predicted of Validation: tensor([103,  13,  15,  39,  19, 149, 124,  83], device='cuda:2') torch.Size([8])\n",
      "09/13/2023, 01:20:05# labels of Validation: tensor([166,  85,   6, 105, 143,  38,  55, 101], device='cuda:2') torch.Size([8])\n",
      "09/13/2023, 01:20:05# predicted of Validation: tensor([166,  85,   6, 105,  12, 143,  83, 101], device='cuda:2') torch.Size([8])\n",
      "09/13/2023, 01:20:06# Validation Loss: 1.4573 | Validation Accuracy: 0.6190\n",
      "\n"
     ]
    },
    {
     "data": {
      "application/vnd.jupyter.widget-view+json": {
       "model_id": "816a701ecc744f0a9d787e9115e2dc51",
       "version_major": 2,
       "version_minor": 0
      },
      "text/plain": [
       "Training:   0%|          | 0/16600 [00:00<?, ?it/s]"
      ]
     },
     "metadata": {},
     "output_type": "display_data"
    },
    {
     "name": "stdout",
     "output_type": "stream",
     "text": [
      "09/13/2023, 01:21:22# labels of 5000: tensor([ 21, 140, 140,  13,  50,  47,  78,  58], device='cuda:2') torch.Size([8])\n",
      "09/13/2023, 01:21:22# predicted of 5000: tensor([ 21, 140, 140,  13,  50,  53,  67,  58], device='cuda:2') torch.Size([8])\n",
      "09/13/2023, 01:22:38# labels of 10000: tensor([154,  15, 160,  80,  19,  71,  92, 102], device='cuda:2') torch.Size([8])\n",
      "09/13/2023, 01:22:38# predicted of 10000: tensor([154,  15, 160,  80,  19,  71, 152, 102], device='cuda:2') torch.Size([8])\n",
      "09/13/2023, 01:23:54# labels of 15000: tensor([ 32,  45,  45,  53, 119, 106, 110, 147], device='cuda:2') torch.Size([8])\n",
      "09/13/2023, 01:23:54# predicted of 15000: tensor([ 32,  45,  45,  74,  60, 106,  93, 147], device='cuda:2') torch.Size([8])\n",
      "09/13/2023, 01:24:18# total batches: 16600\n",
      "09/13/2023, 01:24:18# Epoch 33 | Train Loss: 1.4540 | Train Accuracy: 0.6199\n"
     ]
    },
    {
     "data": {
      "application/vnd.jupyter.widget-view+json": {
       "model_id": "27ca2b092d364abeb6b68ee58b467fef",
       "version_major": 2,
       "version_minor": 0
      },
      "text/plain": [
       "Validation:   0%|          | 0/2075 [00:00<?, ?it/s]"
      ]
     },
     "metadata": {},
     "output_type": "display_data"
    },
    {
     "name": "stdout",
     "output_type": "stream",
     "text": [
      "09/13/2023, 01:24:18# labels of Validation: tensor([135, 119, 137,  45, 106,  69, 145, 131], device='cuda:2') torch.Size([8])\n",
      "09/13/2023, 01:24:18# predicted of Validation: tensor([135,  44, 137,  45, 106,  69, 145, 131], device='cuda:2') torch.Size([8])\n",
      "09/13/2023, 01:24:18# labels of 0: tensor([135, 119, 137,  45, 106,  69, 145, 131], device='cuda:2') torch.Size([8])\n",
      "09/13/2023, 01:24:18# predicted of 0: tensor([135,  44, 137,  45, 106,  69, 145, 131], device='cuda:2') torch.Size([8])\n",
      "09/13/2023, 01:24:29# labels of Validation: tensor([111,  83, 141,  78,   4,  42, 144,  51], device='cuda:2') torch.Size([8])\n",
      "09/13/2023, 01:24:29# predicted of Validation: tensor([ 54,  92, 141,  78, 152,  92, 125,  51], device='cuda:2') torch.Size([8])\n",
      "09/13/2023, 01:24:41# labels of Validation: tensor([135, 131,   2,  72,  16, 137,  14, 166], device='cuda:2') torch.Size([8])\n",
      "09/13/2023, 01:24:41# predicted of Validation: tensor([135, 131,  74,  72,  16, 137, 119, 166], device='cuda:2') torch.Size([8])\n",
      "09/13/2023, 01:24:42# Validation Loss: 1.4574 | Validation Accuracy: 0.6161\n",
      "\n"
     ]
    },
    {
     "data": {
      "application/vnd.jupyter.widget-view+json": {
       "model_id": "96d1168473d74acbb3d24ed0086cba47",
       "version_major": 2,
       "version_minor": 0
      },
      "text/plain": [
       "Training:   0%|          | 0/16600 [00:00<?, ?it/s]"
      ]
     },
     "metadata": {},
     "output_type": "display_data"
    },
    {
     "name": "stdout",
     "output_type": "stream",
     "text": [
      "09/13/2023, 01:25:58# labels of 5000: tensor([100, 161, 158, 110,   4, 119, 128,   8], device='cuda:2') torch.Size([8])\n",
      "09/13/2023, 01:25:58# predicted of 5000: tensor([100, 161,  75, 110,  75, 152, 128, 110], device='cuda:2') torch.Size([8])\n",
      "09/13/2023, 01:27:15# labels of 10000: tensor([141,  47,  19, 148,  35,  99, 130,  55], device='cuda:2') torch.Size([8])\n",
      "09/13/2023, 01:27:15# predicted of 10000: tensor([141,  31,  19, 148,  35,  99, 130,  31], device='cuda:2') torch.Size([8])\n",
      "09/13/2023, 01:28:27# labels of 15000: tensor([ 89,  13,  74,  44,  51,  97, 133,  86], device='cuda:2') torch.Size([8])\n",
      "09/13/2023, 01:28:27# predicted of 15000: tensor([ 89,  13, 142, 142,  51,  42, 133,  86], device='cuda:2') torch.Size([8])\n",
      "09/13/2023, 01:28:49# total batches: 16600\n",
      "09/13/2023, 01:28:49# Epoch 34 | Train Loss: 1.4548 | Train Accuracy: 0.6198\n"
     ]
    },
    {
     "data": {
      "application/vnd.jupyter.widget-view+json": {
       "model_id": "16ead34f3a904f9f9fd231735e2025fc",
       "version_major": 2,
       "version_minor": 0
      },
      "text/plain": [
       "Validation:   0%|          | 0/2075 [00:00<?, ?it/s]"
      ]
     },
     "metadata": {},
     "output_type": "display_data"
    },
    {
     "name": "stdout",
     "output_type": "stream",
     "text": [
      "09/13/2023, 01:28:49# labels of Validation: tensor([ 80,  18,  88, 148,  73, 164,   0,  65], device='cuda:2') torch.Size([8])\n",
      "09/13/2023, 01:28:49# predicted of Validation: tensor([ 80,  47,  93, 148,  73,  47,   0,  65], device='cuda:2') torch.Size([8])\n",
      "09/13/2023, 01:28:49# labels of 0: tensor([ 80,  18,  88, 148,  73, 164,   0,  65], device='cuda:2') torch.Size([8])\n",
      "09/13/2023, 01:28:49# predicted of 0: tensor([ 80,  47,  93, 148,  73,  47,   0,  65], device='cuda:2') torch.Size([8])\n",
      "09/13/2023, 01:29:01# labels of Validation: tensor([ 52,  90, 152, 145, 157,  36, 155, 115], device='cuda:2') torch.Size([8])\n",
      "09/13/2023, 01:29:01# predicted of Validation: tensor([ 52, 113,  30, 145, 164,  47, 155, 115], device='cuda:2') torch.Size([8])\n",
      "09/13/2023, 01:29:12# labels of Validation: tensor([163,  71, 120,  53, 105,  49, 156, 100], device='cuda:2') torch.Size([8])\n",
      "09/13/2023, 01:29:12# predicted of Validation: tensor([ 47,  71, 120,  47, 105,  47, 156, 100], device='cuda:2') torch.Size([8])\n",
      "09/13/2023, 01:29:13# Validation Loss: 1.4591 | Validation Accuracy: 0.6172\n",
      "\n"
     ]
    },
    {
     "data": {
      "application/vnd.jupyter.widget-view+json": {
       "model_id": "cc26f6ef4d3741e1b4f1b72364230503",
       "version_major": 2,
       "version_minor": 0
      },
      "text/plain": [
       "Training:   0%|          | 0/16600 [00:00<?, ?it/s]"
      ]
     },
     "metadata": {},
     "output_type": "display_data"
    },
    {
     "name": "stdout",
     "output_type": "stream",
     "text": [
      "09/13/2023, 01:30:26# labels of 5000: tensor([98, 91, 78, 62, 87, 64, 60, 53], device='cuda:2') torch.Size([8])\n",
      "09/13/2023, 01:30:26# predicted of 5000: tensor([98, 91, 67, 62, 87, 68, 33, 87], device='cuda:2') torch.Size([8])\n",
      "09/13/2023, 01:31:42# labels of 10000: tensor([ 19, 159,  19,  20,  47,  74,  76, 122], device='cuda:2') torch.Size([8])\n",
      "09/13/2023, 01:31:42# predicted of 10000: tensor([ 19, 159,  19,  20,   4,  14,   4, 122], device='cuda:2') torch.Size([8])\n",
      "09/13/2023, 01:32:55# labels of 15000: tensor([123,  53,  81,  17, 148, 109,  15,  48], device='cuda:2') torch.Size([8])\n",
      "09/13/2023, 01:32:55# predicted of 15000: tensor([123,  34,  34,  17, 148,   1,  15,  34], device='cuda:2') torch.Size([8])\n",
      "09/13/2023, 01:33:21# total batches: 16600\n",
      "09/13/2023, 01:33:21# Epoch 35 | Train Loss: 1.4561 | Train Accuracy: 0.6192\n"
     ]
    },
    {
     "data": {
      "application/vnd.jupyter.widget-view+json": {
       "model_id": "39cdd1d84c25422589681b7521cba393",
       "version_major": 2,
       "version_minor": 0
      },
      "text/plain": [
       "Validation:   0%|          | 0/2075 [00:00<?, ?it/s]"
      ]
     },
     "metadata": {},
     "output_type": "display_data"
    },
    {
     "name": "stdout",
     "output_type": "stream",
     "text": [
      "09/13/2023, 01:33:21# labels of Validation: tensor([132,   6, 138,  91,  23,   0, 131, 106], device='cuda:2') torch.Size([8])\n",
      "09/13/2023, 01:33:21# predicted of Validation: tensor([132,   6, 138,  59,  23,   0, 108, 106], device='cuda:2') torch.Size([8])\n",
      "09/13/2023, 01:33:21# labels of 0: tensor([132,   6, 138,  91,  23,   0, 131, 106], device='cuda:2') torch.Size([8])\n",
      "09/13/2023, 01:33:21# predicted of 0: tensor([132,   6, 138,  59,  23,   0, 108, 106], device='cuda:2') torch.Size([8])\n",
      "09/13/2023, 01:33:32# labels of Validation: tensor([ 13,  88,  57, 144,  18, 133,  60,  97], device='cuda:2') torch.Size([8])\n",
      "09/13/2023, 01:33:32# predicted of Validation: tensor([ 13, 114,  44,  44,  49, 133,  44,  44], device='cuda:2') torch.Size([8])\n",
      "09/13/2023, 01:33:43# labels of Validation: tensor([ 33, 117,  66,   3,  33,  32,  12,  40], device='cuda:2') torch.Size([8])\n",
      "09/13/2023, 01:33:43# predicted of Validation: tensor([ 44, 117,  66,   3,  44,  32,  44,  40], device='cuda:2') torch.Size([8])\n",
      "09/13/2023, 01:33:44# Validation Loss: 1.4602 | Validation Accuracy: 0.6176\n",
      "\n"
     ]
    },
    {
     "data": {
      "application/vnd.jupyter.widget-view+json": {
       "model_id": "5aa7bcad887a4563b230c8aa32c67b83",
       "version_major": 2,
       "version_minor": 0
      },
      "text/plain": [
       "Training:   0%|          | 0/16600 [00:00<?, ?it/s]"
      ]
     },
     "metadata": {},
     "output_type": "display_data"
    },
    {
     "name": "stdout",
     "output_type": "stream",
     "text": [
      "09/13/2023, 01:35:01# labels of 5000: tensor([127, 118,  29, 129, 100, 133,  67,  80], device='cuda:2') torch.Size([8])\n",
      "09/13/2023, 01:35:01# predicted of 5000: tensor([127, 118,  29, 129, 100, 133,  67,  80], device='cuda:2') torch.Size([8])\n",
      "09/13/2023, 01:36:16# labels of 10000: tensor([ 97, 134,  45, 132, 125, 130,  28,  29], device='cuda:2') torch.Size([8])\n",
      "09/13/2023, 01:36:16# predicted of 10000: tensor([  2, 134,  45, 132,   2, 130,  28,  29], device='cuda:2') torch.Size([8])\n",
      "09/13/2023, 01:37:34# labels of 15000: tensor([ 23, 148,  47,  16, 118, 120,  88,   0], device='cuda:2') torch.Size([8])\n",
      "09/13/2023, 01:37:34# predicted of 15000: tensor([ 23, 148, 111,  16, 118, 120, 113,   0], device='cuda:2') torch.Size([8])\n",
      "09/13/2023, 01:37:57# total batches: 16600\n",
      "09/13/2023, 01:37:57# Epoch 36 | Train Loss: 1.4568 | Train Accuracy: 0.6189\n"
     ]
    },
    {
     "data": {
      "application/vnd.jupyter.widget-view+json": {
       "model_id": "9d82375cb7f14d1d93dfa34814da4196",
       "version_major": 2,
       "version_minor": 0
      },
      "text/plain": [
       "Validation:   0%|          | 0/2075 [00:00<?, ?it/s]"
      ]
     },
     "metadata": {},
     "output_type": "display_data"
    },
    {
     "name": "stdout",
     "output_type": "stream",
     "text": [
      "09/13/2023, 01:37:57# labels of Validation: tensor([ 62,  98, 157, 126,   1,  11,  90, 101], device='cuda:2') torch.Size([8])\n",
      "09/13/2023, 01:37:57# predicted of Validation: tensor([ 62,  98,  12, 126, 143,  12,   8, 101], device='cuda:2') torch.Size([8])\n",
      "09/13/2023, 01:37:57# labels of 0: tensor([ 62,  98, 157, 126,   1,  11,  90, 101], device='cuda:2') torch.Size([8])\n",
      "09/13/2023, 01:37:57# predicted of 0: tensor([ 62,  98,  12, 126, 143,  12,   8, 101], device='cuda:2') torch.Size([8])\n",
      "09/13/2023, 01:38:08# labels of Validation: tensor([ 26,  66, 107,  57, 100,  72,  14,  26], device='cuda:2') torch.Size([8])\n",
      "09/13/2023, 01:38:08# predicted of Validation: tensor([ 26,  66, 107,  12, 100,  72,  12,  26], device='cuda:2') torch.Size([8])\n",
      "09/13/2023, 01:38:19# labels of Validation: tensor([ 57,  65, 103, 165,  46,  99, 163,  42], device='cuda:2') torch.Size([8])\n",
      "09/13/2023, 01:38:19# predicted of Validation: tensor([143,  65,  93, 165,  46,  99, 143,  12], device='cuda:2') torch.Size([8])\n",
      "09/13/2023, 01:38:20# Validation Loss: 1.4600 | Validation Accuracy: 0.6142\n",
      "\n"
     ]
    },
    {
     "data": {
      "application/vnd.jupyter.widget-view+json": {
       "model_id": "c343c05acc4244b282eb49d9435101c8",
       "version_major": 2,
       "version_minor": 0
      },
      "text/plain": [
       "Training:   0%|          | 0/16600 [00:00<?, ?it/s]"
      ]
     },
     "metadata": {},
     "output_type": "display_data"
    },
    {
     "name": "stdout",
     "output_type": "stream",
     "text": [
      "09/13/2023, 01:39:36# labels of 5000: tensor([118, 101,  34, 149,  36, 103,  51,  47], device='cuda:2') torch.Size([8])\n",
      "09/13/2023, 01:39:36# predicted of 5000: tensor([118, 101,  34, 149,  34, 114,  51,  34], device='cuda:2') torch.Size([8])\n",
      "09/13/2023, 01:40:54# labels of 10000: tensor([ 90,  24, 162,  94,  34, 158, 164,  12], device='cuda:2') torch.Size([8])\n",
      "09/13/2023, 01:40:54# predicted of 10000: tensor([110, 143,  97,  94, 143, 143, 143, 143], device='cuda:2') torch.Size([8])\n",
      "09/13/2023, 01:42:12# labels of 15000: tensor([ 83,  98,  14, 129, 119,  15,  58,  23], device='cuda:2') torch.Size([8])\n",
      "09/13/2023, 01:42:12# predicted of 15000: tensor([144,  98,  81, 129,  48,  15,  58,  23], device='cuda:2') torch.Size([8])\n",
      "09/13/2023, 01:42:37# total batches: 16600\n",
      "09/13/2023, 01:42:37# Epoch 37 | Train Loss: 1.4575 | Train Accuracy: 0.6184\n"
     ]
    },
    {
     "data": {
      "application/vnd.jupyter.widget-view+json": {
       "model_id": "8bbf46a1e4764df9aa3b36599c6a1c1a",
       "version_major": 2,
       "version_minor": 0
      },
      "text/plain": [
       "Validation:   0%|          | 0/2075 [00:00<?, ?it/s]"
      ]
     },
     "metadata": {},
     "output_type": "display_data"
    },
    {
     "name": "stdout",
     "output_type": "stream",
     "text": [
      "09/13/2023, 01:42:37# labels of Validation: tensor([ 58, 154,  38, 152, 124, 101,   7, 124], device='cuda:2') torch.Size([8])\n",
      "09/13/2023, 01:42:37# predicted of Validation: tensor([ 58, 154,  30,  30,  53, 101,   7,  53], device='cuda:2') torch.Size([8])\n",
      "09/13/2023, 01:42:37# labels of 0: tensor([ 58, 154,  38, 152, 124, 101,   7, 124], device='cuda:2') torch.Size([8])\n",
      "09/13/2023, 01:42:37# predicted of 0: tensor([ 58, 154,  30,  30,  53, 101,   7,  53], device='cuda:2') torch.Size([8])\n",
      "09/13/2023, 01:42:48# labels of Validation: tensor([ 50, 128,  57,  65, 154,   8, 121, 138], device='cuda:2') torch.Size([8])\n",
      "09/13/2023, 01:42:48# predicted of Validation: tensor([ 50, 128,  30,  65, 154,  93,  53, 138], device='cuda:2') torch.Size([8])\n",
      "09/13/2023, 01:43:00# labels of Validation: tensor([101, 119, 139, 125,  19,  46, 129, 125], device='cuda:2') torch.Size([8])\n",
      "09/13/2023, 01:43:00# predicted of Validation: tensor([101,  30, 139,  53,  19,  46, 129, 121], device='cuda:2') torch.Size([8])\n",
      "09/13/2023, 01:43:01# Validation Loss: 1.4608 | Validation Accuracy: 0.6148\n",
      "\n"
     ]
    },
    {
     "data": {
      "application/vnd.jupyter.widget-view+json": {
       "model_id": "288188ae61584bc1b32cc22d051b1e41",
       "version_major": 2,
       "version_minor": 0
      },
      "text/plain": [
       "Training:   0%|          | 0/16600 [00:00<?, ?it/s]"
      ]
     },
     "metadata": {},
     "output_type": "display_data"
    },
    {
     "name": "stdout",
     "output_type": "stream",
     "text": [
      "09/13/2023, 01:44:18# labels of 5000: tensor([ 42,  70, 130,   9,   8,  78,  20,  86], device='cuda:2') torch.Size([8])\n",
      "09/13/2023, 01:44:18# predicted of 5000: tensor([ 97,  70, 130, 119,  93,  78,  20,  86], device='cuda:2') torch.Size([8])\n",
      "09/13/2023, 01:45:31# labels of 10000: tensor([ 77,   6, 127,  91,  97,  79,  25, 138], device='cuda:2') torch.Size([8])\n",
      "09/13/2023, 01:45:31# predicted of 10000: tensor([ 77,   6, 127,  91,  55,  79,  25, 138], device='cuda:2') torch.Size([8])\n",
      "09/13/2023, 01:46:49# labels of 15000: tensor([164, 152,  17,  35,  60, 105,  57, 160], device='cuda:2') torch.Size([8])\n",
      "09/13/2023, 01:46:49# predicted of 15000: tensor([143,  48,  17,  35, 152, 105, 143, 160], device='cuda:2') torch.Size([8])\n",
      "09/13/2023, 01:47:14# total batches: 16600\n",
      "09/13/2023, 01:47:14# Epoch 38 | Train Loss: 1.4576 | Train Accuracy: 0.6189\n"
     ]
    },
    {
     "data": {
      "application/vnd.jupyter.widget-view+json": {
       "model_id": "e13a76d1658b4cf198c1e82fa2cdfc75",
       "version_major": 2,
       "version_minor": 0
      },
      "text/plain": [
       "Validation:   0%|          | 0/2075 [00:00<?, ?it/s]"
      ]
     },
     "metadata": {},
     "output_type": "display_data"
    },
    {
     "name": "stdout",
     "output_type": "stream",
     "text": [
      "09/13/2023, 01:47:14# labels of Validation: tensor([109,  81,  94, 128, 162, 120, 106, 131], device='cuda:2') torch.Size([8])\n",
      "09/13/2023, 01:47:14# predicted of Validation: tensor([109, 125,  94, 128, 104, 120, 106, 131], device='cuda:2') torch.Size([8])\n",
      "09/13/2023, 01:47:14# labels of 0: tensor([109,  81,  94, 128, 162, 120, 106, 131], device='cuda:2') torch.Size([8])\n",
      "09/13/2023, 01:47:14# predicted of 0: tensor([109, 125,  94, 128, 104, 120, 106, 131], device='cuda:2') torch.Size([8])\n",
      "09/13/2023, 01:47:26# labels of Validation: tensor([ 68,  94,  50,  83,  38, 117,  56, 163], device='cuda:2') torch.Size([8])\n",
      "09/13/2023, 01:47:26# predicted of Validation: tensor([  8,  94,  50, 119, 125, 117,  56,  18], device='cuda:2') torch.Size([8])\n",
      "09/13/2023, 01:47:37# labels of Validation: tensor([ 15,  26, 104,  13, 119, 102, 123, 113], device='cuda:2') torch.Size([8])\n",
      "09/13/2023, 01:47:37# predicted of Validation: tensor([ 15,  26,  18,  13,   4, 102, 123,   8], device='cuda:2') torch.Size([8])\n",
      "09/13/2023, 01:47:38# Validation Loss: 1.4597 | Validation Accuracy: 0.6193\n",
      "\n"
     ]
    },
    {
     "data": {
      "application/vnd.jupyter.widget-view+json": {
       "model_id": "64fc715b69cb40b19f735f0004fa9610",
       "version_major": 2,
       "version_minor": 0
      },
      "text/plain": [
       "Training:   0%|          | 0/16600 [00:00<?, ?it/s]"
      ]
     },
     "metadata": {},
     "output_type": "display_data"
    },
    {
     "name": "stdout",
     "output_type": "stream",
     "text": [
      "09/13/2023, 01:48:49# labels of 5000: tensor([158,  57,  51, 166, 126, 142, 116,  44], device='cuda:2') torch.Size([8])\n",
      "09/13/2023, 01:48:49# predicted of 5000: tensor([124, 124,  51, 166, 126, 124, 124, 124], device='cuda:2') torch.Size([8])\n",
      "09/13/2023, 01:50:01# labels of 10000: tensor([ 85, 137,  16,  20, 116,  56,  14,   5], device='cuda:2') torch.Size([8])\n",
      "09/13/2023, 01:50:01# predicted of 10000: tensor([ 85, 137,  16,  20, 151,  56, 151,   5], device='cuda:2') torch.Size([8])\n",
      "09/13/2023, 01:51:18# labels of 15000: tensor([151,  36,   1,  41,  92,  51, 103,  42], device='cuda:2') torch.Size([8])\n",
      "09/13/2023, 01:51:18# predicted of 15000: tensor([121,  47, 152,  41, 109,  51,  90,   1], device='cuda:2') torch.Size([8])\n",
      "09/13/2023, 01:51:43# total batches: 16600\n",
      "09/13/2023, 01:51:43# Epoch 39 | Train Loss: 1.4569 | Train Accuracy: 0.6191\n"
     ]
    },
    {
     "data": {
      "application/vnd.jupyter.widget-view+json": {
       "model_id": "dba7fb6937a94118b49f01e66eaf21ba",
       "version_major": 2,
       "version_minor": 0
      },
      "text/plain": [
       "Validation:   0%|          | 0/2075 [00:00<?, ?it/s]"
      ]
     },
     "metadata": {},
     "output_type": "display_data"
    },
    {
     "name": "stdout",
     "output_type": "stream",
     "text": [
      "09/13/2023, 01:51:43# labels of Validation: tensor([110,  46, 129, 126,  58, 107,  79,  33], device='cuda:2') torch.Size([8])\n",
      "09/13/2023, 01:51:43# predicted of Validation: tensor([ 88,  46, 129, 126,  58, 107,  79,  47], device='cuda:2') torch.Size([8])\n",
      "09/13/2023, 01:51:43# labels of 0: tensor([110,  46, 129, 126,  58, 107,  79,  33], device='cuda:2') torch.Size([8])\n",
      "09/13/2023, 01:51:43# predicted of 0: tensor([ 88,  46, 129, 126,  58, 107,  79,  47], device='cuda:2') torch.Size([8])\n",
      "09/13/2023, 01:51:55# labels of Validation: tensor([ 50,  75,  16, 144, 121,   8,  83, 114], device='cuda:2') torch.Size([8])\n",
      "09/13/2023, 01:51:55# predicted of Validation: tensor([ 50, 151,  16, 151, 152,  88, 151,  88], device='cuda:2') torch.Size([8])\n",
      "09/13/2023, 01:52:07# labels of Validation: tensor([ 67,  54,  90,  26, 161,  81, 160,  98], device='cuda:2') torch.Size([8])\n",
      "09/13/2023, 01:52:07# predicted of Validation: tensor([ 67, 151,  88,  26, 161, 151, 160,  98], device='cuda:2') torch.Size([8])\n",
      "09/13/2023, 01:52:08# Validation Loss: 1.4605 | Validation Accuracy: 0.6190\n",
      "\n"
     ]
    },
    {
     "data": {
      "application/vnd.jupyter.widget-view+json": {
       "model_id": "1934531431624fb19b4f8563e8d3206e",
       "version_major": 2,
       "version_minor": 0
      },
      "text/plain": [
       "Training:   0%|          | 0/16600 [00:00<?, ?it/s]"
      ]
     },
     "metadata": {},
     "output_type": "display_data"
    },
    {
     "name": "stdout",
     "output_type": "stream",
     "text": [
      "09/13/2023, 01:53:23# labels of 5000: tensor([141, 158, 118,  36, 157,   0,  59, 138], device='cuda:2') torch.Size([8])\n",
      "09/13/2023, 01:53:23# predicted of 5000: tensor([141,   9, 118,  33,  14,   0,  59, 138], device='cuda:2') torch.Size([8])\n",
      "09/13/2023, 01:54:40# labels of 10000: tensor([ 56, 103,  39, 115, 149,  92,  29,  48], device='cuda:2') torch.Size([8])\n",
      "09/13/2023, 01:54:40# predicted of 10000: tensor([ 56,  93,  39, 115, 149,  11,  29,  36], device='cuda:2') torch.Size([8])\n",
      "09/13/2023, 01:55:53# labels of 15000: tensor([  5,  35, 144,   3,   9,  85, 121, 155], device='cuda:2') torch.Size([8])\n",
      "09/13/2023, 01:55:53# predicted of 15000: tensor([  5,  35,  30,   3,  30,  85,  30, 155], device='cuda:2') torch.Size([8])\n",
      "09/13/2023, 01:56:18# total batches: 16600\n",
      "09/13/2023, 01:56:18# Epoch 40 | Train Loss: 1.4566 | Train Accuracy: 0.6191\n"
     ]
    },
    {
     "data": {
      "application/vnd.jupyter.widget-view+json": {
       "model_id": "5182d4fee5d549ca8faa89f073018645",
       "version_major": 2,
       "version_minor": 0
      },
      "text/plain": [
       "Validation:   0%|          | 0/2075 [00:00<?, ?it/s]"
      ]
     },
     "metadata": {},
     "output_type": "display_data"
    },
    {
     "name": "stdout",
     "output_type": "stream",
     "text": [
      "09/13/2023, 01:56:18# labels of Validation: tensor([ 37, 103, 108,   5,  29,  63,  56,  43], device='cuda:2') torch.Size([8])\n",
      "09/13/2023, 01:56:18# predicted of Validation: tensor([ 37,  93, 108,   5,  29,  63,  56,  43], device='cuda:2') torch.Size([8])\n",
      "09/13/2023, 01:56:18# labels of 0: tensor([ 37, 103, 108,   5,  29,  63,  56,  43], device='cuda:2') torch.Size([8])\n",
      "09/13/2023, 01:56:18# predicted of 0: tensor([ 37,  93, 108,   5,  29,  63,  56,  43], device='cuda:2') torch.Size([8])\n",
      "09/13/2023, 01:56:29# labels of Validation: tensor([ 15,  11, 143,  13,  71,  95,  19,  75], device='cuda:2') torch.Size([8])\n",
      "09/13/2023, 01:56:29# predicted of Validation: tensor([ 15,  60, 142,  13,  71,  95,  19, 142], device='cuda:2') torch.Size([8])\n",
      "09/13/2023, 01:56:40# labels of Validation: tensor([105,  70, 129,  67,  43,  52,  71,  39], device='cuda:2') torch.Size([8])\n",
      "09/13/2023, 01:56:40# predicted of Validation: tensor([105,  70, 129,  78,  43,  52,  71,  39], device='cuda:2') torch.Size([8])\n",
      "09/13/2023, 01:56:41# Validation Loss: 1.4567 | Validation Accuracy: 0.6193\n",
      "\n",
      "09/13/2023, 01:56:41# Find a better model!!\n"
     ]
    },
    {
     "data": {
      "application/vnd.jupyter.widget-view+json": {
       "model_id": "5f62de3d5f4f47b2ac5d21a4d228e058",
       "version_major": 2,
       "version_minor": 0
      },
      "text/plain": [
       "Training:   0%|          | 0/16600 [00:00<?, ?it/s]"
      ]
     },
     "metadata": {},
     "output_type": "display_data"
    },
    {
     "name": "stdout",
     "output_type": "stream",
     "text": [
      "09/13/2023, 01:57:56# labels of 5000: tensor([ 64, 119, 108,  87,  15,  30, 157, 127], device='cuda:2') torch.Size([8])\n",
      "09/13/2023, 01:57:56# predicted of 5000: tensor([103,  74, 131,  47,  15,  47,  47, 127], device='cuda:2') torch.Size([8])\n",
      "09/13/2023, 01:59:10# labels of 10000: tensor([ 76,  85,  49,   0,  66,  30, 151,   3], device='cuda:2') torch.Size([8])\n",
      "09/13/2023, 01:59:10# predicted of 10000: tensor([30, 85, 14,  0, 66, 14, 14,  3], device='cuda:2') torch.Size([8])\n",
      "09/13/2023, 02:00:28# labels of 15000: tensor([ 30, 144, 115,  45, 143, 126,   7, 104], device='cuda:2') torch.Size([8])\n",
      "09/13/2023, 02:00:28# predicted of 15000: tensor([ 33,  49, 115,  45,  49, 126,   7,  34], device='cuda:2') torch.Size([8])\n",
      "09/13/2023, 02:00:52# total batches: 16600\n",
      "09/13/2023, 02:00:52# Epoch 41 | Train Loss: 1.4550 | Train Accuracy: 0.6194\n"
     ]
    },
    {
     "data": {
      "application/vnd.jupyter.widget-view+json": {
       "model_id": "929a99d3abbb4ed096bdb6bc635829a3",
       "version_major": 2,
       "version_minor": 0
      },
      "text/plain": [
       "Validation:   0%|          | 0/2075 [00:00<?, ?it/s]"
      ]
     },
     "metadata": {},
     "output_type": "display_data"
    },
    {
     "name": "stdout",
     "output_type": "stream",
     "text": [
      "09/13/2023, 02:00:52# labels of Validation: tensor([ 95,   5,  79, 128,  97,  62, 107,  42], device='cuda:2') torch.Size([8])\n",
      "09/13/2023, 02:00:52# predicted of Validation: tensor([ 95,   5,  79, 128,  47,  62, 107,  49], device='cuda:2') torch.Size([8])\n",
      "09/13/2023, 02:00:52# labels of 0: tensor([ 95,   5,  79, 128,  97,  62, 107,  42], device='cuda:2') torch.Size([8])\n",
      "09/13/2023, 02:00:52# predicted of 0: tensor([ 95,   5,  79, 128,  47,  62, 107,  49], device='cuda:2') torch.Size([8])\n",
      "09/13/2023, 02:01:03# labels of Validation: tensor([  2, 144, 102,  38, 100,  49, 137,   9], device='cuda:2') torch.Size([8])\n",
      "09/13/2023, 02:01:03# predicted of Validation: tensor([ 47,  47, 102,  55, 100,  49, 137,  31], device='cuda:2') torch.Size([8])\n",
      "09/13/2023, 02:01:15# labels of Validation: tensor([ 25,  17,  81, 163,  68,  85, 164, 155], device='cuda:2') torch.Size([8])\n",
      "09/13/2023, 02:01:15# predicted of Validation: tensor([ 25,  17,  31,  49,  68,  85,  47, 155], device='cuda:2') torch.Size([8])\n",
      "09/13/2023, 02:01:15# Validation Loss: 1.4592 | Validation Accuracy: 0.6202\n",
      "\n"
     ]
    },
    {
     "data": {
      "application/vnd.jupyter.widget-view+json": {
       "model_id": "346de7b672304debb245259307c1afa7",
       "version_major": 2,
       "version_minor": 0
      },
      "text/plain": [
       "Training:   0%|          | 0/16600 [00:00<?, ?it/s]"
      ]
     },
     "metadata": {},
     "output_type": "display_data"
    },
    {
     "name": "stdout",
     "output_type": "stream",
     "text": [
      "09/13/2023, 02:02:29# labels of 5000: tensor([138,  14,  19,  18,  21,   9, 101,  15], device='cuda:2') torch.Size([8])\n",
      "09/13/2023, 02:02:29# predicted of 5000: tensor([138, 112,  19,  49,  21,  60, 101,  15], device='cuda:2') torch.Size([8])\n",
      "09/13/2023, 02:03:47# labels of 10000: tensor([ 16,  90, 113,  90, 123,  35, 106,  97], device='cuda:2') torch.Size([8])\n",
      "09/13/2023, 02:03:47# predicted of 10000: tensor([ 16,  68,  68,  68, 123,  35, 106,  33], device='cuda:2') torch.Size([8])\n",
      "09/13/2023, 02:05:02# labels of 15000: tensor([158,  55, 137, 101,  28, 127,  32,  92], device='cuda:2') torch.Size([8])\n",
      "09/13/2023, 02:05:02# predicted of 15000: tensor([ 36,  36, 137, 101,  28, 127,  32,  36], device='cuda:2') torch.Size([8])\n",
      "09/13/2023, 02:05:26# total batches: 16600\n",
      "09/13/2023, 02:05:26# Epoch 42 | Train Loss: 1.4534 | Train Accuracy: 0.6202\n"
     ]
    },
    {
     "data": {
      "application/vnd.jupyter.widget-view+json": {
       "model_id": "e89562b4761948eaa5d7b20ffda7d899",
       "version_major": 2,
       "version_minor": 0
      },
      "text/plain": [
       "Validation:   0%|          | 0/2075 [00:00<?, ?it/s]"
      ]
     },
     "metadata": {},
     "output_type": "display_data"
    },
    {
     "name": "stdout",
     "output_type": "stream",
     "text": [
      "09/13/2023, 02:05:26# labels of Validation: tensor([ 15, 146,  72,  16,  89, 166, 112,  57], device='cuda:2') torch.Size([8])\n",
      "09/13/2023, 02:05:26# predicted of Validation: tensor([ 15, 146,  72,  16,  89, 166,   2, 162], device='cuda:2') torch.Size([8])\n",
      "09/13/2023, 02:05:26# labels of 0: tensor([ 15, 146,  72,  16,  89, 166, 112,  57], device='cuda:2') torch.Size([8])\n",
      "09/13/2023, 02:05:26# predicted of 0: tensor([ 15, 146,  72,  16,  89, 166,   2, 162], device='cuda:2') torch.Size([8])\n",
      "09/13/2023, 02:05:37# labels of Validation: tensor([ 33,  39, 163,  52,  35,  29,  15, 133], device='cuda:2') torch.Size([8])\n",
      "09/13/2023, 02:05:37# predicted of Validation: tensor([ 81,  39,  81,  52,  35,  29,  15, 133], device='cuda:2') torch.Size([8])\n",
      "09/13/2023, 02:05:49# labels of Validation: tensor([ 41, 151,  43, 164,  35,  12, 118,  37], device='cuda:2') torch.Size([8])\n",
      "09/13/2023, 02:05:49# predicted of Validation: tensor([ 41,   2,  43,  81,  35,   2, 118,  37], device='cuda:2') torch.Size([8])\n",
      "09/13/2023, 02:05:50# Validation Loss: 1.4590 | Validation Accuracy: 0.6164\n",
      "\n"
     ]
    },
    {
     "data": {
      "application/vnd.jupyter.widget-view+json": {
       "model_id": "8ef50a0947d74cf290b93cf45fc79cd0",
       "version_major": 2,
       "version_minor": 0
      },
      "text/plain": [
       "Training:   0%|          | 0/16600 [00:00<?, ?it/s]"
      ]
     },
     "metadata": {},
     "output_type": "display_data"
    },
    {
     "name": "stdout",
     "output_type": "stream",
     "text": [
      "09/13/2023, 02:07:03# labels of 5000: tensor([156,   3,  82,  86,   9,  15,  59,  94], device='cuda:2') torch.Size([8])\n",
      "09/13/2023, 02:07:03# predicted of 5000: tensor([156,   3,  82,  86, 104,  15,  59,  94], device='cuda:2') torch.Size([8])\n",
      "09/13/2023, 02:08:13# labels of 10000: tensor([ 38, 105, 114,  50,  18,  91,  46,   0], device='cuda:2') torch.Size([8])\n",
      "09/13/2023, 02:08:13# predicted of 10000: tensor([ 33, 105,  64,  50,  33,  91,  46,   0], device='cuda:2') torch.Size([8])\n",
      "09/13/2023, 02:09:29# labels of 15000: tensor([ 47, 102, 159, 148, 123, 154, 137,  14], device='cuda:2') torch.Size([8])\n",
      "09/13/2023, 02:09:29# predicted of 15000: tensor([ 55, 102, 159, 148, 123, 154, 137,  55], device='cuda:2') torch.Size([8])\n",
      "09/13/2023, 02:09:53# total batches: 16600\n",
      "09/13/2023, 02:09:53# Epoch 43 | Train Loss: 1.4513 | Train Accuracy: 0.6199\n"
     ]
    },
    {
     "data": {
      "application/vnd.jupyter.widget-view+json": {
       "model_id": "0f498dcda9784e109801c599a5a2d4a3",
       "version_major": 2,
       "version_minor": 0
      },
      "text/plain": [
       "Validation:   0%|          | 0/2075 [00:00<?, ?it/s]"
      ]
     },
     "metadata": {},
     "output_type": "display_data"
    },
    {
     "name": "stdout",
     "output_type": "stream",
     "text": [
      "09/13/2023, 02:09:53# labels of Validation: tensor([ 98,   7, 134,   7,  74,  62, 120,   6], device='cuda:2') torch.Size([8])\n",
      "09/13/2023, 02:09:53# predicted of Validation: tensor([ 98,   7, 134,   7, 104,  62, 120,   6], device='cuda:2') torch.Size([8])\n",
      "09/13/2023, 02:09:53# labels of 0: tensor([ 98,   7, 134,   7,  74,  62, 120,   6], device='cuda:2') torch.Size([8])\n",
      "09/13/2023, 02:09:53# predicted of 0: tensor([ 98,   7, 134,   7, 104,  62, 120,   6], device='cuda:2') torch.Size([8])\n",
      "09/13/2023, 02:10:04# labels of Validation: tensor([148, 137, 155, 124, 102,  94,  75, 166], device='cuda:2') torch.Size([8])\n",
      "09/13/2023, 02:10:04# predicted of Validation: tensor([148, 137, 155,  11, 102,  94, 104, 166], device='cuda:2') torch.Size([8])\n",
      "09/13/2023, 02:10:16# labels of Validation: tensor([ 95,   9,  16,  68,  84,  62, 162,  12], device='cuda:2') torch.Size([8])\n",
      "09/13/2023, 02:10:16# predicted of Validation: tensor([ 95, 104,  16,  93,  84,  62, 104, 104], device='cuda:2') torch.Size([8])\n",
      "09/13/2023, 02:10:16# Validation Loss: 1.4552 | Validation Accuracy: 0.6198\n",
      "\n",
      "09/13/2023, 02:10:16# Find a better model!!\n"
     ]
    },
    {
     "data": {
      "application/vnd.jupyter.widget-view+json": {
       "model_id": "f87ac60e76d849b3966b401cb0520a6a",
       "version_major": 2,
       "version_minor": 0
      },
      "text/plain": [
       "Training:   0%|          | 0/16600 [00:00<?, ?it/s]"
      ]
     },
     "metadata": {},
     "output_type": "display_data"
    },
    {
     "name": "stdout",
     "output_type": "stream",
     "text": [
      "09/13/2023, 02:11:33# labels of 5000: tensor([ 58,  95, 103,  24, 100,  92,  42, 106], device='cuda:2') torch.Size([8])\n",
      "09/13/2023, 02:11:33# predicted of 5000: tensor([ 58,  95, 103,  47, 100,  42, 124, 106], device='cuda:2') torch.Size([8])\n",
      "09/13/2023, 02:12:50# labels of 10000: tensor([ 11, 155, 127,  18,  62, 115,  70, 135], device='cuda:2') torch.Size([8])\n",
      "09/13/2023, 02:12:50# predicted of 10000: tensor([ 57, 155, 127,  57,  62, 115,  70, 135], device='cuda:2') torch.Size([8])\n",
      "09/13/2023, 02:14:09# labels of 15000: tensor([ 73, 128,  10,  10, 154,  57,  93,   7], device='cuda:2') torch.Size([8])\n",
      "09/13/2023, 02:14:09# predicted of 15000: tensor([ 73, 128,  10,  10, 154,  76,  93,   7], device='cuda:2') torch.Size([8])\n",
      "09/13/2023, 02:14:33# total batches: 16600\n",
      "09/13/2023, 02:14:33# Epoch 44 | Train Loss: 1.4494 | Train Accuracy: 0.6211\n"
     ]
    },
    {
     "data": {
      "application/vnd.jupyter.widget-view+json": {
       "model_id": "0b57b32b7a7b47be90741138edf3c272",
       "version_major": 2,
       "version_minor": 0
      },
      "text/plain": [
       "Validation:   0%|          | 0/2075 [00:00<?, ?it/s]"
      ]
     },
     "metadata": {},
     "output_type": "display_data"
    },
    {
     "name": "stdout",
     "output_type": "stream",
     "text": [
      "09/13/2023, 02:14:33# labels of Validation: tensor([  5, 156, 105,  86,  52,  67, 117,  55], device='cuda:2') torch.Size([8])\n",
      "09/13/2023, 02:14:33# predicted of Validation: tensor([  5, 156, 105,  86,  52,  67, 117,  49], device='cuda:2') torch.Size([8])\n",
      "09/13/2023, 02:14:33# labels of 0: tensor([  5, 156, 105,  86,  52,  67, 117,  55], device='cuda:2') torch.Size([8])\n",
      "09/13/2023, 02:14:33# predicted of 0: tensor([  5, 156, 105,  86,  52,  67, 117,  49], device='cuda:2') torch.Size([8])\n",
      "09/13/2023, 02:14:44# labels of Validation: tensor([156, 150, 144,  55,  39, 161, 127,  61], device='cuda:2') torch.Size([8])\n",
      "09/13/2023, 02:14:44# predicted of Validation: tensor([156,  57,  57,  57,  39, 161, 127,  61], device='cuda:2') torch.Size([8])\n",
      "09/13/2023, 02:14:56# labels of Validation: tensor([155, 132,  66,   5, 145,  68, 120,  39], device='cuda:2') torch.Size([8])\n",
      "09/13/2023, 02:14:56# predicted of Validation: tensor([155, 132,  66,   5, 145,  88, 120,  39], device='cuda:2') torch.Size([8])\n",
      "09/13/2023, 02:14:56# Validation Loss: 1.4523 | Validation Accuracy: 0.6189\n",
      "\n",
      "09/13/2023, 02:14:56# Find a better model!!\n"
     ]
    },
    {
     "data": {
      "application/vnd.jupyter.widget-view+json": {
       "model_id": "3eeb557451de49579d7d4c225b079234",
       "version_major": 2,
       "version_minor": 0
      },
      "text/plain": [
       "Training:   0%|          | 0/16600 [00:00<?, ?it/s]"
      ]
     },
     "metadata": {},
     "output_type": "display_data"
    },
    {
     "name": "stdout",
     "output_type": "stream",
     "text": [
      "09/13/2023, 02:16:12# labels of 5000: tensor([ 29, 122, 154,  75, 129,  70,  94,  63], device='cuda:2') torch.Size([8])\n",
      "09/13/2023, 02:16:12# predicted of 5000: tensor([ 29, 122, 154, 112, 129,  70,  94,  63], device='cuda:2') torch.Size([8])\n",
      "09/13/2023, 02:17:28# labels of 10000: tensor([ 89,  81, 108,  33, 109,  81,  26,  25], device='cuda:2') torch.Size([8])\n",
      "09/13/2023, 02:17:28# predicted of 10000: tensor([ 89, 163, 108, 163, 163, 163,  26,  25], device='cuda:2') torch.Size([8])\n",
      "09/13/2023, 02:18:44# labels of 15000: tensor([  9, 160,  53, 147, 127, 125, 119,  97], device='cuda:2') torch.Size([8])\n",
      "09/13/2023, 02:18:44# predicted of 15000: tensor([ 38, 160,  75, 147, 127,  38,  42,  75], device='cuda:2') torch.Size([8])\n",
      "09/13/2023, 02:19:06# total batches: 16600\n",
      "09/13/2023, 02:19:06# Epoch 45 | Train Loss: 1.4472 | Train Accuracy: 0.6212\n"
     ]
    },
    {
     "data": {
      "application/vnd.jupyter.widget-view+json": {
       "model_id": "6f7feb8648584795a5c75f5cb55cdfc9",
       "version_major": 2,
       "version_minor": 0
      },
      "text/plain": [
       "Validation:   0%|          | 0/2075 [00:00<?, ?it/s]"
      ]
     },
     "metadata": {},
     "output_type": "display_data"
    },
    {
     "name": "stdout",
     "output_type": "stream",
     "text": [
      "09/13/2023, 02:19:06# labels of Validation: tensor([153, 154, 137,  74, 145,  35, 123,   3], device='cuda:2') torch.Size([8])\n",
      "09/13/2023, 02:19:06# predicted of Validation: tensor([153, 154, 137,  74, 145,  35, 123,   3], device='cuda:2') torch.Size([8])\n",
      "09/13/2023, 02:19:06# labels of 0: tensor([153, 154, 137,  74, 145,  35, 123,   3], device='cuda:2') torch.Size([8])\n",
      "09/13/2023, 02:19:06# predicted of 0: tensor([153, 154, 137,  74, 145,  35, 123,   3], device='cuda:2') torch.Size([8])\n",
      "09/13/2023, 02:19:18# labels of Validation: tensor([166, 117, 130,  34,  55, 136,  64,  70], device='cuda:2') torch.Size([8])\n",
      "09/13/2023, 02:19:18# predicted of Validation: tensor([166, 117, 130,  97,  97, 136,  64,  70], device='cuda:2') torch.Size([8])\n",
      "09/13/2023, 02:19:29# labels of Validation: tensor([ 76,  38,  46,  37,  62,  81,  58, 147], device='cuda:2') torch.Size([8])\n",
      "09/13/2023, 02:19:29# predicted of Validation: tensor([ 97,  97,  46,  37,  62,  97,  58, 147], device='cuda:2') torch.Size([8])\n",
      "09/13/2023, 02:19:30# Validation Loss: 1.4529 | Validation Accuracy: 0.6184\n",
      "\n"
     ]
    },
    {
     "data": {
      "application/vnd.jupyter.widget-view+json": {
       "model_id": "2fead32d192743c88bdc8cc8ea113072",
       "version_major": 2,
       "version_minor": 0
      },
      "text/plain": [
       "Training:   0%|          | 0/16600 [00:00<?, ?it/s]"
      ]
     },
     "metadata": {},
     "output_type": "display_data"
    },
    {
     "name": "stdout",
     "output_type": "stream",
     "text": [
      "09/13/2023, 02:20:49# labels of 5000: tensor([ 11, 110,  38, 143, 145, 115,   0,  79], device='cuda:2') torch.Size([8])\n",
      "09/13/2023, 02:20:49# predicted of 5000: tensor([152, 110, 152, 152, 145, 115,   0,  79], device='cuda:2') torch.Size([8])\n",
      "09/13/2023, 02:22:06# labels of 10000: tensor([ 97,  53,  29,  32, 156,  53,  29,  63], device='cuda:2') torch.Size([8])\n",
      "09/13/2023, 02:22:06# predicted of 10000: tensor([ 30,  48,  29,  32, 156, 112,  29,  63], device='cuda:2') torch.Size([8])\n",
      "09/13/2023, 02:23:25# labels of 15000: tensor([ 42, 100, 148,  74,  77,   6, 105,  57], device='cuda:2') torch.Size([8])\n",
      "09/13/2023, 02:23:25# predicted of 15000: tensor([144, 100, 148,  49,  77,   6, 105,  38], device='cuda:2') torch.Size([8])\n",
      "09/13/2023, 02:23:48# total batches: 16600\n",
      "09/13/2023, 02:23:48# Epoch 46 | Train Loss: 1.4449 | Train Accuracy: 0.6223\n"
     ]
    },
    {
     "data": {
      "application/vnd.jupyter.widget-view+json": {
       "model_id": "1ab420757b7243458ad1fdae0d368850",
       "version_major": 2,
       "version_minor": 0
      },
      "text/plain": [
       "Validation:   0%|          | 0/2075 [00:00<?, ?it/s]"
      ]
     },
     "metadata": {},
     "output_type": "display_data"
    },
    {
     "name": "stdout",
     "output_type": "stream",
     "text": [
      "09/13/2023, 02:23:48# labels of Validation: tensor([113,  76,  33,  51,  69,  15,  81,  62], device='cuda:2') torch.Size([8])\n",
      "09/13/2023, 02:23:48# predicted of Validation: tensor([ 64, 119, 121,  51,  69,  15, 158,  62], device='cuda:2') torch.Size([8])\n",
      "09/13/2023, 02:23:48# labels of 0: tensor([113,  76,  33,  51,  69,  15,  81,  62], device='cuda:2') torch.Size([8])\n",
      "09/13/2023, 02:23:48# predicted of 0: tensor([ 64, 119, 121,  51,  69,  15, 158,  62], device='cuda:2') torch.Size([8])\n",
      "09/13/2023, 02:23:59# labels of Validation: tensor([ 20,  67, 133,  90,  16, 117, 142, 160], device='cuda:2') torch.Size([8])\n",
      "09/13/2023, 02:23:59# predicted of Validation: tensor([ 20,  67, 133,  64,  16, 117, 119, 160], device='cuda:2') torch.Size([8])\n",
      "09/13/2023, 02:24:11# labels of Validation: tensor([160, 110, 140, 142, 147, 129,  56,   1], device='cuda:2') torch.Size([8])\n",
      "09/13/2023, 02:24:11# predicted of Validation: tensor([160,  64, 140, 121, 147, 129,  56, 158], device='cuda:2') torch.Size([8])\n",
      "09/13/2023, 02:24:12# Validation Loss: 1.4503 | Validation Accuracy: 0.6178\n",
      "\n",
      "09/13/2023, 02:24:12# Find a better model!!\n"
     ]
    },
    {
     "data": {
      "application/vnd.jupyter.widget-view+json": {
       "model_id": "4d2a7ae3e9ff4557a77fc3dd9a56de5b",
       "version_major": 2,
       "version_minor": 0
      },
      "text/plain": [
       "Training:   0%|          | 0/16600 [00:00<?, ?it/s]"
      ]
     },
     "metadata": {},
     "output_type": "display_data"
    },
    {
     "name": "stdout",
     "output_type": "stream",
     "text": [
      "09/13/2023, 02:25:24# labels of 5000: tensor([ 70, 123,  95,  27, 161,   3,  57,  50], device='cuda:2') torch.Size([8])\n",
      "09/13/2023, 02:25:24# predicted of 5000: tensor([ 70, 123,  95,  27, 161,   3,  87,  50], device='cuda:2') torch.Size([8])\n"
     ]
    }
   ],
   "source": [
    "import csv\n",
    "import pandas as pd\n",
    "from sklearn.metrics import classification_report\n",
    "from torch.optim import AdamW, lr_scheduler\n",
    "\n",
    "seed = 8787\n",
    "same_seeds(seed)\n",
    "\n",
    "model = GraphSAGE(in_dim=50, hidden_dim=128, out_dim=167)\n",
    "# in_dim means the dimension of the node_feat(50 dim, since the 50-dim embedding)\n",
    "# out_dim means the # of the categories -> 168 for out tasks\n",
    "model.load_state_dict(torch.load('model3_initial(graphsage)/initial_weight.pth'))\n",
    "best_model_path = \"../checkpoint_graphSAGE/best_model_GraphSAGE_transR_50-1.pt\"\n",
    "\n",
    "model = model.to(device)\n",
    "\n",
    "# optimizer = torch.optim.AdamW(model.parameters(), lr=1e-5)\n",
    "optimizer = AdamW(model.parameters(), lr=1e-4)\n",
    "# scheduler = get_linear_schedule_with_warmup(optimizer, num_warmup_steps=18, num_training_steps=total_steps)\n",
    "\n",
    "# T_max control the period of the lr changing -> set 1/10 first\n",
    "scheduler = lr_scheduler.CosineAnnealingLR(optimizer, T_max=10, eta_min=0, last_epoch=- 1, verbose=False)\n",
    "\n",
    "\n",
    "criterion = nn.CrossEntropyLoss()\n",
    "# criterion = torch.nn.BCEWithLogitsLoss()\n",
    "\n",
    "total_steps = 100\n",
    "\n",
    "# save the best model\n",
    "best_val_loss = float('inf')\n",
    "patience = 10  # Number of epochs with no improvement after which training will be stopped.\n",
    "waiting = 0  # The number of epochs with no improvement so far.\n",
    "\n",
    "\n",
    "# Training Part\n",
    "for epoch in tqdm(range(total_steps)):\n",
    "    # Train\n",
    "    model.train()\n",
    "    total_loss = 0.0\n",
    "    total_accuracy = 0.0\n",
    "    num_batches = 0\n",
    "    \n",
    "    for data in tqdm(dataloaders['train'], desc=\"Training\", position=0, leave=True):\n",
    "        num_batches += 1\n",
    "        loss, accuracy, _ = model_fn(data, model, criterion, device, num_batches, which_type='train')\n",
    "        \n",
    "        optimizer.zero_grad()\n",
    "        loss.backward()\n",
    "        optimizer.step()\n",
    "\n",
    "        total_loss += loss.item()\n",
    "        total_accuracy += accuracy.item()\n",
    "\n",
    "        \n",
    "    scheduler.step()\n",
    "    add_log_msg(f\"total batches: {num_batches}\")\n",
    "\n",
    "    avg_loss = total_loss / num_batches\n",
    "    avg_accuracy = total_accuracy / num_batches\n",
    "\n",
    "    add_log_msg(f'Epoch {epoch} | Train Loss: {avg_loss:.4f} | Train Accuracy: {avg_accuracy:.4f}')\n",
    "\n",
    "    \n",
    "    # Validation Part\n",
    "    model.eval()\n",
    "    total_accuracy = 0.0\n",
    "    total_loss = 0.0\n",
    "    num_batches = 0\n",
    "\n",
    "\n",
    "    with torch.no_grad():\n",
    "        for data in tqdm(dataloaders['valid'], desc=\"Validation\", position=0, leave=True):\n",
    "            loss, accuracy, _ = model_fn(data, model, criterion, device, num_batches, which_type='validation')\n",
    "            total_accuracy += accuracy.item()\n",
    "            total_loss += loss.item()\n",
    "            num_batches += 1\n",
    "\n",
    "    avg_accuracy = total_accuracy / num_batches\n",
    "    current_loss = total_loss / num_batches\n",
    "    \n",
    "    add_log_msg(f'Validation Loss: {current_loss:.4f} | Validation Accuracy: {avg_accuracy:.4f}\\n')\n",
    "    \n",
    "            \n",
    "    if current_loss < best_val_loss:\n",
    "        best_val_loss = current_loss\n",
    "        waiting = 0\n",
    "        \n",
    "        if os.path.exists(best_model_path):\n",
    "            os.remove(best_model_path)\n",
    "            add_log_msg(\"Find a better model!!\")\n",
    "\n",
    "        torch.save(model.state_dict(), best_model_path)\n",
    "\n",
    "#         print(best_model_path)\n",
    "\n",
    "    else:\n",
    "        waiting += 1\n",
    "        if waiting >= patience:\n",
    "            add_log_msg(\"============================== Early stopping ==================================\")\n",
    "            break"
   ]
  },
  {
   "cell_type": "markdown",
   "metadata": {},
   "source": [
    "### test of valid and test part is ``graph``"
   ]
  },
  {
   "cell_type": "markdown",
   "metadata": {},
   "source": [
    "- 60 APs in training x 10000times\n",
    "- 5 APs in validation x 4 times\n",
    "- 3 APs in test x 4 times\n",
    "- Batch size = 4"
   ]
  },
  {
   "cell_type": "code",
   "execution_count": 17,
   "metadata": {},
   "outputs": [
    {
     "data": {
      "application/vnd.jupyter.widget-view+json": {
       "model_id": "eb96de501cb54e52afcd4fce4a2adbe4",
       "version_major": 2,
       "version_minor": 0
      },
      "text/plain": [
       "Testing:   0%|          | 0/2075 [00:00<?, ?it/s]"
      ]
     },
     "metadata": {},
     "output_type": "display_data"
    },
    {
     "name": "stdout",
     "output_type": "stream",
     "text": [
      "09/13/2023, 14:01:03# labels of Test: tensor([65, 65, 65, 65, 65, 65, 65, 65], device='cuda:1') torch.Size([8])\n",
      "09/13/2023, 14:01:03# predicted of Test: tensor([65, 65, 65, 65, 65, 65, 65, 65], device='cuda:1') torch.Size([8])\n",
      "09/13/2023, 14:01:03# labels of 0: tensor([65, 65, 65, 65, 65, 65, 65, 65], device='cuda:1') torch.Size([8])\n",
      "09/13/2023, 14:01:03# predicted of 0: tensor([65, 65, 65, 65, 65, 65, 65, 65], device='cuda:1') torch.Size([8])\n",
      "09/13/2023, 14:01:03# labels: tensor([65, 65, 65, 65, 65, 65, 65, 65], device='cuda:1') torch.Size([8])\n",
      "09/13/2023, 14:01:03# predicted: tensor([65, 65, 65, 65, 65, 65, 65, 65], device='cuda:1') torch.Size([8])\n",
      "09/13/2023, 14:01:11# labels of Test: tensor([82, 82, 82, 82, 82, 82, 82, 82], device='cuda:1') torch.Size([8])\n",
      "09/13/2023, 14:01:11# predicted of Test: tensor([82, 82, 82, 82, 82, 82, 82, 82], device='cuda:1') torch.Size([8])\n",
      "09/13/2023, 14:01:20# labels of Test: tensor([162, 162, 162, 162, 162, 162, 162, 162], device='cuda:1') torch.Size([8])\n",
      "09/13/2023, 14:01:20# predicted of Test: tensor([ 49, 142,  97,  42,  53,  49, 143,  47], device='cuda:1') torch.Size([8])\n",
      "09/13/2023, 14:01:20# Test Accuracy: 62.0 %\n",
      "\n",
      "\n",
      "\n"
     ]
    },
    {
     "name": "stderr",
     "output_type": "stream",
     "text": [
      "/workdir/home/euni/.local/lib/python3.6/site-packages/sklearn/metrics/_classification.py:1248: UndefinedMetricWarning: Precision and F-score are ill-defined and being set to 0.0 in labels with no predicted samples. Use `zero_division` parameter to control this behavior.\n",
      "  _warn_prf(average, modifier, msg_start, len(result))\n",
      "/workdir/home/euni/.local/lib/python3.6/site-packages/sklearn/metrics/_classification.py:1248: UndefinedMetricWarning: Precision and F-score are ill-defined and being set to 0.0 in labels with no predicted samples. Use `zero_division` parameter to control this behavior.\n",
      "  _warn_prf(average, modifier, msg_start, len(result))\n",
      "/workdir/home/euni/.local/lib/python3.6/site-packages/sklearn/metrics/_classification.py:1248: UndefinedMetricWarning: Precision and F-score are ill-defined and being set to 0.0 in labels with no predicted samples. Use `zero_division` parameter to control this behavior.\n",
      "  _warn_prf(average, modifier, msg_start, len(result))\n"
     ]
    },
    {
     "name": "stdout",
     "output_type": "stream",
     "text": [
      "09/13/2023, 14:01:26# report path: classification_report/classification_report-transR_50-graphSAGE-3.xlsx\n",
      "09/13/2023, 14:01:26# label path: classification_report/mapped_true_predicted_labels-transR_50-graphSAGE-3.xlsx\n"
     ]
    },
    {
     "name": "stderr",
     "output_type": "stream",
     "text": [
      "/workdir/home/euni/.local/lib/python3.6/site-packages/sklearn/metrics/_classification.py:1248: UndefinedMetricWarning: Precision and F-score are ill-defined and being set to 0.0 in labels with no predicted samples. Use `zero_division` parameter to control this behavior.\n",
      "  _warn_prf(average, modifier, msg_start, len(result))\n",
      "/workdir/home/euni/.local/lib/python3.6/site-packages/sklearn/metrics/_classification.py:1248: UndefinedMetricWarning: Precision and F-score are ill-defined and being set to 0.0 in labels with no predicted samples. Use `zero_division` parameter to control this behavior.\n",
      "  _warn_prf(average, modifier, msg_start, len(result))\n"
     ]
    },
    {
     "name": "stdout",
     "output_type": "stream",
     "text": [
      "09/13/2023, 14:01:26# mapped_report:\n",
      "                                                precision    recall  f1-score   support\n",
      "\n",
      "T1003.001_0ef4cc7b-611c-4237-b20b-db36b6906554       1.00      1.00      1.00       100\n",
      "    T1003.001_35d92515122effdd73801c6ac3021da7       1.00      1.00      1.00       100\n",
      "    T1003.002_5a484b65c247675e3b7ada4ba648d376       1.00      1.00      1.00       100\n",
      "    T1003.002_7fa4ea18694f2552547b65e23952cabb       1.00      1.00      1.00       100\n",
      "    T1003.003_9f73269695e54311dd61dc68940fb3e1       0.00      0.00      0.00       100\n",
      "    T1003.003_f049b89533298c2d6cd37a940248b219       0.01      0.02      0.02       100\n",
      "        T1003_18f31c311ac208802e88ab8d5af8603e       1.00      1.00      1.00       100\n",
      "        T1007_9d03c91bdae5a80f17f89c987942b5a8       1.00      1.00      1.00       100\n",
      "    T1007_c6607391-d02c-44b5-9b13-d3492ca58599       0.01      0.02      0.02       100\n",
      "        T1007_d6bb2a19da7246731ed9c44831b135f8       0.45      0.27      0.34       100\n",
      "    T1016_14a21534-350f-4d83-9dd7-3c56b93a0c17       0.00      0.00      0.00       100\n",
      "        T1016_71b3d2945679566b9d94d8cb11df4b70       0.00      0.00      0.00       100\n",
      "        T1016_7d8ee68f0e9731db82964f558f614608       0.79      0.98      0.87       100\n",
      "    T1016_921055f4-5970-4707-909e-62f594234d91       0.00      0.00      0.00       100\n",
      "    T1016_a0676fe1-cd52-482e-8dde-349b73f9aa69       0.03      0.02      0.02       100\n",
      "    T1016_e8017c46-acb8-400c-a4b5-b3362b5b5baa       0.04      0.04      0.04       100\n",
      "    T1018_26c8b8b5-7b5b-4de1-a128-7d37fb14f517       0.00      0.00      0.00       100\n",
      "        T1018_a44bb43474728496276d5d73aa14588f       0.02      0.06      0.02       100\n",
      "        T1018_ac20e592bc912bddff4d6b88289095f0       0.00      0.00      0.00       100\n",
      "    T1021.001_dd67068b052fa553ad4a0ac7d6a5ea89       1.00      1.00      1.00       100\n",
      "    T1033_bd527b63-9f9e-46e0-9816-b8434d2b8989       0.00      0.00      0.00       100\n",
      "    T1033_c0da588f-79f0-4263-8998-7496b1a40596       0.02      0.01      0.01       100\n",
      "    T1036.003_04e8d83e7badf098d50800d6aa1dd487       1.00      1.00      1.00       100\n",
      "    T1036.003_f5ef8466e5ebcd2ae03f338d9416069c       1.00      1.00      1.00       100\n",
      "    T1036.004_1f0614ea5c4af6faf1b44570f5f22f8a       0.14      0.13      0.14       100\n",
      "    T1036.004_7de3d7b4922a7b996d8df36fb22bb118       0.14      0.05      0.07       100\n",
      "    T1037.001_62cfa90fb03a6bc1a6ebcce8a3ea81b7       1.00      1.00      1.00       100\n",
      "        T1040_6881a4589710d53f0c146e91db513f01       1.00      1.00      1.00       100\n",
      "        T1047_09e0f9cf2eb803a1c35deeecf3665fad       0.01      0.02      0.01       100\n",
      "        T1047_6935e41353aa781bb723462d26114c44       0.00      0.00      0.00       100\n",
      "        T1047_ac122553ab4426ea3362bb4a97d31bfd       0.02      0.03      0.02       100\n",
      "        T1047_ac2764f7a67a9ce92b54e8e59b361838       0.02      0.02      0.02       100\n",
      "        T1047_b0255b5120cbabc062d8d4510a142c3b       0.02      0.02      0.02       100\n",
      "        T1047_ed736a123da6fb2aab22cfd4f437e8b5       0.02      0.04      0.03       100\n",
      "        T1047_f4b0b4129560ea66f9751275e82f6bab       0.00      0.00      0.00       100\n",
      "    T1049_638fb6bb-ba39-4285-93d1-7e4775b033a8       0.00      0.00      0.00       100\n",
      "        T1049_a14392d713dffba6a397682ff83259a0       0.49      0.68      0.57       100\n",
      "    T1053.005_5db2884b6ca3ab932848f295a3896dc0       0.09      0.05      0.06       100\n",
      "    T1053.005_ee454be9197890de62705ce6255933fd       0.00      0.00      0.00       100\n",
      "T1055.001_a74bc239-a196-4f7e-8d5c-fe8c0266071c       0.00      0.00      0.00       100\n",
      "T1055.002_e5bcefee-262d-4568-a261-e8a20855ec81       0.01      0.02      0.01       100\n",
      "    T1057_5a39d7ed-45c9-4a79-b581-e5fb99e24f65       0.05      0.02      0.03       100\n",
      "    T1057_8adf02e8-6e71-4244-886c-98c402857404       1.00      1.00      1.00       100\n",
      "        T1057_b2a1e430ca6d36eb5af2fe666e769847       0.02      0.02      0.02       100\n",
      "        T1057_f8de05d1741dcc468f772ab0ff4dac72       0.02      0.03      0.02       100\n",
      "T1059.001_55678719-e76e-4df9-92aa-10655bbd1cf4       1.00      1.00      1.00       100\n",
      "    T1059.001_6efbccc1869e8cd618c0d3ecda407d5f       1.00      1.00      1.00       100\n",
      "T1059.001_702bfdd2-9947-4eda-b551-c3a1ea9a59a2       1.00      1.00      1.00       100\n",
      "T1059.001_bfff9006-d1fb-46ce-b173-92cb04e9a031       1.00      1.00      1.00       100\n",
      "T1059.001_ccdb8caf-c69e-424b-b930-551969450c57       1.00      1.00      1.00       100\n",
      "T1059.001_e5f9de8f-3df1-4e78-ad92-a784e3f6770d       1.00      1.00      1.00       100\n",
      "    T1059.003_6c318ef0339d74d909ad556681b6493e       1.00      1.00      1.00       100\n",
      "    T1059.003_f38e58deb7ad20b5538ca40db7b7b4f8       1.00      1.00      1.00       100\n",
      "T1069.001_5c4dd985-89e3-4590-9b57-71fed66ff4e2       1.00      1.00      1.00       100\n",
      "    T1069.001_a1f48fa3ddee658b29b414523c9a295b       0.09      0.22      0.13       100\n",
      "    T1069.002_6103e503cb444bc7b4187704f2035708       0.88      0.73      0.80       100\n",
      "    T1070.005_1f91076e2be2014cc7b4f1296de02fd6       1.00      1.00      1.00       100\n",
      "    T1071.001_24c3b7b004401d839a5c337201da3484       1.00      1.00      1.00       100\n",
      "T1074.001_4e97e699-93d7-4040-b5a3-2e906a58199e       1.00      1.00      1.00       100\n",
      "T1074.001_6469befa-748a-4b9c-a96d-f191fde47d89       1.00      1.00      1.00       100\n",
      "    T1074.001_e6dfc7e89359ac6fa6de84b0e1d5762e       1.00      1.00      1.00       100\n",
      "    T1078.001_d0ca00832890baa1d42322cf70fcab1a       0.02      0.06      0.03       100\n",
      "    T1082_29451844-9b76-4e16-a9ee-d6feab4b24db       0.03      0.05      0.04       100\n",
      "    T1083_52177cc1-b9ab-4411-ac21-2eadc4b5d3b8       1.00      1.00      1.00       100\n",
      "    T1083_6e1a53c0-7352-4899-be35-fa7f364d5722       0.12      0.02      0.03       100\n",
      "    T1087.001_6334877e8e3ba48f7835d4856d90a282       1.00      1.00      1.00       100\n",
      "T1087.001_feaced8f-f43f-452a-9500-a5219488abb8       0.00      0.00      0.00       100\n",
      "    T1090.001_ba343199a4f15ed6b57eb52412f62e4e       1.00      0.99      0.99       100\n",
      "        T1105_0856c235a1d26113d4f2d92e39c9a9f8       1.00      1.00      1.00       100\n",
      "        T1105_1095434782a00c8a4772a11e625bcf5d       1.00      1.00      1.00       100\n",
      "        T1105_4f683658f161ccdc51337c470d32bab9       1.00      1.00      1.00       100\n",
      "    T1105_60f63260-39bb-4136-87a0-b6c2dca799fc       1.00      1.00      1.00       100\n",
      "        T1105_c521e0a70b243a0cf9217907ca3c6d27       1.00      1.00      1.00       100\n",
      "        T1105_c76968acda4aa1673dadcd67f3ab7664       1.00      1.00      1.00       100\n",
      "        T1105_e6715e61f5df646692c624b3499384c4       1.00      1.00      1.00       100\n",
      "    T1105_eb814e03-811a-467a-bc6d-dcd453750fa2       1.00      1.00      1.00       100\n",
      "        T1112_257313a3c93e3bb7dfb60d6753b09e34       1.00      1.00      1.00       100\n",
      "        T1112_34041639e6e501856ecaf5969ee29c76       1.00      1.00      1.00       100\n",
      "        T1112_35c0360d226cf38104f300d9d57ce60e       1.00      1.00      1.00       100\n",
      "        T1112_4bfb5f265a5ce07af6bf10da113af7db       1.00      1.00      1.00       100\n",
      "        T1112_7fe6a66d03f4dbfc022609ba311c2b11       1.00      1.00      1.00       100\n",
      "        T1112_ba6f6214dbd17c54001e0a163b60f151       1.00      1.00      1.00       100\n",
      "        T1112_cab7b85611a290c0769546bfa9d6f962       1.00      1.00      1.00       100\n",
      "        T1112_cd8be0e6b873919da25530a2c7ea6750       1.00      1.00      1.00       100\n",
      "        T1112_e74d2fb4ef5fa6c766a4151554033697       1.00      1.00      1.00       100\n",
      "        T1112_e7a987cbef27263e666e5b096488dc55       1.00      1.00      1.00       100\n",
      "        T1112_fa4ba6a06b4a5cd955ea5a60fae24281       1.00      1.00      1.00       100\n",
      "        T1112_fd992e8ecfdac9b56dd6868904044827       0.99      1.00      1.00       100\n",
      "    T1113_316251ed-6a28-4013-812b-ddf5b5b007f8       1.00      1.00      1.00       100\n",
      "        T1115_70795de7cbb842edb029b3378c27c008       1.00      1.00      1.00       100\n",
      "    T1115_b007fe0c-c6b0-4fda-915c-255bbc070de2       0.02      0.02      0.02       100\n",
      "        T1119_344e7eaf650763e0d3e9f02e62c1cf4b       1.00      1.00      1.00       100\n",
      "        T1119_7121cdf93b951311be9d7078c602efdc       1.00      1.00      1.00       100\n",
      "        T1120_7b9c7afaefa59aab759b49af0d699ac1       1.00      1.00      1.00       100\n",
      "        T1123_372e6f46fca18e4f1b43209c20ffafa2       1.00      1.00      1.00       100\n",
      "    T1124_fa6e8607-e0b1-425d-8924-9b894da5a002       0.02      0.10      0.03       100\n",
      "        T1125_da86001b5081fcf773d8e62f22cf2b00       1.00      1.00      1.00       100\n",
      "    T1135_530e47c6-8592-42bf-91df-c59ffbd8541b       0.02      0.02      0.02       100\n",
      "    T1135_deeac480-5c2a-42b5-90bb-41675ee53c7e       0.00      0.00      0.00       100\n",
      "    T1137.002_e2af3c3ab1b0f659c874b8af58c49759       1.00      1.00      1.00       100\n",
      "        T1137_12ad9edefc86af07700fbf49bfdac6ba       1.00      1.00      1.00       100\n",
      "        T1201_38f6f0e50a6b196140ec40d3dc9cc9e6       0.00      0.00      0.00       100\n",
      "        T1201_57296a2ddbeb7423c05feef2fe972111       0.00      0.00      0.00       100\n",
      "    T1204.002_522f3f35cd013e63830fa555495a0081       1.00      1.00      1.00       100\n",
      "        T1217_69bbe2183fa09c00ccaac62d48e214f8       1.00      1.00      1.00       100\n",
      "        T1217_f7a0f7d704aa52a764d9d1bee81e65d6       0.00      0.00      0.00       100\n",
      "        T1219_7dabcbecab0334b115feefab1630f84a       1.00      1.00      1.00       100\n",
      "        T1219_af8cb2bf9b436aae5c106a0a9c207e14       1.00      1.00      1.00       100\n",
      "        T1219_f1b3fca18d7465cd10e5a7477a3bf97d       1.00      1.00      1.00       100\n",
      "    T1482_6131397e-7765-424e-a594-3d7fb2d93a6a       1.00      1.00      1.00       100\n",
      "        T1482_cfb61005899996469ae3023796792ca5       0.04      0.01      0.02       100\n",
      "        T1486_d82ceb9939d3d920ee550187ad8235c8       1.00      1.00      1.00       100\n",
      "        T1490_2d53d6fabd39bf9c70b0dfcdfbbc926d       0.05      0.05      0.05       100\n",
      "        T1490_8467c994685ccf178db166964bd80fab       0.13      0.20      0.16       100\n",
      "        T1490_9e5e4c0655fd1b5be88bd40b8251175f       0.03      0.03      0.03       100\n",
      "        T1490_c156ac5c9fa67080365268d95f29053d       0.02      0.01      0.01       100\n",
      "        T1490_c8f329d2847ede593b6cb4a1ec6120fb       1.00      1.00      1.00       100\n",
      "        T1490_e90756bb6dcd21462dc4cc452661df91       0.02      0.06      0.03       100\n",
      "    T1491_47d08617-5ce1-424a-8cc5-c9c978ce6bf9       1.00      1.00      1.00       100\n",
      "    T1491_68235976-2404-42a8-9105-68230cfef562       1.00      1.00      1.00       100\n",
      "    T1496_46da2385-cf37-49cb-ba4b-a739c7a19de4       1.00      1.00      1.00       100\n",
      "T1497.001_1258b063-27d6-489b-a677-4807faacf868       0.01      0.01      0.01       100\n",
      "T1497.001_5dc841fd-28ad-40e2-b10e-fb007fe09e81       0.01      0.01      0.01       100\n",
      "T1497.001_7a6ba833-de40-466a-8969-5c37b13603e0       0.04      0.01      0.02       100\n",
      "    T1499_2fe2d5e6-7b06-4fc0-bf71-6966a1226731       0.02      0.03      0.02       100\n",
      "T1518.001_2dece965-37a0-4f70-a391-0f30e3331aba       0.03      0.05      0.04       100\n",
      "    T1518.001_33a24ff44719e6ac0614b58f8c9a7c72       0.11      0.04      0.06       100\n",
      "    T1518.001_b8453a5fe06b24aea12b27592d5c3d3a       0.03      0.01      0.01       100\n",
      "        T1518_8ddfaf982ab359cda13626b870ccb339       1.00      1.00      1.00       100\n",
      "    T1518_c9be8043-a445-4cbf-b77b-ed7bb007fc7c       1.00      1.00      1.00       100\n",
      "        T1531_aa6b15485a5f50ced34d87fda177b758       0.08      0.08      0.08       100\n",
      "        T1531_b25ae80dad74142fafb510e9c1949ace       0.15      0.21      0.17       100\n",
      "    T1546.013_f9a968af61d36983448c74cca5464e17       1.00      1.00      1.00       100\n",
      "    T1547.001_0dbdf1a2a87e718a6ac8a8e3415a7fac       1.00      1.00      1.00       100\n",
      "    T1547.001_163b023f43aba758d36f524d146cb8ea       1.00      1.00      1.00       100\n",
      "    T1547.001_1f15ab22c39a9b6bb2bb0d77276dfcb3       1.00      1.00      1.00       100\n",
      "    T1547.001_4b71ebb2f6f6a01235ba240fa40ce978       1.00      1.00      1.00       100\n",
      "    T1547.001_777043894e42d2aae3881e63f6c76d33       1.00      1.00      1.00       100\n",
      "    T1547.001_d3ef4145e4144fd694514b1c5cc17350       1.00      1.00      1.00       100\n",
      "    T1547.004_0856714c9810ac55b53e9964d02958a0       1.00      1.00      1.00       100\n",
      "    T1547.004_aa147165f6c116cb0b0f944abe1db8ce       1.00      1.00      1.00       100\n",
      "    T1547.009_501af516bd8b24fee0c7c650ae5cc861       1.00      1.00      1.00       100\n",
      "    T1547.009_b6e5c895c6709fe289352ee23f062229       1.00      1.00      1.00       100\n",
      "    T1547.010_4593d72a5145e3f494421ac772d37464       1.00      1.00      1.00       100\n",
      "        T1547_fe9eeee9a7b339089e5fa634b08522c1       1.00      1.00      1.00       100\n",
      "T1548.002_665432a4-42e7-4ee1-af19-a9a8c9455d0c       1.00      1.00      1.00       100\n",
      "    T1552.002_3e5b04b8ee0a1a4950da8f35d95e65fc       0.10      0.07      0.08       100\n",
      "        T1560_a1ee301b0508747b468d578a14e5c1a5       1.00      1.00      1.00       100\n",
      "    T1562.001_43e3334362b140924f001b256b229ee5       1.00      1.00      1.00       100\n",
      "    T1562.002_6a8d25d65a7d481dc479f89c62af1e6a       1.00      1.00      1.00       100\n",
      "    T1562.002_94f51bf01a7036fe02d07b4c18967669       0.01      0.03      0.02       100\n",
      "    T1562.004_280003641a5cddf916c4f2bf605a71d3       0.26      0.16      0.20       100\n",
      "    T1562.004_41627f71f968225b9f162cb76d16bd9d       1.00      1.00      1.00       100\n",
      "    T1562.004_5b93df032e230056c21a3e57334f77d1       0.02      0.03      0.03       100\n",
      "    T1562.004_8d0a4585e7c4646185a912b14cd9cb46       0.04      0.01      0.02       100\n",
      "    T1562.004_8fe59e288f10a486dc8b44bc872019ff       1.00      1.00      1.00       100\n",
      "    T1564.001_66a5fd5f244819181f074dd082a28905       0.53      0.51      0.52       100\n",
      "    T1564.001_dce51e632abdfe5392c7c1f942ac9273       0.52      0.54      0.53       100\n",
      "    T1564.003_9a2edad4053a2b59fb9167a9bc29e7dc       1.00      1.00      1.00       100\n",
      "    T1564.004_28862487a99f5f89bc0d68c87396c7e9       1.00      1.00      1.00       100\n",
      "    T1564.004_76b6066fe170d38215251102e42be973       1.00      1.00      1.00       100\n",
      "        T1564_dedfa0a54c9c13ce5714a0dc2e1f5d1a       0.00      0.00      0.00       100\n",
      "    T1566.001_1afaec09315ab71fdfb167175e8a019a       1.00      1.00      1.00       100\n",
      "    T1574.001_63bbedafba2f541552ac3579e9e3737b       1.00      1.00      1.00       100\n",
      "    T1574.011_72249c1e9ffe7d8f30243d838e0791ca       1.00      1.00      1.00       100\n",
      "                                        benign       1.00      1.00      1.00       100\n",
      "\n",
      "                                      accuracy                           0.62     16600\n",
      "                                     macro avg       0.62      0.62      0.62     16600\n",
      "                                  weighted avg       0.62      0.62      0.62     16600\n",
      "\n"
     ]
    },
    {
     "name": "stderr",
     "output_type": "stream",
     "text": [
      "/workdir/home/euni/.local/lib/python3.6/site-packages/sklearn/metrics/_classification.py:1248: UndefinedMetricWarning: Precision and F-score are ill-defined and being set to 0.0 in labels with no predicted samples. Use `zero_division` parameter to control this behavior.\n",
      "  _warn_prf(average, modifier, msg_start, len(result))\n"
     ]
    }
   ],
   "source": [
    "from sklearn.metrics import classification_report\n",
    "\n",
    "model = GraphSAGE(in_dim=50, hidden_dim=128, out_dim=167)\n",
    "criterion = nn.CrossEntropyLoss()\n",
    "\n",
    "\n",
    "# load the pretrained model\n",
    "pretrained_model_path = '../checkpoint_graphSAGE/best_model_GraphSAGE_transR_50-1.pt'\n",
    "model.load_state_dict(torch.load(pretrained_model_path))\n",
    "\n",
    "model.to(device)\n",
    "model.eval()\n",
    "\n",
    "total = 0\n",
    "correct = 0\n",
    "count = 0\n",
    "\n",
    "true_labels = []\n",
    "predicted_labels = []\n",
    "\n",
    "with torch.no_grad():\n",
    "    for data in tqdm(dataloaders['test'], desc=\"Testing\", position=0, leave=True):\n",
    "#         print(f\"data:{data[1]}\")\n",
    "        loss, accuracy, predicted = model_fn(data, model, criterion, device, count, which_type='test')\n",
    "        labels = data[1].to(device)\n",
    "        \n",
    "        true_labels.extend(labels.cpu().numpy())\n",
    "        predicted_labels.extend(predicted.cpu().numpy())\n",
    "        \n",
    "        if count % 5000 == 0:\n",
    "            add_log_msg(f\"labels: {labels} {labels.shape}\")\n",
    "            add_log_msg(f\"predicted: {predicted} {predicted.shape}\")\n",
    "            \n",
    "        count += 1\n",
    "        \n",
    "        total += labels.size(0)\n",
    "        correct += (predicted == labels).sum().item()\n",
    "\n",
    "add_log_msg(f'Test Accuracy: {100 * correct / total} %\\n\\n\\n')\n",
    "\n",
    "\n",
    "# ======================================== handlig the output excel files ========================================\n",
    "mapping_file = './new_mapping.txt'\n",
    "label_mapping = {}\n",
    "with open(mapping_file, 'r') as f:\n",
    "    for line in f:\n",
    "        parts = line.strip().split(': ')\n",
    "        label_mapping[int(parts[1])] = parts[0]\n",
    "        \n",
    "# 将映射后的标签应用到true和predicted标签列表\n",
    "mapped_true_labels = [label_mapping[label] for label in true_labels]\n",
    "mapped_predicted_labels = [label_mapping[label] for label in predicted_labels]\n",
    "\n",
    "# 生成Scikit-learn报告信息的DataFrame\n",
    "report_data = classification_report(mapped_true_labels, mapped_predicted_labels, output_dict=True)\n",
    "report_df = pd.DataFrame(report_data).transpose()\n",
    "\n",
    "# mapped_true_labels_np = np.array(mapped_true_labels)\n",
    "# mapped_predicted_labels_np = np.array(mapped_predicted_labels)\n",
    "\n",
    "# print(\"mapped_true_labels 的形状:\", mapped_true_labels_np.shape)\n",
    "# print(\"mapped_predicted_labels 的形状:\", mapped_predicted_labels_np.shape)\n",
    "\n",
    "report_folder = 'classification_report'\n",
    "os.makedirs(report_folder, exist_ok=True)\n",
    "\n",
    "count = 0\n",
    "while True:\n",
    "    report_filename = f'classification_report-transR_50-graphSAGE-{count}.xlsx'\n",
    "    labels_filename = f'mapped_true_predicted_labels-transR_50-graphSAGE-{count}.xlsx'\n",
    "    \n",
    "    report_path = os.path.join(report_folder, report_filename)\n",
    "    labels_path = os.path.join(report_folder, labels_filename)\n",
    "    \n",
    "    if not os.path.exists(report_path) and not os.path.exists(labels_path):\n",
    "        break\n",
    "    count += 1\n",
    "\n",
    "    \n",
    "report_df.to_excel(report_path, index_label='Label')\n",
    "\n",
    "mapped_labels_df = pd.DataFrame({'true_label': mapped_true_labels, 'predicted_label': mapped_predicted_labels})\n",
    "mapped_labels_df.to_excel(labels_path, index=False)\n",
    "\n",
    "add_log_msg(f\"report path: {report_path}\")\n",
    "add_log_msg(f\"label path: {labels_path}\")\n",
    "\n",
    "mapped_report = classification_report(mapped_true_labels, mapped_predicted_labels)\n",
    "add_log_msg(f\"mapped_report:\\n{mapped_report}\")"
   ]
  },
  {
   "cell_type": "code",
   "execution_count": null,
   "metadata": {},
   "outputs": [],
   "source": []
  },
  {
   "cell_type": "code",
   "execution_count": null,
   "metadata": {},
   "outputs": [],
   "source": []
  },
  {
   "cell_type": "code",
   "execution_count": null,
   "metadata": {},
   "outputs": [],
   "source": []
  },
  {
   "cell_type": "code",
   "execution_count": null,
   "metadata": {},
   "outputs": [],
   "source": []
  }
 ],
 "metadata": {
  "kernelspec": {
   "display_name": "Python 3",
   "language": "python",
   "name": "python3"
  },
  "language_info": {
   "codemirror_mode": {
    "name": "ipython",
    "version": 3
   },
   "file_extension": ".py",
   "mimetype": "text/x-python",
   "name": "python",
   "nbconvert_exporter": "python",
   "pygments_lexer": "ipython3",
   "version": "3.6.9"
  }
 },
 "nbformat": 4,
 "nbformat_minor": 2
}
