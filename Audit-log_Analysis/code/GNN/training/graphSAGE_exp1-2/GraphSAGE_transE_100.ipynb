{
 "cells": [
  {
   "cell_type": "markdown",
   "metadata": {},
   "source": [
    "# Test of GraphSAGE\n",
    "- use DGL\n",
    "- predict `graphs`\n",
    "- valid, test data are in the training dataset"
   ]
  },
  {
   "cell_type": "code",
   "execution_count": 1,
   "metadata": {},
   "outputs": [],
   "source": [
    "import os\n",
    "import dgl\n",
    "import json\n",
    "import torch\n",
    "import torch as th\n",
    "import dgl.nn as dglnn\n",
    "# from tqdm import tqdm\n",
    "from tqdm.notebook import tqdm  # 使用 notebook 版本的 tqdm\n",
    "import torch.nn as nn\n",
    "from dgl.nn import GraphConv, GATConv, SAGEConv\n",
    "import torch.nn.functional as F\n",
    "from torch.utils.data import Dataset, DataLoader\n",
    "from transformers import get_linear_schedule_with_warmup"
   ]
  },
  {
   "cell_type": "markdown",
   "metadata": {},
   "source": [
    "- check the GPU and assign the GPU by the best memory usage"
   ]
  },
  {
   "cell_type": "code",
   "execution_count": 2,
   "metadata": {},
   "outputs": [
    {
     "name": "stdout",
     "output_type": "stream",
     "text": [
      "cuda:1\n"
     ]
    }
   ],
   "source": [
    "import subprocess\n",
    "import torch\n",
    "\n",
    "def get_free_gpu():\n",
    "    try:\n",
    "        # Run nvidia-smi command to get GPU details\n",
    "        _output_to_list = lambda x: x.decode('ascii').split('\\n')[:-1]\n",
    "        command = \"nvidia-smi --query-gpu=memory.free --format=csv,nounits,noheader\"\n",
    "        memory_free_info = _output_to_list(subprocess.check_output(command.split())) \n",
    "        memory_free_values = [int(x) for i, x in enumerate(memory_free_info)]\n",
    "        \n",
    "        # Get the GPU with the maximum free memory\n",
    "        best_gpu_id = memory_free_values.index(max(memory_free_values))\n",
    "        return best_gpu_id\n",
    "    except:\n",
    "        # If any exception occurs, default to GPU 0 (this handles cases where nvidia-smi isn't installed)\n",
    "        return 0\n",
    "\n",
    "if torch.cuda.is_available():\n",
    "    # Get the best GPU ID based on free memory and set it\n",
    "    best_gpu_id = get_free_gpu()\n",
    "    device = torch.device(f\"cuda:{best_gpu_id}\")\n",
    "else:\n",
    "    device = torch.device(\"cpu\")\n",
    "    print(\"there's no available GPU\")\n",
    "\n",
    "# device = torch.device(f\"cuda:{1}\")\n",
    "print(device)\n"
   ]
  },
  {
   "cell_type": "markdown",
   "metadata": {},
   "source": [
    "## Fix the seed"
   ]
  },
  {
   "cell_type": "code",
   "execution_count": 3,
   "metadata": {},
   "outputs": [],
   "source": [
    "import numpy as np\n",
    "import torch\n",
    "import random\n",
    "\n",
    "#fix seed\n",
    "def same_seeds(seed = 8787):\n",
    "    torch.manual_seed(seed)\n",
    "    # random.seed(seed) \n",
    "    if torch.cuda.is_available():\n",
    "        torch.cuda.manual_seed(seed)\n",
    "        torch.cuda.manual_seed_all(seed)  \n",
    "    np.random.seed(seed)  \n",
    "    torch.backends.cudnn.benchmark = False\n",
    "    torch.backends.cudnn.deterministic = True"
   ]
  },
  {
   "cell_type": "markdown",
   "metadata": {},
   "source": [
    "## Data Loader"
   ]
  },
  {
   "cell_type": "code",
   "execution_count": 4,
   "metadata": {},
   "outputs": [],
   "source": [
    "class GraphDataset(Dataset):\n",
    "    def __init__(self, data_list, device):\n",
    "        self.data_list = data_list\n",
    "        self.device = device\n",
    "\n",
    "    def __len__(self):\n",
    "        return len(self.data_list)\n",
    "    \n",
    "    def __getitem__(self, idx):\n",
    "        data = self.data_list[idx]\n",
    "\n",
    "        g = dgl.graph((th.tensor(data[\"edge_index\"][0]), th.tensor(data[\"edge_index\"][1])), num_nodes=data[\"num_nodes\"]).to(self.device)\n",
    "\n",
    "        g.ndata['feat'] = th.tensor(data[\"node_feat\"]).to(self.device)\n",
    "        g.edata['feat'] = th.tensor(data[\"edge_attr\"]).to(self.device)  # Add edge features to graph\n",
    "\n",
    "        return g, th.tensor(data[\"label\"]).to(self.device)\n",
    "\n",
    "\n",
    "def collate(samples):\n",
    "    # The input `samples` is a list of pairs\n",
    "    #  (graph, label).\n",
    "    graphs, labels = map(list, zip(*samples))\n",
    "    batched_graph = dgl.batch(graphs)\n",
    "    return batched_graph, torch.tensor(labels)\n"
   ]
  },
  {
   "cell_type": "code",
   "execution_count": 5,
   "metadata": {},
   "outputs": [
    {
     "data": {
      "application/vnd.jupyter.widget-view+json": {
       "model_id": "48343fed74a54db2b136f3b621a38b97",
       "version_major": 2,
       "version_minor": 0
      },
      "text/plain": [
       "  0%|          | 0/3 [00:00<?, ?it/s]"
      ]
     },
     "metadata": {},
     "output_type": "display_data"
    },
    {
     "name": "stdout",
     "output_type": "stream",
     "text": [
      "../../data_processing/dgl/data_new/exp1-2/training_data/exp_1/transE_100/train.jsonl\n"
     ]
    },
    {
     "data": {
      "application/vnd.jupyter.widget-view+json": {
       "model_id": "10b0b2efbd6a4267ad75ff6ea8a32ddf",
       "version_major": 2,
       "version_minor": 0
      },
      "text/plain": [
       "0it [00:00, ?it/s]"
      ]
     },
     "metadata": {},
     "output_type": "display_data"
    },
    {
     "name": "stdout",
     "output_type": "stream",
     "text": [
      "../../data_processing/dgl/data_new/exp1-2/training_data/exp_1/transE_100/valid.jsonl\n"
     ]
    },
    {
     "data": {
      "application/vnd.jupyter.widget-view+json": {
       "model_id": "6fd2df3a3b454651926de18b7e99f84c",
       "version_major": 2,
       "version_minor": 0
      },
      "text/plain": [
       "0it [00:00, ?it/s]"
      ]
     },
     "metadata": {},
     "output_type": "display_data"
    },
    {
     "name": "stdout",
     "output_type": "stream",
     "text": [
      "../../data_processing/dgl/data_new/exp1-2/training_data/exp_1/transE_100/test.jsonl\n"
     ]
    },
    {
     "data": {
      "application/vnd.jupyter.widget-view+json": {
       "model_id": "b822cb0e08224067939f8352b3ab1c56",
       "version_major": 2,
       "version_minor": 0
      },
      "text/plain": [
       "0it [00:00, ?it/s]"
      ]
     },
     "metadata": {},
     "output_type": "display_data"
    },
    {
     "name": "stdout",
     "output_type": "stream",
     "text": [
      "Datasets loaded!\n"
     ]
    }
   ],
   "source": [
    "datasets = ['train', 'valid', 'test']\n",
    "dataset_data = {}\n",
    "\n",
    "for dataset_name in tqdm(datasets):\n",
    "    file_path = f\"../../data_processing/dgl/data_new/exp1-2/training_data/exp_1/transE_100/{dataset_name}.jsonl\"\n",
    "    \n",
    "    print(file_path)\n",
    "    with open(file_path) as f:\n",
    "        data_list = [json.loads(line) for line in tqdm(f, position=0, leave=True)]\n",
    "    \n",
    "    dataset_data[dataset_name] = GraphDataset(data_list, device)\n",
    "\n",
    "print(\"Datasets loaded!\")"
   ]
  },
  {
   "cell_type": "markdown",
   "metadata": {},
   "source": [
    "- choose batch size"
   ]
  },
  {
   "cell_type": "code",
   "execution_count": 6,
   "metadata": {},
   "outputs": [],
   "source": [
    "def create_dataloaders(batch_size, shuffle=True):\n",
    "    dataloaders = {}\n",
    "    for dataset_name, dataset in dataset_data.items():\n",
    "        # do not shuffle the testing dataset\n",
    "        if dataset_name == \"test\":\n",
    "            dataloaders[dataset_name] = DataLoader(dataset, batch_size=batch_size, shuffle=False, collate_fn=collate)    \n",
    "        else:\n",
    "            dataloaders[dataset_name] = DataLoader(dataset, batch_size=batch_size, shuffle=shuffle, collate_fn=collate)\n",
    "    return dataloaders\n",
    "\n",
    "# dataloaders = create_dataloaders(4)\n",
    "dataloaders = create_dataloaders(16)"
   ]
  },
  {
   "cell_type": "markdown",
   "metadata": {},
   "source": [
    "- Turn the print message to a log file"
   ]
  },
  {
   "cell_type": "code",
   "execution_count": 7,
   "metadata": {},
   "outputs": [
    {
     "name": "stdout",
     "output_type": "stream",
     "text": [
      "../log_message/0911_23:12_GraphSAGE_transE_100.log\n"
     ]
    }
   ],
   "source": [
    "import datetime\n",
    "\n",
    "now = datetime.datetime.now()\n",
    "\n",
    "formatted_time = now.strftime(\"%m%d_%H:%M\")\n",
    "\n",
    "log_file_path = f\"../log_message/{formatted_time}_GraphSAGE_transE_100.log\"\n",
    "\n",
    "def add_log_msg(msg, log_file_path=log_file_path):\n",
    "    with open(log_file_path, 'a') as f:\n",
    "        f.write(f'{datetime.datetime.now().strftime(\"%m/%d/%Y, %H:%M:%S\")}# {msg}\\n')\n",
    "    print(f'{datetime.datetime.now().strftime(\"%m/%d/%Y, %H:%M:%S\")}# {msg}')\n",
    "\n",
    "print(log_file_path)"
   ]
  },
  {
   "cell_type": "markdown",
   "metadata": {},
   "source": [
    "### Model"
   ]
  },
  {
   "cell_type": "code",
   "execution_count": 8,
   "metadata": {},
   "outputs": [],
   "source": [
    "class GraphSAGE(nn.Module):\n",
    "    def __init__(self, in_dim, hidden_dim, out_dim):\n",
    "        super(GraphSAGE, self).__init__()\n",
    "        self.layer1 = dglnn.SAGEConv(in_dim, hidden_dim, 'mean')\n",
    "        self.layer2 = dglnn.SAGEConv(hidden_dim, out_dim, 'mean')  # Output layer\n",
    "\n",
    "    def forward(self, g, inputs):\n",
    "        h = self.layer1(g, inputs)\n",
    "        h = torch.relu(h)\n",
    "        h = self.layer2(g, h)  # You can apply another non-linearity here if needed\n",
    "        \n",
    "        g.ndata['h'] = h\n",
    "        hg = dgl.mean_nodes(g, 'h')\n",
    "        return hg\n"
   ]
  },
  {
   "cell_type": "markdown",
   "metadata": {},
   "source": [
    "- Model Forward  "
   ]
  },
  {
   "cell_type": "code",
   "execution_count": 9,
   "metadata": {},
   "outputs": [],
   "source": [
    "def model_fn(data, model, criterion, device, count=1, which_type='train'):\n",
    "    \"\"\"Forward a batch through the model.\"\"\"\n",
    "    batched_g, labels = data\n",
    "    batched_g = batched_g.to(device)\n",
    "    \n",
    "    labels = labels.to(device)\n",
    "#     labels = labels.float()\n",
    "\n",
    "    logits = model(batched_g, batched_g.ndata['feat'].float()) # for GAT\n",
    "#     logits = logits.mean(dim=1)\n",
    "#     print(labels)\n",
    "#     print(labels.shape)\n",
    "#     print(logits)\n",
    "#     print(logits.shape)\n",
    "\n",
    "    \n",
    "    loss = criterion(logits, labels)\n",
    "\n",
    "    # Get the class id with the highest probability\n",
    "    preds = logits.argmax(1) # for GAT\n",
    "#     print(preds)\n",
    "#     preds = logits.argmax() # for graphSAGE\n",
    "    \n",
    "    '''\n",
    "    问题出在GAT和GraphSAGE模型的输出形状上。\n",
    "    在你的 GAT 模型中，最后一层的输出是一个一维的张量，因此 logits 是一个形状为 (batch_size,) 的张量。这是因为 GAT 模型最后一层的输出被处理成了一个节点的预测，而不是整个图的预测。\n",
    "    在 GraphSAGE 模型中，最后一层的输出形状是 (num_nodes, out_dim)，也就是说，它返回了整个图的节点级别的预测。因此，logits 是一个二维的张量，形状为 (num_nodes, out_dim)。\n",
    "    当你尝试在一个一维张量上调用 logits.argmax(1) 时，会产生维度错误，因为它期望一个二维张量来执行操作。\n",
    "    所以，在 GraphSAGE 模型中，你应该将以下行：\n",
    "    '''\n",
    "    \n",
    "    \n",
    "    # Compute accuracy\n",
    "    accuracy = torch.mean((preds == labels).float())\n",
    "    \n",
    "    if which_type == 'validation' and count % 1000 == 0:\n",
    "        add_log_msg(f\"labels of Validation: {labels} {labels.shape}\")\n",
    "        add_log_msg(f\"predicted of Validation: {preds} {preds.shape}\")\n",
    "        \n",
    "    elif which_type == 'test'  and count % 1000 == 0:\n",
    "        add_log_msg(f\"labels of Test: {labels} {labels.shape}\")\n",
    "        add_log_msg(f\"predicted of Test: {preds} {preds.shape}\")\n",
    "        \n",
    "    if count % 5000 == 0: \n",
    "        add_log_msg(f\"labels of {count}: {labels} {labels.shape}\")\n",
    "        add_log_msg(f\"predicted of {count}: {preds} {preds.shape}\")\n",
    "        \n",
    "    return loss, accuracy, preds"
   ]
  },
  {
   "cell_type": "code",
   "execution_count": null,
   "metadata": {},
   "outputs": [],
   "source": []
  },
  {
   "cell_type": "markdown",
   "metadata": {},
   "source": [
    "### Training"
   ]
  },
  {
   "cell_type": "markdown",
   "metadata": {},
   "source": [
    "- Fix the seed and save the model.state_dict that contains the initial weight"
   ]
  },
  {
   "cell_type": "code",
   "execution_count": 10,
   "metadata": {},
   "outputs": [],
   "source": [
    "seed = 8787\n",
    "same_seeds(seed)\n",
    "\n",
    "model = GraphSAGE(in_dim=100, hidden_dim=16, out_dim=167)\n",
    "torch.save(model.state_dict(), 'model3_initial(graphsage)/initial_weight.pth')"
   ]
  },
  {
   "cell_type": "code",
   "execution_count": 11,
   "metadata": {},
   "outputs": [
    {
     "data": {
      "text/plain": [
       "Parameter containing:\n",
       "tensor([[-0.1509, -0.0410,  0.0382,  ..., -0.3047, -0.1212, -0.2266],\n",
       "        [-0.1014, -0.2252, -0.0897,  ..., -0.2919,  0.0512,  0.0597],\n",
       "        [-0.0198, -0.0780,  0.1764,  ..., -0.0487,  0.0846, -0.0813],\n",
       "        ...,\n",
       "        [ 0.2893,  0.3079,  0.2455,  ..., -0.2843, -0.2998, -0.1122],\n",
       "        [-0.1425, -0.1569,  0.0244,  ..., -0.1793,  0.3009,  0.1379],\n",
       "        [-0.2144, -0.2316,  0.1714,  ..., -0.0864, -0.2159, -0.0338]],\n",
       "       requires_grad=True)"
      ]
     },
     "execution_count": 11,
     "metadata": {},
     "output_type": "execute_result"
    }
   ],
   "source": [
    "model.layer1.fc_self.weight"
   ]
  },
  {
   "cell_type": "markdown",
   "metadata": {},
   "source": [
    "- Check if model really load the model_dict"
   ]
  },
  {
   "cell_type": "code",
   "execution_count": 12,
   "metadata": {},
   "outputs": [
    {
     "data": {
      "text/plain": [
       "Parameter containing:\n",
       "tensor([[-0.1509, -0.0410,  0.0382,  ..., -0.3047, -0.1212, -0.2266],\n",
       "        [-0.1014, -0.2252, -0.0897,  ..., -0.2919,  0.0512,  0.0597],\n",
       "        [-0.0198, -0.0780,  0.1764,  ..., -0.0487,  0.0846, -0.0813],\n",
       "        ...,\n",
       "        [ 0.2893,  0.3079,  0.2455,  ..., -0.2843, -0.2998, -0.1122],\n",
       "        [-0.1425, -0.1569,  0.0244,  ..., -0.1793,  0.3009,  0.1379],\n",
       "        [-0.2144, -0.2316,  0.1714,  ..., -0.0864, -0.2159, -0.0338]],\n",
       "       requires_grad=True)"
      ]
     },
     "execution_count": 12,
     "metadata": {},
     "output_type": "execute_result"
    }
   ],
   "source": [
    "model = GraphSAGE(in_dim=100, hidden_dim=16, out_dim=167)\n",
    "model.load_state_dict(torch.load('model3_initial(graphsage)/initial_weight.pth'))\n",
    "model.layer1.fc_self.weight"
   ]
  },
  {
   "cell_type": "code",
   "execution_count": 13,
   "metadata": {
    "scrolled": true
   },
   "outputs": [
    {
     "data": {
      "application/vnd.jupyter.widget-view+json": {
       "model_id": "2777c43a41a949d7adc5e28408cb83f8",
       "version_major": 2,
       "version_minor": 0
      },
      "text/plain": [
       "  0%|          | 0/10 [00:00<?, ?it/s]"
      ]
     },
     "metadata": {},
     "output_type": "display_data"
    },
    {
     "data": {
      "application/vnd.jupyter.widget-view+json": {
       "model_id": "a60f3272b54f40518df9c9d9b48e2184",
       "version_major": 2,
       "version_minor": 0
      },
      "text/plain": [
       "Training:   0%|          | 0/8250 [00:00<?, ?it/s]"
      ]
     },
     "metadata": {},
     "output_type": "display_data"
    },
    {
     "name": "stdout",
     "output_type": "stream",
     "text": [
      "09/11/2023, 23:14:15# labels of 5000: tensor([  0, 159,  29,  42, 124,  14,  71, 140,  86, 104, 135,  75, 149, 107,\n",
      "         71, 108], device='cuda:1') torch.Size([16])\n",
      "09/11/2023, 23:14:15# predicted of 5000: tensor([  0, 159,  29,  97,  20,  44,  71, 140,  86,  97, 135, 157, 149, 107,\n",
      "         71, 145], device='cuda:1') torch.Size([16])\n",
      "09/11/2023, 23:15:14# total batches: 8250\n",
      "09/11/2023, 23:15:14# Epoch 0 | Train Loss: 4.1842 | Train Accuracy: 0.3323\n"
     ]
    },
    {
     "data": {
      "application/vnd.jupyter.widget-view+json": {
       "model_id": "cb373c32a2684aabb52e3b027483ac56",
       "version_major": 2,
       "version_minor": 0
      },
      "text/plain": [
       "Validation:   0%|          | 0/1032 [00:00<?, ?it/s]"
      ]
     },
     "metadata": {},
     "output_type": "display_data"
    },
    {
     "name": "stdout",
     "output_type": "stream",
     "text": [
      "09/11/2023, 23:15:14# labels of Validation: tensor([115,  59, 121,  75, 137, 141, 144, 153, 159,  91,  72,  30, 132,   7,\n",
      "        137,  70], device='cuda:1') torch.Size([16])\n",
      "09/11/2023, 23:15:14# predicted of Validation: tensor([115,  59,  42,  48, 137, 141,  75, 153, 159,  59,  59,  42, 132,   7,\n",
      "        137,  70], device='cuda:1') torch.Size([16])\n",
      "09/11/2023, 23:15:14# labels of 0: tensor([115,  59, 121,  75, 137, 141, 144, 153, 159,  91,  72,  30, 132,   7,\n",
      "        137,  70], device='cuda:1') torch.Size([16])\n",
      "09/11/2023, 23:15:14# predicted of 0: tensor([115,  59,  42,  48, 137, 141,  75, 153, 159,  59,  59,  42, 132,   7,\n",
      "        137,  70], device='cuda:1') torch.Size([16])\n",
      "09/11/2023, 23:15:30# labels of Validation: tensor([ 49,  67,  11,   1,  57,  95, 117,   6,  42,  59, 112,  62,  76,  93,\n",
      "         28,  94], device='cuda:1') torch.Size([16])\n",
      "09/11/2023, 23:15:30# predicted of Validation: tensor([ 75,  67,  42,  48,  75,  95, 117,   6,  75,  59,  42, 106,  42,  59,\n",
      "         28, 120], device='cuda:1') torch.Size([16])\n",
      "09/11/2023, 23:15:31# Validation Loss: 3.0659 | Validation Accuracy: 0.5343\n",
      "\n",
      "09/11/2023, 23:15:31# Find a better model!!\n"
     ]
    },
    {
     "data": {
      "application/vnd.jupyter.widget-view+json": {
       "model_id": "7a261043a4dc471cacce60c070c2adc5",
       "version_major": 2,
       "version_minor": 0
      },
      "text/plain": [
       "Training:   0%|          | 0/8250 [00:00<?, ?it/s]"
      ]
     },
     "metadata": {},
     "output_type": "display_data"
    },
    {
     "name": "stdout",
     "output_type": "stream",
     "text": [
      "09/11/2023, 23:17:04# labels of 5000: tensor([165, 100,  59,  37, 137, 161,  11,   9, 144,  23, 145,  29,  57,  58,\n",
      "          5, 164], device='cuda:1') torch.Size([16])\n",
      "09/11/2023, 23:17:04# predicted of 5000: tensor([165, 100, 131,  37, 137, 161,  53, 116,  53,  23, 145,  29, 116,  58,\n",
      "          5,  53], device='cuda:1') torch.Size([16])\n",
      "09/11/2023, 23:18:04# total batches: 8250\n",
      "09/11/2023, 23:18:04# Epoch 1 | Train Loss: 2.4228 | Train Accuracy: 0.5773\n"
     ]
    },
    {
     "data": {
      "application/vnd.jupyter.widget-view+json": {
       "model_id": "0245f4d125eb4c48909ac4978063849f",
       "version_major": 2,
       "version_minor": 0
      },
      "text/plain": [
       "Validation:   0%|          | 0/1032 [00:00<?, ?it/s]"
      ]
     },
     "metadata": {},
     "output_type": "display_data"
    },
    {
     "name": "stdout",
     "output_type": "stream",
     "text": [
      "09/11/2023, 23:18:04# labels of Validation: tensor([ 25,  71,  60,   9,  53,  78, 155,  54,  51, 147,  51, 162,  47,  15,\n",
      "        127,  83], device='cuda:1') torch.Size([16])\n",
      "09/11/2023, 23:18:04# predicted of Validation: tensor([ 25,  71, 143,  76, 143,  78, 155, 143,  51, 147,  51, 143,  76,  15,\n",
      "        127, 143], device='cuda:1') torch.Size([16])\n",
      "09/11/2023, 23:18:04# labels of 0: tensor([ 25,  71,  60,   9,  53,  78, 155,  54,  51, 147,  51, 162,  47,  15,\n",
      "        127,  83], device='cuda:1') torch.Size([16])\n",
      "09/11/2023, 23:18:04# predicted of 0: tensor([ 25,  71, 143,  76, 143,  78, 155, 143,  51, 147,  51, 143,  76,  15,\n",
      "        127, 143], device='cuda:1') torch.Size([16])\n",
      "09/11/2023, 23:18:20# labels of Validation: tensor([ 93, 100,  33,  55,  60,  36, 134,  71, 159,  93, 109,   1, 132, 126,\n",
      "         67,  32], device='cuda:1') torch.Size([16])\n",
      "09/11/2023, 23:18:20# predicted of Validation: tensor([ 93, 100, 143,  76,  76,  76, 134,  71, 159,  93, 143, 143, 132, 126,\n",
      "         67,  32], device='cuda:1') torch.Size([16])\n",
      "09/11/2023, 23:18:20# Validation Loss: 1.9946 | Validation Accuracy: 0.5945\n",
      "\n",
      "09/11/2023, 23:18:20# Find a better model!!\n"
     ]
    },
    {
     "data": {
      "application/vnd.jupyter.widget-view+json": {
       "model_id": "2f375f68b0c143a68170129df28e9744",
       "version_major": 2,
       "version_minor": 0
      },
      "text/plain": [
       "Training:   0%|          | 0/8250 [00:00<?, ?it/s]"
      ]
     },
     "metadata": {},
     "output_type": "display_data"
    },
    {
     "name": "stdout",
     "output_type": "stream",
     "text": [
      "09/11/2023, 23:19:55# labels of 5000: tensor([146, 113,  97,  33,   0, 100,  44,  56,  52, 133,  39,  97, 117, 123,\n",
      "        139, 121], device='cuda:1') torch.Size([16])\n",
      "09/11/2023, 23:19:55# predicted of 5000: tensor([146,  59,  97, 142,   0, 100,  97,  56,  52, 133,  39, 142, 117, 123,\n",
      "        139,  97], device='cuda:1') torch.Size([16])\n",
      "09/11/2023, 23:20:58# total batches: 8250\n",
      "09/11/2023, 23:20:58# Epoch 2 | Train Loss: 1.8139 | Train Accuracy: 0.5941\n"
     ]
    },
    {
     "data": {
      "application/vnd.jupyter.widget-view+json": {
       "model_id": "16b8192e3ba544c092ad25927a0e5d0e",
       "version_major": 2,
       "version_minor": 0
      },
      "text/plain": [
       "Validation:   0%|          | 0/1032 [00:00<?, ?it/s]"
      ]
     },
     "metadata": {},
     "output_type": "display_data"
    },
    {
     "name": "stdout",
     "output_type": "stream",
     "text": [
      "09/11/2023, 23:20:58# labels of Validation: tensor([ 35,  43, 111,   3, 153,  13, 144,  69,  73,  31,  89,  67,  18, 130,\n",
      "        112, 164], device='cuda:1') torch.Size([16])\n",
      "09/11/2023, 23:20:58# predicted of Validation: tensor([ 35,  43,  57,   3, 153,  13,  57,  69,  73,  57,  89,  78,  57, 130,\n",
      "         57,  57], device='cuda:1') torch.Size([16])\n",
      "09/11/2023, 23:20:58# labels of 0: tensor([ 35,  43, 111,   3, 153,  13, 144,  69,  73,  31,  89,  67,  18, 130,\n",
      "        112, 164], device='cuda:1') torch.Size([16])\n",
      "09/11/2023, 23:20:58# predicted of 0: tensor([ 35,  43,  57,   3, 153,  13,  57,  69,  73,  57,  89,  78,  57, 130,\n",
      "         57,  57], device='cuda:1') torch.Size([16])\n",
      "09/11/2023, 23:21:13# labels of Validation: tensor([152, 165, 123,  84,  53,   5,  83,  32,  35, 146,  76,  45,  19,  35,\n",
      "         21, 133], device='cuda:1') torch.Size([16])\n",
      "09/11/2023, 23:21:13# predicted of Validation: tensor([ 24, 165, 123,  84,  57,   5,  57,  32,  35, 146,  57,  45,  19,  35,\n",
      "         21, 133], device='cuda:1') torch.Size([16])\n",
      "09/11/2023, 23:21:14# Validation Loss: 1.6992 | Validation Accuracy: 0.5947\n",
      "\n",
      "09/11/2023, 23:21:14# Find a better model!!\n"
     ]
    },
    {
     "data": {
      "application/vnd.jupyter.widget-view+json": {
       "model_id": "4262ebfc0389422d94d3129b37d4c084",
       "version_major": 2,
       "version_minor": 0
      },
      "text/plain": [
       "Training:   0%|          | 0/8250 [00:00<?, ?it/s]"
      ]
     },
     "metadata": {},
     "output_type": "display_data"
    },
    {
     "name": "stdout",
     "output_type": "stream",
     "text": [
      "09/11/2023, 23:22:48# labels of 5000: tensor([ 68,  33, 119, 160, 131,  83,  40, 133,  32,   6,  99,  88,  12,  17,\n",
      "         50, 140], device='cuda:1') torch.Size([16])\n",
      "09/11/2023, 23:22:48# predicted of 5000: tensor([ 64,  11,  11, 160, 131,  11,  40, 133,  32,   6,  99,  64,  11,  17,\n",
      "         50, 140], device='cuda:1') torch.Size([16])\n",
      "09/11/2023, 23:23:49# total batches: 8250\n",
      "09/11/2023, 23:23:49# Epoch 3 | Train Loss: 1.6443 | Train Accuracy: 0.5981\n"
     ]
    },
    {
     "data": {
      "application/vnd.jupyter.widget-view+json": {
       "model_id": "d9cf7c220a2c4b6d81c1e656ae548246",
       "version_major": 2,
       "version_minor": 0
      },
      "text/plain": [
       "Validation:   0%|          | 0/1032 [00:00<?, ?it/s]"
      ]
     },
     "metadata": {},
     "output_type": "display_data"
    },
    {
     "name": "stdout",
     "output_type": "stream",
     "text": [
      "09/11/2023, 23:23:49# labels of Validation: tensor([152,  83,   1,  93, 129,  86,   2,  52, 153, 159, 144, 124, 109, 137,\n",
      "         98, 129], device='cuda:1') torch.Size([16])\n",
      "09/11/2023, 23:23:49# predicted of Validation: tensor([124,  81, 109,  68, 129,  86, 109,  52, 153, 159, 124, 124, 109, 137,\n",
      "         98, 129], device='cuda:1') torch.Size([16])\n",
      "09/11/2023, 23:23:49# labels of 0: tensor([152,  83,   1,  93, 129,  86,   2,  52, 153, 159, 144, 124, 109, 137,\n",
      "         98, 129], device='cuda:1') torch.Size([16])\n",
      "09/11/2023, 23:23:49# predicted of 0: tensor([124,  81, 109,  68, 129,  86, 109,  52, 153, 159, 124, 124, 109, 137,\n",
      "         98, 129], device='cuda:1') torch.Size([16])\n",
      "09/11/2023, 23:24:05# labels of Validation: tensor([  4, 164,  91,  74, 105,  41,  52, 153,  59, 153, 150,  67,  48,  89,\n",
      "        157,  71], device='cuda:1') torch.Size([16])\n",
      "09/11/2023, 23:24:05# predicted of Validation: tensor([124, 124, 131, 109, 105,  41,  52, 153, 131, 153, 109,  78, 109,  89,\n",
      "        150,  71], device='cuda:1') torch.Size([16])\n",
      "09/11/2023, 23:24:05# Validation Loss: 1.6084 | Validation Accuracy: 0.6008\n",
      "\n",
      "09/11/2023, 23:24:05# Find a better model!!\n"
     ]
    },
    {
     "data": {
      "application/vnd.jupyter.widget-view+json": {
       "model_id": "ace6e0ac149e4ef1ba434c7d65616686",
       "version_major": 2,
       "version_minor": 0
      },
      "text/plain": [
       "Training:   0%|          | 0/8250 [00:00<?, ?it/s]"
      ]
     },
     "metadata": {},
     "output_type": "display_data"
    },
    {
     "name": "stdout",
     "output_type": "stream",
     "text": [
      "09/11/2023, 23:25:39# labels of 5000: tensor([ 49,  76, 108,  77,  57, 148,  93,  18, 139,   6,  49, 128, 159,  32,\n",
      "         20, 102], device='cuda:1') torch.Size([16])\n",
      "09/11/2023, 23:25:39# predicted of 5000: tensor([121, 121, 131,  77, 121, 148,   8,  44, 139,   6, 121, 128, 159,  32,\n",
      "         20, 102], device='cuda:1') torch.Size([16])\n",
      "09/11/2023, 23:26:40# total batches: 8250\n",
      "09/11/2023, 23:26:40# Epoch 4 | Train Loss: 1.5890 | Train Accuracy: 0.6012\n"
     ]
    },
    {
     "data": {
      "application/vnd.jupyter.widget-view+json": {
       "model_id": "f675dd8d7d5e46f39841bb881b70c588",
       "version_major": 2,
       "version_minor": 0
      },
      "text/plain": [
       "Validation:   0%|          | 0/1032 [00:00<?, ?it/s]"
      ]
     },
     "metadata": {},
     "output_type": "display_data"
    },
    {
     "name": "stdout",
     "output_type": "stream",
     "text": [
      "09/11/2023, 23:26:40# labels of Validation: tensor([ 44,  17,  61, 151,  78,   3, 116, 140,  23,  37, 108, 105,   0, 130,\n",
      "        119, 160], device='cuda:1') torch.Size([16])\n",
      "09/11/2023, 23:26:40# predicted of Validation: tensor([ 38,  17,  61,  38,  78,   3,  38, 140,  23,  37, 131, 105,   0, 130,\n",
      "         38, 160], device='cuda:1') torch.Size([16])\n",
      "09/11/2023, 23:26:40# labels of 0: tensor([ 44,  17,  61, 151,  78,   3, 116, 140,  23,  37, 108, 105,   0, 130,\n",
      "        119, 160], device='cuda:1') torch.Size([16])\n",
      "09/11/2023, 23:26:40# predicted of 0: tensor([ 38,  17,  61,  38,  78,   3,  38, 140,  23,  37, 131, 105,   0, 130,\n",
      "         38, 160], device='cuda:1') torch.Size([16])\n",
      "09/11/2023, 23:26:55# labels of Validation: tensor([ 19,  96,  95,   9,  43, 123,  62,  76, 129,  63, 138, 157, 163,   7,\n",
      "         73,   4], device='cuda:1') torch.Size([16])\n",
      "09/11/2023, 23:26:55# predicted of Validation: tensor([ 19,  96,  95,  38,  43, 123,  62,  47, 129,  63, 138,  47,  38,   7,\n",
      "         73,  76], device='cuda:1') torch.Size([16])\n",
      "09/11/2023, 23:26:56# Validation Loss: 1.5716 | Validation Accuracy: 0.6012\n",
      "\n",
      "09/11/2023, 23:26:56# Find a better model!!\n"
     ]
    },
    {
     "data": {
      "application/vnd.jupyter.widget-view+json": {
       "model_id": "928019aa2a0c40db8c02dfdfe6bdf19d",
       "version_major": 2,
       "version_minor": 0
      },
      "text/plain": [
       "Training:   0%|          | 0/8250 [00:00<?, ?it/s]"
      ]
     },
     "metadata": {},
     "output_type": "display_data"
    },
    {
     "name": "stdout",
     "output_type": "stream",
     "text": [
      "09/11/2023, 23:28:30# labels of 5000: tensor([ 75,  80, 122,   9, 161,   3, 141,  89, 127, 140, 160, 128,  94,  85,\n",
      "         49,  60], device='cuda:1') torch.Size([16])\n",
      "09/11/2023, 23:28:30# predicted of 5000: tensor([143,  80, 122,  83, 161,   3, 141,  89, 127, 140, 160, 128,  94,  85,\n",
      "          9,  83], device='cuda:1') torch.Size([16])\n",
      "09/11/2023, 23:29:30# total batches: 8250\n",
      "09/11/2023, 23:29:30# Epoch 5 | Train Loss: 1.5631 | Train Accuracy: 0.6034\n"
     ]
    },
    {
     "data": {
      "application/vnd.jupyter.widget-view+json": {
       "model_id": "bbd99a7ecb934392ba423791060f4546",
       "version_major": 2,
       "version_minor": 0
      },
      "text/plain": [
       "Validation:   0%|          | 0/1032 [00:00<?, ?it/s]"
      ]
     },
     "metadata": {},
     "output_type": "display_data"
    },
    {
     "name": "stdout",
     "output_type": "stream",
     "text": [
      "09/11/2023, 23:29:30# labels of Validation: tensor([ 61, 154,  84,  27,  27,  26,  83,  18,  82, 160, 114, 122,  87,  92,\n",
      "        123,  60], device='cuda:1') torch.Size([16])\n",
      "09/11/2023, 23:29:30# predicted of Validation: tensor([ 61, 154,  84,  27,  27,  26,  49,  49,  82, 160,  68, 122,  49,  49,\n",
      "        123,  49], device='cuda:1') torch.Size([16])\n",
      "09/11/2023, 23:29:30# labels of 0: tensor([ 61, 154,  84,  27,  27,  26,  83,  18,  82, 160, 114, 122,  87,  92,\n",
      "        123,  60], device='cuda:1') torch.Size([16])\n",
      "09/11/2023, 23:29:30# predicted of 0: tensor([ 61, 154,  84,  27,  27,  26,  49,  49,  82, 160,  68, 122,  49,  49,\n",
      "        123,  49], device='cuda:1') torch.Size([16])\n",
      "09/11/2023, 23:29:46# labels of Validation: tensor([  5, 164,  99, 114, 139, 141, 162, 104, 137,  16,  29, 143,  41,  88,\n",
      "         17,  73], device='cuda:1') torch.Size([16])\n",
      "09/11/2023, 23:29:46# predicted of Validation: tensor([  5,  49,  99,  72, 139, 141,  49,  49, 137,  16,  29,  49,  41,  68,\n",
      "         17,  73], device='cuda:1') torch.Size([16])\n",
      "09/11/2023, 23:29:47# Validation Loss: 1.5606 | Validation Accuracy: 0.5994\n",
      "\n",
      "09/11/2023, 23:29:47# Find a better model!!\n"
     ]
    },
    {
     "data": {
      "application/vnd.jupyter.widget-view+json": {
       "model_id": "bc55212d9a70438f9e15370005f591d8",
       "version_major": 2,
       "version_minor": 0
      },
      "text/plain": [
       "Training:   0%|          | 0/8250 [00:00<?, ?it/s]"
      ]
     },
     "metadata": {},
     "output_type": "display_data"
    },
    {
     "name": "stdout",
     "output_type": "stream",
     "text": [
      "09/11/2023, 23:31:22# labels of 5000: tensor([ 59, 124, 106, 101,  28,  85,  71,   7, 160, 131,  73,  61, 127, 106,\n",
      "         61, 108], device='cuda:1') torch.Size([16])\n",
      "09/11/2023, 23:31:22# predicted of 5000: tensor([ 59,  33, 106, 101,  28,  85,  71,   7, 160, 108,  73,  61, 127, 106,\n",
      "         61, 108], device='cuda:1') torch.Size([16])\n",
      "09/11/2023, 23:32:24# total batches: 8250\n",
      "09/11/2023, 23:32:24# Epoch 6 | Train Loss: 1.5485 | Train Accuracy: 0.6051\n"
     ]
    },
    {
     "data": {
      "application/vnd.jupyter.widget-view+json": {
       "model_id": "0c9118337a364a51a8537db2808eec5b",
       "version_major": 2,
       "version_minor": 0
      },
      "text/plain": [
       "Validation:   0%|          | 0/1032 [00:00<?, ?it/s]"
      ]
     },
     "metadata": {},
     "output_type": "display_data"
    },
    {
     "name": "stdout",
     "output_type": "stream",
     "text": [
      "09/11/2023, 23:32:24# labels of Validation: tensor([132, 162, 108,  55,  39,  70, 128,  12,  54,  68, 145,  88,  15,  71,\n",
      "         54,  46], device='cuda:1') torch.Size([16])\n",
      "09/11/2023, 23:32:24# predicted of Validation: tensor([132, 144, 108, 144,  39,  70, 128, 112, 112,  64, 145, 114,  15,  71,\n",
      "        144,  46], device='cuda:1') torch.Size([16])\n",
      "09/11/2023, 23:32:24# labels of 0: tensor([132, 162, 108,  55,  39,  70, 128,  12,  54,  68, 145,  88,  15,  71,\n",
      "         54,  46], device='cuda:1') torch.Size([16])\n",
      "09/11/2023, 23:32:24# predicted of 0: tensor([132, 144, 108, 144,  39,  70, 128, 112, 112,  64, 145, 114,  15,  71,\n",
      "        144,  46], device='cuda:1') torch.Size([16])\n",
      "09/11/2023, 23:32:40# labels of Validation: tensor([ 12, 155,  92,  31, 152, 124,  69,  45, 140,  18, 130,  10,   0, 148,\n",
      "         20,  18], device='cuda:1') torch.Size([16])\n",
      "09/11/2023, 23:32:40# predicted of Validation: tensor([112, 155, 144, 112, 144,  42,  69,  45, 140, 112, 130,  10,   0, 148,\n",
      "         20, 121], device='cuda:1') torch.Size([16])\n",
      "09/11/2023, 23:32:40# Validation Loss: 1.5401 | Validation Accuracy: 0.6050\n",
      "\n",
      "09/11/2023, 23:32:40# Find a better model!!\n"
     ]
    },
    {
     "data": {
      "application/vnd.jupyter.widget-view+json": {
       "model_id": "53b8dd9004974734bd1e7f602136eb99",
       "version_major": 2,
       "version_minor": 0
      },
      "text/plain": [
       "Training:   0%|          | 0/8250 [00:00<?, ?it/s]"
      ]
     },
     "metadata": {},
     "output_type": "display_data"
    },
    {
     "name": "stdout",
     "output_type": "stream",
     "text": [
      "09/11/2023, 23:34:15# labels of 5000: tensor([ 84,   2,  51,  62,  24, 142,  27,  57,  58,  80, 166,  95, 131,  24,\n",
      "        107,  36], device='cuda:1') torch.Size([16])\n",
      "09/11/2023, 23:34:15# predicted of 5000: tensor([ 84,  60,  51,  62,  24, 152,  27,  24,  58,  80, 166,  95, 131, 152,\n",
      "        107, 152], device='cuda:1') torch.Size([16])\n",
      "09/11/2023, 23:35:19# total batches: 8250\n",
      "09/11/2023, 23:35:19# Epoch 7 | Train Loss: 1.5372 | Train Accuracy: 0.6060\n"
     ]
    },
    {
     "data": {
      "application/vnd.jupyter.widget-view+json": {
       "model_id": "e8ff20c3b4514d0f8b9e7c8a48f77afa",
       "version_major": 2,
       "version_minor": 0
      },
      "text/plain": [
       "Validation:   0%|          | 0/1032 [00:00<?, ?it/s]"
      ]
     },
     "metadata": {},
     "output_type": "display_data"
    },
    {
     "name": "stdout",
     "output_type": "stream",
     "text": [
      "09/11/2023, 23:35:19# labels of Validation: tensor([ 62,  66,  62, 155,  97,  95, 124, 128,  14,  41,  14,  34,  16,  30,\n",
      "        118, 104], device='cuda:1') torch.Size([16])\n",
      "09/11/2023, 23:35:19# predicted of Validation: tensor([ 62,  66,  62, 155,  24,  95,   1, 128,  75,  41,  24,   1,  16,   1,\n",
      "        118,  24], device='cuda:1') torch.Size([16])\n",
      "09/11/2023, 23:35:19# labels of 0: tensor([ 62,  66,  62, 155,  97,  95, 124, 128,  14,  41,  14,  34,  16,  30,\n",
      "        118, 104], device='cuda:1') torch.Size([16])\n",
      "09/11/2023, 23:35:19# predicted of 0: tensor([ 62,  66,  62, 155,  24,  95,   1, 128,  75,  41,  24,   1,  16,   1,\n",
      "        118,  24], device='cuda:1') torch.Size([16])\n",
      "09/11/2023, 23:35:34# labels of Validation: tensor([133, 136,  59,  59,  25, 110, 142,  64,  73, 111, 133, 115,  23,  61,\n",
      "         80, 125], device='cuda:1') torch.Size([16])\n",
      "09/11/2023, 23:35:34# predicted of Validation: tensor([133, 136, 131, 131,  25, 114,   1, 114,  73,  24, 133, 115,  23,  61,\n",
      "         80, 112], device='cuda:1') torch.Size([16])\n",
      "09/11/2023, 23:35:35# Validation Loss: 1.5289 | Validation Accuracy: 0.6056\n",
      "\n",
      "09/11/2023, 23:35:35# Find a better model!!\n"
     ]
    },
    {
     "data": {
      "application/vnd.jupyter.widget-view+json": {
       "model_id": "c9e15e05c5ab4eb98d9e3325455b7697",
       "version_major": 2,
       "version_minor": 0
      },
      "text/plain": [
       "Training:   0%|          | 0/8250 [00:00<?, ?it/s]"
      ]
     },
     "metadata": {},
     "output_type": "display_data"
    },
    {
     "name": "stdout",
     "output_type": "stream",
     "text": [
      "09/11/2023, 23:37:08# labels of 5000: tensor([ 24, 130,  59, 135,  84,  70,  21, 158,  35,  49, 127,  87,  96, 115,\n",
      "        131, 121], device='cuda:1') torch.Size([16])\n",
      "09/11/2023, 23:37:08# predicted of 5000: tensor([163, 130,  91, 135,  84,  70,  21, 163,  35,  53, 127,  53,  96, 115,\n",
      "        131,  53], device='cuda:1') torch.Size([16])\n",
      "09/11/2023, 23:38:10# total batches: 8250\n",
      "09/11/2023, 23:38:10# Epoch 8 | Train Loss: 1.5288 | Train Accuracy: 0.6068\n"
     ]
    },
    {
     "data": {
      "application/vnd.jupyter.widget-view+json": {
       "model_id": "1ed23a02357e46f8a081aafbf9391b92",
       "version_major": 2,
       "version_minor": 0
      },
      "text/plain": [
       "Validation:   0%|          | 0/1032 [00:00<?, ?it/s]"
      ]
     },
     "metadata": {},
     "output_type": "display_data"
    },
    {
     "name": "stdout",
     "output_type": "stream",
     "text": [
      "09/11/2023, 23:38:10# labels of Validation: tensor([ 33,  33, 147,  79,  16,  33,  48, 104, 141, 143, 130,   5,  74,  38,\n",
      "        125,  89], device='cuda:1') torch.Size([16])\n",
      "09/11/2023, 23:38:10# predicted of Validation: tensor([ 76,  76, 147,  72,  16,  76,  76,  76, 141,  76, 130,   5,  76,  76,\n",
      "         76,  89], device='cuda:1') torch.Size([16])\n",
      "09/11/2023, 23:38:10# labels of 0: tensor([ 33,  33, 147,  79,  16,  33,  48, 104, 141, 143, 130,   5,  74,  38,\n",
      "        125,  89], device='cuda:1') torch.Size([16])\n",
      "09/11/2023, 23:38:10# predicted of 0: tensor([ 76,  76, 147,  72,  16,  76,  76,  76, 141,  76, 130,   5,  76,  76,\n",
      "         76,  89], device='cuda:1') torch.Size([16])\n",
      "09/11/2023, 23:38:26# labels of Validation: tensor([ 79, 126,  19, 160, 123,  16,  84, 114, 139, 134, 159, 144, 110,  75,\n",
      "        105,  49], device='cuda:1') torch.Size([16])\n",
      "09/11/2023, 23:38:26# predicted of Validation: tensor([ 79, 126,  19, 160, 123,  16,  84, 114, 139, 134, 159,  76, 114,  76,\n",
      "        105,  76], device='cuda:1') torch.Size([16])\n",
      "09/11/2023, 23:38:26# Validation Loss: 1.5292 | Validation Accuracy: 0.6020\n",
      "\n"
     ]
    },
    {
     "data": {
      "application/vnd.jupyter.widget-view+json": {
       "model_id": "121b25a3a9854a45b039778f83b54eb4",
       "version_major": 2,
       "version_minor": 0
      },
      "text/plain": [
       "Training:   0%|          | 0/8250 [00:00<?, ?it/s]"
      ]
     },
     "metadata": {},
     "output_type": "display_data"
    },
    {
     "name": "stdout",
     "output_type": "stream",
     "text": [
      "09/11/2023, 23:40:02# labels of 5000: tensor([ 29,  86, 117,  96, 104,  67,  74, 156,  61,  85, 163, 102,  14,  79,\n",
      "         16,  77], device='cuda:1') torch.Size([16])\n",
      "09/11/2023, 23:40:02# predicted of 5000: tensor([ 29,  86, 117,  96, 142,  67, 142, 156,  61,  85, 142, 102,  54,  72,\n",
      "         16,  77], device='cuda:1') torch.Size([16])\n",
      "09/11/2023, 23:41:04# total batches: 8250\n",
      "09/11/2023, 23:41:04# Epoch 9 | Train Loss: 1.5218 | Train Accuracy: 0.6079\n"
     ]
    },
    {
     "data": {
      "application/vnd.jupyter.widget-view+json": {
       "model_id": "bd0feefcd73846f1a839d20f2a903bea",
       "version_major": 2,
       "version_minor": 0
      },
      "text/plain": [
       "Validation:   0%|          | 0/1032 [00:00<?, ?it/s]"
      ]
     },
     "metadata": {},
     "output_type": "display_data"
    },
    {
     "name": "stdout",
     "output_type": "stream",
     "text": [
      "09/11/2023, 23:41:04# labels of Validation: tensor([ 89, 101,  11,  38,  35, 151,  80, 164,  77, 144, 118,  27, 123,  67,\n",
      "          0, 134], device='cuda:1') torch.Size([16])\n",
      "09/11/2023, 23:41:04# predicted of Validation: tensor([ 89, 101,  75, 163,  35,  75,  80,  75,  77,  75, 118,  27, 123,  67,\n",
      "          0, 134], device='cuda:1') torch.Size([16])\n",
      "09/11/2023, 23:41:04# labels of 0: tensor([ 89, 101,  11,  38,  35, 151,  80, 164,  77, 144, 118,  27, 123,  67,\n",
      "          0, 134], device='cuda:1') torch.Size([16])\n",
      "09/11/2023, 23:41:04# predicted of 0: tensor([ 89, 101,  75, 163,  35,  75,  80,  75,  77,  75, 118,  27, 123,  67,\n",
      "          0, 134], device='cuda:1') torch.Size([16])\n",
      "09/11/2023, 23:41:19# labels of Validation: tensor([158,  84,  88, 149,  99,   6, 138, 138, 110,  72, 159,  88, 134, 127,\n",
      "         68, 109], device='cuda:1') torch.Size([16])\n",
      "09/11/2023, 23:41:19# predicted of Validation: tensor([163,  84,  68, 149,  99,   6, 138, 138,  68,  72, 159,  68, 134, 127,\n",
      "         68,  75], device='cuda:1') torch.Size([16])\n",
      "09/11/2023, 23:41:20# Validation Loss: 1.5169 | Validation Accuracy: 0.6103\n",
      "\n",
      "09/11/2023, 23:41:20# Find a better model!!\n"
     ]
    }
   ],
   "source": [
    "import csv\n",
    "import pandas as pd\n",
    "from sklearn.metrics import classification_report\n",
    "from torch.optim import AdamW, lr_scheduler\n",
    "\n",
    "seed = 8787\n",
    "same_seeds(seed)\n",
    "\n",
    "model = GraphSAGE(in_dim=100, hidden_dim=16, out_dim=167)\n",
    "# in_dim means the dimension of the node_feat(50 dim, since the 50-dim embedding)\n",
    "# out_dim means the # of the categories -> 168 for out tasks\n",
    "model.load_state_dict(torch.load('model3_initial(graphsage)/initial_weight.pth'))\n",
    "best_model_path = \"../checkpoint_graphSAGE/best_model_GraphSAGE_transE_100.pt\"\n",
    "\n",
    "model = model.to(device)\n",
    "\n",
    "# optimizer = torch.optim.AdamW(model.parameters(), lr=1e-5)\n",
    "optimizer = AdamW(model.parameters(), lr=5e-4)\n",
    "# scheduler = get_linear_schedule_with_warmup(optimizer, num_warmup_steps=18, num_training_steps=total_steps)\n",
    "\n",
    "# T_max control the period of the lr changing -> set 1/10 first\n",
    "scheduler = lr_scheduler.CosineAnnealingLR(optimizer, T_max=36, eta_min=0, last_epoch=- 1, verbose=False)\n",
    "\n",
    "\n",
    "criterion = nn.CrossEntropyLoss()\n",
    "# criterion = torch.nn.BCEWithLogitsLoss()\n",
    "\n",
    "total_steps = 10\n",
    "\n",
    "# save the best model\n",
    "best_val_loss = float('inf')\n",
    "patience = 10  # Number of epochs with no improvement after which training will be stopped.\n",
    "waiting = 0  # The number of epochs with no improvement so far.\n",
    "\n",
    "\n",
    "# Training Part\n",
    "for epoch in tqdm(range(total_steps)):\n",
    "    # Train\n",
    "    model.train()\n",
    "    total_loss = 0.0\n",
    "    total_accuracy = 0.0\n",
    "    num_batches = 0\n",
    "    \n",
    "    for data in tqdm(dataloaders['train'], desc=\"Training\", position=0, leave=True):\n",
    "        num_batches += 1\n",
    "        loss, accuracy, _ = model_fn(data, model, criterion, device, num_batches, which_type='train')\n",
    "        \n",
    "        optimizer.zero_grad()\n",
    "        loss.backward()\n",
    "        optimizer.step()\n",
    "\n",
    "        total_loss += loss.item()\n",
    "        total_accuracy += accuracy.item()\n",
    "\n",
    "        \n",
    "#     scheduler.step()\n",
    "    add_log_msg(f\"total batches: {num_batches}\")\n",
    "\n",
    "    avg_loss = total_loss / num_batches\n",
    "    avg_accuracy = total_accuracy / num_batches\n",
    "\n",
    "    add_log_msg(f'Epoch {epoch} | Train Loss: {avg_loss:.4f} | Train Accuracy: {avg_accuracy:.4f}')\n",
    "\n",
    "    \n",
    "    # Validation Part\n",
    "    model.eval()\n",
    "    total_accuracy = 0.0\n",
    "    total_loss = 0.0\n",
    "    num_batches = 0\n",
    "\n",
    "\n",
    "    with torch.no_grad():\n",
    "        for data in tqdm(dataloaders['valid'], desc=\"Validation\", position=0, leave=True):\n",
    "            loss, accuracy, _ = model_fn(data, model, criterion, device, num_batches, which_type='validation')\n",
    "            total_accuracy += accuracy.item()\n",
    "            total_loss += loss.item()\n",
    "            num_batches += 1\n",
    "\n",
    "    avg_accuracy = total_accuracy / num_batches\n",
    "    current_loss = total_loss / num_batches\n",
    "    \n",
    "    add_log_msg(f'Validation Loss: {current_loss:.4f} | Validation Accuracy: {avg_accuracy:.4f}\\n')\n",
    "    \n",
    "            \n",
    "    if current_loss < best_val_loss:\n",
    "        best_val_loss = current_loss\n",
    "        waiting = 0\n",
    "        \n",
    "        if os.path.exists(best_model_path):\n",
    "            os.remove(best_model_path)\n",
    "            add_log_msg(\"Find a better model!!\")\n",
    "\n",
    "        torch.save(model.state_dict(), best_model_path)\n",
    "\n",
    "#         print(best_model_path)\n",
    "\n",
    "    else:\n",
    "        waiting += 1\n",
    "        if waiting >= patience:\n",
    "            add_log_msg(\"============================== Early stopping ==================================\")\n",
    "            break"
   ]
  },
  {
   "cell_type": "markdown",
   "metadata": {},
   "source": [
    "### test of valid and test part is ``graph``"
   ]
  },
  {
   "cell_type": "markdown",
   "metadata": {},
   "source": [
    "- 60 APs in training x 10000times\n",
    "- 5 APs in validation x 4 times\n",
    "- 3 APs in test x 4 times\n",
    "- Batch size = 4"
   ]
  },
  {
   "cell_type": "code",
   "execution_count": 14,
   "metadata": {},
   "outputs": [
    {
     "data": {
      "application/vnd.jupyter.widget-view+json": {
       "model_id": "a107e1bc69a84d2c80dae7efe0ba26d1",
       "version_major": 2,
       "version_minor": 0
      },
      "text/plain": [
       "Testing:   0%|          | 0/1032 [00:00<?, ?it/s]"
      ]
     },
     "metadata": {},
     "output_type": "display_data"
    },
    {
     "name": "stdout",
     "output_type": "stream",
     "text": [
      "09/11/2023, 23:41:20# labels of Test: tensor([1, 1, 1, 1, 1, 1, 1, 1, 1, 1, 1, 1, 1, 1, 1, 1], device='cuda:1') torch.Size([16])\n",
      "09/11/2023, 23:41:20# predicted of Test: tensor([163, 163,  75, 163,  75,  75,  75, 163,  75,  75, 163, 163, 163,  75,\n",
      "         75, 163], device='cuda:1') torch.Size([16])\n",
      "09/11/2023, 23:41:20# labels of 0: tensor([1, 1, 1, 1, 1, 1, 1, 1, 1, 1, 1, 1, 1, 1, 1, 1], device='cuda:1') torch.Size([16])\n",
      "09/11/2023, 23:41:20# predicted of 0: tensor([163, 163,  75, 163,  75,  75,  75, 163,  75,  75, 163, 163, 163,  75,\n",
      "         75, 163], device='cuda:1') torch.Size([16])\n",
      "09/11/2023, 23:41:20# labels: tensor([1, 1, 1, 1, 1, 1, 1, 1, 1, 1, 1, 1, 1, 1, 1, 1], device='cuda:1') torch.Size([16])\n",
      "09/11/2023, 23:41:20# predicted: tensor([163, 163,  75, 163,  75,  75,  75, 163,  75,  75, 163, 163, 163,  75,\n",
      "         75, 163], device='cuda:1') torch.Size([16])\n",
      "09/11/2023, 23:41:34# labels of Test: tensor([163, 163, 163, 163, 163, 163, 163, 163, 163, 163, 163, 163, 163, 163,\n",
      "        163, 163], device='cuda:1') torch.Size([16])\n",
      "09/11/2023, 23:41:34# predicted of Test: tensor([163,  75,  75, 163,  75, 163, 163,  75,  75, 163, 163,  75,  75, 163,\n",
      "         75, 163], device='cuda:1') torch.Size([16])\n",
      "09/11/2023, 23:41:34# Test Accuracy: 61.13939393939394 %\n",
      "\n",
      "\n",
      "\n"
     ]
    },
    {
     "name": "stderr",
     "output_type": "stream",
     "text": [
      "/workdir/home/euni/.local/lib/python3.6/site-packages/sklearn/metrics/_classification.py:1248: UndefinedMetricWarning: Precision and F-score are ill-defined and being set to 0.0 in labels with no predicted samples. Use `zero_division` parameter to control this behavior.\n",
      "  _warn_prf(average, modifier, msg_start, len(result))\n",
      "/workdir/home/euni/.local/lib/python3.6/site-packages/sklearn/metrics/_classification.py:1248: UndefinedMetricWarning: Precision and F-score are ill-defined and being set to 0.0 in labels with no predicted samples. Use `zero_division` parameter to control this behavior.\n",
      "  _warn_prf(average, modifier, msg_start, len(result))\n",
      "/workdir/home/euni/.local/lib/python3.6/site-packages/sklearn/metrics/_classification.py:1248: UndefinedMetricWarning: Precision and F-score are ill-defined and being set to 0.0 in labels with no predicted samples. Use `zero_division` parameter to control this behavior.\n",
      "  _warn_prf(average, modifier, msg_start, len(result))\n"
     ]
    },
    {
     "name": "stdout",
     "output_type": "stream",
     "text": [
      "09/11/2023, 23:41:36# report path: classification_report/classification_report-transE_100-graphSAGE-0.xlsx\n",
      "09/11/2023, 23:41:36# label path: classification_report/mapped_true_predicted_labels-transE_100-graphSAGE-0.xlsx\n"
     ]
    },
    {
     "name": "stderr",
     "output_type": "stream",
     "text": [
      "/workdir/home/euni/.local/lib/python3.6/site-packages/sklearn/metrics/_classification.py:1248: UndefinedMetricWarning: Precision and F-score are ill-defined and being set to 0.0 in labels with no predicted samples. Use `zero_division` parameter to control this behavior.\n",
      "  _warn_prf(average, modifier, msg_start, len(result))\n",
      "/workdir/home/euni/.local/lib/python3.6/site-packages/sklearn/metrics/_classification.py:1248: UndefinedMetricWarning: Precision and F-score are ill-defined and being set to 0.0 in labels with no predicted samples. Use `zero_division` parameter to control this behavior.\n",
      "  _warn_prf(average, modifier, msg_start, len(result))\n"
     ]
    },
    {
     "name": "stdout",
     "output_type": "stream",
     "text": [
      "09/11/2023, 23:41:36# mapped_report:\n",
      "                                                precision    recall  f1-score   support\n",
      "\n",
      "T1003.001_0ef4cc7b-611c-4237-b20b-db36b6906554       1.00      1.00      1.00       100\n",
      "    T1003.001_35d92515122effdd73801c6ac3021da7       1.00      1.00      1.00       100\n",
      "    T1003.002_5a484b65c247675e3b7ada4ba648d376       1.00      1.00      1.00       100\n",
      "    T1003.002_7fa4ea18694f2552547b65e23952cabb       1.00      1.00      1.00       100\n",
      "    T1003.003_9f73269695e54311dd61dc68940fb3e1       0.00      0.00      0.00       100\n",
      "    T1003.003_f049b89533298c2d6cd37a940248b219       0.00      0.00      0.00       100\n",
      "        T1003_18f31c311ac208802e88ab8d5af8603e       1.00      1.00      1.00       100\n",
      "        T1007_9d03c91bdae5a80f17f89c987942b5a8       1.00      1.00      1.00       100\n",
      "    T1007_c6607391-d02c-44b5-9b13-d3492ca58599       0.00      0.00      0.00       100\n",
      "        T1007_d6bb2a19da7246731ed9c44831b135f8       0.50      0.99      0.67       100\n",
      "    T1016_14a21534-350f-4d83-9dd7-3c56b93a0c17       0.00      0.00      0.00       100\n",
      "        T1016_71b3d2945679566b9d94d8cb11df4b70       0.00      0.00      0.00       100\n",
      "        T1016_7d8ee68f0e9731db82964f558f614608       0.50      1.00      0.66       100\n",
      "    T1016_921055f4-5970-4707-909e-62f594234d91       0.00      0.00      0.00       100\n",
      "    T1016_a0676fe1-cd52-482e-8dde-349b73f9aa69       0.00      0.00      0.00       100\n",
      "    T1016_e8017c46-acb8-400c-a4b5-b3362b5b5baa       0.00      0.00      0.00       100\n",
      "    T1018_26c8b8b5-7b5b-4de1-a128-7d37fb14f517       0.00      0.00      0.00       100\n",
      "        T1018_a44bb43474728496276d5d73aa14588f       0.00      0.00      0.00       100\n",
      "        T1018_ac20e592bc912bddff4d6b88289095f0       0.00      0.00      0.00       100\n",
      "    T1021.001_dd67068b052fa553ad4a0ac7d6a5ea89       1.00      1.00      1.00       100\n",
      "    T1033_bd527b63-9f9e-46e0-9816-b8434d2b8989       0.00      0.00      0.00       100\n",
      "    T1033_c0da588f-79f0-4263-8998-7496b1a40596       0.03      0.01      0.02       100\n",
      "    T1036.003_04e8d83e7badf098d50800d6aa1dd487       1.00      1.00      1.00       100\n",
      "    T1036.003_f5ef8466e5ebcd2ae03f338d9416069c       1.00      1.00      1.00       100\n",
      "    T1036.004_1f0614ea5c4af6faf1b44570f5f22f8a       0.00      0.00      0.00       100\n",
      "    T1036.004_7de3d7b4922a7b996d8df36fb22bb118       0.00      0.00      0.00       100\n",
      "    T1037.001_62cfa90fb03a6bc1a6ebcce8a3ea81b7       1.00      1.00      1.00       100\n",
      "        T1040_6881a4589710d53f0c146e91db513f01       1.00      1.00      1.00       100\n",
      "        T1047_09e0f9cf2eb803a1c35deeecf3665fad       0.00      0.00      0.00       100\n",
      "        T1047_6935e41353aa781bb723462d26114c44       0.00      0.00      0.00       100\n",
      "        T1047_ac122553ab4426ea3362bb4a97d31bfd       0.00      0.00      0.00       100\n",
      "        T1047_ac2764f7a67a9ce92b54e8e59b361838       0.00      0.00      0.00       100\n",
      "        T1047_b0255b5120cbabc062d8d4510a142c3b       0.00      0.00      0.00       100\n",
      "        T1047_ed736a123da6fb2aab22cfd4f437e8b5       0.00      0.00      0.00       100\n",
      "        T1047_f4b0b4129560ea66f9751275e82f6bab       0.00      0.00      0.00       100\n",
      "    T1049_638fb6bb-ba39-4285-93d1-7e4775b033a8       0.00      0.00      0.00       100\n",
      "        T1049_a14392d713dffba6a397682ff83259a0       0.00      0.00      0.00       100\n",
      "    T1053.005_5db2884b6ca3ab932848f295a3896dc0       0.10      1.00      0.18       100\n",
      "    T1053.005_ee454be9197890de62705ce6255933fd       0.00      0.00      0.00       100\n",
      "T1055.001_a74bc239-a196-4f7e-8d5c-fe8c0266071c       0.00      0.00      0.00       100\n",
      "T1055.002_e5bcefee-262d-4568-a261-e8a20855ec81       0.00      0.00      0.00       100\n",
      "    T1057_5a39d7ed-45c9-4a79-b581-e5fb99e24f65       0.00      0.00      0.00       100\n",
      "    T1057_8adf02e8-6e71-4244-886c-98c402857404       1.00      1.00      1.00       100\n",
      "        T1057_b2a1e430ca6d36eb5af2fe666e769847       0.00      0.00      0.00       100\n",
      "        T1057_f8de05d1741dcc468f772ab0ff4dac72       0.00      0.00      0.00       100\n",
      "T1059.001_55678719-e76e-4df9-92aa-10655bbd1cf4       1.00      1.00      1.00       100\n",
      "    T1059.001_6efbccc1869e8cd618c0d3ecda407d5f       1.00      1.00      1.00       100\n",
      "T1059.001_702bfdd2-9947-4eda-b551-c3a1ea9a59a2       1.00      1.00      1.00       100\n",
      "T1059.001_bfff9006-d1fb-46ce-b173-92cb04e9a031       1.00      1.00      1.00       100\n",
      "T1059.001_ccdb8caf-c69e-424b-b930-551969450c57       1.00      1.00      1.00       100\n",
      "T1059.001_e5f9de8f-3df1-4e78-ad92-a784e3f6770d       1.00      1.00      1.00       100\n",
      "    T1059.003_6c318ef0339d74d909ad556681b6493e       1.00      1.00      1.00       100\n",
      "    T1059.003_f38e58deb7ad20b5538ca40db7b7b4f8       1.00      1.00      1.00       100\n",
      "T1069.001_5c4dd985-89e3-4590-9b57-71fed66ff4e2       1.00      1.00      1.00       100\n",
      "    T1069.001_a1f48fa3ddee658b29b414523c9a295b       0.00      0.00      0.00       100\n",
      "    T1069.002_6103e503cb444bc7b4187704f2035708       0.00      0.00      0.00       100\n",
      "    T1070.005_1f91076e2be2014cc7b4f1296de02fd6       1.00      1.00      1.00       100\n",
      "    T1071.001_24c3b7b004401d839a5c337201da3484       1.00      1.00      1.00       100\n",
      "T1074.001_4e97e699-93d7-4040-b5a3-2e906a58199e       1.00      1.00      1.00       100\n",
      "T1074.001_6469befa-748a-4b9c-a96d-f191fde47d89       1.00      1.00      1.00       100\n",
      "    T1074.001_e6dfc7e89359ac6fa6de84b0e1d5762e       1.00      1.00      1.00       100\n",
      "    T1078.001_d0ca00832890baa1d42322cf70fcab1a       0.00      0.00      0.00       100\n",
      "    T1082_29451844-9b76-4e16-a9ee-d6feab4b24db       0.00      0.00      0.00       100\n",
      "    T1083_52177cc1-b9ab-4411-ac21-2eadc4b5d3b8       1.00      1.00      1.00       100\n",
      "    T1083_6e1a53c0-7352-4899-be35-fa7f364d5722       0.00      0.00      0.00       100\n",
      "    T1087.001_6334877e8e3ba48f7835d4856d90a282       1.00      1.00      1.00       100\n",
      "T1087.001_feaced8f-f43f-452a-9500-a5219488abb8       0.00      0.00      0.00       100\n",
      "    T1090.001_ba343199a4f15ed6b57eb52412f62e4e       0.92      0.94      0.93       100\n",
      "        T1105_0856c235a1d26113d4f2d92e39c9a9f8       1.00      1.00      1.00       100\n",
      "        T1105_1095434782a00c8a4772a11e625bcf5d       1.00      1.00      1.00       100\n",
      "        T1105_4f683658f161ccdc51337c470d32bab9       1.00      1.00      1.00       100\n",
      "    T1105_60f63260-39bb-4136-87a0-b6c2dca799fc       1.00      1.00      1.00       100\n",
      "        T1105_c521e0a70b243a0cf9217907ca3c6d27       1.00      1.00      1.00       100\n",
      "        T1105_c76968acda4aa1673dadcd67f3ab7664       1.00      1.00      1.00       100\n",
      "        T1105_e6715e61f5df646692c624b3499384c4       1.00      1.00      1.00       100\n",
      "    T1105_eb814e03-811a-467a-bc6d-dcd453750fa2       1.00      1.00      1.00       100\n",
      "        T1112_257313a3c93e3bb7dfb60d6753b09e34       1.00      1.00      1.00       100\n",
      "        T1112_34041639e6e501856ecaf5969ee29c76       1.00      1.00      1.00       100\n",
      "        T1112_35c0360d226cf38104f300d9d57ce60e       1.00      1.00      1.00       100\n",
      "        T1112_4bfb5f265a5ce07af6bf10da113af7db       1.00      1.00      1.00       100\n",
      "        T1112_7fe6a66d03f4dbfc022609ba311c2b11       1.00      1.00      1.00       100\n",
      "        T1112_ba6f6214dbd17c54001e0a163b60f151       1.00      1.00      1.00       100\n",
      "        T1112_cab7b85611a290c0769546bfa9d6f962       1.00      1.00      1.00       100\n",
      "        T1112_cd8be0e6b873919da25530a2c7ea6750       1.00      1.00      1.00       100\n",
      "        T1112_e74d2fb4ef5fa6c766a4151554033697       1.00      1.00      1.00       100\n",
      "        T1112_e7a987cbef27263e666e5b096488dc55       1.00      1.00      1.00       100\n",
      "        T1112_fa4ba6a06b4a5cd955ea5a60fae24281       1.00      1.00      1.00       100\n",
      "        T1112_fd992e8ecfdac9b56dd6868904044827       1.00      1.00      1.00       100\n",
      "    T1113_316251ed-6a28-4013-812b-ddf5b5b007f8       1.00      1.00      1.00       100\n",
      "        T1115_70795de7cbb842edb029b3378c27c008       1.00      1.00      1.00       100\n",
      "    T1115_b007fe0c-c6b0-4fda-915c-255bbc070de2       0.00      0.00      0.00       100\n",
      "        T1119_344e7eaf650763e0d3e9f02e62c1cf4b       1.00      1.00      1.00       100\n",
      "        T1119_7121cdf93b951311be9d7078c602efdc       1.00      1.00      1.00       100\n",
      "        T1120_7b9c7afaefa59aab759b49af0d699ac1       1.00      1.00      1.00       100\n",
      "        T1123_372e6f46fca18e4f1b43209c20ffafa2       1.00      1.00      1.00       100\n",
      "    T1124_fa6e8607-e0b1-425d-8924-9b894da5a002       0.00      0.00      0.00       100\n",
      "        T1125_da86001b5081fcf773d8e62f22cf2b00       1.00      1.00      1.00       100\n",
      "    T1135_530e47c6-8592-42bf-91df-c59ffbd8541b       0.00      0.00      0.00       100\n",
      "    T1135_deeac480-5c2a-42b5-90bb-41675ee53c7e       0.00      0.00      0.00       100\n",
      "    T1137.002_e2af3c3ab1b0f659c874b8af58c49759       1.00      1.00      1.00       100\n",
      "        T1137_12ad9edefc86af07700fbf49bfdac6ba       1.00      1.00      1.00       100\n",
      "        T1201_38f6f0e50a6b196140ec40d3dc9cc9e6       0.00      0.00      0.00       100\n",
      "        T1201_57296a2ddbeb7423c05feef2fe972111       0.00      0.00      0.00       100\n",
      "    T1204.002_522f3f35cd013e63830fa555495a0081       1.00      1.00      1.00       100\n",
      "        T1217_69bbe2183fa09c00ccaac62d48e214f8       1.00      1.00      1.00       100\n",
      "        T1217_f7a0f7d704aa52a764d9d1bee81e65d6       0.02      0.49      0.04       100\n",
      "        T1219_7dabcbecab0334b115feefab1630f84a       1.00      1.00      1.00       100\n",
      "        T1219_af8cb2bf9b436aae5c106a0a9c207e14       1.00      1.00      1.00       100\n",
      "        T1219_f1b3fca18d7465cd10e5a7477a3bf97d       1.00      1.00      1.00       100\n",
      "    T1482_6131397e-7765-424e-a594-3d7fb2d93a6a       1.00      1.00      1.00       100\n",
      "        T1482_cfb61005899996469ae3023796792ca5       0.00      0.00      0.00       100\n",
      "        T1486_d82ceb9939d3d920ee550187ad8235c8       1.00      1.00      1.00       100\n",
      "        T1490_2d53d6fabd39bf9c70b0dfcdfbbc926d       0.02      0.53      0.03       100\n",
      "        T1490_8467c994685ccf178db166964bd80fab       0.00      0.00      0.00       100\n",
      "        T1490_9e5e4c0655fd1b5be88bd40b8251175f       0.00      0.00      0.00       100\n",
      "        T1490_c156ac5c9fa67080365268d95f29053d       0.00      0.00      0.00       100\n",
      "        T1490_c8f329d2847ede593b6cb4a1ec6120fb       1.00      1.00      1.00       100\n",
      "        T1490_e90756bb6dcd21462dc4cc452661df91       0.00      0.00      0.00       100\n",
      "    T1491_47d08617-5ce1-424a-8cc5-c9c978ce6bf9       1.00      1.00      1.00       100\n",
      "    T1491_68235976-2404-42a8-9105-68230cfef562       1.00      1.00      1.00       100\n",
      "    T1496_46da2385-cf37-49cb-ba4b-a739c7a19de4       1.00      1.00      1.00       100\n",
      "T1497.001_1258b063-27d6-489b-a677-4807faacf868       0.00      0.00      0.00       100\n",
      "T1497.001_5dc841fd-28ad-40e2-b10e-fb007fe09e81       0.00      0.00      0.00       100\n",
      "T1497.001_7a6ba833-de40-466a-8969-5c37b13603e0       0.00      0.00      0.00       100\n",
      "    T1499_2fe2d5e6-7b06-4fc0-bf71-6966a1226731       0.00      0.00      0.00       100\n",
      "T1518.001_2dece965-37a0-4f70-a391-0f30e3331aba       0.00      0.00      0.00       100\n",
      "    T1518.001_33a24ff44719e6ac0614b58f8c9a7c72       0.00      0.00      0.00       100\n",
      "    T1518.001_b8453a5fe06b24aea12b27592d5c3d3a       0.00      0.00      0.00       100\n",
      "        T1518_8ddfaf982ab359cda13626b870ccb339       1.00      1.00      1.00       100\n",
      "    T1518_c9be8043-a445-4cbf-b77b-ed7bb007fc7c       1.00      1.00      1.00       100\n",
      "        T1531_aa6b15485a5f50ced34d87fda177b758       0.00      0.00      0.00       100\n",
      "        T1531_b25ae80dad74142fafb510e9c1949ace       0.00      0.00      0.00       100\n",
      "    T1546.013_f9a968af61d36983448c74cca5464e17       1.00      1.00      1.00       100\n",
      "    T1547.001_0dbdf1a2a87e718a6ac8a8e3415a7fac       1.00      1.00      1.00       100\n",
      "    T1547.001_163b023f43aba758d36f524d146cb8ea       1.00      1.00      1.00       100\n",
      "    T1547.001_1f15ab22c39a9b6bb2bb0d77276dfcb3       1.00      1.00      1.00       100\n",
      "    T1547.001_4b71ebb2f6f6a01235ba240fa40ce978       1.00      1.00      1.00       100\n",
      "    T1547.001_777043894e42d2aae3881e63f6c76d33       1.00      1.00      1.00       100\n",
      "    T1547.001_d3ef4145e4144fd694514b1c5cc17350       1.00      1.00      1.00       100\n",
      "    T1547.004_0856714c9810ac55b53e9964d02958a0       1.00      1.00      1.00       100\n",
      "    T1547.004_aa147165f6c116cb0b0f944abe1db8ce       1.00      1.00      1.00       100\n",
      "    T1547.009_501af516bd8b24fee0c7c650ae5cc861       1.00      1.00      1.00       100\n",
      "    T1547.009_b6e5c895c6709fe289352ee23f062229       1.00      1.00      1.00       100\n",
      "    T1547.010_4593d72a5145e3f494421ac772d37464       1.00      1.00      1.00       100\n",
      "        T1547_fe9eeee9a7b339089e5fa634b08522c1       1.00      1.00      1.00       100\n",
      "T1548.002_665432a4-42e7-4ee1-af19-a9a8c9455d0c       1.00      1.00      1.00       100\n",
      "    T1552.002_3e5b04b8ee0a1a4950da8f35d95e65fc       0.00      0.00      0.00       100\n",
      "        T1560_a1ee301b0508747b468d578a14e5c1a5       1.00      1.00      1.00       100\n",
      "    T1562.001_43e3334362b140924f001b256b229ee5       1.00      1.00      1.00       100\n",
      "    T1562.002_6a8d25d65a7d481dc479f89c62af1e6a       1.00      1.00      1.00       100\n",
      "    T1562.002_94f51bf01a7036fe02d07b4c18967669       0.00      0.00      0.00       100\n",
      "    T1562.004_280003641a5cddf916c4f2bf605a71d3       0.00      0.00      0.00       100\n",
      "    T1562.004_41627f71f968225b9f162cb76d16bd9d       1.00      1.00      1.00       100\n",
      "    T1562.004_5b93df032e230056c21a3e57334f77d1       0.00      0.00      0.00       100\n",
      "    T1562.004_8d0a4585e7c4646185a912b14cd9cb46       0.00      0.00      0.00       100\n",
      "    T1562.004_8fe59e288f10a486dc8b44bc872019ff       1.00      1.00      1.00       100\n",
      "    T1564.001_66a5fd5f244819181f074dd082a28905       0.50      1.00      0.67       100\n",
      "    T1564.001_dce51e632abdfe5392c7c1f942ac9273       0.00      0.00      0.00       100\n",
      "    T1564.003_9a2edad4053a2b59fb9167a9bc29e7dc       0.94      0.92      0.93       100\n",
      "    T1564.004_28862487a99f5f89bc0d68c87396c7e9       1.00      1.00      1.00       100\n",
      "    T1564.004_76b6066fe170d38215251102e42be973       1.00      1.00      1.00       100\n",
      "        T1564_dedfa0a54c9c13ce5714a0dc2e1f5d1a       0.00      0.00      0.00       100\n",
      "    T1566.001_1afaec09315ab71fdfb167175e8a019a       1.00      1.00      1.00       100\n",
      "    T1574.001_63bbedafba2f541552ac3579e9e3737b       1.00      1.00      1.00       100\n",
      "    T1574.011_72249c1e9ffe7d8f30243d838e0791ca       1.00      1.00      1.00       100\n",
      "\n",
      "                                      accuracy                           0.61     16500\n",
      "                                     macro avg       0.59      0.61      0.59     16500\n",
      "                                  weighted avg       0.59      0.61      0.59     16500\n",
      "\n"
     ]
    },
    {
     "name": "stderr",
     "output_type": "stream",
     "text": [
      "/workdir/home/euni/.local/lib/python3.6/site-packages/sklearn/metrics/_classification.py:1248: UndefinedMetricWarning: Precision and F-score are ill-defined and being set to 0.0 in labels with no predicted samples. Use `zero_division` parameter to control this behavior.\n",
      "  _warn_prf(average, modifier, msg_start, len(result))\n"
     ]
    }
   ],
   "source": [
    "# load the pretrained model\n",
    "pretrained_model_path = '../checkpoint_graphSAGE/best_model_GraphSAGE_transE_100.pt'\n",
    "model.load_state_dict(torch.load(pretrained_model_path))\n",
    "\n",
    "model.to(device)\n",
    "model.eval()\n",
    "\n",
    "total = 0\n",
    "correct = 0\n",
    "count = 0\n",
    "\n",
    "true_labels = []\n",
    "predicted_labels = []\n",
    "\n",
    "with torch.no_grad():\n",
    "    for data in tqdm(dataloaders['test'], desc=\"Testing\", position=0, leave=True):\n",
    "#         print(f\"data:{data[1]}\")\n",
    "        loss, accuracy, predicted = model_fn(data, model, criterion, device, count, which_type='test')\n",
    "        labels = data[1].to(device)\n",
    "        \n",
    "        true_labels.extend(labels.cpu().numpy())\n",
    "        predicted_labels.extend(predicted.cpu().numpy())\n",
    "        \n",
    "        if count % 5000 == 0:\n",
    "            add_log_msg(f\"labels: {labels} {labels.shape}\")\n",
    "            add_log_msg(f\"predicted: {predicted} {predicted.shape}\")\n",
    "            \n",
    "        count += 1\n",
    "        \n",
    "        total += labels.size(0)\n",
    "        correct += (predicted == labels).sum().item()\n",
    "\n",
    "add_log_msg(f'Test Accuracy: {100 * correct / total} %\\n\\n\\n')\n",
    "\n",
    "\n",
    "# ======================================== handlig the output excel files ========================================\n",
    "mapping_file = './new_mapping.txt'\n",
    "label_mapping = {}\n",
    "with open(mapping_file, 'r') as f:\n",
    "    for line in f:\n",
    "        parts = line.strip().split(': ')\n",
    "        label_mapping[int(parts[1])] = parts[0]\n",
    "        \n",
    "# 将映射后的标签应用到true和predicted标签列表\n",
    "mapped_true_labels = [label_mapping[label] for label in true_labels]\n",
    "mapped_predicted_labels = [label_mapping[label] for label in predicted_labels]\n",
    "\n",
    "# 生成Scikit-learn报告信息的DataFrame\n",
    "report_data = classification_report(mapped_true_labels, mapped_predicted_labels, output_dict=True)\n",
    "report_df = pd.DataFrame(report_data).transpose()\n",
    "\n",
    "# mapped_true_labels_np = np.array(mapped_true_labels)\n",
    "# mapped_predicted_labels_np = np.array(mapped_predicted_labels)\n",
    "\n",
    "# print(\"mapped_true_labels 的形状:\", mapped_true_labels_np.shape)\n",
    "# print(\"mapped_predicted_labels 的形状:\", mapped_predicted_labels_np.shape)\n",
    "\n",
    "report_folder = 'classification_report'\n",
    "os.makedirs(report_folder, exist_ok=True)\n",
    "\n",
    "count = 0\n",
    "while True:\n",
    "    report_filename = f'classification_report-transE_100-graphSAGE-{count}.xlsx'\n",
    "    labels_filename = f'mapped_true_predicted_labels-transE_100-graphSAGE-{count}.xlsx'\n",
    "    \n",
    "    report_path = os.path.join(report_folder, report_filename)\n",
    "    labels_path = os.path.join(report_folder, labels_filename)\n",
    "    \n",
    "    if not os.path.exists(report_path) and not os.path.exists(labels_path):\n",
    "        break\n",
    "    count += 1\n",
    "\n",
    "    \n",
    "report_df.to_excel(report_path, index_label='Label')\n",
    "\n",
    "mapped_labels_df = pd.DataFrame({'true_label': mapped_true_labels, 'predicted_label': mapped_predicted_labels})\n",
    "mapped_labels_df.to_excel(labels_path, index=False)\n",
    "\n",
    "add_log_msg(f\"report path: {report_path}\")\n",
    "add_log_msg(f\"label path: {labels_path}\")\n",
    "\n",
    "mapped_report = classification_report(mapped_true_labels, mapped_predicted_labels)\n",
    "add_log_msg(f\"mapped_report:\\n{mapped_report}\")"
   ]
  },
  {
   "cell_type": "code",
   "execution_count": null,
   "metadata": {},
   "outputs": [],
   "source": []
  },
  {
   "cell_type": "code",
   "execution_count": null,
   "metadata": {},
   "outputs": [],
   "source": []
  },
  {
   "cell_type": "code",
   "execution_count": null,
   "metadata": {},
   "outputs": [],
   "source": []
  }
 ],
 "metadata": {
  "kernelspec": {
   "display_name": "Python 3",
   "language": "python",
   "name": "python3"
  },
  "language_info": {
   "codemirror_mode": {
    "name": "ipython",
    "version": 3
   },
   "file_extension": ".py",
   "mimetype": "text/x-python",
   "name": "python",
   "nbconvert_exporter": "python",
   "pygments_lexer": "ipython3",
   "version": "3.6.9"
  }
 },
 "nbformat": 4,
 "nbformat_minor": 2
}
