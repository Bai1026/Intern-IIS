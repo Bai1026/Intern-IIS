{
 "cells": [
  {
   "cell_type": "markdown",
   "metadata": {},
   "source": [
    "# Test of GraphSAGE\n",
    "- use DGL\n",
    "- predict `graphs`\n",
    "- valid, test data are in the training dataset"
   ]
  },
  {
   "cell_type": "code",
   "execution_count": 1,
   "metadata": {},
   "outputs": [],
   "source": [
    "import os\n",
    "import dgl\n",
    "import json\n",
    "import torch\n",
    "import torch as th\n",
    "import dgl.nn as dglnn\n",
    "# from tqdm import tqdm\n",
    "from tqdm.notebook import tqdm  # 使用 notebook 版本的 tqdm\n",
    "import torch.nn as nn\n",
    "from dgl.nn import GraphConv, GATConv, SAGEConv\n",
    "import torch.nn.functional as F\n",
    "from torch.utils.data import Dataset, DataLoader\n",
    "from transformers import get_linear_schedule_with_warmup"
   ]
  },
  {
   "cell_type": "markdown",
   "metadata": {},
   "source": [
    "- check the GPU and assign the GPU by the best memory usage"
   ]
  },
  {
   "cell_type": "code",
   "execution_count": 2,
   "metadata": {},
   "outputs": [
    {
     "name": "stdout",
     "output_type": "stream",
     "text": [
      "cuda:3\n"
     ]
    }
   ],
   "source": [
    "import subprocess\n",
    "import torch\n",
    "\n",
    "def get_free_gpu():\n",
    "    try:\n",
    "        # Run nvidia-smi command to get GPU details\n",
    "        _output_to_list = lambda x: x.decode('ascii').split('\\n')[:-1]\n",
    "        command = \"nvidia-smi --query-gpu=memory.free --format=csv,nounits,noheader\"\n",
    "        memory_free_info = _output_to_list(subprocess.check_output(command.split())) \n",
    "        memory_free_values = [int(x) for i, x in enumerate(memory_free_info)]\n",
    "        \n",
    "        # Get the GPU with the maximum free memory\n",
    "        best_gpu_id = memory_free_values.index(max(memory_free_values))\n",
    "        return best_gpu_id\n",
    "    except:\n",
    "        # If any exception occurs, default to GPU 0 (this handles cases where nvidia-smi isn't installed)\n",
    "        return 0\n",
    "\n",
    "if torch.cuda.is_available():\n",
    "    # Get the best GPU ID based on free memory and set it\n",
    "    best_gpu_id = get_free_gpu()\n",
    "    device = torch.device(f\"cuda:{best_gpu_id}\")\n",
    "else:\n",
    "    device = torch.device(\"cpu\")\n",
    "    print(\"there's no available GPU\")\n",
    "\n",
    "# device = torch.device(f\"cuda:{1}\")\n",
    "print(device)\n"
   ]
  },
  {
   "cell_type": "markdown",
   "metadata": {},
   "source": [
    "## Fix the seed"
   ]
  },
  {
   "cell_type": "code",
   "execution_count": 3,
   "metadata": {},
   "outputs": [],
   "source": [
    "import numpy as np\n",
    "import torch\n",
    "import random\n",
    "\n",
    "#fix seed\n",
    "def same_seeds(seed = 8787):\n",
    "    torch.manual_seed(seed)\n",
    "    # random.seed(seed) \n",
    "    if torch.cuda.is_available():\n",
    "        torch.cuda.manual_seed(seed)\n",
    "        torch.cuda.manual_seed_all(seed)  \n",
    "    np.random.seed(seed)  \n",
    "    torch.backends.cudnn.benchmark = False\n",
    "    torch.backends.cudnn.deterministic = True"
   ]
  },
  {
   "cell_type": "markdown",
   "metadata": {},
   "source": [
    "## Data Loader"
   ]
  },
  {
   "cell_type": "code",
   "execution_count": 4,
   "metadata": {},
   "outputs": [],
   "source": [
    "class GraphDataset(Dataset):\n",
    "    def __init__(self, data_list, device):\n",
    "        self.data_list = data_list\n",
    "        self.device = device\n",
    "\n",
    "    def __len__(self):\n",
    "        return len(self.data_list)\n",
    "    \n",
    "    def __getitem__(self, idx):\n",
    "        data = self.data_list[idx]\n",
    "\n",
    "        g = dgl.graph((th.tensor(data[\"edge_index\"][0]), th.tensor(data[\"edge_index\"][1])), num_nodes=data[\"num_nodes\"]).to(self.device)\n",
    "\n",
    "        g.ndata['feat'] = th.tensor(data[\"node_feat\"]).to(self.device)\n",
    "        g.edata['feat'] = th.tensor(data[\"edge_attr\"]).to(self.device)  # Add edge features to graph\n",
    "\n",
    "        return g, th.tensor(data[\"label\"]).to(self.device)\n",
    "\n",
    "\n",
    "def collate(samples):\n",
    "    # The input `samples` is a list of pairs\n",
    "    #  (graph, label).\n",
    "    graphs, labels = map(list, zip(*samples))\n",
    "    batched_graph = dgl.batch(graphs)\n",
    "    return batched_graph, torch.tensor(labels)\n"
   ]
  },
  {
   "cell_type": "code",
   "execution_count": 5,
   "metadata": {},
   "outputs": [
    {
     "data": {
      "application/vnd.jupyter.widget-view+json": {
       "model_id": "b5e69617de464e68ad6b3fd51c06aead",
       "version_major": 2,
       "version_minor": 0
      },
      "text/plain": [
       "  0%|          | 0/3 [00:00<?, ?it/s]"
      ]
     },
     "metadata": {},
     "output_type": "display_data"
    },
    {
     "name": "stdout",
     "output_type": "stream",
     "text": [
      "../../data_processing/dgl/data_new/exp1-2/training_data/exp_1/secureBERT_150/train.jsonl\n"
     ]
    },
    {
     "data": {
      "application/vnd.jupyter.widget-view+json": {
       "model_id": "2609ede281944f7c9dc43881fd5beb87",
       "version_major": 2,
       "version_minor": 0
      },
      "text/plain": [
       "0it [00:00, ?it/s]"
      ]
     },
     "metadata": {},
     "output_type": "display_data"
    },
    {
     "name": "stdout",
     "output_type": "stream",
     "text": [
      "../../data_processing/dgl/data_new/exp1-2/training_data/exp_1/secureBERT_150/valid.jsonl\n"
     ]
    },
    {
     "data": {
      "application/vnd.jupyter.widget-view+json": {
       "model_id": "aca51172ad3d4db9909fe51345984b7c",
       "version_major": 2,
       "version_minor": 0
      },
      "text/plain": [
       "0it [00:00, ?it/s]"
      ]
     },
     "metadata": {},
     "output_type": "display_data"
    },
    {
     "name": "stdout",
     "output_type": "stream",
     "text": [
      "../../data_processing/dgl/data_new/exp1-2/training_data/exp_1/secureBERT_150/test.jsonl\n"
     ]
    },
    {
     "data": {
      "application/vnd.jupyter.widget-view+json": {
       "model_id": "e4dd2cb316614b659f0906805cc01009",
       "version_major": 2,
       "version_minor": 0
      },
      "text/plain": [
       "0it [00:00, ?it/s]"
      ]
     },
     "metadata": {},
     "output_type": "display_data"
    },
    {
     "name": "stdout",
     "output_type": "stream",
     "text": [
      "Datasets loaded!\n"
     ]
    }
   ],
   "source": [
    "datasets = ['train', 'valid', 'test']\n",
    "dataset_data = {}\n",
    "\n",
    "for dataset_name in tqdm(datasets):\n",
    "    file_path = f\"../../data_processing/dgl/data_new/exp1-2/training_data/exp_1/secureBERT_150/{dataset_name}.jsonl\"\n",
    "    \n",
    "    print(file_path)\n",
    "    with open(file_path) as f:\n",
    "        data_list = [json.loads(line) for line in tqdm(f, position=0, leave=True)]\n",
    "    \n",
    "    dataset_data[dataset_name] = GraphDataset(data_list, device)\n",
    "\n",
    "print(\"Datasets loaded!\")"
   ]
  },
  {
   "cell_type": "markdown",
   "metadata": {},
   "source": [
    "- choose batch size"
   ]
  },
  {
   "cell_type": "code",
   "execution_count": 6,
   "metadata": {},
   "outputs": [],
   "source": [
    "def create_dataloaders(batch_size, shuffle=True):\n",
    "    dataloaders = {}\n",
    "    for dataset_name, dataset in dataset_data.items():\n",
    "        # do not shuffle the testing dataset\n",
    "        if dataset_name == \"test\":\n",
    "            dataloaders[dataset_name] = DataLoader(dataset, batch_size=batch_size, shuffle=False, collate_fn=collate)    \n",
    "        else:\n",
    "            dataloaders[dataset_name] = DataLoader(dataset, batch_size=batch_size, shuffle=shuffle, collate_fn=collate)\n",
    "    return dataloaders\n",
    "\n",
    "# dataloaders = create_dataloaders(4)\n",
    "dataloaders = create_dataloaders(16)"
   ]
  },
  {
   "cell_type": "markdown",
   "metadata": {},
   "source": [
    "- Turn the print message to a log file"
   ]
  },
  {
   "cell_type": "code",
   "execution_count": 7,
   "metadata": {},
   "outputs": [
    {
     "name": "stdout",
     "output_type": "stream",
     "text": [
      "../log_message/0911_23:51_GraphSAGE_secureBERT_150.log\n"
     ]
    }
   ],
   "source": [
    "import datetime\n",
    "\n",
    "now = datetime.datetime.now()\n",
    "\n",
    "formatted_time = now.strftime(\"%m%d_%H:%M\")\n",
    "\n",
    "log_file_path = f\"../log_message/{formatted_time}_GraphSAGE_secureBERT_150.log\"\n",
    "\n",
    "def add_log_msg(msg, log_file_path=log_file_path):\n",
    "    with open(log_file_path, 'a') as f:\n",
    "        f.write(f'{datetime.datetime.now().strftime(\"%m/%d/%Y, %H:%M:%S\")}# {msg}\\n')\n",
    "    print(f'{datetime.datetime.now().strftime(\"%m/%d/%Y, %H:%M:%S\")}# {msg}')\n",
    "\n",
    "print(log_file_path)"
   ]
  },
  {
   "cell_type": "markdown",
   "metadata": {},
   "source": [
    "### Model"
   ]
  },
  {
   "cell_type": "code",
   "execution_count": 8,
   "metadata": {},
   "outputs": [],
   "source": [
    "class GraphSAGE(nn.Module):\n",
    "    def __init__(self, in_dim, hidden_dim, out_dim):\n",
    "        super(GraphSAGE, self).__init__()\n",
    "        self.layer1 = dglnn.SAGEConv(in_dim, hidden_dim, 'mean')\n",
    "        self.layer2 = dglnn.SAGEConv(hidden_dim, out_dim, 'mean')  # Output layer\n",
    "\n",
    "    def forward(self, g, inputs):\n",
    "        h = self.layer1(g, inputs)\n",
    "        h = torch.relu(h)\n",
    "        h = self.layer2(g, h)  # You can apply another non-linearity here if needed\n",
    "        \n",
    "        g.ndata['h'] = h\n",
    "        hg = dgl.mean_nodes(g, 'h')\n",
    "        return hg\n"
   ]
  },
  {
   "cell_type": "markdown",
   "metadata": {},
   "source": [
    "- Model Forward  "
   ]
  },
  {
   "cell_type": "code",
   "execution_count": 9,
   "metadata": {},
   "outputs": [],
   "source": [
    "def model_fn(data, model, criterion, device, count=1, which_type='train'):\n",
    "    \"\"\"Forward a batch through the model.\"\"\"\n",
    "    batched_g, labels = data\n",
    "    batched_g = batched_g.to(device)\n",
    "    \n",
    "    labels = labels.to(device)\n",
    "#     labels = labels.float()\n",
    "\n",
    "    logits = model(batched_g, batched_g.ndata['feat'].float()) # for GAT\n",
    "#     logits = logits.mean(dim=1)\n",
    "#     print(labels)\n",
    "#     print(labels.shape)\n",
    "#     print(logits)\n",
    "#     print(logits.shape)\n",
    "\n",
    "    \n",
    "    loss = criterion(logits, labels)\n",
    "\n",
    "    # Get the class id with the highest probability\n",
    "    preds = logits.argmax(1) # for GAT\n",
    "#     print(preds)\n",
    "#     preds = logits.argmax() # for graphSAGE\n",
    "    \n",
    "    '''\n",
    "    问题出在GAT和GraphSAGE模型的输出形状上。\n",
    "    在你的 GAT 模型中，最后一层的输出是一个一维的张量，因此 logits 是一个形状为 (batch_size,) 的张量。这是因为 GAT 模型最后一层的输出被处理成了一个节点的预测，而不是整个图的预测。\n",
    "    在 GraphSAGE 模型中，最后一层的输出形状是 (num_nodes, out_dim)，也就是说，它返回了整个图的节点级别的预测。因此，logits 是一个二维的张量，形状为 (num_nodes, out_dim)。\n",
    "    当你尝试在一个一维张量上调用 logits.argmax(1) 时，会产生维度错误，因为它期望一个二维张量来执行操作。\n",
    "    所以，在 GraphSAGE 模型中，你应该将以下行：\n",
    "    '''\n",
    "    \n",
    "    \n",
    "    # Compute accuracy\n",
    "    accuracy = torch.mean((preds == labels).float())\n",
    "    \n",
    "    if which_type == 'validation' and count % 1000 == 0:\n",
    "        add_log_msg(f\"labels of Validation: {labels} {labels.shape}\")\n",
    "        add_log_msg(f\"predicted of Validation: {preds} {preds.shape}\")\n",
    "        \n",
    "    elif which_type == 'test'  and count % 1000 == 0:\n",
    "        add_log_msg(f\"labels of Test: {labels} {labels.shape}\")\n",
    "        add_log_msg(f\"predicted of Test: {preds} {preds.shape}\")\n",
    "        \n",
    "    if count % 5000 == 0: \n",
    "        add_log_msg(f\"labels of {count}: {labels} {labels.shape}\")\n",
    "        add_log_msg(f\"predicted of {count}: {preds} {preds.shape}\")\n",
    "        \n",
    "    return loss, accuracy, preds"
   ]
  },
  {
   "cell_type": "code",
   "execution_count": null,
   "metadata": {},
   "outputs": [],
   "source": []
  },
  {
   "cell_type": "markdown",
   "metadata": {},
   "source": [
    "### Training"
   ]
  },
  {
   "cell_type": "markdown",
   "metadata": {},
   "source": [
    "- Fix the seed and save the model.state_dict that contains the initial weight"
   ]
  },
  {
   "cell_type": "code",
   "execution_count": 10,
   "metadata": {},
   "outputs": [],
   "source": [
    "seed = 8787\n",
    "same_seeds(seed)\n",
    "\n",
    "model = GraphSAGE(in_dim=150, hidden_dim=16, out_dim=167)\n",
    "torch.save(model.state_dict(), 'model3_initial(graphsage)/initial_weight.pth')"
   ]
  },
  {
   "cell_type": "code",
   "execution_count": 11,
   "metadata": {},
   "outputs": [
    {
     "data": {
      "text/plain": [
       "Parameter containing:\n",
       "tensor([[ 0.0830, -0.1682, -0.0041,  ..., -0.0299, -0.0471,  0.2389],\n",
       "        [-0.1693, -0.1562, -0.1144,  ..., -0.0757,  0.2199,  0.2198],\n",
       "        [ 0.1249, -0.1492, -0.2611,  ..., -0.2249, -0.0689, -0.1858],\n",
       "        ...,\n",
       "        [-0.2456,  0.2318,  0.0255,  ..., -0.0146,  0.0506,  0.0634],\n",
       "        [ 0.0623, -0.2388,  0.0710,  ...,  0.1001, -0.1990, -0.0524],\n",
       "        [ 0.0107, -0.2428, -0.1743,  ..., -0.2333,  0.0951, -0.1517]],\n",
       "       requires_grad=True)"
      ]
     },
     "execution_count": 11,
     "metadata": {},
     "output_type": "execute_result"
    }
   ],
   "source": [
    "model.layer1.fc_self.weight"
   ]
  },
  {
   "cell_type": "markdown",
   "metadata": {},
   "source": [
    "- Check if model really load the model_dict"
   ]
  },
  {
   "cell_type": "code",
   "execution_count": 12,
   "metadata": {},
   "outputs": [
    {
     "data": {
      "text/plain": [
       "Parameter containing:\n",
       "tensor([[ 0.0830, -0.1682, -0.0041,  ..., -0.0299, -0.0471,  0.2389],\n",
       "        [-0.1693, -0.1562, -0.1144,  ..., -0.0757,  0.2199,  0.2198],\n",
       "        [ 0.1249, -0.1492, -0.2611,  ..., -0.2249, -0.0689, -0.1858],\n",
       "        ...,\n",
       "        [-0.2456,  0.2318,  0.0255,  ..., -0.0146,  0.0506,  0.0634],\n",
       "        [ 0.0623, -0.2388,  0.0710,  ...,  0.1001, -0.1990, -0.0524],\n",
       "        [ 0.0107, -0.2428, -0.1743,  ..., -0.2333,  0.0951, -0.1517]],\n",
       "       requires_grad=True)"
      ]
     },
     "execution_count": 12,
     "metadata": {},
     "output_type": "execute_result"
    }
   ],
   "source": [
    "model = GraphSAGE(in_dim=150, hidden_dim=16, out_dim=167)\n",
    "model.load_state_dict(torch.load('model3_initial(graphsage)/initial_weight.pth'))\n",
    "model.layer1.fc_self.weight"
   ]
  },
  {
   "cell_type": "code",
   "execution_count": null,
   "metadata": {
    "scrolled": true
   },
   "outputs": [
    {
     "data": {
      "application/vnd.jupyter.widget-view+json": {
       "model_id": "7152f33b8d724d0e8a2533b9420d4914",
       "version_major": 2,
       "version_minor": 0
      },
      "text/plain": [
       "  0%|          | 0/10 [00:00<?, ?it/s]"
      ]
     },
     "metadata": {},
     "output_type": "display_data"
    },
    {
     "data": {
      "application/vnd.jupyter.widget-view+json": {
       "model_id": "0c158106b8514332ac5daa2d998acf78",
       "version_major": 2,
       "version_minor": 0
      },
      "text/plain": [
       "Training:   0%|          | 0/8250 [00:00<?, ?it/s]"
      ]
     },
     "metadata": {},
     "output_type": "display_data"
    },
    {
     "name": "stdout",
     "output_type": "stream",
     "text": [
      "09/11/2023, 23:53:22# labels of 5000: tensor([ 56,  78, 115,  11, 101, 110, 127,  12, 131,  74,  64,   9, 114,  78,\n",
      "         34, 140], device='cuda:3') torch.Size([16])\n",
      "09/11/2023, 23:53:22# predicted of 5000: tensor([ 56,  67, 115,  58, 101, 149, 127, 141,  88, 119, 122,  90,  92,  67,\n",
      "         11, 140], device='cuda:3') torch.Size([16])\n",
      "09/11/2023, 23:54:40# total batches: 8250\n",
      "09/11/2023, 23:54:40# Epoch 0 | Train Loss: 3.1121 | Train Accuracy: 0.3839\n"
     ]
    },
    {
     "data": {
      "application/vnd.jupyter.widget-view+json": {
       "model_id": "7f1583d2699141e39f8e7e8c3361d2b0",
       "version_major": 2,
       "version_minor": 0
      },
      "text/plain": [
       "Validation:   0%|          | 0/1032 [00:00<?, ?it/s]"
      ]
     },
     "metadata": {},
     "output_type": "display_data"
    },
    {
     "name": "stdout",
     "output_type": "stream",
     "text": [
      "09/11/2023, 23:54:40# labels of Validation: tensor([163,   8,  21,  18,  52,  38, 138, 166,  97, 133, 105, 155, 107, 102,\n",
      "        122,  63], device='cuda:3') torch.Size([16])\n",
      "09/11/2023, 23:54:40# predicted of Validation: tensor([109, 100,  21, 119,  52,   4, 138, 166, 113, 133, 105, 155, 107, 102,\n",
      "        122,  63], device='cuda:3') torch.Size([16])\n",
      "09/11/2023, 23:54:40# labels of 0: tensor([163,   8,  21,  18,  52,  38, 138, 166,  97, 133, 105, 155, 107, 102,\n",
      "        122,  63], device='cuda:3') torch.Size([16])\n",
      "09/11/2023, 23:54:40# predicted of 0: tensor([109, 100,  21, 119,  52,   4, 138, 166, 113, 133, 105, 155, 107, 102,\n",
      "        122,  63], device='cuda:3') torch.Size([16])\n",
      "09/11/2023, 23:55:01# labels of Validation: tensor([101,  93,  55,  88,  58,  54, 126,   4,  58,   3,  10,  21, 117,  87,\n",
      "        125, 100], device='cuda:3') torch.Size([16])\n",
      "09/11/2023, 23:55:01# predicted of Validation: tensor([101,  88, 139,  59,  58, 119, 126, 162,  58,   3,  10,  21, 117,  87,\n",
      "          4, 100], device='cuda:3') torch.Size([16])\n",
      "09/11/2023, 23:55:01# Validation Loss: 2.0064 | Validation Accuracy: 0.5747\n",
      "\n",
      "09/11/2023, 23:55:01# Find a better model!!\n"
     ]
    },
    {
     "data": {
      "application/vnd.jupyter.widget-view+json": {
       "model_id": "882f91adadb04bd9b34c7b9223bed89e",
       "version_major": 2,
       "version_minor": 0
      },
      "text/plain": [
       "Training:   0%|          | 0/8250 [00:00<?, ?it/s]"
      ]
     },
     "metadata": {},
     "output_type": "display_data"
    },
    {
     "name": "stdout",
     "output_type": "stream",
     "text": [
      "09/11/2023, 23:57:03# labels of 5000: tensor([100,  94, 111,  93,   9,  16, 121, 158,  33, 123,  26, 153,  12,   2,\n",
      "        145,  12], device='cuda:3') torch.Size([16])\n",
      "09/11/2023, 23:57:03# predicted of 5000: tensor([100,  94, 112,  93, 112,  16,  47,  47, 116, 123,  26, 153,  57, 166,\n",
      "        145,  57], device='cuda:3') torch.Size([16])\n",
      "09/11/2023, 23:58:21# total batches: 8250\n",
      "09/11/2023, 23:58:21# Epoch 1 | Train Loss: 1.8120 | Train Accuracy: 0.5856\n"
     ]
    },
    {
     "data": {
      "application/vnd.jupyter.widget-view+json": {
       "model_id": "937250cf298b401ba536de380a4ced3b",
       "version_major": 2,
       "version_minor": 0
      },
      "text/plain": [
       "Validation:   0%|          | 0/1032 [00:00<?, ?it/s]"
      ]
     },
     "metadata": {},
     "output_type": "display_data"
    },
    {
     "name": "stdout",
     "output_type": "stream",
     "text": [
      "09/11/2023, 23:58:21# labels of Validation: tensor([130, 121,  61, 124,  30,  90,  28, 141,  89, 146,  93, 110, 143, 163,\n",
      "        124,  99], device='cuda:3') torch.Size([16])\n",
      "09/11/2023, 23:58:21# predicted of Validation: tensor([130, 116,  61, 164, 104,  90,  28, 141,  89, 146,  90,  64, 164, 104,\n",
      "        164,  99], device='cuda:3') torch.Size([16])\n",
      "09/11/2023, 23:58:21# labels of 0: tensor([130, 121,  61, 124,  30,  90,  28, 141,  89, 146,  93, 110, 143, 163,\n",
      "        124,  99], device='cuda:3') torch.Size([16])\n",
      "09/11/2023, 23:58:21# predicted of 0: tensor([130, 116,  61, 164, 104,  90,  28, 141,  89, 146,  90,  64, 164, 104,\n",
      "        164,  99], device='cuda:3') torch.Size([16])\n",
      "09/11/2023, 23:58:41# labels of Validation: tensor([ 74,  25,  59, 140,  42,  43, 137, 157, 156,  32, 150,  52, 128, 119,\n",
      "         34,  91], device='cuda:3') torch.Size([16])\n",
      "09/11/2023, 23:58:41# predicted of Validation: tensor([164,  25, 108, 140,  98,  43, 137, 104, 156,  32, 104,  52, 128, 116,\n",
      "         14,  90], device='cuda:3') torch.Size([16])\n",
      "09/11/2023, 23:58:42# Validation Loss: 1.7068 | Validation Accuracy: 0.5922\n",
      "\n",
      "09/11/2023, 23:58:42# Find a better model!!\n"
     ]
    },
    {
     "data": {
      "application/vnd.jupyter.widget-view+json": {
       "model_id": "65474c821bbb4b19a1a059a40e365fe1",
       "version_major": 2,
       "version_minor": 0
      },
      "text/plain": [
       "Training:   0%|          | 0/8250 [00:00<?, ?it/s]"
      ]
     },
     "metadata": {},
     "output_type": "display_data"
    },
    {
     "name": "stdout",
     "output_type": "stream",
     "text": [
      "09/12/2023, 00:00:45# labels of 5000: tensor([ 72,  94, 157, 132,  10,  35,  40,  64,  98, 150,  70,  90,  69, 136,\n",
      "          0,  44], device='cuda:3') torch.Size([16])\n",
      "09/12/2023, 00:00:45# predicted of 5000: tensor([ 72,  94,  58, 132,  10,  35,  40,  90,  98, 119,  70, 103,  69, 136,\n",
      "          0, 158], device='cuda:3') torch.Size([16])\n",
      "09/12/2023, 00:02:06# total batches: 8250\n",
      "09/12/2023, 00:02:06# Epoch 2 | Train Loss: 1.6583 | Train Accuracy: 0.5955\n"
     ]
    },
    {
     "data": {
      "application/vnd.jupyter.widget-view+json": {
       "model_id": "67a9fdbb891341d0b878f4ae8206991d",
       "version_major": 2,
       "version_minor": 0
      },
      "text/plain": [
       "Validation:   0%|          | 0/1032 [00:00<?, ?it/s]"
      ]
     },
     "metadata": {},
     "output_type": "display_data"
    },
    {
     "name": "stdout",
     "output_type": "stream",
     "text": [
      "09/12/2023, 00:02:06# labels of Validation: tensor([ 36,  61, 161,  29, 144,  17, 155,  59,   6,   2, 163,  51,  94, 141,\n",
      "        105, 135], device='cuda:3') torch.Size([16])\n",
      "09/12/2023, 00:02:06# predicted of Validation: tensor([111,  61, 161,  29,  11,  17, 155, 108,   6,  31,  53,  51,  94, 141,\n",
      "        105, 135], device='cuda:3') torch.Size([16])\n",
      "09/12/2023, 00:02:06# labels of 0: tensor([ 36,  61, 161,  29, 144,  17, 155,  59,   6,   2, 163,  51,  94, 141,\n",
      "        105, 135], device='cuda:3') torch.Size([16])\n",
      "09/12/2023, 00:02:06# predicted of 0: tensor([111,  61, 161,  29,  11,  17, 155, 108,   6,  31,  53,  51,  94, 141,\n",
      "        105, 135], device='cuda:3') torch.Size([16])\n",
      "09/12/2023, 00:02:26# labels of Validation: tensor([ 33, 114,  33, 120,  10, 149,  64,  88, 142,   4, 144,  85,  48,   5,\n",
      "        157, 106], device='cuda:3') torch.Size([16])\n",
      "09/12/2023, 00:02:26# predicted of Validation: tensor([ 31,  88,  24, 120,  10, 149, 103, 103,  53,  11,  97,  85, 111,   5,\n",
      "         47, 106], device='cuda:3') torch.Size([16])\n",
      "09/12/2023, 00:02:27# Validation Loss: 1.6318 | Validation Accuracy: 0.5958\n",
      "\n",
      "09/12/2023, 00:02:27# Find a better model!!\n"
     ]
    },
    {
     "data": {
      "application/vnd.jupyter.widget-view+json": {
       "model_id": "f586644b00af4ba794ec189f42827e3d",
       "version_major": 2,
       "version_minor": 0
      },
      "text/plain": [
       "Training:   0%|          | 0/8250 [00:00<?, ?it/s]"
      ]
     },
     "metadata": {},
     "output_type": "display_data"
    },
    {
     "name": "stdout",
     "output_type": "stream",
     "text": [
      "09/12/2023, 00:04:28# labels of 5000: tensor([113, 135,  52,  58,  16,  18,  39,   8,  95,  62,  19,  66,  44, 166,\n",
      "        166,  10], device='cuda:3') torch.Size([16])\n",
      "09/12/2023, 00:04:28# predicted of 5000: tensor([103, 135,  52,  58,  16, 100,  39, 103,  95,  62,  19,  66,  49, 166,\n",
      "        166,  10], device='cuda:3') torch.Size([16])\n",
      "09/12/2023, 00:05:46# total batches: 8250\n",
      "09/12/2023, 00:05:46# Epoch 3 | Train Loss: 1.6052 | Train Accuracy: 0.5991\n"
     ]
    },
    {
     "data": {
      "application/vnd.jupyter.widget-view+json": {
       "model_id": "9ad2c840ce2f4eb99dd0270e9a6ccb89",
       "version_major": 2,
       "version_minor": 0
      },
      "text/plain": [
       "Validation:   0%|          | 0/1032 [00:00<?, ?it/s]"
      ]
     },
     "metadata": {},
     "output_type": "display_data"
    },
    {
     "name": "stdout",
     "output_type": "stream",
     "text": [
      "09/12/2023, 00:05:46# labels of Validation: tensor([ 20, 118, 161, 142, 161, 130, 107,  45, 129,  15, 109, 166, 145,  83,\n",
      "         56,  32], device='cuda:3') torch.Size([16])\n",
      "09/12/2023, 00:05:46# predicted of Validation: tensor([ 20, 118, 161,  12, 161, 130, 107,  45, 129,  15, 150, 166, 145, 124,\n",
      "         56,  32], device='cuda:3') torch.Size([16])\n",
      "09/12/2023, 00:05:46# labels of 0: tensor([ 20, 118, 161, 142, 161, 130, 107,  45, 129,  15, 109, 166, 145,  83,\n",
      "         56,  32], device='cuda:3') torch.Size([16])\n",
      "09/12/2023, 00:05:46# predicted of 0: tensor([ 20, 118, 161,  12, 161, 130, 107,  45, 129,  15, 150, 166, 145, 124,\n",
      "         56,  32], device='cuda:3') torch.Size([16])\n",
      "09/12/2023, 00:06:05# labels of Validation: tensor([111, 121,  79,   2, 133,  41,  79,  55,  83, 102,  86, 160,  60,  57,\n",
      "          1, 102], device='cuda:3') torch.Size([16])\n",
      "09/12/2023, 00:06:05# predicted of Validation: tensor([ 76,  12,  79, 121, 133,  41,  79, 121,   1, 102,  86, 160,   1, 150,\n",
      "          1, 102], device='cuda:3') torch.Size([16])\n",
      "09/12/2023, 00:06:06# Validation Loss: 1.6004 | Validation Accuracy: 0.5980\n",
      "\n",
      "09/12/2023, 00:06:06# Find a better model!!\n"
     ]
    },
    {
     "data": {
      "application/vnd.jupyter.widget-view+json": {
       "model_id": "95c84cf7ee404d0ea4a211314b98128f",
       "version_major": 2,
       "version_minor": 0
      },
      "text/plain": [
       "Training:   0%|          | 0/8250 [00:00<?, ?it/s]"
      ]
     },
     "metadata": {},
     "output_type": "display_data"
    },
    {
     "name": "stdout",
     "output_type": "stream",
     "text": [
      "09/12/2023, 00:08:05# labels of 5000: tensor([ 94, 112, 117,  17,  79, 104,  12, 133, 117, 101,  19,  45, 166, 110,\n",
      "         92, 144], device='cuda:3') torch.Size([16])\n",
      "09/12/2023, 00:08:05# predicted of 5000: tensor([ 94,  92, 117,  17,  79,  92,  92, 133, 117, 101,  19,  45, 166,  88,\n",
      "        142,  92], device='cuda:3') torch.Size([16])\n",
      "09/12/2023, 00:09:25# total batches: 8250\n",
      "09/12/2023, 00:09:25# Epoch 4 | Train Loss: 1.5784 | Train Accuracy: 0.6019\n"
     ]
    },
    {
     "data": {
      "application/vnd.jupyter.widget-view+json": {
       "model_id": "af78d4c2e167471d8b6b0396e5d90a75",
       "version_major": 2,
       "version_minor": 0
      },
      "text/plain": [
       "Validation:   0%|          | 0/1032 [00:00<?, ?it/s]"
      ]
     },
     "metadata": {},
     "output_type": "display_data"
    },
    {
     "name": "stdout",
     "output_type": "stream",
     "text": [
      "09/12/2023, 00:09:25# labels of Validation: tensor([162,  66, 152,   8, 104, 111, 157,  55, 135,  69,  26,   8,  71,  57,\n",
      "         74,  43], device='cuda:3') torch.Size([16])\n",
      "09/12/2023, 00:09:25# predicted of Validation: tensor([ 12,  66,  58, 113,  12,  12,  12,  12, 135,  69,  26, 114,  71,  12,\n",
      "         12,  43], device='cuda:3') torch.Size([16])\n",
      "09/12/2023, 00:09:25# labels of 0: tensor([162,  66, 152,   8, 104, 111, 157,  55, 135,  69,  26,   8,  71,  57,\n",
      "         74,  43], device='cuda:3') torch.Size([16])\n",
      "09/12/2023, 00:09:25# predicted of 0: tensor([ 12,  66,  58, 113,  12,  12,  12,  12, 135,  69,  26, 114,  71,  12,\n",
      "         12,  43], device='cuda:3') torch.Size([16])\n",
      "09/12/2023, 00:09:45# labels of Validation: tensor([ 85, 134, 165,  20,  35,  63, 102, 137, 138,  16, 149, 144,  74,  51,\n",
      "         49, 159], device='cuda:3') torch.Size([16])\n",
      "09/12/2023, 00:09:45# predicted of Validation: tensor([ 85, 134, 165,  20,  35,  63, 102, 137, 138,  16, 149,  12,  12,  51,\n",
      "         12, 159], device='cuda:3') torch.Size([16])\n",
      "09/12/2023, 00:09:46# Validation Loss: 1.5829 | Validation Accuracy: 0.6004\n",
      "\n",
      "09/12/2023, 00:09:46# Find a better model!!\n"
     ]
    },
    {
     "data": {
      "application/vnd.jupyter.widget-view+json": {
       "model_id": "a6eda5414c1c4c77aede398c08bb88d4",
       "version_major": 2,
       "version_minor": 0
      },
      "text/plain": [
       "Training:   0%|          | 0/8250 [00:00<?, ?it/s]"
      ]
     },
     "metadata": {},
     "output_type": "display_data"
    },
    {
     "name": "stdout",
     "output_type": "stream",
     "text": [
      "09/12/2023, 00:11:55# labels of 5000: tensor([ 86, 146,  12,   5,  24, 146,  71,  93, 154,  28,  68,   2, 119,  76,\n",
      "         81, 130], device='cuda:3') torch.Size([16])\n",
      "09/12/2023, 00:11:55# predicted of 5000: tensor([ 86, 146,  48,   5,  55, 146,  71, 103, 154,  28, 103, 158, 150,  36,\n",
      "         12, 130], device='cuda:3') torch.Size([16])\n",
      "09/12/2023, 00:13:17# total batches: 8250\n",
      "09/12/2023, 00:13:17# Epoch 5 | Train Loss: 1.5605 | Train Accuracy: 0.6030\n"
     ]
    },
    {
     "data": {
      "application/vnd.jupyter.widget-view+json": {
       "model_id": "83a0a2da64304bfc9414658a993f9114",
       "version_major": 2,
       "version_minor": 0
      },
      "text/plain": [
       "Validation:   0%|          | 0/1032 [00:00<?, ?it/s]"
      ]
     },
     "metadata": {},
     "output_type": "display_data"
    },
    {
     "name": "stdout",
     "output_type": "stream",
     "text": [
      "09/12/2023, 00:13:17# labels of Validation: tensor([ 68, 158, 125, 161,  55,  44, 138, 134,  76,  56,  70,  49, 148,  16,\n",
      "         26, 113], device='cuda:3') torch.Size([16])\n",
      "09/12/2023, 00:13:17# predicted of Validation: tensor([ 91,  47, 109, 161,  76,  60, 138, 134,  74,  56,  70,   9, 148,  16,\n",
      "         26,  88], device='cuda:3') torch.Size([16])\n",
      "09/12/2023, 00:13:17# labels of 0: tensor([ 68, 158, 125, 161,  55,  44, 138, 134,  76,  56,  70,  49, 148,  16,\n",
      "         26, 113], device='cuda:3') torch.Size([16])\n",
      "09/12/2023, 00:13:17# predicted of 0: tensor([ 91,  47, 109, 161,  76,  60, 138, 134,  74,  56,  70,   9, 148,  16,\n",
      "         26,  88], device='cuda:3') torch.Size([16])\n",
      "09/12/2023, 00:13:37# labels of Validation: tensor([ 78, 137, 112,  74,  98, 150, 161, 165,  38, 129, 101,  20,  84,  62,\n",
      "         68,  37], device='cuda:3') torch.Size([16])\n",
      "09/12/2023, 00:13:37# predicted of Validation: tensor([ 67, 137,  74,  12,  98,  92, 161, 165,  31, 129, 101,  20,  84,  62,\n",
      "        103,  37], device='cuda:3') torch.Size([16])\n",
      "09/12/2023, 00:13:37# Validation Loss: 1.5596 | Validation Accuracy: 0.6015\n",
      "\n",
      "09/12/2023, 00:13:37# Find a better model!!\n"
     ]
    },
    {
     "data": {
      "application/vnd.jupyter.widget-view+json": {
       "model_id": "4068578671224016bffc88784d4c0101",
       "version_major": 2,
       "version_minor": 0
      },
      "text/plain": [
       "Training:   0%|          | 0/8250 [00:00<?, ?it/s]"
      ]
     },
     "metadata": {},
     "output_type": "display_data"
    },
    {
     "name": "stdout",
     "output_type": "stream",
     "text": [
      "09/12/2023, 00:15:43# labels of 5000: tensor([123,  55,  11,  73,  10,  72,  93,  41,  31, 103,   7, 123,  68,  73,\n",
      "         26,   5], device='cuda:3') torch.Size([16])\n",
      "09/12/2023, 00:15:43# predicted of 5000: tensor([123, 125,  42,  73,  10,  79,  68,  41,  44, 103,   7, 123,  68,  73,\n",
      "         26,   5], device='cuda:3') torch.Size([16])\n",
      "09/12/2023, 00:17:06# total batches: 8250\n",
      "09/12/2023, 00:17:06# Epoch 6 | Train Loss: 1.5489 | Train Accuracy: 0.6040\n"
     ]
    },
    {
     "data": {
      "application/vnd.jupyter.widget-view+json": {
       "model_id": "fd97485658fd4dcf89ecf78108abbe5a",
       "version_major": 2,
       "version_minor": 0
      },
      "text/plain": [
       "Validation:   0%|          | 0/1032 [00:00<?, ?it/s]"
      ]
     },
     "metadata": {},
     "output_type": "display_data"
    },
    {
     "name": "stdout",
     "output_type": "stream",
     "text": [
      "09/12/2023, 00:17:06# labels of Validation: tensor([ 40, 114,  32,  89, 141,  94,   7, 138,  16,  35,  87, 165,  20,  46,\n",
      "        109,   6], device='cuda:3') torch.Size([16])\n",
      "09/12/2023, 00:17:06# predicted of Validation: tensor([ 40,   8,  32,  89, 141,  94,   7, 138,  16,  35,  76, 165,  20,  46,\n",
      "         92,   6], device='cuda:3') torch.Size([16])\n",
      "09/12/2023, 00:17:06# labels of 0: tensor([ 40, 114,  32,  89, 141,  94,   7, 138,  16,  35,  87, 165,  20,  46,\n",
      "        109,   6], device='cuda:3') torch.Size([16])\n",
      "09/12/2023, 00:17:06# predicted of 0: tensor([ 40,   8,  32,  89, 141,  94,   7, 138,  16,  35,  76, 165,  20,  46,\n",
      "         92,   6], device='cuda:3') torch.Size([16])\n",
      "09/12/2023, 00:17:26# labels of Validation: tensor([ 16, 157,  81, 147, 152,  35,  11,  70,   7, 162,  43,  38, 115,  40,\n",
      "          4,  49], device='cuda:3') torch.Size([16])\n",
      "09/12/2023, 00:17:26# predicted of Validation: tensor([ 16,  34,   9, 147,  38,  35,  34,  70,   7,   9,  43,   1, 115,  40,\n",
      "         54,  48], device='cuda:3') torch.Size([16])\n",
      "09/12/2023, 00:17:27# Validation Loss: 1.5583 | Validation Accuracy: 0.6034\n",
      "\n",
      "09/12/2023, 00:17:27# Find a better model!!\n"
     ]
    },
    {
     "data": {
      "application/vnd.jupyter.widget-view+json": {
       "model_id": "b5213f3043014215972bb9dece0aadf8",
       "version_major": 2,
       "version_minor": 0
      },
      "text/plain": [
       "Training:   0%|          | 0/8250 [00:00<?, ?it/s]"
      ]
     },
     "metadata": {},
     "output_type": "display_data"
    },
    {
     "name": "stdout",
     "output_type": "stream",
     "text": [
      "09/12/2023, 00:19:31# labels of 5000: tensor([ 21,  68,  32,  26,  93,  30,  11,  77,  25,  17,  87,  34, 138,  24,\n",
      "         44, 145], device='cuda:3') torch.Size([16])\n",
      "09/12/2023, 00:19:31# predicted of 5000: tensor([ 21, 114,  32,  26, 110,  92,  92,  77,  25,  17,  92, 104, 138, 104,\n",
      "        116, 145], device='cuda:3') torch.Size([16])\n",
      "09/12/2023, 00:20:50# total batches: 8250\n",
      "09/12/2023, 00:20:50# Epoch 7 | Train Loss: 1.5410 | Train Accuracy: 0.6055\n"
     ]
    },
    {
     "data": {
      "application/vnd.jupyter.widget-view+json": {
       "model_id": "9af3e0fcccbf40548d76025d8ef69d7b",
       "version_major": 2,
       "version_minor": 0
      },
      "text/plain": [
       "Validation:   0%|          | 0/1032 [00:00<?, ?it/s]"
      ]
     },
     "metadata": {},
     "output_type": "display_data"
    },
    {
     "name": "stdout",
     "output_type": "stream",
     "text": [
      "09/12/2023, 00:20:50# labels of Validation: tensor([ 57, 110, 112, 147,  97, 121, 151,  83, 117,  24,  16,  10, 147,  18,\n",
      "         54,  24], device='cuda:3') torch.Size([16])\n",
      "09/12/2023, 00:20:50# predicted of Validation: tensor([ 34,  90,  30, 147,  92,  92,  30,  31, 117,  83,  16,  10, 147,  31,\n",
      "         83,  31], device='cuda:3') torch.Size([16])\n",
      "09/12/2023, 00:20:50# labels of 0: tensor([ 57, 110, 112, 147,  97, 121, 151,  83, 117,  24,  16,  10, 147,  18,\n",
      "         54,  24], device='cuda:3') torch.Size([16])\n",
      "09/12/2023, 00:20:50# predicted of 0: tensor([ 34,  90,  30, 147,  92,  92,  30,  31, 117,  83,  16,  10, 147,  31,\n",
      "         83,  31], device='cuda:3') torch.Size([16])\n",
      "09/12/2023, 00:21:10# labels of Validation: tensor([ 81,  31,  49,  46,  51,  35, 147,  60, 128,  61, 165,  40,   3,  84,\n",
      "         18,  64], device='cuda:3') torch.Size([16])\n",
      "09/12/2023, 00:21:10# predicted of Validation: tensor([150,  53,  34,  46,  51,  35, 147,  31, 128,  61, 165,  40,   3,  84,\n",
      "         34,  59], device='cuda:3') torch.Size([16])\n",
      "09/12/2023, 00:21:10# Validation Loss: 1.5469 | Validation Accuracy: 0.6024\n",
      "\n",
      "09/12/2023, 00:21:10# Find a better model!!\n"
     ]
    },
    {
     "data": {
      "application/vnd.jupyter.widget-view+json": {
       "model_id": "d976fdd33177485d941ae414ff546f4f",
       "version_major": 2,
       "version_minor": 0
      },
      "text/plain": [
       "Training:   0%|          | 0/8250 [00:00<?, ?it/s]"
      ]
     },
     "metadata": {},
     "output_type": "display_data"
    },
    {
     "name": "stdout",
     "output_type": "stream",
     "text": [
      "09/12/2023, 00:23:11# labels of 5000: tensor([ 31, 117, 104,  40,  44, 162, 134, 107, 125,  67,  28,  49,  68,  86,\n",
      "        112,  46], device='cuda:3') torch.Size([16])\n",
      "09/12/2023, 00:23:11# predicted of 5000: tensor([ 34, 117, 157,  40,   1, 164, 134, 107,  76,  67,  28,  11, 103,  86,\n",
      "         31,  46], device='cuda:3') torch.Size([16])\n",
      "09/12/2023, 00:24:29# total batches: 8250\n",
      "09/12/2023, 00:24:29# Epoch 8 | Train Loss: 1.5346 | Train Accuracy: 0.6060\n"
     ]
    },
    {
     "data": {
      "application/vnd.jupyter.widget-view+json": {
       "model_id": "80c43eabc247459c8929a2c5a854eb77",
       "version_major": 2,
       "version_minor": 0
      },
      "text/plain": [
       "Validation:   0%|          | 0/1032 [00:00<?, ?it/s]"
      ]
     },
     "metadata": {},
     "output_type": "display_data"
    },
    {
     "name": "stdout",
     "output_type": "stream",
     "text": [
      "09/12/2023, 00:24:29# labels of Validation: tensor([ 55, 149,  80,  88, 150,  84,  51, 113, 150,  17, 130, 160,   4, 126,\n",
      "         92,  68], device='cuda:3') torch.Size([16])\n",
      "09/12/2023, 00:24:29# predicted of Validation: tensor([  9, 149,  80,  93, 143,  84,  51, 110,  34,  17, 130, 160, 143, 126,\n",
      "        104, 110], device='cuda:3') torch.Size([16])\n",
      "09/12/2023, 00:24:29# labels of 0: tensor([ 55, 149,  80,  88, 150,  84,  51, 113, 150,  17, 130, 160,   4, 126,\n",
      "         92,  68], device='cuda:3') torch.Size([16])\n",
      "09/12/2023, 00:24:29# predicted of 0: tensor([  9, 149,  80,  93, 143,  84,  51, 110,  34,  17, 130, 160, 143, 126,\n",
      "        104, 110], device='cuda:3') torch.Size([16])\n",
      "09/12/2023, 00:24:49# labels of Validation: tensor([ 53,  63, 128,  33,  28,   3, 121,  37, 131, 144,  29,  18, 125, 164,\n",
      "         71, 103], device='cuda:3') torch.Size([16])\n",
      "09/12/2023, 00:24:49# predicted of Validation: tensor([152,  63, 128, 104,  28,   3, 104,  37, 131, 104,  29, 104, 143, 142,\n",
      "         71,  91], device='cuda:3') torch.Size([16])\n",
      "09/12/2023, 00:24:50# Validation Loss: 1.5440 | Validation Accuracy: 0.6036\n",
      "\n",
      "09/12/2023, 00:24:50# Find a better model!!\n"
     ]
    },
    {
     "data": {
      "application/vnd.jupyter.widget-view+json": {
       "model_id": "bf556bb07f354eae91b15ff1458a9452",
       "version_major": 2,
       "version_minor": 0
      },
      "text/plain": [
       "Training:   0%|          | 0/8250 [00:00<?, ?it/s]"
      ]
     },
     "metadata": {},
     "output_type": "display_data"
    },
    {
     "name": "stdout",
     "output_type": "stream",
     "text": [
      "09/12/2023, 00:26:50# labels of 5000: tensor([161,  26, 123,  57,  80, 117,  33, 138,  61,  79, 135,  96, 142,  28,\n",
      "         12, 119], device='cuda:3') torch.Size([16])\n",
      "09/12/2023, 00:26:50# predicted of 5000: tensor([161,  26, 123, 143,  80, 117,  14, 138,  61,  79, 135,  96, 143,  28,\n",
      "          9,  14], device='cuda:3') torch.Size([16])\n"
     ]
    }
   ],
   "source": [
    "import csv\n",
    "import pandas as pd\n",
    "from sklearn.metrics import classification_report\n",
    "from torch.optim import AdamW, lr_scheduler\n",
    "\n",
    "seed = 8787\n",
    "same_seeds(seed)\n",
    "\n",
    "model = GraphSAGE(in_dim=150, hidden_dim=16, out_dim=167)\n",
    "# in_dim means the dimension of the node_feat(50 dim, since the 50-dim embedding)\n",
    "# out_dim means the # of the categories -> 168 for out tasks\n",
    "model.load_state_dict(torch.load('model3_initial(graphsage)/initial_weight.pth'))\n",
    "best_model_path = \"../checkpoint_graphSAGE/best_model_GraphSAGE_secureBERT_150.pt\"\n",
    "\n",
    "model = model.to(device)\n",
    "\n",
    "# optimizer = torch.optim.AdamW(model.parameters(), lr=1e-5)\n",
    "optimizer = AdamW(model.parameters(), lr=5e-4)\n",
    "# scheduler = get_linear_schedule_with_warmup(optimizer, num_warmup_steps=18, num_training_steps=total_steps)\n",
    "\n",
    "# T_max control the period of the lr changing -> set 1/10 first\n",
    "scheduler = lr_scheduler.CosineAnnealingLR(optimizer, T_max=36, eta_min=0, last_epoch=- 1, verbose=False)\n",
    "\n",
    "\n",
    "criterion = nn.CrossEntropyLoss()\n",
    "# criterion = torch.nn.BCEWithLogitsLoss()\n",
    "\n",
    "total_steps = 10\n",
    "\n",
    "# save the best model\n",
    "best_val_loss = float('inf')\n",
    "patience = 10  # Number of epochs with no improvement after which training will be stopped.\n",
    "waiting = 0  # The number of epochs with no improvement so far.\n",
    "\n",
    "\n",
    "# Training Part\n",
    "for epoch in tqdm(range(total_steps)):\n",
    "    # Train\n",
    "    model.train()\n",
    "    total_loss = 0.0\n",
    "    total_accuracy = 0.0\n",
    "    num_batches = 0\n",
    "    \n",
    "    for data in tqdm(dataloaders['train'], desc=\"Training\", position=0, leave=True):\n",
    "        num_batches += 1\n",
    "        loss, accuracy, _ = model_fn(data, model, criterion, device, num_batches, which_type='train')\n",
    "        \n",
    "        optimizer.zero_grad()\n",
    "        loss.backward()\n",
    "        optimizer.step()\n",
    "\n",
    "        total_loss += loss.item()\n",
    "        total_accuracy += accuracy.item()\n",
    "\n",
    "        \n",
    "#     scheduler.step()\n",
    "    add_log_msg(f\"total batches: {num_batches}\")\n",
    "\n",
    "    avg_loss = total_loss / num_batches\n",
    "    avg_accuracy = total_accuracy / num_batches\n",
    "\n",
    "    add_log_msg(f'Epoch {epoch} | Train Loss: {avg_loss:.4f} | Train Accuracy: {avg_accuracy:.4f}')\n",
    "\n",
    "    \n",
    "    # Validation Part\n",
    "    model.eval()\n",
    "    total_accuracy = 0.0\n",
    "    total_loss = 0.0\n",
    "    num_batches = 0\n",
    "\n",
    "\n",
    "    with torch.no_grad():\n",
    "        for data in tqdm(dataloaders['valid'], desc=\"Validation\", position=0, leave=True):\n",
    "            loss, accuracy, _ = model_fn(data, model, criterion, device, num_batches, which_type='validation')\n",
    "            total_accuracy += accuracy.item()\n",
    "            total_loss += loss.item()\n",
    "            num_batches += 1\n",
    "\n",
    "    avg_accuracy = total_accuracy / num_batches\n",
    "    current_loss = total_loss / num_batches\n",
    "    \n",
    "    add_log_msg(f'Validation Loss: {current_loss:.4f} | Validation Accuracy: {avg_accuracy:.4f}\\n')\n",
    "    \n",
    "            \n",
    "    if current_loss < best_val_loss:\n",
    "        best_val_loss = current_loss\n",
    "        waiting = 0\n",
    "        \n",
    "        if os.path.exists(best_model_path):\n",
    "            os.remove(best_model_path)\n",
    "            add_log_msg(\"Find a better model!!\")\n",
    "\n",
    "        torch.save(model.state_dict(), best_model_path)\n",
    "\n",
    "#         print(best_model_path)\n",
    "\n",
    "    else:\n",
    "        waiting += 1\n",
    "        if waiting >= patience:\n",
    "            add_log_msg(\"============================== Early stopping ==================================\")\n",
    "            break"
   ]
  },
  {
   "cell_type": "markdown",
   "metadata": {},
   "source": [
    "### test of valid and test part is ``graph``"
   ]
  },
  {
   "cell_type": "markdown",
   "metadata": {},
   "source": [
    "- 60 APs in training x 10000times\n",
    "- 5 APs in validation x 4 times\n",
    "- 3 APs in test x 4 times\n",
    "- Batch size = 4"
   ]
  },
  {
   "cell_type": "code",
   "execution_count": null,
   "metadata": {},
   "outputs": [],
   "source": [
    "# load the pretrained model\n",
    "pretrained_model_path = '../checkpoint_graphSAGE/best_model_GraphSAGE_secureBERT_150.pt'\n",
    "model.load_state_dict(torch.load(pretrained_model_path))\n",
    "\n",
    "model.to(device)\n",
    "model.eval()\n",
    "\n",
    "total = 0\n",
    "correct = 0\n",
    "count = 0\n",
    "\n",
    "true_labels = []\n",
    "predicted_labels = []\n",
    "\n",
    "with torch.no_grad():\n",
    "    for data in tqdm(dataloaders['test'], desc=\"Testing\", position=0, leave=True):\n",
    "#         print(f\"data:{data[1]}\")\n",
    "        loss, accuracy, predicted = model_fn(data, model, criterion, device, count, which_type='test')\n",
    "        labels = data[1].to(device)\n",
    "        \n",
    "        true_labels.extend(labels.cpu().numpy())\n",
    "        predicted_labels.extend(predicted.cpu().numpy())\n",
    "        \n",
    "        if count % 5000 == 0:\n",
    "            add_log_msg(f\"labels: {labels} {labels.shape}\")\n",
    "            add_log_msg(f\"predicted: {predicted} {predicted.shape}\")\n",
    "            \n",
    "        count += 1\n",
    "        \n",
    "        total += labels.size(0)\n",
    "        correct += (predicted == labels).sum().item()\n",
    "\n",
    "add_log_msg(f'Test Accuracy: {100 * correct / total} %\\n\\n\\n')\n",
    "\n",
    "\n",
    "# ======================================== handlig the output excel files ========================================\n",
    "mapping_file = './new_mapping.txt'\n",
    "label_mapping = {}\n",
    "with open(mapping_file, 'r') as f:\n",
    "    for line in f:\n",
    "        parts = line.strip().split(': ')\n",
    "        label_mapping[int(parts[1])] = parts[0]\n",
    "        \n",
    "# 将映射后的标签应用到true和predicted标签列表\n",
    "mapped_true_labels = [label_mapping[label] for label in true_labels]\n",
    "mapped_predicted_labels = [label_mapping[label] for label in predicted_labels]\n",
    "\n",
    "# 生成Scikit-learn报告信息的DataFrame\n",
    "report_data = classification_report(mapped_true_labels, mapped_predicted_labels, output_dict=True)\n",
    "report_df = pd.DataFrame(report_data).transpose()\n",
    "\n",
    "# mapped_true_labels_np = np.array(mapped_true_labels)\n",
    "# mapped_predicted_labels_np = np.array(mapped_predicted_labels)\n",
    "\n",
    "# print(\"mapped_true_labels 的形状:\", mapped_true_labels_np.shape)\n",
    "# print(\"mapped_predicted_labels 的形状:\", mapped_predicted_labels_np.shape)\n",
    "\n",
    "report_folder = 'classification_report'\n",
    "os.makedirs(report_folder, exist_ok=True)\n",
    "\n",
    "count = 0\n",
    "while True:\n",
    "    report_filename = f'classification_report-secureBERT_150-graphSAGE-{count}.xlsx'\n",
    "    labels_filename = f'mapped_true_predicted_labels-secureBERT_150-graphSAGE-{count}.xlsx'\n",
    "    \n",
    "    report_path = os.path.join(report_folder, report_filename)\n",
    "    labels_path = os.path.join(report_folder, labels_filename)\n",
    "    \n",
    "    if not os.path.exists(report_path) and not os.path.exists(labels_path):\n",
    "        break\n",
    "    count += 1\n",
    "\n",
    "    \n",
    "report_df.to_excel(report_path, index_label='Label')\n",
    "\n",
    "mapped_labels_df = pd.DataFrame({'true_label': mapped_true_labels, 'predicted_label': mapped_predicted_labels})\n",
    "mapped_labels_df.to_excel(labels_path, index=False)\n",
    "\n",
    "add_log_msg(f\"report path: {report_path}\")\n",
    "add_log_msg(f\"label path: {labels_path}\")\n",
    "\n",
    "mapped_report = classification_report(mapped_true_labels, mapped_predicted_labels)\n",
    "add_log_msg(f\"mapped_report:\\n{mapped_report}\")"
   ]
  },
  {
   "cell_type": "code",
   "execution_count": null,
   "metadata": {},
   "outputs": [],
   "source": []
  },
  {
   "cell_type": "code",
   "execution_count": null,
   "metadata": {},
   "outputs": [],
   "source": []
  },
  {
   "cell_type": "code",
   "execution_count": null,
   "metadata": {},
   "outputs": [],
   "source": []
  }
 ],
 "metadata": {
  "kernelspec": {
   "display_name": "Python 3",
   "language": "python",
   "name": "python3"
  },
  "language_info": {
   "codemirror_mode": {
    "name": "ipython",
    "version": 3
   },
   "file_extension": ".py",
   "mimetype": "text/x-python",
   "name": "python",
   "nbconvert_exporter": "python",
   "pygments_lexer": "ipython3",
   "version": "3.6.9"
  }
 },
 "nbformat": 4,
 "nbformat_minor": 2
}
