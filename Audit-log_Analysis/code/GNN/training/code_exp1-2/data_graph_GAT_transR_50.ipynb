{
 "cells": [
  {
   "cell_type": "markdown",
   "metadata": {},
   "source": [
    "# Test of GAT\n",
    "- use DGL\n",
    "- predict `graphs`\n",
    "- test: 0~99\n",
    "- validation: 100~199\n",
    "- train: 200~999\n",
    "- larger lr with scheduler\n",
    "- try the sklearn report"
   ]
  },
  {
   "cell_type": "code",
   "execution_count": 1,
   "metadata": {},
   "outputs": [],
   "source": [
    "import os\n",
    "import dgl\n",
    "import json\n",
    "import torch\n",
    "import torch as th\n",
    "# from tqdm import tqdm\n",
    "from tqdm.notebook import tqdm  # 使用 notebook 版本的 tqdm\n",
    "import torch.nn as nn\n",
    "from dgl.nn import GraphConv, GATConv\n",
    "import torch.nn.functional as F\n",
    "from torch.utils.data import Dataset, DataLoader\n",
    "from transformers import get_linear_schedule_with_warmup\n",
    "from torch.optim import AdamW\n",
    "from sklearn.metrics import classification_report\n"
   ]
  },
  {
   "cell_type": "markdown",
   "metadata": {},
   "source": [
    "- check the GPU and assign the GPU by the best memory usage"
   ]
  },
  {
   "cell_type": "code",
   "execution_count": 2,
   "metadata": {},
   "outputs": [
    {
     "name": "stdout",
     "output_type": "stream",
     "text": [
      "cuda:2\n"
     ]
    }
   ],
   "source": [
    "import subprocess\n",
    "import torch\n",
    "\n",
    "def get_free_gpu():\n",
    "    try:\n",
    "        # Run nvidia-smi command to get GPU details\n",
    "        _output_to_list = lambda x: x.decode('ascii').split('\\n')[:-1]\n",
    "        command = \"nvidia-smi --query-gpu=memory.free --format=csv,nounits,noheader\"\n",
    "        memory_free_info = _output_to_list(subprocess.check_output(command.split())) \n",
    "        memory_free_values = [int(x) for i, x in enumerate(memory_free_info)]\n",
    "        \n",
    "        # Get the GPU with the maximum free memory\n",
    "        best_gpu_id = memory_free_values.index(max(memory_free_values))\n",
    "        return best_gpu_id\n",
    "    except:\n",
    "        # If any exception occurs, default to GPU 0 (this handles cases where nvidia-smi isn't installed)\n",
    "        return 0\n",
    "\n",
    "if torch.cuda.is_available():\n",
    "    # Get the best GPU ID based on free memory and set it\n",
    "    best_gpu_id = get_free_gpu()\n",
    "    device = torch.device(f\"cuda:{best_gpu_id}\")\n",
    "else:\n",
    "    device = torch.device(\"cpu\")\n",
    "    print(\"there's no available GPU\")\n",
    "\n",
    "# device = torch.device(f\"cuda:1\")\n",
    "print(device)\n"
   ]
  },
  {
   "cell_type": "markdown",
   "metadata": {},
   "source": [
    "## Fix the seed"
   ]
  },
  {
   "cell_type": "code",
   "execution_count": 3,
   "metadata": {},
   "outputs": [],
   "source": [
    "import numpy as np\n",
    "import torch\n",
    "import random\n",
    "\n",
    "#fix seed\n",
    "def same_seeds(seed = 8787):\n",
    "    torch.manual_seed(seed)\n",
    "    # random.seed(seed) \n",
    "    if torch.cuda.is_available():\n",
    "        torch.cuda.manual_seed(seed)\n",
    "        torch.cuda.manual_seed_all(seed)  \n",
    "    np.random.seed(seed)  \n",
    "    torch.backends.cudnn.benchmark = False\n",
    "    torch.backends.cudnn.deterministic = True"
   ]
  },
  {
   "cell_type": "markdown",
   "metadata": {},
   "source": [
    "## Data Loader"
   ]
  },
  {
   "cell_type": "code",
   "execution_count": 4,
   "metadata": {},
   "outputs": [],
   "source": [
    "class GraphDataset(Dataset):\n",
    "    def __init__(self, data_list, device):\n",
    "        self.data_list = data_list\n",
    "        self.device = device\n",
    "\n",
    "    def __len__(self):\n",
    "        return len(self.data_list)\n",
    "    \n",
    "    def __getitem__(self, idx):\n",
    "        data = self.data_list[idx]\n",
    "\n",
    "        g = dgl.graph((th.tensor(data[\"edge_index\"][0]), th.tensor(data[\"edge_index\"][1])), num_nodes=data[\"num_nodes\"]).to(self.device)\n",
    "\n",
    "        g.ndata['feat'] = th.tensor(data[\"node_feat\"]).to(self.device)\n",
    "        g.edata['feat'] = th.tensor(data[\"edge_attr\"]).to(self.device)  # Add edge features to graph\n",
    "\n",
    "        return g, th.tensor(data[\"label\"]).to(self.device)\n",
    "\n",
    "\n",
    "def collate(samples):\n",
    "    # The input `samples` is a list of pairs\n",
    "    #  (graph, label).\n",
    "    graphs, labels = map(list, zip(*samples))\n",
    "    batched_graph = dgl.batch(graphs)\n",
    "    return batched_graph, torch.tensor(labels)\n"
   ]
  },
  {
   "cell_type": "code",
   "execution_count": 7,
   "metadata": {},
   "outputs": [
    {
     "data": {
      "application/vnd.jupyter.widget-view+json": {
       "model_id": "8d2015cc7b1c45f0aab2ef8a34689678",
       "version_major": 2,
       "version_minor": 0
      },
      "text/plain": [
       "  0%|          | 0/3 [00:00<?, ?it/s]"
      ]
     },
     "metadata": {},
     "output_type": "display_data"
    },
    {
     "name": "stdout",
     "output_type": "stream",
     "text": [
      "../../data_processing/dgl/data_new/training_data/exp_2/transR_50/train.jsonl\n"
     ]
    },
    {
     "data": {
      "application/vnd.jupyter.widget-view+json": {
       "model_id": "1611422aea5f48b4b956de87f6950b41",
       "version_major": 2,
       "version_minor": 0
      },
      "text/plain": [
       "0it [00:00, ?it/s]"
      ]
     },
     "metadata": {},
     "output_type": "display_data"
    },
    {
     "name": "stdout",
     "output_type": "stream",
     "text": [
      "../../data_processing/dgl/data_new/training_data/exp_2/transR_50/valid.jsonl\n"
     ]
    },
    {
     "data": {
      "application/vnd.jupyter.widget-view+json": {
       "model_id": "a21e94e61f114da0b15b8aca19407f88",
       "version_major": 2,
       "version_minor": 0
      },
      "text/plain": [
       "0it [00:00, ?it/s]"
      ]
     },
     "metadata": {},
     "output_type": "display_data"
    },
    {
     "name": "stdout",
     "output_type": "stream",
     "text": [
      "../../data_processing/dgl/data_new/training_data/exp_2/transR_50/test.jsonl\n"
     ]
    },
    {
     "data": {
      "application/vnd.jupyter.widget-view+json": {
       "model_id": "62cc55366a514d7795feb14e71b51a50",
       "version_major": 2,
       "version_minor": 0
      },
      "text/plain": [
       "0it [00:00, ?it/s]"
      ]
     },
     "metadata": {},
     "output_type": "display_data"
    },
    {
     "name": "stdout",
     "output_type": "stream",
     "text": [
      "Datasets loaded!\n"
     ]
    }
   ],
   "source": [
    "datasets = ['train', 'valid', 'test']\n",
    "# datasets = ['test']\n",
    "dataset_data = {}\n",
    "\n",
    "for dataset_name in tqdm(datasets):\n",
    "#     file_path = f\"../../data_processing/dgl/data/test_graph/repeated_{dataset_name}.jsonl\"\n",
    "    file_path = f\"../../data_processing/dgl/data_new/training_data/exp_2/transR_50/{dataset_name}.jsonl\"\n",
    "    \n",
    "    print(file_path)\n",
    "    with open(file_path) as f:\n",
    "        data_list = [json.loads(line) for line in tqdm(f, position=0, leave=True)]\n",
    "    \n",
    "    dataset_data[dataset_name] = GraphDataset(data_list, device)\n",
    "\n",
    "print(\"Datasets loaded!\")"
   ]
  },
  {
   "cell_type": "markdown",
   "metadata": {},
   "source": [
    "- choose batch size"
   ]
  },
  {
   "cell_type": "code",
   "execution_count": 9,
   "metadata": {},
   "outputs": [
    {
     "name": "stdout",
     "output_type": "stream",
     "text": [
      "OK!\n"
     ]
    }
   ],
   "source": [
    "def create_dataloaders(batch_size, shuffle=True):\n",
    "    dataloaders = {}\n",
    "    for dataset_name, dataset in dataset_data.items():\n",
    "        # do not shuffle the testing dataset\n",
    "        if dataset_name == \"test\":\n",
    "            dataloaders[dataset_name] = DataLoader(dataset, batch_size=batch_size, shuffle=False, collate_fn=collate)    \n",
    "        else:\n",
    "            dataloaders[dataset_name] = DataLoader(dataset, batch_size=batch_size, shuffle=shuffle, collate_fn=collate)\n",
    "    return dataloaders\n",
    "\n",
    "# dataloaders = create_dataloaders(4)\n",
    "dataloaders = create_dataloaders(16)\n",
    "\n",
    "\n",
    "if (len(dataloaders['test'].dataset) + len(dataloaders['valid'].dataset) + len(dataloaders['train'].dataset)) % 166 != 0: print(\"Error data!!\")\n",
    "else: print(\"OK!\")\n"
   ]
  },
  {
   "cell_type": "markdown",
   "metadata": {},
   "source": [
    "- Turn the print message to a log file"
   ]
  },
  {
   "cell_type": "code",
   "execution_count": 10,
   "metadata": {},
   "outputs": [
    {
     "name": "stdout",
     "output_type": "stream",
     "text": [
      "(Graph(num_nodes=10, num_edges=19,\n",
      "      ndata_schemes={'feat': Scheme(shape=(50,), dtype=torch.float32)}\n",
      "      edata_schemes={'feat': Scheme(shape=(50,), dtype=torch.float32)}), tensor(6, device='cuda:2'))\n",
      "16600\n",
      "16600\n",
      "132800\n",
      "166000\n"
     ]
    }
   ],
   "source": [
    "# print(dataloaders['test'][5])\n",
    "sample = dataset_data['train'][5000]\n",
    "print(sample)\n",
    "\n",
    "print(len(dataloaders['test'].dataset))\n",
    "print(len(dataloaders['valid'].dataset))\n",
    "print(len(dataloaders['train'].dataset))\n",
    "print(len(dataloaders['test'].dataset) + len(dataloaders['valid'].dataset) + len(dataloaders['train'].dataset))"
   ]
  },
  {
   "cell_type": "code",
   "execution_count": 11,
   "metadata": {},
   "outputs": [
    {
     "name": "stdout",
     "output_type": "stream",
     "text": [
      "../log_message/0901_17:13_GAT_transR_50.log\n"
     ]
    }
   ],
   "source": [
    "import datetime\n",
    "\n",
    "now = datetime.datetime.now()\n",
    "\n",
    "formatted_time = now.strftime(\"%m%d_%H:%M\")\n",
    "\n",
    "log_file_path = f\"../log_message/{formatted_time}_GAT_transR_50.log\"\n",
    "\n",
    "def add_log_msg(msg, log_file_path=log_file_path):\n",
    "    with open(log_file_path, 'a') as f:\n",
    "        f.write(f'{datetime.datetime.now().strftime(\"%m/%d/%Y, %H:%M:%S\")}# {msg}\\n')\n",
    "    print(f'{datetime.datetime.now().strftime(\"%m/%d/%Y, %H:%M:%S\")}# {msg}')\n",
    "\n",
    "print(log_file_path)"
   ]
  },
  {
   "cell_type": "markdown",
   "metadata": {},
   "source": [
    "### Model"
   ]
  },
  {
   "cell_type": "code",
   "execution_count": 12,
   "metadata": {},
   "outputs": [],
   "source": [
    "class GAT(nn.Module):\n",
    "    def __init__(self, in_dim, hidden_dim, out_dim, num_heads, dropout_prob=0.25):\n",
    "        super(GAT, self).__init__()\n",
    "        \n",
    "        # do not check the zero in_degree since we have all the complete graph\n",
    "        self.layer1 = GATConv(in_dim, hidden_dim, num_heads=num_heads, activation=F.relu, allow_zero_in_degree=True)\n",
    "        self.layer2 = GATConv(hidden_dim * num_heads, out_dim, num_heads=num_heads, allow_zero_in_degree=True)\n",
    "        \n",
    "        # Adding Batch Normalization after each GAT layer\n",
    "        self.batchnorm1 = nn.BatchNorm1d(hidden_dim * num_heads)\n",
    "        self.batchnorm2 = nn.BatchNorm1d(out_dim)\n",
    "        \n",
    "        # Adding Dropout for regularization\n",
    "        self.dropout = nn.Dropout(dropout_prob)\n",
    "\n",
    "    def forward(self, g, h):\n",
    "        # Apply GAT layers\n",
    "        h = self.layer1(g, h)\n",
    "        h = h.view(h.shape[0], -1)\n",
    "        h = F.relu(h)\n",
    "        h = self.dropout(h)\n",
    "        h = self.layer2(g, h).squeeze(1)\n",
    "        \n",
    "        # Store the output as a new node feature\n",
    "        g.ndata['h_out'] = h\n",
    "\n",
    "        # Use mean pooling to aggregate this new node feature\n",
    "        h_agg = dgl.mean_nodes(g, feat='h_out')\n",
    "        return h_agg\n",
    "\n",
    "    "
   ]
  },
  {
   "cell_type": "markdown",
   "metadata": {},
   "source": [
    "- Model Forward  "
   ]
  },
  {
   "cell_type": "code",
   "execution_count": 13,
   "metadata": {},
   "outputs": [],
   "source": [
    "def model_fn(data, model, criterion, device, count=1, which_type='train'):\n",
    "    \"\"\"Forward a batch through the model.\"\"\"\n",
    "    batched_g, labels = data\n",
    "    batched_g = batched_g.to(device)\n",
    "    \n",
    "    labels = labels.to(device)\n",
    "    logits = model(batched_g, batched_g.ndata['feat'].float()) # for GAT\n",
    "    logits = logits.mean(dim=1)\n",
    "    \n",
    "    loss = criterion(logits, labels)\n",
    "\n",
    "    # Get the class id with the highest probability\n",
    "    preds = logits.argmax(1)\n",
    "    \n",
    "    # Compute accuracy\n",
    "    accuracy = torch.mean((preds == labels).float())\n",
    "    \n",
    "    if which_type == 'validation' and count % 1000 == 0:\n",
    "        add_log_msg(f\"labels of Validation: {labels} {labels.shape}\")\n",
    "        add_log_msg(f\"predicted of Validation: {preds} {preds.shape}\")\n",
    "        \n",
    "    elif which_type == 'test'  and count % 1000 == 0:\n",
    "        add_log_msg(f\"labels of Test: {labels} {labels.shape}\")\n",
    "        add_log_msg(f\"predicted of Test: {preds} {preds.shape}\")\n",
    "        \n",
    "    if count % 5000 == 0: \n",
    "        add_log_msg(f\"labels of {count}: {labels} {labels.shape}\")\n",
    "        add_log_msg(f\"predicted of {count}: {preds} {preds.shape}\")\n",
    "        \n",
    "    return loss, accuracy, preds"
   ]
  },
  {
   "cell_type": "markdown",
   "metadata": {},
   "source": [
    "### Training"
   ]
  },
  {
   "cell_type": "markdown",
   "metadata": {},
   "source": [
    "- Fix the seed and save the model.state_dict that contains the initial weight"
   ]
  },
  {
   "cell_type": "code",
   "execution_count": 14,
   "metadata": {},
   "outputs": [],
   "source": [
    "seed = 8787\n",
    "same_seeds(seed)\n",
    "\n",
    "model = GAT(in_dim=50, hidden_dim=16, out_dim=168, num_heads=8)\n",
    "torch.save(model.state_dict(), 'model1_initial/initial_weight.pth')"
   ]
  },
  {
   "cell_type": "code",
   "execution_count": 15,
   "metadata": {},
   "outputs": [
    {
     "data": {
      "text/plain": [
       "Parameter containing:\n",
       "tensor([[-0.1806, -0.0598,  0.0091,  ...,  0.0719,  0.2496,  0.0873],\n",
       "        [ 0.1694, -0.0015, -0.0139,  ...,  0.0147,  0.0892,  0.0146],\n",
       "        [ 0.0969, -0.0595, -0.0115,  ..., -0.0474,  0.0529, -0.0565],\n",
       "        ...,\n",
       "        [-0.0433, -0.2248,  0.3002,  ...,  0.0850,  0.1621,  0.0422],\n",
       "        [ 0.2097, -0.2492,  0.0612,  ..., -0.0041,  0.0365, -0.1483],\n",
       "        [ 0.0971, -0.2221,  0.1652,  ..., -0.1312, -0.2610,  0.0077]],\n",
       "       requires_grad=True)"
      ]
     },
     "execution_count": 15,
     "metadata": {},
     "output_type": "execute_result"
    }
   ],
   "source": [
    "model.layer1.fc.weight"
   ]
  },
  {
   "cell_type": "markdown",
   "metadata": {},
   "source": [
    "- Check if model really load the model_dict"
   ]
  },
  {
   "cell_type": "code",
   "execution_count": 16,
   "metadata": {},
   "outputs": [
    {
     "data": {
      "text/plain": [
       "Parameter containing:\n",
       "tensor([[-0.1806, -0.0598,  0.0091,  ...,  0.0719,  0.2496,  0.0873],\n",
       "        [ 0.1694, -0.0015, -0.0139,  ...,  0.0147,  0.0892,  0.0146],\n",
       "        [ 0.0969, -0.0595, -0.0115,  ..., -0.0474,  0.0529, -0.0565],\n",
       "        ...,\n",
       "        [-0.0433, -0.2248,  0.3002,  ...,  0.0850,  0.1621,  0.0422],\n",
       "        [ 0.2097, -0.2492,  0.0612,  ..., -0.0041,  0.0365, -0.1483],\n",
       "        [ 0.0971, -0.2221,  0.1652,  ..., -0.1312, -0.2610,  0.0077]],\n",
       "       requires_grad=True)"
      ]
     },
     "execution_count": 16,
     "metadata": {},
     "output_type": "execute_result"
    }
   ],
   "source": [
    "model = GAT(in_dim=50, hidden_dim=16, out_dim=168, num_heads=8)\n",
    "model.load_state_dict(torch.load('model1_initial/initial_weight.pth'))\n",
    "model.layer1.fc.weight"
   ]
  },
  {
   "cell_type": "markdown",
   "metadata": {},
   "source": [
    "### test of valid and test part is ``graph``"
   ]
  },
  {
   "cell_type": "markdown",
   "metadata": {},
   "source": [
    "- Batch size = 4\n",
    "- use large lr and scheduler"
   ]
  },
  {
   "cell_type": "code",
   "execution_count": null,
   "metadata": {
    "scrolled": true
   },
   "outputs": [
    {
     "data": {
      "application/vnd.jupyter.widget-view+json": {
       "model_id": "39b03c9e729d4086a4d39005939d7c18",
       "version_major": 2,
       "version_minor": 0
      },
      "text/plain": [
       "  0%|          | 0/100 [00:00<?, ?it/s]"
      ]
     },
     "metadata": {},
     "output_type": "display_data"
    },
    {
     "data": {
      "application/vnd.jupyter.widget-view+json": {
       "model_id": "3572681c0a9745cd8610be35b6168845",
       "version_major": 2,
       "version_minor": 0
      },
      "text/plain": [
       "Training:   0%|          | 0/8300 [00:00<?, ?it/s]"
      ]
     },
     "metadata": {},
     "output_type": "display_data"
    },
    {
     "name": "stdout",
     "output_type": "stream",
     "text": [
      "09/01/2023, 17:15:50# labels of 5000: tensor([118,  77,  47, 108, 123,  11, 150,  19,  60,  82, 116,  59,  66,  10,\n",
      "         99,  84], device='cuda:2') torch.Size([16])\n",
      "09/01/2023, 17:15:50# predicted of 5000: tensor([  7, 161,  28, 161,  25,  28,  28,  28,  28, 154, 161,  65,  28,  28,\n",
      "         99, 146], device='cuda:2') torch.Size([16])\n",
      "09/01/2023, 17:18:03# total batches: 8300\n",
      "09/01/2023, 17:18:03# Epoch 0 | Train Loss: 4.5101 | Train Accuracy: 0.0810\n"
     ]
    },
    {
     "data": {
      "application/vnd.jupyter.widget-view+json": {
       "model_id": "fb8e1e5b1d594389955a1cdf2cca9102",
       "version_major": 2,
       "version_minor": 0
      },
      "text/plain": [
       "Validation:   0%|          | 0/1038 [00:00<?, ?it/s]"
      ]
     },
     "metadata": {},
     "output_type": "display_data"
    },
    {
     "name": "stdout",
     "output_type": "stream",
     "text": [
      "09/01/2023, 17:18:03# labels of Validation: tensor([136, 114,  46,  34, 149, 153,  31,   4,  95,  31,  23,  33, 106, 126,\n",
      "        149, 134], device='cuda:2') torch.Size([16])\n",
      "09/01/2023, 17:18:03# predicted of Validation: tensor([ 99, 132, 132, 132, 149, 132, 132, 132, 128, 132,  96, 132, 106,  50,\n",
      "        149, 134], device='cuda:2') torch.Size([16])\n",
      "09/01/2023, 17:18:03# labels of 0: tensor([136, 114,  46,  34, 149, 153,  31,   4,  95,  31,  23,  33, 106, 126,\n",
      "        149, 134], device='cuda:2') torch.Size([16])\n",
      "09/01/2023, 17:18:03# predicted of 0: tensor([ 99, 132, 132, 132, 149, 132, 132, 132, 128, 132,  96, 132, 106,  50,\n",
      "        149, 134], device='cuda:2') torch.Size([16])\n",
      "09/01/2023, 17:18:40# labels of Validation: tensor([ 44, 118,  17, 147,  93, 164, 109, 138,  75,  91,  33, 152, 159,  34,\n",
      "         31, 166], device='cuda:2') torch.Size([16])\n",
      "09/01/2023, 17:18:40# predicted of Validation: tensor([132, 118,  17, 147, 132, 132, 132, 138, 132, 132, 132, 132, 159, 132,\n",
      "        132, 132], device='cuda:2') torch.Size([16])\n",
      "09/01/2023, 17:18:41# Validation Loss: 3.9591 | Validation Accuracy: 0.2222\n",
      "\n"
     ]
    },
    {
     "data": {
      "application/vnd.jupyter.widget-view+json": {
       "model_id": "27c8288218bc4100a94123802ae4f407",
       "version_major": 2,
       "version_minor": 0
      },
      "text/plain": [
       "Training:   0%|          | 0/8300 [00:00<?, ?it/s]"
      ]
     },
     "metadata": {},
     "output_type": "display_data"
    },
    {
     "name": "stdout",
     "output_type": "stream",
     "text": [
      "09/01/2023, 17:22:24# labels of 5000: tensor([162, 139, 130,  16, 105,  93,  54, 107,  29,  94,   1,  85,  88, 124,\n",
      "        127,  24], device='cuda:2') torch.Size([16])\n",
      "09/01/2023, 17:22:24# predicted of 5000: tensor([161, 161,  56,  16, 105, 131,   6, 161, 118,  15, 161,  85, 161, 114,\n",
      "        127, 131], device='cuda:2') torch.Size([16])\n",
      "09/01/2023, 17:24:50# total batches: 8300\n",
      "09/01/2023, 17:24:50# Epoch 1 | Train Loss: 3.6777 | Train Accuracy: 0.2634\n"
     ]
    },
    {
     "data": {
      "application/vnd.jupyter.widget-view+json": {
       "model_id": "6a75f960c0f449f2b00a5ed5d03c0934",
       "version_major": 2,
       "version_minor": 0
      },
      "text/plain": [
       "Validation:   0%|          | 0/1038 [00:00<?, ?it/s]"
      ]
     },
     "metadata": {},
     "output_type": "display_data"
    },
    {
     "name": "stdout",
     "output_type": "stream",
     "text": [
      "09/01/2023, 17:24:50# labels of Validation: tensor([ 92, 114,  73, 137, 145, 141,   5, 135,  29, 123, 127,   6,  30, 116,\n",
      "        115,  57], device='cuda:2') torch.Size([16])\n",
      "09/01/2023, 17:24:50# predicted of Validation: tensor([155, 132,  73, 155, 145, 132,  62, 155,  29, 123, 127, 132, 155, 155,\n",
      "        115, 155], device='cuda:2') torch.Size([16])\n",
      "09/01/2023, 17:24:50# labels of 0: tensor([ 92, 114,  73, 137, 145, 141,   5, 135,  29, 123, 127,   6,  30, 116,\n",
      "        115,  57], device='cuda:2') torch.Size([16])\n",
      "09/01/2023, 17:24:50# predicted of 0: tensor([155, 132,  73, 155, 145, 132,  62, 155,  29, 123, 127, 132, 155, 155,\n",
      "        115, 155], device='cuda:2') torch.Size([16])\n",
      "09/01/2023, 17:25:27# labels of Validation: tensor([ 37,  91, 103, 125,  30,  53,  98, 138, 119,  52,  94, 101,  68,  95,\n",
      "        131,  23], device='cuda:2') torch.Size([16])\n",
      "09/01/2023, 17:25:27# predicted of Validation: tensor([132, 132, 132, 155, 155, 155, 155, 138, 155,  52,  94, 132, 132,  95,\n",
      "        132,  23], device='cuda:2') torch.Size([16])\n",
      "09/01/2023, 17:25:28# Validation Loss: 3.4144 | Validation Accuracy: 0.3459\n",
      "\n",
      "09/01/2023, 17:25:28# Find a better model!!\n"
     ]
    },
    {
     "data": {
      "application/vnd.jupyter.widget-view+json": {
       "model_id": "62a2a99a131a44c5b0eba6299a30b060",
       "version_major": 2,
       "version_minor": 0
      },
      "text/plain": [
       "Training:   0%|          | 0/8300 [00:00<?, ?it/s]"
      ]
     },
     "metadata": {},
     "output_type": "display_data"
    },
    {
     "name": "stdout",
     "output_type": "stream",
     "text": [
      "09/01/2023, 17:30:47# labels of 5000: tensor([126,  38,  15,  15, 140, 144, 121,  90, 142, 149,  67, 122,  57,   1,\n",
      "        100,  88], device='cuda:2') torch.Size([16])\n",
      "09/01/2023, 17:30:47# predicted of 5000: tensor([126, 142,  15,  15, 140, 101, 101,  51, 101, 149,  67, 122,  28,  28,\n",
      "        101,  51], device='cuda:2') torch.Size([16])\n",
      "09/01/2023, 17:35:00# total batches: 8300\n",
      "09/01/2023, 17:35:00# Epoch 2 | Train Loss: 3.2654 | Train Accuracy: 0.3415\n"
     ]
    },
    {
     "data": {
      "application/vnd.jupyter.widget-view+json": {
       "model_id": "79b4fe8461b04ce597f4f0c2d8d2bf2d",
       "version_major": 2,
       "version_minor": 0
      },
      "text/plain": [
       "Validation:   0%|          | 0/1038 [00:00<?, ?it/s]"
      ]
     },
     "metadata": {},
     "output_type": "display_data"
    },
    {
     "name": "stdout",
     "output_type": "stream",
     "text": [
      "09/01/2023, 17:35:00# labels of Validation: tensor([135,  48,  28,  56,  33, 108,  17, 129, 117,  69,  94,  51,  59,   8,\n",
      "         64,  17], device='cuda:2') torch.Size([16])\n",
      "09/01/2023, 17:35:00# predicted of Validation: tensor([ 11,  11,  28,  56,  11,  28,  17,  28, 117,  69,  94,  28,  28,  28,\n",
      "         28,  17], device='cuda:2') torch.Size([16])\n",
      "09/01/2023, 17:35:00# labels of 0: tensor([135,  48,  28,  56,  33, 108,  17, 129, 117,  69,  94,  51,  59,   8,\n",
      "         64,  17], device='cuda:2') torch.Size([16])\n",
      "09/01/2023, 17:35:00# predicted of 0: tensor([ 11,  11,  28,  56,  11,  28,  17,  28, 117,  69,  94,  28,  28,  28,\n",
      "         28,  17], device='cuda:2') torch.Size([16])\n",
      "09/01/2023, 17:35:35# labels of Validation: tensor([108,  18,  79,  17,  46,   6, 126, 163,  84,   1, 164,  61,  82, 156,\n",
      "         55,  21], device='cuda:2') torch.Size([16])\n",
      "09/01/2023, 17:35:35# predicted of Validation: tensor([ 28,  11,   5,  17,  11,  28, 126,  11,  84,  11,  11,  61,  82, 156,\n",
      "         11,  28], device='cuda:2') torch.Size([16])\n",
      "09/01/2023, 17:35:37# Validation Loss: 3.0967 | Validation Accuracy: 0.3692\n",
      "\n",
      "09/01/2023, 17:35:37# Find a better model!!\n"
     ]
    },
    {
     "data": {
      "application/vnd.jupyter.widget-view+json": {
       "model_id": "396d6a8099284b779c4f402dc0e945bb",
       "version_major": 2,
       "version_minor": 0
      },
      "text/plain": [
       "Training:   0%|          | 0/8300 [00:00<?, ?it/s]"
      ]
     },
     "metadata": {},
     "output_type": "display_data"
    },
    {
     "name": "stdout",
     "output_type": "stream",
     "text": [
      "09/01/2023, 17:38:59# labels of 5000: tensor([158,  80,  97, 153,  32, 111, 159,  27, 150,  34,  56,  29,  38,  98,\n",
      "         24, 138], device='cuda:2') torch.Size([16])\n",
      "09/01/2023, 17:38:59# predicted of 5000: tensor([114,  80, 100,  59,  32,  59, 159,  27, 114,  59,  56,  29, 114,  24,\n",
      "         65, 138], device='cuda:2') torch.Size([16])\n",
      "09/01/2023, 17:41:04# total batches: 8300\n",
      "09/01/2023, 17:41:04# Epoch 3 | Train Loss: 3.0294 | Train Accuracy: 0.3632\n"
     ]
    },
    {
     "data": {
      "application/vnd.jupyter.widget-view+json": {
       "model_id": "9a8a60d8c09f401eb30a770ff3800ecc",
       "version_major": 2,
       "version_minor": 0
      },
      "text/plain": [
       "Validation:   0%|          | 0/1038 [00:00<?, ?it/s]"
      ]
     },
     "metadata": {},
     "output_type": "display_data"
    },
    {
     "name": "stdout",
     "output_type": "stream",
     "text": [
      "09/01/2023, 17:41:04# labels of Validation: tensor([113, 160,   2, 159,  92,   7,  84,  40,  76, 161, 166, 149, 133,  54,\n",
      "          9, 140], device='cuda:2') torch.Size([16])\n",
      "09/01/2023, 17:41:04# predicted of Validation: tensor([161, 161,  37, 159,  37,   7,  84,  40,  37, 161, 161, 149, 161,  37,\n",
      "         37, 140], device='cuda:2') torch.Size([16])\n",
      "09/01/2023, 17:41:04# labels of 0: tensor([113, 160,   2, 159,  92,   7,  84,  40,  76, 161, 166, 149, 133,  54,\n",
      "          9, 140], device='cuda:2') torch.Size([16])\n",
      "09/01/2023, 17:41:04# predicted of 0: tensor([161, 161,  37, 159,  37,   7,  84,  40,  37, 161, 161, 149, 161,  37,\n",
      "         37, 140], device='cuda:2') torch.Size([16])\n",
      "09/01/2023, 17:41:33# labels of Validation: tensor([162,   2, 101,  81,  58,  88,  99,  87, 150,  23, 129,  57, 105,  57,\n",
      "          3, 146], device='cuda:2') torch.Size([16])\n",
      "09/01/2023, 17:41:33# predicted of Validation: tensor([ 37,  37, 161,  37,  37, 161,  99,  37,  37,  23, 161,  37, 105,  37,\n",
      "          3, 146], device='cuda:2') torch.Size([16])\n",
      "09/01/2023, 17:41:34# Validation Loss: 2.9354 | Validation Accuracy: 0.3661\n",
      "\n",
      "09/01/2023, 17:41:34# Find a better model!!\n"
     ]
    },
    {
     "data": {
      "application/vnd.jupyter.widget-view+json": {
       "model_id": "5e7dbee380c4481d92c79d166aab32ed",
       "version_major": 2,
       "version_minor": 0
      },
      "text/plain": [
       "Training:   0%|          | 0/8300 [00:00<?, ?it/s]"
      ]
     },
     "metadata": {},
     "output_type": "display_data"
    },
    {
     "name": "stdout",
     "output_type": "stream",
     "text": [
      "09/01/2023, 17:44:49# labels of 5000: tensor([135,  41, 103,  30,  48,  23, 132,  58,  87,  90,   4, 163,  11, 154,\n",
      "         70,  43], device='cuda:2') torch.Size([16])\n",
      "09/01/2023, 17:44:49# predicted of 5000: tensor([  6,  38,   6,  49,  34,  23,   6,  58,   9,   6, 131,  33, 133, 154,\n",
      "         70,  33], device='cuda:2') torch.Size([16])\n",
      "09/01/2023, 17:46:59# total batches: 8300\n",
      "09/01/2023, 17:46:59# Epoch 4 | Train Loss: 2.9139 | Train Accuracy: 0.3697\n"
     ]
    },
    {
     "data": {
      "application/vnd.jupyter.widget-view+json": {
       "model_id": "9ca9c8e9cbfb485d8d411fb498b424c1",
       "version_major": 2,
       "version_minor": 0
      },
      "text/plain": [
       "Validation:   0%|          | 0/1038 [00:00<?, ?it/s]"
      ]
     },
     "metadata": {},
     "output_type": "display_data"
    },
    {
     "name": "stdout",
     "output_type": "stream",
     "text": [
      "09/01/2023, 17:46:59# labels of Validation: tensor([130,  74,   4,   7, 150, 108, 141, 102,  88, 165,  65, 108,  71, 146,\n",
      "        100, 158], device='cuda:2') torch.Size([16])\n",
      "09/01/2023, 17:46:59# predicted of Validation: tensor([130,  63,  63,   7,  63, 132,  66,  63,  66, 165,  63, 132,  63, 146,\n",
      "         66,  63], device='cuda:2') torch.Size([16])\n",
      "09/01/2023, 17:46:59# labels of 0: tensor([130,  74,   4,   7, 150, 108, 141, 102,  88, 165,  65, 108,  71, 146,\n",
      "        100, 158], device='cuda:2') torch.Size([16])\n",
      "09/01/2023, 17:46:59# predicted of 0: tensor([130,  63,  63,   7,  63, 132,  66,  63,  66, 165,  63, 132,  63, 146,\n",
      "         66,  63], device='cuda:2') torch.Size([16])\n",
      "09/01/2023, 17:47:34# labels of Validation: tensor([ 80, 132,  80,  83,  66,  29, 148,  72,  60, 139, 151, 128,   3,  73,\n",
      "         90, 108], device='cuda:2') torch.Size([16])\n",
      "09/01/2023, 17:47:34# predicted of Validation: tensor([ 80, 132,  80,  63, 132,  29,  66,  72,  63,  63,  63, 128,   3,  73,\n",
      "         66, 132], device='cuda:2') torch.Size([16])\n",
      "09/01/2023, 17:47:36# Validation Loss: 2.8652 | Validation Accuracy: 0.3754\n",
      "\n",
      "09/01/2023, 17:47:36# Find a better model!!\n"
     ]
    },
    {
     "data": {
      "application/vnd.jupyter.widget-view+json": {
       "model_id": "5a0a4733dcdd45348931af7bebe31ed1",
       "version_major": 2,
       "version_minor": 0
      },
      "text/plain": [
       "Training:   0%|          | 0/8300 [00:00<?, ?it/s]"
      ]
     },
     "metadata": {},
     "output_type": "display_data"
    },
    {
     "name": "stdout",
     "output_type": "stream",
     "text": [
      "09/01/2023, 17:51:01# labels of 5000: tensor([ 53,  45,  51,  99, 135,  88, 148, 129, 112,  85,  25, 116, 161, 151,\n",
      "        159,  37], device='cuda:2') torch.Size([16])\n",
      "09/01/2023, 17:51:01# predicted of 5000: tensor([111,  45,  28,  99,  74,  21, 155,  28,  47,  85,  25,  37,   6,  77,\n",
      "        159,  28], device='cuda:2') torch.Size([16])\n",
      "09/01/2023, 17:53:16# total batches: 8300\n",
      "09/01/2023, 17:53:16# Epoch 5 | Train Loss: 2.8596 | Train Accuracy: 0.3731\n"
     ]
    },
    {
     "data": {
      "application/vnd.jupyter.widget-view+json": {
       "model_id": "470248aa1dd046b7b1c163c935ccef31",
       "version_major": 2,
       "version_minor": 0
      },
      "text/plain": [
       "Validation:   0%|          | 0/1038 [00:00<?, ?it/s]"
      ]
     },
     "metadata": {},
     "output_type": "display_data"
    },
    {
     "name": "stdout",
     "output_type": "stream",
     "text": [
      "09/01/2023, 17:53:16# labels of Validation: tensor([ 39, 159,  50,  74, 153,   0,  20, 130,  68,   4,  29,  58, 131, 113,\n",
      "         11,  17], device='cuda:2') torch.Size([16])\n",
      "09/01/2023, 17:53:16# predicted of Validation: tensor([ 39, 159,  50, 109, 109,   0, 109, 130, 132, 109,  29, 109, 132, 132,\n",
      "        109,  17], device='cuda:2') torch.Size([16])\n",
      "09/01/2023, 17:53:16# labels of 0: tensor([ 39, 159,  50,  74, 153,   0,  20, 130,  68,   4,  29,  58, 131, 113,\n",
      "         11,  17], device='cuda:2') torch.Size([16])\n",
      "09/01/2023, 17:53:16# predicted of 0: tensor([ 39, 159,  50, 109, 109,   0, 109, 130, 132, 109,  29, 109, 132, 132,\n",
      "        109,  17], device='cuda:2') torch.Size([16])\n",
      "09/01/2023, 17:53:48# labels of Validation: tensor([ 53,   0, 147,  88,  94, 148, 121,  83,  95, 125,  14, 159, 122, 120,\n",
      "         79,  85], device='cuda:2') torch.Size([16])\n",
      "09/01/2023, 17:53:48# predicted of Validation: tensor([109,   0, 147, 132,  94, 132, 109, 109,  95, 109, 109, 159, 122, 120,\n",
      "         79,  85], device='cuda:2') torch.Size([16])\n",
      "09/01/2023, 17:53:49# Validation Loss: 2.8338 | Validation Accuracy: 0.3758\n",
      "\n",
      "09/01/2023, 17:53:49# Find a better model!!\n"
     ]
    },
    {
     "data": {
      "application/vnd.jupyter.widget-view+json": {
       "model_id": "8c76f75882574a37af0eb84899382a2a",
       "version_major": 2,
       "version_minor": 0
      },
      "text/plain": [
       "Training:   0%|          | 0/8300 [00:00<?, ?it/s]"
      ]
     },
     "metadata": {},
     "output_type": "display_data"
    },
    {
     "name": "stdout",
     "output_type": "stream",
     "text": [
      "09/01/2023, 17:57:07# labels of 5000: tensor([153,  39, 131,   1,  53, 107, 113,  60,  32, 105, 143,  96, 124,  69,\n",
      "          4, 149], device='cuda:2') torch.Size([16])\n",
      "09/01/2023, 17:57:07# predicted of 5000: tensor([ 18,  39,   6,  18, 113,   6,   6, 113,  32, 105, 113,  96,  18,  69,\n",
      "        113, 149], device='cuda:2') torch.Size([16])\n",
      "09/01/2023, 17:59:17# total batches: 8300\n",
      "09/01/2023, 17:59:17# Epoch 6 | Train Loss: 2.8310 | Train Accuracy: 0.3749\n"
     ]
    },
    {
     "data": {
      "application/vnd.jupyter.widget-view+json": {
       "model_id": "53917a1a87f04f2ab972434d6123da4f",
       "version_major": 2,
       "version_minor": 0
      },
      "text/plain": [
       "Validation:   0%|          | 0/1038 [00:00<?, ?it/s]"
      ]
     },
     "metadata": {},
     "output_type": "display_data"
    },
    {
     "name": "stdout",
     "output_type": "stream",
     "text": [
      "09/01/2023, 17:59:17# labels of Validation: tensor([142,  16,  19,  59, 125, 117,  25, 153, 159, 125, 118, 107,  27, 116,\n",
      "         82,   7], device='cuda:2') torch.Size([16])\n",
      "09/01/2023, 17:59:17# predicted of Validation: tensor([  1,  16,   1,   6,   1, 117,  25,   1, 159,   1, 118,   6,  27,   1,\n",
      "         82,   7], device='cuda:2') torch.Size([16])\n",
      "09/01/2023, 17:59:17# labels of 0: tensor([142,  16,  19,  59, 125, 117,  25, 153, 159, 125, 118, 107,  27, 116,\n",
      "         82,   7], device='cuda:2') torch.Size([16])\n",
      "09/01/2023, 17:59:17# predicted of 0: tensor([  1,  16,   1,   6,   1, 117,  25,   1, 159,   1, 118,   6,  27,   1,\n",
      "         82,   7], device='cuda:2') torch.Size([16])\n",
      "09/01/2023, 17:59:49# labels of Validation: tensor([ 44, 100,   3,  25,  64, 150, 124, 119,  19, 141,  28,  45, 133, 103,\n",
      "        106,  81], device='cuda:2') torch.Size([16])\n",
      "09/01/2023, 17:59:49# predicted of Validation: tensor([  1,   6,   3,  25,   6,   1,   1,   1,   1,   6,   6,  45,   6,   6,\n",
      "        106,   1], device='cuda:2') torch.Size([16])\n",
      "09/01/2023, 17:59:50# Validation Loss: 2.8137 | Validation Accuracy: 0.3823\n",
      "\n",
      "09/01/2023, 17:59:50# Find a better model!!\n"
     ]
    },
    {
     "data": {
      "application/vnd.jupyter.widget-view+json": {
       "model_id": "2ffe4c9de45c44f28d9b917c87f93cbb",
       "version_major": 2,
       "version_minor": 0
      },
      "text/plain": [
       "Training:   0%|          | 0/8300 [00:00<?, ?it/s]"
      ]
     },
     "metadata": {},
     "output_type": "display_data"
    },
    {
     "name": "stdout",
     "output_type": "stream",
     "text": [
      "09/01/2023, 18:03:06# labels of 5000: tensor([ 83,  84,  79,   2, 104,  26,  37, 159,  65,  69, 115, 117,  65,   5,\n",
      "         57,  91], device='cuda:2') torch.Size([16])\n",
      "09/01/2023, 18:03:06# predicted of 5000: tensor([ 91,  84,  79,   9, 108,  31,  51, 159, 132,  69, 115, 117,  65,   5,\n",
      "         75, 132], device='cuda:2') torch.Size([16])\n",
      "09/01/2023, 18:05:12# total batches: 8300\n",
      "09/01/2023, 18:05:12# Epoch 7 | Train Loss: 2.8137 | Train Accuracy: 0.3757\n"
     ]
    },
    {
     "data": {
      "application/vnd.jupyter.widget-view+json": {
       "model_id": "34a25d99d881412c933b35aaa1f8cae5",
       "version_major": 2,
       "version_minor": 0
      },
      "text/plain": [
       "Validation:   0%|          | 0/1038 [00:00<?, ?it/s]"
      ]
     },
     "metadata": {},
     "output_type": "display_data"
    },
    {
     "name": "stdout",
     "output_type": "stream",
     "text": [
      "09/01/2023, 18:05:12# labels of Validation: tensor([ 87,  60, 121,  27,  89,  26, 162,  13,  87, 164, 156,  83,  42, 135,\n",
      "        116,  89], device='cuda:2') torch.Size([16])\n",
      "09/01/2023, 18:05:12# predicted of Validation: tensor([ 64,  64,  64,  27,  89,  64,  64,  13,  64,  64, 156,  64,  64,  64,\n",
      "         64,  89], device='cuda:2') torch.Size([16])\n",
      "09/01/2023, 18:05:12# labels of 0: tensor([ 87,  60, 121,  27,  89,  26, 162,  13,  87, 164, 156,  83,  42, 135,\n",
      "        116,  89], device='cuda:2') torch.Size([16])\n",
      "09/01/2023, 18:05:12# predicted of 0: tensor([ 64,  64,  64,  27,  89,  64,  64,  13,  64,  64, 156,  64,  64,  64,\n",
      "         64,  89], device='cuda:2') torch.Size([16])\n",
      "09/01/2023, 18:05:44# labels of Validation: tensor([ 30,  52,  34,  75,  79,  19,  31,  89, 155,   0,  30,  25,  87,  70,\n",
      "         90,  25], device='cuda:2') torch.Size([16])\n",
      "09/01/2023, 18:05:44# predicted of Validation: tensor([ 64,  52,  64,  64,  72,  64,  64,  89, 161,   0,  64,  25,  64,  70,\n",
      "        161,  25], device='cuda:2') torch.Size([16])\n",
      "09/01/2023, 18:05:45# Validation Loss: 2.8005 | Validation Accuracy: 0.3703\n",
      "\n",
      "09/01/2023, 18:05:45# Find a better model!!\n"
     ]
    },
    {
     "data": {
      "application/vnd.jupyter.widget-view+json": {
       "model_id": "dae1ed944199420c906536f05595cd9f",
       "version_major": 2,
       "version_minor": 0
      },
      "text/plain": [
       "Training:   0%|          | 0/8300 [00:00<?, ?it/s]"
      ]
     },
     "metadata": {},
     "output_type": "display_data"
    },
    {
     "name": "stdout",
     "output_type": "stream",
     "text": [
      "09/01/2023, 18:09:00# labels of 5000: tensor([109,  64, 113, 146,  81, 133, 144,  23,  14, 113, 156, 111, 149, 132,\n",
      "         54,  44], device='cuda:2') torch.Size([16])\n",
      "09/01/2023, 18:09:00# predicted of 5000: tensor([ 24, 132, 108, 146,  24,   6,   4,  23, 108,   6, 156, 151, 149, 132,\n",
      "         48,  48], device='cuda:2') torch.Size([16])\n",
      "09/01/2023, 18:11:07# total batches: 8300\n",
      "09/01/2023, 18:11:07# Epoch 8 | Train Loss: 2.7993 | Train Accuracy: 0.3773\n"
     ]
    },
    {
     "data": {
      "application/vnd.jupyter.widget-view+json": {
       "model_id": "90c6900a720946d3877928ff2d3be987",
       "version_major": 2,
       "version_minor": 0
      },
      "text/plain": [
       "Validation:   0%|          | 0/1038 [00:00<?, ?it/s]"
      ]
     },
     "metadata": {},
     "output_type": "display_data"
    },
    {
     "name": "stdout",
     "output_type": "stream",
     "text": [
      "09/01/2023, 18:11:07# labels of Validation: tensor([ 58, 104,  16, 161,  33, 133, 104, 137, 111,  82, 156, 126,  72,  29,\n",
      "        116,  12], device='cuda:2') torch.Size([16])\n",
      "09/01/2023, 18:11:07# predicted of Validation: tensor([ 54,  54,  16, 132,  54,  91,  54,  54,  54,  82, 156, 126,  72,  29,\n",
      "         54,  54], device='cuda:2') torch.Size([16])\n",
      "09/01/2023, 18:11:07# labels of 0: tensor([ 58, 104,  16, 161,  33, 133, 104, 137, 111,  82, 156, 126,  72,  29,\n",
      "        116,  12], device='cuda:2') torch.Size([16])\n",
      "09/01/2023, 18:11:07# predicted of 0: tensor([ 54,  54,  16, 132,  54,  91,  54,  54,  54,  82, 156, 126,  72,  29,\n",
      "         54,  54], device='cuda:2') torch.Size([16])\n",
      "09/01/2023, 18:11:40# labels of Validation: tensor([ 98,  98,  98,  91,  34, 125,  10,  83,  80,  91,  98,   9,  33, 149,\n",
      "        131, 122], device='cuda:2') torch.Size([16])\n",
      "09/01/2023, 18:11:40# predicted of Validation: tensor([ 54,  54,  54, 132,  54,  54,  54,  54,  80, 132,  54,  54,  54, 149,\n",
      "        132, 122], device='cuda:2') torch.Size([16])\n",
      "09/01/2023, 18:11:41# Validation Loss: 2.7906 | Validation Accuracy: 0.3763\n",
      "\n",
      "09/01/2023, 18:11:41# Find a better model!!\n"
     ]
    },
    {
     "data": {
      "application/vnd.jupyter.widget-view+json": {
       "model_id": "fc941d049e464ecea735a89eb7cb7f8e",
       "version_major": 2,
       "version_minor": 0
      },
      "text/plain": [
       "Training:   0%|          | 0/8300 [00:00<?, ?it/s]"
      ]
     },
     "metadata": {},
     "output_type": "display_data"
    },
    {
     "name": "stdout",
     "output_type": "stream",
     "text": [
      "09/01/2023, 18:14:58# labels of 5000: tensor([ 80, 117,   1,  88,  55,  64,  52,  71, 132,   0,  85,   0,  20,  62,\n",
      "         42, 113], device='cuda:2') torch.Size([16])\n",
      "09/01/2023, 18:14:58# predicted of 5000: tensor([ 80, 117, 157,  51,  10,  21,  52,  88, 161,   0,  85,   0,  88,  62,\n",
      "         51,  51], device='cuda:2') torch.Size([16])\n",
      "09/01/2023, 18:17:09# total batches: 8300\n",
      "09/01/2023, 18:17:09# Epoch 9 | Train Loss: 2.7889 | Train Accuracy: 0.3787\n"
     ]
    },
    {
     "data": {
      "application/vnd.jupyter.widget-view+json": {
       "model_id": "b96e23e99ca0429583917ab583fb9145",
       "version_major": 2,
       "version_minor": 0
      },
      "text/plain": [
       "Validation:   0%|          | 0/1038 [00:00<?, ?it/s]"
      ]
     },
     "metadata": {},
     "output_type": "display_data"
    },
    {
     "name": "stdout",
     "output_type": "stream",
     "text": [
      "09/01/2023, 18:17:09# labels of Validation: tensor([ 65, 114,  53,  53, 104,  91, 115,  98,  39,  99, 124,  52, 119,  35,\n",
      "         85, 108], device='cuda:2') torch.Size([16])\n",
      "09/01/2023, 18:17:09# predicted of Validation: tensor([ 20, 132,  20,  20,  20, 132, 115,  20,  39,  99,  20,  52,  20,  35,\n",
      "         85, 132], device='cuda:2') torch.Size([16])\n",
      "09/01/2023, 18:17:09# labels of 0: tensor([ 65, 114,  53,  53, 104,  91, 115,  98,  39,  99, 124,  52, 119,  35,\n",
      "         85, 108], device='cuda:2') torch.Size([16])\n",
      "09/01/2023, 18:17:09# predicted of 0: tensor([ 20, 132,  20,  20,  20, 132, 115,  20,  39,  99,  20,  52,  20,  35,\n",
      "         85, 132], device='cuda:2') torch.Size([16])\n",
      "09/01/2023, 18:17:41# labels of Validation: tensor([ 21,  51,  80, 120, 160, 145,  47, 136,  54,   9, 137,  74, 147,  97,\n",
      "        163,  33], device='cuda:2') torch.Size([16])\n",
      "09/01/2023, 18:17:41# predicted of Validation: tensor([132, 132,  80, 120, 132, 145,  20, 136,  20,  20,  20,  20, 147,  20,\n",
      "         20,  20], device='cuda:2') torch.Size([16])\n",
      "09/01/2023, 18:17:42# Validation Loss: 2.7822 | Validation Accuracy: 0.3770\n",
      "\n",
      "09/01/2023, 18:17:42# Find a better model!!\n"
     ]
    },
    {
     "data": {
      "application/vnd.jupyter.widget-view+json": {
       "model_id": "f691045b2212412ebd9ccb9574d17761",
       "version_major": 2,
       "version_minor": 0
      },
      "text/plain": [
       "Training:   0%|          | 0/8300 [00:00<?, ?it/s]"
      ]
     },
     "metadata": {},
     "output_type": "display_data"
    },
    {
     "name": "stdout",
     "output_type": "stream",
     "text": [
      "09/01/2023, 18:20:59# labels of 5000: tensor([ 17,   7,  17, 100, 161, 115,   8,  25,   0, 134,  64, 129,  98,  25,\n",
      "        154, 131], device='cuda:2') torch.Size([16])\n",
      "09/01/2023, 18:20:59# predicted of 5000: tensor([ 17,   7,  17,  28, 161, 115,  91,  25,   0, 134,  68,  65,  20,  25,\n",
      "        154,  65], device='cuda:2') torch.Size([16])\n",
      "09/01/2023, 18:23:10# total batches: 8300\n",
      "09/01/2023, 18:23:10# Epoch 10 | Train Loss: 2.7797 | Train Accuracy: 0.3796\n"
     ]
    },
    {
     "data": {
      "application/vnd.jupyter.widget-view+json": {
       "model_id": "23c51f478ecd44978194bc6d182ba9ff",
       "version_major": 2,
       "version_minor": 0
      },
      "text/plain": [
       "Validation:   0%|          | 0/1038 [00:00<?, ?it/s]"
      ]
     },
     "metadata": {},
     "output_type": "display_data"
    },
    {
     "name": "stdout",
     "output_type": "stream",
     "text": [
      "09/01/2023, 18:23:10# labels of Validation: tensor([144,  83,  71, 157, 116, 154,  63,  83,  78, 130,   0,  93,  94, 126,\n",
      "         20,  62], device='cuda:2') torch.Size([16])\n",
      "09/01/2023, 18:23:10# predicted of Validation: tensor([124, 124, 124, 124, 124, 154, 124, 124,  67, 130,   0, 155,  94, 126,\n",
      "        124,  62], device='cuda:2') torch.Size([16])\n",
      "09/01/2023, 18:23:10# labels of 0: tensor([144,  83,  71, 157, 116, 154,  63,  83,  78, 130,   0,  93,  94, 126,\n",
      "         20,  62], device='cuda:2') torch.Size([16])\n",
      "09/01/2023, 18:23:10# predicted of 0: tensor([124, 124, 124, 124, 124, 154, 124, 124,  67, 130,   0, 155,  94, 126,\n",
      "        124,  62], device='cuda:2') torch.Size([16])\n",
      "09/01/2023, 18:23:40# labels of Validation: tensor([134, 121, 145,  55, 131,  82, 166, 162,  48,  76,  54, 150,  81,  57,\n",
      "          4,  36], device='cuda:2') torch.Size([16])\n",
      "09/01/2023, 18:23:40# predicted of Validation: tensor([134, 124, 145, 124, 132,  82, 132, 124, 124, 124, 124, 124, 124, 124,\n",
      "        124, 124], device='cuda:2') torch.Size([16])\n",
      "09/01/2023, 18:23:42# Validation Loss: 2.7734 | Validation Accuracy: 0.3773\n",
      "\n",
      "09/01/2023, 18:23:42# Find a better model!!\n"
     ]
    },
    {
     "data": {
      "application/vnd.jupyter.widget-view+json": {
       "model_id": "d976dfdf555640fabbb1b1db62bc6694",
       "version_major": 2,
       "version_minor": 0
      },
      "text/plain": [
       "Training:   0%|          | 0/8300 [00:00<?, ?it/s]"
      ]
     },
     "metadata": {},
     "output_type": "display_data"
    },
    {
     "name": "stdout",
     "output_type": "stream",
     "text": [
      "09/01/2023, 18:26:58# labels of 5000: tensor([155, 160,  30, 148, 143,  72, 130, 118, 105,  65, 152,  15,  80, 166,\n",
      "         64, 103], device='cuda:2') torch.Size([16])\n",
      "09/01/2023, 18:26:58# predicted of 5000: tensor([132, 101,  36, 132,  36,  72, 130, 118, 105,  65,  36,  15,  80, 161,\n",
      "         53, 101], device='cuda:2') torch.Size([16])\n",
      "09/01/2023, 18:29:07# total batches: 8300\n",
      "09/01/2023, 18:29:07# Epoch 11 | Train Loss: 2.7720 | Train Accuracy: 0.3798\n"
     ]
    },
    {
     "data": {
      "application/vnd.jupyter.widget-view+json": {
       "model_id": "504c8629810d43ce9bd2338adff8cd89",
       "version_major": 2,
       "version_minor": 0
      },
      "text/plain": [
       "Validation:   0%|          | 0/1038 [00:00<?, ?it/s]"
      ]
     },
     "metadata": {},
     "output_type": "display_data"
    },
    {
     "name": "stdout",
     "output_type": "stream",
     "text": [
      "09/01/2023, 18:29:08# labels of Validation: tensor([104, 138,  60, 141,  73, 100, 132,  50, 118, 159, 147,  42,  93,  14,\n",
      "         92,  77], device='cuda:2') torch.Size([16])\n",
      "09/01/2023, 18:29:08# predicted of Validation: tensor([144, 138, 144,   6,  73,   6, 161,  50, 118, 159, 147, 144,   6, 144,\n",
      "        144,   6], device='cuda:2') torch.Size([16])\n",
      "09/01/2023, 18:29:08# labels of 0: tensor([104, 138,  60, 141,  73, 100, 132,  50, 118, 159, 147,  42,  93,  14,\n",
      "         92,  77], device='cuda:2') torch.Size([16])\n",
      "09/01/2023, 18:29:08# predicted of 0: tensor([144, 138, 144,   6,  73,   6, 161,  50, 118, 159, 147, 144,   6, 144,\n",
      "        144,   6], device='cuda:2') torch.Size([16])\n",
      "09/01/2023, 18:29:41# labels of Validation: tensor([  4,  25, 127, 163,  38,  13, 135, 132,   2, 139, 164,  89,  98,  59,\n",
      "          0,  86], device='cuda:2') torch.Size([16])\n",
      "09/01/2023, 18:29:41# predicted of Validation: tensor([144,  25, 127, 144, 144,  13, 144, 161, 144, 144, 144,  89, 144,   6,\n",
      "          0, 144], device='cuda:2') torch.Size([16])\n",
      "09/01/2023, 18:29:42# Validation Loss: 2.7663 | Validation Accuracy: 0.3775\n",
      "\n",
      "09/01/2023, 18:29:42# Find a better model!!\n"
     ]
    },
    {
     "data": {
      "application/vnd.jupyter.widget-view+json": {
       "model_id": "dc12d29d9114490983cb526ed18d7f5c",
       "version_major": 2,
       "version_minor": 0
      },
      "text/plain": [
       "Training:   0%|          | 0/8300 [00:00<?, ?it/s]"
      ]
     },
     "metadata": {},
     "output_type": "display_data"
    },
    {
     "name": "stdout",
     "output_type": "stream",
     "text": [
      "09/01/2023, 18:33:04# labels of 5000: tensor([104, 104, 135,   7, 125, 156,  54,  88,  19, 101,  30,  70,  13,  96,\n",
      "        106,  17], device='cuda:2') torch.Size([16])\n",
      "09/01/2023, 18:33:04# predicted of 5000: tensor([111, 111, 111,   7,  63, 156, 111, 124, 114, 132, 114,  70,  13,  96,\n",
      "        106,  17], device='cuda:2') torch.Size([16])\n",
      "09/01/2023, 18:35:12# total batches: 8300\n",
      "09/01/2023, 18:35:12# Epoch 12 | Train Loss: 2.7649 | Train Accuracy: 0.3809\n"
     ]
    },
    {
     "data": {
      "application/vnd.jupyter.widget-view+json": {
       "model_id": "262f6737052348f3b2ac8cdd958ab046",
       "version_major": 2,
       "version_minor": 0
      },
      "text/plain": [
       "Validation:   0%|          | 0/1038 [00:00<?, ?it/s]"
      ]
     },
     "metadata": {},
     "output_type": "display_data"
    },
    {
     "name": "stdout",
     "output_type": "stream",
     "text": [
      "09/01/2023, 18:35:12# labels of Validation: tensor([135,  99,  94,  41,   0,  42,  72,   7,  39, 101, 156,  46, 106, 131,\n",
      "        138, 153], device='cuda:2') torch.Size([16])\n",
      "09/01/2023, 18:35:12# predicted of Validation: tensor([ 97,  99,  94,  97,   0,  97,  79,   7,  39, 161, 156,  97, 106, 161,\n",
      "        138,  97], device='cuda:2') torch.Size([16])\n",
      "09/01/2023, 18:35:12# labels of 0: tensor([135,  99,  94,  41,   0,  42,  72,   7,  39, 101, 156,  46, 106, 131,\n",
      "        138, 153], device='cuda:2') torch.Size([16])\n",
      "09/01/2023, 18:35:12# predicted of 0: tensor([ 97,  99,  94,  97,   0,  97,  79,   7,  39, 161, 156,  97, 106, 161,\n",
      "        138,  97], device='cuda:2') torch.Size([16])\n",
      "09/01/2023, 18:35:43# labels of Validation: tensor([ 74,  38,  63, 144,  68,  28,  30,   5,  65,  39,  62,  14, 110,  36,\n",
      "         62, 148], device='cuda:2') torch.Size([16])\n",
      "09/01/2023, 18:35:43# predicted of Validation: tensor([ 97,  97,  97,  97,  91, 161,  97,   5,  97,  39,  62,  97,  91,  97,\n",
      "         62,  91], device='cuda:2') torch.Size([16])\n",
      "09/01/2023, 18:35:45# Validation Loss: 2.7613 | Validation Accuracy: 0.3770\n",
      "\n",
      "09/01/2023, 18:35:45# Find a better model!!\n"
     ]
    },
    {
     "data": {
      "application/vnd.jupyter.widget-view+json": {
       "model_id": "a53f34dad48540b1a06e3d0b00bd9ac5",
       "version_major": 2,
       "version_minor": 0
      },
      "text/plain": [
       "Training:   0%|          | 0/8300 [00:00<?, ?it/s]"
      ]
     },
     "metadata": {},
     "output_type": "display_data"
    },
    {
     "name": "stdout",
     "output_type": "stream",
     "text": [
      "09/01/2023, 18:39:02# labels of 5000: tensor([ 93,  58,  38,  38, 101,  60,  26,  15, 107, 142,  46,  63,   6,  62,\n",
      "        109, 114], device='cuda:2') torch.Size([16])\n",
      "09/01/2023, 18:39:02# predicted of 5000: tensor([161,  54, 142,  54, 161,  54,  54,  15, 161, 112,  54,  54, 161,  62,\n",
      "         54, 161], device='cuda:2') torch.Size([16])\n",
      "09/01/2023, 18:41:12# total batches: 8300\n",
      "09/01/2023, 18:41:12# Epoch 13 | Train Loss: 2.7589 | Train Accuracy: 0.3809\n"
     ]
    },
    {
     "data": {
      "application/vnd.jupyter.widget-view+json": {
       "model_id": "6909ec7ae9f040e68c8b7265f7e2012b",
       "version_major": 2,
       "version_minor": 0
      },
      "text/plain": [
       "Validation:   0%|          | 0/1038 [00:00<?, ?it/s]"
      ]
     },
     "metadata": {},
     "output_type": "display_data"
    },
    {
     "name": "stdout",
     "output_type": "stream",
     "text": [
      "09/01/2023, 18:41:12# labels of Validation: tensor([ 35, 120,  70, 106,  81,  45, 107,  72,   7, 108,  38,  54,  14,  57,\n",
      "         67,  43], device='cuda:2') torch.Size([16])\n",
      "09/01/2023, 18:41:12# predicted of Validation: tensor([ 35, 120,  70, 106,  41,  45,   6,  72,   7,   6,  41,  41,  41,  41,\n",
      "         78,  41], device='cuda:2') torch.Size([16])\n",
      "09/01/2023, 18:41:12# labels of 0: tensor([ 35, 120,  70, 106,  81,  45, 107,  72,   7, 108,  38,  54,  14,  57,\n",
      "         67,  43], device='cuda:2') torch.Size([16])\n",
      "09/01/2023, 18:41:12# predicted of 0: tensor([ 35, 120,  70, 106,  41,  45,   6,  72,   7,   6,  41,  41,  41,  41,\n",
      "         78,  41], device='cuda:2') torch.Size([16])\n",
      "09/01/2023, 18:41:44# labels of Validation: tensor([123,  65, 132,  33, 136,  52, 136,  67, 125,  33, 134,   0,  71, 146,\n",
      "        137,  81], device='cuda:2') torch.Size([16])\n",
      "09/01/2023, 18:41:44# predicted of Validation: tensor([123,  41, 132,  41, 136,  52, 136,  67,  41,  41, 134,   0,  41, 146,\n",
      "         41,  41], device='cuda:2') torch.Size([16])\n",
      "09/01/2023, 18:41:46# Validation Loss: 2.7564 | Validation Accuracy: 0.3773\n",
      "\n",
      "09/01/2023, 18:41:46# Find a better model!!\n"
     ]
    },
    {
     "data": {
      "application/vnd.jupyter.widget-view+json": {
       "model_id": "a1264974d3324129ba5273b21eaa2161",
       "version_major": 2,
       "version_minor": 0
      },
      "text/plain": [
       "Training:   0%|          | 0/8300 [00:00<?, ?it/s]"
      ]
     },
     "metadata": {},
     "output_type": "display_data"
    },
    {
     "name": "stdout",
     "output_type": "stream",
     "text": [
      "09/01/2023, 18:45:01# labels of 5000: tensor([  2, 161, 148,   7, 138, 147,  23,   7,  42, 126,  87, 104, 100, 164,\n",
      "        153,  17], device='cuda:2') torch.Size([16])\n",
      "09/01/2023, 18:45:01# predicted of 5000: tensor([ 26, 132,  65,   7, 138, 147,  23,   7,  26, 126,  26,  26,  64,  26,\n",
      "         26,  17], device='cuda:2') torch.Size([16])\n",
      "09/01/2023, 18:47:12# total batches: 8300\n",
      "09/01/2023, 18:47:12# Epoch 14 | Train Loss: 2.7540 | Train Accuracy: 0.3815\n"
     ]
    },
    {
     "data": {
      "application/vnd.jupyter.widget-view+json": {
       "model_id": "8eeb5635b9904d29ade2037c1151695a",
       "version_major": 2,
       "version_minor": 0
      },
      "text/plain": [
       "Validation:   0%|          | 0/1038 [00:00<?, ?it/s]"
      ]
     },
     "metadata": {},
     "output_type": "display_data"
    },
    {
     "name": "stdout",
     "output_type": "stream",
     "text": [
      "09/01/2023, 18:47:12# labels of Validation: tensor([  7,  65, 111, 109,  57, 152,  21,  41, 102, 144,  65,  39,  19,  80,\n",
      "         76, 130], device='cuda:2') torch.Size([16])\n",
      "09/01/2023, 18:47:12# predicted of Validation: tensor([  7, 102, 102, 102, 102, 102, 161, 102, 102, 102, 102,  39, 102,  80,\n",
      "        102, 130], device='cuda:2') torch.Size([16])\n",
      "09/01/2023, 18:47:12# labels of 0: tensor([  7,  65, 111, 109,  57, 152,  21,  41, 102, 144,  65,  39,  19,  80,\n",
      "         76, 130], device='cuda:2') torch.Size([16])\n",
      "09/01/2023, 18:47:12# predicted of 0: tensor([  7, 102, 102, 102, 102, 102, 161, 102, 102, 102, 102,  39, 102,  80,\n",
      "        102, 130], device='cuda:2') torch.Size([16])\n",
      "09/01/2023, 18:47:46# labels of Validation: tensor([ 43, 111, 161,  93,  99, 152,  44, 142, 129, 132, 113, 119,  78,  12,\n",
      "        115,   3], device='cuda:2') torch.Size([16])\n",
      "09/01/2023, 18:47:46# predicted of Validation: tensor([102, 102, 161, 101,  99, 102, 102, 102, 101, 161, 101, 102,  67, 102,\n",
      "        115,   3], device='cuda:2') torch.Size([16])\n",
      "09/01/2023, 18:47:47# Validation Loss: 2.7514 | Validation Accuracy: 0.3783\n",
      "\n",
      "09/01/2023, 18:47:47# Find a better model!!\n"
     ]
    },
    {
     "data": {
      "application/vnd.jupyter.widget-view+json": {
       "model_id": "44a94cfeda8e46f989347b38a2e299ba",
       "version_major": 2,
       "version_minor": 0
      },
      "text/plain": [
       "Training:   0%|          | 0/8300 [00:00<?, ?it/s]"
      ]
     },
     "metadata": {},
     "output_type": "display_data"
    },
    {
     "name": "stdout",
     "output_type": "stream",
     "text": [
      "09/01/2023, 18:51:05# labels of 5000: tensor([152,  86, 134, 166, 102,  59,  89,  41, 143,  28, 104,  32, 166, 105,\n",
      "         50,  44], device='cuda:2') torch.Size([16])\n",
      "09/01/2023, 18:51:05# predicted of 5000: tensor([ 31, 102, 134,   6,  49,   6,  89, 102,  31,   6, 102,  32,   6, 105,\n",
      "         50, 102], device='cuda:2') torch.Size([16])\n",
      "09/01/2023, 18:53:11# total batches: 8300\n",
      "09/01/2023, 18:53:11# Epoch 15 | Train Loss: 2.7486 | Train Accuracy: 0.3822\n"
     ]
    },
    {
     "data": {
      "application/vnd.jupyter.widget-view+json": {
       "model_id": "fea2cb5244d5438a92fff4664e736431",
       "version_major": 2,
       "version_minor": 0
      },
      "text/plain": [
       "Validation:   0%|          | 0/1038 [00:00<?, ?it/s]"
      ]
     },
     "metadata": {},
     "output_type": "display_data"
    },
    {
     "name": "stdout",
     "output_type": "stream",
     "text": [
      "09/01/2023, 18:53:11# labels of Validation: tensor([139, 125, 101,  79,   6,  52,  39, 163,  70, 107, 105, 155,  53,  60,\n",
      "        151,  81], device='cuda:2') torch.Size([16])\n",
      "09/01/2023, 18:53:11# predicted of Validation: tensor([ 98,  98,  28,  79,  28,  52,  39,  98,  70,  28, 105,  28,  98,  98,\n",
      "         98,  98], device='cuda:2') torch.Size([16])\n",
      "09/01/2023, 18:53:11# labels of 0: tensor([139, 125, 101,  79,   6,  52,  39, 163,  70, 107, 105, 155,  53,  60,\n",
      "        151,  81], device='cuda:2') torch.Size([16])\n",
      "09/01/2023, 18:53:11# predicted of 0: tensor([ 98,  98,  28,  79,  28,  52,  39,  98,  70,  28, 105,  28,  98,  98,\n",
      "         98,  98], device='cuda:2') torch.Size([16])\n",
      "09/01/2023, 18:53:44# labels of Validation: tensor([ 34, 116, 156,  99, 144, 144,  86,  45,  98, 108,  29, 157,  66, 166,\n",
      "         56, 105], device='cuda:2') torch.Size([16])\n",
      "09/01/2023, 18:53:44# predicted of Validation: tensor([ 98,  98, 156,  99,  98,  98,  98,  45,  98,  28,  29,  98,  28,  28,\n",
      "         56, 105], device='cuda:2') torch.Size([16])\n",
      "09/01/2023, 18:53:46# Validation Loss: 2.7464 | Validation Accuracy: 0.3840\n",
      "\n",
      "09/01/2023, 18:53:46# Find a better model!!\n"
     ]
    },
    {
     "data": {
      "application/vnd.jupyter.widget-view+json": {
       "model_id": "558f469d37c84342aa23db8e02d38d8c",
       "version_major": 2,
       "version_minor": 0
      },
      "text/plain": [
       "Training:   0%|          | 0/8300 [00:00<?, ?it/s]"
      ]
     },
     "metadata": {},
     "output_type": "display_data"
    },
    {
     "name": "stdout",
     "output_type": "stream",
     "text": [
      "09/01/2023, 18:57:06# labels of 5000: tensor([ 56, 156,  49,  33, 122,  97,  75, 140,  94,  93,  23,  10, 111,  25,\n",
      "         65,  40], device='cuda:2') torch.Size([16])\n",
      "09/01/2023, 18:57:06# predicted of 5000: tensor([ 56, 156,  10,  71, 122,  87,  71, 140,  94,  28,  23,  71,  93,  25,\n",
      "         28,  40], device='cuda:2') torch.Size([16])\n",
      "09/01/2023, 18:59:17# total batches: 8300\n",
      "09/01/2023, 18:59:17# Epoch 16 | Train Loss: 2.7452 | Train Accuracy: 0.3828\n"
     ]
    },
    {
     "data": {
      "application/vnd.jupyter.widget-view+json": {
       "model_id": "c5da9fa9fb024ef8a8846ead736c44c8",
       "version_major": 2,
       "version_minor": 0
      },
      "text/plain": [
       "Validation:   0%|          | 0/1038 [00:00<?, ?it/s]"
      ]
     },
     "metadata": {},
     "output_type": "display_data"
    },
    {
     "name": "stdout",
     "output_type": "stream",
     "text": [
      "09/01/2023, 18:59:17# labels of Validation: tensor([ 61,  79, 159,  48,  46,  30,  67, 163,  83, 102, 152, 102, 143,  46,\n",
      "        112, 141], device='cuda:2') torch.Size([16])\n",
      "09/01/2023, 18:59:17# predicted of Validation: tensor([ 61,  79, 159, 121, 121, 121,  78, 121, 121, 121, 121, 121, 121, 121,\n",
      "        121, 108], device='cuda:2') torch.Size([16])\n",
      "09/01/2023, 18:59:17# labels of 0: tensor([ 61,  79, 159,  48,  46,  30,  67, 163,  83, 102, 152, 102, 143,  46,\n",
      "        112, 141], device='cuda:2') torch.Size([16])\n",
      "09/01/2023, 18:59:17# predicted of 0: tensor([ 61,  79, 159, 121, 121, 121,  78, 121, 121, 121, 121, 121, 121, 121,\n",
      "        121, 108], device='cuda:2') torch.Size([16])\n",
      "09/01/2023, 18:59:51# labels of Validation: tensor([ 30, 114,  89, 160,  90,  92,  65,  80,   3,  51, 130, 112, 160, 126,\n",
      "          8,  41], device='cuda:2') torch.Size([16])\n",
      "09/01/2023, 18:59:51# predicted of Validation: tensor([121, 108,  89, 108, 108, 121, 121,  80,   3, 132, 130, 121, 108, 126,\n",
      "        108, 121], device='cuda:2') torch.Size([16])\n",
      "09/01/2023, 18:59:52# Validation Loss: 2.7424 | Validation Accuracy: 0.3784\n",
      "\n",
      "09/01/2023, 18:59:52# Find a better model!!\n"
     ]
    },
    {
     "data": {
      "application/vnd.jupyter.widget-view+json": {
       "model_id": "66dd7bc7fcdd4a58b4e792fe724cef7a",
       "version_major": 2,
       "version_minor": 0
      },
      "text/plain": [
       "Training:   0%|          | 0/8300 [00:00<?, ?it/s]"
      ]
     },
     "metadata": {},
     "output_type": "display_data"
    },
    {
     "name": "stdout",
     "output_type": "stream",
     "text": [
      "09/01/2023, 19:03:11# labels of 5000: tensor([130, 145,  65,  17, 118,  43, 123,  78,  15, 101,  29, 157, 112,  93,\n",
      "        106,   8], device='cuda:2') torch.Size([16])\n",
      "09/01/2023, 19:03:11# predicted of 5000: tensor([130, 145,  20,  17, 118,  26, 123,  78,  15,  51,  29,  26,  20,  51,\n",
      "        106, 155], device='cuda:2') torch.Size([16])\n",
      "09/01/2023, 19:05:22# total batches: 8300\n",
      "09/01/2023, 19:05:22# Epoch 17 | Train Loss: 2.7404 | Train Accuracy: 0.3833\n"
     ]
    },
    {
     "data": {
      "application/vnd.jupyter.widget-view+json": {
       "model_id": "a2dcd25d7f0d4061a674554e9117cf7a",
       "version_major": 2,
       "version_minor": 0
      },
      "text/plain": [
       "Validation:   0%|          | 0/1038 [00:00<?, ?it/s]"
      ]
     },
     "metadata": {},
     "output_type": "display_data"
    },
    {
     "name": "stdout",
     "output_type": "stream",
     "text": [
      "09/01/2023, 19:05:22# labels of Validation: tensor([121, 123, 105, 113,  17,  16, 151,  94,  51, 132,  69,  63,  20,  18,\n",
      "         65,  88], device='cuda:2') torch.Size([16])\n",
      "09/01/2023, 19:05:22# predicted of Validation: tensor([ 98, 123, 105, 131,  17,  16,  98,  94, 132, 132,  69,  98,  98,  98,\n",
      "         98, 131], device='cuda:2') torch.Size([16])\n",
      "09/01/2023, 19:05:22# labels of 0: tensor([121, 123, 105, 113,  17,  16, 151,  94,  51, 132,  69,  63,  20,  18,\n",
      "         65,  88], device='cuda:2') torch.Size([16])\n",
      "09/01/2023, 19:05:22# predicted of 0: tensor([ 98, 123, 105, 131,  17,  16,  98,  94, 132, 132,  69,  98,  98,  98,\n",
      "         98, 131], device='cuda:2') torch.Size([16])\n",
      "09/01/2023, 19:05:57# labels of Validation: tensor([ 63, 123, 164,  91,  54, 114, 131,  52, 116, 154,   9,  38, 114,  73,\n",
      "          0,  87], device='cuda:2') torch.Size([16])\n",
      "09/01/2023, 19:05:57# predicted of Validation: tensor([ 98, 123,  98, 131,  98, 131, 132,  52,  98, 154,  98,  98, 131,  73,\n",
      "          0,  98], device='cuda:2') torch.Size([16])\n",
      "09/01/2023, 19:05:58# Validation Loss: 2.7389 | Validation Accuracy: 0.3784\n",
      "\n",
      "09/01/2023, 19:05:58# Find a better model!!\n"
     ]
    },
    {
     "data": {
      "application/vnd.jupyter.widget-view+json": {
       "model_id": "e065bbecf26f4450a73478f4820e243e",
       "version_major": 2,
       "version_minor": 0
      },
      "text/plain": [
       "Training:   0%|          | 0/8300 [00:00<?, ?it/s]"
      ]
     },
     "metadata": {},
     "output_type": "display_data"
    },
    {
     "name": "stdout",
     "output_type": "stream",
     "text": [
      "09/01/2023, 19:09:11# labels of 5000: tensor([143,  55, 106,  14,  42,  53, 131, 154,  44, 149,  32,  42, 121, 155,\n",
      "         29, 139], device='cuda:2') torch.Size([16])\n",
      "09/01/2023, 19:09:11# predicted of 5000: tensor([124,  97, 106, 112,  83,  83, 132, 154, 112, 149,  32, 124,  83,  28,\n",
      "         29, 124], device='cuda:2') torch.Size([16])\n",
      "09/01/2023, 19:11:19# total batches: 8300\n",
      "09/01/2023, 19:11:19# Epoch 18 | Train Loss: 2.7372 | Train Accuracy: 0.3833\n"
     ]
    },
    {
     "data": {
      "application/vnd.jupyter.widget-view+json": {
       "model_id": "b43dab46ddd844c2bdd97ec7e376ed3d",
       "version_major": 2,
       "version_minor": 0
      },
      "text/plain": [
       "Validation:   0%|          | 0/1038 [00:00<?, ?it/s]"
      ]
     },
     "metadata": {},
     "output_type": "display_data"
    },
    {
     "name": "stdout",
     "output_type": "stream",
     "text": [
      "09/01/2023, 19:11:19# labels of Validation: tensor([151,  56,  14, 101, 134, 123, 121,  31,  47, 156,  80,  31, 140, 142,\n",
      "        130,  59], device='cuda:2') torch.Size([16])\n",
      "09/01/2023, 19:11:19# predicted of Validation: tensor([ 24,  56,  24,   6, 134, 123,  24,  24,  24, 156,  80,  24, 140,  24,\n",
      "        130,   6], device='cuda:2') torch.Size([16])\n",
      "09/01/2023, 19:11:19# labels of 0: tensor([151,  56,  14, 101, 134, 123, 121,  31,  47, 156,  80,  31, 140, 142,\n",
      "        130,  59], device='cuda:2') torch.Size([16])\n",
      "09/01/2023, 19:11:19# predicted of 0: tensor([ 24,  56,  24,   6, 134, 123,  24,  24,  24, 156,  80,  24, 140,  24,\n",
      "        130,   6], device='cuda:2') torch.Size([16])\n",
      "09/01/2023, 19:11:50# labels of Validation: tensor([166, 163, 110,  74,  48,  32, 143,   4,  54, 146,  52,   2, 100, 142,\n",
      "         50,  49], device='cuda:2') torch.Size([16])\n",
      "09/01/2023, 19:11:50# predicted of Validation: tensor([  6,  24,  21,  24,  24,  32,  24,  24,  24, 146,  52,  24,  21,  24,\n",
      "         50,  24], device='cuda:2') torch.Size([16])\n",
      "09/01/2023, 19:11:51# Validation Loss: 2.7359 | Validation Accuracy: 0.3783\n",
      "\n",
      "09/01/2023, 19:11:51# Find a better model!!\n"
     ]
    },
    {
     "data": {
      "application/vnd.jupyter.widget-view+json": {
       "model_id": "5959c391796e461698da40098270f32e",
       "version_major": 2,
       "version_minor": 0
      },
      "text/plain": [
       "Training:   0%|          | 0/8300 [00:00<?, ?it/s]"
      ]
     },
     "metadata": {},
     "output_type": "display_data"
    },
    {
     "name": "stdout",
     "output_type": "stream",
     "text": [
      "09/01/2023, 19:15:10# labels of 5000: tensor([150,  76, 137,  18,  96,  32, 107,  80,  63, 132, 105,  50,  98,  47,\n",
      "        114,  26], device='cuda:2') torch.Size([16])\n",
      "09/01/2023, 19:15:10# predicted of 5000: tensor([114, 151, 151,  86,  96,  32,  51,  80, 114, 132, 105,  50, 114,  98,\n",
      "         51, 151], device='cuda:2') torch.Size([16])\n",
      "09/01/2023, 19:17:24# total batches: 8300\n",
      "09/01/2023, 19:17:24# Epoch 19 | Train Loss: 2.7337 | Train Accuracy: 0.3834\n"
     ]
    },
    {
     "data": {
      "application/vnd.jupyter.widget-view+json": {
       "model_id": "599ac183a96f4159805869e395a08bb5",
       "version_major": 2,
       "version_minor": 0
      },
      "text/plain": [
       "Validation:   0%|          | 0/1038 [00:00<?, ?it/s]"
      ]
     },
     "metadata": {},
     "output_type": "display_data"
    },
    {
     "name": "stdout",
     "output_type": "stream",
     "text": [
      "09/01/2023, 19:17:24# labels of Validation: tensor([ 83,  70,  61, 152, 153,  93,  28,  77, 165, 107,  16,  21, 142, 156,\n",
      "        110,  58], device='cuda:2') torch.Size([16])\n",
      "09/01/2023, 19:17:24# predicted of Validation: tensor([ 44,  70,  61,  44,  44, 129, 132, 132, 165, 129,  16, 132,  44, 156,\n",
      "        129,  44], device='cuda:2') torch.Size([16])\n",
      "09/01/2023, 19:17:24# labels of 0: tensor([ 83,  70,  61, 152, 153,  93,  28,  77, 165, 107,  16,  21, 142, 156,\n",
      "        110,  58], device='cuda:2') torch.Size([16])\n",
      "09/01/2023, 19:17:24# predicted of 0: tensor([ 44,  70,  61,  44,  44, 129, 132, 132, 165, 129,  16, 132,  44, 156,\n",
      "        129,  44], device='cuda:2') torch.Size([16])\n",
      "09/01/2023, 19:17:56# labels of Validation: tensor([133,  85, 105, 137, 103,  11,  89,  78, 130, 101,  37, 136, 166, 131,\n",
      "        115, 166], device='cuda:2') torch.Size([16])\n",
      "09/01/2023, 19:17:56# predicted of Validation: tensor([129,  85, 105,  44, 129,  44,  89,  67, 130, 132, 129, 136, 132, 132,\n",
      "        115, 132], device='cuda:2') torch.Size([16])\n",
      "09/01/2023, 19:17:57# Validation Loss: 2.7316 | Validation Accuracy: 0.3849\n",
      "\n",
      "09/01/2023, 19:17:57# Find a better model!!\n"
     ]
    },
    {
     "data": {
      "application/vnd.jupyter.widget-view+json": {
       "model_id": "7bf479efd1684911848fe5bd46ede191",
       "version_major": 2,
       "version_minor": 0
      },
      "text/plain": [
       "Training:   0%|          | 0/8300 [00:00<?, ?it/s]"
      ]
     },
     "metadata": {},
     "output_type": "display_data"
    },
    {
     "name": "stdout",
     "output_type": "stream",
     "text": [
      "09/01/2023, 19:21:13# labels of 5000: tensor([ 67,  12, 118, 129, 146, 119,  29, 126,  91,  43,  44, 151,   1,  17,\n",
      "         84, 158], device='cuda:2') torch.Size([16])\n",
      "09/01/2023, 19:21:13# predicted of 5000: tensor([ 78, 133, 118,  51, 146,  42,  29, 126,  51,  54,  42,   9, 116,  17,\n",
      "         84, 150], device='cuda:2') torch.Size([16])\n",
      "09/01/2023, 19:23:24# total batches: 8300\n",
      "09/01/2023, 19:23:24# Epoch 20 | Train Loss: 2.7311 | Train Accuracy: 0.3836\n"
     ]
    },
    {
     "data": {
      "application/vnd.jupyter.widget-view+json": {
       "model_id": "6d25eceefbab4e868c5b6ee0c471ea46",
       "version_major": 2,
       "version_minor": 0
      },
      "text/plain": [
       "Validation:   0%|          | 0/1038 [00:00<?, ?it/s]"
      ]
     },
     "metadata": {},
     "output_type": "display_data"
    },
    {
     "name": "stdout",
     "output_type": "stream",
     "text": [
      "09/01/2023, 19:23:24# labels of Validation: tensor([ 74, 150, 127,  90,  87,  41, 120,   7, 144, 149,  10,  85,  88, 101,\n",
      "         52,  13], device='cuda:2') torch.Size([16])\n",
      "09/01/2023, 19:23:24# predicted of Validation: tensor([  4,   4, 127,  77,   4,   4, 120,   7,   4, 149,   4,  85,  77, 161,\n",
      "         52,  13], device='cuda:2') torch.Size([16])\n",
      "09/01/2023, 19:23:24# labels of 0: tensor([ 74, 150, 127,  90,  87,  41, 120,   7, 144, 149,  10,  85,  88, 101,\n",
      "         52,  13], device='cuda:2') torch.Size([16])\n",
      "09/01/2023, 19:23:24# predicted of 0: tensor([  4,   4, 127,  77,   4,   4, 120,   7,   4, 149,   4,  85,  77, 161,\n",
      "         52,  13], device='cuda:2') torch.Size([16])\n",
      "09/01/2023, 19:23:55# labels of Validation: tensor([ 67,  95, 164,  73, 156, 116, 109,  83, 117,  37,  56,  75,  51, 158,\n",
      "         15, 140], device='cuda:2') torch.Size([16])\n",
      "09/01/2023, 19:23:55# predicted of Validation: tensor([ 78,  95,   4,  73, 156,   4,   4,   4, 117,  77,  56,   4, 161,   4,\n",
      "         15, 140], device='cuda:2') torch.Size([16])\n",
      "09/01/2023, 19:23:56# Validation Loss: 2.7297 | Validation Accuracy: 0.3786\n",
      "\n",
      "09/01/2023, 19:23:56# Find a better model!!\n"
     ]
    },
    {
     "data": {
      "application/vnd.jupyter.widget-view+json": {
       "model_id": "15dc4bce7bd4421393ac446b0d9430a2",
       "version_major": 2,
       "version_minor": 0
      },
      "text/plain": [
       "Training:   0%|          | 0/8300 [00:00<?, ?it/s]"
      ]
     },
     "metadata": {},
     "output_type": "display_data"
    },
    {
     "name": "stdout",
     "output_type": "stream",
     "text": [
      "09/01/2023, 19:27:09# labels of 5000: tensor([118,  69,  60, 144,  84,   4,  28, 124,  99,  61, 137,  30,  99, 129,\n",
      "         94,  42], device='cuda:2') torch.Size([16])\n",
      "09/01/2023, 19:27:09# predicted of 5000: tensor([118,  69,  12,  12,  84,  12, 161,   1,  99,  61,  38,  65,  99,  51,\n",
      "         94,  38], device='cuda:2') torch.Size([16])\n",
      "09/01/2023, 19:28:41# total batches: 8300\n",
      "09/01/2023, 19:28:41# Epoch 21 | Train Loss: 2.7277 | Train Accuracy: 0.3844\n"
     ]
    },
    {
     "data": {
      "application/vnd.jupyter.widget-view+json": {
       "model_id": "dbe161f8c69e41e7a41a1b8c8b33330d",
       "version_major": 2,
       "version_minor": 0
      },
      "text/plain": [
       "Validation:   0%|          | 0/1038 [00:00<?, ?it/s]"
      ]
     },
     "metadata": {},
     "output_type": "display_data"
    },
    {
     "name": "stdout",
     "output_type": "stream",
     "text": [
      "09/01/2023, 19:28:42# labels of Validation: tensor([151,  83,   0,  48,  84,  45,  38,  13, 148, 138, 137,  60,  62, 141,\n",
      "         85, 136], device='cuda:2') torch.Size([16])\n",
      "09/01/2023, 19:28:42# predicted of Validation: tensor([119, 119,   0, 119,  84,  45, 119,  13,  21, 138, 119, 119,  62,  21,\n",
      "         85, 136], device='cuda:2') torch.Size([16])\n",
      "09/01/2023, 19:28:42# labels of 0: tensor([151,  83,   0,  48,  84,  45,  38,  13, 148, 138, 137,  60,  62, 141,\n",
      "         85, 136], device='cuda:2') torch.Size([16])\n",
      "09/01/2023, 19:28:42# predicted of 0: tensor([119, 119,   0, 119,  84,  45, 119,  13,  21, 138, 119, 119,  62,  21,\n",
      "         85, 136], device='cuda:2') torch.Size([16])\n",
      "09/01/2023, 19:29:05# labels of Validation: tensor([161, 141, 133,  66, 128,  42,  90,   1,  36,  79, 163,  74,  88,  62,\n",
      "        129,  78], device='cuda:2') torch.Size([16])\n",
      "09/01/2023, 19:29:05# predicted of Validation: tensor([132,  21,  21,   6, 128, 119,  21, 119, 119,  72, 119, 119,  21,  62,\n",
      "         21,  78], device='cuda:2') torch.Size([16])\n",
      "09/01/2023, 19:29:06# Validation Loss: 2.7272 | Validation Accuracy: 0.3786\n",
      "\n",
      "09/01/2023, 19:29:06# Find a better model!!\n"
     ]
    },
    {
     "data": {
      "application/vnd.jupyter.widget-view+json": {
       "model_id": "460e770b19144b5eb97a0c132728f585",
       "version_major": 2,
       "version_minor": 0
      },
      "text/plain": [
       "Training:   0%|          | 0/8300 [00:00<?, ?it/s]"
      ]
     },
     "metadata": {},
     "output_type": "display_data"
    },
    {
     "name": "stdout",
     "output_type": "stream",
     "text": [
      "09/01/2023, 19:31:45# labels of 5000: tensor([ 34,  21, 133,  67,  72,  66,  46, 146,  43, 103,  33,  53, 150,  64,\n",
      "        131,  12], device='cuda:2') torch.Size([16])\n",
      "09/01/2023, 19:31:45# predicted of 5000: tensor([112, 161, 155,  67,   5, 161, 112, 146,  75,  75,  75,  75,  75,  88,\n",
      "        161,  47], device='cuda:2') torch.Size([16])\n",
      "09/01/2023, 19:33:47# total batches: 8300\n",
      "09/01/2023, 19:33:47# Epoch 22 | Train Loss: 2.7254 | Train Accuracy: 0.3845\n"
     ]
    },
    {
     "data": {
      "application/vnd.jupyter.widget-view+json": {
       "model_id": "d737605ebae44e9abbe5014ba239431f",
       "version_major": 2,
       "version_minor": 0
      },
      "text/plain": [
       "Validation:   0%|          | 0/1038 [00:00<?, ?it/s]"
      ]
     },
     "metadata": {},
     "output_type": "display_data"
    },
    {
     "name": "stdout",
     "output_type": "stream",
     "text": [
      "09/01/2023, 19:33:47# labels of Validation: tensor([151, 124,   4, 141,  88,  16,  80,  81,  98,  45, 136,  92, 114,  49,\n",
      "        134, 140], device='cuda:2') torch.Size([16])\n",
      "09/01/2023, 19:33:47# predicted of Validation: tensor([ 86,  86,  86, 108, 108,  16,  80,  86,  86,  45, 136,  86, 108,  86,\n",
      "        134, 140], device='cuda:2') torch.Size([16])\n",
      "09/01/2023, 19:33:47# labels of 0: tensor([151, 124,   4, 141,  88,  16,  80,  81,  98,  45, 136,  92, 114,  49,\n",
      "        134, 140], device='cuda:2') torch.Size([16])\n",
      "09/01/2023, 19:33:47# predicted of 0: tensor([ 86,  86,  86, 108, 108,  16,  80,  86,  86,  45, 136,  86, 108,  86,\n",
      "        134, 140], device='cuda:2') torch.Size([16])\n",
      "09/01/2023, 19:34:16# labels of Validation: tensor([ 26,  84,  51,  10,  86,  32, 123,  38,  34,  62,  59,   8, 140, 129,\n",
      "         52, 128], device='cuda:2') torch.Size([16])\n",
      "09/01/2023, 19:34:16# predicted of Validation: tensor([ 86,  84, 132,  86,  86,  32, 123,  86,  86,  62, 108, 108, 140, 108,\n",
      "         52, 128], device='cuda:2') torch.Size([16])\n",
      "09/01/2023, 19:34:17# Validation Loss: 2.7257 | Validation Accuracy: 0.3789\n",
      "\n",
      "09/01/2023, 19:34:17# Find a better model!!\n"
     ]
    },
    {
     "data": {
      "application/vnd.jupyter.widget-view+json": {
       "model_id": "f96caf01097d49f5bf3e260d564518cc",
       "version_major": 2,
       "version_minor": 0
      },
      "text/plain": [
       "Training:   0%|          | 0/8300 [00:00<?, ?it/s]"
      ]
     },
     "metadata": {},
     "output_type": "display_data"
    },
    {
     "name": "stdout",
     "output_type": "stream",
     "text": [
      "09/01/2023, 19:37:31# labels of 5000: tensor([165, 165, 153,  20,  48,  30, 148,  46,  63,  87,  90,  41,  64,  13,\n",
      "         26, 111], device='cuda:2') torch.Size([16])\n",
      "09/01/2023, 19:37:31# predicted of 5000: tensor([165, 165,  71,  58,  87,  83,  91,  33,  98, 143,  65,  71, 108,  13,\n",
      "         71,  33], device='cuda:2') torch.Size([16])\n",
      "09/01/2023, 19:39:37# total batches: 8300\n",
      "09/01/2023, 19:39:37# Epoch 23 | Train Loss: 2.7238 | Train Accuracy: 0.3841\n"
     ]
    },
    {
     "data": {
      "application/vnd.jupyter.widget-view+json": {
       "model_id": "7db8e8d459404b72bff50a591d01823a",
       "version_major": 2,
       "version_minor": 0
      },
      "text/plain": [
       "Validation:   0%|          | 0/1038 [00:00<?, ?it/s]"
      ]
     },
     "metadata": {},
     "output_type": "display_data"
    },
    {
     "name": "stdout",
     "output_type": "stream",
     "text": [
      "09/01/2023, 19:39:37# labels of Validation: tensor([ 40, 124, 165, 157,  57, 165, 160,  19,   7, 131, 153,  59,  53,  40,\n",
      "         82, 135], device='cuda:2') torch.Size([16])\n",
      "09/01/2023, 19:39:37# predicted of Validation: tensor([ 40,   1, 165,   1,   1, 165, 108,   1,   7, 132,   1, 132,   1,  40,\n",
      "         82,   1], device='cuda:2') torch.Size([16])\n",
      "09/01/2023, 19:39:37# labels of 0: tensor([ 40, 124, 165, 157,  57, 165, 160,  19,   7, 131, 153,  59,  53,  40,\n",
      "         82, 135], device='cuda:2') torch.Size([16])\n",
      "09/01/2023, 19:39:37# predicted of 0: tensor([ 40,   1, 165,   1,   1, 165, 108,   1,   7, 132,   1, 132,   1,  40,\n",
      "         82,   1], device='cuda:2') torch.Size([16])\n",
      "09/01/2023, 19:40:06# labels of Validation: tensor([130,  84, 162,  81,  17,  81, 129,  10,  31,  75, 102,  88,  98,  70,\n",
      "         25,  21], device='cuda:2') torch.Size([16])\n",
      "09/01/2023, 19:40:06# predicted of Validation: tensor([130,  84,   1,   1,  17,   1, 108,   1,   1,   1,   1, 108,   1,  70,\n",
      "         25, 132], device='cuda:2') torch.Size([16])\n",
      "09/01/2023, 19:40:07# Validation Loss: 2.7207 | Validation Accuracy: 0.3789\n",
      "\n",
      "09/01/2023, 19:40:07# Find a better model!!\n"
     ]
    },
    {
     "data": {
      "application/vnd.jupyter.widget-view+json": {
       "model_id": "7473bdc914ad4f349f2f1ea31f788802",
       "version_major": 2,
       "version_minor": 0
      },
      "text/plain": [
       "Training:   0%|          | 0/8300 [00:00<?, ?it/s]"
      ]
     },
     "metadata": {},
     "output_type": "display_data"
    },
    {
     "name": "stdout",
     "output_type": "stream",
     "text": [
      "09/01/2023, 19:43:19# labels of 5000: tensor([150,  97,  26, 122,  28, 111, 149, 134,  93, 132,  53,  29,   8, 165,\n",
      "         24,  30], device='cuda:2') torch.Size([16])\n",
      "09/01/2023, 19:43:19# predicted of 5000: tensor([ 57, 111, 111, 122, 161, 100, 149, 134,  59, 161, 111,  29, 100, 165,\n",
      "        111, 104], device='cuda:2') torch.Size([16])\n",
      "09/01/2023, 19:45:24# total batches: 8300\n",
      "09/01/2023, 19:45:24# Epoch 24 | Train Loss: 2.7210 | Train Accuracy: 0.3856\n"
     ]
    },
    {
     "data": {
      "application/vnd.jupyter.widget-view+json": {
       "model_id": "d15ac11a56fd4b62a2b022761ec06a6f",
       "version_major": 2,
       "version_minor": 0
      },
      "text/plain": [
       "Validation:   0%|          | 0/1038 [00:00<?, ?it/s]"
      ]
     },
     "metadata": {},
     "output_type": "display_data"
    },
    {
     "name": "stdout",
     "output_type": "stream",
     "text": [
      "09/01/2023, 19:45:24# labels of Validation: tensor([ 40, 116,  12,  65,  71,  93,  12, 139, 148, 107,  73,  61, 111, 134,\n",
      "         70,  50], device='cuda:2') torch.Size([16])\n",
      "09/01/2023, 19:45:24# predicted of Validation: tensor([ 40, 151, 151, 151, 151,  91, 151, 151,  91,  91,  73,  61, 151, 134,\n",
      "         70,  50], device='cuda:2') torch.Size([16])\n",
      "09/01/2023, 19:45:24# labels of 0: tensor([ 40, 116,  12,  65,  71,  93,  12, 139, 148, 107,  73,  61, 111, 134,\n",
      "         70,  50], device='cuda:2') torch.Size([16])\n",
      "09/01/2023, 19:45:24# predicted of 0: tensor([ 40, 151, 151, 151, 151,  91, 151, 151,  91,  91,  73,  61, 151, 134,\n",
      "         70,  50], device='cuda:2') torch.Size([16])\n"
     ]
    }
   ],
   "source": [
    "import csv\n",
    "import pandas as pd\n",
    "from sklearn.metrics import classification_report\n",
    "from torch.optim import AdamW, lr_scheduler\n",
    "\n",
    "seed = 8787\n",
    "same_seeds(seed)\n",
    "\n",
    "model = GAT(in_dim=50, hidden_dim=16, out_dim=168, num_heads=8)\n",
    "# in_dim means the dimension of the node_feat(50 dim, since the 50-dim embedding)\n",
    "# out_dim means the # of the categories -> 168 for out tasks\n",
    "model.load_state_dict(torch.load('model1_initial/initial_weight.pth'))\n",
    "best_model_path = \"../checkpoint_GAT/best_model_GAT_transR_50.pt\"\n",
    "\n",
    "model = model.to(device)\n",
    "\n",
    "# optimizer = torch.optim.AdamW(model.parameters(), lr=1e-5)\n",
    "optimizer = AdamW(model.parameters(), lr=5e-4)\n",
    "# scheduler = get_linear_schedule_with_warmup(optimizer, num_warmup_steps=18, num_training_steps=total_steps)\n",
    "\n",
    "# T_max control the period of the lr changing -> set 1/10 first\n",
    "scheduler = lr_scheduler.CosineAnnealingLR(optimizer, T_max=36, eta_min=0, last_epoch=- 1, verbose=False)\n",
    "\n",
    "\n",
    "criterion = nn.CrossEntropyLoss()\n",
    "total_steps = 100\n",
    "\n",
    "# save the best model\n",
    "best_val_loss = float('inf')\n",
    "patience = 10  # Number of epochs with no improvement after which training will be stopped.\n",
    "waiting = 0  # The number of epochs with no improvement so far.\n",
    "\n",
    "\n",
    "# Training Part\n",
    "for epoch in tqdm(range(total_steps)):\n",
    "    # Train\n",
    "    model.train()\n",
    "    total_loss = 0.0\n",
    "    total_accuracy = 0.0\n",
    "    num_batches = 0\n",
    "    \n",
    "    for data in tqdm(dataloaders['train'], desc=\"Training\", position=0, leave=True):\n",
    "        num_batches += 1\n",
    "        loss, accuracy, _ = model_fn(data, model, criterion, device, num_batches, which_type='train')\n",
    "        \n",
    "        optimizer.zero_grad()\n",
    "        loss.backward()\n",
    "        optimizer.step()\n",
    "\n",
    "        total_loss += loss.item()\n",
    "        total_accuracy += accuracy.item()\n",
    "\n",
    "        \n",
    "#     scheduler.step()\n",
    "    add_log_msg(f\"total batches: {num_batches}\")\n",
    "\n",
    "    avg_loss = total_loss / num_batches\n",
    "    avg_accuracy = total_accuracy / num_batches\n",
    "\n",
    "    add_log_msg(f'Epoch {epoch} | Train Loss: {avg_loss:.4f} | Train Accuracy: {avg_accuracy:.4f}')\n",
    "\n",
    "    \n",
    "    # Validation Part\n",
    "    model.eval()\n",
    "    total_accuracy = 0.0\n",
    "    total_loss = 0.0\n",
    "    num_batches = 0\n",
    "\n",
    "\n",
    "    with torch.no_grad():\n",
    "        for data in tqdm(dataloaders['valid'], desc=\"Validation\", position=0, leave=True):\n",
    "            loss, accuracy, _ = model_fn(data, model, criterion, device, num_batches, which_type='validation')\n",
    "            total_accuracy += accuracy.item()\n",
    "            total_loss += loss.item()\n",
    "            num_batches += 1\n",
    "\n",
    "    avg_accuracy = total_accuracy / num_batches\n",
    "    current_loss = total_loss / num_batches\n",
    "    \n",
    "    add_log_msg(f'Validation Loss: {current_loss:.4f} | Validation Accuracy: {avg_accuracy:.4f}\\n')\n",
    "    \n",
    "            \n",
    "    if current_loss < best_val_loss:\n",
    "        best_val_loss = current_loss\n",
    "        waiting = 0\n",
    "        \n",
    "        if os.path.exists(best_model_path):\n",
    "            os.remove(best_model_path)\n",
    "            add_log_msg(\"Find a better model!!\")\n",
    "\n",
    "        torch.save(model.state_dict(), best_model_path)\n",
    "\n",
    "        \n",
    "#         print(best_model_path)\n",
    "\n",
    "    else:\n",
    "        waiting += 1\n",
    "        if waiting >= patience:\n",
    "            add_log_msg(\"============================== Early stopping ==================================\")\n",
    "            break"
   ]
  },
  {
   "cell_type": "markdown",
   "metadata": {},
   "source": [
    "### Testing Part"
   ]
  },
  {
   "cell_type": "code",
   "execution_count": null,
   "metadata": {},
   "outputs": [],
   "source": [
    "# load the pretrained model\n",
    "pretrained_model_path = '../checkpoint_GAT/best_model_GAT_transR_50.pt'\n",
    "model.load_state_dict(torch.load(pretrained_model_path))\n",
    "\n",
    "model.to(device)\n",
    "model.eval()\n",
    "\n",
    "total = 0\n",
    "correct = 0\n",
    "count = 0\n",
    "\n",
    "true_labels = []\n",
    "predicted_labels = []\n",
    "\n",
    "with torch.no_grad():\n",
    "    for data in tqdm(dataloaders['test'], desc=\"Testing\", position=0, leave=True):\n",
    "\n",
    "        loss, accuracy, predicted = model_fn(data, model, criterion, device, count, which_type='test')\n",
    "        labels = data[1].to(device)\n",
    "        \n",
    "        true_labels.extend(labels.cpu().numpy())\n",
    "        predicted_labels.extend(predicted.cpu().numpy())\n",
    "        \n",
    "        if count % 5000 == 0:\n",
    "            add_log_msg(f\"labels: {labels} {labels.shape}\")\n",
    "            add_log_msg(f\"predicted: {predicted} {predicted.shape}\")\n",
    "            \n",
    "        count += 1\n",
    "        \n",
    "        total += labels.size(0)\n",
    "        correct += (predicted == labels).sum().item()\n",
    "\n",
    "add_log_msg(f'Test Accuracy: {100 * correct / total} %\\n\\n\\n')\n",
    "\n",
    "\n",
    "# ======================================== handlig the output excel files ========================================\n",
    "mapping_file = './new_mapping.txt'\n",
    "label_mapping = {}\n",
    "with open(mapping_file, 'r') as f:\n",
    "    for line in f:\n",
    "        parts = line.strip().split(': ')\n",
    "        label_mapping[int(parts[1])] = parts[0]\n",
    "        \n",
    "# 将映射后的标签应用到true和predicted标签列表\n",
    "mapped_true_labels = [label_mapping[label] for label in true_labels]\n",
    "mapped_predicted_labels = [label_mapping[label] for label in predicted_labels]\n",
    "\n",
    "# 生成Scikit-learn报告信息的DataFrame\n",
    "report_data = classification_report(mapped_true_labels, mapped_predicted_labels, output_dict=True)\n",
    "report_df = pd.DataFrame(report_data).transpose()\n",
    "\n",
    "report_folder = 'classification_report'\n",
    "os.makedirs(report_folder, exist_ok=True)\n",
    "\n",
    "count = 0\n",
    "while True:\n",
    "    report_filename = f'classification_report-transR_50-{count}.xlsx'\n",
    "    labels_filename = f'mapped_true_predicted_labels-transR_50-{count}.xlsx'\n",
    "    \n",
    "    report_path = os.path.join(report_folder, report_filename)\n",
    "    labels_path = os.path.join(report_folder, labels_filename)\n",
    "    \n",
    "    if not os.path.exists(report_path) and not os.path.exists(labels_path):\n",
    "        break\n",
    "    count += 1\n",
    "\n",
    "    \n",
    "report_df.to_excel(report_path, index_label='Label')\n",
    "\n",
    "mapped_labels_df = pd.DataFrame({'true_label': mapped_true_labels, 'predicted_label': mapped_predicted_labels})\n",
    "mapped_labels_df.to_excel(labels_path, index=False)\n",
    "\n",
    "add_log_msg(f\"report path: {report_path}\")\n",
    "add_log_msg(f\"label path: {labels_path}\")\n",
    "\n",
    "mapped_report = classification_report(mapped_true_labels, mapped_predicted_labels)\n",
    "add_log_msg(f\"mapped_report:\\n{mapped_report}\")"
   ]
  },
  {
   "cell_type": "code",
   "execution_count": null,
   "metadata": {},
   "outputs": [],
   "source": []
  }
 ],
 "metadata": {
  "kernelspec": {
   "display_name": "Python 3",
   "language": "python",
   "name": "python3"
  },
  "language_info": {
   "codemirror_mode": {
    "name": "ipython",
    "version": 3
   },
   "file_extension": ".py",
   "mimetype": "text/x-python",
   "name": "python",
   "nbconvert_exporter": "python",
   "pygments_lexer": "ipython3",
   "version": "3.6.9"
  }
 },
 "nbformat": 4,
 "nbformat_minor": 2
}
