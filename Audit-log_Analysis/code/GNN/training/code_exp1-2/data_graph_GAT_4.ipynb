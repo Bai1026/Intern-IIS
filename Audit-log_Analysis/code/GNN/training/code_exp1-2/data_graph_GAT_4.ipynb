{
 "cells": [
  {
   "cell_type": "markdown",
   "metadata": {},
   "source": [
    "# Test of GAT\n",
    "- use DGL\n",
    "- predict `graphs`\n",
    "- test: 0~99\n",
    "- validation: 100~199\n",
    "- train: 200~999\n",
    "- larger lr with scheduler"
   ]
  },
  {
   "cell_type": "code",
   "execution_count": 1,
   "metadata": {},
   "outputs": [],
   "source": [
    "import os\n",
    "import dgl\n",
    "import json\n",
    "import torch\n",
    "import torch as th\n",
    "# from tqdm import tqdm\n",
    "from tqdm.notebook import tqdm  # 使用 notebook 版本的 tqdm\n",
    "import torch.nn as nn\n",
    "from dgl.nn import GraphConv, GATConv\n",
    "import torch.nn.functional as F\n",
    "from torch.utils.data import Dataset, DataLoader\n",
    "from transformers import get_linear_schedule_with_warmup\n",
    "from torch.optim import AdamW"
   ]
  },
  {
   "cell_type": "markdown",
   "metadata": {},
   "source": [
    "- check the GPU and assign the GPU by the best memory usage"
   ]
  },
  {
   "cell_type": "code",
   "execution_count": 2,
   "metadata": {},
   "outputs": [
    {
     "name": "stdout",
     "output_type": "stream",
     "text": [
      "cuda:1\n"
     ]
    }
   ],
   "source": [
    "import subprocess\n",
    "import torch\n",
    "\n",
    "def get_free_gpu():\n",
    "    try:\n",
    "        # Run nvidia-smi command to get GPU details\n",
    "        _output_to_list = lambda x: x.decode('ascii').split('\\n')[:-1]\n",
    "        command = \"nvidia-smi --query-gpu=memory.free --format=csv,nounits,noheader\"\n",
    "        memory_free_info = _output_to_list(subprocess.check_output(command.split())) \n",
    "        memory_free_values = [int(x) for i, x in enumerate(memory_free_info)]\n",
    "        \n",
    "        # Get the GPU with the maximum free memory\n",
    "        best_gpu_id = memory_free_values.index(max(memory_free_values))\n",
    "        return best_gpu_id\n",
    "    except:\n",
    "        # If any exception occurs, default to GPU 0 (this handles cases where nvidia-smi isn't installed)\n",
    "        return 0\n",
    "\n",
    "if torch.cuda.is_available():\n",
    "    # Get the best GPU ID based on free memory and set it\n",
    "    best_gpu_id = get_free_gpu()\n",
    "    device = torch.device(f\"cuda:{best_gpu_id}\")\n",
    "else:\n",
    "    device = torch.device(\"cpu\")\n",
    "    print(\"there's no available GPU\")\n",
    "\n",
    "print(device)\n"
   ]
  },
  {
   "cell_type": "markdown",
   "metadata": {},
   "source": [
    "## Fix the seed"
   ]
  },
  {
   "cell_type": "code",
   "execution_count": 3,
   "metadata": {},
   "outputs": [],
   "source": [
    "import numpy as np\n",
    "import torch\n",
    "import random\n",
    "\n",
    "#fix seed\n",
    "def same_seeds(seed = 8787):\n",
    "    torch.manual_seed(seed)\n",
    "    # random.seed(seed) \n",
    "    if torch.cuda.is_available():\n",
    "        torch.cuda.manual_seed(seed)\n",
    "        torch.cuda.manual_seed_all(seed)  \n",
    "    np.random.seed(seed)  \n",
    "    torch.backends.cudnn.benchmark = False\n",
    "    torch.backends.cudnn.deterministic = True"
   ]
  },
  {
   "cell_type": "markdown",
   "metadata": {},
   "source": [
    "## Data Loader"
   ]
  },
  {
   "cell_type": "code",
   "execution_count": 4,
   "metadata": {},
   "outputs": [],
   "source": [
    "class GraphDataset(Dataset):\n",
    "    def __init__(self, data_list, device):\n",
    "        self.data_list = data_list\n",
    "        self.device = device\n",
    "\n",
    "    def __len__(self):\n",
    "        return len(self.data_list)\n",
    "    \n",
    "    def __getitem__(self, idx):\n",
    "        data = self.data_list[idx]\n",
    "\n",
    "        g = dgl.graph((th.tensor(data[\"edge_index\"][0]), th.tensor(data[\"edge_index\"][1])), num_nodes=data[\"num_nodes\"]).to(self.device)\n",
    "\n",
    "        g.ndata['feat'] = th.tensor(data[\"node_feat\"]).to(self.device)\n",
    "        g.edata['feat'] = th.tensor(data[\"edge_attr\"]).to(self.device)  # Add edge features to graph\n",
    "\n",
    "        return g, th.tensor(data[\"label\"]).to(self.device)\n",
    "\n",
    "\n",
    "def collate(samples):\n",
    "    # The input `samples` is a list of pairs\n",
    "    #  (graph, label).\n",
    "    graphs, labels = map(list, zip(*samples))\n",
    "    batched_graph = dgl.batch(graphs)\n",
    "    return batched_graph, torch.tensor(labels)\n"
   ]
  },
  {
   "cell_type": "code",
   "execution_count": 5,
   "metadata": {},
   "outputs": [
    {
     "data": {
      "application/vnd.jupyter.widget-view+json": {
       "model_id": "c7a138d97caa49de9aace924f2187f4d",
       "version_major": 2,
       "version_minor": 0
      },
      "text/plain": [
       "  0%|          | 0/3 [00:00<?, ?it/s]"
      ]
     },
     "metadata": {},
     "output_type": "display_data"
    },
    {
     "name": "stdout",
     "output_type": "stream",
     "text": [
      "../../data_processing/dgl/data_new/training_data/train.jsonl\n"
     ]
    },
    {
     "data": {
      "application/vnd.jupyter.widget-view+json": {
       "model_id": "53596a270c71421c83a812961d87ed68",
       "version_major": 2,
       "version_minor": 0
      },
      "text/plain": [
       "0it [00:00, ?it/s]"
      ]
     },
     "metadata": {},
     "output_type": "display_data"
    },
    {
     "name": "stdout",
     "output_type": "stream",
     "text": [
      "../../data_processing/dgl/data_new/training_data/valid.jsonl\n"
     ]
    },
    {
     "data": {
      "application/vnd.jupyter.widget-view+json": {
       "model_id": "89a0515813964fa3bca4a742898ced70",
       "version_major": 2,
       "version_minor": 0
      },
      "text/plain": [
       "0it [00:00, ?it/s]"
      ]
     },
     "metadata": {},
     "output_type": "display_data"
    },
    {
     "name": "stdout",
     "output_type": "stream",
     "text": [
      "../../data_processing/dgl/data_new/training_data/test.jsonl\n"
     ]
    },
    {
     "data": {
      "application/vnd.jupyter.widget-view+json": {
       "model_id": "96ee6b0dd32e4dceac19fe937416198e",
       "version_major": 2,
       "version_minor": 0
      },
      "text/plain": [
       "0it [00:00, ?it/s]"
      ]
     },
     "metadata": {},
     "output_type": "display_data"
    },
    {
     "name": "stdout",
     "output_type": "stream",
     "text": [
      "Datasets loaded!\n"
     ]
    }
   ],
   "source": [
    "datasets = ['train', 'valid', 'test']\n",
    "dataset_data = {}\n",
    "\n",
    "for dataset_name in tqdm(datasets):\n",
    "#     file_path = f\"../../data_processing/dgl/data/test_graph/repeated_{dataset_name}.jsonl\"\n",
    "    file_path = f\"../../data_processing/dgl/data_new/training_data/{dataset_name}.jsonl\"\n",
    "    \n",
    "    print(file_path)\n",
    "    with open(file_path) as f:\n",
    "        data_list = [json.loads(line) for line in tqdm(f, position=0, leave=True)]\n",
    "    \n",
    "    dataset_data[dataset_name] = GraphDataset(data_list, device)\n",
    "\n",
    "print(\"Datasets loaded!\")"
   ]
  },
  {
   "cell_type": "markdown",
   "metadata": {},
   "source": [
    "- choose batch size"
   ]
  },
  {
   "cell_type": "code",
   "execution_count": 6,
   "metadata": {},
   "outputs": [],
   "source": [
    "def create_dataloaders(batch_size, shuffle=True):\n",
    "    dataloaders = {}\n",
    "    for dataset_name, dataset in dataset_data.items():\n",
    "        dataloaders[dataset_name] = DataLoader(dataset, batch_size=batch_size, shuffle=shuffle, collate_fn=collate)\n",
    "    return dataloaders\n",
    "\n",
    "dataloaders = create_dataloaders(4)\n",
    "# dataloaders = create_dataloaders(16)"
   ]
  },
  {
   "cell_type": "markdown",
   "metadata": {},
   "source": [
    "- Turn the print message to a log file"
   ]
  },
  {
   "cell_type": "code",
   "execution_count": 8,
   "metadata": {},
   "outputs": [
    {
     "name": "stdout",
     "output_type": "stream",
     "text": [
      "../log_message/0826_11:32_GAT_data_graph_4.log\n"
     ]
    }
   ],
   "source": [
    "import datetime\n",
    "\n",
    "now = datetime.datetime.now()\n",
    "\n",
    "formatted_time = now.strftime(\"%m%d_%H:%M\")\n",
    "\n",
    "log_file_path = f\"../log_message/{formatted_time}_GAT_data_graph_4.log\"\n",
    "\n",
    "def add_log_msg(msg, log_file_path=log_file_path):\n",
    "    with open(log_file_path, 'a') as f:\n",
    "        f.write(f'{datetime.datetime.now().strftime(\"%m/%d/%Y, %H:%M:%S\")}# {msg}\\n')\n",
    "    print(f'{datetime.datetime.now().strftime(\"%m/%d/%Y, %H:%M:%S\")}# {msg}')\n",
    "\n",
    "print(log_file_path)"
   ]
  },
  {
   "cell_type": "markdown",
   "metadata": {},
   "source": [
    "### Model"
   ]
  },
  {
   "cell_type": "code",
   "execution_count": 9,
   "metadata": {},
   "outputs": [],
   "source": [
    "class GAT(nn.Module):\n",
    "    def __init__(self, in_dim, hidden_dim, out_dim, num_heads, dropout_prob=0.25):\n",
    "        super(GAT, self).__init__()\n",
    "        \n",
    "        # do not check the zero in_degree since we have all the complete graph\n",
    "        self.layer1 = GATConv(in_dim, hidden_dim, num_heads=num_heads, activation=F.relu, allow_zero_in_degree=True)\n",
    "        self.layer2 = GATConv(hidden_dim * num_heads, out_dim, num_heads=num_heads, allow_zero_in_degree=True)\n",
    "        \n",
    "        # Adding Batch Normalization after each GAT layer\n",
    "        self.batchnorm1 = nn.BatchNorm1d(hidden_dim * num_heads)\n",
    "        self.batchnorm2 = nn.BatchNorm1d(out_dim)\n",
    "        \n",
    "        # Adding Dropout for regularization\n",
    "        self.dropout = nn.Dropout(dropout_prob)\n",
    "\n",
    "    def forward(self, g, h):\n",
    "        # Apply GAT layers\n",
    "        h = self.layer1(g, h)\n",
    "        h = h.view(h.shape[0], -1)\n",
    "        h = F.relu(h)\n",
    "        h = self.dropout(h)\n",
    "        h = self.layer2(g, h).squeeze(1)\n",
    "        \n",
    "        # Store the output as a new node feature\n",
    "        g.ndata['h_out'] = h\n",
    "\n",
    "        # Use mean pooling to aggregate this new node feature\n",
    "        h_agg = dgl.mean_nodes(g, feat='h_out')\n",
    "        return h_agg\n",
    "\n",
    "    "
   ]
  },
  {
   "cell_type": "markdown",
   "metadata": {},
   "source": [
    "- Model Forward  "
   ]
  },
  {
   "cell_type": "code",
   "execution_count": 10,
   "metadata": {},
   "outputs": [],
   "source": [
    "def model_fn(data, model, criterion, device, count=1, which_type='train'):\n",
    "    \"\"\"Forward a batch through the model.\"\"\"\n",
    "    batched_g, labels = data\n",
    "    batched_g = batched_g.to(device)\n",
    "    \n",
    "    labels = labels.to(device)\n",
    "    logits = model(batched_g, batched_g.ndata['feat'].float()) # for GAT\n",
    "    logits = logits.mean(dim=1)\n",
    "    \n",
    "    loss = criterion(logits, labels)\n",
    "\n",
    "    # Get the class id with the highest probability\n",
    "    preds = logits.argmax(1)\n",
    "    \n",
    "    # Compute accuracy\n",
    "    accuracy = torch.mean((preds == labels).float())\n",
    "    \n",
    "    if which_type == 'validation' and count % 1000 == 0:\n",
    "        add_log_msg(f\"labels of Validation: {labels} {labels.shape}\")\n",
    "        add_log_msg(f\"predicted of Validation: {preds} {preds.shape}\")\n",
    "        \n",
    "    elif which_type == 'test'  and count % 1000 == 0:\n",
    "        add_log_msg(f\"labels of Test: {labels} {labels.shape}\")\n",
    "        add_log_msg(f\"predicted of Test: {preds} {preds.shape}\")\n",
    "        \n",
    "    if count % 5000 == 0: \n",
    "        add_log_msg(f\"labels of {count}: {labels} {labels.shape}\")\n",
    "        add_log_msg(f\"predicted of {count}: {preds} {preds.shape}\")\n",
    "        \n",
    "    return loss, accuracy, preds"
   ]
  },
  {
   "cell_type": "markdown",
   "metadata": {},
   "source": [
    "### Training"
   ]
  },
  {
   "cell_type": "markdown",
   "metadata": {},
   "source": [
    "- Fix the seed and save the model.state_dict that contains the initial weight"
   ]
  },
  {
   "cell_type": "code",
   "execution_count": 11,
   "metadata": {},
   "outputs": [],
   "source": [
    "seed = 8787\n",
    "same_seeds(seed)\n",
    "\n",
    "model = GAT(in_dim=50, hidden_dim=16, out_dim=168, num_heads=8)\n",
    "torch.save(model.state_dict(), 'model1_initial/initial_weight.pth')"
   ]
  },
  {
   "cell_type": "code",
   "execution_count": 12,
   "metadata": {},
   "outputs": [
    {
     "data": {
      "text/plain": [
       "Parameter containing:\n",
       "tensor([[-0.1806, -0.0598,  0.0091,  ...,  0.0719,  0.2496,  0.0873],\n",
       "        [ 0.1694, -0.0015, -0.0139,  ...,  0.0147,  0.0892,  0.0146],\n",
       "        [ 0.0969, -0.0595, -0.0115,  ..., -0.0474,  0.0529, -0.0565],\n",
       "        ...,\n",
       "        [-0.0433, -0.2248,  0.3002,  ...,  0.0850,  0.1621,  0.0422],\n",
       "        [ 0.2097, -0.2492,  0.0612,  ..., -0.0041,  0.0365, -0.1483],\n",
       "        [ 0.0971, -0.2221,  0.1652,  ..., -0.1312, -0.2610,  0.0077]],\n",
       "       requires_grad=True)"
      ]
     },
     "execution_count": 12,
     "metadata": {},
     "output_type": "execute_result"
    }
   ],
   "source": [
    "model.layer1.fc.weight"
   ]
  },
  {
   "cell_type": "markdown",
   "metadata": {},
   "source": [
    "- Check if model really load the model_dict"
   ]
  },
  {
   "cell_type": "code",
   "execution_count": 13,
   "metadata": {},
   "outputs": [
    {
     "data": {
      "text/plain": [
       "Parameter containing:\n",
       "tensor([[-0.1806, -0.0598,  0.0091,  ...,  0.0719,  0.2496,  0.0873],\n",
       "        [ 0.1694, -0.0015, -0.0139,  ...,  0.0147,  0.0892,  0.0146],\n",
       "        [ 0.0969, -0.0595, -0.0115,  ..., -0.0474,  0.0529, -0.0565],\n",
       "        ...,\n",
       "        [-0.0433, -0.2248,  0.3002,  ...,  0.0850,  0.1621,  0.0422],\n",
       "        [ 0.2097, -0.2492,  0.0612,  ..., -0.0041,  0.0365, -0.1483],\n",
       "        [ 0.0971, -0.2221,  0.1652,  ..., -0.1312, -0.2610,  0.0077]],\n",
       "       requires_grad=True)"
      ]
     },
     "execution_count": 13,
     "metadata": {},
     "output_type": "execute_result"
    }
   ],
   "source": [
    "model = GAT(in_dim=50, hidden_dim=16, out_dim=168, num_heads=8)\n",
    "model.load_state_dict(torch.load('model1_initial/initial_weight.pth'))\n",
    "model.layer1.fc.weight"
   ]
  },
  {
   "cell_type": "markdown",
   "metadata": {},
   "source": [
    "### test of valid and test part is ``graph``"
   ]
  },
  {
   "cell_type": "markdown",
   "metadata": {},
   "source": [
    "- Batch size = 4\n",
    "- use large lr and scheduler"
   ]
  },
  {
   "cell_type": "code",
   "execution_count": null,
   "metadata": {
    "scrolled": true
   },
   "outputs": [
    {
     "data": {
      "application/vnd.jupyter.widget-view+json": {
       "model_id": "df40fe72e90c439aa1aa8783facc5ccd",
       "version_major": 2,
       "version_minor": 0
      },
      "text/plain": [
       "  0%|          | 0/360 [00:00<?, ?it/s]"
      ]
     },
     "metadata": {},
     "output_type": "display_data"
    },
    {
     "data": {
      "application/vnd.jupyter.widget-view+json": {
       "model_id": "d1fb26986d1341b892422af776d12380",
       "version_major": 2,
       "version_minor": 0
      },
      "text/plain": [
       "Training:   0%|          | 0/33000 [00:00<?, ?it/s]"
      ]
     },
     "metadata": {},
     "output_type": "display_data"
    },
    {
     "name": "stdout",
     "output_type": "stream",
     "text": [
      "08/26/2023, 11:34:00# labels of 5000: tensor([107,  73,  21, 144], device='cuda:1') torch.Size([4])\n",
      "08/26/2023, 11:34:00# predicted of 5000: tensor([ 66, 115, 132,  66], device='cuda:1') torch.Size([4])\n",
      "08/26/2023, 11:35:16# labels of 10000: tensor([ 74,  12, 161,  81], device='cuda:1') torch.Size([4])\n",
      "08/26/2023, 11:35:16# predicted of 10000: tensor([ 38, 131, 161, 131], device='cuda:1') torch.Size([4])\n",
      "08/26/2023, 11:36:32# labels of 15000: tensor([143,  67,  31, 132], device='cuda:1') torch.Size([4])\n",
      "08/26/2023, 11:36:32# predicted of 15000: tensor([132,  78, 111,  28], device='cuda:1') torch.Size([4])\n",
      "08/26/2023, 11:37:48# labels of 20000: tensor([162,  59, 165, 101], device='cuda:1') torch.Size([4])\n",
      "08/26/2023, 11:37:48# predicted of 20000: tensor([ 68, 132, 165, 132], device='cuda:1') torch.Size([4])\n",
      "08/26/2023, 11:39:03# labels of 25000: tensor([ 15,  95,  73, 140], device='cuda:1') torch.Size([4])\n",
      "08/26/2023, 11:39:03# predicted of 25000: tensor([ 15,  95,  73, 140], device='cuda:1') torch.Size([4])\n",
      "08/26/2023, 11:40:19# labels of 30000: tensor([ 35, 145, 119,  70], device='cuda:1') torch.Size([4])\n",
      "08/26/2023, 11:40:19# predicted of 30000: tensor([ 35, 145,  42,  70], device='cuda:1') torch.Size([4])\n",
      "08/26/2023, 11:41:05# total batches: 33000\n",
      "08/26/2023, 11:41:05# Epoch 0 | Train Loss: 3.5012 | Train Accuracy: 0.2818\n"
     ]
    },
    {
     "data": {
      "application/vnd.jupyter.widget-view+json": {
       "model_id": "5cc0dd3425474c08a177f816eea7d28f",
       "version_major": 2,
       "version_minor": 0
      },
      "text/plain": [
       "Validation:   0%|          | 0/4125 [00:00<?, ?it/s]"
      ]
     },
     "metadata": {},
     "output_type": "display_data"
    },
    {
     "name": "stdout",
     "output_type": "stream",
     "text": [
      "08/26/2023, 11:41:05# labels of Validation: tensor([134,  42,  29,  24], device='cuda:1') torch.Size([4])\n",
      "08/26/2023, 11:41:05# predicted of Validation: tensor([134, 148,  29, 148], device='cuda:1') torch.Size([4])\n",
      "08/26/2023, 11:41:05# labels of 0: tensor([134,  42,  29,  24], device='cuda:1') torch.Size([4])\n",
      "08/26/2023, 11:41:05# predicted of 0: tensor([134, 148,  29, 148], device='cuda:1') torch.Size([4])\n",
      "08/26/2023, 11:41:14# labels of Validation: tensor([ 46,  39, 146, 148], device='cuda:1') torch.Size([4])\n",
      "08/26/2023, 11:41:14# predicted of Validation: tensor([148,  39, 146,   6], device='cuda:1') torch.Size([4])\n",
      "08/26/2023, 11:41:25# labels of Validation: tensor([47, 86, 38, 21], device='cuda:1') torch.Size([4])\n",
      "08/26/2023, 11:41:25# predicted of Validation: tensor([148, 148, 148,   6], device='cuda:1') torch.Size([4])\n",
      "08/26/2023, 11:41:35# labels of Validation: tensor([166, 107,  76, 147], device='cuda:1') torch.Size([4])\n",
      "08/26/2023, 11:41:35# predicted of Validation: tensor([  6,   6, 148, 147], device='cuda:1') torch.Size([4])\n",
      "08/26/2023, 11:41:44# labels of Validation: tensor([138,  48,  36, 134], device='cuda:1') torch.Size([4])\n",
      "08/26/2023, 11:41:44# predicted of Validation: tensor([138, 148, 148, 134], device='cuda:1') torch.Size([4])\n",
      "08/26/2023, 11:41:46# Validation Loss: 2.8908 | Validation Accuracy: 0.3705\n",
      "\n"
     ]
    },
    {
     "data": {
      "application/vnd.jupyter.widget-view+json": {
       "model_id": "8ff4167eca2b40f68c8ce639f6d49b43",
       "version_major": 2,
       "version_minor": 0
      },
      "text/plain": [
       "Training:   0%|          | 0/33000 [00:00<?, ?it/s]"
      ]
     },
     "metadata": {},
     "output_type": "display_data"
    },
    {
     "name": "stdout",
     "output_type": "stream",
     "text": [
      "08/26/2023, 11:43:01# labels of 5000: tensor([ 20, 115, 144, 102], device='cuda:1') torch.Size([4])\n",
      "08/26/2023, 11:43:01# predicted of 5000: tensor([ 28, 115,  76,  12], device='cuda:1') torch.Size([4])\n",
      "08/26/2023, 11:44:17# labels of 10000: tensor([ 23, 116, 155,   8], device='cuda:1') torch.Size([4])\n",
      "08/26/2023, 11:44:17# predicted of 10000: tensor([23, 51, 28, 51], device='cuda:1') torch.Size([4])\n",
      "08/26/2023, 11:45:35# labels of 15000: tensor([123,  52,   8,  17], device='cuda:1') torch.Size([4])\n",
      "08/26/2023, 11:45:35# predicted of 15000: tensor([123,  52, 132,  17], device='cuda:1') torch.Size([4])\n",
      "08/26/2023, 11:46:51# labels of 20000: tensor([132, 100,  17, 112], device='cuda:1') torch.Size([4])\n",
      "08/26/2023, 11:46:51# predicted of 20000: tensor([132, 101,  17, 114], device='cuda:1') torch.Size([4])\n",
      "08/26/2023, 11:48:07# labels of 25000: tensor([135,  90,  58,  95], device='cuda:1') torch.Size([4])\n",
      "08/26/2023, 11:48:07# predicted of 25000: tensor([ 81,  24, 166,  95], device='cuda:1') torch.Size([4])\n",
      "08/26/2023, 11:49:24# labels of 30000: tensor([ 55, 141, 164,  87], device='cuda:1') torch.Size([4])\n",
      "08/26/2023, 11:49:24# predicted of 30000: tensor([  1, 101, 111, 111], device='cuda:1') torch.Size([4])\n",
      "08/26/2023, 11:50:11# total batches: 33000\n",
      "08/26/2023, 11:50:11# Epoch 1 | Train Loss: 2.8559 | Train Accuracy: 0.3758\n"
     ]
    },
    {
     "data": {
      "application/vnd.jupyter.widget-view+json": {
       "model_id": "af2da35a03ee4545a91e389543cbfc91",
       "version_major": 2,
       "version_minor": 0
      },
      "text/plain": [
       "Validation:   0%|          | 0/4125 [00:00<?, ?it/s]"
      ]
     },
     "metadata": {},
     "output_type": "display_data"
    },
    {
     "name": "stdout",
     "output_type": "stream",
     "text": [
      "08/26/2023, 11:50:11# labels of Validation: tensor([84, 63, 62, 75], device='cuda:1') torch.Size([4])\n",
      "08/26/2023, 11:50:11# predicted of Validation: tensor([ 84, 119,  62, 119], device='cuda:1') torch.Size([4])\n",
      "08/26/2023, 11:50:11# labels of 0: tensor([84, 63, 62, 75], device='cuda:1') torch.Size([4])\n",
      "08/26/2023, 11:50:11# predicted of 0: tensor([ 84, 119,  62, 119], device='cuda:1') torch.Size([4])\n",
      "08/26/2023, 11:50:21# labels of Validation: tensor([157,  80,  37,  45], device='cuda:1') torch.Size([4])\n",
      "08/26/2023, 11:50:21# predicted of Validation: tensor([119,  80,  28,  45], device='cuda:1') torch.Size([4])\n",
      "08/26/2023, 11:50:30# labels of Validation: tensor([101, 144,  35, 125], device='cuda:1') torch.Size([4])\n",
      "08/26/2023, 11:50:30# predicted of Validation: tensor([ 28, 119,  35, 119], device='cuda:1') torch.Size([4])\n",
      "08/26/2023, 11:50:39# labels of Validation: tensor([ 30, 146, 140,  93], device='cuda:1') torch.Size([4])\n",
      "08/26/2023, 11:50:39# predicted of Validation: tensor([119, 146, 140,  28], device='cuda:1') torch.Size([4])\n",
      "08/26/2023, 11:50:49# labels of Validation: tensor([ 61,  72,  58, 102], device='cuda:1') torch.Size([4])\n",
      "08/26/2023, 11:50:49# predicted of Validation: tensor([ 61,  72, 119, 119], device='cuda:1') torch.Size([4])\n",
      "08/26/2023, 11:50:50# Validation Loss: 2.8092 | Validation Accuracy: 0.3788\n",
      "\n"
     ]
    },
    {
     "data": {
      "application/vnd.jupyter.widget-view+json": {
       "model_id": "f8f1f5b57fb04e2f887b527b71ff33a3",
       "version_major": 2,
       "version_minor": 0
      },
      "text/plain": [
       "Training:   0%|          | 0/33000 [00:00<?, ?it/s]"
      ]
     },
     "metadata": {},
     "output_type": "display_data"
    },
    {
     "name": "stdout",
     "output_type": "stream",
     "text": [
      "08/26/2023, 11:52:05# labels of 5000: tensor([136, 132,  51, 112], device='cuda:1') torch.Size([4])\n",
      "08/26/2023, 11:52:05# predicted of 5000: tensor([136, 132, 132,  33], device='cuda:1') torch.Size([4])\n",
      "08/26/2023, 11:53:20# labels of 10000: tensor([  0, 102,  98,  60], device='cuda:1') torch.Size([4])\n",
      "08/26/2023, 11:53:20# predicted of 10000: tensor([  0, 141,  43,  53], device='cuda:1') torch.Size([4])\n",
      "08/26/2023, 11:54:36# labels of 15000: tensor([ 72, 134,  31,  32], device='cuda:1') torch.Size([4])\n",
      "08/26/2023, 11:54:36# predicted of 15000: tensor([ 72, 134,  14,  32], device='cuda:1') torch.Size([4])\n",
      "08/26/2023, 11:55:52# labels of 20000: tensor([103, 143, 124,  53], device='cuda:1') torch.Size([4])\n",
      "08/26/2023, 11:55:52# predicted of 20000: tensor([  6, 110, 110,  33], device='cuda:1') torch.Size([4])\n",
      "08/26/2023, 11:57:07# labels of 25000: tensor([127, 143,  16, 154], device='cuda:1') torch.Size([4])\n",
      "08/26/2023, 11:57:07# predicted of 25000: tensor([127,  21,  16, 154], device='cuda:1') torch.Size([4])\n",
      "08/26/2023, 11:58:24# labels of 30000: tensor([148, 132,  38,  84], device='cuda:1') torch.Size([4])\n",
      "08/26/2023, 11:58:24# predicted of 30000: tensor([132, 132,  81,  84], device='cuda:1') torch.Size([4])\n",
      "08/26/2023, 11:59:09# total batches: 33000\n",
      "08/26/2023, 11:59:09# Epoch 2 | Train Loss: 2.8096 | Train Accuracy: 0.3781\n"
     ]
    },
    {
     "data": {
      "application/vnd.jupyter.widget-view+json": {
       "model_id": "686f62140a414837b173f6645c747ced",
       "version_major": 2,
       "version_minor": 0
      },
      "text/plain": [
       "Validation:   0%|          | 0/4125 [00:00<?, ?it/s]"
      ]
     },
     "metadata": {},
     "output_type": "display_data"
    },
    {
     "name": "stdout",
     "output_type": "stream",
     "text": [
      "08/26/2023, 11:59:09# labels of Validation: tensor([67, 80, 97, 36], device='cuda:1') torch.Size([4])\n",
      "08/26/2023, 11:59:09# predicted of Validation: tensor([67, 80, 44, 44], device='cuda:1') torch.Size([4])\n",
      "08/26/2023, 11:59:09# labels of 0: tensor([67, 80, 97, 36], device='cuda:1') torch.Size([4])\n",
      "08/26/2023, 11:59:09# predicted of 0: tensor([67, 80, 44, 44], device='cuda:1') torch.Size([4])\n",
      "08/26/2023, 11:59:19# labels of Validation: tensor([112, 142, 164, 154], device='cuda:1') torch.Size([4])\n",
      "08/26/2023, 11:59:19# predicted of Validation: tensor([ 44,  44,  44, 154], device='cuda:1') torch.Size([4])\n",
      "08/26/2023, 11:59:30# labels of Validation: tensor([154, 159,  24,  98], device='cuda:1') torch.Size([4])\n",
      "08/26/2023, 11:59:30# predicted of Validation: tensor([154, 159,  44,  44], device='cuda:1') torch.Size([4])\n",
      "08/26/2023, 11:59:41# labels of Validation: tensor([26, 79, 28, 36], device='cuda:1') torch.Size([4])\n",
      "08/26/2023, 11:59:41# predicted of Validation: tensor([ 44, 130, 161,  44], device='cuda:1') torch.Size([4])\n",
      "08/26/2023, 11:59:53# labels of Validation: tensor([130,  42,  37, 137], device='cuda:1') torch.Size([4])\n",
      "08/26/2023, 11:59:53# predicted of Validation: tensor([130,  44, 101,  44], device='cuda:1') torch.Size([4])\n",
      "08/26/2023, 11:59:54# Validation Loss: 2.7839 | Validation Accuracy: 0.3865\n",
      "\n"
     ]
    },
    {
     "data": {
      "application/vnd.jupyter.widget-view+json": {
       "model_id": "a6ac64426ea141f7afb210164c45f064",
       "version_major": 2,
       "version_minor": 0
      },
      "text/plain": [
       "Training:   0%|          | 0/33000 [00:00<?, ?it/s]"
      ]
     },
     "metadata": {},
     "output_type": "display_data"
    },
    {
     "name": "stdout",
     "output_type": "stream",
     "text": [
      "08/26/2023, 12:01:10# labels of 5000: tensor([139, 105,  98,  60], device='cuda:1') torch.Size([4])\n",
      "08/26/2023, 12:01:10# predicted of 5000: tensor([135, 105,  97,  88], device='cuda:1') torch.Size([4])\n",
      "08/26/2023, 12:02:25# labels of 10000: tensor([138, 121,   1,  56], device='cuda:1') torch.Size([4])\n",
      "08/26/2023, 12:02:25# predicted of 10000: tensor([138,   1,  47,  56], device='cuda:1') torch.Size([4])\n",
      "08/26/2023, 12:03:41# labels of 15000: tensor([114,  23,  42,  13], device='cuda:1') torch.Size([4])\n",
      "08/26/2023, 12:03:41# predicted of 15000: tensor([141,  23, 141,  13], device='cuda:1') torch.Size([4])\n",
      "08/26/2023, 12:04:56# labels of 20000: tensor([128, 146, 164,  93], device='cuda:1') torch.Size([4])\n",
      "08/26/2023, 12:04:56# predicted of 20000: tensor([128, 146,  57,  51], device='cuda:1') torch.Size([4])\n",
      "08/26/2023, 12:06:10# labels of 25000: tensor([27, 77,  5, 50], device='cuda:1') torch.Size([4])\n",
      "08/26/2023, 12:06:10# predicted of 25000: tensor([ 27, 161,   5,  50], device='cuda:1') torch.Size([4])\n",
      "08/26/2023, 12:07:25# labels of 30000: tensor([ 61, 153,  98,  42], device='cuda:1') torch.Size([4])\n",
      "08/26/2023, 12:07:25# predicted of 30000: tensor([ 61, 101, 102, 101], device='cuda:1') torch.Size([4])\n",
      "08/26/2023, 12:08:10# total batches: 33000\n",
      "08/26/2023, 12:08:10# Epoch 3 | Train Loss: 2.7902 | Train Accuracy: 0.3797\n"
     ]
    },
    {
     "data": {
      "application/vnd.jupyter.widget-view+json": {
       "model_id": "e2212f1cc4c84ac78e77b3e7e16ac9b9",
       "version_major": 2,
       "version_minor": 0
      },
      "text/plain": [
       "Validation:   0%|          | 0/4125 [00:00<?, ?it/s]"
      ]
     },
     "metadata": {},
     "output_type": "display_data"
    },
    {
     "name": "stdout",
     "output_type": "stream",
     "text": [
      "08/26/2023, 12:08:11# labels of Validation: tensor([102, 114,   1,  16], device='cuda:1') torch.Size([4])\n",
      "08/26/2023, 12:08:11# predicted of Validation: tensor([ 76, 161,  76,  16], device='cuda:1') torch.Size([4])\n",
      "08/26/2023, 12:08:11# labels of 0: tensor([102, 114,   1,  16], device='cuda:1') torch.Size([4])\n",
      "08/26/2023, 12:08:11# predicted of 0: tensor([ 76, 161,  76,  16], device='cuda:1') torch.Size([4])\n",
      "08/26/2023, 12:08:20# labels of Validation: tensor([ 20, 128, 161,  32], device='cuda:1') torch.Size([4])\n",
      "08/26/2023, 12:08:20# predicted of Validation: tensor([ 76, 128, 161,  32], device='cuda:1') torch.Size([4])\n",
      "08/26/2023, 12:08:31# labels of Validation: tensor([ 66,  21, 127,  97], device='cuda:1') torch.Size([4])\n",
      "08/26/2023, 12:08:31# predicted of Validation: tensor([161, 161, 127,  76], device='cuda:1') torch.Size([4])\n",
      "08/26/2023, 12:08:42# labels of Validation: tensor([  2,   9,  15, 102], device='cuda:1') torch.Size([4])\n",
      "08/26/2023, 12:08:42# predicted of Validation: tensor([76, 76, 15, 76], device='cuda:1') torch.Size([4])\n",
      "08/26/2023, 12:08:51# labels of Validation: tensor([107, 118,  74,  54], device='cuda:1') torch.Size([4])\n",
      "08/26/2023, 12:08:51# predicted of Validation: tensor([161, 118,  76,  76], device='cuda:1') torch.Size([4])\n",
      "08/26/2023, 12:08:53# Validation Loss: 2.7685 | Validation Accuracy: 0.3805\n",
      "\n"
     ]
    },
    {
     "data": {
      "application/vnd.jupyter.widget-view+json": {
       "model_id": "a57e563a4d86419293a26e72363f19a9",
       "version_major": 2,
       "version_minor": 0
      },
      "text/plain": [
       "Training:   0%|          | 0/33000 [00:00<?, ?it/s]"
      ]
     },
     "metadata": {},
     "output_type": "display_data"
    },
    {
     "name": "stdout",
     "output_type": "stream",
     "text": [
      "08/26/2023, 12:10:07# labels of 5000: tensor([160, 146,  59, 166], device='cuda:1') torch.Size([4])\n",
      "08/26/2023, 12:10:07# predicted of 5000: tensor([  6, 146,   6,   6], device='cuda:1') torch.Size([4])\n",
      "08/26/2023, 12:11:23# labels of 10000: tensor([ 93, 135,  48,  37], device='cuda:1') torch.Size([4])\n",
      "08/26/2023, 12:11:23# predicted of 10000: tensor([ 66,   9, 100, 101], device='cuda:1') torch.Size([4])\n",
      "08/26/2023, 12:12:37# labels of 15000: tensor([ 27,  56,  60, 140], device='cuda:1') torch.Size([4])\n",
      "08/26/2023, 12:12:37# predicted of 15000: tensor([ 27,  56, 157, 140], device='cuda:1') torch.Size([4])\n",
      "08/26/2023, 12:13:52# labels of 20000: tensor([152, 110,  23, 100], device='cuda:1') torch.Size([4])\n",
      "08/26/2023, 12:13:52# predicted of 20000: tensor([113, 162,  23, 113], device='cuda:1') torch.Size([4])\n",
      "08/26/2023, 12:15:07# labels of 25000: tensor([ 81,   8,  73, 149], device='cuda:1') torch.Size([4])\n",
      "08/26/2023, 12:15:07# predicted of 25000: tensor([ 44, 108,  73, 149], device='cuda:1') torch.Size([4])\n",
      "08/26/2023, 12:16:23# labels of 30000: tensor([ 70, 135,  13,  55], device='cuda:1') torch.Size([4])\n",
      "08/26/2023, 12:16:23# predicted of 30000: tensor([70, 53, 13, 53], device='cuda:1') torch.Size([4])\n",
      "08/26/2023, 12:17:08# total batches: 33000\n",
      "08/26/2023, 12:17:08# Epoch 4 | Train Loss: 2.7795 | Train Accuracy: 0.3813\n"
     ]
    },
    {
     "data": {
      "application/vnd.jupyter.widget-view+json": {
       "model_id": "0ad3ed002f764ea4a42913e9e7fc6d52",
       "version_major": 2,
       "version_minor": 0
      },
      "text/plain": [
       "Validation:   0%|          | 0/4125 [00:00<?, ?it/s]"
      ]
     },
     "metadata": {},
     "output_type": "display_data"
    },
    {
     "name": "stdout",
     "output_type": "stream",
     "text": [
      "08/26/2023, 12:17:08# labels of Validation: tensor([  2, 132, 107, 111], device='cuda:1') torch.Size([4])\n",
      "08/26/2023, 12:17:08# predicted of Validation: tensor([111, 161, 155, 111], device='cuda:1') torch.Size([4])\n",
      "08/26/2023, 12:17:08# labels of 0: tensor([  2, 132, 107, 111], device='cuda:1') torch.Size([4])\n",
      "08/26/2023, 12:17:08# predicted of 0: tensor([111, 161, 155, 111], device='cuda:1') torch.Size([4])\n",
      "08/26/2023, 12:17:17# labels of Validation: tensor([134,  24, 129,  90], device='cuda:1') torch.Size([4])\n",
      "08/26/2023, 12:17:17# predicted of Validation: tensor([134, 111, 155, 155], device='cuda:1') torch.Size([4])\n",
      "08/26/2023, 12:17:27# labels of Validation: tensor([ 80, 138,  49, 117], device='cuda:1') torch.Size([4])\n",
      "08/26/2023, 12:17:27# predicted of Validation: tensor([ 80, 138, 111, 117], device='cuda:1') torch.Size([4])\n",
      "08/26/2023, 12:17:36# labels of Validation: tensor([158, 164,  51,  94], device='cuda:1') torch.Size([4])\n",
      "08/26/2023, 12:17:36# predicted of Validation: tensor([111, 111,  28,  94], device='cuda:1') torch.Size([4])\n",
      "08/26/2023, 12:17:46# labels of Validation: tensor([160,   0, 115,  73], device='cuda:1') torch.Size([4])\n",
      "08/26/2023, 12:17:46# predicted of Validation: tensor([155,   0, 115,  73], device='cuda:1') torch.Size([4])\n",
      "08/26/2023, 12:17:47# Validation Loss: 2.7620 | Validation Accuracy: 0.3804\n",
      "\n"
     ]
    },
    {
     "data": {
      "application/vnd.jupyter.widget-view+json": {
       "model_id": "5a135344d1004602a11033b19038f461",
       "version_major": 2,
       "version_minor": 0
      },
      "text/plain": [
       "Training:   0%|          | 0/33000 [00:00<?, ?it/s]"
      ]
     },
     "metadata": {},
     "output_type": "display_data"
    },
    {
     "name": "stdout",
     "output_type": "stream",
     "text": [
      "08/26/2023, 12:19:03# labels of 5000: tensor([123,  11, 159,  57], device='cuda:1') torch.Size([4])\n",
      "08/26/2023, 12:19:03# predicted of 5000: tensor([123, 157, 159, 164], device='cuda:1') torch.Size([4])\n",
      "08/26/2023, 12:20:18# labels of 10000: tensor([ 74, 130,  79, 133], device='cuda:1') torch.Size([4])\n",
      "08/26/2023, 12:20:18# predicted of 10000: tensor([ 60, 130,  79,  59], device='cuda:1') torch.Size([4])\n",
      "08/26/2023, 12:21:34# labels of 15000: tensor([115,  84, 101,  44], device='cuda:1') torch.Size([4])\n",
      "08/26/2023, 12:21:34# predicted of 15000: tensor([115,  84, 101, 125], device='cuda:1') torch.Size([4])\n",
      "08/26/2023, 12:22:47# labels of 20000: tensor([ 54,  85, 104, 126], device='cuda:1') torch.Size([4])\n",
      "08/26/2023, 12:22:47# predicted of 20000: tensor([ 20,  85,  20, 126], device='cuda:1') torch.Size([4])\n",
      "08/26/2023, 12:24:01# labels of 25000: tensor([106, 140,  85,  75], device='cuda:1') torch.Size([4])\n",
      "08/26/2023, 12:24:01# predicted of 25000: tensor([106, 140,  85, 150], device='cuda:1') torch.Size([4])\n",
      "08/26/2023, 12:25:18# labels of 30000: tensor([ 49, 104, 166, 160], device='cuda:1') torch.Size([4])\n",
      "08/26/2023, 12:25:18# predicted of 30000: tensor([150,  47, 131,  93], device='cuda:1') torch.Size([4])\n",
      "08/26/2023, 12:26:02# total batches: 33000\n",
      "08/26/2023, 12:26:02# Epoch 5 | Train Loss: 2.7732 | Train Accuracy: 0.3813\n"
     ]
    },
    {
     "data": {
      "application/vnd.jupyter.widget-view+json": {
       "model_id": "4361f722be744e2a83f2e831f48ad068",
       "version_major": 2,
       "version_minor": 0
      },
      "text/plain": [
       "Validation:   0%|          | 0/4125 [00:00<?, ?it/s]"
      ]
     },
     "metadata": {},
     "output_type": "display_data"
    },
    {
     "name": "stdout",
     "output_type": "stream",
     "text": [
      "08/26/2023, 12:26:02# labels of Validation: tensor([ 52, 159, 137,  77], device='cuda:1') torch.Size([4])\n",
      "08/26/2023, 12:26:02# predicted of Validation: tensor([ 52, 159, 125,  28], device='cuda:1') torch.Size([4])\n",
      "08/26/2023, 12:26:02# labels of 0: tensor([ 52, 159, 137,  77], device='cuda:1') torch.Size([4])\n",
      "08/26/2023, 12:26:02# predicted of 0: tensor([ 52, 159, 125,  28], device='cuda:1') torch.Size([4])\n",
      "08/26/2023, 12:26:12# labels of Validation: tensor([158, 122,  76, 120], device='cuda:1') torch.Size([4])\n",
      "08/26/2023, 12:26:12# predicted of Validation: tensor([125, 122, 125, 120], device='cuda:1') torch.Size([4])\n",
      "08/26/2023, 12:26:21# labels of Validation: tensor([121, 118, 149,  87], device='cuda:1') torch.Size([4])\n",
      "08/26/2023, 12:26:21# predicted of Validation: tensor([125, 118, 149, 125], device='cuda:1') torch.Size([4])\n",
      "08/26/2023, 12:26:32# labels of Validation: tensor([ 79, 152,  60,  32], device='cuda:1') torch.Size([4])\n",
      "08/26/2023, 12:26:32# predicted of Validation: tensor([ 72, 125, 125,  32], device='cuda:1') torch.Size([4])\n",
      "08/26/2023, 12:26:41# labels of Validation: tensor([161, 138, 106, 119], device='cuda:1') torch.Size([4])\n",
      "08/26/2023, 12:26:41# predicted of Validation: tensor([ 28, 138, 106, 125], device='cuda:1') torch.Size([4])\n",
      "08/26/2023, 12:26:42# Validation Loss: 2.7558 | Validation Accuracy: 0.3807\n",
      "\n"
     ]
    },
    {
     "data": {
      "application/vnd.jupyter.widget-view+json": {
       "model_id": "1ed052b2a6cb48faa6a38e7271b11253",
       "version_major": 2,
       "version_minor": 0
      },
      "text/plain": [
       "Training:   0%|          | 0/33000 [00:00<?, ?it/s]"
      ]
     },
     "metadata": {},
     "output_type": "display_data"
    },
    {
     "name": "stdout",
     "output_type": "stream",
     "text": [
      "08/26/2023, 12:27:58# labels of 5000: tensor([ 84, 117, 113,   1], device='cuda:1') torch.Size([4])\n",
      "08/26/2023, 12:27:58# predicted of 5000: tensor([ 84, 117,  88, 121], device='cuda:1') torch.Size([4])\n",
      "08/26/2023, 12:29:14# labels of 10000: tensor([ 28,  93,  47, 151], device='cuda:1') torch.Size([4])\n",
      "08/26/2023, 12:29:14# predicted of 10000: tensor([28, 59, 86, 86], device='cuda:1') torch.Size([4])\n",
      "08/26/2023, 12:30:30# labels of 15000: tensor([ 70,  19, 107, 166], device='cuda:1') torch.Size([4])\n",
      "08/26/2023, 12:30:30# predicted of 15000: tensor([ 70, 164,  28,  28], device='cuda:1') torch.Size([4])\n",
      "08/26/2023, 12:31:46# labels of 20000: tensor([ 84, 122, 151,  58], device='cuda:1') torch.Size([4])\n",
      "08/26/2023, 12:31:46# predicted of 20000: tensor([ 84, 122,  68, 143], device='cuda:1') torch.Size([4])\n",
      "08/26/2023, 12:33:00# labels of 25000: tensor([  6, 121,   0,   0], device='cuda:1') torch.Size([4])\n",
      "08/26/2023, 12:33:00# predicted of 25000: tensor([132,  81,   0,   0], device='cuda:1') torch.Size([4])\n",
      "08/26/2023, 12:34:16# labels of 30000: tensor([ 11, 158,  69, 135], device='cuda:1') torch.Size([4])\n",
      "08/26/2023, 12:34:16# predicted of 30000: tensor([129,  14,  69, 104], device='cuda:1') torch.Size([4])\n",
      "08/26/2023, 12:35:01# total batches: 33000\n",
      "08/26/2023, 12:35:01# Epoch 6 | Train Loss: 2.7693 | Train Accuracy: 0.3821\n"
     ]
    },
    {
     "data": {
      "application/vnd.jupyter.widget-view+json": {
       "model_id": "b417932eaad349dbbbbb37757ddf9897",
       "version_major": 2,
       "version_minor": 0
      },
      "text/plain": [
       "Validation:   0%|          | 0/4125 [00:00<?, ?it/s]"
      ]
     },
     "metadata": {},
     "output_type": "display_data"
    },
    {
     "name": "stdout",
     "output_type": "stream",
     "text": [
      "08/26/2023, 12:35:01# labels of Validation: tensor([156, 111,  35,  16], device='cuda:1') torch.Size([4])\n",
      "08/26/2023, 12:35:01# predicted of Validation: tensor([156,  14,  35,  16], device='cuda:1') torch.Size([4])\n",
      "08/26/2023, 12:35:01# labels of 0: tensor([156, 111,  35,  16], device='cuda:1') torch.Size([4])\n",
      "08/26/2023, 12:35:01# predicted of 0: tensor([156,  14,  35,  16], device='cuda:1') torch.Size([4])\n",
      "08/26/2023, 12:35:10# labels of Validation: tensor([ 97, 161,  34, 159], device='cuda:1') torch.Size([4])\n",
      "08/26/2023, 12:35:10# predicted of Validation: tensor([ 14, 132,  14, 159], device='cuda:1') torch.Size([4])\n",
      "08/26/2023, 12:35:21# labels of Validation: tensor([ 94,  48, 154,  90], device='cuda:1') torch.Size([4])\n",
      "08/26/2023, 12:35:21# predicted of Validation: tensor([ 94,  14, 154, 108], device='cuda:1') torch.Size([4])\n",
      "08/26/2023, 12:35:31# labels of Validation: tensor([ 12, 127,  41, 159], device='cuda:1') torch.Size([4])\n",
      "08/26/2023, 12:35:31# predicted of Validation: tensor([ 14, 127,  14, 159], device='cuda:1') torch.Size([4])\n",
      "08/26/2023, 12:35:40# labels of Validation: tensor([41, 61, 11, 76], device='cuda:1') torch.Size([4])\n",
      "08/26/2023, 12:35:40# predicted of Validation: tensor([14, 61, 14, 14], device='cuda:1') torch.Size([4])\n",
      "08/26/2023, 12:35:41# Validation Loss: 2.7542 | Validation Accuracy: 0.3806\n",
      "\n"
     ]
    },
    {
     "data": {
      "application/vnd.jupyter.widget-view+json": {
       "model_id": "3cf54049f01a4fecbf7678f06ad4c07b",
       "version_major": 2,
       "version_minor": 0
      },
      "text/plain": [
       "Training:   0%|          | 0/33000 [00:00<?, ?it/s]"
      ]
     },
     "metadata": {},
     "output_type": "display_data"
    },
    {
     "name": "stdout",
     "output_type": "stream",
     "text": [
      "08/26/2023, 12:36:58# labels of 5000: tensor([ 48,  43,  12, 154], device='cuda:1') torch.Size([4])\n",
      "08/26/2023, 12:36:58# predicted of 5000: tensor([150, 150, 150, 154], device='cuda:1') torch.Size([4])\n",
      "08/26/2023, 12:38:13# labels of 10000: tensor([  7, 136, 114, 125], device='cuda:1') torch.Size([4])\n",
      "08/26/2023, 12:38:13# predicted of 10000: tensor([  7, 136,  66, 139], device='cuda:1') torch.Size([4])\n",
      "08/26/2023, 12:39:26# labels of 15000: tensor([ 35, 114,   3, 165], device='cuda:1') torch.Size([4])\n",
      "08/26/2023, 12:39:26# predicted of 15000: tensor([ 35, 155,   3, 165], device='cuda:1') torch.Size([4])\n",
      "08/26/2023, 12:40:41# labels of 20000: tensor([26, 77, 86, 41], device='cuda:1') torch.Size([4])\n",
      "08/26/2023, 12:40:41# predicted of 20000: tensor([ 54, 161,  54,  54], device='cuda:1') torch.Size([4])\n",
      "08/26/2023, 12:41:54# labels of 25000: tensor([ 34,  15, 160,  29], device='cuda:1') torch.Size([4])\n",
      "08/26/2023, 12:41:54# predicted of 25000: tensor([125,  15, 131,  29], device='cuda:1') torch.Size([4])\n",
      "08/26/2023, 12:43:11# labels of 30000: tensor([164, 125,  49,  60], device='cuda:1') torch.Size([4])\n",
      "08/26/2023, 12:43:11# predicted of 30000: tensor([60, 60, 60, 21], device='cuda:1') torch.Size([4])\n",
      "08/26/2023, 12:43:56# total batches: 33000\n",
      "08/26/2023, 12:43:56# Epoch 7 | Train Loss: 2.7655 | Train Accuracy: 0.3821\n"
     ]
    },
    {
     "data": {
      "application/vnd.jupyter.widget-view+json": {
       "model_id": "4730dadb97cf403eb4e9db9a0ef6b56c",
       "version_major": 2,
       "version_minor": 0
      },
      "text/plain": [
       "Validation:   0%|          | 0/4125 [00:00<?, ?it/s]"
      ]
     },
     "metadata": {},
     "output_type": "display_data"
    },
    {
     "name": "stdout",
     "output_type": "stream",
     "text": [
      "08/26/2023, 12:43:56# labels of Validation: tensor([ 84, 122, 166, 109], device='cuda:1') torch.Size([4])\n",
      "08/26/2023, 12:43:56# predicted of Validation: tensor([ 84, 122, 161,  63], device='cuda:1') torch.Size([4])\n",
      "08/26/2023, 12:43:56# labels of 0: tensor([ 84, 122, 166, 109], device='cuda:1') torch.Size([4])\n",
      "08/26/2023, 12:43:56# predicted of 0: tensor([ 84, 122, 161,  63], device='cuda:1') torch.Size([4])\n",
      "08/26/2023, 12:44:06# labels of Validation: tensor([153, 158, 115, 114], device='cuda:1') torch.Size([4])\n",
      "08/26/2023, 12:44:06# predicted of Validation: tensor([ 63,  63, 115, 161], device='cuda:1') torch.Size([4])\n",
      "08/26/2023, 12:44:15# labels of Validation: tensor([130, 125,  78,  52], device='cuda:1') torch.Size([4])\n",
      "08/26/2023, 12:44:15# predicted of Validation: tensor([130,  63,  67,  52], device='cuda:1') torch.Size([4])\n",
      "08/26/2023, 12:44:26# labels of Validation: tensor([ 14,  82,  51, 137], device='cuda:1') torch.Size([4])\n",
      "08/26/2023, 12:44:26# predicted of Validation: tensor([ 63,  82, 161,  63], device='cuda:1') torch.Size([4])\n",
      "08/26/2023, 12:44:36# labels of Validation: tensor([ 81, 159,  35,  77], device='cuda:1') torch.Size([4])\n",
      "08/26/2023, 12:44:36# predicted of Validation: tensor([ 63, 159,  35, 161], device='cuda:1') torch.Size([4])\n",
      "08/26/2023, 12:44:37# Validation Loss: 2.7507 | Validation Accuracy: 0.3810\n",
      "\n"
     ]
    },
    {
     "data": {
      "application/vnd.jupyter.widget-view+json": {
       "model_id": "029d594951a9441ca56132ee71043c45",
       "version_major": 2,
       "version_minor": 0
      },
      "text/plain": [
       "Training:   0%|          | 0/33000 [00:00<?, ?it/s]"
      ]
     },
     "metadata": {},
     "output_type": "display_data"
    },
    {
     "name": "stdout",
     "output_type": "stream",
     "text": [
      "08/26/2023, 12:45:53# labels of 5000: tensor([ 92,   4,  42, 132], device='cuda:1') torch.Size([4])\n",
      "08/26/2023, 12:45:53# predicted of 5000: tensor([ 19, 102,  86,  28], device='cuda:1') torch.Size([4])\n",
      "08/26/2023, 12:47:07# labels of 10000: tensor([ 76,  82,   3, 106], device='cuda:1') torch.Size([4])\n",
      "08/26/2023, 12:47:07# predicted of 10000: tensor([ 81,  82,   3, 106], device='cuda:1') torch.Size([4])\n",
      "08/26/2023, 12:48:22# labels of 15000: tensor([109,  34,  57, 142], device='cuda:1') torch.Size([4])\n",
      "08/26/2023, 12:48:22# predicted of 15000: tensor([ 14, 135,  49,  49], device='cuda:1') torch.Size([4])\n",
      "08/26/2023, 12:49:37# labels of 20000: tensor([53, 62, 32, 27], device='cuda:1') torch.Size([4])\n",
      "08/26/2023, 12:49:37# predicted of 20000: tensor([143,  62,  32,  27], device='cuda:1') torch.Size([4])\n",
      "08/26/2023, 12:50:54# labels of 25000: tensor([ 50, 130,  72,  11], device='cuda:1') torch.Size([4])\n",
      "08/26/2023, 12:50:54# predicted of 25000: tensor([ 50, 130,  72, 104], device='cuda:1') torch.Size([4])\n",
      "08/26/2023, 12:52:15# labels of 30000: tensor([144,  29,  58,  60], device='cuda:1') torch.Size([4])\n",
      "08/26/2023, 12:52:15# predicted of 30000: tensor([142,  29,  37, 124], device='cuda:1') torch.Size([4])\n",
      "08/26/2023, 12:53:01# total batches: 33000\n",
      "08/26/2023, 12:53:01# Epoch 8 | Train Loss: 2.7639 | Train Accuracy: 0.3820\n"
     ]
    },
    {
     "data": {
      "application/vnd.jupyter.widget-view+json": {
       "model_id": "649a4f62fb994a7c9b83af3f64bc4edc",
       "version_major": 2,
       "version_minor": 0
      },
      "text/plain": [
       "Validation:   0%|          | 0/4125 [00:00<?, ?it/s]"
      ]
     },
     "metadata": {},
     "output_type": "display_data"
    },
    {
     "name": "stdout",
     "output_type": "stream",
     "text": [
      "08/26/2023, 12:53:01# labels of Validation: tensor([  8, 119,  29, 106], device='cuda:1') torch.Size([4])\n",
      "08/26/2023, 12:53:01# predicted of Validation: tensor([  6, 109,  29, 106], device='cuda:1') torch.Size([4])\n",
      "08/26/2023, 12:53:01# labels of 0: tensor([  8, 119,  29, 106], device='cuda:1') torch.Size([4])\n",
      "08/26/2023, 12:53:01# predicted of 0: tensor([  6, 109,  29, 106], device='cuda:1') torch.Size([4])\n",
      "08/26/2023, 12:53:12# labels of Validation: tensor([113, 130,  75, 111], device='cuda:1') torch.Size([4])\n",
      "08/26/2023, 12:53:12# predicted of Validation: tensor([  6, 130, 109, 109], device='cuda:1') torch.Size([4])\n",
      "08/26/2023, 12:53:22# labels of Validation: tensor([ 25,  14,  76, 118], device='cuda:1') torch.Size([4])\n",
      "08/26/2023, 12:53:22# predicted of Validation: tensor([ 25, 109, 109, 118], device='cuda:1') torch.Size([4])\n",
      "08/26/2023, 12:53:31# labels of Validation: tensor([166,   1,  32,  59], device='cuda:1') torch.Size([4])\n",
      "08/26/2023, 12:53:31# predicted of Validation: tensor([  6, 109,  32,   6], device='cuda:1') torch.Size([4])\n",
      "08/26/2023, 12:53:40# labels of Validation: tensor([129,  12,  32,  96], device='cuda:1') torch.Size([4])\n",
      "08/26/2023, 12:53:40# predicted of Validation: tensor([  6, 109,  32,  96], device='cuda:1') torch.Size([4])\n",
      "08/26/2023, 12:53:42# Validation Loss: 2.7487 | Validation Accuracy: 0.3808\n",
      "\n"
     ]
    },
    {
     "data": {
      "application/vnd.jupyter.widget-view+json": {
       "model_id": "1548853382e64dc99d8c62d37cb62c30",
       "version_major": 2,
       "version_minor": 0
      },
      "text/plain": [
       "Training:   0%|          | 0/33000 [00:00<?, ?it/s]"
      ]
     },
     "metadata": {},
     "output_type": "display_data"
    },
    {
     "name": "stdout",
     "output_type": "stream",
     "text": [
      "08/26/2023, 12:54:59# labels of 5000: tensor([116, 111,  82, 120], device='cuda:1') torch.Size([4])\n",
      "08/26/2023, 12:54:59# predicted of 5000: tensor([ 86, 135,  82, 120], device='cuda:1') torch.Size([4])\n",
      "08/26/2023, 12:56:18# labels of 10000: tensor([ 51,   6,  95, 110], device='cuda:1') torch.Size([4])\n",
      "08/26/2023, 12:56:18# predicted of 10000: tensor([132, 132,  95,  66], device='cuda:1') torch.Size([4])\n",
      "08/26/2023, 12:57:37# labels of 15000: tensor([ 91,  26,  25, 164], device='cuda:1') torch.Size([4])\n",
      "08/26/2023, 12:57:37# predicted of 15000: tensor([132,   4,  25,   4], device='cuda:1') torch.Size([4])\n",
      "08/26/2023, 12:58:54# labels of 20000: tensor([ 75,  74, 111, 153], device='cuda:1') torch.Size([4])\n",
      "08/26/2023, 12:58:54# predicted of 20000: tensor([ 10,  10, 141,  10], device='cuda:1') torch.Size([4])\n",
      "08/26/2023, 13:00:12# labels of 25000: tensor([ 32, 129,  12, 161], device='cuda:1') torch.Size([4])\n",
      "08/26/2023, 13:00:12# predicted of 25000: tensor([ 32, 161,  11, 161], device='cuda:1') torch.Size([4])\n",
      "08/26/2023, 13:01:29# labels of 30000: tensor([ 18, 114,  77,  72], device='cuda:1') torch.Size([4])\n",
      "08/26/2023, 13:01:29# predicted of 30000: tensor([135, 161, 161,  72], device='cuda:1') torch.Size([4])\n",
      "08/26/2023, 13:02:17# total batches: 33000\n",
      "08/26/2023, 13:02:17# Epoch 9 | Train Loss: 2.7618 | Train Accuracy: 0.3817\n"
     ]
    },
    {
     "data": {
      "application/vnd.jupyter.widget-view+json": {
       "model_id": "860711d03a9546f2ad2270a1cf34c234",
       "version_major": 2,
       "version_minor": 0
      },
      "text/plain": [
       "Validation:   0%|          | 0/4125 [00:00<?, ?it/s]"
      ]
     },
     "metadata": {},
     "output_type": "display_data"
    },
    {
     "name": "stdout",
     "output_type": "stream",
     "text": [
      "08/26/2023, 13:02:17# labels of Validation: tensor([ 12,  46, 153, 154], device='cuda:1') torch.Size([4])\n",
      "08/26/2023, 13:02:17# predicted of Validation: tensor([  2,   2,   2, 154], device='cuda:1') torch.Size([4])\n",
      "08/26/2023, 13:02:17# labels of 0: tensor([ 12,  46, 153, 154], device='cuda:1') torch.Size([4])\n",
      "08/26/2023, 13:02:17# predicted of 0: tensor([  2,   2,   2, 154], device='cuda:1') torch.Size([4])\n",
      "08/26/2023, 13:02:28# labels of Validation: tensor([127,   2,  59, 144], device='cuda:1') torch.Size([4])\n",
      "08/26/2023, 13:02:28# predicted of Validation: tensor([127,   2,  28,   2], device='cuda:1') torch.Size([4])\n",
      "08/26/2023, 13:02:38# labels of Validation: tensor([  6, 155,  18,  26], device='cuda:1') torch.Size([4])\n",
      "08/26/2023, 13:02:38# predicted of Validation: tensor([28, 28,  2,  2], device='cuda:1') torch.Size([4])\n",
      "08/26/2023, 13:02:48# labels of Validation: tensor([103,  94,  39, 160], device='cuda:1') torch.Size([4])\n",
      "08/26/2023, 13:02:48# predicted of Validation: tensor([28, 94, 39, 28], device='cuda:1') torch.Size([4])\n",
      "08/26/2023, 13:02:57# labels of Validation: tensor([ 9,  3, 89, 29], device='cuda:1') torch.Size([4])\n",
      "08/26/2023, 13:02:57# predicted of Validation: tensor([ 2,  3, 89, 29], device='cuda:1') torch.Size([4])\n",
      "08/26/2023, 13:02:59# Validation Loss: 2.7490 | Validation Accuracy: 0.3810\n",
      "\n"
     ]
    },
    {
     "data": {
      "application/vnd.jupyter.widget-view+json": {
       "model_id": "c8cedb20a9bb48c894ec5826af184dc3",
       "version_major": 2,
       "version_minor": 0
      },
      "text/plain": [
       "Training:   0%|          | 0/33000 [00:00<?, ?it/s]"
      ]
     },
     "metadata": {},
     "output_type": "display_data"
    },
    {
     "name": "stdout",
     "output_type": "stream",
     "text": [
      "08/26/2023, 13:04:18# labels of 5000: tensor([155,  93,  80, 109], device='cuda:1') torch.Size([4])\n",
      "08/26/2023, 13:04:18# predicted of 5000: tensor([101, 132,  80, 153], device='cuda:1') torch.Size([4])\n",
      "08/26/2023, 13:05:38# labels of 10000: tensor([118,  18,  12, 135], device='cuda:1') torch.Size([4])\n",
      "08/26/2023, 13:05:38# predicted of 10000: tensor([118,  75,  75,  75], device='cuda:1') torch.Size([4])\n",
      "08/26/2023, 13:06:57# labels of 15000: tensor([131,  77,   0, 130], device='cuda:1') torch.Size([4])\n",
      "08/26/2023, 13:06:57# predicted of 15000: tensor([161, 161,   0, 130], device='cuda:1') torch.Size([4])\n",
      "08/26/2023, 13:08:14# labels of 20000: tensor([ 21,  35,  43, 163], device='cuda:1') torch.Size([4])\n",
      "08/26/2023, 13:08:14# predicted of 20000: tensor([132,  35, 152,  41], device='cuda:1') torch.Size([4])\n",
      "08/26/2023, 13:09:28# labels of 25000: tensor([ 48,  43, 111,  16], device='cuda:1') torch.Size([4])\n",
      "08/26/2023, 13:09:28# predicted of 25000: tensor([19, 19, 83, 16], device='cuda:1') torch.Size([4])\n",
      "08/26/2023, 13:10:46# labels of 30000: tensor([ 45, 160,  83, 103], device='cuda:1') torch.Size([4])\n",
      "08/26/2023, 13:10:46# predicted of 30000: tensor([ 45, 155,   9,   8], device='cuda:1') torch.Size([4])\n",
      "08/26/2023, 13:11:36# total batches: 33000\n",
      "08/26/2023, 13:11:36# Epoch 10 | Train Loss: 2.7606 | Train Accuracy: 0.3824\n"
     ]
    },
    {
     "data": {
      "application/vnd.jupyter.widget-view+json": {
       "model_id": "e6c3822fab8c48e9a0b4564e0d615da3",
       "version_major": 2,
       "version_minor": 0
      },
      "text/plain": [
       "Validation:   0%|          | 0/4125 [00:00<?, ?it/s]"
      ]
     },
     "metadata": {},
     "output_type": "display_data"
    },
    {
     "name": "stdout",
     "output_type": "stream",
     "text": [
      "08/26/2023, 13:11:36# labels of Validation: tensor([ 76,  64, 106,  82], device='cuda:1') torch.Size([4])\n",
      "08/26/2023, 13:11:36# predicted of Validation: tensor([ 74,  37, 106,  82], device='cuda:1') torch.Size([4])\n",
      "08/26/2023, 13:11:36# labels of 0: tensor([ 76,  64, 106,  82], device='cuda:1') torch.Size([4])\n",
      "08/26/2023, 13:11:36# predicted of 0: tensor([ 74,  37, 106,  82], device='cuda:1') torch.Size([4])\n",
      "08/26/2023, 13:11:45# labels of Validation: tensor([ 13,  64,  67, 114], device='cuda:1') torch.Size([4])\n",
      "08/26/2023, 13:11:45# predicted of Validation: tensor([13, 37, 67, 37], device='cuda:1') torch.Size([4])\n",
      "08/26/2023, 13:11:55# labels of Validation: tensor([  5, 147, 159,  90], device='cuda:1') torch.Size([4])\n",
      "08/26/2023, 13:11:55# predicted of Validation: tensor([  5, 147, 159,  37], device='cuda:1') torch.Size([4])\n",
      "08/26/2023, 13:12:04# labels of Validation: tensor([95, 73, 79, 74], device='cuda:1') torch.Size([4])\n",
      "08/26/2023, 13:12:04# predicted of Validation: tensor([95, 73, 72, 74], device='cuda:1') torch.Size([4])\n",
      "08/26/2023, 13:12:13# labels of Validation: tensor([ 13, 157,  11,  79], device='cuda:1') torch.Size([4])\n",
      "08/26/2023, 13:12:13# predicted of Validation: tensor([13, 74, 74, 79], device='cuda:1') torch.Size([4])\n",
      "08/26/2023, 13:12:15# Validation Loss: 2.7486 | Validation Accuracy: 0.3871\n",
      "\n"
     ]
    },
    {
     "data": {
      "application/vnd.jupyter.widget-view+json": {
       "model_id": "0e17057576824d40899db9cb96944b01",
       "version_major": 2,
       "version_minor": 0
      },
      "text/plain": [
       "Training:   0%|          | 0/33000 [00:00<?, ?it/s]"
      ]
     },
     "metadata": {},
     "output_type": "display_data"
    },
    {
     "name": "stdout",
     "output_type": "stream",
     "text": [
      "08/26/2023, 13:13:32# labels of 5000: tensor([ 11, 114, 127, 127], device='cuda:1') torch.Size([4])\n",
      "08/26/2023, 13:13:32# predicted of 5000: tensor([  4,  59, 127, 127], device='cuda:1') torch.Size([4])\n",
      "08/26/2023, 13:14:56# labels of 10000: tensor([75, 82, 34, 54], device='cuda:1') torch.Size([4])\n",
      "08/26/2023, 13:14:56# predicted of 10000: tensor([163,  82,  41, 163], device='cuda:1') torch.Size([4])\n",
      "08/26/2023, 13:16:15# labels of 15000: tensor([112, 134,  59,  39], device='cuda:1') torch.Size([4])\n",
      "08/26/2023, 13:16:15# predicted of 15000: tensor([153, 134,  91,  39], device='cuda:1') torch.Size([4])\n",
      "08/26/2023, 13:17:31# labels of 20000: tensor([ 20, 106, 118,  38], device='cuda:1') torch.Size([4])\n",
      "08/26/2023, 13:17:31# predicted of 20000: tensor([ 10, 106, 118,  57], device='cuda:1') torch.Size([4])\n",
      "08/26/2023, 13:18:50# labels of 25000: tensor([95, 67, 80, 50], device='cuda:1') torch.Size([4])\n",
      "08/26/2023, 13:18:50# predicted of 25000: tensor([95, 67, 80, 50], device='cuda:1') torch.Size([4])\n",
      "08/26/2023, 13:20:05# labels of 30000: tensor([ 58,  49, 154,  52], device='cuda:1') torch.Size([4])\n",
      "08/26/2023, 13:20:05# predicted of 30000: tensor([ 36,  19, 154,  52], device='cuda:1') torch.Size([4])\n",
      "08/26/2023, 13:20:50# total batches: 33000\n",
      "08/26/2023, 13:20:50# Epoch 11 | Train Loss: 2.7597 | Train Accuracy: 0.3828\n"
     ]
    },
    {
     "data": {
      "application/vnd.jupyter.widget-view+json": {
       "model_id": "726ff549111a4d6ea77d6c12f457dcb9",
       "version_major": 2,
       "version_minor": 0
      },
      "text/plain": [
       "Validation:   0%|          | 0/4125 [00:00<?, ?it/s]"
      ]
     },
     "metadata": {},
     "output_type": "display_data"
    },
    {
     "name": "stdout",
     "output_type": "stream",
     "text": [
      "08/26/2023, 13:20:50# labels of Validation: tensor([148, 154,   6,  96], device='cuda:1') torch.Size([4])\n",
      "08/26/2023, 13:20:50# predicted of Validation: tensor([108, 154,   6,  96], device='cuda:1') torch.Size([4])\n",
      "08/26/2023, 13:20:50# labels of 0: tensor([148, 154,   6,  96], device='cuda:1') torch.Size([4])\n",
      "08/26/2023, 13:20:50# predicted of 0: tensor([108, 154,   6,  96], device='cuda:1') torch.Size([4])\n",
      "08/26/2023, 13:21:00# labels of Validation: tensor([106,  47,   0,  85], device='cuda:1') torch.Size([4])\n",
      "08/26/2023, 13:21:00# predicted of Validation: tensor([106,  74,   0,  85], device='cuda:1') torch.Size([4])\n",
      "08/26/2023, 13:21:09# labels of Validation: tensor([146, 146,  63, 130], device='cuda:1') torch.Size([4])\n",
      "08/26/2023, 13:21:09# predicted of Validation: tensor([146, 146,  74, 130], device='cuda:1') torch.Size([4])\n",
      "08/26/2023, 13:21:18# labels of Validation: tensor([123, 101,  49, 106], device='cuda:1') torch.Size([4])\n",
      "08/26/2023, 13:21:18# predicted of Validation: tensor([123, 108,  74, 106], device='cuda:1') torch.Size([4])\n",
      "08/26/2023, 13:21:27# labels of Validation: tensor([108,   8, 148,  68], device='cuda:1') torch.Size([4])\n",
      "08/26/2023, 13:21:27# predicted of Validation: tensor([  6, 108, 108, 108], device='cuda:1') torch.Size([4])\n",
      "08/26/2023, 13:21:29# Validation Loss: 2.7464 | Validation Accuracy: 0.3872\n",
      "\n"
     ]
    },
    {
     "data": {
      "application/vnd.jupyter.widget-view+json": {
       "model_id": "1c3169a904d040a4accb00ad701a1407",
       "version_major": 2,
       "version_minor": 0
      },
      "text/plain": [
       "Training:   0%|          | 0/33000 [00:00<?, ?it/s]"
      ]
     },
     "metadata": {},
     "output_type": "display_data"
    },
    {
     "name": "stdout",
     "output_type": "stream",
     "text": [
      "08/26/2023, 13:22:46# labels of 5000: tensor([ 40,  62, 103,  85], device='cuda:1') torch.Size([4])\n",
      "08/26/2023, 13:22:46# predicted of 5000: tensor([ 40,  62, 166,  85], device='cuda:1') torch.Size([4])\n",
      "08/26/2023, 13:24:01# labels of 10000: tensor([ 56, 138,  42,  79], device='cuda:1') torch.Size([4])\n",
      "08/26/2023, 13:24:01# predicted of 10000: tensor([ 56, 138,  83,  79], device='cuda:1') torch.Size([4])\n",
      "08/26/2023, 13:25:20# labels of 15000: tensor([48, 24, 89, 75], device='cuda:1') torch.Size([4])\n",
      "08/26/2023, 13:25:20# predicted of 15000: tensor([112, 112,  89, 112], device='cuda:1') torch.Size([4])\n",
      "08/26/2023, 13:26:39# labels of 20000: tensor([151, 105, 166,  72], device='cuda:1') torch.Size([4])\n",
      "08/26/2023, 13:26:39# predicted of 20000: tensor([129, 105,  28,  72], device='cuda:1') torch.Size([4])\n",
      "08/26/2023, 13:28:00# labels of 25000: tensor([127,  39, 142,  56], device='cuda:1') torch.Size([4])\n",
      "08/26/2023, 13:28:00# predicted of 25000: tensor([127,  39,  87,  56], device='cuda:1') torch.Size([4])\n",
      "08/26/2023, 13:29:20# labels of 30000: tensor([106, 131, 164, 132], device='cuda:1') torch.Size([4])\n",
      "08/26/2023, 13:29:20# predicted of 30000: tensor([106, 155,  48, 132], device='cuda:1') torch.Size([4])\n",
      "08/26/2023, 13:30:07# total batches: 33000\n",
      "08/26/2023, 13:30:07# Epoch 12 | Train Loss: 2.7588 | Train Accuracy: 0.3826\n"
     ]
    },
    {
     "data": {
      "application/vnd.jupyter.widget-view+json": {
       "model_id": "ef924bb671bf4090a1de90a087f2fbed",
       "version_major": 2,
       "version_minor": 0
      },
      "text/plain": [
       "Validation:   0%|          | 0/4125 [00:00<?, ?it/s]"
      ]
     },
     "metadata": {},
     "output_type": "display_data"
    },
    {
     "name": "stdout",
     "output_type": "stream",
     "text": [
      "08/26/2023, 13:30:07# labels of Validation: tensor([ 46, 127,  34, 129], device='cuda:1') torch.Size([4])\n",
      "08/26/2023, 13:30:07# predicted of Validation: tensor([ 55, 127,  55,  77], device='cuda:1') torch.Size([4])\n",
      "08/26/2023, 13:30:07# labels of 0: tensor([ 46, 127,  34, 129], device='cuda:1') torch.Size([4])\n",
      "08/26/2023, 13:30:07# predicted of 0: tensor([ 55, 127,  55,  77], device='cuda:1') torch.Size([4])\n",
      "08/26/2023, 13:30:16# labels of Validation: tensor([134,  25, 144, 155], device='cuda:1') torch.Size([4])\n",
      "08/26/2023, 13:30:16# predicted of Validation: tensor([134,  25,  55, 132], device='cuda:1') torch.Size([4])\n",
      "08/26/2023, 13:30:25# labels of Validation: tensor([ 39,  49, 147, 117], device='cuda:1') torch.Size([4])\n",
      "08/26/2023, 13:30:25# predicted of Validation: tensor([ 39,  55, 147, 117], device='cuda:1') torch.Size([4])\n",
      "08/26/2023, 13:30:34# labels of Validation: tensor([113, 113, 125, 115], device='cuda:1') torch.Size([4])\n",
      "08/26/2023, 13:30:34# predicted of Validation: tensor([ 77,  77,  55, 115], device='cuda:1') torch.Size([4])\n",
      "08/26/2023, 13:30:44# labels of Validation: tensor([142,  80, 155,  36], device='cuda:1') torch.Size([4])\n",
      "08/26/2023, 13:30:44# predicted of Validation: tensor([ 55,  80, 132,  55], device='cuda:1') torch.Size([4])\n",
      "08/26/2023, 13:30:45# Validation Loss: 2.7457 | Validation Accuracy: 0.3810\n",
      "\n"
     ]
    },
    {
     "data": {
      "application/vnd.jupyter.widget-view+json": {
       "model_id": "702861ced8cd45c7873b73d0d02848bf",
       "version_major": 2,
       "version_minor": 0
      },
      "text/plain": [
       "Training:   0%|          | 0/33000 [00:00<?, ?it/s]"
      ]
     },
     "metadata": {},
     "output_type": "display_data"
    },
    {
     "name": "stdout",
     "output_type": "stream",
     "text": [
      "08/26/2023, 13:32:01# labels of 5000: tensor([ 28, 103, 123,  87], device='cuda:1') torch.Size([4])\n",
      "08/26/2023, 13:32:01# predicted of 5000: tensor([132, 132, 123,  81], device='cuda:1') torch.Size([4])\n",
      "08/26/2023, 13:33:20# labels of 10000: tensor([ 43,  66, 124,  13], device='cuda:1') torch.Size([4])\n",
      "08/26/2023, 13:33:20# predicted of 10000: tensor([ 36, 132,  26,  13], device='cuda:1') torch.Size([4])\n",
      "08/26/2023, 13:34:36# labels of 15000: tensor([16, 39, 34, 40], device='cuda:1') torch.Size([4])\n",
      "08/26/2023, 13:34:36# predicted of 15000: tensor([ 16,  39, 135,  40], device='cuda:1') torch.Size([4])\n",
      "08/26/2023, 13:35:51# labels of 20000: tensor([86, 30, 58, 36], device='cuda:1') torch.Size([4])\n",
      "08/26/2023, 13:35:51# predicted of 20000: tensor([33, 42, 54, 33], device='cuda:1') torch.Size([4])\n",
      "08/26/2023, 13:37:04# labels of 25000: tensor([67, 32, 79,  5], device='cuda:1') torch.Size([4])\n",
      "08/26/2023, 13:37:04# predicted of 25000: tensor([78, 32, 79,  5], device='cuda:1') torch.Size([4])\n",
      "08/26/2023, 13:38:23# labels of 30000: tensor([  4,  39, 145,  52], device='cuda:1') torch.Size([4])\n",
      "08/26/2023, 13:38:23# predicted of 30000: tensor([150,  39, 145,  52], device='cuda:1') torch.Size([4])\n",
      "08/26/2023, 13:39:09# total batches: 33000\n",
      "08/26/2023, 13:39:09# Epoch 13 | Train Loss: 2.7578 | Train Accuracy: 0.3826\n"
     ]
    },
    {
     "data": {
      "application/vnd.jupyter.widget-view+json": {
       "model_id": "ebc468fbaaa2470db85b0a2a29756bd0",
       "version_major": 2,
       "version_minor": 0
      },
      "text/plain": [
       "Validation:   0%|          | 0/4125 [00:00<?, ?it/s]"
      ]
     },
     "metadata": {},
     "output_type": "display_data"
    },
    {
     "name": "stdout",
     "output_type": "stream",
     "text": [
      "08/26/2023, 13:39:09# labels of Validation: tensor([ 72,  91, 124,   9], device='cuda:1') torch.Size([4])\n",
      "08/26/2023, 13:39:09# predicted of Validation: tensor([ 72, 161, 102, 102], device='cuda:1') torch.Size([4])\n",
      "08/26/2023, 13:39:09# labels of 0: tensor([ 72,  91, 124,   9], device='cuda:1') torch.Size([4])\n",
      "08/26/2023, 13:39:09# predicted of 0: tensor([ 72, 161, 102, 102], device='cuda:1') torch.Size([4])\n",
      "08/26/2023, 13:39:18# labels of Validation: tensor([123, 131, 153,  46], device='cuda:1') torch.Size([4])\n",
      "08/26/2023, 13:39:18# predicted of Validation: tensor([123, 161, 102, 102], device='cuda:1') torch.Size([4])\n",
      "08/26/2023, 13:39:27# labels of Validation: tensor([108, 133,  87, 116], device='cuda:1') torch.Size([4])\n",
      "08/26/2023, 13:39:27# predicted of Validation: tensor([161, 108, 102, 102], device='cuda:1') torch.Size([4])\n",
      "08/26/2023, 13:39:36# labels of Validation: tensor([140,  64,  92,  44], device='cuda:1') torch.Size([4])\n",
      "08/26/2023, 13:39:36# predicted of Validation: tensor([140, 108, 102, 102], device='cuda:1') torch.Size([4])\n",
      "08/26/2023, 13:39:45# labels of Validation: tensor([139,  92,  14,  38], device='cuda:1') torch.Size([4])\n",
      "08/26/2023, 13:39:45# predicted of Validation: tensor([102, 102, 102, 102], device='cuda:1') torch.Size([4])\n",
      "08/26/2023, 13:39:46# Validation Loss: 2.7429 | Validation Accuracy: 0.3812\n",
      "\n"
     ]
    },
    {
     "data": {
      "application/vnd.jupyter.widget-view+json": {
       "model_id": "f2957f4ce8094846a12a860c53181dc9",
       "version_major": 2,
       "version_minor": 0
      },
      "text/plain": [
       "Training:   0%|          | 0/33000 [00:00<?, ?it/s]"
      ]
     },
     "metadata": {},
     "output_type": "display_data"
    },
    {
     "name": "stdout",
     "output_type": "stream",
     "text": [
      "08/26/2023, 13:41:04# labels of 5000: tensor([ 62,  33,  29, 153], device='cuda:1') torch.Size([4])\n",
      "08/26/2023, 13:41:04# predicted of 5000: tensor([62, 58, 29, 58], device='cuda:1') torch.Size([4])\n",
      "08/26/2023, 13:42:23# labels of 10000: tensor([  8,  95, 155, 133], device='cuda:1') torch.Size([4])\n",
      "08/26/2023, 13:42:23# predicted of 10000: tensor([  8,  95, 132, 141], device='cuda:1') torch.Size([4])\n",
      "08/26/2023, 13:43:39# labels of 15000: tensor([119,  82, 158,  10], device='cuda:1') torch.Size([4])\n",
      "08/26/2023, 13:43:39# predicted of 15000: tensor([33, 82, 33,  9], device='cuda:1') torch.Size([4])\n",
      "08/26/2023, 13:44:53# labels of 20000: tensor([ 74, 106,  67, 108], device='cuda:1') torch.Size([4])\n",
      "08/26/2023, 13:44:53# predicted of 20000: tensor([113, 106,  78,  28], device='cuda:1') torch.Size([4])\n",
      "08/26/2023, 13:46:17# labels of 25000: tensor([102, 149,  79,  51], device='cuda:1') torch.Size([4])\n",
      "08/26/2023, 13:46:17# predicted of 25000: tensor([121, 149,  79, 132], device='cuda:1') torch.Size([4])\n",
      "08/26/2023, 13:47:31# labels of 30000: tensor([24, 61, 68, 59], device='cuda:1') torch.Size([4])\n",
      "08/26/2023, 13:47:31# predicted of 30000: tensor([163,  61, 133,  21], device='cuda:1') torch.Size([4])\n",
      "08/26/2023, 13:48:18# total batches: 33000\n",
      "08/26/2023, 13:48:18# Epoch 14 | Train Loss: 2.7565 | Train Accuracy: 0.3833\n"
     ]
    },
    {
     "data": {
      "application/vnd.jupyter.widget-view+json": {
       "model_id": "0126348c1a964512aaa8587ffd5fa361",
       "version_major": 2,
       "version_minor": 0
      },
      "text/plain": [
       "Validation:   0%|          | 0/4125 [00:00<?, ?it/s]"
      ]
     },
     "metadata": {},
     "output_type": "display_data"
    },
    {
     "name": "stdout",
     "output_type": "stream",
     "text": [
      "08/26/2023, 13:48:18# labels of Validation: tensor([56, 70, 15, 31], device='cuda:1') torch.Size([4])\n",
      "08/26/2023, 13:48:18# predicted of Validation: tensor([56, 70, 15, 34], device='cuda:1') torch.Size([4])\n",
      "08/26/2023, 13:48:18# labels of 0: tensor([56, 70, 15, 31], device='cuda:1') torch.Size([4])\n",
      "08/26/2023, 13:48:18# predicted of 0: tensor([56, 70, 15, 34], device='cuda:1') torch.Size([4])\n",
      "08/26/2023, 13:48:28# labels of Validation: tensor([ 44,  69, 161,  31], device='cuda:1') torch.Size([4])\n",
      "08/26/2023, 13:48:28# predicted of Validation: tensor([ 34,  69, 132,  34], device='cuda:1') torch.Size([4])\n",
      "08/26/2023, 13:48:37# labels of Validation: tensor([148, 125,  38,  96], device='cuda:1') torch.Size([4])\n",
      "08/26/2023, 13:48:37# predicted of Validation: tensor([108,  34,  34,  96], device='cuda:1') torch.Size([4])\n",
      "08/26/2023, 13:48:46# labels of Validation: tensor([ 81, 119,  23,  24], device='cuda:1') torch.Size([4])\n",
      "08/26/2023, 13:48:46# predicted of Validation: tensor([34, 34, 23, 34], device='cuda:1') torch.Size([4])\n",
      "08/26/2023, 13:48:55# labels of Validation: tensor([ 89, 128, 114,  68], device='cuda:1') torch.Size([4])\n",
      "08/26/2023, 13:48:55# predicted of Validation: tensor([ 89, 128, 108, 108], device='cuda:1') torch.Size([4])\n",
      "08/26/2023, 13:48:56# Validation Loss: 2.7423 | Validation Accuracy: 0.3812\n",
      "\n"
     ]
    },
    {
     "data": {
      "application/vnd.jupyter.widget-view+json": {
       "model_id": "77c1e9a9d03e43c2bc82ceac47b1e294",
       "version_major": 2,
       "version_minor": 0
      },
      "text/plain": [
       "Training:   0%|          | 0/33000 [00:00<?, ?it/s]"
      ]
     },
     "metadata": {},
     "output_type": "display_data"
    },
    {
     "name": "stdout",
     "output_type": "stream",
     "text": [
      "08/26/2023, 13:50:12# labels of 5000: tensor([39, 15, 52, 26], device='cuda:1') torch.Size([4])\n",
      "08/26/2023, 13:50:12# predicted of 5000: tensor([39, 15, 52, 86], device='cuda:1') torch.Size([4])\n",
      "08/26/2023, 13:51:29# labels of 10000: tensor([ 98, 112,  32, 142], device='cuda:1') torch.Size([4])\n",
      "08/26/2023, 13:51:29# predicted of 10000: tensor([151, 151,  32, 153], device='cuda:1') torch.Size([4])\n",
      "08/26/2023, 13:52:46# labels of 15000: tensor([149,  54, 166, 156], device='cuda:1') torch.Size([4])\n",
      "08/26/2023, 13:52:46# predicted of 15000: tensor([149, 116, 129, 156], device='cuda:1') torch.Size([4])\n",
      "08/26/2023, 13:54:04# labels of 20000: tensor([ 91,  30,  84, 149], device='cuda:1') torch.Size([4])\n",
      "08/26/2023, 13:54:04# predicted of 20000: tensor([107, 107,  84, 149], device='cuda:1') torch.Size([4])\n",
      "08/26/2023, 13:55:25# labels of 25000: tensor([ 96,  15, 120,  50], device='cuda:1') torch.Size([4])\n",
      "08/26/2023, 13:55:25# predicted of 25000: tensor([ 96,  15, 120,  50], device='cuda:1') torch.Size([4])\n",
      "08/26/2023, 13:56:46# labels of 30000: tensor([ 50,  50,  91, 129], device='cuda:1') torch.Size([4])\n",
      "08/26/2023, 13:56:46# predicted of 30000: tensor([50, 50, 28, 28], device='cuda:1') torch.Size([4])\n",
      "08/26/2023, 13:57:32# total batches: 33000\n",
      "08/26/2023, 13:57:32# Epoch 15 | Train Loss: 2.7556 | Train Accuracy: 0.3823\n"
     ]
    },
    {
     "data": {
      "application/vnd.jupyter.widget-view+json": {
       "model_id": "86d66aebfe1341d084c69b043ff85b61",
       "version_major": 2,
       "version_minor": 0
      },
      "text/plain": [
       "Validation:   0%|          | 0/4125 [00:00<?, ?it/s]"
      ]
     },
     "metadata": {},
     "output_type": "display_data"
    },
    {
     "name": "stdout",
     "output_type": "stream",
     "text": [
      "08/26/2023, 13:57:32# labels of Validation: tensor([107,  78, 158, 160], device='cuda:1') torch.Size([4])\n",
      "08/26/2023, 13:57:32# predicted of Validation: tensor([155,  78,  33, 155], device='cuda:1') torch.Size([4])\n",
      "08/26/2023, 13:57:32# labels of 0: tensor([107,  78, 158, 160], device='cuda:1') torch.Size([4])\n",
      "08/26/2023, 13:57:32# predicted of 0: tensor([155,  78,  33, 155], device='cuda:1') torch.Size([4])\n",
      "08/26/2023, 13:57:42# labels of Validation: tensor([ 75, 154,  64, 127], device='cuda:1') torch.Size([4])\n",
      "08/26/2023, 13:57:42# predicted of Validation: tensor([ 33, 154, 155, 127], device='cuda:1') torch.Size([4])\n",
      "08/26/2023, 13:57:51# labels of Validation: tensor([ 59, 117,  53, 108], device='cuda:1') torch.Size([4])\n",
      "08/26/2023, 13:57:51# predicted of Validation: tensor([155, 117,  33, 161], device='cuda:1') torch.Size([4])\n",
      "08/26/2023, 13:58:00# labels of Validation: tensor([  6, 103, 108,  44], device='cuda:1') torch.Size([4])\n",
      "08/26/2023, 13:58:00# predicted of Validation: tensor([161, 155, 161,  33], device='cuda:1') torch.Size([4])\n",
      "08/26/2023, 13:58:10# labels of Validation: tensor([ 83, 153, 125,   5], device='cuda:1') torch.Size([4])\n",
      "08/26/2023, 13:58:10# predicted of Validation: tensor([33, 33, 33,  5], device='cuda:1') torch.Size([4])\n",
      "08/26/2023, 13:58:11# Validation Loss: 2.7442 | Validation Accuracy: 0.3813\n",
      "\n"
     ]
    },
    {
     "data": {
      "application/vnd.jupyter.widget-view+json": {
       "model_id": "91f915ba4f02461281b34bd2af366092",
       "version_major": 2,
       "version_minor": 0
      },
      "text/plain": [
       "Training:   0%|          | 0/33000 [00:00<?, ?it/s]"
      ]
     },
     "metadata": {},
     "output_type": "display_data"
    },
    {
     "name": "stdout",
     "output_type": "stream",
     "text": [
      "08/26/2023, 13:59:29# labels of 5000: tensor([155,  93, 142,  11], device='cuda:1') torch.Size([4])\n",
      "08/26/2023, 13:59:29# predicted of 5000: tensor([161, 132,  68,  71], device='cuda:1') torch.Size([4])\n",
      "08/26/2023, 14:00:52# labels of 10000: tensor([ 38, 128, 149,  10], device='cuda:1') torch.Size([4])\n",
      "08/26/2023, 14:00:52# predicted of 10000: tensor([ 21, 128, 149,  31], device='cuda:1') torch.Size([4])\n",
      "08/26/2023, 14:02:04# labels of 15000: tensor([ 73, 123,  41, 116], device='cuda:1') torch.Size([4])\n",
      "08/26/2023, 14:02:04# predicted of 15000: tensor([ 73, 123, 141,  36], device='cuda:1') torch.Size([4])\n",
      "08/26/2023, 14:03:21# labels of 20000: tensor([ 15,  61,  21, 135], device='cuda:1') torch.Size([4])\n",
      "08/26/2023, 14:03:21# predicted of 20000: tensor([ 15,  61, 161,  43], device='cuda:1') torch.Size([4])\n",
      "08/26/2023, 14:04:38# labels of 25000: tensor([109, 126, 100,  71], device='cuda:1') torch.Size([4])\n",
      "08/26/2023, 14:04:38# predicted of 25000: tensor([ 58, 126,  93, 152], device='cuda:1') torch.Size([4])\n",
      "08/26/2023, 14:05:51# labels of 30000: tensor([137,  53,  35,  58], device='cuda:1') torch.Size([4])\n",
      "08/26/2023, 14:05:51# predicted of 30000: tensor([142, 142,  35, 142], device='cuda:1') torch.Size([4])\n",
      "08/26/2023, 14:06:38# total batches: 33000\n",
      "08/26/2023, 14:06:38# Epoch 16 | Train Loss: 2.7545 | Train Accuracy: 0.3829\n"
     ]
    },
    {
     "data": {
      "application/vnd.jupyter.widget-view+json": {
       "model_id": "b11a8f7d62444b359d4f4ec3a3a5c3e0",
       "version_major": 2,
       "version_minor": 0
      },
      "text/plain": [
       "Validation:   0%|          | 0/4125 [00:00<?, ?it/s]"
      ]
     },
     "metadata": {},
     "output_type": "display_data"
    },
    {
     "name": "stdout",
     "output_type": "stream",
     "text": [
      "08/26/2023, 14:06:38# labels of Validation: tensor([155,  94,  80, 155], device='cuda:1') torch.Size([4])\n",
      "08/26/2023, 14:06:38# predicted of Validation: tensor([161,  94,  80, 161], device='cuda:1') torch.Size([4])\n",
      "08/26/2023, 14:06:38# labels of 0: tensor([155,  94,  80, 155], device='cuda:1') torch.Size([4])\n",
      "08/26/2023, 14:06:38# predicted of 0: tensor([161,  94,  80, 161], device='cuda:1') torch.Size([4])\n",
      "08/26/2023, 14:06:47# labels of Validation: tensor([ 1, 31, 81, 56], device='cuda:1') torch.Size([4])\n",
      "08/26/2023, 14:06:47# predicted of Validation: tensor([24, 24, 24, 56], device='cuda:1') torch.Size([4])\n",
      "08/26/2023, 14:06:56# labels of Validation: tensor([124,  19, 163, 103], device='cuda:1') torch.Size([4])\n",
      "08/26/2023, 14:06:56# predicted of Validation: tensor([24, 24, 24, 66], device='cuda:1') torch.Size([4])\n",
      "08/26/2023, 14:07:05# labels of Validation: tensor([156, 166,  10, 141], device='cuda:1') torch.Size([4])\n",
      "08/26/2023, 14:07:05# predicted of Validation: tensor([156, 161,  24,  66], device='cuda:1') torch.Size([4])\n",
      "08/26/2023, 14:07:14# labels of Validation: tensor([ 11, 136, 121, 107], device='cuda:1') torch.Size([4])\n",
      "08/26/2023, 14:07:14# predicted of Validation: tensor([ 24, 136,  24,  66], device='cuda:1') torch.Size([4])\n",
      "08/26/2023, 14:07:15# Validation Loss: 2.7418 | Validation Accuracy: 0.3810\n",
      "\n"
     ]
    },
    {
     "data": {
      "application/vnd.jupyter.widget-view+json": {
       "model_id": "2cfedbfbc01a49fe8a93ed2094b2652d",
       "version_major": 2,
       "version_minor": 0
      },
      "text/plain": [
       "Training:   0%|          | 0/33000 [00:00<?, ?it/s]"
      ]
     },
     "metadata": {},
     "output_type": "display_data"
    },
    {
     "name": "stdout",
     "output_type": "stream",
     "text": [
      "08/26/2023, 14:08:34# labels of 5000: tensor([140,  18, 151,   4], device='cuda:1') torch.Size([4])\n",
      "08/26/2023, 14:08:34# predicted of 5000: tensor([140,  24, 135,  24], device='cuda:1') torch.Size([4])\n",
      "08/26/2023, 14:09:51# labels of 10000: tensor([159,   1, 126,  58], device='cuda:1') torch.Size([4])\n",
      "08/26/2023, 14:09:51# predicted of 10000: tensor([159,  38, 126,  38], device='cuda:1') torch.Size([4])\n",
      "08/26/2023, 14:11:10# labels of 15000: tensor([ 97,  41, 143,  24], device='cuda:1') torch.Size([4])\n",
      "08/26/2023, 14:11:10# predicted of 15000: tensor([60, 60, 60, 60], device='cuda:1') torch.Size([4])\n",
      "08/26/2023, 14:12:29# labels of 20000: tensor([ 67,  94,  27, 154], device='cuda:1') torch.Size([4])\n",
      "08/26/2023, 14:12:29# predicted of 20000: tensor([ 78,  94,  27, 154], device='cuda:1') torch.Size([4])\n",
      "08/26/2023, 14:13:46# labels of 25000: tensor([ 76, 132, 162,   4], device='cuda:1') torch.Size([4])\n",
      "08/26/2023, 14:13:46# predicted of 25000: tensor([ 34, 132,  33, 125], device='cuda:1') torch.Size([4])\n",
      "08/26/2023, 14:15:04# labels of 30000: tensor([ 20, 162, 120,  23], device='cuda:1') torch.Size([4])\n",
      "08/26/2023, 14:15:04# predicted of 30000: tensor([110,  11, 120,  23], device='cuda:1') torch.Size([4])\n",
      "08/26/2023, 14:15:52# total batches: 33000\n",
      "08/26/2023, 14:15:52# Epoch 17 | Train Loss: 2.7540 | Train Accuracy: 0.3820\n"
     ]
    },
    {
     "data": {
      "application/vnd.jupyter.widget-view+json": {
       "model_id": "96231d61984040c5a50636165a5732f2",
       "version_major": 2,
       "version_minor": 0
      },
      "text/plain": [
       "Validation:   0%|          | 0/4125 [00:00<?, ?it/s]"
      ]
     },
     "metadata": {},
     "output_type": "display_data"
    },
    {
     "name": "stdout",
     "output_type": "stream",
     "text": [
      "08/26/2023, 14:15:52# labels of Validation: tensor([155,   3, 114, 161], device='cuda:1') torch.Size([4])\n",
      "08/26/2023, 14:15:52# predicted of Validation: tensor([132,   3, 132, 132], device='cuda:1') torch.Size([4])\n",
      "08/26/2023, 14:15:52# labels of 0: tensor([155,   3, 114, 161], device='cuda:1') torch.Size([4])\n",
      "08/26/2023, 14:15:52# predicted of 0: tensor([132,   3, 132, 132], device='cuda:1') torch.Size([4])\n",
      "08/26/2023, 14:16:01# labels of Validation: tensor([ 45,  20,  24, 122], device='cuda:1') torch.Size([4])\n",
      "08/26/2023, 14:16:01# predicted of Validation: tensor([ 45,   9,   9, 122], device='cuda:1') torch.Size([4])\n",
      "08/26/2023, 14:16:10# labels of Validation: tensor([ 85, 107, 117, 154], device='cuda:1') torch.Size([4])\n",
      "08/26/2023, 14:16:10# predicted of Validation: tensor([ 85, 132, 117, 154], device='cuda:1') torch.Size([4])\n",
      "08/26/2023, 14:16:19# labels of Validation: tensor([ 98,  88,  63, 140], device='cuda:1') torch.Size([4])\n",
      "08/26/2023, 14:16:19# predicted of Validation: tensor([  9, 132,   9, 140], device='cuda:1') torch.Size([4])\n",
      "08/26/2023, 14:16:28# labels of Validation: tensor([ 31,  44, 125,  47], device='cuda:1') torch.Size([4])\n",
      "08/26/2023, 14:16:28# predicted of Validation: tensor([9, 9, 9, 9], device='cuda:1') torch.Size([4])\n",
      "08/26/2023, 14:16:30# Validation Loss: 2.7415 | Validation Accuracy: 0.3808\n",
      "\n"
     ]
    },
    {
     "data": {
      "application/vnd.jupyter.widget-view+json": {
       "model_id": "9f68d54f870d4da794428905a18333fe",
       "version_major": 2,
       "version_minor": 0
      },
      "text/plain": [
       "Training:   0%|          | 0/33000 [00:00<?, ?it/s]"
      ]
     },
     "metadata": {},
     "output_type": "display_data"
    },
    {
     "name": "stdout",
     "output_type": "stream",
     "text": [
      "08/26/2023, 14:17:48# labels of 5000: tensor([105,  16,  51, 117], device='cuda:1') torch.Size([4])\n",
      "08/26/2023, 14:17:48# predicted of 5000: tensor([105,  16, 161, 117], device='cuda:1') torch.Size([4])\n",
      "08/26/2023, 14:19:01# labels of 10000: tensor([152,   0, 136,  64], device='cuda:1') torch.Size([4])\n",
      "08/26/2023, 14:19:01# predicted of 10000: tensor([ 59,   0, 136,  59], device='cuda:1') torch.Size([4])\n",
      "08/26/2023, 14:20:17# labels of 15000: tensor([106, 156, 105,  56], device='cuda:1') torch.Size([4])\n",
      "08/26/2023, 14:20:17# predicted of 15000: tensor([106, 156, 105,  56], device='cuda:1') torch.Size([4])\n",
      "08/26/2023, 14:21:31# labels of 20000: tensor([129,  56,  98, 166], device='cuda:1') torch.Size([4])\n",
      "08/26/2023, 14:21:31# predicted of 20000: tensor([141,  56,  10, 161], device='cuda:1') torch.Size([4])\n",
      "08/26/2023, 14:22:50# labels of 25000: tensor([66, 16, 60,  8], device='cuda:1') torch.Size([4])\n",
      "08/26/2023, 14:22:50# predicted of 25000: tensor([132,  16, 164,  28], device='cuda:1') torch.Size([4])\n",
      "08/26/2023, 14:24:08# labels of 30000: tensor([151, 164,  58, 165], device='cuda:1') torch.Size([4])\n",
      "08/26/2023, 14:24:08# predicted of 30000: tensor([ 74,  74,  74, 165], device='cuda:1') torch.Size([4])\n",
      "08/26/2023, 14:24:53# total batches: 33000\n",
      "08/26/2023, 14:24:53# Epoch 18 | Train Loss: 2.7528 | Train Accuracy: 0.3826\n"
     ]
    },
    {
     "data": {
      "application/vnd.jupyter.widget-view+json": {
       "model_id": "8edbc4de00634a0d9460baf63714d18e",
       "version_major": 2,
       "version_minor": 0
      },
      "text/plain": [
       "Validation:   0%|          | 0/4125 [00:00<?, ?it/s]"
      ]
     },
     "metadata": {},
     "output_type": "display_data"
    },
    {
     "name": "stdout",
     "output_type": "stream",
     "text": [
      "08/26/2023, 14:24:53# labels of Validation: tensor([104,  99, 120,  25], device='cuda:1') torch.Size([4])\n",
      "08/26/2023, 14:24:53# predicted of Validation: tensor([142,  99, 120,  25], device='cuda:1') torch.Size([4])\n",
      "08/26/2023, 14:24:53# labels of 0: tensor([104,  99, 120,  25], device='cuda:1') torch.Size([4])\n",
      "08/26/2023, 14:24:53# predicted of 0: tensor([142,  99, 120,  25], device='cuda:1') torch.Size([4])\n",
      "08/26/2023, 14:25:03# labels of Validation: tensor([ 36,  89, 120, 154], device='cuda:1') torch.Size([4])\n",
      "08/26/2023, 14:25:03# predicted of Validation: tensor([142,  89, 120, 154], device='cuda:1') torch.Size([4])\n",
      "08/26/2023, 14:25:13# labels of Validation: tensor([109, 141, 105, 138], device='cuda:1') torch.Size([4])\n",
      "08/26/2023, 14:25:13# predicted of Validation: tensor([142,  37, 105, 138], device='cuda:1') torch.Size([4])\n",
      "08/26/2023, 14:25:22# labels of Validation: tensor([ 36, 155,  38,  56], device='cuda:1') torch.Size([4])\n",
      "08/26/2023, 14:25:22# predicted of Validation: tensor([142, 161, 142,  56], device='cuda:1') torch.Size([4])\n",
      "08/26/2023, 14:25:32# labels of Validation: tensor([130,  14, 122,  51], device='cuda:1') torch.Size([4])\n",
      "08/26/2023, 14:25:32# predicted of Validation: tensor([130, 142, 122, 161], device='cuda:1') torch.Size([4])\n",
      "08/26/2023, 14:25:33# Validation Loss: 2.7422 | Validation Accuracy: 0.3877\n",
      "\n"
     ]
    },
    {
     "data": {
      "application/vnd.jupyter.widget-view+json": {
       "model_id": "9207d30b4b9546ca826bea354370f911",
       "version_major": 2,
       "version_minor": 0
      },
      "text/plain": [
       "Training:   0%|          | 0/33000 [00:00<?, ?it/s]"
      ]
     },
     "metadata": {},
     "output_type": "display_data"
    },
    {
     "name": "stdout",
     "output_type": "stream",
     "text": [
      "08/26/2023, 14:26:46# labels of 5000: tensor([158,  60, 110,  30], device='cuda:1') torch.Size([4])\n",
      "08/26/2023, 14:26:46# predicted of 5000: tensor([ 81,  75, 133, 133], device='cuda:1') torch.Size([4])\n",
      "08/26/2023, 14:28:05# labels of 10000: tensor([130, 105,  50,  89], device='cuda:1') torch.Size([4])\n",
      "08/26/2023, 14:28:05# predicted of 10000: tensor([130, 105,  50,  89], device='cuda:1') torch.Size([4])\n",
      "08/26/2023, 14:29:25# labels of 15000: tensor([46, 12, 32, 40], device='cuda:1') torch.Size([4])\n",
      "08/26/2023, 14:29:25# predicted of 15000: tensor([ 63, 102,  32,  40], device='cuda:1') torch.Size([4])\n",
      "08/26/2023, 14:30:45# labels of 20000: tensor([119,  50, 150,   6], device='cuda:1') torch.Size([4])\n",
      "08/26/2023, 14:30:45# predicted of 20000: tensor([102,  50, 125, 132], device='cuda:1') torch.Size([4])\n",
      "08/26/2023, 14:32:04# labels of 25000: tensor([27, 91, 48, 95], device='cuda:1') torch.Size([4])\n",
      "08/26/2023, 14:32:04# predicted of 25000: tensor([ 27, 148, 152,  95], device='cuda:1') torch.Size([4])\n",
      "08/26/2023, 14:33:20# labels of 30000: tensor([126,  90,  71,  68], device='cuda:1') torch.Size([4])\n",
      "08/26/2023, 14:33:20# predicted of 30000: tensor([126,  91, 142,  28], device='cuda:1') torch.Size([4])\n",
      "08/26/2023, 14:34:08# total batches: 33000\n",
      "08/26/2023, 14:34:08# Epoch 19 | Train Loss: 2.7526 | Train Accuracy: 0.3824\n"
     ]
    },
    {
     "data": {
      "application/vnd.jupyter.widget-view+json": {
       "model_id": "19d6e61a105145699c07ad0b887cd942",
       "version_major": 2,
       "version_minor": 0
      },
      "text/plain": [
       "Validation:   0%|          | 0/4125 [00:00<?, ?it/s]"
      ]
     },
     "metadata": {},
     "output_type": "display_data"
    },
    {
     "name": "stdout",
     "output_type": "stream",
     "text": [
      "08/26/2023, 14:34:08# labels of Validation: tensor([  0, 122,  35,  16], device='cuda:1') torch.Size([4])\n",
      "08/26/2023, 14:34:08# predicted of Validation: tensor([  0, 122,  35,  16], device='cuda:1') torch.Size([4])\n",
      "08/26/2023, 14:34:08# labels of 0: tensor([  0, 122,  35,  16], device='cuda:1') torch.Size([4])\n",
      "08/26/2023, 14:34:08# predicted of 0: tensor([  0, 122,  35,  16], device='cuda:1') torch.Size([4])\n",
      "08/26/2023, 14:34:18# labels of Validation: tensor([  2, 165,  11,   8], device='cuda:1') torch.Size([4])\n",
      "08/26/2023, 14:34:18# predicted of Validation: tensor([ 38, 165,  38,  51], device='cuda:1') torch.Size([4])\n",
      "08/26/2023, 14:34:27# labels of Validation: tensor([ 63,  61,  61, 159], device='cuda:1') torch.Size([4])\n",
      "08/26/2023, 14:34:27# predicted of Validation: tensor([ 38,  61,  61, 159], device='cuda:1') torch.Size([4])\n",
      "08/26/2023, 14:34:36# labels of Validation: tensor([ 85,  59,  20, 139], device='cuda:1') torch.Size([4])\n",
      "08/26/2023, 14:34:36# predicted of Validation: tensor([ 85, 161,  38,  38], device='cuda:1') torch.Size([4])\n",
      "08/26/2023, 14:34:45# labels of Validation: tensor([ 16,  61, 102, 138], device='cuda:1') torch.Size([4])\n",
      "08/26/2023, 14:34:45# predicted of Validation: tensor([ 16,  61,  38, 138], device='cuda:1') torch.Size([4])\n",
      "08/26/2023, 14:34:47# Validation Loss: 2.7389 | Validation Accuracy: 0.3812\n",
      "\n"
     ]
    },
    {
     "data": {
      "application/vnd.jupyter.widget-view+json": {
       "model_id": "0faf95633f684e2fbc2384d986e162a9",
       "version_major": 2,
       "version_minor": 0
      },
      "text/plain": [
       "Training:   0%|          | 0/33000 [00:00<?, ?it/s]"
      ]
     },
     "metadata": {},
     "output_type": "display_data"
    },
    {
     "name": "stdout",
     "output_type": "stream",
     "text": [
      "08/26/2023, 14:36:05# labels of 5000: tensor([ 15,  46, 162,  89], device='cuda:1') torch.Size([4])\n",
      "08/26/2023, 14:36:05# predicted of 5000: tensor([15, 60, 60, 89], device='cuda:1') torch.Size([4])\n",
      "08/26/2023, 14:37:23# labels of 10000: tensor([  0, 133,  40, 147], device='cuda:1') torch.Size([4])\n",
      "08/26/2023, 14:37:23# predicted of 10000: tensor([  0,  28,  40, 147], device='cuda:1') torch.Size([4])\n",
      "08/26/2023, 14:38:43# labels of 15000: tensor([ 88, 110,  81,  78], device='cuda:1') torch.Size([4])\n",
      "08/26/2023, 14:38:43# predicted of 15000: tensor([66, 77, 93, 78], device='cuda:1') torch.Size([4])\n",
      "08/26/2023, 14:40:03# labels of 20000: tensor([ 56, 144,  86, 152], device='cuda:1') torch.Size([4])\n",
      "08/26/2023, 14:40:03# predicted of 20000: tensor([ 56, 129,  34, 129], device='cuda:1') torch.Size([4])\n",
      "08/26/2023, 14:41:22# labels of 25000: tensor([93, 38, 53, 75], device='cuda:1') torch.Size([4])\n",
      "08/26/2023, 14:41:22# predicted of 25000: tensor([132,  49, 135, 119], device='cuda:1') torch.Size([4])\n",
      "08/26/2023, 14:42:37# labels of 30000: tensor([27, 17, 48, 95], device='cuda:1') torch.Size([4])\n",
      "08/26/2023, 14:42:37# predicted of 30000: tensor([27, 17, 88, 95], device='cuda:1') torch.Size([4])\n",
      "08/26/2023, 14:43:24# total batches: 33000\n",
      "08/26/2023, 14:43:24# Epoch 20 | Train Loss: 2.7521 | Train Accuracy: 0.3825\n"
     ]
    },
    {
     "data": {
      "application/vnd.jupyter.widget-view+json": {
       "model_id": "b83500e44c6f40b68c7955d942edab58",
       "version_major": 2,
       "version_minor": 0
      },
      "text/plain": [
       "Validation:   0%|          | 0/4125 [00:00<?, ?it/s]"
      ]
     },
     "metadata": {},
     "output_type": "display_data"
    },
    {
     "name": "stdout",
     "output_type": "stream",
     "text": [
      "08/26/2023, 14:43:24# labels of Validation: tensor([ 86,  25,   8, 113], device='cuda:1') torch.Size([4])\n",
      "08/26/2023, 14:43:24# predicted of Validation: tensor([33, 25, 51, 51], device='cuda:1') torch.Size([4])\n",
      "08/26/2023, 14:43:24# labels of 0: tensor([ 86,  25,   8, 113], device='cuda:1') torch.Size([4])\n",
      "08/26/2023, 14:43:24# predicted of 0: tensor([33, 25, 51, 51], device='cuda:1') torch.Size([4])\n",
      "08/26/2023, 14:43:33# labels of Validation: tensor([  8, 133,  15,  91], device='cuda:1') torch.Size([4])\n",
      "08/26/2023, 14:43:33# predicted of Validation: tensor([ 51,  51,  15, 132], device='cuda:1') torch.Size([4])\n",
      "08/26/2023, 14:43:42# labels of Validation: tensor([144,  20, 136, 162], device='cuda:1') torch.Size([4])\n",
      "08/26/2023, 14:43:42# predicted of Validation: tensor([ 33,  33, 136,  33], device='cuda:1') torch.Size([4])\n",
      "08/26/2023, 14:43:51# labels of Validation: tensor([ 64,  85, 160,  25], device='cuda:1') torch.Size([4])\n",
      "08/26/2023, 14:43:51# predicted of Validation: tensor([51, 85, 51, 25], device='cuda:1') torch.Size([4])\n",
      "08/26/2023, 14:44:00# labels of Validation: tensor([ 54,  12,   1, 132], device='cuda:1') torch.Size([4])\n",
      "08/26/2023, 14:44:00# predicted of Validation: tensor([ 33,  33,  33, 132], device='cuda:1') torch.Size([4])\n",
      "08/26/2023, 14:44:01# Validation Loss: 2.7388 | Validation Accuracy: 0.3815\n",
      "\n"
     ]
    },
    {
     "data": {
      "application/vnd.jupyter.widget-view+json": {
       "model_id": "2d70e926b44c414381658c101da0affd",
       "version_major": 2,
       "version_minor": 0
      },
      "text/plain": [
       "Training:   0%|          | 0/33000 [00:00<?, ?it/s]"
      ]
     },
     "metadata": {},
     "output_type": "display_data"
    },
    {
     "name": "stdout",
     "output_type": "stream",
     "text": [
      "08/26/2023, 14:45:18# labels of 5000: tensor([  9,  98,  31, 160], device='cuda:1') torch.Size([4])\n",
      "08/26/2023, 14:45:18# predicted of 5000: tensor([124, 114, 137, 132], device='cuda:1') torch.Size([4])\n",
      "08/26/2023, 14:46:35# labels of 10000: tensor([ 48, 165,  67,  36], device='cuda:1') torch.Size([4])\n",
      "08/26/2023, 14:46:35# predicted of 10000: tensor([ 57, 165,  78,  57], device='cuda:1') torch.Size([4])\n",
      "08/26/2023, 14:47:51# labels of 15000: tensor([116,  36,  83,  99], device='cuda:1') torch.Size([4])\n",
      "08/26/2023, 14:47:51# predicted of 15000: tensor([ 57,  42, 101,  99], device='cuda:1') torch.Size([4])\n",
      "08/26/2023, 14:49:08# labels of 20000: tensor([101,  27,  67, 149], device='cuda:1') torch.Size([4])\n",
      "08/26/2023, 14:49:08# predicted of 20000: tensor([  6,  27,  78, 149], device='cuda:1') torch.Size([4])\n",
      "08/26/2023, 14:50:27# labels of 25000: tensor([ 99,  90, 151,   8], device='cuda:1') torch.Size([4])\n",
      "08/26/2023, 14:50:27# predicted of 25000: tensor([ 99,  91, 121,  59], device='cuda:1') torch.Size([4])\n",
      "08/26/2023, 14:51:41# labels of 30000: tensor([82, 87, 39, 99], device='cuda:1') torch.Size([4])\n",
      "08/26/2023, 14:51:41# predicted of 30000: tensor([82, 58, 39, 99], device='cuda:1') torch.Size([4])\n",
      "08/26/2023, 14:52:28# total batches: 33000\n",
      "08/26/2023, 14:52:28# Epoch 21 | Train Loss: 2.7510 | Train Accuracy: 0.3823\n"
     ]
    },
    {
     "data": {
      "application/vnd.jupyter.widget-view+json": {
       "model_id": "e1449da96dec45668c0ffd6e1449e448",
       "version_major": 2,
       "version_minor": 0
      },
      "text/plain": [
       "Validation:   0%|          | 0/4125 [00:00<?, ?it/s]"
      ]
     },
     "metadata": {},
     "output_type": "display_data"
    },
    {
     "name": "stdout",
     "output_type": "stream",
     "text": [
      "08/26/2023, 14:52:28# labels of Validation: tensor([ 83, 149,   5, 135], device='cuda:1') torch.Size([4])\n",
      "08/26/2023, 14:52:28# predicted of Validation: tensor([ 74, 149,   5,  74], device='cuda:1') torch.Size([4])\n",
      "08/26/2023, 14:52:28# labels of 0: tensor([ 83, 149,   5, 135], device='cuda:1') torch.Size([4])\n",
      "08/26/2023, 14:52:28# predicted of 0: tensor([ 74, 149,   5,  74], device='cuda:1') torch.Size([4])\n",
      "08/26/2023, 14:52:37# labels of Validation: tensor([80, 98, 28, 18], device='cuda:1') torch.Size([4])\n",
      "08/26/2023, 14:52:37# predicted of Validation: tensor([ 80,  74, 132,  74], device='cuda:1') torch.Size([4])\n",
      "08/26/2023, 14:52:46# labels of Validation: tensor([ 7, 33, 91, 56], device='cuda:1') torch.Size([4])\n",
      "08/26/2023, 14:52:46# predicted of Validation: tensor([ 7, 74,  6, 56], device='cuda:1') torch.Size([4])\n",
      "08/26/2023, 14:52:55# labels of Validation: tensor([ 19,   8, 137,  72], device='cuda:1') torch.Size([4])\n",
      "08/26/2023, 14:52:55# predicted of Validation: tensor([74,  6, 74, 72], device='cuda:1') torch.Size([4])\n",
      "08/26/2023, 14:53:04# labels of Validation: tensor([ 69,  17, 119, 113], device='cuda:1') torch.Size([4])\n",
      "08/26/2023, 14:53:04# predicted of Validation: tensor([69, 17, 74,  6], device='cuda:1') torch.Size([4])\n",
      "08/26/2023, 14:53:05# Validation Loss: 2.7373 | Validation Accuracy: 0.3812\n",
      "\n"
     ]
    },
    {
     "data": {
      "application/vnd.jupyter.widget-view+json": {
       "model_id": "634f415fdb46480c9333bbc8125d3918",
       "version_major": 2,
       "version_minor": 0
      },
      "text/plain": [
       "Training:   0%|          | 0/33000 [00:00<?, ?it/s]"
      ]
     },
     "metadata": {},
     "output_type": "display_data"
    },
    {
     "name": "stdout",
     "output_type": "stream",
     "text": [
      "08/26/2023, 14:54:23# labels of 5000: tensor([118, 100,  29, 104], device='cuda:1') torch.Size([4])\n",
      "08/26/2023, 14:54:23# predicted of 5000: tensor([118,  37,  29,  33], device='cuda:1') torch.Size([4])\n",
      "08/26/2023, 14:55:41# labels of 10000: tensor([105, 102,   3,  61], device='cuda:1') torch.Size([4])\n",
      "08/26/2023, 14:55:41# predicted of 10000: tensor([105, 111,   3,  61], device='cuda:1') torch.Size([4])\n",
      "08/26/2023, 14:56:55# labels of 15000: tensor([ 39, 149,  46,  64], device='cuda:1') torch.Size([4])\n",
      "08/26/2023, 14:56:55# predicted of 15000: tensor([ 39, 149,  24, 132], device='cuda:1') torch.Size([4])\n",
      "08/26/2023, 14:58:15# labels of 20000: tensor([  5, 143,  92, 119], device='cuda:1') torch.Size([4])\n",
      "08/26/2023, 14:58:15# predicted of 20000: tensor([ 5, 31, 31, 71], device='cuda:1') torch.Size([4])\n",
      "08/26/2023, 14:59:32# labels of 25000: tensor([51,  1, 83, 86], device='cuda:1') torch.Size([4])\n",
      "08/26/2023, 14:59:32# predicted of 25000: tensor([161,  36, 163, 157], device='cuda:1') torch.Size([4])\n",
      "08/26/2023, 15:00:48# labels of 30000: tensor([ 35,  30,  61, 132], device='cuda:1') torch.Size([4])\n",
      "08/26/2023, 15:00:48# predicted of 30000: tensor([ 35, 116,  61, 132], device='cuda:1') torch.Size([4])\n",
      "08/26/2023, 15:01:32# total batches: 33000\n",
      "08/26/2023, 15:01:32# Epoch 22 | Train Loss: 2.7503 | Train Accuracy: 0.3829\n"
     ]
    },
    {
     "data": {
      "application/vnd.jupyter.widget-view+json": {
       "model_id": "2a082e8c770943d5ba6cde6b9f579f01",
       "version_major": 2,
       "version_minor": 0
      },
      "text/plain": [
       "Validation:   0%|          | 0/4125 [00:00<?, ?it/s]"
      ]
     },
     "metadata": {},
     "output_type": "display_data"
    },
    {
     "name": "stdout",
     "output_type": "stream",
     "text": [
      "08/26/2023, 15:01:32# labels of Validation: tensor([ 36, 119,  27,  47], device='cuda:1') torch.Size([4])\n",
      "08/26/2023, 15:01:32# predicted of Validation: tensor([121, 121,  27, 121], device='cuda:1') torch.Size([4])\n",
      "08/26/2023, 15:01:32# labels of 0: tensor([ 36, 119,  27,  47], device='cuda:1') torch.Size([4])\n",
      "08/26/2023, 15:01:32# predicted of 0: tensor([121, 121,  27, 121], device='cuda:1') torch.Size([4])\n",
      "08/26/2023, 15:01:41# labels of Validation: tensor([  7,  28, 124, 114], device='cuda:1') torch.Size([4])\n",
      "08/26/2023, 15:01:41# predicted of Validation: tensor([  7, 161, 121, 161], device='cuda:1') torch.Size([4])\n",
      "08/26/2023, 15:01:50# labels of Validation: tensor([ 38, 153,  68, 134], device='cuda:1') torch.Size([4])\n",
      "08/26/2023, 15:01:50# predicted of Validation: tensor([121, 121, 161, 134], device='cuda:1') torch.Size([4])\n",
      "08/26/2023, 15:01:59# labels of Validation: tensor([ 45, 107, 114, 141], device='cuda:1') torch.Size([4])\n",
      "08/26/2023, 15:01:59# predicted of Validation: tensor([ 45, 161, 161, 161], device='cuda:1') torch.Size([4])\n",
      "08/26/2023, 15:02:09# labels of Validation: tensor([50, 13, 63, 30], device='cuda:1') torch.Size([4])\n",
      "08/26/2023, 15:02:09# predicted of Validation: tensor([ 50,  13, 121, 121], device='cuda:1') torch.Size([4])\n",
      "08/26/2023, 15:02:10# Validation Loss: 2.7374 | Validation Accuracy: 0.3813\n",
      "\n"
     ]
    },
    {
     "data": {
      "application/vnd.jupyter.widget-view+json": {
       "model_id": "0f6d8286b1fc4960a72d2211d2ea3622",
       "version_major": 2,
       "version_minor": 0
      },
      "text/plain": [
       "Training:   0%|          | 0/33000 [00:00<?, ?it/s]"
      ]
     },
     "metadata": {},
     "output_type": "display_data"
    },
    {
     "name": "stdout",
     "output_type": "stream",
     "text": [
      "08/26/2023, 15:03:29# labels of 5000: tensor([147,   8,  20,  73], device='cuda:1') torch.Size([4])\n",
      "08/26/2023, 15:03:29# predicted of 5000: tensor([147,  68,  57,  73], device='cuda:1') torch.Size([4])\n",
      "08/26/2023, 15:04:46# labels of 10000: tensor([ 80,  46, 147,  71], device='cuda:1') torch.Size([4])\n",
      "08/26/2023, 15:04:46# predicted of 10000: tensor([ 80,  98, 147,   1], device='cuda:1') torch.Size([4])\n",
      "08/26/2023, 15:06:05# labels of 15000: tensor([117, 142, 107,  96], device='cuda:1') torch.Size([4])\n",
      "08/26/2023, 15:06:05# predicted of 15000: tensor([117, 103, 132,  96], device='cuda:1') torch.Size([4])\n",
      "08/26/2023, 15:07:23# labels of 20000: tensor([ 92, 141,  76,  82], device='cuda:1') torch.Size([4])\n",
      "08/26/2023, 15:07:23# predicted of 20000: tensor([ 64,   6, 160,  82], device='cuda:1') torch.Size([4])\n",
      "08/26/2023, 15:08:40# labels of 25000: tensor([133, 111,  25,  10], device='cuda:1') torch.Size([4])\n",
      "08/26/2023, 15:08:40# predicted of 25000: tensor([161, 109,  25,  38], device='cuda:1') torch.Size([4])\n",
      "08/26/2023, 15:09:57# labels of 30000: tensor([100, 100, 116, 101], device='cuda:1') torch.Size([4])\n",
      "08/26/2023, 15:09:57# predicted of 30000: tensor([ 88, 108,   9, 132], device='cuda:1') torch.Size([4])\n",
      "08/26/2023, 15:10:45# total batches: 33000\n",
      "08/26/2023, 15:10:45# Epoch 23 | Train Loss: 2.7493 | Train Accuracy: 0.3826\n"
     ]
    },
    {
     "data": {
      "application/vnd.jupyter.widget-view+json": {
       "model_id": "70e3ca18da3b48908d4d42ffaaf99179",
       "version_major": 2,
       "version_minor": 0
      },
      "text/plain": [
       "Validation:   0%|          | 0/4125 [00:00<?, ?it/s]"
      ]
     },
     "metadata": {},
     "output_type": "display_data"
    },
    {
     "name": "stdout",
     "output_type": "stream",
     "text": [
      "08/26/2023, 15:10:46# labels of Validation: tensor([30, 26, 89, 90], device='cuda:1') torch.Size([4])\n",
      "08/26/2023, 15:10:46# predicted of Validation: tensor([152, 152,  89,  66], device='cuda:1') torch.Size([4])\n",
      "08/26/2023, 15:10:46# labels of 0: tensor([30, 26, 89, 90], device='cuda:1') torch.Size([4])\n",
      "08/26/2023, 15:10:46# predicted of 0: tensor([152, 152,  89,  66], device='cuda:1') torch.Size([4])\n",
      "08/26/2023, 15:10:55# labels of Validation: tensor([ 21, 135,  77, 113], device='cuda:1') torch.Size([4])\n",
      "08/26/2023, 15:10:55# predicted of Validation: tensor([161, 152, 161,  66], device='cuda:1') torch.Size([4])\n",
      "08/26/2023, 15:11:04# labels of Validation: tensor([ 73, 152, 136, 104], device='cuda:1') torch.Size([4])\n",
      "08/26/2023, 15:11:04# predicted of Validation: tensor([ 73, 152, 136, 152], device='cuda:1') torch.Size([4])\n",
      "08/26/2023, 15:11:13# labels of Validation: tensor([129,  31,   6,  68], device='cuda:1') torch.Size([4])\n",
      "08/26/2023, 15:11:13# predicted of Validation: tensor([ 66, 152, 132,  66], device='cuda:1') torch.Size([4])\n",
      "08/26/2023, 15:11:22# labels of Validation: tensor([ 69,  62,  99, 148], device='cuda:1') torch.Size([4])\n",
      "08/26/2023, 15:11:22# predicted of Validation: tensor([69, 62, 99, 66], device='cuda:1') torch.Size([4])\n",
      "08/26/2023, 15:11:23# Validation Loss: 2.7362 | Validation Accuracy: 0.3813\n",
      "\n"
     ]
    },
    {
     "data": {
      "application/vnd.jupyter.widget-view+json": {
       "model_id": "83902ab40d5242a7a9c332467a038df8",
       "version_major": 2,
       "version_minor": 0
      },
      "text/plain": [
       "Training:   0%|          | 0/33000 [00:00<?, ?it/s]"
      ]
     },
     "metadata": {},
     "output_type": "display_data"
    },
    {
     "name": "stdout",
     "output_type": "stream",
     "text": [
      "08/26/2023, 15:12:42# labels of 5000: tensor([ 12, 145, 116,  70], device='cuda:1') torch.Size([4])\n",
      "08/26/2023, 15:12:42# predicted of 5000: tensor([ 38, 145, 121,  70], device='cuda:1') torch.Size([4])\n",
      "08/26/2023, 15:13:55# labels of 10000: tensor([156, 121,  18,  63], device='cuda:1') torch.Size([4])\n",
      "08/26/2023, 15:13:55# predicted of 10000: tensor([156, 114, 144, 144], device='cuda:1') torch.Size([4])\n",
      "08/26/2023, 15:15:14# labels of 15000: tensor([114, 133, 109,  15], device='cuda:1') torch.Size([4])\n",
      "08/26/2023, 15:15:14# predicted of 15000: tensor([108, 108, 111,  15], device='cuda:1') torch.Size([4])\n",
      "08/26/2023, 15:16:35# labels of 20000: tensor([ 25, 150,  43,  31], device='cuda:1') torch.Size([4])\n",
      "08/26/2023, 15:16:35# predicted of 20000: tensor([ 25,  58, 153,  37], device='cuda:1') torch.Size([4])\n",
      "08/26/2023, 15:17:53# labels of 25000: tensor([ 97, 122, 145,   9], device='cuda:1') torch.Size([4])\n",
      "08/26/2023, 15:17:53# predicted of 25000: tensor([151, 122, 145,  48], device='cuda:1') torch.Size([4])\n",
      "08/26/2023, 15:19:12# labels of 30000: tensor([ 23, 117,  95,  76], device='cuda:1') torch.Size([4])\n",
      "08/26/2023, 15:19:12# predicted of 30000: tensor([ 23, 117,  95,  58], device='cuda:1') torch.Size([4])\n",
      "08/26/2023, 15:20:01# total batches: 33000\n",
      "08/26/2023, 15:20:01# Epoch 24 | Train Loss: 2.7481 | Train Accuracy: 0.3826\n"
     ]
    },
    {
     "data": {
      "application/vnd.jupyter.widget-view+json": {
       "model_id": "cb79d629c8df44eb80980c4969d79a40",
       "version_major": 2,
       "version_minor": 0
      },
      "text/plain": [
       "Validation:   0%|          | 0/4125 [00:00<?, ?it/s]"
      ]
     },
     "metadata": {},
     "output_type": "display_data"
    },
    {
     "name": "stdout",
     "output_type": "stream",
     "text": [
      "08/26/2023, 15:20:02# labels of Validation: tensor([129, 113, 101, 166], device='cuda:1') torch.Size([4])\n",
      "08/26/2023, 15:20:02# predicted of Validation: tensor([ 51,  51, 161, 161], device='cuda:1') torch.Size([4])\n",
      "08/26/2023, 15:20:02# labels of 0: tensor([129, 113, 101, 166], device='cuda:1') torch.Size([4])\n",
      "08/26/2023, 15:20:02# predicted of 0: tensor([ 51,  51, 161, 161], device='cuda:1') torch.Size([4])\n",
      "08/26/2023, 15:20:11# labels of Validation: tensor([  9, 131,  10, 123], device='cuda:1') torch.Size([4])\n",
      "08/26/2023, 15:20:11# predicted of Validation: tensor([ 43, 161,  43, 123], device='cuda:1') torch.Size([4])\n",
      "08/26/2023, 15:20:20# labels of Validation: tensor([48, 32, 91, 34], device='cuda:1') torch.Size([4])\n",
      "08/26/2023, 15:20:20# predicted of Validation: tensor([ 43,  32, 161,  43], device='cuda:1') torch.Size([4])\n",
      "08/26/2023, 15:20:29# labels of Validation: tensor([118,  49, 122,  47], device='cuda:1') torch.Size([4])\n",
      "08/26/2023, 15:20:29# predicted of Validation: tensor([118,  43, 122,  43], device='cuda:1') torch.Size([4])\n",
      "08/26/2023, 15:20:38# labels of Validation: tensor([ 14, 101,  67, 117], device='cuda:1') torch.Size([4])\n",
      "08/26/2023, 15:20:38# predicted of Validation: tensor([ 43, 161,  67, 117], device='cuda:1') torch.Size([4])\n",
      "08/26/2023, 15:20:39# Validation Loss: 2.7369 | Validation Accuracy: 0.3813\n",
      "\n"
     ]
    },
    {
     "data": {
      "application/vnd.jupyter.widget-view+json": {
       "model_id": "6a4a933d7fb64934bf2eecacc0cb5d3b",
       "version_major": 2,
       "version_minor": 0
      },
      "text/plain": [
       "Training:   0%|          | 0/33000 [00:00<?, ?it/s]"
      ]
     },
     "metadata": {},
     "output_type": "display_data"
    },
    {
     "name": "stdout",
     "output_type": "stream",
     "text": [
      "08/26/2023, 15:21:58# labels of 5000: tensor([101, 125, 124,  11], device='cuda:1') torch.Size([4])\n",
      "08/26/2023, 15:21:58# predicted of 5000: tensor([132, 102,  63, 158], device='cuda:1') torch.Size([4])\n",
      "08/26/2023, 15:23:18# labels of 10000: tensor([69,  6, 79,  8], device='cuda:1') torch.Size([4])\n",
      "08/26/2023, 15:23:18# predicted of 10000: tensor([ 69, 161,  79, 108], device='cuda:1') torch.Size([4])\n",
      "08/26/2023, 15:24:38# labels of 15000: tensor([ 78, 141,  44, 149], device='cuda:1') torch.Size([4])\n",
      "08/26/2023, 15:24:38# predicted of 15000: tensor([ 78, 129, 164, 149], device='cuda:1') torch.Size([4])\n",
      "08/26/2023, 15:25:59# labels of 20000: tensor([102,  76, 146, 113], device='cuda:1') torch.Size([4])\n",
      "08/26/2023, 15:25:59# predicted of 20000: tensor([104, 162, 146,  66], device='cuda:1') torch.Size([4])\n",
      "08/26/2023, 15:27:15# labels of 25000: tensor([21, 49, 44, 32], device='cuda:1') torch.Size([4])\n",
      "08/26/2023, 15:27:15# predicted of 25000: tensor([161,  26,  20,  32], device='cuda:1') torch.Size([4])\n",
      "08/26/2023, 15:28:35# labels of 30000: tensor([111,  55,  91,  50], device='cuda:1') torch.Size([4])\n",
      "08/26/2023, 15:28:35# predicted of 30000: tensor([ 30, 153, 161,  50], device='cuda:1') torch.Size([4])\n",
      "08/26/2023, 15:29:19# total batches: 33000\n",
      "08/26/2023, 15:29:19# Epoch 25 | Train Loss: 2.7480 | Train Accuracy: 0.3826\n"
     ]
    },
    {
     "data": {
      "application/vnd.jupyter.widget-view+json": {
       "model_id": "15f294cb76ea48ac966f80a8b47efc82",
       "version_major": 2,
       "version_minor": 0
      },
      "text/plain": [
       "Validation:   0%|          | 0/4125 [00:00<?, ?it/s]"
      ]
     },
     "metadata": {},
     "output_type": "display_data"
    },
    {
     "name": "stdout",
     "output_type": "stream",
     "text": [
      "08/26/2023, 15:29:19# labels of Validation: tensor([ 96, 101,  20,  28], device='cuda:1') torch.Size([4])\n",
      "08/26/2023, 15:29:19# predicted of Validation: tensor([ 96, 132, 142, 132], device='cuda:1') torch.Size([4])\n",
      "08/26/2023, 15:29:19# labels of 0: tensor([ 96, 101,  20,  28], device='cuda:1') torch.Size([4])\n",
      "08/26/2023, 15:29:19# predicted of 0: tensor([ 96, 132, 142, 132], device='cuda:1') torch.Size([4])\n",
      "08/26/2023, 15:29:28# labels of Validation: tensor([130,   4, 145, 156], device='cuda:1') torch.Size([4])\n",
      "08/26/2023, 15:29:28# predicted of Validation: tensor([130, 142, 145, 156], device='cuda:1') torch.Size([4])\n",
      "08/26/2023, 15:29:38# labels of Validation: tensor([ 55,  40, 149,  25], device='cuda:1') torch.Size([4])\n",
      "08/26/2023, 15:29:38# predicted of Validation: tensor([142,  40, 149,  25], device='cuda:1') torch.Size([4])\n",
      "08/26/2023, 15:29:47# labels of Validation: tensor([155,  56,  16,  41], device='cuda:1') torch.Size([4])\n",
      "08/26/2023, 15:29:47# predicted of Validation: tensor([132,  56,  16, 142], device='cuda:1') torch.Size([4])\n",
      "08/26/2023, 15:29:57# labels of Validation: tensor([ 84, 156,  69, 154], device='cuda:1') torch.Size([4])\n",
      "08/26/2023, 15:29:57# predicted of Validation: tensor([ 84, 156,  69, 154], device='cuda:1') torch.Size([4])\n",
      "08/26/2023, 15:29:58# Validation Loss: 2.7357 | Validation Accuracy: 0.3815\n",
      "\n"
     ]
    },
    {
     "data": {
      "application/vnd.jupyter.widget-view+json": {
       "model_id": "32c606f5c14a472aa9470c90929c9a55",
       "version_major": 2,
       "version_minor": 0
      },
      "text/plain": [
       "Training:   0%|          | 0/33000 [00:00<?, ?it/s]"
      ]
     },
     "metadata": {},
     "output_type": "display_data"
    },
    {
     "name": "stdout",
     "output_type": "stream",
     "text": [
      "08/26/2023, 15:31:16# labels of 5000: tensor([111,  53,  31,  38], device='cuda:1') torch.Size([4])\n",
      "08/26/2023, 15:31:16# predicted of 5000: tensor([ 37, 151,  18,  48], device='cuda:1') torch.Size([4])\n",
      "08/26/2023, 15:32:37# labels of 10000: tensor([98, 62, 27, 79], device='cuda:1') torch.Size([4])\n",
      "08/26/2023, 15:32:37# predicted of 10000: tensor([26, 62, 27, 79], device='cuda:1') torch.Size([4])\n",
      "08/26/2023, 15:33:55# labels of 15000: tensor([155, 100, 144,  86], device='cuda:1') torch.Size([4])\n",
      "08/26/2023, 15:33:55# predicted of 15000: tensor([ 28, 114,   4,  19], device='cuda:1') torch.Size([4])\n",
      "08/26/2023, 15:35:14# labels of 20000: tensor([153,   2,  64,  82], device='cuda:1') torch.Size([4])\n",
      "08/26/2023, 15:35:14# predicted of 20000: tensor([36, 36, 51, 82], device='cuda:1') torch.Size([4])\n",
      "08/26/2023, 15:36:32# labels of 25000: tensor([ 36, 114,   6,  32], device='cuda:1') torch.Size([4])\n",
      "08/26/2023, 15:36:32# predicted of 25000: tensor([157, 132, 161,  32], device='cuda:1') torch.Size([4])\n",
      "08/26/2023, 15:37:52# labels of 30000: tensor([21, 58, 52,  1], device='cuda:1') torch.Size([4])\n",
      "08/26/2023, 15:37:52# predicted of 30000: tensor([132, 148,  52, 158], device='cuda:1') torch.Size([4])\n",
      "08/26/2023, 15:38:35# total batches: 33000\n",
      "08/26/2023, 15:38:35# Epoch 26 | Train Loss: 2.7475 | Train Accuracy: 0.3829\n"
     ]
    },
    {
     "data": {
      "application/vnd.jupyter.widget-view+json": {
       "model_id": "d6619a1823d647d499315fe78363049f",
       "version_major": 2,
       "version_minor": 0
      },
      "text/plain": [
       "Validation:   0%|          | 0/4125 [00:00<?, ?it/s]"
      ]
     },
     "metadata": {},
     "output_type": "display_data"
    },
    {
     "name": "stdout",
     "output_type": "stream",
     "text": [
      "08/26/2023, 15:38:35# labels of Validation: tensor([125, 133, 106, 160], device='cuda:1') torch.Size([4])\n",
      "08/26/2023, 15:38:35# predicted of Validation: tensor([139, 101, 106, 101], device='cuda:1') torch.Size([4])\n",
      "08/26/2023, 15:38:35# labels of 0: tensor([125, 133, 106, 160], device='cuda:1') torch.Size([4])\n",
      "08/26/2023, 15:38:35# predicted of 0: tensor([139, 101, 106, 101], device='cuda:1') torch.Size([4])\n",
      "08/26/2023, 15:38:45# labels of Validation: tensor([ 63, 156,  89,  99], device='cuda:1') torch.Size([4])\n",
      "08/26/2023, 15:38:45# predicted of Validation: tensor([139, 156,  89,  99], device='cuda:1') torch.Size([4])\n",
      "08/26/2023, 15:38:54# labels of Validation: tensor([162,   5,   2, 118], device='cuda:1') torch.Size([4])\n",
      "08/26/2023, 15:38:54# predicted of Validation: tensor([139,   5, 139, 118], device='cuda:1') torch.Size([4])\n",
      "08/26/2023, 15:39:03# labels of Validation: tensor([140,  50,  60,  30], device='cuda:1') torch.Size([4])\n",
      "08/26/2023, 15:39:03# predicted of Validation: tensor([140,  50, 139, 139], device='cuda:1') torch.Size([4])\n",
      "08/26/2023, 15:39:12# labels of Validation: tensor([136,  27, 164,  98], device='cuda:1') torch.Size([4])\n",
      "08/26/2023, 15:39:12# predicted of Validation: tensor([136,  27, 139, 139], device='cuda:1') torch.Size([4])\n",
      "08/26/2023, 15:39:13# Validation Loss: 2.7347 | Validation Accuracy: 0.3813\n",
      "\n"
     ]
    },
    {
     "data": {
      "application/vnd.jupyter.widget-view+json": {
       "model_id": "74dfafba2fbe49a59d410138051f1bff",
       "version_major": 2,
       "version_minor": 0
      },
      "text/plain": [
       "Training:   0%|          | 0/33000 [00:00<?, ?it/s]"
      ]
     },
     "metadata": {},
     "output_type": "display_data"
    },
    {
     "name": "stdout",
     "output_type": "stream",
     "text": [
      "08/26/2023, 15:40:30# labels of 5000: tensor([105,   0,  18,  28], device='cuda:1') torch.Size([4])\n",
      "08/26/2023, 15:40:30# predicted of 5000: tensor([105,   0,  81, 161], device='cuda:1') torch.Size([4])\n",
      "08/26/2023, 15:41:49# labels of 10000: tensor([101,  85,  38,  52], device='cuda:1') torch.Size([4])\n",
      "08/26/2023, 15:41:49# predicted of 10000: tensor([131,  85,  48,  52], device='cuda:1') torch.Size([4])\n",
      "08/26/2023, 15:43:04# labels of 15000: tensor([  6,  34, 166, 103], device='cuda:1') torch.Size([4])\n",
      "08/26/2023, 15:43:04# predicted of 15000: tensor([132, 143, 132, 141], device='cuda:1') torch.Size([4])\n",
      "08/26/2023, 15:44:18# labels of 20000: tensor([166,  98,  37, 153], device='cuda:1') torch.Size([4])\n",
      "08/26/2023, 15:44:18# predicted of 20000: tensor([161,  57,  59,  53], device='cuda:1') torch.Size([4])\n",
      "08/26/2023, 15:45:35# labels of 25000: tensor([ 25,  10,  70, 126], device='cuda:1') torch.Size([4])\n",
      "08/26/2023, 15:45:35# predicted of 25000: tensor([ 25,  58,  70, 126], device='cuda:1') torch.Size([4])\n",
      "08/26/2023, 15:46:49# labels of 30000: tensor([114,  41, 110,  31], device='cuda:1') torch.Size([4])\n",
      "08/26/2023, 15:46:49# predicted of 30000: tensor([ 59, 151,  59,  58], device='cuda:1') torch.Size([4])\n",
      "08/26/2023, 15:47:35# total batches: 33000\n",
      "08/26/2023, 15:47:35# Epoch 27 | Train Loss: 2.7466 | Train Accuracy: 0.3831\n"
     ]
    },
    {
     "data": {
      "application/vnd.jupyter.widget-view+json": {
       "model_id": "73f02d86a1424be78480f73061b3d5ab",
       "version_major": 2,
       "version_minor": 0
      },
      "text/plain": [
       "Validation:   0%|          | 0/4125 [00:00<?, ?it/s]"
      ]
     },
     "metadata": {},
     "output_type": "display_data"
    },
    {
     "name": "stdout",
     "output_type": "stream",
     "text": [
      "08/26/2023, 15:47:35# labels of Validation: tensor([17, 69, 70, 28], device='cuda:1') torch.Size([4])\n",
      "08/26/2023, 15:47:35# predicted of Validation: tensor([ 17,  69,  70, 132], device='cuda:1') torch.Size([4])\n",
      "08/26/2023, 15:47:35# labels of 0: tensor([17, 69, 70, 28], device='cuda:1') torch.Size([4])\n",
      "08/26/2023, 15:47:35# predicted of 0: tensor([ 17,  69,  70, 132], device='cuda:1') torch.Size([4])\n",
      "08/26/2023, 15:47:45# labels of Validation: tensor([122,  27,  54, 122], device='cuda:1') torch.Size([4])\n",
      "08/26/2023, 15:47:45# predicted of Validation: tensor([122,  27, 157, 122], device='cuda:1') torch.Size([4])\n",
      "08/26/2023, 15:47:55# labels of Validation: tensor([ 77,  69, 116, 109], device='cuda:1') torch.Size([4])\n",
      "08/26/2023, 15:47:55# predicted of Validation: tensor([ 28,  69, 157, 157], device='cuda:1') torch.Size([4])\n",
      "08/26/2023, 15:48:04# labels of Validation: tensor([ 81, 131,  76,  79], device='cuda:1') torch.Size([4])\n",
      "08/26/2023, 15:48:04# predicted of Validation: tensor([157, 132, 157,  79], device='cuda:1') torch.Size([4])\n",
      "08/26/2023, 15:48:14# labels of Validation: tensor([ 84,  74, 131, 135], device='cuda:1') torch.Size([4])\n",
      "08/26/2023, 15:48:14# predicted of Validation: tensor([ 84, 157, 132, 157], device='cuda:1') torch.Size([4])\n",
      "08/26/2023, 15:48:15# Validation Loss: 2.7344 | Validation Accuracy: 0.3812\n",
      "\n"
     ]
    },
    {
     "data": {
      "application/vnd.jupyter.widget-view+json": {
       "model_id": "0e8c924e4f3443f9bd9e4b03157c6ada",
       "version_major": 2,
       "version_minor": 0
      },
      "text/plain": [
       "Training:   0%|          | 0/33000 [00:00<?, ?it/s]"
      ]
     },
     "metadata": {},
     "output_type": "display_data"
    },
    {
     "name": "stdout",
     "output_type": "stream",
     "text": [
      "08/26/2023, 15:49:34# labels of 5000: tensor([120,  54, 140,  98], device='cuda:1') torch.Size([4])\n",
      "08/26/2023, 15:49:34# predicted of 5000: tensor([120, 150, 140,  10], device='cuda:1') torch.Size([4])\n",
      "08/26/2023, 15:50:55# labels of 10000: tensor([144,  71,  19, 125], device='cuda:1') torch.Size([4])\n",
      "08/26/2023, 15:50:55# predicted of 10000: tensor([162,  49,  76, 162], device='cuda:1') torch.Size([4])\n",
      "08/26/2023, 15:52:14# labels of 15000: tensor([110, 100,  37,  88], device='cuda:1') torch.Size([4])\n",
      "08/26/2023, 15:52:14# predicted of 15000: tensor([131, 132, 131, 161], device='cuda:1') torch.Size([4])\n",
      "08/26/2023, 15:53:34# labels of 20000: tensor([117,   1,  27,  43], device='cuda:1') torch.Size([4])\n",
      "08/26/2023, 15:53:34# predicted of 20000: tensor([117, 121,  27,  42], device='cuda:1') torch.Size([4])\n",
      "08/26/2023, 15:54:51# labels of 25000: tensor([ 78, 152,   3, 138], device='cuda:1') torch.Size([4])\n",
      "08/26/2023, 15:54:51# predicted of 25000: tensor([ 67,  98,   3, 138], device='cuda:1') torch.Size([4])\n",
      "08/26/2023, 15:56:11# labels of 30000: tensor([ 99, 124, 102,  49], device='cuda:1') torch.Size([4])\n",
      "08/26/2023, 15:56:11# predicted of 30000: tensor([ 99, 116,  97, 116], device='cuda:1') torch.Size([4])\n",
      "08/26/2023, 15:56:57# total batches: 33000\n",
      "08/26/2023, 15:56:57# Epoch 28 | Train Loss: 2.7463 | Train Accuracy: 0.3835\n"
     ]
    },
    {
     "data": {
      "application/vnd.jupyter.widget-view+json": {
       "model_id": "05652a3d0d2f4122874a352b7791a05c",
       "version_major": 2,
       "version_minor": 0
      },
      "text/plain": [
       "Validation:   0%|          | 0/4125 [00:00<?, ?it/s]"
      ]
     },
     "metadata": {},
     "output_type": "display_data"
    },
    {
     "name": "stdout",
     "output_type": "stream",
     "text": [
      "08/26/2023, 15:56:57# labels of Validation: tensor([135,  59, 114,  30], device='cuda:1') torch.Size([4])\n",
      "08/26/2023, 15:56:57# predicted of Validation: tensor([ 75, 132,  66,  75], device='cuda:1') torch.Size([4])\n",
      "08/26/2023, 15:56:57# labels of 0: tensor([135,  59, 114,  30], device='cuda:1') torch.Size([4])\n",
      "08/26/2023, 15:56:57# predicted of 0: tensor([ 75, 132,  66,  75], device='cuda:1') torch.Size([4])\n",
      "08/26/2023, 15:57:06# labels of Validation: tensor([54, 28, 40,  2], device='cuda:1') torch.Size([4])\n",
      "08/26/2023, 15:57:06# predicted of Validation: tensor([ 75, 132,  40,  75], device='cuda:1') torch.Size([4])\n",
      "08/26/2023, 15:57:15# labels of Validation: tensor([  8,  88,  13, 114], device='cuda:1') torch.Size([4])\n",
      "08/26/2023, 15:57:15# predicted of Validation: tensor([66, 66, 13, 66], device='cuda:1') torch.Size([4])\n",
      "08/26/2023, 15:57:24# labels of Validation: tensor([ 58,  25, 142,  46], device='cuda:1') torch.Size([4])\n",
      "08/26/2023, 15:57:24# predicted of Validation: tensor([75, 25, 75, 75], device='cuda:1') torch.Size([4])\n",
      "08/26/2023, 15:57:34# labels of Validation: tensor([118,  91,  56, 153], device='cuda:1') torch.Size([4])\n",
      "08/26/2023, 15:57:34# predicted of Validation: tensor([118, 132,  56,  75], device='cuda:1') torch.Size([4])\n",
      "08/26/2023, 15:57:35# Validation Loss: 2.7339 | Validation Accuracy: 0.3815\n",
      "\n"
     ]
    },
    {
     "data": {
      "application/vnd.jupyter.widget-view+json": {
       "model_id": "aa979a9c14344ea7826c047b0d30d3ae",
       "version_major": 2,
       "version_minor": 0
      },
      "text/plain": [
       "Training:   0%|          | 0/33000 [00:00<?, ?it/s]"
      ]
     },
     "metadata": {},
     "output_type": "display_data"
    },
    {
     "name": "stdout",
     "output_type": "stream",
     "text": [
      "08/26/2023, 15:58:50# labels of 5000: tensor([ 19, 117, 138, 135], device='cuda:1') torch.Size([4])\n",
      "08/26/2023, 15:58:50# predicted of 5000: tensor([ 92, 117, 138,  97], device='cuda:1') torch.Size([4])\n",
      "08/26/2023, 16:00:07# labels of 10000: tensor([154, 120,  60, 136], device='cuda:1') torch.Size([4])\n",
      "08/26/2023, 16:00:07# predicted of 10000: tensor([154, 120,  53, 136], device='cuda:1') torch.Size([4])\n",
      "08/26/2023, 16:01:24# labels of 15000: tensor([ 64,  94, 118, 159], device='cuda:1') torch.Size([4])\n",
      "08/26/2023, 16:01:24# predicted of 15000: tensor([161,  94, 118, 159], device='cuda:1') torch.Size([4])\n",
      "08/26/2023, 16:02:43# labels of 20000: tensor([ 27, 113, 154,   3], device='cuda:1') torch.Size([4])\n",
      "08/26/2023, 16:02:43# predicted of 20000: tensor([ 27, 161, 154,   3], device='cuda:1') torch.Size([4])\n",
      "08/26/2023, 16:04:02# labels of 25000: tensor([126,  13,  73,  50], device='cuda:1') torch.Size([4])\n",
      "08/26/2023, 16:04:02# predicted of 25000: tensor([126,  13,  73,  50], device='cuda:1') torch.Size([4])\n",
      "08/26/2023, 16:05:18# labels of 30000: tensor([ 21,  55, 109,  49], device='cuda:1') torch.Size([4])\n",
      "08/26/2023, 16:05:18# predicted of 30000: tensor([132,  30,  30, 125], device='cuda:1') torch.Size([4])\n",
      "08/26/2023, 16:06:05# total batches: 33000\n",
      "08/26/2023, 16:06:05# Epoch 29 | Train Loss: 2.7455 | Train Accuracy: 0.3837\n"
     ]
    },
    {
     "data": {
      "application/vnd.jupyter.widget-view+json": {
       "model_id": "8fcf303774a040879870eb8fc59d912b",
       "version_major": 2,
       "version_minor": 0
      },
      "text/plain": [
       "Validation:   0%|          | 0/4125 [00:00<?, ?it/s]"
      ]
     },
     "metadata": {},
     "output_type": "display_data"
    },
    {
     "name": "stdout",
     "output_type": "stream",
     "text": [
      "08/26/2023, 16:06:05# labels of Validation: tensor([ 70,  16, 152, 102], device='cuda:1') torch.Size([4])\n",
      "08/26/2023, 16:06:05# predicted of Validation: tensor([70, 16, 49, 49], device='cuda:1') torch.Size([4])\n",
      "08/26/2023, 16:06:05# labels of 0: tensor([ 70,  16, 152, 102], device='cuda:1') torch.Size([4])\n",
      "08/26/2023, 16:06:05# predicted of 0: tensor([70, 16, 49, 49], device='cuda:1') torch.Size([4])\n",
      "08/26/2023, 16:06:14# labels of Validation: tensor([  9, 161,  15, 133], device='cuda:1') torch.Size([4])\n",
      "08/26/2023, 16:06:14# predicted of Validation: tensor([ 49, 132,  15,   6], device='cuda:1') torch.Size([4])\n",
      "08/26/2023, 16:06:23# labels of Validation: tensor([98, 29, 85, 88], device='cuda:1') torch.Size([4])\n",
      "08/26/2023, 16:06:23# predicted of Validation: tensor([49, 29, 85,  6], device='cuda:1') torch.Size([4])\n",
      "08/26/2023, 16:06:32# labels of Validation: tensor([ 54, 135, 124,  95], device='cuda:1') torch.Size([4])\n",
      "08/26/2023, 16:06:32# predicted of Validation: tensor([49, 49, 49, 95], device='cuda:1') torch.Size([4])\n",
      "08/26/2023, 16:06:41# labels of Validation: tensor([ 46,  76, 147,  15], device='cuda:1') torch.Size([4])\n",
      "08/26/2023, 16:06:41# predicted of Validation: tensor([ 49,  49, 147,  15], device='cuda:1') torch.Size([4])\n",
      "08/26/2023, 16:06:42# Validation Loss: 2.7335 | Validation Accuracy: 0.3813\n",
      "\n"
     ]
    },
    {
     "data": {
      "application/vnd.jupyter.widget-view+json": {
       "model_id": "dee24b16152744a2b22c7b6a9fccd1e4",
       "version_major": 2,
       "version_minor": 0
      },
      "text/plain": [
       "Training:   0%|          | 0/33000 [00:00<?, ?it/s]"
      ]
     },
     "metadata": {},
     "output_type": "display_data"
    },
    {
     "name": "stdout",
     "output_type": "stream",
     "text": [
      "08/26/2023, 16:07:58# labels of 5000: tensor([ 53,  20, 165, 145], device='cuda:1') torch.Size([4])\n",
      "08/26/2023, 16:07:58# predicted of 5000: tensor([ 49,  54, 165, 145], device='cuda:1') torch.Size([4])\n",
      "08/26/2023, 16:09:15# labels of 10000: tensor([ 92, 116,  17,  75], device='cuda:1') torch.Size([4])\n",
      "08/26/2023, 16:09:15# predicted of 10000: tensor([ 9, 60, 17,  4], device='cuda:1') torch.Size([4])\n",
      "08/26/2023, 16:10:34# labels of 15000: tensor([ 41,  48,  12, 139], device='cuda:1') torch.Size([4])\n",
      "08/26/2023, 16:10:34# predicted of 15000: tensor([  1, 162, 162, 162], device='cuda:1') torch.Size([4])\n",
      "08/26/2023, 16:11:50# labels of 20000: tensor([ 39, 118, 164,  24], device='cuda:1') torch.Size([4])\n",
      "08/26/2023, 16:11:50# predicted of 20000: tensor([ 39, 118, 153,  41], device='cuda:1') torch.Size([4])\n",
      "08/26/2023, 16:13:08# labels of 25000: tensor([32, 85,  1, 14], device='cuda:1') torch.Size([4])\n",
      "08/26/2023, 16:13:08# predicted of 25000: tensor([32, 85, 83, 58], device='cuda:1') torch.Size([4])\n",
      "08/26/2023, 16:14:23# labels of 30000: tensor([133, 160,  38, 135], device='cuda:1') torch.Size([4])\n",
      "08/26/2023, 16:14:23# predicted of 30000: tensor([  6, 155,  10,  10], device='cuda:1') torch.Size([4])\n",
      "08/26/2023, 16:15:07# total batches: 33000\n",
      "08/26/2023, 16:15:07# Epoch 30 | Train Loss: 2.7445 | Train Accuracy: 0.3835\n"
     ]
    },
    {
     "data": {
      "application/vnd.jupyter.widget-view+json": {
       "model_id": "ea4add2a1b8347a799cd5efbb3946a8c",
       "version_major": 2,
       "version_minor": 0
      },
      "text/plain": [
       "Validation:   0%|          | 0/4125 [00:00<?, ?it/s]"
      ]
     },
     "metadata": {},
     "output_type": "display_data"
    },
    {
     "name": "stdout",
     "output_type": "stream",
     "text": [
      "08/26/2023, 16:15:07# labels of Validation: tensor([ 87,  61, 115, 145], device='cuda:1') torch.Size([4])\n",
      "08/26/2023, 16:15:07# predicted of Validation: tensor([ 10,  61, 115, 145], device='cuda:1') torch.Size([4])\n",
      "08/26/2023, 16:15:07# labels of 0: tensor([ 87,  61, 115, 145], device='cuda:1') torch.Size([4])\n",
      "08/26/2023, 16:15:07# predicted of 0: tensor([ 10,  61, 115, 145], device='cuda:1') torch.Size([4])\n",
      "08/26/2023, 16:15:16# labels of Validation: tensor([32, 62, 41, 40], device='cuda:1') torch.Size([4])\n",
      "08/26/2023, 16:15:16# predicted of Validation: tensor([32, 62, 10, 40], device='cuda:1') torch.Size([4])\n",
      "08/26/2023, 16:15:26# labels of Validation: tensor([38, 27, 95, 10], device='cuda:1') torch.Size([4])\n",
      "08/26/2023, 16:15:26# predicted of Validation: tensor([10, 27, 95, 10], device='cuda:1') torch.Size([4])\n",
      "08/26/2023, 16:15:35# labels of Validation: tensor([146,  36, 102,  52], device='cuda:1') torch.Size([4])\n",
      "08/26/2023, 16:15:35# predicted of Validation: tensor([146,  10,  10,  52], device='cuda:1') torch.Size([4])\n",
      "08/26/2023, 16:15:44# labels of Validation: tensor([122,  90,  80,   3], device='cuda:1') torch.Size([4])\n",
      "08/26/2023, 16:15:44# predicted of Validation: tensor([122,  91,  80,   3], device='cuda:1') torch.Size([4])\n",
      "08/26/2023, 16:15:45# Validation Loss: 2.7330 | Validation Accuracy: 0.3815\n",
      "\n"
     ]
    },
    {
     "data": {
      "application/vnd.jupyter.widget-view+json": {
       "model_id": "8787389c13d04004b1acba7cd843fac4",
       "version_major": 2,
       "version_minor": 0
      },
      "text/plain": [
       "Training:   0%|          | 0/33000 [00:00<?, ?it/s]"
      ]
     },
     "metadata": {},
     "output_type": "display_data"
    },
    {
     "name": "stdout",
     "output_type": "stream",
     "text": [
      "08/26/2023, 16:16:57# labels of 5000: tensor([ 12, 121,  33, 122], device='cuda:1') torch.Size([4])\n",
      "08/26/2023, 16:16:57# predicted of 5000: tensor([ 57,  49,   2, 122], device='cuda:1') torch.Size([4])\n",
      "08/26/2023, 16:18:14# labels of 10000: tensor([20, 76, 34,  0], device='cuda:1') torch.Size([4])\n",
      "08/26/2023, 16:18:14# predicted of 10000: tensor([ 64,  10, 114,   0], device='cuda:1') torch.Size([4])\n",
      "08/26/2023, 16:19:25# labels of 15000: tensor([140,   0,  81, 150], device='cuda:1') torch.Size([4])\n",
      "08/26/2023, 16:19:25# predicted of 15000: tensor([140,   0,  76, 111], device='cuda:1') torch.Size([4])\n",
      "08/26/2023, 16:20:43# labels of 20000: tensor([39, 78, 81, 69], device='cuda:1') torch.Size([4])\n",
      "08/26/2023, 16:20:43# predicted of 20000: tensor([39, 78, 36, 69], device='cuda:1') torch.Size([4])\n",
      "08/26/2023, 16:21:59# labels of 25000: tensor([111, 154, 116,   2], device='cuda:1') torch.Size([4])\n",
      "08/26/2023, 16:21:59# predicted of 25000: tensor([144, 154,  58,  31], device='cuda:1') torch.Size([4])\n",
      "08/26/2023, 16:23:21# labels of 30000: tensor([156,   1, 111,  56], device='cuda:1') torch.Size([4])\n",
      "08/26/2023, 16:23:21# predicted of 30000: tensor([156, 148, 144,  56], device='cuda:1') torch.Size([4])\n",
      "08/26/2023, 16:24:07# total batches: 33000\n",
      "08/26/2023, 16:24:07# Epoch 31 | Train Loss: 2.7443 | Train Accuracy: 0.3834\n"
     ]
    },
    {
     "data": {
      "application/vnd.jupyter.widget-view+json": {
       "model_id": "f7fe6e6fb0e04627aa8229d54c05e55c",
       "version_major": 2,
       "version_minor": 0
      },
      "text/plain": [
       "Validation:   0%|          | 0/4125 [00:00<?, ?it/s]"
      ]
     },
     "metadata": {},
     "output_type": "display_data"
    },
    {
     "name": "stdout",
     "output_type": "stream",
     "text": [
      "08/26/2023, 16:24:07# labels of Validation: tensor([ 36,  41, 154, 139], device='cuda:1') torch.Size([4])\n",
      "08/26/2023, 16:24:07# predicted of Validation: tensor([162, 162, 154, 162], device='cuda:1') torch.Size([4])\n",
      "08/26/2023, 16:24:07# labels of 0: tensor([ 36,  41, 154, 139], device='cuda:1') torch.Size([4])\n",
      "08/26/2023, 16:24:07# predicted of 0: tensor([162, 162, 154, 162], device='cuda:1') torch.Size([4])\n",
      "08/26/2023, 16:24:17# labels of Validation: tensor([136, 133,  83,  42], device='cuda:1') torch.Size([4])\n",
      "08/26/2023, 16:24:17# predicted of Validation: tensor([136,  28, 162, 162], device='cuda:1') torch.Size([4])\n",
      "08/26/2023, 16:24:27# labels of Validation: tensor([ 86,  15,  70, 161], device='cuda:1') torch.Size([4])\n",
      "08/26/2023, 16:24:27# predicted of Validation: tensor([162,  15,  70, 132], device='cuda:1') torch.Size([4])\n",
      "08/26/2023, 16:24:37# labels of Validation: tensor([ 74,  27, 115,  96], device='cuda:1') torch.Size([4])\n",
      "08/26/2023, 16:24:37# predicted of Validation: tensor([162,  27, 115,  96], device='cuda:1') torch.Size([4])\n",
      "08/26/2023, 16:24:47# labels of Validation: tensor([77, 94, 41,  8], device='cuda:1') torch.Size([4])\n",
      "08/26/2023, 16:24:47# predicted of Validation: tensor([ 28,  94, 162,  28], device='cuda:1') torch.Size([4])\n",
      "08/26/2023, 16:24:48# Validation Loss: 2.7328 | Validation Accuracy: 0.3813\n",
      "\n"
     ]
    },
    {
     "data": {
      "application/vnd.jupyter.widget-view+json": {
       "model_id": "cf4248972a17468da5589eeda316f3a8",
       "version_major": 2,
       "version_minor": 0
      },
      "text/plain": [
       "Training:   0%|          | 0/33000 [00:00<?, ?it/s]"
      ]
     },
     "metadata": {},
     "output_type": "display_data"
    },
    {
     "name": "stdout",
     "output_type": "stream",
     "text": [
      "08/26/2023, 16:26:09# labels of 5000: tensor([143,  38,  10,  64], device='cuda:1') torch.Size([4])\n",
      "08/26/2023, 16:26:09# predicted of 5000: tensor([107, 152, 152, 155], device='cuda:1') torch.Size([4])\n",
      "08/26/2023, 16:27:28# labels of 10000: tensor([ 75, 126,  61, 154], device='cuda:1') torch.Size([4])\n",
      "08/26/2023, 16:27:28# predicted of 10000: tensor([139, 126,  61, 154], device='cuda:1') torch.Size([4])\n",
      "08/26/2023, 16:28:45# labels of 15000: tensor([ 47,  71,  41, 147], device='cuda:1') torch.Size([4])\n",
      "08/26/2023, 16:28:45# predicted of 15000: tensor([ 10, 162,  97, 147], device='cuda:1') torch.Size([4])\n",
      "08/26/2023, 16:30:02# labels of 20000: tensor([120,  46, 108, 100], device='cuda:1') torch.Size([4])\n",
      "08/26/2023, 16:30:02# predicted of 20000: tensor([120,  58, 161,  28], device='cuda:1') torch.Size([4])\n",
      "08/26/2023, 16:31:18# labels of 25000: tensor([ 0, 28, 40, 97], device='cuda:1') torch.Size([4])\n",
      "08/26/2023, 16:31:18# predicted of 25000: tensor([  0, 132,  40, 160], device='cuda:1') torch.Size([4])\n",
      "08/26/2023, 16:32:35# labels of 30000: tensor([ 43, 154,  32,  24], device='cuda:1') torch.Size([4])\n",
      "08/26/2023, 16:32:35# predicted of 30000: tensor([104, 154,  32, 109], device='cuda:1') torch.Size([4])\n",
      "08/26/2023, 16:33:22# total batches: 33000\n",
      "08/26/2023, 16:33:22# Epoch 32 | Train Loss: 2.7439 | Train Accuracy: 0.3839\n"
     ]
    },
    {
     "data": {
      "application/vnd.jupyter.widget-view+json": {
       "model_id": "ec605fcd548e4b30b06261e1ab06a77e",
       "version_major": 2,
       "version_minor": 0
      },
      "text/plain": [
       "Validation:   0%|          | 0/4125 [00:00<?, ?it/s]"
      ]
     },
     "metadata": {},
     "output_type": "display_data"
    },
    {
     "name": "stdout",
     "output_type": "stream",
     "text": [
      "08/26/2023, 16:33:22# labels of Validation: tensor([ 89,   7, 161, 126], device='cuda:1') torch.Size([4])\n",
      "08/26/2023, 16:33:22# predicted of Validation: tensor([ 89,   7, 132, 126], device='cuda:1') torch.Size([4])\n",
      "08/26/2023, 16:33:22# labels of 0: tensor([ 89,   7, 161, 126], device='cuda:1') torch.Size([4])\n",
      "08/26/2023, 16:33:22# predicted of 0: tensor([ 89,   7, 132, 126], device='cuda:1') torch.Size([4])\n",
      "08/26/2023, 16:33:31# labels of Validation: tensor([ 95,  86, 107, 106], device='cuda:1') torch.Size([4])\n",
      "08/26/2023, 16:33:31# predicted of Validation: tensor([ 95, 137,  28, 106], device='cuda:1') torch.Size([4])\n",
      "08/26/2023, 16:33:40# labels of Validation: tensor([163,  92, 109,  17], device='cuda:1') torch.Size([4])\n",
      "08/26/2023, 16:33:40# predicted of Validation: tensor([137, 137, 137,  17], device='cuda:1') torch.Size([4])\n",
      "08/26/2023, 16:33:50# labels of Validation: tensor([114,  40,  42, 112], device='cuda:1') torch.Size([4])\n",
      "08/26/2023, 16:33:50# predicted of Validation: tensor([ 28,  40, 137, 137], device='cuda:1') torch.Size([4])\n",
      "08/26/2023, 16:33:59# labels of Validation: tensor([119,  78,  81, 109], device='cuda:1') torch.Size([4])\n",
      "08/26/2023, 16:33:59# predicted of Validation: tensor([137,  78, 137, 137], device='cuda:1') torch.Size([4])\n",
      "08/26/2023, 16:34:00# Validation Loss: 2.7321 | Validation Accuracy: 0.3812\n",
      "\n"
     ]
    },
    {
     "data": {
      "application/vnd.jupyter.widget-view+json": {
       "model_id": "dc0899cb61fc4ff48899cfd89d043495",
       "version_major": 2,
       "version_minor": 0
      },
      "text/plain": [
       "Training:   0%|          | 0/33000 [00:00<?, ?it/s]"
      ]
     },
     "metadata": {},
     "output_type": "display_data"
    },
    {
     "name": "stdout",
     "output_type": "stream",
     "text": [
      "08/26/2023, 16:35:18# labels of 5000: tensor([148,  71, 112,  40], device='cuda:1') torch.Size([4])\n",
      "08/26/2023, 16:35:18# predicted of 5000: tensor([155, 129,  48,  40], device='cuda:1') torch.Size([4])\n",
      "08/26/2023, 16:36:36# labels of 10000: tensor([102, 110, 119,  50], device='cuda:1') torch.Size([4])\n",
      "08/26/2023, 16:36:36# predicted of 10000: tensor([92,  6, 92, 50], device='cuda:1') torch.Size([4])\n",
      "08/26/2023, 16:37:54# labels of 15000: tensor([129, 120, 145, 106], device='cuda:1') torch.Size([4])\n",
      "08/26/2023, 16:37:54# predicted of 15000: tensor([ 28, 120, 145, 106], device='cuda:1') torch.Size([4])\n",
      "08/26/2023, 16:39:11# labels of 20000: tensor([164,  29,  13,  25], device='cuda:1') torch.Size([4])\n",
      "08/26/2023, 16:39:11# predicted of 20000: tensor([121,  29,  13,  25], device='cuda:1') torch.Size([4])\n",
      "08/26/2023, 16:40:32# labels of 25000: tensor([159,  77, 109,  29], device='cuda:1') torch.Size([4])\n",
      "08/26/2023, 16:40:32# predicted of 25000: tensor([159, 132, 162,  29], device='cuda:1') torch.Size([4])\n",
      "08/26/2023, 16:41:49# labels of 30000: tensor([ 61,  84, 159, 103], device='cuda:1') torch.Size([4])\n",
      "08/26/2023, 16:41:49# predicted of 30000: tensor([ 61,  84, 159, 132], device='cuda:1') torch.Size([4])\n",
      "08/26/2023, 16:42:35# total batches: 33000\n",
      "08/26/2023, 16:42:35# Epoch 33 | Train Loss: 2.7438 | Train Accuracy: 0.3840\n"
     ]
    },
    {
     "data": {
      "application/vnd.jupyter.widget-view+json": {
       "model_id": "1a35660afb6c4cd59921d682e0702cec",
       "version_major": 2,
       "version_minor": 0
      },
      "text/plain": [
       "Validation:   0%|          | 0/4125 [00:00<?, ?it/s]"
      ]
     },
     "metadata": {},
     "output_type": "display_data"
    },
    {
     "name": "stdout",
     "output_type": "stream",
     "text": [
      "08/26/2023, 16:42:36# labels of Validation: tensor([41,  6, 88, 62], device='cuda:1') torch.Size([4])\n",
      "08/26/2023, 16:42:36# predicted of Validation: tensor([137, 132,  28,  62], device='cuda:1') torch.Size([4])\n",
      "08/26/2023, 16:42:36# labels of 0: tensor([41,  6, 88, 62], device='cuda:1') torch.Size([4])\n",
      "08/26/2023, 16:42:36# predicted of 0: tensor([137, 132,  28,  62], device='cuda:1') torch.Size([4])\n",
      "08/26/2023, 16:42:45# labels of Validation: tensor([ 45, 116, 134,  25], device='cuda:1') torch.Size([4])\n",
      "08/26/2023, 16:42:45# predicted of Validation: tensor([ 45, 137, 134,  25], device='cuda:1') torch.Size([4])\n",
      "08/26/2023, 16:42:54# labels of Validation: tensor([ 81, 162,  16,  17], device='cuda:1') torch.Size([4])\n",
      "08/26/2023, 16:42:54# predicted of Validation: tensor([137, 137,  16,  17], device='cuda:1') torch.Size([4])\n",
      "08/26/2023, 16:43:03# labels of Validation: tensor([ 77, 110,  72,  39], device='cuda:1') torch.Size([4])\n",
      "08/26/2023, 16:43:03# predicted of Validation: tensor([132,  28,  72,  39], device='cuda:1') torch.Size([4])\n",
      "08/26/2023, 16:43:12# labels of Validation: tensor([143,  75, 138, 108], device='cuda:1') torch.Size([4])\n",
      "08/26/2023, 16:43:12# predicted of Validation: tensor([137, 137, 138, 132], device='cuda:1') torch.Size([4])\n",
      "08/26/2023, 16:43:13# Validation Loss: 2.7321 | Validation Accuracy: 0.3815\n",
      "\n"
     ]
    },
    {
     "data": {
      "application/vnd.jupyter.widget-view+json": {
       "model_id": "9b4d7f593683484884c5db4a83f9c450",
       "version_major": 2,
       "version_minor": 0
      },
      "text/plain": [
       "Training:   0%|          | 0/33000 [00:00<?, ?it/s]"
      ]
     },
     "metadata": {},
     "output_type": "display_data"
    },
    {
     "name": "stdout",
     "output_type": "stream",
     "text": [
      "08/26/2023, 16:44:37# labels of 5000: tensor([ 77, 107, 160,  26], device='cuda:1') torch.Size([4])\n",
      "08/26/2023, 16:44:37# predicted of 5000: tensor([132,  28,  77, 153], device='cuda:1') torch.Size([4])\n",
      "08/26/2023, 16:45:57# labels of 10000: tensor([ 54, 134,  57, 162], device='cuda:1') torch.Size([4])\n",
      "08/26/2023, 16:45:57# predicted of 10000: tensor([164, 134, 164,  97], device='cuda:1') torch.Size([4])\n",
      "08/26/2023, 16:47:14# labels of 15000: tensor([ 62, 122, 138, 128], device='cuda:1') torch.Size([4])\n",
      "08/26/2023, 16:47:14# predicted of 15000: tensor([ 62, 122, 138, 128], device='cuda:1') torch.Size([4])\n",
      "08/26/2023, 16:48:27# labels of 20000: tensor([  0, 145,  73,  14], device='cuda:1') torch.Size([4])\n",
      "08/26/2023, 16:48:27# predicted of 20000: tensor([  0, 145,  73,  46], device='cuda:1') torch.Size([4])\n",
      "08/26/2023, 16:49:42# labels of 25000: tensor([21, 46, 40, 99], device='cuda:1') torch.Size([4])\n",
      "08/26/2023, 16:49:42# predicted of 25000: tensor([131,  63,  40,  99], device='cuda:1') torch.Size([4])\n",
      "08/26/2023, 16:50:58# labels of 30000: tensor([ 42,  55, 157,  82], device='cuda:1') torch.Size([4])\n",
      "08/26/2023, 16:50:58# predicted of 30000: tensor([ 92, 104,  10,  82], device='cuda:1') torch.Size([4])\n",
      "08/26/2023, 16:51:46# total batches: 33000\n",
      "08/26/2023, 16:51:46# Epoch 34 | Train Loss: 2.7432 | Train Accuracy: 0.3845\n"
     ]
    },
    {
     "data": {
      "application/vnd.jupyter.widget-view+json": {
       "model_id": "6e1da51d6c094404abdccffa55bd6acc",
       "version_major": 2,
       "version_minor": 0
      },
      "text/plain": [
       "Validation:   0%|          | 0/4125 [00:00<?, ?it/s]"
      ]
     },
     "metadata": {},
     "output_type": "display_data"
    },
    {
     "name": "stdout",
     "output_type": "stream",
     "text": [
      "08/26/2023, 16:51:46# labels of Validation: tensor([ 68, 120,  77, 152], device='cuda:1') torch.Size([4])\n",
      "08/26/2023, 16:51:46# predicted of Validation: tensor([ 28, 120, 132,   4], device='cuda:1') torch.Size([4])\n",
      "08/26/2023, 16:51:46# labels of 0: tensor([ 68, 120,  77, 152], device='cuda:1') torch.Size([4])\n",
      "08/26/2023, 16:51:46# predicted of 0: tensor([ 28, 120, 132,   4], device='cuda:1') torch.Size([4])\n",
      "08/26/2023, 16:51:55# labels of Validation: tensor([  1,   3, 123, 102], device='cuda:1') torch.Size([4])\n",
      "08/26/2023, 16:51:55# predicted of Validation: tensor([  4,   3, 123,   4], device='cuda:1') torch.Size([4])\n",
      "08/26/2023, 16:52:05# labels of Validation: tensor([ 95,  61, 106,  77], device='cuda:1') torch.Size([4])\n",
      "08/26/2023, 16:52:05# predicted of Validation: tensor([ 95,  61, 106, 132], device='cuda:1') torch.Size([4])\n",
      "08/26/2023, 16:52:14# labels of Validation: tensor([116, 143, 151,  66], device='cuda:1') torch.Size([4])\n",
      "08/26/2023, 16:52:14# predicted of Validation: tensor([  4,   4,   4, 132], device='cuda:1') torch.Size([4])\n",
      "08/26/2023, 16:52:23# labels of Validation: tensor([ 26, 137, 133, 107], device='cuda:1') torch.Size([4])\n",
      "08/26/2023, 16:52:23# predicted of Validation: tensor([ 4,  4, 28, 28], device='cuda:1') torch.Size([4])\n",
      "08/26/2023, 16:52:24# Validation Loss: 2.7320 | Validation Accuracy: 0.3815\n",
      "\n"
     ]
    },
    {
     "data": {
      "application/vnd.jupyter.widget-view+json": {
       "model_id": "3a876b7b33d743bdb64ac0ae1cd2d34f",
       "version_major": 2,
       "version_minor": 0
      },
      "text/plain": [
       "Training:   0%|          | 0/33000 [00:00<?, ?it/s]"
      ]
     },
     "metadata": {},
     "output_type": "display_data"
    },
    {
     "name": "stdout",
     "output_type": "stream",
     "text": [
      "08/26/2023, 16:53:44# labels of 5000: tensor([ 98,  49,  15, 149], device='cuda:1') torch.Size([4])\n",
      "08/26/2023, 16:53:44# predicted of 5000: tensor([ 42, 119,  15, 149], device='cuda:1') torch.Size([4])\n",
      "08/26/2023, 16:55:02# labels of 10000: tensor([ 63,  23,  52, 152], device='cuda:1') torch.Size([4])\n",
      "08/26/2023, 16:55:02# predicted of 10000: tensor([163,  23,  52,  76], device='cuda:1') torch.Size([4])\n",
      "08/26/2023, 16:56:21# labels of 15000: tensor([ 29,  56, 129,  75], device='cuda:1') torch.Size([4])\n",
      "08/26/2023, 16:56:21# predicted of 15000: tensor([ 29,  56, 132,  63], device='cuda:1') torch.Size([4])\n",
      "08/26/2023, 16:57:39# labels of 20000: tensor([135,  41, 132,  33], device='cuda:1') torch.Size([4])\n",
      "08/26/2023, 16:57:39# predicted of 20000: tensor([109, 135, 132,  63], device='cuda:1') torch.Size([4])\n",
      "08/26/2023, 16:58:56# labels of 25000: tensor([ 33, 108,   1, 146], device='cuda:1') torch.Size([4])\n",
      "08/26/2023, 16:58:56# predicted of 25000: tensor([135,  28, 119, 146], device='cuda:1') torch.Size([4])\n",
      "08/26/2023, 17:00:11# labels of 30000: tensor([116,  81,  70,  48], device='cuda:1') torch.Size([4])\n",
      "08/26/2023, 17:00:11# predicted of 30000: tensor([124,  36,  70,  38], device='cuda:1') torch.Size([4])\n",
      "08/26/2023, 17:01:01# total batches: 33000\n",
      "08/26/2023, 17:01:01# Epoch 35 | Train Loss: 2.7430 | Train Accuracy: 0.3842\n"
     ]
    },
    {
     "data": {
      "application/vnd.jupyter.widget-view+json": {
       "model_id": "4a68a10d271846b69cb9daeea9f131b0",
       "version_major": 2,
       "version_minor": 0
      },
      "text/plain": [
       "Validation:   0%|          | 0/4125 [00:00<?, ?it/s]"
      ]
     },
     "metadata": {},
     "output_type": "display_data"
    },
    {
     "name": "stdout",
     "output_type": "stream",
     "text": [
      "08/26/2023, 17:01:01# labels of Validation: tensor([106, 118, 118, 137], device='cuda:1') torch.Size([4])\n",
      "08/26/2023, 17:01:01# predicted of Validation: tensor([106, 118, 118,   4], device='cuda:1') torch.Size([4])\n",
      "08/26/2023, 17:01:01# labels of 0: tensor([106, 118, 118, 137], device='cuda:1') torch.Size([4])\n",
      "08/26/2023, 17:01:01# predicted of 0: tensor([106, 118, 118,   4], device='cuda:1') torch.Size([4])\n",
      "08/26/2023, 17:01:11# labels of Validation: tensor([151,  93,   1, 100], device='cuda:1') torch.Size([4])\n",
      "08/26/2023, 17:01:11# predicted of Validation: tensor([ 4, 28,  4, 28], device='cuda:1') torch.Size([4])\n",
      "08/26/2023, 17:01:20# labels of Validation: tensor([  1, 122,  38, 134], device='cuda:1') torch.Size([4])\n",
      "08/26/2023, 17:01:20# predicted of Validation: tensor([  4, 122,   4, 134], device='cuda:1') torch.Size([4])\n",
      "08/26/2023, 17:01:30# labels of Validation: tensor([129,   5,   7,  78], device='cuda:1') torch.Size([4])\n",
      "08/26/2023, 17:01:30# predicted of Validation: tensor([28,  5,  7, 67], device='cuda:1') torch.Size([4])\n",
      "08/26/2023, 17:01:39# labels of Validation: tensor([146, 166,  21,  85], device='cuda:1') torch.Size([4])\n",
      "08/26/2023, 17:01:39# predicted of Validation: tensor([146, 132, 132,  85], device='cuda:1') torch.Size([4])\n",
      "08/26/2023, 17:01:40# Validation Loss: 2.7319 | Validation Accuracy: 0.3815\n",
      "\n"
     ]
    },
    {
     "data": {
      "application/vnd.jupyter.widget-view+json": {
       "model_id": "5ec667fef5874687a61444d8553aeedd",
       "version_major": 2,
       "version_minor": 0
      },
      "text/plain": [
       "Training:   0%|          | 0/33000 [00:00<?, ?it/s]"
      ]
     },
     "metadata": {},
     "output_type": "display_data"
    },
    {
     "name": "stdout",
     "output_type": "stream",
     "text": [
      "08/26/2023, 17:02:55# labels of 5000: tensor([ 39,   9,  62, 155], device='cuda:1') torch.Size([4])\n",
      "08/26/2023, 17:02:55# predicted of 5000: tensor([ 39,   9,  62, 132], device='cuda:1') torch.Size([4])\n",
      "08/26/2023, 17:04:12# labels of 10000: tensor([101,  23,  34,  34], device='cuda:1') torch.Size([4])\n",
      "08/26/2023, 17:04:12# predicted of 10000: tensor([132,  23,  10, 119], device='cuda:1') torch.Size([4])\n",
      "08/26/2023, 17:05:33# labels of 15000: tensor([ 86,  57, 151,   1], device='cuda:1') torch.Size([4])\n",
      "08/26/2023, 17:05:33# predicted of 15000: tensor([ 48, 107,  58, 163], device='cuda:1') torch.Size([4])\n",
      "08/26/2023, 17:06:53# labels of 20000: tensor([ 37,  85,  38, 164], device='cuda:1') torch.Size([4])\n",
      "08/26/2023, 17:06:53# predicted of 20000: tensor([ 6, 85, 58,  1], device='cuda:1') torch.Size([4])\n",
      "08/26/2023, 17:08:13# labels of 25000: tensor([110, 153, 143,  43], device='cuda:1') torch.Size([4])\n",
      "08/26/2023, 17:08:13# predicted of 25000: tensor([108,  68,  38, 103], device='cuda:1') torch.Size([4])\n",
      "08/26/2023, 17:09:27# labels of 30000: tensor([ 73, 143,  54, 150], device='cuda:1') torch.Size([4])\n",
      "08/26/2023, 17:09:27# predicted of 30000: tensor([ 73, 158,  76,  54], device='cuda:1') torch.Size([4])\n",
      "08/26/2023, 17:10:13# total batches: 33000\n",
      "08/26/2023, 17:10:13# Epoch 36 | Train Loss: 2.7433 | Train Accuracy: 0.3841\n"
     ]
    },
    {
     "data": {
      "application/vnd.jupyter.widget-view+json": {
       "model_id": "d2f521e8816b4e468f2fedc2ee555f4d",
       "version_major": 2,
       "version_minor": 0
      },
      "text/plain": [
       "Validation:   0%|          | 0/4125 [00:00<?, ?it/s]"
      ]
     },
     "metadata": {},
     "output_type": "display_data"
    },
    {
     "name": "stdout",
     "output_type": "stream",
     "text": [
      "08/26/2023, 17:10:13# labels of Validation: tensor([96, 20, 21, 48], device='cuda:1') torch.Size([4])\n",
      "08/26/2023, 17:10:13# predicted of Validation: tensor([ 96,   4, 132,   4], device='cuda:1') torch.Size([4])\n",
      "08/26/2023, 17:10:13# labels of 0: tensor([96, 20, 21, 48], device='cuda:1') torch.Size([4])\n",
      "08/26/2023, 17:10:13# predicted of 0: tensor([ 96,   4, 132,   4], device='cuda:1') torch.Size([4])\n",
      "08/26/2023, 17:10:22# labels of Validation: tensor([120, 144,  95,  59], device='cuda:1') torch.Size([4])\n",
      "08/26/2023, 17:10:22# predicted of Validation: tensor([120,   4,  95, 132], device='cuda:1') torch.Size([4])\n",
      "08/26/2023, 17:10:31# labels of Validation: tensor([ 17,  91, 147,  36], device='cuda:1') torch.Size([4])\n",
      "08/26/2023, 17:10:31# predicted of Validation: tensor([ 17, 132, 147,   4], device='cuda:1') torch.Size([4])\n",
      "08/26/2023, 17:10:41# labels of Validation: tensor([124,   5,  81,  66], device='cuda:1') torch.Size([4])\n",
      "08/26/2023, 17:10:41# predicted of Validation: tensor([  4,   5,   4, 132], device='cuda:1') torch.Size([4])\n",
      "08/26/2023, 17:10:50# labels of Validation: tensor([ 60,  10,  87, 108], device='cuda:1') torch.Size([4])\n",
      "08/26/2023, 17:10:50# predicted of Validation: tensor([  4,   4,   4, 132], device='cuda:1') torch.Size([4])\n",
      "08/26/2023, 17:10:51# Validation Loss: 2.7319 | Validation Accuracy: 0.3815\n",
      "\n"
     ]
    },
    {
     "data": {
      "application/vnd.jupyter.widget-view+json": {
       "model_id": "0e94f5d83bd04b4ebc6594b63d59d15b",
       "version_major": 2,
       "version_minor": 0
      },
      "text/plain": [
       "Training:   0%|          | 0/33000 [00:00<?, ?it/s]"
      ]
     },
     "metadata": {},
     "output_type": "display_data"
    },
    {
     "name": "stdout",
     "output_type": "stream",
     "text": [
      "08/26/2023, 17:12:07# labels of 5000: tensor([ 73, 102,  71,  38], device='cuda:1') torch.Size([4])\n",
      "08/26/2023, 17:12:07# predicted of 5000: tensor([ 73, 143,  98, 114], device='cuda:1') torch.Size([4])\n",
      "08/26/2023, 17:13:24# labels of 10000: tensor([ 75, 119,  95, 113], device='cuda:1') torch.Size([4])\n",
      "08/26/2023, 17:13:24# predicted of 10000: tensor([158, 153,  95, 132], device='cuda:1') torch.Size([4])\n",
      "08/26/2023, 17:14:43# labels of 15000: tensor([122, 154,  36,   7], device='cuda:1') torch.Size([4])\n",
      "08/26/2023, 17:14:43# predicted of 15000: tensor([122, 154, 124,   7], device='cuda:1') torch.Size([4])\n",
      "08/26/2023, 17:16:04# labels of 20000: tensor([145, 158, 101,  92], device='cuda:1') torch.Size([4])\n",
      "08/26/2023, 17:16:04# predicted of 20000: tensor([145,  58, 161, 114], device='cuda:1') torch.Size([4])\n",
      "08/26/2023, 17:17:22# labels of 25000: tensor([ 52,   2,  84, 151], device='cuda:1') torch.Size([4])\n",
      "08/26/2023, 17:17:22# predicted of 25000: tensor([52, 55, 84, 47], device='cuda:1') torch.Size([4])\n",
      "08/26/2023, 17:18:39# labels of 30000: tensor([ 69,  62, 110,   3], device='cuda:1') torch.Size([4])\n",
      "08/26/2023, 17:18:39# predicted of 30000: tensor([69, 62, 66,  3], device='cuda:1') torch.Size([4])\n",
      "08/26/2023, 17:19:28# total batches: 33000\n",
      "08/26/2023, 17:19:28# Epoch 37 | Train Loss: 2.7432 | Train Accuracy: 0.3839\n"
     ]
    },
    {
     "data": {
      "application/vnd.jupyter.widget-view+json": {
       "model_id": "687021d217954143af40264a28f23819",
       "version_major": 2,
       "version_minor": 0
      },
      "text/plain": [
       "Validation:   0%|          | 0/4125 [00:00<?, ?it/s]"
      ]
     },
     "metadata": {},
     "output_type": "display_data"
    },
    {
     "name": "stdout",
     "output_type": "stream",
     "text": [
      "08/26/2023, 17:19:28# labels of Validation: tensor([109, 164, 107, 113], device='cuda:1') torch.Size([4])\n",
      "08/26/2023, 17:19:28# predicted of Validation: tensor([ 4,  4, 28, 28], device='cuda:1') torch.Size([4])\n",
      "08/26/2023, 17:19:28# labels of 0: tensor([109, 164, 107, 113], device='cuda:1') torch.Size([4])\n",
      "08/26/2023, 17:19:28# predicted of 0: tensor([ 4,  4, 28, 28], device='cuda:1') torch.Size([4])\n",
      "08/26/2023, 17:19:37# labels of Validation: tensor([93, 89, 41, 67], device='cuda:1') torch.Size([4])\n",
      "08/26/2023, 17:19:37# predicted of Validation: tensor([28, 89,  4, 78], device='cuda:1') torch.Size([4])\n",
      "08/26/2023, 17:19:46# labels of Validation: tensor([107, 112,  35,  13], device='cuda:1') torch.Size([4])\n",
      "08/26/2023, 17:19:46# predicted of Validation: tensor([28,  4, 35, 13], device='cuda:1') torch.Size([4])\n",
      "08/26/2023, 17:19:56# labels of Validation: tensor([19, 83, 12, 86], device='cuda:1') torch.Size([4])\n",
      "08/26/2023, 17:19:56# predicted of Validation: tensor([4, 4, 4, 4], device='cuda:1') torch.Size([4])\n",
      "08/26/2023, 17:20:05# labels of Validation: tensor([  6, 115, 145,  75], device='cuda:1') torch.Size([4])\n",
      "08/26/2023, 17:20:05# predicted of Validation: tensor([132, 115, 145,   4], device='cuda:1') torch.Size([4])\n",
      "08/26/2023, 17:20:06# Validation Loss: 2.7318 | Validation Accuracy: 0.3816\n",
      "\n"
     ]
    },
    {
     "data": {
      "application/vnd.jupyter.widget-view+json": {
       "model_id": "59dc60563b304b2b84e0942404720453",
       "version_major": 2,
       "version_minor": 0
      },
      "text/plain": [
       "Training:   0%|          | 0/33000 [00:00<?, ?it/s]"
      ]
     },
     "metadata": {},
     "output_type": "display_data"
    },
    {
     "name": "stdout",
     "output_type": "stream",
     "text": [
      "08/26/2023, 17:21:22# labels of 5000: tensor([133,  16,   0,  61], device='cuda:1') torch.Size([4])\n",
      "08/26/2023, 17:21:22# predicted of 5000: tensor([132,  16,   0,  61], device='cuda:1') torch.Size([4])\n",
      "08/26/2023, 17:22:41# labels of 10000: tensor([ 1, 19, 94, 57], device='cuda:1') torch.Size([4])\n",
      "08/26/2023, 17:22:41# predicted of 10000: tensor([160, 119,  94,  57], device='cuda:1') torch.Size([4])\n",
      "08/26/2023, 17:23:55# labels of 15000: tensor([ 1, 29, 71, 29], device='cuda:1') torch.Size([4])\n",
      "08/26/2023, 17:23:55# predicted of 15000: tensor([ 8, 29, 63, 29], device='cuda:1') torch.Size([4])\n",
      "08/26/2023, 17:25:09# labels of 20000: tensor([ 82, 116,  82,  35], device='cuda:1') torch.Size([4])\n",
      "08/26/2023, 17:25:09# predicted of 20000: tensor([82, 58, 82, 35], device='cuda:1') torch.Size([4])\n",
      "08/26/2023, 17:26:27# labels of 25000: tensor([ 93,  69,  33, 147], device='cuda:1') torch.Size([4])\n",
      "08/26/2023, 17:26:27# predicted of 25000: tensor([ 28,  69,  92, 147], device='cuda:1') torch.Size([4])\n",
      "08/26/2023, 17:27:45# labels of 30000: tensor([ 23, 126,  40, 128], device='cuda:1') torch.Size([4])\n",
      "08/26/2023, 17:27:45# predicted of 30000: tensor([ 23, 126,  40, 128], device='cuda:1') torch.Size([4])\n",
      "08/26/2023, 17:28:31# total batches: 33000\n",
      "08/26/2023, 17:28:31# Epoch 38 | Train Loss: 2.7428 | Train Accuracy: 0.3840\n"
     ]
    },
    {
     "data": {
      "application/vnd.jupyter.widget-view+json": {
       "model_id": "ec2d483d5b14479080ac4d1f68ced3d0",
       "version_major": 2,
       "version_minor": 0
      },
      "text/plain": [
       "Validation:   0%|          | 0/4125 [00:00<?, ?it/s]"
      ]
     },
     "metadata": {},
     "output_type": "display_data"
    },
    {
     "name": "stdout",
     "output_type": "stream",
     "text": [
      "08/26/2023, 17:28:31# labels of Validation: tensor([ 60,  42, 102, 109], device='cuda:1') torch.Size([4])\n",
      "08/26/2023, 17:28:31# predicted of Validation: tensor([162, 162, 162, 162], device='cuda:1') torch.Size([4])\n",
      "08/26/2023, 17:28:31# labels of 0: tensor([ 60,  42, 102, 109], device='cuda:1') torch.Size([4])\n",
      "08/26/2023, 17:28:31# predicted of 0: tensor([162, 162, 162, 162], device='cuda:1') torch.Size([4])\n",
      "08/26/2023, 17:28:41# labels of Validation: tensor([140, 129,  42,  18], device='cuda:1') torch.Size([4])\n",
      "08/26/2023, 17:28:41# predicted of Validation: tensor([140,   6, 162, 162], device='cuda:1') torch.Size([4])\n",
      "08/26/2023, 17:28:50# labels of Validation: tensor([119, 106,  56, 138], device='cuda:1') torch.Size([4])\n",
      "08/26/2023, 17:28:50# predicted of Validation: tensor([162, 106,  56, 138], device='cuda:1') torch.Size([4])\n",
      "08/26/2023, 17:29:00# labels of Validation: tensor([139,  66,  85,  92], device='cuda:1') torch.Size([4])\n",
      "08/26/2023, 17:29:00# predicted of Validation: tensor([162, 132,  85, 162], device='cuda:1') torch.Size([4])\n",
      "08/26/2023, 17:29:09# labels of Validation: tensor([ 54, 113,  79, 139], device='cuda:1') torch.Size([4])\n",
      "08/26/2023, 17:29:09# predicted of Validation: tensor([162,   6,  79, 162], device='cuda:1') torch.Size([4])\n",
      "08/26/2023, 17:29:10# Validation Loss: 2.7318 | Validation Accuracy: 0.3815\n",
      "\n"
     ]
    },
    {
     "data": {
      "application/vnd.jupyter.widget-view+json": {
       "model_id": "d7b28a6295c14d8cbf29a23840a572cc",
       "version_major": 2,
       "version_minor": 0
      },
      "text/plain": [
       "Training:   0%|          | 0/33000 [00:00<?, ?it/s]"
      ]
     },
     "metadata": {},
     "output_type": "display_data"
    },
    {
     "name": "stdout",
     "output_type": "stream",
     "text": [
      "08/26/2023, 17:30:26# labels of 5000: tensor([ 42,  64,  59, 132], device='cuda:1') torch.Size([4])\n",
      "08/26/2023, 17:30:26# predicted of 5000: tensor([125, 161, 161, 161], device='cuda:1') torch.Size([4])\n",
      "08/26/2023, 17:31:42# labels of 10000: tensor([ 18, 128, 133, 157], device='cuda:1') torch.Size([4])\n",
      "08/26/2023, 17:31:42# predicted of 10000: tensor([ 54, 128, 129,  86], device='cuda:1') torch.Size([4])\n",
      "08/26/2023, 17:33:01# labels of 15000: tensor([  7, 161,  61, 150], device='cuda:1') torch.Size([4])\n",
      "08/26/2023, 17:33:01# predicted of 15000: tensor([  7, 132,  61,  20], device='cuda:1') torch.Size([4])\n",
      "08/26/2023, 17:34:18# labels of 20000: tensor([123,  53, 134, 114], device='cuda:1') torch.Size([4])\n",
      "08/26/2023, 17:34:18# predicted of 20000: tensor([123,  20, 134,  51], device='cuda:1') torch.Size([4])\n",
      "08/26/2023, 17:35:35# labels of 25000: tensor([ 45, 152,  54, 108], device='cuda:1') torch.Size([4])\n",
      "08/26/2023, 17:35:35# predicted of 25000: tensor([ 45, 119, 135, 132], device='cuda:1') torch.Size([4])\n",
      "08/26/2023, 17:36:55# labels of 30000: tensor([156, 122, 154, 106], device='cuda:1') torch.Size([4])\n",
      "08/26/2023, 17:36:55# predicted of 30000: tensor([156, 122, 154, 106], device='cuda:1') torch.Size([4])\n",
      "08/26/2023, 17:37:40# total batches: 33000\n",
      "08/26/2023, 17:37:40# Epoch 39 | Train Loss: 2.7435 | Train Accuracy: 0.3835\n"
     ]
    },
    {
     "data": {
      "application/vnd.jupyter.widget-view+json": {
       "model_id": "d869776b21c548d7869859ad0535a62b",
       "version_major": 2,
       "version_minor": 0
      },
      "text/plain": [
       "Validation:   0%|          | 0/4125 [00:00<?, ?it/s]"
      ]
     },
     "metadata": {},
     "output_type": "display_data"
    },
    {
     "name": "stdout",
     "output_type": "stream",
     "text": [
      "08/26/2023, 17:37:40# labels of Validation: tensor([38,  0, 16, 82], device='cuda:1') torch.Size([4])\n",
      "08/26/2023, 17:37:40# predicted of Validation: tensor([139,   0,  16,  82], device='cuda:1') torch.Size([4])\n",
      "08/26/2023, 17:37:40# labels of 0: tensor([38,  0, 16, 82], device='cuda:1') torch.Size([4])\n",
      "08/26/2023, 17:37:40# predicted of 0: tensor([139,   0,  16,  82], device='cuda:1') torch.Size([4])\n",
      "08/26/2023, 17:37:49# labels of Validation: tensor([ 78, 104, 114, 119], device='cuda:1') torch.Size([4])\n",
      "08/26/2023, 17:37:49# predicted of Validation: tensor([ 67, 139,   6, 139], device='cuda:1') torch.Size([4])\n",
      "08/26/2023, 17:37:58# labels of Validation: tensor([ 41, 124, 154,   0], device='cuda:1') torch.Size([4])\n",
      "08/26/2023, 17:37:58# predicted of Validation: tensor([139, 139, 154,   0], device='cuda:1') torch.Size([4])\n",
      "08/26/2023, 17:38:07# labels of Validation: tensor([  1, 146, 133, 147], device='cuda:1') torch.Size([4])\n",
      "08/26/2023, 17:38:07# predicted of Validation: tensor([139, 146,   6, 147], device='cuda:1') torch.Size([4])\n",
      "08/26/2023, 17:38:16# labels of Validation: tensor([104,  33,  26,  50], device='cuda:1') torch.Size([4])\n",
      "08/26/2023, 17:38:16# predicted of Validation: tensor([139, 139, 139,  50], device='cuda:1') torch.Size([4])\n",
      "08/26/2023, 17:38:17# Validation Loss: 2.7319 | Validation Accuracy: 0.3814\n",
      "\n"
     ]
    },
    {
     "data": {
      "application/vnd.jupyter.widget-view+json": {
       "model_id": "5750c728fd86406090e63dd1e68de21b",
       "version_major": 2,
       "version_minor": 0
      },
      "text/plain": [
       "Training:   0%|          | 0/33000 [00:00<?, ?it/s]"
      ]
     },
     "metadata": {},
     "output_type": "display_data"
    },
    {
     "name": "stdout",
     "output_type": "stream",
     "text": [
      "08/26/2023, 17:39:33# labels of 5000: tensor([163, 117,  89, 150], device='cuda:1') torch.Size([4])\n",
      "08/26/2023, 17:39:33# predicted of 5000: tensor([124, 117,  89,  58], device='cuda:1') torch.Size([4])\n",
      "08/26/2023, 17:40:45# labels of 10000: tensor([ 36, 109, 123,  92], device='cuda:1') torch.Size([4])\n",
      "08/26/2023, 17:40:45# predicted of 10000: tensor([ 31,  49, 123, 133], device='cuda:1') torch.Size([4])\n",
      "08/26/2023, 17:42:03# labels of 15000: tensor([145,  30,  59, 144], device='cuda:1') torch.Size([4])\n",
      "08/26/2023, 17:42:03# predicted of 15000: tensor([145,  83, 132, 109], device='cuda:1') torch.Size([4])\n",
      "08/26/2023, 17:43:23# labels of 20000: tensor([ 92, 113, 161, 108], device='cuda:1') torch.Size([4])\n",
      "08/26/2023, 17:43:23# predicted of 20000: tensor([113, 131, 132, 132], device='cuda:1') torch.Size([4])\n",
      "08/26/2023, 17:44:41# labels of 25000: tensor([ 78, 103,  36,  62], device='cuda:1') torch.Size([4])\n",
      "08/26/2023, 17:44:41# predicted of 25000: tensor([ 78, 132,  63,  62], device='cuda:1') torch.Size([4])\n",
      "08/26/2023, 17:45:59# labels of 30000: tensor([ 30,  16, 156,  10], device='cuda:1') torch.Size([4])\n",
      "08/26/2023, 17:45:59# predicted of 30000: tensor([ 86,  16, 156, 114], device='cuda:1') torch.Size([4])\n",
      "08/26/2023, 17:46:43# total batches: 33000\n",
      "08/26/2023, 17:46:43# Epoch 40 | Train Loss: 2.7436 | Train Accuracy: 0.3833\n"
     ]
    },
    {
     "data": {
      "application/vnd.jupyter.widget-view+json": {
       "model_id": "30f6e94c36da4c109b6d376e383d333b",
       "version_major": 2,
       "version_minor": 0
      },
      "text/plain": [
       "Validation:   0%|          | 0/4125 [00:00<?, ?it/s]"
      ]
     },
     "metadata": {},
     "output_type": "display_data"
    },
    {
     "name": "stdout",
     "output_type": "stream",
     "text": [
      "08/26/2023, 17:46:43# labels of Validation: tensor([142, 154,  18, 121], device='cuda:1') torch.Size([4])\n",
      "08/26/2023, 17:46:43# predicted of Validation: tensor([152, 154, 152, 152], device='cuda:1') torch.Size([4])\n",
      "08/26/2023, 17:46:43# labels of 0: tensor([142, 154,  18, 121], device='cuda:1') torch.Size([4])\n",
      "08/26/2023, 17:46:43# predicted of 0: tensor([152, 154, 152, 152], device='cuda:1') torch.Size([4])\n",
      "08/26/2023, 17:46:52# labels of Validation: tensor([165,  62,  84,  51], device='cuda:1') torch.Size([4])\n",
      "08/26/2023, 17:46:52# predicted of Validation: tensor([165,  62,  84, 132], device='cuda:1') torch.Size([4])\n",
      "08/26/2023, 17:47:02# labels of Validation: tensor([ 79, 158, 153, 138], device='cuda:1') torch.Size([4])\n",
      "08/26/2023, 17:47:02# predicted of Validation: tensor([ 79, 152, 152, 138], device='cuda:1') torch.Size([4])\n",
      "08/26/2023, 17:47:12# labels of Validation: tensor([ 97, 161,  83, 140], device='cuda:1') torch.Size([4])\n",
      "08/26/2023, 17:47:12# predicted of Validation: tensor([152, 132, 152, 140], device='cuda:1') torch.Size([4])\n",
      "08/26/2023, 17:47:21# labels of Validation: tensor([ 0, 87,  7,  3], device='cuda:1') torch.Size([4])\n",
      "08/26/2023, 17:47:21# predicted of Validation: tensor([  0, 152,   7,   3], device='cuda:1') torch.Size([4])\n",
      "08/26/2023, 17:47:22# Validation Loss: 2.7321 | Validation Accuracy: 0.3813\n",
      "\n"
     ]
    },
    {
     "data": {
      "application/vnd.jupyter.widget-view+json": {
       "model_id": "6034626fec584c22b67c7d5c7176e2ad",
       "version_major": 2,
       "version_minor": 0
      },
      "text/plain": [
       "Training:   0%|          | 0/33000 [00:00<?, ?it/s]"
      ]
     },
     "metadata": {},
     "output_type": "display_data"
    },
    {
     "name": "stdout",
     "output_type": "stream",
     "text": [
      "08/26/2023, 17:48:39# labels of 5000: tensor([41, 69, 53, 27], device='cuda:1') torch.Size([4])\n",
      "08/26/2023, 17:48:39# predicted of 5000: tensor([86, 69, 36, 27], device='cuda:1') torch.Size([4])\n",
      "08/26/2023, 17:50:00# labels of 10000: tensor([ 78, 129,  62, 109], device='cuda:1') torch.Size([4])\n",
      "08/26/2023, 17:50:00# predicted of 10000: tensor([78,  6, 62,  2], device='cuda:1') torch.Size([4])\n",
      "08/26/2023, 17:51:22# labels of 15000: tensor([164,  84, 102,  72], device='cuda:1') torch.Size([4])\n",
      "08/26/2023, 17:51:22# predicted of 15000: tensor([ 12,  84, 162,  79], device='cuda:1') torch.Size([4])\n",
      "08/26/2023, 17:52:37# labels of 20000: tensor([150,  51,  23,  12], device='cuda:1') torch.Size([4])\n",
      "08/26/2023, 17:52:37# predicted of 20000: tensor([ 54, 132,  23,  98], device='cuda:1') torch.Size([4])\n",
      "08/26/2023, 17:53:57# labels of 25000: tensor([112, 139,  11,  97], device='cuda:1') torch.Size([4])\n",
      "08/26/2023, 17:53:57# predicted of 25000: tensor([ 58,  58, 153, 102], device='cuda:1') torch.Size([4])\n",
      "08/26/2023, 17:55:16# labels of 30000: tensor([132,  14, 127, 121], device='cuda:1') torch.Size([4])\n",
      "08/26/2023, 17:55:16# predicted of 30000: tensor([132,  71, 127,  64], device='cuda:1') torch.Size([4])\n",
      "08/26/2023, 17:56:01# total batches: 33000\n",
      "08/26/2023, 17:56:01# Epoch 41 | Train Loss: 2.7439 | Train Accuracy: 0.3833\n"
     ]
    },
    {
     "data": {
      "application/vnd.jupyter.widget-view+json": {
       "model_id": "2c010b9c584748178f25c34b1d23c2df",
       "version_major": 2,
       "version_minor": 0
      },
      "text/plain": [
       "Validation:   0%|          | 0/4125 [00:00<?, ?it/s]"
      ]
     },
     "metadata": {},
     "output_type": "display_data"
    },
    {
     "name": "stdout",
     "output_type": "stream",
     "text": [
      "08/26/2023, 17:56:01# labels of Validation: tensor([106, 136,  64, 106], device='cuda:1') torch.Size([4])\n",
      "08/26/2023, 17:56:01# predicted of Validation: tensor([106, 136,  28, 106], device='cuda:1') torch.Size([4])\n",
      "08/26/2023, 17:56:01# labels of 0: tensor([106, 136,  64, 106], device='cuda:1') torch.Size([4])\n",
      "08/26/2023, 17:56:01# predicted of 0: tensor([106, 136,  28, 106], device='cuda:1') torch.Size([4])\n",
      "08/26/2023, 17:56:10# labels of Validation: tensor([ 69, 121, 125, 112], device='cuda:1') torch.Size([4])\n",
      "08/26/2023, 17:56:10# predicted of Validation: tensor([69, 44, 44, 44], device='cuda:1') torch.Size([4])\n",
      "08/26/2023, 17:56:20# labels of Validation: tensor([ 93,  46,  75, 128], device='cuda:1') torch.Size([4])\n",
      "08/26/2023, 17:56:20# predicted of Validation: tensor([ 28,  44,  44, 128], device='cuda:1') torch.Size([4])\n",
      "08/26/2023, 17:56:29# labels of Validation: tensor([ 19, 125,  21, 154], device='cuda:1') torch.Size([4])\n",
      "08/26/2023, 17:56:29# predicted of Validation: tensor([ 44,  44,  28, 154], device='cuda:1') torch.Size([4])\n",
      "08/26/2023, 17:56:38# labels of Validation: tensor([105,  12,  82,  34], device='cuda:1') torch.Size([4])\n",
      "08/26/2023, 17:56:38# predicted of Validation: tensor([105,  44,  82,  44], device='cuda:1') torch.Size([4])\n",
      "08/26/2023, 17:56:39# Validation Loss: 2.7322 | Validation Accuracy: 0.3811\n",
      "\n"
     ]
    },
    {
     "data": {
      "application/vnd.jupyter.widget-view+json": {
       "model_id": "76973ee522b94d49b63a87b080e85696",
       "version_major": 2,
       "version_minor": 0
      },
      "text/plain": [
       "Training:   0%|          | 0/33000 [00:00<?, ?it/s]"
      ]
     },
     "metadata": {},
     "output_type": "display_data"
    },
    {
     "name": "stdout",
     "output_type": "stream",
     "text": [
      "08/26/2023, 17:57:56# labels of 5000: tensor([ 44, 116, 103,  93], device='cuda:1') torch.Size([4])\n",
      "08/26/2023, 17:57:56# predicted of 5000: tensor([90, 26,  6,  6], device='cuda:1') torch.Size([4])\n",
      "08/26/2023, 17:59:12# labels of 10000: tensor([ 24, 109, 158, 163], device='cuda:1') torch.Size([4])\n",
      "08/26/2023, 17:59:12# predicted of 10000: tensor([104, 104,  30,  30], device='cuda:1') torch.Size([4])\n",
      "08/26/2023, 18:00:27# labels of 15000: tensor([71, 13, 34, 48], device='cuda:1') torch.Size([4])\n",
      "08/26/2023, 18:00:27# predicted of 15000: tensor([ 54,  13, 103, 125], device='cuda:1') torch.Size([4])\n",
      "08/26/2023, 18:01:39# labels of 20000: tensor([ 50,  67, 121, 121], device='cuda:1') torch.Size([4])\n",
      "08/26/2023, 18:01:39# predicted of 20000: tensor([ 50,  67, 112,  54], device='cuda:1') torch.Size([4])\n",
      "08/26/2023, 18:02:58# labels of 25000: tensor([ 93,  49, 106, 132], device='cuda:1') torch.Size([4])\n",
      "08/26/2023, 18:02:58# predicted of 25000: tensor([ 64, 110, 106, 161], device='cuda:1') torch.Size([4])\n",
      "08/26/2023, 18:04:16# labels of 30000: tensor([ 20,  96,  15, 161], device='cuda:1') torch.Size([4])\n",
      "08/26/2023, 18:04:16# predicted of 30000: tensor([ 57,  96,  15, 132], device='cuda:1') torch.Size([4])\n",
      "08/26/2023, 18:05:05# total batches: 33000\n",
      "08/26/2023, 18:05:05# Epoch 42 | Train Loss: 2.7440 | Train Accuracy: 0.3834\n"
     ]
    },
    {
     "data": {
      "application/vnd.jupyter.widget-view+json": {
       "model_id": "8322f8c7678f46f5a6f5a066750f7bb4",
       "version_major": 2,
       "version_minor": 0
      },
      "text/plain": [
       "Validation:   0%|          | 0/4125 [00:00<?, ?it/s]"
      ]
     },
     "metadata": {},
     "output_type": "display_data"
    },
    {
     "name": "stdout",
     "output_type": "stream",
     "text": [
      "08/26/2023, 18:05:05# labels of Validation: tensor([ 25,  92,   6, 148], device='cuda:1') torch.Size([4])\n",
      "08/26/2023, 18:05:05# predicted of Validation: tensor([ 25,  71, 132,  28], device='cuda:1') torch.Size([4])\n",
      "08/26/2023, 18:05:05# labels of 0: tensor([ 25,  92,   6, 148], device='cuda:1') torch.Size([4])\n",
      "08/26/2023, 18:05:05# predicted of 0: tensor([ 25,  71, 132,  28], device='cuda:1') torch.Size([4])\n",
      "08/26/2023, 18:05:14# labels of Validation: tensor([ 96,  60, 110,  50], device='cuda:1') torch.Size([4])\n",
      "08/26/2023, 18:05:14# predicted of Validation: tensor([96, 71, 28, 50], device='cuda:1') torch.Size([4])\n",
      "08/26/2023, 18:05:23# labels of Validation: tensor([ 31, 156, 164,  76], device='cuda:1') torch.Size([4])\n",
      "08/26/2023, 18:05:23# predicted of Validation: tensor([ 71, 156,  71,  71], device='cuda:1') torch.Size([4])\n",
      "08/26/2023, 18:05:32# labels of Validation: tensor([ 47,  72, 137,  16], device='cuda:1') torch.Size([4])\n",
      "08/26/2023, 18:05:32# predicted of Validation: tensor([71, 72, 71, 16], device='cuda:1') torch.Size([4])\n",
      "08/26/2023, 18:05:41# labels of Validation: tensor([10, 97, 34, 45], device='cuda:1') torch.Size([4])\n",
      "08/26/2023, 18:05:41# predicted of Validation: tensor([71, 71, 71, 45], device='cuda:1') torch.Size([4])\n",
      "08/26/2023, 18:05:42# Validation Loss: 2.7322 | Validation Accuracy: 0.3815\n",
      "\n"
     ]
    },
    {
     "data": {
      "application/vnd.jupyter.widget-view+json": {
       "model_id": "24111a79e0704ebf8f7b2ae3a334291f",
       "version_major": 2,
       "version_minor": 0
      },
      "text/plain": [
       "Training:   0%|          | 0/33000 [00:00<?, ?it/s]"
      ]
     },
     "metadata": {},
     "output_type": "display_data"
    },
    {
     "name": "stdout",
     "output_type": "stream",
     "text": [
      "08/26/2023, 18:06:57# labels of 5000: tensor([ 19,  98, 123, 157], device='cuda:1') torch.Size([4])\n",
      "08/26/2023, 18:06:57# predicted of 5000: tensor([111, 111, 123, 111], device='cuda:1') torch.Size([4])\n",
      "08/26/2023, 18:08:15# labels of 10000: tensor([ 47, 134,  23,  51], device='cuda:1') torch.Size([4])\n",
      "08/26/2023, 18:08:15# predicted of 10000: tensor([ 71, 134,  23, 132], device='cuda:1') torch.Size([4])\n",
      "08/26/2023, 18:09:36# labels of 15000: tensor([166,   2,  16,  71], device='cuda:1') torch.Size([4])\n",
      "08/26/2023, 18:09:36# predicted of 15000: tensor([132, 109,  16,  20], device='cuda:1') torch.Size([4])\n",
      "08/26/2023, 18:10:52# labels of 20000: tensor([107, 146,  16, 112], device='cuda:1') torch.Size([4])\n",
      "08/26/2023, 18:10:52# predicted of 20000: tensor([107, 146,  16,  30], device='cuda:1') torch.Size([4])\n",
      "08/26/2023, 18:12:08# labels of 25000: tensor([38, 41, 55, 40], device='cuda:1') torch.Size([4])\n",
      "08/26/2023, 18:12:08# predicted of 25000: tensor([30, 30, 30, 40], device='cuda:1') torch.Size([4])\n",
      "08/26/2023, 18:13:22# labels of 30000: tensor([140, 158, 132,   9], device='cuda:1') torch.Size([4])\n",
      "08/26/2023, 18:13:22# predicted of 30000: tensor([140,  24, 161, 124], device='cuda:1') torch.Size([4])\n",
      "08/26/2023, 18:14:11# total batches: 33000\n",
      "08/26/2023, 18:14:11# Epoch 43 | Train Loss: 2.7443 | Train Accuracy: 0.3837\n"
     ]
    },
    {
     "data": {
      "application/vnd.jupyter.widget-view+json": {
       "model_id": "95129e54753b43f4a07fcbb67392dc34",
       "version_major": 2,
       "version_minor": 0
      },
      "text/plain": [
       "Validation:   0%|          | 0/4125 [00:00<?, ?it/s]"
      ]
     },
     "metadata": {},
     "output_type": "display_data"
    },
    {
     "name": "stdout",
     "output_type": "stream",
     "text": [
      "08/26/2023, 18:14:11# labels of Validation: tensor([43, 78, 68, 95], device='cuda:1') torch.Size([4])\n",
      "08/26/2023, 18:14:11# predicted of Validation: tensor([58, 67,  6, 95], device='cuda:1') torch.Size([4])\n",
      "08/26/2023, 18:14:11# labels of 0: tensor([43, 78, 68, 95], device='cuda:1') torch.Size([4])\n",
      "08/26/2023, 18:14:11# predicted of 0: tensor([58, 67,  6, 95], device='cuda:1') torch.Size([4])\n",
      "08/26/2023, 18:14:21# labels of Validation: tensor([146, 137, 154,  52], device='cuda:1') torch.Size([4])\n",
      "08/26/2023, 18:14:21# predicted of Validation: tensor([146,  58, 154,  52], device='cuda:1') torch.Size([4])\n",
      "08/26/2023, 18:14:31# labels of Validation: tensor([ 36,  16,  26, 163], device='cuda:1') torch.Size([4])\n",
      "08/26/2023, 18:14:31# predicted of Validation: tensor([58, 16, 58, 58], device='cuda:1') torch.Size([4])\n",
      "08/26/2023, 18:14:41# labels of Validation: tensor([119,  56, 138,  71], device='cuda:1') torch.Size([4])\n",
      "08/26/2023, 18:14:41# predicted of Validation: tensor([ 58,  56, 138,  58], device='cuda:1') torch.Size([4])\n",
      "08/26/2023, 18:14:51# labels of Validation: tensor([119,  89, 138, 149], device='cuda:1') torch.Size([4])\n",
      "08/26/2023, 18:14:51# predicted of Validation: tensor([ 58,  89, 138, 149], device='cuda:1') torch.Size([4])\n",
      "08/26/2023, 18:14:52# Validation Loss: 2.7323 | Validation Accuracy: 0.3813\n",
      "\n"
     ]
    },
    {
     "data": {
      "application/vnd.jupyter.widget-view+json": {
       "model_id": "c4bf22acd25b4459a87d37bf5c98424b",
       "version_major": 2,
       "version_minor": 0
      },
      "text/plain": [
       "Training:   0%|          | 0/33000 [00:00<?, ?it/s]"
      ]
     },
     "metadata": {},
     "output_type": "display_data"
    },
    {
     "name": "stdout",
     "output_type": "stream",
     "text": [
      "08/26/2023, 18:16:08# labels of 5000: tensor([77, 68, 87, 61], device='cuda:1') torch.Size([4])\n",
      "08/26/2023, 18:16:08# predicted of 5000: tensor([  6, 148,  20,  61], device='cuda:1') torch.Size([4])\n",
      "08/26/2023, 18:17:18# labels of 10000: tensor([ 96,  11, 152, 113], device='cuda:1') torch.Size([4])\n",
      "08/26/2023, 18:17:18# predicted of 10000: tensor([ 96,  44,  55, 107], device='cuda:1') torch.Size([4])\n",
      "08/26/2023, 18:18:35# labels of 15000: tensor([ 48, 121,  47,  74], device='cuda:1') torch.Size([4])\n",
      "08/26/2023, 18:18:35# predicted of 15000: tensor([ 88, 116, 121,  88], device='cuda:1') torch.Size([4])\n",
      "08/26/2023, 18:19:49# labels of 20000: tensor([151, 166, 121,  21], device='cuda:1') torch.Size([4])\n",
      "08/26/2023, 18:19:49# predicted of 20000: tensor([ 14, 161,  14, 161], device='cuda:1') torch.Size([4])\n",
      "08/26/2023, 18:21:05# labels of 25000: tensor([ 4, 75, 85, 92], device='cuda:1') torch.Size([4])\n",
      "08/26/2023, 18:21:05# predicted of 25000: tensor([ 53, 104,  85, 104], device='cuda:1') torch.Size([4])\n",
      "08/26/2023, 18:22:17# labels of 30000: tensor([165, 153,  91,   8], device='cuda:1') torch.Size([4])\n",
      "08/26/2023, 18:22:17# predicted of 30000: tensor([165, 139, 161, 108], device='cuda:1') torch.Size([4])\n",
      "08/26/2023, 18:23:00# total batches: 33000\n",
      "08/26/2023, 18:23:00# Epoch 44 | Train Loss: 2.7444 | Train Accuracy: 0.3836\n"
     ]
    },
    {
     "data": {
      "application/vnd.jupyter.widget-view+json": {
       "model_id": "445e722086944fd08baf33af1f43e5db",
       "version_major": 2,
       "version_minor": 0
      },
      "text/plain": [
       "Validation:   0%|          | 0/4125 [00:00<?, ?it/s]"
      ]
     },
     "metadata": {},
     "output_type": "display_data"
    },
    {
     "name": "stdout",
     "output_type": "stream",
     "text": [
      "08/26/2023, 18:23:00# labels of Validation: tensor([129, 160,  20,  12], device='cuda:1') torch.Size([4])\n",
      "08/26/2023, 18:23:00# predicted of Validation: tensor([  6,   6, 164, 164], device='cuda:1') torch.Size([4])\n",
      "08/26/2023, 18:23:00# labels of 0: tensor([129, 160,  20,  12], device='cuda:1') torch.Size([4])\n",
      "08/26/2023, 18:23:00# predicted of 0: tensor([  6,   6, 164, 164], device='cuda:1') torch.Size([4])\n",
      "08/26/2023, 18:23:09# labels of Validation: tensor([141,  54, 139,   8], device='cuda:1') torch.Size([4])\n",
      "08/26/2023, 18:23:09# predicted of Validation: tensor([  6, 164, 164,   6], device='cuda:1') torch.Size([4])\n",
      "08/26/2023, 18:23:18# labels of Validation: tensor([ 27, 146,  32,  62], device='cuda:1') torch.Size([4])\n",
      "08/26/2023, 18:23:18# predicted of Validation: tensor([ 27, 146,  32,  62], device='cuda:1') torch.Size([4])\n",
      "08/26/2023, 18:23:28# labels of Validation: tensor([ 98,  48, 152,  45], device='cuda:1') torch.Size([4])\n",
      "08/26/2023, 18:23:28# predicted of Validation: tensor([164, 164, 164,  45], device='cuda:1') torch.Size([4])\n",
      "08/26/2023, 18:23:37# labels of Validation: tensor([ 58,  10, 162, 123], device='cuda:1') torch.Size([4])\n",
      "08/26/2023, 18:23:37# predicted of Validation: tensor([164, 164, 164, 123], device='cuda:1') torch.Size([4])\n",
      "08/26/2023, 18:23:38# Validation Loss: 2.7326 | Validation Accuracy: 0.3812\n",
      "\n"
     ]
    },
    {
     "data": {
      "application/vnd.jupyter.widget-view+json": {
       "model_id": "15b5f9ebfd5d4af99019b64b2bf87a0b",
       "version_major": 2,
       "version_minor": 0
      },
      "text/plain": [
       "Training:   0%|          | 0/33000 [00:00<?, ?it/s]"
      ]
     },
     "metadata": {},
     "output_type": "display_data"
    },
    {
     "name": "stdout",
     "output_type": "stream",
     "text": [
      "08/26/2023, 18:24:55# labels of 5000: tensor([111, 136,  80, 164], device='cuda:1') torch.Size([4])\n",
      "08/26/2023, 18:24:55# predicted of 5000: tensor([160, 136,  80, 113], device='cuda:1') torch.Size([4])\n",
      "08/26/2023, 18:26:16# labels of 10000: tensor([133,  61,  75,  70], device='cuda:1') torch.Size([4])\n",
      "08/26/2023, 18:26:16# predicted of 10000: tensor([  6,  61, 153,  70], device='cuda:1') torch.Size([4])\n",
      "08/26/2023, 18:27:32# labels of 15000: tensor([158, 127, 141, 118], device='cuda:1') torch.Size([4])\n",
      "08/26/2023, 18:27:32# predicted of 15000: tensor([ 60, 127,  51, 118], device='cuda:1') torch.Size([4])\n",
      "08/26/2023, 18:28:45# labels of 20000: tensor([140,  97, 130,  29], device='cuda:1') torch.Size([4])\n",
      "08/26/2023, 18:28:45# predicted of 20000: tensor([140,   4, 130,  29], device='cuda:1') torch.Size([4])\n",
      "08/26/2023, 18:30:04# labels of 25000: tensor([124,  20, 155,  50], device='cuda:1') torch.Size([4])\n",
      "08/26/2023, 18:30:04# predicted of 25000: tensor([ 57,  57, 161,  50], device='cuda:1') torch.Size([4])\n",
      "08/26/2023, 18:31:20# labels of 30000: tensor([ 25,  14,  40, 155], device='cuda:1') torch.Size([4])\n",
      "08/26/2023, 18:31:20# predicted of 30000: tensor([ 25, 135,  40, 161], device='cuda:1') torch.Size([4])\n",
      "08/26/2023, 18:32:03# total batches: 33000\n",
      "08/26/2023, 18:32:03# Epoch 45 | Train Loss: 2.7451 | Train Accuracy: 0.3828\n"
     ]
    },
    {
     "data": {
      "application/vnd.jupyter.widget-view+json": {
       "model_id": "b207bacb4dba4cd09da1b6ba71e1a40b",
       "version_major": 2,
       "version_minor": 0
      },
      "text/plain": [
       "Validation:   0%|          | 0/4125 [00:00<?, ?it/s]"
      ]
     },
     "metadata": {},
     "output_type": "display_data"
    },
    {
     "name": "stdout",
     "output_type": "stream",
     "text": [
      "08/26/2023, 18:32:03# labels of Validation: tensor([156,  40,  83, 137], device='cuda:1') torch.Size([4])\n",
      "08/26/2023, 18:32:03# predicted of Validation: tensor([156,  40,  31,  31], device='cuda:1') torch.Size([4])\n",
      "08/26/2023, 18:32:03# labels of 0: tensor([156,  40,  83, 137], device='cuda:1') torch.Size([4])\n",
      "08/26/2023, 18:32:03# predicted of 0: tensor([156,  40,  31,  31], device='cuda:1') torch.Size([4])\n",
      "08/26/2023, 18:32:12# labels of Validation: tensor([58, 38, 52, 75], device='cuda:1') torch.Size([4])\n",
      "08/26/2023, 18:32:12# predicted of Validation: tensor([31, 31, 52, 31], device='cuda:1') torch.Size([4])\n",
      "08/26/2023, 18:32:21# labels of Validation: tensor([39, 42, 68, 15], device='cuda:1') torch.Size([4])\n",
      "08/26/2023, 18:32:21# predicted of Validation: tensor([39, 31, 77, 15], device='cuda:1') torch.Size([4])\n",
      "08/26/2023, 18:32:30# labels of Validation: tensor([ 18, 135, 106,  71], device='cuda:1') torch.Size([4])\n",
      "08/26/2023, 18:32:30# predicted of Validation: tensor([ 31,  31, 106,  31], device='cuda:1') torch.Size([4])\n",
      "08/26/2023, 18:32:40# labels of Validation: tensor([50, 79, 87, 37], device='cuda:1') torch.Size([4])\n",
      "08/26/2023, 18:32:40# predicted of Validation: tensor([50, 72, 31, 77], device='cuda:1') torch.Size([4])\n",
      "08/26/2023, 18:32:41# Validation Loss: 2.7337 | Validation Accuracy: 0.3815\n",
      "\n"
     ]
    },
    {
     "data": {
      "application/vnd.jupyter.widget-view+json": {
       "model_id": "d7496318078d409c91998073f3576833",
       "version_major": 2,
       "version_minor": 0
      },
      "text/plain": [
       "Training:   0%|          | 0/33000 [00:00<?, ?it/s]"
      ]
     },
     "metadata": {},
     "output_type": "display_data"
    },
    {
     "name": "stdout",
     "output_type": "stream",
     "text": [
      "08/26/2023, 18:33:58# labels of 5000: tensor([ 32,   3, 132,  55], device='cuda:1') torch.Size([4])\n",
      "08/26/2023, 18:33:58# predicted of 5000: tensor([ 32,   3, 132,  71], device='cuda:1') torch.Size([4])\n",
      "08/26/2023, 18:35:22# labels of 10000: tensor([ 12, 145, 106,  79], device='cuda:1') torch.Size([4])\n",
      "08/26/2023, 18:35:22# predicted of 10000: tensor([ 58, 145, 106,  79], device='cuda:1') torch.Size([4])\n",
      "08/26/2023, 18:36:43# labels of 15000: tensor([ 82,  54, 152,  85], device='cuda:1') torch.Size([4])\n",
      "08/26/2023, 18:36:43# predicted of 15000: tensor([82, 33, 46, 85], device='cuda:1') torch.Size([4])\n",
      "08/26/2023, 18:37:58# labels of 20000: tensor([156, 132,  25,  46], device='cuda:1') torch.Size([4])\n",
      "08/26/2023, 18:37:58# predicted of 20000: tensor([156, 161,  25,  81], device='cuda:1') torch.Size([4])\n",
      "08/26/2023, 18:39:12# labels of 25000: tensor([ 85, 101,  86, 120], device='cuda:1') torch.Size([4])\n",
      "08/26/2023, 18:39:12# predicted of 25000: tensor([ 85,  28, 107, 120], device='cuda:1') torch.Size([4])\n",
      "08/26/2023, 18:40:29# labels of 30000: tensor([ 33,  82, 150, 100], device='cuda:1') torch.Size([4])\n",
      "08/26/2023, 18:40:29# predicted of 30000: tensor([109,  82, 109,  28], device='cuda:1') torch.Size([4])\n",
      "08/26/2023, 18:41:13# total batches: 33000\n",
      "08/26/2023, 18:41:13# Epoch 46 | Train Loss: 2.7458 | Train Accuracy: 0.3837\n"
     ]
    },
    {
     "data": {
      "application/vnd.jupyter.widget-view+json": {
       "model_id": "4a6ffce98aac4639bc02f94f8d34afbc",
       "version_major": 2,
       "version_minor": 0
      },
      "text/plain": [
       "Validation:   0%|          | 0/4125 [00:00<?, ?it/s]"
      ]
     },
     "metadata": {},
     "output_type": "display_data"
    },
    {
     "name": "stdout",
     "output_type": "stream",
     "text": [
      "08/26/2023, 18:41:13# labels of Validation: tensor([ 83,   6, 119,  33], device='cuda:1') torch.Size([4])\n",
      "08/26/2023, 18:41:13# predicted of Validation: tensor([ 18, 132,  18,  18], device='cuda:1') torch.Size([4])\n",
      "08/26/2023, 18:41:13# labels of 0: tensor([ 83,   6, 119,  33], device='cuda:1') torch.Size([4])\n",
      "08/26/2023, 18:41:13# predicted of 0: tensor([ 18, 132,  18,  18], device='cuda:1') torch.Size([4])\n",
      "08/26/2023, 18:41:22# labels of Validation: tensor([135,  11, 141,  54], device='cuda:1') torch.Size([4])\n",
      "08/26/2023, 18:41:22# predicted of Validation: tensor([18, 18, 51, 18], device='cuda:1') torch.Size([4])\n",
      "08/26/2023, 18:41:31# labels of Validation: tensor([70, 71,  6, 11], device='cuda:1') torch.Size([4])\n",
      "08/26/2023, 18:41:31# predicted of Validation: tensor([ 70,  18, 132,  18], device='cuda:1') torch.Size([4])\n",
      "08/26/2023, 18:41:40# labels of Validation: tensor([ 28,   3,  91, 136], device='cuda:1') torch.Size([4])\n",
      "08/26/2023, 18:41:40# predicted of Validation: tensor([132,   3, 132, 136], device='cuda:1') torch.Size([4])\n",
      "08/26/2023, 18:41:50# labels of Validation: tensor([122,  85, 142,  62], device='cuda:1') torch.Size([4])\n",
      "08/26/2023, 18:41:50# predicted of Validation: tensor([122,  85,  18,  62], device='cuda:1') torch.Size([4])\n",
      "08/26/2023, 18:41:51# Validation Loss: 2.7340 | Validation Accuracy: 0.3821\n",
      "\n"
     ]
    },
    {
     "data": {
      "application/vnd.jupyter.widget-view+json": {
       "model_id": "da74155578d247838a42cb32ee92060b",
       "version_major": 2,
       "version_minor": 0
      },
      "text/plain": [
       "Training:   0%|          | 0/33000 [00:00<?, ?it/s]"
      ]
     },
     "metadata": {},
     "output_type": "display_data"
    },
    {
     "name": "stdout",
     "output_type": "stream",
     "text": [
      "08/26/2023, 18:43:04# labels of 5000: tensor([ 49, 162,  23,   1], device='cuda:1') torch.Size([4])\n",
      "08/26/2023, 18:43:04# predicted of 5000: tensor([ 47,  47,  23, 137], device='cuda:1') torch.Size([4])\n",
      "08/26/2023, 18:44:23# labels of 10000: tensor([ 28, 105,  37,  63], device='cuda:1') torch.Size([4])\n",
      "08/26/2023, 18:44:23# predicted of 10000: tensor([132, 105,  59,  43], device='cuda:1') torch.Size([4])\n",
      "08/26/2023, 18:45:37# labels of 15000: tensor([128, 153, 105,  33], device='cuda:1') torch.Size([4])\n",
      "08/26/2023, 18:45:37# predicted of 15000: tensor([128,   9, 105,  38], device='cuda:1') torch.Size([4])\n",
      "08/26/2023, 18:46:51# labels of 20000: tensor([158, 126,  20,  49], device='cuda:1') torch.Size([4])\n",
      "08/26/2023, 18:46:51# predicted of 20000: tensor([ 44, 126,  30,  30], device='cuda:1') torch.Size([4])\n",
      "08/26/2023, 18:48:07# labels of 25000: tensor([75, 88, 98, 73], device='cuda:1') torch.Size([4])\n",
      "08/26/2023, 18:48:07# predicted of 25000: tensor([34, 66,  4, 73], device='cuda:1') torch.Size([4])\n",
      "08/26/2023, 18:49:26# labels of 30000: tensor([38, 35, 70, 52], device='cuda:1') torch.Size([4])\n",
      "08/26/2023, 18:49:26# predicted of 30000: tensor([76, 35, 70, 52], device='cuda:1') torch.Size([4])\n",
      "08/26/2023, 18:50:13# total batches: 33000\n",
      "08/26/2023, 18:50:13# Epoch 47 | Train Loss: 2.7465 | Train Accuracy: 0.3834\n"
     ]
    },
    {
     "data": {
      "application/vnd.jupyter.widget-view+json": {
       "model_id": "c3ed0787e5e94756874fee052f8a7209",
       "version_major": 2,
       "version_minor": 0
      },
      "text/plain": [
       "Validation:   0%|          | 0/4125 [00:00<?, ?it/s]"
      ]
     },
     "metadata": {},
     "output_type": "display_data"
    },
    {
     "name": "stdout",
     "output_type": "stream",
     "text": [
      "08/26/2023, 18:50:13# labels of Validation: tensor([143, 107,  62,  73], device='cuda:1') torch.Size([4])\n",
      "08/26/2023, 18:50:13# predicted of Validation: tensor([49, 28, 62, 73], device='cuda:1') torch.Size([4])\n",
      "08/26/2023, 18:50:13# labels of 0: tensor([143, 107,  62,  73], device='cuda:1') torch.Size([4])\n",
      "08/26/2023, 18:50:13# predicted of 0: tensor([49, 28, 62, 73], device='cuda:1') torch.Size([4])\n",
      "08/26/2023, 18:50:22# labels of Validation: tensor([96, 93,  0, 52], device='cuda:1') torch.Size([4])\n",
      "08/26/2023, 18:50:22# predicted of Validation: tensor([96, 28,  0, 52], device='cuda:1') torch.Size([4])\n",
      "08/26/2023, 18:50:31# labels of Validation: tensor([129,   2,  76,   4], device='cuda:1') torch.Size([4])\n",
      "08/26/2023, 18:50:31# predicted of Validation: tensor([28, 49, 49, 49], device='cuda:1') torch.Size([4])\n",
      "08/26/2023, 18:50:41# labels of Validation: tensor([123, 138, 112,  49], device='cuda:1') torch.Size([4])\n",
      "08/26/2023, 18:50:41# predicted of Validation: tensor([123, 138,  49,  49], device='cuda:1') torch.Size([4])\n",
      "08/26/2023, 18:50:50# labels of Validation: tensor([ 75,  12, 121, 152], device='cuda:1') torch.Size([4])\n",
      "08/26/2023, 18:50:50# predicted of Validation: tensor([49, 49, 49, 49], device='cuda:1') torch.Size([4])\n",
      "08/26/2023, 18:50:51# Validation Loss: 2.7345 | Validation Accuracy: 0.3815\n",
      "\n"
     ]
    },
    {
     "data": {
      "application/vnd.jupyter.widget-view+json": {
       "model_id": "a47cc8b00e5840f7b92c53e8260ec7c8",
       "version_major": 2,
       "version_minor": 0
      },
      "text/plain": [
       "Training:   0%|          | 0/33000 [00:00<?, ?it/s]"
      ]
     },
     "metadata": {},
     "output_type": "display_data"
    }
   ],
   "source": [
    "from torch.optim import AdamW, lr_scheduler\n",
    "\n",
    "seed = 8787\n",
    "same_seeds(seed)\n",
    "\n",
    "model = GAT(in_dim=50, hidden_dim=16, out_dim=168, num_heads=8)\n",
    "# in_dim means the dimension of the node_feat(50 dim, since the 50-dim embedding)\n",
    "# out_dim means the # of the categories -> 168 for out tasks\n",
    "model.load_state_dict(torch.load('model1_initial/initial_weight.pth'))\n",
    "best_model_path = \"../checkpoint_GAT/best_model_GAT_4.pt\"\n",
    "\n",
    "model = model.to(device)\n",
    "\n",
    "# optimizer = torch.optim.AdamW(model.parameters(), lr=1e-5)\n",
    "optimizer = AdamW(model.parameters(), lr=1e-3)\n",
    "# scheduler = get_linear_schedule_with_warmup(optimizer, num_warmup_steps=18, num_training_steps=total_steps)\n",
    "\n",
    "# T_max control the period of the lr changing -> set 1/10 first\n",
    "scheduler = lr_scheduler.CosineAnnealingLR(optimizer, T_max=36, eta_min=0, last_epoch=- 1, verbose=False)\n",
    "\n",
    "\n",
    "criterion = nn.CrossEntropyLoss()\n",
    "total_steps = 360\n",
    "\n",
    "# save the best model\n",
    "best_val_loss = float('inf')\n",
    "patience = 10  # Number of epochs with no improvement after which training will be stopped.\n",
    "waiting = 0  # The number of epochs with no improvement so far.\n",
    "\n",
    "\n",
    "# Training Part\n",
    "for epoch in tqdm(range(total_steps)):\n",
    "    # Train\n",
    "    model.train()\n",
    "    total_loss = 0.0\n",
    "    total_accuracy = 0.0\n",
    "    num_batches = 0\n",
    "#     count = 0 \n",
    "    \n",
    "    for data in tqdm(dataloaders['train'], desc=\"Training\", position=0, leave=True):\n",
    "#         count += 1\n",
    "        num_batches += 1\n",
    "        loss, accuracy, _ = model_fn(data, model, criterion, device, num_batches, which_type='train')\n",
    "        \n",
    "        optimizer.zero_grad()\n",
    "        loss.backward()\n",
    "        optimizer.step()\n",
    "\n",
    "        total_loss += loss.item()\n",
    "        total_accuracy += accuracy.item()\n",
    "\n",
    "        \n",
    "    scheduler.step()\n",
    "    add_log_msg(f\"total batches: {num_batches}\")\n",
    "\n",
    "    avg_loss = total_loss / num_batches\n",
    "    avg_accuracy = total_accuracy / num_batches\n",
    "\n",
    "    add_log_msg(f'Epoch {epoch} | Train Loss: {avg_loss:.4f} | Train Accuracy: {avg_accuracy:.4f}')\n",
    "\n",
    "    \n",
    "    # Validation Part\n",
    "    model.eval()\n",
    "    total_accuracy = 0.0\n",
    "    total_loss = 0.0\n",
    "    num_batches = 0\n",
    "\n",
    "\n",
    "    with torch.no_grad():\n",
    "        for data in tqdm(dataloaders['valid'], desc=\"Validation\", position=0, leave=True):\n",
    "            loss, accuracy, _ = model_fn(data, model, criterion, device, num_batches, which_type='validation')\n",
    "            total_accuracy += accuracy.item()\n",
    "            total_loss += loss.item()\n",
    "            num_batches += 1\n",
    "\n",
    "    avg_accuracy = total_accuracy / num_batches\n",
    "    current_loss = total_loss / num_batches\n",
    "    \n",
    "    add_log_msg(f'Validation Loss: {current_loss:.4f} | Validation Accuracy: {avg_accuracy:.4f}\\n')\n",
    "    \n",
    "            \n",
    "    if current_loss < best_val_loss:\n",
    "        best_val_loss = current_loss\n",
    "        waiting = 0\n",
    "        \n",
    "        if os.path.exists(best_model_path):\n",
    "            os.remove(best_model_path)\n",
    "\n",
    "            torch.save({\n",
    "                    'epoch': epoch,\n",
    "                    'model_state_dict': model.state_dict(),\n",
    "                    'optimizer_state_dict': optimizer.state_dict(),\n",
    "                    'loss': loss,\n",
    "                    }, best_model_path)\n",
    "\n",
    "        else:\n",
    "            waiting += 1\n",
    "            if waiting >= patience:\n",
    "                add_log_msg(\"Early stopping\")\n",
    "                break\n",
    "\n",
    "\n",
    "# Testing Part\n",
    "model.eval()\n",
    "total = 0\n",
    "correct = 0\n",
    "count = 0\n",
    "\n",
    "with torch.no_grad():\n",
    "    for data in tqdm(dataloaders['test'], desc=\"Testing\", position=0, leave=True):\n",
    "\n",
    "        loss, accuracy, predicted = model_fn(data, model, criterion, device, count, which_type='test')\n",
    "        labels = data[1].to(device)  # Assuming labels are the second element in the tuple\n",
    "        \n",
    "        add_log_msg(f\"labels: {labels} {labels.shape}\")\n",
    "        add_log_msg(f\"predicted: {predicted} {predicted.shape}\")\n",
    "        count += 1\n",
    "        \n",
    "        total += labels.size(0) # label.size(0) is the batch size\n",
    "        correct += (predicted == labels).sum().item() \n",
    "        # (predicted == labels).sum() would return how many of them are equal; \n",
    "        # .item() would make the tensor to the regular value\n",
    "        \n",
    "#     print('Test Accuracy: %d %%' % (100 * correct / total))\n",
    "add_log_msg(f'Test Accuracy: {100 * correct / total} %%')"
   ]
  },
  {
   "cell_type": "code",
   "execution_count": null,
   "metadata": {},
   "outputs": [],
   "source": [
    "# device = torch.device(f\"cuda:2\")\n",
    "# print(device)"
   ]
  },
  {
   "cell_type": "code",
   "execution_count": null,
   "metadata": {},
   "outputs": [],
   "source": []
  }
 ],
 "metadata": {
  "kernelspec": {
   "display_name": "Python 3",
   "language": "python",
   "name": "python3"
  },
  "language_info": {
   "codemirror_mode": {
    "name": "ipython",
    "version": 3
   },
   "file_extension": ".py",
   "mimetype": "text/x-python",
   "name": "python",
   "nbconvert_exporter": "python",
   "pygments_lexer": "ipython3",
   "version": "3.6.9"
  }
 },
 "nbformat": 4,
 "nbformat_minor": 2
}
