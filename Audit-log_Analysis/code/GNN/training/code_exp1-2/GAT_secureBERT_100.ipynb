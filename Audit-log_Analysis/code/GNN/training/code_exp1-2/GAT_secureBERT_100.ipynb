{
 "cells": [
  {
   "cell_type": "markdown",
   "metadata": {},
   "source": [
    "# Test of GAT\n",
    "- use DGL\n",
    "- predict `graphs`\n",
    "- test: 0~99\n",
    "- validation: 100~199\n",
    "- train: 200~999\n",
    "- larger lr with scheduler\n",
    "- try the sklearn report"
   ]
  },
  {
   "cell_type": "code",
   "execution_count": 1,
   "metadata": {},
   "outputs": [],
   "source": [
    "import os\n",
    "import dgl\n",
    "import json\n",
    "import torch\n",
    "import torch as th\n",
    "# from tqdm import tqdm\n",
    "from tqdm.notebook import tqdm  # 使用 notebook 版本的 tqdm\n",
    "import torch.nn as nn\n",
    "from dgl.nn import GraphConv, GATConv\n",
    "import torch.nn.functional as F\n",
    "from torch.utils.data import Dataset, DataLoader\n",
    "from transformers import get_linear_schedule_with_warmup\n",
    "from torch.optim import AdamW\n",
    "from sklearn.metrics import classification_report\n"
   ]
  },
  {
   "cell_type": "markdown",
   "metadata": {},
   "source": [
    "- check the GPU and assign the GPU by the best memory usage"
   ]
  },
  {
   "cell_type": "code",
   "execution_count": 2,
   "metadata": {},
   "outputs": [
    {
     "name": "stdout",
     "output_type": "stream",
     "text": [
      "cuda:2\n"
     ]
    }
   ],
   "source": [
    "import subprocess\n",
    "import torch\n",
    "\n",
    "def get_free_gpu():\n",
    "    try:\n",
    "        # Run nvidia-smi command to get GPU details\n",
    "        _output_to_list = lambda x: x.decode('ascii').split('\\n')[:-1]\n",
    "        command = \"nvidia-smi --query-gpu=memory.free --format=csv,nounits,noheader\"\n",
    "        memory_free_info = _output_to_list(subprocess.check_output(command.split())) \n",
    "        memory_free_values = [int(x) for i, x in enumerate(memory_free_info)]\n",
    "        \n",
    "        # Get the GPU with the maximum free memory\n",
    "        best_gpu_id = memory_free_values.index(max(memory_free_values))\n",
    "        return best_gpu_id\n",
    "    except:\n",
    "        # If any exception occurs, default to GPU 0 (this handles cases where nvidia-smi isn't installed)\n",
    "        return 0\n",
    "\n",
    "if torch.cuda.is_available():\n",
    "    # Get the best GPU ID based on free memory and set it\n",
    "    best_gpu_id = get_free_gpu()\n",
    "    device = torch.device(f\"cuda:{best_gpu_id}\")\n",
    "else:\n",
    "    device = torch.device(\"cpu\")\n",
    "    print(\"there's no available GPU\")\n",
    "\n",
    "# device = torch.device(f\"cuda:1\")\n",
    "print(device)\n"
   ]
  },
  {
   "cell_type": "markdown",
   "metadata": {},
   "source": [
    "## Fix the seed"
   ]
  },
  {
   "cell_type": "code",
   "execution_count": 3,
   "metadata": {},
   "outputs": [],
   "source": [
    "import numpy as np\n",
    "import torch\n",
    "import random\n",
    "\n",
    "#fix seed\n",
    "def same_seeds(seed = 8787):\n",
    "    torch.manual_seed(seed)\n",
    "    # random.seed(seed) \n",
    "    if torch.cuda.is_available():\n",
    "        torch.cuda.manual_seed(seed)\n",
    "        torch.cuda.manual_seed_all(seed)  \n",
    "    np.random.seed(seed)  \n",
    "    torch.backends.cudnn.benchmark = False\n",
    "    torch.backends.cudnn.deterministic = True"
   ]
  },
  {
   "cell_type": "markdown",
   "metadata": {},
   "source": [
    "## Data Loader"
   ]
  },
  {
   "cell_type": "code",
   "execution_count": 4,
   "metadata": {},
   "outputs": [],
   "source": [
    "class GraphDataset(Dataset):\n",
    "    def __init__(self, data_list, device):\n",
    "        self.data_list = data_list\n",
    "        self.device = device\n",
    "\n",
    "    def __len__(self):\n",
    "        return len(self.data_list)\n",
    "    \n",
    "    def __getitem__(self, idx):\n",
    "        data = self.data_list[idx]\n",
    "\n",
    "        g = dgl.graph((th.tensor(data[\"edge_index\"][0]), th.tensor(data[\"edge_index\"][1])), num_nodes=data[\"num_nodes\"]).to(self.device)\n",
    "\n",
    "        g.ndata['feat'] = th.tensor(data[\"node_feat\"]).to(self.device)\n",
    "        g.edata['feat'] = th.tensor(data[\"edge_attr\"]).to(self.device)  # Add edge features to graph\n",
    "\n",
    "        return g, th.tensor(data[\"label\"]).to(self.device)\n",
    "\n",
    "\n",
    "def collate(samples):\n",
    "    # The input `samples` is a list of pairs\n",
    "    #  (graph, label).\n",
    "    graphs, labels = map(list, zip(*samples))\n",
    "    batched_graph = dgl.batch(graphs)\n",
    "    return batched_graph, torch.tensor(labels)\n"
   ]
  },
  {
   "cell_type": "code",
   "execution_count": 5,
   "metadata": {},
   "outputs": [
    {
     "data": {
      "application/vnd.jupyter.widget-view+json": {
       "model_id": "29704fc5a5784622a6e87c3dea9a0396",
       "version_major": 2,
       "version_minor": 0
      },
      "text/plain": [
       "  0%|          | 0/3 [00:00<?, ?it/s]"
      ]
     },
     "metadata": {},
     "output_type": "display_data"
    },
    {
     "name": "stdout",
     "output_type": "stream",
     "text": [
      "../../data_processing/dgl/data_new/training_data/exp_1/secureBERT_100/train.jsonl\n"
     ]
    },
    {
     "data": {
      "application/vnd.jupyter.widget-view+json": {
       "model_id": "9d548ca7e8e64aaa9e5e0b3fd3966a20",
       "version_major": 2,
       "version_minor": 0
      },
      "text/plain": [
       "0it [00:00, ?it/s]"
      ]
     },
     "metadata": {},
     "output_type": "display_data"
    },
    {
     "name": "stdout",
     "output_type": "stream",
     "text": [
      "../../data_processing/dgl/data_new/training_data/exp_1/secureBERT_100/valid.jsonl\n"
     ]
    },
    {
     "data": {
      "application/vnd.jupyter.widget-view+json": {
       "model_id": "ce572b4b89ce48c591879a19747aea22",
       "version_major": 2,
       "version_minor": 0
      },
      "text/plain": [
       "0it [00:00, ?it/s]"
      ]
     },
     "metadata": {},
     "output_type": "display_data"
    },
    {
     "name": "stdout",
     "output_type": "stream",
     "text": [
      "../../data_processing/dgl/data_new/training_data/exp_1/secureBERT_100/test.jsonl\n"
     ]
    },
    {
     "data": {
      "application/vnd.jupyter.widget-view+json": {
       "model_id": "27ac0214915e4a7fa97c7e069f59daef",
       "version_major": 2,
       "version_minor": 0
      },
      "text/plain": [
       "0it [00:00, ?it/s]"
      ]
     },
     "metadata": {},
     "output_type": "display_data"
    },
    {
     "name": "stdout",
     "output_type": "stream",
     "text": [
      "Datasets loaded!\n"
     ]
    }
   ],
   "source": [
    "datasets = ['train', 'valid', 'test']\n",
    "# datasets = ['test']\n",
    "dataset_data = {}\n",
    "\n",
    "for dataset_name in tqdm(datasets):\n",
    "#     file_path = f\"../../data_processing/dgl/data/test_graph/repeated_{dataset_name}.jsonl\"\n",
    "    file_path = f\"../../data_processing/dgl/data_new/training_data/exp_1/secureBERT_100/{dataset_name}.jsonl\"\n",
    "    \n",
    "    print(file_path)\n",
    "    with open(file_path) as f:\n",
    "        data_list = [json.loads(line) for line in tqdm(f, position=0, leave=True)]\n",
    "    \n",
    "    dataset_data[dataset_name] = GraphDataset(data_list, device)\n",
    "\n",
    "print(\"Datasets loaded!\")"
   ]
  },
  {
   "cell_type": "markdown",
   "metadata": {},
   "source": [
    "- choose batch size"
   ]
  },
  {
   "cell_type": "code",
   "execution_count": 6,
   "metadata": {},
   "outputs": [
    {
     "name": "stdout",
     "output_type": "stream",
     "text": [
      "OK!\n"
     ]
    }
   ],
   "source": [
    "def create_dataloaders(batch_size, shuffle=True):\n",
    "    dataloaders = {}\n",
    "    for dataset_name, dataset in dataset_data.items():\n",
    "        # do not shuffle the testing dataset\n",
    "        if dataset_name == \"test\":\n",
    "            dataloaders[dataset_name] = DataLoader(dataset, batch_size=batch_size, shuffle=False, collate_fn=collate)    \n",
    "        else:\n",
    "            dataloaders[dataset_name] = DataLoader(dataset, batch_size=batch_size, shuffle=shuffle, collate_fn=collate)\n",
    "    return dataloaders\n",
    "\n",
    "# dataloaders = create_dataloaders(4)\n",
    "dataloaders = create_dataloaders(16)\n",
    "\n",
    "\n",
    "if (len(dataloaders['test'].dataset) + len(dataloaders['valid'].dataset) + len(dataloaders['train'].dataset)) % 165 != 0: print(\"Error data!!\")\n",
    "else: print(\"OK!\")\n"
   ]
  },
  {
   "cell_type": "markdown",
   "metadata": {},
   "source": [
    "- Turn the print message to a log file"
   ]
  },
  {
   "cell_type": "code",
   "execution_count": 7,
   "metadata": {},
   "outputs": [
    {
     "name": "stdout",
     "output_type": "stream",
     "text": [
      "(Graph(num_nodes=26, num_edges=67,\n",
      "      ndata_schemes={'feat': Scheme(shape=(100,), dtype=torch.float32)}\n",
      "      edata_schemes={'feat': Scheme(shape=(26,), dtype=torch.float32)}), tensor(7, device='cuda:2'))\n",
      "16500\n",
      "16500\n",
      "132000\n",
      "165000\n"
     ]
    }
   ],
   "source": [
    "# print(dataloaders['test'][5])\n",
    "sample = dataset_data['train'][5000]\n",
    "print(sample)\n",
    "\n",
    "print(len(dataloaders['test'].dataset))\n",
    "print(len(dataloaders['valid'].dataset))\n",
    "print(len(dataloaders['train'].dataset))\n",
    "print(len(dataloaders['test'].dataset) + len(dataloaders['valid'].dataset) + len(dataloaders['train'].dataset))"
   ]
  },
  {
   "cell_type": "code",
   "execution_count": 8,
   "metadata": {},
   "outputs": [
    {
     "name": "stdout",
     "output_type": "stream",
     "text": [
      "../log_message/0904_13:44_GAT_secureBERT_100.log\n"
     ]
    }
   ],
   "source": [
    "import datetime\n",
    "\n",
    "now = datetime.datetime.now()\n",
    "\n",
    "formatted_time = now.strftime(\"%m%d_%H:%M\")\n",
    "\n",
    "log_file_path = f\"../log_message/{formatted_time}_GAT_secureBERT_100.log\"\n",
    "\n",
    "def add_log_msg(msg, log_file_path=log_file_path):\n",
    "    with open(log_file_path, 'a') as f:\n",
    "        f.write(f'{datetime.datetime.now().strftime(\"%m/%d/%Y, %H:%M:%S\")}# {msg}\\n')\n",
    "    print(f'{datetime.datetime.now().strftime(\"%m/%d/%Y, %H:%M:%S\")}# {msg}')\n",
    "\n",
    "print(log_file_path)"
   ]
  },
  {
   "cell_type": "markdown",
   "metadata": {},
   "source": [
    "### Model"
   ]
  },
  {
   "cell_type": "code",
   "execution_count": 9,
   "metadata": {},
   "outputs": [],
   "source": [
    "class GAT(nn.Module):\n",
    "    def __init__(self, in_dim, hidden_dim, out_dim, num_heads, dropout_prob=0.25):\n",
    "        super(GAT, self).__init__()\n",
    "        \n",
    "        # do not check the zero in_degree since we have all the complete graph\n",
    "        self.layer1 = GATConv(in_dim, hidden_dim, num_heads=num_heads, activation=F.relu, allow_zero_in_degree=True)\n",
    "        self.layer2 = GATConv(hidden_dim * num_heads, out_dim, num_heads=num_heads, allow_zero_in_degree=True)\n",
    "        \n",
    "        # Adding Batch Normalization after each GAT layer\n",
    "        self.batchnorm1 = nn.BatchNorm1d(hidden_dim * num_heads)\n",
    "        self.batchnorm2 = nn.BatchNorm1d(out_dim)\n",
    "        \n",
    "        # Adding Dropout for regularization\n",
    "        self.dropout = nn.Dropout(dropout_prob)\n",
    "\n",
    "    def forward(self, g, h):\n",
    "        # Apply GAT layers\n",
    "        h = self.layer1(g, h)\n",
    "        h = h.view(h.shape[0], -1)\n",
    "        h = F.relu(h)\n",
    "        h = self.dropout(h)\n",
    "        h = self.layer2(g, h).squeeze(1)\n",
    "        \n",
    "        # Store the output as a new node feature\n",
    "        g.ndata['h_out'] = h\n",
    "\n",
    "        # Use mean pooling to aggregate this new node feature\n",
    "        h_agg = dgl.mean_nodes(g, feat='h_out')\n",
    "        return h_agg\n",
    "\n",
    "    "
   ]
  },
  {
   "cell_type": "markdown",
   "metadata": {},
   "source": [
    "- Model Forward  "
   ]
  },
  {
   "cell_type": "code",
   "execution_count": 10,
   "metadata": {},
   "outputs": [],
   "source": [
    "def model_fn(data, model, criterion, device, count=1, which_type='train'):\n",
    "    \"\"\"Forward a batch through the model.\"\"\"\n",
    "    batched_g, labels = data\n",
    "    batched_g = batched_g.to(device)\n",
    "    \n",
    "    labels = labels.to(device)\n",
    "    logits = model(batched_g, batched_g.ndata['feat'].float()) # for GAT\n",
    "    logits = logits.mean(dim=1)\n",
    "    \n",
    "    loss = criterion(logits, labels)\n",
    "\n",
    "    # Get the class id with the highest probability\n",
    "    preds = logits.argmax(1)\n",
    "    \n",
    "    # Compute accuracy\n",
    "    accuracy = torch.mean((preds == labels).float())\n",
    "    \n",
    "    if which_type == 'validation' and count % 1000 == 0:\n",
    "        add_log_msg(f\"labels of Validation: {labels} {labels.shape}\")\n",
    "        add_log_msg(f\"predicted of Validation: {preds} {preds.shape}\")\n",
    "        \n",
    "    elif which_type == 'test'  and count % 1000 == 0:\n",
    "        add_log_msg(f\"labels of Test: {labels} {labels.shape}\")\n",
    "        add_log_msg(f\"predicted of Test: {preds} {preds.shape}\")\n",
    "        \n",
    "    if count % 5000 == 0: \n",
    "        add_log_msg(f\"labels of {count}: {labels} {labels.shape}\")\n",
    "        add_log_msg(f\"predicted of {count}: {preds} {preds.shape}\")\n",
    "        \n",
    "    return loss, accuracy, preds"
   ]
  },
  {
   "cell_type": "markdown",
   "metadata": {},
   "source": [
    "### Training"
   ]
  },
  {
   "cell_type": "markdown",
   "metadata": {},
   "source": [
    "- Fix the seed and save the model.state_dict that contains the initial weight"
   ]
  },
  {
   "cell_type": "code",
   "execution_count": 11,
   "metadata": {},
   "outputs": [],
   "source": [
    "seed = 8787\n",
    "same_seeds(seed)\n",
    "\n",
    "model = GAT(in_dim=100, hidden_dim=16, out_dim=168, num_heads=8)\n",
    "torch.save(model.state_dict(), 'model1_initial/initial_weight.pth')"
   ]
  },
  {
   "cell_type": "code",
   "execution_count": 12,
   "metadata": {},
   "outputs": [
    {
     "data": {
      "text/plain": [
       "Parameter containing:\n",
       "tensor([[-0.0372,  0.0397,  0.0935,  ..., -0.2031, -0.0468, -0.0559],\n",
       "        [-0.2012, -0.0840,  0.1344,  ...,  0.1873, -0.0882,  0.1701],\n",
       "        [ 0.0989,  0.1005, -0.2093,  ..., -0.2812, -0.2957, -0.0144],\n",
       "        ...,\n",
       "        [-0.1528,  0.2374,  0.1282,  ..., -0.0509,  0.0520, -0.0736],\n",
       "        [-0.0805, -0.1986, -0.1437,  ...,  0.1331,  0.0198,  0.0471],\n",
       "        [ 0.0363,  0.0976, -0.1171,  ...,  0.0343, -0.0835,  0.2840]],\n",
       "       requires_grad=True)"
      ]
     },
     "execution_count": 12,
     "metadata": {},
     "output_type": "execute_result"
    }
   ],
   "source": [
    "model.layer1.fc.weight"
   ]
  },
  {
   "cell_type": "markdown",
   "metadata": {},
   "source": [
    "- Check if model really load the model_dict"
   ]
  },
  {
   "cell_type": "code",
   "execution_count": 13,
   "metadata": {},
   "outputs": [
    {
     "data": {
      "text/plain": [
       "Parameter containing:\n",
       "tensor([[-0.0372,  0.0397,  0.0935,  ..., -0.2031, -0.0468, -0.0559],\n",
       "        [-0.2012, -0.0840,  0.1344,  ...,  0.1873, -0.0882,  0.1701],\n",
       "        [ 0.0989,  0.1005, -0.2093,  ..., -0.2812, -0.2957, -0.0144],\n",
       "        ...,\n",
       "        [-0.1528,  0.2374,  0.1282,  ..., -0.0509,  0.0520, -0.0736],\n",
       "        [-0.0805, -0.1986, -0.1437,  ...,  0.1331,  0.0198,  0.0471],\n",
       "        [ 0.0363,  0.0976, -0.1171,  ...,  0.0343, -0.0835,  0.2840]],\n",
       "       requires_grad=True)"
      ]
     },
     "execution_count": 13,
     "metadata": {},
     "output_type": "execute_result"
    }
   ],
   "source": [
    "model = GAT(in_dim=100, hidden_dim=16, out_dim=168, num_heads=8)\n",
    "model.load_state_dict(torch.load('model1_initial/initial_weight.pth'))\n",
    "model.layer1.fc.weight"
   ]
  },
  {
   "cell_type": "markdown",
   "metadata": {},
   "source": [
    "### test of valid and test part is ``graph``"
   ]
  },
  {
   "cell_type": "markdown",
   "metadata": {},
   "source": [
    "- Batch size = 4\n",
    "- use large lr and scheduler"
   ]
  },
  {
   "cell_type": "code",
   "execution_count": null,
   "metadata": {
    "scrolled": true
   },
   "outputs": [
    {
     "data": {
      "application/vnd.jupyter.widget-view+json": {
       "model_id": "d6c01375cf93433390819dca081a38b7",
       "version_major": 2,
       "version_minor": 0
      },
      "text/plain": [
       "  0%|          | 0/25 [00:00<?, ?it/s]"
      ]
     },
     "metadata": {},
     "output_type": "display_data"
    },
    {
     "data": {
      "application/vnd.jupyter.widget-view+json": {
       "model_id": "96306167b0934c078828e2bdffd53568",
       "version_major": 2,
       "version_minor": 0
      },
      "text/plain": [
       "Training:   0%|          | 0/8250 [00:00<?, ?it/s]"
      ]
     },
     "metadata": {},
     "output_type": "display_data"
    },
    {
     "name": "stdout",
     "output_type": "stream",
     "text": [
      "09/04/2023, 13:47:16# labels of 5000: tensor([ 60,  47,  68,  29,  48,  29,  16,  59, 138,  18,  85,  90,  87,  63,\n",
      "        135, 149], device='cuda:2') torch.Size([16])\n",
      "09/04/2023, 13:47:16# predicted of 5000: tensor([132, 132, 132, 149, 132,  29, 138, 132,  16, 132,  85, 132, 132, 132,\n",
      "        132, 149], device='cuda:2') torch.Size([16])\n",
      "09/04/2023, 13:49:03# total batches: 8250\n",
      "09/04/2023, 13:49:03# Epoch 0 | Train Loss: 4.3606 | Train Accuracy: 0.0403\n"
     ]
    },
    {
     "data": {
      "application/vnd.jupyter.widget-view+json": {
       "model_id": "eeafdaca36fb4ea68317455dc050ed1c",
       "version_major": 2,
       "version_minor": 0
      },
      "text/plain": [
       "Validation:   0%|          | 0/1032 [00:00<?, ?it/s]"
      ]
     },
     "metadata": {},
     "output_type": "display_data"
    },
    {
     "name": "stdout",
     "output_type": "stream",
     "text": [
      "09/04/2023, 13:49:03# labels of Validation: tensor([ 25,  46,  95,  62,  86,  20,  42, 120,  12,  14,  27,  30, 139,  78,\n",
      "        108,  55], device='cuda:2') torch.Size([16])\n",
      "09/04/2023, 13:49:03# predicted of Validation: tensor([136,   6,  15, 105,   6,   6,   6, 130,   6,   6, 105,   6,   6, 105,\n",
      "        132,   6], device='cuda:2') torch.Size([16])\n",
      "09/04/2023, 13:49:03# labels of 0: tensor([ 25,  46,  95,  62,  86,  20,  42, 120,  12,  14,  27,  30, 139,  78,\n",
      "        108,  55], device='cuda:2') torch.Size([16])\n",
      "09/04/2023, 13:49:03# predicted of 0: tensor([136,   6,  15, 105,   6,   6,   6, 130,   6,   6, 105,   6,   6, 105,\n",
      "        132,   6], device='cuda:2') torch.Size([16])\n",
      "09/04/2023, 13:49:27# labels of Validation: tensor([125,   9,  91, 129,   1,  67, 117, 101,  32, 118, 146,  92,  20,  90,\n",
      "         97,  76], device='cuda:2') torch.Size([16])\n",
      "09/04/2023, 13:49:27# predicted of Validation: tensor([  6,   6,   6,   6,   6, 146, 130,   6,  15, 149, 136,   6,   6,   6,\n",
      "          6,   6], device='cuda:2') torch.Size([16])\n",
      "09/04/2023, 13:49:28# Validation Loss: 4.0988 | Validation Accuracy: 0.0684\n",
      "\n",
      "09/04/2023, 13:49:28# Find a better model!!\n"
     ]
    },
    {
     "data": {
      "application/vnd.jupyter.widget-view+json": {
       "model_id": "af61ee530d7a4c1082ec891bf973db38",
       "version_major": 2,
       "version_minor": 0
      },
      "text/plain": [
       "Training:   0%|          | 0/8250 [00:00<?, ?it/s]"
      ]
     },
     "metadata": {},
     "output_type": "display_data"
    },
    {
     "name": "stdout",
     "output_type": "stream",
     "text": [
      "09/04/2023, 13:52:15# labels of 5000: tensor([137,  93, 130, 128, 152,  62, 154,  67,  43, 135,  16,  97,  41, 126,\n",
      "         11,  83], device='cuda:2') torch.Size([16])\n",
      "09/04/2023, 13:52:15# predicted of 5000: tensor([ 28,  28,  67, 120, 101,  40, 106,  23,  28,  28,  16,  28,  28, 115,\n",
      "         98,  28], device='cuda:2') torch.Size([16])\n",
      "09/04/2023, 13:54:00# total batches: 8250\n",
      "09/04/2023, 13:54:00# Epoch 1 | Train Loss: 4.0402 | Train Accuracy: 0.0773\n"
     ]
    },
    {
     "data": {
      "application/vnd.jupyter.widget-view+json": {
       "model_id": "0d0d1dba44634ecba4601d2f7da6cba2",
       "version_major": 2,
       "version_minor": 0
      },
      "text/plain": [
       "Validation:   0%|          | 0/1032 [00:00<?, ?it/s]"
      ]
     },
     "metadata": {},
     "output_type": "display_data"
    },
    {
     "name": "stdout",
     "output_type": "stream",
     "text": [
      "09/04/2023, 13:54:01# labels of Validation: tensor([ 63, 137,  47,   3,  49,  67,  32,  18, 129, 133, 139,  68, 105,  32,\n",
      "         35,  75], device='cuda:2') torch.Size([16])\n",
      "09/04/2023, 13:54:01# predicted of Validation: tensor([ 68,  68,  68,  25,  68, 120, 128,  68, 132, 132,  68, 132, 128, 120,\n",
      "         32,  68], device='cuda:2') torch.Size([16])\n",
      "09/04/2023, 13:54:01# labels of 0: tensor([ 63, 137,  47,   3,  49,  67,  32,  18, 129, 133, 139,  68, 105,  32,\n",
      "         35,  75], device='cuda:2') torch.Size([16])\n",
      "09/04/2023, 13:54:01# predicted of 0: tensor([ 68,  68,  68,  25,  68, 120, 128,  68, 132, 132,  68, 132, 128, 120,\n",
      "         32,  68], device='cuda:2') torch.Size([16])\n",
      "09/04/2023, 13:54:23# labels of Validation: tensor([ 59,  76,  57,  21, 151, 122, 150,  85, 117,  79, 142,  17,  70,  29,\n",
      "         48, 115], device='cuda:2') torch.Size([16])\n",
      "09/04/2023, 13:54:23# predicted of Validation: tensor([132,  68,  68, 132,  68,  29,  68,  70, 128,  61,  68,  25,  70,  29,\n",
      "         68, 128], device='cuda:2') torch.Size([16])\n",
      "09/04/2023, 13:54:23# Validation Loss: 3.9425 | Validation Accuracy: 0.0913\n",
      "\n",
      "09/04/2023, 13:54:23# Find a better model!!\n"
     ]
    },
    {
     "data": {
      "application/vnd.jupyter.widget-view+json": {
       "model_id": "8d05f5929cce425db9f82e2a6578323b",
       "version_major": 2,
       "version_minor": 0
      },
      "text/plain": [
       "Training:   0%|          | 0/8250 [00:00<?, ?it/s]"
      ]
     },
     "metadata": {},
     "output_type": "display_data"
    },
    {
     "name": "stdout",
     "output_type": "stream",
     "text": [
      "09/04/2023, 13:57:19# labels of 5000: tensor([ 75,  64,  46,  90,  77, 142, 126,  20,  45,  62,  36,  40,  32, 155,\n",
      "         81, 125], device='cuda:2') torch.Size([16])\n",
      "09/04/2023, 13:57:19# predicted of 5000: tensor([ 77, 161,  66,  68, 132,  66, 159, 161, 105,  40, 161, 128,  35, 161,\n",
      "        161,  76], device='cuda:2') torch.Size([16])\n",
      "09/04/2023, 13:59:06# total batches: 8250\n",
      "09/04/2023, 13:59:06# Epoch 2 | Train Loss: 3.9422 | Train Accuracy: 0.0924\n"
     ]
    },
    {
     "data": {
      "application/vnd.jupyter.widget-view+json": {
       "model_id": "9f838fbb0a5e4834ab4bb3f146fa02c8",
       "version_major": 2,
       "version_minor": 0
      },
      "text/plain": [
       "Validation:   0%|          | 0/1032 [00:00<?, ?it/s]"
      ]
     },
     "metadata": {},
     "output_type": "display_data"
    },
    {
     "name": "stdout",
     "output_type": "stream",
     "text": [
      "09/04/2023, 13:59:06# labels of Validation: tensor([103,  25,  99,  91, 159, 156,  16,  48, 158, 144,   9,   8,  90,  81,\n",
      "        143, 166], device='cuda:2') torch.Size([16])\n",
      "09/04/2023, 13:59:06# predicted of Validation: tensor([132,  80,  99, 132, 115,  32,  85,  64,  64,  64,  64, 132, 132,  64,\n",
      "         64, 132], device='cuda:2') torch.Size([16])\n",
      "09/04/2023, 13:59:06# labels of 0: tensor([103,  25,  99,  91, 159, 156,  16,  48, 158, 144,   9,   8,  90,  81,\n",
      "        143, 166], device='cuda:2') torch.Size([16])\n",
      "09/04/2023, 13:59:06# predicted of 0: tensor([132,  80,  99, 132, 115,  32,  85,  64,  64,  64,  64, 132, 132,  64,\n",
      "         64, 132], device='cuda:2') torch.Size([16])\n",
      "09/04/2023, 13:59:29# labels of Validation: tensor([155, 100,  17, 142,  76,  95, 103, 135,  21,  72,  84,  29, 158, 100,\n",
      "         85, 121], device='cuda:2') torch.Size([16])\n",
      "09/04/2023, 13:59:29# predicted of Validation: tensor([132, 132,  80,  64,  64,   0, 132,  64, 132, 115, 146, 122,  64, 132,\n",
      "         85,  64], device='cuda:2') torch.Size([16])\n",
      "09/04/2023, 13:59:30# Validation Loss: 3.8939 | Validation Accuracy: 0.0872\n",
      "\n",
      "09/04/2023, 13:59:30# Find a better model!!\n"
     ]
    },
    {
     "data": {
      "application/vnd.jupyter.widget-view+json": {
       "model_id": "a139110b46204ae7a9a247c2e69c72c7",
       "version_major": 2,
       "version_minor": 0
      },
      "text/plain": [
       "Training:   0%|          | 0/8250 [00:00<?, ?it/s]"
      ]
     },
     "metadata": {},
     "output_type": "display_data"
    },
    {
     "name": "stdout",
     "output_type": "stream",
     "text": [
      "09/04/2023, 14:02:16# labels of 5000: tensor([111,  36,  45, 125,  89, 164, 149,  86, 135, 137,  29, 106,   9, 122,\n",
      "        164, 105], device='cuda:2') torch.Size([16])\n",
      "09/04/2023, 14:02:16# predicted of 5000: tensor([ 41,  41, 128,  41,  79,  41, 118, 132,  41,  41, 126, 106,  41, 115,\n",
      "         58, 147], device='cuda:2') torch.Size([16])\n",
      "09/04/2023, 14:04:04# total batches: 8250\n",
      "09/04/2023, 14:04:04# Epoch 3 | Train Loss: 3.8884 | Train Accuracy: 0.1011\n"
     ]
    },
    {
     "data": {
      "application/vnd.jupyter.widget-view+json": {
       "model_id": "380fc09663b1467a96760b229013f69e",
       "version_major": 2,
       "version_minor": 0
      },
      "text/plain": [
       "Validation:   0%|          | 0/1032 [00:00<?, ?it/s]"
      ]
     },
     "metadata": {},
     "output_type": "display_data"
    },
    {
     "name": "stdout",
     "output_type": "stream",
     "text": [
      "09/04/2023, 14:04:04# labels of Validation: tensor([ 20, 119, 119, 123,  90, 139,  82, 145,  49,  27,  49,  95,  23,  45,\n",
      "        144,  75], device='cuda:2') torch.Size([16])\n",
      "09/04/2023, 14:04:04# predicted of Validation: tensor([ 48,  48,  48, 123, 132,  48, 154, 140,  48,  45,  48,  45, 136,  73,\n",
      "         48,  48], device='cuda:2') torch.Size([16])\n",
      "09/04/2023, 14:04:04# labels of 0: tensor([ 20, 119, 119, 123,  90, 139,  82, 145,  49,  27,  49,  95,  23,  45,\n",
      "        144,  75], device='cuda:2') torch.Size([16])\n",
      "09/04/2023, 14:04:04# predicted of 0: tensor([ 48,  48,  48, 123, 132,  48, 154, 140,  48,  45,  48,  45, 136,  73,\n",
      "         48,  48], device='cuda:2') torch.Size([16])\n",
      "09/04/2023, 14:04:27# labels of Validation: tensor([ 61,  50, 103, 115,  91, 129, 131, 161, 147,  88,  78, 133,  82, 156,\n",
      "         20,  66], device='cuda:2') torch.Size([16])\n",
      "09/04/2023, 14:04:27# predicted of Validation: tensor([ 45,  45, 132, 127, 132, 132, 132, 132, 146, 132, 127, 132,  82, 154,\n",
      "         48, 132], device='cuda:2') torch.Size([16])\n",
      "09/04/2023, 14:04:28# Validation Loss: 3.8246 | Validation Accuracy: 0.1096\n",
      "\n",
      "09/04/2023, 14:04:28# Find a better model!!\n"
     ]
    },
    {
     "data": {
      "application/vnd.jupyter.widget-view+json": {
       "model_id": "7f23e4f0a7dc4f23ac99409e891992f7",
       "version_major": 2,
       "version_minor": 0
      },
      "text/plain": [
       "Training:   0%|          | 0/8250 [00:00<?, ?it/s]"
      ]
     },
     "metadata": {},
     "output_type": "display_data"
    },
    {
     "name": "stdout",
     "output_type": "stream",
     "text": [
      "09/04/2023, 14:07:15# labels of 5000: tensor([164,  39, 152,  79, 105,  32, 108, 157,  30, 112,  63,  17,  14,  21,\n",
      "        126,  95], device='cuda:2') torch.Size([16])\n",
      "09/04/2023, 14:07:15# predicted of 5000: tensor([ 33,  39, 110,  78, 105, 115, 142, 162, 108, 108, 110,  80, 108,   6,\n",
      "        146, 117], device='cuda:2') torch.Size([16])\n",
      "09/04/2023, 14:09:00# total batches: 8250\n",
      "09/04/2023, 14:09:00# Epoch 4 | Train Loss: 3.8530 | Train Accuracy: 0.1066\n"
     ]
    },
    {
     "data": {
      "application/vnd.jupyter.widget-view+json": {
       "model_id": "66565ba9ca8044f29976db4b38c86958",
       "version_major": 2,
       "version_minor": 0
      },
      "text/plain": [
       "Validation:   0%|          | 0/1032 [00:00<?, ?it/s]"
      ]
     },
     "metadata": {},
     "output_type": "display_data"
    },
    {
     "name": "stdout",
     "output_type": "stream",
     "text": [
      "09/04/2023, 14:09:00# labels of Validation: tensor([ 20,  97, 136, 121, 155, 125, 116,  55,  88, 159,  50,  21,  57,  82,\n",
      "          0, 159], device='cuda:2') torch.Size([16])\n",
      "09/04/2023, 14:09:00# predicted of Validation: tensor([100, 100,  96, 100, 132, 100, 100, 100, 100, 159,  62, 132, 100,  82,\n",
      "         62, 159], device='cuda:2') torch.Size([16])\n",
      "09/04/2023, 14:09:00# labels of 0: tensor([ 20,  97, 136, 121, 155, 125, 116,  55,  88, 159,  50,  21,  57,  82,\n",
      "          0, 159], device='cuda:2') torch.Size([16])\n",
      "09/04/2023, 14:09:00# predicted of 0: tensor([100, 100,  96, 100, 132, 100, 100, 100, 100, 159,  62, 132, 100,  82,\n",
      "         62, 159], device='cuda:2') torch.Size([16])\n",
      "09/04/2023, 14:09:22# labels of Validation: tensor([ 31,  92,  53,  28,  59, 135,  47, 119, 106,  45,  82, 162, 159,  58,\n",
      "         88, 107], device='cuda:2') torch.Size([16])\n",
      "09/04/2023, 14:09:22# predicted of Validation: tensor([100, 100, 100, 132, 132, 100, 100, 100, 106,  27,  82, 100, 159, 100,\n",
      "        100, 100], device='cuda:2') torch.Size([16])\n",
      "09/04/2023, 14:09:23# Validation Loss: 3.7945 | Validation Accuracy: 0.1167\n",
      "\n",
      "09/04/2023, 14:09:23# Find a better model!!\n"
     ]
    },
    {
     "data": {
      "application/vnd.jupyter.widget-view+json": {
       "model_id": "9beebcbfe585481e96ab2e283b57f034",
       "version_major": 2,
       "version_minor": 0
      },
      "text/plain": [
       "Training:   0%|          | 0/8250 [00:00<?, ?it/s]"
      ]
     },
     "metadata": {},
     "output_type": "display_data"
    },
    {
     "name": "stdout",
     "output_type": "stream",
     "text": [
      "09/04/2023, 14:12:12# labels of 5000: tensor([155,  69,  29, 117,  40, 112,   9,  72,  92, 122, 142, 102, 114,  77,\n",
      "         13, 158], device='cuda:2') torch.Size([16])\n",
      "09/04/2023, 14:12:12# predicted of 5000: tensor([161, 134,  29, 147,   0,  44,  44, 147,  44,  29,  59,  63, 161, 161,\n",
      "          0,  59], device='cuda:2') torch.Size([16])\n",
      "09/04/2023, 14:14:03# total batches: 8250\n",
      "09/04/2023, 14:14:03# Epoch 5 | Train Loss: 3.8287 | Train Accuracy: 0.1104\n"
     ]
    },
    {
     "data": {
      "application/vnd.jupyter.widget-view+json": {
       "model_id": "33eb398221084e7da1243b59444f07ce",
       "version_major": 2,
       "version_minor": 0
      },
      "text/plain": [
       "Validation:   0%|          | 0/1032 [00:00<?, ?it/s]"
      ]
     },
     "metadata": {},
     "output_type": "display_data"
    },
    {
     "name": "stdout",
     "output_type": "stream",
     "text": [
      "09/04/2023, 14:14:03# labels of Validation: tensor([152,  71, 110, 129,  51,  20, 155,  14,  19, 160,  77,  35,  98,  13,\n",
      "        119, 130], device='cuda:2') torch.Size([16])\n",
      "09/04/2023, 14:14:03# predicted of Validation: tensor([158, 158, 161, 161, 161, 158, 161, 158, 158, 161, 161, 120, 158,  56,\n",
      "        158,  61], device='cuda:2') torch.Size([16])\n",
      "09/04/2023, 14:14:03# labels of 0: tensor([152,  71, 110, 129,  51,  20, 155,  14,  19, 160,  77,  35,  98,  13,\n",
      "        119, 130], device='cuda:2') torch.Size([16])\n",
      "09/04/2023, 14:14:03# predicted of 0: tensor([158, 158, 161, 161, 161, 158, 161, 158, 158, 161, 161, 120, 158,  56,\n",
      "        158,  61], device='cuda:2') torch.Size([16])\n",
      "09/04/2023, 14:14:24# labels of Validation: tensor([105,  61, 152,  31,  50,   7, 100, 124,  32, 123,  70, 118,  87,  99,\n",
      "        155,  40], device='cuda:2') torch.Size([16])\n",
      "09/04/2023, 14:14:24# predicted of Validation: tensor([120,  95, 158, 158, 120,   7, 161, 158,  67, 123,  16, 149, 158,  99,\n",
      "        161, 120], device='cuda:2') torch.Size([16])\n",
      "09/04/2023, 14:14:25# Validation Loss: 3.7670 | Validation Accuracy: 0.1161\n",
      "\n",
      "09/04/2023, 14:14:25# Find a better model!!\n"
     ]
    },
    {
     "data": {
      "application/vnd.jupyter.widget-view+json": {
       "model_id": "9a50bd0ad82f4ec4ad8836651e320cd4",
       "version_major": 2,
       "version_minor": 0
      },
      "text/plain": [
       "Training:   0%|          | 0/8250 [00:00<?, ?it/s]"
      ]
     },
     "metadata": {},
     "output_type": "display_data"
    },
    {
     "name": "stdout",
     "output_type": "stream",
     "text": [
      "09/04/2023, 14:17:17# labels of 5000: tensor([115, 128,  46,  57,  15,  11,  90, 110, 148, 161,  19,  67, 100,  18,\n",
      "        145,  93], device='cuda:2') torch.Size([16])\n",
      "09/04/2023, 14:17:17# predicted of 5000: tensor([159,   0,  88,  14,  94,  28,  28, 161,  28, 161,  28, 120, 161, 142,\n",
      "        145, 100], device='cuda:2') torch.Size([16])\n",
      "09/04/2023, 14:19:05# total batches: 8250\n",
      "09/04/2023, 14:19:05# Epoch 6 | Train Loss: 3.8070 | Train Accuracy: 0.1151\n"
     ]
    },
    {
     "data": {
      "application/vnd.jupyter.widget-view+json": {
       "model_id": "e50078f550694665a55a1d438dad55de",
       "version_major": 2,
       "version_minor": 0
      },
      "text/plain": [
       "Validation:   0%|          | 0/1032 [00:00<?, ?it/s]"
      ]
     },
     "metadata": {},
     "output_type": "display_data"
    },
    {
     "name": "stdout",
     "output_type": "stream",
     "text": [
      "09/04/2023, 14:19:05# labels of Validation: tensor([128,  58,  96,  55,  97,  74,  12,   9,  53,  14,  66, 121,  53,  43,\n",
      "        132,  25], device='cuda:2') torch.Size([16])\n",
      "09/04/2023, 14:19:05# predicted of Validation: tensor([128, 150, 136, 150, 150, 150, 150, 150, 150, 150, 132, 150, 150, 150,\n",
      "        132, 136], device='cuda:2') torch.Size([16])\n",
      "09/04/2023, 14:19:05# labels of 0: tensor([128,  58,  96,  55,  97,  74,  12,   9,  53,  14,  66, 121,  53,  43,\n",
      "        132,  25], device='cuda:2') torch.Size([16])\n",
      "09/04/2023, 14:19:05# predicted of 0: tensor([128, 150, 136, 150, 150, 150, 150, 150, 150, 150, 132, 150, 150, 150,\n",
      "        132, 136], device='cuda:2') torch.Size([16])\n",
      "09/04/2023, 14:19:27# labels of Validation: tensor([118, 123,  96,  78, 105,  60,  25, 144, 160, 116,  49,  31, 150, 148,\n",
      "        108,  54], device='cuda:2') torch.Size([16])\n",
      "09/04/2023, 14:19:27# predicted of Validation: tensor([149, 123,  80, 130, 105, 150,  17, 150, 103, 150, 150, 150, 150, 103,\n",
      "        132, 150], device='cuda:2') torch.Size([16])\n",
      "09/04/2023, 14:19:27# Validation Loss: 3.7593 | Validation Accuracy: 0.1258\n",
      "\n",
      "09/04/2023, 14:19:27# Find a better model!!\n"
     ]
    },
    {
     "data": {
      "application/vnd.jupyter.widget-view+json": {
       "model_id": "5057324471f64584bc0a363c4c2824b3",
       "version_major": 2,
       "version_minor": 0
      },
      "text/plain": [
       "Training:   0%|          | 0/8250 [00:00<?, ?it/s]"
      ]
     },
     "metadata": {},
     "output_type": "display_data"
    }
   ],
   "source": [
    "import csv\n",
    "import pandas as pd\n",
    "from sklearn.metrics import classification_report\n",
    "from torch.optim import AdamW, lr_scheduler\n",
    "\n",
    "seed = 8787\n",
    "same_seeds(seed)\n",
    "\n",
    "model = GAT(in_dim=100, hidden_dim=16, out_dim=168, num_heads=8)\n",
    "# in_dim means the dimension of the node_feat(50 dim, since the 50-dim embedding)\n",
    "# out_dim means the # of the categories -> 168 for out tasks\n",
    "model.load_state_dict(torch.load('model1_initial/initial_weight.pth'))\n",
    "best_model_path = \"../checkpoint_GAT/best_model_GAT_secureBERT_100.pt\"\n",
    "\n",
    "model = model.to(device)\n",
    "\n",
    "# optimizer = torch.optim.AdamW(model.parameters(), lr=1e-5)\n",
    "optimizer = AdamW(model.parameters(), lr=5e-4)\n",
    "# scheduler = get_linear_schedule_with_warmup(optimizer, num_warmup_steps=18, num_training_steps=total_steps)\n",
    "\n",
    "# T_max control the period of the lr changing -> set 1/10 first\n",
    "scheduler = lr_scheduler.CosineAnnealingLR(optimizer, T_max=36, eta_min=0, last_epoch=- 1, verbose=False)\n",
    "\n",
    "\n",
    "criterion = nn.CrossEntropyLoss()\n",
    "total_steps = 25\n",
    "\n",
    "# save the best model\n",
    "best_val_loss = float('inf')\n",
    "patience = 5  # Number of epochs with no improvement after which training will be stopped.\n",
    "waiting = 0  # The number of epochs with no improvement so far.\n",
    "\n",
    "\n",
    "# Training Part\n",
    "for epoch in tqdm(range(total_steps)):\n",
    "    # Train\n",
    "    model.train()\n",
    "    total_loss = 0.0\n",
    "    total_accuracy = 0.0\n",
    "    num_batches = 0\n",
    "    \n",
    "    for data in tqdm(dataloaders['train'], desc=\"Training\", position=0, leave=True):\n",
    "        num_batches += 1\n",
    "        loss, accuracy, _ = model_fn(data, model, criterion, device, num_batches, which_type='train')\n",
    "        \n",
    "        optimizer.zero_grad()\n",
    "        loss.backward()\n",
    "        optimizer.step()\n",
    "\n",
    "        total_loss += loss.item()\n",
    "        total_accuracy += accuracy.item()\n",
    "\n",
    "        \n",
    "#     scheduler.step()\n",
    "    add_log_msg(f\"total batches: {num_batches}\")\n",
    "\n",
    "    avg_loss = total_loss / num_batches\n",
    "    avg_accuracy = total_accuracy / num_batches\n",
    "\n",
    "    add_log_msg(f'Epoch {epoch} | Train Loss: {avg_loss:.4f} | Train Accuracy: {avg_accuracy:.4f}')\n",
    "\n",
    "    \n",
    "    # Validation Part\n",
    "    model.eval()\n",
    "    total_accuracy = 0.0\n",
    "    total_loss = 0.0\n",
    "    num_batches = 0\n",
    "\n",
    "\n",
    "    with torch.no_grad():\n",
    "        for data in tqdm(dataloaders['valid'], desc=\"Validation\", position=0, leave=True):\n",
    "            loss, accuracy, _ = model_fn(data, model, criterion, device, num_batches, which_type='validation')\n",
    "            total_accuracy += accuracy.item()\n",
    "            total_loss += loss.item()\n",
    "            num_batches += 1\n",
    "\n",
    "    avg_accuracy = total_accuracy / num_batches\n",
    "    current_loss = total_loss / num_batches\n",
    "    \n",
    "    add_log_msg(f'Validation Loss: {current_loss:.4f} | Validation Accuracy: {avg_accuracy:.4f}\\n')\n",
    "    \n",
    "            \n",
    "    if current_loss < best_val_loss:\n",
    "        best_val_loss = current_loss\n",
    "        waiting = 0\n",
    "        \n",
    "        if os.path.exists(best_model_path):\n",
    "            os.remove(best_model_path)\n",
    "            add_log_msg(\"Find a better model!!\")\n",
    "\n",
    "        torch.save(model.state_dict(), best_model_path)\n",
    "\n",
    "        \n",
    "#         print(best_model_path)\n",
    "\n",
    "    else:\n",
    "        waiting += 1\n",
    "        if waiting >= patience:\n",
    "            add_log_msg(\"\\n============================== Early stopping ==================================\")\n",
    "            break"
   ]
  },
  {
   "cell_type": "markdown",
   "metadata": {},
   "source": [
    "\n",
    "### Testing Part"
   ]
  },
  {
   "cell_type": "code",
   "execution_count": null,
   "metadata": {},
   "outputs": [],
   "source": [
    "# load the pretrained model\n",
    "pretrained_model_path = '../checkpoint_GAT/best_model_GAT_secureBERT_100.pt'\n",
    "model.load_state_dict(torch.load(pretrained_model_path))\n",
    "\n",
    "model.to(device)\n",
    "model.eval()\n",
    "\n",
    "total = 0\n",
    "correct = 0\n",
    "count = 0\n",
    "\n",
    "true_labels = []\n",
    "predicted_labels = []\n",
    "\n",
    "with torch.no_grad():\n",
    "    for data in tqdm(dataloaders['test'], desc=\"Testing\", position=0, leave=True):\n",
    "\n",
    "        loss, accuracy, predicted = model_fn(data, model, criterion, device, count, which_type='test')\n",
    "        labels = data[1].to(device)\n",
    "        \n",
    "        true_labels.extend(labels.cpu().numpy())\n",
    "        predicted_labels.extend(predicted.cpu().numpy())\n",
    "        \n",
    "        if count % 5000 == 0:\n",
    "            add_log_msg(f\"labels: {labels} {labels.shape}\")\n",
    "            add_log_msg(f\"predicted: {predicted} {predicted.shape}\")\n",
    "            \n",
    "        count += 1\n",
    "        \n",
    "        total += labels.size(0)\n",
    "        correct += (predicted == labels).sum().item()\n",
    "\n",
    "add_log_msg(f'Test Accuracy: {100 * correct / total} %\\n\\n\\n')\n",
    "\n",
    "\n",
    "# ======================================== handlig the output excel files ========================================\n",
    "mapping_file = './new_mapping.txt'\n",
    "label_mapping = {}\n",
    "with open(mapping_file, 'r') as f:\n",
    "    for line in f:\n",
    "        parts = line.strip().split(': ')\n",
    "        label_mapping[int(parts[1])] = parts[0]\n",
    "        \n",
    "# 将映射后的标签应用到true和predicted标签列表\n",
    "mapped_true_labels = [label_mapping[label] for label in true_labels]\n",
    "mapped_predicted_labels = [label_mapping[label] for label in predicted_labels]\n",
    "\n",
    "# 生成Scikit-learn报告信息的DataFrame\n",
    "report_data = classification_report(mapped_true_labels, mapped_predicted_labels, output_dict=True)\n",
    "report_df = pd.DataFrame(report_data).transpose()\n",
    "\n",
    "report_folder = 'classification_report'\n",
    "os.makedirs(report_folder, exist_ok=True)\n",
    "\n",
    "count = 0\n",
    "while True:\n",
    "    report_filename = f'classification_report-secureBERT_100-{count}.xlsx'\n",
    "    labels_filename = f'mapped_true_predicted_labels-secureBERT_100-{count}.xlsx'\n",
    "    \n",
    "    report_path = os.path.join(report_folder, report_filename)\n",
    "    labels_path = os.path.join(report_folder, labels_filename)\n",
    "    \n",
    "    if not os.path.exists(report_path) and not os.path.exists(labels_path):\n",
    "        break\n",
    "    count += 1\n",
    "\n",
    "    \n",
    "report_df.to_excel(report_path, index_label='Label')\n",
    "\n",
    "mapped_labels_df = pd.DataFrame({'true_label': mapped_true_labels, 'predicted_label': mapped_predicted_labels})\n",
    "mapped_labels_df.to_excel(labels_path, index=False)\n",
    "\n",
    "add_log_msg(f\"report path: {report_path}\")\n",
    "add_log_msg(f\"label path: {labels_path}\")\n",
    "\n",
    "mapped_report = classification_report(mapped_true_labels, mapped_predicted_labels)\n",
    "add_log_msg(f\"mapped_report:\\n{mapped_report}\")"
   ]
  },
  {
   "cell_type": "code",
   "execution_count": null,
   "metadata": {},
   "outputs": [],
   "source": []
  },
  {
   "cell_type": "code",
   "execution_count": null,
   "metadata": {},
   "outputs": [],
   "source": []
  }
 ],
 "metadata": {
  "kernelspec": {
   "display_name": "Python 3",
   "language": "python",
   "name": "python3"
  },
  "language_info": {
   "codemirror_mode": {
    "name": "ipython",
    "version": 3
   },
   "file_extension": ".py",
   "mimetype": "text/x-python",
   "name": "python",
   "nbconvert_exporter": "python",
   "pygments_lexer": "ipython3",
   "version": "3.6.9"
  }
 },
 "nbformat": 4,
 "nbformat_minor": 2
}
