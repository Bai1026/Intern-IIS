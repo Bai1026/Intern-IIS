{
 "cells": [
  {
   "cell_type": "markdown",
   "metadata": {},
   "source": [
    "# Test of GAT\n",
    "- use DGL\n",
    "- predict `graphs`\n",
    "- test: 0~99\n",
    "- validation: 100~199\n",
    "- train: 200~999\n",
    "- larger lr with scheduler\n",
    "- try the sklearn report"
   ]
  },
  {
   "cell_type": "code",
   "execution_count": 1,
   "metadata": {},
   "outputs": [],
   "source": [
    "import os\n",
    "import dgl\n",
    "import json\n",
    "import torch\n",
    "import torch as th\n",
    "# from tqdm import tqdm\n",
    "from tqdm.notebook import tqdm  # 使用 notebook 版本的 tqdm\n",
    "import torch.nn as nn\n",
    "from dgl.nn import GraphConv, GATConv\n",
    "import torch.nn.functional as F\n",
    "from torch.utils.data import Dataset, DataLoader\n",
    "from transformers import get_linear_schedule_with_warmup\n",
    "from torch.optim import AdamW\n",
    "from sklearn.metrics import classification_report\n"
   ]
  },
  {
   "cell_type": "markdown",
   "metadata": {},
   "source": [
    "- check the GPU and assign the GPU by the best memory usage"
   ]
  },
  {
   "cell_type": "code",
   "execution_count": 2,
   "metadata": {},
   "outputs": [
    {
     "name": "stdout",
     "output_type": "stream",
     "text": [
      "cuda:0\n"
     ]
    }
   ],
   "source": [
    "import subprocess\n",
    "import torch\n",
    "\n",
    "def get_free_gpu():\n",
    "    try:\n",
    "        # Run nvidia-smi command to get GPU details\n",
    "        _output_to_list = lambda x: x.decode('ascii').split('\\n')[:-1]\n",
    "        command = \"nvidia-smi --query-gpu=memory.free --format=csv,nounits,noheader\"\n",
    "        memory_free_info = _output_to_list(subprocess.check_output(command.split())) \n",
    "        memory_free_values = [int(x) for i, x in enumerate(memory_free_info)]\n",
    "        \n",
    "        # Get the GPU with the maximum free memory\n",
    "        best_gpu_id = memory_free_values.index(max(memory_free_values))\n",
    "        return best_gpu_id\n",
    "    except:\n",
    "        # If any exception occurs, default to GPU 0 (this handles cases where nvidia-smi isn't installed)\n",
    "        return 0\n",
    "\n",
    "if torch.cuda.is_available():\n",
    "    # Get the best GPU ID based on free memory and set it\n",
    "    best_gpu_id = get_free_gpu()\n",
    "    device = torch.device(f\"cuda:{best_gpu_id}\")\n",
    "else:\n",
    "    device = torch.device(\"cpu\")\n",
    "    print(\"there's no available GPU\")\n",
    "\n",
    "# device = torch.device(f\"cuda:1\")\n",
    "print(device)\n"
   ]
  },
  {
   "cell_type": "markdown",
   "metadata": {},
   "source": [
    "## Fix the seed"
   ]
  },
  {
   "cell_type": "code",
   "execution_count": 3,
   "metadata": {},
   "outputs": [],
   "source": [
    "import numpy as np\n",
    "import torch\n",
    "import random\n",
    "\n",
    "#fix seed\n",
    "def same_seeds(seed = 8787):\n",
    "    torch.manual_seed(seed)\n",
    "    # random.seed(seed) \n",
    "    if torch.cuda.is_available():\n",
    "        torch.cuda.manual_seed(seed)\n",
    "        torch.cuda.manual_seed_all(seed)  \n",
    "    np.random.seed(seed)  \n",
    "    torch.backends.cudnn.benchmark = False\n",
    "    torch.backends.cudnn.deterministic = True"
   ]
  },
  {
   "cell_type": "markdown",
   "metadata": {},
   "source": [
    "## Data Loader"
   ]
  },
  {
   "cell_type": "code",
   "execution_count": 4,
   "metadata": {},
   "outputs": [],
   "source": [
    "class GraphDataset(Dataset):\n",
    "    def __init__(self, data_list, device):\n",
    "        self.data_list = data_list\n",
    "        self.device = device\n",
    "\n",
    "    def __len__(self):\n",
    "        return len(self.data_list)\n",
    "    \n",
    "    def __getitem__(self, idx):\n",
    "        data = self.data_list[idx]\n",
    "\n",
    "        g = dgl.graph((th.tensor(data[\"edge_index\"][0]), th.tensor(data[\"edge_index\"][1])), num_nodes=data[\"num_nodes\"]).to(self.device)\n",
    "\n",
    "        g.ndata['feat'] = th.tensor(data[\"node_feat\"]).to(self.device)\n",
    "        g.edata['feat'] = th.tensor(data[\"edge_attr\"]).to(self.device)  # Add edge features to graph\n",
    "\n",
    "        return g, th.tensor(data[\"label\"]).to(self.device)\n",
    "\n",
    "\n",
    "def collate(samples):\n",
    "    # The input `samples` is a list of pairs\n",
    "    #  (graph, label).\n",
    "    graphs, labels = map(list, zip(*samples))\n",
    "    batched_graph = dgl.batch(graphs)\n",
    "    return batched_graph, torch.tensor(labels)\n"
   ]
  },
  {
   "cell_type": "code",
   "execution_count": 5,
   "metadata": {},
   "outputs": [
    {
     "data": {
      "application/vnd.jupyter.widget-view+json": {
       "model_id": "55b80fd374524f1db359c2d26d4b255b",
       "version_major": 2,
       "version_minor": 0
      },
      "text/plain": [
       "  0%|          | 0/3 [00:00<?, ?it/s]"
      ]
     },
     "metadata": {},
     "output_type": "display_data"
    },
    {
     "name": "stdout",
     "output_type": "stream",
     "text": [
      "../../data_processing/dgl/data_new/training_data/exp_1/secureBERT_50/train.jsonl\n"
     ]
    },
    {
     "data": {
      "application/vnd.jupyter.widget-view+json": {
       "model_id": "71745633ca3b436a8cf6ef5c91d84907",
       "version_major": 2,
       "version_minor": 0
      },
      "text/plain": [
       "0it [00:00, ?it/s]"
      ]
     },
     "metadata": {},
     "output_type": "display_data"
    },
    {
     "name": "stdout",
     "output_type": "stream",
     "text": [
      "../../data_processing/dgl/data_new/training_data/exp_1/secureBERT_50/valid.jsonl\n"
     ]
    },
    {
     "data": {
      "application/vnd.jupyter.widget-view+json": {
       "model_id": "c7555081f3b04062a96b81884b8874e9",
       "version_major": 2,
       "version_minor": 0
      },
      "text/plain": [
       "0it [00:00, ?it/s]"
      ]
     },
     "metadata": {},
     "output_type": "display_data"
    },
    {
     "name": "stdout",
     "output_type": "stream",
     "text": [
      "../../data_processing/dgl/data_new/training_data/exp_1/secureBERT_50/test.jsonl\n"
     ]
    },
    {
     "data": {
      "application/vnd.jupyter.widget-view+json": {
       "model_id": "17d9eb56714941439b6b54739bba8bd5",
       "version_major": 2,
       "version_minor": 0
      },
      "text/plain": [
       "0it [00:00, ?it/s]"
      ]
     },
     "metadata": {},
     "output_type": "display_data"
    },
    {
     "name": "stdout",
     "output_type": "stream",
     "text": [
      "Datasets loaded!\n"
     ]
    }
   ],
   "source": [
    "datasets = ['train', 'valid', 'test']\n",
    "# datasets = ['test']\n",
    "dataset_data = {}\n",
    "\n",
    "for dataset_name in tqdm(datasets):\n",
    "#     file_path = f\"../../data_processing/dgl/data/test_graph/repeated_{dataset_name}.jsonl\"\n",
    "    file_path = f\"../../data_processing/dgl/data_new/training_data/exp_1/secureBERT_50/{dataset_name}.jsonl\"\n",
    "    \n",
    "    print(file_path)\n",
    "    with open(file_path) as f:\n",
    "        data_list = [json.loads(line) for line in tqdm(f, position=0, leave=True)]\n",
    "    \n",
    "    dataset_data[dataset_name] = GraphDataset(data_list, device)\n",
    "\n",
    "print(\"Datasets loaded!\")"
   ]
  },
  {
   "cell_type": "markdown",
   "metadata": {},
   "source": [
    "- choose batch size"
   ]
  },
  {
   "cell_type": "code",
   "execution_count": 6,
   "metadata": {},
   "outputs": [
    {
     "name": "stdout",
     "output_type": "stream",
     "text": [
      "OK!\n"
     ]
    }
   ],
   "source": [
    "def create_dataloaders(batch_size, shuffle=True):\n",
    "    dataloaders = {}\n",
    "    for dataset_name, dataset in dataset_data.items():\n",
    "        # do not shuffle the testing dataset\n",
    "        if dataset_name == \"test\":\n",
    "            dataloaders[dataset_name] = DataLoader(dataset, batch_size=batch_size, shuffle=False, collate_fn=collate)    \n",
    "        else:\n",
    "            dataloaders[dataset_name] = DataLoader(dataset, batch_size=batch_size, shuffle=shuffle, collate_fn=collate)\n",
    "    return dataloaders\n",
    "\n",
    "# dataloaders = create_dataloaders(4)\n",
    "dataloaders = create_dataloaders(16)\n",
    "\n",
    "\n",
    "if (len(dataloaders['test'].dataset) + len(dataloaders['valid'].dataset) + len(dataloaders['train'].dataset)) % 165 != 0: print(\"Error data!!\")\n",
    "else: print(\"OK!\")\n"
   ]
  },
  {
   "cell_type": "markdown",
   "metadata": {},
   "source": [
    "- Turn the print message to a log file"
   ]
  },
  {
   "cell_type": "code",
   "execution_count": 7,
   "metadata": {},
   "outputs": [
    {
     "name": "stdout",
     "output_type": "stream",
     "text": [
      "(Graph(num_nodes=26, num_edges=67,\n",
      "      ndata_schemes={'feat': Scheme(shape=(50,), dtype=torch.float32)}\n",
      "      edata_schemes={'feat': Scheme(shape=(26,), dtype=torch.float32)}), tensor(7, device='cuda:0'))\n",
      "16500\n",
      "16500\n",
      "132000\n",
      "165000\n"
     ]
    }
   ],
   "source": [
    "# print(dataloaders['test'][5])\n",
    "sample = dataset_data['train'][5000]\n",
    "print(sample)\n",
    "\n",
    "print(len(dataloaders['test'].dataset))\n",
    "print(len(dataloaders['valid'].dataset))\n",
    "print(len(dataloaders['train'].dataset))\n",
    "print(len(dataloaders['test'].dataset) + len(dataloaders['valid'].dataset) + len(dataloaders['train'].dataset))"
   ]
  },
  {
   "cell_type": "code",
   "execution_count": 8,
   "metadata": {},
   "outputs": [
    {
     "name": "stdout",
     "output_type": "stream",
     "text": [
      "../log_message/0904_13:29_GAT_secureBERT_50.log\n"
     ]
    }
   ],
   "source": [
    "import datetime\n",
    "\n",
    "now = datetime.datetime.now()\n",
    "\n",
    "formatted_time = now.strftime(\"%m%d_%H:%M\")\n",
    "\n",
    "log_file_path = f\"../log_message/{formatted_time}_GAT_secureBERT_50.log\"\n",
    "\n",
    "def add_log_msg(msg, log_file_path=log_file_path):\n",
    "    with open(log_file_path, 'a') as f:\n",
    "        f.write(f'{datetime.datetime.now().strftime(\"%m/%d/%Y, %H:%M:%S\")}# {msg}\\n')\n",
    "    print(f'{datetime.datetime.now().strftime(\"%m/%d/%Y, %H:%M:%S\")}# {msg}')\n",
    "\n",
    "print(log_file_path)"
   ]
  },
  {
   "cell_type": "markdown",
   "metadata": {},
   "source": [
    "### Model"
   ]
  },
  {
   "cell_type": "code",
   "execution_count": 9,
   "metadata": {},
   "outputs": [],
   "source": [
    "class GAT(nn.Module):\n",
    "    def __init__(self, in_dim, hidden_dim, out_dim, num_heads, dropout_prob=0.25):\n",
    "        super(GAT, self).__init__()\n",
    "        \n",
    "        # do not check the zero in_degree since we have all the complete graph\n",
    "        self.layer1 = GATConv(in_dim, hidden_dim, num_heads=num_heads, activation=F.relu, allow_zero_in_degree=True)\n",
    "        self.layer2 = GATConv(hidden_dim * num_heads, out_dim, num_heads=num_heads, allow_zero_in_degree=True)\n",
    "        \n",
    "        # Adding Batch Normalization after each GAT layer\n",
    "        self.batchnorm1 = nn.BatchNorm1d(hidden_dim * num_heads)\n",
    "        self.batchnorm2 = nn.BatchNorm1d(out_dim)\n",
    "        \n",
    "        # Adding Dropout for regularization\n",
    "        self.dropout = nn.Dropout(dropout_prob)\n",
    "\n",
    "    def forward(self, g, h):\n",
    "        # Apply GAT layers\n",
    "        h = self.layer1(g, h)\n",
    "        h = h.view(h.shape[0], -1)\n",
    "        h = F.relu(h)\n",
    "        h = self.dropout(h)\n",
    "        h = self.layer2(g, h).squeeze(1)\n",
    "        \n",
    "        # Store the output as a new node feature\n",
    "        g.ndata['h_out'] = h\n",
    "\n",
    "        # Use mean pooling to aggregate this new node feature\n",
    "        h_agg = dgl.mean_nodes(g, feat='h_out')\n",
    "        return h_agg\n",
    "\n",
    "    "
   ]
  },
  {
   "cell_type": "markdown",
   "metadata": {},
   "source": [
    "- Model Forward  "
   ]
  },
  {
   "cell_type": "code",
   "execution_count": 10,
   "metadata": {},
   "outputs": [],
   "source": [
    "def model_fn(data, model, criterion, device, count=1, which_type='train'):\n",
    "    \"\"\"Forward a batch through the model.\"\"\"\n",
    "    batched_g, labels = data\n",
    "    batched_g = batched_g.to(device)\n",
    "    \n",
    "    labels = labels.to(device)\n",
    "    logits = model(batched_g, batched_g.ndata['feat'].float()) # for GAT\n",
    "    logits = logits.mean(dim=1)\n",
    "    \n",
    "    loss = criterion(logits, labels)\n",
    "\n",
    "    # Get the class id with the highest probability\n",
    "    preds = logits.argmax(1)\n",
    "    \n",
    "    # Compute accuracy\n",
    "    accuracy = torch.mean((preds == labels).float())\n",
    "    \n",
    "    if which_type == 'validation' and count % 1000 == 0:\n",
    "        add_log_msg(f\"labels of Validation: {labels} {labels.shape}\")\n",
    "        add_log_msg(f\"predicted of Validation: {preds} {preds.shape}\")\n",
    "        \n",
    "    elif which_type == 'test'  and count % 1000 == 0:\n",
    "        add_log_msg(f\"labels of Test: {labels} {labels.shape}\")\n",
    "        add_log_msg(f\"predicted of Test: {preds} {preds.shape}\")\n",
    "        \n",
    "    if count % 5000 == 0: \n",
    "        add_log_msg(f\"labels of {count}: {labels} {labels.shape}\")\n",
    "        add_log_msg(f\"predicted of {count}: {preds} {preds.shape}\")\n",
    "        \n",
    "    return loss, accuracy, preds"
   ]
  },
  {
   "cell_type": "markdown",
   "metadata": {},
   "source": [
    "### Training"
   ]
  },
  {
   "cell_type": "markdown",
   "metadata": {},
   "source": [
    "- Fix the seed and save the model.state_dict that contains the initial weight"
   ]
  },
  {
   "cell_type": "code",
   "execution_count": 11,
   "metadata": {},
   "outputs": [],
   "source": [
    "seed = 8787\n",
    "same_seeds(seed)\n",
    "\n",
    "model = GAT(in_dim=50, hidden_dim=16, out_dim=168, num_heads=8)\n",
    "torch.save(model.state_dict(), 'model1_initial/initial_weight.pth')"
   ]
  },
  {
   "cell_type": "code",
   "execution_count": 12,
   "metadata": {},
   "outputs": [
    {
     "data": {
      "text/plain": [
       "Parameter containing:\n",
       "tensor([[-0.1806, -0.0598,  0.0091,  ...,  0.0719,  0.2496,  0.0873],\n",
       "        [ 0.1694, -0.0015, -0.0139,  ...,  0.0147,  0.0892,  0.0146],\n",
       "        [ 0.0969, -0.0595, -0.0115,  ..., -0.0474,  0.0529, -0.0565],\n",
       "        ...,\n",
       "        [-0.0433, -0.2248,  0.3002,  ...,  0.0850,  0.1621,  0.0422],\n",
       "        [ 0.2097, -0.2492,  0.0612,  ..., -0.0041,  0.0365, -0.1483],\n",
       "        [ 0.0971, -0.2221,  0.1652,  ..., -0.1312, -0.2610,  0.0077]],\n",
       "       requires_grad=True)"
      ]
     },
     "execution_count": 12,
     "metadata": {},
     "output_type": "execute_result"
    }
   ],
   "source": [
    "model.layer1.fc.weight"
   ]
  },
  {
   "cell_type": "markdown",
   "metadata": {},
   "source": [
    "- Check if model really load the model_dict"
   ]
  },
  {
   "cell_type": "code",
   "execution_count": 13,
   "metadata": {},
   "outputs": [
    {
     "data": {
      "text/plain": [
       "Parameter containing:\n",
       "tensor([[-0.1806, -0.0598,  0.0091,  ...,  0.0719,  0.2496,  0.0873],\n",
       "        [ 0.1694, -0.0015, -0.0139,  ...,  0.0147,  0.0892,  0.0146],\n",
       "        [ 0.0969, -0.0595, -0.0115,  ..., -0.0474,  0.0529, -0.0565],\n",
       "        ...,\n",
       "        [-0.0433, -0.2248,  0.3002,  ...,  0.0850,  0.1621,  0.0422],\n",
       "        [ 0.2097, -0.2492,  0.0612,  ..., -0.0041,  0.0365, -0.1483],\n",
       "        [ 0.0971, -0.2221,  0.1652,  ..., -0.1312, -0.2610,  0.0077]],\n",
       "       requires_grad=True)"
      ]
     },
     "execution_count": 13,
     "metadata": {},
     "output_type": "execute_result"
    }
   ],
   "source": [
    "model = GAT(in_dim=50, hidden_dim=16, out_dim=168, num_heads=8)\n",
    "model.load_state_dict(torch.load('model1_initial/initial_weight.pth'))\n",
    "model.layer1.fc.weight"
   ]
  },
  {
   "cell_type": "markdown",
   "metadata": {},
   "source": [
    "### test of valid and test part is ``graph``"
   ]
  },
  {
   "cell_type": "markdown",
   "metadata": {},
   "source": [
    "- Batch size = 4\n",
    "- use large lr and scheduler"
   ]
  },
  {
   "cell_type": "code",
   "execution_count": null,
   "metadata": {
    "scrolled": true
   },
   "outputs": [
    {
     "data": {
      "application/vnd.jupyter.widget-view+json": {
       "model_id": "7ea76c3ddbb44a36b5d7fa50e3a6a568",
       "version_major": 2,
       "version_minor": 0
      },
      "text/plain": [
       "  0%|          | 0/25 [00:00<?, ?it/s]"
      ]
     },
     "metadata": {},
     "output_type": "display_data"
    },
    {
     "data": {
      "application/vnd.jupyter.widget-view+json": {
       "model_id": "79262d2449e24ddaab39df9c416d1772",
       "version_major": 2,
       "version_minor": 0
      },
      "text/plain": [
       "Training:   0%|          | 0/8250 [00:00<?, ?it/s]"
      ]
     },
     "metadata": {},
     "output_type": "display_data"
    },
    {
     "name": "stdout",
     "output_type": "stream",
     "text": [
      "09/04/2023, 13:31:31# labels of 5000: tensor([ 61, 119,  49, 116, 136, 157, 161,  16,  57,  79,  70, 144, 162,  59,\n",
      "        165, 101], device='cuda:0') torch.Size([16])\n",
      "09/04/2023, 13:31:31# predicted of 5000: tensor([105, 161, 132, 132,  17, 132, 161,  16, 132,  80,  16,  74, 132, 132,\n",
      "         17, 132], device='cuda:0') torch.Size([16])\n",
      "09/04/2023, 13:32:32# total batches: 8250\n",
      "09/04/2023, 13:32:32# Epoch 0 | Train Loss: 4.4083 | Train Accuracy: 0.0375\n"
     ]
    },
    {
     "data": {
      "application/vnd.jupyter.widget-view+json": {
       "model_id": "0f09aa124d1e433d94a5e95241e7f4b0",
       "version_major": 2,
       "version_minor": 0
      },
      "text/plain": [
       "Validation:   0%|          | 0/1032 [00:00<?, ?it/s]"
      ]
     },
     "metadata": {},
     "output_type": "display_data"
    },
    {
     "name": "stdout",
     "output_type": "stream",
     "text": [
      "09/04/2023, 13:32:32# labels of Validation: tensor([134,  42,  29,  24, 113, 156, 134,  42, 125, 138, 117,  47, 118,  60,\n",
      "        125,  11], device='cuda:0') torch.Size([16])\n",
      "09/04/2023, 13:32:32# predicted of Validation: tensor([134,   6, 165,   6,   6, 134, 134,   6,   6, 138,  35,   6, 118,   6,\n",
      "          6,   6], device='cuda:0') torch.Size([16])\n",
      "09/04/2023, 13:32:32# labels of 0: tensor([134,  42,  29,  24, 113, 156, 134,  42, 125, 138, 117,  47, 118,  60,\n",
      "        125,  11], device='cuda:0') torch.Size([16])\n",
      "09/04/2023, 13:32:32# predicted of 0: tensor([134,   6, 165,   6,   6, 134, 134,   6,   6, 138,  35,   6, 118,   6,\n",
      "          6,   6], device='cuda:0') torch.Size([16])\n",
      "09/04/2023, 13:32:46# labels of Validation: tensor([138,  48,  36, 134,  72,  71,  26,  75, 101,  43, 103, 146, 166,  88,\n",
      "         59, 147], device='cuda:0') torch.Size([16])\n",
      "09/04/2023, 13:32:46# predicted of Validation: tensor([138,   6,   6, 134, 126,   6,   6,   6,   6,   6,   6, 136,   6,   6,\n",
      "          6, 140], device='cuda:0') torch.Size([16])\n",
      "09/04/2023, 13:32:46# Validation Loss: 4.1484 | Validation Accuracy: 0.0629\n",
      "\n",
      "09/04/2023, 13:32:46# Find a better model!!\n"
     ]
    },
    {
     "data": {
      "application/vnd.jupyter.widget-view+json": {
       "model_id": "92c643824a7e42a582f0977178c933d8",
       "version_major": 2,
       "version_minor": 0
      },
      "text/plain": [
       "Training:   0%|          | 0/8250 [00:00<?, ?it/s]"
      ]
     },
     "metadata": {},
     "output_type": "display_data"
    },
    {
     "name": "stdout",
     "output_type": "stream",
     "text": [
      "09/04/2023, 13:34:25# labels of 5000: tensor([ 83,  63,  34, 165, 135, 159, 103,  87,  41, 160,  97,  74, 132, 100,\n",
      "         17, 112], device='cuda:0') torch.Size([16])\n",
      "09/04/2023, 13:34:25# predicted of 5000: tensor([ 34,  34, 132, 165, 132,  40, 132, 132, 132, 132, 121, 121, 132, 132,\n",
      "         17, 132], device='cuda:0') torch.Size([16])\n",
      "09/04/2023, 13:35:35# total batches: 8250\n",
      "09/04/2023, 13:35:35# Epoch 1 | Train Loss: 4.1017 | Train Accuracy: 0.0736\n"
     ]
    },
    {
     "data": {
      "application/vnd.jupyter.widget-view+json": {
       "model_id": "f3b9b57237c146ac97b97980fea47b20",
       "version_major": 2,
       "version_minor": 0
      },
      "text/plain": [
       "Validation:   0%|          | 0/1032 [00:00<?, ?it/s]"
      ]
     },
     "metadata": {},
     "output_type": "display_data"
    },
    {
     "name": "stdout",
     "output_type": "stream",
     "text": [
      "09/04/2023, 13:35:35# labels of Validation: tensor([ 84,  63,  62,  75, 105, 120, 151, 154, 149, 109, 144,  83,  58, 158,\n",
      "         39,  36], device='cuda:0') torch.Size([16])\n",
      "09/04/2023, 13:35:35# predicted of Validation: tensor([146,  77,  56,  77, 128,  45,  77,  35, 149,  77,  77,  77,  77,  77,\n",
      "         35,  77], device='cuda:0') torch.Size([16])\n",
      "09/04/2023, 13:35:35# labels of 0: tensor([ 84,  63,  62,  75, 105, 120, 151, 154, 149, 109, 144,  83,  58, 158,\n",
      "         39,  36], device='cuda:0') torch.Size([16])\n",
      "09/04/2023, 13:35:35# predicted of 0: tensor([146,  77,  56,  77, 128,  45,  77,  35, 149,  77,  77,  77,  77,  77,\n",
      "         35,  77], device='cuda:0') torch.Size([16])\n",
      "09/04/2023, 13:35:50# labels of Validation: tensor([ 61,  72,  58, 102,  43, 131,  54,  76, 117,  51,  45,  93,  27, 151,\n",
      "         13, 118], device='cuda:0') torch.Size([16])\n",
      "09/04/2023, 13:35:50# predicted of Validation: tensor([ 35, 127,  77,  77,  77,  28,  77,  77,  56,  28, 127,  28,  35,  77,\n",
      "         56, 149], device='cuda:0') torch.Size([16])\n",
      "09/04/2023, 13:35:50# Validation Loss: 4.0018 | Validation Accuracy: 0.0899\n",
      "\n",
      "09/04/2023, 13:35:50# Find a better model!!\n"
     ]
    },
    {
     "data": {
      "application/vnd.jupyter.widget-view+json": {
       "model_id": "b3a8541d8ce84aa481e1fa5de2acb661",
       "version_major": 2,
       "version_minor": 0
      },
      "text/plain": [
       "Training:   0%|          | 0/8250 [00:00<?, ?it/s]"
      ]
     },
     "metadata": {},
     "output_type": "display_data"
    },
    {
     "name": "stdout",
     "output_type": "stream",
     "text": [
      "09/04/2023, 13:37:30# labels of 5000: tensor([ 37, 120,  12,  10,  98, 147, 119, 129,  57,  17,  85, 111, 103, 143,\n",
      "        124,  53], device='cuda:0') torch.Size([16])\n",
      "09/04/2023, 13:37:30# predicted of 5000: tensor([ 74,  62,  74, 132, 132, 105,  74, 132, 132,  99,  85,  74,   9, 132,\n",
      "        132, 132], device='cuda:0') torch.Size([16])\n",
      "09/04/2023, 13:38:29# total batches: 8250\n",
      "09/04/2023, 13:38:29# Epoch 2 | Train Loss: 4.0181 | Train Accuracy: 0.0870\n"
     ]
    },
    {
     "data": {
      "application/vnd.jupyter.widget-view+json": {
       "model_id": "bd907297daca4a528218fd58710463d3",
       "version_major": 2,
       "version_minor": 0
      },
      "text/plain": [
       "Validation:   0%|          | 0/1032 [00:00<?, ?it/s]"
      ]
     },
     "metadata": {},
     "output_type": "display_data"
    },
    {
     "name": "stdout",
     "output_type": "stream",
     "text": [
      "09/04/2023, 13:38:29# labels of Validation: tensor([ 67,  80,  97,  36, 102,   3, 140, 107, 151, 113,  71, 139, 129,  72,\n",
      "         41,  41], device='cuda:0') torch.Size([16])\n",
      "09/04/2023, 13:38:29# predicted of Validation: tensor([  0,  25,  41,  41,  41,  99, 136,  28,  41,  28,  41,  41,  28,  67,\n",
      "         41,  41], device='cuda:0') torch.Size([16])\n",
      "09/04/2023, 13:38:29# labels of 0: tensor([ 67,  80,  97,  36, 102,   3, 140, 107, 151, 113,  71, 139, 129,  72,\n",
      "         41,  41], device='cuda:0') torch.Size([16])\n",
      "09/04/2023, 13:38:29# predicted of 0: tensor([  0,  25,  41,  41,  41,  99, 136,  28,  41,  28,  41,  41,  28,  67,\n",
      "         41,  41], device='cuda:0') torch.Size([16])\n",
      "09/04/2023, 13:38:43# labels of Validation: tensor([130,  42,  37, 137,  70,  83,  57, 165,  42,  41,  92, 117, 124,  37,\n",
      "         46,  20], device='cuda:0') torch.Size([16])\n",
      "09/04/2023, 13:38:43# predicted of Validation: tensor([130,  41,  28,  41,  85,  41,  41, 149,  41,  41,  41,  40,  41,  28,\n",
      "         41,  41], device='cuda:0') torch.Size([16])\n",
      "09/04/2023, 13:38:43# Validation Loss: 3.9276 | Validation Accuracy: 0.1030\n",
      "\n",
      "09/04/2023, 13:38:43# Find a better model!!\n"
     ]
    },
    {
     "data": {
      "application/vnd.jupyter.widget-view+json": {
       "model_id": "ac008e5ebb2d4a86ab52c216ba685cab",
       "version_major": 2,
       "version_minor": 0
      },
      "text/plain": [
       "Training:   0%|          | 0/8250 [00:00<?, ?it/s]"
      ]
     },
     "metadata": {},
     "output_type": "display_data"
    },
    {
     "name": "stdout",
     "output_type": "stream",
     "text": [
      "09/04/2023, 13:40:25# labels of 5000: tensor([ 37,   2,  86, 137,  30,  95,  31, 133, 146, 106, 157, 132, 128, 146,\n",
      "        164,  93], device='cuda:0') torch.Size([16])\n",
      "09/04/2023, 13:40:25# predicted of 5000: tensor([132, 157,  57, 155, 155, 117,  57,  57, 136, 106, 157,  28,  99, 146,\n",
      "        155,  57], device='cuda:0') torch.Size([16])\n",
      "09/04/2023, 13:41:33# total batches: 8250\n",
      "09/04/2023, 13:41:33# Epoch 3 | Train Loss: 3.9688 | Train Accuracy: 0.0936\n"
     ]
    },
    {
     "data": {
      "application/vnd.jupyter.widget-view+json": {
       "model_id": "a967f2d091a2428e913bdafbb35e3f7b",
       "version_major": 2,
       "version_minor": 0
      },
      "text/plain": [
       "Validation:   0%|          | 0/1032 [00:00<?, ?it/s]"
      ]
     },
     "metadata": {},
     "output_type": "display_data"
    },
    {
     "name": "stdout",
     "output_type": "stream",
     "text": [
      "09/04/2023, 13:41:33# labels of Validation: tensor([102, 114,   1,  16, 126, 103, 104,  63, 142,  95, 148,  62,  75, 100,\n",
      "         44,  36], device='cuda:0') torch.Size([16])\n",
      "09/04/2023, 13:41:33# predicted of Validation: tensor([ 81, 132,  81,  16,  94, 132,  81,  81,  81,  78, 132, 128,  81, 132,\n",
      "         81,  81], device='cuda:0') torch.Size([16])\n",
      "09/04/2023, 13:41:33# labels of 0: tensor([102, 114,   1,  16, 126, 103, 104,  63, 142,  95, 148,  62,  75, 100,\n",
      "         44,  36], device='cuda:0') torch.Size([16])\n",
      "09/04/2023, 13:41:33# predicted of 0: tensor([ 81, 132,  81,  16,  94, 132,  81,  81,  81,  78, 132, 128,  81, 132,\n",
      "         81,  81], device='cuda:0') torch.Size([16])\n",
      "09/04/2023, 13:41:48# labels of Validation: tensor([107, 118,  74,  54,  93, 122, 121,  34, 150, 117, 134,  12,   6,   1,\n",
      "         73, 112], device='cuda:0') torch.Size([16])\n",
      "09/04/2023, 13:41:48# predicted of Validation: tensor([132, 149,  81,  81, 132, 122,  81,  81,  81,  78, 134,  81, 132,  81,\n",
      "        105,  81], device='cuda:0') torch.Size([16])\n",
      "09/04/2023, 13:41:48# Validation Loss: 3.8913 | Validation Accuracy: 0.1156\n",
      "\n",
      "09/04/2023, 13:41:48# Find a better model!!\n"
     ]
    },
    {
     "data": {
      "application/vnd.jupyter.widget-view+json": {
       "model_id": "7a052919d47746998c3e15715233ad06",
       "version_major": 2,
       "version_minor": 0
      },
      "text/plain": [
       "Training:   0%|          | 0/8250 [00:00<?, ?it/s]"
      ]
     },
     "metadata": {},
     "output_type": "display_data"
    },
    {
     "name": "stdout",
     "output_type": "stream",
     "text": [
      "09/04/2023, 13:43:45# labels of 5000: tensor([116, 163,  71,  40, 142, 101,  77, 116, 157,  95,  41,  38, 152, 110,\n",
      "         23, 100], device='cuda:0') torch.Size([16])\n",
      "09/04/2023, 13:43:45# predicted of 5000: tensor([ 97,  98,  98, 127, 155, 132, 132, 155, 155, 127, 155,  98, 155, 161,\n",
      "        136, 161], device='cuda:0') torch.Size([16])\n",
      "09/04/2023, 13:45:22# total batches: 8250\n",
      "09/04/2023, 13:45:22# Epoch 4 | Train Loss: 3.9426 | Train Accuracy: 0.0976\n"
     ]
    },
    {
     "data": {
      "application/vnd.jupyter.widget-view+json": {
       "model_id": "a2b76716845843da96daf848d494c496",
       "version_major": 2,
       "version_minor": 0
      },
      "text/plain": [
       "Validation:   0%|          | 0/1032 [00:00<?, ?it/s]"
      ]
     },
     "metadata": {},
     "output_type": "display_data"
    },
    {
     "name": "stdout",
     "output_type": "stream",
     "text": [
      "09/04/2023, 13:45:23# labels of Validation: tensor([  2, 132, 107, 111, 136,  45,   1, 108, 125, 165,  73,  49, 105,  45,\n",
      "        126, 108], device='cuda:0') torch.Size([16])\n",
      "09/04/2023, 13:45:23# predicted of Validation: tensor([137, 161, 155, 137,   3,  40, 137, 155, 137, 165,  94, 137,  94,  94,\n",
      "         94, 155], device='cuda:0') torch.Size([16])\n",
      "09/04/2023, 13:45:23# labels of 0: tensor([  2, 132, 107, 111, 136,  45,   1, 108, 125, 165,  73,  49, 105,  45,\n",
      "        126, 108], device='cuda:0') torch.Size([16])\n",
      "09/04/2023, 13:45:23# predicted of 0: tensor([137, 161, 155, 137,   3,  40, 137, 155, 137, 165,  94, 137,  94,  94,\n",
      "         94, 155], device='cuda:0') torch.Size([16])\n",
      "09/04/2023, 13:45:44# labels of Validation: tensor([160,   0, 115,  73, 113,  20,  30, 140,   2,  98, 161, 158,  21, 141,\n",
      "        127, 118], device='cuda:0') torch.Size([16])\n",
      "09/04/2023, 13:45:44# predicted of Validation: tensor([155,  94,  94,  94, 155, 137, 137, 136, 137, 137, 161, 137, 155, 155,\n",
      "         94, 118], device='cuda:0') torch.Size([16])\n",
      "09/04/2023, 13:45:45# Validation Loss: 3.8653 | Validation Accuracy: 0.1051\n",
      "\n",
      "09/04/2023, 13:45:45# Find a better model!!\n"
     ]
    },
    {
     "data": {
      "application/vnd.jupyter.widget-view+json": {
       "model_id": "9976f680957441a49f68f4d6db10f5ad",
       "version_major": 2,
       "version_minor": 0
      },
      "text/plain": [
       "Training:   0%|          | 0/8250 [00:00<?, ?it/s]"
      ]
     },
     "metadata": {},
     "output_type": "display_data"
    },
    {
     "name": "stdout",
     "output_type": "stream",
     "text": [
      "09/04/2023, 13:48:25# labels of 5000: tensor([ 43, 158,  74,   4,  66, 115,  81,  63,  16,  48,  24,  78,  54,  85,\n",
      "        104, 126], device='cuda:0') torch.Size([16])\n",
      "09/04/2023, 13:48:25# predicted of 5000: tensor([21, 46, 33, 33, 33, 89, 46, 21, 16, 21, 21, 99, 21, 85, 21, 67],\n",
      "       device='cuda:0') torch.Size([16])\n",
      "09/04/2023, 13:50:11# total batches: 8250\n",
      "09/04/2023, 13:50:11# Epoch 5 | Train Loss: 3.9192 | Train Accuracy: 0.0999\n"
     ]
    },
    {
     "data": {
      "application/vnd.jupyter.widget-view+json": {
       "model_id": "8da9d05fcfe54165ba353209120dff90",
       "version_major": 2,
       "version_minor": 0
      },
      "text/plain": [
       "Validation:   0%|          | 0/1032 [00:00<?, ?it/s]"
      ]
     },
     "metadata": {},
     "output_type": "display_data"
    },
    {
     "name": "stdout",
     "output_type": "stream",
     "text": [
      "09/04/2023, 13:50:11# labels of Validation: tensor([ 52, 159, 137,  77,  11,  84,  81, 110,   8,  74,  86, 115, 127, 112,\n",
      "         25,   1], device='cuda:0') torch.Size([16])\n",
      "09/04/2023, 13:50:11# predicted of Validation: tensor([ 82, 159,  48,  28,  48, 146,  48,  28,  28,  48,  48,  15,  15,  48,\n",
      "         25,  48], device='cuda:0') torch.Size([16])\n",
      "09/04/2023, 13:50:11# labels of 0: tensor([ 52, 159, 137,  77,  11,  84,  81, 110,   8,  74,  86, 115, 127, 112,\n",
      "         25,   1], device='cuda:0') torch.Size([16])\n",
      "09/04/2023, 13:50:11# predicted of 0: tensor([ 82, 159,  48,  28,  48, 146,  48,  28,  28,  48,  48,  15,  15,  48,\n",
      "         25,  48], device='cuda:0') torch.Size([16])\n",
      "09/04/2023, 13:50:32# labels of Validation: tensor([161, 138, 106, 119, 137,   8,  49, 150, 102,  49, 124,  41,  73,  84,\n",
      "         42,  96], device='cuda:0') torch.Size([16])\n",
      "09/04/2023, 13:50:32# predicted of Validation: tensor([ 28,  70, 106,  48,  48,  28,  48,  48,  48,  48,  48,  48,  15, 146,\n",
      "         48, 146], device='cuda:0') torch.Size([16])\n",
      "09/04/2023, 13:50:32# Validation Loss: 3.8459 | Validation Accuracy: 0.1095\n",
      "\n",
      "09/04/2023, 13:50:32# Find a better model!!\n"
     ]
    },
    {
     "data": {
      "application/vnd.jupyter.widget-view+json": {
       "model_id": "bfd089494c664454adcd9db987141488",
       "version_major": 2,
       "version_minor": 0
      },
      "text/plain": [
       "Training:   0%|          | 0/8250 [00:00<?, ?it/s]"
      ]
     },
     "metadata": {},
     "output_type": "display_data"
    },
    {
     "name": "stdout",
     "output_type": "stream",
     "text": [
      "09/04/2023, 13:53:17# labels of 5000: tensor([103, 129, 128, 165, 109, 166,  75,   6,  84,  17, 154, 115,  84, 122,\n",
      "        151,  58], device='cuda:0') torch.Size([16])\n",
      "09/04/2023, 13:53:17# predicted of 5000: tensor([ 18,  46, 105, 134,  18,   6, 150, 161,  72,  17,  82,  78, 146,  27,\n",
      "         37,  58], device='cuda:0') torch.Size([16])\n",
      "09/04/2023, 13:55:07# total batches: 8250\n",
      "09/04/2023, 13:55:07# Epoch 6 | Train Loss: 3.9019 | Train Accuracy: 0.1034\n"
     ]
    },
    {
     "data": {
      "application/vnd.jupyter.widget-view+json": {
       "model_id": "023e9f59d5ea4a3cabb0e979a90e250d",
       "version_major": 2,
       "version_minor": 0
      },
      "text/plain": [
       "Validation:   0%|          | 0/1032 [00:00<?, ?it/s]"
      ]
     },
     "metadata": {},
     "output_type": "display_data"
    },
    {
     "name": "stdout",
     "output_type": "stream",
     "text": [
      "09/04/2023, 13:55:07# labels of Validation: tensor([156, 111,  35,  16,  68,  85,  51,   2,   5,  61, 102,  27,  13,  96,\n",
      "         61,  74], device='cuda:0') torch.Size([16])\n",
      "09/04/2023, 13:55:07# predicted of Validation: tensor([156,  14,  15,  85, 108,  85, 132,  14,  39,  39,  14,  39, 130, 146,\n",
      "         13,  14], device='cuda:0') torch.Size([16])\n",
      "09/04/2023, 13:55:07# labels of 0: tensor([156, 111,  35,  16,  68,  85,  51,   2,   5,  61, 102,  27,  13,  96,\n",
      "         61,  74], device='cuda:0') torch.Size([16])\n",
      "09/04/2023, 13:55:07# predicted of 0: tensor([156,  14,  15,  85, 108,  85, 132,  14,  39,  39,  14,  39, 130, 146,\n",
      "         13,  14], device='cuda:0') torch.Size([16])\n",
      "09/04/2023, 13:55:29# labels of Validation: tensor([ 41,  61,  11,  76,  43, 113,   5, 100,  83, 150,  84,  53,  16, 102,\n",
      "         59,  92], device='cuda:0') torch.Size([16])\n",
      "09/04/2023, 13:55:29# predicted of Validation: tensor([ 14,  73,  14,  14,  14, 108,  39, 108,  14,  14, 147,  14,  70,  14,\n",
      "        132,  14], device='cuda:0') torch.Size([16])\n",
      "09/04/2023, 13:55:30# Validation Loss: 3.8231 | Validation Accuracy: 0.1206\n",
      "\n",
      "09/04/2023, 13:55:30# Find a better model!!\n"
     ]
    },
    {
     "data": {
      "application/vnd.jupyter.widget-view+json": {
       "model_id": "087a7afde47449a4b10cba866efa6961",
       "version_major": 2,
       "version_minor": 0
      },
      "text/plain": [
       "Training:   0%|          | 0/8250 [00:00<?, ?it/s]"
      ]
     },
     "metadata": {},
     "output_type": "display_data"
    },
    {
     "name": "stdout",
     "output_type": "stream",
     "text": [
      "09/04/2023, 13:58:28# labels of 5000: tensor([ 11,  26,  33,  57, 156, 113,  47,  78, 165,  89, 142,  21,  26,  77,\n",
      "         86,  41], device='cuda:0') torch.Size([16])\n",
      "09/04/2023, 13:58:28# predicted of 5000: tensor([103, 103,  46, 103, 154, 132, 103, 122, 165, 128, 103,  71, 103, 112,\n",
      "        112, 103], device='cuda:0') torch.Size([16])\n",
      "09/04/2023, 14:00:18# total batches: 8250\n",
      "09/04/2023, 14:00:18# Epoch 7 | Train Loss: 3.8891 | Train Accuracy: 0.1045\n"
     ]
    },
    {
     "data": {
      "application/vnd.jupyter.widget-view+json": {
       "model_id": "cdb2cc77b4f24fed8c6fceef0d9b755d",
       "version_major": 2,
       "version_minor": 0
      },
      "text/plain": [
       "Validation:   0%|          | 0/1032 [00:00<?, ?it/s]"
      ]
     },
     "metadata": {},
     "output_type": "display_data"
    },
    {
     "name": "stdout",
     "output_type": "stream",
     "text": [
      "09/04/2023, 14:00:18# labels of Validation: tensor([ 84, 122, 166, 109,  31,  87, 135, 162, 143,   5, 119, 163,  77,  14,\n",
      "         89,  46], device='cuda:0') torch.Size([16])\n",
      "09/04/2023, 14:00:18# predicted of Validation: tensor([147, 122, 131,  83,  83,  83,  83,  83,  83,  79,  83,  83, 131,  83,\n",
      "         73,  83], device='cuda:0') torch.Size([16])\n",
      "09/04/2023, 14:00:18# labels of 0: tensor([ 84, 122, 166, 109,  31,  87, 135, 162, 143,   5, 119, 163,  77,  14,\n",
      "         89,  46], device='cuda:0') torch.Size([16])\n",
      "09/04/2023, 14:00:18# predicted of 0: tensor([147, 122, 131,  83,  83,  83,  83,  83,  83,  79,  83,  83, 131,  83,\n",
      "         73,  83], device='cuda:0') torch.Size([16])\n",
      "09/04/2023, 14:00:39# labels of Validation: tensor([ 81, 159,  35,  77,  53, 102,  16, 110,  89, 143, 163, 166, 121,  87,\n",
      "        125, 160], device='cuda:0') torch.Size([16])\n",
      "09/04/2023, 14:00:39# predicted of Validation: tensor([ 83, 127,  62, 131,  83,  83,  16, 131,  73,  83,  83, 131,  83,  83,\n",
      "         83, 131], device='cuda:0') torch.Size([16])\n",
      "09/04/2023, 14:00:40# Validation Loss: 3.8147 | Validation Accuracy: 0.1139\n",
      "\n",
      "09/04/2023, 14:00:40# Find a better model!!\n"
     ]
    },
    {
     "data": {
      "application/vnd.jupyter.widget-view+json": {
       "model_id": "0c955bf11395444190628550116fd033",
       "version_major": 2,
       "version_minor": 0
      },
      "text/plain": [
       "Training:   0%|          | 0/8250 [00:00<?, ?it/s]"
      ]
     },
     "metadata": {},
     "output_type": "display_data"
    },
    {
     "name": "stdout",
     "output_type": "stream",
     "text": [
      "09/04/2023, 14:03:28# labels of 5000: tensor([ 75, 120,  25, 121,  99,  75, 131, 121,  29,  16,  53, 130,  53,  62,\n",
      "         32,  27], device='cuda:0') torch.Size([16])\n",
      "09/04/2023, 14:03:28# predicted of 5000: tensor([107, 105,  25, 139,  99, 116, 132, 107,  29,  16, 107,  50, 107,  61,\n",
      "         84,  39], device='cuda:0') torch.Size([16])\n",
      "09/04/2023, 14:05:18# total batches: 8250\n",
      "09/04/2023, 14:05:18# Epoch 8 | Train Loss: 3.8795 | Train Accuracy: 0.1062\n"
     ]
    },
    {
     "data": {
      "application/vnd.jupyter.widget-view+json": {
       "model_id": "5069e29884344802a412b04961aa1804",
       "version_major": 2,
       "version_minor": 0
      },
      "text/plain": [
       "Validation:   0%|          | 0/1032 [00:00<?, ?it/s]"
      ]
     },
     "metadata": {},
     "output_type": "display_data"
    },
    {
     "name": "stdout",
     "output_type": "stream",
     "text": [
      "09/04/2023, 14:05:18# labels of Validation: tensor([  8, 119,  29, 106,   4,  92,  96,  91, 100, 147,  47, 166,  47, 126,\n",
      "          7,  67], device='cuda:0') torch.Size([16])\n",
      "09/04/2023, 14:05:18# predicted of Validation: tensor([ 37, 143,  29, 106, 143, 143,   3,   6,  37,  96, 143,   6, 143, 126,\n",
      "          7,  45], device='cuda:0') torch.Size([16])\n",
      "09/04/2023, 14:05:18# labels of 0: tensor([  8, 119,  29, 106,   4,  92,  96,  91, 100, 147,  47, 166,  47, 126,\n",
      "          7,  67], device='cuda:0') torch.Size([16])\n",
      "09/04/2023, 14:05:18# predicted of 0: tensor([ 37, 143,  29, 106, 143, 143,   3,   6,  37,  96, 143,   6, 143, 126,\n",
      "          7,  45], device='cuda:0') torch.Size([16])\n",
      "09/04/2023, 14:05:40# labels of Validation: tensor([129,  12,  32,  96,  75,  32, 129, 107,  79, 129,  21,  38,  47,  82,\n",
      "         12, 134], device='cuda:0') torch.Size([16])\n",
      "09/04/2023, 14:05:40# predicted of Validation: tensor([ 37, 143, 126,   3, 143, 128,  37,  37, 126,  37,   6, 143, 143,  82,\n",
      "        143, 134], device='cuda:0') torch.Size([16])\n",
      "09/04/2023, 14:05:40# Validation Loss: 3.8042 | Validation Accuracy: 0.1279\n",
      "\n",
      "09/04/2023, 14:05:40# Find a better model!!\n"
     ]
    },
    {
     "data": {
      "application/vnd.jupyter.widget-view+json": {
       "model_id": "d9ec9f0244fc4315bb4c8f8e23bc5703",
       "version_major": 2,
       "version_minor": 0
      },
      "text/plain": [
       "Training:   0%|          | 0/8250 [00:00<?, ?it/s]"
      ]
     },
     "metadata": {},
     "output_type": "display_data"
    },
    {
     "name": "stdout",
     "output_type": "stream",
     "text": [
      "09/04/2023, 14:08:28# labels of 5000: tensor([ 26, 166, 153,  48,  14,  26,  15,  57,  52,  69,  12, 137,  75,  74,\n",
      "        111, 153], device='cuda:0') torch.Size([16])\n",
      "09/04/2023, 14:08:28# predicted of 5000: tensor([ 59, 164,  59, 164, 164, 164,  89,  59,  52,  69,  11,  59,  59,  59,\n",
      "         59,  59], device='cuda:0') torch.Size([16])\n",
      "09/04/2023, 14:10:15# total batches: 8250\n",
      "09/04/2023, 14:10:15# Epoch 9 | Train Loss: 3.8673 | Train Accuracy: 0.1078\n"
     ]
    },
    {
     "data": {
      "application/vnd.jupyter.widget-view+json": {
       "model_id": "48c8911aa5354048947c6af8f18bb58f",
       "version_major": 2,
       "version_minor": 0
      },
      "text/plain": [
       "Validation:   0%|          | 0/1032 [00:00<?, ?it/s]"
      ]
     },
     "metadata": {},
     "output_type": "display_data"
    },
    {
     "name": "stdout",
     "output_type": "stream",
     "text": [
      "09/04/2023, 14:10:15# labels of Validation: tensor([ 12,  46, 153, 154, 112,  66,  20, 144, 125,  58, 102, 132,  17, 102,\n",
      "        131, 164], device='cuda:0') torch.Size([16])\n",
      "09/04/2023, 14:10:15# predicted of Validation: tensor([ 92,  92,  92, 154,  92,  91,  92,  92,  92,  92,  92, 132,  25,  92,\n",
      "         28,  92], device='cuda:0') torch.Size([16])\n",
      "09/04/2023, 14:10:15# labels of 0: tensor([ 12,  46, 153, 154, 112,  66,  20, 144, 125,  58, 102, 132,  17, 102,\n",
      "        131, 164], device='cuda:0') torch.Size([16])\n",
      "09/04/2023, 14:10:15# predicted of 0: tensor([ 92,  92,  92, 154,  92,  91,  92,  92,  92,  92,  92, 132,  25,  92,\n",
      "         28,  92], device='cuda:0') torch.Size([16])\n",
      "09/04/2023, 14:10:37# labels of Validation: tensor([  9,   3,  89,  29, 108,  70, 103, 100, 108,  32,  61,  15,  34, 110,\n",
      "        126, 102], device='cuda:0') torch.Size([16])\n",
      "09/04/2023, 14:10:37# predicted of Validation: tensor([ 92, 140,  50, 122,  91,  85,  91,  91,  91,  50,  50,  50,  92,  91,\n",
      "         79,  92], device='cuda:0') torch.Size([16])\n",
      "09/04/2023, 14:10:38# Validation Loss: 3.8028 | Validation Accuracy: 0.1240\n",
      "\n",
      "09/04/2023, 14:10:38# Find a better model!!\n"
     ]
    },
    {
     "data": {
      "application/vnd.jupyter.widget-view+json": {
       "model_id": "c338c627c7fd41bcaa7702f57be812c1",
       "version_major": 2,
       "version_minor": 0
      },
      "text/plain": [
       "Training:   0%|          | 0/8250 [00:00<?, ?it/s]"
      ]
     },
     "metadata": {},
     "output_type": "display_data"
    },
    {
     "name": "stdout",
     "output_type": "stream",
     "text": [
      "09/04/2023, 14:13:25# labels of 5000: tensor([156,  68,  61,  75, 105,  56, 126,  66,  20,  87,   5,   0,  21,  35,\n",
      "         43, 163], device='cuda:0') torch.Size([16])\n",
      "09/04/2023, 14:13:25# predicted of 5000: tensor([115,   6,  32,  59,  99, 115, 115,   6,  59,  59,  96,  27,   6,  32,\n",
      "         59,  41], device='cuda:0') torch.Size([16])\n",
      "09/04/2023, 14:15:15# total batches: 8250\n",
      "09/04/2023, 14:15:15# Epoch 10 | Train Loss: 3.8615 | Train Accuracy: 0.1084\n"
     ]
    },
    {
     "data": {
      "application/vnd.jupyter.widget-view+json": {
       "model_id": "1542da794ca148fbbdba9c1393615b03",
       "version_major": 2,
       "version_minor": 0
      },
      "text/plain": [
       "Validation:   0%|          | 0/1032 [00:00<?, ?it/s]"
      ]
     },
     "metadata": {},
     "output_type": "display_data"
    },
    {
     "name": "stdout",
     "output_type": "stream",
     "text": [
      "09/04/2023, 14:15:15# labels of Validation: tensor([ 76,  64, 106,  82, 118, 154, 165,  11, 161, 126,   6, 161, 117,  40,\n",
      "          5, 153], device='cuda:0') torch.Size([16])\n",
      "09/04/2023, 14:15:15# predicted of Validation: tensor([ 74,  37, 106, 156, 118, 156, 165,  74,   6,   0,   6,   6,   0,  73,\n",
      "          0,  74], device='cuda:0') torch.Size([16])\n",
      "09/04/2023, 14:15:15# labels of 0: tensor([ 76,  64, 106,  82, 118, 154, 165,  11, 161, 126,   6, 161, 117,  40,\n",
      "          5, 153], device='cuda:0') torch.Size([16])\n",
      "09/04/2023, 14:15:15# predicted of 0: tensor([ 74,  37, 106, 156, 118, 156, 165,  74,   6,   0,   6,   6,   0,  73,\n",
      "          0,  74], device='cuda:0') torch.Size([16])\n",
      "09/04/2023, 14:15:37# labels of Validation: tensor([ 13, 157,  11,  79,  21, 166, 130,   0, 128,  25,  60, 158,  24,  16,\n",
      "         33,  70], device='cuda:0') torch.Size([16])\n",
      "09/04/2023, 14:15:37# predicted of Validation: tensor([ 73,  74,  74,   0, 108, 108,  73,   0,   0,  17,  74,  74,  74,  70,\n",
      "         74,  70], device='cuda:0') torch.Size([16])\n",
      "09/04/2023, 14:15:37# Validation Loss: 3.7941 | Validation Accuracy: 0.1206\n",
      "\n",
      "09/04/2023, 14:15:37# Find a better model!!\n"
     ]
    },
    {
     "data": {
      "application/vnd.jupyter.widget-view+json": {
       "model_id": "8d8480a16bf3474c8ad4865ee0eb0bef",
       "version_major": 2,
       "version_minor": 0
      },
      "text/plain": [
       "Training:   0%|          | 0/8250 [00:00<?, ?it/s]"
      ]
     },
     "metadata": {},
     "output_type": "display_data"
    },
    {
     "name": "stdout",
     "output_type": "stream",
     "text": [
      "09/04/2023, 14:18:25# labels of 5000: tensor([130, 139,  25,  74, 125,  46, 103,  68, 112, 165, 114,  69,  20, 106,\n",
      "        118,  38], device='cuda:0') torch.Size([16])\n",
      "09/04/2023, 14:18:25# predicted of 5000: tensor([120,  66,  99,  66,  66,  66, 132, 132, 157, 149,  54,  69,  66, 106,\n",
      "        118,  66], device='cuda:0') torch.Size([16])\n",
      "09/04/2023, 14:20:14# total batches: 8250\n",
      "09/04/2023, 14:20:14# Epoch 11 | Train Loss: 3.8541 | Train Accuracy: 0.1106\n"
     ]
    },
    {
     "data": {
      "application/vnd.jupyter.widget-view+json": {
       "model_id": "7de59f7ed9e945f28dcdd31f4c280903",
       "version_major": 2,
       "version_minor": 0
      },
      "text/plain": [
       "Validation:   0%|          | 0/1032 [00:00<?, ?it/s]"
      ]
     },
     "metadata": {},
     "output_type": "display_data"
    },
    {
     "name": "stdout",
     "output_type": "stream",
     "text": [
      "09/04/2023, 14:20:14# labels of Validation: tensor([148, 154,   6,  96, 157,  69,  23,  88,  72, 139,  85,  38, 102,   2,\n",
      "         12,  77], device='cuda:0') torch.Size([16])\n",
      "09/04/2023, 14:20:14# predicted of Validation: tensor([108,  82, 161,  96, 109,  69,  23, 108, 126, 109,  16, 109, 109, 109,\n",
      "        109, 108], device='cuda:0') torch.Size([16])\n",
      "09/04/2023, 14:20:14# labels of 0: tensor([148, 154,   6,  96, 157,  69,  23,  88,  72, 139,  85,  38, 102,   2,\n",
      "         12,  77], device='cuda:0') torch.Size([16])\n",
      "09/04/2023, 14:20:14# predicted of 0: tensor([108,  82, 161,  96, 109,  69,  23, 108, 126, 109,  16, 109, 109, 109,\n",
      "        109, 108], device='cuda:0') torch.Size([16])\n",
      "09/04/2023, 14:20:35# labels of Validation: tensor([108,   8, 148,  68, 146, 127,   0, 148, 123, 143, 150,  64, 131,  16,\n",
      "         63,  69], device='cuda:0') torch.Size([16])\n",
      "09/04/2023, 14:20:35# predicted of Validation: tensor([108, 108, 108, 108,  23, 128,   0, 108, 123, 109, 109, 108, 108,  16,\n",
      "        109,  69], device='cuda:0') torch.Size([16])\n",
      "09/04/2023, 14:20:35# Validation Loss: 3.7987 | Validation Accuracy: 0.1171\n",
      "\n"
     ]
    },
    {
     "data": {
      "application/vnd.jupyter.widget-view+json": {
       "model_id": "b295bd3511634b8c883af82273f424f1",
       "version_major": 2,
       "version_minor": 0
      },
      "text/plain": [
       "Training:   0%|          | 0/8250 [00:00<?, ?it/s]"
      ]
     },
     "metadata": {},
     "output_type": "display_data"
    }
   ],
   "source": [
    "import csv\n",
    "import pandas as pd\n",
    "from sklearn.metrics import classification_report\n",
    "from torch.optim import AdamW, lr_scheduler\n",
    "\n",
    "seed = 8787\n",
    "same_seeds(seed)\n",
    "\n",
    "model = GAT(in_dim=50, hidden_dim=16, out_dim=168, num_heads=8)\n",
    "# in_dim means the dimension of the node_feat(50 dim, since the 50-dim embedding)\n",
    "# out_dim means the # of the categories -> 168 for out tasks\n",
    "model.load_state_dict(torch.load('model1_initial/initial_weight.pth'))\n",
    "best_model_path = \"../checkpoint_GAT/best_model_GAT_secureBERT_50.pt\"\n",
    "\n",
    "model = model.to(device)\n",
    "\n",
    "# optimizer = torch.optim.AdamW(model.parameters(), lr=1e-5)\n",
    "optimizer = AdamW(model.parameters(), lr=5e-4)\n",
    "# scheduler = get_linear_schedule_with_warmup(optimizer, num_warmup_steps=18, num_training_steps=total_steps)\n",
    "\n",
    "# T_max control the period of the lr changing -> set 1/10 first\n",
    "scheduler = lr_scheduler.CosineAnnealingLR(optimizer, T_max=36, eta_min=0, last_epoch=- 1, verbose=False)\n",
    "\n",
    "\n",
    "criterion = nn.CrossEntropyLoss()\n",
    "total_steps = 25\n",
    "\n",
    "# save the best model\n",
    "best_val_loss = float('inf')\n",
    "patience = 5  # Number of epochs with no improvement after which training will be stopped.\n",
    "waiting = 0  # The number of epochs with no improvement so far.\n",
    "\n",
    "\n",
    "# Training Part\n",
    "for epoch in tqdm(range(total_steps)):\n",
    "    # Train\n",
    "    model.train()\n",
    "    total_loss = 0.0\n",
    "    total_accuracy = 0.0\n",
    "    num_batches = 0\n",
    "    \n",
    "    for data in tqdm(dataloaders['train'], desc=\"Training\", position=0, leave=True):\n",
    "        num_batches += 1\n",
    "        loss, accuracy, _ = model_fn(data, model, criterion, device, num_batches, which_type='train')\n",
    "        \n",
    "        optimizer.zero_grad()\n",
    "        loss.backward()\n",
    "        optimizer.step()\n",
    "\n",
    "        total_loss += loss.item()\n",
    "        total_accuracy += accuracy.item()\n",
    "\n",
    "        \n",
    "#     scheduler.step()\n",
    "    add_log_msg(f\"total batches: {num_batches}\")\n",
    "\n",
    "    avg_loss = total_loss / num_batches\n",
    "    avg_accuracy = total_accuracy / num_batches\n",
    "\n",
    "    add_log_msg(f'Epoch {epoch} | Train Loss: {avg_loss:.4f} | Train Accuracy: {avg_accuracy:.4f}')\n",
    "\n",
    "    \n",
    "    # Validation Part\n",
    "    model.eval()\n",
    "    total_accuracy = 0.0\n",
    "    total_loss = 0.0\n",
    "    num_batches = 0\n",
    "\n",
    "\n",
    "    with torch.no_grad():\n",
    "        for data in tqdm(dataloaders['valid'], desc=\"Validation\", position=0, leave=True):\n",
    "            loss, accuracy, _ = model_fn(data, model, criterion, device, num_batches, which_type='validation')\n",
    "            total_accuracy += accuracy.item()\n",
    "            total_loss += loss.item()\n",
    "            num_batches += 1\n",
    "\n",
    "    avg_accuracy = total_accuracy / num_batches\n",
    "    current_loss = total_loss / num_batches\n",
    "    \n",
    "    add_log_msg(f'Validation Loss: {current_loss:.4f} | Validation Accuracy: {avg_accuracy:.4f}\\n')\n",
    "    \n",
    "            \n",
    "    if current_loss < best_val_loss:\n",
    "        best_val_loss = current_loss\n",
    "        waiting = 0\n",
    "        \n",
    "        if os.path.exists(best_model_path):\n",
    "            os.remove(best_model_path)\n",
    "            add_log_msg(\"Find a better model!!\")\n",
    "\n",
    "        torch.save(model.state_dict(), best_model_path)\n",
    "\n",
    "        \n",
    "#         print(best_model_path)\n",
    "\n",
    "    else:\n",
    "        waiting += 1\n",
    "        if waiting >= patience:\n",
    "            add_log_msg(\"\\n============================== Early stopping ==================================\")\n",
    "            break"
   ]
  },
  {
   "cell_type": "markdown",
   "metadata": {},
   "source": [
    "### Testing Part"
   ]
  },
  {
   "cell_type": "code",
   "execution_count": null,
   "metadata": {},
   "outputs": [],
   "source": [
    "# load the pretrained model\n",
    "pretrained_model_path = '../checkpoint_GAT/best_model_GAT_secureBERT_50.pt'\n",
    "model.load_state_dict(torch.load(pretrained_model_path))\n",
    "\n",
    "model.to(device)\n",
    "model.eval()\n",
    "\n",
    "total = 0\n",
    "correct = 0\n",
    "count = 0\n",
    "\n",
    "true_labels = []\n",
    "predicted_labels = []\n",
    "\n",
    "with torch.no_grad():\n",
    "    for data in tqdm(dataloaders['test'], desc=\"Testing\", position=0, leave=True):\n",
    "\n",
    "        loss, accuracy, predicted = model_fn(data, model, criterion, device, count, which_type='test')\n",
    "        labels = data[1].to(device)\n",
    "        \n",
    "        true_labels.extend(labels.cpu().numpy())\n",
    "        predicted_labels.extend(predicted.cpu().numpy())\n",
    "        \n",
    "        if count % 5000 == 0:\n",
    "            add_log_msg(f\"labels: {labels} {labels.shape}\")\n",
    "            add_log_msg(f\"predicted: {predicted} {predicted.shape}\")\n",
    "            \n",
    "        count += 1\n",
    "        \n",
    "        total += labels.size(0)\n",
    "        correct += (predicted == labels).sum().item()\n",
    "\n",
    "add_log_msg(f'Test Accuracy: {100 * correct / total} %\\n\\n\\n')\n",
    "\n",
    "\n",
    "# ======================================== handlig the output excel files ========================================\n",
    "mapping_file = './new_mapping.txt'\n",
    "label_mapping = {}\n",
    "with open(mapping_file, 'r') as f:\n",
    "    for line in f:\n",
    "        parts = line.strip().split(': ')\n",
    "        label_mapping[int(parts[1])] = parts[0]\n",
    "        \n",
    "# 将映射后的标签应用到true和predicted标签列表\n",
    "mapped_true_labels = [label_mapping[label] for label in true_labels]\n",
    "mapped_predicted_labels = [label_mapping[label] for label in predicted_labels]\n",
    "\n",
    "# 生成Scikit-learn报告信息的DataFrame\n",
    "report_data = classification_report(mapped_true_labels, mapped_predicted_labels, output_dict=True)\n",
    "report_df = pd.DataFrame(report_data).transpose()\n",
    "\n",
    "report_folder = 'classification_report'\n",
    "os.makedirs(report_folder, exist_ok=True)\n",
    "\n",
    "count = 0\n",
    "while True:\n",
    "    report_filename = f'classification_report-secureBERT_50-{count}.xlsx'\n",
    "    labels_filename = f'mapped_true_predicted_labels-secureBERT_50-{count}.xlsx'\n",
    "    \n",
    "    report_path = os.path.join(report_folder, report_filename)\n",
    "    labels_path = os.path.join(report_folder, labels_filename)\n",
    "    \n",
    "    if not os.path.exists(report_path) and not os.path.exists(labels_path):\n",
    "        break\n",
    "    count += 1\n",
    "\n",
    "    \n",
    "report_df.to_excel(report_path, index_label='Label')\n",
    "\n",
    "mapped_labels_df = pd.DataFrame({'true_label': mapped_true_labels, 'predicted_label': mapped_predicted_labels})\n",
    "mapped_labels_df.to_excel(labels_path, index=False)\n",
    "\n",
    "add_log_msg(f\"report path: {report_path}\")\n",
    "add_log_msg(f\"label path: {labels_path}\")\n",
    "\n",
    "mapped_report = classification_report(mapped_true_labels, mapped_predicted_labels)\n",
    "add_log_msg(f\"mapped_report:\\n{mapped_report}\")"
   ]
  },
  {
   "cell_type": "code",
   "execution_count": null,
   "metadata": {},
   "outputs": [],
   "source": []
  },
  {
   "cell_type": "code",
   "execution_count": null,
   "metadata": {},
   "outputs": [],
   "source": []
  }
 ],
 "metadata": {
  "kernelspec": {
   "display_name": "Python 3",
   "language": "python",
   "name": "python3"
  },
  "language_info": {
   "codemirror_mode": {
    "name": "ipython",
    "version": 3
   },
   "file_extension": ".py",
   "mimetype": "text/x-python",
   "name": "python",
   "nbconvert_exporter": "python",
   "pygments_lexer": "ipython3",
   "version": "3.6.9"
  }
 },
 "nbformat": 4,
 "nbformat_minor": 2
}
