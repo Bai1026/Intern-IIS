{
 "cells": [
  {
   "cell_type": "markdown",
   "metadata": {},
   "source": [
    "# Test of GAT\n",
    "- use DGL\n",
    "- large repeating time\n",
    "- training data overlap with the validation and testing\n",
    "- test the performance of remembering the dataset"
   ]
  },
  {
   "cell_type": "code",
   "execution_count": 9,
   "metadata": {},
   "outputs": [],
   "source": [
    "import dgl\n",
    "import json\n",
    "import torch\n",
    "import torch as th\n",
    "# from tqdm import tqdm\n",
    "from tqdm.notebook import tqdm\n",
    "import torch.nn as nn\n",
    "from dgl.nn import GraphConv, GATConv\n",
    "import torch.nn.functional as F\n",
    "from torch.utils.data import Dataset, DataLoader\n",
    "from transformers import get_linear_schedule_with_warmup"
   ]
  },
  {
   "cell_type": "markdown",
   "metadata": {},
   "source": [
    "- check the GPU and assign the GPU by the best memory usage"
   ]
  },
  {
   "cell_type": "code",
   "execution_count": 10,
   "metadata": {},
   "outputs": [
    {
     "name": "stdout",
     "output_type": "stream",
     "text": [
      "cuda:1\n"
     ]
    }
   ],
   "source": [
    "import subprocess\n",
    "import torch\n",
    "\n",
    "def get_free_gpu():\n",
    "    try:\n",
    "        # Run nvidia-smi command to get GPU details\n",
    "        _output_to_list = lambda x: x.decode('ascii').split('\\n')[:-1]\n",
    "        command = \"nvidia-smi --query-gpu=memory.free --format=csv,nounits,noheader\"\n",
    "        memory_free_info = _output_to_list(subprocess.check_output(command.split())) \n",
    "        memory_free_values = [int(x) for i, x in enumerate(memory_free_info)]\n",
    "        \n",
    "        # Get the GPU with the maximum free memory\n",
    "        best_gpu_id = memory_free_values.index(max(memory_free_values))\n",
    "        return best_gpu_id\n",
    "    except:\n",
    "        # If any exception occurs, default to GPU 0 (this handles cases where nvidia-smi isn't installed)\n",
    "        return 0\n",
    "\n",
    "if torch.cuda.is_available():\n",
    "    # Get the best GPU ID based on free memory and set it\n",
    "    best_gpu_id = get_free_gpu()\n",
    "    device = torch.device(f\"cuda:{best_gpu_id}\")\n",
    "else:\n",
    "    device = torch.device(\"cpu\")\n",
    "    print(\"there's no available GPU\")\n",
    "\n",
    "print(device)\n"
   ]
  },
  {
   "cell_type": "markdown",
   "metadata": {},
   "source": [
    "## Fix the seed"
   ]
  },
  {
   "cell_type": "code",
   "execution_count": 11,
   "metadata": {},
   "outputs": [],
   "source": [
    "import numpy as np\n",
    "import torch\n",
    "import random\n",
    "\n",
    "#fix seed\n",
    "def same_seeds(seed = 8787):\n",
    "    torch.manual_seed(seed)\n",
    "    # random.seed(seed) \n",
    "    if torch.cuda.is_available():\n",
    "        torch.cuda.manual_seed(seed)\n",
    "        torch.cuda.manual_seed_all(seed)  \n",
    "    np.random.seed(seed)  \n",
    "    torch.backends.cudnn.benchmark = False\n",
    "    torch.backends.cudnn.deterministic = True"
   ]
  },
  {
   "cell_type": "markdown",
   "metadata": {},
   "source": [
    "## Data Loader"
   ]
  },
  {
   "cell_type": "code",
   "execution_count": 12,
   "metadata": {},
   "outputs": [],
   "source": [
    "class GraphDataset(Dataset):\n",
    "    def __init__(self, data_list, device):\n",
    "        self.data_list = data_list\n",
    "        self.device = device\n",
    "\n",
    "    def __len__(self):\n",
    "        return len(self.data_list)\n",
    "    \n",
    "    def __getitem__(self, idx):\n",
    "        data = self.data_list[idx]\n",
    "\n",
    "        g = dgl.graph((th.tensor(data[\"edge_index\"][0]), th.tensor(data[\"edge_index\"][1])), num_nodes=data[\"num_nodes\"]).to(self.device)\n",
    "\n",
    "        g.ndata['feat'] = th.tensor(data[\"node_feat\"]).to(self.device)\n",
    "        g.edata['feat'] = th.tensor(data[\"edge_attr\"]).to(self.device)  # Add edge features to graph\n",
    "\n",
    "        return g, th.tensor(data[\"label\"]).to(self.device)\n",
    "\n",
    "\n",
    "def collate(samples):\n",
    "    # The input `samples` is a list of pairs\n",
    "    #  (graph, label).\n",
    "    graphs, labels = map(list, zip(*samples))\n",
    "    batched_graph = dgl.batch(graphs)\n",
    "    return batched_graph, torch.tensor(labels)\n"
   ]
  },
  {
   "cell_type": "code",
   "execution_count": 13,
   "metadata": {},
   "outputs": [
    {
     "data": {
      "application/vnd.jupyter.widget-view+json": {
       "model_id": "2892e7ce6ddf4c0395e6f7a9a21a3725",
       "version_major": 2,
       "version_minor": 0
      },
      "text/plain": [
       "  0%|          | 0/3 [00:00<?, ?it/s]"
      ]
     },
     "metadata": {},
     "output_type": "display_data"
    },
    {
     "name": "stdout",
     "output_type": "stream",
     "text": [
      "../../data_processing/dgl/data/test_graph/repeated_train.jsonl\n"
     ]
    },
    {
     "data": {
      "application/vnd.jupyter.widget-view+json": {
       "model_id": "123f8858f6734479a438c08639866884",
       "version_major": 2,
       "version_minor": 0
      },
      "text/plain": [
       "0it [00:00, ?it/s]"
      ]
     },
     "metadata": {},
     "output_type": "display_data"
    },
    {
     "name": "stderr",
     "output_type": "stream",
     "text": [
      "\r",
      "15736it [00:30, 1851.24it/s]"
     ]
    },
    {
     "name": "stdout",
     "output_type": "stream",
     "text": [
      "../../data_processing/dgl/data/test_graph/repeated_valid.jsonl\n"
     ]
    },
    {
     "data": {
      "application/vnd.jupyter.widget-view+json": {
       "model_id": "90f463fcad3c4577843497fba0899ba7",
       "version_major": 2,
       "version_minor": 0
      },
      "text/plain": [
       "0it [00:00, ?it/s]"
      ]
     },
     "metadata": {},
     "output_type": "display_data"
    },
    {
     "name": "stdout",
     "output_type": "stream",
     "text": [
      "../../data_processing/dgl/data/test_graph/repeated_test.jsonl\n"
     ]
    },
    {
     "data": {
      "application/vnd.jupyter.widget-view+json": {
       "model_id": "d7d708ba6b1c40cc9f33a8bb71303074",
       "version_major": 2,
       "version_minor": 0
      },
      "text/plain": [
       "0it [00:00, ?it/s]"
      ]
     },
     "metadata": {},
     "output_type": "display_data"
    },
    {
     "name": "stdout",
     "output_type": "stream",
     "text": [
      "Datasets loaded!\n"
     ]
    }
   ],
   "source": [
    "datasets = ['train', 'valid', 'test']\n",
    "dataset_data = {}\n",
    "\n",
    "for dataset_name in tqdm(datasets):\n",
    "    file_path = f\"../../data_processing/dgl/data/test_graph/repeated_{dataset_name}.jsonl\"\n",
    "    \n",
    "    print(file_path)\n",
    "    with open(file_path) as f:\n",
    "        data_list = [json.loads(line) for line in tqdm(f, position=0, leave=True)]\n",
    "    \n",
    "    dataset_data[dataset_name] = GraphDataset(data_list, device)\n",
    "\n",
    "print(\"Datasets loaded!\")"
   ]
  },
  {
   "cell_type": "markdown",
   "metadata": {},
   "source": [
    "- choose batch size"
   ]
  },
  {
   "cell_type": "code",
   "execution_count": 14,
   "metadata": {},
   "outputs": [],
   "source": [
    "def create_dataloaders(batch_size, shuffle=True):\n",
    "    dataloaders = {}\n",
    "    for dataset_name, dataset in dataset_data.items():\n",
    "        dataloaders[dataset_name] = DataLoader(dataset, batch_size=batch_size, shuffle=shuffle, collate_fn=collate)\n",
    "    return dataloaders\n",
    "\n",
    "dataloaders = create_dataloaders(4)\n",
    "# dataloaders = create_dataloaders(16)"
   ]
  },
  {
   "cell_type": "markdown",
   "metadata": {},
   "source": [
    "- Add to log file"
   ]
  },
  {
   "cell_type": "code",
   "execution_count": 15,
   "metadata": {},
   "outputs": [
    {
     "name": "stdout",
     "output_type": "stream",
     "text": [
      "../log_message/0816_15:56_GAT_data_graph.log\n"
     ]
    }
   ],
   "source": [
    "import datetime\n",
    "\n",
    "now = datetime.datetime.now()\n",
    "\n",
    "formatted_time = now.strftime(\"%m%d_%H:%M\")\n",
    "\n",
    "log_file_path = f\"../log_message/{formatted_time}_GAT_repeat.log\"\n",
    "\n",
    "def add_log_msg(msg, log_file_path=log_file_path):\n",
    "    with open(log_file_path, 'a') as f:\n",
    "        f.write(f'{datetime.datetime.now().strftime(\"%m/%d/%Y, %H:%M:%S\")}# {msg}\\n')\n",
    "    print(f'{datetime.datetime.now().strftime(\"%m/%d/%Y, %H:%M:%S\")}# {msg}')\n",
    "\n",
    "print(log_file_path)"
   ]
  },
  {
   "cell_type": "markdown",
   "metadata": {},
   "source": [
    "### Model"
   ]
  },
  {
   "cell_type": "code",
   "execution_count": 16,
   "metadata": {},
   "outputs": [],
   "source": [
    "class GAT(nn.Module):\n",
    "    def __init__(self, in_dim, hidden_dim, out_dim, num_heads, dropout_prob=0.25):\n",
    "        super(GAT, self).__init__()\n",
    "        \n",
    "        # do not check the zero in_degree since we have all the complete graph\n",
    "        self.layer1 = GATConv(in_dim, hidden_dim, num_heads=num_heads, activation=F.relu, allow_zero_in_degree=True)\n",
    "        self.layer2 = GATConv(hidden_dim * num_heads, out_dim, num_heads=num_heads, allow_zero_in_degree=True)\n",
    "        \n",
    "        # Adding Batch Normalization after each GAT layer\n",
    "        self.batchnorm1 = nn.BatchNorm1d(hidden_dim * num_heads)\n",
    "        self.batchnorm2 = nn.BatchNorm1d(out_dim)\n",
    "        \n",
    "        # Adding Dropout for regularization\n",
    "        self.dropout = nn.Dropout(dropout_prob)\n",
    "\n",
    "    def forward(self, g, h):\n",
    "        # Apply GAT layers\n",
    "        h = self.layer1(g, h)\n",
    "        h = h.view(h.shape[0], -1)\n",
    "        h = F.relu(h)\n",
    "        h = self.dropout(h)\n",
    "        h = self.layer2(g, h).squeeze(1)\n",
    "        \n",
    "        # Store the output as a new node feature\n",
    "        g.ndata['h_out'] = h\n",
    "\n",
    "        # Use mean pooling to aggregate this new node feature\n",
    "        h_agg = dgl.mean_nodes(g, feat='h_out')\n",
    "        return h_agg\n",
    "\n",
    "    "
   ]
  },
  {
   "cell_type": "markdown",
   "metadata": {},
   "source": [
    "- Model Forward  "
   ]
  },
  {
   "cell_type": "code",
   "execution_count": 17,
   "metadata": {},
   "outputs": [],
   "source": [
    "def model_fn(data, model, criterion, device, count=1, type='train'):\n",
    "    \"\"\"Forward a batch through the model.\"\"\"\n",
    "    batched_g, labels = data\n",
    "    batched_g = batched_g.to(device)\n",
    "    \n",
    "    labels = labels.to(device)\n",
    "    logits = model(batched_g, batched_g.ndata['feat'].float()) # for GAT\n",
    "    logits = logits.mean(dim=1)\n",
    "    \n",
    "    loss = criterion(logits, labels)\n",
    "\n",
    "    # Get the class id with the highest probability\n",
    "    preds = logits.argmax(1)\n",
    "    \n",
    "    # Compute accuracy\n",
    "    accuracy = torch.mean((preds == labels).float())\n",
    "    \n",
    "    if type == 'validation':\n",
    "        add_log_msg(f\"labels of Validation: {labels} {labels.shape}\")\n",
    "        add_log_msg(f\"predicted of Validation: {preds} {preds.shape}\")\n",
    "        \n",
    "    elif type == 'test':\n",
    "        add_log_msg(f\"labels of Test: {labels} {labels.shape}\")\n",
    "        add_log_msg(f\"predicted of Test: {preds} {preds.shape}\")\n",
    "        \n",
    "    if count % 5000 == 0: \n",
    "        add_log_msg(f\"labels of {count}: {labels} {labels.shape}\")\n",
    "        add_log_msg(f\"predicted of {count}: {preds} {preds.shape}\")\n",
    "        \n",
    "    return loss, accuracy, preds"
   ]
  },
  {
   "cell_type": "markdown",
   "metadata": {},
   "source": [
    "### Training"
   ]
  },
  {
   "cell_type": "markdown",
   "metadata": {},
   "source": [
    "- Fix the seed and save the model.state_dict that contains the initial weight"
   ]
  },
  {
   "cell_type": "code",
   "execution_count": 18,
   "metadata": {},
   "outputs": [],
   "source": [
    "seed = 8787\n",
    "same_seeds(seed)\n",
    "\n",
    "model = GAT(in_dim=50, hidden_dim=16, out_dim=168, num_heads=8)\n",
    "torch.save(model.state_dict(), 'model1_initial/initial_weight.pth')"
   ]
  },
  {
   "cell_type": "code",
   "execution_count": 19,
   "metadata": {},
   "outputs": [
    {
     "data": {
      "text/plain": [
       "Parameter containing:\n",
       "tensor([[-0.1806, -0.0598,  0.0091,  ...,  0.0719,  0.2496,  0.0873],\n",
       "        [ 0.1694, -0.0015, -0.0139,  ...,  0.0147,  0.0892,  0.0146],\n",
       "        [ 0.0969, -0.0595, -0.0115,  ..., -0.0474,  0.0529, -0.0565],\n",
       "        ...,\n",
       "        [-0.0433, -0.2248,  0.3002,  ...,  0.0850,  0.1621,  0.0422],\n",
       "        [ 0.2097, -0.2492,  0.0612,  ..., -0.0041,  0.0365, -0.1483],\n",
       "        [ 0.0971, -0.2221,  0.1652,  ..., -0.1312, -0.2610,  0.0077]],\n",
       "       requires_grad=True)"
      ]
     },
     "execution_count": 19,
     "metadata": {},
     "output_type": "execute_result"
    }
   ],
   "source": [
    "model.layer1.fc.weight"
   ]
  },
  {
   "cell_type": "markdown",
   "metadata": {},
   "source": [
    "- Check if model really load the model_dict"
   ]
  },
  {
   "cell_type": "code",
   "execution_count": 20,
   "metadata": {},
   "outputs": [
    {
     "data": {
      "text/plain": [
       "Parameter containing:\n",
       "tensor([[-0.1806, -0.0598,  0.0091,  ...,  0.0719,  0.2496,  0.0873],\n",
       "        [ 0.1694, -0.0015, -0.0139,  ...,  0.0147,  0.0892,  0.0146],\n",
       "        [ 0.0969, -0.0595, -0.0115,  ..., -0.0474,  0.0529, -0.0565],\n",
       "        ...,\n",
       "        [-0.0433, -0.2248,  0.3002,  ...,  0.0850,  0.1621,  0.0422],\n",
       "        [ 0.2097, -0.2492,  0.0612,  ..., -0.0041,  0.0365, -0.1483],\n",
       "        [ 0.0971, -0.2221,  0.1652,  ..., -0.1312, -0.2610,  0.0077]],\n",
       "       requires_grad=True)"
      ]
     },
     "execution_count": 20,
     "metadata": {},
     "output_type": "execute_result"
    }
   ],
   "source": [
    "model = GAT(in_dim=50, hidden_dim=16, out_dim=168, num_heads=8)\n",
    "model.load_state_dict(torch.load('model1_initial/initial_weight.pth'))\n",
    "model.layer1.fc.weight"
   ]
  },
  {
   "cell_type": "markdown",
   "metadata": {},
   "source": [
    "- 51 APs x 20000 times and batch size = 4"
   ]
  },
  {
   "cell_type": "code",
   "execution_count": null,
   "metadata": {},
   "outputs": [
    {
     "name": "stderr",
     "output_type": "stream",
     "text": [
      "100%|██████████| 255000/255000 [1:21:44<00:00, 51.99it/s]\n",
      " 20%|██        | 1/5 [1:21:45<5:27:00, 4905.01s/it]"
     ]
    },
    {
     "name": "stdout",
     "output_type": "stream",
     "text": [
      "total count: 255000\n",
      "Epoch 0 | Train Loss: 1.2472 | Train Accuracy: 0.6397\n",
      "Validation Loss: 0.9132 | Validation Accuracy: 0.6923\n"
     ]
    },
    {
     "name": "stderr",
     "output_type": "stream",
     "text": [
      "100%|██████████| 255000/255000 [1:25:03<00:00, 49.96it/s] \n",
      " 40%|████      | 2/5 [2:46:49<4:11:06, 5022.08s/it]"
     ]
    },
    {
     "name": "stdout",
     "output_type": "stream",
     "text": [
      "total count: 255000\n",
      "Epoch 1 | Train Loss: 0.8826 | Train Accuracy: 0.7073\n",
      "Validation Loss: 0.8933 | Validation Accuracy: 0.6923\n"
     ]
    },
    {
     "name": "stderr",
     "output_type": "stream",
     "text": [
      "100%|██████████| 255000/255000 [1:26:06<00:00, 49.36it/s] \n",
      " 60%|██████    | 3/5 [4:12:55<2:49:36, 5088.05s/it]"
     ]
    },
    {
     "name": "stdout",
     "output_type": "stream",
     "text": [
      "total count: 255000\n",
      "Epoch 2 | Train Loss: 0.8555 | Train Accuracy: 0.7116\n",
      "Validation Loss: 0.8860 | Validation Accuracy: 0.6923\n"
     ]
    },
    {
     "name": "stderr",
     "output_type": "stream",
     "text": [
      "100%|██████████| 255000/255000 [1:26:43<00:00, 49.00it/s] \n",
      " 80%|████████  | 4/5 [5:39:39<1:25:33, 5133.80s/it]"
     ]
    },
    {
     "name": "stdout",
     "output_type": "stream",
     "text": [
      "total count: 255000\n",
      "Epoch 3 | Train Loss: 0.8456 | Train Accuracy: 0.7129\n",
      "Validation Loss: 0.8838 | Validation Accuracy: 0.6923\n"
     ]
    },
    {
     "name": "stderr",
     "output_type": "stream",
     "text": [
      " 87%|████████▋ | 221687/255000 [1:14:22<11:20, 48.93it/s] "
     ]
    }
   ],
   "source": [
    "seed = 8787\n",
    "same_seeds(seed)\n",
    "\n",
    "model = GAT(in_dim=50, hidden_dim=16, out_dim=168, num_heads=8)\n",
    "# in_dim means the dimension of the node_feat(50 dim, since the 50-dim embedding)\n",
    "# out_dim means the # of the categories -> 168 for out tasks\n",
    "model.load_state_dict(torch.load('model1_initial/initial_weight.pth'))\n",
    "\n",
    "model = model.to(device)\n",
    "\n",
    "optimizer = torch.optim.AdamW(model.parameters(), lr=2e-4)\n",
    "# scheduler = get_linear_schedule_with_warmup(optimizer, num_warmup_steps=100, num_training_steps=total_steps)\n",
    "\n",
    "criterion = nn.CrossEntropyLoss()\n",
    "total_steps = 12\n",
    "\n",
    "\n",
    "# Training Part\n",
    "for epoch in tqdm(range(total_steps)):\n",
    "    # Train\n",
    "    model.train()\n",
    "    total_loss = 0.0\n",
    "    total_accuracy = 0.0\n",
    "    num_batches = 0\n",
    "    \n",
    "    count = 0 \n",
    "    \n",
    "    for data in tqdm(dataloaders['train'], position=0, leave=True):\n",
    "        \n",
    "        count += 1\n",
    "        loss, accuracy, _ = model_fn(data, model, criterion, device, count)\n",
    "        \n",
    "        optimizer.zero_grad()\n",
    "        loss.backward()\n",
    "        optimizer.step()\n",
    "\n",
    "        total_loss += loss.item()\n",
    "        total_accuracy += accuracy.item()\n",
    "        num_batches += 1\n",
    "        \n",
    "#     scheduler.step()\n",
    "    print(f\"total count: {count}\")\n",
    "    \n",
    "    avg_loss = total_loss / num_batches\n",
    "    avg_accuracy = total_accuracy / num_batches\n",
    "\n",
    "    print(f'Epoch {epoch} | Train Loss: {avg_loss:.4f} | Train Accuracy: {avg_accuracy:.4f}')\n",
    "\n",
    "    # Validation Part\n",
    "    model.eval()\n",
    "    total_accuracy = 0.0\n",
    "    total_loss = 0.0\n",
    "    num_batches = 0\n",
    "\n",
    "    with torch.no_grad():\n",
    "        for batched_g in dataloaders['valid']:\n",
    "            loss, accuracy, _ = model_fn(batched_g, model, criterion, device)\n",
    "            total_accuracy += accuracy.item()\n",
    "            total_loss += loss.item()\n",
    "            num_batches += 1\n",
    "\n",
    "    avg_accuracy = total_accuracy / num_batches\n",
    "    avg_loss = total_loss / num_batches\n",
    "    print(f'Validation Loss: {avg_loss:.4f} | Validation Accuracy: {avg_accuracy:.4f}')\n",
    "\n",
    "\n",
    "    # Save checkpoint\n",
    "    if epoch%20 == 0:\n",
    "        torch.save({\n",
    "                'epoch': epoch,\n",
    "                'model_state_dict': model.state_dict(),\n",
    "                'optimizer_state_dict': optimizer.state_dict(),\n",
    "                'loss': loss,\n",
    "                }, f\"../checkpoint_GAT/checkpoint_{epoch}.pt\")\n",
    "    \n",
    "\n",
    "# Testing Part\n",
    "model.eval()\n",
    "total = 0\n",
    "correct = 0\n",
    "\n",
    "with torch.no_grad():\n",
    "    for data in dataloaders['test']:\n",
    "        loss, accuracy, predicted = model_fn(data, model, criterion, device)\n",
    "        labels = data[1].to(device)  # Assuming labels are the second element in the tuple\n",
    "        \n",
    "        print(f\"labels: {labels}\", labels.shape)\n",
    "        print(f\"predicted: {predicted}\", predicted.shape)\n",
    "        \n",
    "        total += labels.size(0) # label.size(0) is the batch size\n",
    "        correct += (predicted == labels).sum().item() \n",
    "        # (predicted == labels).sum() would return how many of them are equal; \n",
    "        # .item() would make the tensor to the regular value\n",
    "        \n",
    "    print('Test Accuracy: %d %%' % (100 * correct / total))"
   ]
  },
  {
   "cell_type": "markdown",
   "metadata": {},
   "source": [
    "- 69APs + 20benign x 10000 times in training\n",
    "- 69APs + 20benign in validation and testing\n",
    "- batch size = 4\n",
    "- larger lr and not using scheduler"
   ]
  },
  {
   "cell_type": "code",
   "execution_count": null,
   "metadata": {},
   "outputs": [
    {
     "data": {
      "application/vnd.jupyter.widget-view+json": {
       "model_id": "733b996ab72e40e29a1458a3cc5b1282",
       "version_major": 2,
       "version_minor": 0
      },
      "text/plain": [
       "  0%|          | 0/180 [00:00<?, ?it/s]"
      ]
     },
     "metadata": {},
     "output_type": "display_data"
    },
    {
     "data": {
      "application/vnd.jupyter.widget-view+json": {
       "model_id": "4c8b3549104e4e36a6efd2e57ff0040d",
       "version_major": 2,
       "version_minor": 0
      },
      "text/plain": [
       "Training:   0%|          | 0/222500 [00:00<?, ?it/s]"
      ]
     },
     "metadata": {},
     "output_type": "display_data"
    },
    {
     "name": "stdout",
     "output_type": "stream",
     "text": [
      "08/16/2023, 15:58:25# labels of 5000: tensor([32, 32,  0,  0], device='cuda:1') torch.Size([4])\n",
      "08/16/2023, 15:58:25# predicted of 5000: tensor([0, 0, 0, 0], device='cuda:1') torch.Size([4])\n",
      "08/16/2023, 15:59:56# labels of 10000: tensor([30, 70, 30,  6], device='cuda:1') torch.Size([4])\n",
      "08/16/2023, 15:59:56# predicted of 10000: tensor([0, 0, 0, 0], device='cuda:1') torch.Size([4])\n",
      "08/16/2023, 16:01:28# labels of 15000: tensor([66, 57, 66, 32], device='cuda:1') torch.Size([4])\n",
      "08/16/2023, 16:01:28# predicted of 15000: tensor([0, 0, 0, 0], device='cuda:1') torch.Size([4])\n",
      "08/16/2023, 16:02:54# labels of 20000: tensor([ 19, 128,  60,  31], device='cuda:1') torch.Size([4])\n",
      "08/16/2023, 16:02:54# predicted of 20000: tensor([  0, 122,  60,   0], device='cuda:1') torch.Size([4])\n",
      "08/16/2023, 16:04:31# labels of 25000: tensor([  0,  66, 132,  31], device='cuda:1') torch.Size([4])\n",
      "08/16/2023, 16:04:31# predicted of 25000: tensor([  0, 122,   0,   0], device='cuda:1') torch.Size([4])\n",
      "08/16/2023, 16:05:56# labels of 30000: tensor([123,   6,   0, 128], device='cuda:1') torch.Size([4])\n",
      "08/16/2023, 16:05:56# predicted of 30000: tensor([  0,   0,   0, 128], device='cuda:1') torch.Size([4])\n",
      "08/16/2023, 16:07:29# labels of 35000: tensor([ 0, 63, 64, 15], device='cuda:1') torch.Size([4])\n",
      "08/16/2023, 16:07:29# predicted of 35000: tensor([0, 0, 0, 0], device='cuda:1') torch.Size([4])\n",
      "08/16/2023, 16:08:56# labels of 40000: tensor([  0, 121, 131,   0], device='cuda:1') torch.Size([4])\n",
      "08/16/2023, 16:08:56# predicted of 40000: tensor([  0, 121,   0,   0], device='cuda:1') torch.Size([4])\n",
      "08/16/2023, 16:10:20# labels of 45000: tensor([  6, 123, 145,   2], device='cuda:1') torch.Size([4])\n",
      "08/16/2023, 16:10:20# predicted of 45000: tensor([  0, 122, 145,   0], device='cuda:1') torch.Size([4])\n",
      "08/16/2023, 16:11:26# labels of 50000: tensor([ 63, 137,   0,  62], device='cuda:1') torch.Size([4])\n",
      "08/16/2023, 16:11:26# predicted of 50000: tensor([  0, 137,   0,   0], device='cuda:1') torch.Size([4])\n",
      "08/16/2023, 16:12:57# labels of 55000: tensor([2, 0, 0, 0], device='cuda:1') torch.Size([4])\n",
      "08/16/2023, 16:12:57# predicted of 55000: tensor([128,   0,   0,   0], device='cuda:1') torch.Size([4])\n",
      "08/16/2023, 16:14:12# labels of 60000: tensor([ 0, 58, 70, 83], device='cuda:1') torch.Size([4])\n",
      "08/16/2023, 16:14:12# predicted of 60000: tensor([0, 0, 0, 0], device='cuda:1') torch.Size([4])\n",
      "08/16/2023, 16:15:22# labels of 65000: tensor([  6, 120, 118,   2], device='cuda:1') torch.Size([4])\n",
      "08/16/2023, 16:15:22# predicted of 65000: tensor([  0, 120, 118,   2], device='cuda:1') torch.Size([4])\n",
      "08/16/2023, 16:16:34# labels of 70000: tensor([120,  57,  65, 132], device='cuda:1') torch.Size([4])\n",
      "08/16/2023, 16:16:34# predicted of 70000: tensor([120,   0,   0,   0], device='cuda:1') torch.Size([4])\n",
      "08/16/2023, 16:17:52# labels of 75000: tensor([125,   0,   8,   8], device='cuda:1') torch.Size([4])\n",
      "08/16/2023, 16:17:52# predicted of 75000: tensor([118,   0,   0,   0], device='cuda:1') torch.Size([4])\n",
      "08/16/2023, 16:19:01# labels of 80000: tensor([  0, 137,  30,  62], device='cuda:1') torch.Size([4])\n",
      "08/16/2023, 16:19:01# predicted of 80000: tensor([  0, 137,   0,   0], device='cuda:1') torch.Size([4])\n",
      "08/16/2023, 16:20:05# labels of 85000: tensor([ 59, 123,  74,   0], device='cuda:1') torch.Size([4])\n",
      "08/16/2023, 16:20:05# predicted of 85000: tensor([  0, 123,  74,   0], device='cuda:1') torch.Size([4])\n",
      "08/16/2023, 16:21:26# labels of 90000: tensor([66, 83,  0, 62], device='cuda:1') torch.Size([4])\n",
      "08/16/2023, 16:21:26# predicted of 90000: tensor([66,  0,  0,  0], device='cuda:1') torch.Size([4])\n",
      "08/16/2023, 16:22:30# labels of 95000: tensor([62,  0,  0, 22], device='cuda:1') torch.Size([4])\n",
      "08/16/2023, 16:22:30# predicted of 95000: tensor([ 0,  0,  0, 22], device='cuda:1') torch.Size([4])\n",
      "08/16/2023, 16:23:33# labels of 100000: tensor([ 17, 139,  75, 128], device='cuda:1') torch.Size([4])\n",
      "08/16/2023, 16:23:33# predicted of 100000: tensor([ 17,   0,  75, 128], device='cuda:1') torch.Size([4])\n",
      "08/16/2023, 16:24:37# labels of 105000: tensor([  0,  15,   0, 129], device='cuda:1') torch.Size([4])\n",
      "08/16/2023, 16:24:37# predicted of 105000: tensor([0, 0, 0, 0], device='cuda:1') torch.Size([4])\n",
      "08/16/2023, 16:26:05# labels of 110000: tensor([127,  74,  74, 123], device='cuda:1') torch.Size([4])\n",
      "08/16/2023, 16:26:05# predicted of 110000: tensor([127,  74,  74, 123], device='cuda:1') torch.Size([4])\n",
      "08/16/2023, 16:27:32# labels of 115000: tensor([122, 167,   0,  39], device='cuda:1') torch.Size([4])\n",
      "08/16/2023, 16:27:32# predicted of 115000: tensor([122,   0,   0,   0], device='cuda:1') torch.Size([4])\n",
      "08/16/2023, 16:29:05# labels of 120000: tensor([  8, 130,  65,  58], device='cuda:1') torch.Size([4])\n",
      "08/16/2023, 16:29:05# predicted of 120000: tensor([  8, 130,   0,   0], device='cuda:1') torch.Size([4])\n",
      "08/16/2023, 16:30:33# labels of 125000: tensor([ 28,  16, 139, 126], device='cuda:1') torch.Size([4])\n",
      "08/16/2023, 16:30:33# predicted of 125000: tensor([ 28,   0,   0, 126], device='cuda:1') torch.Size([4])\n",
      "08/16/2023, 16:32:04# labels of 130000: tensor([17, 41, 15, 65], device='cuda:1') torch.Size([4])\n",
      "08/16/2023, 16:32:04# predicted of 130000: tensor([17,  0,  0,  0], device='cuda:1') torch.Size([4])\n",
      "08/16/2023, 16:33:33# labels of 135000: tensor([ 11,  67, 133, 167], device='cuda:1') torch.Size([4])\n",
      "08/16/2023, 16:33:33# predicted of 135000: tensor([  0,  68, 133,   0], device='cuda:1') torch.Size([4])\n",
      "08/16/2023, 16:35:03# labels of 140000: tensor([0, 5, 8, 0], device='cuda:1') torch.Size([4])\n",
      "08/16/2023, 16:35:03# predicted of 140000: tensor([0, 0, 8, 0], device='cuda:1') torch.Size([4])\n",
      "08/16/2023, 16:36:27# labels of 145000: tensor([  0,   3,  15, 117], device='cuda:1') torch.Size([4])\n",
      "08/16/2023, 16:36:27# predicted of 145000: tensor([  0,   0,   0, 117], device='cuda:1') torch.Size([4])\n",
      "08/16/2023, 16:38:00# labels of 150000: tensor([ 58,  57, 137,  58], device='cuda:1') torch.Size([4])\n",
      "08/16/2023, 16:38:00# predicted of 150000: tensor([  0,   0, 137,   0], device='cuda:1') torch.Size([4])\n",
      "08/16/2023, 16:39:39# labels of 155000: tensor([ 60, 121, 120, 118], device='cuda:1') torch.Size([4])\n",
      "08/16/2023, 16:39:39# predicted of 155000: tensor([ 60, 121, 120, 118], device='cuda:1') torch.Size([4])\n",
      "08/16/2023, 16:41:12# labels of 160000: tensor([ 15, 120,   0, 145], device='cuda:1') torch.Size([4])\n",
      "08/16/2023, 16:41:12# predicted of 160000: tensor([  0, 120,   0, 145], device='cuda:1') torch.Size([4])\n",
      "08/16/2023, 16:42:53# labels of 165000: tensor([64, 63, 11,  0], device='cuda:1') torch.Size([4])\n",
      "08/16/2023, 16:42:53# predicted of 165000: tensor([0, 0, 0, 0], device='cuda:1') torch.Size([4])\n",
      "08/16/2023, 16:44:33# labels of 170000: tensor([131,   0, 139, 132], device='cuda:1') torch.Size([4])\n",
      "08/16/2023, 16:44:33# predicted of 170000: tensor([0, 0, 0, 0], device='cuda:1') torch.Size([4])\n",
      "08/16/2023, 16:46:13# labels of 175000: tensor([ 64, 121, 120,   6], device='cuda:1') torch.Size([4])\n",
      "08/16/2023, 16:46:13# predicted of 175000: tensor([  0, 121, 120,   0], device='cuda:1') torch.Size([4])\n",
      "08/16/2023, 16:47:54# labels of 180000: tensor([22,  0, 91, 19], device='cuda:1') torch.Size([4])\n",
      "08/16/2023, 16:47:54# predicted of 180000: tensor([22,  0, 91, 19], device='cuda:1') torch.Size([4])\n",
      "08/16/2023, 16:49:20# labels of 185000: tensor([147,   3, 127, 147], device='cuda:1') torch.Size([4])\n",
      "08/16/2023, 16:49:20# predicted of 185000: tensor([147,   0, 127, 147], device='cuda:1') torch.Size([4])\n",
      "08/16/2023, 16:50:35# labels of 190000: tensor([135,  16,   0, 137], device='cuda:1') torch.Size([4])\n",
      "08/16/2023, 16:50:35# predicted of 190000: tensor([135,   0,   0, 137], device='cuda:1') torch.Size([4])\n",
      "08/16/2023, 16:52:12# labels of 195000: tensor([135,   0,  91, 139], device='cuda:1') torch.Size([4])\n",
      "08/16/2023, 16:52:12# predicted of 195000: tensor([135,   0,  91,   0], device='cuda:1') torch.Size([4])\n",
      "08/16/2023, 16:53:33# labels of 200000: tensor([ 22,  74, 131,  39], device='cuda:1') torch.Size([4])\n",
      "08/16/2023, 16:53:33# predicted of 200000: tensor([22, 74,  0,  0], device='cuda:1') torch.Size([4])\n",
      "08/16/2023, 16:54:51# labels of 205000: tensor([118,  41, 121,  41], device='cuda:1') torch.Size([4])\n",
      "08/16/2023, 16:54:51# predicted of 205000: tensor([118,   0, 121,   0], device='cuda:1') torch.Size([4])\n"
     ]
    },
    {
     "name": "stdout",
     "output_type": "stream",
     "text": [
      "08/16/2023, 16:56:29# labels of 210000: tensor([ 0, 30, 10,  0], device='cuda:1') torch.Size([4])\n",
      "08/16/2023, 16:56:29# predicted of 210000: tensor([0, 0, 0, 0], device='cuda:1') torch.Size([4])\n",
      "08/16/2023, 16:58:03# labels of 215000: tensor([118,   0, 125,  32], device='cuda:1') torch.Size([4])\n",
      "08/16/2023, 16:58:03# predicted of 215000: tensor([118,   0, 125,   0], device='cuda:1') torch.Size([4])\n",
      "08/16/2023, 16:59:42# labels of 220000: tensor([  0,  63, 118,  83], device='cuda:1') torch.Size([4])\n",
      "08/16/2023, 16:59:42# predicted of 220000: tensor([  0,   0, 118,   0], device='cuda:1') torch.Size([4])\n",
      "08/16/2023, 17:00:33# total count: 222500\n",
      "08/16/2023, 17:00:33# Epoch 0 | Train Loss: 1.8391 | Train Accuracy: 0.5956\n",
      "08/16/2023, 17:00:33# labels of False: tensor([128,  91,  39,   0], device='cuda:1') torch.Size([4])\n",
      "08/16/2023, 17:00:33# predicted of False: tensor([128,  91,   0,   0], device='cuda:1') torch.Size([4])\n",
      "08/16/2023, 17:00:33# labels of False: tensor([  8, 117,  63,  74], device='cuda:1') torch.Size([4])\n",
      "08/16/2023, 17:00:33# predicted of False: tensor([  8, 117,   0,  74], device='cuda:1') torch.Size([4])\n",
      "08/16/2023, 17:00:33# labels of False: tensor([145, 125, 167,  67], device='cuda:1') torch.Size([4])\n",
      "08/16/2023, 17:00:33# predicted of False: tensor([145, 125,   0,  67], device='cuda:1') torch.Size([4])\n",
      "08/16/2023, 17:00:33# labels of False: tensor([  0,   0, 120,  68], device='cuda:1') torch.Size([4])\n",
      "08/16/2023, 17:00:33# predicted of False: tensor([  0,   0, 120,  68], device='cuda:1') torch.Size([4])\n",
      "08/16/2023, 17:00:33# labels of False: tensor([  0,   6,   0, 118], device='cuda:1') torch.Size([4])\n",
      "08/16/2023, 17:00:33# predicted of False: tensor([  0,   0,   0, 118], device='cuda:1') torch.Size([4])\n",
      "08/16/2023, 17:00:33# labels of False: tensor([ 11,  69,   0, 124], device='cuda:1') torch.Size([4])\n",
      "08/16/2023, 17:00:33# predicted of False: tensor([ 0, 69,  0,  0], device='cuda:1') torch.Size([4])\n",
      "08/16/2023, 17:00:33# labels of False: tensor([17, 10, 32,  0], device='cuda:1') torch.Size([4])\n",
      "08/16/2023, 17:00:33# predicted of False: tensor([17,  0,  0,  0], device='cuda:1') torch.Size([4])\n",
      "08/16/2023, 17:00:33# labels of False: tensor([146,   0,   0,  28], device='cuda:1') torch.Size([4])\n",
      "08/16/2023, 17:00:33# predicted of False: tensor([146,   0,   0,  28], device='cuda:1') torch.Size([4])\n",
      "08/16/2023, 17:00:33# labels of False: tensor([  0,   0, 132,  30], device='cuda:1') torch.Size([4])\n",
      "08/16/2023, 17:00:33# predicted of False: tensor([0, 0, 0, 0], device='cuda:1') torch.Size([4])\n",
      "08/16/2023, 17:00:33# labels of False: tensor([19, 57,  3, 75], device='cuda:1') torch.Size([4])\n",
      "08/16/2023, 17:00:33# predicted of False: tensor([19,  0,  0, 75], device='cuda:1') torch.Size([4])\n",
      "08/16/2023, 17:00:33# labels of False: tensor([  9, 127, 129,  22], device='cuda:1') torch.Size([4])\n",
      "08/16/2023, 17:00:33# predicted of False: tensor([  9, 127,   0,  22], device='cuda:1') torch.Size([4])\n",
      "08/16/2023, 17:00:33# labels of False: tensor([128, 121,  66, 147], device='cuda:1') torch.Size([4])\n",
      "08/16/2023, 17:00:33# predicted of False: tensor([128, 121,  66, 147], device='cuda:1') torch.Size([4])\n",
      "08/16/2023, 17:00:33# labels of False: tensor([ 0, 31, 58,  0], device='cuda:1') torch.Size([4])\n",
      "08/16/2023, 17:00:33# predicted of False: tensor([0, 0, 0, 0], device='cuda:1') torch.Size([4])\n",
      "08/16/2023, 17:00:33# labels of False: tensor([120,  59, 122, 135], device='cuda:1') torch.Size([4])\n",
      "08/16/2023, 17:00:33# predicted of False: tensor([120,   0, 122, 135], device='cuda:1') torch.Size([4])\n",
      "08/16/2023, 17:00:33# labels of False: tensor([ 62, 139,  65, 133], device='cuda:1') torch.Size([4])\n",
      "08/16/2023, 17:00:33# predicted of False: tensor([  0,   0,   0, 133], device='cuda:1') torch.Size([4])\n",
      "08/16/2023, 17:00:33# labels of False: tensor([15,  2,  0,  4], device='cuda:1') torch.Size([4])\n",
      "08/16/2023, 17:00:33# predicted of False: tensor([0, 2, 0, 4], device='cuda:1') torch.Size([4])\n",
      "08/16/2023, 17:00:33# labels of False: tensor([  0,  61, 123,   5], device='cuda:1') torch.Size([4])\n",
      "08/16/2023, 17:00:33# predicted of False: tensor([  0,   0, 123,   0], device='cuda:1') torch.Size([4])\n",
      "08/16/2023, 17:00:33# labels of False: tensor([  0,  41,  60, 126], device='cuda:1') torch.Size([4])\n",
      "08/16/2023, 17:00:33# predicted of False: tensor([  0,   0,  60, 126], device='cuda:1') torch.Size([4])\n",
      "08/16/2023, 17:00:33# labels of False: tensor([16, 64,  0,  0], device='cuda:1') torch.Size([4])\n",
      "08/16/2023, 17:00:33# predicted of False: tensor([0, 0, 0, 0], device='cuda:1') torch.Size([4])\n",
      "08/16/2023, 17:00:33# labels of False: tensor([121, 118, 131,  83], device='cuda:1') torch.Size([4])\n",
      "08/16/2023, 17:00:33# predicted of False: tensor([121, 118,   0,   0], device='cuda:1') torch.Size([4])\n",
      "08/16/2023, 17:00:33# labels of False: tensor([ 70, 130, 137,   1], device='cuda:1') torch.Size([4])\n",
      "08/16/2023, 17:00:33# predicted of False: tensor([  0, 130, 137,   1], device='cuda:1') torch.Size([4])\n",
      "08/16/2023, 17:00:33# labels of False: tensor([  0,   0, 122,   0], device='cuda:1') torch.Size([4])\n",
      "08/16/2023, 17:00:33# predicted of False: tensor([  0,   0, 122,   0], device='cuda:1') torch.Size([4])\n",
      "08/16/2023, 17:00:33# labels of False: tensor([0], device='cuda:1') torch.Size([1])\n",
      "08/16/2023, 17:00:33# predicted of False: tensor([0], device='cuda:1') torch.Size([1])\n",
      "08/16/2023, 17:00:33# Validation Loss: 1.3048 | Validation Accuracy: 0.6957\n",
      "\n"
     ]
    },
    {
     "data": {
      "application/vnd.jupyter.widget-view+json": {
       "model_id": "5a20594e75354f7e95c9b0830b288b18",
       "version_major": 2,
       "version_minor": 0
      },
      "text/plain": [
       "Training:   0%|          | 0/222500 [00:00<?, ?it/s]"
      ]
     },
     "metadata": {},
     "output_type": "display_data"
    }
   ],
   "source": [
    "seed = 8787\n",
    "same_seeds(seed)\n",
    "\n",
    "model = GAT(in_dim=50, hidden_dim=16, out_dim=168, num_heads=8)\n",
    "# in_dim means the dimension of the node_feat(50 dim, since the 50-dim embedding)\n",
    "# out_dim means the # of the categories -> 168 for out tasks\n",
    "model.load_state_dict(torch.load('model1_initial/initial_weight.pth'))\n",
    "\n",
    "model = model.to(device)\n",
    "\n",
    "optimizer = torch.optim.AdamW(model.parameters(), lr=2e-4)\n",
    "# scheduler = get_linear_schedule_with_warmup(optimizer, num_warmup_steps=100, num_training_steps=total_steps)\n",
    "\n",
    "criterion = nn.CrossEntropyLoss()\n",
    "total_steps = 180\n",
    "\n",
    "# save the best model\n",
    "best_val_loss = float('inf')\n",
    "patience = 500  # Number of epochs with no improvement after which training will be stopped.\n",
    "waiting = 0  # The number of epochs with no improvement so far.\n",
    "\n",
    "\n",
    "# Training Part\n",
    "for epoch in tqdm(range(total_steps)):\n",
    "    # Train\n",
    "    model.train()\n",
    "    total_loss = 0.0\n",
    "    total_accuracy = 0.0\n",
    "    num_batches = 0\n",
    "    \n",
    "    count = 0 \n",
    "    \n",
    "    for data in tqdm(dataloaders['train'], desc=\"Training\", position=0, leave=True):\n",
    "        \n",
    "        count += 1\n",
    "        loss, accuracy, _ = model_fn(data, model, criterion, device, count, type='train')\n",
    "        \n",
    "        optimizer.zero_grad()\n",
    "        loss.backward()\n",
    "        optimizer.step()\n",
    "\n",
    "        total_loss += loss.item()\n",
    "        total_accuracy += accuracy.item()\n",
    "        num_batches += 1\n",
    "        \n",
    "#     scheduler.step()\n",
    "    add_log_msg(f\"total count: {count}\")\n",
    "\n",
    "    avg_loss = total_loss / num_batches\n",
    "    avg_accuracy = total_accuracy / num_batches\n",
    "\n",
    "    add_log_msg(f'Epoch {epoch} | Train Loss: {avg_loss:.4f} | Train Accuracy: {avg_accuracy:.4f}')\n",
    "\n",
    "    \n",
    "    # Validation Part\n",
    "    model.eval()\n",
    "    total_accuracy = 0.0\n",
    "    total_loss = 0.0\n",
    "    num_batches = 0\n",
    "\n",
    "    with torch.no_grad():\n",
    "        for batched_g in dataloaders['valid']:\n",
    "            loss, accuracy, _ = model_fn(batched_g, model, criterion, device, type=='validation')\n",
    "            total_accuracy += accuracy.item()\n",
    "            total_loss += loss.item()\n",
    "            num_batches += 1\n",
    "\n",
    "    avg_accuracy = total_accuracy / num_batches\n",
    "    current_loss = total_loss / num_batches\n",
    "    \n",
    "    add_log_msg(f'Validation Loss: {current_loss:.4f} | Validation Accuracy: {avg_accuracy:.4f}\\n')\n",
    "    \n",
    "    \n",
    "    if current_loss < best_val_loss:\n",
    "        best_val_loss = current_loss\n",
    "        waiting = 0\n",
    "        \n",
    "#         torch.save(model.state_dict(), 'best_model.pth')\n",
    "        torch.save({\n",
    "                'epoch': epoch,\n",
    "                'model_state_dict': model.state_dict(),\n",
    "                'optimizer_state_dict': optimizer.state_dict(),\n",
    "                'loss': loss,\n",
    "                }, f\"../checkpoint_GAT/best_model_{epoch}.pt\")\n",
    "    \n",
    "    else:\n",
    "        waiting += 1\n",
    "        if waiting >= patience:\n",
    "            add_log_msg(\"Early stopping\")\n",
    "            break\n",
    "\n",
    "            \n",
    "# Testing Part\n",
    "model.eval()\n",
    "total = 0\n",
    "correct = 0\n",
    "\n",
    "with torch.no_grad():\n",
    "    for data in dataloaders['test']:\n",
    "        loss, accuracy, predicted = model_fn(data, model, criterion, device, type=='test')\n",
    "        labels = data[1].to(device)  # Assuming labels are the second element in the tuple\n",
    "        \n",
    "        add_log_msg(f\"labels: {labels} {labels.shape}\")\n",
    "        add_log_msg(f\"predicted: {predicted} {predicted.shape}\")\n",
    "        \n",
    "        total += labels.size(0) # label.size(0) is the batch size\n",
    "        correct += (predicted == labels).sum().item() \n",
    "        # (predicted == labels).sum() would return how many of them are equal; \n",
    "        # .item() would make the tensor to the regular value\n",
    "        \n",
    "#     print('Test Accuracy: %d %%' % (100 * correct / total))\n",
    "add_log_msg(f'Test Accuracy: {100 * correct / total} %%')"
   ]
  },
  {
   "cell_type": "code",
   "execution_count": null,
   "metadata": {},
   "outputs": [],
   "source": []
  },
  {
   "cell_type": "code",
   "execution_count": null,
   "metadata": {},
   "outputs": [],
   "source": []
  }
 ],
 "metadata": {
  "kernelspec": {
   "display_name": "Python 3",
   "language": "python",
   "name": "python3"
  },
  "language_info": {
   "codemirror_mode": {
    "name": "ipython",
    "version": 3
   },
   "file_extension": ".py",
   "mimetype": "text/x-python",
   "name": "python",
   "nbconvert_exporter": "python",
   "pygments_lexer": "ipython3",
   "version": "3.6.9"
  }
 },
 "nbformat": 4,
 "nbformat_minor": 2
}
