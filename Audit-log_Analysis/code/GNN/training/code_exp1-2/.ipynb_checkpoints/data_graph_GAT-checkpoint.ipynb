{
 "cells": [
  {
   "cell_type": "markdown",
   "metadata": {},
   "source": [
    "# Test of GAT\n",
    "- use DGL\n",
    "- predict `graphs`\n",
    "- test: 0~99\n",
    "- validation: 100~199\n",
    "- train: 200~999"
   ]
  },
  {
   "cell_type": "code",
   "execution_count": 1,
   "metadata": {},
   "outputs": [],
   "source": [
    "import dgl\n",
    "import json\n",
    "import torch\n",
    "import torch as th\n",
    "# from tqdm import tqdm\n",
    "from tqdm.notebook import tqdm  # 使用 notebook 版本的 tqdm\n",
    "import torch.nn as nn\n",
    "from dgl.nn import GraphConv, GATConv\n",
    "import torch.nn.functional as F\n",
    "from torch.utils.data import Dataset, DataLoader\n",
    "from transformers import get_linear_schedule_with_warmup\n",
    "from torch.optim import AdamW"
   ]
  },
  {
   "cell_type": "markdown",
   "metadata": {},
   "source": [
    "- check the GPU and assign the GPU by the best memory usage"
   ]
  },
  {
   "cell_type": "code",
   "execution_count": 2,
   "metadata": {},
   "outputs": [
    {
     "name": "stdout",
     "output_type": "stream",
     "text": [
      "cuda:0\n"
     ]
    }
   ],
   "source": [
    "import subprocess\n",
    "import torch\n",
    "\n",
    "def get_free_gpu():\n",
    "    try:\n",
    "        # Run nvidia-smi command to get GPU details\n",
    "        _output_to_list = lambda x: x.decode('ascii').split('\\n')[:-1]\n",
    "        command = \"nvidia-smi --query-gpu=memory.free --format=csv,nounits,noheader\"\n",
    "        memory_free_info = _output_to_list(subprocess.check_output(command.split())) \n",
    "        memory_free_values = [int(x) for i, x in enumerate(memory_free_info)]\n",
    "        \n",
    "        # Get the GPU with the maximum free memory\n",
    "        best_gpu_id = memory_free_values.index(max(memory_free_values))\n",
    "        return best_gpu_id\n",
    "    except:\n",
    "        # If any exception occurs, default to GPU 0 (this handles cases where nvidia-smi isn't installed)\n",
    "        return 0\n",
    "\n",
    "if torch.cuda.is_available():\n",
    "    # Get the best GPU ID based on free memory and set it\n",
    "    best_gpu_id = get_free_gpu()\n",
    "    device = torch.device(f\"cuda:{best_gpu_id}\")\n",
    "else:\n",
    "    device = torch.device(\"cpu\")\n",
    "    print(\"there's no available GPU\")\n",
    "\n",
    "print(device)\n"
   ]
  },
  {
   "cell_type": "markdown",
   "metadata": {},
   "source": [
    "## Fix the seed"
   ]
  },
  {
   "cell_type": "code",
   "execution_count": 3,
   "metadata": {},
   "outputs": [],
   "source": [
    "import numpy as np\n",
    "import torch\n",
    "import random\n",
    "\n",
    "#fix seed\n",
    "def same_seeds(seed = 8787):\n",
    "    torch.manual_seed(seed)\n",
    "    # random.seed(seed) \n",
    "    if torch.cuda.is_available():\n",
    "        torch.cuda.manual_seed(seed)\n",
    "        torch.cuda.manual_seed_all(seed)  \n",
    "    np.random.seed(seed)  \n",
    "    torch.backends.cudnn.benchmark = False\n",
    "    torch.backends.cudnn.deterministic = True"
   ]
  },
  {
   "cell_type": "markdown",
   "metadata": {},
   "source": [
    "## Data Loader"
   ]
  },
  {
   "cell_type": "code",
   "execution_count": 4,
   "metadata": {},
   "outputs": [],
   "source": [
    "class GraphDataset(Dataset):\n",
    "    def __init__(self, data_list, device):\n",
    "        self.data_list = data_list\n",
    "        self.device = device\n",
    "\n",
    "    def __len__(self):\n",
    "        return len(self.data_list)\n",
    "    \n",
    "    def __getitem__(self, idx):\n",
    "        data = self.data_list[idx]\n",
    "\n",
    "        g = dgl.graph((th.tensor(data[\"edge_index\"][0]), th.tensor(data[\"edge_index\"][1])), num_nodes=data[\"num_nodes\"]).to(self.device)\n",
    "\n",
    "        g.ndata['feat'] = th.tensor(data[\"node_feat\"]).to(self.device)\n",
    "        g.edata['feat'] = th.tensor(data[\"edge_attr\"]).to(self.device)  # Add edge features to graph\n",
    "\n",
    "        return g, th.tensor(data[\"label\"]).to(self.device)\n",
    "\n",
    "\n",
    "def collate(samples):\n",
    "    # The input `samples` is a list of pairs\n",
    "    #  (graph, label).\n",
    "    graphs, labels = map(list, zip(*samples))\n",
    "    batched_graph = dgl.batch(graphs)\n",
    "    return batched_graph, torch.tensor(labels)\n"
   ]
  },
  {
   "cell_type": "code",
   "execution_count": 5,
   "metadata": {},
   "outputs": [
    {
     "data": {
      "application/vnd.jupyter.widget-view+json": {
       "model_id": "bdc4eaab5ea84e1fa36fbd6715b98632",
       "version_major": 2,
       "version_minor": 0
      },
      "text/plain": [
       "  0%|          | 0/3 [00:00<?, ?it/s]"
      ]
     },
     "metadata": {},
     "output_type": "display_data"
    },
    {
     "name": "stdout",
     "output_type": "stream",
     "text": [
      "../../data_processing/dgl/data_new/training_data/train.jsonl\n"
     ]
    },
    {
     "data": {
      "application/vnd.jupyter.widget-view+json": {
       "model_id": "d5094d9d121247e9a1f28535a1972a0d",
       "version_major": 2,
       "version_minor": 0
      },
      "text/plain": [
       "0it [00:00, ?it/s]"
      ]
     },
     "metadata": {},
     "output_type": "display_data"
    },
    {
     "name": "stdout",
     "output_type": "stream",
     "text": [
      "../../data_processing/dgl/data_new/training_data/valid.jsonl\n"
     ]
    },
    {
     "data": {
      "application/vnd.jupyter.widget-view+json": {
       "model_id": "e578bbc4a8f4413e940758e06dba93e3",
       "version_major": 2,
       "version_minor": 0
      },
      "text/plain": [
       "0it [00:00, ?it/s]"
      ]
     },
     "metadata": {},
     "output_type": "display_data"
    },
    {
     "name": "stdout",
     "output_type": "stream",
     "text": [
      "../../data_processing/dgl/data_new/training_data/test.jsonl\n"
     ]
    },
    {
     "data": {
      "application/vnd.jupyter.widget-view+json": {
       "model_id": "96c47145eb8242ad9970ff7798fb3d6e",
       "version_major": 2,
       "version_minor": 0
      },
      "text/plain": [
       "0it [00:00, ?it/s]"
      ]
     },
     "metadata": {},
     "output_type": "display_data"
    },
    {
     "name": "stdout",
     "output_type": "stream",
     "text": [
      "Datasets loaded!\n"
     ]
    }
   ],
   "source": [
    "datasets = ['train', 'valid', 'test']\n",
    "dataset_data = {}\n",
    "\n",
    "for dataset_name in tqdm(datasets):\n",
    "#     file_path = f\"../../data_processing/dgl/data/test_graph/repeated_{dataset_name}.jsonl\"\n",
    "    file_path = f\"../../data_processing/dgl/data_new/training_data/{dataset_name}.jsonl\"\n",
    "    \n",
    "    print(file_path)\n",
    "    with open(file_path) as f:\n",
    "        data_list = [json.loads(line) for line in tqdm(f, position=0, leave=True)]\n",
    "    \n",
    "    dataset_data[dataset_name] = GraphDataset(data_list, device)\n",
    "\n",
    "print(\"Datasets loaded!\")"
   ]
  },
  {
   "cell_type": "markdown",
   "metadata": {},
   "source": [
    "- choose batch size"
   ]
  },
  {
   "cell_type": "code",
   "execution_count": 6,
   "metadata": {},
   "outputs": [],
   "source": [
    "def create_dataloaders(batch_size, shuffle=True):\n",
    "    dataloaders = {}\n",
    "    for dataset_name, dataset in dataset_data.items():\n",
    "        dataloaders[dataset_name] = DataLoader(dataset, batch_size=batch_size, shuffle=shuffle, collate_fn=collate)\n",
    "    return dataloaders\n",
    "\n",
    "dataloaders = create_dataloaders(4)\n",
    "# dataloaders = create_dataloaders(16)"
   ]
  },
  {
   "cell_type": "markdown",
   "metadata": {},
   "source": [
    "- Turn the print message to a log file"
   ]
  },
  {
   "cell_type": "code",
   "execution_count": 7,
   "metadata": {},
   "outputs": [
    {
     "name": "stdout",
     "output_type": "stream",
     "text": [
      "../log_message/0824_22:20_GAT_data_graph.log\n"
     ]
    }
   ],
   "source": [
    "import datetime\n",
    "\n",
    "now = datetime.datetime.now()\n",
    "\n",
    "formatted_time = now.strftime(\"%m%d_%H:%M\")\n",
    "\n",
    "log_file_path = f\"../log_message/{formatted_time}_GAT_data_graph.log\"\n",
    "\n",
    "def add_log_msg(msg, log_file_path=log_file_path):\n",
    "    with open(log_file_path, 'a') as f:\n",
    "        f.write(f'{datetime.datetime.now().strftime(\"%m/%d/%Y, %H:%M:%S\")}# {msg}\\n')\n",
    "    print(f'{datetime.datetime.now().strftime(\"%m/%d/%Y, %H:%M:%S\")}# {msg}')\n",
    "\n",
    "print(log_file_path)"
   ]
  },
  {
   "cell_type": "markdown",
   "metadata": {},
   "source": [
    "### Model"
   ]
  },
  {
   "cell_type": "code",
   "execution_count": 9,
   "metadata": {},
   "outputs": [],
   "source": [
    "class GAT(nn.Module):\n",
    "    def __init__(self, in_dim, hidden_dim, out_dim, num_heads, dropout_prob=0.25):\n",
    "        super(GAT, self).__init__()\n",
    "        \n",
    "        # do not check the zero in_degree since we have all the complete graph\n",
    "        self.layer1 = GATConv(in_dim, hidden_dim, num_heads=num_heads, activation=F.relu, allow_zero_in_degree=True)\n",
    "        self.layer2 = GATConv(hidden_dim * num_heads, out_dim, num_heads=num_heads, allow_zero_in_degree=True)\n",
    "        \n",
    "        # Adding Batch Normalization after each GAT layer\n",
    "        self.batchnorm1 = nn.BatchNorm1d(hidden_dim * num_heads)\n",
    "        self.batchnorm2 = nn.BatchNorm1d(out_dim)\n",
    "        \n",
    "        # Adding Dropout for regularization\n",
    "        self.dropout = nn.Dropout(dropout_prob)\n",
    "\n",
    "    def forward(self, g, h):\n",
    "        # Apply GAT layers\n",
    "        h = self.layer1(g, h)\n",
    "        h = h.view(h.shape[0], -1)\n",
    "        h = F.relu(h)\n",
    "        h = self.dropout(h)\n",
    "        h = self.layer2(g, h).squeeze(1)\n",
    "        \n",
    "        # Store the output as a new node feature\n",
    "        g.ndata['h_out'] = h\n",
    "\n",
    "        # Use mean pooling to aggregate this new node feature\n",
    "        h_agg = dgl.mean_nodes(g, feat='h_out')\n",
    "        return h_agg"
   ]
  },
  {
   "cell_type": "markdown",
   "metadata": {},
   "source": [
    "- Model Forward  "
   ]
  },
  {
   "cell_type": "code",
   "execution_count": 10,
   "metadata": {},
   "outputs": [],
   "source": [
    "def model_fn(data, model, criterion, device, count=1, which_type='train'):\n",
    "    \"\"\"Forward a batch through the model.\"\"\"\n",
    "    batched_g, labels = data\n",
    "    batched_g = batched_g.to(device)\n",
    "    \n",
    "    labels = labels.to(device)\n",
    "    logits = model(batched_g, batched_g.ndata['feat'].float()) # for GAT\n",
    "    logits = logits.mean(dim=1)\n",
    "    \n",
    "    loss = criterion(logits, labels)\n",
    "\n",
    "    # Get the class id with the highest probability\n",
    "    preds = logits.argmax(1)\n",
    "    \n",
    "    # Compute accuracy\n",
    "    accuracy = torch.mean((preds == labels).float())\n",
    "    \n",
    "    if which_type == 'validation' and count % 1000 == 0:\n",
    "        add_log_msg(f\"labels of Validation: {labels} {labels.shape}\")\n",
    "        add_log_msg(f\"predicted of Validation: {preds} {preds.shape}\")\n",
    "        \n",
    "    elif which_type == 'test'  and count % 1000 == 0:\n",
    "        add_log_msg(f\"labels of Test: {labels} {labels.shape}\")\n",
    "        add_log_msg(f\"predicted of Test: {preds} {preds.shape}\")\n",
    "        \n",
    "    if count % 5000 == 0: \n",
    "        add_log_msg(f\"labels of {count}: {labels} {labels.shape}\")\n",
    "        add_log_msg(f\"predicted of {count}: {preds} {preds.shape}\")\n",
    "        \n",
    "    return loss, accuracy, preds"
   ]
  },
  {
   "cell_type": "markdown",
   "metadata": {},
   "source": [
    "### Training"
   ]
  },
  {
   "cell_type": "markdown",
   "metadata": {},
   "source": [
    "- Fix the seed and save the model.state_dict that contains the initial weight"
   ]
  },
  {
   "cell_type": "code",
   "execution_count": 11,
   "metadata": {},
   "outputs": [],
   "source": [
    "seed = 8787\n",
    "same_seeds(seed)\n",
    "\n",
    "model = GAT(in_dim=50, hidden_dim=16, out_dim=168, num_heads=8)\n",
    "torch.save(model.state_dict(), 'model1_initial/initial_weight.pth')"
   ]
  },
  {
   "cell_type": "code",
   "execution_count": 12,
   "metadata": {},
   "outputs": [
    {
     "data": {
      "text/plain": [
       "Parameter containing:\n",
       "tensor([[-0.1806, -0.0598,  0.0091,  ...,  0.0719,  0.2496,  0.0873],\n",
       "        [ 0.1694, -0.0015, -0.0139,  ...,  0.0147,  0.0892,  0.0146],\n",
       "        [ 0.0969, -0.0595, -0.0115,  ..., -0.0474,  0.0529, -0.0565],\n",
       "        ...,\n",
       "        [-0.0433, -0.2248,  0.3002,  ...,  0.0850,  0.1621,  0.0422],\n",
       "        [ 0.2097, -0.2492,  0.0612,  ..., -0.0041,  0.0365, -0.1483],\n",
       "        [ 0.0971, -0.2221,  0.1652,  ..., -0.1312, -0.2610,  0.0077]],\n",
       "       requires_grad=True)"
      ]
     },
     "execution_count": 12,
     "metadata": {},
     "output_type": "execute_result"
    }
   ],
   "source": [
    "model.layer1.fc.weight"
   ]
  },
  {
   "cell_type": "markdown",
   "metadata": {},
   "source": [
    "- Check if model really load the model_dict"
   ]
  },
  {
   "cell_type": "code",
   "execution_count": 13,
   "metadata": {},
   "outputs": [
    {
     "data": {
      "text/plain": [
       "Parameter containing:\n",
       "tensor([[-0.1806, -0.0598,  0.0091,  ...,  0.0719,  0.2496,  0.0873],\n",
       "        [ 0.1694, -0.0015, -0.0139,  ...,  0.0147,  0.0892,  0.0146],\n",
       "        [ 0.0969, -0.0595, -0.0115,  ..., -0.0474,  0.0529, -0.0565],\n",
       "        ...,\n",
       "        [-0.0433, -0.2248,  0.3002,  ...,  0.0850,  0.1621,  0.0422],\n",
       "        [ 0.2097, -0.2492,  0.0612,  ..., -0.0041,  0.0365, -0.1483],\n",
       "        [ 0.0971, -0.2221,  0.1652,  ..., -0.1312, -0.2610,  0.0077]],\n",
       "       requires_grad=True)"
      ]
     },
     "execution_count": 13,
     "metadata": {},
     "output_type": "execute_result"
    }
   ],
   "source": [
    "model = GAT(in_dim=50, hidden_dim=16, out_dim=168, num_heads=8)\n",
    "model.load_state_dict(torch.load('model1_initial/initial_weight.pth'))\n",
    "model.layer1.fc.weight"
   ]
  },
  {
   "cell_type": "markdown",
   "metadata": {},
   "source": [
    "### test of valid and test part is ``graph``"
   ]
  },
  {
   "cell_type": "markdown",
   "metadata": {},
   "source": [
    "- \n",
    "- Batch size = 4\n",
    "- use small lr and scheduler"
   ]
  },
  {
   "cell_type": "code",
   "execution_count": null,
   "metadata": {
    "scrolled": true
   },
   "outputs": [
    {
     "data": {
      "application/vnd.jupyter.widget-view+json": {
       "model_id": "a5e3b06d23134d998fee3a61f2b999ff",
       "version_major": 2,
       "version_minor": 0
      },
      "text/plain": [
       "  0%|          | 0/180 [00:00<?, ?it/s]"
      ]
     },
     "metadata": {},
     "output_type": "display_data"
    },
    {
     "data": {
      "application/vnd.jupyter.widget-view+json": {
       "model_id": "2e1e5b3a67474c489d8bda05767453c8",
       "version_major": 2,
       "version_minor": 0
      },
      "text/plain": [
       "Training:   0%|          | 0/33000 [00:00<?, ?it/s]"
      ]
     },
     "metadata": {},
     "output_type": "display_data"
    },
    {
     "name": "stdout",
     "output_type": "stream",
     "text": [
      "08/24/2023, 11:11:06# labels of 5000: tensor([107,  73,  21, 144], device='cuda:0') torch.Size([4])\n",
      "08/24/2023, 11:11:06# predicted of 5000: tensor([17, 62, 17, 17], device='cuda:0') torch.Size([4])\n",
      "08/24/2023, 11:12:47# labels of 10000: tensor([ 74,  12, 161,  81], device='cuda:0') torch.Size([4])\n",
      "08/24/2023, 11:12:47# predicted of 10000: tensor([17, 17, 17, 17], device='cuda:0') torch.Size([4])\n",
      "08/24/2023, 11:14:28# labels of 15000: tensor([143,  67,  31, 132], device='cuda:0') torch.Size([4])\n",
      "08/24/2023, 11:14:28# predicted of 15000: tensor([17, 17, 17, 17], device='cuda:0') torch.Size([4])\n",
      "08/24/2023, 11:16:10# labels of 20000: tensor([162,  59, 165, 101], device='cuda:0') torch.Size([4])\n",
      "08/24/2023, 11:16:10# predicted of 20000: tensor([17, 17, 17, 17], device='cuda:0') torch.Size([4])\n",
      "08/24/2023, 11:17:51# labels of 25000: tensor([ 15,  95,  73, 140], device='cuda:0') torch.Size([4])\n",
      "08/24/2023, 11:17:51# predicted of 25000: tensor([17, 17, 17, 17], device='cuda:0') torch.Size([4])\n",
      "08/24/2023, 11:19:32# labels of 30000: tensor([ 35, 145, 119,  70], device='cuda:0') torch.Size([4])\n",
      "08/24/2023, 11:19:32# predicted of 30000: tensor([17, 17, 17, 17], device='cuda:0') torch.Size([4])\n",
      "08/24/2023, 11:20:33# total count: 33000\n",
      "08/24/2023, 11:20:33# Epoch 0 | Train Loss: 5.1066 | Train Accuracy: 0.0097\n"
     ]
    },
    {
     "data": {
      "application/vnd.jupyter.widget-view+json": {
       "model_id": "bee72ffbdfd74a279bb748780e31e61a",
       "version_major": 2,
       "version_minor": 0
      },
      "text/plain": [
       "Validation:   0%|          | 0/4125 [00:00<?, ?it/s]"
      ]
     },
     "metadata": {},
     "output_type": "display_data"
    },
    {
     "name": "stdout",
     "output_type": "stream",
     "text": [
      "08/24/2023, 11:20:33# labels of Validation: tensor([134,  42,  29,  24], device='cuda:0') torch.Size([4])\n",
      "08/24/2023, 11:20:33# predicted of Validation: tensor([17, 17, 17, 17], device='cuda:0') torch.Size([4])\n",
      "08/24/2023, 11:20:33# labels of 0: tensor([134,  42,  29,  24], device='cuda:0') torch.Size([4])\n",
      "08/24/2023, 11:20:33# predicted of 0: tensor([17, 17, 17, 17], device='cuda:0') torch.Size([4])\n",
      "08/24/2023, 11:20:39# labels of Validation: tensor([ 46,  39, 146, 148], device='cuda:0') torch.Size([4])\n",
      "08/24/2023, 11:20:39# predicted of Validation: tensor([17, 17, 17, 17], device='cuda:0') torch.Size([4])\n",
      "08/24/2023, 11:20:44# labels of Validation: tensor([47, 86, 38, 21], device='cuda:0') torch.Size([4])\n",
      "08/24/2023, 11:20:44# predicted of Validation: tensor([17, 17, 17, 17], device='cuda:0') torch.Size([4])\n",
      "08/24/2023, 11:20:50# labels of Validation: tensor([166, 107,  76, 147], device='cuda:0') torch.Size([4])\n",
      "08/24/2023, 11:20:50# predicted of Validation: tensor([17, 17, 17, 17], device='cuda:0') torch.Size([4])\n",
      "08/24/2023, 11:20:56# labels of Validation: tensor([138,  48,  36, 134], device='cuda:0') torch.Size([4])\n",
      "08/24/2023, 11:20:56# predicted of Validation: tensor([17, 17, 17, 17], device='cuda:0') torch.Size([4])\n",
      "08/24/2023, 11:20:57# Validation Loss: 5.0855 | Validation Accuracy: 0.0061\n",
      "\n"
     ]
    },
    {
     "data": {
      "application/vnd.jupyter.widget-view+json": {
       "model_id": "2b1bf94444d2466397404c22d566ce61",
       "version_major": 2,
       "version_minor": 0
      },
      "text/plain": [
       "Training:   0%|          | 0/33000 [00:00<?, ?it/s]"
      ]
     },
     "metadata": {},
     "output_type": "display_data"
    },
    {
     "name": "stdout",
     "output_type": "stream",
     "text": [
      "08/24/2023, 11:22:39# labels of 5000: tensor([ 20, 115, 144, 102], device='cuda:0') torch.Size([4])\n",
      "08/24/2023, 11:22:39# predicted of 5000: tensor([52, 17, 17, 17], device='cuda:0') torch.Size([4])\n",
      "08/24/2023, 11:24:20# labels of 10000: tensor([ 23, 116, 155,   8], device='cuda:0') torch.Size([4])\n",
      "08/24/2023, 11:24:20# predicted of 10000: tensor([17, 17, 17, 52], device='cuda:0') torch.Size([4])\n",
      "08/24/2023, 11:26:06# labels of 15000: tensor([123,  52,   8,  17], device='cuda:0') torch.Size([4])\n",
      "08/24/2023, 11:26:06# predicted of 15000: tensor([17, 17, 17, 17], device='cuda:0') torch.Size([4])\n",
      "08/24/2023, 11:27:55# labels of 20000: tensor([132, 100,  17, 112], device='cuda:0') torch.Size([4])\n",
      "08/24/2023, 11:27:55# predicted of 20000: tensor([17, 17, 17, 17], device='cuda:0') torch.Size([4])\n",
      "08/24/2023, 11:29:39# labels of 25000: tensor([135,  90,  58,  95], device='cuda:0') torch.Size([4])\n",
      "08/24/2023, 11:29:39# predicted of 25000: tensor([17, 17, 17, 17], device='cuda:0') torch.Size([4])\n",
      "08/24/2023, 11:31:20# labels of 30000: tensor([ 55, 141, 164,  87], device='cuda:0') torch.Size([4])\n",
      "08/24/2023, 11:31:20# predicted of 30000: tensor([52, 17, 17, 17], device='cuda:0') torch.Size([4])\n",
      "08/24/2023, 11:32:25# total count: 33000\n",
      "08/24/2023, 11:32:25# Epoch 1 | Train Loss: 5.0725 | Train Accuracy: 0.0068\n"
     ]
    },
    {
     "data": {
      "application/vnd.jupyter.widget-view+json": {
       "model_id": "b620ec9511d94719aa789ad77fba0d61",
       "version_major": 2,
       "version_minor": 0
      },
      "text/plain": [
       "Validation:   0%|          | 0/4125 [00:00<?, ?it/s]"
      ]
     },
     "metadata": {},
     "output_type": "display_data"
    },
    {
     "name": "stdout",
     "output_type": "stream",
     "text": [
      "08/24/2023, 11:32:25# labels of Validation: tensor([84, 63, 62, 75], device='cuda:0') torch.Size([4])\n",
      "08/24/2023, 11:32:25# predicted of Validation: tensor([17, 17, 17, 17], device='cuda:0') torch.Size([4])\n",
      "08/24/2023, 11:32:25# labels of 0: tensor([84, 63, 62, 75], device='cuda:0') torch.Size([4])\n",
      "08/24/2023, 11:32:25# predicted of 0: tensor([17, 17, 17, 17], device='cuda:0') torch.Size([4])\n",
      "08/24/2023, 11:32:31# labels of Validation: tensor([157,  80,  37,  45], device='cuda:0') torch.Size([4])\n",
      "08/24/2023, 11:32:31# predicted of Validation: tensor([17, 17, 17, 17], device='cuda:0') torch.Size([4])\n",
      "08/24/2023, 11:32:37# labels of Validation: tensor([101, 144,  35, 125], device='cuda:0') torch.Size([4])\n",
      "08/24/2023, 11:32:37# predicted of Validation: tensor([17, 17, 17, 17], device='cuda:0') torch.Size([4])\n",
      "08/24/2023, 11:32:43# labels of Validation: tensor([ 30, 146, 140,  93], device='cuda:0') torch.Size([4])\n",
      "08/24/2023, 11:32:43# predicted of Validation: tensor([17, 17, 17, 17], device='cuda:0') torch.Size([4])\n",
      "08/24/2023, 11:32:48# labels of Validation: tensor([ 61,  72,  58, 102], device='cuda:0') torch.Size([4])\n",
      "08/24/2023, 11:32:48# predicted of Validation: tensor([17, 17, 17, 17], device='cuda:0') torch.Size([4])\n",
      "08/24/2023, 11:32:49# Validation Loss: 5.0616 | Validation Accuracy: 0.0061\n",
      "\n"
     ]
    },
    {
     "data": {
      "application/vnd.jupyter.widget-view+json": {
       "model_id": "8c89b60cdf5b4f45b8b3326d75eb6aa5",
       "version_major": 2,
       "version_minor": 0
      },
      "text/plain": [
       "Training:   0%|          | 0/33000 [00:00<?, ?it/s]"
      ]
     },
     "metadata": {},
     "output_type": "display_data"
    },
    {
     "name": "stdout",
     "output_type": "stream",
     "text": [
      "08/24/2023, 11:34:32# labels of 5000: tensor([136, 132,  51, 112], device='cuda:0') torch.Size([4])\n",
      "08/24/2023, 11:34:32# predicted of 5000: tensor([17, 17, 17, 17], device='cuda:0') torch.Size([4])\n",
      "08/24/2023, 11:36:13# labels of 10000: tensor([  0, 102,  98,  60], device='cuda:0') torch.Size([4])\n",
      "08/24/2023, 11:36:13# predicted of 10000: tensor([17, 17, 17, 17], device='cuda:0') torch.Size([4])\n",
      "08/24/2023, 11:37:54# labels of 15000: tensor([ 72, 134,  31,  32], device='cuda:0') torch.Size([4])\n",
      "08/24/2023, 11:37:54# predicted of 15000: tensor([17, 52,  7, 17], device='cuda:0') torch.Size([4])\n",
      "08/24/2023, 11:39:35# labels of 20000: tensor([103, 143, 124,  53], device='cuda:0') torch.Size([4])\n",
      "08/24/2023, 11:39:35# predicted of 20000: tensor([52,  7, 52, 17], device='cuda:0') torch.Size([4])\n",
      "08/24/2023, 11:41:16# labels of 25000: tensor([127, 143,  16, 154], device='cuda:0') torch.Size([4])\n",
      "08/24/2023, 11:41:16# predicted of 25000: tensor([17, 52,  7, 52], device='cuda:0') torch.Size([4])\n",
      "08/24/2023, 11:42:57# labels of 30000: tensor([148, 132,  38,  84], device='cuda:0') torch.Size([4])\n",
      "08/24/2023, 11:42:57# predicted of 30000: tensor([52,  7, 52,  7], device='cuda:0') torch.Size([4])\n",
      "08/24/2023, 11:43:58# total count: 33000\n",
      "08/24/2023, 11:43:58# Epoch 2 | Train Loss: 5.0533 | Train Accuracy: 0.0123\n"
     ]
    },
    {
     "data": {
      "application/vnd.jupyter.widget-view+json": {
       "model_id": "9069e9bd732547ada8a4dbf1f0702e67",
       "version_major": 2,
       "version_minor": 0
      },
      "text/plain": [
       "Validation:   0%|          | 0/4125 [00:00<?, ?it/s]"
      ]
     },
     "metadata": {},
     "output_type": "display_data"
    },
    {
     "name": "stdout",
     "output_type": "stream",
     "text": [
      "08/24/2023, 11:43:58# labels of Validation: tensor([67, 80, 97, 36], device='cuda:0') torch.Size([4])\n",
      "08/24/2023, 11:43:58# predicted of Validation: tensor([17, 17, 52, 52], device='cuda:0') torch.Size([4])\n",
      "08/24/2023, 11:43:58# labels of 0: tensor([67, 80, 97, 36], device='cuda:0') torch.Size([4])\n",
      "08/24/2023, 11:43:58# predicted of 0: tensor([17, 17, 52, 52], device='cuda:0') torch.Size([4])\n",
      "08/24/2023, 11:44:04# labels of Validation: tensor([112, 142, 164, 154], device='cuda:0') torch.Size([4])\n",
      "08/24/2023, 11:44:04# predicted of Validation: tensor([52, 52, 52, 52], device='cuda:0') torch.Size([4])\n",
      "08/24/2023, 11:44:10# labels of Validation: tensor([154, 159,  24,  98], device='cuda:0') torch.Size([4])\n",
      "08/24/2023, 11:44:10# predicted of Validation: tensor([52, 17, 52, 52], device='cuda:0') torch.Size([4])\n",
      "08/24/2023, 11:44:16# labels of Validation: tensor([26, 79, 28, 36], device='cuda:0') torch.Size([4])\n",
      "08/24/2023, 11:44:16# predicted of Validation: tensor([52, 17, 52, 52], device='cuda:0') torch.Size([4])\n",
      "08/24/2023, 11:44:22# labels of Validation: tensor([130,  42,  37, 137], device='cuda:0') torch.Size([4])\n",
      "08/24/2023, 11:44:22# predicted of Validation: tensor([17, 52, 52, 52], device='cuda:0') torch.Size([4])\n",
      "08/24/2023, 11:44:23# Validation Loss: 5.0443 | Validation Accuracy: 0.0202\n",
      "\n"
     ]
    },
    {
     "data": {
      "application/vnd.jupyter.widget-view+json": {
       "model_id": "105a282f8f044454aed4a350332154b6",
       "version_major": 2,
       "version_minor": 0
      },
      "text/plain": [
       "Training:   0%|          | 0/33000 [00:00<?, ?it/s]"
      ]
     },
     "metadata": {},
     "output_type": "display_data"
    },
    {
     "name": "stdout",
     "output_type": "stream",
     "text": [
      "08/24/2023, 11:46:04# labels of 5000: tensor([139, 105,  98,  60], device='cuda:0') torch.Size([4])\n",
      "08/24/2023, 11:46:04# predicted of 5000: tensor([ 7,  7, 52,  7], device='cuda:0') torch.Size([4])\n",
      "08/24/2023, 11:47:44# labels of 10000: tensor([138, 121,   1,  56], device='cuda:0') torch.Size([4])\n",
      "08/24/2023, 11:47:44# predicted of 10000: tensor([17,  7, 52, 17], device='cuda:0') torch.Size([4])\n",
      "08/24/2023, 11:49:26# labels of 15000: tensor([114,  23,  42,  13], device='cuda:0') torch.Size([4])\n",
      "08/24/2023, 11:49:26# predicted of 15000: tensor([ 7, 17, 52, 17], device='cuda:0') torch.Size([4])\n",
      "08/24/2023, 11:51:10# labels of 20000: tensor([128, 146, 164,  93], device='cuda:0') torch.Size([4])\n",
      "08/24/2023, 11:51:10# predicted of 20000: tensor([ 7, 17,  7, 52], device='cuda:0') torch.Size([4])\n",
      "08/24/2023, 11:52:51# labels of 25000: tensor([27, 77,  5, 50], device='cuda:0') torch.Size([4])\n",
      "08/24/2023, 11:52:51# predicted of 25000: tensor([ 7, 52,  7,  7], device='cuda:0') torch.Size([4])\n",
      "08/24/2023, 11:54:33# labels of 30000: tensor([ 61, 153,  98,  42], device='cuda:0') torch.Size([4])\n",
      "08/24/2023, 11:54:33# predicted of 30000: tensor([ 7, 52, 17,  7], device='cuda:0') torch.Size([4])\n",
      "08/24/2023, 11:55:34# total count: 33000\n",
      "08/24/2023, 11:55:34# Epoch 3 | Train Loss: 5.0347 | Train Accuracy: 0.0245\n"
     ]
    },
    {
     "data": {
      "application/vnd.jupyter.widget-view+json": {
       "model_id": "0f74f04f6d1e4e16acf24cdc1fd50917",
       "version_major": 2,
       "version_minor": 0
      },
      "text/plain": [
       "Validation:   0%|          | 0/4125 [00:00<?, ?it/s]"
      ]
     },
     "metadata": {},
     "output_type": "display_data"
    },
    {
     "name": "stdout",
     "output_type": "stream",
     "text": [
      "08/24/2023, 11:55:34# labels of Validation: tensor([102, 114,   1,  16], device='cuda:0') torch.Size([4])\n",
      "08/24/2023, 11:55:34# predicted of Validation: tensor([52, 52, 52, 52], device='cuda:0') torch.Size([4])\n",
      "08/24/2023, 11:55:34# labels of 0: tensor([102, 114,   1,  16], device='cuda:0') torch.Size([4])\n",
      "08/24/2023, 11:55:34# predicted of 0: tensor([52, 52, 52, 52], device='cuda:0') torch.Size([4])\n",
      "08/24/2023, 11:55:40# labels of Validation: tensor([ 20, 128, 161,  32], device='cuda:0') torch.Size([4])\n",
      "08/24/2023, 11:55:40# predicted of Validation: tensor([52, 17, 52, 17], device='cuda:0') torch.Size([4])\n",
      "08/24/2023, 11:55:46# labels of Validation: tensor([ 66,  21, 127,  97], device='cuda:0') torch.Size([4])\n",
      "08/24/2023, 11:55:46# predicted of Validation: tensor([52, 52, 17, 52], device='cuda:0') torch.Size([4])\n",
      "08/24/2023, 11:55:51# labels of Validation: tensor([  2,   9,  15, 102], device='cuda:0') torch.Size([4])\n",
      "08/24/2023, 11:55:51# predicted of Validation: tensor([52, 52, 17, 52], device='cuda:0') torch.Size([4])\n",
      "08/24/2023, 11:55:57# labels of Validation: tensor([107, 118,  74,  54], device='cuda:0') torch.Size([4])\n",
      "08/24/2023, 11:55:57# predicted of Validation: tensor([52, 52, 52, 52], device='cuda:0') torch.Size([4])\n",
      "08/24/2023, 11:55:58# Validation Loss: 5.0235 | Validation Accuracy: 0.0303\n",
      "\n"
     ]
    },
    {
     "data": {
      "application/vnd.jupyter.widget-view+json": {
       "model_id": "794865cabd7e4a6c8f6cbc4f23aee35d",
       "version_major": 2,
       "version_minor": 0
      },
      "text/plain": [
       "Training:   0%|          | 0/33000 [00:00<?, ?it/s]"
      ]
     },
     "metadata": {},
     "output_type": "display_data"
    },
    {
     "name": "stdout",
     "output_type": "stream",
     "text": [
      "08/24/2023, 11:57:39# labels of 5000: tensor([160, 146,  59, 166], device='cuda:0') torch.Size([4])\n",
      "08/24/2023, 11:57:39# predicted of 5000: tensor([52,  7, 52, 52], device='cuda:0') torch.Size([4])\n",
      "08/24/2023, 11:59:21# labels of 10000: tensor([ 93, 135,  48,  37], device='cuda:0') torch.Size([4])\n",
      "08/24/2023, 11:59:21# predicted of 10000: tensor([52, 52, 52, 52], device='cuda:0') torch.Size([4])\n",
      "08/24/2023, 12:01:01# labels of 15000: tensor([ 27,  56,  60, 140], device='cuda:0') torch.Size([4])\n",
      "08/24/2023, 12:01:01# predicted of 15000: tensor([17,  7,  7, 17], device='cuda:0') torch.Size([4])\n",
      "08/24/2023, 12:02:48# labels of 20000: tensor([152, 110,  23, 100], device='cuda:0') torch.Size([4])\n",
      "08/24/2023, 12:02:48# predicted of 20000: tensor([52, 52,  7, 52], device='cuda:0') torch.Size([4])\n",
      "08/24/2023, 12:04:34# labels of 25000: tensor([ 81,   8,  73, 149], device='cuda:0') torch.Size([4])\n",
      "08/24/2023, 12:04:34# predicted of 25000: tensor([52, 52, 17, 52], device='cuda:0') torch.Size([4])\n",
      "08/24/2023, 12:06:15# labels of 30000: tensor([ 70, 135,  13,  55], device='cuda:0') torch.Size([4])\n",
      "08/24/2023, 12:06:15# predicted of 30000: tensor([52, 52, 17, 52], device='cuda:0') torch.Size([4])\n",
      "08/24/2023, 12:07:16# total count: 33000\n",
      "08/24/2023, 12:07:16# Epoch 4 | Train Loss: 5.0104 | Train Accuracy: 0.0322\n"
     ]
    },
    {
     "data": {
      "application/vnd.jupyter.widget-view+json": {
       "model_id": "14eda28e05444e27bc5ee21441f8f60a",
       "version_major": 2,
       "version_minor": 0
      },
      "text/plain": [
       "Validation:   0%|          | 0/4125 [00:00<?, ?it/s]"
      ]
     },
     "metadata": {},
     "output_type": "display_data"
    },
    {
     "name": "stdout",
     "output_type": "stream",
     "text": [
      "08/24/2023, 12:07:16# labels of Validation: tensor([  2, 132, 107, 111], device='cuda:0') torch.Size([4])\n",
      "08/24/2023, 12:07:16# predicted of Validation: tensor([52, 52, 52, 52], device='cuda:0') torch.Size([4])\n",
      "08/24/2023, 12:07:16# labels of 0: tensor([  2, 132, 107, 111], device='cuda:0') torch.Size([4])\n",
      "08/24/2023, 12:07:16# predicted of 0: tensor([52, 52, 52, 52], device='cuda:0') torch.Size([4])\n",
      "08/24/2023, 12:07:23# labels of Validation: tensor([134,  24, 129,  90], device='cuda:0') torch.Size([4])\n",
      "08/24/2023, 12:07:23# predicted of Validation: tensor([134,  52,  52,  52], device='cuda:0') torch.Size([4])\n",
      "08/24/2023, 12:07:29# labels of Validation: tensor([ 80, 138,  49, 117], device='cuda:0') torch.Size([4])\n",
      "08/24/2023, 12:07:29# predicted of Validation: tensor([99, 52, 52,  7], device='cuda:0') torch.Size([4])\n",
      "08/24/2023, 12:07:36# labels of Validation: tensor([158, 164,  51,  94], device='cuda:0') torch.Size([4])\n",
      "08/24/2023, 12:07:36# predicted of Validation: tensor([52, 52, 52,  7], device='cuda:0') torch.Size([4])\n",
      "08/24/2023, 12:07:42# labels of Validation: tensor([160,   0, 115,  73], device='cuda:0') torch.Size([4])\n",
      "08/24/2023, 12:07:42# predicted of Validation: tensor([52,  7,  7,  7], device='cuda:0') torch.Size([4])\n",
      "08/24/2023, 12:07:43# Validation Loss: 4.9951 | Validation Accuracy: 0.0303\n",
      "\n"
     ]
    },
    {
     "data": {
      "application/vnd.jupyter.widget-view+json": {
       "model_id": "867831e9368d46929ca603a9527bcd00",
       "version_major": 2,
       "version_minor": 0
      },
      "text/plain": [
       "Training:   0%|          | 0/33000 [00:00<?, ?it/s]"
      ]
     },
     "metadata": {},
     "output_type": "display_data"
    },
    {
     "name": "stdout",
     "output_type": "stream",
     "text": [
      "08/24/2023, 12:09:24# labels of 5000: tensor([123,  11, 159,  57], device='cuda:0') torch.Size([4])\n",
      "08/24/2023, 12:09:24# predicted of 5000: tensor([17, 52,  7, 52], device='cuda:0') torch.Size([4])\n",
      "08/24/2023, 12:11:05# labels of 10000: tensor([ 74, 130,  79, 133], device='cuda:0') torch.Size([4])\n",
      "08/24/2023, 12:11:05# predicted of 10000: tensor([52, 99,  7, 52], device='cuda:0') torch.Size([4])\n",
      "08/24/2023, 12:12:46# labels of 15000: tensor([115,  84, 101,  44], device='cuda:0') torch.Size([4])\n",
      "08/24/2023, 12:12:46# predicted of 15000: tensor([ 7, 17, 52,  7], device='cuda:0') torch.Size([4])\n",
      "08/24/2023, 12:14:26# labels of 20000: tensor([ 54,  85, 104, 126], device='cuda:0') torch.Size([4])\n",
      "08/24/2023, 12:14:26# predicted of 20000: tensor([52, 52, 52, 17], device='cuda:0') torch.Size([4])\n",
      "08/24/2023, 12:16:11# labels of 25000: tensor([106, 140,  85,  75], device='cuda:0') torch.Size([4])\n",
      "08/24/2023, 12:16:11# predicted of 25000: tensor([ 7, 99, 52, 52], device='cuda:0') torch.Size([4])\n",
      "08/24/2023, 12:17:55# labels of 30000: tensor([ 49, 104, 166, 160], device='cuda:0') torch.Size([4])\n",
      "08/24/2023, 12:17:55# predicted of 30000: tensor([52, 52, 52, 52], device='cuda:0') torch.Size([4])\n",
      "08/24/2023, 12:18:54# total count: 33000\n",
      "08/24/2023, 12:18:54# Epoch 5 | Train Loss: 4.9767 | Train Accuracy: 0.0350\n"
     ]
    },
    {
     "data": {
      "application/vnd.jupyter.widget-view+json": {
       "model_id": "936aa166b34b4d0198e5f95754c7a32d",
       "version_major": 2,
       "version_minor": 0
      },
      "text/plain": [
       "Validation:   0%|          | 0/4125 [00:00<?, ?it/s]"
      ]
     },
     "metadata": {},
     "output_type": "display_data"
    },
    {
     "name": "stdout",
     "output_type": "stream",
     "text": [
      "08/24/2023, 12:18:54# labels of Validation: tensor([ 52, 159, 137,  77], device='cuda:0') torch.Size([4])\n",
      "08/24/2023, 12:18:54# predicted of Validation: tensor([52, 52, 52, 52], device='cuda:0') torch.Size([4])\n",
      "08/24/2023, 12:18:54# labels of 0: tensor([ 52, 159, 137,  77], device='cuda:0') torch.Size([4])\n",
      "08/24/2023, 12:18:54# predicted of 0: tensor([52, 52, 52, 52], device='cuda:0') torch.Size([4])\n",
      "08/24/2023, 12:19:00# labels of Validation: tensor([158, 122,  76, 120], device='cuda:0') torch.Size([4])\n",
      "08/24/2023, 12:19:00# predicted of Validation: tensor([52, 52, 52,  7], device='cuda:0') torch.Size([4])\n",
      "08/24/2023, 12:19:06# labels of Validation: tensor([121, 118, 149,  87], device='cuda:0') torch.Size([4])\n",
      "08/24/2023, 12:19:06# predicted of Validation: tensor([52, 52, 52, 52], device='cuda:0') torch.Size([4])\n",
      "08/24/2023, 12:19:12# labels of Validation: tensor([ 79, 152,  60,  32], device='cuda:0') torch.Size([4])\n",
      "08/24/2023, 12:19:12# predicted of Validation: tensor([ 7, 52, 52, 99], device='cuda:0') torch.Size([4])\n",
      "08/24/2023, 12:19:18# labels of Validation: tensor([161, 138, 106, 119], device='cuda:0') torch.Size([4])\n",
      "08/24/2023, 12:19:18# predicted of Validation: tensor([52, 52,  7, 52], device='cuda:0') torch.Size([4])\n",
      "08/24/2023, 12:19:18# Validation Loss: 4.9551 | Validation Accuracy: 0.0424\n",
      "\n"
     ]
    },
    {
     "data": {
      "application/vnd.jupyter.widget-view+json": {
       "model_id": "4062fafde65a4d0ea7303e488dfe54fc",
       "version_major": 2,
       "version_minor": 0
      },
      "text/plain": [
       "Training:   0%|          | 0/33000 [00:00<?, ?it/s]"
      ]
     },
     "metadata": {},
     "output_type": "display_data"
    },
    {
     "name": "stdout",
     "output_type": "stream",
     "text": [
      "08/24/2023, 12:20:59# labels of 5000: tensor([ 84, 117, 113,   1], device='cuda:0') torch.Size([4])\n",
      "08/24/2023, 12:20:59# predicted of 5000: tensor([ 7, 17, 52, 52], device='cuda:0') torch.Size([4])\n",
      "08/24/2023, 12:22:40# labels of 10000: tensor([ 28,  93,  47, 151], device='cuda:0') torch.Size([4])\n",
      "08/24/2023, 12:22:40# predicted of 10000: tensor([ 52,  52,  52, 154], device='cuda:0') torch.Size([4])\n",
      "08/24/2023, 12:24:22# labels of 15000: tensor([ 70,  19, 107, 166], device='cuda:0') torch.Size([4])\n",
      "08/24/2023, 12:24:22# predicted of 15000: tensor([ 52,  52, 154,  52], device='cuda:0') torch.Size([4])\n",
      "08/24/2023, 12:26:03# labels of 20000: tensor([ 84, 122, 151,  58], device='cuda:0') torch.Size([4])\n",
      "08/24/2023, 12:26:03# predicted of 20000: tensor([99, 52, 52, 52], device='cuda:0') torch.Size([4])\n",
      "08/24/2023, 12:27:46# labels of 25000: tensor([  6, 121,   0,   0], device='cuda:0') torch.Size([4])\n",
      "08/24/2023, 12:27:46# predicted of 25000: tensor([52, 52,  7, 17], device='cuda:0') torch.Size([4])\n",
      "08/24/2023, 12:29:33# labels of 30000: tensor([ 11, 158,  69, 135], device='cuda:0') torch.Size([4])\n",
      "08/24/2023, 12:29:33# predicted of 30000: tensor([52, 52,  7, 52], device='cuda:0') torch.Size([4])\n",
      "08/24/2023, 12:30:34# total count: 33000\n",
      "08/24/2023, 12:30:34# Epoch 6 | Train Loss: 4.9273 | Train Accuracy: 0.0376\n"
     ]
    },
    {
     "data": {
      "application/vnd.jupyter.widget-view+json": {
       "model_id": "98e1527991d542f2a621b78dc3350a2f",
       "version_major": 2,
       "version_minor": 0
      },
      "text/plain": [
       "Validation:   0%|          | 0/4125 [00:00<?, ?it/s]"
      ]
     },
     "metadata": {},
     "output_type": "display_data"
    },
    {
     "name": "stdout",
     "output_type": "stream",
     "text": [
      "08/24/2023, 12:30:34# labels of Validation: tensor([156, 111,  35,  16], device='cuda:0') torch.Size([4])\n",
      "08/24/2023, 12:30:34# predicted of Validation: tensor([52, 52,  7, 52], device='cuda:0') torch.Size([4])\n",
      "08/24/2023, 12:30:34# labels of 0: tensor([156, 111,  35,  16], device='cuda:0') torch.Size([4])\n",
      "08/24/2023, 12:30:34# predicted of 0: tensor([52, 52,  7, 52], device='cuda:0') torch.Size([4])\n",
      "08/24/2023, 12:30:40# labels of Validation: tensor([ 97, 161,  34, 159], device='cuda:0') torch.Size([4])\n",
      "08/24/2023, 12:30:40# predicted of Validation: tensor([52, 52, 52, 52], device='cuda:0') torch.Size([4])\n",
      "08/24/2023, 12:30:46# labels of Validation: tensor([ 94,  48, 154,  90], device='cuda:0') torch.Size([4])\n",
      "08/24/2023, 12:30:46# predicted of Validation: tensor([  7,  52, 154,  52], device='cuda:0') torch.Size([4])\n",
      "08/24/2023, 12:30:52# labels of Validation: tensor([ 12, 127,  41, 159], device='cuda:0') torch.Size([4])\n",
      "08/24/2023, 12:30:52# predicted of Validation: tensor([52,  7, 52, 52], device='cuda:0') torch.Size([4])\n",
      "08/24/2023, 12:30:57# labels of Validation: tensor([41, 61, 11, 76], device='cuda:0') torch.Size([4])\n",
      "08/24/2023, 12:30:57# predicted of Validation: tensor([52,  7, 52, 52], device='cuda:0') torch.Size([4])\n",
      "08/24/2023, 12:30:58# Validation Loss: 4.8928 | Validation Accuracy: 0.0430\n",
      "\n"
     ]
    },
    {
     "data": {
      "application/vnd.jupyter.widget-view+json": {
       "model_id": "60d86e4eae6c4642b660adfa79202a2e",
       "version_major": 2,
       "version_minor": 0
      },
      "text/plain": [
       "Training:   0%|          | 0/33000 [00:00<?, ?it/s]"
      ]
     },
     "metadata": {},
     "output_type": "display_data"
    },
    {
     "name": "stdout",
     "output_type": "stream",
     "text": [
      "08/24/2023, 12:32:39# labels of 5000: tensor([ 48,  43,  12, 154], device='cuda:0') torch.Size([4])\n",
      "08/24/2023, 12:32:39# predicted of 5000: tensor([154, 154,  52, 154], device='cuda:0') torch.Size([4])\n",
      "08/24/2023, 12:34:20# labels of 10000: tensor([  7, 136, 114, 125], device='cuda:0') torch.Size([4])\n",
      "08/24/2023, 12:34:20# predicted of 10000: tensor([ 7, 99, 52, 52], device='cuda:0') torch.Size([4])\n",
      "08/24/2023, 12:36:02# labels of 15000: tensor([ 35, 114,   3, 165], device='cuda:0') torch.Size([4])\n",
      "08/24/2023, 12:36:02# predicted of 15000: tensor([  7, 154,  99,  52], device='cuda:0') torch.Size([4])\n",
      "08/24/2023, 12:37:43# labels of 20000: tensor([26, 77, 86, 41], device='cuda:0') torch.Size([4])\n",
      "08/24/2023, 12:37:43# predicted of 20000: tensor([161,  52,  52, 134], device='cuda:0') torch.Size([4])\n",
      "08/24/2023, 12:39:24# labels of 25000: tensor([ 34,  15, 160,  29], device='cuda:0') torch.Size([4])\n",
      "08/24/2023, 12:39:24# predicted of 25000: tensor([132,   7, 132,   7], device='cuda:0') torch.Size([4])\n",
      "08/24/2023, 12:41:05# labels of 30000: tensor([164, 125,  49,  60], device='cuda:0') torch.Size([4])\n",
      "08/24/2023, 12:41:05# predicted of 30000: tensor([132, 132, 132, 132], device='cuda:0') torch.Size([4])\n",
      "08/24/2023, 12:42:06# total count: 33000\n",
      "08/24/2023, 12:42:06# Epoch 7 | Train Loss: 4.8388 | Train Accuracy: 0.0426\n"
     ]
    },
    {
     "data": {
      "application/vnd.jupyter.widget-view+json": {
       "model_id": "4f566f6c56644eb69a96f567a5d4be4a",
       "version_major": 2,
       "version_minor": 0
      },
      "text/plain": [
       "Validation:   0%|          | 0/4125 [00:00<?, ?it/s]"
      ]
     },
     "metadata": {},
     "output_type": "display_data"
    },
    {
     "name": "stdout",
     "output_type": "stream",
     "text": [
      "08/24/2023, 12:42:06# labels of Validation: tensor([ 84, 122, 166, 109], device='cuda:0') torch.Size([4])\n",
      "08/24/2023, 12:42:06# predicted of Validation: tensor([  7,  52, 132, 132], device='cuda:0') torch.Size([4])\n",
      "08/24/2023, 12:42:06# labels of 0: tensor([ 84, 122, 166, 109], device='cuda:0') torch.Size([4])\n",
      "08/24/2023, 12:42:06# predicted of 0: tensor([  7,  52, 132, 132], device='cuda:0') torch.Size([4])\n",
      "08/24/2023, 12:42:12# labels of Validation: tensor([153, 158, 115, 114], device='cuda:0') torch.Size([4])\n",
      "08/24/2023, 12:42:12# predicted of Validation: tensor([132, 132,   7, 132], device='cuda:0') torch.Size([4])\n",
      "08/24/2023, 12:42:19# labels of Validation: tensor([130, 125,  78,  52], device='cuda:0') torch.Size([4])\n",
      "08/24/2023, 12:42:19# predicted of Validation: tensor([  7, 132,   7,  52], device='cuda:0') torch.Size([4])\n",
      "08/24/2023, 12:42:25# labels of Validation: tensor([ 14,  82,  51, 137], device='cuda:0') torch.Size([4])\n",
      "08/24/2023, 12:42:25# predicted of Validation: tensor([132,  52, 132, 132], device='cuda:0') torch.Size([4])\n",
      "08/24/2023, 12:42:32# labels of Validation: tensor([ 81, 159,  35,  77], device='cuda:0') torch.Size([4])\n",
      "08/24/2023, 12:42:32# predicted of Validation: tensor([132,  52,   7, 132], device='cuda:0') torch.Size([4])\n",
      "08/24/2023, 12:42:33# Validation Loss: 4.7722 | Validation Accuracy: 0.0540\n",
      "\n"
     ]
    },
    {
     "data": {
      "application/vnd.jupyter.widget-view+json": {
       "model_id": "89423328287e4a568d00dccf23f40171",
       "version_major": 2,
       "version_minor": 0
      },
      "text/plain": [
       "Training:   0%|          | 0/33000 [00:00<?, ?it/s]"
      ]
     },
     "metadata": {},
     "output_type": "display_data"
    },
    {
     "name": "stdout",
     "output_type": "stream",
     "text": [
      "08/24/2023, 12:44:14# labels of 5000: tensor([ 92,   4,  42, 132], device='cuda:0') torch.Size([4])\n",
      "08/24/2023, 12:44:14# predicted of 5000: tensor([132, 132, 132, 132], device='cuda:0') torch.Size([4])\n",
      "08/24/2023, 12:45:55# labels of 10000: tensor([ 76,  82,   3, 106], device='cuda:0') torch.Size([4])\n",
      "08/24/2023, 12:45:55# predicted of 10000: tensor([132,  52,  99, 106], device='cuda:0') torch.Size([4])\n",
      "08/24/2023, 12:47:39# labels of 15000: tensor([109,  34,  57, 142], device='cuda:0') torch.Size([4])\n",
      "08/24/2023, 12:47:39# predicted of 15000: tensor([132, 161, 132, 161], device='cuda:0') torch.Size([4])\n",
      "08/24/2023, 12:49:25# labels of 20000: tensor([53, 62, 32, 27], device='cuda:0') torch.Size([4])\n",
      "08/24/2023, 12:49:25# predicted of 20000: tensor([132, 156,   7,  25], device='cuda:0') torch.Size([4])\n",
      "08/24/2023, 12:51:07# labels of 25000: tensor([ 50, 130,  72,  11], device='cuda:0') torch.Size([4])\n",
      "08/24/2023, 12:51:07# predicted of 25000: tensor([ 99,   7,  52, 161], device='cuda:0') torch.Size([4])\n",
      "08/24/2023, 12:52:48# labels of 30000: tensor([144,  29,  58,  60], device='cuda:0') torch.Size([4])\n",
      "08/24/2023, 12:52:48# predicted of 30000: tensor([132,  52, 132, 161], device='cuda:0') torch.Size([4])\n",
      "08/24/2023, 12:53:48# total count: 33000\n",
      "08/24/2023, 12:53:48# Epoch 8 | Train Loss: 4.6997 | Train Accuracy: 0.0520\n"
     ]
    },
    {
     "data": {
      "application/vnd.jupyter.widget-view+json": {
       "model_id": "476ade584e06406ab96a0b77f01aaf9a",
       "version_major": 2,
       "version_minor": 0
      },
      "text/plain": [
       "Validation:   0%|          | 0/4125 [00:00<?, ?it/s]"
      ]
     },
     "metadata": {},
     "output_type": "display_data"
    },
    {
     "name": "stdout",
     "output_type": "stream",
     "text": [
      "08/24/2023, 12:53:48# labels of Validation: tensor([  8, 119,  29, 106], device='cuda:0') torch.Size([4])\n",
      "08/24/2023, 12:53:48# predicted of Validation: tensor([132, 132,  52, 106], device='cuda:0') torch.Size([4])\n",
      "08/24/2023, 12:53:48# labels of 0: tensor([  8, 119,  29, 106], device='cuda:0') torch.Size([4])\n",
      "08/24/2023, 12:53:48# predicted of 0: tensor([132, 132,  52, 106], device='cuda:0') torch.Size([4])\n",
      "08/24/2023, 12:53:54# labels of Validation: tensor([113, 130,  75, 111], device='cuda:0') torch.Size([4])\n",
      "08/24/2023, 12:53:54# predicted of Validation: tensor([132,   7, 132, 132], device='cuda:0') torch.Size([4])\n",
      "08/24/2023, 12:54:00# labels of Validation: tensor([ 25,  14,  76, 118], device='cuda:0') torch.Size([4])\n",
      "08/24/2023, 12:54:00# predicted of Validation: tensor([ 25, 132, 132,  52], device='cuda:0') torch.Size([4])\n",
      "08/24/2023, 12:54:06# labels of Validation: tensor([166,   1,  32,  59], device='cuda:0') torch.Size([4])\n",
      "08/24/2023, 12:54:06# predicted of Validation: tensor([132, 132,  17, 132], device='cuda:0') torch.Size([4])\n",
      "08/24/2023, 12:54:12# labels of Validation: tensor([129,  12,  32,  96], device='cuda:0') torch.Size([4])\n",
      "08/24/2023, 12:54:12# predicted of Validation: tensor([132, 132,  17,  99], device='cuda:0') torch.Size([4])\n",
      "08/24/2023, 12:54:13# Validation Loss: 4.6302 | Validation Accuracy: 0.0545\n",
      "\n"
     ]
    },
    {
     "data": {
      "application/vnd.jupyter.widget-view+json": {
       "model_id": "d38b6382029c4b028c414e90d8701314",
       "version_major": 2,
       "version_minor": 0
      },
      "text/plain": [
       "Training:   0%|          | 0/33000 [00:00<?, ?it/s]"
      ]
     },
     "metadata": {},
     "output_type": "display_data"
    },
    {
     "name": "stdout",
     "output_type": "stream",
     "text": [
      "08/24/2023, 12:55:55# labels of 5000: tensor([116, 111,  82, 120], device='cuda:0') torch.Size([4])\n",
      "08/24/2023, 12:55:55# predicted of 5000: tensor([132, 161,  52,  99], device='cuda:0') torch.Size([4])\n",
      "08/24/2023, 12:57:36# labels of 10000: tensor([ 51,   6,  95, 110], device='cuda:0') torch.Size([4])\n",
      "08/24/2023, 12:57:36# predicted of 10000: tensor([132, 161,   7, 132], device='cuda:0') torch.Size([4])\n",
      "08/24/2023, 12:59:18# labels of 15000: tensor([ 91,  26,  25, 164], device='cuda:0') torch.Size([4])\n",
      "08/24/2023, 12:59:18# predicted of 15000: tensor([134, 132,  52, 161], device='cuda:0') torch.Size([4])\n",
      "08/24/2023, 13:00:54# labels of 20000: tensor([ 75,  74, 111, 153], device='cuda:0') torch.Size([4])\n",
      "08/24/2023, 13:00:54# predicted of 20000: tensor([161, 161, 132, 161], device='cuda:0') torch.Size([4])\n",
      "08/24/2023, 13:02:35# labels of 25000: tensor([ 32, 129,  12, 161], device='cuda:0') torch.Size([4])\n",
      "08/24/2023, 13:02:35# predicted of 25000: tensor([  7, 161, 132, 132], device='cuda:0') torch.Size([4])\n",
      "08/24/2023, 13:04:16# labels of 30000: tensor([ 18, 114,  77,  72], device='cuda:0') torch.Size([4])\n",
      "08/24/2023, 13:04:16# predicted of 30000: tensor([132, 132, 132,  52], device='cuda:0') torch.Size([4])\n",
      "08/24/2023, 13:05:17# total count: 33000\n",
      "08/24/2023, 13:05:17# Epoch 9 | Train Loss: 4.5784 | Train Accuracy: 0.0529\n"
     ]
    },
    {
     "data": {
      "application/vnd.jupyter.widget-view+json": {
       "model_id": "4b5c5a8824bc4b18be8b8dbf182f7413",
       "version_major": 2,
       "version_minor": 0
      },
      "text/plain": [
       "Validation:   0%|          | 0/4125 [00:00<?, ?it/s]"
      ]
     },
     "metadata": {},
     "output_type": "display_data"
    },
    {
     "name": "stdout",
     "output_type": "stream",
     "text": [
      "08/24/2023, 13:05:17# labels of Validation: tensor([ 12,  46, 153, 154], device='cuda:0') torch.Size([4])\n",
      "08/24/2023, 13:05:17# predicted of Validation: tensor([132, 132, 132, 154], device='cuda:0') torch.Size([4])\n",
      "08/24/2023, 13:05:17# labels of 0: tensor([ 12,  46, 153, 154], device='cuda:0') torch.Size([4])\n",
      "08/24/2023, 13:05:17# predicted of 0: tensor([132, 132, 132, 154], device='cuda:0') torch.Size([4])\n",
      "08/24/2023, 13:05:22# labels of Validation: tensor([127,   2,  59, 144], device='cuda:0') torch.Size([4])\n",
      "08/24/2023, 13:05:22# predicted of Validation: tensor([  7, 132, 132, 132], device='cuda:0') torch.Size([4])\n",
      "08/24/2023, 13:05:28# labels of Validation: tensor([  6, 155,  18,  26], device='cuda:0') torch.Size([4])\n",
      "08/24/2023, 13:05:28# predicted of Validation: tensor([132, 132, 132, 132], device='cuda:0') torch.Size([4])\n",
      "08/24/2023, 13:05:34# labels of Validation: tensor([103,  94,  39, 160], device='cuda:0') torch.Size([4])\n",
      "08/24/2023, 13:05:34# predicted of Validation: tensor([132,   7,   7, 132], device='cuda:0') torch.Size([4])\n",
      "08/24/2023, 13:05:40# labels of Validation: tensor([ 9,  3, 89, 29], device='cuda:0') torch.Size([4])\n",
      "08/24/2023, 13:05:40# predicted of Validation: tensor([132,  99,   7,  52], device='cuda:0') torch.Size([4])\n",
      "08/24/2023, 13:05:41# Validation Loss: 4.5294 | Validation Accuracy: 0.0545\n",
      "\n"
     ]
    },
    {
     "data": {
      "application/vnd.jupyter.widget-view+json": {
       "model_id": "d010fda241304c8bbdf7dd322ae46961",
       "version_major": 2,
       "version_minor": 0
      },
      "text/plain": [
       "Training:   0%|          | 0/33000 [00:00<?, ?it/s]"
      ]
     },
     "metadata": {},
     "output_type": "display_data"
    },
    {
     "name": "stdout",
     "output_type": "stream",
     "text": [
      "08/24/2023, 13:07:21# labels of 5000: tensor([155,  93,  80, 109], device='cuda:0') torch.Size([4])\n",
      "08/24/2023, 13:07:21# predicted of 5000: tensor([134, 132,  99, 161], device='cuda:0') torch.Size([4])\n",
      "08/24/2023, 13:09:02# labels of 10000: tensor([118,  18,  12, 135], device='cuda:0') torch.Size([4])\n",
      "08/24/2023, 13:09:02# predicted of 10000: tensor([ 52, 132, 132, 132], device='cuda:0') torch.Size([4])\n",
      "08/24/2023, 13:10:43# labels of 15000: tensor([131,  77,   0, 130], device='cuda:0') torch.Size([4])\n",
      "08/24/2023, 13:10:43# predicted of 15000: tensor([132, 132,   7,   7], device='cuda:0') torch.Size([4])\n",
      "08/24/2023, 13:12:26# labels of 20000: tensor([ 21,  35,  43, 163], device='cuda:0') torch.Size([4])\n",
      "08/24/2023, 13:12:26# predicted of 20000: tensor([132,   7, 132, 132], device='cuda:0') torch.Size([4])\n",
      "08/24/2023, 13:14:07# labels of 25000: tensor([ 48,  43, 111,  16], device='cuda:0') torch.Size([4])\n",
      "08/24/2023, 13:14:07# predicted of 25000: tensor([132, 132, 132,  52], device='cuda:0') torch.Size([4])\n",
      "08/24/2023, 13:15:49# labels of 30000: tensor([ 45, 160,  83, 103], device='cuda:0') torch.Size([4])\n",
      "08/24/2023, 13:15:49# predicted of 30000: tensor([  7, 161, 161, 161], device='cuda:0') torch.Size([4])\n",
      "08/24/2023, 13:16:50# total count: 33000\n",
      "08/24/2023, 13:16:50# Epoch 10 | Train Loss: 4.4919 | Train Accuracy: 0.0543\n"
     ]
    },
    {
     "data": {
      "application/vnd.jupyter.widget-view+json": {
       "model_id": "779de0d52c154954a456135b58c1778f",
       "version_major": 2,
       "version_minor": 0
      },
      "text/plain": [
       "Validation:   0%|          | 0/4125 [00:00<?, ?it/s]"
      ]
     },
     "metadata": {},
     "output_type": "display_data"
    },
    {
     "name": "stdout",
     "output_type": "stream",
     "text": [
      "08/24/2023, 13:16:50# labels of Validation: tensor([ 76,  64, 106,  82], device='cuda:0') torch.Size([4])\n",
      "08/24/2023, 13:16:50# predicted of Validation: tensor([132, 132, 106,  52], device='cuda:0') torch.Size([4])\n",
      "08/24/2023, 13:16:50# labels of 0: tensor([ 76,  64, 106,  82], device='cuda:0') torch.Size([4])\n",
      "08/24/2023, 13:16:50# predicted of 0: tensor([132, 132, 106,  52], device='cuda:0') torch.Size([4])\n",
      "08/24/2023, 13:16:56# labels of Validation: tensor([ 13,  64,  67, 114], device='cuda:0') torch.Size([4])\n",
      "08/24/2023, 13:16:56# predicted of Validation: tensor([  7, 132,   7, 132], device='cuda:0') torch.Size([4])\n",
      "08/24/2023, 13:17:02# labels of Validation: tensor([  5, 147, 159,  90], device='cuda:0') torch.Size([4])\n",
      "08/24/2023, 13:17:02# predicted of Validation: tensor([  7,  99,  52, 132], device='cuda:0') torch.Size([4])\n",
      "08/24/2023, 13:17:08# labels of Validation: tensor([95, 73, 79, 74], device='cuda:0') torch.Size([4])\n",
      "08/24/2023, 13:17:08# predicted of Validation: tensor([  7,   7,   7, 132], device='cuda:0') torch.Size([4])\n",
      "08/24/2023, 13:17:14# labels of Validation: tensor([ 13, 157,  11,  79], device='cuda:0') torch.Size([4])\n",
      "08/24/2023, 13:17:14# predicted of Validation: tensor([  7, 132, 132,   7], device='cuda:0') torch.Size([4])\n",
      "08/24/2023, 13:17:15# Validation Loss: 4.4531 | Validation Accuracy: 0.0561\n",
      "\n"
     ]
    },
    {
     "data": {
      "application/vnd.jupyter.widget-view+json": {
       "model_id": "f06d6253e47942258da3d5e0676a8be5",
       "version_major": 2,
       "version_minor": 0
      },
      "text/plain": [
       "Training:   0%|          | 0/33000 [00:00<?, ?it/s]"
      ]
     },
     "metadata": {},
     "output_type": "display_data"
    },
    {
     "name": "stdout",
     "output_type": "stream",
     "text": [
      "08/24/2023, 13:18:56# labels of 5000: tensor([ 11, 114, 127, 127], device='cuda:0') torch.Size([4])\n",
      "08/24/2023, 13:18:56# predicted of 5000: tensor([161, 132,  99,  99], device='cuda:0') torch.Size([4])\n",
      "08/24/2023, 13:20:37# labels of 10000: tensor([75, 82, 34, 54], device='cuda:0') torch.Size([4])\n",
      "08/24/2023, 13:20:37# predicted of 10000: tensor([132,  52, 161, 132], device='cuda:0') torch.Size([4])\n",
      "08/24/2023, 13:22:19# labels of 15000: tensor([112, 134,  59,  39], device='cuda:0') torch.Size([4])\n",
      "08/24/2023, 13:22:19# predicted of 15000: tensor([132, 134, 132,   7], device='cuda:0') torch.Size([4])\n",
      "08/24/2023, 13:24:03# labels of 20000: tensor([ 20, 106, 118,  38], device='cuda:0') torch.Size([4])\n",
      "08/24/2023, 13:24:03# predicted of 20000: tensor([132, 106, 154, 132], device='cuda:0') torch.Size([4])\n",
      "08/24/2023, 13:25:44# labels of 25000: tensor([95, 67, 80, 50], device='cuda:0') torch.Size([4])\n",
      "08/24/2023, 13:25:44# predicted of 25000: tensor([17,  7, 99,  7], device='cuda:0') torch.Size([4])\n",
      "08/24/2023, 13:27:25# labels of 30000: tensor([ 58,  49, 154,  52], device='cuda:0') torch.Size([4])\n",
      "08/24/2023, 13:27:25# predicted of 30000: tensor([132, 132, 154,  52], device='cuda:0') torch.Size([4])\n",
      "08/24/2023, 13:28:26# total count: 33000\n",
      "08/24/2023, 13:28:26# Epoch 11 | Train Loss: 4.4244 | Train Accuracy: 0.0556\n"
     ]
    },
    {
     "data": {
      "application/vnd.jupyter.widget-view+json": {
       "model_id": "9bb8d1af6b6c4c84a46c9f281a4c66cf",
       "version_major": 2,
       "version_minor": 0
      },
      "text/plain": [
       "Validation:   0%|          | 0/4125 [00:00<?, ?it/s]"
      ]
     },
     "metadata": {},
     "output_type": "display_data"
    },
    {
     "name": "stdout",
     "output_type": "stream",
     "text": [
      "08/24/2023, 13:28:26# labels of Validation: tensor([148, 154,   6,  96], device='cuda:0') torch.Size([4])\n",
      "08/24/2023, 13:28:26# predicted of Validation: tensor([132, 154, 132,  99], device='cuda:0') torch.Size([4])\n",
      "08/24/2023, 13:28:26# labels of 0: tensor([148, 154,   6,  96], device='cuda:0') torch.Size([4])\n",
      "08/24/2023, 13:28:26# predicted of 0: tensor([132, 154, 132,  99], device='cuda:0') torch.Size([4])\n",
      "08/24/2023, 13:28:33# labels of Validation: tensor([106,  47,   0,  85], device='cuda:0') torch.Size([4])\n",
      "08/24/2023, 13:28:33# predicted of Validation: tensor([106, 132,  52, 154], device='cuda:0') torch.Size([4])\n",
      "08/24/2023, 13:28:39# labels of Validation: tensor([146, 146,  63, 130], device='cuda:0') torch.Size([4])\n",
      "08/24/2023, 13:28:39# predicted of Validation: tensor([ 99,  99, 132,   7], device='cuda:0') torch.Size([4])\n",
      "08/24/2023, 13:28:45# labels of Validation: tensor([123, 101,  49, 106], device='cuda:0') torch.Size([4])\n",
      "08/24/2023, 13:28:45# predicted of Validation: tensor([ 25, 132, 132, 106], device='cuda:0') torch.Size([4])\n",
      "08/24/2023, 13:28:51# labels of Validation: tensor([108,   8, 148,  68], device='cuda:0') torch.Size([4])\n",
      "08/24/2023, 13:28:51# predicted of Validation: tensor([132, 132, 132, 132], device='cuda:0') torch.Size([4])\n",
      "08/24/2023, 13:28:52# Validation Loss: 4.3908 | Validation Accuracy: 0.0605\n",
      "\n"
     ]
    },
    {
     "data": {
      "application/vnd.jupyter.widget-view+json": {
       "model_id": "40ee2d8e56de4ec8b57e1aafe53ee5e0",
       "version_major": 2,
       "version_minor": 0
      },
      "text/plain": [
       "Training:   0%|          | 0/33000 [00:00<?, ?it/s]"
      ]
     },
     "metadata": {},
     "output_type": "display_data"
    },
    {
     "name": "stdout",
     "output_type": "stream",
     "text": [
      "08/24/2023, 13:30:36# labels of 5000: tensor([ 40,  62, 103,  85], device='cuda:0') torch.Size([4])\n",
      "08/24/2023, 13:30:36# predicted of 5000: tensor([  7,  17, 132, 154], device='cuda:0') torch.Size([4])\n",
      "08/24/2023, 13:32:21# labels of 10000: tensor([ 56, 138,  42,  79], device='cuda:0') torch.Size([4])\n",
      "08/24/2023, 13:32:21# predicted of 10000: tensor([  7,  52, 161,  52], device='cuda:0') torch.Size([4])\n",
      "08/24/2023, 13:34:04# labels of 15000: tensor([48, 24, 89, 75], device='cuda:0') torch.Size([4])\n",
      "08/24/2023, 13:34:04# predicted of 15000: tensor([132, 132,  17, 132], device='cuda:0') torch.Size([4])\n",
      "08/24/2023, 13:35:45# labels of 20000: tensor([151, 105, 166,  72], device='cuda:0') torch.Size([4])\n",
      "08/24/2023, 13:35:45# predicted of 20000: tensor([161,   7, 132,   7], device='cuda:0') torch.Size([4])\n",
      "08/24/2023, 13:37:27# labels of 25000: tensor([127,  39, 142,  56], device='cuda:0') torch.Size([4])\n",
      "08/24/2023, 13:37:27# predicted of 25000: tensor([  7, 156, 132,  99], device='cuda:0') torch.Size([4])\n",
      "08/24/2023, 13:39:08# labels of 30000: tensor([106, 131, 164, 132], device='cuda:0') torch.Size([4])\n",
      "08/24/2023, 13:39:08# predicted of 30000: tensor([106, 132, 132, 132], device='cuda:0') torch.Size([4])\n",
      "08/24/2023, 13:40:09# total count: 33000\n",
      "08/24/2023, 13:40:09# Epoch 12 | Train Loss: 4.3682 | Train Accuracy: 0.0589\n"
     ]
    },
    {
     "data": {
      "application/vnd.jupyter.widget-view+json": {
       "model_id": "d485b24b6532435cada6349ee2f9121f",
       "version_major": 2,
       "version_minor": 0
      },
      "text/plain": [
       "Validation:   0%|          | 0/4125 [00:00<?, ?it/s]"
      ]
     },
     "metadata": {},
     "output_type": "display_data"
    },
    {
     "name": "stdout",
     "output_type": "stream",
     "text": [
      "08/24/2023, 13:40:09# labels of Validation: tensor([ 46, 127,  34, 129], device='cuda:0') torch.Size([4])\n",
      "08/24/2023, 13:40:09# predicted of Validation: tensor([132,  17, 132, 132], device='cuda:0') torch.Size([4])\n",
      "08/24/2023, 13:40:09# labels of 0: tensor([ 46, 127,  34, 129], device='cuda:0') torch.Size([4])\n",
      "08/24/2023, 13:40:09# predicted of 0: tensor([132,  17, 132, 132], device='cuda:0') torch.Size([4])\n",
      "08/24/2023, 13:40:16# labels of Validation: tensor([134,  25, 144, 155], device='cuda:0') torch.Size([4])\n",
      "08/24/2023, 13:40:16# predicted of Validation: tensor([134,  25, 132, 132], device='cuda:0') torch.Size([4])\n",
      "08/24/2023, 13:40:22# labels of Validation: tensor([ 39,  49, 147, 117], device='cuda:0') torch.Size([4])\n",
      "08/24/2023, 13:40:22# predicted of Validation: tensor([  7, 132,  99,   7], device='cuda:0') torch.Size([4])\n",
      "08/24/2023, 13:40:28# labels of Validation: tensor([113, 113, 125, 115], device='cuda:0') torch.Size([4])\n",
      "08/24/2023, 13:40:28# predicted of Validation: tensor([132, 132, 132,   7], device='cuda:0') torch.Size([4])\n",
      "08/24/2023, 13:40:35# labels of Validation: tensor([142,  80, 155,  36], device='cuda:0') torch.Size([4])\n",
      "08/24/2023, 13:40:35# predicted of Validation: tensor([132,  99, 132, 132], device='cuda:0') torch.Size([4])\n",
      "08/24/2023, 13:40:35# Validation Loss: 4.3383 | Validation Accuracy: 0.0667\n",
      "\n"
     ]
    },
    {
     "data": {
      "application/vnd.jupyter.widget-view+json": {
       "model_id": "e249d13e8a33416cb374f76bc462ffa7",
       "version_major": 2,
       "version_minor": 0
      },
      "text/plain": [
       "Training:   0%|          | 0/33000 [00:00<?, ?it/s]"
      ]
     },
     "metadata": {},
     "output_type": "display_data"
    },
    {
     "name": "stdout",
     "output_type": "stream",
     "text": [
      "08/24/2023, 13:42:16# labels of 5000: tensor([ 28, 103, 123,  87], device='cuda:0') torch.Size([4])\n",
      "08/24/2023, 13:42:16# predicted of 5000: tensor([132, 132,   7, 132], device='cuda:0') torch.Size([4])\n"
     ]
    }
   ],
   "source": [
    "from torch.optim import AdamW, lr_scheduler\n",
    "\n",
    "seed = 8787\n",
    "same_seeds(seed)\n",
    "\n",
    "model = GAT(in_dim=50, hidden_dim=16, out_dim=168, num_heads=8)\n",
    "# in_dim means the dimension of the node_feat(50 dim, since the 50-dim embedding)\n",
    "# out_dim means the # of the categories -> 168 for out tasks\n",
    "model.load_state_dict(torch.load('model1_initial/initial_weight.pth'))\n",
    "best_model_path = \"../checkpoint_GAT/best_model_GAT.pt\"\n",
    "\n",
    "model = model.to(device)\n",
    "\n",
    "# optimizer = torch.optim.AdamW(model.parameters(), lr=1e-5)\n",
    "optimizer = AdamW(model.parameters(), lr=1e-5)\n",
    "# scheduler = get_linear_schedule_with_warmup(optimizer, num_warmup_steps=100, num_training_steps=total_steps)\n",
    "\n",
    "# T_max control the period of the lr changing -> set 1/10 first\n",
    "scheduler = lr_scheduler.CosineAnnealingLR(optimizer, T_max=18, eta_min=0, last_epoch=- 1, verbose=False)\n",
    "\n",
    "\n",
    "criterion = nn.CrossEntropyLoss()\n",
    "total_steps = 180\n",
    "\n",
    "# save the best model\n",
    "best_val_loss = float('inf')\n",
    "patience = 500  # Number of epochs with no improvement after which training will be stopped.\n",
    "waiting = 0  # The number of epochs with no improvement so far.\n",
    "\n",
    "\n",
    "# Training Part\n",
    "for epoch in tqdm(range(total_steps)):\n",
    "    # Train\n",
    "    model.train()\n",
    "    total_loss = 0.0\n",
    "    total_accuracy = 0.0\n",
    "    num_batches = 0\n",
    "    \n",
    "    count = 0 \n",
    "    \n",
    "    for data in tqdm(dataloaders['train'], desc=\"Training\", position=0, leave=True):\n",
    "        \n",
    "        count += 1\n",
    "        loss, accuracy, _ = model_fn(data, model, criterion, device, count, which_type='train')\n",
    "        \n",
    "        optimizer.zero_grad()\n",
    "        loss.backward()\n",
    "        optimizer.step()\n",
    "\n",
    "        total_loss += loss.item()\n",
    "        total_accuracy += accuracy.item()\n",
    "        num_batches += 1\n",
    "        \n",
    "#     scheduler.step()\n",
    "    add_log_msg(f\"total count: {count}\")\n",
    "\n",
    "    avg_loss = total_loss / num_batches\n",
    "    avg_accuracy = total_accuracy / num_batches\n",
    "\n",
    "    add_log_msg(f'Epoch {epoch} | Train Loss: {avg_loss:.4f} | Train Accuracy: {avg_accuracy:.4f}')\n",
    "\n",
    "    \n",
    "    # Validation Part\n",
    "    model.eval()\n",
    "    total_accuracy = 0.0\n",
    "    total_loss = 0.0\n",
    "    num_batches = 0\n",
    "\n",
    "\n",
    "    with torch.no_grad():\n",
    "        for data in tqdm(dataloaders['valid'], desc=\"Validation\", position=0, leave=True):\n",
    "            loss, accuracy, _ = model_fn(data, model, criterion, device, num_batches, which_type='validation')\n",
    "            total_accuracy += accuracy.item()\n",
    "            total_loss += loss.item()\n",
    "            num_batches += 1\n",
    "\n",
    "    avg_accuracy = total_accuracy / num_batches\n",
    "    current_loss = total_loss / num_batches\n",
    "    \n",
    "    add_log_msg(f'Validation Loss: {current_loss:.4f} | Validation Accuracy: {avg_accuracy:.4f}\\n')\n",
    "    \n",
    "    \n",
    "    if current_loss < best_val_loss:\n",
    "        best_val_loss = current_loss\n",
    "        waiting = 0\n",
    "        \n",
    "        if os.path.exists(best_model_path):\n",
    "            os.remove(best_model_path)\n",
    "\n",
    "        torch.save({\n",
    "                'epoch': epoch,\n",
    "                'model_state_dict': model.state_dict(),\n",
    "                'optimizer_state_dict': optimizer.state_dict(),\n",
    "                'loss': loss,\n",
    "                }, best_model_path)\n",
    "\n",
    "    else:\n",
    "        waiting += 1\n",
    "        if waiting >= patience:\n",
    "            add_log_msg(\"Early stopping\")\n",
    "            break\n",
    "\n",
    "            \n",
    "# Testing Part\n",
    "model.eval()\n",
    "total = 0\n",
    "correct = 0\n",
    "count = 0\n",
    "\n",
    "with torch.no_grad():\n",
    "    for data in tqdm(dataloaders['test'], desc=\"Testing\", position=0, leave=True):\n",
    "\n",
    "        loss, accuracy, predicted = model_fn(data, model, criterion, device, count, which_type='test')\n",
    "        labels = data[1].to(device)  # Assuming labels are the second element in the tuple\n",
    "        \n",
    "        add_log_msg(f\"labels: {labels} {labels.shape}\")\n",
    "        add_log_msg(f\"predicted: {predicted} {predicted.shape}\")\n",
    "        count += 1\n",
    "        \n",
    "        total += labels.size(0) # label.size(0) is the batch size\n",
    "        correct += (predicted == labels).sum().item() \n",
    "        # (predicted == labels).sum() would return how many of them are equal; \n",
    "        # .item() would make the tensor to the regular value\n",
    "        \n",
    "#     print('Test Accuracy: %d %%' % (100 * correct / total))\n",
    "add_log_msg(f'Test Accuracy: {100 * correct / total} %%')"
   ]
  },
  {
   "cell_type": "code",
   "execution_count": null,
   "metadata": {},
   "outputs": [],
   "source": []
  }
 ],
 "metadata": {
  "kernelspec": {
   "display_name": "Python 3",
   "language": "python",
   "name": "python3"
  },
  "language_info": {
   "codemirror_mode": {
    "name": "ipython",
    "version": 3
   },
   "file_extension": ".py",
   "mimetype": "text/x-python",
   "name": "python",
   "nbconvert_exporter": "python",
   "pygments_lexer": "ipython3",
   "version": "3.6.9"
  }
 },
 "nbformat": 4,
 "nbformat_minor": 2
}
