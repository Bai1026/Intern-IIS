{
 "cells": [
  {
   "cell_type": "markdown",
   "metadata": {},
   "source": [
    "# Test of GAT\n",
    "- use DGL\n",
    "- predict `graphs`\n",
    "- test: 0~99\n",
    "- validation: 100~199\n",
    "- train: 200~999\n",
    "- larger lr with scheduler"
   ]
  },
  {
   "cell_type": "code",
   "execution_count": 1,
   "metadata": {},
   "outputs": [],
   "source": [
    "import dgl\n",
    "import json\n",
    "import torch\n",
    "import torch as th\n",
    "# from tqdm import tqdm\n",
    "from tqdm.notebook import tqdm  # 使用 notebook 版本的 tqdm\n",
    "import torch.nn as nn\n",
    "from dgl.nn import GraphConv, GATConv\n",
    "import torch.nn.functional as F\n",
    "from torch.utils.data import Dataset, DataLoader\n",
    "from transformers import get_linear_schedule_with_warmup\n",
    "from torch.optim import AdamW"
   ]
  },
  {
   "cell_type": "markdown",
   "metadata": {},
   "source": [
    "- check the GPU and assign the GPU by the best memory usage"
   ]
  },
  {
   "cell_type": "code",
   "execution_count": 2,
   "metadata": {},
   "outputs": [
    {
     "name": "stdout",
     "output_type": "stream",
     "text": [
      "cuda:2\n"
     ]
    }
   ],
   "source": [
    "import subprocess\n",
    "import torch\n",
    "\n",
    "def get_free_gpu():\n",
    "    try:\n",
    "        # Run nvidia-smi command to get GPU details\n",
    "        _output_to_list = lambda x: x.decode('ascii').split('\\n')[:-1]\n",
    "        command = \"nvidia-smi --query-gpu=memory.free --format=csv,nounits,noheader\"\n",
    "        memory_free_info = _output_to_list(subprocess.check_output(command.split())) \n",
    "        memory_free_values = [int(x) for i, x in enumerate(memory_free_info)]\n",
    "        \n",
    "        # Get the GPU with the maximum free memory\n",
    "        best_gpu_id = memory_free_values.index(max(memory_free_values))\n",
    "        return best_gpu_id\n",
    "    except:\n",
    "        # If any exception occurs, default to GPU 0 (this handles cases where nvidia-smi isn't installed)\n",
    "        return 0\n",
    "\n",
    "if torch.cuda.is_available():\n",
    "    # Get the best GPU ID based on free memory and set it\n",
    "    best_gpu_id = get_free_gpu()\n",
    "    device = torch.device(f\"cuda:{best_gpu_id}\")\n",
    "else:\n",
    "    device = torch.device(\"cpu\")\n",
    "    print(\"there's no available GPU\")\n",
    "\n",
    "print(device)\n"
   ]
  },
  {
   "cell_type": "markdown",
   "metadata": {},
   "source": [
    "## Fix the seed"
   ]
  },
  {
   "cell_type": "code",
   "execution_count": 3,
   "metadata": {},
   "outputs": [],
   "source": [
    "import numpy as np\n",
    "import torch\n",
    "import random\n",
    "\n",
    "#fix seed\n",
    "def same_seeds(seed = 8787):\n",
    "    torch.manual_seed(seed)\n",
    "    # random.seed(seed) \n",
    "    if torch.cuda.is_available():\n",
    "        torch.cuda.manual_seed(seed)\n",
    "        torch.cuda.manual_seed_all(seed)  \n",
    "    np.random.seed(seed)  \n",
    "    torch.backends.cudnn.benchmark = False\n",
    "    torch.backends.cudnn.deterministic = True"
   ]
  },
  {
   "cell_type": "markdown",
   "metadata": {},
   "source": [
    "## Data Loader"
   ]
  },
  {
   "cell_type": "code",
   "execution_count": 4,
   "metadata": {},
   "outputs": [],
   "source": [
    "class GraphDataset(Dataset):\n",
    "    def __init__(self, data_list, device):\n",
    "        self.data_list = data_list\n",
    "        self.device = device\n",
    "\n",
    "    def __len__(self):\n",
    "        return len(self.data_list)\n",
    "    \n",
    "    def __getitem__(self, idx):\n",
    "        data = self.data_list[idx]\n",
    "\n",
    "        g = dgl.graph((th.tensor(data[\"edge_index\"][0]), th.tensor(data[\"edge_index\"][1])), num_nodes=data[\"num_nodes\"]).to(self.device)\n",
    "\n",
    "        g.ndata['feat'] = th.tensor(data[\"node_feat\"]).to(self.device)\n",
    "        g.edata['feat'] = th.tensor(data[\"edge_attr\"]).to(self.device)  # Add edge features to graph\n",
    "\n",
    "        return g, th.tensor(data[\"label\"]).to(self.device)\n",
    "\n",
    "\n",
    "def collate(samples):\n",
    "    # The input `samples` is a list of pairs\n",
    "    #  (graph, label).\n",
    "    graphs, labels = map(list, zip(*samples))\n",
    "    batched_graph = dgl.batch(graphs)\n",
    "    return batched_graph, torch.tensor(labels)\n"
   ]
  },
  {
   "cell_type": "code",
   "execution_count": null,
   "metadata": {},
   "outputs": [
    {
     "data": {
      "application/vnd.jupyter.widget-view+json": {
       "model_id": "19e5ecc8778e4cf4bb1e898074ecbe34",
       "version_major": 2,
       "version_minor": 0
      },
      "text/plain": [
       "  0%|          | 0/3 [00:00<?, ?it/s]"
      ]
     },
     "metadata": {},
     "output_type": "display_data"
    },
    {
     "name": "stdout",
     "output_type": "stream",
     "text": [
      "../../data_processing/dgl/data_new/training_data/train.jsonl\n"
     ]
    },
    {
     "data": {
      "application/vnd.jupyter.widget-view+json": {
       "model_id": "27037fd560e34d41b8faf605dcc706f1",
       "version_major": 2,
       "version_minor": 0
      },
      "text/plain": [
       "0it [00:00, ?it/s]"
      ]
     },
     "metadata": {},
     "output_type": "display_data"
    }
   ],
   "source": [
    "datasets = ['train', 'valid', 'test']\n",
    "dataset_data = {}\n",
    "\n",
    "for dataset_name in tqdm(datasets):\n",
    "#     file_path = f\"../../data_processing/dgl/data/test_graph/repeated_{dataset_name}.jsonl\"\n",
    "    file_path = f\"../../data_processing/dgl/data_new/training_data/{dataset_name}.jsonl\"\n",
    "    \n",
    "    print(file_path)\n",
    "    with open(file_path) as f:\n",
    "        data_list = [json.loads(line) for line in tqdm(f, position=0, leave=True)]\n",
    "    \n",
    "    dataset_data[dataset_name] = GraphDataset(data_list, device)\n",
    "\n",
    "print(\"Datasets loaded!\")"
   ]
  },
  {
   "cell_type": "markdown",
   "metadata": {},
   "source": [
    "- choose batch size"
   ]
  },
  {
   "cell_type": "code",
   "execution_count": null,
   "metadata": {},
   "outputs": [],
   "source": [
    "def create_dataloaders(batch_size, shuffle=True):\n",
    "    dataloaders = {}\n",
    "    for dataset_name, dataset in dataset_data.items():\n",
    "        dataloaders[dataset_name] = DataLoader(dataset, batch_size=batch_size, shuffle=shuffle, collate_fn=collate)\n",
    "    return dataloaders\n",
    "\n",
    "dataloaders = create_dataloaders(4)\n",
    "# dataloaders = create_dataloaders(16)"
   ]
  },
  {
   "cell_type": "markdown",
   "metadata": {},
   "source": [
    "- Turn the print message to a log file"
   ]
  },
  {
   "cell_type": "code",
   "execution_count": null,
   "metadata": {},
   "outputs": [],
   "source": [
    "import datetime\n",
    "\n",
    "now = datetime.datetime.now()\n",
    "\n",
    "formatted_time = now.strftime(\"%m%d_%H:%M\")\n",
    "\n",
    "log_file_path = f\"../log_message/{formatted_time}_GAT_data_graph_2.log\"\n",
    "\n",
    "def add_log_msg(msg, log_file_path=log_file_path):\n",
    "    with open(log_file_path, 'a') as f:\n",
    "        f.write(f'{datetime.datetime.now().strftime(\"%m/%d/%Y, %H:%M:%S\")}# {msg}\\n')\n",
    "    print(f'{datetime.datetime.now().strftime(\"%m/%d/%Y, %H:%M:%S\")}# {msg}')\n",
    "\n",
    "print(log_file_path)"
   ]
  },
  {
   "cell_type": "markdown",
   "metadata": {},
   "source": [
    "### Model"
   ]
  },
  {
   "cell_type": "code",
   "execution_count": null,
   "metadata": {},
   "outputs": [],
   "source": [
    "class GAT(nn.Module):\n",
    "    def __init__(self, in_dim, hidden_dim, out_dim, num_heads, dropout_prob=0.25):\n",
    "        super(GAT, self).__init__()\n",
    "        \n",
    "        # do not check the zero in_degree since we have all the complete graph\n",
    "        self.layer1 = GATConv(in_dim, hidden_dim, num_heads=num_heads, activation=F.relu, allow_zero_in_degree=True)\n",
    "        self.layer2 = GATConv(hidden_dim * num_heads, out_dim, num_heads=num_heads, allow_zero_in_degree=True)\n",
    "        \n",
    "        # Adding Batch Normalization after each GAT layer\n",
    "        self.batchnorm1 = nn.BatchNorm1d(hidden_dim * num_heads)\n",
    "        self.batchnorm2 = nn.BatchNorm1d(out_dim)\n",
    "        \n",
    "        # Adding Dropout for regularization\n",
    "        self.dropout = nn.Dropout(dropout_prob)\n",
    "\n",
    "    def forward(self, g, h):\n",
    "        # Apply GAT layers\n",
    "        h = self.layer1(g, h)\n",
    "        h = h.view(h.shape[0], -1)\n",
    "        h = F.relu(h)\n",
    "        h = self.dropout(h)\n",
    "        h = self.layer2(g, h).squeeze(1)\n",
    "        \n",
    "        # Store the output as a new node feature\n",
    "        g.ndata['h_out'] = h\n",
    "\n",
    "        # Use mean pooling to aggregate this new node feature\n",
    "        h_agg = dgl.mean_nodes(g, feat='h_out')\n",
    "        return h_agg\n",
    "\n",
    "    "
   ]
  },
  {
   "cell_type": "markdown",
   "metadata": {},
   "source": [
    "- Model Forward  "
   ]
  },
  {
   "cell_type": "code",
   "execution_count": null,
   "metadata": {},
   "outputs": [],
   "source": [
    "def model_fn(data, model, criterion, device, count=1, which_type='train'):\n",
    "    \"\"\"Forward a batch through the model.\"\"\"\n",
    "    batched_g, labels = data\n",
    "    batched_g = batched_g.to(device)\n",
    "    \n",
    "    labels = labels.to(device)\n",
    "    logits = model(batched_g, batched_g.ndata['feat'].float()) # for GAT\n",
    "    logits = logits.mean(dim=1)\n",
    "    \n",
    "    loss = criterion(logits, labels)\n",
    "\n",
    "    # Get the class id with the highest probability\n",
    "    preds = logits.argmax(1)\n",
    "    \n",
    "    # Compute accuracy\n",
    "    accuracy = torch.mean((preds == labels).float())\n",
    "    \n",
    "    if which_type == 'validation' and count % 1000 == 0:\n",
    "        add_log_msg(f\"labels of Validation: {labels} {labels.shape}\")\n",
    "        add_log_msg(f\"predicted of Validation: {preds} {preds.shape}\")\n",
    "        \n",
    "    elif which_type == 'test'  and count % 1000 == 0:\n",
    "        add_log_msg(f\"labels of Test: {labels} {labels.shape}\")\n",
    "        add_log_msg(f\"predicted of Test: {preds} {preds.shape}\")\n",
    "        \n",
    "    if count % 5000 == 0: \n",
    "        add_log_msg(f\"labels of {count}: {labels} {labels.shape}\")\n",
    "        add_log_msg(f\"predicted of {count}: {preds} {preds.shape}\")\n",
    "        \n",
    "    return loss, accuracy, preds"
   ]
  },
  {
   "cell_type": "markdown",
   "metadata": {},
   "source": [
    "### Training"
   ]
  },
  {
   "cell_type": "markdown",
   "metadata": {},
   "source": [
    "- Fix the seed and save the model.state_dict that contains the initial weight"
   ]
  },
  {
   "cell_type": "code",
   "execution_count": null,
   "metadata": {},
   "outputs": [],
   "source": [
    "seed = 8787\n",
    "same_seeds(seed)\n",
    "\n",
    "model = GAT(in_dim=50, hidden_dim=16, out_dim=168, num_heads=8)\n",
    "torch.save(model.state_dict(), 'model1_initial/initial_weight.pth')"
   ]
  },
  {
   "cell_type": "code",
   "execution_count": null,
   "metadata": {},
   "outputs": [],
   "source": [
    "model.layer1.fc.weight"
   ]
  },
  {
   "cell_type": "markdown",
   "metadata": {},
   "source": [
    "- Check if model really load the model_dict"
   ]
  },
  {
   "cell_type": "code",
   "execution_count": null,
   "metadata": {},
   "outputs": [],
   "source": [
    "model = GAT(in_dim=50, hidden_dim=16, out_dim=168, num_heads=8)\n",
    "model.load_state_dict(torch.load('model1_initial/initial_weight.pth'))\n",
    "model.layer1.fc.weight"
   ]
  },
  {
   "cell_type": "markdown",
   "metadata": {},
   "source": [
    "### test of valid and test part is ``graph``"
   ]
  },
  {
   "cell_type": "markdown",
   "metadata": {},
   "source": [
    "- Batch size = 4\n",
    "- use small lr and scheduler"
   ]
  },
  {
   "cell_type": "code",
   "execution_count": 14,
   "metadata": {
    "scrolled": true
   },
   "outputs": [
    {
     "data": {
      "application/vnd.jupyter.widget-view+json": {
       "model_id": "b8d402c6c21d45efbc42e94d44cc358f",
       "version_major": 2,
       "version_minor": 0
      },
      "text/plain": [
       "  0%|          | 0/360 [00:00<?, ?it/s]"
      ]
     },
     "metadata": {},
     "output_type": "display_data"
    },
    {
     "data": {
      "application/vnd.jupyter.widget-view+json": {
       "model_id": "a316c02ce5de4c08a44ab333f602e02f",
       "version_major": 2,
       "version_minor": 0
      },
      "text/plain": [
       "Training:   0%|          | 0/33000 [00:00<?, ?it/s]"
      ]
     },
     "metadata": {},
     "output_type": "display_data"
    },
    {
     "name": "stdout",
     "output_type": "stream",
     "text": [
      "08/24/2023, 15:45:53# labels of 5000: tensor([107,  73,  21, 144], device='cuda:1') torch.Size([4])\n",
      "08/24/2023, 15:45:53# predicted of 5000: tensor([17, 17, 17, 17], device='cuda:1') torch.Size([4])\n",
      "08/24/2023, 15:47:28# labels of 10000: tensor([ 74,  12, 161,  81], device='cuda:1') torch.Size([4])\n",
      "08/24/2023, 15:47:28# predicted of 10000: tensor([17, 52, 17, 52], device='cuda:1') torch.Size([4])\n",
      "08/24/2023, 15:48:28# labels of 15000: tensor([143,  67,  31, 132], device='cuda:1') torch.Size([4])\n",
      "08/24/2023, 15:48:28# predicted of 15000: tensor([ 17,  17,  17, 156], device='cuda:1') torch.Size([4])\n",
      "08/24/2023, 15:50:08# labels of 20000: tensor([162,  59, 165, 101], device='cuda:1') torch.Size([4])\n",
      "08/24/2023, 15:50:08# predicted of 20000: tensor([154,  52, 154, 154], device='cuda:1') torch.Size([4])\n",
      "08/24/2023, 15:51:49# labels of 25000: tensor([ 15,  95,  73, 140], device='cuda:1') torch.Size([4])\n",
      "08/24/2023, 15:51:49# predicted of 25000: tensor([ 7,  7,  7, 99], device='cuda:1') torch.Size([4])\n",
      "08/24/2023, 15:53:29# labels of 30000: tensor([ 35, 145, 119,  70], device='cuda:1') torch.Size([4])\n",
      "08/24/2023, 15:53:29# predicted of 30000: tensor([  7,  99, 132,  52], device='cuda:1') torch.Size([4])\n",
      "08/24/2023, 15:54:29# total batches: 33000\n",
      "08/24/2023, 15:54:29# Epoch 0 | Train Loss: 4.9103 | Train Accuracy: 0.0281\n"
     ]
    },
    {
     "data": {
      "application/vnd.jupyter.widget-view+json": {
       "model_id": "b3f9b4a4f04e4b5f96a61bbcac9911e6",
       "version_major": 2,
       "version_minor": 0
      },
      "text/plain": [
       "Validation:   0%|          | 0/4125 [00:00<?, ?it/s]"
      ]
     },
     "metadata": {},
     "output_type": "display_data"
    },
    {
     "name": "stdout",
     "output_type": "stream",
     "text": [
      "08/24/2023, 15:54:29# labels of Validation: tensor([134,  42,  29,  24], device='cuda:1') torch.Size([4])\n",
      "08/24/2023, 15:54:29# predicted of Validation: tensor([134,   6,  52,   6], device='cuda:1') torch.Size([4])\n",
      "08/24/2023, 15:54:29# labels of 0: tensor([134,  42,  29,  24], device='cuda:1') torch.Size([4])\n",
      "08/24/2023, 15:54:29# predicted of 0: tensor([134,   6,  52,   6], device='cuda:1') torch.Size([4])\n",
      "08/24/2023, 15:54:36# labels of Validation: tensor([ 46,  39, 146, 148], device='cuda:1') torch.Size([4])\n",
      "08/24/2023, 15:54:36# predicted of Validation: tensor([ 6,  7, 99,  6], device='cuda:1') torch.Size([4])\n",
      "08/24/2023, 15:54:43# labels of Validation: tensor([47, 86, 38, 21], device='cuda:1') torch.Size([4])\n",
      "08/24/2023, 15:54:43# predicted of Validation: tensor([  6,   6,   6, 161], device='cuda:1') torch.Size([4])\n",
      "08/24/2023, 15:54:50# labels of Validation: tensor([166, 107,  76, 147], device='cuda:1') torch.Size([4])\n",
      "08/24/2023, 15:54:50# predicted of Validation: tensor([161,   6,   6,  99], device='cuda:1') torch.Size([4])\n",
      "08/24/2023, 15:54:56# labels of Validation: tensor([138,  48,  36, 134], device='cuda:1') torch.Size([4])\n",
      "08/24/2023, 15:54:56# predicted of Validation: tensor([ 52,   6,   6, 134], device='cuda:1') torch.Size([4])\n",
      "08/24/2023, 15:54:57# Validation Loss: 4.5181 | Validation Accuracy: 0.0557\n",
      "\n"
     ]
    },
    {
     "data": {
      "application/vnd.jupyter.widget-view+json": {
       "model_id": "72927b64e2b64a94bb88767284b1ecab",
       "version_major": 2,
       "version_minor": 0
      },
      "text/plain": [
       "Training:   0%|          | 0/33000 [00:00<?, ?it/s]"
      ]
     },
     "metadata": {},
     "output_type": "display_data"
    },
    {
     "name": "stdout",
     "output_type": "stream",
     "text": [
      "08/24/2023, 15:56:33# labels of 5000: tensor([ 20, 115, 144, 102], device='cuda:1') torch.Size([4])\n",
      "08/24/2023, 15:56:33# predicted of 5000: tensor([ 6, 52,  6,  6], device='cuda:1') torch.Size([4])\n",
      "08/24/2023, 15:58:14# labels of 10000: tensor([ 23, 116, 155,   8], device='cuda:1') torch.Size([4])\n",
      "08/24/2023, 15:58:14# predicted of 10000: tensor([ 99, 161, 161, 132], device='cuda:1') torch.Size([4])\n",
      "08/24/2023, 15:59:47# labels of 15000: tensor([123,  52,   8,  17], device='cuda:1') torch.Size([4])\n",
      "08/24/2023, 15:59:47# predicted of 15000: tensor([ 25,  52, 132,   7], device='cuda:1') torch.Size([4])\n",
      "08/24/2023, 16:01:09# labels of 20000: tensor([132, 100,  17, 112], device='cuda:1') torch.Size([4])\n",
      "08/24/2023, 16:01:09# predicted of 20000: tensor([132, 132,  99, 132], device='cuda:1') torch.Size([4])\n",
      "08/24/2023, 16:02:35# labels of 25000: tensor([135,  90,  58,  95], device='cuda:1') torch.Size([4])\n",
      "08/24/2023, 16:02:35# predicted of 25000: tensor([132, 132, 161, 156], device='cuda:1') torch.Size([4])\n",
      "08/24/2023, 16:03:59# labels of 30000: tensor([ 55, 141, 164,  87], device='cuda:1') torch.Size([4])\n",
      "08/24/2023, 16:03:59# predicted of 30000: tensor([161,  28, 161, 161], device='cuda:1') torch.Size([4])\n",
      "08/24/2023, 16:04:45# total batches: 33000\n",
      "08/24/2023, 16:04:45# Epoch 1 | Train Loss: 4.2557 | Train Accuracy: 0.0933\n"
     ]
    },
    {
     "data": {
      "application/vnd.jupyter.widget-view+json": {
       "model_id": "b44952f9a70e4cf6a434ee57496451e0",
       "version_major": 2,
       "version_minor": 0
      },
      "text/plain": [
       "Validation:   0%|          | 0/4125 [00:00<?, ?it/s]"
      ]
     },
     "metadata": {},
     "output_type": "display_data"
    },
    {
     "name": "stdout",
     "output_type": "stream",
     "text": [
      "08/24/2023, 16:04:45# labels of Validation: tensor([84, 63, 62, 75], device='cuda:1') torch.Size([4])\n",
      "08/24/2023, 16:04:45# predicted of Validation: tensor([127,  28, 127,  28], device='cuda:1') torch.Size([4])\n",
      "08/24/2023, 16:04:45# labels of 0: tensor([84, 63, 62, 75], device='cuda:1') torch.Size([4])\n",
      "08/24/2023, 16:04:45# predicted of 0: tensor([127,  28, 127,  28], device='cuda:1') torch.Size([4])\n",
      "08/24/2023, 16:04:52# labels of Validation: tensor([157,  80,  37,  45], device='cuda:1') torch.Size([4])\n",
      "08/24/2023, 16:04:52# predicted of Validation: tensor([28, 80, 28, 45], device='cuda:1') torch.Size([4])\n",
      "08/24/2023, 16:04:59# labels of Validation: tensor([101, 144,  35, 125], device='cuda:1') torch.Size([4])\n",
      "08/24/2023, 16:04:59# predicted of Validation: tensor([28, 28, 35, 28], device='cuda:1') torch.Size([4])\n",
      "08/24/2023, 16:05:06# labels of Validation: tensor([ 30, 146, 140,  93], device='cuda:1') torch.Size([4])\n",
      "08/24/2023, 16:05:06# predicted of Validation: tensor([28, 80, 99, 28], device='cuda:1') torch.Size([4])\n",
      "08/24/2023, 16:05:12# labels of Validation: tensor([ 61,  72,  58, 102], device='cuda:1') torch.Size([4])\n",
      "08/24/2023, 16:05:12# predicted of Validation: tensor([115, 115,  28,  28], device='cuda:1') torch.Size([4])\n",
      "08/24/2023, 16:05:13# Validation Loss: 4.0518 | Validation Accuracy: 0.1789\n",
      "\n"
     ]
    },
    {
     "data": {
      "application/vnd.jupyter.widget-view+json": {
       "model_id": "335b02afd2d940f8b1a70a7572781cf1",
       "version_major": 2,
       "version_minor": 0
      },
      "text/plain": [
       "Training:   0%|          | 0/33000 [00:00<?, ?it/s]"
      ]
     },
     "metadata": {},
     "output_type": "display_data"
    },
    {
     "name": "stdout",
     "output_type": "stream",
     "text": [
      "08/24/2023, 16:06:39# labels of 5000: tensor([136, 132,  51, 112], device='cuda:1') torch.Size([4])\n",
      "08/24/2023, 16:06:39# predicted of 5000: tensor([ 99,   6, 132,   6], device='cuda:1') torch.Size([4])\n",
      "08/24/2023, 16:08:02# labels of 10000: tensor([  0, 102,  98,  60], device='cuda:1') torch.Size([4])\n",
      "08/24/2023, 16:08:02# predicted of 10000: tensor([159, 132,  51,  51], device='cuda:1') torch.Size([4])\n",
      "08/24/2023, 16:09:28# labels of 15000: tensor([ 72, 134,  31,  32], device='cuda:1') torch.Size([4])\n",
      "08/24/2023, 16:09:28# predicted of 15000: tensor([159, 134, 132,  32], device='cuda:1') torch.Size([4])\n",
      "08/24/2023, 16:10:54# labels of 20000: tensor([103, 143, 124,  53], device='cuda:1') torch.Size([4])\n",
      "08/24/2023, 16:10:54# predicted of 20000: tensor([132, 132, 132,   8], device='cuda:1') torch.Size([4])\n",
      "08/24/2023, 16:12:16# labels of 25000: tensor([127, 143,  16, 154], device='cuda:1') torch.Size([4])\n",
      "08/24/2023, 16:12:16# predicted of 25000: tensor([127, 161,  16, 154], device='cuda:1') torch.Size([4])\n",
      "08/24/2023, 16:13:53# labels of 30000: tensor([148, 132,  38,  84], device='cuda:1') torch.Size([4])\n",
      "08/24/2023, 16:13:53# predicted of 30000: tensor([132, 132,  28,  84], device='cuda:1') torch.Size([4])\n",
      "08/24/2023, 16:14:50# total batches: 33000\n",
      "08/24/2023, 16:14:50# Epoch 2 | Train Loss: 3.9156 | Train Accuracy: 0.2000\n"
     ]
    },
    {
     "data": {
      "application/vnd.jupyter.widget-view+json": {
       "model_id": "7b2a1af57af048d8a4730db80a39ee2a",
       "version_major": 2,
       "version_minor": 0
      },
      "text/plain": [
       "Validation:   0%|          | 0/4125 [00:00<?, ?it/s]"
      ]
     },
     "metadata": {},
     "output_type": "display_data"
    },
    {
     "name": "stdout",
     "output_type": "stream",
     "text": [
      "08/24/2023, 16:14:50# labels of Validation: tensor([67, 80, 97, 36], device='cuda:1') torch.Size([4])\n",
      "08/24/2023, 16:14:50# predicted of Validation: tensor([130,  80,  28,  28], device='cuda:1') torch.Size([4])\n",
      "08/24/2023, 16:14:50# labels of 0: tensor([67, 80, 97, 36], device='cuda:1') torch.Size([4])\n",
      "08/24/2023, 16:14:50# predicted of 0: tensor([130,  80,  28,  28], device='cuda:1') torch.Size([4])\n",
      "08/24/2023, 16:14:57# labels of Validation: tensor([112, 142, 164, 154], device='cuda:1') torch.Size([4])\n",
      "08/24/2023, 16:14:57# predicted of Validation: tensor([ 28,  28,  28, 154], device='cuda:1') torch.Size([4])\n",
      "08/24/2023, 16:15:04# labels of Validation: tensor([154, 159,  24,  98], device='cuda:1') torch.Size([4])\n",
      "08/24/2023, 16:15:04# predicted of Validation: tensor([154, 159,  28,  28], device='cuda:1') torch.Size([4])\n",
      "08/24/2023, 16:15:11# labels of Validation: tensor([26, 79, 28, 36], device='cuda:1') torch.Size([4])\n",
      "08/24/2023, 16:15:11# predicted of Validation: tensor([ 28, 130, 132,  28], device='cuda:1') torch.Size([4])\n",
      "08/24/2023, 16:15:18# labels of Validation: tensor([130,  42,  37, 137], device='cuda:1') torch.Size([4])\n",
      "08/24/2023, 16:15:18# predicted of Validation: tensor([130,  28,  28,  28], device='cuda:1') torch.Size([4])\n",
      "08/24/2023, 16:15:19# Validation Loss: 3.7625 | Validation Accuracy: 0.2903\n",
      "\n"
     ]
    },
    {
     "data": {
      "application/vnd.jupyter.widget-view+json": {
       "model_id": "666276518fc843afbcc96e48fcaf4f7d",
       "version_major": 2,
       "version_minor": 0
      },
      "text/plain": [
       "Training:   0%|          | 0/33000 [00:00<?, ?it/s]"
      ]
     },
     "metadata": {},
     "output_type": "display_data"
    },
    {
     "name": "stdout",
     "output_type": "stream",
     "text": [
      "08/24/2023, 16:16:43# labels of 5000: tensor([139, 105,  98,  60], device='cuda:1') torch.Size([4])\n",
      "08/24/2023, 16:16:43# predicted of 5000: tensor([161, 105, 161, 161], device='cuda:1') torch.Size([4])\n",
      "08/24/2023, 16:18:03# labels of 10000: tensor([138, 121,   1,  56], device='cuda:1') torch.Size([4])\n",
      "08/24/2023, 16:18:03# predicted of 10000: tensor([138, 161, 161,  62], device='cuda:1') torch.Size([4])\n",
      "08/24/2023, 16:19:38# labels of 15000: tensor([114,  23,  42,  13], device='cuda:1') torch.Size([4])\n",
      "08/24/2023, 16:19:38# predicted of 15000: tensor([132,  23, 132,  94], device='cuda:1') torch.Size([4])\n",
      "08/24/2023, 16:21:15# labels of 20000: tensor([128, 146, 164,  93], device='cuda:1') torch.Size([4])\n",
      "08/24/2023, 16:21:15# predicted of 20000: tensor([128, 146, 155, 132], device='cuda:1') torch.Size([4])\n",
      "08/24/2023, 16:22:54# labels of 25000: tensor([27, 77,  5, 50], device='cuda:1') torch.Size([4])\n",
      "08/24/2023, 16:22:54# predicted of 25000: tensor([ 27, 161,   0,  50], device='cuda:1') torch.Size([4])\n",
      "08/24/2023, 16:24:20# labels of 30000: tensor([ 61, 153,  98,  42], device='cuda:1') torch.Size([4])\n",
      "08/24/2023, 16:24:20# predicted of 30000: tensor([115, 132, 132, 132], device='cuda:1') torch.Size([4])\n",
      "08/24/2023, 16:25:19# total batches: 33000\n",
      "08/24/2023, 16:25:19# Epoch 3 | Train Loss: 3.6678 | Train Accuracy: 0.2615\n"
     ]
    },
    {
     "data": {
      "application/vnd.jupyter.widget-view+json": {
       "model_id": "aff05d9604b1489abc08bb86474a7e28",
       "version_major": 2,
       "version_minor": 0
      },
      "text/plain": [
       "Validation:   0%|          | 0/4125 [00:00<?, ?it/s]"
      ]
     },
     "metadata": {},
     "output_type": "display_data"
    },
    {
     "name": "stdout",
     "output_type": "stream",
     "text": [
      "08/24/2023, 16:25:19# labels of Validation: tensor([102, 114,   1,  16], device='cuda:1') torch.Size([4])\n",
      "08/24/2023, 16:25:19# predicted of Validation: tensor([132, 132, 132,  16], device='cuda:1') torch.Size([4])\n",
      "08/24/2023, 16:25:19# labels of 0: tensor([102, 114,   1,  16], device='cuda:1') torch.Size([4])\n",
      "08/24/2023, 16:25:19# predicted of 0: tensor([132, 132, 132,  16], device='cuda:1') torch.Size([4])\n",
      "08/24/2023, 16:25:26# labels of Validation: tensor([ 20, 128, 161,  32], device='cuda:1') torch.Size([4])\n",
      "08/24/2023, 16:25:26# predicted of Validation: tensor([132, 128, 132,  32], device='cuda:1') torch.Size([4])\n",
      "08/24/2023, 16:25:32# labels of Validation: tensor([ 66,  21, 127,  97], device='cuda:1') torch.Size([4])\n",
      "08/24/2023, 16:25:32# predicted of Validation: tensor([132, 132, 127, 132], device='cuda:1') torch.Size([4])\n",
      "08/24/2023, 16:25:39# labels of Validation: tensor([  2,   9,  15, 102], device='cuda:1') torch.Size([4])\n",
      "08/24/2023, 16:25:39# predicted of Validation: tensor([132, 132,  15, 132], device='cuda:1') torch.Size([4])\n",
      "08/24/2023, 16:25:46# labels of Validation: tensor([107, 118,  74,  54], device='cuda:1') torch.Size([4])\n",
      "08/24/2023, 16:25:46# predicted of Validation: tensor([132, 118, 132, 132], device='cuda:1') torch.Size([4])\n",
      "08/24/2023, 16:25:47# Validation Loss: 3.5384 | Validation Accuracy: 0.3333\n",
      "\n"
     ]
    },
    {
     "data": {
      "application/vnd.jupyter.widget-view+json": {
       "model_id": "48c3685be9f5464ba8a4b73de6e4df09",
       "version_major": 2,
       "version_minor": 0
      },
      "text/plain": [
       "Training:   0%|          | 0/33000 [00:00<?, ?it/s]"
      ]
     },
     "metadata": {},
     "output_type": "display_data"
    },
    {
     "name": "stdout",
     "output_type": "stream",
     "text": [
      "08/24/2023, 16:26:55# labels of 5000: tensor([160, 146,  59, 166], device='cuda:1') torch.Size([4])\n",
      "08/24/2023, 16:26:55# predicted of 5000: tensor([132, 146,   6,   6], device='cuda:1') torch.Size([4])\n",
      "08/24/2023, 16:28:20# labels of 10000: tensor([ 93, 135,  48,  37], device='cuda:1') torch.Size([4])\n",
      "08/24/2023, 16:28:20# predicted of 10000: tensor([132, 131,  28, 132], device='cuda:1') torch.Size([4])\n",
      "08/24/2023, 16:29:52# labels of 15000: tensor([ 27,  56,  60, 140], device='cuda:1') torch.Size([4])\n",
      "08/24/2023, 16:29:52# predicted of 15000: tensor([ 27,  56, 160, 140], device='cuda:1') torch.Size([4])\n",
      "08/24/2023, 16:31:32# labels of 20000: tensor([152, 110,  23, 100], device='cuda:1') torch.Size([4])\n",
      "08/24/2023, 16:31:32# predicted of 20000: tensor([129,  37,  23, 132], device='cuda:1') torch.Size([4])\n",
      "08/24/2023, 16:33:03# labels of 25000: tensor([ 81,   8,  73, 149], device='cuda:1') torch.Size([4])\n",
      "08/24/2023, 16:33:03# predicted of 25000: tensor([132, 132,  73, 149], device='cuda:1') torch.Size([4])\n",
      "08/24/2023, 16:34:40# labels of 30000: tensor([ 70, 135,  13,  55], device='cuda:1') torch.Size([4])\n",
      "08/24/2023, 16:34:40# predicted of 30000: tensor([70, 51, 13, 33], device='cuda:1') torch.Size([4])\n",
      "08/24/2023, 16:35:37# total batches: 33000\n",
      "08/24/2023, 16:35:37# Epoch 4 | Train Loss: 3.4756 | Train Accuracy: 0.3032\n"
     ]
    },
    {
     "data": {
      "application/vnd.jupyter.widget-view+json": {
       "model_id": "f43eaab83d1b424690f7bb94d9b29046",
       "version_major": 2,
       "version_minor": 0
      },
      "text/plain": [
       "Validation:   0%|          | 0/4125 [00:00<?, ?it/s]"
      ]
     },
     "metadata": {},
     "output_type": "display_data"
    },
    {
     "name": "stdout",
     "output_type": "stream",
     "text": [
      "08/24/2023, 16:35:37# labels of Validation: tensor([  2, 132, 107, 111], device='cuda:1') torch.Size([4])\n",
      "08/24/2023, 16:35:37# predicted of Validation: tensor([155, 161, 161, 155], device='cuda:1') torch.Size([4])\n",
      "08/24/2023, 16:35:37# labels of 0: tensor([  2, 132, 107, 111], device='cuda:1') torch.Size([4])\n",
      "08/24/2023, 16:35:37# predicted of 0: tensor([155, 161, 161, 155], device='cuda:1') torch.Size([4])\n",
      "08/24/2023, 16:35:44# labels of Validation: tensor([134,  24, 129,  90], device='cuda:1') torch.Size([4])\n",
      "08/24/2023, 16:35:44# predicted of Validation: tensor([134, 155, 161, 161], device='cuda:1') torch.Size([4])\n",
      "08/24/2023, 16:35:51# labels of Validation: tensor([ 80, 138,  49, 117], device='cuda:1') torch.Size([4])\n",
      "08/24/2023, 16:35:51# predicted of Validation: tensor([ 80, 138, 155,  89], device='cuda:1') torch.Size([4])\n",
      "08/24/2023, 16:35:58# labels of Validation: tensor([158, 164,  51,  94], device='cuda:1') torch.Size([4])\n",
      "08/24/2023, 16:35:58# predicted of Validation: tensor([155, 155, 161,  94], device='cuda:1') torch.Size([4])\n",
      "08/24/2023, 16:36:05# labels of Validation: tensor([160,   0, 115,  73], device='cuda:1') torch.Size([4])\n",
      "08/24/2023, 16:36:05# predicted of Validation: tensor([161,   0, 115,  73], device='cuda:1') torch.Size([4])\n",
      "08/24/2023, 16:36:06# Validation Loss: 3.3637 | Validation Accuracy: 0.3552\n",
      "\n"
     ]
    },
    {
     "data": {
      "application/vnd.jupyter.widget-view+json": {
       "model_id": "c4b082a3bb7644059a3d780efb124682",
       "version_major": 2,
       "version_minor": 0
      },
      "text/plain": [
       "Training:   0%|          | 0/33000 [00:00<?, ?it/s]"
      ]
     },
     "metadata": {},
     "output_type": "display_data"
    },
    {
     "name": "stdout",
     "output_type": "stream",
     "text": [
      "08/24/2023, 16:37:31# labels of 5000: tensor([123,  11, 159,  57], device='cuda:1') torch.Size([4])\n",
      "08/24/2023, 16:37:31# predicted of 5000: tensor([123, 164, 159,  68], device='cuda:1') torch.Size([4])\n",
      "08/24/2023, 16:38:40# labels of 10000: tensor([ 74, 130,  79, 133], device='cuda:1') torch.Size([4])\n",
      "08/24/2023, 16:38:40# predicted of 10000: tensor([ 59, 130,  29, 132], device='cuda:1') torch.Size([4])\n",
      "08/24/2023, 16:39:55# labels of 15000: tensor([115,  84, 101,  44], device='cuda:1') torch.Size([4])\n",
      "08/24/2023, 16:39:55# predicted of 15000: tensor([115,  84, 132,   8], device='cuda:1') torch.Size([4])\n",
      "08/24/2023, 16:41:08# labels of 20000: tensor([ 54,  85, 104, 126], device='cuda:1') torch.Size([4])\n",
      "08/24/2023, 16:41:08# predicted of 20000: tensor([132,  85,  21,  61], device='cuda:1') torch.Size([4])\n",
      "08/24/2023, 16:42:21# labels of 25000: tensor([106, 140,  85,  75], device='cuda:1') torch.Size([4])\n",
      "08/24/2023, 16:42:21# predicted of 25000: tensor([106, 140,  85, 131], device='cuda:1') torch.Size([4])\n",
      "08/24/2023, 16:43:32# labels of 30000: tensor([ 49, 104, 166, 160], device='cuda:1') torch.Size([4])\n",
      "08/24/2023, 16:43:32# predicted of 30000: tensor([131, 144,  28,  28], device='cuda:1') torch.Size([4])\n",
      "08/24/2023, 16:44:16# total batches: 33000\n",
      "08/24/2023, 16:44:16# Epoch 5 | Train Loss: 3.3241 | Train Accuracy: 0.3317\n"
     ]
    },
    {
     "data": {
      "application/vnd.jupyter.widget-view+json": {
       "model_id": "6c6e9ba782024be4ae83b3de729c3e96",
       "version_major": 2,
       "version_minor": 0
      },
      "text/plain": [
       "Validation:   0%|          | 0/4125 [00:00<?, ?it/s]"
      ]
     },
     "metadata": {},
     "output_type": "display_data"
    },
    {
     "name": "stdout",
     "output_type": "stream",
     "text": [
      "08/24/2023, 16:44:16# labels of Validation: tensor([ 52, 159, 137,  77], device='cuda:1') torch.Size([4])\n",
      "08/24/2023, 16:44:16# predicted of Validation: tensor([ 52, 159,  28,  28], device='cuda:1') torch.Size([4])\n",
      "08/24/2023, 16:44:16# labels of 0: tensor([ 52, 159, 137,  77], device='cuda:1') torch.Size([4])\n",
      "08/24/2023, 16:44:16# predicted of 0: tensor([ 52, 159,  28,  28], device='cuda:1') torch.Size([4])\n",
      "08/24/2023, 16:44:26# labels of Validation: tensor([158, 122,  76, 120], device='cuda:1') torch.Size([4])\n",
      "08/24/2023, 16:44:26# predicted of Validation: tensor([ 28, 122,  28, 120], device='cuda:1') torch.Size([4])\n",
      "08/24/2023, 16:44:35# labels of Validation: tensor([121, 118, 149,  87], device='cuda:1') torch.Size([4])\n",
      "08/24/2023, 16:44:35# predicted of Validation: tensor([ 28, 118, 149,  28], device='cuda:1') torch.Size([4])\n",
      "08/24/2023, 16:44:44# labels of Validation: tensor([ 79, 152,  60,  32], device='cuda:1') torch.Size([4])\n",
      "08/24/2023, 16:44:44# predicted of Validation: tensor([73, 28, 28, 32], device='cuda:1') torch.Size([4])\n",
      "08/24/2023, 16:44:54# labels of Validation: tensor([161, 138, 106, 119], device='cuda:1') torch.Size([4])\n",
      "08/24/2023, 16:44:54# predicted of Validation: tensor([161, 138, 106,  28], device='cuda:1') torch.Size([4])\n",
      "08/24/2023, 16:44:55# Validation Loss: 3.2245 | Validation Accuracy: 0.3633\n",
      "\n"
     ]
    },
    {
     "data": {
      "application/vnd.jupyter.widget-view+json": {
       "model_id": "a0bb5197443648bea7ad0a3263d48cee",
       "version_major": 2,
       "version_minor": 0
      },
      "text/plain": [
       "Training:   0%|          | 0/33000 [00:00<?, ?it/s]"
      ]
     },
     "metadata": {},
     "output_type": "display_data"
    },
    {
     "name": "stdout",
     "output_type": "stream",
     "text": [
      "08/24/2023, 16:46:10# labels of 5000: tensor([ 84, 117, 113,   1], device='cuda:1') torch.Size([4])\n",
      "08/24/2023, 16:46:10# predicted of 5000: tensor([ 84,   0, 161,  28], device='cuda:1') torch.Size([4])\n",
      "08/24/2023, 16:47:21# labels of 10000: tensor([ 28,  93,  47, 151], device='cuda:1') torch.Size([4])\n",
      "08/24/2023, 16:47:21# predicted of 10000: tensor([ 28, 132,  21,  28], device='cuda:1') torch.Size([4])\n",
      "08/24/2023, 16:48:34# labels of 15000: tensor([ 70,  19, 107, 166], device='cuda:1') torch.Size([4])\n",
      "08/24/2023, 16:48:34# predicted of 15000: tensor([70, 28, 28, 28], device='cuda:1') torch.Size([4])\n",
      "08/24/2023, 16:49:46# labels of 20000: tensor([ 84, 122, 151,  58], device='cuda:1') torch.Size([4])\n",
      "08/24/2023, 16:49:46# predicted of 20000: tensor([ 84, 122,   6, 148], device='cuda:1') torch.Size([4])\n",
      "08/24/2023, 16:50:59# labels of 25000: tensor([  6, 121,   0,   0], device='cuda:1') torch.Size([4])\n",
      "08/24/2023, 16:50:59# predicted of 25000: tensor([132,   6,   0,   0], device='cuda:1') torch.Size([4])\n",
      "08/24/2023, 16:52:12# labels of 30000: tensor([ 11, 158,  69, 135], device='cuda:1') torch.Size([4])\n",
      "08/24/2023, 16:52:12# predicted of 30000: tensor([132, 132,  69,  90], device='cuda:1') torch.Size([4])\n",
      "08/24/2023, 16:52:55# total batches: 33000\n",
      "08/24/2023, 16:52:55# Epoch 6 | Train Loss: 3.1992 | Train Accuracy: 0.3493\n"
     ]
    },
    {
     "data": {
      "application/vnd.jupyter.widget-view+json": {
       "model_id": "85bc71c15cf6491aac1a371a8e94a71d",
       "version_major": 2,
       "version_minor": 0
      },
      "text/plain": [
       "Validation:   0%|          | 0/4125 [00:00<?, ?it/s]"
      ]
     },
     "metadata": {},
     "output_type": "display_data"
    },
    {
     "name": "stdout",
     "output_type": "stream",
     "text": [
      "08/24/2023, 16:52:55# labels of Validation: tensor([156, 111,  35,  16], device='cuda:1') torch.Size([4])\n",
      "08/24/2023, 16:52:55# predicted of Validation: tensor([156,  91,  35,  16], device='cuda:1') torch.Size([4])\n",
      "08/24/2023, 16:52:55# labels of 0: tensor([156, 111,  35,  16], device='cuda:1') torch.Size([4])\n",
      "08/24/2023, 16:52:55# predicted of 0: tensor([156,  91,  35,  16], device='cuda:1') torch.Size([4])\n",
      "08/24/2023, 16:53:05# labels of Validation: tensor([ 97, 161,  34, 159], device='cuda:1') torch.Size([4])\n",
      "08/24/2023, 16:53:05# predicted of Validation: tensor([ 91, 132,  91, 159], device='cuda:1') torch.Size([4])\n",
      "08/24/2023, 16:53:14# labels of Validation: tensor([ 94,  48, 154,  90], device='cuda:1') torch.Size([4])\n",
      "08/24/2023, 16:53:14# predicted of Validation: tensor([ 94,  91, 154, 132], device='cuda:1') torch.Size([4])\n",
      "08/24/2023, 16:53:23# labels of Validation: tensor([ 12, 127,  41, 159], device='cuda:1') torch.Size([4])\n",
      "08/24/2023, 16:53:23# predicted of Validation: tensor([ 91, 127,  91, 159], device='cuda:1') torch.Size([4])\n",
      "08/24/2023, 16:53:32# labels of Validation: tensor([41, 61, 11, 76], device='cuda:1') torch.Size([4])\n",
      "08/24/2023, 16:53:32# predicted of Validation: tensor([91, 61, 91, 91], device='cuda:1') torch.Size([4])\n",
      "08/24/2023, 16:53:33# Validation Loss: 3.1101 | Validation Accuracy: 0.3639\n",
      "\n"
     ]
    },
    {
     "data": {
      "application/vnd.jupyter.widget-view+json": {
       "model_id": "d790d03923694d4ca63113759e179f83",
       "version_major": 2,
       "version_minor": 0
      },
      "text/plain": [
       "Training:   0%|          | 0/33000 [00:00<?, ?it/s]"
      ]
     },
     "metadata": {},
     "output_type": "display_data"
    },
    {
     "name": "stdout",
     "output_type": "stream",
     "text": [
      "08/24/2023, 16:54:46# labels of 5000: tensor([ 48,  43,  12, 154], device='cuda:1') torch.Size([4])\n",
      "08/24/2023, 16:54:46# predicted of 5000: tensor([ 88,  51, 141, 154], device='cuda:1') torch.Size([4])\n",
      "08/24/2023, 16:55:59# labels of 10000: tensor([  7, 136, 114, 125], device='cuda:1') torch.Size([4])\n",
      "08/24/2023, 16:55:59# predicted of 10000: tensor([  7, 136, 132,  43], device='cuda:1') torch.Size([4])\n",
      "08/24/2023, 16:57:12# labels of 15000: tensor([ 35, 114,   3, 165], device='cuda:1') torch.Size([4])\n",
      "08/24/2023, 16:57:12# predicted of 15000: tensor([ 35,  28,   3, 165], device='cuda:1') torch.Size([4])\n",
      "08/24/2023, 16:58:25# labels of 20000: tensor([26, 77, 86, 41], device='cuda:1') torch.Size([4])\n",
      "08/24/2023, 16:58:25# predicted of 20000: tensor([112, 132, 132, 112], device='cuda:1') torch.Size([4])\n",
      "08/24/2023, 16:59:37# labels of 25000: tensor([ 34,  15, 160,  29], device='cuda:1') torch.Size([4])\n",
      "08/24/2023, 16:59:37# predicted of 25000: tensor([132,  15, 161,  29], device='cuda:1') torch.Size([4])\n",
      "08/24/2023, 17:00:50# labels of 30000: tensor([164, 125,  49,  60], device='cuda:1') torch.Size([4])\n",
      "08/24/2023, 17:00:50# predicted of 30000: tensor([108,  68, 161, 161], device='cuda:1') torch.Size([4])\n",
      "08/24/2023, 17:01:34# total batches: 33000\n",
      "08/24/2023, 17:01:34# Epoch 7 | Train Loss: 3.0980 | Train Accuracy: 0.3572\n"
     ]
    },
    {
     "data": {
      "application/vnd.jupyter.widget-view+json": {
       "model_id": "e2cf07e381584f5ca5ae9de552d8941d",
       "version_major": 2,
       "version_minor": 0
      },
      "text/plain": [
       "Validation:   0%|          | 0/4125 [00:00<?, ?it/s]"
      ]
     },
     "metadata": {},
     "output_type": "display_data"
    },
    {
     "name": "stdout",
     "output_type": "stream",
     "text": [
      "08/24/2023, 17:01:34# labels of Validation: tensor([ 84, 122, 166, 109], device='cuda:1') torch.Size([4])\n",
      "08/24/2023, 17:01:34# predicted of Validation: tensor([ 84, 122, 161,  66], device='cuda:1') torch.Size([4])\n",
      "08/24/2023, 17:01:34# labels of 0: tensor([ 84, 122, 166, 109], device='cuda:1') torch.Size([4])\n",
      "08/24/2023, 17:01:34# predicted of 0: tensor([ 84, 122, 161,  66], device='cuda:1') torch.Size([4])\n",
      "08/24/2023, 17:01:43# labels of Validation: tensor([153, 158, 115, 114], device='cuda:1') torch.Size([4])\n",
      "08/24/2023, 17:01:43# predicted of Validation: tensor([ 66,  66, 115, 161], device='cuda:1') torch.Size([4])\n",
      "08/24/2023, 17:01:53# labels of Validation: tensor([130, 125,  78,  52], device='cuda:1') torch.Size([4])\n",
      "08/24/2023, 17:01:53# predicted of Validation: tensor([130,  66,  78,  52], device='cuda:1') torch.Size([4])\n",
      "08/24/2023, 17:02:02# labels of Validation: tensor([ 14,  82,  51, 137], device='cuda:1') torch.Size([4])\n",
      "08/24/2023, 17:02:02# predicted of Validation: tensor([ 66,  82, 161,  66], device='cuda:1') torch.Size([4])\n",
      "08/24/2023, 17:02:11# labels of Validation: tensor([ 81, 159,  35,  77], device='cuda:1') torch.Size([4])\n",
      "08/24/2023, 17:02:11# predicted of Validation: tensor([ 66, 159,  35, 161], device='cuda:1') torch.Size([4])\n",
      "08/24/2023, 17:02:12# Validation Loss: 3.0205 | Validation Accuracy: 0.3661\n",
      "\n"
     ]
    },
    {
     "data": {
      "application/vnd.jupyter.widget-view+json": {
       "model_id": "7fb579b3c4114901a861e169d2ce85bb",
       "version_major": 2,
       "version_minor": 0
      },
      "text/plain": [
       "Training:   0%|          | 0/33000 [00:00<?, ?it/s]"
      ]
     },
     "metadata": {},
     "output_type": "display_data"
    },
    {
     "name": "stdout",
     "output_type": "stream",
     "text": [
      "08/24/2023, 17:03:25# labels of 5000: tensor([ 92,   4,  42, 132], device='cuda:1') torch.Size([4])\n",
      "08/24/2023, 17:03:25# predicted of 5000: tensor([ 28,  28,  21, 132], device='cuda:1') torch.Size([4])\n",
      "08/24/2023, 17:04:38# labels of 10000: tensor([ 76,  82,   3, 106], device='cuda:1') torch.Size([4])\n",
      "08/24/2023, 17:04:38# predicted of 10000: tensor([ 60,  82,   3, 106], device='cuda:1') torch.Size([4])\n",
      "08/24/2023, 17:05:50# labels of 15000: tensor([109,  34,  57, 142], device='cuda:1') torch.Size([4])\n",
      "08/24/2023, 17:05:50# predicted of 15000: tensor([ 51,  76,  49, 152], device='cuda:1') torch.Size([4])\n",
      "08/24/2023, 17:07:03# labels of 20000: tensor([53, 62, 32, 27], device='cuda:1') torch.Size([4])\n",
      "08/24/2023, 17:07:03# predicted of 20000: tensor([133,  62,  32,  27], device='cuda:1') torch.Size([4])\n",
      "08/24/2023, 17:08:16# labels of 25000: tensor([ 50, 130,  72,  11], device='cuda:1') torch.Size([4])\n",
      "08/24/2023, 17:08:16# predicted of 25000: tensor([ 50, 130,  72, 108], device='cuda:1') torch.Size([4])\n",
      "08/24/2023, 17:09:28# labels of 30000: tensor([144,  29,  58,  60], device='cuda:1') torch.Size([4])\n",
      "08/24/2023, 17:09:28# predicted of 30000: tensor([141,  29, 166,  37], device='cuda:1') torch.Size([4])\n",
      "08/24/2023, 17:10:10# total batches: 33000\n",
      "08/24/2023, 17:10:10# Epoch 8 | Train Loss: 3.0195 | Train Accuracy: 0.3628\n"
     ]
    },
    {
     "data": {
      "application/vnd.jupyter.widget-view+json": {
       "model_id": "6510c2f44fcb4e5ab39ae0a808def9c4",
       "version_major": 2,
       "version_minor": 0
      },
      "text/plain": [
       "Validation:   0%|          | 0/4125 [00:00<?, ?it/s]"
      ]
     },
     "metadata": {},
     "output_type": "display_data"
    },
    {
     "name": "stdout",
     "output_type": "stream",
     "text": [
      "08/24/2023, 17:10:10# labels of Validation: tensor([  8, 119,  29, 106], device='cuda:1') torch.Size([4])\n",
      "08/24/2023, 17:10:10# predicted of Validation: tensor([132,  37,  29, 106], device='cuda:1') torch.Size([4])\n",
      "08/24/2023, 17:10:10# labels of 0: tensor([  8, 119,  29, 106], device='cuda:1') torch.Size([4])\n",
      "08/24/2023, 17:10:10# predicted of 0: tensor([132,  37,  29, 106], device='cuda:1') torch.Size([4])\n",
      "08/24/2023, 17:10:19# labels of Validation: tensor([113, 130,  75, 111], device='cuda:1') torch.Size([4])\n",
      "08/24/2023, 17:10:19# predicted of Validation: tensor([132, 130,  37,  37], device='cuda:1') torch.Size([4])\n",
      "08/24/2023, 17:10:28# labels of Validation: tensor([ 25,  14,  76, 118], device='cuda:1') torch.Size([4])\n",
      "08/24/2023, 17:10:28# predicted of Validation: tensor([ 25,  37,  37, 118], device='cuda:1') torch.Size([4])\n",
      "08/24/2023, 17:10:38# labels of Validation: tensor([166,   1,  32,  59], device='cuda:1') torch.Size([4])\n",
      "08/24/2023, 17:10:38# predicted of Validation: tensor([132,  37,  32, 132], device='cuda:1') torch.Size([4])\n",
      "08/24/2023, 17:10:47# labels of Validation: tensor([129,  12,  32,  96], device='cuda:1') torch.Size([4])\n",
      "08/24/2023, 17:10:47# predicted of Validation: tensor([132,  37,  32,  96], device='cuda:1') torch.Size([4])\n",
      "08/24/2023, 17:10:48# Validation Loss: 2.9540 | Validation Accuracy: 0.3672\n",
      "\n"
     ]
    },
    {
     "data": {
      "application/vnd.jupyter.widget-view+json": {
       "model_id": "28a72651d79b4360b7d4cc257585d952",
       "version_major": 2,
       "version_minor": 0
      },
      "text/plain": [
       "Training:   0%|          | 0/33000 [00:00<?, ?it/s]"
      ]
     },
     "metadata": {},
     "output_type": "display_data"
    },
    {
     "name": "stdout",
     "output_type": "stream",
     "text": [
      "08/24/2023, 17:12:00# labels of 5000: tensor([116, 111,  82, 120], device='cuda:1') torch.Size([4])\n",
      "08/24/2023, 17:12:00# predicted of 5000: tensor([ 36,  38,  82, 120], device='cuda:1') torch.Size([4])\n",
      "08/24/2023, 17:13:12# labels of 10000: tensor([ 51,   6,  95, 110], device='cuda:1') torch.Size([4])\n",
      "08/24/2023, 17:13:12# predicted of 10000: tensor([161, 132,  95, 132], device='cuda:1') torch.Size([4])\n",
      "08/24/2023, 17:14:24# labels of 15000: tensor([ 91,  26,  25, 164], device='cuda:1') torch.Size([4])\n",
      "08/24/2023, 17:14:24# predicted of 15000: tensor([132,   9,  25,  68], device='cuda:1') torch.Size([4])\n",
      "08/24/2023, 17:15:37# labels of 20000: tensor([ 75,  74, 111, 153], device='cuda:1') torch.Size([4])\n",
      "08/24/2023, 17:15:37# predicted of 20000: tensor([112, 110, 141, 110], device='cuda:1') torch.Size([4])\n",
      "08/24/2023, 17:16:52# labels of 25000: tensor([ 32, 129,  12, 161], device='cuda:1') torch.Size([4])\n",
      "08/24/2023, 17:16:52# predicted of 25000: tensor([ 32, 161, 161, 161], device='cuda:1') torch.Size([4])\n",
      "08/24/2023, 17:18:06# labels of 30000: tensor([ 18, 114,  77,  72], device='cuda:1') torch.Size([4])\n",
      "08/24/2023, 17:18:06# predicted of 30000: tensor([148, 161, 161,  79], device='cuda:1') torch.Size([4])\n",
      "08/24/2023, 17:18:49# total batches: 33000\n",
      "08/24/2023, 17:18:49# Epoch 9 | Train Loss: 2.9618 | Train Accuracy: 0.3659\n"
     ]
    },
    {
     "data": {
      "application/vnd.jupyter.widget-view+json": {
       "model_id": "442d07ddfe9845d1aa0ae3699ea8e2f6",
       "version_major": 2,
       "version_minor": 0
      },
      "text/plain": [
       "Validation:   0%|          | 0/4125 [00:00<?, ?it/s]"
      ]
     },
     "metadata": {},
     "output_type": "display_data"
    },
    {
     "name": "stdout",
     "output_type": "stream",
     "text": [
      "08/24/2023, 17:18:49# labels of Validation: tensor([ 12,  46, 153, 154], device='cuda:1') torch.Size([4])\n",
      "08/24/2023, 17:18:49# predicted of Validation: tensor([ 91,  91,  91, 154], device='cuda:1') torch.Size([4])\n",
      "08/24/2023, 17:18:49# labels of 0: tensor([ 12,  46, 153, 154], device='cuda:1') torch.Size([4])\n",
      "08/24/2023, 17:18:49# predicted of 0: tensor([ 91,  91,  91, 154], device='cuda:1') torch.Size([4])\n",
      "08/24/2023, 17:18:58# labels of Validation: tensor([127,   2,  59, 144], device='cuda:1') torch.Size([4])\n",
      "08/24/2023, 17:18:58# predicted of Validation: tensor([127,  91, 132,  91], device='cuda:1') torch.Size([4])\n",
      "08/24/2023, 17:19:08# labels of Validation: tensor([  6, 155,  18,  26], device='cuda:1') torch.Size([4])\n",
      "08/24/2023, 17:19:08# predicted of Validation: tensor([132, 132,  91,  91], device='cuda:1') torch.Size([4])\n",
      "08/24/2023, 17:19:17# labels of Validation: tensor([103,  94,  39, 160], device='cuda:1') torch.Size([4])\n",
      "08/24/2023, 17:19:17# predicted of Validation: tensor([28, 94, 39, 28], device='cuda:1') torch.Size([4])\n",
      "08/24/2023, 17:19:26# labels of Validation: tensor([ 9,  3, 89, 29], device='cuda:1') torch.Size([4])\n",
      "08/24/2023, 17:19:26# predicted of Validation: tensor([91,  3, 89, 29], device='cuda:1') torch.Size([4])\n",
      "08/24/2023, 17:19:27# Validation Loss: 2.9080 | Validation Accuracy: 0.3682\n",
      "\n"
     ]
    },
    {
     "data": {
      "application/vnd.jupyter.widget-view+json": {
       "model_id": "66bf77f657f44e8cadb6359722c8dc02",
       "version_major": 2,
       "version_minor": 0
      },
      "text/plain": [
       "Training:   0%|          | 0/33000 [00:00<?, ?it/s]"
      ]
     },
     "metadata": {},
     "output_type": "display_data"
    },
    {
     "name": "stdout",
     "output_type": "stream",
     "text": [
      "08/24/2023, 17:20:40# labels of 5000: tensor([155,  93,  80, 109], device='cuda:1') torch.Size([4])\n",
      "08/24/2023, 17:20:40# predicted of 5000: tensor([ 28, 132,  80,  21], device='cuda:1') torch.Size([4])\n",
      "08/24/2023, 17:21:53# labels of 10000: tensor([118,  18,  12, 135], device='cuda:1') torch.Size([4])\n",
      "08/24/2023, 17:21:53# predicted of 10000: tensor([118,  47, 103,  77], device='cuda:1') torch.Size([4])\n",
      "08/24/2023, 17:23:08# labels of 15000: tensor([131,  77,   0, 130], device='cuda:1') torch.Size([4])\n",
      "08/24/2023, 17:23:08# predicted of 15000: tensor([161, 161,   0, 130], device='cuda:1') torch.Size([4])\n",
      "08/24/2023, 17:24:21# labels of 20000: tensor([ 21,  35,  43, 163], device='cuda:1') torch.Size([4])\n",
      "08/24/2023, 17:24:21# predicted of 20000: tensor([  6,  35, 107,   6], device='cuda:1') torch.Size([4])\n",
      "08/24/2023, 17:25:34# labels of 25000: tensor([ 48,  43, 111,  16], device='cuda:1') torch.Size([4])\n",
      "08/24/2023, 17:25:34# predicted of 25000: tensor([ 91,  38, 119,  16], device='cuda:1') torch.Size([4])\n",
      "08/24/2023, 17:26:46# labels of 30000: tensor([ 45, 160,  83, 103], device='cuda:1') torch.Size([4])\n",
      "08/24/2023, 17:26:46# predicted of 30000: tensor([ 45, 132, 143,  28], device='cuda:1') torch.Size([4])\n",
      "08/24/2023, 17:27:30# total batches: 33000\n",
      "08/24/2023, 17:27:30# Epoch 10 | Train Loss: 2.9191 | Train Accuracy: 0.3684\n"
     ]
    },
    {
     "data": {
      "application/vnd.jupyter.widget-view+json": {
       "model_id": "49517f76ac214b3fa3e7e57acd30c40e",
       "version_major": 2,
       "version_minor": 0
      },
      "text/plain": [
       "Validation:   0%|          | 0/4125 [00:00<?, ?it/s]"
      ]
     },
     "metadata": {},
     "output_type": "display_data"
    },
    {
     "name": "stdout",
     "output_type": "stream",
     "text": [
      "08/24/2023, 17:27:30# labels of Validation: tensor([ 76,  64, 106,  82], device='cuda:1') torch.Size([4])\n",
      "08/24/2023, 17:27:30# predicted of Validation: tensor([ 74, 132, 106,  82], device='cuda:1') torch.Size([4])\n",
      "08/24/2023, 17:27:30# labels of 0: tensor([ 76,  64, 106,  82], device='cuda:1') torch.Size([4])\n",
      "08/24/2023, 17:27:30# predicted of 0: tensor([ 74, 132, 106,  82], device='cuda:1') torch.Size([4])\n",
      "08/24/2023, 17:27:39# labels of Validation: tensor([ 13,  64,  67, 114], device='cuda:1') torch.Size([4])\n",
      "08/24/2023, 17:27:39# predicted of Validation: tensor([ 13, 132,  67, 132], device='cuda:1') torch.Size([4])\n",
      "08/24/2023, 17:27:48# labels of Validation: tensor([  5, 147, 159,  90], device='cuda:1') torch.Size([4])\n",
      "08/24/2023, 17:27:48# predicted of Validation: tensor([  5, 147, 159, 132], device='cuda:1') torch.Size([4])\n",
      "08/24/2023, 17:27:58# labels of Validation: tensor([95, 73, 79, 74], device='cuda:1') torch.Size([4])\n",
      "08/24/2023, 17:27:58# predicted of Validation: tensor([95, 73, 72, 74], device='cuda:1') torch.Size([4])\n",
      "08/24/2023, 17:28:07# labels of Validation: tensor([ 13, 157,  11,  79], device='cuda:1') torch.Size([4])\n",
      "08/24/2023, 17:28:07# predicted of Validation: tensor([13, 74, 74, 79], device='cuda:1') torch.Size([4])\n",
      "08/24/2023, 17:28:08# Validation Loss: 2.8762 | Validation Accuracy: 0.3753\n",
      "\n"
     ]
    },
    {
     "data": {
      "application/vnd.jupyter.widget-view+json": {
       "model_id": "81d91f84357440d48744a9be1f1f67f9",
       "version_major": 2,
       "version_minor": 0
      },
      "text/plain": [
       "Training:   0%|          | 0/33000 [00:00<?, ?it/s]"
      ]
     },
     "metadata": {},
     "output_type": "display_data"
    },
    {
     "name": "stdout",
     "output_type": "stream",
     "text": [
      "08/24/2023, 17:29:21# labels of 5000: tensor([ 11, 114, 127, 127], device='cuda:1') torch.Size([4])\n",
      "08/24/2023, 17:29:21# predicted of 5000: tensor([ 37,   6, 127, 127], device='cuda:1') torch.Size([4])\n",
      "08/24/2023, 17:30:35# labels of 10000: tensor([75, 82, 34, 54], device='cuda:1') torch.Size([4])\n",
      "08/24/2023, 17:30:35# predicted of 10000: tensor([ 37,  82,  26, 160], device='cuda:1') torch.Size([4])\n",
      "08/24/2023, 17:31:48# labels of 15000: tensor([112, 134,  59,  39], device='cuda:1') torch.Size([4])\n",
      "08/24/2023, 17:31:48# predicted of 15000: tensor([ 91, 134, 161,  39], device='cuda:1') torch.Size([4])\n",
      "08/24/2023, 17:33:01# labels of 20000: tensor([ 20, 106, 118,  38], device='cuda:1') torch.Size([4])\n",
      "08/24/2023, 17:33:01# predicted of 20000: tensor([142, 106, 118, 166], device='cuda:1') torch.Size([4])\n",
      "08/24/2023, 17:34:15# labels of 25000: tensor([95, 67, 80, 50], device='cuda:1') torch.Size([4])\n",
      "08/24/2023, 17:34:15# predicted of 25000: tensor([95, 67, 80, 50], device='cuda:1') torch.Size([4])\n",
      "08/24/2023, 17:35:28# labels of 30000: tensor([ 58,  49, 154,  52], device='cuda:1') torch.Size([4])\n",
      "08/24/2023, 17:35:28# predicted of 30000: tensor([ 93,  60, 154,  52], device='cuda:1') torch.Size([4])\n",
      "08/24/2023, 17:36:11# total batches: 33000\n",
      "08/24/2023, 17:36:11# Epoch 11 | Train Loss: 2.8905 | Train Accuracy: 0.3694\n"
     ]
    },
    {
     "data": {
      "application/vnd.jupyter.widget-view+json": {
       "model_id": "0a08d62b5bb24d29bffcdc374cdc108b",
       "version_major": 2,
       "version_minor": 0
      },
      "text/plain": [
       "Validation:   0%|          | 0/4125 [00:00<?, ?it/s]"
      ]
     },
     "metadata": {},
     "output_type": "display_data"
    },
    {
     "name": "stdout",
     "output_type": "stream",
     "text": [
      "08/24/2023, 17:36:11# labels of Validation: tensor([148, 154,   6,  96], device='cuda:1') torch.Size([4])\n",
      "08/24/2023, 17:36:11# predicted of Validation: tensor([161, 154, 161,  96], device='cuda:1') torch.Size([4])\n",
      "08/24/2023, 17:36:11# labels of 0: tensor([148, 154,   6,  96], device='cuda:1') torch.Size([4])\n",
      "08/24/2023, 17:36:11# predicted of 0: tensor([161, 154, 161,  96], device='cuda:1') torch.Size([4])\n",
      "08/24/2023, 17:36:21# labels of Validation: tensor([106,  47,   0,  85], device='cuda:1') torch.Size([4])\n",
      "08/24/2023, 17:36:21# predicted of Validation: tensor([106, 109,   0,  85], device='cuda:1') torch.Size([4])\n",
      "08/24/2023, 17:36:31# labels of Validation: tensor([146, 146,  63, 130], device='cuda:1') torch.Size([4])\n",
      "08/24/2023, 17:36:31# predicted of Validation: tensor([146, 146, 109, 130], device='cuda:1') torch.Size([4])\n",
      "08/24/2023, 17:36:40# labels of Validation: tensor([123, 101,  49, 106], device='cuda:1') torch.Size([4])\n",
      "08/24/2023, 17:36:40# predicted of Validation: tensor([123, 161, 109, 106], device='cuda:1') torch.Size([4])\n",
      "08/24/2023, 17:36:49# labels of Validation: tensor([108,   8, 148,  68], device='cuda:1') torch.Size([4])\n",
      "08/24/2023, 17:36:49# predicted of Validation: tensor([161, 161, 161, 161], device='cuda:1') torch.Size([4])\n",
      "08/24/2023, 17:36:50# Validation Loss: 2.8541 | Validation Accuracy: 0.3759\n",
      "\n"
     ]
    },
    {
     "data": {
      "application/vnd.jupyter.widget-view+json": {
       "model_id": "2c45ecb2a6084af5a73b926b5a27c854",
       "version_major": 2,
       "version_minor": 0
      },
      "text/plain": [
       "Training:   0%|          | 0/33000 [00:00<?, ?it/s]"
      ]
     },
     "metadata": {},
     "output_type": "display_data"
    },
    {
     "name": "stdout",
     "output_type": "stream",
     "text": [
      "08/24/2023, 17:38:04# labels of 5000: tensor([ 40,  62, 103,  85], device='cuda:1') torch.Size([4])\n",
      "08/24/2023, 17:38:04# predicted of 5000: tensor([ 40,  62, 161,  85], device='cuda:1') torch.Size([4])\n",
      "08/24/2023, 17:39:16# labels of 10000: tensor([ 56, 138,  42,  79], device='cuda:1') torch.Size([4])\n",
      "08/24/2023, 17:39:16# predicted of 10000: tensor([ 56, 138,  92,  15], device='cuda:1') torch.Size([4])\n",
      "08/24/2023, 17:40:29# labels of 15000: tensor([48, 24, 89, 75], device='cuda:1') torch.Size([4])\n",
      "08/24/2023, 17:40:29# predicted of 15000: tensor([ 71, 112,  89, 112], device='cuda:1') torch.Size([4])\n",
      "08/24/2023, 17:41:42# labels of 20000: tensor([151, 105, 166,  72], device='cuda:1') torch.Size([4])\n",
      "08/24/2023, 17:41:42# predicted of 20000: tensor([103, 105,   6,  67], device='cuda:1') torch.Size([4])\n",
      "08/24/2023, 17:42:54# labels of 25000: tensor([127,  39, 142,  56], device='cuda:1') torch.Size([4])\n",
      "08/24/2023, 17:42:54# predicted of 25000: tensor([127,  39,  87,  56], device='cuda:1') torch.Size([4])\n",
      "08/24/2023, 17:44:07# labels of 30000: tensor([106, 131, 164, 132], device='cuda:1') torch.Size([4])\n",
      "08/24/2023, 17:44:07# predicted of 30000: tensor([106, 132,  47, 132], device='cuda:1') torch.Size([4])\n",
      "08/24/2023, 17:44:52# total batches: 33000\n",
      "08/24/2023, 17:44:52# Epoch 12 | Train Loss: 2.8689 | Train Accuracy: 0.3714\n"
     ]
    },
    {
     "data": {
      "application/vnd.jupyter.widget-view+json": {
       "model_id": "8dadbf560a7349e0bafc37776d0d2983",
       "version_major": 2,
       "version_minor": 0
      },
      "text/plain": [
       "Validation:   0%|          | 0/4125 [00:00<?, ?it/s]"
      ]
     },
     "metadata": {},
     "output_type": "display_data"
    },
    {
     "name": "stdout",
     "output_type": "stream",
     "text": [
      "08/24/2023, 17:44:52# labels of Validation: tensor([ 46, 127,  34, 129], device='cuda:1') torch.Size([4])\n",
      "08/24/2023, 17:44:52# predicted of Validation: tensor([ 55, 127,  55, 132], device='cuda:1') torch.Size([4])\n",
      "08/24/2023, 17:44:52# labels of 0: tensor([ 46, 127,  34, 129], device='cuda:1') torch.Size([4])\n",
      "08/24/2023, 17:44:52# predicted of 0: tensor([ 55, 127,  55, 132], device='cuda:1') torch.Size([4])\n",
      "08/24/2023, 17:45:01# labels of Validation: tensor([134,  25, 144, 155], device='cuda:1') torch.Size([4])\n",
      "08/24/2023, 17:45:01# predicted of Validation: tensor([134,  25,  55, 132], device='cuda:1') torch.Size([4])\n",
      "08/24/2023, 17:45:11# labels of Validation: tensor([ 39,  49, 147, 117], device='cuda:1') torch.Size([4])\n",
      "08/24/2023, 17:45:11# predicted of Validation: tensor([ 39,  55, 147, 117], device='cuda:1') torch.Size([4])\n",
      "08/24/2023, 17:45:20# labels of Validation: tensor([113, 113, 125, 115], device='cuda:1') torch.Size([4])\n",
      "08/24/2023, 17:45:20# predicted of Validation: tensor([132, 132,  55, 115], device='cuda:1') torch.Size([4])\n",
      "08/24/2023, 17:45:29# labels of Validation: tensor([142,  80, 155,  36], device='cuda:1') torch.Size([4])\n",
      "08/24/2023, 17:45:29# predicted of Validation: tensor([ 55,  80, 132,  55], device='cuda:1') torch.Size([4])\n",
      "08/24/2023, 17:45:31# Validation Loss: 2.8391 | Validation Accuracy: 0.3772\n",
      "\n"
     ]
    },
    {
     "data": {
      "application/vnd.jupyter.widget-view+json": {
       "model_id": "656ba9881b7b40bb8b7d0fed3caf75e0",
       "version_major": 2,
       "version_minor": 0
      },
      "text/plain": [
       "Training:   0%|          | 0/33000 [00:00<?, ?it/s]"
      ]
     },
     "metadata": {},
     "output_type": "display_data"
    },
    {
     "name": "stdout",
     "output_type": "stream",
     "text": [
      "08/24/2023, 17:46:44# labels of 5000: tensor([ 28, 103, 123,  87], device='cuda:1') torch.Size([4])\n",
      "08/24/2023, 17:46:44# predicted of 5000: tensor([132, 132, 123,  93], device='cuda:1') torch.Size([4])\n",
      "08/24/2023, 17:47:57# labels of 10000: tensor([ 43,  66, 124,  13], device='cuda:1') torch.Size([4])\n",
      "08/24/2023, 17:47:57# predicted of 10000: tensor([ 36, 132,  26,  13], device='cuda:1') torch.Size([4])\n",
      "08/24/2023, 17:49:08# labels of 15000: tensor([16, 39, 34, 40], device='cuda:1') torch.Size([4])\n",
      "08/24/2023, 17:49:08# predicted of 15000: tensor([16, 39, 93, 40], device='cuda:1') torch.Size([4])\n",
      "08/24/2023, 17:50:24# labels of 20000: tensor([86, 30, 58, 36], device='cuda:1') torch.Size([4])\n",
      "08/24/2023, 17:50:24# predicted of 20000: tensor([ 33, 163, 163,  33], device='cuda:1') torch.Size([4])\n",
      "08/24/2023, 17:51:39# labels of 25000: tensor([67, 32, 79,  5], device='cuda:1') torch.Size([4])\n",
      "08/24/2023, 17:51:39# predicted of 25000: tensor([78, 32, 79,  5], device='cuda:1') torch.Size([4])\n",
      "08/24/2023, 17:52:53# labels of 30000: tensor([  4,  39, 145,  52], device='cuda:1') torch.Size([4])\n",
      "08/24/2023, 17:52:53# predicted of 30000: tensor([ 37,  39, 145,  52], device='cuda:1') torch.Size([4])\n",
      "08/24/2023, 17:53:36# total batches: 33000\n",
      "08/24/2023, 17:53:36# Epoch 13 | Train Loss: 2.8535 | Train Accuracy: 0.3727\n"
     ]
    },
    {
     "data": {
      "application/vnd.jupyter.widget-view+json": {
       "model_id": "eb31482683ff4dfc8d92801959802f6e",
       "version_major": 2,
       "version_minor": 0
      },
      "text/plain": [
       "Validation:   0%|          | 0/4125 [00:00<?, ?it/s]"
      ]
     },
     "metadata": {},
     "output_type": "display_data"
    },
    {
     "name": "stdout",
     "output_type": "stream",
     "text": [
      "08/24/2023, 17:53:36# labels of Validation: tensor([ 72,  91, 124,   9], device='cuda:1') torch.Size([4])\n",
      "08/24/2023, 17:53:36# predicted of Validation: tensor([ 79, 161,  87,  87], device='cuda:1') torch.Size([4])\n",
      "08/24/2023, 17:53:36# labels of 0: tensor([ 72,  91, 124,   9], device='cuda:1') torch.Size([4])\n",
      "08/24/2023, 17:53:36# predicted of 0: tensor([ 79, 161,  87,  87], device='cuda:1') torch.Size([4])\n",
      "08/24/2023, 17:53:45# labels of Validation: tensor([123, 131, 153,  46], device='cuda:1') torch.Size([4])\n",
      "08/24/2023, 17:53:45# predicted of Validation: tensor([123, 161,  87,  87], device='cuda:1') torch.Size([4])\n",
      "08/24/2023, 17:53:54# labels of Validation: tensor([108, 133,  87, 116], device='cuda:1') torch.Size([4])\n",
      "08/24/2023, 17:53:54# predicted of Validation: tensor([161,  28,  87,  87], device='cuda:1') torch.Size([4])\n",
      "08/24/2023, 17:54:04# labels of Validation: tensor([140,  64,  92,  44], device='cuda:1') torch.Size([4])\n",
      "08/24/2023, 17:54:04# predicted of Validation: tensor([140,  28,  87,  87], device='cuda:1') torch.Size([4])\n",
      "08/24/2023, 17:54:14# labels of Validation: tensor([139,  92,  14,  38], device='cuda:1') torch.Size([4])\n",
      "08/24/2023, 17:54:14# predicted of Validation: tensor([87, 87, 87, 87], device='cuda:1') torch.Size([4])\n",
      "08/24/2023, 17:54:15# Validation Loss: 2.8272 | Validation Accuracy: 0.3770\n",
      "\n"
     ]
    },
    {
     "data": {
      "application/vnd.jupyter.widget-view+json": {
       "model_id": "ff73d34030b34410b4018ddfbfb1ee14",
       "version_major": 2,
       "version_minor": 0
      },
      "text/plain": [
       "Training:   0%|          | 0/33000 [00:00<?, ?it/s]"
      ]
     },
     "metadata": {},
     "output_type": "display_data"
    },
    {
     "name": "stdout",
     "output_type": "stream",
     "text": [
      "08/24/2023, 17:55:29# labels of 5000: tensor([ 62,  33,  29, 153], device='cuda:1') torch.Size([4])\n",
      "08/24/2023, 17:55:29# predicted of 5000: tensor([ 62, 113,  29,  58], device='cuda:1') torch.Size([4])\n",
      "08/24/2023, 17:56:46# labels of 10000: tensor([  8,  95, 155, 133], device='cuda:1') torch.Size([4])\n",
      "08/24/2023, 17:56:46# predicted of 10000: tensor([132,  95, 132, 161], device='cuda:1') torch.Size([4])\n",
      "08/24/2023, 17:58:02# labels of 15000: tensor([119,  82, 158,  10], device='cuda:1') torch.Size([4])\n",
      "08/24/2023, 17:58:02# predicted of 15000: tensor([59, 82, 46,  4], device='cuda:1') torch.Size([4])\n",
      "08/24/2023, 17:59:17# labels of 20000: tensor([ 74, 106,  67, 108], device='cuda:1') torch.Size([4])\n",
      "08/24/2023, 17:59:17# predicted of 20000: tensor([ 59, 106,  67, 132], device='cuda:1') torch.Size([4])\n",
      "08/24/2023, 18:00:34# labels of 25000: tensor([102, 149,  79,  51], device='cuda:1') torch.Size([4])\n",
      "08/24/2023, 18:00:34# predicted of 25000: tensor([121, 149,  79, 131], device='cuda:1') torch.Size([4])\n",
      "08/24/2023, 18:01:48# labels of 30000: tensor([24, 61, 68, 59], device='cuda:1') torch.Size([4])\n",
      "08/24/2023, 18:01:48# predicted of 30000: tensor([100,  61,  93,  28], device='cuda:1') torch.Size([4])\n",
      "08/24/2023, 18:02:33# total batches: 33000\n",
      "08/24/2023, 18:02:33# Epoch 14 | Train Loss: 2.8424 | Train Accuracy: 0.3735\n"
     ]
    },
    {
     "data": {
      "application/vnd.jupyter.widget-view+json": {
       "model_id": "419797cf667a40698c82b93679960a6f",
       "version_major": 2,
       "version_minor": 0
      },
      "text/plain": [
       "Validation:   0%|          | 0/4125 [00:00<?, ?it/s]"
      ]
     },
     "metadata": {},
     "output_type": "display_data"
    },
    {
     "name": "stdout",
     "output_type": "stream",
     "text": [
      "08/24/2023, 18:02:33# labels of Validation: tensor([56, 70, 15, 31], device='cuda:1') torch.Size([4])\n",
      "08/24/2023, 18:02:33# predicted of Validation: tensor([ 56,  70,  15, 103], device='cuda:1') torch.Size([4])\n",
      "08/24/2023, 18:02:33# labels of 0: tensor([56, 70, 15, 31], device='cuda:1') torch.Size([4])\n",
      "08/24/2023, 18:02:33# predicted of 0: tensor([ 56,  70,  15, 103], device='cuda:1') torch.Size([4])\n",
      "08/24/2023, 18:02:43# labels of Validation: tensor([ 44,  69, 161,  31], device='cuda:1') torch.Size([4])\n",
      "08/24/2023, 18:02:43# predicted of Validation: tensor([103,  69, 132, 103], device='cuda:1') torch.Size([4])\n",
      "08/24/2023, 18:02:53# labels of Validation: tensor([148, 125,  38,  96], device='cuda:1') torch.Size([4])\n",
      "08/24/2023, 18:02:53# predicted of Validation: tensor([  6, 103, 103,  96], device='cuda:1') torch.Size([4])\n",
      "08/24/2023, 18:03:02# labels of Validation: tensor([ 81, 119,  23,  24], device='cuda:1') torch.Size([4])\n",
      "08/24/2023, 18:03:02# predicted of Validation: tensor([103, 103,  23, 103], device='cuda:1') torch.Size([4])\n",
      "08/24/2023, 18:03:12# labels of Validation: tensor([ 89, 128, 114,  68], device='cuda:1') torch.Size([4])\n",
      "08/24/2023, 18:03:12# predicted of Validation: tensor([ 89, 128,   6,   6], device='cuda:1') torch.Size([4])\n",
      "08/24/2023, 18:03:13# Validation Loss: 2.8190 | Validation Accuracy: 0.3718\n",
      "\n"
     ]
    },
    {
     "data": {
      "application/vnd.jupyter.widget-view+json": {
       "model_id": "8fc7f10d9a3b48e6b6f9e609e42de0be",
       "version_major": 2,
       "version_minor": 0
      },
      "text/plain": [
       "Training:   0%|          | 0/33000 [00:00<?, ?it/s]"
      ]
     },
     "metadata": {},
     "output_type": "display_data"
    },
    {
     "name": "stdout",
     "output_type": "stream",
     "text": [
      "08/24/2023, 18:04:28# labels of 5000: tensor([39, 15, 52, 26], device='cuda:1') torch.Size([4])\n",
      "08/24/2023, 18:04:28# predicted of 5000: tensor([39, 15, 52, 10], device='cuda:1') torch.Size([4])\n",
      "08/24/2023, 18:05:41# labels of 10000: tensor([ 98, 112,  32, 142], device='cuda:1') torch.Size([4])\n",
      "08/24/2023, 18:05:41# predicted of 10000: tensor([151, 103,  32, 103], device='cuda:1') torch.Size([4])\n",
      "08/24/2023, 18:06:54# labels of 15000: tensor([149,  54, 166, 156], device='cuda:1') torch.Size([4])\n",
      "08/24/2023, 18:06:54# predicted of 15000: tensor([149,  90, 111, 156], device='cuda:1') torch.Size([4])\n",
      "08/24/2023, 18:08:06# labels of 20000: tensor([ 91,  30,  84, 149], device='cuda:1') torch.Size([4])\n",
      "08/24/2023, 18:08:06# predicted of 20000: tensor([161, 107,  84, 149], device='cuda:1') torch.Size([4])\n",
      "08/24/2023, 18:09:19# labels of 25000: tensor([ 96,  15, 120,  50], device='cuda:1') torch.Size([4])\n",
      "08/24/2023, 18:09:19# predicted of 25000: tensor([ 96,  15, 120,  50], device='cuda:1') torch.Size([4])\n",
      "08/24/2023, 18:10:32# labels of 30000: tensor([ 50,  50,  91, 129], device='cuda:1') torch.Size([4])\n",
      "08/24/2023, 18:10:32# predicted of 30000: tensor([50, 50, 28, 28], device='cuda:1') torch.Size([4])\n",
      "08/24/2023, 18:11:16# total batches: 33000\n",
      "08/24/2023, 18:11:16# Epoch 15 | Train Loss: 2.8326 | Train Accuracy: 0.3748\n"
     ]
    },
    {
     "data": {
      "application/vnd.jupyter.widget-view+json": {
       "model_id": "2e5258606d884e62a383e863cec58ba6",
       "version_major": 2,
       "version_minor": 0
      },
      "text/plain": [
       "Validation:   0%|          | 0/4125 [00:00<?, ?it/s]"
      ]
     },
     "metadata": {},
     "output_type": "display_data"
    },
    {
     "name": "stdout",
     "output_type": "stream",
     "text": [
      "08/24/2023, 18:11:16# labels of Validation: tensor([107,  78, 158, 160], device='cuda:1') torch.Size([4])\n",
      "08/24/2023, 18:11:16# predicted of Validation: tensor([28, 78, 93, 28], device='cuda:1') torch.Size([4])\n",
      "08/24/2023, 18:11:16# labels of 0: tensor([107,  78, 158, 160], device='cuda:1') torch.Size([4])\n",
      "08/24/2023, 18:11:16# predicted of 0: tensor([28, 78, 93, 28], device='cuda:1') torch.Size([4])\n",
      "08/24/2023, 18:11:25# labels of Validation: tensor([ 75, 154,  64, 127], device='cuda:1') torch.Size([4])\n",
      "08/24/2023, 18:11:25# predicted of Validation: tensor([ 93, 154,  28, 127], device='cuda:1') torch.Size([4])\n",
      "08/24/2023, 18:11:34# labels of Validation: tensor([ 59, 117,  53, 108], device='cuda:1') torch.Size([4])\n",
      "08/24/2023, 18:11:34# predicted of Validation: tensor([ 28, 117,  93,  28], device='cuda:1') torch.Size([4])\n",
      "08/24/2023, 18:11:43# labels of Validation: tensor([  6, 103, 108,  44], device='cuda:1') torch.Size([4])\n",
      "08/24/2023, 18:11:43# predicted of Validation: tensor([161,  28,  28,  93], device='cuda:1') torch.Size([4])\n",
      "08/24/2023, 18:11:52# labels of Validation: tensor([ 83, 153, 125,   5], device='cuda:1') torch.Size([4])\n",
      "08/24/2023, 18:11:52# predicted of Validation: tensor([93, 93, 93,  5], device='cuda:1') torch.Size([4])\n",
      "08/24/2023, 18:11:54# Validation Loss: 2.8117 | Validation Accuracy: 0.3722\n",
      "\n"
     ]
    },
    {
     "data": {
      "application/vnd.jupyter.widget-view+json": {
       "model_id": "e2ad9a2609904bd39549fcfb64ae5f14",
       "version_major": 2,
       "version_minor": 0
      },
      "text/plain": [
       "Training:   0%|          | 0/33000 [00:00<?, ?it/s]"
      ]
     },
     "metadata": {},
     "output_type": "display_data"
    },
    {
     "name": "stdout",
     "output_type": "stream",
     "text": [
      "08/24/2023, 18:13:07# labels of 5000: tensor([155,  93, 142,  11], device='cuda:1') torch.Size([4])\n",
      "08/24/2023, 18:13:07# predicted of 5000: tensor([132, 132,  71, 129], device='cuda:1') torch.Size([4])\n",
      "08/24/2023, 18:14:18# labels of 10000: tensor([ 38, 128, 149,  10], device='cuda:1') torch.Size([4])\n",
      "08/24/2023, 18:14:18# predicted of 10000: tensor([132, 128, 149,  66], device='cuda:1') torch.Size([4])\n",
      "08/24/2023, 18:15:34# labels of 15000: tensor([ 73, 123,  41, 116], device='cuda:1') torch.Size([4])\n",
      "08/24/2023, 18:15:34# predicted of 15000: tensor([ 73, 123, 141, 166], device='cuda:1') torch.Size([4])\n",
      "08/24/2023, 18:16:48# labels of 20000: tensor([ 15,  61,  21, 135], device='cuda:1') torch.Size([4])\n",
      "08/24/2023, 18:16:48# predicted of 20000: tensor([ 15,  61, 132,  83], device='cuda:1') torch.Size([4])\n",
      "08/24/2023, 18:18:04# labels of 25000: tensor([109, 126, 100,  71], device='cuda:1') torch.Size([4])\n",
      "08/24/2023, 18:18:04# predicted of 25000: tensor([ 58, 126, 155, 152], device='cuda:1') torch.Size([4])\n",
      "08/24/2023, 18:19:20# labels of 30000: tensor([137,  53,  35,  58], device='cuda:1') torch.Size([4])\n",
      "08/24/2023, 18:19:20# predicted of 30000: tensor([ 47,  19,  35, 119], device='cuda:1') torch.Size([4])\n",
      "08/24/2023, 18:20:05# total batches: 33000\n",
      "08/24/2023, 18:20:05# Epoch 16 | Train Loss: 2.8251 | Train Accuracy: 0.3755\n"
     ]
    },
    {
     "data": {
      "application/vnd.jupyter.widget-view+json": {
       "model_id": "b3dd9ea26628464b859c4b9f6fa09781",
       "version_major": 2,
       "version_minor": 0
      },
      "text/plain": [
       "Validation:   0%|          | 0/4125 [00:00<?, ?it/s]"
      ]
     },
     "metadata": {},
     "output_type": "display_data"
    },
    {
     "name": "stdout",
     "output_type": "stream",
     "text": [
      "08/24/2023, 18:20:05# labels of Validation: tensor([155,  94,  80, 155], device='cuda:1') torch.Size([4])\n",
      "08/24/2023, 18:20:05# predicted of Validation: tensor([161,  94,  80, 161], device='cuda:1') torch.Size([4])\n",
      "08/24/2023, 18:20:05# labels of 0: tensor([155,  94,  80, 155], device='cuda:1') torch.Size([4])\n",
      "08/24/2023, 18:20:05# predicted of 0: tensor([161,  94,  80, 161], device='cuda:1') torch.Size([4])\n",
      "08/24/2023, 18:20:15# labels of Validation: tensor([ 1, 31, 81, 56], device='cuda:1') torch.Size([4])\n",
      "08/24/2023, 18:20:15# predicted of Validation: tensor([24, 24, 24, 56], device='cuda:1') torch.Size([4])\n",
      "08/24/2023, 18:20:25# labels of Validation: tensor([124,  19, 163, 103], device='cuda:1') torch.Size([4])\n",
      "08/24/2023, 18:20:25# predicted of Validation: tensor([ 24,  24,  24, 161], device='cuda:1') torch.Size([4])\n",
      "08/24/2023, 18:20:35# labels of Validation: tensor([156, 166,  10, 141], device='cuda:1') torch.Size([4])\n",
      "08/24/2023, 18:20:35# predicted of Validation: tensor([156, 161,  24, 161], device='cuda:1') torch.Size([4])\n",
      "08/24/2023, 18:20:44# labels of Validation: tensor([ 11, 136, 121, 107], device='cuda:1') torch.Size([4])\n",
      "08/24/2023, 18:20:44# predicted of Validation: tensor([ 24, 136,  24, 161], device='cuda:1') torch.Size([4])\n",
      "08/24/2023, 18:20:45# Validation Loss: 2.8058 | Validation Accuracy: 0.3779\n",
      "\n"
     ]
    },
    {
     "data": {
      "application/vnd.jupyter.widget-view+json": {
       "model_id": "137cb04ecedf4b27a8f15599ffdd973e",
       "version_major": 2,
       "version_minor": 0
      },
      "text/plain": [
       "Training:   0%|          | 0/33000 [00:00<?, ?it/s]"
      ]
     },
     "metadata": {},
     "output_type": "display_data"
    },
    {
     "name": "stdout",
     "output_type": "stream",
     "text": [
      "08/24/2023, 18:22:01# labels of 5000: tensor([140,  18, 151,   4], device='cuda:1') torch.Size([4])\n",
      "08/24/2023, 18:22:01# predicted of 5000: tensor([140, 135, 112, 113], device='cuda:1') torch.Size([4])\n",
      "08/24/2023, 18:23:17# labels of 10000: tensor([159,   1, 126,  58], device='cuda:1') torch.Size([4])\n",
      "08/24/2023, 18:23:17# predicted of 10000: tensor([159, 144, 126, 121], device='cuda:1') torch.Size([4])\n",
      "08/24/2023, 18:24:32# labels of 15000: tensor([ 97,  41, 143,  24], device='cuda:1') torch.Size([4])\n",
      "08/24/2023, 18:24:32# predicted of 15000: tensor([60, 60, 64, 60], device='cuda:1') torch.Size([4])\n",
      "08/24/2023, 18:25:47# labels of 20000: tensor([ 67,  94,  27, 154], device='cuda:1') torch.Size([4])\n",
      "08/24/2023, 18:25:47# predicted of 20000: tensor([ 78,  94,  27, 154], device='cuda:1') torch.Size([4])\n",
      "08/24/2023, 18:27:03# labels of 25000: tensor([ 76, 132, 162,   4], device='cuda:1') torch.Size([4])\n",
      "08/24/2023, 18:27:03# predicted of 25000: tensor([ 34, 132, 100,  98], device='cuda:1') torch.Size([4])\n",
      "08/24/2023, 18:28:19# labels of 30000: tensor([ 20, 162, 120,  23], device='cuda:1') torch.Size([4])\n",
      "08/24/2023, 18:28:19# predicted of 30000: tensor([ 68, 112, 120,  23], device='cuda:1') torch.Size([4])\n",
      "08/24/2023, 18:29:04# total batches: 33000\n",
      "08/24/2023, 18:29:04# Epoch 17 | Train Loss: 2.8193 | Train Accuracy: 0.3754\n"
     ]
    },
    {
     "data": {
      "application/vnd.jupyter.widget-view+json": {
       "model_id": "a20d88ec15e743db8ea1bd5ba69186b6",
       "version_major": 2,
       "version_minor": 0
      },
      "text/plain": [
       "Validation:   0%|          | 0/4125 [00:00<?, ?it/s]"
      ]
     },
     "metadata": {},
     "output_type": "display_data"
    },
    {
     "name": "stdout",
     "output_type": "stream",
     "text": [
      "08/24/2023, 18:29:04# labels of Validation: tensor([155,   3, 114, 161], device='cuda:1') torch.Size([4])\n",
      "08/24/2023, 18:29:04# predicted of Validation: tensor([132,   3, 132, 132], device='cuda:1') torch.Size([4])\n",
      "08/24/2023, 18:29:04# labels of 0: tensor([155,   3, 114, 161], device='cuda:1') torch.Size([4])\n",
      "08/24/2023, 18:29:04# predicted of 0: tensor([132,   3, 132, 132], device='cuda:1') torch.Size([4])\n",
      "08/24/2023, 18:29:14# labels of Validation: tensor([ 45,  20,  24, 122], device='cuda:1') torch.Size([4])\n",
      "08/24/2023, 18:29:14# predicted of Validation: tensor([ 45,   9,   9, 122], device='cuda:1') torch.Size([4])\n",
      "08/24/2023, 18:29:23# labels of Validation: tensor([ 85, 107, 117, 154], device='cuda:1') torch.Size([4])\n",
      "08/24/2023, 18:29:23# predicted of Validation: tensor([ 85, 132, 117, 154], device='cuda:1') torch.Size([4])\n",
      "08/24/2023, 18:29:33# labels of Validation: tensor([ 98,  88,  63, 140], device='cuda:1') torch.Size([4])\n",
      "08/24/2023, 18:29:33# predicted of Validation: tensor([  9, 132,   9, 140], device='cuda:1') torch.Size([4])\n",
      "08/24/2023, 18:29:43# labels of Validation: tensor([ 31,  44, 125,  47], device='cuda:1') torch.Size([4])\n",
      "08/24/2023, 18:29:43# predicted of Validation: tensor([9, 9, 9, 9], device='cuda:1') torch.Size([4])\n",
      "08/24/2023, 18:29:44# Validation Loss: 2.8006 | Validation Accuracy: 0.3782\n",
      "\n"
     ]
    },
    {
     "data": {
      "application/vnd.jupyter.widget-view+json": {
       "model_id": "72b9159d9d294baeade5c9022ba1153b",
       "version_major": 2,
       "version_minor": 0
      },
      "text/plain": [
       "Training:   0%|          | 0/33000 [00:00<?, ?it/s]"
      ]
     },
     "metadata": {},
     "output_type": "display_data"
    },
    {
     "name": "stdout",
     "output_type": "stream",
     "text": [
      "08/24/2023, 18:30:59# labels of 5000: tensor([105,  16,  51, 117], device='cuda:1') torch.Size([4])\n",
      "08/24/2023, 18:30:59# predicted of 5000: tensor([105,  16, 161, 117], device='cuda:1') torch.Size([4])\n",
      "08/24/2023, 18:32:13# labels of 10000: tensor([152,   0, 136,  64], device='cuda:1') torch.Size([4])\n",
      "08/24/2023, 18:32:13# predicted of 10000: tensor([ 59,   0, 136,  59], device='cuda:1') torch.Size([4])\n",
      "08/24/2023, 18:33:29# labels of 15000: tensor([106, 156, 105,  56], device='cuda:1') torch.Size([4])\n",
      "08/24/2023, 18:33:29# predicted of 15000: tensor([106, 156, 105,  56], device='cuda:1') torch.Size([4])\n",
      "08/24/2023, 18:34:45# labels of 20000: tensor([129,  56,  98, 166], device='cuda:1') torch.Size([4])\n",
      "08/24/2023, 18:34:45# predicted of 20000: tensor([141,  56, 141, 132], device='cuda:1') torch.Size([4])\n",
      "08/24/2023, 18:36:01# labels of 25000: tensor([66, 16, 60,  8], device='cuda:1') torch.Size([4])\n",
      "08/24/2023, 18:36:01# predicted of 25000: tensor([161,  16, 160, 161], device='cuda:1') torch.Size([4])\n",
      "08/24/2023, 18:37:16# labels of 30000: tensor([151, 164,  58, 165], device='cuda:1') torch.Size([4])\n",
      "08/24/2023, 18:37:16# predicted of 30000: tensor([ 77,  77,  48, 165], device='cuda:1') torch.Size([4])\n",
      "08/24/2023, 18:38:02# total batches: 33000\n",
      "08/24/2023, 18:38:02# Epoch 18 | Train Loss: 2.8134 | Train Accuracy: 0.3771\n"
     ]
    },
    {
     "data": {
      "application/vnd.jupyter.widget-view+json": {
       "model_id": "7bc724c6e7fd4d2a8ae0de972ef29581",
       "version_major": 2,
       "version_minor": 0
      },
      "text/plain": [
       "Validation:   0%|          | 0/4125 [00:00<?, ?it/s]"
      ]
     },
     "metadata": {},
     "output_type": "display_data"
    },
    {
     "name": "stdout",
     "output_type": "stream",
     "text": [
      "08/24/2023, 18:38:02# labels of Validation: tensor([104,  99, 120,  25], device='cuda:1') torch.Size([4])\n",
      "08/24/2023, 18:38:02# predicted of Validation: tensor([142,  99, 120,  25], device='cuda:1') torch.Size([4])\n",
      "08/24/2023, 18:38:02# labels of 0: tensor([104,  99, 120,  25], device='cuda:1') torch.Size([4])\n",
      "08/24/2023, 18:38:02# predicted of 0: tensor([142,  99, 120,  25], device='cuda:1') torch.Size([4])\n",
      "08/24/2023, 18:38:11# labels of Validation: tensor([ 36,  89, 120, 154], device='cuda:1') torch.Size([4])\n",
      "08/24/2023, 18:38:11# predicted of Validation: tensor([142,  89, 120, 154], device='cuda:1') torch.Size([4])\n",
      "08/24/2023, 18:38:21# labels of Validation: tensor([109, 141, 105, 138], device='cuda:1') torch.Size([4])\n",
      "08/24/2023, 18:38:21# predicted of Validation: tensor([142, 161, 105, 138], device='cuda:1') torch.Size([4])\n",
      "08/24/2023, 18:38:31# labels of Validation: tensor([ 36, 155,  38,  56], device='cuda:1') torch.Size([4])\n",
      "08/24/2023, 18:38:31# predicted of Validation: tensor([142, 161, 142,  56], device='cuda:1') torch.Size([4])\n",
      "08/24/2023, 18:38:40# labels of Validation: tensor([130,  14, 122,  51], device='cuda:1') torch.Size([4])\n",
      "08/24/2023, 18:38:40# predicted of Validation: tensor([130, 142, 122, 161], device='cuda:1') torch.Size([4])\n",
      "08/24/2023, 18:38:41# Validation Loss: 2.7970 | Validation Accuracy: 0.3788\n",
      "\n"
     ]
    },
    {
     "data": {
      "application/vnd.jupyter.widget-view+json": {
       "model_id": "3b219001c53e4ba68d9894c2c2ec63ea",
       "version_major": 2,
       "version_minor": 0
      },
      "text/plain": [
       "Training:   0%|          | 0/33000 [00:00<?, ?it/s]"
      ]
     },
     "metadata": {},
     "output_type": "display_data"
    },
    {
     "name": "stdout",
     "output_type": "stream",
     "text": [
      "08/24/2023, 18:39:56# labels of 5000: tensor([158,  60, 110,  30], device='cuda:1') torch.Size([4])\n",
      "08/24/2023, 18:39:56# predicted of 5000: tensor([133, 133,  28, 133], device='cuda:1') torch.Size([4])\n",
      "08/24/2023, 18:41:11# labels of 10000: tensor([130, 105,  50,  89], device='cuda:1') torch.Size([4])\n",
      "08/24/2023, 18:41:11# predicted of 10000: tensor([130, 105,  50,  89], device='cuda:1') torch.Size([4])\n",
      "08/24/2023, 18:42:27# labels of 15000: tensor([46, 12, 32, 40], device='cuda:1') torch.Size([4])\n",
      "08/24/2023, 18:42:27# predicted of 15000: tensor([ 58, 102,  32,  40], device='cuda:1') torch.Size([4])\n",
      "08/24/2023, 18:43:43# labels of 20000: tensor([119,  50, 150,   6], device='cuda:1') torch.Size([4])\n",
      "08/24/2023, 18:43:43# predicted of 20000: tensor([102,  50, 121, 132], device='cuda:1') torch.Size([4])\n",
      "08/24/2023, 18:44:58# labels of 25000: tensor([27, 91, 48, 95], device='cuda:1') torch.Size([4])\n",
      "08/24/2023, 18:44:58# predicted of 25000: tensor([27, 42, 42, 95], device='cuda:1') torch.Size([4])\n",
      "08/24/2023, 18:46:14# labels of 30000: tensor([126,  90,  71,  68], device='cuda:1') torch.Size([4])\n",
      "08/24/2023, 18:46:14# predicted of 30000: tensor([126,  28,  20, 132], device='cuda:1') torch.Size([4])\n",
      "08/24/2023, 18:46:59# total batches: 33000\n",
      "08/24/2023, 18:46:59# Epoch 19 | Train Loss: 2.8095 | Train Accuracy: 0.3765\n"
     ]
    },
    {
     "data": {
      "application/vnd.jupyter.widget-view+json": {
       "model_id": "90cfcf01346d44d28ac5cc0742cc179c",
       "version_major": 2,
       "version_minor": 0
      },
      "text/plain": [
       "Validation:   0%|          | 0/4125 [00:00<?, ?it/s]"
      ]
     },
     "metadata": {},
     "output_type": "display_data"
    },
    {
     "name": "stdout",
     "output_type": "stream",
     "text": [
      "08/24/2023, 18:46:59# labels of Validation: tensor([  0, 122,  35,  16], device='cuda:1') torch.Size([4])\n",
      "08/24/2023, 18:46:59# predicted of Validation: tensor([  0, 122,  35,  16], device='cuda:1') torch.Size([4])\n",
      "08/24/2023, 18:46:59# labels of 0: tensor([  0, 122,  35,  16], device='cuda:1') torch.Size([4])\n",
      "08/24/2023, 18:46:59# predicted of 0: tensor([  0, 122,  35,  16], device='cuda:1') torch.Size([4])\n",
      "08/24/2023, 18:47:08# labels of Validation: tensor([  2, 165,  11,   8], device='cuda:1') torch.Size([4])\n",
      "08/24/2023, 18:47:08# predicted of Validation: tensor([ 38, 165,  38, 161], device='cuda:1') torch.Size([4])\n",
      "08/24/2023, 18:47:18# labels of Validation: tensor([ 63,  61,  61, 159], device='cuda:1') torch.Size([4])\n",
      "08/24/2023, 18:47:18# predicted of Validation: tensor([ 38,  61,  61, 159], device='cuda:1') torch.Size([4])\n",
      "08/24/2023, 18:47:28# labels of Validation: tensor([ 85,  59,  20, 139], device='cuda:1') torch.Size([4])\n",
      "08/24/2023, 18:47:28# predicted of Validation: tensor([ 85, 161,  38,  38], device='cuda:1') torch.Size([4])\n",
      "08/24/2023, 18:47:37# labels of Validation: tensor([ 16,  61, 102, 138], device='cuda:1') torch.Size([4])\n",
      "08/24/2023, 18:47:37# predicted of Validation: tensor([ 16,  61,  38, 138], device='cuda:1') torch.Size([4])\n",
      "08/24/2023, 18:47:38# Validation Loss: 2.7923 | Validation Accuracy: 0.3790\n",
      "\n"
     ]
    },
    {
     "data": {
      "application/vnd.jupyter.widget-view+json": {
       "model_id": "4a74863d483e433bbf95d44613dbf7f9",
       "version_major": 2,
       "version_minor": 0
      },
      "text/plain": [
       "Training:   0%|          | 0/33000 [00:00<?, ?it/s]"
      ]
     },
     "metadata": {},
     "output_type": "display_data"
    },
    {
     "name": "stdout",
     "output_type": "stream",
     "text": [
      "08/24/2023, 18:48:54# labels of 5000: tensor([ 15,  46, 162,  89], device='cuda:1') torch.Size([4])\n",
      "08/24/2023, 18:48:54# predicted of 5000: tensor([ 15, 153,  71,  89], device='cuda:1') torch.Size([4])\n",
      "08/24/2023, 18:50:10# labels of 10000: tensor([  0, 133,  40, 147], device='cuda:1') torch.Size([4])\n",
      "08/24/2023, 18:50:10# predicted of 10000: tensor([  0,  28,  40, 147], device='cuda:1') torch.Size([4])\n",
      "08/24/2023, 18:51:26# labels of 15000: tensor([ 88, 110,  81,  78], device='cuda:1') torch.Size([4])\n",
      "08/24/2023, 18:51:26# predicted of 15000: tensor([161,  77,  93,  67], device='cuda:1') torch.Size([4])\n",
      "08/24/2023, 18:52:42# labels of 20000: tensor([ 56, 144,  86, 152], device='cuda:1') torch.Size([4])\n",
      "08/24/2023, 18:52:42# predicted of 20000: tensor([ 56, 129,  34, 166], device='cuda:1') torch.Size([4])\n",
      "08/24/2023, 18:53:57# labels of 25000: tensor([93, 38, 53, 75], device='cuda:1') torch.Size([4])\n",
      "08/24/2023, 18:53:57# predicted of 25000: tensor([132,  87, 135,  59], device='cuda:1') torch.Size([4])\n",
      "08/24/2023, 18:55:13# labels of 30000: tensor([27, 17, 48, 95], device='cuda:1') torch.Size([4])\n",
      "08/24/2023, 18:55:13# predicted of 30000: tensor([27, 17, 88, 95], device='cuda:1') torch.Size([4])\n",
      "08/24/2023, 18:55:58# total batches: 33000\n",
      "08/24/2023, 18:55:58# Epoch 20 | Train Loss: 2.8060 | Train Accuracy: 0.3768\n"
     ]
    },
    {
     "data": {
      "application/vnd.jupyter.widget-view+json": {
       "model_id": "8c54ca2dcb1646e0884056ed1378e6ae",
       "version_major": 2,
       "version_minor": 0
      },
      "text/plain": [
       "Validation:   0%|          | 0/4125 [00:00<?, ?it/s]"
      ]
     },
     "metadata": {},
     "output_type": "display_data"
    },
    {
     "name": "stdout",
     "output_type": "stream",
     "text": [
      "08/24/2023, 18:55:58# labels of Validation: tensor([ 86,  25,   8, 113], device='cuda:1') torch.Size([4])\n",
      "08/24/2023, 18:55:58# predicted of Validation: tensor([104,  25,  51,  51], device='cuda:1') torch.Size([4])\n",
      "08/24/2023, 18:55:58# labels of 0: tensor([ 86,  25,   8, 113], device='cuda:1') torch.Size([4])\n",
      "08/24/2023, 18:55:58# predicted of 0: tensor([104,  25,  51,  51], device='cuda:1') torch.Size([4])\n",
      "08/24/2023, 18:56:07# labels of Validation: tensor([  8, 133,  15,  91], device='cuda:1') torch.Size([4])\n",
      "08/24/2023, 18:56:07# predicted of Validation: tensor([ 51,  51,  15, 132], device='cuda:1') torch.Size([4])\n",
      "08/24/2023, 18:56:16# labels of Validation: tensor([144,  20, 136, 162], device='cuda:1') torch.Size([4])\n",
      "08/24/2023, 18:56:16# predicted of Validation: tensor([104, 104, 136, 104], device='cuda:1') torch.Size([4])\n",
      "08/24/2023, 18:56:26# labels of Validation: tensor([ 64,  85, 160,  25], device='cuda:1') torch.Size([4])\n",
      "08/24/2023, 18:56:26# predicted of Validation: tensor([51, 85, 51, 25], device='cuda:1') torch.Size([4])\n",
      "08/24/2023, 18:56:35# labels of Validation: tensor([ 54,  12,   1, 132], device='cuda:1') torch.Size([4])\n",
      "08/24/2023, 18:56:35# predicted of Validation: tensor([104, 104, 104, 132], device='cuda:1') torch.Size([4])\n",
      "08/24/2023, 18:56:36# Validation Loss: 2.7890 | Validation Accuracy: 0.3786\n",
      "\n"
     ]
    },
    {
     "ename": "FileNotFoundError",
     "evalue": "[Errno 2] No such file or directory: '../checkpoint_GAT/best_model_20.pt'",
     "output_type": "error",
     "traceback": [
      "\u001b[0;31m---------------------------------------------------------------------------\u001b[0m",
      "\u001b[0;31mFileNotFoundError\u001b[0m                         Traceback (most recent call last)",
      "\u001b[0;32m<ipython-input-14-e60fad9e23f6>\u001b[0m in \u001b[0;36m<module>\u001b[0;34m\u001b[0m\n\u001b[1;32m     89\u001b[0m                 \u001b[0;34m'optimizer_state_dict'\u001b[0m\u001b[0;34m:\u001b[0m \u001b[0moptimizer\u001b[0m\u001b[0;34m.\u001b[0m\u001b[0mstate_dict\u001b[0m\u001b[0;34m(\u001b[0m\u001b[0;34m)\u001b[0m\u001b[0;34m,\u001b[0m\u001b[0;34m\u001b[0m\u001b[0;34m\u001b[0m\u001b[0m\n\u001b[1;32m     90\u001b[0m                 \u001b[0;34m'loss'\u001b[0m\u001b[0;34m:\u001b[0m \u001b[0mloss\u001b[0m\u001b[0;34m,\u001b[0m\u001b[0;34m\u001b[0m\u001b[0;34m\u001b[0m\u001b[0m\n\u001b[0;32m---> 91\u001b[0;31m                 }, f\"../checkpoint_GAT/best_model_{epoch}.pt\")\n\u001b[0m\u001b[1;32m     92\u001b[0m \u001b[0;34m\u001b[0m\u001b[0m\n\u001b[1;32m     93\u001b[0m     \u001b[0;32melse\u001b[0m\u001b[0;34m:\u001b[0m\u001b[0;34m\u001b[0m\u001b[0;34m\u001b[0m\u001b[0m\n",
      "\u001b[0;32m~/.local/lib/python3.6/site-packages/torch/serialization.py\u001b[0m in \u001b[0;36msave\u001b[0;34m(obj, f, pickle_module, pickle_protocol, _use_new_zipfile_serialization)\u001b[0m\n\u001b[1;32m    374\u001b[0m     \u001b[0m_check_dill_version\u001b[0m\u001b[0;34m(\u001b[0m\u001b[0mpickle_module\u001b[0m\u001b[0;34m)\u001b[0m\u001b[0;34m\u001b[0m\u001b[0;34m\u001b[0m\u001b[0m\n\u001b[1;32m    375\u001b[0m \u001b[0;34m\u001b[0m\u001b[0m\n\u001b[0;32m--> 376\u001b[0;31m     \u001b[0;32mwith\u001b[0m \u001b[0m_open_file_like\u001b[0m\u001b[0;34m(\u001b[0m\u001b[0mf\u001b[0m\u001b[0;34m,\u001b[0m \u001b[0;34m'wb'\u001b[0m\u001b[0;34m)\u001b[0m \u001b[0;32mas\u001b[0m \u001b[0mopened_file\u001b[0m\u001b[0;34m:\u001b[0m\u001b[0;34m\u001b[0m\u001b[0;34m\u001b[0m\u001b[0m\n\u001b[0m\u001b[1;32m    377\u001b[0m         \u001b[0;32mif\u001b[0m \u001b[0m_use_new_zipfile_serialization\u001b[0m\u001b[0;34m:\u001b[0m\u001b[0;34m\u001b[0m\u001b[0;34m\u001b[0m\u001b[0m\n\u001b[1;32m    378\u001b[0m             \u001b[0;32mwith\u001b[0m \u001b[0m_open_zipfile_writer\u001b[0m\u001b[0;34m(\u001b[0m\u001b[0mopened_file\u001b[0m\u001b[0;34m)\u001b[0m \u001b[0;32mas\u001b[0m \u001b[0mopened_zipfile\u001b[0m\u001b[0;34m:\u001b[0m\u001b[0;34m\u001b[0m\u001b[0;34m\u001b[0m\u001b[0m\n",
      "\u001b[0;32m~/.local/lib/python3.6/site-packages/torch/serialization.py\u001b[0m in \u001b[0;36m_open_file_like\u001b[0;34m(name_or_buffer, mode)\u001b[0m\n\u001b[1;32m    228\u001b[0m \u001b[0;32mdef\u001b[0m \u001b[0m_open_file_like\u001b[0m\u001b[0;34m(\u001b[0m\u001b[0mname_or_buffer\u001b[0m\u001b[0;34m,\u001b[0m \u001b[0mmode\u001b[0m\u001b[0;34m)\u001b[0m\u001b[0;34m:\u001b[0m\u001b[0;34m\u001b[0m\u001b[0;34m\u001b[0m\u001b[0m\n\u001b[1;32m    229\u001b[0m     \u001b[0;32mif\u001b[0m \u001b[0m_is_path\u001b[0m\u001b[0;34m(\u001b[0m\u001b[0mname_or_buffer\u001b[0m\u001b[0;34m)\u001b[0m\u001b[0;34m:\u001b[0m\u001b[0;34m\u001b[0m\u001b[0;34m\u001b[0m\u001b[0m\n\u001b[0;32m--> 230\u001b[0;31m         \u001b[0;32mreturn\u001b[0m \u001b[0m_open_file\u001b[0m\u001b[0;34m(\u001b[0m\u001b[0mname_or_buffer\u001b[0m\u001b[0;34m,\u001b[0m \u001b[0mmode\u001b[0m\u001b[0;34m)\u001b[0m\u001b[0;34m\u001b[0m\u001b[0;34m\u001b[0m\u001b[0m\n\u001b[0m\u001b[1;32m    231\u001b[0m     \u001b[0;32melse\u001b[0m\u001b[0;34m:\u001b[0m\u001b[0;34m\u001b[0m\u001b[0;34m\u001b[0m\u001b[0m\n\u001b[1;32m    232\u001b[0m         \u001b[0;32mif\u001b[0m \u001b[0;34m'w'\u001b[0m \u001b[0;32min\u001b[0m \u001b[0mmode\u001b[0m\u001b[0;34m:\u001b[0m\u001b[0;34m\u001b[0m\u001b[0;34m\u001b[0m\u001b[0m\n",
      "\u001b[0;32m~/.local/lib/python3.6/site-packages/torch/serialization.py\u001b[0m in \u001b[0;36m__init__\u001b[0;34m(self, name, mode)\u001b[0m\n\u001b[1;32m    209\u001b[0m \u001b[0;32mclass\u001b[0m \u001b[0m_open_file\u001b[0m\u001b[0;34m(\u001b[0m\u001b[0m_opener\u001b[0m\u001b[0;34m)\u001b[0m\u001b[0;34m:\u001b[0m\u001b[0;34m\u001b[0m\u001b[0;34m\u001b[0m\u001b[0m\n\u001b[1;32m    210\u001b[0m     \u001b[0;32mdef\u001b[0m \u001b[0m__init__\u001b[0m\u001b[0;34m(\u001b[0m\u001b[0mself\u001b[0m\u001b[0;34m,\u001b[0m \u001b[0mname\u001b[0m\u001b[0;34m,\u001b[0m \u001b[0mmode\u001b[0m\u001b[0;34m)\u001b[0m\u001b[0;34m:\u001b[0m\u001b[0;34m\u001b[0m\u001b[0;34m\u001b[0m\u001b[0m\n\u001b[0;32m--> 211\u001b[0;31m         \u001b[0msuper\u001b[0m\u001b[0;34m(\u001b[0m\u001b[0m_open_file\u001b[0m\u001b[0;34m,\u001b[0m \u001b[0mself\u001b[0m\u001b[0;34m)\u001b[0m\u001b[0;34m.\u001b[0m\u001b[0m__init__\u001b[0m\u001b[0;34m(\u001b[0m\u001b[0mopen\u001b[0m\u001b[0;34m(\u001b[0m\u001b[0mname\u001b[0m\u001b[0;34m,\u001b[0m \u001b[0mmode\u001b[0m\u001b[0;34m)\u001b[0m\u001b[0;34m)\u001b[0m\u001b[0;34m\u001b[0m\u001b[0;34m\u001b[0m\u001b[0m\n\u001b[0m\u001b[1;32m    212\u001b[0m \u001b[0;34m\u001b[0m\u001b[0m\n\u001b[1;32m    213\u001b[0m     \u001b[0;32mdef\u001b[0m \u001b[0m__exit__\u001b[0m\u001b[0;34m(\u001b[0m\u001b[0mself\u001b[0m\u001b[0;34m,\u001b[0m \u001b[0;34m*\u001b[0m\u001b[0margs\u001b[0m\u001b[0;34m)\u001b[0m\u001b[0;34m:\u001b[0m\u001b[0;34m\u001b[0m\u001b[0;34m\u001b[0m\u001b[0m\n",
      "\u001b[0;31mFileNotFoundError\u001b[0m: [Errno 2] No such file or directory: '../checkpoint_GAT/best_model_20.pt'"
     ]
    }
   ],
   "source": [
    "from torch.optim import AdamW, lr_scheduler\n",
    "\n",
    "seed = 8787\n",
    "same_seeds(seed)\n",
    "\n",
    "model = GAT(in_dim=50, hidden_dim=16, out_dim=168, num_heads=8)\n",
    "# in_dim means the dimension of the node_feat(50 dim, since the 50-dim embedding)\n",
    "# out_dim means the # of the categories -> 168 for out tasks\n",
    "model.load_state_dict(torch.load('model1_initial/initial_weight.pth'))\n",
    "\n",
    "model = model.to(device)\n",
    "\n",
    "# optimizer = torch.optim.AdamW(model.parameters(), lr=1e-5)\n",
    "optimizer = AdamW(model.parameters(), lr=1e-4)\n",
    "# scheduler = get_linear_schedule_with_warmup(optimizer, num_warmup_steps=18, num_training_steps=total_steps)\n",
    "\n",
    "# T_max control the period of the lr changing -> set 1/10 first\n",
    "scheduler = lr_scheduler.CosineAnnealingLR(optimizer, T_max=36, eta_min=0, last_epoch=- 1, verbose=False)\n",
    "\n",
    "\n",
    "criterion = nn.CrossEntropyLoss()\n",
    "total_steps = 360\n",
    "\n",
    "# save the best model\n",
    "best_val_loss = float('inf')\n",
    "patience = 20  # Number of epochs with no improvement after which training will be stopped.\n",
    "waiting = 0  # The number of epochs with no improvement so far.\n",
    "\n",
    "\n",
    "# Training Part\n",
    "for epoch in tqdm(range(total_steps)):\n",
    "    # Train\n",
    "    model.train()\n",
    "    total_loss = 0.0\n",
    "    total_accuracy = 0.0\n",
    "    num_batches = 0\n",
    "#     count = 0 \n",
    "    \n",
    "    for data in tqdm(dataloaders['train'], desc=\"Training\", position=0, leave=True):\n",
    "#         count += 1\n",
    "        num_batches += 1\n",
    "        loss, accuracy, _ = model_fn(data, model, criterion, device, num_batches, which_type='train')\n",
    "        \n",
    "        optimizer.zero_grad()\n",
    "        loss.backward()\n",
    "        optimizer.step()\n",
    "\n",
    "        total_loss += loss.item()\n",
    "        total_accuracy += accuracy.item()\n",
    "\n",
    "        \n",
    "#     scheduler.step()\n",
    "    add_log_msg(f\"total batches: {num_batches}\")\n",
    "\n",
    "    avg_loss = total_loss / num_batches\n",
    "    avg_accuracy = total_accuracy / num_batches\n",
    "\n",
    "    add_log_msg(f'Epoch {epoch} | Train Loss: {avg_loss:.4f} | Train Accuracy: {avg_accuracy:.4f}')\n",
    "\n",
    "    \n",
    "    # Validation Part\n",
    "    model.eval()\n",
    "    total_accuracy = 0.0\n",
    "    total_loss = 0.0\n",
    "    num_batches = 0\n",
    "\n",
    "\n",
    "    with torch.no_grad():\n",
    "        for data in tqdm(dataloaders['valid'], desc=\"Validation\", position=0, leave=True):\n",
    "            loss, accuracy, _ = model_fn(data, model, criterion, device, num_batches, which_type='validation')\n",
    "            total_accuracy += accuracy.item()\n",
    "            total_loss += loss.item()\n",
    "            num_batches += 1\n",
    "\n",
    "    avg_accuracy = total_accuracy / num_batches\n",
    "    current_loss = total_loss / num_batches\n",
    "    \n",
    "    add_log_msg(f'Validation Loss: {current_loss:.4f} | Validation Accuracy: {avg_accuracy:.4f}\\n')\n",
    "    \n",
    "    \n",
    "    if current_loss < best_val_loss:\n",
    "        best_val_loss = current_loss\n",
    "        waiting = 0\n",
    "        \n",
    "        if os.path.exists(best_model_path):\n",
    "            os.remove(best_model_path)\n",
    "\n",
    "            torch.save({\n",
    "                    'epoch': epoch,\n",
    "                    'model_state_dict': model.state_dict(),\n",
    "                    'optimizer_state_dict': optimizer.state_dict(),\n",
    "                    'loss': loss,\n",
    "                    }, best_model_path)\n",
    "\n",
    "        else:\n",
    "            waiting += 1\n",
    "            if waiting >= patience:\n",
    "                add_log_msg(\"Early stopping\")\n",
    "                break\n",
    "\n",
    "            \n",
    "# Testing Part\n",
    "model.eval()\n",
    "total = 0\n",
    "correct = 0\n",
    "count = 0\n",
    "\n",
    "with torch.no_grad():\n",
    "    for data in tqdm(dataloaders['test'], desc=\"Testing\", position=0, leave=True):\n",
    "\n",
    "        loss, accuracy, predicted = model_fn(data, model, criterion, device, count, which_type='test')\n",
    "        labels = data[1].to(device)  # Assuming labels are the second element in the tuple\n",
    "        \n",
    "        add_log_msg(f\"labels: {labels} {labels.shape}\")\n",
    "        add_log_msg(f\"predicted: {predicted} {predicted.shape}\")\n",
    "        count += 1\n",
    "        \n",
    "        total += labels.size(0) # label.size(0) is the batch size\n",
    "        correct += (predicted == labels).sum().item() \n",
    "        # (predicted == labels).sum() would return how many of them are equal; \n",
    "        # .item() would make the tensor to the regular value\n",
    "        \n",
    "#     print('Test Accuracy: %d %%' % (100 * correct / total))\n",
    "add_log_msg(f'Test Accuracy: {100 * correct / total} %%')"
   ]
  },
  {
   "cell_type": "code",
   "execution_count": null,
   "metadata": {},
   "outputs": [],
   "source": []
  }
 ],
 "metadata": {
  "kernelspec": {
   "display_name": "Python 3",
   "language": "python",
   "name": "python3"
  },
  "language_info": {
   "codemirror_mode": {
    "name": "ipython",
    "version": 3
   },
   "file_extension": ".py",
   "mimetype": "text/x-python",
   "name": "python",
   "nbconvert_exporter": "python",
   "pygments_lexer": "ipython3",
   "version": "3.6.9"
  }
 },
 "nbformat": 4,
 "nbformat_minor": 2
}
