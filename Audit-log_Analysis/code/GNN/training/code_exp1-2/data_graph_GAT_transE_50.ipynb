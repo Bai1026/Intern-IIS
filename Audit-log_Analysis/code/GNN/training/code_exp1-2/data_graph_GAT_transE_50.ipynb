{
 "cells": [
  {
   "cell_type": "markdown",
   "metadata": {},
   "source": [
    "# Test of GAT\n",
    "- use DGL\n",
    "- predict `graphs`\n",
    "- test: 0~99\n",
    "- validation: 100~199\n",
    "- train: 200~999\n",
    "- larger lr with scheduler\n",
    "- try the sklearn report"
   ]
  },
  {
   "cell_type": "code",
   "execution_count": 1,
   "metadata": {},
   "outputs": [],
   "source": [
    "import os\n",
    "import dgl\n",
    "import json\n",
    "import torch\n",
    "import torch as th\n",
    "# from tqdm import tqdm\n",
    "from tqdm.notebook import tqdm  # 使用 notebook 版本的 tqdm\n",
    "import torch.nn as nn\n",
    "from dgl.nn import GraphConv, GATConv\n",
    "import torch.nn.functional as F\n",
    "from torch.utils.data import Dataset, DataLoader\n",
    "from transformers import get_linear_schedule_with_warmup\n",
    "from torch.optim import AdamW\n",
    "from sklearn.metrics import classification_report\n"
   ]
  },
  {
   "cell_type": "markdown",
   "metadata": {},
   "source": [
    "- check the GPU and assign the GPU by the best memory usage"
   ]
  },
  {
   "cell_type": "code",
   "execution_count": 2,
   "metadata": {},
   "outputs": [
    {
     "name": "stdout",
     "output_type": "stream",
     "text": [
      "cuda:3\n"
     ]
    }
   ],
   "source": [
    "import subprocess\n",
    "import torch\n",
    "\n",
    "def get_free_gpu():\n",
    "    try:\n",
    "        # Run nvidia-smi command to get GPU details\n",
    "        _output_to_list = lambda x: x.decode('ascii').split('\\n')[:-1]\n",
    "        command = \"nvidia-smi --query-gpu=memory.free --format=csv,nounits,noheader\"\n",
    "        memory_free_info = _output_to_list(subprocess.check_output(command.split())) \n",
    "        memory_free_values = [int(x) for i, x in enumerate(memory_free_info)]\n",
    "        \n",
    "        # Get the GPU with the maximum free memory\n",
    "        best_gpu_id = memory_free_values.index(max(memory_free_values))\n",
    "        return best_gpu_id\n",
    "    except:\n",
    "        # If any exception occurs, default to GPU 0 (this handles cases where nvidia-smi isn't installed)\n",
    "        return 0\n",
    "\n",
    "if torch.cuda.is_available():\n",
    "    # Get the best GPU ID based on free memory and set it\n",
    "    best_gpu_id = get_free_gpu()\n",
    "    device = torch.device(f\"cuda:{best_gpu_id}\")\n",
    "else:\n",
    "    device = torch.device(\"cpu\")\n",
    "    print(\"there's no available GPU\")\n",
    "\n",
    "# device = torch.device(f\"cuda:1\")\n",
    "print(device)\n"
   ]
  },
  {
   "cell_type": "markdown",
   "metadata": {},
   "source": [
    "## Fix the seed"
   ]
  },
  {
   "cell_type": "code",
   "execution_count": 3,
   "metadata": {},
   "outputs": [],
   "source": [
    "import numpy as np\n",
    "import torch\n",
    "import random\n",
    "\n",
    "#fix seed\n",
    "def same_seeds(seed = 8787):\n",
    "    torch.manual_seed(seed)\n",
    "    # random.seed(seed) \n",
    "    if torch.cuda.is_available():\n",
    "        torch.cuda.manual_seed(seed)\n",
    "        torch.cuda.manual_seed_all(seed)  \n",
    "    np.random.seed(seed)  \n",
    "    torch.backends.cudnn.benchmark = False\n",
    "    torch.backends.cudnn.deterministic = True"
   ]
  },
  {
   "cell_type": "markdown",
   "metadata": {},
   "source": [
    "## Data Loader"
   ]
  },
  {
   "cell_type": "code",
   "execution_count": 4,
   "metadata": {},
   "outputs": [],
   "source": [
    "class GraphDataset(Dataset):\n",
    "    def __init__(self, data_list, device):\n",
    "        self.data_list = data_list\n",
    "        self.device = device\n",
    "\n",
    "    def __len__(self):\n",
    "        return len(self.data_list)\n",
    "    \n",
    "    def __getitem__(self, idx):\n",
    "        data = self.data_list[idx]\n",
    "\n",
    "        g = dgl.graph((th.tensor(data[\"edge_index\"][0]), th.tensor(data[\"edge_index\"][1])), num_nodes=data[\"num_nodes\"]).to(self.device)\n",
    "\n",
    "        g.ndata['feat'] = th.tensor(data[\"node_feat\"]).to(self.device)\n",
    "        g.edata['feat'] = th.tensor(data[\"edge_attr\"]).to(self.device)  # Add edge features to graph\n",
    "\n",
    "        return g, th.tensor(data[\"label\"]).to(self.device)\n",
    "\n",
    "\n",
    "def collate(samples):\n",
    "    # The input `samples` is a list of pairs\n",
    "    #  (graph, label).\n",
    "    graphs, labels = map(list, zip(*samples))\n",
    "    batched_graph = dgl.batch(graphs)\n",
    "    return batched_graph, torch.tensor(labels)\n"
   ]
  },
  {
   "cell_type": "code",
   "execution_count": 6,
   "metadata": {},
   "outputs": [
    {
     "data": {
      "application/vnd.jupyter.widget-view+json": {
       "model_id": "4e5a7d0a4bb34a3198eb2a91b289d502",
       "version_major": 2,
       "version_minor": 0
      },
      "text/plain": [
       "  0%|          | 0/3 [00:00<?, ?it/s]"
      ]
     },
     "metadata": {},
     "output_type": "display_data"
    },
    {
     "name": "stdout",
     "output_type": "stream",
     "text": [
      "../../data_processing/dgl/data_new/training_data/exp_2/transE_50/train.jsonl\n"
     ]
    },
    {
     "data": {
      "application/vnd.jupyter.widget-view+json": {
       "model_id": "b2f77bf198d94509b696ba33eea8da21",
       "version_major": 2,
       "version_minor": 0
      },
      "text/plain": [
       "0it [00:00, ?it/s]"
      ]
     },
     "metadata": {},
     "output_type": "display_data"
    },
    {
     "name": "stdout",
     "output_type": "stream",
     "text": [
      "../../data_processing/dgl/data_new/training_data/exp_2/transE_50/valid.jsonl\n"
     ]
    },
    {
     "data": {
      "application/vnd.jupyter.widget-view+json": {
       "model_id": "eb209825c94344f4bea1d1f23823f0fb",
       "version_major": 2,
       "version_minor": 0
      },
      "text/plain": [
       "0it [00:00, ?it/s]"
      ]
     },
     "metadata": {},
     "output_type": "display_data"
    },
    {
     "name": "stdout",
     "output_type": "stream",
     "text": [
      "../../data_processing/dgl/data_new/training_data/exp_2/transE_50/test.jsonl\n"
     ]
    },
    {
     "data": {
      "application/vnd.jupyter.widget-view+json": {
       "model_id": "d3840b7388744edfb34449b8791fe591",
       "version_major": 2,
       "version_minor": 0
      },
      "text/plain": [
       "0it [00:00, ?it/s]"
      ]
     },
     "metadata": {},
     "output_type": "display_data"
    },
    {
     "name": "stdout",
     "output_type": "stream",
     "text": [
      "Datasets loaded!\n"
     ]
    }
   ],
   "source": [
    "datasets = ['train', 'valid', 'test']\n",
    "# datasets = ['test']\n",
    "dataset_data = {}\n",
    "\n",
    "for dataset_name in tqdm(datasets):\n",
    "#     file_path = f\"../../data_processing/dgl/data/test_graph/repeated_{dataset_name}.jsonl\"\n",
    "    file_path = f\"../../data_processing/dgl/data_new/training_data/exp_2/transE_50/{dataset_name}.jsonl\"\n",
    "    \n",
    "    print(file_path)\n",
    "    with open(file_path) as f:\n",
    "        data_list = [json.loads(line) for line in tqdm(f, position=0, leave=True)]\n",
    "    \n",
    "    dataset_data[dataset_name] = GraphDataset(data_list, device)\n",
    "\n",
    "print(\"Datasets loaded!\")"
   ]
  },
  {
   "cell_type": "markdown",
   "metadata": {},
   "source": [
    "- choose batch size"
   ]
  },
  {
   "cell_type": "code",
   "execution_count": 7,
   "metadata": {},
   "outputs": [
    {
     "name": "stdout",
     "output_type": "stream",
     "text": [
      "Error data!!\n"
     ]
    }
   ],
   "source": [
    "def create_dataloaders(batch_size, shuffle=True):\n",
    "    dataloaders = {}\n",
    "    for dataset_name, dataset in dataset_data.items():\n",
    "        # do not shuffle the testing dataset\n",
    "        if dataset_name == \"test\":\n",
    "            dataloaders[dataset_name] = DataLoader(dataset, batch_size=batch_size, shuffle=False, collate_fn=collate)    \n",
    "        else:\n",
    "            dataloaders[dataset_name] = DataLoader(dataset, batch_size=batch_size, shuffle=shuffle, collate_fn=collate)\n",
    "    return dataloaders\n",
    "\n",
    "# dataloaders = create_dataloaders(4)\n",
    "dataloaders = create_dataloaders(16)\n",
    "\n",
    "\n",
    "if (len(dataloaders['test'].dataset) + len(dataloaders['valid'].dataset) + len(dataloaders['train'].dataset)) % 165 != 0: print(\"Error data!!\")\n",
    "else: print(\"OK!\")\n"
   ]
  },
  {
   "cell_type": "markdown",
   "metadata": {},
   "source": [
    "- Turn the print message to a log file"
   ]
  },
  {
   "cell_type": "code",
   "execution_count": 8,
   "metadata": {},
   "outputs": [
    {
     "name": "stdout",
     "output_type": "stream",
     "text": [
      "(Graph(num_nodes=10, num_edges=19,\n",
      "      ndata_schemes={'feat': Scheme(shape=(50,), dtype=torch.float32)}\n",
      "      edata_schemes={'feat': Scheme(shape=(50,), dtype=torch.float32)}), tensor(6, device='cuda:3'))\n",
      "16600\n",
      "16600\n",
      "132800\n",
      "166000\n"
     ]
    }
   ],
   "source": [
    "# print(dataloaders['test'][5])\n",
    "sample = dataset_data['train'][5000]\n",
    "print(sample)\n",
    "\n",
    "print(len(dataloaders['test'].dataset))\n",
    "print(len(dataloaders['valid'].dataset))\n",
    "print(len(dataloaders['train'].dataset))\n",
    "print(len(dataloaders['test'].dataset) + len(dataloaders['valid'].dataset) + len(dataloaders['train'].dataset))"
   ]
  },
  {
   "cell_type": "code",
   "execution_count": 9,
   "metadata": {},
   "outputs": [
    {
     "name": "stdout",
     "output_type": "stream",
     "text": [
      "../log_message/0901_17:17_GAT_transE_50.log\n"
     ]
    }
   ],
   "source": [
    "import datetime\n",
    "\n",
    "now = datetime.datetime.now()\n",
    "\n",
    "formatted_time = now.strftime(\"%m%d_%H:%M\")\n",
    "\n",
    "log_file_path = f\"../log_message/{formatted_time}_GAT_transE_50.log\"\n",
    "\n",
    "def add_log_msg(msg, log_file_path=log_file_path):\n",
    "    with open(log_file_path, 'a') as f:\n",
    "        f.write(f'{datetime.datetime.now().strftime(\"%m/%d/%Y, %H:%M:%S\")}# {msg}\\n')\n",
    "    print(f'{datetime.datetime.now().strftime(\"%m/%d/%Y, %H:%M:%S\")}# {msg}')\n",
    "\n",
    "print(log_file_path)"
   ]
  },
  {
   "cell_type": "markdown",
   "metadata": {},
   "source": [
    "### Model"
   ]
  },
  {
   "cell_type": "code",
   "execution_count": 10,
   "metadata": {},
   "outputs": [],
   "source": [
    "class GAT(nn.Module):\n",
    "    def __init__(self, in_dim, hidden_dim, out_dim, num_heads, dropout_prob=0.25):\n",
    "        super(GAT, self).__init__()\n",
    "        \n",
    "        # do not check the zero in_degree since we have all the complete graph\n",
    "        self.layer1 = GATConv(in_dim, hidden_dim, num_heads=num_heads, activation=F.relu, allow_zero_in_degree=True)\n",
    "        self.layer2 = GATConv(hidden_dim * num_heads, out_dim, num_heads=num_heads, allow_zero_in_degree=True)\n",
    "        \n",
    "        # Adding Batch Normalization after each GAT layer\n",
    "        self.batchnorm1 = nn.BatchNorm1d(hidden_dim * num_heads)\n",
    "        self.batchnorm2 = nn.BatchNorm1d(out_dim)\n",
    "        \n",
    "        # Adding Dropout for regularization\n",
    "        self.dropout = nn.Dropout(dropout_prob)\n",
    "\n",
    "    def forward(self, g, h):\n",
    "        # Apply GAT layers\n",
    "        h = self.layer1(g, h)\n",
    "        h = h.view(h.shape[0], -1)\n",
    "        h = F.relu(h)\n",
    "        h = self.dropout(h)\n",
    "        h = self.layer2(g, h).squeeze(1)\n",
    "        \n",
    "        # Store the output as a new node feature\n",
    "        g.ndata['h_out'] = h\n",
    "\n",
    "        # Use mean pooling to aggregate this new node feature\n",
    "        h_agg = dgl.mean_nodes(g, feat='h_out')\n",
    "        return h_agg\n",
    "\n",
    "    "
   ]
  },
  {
   "cell_type": "markdown",
   "metadata": {},
   "source": [
    "- Model Forward  "
   ]
  },
  {
   "cell_type": "code",
   "execution_count": 11,
   "metadata": {},
   "outputs": [],
   "source": [
    "def model_fn(data, model, criterion, device, count=1, which_type='train'):\n",
    "    \"\"\"Forward a batch through the model.\"\"\"\n",
    "    batched_g, labels = data\n",
    "    batched_g = batched_g.to(device)\n",
    "    \n",
    "    labels = labels.to(device)\n",
    "    logits = model(batched_g, batched_g.ndata['feat'].float()) # for GAT\n",
    "    logits = logits.mean(dim=1)\n",
    "    \n",
    "    loss = criterion(logits, labels)\n",
    "\n",
    "    # Get the class id with the highest probability\n",
    "    preds = logits.argmax(1)\n",
    "    \n",
    "    # Compute accuracy\n",
    "    accuracy = torch.mean((preds == labels).float())\n",
    "    \n",
    "    if which_type == 'validation' and count % 1000 == 0:\n",
    "        add_log_msg(f\"labels of Validation: {labels} {labels.shape}\")\n",
    "        add_log_msg(f\"predicted of Validation: {preds} {preds.shape}\")\n",
    "        \n",
    "    elif which_type == 'test'  and count % 1000 == 0:\n",
    "        add_log_msg(f\"labels of Test: {labels} {labels.shape}\")\n",
    "        add_log_msg(f\"predicted of Test: {preds} {preds.shape}\")\n",
    "        \n",
    "    if count % 5000 == 0: \n",
    "        add_log_msg(f\"labels of {count}: {labels} {labels.shape}\")\n",
    "        add_log_msg(f\"predicted of {count}: {preds} {preds.shape}\")\n",
    "        \n",
    "    return loss, accuracy, preds"
   ]
  },
  {
   "cell_type": "markdown",
   "metadata": {},
   "source": [
    "### Training"
   ]
  },
  {
   "cell_type": "markdown",
   "metadata": {},
   "source": [
    "- Fix the seed and save the model.state_dict that contains the initial weight"
   ]
  },
  {
   "cell_type": "code",
   "execution_count": 12,
   "metadata": {},
   "outputs": [],
   "source": [
    "seed = 8787\n",
    "same_seeds(seed)\n",
    "\n",
    "model = GAT(in_dim=50, hidden_dim=16, out_dim=168, num_heads=8)\n",
    "torch.save(model.state_dict(), 'model1_initial/initial_weight.pth')"
   ]
  },
  {
   "cell_type": "code",
   "execution_count": 13,
   "metadata": {},
   "outputs": [
    {
     "data": {
      "text/plain": [
       "Parameter containing:\n",
       "tensor([[-0.1806, -0.0598,  0.0091,  ...,  0.0719,  0.2496,  0.0873],\n",
       "        [ 0.1694, -0.0015, -0.0139,  ...,  0.0147,  0.0892,  0.0146],\n",
       "        [ 0.0969, -0.0595, -0.0115,  ..., -0.0474,  0.0529, -0.0565],\n",
       "        ...,\n",
       "        [-0.0433, -0.2248,  0.3002,  ...,  0.0850,  0.1621,  0.0422],\n",
       "        [ 0.2097, -0.2492,  0.0612,  ..., -0.0041,  0.0365, -0.1483],\n",
       "        [ 0.0971, -0.2221,  0.1652,  ..., -0.1312, -0.2610,  0.0077]],\n",
       "       requires_grad=True)"
      ]
     },
     "execution_count": 13,
     "metadata": {},
     "output_type": "execute_result"
    }
   ],
   "source": [
    "model.layer1.fc.weight"
   ]
  },
  {
   "cell_type": "markdown",
   "metadata": {},
   "source": [
    "- Check if model really load the model_dict"
   ]
  },
  {
   "cell_type": "code",
   "execution_count": 14,
   "metadata": {},
   "outputs": [
    {
     "data": {
      "text/plain": [
       "Parameter containing:\n",
       "tensor([[-0.1806, -0.0598,  0.0091,  ...,  0.0719,  0.2496,  0.0873],\n",
       "        [ 0.1694, -0.0015, -0.0139,  ...,  0.0147,  0.0892,  0.0146],\n",
       "        [ 0.0969, -0.0595, -0.0115,  ..., -0.0474,  0.0529, -0.0565],\n",
       "        ...,\n",
       "        [-0.0433, -0.2248,  0.3002,  ...,  0.0850,  0.1621,  0.0422],\n",
       "        [ 0.2097, -0.2492,  0.0612,  ..., -0.0041,  0.0365, -0.1483],\n",
       "        [ 0.0971, -0.2221,  0.1652,  ..., -0.1312, -0.2610,  0.0077]],\n",
       "       requires_grad=True)"
      ]
     },
     "execution_count": 14,
     "metadata": {},
     "output_type": "execute_result"
    }
   ],
   "source": [
    "model = GAT(in_dim=50, hidden_dim=16, out_dim=168, num_heads=8)\n",
    "model.load_state_dict(torch.load('model1_initial/initial_weight.pth'))\n",
    "model.layer1.fc.weight"
   ]
  },
  {
   "cell_type": "markdown",
   "metadata": {},
   "source": [
    "### test of valid and test part is ``graph``"
   ]
  },
  {
   "cell_type": "markdown",
   "metadata": {},
   "source": [
    "- Batch size = 4\n",
    "- use large lr and scheduler"
   ]
  },
  {
   "cell_type": "code",
   "execution_count": 15,
   "metadata": {
    "scrolled": true
   },
   "outputs": [
    {
     "data": {
      "application/vnd.jupyter.widget-view+json": {
       "model_id": "e1f1804a104546318bc6a2b02e962ffb",
       "version_major": 2,
       "version_minor": 0
      },
      "text/plain": [
       "  0%|          | 0/100 [00:00<?, ?it/s]"
      ]
     },
     "metadata": {},
     "output_type": "display_data"
    },
    {
     "data": {
      "application/vnd.jupyter.widget-view+json": {
       "model_id": "3abaf22f7acd400baff25edd85d9bead",
       "version_major": 2,
       "version_minor": 0
      },
      "text/plain": [
       "Training:   0%|          | 0/8300 [00:00<?, ?it/s]"
      ]
     },
     "metadata": {},
     "output_type": "display_data"
    },
    {
     "name": "stdout",
     "output_type": "stream",
     "text": [
      "09/01/2023, 17:20:30# labels of 5000: tensor([118,  77,  47, 108, 123,  11, 150,  19,  60,  82, 116,  59,  66,  10,\n",
      "         99,  84], device='cuda:3') torch.Size([16])\n",
      "09/01/2023, 17:20:30# predicted of 5000: tensor([ 7, 65, 65, 65, 25, 65, 65, 65, 65, 82, 65, 65, 65, 65, 99,  7],\n",
      "       device='cuda:3') torch.Size([16])\n",
      "09/01/2023, 17:22:33# total batches: 8300\n",
      "09/01/2023, 17:22:33# Epoch 0 | Train Loss: 4.6171 | Train Accuracy: 0.0860\n"
     ]
    },
    {
     "data": {
      "application/vnd.jupyter.widget-view+json": {
       "model_id": "1b91eec68cf745a6882ee7a95ee7f5fb",
       "version_major": 2,
       "version_minor": 0
      },
      "text/plain": [
       "Validation:   0%|          | 0/1038 [00:00<?, ?it/s]"
      ]
     },
     "metadata": {},
     "output_type": "display_data"
    },
    {
     "name": "stdout",
     "output_type": "stream",
     "text": [
      "09/01/2023, 17:22:33# labels of Validation: tensor([136, 114,  46,  34, 149, 153,  31,   4,  95,  31,  23,  33, 106, 126,\n",
      "        149, 134], device='cuda:3') torch.Size([16])\n",
      "09/01/2023, 17:22:33# predicted of Validation: tensor([136, 132, 132, 132, 149, 132, 132, 132,  95, 132,  96, 132, 106,  40,\n",
      "        149, 134], device='cuda:3') torch.Size([16])\n",
      "09/01/2023, 17:22:33# labels of 0: tensor([136, 114,  46,  34, 149, 153,  31,   4,  95,  31,  23,  33, 106, 126,\n",
      "        149, 134], device='cuda:3') torch.Size([16])\n",
      "09/01/2023, 17:22:33# predicted of 0: tensor([136, 132, 132, 132, 149, 132, 132, 132,  95, 132,  96, 132, 106,  40,\n",
      "        149, 134], device='cuda:3') torch.Size([16])\n",
      "09/01/2023, 17:22:59# labels of Validation: tensor([ 44, 118,  17, 147,  93, 164, 109, 138,  75,  91,  33, 152, 159,  34,\n",
      "         31, 166], device='cuda:3') torch.Size([16])\n",
      "09/01/2023, 17:22:59# predicted of Validation: tensor([132, 118,  17, 147, 132, 132, 132, 138, 132, 132, 132, 132, 159, 132,\n",
      "        132, 132], device='cuda:3') torch.Size([16])\n",
      "09/01/2023, 17:23:00# Validation Loss: 4.0030 | Validation Accuracy: 0.2681\n",
      "\n",
      "09/01/2023, 17:23:00# Find a better model!!\n"
     ]
    },
    {
     "data": {
      "application/vnd.jupyter.widget-view+json": {
       "model_id": "3a3541ef941247dcbff7181ed03153f2",
       "version_major": 2,
       "version_minor": 0
      },
      "text/plain": [
       "Training:   0%|          | 0/8300 [00:00<?, ?it/s]"
      ]
     },
     "metadata": {},
     "output_type": "display_data"
    },
    {
     "name": "stdout",
     "output_type": "stream",
     "text": [
      "09/01/2023, 17:26:09# labels of 5000: tensor([162, 139, 130,  16, 105,  93,  54, 107,  29,  94,   1,  85,  88, 124,\n",
      "        127,  24], device='cuda:3') torch.Size([16])\n",
      "09/01/2023, 17:26:09# predicted of 5000: tensor([  6, 161, 130,  16, 105, 161,   6, 161, 118,  67, 161,  85, 132,  65,\n",
      "        127, 160], device='cuda:3') torch.Size([16])\n",
      "09/01/2023, 17:29:00# total batches: 8300\n",
      "09/01/2023, 17:29:00# Epoch 1 | Train Loss: 3.6058 | Train Accuracy: 0.3049\n"
     ]
    },
    {
     "data": {
      "application/vnd.jupyter.widget-view+json": {
       "model_id": "c9c22a9cf5fb4c0da0f39d66525497fa",
       "version_major": 2,
       "version_minor": 0
      },
      "text/plain": [
       "Validation:   0%|          | 0/1038 [00:00<?, ?it/s]"
      ]
     },
     "metadata": {},
     "output_type": "display_data"
    },
    {
     "name": "stdout",
     "output_type": "stream",
     "text": [
      "09/01/2023, 17:29:00# labels of Validation: tensor([ 92, 114,  73, 137, 145, 141,   5, 135,  29, 123, 127,   6,  30, 116,\n",
      "        115,  57], device='cuda:3') torch.Size([16])\n",
      "09/01/2023, 17:29:00# predicted of Validation: tensor([155, 132,  73, 155, 145, 132,   5, 155,  29, 123, 127, 132, 155, 155,\n",
      "        115, 155], device='cuda:3') torch.Size([16])\n",
      "09/01/2023, 17:29:00# labels of 0: tensor([ 92, 114,  73, 137, 145, 141,   5, 135,  29, 123, 127,   6,  30, 116,\n",
      "        115,  57], device='cuda:3') torch.Size([16])\n",
      "09/01/2023, 17:29:00# predicted of 0: tensor([155, 132,  73, 155, 145, 132,   5, 155,  29, 123, 127, 132, 155, 155,\n",
      "        115, 155], device='cuda:3') torch.Size([16])\n",
      "09/01/2023, 17:30:03# labels of Validation: tensor([ 37,  91, 103, 125,  30,  53,  98, 138, 119,  52,  94, 101,  68,  95,\n",
      "        131,  23], device='cuda:3') torch.Size([16])\n",
      "09/01/2023, 17:30:03# predicted of Validation: tensor([132, 132, 132, 155, 155, 155, 155, 138, 155,  52,  94, 132, 132,  95,\n",
      "        132,  23], device='cuda:3') torch.Size([16])\n",
      "09/01/2023, 17:30:05# Validation Loss: 3.2642 | Validation Accuracy: 0.3596\n",
      "\n",
      "09/01/2023, 17:30:05# Find a better model!!\n"
     ]
    },
    {
     "data": {
      "application/vnd.jupyter.widget-view+json": {
       "model_id": "0ea710890a024501b0ea5bb91e8c403c",
       "version_major": 2,
       "version_minor": 0
      },
      "text/plain": [
       "Training:   0%|          | 0/8300 [00:00<?, ?it/s]"
      ]
     },
     "metadata": {},
     "output_type": "display_data"
    },
    {
     "name": "stdout",
     "output_type": "stream",
     "text": [
      "09/01/2023, 17:35:24# labels of 5000: tensor([126,  38,  15,  15, 140, 144, 121,  90, 142, 149,  67, 122,  57,   1,\n",
      "        100,  88], device='cuda:3') torch.Size([16])\n",
      "09/01/2023, 17:35:24# predicted of 5000: tensor([126, 101,  15,  15, 140, 101, 125,  51, 101, 149,  67, 122, 101,  28,\n",
      "        132,  51], device='cuda:3') torch.Size([16])\n",
      "09/01/2023, 17:37:22# total batches: 8300\n",
      "09/01/2023, 17:37:22# Epoch 2 | Train Loss: 3.1209 | Train Accuracy: 0.3592\n"
     ]
    },
    {
     "data": {
      "application/vnd.jupyter.widget-view+json": {
       "model_id": "d18dd2caad1d4ccba867efd0c0ae223c",
       "version_major": 2,
       "version_minor": 0
      },
      "text/plain": [
       "Validation:   0%|          | 0/1038 [00:00<?, ?it/s]"
      ]
     },
     "metadata": {},
     "output_type": "display_data"
    },
    {
     "name": "stdout",
     "output_type": "stream",
     "text": [
      "09/01/2023, 17:37:22# labels of Validation: tensor([135,  48,  28,  56,  33, 108,  17, 129, 117,  69,  94,  51,  59,   8,\n",
      "         64,  17], device='cuda:3') torch.Size([16])\n",
      "09/01/2023, 17:37:22# predicted of Validation: tensor([ 11,  11,  28,  56,  11,  28,  17,  28, 117,  69,  94,  28,  28,  28,\n",
      "         28,  17], device='cuda:3') torch.Size([16])\n",
      "09/01/2023, 17:37:22# labels of 0: tensor([135,  48,  28,  56,  33, 108,  17, 129, 117,  69,  94,  51,  59,   8,\n",
      "         64,  17], device='cuda:3') torch.Size([16])\n",
      "09/01/2023, 17:37:22# predicted of 0: tensor([ 11,  11,  28,  56,  11,  28,  17,  28, 117,  69,  94,  28,  28,  28,\n",
      "         28,  17], device='cuda:3') torch.Size([16])\n",
      "09/01/2023, 17:37:43# labels of Validation: tensor([108,  18,  79,  17,  46,   6, 126, 163,  84,   1, 164,  61,  82, 156,\n",
      "         55,  21], device='cuda:3') torch.Size([16])\n",
      "09/01/2023, 17:37:43# predicted of Validation: tensor([ 28,  11, 117,  17,  11,  28, 126,  11,  84,  11,  11,  61,  82, 156,\n",
      "         11,  28], device='cuda:3') torch.Size([16])\n",
      "09/01/2023, 17:37:43# Validation Loss: 2.9803 | Validation Accuracy: 0.3714\n",
      "\n",
      "09/01/2023, 17:37:43# Find a better model!!\n"
     ]
    },
    {
     "data": {
      "application/vnd.jupyter.widget-view+json": {
       "model_id": "7ee2dbcff325427ca12a555f72f3ad8c",
       "version_major": 2,
       "version_minor": 0
      },
      "text/plain": [
       "Training:   0%|          | 0/8300 [00:00<?, ?it/s]"
      ]
     },
     "metadata": {},
     "output_type": "display_data"
    },
    {
     "name": "stdout",
     "output_type": "stream",
     "text": [
      "09/01/2023, 17:40:24# labels of 5000: tensor([158,  80,  97, 153,  32, 111, 159,  27, 150,  34,  56,  29,  38,  98,\n",
      "         24, 138], device='cuda:3') torch.Size([16])\n",
      "09/01/2023, 17:40:24# predicted of 5000: tensor([ 28,  80,  59,  65,  32,  28, 159,  27, 162, 141,  56,  29,  28,  59,\n",
      "        166, 138], device='cuda:3') torch.Size([16])\n",
      "09/01/2023, 17:42:12# total batches: 8300\n",
      "09/01/2023, 17:42:12# Epoch 3 | Train Loss: 2.9389 | Train Accuracy: 0.3686\n"
     ]
    },
    {
     "data": {
      "application/vnd.jupyter.widget-view+json": {
       "model_id": "558633446c1444e886f945dd7a89c844",
       "version_major": 2,
       "version_minor": 0
      },
      "text/plain": [
       "Validation:   0%|          | 0/1038 [00:00<?, ?it/s]"
      ]
     },
     "metadata": {},
     "output_type": "display_data"
    },
    {
     "name": "stdout",
     "output_type": "stream",
     "text": [
      "09/01/2023, 17:42:12# labels of Validation: tensor([113, 160,   2, 159,  92,   7,  84,  40,  76, 161, 166, 149, 133,  54,\n",
      "          9, 140], device='cuda:3') torch.Size([16])\n",
      "09/01/2023, 17:42:12# predicted of Validation: tensor([161, 161,  37, 159,  37,   7,  84,  40,  37, 161, 161, 149, 161,  37,\n",
      "         37, 140], device='cuda:3') torch.Size([16])\n",
      "09/01/2023, 17:42:12# labels of 0: tensor([113, 160,   2, 159,  92,   7,  84,  40,  76, 161, 166, 149, 133,  54,\n",
      "          9, 140], device='cuda:3') torch.Size([16])\n",
      "09/01/2023, 17:42:12# predicted of 0: tensor([161, 161,  37, 159,  37,   7,  84,  40,  37, 161, 161, 149, 161,  37,\n",
      "         37, 140], device='cuda:3') torch.Size([16])\n",
      "09/01/2023, 17:42:32# labels of Validation: tensor([162,   2, 101,  81,  58,  88,  99,  87, 150,  23, 129,  57, 105,  57,\n",
      "          3, 146], device='cuda:3') torch.Size([16])\n",
      "09/01/2023, 17:42:32# predicted of Validation: tensor([ 37,  37, 161,  37,  37, 161,  99,  37,  37,  23, 161,  37, 105,  37,\n",
      "          3, 146], device='cuda:3') torch.Size([16])\n",
      "09/01/2023, 17:42:33# Validation Loss: 2.8839 | Validation Accuracy: 0.3684\n",
      "\n",
      "09/01/2023, 17:42:33# Find a better model!!\n"
     ]
    },
    {
     "data": {
      "application/vnd.jupyter.widget-view+json": {
       "model_id": "bb53e7190ebe4af0897afea2955d9f93",
       "version_major": 2,
       "version_minor": 0
      },
      "text/plain": [
       "Training:   0%|          | 0/8300 [00:00<?, ?it/s]"
      ]
     },
     "metadata": {},
     "output_type": "display_data"
    },
    {
     "name": "stdout",
     "output_type": "stream",
     "text": [
      "09/01/2023, 17:45:15# labels of 5000: tensor([135,  41, 103,  30,  48,  23, 132,  58,  87,  90,   4, 163,  11, 154,\n",
      "         70,  43], device='cuda:3') torch.Size([16])\n",
      "09/01/2023, 17:45:15# predicted of 5000: tensor([  6,  38,   6, 131,  74,  23,   6,  58,   9,   6, 131,   1, 133, 154,\n",
      "         70, 116], device='cuda:3') torch.Size([16])\n",
      "09/01/2023, 17:47:03# total batches: 8300\n",
      "09/01/2023, 17:47:03# Epoch 4 | Train Loss: 2.8695 | Train Accuracy: 0.3726\n"
     ]
    },
    {
     "data": {
      "application/vnd.jupyter.widget-view+json": {
       "model_id": "8be6b592ac584b1b8e26e0ffec7c628b",
       "version_major": 2,
       "version_minor": 0
      },
      "text/plain": [
       "Validation:   0%|          | 0/1038 [00:00<?, ?it/s]"
      ]
     },
     "metadata": {},
     "output_type": "display_data"
    },
    {
     "name": "stdout",
     "output_type": "stream",
     "text": [
      "09/01/2023, 17:47:03# labels of Validation: tensor([130,  74,   4,   7, 150, 108, 141, 102,  88, 165,  65, 108,  71, 146,\n",
      "        100, 158], device='cuda:3') torch.Size([16])\n",
      "09/01/2023, 17:47:03# predicted of Validation: tensor([130,  63,  63,   7,  63, 132,  66,  63,  66, 165,  63, 132,  63, 146,\n",
      "         66,  63], device='cuda:3') torch.Size([16])\n",
      "09/01/2023, 17:47:03# labels of 0: tensor([130,  74,   4,   7, 150, 108, 141, 102,  88, 165,  65, 108,  71, 146,\n",
      "        100, 158], device='cuda:3') torch.Size([16])\n",
      "09/01/2023, 17:47:03# predicted of 0: tensor([130,  63,  63,   7,  63, 132,  66,  63,  66, 165,  63, 132,  63, 146,\n",
      "         66,  63], device='cuda:3') torch.Size([16])\n",
      "09/01/2023, 17:47:25# labels of Validation: tensor([ 80, 132,  80,  83,  66,  29, 148,  72,  60, 139, 151, 128,   3,  73,\n",
      "         90, 108], device='cuda:3') torch.Size([16])\n",
      "09/01/2023, 17:47:25# predicted of Validation: tensor([ 80, 132,  80,  63, 132,  29,  66,  72,  63,  63,  63, 128,   3,  73,\n",
      "         66, 132], device='cuda:3') torch.Size([16])\n",
      "09/01/2023, 17:47:25# Validation Loss: 2.8438 | Validation Accuracy: 0.3761\n",
      "\n",
      "09/01/2023, 17:47:25# Find a better model!!\n"
     ]
    },
    {
     "data": {
      "application/vnd.jupyter.widget-view+json": {
       "model_id": "9f261d9521e0406697e4dbb70177a1f1",
       "version_major": 2,
       "version_minor": 0
      },
      "text/plain": [
       "Training:   0%|          | 0/8300 [00:00<?, ?it/s]"
      ]
     },
     "metadata": {},
     "output_type": "display_data"
    },
    {
     "name": "stdout",
     "output_type": "stream",
     "text": [
      "09/01/2023, 17:50:10# labels of 5000: tensor([ 53,  45,  51,  99, 135,  88, 148, 129, 112,  85,  25, 116, 161, 151,\n",
      "        159,  37], device='cuda:3') torch.Size([16])\n",
      "09/01/2023, 17:50:10# predicted of 5000: tensor([124,  45,  28,  99,  47,  28, 155,  28,  90,  85,  25,  58,   6,  71,\n",
      "        159, 155], device='cuda:3') torch.Size([16])\n",
      "09/01/2023, 17:51:57# total batches: 8300\n",
      "09/01/2023, 17:51:57# Epoch 5 | Train Loss: 2.8378 | Train Accuracy: 0.3744\n"
     ]
    },
    {
     "data": {
      "application/vnd.jupyter.widget-view+json": {
       "model_id": "074a00ac11464582b6bc38b1518b733f",
       "version_major": 2,
       "version_minor": 0
      },
      "text/plain": [
       "Validation:   0%|          | 0/1038 [00:00<?, ?it/s]"
      ]
     },
     "metadata": {},
     "output_type": "display_data"
    },
    {
     "name": "stdout",
     "output_type": "stream",
     "text": [
      "09/01/2023, 17:51:57# labels of Validation: tensor([ 39, 159,  50,  74, 153,   0,  20, 130,  68,   4,  29,  58, 131, 113,\n",
      "         11,  17], device='cuda:3') torch.Size([16])\n",
      "09/01/2023, 17:51:57# predicted of Validation: tensor([ 39, 159,  50, 109, 109,   0, 109, 130, 132, 109,  29, 109, 132, 132,\n",
      "        109,  17], device='cuda:3') torch.Size([16])\n",
      "09/01/2023, 17:51:57# labels of 0: tensor([ 39, 159,  50,  74, 153,   0,  20, 130,  68,   4,  29,  58, 131, 113,\n",
      "         11,  17], device='cuda:3') torch.Size([16])\n",
      "09/01/2023, 17:51:57# predicted of 0: tensor([ 39, 159,  50, 109, 109,   0, 109, 130, 132, 109,  29, 109, 132, 132,\n",
      "        109,  17], device='cuda:3') torch.Size([16])\n",
      "09/01/2023, 17:52:18# labels of Validation: tensor([ 53,   0, 147,  88,  94, 148, 121,  83,  95, 125,  14, 159, 122, 120,\n",
      "         79,  85], device='cuda:3') torch.Size([16])\n",
      "09/01/2023, 17:52:18# predicted of Validation: tensor([109,   0, 147, 132,  94, 132, 109, 109,  95, 109, 109, 159, 122, 120,\n",
      "         79,  85], device='cuda:3') torch.Size([16])\n",
      "09/01/2023, 17:52:19# Validation Loss: 2.8238 | Validation Accuracy: 0.3765\n",
      "\n",
      "09/01/2023, 17:52:19# Find a better model!!\n"
     ]
    },
    {
     "data": {
      "application/vnd.jupyter.widget-view+json": {
       "model_id": "4778c78f7a6e44bdbaf3b86f6dd4e8c4",
       "version_major": 2,
       "version_minor": 0
      },
      "text/plain": [
       "Training:   0%|          | 0/8300 [00:00<?, ?it/s]"
      ]
     },
     "metadata": {},
     "output_type": "display_data"
    },
    {
     "name": "stdout",
     "output_type": "stream",
     "text": [
      "09/01/2023, 17:55:03# labels of 5000: tensor([153,  39, 131,   1,  53, 107, 113,  60,  32, 105, 143,  96, 124,  69,\n",
      "          4, 149], device='cuda:3') torch.Size([16])\n",
      "09/01/2023, 17:55:03# predicted of 5000: tensor([ 18,  39,   6,  18, 113,  65,  65,  65,  32, 105, 113,  96,  18,  69,\n",
      "        113, 149], device='cuda:3') torch.Size([16])\n",
      "09/01/2023, 17:56:50# total batches: 8300\n",
      "09/01/2023, 17:56:50# Epoch 6 | Train Loss: 2.8184 | Train Accuracy: 0.3763\n"
     ]
    },
    {
     "data": {
      "application/vnd.jupyter.widget-view+json": {
       "model_id": "090399bce19c43ca94aef7d8047692e8",
       "version_major": 2,
       "version_minor": 0
      },
      "text/plain": [
       "Validation:   0%|          | 0/1038 [00:00<?, ?it/s]"
      ]
     },
     "metadata": {},
     "output_type": "display_data"
    },
    {
     "name": "stdout",
     "output_type": "stream",
     "text": [
      "09/01/2023, 17:56:50# labels of Validation: tensor([142,  16,  19,  59, 125, 117,  25, 153, 159, 125, 118, 107,  27, 116,\n",
      "         82,   7], device='cuda:3') torch.Size([16])\n",
      "09/01/2023, 17:56:50# predicted of Validation: tensor([  1,  16,   1,   6,   1, 117,  25,   1, 159,   1, 118,   6,  27,   1,\n",
      "         82,   7], device='cuda:3') torch.Size([16])\n",
      "09/01/2023, 17:56:51# labels of 0: tensor([142,  16,  19,  59, 125, 117,  25, 153, 159, 125, 118, 107,  27, 116,\n",
      "         82,   7], device='cuda:3') torch.Size([16])\n",
      "09/01/2023, 17:56:51# predicted of 0: tensor([  1,  16,   1,   6,   1, 117,  25,   1, 159,   1, 118,   6,  27,   1,\n",
      "         82,   7], device='cuda:3') torch.Size([16])\n",
      "09/01/2023, 17:57:11# labels of Validation: tensor([ 44, 100,   3,  25,  64, 150, 124, 119,  19, 141,  28,  45, 133, 103,\n",
      "        106,  81], device='cuda:3') torch.Size([16])\n",
      "09/01/2023, 17:57:11# predicted of Validation: tensor([  1,   6,   3,  25,   6,   1,   1,   1,   1,   6,   6,  45,   6,   6,\n",
      "        106,   1], device='cuda:3') torch.Size([16])\n",
      "09/01/2023, 17:57:12# Validation Loss: 2.8078 | Validation Accuracy: 0.3824\n",
      "\n",
      "09/01/2023, 17:57:12# Find a better model!!\n"
     ]
    },
    {
     "data": {
      "application/vnd.jupyter.widget-view+json": {
       "model_id": "23f91ed27b1e48d49364c9bc5b2fe13b",
       "version_major": 2,
       "version_minor": 0
      },
      "text/plain": [
       "Training:   0%|          | 0/8300 [00:00<?, ?it/s]"
      ]
     },
     "metadata": {},
     "output_type": "display_data"
    },
    {
     "name": "stdout",
     "output_type": "stream",
     "text": [
      "09/01/2023, 17:59:54# labels of 5000: tensor([ 83,  84,  79,   2, 104,  26,  37, 159,  65,  69, 115, 117,  65,   5,\n",
      "         57,  91], device='cuda:3') torch.Size([16])\n",
      "09/01/2023, 17:59:54# predicted of 5000: tensor([ 91,  84,  72,   9,  91,  31,  51, 159, 132,  69, 115, 117,  65,   5,\n",
      "         75, 132], device='cuda:3') torch.Size([16])\n",
      "09/01/2023, 18:01:40# total batches: 8300\n",
      "09/01/2023, 18:01:40# Epoch 7 | Train Loss: 2.8043 | Train Accuracy: 0.3770\n"
     ]
    },
    {
     "data": {
      "application/vnd.jupyter.widget-view+json": {
       "model_id": "9e90506fd6fb430280fcd1a64a20f290",
       "version_major": 2,
       "version_minor": 0
      },
      "text/plain": [
       "Validation:   0%|          | 0/1038 [00:00<?, ?it/s]"
      ]
     },
     "metadata": {},
     "output_type": "display_data"
    },
    {
     "name": "stdout",
     "output_type": "stream",
     "text": [
      "09/01/2023, 18:01:40# labels of Validation: tensor([ 87,  60, 121,  27,  89,  26, 162,  13,  87, 164, 156,  83,  42, 135,\n",
      "        116,  89], device='cuda:3') torch.Size([16])\n",
      "09/01/2023, 18:01:40# predicted of Validation: tensor([ 64,  64,  64,  27,  89,  64,  64,  13,  64,  64, 156,  64,  64,  64,\n",
      "         64,  89], device='cuda:3') torch.Size([16])\n",
      "09/01/2023, 18:01:40# labels of 0: tensor([ 87,  60, 121,  27,  89,  26, 162,  13,  87, 164, 156,  83,  42, 135,\n",
      "        116,  89], device='cuda:3') torch.Size([16])\n",
      "09/01/2023, 18:01:40# predicted of 0: tensor([ 64,  64,  64,  27,  89,  64,  64,  13,  64,  64, 156,  64,  64,  64,\n",
      "         64,  89], device='cuda:3') torch.Size([16])\n",
      "09/01/2023, 18:02:00# labels of Validation: tensor([ 30,  52,  34,  75,  79,  19,  31,  89, 155,   0,  30,  25,  87,  70,\n",
      "         90,  25], device='cuda:3') torch.Size([16])\n",
      "09/01/2023, 18:02:00# predicted of Validation: tensor([ 64,  52,  64,  64,  79,  64,  64,  89, 161,   0,  64,  25,  64,  70,\n",
      "        161,  25], device='cuda:3') torch.Size([16])\n",
      "09/01/2023, 18:02:01# Validation Loss: 2.7963 | Validation Accuracy: 0.3705\n",
      "\n",
      "09/01/2023, 18:02:01# Find a better model!!\n"
     ]
    },
    {
     "data": {
      "application/vnd.jupyter.widget-view+json": {
       "model_id": "f8d14ec4d8264c97a0ef18174da804bd",
       "version_major": 2,
       "version_minor": 0
      },
      "text/plain": [
       "Training:   0%|          | 0/8300 [00:00<?, ?it/s]"
      ]
     },
     "metadata": {},
     "output_type": "display_data"
    },
    {
     "name": "stdout",
     "output_type": "stream",
     "text": [
      "09/01/2023, 18:04:44# labels of 5000: tensor([109,  64, 113, 146,  81, 133, 144,  23,  14, 113, 156, 111, 149, 132,\n",
      "         54,  44], device='cuda:3') torch.Size([16])\n",
      "09/01/2023, 18:04:44# predicted of 5000: tensor([ 24, 132, 132, 146,  24,   6,  24,  23,   8,   6, 156, 103, 149, 132,\n",
      "         48,  48], device='cuda:3') torch.Size([16])\n",
      "09/01/2023, 18:06:32# total batches: 8300\n",
      "09/01/2023, 18:06:32# Epoch 8 | Train Loss: 2.7916 | Train Accuracy: 0.3782\n"
     ]
    },
    {
     "data": {
      "application/vnd.jupyter.widget-view+json": {
       "model_id": "5e51cc4cf78e4da594e1afedbc27842b",
       "version_major": 2,
       "version_minor": 0
      },
      "text/plain": [
       "Validation:   0%|          | 0/1038 [00:00<?, ?it/s]"
      ]
     },
     "metadata": {},
     "output_type": "display_data"
    },
    {
     "name": "stdout",
     "output_type": "stream",
     "text": [
      "09/01/2023, 18:06:32# labels of Validation: tensor([ 58, 104,  16, 161,  33, 133, 104, 137, 111,  82, 156, 126,  72,  29,\n",
      "        116,  12], device='cuda:3') torch.Size([16])\n",
      "09/01/2023, 18:06:32# predicted of Validation: tensor([ 54,  54,  16, 132,  54,  91,  54,  54,  54,  82, 156, 126,  72,  29,\n",
      "         54,  54], device='cuda:3') torch.Size([16])\n",
      "09/01/2023, 18:06:32# labels of 0: tensor([ 58, 104,  16, 161,  33, 133, 104, 137, 111,  82, 156, 126,  72,  29,\n",
      "        116,  12], device='cuda:3') torch.Size([16])\n",
      "09/01/2023, 18:06:32# predicted of 0: tensor([ 54,  54,  16, 132,  54,  91,  54,  54,  54,  82, 156, 126,  72,  29,\n",
      "         54,  54], device='cuda:3') torch.Size([16])\n",
      "09/01/2023, 18:06:53# labels of Validation: tensor([ 98,  98,  98,  91,  34, 125,  10,  83,  80,  91,  98,   9,  33, 149,\n",
      "        131, 122], device='cuda:3') torch.Size([16])\n",
      "09/01/2023, 18:06:53# predicted of Validation: tensor([ 54,  54,  54, 132,  54,  54,  54,  54,  80, 132,  54,  54,  54, 149,\n",
      "        132, 122], device='cuda:3') torch.Size([16])\n",
      "09/01/2023, 18:06:53# Validation Loss: 2.7870 | Validation Accuracy: 0.3770\n",
      "\n",
      "09/01/2023, 18:06:53# Find a better model!!\n"
     ]
    },
    {
     "data": {
      "application/vnd.jupyter.widget-view+json": {
       "model_id": "14b0c0e8c5074400bdd326c72ddcc939",
       "version_major": 2,
       "version_minor": 0
      },
      "text/plain": [
       "Training:   0%|          | 0/8300 [00:00<?, ?it/s]"
      ]
     },
     "metadata": {},
     "output_type": "display_data"
    },
    {
     "name": "stdout",
     "output_type": "stream",
     "text": [
      "09/01/2023, 18:09:39# labels of 5000: tensor([ 80, 117,   1,  88,  55,  64,  52,  71, 132,   0,  85,   0,  20,  62,\n",
      "         42, 113], device='cuda:3') torch.Size([16])\n",
      "09/01/2023, 18:09:39# predicted of 5000: tensor([ 80, 117, 157,  51,  37,  51,  52, 157, 161,   0,  85,   0,  88,  62,\n",
      "         51,  51], device='cuda:3') torch.Size([16])\n",
      "09/01/2023, 18:11:26# total batches: 8300\n",
      "09/01/2023, 18:11:26# Epoch 9 | Train Loss: 2.7819 | Train Accuracy: 0.3797\n"
     ]
    },
    {
     "data": {
      "application/vnd.jupyter.widget-view+json": {
       "model_id": "ef83781a624d43d3a9a940b3a09e8df9",
       "version_major": 2,
       "version_minor": 0
      },
      "text/plain": [
       "Validation:   0%|          | 0/1038 [00:00<?, ?it/s]"
      ]
     },
     "metadata": {},
     "output_type": "display_data"
    },
    {
     "name": "stdout",
     "output_type": "stream",
     "text": [
      "09/01/2023, 18:11:26# labels of Validation: tensor([ 65, 114,  53,  53, 104,  91, 115,  98,  39,  99, 124,  52, 119,  35,\n",
      "         85, 108], device='cuda:3') torch.Size([16])\n",
      "09/01/2023, 18:11:26# predicted of Validation: tensor([ 20, 132,  20,  20,  20, 132, 115,  20,  39,  99,  20,  52,  20,  35,\n",
      "         85, 132], device='cuda:3') torch.Size([16])\n",
      "09/01/2023, 18:11:26# labels of 0: tensor([ 65, 114,  53,  53, 104,  91, 115,  98,  39,  99, 124,  52, 119,  35,\n",
      "         85, 108], device='cuda:3') torch.Size([16])\n",
      "09/01/2023, 18:11:26# predicted of 0: tensor([ 20, 132,  20,  20,  20, 132, 115,  20,  39,  99,  20,  52,  20,  35,\n",
      "         85, 132], device='cuda:3') torch.Size([16])\n",
      "09/01/2023, 18:11:47# labels of Validation: tensor([ 21,  51,  80, 120, 160, 145,  47, 136,  54,   9, 137,  74, 147,  97,\n",
      "        163,  33], device='cuda:3') torch.Size([16])\n",
      "09/01/2023, 18:11:47# predicted of Validation: tensor([132, 132,  80, 120, 132, 145,  20, 136,  20,  20,  20,  20, 147,  20,\n",
      "         20,  20], device='cuda:3') torch.Size([16])\n",
      "09/01/2023, 18:11:48# Validation Loss: 2.7792 | Validation Accuracy: 0.3770\n",
      "\n",
      "09/01/2023, 18:11:48# Find a better model!!\n"
     ]
    },
    {
     "data": {
      "application/vnd.jupyter.widget-view+json": {
       "model_id": "8d90d362ee6644979e60c5afd164066d",
       "version_major": 2,
       "version_minor": 0
      },
      "text/plain": [
       "Training:   0%|          | 0/8300 [00:00<?, ?it/s]"
      ]
     },
     "metadata": {},
     "output_type": "display_data"
    },
    {
     "name": "stdout",
     "output_type": "stream",
     "text": [
      "09/01/2023, 18:14:31# labels of 5000: tensor([ 17,   7,  17, 100, 161, 115,   8,  25,   0, 134,  64, 129,  98,  25,\n",
      "        154, 131], device='cuda:3') torch.Size([16])\n",
      "09/01/2023, 18:14:31# predicted of 5000: tensor([ 17,   7,  17,  66,  65, 115,  66,  25,   0, 134, 129, 131,  20,  25,\n",
      "        154,  65], device='cuda:3') torch.Size([16])\n",
      "09/01/2023, 18:16:18# total batches: 8300\n",
      "09/01/2023, 18:16:18# Epoch 10 | Train Loss: 2.7736 | Train Accuracy: 0.3804\n"
     ]
    },
    {
     "data": {
      "application/vnd.jupyter.widget-view+json": {
       "model_id": "b209eefd17734d33872ff3bd2d4b6e62",
       "version_major": 2,
       "version_minor": 0
      },
      "text/plain": [
       "Validation:   0%|          | 0/1038 [00:00<?, ?it/s]"
      ]
     },
     "metadata": {},
     "output_type": "display_data"
    },
    {
     "name": "stdout",
     "output_type": "stream",
     "text": [
      "09/01/2023, 18:16:18# labels of Validation: tensor([144,  83,  71, 157, 116, 154,  63,  83,  78, 130,   0,  93,  94, 126,\n",
      "         20,  62], device='cuda:3') torch.Size([16])\n",
      "09/01/2023, 18:16:18# predicted of Validation: tensor([124, 124, 124, 124, 124, 154, 124, 124,  67, 130,   0, 155,  94, 126,\n",
      "        124,  62], device='cuda:3') torch.Size([16])\n",
      "09/01/2023, 18:16:18# labels of 0: tensor([144,  83,  71, 157, 116, 154,  63,  83,  78, 130,   0,  93,  94, 126,\n",
      "         20,  62], device='cuda:3') torch.Size([16])\n",
      "09/01/2023, 18:16:18# predicted of 0: tensor([124, 124, 124, 124, 124, 154, 124, 124,  67, 130,   0, 155,  94, 126,\n",
      "        124,  62], device='cuda:3') torch.Size([16])\n",
      "09/01/2023, 18:16:39# labels of Validation: tensor([134, 121, 145,  55, 131,  82, 166, 162,  48,  76,  54, 150,  81,  57,\n",
      "          4,  36], device='cuda:3') torch.Size([16])\n",
      "09/01/2023, 18:16:39# predicted of Validation: tensor([134, 124, 145, 124, 132,  82, 132, 124, 124, 124, 124, 124, 124, 124,\n",
      "        124, 124], device='cuda:3') torch.Size([16])\n",
      "09/01/2023, 18:16:40# Validation Loss: 2.7703 | Validation Accuracy: 0.3786\n",
      "\n",
      "09/01/2023, 18:16:40# Find a better model!!\n"
     ]
    },
    {
     "data": {
      "application/vnd.jupyter.widget-view+json": {
       "model_id": "6406a471564249e2985de6ff986f3a32",
       "version_major": 2,
       "version_minor": 0
      },
      "text/plain": [
       "Training:   0%|          | 0/8300 [00:00<?, ?it/s]"
      ]
     },
     "metadata": {},
     "output_type": "display_data"
    },
    {
     "name": "stdout",
     "output_type": "stream",
     "text": [
      "09/01/2023, 18:19:25# labels of 5000: tensor([155, 160,  30, 148, 143,  72, 130, 118, 105,  65, 152,  15,  80, 166,\n",
      "         64, 103], device='cuda:3') torch.Size([16])\n",
      "09/01/2023, 18:19:25# predicted of 5000: tensor([132, 101,  36, 132,  53,  72, 130, 118, 105,  65,  36,  15,  80, 161,\n",
      "         90, 101], device='cuda:3') torch.Size([16])\n",
      "09/01/2023, 18:21:12# total batches: 8300\n",
      "09/01/2023, 18:21:12# Epoch 11 | Train Loss: 2.7666 | Train Accuracy: 0.3808\n"
     ]
    },
    {
     "data": {
      "application/vnd.jupyter.widget-view+json": {
       "model_id": "6afa220774754fc39a0cc32ba88a0fd1",
       "version_major": 2,
       "version_minor": 0
      },
      "text/plain": [
       "Validation:   0%|          | 0/1038 [00:00<?, ?it/s]"
      ]
     },
     "metadata": {},
     "output_type": "display_data"
    },
    {
     "name": "stdout",
     "output_type": "stream",
     "text": [
      "09/01/2023, 18:21:12# labels of Validation: tensor([104, 138,  60, 141,  73, 100, 132,  50, 118, 159, 147,  42,  93,  14,\n",
      "         92,  77], device='cuda:3') torch.Size([16])\n",
      "09/01/2023, 18:21:12# predicted of Validation: tensor([144, 138, 144,   6,  73,   6, 161,  50, 118, 159, 147, 144,   6, 144,\n",
      "        144,   6], device='cuda:3') torch.Size([16])\n",
      "09/01/2023, 18:21:12# labels of 0: tensor([104, 138,  60, 141,  73, 100, 132,  50, 118, 159, 147,  42,  93,  14,\n",
      "         92,  77], device='cuda:3') torch.Size([16])\n",
      "09/01/2023, 18:21:12# predicted of 0: tensor([144, 138, 144,   6,  73,   6, 161,  50, 118, 159, 147, 144,   6, 144,\n",
      "        144,   6], device='cuda:3') torch.Size([16])\n",
      "09/01/2023, 18:21:32# labels of Validation: tensor([  4,  25, 127, 163,  38,  13, 135, 132,   2, 139, 164,  89,  98,  59,\n",
      "          0,  86], device='cuda:3') torch.Size([16])\n",
      "09/01/2023, 18:21:32# predicted of Validation: tensor([144,  25, 127, 144, 144,  13, 144, 161, 144, 144, 144,  89, 144,   6,\n",
      "          0, 144], device='cuda:3') torch.Size([16])\n",
      "09/01/2023, 18:21:32# Validation Loss: 2.7634 | Validation Accuracy: 0.3777\n",
      "\n",
      "09/01/2023, 18:21:32# Find a better model!!\n"
     ]
    },
    {
     "data": {
      "application/vnd.jupyter.widget-view+json": {
       "model_id": "3bb7309d3c7e471f8623c081905e615c",
       "version_major": 2,
       "version_minor": 0
      },
      "text/plain": [
       "Training:   0%|          | 0/8300 [00:00<?, ?it/s]"
      ]
     },
     "metadata": {},
     "output_type": "display_data"
    },
    {
     "name": "stdout",
     "output_type": "stream",
     "text": [
      "09/01/2023, 18:24:15# labels of 5000: tensor([104, 104, 135,   7, 125, 156,  54,  88,  19, 101,  30,  70,  13,  96,\n",
      "        106,  17], device='cuda:3') torch.Size([16])\n",
      "09/01/2023, 18:24:15# predicted of 5000: tensor([111, 111,  44,   7,  44, 156, 111, 114, 114, 132, 114,  70,  13,  96,\n",
      "        106,  17], device='cuda:3') torch.Size([16])\n",
      "09/01/2023, 18:26:02# total batches: 8300\n",
      "09/01/2023, 18:26:02# Epoch 12 | Train Loss: 2.7595 | Train Accuracy: 0.3813\n"
     ]
    },
    {
     "data": {
      "application/vnd.jupyter.widget-view+json": {
       "model_id": "1ba5c8e403e945e8b9ff516f6a5b2fdb",
       "version_major": 2,
       "version_minor": 0
      },
      "text/plain": [
       "Validation:   0%|          | 0/1038 [00:00<?, ?it/s]"
      ]
     },
     "metadata": {},
     "output_type": "display_data"
    },
    {
     "name": "stdout",
     "output_type": "stream",
     "text": [
      "09/01/2023, 18:26:02# labels of Validation: tensor([135,  99,  94,  41,   0,  42,  72,   7,  39, 101, 156,  46, 106, 131,\n",
      "        138, 153], device='cuda:3') torch.Size([16])\n",
      "09/01/2023, 18:26:02# predicted of Validation: tensor([ 97,  99,  94,  97,   0,  97,  72,   7,  39, 161, 156,  97, 106, 161,\n",
      "        138,  97], device='cuda:3') torch.Size([16])\n",
      "09/01/2023, 18:26:02# labels of 0: tensor([135,  99,  94,  41,   0,  42,  72,   7,  39, 101, 156,  46, 106, 131,\n",
      "        138, 153], device='cuda:3') torch.Size([16])\n",
      "09/01/2023, 18:26:02# predicted of 0: tensor([ 97,  99,  94,  97,   0,  97,  72,   7,  39, 161, 156,  97, 106, 161,\n",
      "        138,  97], device='cuda:3') torch.Size([16])\n",
      "09/01/2023, 18:26:21# labels of Validation: tensor([ 74,  38,  63, 144,  68,  28,  30,   5,  65,  39,  62,  14, 110,  36,\n",
      "         62, 148], device='cuda:3') torch.Size([16])\n",
      "09/01/2023, 18:26:21# predicted of Validation: tensor([ 97,  97,  97,  97,  91, 161,  97,   5,  97,  39,  62,  97,  91,  97,\n",
      "         62,  91], device='cuda:3') torch.Size([16])\n",
      "09/01/2023, 18:26:22# Validation Loss: 2.7586 | Validation Accuracy: 0.3781\n",
      "\n",
      "09/01/2023, 18:26:22# Find a better model!!\n"
     ]
    },
    {
     "data": {
      "application/vnd.jupyter.widget-view+json": {
       "model_id": "d0dffcdf4c14494282e94c1a346a8cb0",
       "version_major": 2,
       "version_minor": 0
      },
      "text/plain": [
       "Training:   0%|          | 0/8300 [00:00<?, ?it/s]"
      ]
     },
     "metadata": {},
     "output_type": "display_data"
    },
    {
     "name": "stdout",
     "output_type": "stream",
     "text": [
      "09/01/2023, 18:29:07# labels of 5000: tensor([ 93,  58,  38,  38, 101,  60,  26,  15, 107, 142,  46,  63,   6,  62,\n",
      "        109, 114], device='cuda:3') torch.Size([16])\n",
      "09/01/2023, 18:29:07# predicted of 5000: tensor([161,  54,  54,  54, 161,  54,  54,  15, 161, 112,  54,  54, 161,  62,\n",
      "         54, 161], device='cuda:3') torch.Size([16])\n",
      "09/01/2023, 18:30:55# total batches: 8300\n",
      "09/01/2023, 18:30:55# Epoch 13 | Train Loss: 2.7535 | Train Accuracy: 0.3814\n"
     ]
    },
    {
     "data": {
      "application/vnd.jupyter.widget-view+json": {
       "model_id": "e62830cbbd724091acbf7d632753f0bf",
       "version_major": 2,
       "version_minor": 0
      },
      "text/plain": [
       "Validation:   0%|          | 0/1038 [00:00<?, ?it/s]"
      ]
     },
     "metadata": {},
     "output_type": "display_data"
    },
    {
     "name": "stdout",
     "output_type": "stream",
     "text": [
      "09/01/2023, 18:30:55# labels of Validation: tensor([ 35, 120,  70, 106,  81,  45, 107,  72,   7, 108,  38,  54,  14,  57,\n",
      "         67,  43], device='cuda:3') torch.Size([16])\n",
      "09/01/2023, 18:30:55# predicted of Validation: tensor([ 35, 120,  70, 106,  41,  45,   6,  72,   7,   6,  41,  41,  41,  41,\n",
      "         78,  41], device='cuda:3') torch.Size([16])\n",
      "09/01/2023, 18:30:55# labels of 0: tensor([ 35, 120,  70, 106,  81,  45, 107,  72,   7, 108,  38,  54,  14,  57,\n",
      "         67,  43], device='cuda:3') torch.Size([16])\n",
      "09/01/2023, 18:30:55# predicted of 0: tensor([ 35, 120,  70, 106,  41,  45,   6,  72,   7,   6,  41,  41,  41,  41,\n",
      "         78,  41], device='cuda:3') torch.Size([16])\n",
      "09/01/2023, 18:31:16# labels of Validation: tensor([123,  65, 132,  33, 136,  52, 136,  67, 125,  33, 134,   0,  71, 146,\n",
      "        137,  81], device='cuda:3') torch.Size([16])\n",
      "09/01/2023, 18:31:16# predicted of Validation: tensor([123,  41, 132,  41, 136,  52, 136,  67,  41,  41, 134,   0,  41, 146,\n",
      "         41,  41], device='cuda:3') torch.Size([16])\n",
      "09/01/2023, 18:31:16# Validation Loss: 2.7535 | Validation Accuracy: 0.3782\n",
      "\n",
      "09/01/2023, 18:31:16# Find a better model!!\n"
     ]
    },
    {
     "data": {
      "application/vnd.jupyter.widget-view+json": {
       "model_id": "14bafffcf09e4f5693c4f0b6fa84b2e6",
       "version_major": 2,
       "version_minor": 0
      },
      "text/plain": [
       "Training:   0%|          | 0/8300 [00:00<?, ?it/s]"
      ]
     },
     "metadata": {},
     "output_type": "display_data"
    },
    {
     "name": "stdout",
     "output_type": "stream",
     "text": [
      "09/01/2023, 18:33:59# labels of 5000: tensor([  2, 161, 148,   7, 138, 147,  23,   7,  42, 126,  87, 104, 100, 164,\n",
      "        153,  17], device='cuda:3') torch.Size([16])\n",
      "09/01/2023, 18:33:59# predicted of 5000: tensor([ 26, 132,  65,   7, 138, 147,  23,   7,  26, 126,  26,  26, 131,  26,\n",
      "         26,  17], device='cuda:3') torch.Size([16])\n",
      "09/01/2023, 18:35:50# total batches: 8300\n",
      "09/01/2023, 18:35:50# Epoch 14 | Train Loss: 2.7488 | Train Accuracy: 0.3827\n"
     ]
    },
    {
     "data": {
      "application/vnd.jupyter.widget-view+json": {
       "model_id": "a3ced58ee0874f55adb5e2235dc36d47",
       "version_major": 2,
       "version_minor": 0
      },
      "text/plain": [
       "Validation:   0%|          | 0/1038 [00:00<?, ?it/s]"
      ]
     },
     "metadata": {},
     "output_type": "display_data"
    },
    {
     "name": "stdout",
     "output_type": "stream",
     "text": [
      "09/01/2023, 18:35:50# labels of Validation: tensor([  7,  65, 111, 109,  57, 152,  21,  41, 102, 144,  65,  39,  19,  80,\n",
      "         76, 130], device='cuda:3') torch.Size([16])\n",
      "09/01/2023, 18:35:50# predicted of Validation: tensor([  7, 102, 102, 102, 102, 102, 161, 102, 102, 102, 102,  39, 102,  80,\n",
      "        102, 130], device='cuda:3') torch.Size([16])\n",
      "09/01/2023, 18:35:50# labels of 0: tensor([  7,  65, 111, 109,  57, 152,  21,  41, 102, 144,  65,  39,  19,  80,\n",
      "         76, 130], device='cuda:3') torch.Size([16])\n",
      "09/01/2023, 18:35:50# predicted of 0: tensor([  7, 102, 102, 102, 102, 102, 161, 102, 102, 102, 102,  39, 102,  80,\n",
      "        102, 130], device='cuda:3') torch.Size([16])\n",
      "09/01/2023, 18:36:12# labels of Validation: tensor([ 43, 111, 161,  93,  99, 152,  44, 142, 129, 132, 113, 119,  78,  12,\n",
      "        115,   3], device='cuda:3') torch.Size([16])\n",
      "09/01/2023, 18:36:12# predicted of Validation: tensor([102, 102, 161, 101,  99, 102, 102, 102, 101, 161, 101, 102,  67, 102,\n",
      "        115,   3], device='cuda:3') torch.Size([16])\n",
      "09/01/2023, 18:36:12# Validation Loss: 2.7483 | Validation Accuracy: 0.3786\n",
      "\n",
      "09/01/2023, 18:36:12# Find a better model!!\n"
     ]
    },
    {
     "data": {
      "application/vnd.jupyter.widget-view+json": {
       "model_id": "5a9cc816ea364270a9b1a74458bb2bb9",
       "version_major": 2,
       "version_minor": 0
      },
      "text/plain": [
       "Training:   0%|          | 0/8300 [00:00<?, ?it/s]"
      ]
     },
     "metadata": {},
     "output_type": "display_data"
    },
    {
     "name": "stdout",
     "output_type": "stream",
     "text": [
      "09/01/2023, 18:38:57# labels of 5000: tensor([152,  86, 134, 166, 102,  59,  89,  41, 143,  28, 104,  32, 166, 105,\n",
      "         50,  44], device='cuda:3') torch.Size([16])\n",
      "09/01/2023, 18:38:57# predicted of 5000: tensor([ 31, 102, 134,   6, 125,   6,  89, 102,  31,   6, 102,  32,   6, 105,\n",
      "         50, 102], device='cuda:3') torch.Size([16])\n",
      "09/01/2023, 18:40:47# total batches: 8300\n",
      "09/01/2023, 18:40:47# Epoch 15 | Train Loss: 2.7439 | Train Accuracy: 0.3831\n"
     ]
    },
    {
     "data": {
      "application/vnd.jupyter.widget-view+json": {
       "model_id": "6022ea3f06374b39831c2575c41f4b44",
       "version_major": 2,
       "version_minor": 0
      },
      "text/plain": [
       "Validation:   0%|          | 0/1038 [00:00<?, ?it/s]"
      ]
     },
     "metadata": {},
     "output_type": "display_data"
    },
    {
     "name": "stdout",
     "output_type": "stream",
     "text": [
      "09/01/2023, 18:40:47# labels of Validation: tensor([139, 125, 101,  79,   6,  52,  39, 163,  70, 107, 105, 155,  53,  60,\n",
      "        151,  81], device='cuda:3') torch.Size([16])\n",
      "09/01/2023, 18:40:47# predicted of Validation: tensor([ 98,  98,  28,  79,  28,  52,  39,  98,  70,  28, 105,  28,  98,  98,\n",
      "         98,  98], device='cuda:3') torch.Size([16])\n",
      "09/01/2023, 18:40:47# labels of 0: tensor([139, 125, 101,  79,   6,  52,  39, 163,  70, 107, 105, 155,  53,  60,\n",
      "        151,  81], device='cuda:3') torch.Size([16])\n",
      "09/01/2023, 18:40:47# predicted of 0: tensor([ 98,  98,  28,  79,  28,  52,  39,  98,  70,  28, 105,  28,  98,  98,\n",
      "         98,  98], device='cuda:3') torch.Size([16])\n",
      "09/01/2023, 18:41:07# labels of Validation: tensor([ 34, 116, 156,  99, 144, 144,  86,  45,  98, 108,  29, 157,  66, 166,\n",
      "         56, 105], device='cuda:3') torch.Size([16])\n",
      "09/01/2023, 18:41:07# predicted of Validation: tensor([ 98,  98, 156,  99,  98,  98,  98,  45,  98,  28,  29,  98,  28,  28,\n",
      "         56, 105], device='cuda:3') torch.Size([16])\n",
      "09/01/2023, 18:41:07# Validation Loss: 2.7438 | Validation Accuracy: 0.3783\n",
      "\n",
      "09/01/2023, 18:41:07# Find a better model!!\n"
     ]
    },
    {
     "data": {
      "application/vnd.jupyter.widget-view+json": {
       "model_id": "88c7d1e3d75649f0ac61aebc2ccc425b",
       "version_major": 2,
       "version_minor": 0
      },
      "text/plain": [
       "Training:   0%|          | 0/8300 [00:00<?, ?it/s]"
      ]
     },
     "metadata": {},
     "output_type": "display_data"
    },
    {
     "name": "stdout",
     "output_type": "stream",
     "text": [
      "09/01/2023, 18:43:53# labels of 5000: tensor([ 56, 156,  49,  33, 122,  97,  75, 140,  94,  93,  23,  10, 111,  25,\n",
      "         65,  40], device='cuda:3') torch.Size([16])\n",
      "09/01/2023, 18:43:53# predicted of 5000: tensor([ 56, 156,  10,  38, 122,  71,  38, 140,  94,  65,  23,  71, 158,  25,\n",
      "        161,  40], device='cuda:3') torch.Size([16])\n",
      "09/01/2023, 18:45:40# total batches: 8300\n",
      "09/01/2023, 18:45:40# Epoch 16 | Train Loss: 2.7403 | Train Accuracy: 0.3832\n"
     ]
    },
    {
     "data": {
      "application/vnd.jupyter.widget-view+json": {
       "model_id": "4935ec4c5d2543f9b627412a4082cb1c",
       "version_major": 2,
       "version_minor": 0
      },
      "text/plain": [
       "Validation:   0%|          | 0/1038 [00:00<?, ?it/s]"
      ]
     },
     "metadata": {},
     "output_type": "display_data"
    },
    {
     "name": "stdout",
     "output_type": "stream",
     "text": [
      "09/01/2023, 18:45:40# labels of Validation: tensor([ 61,  79, 159,  48,  46,  30,  67, 163,  83, 102, 152, 102, 143,  46,\n",
      "        112, 141], device='cuda:3') torch.Size([16])\n",
      "09/01/2023, 18:45:40# predicted of Validation: tensor([ 61,  79, 159, 121, 121, 121,  78, 121, 121, 121, 121, 121, 121, 121,\n",
      "        121, 108], device='cuda:3') torch.Size([16])\n",
      "09/01/2023, 18:45:40# labels of 0: tensor([ 61,  79, 159,  48,  46,  30,  67, 163,  83, 102, 152, 102, 143,  46,\n",
      "        112, 141], device='cuda:3') torch.Size([16])\n",
      "09/01/2023, 18:45:40# predicted of 0: tensor([ 61,  79, 159, 121, 121, 121,  78, 121, 121, 121, 121, 121, 121, 121,\n",
      "        121, 108], device='cuda:3') torch.Size([16])\n",
      "09/01/2023, 18:46:00# labels of Validation: tensor([ 30, 114,  89, 160,  90,  92,  65,  80,   3,  51, 130, 112, 160, 126,\n",
      "          8,  41], device='cuda:3') torch.Size([16])\n",
      "09/01/2023, 18:46:00# predicted of Validation: tensor([121, 108,  89, 108, 108, 121, 121,  80,   3, 132, 130, 121, 108, 126,\n",
      "        108, 121], device='cuda:3') torch.Size([16])\n",
      "09/01/2023, 18:46:01# Validation Loss: 2.7403 | Validation Accuracy: 0.3784\n",
      "\n",
      "09/01/2023, 18:46:01# Find a better model!!\n"
     ]
    },
    {
     "data": {
      "application/vnd.jupyter.widget-view+json": {
       "model_id": "a92ae422bcac4a75a4a4363b66f08268",
       "version_major": 2,
       "version_minor": 0
      },
      "text/plain": [
       "Training:   0%|          | 0/8300 [00:00<?, ?it/s]"
      ]
     },
     "metadata": {},
     "output_type": "display_data"
    },
    {
     "name": "stdout",
     "output_type": "stream",
     "text": [
      "09/01/2023, 18:48:47# labels of 5000: tensor([130, 145,  65,  17, 118,  43, 123,  78,  15, 101,  29, 157, 112,  93,\n",
      "        106,   8], device='cuda:3') torch.Size([16])\n",
      "09/01/2023, 18:48:47# predicted of 5000: tensor([130, 145,  26,  17, 118,  26, 123,  67,  15,  51,  29,  26,  26,  51,\n",
      "        106, 155], device='cuda:3') torch.Size([16])\n",
      "09/01/2023, 18:50:36# total batches: 8300\n",
      "09/01/2023, 18:50:36# Epoch 17 | Train Loss: 2.7361 | Train Accuracy: 0.3840\n"
     ]
    },
    {
     "data": {
      "application/vnd.jupyter.widget-view+json": {
       "model_id": "9d99caecdf1147348cda6743ce4b1ed8",
       "version_major": 2,
       "version_minor": 0
      },
      "text/plain": [
       "Validation:   0%|          | 0/1038 [00:00<?, ?it/s]"
      ]
     },
     "metadata": {},
     "output_type": "display_data"
    },
    {
     "name": "stdout",
     "output_type": "stream",
     "text": [
      "09/01/2023, 18:50:36# labels of Validation: tensor([121, 123, 105, 113,  17,  16, 151,  94,  51, 132,  69,  63,  20,  18,\n",
      "         65,  88], device='cuda:3') torch.Size([16])\n",
      "09/01/2023, 18:50:36# predicted of Validation: tensor([ 98, 123, 105, 131,  17,  16,  98,  94, 132, 132,  69,  98,  98,  98,\n",
      "         98, 131], device='cuda:3') torch.Size([16])\n",
      "09/01/2023, 18:50:36# labels of 0: tensor([121, 123, 105, 113,  17,  16, 151,  94,  51, 132,  69,  63,  20,  18,\n",
      "         65,  88], device='cuda:3') torch.Size([16])\n",
      "09/01/2023, 18:50:36# predicted of 0: tensor([ 98, 123, 105, 131,  17,  16,  98,  94, 132, 132,  69,  98,  98,  98,\n",
      "         98, 131], device='cuda:3') torch.Size([16])\n",
      "09/01/2023, 18:50:57# labels of Validation: tensor([ 63, 123, 164,  91,  54, 114, 131,  52, 116, 154,   9,  38, 114,  73,\n",
      "          0,  87], device='cuda:3') torch.Size([16])\n",
      "09/01/2023, 18:50:57# predicted of Validation: tensor([ 98, 123,  98, 131,  98, 131, 132,  52,  98, 154,  98,  98, 131,  73,\n",
      "          0,  98], device='cuda:3') torch.Size([16])\n",
      "09/01/2023, 18:50:57# Validation Loss: 2.7364 | Validation Accuracy: 0.3790\n",
      "\n",
      "09/01/2023, 18:50:57# Find a better model!!\n"
     ]
    },
    {
     "data": {
      "application/vnd.jupyter.widget-view+json": {
       "model_id": "57a28334892642a5820fbd6656d55325",
       "version_major": 2,
       "version_minor": 0
      },
      "text/plain": [
       "Training:   0%|          | 0/8300 [00:00<?, ?it/s]"
      ]
     },
     "metadata": {},
     "output_type": "display_data"
    },
    {
     "name": "stdout",
     "output_type": "stream",
     "text": [
      "09/01/2023, 18:53:45# labels of 5000: tensor([143,  55, 106,  14,  42,  53, 131, 154,  44, 149,  32,  42, 121, 155,\n",
      "         29, 139], device='cuda:3') torch.Size([16])\n",
      "09/01/2023, 18:53:45# predicted of 5000: tensor([124, 112, 106,  58,  83,  83, 132, 154, 112, 149,  32, 124,  83,  28,\n",
      "         29,  63], device='cuda:3') torch.Size([16])\n",
      "09/01/2023, 18:55:32# total batches: 8300\n",
      "09/01/2023, 18:55:32# Epoch 18 | Train Loss: 2.7327 | Train Accuracy: 0.3838\n"
     ]
    },
    {
     "data": {
      "application/vnd.jupyter.widget-view+json": {
       "model_id": "ed5db173b55f46c09062529e40ee90e0",
       "version_major": 2,
       "version_minor": 0
      },
      "text/plain": [
       "Validation:   0%|          | 0/1038 [00:00<?, ?it/s]"
      ]
     },
     "metadata": {},
     "output_type": "display_data"
    },
    {
     "name": "stdout",
     "output_type": "stream",
     "text": [
      "09/01/2023, 18:55:32# labels of Validation: tensor([151,  56,  14, 101, 134, 123, 121,  31,  47, 156,  80,  31, 140, 142,\n",
      "        130,  59], device='cuda:3') torch.Size([16])\n",
      "09/01/2023, 18:55:32# predicted of Validation: tensor([ 24,  56,  24,   6, 134, 123,  24,  24,  24, 156,  80,  24, 140,  24,\n",
      "        130,   6], device='cuda:3') torch.Size([16])\n",
      "09/01/2023, 18:55:32# labels of 0: tensor([151,  56,  14, 101, 134, 123, 121,  31,  47, 156,  80,  31, 140, 142,\n",
      "        130,  59], device='cuda:3') torch.Size([16])\n",
      "09/01/2023, 18:55:32# predicted of 0: tensor([ 24,  56,  24,   6, 134, 123,  24,  24,  24, 156,  80,  24, 140,  24,\n",
      "        130,   6], device='cuda:3') torch.Size([16])\n",
      "09/01/2023, 18:55:51# labels of Validation: tensor([166, 163, 110,  74,  48,  32, 143,   4,  54, 146,  52,   2, 100, 142,\n",
      "         50,  49], device='cuda:3') torch.Size([16])\n",
      "09/01/2023, 18:55:51# predicted of Validation: tensor([  6,  24,  21,  24,  24,  32,  24,  24,  24, 146,  52,  24,  21,  24,\n",
      "         50,  24], device='cuda:3') torch.Size([16])\n",
      "09/01/2023, 18:55:52# Validation Loss: 2.7335 | Validation Accuracy: 0.3793\n",
      "\n",
      "09/01/2023, 18:55:52# Find a better model!!\n"
     ]
    },
    {
     "data": {
      "application/vnd.jupyter.widget-view+json": {
       "model_id": "e7effc2092b4465a86ad124cfb2e0c21",
       "version_major": 2,
       "version_minor": 0
      },
      "text/plain": [
       "Training:   0%|          | 0/8300 [00:00<?, ?it/s]"
      ]
     },
     "metadata": {},
     "output_type": "display_data"
    },
    {
     "name": "stdout",
     "output_type": "stream",
     "text": [
      "09/01/2023, 18:58:37# labels of 5000: tensor([150,  76, 137,  18,  96,  32, 107,  80,  63, 132, 105,  50,  98,  47,\n",
      "        114,  26], device='cuda:3') torch.Size([16])\n",
      "09/01/2023, 18:58:37# predicted of 5000: tensor([114, 151, 151,  86,  96,  32,  51,  80, 114, 132, 105,  50, 114, 151,\n",
      "          8, 151], device='cuda:3') torch.Size([16])\n",
      "09/01/2023, 19:00:24# total batches: 8300\n",
      "09/01/2023, 19:00:24# Epoch 19 | Train Loss: 2.7298 | Train Accuracy: 0.3837\n"
     ]
    },
    {
     "data": {
      "application/vnd.jupyter.widget-view+json": {
       "model_id": "6cb4b546fec94e99a589404993ee717c",
       "version_major": 2,
       "version_minor": 0
      },
      "text/plain": [
       "Validation:   0%|          | 0/1038 [00:00<?, ?it/s]"
      ]
     },
     "metadata": {},
     "output_type": "display_data"
    },
    {
     "name": "stdout",
     "output_type": "stream",
     "text": [
      "09/01/2023, 19:00:24# labels of Validation: tensor([ 83,  70,  61, 152, 153,  93,  28,  77, 165, 107,  16,  21, 142, 156,\n",
      "        110,  58], device='cuda:3') torch.Size([16])\n",
      "09/01/2023, 19:00:24# predicted of Validation: tensor([ 44,  70,  61,  44,  44, 129, 132, 132, 165, 129,  16, 132,  44, 156,\n",
      "        129,  44], device='cuda:3') torch.Size([16])\n",
      "09/01/2023, 19:00:24# labels of 0: tensor([ 83,  70,  61, 152, 153,  93,  28,  77, 165, 107,  16,  21, 142, 156,\n",
      "        110,  58], device='cuda:3') torch.Size([16])\n",
      "09/01/2023, 19:00:24# predicted of 0: tensor([ 44,  70,  61,  44,  44, 129, 132, 132, 165, 129,  16, 132,  44, 156,\n",
      "        129,  44], device='cuda:3') torch.Size([16])\n",
      "09/01/2023, 19:00:44# labels of Validation: tensor([133,  85, 105, 137, 103,  11,  89,  78, 130, 101,  37, 136, 166, 131,\n",
      "        115, 166], device='cuda:3') torch.Size([16])\n",
      "09/01/2023, 19:00:44# predicted of Validation: tensor([129,  85, 105,  44, 129,  44,  89,  67, 130, 132, 129, 136, 132, 132,\n",
      "        115, 132], device='cuda:3') torch.Size([16])\n",
      "09/01/2023, 19:00:45# Validation Loss: 2.7293 | Validation Accuracy: 0.3851\n",
      "\n",
      "09/01/2023, 19:00:45# Find a better model!!\n"
     ]
    },
    {
     "data": {
      "application/vnd.jupyter.widget-view+json": {
       "model_id": "352a224623d74f50bedbdb907ee8a621",
       "version_major": 2,
       "version_minor": 0
      },
      "text/plain": [
       "Training:   0%|          | 0/8300 [00:00<?, ?it/s]"
      ]
     },
     "metadata": {},
     "output_type": "display_data"
    },
    {
     "name": "stdout",
     "output_type": "stream",
     "text": [
      "09/01/2023, 19:03:28# labels of 5000: tensor([ 67,  12, 118, 129, 146, 119,  29, 126,  91,  43,  44, 151,   1,  17,\n",
      "         84, 158], device='cuda:3') torch.Size([16])\n",
      "09/01/2023, 19:03:28# predicted of 5000: tensor([ 67, 133, 118,  51, 146, 152,  29, 126, 161,  54,  42,   9,  54,  17,\n",
      "         84,  87], device='cuda:3') torch.Size([16])\n",
      "09/01/2023, 19:05:17# total batches: 8300\n",
      "09/01/2023, 19:05:17# Epoch 20 | Train Loss: 2.7268 | Train Accuracy: 0.3843\n"
     ]
    },
    {
     "data": {
      "application/vnd.jupyter.widget-view+json": {
       "model_id": "0d5cee4cfcea46848880370026b2f6ea",
       "version_major": 2,
       "version_minor": 0
      },
      "text/plain": [
       "Validation:   0%|          | 0/1038 [00:00<?, ?it/s]"
      ]
     },
     "metadata": {},
     "output_type": "display_data"
    },
    {
     "name": "stdout",
     "output_type": "stream",
     "text": [
      "09/01/2023, 19:05:17# labels of Validation: tensor([ 74, 150, 127,  90,  87,  41, 120,   7, 144, 149,  10,  85,  88, 101,\n",
      "         52,  13], device='cuda:3') torch.Size([16])\n",
      "09/01/2023, 19:05:17# predicted of Validation: tensor([  4,   4, 127,  77,   4,   4, 120,   7,   4, 149,   4,  85,  77,  77,\n",
      "         52,  13], device='cuda:3') torch.Size([16])\n",
      "09/01/2023, 19:05:17# labels of 0: tensor([ 74, 150, 127,  90,  87,  41, 120,   7, 144, 149,  10,  85,  88, 101,\n",
      "         52,  13], device='cuda:3') torch.Size([16])\n",
      "09/01/2023, 19:05:17# predicted of 0: tensor([  4,   4, 127,  77,   4,   4, 120,   7,   4, 149,   4,  85,  77,  77,\n",
      "         52,  13], device='cuda:3') torch.Size([16])\n",
      "09/01/2023, 19:05:38# labels of Validation: tensor([ 67,  95, 164,  73, 156, 116, 109,  83, 117,  37,  56,  75,  51, 158,\n",
      "         15, 140], device='cuda:3') torch.Size([16])\n",
      "09/01/2023, 19:05:38# predicted of Validation: tensor([ 78,  95,   4,  73, 156,   4,   4,   4, 117,  77,  56,   4, 161,   4,\n",
      "         15, 140], device='cuda:3') torch.Size([16])\n",
      "09/01/2023, 19:05:39# Validation Loss: 2.7276 | Validation Accuracy: 0.3848\n",
      "\n",
      "09/01/2023, 19:05:39# Find a better model!!\n"
     ]
    },
    {
     "data": {
      "application/vnd.jupyter.widget-view+json": {
       "model_id": "fd8add5219054301913dcfe90a2a1541",
       "version_major": 2,
       "version_minor": 0
      },
      "text/plain": [
       "Training:   0%|          | 0/8300 [00:00<?, ?it/s]"
      ]
     },
     "metadata": {},
     "output_type": "display_data"
    },
    {
     "name": "stdout",
     "output_type": "stream",
     "text": [
      "09/01/2023, 19:08:22# labels of 5000: tensor([118,  69,  60, 144,  84,   4,  28, 124,  99,  61, 137,  30,  99, 129,\n",
      "         94,  42], device='cuda:3') torch.Size([16])\n",
      "09/01/2023, 19:08:22# predicted of 5000: tensor([118,  69,  38,  12,  84,  12, 161,   1,  99,  61,  38,  77,  99,  65,\n",
      "         94,  38], device='cuda:3') torch.Size([16])\n",
      "09/01/2023, 19:10:10# total batches: 8300\n",
      "09/01/2023, 19:10:10# Epoch 21 | Train Loss: 2.7240 | Train Accuracy: 0.3850\n"
     ]
    },
    {
     "data": {
      "application/vnd.jupyter.widget-view+json": {
       "model_id": "55a36cb97c2941bfb715e2f28dad7875",
       "version_major": 2,
       "version_minor": 0
      },
      "text/plain": [
       "Validation:   0%|          | 0/1038 [00:00<?, ?it/s]"
      ]
     },
     "metadata": {},
     "output_type": "display_data"
    },
    {
     "name": "stdout",
     "output_type": "stream",
     "text": [
      "09/01/2023, 19:10:10# labels of Validation: tensor([151,  83,   0,  48,  84,  45,  38,  13, 148, 138, 137,  60,  62, 141,\n",
      "         85, 136], device='cuda:3') torch.Size([16])\n",
      "09/01/2023, 19:10:10# predicted of Validation: tensor([119, 119,   0, 119,  84,  45, 119,  13,  21, 138, 119, 119,  62,  21,\n",
      "         85, 136], device='cuda:3') torch.Size([16])\n",
      "09/01/2023, 19:10:10# labels of 0: tensor([151,  83,   0,  48,  84,  45,  38,  13, 148, 138, 137,  60,  62, 141,\n",
      "         85, 136], device='cuda:3') torch.Size([16])\n",
      "09/01/2023, 19:10:10# predicted of 0: tensor([119, 119,   0, 119,  84,  45, 119,  13,  21, 138, 119, 119,  62,  21,\n",
      "         85, 136], device='cuda:3') torch.Size([16])\n",
      "09/01/2023, 19:10:31# labels of Validation: tensor([161, 141, 133,  66, 128,  42,  90,   1,  36,  79, 163,  74,  88,  62,\n",
      "        129,  78], device='cuda:3') torch.Size([16])\n",
      "09/01/2023, 19:10:31# predicted of Validation: tensor([132,  21,  21,   6, 128, 119,  21, 119, 119,  79, 119, 119,  21,  62,\n",
      "         21,  78], device='cuda:3') torch.Size([16])\n",
      "09/01/2023, 19:10:31# Validation Loss: 2.7250 | Validation Accuracy: 0.3790\n",
      "\n",
      "09/01/2023, 19:10:31# Find a better model!!\n"
     ]
    },
    {
     "data": {
      "application/vnd.jupyter.widget-view+json": {
       "model_id": "62a7ec977b6f4a9db4db7a77ebbab227",
       "version_major": 2,
       "version_minor": 0
      },
      "text/plain": [
       "Training:   0%|          | 0/8300 [00:00<?, ?it/s]"
      ]
     },
     "metadata": {},
     "output_type": "display_data"
    },
    {
     "name": "stdout",
     "output_type": "stream",
     "text": [
      "09/01/2023, 19:13:16# labels of 5000: tensor([ 34,  21, 133,  67,  72,  66,  46, 146,  43, 103,  33,  53, 150,  64,\n",
      "        131,  12], device='cuda:3') torch.Size([16])\n",
      "09/01/2023, 19:13:16# predicted of 5000: tensor([ 47, 161, 155,  78,  72, 161, 112, 146,  75, 160,  75,  55,  75,  88,\n",
      "        161,  47], device='cuda:3') torch.Size([16])\n",
      "09/01/2023, 19:15:04# total batches: 8300\n",
      "09/01/2023, 19:15:04# Epoch 22 | Train Loss: 2.7216 | Train Accuracy: 0.3848\n"
     ]
    },
    {
     "data": {
      "application/vnd.jupyter.widget-view+json": {
       "model_id": "acb697a4481b43c0be1a2fe399078447",
       "version_major": 2,
       "version_minor": 0
      },
      "text/plain": [
       "Validation:   0%|          | 0/1038 [00:00<?, ?it/s]"
      ]
     },
     "metadata": {},
     "output_type": "display_data"
    },
    {
     "name": "stdout",
     "output_type": "stream",
     "text": [
      "09/01/2023, 19:15:04# labels of Validation: tensor([151, 124,   4, 141,  88,  16,  80,  81,  98,  45, 136,  92, 114,  49,\n",
      "        134, 140], device='cuda:3') torch.Size([16])\n",
      "09/01/2023, 19:15:04# predicted of Validation: tensor([ 86,  86,  86, 108, 108,  16,  80,  86,  86,  45, 136,  86, 108,  86,\n",
      "        134, 140], device='cuda:3') torch.Size([16])\n",
      "09/01/2023, 19:15:04# labels of 0: tensor([151, 124,   4, 141,  88,  16,  80,  81,  98,  45, 136,  92, 114,  49,\n",
      "        134, 140], device='cuda:3') torch.Size([16])\n",
      "09/01/2023, 19:15:04# predicted of 0: tensor([ 86,  86,  86, 108, 108,  16,  80,  86,  86,  45, 136,  86, 108,  86,\n",
      "        134, 140], device='cuda:3') torch.Size([16])\n",
      "09/01/2023, 19:15:24# labels of Validation: tensor([ 26,  84,  51,  10,  86,  32, 123,  38,  34,  62,  59,   8, 140, 129,\n",
      "         52, 128], device='cuda:3') torch.Size([16])\n",
      "09/01/2023, 19:15:24# predicted of Validation: tensor([ 86,  84, 132,  86,  86,  32, 123,  86,  86,  62, 108, 108, 140, 108,\n",
      "         52, 128], device='cuda:3') torch.Size([16])\n",
      "09/01/2023, 19:15:25# Validation Loss: 2.7238 | Validation Accuracy: 0.3793\n",
      "\n",
      "09/01/2023, 19:15:25# Find a better model!!\n"
     ]
    },
    {
     "data": {
      "application/vnd.jupyter.widget-view+json": {
       "model_id": "de86c7fb7c944efda5128867b5d555eb",
       "version_major": 2,
       "version_minor": 0
      },
      "text/plain": [
       "Training:   0%|          | 0/8300 [00:00<?, ?it/s]"
      ]
     },
     "metadata": {},
     "output_type": "display_data"
    },
    {
     "name": "stdout",
     "output_type": "stream",
     "text": [
      "09/01/2023, 19:18:10# labels of 5000: tensor([165, 165, 153,  20,  48,  30, 148,  46,  63,  87,  90,  41,  64,  13,\n",
      "         26, 111], device='cuda:3') torch.Size([16])\n",
      "09/01/2023, 19:18:10# predicted of 5000: tensor([165, 165,  71,  58,  87,  83,  37,  33,  58, 143, 161,  38,  91,  13,\n",
      "         71,  33], device='cuda:3') torch.Size([16])\n",
      "09/01/2023, 19:19:58# total batches: 8300\n",
      "09/01/2023, 19:19:58# Epoch 23 | Train Loss: 2.7196 | Train Accuracy: 0.3853\n"
     ]
    },
    {
     "data": {
      "application/vnd.jupyter.widget-view+json": {
       "model_id": "06429cb28479414eba7c9fdf8e862f60",
       "version_major": 2,
       "version_minor": 0
      },
      "text/plain": [
       "Validation:   0%|          | 0/1038 [00:00<?, ?it/s]"
      ]
     },
     "metadata": {},
     "output_type": "display_data"
    },
    {
     "name": "stdout",
     "output_type": "stream",
     "text": [
      "09/01/2023, 19:19:58# labels of Validation: tensor([ 40, 124, 165, 157,  57, 165, 160,  19,   7, 131, 153,  59,  53,  40,\n",
      "         82, 135], device='cuda:3') torch.Size([16])\n",
      "09/01/2023, 19:19:58# predicted of Validation: tensor([ 40,   1, 165,   1,   1, 165, 108,   1,   7, 132,   1, 132,   1,  40,\n",
      "         82,   1], device='cuda:3') torch.Size([16])\n",
      "09/01/2023, 19:19:58# labels of 0: tensor([ 40, 124, 165, 157,  57, 165, 160,  19,   7, 131, 153,  59,  53,  40,\n",
      "         82, 135], device='cuda:3') torch.Size([16])\n",
      "09/01/2023, 19:19:58# predicted of 0: tensor([ 40,   1, 165,   1,   1, 165, 108,   1,   7, 132,   1, 132,   1,  40,\n",
      "         82,   1], device='cuda:3') torch.Size([16])\n",
      "09/01/2023, 19:20:17# labels of Validation: tensor([130,  84, 162,  81,  17,  81, 129,  10,  31,  75, 102,  88,  98,  70,\n",
      "         25,  21], device='cuda:3') torch.Size([16])\n",
      "09/01/2023, 19:20:17# predicted of Validation: tensor([130,  84,   1,   1,  17,   1, 108,   1,   1,   1,   1, 108,   1,  70,\n",
      "         25, 132], device='cuda:3') torch.Size([16])\n",
      "09/01/2023, 19:20:18# Validation Loss: 2.7186 | Validation Accuracy: 0.3791\n",
      "\n",
      "09/01/2023, 19:20:18# Find a better model!!\n"
     ]
    },
    {
     "data": {
      "application/vnd.jupyter.widget-view+json": {
       "model_id": "407214c9fe104e6a91ed5e0fbdebefb9",
       "version_major": 2,
       "version_minor": 0
      },
      "text/plain": [
       "Training:   0%|          | 0/8300 [00:00<?, ?it/s]"
      ]
     },
     "metadata": {},
     "output_type": "display_data"
    },
    {
     "name": "stdout",
     "output_type": "stream",
     "text": [
      "09/01/2023, 19:23:04# labels of 5000: tensor([150,  97,  26, 122,  28, 111, 149, 134,  93, 132,  53,  29,   8, 165,\n",
      "         24,  30], device='cuda:3') torch.Size([16])\n",
      "09/01/2023, 19:23:04# predicted of 5000: tensor([ 57, 111, 111, 122, 161, 100, 149, 134,  59, 161, 104,  29, 100, 165,\n",
      "        111, 111], device='cuda:3') torch.Size([16])\n",
      "09/01/2023, 19:24:53# total batches: 8300\n",
      "09/01/2023, 19:24:53# Epoch 24 | Train Loss: 2.7170 | Train Accuracy: 0.3860\n"
     ]
    },
    {
     "data": {
      "application/vnd.jupyter.widget-view+json": {
       "model_id": "ef7e99304e094e4b8168ceb7e895fba8",
       "version_major": 2,
       "version_minor": 0
      },
      "text/plain": [
       "Validation:   0%|          | 0/1038 [00:00<?, ?it/s]"
      ]
     },
     "metadata": {},
     "output_type": "display_data"
    },
    {
     "name": "stdout",
     "output_type": "stream",
     "text": [
      "09/01/2023, 19:24:53# labels of Validation: tensor([ 40, 116,  12,  65,  71,  93,  12, 139, 148, 107,  73,  61, 111, 134,\n",
      "         70,  50], device='cuda:3') torch.Size([16])\n",
      "09/01/2023, 19:24:54# predicted of Validation: tensor([ 40, 151, 151, 151, 151,  91, 151, 151,  91,  91,  73,  61, 151, 134,\n",
      "         70,  50], device='cuda:3') torch.Size([16])\n",
      "09/01/2023, 19:24:54# labels of 0: tensor([ 40, 116,  12,  65,  71,  93,  12, 139, 148, 107,  73,  61, 111, 134,\n",
      "         70,  50], device='cuda:3') torch.Size([16])\n",
      "09/01/2023, 19:24:54# predicted of 0: tensor([ 40, 151, 151, 151, 151,  91, 151, 151,  91,  91,  73,  61, 151, 134,\n",
      "         70,  50], device='cuda:3') torch.Size([16])\n",
      "09/01/2023, 19:25:14# labels of Validation: tensor([122,  11,  21,  27, 150, 149, 104, 143,  70,  11,  68,  42,  87,  78,\n",
      "         54,  50], device='cuda:3') torch.Size([16])\n",
      "09/01/2023, 19:25:14# predicted of Validation: tensor([122, 151, 161,  27, 151, 149, 151, 151,  70, 151,  91, 151, 151,  67,\n",
      "        151,  50], device='cuda:3') torch.Size([16])\n",
      "09/01/2023, 19:25:15# Validation Loss: 2.7189 | Validation Accuracy: 0.3786\n",
      "\n"
     ]
    },
    {
     "data": {
      "application/vnd.jupyter.widget-view+json": {
       "model_id": "c41719104cb14335bad92cfdc29d525a",
       "version_major": 2,
       "version_minor": 0
      },
      "text/plain": [
       "Training:   0%|          | 0/8300 [00:00<?, ?it/s]"
      ]
     },
     "metadata": {},
     "output_type": "display_data"
    },
    {
     "ename": "KeyboardInterrupt",
     "evalue": "",
     "output_type": "error",
     "traceback": [
      "\u001b[0;31m---------------------------------------------------------------------------\u001b[0m",
      "\u001b[0;31mKeyboardInterrupt\u001b[0m                         Traceback (most recent call last)",
      "\u001b[0;32m<ipython-input-15-0b39785a45c5>\u001b[0m in \u001b[0;36m<module>\u001b[0;34m\u001b[0m\n\u001b[1;32m     45\u001b[0m \u001b[0;34m\u001b[0m\u001b[0m\n\u001b[1;32m     46\u001b[0m         \u001b[0moptimizer\u001b[0m\u001b[0;34m.\u001b[0m\u001b[0mzero_grad\u001b[0m\u001b[0;34m(\u001b[0m\u001b[0;34m)\u001b[0m\u001b[0;34m\u001b[0m\u001b[0;34m\u001b[0m\u001b[0m\n\u001b[0;32m---> 47\u001b[0;31m         \u001b[0mloss\u001b[0m\u001b[0;34m.\u001b[0m\u001b[0mbackward\u001b[0m\u001b[0;34m(\u001b[0m\u001b[0;34m)\u001b[0m\u001b[0;34m\u001b[0m\u001b[0;34m\u001b[0m\u001b[0m\n\u001b[0m\u001b[1;32m     48\u001b[0m         \u001b[0moptimizer\u001b[0m\u001b[0;34m.\u001b[0m\u001b[0mstep\u001b[0m\u001b[0;34m(\u001b[0m\u001b[0;34m)\u001b[0m\u001b[0;34m\u001b[0m\u001b[0;34m\u001b[0m\u001b[0m\n\u001b[1;32m     49\u001b[0m \u001b[0;34m\u001b[0m\u001b[0m\n",
      "\u001b[0;32m~/.local/lib/python3.6/site-packages/torch/_tensor.py\u001b[0m in \u001b[0;36mbackward\u001b[0;34m(self, gradient, retain_graph, create_graph, inputs)\u001b[0m\n\u001b[1;32m    305\u001b[0m                 \u001b[0mcreate_graph\u001b[0m\u001b[0;34m=\u001b[0m\u001b[0mcreate_graph\u001b[0m\u001b[0;34m,\u001b[0m\u001b[0;34m\u001b[0m\u001b[0;34m\u001b[0m\u001b[0m\n\u001b[1;32m    306\u001b[0m                 inputs=inputs)\n\u001b[0;32m--> 307\u001b[0;31m         \u001b[0mtorch\u001b[0m\u001b[0;34m.\u001b[0m\u001b[0mautograd\u001b[0m\u001b[0;34m.\u001b[0m\u001b[0mbackward\u001b[0m\u001b[0;34m(\u001b[0m\u001b[0mself\u001b[0m\u001b[0;34m,\u001b[0m \u001b[0mgradient\u001b[0m\u001b[0;34m,\u001b[0m \u001b[0mretain_graph\u001b[0m\u001b[0;34m,\u001b[0m \u001b[0mcreate_graph\u001b[0m\u001b[0;34m,\u001b[0m \u001b[0minputs\u001b[0m\u001b[0;34m=\u001b[0m\u001b[0minputs\u001b[0m\u001b[0;34m)\u001b[0m\u001b[0;34m\u001b[0m\u001b[0;34m\u001b[0m\u001b[0m\n\u001b[0m\u001b[1;32m    308\u001b[0m \u001b[0;34m\u001b[0m\u001b[0m\n\u001b[1;32m    309\u001b[0m     \u001b[0;32mdef\u001b[0m \u001b[0mregister_hook\u001b[0m\u001b[0;34m(\u001b[0m\u001b[0mself\u001b[0m\u001b[0;34m,\u001b[0m \u001b[0mhook\u001b[0m\u001b[0;34m)\u001b[0m\u001b[0;34m:\u001b[0m\u001b[0;34m\u001b[0m\u001b[0;34m\u001b[0m\u001b[0m\n",
      "\u001b[0;32m~/.local/lib/python3.6/site-packages/torch/autograd/__init__.py\u001b[0m in \u001b[0;36mbackward\u001b[0;34m(tensors, grad_tensors, retain_graph, create_graph, grad_variables, inputs)\u001b[0m\n\u001b[1;32m    154\u001b[0m     Variable._execution_engine.run_backward(\n\u001b[1;32m    155\u001b[0m         \u001b[0mtensors\u001b[0m\u001b[0;34m,\u001b[0m \u001b[0mgrad_tensors_\u001b[0m\u001b[0;34m,\u001b[0m \u001b[0mretain_graph\u001b[0m\u001b[0;34m,\u001b[0m \u001b[0mcreate_graph\u001b[0m\u001b[0;34m,\u001b[0m \u001b[0minputs\u001b[0m\u001b[0;34m,\u001b[0m\u001b[0;34m\u001b[0m\u001b[0;34m\u001b[0m\u001b[0m\n\u001b[0;32m--> 156\u001b[0;31m         allow_unreachable=True, accumulate_grad=True)  # allow_unreachable flag\n\u001b[0m\u001b[1;32m    157\u001b[0m \u001b[0;34m\u001b[0m\u001b[0m\n\u001b[1;32m    158\u001b[0m \u001b[0;34m\u001b[0m\u001b[0m\n",
      "\u001b[0;31mKeyboardInterrupt\u001b[0m: "
     ]
    }
   ],
   "source": [
    "import csv\n",
    "import pandas as pd\n",
    "from sklearn.metrics import classification_report\n",
    "from torch.optim import AdamW, lr_scheduler\n",
    "\n",
    "seed = 8787\n",
    "same_seeds(seed)\n",
    "\n",
    "model = GAT(in_dim=50, hidden_dim=16, out_dim=168, num_heads=8)\n",
    "# in_dim means the dimension of the node_feat(50 dim, since the 50-dim embedding)\n",
    "# out_dim means the # of the categories -> 168 for out tasks\n",
    "model.load_state_dict(torch.load('model1_initial/initial_weight.pth'))\n",
    "best_model_path = \"../checkpoint_GAT/best_model_GAT_transE_50.pt\"\n",
    "\n",
    "model = model.to(device)\n",
    "\n",
    "# optimizer = torch.optim.AdamW(model.parameters(), lr=1e-5)\n",
    "optimizer = AdamW(model.parameters(), lr=5e-4)\n",
    "# scheduler = get_linear_schedule_with_warmup(optimizer, num_warmup_steps=18, num_training_steps=total_steps)\n",
    "\n",
    "# T_max control the period of the lr changing -> set 1/10 first\n",
    "scheduler = lr_scheduler.CosineAnnealingLR(optimizer, T_max=36, eta_min=0, last_epoch=- 1, verbose=False)\n",
    "\n",
    "\n",
    "criterion = nn.CrossEntropyLoss()\n",
    "total_steps = 100\n",
    "\n",
    "# save the best model\n",
    "best_val_loss = float('inf')\n",
    "patience = 10  # Number of epochs with no improvement after which training will be stopped.\n",
    "waiting = 0  # The number of epochs with no improvement so far.\n",
    "\n",
    "\n",
    "# Training Part\n",
    "for epoch in tqdm(range(total_steps)):\n",
    "    # Train\n",
    "    model.train()\n",
    "    total_loss = 0.0\n",
    "    total_accuracy = 0.0\n",
    "    num_batches = 0\n",
    "    \n",
    "    for data in tqdm(dataloaders['train'], desc=\"Training\", position=0, leave=True):\n",
    "        num_batches += 1\n",
    "        loss, accuracy, _ = model_fn(data, model, criterion, device, num_batches, which_type='train')\n",
    "        \n",
    "        optimizer.zero_grad()\n",
    "        loss.backward()\n",
    "        optimizer.step()\n",
    "\n",
    "        total_loss += loss.item()\n",
    "        total_accuracy += accuracy.item()\n",
    "\n",
    "        \n",
    "#     scheduler.step()\n",
    "    add_log_msg(f\"total batches: {num_batches}\")\n",
    "\n",
    "    avg_loss = total_loss / num_batches\n",
    "    avg_accuracy = total_accuracy / num_batches\n",
    "\n",
    "    add_log_msg(f'Epoch {epoch} | Train Loss: {avg_loss:.4f} | Train Accuracy: {avg_accuracy:.4f}')\n",
    "\n",
    "    \n",
    "    # Validation Part\n",
    "    model.eval()\n",
    "    total_accuracy = 0.0\n",
    "    total_loss = 0.0\n",
    "    num_batches = 0\n",
    "\n",
    "\n",
    "    with torch.no_grad():\n",
    "        for data in tqdm(dataloaders['valid'], desc=\"Validation\", position=0, leave=True):\n",
    "            loss, accuracy, _ = model_fn(data, model, criterion, device, num_batches, which_type='validation')\n",
    "            total_accuracy += accuracy.item()\n",
    "            total_loss += loss.item()\n",
    "            num_batches += 1\n",
    "\n",
    "    avg_accuracy = total_accuracy / num_batches\n",
    "    current_loss = total_loss / num_batches\n",
    "    \n",
    "    add_log_msg(f'Validation Loss: {current_loss:.4f} | Validation Accuracy: {avg_accuracy:.4f}\\n')\n",
    "    \n",
    "            \n",
    "    if current_loss < best_val_loss:\n",
    "        best_val_loss = current_loss\n",
    "        waiting = 0\n",
    "        \n",
    "        if os.path.exists(best_model_path):\n",
    "            os.remove(best_model_path)\n",
    "            add_log_msg(\"Find a better model!!\")\n",
    "\n",
    "        torch.save(model.state_dict(), best_model_path)\n",
    "\n",
    "        \n",
    "#         print(best_model_path)\n",
    "\n",
    "    else:\n",
    "        waiting += 1\n",
    "        if waiting >= patience:\n",
    "            add_log_msg(\"============================== Early stopping ==================================\")\n",
    "            break"
   ]
  },
  {
   "cell_type": "markdown",
   "metadata": {},
   "source": [
    "### Testing Part"
   ]
  },
  {
   "cell_type": "code",
   "execution_count": 16,
   "metadata": {},
   "outputs": [
    {
     "data": {
      "application/vnd.jupyter.widget-view+json": {
       "model_id": "df6190b200084cf688dbf8cab0ba82d0",
       "version_major": 2,
       "version_minor": 0
      },
      "text/plain": [
       "Testing:   0%|          | 0/1038 [00:00<?, ?it/s]"
      ]
     },
     "metadata": {},
     "output_type": "display_data"
    },
    {
     "name": "stdout",
     "output_type": "stream",
     "text": [
      "09/01/2023, 19:26:42# labels of Test: tensor([65, 65, 65, 65, 65, 65, 65, 65, 65, 65, 65, 65, 65, 65, 65, 65],\n",
      "       device='cuda:3') torch.Size([16])\n",
      "09/01/2023, 19:26:42# predicted of Test: tensor([1, 1, 1, 1, 1, 1, 1, 1, 1, 1, 1, 1, 1, 1, 1, 1], device='cuda:3') torch.Size([16])\n",
      "09/01/2023, 19:26:42# labels of 0: tensor([65, 65, 65, 65, 65, 65, 65, 65, 65, 65, 65, 65, 65, 65, 65, 65],\n",
      "       device='cuda:3') torch.Size([16])\n",
      "09/01/2023, 19:26:42# predicted of 0: tensor([1, 1, 1, 1, 1, 1, 1, 1, 1, 1, 1, 1, 1, 1, 1, 1], device='cuda:3') torch.Size([16])\n",
      "09/01/2023, 19:26:42# labels: tensor([65, 65, 65, 65, 65, 65, 65, 65, 65, 65, 65, 65, 65, 65, 65, 65],\n",
      "       device='cuda:3') torch.Size([16])\n",
      "09/01/2023, 19:26:42# predicted: tensor([1, 1, 1, 1, 1, 1, 1, 1, 1, 1, 1, 1, 1, 1, 1, 1], device='cuda:3') torch.Size([16])\n",
      "09/01/2023, 19:27:02# labels of Test: tensor([162, 162, 162, 162, 162, 162, 162, 162, 162, 162, 162, 162, 162, 162,\n",
      "        162, 162], device='cuda:3') torch.Size([16])\n",
      "09/01/2023, 19:27:02# predicted of Test: tensor([1, 1, 1, 1, 1, 1, 1, 1, 1, 1, 1, 1, 1, 1, 1, 1], device='cuda:3') torch.Size([16])\n",
      "09/01/2023, 19:27:03# Test Accuracy: 37.86144578313253 %\n",
      "\n",
      "\n",
      "\n"
     ]
    },
    {
     "name": "stderr",
     "output_type": "stream",
     "text": [
      "/workdir/home/euni/.local/lib/python3.6/site-packages/sklearn/metrics/_classification.py:1248: UndefinedMetricWarning: Precision and F-score are ill-defined and being set to 0.0 in labels with no predicted samples. Use `zero_division` parameter to control this behavior.\n",
      "  _warn_prf(average, modifier, msg_start, len(result))\n",
      "/workdir/home/euni/.local/lib/python3.6/site-packages/sklearn/metrics/_classification.py:1248: UndefinedMetricWarning: Precision and F-score are ill-defined and being set to 0.0 in labels with no predicted samples. Use `zero_division` parameter to control this behavior.\n",
      "  _warn_prf(average, modifier, msg_start, len(result))\n",
      "/workdir/home/euni/.local/lib/python3.6/site-packages/sklearn/metrics/_classification.py:1248: UndefinedMetricWarning: Precision and F-score are ill-defined and being set to 0.0 in labels with no predicted samples. Use `zero_division` parameter to control this behavior.\n",
      "  _warn_prf(average, modifier, msg_start, len(result))\n"
     ]
    },
    {
     "name": "stdout",
     "output_type": "stream",
     "text": [
      "09/01/2023, 19:27:05# report path: classification_report/classification_report-transE_50-0.xlsx\n",
      "09/01/2023, 19:27:05# label path: classification_report/mapped_true_predicted_labels-transE_50-0.xlsx\n"
     ]
    },
    {
     "name": "stderr",
     "output_type": "stream",
     "text": [
      "/workdir/home/euni/.local/lib/python3.6/site-packages/sklearn/metrics/_classification.py:1248: UndefinedMetricWarning: Precision and F-score are ill-defined and being set to 0.0 in labels with no predicted samples. Use `zero_division` parameter to control this behavior.\n",
      "  _warn_prf(average, modifier, msg_start, len(result))\n"
     ]
    },
    {
     "name": "stdout",
     "output_type": "stream",
     "text": [
      "09/01/2023, 19:27:05# mapped_report:\n",
      "                                                precision    recall  f1-score   support\n",
      "\n",
      "T1003.001_0ef4cc7b-611c-4237-b20b-db36b6906554       1.00      1.00      1.00       100\n",
      "    T1003.001_35d92515122effdd73801c6ac3021da7       1.00      1.00      1.00       100\n",
      "    T1003.002_5a484b65c247675e3b7ada4ba648d376       0.00      0.00      0.00       100\n",
      "    T1003.002_7fa4ea18694f2552547b65e23952cabb       1.00      1.00      1.00       100\n",
      "    T1003.003_9f73269695e54311dd61dc68940fb3e1       0.00      0.00      0.00       100\n",
      "    T1003.003_f049b89533298c2d6cd37a940248b219       0.00      0.00      0.00       100\n",
      "        T1003_18f31c311ac208802e88ab8d5af8603e       1.00      1.00      1.00       100\n",
      "        T1007_9d03c91bdae5a80f17f89c987942b5a8       1.00      1.00      1.00       100\n",
      "    T1007_c6607391-d02c-44b5-9b13-d3492ca58599       0.00      0.00      0.00       100\n",
      "        T1007_d6bb2a19da7246731ed9c44831b135f8       0.00      0.00      0.00       100\n",
      "    T1016_14a21534-350f-4d83-9dd7-3c56b93a0c17       0.00      0.00      0.00       100\n",
      "        T1016_71b3d2945679566b9d94d8cb11df4b70       0.00      0.00      0.00       100\n",
      "        T1016_7d8ee68f0e9731db82964f558f614608       0.00      0.00      0.00       100\n",
      "    T1016_921055f4-5970-4707-909e-62f594234d91       0.00      0.00      0.00       100\n",
      "    T1016_a0676fe1-cd52-482e-8dde-349b73f9aa69       0.00      0.00      0.00       100\n",
      "    T1016_e8017c46-acb8-400c-a4b5-b3362b5b5baa       0.00      0.00      0.00       100\n",
      "    T1018_26c8b8b5-7b5b-4de1-a128-7d37fb14f517       0.01      1.00      0.03       100\n",
      "        T1018_a44bb43474728496276d5d73aa14588f       0.00      0.00      0.00       100\n",
      "        T1018_ac20e592bc912bddff4d6b88289095f0       0.00      0.00      0.00       100\n",
      "    T1021.001_dd67068b052fa553ad4a0ac7d6a5ea89       1.00      1.00      1.00       100\n",
      "    T1033_bd527b63-9f9e-46e0-9816-b8434d2b8989       0.00      0.00      0.00       100\n",
      "    T1033_c0da588f-79f0-4263-8998-7496b1a40596       0.00      0.00      0.00       100\n",
      "    T1036.003_04e8d83e7badf098d50800d6aa1dd487       1.00      1.00      1.00       100\n",
      "    T1036.003_f5ef8466e5ebcd2ae03f338d9416069c       1.00      1.00      1.00       100\n",
      "    T1036.004_1f0614ea5c4af6faf1b44570f5f22f8a       0.00      0.00      0.00       100\n",
      "    T1036.004_7de3d7b4922a7b996d8df36fb22bb118       0.00      0.00      0.00       100\n",
      "    T1037.001_62cfa90fb03a6bc1a6ebcce8a3ea81b7       1.00      1.00      1.00       100\n",
      "        T1040_6881a4589710d53f0c146e91db513f01       1.00      1.00      1.00       100\n",
      "        T1047_09e0f9cf2eb803a1c35deeecf3665fad       0.00      0.00      0.00       100\n",
      "        T1047_6935e41353aa781bb723462d26114c44       0.00      0.00      0.00       100\n",
      "        T1047_ac122553ab4426ea3362bb4a97d31bfd       0.00      0.00      0.00       100\n",
      "        T1047_ac2764f7a67a9ce92b54e8e59b361838       0.00      0.00      0.00       100\n",
      "        T1047_b0255b5120cbabc062d8d4510a142c3b       0.00      0.00      0.00       100\n",
      "        T1047_ed736a123da6fb2aab22cfd4f437e8b5       0.00      0.00      0.00       100\n",
      "        T1047_f4b0b4129560ea66f9751275e82f6bab       0.00      0.00      0.00       100\n",
      "    T1049_638fb6bb-ba39-4285-93d1-7e4775b033a8       0.00      0.00      0.00       100\n",
      "        T1049_a14392d713dffba6a397682ff83259a0       0.00      0.00      0.00       100\n",
      "    T1053.005_5db2884b6ca3ab932848f295a3896dc0       0.00      0.00      0.00       100\n",
      "    T1053.005_ee454be9197890de62705ce6255933fd       0.00      0.00      0.00       100\n",
      "T1055.001_a74bc239-a196-4f7e-8d5c-fe8c0266071c       0.00      0.00      0.00       100\n",
      "T1055.002_e5bcefee-262d-4568-a261-e8a20855ec81       0.00      0.00      0.00       100\n",
      "    T1057_5a39d7ed-45c9-4a79-b581-e5fb99e24f65       0.00      0.00      0.00       100\n",
      "    T1057_8adf02e8-6e71-4244-886c-98c402857404       0.00      0.00      0.00       100\n",
      "        T1057_b2a1e430ca6d36eb5af2fe666e769847       0.00      0.00      0.00       100\n",
      "        T1057_f8de05d1741dcc468f772ab0ff4dac72       0.00      0.00      0.00       100\n",
      "T1059.001_55678719-e76e-4df9-92aa-10655bbd1cf4       1.00      1.00      1.00       100\n",
      "    T1059.001_6efbccc1869e8cd618c0d3ecda407d5f       1.00      1.00      1.00       100\n",
      "T1059.001_702bfdd2-9947-4eda-b551-c3a1ea9a59a2       1.00      1.00      1.00       100\n",
      "T1059.001_bfff9006-d1fb-46ce-b173-92cb04e9a031       0.99      1.00      1.00       100\n",
      "T1059.001_ccdb8caf-c69e-424b-b930-551969450c57       0.00      0.00      0.00       100\n",
      "T1059.001_e5f9de8f-3df1-4e78-ad92-a784e3f6770d       1.00      1.00      1.00       100\n",
      "    T1059.003_6c318ef0339d74d909ad556681b6493e       0.00      0.00      0.00       100\n",
      "    T1059.003_f38e58deb7ad20b5538ca40db7b7b4f8       0.00      0.00      0.00       100\n",
      "T1069.001_5c4dd985-89e3-4590-9b57-71fed66ff4e2       1.00      1.00      1.00       100\n",
      "    T1069.001_a1f48fa3ddee658b29b414523c9a295b       0.00      0.00      0.00       100\n",
      "    T1069.002_6103e503cb444bc7b4187704f2035708       0.00      0.00      0.00       100\n",
      "    T1070.005_1f91076e2be2014cc7b4f1296de02fd6       1.00      1.00      1.00       100\n",
      "    T1071.001_24c3b7b004401d839a5c337201da3484       1.00      1.00      1.00       100\n",
      "T1074.001_4e97e699-93d7-4040-b5a3-2e906a58199e       0.00      0.00      0.00       100\n",
      "T1074.001_6469befa-748a-4b9c-a96d-f191fde47d89       0.00      0.00      0.00       100\n",
      "    T1074.001_e6dfc7e89359ac6fa6de84b0e1d5762e       0.00      0.00      0.00       100\n",
      "    T1078.001_d0ca00832890baa1d42322cf70fcab1a       0.00      0.00      0.00       100\n",
      "    T1082_29451844-9b76-4e16-a9ee-d6feab4b24db       0.00      0.00      0.00       100\n",
      "    T1083_52177cc1-b9ab-4411-ac21-2eadc4b5d3b8       0.00      0.00      0.00       100\n",
      "    T1083_6e1a53c0-7352-4899-be35-fa7f364d5722       0.00      0.00      0.00       100\n",
      "    T1087.001_6334877e8e3ba48f7835d4856d90a282       0.00      0.00      0.00       100\n",
      "T1087.001_feaced8f-f43f-452a-9500-a5219488abb8       0.00      0.00      0.00       100\n",
      "    T1090.001_ba343199a4f15ed6b57eb52412f62e4e       0.98      0.90      0.94       100\n",
      "        T1105_0856c235a1d26113d4f2d92e39c9a9f8       1.00      1.00      1.00       100\n",
      "        T1105_1095434782a00c8a4772a11e625bcf5d       1.00      1.00      1.00       100\n",
      "        T1105_4f683658f161ccdc51337c470d32bab9       0.00      0.00      0.00       100\n",
      "    T1105_60f63260-39bb-4136-87a0-b6c2dca799fc       1.00      1.00      1.00       100\n",
      "        T1105_c521e0a70b243a0cf9217907ca3c6d27       1.00      1.00      1.00       100\n",
      "        T1105_c76968acda4aa1673dadcd67f3ab7664       1.00      1.00      1.00       100\n",
      "        T1105_e6715e61f5df646692c624b3499384c4       1.00      1.00      1.00       100\n",
      "    T1105_eb814e03-811a-467a-bc6d-dcd453750fa2       0.00      0.00      0.00       100\n",
      "        T1112_257313a3c93e3bb7dfb60d6753b09e34       1.00      1.00      1.00       100\n",
      "        T1112_34041639e6e501856ecaf5969ee29c76       1.00      1.00      1.00       100\n",
      "        T1112_35c0360d226cf38104f300d9d57ce60e       1.00      1.00      1.00       100\n",
      "        T1112_4bfb5f265a5ce07af6bf10da113af7db       1.00      1.00      1.00       100\n",
      "        T1112_7fe6a66d03f4dbfc022609ba311c2b11       1.00      1.00      1.00       100\n",
      "        T1112_ba6f6214dbd17c54001e0a163b60f151       1.00      1.00      1.00       100\n",
      "        T1112_cab7b85611a290c0769546bfa9d6f962       0.99      1.00      1.00       100\n",
      "        T1112_cd8be0e6b873919da25530a2c7ea6750       0.00      0.00      0.00       100\n",
      "        T1112_e74d2fb4ef5fa6c766a4151554033697       1.00      1.00      1.00       100\n",
      "        T1112_e7a987cbef27263e666e5b096488dc55       1.00      1.00      1.00       100\n",
      "        T1112_fa4ba6a06b4a5cd955ea5a60fae24281       1.00      1.00      1.00       100\n",
      "        T1112_fd992e8ecfdac9b56dd6868904044827       1.00      1.00      1.00       100\n",
      "    T1113_316251ed-6a28-4013-812b-ddf5b5b007f8       0.00      0.00      0.00       100\n",
      "        T1115_70795de7cbb842edb029b3378c27c008       1.00      1.00      1.00       100\n",
      "    T1115_b007fe0c-c6b0-4fda-915c-255bbc070de2       0.00      0.00      0.00       100\n",
      "        T1119_344e7eaf650763e0d3e9f02e62c1cf4b       0.00      0.00      0.00       100\n",
      "        T1119_7121cdf93b951311be9d7078c602efdc       1.00      1.00      1.00       100\n",
      "        T1120_7b9c7afaefa59aab759b49af0d699ac1       0.00      0.00      0.00       100\n",
      "        T1123_372e6f46fca18e4f1b43209c20ffafa2       1.00      1.00      1.00       100\n",
      "    T1124_fa6e8607-e0b1-425d-8924-9b894da5a002       0.00      0.00      0.00       100\n",
      "        T1125_da86001b5081fcf773d8e62f22cf2b00       1.00      1.00      1.00       100\n",
      "    T1135_530e47c6-8592-42bf-91df-c59ffbd8541b       0.00      0.00      0.00       100\n",
      "    T1135_deeac480-5c2a-42b5-90bb-41675ee53c7e       0.00      0.00      0.00       100\n",
      "    T1137.002_e2af3c3ab1b0f659c874b8af58c49759       1.00      1.00      1.00       100\n",
      "        T1137_12ad9edefc86af07700fbf49bfdac6ba       1.00      1.00      1.00       100\n",
      "        T1201_38f6f0e50a6b196140ec40d3dc9cc9e6       0.00      0.00      0.00       100\n",
      "        T1201_57296a2ddbeb7423c05feef2fe972111       0.00      0.00      0.00       100\n",
      "    T1204.002_522f3f35cd013e63830fa555495a0081       1.00      1.00      1.00       100\n",
      "        T1217_69bbe2183fa09c00ccaac62d48e214f8       0.00      0.00      0.00       100\n",
      "        T1217_f7a0f7d704aa52a764d9d1bee81e65d6       0.00      0.00      0.00       100\n",
      "        T1219_7dabcbecab0334b115feefab1630f84a       1.00      1.00      1.00       100\n",
      "        T1219_af8cb2bf9b436aae5c106a0a9c207e14       1.00      1.00      1.00       100\n",
      "        T1219_f1b3fca18d7465cd10e5a7477a3bf97d       1.00      1.00      1.00       100\n",
      "    T1482_6131397e-7765-424e-a594-3d7fb2d93a6a       0.00      0.00      0.00       100\n",
      "        T1482_cfb61005899996469ae3023796792ca5       0.00      0.00      0.00       100\n",
      "        T1486_d82ceb9939d3d920ee550187ad8235c8       0.00      0.00      0.00       100\n",
      "        T1490_2d53d6fabd39bf9c70b0dfcdfbbc926d       0.00      0.00      0.00       100\n",
      "        T1490_8467c994685ccf178db166964bd80fab       0.00      0.00      0.00       100\n",
      "        T1490_9e5e4c0655fd1b5be88bd40b8251175f       0.00      0.00      0.00       100\n",
      "        T1490_c156ac5c9fa67080365268d95f29053d       0.00      0.00      0.00       100\n",
      "        T1490_c8f329d2847ede593b6cb4a1ec6120fb       1.00      1.00      1.00       100\n",
      "        T1490_e90756bb6dcd21462dc4cc452661df91       0.00      0.00      0.00       100\n",
      "    T1491_47d08617-5ce1-424a-8cc5-c9c978ce6bf9       0.00      0.00      0.00       100\n",
      "    T1491_68235976-2404-42a8-9105-68230cfef562       0.00      0.00      0.00       100\n",
      "    T1496_46da2385-cf37-49cb-ba4b-a739c7a19de4       1.00      1.00      1.00       100\n",
      "T1497.001_1258b063-27d6-489b-a677-4807faacf868       0.00      0.00      0.00       100\n",
      "T1497.001_5dc841fd-28ad-40e2-b10e-fb007fe09e81       0.00      0.00      0.00       100\n",
      "T1497.001_7a6ba833-de40-466a-8969-5c37b13603e0       0.00      0.00      0.00       100\n",
      "    T1499_2fe2d5e6-7b06-4fc0-bf71-6966a1226731       0.00      0.00      0.00       100\n",
      "T1518.001_2dece965-37a0-4f70-a391-0f30e3331aba       0.00      0.00      0.00       100\n",
      "    T1518.001_33a24ff44719e6ac0614b58f8c9a7c72       0.00      0.00      0.00       100\n",
      "    T1518.001_b8453a5fe06b24aea12b27592d5c3d3a       0.00      0.00      0.00       100\n",
      "        T1518_8ddfaf982ab359cda13626b870ccb339       0.99      1.00      1.00       100\n",
      "    T1518_c9be8043-a445-4cbf-b77b-ed7bb007fc7c       0.00      0.00      0.00       100\n",
      "        T1531_aa6b15485a5f50ced34d87fda177b758       0.00      0.00      0.00       100\n",
      "        T1531_b25ae80dad74142fafb510e9c1949ace       0.00      0.00      0.00       100\n",
      "    T1546.013_f9a968af61d36983448c74cca5464e17       1.00      1.00      1.00       100\n",
      "    T1547.001_0dbdf1a2a87e718a6ac8a8e3415a7fac       1.00      1.00      1.00       100\n",
      "    T1547.001_163b023f43aba758d36f524d146cb8ea       1.00      1.00      1.00       100\n",
      "    T1547.001_1f15ab22c39a9b6bb2bb0d77276dfcb3       0.00      0.00      0.00       100\n",
      "    T1547.001_4b71ebb2f6f6a01235ba240fa40ce978       0.00      0.00      0.00       100\n",
      "    T1547.001_777043894e42d2aae3881e63f6c76d33       0.00      0.00      0.00       100\n",
      "    T1547.001_d3ef4145e4144fd694514b1c5cc17350       1.00      1.00      1.00       100\n",
      "    T1547.004_0856714c9810ac55b53e9964d02958a0       0.00      0.00      0.00       100\n",
      "    T1547.004_aa147165f6c116cb0b0f944abe1db8ce       0.00      0.00      0.00       100\n",
      "    T1547.009_501af516bd8b24fee0c7c650ae5cc861       0.00      0.00      0.00       100\n",
      "    T1547.009_b6e5c895c6709fe289352ee23f062229       0.00      0.00      0.00       100\n",
      "    T1547.010_4593d72a5145e3f494421ac772d37464       1.00      1.00      1.00       100\n",
      "        T1547_fe9eeee9a7b339089e5fa634b08522c1       1.00      1.00      1.00       100\n",
      "T1548.002_665432a4-42e7-4ee1-af19-a9a8c9455d0c       0.00      0.00      0.00       100\n",
      "    T1552.002_3e5b04b8ee0a1a4950da8f35d95e65fc       0.00      0.00      0.00       100\n",
      "        T1560_a1ee301b0508747b468d578a14e5c1a5       0.07      1.00      0.12       100\n",
      "    T1562.001_43e3334362b140924f001b256b229ee5       0.00      0.00      0.00       100\n",
      "    T1562.002_6a8d25d65a7d481dc479f89c62af1e6a       1.00      1.00      1.00       100\n",
      "    T1562.002_94f51bf01a7036fe02d07b4c18967669       0.00      0.00      0.00       100\n",
      "    T1562.004_280003641a5cddf916c4f2bf605a71d3       0.00      0.00      0.00       100\n",
      "    T1562.004_41627f71f968225b9f162cb76d16bd9d       0.00      0.00      0.00       100\n",
      "    T1562.004_5b93df032e230056c21a3e57334f77d1       0.00      0.00      0.00       100\n",
      "    T1562.004_8d0a4585e7c4646185a912b14cd9cb46       0.00      0.00      0.00       100\n",
      "    T1562.004_8fe59e288f10a486dc8b44bc872019ff       1.00      1.00      1.00       100\n",
      "    T1564.001_66a5fd5f244819181f074dd082a28905       0.00      0.00      0.00       100\n",
      "    T1564.001_dce51e632abdfe5392c7c1f942ac9273       0.49      0.98      0.66       100\n",
      "    T1564.003_9a2edad4053a2b59fb9167a9bc29e7dc       0.92      0.97      0.95       100\n",
      "    T1564.004_28862487a99f5f89bc0d68c87396c7e9       0.00      0.00      0.00       100\n",
      "    T1564.004_76b6066fe170d38215251102e42be973       0.00      0.00      0.00       100\n",
      "        T1564_dedfa0a54c9c13ce5714a0dc2e1f5d1a       0.00      0.00      0.00       100\n",
      "    T1566.001_1afaec09315ab71fdfb167175e8a019a       0.00      0.00      0.00       100\n",
      "    T1574.001_63bbedafba2f541552ac3579e9e3737b       1.00      1.00      1.00       100\n",
      "    T1574.011_72249c1e9ffe7d8f30243d838e0791ca       1.00      1.00      1.00       100\n",
      "                                        benign       0.00      0.00      0.00       100\n",
      "\n",
      "                                      accuracy                           0.38     16600\n",
      "                                     macro avg       0.36      0.38      0.37     16600\n",
      "                                  weighted avg       0.36      0.38      0.37     16600\n",
      "\n"
     ]
    },
    {
     "name": "stderr",
     "output_type": "stream",
     "text": [
      "/workdir/home/euni/.local/lib/python3.6/site-packages/sklearn/metrics/_classification.py:1248: UndefinedMetricWarning: Precision and F-score are ill-defined and being set to 0.0 in labels with no predicted samples. Use `zero_division` parameter to control this behavior.\n",
      "  _warn_prf(average, modifier, msg_start, len(result))\n",
      "/workdir/home/euni/.local/lib/python3.6/site-packages/sklearn/metrics/_classification.py:1248: UndefinedMetricWarning: Precision and F-score are ill-defined and being set to 0.0 in labels with no predicted samples. Use `zero_division` parameter to control this behavior.\n",
      "  _warn_prf(average, modifier, msg_start, len(result))\n"
     ]
    }
   ],
   "source": [
    "# load the pretrained model\n",
    "pretrained_model_path = '../checkpoint_GAT/best_model_GAT_transE_50.pt'\n",
    "model.load_state_dict(torch.load(pretrained_model_path))\n",
    "\n",
    "model.to(device)\n",
    "model.eval()\n",
    "\n",
    "total = 0\n",
    "correct = 0\n",
    "count = 0\n",
    "\n",
    "true_labels = []\n",
    "predicted_labels = []\n",
    "\n",
    "with torch.no_grad():\n",
    "    for data in tqdm(dataloaders['test'], desc=\"Testing\", position=0, leave=True):\n",
    "\n",
    "        loss, accuracy, predicted = model_fn(data, model, criterion, device, count, which_type='test')\n",
    "        labels = data[1].to(device)\n",
    "        \n",
    "        true_labels.extend(labels.cpu().numpy())\n",
    "        predicted_labels.extend(predicted.cpu().numpy())\n",
    "        \n",
    "        if count % 5000 == 0:\n",
    "            add_log_msg(f\"labels: {labels} {labels.shape}\")\n",
    "            add_log_msg(f\"predicted: {predicted} {predicted.shape}\")\n",
    "            \n",
    "        count += 1\n",
    "        \n",
    "        total += labels.size(0)\n",
    "        correct += (predicted == labels).sum().item()\n",
    "\n",
    "add_log_msg(f'Test Accuracy: {100 * correct / total} %\\n\\n\\n')\n",
    "\n",
    "\n",
    "# ======================================== handlig the output excel files ========================================\n",
    "mapping_file = './new_mapping.txt'\n",
    "label_mapping = {}\n",
    "with open(mapping_file, 'r') as f:\n",
    "    for line in f:\n",
    "        parts = line.strip().split(': ')\n",
    "        label_mapping[int(parts[1])] = parts[0]\n",
    "        \n",
    "# 将映射后的标签应用到true和predicted标签列表\n",
    "mapped_true_labels = [label_mapping[label] for label in true_labels]\n",
    "mapped_predicted_labels = [label_mapping[label] for label in predicted_labels]\n",
    "\n",
    "# 生成Scikit-learn报告信息的DataFrame\n",
    "report_data = classification_report(mapped_true_labels, mapped_predicted_labels, output_dict=True)\n",
    "report_df = pd.DataFrame(report_data).transpose()\n",
    "\n",
    "report_folder = 'classification_report'\n",
    "os.makedirs(report_folder, exist_ok=True)\n",
    "\n",
    "count = 0\n",
    "while True:\n",
    "    report_filename = f'classification_report-transE_50-{count}.xlsx'\n",
    "    labels_filename = f'mapped_true_predicted_labels-transE_50-{count}.xlsx'\n",
    "    \n",
    "    report_path = os.path.join(report_folder, report_filename)\n",
    "    labels_path = os.path.join(report_folder, labels_filename)\n",
    "    \n",
    "    if not os.path.exists(report_path) and not os.path.exists(labels_path):\n",
    "        break\n",
    "    count += 1\n",
    "\n",
    "    \n",
    "report_df.to_excel(report_path, index_label='Label')\n",
    "\n",
    "mapped_labels_df = pd.DataFrame({'true_label': mapped_true_labels, 'predicted_label': mapped_predicted_labels})\n",
    "mapped_labels_df.to_excel(labels_path, index=False)\n",
    "\n",
    "add_log_msg(f\"report path: {report_path}\")\n",
    "add_log_msg(f\"label path: {labels_path}\")\n",
    "\n",
    "mapped_report = classification_report(mapped_true_labels, mapped_predicted_labels)\n",
    "add_log_msg(f\"mapped_report:\\n{mapped_report}\")"
   ]
  },
  {
   "cell_type": "code",
   "execution_count": null,
   "metadata": {},
   "outputs": [],
   "source": []
  },
  {
   "cell_type": "code",
   "execution_count": null,
   "metadata": {},
   "outputs": [],
   "source": []
  }
 ],
 "metadata": {
  "kernelspec": {
   "display_name": "Python 3",
   "language": "python",
   "name": "python3"
  },
  "language_info": {
   "codemirror_mode": {
    "name": "ipython",
    "version": 3
   },
   "file_extension": ".py",
   "mimetype": "text/x-python",
   "name": "python",
   "nbconvert_exporter": "python",
   "pygments_lexer": "ipython3",
   "version": "3.6.9"
  }
 },
 "nbformat": 4,
 "nbformat_minor": 2
}
