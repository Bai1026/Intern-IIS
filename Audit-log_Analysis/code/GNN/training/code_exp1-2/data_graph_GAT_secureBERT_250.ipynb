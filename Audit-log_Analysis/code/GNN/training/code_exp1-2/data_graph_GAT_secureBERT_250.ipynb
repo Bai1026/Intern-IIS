{
 "cells": [
  {
   "cell_type": "markdown",
   "metadata": {},
   "source": [
    "# Test of GAT\n",
    "- use DGL\n",
    "- predict `graphs`\n",
    "- test: 0~99\n",
    "- validation: 100~199\n",
    "- train: 200~999\n",
    "- larger lr with scheduler\n",
    "- try the sklearn report"
   ]
  },
  {
   "cell_type": "code",
   "execution_count": 1,
   "metadata": {},
   "outputs": [],
   "source": [
    "import os\n",
    "import dgl\n",
    "import json\n",
    "import torch\n",
    "import torch as th\n",
    "# from tqdm import tqdm\n",
    "from tqdm.notebook import tqdm  # 使用 notebook 版本的 tqdm\n",
    "import torch.nn as nn\n",
    "from dgl.nn import GraphConv, GATConv\n",
    "import torch.nn.functional as F\n",
    "from torch.utils.data import Dataset, DataLoader\n",
    "from transformers import get_linear_schedule_with_warmup\n",
    "from torch.optim import AdamW\n",
    "from sklearn.metrics import classification_report\n"
   ]
  },
  {
   "cell_type": "markdown",
   "metadata": {},
   "source": [
    "- check the GPU and assign the GPU by the best memory usage"
   ]
  },
  {
   "cell_type": "code",
   "execution_count": 2,
   "metadata": {},
   "outputs": [
    {
     "name": "stdout",
     "output_type": "stream",
     "text": [
      "cuda:1\n"
     ]
    }
   ],
   "source": [
    "import subprocess\n",
    "import torch\n",
    "\n",
    "def get_free_gpu():\n",
    "    try:\n",
    "        # Run nvidia-smi command to get GPU details\n",
    "        _output_to_list = lambda x: x.decode('ascii').split('\\n')[:-1]\n",
    "        command = \"nvidia-smi --query-gpu=memory.free --format=csv,nounits,noheader\"\n",
    "        memory_free_info = _output_to_list(subprocess.check_output(command.split())) \n",
    "        memory_free_values = [int(x) for i, x in enumerate(memory_free_info)]\n",
    "        \n",
    "        # Get the GPU with the maximum free memory\n",
    "        best_gpu_id = memory_free_values.index(max(memory_free_values))\n",
    "        return best_gpu_id\n",
    "    except:\n",
    "        # If any exception occurs, default to GPU 0 (this handles cases where nvidia-smi isn't installed)\n",
    "        return 0\n",
    "\n",
    "if torch.cuda.is_available():\n",
    "    # Get the best GPU ID based on free memory and set it\n",
    "    best_gpu_id = get_free_gpu()\n",
    "    device = torch.device(f\"cuda:{best_gpu_id}\")\n",
    "else:\n",
    "    device = torch.device(\"cpu\")\n",
    "    print(\"there's no available GPU\")\n",
    "\n",
    "# device = torch.device(f\"cuda:1\")\n",
    "print(device)\n"
   ]
  },
  {
   "cell_type": "markdown",
   "metadata": {},
   "source": [
    "## Fix the seed"
   ]
  },
  {
   "cell_type": "code",
   "execution_count": 3,
   "metadata": {},
   "outputs": [],
   "source": [
    "import numpy as np\n",
    "import torch\n",
    "import random\n",
    "\n",
    "#fix seed\n",
    "def same_seeds(seed = 8787):\n",
    "    torch.manual_seed(seed)\n",
    "    # random.seed(seed) \n",
    "    if torch.cuda.is_available():\n",
    "        torch.cuda.manual_seed(seed)\n",
    "        torch.cuda.manual_seed_all(seed)  \n",
    "    np.random.seed(seed)  \n",
    "    torch.backends.cudnn.benchmark = False\n",
    "    torch.backends.cudnn.deterministic = True"
   ]
  },
  {
   "cell_type": "markdown",
   "metadata": {},
   "source": [
    "## Data Loader"
   ]
  },
  {
   "cell_type": "code",
   "execution_count": 4,
   "metadata": {},
   "outputs": [],
   "source": [
    "class GraphDataset(Dataset):\n",
    "    def __init__(self, data_list, device):\n",
    "        self.data_list = data_list\n",
    "        self.device = device\n",
    "\n",
    "    def __len__(self):\n",
    "        return len(self.data_list)\n",
    "    \n",
    "    def __getitem__(self, idx):\n",
    "        data = self.data_list[idx]\n",
    "\n",
    "        g = dgl.graph((th.tensor(data[\"edge_index\"][0]), th.tensor(data[\"edge_index\"][1])), num_nodes=data[\"num_nodes\"]).to(self.device)\n",
    "\n",
    "        g.ndata['feat'] = th.tensor(data[\"node_feat\"]).to(self.device)\n",
    "        g.edata['feat'] = th.tensor(data[\"edge_attr\"]).to(self.device)  # Add edge features to graph\n",
    "\n",
    "        return g, th.tensor(data[\"label\"]).to(self.device)\n",
    "\n",
    "\n",
    "def collate(samples):\n",
    "    # The input `samples` is a list of pairs\n",
    "    #  (graph, label).\n",
    "    graphs, labels = map(list, zip(*samples))\n",
    "    batched_graph = dgl.batch(graphs)\n",
    "    return batched_graph, torch.tensor(labels)\n"
   ]
  },
  {
   "cell_type": "code",
   "execution_count": 5,
   "metadata": {},
   "outputs": [
    {
     "data": {
      "application/vnd.jupyter.widget-view+json": {
       "model_id": "c9077d9db6924404b474199ef8fb9e9e",
       "version_major": 2,
       "version_minor": 0
      },
      "text/plain": [
       "  0%|          | 0/3 [00:00<?, ?it/s]"
      ]
     },
     "metadata": {},
     "output_type": "display_data"
    },
    {
     "name": "stdout",
     "output_type": "stream",
     "text": [
      "../../data_processing/dgl/data_new/training_data/exp_2/secureBERT/train.jsonl\n"
     ]
    },
    {
     "data": {
      "application/vnd.jupyter.widget-view+json": {
       "model_id": "da6236056ae24b66b5c53a33342fe05b",
       "version_major": 2,
       "version_minor": 0
      },
      "text/plain": [
       "0it [00:00, ?it/s]"
      ]
     },
     "metadata": {},
     "output_type": "display_data"
    },
    {
     "name": "stdout",
     "output_type": "stream",
     "text": [
      "../../data_processing/dgl/data_new/training_data/exp_2/secureBERT/valid.jsonl\n"
     ]
    },
    {
     "data": {
      "application/vnd.jupyter.widget-view+json": {
       "model_id": "a72e5e9d6a61430795a1c412c984ec0c",
       "version_major": 2,
       "version_minor": 0
      },
      "text/plain": [
       "0it [00:00, ?it/s]"
      ]
     },
     "metadata": {},
     "output_type": "display_data"
    },
    {
     "name": "stdout",
     "output_type": "stream",
     "text": [
      "../../data_processing/dgl/data_new/training_data/exp_2/secureBERT/test.jsonl\n"
     ]
    },
    {
     "data": {
      "application/vnd.jupyter.widget-view+json": {
       "model_id": "ed841a99f9a04265afbfdc814b414205",
       "version_major": 2,
       "version_minor": 0
      },
      "text/plain": [
       "0it [00:00, ?it/s]"
      ]
     },
     "metadata": {},
     "output_type": "display_data"
    },
    {
     "name": "stdout",
     "output_type": "stream",
     "text": [
      "Datasets loaded!\n"
     ]
    }
   ],
   "source": [
    "datasets = ['train', 'valid', 'test']\n",
    "# datasets = ['test']\n",
    "dataset_data = {}\n",
    "\n",
    "for dataset_name in tqdm(datasets):\n",
    "#     file_path = f\"../../data_processing/dgl/data/test_graph/repeated_{dataset_name}.jsonl\"\n",
    "    file_path = f\"../../data_processing/dgl/data_new/training_data/exp_2/secureBERT/{dataset_name}.jsonl\"\n",
    "    \n",
    "    print(file_path)\n",
    "    with open(file_path) as f:\n",
    "        data_list = [json.loads(line) for line in tqdm(f, position=0, leave=True)]\n",
    "    \n",
    "    dataset_data[dataset_name] = GraphDataset(data_list, device)\n",
    "\n",
    "print(\"Datasets loaded!\")"
   ]
  },
  {
   "cell_type": "markdown",
   "metadata": {},
   "source": [
    "- choose batch size"
   ]
  },
  {
   "cell_type": "code",
   "execution_count": 6,
   "metadata": {},
   "outputs": [
    {
     "name": "stdout",
     "output_type": "stream",
     "text": [
      "Error data!!\n"
     ]
    }
   ],
   "source": [
    "def create_dataloaders(batch_size, shuffle=True):\n",
    "    dataloaders = {}\n",
    "    for dataset_name, dataset in dataset_data.items():\n",
    "        # do not shuffle the testing dataset\n",
    "        if dataset_name == \"test\":\n",
    "            dataloaders[dataset_name] = DataLoader(dataset, batch_size=batch_size, shuffle=False, collate_fn=collate)    \n",
    "        else:\n",
    "            dataloaders[dataset_name] = DataLoader(dataset, batch_size=batch_size, shuffle=shuffle, collate_fn=collate)\n",
    "    return dataloaders\n",
    "\n",
    "# dataloaders = create_dataloaders(4)\n",
    "dataloaders = create_dataloaders(16)\n",
    "\n",
    "\n",
    "if (len(dataloaders['test'].dataset) + len(dataloaders['valid'].dataset) + len(dataloaders['train'].dataset)) % 165 != 0: print(\"Error data!!\")\n",
    "else: print(\"OK!\")\n"
   ]
  },
  {
   "cell_type": "markdown",
   "metadata": {},
   "source": [
    "- Turn the print message to a log file"
   ]
  },
  {
   "cell_type": "code",
   "execution_count": 7,
   "metadata": {},
   "outputs": [
    {
     "name": "stdout",
     "output_type": "stream",
     "text": [
      "(Graph(num_nodes=10, num_edges=19,\n",
      "      ndata_schemes={'feat': Scheme(shape=(250,), dtype=torch.float32)}\n",
      "      edata_schemes={'feat': Scheme(shape=(26,), dtype=torch.float32)}), tensor(6, device='cuda:1'))\n",
      "16600\n",
      "16600\n",
      "132800\n",
      "166000\n"
     ]
    }
   ],
   "source": [
    "# print(dataloaders['test'][5])\n",
    "sample = dataset_data['train'][5000]\n",
    "print(sample)\n",
    "\n",
    "print(len(dataloaders['test'].dataset))\n",
    "print(len(dataloaders['valid'].dataset))\n",
    "print(len(dataloaders['train'].dataset))\n",
    "print(len(dataloaders['test'].dataset) + len(dataloaders['valid'].dataset) + len(dataloaders['train'].dataset))"
   ]
  },
  {
   "cell_type": "code",
   "execution_count": 8,
   "metadata": {},
   "outputs": [
    {
     "name": "stdout",
     "output_type": "stream",
     "text": [
      "../log_message/0901_22:20_GAT_secureBERT.log\n"
     ]
    }
   ],
   "source": [
    "import datetime\n",
    "\n",
    "now = datetime.datetime.now()\n",
    "\n",
    "formatted_time = now.strftime(\"%m%d_%H:%M\")\n",
    "\n",
    "log_file_path = f\"../log_message/{formatted_time}_GAT_secureBERT.log\"\n",
    "\n",
    "def add_log_msg(msg, log_file_path=log_file_path):\n",
    "    with open(log_file_path, 'a') as f:\n",
    "        f.write(f'{datetime.datetime.now().strftime(\"%m/%d/%Y, %H:%M:%S\")}# {msg}\\n')\n",
    "    print(f'{datetime.datetime.now().strftime(\"%m/%d/%Y, %H:%M:%S\")}# {msg}')\n",
    "\n",
    "print(log_file_path)"
   ]
  },
  {
   "cell_type": "markdown",
   "metadata": {},
   "source": [
    "### Model"
   ]
  },
  {
   "cell_type": "code",
   "execution_count": 9,
   "metadata": {},
   "outputs": [],
   "source": [
    "class GAT(nn.Module):\n",
    "    def __init__(self, in_dim, hidden_dim, out_dim, num_heads, dropout_prob=0.25):\n",
    "        super(GAT, self).__init__()\n",
    "        \n",
    "        # do not check the zero in_degree since we have all the complete graph\n",
    "        self.layer1 = GATConv(in_dim, hidden_dim, num_heads=num_heads, activation=F.relu, allow_zero_in_degree=True)\n",
    "        self.layer2 = GATConv(hidden_dim * num_heads, out_dim, num_heads=num_heads, allow_zero_in_degree=True)\n",
    "        \n",
    "        # Adding Batch Normalization after each GAT layer\n",
    "        self.batchnorm1 = nn.BatchNorm1d(hidden_dim * num_heads)\n",
    "        self.batchnorm2 = nn.BatchNorm1d(out_dim)\n",
    "        \n",
    "        # Adding Dropout for regularization\n",
    "        self.dropout = nn.Dropout(dropout_prob)\n",
    "\n",
    "    def forward(self, g, h):\n",
    "        # Apply GAT layers\n",
    "        h = self.layer1(g, h)\n",
    "        h = h.view(h.shape[0], -1)\n",
    "        h = F.relu(h)\n",
    "        h = self.dropout(h)\n",
    "        h = self.layer2(g, h).squeeze(1)\n",
    "        \n",
    "        # Store the output as a new node feature\n",
    "        g.ndata['h_out'] = h\n",
    "\n",
    "        # Use mean pooling to aggregate this new node feature\n",
    "        h_agg = dgl.mean_nodes(g, feat='h_out')\n",
    "        return h_agg\n",
    "\n",
    "    "
   ]
  },
  {
   "cell_type": "markdown",
   "metadata": {},
   "source": [
    "- Model Forward  "
   ]
  },
  {
   "cell_type": "code",
   "execution_count": 10,
   "metadata": {},
   "outputs": [],
   "source": [
    "def model_fn(data, model, criterion, device, count=1, which_type='train'):\n",
    "    \"\"\"Forward a batch through the model.\"\"\"\n",
    "    batched_g, labels = data\n",
    "    batched_g = batched_g.to(device)\n",
    "    \n",
    "    labels = labels.to(device)\n",
    "    logits = model(batched_g, batched_g.ndata['feat'].float()) # for GAT\n",
    "    logits = logits.mean(dim=1)\n",
    "    \n",
    "    loss = criterion(logits, labels)\n",
    "\n",
    "    # Get the class id with the highest probability\n",
    "    preds = logits.argmax(1)\n",
    "    \n",
    "    # Compute accuracy\n",
    "    accuracy = torch.mean((preds == labels).float())\n",
    "    \n",
    "    if which_type == 'validation' and count % 1000 == 0:\n",
    "        add_log_msg(f\"labels of Validation: {labels} {labels.shape}\")\n",
    "        add_log_msg(f\"predicted of Validation: {preds} {preds.shape}\")\n",
    "        \n",
    "    elif which_type == 'test'  and count % 1000 == 0:\n",
    "        add_log_msg(f\"labels of Test: {labels} {labels.shape}\")\n",
    "        add_log_msg(f\"predicted of Test: {preds} {preds.shape}\")\n",
    "        \n",
    "    if count % 5000 == 0: \n",
    "        add_log_msg(f\"labels of {count}: {labels} {labels.shape}\")\n",
    "        add_log_msg(f\"predicted of {count}: {preds} {preds.shape}\")\n",
    "        \n",
    "    return loss, accuracy, preds"
   ]
  },
  {
   "cell_type": "markdown",
   "metadata": {},
   "source": [
    "### Training"
   ]
  },
  {
   "cell_type": "markdown",
   "metadata": {},
   "source": [
    "- Fix the seed and save the model.state_dict that contains the initial weight"
   ]
  },
  {
   "cell_type": "code",
   "execution_count": 11,
   "metadata": {},
   "outputs": [],
   "source": [
    "seed = 8787\n",
    "same_seeds(seed)\n",
    "\n",
    "model = GAT(in_dim=250, hidden_dim=16, out_dim=168, num_heads=8)\n",
    "torch.save(model.state_dict(), 'model1_initial/initial_weight.pth')"
   ]
  },
  {
   "cell_type": "code",
   "execution_count": 12,
   "metadata": {},
   "outputs": [
    {
     "data": {
      "text/plain": [
       "Parameter containing:\n",
       "tensor([[ 0.1130,  0.1029, -0.0489,  ..., -0.1576,  0.2476,  0.0663],\n",
       "        [-0.0178,  0.0151,  0.0523,  ...,  0.0613,  0.0796,  0.2273],\n",
       "        [ 0.0609,  0.1001,  0.0522,  ..., -0.0683,  0.1280,  0.1746],\n",
       "        ...,\n",
       "        [-0.0409,  0.0027,  0.1429,  ..., -0.0410, -0.0283,  0.0697],\n",
       "        [-0.0826,  0.0180, -0.0428,  ...,  0.0544, -0.0835, -0.0064],\n",
       "        [ 0.0226,  0.1269, -0.0068,  ...,  0.0734, -0.0593, -0.2467]],\n",
       "       requires_grad=True)"
      ]
     },
     "execution_count": 12,
     "metadata": {},
     "output_type": "execute_result"
    }
   ],
   "source": [
    "model.layer1.fc.weight"
   ]
  },
  {
   "cell_type": "markdown",
   "metadata": {},
   "source": [
    "- Check if model really load the model_dict"
   ]
  },
  {
   "cell_type": "code",
   "execution_count": 13,
   "metadata": {},
   "outputs": [
    {
     "data": {
      "text/plain": [
       "Parameter containing:\n",
       "tensor([[ 0.1130,  0.1029, -0.0489,  ..., -0.1576,  0.2476,  0.0663],\n",
       "        [-0.0178,  0.0151,  0.0523,  ...,  0.0613,  0.0796,  0.2273],\n",
       "        [ 0.0609,  0.1001,  0.0522,  ..., -0.0683,  0.1280,  0.1746],\n",
       "        ...,\n",
       "        [-0.0409,  0.0027,  0.1429,  ..., -0.0410, -0.0283,  0.0697],\n",
       "        [-0.0826,  0.0180, -0.0428,  ...,  0.0544, -0.0835, -0.0064],\n",
       "        [ 0.0226,  0.1269, -0.0068,  ...,  0.0734, -0.0593, -0.2467]],\n",
       "       requires_grad=True)"
      ]
     },
     "execution_count": 13,
     "metadata": {},
     "output_type": "execute_result"
    }
   ],
   "source": [
    "model = GAT(in_dim=250, hidden_dim=16, out_dim=168, num_heads=8)\n",
    "model.load_state_dict(torch.load('model1_initial/initial_weight.pth'))\n",
    "model.layer1.fc.weight"
   ]
  },
  {
   "cell_type": "markdown",
   "metadata": {},
   "source": [
    "### test of valid and test part is ``graph``"
   ]
  },
  {
   "cell_type": "markdown",
   "metadata": {},
   "source": [
    "- Batch size = 4\n",
    "- use large lr and scheduler"
   ]
  },
  {
   "cell_type": "code",
   "execution_count": null,
   "metadata": {
    "scrolled": true
   },
   "outputs": [
    {
     "data": {
      "application/vnd.jupyter.widget-view+json": {
       "model_id": "1ddac839ec874c10960e126d868ea6c6",
       "version_major": 2,
       "version_minor": 0
      },
      "text/plain": [
       "  0%|          | 0/35 [00:00<?, ?it/s]"
      ]
     },
     "metadata": {},
     "output_type": "display_data"
    },
    {
     "data": {
      "application/vnd.jupyter.widget-view+json": {
       "model_id": "bcedd3ec19bc4784b58a778d5676e2b2",
       "version_major": 2,
       "version_minor": 0
      },
      "text/plain": [
       "Training:   0%|          | 0/8300 [00:00<?, ?it/s]"
      ]
     },
     "metadata": {},
     "output_type": "display_data"
    },
    {
     "name": "stdout",
     "output_type": "stream",
     "text": [
      "09/01/2023, 22:23:18# labels of 5000: tensor([ 83,   1,  38, 163,  56,  82,  37,  39, 121,  46, 145,  95,  16, 103,\n",
      "         83,  35], device='cuda:1') torch.Size([16])\n",
      "09/01/2023, 22:23:18# predicted of 5000: tensor([132,  28, 132,   6,  65, 154, 109,  95,   6, 132,   3,  95,  70, 132,\n",
      "        132, 159], device='cuda:1') torch.Size([16])\n",
      "09/01/2023, 22:24:35# total batches: 8300\n",
      "09/01/2023, 22:24:35# Epoch 0 | Train Loss: 4.4051 | Train Accuracy: 0.0390\n"
     ]
    },
    {
     "data": {
      "application/vnd.jupyter.widget-view+json": {
       "model_id": "6e1f3a64f14b4af2bf348544efa16f13",
       "version_major": 2,
       "version_minor": 0
      },
      "text/plain": [
       "Validation:   0%|          | 0/1038 [00:00<?, ?it/s]"
      ]
     },
     "metadata": {},
     "output_type": "display_data"
    },
    {
     "name": "stdout",
     "output_type": "stream",
     "text": [
      "09/01/2023, 22:24:35# labels of Validation: tensor([ 66, 122,  78,  20, 139,  17,  71,  52,  26,  46,   0, 127, 124, 124,\n",
      "        132,  74], device='cuda:1') torch.Size([16])\n",
      "09/01/2023, 22:24:35# predicted of Validation: tensor([132, 115,  56, 132, 132,  17, 132,  52, 132, 132,  35, 120, 132, 132,\n",
      "        132, 132], device='cuda:1') torch.Size([16])\n",
      "09/01/2023, 22:24:35# labels of 0: tensor([ 66, 122,  78,  20, 139,  17,  71,  52,  26,  46,   0, 127, 124, 124,\n",
      "        132,  74], device='cuda:1') torch.Size([16])\n",
      "09/01/2023, 22:24:35# predicted of 0: tensor([132, 115,  56, 132, 132,  17, 132,  52, 132, 132,  35, 120, 132, 132,\n",
      "        132, 132], device='cuda:1') torch.Size([16])\n",
      "09/01/2023, 22:24:53# labels of Validation: tensor([132, 103, 149,  28,  57, 135,  50,  39,  13,  59,  94, 156,  75, 121,\n",
      "         29,  58], device='cuda:1') torch.Size([16])\n",
      "09/01/2023, 22:24:53# predicted of Validation: tensor([132, 132, 118, 132, 132, 132,  56, 120, 120, 132,  56,  17, 132, 132,\n",
      "         29, 132], device='cuda:1') torch.Size([16])\n",
      "09/01/2023, 22:24:53# Validation Loss: 4.1475 | Validation Accuracy: 0.0671\n",
      "\n",
      "09/01/2023, 22:24:53# Find a better model!!\n"
     ]
    },
    {
     "data": {
      "application/vnd.jupyter.widget-view+json": {
       "model_id": "6288a5266b5d4b0ca447994cf97d4123",
       "version_major": 2,
       "version_minor": 0
      },
      "text/plain": [
       "Training:   0%|          | 0/8300 [00:00<?, ?it/s]"
      ]
     },
     "metadata": {},
     "output_type": "display_data"
    },
    {
     "name": "stdout",
     "output_type": "stream",
     "text": [
      "09/01/2023, 22:26:53# labels of 5000: tensor([ 48, 161,  92,   7, 163,  63,  12,  12,  79,  43,  54,  96, 150, 163,\n",
      "         89, 143], device='cuda:1') torch.Size([16])\n",
      "09/01/2023, 22:26:53# predicted of 5000: tensor([ 92, 161, 161,   7, 161, 161,  12, 161, 115, 161,  12,  80, 161,  12,\n",
      "        145,  92], device='cuda:1') torch.Size([16])\n",
      "09/01/2023, 22:28:14# total batches: 8300\n",
      "09/01/2023, 22:28:14# Epoch 1 | Train Loss: 4.0937 | Train Accuracy: 0.0780\n"
     ]
    },
    {
     "data": {
      "application/vnd.jupyter.widget-view+json": {
       "model_id": "0142465d617241ad832414f8640f9c71",
       "version_major": 2,
       "version_minor": 0
      },
      "text/plain": [
       "Validation:   0%|          | 0/1038 [00:00<?, ?it/s]"
      ]
     },
     "metadata": {},
     "output_type": "display_data"
    },
    {
     "name": "stdout",
     "output_type": "stream",
     "text": [
      "09/01/2023, 22:28:14# labels of Validation: tensor([ 24,  82,  18,  94,  65, 144, 111,  52,  21, 154,  19,  60, 143,  66,\n",
      "          9, 115], device='cuda:1') torch.Size([16])\n",
      "09/01/2023, 22:28:14# predicted of Validation: tensor([133,  82, 133,  27, 133, 133, 133, 165,   6,  82, 133, 133, 133,   6,\n",
      "        133, 127], device='cuda:1') torch.Size([16])\n",
      "09/01/2023, 22:28:14# labels of 0: tensor([ 24,  82,  18,  94,  65, 144, 111,  52,  21, 154,  19,  60, 143,  66,\n",
      "          9, 115], device='cuda:1') torch.Size([16])\n",
      "09/01/2023, 22:28:14# predicted of 0: tensor([133,  82, 133,  27, 133, 133, 133, 165,   6,  82, 133, 133, 133,   6,\n",
      "        133, 127], device='cuda:1') torch.Size([16])\n",
      "09/01/2023, 22:28:32# labels of Validation: tensor([140,  36, 139, 151, 113, 138,  54, 164,   1,  20, 112,   2, 148,  56,\n",
      "         90,  55], device='cuda:1') torch.Size([16])\n",
      "09/01/2023, 22:28:32# predicted of Validation: tensor([136, 133, 133, 133,   6, 138, 133, 133, 133, 133, 133, 133,   6,  27,\n",
      "          6, 133], device='cuda:1') torch.Size([16])\n",
      "09/01/2023, 22:28:32# Validation Loss: 4.0029 | Validation Accuracy: 0.0860\n",
      "\n",
      "09/01/2023, 22:28:32# Find a better model!!\n"
     ]
    },
    {
     "data": {
      "application/vnd.jupyter.widget-view+json": {
       "model_id": "6c566880decb4466871e5f2e2378e9b9",
       "version_major": 2,
       "version_minor": 0
      },
      "text/plain": [
       "Training:   0%|          | 0/8300 [00:00<?, ?it/s]"
      ]
     },
     "metadata": {},
     "output_type": "display_data"
    },
    {
     "name": "stdout",
     "output_type": "stream",
     "text": [
      "09/01/2023, 22:30:33# labels of 5000: tensor([ 36,  11,  98,  14,  89,  91, 118, 106, 111, 131, 100, 125,  17, 138,\n",
      "        151, 164], device='cuda:1') torch.Size([16])\n",
      "09/01/2023, 22:30:33# predicted of 5000: tensor([ 21,  21,  21,  21,  15, 132, 118,   7, 152, 132, 152,  21,  17, 138,\n",
      "         81,  21], device='cuda:1') torch.Size([16])\n",
      "09/01/2023, 22:31:52# total batches: 8300\n",
      "09/01/2023, 22:31:52# Epoch 2 | Train Loss: 4.0068 | Train Accuracy: 0.0907\n"
     ]
    },
    {
     "data": {
      "application/vnd.jupyter.widget-view+json": {
       "model_id": "5a78b3f27eaf4560ac4e129b8228b9bb",
       "version_major": 2,
       "version_minor": 0
      },
      "text/plain": [
       "Validation:   0%|          | 0/1038 [00:00<?, ?it/s]"
      ]
     },
     "metadata": {},
     "output_type": "display_data"
    },
    {
     "name": "stdout",
     "output_type": "stream",
     "text": [
      "09/01/2023, 22:31:52# labels of Validation: tensor([ 11,  20,  99,  79,  28,  69,  23,  23, 120, 154,   8, 145,  60, 124,\n",
      "         21,  29], device='cuda:1') torch.Size([16])\n",
      "09/01/2023, 22:31:52# predicted of Validation: tensor([113, 113,  99,  78,  28,  69, 136, 140,  78, 156,  28, 136, 113, 113,\n",
      "         28, 122], device='cuda:1') torch.Size([16])\n",
      "09/01/2023, 22:31:52# labels of 0: tensor([ 11,  20,  99,  79,  28,  69,  23,  23, 120, 154,   8, 145,  60, 124,\n",
      "         21,  29], device='cuda:1') torch.Size([16])\n",
      "09/01/2023, 22:31:52# predicted of 0: tensor([113, 113,  99,  78,  28,  69, 136, 140,  78, 156,  28, 136, 113, 113,\n",
      "         28, 122], device='cuda:1') torch.Size([16])\n",
      "09/01/2023, 22:32:11# labels of Validation: tensor([158,  10,  74,  89, 163, 126,  66,  84, 145, 109,  57, 146, 137,  85,\n",
      "         27,  87], device='cuda:1') torch.Size([16])\n",
      "09/01/2023, 22:32:11# predicted of Validation: tensor([113, 113, 113,  32, 113,  32,  28, 136, 140, 113, 113, 136, 113,  70,\n",
      "         78, 113], device='cuda:1') torch.Size([16])\n",
      "09/01/2023, 22:32:12# Validation Loss: 3.9324 | Validation Accuracy: 0.1030\n",
      "\n",
      "09/01/2023, 22:32:12# Find a better model!!\n"
     ]
    },
    {
     "data": {
      "application/vnd.jupyter.widget-view+json": {
       "model_id": "d4164238ef9c43bd8ae615929458d5ca",
       "version_major": 2,
       "version_minor": 0
      },
      "text/plain": [
       "Training:   0%|          | 0/8300 [00:00<?, ?it/s]"
      ]
     },
     "metadata": {},
     "output_type": "display_data"
    },
    {
     "name": "stdout",
     "output_type": "stream",
     "text": [
      "09/01/2023, 22:34:09# labels of 5000: tensor([ 70, 104, 104,  86,   3, 153, 140, 145,  55,  26,  19, 127,   6,  56,\n",
      "        101,  28], device='cuda:1') torch.Size([16])\n",
      "09/01/2023, 22:34:09# predicted of 5000: tensor([ 70, 161, 161,  26,  80, 161,  99,  80, 161, 161, 161,  29, 166, 130,\n",
      "         26, 161], device='cuda:1') torch.Size([16])\n",
      "09/01/2023, 22:35:27# total batches: 8300\n",
      "09/01/2023, 22:35:27# Epoch 3 | Train Loss: 3.9578 | Train Accuracy: 0.0976\n"
     ]
    },
    {
     "data": {
      "application/vnd.jupyter.widget-view+json": {
       "model_id": "1cd26a57835446ccacbe4425c66d4286",
       "version_major": 2,
       "version_minor": 0
      },
      "text/plain": [
       "Validation:   0%|          | 0/1038 [00:00<?, ?it/s]"
      ]
     },
     "metadata": {},
     "output_type": "display_data"
    },
    {
     "name": "stdout",
     "output_type": "stream",
     "text": [
      "09/01/2023, 22:35:27# labels of Validation: tensor([135, 166,  69,  85,  17, 123,  79, 113, 108,  96, 148,  18, 111,  30,\n",
      "         44, 133], device='cuda:1') torch.Size([16])\n",
      "09/01/2023, 22:35:27# predicted of Validation: tensor([ 54, 132,  69,  16,  17, 123, 120,  91, 132,  80,  91,  54,  54,  54,\n",
      "         54,  91], device='cuda:1') torch.Size([16])\n",
      "09/01/2023, 22:35:27# labels of 0: tensor([135, 166,  69,  85,  17, 123,  79, 113, 108,  96, 148,  18, 111,  30,\n",
      "         44, 133], device='cuda:1') torch.Size([16])\n",
      "09/01/2023, 22:35:27# predicted of 0: tensor([ 54, 132,  69,  16,  17, 123, 120,  91, 132,  80,  91,  54,  54,  54,\n",
      "         54,  91], device='cuda:1') torch.Size([16])\n",
      "09/01/2023, 22:35:45# labels of Validation: tensor([144, 138, 149, 138,  88,  65, 124,  57,  26, 158, 120,   8,  14, 116,\n",
      "        141,  12], device='cuda:1') torch.Size([16])\n",
      "09/01/2023, 22:35:45# predicted of Validation: tensor([ 54, 138, 118,  16,  91,  54,  54,  54,  54,  54, 120,  91,  54,  54,\n",
      "         91,  54], device='cuda:1') torch.Size([16])\n",
      "09/01/2023, 22:35:46# Validation Loss: 3.9035 | Validation Accuracy: 0.0959\n",
      "\n",
      "09/01/2023, 22:35:46# Find a better model!!\n"
     ]
    },
    {
     "data": {
      "application/vnd.jupyter.widget-view+json": {
       "model_id": "a72a1e0b057e46e48c27470ab077264d",
       "version_major": 2,
       "version_minor": 0
      },
      "text/plain": [
       "Training:   0%|          | 0/8300 [00:00<?, ?it/s]"
      ]
     },
     "metadata": {},
     "output_type": "display_data"
    },
    {
     "name": "stdout",
     "output_type": "stream",
     "text": [
      "09/01/2023, 22:37:45# labels of 5000: tensor([133, 111,  64,   7,  26, 147,  83,  43, 113,  37,  71,  14,  25,  54,\n",
      "         99,  71], device='cuda:1') torch.Size([16])\n",
      "09/01/2023, 22:37:45# predicted of 5000: tensor([ 38, 139, 132,  52,  38,  61,  28, 139, 132, 132,  28, 139,  96,  38,\n",
      "         96,  28], device='cuda:1') torch.Size([16])\n",
      "09/01/2023, 22:39:03# total batches: 8300\n",
      "09/01/2023, 22:39:03# Epoch 4 | Train Loss: 3.9278 | Train Accuracy: 0.1025\n"
     ]
    },
    {
     "data": {
      "application/vnd.jupyter.widget-view+json": {
       "model_id": "205c3fbdc25c470e88f2e840b2fdb286",
       "version_major": 2,
       "version_minor": 0
      },
      "text/plain": [
       "Validation:   0%|          | 0/1038 [00:00<?, ?it/s]"
      ]
     },
     "metadata": {},
     "output_type": "display_data"
    },
    {
     "name": "stdout",
     "output_type": "stream",
     "text": [
      "09/01/2023, 22:39:03# labels of Validation: tensor([ 13, 109, 156,  57, 139, 140,   9, 155,  49,  49,  81, 140,  62,  78,\n",
      "         34,  44], device='cuda:1') torch.Size([16])\n",
      "09/01/2023, 22:39:03# predicted of Validation: tensor([ 40,  20, 156,  20,  20,   3,  20,  28,  20,  20,  20,   3,  40,  40,\n",
      "         20,  20], device='cuda:1') torch.Size([16])\n",
      "09/01/2023, 22:39:03# labels of 0: tensor([ 13, 109, 156,  57, 139, 140,   9, 155,  49,  49,  81, 140,  62,  78,\n",
      "         34,  44], device='cuda:1') torch.Size([16])\n",
      "09/01/2023, 22:39:03# predicted of 0: tensor([ 40,  20, 156,  20,  20,   3,  20,  28,  20,  20,  20,   3,  40,  40,\n",
      "         20,  20], device='cuda:1') torch.Size([16])\n",
      "09/01/2023, 22:39:21# labels of Validation: tensor([161,  49,   3,  75, 118, 147,  61,  77,   3,  87, 128,  95, 141, 142,\n",
      "         54,  26], device='cuda:1') torch.Size([16])\n",
      "09/01/2023, 22:39:21# predicted of Validation: tensor([ 28,  20,   3,  20, 118, 136,  40,  28, 136,  20, 156,  40, 103,  20,\n",
      "         20,  20], device='cuda:1') torch.Size([16])\n",
      "09/01/2023, 22:39:22# Validation Loss: 3.8757 | Validation Accuracy: 0.1145\n",
      "\n",
      "09/01/2023, 22:39:22# Find a better model!!\n"
     ]
    },
    {
     "data": {
      "application/vnd.jupyter.widget-view+json": {
       "model_id": "3c757346fc114910b1b25699663838d3",
       "version_major": 2,
       "version_minor": 0
      },
      "text/plain": [
       "Training:   0%|          | 0/8300 [00:00<?, ?it/s]"
      ]
     },
     "metadata": {},
     "output_type": "display_data"
    },
    {
     "name": "stdout",
     "output_type": "stream",
     "text": [
      "09/01/2023, 22:41:20# labels of 5000: tensor([ 32,  31,  93, 161,  40, 161,  84, 163, 130,  41, 100,  77, 158,  63,\n",
      "         28, 119], device='cuda:1') torch.Size([16])\n",
      "09/01/2023, 22:41:20# predicted of 5000: tensor([115,  71, 161, 107,  84, 107, 130,  64,  23,  64, 161, 132,  64,  64,\n",
      "        132,  64], device='cuda:1') torch.Size([16])\n",
      "09/01/2023, 22:42:38# total batches: 8300\n",
      "09/01/2023, 22:42:38# Epoch 5 | Train Loss: 3.9024 | Train Accuracy: 0.1060\n"
     ]
    },
    {
     "data": {
      "application/vnd.jupyter.widget-view+json": {
       "model_id": "ba319b4a3aa24f7eba43bf95ed2cd506",
       "version_major": 2,
       "version_minor": 0
      },
      "text/plain": [
       "Validation:   0%|          | 0/1038 [00:00<?, ?it/s]"
      ]
     },
     "metadata": {},
     "output_type": "display_data"
    },
    {
     "name": "stdout",
     "output_type": "stream",
     "text": [
      "09/01/2023, 22:42:38# labels of Validation: tensor([ 78,  73,  47,  67,  12,  29,  44,  23,  11, 141,  30,  25, 118,   9,\n",
      "         65,  49], device='cuda:1') torch.Size([16])\n",
      "09/01/2023, 22:42:38# predicted of Validation: tensor([  0, 117,  74,  27,  74,  29,  74,   3,  74, 108,  74,  17, 149,  74,\n",
      "         74,  74], device='cuda:1') torch.Size([16])\n",
      "09/01/2023, 22:42:38# labels of 0: tensor([ 78,  73,  47,  67,  12,  29,  44,  23,  11, 141,  30,  25, 118,   9,\n",
      "         65,  49], device='cuda:1') torch.Size([16])\n",
      "09/01/2023, 22:42:38# predicted of 0: tensor([  0, 117,  74,  27,  74,  29,  74,   3,  74, 108,  74,  17, 149,  74,\n",
      "         74,  74], device='cuda:1') torch.Size([16])\n",
      "09/01/2023, 22:42:56# labels of Validation: tensor([  0,   6, 126,   2,  43,  20,  38,   8,  79,   4,  99,  92,   5, 127,\n",
      "         60,  58], device='cuda:1') torch.Size([16])\n",
      "09/01/2023, 22:42:56# predicted of Validation: tensor([ 79, 132, 117,  74,  74,  74,  74, 108,  32,  74,  99,  74, 120, 128,\n",
      "         74,  74], device='cuda:1') torch.Size([16])\n",
      "09/01/2023, 22:42:57# Validation Loss: 3.8508 | Validation Accuracy: 0.1201\n",
      "\n",
      "09/01/2023, 22:42:57# Find a better model!!\n"
     ]
    },
    {
     "data": {
      "application/vnd.jupyter.widget-view+json": {
       "model_id": "b5bb418d090f4dd4a1fc3c2a0bc23c63",
       "version_major": 2,
       "version_minor": 0
      },
      "text/plain": [
       "Training:   0%|          | 0/8300 [00:00<?, ?it/s]"
      ]
     },
     "metadata": {},
     "output_type": "display_data"
    },
    {
     "name": "stdout",
     "output_type": "stream",
     "text": [
      "09/01/2023, 22:44:56# labels of 5000: tensor([159,  39, 161, 115, 127,  33, 143, 163, 101, 114, 164, 138,  10,  85,\n",
      "        155,  53], device='cuda:1') torch.Size([16])\n",
      "09/01/2023, 22:44:56# predicted of 5000: tensor([122,  13, 101,  62,  32,  66,  36,  66, 132,  36,  66, 138,  66,  70,\n",
      "        132,  36], device='cuda:1') torch.Size([16])\n",
      "09/01/2023, 22:46:15# total batches: 8300\n",
      "09/01/2023, 22:46:15# Epoch 6 | Train Loss: 3.8858 | Train Accuracy: 0.1089\n"
     ]
    },
    {
     "data": {
      "application/vnd.jupyter.widget-view+json": {
       "model_id": "33318bf276ea4fe1a8d91f2fd80859c5",
       "version_major": 2,
       "version_minor": 0
      },
      "text/plain": [
       "Validation:   0%|          | 0/1038 [00:00<?, ?it/s]"
      ]
     },
     "metadata": {},
     "output_type": "display_data"
    },
    {
     "name": "stdout",
     "output_type": "stream",
     "text": [
      "09/01/2023, 22:46:15# labels of Validation: tensor([144,  97,  51,  49, 156, 134,  10, 132,  95, 145,  47,  39,  44, 111,\n",
      "         15, 129], device='cuda:1') torch.Size([16])\n",
      "09/01/2023, 22:46:15# predicted of Validation: tensor([109, 109,  28, 109, 154, 134, 109,  28,  61, 136, 109, 159, 109, 109,\n",
      "        105, 101], device='cuda:1') torch.Size([16])\n",
      "09/01/2023, 22:46:15# labels of 0: tensor([144,  97,  51,  49, 156, 134,  10, 132,  95, 145,  47,  39,  44, 111,\n",
      "         15, 129], device='cuda:1') torch.Size([16])\n",
      "09/01/2023, 22:46:15# predicted of 0: tensor([109, 109,  28, 109, 154, 134, 109,  28,  61, 136, 109, 159, 109, 109,\n",
      "        105, 101], device='cuda:1') torch.Size([16])\n",
      "09/01/2023, 22:46:34# labels of Validation: tensor([142,  23,  93,  16, 144, 148, 142,  40, 107,  44,  57,  77, 149,  47,\n",
      "          2,  27], device='cuda:1') torch.Size([16])\n",
      "09/01/2023, 22:46:34# predicted of Validation: tensor([109, 136, 101,  16, 109, 101, 109, 105, 101, 109, 109,  28, 149, 109,\n",
      "        109,  35], device='cuda:1') torch.Size([16])\n",
      "09/01/2023, 22:46:34# Validation Loss: 3.8418 | Validation Accuracy: 0.1121\n",
      "\n",
      "09/01/2023, 22:46:34# Find a better model!!\n"
     ]
    },
    {
     "data": {
      "application/vnd.jupyter.widget-view+json": {
       "model_id": "dec4f4b6d4c74efeb54bf2a66678bef3",
       "version_major": 2,
       "version_minor": 0
      },
      "text/plain": [
       "Training:   0%|          | 0/8300 [00:00<?, ?it/s]"
      ]
     },
     "metadata": {},
     "output_type": "display_data"
    },
    {
     "name": "stdout",
     "output_type": "stream",
     "text": [
      "09/01/2023, 22:48:34# labels of 5000: tensor([ 55,  88,  64,  64, 165, 152,  34,  82, 112,   5, 154, 150,  18, 139,\n",
      "        151, 158], device='cuda:1') torch.Size([16])\n",
      "09/01/2023, 22:48:34# predicted of 5000: tensor([ 38, 132,  83,  83, 134, 133, 133,  82, 133, 126,  82,  83, 133,  63,\n",
      "         83,  63], device='cuda:1') torch.Size([16])\n",
      "09/01/2023, 22:49:54# total batches: 8300\n",
      "09/01/2023, 22:49:54# Epoch 7 | Train Loss: 3.8688 | Train Accuracy: 0.1116\n"
     ]
    },
    {
     "data": {
      "application/vnd.jupyter.widget-view+json": {
       "model_id": "e0ba8d1599d0460d9561b658c8757cb8",
       "version_major": 2,
       "version_minor": 0
      },
      "text/plain": [
       "Validation:   0%|          | 0/1038 [00:00<?, ?it/s]"
      ]
     },
     "metadata": {},
     "output_type": "display_data"
    },
    {
     "name": "stdout",
     "output_type": "stream",
     "text": [
      "09/01/2023, 22:49:54# labels of Validation: tensor([ 64,  93, 137, 137,  47, 153, 156,  62, 149, 131, 119, 109,   9, 153,\n",
      "         88,  56], device='cuda:1') torch.Size([16])\n",
      "09/01/2023, 22:49:54# predicted of Validation: tensor([ 51,  51, 152, 152, 152, 152, 154,   0, 118, 161, 152, 152, 152, 152,\n",
      "         51, 120], device='cuda:1') torch.Size([16])\n",
      "09/01/2023, 22:49:54# labels of 0: tensor([ 64,  93, 137, 137,  47, 153, 156,  62, 149, 131, 119, 109,   9, 153,\n",
      "         88,  56], device='cuda:1') torch.Size([16])\n",
      "09/01/2023, 22:49:54# predicted of 0: tensor([ 51,  51, 152, 152, 152, 152, 154,   0, 118, 161, 152, 152, 152, 152,\n",
      "         51, 120], device='cuda:1') torch.Size([16])\n",
      "09/01/2023, 22:50:12# labels of Validation: tensor([ 29,  36,  13,  13,  61,  75,  96,  73, 116, 144, 143,  61,  57, 135,\n",
      "         24,  89], device='cuda:1') torch.Size([16])\n",
      "09/01/2023, 22:50:12# predicted of Validation: tensor([ 29, 152,  40,  89,  40, 152,  96,  32, 152, 152, 152, 120, 152, 152,\n",
      "        152,  32], device='cuda:1') torch.Size([16])\n",
      "09/01/2023, 22:50:12# Validation Loss: 3.8320 | Validation Accuracy: 0.1110\n",
      "\n",
      "09/01/2023, 22:50:12# Find a better model!!\n"
     ]
    },
    {
     "data": {
      "application/vnd.jupyter.widget-view+json": {
       "model_id": "2a1899da402a4ed289c5c1bce74a7e99",
       "version_major": 2,
       "version_minor": 0
      },
      "text/plain": [
       "Training:   0%|          | 0/8300 [00:00<?, ?it/s]"
      ]
     },
     "metadata": {},
     "output_type": "display_data"
    },
    {
     "name": "stdout",
     "output_type": "stream",
     "text": [
      "09/01/2023, 22:52:13# labels of 5000: tensor([102, 143, 150,   6,  98,  67,  57,  97, 156,  89,  81,  98, 129, 133,\n",
      "        131, 157], device='cuda:1') torch.Size([16])\n",
      "09/01/2023, 22:52:13# predicted of 5000: tensor([116, 166, 166, 116, 166,  56, 166, 151, 154, 115, 166, 116,  33, 132,\n",
      "        141, 166], device='cuda:1') torch.Size([16])\n",
      "09/01/2023, 22:53:32# total batches: 8300\n",
      "09/01/2023, 22:53:32# Epoch 8 | Train Loss: 3.8572 | Train Accuracy: 0.1145\n"
     ]
    },
    {
     "data": {
      "application/vnd.jupyter.widget-view+json": {
       "model_id": "25c7836c89ab4031b5031ded540e33ff",
       "version_major": 2,
       "version_minor": 0
      },
      "text/plain": [
       "Validation:   0%|          | 0/1038 [00:00<?, ?it/s]"
      ]
     },
     "metadata": {},
     "output_type": "display_data"
    },
    {
     "name": "stdout",
     "output_type": "stream",
     "text": [
      "09/01/2023, 22:53:32# labels of Validation: tensor([111,  83, 103,  71, 151, 127, 118,  45,  42,  66, 152, 135,  37, 121,\n",
      "        132, 115], device='cuda:1') torch.Size([16])\n",
      "09/01/2023, 22:53:32# predicted of Validation: tensor([164, 164, 131, 164, 164,  35, 149,  27, 164, 131, 164, 164, 131, 164,\n",
      "        132,  65], device='cuda:1') torch.Size([16])\n",
      "09/01/2023, 22:53:32# labels of 0: tensor([111,  83, 103,  71, 151, 127, 118,  45,  42,  66, 152, 135,  37, 121,\n",
      "        132, 115], device='cuda:1') torch.Size([16])\n",
      "09/01/2023, 22:53:32# predicted of 0: tensor([164, 164, 131, 164, 164,  35, 149,  27, 164, 131, 164, 164, 131, 164,\n",
      "        132,  65], device='cuda:1') torch.Size([16])\n",
      "09/01/2023, 22:53:50# labels of Validation: tensor([ 60, 103,  87,  37,  44, 153,  41,  45,  17,  43,   2,  15, 100, 125,\n",
      "        153,  64], device='cuda:1') torch.Size([16])\n",
      "09/01/2023, 22:53:50# predicted of Validation: tensor([164, 131, 164, 131, 164, 164, 164,  32,  25, 164, 164,  27, 131, 164,\n",
      "        164, 131], device='cuda:1') torch.Size([16])\n",
      "09/01/2023, 22:53:50# Validation Loss: 3.8210 | Validation Accuracy: 0.1148\n",
      "\n",
      "09/01/2023, 22:53:50# Find a better model!!\n"
     ]
    },
    {
     "data": {
      "application/vnd.jupyter.widget-view+json": {
       "model_id": "17dbc7b40257465783e1195d5f8e2ed4",
       "version_major": 2,
       "version_minor": 0
      },
      "text/plain": [
       "Training:   0%|          | 0/8300 [00:00<?, ?it/s]"
      ]
     },
     "metadata": {},
     "output_type": "display_data"
    },
    {
     "name": "stdout",
     "output_type": "stream",
     "text": [
      "09/01/2023, 22:55:49# labels of 5000: tensor([100,  66, 100, 127,  76,  48, 161, 126,  39, 151,  95,  48,   1,   9,\n",
      "        147,  69], device='cuda:1') torch.Size([16])\n",
      "09/01/2023, 22:55:49# predicted of 5000: tensor([161,  24, 161, 159,  55,  55, 166, 126,  56, 160, 117,  24,  24,  24,\n",
      "          0,  69], device='cuda:1') torch.Size([16])\n",
      "09/01/2023, 22:57:08# total batches: 8300\n",
      "09/01/2023, 22:57:08# Epoch 9 | Train Loss: 3.8442 | Train Accuracy: 0.1166\n"
     ]
    },
    {
     "data": {
      "application/vnd.jupyter.widget-view+json": {
       "model_id": "b641797f1c124601a6c63a60b166fa6e",
       "version_major": 2,
       "version_minor": 0
      },
      "text/plain": [
       "Validation:   0%|          | 0/1038 [00:00<?, ?it/s]"
      ]
     },
     "metadata": {},
     "output_type": "display_data"
    },
    {
     "name": "stdout",
     "output_type": "stream",
     "text": [
      "09/01/2023, 22:57:08# labels of Validation: tensor([ 33,   7, 137, 106,  95, 124,  75,  25,  76,  46,  88,  68, 116,  70,\n",
      "         72, 104], device='cuda:1') torch.Size([16])\n",
      "09/01/2023, 22:57:08# predicted of Validation: tensor([144, 134, 144, 106,  67, 144, 144, 154, 144, 144,  68,  68, 144,  70,\n",
      "        130, 144], device='cuda:1') torch.Size([16])\n",
      "09/01/2023, 22:57:08# labels of 0: tensor([ 33,   7, 137, 106,  95, 124,  75,  25,  76,  46,  88,  68, 116,  70,\n",
      "         72, 104], device='cuda:1') torch.Size([16])\n",
      "09/01/2023, 22:57:08# predicted of 0: tensor([144, 134, 144, 106,  67, 144, 144, 154, 144, 144,  68,  68, 144,  70,\n",
      "        130, 144], device='cuda:1') torch.Size([16])\n",
      "09/01/2023, 22:57:27# labels of Validation: tensor([105,  14,  27,  91, 111, 161, 137,  89,  64,  70,  86,  76, 133,  65,\n",
      "         72,   9], device='cuda:1') torch.Size([16])\n",
      "09/01/2023, 22:57:27# predicted of Validation: tensor([  0, 144, 130, 131, 144, 132, 144,  15,  68,  70, 144, 144,  68, 144,\n",
      "         40, 144], device='cuda:1') torch.Size([16])\n",
      "09/01/2023, 22:57:27# Validation Loss: 3.8037 | Validation Accuracy: 0.1261\n",
      "\n",
      "09/01/2023, 22:57:27# Find a better model!!\n"
     ]
    },
    {
     "data": {
      "application/vnd.jupyter.widget-view+json": {
       "model_id": "cec09b43bdfd4ba1b6309830b3c90eea",
       "version_major": 2,
       "version_minor": 0
      },
      "text/plain": [
       "Training:   0%|          | 0/8300 [00:00<?, ?it/s]"
      ]
     },
     "metadata": {},
     "output_type": "display_data"
    },
    {
     "name": "stdout",
     "output_type": "stream",
     "text": [
      "09/01/2023, 22:59:26# labels of 5000: tensor([ 46,   5, 127,  51,  19, 134,  84,  35, 109, 151,  36,  34, 145, 149,\n",
      "        158, 140], device='cuda:1') torch.Size([16])\n",
      "09/01/2023, 22:59:26# predicted of 5000: tensor([ 18,  89, 105,  57,  24, 134, 128,  96, 114,  57, 114, 114, 145, 149,\n",
      "        114, 140], device='cuda:1') torch.Size([16])\n",
      "09/01/2023, 23:00:45# total batches: 8300\n",
      "09/01/2023, 23:00:45# Epoch 10 | Train Loss: 3.8298 | Train Accuracy: 0.1203\n"
     ]
    },
    {
     "data": {
      "application/vnd.jupyter.widget-view+json": {
       "model_id": "cbda4a0679534ce398959674bb03cdff",
       "version_major": 2,
       "version_minor": 0
      },
      "text/plain": [
       "Validation:   0%|          | 0/1038 [00:00<?, ?it/s]"
      ]
     },
     "metadata": {},
     "output_type": "display_data"
    },
    {
     "name": "stdout",
     "output_type": "stream",
     "text": [
      "09/01/2023, 23:00:45# labels of Validation: tensor([ 56,  15,   2,  82, 140, 124, 147, 157, 151,  29, 149,  45,  18, 114,\n",
      "         58, 157], device='cuda:1') torch.Size([16])\n",
      "09/01/2023, 23:00:45# predicted of Validation: tensor([ 39, 127, 109, 156, 136, 109, 140, 109, 109, 122, 149,   0, 109, 110,\n",
      "        109, 109], device='cuda:1') torch.Size([16])\n",
      "09/01/2023, 23:00:45# labels of 0: tensor([ 56,  15,   2,  82, 140, 124, 147, 157, 151,  29, 149,  45,  18, 114,\n",
      "         58, 157], device='cuda:1') torch.Size([16])\n",
      "09/01/2023, 23:00:45# predicted of 0: tensor([ 39, 127, 109, 156, 136, 109, 140, 109, 109, 122, 149,   0, 109, 110,\n",
      "        109, 109], device='cuda:1') torch.Size([16])\n",
      "09/01/2023, 23:01:02# labels of Validation: tensor([113, 139, 163, 143, 107,   0,  42,  65, 111, 119, 116, 160, 155,  44,\n",
      "         20, 116], device='cuda:1') torch.Size([16])\n",
      "09/01/2023, 23:01:02# predicted of Validation: tensor([110, 109, 109, 109, 110,   0, 109, 109, 109, 109, 109, 110,  28, 109,\n",
      "        109, 109], device='cuda:1') torch.Size([16])\n",
      "09/01/2023, 23:01:03# Validation Loss: 3.8126 | Validation Accuracy: 0.1198\n",
      "\n"
     ]
    },
    {
     "data": {
      "application/vnd.jupyter.widget-view+json": {
       "model_id": "1c8dc21d918c45f2bd8f89de6d84ecd5",
       "version_major": 2,
       "version_minor": 0
      },
      "text/plain": [
       "Training:   0%|          | 0/8300 [00:00<?, ?it/s]"
      ]
     },
     "metadata": {},
     "output_type": "display_data"
    },
    {
     "name": "stdout",
     "output_type": "stream",
     "text": [
      "09/01/2023, 23:03:01# labels of 5000: tensor([106,  92, 116, 165,  58,  71, 116, 125, 138,  84, 117, 114,  52, 146,\n",
      "        132,  94], device='cuda:1') torch.Size([16])\n",
      "09/01/2023, 23:03:01# predicted of 5000: tensor([106,  33, 131, 165,  58, 152, 131, 131, 138, 146, 115, 132,  52, 120,\n",
      "        132,  72], device='cuda:1') torch.Size([16])\n",
      "09/01/2023, 23:04:20# total batches: 8300\n",
      "09/01/2023, 23:04:20# Epoch 11 | Train Loss: 3.8185 | Train Accuracy: 0.1246\n"
     ]
    },
    {
     "data": {
      "application/vnd.jupyter.widget-view+json": {
       "model_id": "3b6b0e6e4bd54db09eedf4c3921b3be2",
       "version_major": 2,
       "version_minor": 0
      },
      "text/plain": [
       "Validation:   0%|          | 0/1038 [00:00<?, ?it/s]"
      ]
     },
     "metadata": {},
     "output_type": "display_data"
    },
    {
     "name": "stdout",
     "output_type": "stream",
     "text": [
      "09/01/2023, 23:04:20# labels of Validation: tensor([ 42,  89,  73, 109,  65, 135, 130,  57,   3, 118, 151,  16,  60, 135,\n",
      "         18, 145], device='cuda:1') torch.Size([16])\n",
      "09/01/2023, 23:04:20# predicted of Validation: tensor([ 14,  39,  62,  14,  14,  14,  95,  14, 145, 118,  14,  16,  14,  14,\n",
      "         14,  23], device='cuda:1') torch.Size([16])\n",
      "09/01/2023, 23:04:20# labels of 0: tensor([ 42,  89,  73, 109,  65, 135, 130,  57,   3, 118, 151,  16,  60, 135,\n",
      "         18, 145], device='cuda:1') torch.Size([16])\n",
      "09/01/2023, 23:04:20# predicted of 0: tensor([ 14,  39,  62,  14,  14,  14,  95,  14, 145, 118,  14,  16,  14,  14,\n",
      "         14,  23], device='cuda:1') torch.Size([16])\n",
      "09/01/2023, 23:04:38# labels of Validation: tensor([119, 157,  52, 129, 164,  96,  40, 130, 132, 145,  73,  16,  24, 151,\n",
      "          8,   4], device='cuda:1') torch.Size([16])\n",
      "09/01/2023, 23:04:38# predicted of Validation: tensor([ 14,  14,  82,  91,  14, 140, 115,  89, 132, 145,  62,  70,  14,  14,\n",
      "         91,  14], device='cuda:1') torch.Size([16])\n",
      "09/01/2023, 23:04:38# Validation Loss: 3.7999 | Validation Accuracy: 0.1201\n",
      "\n",
      "09/01/2023, 23:04:38# Find a better model!!\n"
     ]
    },
    {
     "data": {
      "application/vnd.jupyter.widget-view+json": {
       "model_id": "dde324f58fe54467b2d026a9dd50faf5",
       "version_major": 2,
       "version_minor": 0
      },
      "text/plain": [
       "Training:   0%|          | 0/8300 [00:00<?, ?it/s]"
      ]
     },
     "metadata": {},
     "output_type": "display_data"
    },
    {
     "name": "stdout",
     "output_type": "stream",
     "text": [
      "09/01/2023, 23:06:35# labels of 5000: tensor([117, 127, 119,  83, 121,  98,  40,  14, 122,  29,  63, 136,  48,  17,\n",
      "         75,  91], device='cuda:1') torch.Size([16])\n",
      "09/01/2023, 23:06:35# predicted of 5000: tensor([127, 127, 121,  86,  98,  91,  40,  91,  56,  13,  86, 140,  91,  17,\n",
      "         91, 133], device='cuda:1') torch.Size([16])\n",
      "09/01/2023, 23:07:53# total batches: 8300\n",
      "09/01/2023, 23:07:53# Epoch 12 | Train Loss: 3.8051 | Train Accuracy: 0.1270\n"
     ]
    },
    {
     "data": {
      "application/vnd.jupyter.widget-view+json": {
       "model_id": "627739a082c14fcdb7f78d0f82254654",
       "version_major": 2,
       "version_minor": 0
      },
      "text/plain": [
       "Validation:   0%|          | 0/1038 [00:00<?, ?it/s]"
      ]
     },
     "metadata": {},
     "output_type": "display_data"
    },
    {
     "name": "stdout",
     "output_type": "stream",
     "text": [
      "09/01/2023, 23:07:53# labels of Validation: tensor([  0, 136,  90,  35, 126, 131,  12, 137,  92, 166,  69, 140,  30, 133,\n",
      "          3,  58], device='cuda:1') torch.Size([16])\n",
      "09/01/2023, 23:07:53# predicted of Validation: tensor([105, 140,  88,  32,  78,   6,  33,  33,  33,   6,  69, 140,  33,  88,\n",
      "        140,  33], device='cuda:1') torch.Size([16])\n",
      "09/01/2023, 23:07:53# labels of 0: tensor([  0, 136,  90,  35, 126, 131,  12, 137,  92, 166,  69, 140,  30, 133,\n",
      "          3,  58], device='cuda:1') torch.Size([16])\n",
      "09/01/2023, 23:07:53# predicted of 0: tensor([105, 140,  88,  32,  78,   6,  33,  33,  33,   6,  69, 140,  33,  88,\n",
      "        140,  33], device='cuda:1') torch.Size([16])\n",
      "09/01/2023, 23:08:11# labels of Validation: tensor([156,  40,  45,  23,  99, 112,  51,  23,   5,  72,  95, 161, 114,  31,\n",
      "         11,  81], device='cuda:1') torch.Size([16])\n",
      "09/01/2023, 23:08:11# predicted of Validation: tensor([ 82,  35,  73, 145,  99,  33,   6, 145,  78,  78,  13, 132,  88,  33,\n",
      "         33,  33], device='cuda:1') torch.Size([16])\n",
      "09/01/2023, 23:08:11# Validation Loss: 3.8010 | Validation Accuracy: 0.1254\n",
      "\n"
     ]
    },
    {
     "data": {
      "application/vnd.jupyter.widget-view+json": {
       "model_id": "de0fbf1c0f9d410385f79a77dee87de4",
       "version_major": 2,
       "version_minor": 0
      },
      "text/plain": [
       "Training:   0%|          | 0/8300 [00:00<?, ?it/s]"
      ]
     },
     "metadata": {},
     "output_type": "display_data"
    },
    {
     "name": "stdout",
     "output_type": "stream",
     "text": [
      "09/01/2023, 23:10:09# labels of 5000: tensor([ 98,  63, 104, 112,  19,  89, 142, 164, 132,  12,  51,  87,  48,  42,\n",
      "        131, 145], device='cuda:1') torch.Size([16])\n",
      "09/01/2023, 23:10:09# predicted of 5000: tensor([100, 102, 102, 100, 100,  61, 100, 102, 161, 100, 166,  63, 102,  76,\n",
      "        166,  80], device='cuda:1') torch.Size([16])\n",
      "09/01/2023, 23:11:27# total batches: 8300\n",
      "09/01/2023, 23:11:27# Epoch 13 | Train Loss: 3.7965 | Train Accuracy: 0.1288\n"
     ]
    },
    {
     "data": {
      "application/vnd.jupyter.widget-view+json": {
       "model_id": "291dc9423de0435b948e53da35daafa9",
       "version_major": 2,
       "version_minor": 0
      },
      "text/plain": [
       "Validation:   0%|          | 0/1038 [00:00<?, ?it/s]"
      ]
     },
     "metadata": {},
     "output_type": "display_data"
    },
    {
     "name": "stdout",
     "output_type": "stream",
     "text": [
      "09/01/2023, 23:11:27# labels of Validation: tensor([106,  39,   8,  63,  83,  53,  62, 103,  55,  76,  63, 161,  97,   4,\n",
      "        100,  87], device='cuda:1') torch.Size([16])\n",
      "09/01/2023, 23:11:27# predicted of Validation: tensor([106,  89,  91, 158, 158, 158,  89,  91, 158, 158, 158, 161, 158, 158,\n",
      "         91, 158], device='cuda:1') torch.Size([16])\n",
      "09/01/2023, 23:11:27# labels of 0: tensor([106,  39,   8,  63,  83,  53,  62, 103,  55,  76,  63, 161,  97,   4,\n",
      "        100,  87], device='cuda:1') torch.Size([16])\n",
      "09/01/2023, 23:11:27# predicted of 0: tensor([106,  89,  91, 158, 158, 158,  89,  91, 158, 158, 158, 161, 158, 158,\n",
      "         91, 158], device='cuda:1') torch.Size([16])\n",
      "09/01/2023, 23:11:44# labels of Validation: tensor([ 71, 105, 114,  93,  47,   2, 149,  11,  59,  82, 146,  89,  14, 146,\n",
      "         56, 161], device='cuda:1') torch.Size([16])\n",
      "09/01/2023, 23:11:44# predicted of Validation: tensor([158,  35,  91,  91, 158, 158, 149, 158,  91, 154, 146,  89, 158, 146,\n",
      "         89, 161], device='cuda:1') torch.Size([16])\n",
      "09/01/2023, 23:11:45# Validation Loss: 3.7900 | Validation Accuracy: 0.1213\n",
      "\n",
      "09/01/2023, 23:11:45# Find a better model!!\n"
     ]
    },
    {
     "data": {
      "application/vnd.jupyter.widget-view+json": {
       "model_id": "4618f80273e84c3586744167bcf16de8",
       "version_major": 2,
       "version_minor": 0
      },
      "text/plain": [
       "Training:   0%|          | 0/8300 [00:00<?, ?it/s]"
      ]
     },
     "metadata": {},
     "output_type": "display_data"
    }
   ],
   "source": [
    "import csv\n",
    "import pandas as pd\n",
    "from sklearn.metrics import classification_report\n",
    "from torch.optim import AdamW, lr_scheduler\n",
    "\n",
    "seed = 8787\n",
    "same_seeds(seed)\n",
    "\n",
    "model = GAT(in_dim=250, hidden_dim=16, out_dim=168, num_heads=8)\n",
    "# in_dim means the dimension of the node_feat(50 dim, since the 50-dim embedding)\n",
    "# out_dim means the # of the categories -> 168 for out tasks\n",
    "model.load_state_dict(torch.load('model1_initial/initial_weight.pth'))\n",
    "best_model_path = \"../checkpoint_GAT/best_model_GAT_secureBERT.pt\"\n",
    "\n",
    "model = model.to(device)\n",
    "\n",
    "# optimizer = torch.optim.AdamW(model.parameters(), lr=1e-5)\n",
    "optimizer = AdamW(model.parameters(), lr=5e-4)\n",
    "# scheduler = get_linear_schedule_with_warmup(optimizer, num_warmup_steps=18, num_training_steps=total_steps)\n",
    "\n",
    "# T_max control the period of the lr changing -> set 1/10 first\n",
    "scheduler = lr_scheduler.CosineAnnealingLR(optimizer, T_max=36, eta_min=0, last_epoch=- 1, verbose=False)\n",
    "\n",
    "\n",
    "criterion = nn.CrossEntropyLoss()\n",
    "total_steps = 35\n",
    "\n",
    "# save the best model\n",
    "best_val_loss = float('inf')\n",
    "patience = 5  # Number of epochs with no improvement after which training will be stopped.\n",
    "waiting = 0  # The number of epochs with no improvement so far.\n",
    "\n",
    "\n",
    "# Training Part\n",
    "for epoch in tqdm(range(total_steps)):\n",
    "    # Train\n",
    "    model.train()\n",
    "    total_loss = 0.0\n",
    "    total_accuracy = 0.0\n",
    "    num_batches = 0\n",
    "    \n",
    "    for data in tqdm(dataloaders['train'], desc=\"Training\", position=0, leave=True):\n",
    "        num_batches += 1\n",
    "        loss, accuracy, _ = model_fn(data, model, criterion, device, num_batches, which_type='train')\n",
    "        \n",
    "        optimizer.zero_grad()\n",
    "        loss.backward()\n",
    "        optimizer.step()\n",
    "\n",
    "        total_loss += loss.item()\n",
    "        total_accuracy += accuracy.item()\n",
    "\n",
    "        \n",
    "#     scheduler.step()\n",
    "    add_log_msg(f\"total batches: {num_batches}\")\n",
    "\n",
    "    avg_loss = total_loss / num_batches\n",
    "    avg_accuracy = total_accuracy / num_batches\n",
    "\n",
    "    add_log_msg(f'Epoch {epoch} | Train Loss: {avg_loss:.4f} | Train Accuracy: {avg_accuracy:.4f}')\n",
    "\n",
    "    \n",
    "    # Validation Part\n",
    "    model.eval()\n",
    "    total_accuracy = 0.0\n",
    "    total_loss = 0.0\n",
    "    num_batches = 0\n",
    "\n",
    "\n",
    "    with torch.no_grad():\n",
    "        for data in tqdm(dataloaders['valid'], desc=\"Validation\", position=0, leave=True):\n",
    "            loss, accuracy, _ = model_fn(data, model, criterion, device, num_batches, which_type='validation')\n",
    "            total_accuracy += accuracy.item()\n",
    "            total_loss += loss.item()\n",
    "            num_batches += 1\n",
    "\n",
    "    avg_accuracy = total_accuracy / num_batches\n",
    "    current_loss = total_loss / num_batches\n",
    "    \n",
    "    add_log_msg(f'Validation Loss: {current_loss:.4f} | Validation Accuracy: {avg_accuracy:.4f}\\n')\n",
    "    \n",
    "            \n",
    "    if current_loss < best_val_loss:\n",
    "        best_val_loss = current_loss\n",
    "        waiting = 0\n",
    "        \n",
    "        if os.path.exists(best_model_path):\n",
    "            os.remove(best_model_path)\n",
    "            add_log_msg(\"Find a better model!!\")\n",
    "\n",
    "        torch.save(model.state_dict(), best_model_path)\n",
    "\n",
    "        \n",
    "#         print(best_model_path)\n",
    "\n",
    "    else:\n",
    "        waiting += 1\n",
    "        if waiting >= patience:\n",
    "            add_log_msg(\"============================== Early stopping ==================================\")\n",
    "            break"
   ]
  },
  {
   "cell_type": "markdown",
   "metadata": {},
   "source": [
    "### Testing Part"
   ]
  },
  {
   "cell_type": "code",
   "execution_count": null,
   "metadata": {},
   "outputs": [],
   "source": [
    "# load the pretrained model\n",
    "pretrained_model_path = '../checkpoint_GAT/best_model_GAT_secureBERT.pt'\n",
    "model.load_state_dict(torch.load(pretrained_model_path))\n",
    "\n",
    "model.to(device)\n",
    "model.eval()\n",
    "\n",
    "total = 0\n",
    "correct = 0\n",
    "count = 0\n",
    "\n",
    "true_labels = []\n",
    "predicted_labels = []\n",
    "\n",
    "with torch.no_grad():\n",
    "    for data in tqdm(dataloaders['test'], desc=\"Testing\", position=0, leave=True):\n",
    "\n",
    "        loss, accuracy, predicted = model_fn(data, model, criterion, device, count, which_type='test')\n",
    "        labels = data[1].to(device)\n",
    "        \n",
    "        true_labels.extend(labels.cpu().numpy())\n",
    "        predicted_labels.extend(predicted.cpu().numpy())\n",
    "        \n",
    "        if count % 5000 == 0:\n",
    "            add_log_msg(f\"labels: {labels} {labels.shape}\")\n",
    "            add_log_msg(f\"predicted: {predicted} {predicted.shape}\")\n",
    "            \n",
    "        count += 1\n",
    "        \n",
    "        total += labels.size(0)\n",
    "        correct += (predicted == labels).sum().item()\n",
    "\n",
    "add_log_msg(f'Test Accuracy: {100 * correct / total} %\\n\\n\\n')\n",
    "\n",
    "\n",
    "# ======================================== handlig the output excel files ========================================\n",
    "mapping_file = './new_mapping.txt'\n",
    "label_mapping = {}\n",
    "with open(mapping_file, 'r') as f:\n",
    "    for line in f:\n",
    "        parts = line.strip().split(': ')\n",
    "        label_mapping[int(parts[1])] = parts[0]\n",
    "        \n",
    "# 将映射后的标签应用到true和predicted标签列表\n",
    "mapped_true_labels = [label_mapping[label] for label in true_labels]\n",
    "mapped_predicted_labels = [label_mapping[label] for label in predicted_labels]\n",
    "\n",
    "# 生成Scikit-learn报告信息的DataFrame\n",
    "report_data = classification_report(mapped_true_labels, mapped_predicted_labels, output_dict=True)\n",
    "report_df = pd.DataFrame(report_data).transpose()\n",
    "\n",
    "report_folder = 'classification_report'\n",
    "os.makedirs(report_folder, exist_ok=True)\n",
    "\n",
    "count = 0\n",
    "while True:\n",
    "    report_filename = f'classification_report-secureBERT-{count}.xlsx'\n",
    "    labels_filename = f'mapped_true_predicted_labels-secureBERT-{count}.xlsx'\n",
    "    \n",
    "    report_path = os.path.join(report_folder, report_filename)\n",
    "    labels_path = os.path.join(report_folder, labels_filename)\n",
    "    \n",
    "    if not os.path.exists(report_path) and not os.path.exists(labels_path):\n",
    "        break\n",
    "    count += 1\n",
    "\n",
    "    \n",
    "report_df.to_excel(report_path, index_label='Label')\n",
    "\n",
    "mapped_labels_df = pd.DataFrame({'true_label': mapped_true_labels, 'predicted_label': mapped_predicted_labels})\n",
    "mapped_labels_df.to_excel(labels_path, index=False)\n",
    "\n",
    "add_log_msg(f\"report path: {report_path}\")\n",
    "add_log_msg(f\"label path: {labels_path}\")\n",
    "\n",
    "mapped_report = classification_report(mapped_true_labels, mapped_predicted_labels)\n",
    "add_log_msg(f\"mapped_report:\\n{mapped_report}\")"
   ]
  },
  {
   "cell_type": "code",
   "execution_count": null,
   "metadata": {},
   "outputs": [],
   "source": []
  },
  {
   "cell_type": "code",
   "execution_count": null,
   "metadata": {},
   "outputs": [],
   "source": []
  }
 ],
 "metadata": {
  "kernelspec": {
   "display_name": "Python 3",
   "language": "python",
   "name": "python3"
  },
  "language_info": {
   "codemirror_mode": {
    "name": "ipython",
    "version": 3
   },
   "file_extension": ".py",
   "mimetype": "text/x-python",
   "name": "python",
   "nbconvert_exporter": "python",
   "pygments_lexer": "ipython3",
   "version": "3.6.9"
  }
 },
 "nbformat": 4,
 "nbformat_minor": 2
}
