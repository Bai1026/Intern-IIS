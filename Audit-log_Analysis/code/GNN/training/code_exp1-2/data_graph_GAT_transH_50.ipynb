{
 "cells": [
  {
   "cell_type": "markdown",
   "metadata": {},
   "source": [
    "# Test of GAT\n",
    "- use DGL\n",
    "- predict `graphs`\n",
    "- test: 0~99\n",
    "- validation: 100~199\n",
    "- train: 200~999\n",
    "- larger lr with scheduler\n",
    "- try the sklearn report"
   ]
  },
  {
   "cell_type": "code",
   "execution_count": 1,
   "metadata": {},
   "outputs": [],
   "source": [
    "import os\n",
    "import dgl\n",
    "import json\n",
    "import torch\n",
    "import torch as th\n",
    "# from tqdm import tqdm\n",
    "from tqdm.notebook import tqdm  # 使用 notebook 版本的 tqdm\n",
    "import torch.nn as nn\n",
    "from dgl.nn import GraphConv, GATConv\n",
    "import torch.nn.functional as F\n",
    "from torch.utils.data import Dataset, DataLoader\n",
    "from transformers import get_linear_schedule_with_warmup\n",
    "from torch.optim import AdamW\n",
    "from sklearn.metrics import classification_report\n"
   ]
  },
  {
   "cell_type": "markdown",
   "metadata": {},
   "source": [
    "- check the GPU and assign the GPU by the best memory usage"
   ]
  },
  {
   "cell_type": "code",
   "execution_count": 2,
   "metadata": {},
   "outputs": [
    {
     "name": "stdout",
     "output_type": "stream",
     "text": [
      "cuda:2\n"
     ]
    }
   ],
   "source": [
    "import subprocess\n",
    "import torch\n",
    "\n",
    "def get_free_gpu():\n",
    "    try:\n",
    "        # Run nvidia-smi command to get GPU details\n",
    "        _output_to_list = lambda x: x.decode('ascii').split('\\n')[:-1]\n",
    "        command = \"nvidia-smi --query-gpu=memory.free --format=csv,nounits,noheader\"\n",
    "        memory_free_info = _output_to_list(subprocess.check_output(command.split())) \n",
    "        memory_free_values = [int(x) for i, x in enumerate(memory_free_info)]\n",
    "        \n",
    "        # Get the GPU with the maximum free memory\n",
    "        best_gpu_id = memory_free_values.index(max(memory_free_values))\n",
    "        return best_gpu_id\n",
    "    except:\n",
    "        # If any exception occurs, default to GPU 0 (this handles cases where nvidia-smi isn't installed)\n",
    "        return 0\n",
    "\n",
    "if torch.cuda.is_available():\n",
    "    # Get the best GPU ID based on free memory and set it\n",
    "    best_gpu_id = get_free_gpu()\n",
    "    device = torch.device(f\"cuda:{best_gpu_id}\")\n",
    "else:\n",
    "    device = torch.device(\"cpu\")\n",
    "    print(\"there's no available GPU\")\n",
    "\n",
    "# device = torch.device(f\"cuda:1\")\n",
    "print(device)\n"
   ]
  },
  {
   "cell_type": "markdown",
   "metadata": {},
   "source": [
    "## Fix the seed"
   ]
  },
  {
   "cell_type": "code",
   "execution_count": 3,
   "metadata": {},
   "outputs": [],
   "source": [
    "import numpy as np\n",
    "import torch\n",
    "import random\n",
    "\n",
    "#fix seed\n",
    "def same_seeds(seed = 8787):\n",
    "    torch.manual_seed(seed)\n",
    "    # random.seed(seed) \n",
    "    if torch.cuda.is_available():\n",
    "        torch.cuda.manual_seed(seed)\n",
    "        torch.cuda.manual_seed_all(seed)  \n",
    "    np.random.seed(seed)  \n",
    "    torch.backends.cudnn.benchmark = False\n",
    "    torch.backends.cudnn.deterministic = True"
   ]
  },
  {
   "cell_type": "markdown",
   "metadata": {},
   "source": [
    "## Data Loader"
   ]
  },
  {
   "cell_type": "code",
   "execution_count": 4,
   "metadata": {},
   "outputs": [],
   "source": [
    "class GraphDataset(Dataset):\n",
    "    def __init__(self, data_list, device):\n",
    "        self.data_list = data_list\n",
    "        self.device = device\n",
    "\n",
    "    def __len__(self):\n",
    "        return len(self.data_list)\n",
    "    \n",
    "    def __getitem__(self, idx):\n",
    "        data = self.data_list[idx]\n",
    "\n",
    "        g = dgl.graph((th.tensor(data[\"edge_index\"][0]), th.tensor(data[\"edge_index\"][1])), num_nodes=data[\"num_nodes\"]).to(self.device)\n",
    "\n",
    "        g.ndata['feat'] = th.tensor(data[\"node_feat\"]).to(self.device)\n",
    "        g.edata['feat'] = th.tensor(data[\"edge_attr\"]).to(self.device)  # Add edge features to graph\n",
    "\n",
    "        return g, th.tensor(data[\"label\"]).to(self.device)\n",
    "\n",
    "\n",
    "def collate(samples):\n",
    "    # The input `samples` is a list of pairs\n",
    "    #  (graph, label).\n",
    "    graphs, labels = map(list, zip(*samples))\n",
    "    batched_graph = dgl.batch(graphs)\n",
    "    return batched_graph, torch.tensor(labels)\n"
   ]
  },
  {
   "cell_type": "code",
   "execution_count": 6,
   "metadata": {},
   "outputs": [
    {
     "data": {
      "application/vnd.jupyter.widget-view+json": {
       "model_id": "cfb0fb1671ae46a98494ae33eceee215",
       "version_major": 2,
       "version_minor": 0
      },
      "text/plain": [
       "  0%|          | 0/3 [00:00<?, ?it/s]"
      ]
     },
     "metadata": {},
     "output_type": "display_data"
    },
    {
     "name": "stdout",
     "output_type": "stream",
     "text": [
      "../../data_processing/dgl/data_new/training_data/exp_2/transH_50/train.jsonl\n"
     ]
    },
    {
     "data": {
      "application/vnd.jupyter.widget-view+json": {
       "model_id": "ddce6776febe4122ac2ae42ac78063aa",
       "version_major": 2,
       "version_minor": 0
      },
      "text/plain": [
       "0it [00:00, ?it/s]"
      ]
     },
     "metadata": {},
     "output_type": "display_data"
    },
    {
     "name": "stdout",
     "output_type": "stream",
     "text": [
      "../../data_processing/dgl/data_new/training_data/exp_2/transH_50/valid.jsonl\n"
     ]
    },
    {
     "data": {
      "application/vnd.jupyter.widget-view+json": {
       "model_id": "dbd50568eb104bdf83b854d1c11ba49e",
       "version_major": 2,
       "version_minor": 0
      },
      "text/plain": [
       "0it [00:00, ?it/s]"
      ]
     },
     "metadata": {},
     "output_type": "display_data"
    },
    {
     "name": "stdout",
     "output_type": "stream",
     "text": [
      "../../data_processing/dgl/data_new/training_data/exp_2/transH_50/test.jsonl\n"
     ]
    },
    {
     "data": {
      "application/vnd.jupyter.widget-view+json": {
       "model_id": "4c6f2bedf9e84d8b9328c231d0513b66",
       "version_major": 2,
       "version_minor": 0
      },
      "text/plain": [
       "0it [00:00, ?it/s]"
      ]
     },
     "metadata": {},
     "output_type": "display_data"
    },
    {
     "name": "stdout",
     "output_type": "stream",
     "text": [
      "Datasets loaded!\n"
     ]
    }
   ],
   "source": [
    "datasets = ['train', 'valid', 'test']\n",
    "# datasets = ['test']\n",
    "dataset_data = {}\n",
    "\n",
    "for dataset_name in tqdm(datasets):\n",
    "#     file_path = f\"../../data_processing/dgl/data/test_graph/repeated_{dataset_name}.jsonl\"\n",
    "    file_path = f\"../../data_processing/dgl/data_new/training_data/exp_2/transH_50/{dataset_name}.jsonl\"\n",
    "    \n",
    "    print(file_path)\n",
    "    with open(file_path) as f:\n",
    "        data_list = [json.loads(line) for line in tqdm(f, position=0, leave=True)]\n",
    "    \n",
    "    dataset_data[dataset_name] = GraphDataset(data_list, device)\n",
    "\n",
    "print(\"Datasets loaded!\")"
   ]
  },
  {
   "cell_type": "markdown",
   "metadata": {},
   "source": [
    "- choose batch size"
   ]
  },
  {
   "cell_type": "code",
   "execution_count": 7,
   "metadata": {},
   "outputs": [
    {
     "name": "stdout",
     "output_type": "stream",
     "text": [
      "OK!\n"
     ]
    }
   ],
   "source": [
    "def create_dataloaders(batch_size, shuffle=True):\n",
    "    dataloaders = {}\n",
    "    for dataset_name, dataset in dataset_data.items():\n",
    "        # do not shuffle the testing dataset\n",
    "        if dataset_name == \"test\":\n",
    "            dataloaders[dataset_name] = DataLoader(dataset, batch_size=batch_size, shuffle=False, collate_fn=collate)    \n",
    "        else:\n",
    "            dataloaders[dataset_name] = DataLoader(dataset, batch_size=batch_size, shuffle=shuffle, collate_fn=collate)\n",
    "    return dataloaders\n",
    "\n",
    "# dataloaders = create_dataloaders(4)\n",
    "dataloaders = create_dataloaders(16)\n",
    "\n",
    "\n",
    "if (len(dataloaders['test'].dataset) + len(dataloaders['valid'].dataset) + len(dataloaders['train'].dataset)) % 166 != 0: print(\"Error data!!\")\n",
    "else: print(\"OK!\")\n"
   ]
  },
  {
   "cell_type": "markdown",
   "metadata": {},
   "source": [
    "- Turn the print message to a log file"
   ]
  },
  {
   "cell_type": "code",
   "execution_count": 8,
   "metadata": {},
   "outputs": [
    {
     "name": "stdout",
     "output_type": "stream",
     "text": [
      "(Graph(num_nodes=10, num_edges=19,\n",
      "      ndata_schemes={'feat': Scheme(shape=(50,), dtype=torch.float32)}\n",
      "      edata_schemes={'feat': Scheme(shape=(50,), dtype=torch.float32)}), tensor(6, device='cuda:2'))\n",
      "16600\n",
      "16600\n",
      "132800\n",
      "166000\n"
     ]
    }
   ],
   "source": [
    "# print(dataloaders['test'][5])\n",
    "sample = dataset_data['train'][5000]\n",
    "print(sample)\n",
    "\n",
    "print(len(dataloaders['test'].dataset))\n",
    "print(len(dataloaders['valid'].dataset))\n",
    "print(len(dataloaders['train'].dataset))\n",
    "print(len(dataloaders['test'].dataset) + len(dataloaders['valid'].dataset) + len(dataloaders['train'].dataset))"
   ]
  },
  {
   "cell_type": "code",
   "execution_count": 9,
   "metadata": {},
   "outputs": [
    {
     "name": "stdout",
     "output_type": "stream",
     "text": [
      "../log_message/0901_17:15_GAT_transH_50.log\n"
     ]
    }
   ],
   "source": [
    "import datetime\n",
    "\n",
    "now = datetime.datetime.now()\n",
    "\n",
    "formatted_time = now.strftime(\"%m%d_%H:%M\")\n",
    "\n",
    "log_file_path = f\"../log_message/{formatted_time}_GAT_transH_50.log\"\n",
    "\n",
    "def add_log_msg(msg, log_file_path=log_file_path):\n",
    "    with open(log_file_path, 'a') as f:\n",
    "        f.write(f'{datetime.datetime.now().strftime(\"%m/%d/%Y, %H:%M:%S\")}# {msg}\\n')\n",
    "    print(f'{datetime.datetime.now().strftime(\"%m/%d/%Y, %H:%M:%S\")}# {msg}')\n",
    "\n",
    "print(log_file_path)"
   ]
  },
  {
   "cell_type": "markdown",
   "metadata": {},
   "source": [
    "### Model"
   ]
  },
  {
   "cell_type": "code",
   "execution_count": 10,
   "metadata": {},
   "outputs": [],
   "source": [
    "class GAT(nn.Module):\n",
    "    def __init__(self, in_dim, hidden_dim, out_dim, num_heads, dropout_prob=0.25):\n",
    "        super(GAT, self).__init__()\n",
    "        \n",
    "        # do not check the zero in_degree since we have all the complete graph\n",
    "        self.layer1 = GATConv(in_dim, hidden_dim, num_heads=num_heads, activation=F.relu, allow_zero_in_degree=True)\n",
    "        self.layer2 = GATConv(hidden_dim * num_heads, out_dim, num_heads=num_heads, allow_zero_in_degree=True)\n",
    "        \n",
    "        # Adding Batch Normalization after each GAT layer\n",
    "        self.batchnorm1 = nn.BatchNorm1d(hidden_dim * num_heads)\n",
    "        self.batchnorm2 = nn.BatchNorm1d(out_dim)\n",
    "        \n",
    "        # Adding Dropout for regularization\n",
    "        self.dropout = nn.Dropout(dropout_prob)\n",
    "\n",
    "    def forward(self, g, h):\n",
    "        # Apply GAT layers\n",
    "        h = self.layer1(g, h)\n",
    "        h = h.view(h.shape[0], -1)\n",
    "        h = F.relu(h)\n",
    "        h = self.dropout(h)\n",
    "        h = self.layer2(g, h).squeeze(1)\n",
    "        \n",
    "        # Store the output as a new node feature\n",
    "        g.ndata['h_out'] = h\n",
    "\n",
    "        # Use mean pooling to aggregate this new node feature\n",
    "        h_agg = dgl.mean_nodes(g, feat='h_out')\n",
    "        return h_agg\n",
    "\n",
    "    "
   ]
  },
  {
   "cell_type": "markdown",
   "metadata": {},
   "source": [
    "- Model Forward  "
   ]
  },
  {
   "cell_type": "code",
   "execution_count": 11,
   "metadata": {},
   "outputs": [],
   "source": [
    "def model_fn(data, model, criterion, device, count=1, which_type='train'):\n",
    "    \"\"\"Forward a batch through the model.\"\"\"\n",
    "    batched_g, labels = data\n",
    "    batched_g = batched_g.to(device)\n",
    "    \n",
    "    labels = labels.to(device)\n",
    "    logits = model(batched_g, batched_g.ndata['feat'].float()) # for GAT\n",
    "    logits = logits.mean(dim=1)\n",
    "    \n",
    "    loss = criterion(logits, labels)\n",
    "\n",
    "    # Get the class id with the highest probability\n",
    "    preds = logits.argmax(1)\n",
    "    \n",
    "    # Compute accuracy\n",
    "    accuracy = torch.mean((preds == labels).float())\n",
    "    \n",
    "    if which_type == 'validation' and count % 1000 == 0:\n",
    "        add_log_msg(f\"labels of Validation: {labels} {labels.shape}\")\n",
    "        add_log_msg(f\"predicted of Validation: {preds} {preds.shape}\")\n",
    "        \n",
    "    elif which_type == 'test'  and count % 1000 == 0:\n",
    "        add_log_msg(f\"labels of Test: {labels} {labels.shape}\")\n",
    "        add_log_msg(f\"predicted of Test: {preds} {preds.shape}\")\n",
    "        \n",
    "    if count % 5000 == 0: \n",
    "        add_log_msg(f\"labels of {count}: {labels} {labels.shape}\")\n",
    "        add_log_msg(f\"predicted of {count}: {preds} {preds.shape}\")\n",
    "        \n",
    "    return loss, accuracy, preds"
   ]
  },
  {
   "cell_type": "markdown",
   "metadata": {},
   "source": [
    "### Training"
   ]
  },
  {
   "cell_type": "markdown",
   "metadata": {},
   "source": [
    "- Fix the seed and save the model.state_dict that contains the initial weight"
   ]
  },
  {
   "cell_type": "code",
   "execution_count": 12,
   "metadata": {},
   "outputs": [],
   "source": [
    "seed = 8787\n",
    "same_seeds(seed)\n",
    "\n",
    "model = GAT(in_dim=50, hidden_dim=16, out_dim=168, num_heads=8)\n",
    "torch.save(model.state_dict(), 'model1_initial/initial_weight.pth')"
   ]
  },
  {
   "cell_type": "code",
   "execution_count": 13,
   "metadata": {},
   "outputs": [
    {
     "data": {
      "text/plain": [
       "Parameter containing:\n",
       "tensor([[-0.1806, -0.0598,  0.0091,  ...,  0.0719,  0.2496,  0.0873],\n",
       "        [ 0.1694, -0.0015, -0.0139,  ...,  0.0147,  0.0892,  0.0146],\n",
       "        [ 0.0969, -0.0595, -0.0115,  ..., -0.0474,  0.0529, -0.0565],\n",
       "        ...,\n",
       "        [-0.0433, -0.2248,  0.3002,  ...,  0.0850,  0.1621,  0.0422],\n",
       "        [ 0.2097, -0.2492,  0.0612,  ..., -0.0041,  0.0365, -0.1483],\n",
       "        [ 0.0971, -0.2221,  0.1652,  ..., -0.1312, -0.2610,  0.0077]],\n",
       "       requires_grad=True)"
      ]
     },
     "execution_count": 13,
     "metadata": {},
     "output_type": "execute_result"
    }
   ],
   "source": [
    "model.layer1.fc.weight"
   ]
  },
  {
   "cell_type": "markdown",
   "metadata": {},
   "source": [
    "- Check if model really load the model_dict"
   ]
  },
  {
   "cell_type": "code",
   "execution_count": 14,
   "metadata": {},
   "outputs": [
    {
     "data": {
      "text/plain": [
       "Parameter containing:\n",
       "tensor([[-0.1806, -0.0598,  0.0091,  ...,  0.0719,  0.2496,  0.0873],\n",
       "        [ 0.1694, -0.0015, -0.0139,  ...,  0.0147,  0.0892,  0.0146],\n",
       "        [ 0.0969, -0.0595, -0.0115,  ..., -0.0474,  0.0529, -0.0565],\n",
       "        ...,\n",
       "        [-0.0433, -0.2248,  0.3002,  ...,  0.0850,  0.1621,  0.0422],\n",
       "        [ 0.2097, -0.2492,  0.0612,  ..., -0.0041,  0.0365, -0.1483],\n",
       "        [ 0.0971, -0.2221,  0.1652,  ..., -0.1312, -0.2610,  0.0077]],\n",
       "       requires_grad=True)"
      ]
     },
     "execution_count": 14,
     "metadata": {},
     "output_type": "execute_result"
    }
   ],
   "source": [
    "model = GAT(in_dim=50, hidden_dim=16, out_dim=168, num_heads=8)\n",
    "model.load_state_dict(torch.load('model1_initial/initial_weight.pth'))\n",
    "model.layer1.fc.weight"
   ]
  },
  {
   "cell_type": "markdown",
   "metadata": {},
   "source": [
    "### test of valid and test part is ``graph``"
   ]
  },
  {
   "cell_type": "markdown",
   "metadata": {},
   "source": [
    "- Batch size = 4\n",
    "- use large lr and scheduler"
   ]
  },
  {
   "cell_type": "code",
   "execution_count": null,
   "metadata": {
    "scrolled": true
   },
   "outputs": [
    {
     "data": {
      "application/vnd.jupyter.widget-view+json": {
       "model_id": "28fb737f5257476c894d51b534b5b468",
       "version_major": 2,
       "version_minor": 0
      },
      "text/plain": [
       "  0%|          | 0/100 [00:00<?, ?it/s]"
      ]
     },
     "metadata": {},
     "output_type": "display_data"
    },
    {
     "data": {
      "application/vnd.jupyter.widget-view+json": {
       "model_id": "3fccf2e5cf1b4aa8bca5f7459007a65a",
       "version_major": 2,
       "version_minor": 0
      },
      "text/plain": [
       "Training:   0%|          | 0/8300 [00:00<?, ?it/s]"
      ]
     },
     "metadata": {},
     "output_type": "display_data"
    },
    {
     "name": "stdout",
     "output_type": "stream",
     "text": [
      "09/01/2023, 17:18:26# labels of 5000: tensor([118,  77,  47, 108, 123,  11, 150,  19,  60,  82, 116,  59,  66,  10,\n",
      "         99,  84], device='cuda:2') torch.Size([16])\n",
      "09/01/2023, 17:18:26# predicted of 5000: tensor([156,  65,  65,  65,  25,  65,  65,  65,  65,  82,  65,  65,  65,  65,\n",
      "        159, 159], device='cuda:2') torch.Size([16])\n",
      "09/01/2023, 17:20:52# total batches: 8300\n",
      "09/01/2023, 17:20:52# Epoch 0 | Train Loss: 4.5664 | Train Accuracy: 0.0640\n"
     ]
    },
    {
     "data": {
      "application/vnd.jupyter.widget-view+json": {
       "model_id": "161b0e5c8a154f1cb04344b95f1f0477",
       "version_major": 2,
       "version_minor": 0
      },
      "text/plain": [
       "Validation:   0%|          | 0/1038 [00:00<?, ?it/s]"
      ]
     },
     "metadata": {},
     "output_type": "display_data"
    },
    {
     "name": "stdout",
     "output_type": "stream",
     "text": [
      "09/01/2023, 17:20:52# labels of Validation: tensor([136, 114,  46,  34, 149, 153,  31,   4,  95,  31,  23,  33, 106, 126,\n",
      "        149, 134], device='cuda:2') torch.Size([16])\n",
      "09/01/2023, 17:20:52# predicted of Validation: tensor([159, 132, 132, 132, 149, 132, 132, 132,  17, 132,  17, 132, 106,  50,\n",
      "        149, 134], device='cuda:2') torch.Size([16])\n",
      "09/01/2023, 17:20:52# labels of 0: tensor([136, 114,  46,  34, 149, 153,  31,   4,  95,  31,  23,  33, 106, 126,\n",
      "        149, 134], device='cuda:2') torch.Size([16])\n",
      "09/01/2023, 17:20:52# predicted of 0: tensor([159, 132, 132, 132, 149, 132, 132, 132,  17, 132,  17, 132, 106,  50,\n",
      "        149, 134], device='cuda:2') torch.Size([16])\n",
      "09/01/2023, 17:21:27# labels of Validation: tensor([ 44, 118,  17, 147,  93, 164, 109, 138,  75,  91,  33, 152, 159,  34,\n",
      "         31, 166], device='cuda:2') torch.Size([16])\n",
      "09/01/2023, 17:21:27# predicted of Validation: tensor([132, 118,  17, 147, 132, 132, 132,  16, 132, 132, 132, 132, 159, 132,\n",
      "        132, 132], device='cuda:2') torch.Size([16])\n",
      "09/01/2023, 17:21:29# Validation Loss: 4.0560 | Validation Accuracy: 0.2056\n",
      "\n",
      "09/01/2023, 17:21:29# Find a better model!!\n"
     ]
    },
    {
     "data": {
      "application/vnd.jupyter.widget-view+json": {
       "model_id": "550350749d974be1a765b15c5c1c88a4",
       "version_major": 2,
       "version_minor": 0
      },
      "text/plain": [
       "Training:   0%|          | 0/8300 [00:00<?, ?it/s]"
      ]
     },
     "metadata": {},
     "output_type": "display_data"
    },
    {
     "name": "stdout",
     "output_type": "stream",
     "text": [
      "09/01/2023, 17:25:11# labels of 5000: tensor([162, 139, 130,  16, 105,  93,  54, 107,  29,  94,   1,  85,  88, 124,\n",
      "        127,  24], device='cuda:2') torch.Size([16])\n",
      "09/01/2023, 17:25:11# predicted of 5000: tensor([161, 161, 130,  16, 105,  28, 161,  28,  29, 118,   6,  85, 161, 155,\n",
      "        127,  28], device='cuda:2') torch.Size([16])\n",
      "09/01/2023, 17:28:06# total batches: 8300\n",
      "09/01/2023, 17:28:06# Epoch 1 | Train Loss: 3.7593 | Train Accuracy: 0.2365\n"
     ]
    },
    {
     "data": {
      "application/vnd.jupyter.widget-view+json": {
       "model_id": "29b0c89a8c264a128ceee009c32124c0",
       "version_major": 2,
       "version_minor": 0
      },
      "text/plain": [
       "Validation:   0%|          | 0/1038 [00:00<?, ?it/s]"
      ]
     },
     "metadata": {},
     "output_type": "display_data"
    },
    {
     "name": "stdout",
     "output_type": "stream",
     "text": [
      "09/01/2023, 17:28:06# labels of Validation: tensor([ 92, 114,  73, 137, 145, 141,   5, 135,  29, 123, 127,   6,  30, 116,\n",
      "        115,  57], device='cuda:2') torch.Size([16])\n",
      "09/01/2023, 17:28:06# predicted of Validation: tensor([131, 132,  73, 131, 145, 132,  61, 131,  29, 123, 127, 132, 131, 131,\n",
      "        115, 131], device='cuda:2') torch.Size([16])\n",
      "09/01/2023, 17:28:06# labels of 0: tensor([ 92, 114,  73, 137, 145, 141,   5, 135,  29, 123, 127,   6,  30, 116,\n",
      "        115,  57], device='cuda:2') torch.Size([16])\n",
      "09/01/2023, 17:28:06# predicted of 0: tensor([131, 132,  73, 131, 145, 132,  61, 131,  29, 123, 127, 132, 131, 131,\n",
      "        115, 131], device='cuda:2') torch.Size([16])\n",
      "09/01/2023, 17:29:12# labels of Validation: tensor([ 37,  91, 103, 125,  30,  53,  98, 138, 119,  52,  94, 101,  68,  95,\n",
      "        131,  23], device='cuda:2') torch.Size([16])\n",
      "09/01/2023, 17:29:12# predicted of Validation: tensor([132, 132, 132, 131, 131, 131, 131, 138, 131,  52,  94, 132, 132,  62,\n",
      "        132,  23], device='cuda:2') torch.Size([16])\n",
      "09/01/2023, 17:29:15# Validation Loss: 3.4619 | Validation Accuracy: 0.3338\n",
      "\n",
      "09/01/2023, 17:29:15# Find a better model!!\n"
     ]
    },
    {
     "data": {
      "application/vnd.jupyter.widget-view+json": {
       "model_id": "d25b121fff2f4a78aa4c30a3d974d8fb",
       "version_major": 2,
       "version_minor": 0
      },
      "text/plain": [
       "Training:   0%|          | 0/8300 [00:00<?, ?it/s]"
      ]
     },
     "metadata": {},
     "output_type": "display_data"
    },
    {
     "name": "stdout",
     "output_type": "stream",
     "text": [
      "09/01/2023, 17:35:24# labels of 5000: tensor([126,  38,  15,  15, 140, 144, 121,  90, 142, 149,  67, 122,  57,   1,\n",
      "        100,  88], device='cuda:2') torch.Size([16])\n",
      "09/01/2023, 17:35:24# predicted of 5000: tensor([126, 103,  45,  15, 140, 142, 101, 132, 101, 149,  67, 122, 144, 125,\n",
      "         28,  51], device='cuda:2') torch.Size([16])\n",
      "09/01/2023, 17:37:44# total batches: 8300\n",
      "09/01/2023, 17:37:44# Epoch 2 | Train Loss: 3.2914 | Train Accuracy: 0.3307\n"
     ]
    },
    {
     "data": {
      "application/vnd.jupyter.widget-view+json": {
       "model_id": "1cb25e3ea87547a9ad04b4855740de26",
       "version_major": 2,
       "version_minor": 0
      },
      "text/plain": [
       "Validation:   0%|          | 0/1038 [00:00<?, ?it/s]"
      ]
     },
     "metadata": {},
     "output_type": "display_data"
    },
    {
     "name": "stdout",
     "output_type": "stream",
     "text": [
      "09/01/2023, 17:37:45# labels of Validation: tensor([135,  48,  28,  56,  33, 108,  17, 129, 117,  69,  94,  51,  59,   8,\n",
      "         64,  17], device='cuda:2') torch.Size([16])\n",
      "09/01/2023, 17:37:45# predicted of Validation: tensor([ 11,  11,  28,  56,  11,  28,  17,  28, 117,  69,  94,  28,  28,  28,\n",
      "         28,  17], device='cuda:2') torch.Size([16])\n",
      "09/01/2023, 17:37:45# labels of 0: tensor([135,  48,  28,  56,  33, 108,  17, 129, 117,  69,  94,  51,  59,   8,\n",
      "         64,  17], device='cuda:2') torch.Size([16])\n",
      "09/01/2023, 17:37:45# predicted of 0: tensor([ 11,  11,  28,  56,  11,  28,  17,  28, 117,  69,  94,  28,  28,  28,\n",
      "         28,  17], device='cuda:2') torch.Size([16])\n",
      "09/01/2023, 17:38:13# labels of Validation: tensor([108,  18,  79,  17,  46,   6, 126, 163,  84,   1, 164,  61,  82, 156,\n",
      "         55,  21], device='cuda:2') torch.Size([16])\n",
      "09/01/2023, 17:38:13# predicted of Validation: tensor([ 28,  11,  78,  17,  11,  28, 126,  11,  84,  11,  11,  61,  82, 156,\n",
      "         11,  28], device='cuda:2') torch.Size([16])\n",
      "09/01/2023, 17:38:14# Validation Loss: 3.1106 | Validation Accuracy: 0.3746\n",
      "\n",
      "09/01/2023, 17:38:14# Find a better model!!\n"
     ]
    },
    {
     "data": {
      "application/vnd.jupyter.widget-view+json": {
       "model_id": "db1c597e7df048f1961ff2766e8f5c39",
       "version_major": 2,
       "version_minor": 0
      },
      "text/plain": [
       "Training:   0%|          | 0/8300 [00:00<?, ?it/s]"
      ]
     },
     "metadata": {},
     "output_type": "display_data"
    },
    {
     "name": "stdout",
     "output_type": "stream",
     "text": [
      "09/01/2023, 17:41:16# labels of 5000: tensor([158,  80,  97, 153,  32, 111, 159,  27, 150,  34,  56,  29,  38,  98,\n",
      "         24, 138], device='cuda:2') torch.Size([16])\n",
      "09/01/2023, 17:41:16# predicted of 5000: tensor([114,  80, 102,  28,  32, 100, 159,  27, 162, 137,  56,  29, 102, 141,\n",
      "         53, 138], device='cuda:2') torch.Size([16])\n",
      "09/01/2023, 17:43:17# total batches: 8300\n",
      "09/01/2023, 17:43:17# Epoch 3 | Train Loss: 3.0394 | Train Accuracy: 0.3607\n"
     ]
    },
    {
     "data": {
      "application/vnd.jupyter.widget-view+json": {
       "model_id": "3c4427b701544927b6b7eb6254e21019",
       "version_major": 2,
       "version_minor": 0
      },
      "text/plain": [
       "Validation:   0%|          | 0/1038 [00:00<?, ?it/s]"
      ]
     },
     "metadata": {},
     "output_type": "display_data"
    },
    {
     "name": "stdout",
     "output_type": "stream",
     "text": [
      "09/01/2023, 17:43:17# labels of Validation: tensor([113, 160,   2, 159,  92,   7,  84,  40,  76, 161, 166, 149, 133,  54,\n",
      "          9, 140], device='cuda:2') torch.Size([16])\n",
      "09/01/2023, 17:43:17# predicted of Validation: tensor([161, 161,  37, 159,  37,   7,  84,  40,  37, 161, 161, 149, 161,  37,\n",
      "         37, 140], device='cuda:2') torch.Size([16])\n",
      "09/01/2023, 17:43:17# labels of 0: tensor([113, 160,   2, 159,  92,   7,  84,  40,  76, 161, 166, 149, 133,  54,\n",
      "          9, 140], device='cuda:2') torch.Size([16])\n",
      "09/01/2023, 17:43:17# predicted of 0: tensor([161, 161,  37, 159,  37,   7,  84,  40,  37, 161, 161, 149, 161,  37,\n",
      "         37, 140], device='cuda:2') torch.Size([16])\n",
      "09/01/2023, 17:43:46# labels of Validation: tensor([162,   2, 101,  81,  58,  88,  99,  87, 150,  23, 129,  57, 105,  57,\n",
      "          3, 146], device='cuda:2') torch.Size([16])\n",
      "09/01/2023, 17:43:46# predicted of Validation: tensor([ 37,  37, 161,  37,  37, 161,  99,  37,  37,  23, 161,  37, 105,  37,\n",
      "          3, 146], device='cuda:2') torch.Size([16])\n",
      "09/01/2023, 17:43:47# Validation Loss: 2.9468 | Validation Accuracy: 0.3650\n",
      "\n",
      "09/01/2023, 17:43:47# Find a better model!!\n"
     ]
    },
    {
     "data": {
      "application/vnd.jupyter.widget-view+json": {
       "model_id": "2ba59d2abf6249bc83cba198cd8bac78",
       "version_major": 2,
       "version_minor": 0
      },
      "text/plain": [
       "Training:   0%|          | 0/8300 [00:00<?, ?it/s]"
      ]
     },
     "metadata": {},
     "output_type": "display_data"
    },
    {
     "name": "stdout",
     "output_type": "stream",
     "text": [
      "09/01/2023, 17:47:00# labels of 5000: tensor([135,  41, 103,  30,  48,  23, 132,  58,  87,  90,   4, 163,  11, 154,\n",
      "         70,  43], device='cuda:2') torch.Size([16])\n",
      "09/01/2023, 17:47:00# predicted of 5000: tensor([131, 139,   6, 131,  74,  23,   6,  74,  65,   6, 131,  74, 131, 154,\n",
      "         70,  49], device='cuda:2') torch.Size([16])\n",
      "09/01/2023, 17:49:10# total batches: 8300\n",
      "09/01/2023, 17:49:10# Epoch 4 | Train Loss: 2.9172 | Train Accuracy: 0.3690\n"
     ]
    },
    {
     "data": {
      "application/vnd.jupyter.widget-view+json": {
       "model_id": "e416f2102c9943ef8723a4270dac4d72",
       "version_major": 2,
       "version_minor": 0
      },
      "text/plain": [
       "Validation:   0%|          | 0/1038 [00:00<?, ?it/s]"
      ]
     },
     "metadata": {},
     "output_type": "display_data"
    },
    {
     "name": "stdout",
     "output_type": "stream",
     "text": [
      "09/01/2023, 17:49:10# labels of Validation: tensor([130,  74,   4,   7, 150, 108, 141, 102,  88, 165,  65, 108,  71, 146,\n",
      "        100, 158], device='cuda:2') torch.Size([16])\n",
      "09/01/2023, 17:49:10# predicted of Validation: tensor([130,  63,  63,   7,  63, 132,  66,  63,  66, 165,  63, 132,  63, 146,\n",
      "         66,  63], device='cuda:2') torch.Size([16])\n",
      "09/01/2023, 17:49:10# labels of 0: tensor([130,  74,   4,   7, 150, 108, 141, 102,  88, 165,  65, 108,  71, 146,\n",
      "        100, 158], device='cuda:2') torch.Size([16])\n",
      "09/01/2023, 17:49:10# predicted of 0: tensor([130,  63,  63,   7,  63, 132,  66,  63,  66, 165,  63, 132,  63, 146,\n",
      "         66,  63], device='cuda:2') torch.Size([16])\n",
      "09/01/2023, 17:49:40# labels of Validation: tensor([ 80, 132,  80,  83,  66,  29, 148,  72,  60, 139, 151, 128,   3,  73,\n",
      "         90, 108], device='cuda:2') torch.Size([16])\n",
      "09/01/2023, 17:49:40# predicted of Validation: tensor([ 80, 132,  80,  63, 132,  29,  66,  94,  63,  63,  63, 128,   3,  73,\n",
      "         66, 132], device='cuda:2') torch.Size([16])\n",
      "09/01/2023, 17:49:41# Validation Loss: 2.8701 | Validation Accuracy: 0.3736\n",
      "\n",
      "09/01/2023, 17:49:41# Find a better model!!\n"
     ]
    },
    {
     "data": {
      "application/vnd.jupyter.widget-view+json": {
       "model_id": "97f40efa05d64945af5498e7c8f32d62",
       "version_major": 2,
       "version_minor": 0
      },
      "text/plain": [
       "Training:   0%|          | 0/8300 [00:00<?, ?it/s]"
      ]
     },
     "metadata": {},
     "output_type": "display_data"
    },
    {
     "name": "stdout",
     "output_type": "stream",
     "text": [
      "09/01/2023, 17:52:53# labels of 5000: tensor([ 53,  45,  51,  99, 135,  88, 148, 129, 112,  85,  25, 116, 161, 151,\n",
      "        159,  37], device='cuda:2') torch.Size([16])\n",
      "09/01/2023, 17:52:53# predicted of 5000: tensor([111,  45,  28,  99,  47,  28, 155,  28, 155,  85,  25, 155,  28,  58,\n",
      "        159, 131], device='cuda:2') torch.Size([16])\n",
      "09/01/2023, 17:54:59# total batches: 8300\n",
      "09/01/2023, 17:54:59# Epoch 5 | Train Loss: 2.8614 | Train Accuracy: 0.3728\n"
     ]
    },
    {
     "data": {
      "application/vnd.jupyter.widget-view+json": {
       "model_id": "0b5d6a434e9f4ea998e2b6fbe573fad6",
       "version_major": 2,
       "version_minor": 0
      },
      "text/plain": [
       "Validation:   0%|          | 0/1038 [00:00<?, ?it/s]"
      ]
     },
     "metadata": {},
     "output_type": "display_data"
    },
    {
     "name": "stdout",
     "output_type": "stream",
     "text": [
      "09/01/2023, 17:54:59# labels of Validation: tensor([ 39, 159,  50,  74, 153,   0,  20, 130,  68,   4,  29,  58, 131, 113,\n",
      "         11,  17], device='cuda:2') torch.Size([16])\n",
      "09/01/2023, 17:54:59# predicted of Validation: tensor([ 39, 159,  50, 109, 109,   0, 109, 130,  66, 109,  29, 109, 132,  66,\n",
      "        109,  17], device='cuda:2') torch.Size([16])\n",
      "09/01/2023, 17:54:59# labels of 0: tensor([ 39, 159,  50,  74, 153,   0,  20, 130,  68,   4,  29,  58, 131, 113,\n",
      "         11,  17], device='cuda:2') torch.Size([16])\n",
      "09/01/2023, 17:54:59# predicted of 0: tensor([ 39, 159,  50, 109, 109,   0, 109, 130,  66, 109,  29, 109, 132,  66,\n",
      "        109,  17], device='cuda:2') torch.Size([16])\n",
      "09/01/2023, 17:55:29# labels of Validation: tensor([ 53,   0, 147,  88,  94, 148, 121,  83,  95, 125,  14, 159, 122, 120,\n",
      "         79,  85], device='cuda:2') torch.Size([16])\n",
      "09/01/2023, 17:55:29# predicted of Validation: tensor([109,   0, 147,  66,  94,  66, 109, 109,  95, 109, 109, 159, 122, 120,\n",
      "         94,  85], device='cuda:2') torch.Size([16])\n",
      "09/01/2023, 17:55:30# Validation Loss: 2.8371 | Validation Accuracy: 0.3749\n",
      "\n",
      "09/01/2023, 17:55:30# Find a better model!!\n"
     ]
    },
    {
     "data": {
      "application/vnd.jupyter.widget-view+json": {
       "model_id": "1db67c80d1e0499f845f4626e090c7ae",
       "version_major": 2,
       "version_minor": 0
      },
      "text/plain": [
       "Training:   0%|          | 0/8300 [00:00<?, ?it/s]"
      ]
     },
     "metadata": {},
     "output_type": "display_data"
    },
    {
     "name": "stdout",
     "output_type": "stream",
     "text": [
      "09/01/2023, 17:58:44# labels of 5000: tensor([153,  39, 131,   1,  53, 107, 113,  60,  32, 105, 143,  96, 124,  69,\n",
      "          4, 149], device='cuda:2') torch.Size([16])\n",
      "09/01/2023, 17:58:44# predicted of 5000: tensor([ 18,  39,   6, 113, 113,  28,  28,  18,  32, 105, 113,  96,  18,  69,\n",
      "        129, 149], device='cuda:2') torch.Size([16])\n",
      "09/01/2023, 18:00:50# total batches: 8300\n",
      "09/01/2023, 18:00:50# Epoch 6 | Train Loss: 2.8334 | Train Accuracy: 0.3753\n"
     ]
    },
    {
     "data": {
      "application/vnd.jupyter.widget-view+json": {
       "model_id": "07e4b3127bdd4ae6ae1253ac0e20899e",
       "version_major": 2,
       "version_minor": 0
      },
      "text/plain": [
       "Validation:   0%|          | 0/1038 [00:00<?, ?it/s]"
      ]
     },
     "metadata": {},
     "output_type": "display_data"
    },
    {
     "name": "stdout",
     "output_type": "stream",
     "text": [
      "09/01/2023, 18:00:50# labels of Validation: tensor([142,  16,  19,  59, 125, 117,  25, 153, 159, 125, 118, 107,  27, 116,\n",
      "         82,   7], device='cuda:2') torch.Size([16])\n",
      "09/01/2023, 18:00:50# predicted of Validation: tensor([ 43,  16,  43,   6,  43, 117,  25,  43, 159,  43, 118,   6,  27,  43,\n",
      "         82,   7], device='cuda:2') torch.Size([16])\n",
      "09/01/2023, 18:00:50# labels of 0: tensor([142,  16,  19,  59, 125, 117,  25, 153, 159, 125, 118, 107,  27, 116,\n",
      "         82,   7], device='cuda:2') torch.Size([16])\n",
      "09/01/2023, 18:00:50# predicted of 0: tensor([ 43,  16,  43,   6,  43, 117,  25,  43, 159,  43, 118,   6,  27,  43,\n",
      "         82,   7], device='cuda:2') torch.Size([16])\n",
      "09/01/2023, 18:01:19# labels of Validation: tensor([ 44, 100,   3,  25,  64, 150, 124, 119,  19, 141,  28,  45, 133, 103,\n",
      "        106,  81], device='cuda:2') torch.Size([16])\n",
      "09/01/2023, 18:01:19# predicted of Validation: tensor([ 43,   6,   3,  25,   6,  43,  43,  43,  43,   6,   6,  45,   6,   6,\n",
      "        106,  43], device='cuda:2') torch.Size([16])\n",
      "09/01/2023, 18:01:20# Validation Loss: 2.8168 | Validation Accuracy: 0.3820\n",
      "\n",
      "09/01/2023, 18:01:20# Find a better model!!\n"
     ]
    },
    {
     "data": {
      "application/vnd.jupyter.widget-view+json": {
       "model_id": "bf2268729a6b4ff094f2f800307ff6e0",
       "version_major": 2,
       "version_minor": 0
      },
      "text/plain": [
       "Training:   0%|          | 0/8300 [00:00<?, ?it/s]"
      ]
     },
     "metadata": {},
     "output_type": "display_data"
    },
    {
     "name": "stdout",
     "output_type": "stream",
     "text": [
      "09/01/2023, 18:04:30# labels of 5000: tensor([ 83,  84,  79,   2, 104,  26,  37, 159,  65,  69, 115, 117,  65,   5,\n",
      "         57,  91], device='cuda:2') torch.Size([16])\n",
      "09/01/2023, 18:04:30# predicted of 5000: tensor([  9,  84,  72,  31,  64,   9, 114, 159, 161,  69, 115, 117,  65,   5,\n",
      "         31, 132], device='cuda:2') torch.Size([16])\n",
      "09/01/2023, 18:06:39# total batches: 8300\n",
      "09/01/2023, 18:06:39# Epoch 7 | Train Loss: 2.8156 | Train Accuracy: 0.3766\n"
     ]
    },
    {
     "data": {
      "application/vnd.jupyter.widget-view+json": {
       "model_id": "835ee57748534714bb139044a274127d",
       "version_major": 2,
       "version_minor": 0
      },
      "text/plain": [
       "Validation:   0%|          | 0/1038 [00:00<?, ?it/s]"
      ]
     },
     "metadata": {},
     "output_type": "display_data"
    },
    {
     "name": "stdout",
     "output_type": "stream",
     "text": [
      "09/01/2023, 18:06:39# labels of Validation: tensor([ 87,  60, 121,  27,  89,  26, 162,  13,  87, 164, 156,  83,  42, 135,\n",
      "        116,  89], device='cuda:2') torch.Size([16])\n",
      "09/01/2023, 18:06:39# predicted of Validation: tensor([ 47,  47,  47,  27,  89,  47,  47,  13,  47,  47, 156,  47,  47,  47,\n",
      "         47,  89], device='cuda:2') torch.Size([16])\n",
      "09/01/2023, 18:06:39# labels of 0: tensor([ 87,  60, 121,  27,  89,  26, 162,  13,  87, 164, 156,  83,  42, 135,\n",
      "        116,  89], device='cuda:2') torch.Size([16])\n",
      "09/01/2023, 18:06:39# predicted of 0: tensor([ 47,  47,  47,  27,  89,  47,  47,  13,  47,  47, 156,  47,  47,  47,\n",
      "         47,  89], device='cuda:2') torch.Size([16])\n",
      "09/01/2023, 18:07:10# labels of Validation: tensor([ 30,  52,  34,  75,  79,  19,  31,  89, 155,   0,  30,  25,  87,  70,\n",
      "         90,  25], device='cuda:2') torch.Size([16])\n",
      "09/01/2023, 18:07:10# predicted of Validation: tensor([ 47,  52,  47,  47,  79,  47,  47,  89, 161,   0,  47,  25,  47,  70,\n",
      "        161,  25], device='cuda:2') torch.Size([16])\n",
      "09/01/2023, 18:07:11# Validation Loss: 2.8036 | Validation Accuracy: 0.3769\n",
      "\n",
      "09/01/2023, 18:07:11# Find a better model!!\n"
     ]
    },
    {
     "data": {
      "application/vnd.jupyter.widget-view+json": {
       "model_id": "f4f688d441a946fba36a3e43bf30be2e",
       "version_major": 2,
       "version_minor": 0
      },
      "text/plain": [
       "Training:   0%|          | 0/8300 [00:00<?, ?it/s]"
      ]
     },
     "metadata": {},
     "output_type": "display_data"
    },
    {
     "name": "stdout",
     "output_type": "stream",
     "text": [
      "09/01/2023, 18:10:21# labels of 5000: tensor([109,  64, 113, 146,  81, 133, 144,  23,  14, 113, 156, 111, 149, 132,\n",
      "         54,  44], device='cuda:2') torch.Size([16])\n",
      "09/01/2023, 18:10:21# predicted of 5000: tensor([151, 132, 108, 146,   4, 103,   4,  23, 151, 108, 156, 108, 149, 132,\n",
      "        103,  55], device='cuda:2') torch.Size([16])\n",
      "09/01/2023, 18:12:31# total batches: 8300\n",
      "09/01/2023, 18:12:31# Epoch 8 | Train Loss: 2.8009 | Train Accuracy: 0.3777\n"
     ]
    },
    {
     "data": {
      "application/vnd.jupyter.widget-view+json": {
       "model_id": "8b163e90ab7e436fadca5d4bea4f1d1d",
       "version_major": 2,
       "version_minor": 0
      },
      "text/plain": [
       "Validation:   0%|          | 0/1038 [00:00<?, ?it/s]"
      ]
     },
     "metadata": {},
     "output_type": "display_data"
    },
    {
     "name": "stdout",
     "output_type": "stream",
     "text": [
      "09/01/2023, 18:12:31# labels of Validation: tensor([ 58, 104,  16, 161,  33, 133, 104, 137, 111,  82, 156, 126,  72,  29,\n",
      "        116,  12], device='cuda:2') torch.Size([16])\n",
      "09/01/2023, 18:12:31# predicted of Validation: tensor([ 54,  54,  16, 132,  54,  91,  54,  54,  54,  82, 156, 126,  79,  29,\n",
      "         54,  54], device='cuda:2') torch.Size([16])\n",
      "09/01/2023, 18:12:31# labels of 0: tensor([ 58, 104,  16, 161,  33, 133, 104, 137, 111,  82, 156, 126,  72,  29,\n",
      "        116,  12], device='cuda:2') torch.Size([16])\n",
      "09/01/2023, 18:12:31# predicted of 0: tensor([ 54,  54,  16, 132,  54,  91,  54,  54,  54,  82, 156, 126,  79,  29,\n",
      "         54,  54], device='cuda:2') torch.Size([16])\n",
      "09/01/2023, 18:13:01# labels of Validation: tensor([ 98,  98,  98,  91,  34, 125,  10,  83,  80,  91,  98,   9,  33, 149,\n",
      "        131, 122], device='cuda:2') torch.Size([16])\n",
      "09/01/2023, 18:13:01# predicted of Validation: tensor([ 54,  54,  54, 132,  54,  54,  54,  54,  80, 132,  54,  54,  54, 149,\n",
      "        132, 122], device='cuda:2') torch.Size([16])\n",
      "09/01/2023, 18:13:02# Validation Loss: 2.7934 | Validation Accuracy: 0.3752\n",
      "\n",
      "09/01/2023, 18:13:02# Find a better model!!\n"
     ]
    },
    {
     "data": {
      "application/vnd.jupyter.widget-view+json": {
       "model_id": "d185d4155cd74caab9ca3763ce609cd8",
       "version_major": 2,
       "version_minor": 0
      },
      "text/plain": [
       "Training:   0%|          | 0/8300 [00:00<?, ?it/s]"
      ]
     },
     "metadata": {},
     "output_type": "display_data"
    },
    {
     "name": "stdout",
     "output_type": "stream",
     "text": [
      "09/01/2023, 18:16:08# labels of 5000: tensor([ 80, 117,   1,  88,  55,  64,  52,  71, 132,   0,  85,   0,  20,  62,\n",
      "         42, 113], device='cuda:2') torch.Size([16])\n",
      "09/01/2023, 18:16:08# predicted of 5000: tensor([ 80, 117,  10,  51,  10,  51,  52,  10, 161,   0,  85,   0,  10,  62,\n",
      "         88, 161], device='cuda:2') torch.Size([16])\n",
      "09/01/2023, 18:18:17# total batches: 8300\n",
      "09/01/2023, 18:18:17# Epoch 9 | Train Loss: 2.7908 | Train Accuracy: 0.3794\n"
     ]
    },
    {
     "data": {
      "application/vnd.jupyter.widget-view+json": {
       "model_id": "2490a9d19eed45c785ac74160c0c0d2b",
       "version_major": 2,
       "version_minor": 0
      },
      "text/plain": [
       "Validation:   0%|          | 0/1038 [00:00<?, ?it/s]"
      ]
     },
     "metadata": {},
     "output_type": "display_data"
    },
    {
     "name": "stdout",
     "output_type": "stream",
     "text": [
      "09/01/2023, 18:18:17# labels of Validation: tensor([ 65, 114,  53,  53, 104,  91, 115,  98,  39,  99, 124,  52, 119,  35,\n",
      "         85, 108], device='cuda:2') torch.Size([16])\n",
      "09/01/2023, 18:18:17# predicted of Validation: tensor([ 44, 132,  44,  44,  44, 132, 115,  44,  39,  99,  44,  52,  44,  35,\n",
      "         85, 132], device='cuda:2') torch.Size([16])\n",
      "09/01/2023, 18:18:17# labels of 0: tensor([ 65, 114,  53,  53, 104,  91, 115,  98,  39,  99, 124,  52, 119,  35,\n",
      "         85, 108], device='cuda:2') torch.Size([16])\n",
      "09/01/2023, 18:18:17# predicted of 0: tensor([ 44, 132,  44,  44,  44, 132, 115,  44,  39,  99,  44,  52,  44,  35,\n",
      "         85, 132], device='cuda:2') torch.Size([16])\n",
      "09/01/2023, 18:18:46# labels of Validation: tensor([ 21,  51,  80, 120, 160, 145,  47, 136,  54,   9, 137,  74, 147,  97,\n",
      "        163,  33], device='cuda:2') torch.Size([16])\n",
      "09/01/2023, 18:18:46# predicted of Validation: tensor([132, 132,  80, 120, 132, 145,  44, 136,  44,  44,  44,  44, 147,  44,\n",
      "         44,  44], device='cuda:2') torch.Size([16])\n",
      "09/01/2023, 18:18:47# Validation Loss: 2.7848 | Validation Accuracy: 0.3764\n",
      "\n",
      "09/01/2023, 18:18:47# Find a better model!!\n"
     ]
    },
    {
     "data": {
      "application/vnd.jupyter.widget-view+json": {
       "model_id": "4434887fa376430bbe8d45faa5c595c3",
       "version_major": 2,
       "version_minor": 0
      },
      "text/plain": [
       "Training:   0%|          | 0/8300 [00:00<?, ?it/s]"
      ]
     },
     "metadata": {},
     "output_type": "display_data"
    },
    {
     "name": "stdout",
     "output_type": "stream",
     "text": [
      "09/01/2023, 18:21:59# labels of 5000: tensor([ 17,   7,  17, 100, 161, 115,   8,  25,   0, 134,  64, 129,  98,  25,\n",
      "        154, 131], device='cuda:2') torch.Size([16])\n",
      "09/01/2023, 18:21:59# predicted of 5000: tensor([ 17,   7,  17,  65, 108, 115,  66,  25,   0, 134, 161, 161, 148,  25,\n",
      "        154, 161], device='cuda:2') torch.Size([16])\n",
      "09/01/2023, 18:24:05# total batches: 8300\n",
      "09/01/2023, 18:24:05# Epoch 10 | Train Loss: 2.7814 | Train Accuracy: 0.3796\n"
     ]
    },
    {
     "data": {
      "application/vnd.jupyter.widget-view+json": {
       "model_id": "c23eb2519b304667821b53eaa950c4ab",
       "version_major": 2,
       "version_minor": 0
      },
      "text/plain": [
       "Validation:   0%|          | 0/1038 [00:00<?, ?it/s]"
      ]
     },
     "metadata": {},
     "output_type": "display_data"
    },
    {
     "name": "stdout",
     "output_type": "stream",
     "text": [
      "09/01/2023, 18:24:05# labels of Validation: tensor([144,  83,  71, 157, 116, 154,  63,  83,  78, 130,   0,  93,  94, 126,\n",
      "         20,  62], device='cuda:2') torch.Size([16])\n",
      "09/01/2023, 18:24:05# predicted of Validation: tensor([124, 124, 124, 124, 124, 154, 124, 124,  67, 130,   0, 155,  94, 126,\n",
      "        124,  62], device='cuda:2') torch.Size([16])\n",
      "09/01/2023, 18:24:05# labels of 0: tensor([144,  83,  71, 157, 116, 154,  63,  83,  78, 130,   0,  93,  94, 126,\n",
      "         20,  62], device='cuda:2') torch.Size([16])\n",
      "09/01/2023, 18:24:05# predicted of 0: tensor([124, 124, 124, 124, 124, 154, 124, 124,  67, 130,   0, 155,  94, 126,\n",
      "        124,  62], device='cuda:2') torch.Size([16])\n",
      "09/01/2023, 18:24:34# labels of Validation: tensor([134, 121, 145,  55, 131,  82, 166, 162,  48,  76,  54, 150,  81,  57,\n",
      "          4,  36], device='cuda:2') torch.Size([16])\n",
      "09/01/2023, 18:24:34# predicted of Validation: tensor([134, 124, 145, 124, 132,  82, 132, 124, 124, 124, 124, 124, 124, 124,\n",
      "        124, 124], device='cuda:2') torch.Size([16])\n",
      "09/01/2023, 18:24:35# Validation Loss: 2.7758 | Validation Accuracy: 0.3772\n",
      "\n",
      "09/01/2023, 18:24:35# Find a better model!!\n"
     ]
    },
    {
     "data": {
      "application/vnd.jupyter.widget-view+json": {
       "model_id": "e209d3fa05364111ad3446a762d60ce9",
       "version_major": 2,
       "version_minor": 0
      },
      "text/plain": [
       "Training:   0%|          | 0/8300 [00:00<?, ?it/s]"
      ]
     },
     "metadata": {},
     "output_type": "display_data"
    },
    {
     "name": "stdout",
     "output_type": "stream",
     "text": [
      "09/01/2023, 18:27:49# labels of 5000: tensor([155, 160,  30, 148, 143,  72, 130, 118, 105,  65, 152,  15,  80, 166,\n",
      "         64, 103], device='cuda:2') torch.Size([16])\n",
      "09/01/2023, 18:27:49# predicted of 5000: tensor([132,  65,  90, 101,  36,  72, 130, 118, 105,  65, 101,  15,  80, 161,\n",
      "         90, 101], device='cuda:2') torch.Size([16])\n",
      "09/01/2023, 18:29:56# total batches: 8300\n",
      "09/01/2023, 18:29:56# Epoch 11 | Train Loss: 2.7742 | Train Accuracy: 0.3806\n"
     ]
    },
    {
     "data": {
      "application/vnd.jupyter.widget-view+json": {
       "model_id": "91b53bcbf37c4a19b0894ab3da39e2c8",
       "version_major": 2,
       "version_minor": 0
      },
      "text/plain": [
       "Validation:   0%|          | 0/1038 [00:00<?, ?it/s]"
      ]
     },
     "metadata": {},
     "output_type": "display_data"
    },
    {
     "name": "stdout",
     "output_type": "stream",
     "text": [
      "09/01/2023, 18:29:56# labels of Validation: tensor([104, 138,  60, 141,  73, 100, 132,  50, 118, 159, 147,  42,  93,  14,\n",
      "         92,  77], device='cuda:2') torch.Size([16])\n",
      "09/01/2023, 18:29:56# predicted of Validation: tensor([ 24, 138,  24,   6,  73,   6, 161,  50, 118, 159, 147,  24,   6,  24,\n",
      "         24,   6], device='cuda:2') torch.Size([16])\n",
      "09/01/2023, 18:29:56# labels of 0: tensor([104, 138,  60, 141,  73, 100, 132,  50, 118, 159, 147,  42,  93,  14,\n",
      "         92,  77], device='cuda:2') torch.Size([16])\n",
      "09/01/2023, 18:29:56# predicted of 0: tensor([ 24, 138,  24,   6,  73,   6, 161,  50, 118, 159, 147,  24,   6,  24,\n",
      "         24,   6], device='cuda:2') torch.Size([16])\n",
      "09/01/2023, 18:30:26# labels of Validation: tensor([  4,  25, 127, 163,  38,  13, 135, 132,   2, 139, 164,  89,  98,  59,\n",
      "          0,  86], device='cuda:2') torch.Size([16])\n",
      "09/01/2023, 18:30:26# predicted of Validation: tensor([ 24,  25, 127,  24,  24,  13,  24, 161,  24,  24,  24,  89,  24,   6,\n",
      "          0,  24], device='cuda:2') torch.Size([16])\n",
      "09/01/2023, 18:30:27# Validation Loss: 2.7687 | Validation Accuracy: 0.3778\n",
      "\n",
      "09/01/2023, 18:30:27# Find a better model!!\n"
     ]
    },
    {
     "data": {
      "application/vnd.jupyter.widget-view+json": {
       "model_id": "c61d95cb8dcb4db4b7cf4bd60d8cb87f",
       "version_major": 2,
       "version_minor": 0
      },
      "text/plain": [
       "Training:   0%|          | 0/8300 [00:00<?, ?it/s]"
      ]
     },
     "metadata": {},
     "output_type": "display_data"
    },
    {
     "name": "stdout",
     "output_type": "stream",
     "text": [
      "09/01/2023, 18:33:40# labels of 5000: tensor([104, 104, 135,   7, 125, 156,  54,  88,  19, 101,  30,  70,  13,  96,\n",
      "        106,  17], device='cuda:2') torch.Size([16])\n",
      "09/01/2023, 18:33:40# predicted of 5000: tensor([111, 111, 111,   7, 111, 156, 111, 132, 111, 132, 111,  70,  13,  96,\n",
      "        106,  17], device='cuda:2') torch.Size([16])\n",
      "09/01/2023, 18:35:46# total batches: 8300\n",
      "09/01/2023, 18:35:46# Epoch 12 | Train Loss: 2.7666 | Train Accuracy: 0.3822\n"
     ]
    },
    {
     "data": {
      "application/vnd.jupyter.widget-view+json": {
       "model_id": "d026197382024c389a8da72edad026a3",
       "version_major": 2,
       "version_minor": 0
      },
      "text/plain": [
       "Validation:   0%|          | 0/1038 [00:00<?, ?it/s]"
      ]
     },
     "metadata": {},
     "output_type": "display_data"
    },
    {
     "name": "stdout",
     "output_type": "stream",
     "text": [
      "09/01/2023, 18:35:46# labels of Validation: tensor([135,  99,  94,  41,   0,  42,  72,   7,  39, 101, 156,  46, 106, 131,\n",
      "        138, 153], device='cuda:2') torch.Size([16])\n",
      "09/01/2023, 18:35:46# predicted of Validation: tensor([ 97,  99,  94,  97,   0,  97,  79,   7,  39, 161, 156,  97, 106, 161,\n",
      "        138,  97], device='cuda:2') torch.Size([16])\n",
      "09/01/2023, 18:35:46# labels of 0: tensor([135,  99,  94,  41,   0,  42,  72,   7,  39, 101, 156,  46, 106, 131,\n",
      "        138, 153], device='cuda:2') torch.Size([16])\n",
      "09/01/2023, 18:35:46# predicted of 0: tensor([ 97,  99,  94,  97,   0,  97,  79,   7,  39, 161, 156,  97, 106, 161,\n",
      "        138,  97], device='cuda:2') torch.Size([16])\n",
      "09/01/2023, 18:36:17# labels of Validation: tensor([ 74,  38,  63, 144,  68,  28,  30,   5,  65,  39,  62,  14, 110,  36,\n",
      "         62, 148], device='cuda:2') torch.Size([16])\n",
      "09/01/2023, 18:36:17# predicted of Validation: tensor([ 97,  97,  97,  97,  91, 161,  97,   5,  97,  39,  62,  97,  91,  97,\n",
      "         62,  91], device='cuda:2') torch.Size([16])\n",
      "09/01/2023, 18:36:18# Validation Loss: 2.7634 | Validation Accuracy: 0.3769\n",
      "\n",
      "09/01/2023, 18:36:18# Find a better model!!\n"
     ]
    },
    {
     "data": {
      "application/vnd.jupyter.widget-view+json": {
       "model_id": "8a4d950770fa4641bb70fda4d176c021",
       "version_major": 2,
       "version_minor": 0
      },
      "text/plain": [
       "Training:   0%|          | 0/8300 [00:00<?, ?it/s]"
      ]
     },
     "metadata": {},
     "output_type": "display_data"
    },
    {
     "name": "stdout",
     "output_type": "stream",
     "text": [
      "09/01/2023, 18:39:33# labels of 5000: tensor([ 93,  58,  38,  38, 101,  60,  26,  15, 107, 142,  46,  63,   6,  62,\n",
      "        109, 114], device='cuda:2') torch.Size([16])\n",
      "09/01/2023, 18:39:33# predicted of 5000: tensor([161,  54,  54,  54, 108,  54,  54,  15, 161,  54,  54,  54, 161,  62,\n",
      "         54, 161], device='cuda:2') torch.Size([16])\n",
      "09/01/2023, 18:41:41# total batches: 8300\n",
      "09/01/2023, 18:41:41# Epoch 13 | Train Loss: 2.7610 | Train Accuracy: 0.3820\n"
     ]
    },
    {
     "data": {
      "application/vnd.jupyter.widget-view+json": {
       "model_id": "3d8f468ff7f54f48a669ae34d7e8bc1b",
       "version_major": 2,
       "version_minor": 0
      },
      "text/plain": [
       "Validation:   0%|          | 0/1038 [00:00<?, ?it/s]"
      ]
     },
     "metadata": {},
     "output_type": "display_data"
    },
    {
     "name": "stdout",
     "output_type": "stream",
     "text": [
      "09/01/2023, 18:41:41# labels of Validation: tensor([ 35, 120,  70, 106,  81,  45, 107,  72,   7, 108,  38,  54,  14,  57,\n",
      "         67,  43], device='cuda:2') torch.Size([16])\n",
      "09/01/2023, 18:41:41# predicted of Validation: tensor([ 35, 120,  70, 106,  53,  45,   6,  72,   7,   6,  53,  53,  53,  53,\n",
      "         78,  53], device='cuda:2') torch.Size([16])\n",
      "09/01/2023, 18:41:41# labels of 0: tensor([ 35, 120,  70, 106,  81,  45, 107,  72,   7, 108,  38,  54,  14,  57,\n",
      "         67,  43], device='cuda:2') torch.Size([16])\n",
      "09/01/2023, 18:41:41# predicted of 0: tensor([ 35, 120,  70, 106,  53,  45,   6,  72,   7,   6,  53,  53,  53,  53,\n",
      "         78,  53], device='cuda:2') torch.Size([16])\n",
      "09/01/2023, 18:42:11# labels of Validation: tensor([123,  65, 132,  33, 136,  52, 136,  67, 125,  33, 134,   0,  71, 146,\n",
      "        137,  81], device='cuda:2') torch.Size([16])\n",
      "09/01/2023, 18:42:11# predicted of Validation: tensor([123,  53, 132,  53, 136,  52, 136,  78,  53,  53, 134,   0,  53, 146,\n",
      "         53,  53], device='cuda:2') torch.Size([16])\n",
      "09/01/2023, 18:42:12# Validation Loss: 2.7589 | Validation Accuracy: 0.3776\n",
      "\n",
      "09/01/2023, 18:42:12# Find a better model!!\n"
     ]
    },
    {
     "data": {
      "application/vnd.jupyter.widget-view+json": {
       "model_id": "406eb129e80f475ab19ef3c79206bed8",
       "version_major": 2,
       "version_minor": 0
      },
      "text/plain": [
       "Training:   0%|          | 0/8300 [00:00<?, ?it/s]"
      ]
     },
     "metadata": {},
     "output_type": "display_data"
    },
    {
     "name": "stdout",
     "output_type": "stream",
     "text": [
      "09/01/2023, 18:45:21# labels of 5000: tensor([  2, 161, 148,   7, 138, 147,  23,   7,  42, 126,  87, 104, 100, 164,\n",
      "        153,  17], device='cuda:2') torch.Size([16])\n",
      "09/01/2023, 18:45:21# predicted of 5000: tensor([ 26,   6,  59,   7, 138, 147,  23,   7, 148, 126, 125,  26,   6, 125,\n",
      "         64,  17], device='cuda:2') torch.Size([16])\n",
      "09/01/2023, 18:47:30# total batches: 8300\n",
      "09/01/2023, 18:47:30# Epoch 14 | Train Loss: 2.7558 | Train Accuracy: 0.3829\n"
     ]
    },
    {
     "data": {
      "application/vnd.jupyter.widget-view+json": {
       "model_id": "512e4ac3623d403ab4a2aa17144138e2",
       "version_major": 2,
       "version_minor": 0
      },
      "text/plain": [
       "Validation:   0%|          | 0/1038 [00:00<?, ?it/s]"
      ]
     },
     "metadata": {},
     "output_type": "display_data"
    },
    {
     "name": "stdout",
     "output_type": "stream",
     "text": [
      "09/01/2023, 18:47:30# labels of Validation: tensor([  7,  65, 111, 109,  57, 152,  21,  41, 102, 144,  65,  39,  19,  80,\n",
      "         76, 130], device='cuda:2') torch.Size([16])\n",
      "09/01/2023, 18:47:30# predicted of Validation: tensor([  7, 102, 102, 102, 102, 102, 161, 102, 102, 102, 102,  39, 102,  80,\n",
      "        102, 130], device='cuda:2') torch.Size([16])\n",
      "09/01/2023, 18:47:30# labels of 0: tensor([  7,  65, 111, 109,  57, 152,  21,  41, 102, 144,  65,  39,  19,  80,\n",
      "         76, 130], device='cuda:2') torch.Size([16])\n",
      "09/01/2023, 18:47:30# predicted of 0: tensor([  7, 102, 102, 102, 102, 102, 161, 102, 102, 102, 102,  39, 102,  80,\n",
      "        102, 130], device='cuda:2') torch.Size([16])\n",
      "09/01/2023, 18:47:59# labels of Validation: tensor([ 43, 111, 161,  93,  99, 152,  44, 142, 129, 132, 113, 119,  78,  12,\n",
      "        115,   3], device='cuda:2') torch.Size([16])\n",
      "09/01/2023, 18:47:59# predicted of Validation: tensor([102, 102, 161, 101,  99, 102, 102, 102, 101, 161, 101, 102,  67, 102,\n",
      "        115,   3], device='cuda:2') torch.Size([16])\n",
      "09/01/2023, 18:48:00# Validation Loss: 2.7531 | Validation Accuracy: 0.3780\n",
      "\n",
      "09/01/2023, 18:48:00# Find a better model!!\n"
     ]
    },
    {
     "data": {
      "application/vnd.jupyter.widget-view+json": {
       "model_id": "dacefbd9f17e4fd8920ebeb406a146f5",
       "version_major": 2,
       "version_minor": 0
      },
      "text/plain": [
       "Training:   0%|          | 0/8300 [00:00<?, ?it/s]"
      ]
     },
     "metadata": {},
     "output_type": "display_data"
    },
    {
     "name": "stdout",
     "output_type": "stream",
     "text": [
      "09/01/2023, 18:51:13# labels of 5000: tensor([152,  86, 134, 166, 102,  59,  89,  41, 143,  28, 104,  32, 166, 105,\n",
      "         50,  44], device='cuda:2') torch.Size([16])\n",
      "09/01/2023, 18:51:13# predicted of 5000: tensor([ 37, 102, 134, 161,  12,  53,  89, 102,  31, 161, 125,  32,   6, 105,\n",
      "         50,  53], device='cuda:2') torch.Size([16])\n",
      "09/01/2023, 18:53:17# total batches: 8300\n",
      "09/01/2023, 18:53:17# Epoch 15 | Train Loss: 2.7503 | Train Accuracy: 0.3834\n"
     ]
    },
    {
     "data": {
      "application/vnd.jupyter.widget-view+json": {
       "model_id": "6d7848993f6d4e4b94d4df0263196809",
       "version_major": 2,
       "version_minor": 0
      },
      "text/plain": [
       "Validation:   0%|          | 0/1038 [00:00<?, ?it/s]"
      ]
     },
     "metadata": {},
     "output_type": "display_data"
    },
    {
     "name": "stdout",
     "output_type": "stream",
     "text": [
      "09/01/2023, 18:53:17# labels of Validation: tensor([139, 125, 101,  79,   6,  52,  39, 163,  70, 107, 105, 155,  53,  60,\n",
      "        151,  81], device='cuda:2') torch.Size([16])\n",
      "09/01/2023, 18:53:17# predicted of Validation: tensor([ 98,  98,  28,  79,  28,  52,  39,  98,  70,  28, 105,  28,  98,  98,\n",
      "         98,  98], device='cuda:2') torch.Size([16])\n",
      "09/01/2023, 18:53:17# labels of 0: tensor([139, 125, 101,  79,   6,  52,  39, 163,  70, 107, 105, 155,  53,  60,\n",
      "        151,  81], device='cuda:2') torch.Size([16])\n",
      "09/01/2023, 18:53:17# predicted of 0: tensor([ 98,  98,  28,  79,  28,  52,  39,  98,  70,  28, 105,  28,  98,  98,\n",
      "         98,  98], device='cuda:2') torch.Size([16])\n",
      "09/01/2023, 18:53:48# labels of Validation: tensor([ 34, 116, 156,  99, 144, 144,  86,  45,  98, 108,  29, 157,  66, 166,\n",
      "         56, 105], device='cuda:2') torch.Size([16])\n",
      "09/01/2023, 18:53:48# predicted of Validation: tensor([ 98,  98, 156,  99,  98,  98,  98,  45,  98,  28,  29,  98,  28,  28,\n",
      "         56, 105], device='cuda:2') torch.Size([16])\n",
      "09/01/2023, 18:53:49# Validation Loss: 2.7485 | Validation Accuracy: 0.3840\n",
      "\n",
      "09/01/2023, 18:53:49# Find a better model!!\n"
     ]
    },
    {
     "data": {
      "application/vnd.jupyter.widget-view+json": {
       "model_id": "efea5f0ff73047ef950af8dcc417c730",
       "version_major": 2,
       "version_minor": 0
      },
      "text/plain": [
       "Training:   0%|          | 0/8300 [00:00<?, ?it/s]"
      ]
     },
     "metadata": {},
     "output_type": "display_data"
    },
    {
     "name": "stdout",
     "output_type": "stream",
     "text": [
      "09/01/2023, 18:57:03# labels of 5000: tensor([ 56, 156,  49,  33, 122,  97,  75, 140,  94,  93,  23,  10, 111,  25,\n",
      "         65,  40], device='cuda:2') torch.Size([16])\n",
      "09/01/2023, 18:57:03# predicted of 5000: tensor([ 56, 156,  71,  71, 122, 116,  38, 140,  94,  36,  23,  71,  71,  25,\n",
      "         28,  40], device='cuda:2') torch.Size([16])\n",
      "09/01/2023, 18:59:08# total batches: 8300\n",
      "09/01/2023, 18:59:08# Epoch 16 | Train Loss: 2.7463 | Train Accuracy: 0.3834\n"
     ]
    },
    {
     "data": {
      "application/vnd.jupyter.widget-view+json": {
       "model_id": "fa4b51d7bbce4eefb3b28a80ea512308",
       "version_major": 2,
       "version_minor": 0
      },
      "text/plain": [
       "Validation:   0%|          | 0/1038 [00:00<?, ?it/s]"
      ]
     },
     "metadata": {},
     "output_type": "display_data"
    },
    {
     "name": "stdout",
     "output_type": "stream",
     "text": [
      "09/01/2023, 18:59:08# labels of Validation: tensor([ 61,  79, 159,  48,  46,  30,  67, 163,  83, 102, 152, 102, 143,  46,\n",
      "        112, 141], device='cuda:2') torch.Size([16])\n",
      "09/01/2023, 18:59:08# predicted of Validation: tensor([ 61,  79, 159, 121, 121, 121,  78, 121, 121, 121, 121, 121, 121, 121,\n",
      "        121, 108], device='cuda:2') torch.Size([16])\n",
      "09/01/2023, 18:59:08# labels of 0: tensor([ 61,  79, 159,  48,  46,  30,  67, 163,  83, 102, 152, 102, 143,  46,\n",
      "        112, 141], device='cuda:2') torch.Size([16])\n",
      "09/01/2023, 18:59:08# predicted of 0: tensor([ 61,  79, 159, 121, 121, 121,  78, 121, 121, 121, 121, 121, 121, 121,\n",
      "        121, 108], device='cuda:2') torch.Size([16])\n",
      "09/01/2023, 18:59:38# labels of Validation: tensor([ 30, 114,  89, 160,  90,  92,  65,  80,   3,  51, 130, 112, 160, 126,\n",
      "          8,  41], device='cuda:2') torch.Size([16])\n",
      "09/01/2023, 18:59:38# predicted of Validation: tensor([121, 108,  89, 108, 108, 121, 121,  80,   3, 132, 130, 121, 108, 126,\n",
      "        108, 121], device='cuda:2') torch.Size([16])\n",
      "09/01/2023, 18:59:39# Validation Loss: 2.7445 | Validation Accuracy: 0.3784\n",
      "\n",
      "09/01/2023, 18:59:39# Find a better model!!\n"
     ]
    },
    {
     "data": {
      "application/vnd.jupyter.widget-view+json": {
       "model_id": "de4cf600a4ba45cb8b6e4334759e9815",
       "version_major": 2,
       "version_minor": 0
      },
      "text/plain": [
       "Training:   0%|          | 0/8300 [00:00<?, ?it/s]"
      ]
     },
     "metadata": {},
     "output_type": "display_data"
    },
    {
     "name": "stdout",
     "output_type": "stream",
     "text": [
      "09/01/2023, 19:02:51# labels of 5000: tensor([130, 145,  65,  17, 118,  43, 123,  78,  15, 101,  29, 157, 112,  93,\n",
      "        106,   8], device='cuda:2') torch.Size([16])\n",
      "09/01/2023, 19:02:51# predicted of 5000: tensor([130, 145,  26,  17, 118,  20, 123,  78,  15,  28,  29,  26,  26,  51,\n",
      "        106,  20], device='cuda:2') torch.Size([16])\n",
      "09/01/2023, 19:04:55# total batches: 8300\n",
      "09/01/2023, 19:04:55# Epoch 17 | Train Loss: 2.7422 | Train Accuracy: 0.3843\n"
     ]
    },
    {
     "data": {
      "application/vnd.jupyter.widget-view+json": {
       "model_id": "43dcae9e4e4e4b84adaeed43e8929af8",
       "version_major": 2,
       "version_minor": 0
      },
      "text/plain": [
       "Validation:   0%|          | 0/1038 [00:00<?, ?it/s]"
      ]
     },
     "metadata": {},
     "output_type": "display_data"
    },
    {
     "name": "stdout",
     "output_type": "stream",
     "text": [
      "09/01/2023, 19:04:55# labels of Validation: tensor([121, 123, 105, 113,  17,  16, 151,  94,  51, 132,  69,  63,  20,  18,\n",
      "         65,  88], device='cuda:2') torch.Size([16])\n",
      "09/01/2023, 19:04:55# predicted of Validation: tensor([ 98, 123, 105, 131,  17,  16,  98,  94, 132, 132,  69,  98,  98,  98,\n",
      "         98, 131], device='cuda:2') torch.Size([16])\n",
      "09/01/2023, 19:04:55# labels of 0: tensor([121, 123, 105, 113,  17,  16, 151,  94,  51, 132,  69,  63,  20,  18,\n",
      "         65,  88], device='cuda:2') torch.Size([16])\n",
      "09/01/2023, 19:04:55# predicted of 0: tensor([ 98, 123, 105, 131,  17,  16,  98,  94, 132, 132,  69,  98,  98,  98,\n",
      "         98, 131], device='cuda:2') torch.Size([16])\n",
      "09/01/2023, 19:05:26# labels of Validation: tensor([ 63, 123, 164,  91,  54, 114, 131,  52, 116, 154,   9,  38, 114,  73,\n",
      "          0,  87], device='cuda:2') torch.Size([16])\n",
      "09/01/2023, 19:05:26# predicted of Validation: tensor([ 98, 123,  98, 131,  98, 131, 132,  52,  98, 154,  98,  98, 131,  73,\n",
      "          0,  98], device='cuda:2') torch.Size([16])\n",
      "09/01/2023, 19:05:27# Validation Loss: 2.7414 | Validation Accuracy: 0.3787\n",
      "\n",
      "09/01/2023, 19:05:27# Find a better model!!\n"
     ]
    },
    {
     "data": {
      "application/vnd.jupyter.widget-view+json": {
       "model_id": "76f7d96112c64fe29b26e8f56a955e7b",
       "version_major": 2,
       "version_minor": 0
      },
      "text/plain": [
       "Training:   0%|          | 0/8300 [00:00<?, ?it/s]"
      ]
     },
     "metadata": {},
     "output_type": "display_data"
    },
    {
     "name": "stdout",
     "output_type": "stream",
     "text": [
      "09/01/2023, 19:08:40# labels of 5000: tensor([143,  55, 106,  14,  42,  53, 131, 154,  44, 149,  32,  42, 121, 155,\n",
      "         29, 139], device='cuda:2') torch.Size([16])\n",
      "09/01/2023, 19:08:40# predicted of 5000: tensor([112, 112, 106, 158,  83,  83, 132, 154, 112, 149,  32,  83,  83, 132,\n",
      "         29,  36], device='cuda:2') torch.Size([16])\n",
      "09/01/2023, 19:10:48# total batches: 8300\n",
      "09/01/2023, 19:10:48# Epoch 18 | Train Loss: 2.7388 | Train Accuracy: 0.3841\n"
     ]
    },
    {
     "data": {
      "application/vnd.jupyter.widget-view+json": {
       "model_id": "fb6f8f60180e4256b6b2471ea72c727a",
       "version_major": 2,
       "version_minor": 0
      },
      "text/plain": [
       "Validation:   0%|          | 0/1038 [00:00<?, ?it/s]"
      ]
     },
     "metadata": {},
     "output_type": "display_data"
    },
    {
     "name": "stdout",
     "output_type": "stream",
     "text": [
      "09/01/2023, 19:10:49# labels of Validation: tensor([151,  56,  14, 101, 134, 123, 121,  31,  47, 156,  80,  31, 140, 142,\n",
      "        130,  59], device='cuda:2') torch.Size([16])\n",
      "09/01/2023, 19:10:49# predicted of Validation: tensor([ 24,  56,  24,   6, 134, 123,  24,  24,  24, 156,  80,  24, 140,  24,\n",
      "        130,   6], device='cuda:2') torch.Size([16])\n",
      "09/01/2023, 19:10:49# labels of 0: tensor([151,  56,  14, 101, 134, 123, 121,  31,  47, 156,  80,  31, 140, 142,\n",
      "        130,  59], device='cuda:2') torch.Size([16])\n",
      "09/01/2023, 19:10:49# predicted of 0: tensor([ 24,  56,  24,   6, 134, 123,  24,  24,  24, 156,  80,  24, 140,  24,\n",
      "        130,   6], device='cuda:2') torch.Size([16])\n",
      "09/01/2023, 19:11:20# labels of Validation: tensor([166, 163, 110,  74,  48,  32, 143,   4,  54, 146,  52,   2, 100, 142,\n",
      "         50,  49], device='cuda:2') torch.Size([16])\n",
      "09/01/2023, 19:11:20# predicted of Validation: tensor([  6,  24,  21,  24,  24,  32,  24,  24,  24, 146,  52,  24,  21,  24,\n",
      "         50,  24], device='cuda:2') torch.Size([16])\n",
      "09/01/2023, 19:11:21# Validation Loss: 2.7380 | Validation Accuracy: 0.3792\n",
      "\n",
      "09/01/2023, 19:11:21# Find a better model!!\n"
     ]
    },
    {
     "data": {
      "application/vnd.jupyter.widget-view+json": {
       "model_id": "421eb3170dd146ebb97bfd160d1a1f51",
       "version_major": 2,
       "version_minor": 0
      },
      "text/plain": [
       "Training:   0%|          | 0/8300 [00:00<?, ?it/s]"
      ]
     },
     "metadata": {},
     "output_type": "display_data"
    },
    {
     "name": "stdout",
     "output_type": "stream",
     "text": [
      "09/01/2023, 19:14:32# labels of 5000: tensor([150,  76, 137,  18,  96,  32, 107,  80,  63, 132, 105,  50,  98,  47,\n",
      "        114,  26], device='cuda:2') torch.Size([16])\n",
      "09/01/2023, 19:14:32# predicted of 5000: tensor([116, 164, 151, 119,  96,  32,  51,  80, 164, 132, 105,  50, 114, 153,\n",
      "         28, 151], device='cuda:2') torch.Size([16])\n",
      "09/01/2023, 19:16:41# total batches: 8300\n",
      "09/01/2023, 19:16:41# Epoch 19 | Train Loss: 2.7349 | Train Accuracy: 0.3848\n"
     ]
    },
    {
     "data": {
      "application/vnd.jupyter.widget-view+json": {
       "model_id": "1b38fd4a3146425eb1db34ba6e26e99e",
       "version_major": 2,
       "version_minor": 0
      },
      "text/plain": [
       "Validation:   0%|          | 0/1038 [00:00<?, ?it/s]"
      ]
     },
     "metadata": {},
     "output_type": "display_data"
    },
    {
     "name": "stdout",
     "output_type": "stream",
     "text": [
      "09/01/2023, 19:16:41# labels of Validation: tensor([ 83,  70,  61, 152, 153,  93,  28,  77, 165, 107,  16,  21, 142, 156,\n",
      "        110,  58], device='cuda:2') torch.Size([16])\n",
      "09/01/2023, 19:16:41# predicted of Validation: tensor([ 44,  70,  61,  44,  44, 129, 132, 132, 165, 129,  16, 132,  44, 156,\n",
      "        129,  44], device='cuda:2') torch.Size([16])\n",
      "09/01/2023, 19:16:41# labels of 0: tensor([ 83,  70,  61, 152, 153,  93,  28,  77, 165, 107,  16,  21, 142, 156,\n",
      "        110,  58], device='cuda:2') torch.Size([16])\n",
      "09/01/2023, 19:16:41# predicted of 0: tensor([ 44,  70,  61,  44,  44, 129, 132, 132, 165, 129,  16, 132,  44, 156,\n",
      "        129,  44], device='cuda:2') torch.Size([16])\n",
      "09/01/2023, 19:17:10# labels of Validation: tensor([133,  85, 105, 137, 103,  11,  89,  78, 130, 101,  37, 136, 166, 131,\n",
      "        115, 166], device='cuda:2') torch.Size([16])\n",
      "09/01/2023, 19:17:10# predicted of Validation: tensor([129,  85, 105,  44, 129,  44,  89,  67, 130, 132, 129, 136, 132, 132,\n",
      "        115, 132], device='cuda:2') torch.Size([16])\n",
      "09/01/2023, 19:17:11# Validation Loss: 2.7333 | Validation Accuracy: 0.3850\n",
      "\n",
      "09/01/2023, 19:17:11# Find a better model!!\n"
     ]
    },
    {
     "data": {
      "application/vnd.jupyter.widget-view+json": {
       "model_id": "6cbc1d5280fc40d3adee470ce8817c95",
       "version_major": 2,
       "version_minor": 0
      },
      "text/plain": [
       "Training:   0%|          | 0/8300 [00:00<?, ?it/s]"
      ]
     },
     "metadata": {},
     "output_type": "display_data"
    },
    {
     "name": "stdout",
     "output_type": "stream",
     "text": [
      "09/01/2023, 19:20:26# labels of 5000: tensor([ 67,  12, 118, 129, 146, 119,  29, 126,  91,  43,  44, 151,   1,  17,\n",
      "         84, 158], device='cuda:2') torch.Size([16])\n",
      "09/01/2023, 19:20:26# predicted of 5000: tensor([ 67, 116, 118,  51, 146, 125,  29, 126,  51, 119,  42,   9,  42,  17,\n",
      "         84,  10], device='cuda:2') torch.Size([16])\n",
      "09/01/2023, 19:22:30# total batches: 8300\n",
      "09/01/2023, 19:22:30# Epoch 20 | Train Loss: 2.7315 | Train Accuracy: 0.3848\n"
     ]
    },
    {
     "data": {
      "application/vnd.jupyter.widget-view+json": {
       "model_id": "c719dfefdfaa477e8e2e5dcc6238c3ca",
       "version_major": 2,
       "version_minor": 0
      },
      "text/plain": [
       "Validation:   0%|          | 0/1038 [00:00<?, ?it/s]"
      ]
     },
     "metadata": {},
     "output_type": "display_data"
    },
    {
     "name": "stdout",
     "output_type": "stream",
     "text": [
      "09/01/2023, 19:22:30# labels of Validation: tensor([ 74, 150, 127,  90,  87,  41, 120,   7, 144, 149,  10,  85,  88, 101,\n",
      "         52,  13], device='cuda:2') torch.Size([16])\n",
      "09/01/2023, 19:22:30# predicted of Validation: tensor([  4,   4, 127,  77,   4,   4, 120,   7,   4, 149,   4,  85,  77,  77,\n",
      "         52,  13], device='cuda:2') torch.Size([16])\n",
      "09/01/2023, 19:22:30# labels of 0: tensor([ 74, 150, 127,  90,  87,  41, 120,   7, 144, 149,  10,  85,  88, 101,\n",
      "         52,  13], device='cuda:2') torch.Size([16])\n",
      "09/01/2023, 19:22:30# predicted of 0: tensor([  4,   4, 127,  77,   4,   4, 120,   7,   4, 149,   4,  85,  77,  77,\n",
      "         52,  13], device='cuda:2') torch.Size([16])\n",
      "09/01/2023, 19:22:59# labels of Validation: tensor([ 67,  95, 164,  73, 156, 116, 109,  83, 117,  37,  56,  75,  51, 158,\n",
      "         15, 140], device='cuda:2') torch.Size([16])\n",
      "09/01/2023, 19:22:59# predicted of Validation: tensor([ 67,  95,   4,  73, 156,   4,   4,   4, 117,  77,  56,   4, 161,   4,\n",
      "         15, 140], device='cuda:2') torch.Size([16])\n",
      "09/01/2023, 19:23:00# Validation Loss: 2.7317 | Validation Accuracy: 0.3846\n",
      "\n",
      "09/01/2023, 19:23:00# Find a better model!!\n"
     ]
    },
    {
     "data": {
      "application/vnd.jupyter.widget-view+json": {
       "model_id": "e730ebbdf1bd4fdba6364d5ad247c871",
       "version_major": 2,
       "version_minor": 0
      },
      "text/plain": [
       "Training:   0%|          | 0/8300 [00:00<?, ?it/s]"
      ]
     },
     "metadata": {},
     "output_type": "display_data"
    },
    {
     "name": "stdout",
     "output_type": "stream",
     "text": [
      "09/01/2023, 19:26:12# labels of 5000: tensor([118,  69,  60, 144,  84,   4,  28, 124,  99,  61, 137,  30,  99, 129,\n",
      "         94,  42], device='cuda:2') torch.Size([16])\n",
      "09/01/2023, 19:26:12# predicted of 5000: tensor([118,  69,  38,  12,  84,  12,  51,  38,  99,  61,  12,  60,  99,  51,\n",
      "         94,  12], device='cuda:2') torch.Size([16])\n",
      "09/01/2023, 19:27:58# total batches: 8300\n",
      "09/01/2023, 19:27:58# Epoch 21 | Train Loss: 2.7291 | Train Accuracy: 0.3852\n"
     ]
    },
    {
     "data": {
      "application/vnd.jupyter.widget-view+json": {
       "model_id": "39a131142c4e4053aa32b957c3deb51d",
       "version_major": 2,
       "version_minor": 0
      },
      "text/plain": [
       "Validation:   0%|          | 0/1038 [00:00<?, ?it/s]"
      ]
     },
     "metadata": {},
     "output_type": "display_data"
    },
    {
     "name": "stdout",
     "output_type": "stream",
     "text": [
      "09/01/2023, 19:27:58# labels of Validation: tensor([151,  83,   0,  48,  84,  45,  38,  13, 148, 138, 137,  60,  62, 141,\n",
      "         85, 136], device='cuda:2') torch.Size([16])\n",
      "09/01/2023, 19:27:58# predicted of Validation: tensor([119, 119,   0, 119,  84,  45, 119,  13,  21, 138, 119, 119,  62,  21,\n",
      "         85, 136], device='cuda:2') torch.Size([16])\n",
      "09/01/2023, 19:27:58# labels of 0: tensor([151,  83,   0,  48,  84,  45,  38,  13, 148, 138, 137,  60,  62, 141,\n",
      "         85, 136], device='cuda:2') torch.Size([16])\n",
      "09/01/2023, 19:27:58# predicted of 0: tensor([119, 119,   0, 119,  84,  45, 119,  13,  21, 138, 119, 119,  62,  21,\n",
      "         85, 136], device='cuda:2') torch.Size([16])\n",
      "09/01/2023, 19:28:21# labels of Validation: tensor([161, 141, 133,  66, 128,  42,  90,   1,  36,  79, 163,  74,  88,  62,\n",
      "        129,  78], device='cuda:2') torch.Size([16])\n",
      "09/01/2023, 19:28:21# predicted of Validation: tensor([132,  21,  21,   6, 128, 119,  21, 119, 119,  79, 119, 119,  21,  62,\n",
      "         21,  78], device='cuda:2') torch.Size([16])\n",
      "09/01/2023, 19:28:22# Validation Loss: 2.7287 | Validation Accuracy: 0.3789\n",
      "\n",
      "09/01/2023, 19:28:22# Find a better model!!\n"
     ]
    },
    {
     "data": {
      "application/vnd.jupyter.widget-view+json": {
       "model_id": "7759a5782b1a448892515022b223894a",
       "version_major": 2,
       "version_minor": 0
      },
      "text/plain": [
       "Training:   0%|          | 0/8300 [00:00<?, ?it/s]"
      ]
     },
     "metadata": {},
     "output_type": "display_data"
    },
    {
     "name": "stdout",
     "output_type": "stream",
     "text": [
      "09/01/2023, 19:30:53# labels of 5000: tensor([ 34,  21, 133,  67,  72,  66,  46, 146,  43, 103,  33,  53, 150,  64,\n",
      "        131,  12], device='cuda:2') torch.Size([16])\n",
      "09/01/2023, 19:30:53# predicted of 5000: tensor([ 75, 161,  77,  78,  79, 161, 112, 146,  75,  77, 112,  75,  75, 131,\n",
      "          6, 112], device='cuda:2') torch.Size([16])\n",
      "09/01/2023, 19:32:41# total batches: 8300\n",
      "09/01/2023, 19:32:41# Epoch 22 | Train Loss: 2.7264 | Train Accuracy: 0.3852\n"
     ]
    },
    {
     "data": {
      "application/vnd.jupyter.widget-view+json": {
       "model_id": "7d29710ca98e48b5a57ded2451a2e21d",
       "version_major": 2,
       "version_minor": 0
      },
      "text/plain": [
       "Validation:   0%|          | 0/1038 [00:00<?, ?it/s]"
      ]
     },
     "metadata": {},
     "output_type": "display_data"
    },
    {
     "name": "stdout",
     "output_type": "stream",
     "text": [
      "09/01/2023, 19:32:41# labels of Validation: tensor([151, 124,   4, 141,  88,  16,  80,  81,  98,  45, 136,  92, 114,  49,\n",
      "        134, 140], device='cuda:2') torch.Size([16])\n",
      "09/01/2023, 19:32:41# predicted of Validation: tensor([ 86,  86,  86, 108, 108,  16,  80,  86,  86,  45, 136,  86, 108,  86,\n",
      "        134, 140], device='cuda:2') torch.Size([16])\n",
      "09/01/2023, 19:32:41# labels of 0: tensor([151, 124,   4, 141,  88,  16,  80,  81,  98,  45, 136,  92, 114,  49,\n",
      "        134, 140], device='cuda:2') torch.Size([16])\n",
      "09/01/2023, 19:32:41# predicted of 0: tensor([ 86,  86,  86, 108, 108,  16,  80,  86,  86,  45, 136,  86, 108,  86,\n",
      "        134, 140], device='cuda:2') torch.Size([16])\n",
      "09/01/2023, 19:33:12# labels of Validation: tensor([ 26,  84,  51,  10,  86,  32, 123,  38,  34,  62,  59,   8, 140, 129,\n",
      "         52, 128], device='cuda:2') torch.Size([16])\n",
      "09/01/2023, 19:33:12# predicted of Validation: tensor([ 86,  84, 132,  86,  86,  32, 123,  86,  86,  62, 108, 108, 140, 108,\n",
      "         52, 128], device='cuda:2') torch.Size([16])\n",
      "09/01/2023, 19:33:13# Validation Loss: 2.7279 | Validation Accuracy: 0.3784\n",
      "\n",
      "09/01/2023, 19:33:13# Find a better model!!\n"
     ]
    },
    {
     "data": {
      "application/vnd.jupyter.widget-view+json": {
       "model_id": "c2d5ba34e7464f4a847ea19e3b1ba5d8",
       "version_major": 2,
       "version_minor": 0
      },
      "text/plain": [
       "Training:   0%|          | 0/8300 [00:00<?, ?it/s]"
      ]
     },
     "metadata": {},
     "output_type": "display_data"
    },
    {
     "name": "stdout",
     "output_type": "stream",
     "text": [
      "09/01/2023, 19:36:29# labels of 5000: tensor([165, 165, 153,  20,  48,  30, 148,  46,  63,  87,  90,  41,  64,  13,\n",
      "         26, 111], device='cuda:2') torch.Size([16])\n",
      "09/01/2023, 19:36:29# predicted of 5000: tensor([165, 165,  71, 143, 143,  83,  91,  58,  98,  33, 161,  33, 161,  13,\n",
      "         71,  33], device='cuda:2') torch.Size([16])\n",
      "09/01/2023, 19:38:40# total batches: 8300\n",
      "09/01/2023, 19:38:40# Epoch 23 | Train Loss: 2.7248 | Train Accuracy: 0.3849\n"
     ]
    },
    {
     "data": {
      "application/vnd.jupyter.widget-view+json": {
       "model_id": "5c22b74285654fbe89012327dc53dfee",
       "version_major": 2,
       "version_minor": 0
      },
      "text/plain": [
       "Validation:   0%|          | 0/1038 [00:00<?, ?it/s]"
      ]
     },
     "metadata": {},
     "output_type": "display_data"
    },
    {
     "name": "stdout",
     "output_type": "stream",
     "text": [
      "09/01/2023, 19:38:40# labels of Validation: tensor([ 40, 124, 165, 157,  57, 165, 160,  19,   7, 131, 153,  59,  53,  40,\n",
      "         82, 135], device='cuda:2') torch.Size([16])\n",
      "09/01/2023, 19:38:40# predicted of Validation: tensor([ 40,   1, 165,   1,   1, 165, 108,   1,   7, 132,   1, 132,   1,  40,\n",
      "         82,   1], device='cuda:2') torch.Size([16])\n",
      "09/01/2023, 19:38:40# labels of 0: tensor([ 40, 124, 165, 157,  57, 165, 160,  19,   7, 131, 153,  59,  53,  40,\n",
      "         82, 135], device='cuda:2') torch.Size([16])\n",
      "09/01/2023, 19:38:40# predicted of 0: tensor([ 40,   1, 165,   1,   1, 165, 108,   1,   7, 132,   1, 132,   1,  40,\n",
      "         82,   1], device='cuda:2') torch.Size([16])\n",
      "09/01/2023, 19:39:11# labels of Validation: tensor([130,  84, 162,  81,  17,  81, 129,  10,  31,  75, 102,  88,  98,  70,\n",
      "         25,  21], device='cuda:2') torch.Size([16])\n",
      "09/01/2023, 19:39:11# predicted of Validation: tensor([130,  84,   1,   1,  17,   1, 108,   1,   1,   1,   1, 108,   1,  70,\n",
      "         25, 132], device='cuda:2') torch.Size([16])\n",
      "09/01/2023, 19:39:12# Validation Loss: 2.7223 | Validation Accuracy: 0.3791\n",
      "\n",
      "09/01/2023, 19:39:12# Find a better model!!\n"
     ]
    },
    {
     "data": {
      "application/vnd.jupyter.widget-view+json": {
       "model_id": "2b04dd0efc5744ccae91416495e78d4a",
       "version_major": 2,
       "version_minor": 0
      },
      "text/plain": [
       "Training:   0%|          | 0/8300 [00:00<?, ?it/s]"
      ]
     },
     "metadata": {},
     "output_type": "display_data"
    },
    {
     "name": "stdout",
     "output_type": "stream",
     "text": [
      "09/01/2023, 19:42:33# labels of 5000: tensor([150,  97,  26, 122,  28, 111, 149, 134,  93, 132,  53,  29,   8, 165,\n",
      "         24,  30], device='cuda:2') torch.Size([16])\n",
      "09/01/2023, 19:42:33# predicted of 5000: tensor([111, 111, 111, 122, 161, 100, 149, 134, 100, 132, 104,  29, 100, 165,\n",
      "        111, 111], device='cuda:2') torch.Size([16])\n",
      "09/01/2023, 19:44:44# total batches: 8300\n",
      "09/01/2023, 19:44:44# Epoch 24 | Train Loss: 2.7212 | Train Accuracy: 0.3860\n"
     ]
    },
    {
     "data": {
      "application/vnd.jupyter.widget-view+json": {
       "model_id": "524b8def8f7f48e78fee5ad4b23ab116",
       "version_major": 2,
       "version_minor": 0
      },
      "text/plain": [
       "Validation:   0%|          | 0/1038 [00:00<?, ?it/s]"
      ]
     },
     "metadata": {},
     "output_type": "display_data"
    },
    {
     "name": "stdout",
     "output_type": "stream",
     "text": [
      "09/01/2023, 19:44:44# labels of Validation: tensor([ 40, 116,  12,  65,  71,  93,  12, 139, 148, 107,  73,  61, 111, 134,\n",
      "         70,  50], device='cuda:2') torch.Size([16])\n",
      "09/01/2023, 19:44:44# predicted of Validation: tensor([ 40, 151, 151, 151, 151,  91, 151, 151,  91,  91,  73,  61, 151, 134,\n",
      "         70,  50], device='cuda:2') torch.Size([16])\n",
      "09/01/2023, 19:44:44# labels of 0: tensor([ 40, 116,  12,  65,  71,  93,  12, 139, 148, 107,  73,  61, 111, 134,\n",
      "         70,  50], device='cuda:2') torch.Size([16])\n",
      "09/01/2023, 19:44:44# predicted of 0: tensor([ 40, 151, 151, 151, 151,  91, 151, 151,  91,  91,  73,  61, 151, 134,\n",
      "         70,  50], device='cuda:2') torch.Size([16])\n",
      "09/01/2023, 19:45:16# labels of Validation: tensor([122,  11,  21,  27, 150, 149, 104, 143,  70,  11,  68,  42,  87,  78,\n",
      "         54,  50], device='cuda:2') torch.Size([16])\n",
      "09/01/2023, 19:45:16# predicted of Validation: tensor([122, 151, 161,  27, 151, 149, 151, 151,  70, 151,  91, 151, 151,  78,\n",
      "        151,  50], device='cuda:2') torch.Size([16])\n"
     ]
    }
   ],
   "source": [
    "import csv\n",
    "import pandas as pd\n",
    "from sklearn.metrics import classification_report\n",
    "from torch.optim import AdamW, lr_scheduler\n",
    "\n",
    "seed = 8787\n",
    "same_seeds(seed)\n",
    "\n",
    "model = GAT(in_dim=50, hidden_dim=16, out_dim=168, num_heads=8)\n",
    "# in_dim means the dimension of the node_feat(50 dim, since the 50-dim embedding)\n",
    "# out_dim means the # of the categories -> 168 for out tasks\n",
    "model.load_state_dict(torch.load('model1_initial/initial_weight.pth'))\n",
    "best_model_path = \"../checkpoint_GAT/best_model_GAT_transH_50.pt\"\n",
    "\n",
    "model = model.to(device)\n",
    "\n",
    "# optimizer = torch.optim.AdamW(model.parameters(), lr=1e-5)\n",
    "optimizer = AdamW(model.parameters(), lr=5e-4)\n",
    "# scheduler = get_linear_schedule_with_warmup(optimizer, num_warmup_steps=18, num_training_steps=total_steps)\n",
    "\n",
    "# T_max control the period of the lr changing -> set 1/10 first\n",
    "scheduler = lr_scheduler.CosineAnnealingLR(optimizer, T_max=36, eta_min=0, last_epoch=- 1, verbose=False)\n",
    "\n",
    "\n",
    "criterion = nn.CrossEntropyLoss()\n",
    "total_steps = 100\n",
    "\n",
    "# save the best model\n",
    "best_val_loss = float('inf')\n",
    "patience = 10  # Number of epochs with no improvement after which training will be stopped.\n",
    "waiting = 0  # The number of epochs with no improvement so far.\n",
    "\n",
    "\n",
    "# Training Part\n",
    "for epoch in tqdm(range(total_steps)):\n",
    "    # Train\n",
    "    model.train()\n",
    "    total_loss = 0.0\n",
    "    total_accuracy = 0.0\n",
    "    num_batches = 0\n",
    "    \n",
    "    for data in tqdm(dataloaders['train'], desc=\"Training\", position=0, leave=True):\n",
    "        num_batches += 1\n",
    "        loss, accuracy, _ = model_fn(data, model, criterion, device, num_batches, which_type='train')\n",
    "        \n",
    "        optimizer.zero_grad()\n",
    "        loss.backward()\n",
    "        optimizer.step()\n",
    "\n",
    "        total_loss += loss.item()\n",
    "        total_accuracy += accuracy.item()\n",
    "\n",
    "        \n",
    "#     scheduler.step()\n",
    "    add_log_msg(f\"total batches: {num_batches}\")\n",
    "\n",
    "    avg_loss = total_loss / num_batches\n",
    "    avg_accuracy = total_accuracy / num_batches\n",
    "\n",
    "    add_log_msg(f'Epoch {epoch} | Train Loss: {avg_loss:.4f} | Train Accuracy: {avg_accuracy:.4f}')\n",
    "\n",
    "    \n",
    "    # Validation Part\n",
    "    model.eval()\n",
    "    total_accuracy = 0.0\n",
    "    total_loss = 0.0\n",
    "    num_batches = 0\n",
    "\n",
    "\n",
    "    with torch.no_grad():\n",
    "        for data in tqdm(dataloaders['valid'], desc=\"Validation\", position=0, leave=True):\n",
    "            loss, accuracy, _ = model_fn(data, model, criterion, device, num_batches, which_type='validation')\n",
    "            total_accuracy += accuracy.item()\n",
    "            total_loss += loss.item()\n",
    "            num_batches += 1\n",
    "\n",
    "    avg_accuracy = total_accuracy / num_batches\n",
    "    current_loss = total_loss / num_batches\n",
    "    \n",
    "    add_log_msg(f'Validation Loss: {current_loss:.4f} | Validation Accuracy: {avg_accuracy:.4f}\\n')\n",
    "    \n",
    "            \n",
    "    if current_loss < best_val_loss:\n",
    "        best_val_loss = current_loss\n",
    "        waiting = 0\n",
    "        \n",
    "        if os.path.exists(best_model_path):\n",
    "            os.remove(best_model_path)\n",
    "            add_log_msg(\"Find a better model!!\")\n",
    "\n",
    "        torch.save(model.state_dict(), best_model_path)\n",
    "\n",
    "        \n",
    "#         print(best_model_path)\n",
    "\n",
    "    else:\n",
    "        waiting += 1\n",
    "        if waiting >= patience:\n",
    "            add_log_msg(\"============================== Early stopping ==================================\")\n",
    "            break"
   ]
  },
  {
   "cell_type": "markdown",
   "metadata": {},
   "source": [
    "### Testing Part"
   ]
  },
  {
   "cell_type": "code",
   "execution_count": null,
   "metadata": {},
   "outputs": [],
   "source": [
    "# load the pretrained model\n",
    "pretrained_model_path = '../checkpoint_GAT/best_model_GAT_transH_50.pt'\n",
    "model.load_state_dict(torch.load(pretrained_model_path))\n",
    "\n",
    "model.to(device)\n",
    "model.eval()\n",
    "\n",
    "total = 0\n",
    "correct = 0\n",
    "count = 0\n",
    "\n",
    "true_labels = []\n",
    "predicted_labels = []\n",
    "\n",
    "with torch.no_grad():\n",
    "    for data in tqdm(dataloaders['test'], desc=\"Testing\", position=0, leave=True):\n",
    "\n",
    "        loss, accuracy, predicted = model_fn(data, model, criterion, device, count, which_type='test')\n",
    "        labels = data[1].to(device)\n",
    "        \n",
    "        true_labels.extend(labels.cpu().numpy())\n",
    "        predicted_labels.extend(predicted.cpu().numpy())\n",
    "        \n",
    "        if count % 5000 == 0:\n",
    "            add_log_msg(f\"labels: {labels} {labels.shape}\")\n",
    "            add_log_msg(f\"predicted: {predicted} {predicted.shape}\")\n",
    "            \n",
    "        count += 1\n",
    "        \n",
    "        total += labels.size(0)\n",
    "        correct += (predicted == labels).sum().item()\n",
    "\n",
    "add_log_msg(f'Test Accuracy: {100 * correct / total} %\\n\\n\\n')\n",
    "\n",
    "\n",
    "# ======================================== handlig the output excel files ========================================\n",
    "mapping_file = './new_mapping.txt'\n",
    "label_mapping = {}\n",
    "with open(mapping_file, 'r') as f:\n",
    "    for line in f:\n",
    "        parts = line.strip().split(': ')\n",
    "        label_mapping[int(parts[1])] = parts[0]\n",
    "        \n",
    "# 将映射后的标签应用到true和predicted标签列表\n",
    "mapped_true_labels = [label_mapping[label] for label in true_labels]\n",
    "mapped_predicted_labels = [label_mapping[label] for label in predicted_labels]\n",
    "\n",
    "# 生成Scikit-learn报告信息的DataFrame\n",
    "report_data = classification_report(mapped_true_labels, mapped_predicted_labels, output_dict=True)\n",
    "report_df = pd.DataFrame(report_data).transpose()\n",
    "\n",
    "report_folder = 'classification_report'\n",
    "os.makedirs(report_folder, exist_ok=True)\n",
    "\n",
    "count = 0\n",
    "while True:\n",
    "    report_filename = f'classification_report-transH_50-{count}.xlsx'\n",
    "    labels_filename = f'mapped_true_predicted_labels-transH_50-{count}.xlsx'\n",
    "    \n",
    "    report_path = os.path.join(report_folder, report_filename)\n",
    "    labels_path = os.path.join(report_folder, labels_filename)\n",
    "    \n",
    "    if not os.path.exists(report_path) and not os.path.exists(labels_path):\n",
    "        break\n",
    "    count += 1\n",
    "\n",
    "    \n",
    "report_df.to_excel(report_path, index_label='Label')\n",
    "\n",
    "mapped_labels_df = pd.DataFrame({'true_label': mapped_true_labels, 'predicted_label': mapped_predicted_labels})\n",
    "mapped_labels_df.to_excel(labels_path, index=False)\n",
    "\n",
    "add_log_msg(f\"report path: {report_path}\")\n",
    "add_log_msg(f\"label path: {labels_path}\")\n",
    "\n",
    "mapped_report = classification_report(mapped_true_labels, mapped_predicted_labels)\n",
    "add_log_msg(f\"mapped_report:\\n{mapped_report}\")"
   ]
  },
  {
   "cell_type": "code",
   "execution_count": null,
   "metadata": {},
   "outputs": [],
   "source": []
  }
 ],
 "metadata": {
  "kernelspec": {
   "display_name": "Python 3",
   "language": "python",
   "name": "python3"
  },
  "language_info": {
   "codemirror_mode": {
    "name": "ipython",
    "version": 3
   },
   "file_extension": ".py",
   "mimetype": "text/x-python",
   "name": "python",
   "nbconvert_exporter": "python",
   "pygments_lexer": "ipython3",
   "version": "3.6.9"
  }
 },
 "nbformat": 4,
 "nbformat_minor": 2
}
