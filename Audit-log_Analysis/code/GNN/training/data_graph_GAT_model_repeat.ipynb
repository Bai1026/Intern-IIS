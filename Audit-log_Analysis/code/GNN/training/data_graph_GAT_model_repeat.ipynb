{
 "cells": [
  {
   "cell_type": "markdown",
   "metadata": {},
   "source": [
    "# Test of GAT\n",
    "- use DGL\n",
    "- predict `graphs`\n",
    "- test: 0~99\n",
    "- validation: 100~199\n",
    "- train: 200~999\n",
    "- larger lr with scheduler\n",
    "- more epochs\n",
    "- `model2` (3 layers)\n",
    "- `more data`(duplicated)"
   ]
  },
  {
   "cell_type": "code",
   "execution_count": 1,
   "metadata": {},
   "outputs": [],
   "source": [
    "import os\n",
    "import dgl\n",
    "import json\n",
    "import torch\n",
    "import torch as th\n",
    "# from tqdm import tqdm\n",
    "from tqdm.notebook import tqdm\n",
    "import torch.nn as nn\n",
    "from dgl.nn import GraphConv, GATConv\n",
    "import torch.nn.functional as F\n",
    "from torch.utils.data import Dataset, DataLoader\n",
    "from transformers import get_linear_schedule_with_warmup\n",
    "from torch.optim import AdamW"
   ]
  },
  {
   "cell_type": "markdown",
   "metadata": {},
   "source": [
    "- check the GPU and assign the GPU by the best memory usage"
   ]
  },
  {
   "cell_type": "code",
   "execution_count": 2,
   "metadata": {},
   "outputs": [
    {
     "name": "stdout",
     "output_type": "stream",
     "text": [
      "cuda:1\n"
     ]
    }
   ],
   "source": [
    "import subprocess\n",
    "import torch\n",
    "\n",
    "def get_free_gpu():\n",
    "    try:\n",
    "        # Run nvidia-smi command to get GPU details\n",
    "        _output_to_list = lambda x: x.decode('ascii').split('\\n')[:-1]\n",
    "        command = \"nvidia-smi --query-gpu=memory.free --format=csv,nounits,noheader\"\n",
    "        memory_free_info = _output_to_list(subprocess.check_output(command.split())) \n",
    "        memory_free_values = [int(x) for i, x in enumerate(memory_free_info)]\n",
    "        \n",
    "        # Get the GPU with the maximum free memory\n",
    "        best_gpu_id = memory_free_values.index(max(memory_free_values))\n",
    "        return best_gpu_id\n",
    "    except:\n",
    "        # If any exception occurs, default to GPU 0 (this handles cases where nvidia-smi isn't installed)\n",
    "        return 0\n",
    "\n",
    "if torch.cuda.is_available():\n",
    "    # Get the best GPU ID based on free memory and set it\n",
    "    best_gpu_id = get_free_gpu()\n",
    "    device = torch.device(f\"cuda:{best_gpu_id}\")\n",
    "else:\n",
    "    device = torch.device(\"cpu\")\n",
    "    print(\"there's no available GPU\")\n",
    "\n",
    "print(device)\n"
   ]
  },
  {
   "cell_type": "markdown",
   "metadata": {},
   "source": [
    "## Fix the seed"
   ]
  },
  {
   "cell_type": "code",
   "execution_count": 3,
   "metadata": {},
   "outputs": [],
   "source": [
    "import numpy as np\n",
    "import torch\n",
    "import random\n",
    "\n",
    "#fix seed\n",
    "def same_seeds(seed = 8787):\n",
    "    torch.manual_seed(seed)\n",
    "    # random.seed(seed) \n",
    "    if torch.cuda.is_available():\n",
    "        torch.cuda.manual_seed(seed)\n",
    "        torch.cuda.manual_seed_all(seed)  \n",
    "    np.random.seed(seed)  \n",
    "    torch.backends.cudnn.benchmark = False\n",
    "    torch.backends.cudnn.deterministic = True"
   ]
  },
  {
   "cell_type": "markdown",
   "metadata": {},
   "source": [
    "## Data Loader"
   ]
  },
  {
   "cell_type": "code",
   "execution_count": 4,
   "metadata": {},
   "outputs": [],
   "source": [
    "class GraphDataset(Dataset):\n",
    "    def __init__(self, data_list, device):\n",
    "        self.data_list = data_list\n",
    "        self.device = device\n",
    "\n",
    "    def __len__(self):\n",
    "        return len(self.data_list)\n",
    "    \n",
    "    def __getitem__(self, idx):\n",
    "        data = self.data_list[idx]\n",
    "\n",
    "        g = dgl.graph((th.tensor(data[\"edge_index\"][0]), th.tensor(data[\"edge_index\"][1])), num_nodes=data[\"num_nodes\"]).to(self.device)\n",
    "\n",
    "        g.ndata['feat'] = th.tensor(data[\"node_feat\"]).to(self.device)\n",
    "        g.edata['feat'] = th.tensor(data[\"edge_attr\"]).to(self.device)  # Add edge features to graph\n",
    "\n",
    "        return g, th.tensor(data[\"label\"]).to(self.device)\n",
    "\n",
    "\n",
    "def collate(samples):\n",
    "    # The input `samples` is a list of pairs\n",
    "    #  (graph, label).\n",
    "    graphs, labels = map(list, zip(*samples))\n",
    "    batched_graph = dgl.batch(graphs)\n",
    "    return batched_graph, torch.tensor(labels)\n"
   ]
  },
  {
   "cell_type": "code",
   "execution_count": 5,
   "metadata": {},
   "outputs": [
    {
     "data": {
      "application/vnd.jupyter.widget-view+json": {
       "model_id": "093b68fc78fe4a4a80e2d9250d7761d6",
       "version_major": 2,
       "version_minor": 0
      },
      "text/plain": [
       "  0%|          | 0/3 [00:00<?, ?it/s]"
      ]
     },
     "metadata": {},
     "output_type": "display_data"
    },
    {
     "name": "stdout",
     "output_type": "stream",
     "text": [
      "../../data_processing/dgl/data_new/training_data/train.jsonl\n"
     ]
    },
    {
     "data": {
      "application/vnd.jupyter.widget-view+json": {
       "model_id": "41a4cef0af204d7abf218cb019b43798",
       "version_major": 2,
       "version_minor": 0
      },
      "text/plain": [
       "0it [00:00, ?it/s]"
      ]
     },
     "metadata": {},
     "output_type": "display_data"
    },
    {
     "name": "stdout",
     "output_type": "stream",
     "text": [
      "../../data_processing/dgl/data_new/training_data/valid.jsonl\n"
     ]
    },
    {
     "data": {
      "application/vnd.jupyter.widget-view+json": {
       "model_id": "ae563884e6a641c19f7f3c7906f80ca1",
       "version_major": 2,
       "version_minor": 0
      },
      "text/plain": [
       "0it [00:00, ?it/s]"
      ]
     },
     "metadata": {},
     "output_type": "display_data"
    },
    {
     "name": "stdout",
     "output_type": "stream",
     "text": [
      "../../data_processing/dgl/data_new/training_data/test.jsonl\n"
     ]
    },
    {
     "data": {
      "application/vnd.jupyter.widget-view+json": {
       "model_id": "97abe766eaf94856b220e680bf09a276",
       "version_major": 2,
       "version_minor": 0
      },
      "text/plain": [
       "0it [00:00, ?it/s]"
      ]
     },
     "metadata": {},
     "output_type": "display_data"
    },
    {
     "name": "stdout",
     "output_type": "stream",
     "text": [
      "Datasets loaded!\n"
     ]
    }
   ],
   "source": [
    "datasets = ['train', 'valid', 'test']\n",
    "dataset_data = {}\n",
    "\n",
    "for dataset_name in tqdm(datasets):\n",
    "#     file_path = f\"../../data_processing/dgl/data/test_graph/repeated_{dataset_name}.jsonl\"\n",
    "    file_path = f\"../../data_processing/dgl/data_new/training_data/{dataset_name}.jsonl\"\n",
    "    \n",
    "    print(file_path)\n",
    "    with open(file_path) as f:\n",
    "        data_list = [json.loads(line) for line in tqdm(f, position=0, leave=True)]\n",
    "    \n",
    "    dataset_data[dataset_name] = GraphDataset(data_list, device)\n",
    "\n",
    "print(\"Datasets loaded!\")"
   ]
  },
  {
   "cell_type": "markdown",
   "metadata": {},
   "source": [
    "- choose batch size"
   ]
  },
  {
   "cell_type": "code",
   "execution_count": 6,
   "metadata": {},
   "outputs": [],
   "source": [
    "def create_dataloaders(batch_size, shuffle=True):\n",
    "    dataloaders = {}\n",
    "    for dataset_name, dataset in dataset_data.items():\n",
    "        dataloaders[dataset_name] = DataLoader(dataset, batch_size=batch_size, shuffle=shuffle, collate_fn=collate)\n",
    "    return dataloaders\n",
    "\n",
    "dataloaders = create_dataloaders(8)\n",
    "# dataloaders = create_dataloaders(16)"
   ]
  },
  {
   "cell_type": "markdown",
   "metadata": {},
   "source": [
    "- Turn the print message to a log file"
   ]
  },
  {
   "cell_type": "code",
   "execution_count": 7,
   "metadata": {},
   "outputs": [
    {
     "name": "stdout",
     "output_type": "stream",
     "text": [
      "../log_message/0825_09:33_GAT_model.log\n"
     ]
    }
   ],
   "source": [
    "import datetime\n",
    "\n",
    "now = datetime.datetime.now()\n",
    "\n",
    "formatted_time = now.strftime(\"%m%d_%H:%M\")\n",
    "\n",
    "log_file_path = f\"../log_message/{formatted_time}_GAT_model.log\"\n",
    "\n",
    "def add_log_msg(msg, log_file_path=log_file_path):\n",
    "    with open(log_file_path, 'a') as f:\n",
    "        f.write(f'{datetime.datetime.now().strftime(\"%m/%d/%Y, %H:%M:%S\")}# {msg}\\n')\n",
    "    print(f'{datetime.datetime.now().strftime(\"%m/%d/%Y, %H:%M:%S\")}# {msg}')\n",
    "\n",
    "print(log_file_path)"
   ]
  },
  {
   "cell_type": "markdown",
   "metadata": {},
   "source": [
    "### Model"
   ]
  },
  {
   "cell_type": "code",
   "execution_count": 8,
   "metadata": {},
   "outputs": [],
   "source": [
    "import dgl\n",
    "import torch.nn as nn\n",
    "import torch.nn.functional as F\n",
    "from dgl.nn import GATConv\n",
    "\n",
    "class GAT(nn.Module):\n",
    "    def __init__(self, in_dim, hidden_dim1, hidden_dim2, out_dim, num_heads, dropout_prob=0.25):\n",
    "        super(GAT, self).__init__()\n",
    "\n",
    "        # First GAT layer\n",
    "        self.layer1 = GATConv(in_dim, hidden_dim1, num_heads=num_heads, activation=F.relu, allow_zero_in_degree=True)\n",
    "        self.batchnorm1 = nn.BatchNorm1d(hidden_dim1 * num_heads)\n",
    "\n",
    "        # Second GAT layer\n",
    "        self.layer2 = GATConv(hidden_dim1 * num_heads, hidden_dim2, num_heads=num_heads, activation=F.relu, allow_zero_in_degree=True)\n",
    "        self.batchnorm2 = nn.BatchNorm1d(hidden_dim2 * num_heads)\n",
    "\n",
    "        # Third GAT layer\n",
    "        self.layer3 = GATConv(hidden_dim2 * num_heads, out_dim, num_heads=num_heads, allow_zero_in_degree=True)\n",
    "        self.batchnorm3 = nn.BatchNorm1d(out_dim)\n",
    "\n",
    "        # Dropout for regularization\n",
    "        self.dropout = nn.Dropout(dropout_prob)\n",
    "\n",
    "    def forward(self, g, h):\n",
    "        # First GAT layer\n",
    "        h = self.layer1(g, h)\n",
    "        h = h.view(h.shape[0], -1)\n",
    "        h = F.relu(self.batchnorm1(h))\n",
    "        h = self.dropout(h)\n",
    "\n",
    "        # Second GAT layer\n",
    "        h = self.layer2(g, h)\n",
    "        h = h.view(h.shape[0], -1)\n",
    "        h = F.relu(self.batchnorm2(h))\n",
    "        h = self.dropout(h)\n",
    "\n",
    "        # Third GAT layer\n",
    "        h = self.layer3(g, h).squeeze(1)\n",
    "\n",
    "        # Store the output as a new node feature\n",
    "        g.ndata['h_out'] = h\n",
    "\n",
    "        # Use mean pooling to aggregate this new node feature\n",
    "        h_agg = dgl.mean_nodes(g, feat='h_out')\n",
    "\n",
    "        return h_agg\n"
   ]
  },
  {
   "cell_type": "markdown",
   "metadata": {},
   "source": [
    "- Model Forward  "
   ]
  },
  {
   "cell_type": "code",
   "execution_count": 9,
   "metadata": {},
   "outputs": [],
   "source": [
    "def model_fn(data, model, criterion, device, count=1, which_type='train'):\n",
    "    \"\"\"Forward a batch through the model.\"\"\"\n",
    "    batched_g, labels = data\n",
    "    batched_g = batched_g.to(device)\n",
    "    \n",
    "    labels = labels.to(device)\n",
    "    logits = model(batched_g, batched_g.ndata['feat'].float()) # for GAT\n",
    "    logits = logits.mean(dim=1)\n",
    "    \n",
    "    loss = criterion(logits, labels)\n",
    "\n",
    "    # Get the class id with the highest probability\n",
    "    preds = logits.argmax(1)\n",
    "    \n",
    "    # Compute accuracy\n",
    "    accuracy = torch.mean((preds == labels).float())\n",
    "    \n",
    "    if which_type == 'validation' and count % 1000 == 0:\n",
    "        add_log_msg(f\"labels of Validation: {labels} {labels.shape}\")\n",
    "        add_log_msg(f\"predicted of Validation: {preds} {preds.shape}\")\n",
    "        \n",
    "    elif which_type == 'test'  and count % 1000 == 0:\n",
    "        add_log_msg(f\"labels of Test: {labels} {labels.shape}\")\n",
    "        add_log_msg(f\"predicted of Test: {preds} {preds.shape}\")\n",
    "        \n",
    "    if count % 5000 == 0: \n",
    "        add_log_msg(f\"labels of {count}: {labels} {labels.shape}\")\n",
    "        add_log_msg(f\"predicted of {count}: {preds} {preds.shape}\")\n",
    "        \n",
    "    return loss, accuracy, preds"
   ]
  },
  {
   "cell_type": "markdown",
   "metadata": {},
   "source": [
    "### Training"
   ]
  },
  {
   "cell_type": "markdown",
   "metadata": {},
   "source": [
    "- Fix the seed and save the model.state_dict that contains the initial weight"
   ]
  },
  {
   "cell_type": "code",
   "execution_count": 10,
   "metadata": {},
   "outputs": [],
   "source": [
    "seed = 8787\n",
    "same_seeds(seed)\n",
    "\n",
    "model = GAT(in_dim=50, hidden_dim1=8, hidden_dim2=128, out_dim=168, num_heads=8)\n",
    "torch.save(model.state_dict(), 'model2_initial/initial_weight.pth')"
   ]
  },
  {
   "cell_type": "code",
   "execution_count": 11,
   "metadata": {},
   "outputs": [
    {
     "data": {
      "text/plain": [
       "Parameter containing:\n",
       "tensor([[-0.0173,  0.0305, -0.1151,  ...,  0.1396,  0.0871, -0.0046],\n",
       "        [-0.0276,  0.0435, -0.0844,  ..., -0.0037, -0.0386, -0.0648],\n",
       "        [ 0.0583,  0.1108, -0.0515,  ..., -0.0669, -0.0645,  0.0809],\n",
       "        ...,\n",
       "        [ 0.1049, -0.0281,  0.0213,  ...,  0.0550, -0.0606, -0.0602],\n",
       "        [-0.0168,  0.0097,  0.1041,  ...,  0.0753,  0.0272,  0.0322],\n",
       "        [-0.0035,  0.0883, -0.0423,  ...,  0.0232,  0.1120, -0.0347]],\n",
       "       requires_grad=True)"
      ]
     },
     "execution_count": 11,
     "metadata": {},
     "output_type": "execute_result"
    }
   ],
   "source": [
    "model.layer2.fc.weight"
   ]
  },
  {
   "cell_type": "markdown",
   "metadata": {},
   "source": [
    "- Check if model really load the model_dict"
   ]
  },
  {
   "cell_type": "code",
   "execution_count": 12,
   "metadata": {},
   "outputs": [
    {
     "data": {
      "text/plain": [
       "Parameter containing:\n",
       "tensor([[-0.0173,  0.0305, -0.1151,  ...,  0.1396,  0.0871, -0.0046],\n",
       "        [-0.0276,  0.0435, -0.0844,  ..., -0.0037, -0.0386, -0.0648],\n",
       "        [ 0.0583,  0.1108, -0.0515,  ..., -0.0669, -0.0645,  0.0809],\n",
       "        ...,\n",
       "        [ 0.1049, -0.0281,  0.0213,  ...,  0.0550, -0.0606, -0.0602],\n",
       "        [-0.0168,  0.0097,  0.1041,  ...,  0.0753,  0.0272,  0.0322],\n",
       "        [-0.0035,  0.0883, -0.0423,  ...,  0.0232,  0.1120, -0.0347]],\n",
       "       requires_grad=True)"
      ]
     },
     "execution_count": 12,
     "metadata": {},
     "output_type": "execute_result"
    }
   ],
   "source": [
    "model = GAT(in_dim=50, hidden_dim1=8, hidden_dim2=128, out_dim=168, num_heads=8)\n",
    "model.load_state_dict(torch.load('model2_initial/initial_weight.pth'))\n",
    "model.layer2.fc.weight"
   ]
  },
  {
   "cell_type": "markdown",
   "metadata": {},
   "source": [
    "### test of valid and test part is ``graph``"
   ]
  },
  {
   "cell_type": "markdown",
   "metadata": {},
   "source": [
    "- model 2\n",
    "- Batch size = 8\n",
    "- use larger lr and scheduler"
   ]
  },
  {
   "cell_type": "code",
   "execution_count": null,
   "metadata": {
    "scrolled": true
   },
   "outputs": [
    {
     "data": {
      "application/vnd.jupyter.widget-view+json": {
       "model_id": "4fd64cc061e442b9956b71bf0f658899",
       "version_major": 2,
       "version_minor": 0
      },
      "text/plain": [
       "  0%|          | 0/1000 [00:00<?, ?it/s]"
      ]
     },
     "metadata": {},
     "output_type": "display_data"
    },
    {
     "data": {
      "application/vnd.jupyter.widget-view+json": {
       "model_id": "95ff07f631eb45c6bc5171597b959f5a",
       "version_major": 2,
       "version_minor": 0
      },
      "text/plain": [
       "Training:   0%|          | 0/16500 [00:00<?, ?it/s]"
      ]
     },
     "metadata": {},
     "output_type": "display_data"
    },
    {
     "name": "stdout",
     "output_type": "stream",
     "text": [
      "08/25/2023, 09:35:50# labels of 5000: tensor([134, 156,  17,   9, 100,  31, 119,  31], device='cuda:1') torch.Size([8])\n",
      "08/25/2023, 09:35:50# predicted of 5000: tensor([134, 118,  17, 141, 141, 114,  37, 107], device='cuda:1') torch.Size([8])\n",
      "08/25/2023, 09:37:53# labels of 10000: tensor([ 10,  57, 130, 134,   3, 150, 118, 148], device='cuda:1') torch.Size([8])\n",
      "08/25/2023, 09:37:53# predicted of 10000: tensor([ 64,  64,  78, 134,   3,  64, 118,  59], device='cuda:1') torch.Size([8])\n",
      "08/25/2023, 09:39:59# labels of 15000: tensor([ 15,  92, 152, 107,  44,  14,  51,  79], device='cuda:1') torch.Size([8])\n",
      "08/25/2023, 09:39:59# predicted of 15000: tensor([ 15, 141, 107, 107,  37,  21,  21,  15], device='cuda:1') torch.Size([8])\n",
      "08/25/2023, 09:40:36# total count: 16500\n",
      "08/25/2023, 09:40:36# Epoch 0 | Train Loss: 3.6864 | Train Accuracy: 0.2013\n"
     ]
    },
    {
     "data": {
      "application/vnd.jupyter.widget-view+json": {
       "model_id": "86f0c40aca734ef49e596093fe970019",
       "version_major": 2,
       "version_minor": 0
      },
      "text/plain": [
       "Validation:   0%|          | 0/2063 [00:00<?, ?it/s]"
      ]
     },
     "metadata": {},
     "output_type": "display_data"
    },
    {
     "name": "stdout",
     "output_type": "stream",
     "text": [
      "08/25/2023, 09:40:36# labels of Validation: tensor([136,  81, 123,  58, 163, 119,  43, 140], device='cuda:1') torch.Size([8])\n",
      "08/25/2023, 09:40:36# predicted of Validation: tensor([21,  4, 85,  4,  4,  4,  4, 21], device='cuda:1') torch.Size([8])\n",
      "08/25/2023, 09:40:36# labels of 0: tensor([136,  81, 123,  58, 163, 119,  43, 140], device='cuda:1') torch.Size([8])\n",
      "08/25/2023, 09:40:36# predicted of 0: tensor([21,  4, 85,  4,  4,  4,  4, 21], device='cuda:1') torch.Size([8])\n",
      "08/25/2023, 09:40:53# labels of Validation: tensor([ 60, 118, 153,  35,  79,  70, 110, 159], device='cuda:1') torch.Size([8])\n",
      "08/25/2023, 09:40:53# predicted of Validation: tensor([ 4, 21,  4, 21, 21, 21,  4, 21], device='cuda:1') torch.Size([8])\n",
      "08/25/2023, 09:41:08# labels of Validation: tensor([ 97, 162, 151, 118,  38,  29,  17,   9], device='cuda:1') torch.Size([8])\n",
      "08/25/2023, 09:41:08# predicted of Validation: tensor([  4,   4,   4,  21,   4, 107,  17,   4], device='cuda:1') torch.Size([8])\n",
      "08/25/2023, 09:41:09# Validation Loss: 4.8280 | Validation Accuracy: 0.0350\n",
      "\n"
     ]
    },
    {
     "data": {
      "application/vnd.jupyter.widget-view+json": {
       "model_id": "b16bd62b72a04bbc9a38e0259d4458b3",
       "version_major": 2,
       "version_minor": 0
      },
      "text/plain": [
       "Training:   0%|          | 0/16500 [00:00<?, ?it/s]"
      ]
     },
     "metadata": {},
     "output_type": "display_data"
    },
    {
     "name": "stdout",
     "output_type": "stream",
     "text": [
      "08/25/2023, 09:43:12# labels of 5000: tensor([ 76,  76,  90, 153,  57, 134,  62,  38], device='cuda:1') torch.Size([8])\n",
      "08/25/2023, 09:43:12# predicted of 5000: tensor([107, 107, 107, 107, 160, 134,  62, 160], device='cuda:1') torch.Size([8])\n",
      "08/25/2023, 09:45:17# labels of 10000: tensor([ 79,  24,   7,   5, 147, 111, 162, 106], device='cuda:1') torch.Size([8])\n",
      "08/25/2023, 09:45:17# predicted of 10000: tensor([  5, 110,   7,   5, 147, 108,  41, 106], device='cuda:1') torch.Size([8])\n",
      "08/25/2023, 09:47:23# labels of 15000: tensor([ 45,  81,   4,   3,  84, 147, 159, 100], device='cuda:1') torch.Size([8])\n",
      "08/25/2023, 09:47:23# predicted of 15000: tensor([ 45, 100, 135,  84,  84,  84, 159, 100], device='cuda:1') torch.Size([8])\n",
      "08/25/2023, 09:47:59# total count: 16500\n",
      "08/25/2023, 09:47:59# Epoch 1 | Train Loss: 3.1575 | Train Accuracy: 0.2898\n"
     ]
    },
    {
     "data": {
      "application/vnd.jupyter.widget-view+json": {
       "model_id": "c893bd74d952495bb8c2ae0fd6a96d0b",
       "version_major": 2,
       "version_minor": 0
      },
      "text/plain": [
       "Validation:   0%|          | 0/2063 [00:00<?, ?it/s]"
      ]
     },
     "metadata": {},
     "output_type": "display_data"
    },
    {
     "name": "stdout",
     "output_type": "stream",
     "text": [
      "08/25/2023, 09:47:59# labels of Validation: tensor([59, 16, 30, 37, 69, 79, 66, 74], device='cuda:1') torch.Size([8])\n",
      "08/25/2023, 09:47:59# predicted of Validation: tensor([ 88,  70, 111,  88,  69,  21,  88, 111], device='cuda:1') torch.Size([8])\n",
      "08/25/2023, 09:47:59# labels of 0: tensor([59, 16, 30, 37, 69, 79, 66, 74], device='cuda:1') torch.Size([8])\n",
      "08/25/2023, 09:47:59# predicted of 0: tensor([ 88,  70, 111,  88,  69,  21,  88, 111], device='cuda:1') torch.Size([8])\n",
      "08/25/2023, 09:48:15# labels of Validation: tensor([132,  81,  37,  81, 125, 116,  39, 160], device='cuda:1') torch.Size([8])\n",
      "08/25/2023, 09:48:15# predicted of Validation: tensor([ 88, 111,  88, 111, 111, 111,  21,  88], device='cuda:1') torch.Size([8])\n",
      "08/25/2023, 09:48:31# labels of Validation: tensor([ 63,  96, 104, 165, 128, 131,  97, 164], device='cuda:1') torch.Size([8])\n",
      "08/25/2023, 09:48:31# predicted of Validation: tensor([111, 156, 111,  21,  21,  88, 111, 111], device='cuda:1') torch.Size([8])\n",
      "08/25/2023, 09:48:32# Validation Loss: 4.6380 | Validation Accuracy: 0.0413\n",
      "\n"
     ]
    },
    {
     "data": {
      "application/vnd.jupyter.widget-view+json": {
       "model_id": "34c8d12a3e4d4966a363608648ab10e1",
       "version_major": 2,
       "version_minor": 0
      },
      "text/plain": [
       "Training:   0%|          | 0/16500 [00:00<?, ?it/s]"
      ]
     },
     "metadata": {},
     "output_type": "display_data"
    },
    {
     "name": "stdout",
     "output_type": "stream",
     "text": [
      "08/25/2023, 09:50:37# labels of 5000: tensor([ 74,  73, 122,  39, 140,  79, 107, 133], device='cuda:1') torch.Size([8])\n",
      "08/25/2023, 09:50:37# predicted of 5000: tensor([122,  39, 122,  73, 140,  40, 122,  21], device='cuda:1') torch.Size([8])\n",
      "08/25/2023, 09:52:41# labels of 10000: tensor([153,   3,  30, 117, 148, 106, 129,  68], device='cuda:1') torch.Size([8])\n",
      "08/25/2023, 09:52:41# predicted of 10000: tensor([129,   3, 129, 117, 133, 106, 133, 129], device='cuda:1') torch.Size([8])\n",
      "08/25/2023, 09:54:45# labels of 15000: tensor([ 64, 163, 159,  94, 105, 127, 134,  26], device='cuda:1') torch.Size([8])\n",
      "08/25/2023, 09:54:45# predicted of 15000: tensor([ 37,  37, 159, 105, 127, 159, 134,  37], device='cuda:1') torch.Size([8])\n",
      "08/25/2023, 09:55:22# total count: 16500\n",
      "08/25/2023, 09:55:22# Epoch 2 | Train Loss: 2.9763 | Train Accuracy: 0.3201\n"
     ]
    },
    {
     "data": {
      "application/vnd.jupyter.widget-view+json": {
       "model_id": "09d1055cb8c24641b60798dad80479e2",
       "version_major": 2,
       "version_minor": 0
      },
      "text/plain": [
       "Validation:   0%|          | 0/2063 [00:00<?, ?it/s]"
      ]
     },
     "metadata": {},
     "output_type": "display_data"
    },
    {
     "name": "stdout",
     "output_type": "stream",
     "text": [
      "08/25/2023, 09:55:22# labels of Validation: tensor([104, 109, 157, 163,  26,  86, 109, 121], device='cuda:1') torch.Size([8])\n",
      "08/25/2023, 09:55:22# predicted of Validation: tensor([87, 87, 87, 87, 87, 87, 87, 87], device='cuda:1') torch.Size([8])\n",
      "08/25/2023, 09:55:22# labels of 0: tensor([104, 109, 157, 163,  26,  86, 109, 121], device='cuda:1') torch.Size([8])\n",
      "08/25/2023, 09:55:22# predicted of 0: tensor([87, 87, 87, 87, 87, 87, 87, 87], device='cuda:1') torch.Size([8])\n",
      "08/25/2023, 09:55:38# labels of Validation: tensor([ 66, 137,  29, 132, 148, 118,   5,  17], device='cuda:1') torch.Size([8])\n",
      "08/25/2023, 09:55:38# predicted of Validation: tensor([ 87,  87, 141, 161,  87, 141, 141,  17], device='cuda:1') torch.Size([8])\n",
      "08/25/2023, 09:55:54# labels of Validation: tensor([126, 143, 150,  35,  12,  19,  67, 161], device='cuda:1') torch.Size([8])\n",
      "08/25/2023, 09:55:54# predicted of Validation: tensor([141,  87,  87, 141,  87,  87, 141, 161], device='cuda:1') torch.Size([8])\n",
      "08/25/2023, 09:55:55# Validation Loss: 4.5021 | Validation Accuracy: 0.0417\n",
      "\n"
     ]
    },
    {
     "data": {
      "application/vnd.jupyter.widget-view+json": {
       "model_id": "e4eb49da2ad54c379c5b5f33d32dda9f",
       "version_major": 2,
       "version_minor": 0
      },
      "text/plain": [
       "Training:   0%|          | 0/16500 [00:00<?, ?it/s]"
      ]
     },
     "metadata": {},
     "output_type": "display_data"
    },
    {
     "name": "stdout",
     "output_type": "stream",
     "text": [
      "08/25/2023, 09:57:58# labels of 5000: tensor([ 48,  37,  82, 157, 103,  73,   1, 136], device='cuda:1') torch.Size([8])\n",
      "08/25/2023, 09:57:58# predicted of 5000: tensor([ 37,  37,  73,  37,  37,  73,  37, 136], device='cuda:1') torch.Size([8])\n",
      "08/25/2023, 10:00:03# labels of 10000: tensor([103,  12, 166,  37, 132, 130,  97, 164], device='cuda:1') torch.Size([8])\n",
      "08/25/2023, 10:00:03# predicted of 10000: tensor([132, 132, 132, 132, 132,  72, 132, 132], device='cuda:1') torch.Size([8])\n",
      "08/25/2023, 10:02:09# labels of 15000: tensor([ 87, 109,  14, 164, 122,  53,  41,  40], device='cuda:1') torch.Size([8])\n",
      "08/25/2023, 10:02:09# predicted of 15000: tensor([ 41, 160,  41, 160,  40, 160,  41,  40], device='cuda:1') torch.Size([8])\n",
      "08/25/2023, 10:02:47# total count: 16500\n",
      "08/25/2023, 10:02:47# Epoch 3 | Train Loss: 2.8776 | Train Accuracy: 0.3383\n"
     ]
    },
    {
     "data": {
      "application/vnd.jupyter.widget-view+json": {
       "model_id": "d2087767c3aa451f8a960fba736c4a2e",
       "version_major": 2,
       "version_minor": 0
      },
      "text/plain": [
       "Validation:   0%|          | 0/2063 [00:00<?, ?it/s]"
      ]
     },
     "metadata": {},
     "output_type": "display_data"
    },
    {
     "name": "stdout",
     "output_type": "stream",
     "text": [
      "08/25/2023, 10:02:47# labels of Validation: tensor([ 14, 115, 157,   8,  28,  14,  74,  13], device='cuda:1') torch.Size([8])\n",
      "08/25/2023, 10:02:47# predicted of Validation: tensor([121, 165, 121, 121, 121, 121, 121, 165], device='cuda:1') torch.Size([8])\n",
      "08/25/2023, 10:02:47# labels of 0: tensor([ 14, 115, 157,   8,  28,  14,  74,  13], device='cuda:1') torch.Size([8])\n",
      "08/25/2023, 10:02:47# predicted of 0: tensor([121, 165, 121, 121, 121, 121, 121, 165], device='cuda:1') torch.Size([8])\n",
      "08/25/2023, 10:03:03# labels of Validation: tensor([ 17, 128,  61, 145,  57, 163,  20,  78], device='cuda:1') torch.Size([8])\n",
      "08/25/2023, 10:03:03# predicted of Validation: tensor([ 17, 165, 165,  72, 121, 121, 121, 165], device='cuda:1') torch.Size([8])\n",
      "08/25/2023, 10:03:18# labels of Validation: tensor([ 44, 121,  13,  84,  64, 138,  31, 154], device='cuda:1') torch.Size([8])\n",
      "08/25/2023, 10:03:18# predicted of Validation: tensor([121, 121, 165,  56, 121,  16, 121, 149], device='cuda:1') torch.Size([8])\n",
      "08/25/2023, 10:03:19# Validation Loss: 4.3805 | Validation Accuracy: 0.0482\n",
      "\n"
     ]
    },
    {
     "data": {
      "application/vnd.jupyter.widget-view+json": {
       "model_id": "f31fe0ee92214c94aa2b0e4f7054a1a9",
       "version_major": 2,
       "version_minor": 0
      },
      "text/plain": [
       "Training:   0%|          | 0/16500 [00:00<?, ?it/s]"
      ]
     },
     "metadata": {},
     "output_type": "display_data"
    },
    {
     "name": "stdout",
     "output_type": "stream",
     "text": [
      "08/25/2023, 10:05:24# labels of 5000: tensor([ 27,  95,   0,  70, 131, 116,  35,  41], device='cuda:1') torch.Size([8])\n",
      "08/25/2023, 10:05:24# predicted of 5000: tensor([ 0, 27,  0, 70, 41, 41,  0, 41], device='cuda:1') torch.Size([8])\n",
      "08/25/2023, 10:07:26# labels of 10000: tensor([  8,   8,  76, 156,  89, 119, 122,  23], device='cuda:1') torch.Size([8])\n",
      "08/25/2023, 10:07:26# predicted of 10000: tensor([ 46, 131, 108,  89,  89, 131, 122,  23], device='cuda:1') torch.Size([8])\n",
      "08/25/2023, 10:09:31# labels of 15000: tensor([ 67, 161,  71,   8,  99,  23, 150, 120], device='cuda:1') torch.Size([8])\n",
      "08/25/2023, 10:09:31# predicted of 15000: tensor([120, 161, 161, 161,  99, 120, 161, 120], device='cuda:1') torch.Size([8])\n",
      "08/25/2023, 10:10:08# total count: 16500\n",
      "08/25/2023, 10:10:08# Epoch 4 | Train Loss: 2.8096 | Train Accuracy: 0.3487\n"
     ]
    },
    {
     "data": {
      "application/vnd.jupyter.widget-view+json": {
       "model_id": "0c1339533d8b40a1820ec547f5075693",
       "version_major": 2,
       "version_minor": 0
      },
      "text/plain": [
       "Validation:   0%|          | 0/2063 [00:00<?, ?it/s]"
      ]
     },
     "metadata": {},
     "output_type": "display_data"
    },
    {
     "name": "stdout",
     "output_type": "stream",
     "text": [
      "08/25/2023, 10:10:08# labels of Validation: tensor([ 86,  11, 110, 154, 105,  89,  92, 135], device='cuda:1') torch.Size([8])\n",
      "08/25/2023, 10:10:08# predicted of Validation: tensor([ 26,  26,  26, 156, 135, 135,  26,  26], device='cuda:1') torch.Size([8])\n",
      "08/25/2023, 10:10:08# labels of 0: tensor([ 86,  11, 110, 154, 105,  89,  92, 135], device='cuda:1') torch.Size([8])\n",
      "08/25/2023, 10:10:08# predicted of 0: tensor([ 26,  26,  26, 156, 135, 135,  26,  26], device='cuda:1') torch.Size([8])\n",
      "08/25/2023, 10:10:24# labels of Validation: tensor([  7,  89, 101,   9,  19, 106,  26,  83], device='cuda:1') torch.Size([8])\n",
      "08/25/2023, 10:10:24# predicted of Validation: tensor([  7, 135,  26,  26,  26, 106,  26,  26], device='cuda:1') torch.Size([8])\n",
      "08/25/2023, 10:10:40# labels of Validation: tensor([156,  78, 129,   6,  60,  84, 150,  60], device='cuda:1') torch.Size([8])\n",
      "08/25/2023, 10:10:40# predicted of Validation: tensor([105, 135,  26,  26,  26, 156,  26,  26], device='cuda:1') torch.Size([8])\n",
      "08/25/2023, 10:10:41# Validation Loss: 4.4604 | Validation Accuracy: 0.0359\n",
      "\n"
     ]
    },
    {
     "data": {
      "application/vnd.jupyter.widget-view+json": {
       "model_id": "3cbf77dc1c1740bf80045ebcb7b76e58",
       "version_major": 2,
       "version_minor": 0
      },
      "text/plain": [
       "Training:   0%|          | 0/16500 [00:00<?, ?it/s]"
      ]
     },
     "metadata": {},
     "output_type": "display_data"
    }
   ],
   "source": [
    "from torch.optim import AdamW, lr_scheduler\n",
    "\n",
    "seed = 8787\n",
    "same_seeds(seed)\n",
    "\n",
    "model = GAT(in_dim=50, hidden_dim1=8, hidden_dim2=128, out_dim=168, num_heads=8)\n",
    "# in_dim means the dimension of the node_feat(50 dim, since the 50-dim embedding)\n",
    "# out_dim means the # of the categories -> 168 for out tasks\n",
    "model.load_state_dict(torch.load('model2_initial/initial_weight.pth'))\n",
    "best_model_path = \"../checkpoint_GAT/best_model_model.pt\"\n",
    "\n",
    "model = model.to(device)\n",
    "\n",
    "optimizer = AdamW(model.parameters(), lr=2e-4)\n",
    "# scheduler = get_linear_schedule_with_warmup(optimizer, num_warmup_steps=100, num_training_steps=total_steps)\n",
    "\n",
    "# T_max control the period of the lr changing -> set 1/10 first\n",
    "scheduler = lr_scheduler.CosineAnnealingLR(optimizer, T_max=100, eta_min=0, last_epoch=- 1, verbose=False)\n",
    "\n",
    "\n",
    "criterion = nn.CrossEntropyLoss()\n",
    "total_steps = 1000\n",
    "\n",
    "# save the best model\n",
    "best_val_loss = float('inf')\n",
    "patience = 50  # Number of epochs with no improvement after which training will be stopped.\n",
    "waiting = 0  # The number of epochs with no improvement so far.\n",
    "\n",
    "\n",
    "# Training Part\n",
    "for epoch in tqdm(range(total_steps)):\n",
    "    # Train\n",
    "    model.train()\n",
    "    total_loss = 0.0\n",
    "    total_accuracy = 0.0\n",
    "    num_batches = 0\n",
    "    \n",
    "    count = 0 \n",
    "    \n",
    "    for data in tqdm(dataloaders['train'], desc=\"Training\", position=0, leave=True):\n",
    "        \n",
    "        count += 1\n",
    "        loss, accuracy, _ = model_fn(data, model, criterion, device, count, which_type='train')\n",
    "        \n",
    "        optimizer.zero_grad()\n",
    "        loss.backward()\n",
    "        optimizer.step()\n",
    "\n",
    "        total_loss += loss.item()\n",
    "        total_accuracy += accuracy.item()\n",
    "        num_batches += 1\n",
    "        \n",
    "    scheduler.step()\n",
    "    add_log_msg(f\"total count: {count}\")\n",
    "\n",
    "    avg_loss = total_loss / num_batches\n",
    "    avg_accuracy = total_accuracy / num_batches\n",
    "\n",
    "    add_log_msg(f'Epoch {epoch} | Train Loss: {avg_loss:.4f} | Train Accuracy: {avg_accuracy:.4f}')\n",
    "\n",
    "    \n",
    "    # Validation Part\n",
    "    model.eval()\n",
    "    total_accuracy = 0.0\n",
    "    total_loss = 0.0\n",
    "    num_batches = 0\n",
    "\n",
    "\n",
    "    with torch.no_grad():\n",
    "        for data in tqdm(dataloaders['valid'], desc=\"Validation\", position=0, leave=True):\n",
    "            loss, accuracy, _ = model_fn(data, model, criterion, device, num_batches, which_type='validation')\n",
    "            total_accuracy += accuracy.item()\n",
    "            total_loss += loss.item()\n",
    "            num_batches += 1\n",
    "\n",
    "    avg_accuracy = total_accuracy / num_batches\n",
    "    current_loss = total_loss / num_batches\n",
    "    \n",
    "    add_log_msg(f'Validation Loss: {current_loss:.4f} | Validation Accuracy: {avg_accuracy:.4f}\\n')\n",
    "    \n",
    "    \n",
    "    if current_loss < best_val_loss:\n",
    "        best_val_loss = current_loss\n",
    "        waiting = 0\n",
    "        \n",
    "        if os.path.exists(best_model_path):\n",
    "            os.remove(best_model_path)\n",
    "\n",
    "        torch.save({\n",
    "                'epoch': epoch,\n",
    "                'model_state_dict': model.state_dict(),\n",
    "                'optimizer_state_dict': optimizer.state_dict(),\n",
    "                'loss': loss,\n",
    "                }, best_model_path)\n",
    "\n",
    "    else:\n",
    "        waiting += 1\n",
    "        if waiting >= patience:\n",
    "            add_log_msg(\"Early stopping\")\n",
    "            break\n",
    "            \n",
    "            \n",
    "# Testing Part\n",
    "model.eval()\n",
    "total = 0\n",
    "correct = 0\n",
    "count = 0\n",
    "\n",
    "with torch.no_grad():\n",
    "    for data in tqdm(dataloaders['test'], desc=\"Testing\", position=0, leave=True):\n",
    "\n",
    "        loss, accuracy, predicted = model_fn(data, model, criterion, device, count, which_type='test')\n",
    "        labels = data[1].to(device)  # Assuming labels are the second element in the tuple\n",
    "        \n",
    "        if count % 5000 == 0:\n",
    "            add_log_msg(f\"labels of {count}: {labels} {labels.shape}\")\n",
    "            add_log_msg(f\"predicted of {count}: {predicted} {predicted.shape}\")\n",
    "            \n",
    "        count += 1\n",
    "        \n",
    "        total += labels.size(0) # label.size(0) is the batch size\n",
    "        correct += (predicted == labels).sum().item() \n",
    "        # (predicted == labels).sum() would return how many of them are equal;\n",
    "        # .item() would make the tensor to the regular value\n",
    "        \n",
    "#     print('Test Accuracy: %d %%' % (100 * correct / total))\n",
    "add_log_msg(f'Test Accuracy: {100 * correct / total} %%')"
   ]
  },
  {
   "cell_type": "code",
   "execution_count": null,
   "metadata": {},
   "outputs": [],
   "source": []
  }
 ],
 "metadata": {
  "kernelspec": {
   "display_name": "Python 3",
   "language": "python",
   "name": "python3"
  },
  "language_info": {
   "codemirror_mode": {
    "name": "ipython",
    "version": 3
   },
   "file_extension": ".py",
   "mimetype": "text/x-python",
   "name": "python",
   "nbconvert_exporter": "python",
   "pygments_lexer": "ipython3",
   "version": "3.6.9"
  }
 },
 "nbformat": 4,
 "nbformat_minor": 2
}
