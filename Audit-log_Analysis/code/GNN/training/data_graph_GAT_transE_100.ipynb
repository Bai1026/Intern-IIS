{
 "cells": [
  {
   "cell_type": "markdown",
   "metadata": {},
   "source": [
    "# Test of GAT\n",
    "- use DGL\n",
    "- predict `graphs`\n",
    "- test: 0~99\n",
    "- validation: 100~199\n",
    "- train: 200~999\n",
    "- larger lr with scheduler\n",
    "- try the sklearn report"
   ]
  },
  {
   "cell_type": "code",
   "execution_count": 1,
   "metadata": {},
   "outputs": [],
   "source": [
    "import os\n",
    "import dgl\n",
    "import json\n",
    "import torch\n",
    "import torch as th\n",
    "# from tqdm import tqdm\n",
    "from tqdm.notebook import tqdm  # 使用 notebook 版本的 tqdm\n",
    "import torch.nn as nn\n",
    "from dgl.nn import GraphConv, GATConv\n",
    "import torch.nn.functional as F\n",
    "from torch.utils.data import Dataset, DataLoader\n",
    "from transformers import get_linear_schedule_with_warmup\n",
    "from torch.optim import AdamW\n",
    "from sklearn.metrics import classification_report\n"
   ]
  },
  {
   "cell_type": "markdown",
   "metadata": {},
   "source": [
    "- check the GPU and assign the GPU by the best memory usage"
   ]
  },
  {
   "cell_type": "code",
   "execution_count": 2,
   "metadata": {},
   "outputs": [
    {
     "name": "stdout",
     "output_type": "stream",
     "text": [
      "cuda:2\n"
     ]
    }
   ],
   "source": [
    "import subprocess\n",
    "import torch\n",
    "\n",
    "def get_free_gpu():\n",
    "    try:\n",
    "        # Run nvidia-smi command to get GPU details\n",
    "        _output_to_list = lambda x: x.decode('ascii').split('\\n')[:-1]\n",
    "        command = \"nvidia-smi --query-gpu=memory.free --format=csv,nounits,noheader\"\n",
    "        memory_free_info = _output_to_list(subprocess.check_output(command.split())) \n",
    "        memory_free_values = [int(x) for i, x in enumerate(memory_free_info)]\n",
    "        \n",
    "        # Get the GPU with the maximum free memory\n",
    "        best_gpu_id = memory_free_values.index(max(memory_free_values))\n",
    "        return best_gpu_id\n",
    "    except:\n",
    "        # If any exception occurs, default to GPU 0 (this handles cases where nvidia-smi isn't installed)\n",
    "        return 0\n",
    "\n",
    "if torch.cuda.is_available():\n",
    "    # Get the best GPU ID based on free memory and set it\n",
    "    best_gpu_id = get_free_gpu()\n",
    "    device = torch.device(f\"cuda:{best_gpu_id}\")\n",
    "else:\n",
    "    device = torch.device(\"cpu\")\n",
    "    print(\"there's no available GPU\")\n",
    "\n",
    "# device = torch.device(f\"cuda:1\")\n",
    "print(device)\n"
   ]
  },
  {
   "cell_type": "markdown",
   "metadata": {},
   "source": [
    "## Fix the seed"
   ]
  },
  {
   "cell_type": "code",
   "execution_count": 3,
   "metadata": {},
   "outputs": [],
   "source": [
    "import numpy as np\n",
    "import torch\n",
    "import random\n",
    "\n",
    "#fix seed\n",
    "def same_seeds(seed = 8787):\n",
    "    torch.manual_seed(seed)\n",
    "    # random.seed(seed) \n",
    "    if torch.cuda.is_available():\n",
    "        torch.cuda.manual_seed(seed)\n",
    "        torch.cuda.manual_seed_all(seed)  \n",
    "    np.random.seed(seed)  \n",
    "    torch.backends.cudnn.benchmark = False\n",
    "    torch.backends.cudnn.deterministic = True"
   ]
  },
  {
   "cell_type": "markdown",
   "metadata": {},
   "source": [
    "## Data Loader"
   ]
  },
  {
   "cell_type": "code",
   "execution_count": 4,
   "metadata": {},
   "outputs": [],
   "source": [
    "class GraphDataset(Dataset):\n",
    "    def __init__(self, data_list, device):\n",
    "        self.data_list = data_list\n",
    "        self.device = device\n",
    "\n",
    "    def __len__(self):\n",
    "        return len(self.data_list)\n",
    "    \n",
    "    def __getitem__(self, idx):\n",
    "        data = self.data_list[idx]\n",
    "\n",
    "        g = dgl.graph((th.tensor(data[\"edge_index\"][0]), th.tensor(data[\"edge_index\"][1])), num_nodes=data[\"num_nodes\"]).to(self.device)\n",
    "\n",
    "        g.ndata['feat'] = th.tensor(data[\"node_feat\"]).to(self.device)\n",
    "        g.edata['feat'] = th.tensor(data[\"edge_attr\"]).to(self.device)  # Add edge features to graph\n",
    "\n",
    "        return g, th.tensor(data[\"label\"]).to(self.device)\n",
    "\n",
    "\n",
    "def collate(samples):\n",
    "    # The input `samples` is a list of pairs\n",
    "    #  (graph, label).\n",
    "    graphs, labels = map(list, zip(*samples))\n",
    "    batched_graph = dgl.batch(graphs)\n",
    "    return batched_graph, torch.tensor(labels)\n"
   ]
  },
  {
   "cell_type": "code",
   "execution_count": 6,
   "metadata": {},
   "outputs": [
    {
     "data": {
      "application/vnd.jupyter.widget-view+json": {
       "model_id": "57f5122caef04f49bee3f683da26525a",
       "version_major": 2,
       "version_minor": 0
      },
      "text/plain": [
       "  0%|          | 0/3 [00:00<?, ?it/s]"
      ]
     },
     "metadata": {},
     "output_type": "display_data"
    },
    {
     "name": "stdout",
     "output_type": "stream",
     "text": [
      "../../data_processing/dgl/data_new/training_data/transE_100/train.jsonl\n"
     ]
    },
    {
     "data": {
      "application/vnd.jupyter.widget-view+json": {
       "model_id": "8bf238c99fd14492880fcd661a68afb3",
       "version_major": 2,
       "version_minor": 0
      },
      "text/plain": [
       "0it [00:00, ?it/s]"
      ]
     },
     "metadata": {},
     "output_type": "display_data"
    },
    {
     "name": "stdout",
     "output_type": "stream",
     "text": [
      "../../data_processing/dgl/data_new/training_data/transE_100/valid.jsonl\n"
     ]
    },
    {
     "data": {
      "application/vnd.jupyter.widget-view+json": {
       "model_id": "790101e44eef42029bd8f9bb3f7c5779",
       "version_major": 2,
       "version_minor": 0
      },
      "text/plain": [
       "0it [00:00, ?it/s]"
      ]
     },
     "metadata": {},
     "output_type": "display_data"
    },
    {
     "name": "stdout",
     "output_type": "stream",
     "text": [
      "../../data_processing/dgl/data_new/training_data/transE_100/test.jsonl\n"
     ]
    },
    {
     "data": {
      "application/vnd.jupyter.widget-view+json": {
       "model_id": "0ec6123050a14db685caf99fef4d71bc",
       "version_major": 2,
       "version_minor": 0
      },
      "text/plain": [
       "0it [00:00, ?it/s]"
      ]
     },
     "metadata": {},
     "output_type": "display_data"
    },
    {
     "name": "stdout",
     "output_type": "stream",
     "text": [
      "Datasets loaded!\n"
     ]
    }
   ],
   "source": [
    "datasets = ['train', 'valid', 'test']\n",
    "# datasets = ['test']\n",
    "dataset_data = {}\n",
    "\n",
    "for dataset_name in tqdm(datasets):\n",
    "#     file_path = f\"../../data_processing/dgl/data/test_graph/repeated_{dataset_name}.jsonl\"\n",
    "    file_path = f\"../../data_processing/dgl/data_new/training_data/transE_100/{dataset_name}.jsonl\"\n",
    "    \n",
    "    print(file_path)\n",
    "    with open(file_path) as f:\n",
    "        data_list = [json.loads(line) for line in tqdm(f, position=0, leave=True)]\n",
    "    \n",
    "    dataset_data[dataset_name] = GraphDataset(data_list, device)\n",
    "\n",
    "print(\"Datasets loaded!\")"
   ]
  },
  {
   "cell_type": "markdown",
   "metadata": {},
   "source": [
    "- choose batch size"
   ]
  },
  {
   "cell_type": "code",
   "execution_count": 7,
   "metadata": {},
   "outputs": [
    {
     "name": "stdout",
     "output_type": "stream",
     "text": [
      "OK!\n"
     ]
    }
   ],
   "source": [
    "def create_dataloaders(batch_size, shuffle=True):\n",
    "    dataloaders = {}\n",
    "    for dataset_name, dataset in dataset_data.items():\n",
    "        # do not shuffle the testing dataset\n",
    "        if dataset_name == \"test\":\n",
    "            dataloaders[dataset_name] = DataLoader(dataset, batch_size=batch_size, shuffle=False, collate_fn=collate)    \n",
    "        else:\n",
    "            dataloaders[dataset_name] = DataLoader(dataset, batch_size=batch_size, shuffle=shuffle, collate_fn=collate)\n",
    "    return dataloaders\n",
    "\n",
    "# dataloaders = create_dataloaders(4)\n",
    "dataloaders = create_dataloaders(16)\n",
    "\n",
    "\n",
    "if (len(dataloaders['test'].dataset) + len(dataloaders['valid'].dataset) + len(dataloaders['train'].dataset)) % 165 != 0: print(\"Error data!!\")\n",
    "else: print(\"OK!\")\n"
   ]
  },
  {
   "cell_type": "markdown",
   "metadata": {},
   "source": [
    "- Turn the print message to a log file"
   ]
  },
  {
   "cell_type": "code",
   "execution_count": 8,
   "metadata": {},
   "outputs": [
    {
     "name": "stdout",
     "output_type": "stream",
     "text": [
      "(Graph(num_nodes=26, num_edges=67,\n",
      "      ndata_schemes={'feat': Scheme(shape=(100,), dtype=torch.float32)}\n",
      "      edata_schemes={'feat': Scheme(shape=(100,), dtype=torch.float32)}), tensor(7, device='cuda:2'))\n",
      "16500\n",
      "16500\n",
      "132000\n",
      "165000\n"
     ]
    }
   ],
   "source": [
    "# print(dataloaders['test'][5])\n",
    "sample = dataset_data['train'][5000]\n",
    "print(sample)\n",
    "\n",
    "print(len(dataloaders['test'].dataset))\n",
    "print(len(dataloaders['valid'].dataset))\n",
    "print(len(dataloaders['train'].dataset))\n",
    "print(len(dataloaders['test'].dataset) + len(dataloaders['valid'].dataset) + len(dataloaders['train'].dataset))"
   ]
  },
  {
   "cell_type": "code",
   "execution_count": 10,
   "metadata": {},
   "outputs": [
    {
     "name": "stdout",
     "output_type": "stream",
     "text": [
      "../log_message/0829_10:08_GAT_transE_100.log\n"
     ]
    }
   ],
   "source": [
    "import datetime\n",
    "\n",
    "now = datetime.datetime.now()\n",
    "\n",
    "formatted_time = now.strftime(\"%m%d_%H:%M\")\n",
    "\n",
    "log_file_path = f\"../log_message/{formatted_time}_GAT_transE_100.log\"\n",
    "\n",
    "def add_log_msg(msg, log_file_path=log_file_path):\n",
    "    with open(log_file_path, 'a') as f:\n",
    "        f.write(f'{datetime.datetime.now().strftime(\"%m/%d/%Y, %H:%M:%S\")}# {msg}\\n')\n",
    "    print(f'{datetime.datetime.now().strftime(\"%m/%d/%Y, %H:%M:%S\")}# {msg}')\n",
    "\n",
    "print(log_file_path)"
   ]
  },
  {
   "cell_type": "markdown",
   "metadata": {},
   "source": [
    "### Model"
   ]
  },
  {
   "cell_type": "code",
   "execution_count": 11,
   "metadata": {},
   "outputs": [],
   "source": [
    "class GAT(nn.Module):\n",
    "    def __init__(self, in_dim, hidden_dim, out_dim, num_heads, dropout_prob=0.25):\n",
    "        super(GAT, self).__init__()\n",
    "        \n",
    "        # do not check the zero in_degree since we have all the complete graph\n",
    "        self.layer1 = GATConv(in_dim, hidden_dim, num_heads=num_heads, activation=F.relu, allow_zero_in_degree=True)\n",
    "        self.layer2 = GATConv(hidden_dim * num_heads, out_dim, num_heads=num_heads, allow_zero_in_degree=True)\n",
    "        \n",
    "        # Adding Batch Normalization after each GAT layer\n",
    "        self.batchnorm1 = nn.BatchNorm1d(hidden_dim * num_heads)\n",
    "        self.batchnorm2 = nn.BatchNorm1d(out_dim)\n",
    "        \n",
    "        # Adding Dropout for regularization\n",
    "        self.dropout = nn.Dropout(dropout_prob)\n",
    "\n",
    "    def forward(self, g, h):\n",
    "        # Apply GAT layers\n",
    "        h = self.layer1(g, h)\n",
    "        h = h.view(h.shape[0], -1)\n",
    "        h = F.relu(h)\n",
    "        h = self.dropout(h)\n",
    "        h = self.layer2(g, h).squeeze(1)\n",
    "        \n",
    "        # Store the output as a new node feature\n",
    "        g.ndata['h_out'] = h\n",
    "\n",
    "        # Use mean pooling to aggregate this new node feature\n",
    "        h_agg = dgl.mean_nodes(g, feat='h_out')\n",
    "        return h_agg\n",
    "\n",
    "    "
   ]
  },
  {
   "cell_type": "markdown",
   "metadata": {},
   "source": [
    "- Model Forward  "
   ]
  },
  {
   "cell_type": "code",
   "execution_count": 12,
   "metadata": {},
   "outputs": [],
   "source": [
    "def model_fn(data, model, criterion, device, count=1, which_type='train'):\n",
    "    \"\"\"Forward a batch through the model.\"\"\"\n",
    "    batched_g, labels = data\n",
    "    batched_g = batched_g.to(device)\n",
    "    \n",
    "    labels = labels.to(device)\n",
    "    logits = model(batched_g, batched_g.ndata['feat'].float()) # for GAT\n",
    "    logits = logits.mean(dim=1)\n",
    "    \n",
    "    loss = criterion(logits, labels)\n",
    "\n",
    "    # Get the class id with the highest probability\n",
    "    preds = logits.argmax(1)\n",
    "    \n",
    "    # Compute accuracy\n",
    "    accuracy = torch.mean((preds == labels).float())\n",
    "    \n",
    "    if which_type == 'validation' and count % 1000 == 0:\n",
    "        add_log_msg(f\"labels of Validation: {labels} {labels.shape}\")\n",
    "        add_log_msg(f\"predicted of Validation: {preds} {preds.shape}\")\n",
    "        \n",
    "    elif which_type == 'test'  and count % 1000 == 0:\n",
    "        add_log_msg(f\"labels of Test: {labels} {labels.shape}\")\n",
    "        add_log_msg(f\"predicted of Test: {preds} {preds.shape}\")\n",
    "        \n",
    "    if count % 5000 == 0: \n",
    "        add_log_msg(f\"labels of {count}: {labels} {labels.shape}\")\n",
    "        add_log_msg(f\"predicted of {count}: {preds} {preds.shape}\")\n",
    "        \n",
    "    return loss, accuracy, preds"
   ]
  },
  {
   "cell_type": "markdown",
   "metadata": {},
   "source": [
    "### Training"
   ]
  },
  {
   "cell_type": "markdown",
   "metadata": {},
   "source": [
    "- Fix the seed and save the model.state_dict that contains the initial weight"
   ]
  },
  {
   "cell_type": "code",
   "execution_count": 17,
   "metadata": {},
   "outputs": [],
   "source": [
    "seed = 8787\n",
    "same_seeds(seed)\n",
    "\n",
    "model = GAT(in_dim=100, hidden_dim=16, out_dim=168, num_heads=8)\n",
    "torch.save(model.state_dict(), 'model1_initial/initial_weight.pth')"
   ]
  },
  {
   "cell_type": "code",
   "execution_count": 18,
   "metadata": {},
   "outputs": [
    {
     "data": {
      "text/plain": [
       "Parameter containing:\n",
       "tensor([[-0.0372,  0.0397,  0.0935,  ..., -0.2031, -0.0468, -0.0559],\n",
       "        [-0.2012, -0.0840,  0.1344,  ...,  0.1873, -0.0882,  0.1701],\n",
       "        [ 0.0989,  0.1005, -0.2093,  ..., -0.2812, -0.2957, -0.0144],\n",
       "        ...,\n",
       "        [-0.1528,  0.2374,  0.1282,  ..., -0.0509,  0.0520, -0.0736],\n",
       "        [-0.0805, -0.1986, -0.1437,  ...,  0.1331,  0.0198,  0.0471],\n",
       "        [ 0.0363,  0.0976, -0.1171,  ...,  0.0343, -0.0835,  0.2840]],\n",
       "       requires_grad=True)"
      ]
     },
     "execution_count": 18,
     "metadata": {},
     "output_type": "execute_result"
    }
   ],
   "source": [
    "model.layer1.fc.weight"
   ]
  },
  {
   "cell_type": "markdown",
   "metadata": {},
   "source": [
    "- Check if model really load the model_dict"
   ]
  },
  {
   "cell_type": "code",
   "execution_count": 19,
   "metadata": {},
   "outputs": [
    {
     "data": {
      "text/plain": [
       "Parameter containing:\n",
       "tensor([[-0.0372,  0.0397,  0.0935,  ..., -0.2031, -0.0468, -0.0559],\n",
       "        [-0.2012, -0.0840,  0.1344,  ...,  0.1873, -0.0882,  0.1701],\n",
       "        [ 0.0989,  0.1005, -0.2093,  ..., -0.2812, -0.2957, -0.0144],\n",
       "        ...,\n",
       "        [-0.1528,  0.2374,  0.1282,  ..., -0.0509,  0.0520, -0.0736],\n",
       "        [-0.0805, -0.1986, -0.1437,  ...,  0.1331,  0.0198,  0.0471],\n",
       "        [ 0.0363,  0.0976, -0.1171,  ...,  0.0343, -0.0835,  0.2840]],\n",
       "       requires_grad=True)"
      ]
     },
     "execution_count": 19,
     "metadata": {},
     "output_type": "execute_result"
    }
   ],
   "source": [
    "model = GAT(in_dim=100, hidden_dim=16, out_dim=168, num_heads=8)\n",
    "model.load_state_dict(torch.load('model1_initial/initial_weight.pth'))\n",
    "model.layer1.fc.weight"
   ]
  },
  {
   "cell_type": "markdown",
   "metadata": {},
   "source": [
    "### test of valid and test part is ``graph``"
   ]
  },
  {
   "cell_type": "markdown",
   "metadata": {},
   "source": [
    "- Batch size = 4\n",
    "- use large lr and scheduler"
   ]
  },
  {
   "cell_type": "code",
   "execution_count": null,
   "metadata": {
    "scrolled": true
   },
   "outputs": [
    {
     "data": {
      "application/vnd.jupyter.widget-view+json": {
       "model_id": "d3fe27b8ef9e443c951312381ff2af95",
       "version_major": 2,
       "version_minor": 0
      },
      "text/plain": [
       "  0%|          | 0/30 [00:00<?, ?it/s]"
      ]
     },
     "metadata": {},
     "output_type": "display_data"
    },
    {
     "data": {
      "application/vnd.jupyter.widget-view+json": {
       "model_id": "88967d76e82a497b8c7b309df52d763d",
       "version_major": 2,
       "version_minor": 0
      },
      "text/plain": [
       "Training:   0%|          | 0/8250 [00:00<?, ?it/s]"
      ]
     },
     "metadata": {},
     "output_type": "display_data"
    },
    {
     "name": "stdout",
     "output_type": "stream",
     "text": [
      "08/29/2023, 10:14:21# labels of 5000: tensor([ 60,  47,  68,  29,  48,  29,  16,  59, 138,  18,  85,  90,  87,  63,\n",
      "        135, 149], device='cuda:2') torch.Size([16])\n",
      "08/29/2023, 10:14:21# predicted of 5000: tensor([132,  51, 132, 149, 132, 154, 149, 132, 105, 132, 165, 132, 132, 132,\n",
      "        132, 154], device='cuda:2') torch.Size([16])\n",
      "08/29/2023, 10:15:31# total batches: 8250\n",
      "08/29/2023, 10:15:31# Epoch 0 | Train Loss: 4.6480 | Train Accuracy: 0.0459\n"
     ]
    },
    {
     "data": {
      "application/vnd.jupyter.widget-view+json": {
       "model_id": "621f143c33bf4dd5a5274a6e1ec9c848",
       "version_major": 2,
       "version_minor": 0
      },
      "text/plain": [
       "Validation:   0%|          | 0/1032 [00:00<?, ?it/s]"
      ]
     },
     "metadata": {},
     "output_type": "display_data"
    },
    {
     "name": "stdout",
     "output_type": "stream",
     "text": [
      "08/29/2023, 10:15:31# labels of Validation: tensor([ 25,  46,  95,  62,  86,  20,  42, 120,  12,  14,  27,  30, 139,  78,\n",
      "        108,  55], device='cuda:2') torch.Size([16])\n",
      "08/29/2023, 10:15:31# predicted of Validation: tensor([ 25,  28,  40, 146,  28,  28,  28,  99,  28,  28,  40,  28,  28, 149,\n",
      "        132,  28], device='cuda:2') torch.Size([16])\n",
      "08/29/2023, 10:15:31# labels of 0: tensor([ 25,  46,  95,  62,  86,  20,  42, 120,  12,  14,  27,  30, 139,  78,\n",
      "        108,  55], device='cuda:2') torch.Size([16])\n",
      "08/29/2023, 10:15:31# predicted of 0: tensor([ 25,  28,  40, 146,  28,  28,  28,  99,  28,  28,  40,  28,  28, 149,\n",
      "        132,  28], device='cuda:2') torch.Size([16])\n",
      "08/29/2023, 10:15:47# labels of Validation: tensor([125,   9,  91, 129,   1,  67, 117, 101,  32, 118, 146,  92,  20,  90,\n",
      "         97,  76], device='cuda:2') torch.Size([16])\n",
      "08/29/2023, 10:15:47# predicted of Validation: tensor([ 28,  28, 132, 132,  28, 149, 146, 132,  17, 118, 146,  28,  28, 132,\n",
      "         28,  28], device='cuda:2') torch.Size([16])\n",
      "08/29/2023, 10:15:48# Validation Loss: 4.1894 | Validation Accuracy: 0.1397\n",
      "\n"
     ]
    },
    {
     "data": {
      "application/vnd.jupyter.widget-view+json": {
       "model_id": "8c8574408ca24595901fbae18e1235c5",
       "version_major": 2,
       "version_minor": 0
      },
      "text/plain": [
       "Training:   0%|          | 0/8250 [00:00<?, ?it/s]"
      ]
     },
     "metadata": {},
     "output_type": "display_data"
    },
    {
     "name": "stdout",
     "output_type": "stream",
     "text": [
      "08/29/2023, 10:17:34# labels of 5000: tensor([137,  93, 130, 128, 152,  62, 154,  67,  43, 135,  16,  97,  41, 126,\n",
      "         11,  83], device='cuda:2') torch.Size([16])\n",
      "08/29/2023, 10:17:34# predicted of 5000: tensor([ 28, 161, 127,   3,  28,  62, 154,  67,  28, 132,  16,  28,  28,   5,\n",
      "         30,  28], device='cuda:2') torch.Size([16])\n",
      "08/29/2023, 10:19:22# total batches: 8250\n",
      "08/29/2023, 10:19:22# Epoch 1 | Train Loss: 3.9310 | Train Accuracy: 0.1695\n"
     ]
    },
    {
     "data": {
      "application/vnd.jupyter.widget-view+json": {
       "model_id": "7d88fada00f04908aa391c66b78f13a5",
       "version_major": 2,
       "version_minor": 0
      },
      "text/plain": [
       "Validation:   0%|          | 0/1032 [00:00<?, ?it/s]"
      ]
     },
     "metadata": {},
     "output_type": "display_data"
    },
    {
     "name": "stdout",
     "output_type": "stream",
     "text": [
      "08/29/2023, 10:19:22# labels of Validation: tensor([ 63, 137,  47,   3,  49,  67,  32,  18, 129, 133, 139,  68, 105,  32,\n",
      "         35,  75], device='cuda:2') torch.Size([16])\n",
      "08/29/2023, 10:19:22# predicted of Validation: tensor([ 68,  68,  68,   3,  68,  67,  32,  68,   6,   6,  68,   6, 105,  32,\n",
      "         40,  68], device='cuda:2') torch.Size([16])\n",
      "08/29/2023, 10:19:22# labels of 0: tensor([ 63, 137,  47,   3,  49,  67,  32,  18, 129, 133, 139,  68, 105,  32,\n",
      "         35,  75], device='cuda:2') torch.Size([16])\n",
      "08/29/2023, 10:19:22# predicted of 0: tensor([ 68,  68,  68,   3,  68,  67,  32,  68,   6,   6,  68,   6, 105,  32,\n",
      "         40,  68], device='cuda:2') torch.Size([16])\n",
      "08/29/2023, 10:19:43# labels of Validation: tensor([ 59,  76,  57,  21, 151, 122, 150,  85, 117,  79, 142,  17,  70,  29,\n",
      "         48, 115], device='cuda:2') torch.Size([16])\n",
      "08/29/2023, 10:19:43# predicted of Validation: tensor([132,  68,  68, 132,  68, 122,  68,  85, 122,  67,  68,  17,  70,  29,\n",
      "         68,  40], device='cuda:2') torch.Size([16])\n",
      "08/29/2023, 10:19:44# Validation Loss: 3.6795 | Validation Accuracy: 0.2452\n",
      "\n",
      "08/29/2023, 10:19:44# Find a better model!!\n"
     ]
    },
    {
     "data": {
      "application/vnd.jupyter.widget-view+json": {
       "model_id": "07a6da9d75a74555bc3224781c2e5111",
       "version_major": 2,
       "version_minor": 0
      },
      "text/plain": [
       "Training:   0%|          | 0/8250 [00:00<?, ?it/s]"
      ]
     },
     "metadata": {},
     "output_type": "display_data"
    },
    {
     "name": "stdout",
     "output_type": "stream",
     "text": [
      "08/29/2023, 10:22:49# labels of 5000: tensor([ 75,  64,  46,  90,  77, 142, 126,  20,  45,  62,  36,  40,  32, 155,\n",
      "         81, 125], device='cuda:2') torch.Size([16])\n",
      "08/29/2023, 10:22:49# predicted of 5000: tensor([161, 161,  14,  59,  59,  97,  50, 152,  27,  62,  68,  40,  32, 161,\n",
      "        161, 132], device='cuda:2') torch.Size([16])\n",
      "08/29/2023, 10:25:01# total batches: 8250\n",
      "08/29/2023, 10:25:01# Epoch 2 | Train Loss: 3.5592 | Train Accuracy: 0.2409\n"
     ]
    },
    {
     "data": {
      "application/vnd.jupyter.widget-view+json": {
       "model_id": "c361b6cdb5434477a4254d988abe47cf",
       "version_major": 2,
       "version_minor": 0
      },
      "text/plain": [
       "Validation:   0%|          | 0/1032 [00:00<?, ?it/s]"
      ]
     },
     "metadata": {},
     "output_type": "display_data"
    },
    {
     "name": "stdout",
     "output_type": "stream",
     "text": [
      "08/29/2023, 10:25:02# labels of Validation: tensor([103,  25,  99,  91, 159, 156,  16,  48, 158, 144,   9,   8,  90,  81,\n",
      "        143, 166], device='cuda:2') torch.Size([16])\n",
      "08/29/2023, 10:25:02# predicted of Validation: tensor([ 28,  25,  99, 132, 159, 156,  16,  64,  64,  64,  64,  28,  28,  64,\n",
      "         64, 132], device='cuda:2') torch.Size([16])\n",
      "08/29/2023, 10:25:02# labels of 0: tensor([103,  25,  99,  91, 159, 156,  16,  48, 158, 144,   9,   8,  90,  81,\n",
      "        143, 166], device='cuda:2') torch.Size([16])\n",
      "08/29/2023, 10:25:02# predicted of 0: tensor([ 28,  25,  99, 132, 159, 156,  16,  64,  64,  64,  64,  28,  28,  64,\n",
      "         64, 132], device='cuda:2') torch.Size([16])\n",
      "08/29/2023, 10:25:35# labels of Validation: tensor([155, 100,  17, 142,  76,  95, 103, 135,  21,  72,  84,  29, 158, 100,\n",
      "         85, 121], device='cuda:2') torch.Size([16])\n",
      "08/29/2023, 10:25:35# predicted of Validation: tensor([132,  28,  17,  64,  64, 115,  28,  64, 132, 130, 128,  29,  64,  28,\n",
      "         85,  64], device='cuda:2') torch.Size([16])\n",
      "08/29/2023, 10:25:36# Validation Loss: 3.4102 | Validation Accuracy: 0.2731\n",
      "\n",
      "08/29/2023, 10:25:36# Find a better model!!\n"
     ]
    },
    {
     "data": {
      "application/vnd.jupyter.widget-view+json": {
       "model_id": "ea428f5144a043b8bf1ce5bbc8ce45aa",
       "version_major": 2,
       "version_minor": 0
      },
      "text/plain": [
       "Training:   0%|          | 0/8250 [00:00<?, ?it/s]"
      ]
     },
     "metadata": {},
     "output_type": "display_data"
    },
    {
     "name": "stdout",
     "output_type": "stream",
     "text": [
      "08/29/2023, 10:29:17# labels of 5000: tensor([111,  36,  45, 125,  89, 164, 149,  86, 135, 137,  29, 106,   9, 122,\n",
      "        164, 105], device='cuda:2') torch.Size([16])\n",
      "08/29/2023, 10:29:17# predicted of 5000: tensor([162, 113, 120,  41,  45, 132, 149, 162,  41, 162,  29, 106, 132, 122,\n",
      "        162, 105], device='cuda:2') torch.Size([16])\n",
      "08/29/2023, 10:32:47# total batches: 8250\n",
      "08/29/2023, 10:32:47# Epoch 3 | Train Loss: 3.3491 | Train Accuracy: 0.2840\n"
     ]
    },
    {
     "data": {
      "application/vnd.jupyter.widget-view+json": {
       "model_id": "f14995e055194aebb33adce0623c253d",
       "version_major": 2,
       "version_minor": 0
      },
      "text/plain": [
       "Validation:   0%|          | 0/1032 [00:00<?, ?it/s]"
      ]
     },
     "metadata": {},
     "output_type": "display_data"
    },
    {
     "name": "stdout",
     "output_type": "stream",
     "text": [
      "08/29/2023, 10:32:47# labels of Validation: tensor([ 20, 119, 119, 123,  90, 139,  82, 145,  49,  27,  49,  95,  23,  45,\n",
      "        144,  75], device='cuda:2') torch.Size([16])\n",
      "08/29/2023, 10:32:47# predicted of Validation: tensor([ 48,  48,  48, 123, 132,  48,  82, 145,  48,  27,  48,  95,  23,  45,\n",
      "         48,  48], device='cuda:2') torch.Size([16])\n",
      "08/29/2023, 10:32:47# labels of 0: tensor([ 20, 119, 119, 123,  90, 139,  82, 145,  49,  27,  49,  95,  23,  45,\n",
      "        144,  75], device='cuda:2') torch.Size([16])\n",
      "08/29/2023, 10:32:47# predicted of 0: tensor([ 48,  48,  48, 123, 132,  48,  82, 145,  48,  27,  48,  95,  23,  45,\n",
      "         48,  48], device='cuda:2') torch.Size([16])\n",
      "08/29/2023, 10:33:41# labels of Validation: tensor([ 61,  50, 103, 115,  91, 129, 131, 161, 147,  88,  78, 133,  82, 156,\n",
      "         20,  66], device='cuda:2') torch.Size([16])\n",
      "08/29/2023, 10:33:41# predicted of Validation: tensor([ 61,  50, 132, 115, 132, 132, 132, 132, 147, 132,  78, 132,  82, 156,\n",
      "         48, 132], device='cuda:2') torch.Size([16])\n",
      "08/29/2023, 10:33:42# Validation Loss: 3.2372 | Validation Accuracy: 0.3175\n",
      "\n",
      "08/29/2023, 10:33:42# Find a better model!!\n"
     ]
    },
    {
     "data": {
      "application/vnd.jupyter.widget-view+json": {
       "model_id": "45ab44922f3b4b78b5d368f123962d27",
       "version_major": 2,
       "version_minor": 0
      },
      "text/plain": [
       "Training:   0%|          | 0/8250 [00:00<?, ?it/s]"
      ]
     },
     "metadata": {},
     "output_type": "display_data"
    },
    {
     "name": "stdout",
     "output_type": "stream",
     "text": [
      "08/29/2023, 10:38:54# labels of 5000: tensor([164,  39, 152,  79, 105,  32, 108, 157,  30, 112,  63,  17,  14,  21,\n",
      "        126,  95], device='cuda:2') torch.Size([16])\n",
      "08/29/2023, 10:38:54# predicted of 5000: tensor([108,  72, 133,   0, 105,  32,  28, 110,  12, 110, 108,  17, 110,  28,\n",
      "        122,  95], device='cuda:2') torch.Size([16])\n",
      "08/29/2023, 10:42:17# total batches: 8250\n",
      "08/29/2023, 10:42:17# Epoch 4 | Train Loss: 3.2098 | Train Accuracy: 0.3092\n"
     ]
    },
    {
     "data": {
      "application/vnd.jupyter.widget-view+json": {
       "model_id": "ee5fb3e4c7f944fc96e5d83b14226dba",
       "version_major": 2,
       "version_minor": 0
      },
      "text/plain": [
       "Validation:   0%|          | 0/1032 [00:00<?, ?it/s]"
      ]
     },
     "metadata": {},
     "output_type": "display_data"
    },
    {
     "name": "stdout",
     "output_type": "stream",
     "text": [
      "08/29/2023, 10:42:17# labels of Validation: tensor([ 20,  97, 136, 121, 155, 125, 116,  55,  88, 159,  50,  21,  57,  82,\n",
      "          0, 159], device='cuda:2') torch.Size([16])\n",
      "08/29/2023, 10:42:17# predicted of Validation: tensor([100, 100, 136, 100, 132, 100, 100, 100, 132, 159,  50, 132, 100,  82,\n",
      "          0, 159], device='cuda:2') torch.Size([16])\n",
      "08/29/2023, 10:42:17# labels of 0: tensor([ 20,  97, 136, 121, 155, 125, 116,  55,  88, 159,  50,  21,  57,  82,\n",
      "          0, 159], device='cuda:2') torch.Size([16])\n",
      "08/29/2023, 10:42:17# predicted of 0: tensor([100, 100, 136, 100, 132, 100, 100, 100, 132, 159,  50, 132, 100,  82,\n",
      "          0, 159], device='cuda:2') torch.Size([16])\n",
      "08/29/2023, 10:43:08# labels of Validation: tensor([ 31,  92,  53,  28,  59, 135,  47, 119, 106,  45,  82, 162, 159,  58,\n",
      "         88, 107], device='cuda:2') torch.Size([16])\n",
      "08/29/2023, 10:43:08# predicted of Validation: tensor([100, 100, 100, 132, 132, 100, 100, 100, 106,  45,  82, 100, 159, 100,\n",
      "        132, 132], device='cuda:2') torch.Size([16])\n",
      "08/29/2023, 10:43:10# Validation Loss: 3.1167 | Validation Accuracy: 0.3332\n",
      "\n",
      "08/29/2023, 10:43:10# Find a better model!!\n"
     ]
    },
    {
     "data": {
      "application/vnd.jupyter.widget-view+json": {
       "model_id": "278492221abc4c8e8d9c2a70244f9199",
       "version_major": 2,
       "version_minor": 0
      },
      "text/plain": [
       "Training:   0%|          | 0/8250 [00:00<?, ?it/s]"
      ]
     },
     "metadata": {},
     "output_type": "display_data"
    },
    {
     "name": "stdout",
     "output_type": "stream",
     "text": [
      "08/29/2023, 10:48:10# labels of 5000: tensor([155,  69,  29, 117,  40, 112,   9,  72,  92, 122, 142, 102, 114,  77,\n",
      "         13, 158], device='cuda:2') torch.Size([16])\n",
      "08/29/2023, 10:48:10# predicted of 5000: tensor([161,  69,  29, 117,  40,  44,  44,   0,  44, 122, 109,  44, 161, 161,\n",
      "         78, 161], device='cuda:2') torch.Size([16])\n",
      "08/29/2023, 10:51:29# total batches: 8250\n",
      "08/29/2023, 10:51:29# Epoch 5 | Train Loss: 3.1100 | Train Accuracy: 0.3275\n"
     ]
    },
    {
     "data": {
      "application/vnd.jupyter.widget-view+json": {
       "model_id": "663b21c64b66453096d641c6404a9a30",
       "version_major": 2,
       "version_minor": 0
      },
      "text/plain": [
       "Validation:   0%|          | 0/1032 [00:00<?, ?it/s]"
      ]
     },
     "metadata": {},
     "output_type": "display_data"
    },
    {
     "name": "stdout",
     "output_type": "stream",
     "text": [
      "08/29/2023, 10:51:30# labels of Validation: tensor([152,  71, 110, 129,  51,  20, 155,  14,  19, 160,  77,  35,  98,  13,\n",
      "        119, 130], device='cuda:2') torch.Size([16])\n",
      "08/29/2023, 10:51:30# predicted of Validation: tensor([158, 158, 161, 161, 161, 158, 161, 158, 158, 161, 161,  35, 158,  13,\n",
      "        158, 130], device='cuda:2') torch.Size([16])\n",
      "08/29/2023, 10:51:30# labels of 0: tensor([152,  71, 110, 129,  51,  20, 155,  14,  19, 160,  77,  35,  98,  13,\n",
      "        119, 130], device='cuda:2') torch.Size([16])\n",
      "08/29/2023, 10:51:30# predicted of 0: tensor([158, 158, 161, 161, 161, 158, 161, 158, 158, 161, 161,  35, 158,  13,\n",
      "        158, 130], device='cuda:2') torch.Size([16])\n",
      "08/29/2023, 10:52:19# labels of Validation: tensor([105,  61, 152,  31,  50,   7, 100, 124,  32, 123,  70, 118,  87,  99,\n",
      "        155,  40], device='cuda:2') torch.Size([16])\n",
      "08/29/2023, 10:52:19# predicted of Validation: tensor([105,  61, 158, 158,  50,   7, 161, 158,  32, 123,  70, 118, 158,  99,\n",
      "        161,  40], device='cuda:2') torch.Size([16])\n",
      "08/29/2023, 10:52:20# Validation Loss: 3.0303 | Validation Accuracy: 0.3529\n",
      "\n",
      "08/29/2023, 10:52:20# Find a better model!!\n"
     ]
    },
    {
     "data": {
      "application/vnd.jupyter.widget-view+json": {
       "model_id": "8769060954b944f99e2f4443b4249103",
       "version_major": 2,
       "version_minor": 0
      },
      "text/plain": [
       "Training:   0%|          | 0/8250 [00:00<?, ?it/s]"
      ]
     },
     "metadata": {},
     "output_type": "display_data"
    },
    {
     "name": "stdout",
     "output_type": "stream",
     "text": [
      "08/29/2023, 10:57:46# labels of 5000: tensor([115, 128,  46,  57,  15,  11,  90, 110, 148, 161,  19,  67, 100,  18,\n",
      "        145,  93], device='cuda:2') torch.Size([16])\n",
      "08/29/2023, 10:57:46# predicted of 5000: tensor([115, 128,  36,   1,  15,  88, 161,  60, 161,  28,  77,  67,  77,  92,\n",
      "        145,  77], device='cuda:2') torch.Size([16])\n",
      "08/29/2023, 11:01:16# total batches: 8250\n",
      "08/29/2023, 11:01:16# Epoch 6 | Train Loss: 3.0385 | Train Accuracy: 0.3383\n"
     ]
    },
    {
     "data": {
      "application/vnd.jupyter.widget-view+json": {
       "model_id": "d474f88cf5bd4c91a656b24535b575e2",
       "version_major": 2,
       "version_minor": 0
      },
      "text/plain": [
       "Validation:   0%|          | 0/1032 [00:00<?, ?it/s]"
      ]
     },
     "metadata": {},
     "output_type": "display_data"
    },
    {
     "name": "stdout",
     "output_type": "stream",
     "text": [
      "08/29/2023, 11:01:16# labels of Validation: tensor([128,  58,  96,  55,  97,  74,  12,   9,  53,  14,  66, 121,  53,  43,\n",
      "        132,  25], device='cuda:2') torch.Size([16])\n",
      "08/29/2023, 11:01:16# predicted of Validation: tensor([128, 150,  96, 150, 150, 150, 150, 150, 150, 150, 132, 150, 150, 150,\n",
      "        132,  25], device='cuda:2') torch.Size([16])\n",
      "08/29/2023, 11:01:16# labels of 0: tensor([128,  58,  96,  55,  97,  74,  12,   9,  53,  14,  66, 121,  53,  43,\n",
      "        132,  25], device='cuda:2') torch.Size([16])\n",
      "08/29/2023, 11:01:16# predicted of 0: tensor([128, 150,  96, 150, 150, 150, 150, 150, 150, 150, 132, 150, 150, 150,\n",
      "        132,  25], device='cuda:2') torch.Size([16])\n",
      "08/29/2023, 11:02:11# labels of Validation: tensor([118, 123,  96,  78, 105,  60,  25, 144, 160, 116,  49,  31, 150, 148,\n",
      "        108,  54], device='cuda:2') torch.Size([16])\n",
      "08/29/2023, 11:02:11# predicted of Validation: tensor([118, 123,  96,  67, 105, 150,  25, 150, 132, 150, 150, 150, 150, 132,\n",
      "        132, 150], device='cuda:2') torch.Size([16])\n",
      "08/29/2023, 11:02:13# Validation Loss: 2.9703 | Validation Accuracy: 0.3587\n",
      "\n",
      "08/29/2023, 11:02:13# Find a better model!!\n"
     ]
    },
    {
     "data": {
      "application/vnd.jupyter.widget-view+json": {
       "model_id": "937083b2a4594356a5ede718c6dc3d57",
       "version_major": 2,
       "version_minor": 0
      },
      "text/plain": [
       "Training:   0%|          | 0/8250 [00:00<?, ?it/s]"
      ]
     },
     "metadata": {},
     "output_type": "display_data"
    },
    {
     "name": "stdout",
     "output_type": "stream",
     "text": [
      "08/29/2023, 11:08:08# labels of 5000: tensor([141,  45, 106,  75, 158, 121,  75,  74,  43,  18,  36,  80,  43,  36,\n",
      "         64, 161], device='cuda:2') torch.Size([16])\n",
      "08/29/2023, 11:08:08# predicted of 5000: tensor([148,  45, 106,  34, 132,   1, 157, 152,  90,  86,  43,  80,  43,  34,\n",
      "        132, 132], device='cuda:2') torch.Size([16])\n",
      "08/29/2023, 11:12:45# total batches: 8250\n",
      "08/29/2023, 11:12:45# Epoch 7 | Train Loss: 2.9856 | Train Accuracy: 0.3483\n"
     ]
    },
    {
     "data": {
      "application/vnd.jupyter.widget-view+json": {
       "model_id": "b229991b535b44c798324b90f37f6a02",
       "version_major": 2,
       "version_minor": 0
      },
      "text/plain": [
       "Validation:   0%|          | 0/1032 [00:00<?, ?it/s]"
      ]
     },
     "metadata": {},
     "output_type": "display_data"
    },
    {
     "name": "stdout",
     "output_type": "stream",
     "text": [
      "08/29/2023, 11:12:46# labels of Validation: tensor([ 16, 141,  94, 111,  58, 116, 156,  43,   0,  79,  73,  47,  17,  89,\n",
      "         25,  25], device='cuda:2') torch.Size([16])\n",
      "08/29/2023, 11:12:46# predicted of Validation: tensor([ 16, 161,  94,  30,  30,  30, 156,  30,   0, 117,  73,  30,  17,  89,\n",
      "         25,  25], device='cuda:2') torch.Size([16])\n",
      "08/29/2023, 11:12:46# labels of 0: tensor([ 16, 141,  94, 111,  58, 116, 156,  43,   0,  79,  73,  47,  17,  89,\n",
      "         25,  25], device='cuda:2') torch.Size([16])\n",
      "08/29/2023, 11:12:46# predicted of 0: tensor([ 16, 161,  94,  30,  30,  30, 156,  30,   0, 117,  73,  30,  17,  89,\n",
      "         25,  25], device='cuda:2') torch.Size([16])\n",
      "08/29/2023, 11:14:02# labels of Validation: tensor([110,  63,  80, 104, 111, 112,  76, 116,  34,  69, 133,  14,  41, 148,\n",
      "        146,   4], device='cuda:2') torch.Size([16])\n",
      "08/29/2023, 11:14:02# predicted of Validation: tensor([161,  30,  80,  30,  30,  30,  30,  30,  30,  69, 161,  30,  30, 161,\n",
      "        146,  30], device='cuda:2') torch.Size([16])\n",
      "08/29/2023, 11:14:05# Validation Loss: 2.9236 | Validation Accuracy: 0.3625\n",
      "\n",
      "08/29/2023, 11:14:05# Find a better model!!\n"
     ]
    },
    {
     "data": {
      "application/vnd.jupyter.widget-view+json": {
       "model_id": "179a7c263b1845ee8b2e3d3af144e76a",
       "version_major": 2,
       "version_minor": 0
      },
      "text/plain": [
       "Training:   0%|          | 0/8250 [00:00<?, ?it/s]"
      ]
     },
     "metadata": {},
     "output_type": "display_data"
    },
    {
     "name": "stdout",
     "output_type": "stream",
     "text": [
      "08/29/2023, 11:21:05# labels of 5000: tensor([ 79, 134, 105,  27, 128,  40,  95, 165,   6, 166, 121,  84,   2,  11,\n",
      "         15,  37], device='cuda:2') torch.Size([16])\n",
      "08/29/2023, 11:21:05# predicted of 5000: tensor([ 79, 134, 105,  27, 128,  40,  95, 165, 132, 132, 160,  84,  93, 160,\n",
      "         15, 132], device='cuda:2') torch.Size([16])\n",
      "08/29/2023, 11:25:33# total batches: 8250\n",
      "08/29/2023, 11:25:33# Epoch 8 | Train Loss: 2.9434 | Train Accuracy: 0.3538\n"
     ]
    },
    {
     "data": {
      "application/vnd.jupyter.widget-view+json": {
       "model_id": "3b1552bd51e84d6aac1a2ca6b6a49a53",
       "version_major": 2,
       "version_minor": 0
      },
      "text/plain": [
       "Validation:   0%|          | 0/1032 [00:00<?, ?it/s]"
      ]
     },
     "metadata": {},
     "output_type": "display_data"
    },
    {
     "name": "stdout",
     "output_type": "stream",
     "text": [
      "08/29/2023, 11:25:34# labels of Validation: tensor([ 60,  56, 163,  40, 135, 122,  26, 113, 126,  77,  24,   8,  87, 109,\n",
      "          0,  29], device='cuda:2') torch.Size([16])\n",
      "08/29/2023, 11:25:34# predicted of Validation: tensor([  9,  56,   9,  40,   9, 122,   9, 131, 126, 131,   9, 131,   9,   9,\n",
      "          0,  29], device='cuda:2') torch.Size([16])\n",
      "08/29/2023, 11:25:34# labels of 0: tensor([ 60,  56, 163,  40, 135, 122,  26, 113, 126,  77,  24,   8,  87, 109,\n",
      "          0,  29], device='cuda:2') torch.Size([16])\n",
      "08/29/2023, 11:25:34# predicted of 0: tensor([  9,  56,   9,  40,   9, 122,   9, 131, 126, 131,   9, 131,   9,   9,\n",
      "          0,  29], device='cuda:2') torch.Size([16])\n",
      "08/29/2023, 11:26:51# labels of Validation: tensor([126, 100, 130,  13,  87,  78, 127, 122, 120, 116,  64,  71, 122, 119,\n",
      "        151,  63], device='cuda:2') torch.Size([16])\n",
      "08/29/2023, 11:26:51# predicted of Validation: tensor([126, 131, 130,  13,   9,  78, 127, 122, 120,   9, 131,   9, 122,   9,\n",
      "          9,   9], device='cuda:2') torch.Size([16])\n",
      "08/29/2023, 11:26:53# Validation Loss: 2.8876 | Validation Accuracy: 0.3720\n",
      "\n",
      "08/29/2023, 11:26:53# Find a better model!!\n"
     ]
    },
    {
     "data": {
      "application/vnd.jupyter.widget-view+json": {
       "model_id": "931955820f7342ce96e3b8f516af861f",
       "version_major": 2,
       "version_minor": 0
      },
      "text/plain": [
       "Training:   0%|          | 0/8250 [00:00<?, ?it/s]"
      ]
     },
     "metadata": {},
     "output_type": "display_data"
    },
    {
     "name": "stdout",
     "output_type": "stream",
     "text": [
      "08/29/2023, 11:33:49# labels of 5000: tensor([ 96,  76, 113, 141, 118,  66,  70,   7,   2, 141,  30,  95,   9,   3,\n",
      "        130,  47], device='cuda:2') torch.Size([16])\n",
      "08/29/2023, 11:33:49# predicted of 5000: tensor([ 96,  47,  66,  51, 118, 132,  70,   7,  47, 148,  47,  95, 148,   3,\n",
      "        130, 148], device='cuda:2') torch.Size([16])\n",
      "08/29/2023, 11:38:22# total batches: 8250\n",
      "08/29/2023, 11:38:22# Epoch 9 | Train Loss: 2.9131 | Train Accuracy: 0.3582\n"
     ]
    },
    {
     "data": {
      "application/vnd.jupyter.widget-view+json": {
       "model_id": "ba6dddc9eb4949f0a02054a6a6b86837",
       "version_major": 2,
       "version_minor": 0
      },
      "text/plain": [
       "Validation:   0%|          | 0/1032 [00:00<?, ?it/s]"
      ]
     },
     "metadata": {},
     "output_type": "display_data"
    },
    {
     "name": "stdout",
     "output_type": "stream",
     "text": [
      "08/29/2023, 11:38:22# labels of Validation: tensor([ 36, 137, 126, 131,  17,  89, 106,  82, 108, 160, 135,  10,   2,  80,\n",
      "          0, 109], device='cuda:2') torch.Size([16])\n",
      "08/29/2023, 11:38:22# predicted of Validation: tensor([ 87,  87, 126,  28,  17,  89, 106,  82,  28,  28,  87,  87,  87,  80,\n",
      "          0,  87], device='cuda:2') torch.Size([16])\n",
      "08/29/2023, 11:38:22# labels of 0: tensor([ 36, 137, 126, 131,  17,  89, 106,  82, 108, 160, 135,  10,   2,  80,\n",
      "          0, 109], device='cuda:2') torch.Size([16])\n",
      "08/29/2023, 11:38:22# predicted of 0: tensor([ 87,  87, 126,  28,  17,  89, 106,  82,  28,  28,  87,  87,  87,  80,\n",
      "          0,  87], device='cuda:2') torch.Size([16])\n",
      "08/29/2023, 11:39:34# labels of Validation: tensor([ 71,  16,  83,  37, 112, 122, 140,  86, 131,  44, 116, 137,  84, 112,\n",
      "         51, 128], device='cuda:2') torch.Size([16])\n",
      "08/29/2023, 11:39:34# predicted of Validation: tensor([ 87,  16,  87,  28,  87, 122, 140,  87,  28,  87,  87,  87,  84,  87,\n",
      "         28, 128], device='cuda:2') torch.Size([16])\n",
      "08/29/2023, 11:39:36# Validation Loss: 2.8614 | Validation Accuracy: 0.3674\n",
      "\n",
      "08/29/2023, 11:39:36# Find a better model!!\n"
     ]
    },
    {
     "data": {
      "application/vnd.jupyter.widget-view+json": {
       "model_id": "abf6865ff821466b8997b9457e891d08",
       "version_major": 2,
       "version_minor": 0
      },
      "text/plain": [
       "Training:   0%|          | 0/8250 [00:00<?, ?it/s]"
      ]
     },
     "metadata": {},
     "output_type": "display_data"
    },
    {
     "name": "stdout",
     "output_type": "stream",
     "text": [
      "08/29/2023, 11:46:26# labels of 5000: tensor([154,  14,  25, 138, 166, 130, 151,  49,  96,  55,  99, 148,   5,  61,\n",
      "        156,  99], device='cuda:2') torch.Size([16])\n",
      "08/29/2023, 11:46:26# predicted of 5000: tensor([154,  86,  25, 138, 132, 130, 109,  86,  96,  49,  99,   6,   5,  61,\n",
      "        156,  99], device='cuda:2') torch.Size([16])\n",
      "08/29/2023, 11:51:26# total batches: 8250\n",
      "08/29/2023, 11:51:26# Epoch 10 | Train Loss: 2.8885 | Train Accuracy: 0.3618\n"
     ]
    },
    {
     "data": {
      "application/vnd.jupyter.widget-view+json": {
       "model_id": "3debd3e3deb549eaa727d20c76ece237",
       "version_major": 2,
       "version_minor": 0
      },
      "text/plain": [
       "Validation:   0%|          | 0/1032 [00:00<?, ?it/s]"
      ]
     },
     "metadata": {},
     "output_type": "display_data"
    },
    {
     "name": "stdout",
     "output_type": "stream",
     "text": [
      "08/29/2023, 11:51:26# labels of Validation: tensor([117,  64, 105, 152, 131,  79,  12,  33,  64,   3,  48,   4,  11, 108,\n",
      "         67, 129], device='cuda:2') torch.Size([16])\n",
      "08/29/2023, 11:51:26# predicted of Validation: tensor([117,  28, 105,  92,  28,   5,  92,  92,  28,   3,  92,  92,  92,  28,\n",
      "         78,  28], device='cuda:2') torch.Size([16])\n",
      "08/29/2023, 11:51:26# labels of 0: tensor([117,  64, 105, 152, 131,  79,  12,  33,  64,   3,  48,   4,  11, 108,\n",
      "         67, 129], device='cuda:2') torch.Size([16])\n",
      "08/29/2023, 11:51:26# predicted of 0: tensor([117,  28, 105,  92,  28,   5,  92,  92,  28,   3,  92,  92,  92,  28,\n",
      "         78,  28], device='cuda:2') torch.Size([16])\n",
      "08/29/2023, 11:52:55# labels of Validation: tensor([ 56, 106,  55,  30,  75,  61, 111,  69,   2, 152,  87,  50,  59,  59,\n",
      "        157, 119], device='cuda:2') torch.Size([16])\n",
      "08/29/2023, 11:52:55# predicted of Validation: tensor([ 56, 106,  92,  92,  92,  61,  92,  69,  92,  92,  92,  50,  28,  28,\n",
      "         92,  92], device='cuda:2') torch.Size([16])\n",
      "08/29/2023, 11:52:58# Validation Loss: 2.8429 | Validation Accuracy: 0.3751\n",
      "\n",
      "08/29/2023, 11:52:58# Find a better model!!\n"
     ]
    },
    {
     "data": {
      "application/vnd.jupyter.widget-view+json": {
       "model_id": "2e8f5d81033349ddb019d163a2ae6205",
       "version_major": 2,
       "version_minor": 0
      },
      "text/plain": [
       "Training:   0%|          | 0/8250 [00:00<?, ?it/s]"
      ]
     },
     "metadata": {},
     "output_type": "display_data"
    },
    {
     "name": "stdout",
     "output_type": "stream",
     "text": [
      "08/29/2023, 12:00:57# labels of 5000: tensor([ 15, 145, 164,  68,  10,   3, 160,  16, 141, 130,  75,  33, 142,  92,\n",
      "        140,   0], device='cuda:2') torch.Size([16])\n",
      "08/29/2023, 12:00:57# predicted of 5000: tensor([ 15, 145, 104,  28,  83,   3, 161,  16, 132, 130, 104, 104,  53,  83,\n",
      "        140,   0], device='cuda:2') torch.Size([16])\n",
      "08/29/2023, 12:05:45# total batches: 8250\n",
      "08/29/2023, 12:05:45# Epoch 11 | Train Loss: 2.8706 | Train Accuracy: 0.3643\n"
     ]
    },
    {
     "data": {
      "application/vnd.jupyter.widget-view+json": {
       "model_id": "15f08b6776eb4915be3f72ae8903bd36",
       "version_major": 2,
       "version_minor": 0
      },
      "text/plain": [
       "Validation:   0%|          | 0/1032 [00:00<?, ?it/s]"
      ]
     },
     "metadata": {},
     "output_type": "display_data"
    },
    {
     "name": "stdout",
     "output_type": "stream",
     "text": [
      "08/29/2023, 12:05:46# labels of Validation: tensor([ 96,  45,   0,  85,  35, 156,  35,  82, 117, 129,   3,   4,  94, 131,\n",
      "        150, 112], device='cuda:2') torch.Size([16])\n",
      "08/29/2023, 12:05:46# predicted of Validation: tensor([ 96,  45,   0,  85,  35, 156,  35,  82, 117, 108,   3, 104,  94, 132,\n",
      "        104, 104], device='cuda:2') torch.Size([16])\n",
      "08/29/2023, 12:05:46# labels of 0: tensor([ 96,  45,   0,  85,  35, 156,  35,  82, 117, 129,   3,   4,  94, 131,\n",
      "        150, 112], device='cuda:2') torch.Size([16])\n",
      "08/29/2023, 12:05:46# predicted of 0: tensor([ 96,  45,   0,  85,  35, 156,  35,  82, 117, 108,   3, 104,  94, 132,\n",
      "        104, 104], device='cuda:2') torch.Size([16])\n",
      "08/29/2023, 12:07:05# labels of Validation: tensor([ 23,  59, 148,  74,  81,  44, 126,   5, 118,  41,  14,  67,  86,   0,\n",
      "         26,  64], device='cuda:2') torch.Size([16])\n",
      "08/29/2023, 12:07:05# predicted of Validation: tensor([ 23, 132, 108, 104, 104, 104, 126,   5, 118, 104, 104,  67, 104,   0,\n",
      "        104, 108], device='cuda:2') torch.Size([16])\n",
      "08/29/2023, 12:07:07# Validation Loss: 2.8266 | Validation Accuracy: 0.3699\n",
      "\n",
      "08/29/2023, 12:07:07# Find a better model!!\n"
     ]
    },
    {
     "data": {
      "application/vnd.jupyter.widget-view+json": {
       "model_id": "051657a31b5740d0b2666cdb137eb0d9",
       "version_major": 2,
       "version_minor": 0
      },
      "text/plain": [
       "Training:   0%|          | 0/8250 [00:00<?, ?it/s]"
      ]
     },
     "metadata": {},
     "output_type": "display_data"
    },
    {
     "name": "stdout",
     "output_type": "stream",
     "text": [
      "08/29/2023, 12:14:06# labels of 5000: tensor([112, 119,  80, 133,  73, 123, 148,  55, 107,  46,  49, 165,  58,  89,\n",
      "         76,  67], device='cuda:2') torch.Size([16])\n",
      "08/29/2023, 12:14:06# predicted of 5000: tensor([ 18,  66,  80,   6,  73, 123,  64, 107,   6, 158, 152, 165, 107,  89,\n",
      "         66,  67], device='cuda:2') torch.Size([16])\n",
      "08/29/2023, 12:18:30# total batches: 8250\n",
      "08/29/2023, 12:18:30# Epoch 12 | Train Loss: 2.8548 | Train Accuracy: 0.3663\n"
     ]
    },
    {
     "data": {
      "application/vnd.jupyter.widget-view+json": {
       "model_id": "487898f1792549d09bc8d81def1b858f",
       "version_major": 2,
       "version_minor": 0
      },
      "text/plain": [
       "Validation:   0%|          | 0/1032 [00:00<?, ?it/s]"
      ]
     },
     "metadata": {},
     "output_type": "display_data"
    },
    {
     "name": "stdout",
     "output_type": "stream",
     "text": [
      "08/29/2023, 12:18:30# labels of Validation: tensor([ 82, 126, 160, 147,  83, 154,  48, 137,  74, 102,  13, 149,  11,  96,\n",
      "         27, 111], device='cuda:2') torch.Size([16])\n",
      "08/29/2023, 12:18:30# predicted of Validation: tensor([ 82, 126,  77, 147, 116, 154, 116, 116, 116, 116,  13, 149, 116,  96,\n",
      "         27, 116], device='cuda:2') torch.Size([16])\n",
      "08/29/2023, 12:18:30# labels of 0: tensor([ 82, 126, 160, 147,  83, 154,  48, 137,  74, 102,  13, 149,  11,  96,\n",
      "         27, 111], device='cuda:2') torch.Size([16])\n",
      "08/29/2023, 12:18:30# predicted of 0: tensor([ 82, 126,  77, 147, 116, 154, 116, 116, 116, 116,  13, 149, 116,  96,\n",
      "         27, 116], device='cuda:2') torch.Size([16])\n",
      "08/29/2023, 12:19:47# labels of Validation: tensor([122,  27,   9, 131,  79,  62, 151, 110,  60,  59, 159,  85,  16, 100,\n",
      "         47, 165], device='cuda:2') torch.Size([16])\n",
      "08/29/2023, 12:19:47# predicted of Validation: tensor([122,  27, 116, 132,  79,  62, 116,  77, 116, 132, 159,  85,  16,  77,\n",
      "        116, 165], device='cuda:2') torch.Size([16])\n",
      "08/29/2023, 12:19:50# Validation Loss: 2.8139 | Validation Accuracy: 0.3704\n",
      "\n",
      "08/29/2023, 12:19:50# Find a better model!!\n"
     ]
    },
    {
     "data": {
      "application/vnd.jupyter.widget-view+json": {
       "model_id": "e313cc5a0b8045b8b123dbe81e5b655d",
       "version_major": 2,
       "version_minor": 0
      },
      "text/plain": [
       "Training:   0%|          | 0/8250 [00:00<?, ?it/s]"
      ]
     },
     "metadata": {},
     "output_type": "display_data"
    },
    {
     "name": "stdout",
     "output_type": "stream",
     "text": [
      "08/29/2023, 12:26:44# labels of 5000: tensor([119,  70, 109, 125,  53,  73,  58,  85,   7, 166, 105,  56, 162,  44,\n",
      "         71, 124], device='cuda:2') torch.Size([16])\n",
      "08/29/2023, 12:26:44# predicted of 5000: tensor([ 44,  70,  44,  88,  44,  73,  58,  85,   7, 132, 105,  56,  44,  75,\n",
      "         37,  44], device='cuda:2') torch.Size([16])\n",
      "08/29/2023, 12:31:16# total batches: 8250\n",
      "08/29/2023, 12:31:16# Epoch 13 | Train Loss: 2.8429 | Train Accuracy: 0.3678\n"
     ]
    },
    {
     "data": {
      "application/vnd.jupyter.widget-view+json": {
       "model_id": "3b28e34002224712a9f07b42aa7cf4cd",
       "version_major": 2,
       "version_minor": 0
      },
      "text/plain": [
       "Validation:   0%|          | 0/1032 [00:00<?, ?it/s]"
      ]
     },
     "metadata": {},
     "output_type": "display_data"
    },
    {
     "name": "stdout",
     "output_type": "stream",
     "text": [
      "08/29/2023, 12:31:17# labels of Validation: tensor([ 24,  28,  76,  95,  31, 135,  89,  49,   3,  66,   2, 152,  72,   7,\n",
      "         79, 150], device='cuda:2') torch.Size([16])\n",
      "08/29/2023, 12:31:17# predicted of Validation: tensor([  4, 161,   4,  95,   4,   4,  89,   4,   3, 161,   4,   4,  72,   7,\n",
      "         79,   4], device='cuda:2') torch.Size([16])\n",
      "08/29/2023, 12:31:17# labels of 0: tensor([ 24,  28,  76,  95,  31, 135,  89,  49,   3,  66,   2, 152,  72,   7,\n",
      "         79, 150], device='cuda:2') torch.Size([16])\n",
      "08/29/2023, 12:31:17# predicted of 0: tensor([  4, 161,   4,  95,   4,   4,  89,   4,   3, 161,   4,   4,  72,   7,\n",
      "         79,   4], device='cuda:2') torch.Size([16])\n",
      "08/29/2023, 12:32:34# labels of Validation: tensor([126, 137, 139,   9, 112, 118,  11, 133, 133, 111,  94,  80, 125,  27,\n",
      "        104,  83], device='cuda:2') torch.Size([16])\n",
      "08/29/2023, 12:32:34# predicted of Validation: tensor([126,   4,   4,   4,   4, 118,   4, 131, 131,   4,  94,  80,   4,  27,\n",
      "          4,   4], device='cuda:2') torch.Size([16])\n",
      "08/29/2023, 12:32:36# Validation Loss: 2.8022 | Validation Accuracy: 0.3714\n",
      "\n",
      "08/29/2023, 12:32:36# Find a better model!!\n"
     ]
    },
    {
     "data": {
      "application/vnd.jupyter.widget-view+json": {
       "model_id": "e733457e2048426d84abafa0b521de5d",
       "version_major": 2,
       "version_minor": 0
      },
      "text/plain": [
       "Training:   0%|          | 0/8250 [00:00<?, ?it/s]"
      ]
     },
     "metadata": {},
     "output_type": "display_data"
    },
    {
     "name": "stdout",
     "output_type": "stream",
     "text": [
      "08/29/2023, 12:39:26# labels of 5000: tensor([ 32,  62, 122,  56,  97,  89,  54, 117, 149,  41,  68,  74,  91,  60,\n",
      "         23, 161], device='cuda:2') torch.Size([16])\n",
      "08/29/2023, 12:39:26# predicted of 5000: tensor([ 32,  62, 122,  56, 162,  89,  12, 117, 149,  12,  93, 162,  28,  12,\n",
      "         23, 132], device='cuda:2') torch.Size([16])\n",
      "08/29/2023, 12:43:47# total batches: 8250\n",
      "08/29/2023, 12:43:47# Epoch 14 | Train Loss: 2.8318 | Train Accuracy: 0.3690\n"
     ]
    },
    {
     "data": {
      "application/vnd.jupyter.widget-view+json": {
       "model_id": "a3c9a5be85e749aa8a1ee8be45affd6a",
       "version_major": 2,
       "version_minor": 0
      },
      "text/plain": [
       "Validation:   0%|          | 0/1032 [00:00<?, ?it/s]"
      ]
     },
     "metadata": {},
     "output_type": "display_data"
    },
    {
     "name": "stdout",
     "output_type": "stream",
     "text": [
      "08/29/2023, 12:43:47# labels of Validation: tensor([ 24,  84, 131, 125,  25, 109, 161, 101,  18,  35,  15, 158, 111,  51,\n",
      "        140,  18], device='cuda:2') torch.Size([16])\n",
      "08/29/2023, 12:43:47# predicted of Validation: tensor([ 42,  84,  28,  42,  25,  42, 132, 108,  42,  35,  15,  42,  42,  28,\n",
      "        140,  42], device='cuda:2') torch.Size([16])\n",
      "08/29/2023, 12:43:47# labels of 0: tensor([ 24,  84, 131, 125,  25, 109, 161, 101,  18,  35,  15, 158, 111,  51,\n",
      "        140,  18], device='cuda:2') torch.Size([16])\n",
      "08/29/2023, 12:43:47# predicted of 0: tensor([ 42,  84,  28,  42,  25,  42, 132, 108,  42,  35,  15,  42,  42,  28,\n",
      "        140,  42], device='cuda:2') torch.Size([16])\n",
      "08/29/2023, 12:45:00# labels of Validation: tensor([ 17, 103,  50, 143,  81,   5, 128,  10, 121,   6,  51,  69,  19,  10,\n",
      "        120,  63], device='cuda:2') torch.Size([16])\n",
      "08/29/2023, 12:45:00# predicted of Validation: tensor([ 17, 108,  50,  42,  42,   5, 128,  42,  42,  28,  28,  69,  42,  42,\n",
      "        120,  42], device='cuda:2') torch.Size([16])\n",
      "08/29/2023, 12:45:02# Validation Loss: 2.7922 | Validation Accuracy: 0.3787\n",
      "\n",
      "08/29/2023, 12:45:02# Find a better model!!\n"
     ]
    },
    {
     "data": {
      "application/vnd.jupyter.widget-view+json": {
       "model_id": "75c883ec29944f2d8f42eea208bf6dd6",
       "version_major": 2,
       "version_minor": 0
      },
      "text/plain": [
       "Training:   0%|          | 0/8250 [00:00<?, ?it/s]"
      ]
     },
     "metadata": {},
     "output_type": "display_data"
    },
    {
     "name": "stdout",
     "output_type": "stream",
     "text": [
      "08/29/2023, 12:51:45# labels of 5000: tensor([ 96, 137, 108,  84,  28,  13, 112,  28, 166,   2,  46,  84, 137,  39,\n",
      "        150,   7], device='cuda:2') torch.Size([16])\n",
      "08/29/2023, 12:51:45# predicted of 5000: tensor([ 96,  83, 161,  84, 132,  13,  77, 132, 132,  83,  83,  84, 133,  39,\n",
      "        111,   7], device='cuda:2') torch.Size([16])\n",
      "08/29/2023, 12:56:07# total batches: 8250\n",
      "08/29/2023, 12:56:07# Epoch 15 | Train Loss: 2.8229 | Train Accuracy: 0.3711\n"
     ]
    },
    {
     "data": {
      "application/vnd.jupyter.widget-view+json": {
       "model_id": "806facab50604deca50e1beec805d2d9",
       "version_major": 2,
       "version_minor": 0
      },
      "text/plain": [
       "Validation:   0%|          | 0/1032 [00:00<?, ?it/s]"
      ]
     },
     "metadata": {},
     "output_type": "display_data"
    },
    {
     "name": "stdout",
     "output_type": "stream",
     "text": [
      "08/29/2023, 12:56:07# labels of Validation: tensor([ 23,  37,   9, 120, 109,  90, 103,  48,  70,   2, 132, 150,  21, 161,\n",
      "          6, 138], device='cuda:2') torch.Size([16])\n",
      "08/29/2023, 12:56:07# predicted of Validation: tensor([ 23, 166, 144, 120, 144, 166, 166, 144,  70, 144, 132, 144, 132, 132,\n",
      "        132, 138], device='cuda:2') torch.Size([16])\n",
      "08/29/2023, 12:56:07# labels of 0: tensor([ 23,  37,   9, 120, 109,  90, 103,  48,  70,   2, 132, 150,  21, 161,\n",
      "          6, 138], device='cuda:2') torch.Size([16])\n",
      "08/29/2023, 12:56:07# predicted of 0: tensor([ 23, 166, 144, 120, 144, 166, 166, 144,  70, 144, 132, 144, 132, 132,\n",
      "        132, 138], device='cuda:2') torch.Size([16])\n",
      "08/29/2023, 12:57:18# labels of Validation: tensor([  8, 158,  30, 148, 106,  40, 111, 108,  52, 156, 110, 144, 147, 136,\n",
      "         54,  78], device='cuda:2') torch.Size([16])\n",
      "08/29/2023, 12:57:18# predicted of Validation: tensor([166, 144, 144, 166, 106,  40, 144, 132,  52, 156, 166, 144, 147, 136,\n",
      "        144,  67], device='cuda:2') torch.Size([16])\n",
      "08/29/2023, 12:57:20# Validation Loss: 2.7841 | Validation Accuracy: 0.3724\n",
      "\n",
      "08/29/2023, 12:57:20# Find a better model!!\n"
     ]
    },
    {
     "data": {
      "application/vnd.jupyter.widget-view+json": {
       "model_id": "17d38fa8310e4b4eab739f329107939d",
       "version_major": 2,
       "version_minor": 0
      },
      "text/plain": [
       "Training:   0%|          | 0/8250 [00:00<?, ?it/s]"
      ]
     },
     "metadata": {},
     "output_type": "display_data"
    },
    {
     "name": "stdout",
     "output_type": "stream",
     "text": [
      "08/29/2023, 13:03:59# labels of 5000: tensor([161, 166, 162,  43,   5,  18,  30,  72, 104,   9, 130,  80,  37,  82,\n",
      "         86,   0], device='cuda:2') torch.Size([16])\n",
      "08/29/2023, 13:03:59# predicted of 5000: tensor([161,   6,  76, 137,   5,  76, 137, 117,  76, 137, 130,  80, 155,  82,\n",
      "         76,   0], device='cuda:2') torch.Size([16])\n",
      "08/29/2023, 13:08:22# total batches: 8250\n",
      "08/29/2023, 13:08:22# Epoch 16 | Train Loss: 2.8160 | Train Accuracy: 0.3710\n"
     ]
    },
    {
     "data": {
      "application/vnd.jupyter.widget-view+json": {
       "model_id": "a6e57327a904463ba32675e8423e6ac1",
       "version_major": 2,
       "version_minor": 0
      },
      "text/plain": [
       "Validation:   0%|          | 0/1032 [00:00<?, ?it/s]"
      ]
     },
     "metadata": {},
     "output_type": "display_data"
    },
    {
     "name": "stdout",
     "output_type": "stream",
     "text": [
      "08/29/2023, 13:08:22# labels of Validation: tensor([134,  44, 138, 111, 140,  50, 119, 146, 114, 165, 144, 151, 105,  48,\n",
      "         27,  73], device='cuda:2') torch.Size([16])\n",
      "08/29/2023, 13:08:22# predicted of Validation: tensor([134,  10, 138,  10, 140,  50,  10, 146,   6, 165,  10,  10, 105,  10,\n",
      "         27,  73], device='cuda:2') torch.Size([16])\n",
      "08/29/2023, 13:08:22# labels of 0: tensor([134,  44, 138, 111, 140,  50, 119, 146, 114, 165, 144, 151, 105,  48,\n",
      "         27,  73], device='cuda:2') torch.Size([16])\n",
      "08/29/2023, 13:08:22# predicted of 0: tensor([134,  10, 138,  10, 140,  50,  10, 146,   6, 165,  10,  10, 105,  10,\n",
      "         27,  73], device='cuda:2') torch.Size([16])\n",
      "08/29/2023, 13:09:34# labels of Validation: tensor([114,  82,  79, 164,  86, 114, 109, 111,  28,  36, 117, 112,  61,  99,\n",
      "         86, 102], device='cuda:2') torch.Size([16])\n",
      "08/29/2023, 13:09:34# predicted of Validation: tensor([  6,  82,  39,  10,  10,   6,  10,  10, 132,  10, 117,  10,  61,  99,\n",
      "         10,  10], device='cuda:2') torch.Size([16])\n",
      "08/29/2023, 13:09:37# Validation Loss: 2.7772 | Validation Accuracy: 0.3728\n",
      "\n",
      "08/29/2023, 13:09:37# Find a better model!!\n"
     ]
    },
    {
     "data": {
      "application/vnd.jupyter.widget-view+json": {
       "model_id": "9e3932b151584051b73fe0bb645bc3f3",
       "version_major": 2,
       "version_minor": 0
      },
      "text/plain": [
       "Training:   0%|          | 0/8250 [00:00<?, ?it/s]"
      ]
     },
     "metadata": {},
     "output_type": "display_data"
    },
    {
     "name": "stdout",
     "output_type": "stream",
     "text": [
      "08/29/2023, 13:16:24# labels of 5000: tensor([  9, 102,  20,  30, 151, 125,  32,  87,  24,  69, 154, 154, 131,  87,\n",
      "         13,  85], device='cuda:2') torch.Size([16])\n",
      "08/29/2023, 13:16:24# predicted of 5000: tensor([111, 157,   8,  83,   8,   8,  32,   8,  48,  69, 154, 154, 161, 124,\n",
      "         13,  85], device='cuda:2') torch.Size([16])\n",
      "08/29/2023, 13:20:47# total batches: 8250\n",
      "08/29/2023, 13:20:47# Epoch 17 | Train Loss: 2.8076 | Train Accuracy: 0.3724\n"
     ]
    },
    {
     "data": {
      "application/vnd.jupyter.widget-view+json": {
       "model_id": "438380cca3654beea4dceeee4364f2fc",
       "version_major": 2,
       "version_minor": 0
      },
      "text/plain": [
       "Validation:   0%|          | 0/1032 [00:00<?, ?it/s]"
      ]
     },
     "metadata": {},
     "output_type": "display_data"
    },
    {
     "name": "stdout",
     "output_type": "stream",
     "text": [
      "08/29/2023, 13:20:47# labels of Validation: tensor([ 99,  99, 160, 153,  81, 125, 126, 114, 121,  62,  19, 121, 155, 148,\n",
      "          7, 153], device='cuda:2') torch.Size([16])\n",
      "08/29/2023, 13:20:47# predicted of Validation: tensor([ 99,  99,  91,  86,  86,  86, 126,  91,  86,  62,  86,  86, 132,  91,\n",
      "          7,  86], device='cuda:2') torch.Size([16])\n",
      "08/29/2023, 13:20:47# labels of 0: tensor([ 99,  99, 160, 153,  81, 125, 126, 114, 121,  62,  19, 121, 155, 148,\n",
      "          7, 153], device='cuda:2') torch.Size([16])\n",
      "08/29/2023, 13:20:47# predicted of 0: tensor([ 99,  99,  91,  86,  86,  86, 126,  91,  86,  62,  86,  86, 132,  91,\n",
      "          7,  86], device='cuda:2') torch.Size([16])\n",
      "08/29/2023, 13:22:01# labels of Validation: tensor([ 52, 131,  72,  67, 145, 157, 124,  32, 100, 160,  52, 143, 112, 158,\n",
      "        145,  78], device='cuda:2') torch.Size([16])\n",
      "08/29/2023, 13:22:01# predicted of Validation: tensor([ 52, 132,  94,  67, 145,  86,  86,  32,  91,  91,  52,  86,  86,  86,\n",
      "        145,  67], device='cuda:2') torch.Size([16])\n",
      "08/29/2023, 13:22:04# Validation Loss: 2.7742 | Validation Accuracy: 0.3720\n",
      "\n",
      "08/29/2023, 13:22:04# Find a better model!!\n"
     ]
    },
    {
     "data": {
      "application/vnd.jupyter.widget-view+json": {
       "model_id": "45f5b9bbaa034eb8b88aed7aa9a48f81",
       "version_major": 2,
       "version_minor": 0
      },
      "text/plain": [
       "Training:   0%|          | 0/8250 [00:00<?, ?it/s]"
      ]
     },
     "metadata": {},
     "output_type": "display_data"
    },
    {
     "name": "stdout",
     "output_type": "stream",
     "text": [
      "08/29/2023, 13:28:43# labels of 5000: tensor([145,   5,   0,  84,  76,  66, 110,  96, 146,   3, 103,  73, 108, 137,\n",
      "        133,  19], device='cuda:2') torch.Size([16])\n",
      "08/29/2023, 13:28:43# predicted of 5000: tensor([145,   5,   0,  84, 151,  51,  64,  96, 146,   3,  64,  73, 161, 151,\n",
      "        100, 151], device='cuda:2') torch.Size([16])\n",
      "08/29/2023, 13:32:08# total batches: 8250\n",
      "08/29/2023, 13:32:08# Epoch 18 | Train Loss: 2.8024 | Train Accuracy: 0.3731\n"
     ]
    },
    {
     "data": {
      "application/vnd.jupyter.widget-view+json": {
       "model_id": "845aaada05eb497e9e7e427866c4de70",
       "version_major": 2,
       "version_minor": 0
      },
      "text/plain": [
       "Validation:   0%|          | 0/1032 [00:00<?, ?it/s]"
      ]
     },
     "metadata": {},
     "output_type": "display_data"
    },
    {
     "name": "stdout",
     "output_type": "stream",
     "text": [
      "08/29/2023, 13:32:09# labels of Validation: tensor([129,   7,   1, 113, 109,  67, 132,  38,  20,  94, 119, 120,  60,  37,\n",
      "          4,  72], device='cuda:2') torch.Size([16])\n",
      "08/29/2023, 13:32:09# predicted of Validation: tensor([100,   7,   2, 100,   2,  67, 132,   2,   2,  94,   2, 120,   2, 100,\n",
      "          2,  72], device='cuda:2') torch.Size([16])\n",
      "08/29/2023, 13:32:09# labels of 0: tensor([129,   7,   1, 113, 109,  67, 132,  38,  20,  94, 119, 120,  60,  37,\n",
      "          4,  72], device='cuda:2') torch.Size([16])\n",
      "08/29/2023, 13:32:09# predicted of 0: tensor([100,   7,   2, 100,   2,  67, 132,   2,   2,  94,   2, 120,   2, 100,\n",
      "          2,  72], device='cuda:2') torch.Size([16])\n",
      "08/29/2023, 13:33:00# labels of Validation: tensor([ 50,  71, 166,  61,  12,  19, 143,  95,  23,  89, 109,  92, 158, 138,\n",
      "        165,  47], device='cuda:2') torch.Size([16])\n",
      "08/29/2023, 13:33:00# predicted of Validation: tensor([ 50,   2,   6,  61,   2,   2,   2,  95,  23,  89,   2,   2,   2, 138,\n",
      "        165,   2], device='cuda:2') torch.Size([16])\n",
      "08/29/2023, 13:33:01# Validation Loss: 2.7683 | Validation Accuracy: 0.3797\n",
      "\n",
      "08/29/2023, 13:33:01# Find a better model!!\n"
     ]
    },
    {
     "data": {
      "application/vnd.jupyter.widget-view+json": {
       "model_id": "268013bb9f2449ba819b8b20a5b44b38",
       "version_major": 2,
       "version_minor": 0
      },
      "text/plain": [
       "Training:   0%|          | 0/8250 [00:00<?, ?it/s]"
      ]
     },
     "metadata": {},
     "output_type": "display_data"
    },
    {
     "name": "stdout",
     "output_type": "stream",
     "text": [
      "08/29/2023, 13:38:36# labels of 5000: tensor([ 91,   3,   7,   1, 122,  74,   3, 116, 109,  79, 143,  78, 115, 125,\n",
      "          9, 100], device='cuda:2') torch.Size([16])\n",
      "08/29/2023, 13:38:36# predicted of 5000: tensor([ 28,   3,   7,  47, 122,  47,   3, 166,  47,  79,  47,  78, 115,  47,\n",
      "         49,  28], device='cuda:2') torch.Size([16])\n",
      "08/29/2023, 13:42:33# total batches: 8250\n",
      "08/29/2023, 13:42:33# Epoch 19 | Train Loss: 2.7978 | Train Accuracy: 0.3738\n"
     ]
    },
    {
     "data": {
      "application/vnd.jupyter.widget-view+json": {
       "model_id": "1871bd9f51cc4442a986c688fb93173f",
       "version_major": 2,
       "version_minor": 0
      },
      "text/plain": [
       "Validation:   0%|          | 0/1032 [00:00<?, ?it/s]"
      ]
     },
     "metadata": {},
     "output_type": "display_data"
    },
    {
     "name": "stdout",
     "output_type": "stream",
     "text": [
      "08/29/2023, 13:42:33# labels of Validation: tensor([ 51,  45,  42,  11,  58, 122, 101,  69,  15,  15,  15,  24, 106, 156,\n",
      "         82, 124], device='cuda:2') torch.Size([16])\n",
      "08/29/2023, 13:42:33# predicted of Validation: tensor([132,  45, 112, 112, 112, 122,  28,  69,  15,  15,  15, 112, 106, 156,\n",
      "         82, 112], device='cuda:2') torch.Size([16])\n",
      "08/29/2023, 13:42:33# labels of 0: tensor([ 51,  45,  42,  11,  58, 122, 101,  69,  15,  15,  15,  24, 106, 156,\n",
      "         82, 124], device='cuda:2') torch.Size([16])\n",
      "08/29/2023, 13:42:33# predicted of 0: tensor([132,  45, 112, 112, 112, 122,  28,  69,  15,  15,  15, 112, 106, 156,\n",
      "         82, 112], device='cuda:2') torch.Size([16])\n"
     ]
    }
   ],
   "source": [
    "import csv\n",
    "import pandas as pd\n",
    "from sklearn.metrics import classification_report\n",
    "from torch.optim import AdamW, lr_scheduler\n",
    "\n",
    "seed = 8787\n",
    "same_seeds(seed)\n",
    "\n",
    "model = GAT(in_dim=100, hidden_dim=16, out_dim=168, num_heads=8)\n",
    "# in_dim means the dimension of the node_feat(50 dim, since the 50-dim embedding)\n",
    "# out_dim means the # of the categories -> 168 for out tasks\n",
    "model.load_state_dict(torch.load('model1_initial/initial_weight.pth'))\n",
    "best_model_path = \"../checkpoint_GAT/best_model_GAT_transE_100.pt\"\n",
    "\n",
    "model = model.to(device)\n",
    "\n",
    "# optimizer = torch.optim.AdamW(model.parameters(), lr=1e-5)\n",
    "optimizer = AdamW(model.parameters(), lr=5e-4)\n",
    "# scheduler = get_linear_schedule_with_warmup(optimizer, num_warmup_steps=18, num_training_steps=total_steps)\n",
    "\n",
    "# T_max control the period of the lr changing -> set 1/10 first\n",
    "scheduler = lr_scheduler.CosineAnnealingLR(optimizer, T_max=36, eta_min=0, last_epoch=- 1, verbose=False)\n",
    "\n",
    "\n",
    "criterion = nn.CrossEntropyLoss()\n",
    "total_steps = 30\n",
    "\n",
    "# save the best model\n",
    "best_val_loss = float('inf')\n",
    "patience = 10  # Number of epochs with no improvement after which training will be stopped.\n",
    "waiting = 0  # The number of epochs with no improvement so far.\n",
    "\n",
    "\n",
    "# Training Part\n",
    "for epoch in tqdm(range(total_steps)):\n",
    "    # Train\n",
    "    model.train()\n",
    "    total_loss = 0.0\n",
    "    total_accuracy = 0.0\n",
    "    num_batches = 0\n",
    "    \n",
    "    for data in tqdm(dataloaders['train'], desc=\"Training\", position=0, leave=True):\n",
    "        num_batches += 1\n",
    "        loss, accuracy, _ = model_fn(data, model, criterion, device, num_batches, which_type='train')\n",
    "        \n",
    "        optimizer.zero_grad()\n",
    "        loss.backward()\n",
    "        optimizer.step()\n",
    "\n",
    "        total_loss += loss.item()\n",
    "        total_accuracy += accuracy.item()\n",
    "\n",
    "        \n",
    "#     scheduler.step()\n",
    "    add_log_msg(f\"total batches: {num_batches}\")\n",
    "\n",
    "    avg_loss = total_loss / num_batches\n",
    "    avg_accuracy = total_accuracy / num_batches\n",
    "\n",
    "    add_log_msg(f'Epoch {epoch} | Train Loss: {avg_loss:.4f} | Train Accuracy: {avg_accuracy:.4f}')\n",
    "\n",
    "    \n",
    "    # Validation Part\n",
    "    model.eval()\n",
    "    total_accuracy = 0.0\n",
    "    total_loss = 0.0\n",
    "    num_batches = 0\n",
    "\n",
    "\n",
    "    with torch.no_grad():\n",
    "        for data in tqdm(dataloaders['valid'], desc=\"Validation\", position=0, leave=True):\n",
    "            loss, accuracy, _ = model_fn(data, model, criterion, device, num_batches, which_type='validation')\n",
    "            total_accuracy += accuracy.item()\n",
    "            total_loss += loss.item()\n",
    "            num_batches += 1\n",
    "\n",
    "    avg_accuracy = total_accuracy / num_batches\n",
    "    current_loss = total_loss / num_batches\n",
    "    \n",
    "    add_log_msg(f'Validation Loss: {current_loss:.4f} | Validation Accuracy: {avg_accuracy:.4f}\\n')\n",
    "    \n",
    "            \n",
    "    if current_loss < best_val_loss:\n",
    "        best_val_loss = current_loss\n",
    "        waiting = 0\n",
    "        \n",
    "        if os.path.exists(best_model_path):\n",
    "            os.remove(best_model_path)\n",
    "            add_log_msg(\"Find a better model!!\")\n",
    "\n",
    "        torch.save(model.state_dict(), best_model_path)\n",
    "\n",
    "        \n",
    "#         print(best_model_path)\n",
    "\n",
    "    else:\n",
    "        waiting += 1\n",
    "        if waiting >= patience:\n",
    "            add_log_msg(\"============================== Early stopping ==================================\")\n",
    "            break"
   ]
  },
  {
   "cell_type": "markdown",
   "metadata": {},
   "source": [
    "### Testing Part"
   ]
  },
  {
   "cell_type": "code",
   "execution_count": null,
   "metadata": {},
   "outputs": [],
   "source": [
    "# load the pretrained model\n",
    "pretrained_model_path = '../checkpoint_GAT/best_model_GAT_transE_100.pt'\n",
    "model.load_state_dict(torch.load(pretrained_model_path))\n",
    "\n",
    "model.to(device)\n",
    "model.eval()\n",
    "\n",
    "total = 0\n",
    "correct = 0\n",
    "count = 0\n",
    "\n",
    "true_labels = []\n",
    "predicted_labels = []\n",
    "\n",
    "with torch.no_grad():\n",
    "    for data in tqdm(dataloaders['test'], desc=\"Testing\", position=0, leave=True):\n",
    "\n",
    "        loss, accuracy, predicted = model_fn(data, model, criterion, device, count, which_type='test')\n",
    "        labels = data[1].to(device)\n",
    "        \n",
    "        true_labels.extend(labels.cpu().numpy())\n",
    "        predicted_labels.extend(predicted.cpu().numpy())\n",
    "        \n",
    "        if count % 5000 == 0:\n",
    "            add_log_msg(f\"labels: {labels} {labels.shape}\")\n",
    "            add_log_msg(f\"predicted: {predicted} {predicted.shape}\")\n",
    "            \n",
    "        count += 1\n",
    "        \n",
    "        total += labels.size(0)\n",
    "        correct += (predicted == labels).sum().item()\n",
    "\n",
    "add_log_msg(f'Test Accuracy: {100 * correct / total} %\\n\\n\\n')\n",
    "\n",
    "\n",
    "# ======================================== handlig the output excel files ========================================\n",
    "mapping_file = './new_mapping.txt'\n",
    "label_mapping = {}\n",
    "with open(mapping_file, 'r') as f:\n",
    "    for line in f:\n",
    "        parts = line.strip().split(': ')\n",
    "        label_mapping[int(parts[1])] = parts[0]\n",
    "        \n",
    "# 将映射后的标签应用到true和predicted标签列表\n",
    "mapped_true_labels = [label_mapping[label] for label in true_labels]\n",
    "mapped_predicted_labels = [label_mapping[label] for label in predicted_labels]\n",
    "\n",
    "# 生成Scikit-learn报告信息的DataFrame\n",
    "report_data = classification_report(mapped_true_labels, mapped_predicted_labels, output_dict=True)\n",
    "report_df = pd.DataFrame(report_data).transpose()\n",
    "\n",
    "report_folder = 'classification_report'\n",
    "os.makedirs(report_folder, exist_ok=True)\n",
    "\n",
    "count = 0\n",
    "while True:\n",
    "    report_filename = f'classification_report-{count}.xlsx'\n",
    "    labels_filename = f'mapped_true_predicted_labels-{count}.xlsx'\n",
    "    \n",
    "    report_path = os.path.join(report_folder, report_filename)\n",
    "    labels_path = os.path.join(report_folder, labels_filename)\n",
    "    \n",
    "    if not os.path.exists(report_path) and not os.path.exists(labels_path):\n",
    "        break\n",
    "    count += 1\n",
    "\n",
    "    \n",
    "report_df.to_excel(report_path, index_label='Label')\n",
    "\n",
    "mapped_labels_df = pd.DataFrame({'true_label': mapped_true_labels, 'predicted_label': mapped_predicted_labels})\n",
    "mapped_labels_df.to_excel(labels_path, index=False)\n",
    "\n",
    "add_log_msg(f\"report path: {report_path}\")\n",
    "add_log_msg(f\"label path: {labels_path}\")\n",
    "\n",
    "mapped_report = classification_report(mapped_true_labels, mapped_predicted_labels)\n",
    "add_log_msg(f\"mapped_report:\\n{mapped_report}\")"
   ]
  },
  {
   "cell_type": "code",
   "execution_count": null,
   "metadata": {},
   "outputs": [],
   "source": []
  }
 ],
 "metadata": {
  "kernelspec": {
   "display_name": "Python 3",
   "language": "python",
   "name": "python3"
  },
  "language_info": {
   "codemirror_mode": {
    "name": "ipython",
    "version": 3
   },
   "file_extension": ".py",
   "mimetype": "text/x-python",
   "name": "python",
   "nbconvert_exporter": "python",
   "pygments_lexer": "ipython3",
   "version": "3.6.9"
  }
 },
 "nbformat": 4,
 "nbformat_minor": 2
}
