{
 "cells": [
  {
   "cell_type": "markdown",
   "metadata": {},
   "source": [
    "# Test of GAT\n",
    "- use DGL\n",
    "- large repeating time\n",
    "- training data overlap with the validation and testing\n",
    "- test the performance of remembering the dataset\n",
    "- use the 165 APs + 35 benign x 10000times"
   ]
  },
  {
   "cell_type": "code",
   "execution_count": 1,
   "metadata": {},
   "outputs": [],
   "source": [
    "import dgl\n",
    "import json\n",
    "import torch\n",
    "import torch as th\n",
    "# from tqdm import tqdm\n",
    "from tqdm.notebook import tqdm\n",
    "import torch.nn as nn\n",
    "from dgl.nn import GraphConv, GATConv\n",
    "import torch.nn.functional as F\n",
    "from torch.utils.data import Dataset, DataLoader\n",
    "from transformers import get_linear_schedule_with_warmup"
   ]
  },
  {
   "cell_type": "markdown",
   "metadata": {},
   "source": [
    "- check the GPU and assign the GPU by the best memory usage"
   ]
  },
  {
   "cell_type": "code",
   "execution_count": 2,
   "metadata": {},
   "outputs": [
    {
     "name": "stdout",
     "output_type": "stream",
     "text": [
      "cuda:2\n"
     ]
    }
   ],
   "source": [
    "import subprocess\n",
    "import torch\n",
    "\n",
    "def get_free_gpu():\n",
    "    try:\n",
    "        # Run nvidia-smi command to get GPU details\n",
    "        _output_to_list = lambda x: x.decode('ascii').split('\\n')[:-1]\n",
    "        command = \"nvidia-smi --query-gpu=memory.free --format=csv,nounits,noheader\"\n",
    "        memory_free_info = _output_to_list(subprocess.check_output(command.split())) \n",
    "        memory_free_values = [int(x) for i, x in enumerate(memory_free_info)]\n",
    "        \n",
    "        # Get the GPU with the maximum free memory\n",
    "        best_gpu_id = memory_free_values.index(max(memory_free_values))\n",
    "        return best_gpu_id\n",
    "    except:\n",
    "        # If any exception occurs, default to GPU 0 (this handles cases where nvidia-smi isn't installed)\n",
    "        return 0\n",
    "\n",
    "if torch.cuda.is_available():\n",
    "    # Get the best GPU ID based on free memory and set it\n",
    "    best_gpu_id = get_free_gpu()\n",
    "    device = torch.device(f\"cuda:{best_gpu_id}\")\n",
    "else:\n",
    "    device = torch.device(\"cpu\")\n",
    "    print(\"there's no available GPU\")\n",
    "\n",
    "print(device)\n"
   ]
  },
  {
   "cell_type": "markdown",
   "metadata": {},
   "source": [
    "## Fix the seed"
   ]
  },
  {
   "cell_type": "code",
   "execution_count": 3,
   "metadata": {},
   "outputs": [],
   "source": [
    "import numpy as np\n",
    "import torch\n",
    "import random\n",
    "\n",
    "#fix seed\n",
    "def same_seeds(seed = 8787):\n",
    "    torch.manual_seed(seed)\n",
    "    # random.seed(seed) \n",
    "    if torch.cuda.is_available():\n",
    "        torch.cuda.manual_seed(seed)\n",
    "        torch.cuda.manual_seed_all(seed)  \n",
    "    np.random.seed(seed)  \n",
    "    torch.backends.cudnn.benchmark = False\n",
    "    torch.backends.cudnn.deterministic = True"
   ]
  },
  {
   "cell_type": "markdown",
   "metadata": {},
   "source": [
    "## Data Loader"
   ]
  },
  {
   "cell_type": "code",
   "execution_count": 4,
   "metadata": {},
   "outputs": [],
   "source": [
    "class GraphDataset(Dataset):\n",
    "    def __init__(self, data_list, device):\n",
    "        self.data_list = data_list\n",
    "        self.device = device\n",
    "\n",
    "    def __len__(self):\n",
    "        return len(self.data_list)\n",
    "    \n",
    "    def __getitem__(self, idx):\n",
    "        data = self.data_list[idx]\n",
    "\n",
    "        g = dgl.graph((th.tensor(data[\"edge_index\"][0]), th.tensor(data[\"edge_index\"][1])), num_nodes=data[\"num_nodes\"]).to(self.device)\n",
    "\n",
    "        g.ndata['feat'] = th.tensor(data[\"node_feat\"]).to(self.device)\n",
    "        g.edata['feat'] = th.tensor(data[\"edge_attr\"]).to(self.device)  # Add edge features to graph\n",
    "\n",
    "        return g, th.tensor(data[\"label\"]).to(self.device)\n",
    "\n",
    "\n",
    "def collate(samples):\n",
    "    # The input `samples` is a list of pairs\n",
    "    #  (graph, label).\n",
    "    graphs, labels = map(list, zip(*samples))\n",
    "    batched_graph = dgl.batch(graphs)\n",
    "    return batched_graph, torch.tensor(labels)\n"
   ]
  },
  {
   "cell_type": "code",
   "execution_count": 5,
   "metadata": {},
   "outputs": [
    {
     "data": {
      "application/vnd.jupyter.widget-view+json": {
       "model_id": "a834ce1e69b544aba79519128db695cc",
       "version_major": 2,
       "version_minor": 0
      },
      "text/plain": [
       "  0%|          | 0/3 [00:00<?, ?it/s]"
      ]
     },
     "metadata": {},
     "output_type": "display_data"
    },
    {
     "name": "stdout",
     "output_type": "stream",
     "text": [
      "../../data_processing/dgl/data/test_graph_all/repeated_train.jsonl\n"
     ]
    },
    {
     "data": {
      "application/vnd.jupyter.widget-view+json": {
       "model_id": "81c1a01affca40fb96046834e15f3ba1",
       "version_major": 2,
       "version_minor": 0
      },
      "text/plain": [
       "0it [00:00, ?it/s]"
      ]
     },
     "metadata": {},
     "output_type": "display_data"
    },
    {
     "name": "stdout",
     "output_type": "stream",
     "text": [
      "../../data_processing/dgl/data/test_graph_all/repeated_valid.jsonl\n"
     ]
    },
    {
     "data": {
      "application/vnd.jupyter.widget-view+json": {
       "model_id": "82ea28f1f44c41beb911f81a90222547",
       "version_major": 2,
       "version_minor": 0
      },
      "text/plain": [
       "0it [00:00, ?it/s]"
      ]
     },
     "metadata": {},
     "output_type": "display_data"
    },
    {
     "name": "stdout",
     "output_type": "stream",
     "text": [
      "../../data_processing/dgl/data/test_graph_all/repeated_test.jsonl\n"
     ]
    },
    {
     "data": {
      "application/vnd.jupyter.widget-view+json": {
       "model_id": "519c571ef82c4711886385c2fd84836f",
       "version_major": 2,
       "version_minor": 0
      },
      "text/plain": [
       "0it [00:00, ?it/s]"
      ]
     },
     "metadata": {},
     "output_type": "display_data"
    },
    {
     "name": "stdout",
     "output_type": "stream",
     "text": [
      "Datasets loaded!\n"
     ]
    }
   ],
   "source": [
    "datasets = ['train', 'valid', 'test']\n",
    "dataset_data = {}\n",
    "\n",
    "for dataset_name in tqdm(datasets):\n",
    "    file_path = f\"../../data_processing/dgl/data/test_graph_all/repeated_{dataset_name}.jsonl\"\n",
    "    \n",
    "    print(file_path)\n",
    "    with open(file_path) as f:\n",
    "        data_list = [json.loads(line) for line in tqdm(f, position=0, leave=True)]\n",
    "    \n",
    "    dataset_data[dataset_name] = GraphDataset(data_list, device)\n",
    "\n",
    "print(\"Datasets loaded!\")"
   ]
  },
  {
   "cell_type": "markdown",
   "metadata": {},
   "source": [
    "- choose batch size"
   ]
  },
  {
   "cell_type": "code",
   "execution_count": 6,
   "metadata": {},
   "outputs": [],
   "source": [
    "def create_dataloaders(batch_size, shuffle=True):\n",
    "    dataloaders = {}\n",
    "    for dataset_name, dataset in dataset_data.items():\n",
    "        dataloaders[dataset_name] = DataLoader(dataset, batch_size=batch_size, shuffle=shuffle, collate_fn=collate)\n",
    "    return dataloaders\n",
    "\n",
    "dataloaders = create_dataloaders(4)\n",
    "# dataloaders = create_dataloaders(16)"
   ]
  },
  {
   "cell_type": "markdown",
   "metadata": {},
   "source": [
    "- Add to log file"
   ]
  },
  {
   "cell_type": "code",
   "execution_count": 7,
   "metadata": {},
   "outputs": [
    {
     "name": "stdout",
     "output_type": "stream",
     "text": [
      "../log_message/0821_03:30_GAT_repeat_all.log\n"
     ]
    }
   ],
   "source": [
    "import datetime\n",
    "\n",
    "now = datetime.datetime.now()\n",
    "\n",
    "formatted_time = now.strftime(\"%m%d_%H:%M\")\n",
    "\n",
    "log_file_path = f\"../log_message/{formatted_time}_GAT_repeat_all.log\"\n",
    "\n",
    "def add_log_msg(msg, log_file_path=log_file_path):\n",
    "    with open(log_file_path, 'a') as f:\n",
    "        f.write(f'{datetime.datetime.now().strftime(\"%m/%d/%Y, %H:%M:%S\")}# {msg}\\n')\n",
    "    print(f'{datetime.datetime.now().strftime(\"%m/%d/%Y, %H:%M:%S\")}# {msg}')\n",
    "\n",
    "print(log_file_path)"
   ]
  },
  {
   "cell_type": "markdown",
   "metadata": {},
   "source": [
    "### Model"
   ]
  },
  {
   "cell_type": "code",
   "execution_count": 8,
   "metadata": {},
   "outputs": [],
   "source": [
    "class GAT(nn.Module):\n",
    "    def __init__(self, in_dim, hidden_dim, out_dim, num_heads, dropout_prob=0.25):\n",
    "        super(GAT, self).__init__()\n",
    "        \n",
    "        # do not check the zero in_degree since we have all the complete graph\n",
    "        self.layer1 = GATConv(in_dim, hidden_dim, num_heads=num_heads, activation=F.relu, allow_zero_in_degree=True)\n",
    "        self.layer2 = GATConv(hidden_dim * num_heads, out_dim, num_heads=num_heads, allow_zero_in_degree=True)\n",
    "        \n",
    "        # Adding Batch Normalization after each GAT layer\n",
    "        self.batchnorm1 = nn.BatchNorm1d(hidden_dim * num_heads)\n",
    "        self.batchnorm2 = nn.BatchNorm1d(out_dim)\n",
    "        \n",
    "        # Adding Dropout for regularization\n",
    "        self.dropout = nn.Dropout(dropout_prob)\n",
    "\n",
    "    def forward(self, g, h):\n",
    "        # Apply GAT layers\n",
    "        h = self.layer1(g, h)\n",
    "        h = h.view(h.shape[0], -1)\n",
    "        h = F.relu(h)\n",
    "        h = self.dropout(h)\n",
    "        h = self.layer2(g, h).squeeze(1)\n",
    "        \n",
    "        # Store the output as a new node feature\n",
    "        g.ndata['h_out'] = h\n",
    "\n",
    "        # Use mean pooling to aggregate this new node feature\n",
    "        h_agg = dgl.mean_nodes(g, feat='h_out')\n",
    "        return h_agg\n",
    "\n",
    "    "
   ]
  },
  {
   "cell_type": "markdown",
   "metadata": {},
   "source": [
    "- Model Forward  "
   ]
  },
  {
   "cell_type": "code",
   "execution_count": 9,
   "metadata": {},
   "outputs": [],
   "source": [
    "def model_fn(data, model, criterion, device, count=1, type='train'):\n",
    "    \"\"\"Forward a batch through the model.\"\"\"\n",
    "    batched_g, labels = data\n",
    "    batched_g = batched_g.to(device)\n",
    "    \n",
    "    labels = labels.to(device)\n",
    "    logits = model(batched_g, batched_g.ndata['feat'].float()) # for GAT\n",
    "    logits = logits.mean(dim=1)\n",
    "    \n",
    "    loss = criterion(logits, labels)\n",
    "\n",
    "    # Get the class id with the highest probability\n",
    "    preds = logits.argmax(1)\n",
    "    \n",
    "    # Compute accuracy\n",
    "    accuracy = torch.mean((preds == labels).float())\n",
    "    \n",
    "    if type == 'validation':\n",
    "        add_log_msg(f\"labels of Validation: {labels} {labels.shape}\")\n",
    "        add_log_msg(f\"predicted of Validation: {preds} {preds.shape}\")\n",
    "        \n",
    "    elif type == 'test':\n",
    "        add_log_msg(f\"labels of Test: {labels} {labels.shape}\")\n",
    "        add_log_msg(f\"predicted of Test: {preds} {preds.shape}\")\n",
    "        \n",
    "    if count % 100000 == 0: \n",
    "        add_log_msg(f\"labels of {count}: {labels} {labels.shape}\")\n",
    "        add_log_msg(f\"predicted of {count}: {preds} {preds.shape}\")\n",
    "        \n",
    "    return loss, accuracy, preds"
   ]
  },
  {
   "cell_type": "markdown",
   "metadata": {},
   "source": [
    "### Training"
   ]
  },
  {
   "cell_type": "markdown",
   "metadata": {},
   "source": [
    "- Fix the seed and save the model.state_dict that contains the initial weight"
   ]
  },
  {
   "cell_type": "code",
   "execution_count": 10,
   "metadata": {},
   "outputs": [],
   "source": [
    "seed = 8787\n",
    "same_seeds(seed)\n",
    "\n",
    "model = GAT(in_dim=50, hidden_dim=16, out_dim=168, num_heads=8)\n",
    "torch.save(model.state_dict(), 'model1_initial/initial_weight.pth')"
   ]
  },
  {
   "cell_type": "code",
   "execution_count": 11,
   "metadata": {},
   "outputs": [
    {
     "data": {
      "text/plain": [
       "Parameter containing:\n",
       "tensor([[-0.1806, -0.0598,  0.0091,  ...,  0.0719,  0.2496,  0.0873],\n",
       "        [ 0.1694, -0.0015, -0.0139,  ...,  0.0147,  0.0892,  0.0146],\n",
       "        [ 0.0969, -0.0595, -0.0115,  ..., -0.0474,  0.0529, -0.0565],\n",
       "        ...,\n",
       "        [-0.0433, -0.2248,  0.3002,  ...,  0.0850,  0.1621,  0.0422],\n",
       "        [ 0.2097, -0.2492,  0.0612,  ..., -0.0041,  0.0365, -0.1483],\n",
       "        [ 0.0971, -0.2221,  0.1652,  ..., -0.1312, -0.2610,  0.0077]],\n",
       "       requires_grad=True)"
      ]
     },
     "execution_count": 11,
     "metadata": {},
     "output_type": "execute_result"
    }
   ],
   "source": [
    "model.layer1.fc.weight"
   ]
  },
  {
   "cell_type": "markdown",
   "metadata": {},
   "source": [
    "- Check if model really load the model_dict"
   ]
  },
  {
   "cell_type": "code",
   "execution_count": 12,
   "metadata": {},
   "outputs": [
    {
     "data": {
      "text/plain": [
       "Parameter containing:\n",
       "tensor([[-0.1806, -0.0598,  0.0091,  ...,  0.0719,  0.2496,  0.0873],\n",
       "        [ 0.1694, -0.0015, -0.0139,  ...,  0.0147,  0.0892,  0.0146],\n",
       "        [ 0.0969, -0.0595, -0.0115,  ..., -0.0474,  0.0529, -0.0565],\n",
       "        ...,\n",
       "        [-0.0433, -0.2248,  0.3002,  ...,  0.0850,  0.1621,  0.0422],\n",
       "        [ 0.2097, -0.2492,  0.0612,  ..., -0.0041,  0.0365, -0.1483],\n",
       "        [ 0.0971, -0.2221,  0.1652,  ..., -0.1312, -0.2610,  0.0077]],\n",
       "       requires_grad=True)"
      ]
     },
     "execution_count": 12,
     "metadata": {},
     "output_type": "execute_result"
    }
   ],
   "source": [
    "model = GAT(in_dim=50, hidden_dim=16, out_dim=168, num_heads=8)\n",
    "model.load_state_dict(torch.load('model1_initial/initial_weight.pth'))\n",
    "model.layer1.fc.weight"
   ]
  },
  {
   "cell_type": "markdown",
   "metadata": {},
   "source": [
    "- 165 APs + 35 benigns x 10000 times and batch size = 4"
   ]
  },
  {
   "cell_type": "code",
   "execution_count": null,
   "metadata": {},
   "outputs": [
    {
     "data": {
      "application/vnd.jupyter.widget-view+json": {
       "model_id": "cbfb6d3f9b1b437abef5a10814fc664e",
       "version_major": 2,
       "version_minor": 0
      },
      "text/plain": [
       "  0%|          | 0/180 [00:00<?, ?it/s]"
      ]
     },
     "metadata": {},
     "output_type": "display_data"
    },
    {
     "data": {
      "application/vnd.jupyter.widget-view+json": {
       "model_id": "960ce58957794885b02665d49c5b1aa6",
       "version_major": 2,
       "version_minor": 0
      },
      "text/plain": [
       "Training:   0%|          | 0/1000000 [00:00<?, ?it/s]"
      ]
     },
     "metadata": {},
     "output_type": "display_data"
    },
    {
     "name": "stdout",
     "output_type": "stream",
     "text": [
      "08/21/2023, 03:58:40# labels of 100000: tensor([108, 155,  40, 133], device='cuda:2') torch.Size([4])\n",
      "08/21/2023, 03:58:40# predicted of 100000: tensor([ 0, 11,  0, 59], device='cuda:2') torch.Size([4])\n",
      "08/21/2023, 04:26:16# labels of 200000: tensor([ 84, 109,   0,  86], device='cuda:2') torch.Size([4])\n",
      "08/21/2023, 04:26:16# predicted of 200000: tensor([ 0, 84,  0,  0], device='cuda:2') torch.Size([4])\n",
      "08/21/2023, 04:55:46# labels of 300000: tensor([ 71,   0,   0, 131], device='cuda:2') torch.Size([4])\n",
      "08/21/2023, 04:55:46# predicted of 300000: tensor([0, 0, 0, 0], device='cuda:2') torch.Size([4])\n",
      "08/21/2023, 05:25:12# labels of 400000: tensor([ 91, 100,  18, 132], device='cuda:2') torch.Size([4])\n",
      "08/21/2023, 05:25:12# predicted of 400000: tensor([146,   0,  33,   0], device='cuda:2') torch.Size([4])\n",
      "08/21/2023, 05:54:42# labels of 500000: tensor([158, 140,  41,   0], device='cuda:2') torch.Size([4])\n",
      "08/21/2023, 05:54:42# predicted of 500000: tensor([ 0, 33,  0,  0], device='cuda:2') torch.Size([4])\n",
      "08/21/2023, 06:24:39# labels of 600000: tensor([ 39,  82, 111,   0], device='cuda:2') torch.Size([4])\n",
      "08/21/2023, 06:24:39# predicted of 600000: tensor([0, 0, 0, 0], device='cuda:2') torch.Size([4])\n",
      "08/21/2023, 06:55:05# labels of 700000: tensor([107,  87, 139,   4], device='cuda:2') torch.Size([4])\n",
      "08/21/2023, 06:55:05# predicted of 700000: tensor([  0,   0,   0, 133], device='cuda:2') torch.Size([4])\n",
      "08/21/2023, 07:25:22# labels of 800000: tensor([166,   4, 137, 112], device='cuda:2') torch.Size([4])\n",
      "08/21/2023, 07:25:22# predicted of 800000: tensor([  0, 150,   3, 131], device='cuda:2') torch.Size([4])\n",
      "08/21/2023, 07:53:06# labels of 900000: tensor([105,  49,  87,   0], device='cuda:2') torch.Size([4])\n",
      "08/21/2023, 07:53:06# predicted of 900000: tensor([0, 0, 0, 0], device='cuda:2') torch.Size([4])\n",
      "08/21/2023, 08:19:43# labels of 1000000: tensor([ 68,   0, 148, 129], device='cuda:2') torch.Size([4])\n",
      "08/21/2023, 08:19:43# predicted of 1000000: tensor([63,  0,  0,  0], device='cuda:2') torch.Size([4])\n",
      "08/21/2023, 08:19:43# total count: 1000000\n",
      "08/21/2023, 08:19:43# Epoch 0 | Train Loss: 5.1240 | Train Accuracy: 0.1792\n",
      "08/21/2023, 08:19:43# labels of False: tensor([116, 157, 100, 151], device='cuda:2') torch.Size([4])\n",
      "08/21/2023, 08:19:43# predicted of False: tensor([0, 0, 0, 0], device='cuda:2') torch.Size([4])\n",
      "08/21/2023, 08:19:43# labels of False: tensor([29, 65, 80,  1], device='cuda:2') torch.Size([4])\n",
      "08/21/2023, 08:19:43# predicted of False: tensor([ 59,   0,   0, 146], device='cuda:2') torch.Size([4])\n",
      "08/21/2023, 08:19:43# labels of False: tensor([ 32,  21, 134, 162], device='cuda:2') torch.Size([4])\n",
      "08/21/2023, 08:19:43# predicted of False: tensor([0, 0, 0, 0], device='cuda:2') torch.Size([4])\n",
      "08/21/2023, 08:19:43# labels of False: tensor([ 79,  59,   0, 145], device='cuda:2') torch.Size([4])\n",
      "08/21/2023, 08:19:43# predicted of False: tensor([  0,   0,   0, 145], device='cuda:2') torch.Size([4])\n",
      "08/21/2023, 08:19:43# labels of False: tensor([ 51,  64, 127,   0], device='cuda:2') torch.Size([4])\n",
      "08/21/2023, 08:19:43# predicted of False: tensor([ 33,   0, 140,   0], device='cuda:2') torch.Size([4])\n",
      "08/21/2023, 08:19:43# labels of False: tensor([  0, 105,  48, 149], device='cuda:2') torch.Size([4])\n",
      "08/21/2023, 08:19:43# predicted of False: tensor([0, 0, 0, 0], device='cuda:2') torch.Size([4])\n",
      "08/21/2023, 08:19:43# labels of False: tensor([  0,   6, 131, 146], device='cuda:2') torch.Size([4])\n",
      "08/21/2023, 08:19:43# predicted of False: tensor([ 0,  0,  0, 85], device='cuda:2') torch.Size([4])\n",
      "08/21/2023, 08:19:43# labels of False: tensor([123, 139, 108,  72], device='cuda:2') torch.Size([4])\n",
      "08/21/2023, 08:19:43# predicted of False: tensor([84,  0,  0,  0], device='cuda:2') torch.Size([4])\n",
      "08/21/2023, 08:19:43# labels of False: tensor([121,  66, 112, 154], device='cuda:2') torch.Size([4])\n",
      "08/21/2023, 08:19:43# predicted of False: tensor([158, 158, 128,   0], device='cuda:2') torch.Size([4])\n",
      "08/21/2023, 08:19:43# labels of False: tensor([  0,  39,  14, 135], device='cuda:2') torch.Size([4])\n",
      "08/21/2023, 08:19:43# predicted of False: tensor([  0,   0,   0, 150], device='cuda:2') torch.Size([4])\n",
      "08/21/2023, 08:19:43# labels of False: tensor([  0, 148,  62,   0], device='cuda:2') torch.Size([4])\n",
      "08/21/2023, 08:19:43# predicted of False: tensor([0, 0, 0, 0], device='cuda:2') torch.Size([4])\n",
      "08/21/2023, 08:19:43# labels of False: tensor([ 26, 161,  40,  10], device='cuda:2') torch.Size([4])\n",
      "08/21/2023, 08:19:43# predicted of False: tensor([  0, 150,   0,   0], device='cuda:2') torch.Size([4])\n",
      "08/21/2023, 08:19:43# labels of False: tensor([85, 55, 89, 81], device='cuda:2') torch.Size([4])\n",
      "08/21/2023, 08:19:43# predicted of False: tensor([0, 0, 0, 0], device='cuda:2') torch.Size([4])\n",
      "08/21/2023, 08:19:43# labels of False: tensor([93, 75,  0, 86], device='cuda:2') torch.Size([4])\n",
      "08/21/2023, 08:19:43# predicted of False: tensor([  0, 140,   0,   0], device='cuda:2') torch.Size([4])\n",
      "08/21/2023, 08:19:43# labels of False: tensor([ 0,  9, 46,  3], device='cuda:2') torch.Size([4])\n",
      "08/21/2023, 08:19:43# predicted of False: tensor([  0, 149,  11,   0], device='cuda:2') torch.Size([4])\n",
      "08/21/2023, 08:19:43# labels of False: tensor([130, 128, 167,   0], device='cuda:2') torch.Size([4])\n",
      "08/21/2023, 08:19:43# predicted of False: tensor([ 59, 137,   0,   0], device='cuda:2') torch.Size([4])\n",
      "08/21/2023, 08:19:43# labels of False: tensor([104,   0, 143,  99], device='cuda:2') torch.Size([4])\n",
      "08/21/2023, 08:19:43# predicted of False: tensor([0, 0, 0, 0], device='cuda:2') torch.Size([4])\n",
      "08/21/2023, 08:19:43# labels of False: tensor([ 71, 164,  27,   0], device='cuda:2') torch.Size([4])\n",
      "08/21/2023, 08:19:43# predicted of False: tensor([0, 0, 0, 0], device='cuda:2') torch.Size([4])\n",
      "08/21/2023, 08:19:43# labels of False: tensor([111,  91,  87,  16], device='cuda:2') torch.Size([4])\n",
      "08/21/2023, 08:19:43# predicted of False: tensor([  0, 145,   0,   0], device='cuda:2') torch.Size([4])\n",
      "08/21/2023, 08:19:43# labels of False: tensor([ 15, 102, 115, 114], device='cuda:2') torch.Size([4])\n",
      "08/21/2023, 08:19:43# predicted of False: tensor([  0,   0, 165,   9], device='cuda:2') torch.Size([4])\n",
      "08/21/2023, 08:19:43# labels of False: tensor([160,  68,  53, 133], device='cuda:2') torch.Size([4])\n",
      "08/21/2023, 08:19:43# predicted of False: tensor([ 0, 63,  0, 23], device='cuda:2') torch.Size([4])\n",
      "08/21/2023, 08:19:43# labels of False: tensor([153,  25,   7,  74], device='cuda:2') torch.Size([4])\n",
      "08/21/2023, 08:19:43# predicted of False: tensor([  0,  85,  51, 136], device='cuda:2') torch.Size([4])\n",
      "08/21/2023, 08:19:43# labels of False: tensor([ 42,  17, 150,  23], device='cuda:2') torch.Size([4])\n",
      "08/21/2023, 08:19:43# predicted of False: tensor([  0, 150,   0,   0], device='cuda:2') torch.Size([4])\n",
      "08/21/2023, 08:19:43# labels of False: tensor([138,  69,  94, 137], device='cuda:2') torch.Size([4])\n",
      "08/21/2023, 08:19:43# predicted of False: tensor([  0, 158,   0,   3], device='cuda:2') torch.Size([4])\n",
      "08/21/2023, 08:19:43# labels of False: tensor([119,  78, 140,   0], device='cuda:2') torch.Size([4])\n",
      "08/21/2023, 08:19:43# predicted of False: tensor([137,   0,  33,   0], device='cuda:2') torch.Size([4])\n",
      "08/21/2023, 08:19:43# labels of False: tensor([117,   0, 124,   0], device='cuda:2') torch.Size([4])\n",
      "08/21/2023, 08:19:43# predicted of False: tensor([150,   0,   0,   0], device='cuda:2') torch.Size([4])\n",
      "08/21/2023, 08:19:43# labels of False: tensor([163,   2,   0, 166], device='cuda:2') torch.Size([4])\n",
      "08/21/2023, 08:19:43# predicted of False: tensor([ 0, 11,  0,  0], device='cuda:2') torch.Size([4])\n",
      "08/21/2023, 08:19:43# labels of False: tensor([  0, 165,  43, 109], device='cuda:2') torch.Size([4])\n",
      "08/21/2023, 08:19:43# predicted of False: tensor([  0, 157,   0,  23], device='cuda:2') torch.Size([4])\n",
      "08/21/2023, 08:19:43# labels of False: tensor([ 5, 38, 96, 70], device='cuda:2') torch.Size([4])\n",
      "08/21/2023, 08:19:43# predicted of False: tensor([ 0, 50,  0,  0], device='cuda:2') torch.Size([4])\n",
      "08/21/2023, 08:19:43# labels of False: tensor([ 50,  41, 101,  97], device='cuda:2') torch.Size([4])\n",
      "08/21/2023, 08:19:43# predicted of False: tensor([0, 0, 0, 0], device='cuda:2') torch.Size([4])\n",
      "08/21/2023, 08:19:43# labels of False: tensor([159,  60,  45, 136], device='cuda:2') torch.Size([4])\n",
      "08/21/2023, 08:19:43# predicted of False: tensor([ 84, 150,  85,   0], device='cuda:2') torch.Size([4])\n",
      "08/21/2023, 08:19:43# labels of False: tensor([ 34, 152, 113,   0], device='cuda:2') torch.Size([4])\n",
      "08/21/2023, 08:19:43# predicted of False: tensor([ 0,  0, 95,  0], device='cuda:2') torch.Size([4])\n",
      "08/21/2023, 08:19:43# labels of False: tensor([ 33,  98,  52, 118], device='cuda:2') torch.Size([4])\n",
      "08/21/2023, 08:19:43# predicted of False: tensor([ 0,  0,  0, 23], device='cuda:2') torch.Size([4])\n",
      "08/21/2023, 08:19:43# labels of False: tensor([  0, 156,  35, 147], device='cuda:2') torch.Size([4])\n",
      "08/21/2023, 08:19:43# predicted of False: tensor([  0,   0,   0, 150], device='cuda:2') torch.Size([4])\n",
      "08/21/2023, 08:19:43# labels of False: tensor([141, 107,  61,  57], device='cuda:2') torch.Size([4])\n",
      "08/21/2023, 08:19:43# predicted of False: tensor([0, 0, 0, 0], device='cuda:2') torch.Size([4])\n",
      "08/21/2023, 08:19:43# labels of False: tensor([ 49, 110,  11,  20], device='cuda:2') torch.Size([4])\n",
      "08/21/2023, 08:19:43# predicted of False: tensor([  0, 137,   0, 128], device='cuda:2') torch.Size([4])\n",
      "08/21/2023, 08:19:43# labels of False: tensor([ 36,  18,  84, 125], device='cuda:2') torch.Size([4])\n",
      "08/21/2023, 08:19:43# predicted of False: tensor([11, 93,  0, 85], device='cuda:2') torch.Size([4])\n",
      "08/21/2023, 08:19:43# labels of False: tensor([ 77,   0,  63, 132], device='cuda:2') torch.Size([4])\n",
      "08/21/2023, 08:19:43# predicted of False: tensor([51,  0,  0,  0], device='cuda:2') torch.Size([4])\n",
      "08/21/2023, 08:19:43# labels of False: tensor([19,  0, 24, 73], device='cuda:2') torch.Size([4])\n",
      "08/21/2023, 08:19:43# predicted of False: tensor([84,  0,  0, 84], device='cuda:2') torch.Size([4])\n",
      "08/21/2023, 08:19:43# labels of False: tensor([106,  44, 120, 126], device='cuda:2') torch.Size([4])\n",
      "08/21/2023, 08:19:43# predicted of False: tensor([  0,   0, 146, 129], device='cuda:2') torch.Size([4])\n",
      "08/21/2023, 08:19:43# labels of False: tensor([  0,  30,   0, 122], device='cuda:2') torch.Size([4])\n",
      "08/21/2023, 08:19:43# predicted of False: tensor([  0,   0,   0, 150], device='cuda:2') torch.Size([4])\n",
      "08/21/2023, 08:19:43# labels of False: tensor([82, 83,  0, 95], device='cuda:2') torch.Size([4])\n",
      "08/21/2023, 08:19:43# predicted of False: tensor([0, 0, 0, 0], device='cuda:2') torch.Size([4])\n",
      "08/21/2023, 08:19:43# labels of False: tensor([ 0, 28, 31, 88], device='cuda:2') torch.Size([4])\n",
      "08/21/2023, 08:19:43# predicted of False: tensor([  0, 158,   0,   0], device='cuda:2') torch.Size([4])\n",
      "08/21/2023, 08:19:43# labels of False: tensor([158,  47,   0, 129], device='cuda:2') torch.Size([4])\n",
      "08/21/2023, 08:19:43# predicted of False: tensor([  0, 140,   0,   0], device='cuda:2') torch.Size([4])\n",
      "08/21/2023, 08:19:43# labels of False: tensor([ 0,  4, 12,  0], device='cuda:2') torch.Size([4])\n",
      "08/21/2023, 08:19:43# predicted of False: tensor([  0, 150, 150,   0], device='cuda:2') torch.Size([4])\n",
      "08/21/2023, 08:19:43# labels of False: tensor([  0, 103,   0,   0], device='cuda:2') torch.Size([4])\n",
      "08/21/2023, 08:19:43# predicted of False: tensor([0, 0, 0, 0], device='cuda:2') torch.Size([4])\n",
      "08/21/2023, 08:19:43# labels of False: tensor([  0, 155,   0,  37], device='cuda:2') torch.Size([4])\n",
      "08/21/2023, 08:19:43# predicted of False: tensor([  0,  11,   0, 158], device='cuda:2') torch.Size([4])\n",
      "08/21/2023, 08:19:43# labels of False: tensor([22, 54,  0, 13], device='cuda:2') torch.Size([4])\n",
      "08/21/2023, 08:19:43# predicted of False: tensor([93,  0,  0,  0], device='cuda:2') torch.Size([4])\n",
      "08/21/2023, 08:19:43# labels of False: tensor([  8, 142,  67,  56], device='cuda:2') torch.Size([4])\n",
      "08/21/2023, 08:19:43# predicted of False: tensor([145,   0,  63, 164], device='cuda:2') torch.Size([4])\n",
      "08/21/2023, 08:19:43# labels of False: tensor([144,   0,  58,  90], device='cuda:2') torch.Size([4])\n",
      "08/21/2023, 08:19:43# predicted of False: tensor([0, 0, 0, 0], device='cuda:2') torch.Size([4])\n"
     ]
    },
    {
     "name": "stdout",
     "output_type": "stream",
     "text": [
      "08/21/2023, 08:19:43# Validation Loss: 5.1240 | Validation Accuracy: 0.1800\n",
      "\n"
     ]
    },
    {
     "data": {
      "application/vnd.jupyter.widget-view+json": {
       "model_id": "0490975903a54522ad1e51a5db63f611",
       "version_major": 2,
       "version_minor": 0
      },
      "text/plain": [
       "Training:   0%|          | 0/1000000 [00:00<?, ?it/s]"
      ]
     },
     "metadata": {},
     "output_type": "display_data"
    },
    {
     "name": "stdout",
     "output_type": "stream",
     "text": [
      "08/21/2023, 08:47:41# labels of 100000: tensor([  0,  58, 146,   0], device='cuda:2') torch.Size([4])\n",
      "08/21/2023, 08:47:41# predicted of 100000: tensor([ 0,  0, 47,  0], device='cuda:2') torch.Size([4])\n",
      "08/21/2023, 09:16:12# labels of 200000: tensor([  1, 144,  69,  18], device='cuda:2') torch.Size([4])\n",
      "08/21/2023, 09:16:12# predicted of 200000: tensor([146,   0,   0,  47], device='cuda:2') torch.Size([4])\n",
      "08/21/2023, 09:45:28# labels of 300000: tensor([ 54,   3,  73, 166], device='cuda:2') torch.Size([4])\n",
      "08/21/2023, 09:45:28# predicted of 300000: tensor([ 0,  0, 93,  0], device='cuda:2') torch.Size([4])\n",
      "08/21/2023, 10:12:16# labels of 400000: tensor([132, 142, 120, 124], device='cuda:2') torch.Size([4])\n",
      "08/21/2023, 10:12:16# predicted of 400000: tensor([0, 0, 0, 0], device='cuda:2') torch.Size([4])\n",
      "08/21/2023, 10:40:35# labels of 500000: tensor([19, 62, 52, 58], device='cuda:2') torch.Size([4])\n",
      "08/21/2023, 10:40:35# predicted of 500000: tensor([0, 0, 0, 0], device='cuda:2') torch.Size([4])\n",
      "08/21/2023, 11:08:01# labels of 600000: tensor([  0,  71, 138, 148], device='cuda:2') torch.Size([4])\n",
      "08/21/2023, 11:08:01# predicted of 600000: tensor([0, 0, 0, 0], device='cuda:2') torch.Size([4])\n",
      "08/21/2023, 11:36:46# labels of 700000: tensor([162, 167,  18,  46], device='cuda:2') torch.Size([4])\n",
      "08/21/2023, 11:36:46# predicted of 700000: tensor([0, 0, 0, 0], device='cuda:2') torch.Size([4])\n",
      "08/21/2023, 12:06:18# labels of 800000: tensor([113,   0,  38, 151], device='cuda:2') torch.Size([4])\n",
      "08/21/2023, 12:06:18# predicted of 800000: tensor([0, 0, 0, 0], device='cuda:2') torch.Size([4])\n",
      "08/21/2023, 12:34:55# labels of 900000: tensor([  0,   6, 141,  25], device='cuda:2') torch.Size([4])\n",
      "08/21/2023, 12:34:55# predicted of 900000: tensor([0, 0, 0, 0], device='cuda:2') torch.Size([4])\n",
      "08/21/2023, 13:03:51# labels of 1000000: tensor([ 82, 100,  33,   0], device='cuda:2') torch.Size([4])\n",
      "08/21/2023, 13:03:51# predicted of 1000000: tensor([0, 0, 0, 0], device='cuda:2') torch.Size([4])\n",
      "08/21/2023, 13:03:51# total count: 1000000\n",
      "08/21/2023, 13:03:51# Epoch 1 | Train Loss: 5.1230 | Train Accuracy: 0.1776\n",
      "08/21/2023, 13:03:51# labels of False: tensor([  5,  51,  66, 151], device='cuda:2') torch.Size([4])\n",
      "08/21/2023, 13:03:51# predicted of False: tensor([0, 0, 0, 0], device='cuda:2') torch.Size([4])\n",
      "08/21/2023, 13:03:51# labels of False: tensor([139, 112,   9,  52], device='cuda:2') torch.Size([4])\n",
      "08/21/2023, 13:03:51# predicted of False: tensor([0, 0, 0, 0], device='cuda:2') torch.Size([4])\n",
      "08/21/2023, 13:03:51# labels of False: tensor([129,  18,  29,   0], device='cuda:2') torch.Size([4])\n",
      "08/21/2023, 13:03:51# predicted of False: tensor([0, 0, 0, 0], device='cuda:2') torch.Size([4])\n",
      "08/21/2023, 13:03:51# labels of False: tensor([ 72,   0, 149,   0], device='cuda:2') torch.Size([4])\n",
      "08/21/2023, 13:03:51# predicted of False: tensor([0, 0, 0, 0], device='cuda:2') torch.Size([4])\n",
      "08/21/2023, 13:03:51# labels of False: tensor([103,  61,   0,  73], device='cuda:2') torch.Size([4])\n",
      "08/21/2023, 13:03:51# predicted of False: tensor([0, 0, 0, 0], device='cuda:2') torch.Size([4])\n",
      "08/21/2023, 13:03:51# labels of False: tensor([114,  23, 146,  53], device='cuda:2') torch.Size([4])\n",
      "08/21/2023, 13:03:51# predicted of False: tensor([0, 0, 0, 0], device='cuda:2') torch.Size([4])\n",
      "08/21/2023, 13:03:51# labels of False: tensor([ 67,   0, 157,   0], device='cuda:2') torch.Size([4])\n",
      "08/21/2023, 13:03:51# predicted of False: tensor([0, 0, 0, 0], device='cuda:2') torch.Size([4])\n",
      "08/21/2023, 13:03:51# labels of False: tensor([64,  0,  0, 81], device='cuda:2') torch.Size([4])\n",
      "08/21/2023, 13:03:51# predicted of False: tensor([0, 0, 0, 0], device='cuda:2') torch.Size([4])\n",
      "08/21/2023, 13:03:51# labels of False: tensor([ 0,  0, 95, 84], device='cuda:2') torch.Size([4])\n",
      "08/21/2023, 13:03:51# predicted of False: tensor([0, 0, 0, 0], device='cuda:2') torch.Size([4])\n",
      "08/21/2023, 13:03:51# labels of False: tensor([57, 40,  3, 71], device='cuda:2') torch.Size([4])\n",
      "08/21/2023, 13:03:51# predicted of False: tensor([0, 0, 0, 0], device='cuda:2') torch.Size([4])\n",
      "08/21/2023, 13:03:51# labels of False: tensor([109, 123,   0,  89], device='cuda:2') torch.Size([4])\n",
      "08/21/2023, 13:03:51# predicted of False: tensor([0, 0, 0, 0], device='cuda:2') torch.Size([4])\n",
      "08/21/2023, 13:03:51# labels of False: tensor([ 35, 128,   1, 136], device='cuda:2') torch.Size([4])\n",
      "08/21/2023, 13:03:51# predicted of False: tensor([0, 0, 0, 0], device='cuda:2') torch.Size([4])\n",
      "08/21/2023, 13:03:51# labels of False: tensor([153,   0, 135,   0], device='cuda:2') torch.Size([4])\n",
      "08/21/2023, 13:03:51# predicted of False: tensor([0, 0, 0, 0], device='cuda:2') torch.Size([4])\n",
      "08/21/2023, 13:03:51# labels of False: tensor([113,  36,   0, 148], device='cuda:2') torch.Size([4])\n",
      "08/21/2023, 13:03:51# predicted of False: tensor([0, 0, 0, 0], device='cuda:2') torch.Size([4])\n",
      "08/21/2023, 13:03:51# labels of False: tensor([99, 86,  0, 31], device='cuda:2') torch.Size([4])\n",
      "08/21/2023, 13:03:51# predicted of False: tensor([0, 0, 0, 0], device='cuda:2') torch.Size([4])\n",
      "08/21/2023, 13:03:51# labels of False: tensor([ 50, 159, 165,  78], device='cuda:2') torch.Size([4])\n",
      "08/21/2023, 13:03:51# predicted of False: tensor([0, 0, 0, 0], device='cuda:2') torch.Size([4])\n",
      "08/21/2023, 13:03:51# labels of False: tensor([ 77,  34,   0, 162], device='cuda:2') torch.Size([4])\n",
      "08/21/2023, 13:03:51# predicted of False: tensor([0, 0, 0, 0], device='cuda:2') torch.Size([4])\n",
      "08/21/2023, 13:03:51# labels of False: tensor([119,  11,  24,  74], device='cuda:2') torch.Size([4])\n",
      "08/21/2023, 13:03:51# predicted of False: tensor([0, 0, 0, 0], device='cuda:2') torch.Size([4])\n",
      "08/21/2023, 13:03:51# labels of False: tensor([101,   0,  17,   0], device='cuda:2') torch.Size([4])\n",
      "08/21/2023, 13:03:51# predicted of False: tensor([0, 0, 0, 0], device='cuda:2') torch.Size([4])\n",
      "08/21/2023, 13:03:51# labels of False: tensor([ 63, 154,  30,  80], device='cuda:2') torch.Size([4])\n",
      "08/21/2023, 13:03:51# predicted of False: tensor([0, 0, 0, 0], device='cuda:2') torch.Size([4])\n",
      "08/21/2023, 13:03:51# labels of False: tensor([  4,  10,  27, 104], device='cuda:2') torch.Size([4])\n",
      "08/21/2023, 13:03:51# predicted of False: tensor([0, 0, 0, 0], device='cuda:2') torch.Size([4])\n",
      "08/21/2023, 13:03:51# labels of False: tensor([108, 142,  69,  44], device='cuda:2') torch.Size([4])\n",
      "08/21/2023, 13:03:51# predicted of False: tensor([0, 0, 0, 0], device='cuda:2') torch.Size([4])\n",
      "08/21/2023, 13:03:51# labels of False: tensor([39, 37, 94,  0], device='cuda:2') torch.Size([4])\n",
      "08/21/2023, 13:03:51# predicted of False: tensor([0, 0, 0, 0], device='cuda:2') torch.Size([4])\n",
      "08/21/2023, 13:03:51# labels of False: tensor([164, 145,  75, 138], device='cuda:2') torch.Size([4])\n",
      "08/21/2023, 13:03:51# predicted of False: tensor([0, 0, 0, 0], device='cuda:2') torch.Size([4])\n",
      "08/21/2023, 13:03:51# labels of False: tensor([ 60,  55, 110,   8], device='cuda:2') torch.Size([4])\n",
      "08/21/2023, 13:03:51# predicted of False: tensor([0, 0, 0, 0], device='cuda:2') torch.Size([4])\n",
      "08/21/2023, 13:03:51# labels of False: tensor([143,  82,  32, 126], device='cuda:2') torch.Size([4])\n",
      "08/21/2023, 13:03:51# predicted of False: tensor([0, 0, 0, 0], device='cuda:2') torch.Size([4])\n",
      "08/21/2023, 13:03:51# labels of False: tensor([116, 107, 158,  13], device='cuda:2') torch.Size([4])\n",
      "08/21/2023, 13:03:51# predicted of False: tensor([0, 0, 0, 0], device='cuda:2') torch.Size([4])\n",
      "08/21/2023, 13:03:51# labels of False: tensor([  0,   0,  87, 152], device='cuda:2') torch.Size([4])\n",
      "08/21/2023, 13:03:51# predicted of False: tensor([0, 0, 0, 0], device='cuda:2') torch.Size([4])\n",
      "08/21/2023, 13:03:52# labels of False: tensor([ 62, 134, 117, 147], device='cuda:2') torch.Size([4])\n",
      "08/21/2023, 13:03:52# predicted of False: tensor([0, 0, 0, 0], device='cuda:2') torch.Size([4])\n",
      "08/21/2023, 13:03:52# labels of False: tensor([137,   0,  15, 121], device='cuda:2') torch.Size([4])\n",
      "08/21/2023, 13:03:52# predicted of False: tensor([0, 0, 0, 0], device='cuda:2') torch.Size([4])\n",
      "08/21/2023, 13:03:52# labels of False: tensor([ 46, 106,  22, 161], device='cuda:2') torch.Size([4])\n",
      "08/21/2023, 13:03:52# predicted of False: tensor([0, 0, 0, 0], device='cuda:2') torch.Size([4])\n",
      "08/21/2023, 13:03:52# labels of False: tensor([26, 68,  0, 45], device='cuda:2') torch.Size([4])\n",
      "08/21/2023, 13:03:52# predicted of False: tensor([0, 0, 0, 0], device='cuda:2') torch.Size([4])\n",
      "08/21/2023, 13:03:52# labels of False: tensor([163,   0, 155,  49], device='cuda:2') torch.Size([4])\n",
      "08/21/2023, 13:03:52# predicted of False: tensor([0, 0, 0, 0], device='cuda:2') torch.Size([4])\n",
      "08/21/2023, 13:03:52# labels of False: tensor([25, 41, 28, 12], device='cuda:2') torch.Size([4])\n",
      "08/21/2023, 13:03:52# predicted of False: tensor([0, 0, 0, 0], device='cuda:2') torch.Size([4])\n",
      "08/21/2023, 13:03:52# labels of False: tensor([ 70, 144, 130,   7], device='cuda:2') torch.Size([4])\n",
      "08/21/2023, 13:03:52# predicted of False: tensor([0, 0, 0, 0], device='cuda:2') torch.Size([4])\n",
      "08/21/2023, 13:03:52# labels of False: tensor([90,  0, 33,  0], device='cuda:2') torch.Size([4])\n",
      "08/21/2023, 13:03:52# predicted of False: tensor([0, 0, 0, 0], device='cuda:2') torch.Size([4])\n",
      "08/21/2023, 13:03:52# labels of False: tensor([100,  43, 102, 122], device='cuda:2') torch.Size([4])\n",
      "08/21/2023, 13:03:52# predicted of False: tensor([0, 0, 0, 0], device='cuda:2') torch.Size([4])\n",
      "08/21/2023, 13:03:52# labels of False: tensor([131, 115, 140,   0], device='cuda:2') torch.Size([4])\n",
      "08/21/2023, 13:03:52# predicted of False: tensor([0, 0, 0, 0], device='cuda:2') torch.Size([4])\n",
      "08/21/2023, 13:03:52# labels of False: tensor([ 0, 98, 20, 79], device='cuda:2') torch.Size([4])\n",
      "08/21/2023, 13:03:52# predicted of False: tensor([0, 0, 0, 0], device='cuda:2') torch.Size([4])\n",
      "08/21/2023, 13:03:52# labels of False: tensor([ 14, 166,   0,  93], device='cuda:2') torch.Size([4])\n",
      "08/21/2023, 13:03:52# predicted of False: tensor([0, 0, 0, 0], device='cuda:2') torch.Size([4])\n",
      "08/21/2023, 13:03:52# labels of False: tensor([120,   0, 118,   2], device='cuda:2') torch.Size([4])\n",
      "08/21/2023, 13:03:52# predicted of False: tensor([0, 0, 0, 0], device='cuda:2') torch.Size([4])\n",
      "08/21/2023, 13:03:52# labels of False: tensor([ 88,  59,  65, 141], device='cuda:2') torch.Size([4])\n",
      "08/21/2023, 13:03:52# predicted of False: tensor([0, 0, 0, 0], device='cuda:2') torch.Size([4])\n",
      "08/21/2023, 13:03:52# labels of False: tensor([125,  48, 105,  56], device='cuda:2') torch.Size([4])\n",
      "08/21/2023, 13:03:52# predicted of False: tensor([0, 0, 0, 0], device='cuda:2') torch.Size([4])\n",
      "08/21/2023, 13:03:52# labels of False: tensor([111,   0,   0,  83], device='cuda:2') torch.Size([4])\n",
      "08/21/2023, 13:03:52# predicted of False: tensor([0, 0, 0, 0], device='cuda:2') torch.Size([4])\n",
      "08/21/2023, 13:03:52# labels of False: tensor([ 91, 150,  38,  47], device='cuda:2') torch.Size([4])\n",
      "08/21/2023, 13:03:52# predicted of False: tensor([0, 0, 0, 0], device='cuda:2') torch.Size([4])\n",
      "08/21/2023, 13:03:52# labels of False: tensor([ 96,  85, 133,  21], device='cuda:2') torch.Size([4])\n",
      "08/21/2023, 13:03:52# predicted of False: tensor([0, 0, 0, 0], device='cuda:2') torch.Size([4])\n"
     ]
    },
    {
     "name": "stdout",
     "output_type": "stream",
     "text": [
      "08/21/2023, 13:03:52# labels of False: tensor([ 42, 167,  97,   0], device='cuda:2') torch.Size([4])\n",
      "08/21/2023, 13:03:52# predicted of False: tensor([0, 0, 0, 0], device='cuda:2') torch.Size([4])\n",
      "08/21/2023, 13:03:52# labels of False: tensor([  6,   0,  58, 160], device='cuda:2') torch.Size([4])\n",
      "08/21/2023, 13:03:52# predicted of False: tensor([0, 0, 0, 0], device='cuda:2') torch.Size([4])\n",
      "08/21/2023, 13:03:52# labels of False: tensor([124,  16,  54, 132], device='cuda:2') torch.Size([4])\n",
      "08/21/2023, 13:03:52# predicted of False: tensor([0, 0, 0, 0], device='cuda:2') torch.Size([4])\n",
      "08/21/2023, 13:03:52# labels of False: tensor([127, 156,   0,  19], device='cuda:2') torch.Size([4])\n",
      "08/21/2023, 13:03:52# predicted of False: tensor([0, 0, 0, 0], device='cuda:2') torch.Size([4])\n",
      "08/21/2023, 13:03:52# Validation Loss: 5.1219 | Validation Accuracy: 0.1750\n",
      "\n"
     ]
    },
    {
     "data": {
      "application/vnd.jupyter.widget-view+json": {
       "model_id": "490bc9ca5f4643a8a42f57b40302f77c",
       "version_major": 2,
       "version_minor": 0
      },
      "text/plain": [
       "Training:   0%|          | 0/1000000 [00:00<?, ?it/s]"
      ]
     },
     "metadata": {},
     "output_type": "display_data"
    },
    {
     "name": "stdout",
     "output_type": "stream",
     "text": [
      "08/21/2023, 13:33:10# labels of 100000: tensor([162,   0,  87, 129], device='cuda:2') torch.Size([4])\n",
      "08/21/2023, 13:33:10# predicted of 100000: tensor([0, 0, 0, 0], device='cuda:2') torch.Size([4])\n",
      "08/21/2023, 14:02:35# labels of 200000: tensor([28, 22, 54, 60], device='cuda:2') torch.Size([4])\n",
      "08/21/2023, 14:02:35# predicted of 200000: tensor([0, 0, 0, 0], device='cuda:2') torch.Size([4])\n",
      "08/21/2023, 14:32:27# labels of 300000: tensor([ 83, 101,  29, 131], device='cuda:2') torch.Size([4])\n",
      "08/21/2023, 14:32:27# predicted of 300000: tensor([0, 0, 0, 0], device='cuda:2') torch.Size([4])\n",
      "08/21/2023, 15:00:43# labels of 400000: tensor([44, 31, 79, 17], device='cuda:2') torch.Size([4])\n",
      "08/21/2023, 15:00:43# predicted of 400000: tensor([0, 0, 0, 0], device='cuda:2') torch.Size([4])\n",
      "08/21/2023, 15:28:00# labels of 500000: tensor([123, 128,  99,   0], device='cuda:2') torch.Size([4])\n",
      "08/21/2023, 15:28:00# predicted of 500000: tensor([0, 0, 0, 0], device='cuda:2') torch.Size([4])\n",
      "08/21/2023, 15:56:35# labels of 600000: tensor([135,   0, 101,  73], device='cuda:2') torch.Size([4])\n",
      "08/21/2023, 15:56:35# predicted of 600000: tensor([0, 0, 0, 0], device='cuda:2') torch.Size([4])\n",
      "08/21/2023, 16:26:09# labels of 700000: tensor([116,  58,  70, 141], device='cuda:2') torch.Size([4])\n",
      "08/21/2023, 16:26:09# predicted of 700000: tensor([0, 0, 0, 0], device='cuda:2') torch.Size([4])\n",
      "08/21/2023, 16:53:27# labels of 800000: tensor([163,  47,  78,  91], device='cuda:2') torch.Size([4])\n",
      "08/21/2023, 16:53:27# predicted of 800000: tensor([0, 0, 0, 0], device='cuda:2') torch.Size([4])\n",
      "08/21/2023, 17:20:25# labels of 900000: tensor([  0, 126, 139, 132], device='cuda:2') torch.Size([4])\n",
      "08/21/2023, 17:20:25# predicted of 900000: tensor([0, 0, 0, 0], device='cuda:2') torch.Size([4])\n"
     ]
    }
   ],
   "source": [
    "seed = 8787\n",
    "same_seeds(seed)\n",
    "\n",
    "model = GAT(in_dim=50, hidden_dim=16, out_dim=168, num_heads=8)\n",
    "# in_dim means the dimension of the node_feat(50 dim, since the 50-dim embedding)\n",
    "# out_dim means the # of the categories -> 168 for out tasks\n",
    "model.load_state_dict(torch.load('model1_initial/initial_weight.pth'))\n",
    "\n",
    "model = model.to(device)\n",
    "\n",
    "total_steps = 180\n",
    "optimizer = torch.optim.AdamW(model.parameters(), lr=1e-6)\n",
    "scheduler = get_linear_schedule_with_warmup(optimizer, num_warmup_steps=100, num_training_steps=total_steps)\n",
    "\n",
    "criterion = nn.CrossEntropyLoss()\n",
    "\n",
    "\n",
    "# save the best model\n",
    "best_val_loss = float('inf')\n",
    "patience = 500  # Number of epochs with no improvement after which training will be stopped.\n",
    "waiting = 0  # The number of epochs with no improvement so far.\n",
    "\n",
    "\n",
    "# Training Part\n",
    "for epoch in tqdm(range(total_steps)):\n",
    "    # Train\n",
    "    model.train()\n",
    "    total_loss = 0.0\n",
    "    total_accuracy = 0.0\n",
    "    num_batches = 0\n",
    "    \n",
    "    count = 0 \n",
    "    \n",
    "    for data in tqdm(dataloaders['train'], desc=\"Training\", position=0, leave=True):\n",
    "        \n",
    "        count += 1\n",
    "        loss, accuracy, _ = model_fn(data, model, criterion, device, count, type='train')\n",
    "        \n",
    "        optimizer.zero_grad()\n",
    "        loss.backward()\n",
    "        optimizer.step()\n",
    "\n",
    "        total_loss += loss.item()\n",
    "        total_accuracy += accuracy.item()\n",
    "        num_batches += 1\n",
    "        \n",
    "    scheduler.step()\n",
    "    add_log_msg(f\"total count: {count}\")\n",
    "\n",
    "    avg_loss = total_loss / num_batches\n",
    "    avg_accuracy = total_accuracy / num_batches\n",
    "\n",
    "    add_log_msg(f'Epoch {epoch} | Train Loss: {avg_loss:.4f} | Train Accuracy: {avg_accuracy:.4f}')\n",
    "\n",
    "    \n",
    "    # Validation Part\n",
    "    model.eval()\n",
    "    total_accuracy = 0.0\n",
    "    total_loss = 0.0\n",
    "    num_batches = 0\n",
    "\n",
    "    with torch.no_grad():\n",
    "        for batched_g in dataloaders['valid']:\n",
    "            loss, accuracy, _ = model_fn(batched_g, model, criterion, device, type=='validation')\n",
    "            total_accuracy += accuracy.item()\n",
    "            total_loss += loss.item()\n",
    "            num_batches += 1\n",
    "\n",
    "    avg_accuracy = total_accuracy / num_batches\n",
    "    current_loss = total_loss / num_batches\n",
    "    \n",
    "    add_log_msg(f'Validation Loss: {current_loss:.4f} | Validation Accuracy: {avg_accuracy:.4f}\\n')\n",
    "    \n",
    "    \n",
    "    if current_loss < best_val_loss:\n",
    "        best_val_loss = current_loss\n",
    "        waiting = 0\n",
    "        \n",
    "#         torch.save(model.state_dict(), 'best_model.pth')\n",
    "        torch.save({\n",
    "                'epoch': epoch,\n",
    "                'model_state_dict': model.state_dict(),\n",
    "                'optimizer_state_dict': optimizer.state_dict(),\n",
    "                'loss': loss,\n",
    "                }, f\"../checkpoint_GAT/best_model_{epoch}.pt\")\n",
    "    \n",
    "    else:\n",
    "        waiting += 1\n",
    "        if waiting >= patience:\n",
    "            add_log_msg(\"Early stopping\")\n",
    "            break\n",
    "\n",
    "            \n",
    "# Testing Part\n",
    "model.eval()\n",
    "total = 0\n",
    "correct = 0\n",
    "\n",
    "with torch.no_grad():\n",
    "    for data in dataloaders['test']:\n",
    "        loss, accuracy, predicted = model_fn(data, model, criterion, device, type=='test')\n",
    "        labels = data[1].to(device)  # Assuming labels are the second element in the tuple\n",
    "        \n",
    "        add_log_msg(f\"labels: {labels} {labels.shape}\")\n",
    "        add_log_msg(f\"predicted: {predicted} {predicted.shape}\")\n",
    "        \n",
    "        total += labels.size(0) # label.size(0) is the batch size\n",
    "        correct += (predicted == labels).sum().item() \n",
    "        # (predicted == labels).sum() would return how many of them are equal; \n",
    "        # .item() would make the tensor to the regular value\n",
    "        \n",
    "#     print('Test Accuracy: %d %%' % (100 * correct / total))\n",
    "add_log_msg(f'Test Accuracy: {100 * correct / total} %%')"
   ]
  },
  {
   "cell_type": "markdown",
   "metadata": {},
   "source": [
    "- 69APs + 20benign x 10000 times in training\n",
    "- 69APs + 20benign in validation and testing\n",
    "- batch size = 4\n",
    "- larger lr and not using scheduler"
   ]
  },
  {
   "cell_type": "code",
   "execution_count": null,
   "metadata": {},
   "outputs": [],
   "source": [
    "seed = 8787\n",
    "same_seeds(seed)\n",
    "\n",
    "model = GAT(in_dim=50, hidden_dim=16, out_dim=168, num_heads=8)\n",
    "# in_dim means the dimension of the node_feat(50 dim, since the 50-dim embedding)\n",
    "# out_dim means the # of the categories -> 168 for out tasks\n",
    "model.load_state_dict(torch.load('model1_initial/initial_weight.pth'))\n",
    "\n",
    "model = model.to(device)\n",
    "\n",
    "optimizer = torch.optim.AdamW(model.parameters(), lr=2e-4)\n",
    "# scheduler = get_linear_schedule_with_warmup(optimizer, num_warmup_steps=100, num_training_steps=total_steps)\n",
    "\n",
    "criterion = nn.CrossEntropyLoss()\n",
    "total_steps = 180\n",
    "\n",
    "# save the best model\n",
    "best_val_loss = float('inf')\n",
    "patience = 500  # Number of epochs with no improvement after which training will be stopped.\n",
    "waiting = 0  # The number of epochs with no improvement so far.\n",
    "\n",
    "\n",
    "# Training Part\n",
    "for epoch in tqdm(range(total_steps)):\n",
    "    # Train\n",
    "    model.train()\n",
    "    total_loss = 0.0\n",
    "    total_accuracy = 0.0\n",
    "    num_batches = 0\n",
    "    \n",
    "    count = 0 \n",
    "    \n",
    "    for data in tqdm(dataloaders['train'], desc=\"Training\", position=0, leave=True):\n",
    "        \n",
    "        count += 1\n",
    "        loss, accuracy, _ = model_fn(data, model, criterion, device, count, type='train')\n",
    "        \n",
    "        optimizer.zero_grad()\n",
    "        loss.backward()\n",
    "        optimizer.step()\n",
    "\n",
    "        total_loss += loss.item()\n",
    "        total_accuracy += accuracy.item()\n",
    "        num_batches += 1\n",
    "        \n",
    "#     scheduler.step()\n",
    "    add_log_msg(f\"total count: {count}\")\n",
    "\n",
    "    avg_loss = total_loss / num_batches\n",
    "    avg_accuracy = total_accuracy / num_batches\n",
    "\n",
    "    add_log_msg(f'Epoch {epoch} | Train Loss: {avg_loss:.4f} | Train Accuracy: {avg_accuracy:.4f}')\n",
    "\n",
    "    \n",
    "    # Validation Part\n",
    "    model.eval()\n",
    "    total_accuracy = 0.0\n",
    "    total_loss = 0.0\n",
    "    num_batches = 0\n",
    "\n",
    "    with torch.no_grad():\n",
    "        for batched_g in dataloaders['valid']:\n",
    "            loss, accuracy, _ = model_fn(batched_g, model, criterion, device, type=='validation')\n",
    "            total_accuracy += accuracy.item()\n",
    "            total_loss += loss.item()\n",
    "            num_batches += 1\n",
    "\n",
    "    avg_accuracy = total_accuracy / num_batches\n",
    "    current_loss = total_loss / num_batches\n",
    "    \n",
    "    add_log_msg(f'Validation Loss: {current_loss:.4f} | Validation Accuracy: {avg_accuracy:.4f}\\n')\n",
    "    \n",
    "    \n",
    "    if current_loss < best_val_loss:\n",
    "        best_val_loss = current_loss\n",
    "        waiting = 0\n",
    "        \n",
    "#         torch.save(model.state_dict(), 'best_model.pth')\n",
    "        torch.save({\n",
    "                'epoch': epoch,\n",
    "                'model_state_dict': model.state_dict(),\n",
    "                'optimizer_state_dict': optimizer.state_dict(),\n",
    "                'loss': loss,\n",
    "                }, f\"../checkpoint_GAT/best_model_{epoch}.pt\")\n",
    "    \n",
    "    else:\n",
    "        waiting += 1\n",
    "        if waiting >= patience:\n",
    "            add_log_msg(\"Early stopping\")\n",
    "            break\n",
    "\n",
    "            \n",
    "# Testing Part\n",
    "model.eval()\n",
    "total = 0\n",
    "correct = 0\n",
    "\n",
    "with torch.no_grad():\n",
    "    for data in dataloaders['test']:\n",
    "        loss, accuracy, predicted = model_fn(data, model, criterion, device, type=='test')\n",
    "        labels = data[1].to(device)  # Assuming labels are the second element in the tuple\n",
    "        \n",
    "        add_log_msg(f\"labels: {labels} {labels.shape}\")\n",
    "        add_log_msg(f\"predicted: {predicted} {predicted.shape}\")\n",
    "        \n",
    "        total += labels.size(0) # label.size(0) is the batch size\n",
    "        correct += (predicted == labels).sum().item() \n",
    "        # (predicted == labels).sum() would return how many of them are equal; \n",
    "        # .item() would make the tensor to the regular value\n",
    "        \n",
    "#     print('Test Accuracy: %d %%' % (100 * correct / total))\n",
    "add_log_msg(f'Test Accuracy: {100 * correct / total} %%')"
   ]
  },
  {
   "cell_type": "code",
   "execution_count": null,
   "metadata": {},
   "outputs": [],
   "source": []
  },
  {
   "cell_type": "code",
   "execution_count": null,
   "metadata": {},
   "outputs": [],
   "source": []
  }
 ],
 "metadata": {
  "kernelspec": {
   "display_name": "Python 3",
   "language": "python",
   "name": "python3"
  },
  "language_info": {
   "codemirror_mode": {
    "name": "ipython",
    "version": 3
   },
   "file_extension": ".py",
   "mimetype": "text/x-python",
   "name": "python",
   "nbconvert_exporter": "python",
   "pygments_lexer": "ipython3",
   "version": "3.6.9"
  }
 },
 "nbformat": 4,
 "nbformat_minor": 2
}
