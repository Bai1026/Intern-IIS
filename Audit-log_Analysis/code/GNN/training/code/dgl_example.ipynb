{
 "cells": [
  {
   "cell_type": "code",
   "execution_count": 2,
   "metadata": {},
   "outputs": [
    {
     "name": "stdout",
     "output_type": "stream",
     "text": [
      "Collecting dgl\n",
      "  Downloading dgl-1.1.1-cp39-cp39-manylinux1_x86_64.whl (6.3 MB)\n",
      "\u001b[K     |████████████████████████████████| 6.3 MB 399 kB/s eta 0:00:01\n",
      "\u001b[?25hRequirement already satisfied: scipy>=1.1.0 in /workdir/home/euni/anaconda3/lib/python3.9/site-packages (from dgl) (1.7.3)\n",
      "Requirement already satisfied: networkx>=2.1 in /workdir/home/euni/anaconda3/lib/python3.9/site-packages (from dgl) (3.1)\n",
      "Requirement already satisfied: psutil>=5.8.0 in /workdir/home/euni/anaconda3/lib/python3.9/site-packages (from dgl) (5.8.0)\n",
      "Requirement already satisfied: numpy>=1.14.0 in /workdir/home/euni/anaconda3/lib/python3.9/site-packages (from dgl) (1.21.5)\n",
      "Requirement already satisfied: tqdm in /workdir/home/euni/anaconda3/lib/python3.9/site-packages (from dgl) (4.64.0)\n",
      "Requirement already satisfied: requests>=2.19.0 in /workdir/home/euni/anaconda3/lib/python3.9/site-packages (from dgl) (2.27.1)\n",
      "Requirement already satisfied: idna<4,>=2.5 in /workdir/home/euni/anaconda3/lib/python3.9/site-packages (from requests>=2.19.0->dgl) (3.3)\n",
      "Requirement already satisfied: charset-normalizer~=2.0.0 in /workdir/home/euni/anaconda3/lib/python3.9/site-packages (from requests>=2.19.0->dgl) (2.0.4)\n",
      "Requirement already satisfied: urllib3<1.27,>=1.21.1 in /workdir/home/euni/anaconda3/lib/python3.9/site-packages (from requests>=2.19.0->dgl) (1.26.9)\n",
      "Requirement already satisfied: certifi>=2017.4.17 in /workdir/home/euni/anaconda3/lib/python3.9/site-packages (from requests>=2.19.0->dgl) (2023.5.7)\n",
      "Installing collected packages: dgl\n",
      "Successfully installed dgl-1.1.1\n",
      "Note: you may need to restart the kernel to use updated packages.\n"
     ]
    }
   ],
   "source": [
    "%pip install dgl"
   ]
  },
  {
   "cell_type": "code",
   "execution_count": 2,
   "metadata": {},
   "outputs": [
    {
     "name": "stdout",
     "output_type": "stream",
     "text": [
      "Graph(num_nodes=4, num_edges=4,\n",
      "      ndata_schemes={}\n",
      "      edata_schemes={})\n",
      "tensor([0, 1, 2, 3])\n",
      "(tensor([0, 0, 0, 1]), tensor([1, 2, 3, 3]))\n",
      "(tensor([0, 0, 0, 1]), tensor([1, 2, 3, 3]), tensor([0, 1, 2, 3]))\n"
     ]
    }
   ],
   "source": [
    "import dgl\n",
    "import torch as th\n",
    "# edges 0->1, 0->2, 0->3, 1->3\n",
    "u, v = th.tensor([0, 0, 0, 1]), th.tensor([1, 2, 3, 3])\n",
    "g = dgl.graph((u, v))\n",
    "print(g) # number of nodes are inferred from the max node IDs in the given edges\n",
    "# Node IDs\n",
    "print(g.nodes())\n",
    "# Edge end nodes\n",
    "print(g.edges())\n",
    "# Edge end nodes and edge IDs\n",
    "print(g.edges(form='all'))\n",
    "# If the node with the largest ID is isolated (meaning no edges),\n",
    "# then one needs to explicitly set the number of nodes\n",
    "g = dgl.graph((u, v), num_nodes=8)"
   ]
  },
  {
   "cell_type": "code",
   "execution_count": 3,
   "metadata": {},
   "outputs": [
    {
     "name": "stdout",
     "output_type": "stream",
     "text": [
      "torch.int64\n"
     ]
    },
    {
     "data": {
      "text/plain": [
       "torch.int32"
      ]
     },
     "execution_count": 3,
     "metadata": {},
     "output_type": "execute_result"
    }
   ],
   "source": [
    "edges = th.tensor([2, 5, 3]), th.tensor([3, 5, 0])  # 边：2->3, 5->5, 3->0\n",
    "g64 = dgl.graph(edges)  # DGL默认使用int64\n",
    "print(g64.idtype)\n",
    "g32 = dgl.graph(edges, idtype=th.int32)  # 使用int32构建图\n",
    "g32.idtype\n",
    "# g64_2 = g32.long()  # 转换成int64\n",
    "# g64_2.idtype\n",
    "# g32_2 = g64.int()  # 转换成int32\n",
    "# g32_2.idtype"
   ]
  },
  {
   "cell_type": "code",
   "execution_count": 5,
   "metadata": {},
   "outputs": [
    {
     "name": "stdout",
     "output_type": "stream",
     "text": [
      "tensor([[ 1.4918,  0.2774, -0.1152, -1.0215, -1.4262],\n",
      "        [-2.6538,  0.3229,  0.9344, -1.1643, -1.0056],\n",
      "        [ 0.3081, -0.6746,  1.5852,  0.4632,  1.8549],\n",
      "        [ 0.4038, -1.0142, -0.2733, -0.2340,  0.8484],\n",
      "        [ 1.4929, -0.7657,  0.1483, -1.1800, -1.5759],\n",
      "        [-1.3395, -0.6130, -0.6207,  0.8257,  0.9696]])\n"
     ]
    },
    {
     "data": {
      "text/plain": [
       "tensor([1, 1], dtype=torch.int32)"
      ]
     },
     "execution_count": 5,
     "metadata": {},
     "output_type": "execute_result"
    }
   ],
   "source": [
    "import dgl\n",
    "import torch as th\n",
    "g = dgl.graph(([0, 0, 1, 5], [1, 2, 2, 0])) # 6个节点，4条边\n",
    "g\n",
    "g.ndata['x'] = th.ones(g.num_nodes(), 3)               # 长度为3的节点特征\n",
    "g.edata['x'] = th.ones(g.num_edges(), dtype=th.int32)  # 标量整型特征\n",
    "g\n",
    "# 不同名称的特征可以具有不同形状\n",
    "g.ndata['y'] = th.randn(g.num_nodes(), 5)\n",
    "# print(g.ndata['y'])\n",
    "g.ndata['x'][1]                  # 获取节点1的特征\n",
    "g.edata['x'][th.tensor([0, 3])]  # 获取边0和3的特征"
   ]
  },
  {
   "cell_type": "code",
   "execution_count": 5,
   "metadata": {},
   "outputs": [
    {
     "data": {
      "text/plain": [
       "Graph(num_nodes=4, num_edges=4,\n",
       "      ndata_schemes={}\n",
       "      edata_schemes={'w': Scheme(shape=(), dtype=torch.float32)})"
      ]
     },
     "execution_count": 5,
     "metadata": {},
     "output_type": "execute_result"
    }
   ],
   "source": [
    "# 边 0->1, 0->2, 0->3, 1->3\n",
    "edges = th.tensor([0, 0, 0, 1]), th.tensor([1, 2, 3, 3])\n",
    "weights = th.tensor([0.1, 0.6, 0.9, 0.7])  # 每条边的权重\n",
    "g = dgl.graph(edges)\n",
    "g.edata['w'] = weights  # 将其命名为 'w'\n",
    "g"
   ]
  },
  {
   "cell_type": "code",
   "execution_count": 11,
   "metadata": {},
   "outputs": [
    {
     "name": "stdout",
     "output_type": "stream",
     "text": [
      "True\n",
      "4\n"
     ]
    }
   ],
   "source": [
    "import torch\n",
    "print(torch.cuda.is_available())\n",
    "print(torch.cuda.device_count())"
   ]
  },
  {
   "cell_type": "code",
   "execution_count": 18,
   "metadata": {},
   "outputs": [
    {
     "name": "stdout",
     "output_type": "stream",
     "text": [
      "cuda:1\n",
      "cuda:1\n"
     ]
    }
   ],
   "source": [
    "# import dgl\n",
    "# import torch as th\n",
    "# u, v = th.tensor([0, 1, 2]), th.tensor([2, 3, 4])\n",
    "# g = dgl.graph((u, v))\n",
    "# g.ndata['x'] = th.randn(5, 3)   # 原始特征在CPU上\n",
    "# g.device\n",
    "# cuda_g = g.to('cuda:1')         # 接受来自后端框架的任何设备对象\n",
    "# cuda_g.device\n",
    "# cuda_g.ndata['x'].device        # 特征数据也拷贝到了GPU上\n",
    "# # 由GPU张量构造的图也在GPU上\n",
    "# u, v = u.to('cuda:0'), v.to('cuda:0')\n",
    "# g = dgl.graph((u, v))\n",
    "# g.device\n",
    "\n",
    "\n",
    "import dgl\n",
    "import torch as th\n",
    "\n",
    "device = 'cuda:1' if th.cuda.is_available() else 'cpu'\n",
    "\n",
    "u, v = th.tensor([0, 1, 2]).to(device), th.tensor([2, 3, 4]).to(device)\n",
    "g = dgl.graph((u, v))\n",
    "g.ndata['x'] = th.randn(5, 3).to(device)\n",
    "\n",
    "print(g.device)  # This should now print the GPU device\n",
    "print(g.ndata['x'].device)  # This should also print the GPU device\n"
   ]
  },
  {
   "cell_type": "code",
   "execution_count": 15,
   "metadata": {},
   "outputs": [
    {
     "ename": "DGLError",
     "evalue": "[16:08:10] /opt/dgl/src/array/array.cc:764: Operator COOToCSR does not support cuda device.\nStack trace:\n  [bt] (0) /workdir/home/euni/anaconda3/lib/python3.9/site-packages/dgl/libdgl.so(+0xf87d0) [0x7f5c276817d0]\n  [bt] (1) /workdir/home/euni/anaconda3/lib/python3.9/site-packages/dgl/libdgl.so(dgl::aten::COOToCSR(dgl::aten::COOMatrix)+0x14d) [0x7f5c276933dd]\n  [bt] (2) /workdir/home/euni/anaconda3/lib/python3.9/site-packages/dgl/libdgl.so(dgl::UnitGraph::GetInCSR(bool) const+0x3ac) [0x7f5c27ba504c]\n  [bt] (3) /workdir/home/euni/anaconda3/lib/python3.9/site-packages/dgl/libdgl.so(dgl::UnitGraph::GetFormat(dgl::SparseFormat) const+0x4d) [0x7f5c27ba5fbd]\n  [bt] (4) /workdir/home/euni/anaconda3/lib/python3.9/site-packages/dgl/libdgl.so(dgl::UnitGraph::InDegrees(unsigned long, dgl::runtime::NDArray) const+0x36) [0x7f5c27ba7386]\n  [bt] (5) /workdir/home/euni/anaconda3/lib/python3.9/site-packages/dgl/libdgl.so(dgl::HeteroGraph::InDegrees(unsigned long, dgl::runtime::NDArray) const+0x49) [0x7f5c27aab2d9]\n  [bt] (6) /workdir/home/euni/anaconda3/lib/python3.9/site-packages/dgl/libdgl.so(+0x52cfe1) [0x7f5c27ab5fe1]\n  [bt] (7) /workdir/home/euni/anaconda3/lib/python3.9/site-packages/dgl/libdgl.so(DGLFuncCall+0x48) [0x7f5c27a3dfa8]\n  [bt] (8) /workdir/home/euni/anaconda3/lib/python3.9/site-packages/dgl/_ffi/_cy3/core.cpython-39-x86_64-linux-gnu.so(+0x16863) [0x7f5c2657b863]\n\n",
     "output_type": "error",
     "traceback": [
      "\u001b[0;31m---------------------------------------------------------------------------\u001b[0m",
      "\u001b[0;31mDGLError\u001b[0m                                  Traceback (most recent call last)",
      "\u001b[1;32m/workdir/home/bai/dgl/code/dgl_example.ipynb 儲存格 8\u001b[0m in \u001b[0;36m<cell line: 1>\u001b[0;34m()\u001b[0m\n\u001b[0;32m----> <a href='vscode-notebook-cell://ssh-remote%2B7b22686f73744e616d65223a22496e7465726e5f494953227d/workdir/home/bai/dgl/code/dgl_example.ipynb#X10sdnNjb2RlLXJlbW90ZQ%3D%3D?line=0'>1</a>\u001b[0m g\u001b[39m.\u001b[39;49min_degrees()\n\u001b[1;32m      <a href='vscode-notebook-cell://ssh-remote%2B7b22686f73744e616d65223a22496e7465726e5f494953227d/workdir/home/bai/dgl/code/dgl_example.ipynb#X10sdnNjb2RlLXJlbW90ZQ%3D%3D?line=1'>2</a>\u001b[0m g\u001b[39m.\u001b[39min_edges([\u001b[39m2\u001b[39m, \u001b[39m3\u001b[39m, \u001b[39m4\u001b[39m])                          \u001b[39m# 可以接受非张量类型的参数\u001b[39;00m\n\u001b[1;32m      <a href='vscode-notebook-cell://ssh-remote%2B7b22686f73744e616d65223a22496e7465726e5f494953227d/workdir/home/bai/dgl/code/dgl_example.ipynb#X10sdnNjb2RlLXJlbW90ZQ%3D%3D?line=2'>3</a>\u001b[0m g\u001b[39m.\u001b[39min_edges(th\u001b[39m.\u001b[39mtensor([\u001b[39m2\u001b[39m, \u001b[39m3\u001b[39m, \u001b[39m4\u001b[39m])\u001b[39m.\u001b[39mto(\u001b[39m'\u001b[39m\u001b[39mcuda:0\u001b[39m\u001b[39m'\u001b[39m))  \u001b[39m# 张量类型的参数必须在GPU上\u001b[39;00m\n",
      "File \u001b[0;32m~/anaconda3/lib/python3.9/site-packages/dgl/heterograph.py:3671\u001b[0m, in \u001b[0;36mDGLGraph.in_degrees\u001b[0;34m(self, v, etype)\u001b[0m\n\u001b[1;32m   3669\u001b[0m     v \u001b[39m=\u001b[39m \u001b[39mself\u001b[39m\u001b[39m.\u001b[39mdstnodes(dsttype)\n\u001b[1;32m   3670\u001b[0m v_tensor \u001b[39m=\u001b[39m utils\u001b[39m.\u001b[39mprepare_tensor(\u001b[39mself\u001b[39m, v, \u001b[39m\"\u001b[39m\u001b[39mv\u001b[39m\u001b[39m\"\u001b[39m)\n\u001b[0;32m-> 3671\u001b[0m deg \u001b[39m=\u001b[39m \u001b[39mself\u001b[39;49m\u001b[39m.\u001b[39;49m_graph\u001b[39m.\u001b[39;49min_degrees(etid, v_tensor)\n\u001b[1;32m   3672\u001b[0m \u001b[39mif\u001b[39;00m \u001b[39misinstance\u001b[39m(v, numbers\u001b[39m.\u001b[39mIntegral):\n\u001b[1;32m   3673\u001b[0m     \u001b[39mreturn\u001b[39;00m F\u001b[39m.\u001b[39mas_scalar(deg)\n",
      "File \u001b[0;32m~/anaconda3/lib/python3.9/site-packages/dgl/heterograph_index.py:720\u001b[0m, in \u001b[0;36mHeteroGraphIndex.in_degrees\u001b[0;34m(self, etype, v)\u001b[0m\n\u001b[1;32m    702\u001b[0m \u001b[39mdef\u001b[39;00m \u001b[39min_degrees\u001b[39m(\u001b[39mself\u001b[39m, etype, v):\n\u001b[1;32m    703\u001b[0m     \u001b[39m\"\"\"Return the in degrees of the nodes.\u001b[39;00m\n\u001b[1;32m    704\u001b[0m \n\u001b[1;32m    705\u001b[0m \u001b[39m    Assume that node_type(v) == dst_type(etype). Thus, the ntype argument is omitted.\u001b[39;00m\n\u001b[0;32m   (...)\u001b[0m\n\u001b[1;32m    717\u001b[0m \u001b[39m        The in degree array.\u001b[39;00m\n\u001b[1;32m    718\u001b[0m \u001b[39m    \"\"\"\u001b[39;00m\n\u001b[1;32m    719\u001b[0m     \u001b[39mreturn\u001b[39;00m F\u001b[39m.\u001b[39mfrom_dgl_nd(\n\u001b[0;32m--> 720\u001b[0m         _CAPI_DGLHeteroInDegrees(\u001b[39mself\u001b[39;49m, \u001b[39mint\u001b[39;49m(etype), F\u001b[39m.\u001b[39;49mto_dgl_nd(v))\n\u001b[1;32m    721\u001b[0m     )\n",
      "File \u001b[0;32mdgl/_ffi/_cython/./function.pxi:295\u001b[0m, in \u001b[0;36mdgl._ffi._cy3.core.FunctionBase.__call__\u001b[0;34m()\u001b[0m\n",
      "File \u001b[0;32mdgl/_ffi/_cython/./function.pxi:227\u001b[0m, in \u001b[0;36mdgl._ffi._cy3.core.FuncCall\u001b[0;34m()\u001b[0m\n",
      "File \u001b[0;32mdgl/_ffi/_cython/./function.pxi:217\u001b[0m, in \u001b[0;36mdgl._ffi._cy3.core.FuncCall3\u001b[0;34m()\u001b[0m\n",
      "\u001b[0;31mDGLError\u001b[0m: [16:08:10] /opt/dgl/src/array/array.cc:764: Operator COOToCSR does not support cuda device.\nStack trace:\n  [bt] (0) /workdir/home/euni/anaconda3/lib/python3.9/site-packages/dgl/libdgl.so(+0xf87d0) [0x7f5c276817d0]\n  [bt] (1) /workdir/home/euni/anaconda3/lib/python3.9/site-packages/dgl/libdgl.so(dgl::aten::COOToCSR(dgl::aten::COOMatrix)+0x14d) [0x7f5c276933dd]\n  [bt] (2) /workdir/home/euni/anaconda3/lib/python3.9/site-packages/dgl/libdgl.so(dgl::UnitGraph::GetInCSR(bool) const+0x3ac) [0x7f5c27ba504c]\n  [bt] (3) /workdir/home/euni/anaconda3/lib/python3.9/site-packages/dgl/libdgl.so(dgl::UnitGraph::GetFormat(dgl::SparseFormat) const+0x4d) [0x7f5c27ba5fbd]\n  [bt] (4) /workdir/home/euni/anaconda3/lib/python3.9/site-packages/dgl/libdgl.so(dgl::UnitGraph::InDegrees(unsigned long, dgl::runtime::NDArray) const+0x36) [0x7f5c27ba7386]\n  [bt] (5) /workdir/home/euni/anaconda3/lib/python3.9/site-packages/dgl/libdgl.so(dgl::HeteroGraph::InDegrees(unsigned long, dgl::runtime::NDArray) const+0x49) [0x7f5c27aab2d9]\n  [bt] (6) /workdir/home/euni/anaconda3/lib/python3.9/site-packages/dgl/libdgl.so(+0x52cfe1) [0x7f5c27ab5fe1]\n  [bt] (7) /workdir/home/euni/anaconda3/lib/python3.9/site-packages/dgl/libdgl.so(DGLFuncCall+0x48) [0x7f5c27a3dfa8]\n  [bt] (8) /workdir/home/euni/anaconda3/lib/python3.9/site-packages/dgl/_ffi/_cy3/core.cpython-39-x86_64-linux-gnu.so(+0x16863) [0x7f5c2657b863]\n\n"
     ]
    }
   ],
   "source": [
    "g.in_degrees()\n",
    "g.in_edges([2, 3, 4])                          # 可以接受非张量类型的参数\n",
    "g.in_edges(th.tensor([2, 3, 4]).to('cuda:0'))  # 张量类型的参数必须在GPU上\n",
    "g.ndata['h'] = th.randn(5, 4)                  # ERROR! 特征也必须在GPU上！"
   ]
  },
  {
   "cell_type": "code",
   "execution_count": null,
   "metadata": {},
   "outputs": [],
   "source": []
  }
 ],
 "metadata": {
  "kernelspec": {
   "display_name": "base",
   "language": "python",
   "name": "python3"
  },
  "language_info": {
   "codemirror_mode": {
    "name": "ipython",
    "version": 3
   },
   "file_extension": ".py",
   "mimetype": "text/x-python",
   "name": "python",
   "nbconvert_exporter": "python",
   "pygments_lexer": "ipython3",
   "version": "3.9.12"
  },
  "orig_nbformat": 4
 },
 "nbformat": 4,
 "nbformat_minor": 2
}
