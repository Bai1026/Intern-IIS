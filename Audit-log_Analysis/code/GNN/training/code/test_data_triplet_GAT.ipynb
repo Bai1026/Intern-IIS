{
 "cells": [
  {
   "cell_type": "markdown",
   "metadata": {},
   "source": [
    "# Test of GAT\n",
    "- use DGL\n",
    "- predict trilets\n",
    "- valid, test data are not in the training dataset"
   ]
  },
  {
   "cell_type": "code",
   "execution_count": 4,
   "metadata": {},
   "outputs": [],
   "source": [
    "import dgl\n",
    "import json\n",
    "import torch\n",
    "import torch as th\n",
    "# from tqdm import tqdm\n",
    "from tqdm.notebook import tqdm  # 使用 notebook 版本的 tqdm\n",
    "import torch.nn as nn\n",
    "from dgl.nn import GraphConv, GATConv\n",
    "import torch.nn.functional as F\n",
    "from torch.utils.data import Dataset, DataLoader\n",
    "from transformers import get_linear_schedule_with_warmup"
   ]
  },
  {
   "cell_type": "markdown",
   "metadata": {},
   "source": [
    "- check the GPU and assign the GPU by the best memory usage"
   ]
  },
  {
   "cell_type": "code",
   "execution_count": 5,
   "metadata": {},
   "outputs": [
    {
     "name": "stdout",
     "output_type": "stream",
     "text": [
      "cuda:0\n"
     ]
    }
   ],
   "source": [
    "import subprocess\n",
    "import torch\n",
    "\n",
    "def get_free_gpu():\n",
    "    try:\n",
    "        # Run nvidia-smi command to get GPU details\n",
    "        _output_to_list = lambda x: x.decode('ascii').split('\\n')[:-1]\n",
    "        command = \"nvidia-smi --query-gpu=memory.free --format=csv,nounits,noheader\"\n",
    "        memory_free_info = _output_to_list(subprocess.check_output(command.split())) \n",
    "        memory_free_values = [int(x) for i, x in enumerate(memory_free_info)]\n",
    "        \n",
    "        # Get the GPU with the maximum free memory\n",
    "        best_gpu_id = memory_free_values.index(max(memory_free_values))\n",
    "        return best_gpu_id\n",
    "    except:\n",
    "        # If any exception occurs, default to GPU 0 (this handles cases where nvidia-smi isn't installed)\n",
    "        return 0\n",
    "\n",
    "if torch.cuda.is_available():\n",
    "    # Get the best GPU ID based on free memory and set it\n",
    "    best_gpu_id = get_free_gpu()\n",
    "    device = torch.device(f\"cuda:{best_gpu_id}\")\n",
    "else:\n",
    "    device = torch.device(\"cpu\")\n",
    "    print(\"there's no available GPU\")\n",
    "\n",
    "print(device)\n"
   ]
  },
  {
   "cell_type": "markdown",
   "metadata": {},
   "source": [
    "## Fix the seed"
   ]
  },
  {
   "cell_type": "code",
   "execution_count": 6,
   "metadata": {},
   "outputs": [],
   "source": [
    "import numpy as np\n",
    "import torch\n",
    "import random\n",
    "\n",
    "#fix seed\n",
    "def same_seeds(seed = 8787):\n",
    "    torch.manual_seed(seed)\n",
    "    # random.seed(seed) \n",
    "    if torch.cuda.is_available():\n",
    "        torch.cuda.manual_seed(seed)\n",
    "        torch.cuda.manual_seed_all(seed)  \n",
    "    np.random.seed(seed)  \n",
    "    torch.backends.cudnn.benchmark = False\n",
    "    torch.backends.cudnn.deterministic = True"
   ]
  },
  {
   "cell_type": "markdown",
   "metadata": {},
   "source": [
    "## Data Loader"
   ]
  },
  {
   "cell_type": "code",
   "execution_count": 7,
   "metadata": {},
   "outputs": [],
   "source": [
    "class GraphDataset(Dataset):\n",
    "    def __init__(self, data_list, device):\n",
    "        self.data_list = data_list\n",
    "        self.device = device\n",
    "\n",
    "    def __len__(self):\n",
    "        return len(self.data_list)\n",
    "    \n",
    "    def __getitem__(self, idx):\n",
    "        data = self.data_list[idx]\n",
    "\n",
    "        g = dgl.graph((th.tensor(data[\"edge_index\"][0]), th.tensor(data[\"edge_index\"][1])), num_nodes=data[\"num_nodes\"]).to(self.device)\n",
    "\n",
    "        g.ndata['feat'] = th.tensor(data[\"node_feat\"]).to(self.device)\n",
    "        g.edata['feat'] = th.tensor(data[\"edge_attr\"]).to(self.device)  # Add edge features to graph\n",
    "\n",
    "        return g, th.tensor(data[\"label\"]).to(self.device)\n",
    "\n",
    "\n",
    "def collate(samples):\n",
    "    # The input `samples` is a list of pairs\n",
    "    #  (graph, label).\n",
    "    graphs, labels = map(list, zip(*samples))\n",
    "    batched_graph = dgl.batch(graphs)\n",
    "    return batched_graph, torch.tensor(labels)\n"
   ]
  },
  {
   "cell_type": "code",
   "execution_count": 8,
   "metadata": {},
   "outputs": [
    {
     "name": "stderr",
     "output_type": "stream",
     "text": [
      "\r\n",
      "  0%|          | 0/3 [00:00<?, ?it/s]"
     ]
    },
    {
     "name": "stdout",
     "output_type": "stream",
     "text": [
      "../../data_processing/dgl/data/test_triplet/repeated_test_train.jsonl\n"
     ]
    },
    {
     "name": "stderr",
     "output_type": "stream",
     "text": [
      "230000it [00:44, 5131.37it/s]\n",
      " 33%|███▎      | 1/3 [00:44<01:29, 44.83s/it]"
     ]
    },
    {
     "name": "stdout",
     "output_type": "stream",
     "text": [
      "../../data_processing/dgl/data/test_triplet/repeated_test_valid.jsonl\n"
     ]
    },
    {
     "name": "stderr",
     "output_type": "stream",
     "text": [
      "9it [00:00, 9513.29it/s]\n"
     ]
    },
    {
     "name": "stdout",
     "output_type": "stream",
     "text": [
      "../../data_processing/dgl/data/test_triplet/repeated_test_test.jsonl\n"
     ]
    },
    {
     "name": "stderr",
     "output_type": "stream",
     "text": [
      "6it [00:00, 9258.95it/s]\n",
      "100%|██████████| 3/3 [00:44<00:00, 14.95s/it]"
     ]
    },
    {
     "name": "stdout",
     "output_type": "stream",
     "text": [
      "Datasets loaded!\n"
     ]
    },
    {
     "name": "stderr",
     "output_type": "stream",
     "text": [
      "\n"
     ]
    }
   ],
   "source": [
    "datasets = ['train', 'valid', 'test']\n",
    "dataset_data = {}\n",
    "\n",
    "for dataset_name in tqdm(datasets):\n",
    "#     file_path = f\"../../data_processing/dgl/data/test_graph/repeated_{dataset_name}.jsonl\"\n",
    "    file_path = f\"../../data_processing/dgl/data/test_triplet/repeated_test_{dataset_name}.jsonl\"\n",
    "    \n",
    "    print(file_path)\n",
    "    with open(file_path) as f:\n",
    "        data_list = [json.loads(line) for line in tqdm(f, position=0, leave=True)]\n",
    "    \n",
    "    dataset_data[dataset_name] = GraphDataset(data_list, device)\n",
    "\n",
    "print(\"Datasets loaded!\")"
   ]
  },
  {
   "cell_type": "markdown",
   "metadata": {},
   "source": [
    "- choose batch size"
   ]
  },
  {
   "cell_type": "code",
   "execution_count": 9,
   "metadata": {},
   "outputs": [],
   "source": [
    "def create_dataloaders(batch_size, shuffle=False):\n",
    "    dataloaders = {}\n",
    "    for dataset_name, dataset in dataset_data.items():\n",
    "        dataloaders[dataset_name] = DataLoader(dataset, batch_size=batch_size, shuffle=shuffle, collate_fn=collate)\n",
    "    return dataloaders\n",
    "\n",
    "dataloaders = create_dataloaders(4)\n",
    "# dataloaders = create_dataloaders(16)"
   ]
  },
  {
   "cell_type": "markdown",
   "metadata": {},
   "source": [
    "- Turn the print message to a log file"
   ]
  },
  {
   "cell_type": "code",
   "execution_count": 10,
   "metadata": {},
   "outputs": [
    {
     "name": "stdout",
     "output_type": "stream",
     "text": [
      "../log_message/0816_10:29_GAT.log\n"
     ]
    }
   ],
   "source": [
    "import datetime\n",
    "\n",
    "now = datetime.datetime.now()\n",
    "\n",
    "formatted_time = now.strftime(\"%m%d_%H:%M\")\n",
    "\n",
    "log_file_path = f\"../log_message/{formatted_time}_GAT.log\"\n",
    "\n",
    "def add_log_msg(msg, log_file_path=log_file_path):\n",
    "    with open(log_file_path, 'a') as f:\n",
    "        f.write(f'{datetime.datetime.now().strftime(\"%m/%d/%Y, %H:%M:%S\")}# {msg}\\n')\n",
    "    print(f'{datetime.datetime.now().strftime(\"%m/%d/%Y, %H:%M:%S\")}# {msg}')\n",
    "\n",
    "print(log_file_path)"
   ]
  },
  {
   "cell_type": "markdown",
   "metadata": {},
   "source": [
    "### Model"
   ]
  },
  {
   "cell_type": "code",
   "execution_count": 11,
   "metadata": {},
   "outputs": [],
   "source": [
    "class GAT(nn.Module):\n",
    "    def __init__(self, in_dim, hidden_dim, out_dim, num_heads, dropout_prob=0.25):\n",
    "        super(GAT, self).__init__()\n",
    "        \n",
    "        # do not check the zero in_degree since we have all the complete graph\n",
    "        self.layer1 = GATConv(in_dim, hidden_dim, num_heads=num_heads, activation=F.relu, allow_zero_in_degree=True)\n",
    "        self.layer2 = GATConv(hidden_dim * num_heads, out_dim, num_heads=num_heads, allow_zero_in_degree=True)\n",
    "        \n",
    "        # Adding Batch Normalization after each GAT layer\n",
    "        self.batchnorm1 = nn.BatchNorm1d(hidden_dim * num_heads)\n",
    "        self.batchnorm2 = nn.BatchNorm1d(out_dim)\n",
    "        \n",
    "        # Adding Dropout for regularization\n",
    "        self.dropout = nn.Dropout(dropout_prob)\n",
    "\n",
    "    def forward(self, g, h):\n",
    "        # Apply GAT layers\n",
    "        h = self.layer1(g, h)\n",
    "        h = h.view(h.shape[0], -1)\n",
    "        h = F.relu(h)\n",
    "        h = self.dropout(h)\n",
    "        h = self.layer2(g, h).squeeze(1)\n",
    "        \n",
    "        # Store the output as a new node feature\n",
    "        g.ndata['h_out'] = h\n",
    "\n",
    "        # Use mean pooling to aggregate this new node feature\n",
    "        h_agg = dgl.mean_nodes(g, feat='h_out')\n",
    "        return h_agg\n",
    "\n",
    "    "
   ]
  },
  {
   "cell_type": "markdown",
   "metadata": {},
   "source": [
    "- Model Forward  "
   ]
  },
  {
   "cell_type": "code",
   "execution_count": 12,
   "metadata": {},
   "outputs": [],
   "source": [
    "def model_fn(data, model, criterion, device, count=1, type='train'):\n",
    "    \"\"\"Forward a batch through the model.\"\"\"\n",
    "    batched_g, labels = data\n",
    "    batched_g = batched_g.to(device)\n",
    "    \n",
    "    labels = labels.to(device)\n",
    "    logits = model(batched_g, batched_g.ndata['feat'].float()) # for GAT\n",
    "    logits = logits.mean(dim=1)\n",
    "    \n",
    "    loss = criterion(logits, labels)\n",
    "\n",
    "    # Get the class id with the highest probability.\n",
    "    preds = logits.argmax(1)\n",
    "    \n",
    "    # Compute accuracy.\n",
    "    accuracy = torch.mean((preds == labels).float())\n",
    "    \n",
    "    if type == 'validation':\n",
    "        add_log_msg(f\"labels of validation: {labels} {labels.shape}\")\n",
    "        add_log_msg(f\"predicted of validation: {preds} {preds.shape}\")\n",
    "        \n",
    "    elif type == 'test':\n",
    "        add_log_msg(f\"labels of test: {labels} {labels.shape}\")\n",
    "        add_log_msg(f\"predicted of test: {preds} {preds.shape}\")\n",
    "        \n",
    "    if count % 5000 == 0: \n",
    "        add_log_msg(f\"labels of {count}: {labels} {labels.shape}\")\n",
    "        add_log_msg(f\"predicted of {count}: {preds} {preds.shape}\")\n",
    "        \n",
    "    return loss, accuracy, preds"
   ]
  },
  {
   "cell_type": "markdown",
   "metadata": {},
   "source": [
    "### Training"
   ]
  },
  {
   "cell_type": "markdown",
   "metadata": {},
   "source": [
    "- Fix the seed and save the model.state_dict that contains the initial weight"
   ]
  },
  {
   "cell_type": "code",
   "execution_count": 10,
   "metadata": {},
   "outputs": [],
   "source": [
    "seed = 8787\n",
    "same_seeds(seed)\n",
    "\n",
    "model = GAT(in_dim=50, hidden_dim=16, out_dim=168, num_heads=8)\n",
    "torch.save(model.state_dict(), 'model1_initial/initial_weight.pth')"
   ]
  },
  {
   "cell_type": "code",
   "execution_count": 11,
   "metadata": {},
   "outputs": [
    {
     "data": {
      "text/plain": [
       "Parameter containing:\n",
       "tensor([[-0.1806, -0.0598,  0.0091,  ...,  0.0719,  0.2496,  0.0873],\n",
       "        [ 0.1694, -0.0015, -0.0139,  ...,  0.0147,  0.0892,  0.0146],\n",
       "        [ 0.0969, -0.0595, -0.0115,  ..., -0.0474,  0.0529, -0.0565],\n",
       "        ...,\n",
       "        [-0.0433, -0.2248,  0.3002,  ...,  0.0850,  0.1621,  0.0422],\n",
       "        [ 0.2097, -0.2492,  0.0612,  ..., -0.0041,  0.0365, -0.1483],\n",
       "        [ 0.0971, -0.2221,  0.1652,  ..., -0.1312, -0.2610,  0.0077]],\n",
       "       requires_grad=True)"
      ]
     },
     "execution_count": 11,
     "metadata": {},
     "output_type": "execute_result"
    }
   ],
   "source": [
    "model.layer1.fc.weight"
   ]
  },
  {
   "cell_type": "markdown",
   "metadata": {},
   "source": [
    "- Check if model really load the model_dict"
   ]
  },
  {
   "cell_type": "code",
   "execution_count": 12,
   "metadata": {},
   "outputs": [
    {
     "data": {
      "text/plain": [
       "Parameter containing:\n",
       "tensor([[-0.1806, -0.0598,  0.0091,  ...,  0.0719,  0.2496,  0.0873],\n",
       "        [ 0.1694, -0.0015, -0.0139,  ...,  0.0147,  0.0892,  0.0146],\n",
       "        [ 0.0969, -0.0595, -0.0115,  ..., -0.0474,  0.0529, -0.0565],\n",
       "        ...,\n",
       "        [-0.0433, -0.2248,  0.3002,  ...,  0.0850,  0.1621,  0.0422],\n",
       "        [ 0.2097, -0.2492,  0.0612,  ..., -0.0041,  0.0365, -0.1483],\n",
       "        [ 0.0971, -0.2221,  0.1652,  ..., -0.1312, -0.2610,  0.0077]],\n",
       "       requires_grad=True)"
      ]
     },
     "execution_count": 12,
     "metadata": {},
     "output_type": "execute_result"
    }
   ],
   "source": [
    "model = GAT(in_dim=50, hidden_dim=16, out_dim=168, num_heads=8)\n",
    "model.load_state_dict(torch.load('model1_initial/initial_weight.pth'))\n",
    "model.layer1.fc.weight"
   ]
  },
  {
   "cell_type": "markdown",
   "metadata": {},
   "source": [
    "### test of valid and test part is ``graph``"
   ]
  },
  {
   "cell_type": "code",
   "execution_count": 37,
   "metadata": {},
   "outputs": [
    {
     "data": {
      "application/vnd.jupyter.widget-view+json": {
       "model_id": "218c5272c2bb437cadea0444963007c9",
       "version_major": 2,
       "version_minor": 0
      },
      "text/plain": [
       "  0%|          | 0/180 [00:00<?, ?it/s]"
      ]
     },
     "metadata": {},
     "output_type": "display_data"
    },
    {
     "data": {
      "application/vnd.jupyter.widget-view+json": {
       "model_id": "44a5db1b7045456cb202827c8188e0c5",
       "version_major": 2,
       "version_minor": 0
      },
      "text/plain": [
       "Training:   0%|          | 0/28750 [00:00<?, ?it/s]"
      ]
     },
     "metadata": {},
     "output_type": "display_data"
    },
    {
     "name": "stdout",
     "output_type": "stream",
     "text": [
      "08/15/2023, 18:53:23# labels of 5000: tensor([84, 82, 86, 87], device='cuda:0') torch.Size([4])\n",
      "08/15/2023, 18:53:23# predicted of 5000: tensor([76, 76, 76, 76], device='cuda:0') torch.Size([4])\n",
      "08/15/2023, 18:54:46# labels of 10000: tensor([ 76,  70,  71, 119], device='cuda:0') torch.Size([4])\n",
      "08/15/2023, 18:54:46# predicted of 10000: tensor([ 76,  76,  76, 119], device='cuda:0') torch.Size([4])\n",
      "08/15/2023, 18:56:13# labels of 15000: tensor([87, 88, 90, 89], device='cuda:0') torch.Size([4])\n",
      "08/15/2023, 18:56:13# predicted of 15000: tensor([119,  71,  76,  76], device='cuda:0') torch.Size([4])\n",
      "08/15/2023, 18:57:38# labels of 20000: tensor([119,  78,  79,  77], device='cuda:0') torch.Size([4])\n",
      "08/15/2023, 18:57:38# predicted of 20000: tensor([119,  70,  76,  76], device='cuda:0') torch.Size([4])\n",
      "08/15/2023, 18:59:01# labels of 25000: tensor([ 89, 100, 101, 105], device='cuda:0') torch.Size([4])\n",
      "08/15/2023, 18:59:01# predicted of 25000: tensor([76, 76, 76, 76], device='cuda:0') torch.Size([4])\n",
      "08/15/2023, 19:00:07# total count: 28750\n",
      "08/15/2023, 19:00:07# Epoch 0 | Train Loss: 3.0472 | Train Accuracy: 0.0783\n",
      "08/15/2023, 19:00:07# labels of False: tensor([ 71,  71, 119,  77], device='cuda:0') torch.Size([4])\n",
      "08/15/2023, 19:00:07# predicted of False: tensor([82, 82, 82, 82], device='cuda:0') torch.Size([4])\n",
      "08/15/2023, 19:00:07# labels of False: tensor([ 82, 103, 103,  76], device='cuda:0') torch.Size([4])\n",
      "08/15/2023, 19:00:07# predicted of False: tensor([82, 82, 82, 82], device='cuda:0') torch.Size([4])\n",
      "08/15/2023, 19:00:07# labels of False: tensor([76], device='cuda:0') torch.Size([1])\n",
      "08/15/2023, 19:00:07# predicted of False: tensor([82], device='cuda:0') torch.Size([1])\n",
      "08/15/2023, 19:00:07# Validation Loss: 3.1837 | Validation Accuracy: 0.0833\n"
     ]
    },
    {
     "data": {
      "application/vnd.jupyter.widget-view+json": {
       "model_id": "c100431f153643a3b1edd523a145714f",
       "version_major": 2,
       "version_minor": 0
      },
      "text/plain": [
       "Training:   0%|          | 0/28750 [00:00<?, ?it/s]"
      ]
     },
     "metadata": {},
     "output_type": "display_data"
    },
    {
     "name": "stdout",
     "output_type": "stream",
     "text": [
      "08/15/2023, 19:01:34# labels of 5000: tensor([84, 82, 86, 87], device='cuda:0') torch.Size([4])\n",
      "08/15/2023, 19:01:34# predicted of 5000: tensor([ 71,  76,  79, 103], device='cuda:0') torch.Size([4])\n",
      "08/15/2023, 19:02:59# labels of 10000: tensor([ 76,  70,  71, 119], device='cuda:0') torch.Size([4])\n",
      "08/15/2023, 19:02:59# predicted of 10000: tensor([ 76,  76,  76, 119], device='cuda:0') torch.Size([4])\n",
      "08/15/2023, 19:04:24# labels of 15000: tensor([87, 88, 90, 89], device='cuda:0') torch.Size([4])\n",
      "08/15/2023, 19:04:24# predicted of 15000: tensor([ 76, 101,  76,  86], device='cuda:0') torch.Size([4])\n",
      "08/15/2023, 19:05:49# labels of 20000: tensor([119,  78,  79,  77], device='cuda:0') torch.Size([4])\n",
      "08/15/2023, 19:05:49# predicted of 20000: tensor([119, 104,  76,  76], device='cuda:0') torch.Size([4])\n",
      "08/15/2023, 19:07:15# labels of 25000: tensor([ 89, 100, 101, 105], device='cuda:0') torch.Size([4])\n",
      "08/15/2023, 19:07:15# predicted of 25000: tensor([ 78, 100,  76, 101], device='cuda:0') torch.Size([4])\n",
      "08/15/2023, 19:08:18# total count: 28750\n",
      "08/15/2023, 19:08:18# Epoch 1 | Train Loss: 2.8304 | Train Accuracy: 0.0980\n",
      "08/15/2023, 19:08:18# labels of False: tensor([ 71,  71, 119,  77], device='cuda:0') torch.Size([4])\n",
      "08/15/2023, 19:08:18# predicted of False: tensor([77, 77, 77, 77], device='cuda:0') torch.Size([4])\n",
      "08/15/2023, 19:08:18# labels of False: tensor([ 82, 103, 103,  76], device='cuda:0') torch.Size([4])\n",
      "08/15/2023, 19:08:18# predicted of False: tensor([77, 77, 77, 77], device='cuda:0') torch.Size([4])\n",
      "08/15/2023, 19:08:18# labels of False: tensor([76], device='cuda:0') torch.Size([1])\n",
      "08/15/2023, 19:08:18# predicted of False: tensor([77], device='cuda:0') torch.Size([1])\n",
      "08/15/2023, 19:08:18# Validation Loss: 3.5635 | Validation Accuracy: 0.0833\n"
     ]
    },
    {
     "data": {
      "application/vnd.jupyter.widget-view+json": {
       "model_id": "cb47c1f4923f48bc92de151798956336",
       "version_major": 2,
       "version_minor": 0
      },
      "text/plain": [
       "Training:   0%|          | 0/28750 [00:00<?, ?it/s]"
      ]
     },
     "metadata": {},
     "output_type": "display_data"
    },
    {
     "name": "stdout",
     "output_type": "stream",
     "text": [
      "08/15/2023, 19:09:46# labels of 5000: tensor([84, 82, 86, 87], device='cuda:0') torch.Size([4])\n",
      "08/15/2023, 19:09:46# predicted of 5000: tensor([ 71,  76, 104, 104], device='cuda:0') torch.Size([4])\n",
      "08/15/2023, 19:11:12# labels of 10000: tensor([ 76,  70,  71, 119], device='cuda:0') torch.Size([4])\n",
      "08/15/2023, 19:11:12# predicted of 10000: tensor([ 76,  76,  76, 119], device='cuda:0') torch.Size([4])\n",
      "08/15/2023, 19:12:38# labels of 15000: tensor([87, 88, 90, 89], device='cuda:0') torch.Size([4])\n",
      "08/15/2023, 19:12:38# predicted of 15000: tensor([79, 77, 79, 80], device='cuda:0') torch.Size([4])\n",
      "08/15/2023, 19:14:06# labels of 20000: tensor([119,  78,  79,  77], device='cuda:0') torch.Size([4])\n",
      "08/15/2023, 19:14:06# predicted of 20000: tensor([119, 103,  76,  76], device='cuda:0') torch.Size([4])\n",
      "08/15/2023, 19:15:32# labels of 25000: tensor([ 89, 100, 101, 105], device='cuda:0') torch.Size([4])\n",
      "08/15/2023, 19:15:32# predicted of 25000: tensor([101,  89,  76, 100], device='cuda:0') torch.Size([4])\n",
      "08/15/2023, 19:16:36# total count: 28750\n",
      "08/15/2023, 19:16:36# Epoch 2 | Train Loss: 2.7741 | Train Accuracy: 0.1141\n",
      "08/15/2023, 19:16:36# labels of False: tensor([ 71,  71, 119,  77], device='cuda:0') torch.Size([4])\n",
      "08/15/2023, 19:16:36# predicted of False: tensor([102, 102, 102, 102], device='cuda:0') torch.Size([4])\n",
      "08/15/2023, 19:16:36# labels of False: tensor([ 82, 103, 103,  76], device='cuda:0') torch.Size([4])\n",
      "08/15/2023, 19:16:36# predicted of False: tensor([102, 102, 102, 102], device='cuda:0') torch.Size([4])\n",
      "08/15/2023, 19:16:36# labels of False: tensor([76], device='cuda:0') torch.Size([1])\n",
      "08/15/2023, 19:16:36# predicted of False: tensor([102], device='cuda:0') torch.Size([1])\n",
      "08/15/2023, 19:16:36# Validation Loss: 3.7996 | Validation Accuracy: 0.0000\n"
     ]
    },
    {
     "data": {
      "application/vnd.jupyter.widget-view+json": {
       "model_id": "35dd8bc743584cb1998428725afa301e",
       "version_major": 2,
       "version_minor": 0
      },
      "text/plain": [
       "Training:   0%|          | 0/28750 [00:00<?, ?it/s]"
      ]
     },
     "metadata": {},
     "output_type": "display_data"
    },
    {
     "name": "stdout",
     "output_type": "stream",
     "text": [
      "08/15/2023, 19:17:59# labels of 5000: tensor([84, 82, 86, 87], device='cuda:0') torch.Size([4])\n",
      "08/15/2023, 19:17:59# predicted of 5000: tensor([103,  76,  81,  85], device='cuda:0') torch.Size([4])\n",
      "08/15/2023, 19:19:27# labels of 10000: tensor([ 76,  70,  71, 119], device='cuda:0') torch.Size([4])\n",
      "08/15/2023, 19:19:27# predicted of 10000: tensor([ 76, 101,  71, 119], device='cuda:0') torch.Size([4])\n",
      "08/15/2023, 19:20:51# labels of 15000: tensor([87, 88, 90, 89], device='cuda:0') torch.Size([4])\n",
      "08/15/2023, 19:20:51# predicted of 15000: tensor([70, 89, 90, 85], device='cuda:0') torch.Size([4])\n",
      "08/15/2023, 19:22:12# labels of 20000: tensor([119,  78,  79,  77], device='cuda:0') torch.Size([4])\n",
      "08/15/2023, 19:22:12# predicted of 20000: tensor([119,  88,  76,  76], device='cuda:0') torch.Size([4])\n",
      "08/15/2023, 19:23:38# labels of 25000: tensor([ 89, 100, 101, 105], device='cuda:0') torch.Size([4])\n",
      "08/15/2023, 19:23:38# predicted of 25000: tensor([81, 71, 82, 84], device='cuda:0') torch.Size([4])\n",
      "08/15/2023, 19:24:39# total count: 28750\n",
      "08/15/2023, 19:24:39# Epoch 3 | Train Loss: 2.7323 | Train Accuracy: 0.1231\n",
      "08/15/2023, 19:24:39# labels of False: tensor([ 71,  71, 119,  77], device='cuda:0') torch.Size([4])\n",
      "08/15/2023, 19:24:39# predicted of False: tensor([90, 90, 90, 90], device='cuda:0') torch.Size([4])\n",
      "08/15/2023, 19:24:39# labels of False: tensor([ 82, 103, 103,  76], device='cuda:0') torch.Size([4])\n",
      "08/15/2023, 19:24:39# predicted of False: tensor([90, 90, 90, 90], device='cuda:0') torch.Size([4])\n",
      "08/15/2023, 19:24:39# labels of False: tensor([76], device='cuda:0') torch.Size([1])\n",
      "08/15/2023, 19:24:39# predicted of False: tensor([90], device='cuda:0') torch.Size([1])\n",
      "08/15/2023, 19:24:39# Validation Loss: 3.9838 | Validation Accuracy: 0.0000\n"
     ]
    },
    {
     "data": {
      "application/vnd.jupyter.widget-view+json": {
       "model_id": "b015054ab6ec4c11a89553814ee1ee87",
       "version_major": 2,
       "version_minor": 0
      },
      "text/plain": [
       "Training:   0%|          | 0/28750 [00:00<?, ?it/s]"
      ]
     },
     "metadata": {},
     "output_type": "display_data"
    },
    {
     "name": "stdout",
     "output_type": "stream",
     "text": [
      "08/15/2023, 19:26:04# labels of 5000: tensor([84, 82, 86, 87], device='cuda:0') torch.Size([4])\n",
      "08/15/2023, 19:26:04# predicted of 5000: tensor([81, 76, 90, 84], device='cuda:0') torch.Size([4])\n",
      "08/15/2023, 19:27:30# labels of 10000: tensor([ 76,  70,  71, 119], device='cuda:0') torch.Size([4])\n",
      "08/15/2023, 19:27:30# predicted of 10000: tensor([ 76,  82,  76, 119], device='cuda:0') torch.Size([4])\n",
      "08/15/2023, 19:28:56# labels of 15000: tensor([87, 88, 90, 89], device='cuda:0') torch.Size([4])\n",
      "08/15/2023, 19:28:56# predicted of 15000: tensor([ 86,  84,  86, 104], device='cuda:0') torch.Size([4])\n",
      "08/15/2023, 19:30:23# labels of 20000: tensor([119,  78,  79,  77], device='cuda:0') torch.Size([4])\n",
      "08/15/2023, 19:30:23# predicted of 20000: tensor([119,  86,  76,  82], device='cuda:0') torch.Size([4])\n",
      "08/15/2023, 19:31:50# labels of 25000: tensor([ 89, 100, 101, 105], device='cuda:0') torch.Size([4])\n",
      "08/15/2023, 19:31:50# predicted of 25000: tensor([85, 89, 76, 88], device='cuda:0') torch.Size([4])\n",
      "08/15/2023, 19:32:56# total count: 28750\n",
      "08/15/2023, 19:32:56# Epoch 4 | Train Loss: 2.7001 | Train Accuracy: 0.1291\n",
      "08/15/2023, 19:32:56# labels of False: tensor([ 71,  71, 119,  77], device='cuda:0') torch.Size([4])\n",
      "08/15/2023, 19:32:56# predicted of False: tensor([87, 87, 87, 87], device='cuda:0') torch.Size([4])\n",
      "08/15/2023, 19:32:56# labels of False: tensor([ 82, 103, 103,  76], device='cuda:0') torch.Size([4])\n",
      "08/15/2023, 19:32:56# predicted of False: tensor([87, 87, 87, 87], device='cuda:0') torch.Size([4])\n",
      "08/15/2023, 19:32:56# labels of False: tensor([76], device='cuda:0') torch.Size([1])\n",
      "08/15/2023, 19:32:56# predicted of False: tensor([87], device='cuda:0') torch.Size([1])\n",
      "08/15/2023, 19:32:56# Validation Loss: 4.1318 | Validation Accuracy: 0.0000\n"
     ]
    },
    {
     "data": {
      "application/vnd.jupyter.widget-view+json": {
       "model_id": "d049484be8b04915967db9e53245df2c",
       "version_major": 2,
       "version_minor": 0
      },
      "text/plain": [
       "Training:   0%|          | 0/28750 [00:00<?, ?it/s]"
      ]
     },
     "metadata": {},
     "output_type": "display_data"
    },
    {
     "name": "stdout",
     "output_type": "stream",
     "text": [
      "08/15/2023, 19:34:20# labels of 5000: tensor([84, 82, 86, 87], device='cuda:0') torch.Size([4])\n",
      "08/15/2023, 19:34:20# predicted of 5000: tensor([105,  76,  78,  89], device='cuda:0') torch.Size([4])\n",
      "08/15/2023, 19:35:46# labels of 10000: tensor([ 76,  70,  71, 119], device='cuda:0') torch.Size([4])\n",
      "08/15/2023, 19:35:46# predicted of 10000: tensor([ 76,  76,  76, 119], device='cuda:0') torch.Size([4])\n",
      "08/15/2023, 19:37:13# labels of 15000: tensor([87, 88, 90, 89], device='cuda:0') torch.Size([4])\n",
      "08/15/2023, 19:37:13# predicted of 15000: tensor([ 90, 104,  70,  86], device='cuda:0') torch.Size([4])\n",
      "08/15/2023, 19:38:34# labels of 20000: tensor([119,  78,  79,  77], device='cuda:0') torch.Size([4])\n",
      "08/15/2023, 19:38:34# predicted of 20000: tensor([119,  87,  76,  76], device='cuda:0') torch.Size([4])\n",
      "08/15/2023, 19:39:58# labels of 25000: tensor([ 89, 100, 101, 105], device='cuda:0') torch.Size([4])\n",
      "08/15/2023, 19:39:58# predicted of 25000: tensor([77, 85, 76, 86], device='cuda:0') torch.Size([4])\n",
      "08/15/2023, 19:41:03# total count: 28750\n",
      "08/15/2023, 19:41:03# Epoch 5 | Train Loss: 2.6741 | Train Accuracy: 0.1321\n",
      "08/15/2023, 19:41:03# labels of False: tensor([ 71,  71, 119,  77], device='cuda:0') torch.Size([4])\n",
      "08/15/2023, 19:41:03# predicted of False: tensor([87, 87, 87, 87], device='cuda:0') torch.Size([4])\n",
      "08/15/2023, 19:41:03# labels of False: tensor([ 82, 103, 103,  76], device='cuda:0') torch.Size([4])\n",
      "08/15/2023, 19:41:03# predicted of False: tensor([87, 87, 87, 87], device='cuda:0') torch.Size([4])\n",
      "08/15/2023, 19:41:04# labels of False: tensor([76], device='cuda:0') torch.Size([1])\n",
      "08/15/2023, 19:41:04# predicted of False: tensor([87], device='cuda:0') torch.Size([1])\n",
      "08/15/2023, 19:41:04# Validation Loss: 4.2063 | Validation Accuracy: 0.0000\n"
     ]
    },
    {
     "data": {
      "application/vnd.jupyter.widget-view+json": {
       "model_id": "31b4f269793642d48c1f73cf95a2bf02",
       "version_major": 2,
       "version_minor": 0
      },
      "text/plain": [
       "Training:   0%|          | 0/28750 [00:00<?, ?it/s]"
      ]
     },
     "metadata": {},
     "output_type": "display_data"
    },
    {
     "name": "stdout",
     "output_type": "stream",
     "text": [
      "08/15/2023, 19:42:28# labels of 5000: tensor([84, 82, 86, 87], device='cuda:0') torch.Size([4])\n",
      "08/15/2023, 19:42:28# predicted of 5000: tensor([ 77,  76, 105,  90], device='cuda:0') torch.Size([4])\n",
      "08/15/2023, 19:43:56# labels of 10000: tensor([ 76,  70,  71, 119], device='cuda:0') torch.Size([4])\n",
      "08/15/2023, 19:43:56# predicted of 10000: tensor([ 76,  82,  76, 119], device='cuda:0') torch.Size([4])\n",
      "08/15/2023, 19:45:19# labels of 15000: tensor([87, 88, 90, 89], device='cuda:0') torch.Size([4])\n",
      "08/15/2023, 19:45:19# predicted of 15000: tensor([ 90, 105, 104, 105], device='cuda:0') torch.Size([4])\n",
      "08/15/2023, 19:46:46# labels of 20000: tensor([119,  78,  79,  77], device='cuda:0') torch.Size([4])\n",
      "08/15/2023, 19:46:46# predicted of 20000: tensor([119,  84,  76, 101], device='cuda:0') torch.Size([4])\n",
      "08/15/2023, 19:48:10# labels of 25000: tensor([ 89, 100, 101, 105], device='cuda:0') torch.Size([4])\n",
      "08/15/2023, 19:48:10# predicted of 25000: tensor([100,  84,  76,  88], device='cuda:0') torch.Size([4])\n",
      "08/15/2023, 19:49:15# total count: 28750\n",
      "08/15/2023, 19:49:15# Epoch 6 | Train Loss: 2.6536 | Train Accuracy: 0.1339\n",
      "08/15/2023, 19:49:15# labels of False: tensor([ 71,  71, 119,  77], device='cuda:0') torch.Size([4])\n",
      "08/15/2023, 19:49:15# predicted of False: tensor([89, 89, 89, 89], device='cuda:0') torch.Size([4])\n",
      "08/15/2023, 19:49:15# labels of False: tensor([ 82, 103, 103,  76], device='cuda:0') torch.Size([4])\n",
      "08/15/2023, 19:49:15# predicted of False: tensor([89, 89, 89, 89], device='cuda:0') torch.Size([4])\n",
      "08/15/2023, 19:49:15# labels of False: tensor([76], device='cuda:0') torch.Size([1])\n",
      "08/15/2023, 19:49:15# predicted of False: tensor([89], device='cuda:0') torch.Size([1])\n",
      "08/15/2023, 19:49:15# Validation Loss: 4.2889 | Validation Accuracy: 0.0000\n"
     ]
    },
    {
     "data": {
      "application/vnd.jupyter.widget-view+json": {
       "model_id": "50c62fc4c7e04369b94dbfb52cac905c",
       "version_major": 2,
       "version_minor": 0
      },
      "text/plain": [
       "Training:   0%|          | 0/28750 [00:00<?, ?it/s]"
      ]
     },
     "metadata": {},
     "output_type": "display_data"
    },
    {
     "name": "stdout",
     "output_type": "stream",
     "text": [
      "08/15/2023, 19:50:39# labels of 5000: tensor([84, 82, 86, 87], device='cuda:0') torch.Size([4])\n",
      "08/15/2023, 19:50:39# predicted of 5000: tensor([81, 76, 85, 70], device='cuda:0') torch.Size([4])\n",
      "08/15/2023, 19:52:04# labels of 10000: tensor([ 76,  70,  71, 119], device='cuda:0') torch.Size([4])\n",
      "08/15/2023, 19:52:04# predicted of 10000: tensor([ 76,  79,  76, 119], device='cuda:0') torch.Size([4])\n",
      "08/15/2023, 19:53:31# labels of 15000: tensor([87, 88, 90, 89], device='cuda:0') torch.Size([4])\n",
      "08/15/2023, 19:53:31# predicted of 15000: tensor([90, 90, 84, 90], device='cuda:0') torch.Size([4])\n",
      "08/15/2023, 19:54:56# labels of 20000: tensor([119,  78,  79,  77], device='cuda:0') torch.Size([4])\n",
      "08/15/2023, 19:54:56# predicted of 20000: tensor([119,  80,  71,  82], device='cuda:0') torch.Size([4])\n",
      "08/15/2023, 19:56:19# labels of 25000: tensor([ 89, 100, 101, 105], device='cuda:0') torch.Size([4])\n",
      "08/15/2023, 19:56:19# predicted of 25000: tensor([ 84,  86,  76, 100], device='cuda:0') torch.Size([4])\n",
      "08/15/2023, 19:57:25# total count: 28750\n",
      "08/15/2023, 19:57:25# Epoch 7 | Train Loss: 2.6370 | Train Accuracy: 0.1356\n",
      "08/15/2023, 19:57:25# labels of False: tensor([ 71,  71, 119,  77], device='cuda:0') torch.Size([4])\n",
      "08/15/2023, 19:57:25# predicted of False: tensor([105, 105, 105, 105], device='cuda:0') torch.Size([4])\n",
      "08/15/2023, 19:57:25# labels of False: tensor([ 82, 103, 103,  76], device='cuda:0') torch.Size([4])\n",
      "08/15/2023, 19:57:25# predicted of False: tensor([105, 105, 105, 105], device='cuda:0') torch.Size([4])\n",
      "08/15/2023, 19:57:25# labels of False: tensor([76], device='cuda:0') torch.Size([1])\n",
      "08/15/2023, 19:57:25# predicted of False: tensor([105], device='cuda:0') torch.Size([1])\n",
      "08/15/2023, 19:57:25# Validation Loss: 4.3860 | Validation Accuracy: 0.0000\n"
     ]
    },
    {
     "data": {
      "application/vnd.jupyter.widget-view+json": {
       "model_id": "2cc021e3d86749939300d71b6d1525cc",
       "version_major": 2,
       "version_minor": 0
      },
      "text/plain": [
       "Training:   0%|          | 0/28750 [00:00<?, ?it/s]"
      ]
     },
     "metadata": {},
     "output_type": "display_data"
    },
    {
     "name": "stdout",
     "output_type": "stream",
     "text": [
      "08/15/2023, 19:58:50# labels of 5000: tensor([84, 82, 86, 87], device='cuda:0') torch.Size([4])\n",
      "08/15/2023, 19:58:50# predicted of 5000: tensor([70, 76, 87, 86], device='cuda:0') torch.Size([4])\n",
      "08/15/2023, 20:00:16# labels of 10000: tensor([ 76,  70,  71, 119], device='cuda:0') torch.Size([4])\n",
      "08/15/2023, 20:00:16# predicted of 10000: tensor([ 76, 103,  76, 119], device='cuda:0') torch.Size([4])\n",
      "08/15/2023, 20:01:38# labels of 15000: tensor([87, 88, 90, 89], device='cuda:0') torch.Size([4])\n",
      "08/15/2023, 20:01:38# predicted of 15000: tensor([89, 81, 85, 81], device='cuda:0') torch.Size([4])\n",
      "08/15/2023, 20:03:07# labels of 20000: tensor([119,  78,  79,  77], device='cuda:0') torch.Size([4])\n",
      "08/15/2023, 20:03:07# predicted of 20000: tensor([119, 105,  76,  76], device='cuda:0') torch.Size([4])\n",
      "08/15/2023, 20:04:44# labels of 25000: tensor([ 89, 100, 101, 105], device='cuda:0') torch.Size([4])\n",
      "08/15/2023, 20:04:44# predicted of 25000: tensor([90, 80, 76, 70], device='cuda:0') torch.Size([4])\n",
      "08/15/2023, 20:05:52# total count: 28750\n",
      "08/15/2023, 20:05:52# Epoch 8 | Train Loss: 2.6213 | Train Accuracy: 0.1389\n",
      "08/15/2023, 20:05:52# labels of False: tensor([ 71,  71, 119,  77], device='cuda:0') torch.Size([4])\n",
      "08/15/2023, 20:05:52# predicted of False: tensor([90, 90, 90, 90], device='cuda:0') torch.Size([4])\n",
      "08/15/2023, 20:05:52# labels of False: tensor([ 82, 103, 103,  76], device='cuda:0') torch.Size([4])\n",
      "08/15/2023, 20:05:52# predicted of False: tensor([90, 90, 90, 90], device='cuda:0') torch.Size([4])\n",
      "08/15/2023, 20:05:52# labels of False: tensor([76], device='cuda:0') torch.Size([1])\n",
      "08/15/2023, 20:05:52# predicted of False: tensor([90], device='cuda:0') torch.Size([1])\n",
      "08/15/2023, 20:05:52# Validation Loss: 4.4643 | Validation Accuracy: 0.0000\n"
     ]
    },
    {
     "data": {
      "application/vnd.jupyter.widget-view+json": {
       "model_id": "08f31be0c8a9454db4fa53a2eddd9fde",
       "version_major": 2,
       "version_minor": 0
      },
      "text/plain": [
       "Training:   0%|          | 0/28750 [00:00<?, ?it/s]"
      ]
     },
     "metadata": {},
     "output_type": "display_data"
    },
    {
     "name": "stdout",
     "output_type": "stream",
     "text": [
      "08/15/2023, 20:07:34# labels of 5000: tensor([84, 82, 86, 87], device='cuda:0') torch.Size([4])\n",
      "08/15/2023, 20:07:34# predicted of 5000: tensor([ 77,  76,  81, 105], device='cuda:0') torch.Size([4])\n",
      "08/15/2023, 20:09:18# labels of 10000: tensor([ 76,  70,  71, 119], device='cuda:0') torch.Size([4])\n",
      "08/15/2023, 20:09:18# predicted of 10000: tensor([ 76,  82,  76, 119], device='cuda:0') torch.Size([4])\n",
      "08/15/2023, 20:11:00# labels of 15000: tensor([87, 88, 90, 89], device='cuda:0') torch.Size([4])\n",
      "08/15/2023, 20:11:00# predicted of 15000: tensor([ 88,  89, 104,  87], device='cuda:0') torch.Size([4])\n",
      "08/15/2023, 20:12:41# labels of 20000: tensor([119,  78,  79,  77], device='cuda:0') torch.Size([4])\n",
      "08/15/2023, 20:12:41# predicted of 20000: tensor([119, 104,  82,  76], device='cuda:0') torch.Size([4])\n",
      "08/15/2023, 20:14:23# labels of 25000: tensor([ 89, 100, 101, 105], device='cuda:0') torch.Size([4])\n",
      "08/15/2023, 20:14:23# predicted of 25000: tensor([90, 86, 76, 80], device='cuda:0') torch.Size([4])\n",
      "08/15/2023, 20:15:44# total count: 28750\n",
      "08/15/2023, 20:15:44# Epoch 9 | Train Loss: 2.6094 | Train Accuracy: 0.1421\n",
      "08/15/2023, 20:15:44# labels of False: tensor([ 71,  71, 119,  77], device='cuda:0') torch.Size([4])\n",
      "08/15/2023, 20:15:44# predicted of False: tensor([86, 86, 86, 86], device='cuda:0') torch.Size([4])\n",
      "08/15/2023, 20:15:44# labels of False: tensor([ 82, 103, 103,  76], device='cuda:0') torch.Size([4])\n",
      "08/15/2023, 20:15:44# predicted of False: tensor([86, 86, 86, 86], device='cuda:0') torch.Size([4])\n",
      "08/15/2023, 20:15:44# labels of False: tensor([76], device='cuda:0') torch.Size([1])\n",
      "08/15/2023, 20:15:44# predicted of False: tensor([86], device='cuda:0') torch.Size([1])\n",
      "08/15/2023, 20:15:44# Validation Loss: 4.5061 | Validation Accuracy: 0.0000\n"
     ]
    },
    {
     "data": {
      "application/vnd.jupyter.widget-view+json": {
       "model_id": "ce627b8a0f2145da9ae0a4b7b708ed60",
       "version_major": 2,
       "version_minor": 0
      },
      "text/plain": [
       "Training:   0%|          | 0/28750 [00:00<?, ?it/s]"
      ]
     },
     "metadata": {},
     "output_type": "display_data"
    },
    {
     "name": "stdout",
     "output_type": "stream",
     "text": [
      "08/15/2023, 20:16:53# labels of 5000: tensor([84, 82, 86, 87], device='cuda:0') torch.Size([4])\n",
      "08/15/2023, 20:16:53# predicted of 5000: tensor([87, 76, 87, 89], device='cuda:0') torch.Size([4])\n",
      "08/15/2023, 20:18:02# labels of 10000: tensor([ 76,  70,  71, 119], device='cuda:0') torch.Size([4])\n",
      "08/15/2023, 20:18:02# predicted of 10000: tensor([ 76,  76,  79, 119], device='cuda:0') torch.Size([4])\n",
      "08/15/2023, 20:19:44# labels of 15000: tensor([87, 88, 90, 89], device='cuda:0') torch.Size([4])\n",
      "08/15/2023, 20:19:44# predicted of 15000: tensor([104,  85,  81,  78], device='cuda:0') torch.Size([4])\n",
      "08/15/2023, 20:21:26# labels of 20000: tensor([119,  78,  79,  77], device='cuda:0') torch.Size([4])\n",
      "08/15/2023, 20:21:26# predicted of 20000: tensor([119,  90,  76,  82], device='cuda:0') torch.Size([4])\n",
      "08/15/2023, 20:23:08# labels of 25000: tensor([ 89, 100, 101, 105], device='cuda:0') torch.Size([4])\n",
      "08/15/2023, 20:23:08# predicted of 25000: tensor([105,  87,  76,  81], device='cuda:0') torch.Size([4])\n",
      "08/15/2023, 20:24:24# total count: 28750\n",
      "08/15/2023, 20:24:24# Epoch 10 | Train Loss: 2.5997 | Train Accuracy: 0.1426\n",
      "08/15/2023, 20:24:24# labels of False: tensor([ 71,  71, 119,  77], device='cuda:0') torch.Size([4])\n",
      "08/15/2023, 20:24:24# predicted of False: tensor([90, 90, 90, 90], device='cuda:0') torch.Size([4])\n",
      "08/15/2023, 20:24:24# labels of False: tensor([ 82, 103, 103,  76], device='cuda:0') torch.Size([4])\n",
      "08/15/2023, 20:24:24# predicted of False: tensor([90, 90, 90, 90], device='cuda:0') torch.Size([4])\n",
      "08/15/2023, 20:24:24# labels of False: tensor([76], device='cuda:0') torch.Size([1])\n",
      "08/15/2023, 20:24:24# predicted of False: tensor([90], device='cuda:0') torch.Size([1])\n",
      "08/15/2023, 20:24:24# Validation Loss: 4.5321 | Validation Accuracy: 0.0000\n"
     ]
    },
    {
     "data": {
      "application/vnd.jupyter.widget-view+json": {
       "model_id": "0da1f5cbf0e345ec80647968768ccf29",
       "version_major": 2,
       "version_minor": 0
      },
      "text/plain": [
       "Training:   0%|          | 0/28750 [00:00<?, ?it/s]"
      ]
     },
     "metadata": {},
     "output_type": "display_data"
    },
    {
     "name": "stdout",
     "output_type": "stream",
     "text": [
      "08/15/2023, 20:25:56# labels of 5000: tensor([84, 82, 86, 87], device='cuda:0') torch.Size([4])\n",
      "08/15/2023, 20:25:56# predicted of 5000: tensor([ 90,  76,  90, 100], device='cuda:0') torch.Size([4])\n",
      "08/15/2023, 20:27:33# labels of 10000: tensor([ 76,  70,  71, 119], device='cuda:0') torch.Size([4])\n",
      "08/15/2023, 20:27:33# predicted of 10000: tensor([ 76,  71,  76, 119], device='cuda:0') torch.Size([4])\n",
      "08/15/2023, 20:29:17# labels of 15000: tensor([87, 88, 90, 89], device='cuda:0') torch.Size([4])\n",
      "08/15/2023, 20:29:17# predicted of 15000: tensor([ 87,  80, 102,  86], device='cuda:0') torch.Size([4])\n",
      "08/15/2023, 20:30:58# labels of 20000: tensor([119,  78,  79,  77], device='cuda:0') torch.Size([4])\n",
      "08/15/2023, 20:30:58# predicted of 20000: tensor([119,  87, 101,  70], device='cuda:0') torch.Size([4])\n",
      "08/15/2023, 20:32:36# labels of 25000: tensor([ 89, 100, 101, 105], device='cuda:0') torch.Size([4])\n",
      "08/15/2023, 20:32:36# predicted of 25000: tensor([81, 80, 76, 86], device='cuda:0') torch.Size([4])\n",
      "08/15/2023, 20:33:28# total count: 28750\n",
      "08/15/2023, 20:33:28# Epoch 11 | Train Loss: 2.5916 | Train Accuracy: 0.1432\n",
      "08/15/2023, 20:33:28# labels of False: tensor([ 71,  71, 119,  77], device='cuda:0') torch.Size([4])\n",
      "08/15/2023, 20:33:28# predicted of False: tensor([90, 90, 90, 90], device='cuda:0') torch.Size([4])\n",
      "08/15/2023, 20:33:28# labels of False: tensor([ 82, 103, 103,  76], device='cuda:0') torch.Size([4])\n",
      "08/15/2023, 20:33:28# predicted of False: tensor([90, 90, 90, 90], device='cuda:0') torch.Size([4])\n",
      "08/15/2023, 20:33:28# labels of False: tensor([76], device='cuda:0') torch.Size([1])\n",
      "08/15/2023, 20:33:28# predicted of False: tensor([90], device='cuda:0') torch.Size([1])\n",
      "08/15/2023, 20:33:28# Validation Loss: 4.5623 | Validation Accuracy: 0.0000\n"
     ]
    },
    {
     "data": {
      "application/vnd.jupyter.widget-view+json": {
       "model_id": "cc7c3865162c44a187131f00c5f56e24",
       "version_major": 2,
       "version_minor": 0
      },
      "text/plain": [
       "Training:   0%|          | 0/28750 [00:00<?, ?it/s]"
      ]
     },
     "metadata": {},
     "output_type": "display_data"
    },
    {
     "name": "stdout",
     "output_type": "stream",
     "text": [
      "08/15/2023, 20:35:15# labels of 5000: tensor([84, 82, 86, 87], device='cuda:0') torch.Size([4])\n",
      "08/15/2023, 20:35:15# predicted of 5000: tensor([102,  76,  85,  87], device='cuda:0') torch.Size([4])\n",
      "08/15/2023, 20:37:03# labels of 10000: tensor([ 76,  70,  71, 119], device='cuda:0') torch.Size([4])\n",
      "08/15/2023, 20:37:03# predicted of 10000: tensor([ 76,  82,  79, 119], device='cuda:0') torch.Size([4])\n",
      "08/15/2023, 20:38:47# labels of 15000: tensor([87, 88, 90, 89], device='cuda:0') torch.Size([4])\n",
      "08/15/2023, 20:38:47# predicted of 15000: tensor([80, 70, 90, 86], device='cuda:0') torch.Size([4])\n",
      "08/15/2023, 20:40:30# labels of 20000: tensor([119,  78,  79,  77], device='cuda:0') torch.Size([4])\n",
      "08/15/2023, 20:40:30# predicted of 20000: tensor([119, 104,  76, 103], device='cuda:0') torch.Size([4])\n",
      "08/15/2023, 20:42:12# labels of 25000: tensor([ 89, 100, 101, 105], device='cuda:0') torch.Size([4])\n",
      "08/15/2023, 20:42:12# predicted of 25000: tensor([ 85, 100,  82, 100], device='cuda:0') torch.Size([4])\n",
      "08/15/2023, 20:43:15# total count: 28750\n",
      "08/15/2023, 20:43:15# Epoch 12 | Train Loss: 2.5838 | Train Accuracy: 0.1445\n",
      "08/15/2023, 20:43:15# labels of False: tensor([ 71,  71, 119,  77], device='cuda:0') torch.Size([4])\n",
      "08/15/2023, 20:43:15# predicted of False: tensor([89, 89, 89, 89], device='cuda:0') torch.Size([4])\n",
      "08/15/2023, 20:43:15# labels of False: tensor([ 82, 103, 103,  76], device='cuda:0') torch.Size([4])\n",
      "08/15/2023, 20:43:15# predicted of False: tensor([89, 89, 89, 89], device='cuda:0') torch.Size([4])\n",
      "08/15/2023, 20:43:15# labels of False: tensor([76], device='cuda:0') torch.Size([1])\n",
      "08/15/2023, 20:43:15# predicted of False: tensor([89], device='cuda:0') torch.Size([1])\n",
      "08/15/2023, 20:43:15# Validation Loss: 4.6075 | Validation Accuracy: 0.0000\n"
     ]
    },
    {
     "data": {
      "application/vnd.jupyter.widget-view+json": {
       "model_id": "5d044c88e6864089a4d3205dbd9ef515",
       "version_major": 2,
       "version_minor": 0
      },
      "text/plain": [
       "Training:   0%|          | 0/28750 [00:00<?, ?it/s]"
      ]
     },
     "metadata": {},
     "output_type": "display_data"
    },
    {
     "name": "stdout",
     "output_type": "stream",
     "text": [
      "08/15/2023, 20:44:49# labels of 5000: tensor([84, 82, 86, 87], device='cuda:0') torch.Size([4])\n",
      "08/15/2023, 20:44:49# predicted of 5000: tensor([ 84,  79,  80, 102], device='cuda:0') torch.Size([4])\n",
      "08/15/2023, 20:46:20# labels of 10000: tensor([ 76,  70,  71, 119], device='cuda:0') torch.Size([4])\n",
      "08/15/2023, 20:46:20# predicted of 10000: tensor([ 76,  79,  76, 119], device='cuda:0') torch.Size([4])\n",
      "08/15/2023, 20:47:52# labels of 15000: tensor([87, 88, 90, 89], device='cuda:0') torch.Size([4])\n",
      "08/15/2023, 20:47:52# predicted of 15000: tensor([100,  80,  87,  90], device='cuda:0') torch.Size([4])\n",
      "08/15/2023, 20:49:22# labels of 20000: tensor([119,  78,  79,  77], device='cuda:0') torch.Size([4])\n",
      "08/15/2023, 20:49:22# predicted of 20000: tensor([119,  86, 101,  77], device='cuda:0') torch.Size([4])\n",
      "08/15/2023, 20:50:53# labels of 25000: tensor([ 89, 100, 101, 105], device='cuda:0') torch.Size([4])\n",
      "08/15/2023, 20:50:53# predicted of 25000: tensor([89, 70, 76, 77], device='cuda:0') torch.Size([4])\n",
      "08/15/2023, 20:52:03# total count: 28750\n",
      "08/15/2023, 20:52:03# Epoch 13 | Train Loss: 2.5773 | Train Accuracy: 0.1458\n",
      "08/15/2023, 20:52:03# labels of False: tensor([ 71,  71, 119,  77], device='cuda:0') torch.Size([4])\n",
      "08/15/2023, 20:52:03# predicted of False: tensor([90, 90, 90, 90], device='cuda:0') torch.Size([4])\n",
      "08/15/2023, 20:52:03# labels of False: tensor([ 82, 103, 103,  76], device='cuda:0') torch.Size([4])\n",
      "08/15/2023, 20:52:03# predicted of False: tensor([90, 90, 90, 90], device='cuda:0') torch.Size([4])\n",
      "08/15/2023, 20:52:03# labels of False: tensor([76], device='cuda:0') torch.Size([1])\n",
      "08/15/2023, 20:52:03# predicted of False: tensor([90], device='cuda:0') torch.Size([1])\n",
      "08/15/2023, 20:52:03# Validation Loss: 4.6365 | Validation Accuracy: 0.0000\n"
     ]
    },
    {
     "data": {
      "application/vnd.jupyter.widget-view+json": {
       "model_id": "18624f2b43b34d779b189122fdbee742",
       "version_major": 2,
       "version_minor": 0
      },
      "text/plain": [
       "Training:   0%|          | 0/28750 [00:00<?, ?it/s]"
      ]
     },
     "metadata": {},
     "output_type": "display_data"
    },
    {
     "name": "stdout",
     "output_type": "stream",
     "text": [
      "08/15/2023, 20:53:35# labels of 5000: tensor([84, 82, 86, 87], device='cuda:0') torch.Size([4])\n",
      "08/15/2023, 20:53:35# predicted of 5000: tensor([ 80,  76, 100,  84], device='cuda:0') torch.Size([4])\n",
      "08/15/2023, 20:55:09# labels of 10000: tensor([ 76,  70,  71, 119], device='cuda:0') torch.Size([4])\n",
      "08/15/2023, 20:55:09# predicted of 10000: tensor([ 76,  70,  76, 119], device='cuda:0') torch.Size([4])\n",
      "08/15/2023, 20:56:43# labels of 15000: tensor([87, 88, 90, 89], device='cuda:0') torch.Size([4])\n",
      "08/15/2023, 20:56:43# predicted of 15000: tensor([90, 86, 86, 87], device='cuda:0') torch.Size([4])\n",
      "08/15/2023, 20:58:14# labels of 20000: tensor([119,  78,  79,  77], device='cuda:0') torch.Size([4])\n",
      "08/15/2023, 20:58:14# predicted of 20000: tensor([119, 102,  76,  82], device='cuda:0') torch.Size([4])\n",
      "08/15/2023, 20:59:47# labels of 25000: tensor([ 89, 100, 101, 105], device='cuda:0') torch.Size([4])\n",
      "08/15/2023, 20:59:47# predicted of 25000: tensor([ 81,  80,  79, 100], device='cuda:0') torch.Size([4])\n",
      "08/15/2023, 21:00:54# total count: 28750\n",
      "08/15/2023, 21:00:54# Epoch 14 | Train Loss: 2.5708 | Train Accuracy: 0.1464\n",
      "08/15/2023, 21:00:54# labels of False: tensor([ 71,  71, 119,  77], device='cuda:0') torch.Size([4])\n",
      "08/15/2023, 21:00:54# predicted of False: tensor([85, 85, 85, 85], device='cuda:0') torch.Size([4])\n",
      "08/15/2023, 21:00:54# labels of False: tensor([ 82, 103, 103,  76], device='cuda:0') torch.Size([4])\n",
      "08/15/2023, 21:00:54# predicted of False: tensor([85, 85, 85, 85], device='cuda:0') torch.Size([4])\n",
      "08/15/2023, 21:00:54# labels of False: tensor([76], device='cuda:0') torch.Size([1])\n",
      "08/15/2023, 21:00:54# predicted of False: tensor([85], device='cuda:0') torch.Size([1])\n",
      "08/15/2023, 21:00:54# Validation Loss: 4.6918 | Validation Accuracy: 0.0000\n"
     ]
    },
    {
     "data": {
      "application/vnd.jupyter.widget-view+json": {
       "model_id": "fb8f2cfc40fa4570abc5166be7306347",
       "version_major": 2,
       "version_minor": 0
      },
      "text/plain": [
       "Training:   0%|          | 0/28750 [00:00<?, ?it/s]"
      ]
     },
     "metadata": {},
     "output_type": "display_data"
    },
    {
     "name": "stdout",
     "output_type": "stream",
     "text": [
      "08/15/2023, 21:02:24# labels of 5000: tensor([84, 82, 86, 87], device='cuda:0') torch.Size([4])\n",
      "08/15/2023, 21:02:24# predicted of 5000: tensor([78, 76, 87, 86], device='cuda:0') torch.Size([4])\n",
      "08/15/2023, 21:03:56# labels of 10000: tensor([ 76,  70,  71, 119], device='cuda:0') torch.Size([4])\n",
      "08/15/2023, 21:03:56# predicted of 10000: tensor([ 76,  76,  76, 119], device='cuda:0') torch.Size([4])\n",
      "08/15/2023, 21:05:30# labels of 15000: tensor([87, 88, 90, 89], device='cuda:0') torch.Size([4])\n",
      "08/15/2023, 21:05:30# predicted of 15000: tensor([80, 80, 80, 89], device='cuda:0') torch.Size([4])\n",
      "08/15/2023, 21:07:01# labels of 20000: tensor([119,  78,  79,  77], device='cuda:0') torch.Size([4])\n",
      "08/15/2023, 21:07:01# predicted of 20000: tensor([119,  85,  76,  76], device='cuda:0') torch.Size([4])\n",
      "08/15/2023, 21:08:34# labels of 25000: tensor([ 89, 100, 101, 105], device='cuda:0') torch.Size([4])\n",
      "08/15/2023, 21:08:34# predicted of 25000: tensor([ 78,  89,  76, 102], device='cuda:0') torch.Size([4])\n",
      "08/15/2023, 21:09:43# total count: 28750\n",
      "08/15/2023, 21:09:43# Epoch 15 | Train Loss: 2.5663 | Train Accuracy: 0.1473\n",
      "08/15/2023, 21:09:43# labels of False: tensor([ 71,  71, 119,  77], device='cuda:0') torch.Size([4])\n",
      "08/15/2023, 21:09:43# predicted of False: tensor([105, 105, 105, 105], device='cuda:0') torch.Size([4])\n",
      "08/15/2023, 21:09:43# labels of False: tensor([ 82, 103, 103,  76], device='cuda:0') torch.Size([4])\n",
      "08/15/2023, 21:09:43# predicted of False: tensor([105, 105, 105, 105], device='cuda:0') torch.Size([4])\n",
      "08/15/2023, 21:09:43# labels of False: tensor([76], device='cuda:0') torch.Size([1])\n",
      "08/15/2023, 21:09:43# predicted of False: tensor([105], device='cuda:0') torch.Size([1])\n",
      "08/15/2023, 21:09:43# Validation Loss: 4.7221 | Validation Accuracy: 0.0000\n"
     ]
    },
    {
     "data": {
      "application/vnd.jupyter.widget-view+json": {
       "model_id": "c61e8377960644548ceb95424469ad57",
       "version_major": 2,
       "version_minor": 0
      },
      "text/plain": [
       "Training:   0%|          | 0/28750 [00:00<?, ?it/s]"
      ]
     },
     "metadata": {},
     "output_type": "display_data"
    },
    {
     "name": "stdout",
     "output_type": "stream",
     "text": [
      "08/15/2023, 21:11:17# labels of 5000: tensor([84, 82, 86, 87], device='cuda:0') torch.Size([4])\n",
      "08/15/2023, 21:11:17# predicted of 5000: tensor([ 88, 101,  77, 104], device='cuda:0') torch.Size([4])\n",
      "08/15/2023, 21:12:50# labels of 10000: tensor([ 76,  70,  71, 119], device='cuda:0') torch.Size([4])\n",
      "08/15/2023, 21:12:50# predicted of 10000: tensor([ 76, 103,  76, 119], device='cuda:0') torch.Size([4])\n",
      "08/15/2023, 21:14:23# labels of 15000: tensor([87, 88, 90, 89], device='cuda:0') torch.Size([4])\n",
      "08/15/2023, 21:14:23# predicted of 15000: tensor([ 81, 105, 100, 105], device='cuda:0') torch.Size([4])\n",
      "08/15/2023, 21:15:55# labels of 20000: tensor([119,  78,  79,  77], device='cuda:0') torch.Size([4])\n",
      "08/15/2023, 21:15:55# predicted of 20000: tensor([119,  80,  76,  71], device='cuda:0') torch.Size([4])\n",
      "08/15/2023, 21:17:27# labels of 25000: tensor([ 89, 100, 101, 105], device='cuda:0') torch.Size([4])\n",
      "08/15/2023, 21:17:27# predicted of 25000: tensor([105,  89,  79,  80], device='cuda:0') torch.Size([4])\n",
      "08/15/2023, 21:18:36# total count: 28750\n",
      "08/15/2023, 21:18:36# Epoch 16 | Train Loss: 2.5619 | Train Accuracy: 0.1478\n",
      "08/15/2023, 21:18:36# labels of False: tensor([ 71,  71, 119,  77], device='cuda:0') torch.Size([4])\n",
      "08/15/2023, 21:18:36# predicted of False: tensor([88, 88, 88, 88], device='cuda:0') torch.Size([4])\n",
      "08/15/2023, 21:18:36# labels of False: tensor([ 82, 103, 103,  76], device='cuda:0') torch.Size([4])\n",
      "08/15/2023, 21:18:36# predicted of False: tensor([88, 88, 88, 88], device='cuda:0') torch.Size([4])\n",
      "08/15/2023, 21:18:36# labels of False: tensor([76], device='cuda:0') torch.Size([1])\n",
      "08/15/2023, 21:18:36# predicted of False: tensor([88], device='cuda:0') torch.Size([1])\n",
      "08/15/2023, 21:18:36# Validation Loss: 4.7261 | Validation Accuracy: 0.0000\n"
     ]
    },
    {
     "data": {
      "application/vnd.jupyter.widget-view+json": {
       "model_id": "497d41fd6dca4105bb71a5218e301883",
       "version_major": 2,
       "version_minor": 0
      },
      "text/plain": [
       "Training:   0%|          | 0/28750 [00:00<?, ?it/s]"
      ]
     },
     "metadata": {},
     "output_type": "display_data"
    },
    {
     "name": "stdout",
     "output_type": "stream",
     "text": [
      "08/15/2023, 21:20:09# labels of 5000: tensor([84, 82, 86, 87], device='cuda:0') torch.Size([4])\n",
      "08/15/2023, 21:20:09# predicted of 5000: tensor([90, 76, 78, 90], device='cuda:0') torch.Size([4])\n",
      "08/15/2023, 21:21:42# labels of 10000: tensor([ 76,  70,  71, 119], device='cuda:0') torch.Size([4])\n",
      "08/15/2023, 21:21:42# predicted of 10000: tensor([ 76,  79,  76, 119], device='cuda:0') torch.Size([4])\n",
      "08/15/2023, 21:23:14# labels of 15000: tensor([87, 88, 90, 89], device='cuda:0') torch.Size([4])\n",
      "08/15/2023, 21:23:14# predicted of 15000: tensor([ 85,  85,  87, 104], device='cuda:0') torch.Size([4])\n",
      "08/15/2023, 21:24:44# labels of 20000: tensor([119,  78,  79,  77], device='cuda:0') torch.Size([4])\n",
      "08/15/2023, 21:24:44# predicted of 20000: tensor([119,  85,  76,  82], device='cuda:0') torch.Size([4])\n",
      "08/15/2023, 21:26:15# labels of 25000: tensor([ 89, 100, 101, 105], device='cuda:0') torch.Size([4])\n",
      "08/15/2023, 21:26:15# predicted of 25000: tensor([104,  86,  76,  78], device='cuda:0') torch.Size([4])\n",
      "08/15/2023, 21:27:24# total count: 28750\n",
      "08/15/2023, 21:27:24# Epoch 17 | Train Loss: 2.5585 | Train Accuracy: 0.1477\n",
      "08/15/2023, 21:27:24# labels of False: tensor([ 71,  71, 119,  77], device='cuda:0') torch.Size([4])\n",
      "08/15/2023, 21:27:24# predicted of False: tensor([86, 86, 86, 86], device='cuda:0') torch.Size([4])\n",
      "08/15/2023, 21:27:24# labels of False: tensor([ 82, 103, 103,  76], device='cuda:0') torch.Size([4])\n",
      "08/15/2023, 21:27:24# predicted of False: tensor([86, 86, 86, 86], device='cuda:0') torch.Size([4])\n",
      "08/15/2023, 21:27:24# labels of False: tensor([76], device='cuda:0') torch.Size([1])\n",
      "08/15/2023, 21:27:24# predicted of False: tensor([86], device='cuda:0') torch.Size([1])\n",
      "08/15/2023, 21:27:24# Validation Loss: 4.7937 | Validation Accuracy: 0.0000\n"
     ]
    },
    {
     "data": {
      "application/vnd.jupyter.widget-view+json": {
       "model_id": "9240d72e204244e8811ac29a02b84f46",
       "version_major": 2,
       "version_minor": 0
      },
      "text/plain": [
       "Training:   0%|          | 0/28750 [00:00<?, ?it/s]"
      ]
     },
     "metadata": {},
     "output_type": "display_data"
    },
    {
     "name": "stdout",
     "output_type": "stream",
     "text": [
      "08/15/2023, 21:28:56# labels of 5000: tensor([84, 82, 86, 87], device='cuda:0') torch.Size([4])\n",
      "08/15/2023, 21:28:56# predicted of 5000: tensor([105,  76,  88, 102], device='cuda:0') torch.Size([4])\n",
      "08/15/2023, 21:30:30# labels of 10000: tensor([ 76,  70,  71, 119], device='cuda:0') torch.Size([4])\n",
      "08/15/2023, 21:30:30# predicted of 10000: tensor([ 76,  79,  76, 119], device='cuda:0') torch.Size([4])\n",
      "08/15/2023, 21:32:02# labels of 15000: tensor([87, 88, 90, 89], device='cuda:0') torch.Size([4])\n",
      "08/15/2023, 21:32:02# predicted of 15000: tensor([100,  85,  89, 100], device='cuda:0') torch.Size([4])\n",
      "08/15/2023, 21:33:33# labels of 20000: tensor([119,  78,  79,  77], device='cuda:0') torch.Size([4])\n",
      "08/15/2023, 21:33:33# predicted of 20000: tensor([119, 100,  76,  82], device='cuda:0') torch.Size([4])\n",
      "08/15/2023, 21:35:05# labels of 25000: tensor([ 89, 100, 101, 105], device='cuda:0') torch.Size([4])\n",
      "08/15/2023, 21:35:05# predicted of 25000: tensor([84, 86, 82, 81], device='cuda:0') torch.Size([4])\n",
      "08/15/2023, 21:36:14# total count: 28750\n",
      "08/15/2023, 21:36:14# Epoch 18 | Train Loss: 2.5544 | Train Accuracy: 0.1491\n",
      "08/15/2023, 21:36:14# labels of False: tensor([ 71,  71, 119,  77], device='cuda:0') torch.Size([4])\n",
      "08/15/2023, 21:36:14# predicted of False: tensor([90, 90, 90, 90], device='cuda:0') torch.Size([4])\n",
      "08/15/2023, 21:36:14# labels of False: tensor([ 82, 103, 103,  76], device='cuda:0') torch.Size([4])\n",
      "08/15/2023, 21:36:14# predicted of False: tensor([90, 90, 90, 90], device='cuda:0') torch.Size([4])\n",
      "08/15/2023, 21:36:14# labels of False: tensor([76], device='cuda:0') torch.Size([1])\n",
      "08/15/2023, 21:36:14# predicted of False: tensor([90], device='cuda:0') torch.Size([1])\n",
      "08/15/2023, 21:36:14# Validation Loss: 4.7873 | Validation Accuracy: 0.0000\n"
     ]
    },
    {
     "data": {
      "application/vnd.jupyter.widget-view+json": {
       "model_id": "de92ff08a582484bbc5a11514060348d",
       "version_major": 2,
       "version_minor": 0
      },
      "text/plain": [
       "Training:   0%|          | 0/28750 [00:00<?, ?it/s]"
      ]
     },
     "metadata": {},
     "output_type": "display_data"
    },
    {
     "name": "stdout",
     "output_type": "stream",
     "text": [
      "08/15/2023, 21:37:47# labels of 5000: tensor([84, 82, 86, 87], device='cuda:0') torch.Size([4])\n",
      "08/15/2023, 21:37:47# predicted of 5000: tensor([81, 76, 80, 90], device='cuda:0') torch.Size([4])\n",
      "08/15/2023, 21:39:18# labels of 10000: tensor([ 76,  70,  71, 119], device='cuda:0') torch.Size([4])\n",
      "08/15/2023, 21:39:18# predicted of 10000: tensor([ 76, 103,  79, 119], device='cuda:0') torch.Size([4])\n",
      "08/15/2023, 21:40:50# labels of 15000: tensor([87, 88, 90, 89], device='cuda:0') torch.Size([4])\n",
      "08/15/2023, 21:40:50# predicted of 15000: tensor([105,  87, 100,  78], device='cuda:0') torch.Size([4])\n",
      "08/15/2023, 21:42:20# labels of 20000: tensor([119,  78,  79,  77], device='cuda:0') torch.Size([4])\n",
      "08/15/2023, 21:42:20# predicted of 20000: tensor([119,  86,  82,  82], device='cuda:0') torch.Size([4])\n",
      "08/15/2023, 21:43:53# labels of 25000: tensor([ 89, 100, 101, 105], device='cuda:0') torch.Size([4])\n",
      "08/15/2023, 21:43:53# predicted of 25000: tensor([105,  84,  76,  70], device='cuda:0') torch.Size([4])\n",
      "08/15/2023, 21:45:02# total count: 28750\n",
      "08/15/2023, 21:45:02# Epoch 19 | Train Loss: 2.5514 | Train Accuracy: 0.1489\n",
      "08/15/2023, 21:45:02# labels of False: tensor([ 71,  71, 119,  77], device='cuda:0') torch.Size([4])\n",
      "08/15/2023, 21:45:02# predicted of False: tensor([87, 87, 87, 87], device='cuda:0') torch.Size([4])\n",
      "08/15/2023, 21:45:02# labels of False: tensor([ 82, 103, 103,  76], device='cuda:0') torch.Size([4])\n",
      "08/15/2023, 21:45:02# predicted of False: tensor([87, 87, 87, 87], device='cuda:0') torch.Size([4])\n",
      "08/15/2023, 21:45:02# labels of False: tensor([76], device='cuda:0') torch.Size([1])\n",
      "08/15/2023, 21:45:02# predicted of False: tensor([87], device='cuda:0') torch.Size([1])\n",
      "08/15/2023, 21:45:02# Validation Loss: 4.8230 | Validation Accuracy: 0.0000\n"
     ]
    },
    {
     "data": {
      "application/vnd.jupyter.widget-view+json": {
       "model_id": "4fe7284ffcaf42be98e34661023675f1",
       "version_major": 2,
       "version_minor": 0
      },
      "text/plain": [
       "Training:   0%|          | 0/28750 [00:00<?, ?it/s]"
      ]
     },
     "metadata": {},
     "output_type": "display_data"
    },
    {
     "name": "stdout",
     "output_type": "stream",
     "text": [
      "08/15/2023, 21:46:34# labels of 5000: tensor([84, 82, 86, 87], device='cuda:0') torch.Size([4])\n",
      "08/15/2023, 21:46:34# predicted of 5000: tensor([ 85,  76, 100,  86], device='cuda:0') torch.Size([4])\n",
      "08/15/2023, 21:48:07# labels of 10000: tensor([ 76,  70,  71, 119], device='cuda:0') torch.Size([4])\n",
      "08/15/2023, 21:48:07# predicted of 10000: tensor([ 76,  70,  82, 119], device='cuda:0') torch.Size([4])\n",
      "08/15/2023, 21:49:40# labels of 15000: tensor([87, 88, 90, 89], device='cuda:0') torch.Size([4])\n",
      "08/15/2023, 21:49:40# predicted of 15000: tensor([ 80, 105,  86,  84], device='cuda:0') torch.Size([4])\n",
      "08/15/2023, 21:51:13# labels of 20000: tensor([119,  78,  79,  77], device='cuda:0') torch.Size([4])\n",
      "08/15/2023, 21:51:13# predicted of 20000: tensor([119,  85,  76, 103], device='cuda:0') torch.Size([4])\n",
      "08/15/2023, 21:52:46# labels of 25000: tensor([ 89, 100, 101, 105], device='cuda:0') torch.Size([4])\n",
      "08/15/2023, 21:52:46# predicted of 25000: tensor([102,  90,  76,  88], device='cuda:0') torch.Size([4])\n",
      "08/15/2023, 21:53:54# total count: 28750\n",
      "08/15/2023, 21:53:54# Epoch 20 | Train Loss: 2.5488 | Train Accuracy: 0.1489\n",
      "08/15/2023, 21:53:54# labels of False: tensor([ 71,  71, 119,  77], device='cuda:0') torch.Size([4])\n",
      "08/15/2023, 21:53:54# predicted of False: tensor([90, 90, 90, 90], device='cuda:0') torch.Size([4])\n",
      "08/15/2023, 21:53:54# labels of False: tensor([ 82, 103, 103,  76], device='cuda:0') torch.Size([4])\n",
      "08/15/2023, 21:53:54# predicted of False: tensor([90, 90, 90, 90], device='cuda:0') torch.Size([4])\n",
      "08/15/2023, 21:53:54# labels of False: tensor([76], device='cuda:0') torch.Size([1])\n",
      "08/15/2023, 21:53:54# predicted of False: tensor([90], device='cuda:0') torch.Size([1])\n",
      "08/15/2023, 21:53:54# Validation Loss: 4.8501 | Validation Accuracy: 0.0000\n"
     ]
    },
    {
     "data": {
      "application/vnd.jupyter.widget-view+json": {
       "model_id": "2ba8b5c792414a5c91b5aacd8079b9e9",
       "version_major": 2,
       "version_minor": 0
      },
      "text/plain": [
       "Training:   0%|          | 0/28750 [00:00<?, ?it/s]"
      ]
     },
     "metadata": {},
     "output_type": "display_data"
    },
    {
     "name": "stdout",
     "output_type": "stream",
     "text": [
      "08/15/2023, 21:55:24# labels of 5000: tensor([84, 82, 86, 87], device='cuda:0') torch.Size([4])\n",
      "08/15/2023, 21:55:24# predicted of 5000: tensor([104,  82,  81,  80], device='cuda:0') torch.Size([4])\n",
      "08/15/2023, 21:56:55# labels of 10000: tensor([ 76,  70,  71, 119], device='cuda:0') torch.Size([4])\n",
      "08/15/2023, 21:56:55# predicted of 10000: tensor([ 76,  76,  76, 119], device='cuda:0') torch.Size([4])\n",
      "08/15/2023, 21:58:27# labels of 15000: tensor([87, 88, 90, 89], device='cuda:0') torch.Size([4])\n",
      "08/15/2023, 21:58:27# predicted of 15000: tensor([85, 84, 78, 77], device='cuda:0') torch.Size([4])\n",
      "08/15/2023, 22:00:00# labels of 20000: tensor([119,  78,  79,  77], device='cuda:0') torch.Size([4])\n",
      "08/15/2023, 22:00:00# predicted of 20000: tensor([119,  90,  76,  71], device='cuda:0') torch.Size([4])\n",
      "08/15/2023, 22:01:32# labels of 25000: tensor([ 89, 100, 101, 105], device='cuda:0') torch.Size([4])\n",
      "08/15/2023, 22:01:32# predicted of 25000: tensor([100,  70,  76,  78], device='cuda:0') torch.Size([4])\n",
      "08/15/2023, 22:02:41# total count: 28750\n",
      "08/15/2023, 22:02:41# Epoch 21 | Train Loss: 2.5465 | Train Accuracy: 0.1489\n",
      "08/15/2023, 22:02:41# labels of False: tensor([ 71,  71, 119,  77], device='cuda:0') torch.Size([4])\n",
      "08/15/2023, 22:02:41# predicted of False: tensor([90, 90, 90, 90], device='cuda:0') torch.Size([4])\n",
      "08/15/2023, 22:02:41# labels of False: tensor([ 82, 103, 103,  76], device='cuda:0') torch.Size([4])\n",
      "08/15/2023, 22:02:41# predicted of False: tensor([90, 90, 90, 90], device='cuda:0') torch.Size([4])\n",
      "08/15/2023, 22:02:41# labels of False: tensor([76], device='cuda:0') torch.Size([1])\n",
      "08/15/2023, 22:02:41# predicted of False: tensor([90], device='cuda:0') torch.Size([1])\n",
      "08/15/2023, 22:02:41# Validation Loss: 4.9003 | Validation Accuracy: 0.0000\n"
     ]
    },
    {
     "data": {
      "application/vnd.jupyter.widget-view+json": {
       "model_id": "7c4eae1b77f845cb8532d6d9522aa756",
       "version_major": 2,
       "version_minor": 0
      },
      "text/plain": [
       "Training:   0%|          | 0/28750 [00:00<?, ?it/s]"
      ]
     },
     "metadata": {},
     "output_type": "display_data"
    },
    {
     "name": "stdout",
     "output_type": "stream",
     "text": [
      "08/15/2023, 22:04:13# labels of 5000: tensor([84, 82, 86, 87], device='cuda:0') torch.Size([4])\n",
      "08/15/2023, 22:04:13# predicted of 5000: tensor([ 78,  76,  77, 102], device='cuda:0') torch.Size([4])\n",
      "08/15/2023, 22:05:45# labels of 10000: tensor([ 76,  70,  71, 119], device='cuda:0') torch.Size([4])\n",
      "08/15/2023, 22:05:45# predicted of 10000: tensor([ 76,  82,  76, 119], device='cuda:0') torch.Size([4])\n",
      "08/15/2023, 22:07:19# labels of 15000: tensor([87, 88, 90, 89], device='cuda:0') torch.Size([4])\n",
      "08/15/2023, 22:07:19# predicted of 15000: tensor([ 89,  80, 103,  88], device='cuda:0') torch.Size([4])\n",
      "08/15/2023, 22:08:51# labels of 20000: tensor([119,  78,  79,  77], device='cuda:0') torch.Size([4])\n",
      "08/15/2023, 22:08:51# predicted of 20000: tensor([119, 102,  76,  82], device='cuda:0') torch.Size([4])\n",
      "08/15/2023, 22:10:22# labels of 25000: tensor([ 89, 100, 101, 105], device='cuda:0') torch.Size([4])\n",
      "08/15/2023, 22:10:22# predicted of 25000: tensor([ 78,  86,  76, 100], device='cuda:0') torch.Size([4])\n",
      "08/15/2023, 22:11:29# total count: 28750\n",
      "08/15/2023, 22:11:29# Epoch 22 | Train Loss: 2.5446 | Train Accuracy: 0.1512\n",
      "08/15/2023, 22:11:29# labels of False: tensor([ 71,  71, 119,  77], device='cuda:0') torch.Size([4])\n",
      "08/15/2023, 22:11:29# predicted of False: tensor([88, 88, 88, 88], device='cuda:0') torch.Size([4])\n",
      "08/15/2023, 22:11:29# labels of False: tensor([ 82, 103, 103,  76], device='cuda:0') torch.Size([4])\n",
      "08/15/2023, 22:11:29# predicted of False: tensor([88, 88, 88, 88], device='cuda:0') torch.Size([4])\n",
      "08/15/2023, 22:11:29# labels of False: tensor([76], device='cuda:0') torch.Size([1])\n",
      "08/15/2023, 22:11:29# predicted of False: tensor([88], device='cuda:0') torch.Size([1])\n",
      "08/15/2023, 22:11:29# Validation Loss: 4.8942 | Validation Accuracy: 0.0000\n"
     ]
    },
    {
     "data": {
      "application/vnd.jupyter.widget-view+json": {
       "model_id": "fd1198edde42457da2e5d686cf57040b",
       "version_major": 2,
       "version_minor": 0
      },
      "text/plain": [
       "Training:   0%|          | 0/28750 [00:00<?, ?it/s]"
      ]
     },
     "metadata": {},
     "output_type": "display_data"
    },
    {
     "name": "stdout",
     "output_type": "stream",
     "text": [
      "08/15/2023, 22:13:01# labels of 5000: tensor([84, 82, 86, 87], device='cuda:0') torch.Size([4])\n",
      "08/15/2023, 22:13:01# predicted of 5000: tensor([84, 76, 81, 85], device='cuda:0') torch.Size([4])\n",
      "08/15/2023, 22:14:34# labels of 10000: tensor([ 76,  70,  71, 119], device='cuda:0') torch.Size([4])\n",
      "08/15/2023, 22:14:34# predicted of 10000: tensor([ 76,  71,  76, 119], device='cuda:0') torch.Size([4])\n",
      "08/15/2023, 22:16:06# labels of 15000: tensor([87, 88, 90, 89], device='cuda:0') torch.Size([4])\n",
      "08/15/2023, 22:16:06# predicted of 15000: tensor([ 78, 105,  87, 105], device='cuda:0') torch.Size([4])\n",
      "08/15/2023, 22:17:39# labels of 20000: tensor([119,  78,  79,  77], device='cuda:0') torch.Size([4])\n",
      "08/15/2023, 22:17:39# predicted of 20000: tensor([119, 105,  76,  77], device='cuda:0') torch.Size([4])\n",
      "08/15/2023, 22:19:11# labels of 25000: tensor([ 89, 100, 101, 105], device='cuda:0') torch.Size([4])\n",
      "08/15/2023, 22:19:11# predicted of 25000: tensor([104, 104,  71,  87], device='cuda:0') torch.Size([4])\n",
      "08/15/2023, 22:20:18# total count: 28750\n",
      "08/15/2023, 22:20:18# Epoch 23 | Train Loss: 2.5429 | Train Accuracy: 0.1500\n",
      "08/15/2023, 22:20:18# labels of False: tensor([ 71,  71, 119,  77], device='cuda:0') torch.Size([4])\n",
      "08/15/2023, 22:20:18# predicted of False: tensor([90, 90, 90, 90], device='cuda:0') torch.Size([4])\n",
      "08/15/2023, 22:20:18# labels of False: tensor([ 82, 103, 103,  76], device='cuda:0') torch.Size([4])\n",
      "08/15/2023, 22:20:18# predicted of False: tensor([90, 90, 90, 90], device='cuda:0') torch.Size([4])\n",
      "08/15/2023, 22:20:18# labels of False: tensor([76], device='cuda:0') torch.Size([1])\n",
      "08/15/2023, 22:20:18# predicted of False: tensor([90], device='cuda:0') torch.Size([1])\n",
      "08/15/2023, 22:20:18# Validation Loss: 4.9008 | Validation Accuracy: 0.0000\n"
     ]
    },
    {
     "data": {
      "application/vnd.jupyter.widget-view+json": {
       "model_id": "8f5adaeeb1c44b92ab99be61c9a850d8",
       "version_major": 2,
       "version_minor": 0
      },
      "text/plain": [
       "Training:   0%|          | 0/28750 [00:00<?, ?it/s]"
      ]
     },
     "metadata": {},
     "output_type": "display_data"
    },
    {
     "name": "stdout",
     "output_type": "stream",
     "text": [
      "08/15/2023, 22:21:42# labels of 5000: tensor([84, 82, 86, 87], device='cuda:0') torch.Size([4])\n",
      "08/15/2023, 22:21:42# predicted of 5000: tensor([ 85,  76, 102,  89], device='cuda:0') torch.Size([4])\n",
      "08/15/2023, 22:23:05# labels of 10000: tensor([ 76,  70,  71, 119], device='cuda:0') torch.Size([4])\n",
      "08/15/2023, 22:23:05# predicted of 10000: tensor([ 76,  82,  79, 119], device='cuda:0') torch.Size([4])\n",
      "08/15/2023, 22:24:25# labels of 15000: tensor([87, 88, 90, 89], device='cuda:0') torch.Size([4])\n",
      "08/15/2023, 22:24:25# predicted of 15000: tensor([104, 105,  80,  88], device='cuda:0') torch.Size([4])\n",
      "08/15/2023, 22:25:50# labels of 20000: tensor([119,  78,  79,  77], device='cuda:0') torch.Size([4])\n",
      "08/15/2023, 22:25:50# predicted of 20000: tensor([119,  87,  76,  90], device='cuda:0') torch.Size([4])\n",
      "08/15/2023, 22:27:12# labels of 25000: tensor([ 89, 100, 101, 105], device='cuda:0') torch.Size([4])\n",
      "08/15/2023, 22:27:12# predicted of 25000: tensor([88, 80, 79, 80], device='cuda:0') torch.Size([4])\n",
      "08/15/2023, 22:28:14# total count: 28750\n",
      "08/15/2023, 22:28:14# Epoch 24 | Train Loss: 2.5404 | Train Accuracy: 0.1507\n",
      "08/15/2023, 22:28:14# labels of False: tensor([ 71,  71, 119,  77], device='cuda:0') torch.Size([4])\n",
      "08/15/2023, 22:28:14# predicted of False: tensor([90, 90, 90, 90], device='cuda:0') torch.Size([4])\n",
      "08/15/2023, 22:28:14# labels of False: tensor([ 82, 103, 103,  76], device='cuda:0') torch.Size([4])\n",
      "08/15/2023, 22:28:14# predicted of False: tensor([90, 90, 90, 90], device='cuda:0') torch.Size([4])\n",
      "08/15/2023, 22:28:14# labels of False: tensor([76], device='cuda:0') torch.Size([1])\n",
      "08/15/2023, 22:28:14# predicted of False: tensor([90], device='cuda:0') torch.Size([1])\n",
      "08/15/2023, 22:28:14# Validation Loss: 4.9288 | Validation Accuracy: 0.0000\n"
     ]
    },
    {
     "data": {
      "application/vnd.jupyter.widget-view+json": {
       "model_id": "53c6313aedab45978e6820d4d3825978",
       "version_major": 2,
       "version_minor": 0
      },
      "text/plain": [
       "Training:   0%|          | 0/28750 [00:00<?, ?it/s]"
      ]
     },
     "metadata": {},
     "output_type": "display_data"
    },
    {
     "name": "stdout",
     "output_type": "stream",
     "text": [
      "08/15/2023, 22:29:38# labels of 5000: tensor([84, 82, 86, 87], device='cuda:0') torch.Size([4])\n",
      "08/15/2023, 22:29:38# predicted of 5000: tensor([102,  76,  80,  88], device='cuda:0') torch.Size([4])\n",
      "08/15/2023, 22:31:00# labels of 10000: tensor([ 76,  70,  71, 119], device='cuda:0') torch.Size([4])\n",
      "08/15/2023, 22:31:00# predicted of 10000: tensor([ 76,  82, 101, 119], device='cuda:0') torch.Size([4])\n",
      "08/15/2023, 22:32:25# labels of 15000: tensor([87, 88, 90, 89], device='cuda:0') torch.Size([4])\n",
      "08/15/2023, 22:32:25# predicted of 15000: tensor([104, 105,  80, 105], device='cuda:0') torch.Size([4])\n",
      "08/15/2023, 22:33:52# labels of 20000: tensor([119,  78,  79,  77], device='cuda:0') torch.Size([4])\n",
      "08/15/2023, 22:33:52# predicted of 20000: tensor([119,  81,  76,  79], device='cuda:0') torch.Size([4])\n",
      "08/15/2023, 22:35:16# labels of 25000: tensor([ 89, 100, 101, 105], device='cuda:0') torch.Size([4])\n",
      "08/15/2023, 22:35:16# predicted of 25000: tensor([103, 100,  76,  85], device='cuda:0') torch.Size([4])\n",
      "08/15/2023, 22:36:20# total count: 28750\n",
      "08/15/2023, 22:36:20# Epoch 25 | Train Loss: 2.5394 | Train Accuracy: 0.1512\n",
      "08/15/2023, 22:36:20# labels of False: tensor([ 71,  71, 119,  77], device='cuda:0') torch.Size([4])\n",
      "08/15/2023, 22:36:20# predicted of False: tensor([89, 89, 89, 89], device='cuda:0') torch.Size([4])\n",
      "08/15/2023, 22:36:20# labels of False: tensor([ 82, 103, 103,  76], device='cuda:0') torch.Size([4])\n",
      "08/15/2023, 22:36:20# predicted of False: tensor([89, 89, 89, 89], device='cuda:0') torch.Size([4])\n",
      "08/15/2023, 22:36:20# labels of False: tensor([76], device='cuda:0') torch.Size([1])\n",
      "08/15/2023, 22:36:20# predicted of False: tensor([89], device='cuda:0') torch.Size([1])\n",
      "08/15/2023, 22:36:20# Validation Loss: 4.9275 | Validation Accuracy: 0.0000\n"
     ]
    },
    {
     "data": {
      "application/vnd.jupyter.widget-view+json": {
       "model_id": "b3ec2dcad0d2406489b203a1ca7f94f9",
       "version_major": 2,
       "version_minor": 0
      },
      "text/plain": [
       "Training:   0%|          | 0/28750 [00:00<?, ?it/s]"
      ]
     },
     "metadata": {},
     "output_type": "display_data"
    },
    {
     "name": "stdout",
     "output_type": "stream",
     "text": [
      "08/15/2023, 22:37:50# labels of 5000: tensor([84, 82, 86, 87], device='cuda:0') torch.Size([4])\n",
      "08/15/2023, 22:37:50# predicted of 5000: tensor([100,  76,  88, 100], device='cuda:0') torch.Size([4])\n",
      "08/15/2023, 22:39:15# labels of 10000: tensor([ 76,  70,  71, 119], device='cuda:0') torch.Size([4])\n",
      "08/15/2023, 22:39:15# predicted of 10000: tensor([ 76, 101,  76, 119], device='cuda:0') torch.Size([4])\n",
      "08/15/2023, 22:40:39# labels of 15000: tensor([87, 88, 90, 89], device='cuda:0') torch.Size([4])\n",
      "08/15/2023, 22:40:39# predicted of 15000: tensor([103, 104, 105, 102], device='cuda:0') torch.Size([4])\n",
      "08/15/2023, 22:42:05# labels of 20000: tensor([119,  78,  79,  77], device='cuda:0') torch.Size([4])\n",
      "08/15/2023, 22:42:05# predicted of 20000: tensor([119, 103,  71,  82], device='cuda:0') torch.Size([4])\n",
      "08/15/2023, 22:43:31# labels of 25000: tensor([ 89, 100, 101, 105], device='cuda:0') torch.Size([4])\n",
      "08/15/2023, 22:43:31# predicted of 25000: tensor([100,  90,  76, 102], device='cuda:0') torch.Size([4])\n",
      "08/15/2023, 22:44:35# total count: 28750\n",
      "08/15/2023, 22:44:35# Epoch 26 | Train Loss: 2.5383 | Train Accuracy: 0.1523\n",
      "08/15/2023, 22:44:35# labels of False: tensor([ 71,  71, 119,  77], device='cuda:0') torch.Size([4])\n",
      "08/15/2023, 22:44:35# predicted of False: tensor([87, 87, 87, 87], device='cuda:0') torch.Size([4])\n",
      "08/15/2023, 22:44:35# labels of False: tensor([ 82, 103, 103,  76], device='cuda:0') torch.Size([4])\n",
      "08/15/2023, 22:44:35# predicted of False: tensor([87, 87, 87, 87], device='cuda:0') torch.Size([4])\n",
      "08/15/2023, 22:44:35# labels of False: tensor([76], device='cuda:0') torch.Size([1])\n",
      "08/15/2023, 22:44:35# predicted of False: tensor([87], device='cuda:0') torch.Size([1])\n",
      "08/15/2023, 22:44:35# Validation Loss: 4.9884 | Validation Accuracy: 0.0000\n"
     ]
    },
    {
     "data": {
      "application/vnd.jupyter.widget-view+json": {
       "model_id": "d779ca2da0ff4e2ab61f40cce118596b",
       "version_major": 2,
       "version_minor": 0
      },
      "text/plain": [
       "Training:   0%|          | 0/28750 [00:00<?, ?it/s]"
      ]
     },
     "metadata": {},
     "output_type": "display_data"
    },
    {
     "name": "stdout",
     "output_type": "stream",
     "text": [
      "08/15/2023, 22:45:59# labels of 5000: tensor([84, 82, 86, 87], device='cuda:0') torch.Size([4])\n",
      "08/15/2023, 22:45:59# predicted of 5000: tensor([ 90,  76, 105,  85], device='cuda:0') torch.Size([4])\n",
      "08/15/2023, 22:47:24# labels of 10000: tensor([ 76,  70,  71, 119], device='cuda:0') torch.Size([4])\n",
      "08/15/2023, 22:47:24# predicted of 10000: tensor([ 76, 101,  76, 119], device='cuda:0') torch.Size([4])\n",
      "08/15/2023, 22:48:48# labels of 15000: tensor([87, 88, 90, 89], device='cuda:0') torch.Size([4])\n",
      "08/15/2023, 22:48:48# predicted of 15000: tensor([ 87,  87,  77, 104], device='cuda:0') torch.Size([4])\n",
      "08/15/2023, 22:50:12# labels of 20000: tensor([119,  78,  79,  77], device='cuda:0') torch.Size([4])\n",
      "08/15/2023, 22:50:12# predicted of 20000: tensor([119,  85,  76,  71], device='cuda:0') torch.Size([4])\n",
      "08/15/2023, 22:51:39# labels of 25000: tensor([ 89, 100, 101, 105], device='cuda:0') torch.Size([4])\n",
      "08/15/2023, 22:51:39# predicted of 25000: tensor([88, 77, 82, 90], device='cuda:0') torch.Size([4])\n",
      "08/15/2023, 22:52:40# total count: 28750\n",
      "08/15/2023, 22:52:40# Epoch 27 | Train Loss: 2.5371 | Train Accuracy: 0.1514\n",
      "08/15/2023, 22:52:40# labels of False: tensor([ 71,  71, 119,  77], device='cuda:0') torch.Size([4])\n",
      "08/15/2023, 22:52:40# predicted of False: tensor([85, 85, 85, 85], device='cuda:0') torch.Size([4])\n",
      "08/15/2023, 22:52:40# labels of False: tensor([ 82, 103, 103,  76], device='cuda:0') torch.Size([4])\n",
      "08/15/2023, 22:52:40# predicted of False: tensor([85, 85, 85, 85], device='cuda:0') torch.Size([4])\n",
      "08/15/2023, 22:52:40# labels of False: tensor([76], device='cuda:0') torch.Size([1])\n",
      "08/15/2023, 22:52:40# predicted of False: tensor([85], device='cuda:0') torch.Size([1])\n",
      "08/15/2023, 22:52:40# Validation Loss: 4.9948 | Validation Accuracy: 0.0000\n"
     ]
    },
    {
     "data": {
      "application/vnd.jupyter.widget-view+json": {
       "model_id": "39c843d6a64b4127a54e7476442df129",
       "version_major": 2,
       "version_minor": 0
      },
      "text/plain": [
       "Training:   0%|          | 0/28750 [00:00<?, ?it/s]"
      ]
     },
     "metadata": {},
     "output_type": "display_data"
    },
    {
     "name": "stdout",
     "output_type": "stream",
     "text": [
      "08/15/2023, 22:54:06# labels of 5000: tensor([84, 82, 86, 87], device='cuda:0') torch.Size([4])\n",
      "08/15/2023, 22:54:06# predicted of 5000: tensor([ 85,  76, 102, 100], device='cuda:0') torch.Size([4])\n",
      "08/15/2023, 22:55:30# labels of 10000: tensor([ 76,  70,  71, 119], device='cuda:0') torch.Size([4])\n",
      "08/15/2023, 22:55:30# predicted of 10000: tensor([ 76,  71,  76, 119], device='cuda:0') torch.Size([4])\n",
      "08/15/2023, 22:56:54# labels of 15000: tensor([87, 88, 90, 89], device='cuda:0') torch.Size([4])\n",
      "08/15/2023, 22:56:54# predicted of 15000: tensor([104,  81,  81,  87], device='cuda:0') torch.Size([4])\n",
      "08/15/2023, 22:58:20# labels of 20000: tensor([119,  78,  79,  77], device='cuda:0') torch.Size([4])\n",
      "08/15/2023, 22:58:20# predicted of 20000: tensor([119,  86,  71,  79], device='cuda:0') torch.Size([4])\n",
      "08/15/2023, 22:59:45# labels of 25000: tensor([ 89, 100, 101, 105], device='cuda:0') torch.Size([4])\n",
      "08/15/2023, 22:59:45# predicted of 25000: tensor([84, 84, 76, 80], device='cuda:0') torch.Size([4])\n",
      "08/15/2023, 23:00:48# total count: 28750\n",
      "08/15/2023, 23:00:48# Epoch 28 | Train Loss: 2.5364 | Train Accuracy: 0.1521\n",
      "08/15/2023, 23:00:48# labels of False: tensor([ 71,  71, 119,  77], device='cuda:0') torch.Size([4])\n",
      "08/15/2023, 23:00:48# predicted of False: tensor([89, 89, 89, 89], device='cuda:0') torch.Size([4])\n",
      "08/15/2023, 23:00:48# labels of False: tensor([ 82, 103, 103,  76], device='cuda:0') torch.Size([4])\n",
      "08/15/2023, 23:00:48# predicted of False: tensor([89, 89, 89, 89], device='cuda:0') torch.Size([4])\n",
      "08/15/2023, 23:00:48# labels of False: tensor([76], device='cuda:0') torch.Size([1])\n",
      "08/15/2023, 23:00:48# predicted of False: tensor([89], device='cuda:0') torch.Size([1])\n",
      "08/15/2023, 23:00:48# Validation Loss: 4.9363 | Validation Accuracy: 0.0000\n"
     ]
    },
    {
     "data": {
      "application/vnd.jupyter.widget-view+json": {
       "model_id": "b94529c0a30a4b5bbb076905613fdc58",
       "version_major": 2,
       "version_minor": 0
      },
      "text/plain": [
       "Training:   0%|          | 0/28750 [00:00<?, ?it/s]"
      ]
     },
     "metadata": {},
     "output_type": "display_data"
    },
    {
     "name": "stdout",
     "output_type": "stream",
     "text": [
      "08/15/2023, 23:02:12# labels of 5000: tensor([84, 82, 86, 87], device='cuda:0') torch.Size([4])\n",
      "08/15/2023, 23:02:12# predicted of 5000: tensor([104,  82,  78,  88], device='cuda:0') torch.Size([4])\n",
      "08/15/2023, 23:03:38# labels of 10000: tensor([ 76,  70,  71, 119], device='cuda:0') torch.Size([4])\n",
      "08/15/2023, 23:03:38# predicted of 10000: tensor([ 76,  70,  76, 119], device='cuda:0') torch.Size([4])\n",
      "08/15/2023, 23:05:03# labels of 15000: tensor([87, 88, 90, 89], device='cuda:0') torch.Size([4])\n",
      "08/15/2023, 23:05:03# predicted of 15000: tensor([103,  89, 104,  84], device='cuda:0') torch.Size([4])\n",
      "08/15/2023, 23:06:30# labels of 20000: tensor([119,  78,  79,  77], device='cuda:0') torch.Size([4])\n",
      "08/15/2023, 23:06:30# predicted of 20000: tensor([119, 102,  76,  82], device='cuda:0') torch.Size([4])\n",
      "08/15/2023, 23:07:55# labels of 25000: tensor([ 89, 100, 101, 105], device='cuda:0') torch.Size([4])\n",
      "08/15/2023, 23:07:55# predicted of 25000: tensor([ 85,  80,  82, 102], device='cuda:0') torch.Size([4])\n",
      "08/15/2023, 23:08:58# total count: 28750\n",
      "08/15/2023, 23:08:58# Epoch 29 | Train Loss: 2.5355 | Train Accuracy: 0.1508\n",
      "08/15/2023, 23:08:58# labels of False: tensor([ 71,  71, 119,  77], device='cuda:0') torch.Size([4])\n",
      "08/15/2023, 23:08:58# predicted of False: tensor([90, 90, 90, 90], device='cuda:0') torch.Size([4])\n",
      "08/15/2023, 23:08:58# labels of False: tensor([ 82, 103, 103,  76], device='cuda:0') torch.Size([4])\n",
      "08/15/2023, 23:08:58# predicted of False: tensor([90, 90, 90, 90], device='cuda:0') torch.Size([4])\n",
      "08/15/2023, 23:08:58# labels of False: tensor([76], device='cuda:0') torch.Size([1])\n",
      "08/15/2023, 23:08:58# predicted of False: tensor([90], device='cuda:0') torch.Size([1])\n",
      "08/15/2023, 23:08:58# Validation Loss: 4.9923 | Validation Accuracy: 0.0000\n"
     ]
    },
    {
     "data": {
      "application/vnd.jupyter.widget-view+json": {
       "model_id": "545e16f1475943d0882d00c0c4ab42ec",
       "version_major": 2,
       "version_minor": 0
      },
      "text/plain": [
       "Training:   0%|          | 0/28750 [00:00<?, ?it/s]"
      ]
     },
     "metadata": {},
     "output_type": "display_data"
    },
    {
     "name": "stdout",
     "output_type": "stream",
     "text": [
      "08/15/2023, 23:10:22# labels of 5000: tensor([84, 82, 86, 87], device='cuda:0') torch.Size([4])\n",
      "08/15/2023, 23:10:22# predicted of 5000: tensor([78, 76, 84, 78], device='cuda:0') torch.Size([4])\n",
      "08/15/2023, 23:11:46# labels of 10000: tensor([ 76,  70,  71, 119], device='cuda:0') torch.Size([4])\n",
      "08/15/2023, 23:11:46# predicted of 10000: tensor([ 76,  79,  76, 119], device='cuda:0') torch.Size([4])\n",
      "08/15/2023, 23:13:10# labels of 15000: tensor([87, 88, 90, 89], device='cuda:0') torch.Size([4])\n",
      "08/15/2023, 23:13:10# predicted of 15000: tensor([ 88,  89,  88, 105], device='cuda:0') torch.Size([4])\n",
      "08/15/2023, 23:14:34# labels of 20000: tensor([119,  78,  79,  77], device='cuda:0') torch.Size([4])\n",
      "08/15/2023, 23:14:34# predicted of 20000: tensor([119,  90,  76,  82], device='cuda:0') torch.Size([4])\n",
      "08/15/2023, 23:16:00# labels of 25000: tensor([ 89, 100, 101, 105], device='cuda:0') torch.Size([4])\n",
      "08/15/2023, 23:16:00# predicted of 25000: tensor([ 87, 104,  82,  85], device='cuda:0') torch.Size([4])\n",
      "08/15/2023, 23:17:06# total count: 28750\n",
      "08/15/2023, 23:17:06# Epoch 30 | Train Loss: 2.5343 | Train Accuracy: 0.1522\n",
      "08/15/2023, 23:17:06# labels of False: tensor([ 71,  71, 119,  77], device='cuda:0') torch.Size([4])\n",
      "08/15/2023, 23:17:06# predicted of False: tensor([85, 85, 85, 85], device='cuda:0') torch.Size([4])\n",
      "08/15/2023, 23:17:06# labels of False: tensor([ 82, 103, 103,  76], device='cuda:0') torch.Size([4])\n",
      "08/15/2023, 23:17:06# predicted of False: tensor([85, 85, 85, 85], device='cuda:0') torch.Size([4])\n",
      "08/15/2023, 23:17:06# labels of False: tensor([76], device='cuda:0') torch.Size([1])\n",
      "08/15/2023, 23:17:06# predicted of False: tensor([85], device='cuda:0') torch.Size([1])\n",
      "08/15/2023, 23:17:06# Validation Loss: 5.0077 | Validation Accuracy: 0.0000\n"
     ]
    },
    {
     "data": {
      "application/vnd.jupyter.widget-view+json": {
       "model_id": "516c5e6bc9ed4015ad5a80755706d8bd",
       "version_major": 2,
       "version_minor": 0
      },
      "text/plain": [
       "Training:   0%|          | 0/28750 [00:00<?, ?it/s]"
      ]
     },
     "metadata": {},
     "output_type": "display_data"
    },
    {
     "name": "stdout",
     "output_type": "stream",
     "text": [
      "08/15/2023, 23:18:32# labels of 5000: tensor([84, 82, 86, 87], device='cuda:0') torch.Size([4])\n",
      "08/15/2023, 23:18:32# predicted of 5000: tensor([ 85,  76,  78, 105], device='cuda:0') torch.Size([4])\n",
      "08/15/2023, 23:19:56# labels of 10000: tensor([ 76,  70,  71, 119], device='cuda:0') torch.Size([4])\n",
      "08/15/2023, 23:19:56# predicted of 10000: tensor([ 76,  79,  76, 119], device='cuda:0') torch.Size([4])\n",
      "08/15/2023, 23:21:21# labels of 15000: tensor([87, 88, 90, 89], device='cuda:0') torch.Size([4])\n",
      "08/15/2023, 23:21:21# predicted of 15000: tensor([ 85,  88, 100, 105], device='cuda:0') torch.Size([4])\n",
      "08/15/2023, 23:22:47# labels of 20000: tensor([119,  78,  79,  77], device='cuda:0') torch.Size([4])\n",
      "08/15/2023, 23:22:47# predicted of 20000: tensor([119,  87,  76,  70], device='cuda:0') torch.Size([4])\n",
      "08/15/2023, 23:24:11# labels of 25000: tensor([ 89, 100, 101, 105], device='cuda:0') torch.Size([4])\n",
      "08/15/2023, 23:24:11# predicted of 25000: tensor([ 81,  85,  76, 104], device='cuda:0') torch.Size([4])\n",
      "08/15/2023, 23:25:13# total count: 28750\n",
      "08/15/2023, 23:25:13# Epoch 31 | Train Loss: 2.5340 | Train Accuracy: 0.1510\n",
      "08/15/2023, 23:25:13# labels of False: tensor([ 71,  71, 119,  77], device='cuda:0') torch.Size([4])\n",
      "08/15/2023, 23:25:13# predicted of False: tensor([100, 100, 100, 100], device='cuda:0') torch.Size([4])\n",
      "08/15/2023, 23:25:13# labels of False: tensor([ 82, 103, 103,  76], device='cuda:0') torch.Size([4])\n",
      "08/15/2023, 23:25:13# predicted of False: tensor([100, 100, 100, 100], device='cuda:0') torch.Size([4])\n",
      "08/15/2023, 23:25:13# labels of False: tensor([76], device='cuda:0') torch.Size([1])\n",
      "08/15/2023, 23:25:13# predicted of False: tensor([100], device='cuda:0') torch.Size([1])\n",
      "08/15/2023, 23:25:13# Validation Loss: 5.0282 | Validation Accuracy: 0.0000\n"
     ]
    },
    {
     "data": {
      "application/vnd.jupyter.widget-view+json": {
       "model_id": "46fbd63da4e744b2b41c9e69545bf588",
       "version_major": 2,
       "version_minor": 0
      },
      "text/plain": [
       "Training:   0%|          | 0/28750 [00:00<?, ?it/s]"
      ]
     },
     "metadata": {},
     "output_type": "display_data"
    },
    {
     "name": "stdout",
     "output_type": "stream",
     "text": [
      "08/15/2023, 23:26:35# labels of 5000: tensor([84, 82, 86, 87], device='cuda:0') torch.Size([4])\n",
      "08/15/2023, 23:26:35# predicted of 5000: tensor([100,  76,  88,  89], device='cuda:0') torch.Size([4])\n",
      "08/15/2023, 23:28:01# labels of 10000: tensor([ 76,  70,  71, 119], device='cuda:0') torch.Size([4])\n",
      "08/15/2023, 23:28:01# predicted of 10000: tensor([ 76,  82,  76, 119], device='cuda:0') torch.Size([4])\n",
      "08/15/2023, 23:29:27# labels of 15000: tensor([87, 88, 90, 89], device='cuda:0') torch.Size([4])\n",
      "08/15/2023, 23:29:27# predicted of 15000: tensor([100, 104,  85,  85], device='cuda:0') torch.Size([4])\n",
      "08/15/2023, 23:30:50# labels of 20000: tensor([119,  78,  79,  77], device='cuda:0') torch.Size([4])\n",
      "08/15/2023, 23:30:50# predicted of 20000: tensor([119, 104,  79, 103], device='cuda:0') torch.Size([4])\n"
     ]
    },
    {
     "ename": "KeyboardInterrupt",
     "evalue": "",
     "output_type": "error",
     "traceback": [
      "\u001b[0;31m---------------------------------------------------------------------------\u001b[0m",
      "\u001b[0;31mKeyboardInterrupt\u001b[0m                         Traceback (most recent call last)",
      "\u001b[0;32m<ipython-input-37-94f74b80613d>\u001b[0m in \u001b[0;36m<module>\u001b[0;34m\u001b[0m\n\u001b[1;32m     34\u001b[0m \u001b[0;34m\u001b[0m\u001b[0m\n\u001b[1;32m     35\u001b[0m         \u001b[0mcount\u001b[0m \u001b[0;34m+=\u001b[0m \u001b[0;36m1\u001b[0m\u001b[0;34m\u001b[0m\u001b[0;34m\u001b[0m\u001b[0m\n\u001b[0;32m---> 36\u001b[0;31m         \u001b[0mloss\u001b[0m\u001b[0;34m,\u001b[0m \u001b[0maccuracy\u001b[0m\u001b[0;34m,\u001b[0m \u001b[0m_\u001b[0m \u001b[0;34m=\u001b[0m \u001b[0mmodel_fn\u001b[0m\u001b[0;34m(\u001b[0m\u001b[0mdata\u001b[0m\u001b[0;34m,\u001b[0m \u001b[0mmodel\u001b[0m\u001b[0;34m,\u001b[0m \u001b[0mcriterion\u001b[0m\u001b[0;34m,\u001b[0m \u001b[0mdevice\u001b[0m\u001b[0;34m,\u001b[0m \u001b[0mcount\u001b[0m\u001b[0;34m,\u001b[0m \u001b[0mtype\u001b[0m\u001b[0;34m=\u001b[0m\u001b[0;34m'train'\u001b[0m\u001b[0;34m)\u001b[0m\u001b[0;34m\u001b[0m\u001b[0;34m\u001b[0m\u001b[0m\n\u001b[0m\u001b[1;32m     37\u001b[0m \u001b[0;34m\u001b[0m\u001b[0m\n\u001b[1;32m     38\u001b[0m         \u001b[0moptimizer\u001b[0m\u001b[0;34m.\u001b[0m\u001b[0mzero_grad\u001b[0m\u001b[0;34m(\u001b[0m\u001b[0;34m)\u001b[0m\u001b[0;34m\u001b[0m\u001b[0;34m\u001b[0m\u001b[0m\n",
      "\u001b[0;32m<ipython-input-35-ea13fb1f146b>\u001b[0m in \u001b[0;36mmodel_fn\u001b[0;34m(data, model, criterion, device, count, type)\u001b[0m\n\u001b[1;32m      5\u001b[0m \u001b[0;34m\u001b[0m\u001b[0m\n\u001b[1;32m      6\u001b[0m     \u001b[0mlabels\u001b[0m \u001b[0;34m=\u001b[0m \u001b[0mlabels\u001b[0m\u001b[0;34m.\u001b[0m\u001b[0mto\u001b[0m\u001b[0;34m(\u001b[0m\u001b[0mdevice\u001b[0m\u001b[0;34m)\u001b[0m\u001b[0;34m\u001b[0m\u001b[0;34m\u001b[0m\u001b[0m\n\u001b[0;32m----> 7\u001b[0;31m     \u001b[0mlogits\u001b[0m \u001b[0;34m=\u001b[0m \u001b[0mmodel\u001b[0m\u001b[0;34m(\u001b[0m\u001b[0mbatched_g\u001b[0m\u001b[0;34m,\u001b[0m \u001b[0mbatched_g\u001b[0m\u001b[0;34m.\u001b[0m\u001b[0mndata\u001b[0m\u001b[0;34m[\u001b[0m\u001b[0;34m'feat'\u001b[0m\u001b[0;34m]\u001b[0m\u001b[0;34m.\u001b[0m\u001b[0mfloat\u001b[0m\u001b[0;34m(\u001b[0m\u001b[0;34m)\u001b[0m\u001b[0;34m)\u001b[0m \u001b[0;31m# for GAT\u001b[0m\u001b[0;34m\u001b[0m\u001b[0;34m\u001b[0m\u001b[0m\n\u001b[0m\u001b[1;32m      8\u001b[0m     \u001b[0mlogits\u001b[0m \u001b[0;34m=\u001b[0m \u001b[0mlogits\u001b[0m\u001b[0;34m.\u001b[0m\u001b[0mmean\u001b[0m\u001b[0;34m(\u001b[0m\u001b[0mdim\u001b[0m\u001b[0;34m=\u001b[0m\u001b[0;36m1\u001b[0m\u001b[0;34m)\u001b[0m\u001b[0;34m\u001b[0m\u001b[0;34m\u001b[0m\u001b[0m\n\u001b[1;32m      9\u001b[0m \u001b[0;34m\u001b[0m\u001b[0m\n",
      "\u001b[0;32m~/.local/lib/python3.6/site-packages/torch/nn/modules/module.py\u001b[0m in \u001b[0;36m_call_impl\u001b[0;34m(self, *input, **kwargs)\u001b[0m\n\u001b[1;32m   1100\u001b[0m         if not (self._backward_hooks or self._forward_hooks or self._forward_pre_hooks or _global_backward_hooks\n\u001b[1;32m   1101\u001b[0m                 or _global_forward_hooks or _global_forward_pre_hooks):\n\u001b[0;32m-> 1102\u001b[0;31m             \u001b[0;32mreturn\u001b[0m \u001b[0mforward_call\u001b[0m\u001b[0;34m(\u001b[0m\u001b[0;34m*\u001b[0m\u001b[0minput\u001b[0m\u001b[0;34m,\u001b[0m \u001b[0;34m**\u001b[0m\u001b[0mkwargs\u001b[0m\u001b[0;34m)\u001b[0m\u001b[0;34m\u001b[0m\u001b[0;34m\u001b[0m\u001b[0m\n\u001b[0m\u001b[1;32m   1103\u001b[0m         \u001b[0;31m# Do not call functions when jit is used\u001b[0m\u001b[0;34m\u001b[0m\u001b[0;34m\u001b[0m\u001b[0;34m\u001b[0m\u001b[0m\n\u001b[1;32m   1104\u001b[0m         \u001b[0mfull_backward_hooks\u001b[0m\u001b[0;34m,\u001b[0m \u001b[0mnon_full_backward_hooks\u001b[0m \u001b[0;34m=\u001b[0m \u001b[0;34m[\u001b[0m\u001b[0;34m]\u001b[0m\u001b[0;34m,\u001b[0m \u001b[0;34m[\u001b[0m\u001b[0;34m]\u001b[0m\u001b[0;34m\u001b[0m\u001b[0;34m\u001b[0m\u001b[0m\n",
      "\u001b[0;32m<ipython-input-34-60cc25a4c4f5>\u001b[0m in \u001b[0;36mforward\u001b[0;34m(self, g, h)\u001b[0m\n\u001b[1;32m     16\u001b[0m     \u001b[0;32mdef\u001b[0m \u001b[0mforward\u001b[0m\u001b[0;34m(\u001b[0m\u001b[0mself\u001b[0m\u001b[0;34m,\u001b[0m \u001b[0mg\u001b[0m\u001b[0;34m,\u001b[0m \u001b[0mh\u001b[0m\u001b[0;34m)\u001b[0m\u001b[0;34m:\u001b[0m\u001b[0;34m\u001b[0m\u001b[0;34m\u001b[0m\u001b[0m\n\u001b[1;32m     17\u001b[0m         \u001b[0;31m# Apply GAT layers\u001b[0m\u001b[0;34m\u001b[0m\u001b[0;34m\u001b[0m\u001b[0;34m\u001b[0m\u001b[0m\n\u001b[0;32m---> 18\u001b[0;31m         \u001b[0mh\u001b[0m \u001b[0;34m=\u001b[0m \u001b[0mself\u001b[0m\u001b[0;34m.\u001b[0m\u001b[0mlayer1\u001b[0m\u001b[0;34m(\u001b[0m\u001b[0mg\u001b[0m\u001b[0;34m,\u001b[0m \u001b[0mh\u001b[0m\u001b[0;34m)\u001b[0m\u001b[0;34m\u001b[0m\u001b[0;34m\u001b[0m\u001b[0m\n\u001b[0m\u001b[1;32m     19\u001b[0m         \u001b[0mh\u001b[0m \u001b[0;34m=\u001b[0m \u001b[0mh\u001b[0m\u001b[0;34m.\u001b[0m\u001b[0mview\u001b[0m\u001b[0;34m(\u001b[0m\u001b[0mh\u001b[0m\u001b[0;34m.\u001b[0m\u001b[0mshape\u001b[0m\u001b[0;34m[\u001b[0m\u001b[0;36m0\u001b[0m\u001b[0;34m]\u001b[0m\u001b[0;34m,\u001b[0m \u001b[0;34m-\u001b[0m\u001b[0;36m1\u001b[0m\u001b[0;34m)\u001b[0m\u001b[0;34m\u001b[0m\u001b[0;34m\u001b[0m\u001b[0m\n\u001b[1;32m     20\u001b[0m         \u001b[0mh\u001b[0m \u001b[0;34m=\u001b[0m \u001b[0mF\u001b[0m\u001b[0;34m.\u001b[0m\u001b[0mrelu\u001b[0m\u001b[0;34m(\u001b[0m\u001b[0mh\u001b[0m\u001b[0;34m)\u001b[0m\u001b[0;34m\u001b[0m\u001b[0;34m\u001b[0m\u001b[0m\n",
      "\u001b[0;32m~/.local/lib/python3.6/site-packages/torch/nn/modules/module.py\u001b[0m in \u001b[0;36m_call_impl\u001b[0;34m(self, *input, **kwargs)\u001b[0m\n\u001b[1;32m   1100\u001b[0m         if not (self._backward_hooks or self._forward_hooks or self._forward_pre_hooks or _global_backward_hooks\n\u001b[1;32m   1101\u001b[0m                 or _global_forward_hooks or _global_forward_pre_hooks):\n\u001b[0;32m-> 1102\u001b[0;31m             \u001b[0;32mreturn\u001b[0m \u001b[0mforward_call\u001b[0m\u001b[0;34m(\u001b[0m\u001b[0;34m*\u001b[0m\u001b[0minput\u001b[0m\u001b[0;34m,\u001b[0m \u001b[0;34m**\u001b[0m\u001b[0mkwargs\u001b[0m\u001b[0;34m)\u001b[0m\u001b[0;34m\u001b[0m\u001b[0;34m\u001b[0m\u001b[0m\n\u001b[0m\u001b[1;32m   1103\u001b[0m         \u001b[0;31m# Do not call functions when jit is used\u001b[0m\u001b[0;34m\u001b[0m\u001b[0;34m\u001b[0m\u001b[0;34m\u001b[0m\u001b[0m\n\u001b[1;32m   1104\u001b[0m         \u001b[0mfull_backward_hooks\u001b[0m\u001b[0;34m,\u001b[0m \u001b[0mnon_full_backward_hooks\u001b[0m \u001b[0;34m=\u001b[0m \u001b[0;34m[\u001b[0m\u001b[0;34m]\u001b[0m\u001b[0;34m,\u001b[0m \u001b[0;34m[\u001b[0m\u001b[0;34m]\u001b[0m\u001b[0;34m\u001b[0m\u001b[0;34m\u001b[0m\u001b[0m\n",
      "\u001b[0;32m~/.local/lib/python3.6/site-packages/dgl/nn/pytorch/conv/gatconv.py\u001b[0m in \u001b[0;36mforward\u001b[0;34m(self, graph, feat, edge_weight, get_attention)\u001b[0m\n\u001b[1;32m    338\u001b[0m             \u001b[0me\u001b[0m \u001b[0;34m=\u001b[0m \u001b[0mself\u001b[0m\u001b[0;34m.\u001b[0m\u001b[0mleaky_relu\u001b[0m\u001b[0;34m(\u001b[0m\u001b[0mgraph\u001b[0m\u001b[0;34m.\u001b[0m\u001b[0medata\u001b[0m\u001b[0;34m.\u001b[0m\u001b[0mpop\u001b[0m\u001b[0;34m(\u001b[0m\u001b[0;34m\"e\"\u001b[0m\u001b[0;34m)\u001b[0m\u001b[0;34m)\u001b[0m\u001b[0;34m\u001b[0m\u001b[0;34m\u001b[0m\u001b[0m\n\u001b[1;32m    339\u001b[0m             \u001b[0;31m# compute softmax\u001b[0m\u001b[0;34m\u001b[0m\u001b[0;34m\u001b[0m\u001b[0;34m\u001b[0m\u001b[0m\n\u001b[0;32m--> 340\u001b[0;31m             \u001b[0mgraph\u001b[0m\u001b[0;34m.\u001b[0m\u001b[0medata\u001b[0m\u001b[0;34m[\u001b[0m\u001b[0;34m\"a\"\u001b[0m\u001b[0;34m]\u001b[0m \u001b[0;34m=\u001b[0m \u001b[0mself\u001b[0m\u001b[0;34m.\u001b[0m\u001b[0mattn_drop\u001b[0m\u001b[0;34m(\u001b[0m\u001b[0medge_softmax\u001b[0m\u001b[0;34m(\u001b[0m\u001b[0mgraph\u001b[0m\u001b[0;34m,\u001b[0m \u001b[0me\u001b[0m\u001b[0;34m)\u001b[0m\u001b[0;34m)\u001b[0m\u001b[0;34m\u001b[0m\u001b[0;34m\u001b[0m\u001b[0m\n\u001b[0m\u001b[1;32m    341\u001b[0m             \u001b[0;32mif\u001b[0m \u001b[0medge_weight\u001b[0m \u001b[0;32mis\u001b[0m \u001b[0;32mnot\u001b[0m \u001b[0;32mNone\u001b[0m\u001b[0;34m:\u001b[0m\u001b[0;34m\u001b[0m\u001b[0;34m\u001b[0m\u001b[0m\n\u001b[1;32m    342\u001b[0m                 graph.edata[\"a\"] = graph.edata[\"a\"] * edge_weight.tile(\n",
      "\u001b[0;32m~/.local/lib/python3.6/site-packages/dgl/ops/edge_softmax.py\u001b[0m in \u001b[0;36medge_softmax\u001b[0;34m(graph, logits, eids, norm_by)\u001b[0m\n\u001b[1;32m    135\u001b[0m     \u001b[0;32mif\u001b[0m \u001b[0mgraph\u001b[0m\u001b[0;34m.\u001b[0m\u001b[0m_graph\u001b[0m\u001b[0;34m.\u001b[0m\u001b[0mnumber_of_etypes\u001b[0m\u001b[0;34m(\u001b[0m\u001b[0;34m)\u001b[0m \u001b[0;34m==\u001b[0m \u001b[0;36m1\u001b[0m\u001b[0;34m:\u001b[0m\u001b[0;34m\u001b[0m\u001b[0;34m\u001b[0m\u001b[0m\n\u001b[1;32m    136\u001b[0m         return edge_softmax_internal(\n\u001b[0;32m--> 137\u001b[0;31m             \u001b[0mgraph\u001b[0m\u001b[0;34m.\u001b[0m\u001b[0m_graph\u001b[0m\u001b[0;34m,\u001b[0m \u001b[0mlogits\u001b[0m\u001b[0;34m,\u001b[0m \u001b[0meids\u001b[0m\u001b[0;34m=\u001b[0m\u001b[0meids\u001b[0m\u001b[0;34m,\u001b[0m \u001b[0mnorm_by\u001b[0m\u001b[0;34m=\u001b[0m\u001b[0mnorm_by\u001b[0m\u001b[0;34m\u001b[0m\u001b[0;34m\u001b[0m\u001b[0m\n\u001b[0m\u001b[1;32m    138\u001b[0m         )\n\u001b[1;32m    139\u001b[0m     \u001b[0;32melse\u001b[0m\u001b[0;34m:\u001b[0m\u001b[0;34m\u001b[0m\u001b[0;34m\u001b[0m\u001b[0m\n",
      "\u001b[0;32m~/.local/lib/python3.6/site-packages/dgl/backend/pytorch/sparse.py\u001b[0m in \u001b[0;36medge_softmax\u001b[0;34m(gidx, logits, eids, norm_by)\u001b[0m\n\u001b[1;32m   1114\u001b[0m     \u001b[0margs\u001b[0m \u001b[0;34m=\u001b[0m \u001b[0m_cast_if_autocast_enabled\u001b[0m\u001b[0;34m(\u001b[0m\u001b[0mgidx\u001b[0m\u001b[0;34m,\u001b[0m \u001b[0mlogits\u001b[0m\u001b[0;34m,\u001b[0m \u001b[0meids\u001b[0m\u001b[0;34m,\u001b[0m \u001b[0mnorm_by\u001b[0m\u001b[0;34m)\u001b[0m\u001b[0;34m\u001b[0m\u001b[0;34m\u001b[0m\u001b[0m\n\u001b[1;32m   1115\u001b[0m     \u001b[0;32mwith\u001b[0m \u001b[0m_disable_autocast_if_enabled\u001b[0m\u001b[0;34m(\u001b[0m\u001b[0;34m)\u001b[0m\u001b[0;34m:\u001b[0m\u001b[0;34m\u001b[0m\u001b[0;34m\u001b[0m\u001b[0m\n\u001b[0;32m-> 1116\u001b[0;31m         \u001b[0;32mreturn\u001b[0m \u001b[0mEdgeSoftmax\u001b[0m\u001b[0;34m.\u001b[0m\u001b[0mapply\u001b[0m\u001b[0;34m(\u001b[0m\u001b[0;34m*\u001b[0m\u001b[0margs\u001b[0m\u001b[0;34m)\u001b[0m\u001b[0;34m\u001b[0m\u001b[0;34m\u001b[0m\u001b[0m\n\u001b[0m\u001b[1;32m   1117\u001b[0m \u001b[0;34m\u001b[0m\u001b[0m\n\u001b[1;32m   1118\u001b[0m \u001b[0;34m\u001b[0m\u001b[0m\n",
      "\u001b[0;32m~/.local/lib/python3.6/site-packages/dgl/backend/pytorch/sparse.py\u001b[0m in \u001b[0;36mforward\u001b[0;34m(ctx, gidx, score, eids, norm_by)\u001b[0m\n\u001b[1;32m    708\u001b[0m         \u001b[0;31m# TODO(Zhejiang): We will support GPU in the future\u001b[0m\u001b[0;34m\u001b[0m\u001b[0;34m\u001b[0m\u001b[0;34m\u001b[0m\u001b[0m\n\u001b[1;32m    709\u001b[0m         \u001b[0;32mif\u001b[0m \u001b[0mscore\u001b[0m\u001b[0;34m.\u001b[0m\u001b[0mis_cuda\u001b[0m\u001b[0;34m:\u001b[0m\u001b[0;34m\u001b[0m\u001b[0;34m\u001b[0m\u001b[0m\n\u001b[0;32m--> 710\u001b[0;31m             \u001b[0mscore_max\u001b[0m \u001b[0;34m=\u001b[0m \u001b[0m_gspmm\u001b[0m\u001b[0;34m(\u001b[0m\u001b[0mgidx\u001b[0m\u001b[0;34m,\u001b[0m \u001b[0;34m\"copy_rhs\"\u001b[0m\u001b[0;34m,\u001b[0m \u001b[0;34m\"max\"\u001b[0m\u001b[0;34m,\u001b[0m \u001b[0;32mNone\u001b[0m\u001b[0;34m,\u001b[0m \u001b[0mscore\u001b[0m\u001b[0;34m)\u001b[0m\u001b[0;34m[\u001b[0m\u001b[0;36m0\u001b[0m\u001b[0;34m]\u001b[0m\u001b[0;34m\u001b[0m\u001b[0;34m\u001b[0m\u001b[0m\n\u001b[0m\u001b[1;32m    711\u001b[0m             \u001b[0mscore\u001b[0m \u001b[0;34m=\u001b[0m \u001b[0mth\u001b[0m\u001b[0;34m.\u001b[0m\u001b[0mexp\u001b[0m\u001b[0;34m(\u001b[0m\u001b[0m_gsddmm\u001b[0m\u001b[0;34m(\u001b[0m\u001b[0mgidx\u001b[0m\u001b[0;34m,\u001b[0m \u001b[0;34m\"sub\"\u001b[0m\u001b[0;34m,\u001b[0m \u001b[0mscore\u001b[0m\u001b[0;34m,\u001b[0m \u001b[0mscore_max\u001b[0m\u001b[0;34m,\u001b[0m \u001b[0;34m\"e\"\u001b[0m\u001b[0;34m,\u001b[0m \u001b[0;34m\"v\"\u001b[0m\u001b[0;34m)\u001b[0m\u001b[0;34m)\u001b[0m\u001b[0;34m\u001b[0m\u001b[0;34m\u001b[0m\u001b[0m\n\u001b[1;32m    712\u001b[0m             \u001b[0mscore_sum\u001b[0m \u001b[0;34m=\u001b[0m \u001b[0m_gspmm\u001b[0m\u001b[0;34m(\u001b[0m\u001b[0mgidx\u001b[0m\u001b[0;34m,\u001b[0m \u001b[0;34m\"copy_rhs\"\u001b[0m\u001b[0;34m,\u001b[0m \u001b[0;34m\"sum\"\u001b[0m\u001b[0;34m,\u001b[0m \u001b[0;32mNone\u001b[0m\u001b[0;34m,\u001b[0m \u001b[0mscore\u001b[0m\u001b[0;34m)\u001b[0m\u001b[0;34m[\u001b[0m\u001b[0;36m0\u001b[0m\u001b[0;34m]\u001b[0m\u001b[0;34m\u001b[0m\u001b[0;34m\u001b[0m\u001b[0m\n",
      "\u001b[0;32m~/.local/lib/python3.6/site-packages/dgl/_sparse_ops.py\u001b[0m in \u001b[0;36m_gspmm\u001b[0;34m(gidx, op, reduce_op, u, e)\u001b[0m\n\u001b[1;32m    245\u001b[0m             \u001b[0mto_dgl_nd_for_write\u001b[0m\u001b[0;34m(\u001b[0m\u001b[0mv\u001b[0m\u001b[0;34m)\u001b[0m\u001b[0;34m,\u001b[0m\u001b[0;34m\u001b[0m\u001b[0;34m\u001b[0m\u001b[0m\n\u001b[1;32m    246\u001b[0m             \u001b[0marg_u_nd\u001b[0m\u001b[0;34m,\u001b[0m\u001b[0;34m\u001b[0m\u001b[0;34m\u001b[0m\u001b[0m\n\u001b[0;32m--> 247\u001b[0;31m             \u001b[0marg_e_nd\u001b[0m\u001b[0;34m,\u001b[0m\u001b[0;34m\u001b[0m\u001b[0;34m\u001b[0m\u001b[0m\n\u001b[0m\u001b[1;32m    248\u001b[0m         )\n\u001b[1;32m    249\u001b[0m     \u001b[0;31m# NOTE(zihao): actually we can avoid the following step, because arg_*_nd\u001b[0m\u001b[0;34m\u001b[0m\u001b[0;34m\u001b[0m\u001b[0;34m\u001b[0m\u001b[0m\n",
      "\u001b[0;31mKeyboardInterrupt\u001b[0m: "
     ]
    }
   ],
   "source": [
    "seed = 8787\n",
    "same_seeds(seed)\n",
    "\n",
    "model = GAT(in_dim=50, hidden_dim=16, out_dim=168, num_heads=8)\n",
    "# in_dim means the dimension of the node_feat(50 dim, since the 50-dim embedding)\n",
    "# out_dim means the # of the categories -> 168 for out tasks\n",
    "model.load_state_dict(torch.load('model1_initial/initial_weight.pth'))\n",
    "\n",
    "model = model.to(device)\n",
    "\n",
    "optimizer = torch.optim.AdamW(model.parameters(), lr=2e-4)\n",
    "# scheduler = get_linear_schedule_with_warmup(optimizer, num_warmup_steps=100, num_training_steps=total_steps)\n",
    "\n",
    "criterion = nn.CrossEntropyLoss()\n",
    "total_steps = 180\n",
    "\n",
    "# save the best model\n",
    "best_val_loss = float('inf')\n",
    "patience = 500  # Number of epochs with no improvement after which training will be stopped.\n",
    "waiting = 0  # The number of epochs with no improvement so far.\n",
    "\n",
    "\n",
    "# Training Part\n",
    "for epoch in tqdm(range(total_steps)):\n",
    "    # Train\n",
    "    model.train()\n",
    "    total_loss = 0.0\n",
    "    total_accuracy = 0.0\n",
    "    num_batches = 0\n",
    "    \n",
    "    count = 0 \n",
    "    \n",
    "    for data in tqdm(dataloaders['train'], desc=\"Training\", position=0, leave=True):\n",
    "        \n",
    "        count += 1\n",
    "        loss, accuracy, _ = model_fn(data, model, criterion, device, count, type='train')\n",
    "        \n",
    "        optimizer.zero_grad()\n",
    "        loss.backward()\n",
    "        optimizer.step()\n",
    "\n",
    "        total_loss += loss.item()\n",
    "        total_accuracy += accuracy.item()\n",
    "        num_batches += 1\n",
    "        \n",
    "#     scheduler.step()\n",
    "    add_log_msg(f\"total count: {count}\")\n",
    "\n",
    "    avg_loss = total_loss / num_batches\n",
    "    avg_accuracy = total_accuracy / num_batches\n",
    "\n",
    "    add_log_msg(f'Epoch {epoch} | Train Loss: {avg_loss:.4f} | Train Accuracy: {avg_accuracy:.4f}')\n",
    "\n",
    "    \n",
    "    # Validation Part\n",
    "    model.eval()\n",
    "    total_accuracy = 0.0\n",
    "    total_loss = 0.0\n",
    "    num_batches = 0\n",
    "\n",
    "    with torch.no_grad():\n",
    "        for batched_g in dataloaders['valid']:\n",
    "            loss, accuracy, _ = model_fn(batched_g, model, criterion, device, type=='validation')\n",
    "            total_accuracy += accuracy.item()\n",
    "            total_loss += loss.item()\n",
    "            num_batches += 1\n",
    "\n",
    "    avg_accuracy = total_accuracy / num_batches\n",
    "    current_loss = total_loss / num_batches\n",
    "#     print(f'Validation Loss: {current_loss:.4f} | Validation Accuracy: {avg_accuracy:.4f}')\n",
    "    add_log_msg(f'Validation Loss: {current_loss:.4f} | Validation Accuracy: {avg_accuracy:.4f}')\n",
    "    \n",
    "    \n",
    "    if current_loss < best_val_loss:\n",
    "        best_val_loss = current_loss\n",
    "        waiting = 0\n",
    "        \n",
    "#         torch.save(model.state_dict(), 'best_model.pth')\n",
    "        torch.save({\n",
    "                'epoch': epoch,\n",
    "                'model_state_dict': model.state_dict(),\n",
    "                'optimizer_state_dict': optimizer.state_dict(),\n",
    "                'loss': loss,\n",
    "                }, f\"../checkpoint_GAT/best_model_{epoch}.pt\")\n",
    "    \n",
    "    else:\n",
    "        waiting += 1\n",
    "        if waiting >= patience:\n",
    "            add_log_msg(\"Early stopping\")\n",
    "            break\n",
    "\n",
    "            \n",
    "# Testing Part\n",
    "model.eval()\n",
    "total = 0\n",
    "correct = 0\n",
    "\n",
    "with torch.no_grad():\n",
    "    for data in dataloaders['test']:\n",
    "        loss, accuracy, predicted = model_fn(data, model, criterion, device, type=='test')\n",
    "        labels = data[1].to(device)  # Assuming labels are the second element in the tuple\n",
    "        \n",
    "#         print(f\"labels: {labels}\", labels.shape)\n",
    "#         print(f\"predicted: {predicted}\", predicted.shape)\n",
    "        \n",
    "        add_log_msg(f\"labels: {labels} {labels.shape}\")\n",
    "        add_log_msg(f\"predicted: {predicted} {predicted.shape}\")\n",
    "        \n",
    "        total += labels.size(0) # label.size(0) is the batch size\n",
    "        correct += (predicted == labels).sum().item() \n",
    "        # (predicted == labels).sum() would return how many of them are equal; \n",
    "        # .item() would make the tensor to the regular value\n",
    "        \n",
    "#     print('Test Accuracy: %d %%' % (100 * correct / total))\n",
    "add_log_msg(f'Test Accuracy: {100 * correct / total} %%')"
   ]
  },
  {
   "cell_type": "markdown",
   "metadata": {},
   "source": [
    "### test of valid and test part is ``triplet`` not graph"
   ]
  },
  {
   "cell_type": "markdown",
   "metadata": {},
   "source": [
    "- 23 APs x 5000 times"
   ]
  },
  {
   "cell_type": "code",
   "execution_count": 70,
   "metadata": {
    "scrolled": true
   },
   "outputs": [
    {
     "data": {
      "application/vnd.jupyter.widget-view+json": {
       "model_id": "fac414cba61f4da98462ee0380090d06",
       "version_major": 2,
       "version_minor": 0
      },
      "text/plain": [
       "  0%|          | 0/18 [00:00<?, ?it/s]"
      ]
     },
     "metadata": {},
     "output_type": "display_data"
    },
    {
     "data": {
      "application/vnd.jupyter.widget-view+json": {
       "model_id": "9659b13ed9ab44e2bcd4aff3bd95ac34",
       "version_major": 2,
       "version_minor": 0
      },
      "text/plain": [
       "Training:   0%|          | 0/28750 [00:00<?, ?it/s]"
      ]
     },
     "metadata": {},
     "output_type": "display_data"
    },
    {
     "name": "stdout",
     "output_type": "stream",
     "text": [
      "labels of validation: tensor([84, 82, 86, 87], device='cuda:1') torch.Size([4])\n",
      "predicted of validation: tensor([76, 76, 76, 76], device='cuda:1') torch.Size([4])\n",
      "labels of validation: tensor([ 76,  70,  71, 119], device='cuda:1') torch.Size([4])\n",
      "predicted of validation: tensor([ 76,  76,  76, 119], device='cuda:1') torch.Size([4])\n",
      "labels of validation: tensor([87, 88, 90, 89], device='cuda:1') torch.Size([4])\n",
      "predicted of validation: tensor([119,  71,  76,  76], device='cuda:1') torch.Size([4])\n",
      "labels of validation: tensor([119,  78,  79,  77], device='cuda:1') torch.Size([4])\n",
      "predicted of validation: tensor([119,  70,  76,  76], device='cuda:1') torch.Size([4])\n",
      "labels of validation: tensor([ 89, 100, 101, 105], device='cuda:1') torch.Size([4])\n",
      "predicted of validation: tensor([76, 76, 76, 76], device='cuda:1') torch.Size([4])\n",
      "total count: 28750\n",
      "Epoch 0 | Train Loss: 3.0472 | Train Accuracy: 0.0783\n",
      "labels of 0: tensor([ 71,  71, 119,  77], device='cuda:1') torch.Size([4])\n",
      "predicted of 0: tensor([82, 82, 82, 82], device='cuda:1') torch.Size([4])\n",
      "labels of 0: tensor([ 82, 103, 103,  76], device='cuda:1') torch.Size([4])\n",
      "predicted of 0: tensor([82, 82, 82, 82], device='cuda:1') torch.Size([4])\n",
      "labels of 0: tensor([76], device='cuda:1') torch.Size([1])\n",
      "predicted of 0: tensor([82], device='cuda:1') torch.Size([1])\n",
      "Validation Loss: 3.1837 | Validation Accuracy: 0.0833\n"
     ]
    },
    {
     "data": {
      "application/vnd.jupyter.widget-view+json": {
       "model_id": "dc5b835cc7e346d084f6d63631196747",
       "version_major": 2,
       "version_minor": 0
      },
      "text/plain": [
       "Training:   0%|          | 0/28750 [00:00<?, ?it/s]"
      ]
     },
     "metadata": {},
     "output_type": "display_data"
    },
    {
     "name": "stdout",
     "output_type": "stream",
     "text": [
      "labels of validation: tensor([84, 82, 86, 87], device='cuda:1') torch.Size([4])\n",
      "predicted of validation: tensor([ 71,  76,  79, 103], device='cuda:1') torch.Size([4])\n",
      "labels of validation: tensor([ 76,  70,  71, 119], device='cuda:1') torch.Size([4])\n",
      "predicted of validation: tensor([ 76,  76,  76, 119], device='cuda:1') torch.Size([4])\n",
      "labels of validation: tensor([87, 88, 90, 89], device='cuda:1') torch.Size([4])\n",
      "predicted of validation: tensor([ 76, 101,  76,  86], device='cuda:1') torch.Size([4])\n",
      "labels of validation: tensor([119,  78,  79,  77], device='cuda:1') torch.Size([4])\n",
      "predicted of validation: tensor([119, 104,  76,  76], device='cuda:1') torch.Size([4])\n",
      "labels of validation: tensor([ 89, 100, 101, 105], device='cuda:1') torch.Size([4])\n",
      "predicted of validation: tensor([ 78, 100,  76, 101], device='cuda:1') torch.Size([4])\n",
      "total count: 28750\n",
      "Epoch 1 | Train Loss: 2.8304 | Train Accuracy: 0.0980\n",
      "labels of 0: tensor([ 71,  71, 119,  77], device='cuda:1') torch.Size([4])\n",
      "predicted of 0: tensor([77, 77, 77, 77], device='cuda:1') torch.Size([4])\n",
      "labels of 0: tensor([ 82, 103, 103,  76], device='cuda:1') torch.Size([4])\n",
      "predicted of 0: tensor([77, 77, 77, 77], device='cuda:1') torch.Size([4])\n",
      "labels of 0: tensor([76], device='cuda:1') torch.Size([1])\n",
      "predicted of 0: tensor([77], device='cuda:1') torch.Size([1])\n",
      "Validation Loss: 3.5635 | Validation Accuracy: 0.0833\n"
     ]
    },
    {
     "data": {
      "application/vnd.jupyter.widget-view+json": {
       "model_id": "1aca882732094c6292e8608be8d2fb5d",
       "version_major": 2,
       "version_minor": 0
      },
      "text/plain": [
       "Training:   0%|          | 0/28750 [00:00<?, ?it/s]"
      ]
     },
     "metadata": {},
     "output_type": "display_data"
    },
    {
     "name": "stdout",
     "output_type": "stream",
     "text": [
      "labels of validation: tensor([84, 82, 86, 87], device='cuda:1') torch.Size([4])\n",
      "predicted of validation: tensor([ 71,  76, 104, 104], device='cuda:1') torch.Size([4])\n",
      "labels of validation: tensor([ 76,  70,  71, 119], device='cuda:1') torch.Size([4])\n",
      "predicted of validation: tensor([ 76,  76,  76, 119], device='cuda:1') torch.Size([4])\n",
      "labels of validation: tensor([87, 88, 90, 89], device='cuda:1') torch.Size([4])\n",
      "predicted of validation: tensor([79, 77, 79, 80], device='cuda:1') torch.Size([4])\n",
      "labels of validation: tensor([119,  78,  79,  77], device='cuda:1') torch.Size([4])\n",
      "predicted of validation: tensor([119, 103,  76,  76], device='cuda:1') torch.Size([4])\n",
      "labels of validation: tensor([ 89, 100, 101, 105], device='cuda:1') torch.Size([4])\n",
      "predicted of validation: tensor([101,  89,  76, 100], device='cuda:1') torch.Size([4])\n",
      "total count: 28750\n",
      "Epoch 2 | Train Loss: 2.7741 | Train Accuracy: 0.1141\n",
      "labels of 0: tensor([ 71,  71, 119,  77], device='cuda:1') torch.Size([4])\n",
      "predicted of 0: tensor([102, 102, 102, 102], device='cuda:1') torch.Size([4])\n",
      "labels of 0: tensor([ 82, 103, 103,  76], device='cuda:1') torch.Size([4])\n",
      "predicted of 0: tensor([102, 102, 102, 102], device='cuda:1') torch.Size([4])\n",
      "labels of 0: tensor([76], device='cuda:1') torch.Size([1])\n",
      "predicted of 0: tensor([102], device='cuda:1') torch.Size([1])\n",
      "Validation Loss: 3.7996 | Validation Accuracy: 0.0000\n"
     ]
    },
    {
     "data": {
      "application/vnd.jupyter.widget-view+json": {
       "model_id": "0426e71f1aae4994b0bbcb9ca036121c",
       "version_major": 2,
       "version_minor": 0
      },
      "text/plain": [
       "Training:   0%|          | 0/28750 [00:00<?, ?it/s]"
      ]
     },
     "metadata": {},
     "output_type": "display_data"
    },
    {
     "name": "stdout",
     "output_type": "stream",
     "text": [
      "labels of validation: tensor([84, 82, 86, 87], device='cuda:1') torch.Size([4])\n",
      "predicted of validation: tensor([103,  76,  81,  85], device='cuda:1') torch.Size([4])\n",
      "labels of validation: tensor([ 76,  70,  71, 119], device='cuda:1') torch.Size([4])\n",
      "predicted of validation: tensor([ 76, 101,  71, 119], device='cuda:1') torch.Size([4])\n",
      "labels of validation: tensor([87, 88, 90, 89], device='cuda:1') torch.Size([4])\n",
      "predicted of validation: tensor([70, 89, 90, 85], device='cuda:1') torch.Size([4])\n",
      "labels of validation: tensor([119,  78,  79,  77], device='cuda:1') torch.Size([4])\n",
      "predicted of validation: tensor([119,  88,  76,  76], device='cuda:1') torch.Size([4])\n",
      "labels of validation: tensor([ 89, 100, 101, 105], device='cuda:1') torch.Size([4])\n",
      "predicted of validation: tensor([81, 71, 82, 84], device='cuda:1') torch.Size([4])\n",
      "total count: 28750\n",
      "Epoch 3 | Train Loss: 2.7323 | Train Accuracy: 0.1231\n",
      "labels of 0: tensor([ 71,  71, 119,  77], device='cuda:1') torch.Size([4])\n",
      "predicted of 0: tensor([90, 90, 90, 90], device='cuda:1') torch.Size([4])\n",
      "labels of 0: tensor([ 82, 103, 103,  76], device='cuda:1') torch.Size([4])\n",
      "predicted of 0: tensor([90, 90, 90, 90], device='cuda:1') torch.Size([4])\n",
      "labels of 0: tensor([76], device='cuda:1') torch.Size([1])\n",
      "predicted of 0: tensor([90], device='cuda:1') torch.Size([1])\n",
      "Validation Loss: 3.9838 | Validation Accuracy: 0.0000\n",
      "Early stopping\n",
      "labels: tensor([ 71,  71,  77, 103], device='cuda:1') torch.Size([4])\n",
      "predicted: tensor([90, 90, 90, 90], device='cuda:1') torch.Size([4])\n",
      "labels: tensor([76, 76], device='cuda:1') torch.Size([2])\n",
      "predicted: tensor([90, 90], device='cuda:1') torch.Size([2])\n",
      "Test Accuracy: 0 %\n"
     ]
    }
   ],
   "source": [
    "seed = 8787\n",
    "same_seeds(seed)\n",
    "\n",
    "model = GAT(in_dim=50, hidden_dim=16, out_dim=168, num_heads=8)\n",
    "# in_dim means the dimension of the node_feat(50 dim, since the 50-dim embedding)\n",
    "# out_dim means the # of the categories -> 168 for out tasks\n",
    "model.load_state_dict(torch.load('model1_initial/initial_weight.pth'))\n",
    "\n",
    "model = model.to(device)\n",
    "\n",
    "optimizer = torch.optim.AdamW(model.parameters(), lr=2e-4)\n",
    "# scheduler = get_linear_schedule_with_warmup(optimizer, num_warmup_steps=100, num_training_steps=total_steps)\n",
    "\n",
    "criterion = nn.CrossEntropyLoss()\n",
    "total_steps = 18\n",
    "\n",
    "# save the best model\n",
    "best_val_loss = float('inf')\n",
    "patience = 3  # Number of epochs with no improvement after which training will be stopped.\n",
    "waiting = 0  # The number of epochs with no improvement so far.\n",
    "\n",
    "\n",
    "# Training Part\n",
    "for epoch in tqdm(range(total_steps)):\n",
    "    \n",
    "    # Train\n",
    "    model.train()\n",
    "    total_loss = 0.0\n",
    "    total_accuracy = 0.0\n",
    "    num_batches = 0\n",
    "    \n",
    "    count = 0 \n",
    "    \n",
    "    for data in tqdm(dataloaders['train'], desc=\"Training\", position=0, leave=True):\n",
    "        \n",
    "        count += 1\n",
    "        loss, accuracy, _ = model_fn(data, model, criterion, device, count)\n",
    "        \n",
    "        optimizer.zero_grad()\n",
    "        loss.backward()\n",
    "        optimizer.step()\n",
    "\n",
    "        total_loss += loss.item()\n",
    "        total_accuracy += accuracy.item()\n",
    "        num_batches += 1\n",
    "        \n",
    "#     scheduler.step()\n",
    "    print(f\"total count: {count}\")\n",
    "    \n",
    "    avg_loss = total_loss / num_batches\n",
    "    avg_accuracy = total_accuracy / num_batches\n",
    "\n",
    "    print(f'Epoch {epoch} | Train Loss: {avg_loss:.4f} | Train Accuracy: {avg_accuracy:.4f}')\n",
    "\n",
    "    \n",
    "    # Validation Part\n",
    "    model.eval()\n",
    "    total_accuracy = 0.0\n",
    "    total_loss = 0.0\n",
    "    num_batches = 0\n",
    "\n",
    "    with torch.no_grad():\n",
    "        for batched_g in dataloaders['valid']:\n",
    "            loss, accuracy, _ = model_fn(batched_g, model, criterion, device, count=0)\n",
    "            total_accuracy += accuracy.item()\n",
    "            total_loss += loss.item()\n",
    "            num_batches += 1\n",
    "\n",
    "    avg_accuracy = total_accuracy / num_batches\n",
    "    current_loss = total_loss / num_batches\n",
    "    print(f'Validation Loss: {current_loss:.4f} | Validation Accuracy: {avg_accuracy:.4f}')\n",
    "    \n",
    "    \n",
    "    if current_loss < best_val_loss:\n",
    "        best_val_loss = current_loss\n",
    "        waiting = 0\n",
    "        \n",
    "#         torch.save(model.state_dict(), 'best_model.pth')\n",
    "        torch.save({\n",
    "                'epoch': epoch,\n",
    "                'model_state_dict': model.state_dict(),\n",
    "                'optimizer_state_dict': optimizer.state_dict(),\n",
    "                'loss': loss,\n",
    "                }, f\"../checkpoint_GAT/best_model_{epoch}.pt\")\n",
    "    \n",
    "    else:\n",
    "        waiting += 1\n",
    "        if waiting >= patience:\n",
    "            print(\"Early stopping\")\n",
    "            break\n",
    "\n",
    "# Testing Part\n",
    "model.eval()\n",
    "total = 0\n",
    "correct = 0\n",
    "\n",
    "with torch.no_grad():\n",
    "    for data in dataloaders['test']:\n",
    "        loss, accuracy, predicted = model_fn(data, model, criterion, device)\n",
    "        labels = data[1].to(device)  # Assuming labels are the second element in the tuple\n",
    "        \n",
    "        print(f\"labels: {labels}\", labels.shape)\n",
    "        print(f\"predicted: {predicted}\", predicted.shape)\n",
    "        \n",
    "        total += labels.size(0) # label.size(0) is the batch size\n",
    "        correct += (predicted == labels).sum().item() \n",
    "        # (predicted == labels).sum() would return how many of them are equal; \n",
    "        # .item() would make the tensor to the regular value\n",
    "        \n",
    "    print('Test Accuracy: %d %%' % (100 * correct / total))"
   ]
  },
  {
   "cell_type": "code",
   "execution_count": null,
   "metadata": {
    "scrolled": true
   },
   "outputs": [
    {
     "name": "stderr",
     "output_type": "stream",
     "text": [
      "Training:   9%|▊         | 5009/57500 [01:27<16:06, 54.33it/s]"
     ]
    },
    {
     "name": "stdout",
     "output_type": "stream",
     "text": [
      "08/16/2023, 10:31:31# labels of 5000: tensor([84, 82, 86, 87], device='cuda:0') torch.Size([4])\n",
      "08/16/2023, 10:31:31# predicted of 5000: tensor([76, 76, 76, 77], device='cuda:0') torch.Size([4])\n"
     ]
    },
    {
     "name": "stderr",
     "output_type": "stream",
     "text": [
      "Training:  17%|█▋        | 10011/57500 [02:54<13:24, 59.04it/s]"
     ]
    },
    {
     "name": "stdout",
     "output_type": "stream",
     "text": [
      "08/16/2023, 10:32:58# labels of 10000: tensor([ 76,  70,  71, 119], device='cuda:0') torch.Size([4])\n",
      "08/16/2023, 10:32:58# predicted of 10000: tensor([ 76,  76,  76, 119], device='cuda:0') torch.Size([4])\n"
     ]
    },
    {
     "name": "stderr",
     "output_type": "stream",
     "text": [
      "Training:  26%|██▌       | 15010/57500 [04:25<12:39, 55.96it/s]"
     ]
    },
    {
     "name": "stdout",
     "output_type": "stream",
     "text": [
      "08/16/2023, 10:34:30# labels of 15000: tensor([87, 88, 90, 89], device='cuda:0') torch.Size([4])\n",
      "08/16/2023, 10:34:30# predicted of 15000: tensor([119,  71, 119,  76], device='cuda:0') torch.Size([4])\n"
     ]
    },
    {
     "name": "stderr",
     "output_type": "stream",
     "text": [
      "Training:  35%|███▍      | 20009/57500 [05:54<11:49, 52.82it/s]"
     ]
    },
    {
     "name": "stdout",
     "output_type": "stream",
     "text": [
      "08/16/2023, 10:35:58# labels of 20000: tensor([119,  78,  79,  77], device='cuda:0') torch.Size([4])\n",
      "08/16/2023, 10:35:58# predicted of 20000: tensor([119,  79,  76,  77], device='cuda:0') torch.Size([4])\n"
     ]
    },
    {
     "name": "stderr",
     "output_type": "stream",
     "text": [
      "Training:  43%|████▎     | 25010/57500 [07:23<09:13, 58.71it/s]"
     ]
    },
    {
     "name": "stdout",
     "output_type": "stream",
     "text": [
      "08/16/2023, 10:37:28# labels of 25000: tensor([ 89, 100, 101, 105], device='cuda:0') torch.Size([4])\n",
      "08/16/2023, 10:37:28# predicted of 25000: tensor([ 76,  82,  76, 101], device='cuda:0') torch.Size([4])\n"
     ]
    },
    {
     "name": "stderr",
     "output_type": "stream",
     "text": [
      "Training:  52%|█████▏    | 30008/57500 [08:53<09:38, 47.55it/s]"
     ]
    },
    {
     "name": "stdout",
     "output_type": "stream",
     "text": [
      "08/16/2023, 10:38:57# labels of 30000: tensor([77, 80, 81, 85], device='cuda:0') torch.Size([4])\n",
      "08/16/2023, 10:38:57# predicted of 30000: tensor([77, 82, 71, 70], device='cuda:0') torch.Size([4])\n"
     ]
    },
    {
     "name": "stderr",
     "output_type": "stream",
     "text": [
      "Training:  61%|██████    | 35006/57500 [10:21<07:31, 49.83it/s]"
     ]
    },
    {
     "name": "stdout",
     "output_type": "stream",
     "text": [
      "08/16/2023, 10:40:26# labels of 35000: tensor([105, 104, 102, 103], device='cuda:0') torch.Size([4])\n",
      "08/16/2023, 10:40:26# predicted of 35000: tensor([101,  82,  82,  76], device='cuda:0') torch.Size([4])\n"
     ]
    },
    {
     "name": "stderr",
     "output_type": "stream",
     "text": [
      "Training:  70%|██████▉   | 40006/57500 [11:50<06:28, 44.99it/s]"
     ]
    },
    {
     "name": "stdout",
     "output_type": "stream",
     "text": [
      "08/16/2023, 10:41:55# labels of 40000: tensor([85, 84, 82, 86], device='cuda:0') torch.Size([4])\n",
      "08/16/2023, 10:41:55# predicted of 40000: tensor([79, 71, 76, 78], device='cuda:0') torch.Size([4])\n"
     ]
    },
    {
     "name": "stderr",
     "output_type": "stream",
     "text": [
      "Training:  78%|███████▊  | 45004/57500 [13:20<03:47, 54.91it/s]"
     ]
    },
    {
     "name": "stdout",
     "output_type": "stream",
     "text": [
      "08/16/2023, 10:43:24# labels of 45000: tensor([103,  76,  70,  71], device='cuda:0') torch.Size([4])\n",
      "08/16/2023, 10:43:24# predicted of 45000: tensor([76, 76, 76, 76], device='cuda:0') torch.Size([4])\n"
     ]
    },
    {
     "name": "stderr",
     "output_type": "stream",
     "text": [
      "Training:  87%|████████▋ | 50008/57500 [14:48<01:45, 70.80it/s]"
     ]
    },
    {
     "name": "stdout",
     "output_type": "stream",
     "text": [
      "08/16/2023, 10:44:52# labels of 50000: tensor([86, 87, 88, 90], device='cuda:0') torch.Size([4])\n",
      "08/16/2023, 10:44:52# predicted of 50000: tensor([ 86,  71,  82, 103], device='cuda:0') torch.Size([4])\n"
     ]
    },
    {
     "name": "stderr",
     "output_type": "stream",
     "text": [
      "Training:  96%|█████████▌| 55006/57500 [16:14<00:52, 47.37it/s]"
     ]
    },
    {
     "name": "stdout",
     "output_type": "stream",
     "text": [
      "08/16/2023, 10:46:19# labels of 55000: tensor([ 71, 119,  78,  79], device='cuda:0') torch.Size([4])\n",
      "08/16/2023, 10:46:19# predicted of 55000: tensor([ 76, 119,  71,  76], device='cuda:0') torch.Size([4])\n"
     ]
    },
    {
     "name": "stderr",
     "output_type": "stream",
     "text": [
      "Training: 100%|██████████| 57500/57500 [16:59<00:00, 56.42it/s]\n",
      "  1%|          | 1/180 [16:59<50:40:49, 1019.27s/it]"
     ]
    },
    {
     "name": "stdout",
     "output_type": "stream",
     "text": [
      "08/16/2023, 10:47:03# total count: 57500\n",
      "08/16/2023, 10:47:03# Epoch 0 | Train Loss: 2.7880 | Train Accuracy: 0.1257\n",
      "08/16/2023, 10:47:03# labels of False: tensor([ 71,  71, 119,  77], device='cuda:0') torch.Size([4])\n",
      "08/16/2023, 10:47:03# predicted of False: tensor([70, 70, 70, 70], device='cuda:0') torch.Size([4])\n",
      "08/16/2023, 10:47:03# labels of False: tensor([ 82, 103, 103,  76], device='cuda:0') torch.Size([4])\n",
      "08/16/2023, 10:47:03# predicted of False: tensor([70, 70, 70, 70], device='cuda:0') torch.Size([4])\n",
      "08/16/2023, 10:47:03# labels of False: tensor([76], device='cuda:0') torch.Size([1])\n",
      "08/16/2023, 10:47:03# predicted of False: tensor([70], device='cuda:0') torch.Size([1])\n",
      "08/16/2023, 10:47:03# Validation Loss: 4.4727 | Validation Accuracy: 0.0000\n"
     ]
    },
    {
     "name": "stderr",
     "output_type": "stream",
     "text": [
      "Training:   9%|▊         | 5005/57500 [01:31<17:34, 49.80it/s]"
     ]
    },
    {
     "name": "stdout",
     "output_type": "stream",
     "text": [
      "08/16/2023, 10:48:34# labels of 5000: tensor([84, 82, 86, 87], device='cuda:0') torch.Size([4])\n",
      "08/16/2023, 10:48:34# predicted of 5000: tensor([ 71,  76, 101, 104], device='cuda:0') torch.Size([4])\n"
     ]
    },
    {
     "name": "stderr",
     "output_type": "stream",
     "text": [
      "Training:  17%|█▋        | 10005/57500 [03:02<16:40, 47.45it/s]"
     ]
    },
    {
     "name": "stdout",
     "output_type": "stream",
     "text": [
      "08/16/2023, 10:50:06# labels of 10000: tensor([ 76,  70,  71, 119], device='cuda:0') torch.Size([4])\n",
      "08/16/2023, 10:50:06# predicted of 10000: tensor([ 76,  76,  76, 119], device='cuda:0') torch.Size([4])\n"
     ]
    },
    {
     "name": "stderr",
     "output_type": "stream",
     "text": [
      "Training:  21%|██        | 12100/57500 [03:39<12:18, 61.50it/s]"
     ]
    }
   ],
   "source": [
    "seed = 8787\n",
    "same_seeds(seed)\n",
    "\n",
    "model = GAT(in_dim=50, hidden_dim=16, out_dim=168, num_heads=8)\n",
    "# in_dim means the dimension of the node_feat(50 dim, since the 50-dim embedding)\n",
    "# out_dim means the # of the categories -> 168 for out tasks\n",
    "model.load_state_dict(torch.load('model1_initial/initial_weight.pth'))\n",
    "\n",
    "model = model.to(device)\n",
    "\n",
    "optimizer = torch.optim.AdamW(model.parameters(), lr=2e-4)\n",
    "# scheduler = get_linear_schedule_with_warmup(optimizer, num_warmup_steps=100, num_training_steps=total_steps)\n",
    "\n",
    "criterion = nn.CrossEntropyLoss()\n",
    "total_steps = 180\n",
    "\n",
    "# save the best model\n",
    "best_val_loss = float('inf')\n",
    "patience = 500  # Number of epochs with no improvement after which training will be stopped.\n",
    "waiting = 0  # The number of epochs with no improvement so far.\n",
    "\n",
    "\n",
    "# Training Part\n",
    "for epoch in tqdm(range(total_steps)):\n",
    "    # Train\n",
    "    model.train()\n",
    "    total_loss = 0.0\n",
    "    total_accuracy = 0.0\n",
    "    num_batches = 0\n",
    "    \n",
    "    count = 0 \n",
    "    \n",
    "    for data in tqdm(dataloaders['train'], desc=\"Training\", position=0, leave=True):\n",
    "        \n",
    "        count += 1\n",
    "        loss, accuracy, _ = model_fn(data, model, criterion, device, count, type='train')\n",
    "        \n",
    "        optimizer.zero_grad()\n",
    "        loss.backward()\n",
    "        optimizer.step()\n",
    "\n",
    "        total_loss += loss.item()\n",
    "        total_accuracy += accuracy.item()\n",
    "        num_batches += 1\n",
    "        \n",
    "#     scheduler.step()\n",
    "    add_log_msg(f\"total count: {count}\")\n",
    "\n",
    "    avg_loss = total_loss / num_batches\n",
    "    avg_accuracy = total_accuracy / num_batches\n",
    "\n",
    "    add_log_msg(f'Epoch {epoch} | Train Loss: {avg_loss:.4f} | Train Accuracy: {avg_accuracy:.4f}')\n",
    "\n",
    "    \n",
    "    # Validation Part\n",
    "    model.eval()\n",
    "    total_accuracy = 0.0\n",
    "    total_loss = 0.0\n",
    "    num_batches = 0\n",
    "\n",
    "    with torch.no_grad():\n",
    "        for batched_g in dataloaders['valid']:\n",
    "            loss, accuracy, _ = model_fn(batched_g, model, criterion, device, type=='validation')\n",
    "            total_accuracy += accuracy.item()\n",
    "            total_loss += loss.item()\n",
    "            num_batches += 1\n",
    "\n",
    "    avg_accuracy = total_accuracy / num_batches\n",
    "    current_loss = total_loss / num_batches\n",
    "#     print(f'Validation Loss: {current_loss:.4f} | Validation Accuracy: {avg_accuracy:.4f}')\n",
    "    add_log_msg(f'Validation Loss: {current_loss:.4f} | Validation Accuracy: {avg_accuracy:.4f}')\n",
    "    \n",
    "    \n",
    "    if current_loss < best_val_loss:\n",
    "        best_val_loss = current_loss\n",
    "        waiting = 0\n",
    "        \n",
    "#         torch.save(model.state_dict(), 'best_model.pth')\n",
    "        torch.save({\n",
    "                'epoch': epoch,\n",
    "                'model_state_dict': model.state_dict(),\n",
    "                'optimizer_state_dict': optimizer.state_dict(),\n",
    "                'loss': loss,\n",
    "                }, f\"../checkpoint_GAT/best_model_{epoch}.pt\")\n",
    "    \n",
    "    else:\n",
    "        waiting += 1\n",
    "        if waiting >= patience:\n",
    "            add_log_msg(\"Early stopping\")\n",
    "            break\n",
    "\n",
    "            \n",
    "# Testing Part\n",
    "model.eval()\n",
    "total = 0\n",
    "correct = 0\n",
    "\n",
    "with torch.no_grad():\n",
    "    for data in dataloaders['test']:\n",
    "        loss, accuracy, predicted = model_fn(data, model, criterion, device, type=='test')\n",
    "        labels = data[1].to(device)  # Assuming labels are the second element in the tuple\n",
    "        \n",
    "#         print(f\"labels: {labels}\", labels.shape)\n",
    "#         print(f\"predicted: {predicted}\", predicted.shape)\n",
    "        \n",
    "        add_log_msg(f\"labels: {labels} {labels.shape}\")\n",
    "        add_log_msg(f\"predicted: {predicted} {predicted.shape}\")\n",
    "        \n",
    "        total += labels.size(0) # label.size(0) is the batch size\n",
    "        correct += (predicted == labels).sum().item() \n",
    "        # (predicted == labels).sum() would return how many of them are equal; \n",
    "        # .item() would make the tensor to the regular value\n",
    "        \n",
    "#     print('Test Accuracy: %d %%' % (100 * correct / total))\n",
    "add_log_msg(f'Test Accuracy: {100 * correct / total} %%')"
   ]
  },
  {
   "cell_type": "code",
   "execution_count": null,
   "metadata": {},
   "outputs": [],
   "source": []
  }
 ],
 "metadata": {
  "kernelspec": {
   "display_name": "Python 3",
   "language": "python",
   "name": "python3"
  },
  "language_info": {
   "codemirror_mode": {
    "name": "ipython",
    "version": 3
   },
   "file_extension": ".py",
   "mimetype": "text/x-python",
   "name": "python",
   "nbconvert_exporter": "python",
   "pygments_lexer": "ipython3",
   "version": "3.6.9"
  }
 },
 "nbformat": 4,
 "nbformat_minor": 2
}
