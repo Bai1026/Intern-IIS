{
 "cells": [
  {
   "cell_type": "markdown",
   "metadata": {},
   "source": [
    "# Test of GAT\n",
    "- use DGL\n",
    "- predict `graphs`\n",
    "- test: 0~99\n",
    "- validation: 100~199\n",
    "- train: 200~999\n",
    "- larger lr with scheduler\n",
    "- more epochs\n",
    "- `model2` (3 layers)"
   ]
  },
  {
   "cell_type": "code",
   "execution_count": 1,
   "metadata": {},
   "outputs": [],
   "source": [
    "import dgl\n",
    "import json\n",
    "import torch\n",
    "import torch as th\n",
    "# from tqdm import tqdm\n",
    "from tqdm.notebook import tqdm\n",
    "import torch.nn as nn\n",
    "from dgl.nn import GraphConv, GATConv\n",
    "import torch.nn.functional as F\n",
    "from torch.utils.data import Dataset, DataLoader\n",
    "from transformers import get_linear_schedule_with_warmup\n",
    "from torch.optim import AdamW"
   ]
  },
  {
   "cell_type": "markdown",
   "metadata": {},
   "source": [
    "- check the GPU and assign the GPU by the best memory usage"
   ]
  },
  {
   "cell_type": "code",
   "execution_count": 2,
   "metadata": {},
   "outputs": [
    {
     "name": "stdout",
     "output_type": "stream",
     "text": [
      "cuda:1\n"
     ]
    }
   ],
   "source": [
    "import subprocess\n",
    "import torch\n",
    "\n",
    "def get_free_gpu():\n",
    "    try:\n",
    "        # Run nvidia-smi command to get GPU details\n",
    "        _output_to_list = lambda x: x.decode('ascii').split('\\n')[:-1]\n",
    "        command = \"nvidia-smi --query-gpu=memory.free --format=csv,nounits,noheader\"\n",
    "        memory_free_info = _output_to_list(subprocess.check_output(command.split())) \n",
    "        memory_free_values = [int(x) for i, x in enumerate(memory_free_info)]\n",
    "        \n",
    "        # Get the GPU with the maximum free memory\n",
    "        best_gpu_id = memory_free_values.index(max(memory_free_values))\n",
    "        return best_gpu_id\n",
    "    except:\n",
    "        # If any exception occurs, default to GPU 0 (this handles cases where nvidia-smi isn't installed)\n",
    "        return 0\n",
    "\n",
    "if torch.cuda.is_available():\n",
    "    # Get the best GPU ID based on free memory and set it\n",
    "    best_gpu_id = get_free_gpu()\n",
    "    device = torch.device(f\"cuda:{best_gpu_id}\")\n",
    "else:\n",
    "    device = torch.device(\"cpu\")\n",
    "    print(\"there's no available GPU\")\n",
    "\n",
    "print(device)\n"
   ]
  },
  {
   "cell_type": "markdown",
   "metadata": {},
   "source": [
    "## Fix the seed"
   ]
  },
  {
   "cell_type": "code",
   "execution_count": 3,
   "metadata": {},
   "outputs": [],
   "source": [
    "import numpy as np\n",
    "import torch\n",
    "import random\n",
    "\n",
    "#fix seed\n",
    "def same_seeds(seed = 8787):\n",
    "    torch.manual_seed(seed)\n",
    "    # random.seed(seed) \n",
    "    if torch.cuda.is_available():\n",
    "        torch.cuda.manual_seed(seed)\n",
    "        torch.cuda.manual_seed_all(seed)  \n",
    "    np.random.seed(seed)  \n",
    "    torch.backends.cudnn.benchmark = False\n",
    "    torch.backends.cudnn.deterministic = True"
   ]
  },
  {
   "cell_type": "markdown",
   "metadata": {},
   "source": [
    "## Data Loader"
   ]
  },
  {
   "cell_type": "code",
   "execution_count": 4,
   "metadata": {},
   "outputs": [],
   "source": [
    "class GraphDataset(Dataset):\n",
    "    def __init__(self, data_list, device):\n",
    "        self.data_list = data_list\n",
    "        self.device = device\n",
    "\n",
    "    def __len__(self):\n",
    "        return len(self.data_list)\n",
    "    \n",
    "    def __getitem__(self, idx):\n",
    "        data = self.data_list[idx]\n",
    "\n",
    "        g = dgl.graph((th.tensor(data[\"edge_index\"][0]), th.tensor(data[\"edge_index\"][1])), num_nodes=data[\"num_nodes\"]).to(self.device)\n",
    "\n",
    "        g.ndata['feat'] = th.tensor(data[\"node_feat\"]).to(self.device)\n",
    "        g.edata['feat'] = th.tensor(data[\"edge_attr\"]).to(self.device)  # Add edge features to graph\n",
    "\n",
    "        return g, th.tensor(data[\"label\"]).to(self.device)\n",
    "\n",
    "\n",
    "def collate(samples):\n",
    "    # The input `samples` is a list of pairs\n",
    "    #  (graph, label).\n",
    "    graphs, labels = map(list, zip(*samples))\n",
    "    batched_graph = dgl.batch(graphs)\n",
    "    return batched_graph, torch.tensor(labels)\n"
   ]
  },
  {
   "cell_type": "code",
   "execution_count": 5,
   "metadata": {},
   "outputs": [
    {
     "data": {
      "application/vnd.jupyter.widget-view+json": {
       "model_id": "5328571340e4437294186574ce48b2b7",
       "version_major": 2,
       "version_minor": 0
      },
      "text/plain": [
       "  0%|          | 0/3 [00:00<?, ?it/s]"
      ]
     },
     "metadata": {},
     "output_type": "display_data"
    },
    {
     "name": "stdout",
     "output_type": "stream",
     "text": [
      "../../data_processing/dgl/data_new/training_data/train.jsonl\n"
     ]
    },
    {
     "data": {
      "application/vnd.jupyter.widget-view+json": {
       "model_id": "431e013d167f464fa2f6e8242225d01d",
       "version_major": 2,
       "version_minor": 0
      },
      "text/plain": [
       "0it [00:00, ?it/s]"
      ]
     },
     "metadata": {},
     "output_type": "display_data"
    },
    {
     "name": "stdout",
     "output_type": "stream",
     "text": [
      "../../data_processing/dgl/data_new/training_data/valid.jsonl\n"
     ]
    },
    {
     "data": {
      "application/vnd.jupyter.widget-view+json": {
       "model_id": "ae19cce77b104b5aa8ec87bcb23eaf28",
       "version_major": 2,
       "version_minor": 0
      },
      "text/plain": [
       "0it [00:00, ?it/s]"
      ]
     },
     "metadata": {},
     "output_type": "display_data"
    },
    {
     "name": "stdout",
     "output_type": "stream",
     "text": [
      "../../data_processing/dgl/data_new/training_data/test.jsonl\n"
     ]
    },
    {
     "data": {
      "application/vnd.jupyter.widget-view+json": {
       "model_id": "8382c0c4bd0c4f7280482ed6a4547c6c",
       "version_major": 2,
       "version_minor": 0
      },
      "text/plain": [
       "0it [00:00, ?it/s]"
      ]
     },
     "metadata": {},
     "output_type": "display_data"
    },
    {
     "name": "stdout",
     "output_type": "stream",
     "text": [
      "Datasets loaded!\n"
     ]
    }
   ],
   "source": [
    "datasets = ['train', 'valid', 'test']\n",
    "dataset_data = {}\n",
    "\n",
    "for dataset_name in tqdm(datasets):\n",
    "#     file_path = f\"../../data_processing/dgl/data/test_graph/repeated_{dataset_name}.jsonl\"\n",
    "    file_path = f\"../../data_processing/dgl/data_new/training_data/{dataset_name}.jsonl\"\n",
    "    \n",
    "    print(file_path)\n",
    "    with open(file_path) as f:\n",
    "        data_list = [json.loads(line) for line in tqdm(f, position=0, leave=True)]\n",
    "    \n",
    "    dataset_data[dataset_name] = GraphDataset(data_list, device)\n",
    "\n",
    "print(\"Datasets loaded!\")"
   ]
  },
  {
   "cell_type": "markdown",
   "metadata": {},
   "source": [
    "- choose batch size"
   ]
  },
  {
   "cell_type": "code",
   "execution_count": 8,
   "metadata": {},
   "outputs": [],
   "source": [
    "def create_dataloaders(batch_size, shuffle=True):\n",
    "    dataloaders = {}\n",
    "    for dataset_name, dataset in dataset_data.items():\n",
    "        dataloaders[dataset_name] = DataLoader(dataset, batch_size=batch_size, shuffle=shuffle, collate_fn=collate)\n",
    "    return dataloaders\n",
    "\n",
    "dataloaders = create_dataloaders(8)\n",
    "# dataloaders = create_dataloaders(16)"
   ]
  },
  {
   "cell_type": "markdown",
   "metadata": {},
   "source": [
    "- Turn the print message to a log file"
   ]
  },
  {
   "cell_type": "code",
   "execution_count": 22,
   "metadata": {},
   "outputs": [
    {
     "name": "stdout",
     "output_type": "stream",
     "text": [
      "../log_message/0824_16:39_GAT_model.log\n"
     ]
    }
   ],
   "source": [
    "import datetime\n",
    "\n",
    "now = datetime.datetime.now()\n",
    "\n",
    "formatted_time = now.strftime(\"%m%d_%H:%M\")\n",
    "\n",
    "log_file_path = f\"../log_message/{formatted_time}_GAT_model.log\"\n",
    "\n",
    "def add_log_msg(msg, log_file_path=log_file_path):\n",
    "    with open(log_file_path, 'a') as f:\n",
    "        f.write(f'{datetime.datetime.now().strftime(\"%m/%d/%Y, %H:%M:%S\")}# {msg}\\n')\n",
    "    print(f'{datetime.datetime.now().strftime(\"%m/%d/%Y, %H:%M:%S\")}# {msg}')\n",
    "\n",
    "print(log_file_path)"
   ]
  },
  {
   "cell_type": "markdown",
   "metadata": {},
   "source": [
    "### Model"
   ]
  },
  {
   "cell_type": "code",
   "execution_count": 23,
   "metadata": {},
   "outputs": [],
   "source": [
    "import dgl\n",
    "import torch.nn as nn\n",
    "import torch.nn.functional as F\n",
    "from dgl.nn import GATConv\n",
    "\n",
    "class GAT(nn.Module):\n",
    "    def __init__(self, in_dim, hidden_dim1, hidden_dim2, out_dim, num_heads, dropout_prob=0.25):\n",
    "        super(GAT, self).__init__()\n",
    "\n",
    "        # First GAT layer\n",
    "        self.layer1 = GATConv(in_dim, hidden_dim1, num_heads=num_heads, activation=F.relu, allow_zero_in_degree=True)\n",
    "        self.batchnorm1 = nn.BatchNorm1d(hidden_dim1 * num_heads)\n",
    "\n",
    "        # Second GAT layer\n",
    "        self.layer2 = GATConv(hidden_dim1 * num_heads, hidden_dim2, num_heads=num_heads, activation=F.relu, allow_zero_in_degree=True)\n",
    "        self.batchnorm2 = nn.BatchNorm1d(hidden_dim2 * num_heads)\n",
    "\n",
    "        # Third GAT layer\n",
    "        self.layer3 = GATConv(hidden_dim2 * num_heads, out_dim, num_heads=num_heads, allow_zero_in_degree=True)\n",
    "        self.batchnorm3 = nn.BatchNorm1d(out_dim)\n",
    "\n",
    "        # Dropout for regularization\n",
    "        self.dropout = nn.Dropout(dropout_prob)\n",
    "\n",
    "    def forward(self, g, h):\n",
    "        # First GAT layer\n",
    "        h = self.layer1(g, h)\n",
    "        h = h.view(h.shape[0], -1)\n",
    "        h = F.relu(self.batchnorm1(h))\n",
    "        h = self.dropout(h)\n",
    "\n",
    "        # Second GAT layer\n",
    "        h = self.layer2(g, h)\n",
    "        h = h.view(h.shape[0], -1)\n",
    "        h = F.relu(self.batchnorm2(h))\n",
    "        h = self.dropout(h)\n",
    "\n",
    "        # Third GAT layer\n",
    "        h = self.layer3(g, h).squeeze(1)\n",
    "\n",
    "        # Store the output as a new node feature\n",
    "        g.ndata['h_out'] = h\n",
    "\n",
    "        # Use mean pooling to aggregate this new node feature\n",
    "        h_agg = dgl.mean_nodes(g, feat='h_out')\n",
    "\n",
    "        return h_agg\n"
   ]
  },
  {
   "cell_type": "markdown",
   "metadata": {},
   "source": [
    "- Model Forward  "
   ]
  },
  {
   "cell_type": "code",
   "execution_count": 24,
   "metadata": {},
   "outputs": [],
   "source": [
    "def model_fn(data, model, criterion, device, count=1, which_type='train'):\n",
    "    \"\"\"Forward a batch through the model.\"\"\"\n",
    "    batched_g, labels = data\n",
    "    batched_g = batched_g.to(device)\n",
    "    \n",
    "    labels = labels.to(device)\n",
    "    logits = model(batched_g, batched_g.ndata['feat'].float()) # for GAT\n",
    "    logits = logits.mean(dim=1)\n",
    "    \n",
    "    loss = criterion(logits, labels)\n",
    "\n",
    "    # Get the class id with the highest probability\n",
    "    preds = logits.argmax(1)\n",
    "    \n",
    "    # Compute accuracy\n",
    "    accuracy = torch.mean((preds == labels).float())\n",
    "    \n",
    "    if which_type == 'validation' and count % 1000 == 0:\n",
    "        add_log_msg(f\"labels of Validation: {labels} {labels.shape}\")\n",
    "        add_log_msg(f\"predicted of Validation: {preds} {preds.shape}\")\n",
    "        \n",
    "    elif which_type == 'test'  and count % 1000 == 0:\n",
    "        add_log_msg(f\"labels of Test: {labels} {labels.shape}\")\n",
    "        add_log_msg(f\"predicted of Test: {preds} {preds.shape}\")\n",
    "        \n",
    "    if count % 5000 == 0: \n",
    "        add_log_msg(f\"labels of {count}: {labels} {labels.shape}\")\n",
    "        add_log_msg(f\"predicted of {count}: {preds} {preds.shape}\")\n",
    "        \n",
    "    return loss, accuracy, preds"
   ]
  },
  {
   "cell_type": "markdown",
   "metadata": {},
   "source": [
    "### Training"
   ]
  },
  {
   "cell_type": "markdown",
   "metadata": {},
   "source": [
    "- Fix the seed and save the model.state_dict that contains the initial weight"
   ]
  },
  {
   "cell_type": "code",
   "execution_count": 25,
   "metadata": {},
   "outputs": [],
   "source": [
    "seed = 8787\n",
    "same_seeds(seed)\n",
    "\n",
    "model = GAT(in_dim=50, hidden_dim1=8, hidden_dim2=128, out_dim=168, num_heads=8)\n",
    "torch.save(model.state_dict(), 'model2_initial/initial_weight.pth')"
   ]
  },
  {
   "cell_type": "code",
   "execution_count": 26,
   "metadata": {},
   "outputs": [
    {
     "data": {
      "text/plain": [
       "Parameter containing:\n",
       "tensor([[-0.0173,  0.0305, -0.1151,  ...,  0.1396,  0.0871, -0.0046],\n",
       "        [-0.0276,  0.0435, -0.0844,  ..., -0.0037, -0.0386, -0.0648],\n",
       "        [ 0.0583,  0.1108, -0.0515,  ..., -0.0669, -0.0645,  0.0809],\n",
       "        ...,\n",
       "        [ 0.1049, -0.0281,  0.0213,  ...,  0.0550, -0.0606, -0.0602],\n",
       "        [-0.0168,  0.0097,  0.1041,  ...,  0.0753,  0.0272,  0.0322],\n",
       "        [-0.0035,  0.0883, -0.0423,  ...,  0.0232,  0.1120, -0.0347]],\n",
       "       requires_grad=True)"
      ]
     },
     "execution_count": 26,
     "metadata": {},
     "output_type": "execute_result"
    }
   ],
   "source": [
    "model.layer2.fc.weight"
   ]
  },
  {
   "cell_type": "markdown",
   "metadata": {},
   "source": [
    "- Check if model really load the model_dict"
   ]
  },
  {
   "cell_type": "code",
   "execution_count": 27,
   "metadata": {},
   "outputs": [
    {
     "data": {
      "text/plain": [
       "Parameter containing:\n",
       "tensor([[-0.0173,  0.0305, -0.1151,  ...,  0.1396,  0.0871, -0.0046],\n",
       "        [-0.0276,  0.0435, -0.0844,  ..., -0.0037, -0.0386, -0.0648],\n",
       "        [ 0.0583,  0.1108, -0.0515,  ..., -0.0669, -0.0645,  0.0809],\n",
       "        ...,\n",
       "        [ 0.1049, -0.0281,  0.0213,  ...,  0.0550, -0.0606, -0.0602],\n",
       "        [-0.0168,  0.0097,  0.1041,  ...,  0.0753,  0.0272,  0.0322],\n",
       "        [-0.0035,  0.0883, -0.0423,  ...,  0.0232,  0.1120, -0.0347]],\n",
       "       requires_grad=True)"
      ]
     },
     "execution_count": 27,
     "metadata": {},
     "output_type": "execute_result"
    }
   ],
   "source": [
    "model = GAT(in_dim=50, hidden_dim1=8, hidden_dim2=128, out_dim=168, num_heads=8)\n",
    "model.load_state_dict(torch.load('model2_initial/initial_weight.pth'))\n",
    "model.layer2.fc.weight"
   ]
  },
  {
   "cell_type": "markdown",
   "metadata": {},
   "source": [
    "### test of valid and test part is ``graph``"
   ]
  },
  {
   "cell_type": "markdown",
   "metadata": {},
   "source": [
    "- model 2\n",
    "- Batch size = 8\n",
    "- use larger lr and scheduler"
   ]
  },
  {
   "cell_type": "code",
   "execution_count": null,
   "metadata": {
    "scrolled": true
   },
   "outputs": [
    {
     "data": {
      "application/vnd.jupyter.widget-view+json": {
       "model_id": "192c110783bc463c905749a2a31bd107",
       "version_major": 2,
       "version_minor": 0
      },
      "text/plain": [
       "  0%|          | 0/1000 [00:00<?, ?it/s]"
      ]
     },
     "metadata": {},
     "output_type": "display_data"
    },
    {
     "data": {
      "application/vnd.jupyter.widget-view+json": {
       "model_id": "db61fd6e49e04a48bc6d986db14263c2",
       "version_major": 2,
       "version_minor": 0
      },
      "text/plain": [
       "Training:   0%|          | 0/16500 [00:00<?, ?it/s]"
      ]
     },
     "metadata": {},
     "output_type": "display_data"
    },
    {
     "name": "stdout",
     "output_type": "stream",
     "text": [
      "08/24/2023, 16:41:33# labels of 5000: tensor([134, 156,  17,   9, 100,  31, 119,  31], device='cuda:1') torch.Size([8])\n",
      "08/24/2023, 16:41:33# predicted of 5000: tensor([134, 118,  17, 141, 141, 114,  37, 107], device='cuda:1') torch.Size([8])\n",
      "08/24/2023, 16:43:39# labels of 10000: tensor([ 10,  57, 130, 134,   3, 150, 118, 148], device='cuda:1') torch.Size([8])\n",
      "08/24/2023, 16:43:39# predicted of 10000: tensor([ 64,  64,  78, 134,   3,  64, 118,  59], device='cuda:1') torch.Size([8])\n",
      "08/24/2023, 16:45:43# labels of 15000: tensor([ 15,  92, 152, 107,  44,  14,  51,  79], device='cuda:1') torch.Size([8])\n",
      "08/24/2023, 16:45:43# predicted of 15000: tensor([ 15, 141, 107, 107,  37,  21,  21,  15], device='cuda:1') torch.Size([8])\n",
      "08/24/2023, 16:46:21# total count: 16500\n",
      "08/24/2023, 16:46:21# Epoch 0 | Train Loss: 3.6864 | Train Accuracy: 0.2013\n"
     ]
    },
    {
     "data": {
      "application/vnd.jupyter.widget-view+json": {
       "model_id": "8453f3f116804037ba13fb39db0df36f",
       "version_major": 2,
       "version_minor": 0
      },
      "text/plain": [
       "Validation:   0%|          | 0/2063 [00:00<?, ?it/s]"
      ]
     },
     "metadata": {},
     "output_type": "display_data"
    },
    {
     "name": "stdout",
     "output_type": "stream",
     "text": [
      "08/24/2023, 16:46:21# labels of Validation: tensor([136,  81, 123,  58, 163, 119,  43, 140], device='cuda:1') torch.Size([8])\n",
      "08/24/2023, 16:46:21# predicted of Validation: tensor([21,  4, 85,  4,  4,  4,  4, 21], device='cuda:1') torch.Size([8])\n",
      "08/24/2023, 16:46:21# labels of 0: tensor([136,  81, 123,  58, 163, 119,  43, 140], device='cuda:1') torch.Size([8])\n",
      "08/24/2023, 16:46:21# predicted of 0: tensor([21,  4, 85,  4,  4,  4,  4, 21], device='cuda:1') torch.Size([8])\n",
      "08/24/2023, 16:46:38# labels of Validation: tensor([ 60, 118, 153,  35,  79,  70, 110, 159], device='cuda:1') torch.Size([8])\n",
      "08/24/2023, 16:46:38# predicted of Validation: tensor([ 4, 21,  4, 21, 21, 21,  4, 21], device='cuda:1') torch.Size([8])\n",
      "08/24/2023, 16:46:54# labels of Validation: tensor([ 97, 162, 151, 118,  38,  29,  17,   9], device='cuda:1') torch.Size([8])\n",
      "08/24/2023, 16:46:54# predicted of Validation: tensor([  4,   4,   4,  21,   4, 107,  17,   4], device='cuda:1') torch.Size([8])\n",
      "08/24/2023, 16:46:55# Validation Loss: 4.8280 | Validation Accuracy: 0.0350\n",
      "\n"
     ]
    },
    {
     "data": {
      "application/vnd.jupyter.widget-view+json": {
       "model_id": "de137cd9ed0a45a28250627c4eaea87a",
       "version_major": 2,
       "version_minor": 0
      },
      "text/plain": [
       "Training:   0%|          | 0/16500 [00:00<?, ?it/s]"
      ]
     },
     "metadata": {},
     "output_type": "display_data"
    },
    {
     "name": "stdout",
     "output_type": "stream",
     "text": [
      "08/24/2023, 16:49:02# labels of 5000: tensor([ 76,  76,  90, 153,  57, 134,  62,  38], device='cuda:1') torch.Size([8])\n",
      "08/24/2023, 16:49:02# predicted of 5000: tensor([107, 107, 107, 107, 160, 134,  62, 160], device='cuda:1') torch.Size([8])\n",
      "08/24/2023, 16:51:09# labels of 10000: tensor([ 79,  24,   7,   5, 147, 111, 162, 106], device='cuda:1') torch.Size([8])\n",
      "08/24/2023, 16:51:09# predicted of 10000: tensor([  5, 110,   7,   5, 147, 108,  41, 106], device='cuda:1') torch.Size([8])\n",
      "08/24/2023, 16:53:17# labels of 15000: tensor([ 45,  81,   4,   3,  84, 147, 159, 100], device='cuda:1') torch.Size([8])\n",
      "08/24/2023, 16:53:17# predicted of 15000: tensor([ 45, 100, 135,  84,  84,  84, 159, 100], device='cuda:1') torch.Size([8])\n",
      "08/24/2023, 16:53:56# total count: 16500\n",
      "08/24/2023, 16:53:56# Epoch 1 | Train Loss: 3.1575 | Train Accuracy: 0.2898\n"
     ]
    },
    {
     "data": {
      "application/vnd.jupyter.widget-view+json": {
       "model_id": "ae2af2f9308a4714b23ff98cb4dc7d63",
       "version_major": 2,
       "version_minor": 0
      },
      "text/plain": [
       "Validation:   0%|          | 0/2063 [00:00<?, ?it/s]"
      ]
     },
     "metadata": {},
     "output_type": "display_data"
    },
    {
     "name": "stdout",
     "output_type": "stream",
     "text": [
      "08/24/2023, 16:53:56# labels of Validation: tensor([59, 16, 30, 37, 69, 79, 66, 74], device='cuda:1') torch.Size([8])\n",
      "08/24/2023, 16:53:56# predicted of Validation: tensor([ 88,  70, 111,  88,  69,  21,  88, 111], device='cuda:1') torch.Size([8])\n",
      "08/24/2023, 16:53:56# labels of 0: tensor([59, 16, 30, 37, 69, 79, 66, 74], device='cuda:1') torch.Size([8])\n",
      "08/24/2023, 16:53:56# predicted of 0: tensor([ 88,  70, 111,  88,  69,  21,  88, 111], device='cuda:1') torch.Size([8])\n",
      "08/24/2023, 16:54:12# labels of Validation: tensor([132,  81,  37,  81, 125, 116,  39, 160], device='cuda:1') torch.Size([8])\n",
      "08/24/2023, 16:54:12# predicted of Validation: tensor([ 88, 111,  88, 111, 111, 111,  21,  88], device='cuda:1') torch.Size([8])\n",
      "08/24/2023, 16:54:29# labels of Validation: tensor([ 63,  96, 104, 165, 128, 131,  97, 164], device='cuda:1') torch.Size([8])\n",
      "08/24/2023, 16:54:29# predicted of Validation: tensor([111, 156, 111,  21,  21,  88, 111, 111], device='cuda:1') torch.Size([8])\n",
      "08/24/2023, 16:54:30# Validation Loss: 4.6380 | Validation Accuracy: 0.0413\n",
      "\n"
     ]
    },
    {
     "data": {
      "application/vnd.jupyter.widget-view+json": {
       "model_id": "fdbb36ae91054cbfa862f09114e1e2cc",
       "version_major": 2,
       "version_minor": 0
      },
      "text/plain": [
       "Training:   0%|          | 0/16500 [00:00<?, ?it/s]"
      ]
     },
     "metadata": {},
     "output_type": "display_data"
    },
    {
     "name": "stdout",
     "output_type": "stream",
     "text": [
      "08/24/2023, 16:56:34# labels of 5000: tensor([ 74,  73, 122,  39, 140,  79, 107, 133], device='cuda:1') torch.Size([8])\n",
      "08/24/2023, 16:56:34# predicted of 5000: tensor([122,  39, 122,  73, 140,  40, 122,  21], device='cuda:1') torch.Size([8])\n",
      "08/24/2023, 16:58:40# labels of 10000: tensor([153,   3,  30, 117, 148, 106, 129,  68], device='cuda:1') torch.Size([8])\n",
      "08/24/2023, 16:58:40# predicted of 10000: tensor([129,   3, 129, 117, 133, 106, 133, 129], device='cuda:1') torch.Size([8])\n",
      "08/24/2023, 17:00:46# labels of 15000: tensor([ 64, 163, 159,  94, 105, 127, 134,  26], device='cuda:1') torch.Size([8])\n",
      "08/24/2023, 17:00:46# predicted of 15000: tensor([ 37,  37, 159, 105, 127, 159, 134,  37], device='cuda:1') torch.Size([8])\n",
      "08/24/2023, 17:01:22# total count: 16500\n",
      "08/24/2023, 17:01:22# Epoch 2 | Train Loss: 2.9763 | Train Accuracy: 0.3201\n"
     ]
    },
    {
     "data": {
      "application/vnd.jupyter.widget-view+json": {
       "model_id": "76e5311f4aa6482d8516655f9d581c3b",
       "version_major": 2,
       "version_minor": 0
      },
      "text/plain": [
       "Validation:   0%|          | 0/2063 [00:00<?, ?it/s]"
      ]
     },
     "metadata": {},
     "output_type": "display_data"
    },
    {
     "name": "stdout",
     "output_type": "stream",
     "text": [
      "08/24/2023, 17:01:23# labels of Validation: tensor([104, 109, 157, 163,  26,  86, 109, 121], device='cuda:1') torch.Size([8])\n",
      "08/24/2023, 17:01:23# predicted of Validation: tensor([87, 87, 87, 87, 87, 87, 87, 87], device='cuda:1') torch.Size([8])\n",
      "08/24/2023, 17:01:23# labels of 0: tensor([104, 109, 157, 163,  26,  86, 109, 121], device='cuda:1') torch.Size([8])\n",
      "08/24/2023, 17:01:23# predicted of 0: tensor([87, 87, 87, 87, 87, 87, 87, 87], device='cuda:1') torch.Size([8])\n",
      "08/24/2023, 17:01:38# labels of Validation: tensor([ 66, 137,  29, 132, 148, 118,   5,  17], device='cuda:1') torch.Size([8])\n",
      "08/24/2023, 17:01:38# predicted of Validation: tensor([ 87,  87, 141, 161,  87, 141, 141,  17], device='cuda:1') torch.Size([8])\n",
      "08/24/2023, 17:01:54# labels of Validation: tensor([126, 143, 150,  35,  12,  19,  67, 161], device='cuda:1') torch.Size([8])\n",
      "08/24/2023, 17:01:54# predicted of Validation: tensor([141,  87,  87, 141,  87,  87, 141, 161], device='cuda:1') torch.Size([8])\n",
      "08/24/2023, 17:01:55# Validation Loss: 4.5021 | Validation Accuracy: 0.0417\n",
      "\n"
     ]
    },
    {
     "data": {
      "application/vnd.jupyter.widget-view+json": {
       "model_id": "4dfb381ce45f4c62bcd820cbc0209474",
       "version_major": 2,
       "version_minor": 0
      },
      "text/plain": [
       "Training:   0%|          | 0/16500 [00:00<?, ?it/s]"
      ]
     },
     "metadata": {},
     "output_type": "display_data"
    },
    {
     "name": "stdout",
     "output_type": "stream",
     "text": [
      "08/24/2023, 17:04:03# labels of 5000: tensor([ 48,  37,  82, 157, 103,  73,   1, 136], device='cuda:1') torch.Size([8])\n",
      "08/24/2023, 17:04:03# predicted of 5000: tensor([ 37,  37,  73,  37,  37,  73,  37, 136], device='cuda:1') torch.Size([8])\n",
      "08/24/2023, 17:06:06# labels of 10000: tensor([103,  12, 166,  37, 132, 130,  97, 164], device='cuda:1') torch.Size([8])\n",
      "08/24/2023, 17:06:06# predicted of 10000: tensor([132, 132, 132, 132, 132,  72, 132, 132], device='cuda:1') torch.Size([8])\n",
      "08/24/2023, 17:08:10# labels of 15000: tensor([ 87, 109,  14, 164, 122,  53,  41,  40], device='cuda:1') torch.Size([8])\n",
      "08/24/2023, 17:08:10# predicted of 15000: tensor([ 41, 160,  41, 160,  40, 160,  41,  40], device='cuda:1') torch.Size([8])\n",
      "08/24/2023, 17:08:49# total count: 16500\n",
      "08/24/2023, 17:08:49# Epoch 3 | Train Loss: 2.8776 | Train Accuracy: 0.3383\n"
     ]
    },
    {
     "data": {
      "application/vnd.jupyter.widget-view+json": {
       "model_id": "4aeebaaf292846f091982af02aecba4b",
       "version_major": 2,
       "version_minor": 0
      },
      "text/plain": [
       "Validation:   0%|          | 0/2063 [00:00<?, ?it/s]"
      ]
     },
     "metadata": {},
     "output_type": "display_data"
    },
    {
     "name": "stdout",
     "output_type": "stream",
     "text": [
      "08/24/2023, 17:08:49# labels of Validation: tensor([ 14, 115, 157,   8,  28,  14,  74,  13], device='cuda:1') torch.Size([8])\n",
      "08/24/2023, 17:08:49# predicted of Validation: tensor([121, 165, 121, 121, 121, 121, 121, 165], device='cuda:1') torch.Size([8])\n",
      "08/24/2023, 17:08:49# labels of 0: tensor([ 14, 115, 157,   8,  28,  14,  74,  13], device='cuda:1') torch.Size([8])\n",
      "08/24/2023, 17:08:49# predicted of 0: tensor([121, 165, 121, 121, 121, 121, 121, 165], device='cuda:1') torch.Size([8])\n",
      "08/24/2023, 17:09:05# labels of Validation: tensor([ 17, 128,  61, 145,  57, 163,  20,  78], device='cuda:1') torch.Size([8])\n",
      "08/24/2023, 17:09:05# predicted of Validation: tensor([ 17, 165, 165,  72, 121, 121, 121, 165], device='cuda:1') torch.Size([8])\n",
      "08/24/2023, 17:09:21# labels of Validation: tensor([ 44, 121,  13,  84,  64, 138,  31, 154], device='cuda:1') torch.Size([8])\n",
      "08/24/2023, 17:09:21# predicted of Validation: tensor([121, 121, 165,  56, 121,  16, 121, 149], device='cuda:1') torch.Size([8])\n",
      "08/24/2023, 17:09:22# Validation Loss: 4.3805 | Validation Accuracy: 0.0482\n",
      "\n"
     ]
    },
    {
     "data": {
      "application/vnd.jupyter.widget-view+json": {
       "model_id": "191049ea3aea4158bce83299652ffefc",
       "version_major": 2,
       "version_minor": 0
      },
      "text/plain": [
       "Training:   0%|          | 0/16500 [00:00<?, ?it/s]"
      ]
     },
     "metadata": {},
     "output_type": "display_data"
    },
    {
     "name": "stdout",
     "output_type": "stream",
     "text": [
      "08/24/2023, 17:11:26# labels of 5000: tensor([ 27,  95,   0,  70, 131, 116,  35,  41], device='cuda:1') torch.Size([8])\n",
      "08/24/2023, 17:11:26# predicted of 5000: tensor([ 0, 27,  0, 70, 41, 41,  0, 41], device='cuda:1') torch.Size([8])\n",
      "08/24/2023, 17:13:32# labels of 10000: tensor([  8,   8,  76, 156,  89, 119, 122,  23], device='cuda:1') torch.Size([8])\n",
      "08/24/2023, 17:13:32# predicted of 10000: tensor([ 46, 131, 108,  89,  89, 131, 122,  23], device='cuda:1') torch.Size([8])\n",
      "08/24/2023, 17:15:36# labels of 15000: tensor([ 67, 161,  71,   8,  99,  23, 150, 120], device='cuda:1') torch.Size([8])\n",
      "08/24/2023, 17:15:36# predicted of 15000: tensor([120, 161, 161, 161,  99, 120, 161, 120], device='cuda:1') torch.Size([8])\n",
      "08/24/2023, 17:16:15# total count: 16500\n",
      "08/24/2023, 17:16:15# Epoch 4 | Train Loss: 2.8096 | Train Accuracy: 0.3487\n"
     ]
    },
    {
     "data": {
      "application/vnd.jupyter.widget-view+json": {
       "model_id": "9ea149c962984d4da54058b6f2e650e7",
       "version_major": 2,
       "version_minor": 0
      },
      "text/plain": [
       "Validation:   0%|          | 0/2063 [00:00<?, ?it/s]"
      ]
     },
     "metadata": {},
     "output_type": "display_data"
    },
    {
     "name": "stdout",
     "output_type": "stream",
     "text": [
      "08/24/2023, 17:16:15# labels of Validation: tensor([ 86,  11, 110, 154, 105,  89,  92, 135], device='cuda:1') torch.Size([8])\n",
      "08/24/2023, 17:16:15# predicted of Validation: tensor([ 26,  26,  26, 156, 135, 135,  26,  26], device='cuda:1') torch.Size([8])\n",
      "08/24/2023, 17:16:15# labels of 0: tensor([ 86,  11, 110, 154, 105,  89,  92, 135], device='cuda:1') torch.Size([8])\n",
      "08/24/2023, 17:16:15# predicted of 0: tensor([ 26,  26,  26, 156, 135, 135,  26,  26], device='cuda:1') torch.Size([8])\n",
      "08/24/2023, 17:16:30# labels of Validation: tensor([  7,  89, 101,   9,  19, 106,  26,  83], device='cuda:1') torch.Size([8])\n",
      "08/24/2023, 17:16:30# predicted of Validation: tensor([  7, 135,  26,  26,  26, 106,  26,  26], device='cuda:1') torch.Size([8])\n",
      "08/24/2023, 17:16:46# labels of Validation: tensor([156,  78, 129,   6,  60,  84, 150,  60], device='cuda:1') torch.Size([8])\n",
      "08/24/2023, 17:16:46# predicted of Validation: tensor([105, 135,  26,  26,  26, 156,  26,  26], device='cuda:1') torch.Size([8])\n",
      "08/24/2023, 17:16:47# Validation Loss: 4.4604 | Validation Accuracy: 0.0359\n",
      "\n"
     ]
    },
    {
     "data": {
      "application/vnd.jupyter.widget-view+json": {
       "model_id": "a9dfa087341e457da26f858a876497cb",
       "version_major": 2,
       "version_minor": 0
      },
      "text/plain": [
       "Training:   0%|          | 0/16500 [00:00<?, ?it/s]"
      ]
     },
     "metadata": {},
     "output_type": "display_data"
    },
    {
     "name": "stdout",
     "output_type": "stream",
     "text": [
      "08/24/2023, 17:18:51# labels of 5000: tensor([134, 141, 156, 138, 103,  58,  46, 137], device='cuda:1') torch.Size([8])\n",
      "08/24/2023, 17:18:51# predicted of 5000: tensor([134, 160, 156, 138, 141,  58,  58,  58], device='cuda:1') torch.Size([8])\n",
      "08/24/2023, 17:20:58# labels of 10000: tensor([ 92,  13,  30,  46, 116,  43, 112, 106], device='cuda:1') torch.Size([8])\n",
      "08/24/2023, 17:20:58# predicted of 10000: tensor([133,  13, 133, 133, 133, 133, 133, 106], device='cuda:1') torch.Size([8])\n",
      "08/24/2023, 17:23:01# labels of 15000: tensor([109, 128, 157,  39, 159, 109,  45,  78], device='cuda:1') torch.Size([8])\n",
      "08/24/2023, 17:23:01# predicted of 15000: tensor([ 59, 159, 119,  78, 159, 119, 159,  78], device='cuda:1') torch.Size([8])\n",
      "08/24/2023, 17:23:39# total count: 16500\n",
      "08/24/2023, 17:23:39# Epoch 5 | Train Loss: 2.7580 | Train Accuracy: 0.3581\n"
     ]
    },
    {
     "data": {
      "application/vnd.jupyter.widget-view+json": {
       "model_id": "05f62e6241e844cea51608f49d592a65",
       "version_major": 2,
       "version_minor": 0
      },
      "text/plain": [
       "Validation:   0%|          | 0/2063 [00:00<?, ?it/s]"
      ]
     },
     "metadata": {},
     "output_type": "display_data"
    },
    {
     "name": "stdout",
     "output_type": "stream",
     "text": [
      "08/24/2023, 17:23:39# labels of Validation: tensor([ 50,  26, 134,  51,  31, 120,  64, 142], device='cuda:1') torch.Size([8])\n",
      "08/24/2023, 17:23:39# predicted of Validation: tensor([52,  9, 25,  9,  9, 52,  9,  9], device='cuda:1') torch.Size([8])\n",
      "08/24/2023, 17:23:39# labels of 0: tensor([ 50,  26, 134,  51,  31, 120,  64, 142], device='cuda:1') torch.Size([8])\n",
      "08/24/2023, 17:23:39# predicted of 0: tensor([52,  9, 25,  9,  9, 52,  9,  9], device='cuda:1') torch.Size([8])\n",
      "08/24/2023, 17:23:54# labels of Validation: tensor([ 54,  41, 163, 137, 154, 143,  68, 149], device='cuda:1') torch.Size([8])\n",
      "08/24/2023, 17:23:54# predicted of Validation: tensor([  9,   9,   9,   9,  52,   9,   9, 118], device='cuda:1') torch.Size([8])\n",
      "08/24/2023, 17:24:10# labels of Validation: tensor([151,  50,  44, 121,  28, 149,  73,  28], device='cuda:1') torch.Size([8])\n",
      "08/24/2023, 17:24:10# predicted of Validation: tensor([  9,  52,   9,   9,   9, 118,  52,   9], device='cuda:1') torch.Size([8])\n",
      "08/24/2023, 17:24:11# Validation Loss: 4.3115 | Validation Accuracy: 0.0658\n",
      "\n"
     ]
    },
    {
     "data": {
      "application/vnd.jupyter.widget-view+json": {
       "model_id": "da68b6fad822428db0552ab0eddbebaa",
       "version_major": 2,
       "version_minor": 0
      },
      "text/plain": [
       "Training:   0%|          | 0/16500 [00:00<?, ?it/s]"
      ]
     },
     "metadata": {},
     "output_type": "display_data"
    },
    {
     "name": "stdout",
     "output_type": "stream",
     "text": [
      "08/24/2023, 17:26:17# labels of 5000: tensor([ 72,  30,  31, 100,  51, 159, 123,  66], device='cuda:1') torch.Size([8])\n",
      "08/24/2023, 17:26:17# predicted of 5000: tensor([159, 100,  51,  51,  51, 159, 123,  51], device='cuda:1') torch.Size([8])\n",
      "08/24/2023, 17:28:22# labels of 10000: tensor([115,  25,  27,  64, 144,  60, 130,  43], device='cuda:1') torch.Size([8])\n",
      "08/24/2023, 17:28:22# predicted of 10000: tensor([115,  25, 115, 108,  12,  90,  27,  90], device='cuda:1') torch.Size([8])\n",
      "08/24/2023, 17:30:27# labels of 15000: tensor([ 54, 143, 106,  68, 103, 141,  93,  75], device='cuda:1') torch.Size([8])\n",
      "08/24/2023, 17:30:27# predicted of 15000: tensor([141, 141, 106, 141, 141, 141, 141, 141], device='cuda:1') torch.Size([8])\n",
      "08/24/2023, 17:31:04# total count: 16500\n",
      "08/24/2023, 17:31:04# Epoch 6 | Train Loss: 2.7110 | Train Accuracy: 0.3678\n"
     ]
    },
    {
     "data": {
      "application/vnd.jupyter.widget-view+json": {
       "model_id": "cf4e2fdc16a44bc0945358e472ccda08",
       "version_major": 2,
       "version_minor": 0
      },
      "text/plain": [
       "Validation:   0%|          | 0/2063 [00:00<?, ?it/s]"
      ]
     },
     "metadata": {},
     "output_type": "display_data"
    },
    {
     "name": "stdout",
     "output_type": "stream",
     "text": [
      "08/24/2023, 17:31:04# labels of Validation: tensor([ 90, 142,  25, 148, 150,  20, 114,  96], device='cuda:1') torch.Size([8])\n",
      "08/24/2023, 17:31:04# predicted of Validation: tensor([ 58,  58, 145,  58,  58,  58,  58, 145], device='cuda:1') torch.Size([8])\n",
      "08/24/2023, 17:31:04# labels of 0: tensor([ 90, 142,  25, 148, 150,  20, 114,  96], device='cuda:1') torch.Size([8])\n",
      "08/24/2023, 17:31:04# predicted of 0: tensor([ 58,  58, 145,  58,  58,  58,  58, 145], device='cuda:1') torch.Size([8])\n",
      "08/24/2023, 17:31:20# labels of Validation: tensor([ 87, 102,  87, 125,   5,  10,  11, 110], device='cuda:1') torch.Size([8])\n",
      "08/24/2023, 17:31:20# predicted of Validation: tensor([58, 58, 58, 58, 52, 58, 58, 58], device='cuda:1') torch.Size([8])\n",
      "08/24/2023, 17:31:36# labels of Validation: tensor([121,  60,  53, 117, 115,  40, 108, 139], device='cuda:1') torch.Size([8])\n",
      "08/24/2023, 17:31:36# predicted of Validation: tensor([ 58,  58,  58,  52, 165,  82,  58,  58], device='cuda:1') torch.Size([8])\n",
      "08/24/2023, 17:31:37# Validation Loss: 4.1996 | Validation Accuracy: 0.0722\n",
      "\n"
     ]
    },
    {
     "data": {
      "application/vnd.jupyter.widget-view+json": {
       "model_id": "042fdfb342b4486a8526cb1af0d2c5e0",
       "version_major": 2,
       "version_minor": 0
      },
      "text/plain": [
       "Training:   0%|          | 0/16500 [00:00<?, ?it/s]"
      ]
     },
     "metadata": {},
     "output_type": "display_data"
    },
    {
     "name": "stdout",
     "output_type": "stream",
     "text": [
      "08/24/2023, 17:33:41# labels of 5000: tensor([ 91,  91,  76,  75,  72, 147,   0,  46], device='cuda:1') torch.Size([8])\n",
      "08/24/2023, 17:33:41# predicted of 5000: tensor([108, 108,  46,  46,   0, 147,   0,  46], device='cuda:1') torch.Size([8])\n",
      "08/24/2023, 17:35:49# labels of 10000: tensor([ 51, 145,  43, 129,  20,  92, 135,  21], device='cuda:1') torch.Size([8])\n",
      "08/24/2023, 17:35:49# predicted of 10000: tensor([129, 145,  51,  51,  51, 129,  51,  51], device='cuda:1') torch.Size([8])\n",
      "08/24/2023, 17:37:54# labels of 15000: tensor([ 81,  23,  43, 128,  59,  44, 162, 155], device='cuda:1') torch.Size([8])\n",
      "08/24/2023, 17:37:54# predicted of 15000: tensor([155,  23, 155, 128, 155, 155, 155, 155], device='cuda:1') torch.Size([8])\n",
      "08/24/2023, 17:38:31# total count: 16500\n",
      "08/24/2023, 17:38:31# Epoch 7 | Train Loss: 2.6739 | Train Accuracy: 0.3722\n"
     ]
    },
    {
     "data": {
      "application/vnd.jupyter.widget-view+json": {
       "model_id": "5f6482a3fbf04276b52b30606fbe1af8",
       "version_major": 2,
       "version_minor": 0
      },
      "text/plain": [
       "Validation:   0%|          | 0/2063 [00:00<?, ?it/s]"
      ]
     },
     "metadata": {},
     "output_type": "display_data"
    },
    {
     "name": "stdout",
     "output_type": "stream",
     "text": [
      "08/24/2023, 17:38:31# labels of Validation: tensor([151,  73, 138,   1,  89, 142,  73,  21], device='cuda:1') torch.Size([8])\n",
      "08/24/2023, 17:38:31# predicted of Validation: tensor([142,  50,  85, 142,  50, 142,  50, 142], device='cuda:1') torch.Size([8])\n",
      "08/24/2023, 17:38:31# labels of 0: tensor([151,  73, 138,   1,  89, 142,  73,  21], device='cuda:1') torch.Size([8])\n",
      "08/24/2023, 17:38:31# predicted of 0: tensor([142,  50,  85, 142,  50, 142,  50, 142], device='cuda:1') torch.Size([8])\n",
      "08/24/2023, 17:38:47# labels of Validation: tensor([ 71, 135,  57,  90,  35, 146,  88,  24], device='cuda:1') torch.Size([8])\n",
      "08/24/2023, 17:38:47# predicted of Validation: tensor([142, 142, 142, 142, 154, 154, 142, 142], device='cuda:1') torch.Size([8])\n",
      "08/24/2023, 17:39:02# labels of Validation: tensor([112,  26,   6, 122, 164,  34,  75, 152], device='cuda:1') torch.Size([8])\n",
      "08/24/2023, 17:39:02# predicted of Validation: tensor([142, 142, 142, 122, 142, 142, 142, 142], device='cuda:1') torch.Size([8])\n",
      "08/24/2023, 17:39:03# Validation Loss: 4.3889 | Validation Accuracy: 0.0718\n",
      "\n"
     ]
    },
    {
     "data": {
      "application/vnd.jupyter.widget-view+json": {
       "model_id": "b37d1a9f6ed346d7883d1c0f0c5e87c7",
       "version_major": 2,
       "version_minor": 0
      },
      "text/plain": [
       "Training:   0%|          | 0/16500 [00:00<?, ?it/s]"
      ]
     },
     "metadata": {},
     "output_type": "display_data"
    },
    {
     "name": "stdout",
     "output_type": "stream",
     "text": [
      "08/24/2023, 17:41:08# labels of 5000: tensor([152,  68,  64,  53,  49,  23,   8, 162], device='cuda:1') torch.Size([8])\n",
      "08/24/2023, 17:41:08# predicted of 5000: tensor([131, 131, 131, 131, 131,  23, 131, 131], device='cuda:1') torch.Size([8])\n",
      "08/24/2023, 17:43:15# labels of 10000: tensor([ 40, 161,  48, 128, 159,  54, 140, 127], device='cuda:1') torch.Size([8])\n",
      "08/24/2023, 17:43:15# predicted of 10000: tensor([ 40, 161, 161, 127, 127, 161, 140, 127], device='cuda:1') torch.Size([8])\n",
      "08/24/2023, 17:45:20# labels of 15000: tensor([133, 157, 142,  13,  59, 162,  55,  15], device='cuda:1') torch.Size([8])\n",
      "08/24/2023, 17:45:20# predicted of 15000: tensor([133, 133, 133,  15, 133, 133, 133,  15], device='cuda:1') torch.Size([8])\n",
      "08/24/2023, 17:45:57# total count: 16500\n",
      "08/24/2023, 17:45:57# Epoch 8 | Train Loss: 2.6384 | Train Accuracy: 0.3787\n"
     ]
    },
    {
     "data": {
      "application/vnd.jupyter.widget-view+json": {
       "model_id": "7340dff1351d453b87696d7fab27afc4",
       "version_major": 2,
       "version_minor": 0
      },
      "text/plain": [
       "Validation:   0%|          | 0/2063 [00:00<?, ?it/s]"
      ]
     },
     "metadata": {},
     "output_type": "display_data"
    },
    {
     "name": "stdout",
     "output_type": "stream",
     "text": [
      "08/24/2023, 17:45:57# labels of Validation: tensor([ 30, 141, 161,  66, 144, 146,  53, 133], device='cuda:1') torch.Size([8])\n",
      "08/24/2023, 17:45:57# predicted of Validation: tensor([139, 139, 139, 139, 139,  52, 139, 139], device='cuda:1') torch.Size([8])\n",
      "08/24/2023, 17:45:57# labels of 0: tensor([ 30, 141, 161,  66, 144, 146,  53, 133], device='cuda:1') torch.Size([8])\n",
      "08/24/2023, 17:45:57# predicted of 0: tensor([139, 139, 139, 139, 139,  52, 139, 139], device='cuda:1') torch.Size([8])\n",
      "08/24/2023, 17:46:13# labels of Validation: tensor([ 29, 108,  93,   3, 154,   6,   5,  72], device='cuda:1') torch.Size([8])\n",
      "08/24/2023, 17:46:13# predicted of Validation: tensor([ 10, 139, 139,  25,  52, 139,  52,  52], device='cuda:1') torch.Size([8])\n",
      "08/24/2023, 17:46:28# labels of Validation: tensor([ 19,  42, 109, 117,  28, 113, 130,  23], device='cuda:1') torch.Size([8])\n",
      "08/24/2023, 17:46:28# predicted of Validation: tensor([139, 139, 139,  52, 139, 139,  52,  52], device='cuda:1') torch.Size([8])\n",
      "08/24/2023, 17:46:29# Validation Loss: 4.5085 | Validation Accuracy: 0.0533\n",
      "\n"
     ]
    },
    {
     "data": {
      "application/vnd.jupyter.widget-view+json": {
       "model_id": "7461d829997a4d4b9f5eacefbd6a030b",
       "version_major": 2,
       "version_minor": 0
      },
      "text/plain": [
       "Training:   0%|          | 0/16500 [00:00<?, ?it/s]"
      ]
     },
     "metadata": {},
     "output_type": "display_data"
    },
    {
     "name": "stdout",
     "output_type": "stream",
     "text": [
      "08/24/2023, 17:48:35# labels of 5000: tensor([ 61,  49, 100,  44,  71, 118, 157,   2], device='cuda:1') torch.Size([8])\n",
      "08/24/2023, 17:48:35# predicted of 5000: tensor([ 61, 100, 100, 100, 100, 118, 141,  71], device='cuda:1') torch.Size([8])\n",
      "08/24/2023, 17:50:42# labels of 10000: tensor([135,  38,  61,  59, 114, 165,  84, 117], device='cuda:1') torch.Size([8])\n",
      "08/24/2023, 17:50:42# predicted of 10000: tensor([135, 131, 117, 131, 131, 165,  84, 117], device='cuda:1') torch.Size([8])\n",
      "08/24/2023, 17:52:48# labels of 15000: tensor([ 52, 120,  68,  88,  88,   5, 100, 107], device='cuda:1') torch.Size([8])\n",
      "08/24/2023, 17:52:48# predicted of 15000: tensor([ 52, 120, 100, 100, 100, 120, 100, 100], device='cuda:1') torch.Size([8])\n",
      "08/24/2023, 17:53:25# total count: 16500\n",
      "08/24/2023, 17:53:25# Epoch 9 | Train Loss: 2.6151 | Train Accuracy: 0.3822\n"
     ]
    },
    {
     "data": {
      "application/vnd.jupyter.widget-view+json": {
       "model_id": "96ea22e0d4644e41a422e99e82d2a2d8",
       "version_major": 2,
       "version_minor": 0
      },
      "text/plain": [
       "Validation:   0%|          | 0/2063 [00:00<?, ?it/s]"
      ]
     },
     "metadata": {},
     "output_type": "display_data"
    },
    {
     "name": "stdout",
     "output_type": "stream",
     "text": [
      "08/24/2023, 17:53:25# labels of Validation: tensor([132,  76, 132, 161, 106,  73,  18, 162], device='cuda:1') torch.Size([8])\n",
      "08/24/2023, 17:53:25# predicted of Validation: tensor([ 58,  58,  58,  58, 106,  10,  58,  58], device='cuda:1') torch.Size([8])\n",
      "08/24/2023, 17:53:25# labels of 0: tensor([132,  76, 132, 161, 106,  73,  18, 162], device='cuda:1') torch.Size([8])\n",
      "08/24/2023, 17:53:25# predicted of 0: tensor([ 58,  58,  58,  58, 106,  10,  58,  58], device='cuda:1') torch.Size([8])\n",
      "08/24/2023, 17:53:40# labels of Validation: tensor([136, 155,  26,  39, 149,  27,  62, 112], device='cuda:1') torch.Size([8])\n",
      "08/24/2023, 17:53:40# predicted of Validation: tensor([117,  58,  58,  10,  85,  10, 165,  58], device='cuda:1') torch.Size([8])\n",
      "08/24/2023, 17:53:56# labels of Validation: tensor([146,  95, 100, 128, 153,  85,  51, 103], device='cuda:1') torch.Size([8])\n",
      "08/24/2023, 17:53:56# predicted of Validation: tensor([117,  10,  58, 165,  58,  85,  58,  58], device='cuda:1') torch.Size([8])\n",
      "08/24/2023, 17:53:56# Validation Loss: 4.6321 | Validation Accuracy: 0.0417\n",
      "\n"
     ]
    },
    {
     "data": {
      "application/vnd.jupyter.widget-view+json": {
       "model_id": "a61a4d6643b643db953c5c1717b376f3",
       "version_major": 2,
       "version_minor": 0
      },
      "text/plain": [
       "Training:   0%|          | 0/16500 [00:00<?, ?it/s]"
      ]
     },
     "metadata": {},
     "output_type": "display_data"
    },
    {
     "name": "stdout",
     "output_type": "stream",
     "text": [
      "08/24/2023, 17:55:59# labels of 5000: tensor([ 66,  70,  96, 103,   6,  39,  59, 161], device='cuda:1') torch.Size([8])\n",
      "08/24/2023, 17:55:59# predicted of 5000: tensor([161,  70,  96,   6, 161,  39, 161, 161], device='cuda:1') torch.Size([8])\n",
      "08/24/2023, 17:58:06# labels of 10000: tensor([ 83, 135, 153, 103, 121,  80,  80,  53], device='cuda:1') torch.Size([8])\n",
      "08/24/2023, 17:58:06# predicted of 10000: tensor([135, 135, 135, 135, 135,  80,  80, 135], device='cuda:1') torch.Size([8])\n",
      "08/24/2023, 18:00:14# labels of 15000: tensor([116,  21, 163, 154,   9, 154, 151,  46], device='cuda:1') torch.Size([8])\n",
      "08/24/2023, 18:00:14# predicted of 15000: tensor([ 21,  21,  21, 154,  21, 154,  21,  21], device='cuda:1') torch.Size([8])\n",
      "08/24/2023, 18:00:52# total count: 16500\n",
      "08/24/2023, 18:00:52# Epoch 10 | Train Loss: 2.5808 | Train Accuracy: 0.3872\n"
     ]
    },
    {
     "data": {
      "application/vnd.jupyter.widget-view+json": {
       "model_id": "e34d266292f54b20afd9242a7127068c",
       "version_major": 2,
       "version_minor": 0
      },
      "text/plain": [
       "Validation:   0%|          | 0/2063 [00:00<?, ?it/s]"
      ]
     },
     "metadata": {},
     "output_type": "display_data"
    },
    {
     "name": "stdout",
     "output_type": "stream",
     "text": [
      "08/24/2023, 18:00:52# labels of Validation: tensor([  6,  69,  96,   5, 149,  26, 144,   5], device='cuda:1') torch.Size([8])\n",
      "08/24/2023, 18:00:52# predicted of Validation: tensor([ 49,  69, 145,  15,  37,  49,  49,  15], device='cuda:1') torch.Size([8])\n",
      "08/24/2023, 18:00:52# labels of 0: tensor([  6,  69,  96,   5, 149,  26, 144,   5], device='cuda:1') torch.Size([8])\n",
      "08/24/2023, 18:00:52# predicted of 0: tensor([ 49,  69, 145,  15,  37,  49,  49,  15], device='cuda:1') torch.Size([8])\n",
      "08/24/2023, 18:01:09# labels of Validation: tensor([ 54,  97, 128, 144, 135,  72,  55, 115], device='cuda:1') torch.Size([8])\n",
      "08/24/2023, 18:01:09# predicted of Validation: tensor([ 49,  49, 159,  49,  49,  15,  49, 159], device='cuda:1') torch.Size([8])\n",
      "08/24/2023, 18:01:25# labels of Validation: tensor([ 14,  50,  76, 156,  47,  47,  97,  79], device='cuda:1') torch.Size([8])\n",
      "08/24/2023, 18:01:25# predicted of Validation: tensor([49, 15, 49, 52, 49, 49, 49, 15], device='cuda:1') torch.Size([8])\n",
      "08/24/2023, 18:01:26# Validation Loss: 4.4503 | Validation Accuracy: 0.0710\n",
      "\n"
     ]
    },
    {
     "data": {
      "application/vnd.jupyter.widget-view+json": {
       "model_id": "4060de546817495bbae653a0854ba211",
       "version_major": 2,
       "version_minor": 0
      },
      "text/plain": [
       "Training:   0%|          | 0/16500 [00:00<?, ?it/s]"
      ]
     },
     "metadata": {},
     "output_type": "display_data"
    },
    {
     "name": "stdout",
     "output_type": "stream",
     "text": [
      "08/24/2023, 18:03:33# labels of 5000: tensor([ 78, 104, 112, 104, 138,  60,  33, 109], device='cuda:1') torch.Size([8])\n",
      "08/24/2023, 18:03:33# predicted of 5000: tensor([ 78,  24,  37,  43, 138,  24,  37,  37], device='cuda:1') torch.Size([8])\n",
      "08/24/2023, 18:05:39# labels of 10000: tensor([  0,  97, 153,  49,  55, 138,  75,  68], device='cuda:1') torch.Size([8])\n",
      "08/24/2023, 18:05:39# predicted of 10000: tensor([  0, 153, 153, 153, 153, 138, 153, 153], device='cuda:1') torch.Size([8])\n",
      "08/24/2023, 18:07:45# labels of 15000: tensor([153, 120, 138,  41,  15, 129,  94,   3], device='cuda:1') torch.Size([8])\n",
      "08/24/2023, 18:07:45# predicted of 15000: tensor([129,  94, 138, 153,  94, 129,  94,   3], device='cuda:1') torch.Size([8])\n",
      "08/24/2023, 18:08:23# total count: 16500\n",
      "08/24/2023, 18:08:23# Epoch 11 | Train Loss: 2.5619 | Train Accuracy: 0.3898\n"
     ]
    },
    {
     "data": {
      "application/vnd.jupyter.widget-view+json": {
       "model_id": "8910ad89cdaf4aa59ac12bbc53e130d0",
       "version_major": 2,
       "version_minor": 0
      },
      "text/plain": [
       "Validation:   0%|          | 0/2063 [00:00<?, ?it/s]"
      ]
     },
     "metadata": {},
     "output_type": "display_data"
    },
    {
     "name": "stdout",
     "output_type": "stream",
     "text": [
      "08/24/2023, 18:08:23# labels of Validation: tensor([ 81,  84,  89,  41,   3,  70,  24, 124], device='cuda:1') torch.Size([8])\n",
      "08/24/2023, 18:08:23# predicted of Validation: tensor([ 26, 135, 135,  26, 135, 135,  26,  26], device='cuda:1') torch.Size([8])\n",
      "08/24/2023, 18:08:23# labels of 0: tensor([ 81,  84,  89,  41,   3,  70,  24, 124], device='cuda:1') torch.Size([8])\n",
      "08/24/2023, 18:08:23# predicted of 0: tensor([ 26, 135, 135,  26, 135, 135,  26,  26], device='cuda:1') torch.Size([8])\n",
      "08/24/2023, 18:08:39# labels of Validation: tensor([ 90,  38,  40,  85,  33,  24,  93, 135], device='cuda:1') torch.Size([8])\n",
      "08/24/2023, 18:08:39# predicted of Validation: tensor([ 46,  26, 135, 135,  26,  26,  46,  26], device='cuda:1') torch.Size([8])\n",
      "08/24/2023, 18:08:55# labels of Validation: tensor([ 99, 117, 160, 137,   9,  36, 132, 110], device='cuda:1') torch.Size([8])\n",
      "08/24/2023, 18:08:55# predicted of Validation: tensor([145, 135,  46,  26,  26,  26,  46,  46], device='cuda:1') torch.Size([8])\n",
      "08/24/2023, 18:08:56# Validation Loss: 4.9364 | Validation Accuracy: 0.0338\n",
      "\n"
     ]
    },
    {
     "data": {
      "application/vnd.jupyter.widget-view+json": {
       "model_id": "0bef49c5abc54c00a388227a37020c7a",
       "version_major": 2,
       "version_minor": 0
      },
      "text/plain": [
       "Training:   0%|          | 0/16500 [00:00<?, ?it/s]"
      ]
     },
     "metadata": {},
     "output_type": "display_data"
    },
    {
     "name": "stdout",
     "output_type": "stream",
     "text": [
      "08/24/2023, 18:11:01# labels of 5000: tensor([  9,  25, 141,  21,   2,  46,   6, 116], device='cuda:1') torch.Size([8])\n",
      "08/24/2023, 18:11:01# predicted of 5000: tensor([ 71,  25,  21,  21,  71, 141,  21,  71], device='cuda:1') torch.Size([8])\n",
      "08/24/2023, 18:13:06# labels of 10000: tensor([103, 144,  29,  38,   2,  73,  13, 101], device='cuda:1') torch.Size([8])\n",
      "08/24/2023, 18:13:06# predicted of 10000: tensor([101, 101,  29, 101, 101,  13,  73, 101], device='cuda:1') torch.Size([8])\n",
      "08/24/2023, 18:15:12# labels of 15000: tensor([ 89,  43,  51,  84,  35, 155,  81,  54], device='cuda:1') torch.Size([8])\n",
      "08/24/2023, 18:15:12# predicted of 15000: tensor([ 89, 155,  51,  84,  89,  51, 155, 155], device='cuda:1') torch.Size([8])\n",
      "08/24/2023, 18:15:51# total count: 16500\n",
      "08/24/2023, 18:15:51# Epoch 12 | Train Loss: 2.5514 | Train Accuracy: 0.3925\n"
     ]
    },
    {
     "data": {
      "application/vnd.jupyter.widget-view+json": {
       "model_id": "d7082d39c09640b899ccdf96b5554c9f",
       "version_major": 2,
       "version_minor": 0
      },
      "text/plain": [
       "Validation:   0%|          | 0/2063 [00:00<?, ?it/s]"
      ]
     },
     "metadata": {},
     "output_type": "display_data"
    },
    {
     "name": "stdout",
     "output_type": "stream",
     "text": [
      "08/24/2023, 18:15:51# labels of Validation: tensor([ 54, 166,  50,  74, 133,  26,  32, 153], device='cuda:1') torch.Size([8])\n",
      "08/24/2023, 18:15:51# predicted of Validation: tensor([153, 153,  37, 153, 153, 153,  37, 153], device='cuda:1') torch.Size([8])\n",
      "08/24/2023, 18:15:51# labels of 0: tensor([ 54, 166,  50,  74, 133,  26,  32, 153], device='cuda:1') torch.Size([8])\n",
      "08/24/2023, 18:15:51# predicted of 0: tensor([153, 153,  37, 153, 153, 153,  37, 153], device='cuda:1') torch.Size([8])\n",
      "08/24/2023, 18:16:07# labels of Validation: tensor([132, 110,  24,  70,  88,  31, 138, 117], device='cuda:1') torch.Size([8])\n",
      "08/24/2023, 18:16:07# predicted of Validation: tensor([153, 153, 153,  70, 153, 153,  70,  37], device='cuda:1') torch.Size([8])\n",
      "08/24/2023, 18:16:25# labels of Validation: tensor([132,  91,  78,  37, 118, 119,  71, 156], device='cuda:1') torch.Size([8])\n",
      "08/24/2023, 18:16:25# predicted of Validation: tensor([153, 153,  37, 153,  37, 153, 153,  37], device='cuda:1') torch.Size([8])\n",
      "08/24/2023, 18:16:26# Validation Loss: 4.4556 | Validation Accuracy: 0.0415\n",
      "\n"
     ]
    },
    {
     "data": {
      "application/vnd.jupyter.widget-view+json": {
       "model_id": "f5682e7bf5dc44a3b2e914ef464e1156",
       "version_major": 2,
       "version_minor": 0
      },
      "text/plain": [
       "Training:   0%|          | 0/16500 [00:00<?, ?it/s]"
      ]
     },
     "metadata": {},
     "output_type": "display_data"
    },
    {
     "name": "stdout",
     "output_type": "stream",
     "text": [
      "08/24/2023, 18:18:33# labels of 5000: tensor([ 94,  25, 125, 141, 152,  72,  98, 156], device='cuda:1') torch.Size([8])\n",
      "08/24/2023, 18:18:33# predicted of 5000: tensor([ 94,  25,  71, 141,  71, 156, 141, 156], device='cuda:1') torch.Size([8])\n",
      "08/24/2023, 18:20:41# labels of 10000: tensor([ 21, 164,  96, 156, 145, 138,  27,  45], device='cuda:1') torch.Size([8])\n",
      "08/24/2023, 18:20:41# predicted of 10000: tensor([ 21,  21, 145, 156,  96, 138,  45,  45], device='cuda:1') torch.Size([8])\n",
      "08/24/2023, 18:22:49# labels of 15000: tensor([ 98,  51,  79, 156,  78,  57,  40,   8], device='cuda:1') torch.Size([8])\n",
      "08/24/2023, 18:22:49# predicted of 15000: tensor([ 51,  51,  40, 156,  40,  51,  40,  51], device='cuda:1') torch.Size([8])\n",
      "08/24/2023, 18:23:28# total count: 16500\n",
      "08/24/2023, 18:23:28# Epoch 13 | Train Loss: 2.5338 | Train Accuracy: 0.3943\n"
     ]
    },
    {
     "data": {
      "application/vnd.jupyter.widget-view+json": {
       "model_id": "31a50c692ba045ab91afaedc52126d44",
       "version_major": 2,
       "version_minor": 0
      },
      "text/plain": [
       "Validation:   0%|          | 0/2063 [00:00<?, ?it/s]"
      ]
     },
     "metadata": {},
     "output_type": "display_data"
    },
    {
     "name": "stdout",
     "output_type": "stream",
     "text": [
      "08/24/2023, 18:23:28# labels of Validation: tensor([ 23,  96, 101, 127, 137, 163, 160, 137], device='cuda:1') torch.Size([8])\n",
      "08/24/2023, 18:23:28# predicted of Validation: tensor([ 56,  25,  58, 165,  58,  58,  58,  58], device='cuda:1') torch.Size([8])\n",
      "08/24/2023, 18:23:28# labels of 0: tensor([ 23,  96, 101, 127, 137, 163, 160, 137], device='cuda:1') torch.Size([8])\n",
      "08/24/2023, 18:23:28# predicted of 0: tensor([ 56,  25,  58, 165,  58,  58,  58,  58], device='cuda:1') torch.Size([8])\n",
      "08/24/2023, 18:23:44# labels of Validation: tensor([158,  69,  49,  37, 122, 135,  94,  20], device='cuda:1') torch.Size([8])\n",
      "08/24/2023, 18:23:44# predicted of Validation: tensor([ 58,  69,  58,  58, 165,  58, 117,  58], device='cuda:1') torch.Size([8])\n",
      "08/24/2023, 18:24:00# labels of Validation: tensor([105,   7,  37,  69,   8, 161,  50,  45], device='cuda:1') torch.Size([8])\n",
      "08/24/2023, 18:24:00# predicted of Validation: tensor([117,   7,  58,  69,  58, 104, 117, 117], device='cuda:1') torch.Size([8])\n",
      "08/24/2023, 18:24:01# Validation Loss: 4.2472 | Validation Accuracy: 0.0785\n",
      "\n"
     ]
    },
    {
     "data": {
      "application/vnd.jupyter.widget-view+json": {
       "model_id": "bf1fa2ecce9b486a93e4cbadb5175ad7",
       "version_major": 2,
       "version_minor": 0
      },
      "text/plain": [
       "Training:   0%|          | 0/16500 [00:00<?, ?it/s]"
      ]
     },
     "metadata": {},
     "output_type": "display_data"
    },
    {
     "name": "stdout",
     "output_type": "stream",
     "text": [
      "08/24/2023, 18:26:08# labels of 5000: tensor([ 80,  92,  90, 128,  83,  10, 145, 146], device='cuda:1') torch.Size([8])\n",
      "08/24/2023, 18:26:08# predicted of 5000: tensor([145,  10,  10, 128,  10,  10,  80, 146], device='cuda:1') torch.Size([8])\n",
      "08/24/2023, 18:28:16# labels of 10000: tensor([ 13, 140, 145,  88, 157,  27,  84,  69], device='cuda:1') torch.Size([8])\n",
      "08/24/2023, 18:28:16# predicted of 10000: tensor([ 13, 140, 145,   8, 124,  13, 145,  69], device='cuda:1') torch.Size([8])\n",
      "08/24/2023, 18:30:21# labels of 15000: tensor([ 64, 150, 122, 138, 146,  62, 119,  47], device='cuda:1') torch.Size([8])\n",
      "08/24/2023, 18:30:21# predicted of 15000: tensor([131,  90, 122, 138, 146,  62,   9,   1], device='cuda:1') torch.Size([8])\n",
      "08/24/2023, 18:31:00# total count: 16500\n",
      "08/24/2023, 18:31:00# Epoch 14 | Train Loss: 2.5109 | Train Accuracy: 0.3991\n"
     ]
    },
    {
     "data": {
      "application/vnd.jupyter.widget-view+json": {
       "model_id": "95d334bdb35b4a889885705bbeb78377",
       "version_major": 2,
       "version_minor": 0
      },
      "text/plain": [
       "Validation:   0%|          | 0/2063 [00:00<?, ?it/s]"
      ]
     },
     "metadata": {},
     "output_type": "display_data"
    },
    {
     "name": "stdout",
     "output_type": "stream",
     "text": [
      "08/24/2023, 18:31:00# labels of Validation: tensor([ 97, 163,  49, 130, 164,  37,  29, 152], device='cuda:1') torch.Size([8])\n",
      "08/24/2023, 18:31:00# predicted of Validation: tensor([152, 152, 152,  37, 152, 152,  37, 152], device='cuda:1') torch.Size([8])\n",
      "08/24/2023, 18:31:00# labels of 0: tensor([ 97, 163,  49, 130, 164,  37,  29, 152], device='cuda:1') torch.Size([8])\n",
      "08/24/2023, 18:31:00# predicted of 0: tensor([152, 152, 152,  37, 152, 152,  37, 152], device='cuda:1') torch.Size([8])\n",
      "08/24/2023, 18:31:16# labels of Validation: tensor([117,  21, 161,  49,  27, 150, 158,  80], device='cuda:1') torch.Size([8])\n",
      "08/24/2023, 18:31:16# predicted of Validation: tensor([ 37, 152, 152, 152,  37, 152, 152, 156], device='cuda:1') torch.Size([8])\n",
      "08/24/2023, 18:31:32# labels of Validation: tensor([109, 153, 129, 123, 164,  48,   5,  81], device='cuda:1') torch.Size([8])\n",
      "08/24/2023, 18:31:32# predicted of Validation: tensor([152, 152, 152, 123, 152, 152,  37, 152], device='cuda:1') torch.Size([8])\n",
      "08/24/2023, 18:31:33# Validation Loss: 4.5485 | Validation Accuracy: 0.0476\n",
      "\n"
     ]
    },
    {
     "data": {
      "application/vnd.jupyter.widget-view+json": {
       "model_id": "398414a745da4f99a7d7e0d0778105c6",
       "version_major": 2,
       "version_minor": 0
      },
      "text/plain": [
       "Training:   0%|          | 0/16500 [00:00<?, ?it/s]"
      ]
     },
     "metadata": {},
     "output_type": "display_data"
    },
    {
     "name": "stdout",
     "output_type": "stream",
     "text": [
      "08/24/2023, 18:33:41# labels of 5000: tensor([127, 142,  76, 154, 139,   1,  23,  27], device='cuda:1') torch.Size([8])\n",
      "08/24/2023, 18:33:41# predicted of 5000: tensor([127, 139, 139, 154, 139, 139,  23, 127], device='cuda:1') torch.Size([8])\n",
      "08/24/2023, 18:35:48# labels of 10000: tensor([163, 131,  59, 139, 121, 153,  27,  31], device='cuda:1') torch.Size([8])\n",
      "08/24/2023, 18:35:48# predicted of 10000: tensor([153, 108, 153, 153, 153, 153,  27, 153], device='cuda:1') torch.Size([8])\n",
      "08/24/2023, 18:37:56# labels of 15000: tensor([ 51,  57, 155, 155,  34,  20, 164, 156], device='cuda:1') torch.Size([8])\n",
      "08/24/2023, 18:37:56# predicted of 15000: tensor([ 51, 155,  51,  51,  51, 155,  51, 156], device='cuda:1') torch.Size([8])\n",
      "08/24/2023, 18:38:33# total count: 16500\n",
      "08/24/2023, 18:38:33# Epoch 15 | Train Loss: 2.4919 | Train Accuracy: 0.4012\n"
     ]
    },
    {
     "data": {
      "application/vnd.jupyter.widget-view+json": {
       "model_id": "8bc1c0029ff345b5812d23c6f3960fff",
       "version_major": 2,
       "version_minor": 0
      },
      "text/plain": [
       "Validation:   0%|          | 0/2063 [00:00<?, ?it/s]"
      ]
     },
     "metadata": {},
     "output_type": "display_data"
    },
    {
     "name": "stdout",
     "output_type": "stream",
     "text": [
      "08/24/2023, 18:38:33# labels of Validation: tensor([157, 117, 137,  48,  94, 126, 111, 166], device='cuda:1') torch.Size([8])\n",
      "08/24/2023, 18:38:33# predicted of Validation: tensor([ 58, 165,  58,  58, 165, 165,  58,  58], device='cuda:1') torch.Size([8])\n",
      "08/24/2023, 18:38:33# labels of 0: tensor([157, 117, 137,  48,  94, 126, 111, 166], device='cuda:1') torch.Size([8])\n",
      "08/24/2023, 18:38:33# predicted of 0: tensor([ 58, 165,  58,  58, 165, 165,  58,  58], device='cuda:1') torch.Size([8])\n",
      "08/24/2023, 18:38:49# labels of Validation: tensor([110,  19, 156,  41,  77,  78, 150, 112], device='cuda:1') torch.Size([8])\n",
      "08/24/2023, 18:38:49# predicted of Validation: tensor([ 58,  58, 165,  58,  58, 165,  58,  58], device='cuda:1') torch.Size([8])\n",
      "08/24/2023, 18:39:05# labels of Validation: tensor([116,  82,  95, 108,  27, 101,  13, 153], device='cuda:1') torch.Size([8])\n",
      "08/24/2023, 18:39:05# predicted of Validation: tensor([ 58, 165, 165,  58, 165,  58, 165,  58], device='cuda:1') torch.Size([8])\n",
      "08/24/2023, 18:39:07# Validation Loss: 4.6657 | Validation Accuracy: 0.0474\n",
      "\n"
     ]
    },
    {
     "data": {
      "application/vnd.jupyter.widget-view+json": {
       "model_id": "43613dab18b440d298684f358a79cf20",
       "version_major": 2,
       "version_minor": 0
      },
      "text/plain": [
       "Training:   0%|          | 0/16500 [00:00<?, ?it/s]"
      ]
     },
     "metadata": {},
     "output_type": "display_data"
    },
    {
     "name": "stdout",
     "output_type": "stream",
     "text": [
      "08/24/2023, 18:41:12# labels of 5000: tensor([ 55, 154, 166,  93,  76, 161,  44, 147], device='cuda:1') torch.Size([8])\n",
      "08/24/2023, 18:41:12# predicted of 5000: tensor([161, 154, 161, 161, 166, 166, 161, 147], device='cuda:1') torch.Size([8])\n",
      "08/24/2023, 18:43:20# labels of 10000: tensor([ 73,  83, 130,  86,  45,  40,  95,  70], device='cuda:1') torch.Size([8])\n",
      "08/24/2023, 18:43:20# predicted of 10000: tensor([130,  86,  73, 135,  40,  45,  45,  70], device='cuda:1') torch.Size([8])\n",
      "08/24/2023, 18:45:25# labels of 15000: tensor([ 25,   7,  40, 106,  17,  10,  50,  87], device='cuda:1') torch.Size([8])\n",
      "08/24/2023, 18:45:25# predicted of 15000: tensor([ 25,   7,  40, 106,  17,  38,  40, 151], device='cuda:1') torch.Size([8])\n",
      "08/24/2023, 18:46:04# total count: 16500\n",
      "08/24/2023, 18:46:04# Epoch 16 | Train Loss: 2.4822 | Train Accuracy: 0.4023\n"
     ]
    },
    {
     "data": {
      "application/vnd.jupyter.widget-view+json": {
       "model_id": "39ae3410d4334967af0ed174a7cf2bdf",
       "version_major": 2,
       "version_minor": 0
      },
      "text/plain": [
       "Validation:   0%|          | 0/2063 [00:00<?, ?it/s]"
      ]
     },
     "metadata": {},
     "output_type": "display_data"
    },
    {
     "name": "stdout",
     "output_type": "stream",
     "text": [
      "08/24/2023, 18:46:04# labels of Validation: tensor([163,  80, 125, 129,  14, 163,  80, 106], device='cuda:1') torch.Size([8])\n",
      "08/24/2023, 18:46:04# predicted of Validation: tensor([ 57,  25,  57,  38,  57,  57,  25, 106], device='cuda:1') torch.Size([8])\n",
      "08/24/2023, 18:46:04# labels of 0: tensor([163,  80, 125, 129,  14, 163,  80, 106], device='cuda:1') torch.Size([8])\n",
      "08/24/2023, 18:46:04# predicted of 0: tensor([ 57,  25,  57,  38,  57,  57,  25, 106], device='cuda:1') torch.Size([8])\n",
      "08/24/2023, 18:46:20# labels of Validation: tensor([ 86, 139,   3,  76, 143, 116,  47, 119], device='cuda:1') torch.Size([8])\n",
      "08/24/2023, 18:46:20# predicted of Validation: tensor([57, 57, 25, 57, 57, 57, 57, 57], device='cuda:1') torch.Size([8])\n",
      "08/24/2023, 18:46:37# labels of Validation: tensor([ 46,  71,  99, 101, 106, 161,   0, 125], device='cuda:1') torch.Size([8])\n",
      "08/24/2023, 18:46:37# predicted of Validation: tensor([ 57,  57,  25,  38, 106,  51,  37,  57], device='cuda:1') torch.Size([8])\n",
      "08/24/2023, 18:46:38# Validation Loss: 4.5432 | Validation Accuracy: 0.0414\n",
      "\n"
     ]
    },
    {
     "data": {
      "application/vnd.jupyter.widget-view+json": {
       "model_id": "fdcd87d0c07c45cf8892dd831db45e07",
       "version_major": 2,
       "version_minor": 0
      },
      "text/plain": [
       "Training:   0%|          | 0/16500 [00:00<?, ?it/s]"
      ]
     },
     "metadata": {},
     "output_type": "display_data"
    },
    {
     "name": "stdout",
     "output_type": "stream",
     "text": [
      "08/24/2023, 18:48:44# labels of 5000: tensor([ 84,  81,  46, 134,  44,  90, 115,  90], device='cuda:1') torch.Size([8])\n",
      "08/24/2023, 18:48:44# predicted of 5000: tensor([ 84, 162,  46, 134,   8,   8, 115,  59], device='cuda:1') torch.Size([8])\n",
      "08/24/2023, 18:50:52# labels of 10000: tensor([140,  55,   5,  44, 138, 120, 129,  38], device='cuda:1') torch.Size([8])\n",
      "08/24/2023, 18:50:52# predicted of 10000: tensor([140, 129,   5, 129, 138, 120, 129, 129], device='cuda:1') torch.Size([8])\n",
      "08/24/2023, 18:52:59# labels of 15000: tensor([ 58,  19, 150,  89, 123,  20,  45,  39], device='cuda:1') torch.Size([8])\n",
      "08/24/2023, 18:52:59# predicted of 15000: tensor([ 58,  58,  58,  45, 123,  58,  39,  39], device='cuda:1') torch.Size([8])\n",
      "08/24/2023, 18:53:37# total count: 16500\n",
      "08/24/2023, 18:53:37# Epoch 17 | Train Loss: 2.4662 | Train Accuracy: 0.4059\n"
     ]
    },
    {
     "data": {
      "application/vnd.jupyter.widget-view+json": {
       "model_id": "40d4cf6fd15a4b56911b6a4c3afbd5f6",
       "version_major": 2,
       "version_minor": 0
      },
      "text/plain": [
       "Validation:   0%|          | 0/2063 [00:00<?, ?it/s]"
      ]
     },
     "metadata": {},
     "output_type": "display_data"
    },
    {
     "name": "stdout",
     "output_type": "stream",
     "text": [
      "08/24/2023, 18:53:37# labels of Validation: tensor([ 33, 119,  93,   2, 114, 146, 107, 126], device='cuda:1') torch.Size([8])\n",
      "08/24/2023, 18:53:37# predicted of Validation: tensor([116, 116, 116, 116, 116,  52, 116,  29], device='cuda:1') torch.Size([8])\n",
      "08/24/2023, 18:53:37# labels of 0: tensor([ 33, 119,  93,   2, 114, 146, 107, 126], device='cuda:1') torch.Size([8])\n",
      "08/24/2023, 18:53:37# predicted of 0: tensor([116, 116, 116, 116, 116,  52, 116,  29], device='cuda:1') torch.Size([8])\n",
      "08/24/2023, 18:53:53# labels of Validation: tensor([ 39, 118, 132, 162, 106,  46,  38, 154], device='cuda:1') torch.Size([8])\n",
      "08/24/2023, 18:53:53# predicted of Validation: tensor([ 29,  37, 129, 116, 106, 116, 116,  52], device='cuda:1') torch.Size([8])\n",
      "08/24/2023, 18:54:09# labels of Validation: tensor([ 99, 149, 113, 103,  16, 137,  30, 122], device='cuda:1') torch.Size([8])\n",
      "08/24/2023, 18:54:09# predicted of Validation: tensor([ 99,  37, 116, 116,  70, 116, 116,  37], device='cuda:1') torch.Size([8])\n",
      "08/24/2023, 18:54:10# Validation Loss: 4.6244 | Validation Accuracy: 0.0477\n",
      "\n"
     ]
    },
    {
     "data": {
      "application/vnd.jupyter.widget-view+json": {
       "model_id": "e0fc852fb5d74d338b4cb5509be155c4",
       "version_major": 2,
       "version_minor": 0
      },
      "text/plain": [
       "Training:   0%|          | 0/16500 [00:00<?, ?it/s]"
      ]
     },
     "metadata": {},
     "output_type": "display_data"
    },
    {
     "name": "stdout",
     "output_type": "stream",
     "text": [
      "08/24/2023, 18:56:18# labels of 5000: tensor([ 46, 154, 140,  82,  93,   6,  92,  47], device='cuda:1') torch.Size([8])\n",
      "08/24/2023, 18:56:18# predicted of 5000: tensor([ 41,  82, 140,  82,  41,   6,   6,  41], device='cuda:1') torch.Size([8])\n",
      "08/24/2023, 18:58:25# labels of 10000: tensor([ 50,  43, 117, 162,  98,  17, 156,  74], device='cuda:1') torch.Size([8])\n",
      "08/24/2023, 18:58:25# predicted of 10000: tensor([117,  43, 117,  98,  43,  17,  50,  98], device='cuda:1') torch.Size([8])\n",
      "08/24/2023, 19:00:23# labels of 15000: tensor([120, 156,  78,  60, 133,  47, 135, 114], device='cuda:1') torch.Size([8])\n",
      "08/24/2023, 19:00:23# predicted of 15000: tensor([120, 156, 120, 135, 135, 135, 135, 133], device='cuda:1') torch.Size([8])\n",
      "08/24/2023, 19:01:00# total count: 16500\n",
      "08/24/2023, 19:01:00# Epoch 18 | Train Loss: 2.4587 | Train Accuracy: 0.4072\n"
     ]
    },
    {
     "data": {
      "application/vnd.jupyter.widget-view+json": {
       "model_id": "f1f842182982451d8c5a4c0f5fe63883",
       "version_major": 2,
       "version_minor": 0
      },
      "text/plain": [
       "Validation:   0%|          | 0/2063 [00:00<?, ?it/s]"
      ]
     },
     "metadata": {},
     "output_type": "display_data"
    },
    {
     "name": "stdout",
     "output_type": "stream",
     "text": [
      "08/24/2023, 19:01:00# labels of Validation: tensor([128,  21,  94,  64,  51, 126, 114,  59], device='cuda:1') torch.Size([8])\n",
      "08/24/2023, 19:01:00# predicted of Validation: tensor([165, 152, 165, 152, 152, 165, 152, 152], device='cuda:1') torch.Size([8])\n",
      "08/24/2023, 19:01:00# labels of 0: tensor([128,  21,  94,  64,  51, 126, 114,  59], device='cuda:1') torch.Size([8])\n",
      "08/24/2023, 19:01:00# predicted of 0: tensor([165, 152, 165, 152, 152, 165, 152, 152], device='cuda:1') torch.Size([8])\n",
      "08/24/2023, 19:01:10# labels of Validation: tensor([ 64,  85, 145, 125, 142, 133,  49, 137], device='cuda:1') torch.Size([8])\n",
      "08/24/2023, 19:01:10# predicted of Validation: tensor([152, 165, 154, 152, 152, 152, 152, 152], device='cuda:1') torch.Size([8])\n",
      "08/24/2023, 19:01:21# labels of Validation: tensor([117,   9,  20,  20,  68, 113,  91, 124], device='cuda:1') torch.Size([8])\n",
      "08/24/2023, 19:01:21# predicted of Validation: tensor([165, 152, 152, 152, 152, 152, 152, 152], device='cuda:1') torch.Size([8])\n",
      "08/24/2023, 19:01:22# Validation Loss: 4.8430 | Validation Accuracy: 0.0406\n",
      "\n"
     ]
    },
    {
     "data": {
      "application/vnd.jupyter.widget-view+json": {
       "model_id": "ebf1f24e1c9a4671af6a2df42cce9552",
       "version_major": 2,
       "version_minor": 0
      },
      "text/plain": [
       "Training:   0%|          | 0/16500 [00:00<?, ?it/s]"
      ]
     },
     "metadata": {},
     "output_type": "display_data"
    }
   ],
   "source": [
    "from torch.optim import AdamW, lr_scheduler\n",
    "\n",
    "seed = 8787\n",
    "same_seeds(seed)\n",
    "\n",
    "model = GAT(in_dim=50, hidden_dim1=8, hidden_dim2=128, out_dim=168, num_heads=8)\n",
    "# in_dim means the dimension of the node_feat(50 dim, since the 50-dim embedding)\n",
    "# out_dim means the # of the categories -> 168 for out tasks\n",
    "model.load_state_dict(torch.load('model2_initial/initial_weight.pth'))\n",
    "best_model_path = \"../checkpoint_GAT/best_model_repeat_2.pt\"\n",
    "\n",
    "model = model.to(device)\n",
    "\n",
    "optimizer = AdamW(model.parameters(), lr=2e-4)\n",
    "# scheduler = get_linear_schedule_with_warmup(optimizer, num_warmup_steps=100, num_training_steps=total_steps)\n",
    "\n",
    "# T_max control the period of the lr changing -> set 1/10 first\n",
    "scheduler = lr_scheduler.CosineAnnealingLR(optimizer, T_max=100, eta_min=0, last_epoch=- 1, verbose=False)\n",
    "\n",
    "\n",
    "criterion = nn.CrossEntropyLoss()\n",
    "total_steps = 1000\n",
    "\n",
    "# save the best model\n",
    "best_val_loss = float('inf')\n",
    "patience = 50  # Number of epochs with no improvement after which training will be stopped.\n",
    "waiting = 0  # The number of epochs with no improvement so far.\n",
    "\n",
    "\n",
    "# Training Part\n",
    "for epoch in tqdm(range(total_steps)):\n",
    "    # Train\n",
    "    model.train()\n",
    "    total_loss = 0.0\n",
    "    total_accuracy = 0.0\n",
    "    num_batches = 0\n",
    "    \n",
    "    count = 0 \n",
    "    \n",
    "    for data in tqdm(dataloaders['train'], desc=\"Training\", position=0, leave=True):\n",
    "        \n",
    "        count += 1\n",
    "        loss, accuracy, _ = model_fn(data, model, criterion, device, count, which_type='train')\n",
    "        \n",
    "        optimizer.zero_grad()\n",
    "        loss.backward()\n",
    "        optimizer.step()\n",
    "\n",
    "        total_loss += loss.item()\n",
    "        total_accuracy += accuracy.item()\n",
    "        num_batches += 1\n",
    "        \n",
    "    scheduler.step()\n",
    "    add_log_msg(f\"total count: {count}\")\n",
    "\n",
    "    avg_loss = total_loss / num_batches\n",
    "    avg_accuracy = total_accuracy / num_batches\n",
    "\n",
    "    add_log_msg(f'Epoch {epoch} | Train Loss: {avg_loss:.4f} | Train Accuracy: {avg_accuracy:.4f}')\n",
    "\n",
    "    \n",
    "    # Validation Part\n",
    "    model.eval()\n",
    "    total_accuracy = 0.0\n",
    "    total_loss = 0.0\n",
    "    num_batches = 0\n",
    "\n",
    "\n",
    "    with torch.no_grad():\n",
    "        for data in tqdm(dataloaders['valid'], desc=\"Validation\", position=0, leave=True):\n",
    "            loss, accuracy, _ = model_fn(data, model, criterion, device, num_batches, which_type='validation')\n",
    "            total_accuracy += accuracy.item()\n",
    "            total_loss += loss.item()\n",
    "            num_batches += 1\n",
    "\n",
    "    avg_accuracy = total_accuracy / num_batches\n",
    "    current_loss = total_loss / num_batches\n",
    "    \n",
    "    add_log_msg(f'Validation Loss: {current_loss:.4f} | Validation Accuracy: {avg_accuracy:.4f}\\n')\n",
    "    \n",
    "    \n",
    "    if current_loss < best_val_loss:\n",
    "        best_val_loss = current_loss\n",
    "        waiting = 0\n",
    "        \n",
    "        if os.path.exists(best_model_path):\n",
    "            os.remove(best_model_path)\n",
    "\n",
    "        torch.save({\n",
    "                'epoch': epoch,\n",
    "                'model_state_dict': model.state_dict(),\n",
    "                'optimizer_state_dict': optimizer.state_dict(),\n",
    "                'loss': loss,\n",
    "                }, best_model_path)\n",
    "\n",
    "    else:\n",
    "        waiting += 1\n",
    "        if waiting >= patience:\n",
    "            add_log_msg(\"Early stopping\")\n",
    "            break\n",
    "            \n",
    "            \n",
    "# Testing Part\n",
    "model.eval()\n",
    "total = 0\n",
    "correct = 0\n",
    "count = 0\n",
    "\n",
    "with torch.no_grad():\n",
    "    for data in tqdm(dataloaders['test'], desc=\"Testing\", position=0, leave=True):\n",
    "\n",
    "        loss, accuracy, predicted = model_fn(data, model, criterion, device, count, which_type='test')\n",
    "        labels = data[1].to(device)  # Assuming labels are the second element in the tuple\n",
    "        \n",
    "        add_log_msg(f\"labels: {labels} {labels.shape}\")\n",
    "        add_log_msg(f\"predicted: {predicted} {predicted.shape}\")\n",
    "        count += 1\n",
    "        \n",
    "        total += labels.size(0) # label.size(0) is the batch size\n",
    "        correct += (predicted == labels).sum().item() \n",
    "        # (predicted == labels).sum() would return how many of them are equal;\n",
    "        # .item() would make the tensor to the regular value\n",
    "        \n",
    "#     print('Test Accuracy: %d %%' % (100 * correct / total))\n",
    "add_log_msg(f'Test Accuracy: {100 * correct / total} %%')"
   ]
  },
  {
   "cell_type": "code",
   "execution_count": null,
   "metadata": {},
   "outputs": [],
   "source": []
  }
 ],
 "metadata": {
  "kernelspec": {
   "display_name": "Python 3",
   "language": "python",
   "name": "python3"
  },
  "language_info": {
   "codemirror_mode": {
    "name": "ipython",
    "version": 3
   },
   "file_extension": ".py",
   "mimetype": "text/x-python",
   "name": "python",
   "nbconvert_exporter": "python",
   "pygments_lexer": "ipython3",
   "version": "3.6.9"
  }
 },
 "nbformat": 4,
 "nbformat_minor": 2
}
