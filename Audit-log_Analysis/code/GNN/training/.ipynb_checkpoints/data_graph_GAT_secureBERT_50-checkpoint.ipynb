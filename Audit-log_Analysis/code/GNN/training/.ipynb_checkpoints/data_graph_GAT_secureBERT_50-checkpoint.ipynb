{
 "cells": [
  {
   "cell_type": "markdown",
   "metadata": {},
   "source": [
    "# Test of GAT\n",
    "- use DGL\n",
    "- predict `graphs`\n",
    "- test: 0~99\n",
    "- validation: 100~199\n",
    "- train: 200~999\n",
    "- larger lr with scheduler\n",
    "- try the sklearn report"
   ]
  },
  {
   "cell_type": "code",
   "execution_count": 1,
   "metadata": {},
   "outputs": [],
   "source": [
    "import os\n",
    "import dgl\n",
    "import json\n",
    "import torch\n",
    "import torch as th\n",
    "# from tqdm import tqdm\n",
    "from tqdm.notebook import tqdm  # 使用 notebook 版本的 tqdm\n",
    "import torch.nn as nn\n",
    "from dgl.nn import GraphConv, GATConv\n",
    "import torch.nn.functional as F\n",
    "from torch.utils.data import Dataset, DataLoader\n",
    "from transformers import get_linear_schedule_with_warmup\n",
    "from torch.optim import AdamW\n",
    "from sklearn.metrics import classification_report\n"
   ]
  },
  {
   "cell_type": "markdown",
   "metadata": {},
   "source": [
    "- check the GPU and assign the GPU by the best memory usage"
   ]
  },
  {
   "cell_type": "code",
   "execution_count": 2,
   "metadata": {},
   "outputs": [
    {
     "name": "stdout",
     "output_type": "stream",
     "text": [
      "cuda:0\n"
     ]
    }
   ],
   "source": [
    "import subprocess\n",
    "import torch\n",
    "\n",
    "def get_free_gpu():\n",
    "    try:\n",
    "        # Run nvidia-smi command to get GPU details\n",
    "        _output_to_list = lambda x: x.decode('ascii').split('\\n')[:-1]\n",
    "        command = \"nvidia-smi --query-gpu=memory.free --format=csv,nounits,noheader\"\n",
    "        memory_free_info = _output_to_list(subprocess.check_output(command.split())) \n",
    "        memory_free_values = [int(x) for i, x in enumerate(memory_free_info)]\n",
    "        \n",
    "        # Get the GPU with the maximum free memory\n",
    "        best_gpu_id = memory_free_values.index(max(memory_free_values))\n",
    "        return best_gpu_id\n",
    "    except:\n",
    "        # If any exception occurs, default to GPU 0 (this handles cases where nvidia-smi isn't installed)\n",
    "        return 0\n",
    "\n",
    "if torch.cuda.is_available():\n",
    "    # Get the best GPU ID based on free memory and set it\n",
    "    best_gpu_id = get_free_gpu()\n",
    "    device = torch.device(f\"cuda:{best_gpu_id}\")\n",
    "else:\n",
    "    device = torch.device(\"cpu\")\n",
    "    print(\"there's no available GPU\")\n",
    "\n",
    "# device = torch.device(f\"cuda:1\")\n",
    "print(device)\n"
   ]
  },
  {
   "cell_type": "markdown",
   "metadata": {},
   "source": [
    "## Fix the seed"
   ]
  },
  {
   "cell_type": "code",
   "execution_count": 3,
   "metadata": {},
   "outputs": [],
   "source": [
    "import numpy as np\n",
    "import torch\n",
    "import random\n",
    "\n",
    "#fix seed\n",
    "def same_seeds(seed = 8787):\n",
    "    torch.manual_seed(seed)\n",
    "    # random.seed(seed) \n",
    "    if torch.cuda.is_available():\n",
    "        torch.cuda.manual_seed(seed)\n",
    "        torch.cuda.manual_seed_all(seed)  \n",
    "    np.random.seed(seed)  \n",
    "    torch.backends.cudnn.benchmark = False\n",
    "    torch.backends.cudnn.deterministic = True"
   ]
  },
  {
   "cell_type": "markdown",
   "metadata": {},
   "source": [
    "## Data Loader"
   ]
  },
  {
   "cell_type": "code",
   "execution_count": 4,
   "metadata": {},
   "outputs": [],
   "source": [
    "class GraphDataset(Dataset):\n",
    "    def __init__(self, data_list, device):\n",
    "        self.data_list = data_list\n",
    "        self.device = device\n",
    "\n",
    "    def __len__(self):\n",
    "        return len(self.data_list)\n",
    "    \n",
    "    def __getitem__(self, idx):\n",
    "        data = self.data_list[idx]\n",
    "\n",
    "        g = dgl.graph((th.tensor(data[\"edge_index\"][0]), th.tensor(data[\"edge_index\"][1])), num_nodes=data[\"num_nodes\"]).to(self.device)\n",
    "\n",
    "        g.ndata['feat'] = th.tensor(data[\"node_feat\"]).to(self.device)\n",
    "        g.edata['feat'] = th.tensor(data[\"edge_attr\"]).to(self.device)  # Add edge features to graph\n",
    "\n",
    "        return g, th.tensor(data[\"label\"]).to(self.device)\n",
    "\n",
    "\n",
    "def collate(samples):\n",
    "    # The input `samples` is a list of pairs\n",
    "    #  (graph, label).\n",
    "    graphs, labels = map(list, zip(*samples))\n",
    "    batched_graph = dgl.batch(graphs)\n",
    "    return batched_graph, torch.tensor(labels)\n"
   ]
  },
  {
   "cell_type": "code",
   "execution_count": 5,
   "metadata": {},
   "outputs": [
    {
     "data": {
      "application/vnd.jupyter.widget-view+json": {
       "model_id": "165c3d04cc31436abc54ee6322a3d77e",
       "version_major": 2,
       "version_minor": 0
      },
      "text/plain": [
       "  0%|          | 0/3 [00:00<?, ?it/s]"
      ]
     },
     "metadata": {},
     "output_type": "display_data"
    },
    {
     "name": "stdout",
     "output_type": "stream",
     "text": [
      "../../data_processing/dgl/data_new/training_data/exp_2/secureBERT_150/train.jsonl\n"
     ]
    },
    {
     "data": {
      "application/vnd.jupyter.widget-view+json": {
       "model_id": "0fcd2a9a96d24aa98dbb003273fa1adb",
       "version_major": 2,
       "version_minor": 0
      },
      "text/plain": [
       "0it [00:00, ?it/s]"
      ]
     },
     "metadata": {},
     "output_type": "display_data"
    },
    {
     "name": "stdout",
     "output_type": "stream",
     "text": [
      "../../data_processing/dgl/data_new/training_data/exp_2/secureBERT_150/valid.jsonl\n"
     ]
    },
    {
     "data": {
      "application/vnd.jupyter.widget-view+json": {
       "model_id": "1d610400a98b47249fa011a93c24d75c",
       "version_major": 2,
       "version_minor": 0
      },
      "text/plain": [
       "0it [00:00, ?it/s]"
      ]
     },
     "metadata": {},
     "output_type": "display_data"
    },
    {
     "name": "stdout",
     "output_type": "stream",
     "text": [
      "../../data_processing/dgl/data_new/training_data/exp_2/secureBERT_150/test.jsonl\n"
     ]
    },
    {
     "data": {
      "application/vnd.jupyter.widget-view+json": {
       "model_id": "ca232ea2370341209553ab45aefb40d2",
       "version_major": 2,
       "version_minor": 0
      },
      "text/plain": [
       "0it [00:00, ?it/s]"
      ]
     },
     "metadata": {},
     "output_type": "display_data"
    },
    {
     "name": "stdout",
     "output_type": "stream",
     "text": [
      "Datasets loaded!\n"
     ]
    }
   ],
   "source": [
    "datasets = ['train', 'valid', 'test']\n",
    "# datasets = ['test']\n",
    "dataset_data = {}\n",
    "\n",
    "for dataset_name in tqdm(datasets):\n",
    "#     file_path = f\"../../data_processing/dgl/data/test_graph/repeated_{dataset_name}.jsonl\"\n",
    "    file_path = f\"../../data_processing/dgl/data_new/training_data/exp_2/secureBERT_150/{dataset_name}.jsonl\"\n",
    "    \n",
    "    print(file_path)\n",
    "    with open(file_path) as f:\n",
    "        data_list = [json.loads(line) for line in tqdm(f, position=0, leave=True)]\n",
    "    \n",
    "    dataset_data[dataset_name] = GraphDataset(data_list, device)\n",
    "\n",
    "print(\"Datasets loaded!\")"
   ]
  },
  {
   "cell_type": "markdown",
   "metadata": {},
   "source": [
    "- choose batch size"
   ]
  },
  {
   "cell_type": "code",
   "execution_count": 6,
   "metadata": {},
   "outputs": [
    {
     "name": "stdout",
     "output_type": "stream",
     "text": [
      "Error data!!\n"
     ]
    }
   ],
   "source": [
    "def create_dataloaders(batch_size, shuffle=True):\n",
    "    dataloaders = {}\n",
    "    for dataset_name, dataset in dataset_data.items():\n",
    "        # do not shuffle the testing dataset\n",
    "        if dataset_name == \"test\":\n",
    "            dataloaders[dataset_name] = DataLoader(dataset, batch_size=batch_size, shuffle=False, collate_fn=collate)    \n",
    "        else:\n",
    "            dataloaders[dataset_name] = DataLoader(dataset, batch_size=batch_size, shuffle=shuffle, collate_fn=collate)\n",
    "    return dataloaders\n",
    "\n",
    "# dataloaders = create_dataloaders(4)\n",
    "dataloaders = create_dataloaders(16)\n",
    "\n",
    "\n",
    "if (len(dataloaders['test'].dataset) + len(dataloaders['valid'].dataset) + len(dataloaders['train'].dataset)) % 165 != 0: print(\"Error data!!\")\n",
    "else: print(\"OK!\")\n"
   ]
  },
  {
   "cell_type": "markdown",
   "metadata": {},
   "source": [
    "- Turn the print message to a log file"
   ]
  },
  {
   "cell_type": "code",
   "execution_count": 7,
   "metadata": {},
   "outputs": [
    {
     "name": "stdout",
     "output_type": "stream",
     "text": [
      "(Graph(num_nodes=10, num_edges=19,\n",
      "      ndata_schemes={'feat': Scheme(shape=(150,), dtype=torch.float32)}\n",
      "      edata_schemes={'feat': Scheme(shape=(26,), dtype=torch.float32)}), tensor(6, device='cuda:0'))\n",
      "16600\n",
      "16600\n",
      "132800\n",
      "166000\n"
     ]
    }
   ],
   "source": [
    "# print(dataloaders['test'][5])\n",
    "sample = dataset_data['train'][5000]\n",
    "print(sample)\n",
    "\n",
    "print(len(dataloaders['test'].dataset))\n",
    "print(len(dataloaders['valid'].dataset))\n",
    "print(len(dataloaders['train'].dataset))\n",
    "print(len(dataloaders['test'].dataset) + len(dataloaders['valid'].dataset) + len(dataloaders['train'].dataset))"
   ]
  },
  {
   "cell_type": "code",
   "execution_count": 15,
   "metadata": {},
   "outputs": [
    {
     "name": "stdout",
     "output_type": "stream",
     "text": [
      "../log_message/0904_10:18_GAT_secureBERT_150.log\n"
     ]
    }
   ],
   "source": [
    "import datetime\n",
    "\n",
    "now = datetime.datetime.now()\n",
    "\n",
    "formatted_time = now.strftime(\"%m%d_%H:%M\")\n",
    "\n",
    "log_file_path = f\"../log_message/{formatted_time}_GAT_secureBERT_150.log\"\n",
    "\n",
    "def add_log_msg(msg, log_file_path=log_file_path):\n",
    "    with open(log_file_path, 'a') as f:\n",
    "        f.write(f'{datetime.datetime.now().strftime(\"%m/%d/%Y, %H:%M:%S\")}# {msg}\\n')\n",
    "    print(f'{datetime.datetime.now().strftime(\"%m/%d/%Y, %H:%M:%S\")}# {msg}')\n",
    "\n",
    "print(log_file_path)"
   ]
  },
  {
   "cell_type": "markdown",
   "metadata": {},
   "source": [
    "### Model"
   ]
  },
  {
   "cell_type": "code",
   "execution_count": 16,
   "metadata": {},
   "outputs": [],
   "source": [
    "class GAT(nn.Module):\n",
    "    def __init__(self, in_dim, hidden_dim, out_dim, num_heads, dropout_prob=0.25):\n",
    "        super(GAT, self).__init__()\n",
    "        \n",
    "        # do not check the zero in_degree since we have all the complete graph\n",
    "        self.layer1 = GATConv(in_dim, hidden_dim, num_heads=num_heads, activation=F.relu, allow_zero_in_degree=True)\n",
    "        self.layer2 = GATConv(hidden_dim * num_heads, out_dim, num_heads=num_heads, allow_zero_in_degree=True)\n",
    "        \n",
    "        # Adding Batch Normalization after each GAT layer\n",
    "        self.batchnorm1 = nn.BatchNorm1d(hidden_dim * num_heads)\n",
    "        self.batchnorm2 = nn.BatchNorm1d(out_dim)\n",
    "        \n",
    "        # Adding Dropout for regularization\n",
    "        self.dropout = nn.Dropout(dropout_prob)\n",
    "\n",
    "    def forward(self, g, h):\n",
    "        # Apply GAT layers\n",
    "        h = self.layer1(g, h)\n",
    "        h = h.view(h.shape[0], -1)\n",
    "        h = F.relu(h)\n",
    "        h = self.dropout(h)\n",
    "        h = self.layer2(g, h).squeeze(1)\n",
    "        \n",
    "        # Store the output as a new node feature\n",
    "        g.ndata['h_out'] = h\n",
    "\n",
    "        # Use mean pooling to aggregate this new node feature\n",
    "        h_agg = dgl.mean_nodes(g, feat='h_out')\n",
    "        return h_agg\n",
    "\n",
    "    "
   ]
  },
  {
   "cell_type": "markdown",
   "metadata": {},
   "source": [
    "- Model Forward  "
   ]
  },
  {
   "cell_type": "code",
   "execution_count": 17,
   "metadata": {},
   "outputs": [],
   "source": [
    "def model_fn(data, model, criterion, device, count=1, which_type='train'):\n",
    "    \"\"\"Forward a batch through the model.\"\"\"\n",
    "    batched_g, labels = data\n",
    "    batched_g = batched_g.to(device)\n",
    "    \n",
    "    labels = labels.to(device)\n",
    "    logits = model(batched_g, batched_g.ndata['feat'].float()) # for GAT\n",
    "    logits = logits.mean(dim=1)\n",
    "    \n",
    "    loss = criterion(logits, labels)\n",
    "\n",
    "    # Get the class id with the highest probability\n",
    "    preds = logits.argmax(1)\n",
    "    \n",
    "    # Compute accuracy\n",
    "    accuracy = torch.mean((preds == labels).float())\n",
    "    \n",
    "    if which_type == 'validation' and count % 1000 == 0:\n",
    "        add_log_msg(f\"labels of Validation: {labels} {labels.shape}\")\n",
    "        add_log_msg(f\"predicted of Validation: {preds} {preds.shape}\")\n",
    "        \n",
    "    elif which_type == 'test'  and count % 1000 == 0:\n",
    "        add_log_msg(f\"labels of Test: {labels} {labels.shape}\")\n",
    "        add_log_msg(f\"predicted of Test: {preds} {preds.shape}\")\n",
    "        \n",
    "    if count % 5000 == 0: \n",
    "        add_log_msg(f\"labels of {count}: {labels} {labels.shape}\")\n",
    "        add_log_msg(f\"predicted of {count}: {preds} {preds.shape}\")\n",
    "        \n",
    "    return loss, accuracy, preds"
   ]
  },
  {
   "cell_type": "markdown",
   "metadata": {},
   "source": [
    "### Training"
   ]
  },
  {
   "cell_type": "markdown",
   "metadata": {},
   "source": [
    "- Fix the seed and save the model.state_dict that contains the initial weight"
   ]
  },
  {
   "cell_type": "code",
   "execution_count": 18,
   "metadata": {},
   "outputs": [],
   "source": [
    "seed = 8787\n",
    "same_seeds(seed)\n",
    "\n",
    "model = GAT(in_dim=150, hidden_dim=16, out_dim=168, num_heads=8)\n",
    "torch.save(model.state_dict(), 'model1_initial/initial_weight.pth')"
   ]
  },
  {
   "cell_type": "code",
   "execution_count": 19,
   "metadata": {},
   "outputs": [
    {
     "data": {
      "text/plain": [
       "Parameter containing:\n",
       "tensor([[-0.1088, -0.0760,  0.1288,  ..., -0.1192, -0.0175,  0.0021],\n",
       "        [ 0.0325,  0.0195, -0.1396,  ...,  0.0864, -0.0855,  0.1670],\n",
       "        [-0.0041, -0.0149, -0.0657,  ..., -0.0180, -0.0733,  0.1429],\n",
       "        ...,\n",
       "        [ 0.2402, -0.1547, -0.0973,  ...,  0.0845, -0.2335, -0.0765],\n",
       "        [ 0.1358,  0.1819, -0.1881,  ..., -0.0790, -0.0578, -0.2301],\n",
       "        [ 0.0297, -0.0572, -0.1424,  ...,  0.2224, -0.1195,  0.0005]],\n",
       "       requires_grad=True)"
      ]
     },
     "execution_count": 19,
     "metadata": {},
     "output_type": "execute_result"
    }
   ],
   "source": [
    "model.layer1.fc.weight"
   ]
  },
  {
   "cell_type": "markdown",
   "metadata": {},
   "source": [
    "- Check if model really load the model_dict"
   ]
  },
  {
   "cell_type": "code",
   "execution_count": 20,
   "metadata": {},
   "outputs": [
    {
     "data": {
      "text/plain": [
       "Parameter containing:\n",
       "tensor([[-0.1088, -0.0760,  0.1288,  ..., -0.1192, -0.0175,  0.0021],\n",
       "        [ 0.0325,  0.0195, -0.1396,  ...,  0.0864, -0.0855,  0.1670],\n",
       "        [-0.0041, -0.0149, -0.0657,  ..., -0.0180, -0.0733,  0.1429],\n",
       "        ...,\n",
       "        [ 0.2402, -0.1547, -0.0973,  ...,  0.0845, -0.2335, -0.0765],\n",
       "        [ 0.1358,  0.1819, -0.1881,  ..., -0.0790, -0.0578, -0.2301],\n",
       "        [ 0.0297, -0.0572, -0.1424,  ...,  0.2224, -0.1195,  0.0005]],\n",
       "       requires_grad=True)"
      ]
     },
     "execution_count": 20,
     "metadata": {},
     "output_type": "execute_result"
    }
   ],
   "source": [
    "model = GAT(in_dim=150, hidden_dim=16, out_dim=168, num_heads=8)\n",
    "model.load_state_dict(torch.load('model1_initial/initial_weight.pth'))\n",
    "model.layer1.fc.weight"
   ]
  },
  {
   "cell_type": "markdown",
   "metadata": {},
   "source": [
    "### test of valid and test part is ``graph``"
   ]
  },
  {
   "cell_type": "markdown",
   "metadata": {},
   "source": [
    "- Batch size = 4\n",
    "- use large lr and scheduler"
   ]
  },
  {
   "cell_type": "code",
   "execution_count": null,
   "metadata": {
    "scrolled": true
   },
   "outputs": [
    {
     "data": {
      "application/vnd.jupyter.widget-view+json": {
       "model_id": "dbb0f57fb4814e8799e27797c3ee5c13",
       "version_major": 2,
       "version_minor": 0
      },
      "text/plain": [
       "  0%|          | 0/25 [00:00<?, ?it/s]"
      ]
     },
     "metadata": {},
     "output_type": "display_data"
    },
    {
     "data": {
      "application/vnd.jupyter.widget-view+json": {
       "model_id": "e9581524ae254e72898e889eb9f66219",
       "version_major": 2,
       "version_minor": 0
      },
      "text/plain": [
       "Training:   0%|          | 0/8300 [00:00<?, ?it/s]"
      ]
     },
     "metadata": {},
     "output_type": "display_data"
    },
    {
     "name": "stdout",
     "output_type": "stream",
     "text": [
      "09/04/2023, 10:21:19# labels of 5000: tensor([ 85, 134,  50,   0, 122,  30,   5, 125,  63,  55, 154,  89,  95,  64,\n",
      "        141,  12], device='cuda:0') torch.Size([16])\n",
      "09/04/2023, 10:21:19# predicted of 5000: tensor([ 16,   7,  17,  96,  40,  12,  96, 161, 161, 161,   7,  25,   3, 132,\n",
      "        132,  12], device='cuda:0') torch.Size([16])\n",
      "09/04/2023, 10:22:29# total batches: 8300\n",
      "09/04/2023, 10:22:29# Epoch 0 | Train Loss: 4.4266 | Train Accuracy: 0.0388\n"
     ]
    },
    {
     "data": {
      "application/vnd.jupyter.widget-view+json": {
       "model_id": "add5d53bcc384f9bacb776baec30b193",
       "version_major": 2,
       "version_minor": 0
      },
      "text/plain": [
       "Validation:   0%|          | 0/1038 [00:00<?, ?it/s]"
      ]
     },
     "metadata": {},
     "output_type": "display_data"
    },
    {
     "name": "stdout",
     "output_type": "stream",
     "text": [
      "09/04/2023, 10:22:29# labels of Validation: tensor([ 84,  99,   9,   4,  77, 115,  34,  84,  74, 115,  28,  93,  19, 141,\n",
      "         98,  86], device='cuda:0') torch.Size([16])\n",
      "09/04/2023, 10:22:29# predicted of Validation: tensor([ 80,  99, 132, 132, 132, 128, 132,   3, 132, 127, 132, 132, 132, 132,\n",
      "        132, 132], device='cuda:0') torch.Size([16])\n",
      "09/04/2023, 10:22:30# labels of 0: tensor([ 84,  99,   9,   4,  77, 115,  34,  84,  74, 115,  28,  93,  19, 141,\n",
      "         98,  86], device='cuda:0') torch.Size([16])\n",
      "09/04/2023, 10:22:30# predicted of 0: tensor([ 80,  99, 132, 132, 132, 128, 132,   3, 132, 127, 132, 132, 132, 132,\n",
      "        132, 132], device='cuda:0') torch.Size([16])\n",
      "09/04/2023, 10:22:44# labels of Validation: tensor([125, 107, 155, 148, 117,  23,  20, 110,  72, 111,  28,  47, 166,  60,\n",
      "        130,  82], device='cuda:0') torch.Size([16])\n",
      "09/04/2023, 10:22:44# predicted of Validation: tensor([132, 132, 132, 132, 146, 145, 132, 132,   0, 132, 132, 132, 132, 132,\n",
      "          0,   7], device='cuda:0') torch.Size([16])\n",
      "09/04/2023, 10:22:44# Validation Loss: 4.2027 | Validation Accuracy: 0.0614\n",
      "\n"
     ]
    },
    {
     "data": {
      "application/vnd.jupyter.widget-view+json": {
       "model_id": "d632e60ccf984677a0d166c50fea5c31",
       "version_major": 2,
       "version_minor": 0
      },
      "text/plain": [
       "Training:   0%|          | 0/8300 [00:00<?, ?it/s]"
      ]
     },
     "metadata": {},
     "output_type": "display_data"
    },
    {
     "name": "stdout",
     "output_type": "stream",
     "text": [
      "09/04/2023, 10:24:27# labels of 5000: tensor([ 64,  23,  76,  14,  46,  32,  46,  83,   2,  14,  58, 113,  19,   4,\n",
      "        139, 138], device='cuda:0') torch.Size([16])\n",
      "09/04/2023, 10:24:27# predicted of 5000: tensor([132,  80, 132,  11, 132,  99,  11, 132, 132,  11, 132,  11,  11, 132,\n",
      "        132,  70], device='cuda:0') torch.Size([16])\n",
      "09/04/2023, 10:25:37# total batches: 8300\n",
      "09/04/2023, 10:25:37# Epoch 1 | Train Loss: 4.1617 | Train Accuracy: 0.0697\n"
     ]
    },
    {
     "data": {
      "application/vnd.jupyter.widget-view+json": {
       "model_id": "2b4b091d47f64fdeaf90b9c50f8b7cd1",
       "version_major": 2,
       "version_minor": 0
      },
      "text/plain": [
       "Validation:   0%|          | 0/1038 [00:00<?, ?it/s]"
      ]
     },
     "metadata": {},
     "output_type": "display_data"
    },
    {
     "name": "stdout",
     "output_type": "stream",
     "text": [
      "09/04/2023, 10:25:37# labels of Validation: tensor([ 10,  95,  61,  83,   2, 165,  73,   9,  24,  75,  49,  99, 161,  34,\n",
      "        103,  56], device='cuda:0') torch.Size([16])\n",
      "09/04/2023, 10:25:37# predicted of Validation: tensor([161,  89,  15, 161, 161, 165, 146, 161, 161, 161, 161,  80, 161, 161,\n",
      "        161,  15], device='cuda:0') torch.Size([16])\n",
      "09/04/2023, 10:25:37# labels of 0: tensor([ 10,  95,  61,  83,   2, 165,  73,   9,  24,  75,  49,  99, 161,  34,\n",
      "        103,  56], device='cuda:0') torch.Size([16])\n",
      "09/04/2023, 10:25:37# predicted of 0: tensor([161,  89,  15, 161, 161, 165, 146, 161, 161, 161, 161,  80, 161, 161,\n",
      "        161,  15], device='cuda:0') torch.Size([16])\n",
      "09/04/2023, 10:25:51# labels of Validation: tensor([151,  20, 111,  59,  21,   6, 140,  16,  53,  43,  40,  17, 102,  24,\n",
      "         93,  48], device='cuda:0') torch.Size([16])\n",
      "09/04/2023, 10:25:51# predicted of Validation: tensor([161, 161, 161, 161, 161, 161,  80,  16, 161, 161, 146,  80, 161, 161,\n",
      "        161, 161], device='cuda:0') torch.Size([16])\n",
      "09/04/2023, 10:25:51# Validation Loss: 4.0737 | Validation Accuracy: 0.0794\n",
      "\n",
      "09/04/2023, 10:25:51# Find a better model!!\n"
     ]
    },
    {
     "data": {
      "application/vnd.jupyter.widget-view+json": {
       "model_id": "329c31c6659649eda85e8ca272064fbb",
       "version_major": 2,
       "version_minor": 0
      },
      "text/plain": [
       "Training:   0%|          | 0/8300 [00:00<?, ?it/s]"
      ]
     },
     "metadata": {},
     "output_type": "display_data"
    },
    {
     "name": "stdout",
     "output_type": "stream",
     "text": [
      "09/04/2023, 10:27:42# labels of 5000: tensor([ 80,  70,  51,  37, 136, 140,  99, 106,  65,  48,  33,  87,  18,  74,\n",
      "         86,  74], device='cuda:0') torch.Size([16])\n",
      "09/04/2023, 10:27:42# predicted of 5000: tensor([136, 138,  83,  83,  80,   5,  99, 106, 132,  51,  51,  83,  51,  51,\n",
      "         51,  83], device='cuda:0') torch.Size([16])\n",
      "09/04/2023, 10:29:03# total batches: 8300\n",
      "09/04/2023, 10:29:03# Epoch 2 | Train Loss: 4.0840 | Train Accuracy: 0.0816\n"
     ]
    },
    {
     "data": {
      "application/vnd.jupyter.widget-view+json": {
       "model_id": "8b282512f0e240a1a46b1bf79cbc5dbc",
       "version_major": 2,
       "version_minor": 0
      },
      "text/plain": [
       "Validation:   0%|          | 0/1038 [00:00<?, ?it/s]"
      ]
     },
     "metadata": {},
     "output_type": "display_data"
    },
    {
     "name": "stdout",
     "output_type": "stream",
     "text": [
      "09/04/2023, 10:29:03# labels of Validation: tensor([ 99, 124,  98,  59, 126,   2, 118,  34,  41,  36, 164, 120,  81,   2,\n",
      "         43,  77], device='cuda:0') torch.Size([16])\n",
      "09/04/2023, 10:29:03# predicted of Validation: tensor([ 99, 129, 129,   6,  62, 129, 149, 129, 129, 129, 129,  62, 129, 129,\n",
      "        129,   6], device='cuda:0') torch.Size([16])\n",
      "09/04/2023, 10:29:03# labels of 0: tensor([ 99, 124,  98,  59, 126,   2, 118,  34,  41,  36, 164, 120,  81,   2,\n",
      "         43,  77], device='cuda:0') torch.Size([16])\n",
      "09/04/2023, 10:29:03# predicted of 0: tensor([ 99, 129, 129,   6,  62, 129, 149, 129, 129, 129, 129,  62, 129, 129,\n",
      "        129,   6], device='cuda:0') torch.Size([16])\n",
      "09/04/2023, 10:29:18# labels of Validation: tensor([ 95, 145,  46, 134,  36,   3, 105, 152, 144, 139,  86,  61,  53,  76,\n",
      "         32,  26], device='cuda:0') torch.Size([16])\n",
      "09/04/2023, 10:29:18# predicted of Validation: tensor([128,   3, 129, 134, 129,   3,  23, 129, 129, 129, 129,  62, 129, 129,\n",
      "          0, 129], device='cuda:0') torch.Size([16])\n",
      "09/04/2023, 10:29:18# Validation Loss: 4.0135 | Validation Accuracy: 0.0824\n",
      "\n",
      "09/04/2023, 10:29:18# Find a better model!!\n"
     ]
    },
    {
     "data": {
      "application/vnd.jupyter.widget-view+json": {
       "model_id": "ca77836e13224cd88ab0a0ca3df475bc",
       "version_major": 2,
       "version_minor": 0
      },
      "text/plain": [
       "Training:   0%|          | 0/8300 [00:00<?, ?it/s]"
      ]
     },
     "metadata": {},
     "output_type": "display_data"
    },
    {
     "name": "stdout",
     "output_type": "stream",
     "text": [
      "09/04/2023, 10:31:15# labels of 5000: tensor([141, 129,  93, 126,  68,  17, 147,  64,  78,  78,  64, 100,  33, 157,\n",
      "        148, 110], device='cuda:0') torch.Size([16])\n",
      "09/04/2023, 10:31:15# predicted of 5000: tensor([161, 161, 161,  50, 161,  17,  96, 161,  50, 159, 161,  14, 161, 161,\n",
      "        161, 161], device='cuda:0') torch.Size([16])\n",
      "09/04/2023, 10:32:31# total batches: 8300\n",
      "09/04/2023, 10:32:31# Epoch 3 | Train Loss: 4.0369 | Train Accuracy: 0.0878\n"
     ]
    },
    {
     "data": {
      "application/vnd.jupyter.widget-view+json": {
       "model_id": "756393b34bcb4ac28dc5e2c3238878e2",
       "version_major": 2,
       "version_minor": 0
      },
      "text/plain": [
       "Validation:   0%|          | 0/1038 [00:00<?, ?it/s]"
      ]
     },
     "metadata": {},
     "output_type": "display_data"
    },
    {
     "name": "stdout",
     "output_type": "stream",
     "text": [
      "09/04/2023, 10:32:31# labels of Validation: tensor([162, 158,  80,  52,   3, 164,   3, 133, 143, 110, 112,  43, 126, 106,\n",
      "         49,  91], device='cuda:0') torch.Size([16])\n",
      "09/04/2023, 10:32:31# predicted of Validation: tensor([  9,   9, 140,  82,  99,   9,  99, 133,   9, 133,   9,   9, 128, 106,\n",
      "          9, 132], device='cuda:0') torch.Size([16])\n",
      "09/04/2023, 10:32:31# labels of 0: tensor([162, 158,  80,  52,   3, 164,   3, 133, 143, 110, 112,  43, 126, 106,\n",
      "         49,  91], device='cuda:0') torch.Size([16])\n",
      "09/04/2023, 10:32:31# predicted of 0: tensor([  9,   9, 140,  82,  99,   9,  99, 133,   9, 133,   9,   9, 128, 106,\n",
      "          9, 132], device='cuda:0') torch.Size([16])\n",
      "09/04/2023, 10:32:49# labels of Validation: tensor([141, 109,  59,  34, 103, 137,  36,  83, 118,  37,  48,  37,  21,  11,\n",
      "        160,   5], device='cuda:0') torch.Size([16])\n",
      "09/04/2023, 10:32:49# predicted of Validation: tensor([133,   9, 132,   9, 133,   9,   9,   9, 118, 133,   9, 133, 132,   9,\n",
      "        133,  61], device='cuda:0') torch.Size([16])\n",
      "09/04/2023, 10:32:49# Validation Loss: 3.9785 | Validation Accuracy: 0.1085\n",
      "\n",
      "09/04/2023, 10:32:49# Find a better model!!\n"
     ]
    },
    {
     "data": {
      "application/vnd.jupyter.widget-view+json": {
       "model_id": "aded7c5854af4229bdbde137b7b8c46f",
       "version_major": 2,
       "version_minor": 0
      },
      "text/plain": [
       "Training:   0%|          | 0/8300 [00:00<?, ?it/s]"
      ]
     },
     "metadata": {},
     "output_type": "display_data"
    },
    {
     "name": "stdout",
     "output_type": "stream",
     "text": [
      "09/04/2023, 10:34:48# labels of 5000: tensor([ 20, 112,  55,  68,   1,  53,  78, 124,  70,  43, 139, 147,  89,  40,\n",
      "          5, 165], device='cuda:0') torch.Size([16])\n",
      "09/04/2023, 10:34:48# predicted of 5000: tensor([ 66,  66,  66, 161,  66,  66,  32,  66,  16,  66,   9, 105, 136, 130,\n",
      "        130, 134], device='cuda:0') torch.Size([16])\n",
      "09/04/2023, 10:36:22# total batches: 8300\n",
      "09/04/2023, 10:36:22# Epoch 4 | Train Loss: 4.0122 | Train Accuracy: 0.0921\n"
     ]
    },
    {
     "data": {
      "application/vnd.jupyter.widget-view+json": {
       "model_id": "ed06dca5cb674b62a09bb001a7629fe1",
       "version_major": 2,
       "version_minor": 0
      },
      "text/plain": [
       "Validation:   0%|          | 0/1038 [00:00<?, ?it/s]"
      ]
     },
     "metadata": {},
     "output_type": "display_data"
    },
    {
     "name": "stdout",
     "output_type": "stream",
     "text": [
      "09/04/2023, 10:36:22# labels of Validation: tensor([ 44,  74,  73,   5, 157,  59, 100, 112,  67,  34, 138, 154,  51,  13,\n",
      "         49,  34], device='cuda:0') torch.Size([16])\n",
      "09/04/2023, 10:36:22# predicted of Validation: tensor([104, 104,   5,   5, 104, 161, 131, 104, 105, 104, 138,  82, 132,  13,\n",
      "        104, 104], device='cuda:0') torch.Size([16])\n",
      "09/04/2023, 10:36:22# labels of 0: tensor([ 44,  74,  73,   5, 157,  59, 100, 112,  67,  34, 138, 154,  51,  13,\n",
      "         49,  34], device='cuda:0') torch.Size([16])\n",
      "09/04/2023, 10:36:22# predicted of 0: tensor([104, 104,   5,   5, 104, 161, 131, 104, 105, 104, 138,  82, 132,  13,\n",
      "        104, 104], device='cuda:0') torch.Size([16])\n",
      "09/04/2023, 10:36:44# labels of Validation: tensor([ 67, 100,  65,  50,  64,  41, 113, 147, 102, 113,  64,  93, 148, 103,\n",
      "        101,  50], device='cuda:0') torch.Size([16])\n",
      "09/04/2023, 10:36:44# predicted of Validation: tensor([  5, 131, 104,   5, 131, 104, 131,  50, 104, 131, 131, 131, 131, 131,\n",
      "        161,   5], device='cuda:0') torch.Size([16])\n",
      "09/04/2023, 10:36:45# Validation Loss: 3.9505 | Validation Accuracy: 0.0989\n",
      "\n",
      "09/04/2023, 10:36:45# Find a better model!!\n"
     ]
    },
    {
     "data": {
      "application/vnd.jupyter.widget-view+json": {
       "model_id": "a95cd90dba634a79a0f89c03fd76008d",
       "version_major": 2,
       "version_minor": 0
      },
      "text/plain": [
       "Training:   0%|          | 0/8300 [00:00<?, ?it/s]"
      ]
     },
     "metadata": {},
     "output_type": "display_data"
    },
    {
     "name": "stdout",
     "output_type": "stream",
     "text": [
      "09/04/2023, 10:39:27# labels of 5000: tensor([147,  28,  37, 137,  35, 134,  95, 145,  40,  48,  55, 114,  16,  92,\n",
      "        158,  66], device='cuda:0') torch.Size([16])\n",
      "09/04/2023, 10:39:27# predicted of 5000: tensor([ 23,   9,  28,  21, 127, 134, 127,  80, 127,  21,  21,  28,  16,  21,\n",
      "         21, 132], device='cuda:0') torch.Size([16])\n",
      "09/04/2023, 10:41:20# total batches: 8300\n",
      "09/04/2023, 10:41:20# Epoch 5 | Train Loss: 3.9884 | Train Accuracy: 0.0948\n"
     ]
    },
    {
     "data": {
      "application/vnd.jupyter.widget-view+json": {
       "model_id": "c4768cd7519a4f569bf0625e0f5fd896",
       "version_major": 2,
       "version_minor": 0
      },
      "text/plain": [
       "Validation:   0%|          | 0/1038 [00:00<?, ?it/s]"
      ]
     },
     "metadata": {},
     "output_type": "display_data"
    },
    {
     "name": "stdout",
     "output_type": "stream",
     "text": [
      "09/04/2023, 10:41:20# labels of Validation: tensor([153,  17, 153, 104, 143,  11,  92,  87,  89,  50,  57,  42, 151,  49,\n",
      "         55,  39], device='cuda:0') torch.Size([16])\n",
      "09/04/2023, 10:41:20# predicted of Validation: tensor([ 44, 154,  44,  44,  44,  44,  44,  44,  45,  50,  44,  44,  44,  44,\n",
      "         44, 128], device='cuda:0') torch.Size([16])\n",
      "09/04/2023, 10:41:20# labels of 0: tensor([153,  17, 153, 104, 143,  11,  92,  87,  89,  50,  57,  42, 151,  49,\n",
      "         55,  39], device='cuda:0') torch.Size([16])\n",
      "09/04/2023, 10:41:20# predicted of 0: tensor([ 44, 154,  44,  44,  44,  44,  44,  44,  45,  50,  44,  44,  44,  44,\n",
      "         44, 128], device='cuda:0') torch.Size([16])\n",
      "09/04/2023, 10:41:43# labels of Validation: tensor([ 58, 157,  73,  27, 129, 139,  69,  37,  34,  44,  25,  45,  47,  23,\n",
      "         52,   5], device='cuda:0') torch.Size([16])\n",
      "09/04/2023, 10:41:43# predicted of Validation: tensor([ 44,  44, 128,  95, 108,  44,  69, 108,  44,  44,  17,  95,  44, 128,\n",
      "         69,  94], device='cuda:0') torch.Size([16])\n",
      "09/04/2023, 10:41:44# Validation Loss: 3.9297 | Validation Accuracy: 0.0990\n",
      "\n",
      "09/04/2023, 10:41:44# Find a better model!!\n"
     ]
    },
    {
     "data": {
      "application/vnd.jupyter.widget-view+json": {
       "model_id": "169697fe9b2d4334a87d4c7fa47e1928",
       "version_major": 2,
       "version_minor": 0
      },
      "text/plain": [
       "Training:   0%|          | 0/8300 [00:00<?, ?it/s]"
      ]
     },
     "metadata": {},
     "output_type": "display_data"
    }
   ],
   "source": [
    "import csv\n",
    "import pandas as pd\n",
    "from sklearn.metrics import classification_report\n",
    "from torch.optim import AdamW, lr_scheduler\n",
    "\n",
    "seed = 8787\n",
    "same_seeds(seed)\n",
    "\n",
    "model = GAT(in_dim=150, hidden_dim=16, out_dim=168, num_heads=8)\n",
    "# in_dim means the dimension of the node_feat(50 dim, since the 50-dim embedding)\n",
    "# out_dim means the # of the categories -> 168 for out tasks\n",
    "model.load_state_dict(torch.load('model1_initial/initial_weight.pth'))\n",
    "best_model_path = \"../checkpoint_GAT/best_model_GAT_secureBERT_150.pt\"\n",
    "\n",
    "model = model.to(device)\n",
    "\n",
    "# optimizer = torch.optim.AdamW(model.parameters(), lr=1e-5)\n",
    "optimizer = AdamW(model.parameters(), lr=5e-4)\n",
    "# scheduler = get_linear_schedule_with_warmup(optimizer, num_warmup_steps=18, num_training_steps=total_steps)\n",
    "\n",
    "# T_max control the period of the lr changing -> set 1/10 first\n",
    "scheduler = lr_scheduler.CosineAnnealingLR(optimizer, T_max=36, eta_min=0, last_epoch=- 1, verbose=False)\n",
    "\n",
    "\n",
    "criterion = nn.CrossEntropyLoss()\n",
    "total_steps = 25\n",
    "\n",
    "# save the best model\n",
    "best_val_loss = float('inf')\n",
    "patience = 5  # Number of epochs with no improvement after which training will be stopped.\n",
    "waiting = 0  # The number of epochs with no improvement so far.\n",
    "\n",
    "\n",
    "# Training Part\n",
    "for epoch in tqdm(range(total_steps)):\n",
    "    # Train\n",
    "    model.train()\n",
    "    total_loss = 0.0\n",
    "    total_accuracy = 0.0\n",
    "    num_batches = 0\n",
    "    \n",
    "    for data in tqdm(dataloaders['train'], desc=\"Training\", position=0, leave=True):\n",
    "        num_batches += 1\n",
    "        loss, accuracy, _ = model_fn(data, model, criterion, device, num_batches, which_type='train')\n",
    "        \n",
    "        optimizer.zero_grad()\n",
    "        loss.backward()\n",
    "        optimizer.step()\n",
    "\n",
    "        total_loss += loss.item()\n",
    "        total_accuracy += accuracy.item()\n",
    "\n",
    "        \n",
    "#     scheduler.step()\n",
    "    add_log_msg(f\"total batches: {num_batches}\")\n",
    "\n",
    "    avg_loss = total_loss / num_batches\n",
    "    avg_accuracy = total_accuracy / num_batches\n",
    "\n",
    "    add_log_msg(f'Epoch {epoch} | Train Loss: {avg_loss:.4f} | Train Accuracy: {avg_accuracy:.4f}')\n",
    "\n",
    "    \n",
    "    # Validation Part\n",
    "    model.eval()\n",
    "    total_accuracy = 0.0\n",
    "    total_loss = 0.0\n",
    "    num_batches = 0\n",
    "\n",
    "\n",
    "    with torch.no_grad():\n",
    "        for data in tqdm(dataloaders['valid'], desc=\"Validation\", position=0, leave=True):\n",
    "            loss, accuracy, _ = model_fn(data, model, criterion, device, num_batches, which_type='validation')\n",
    "            total_accuracy += accuracy.item()\n",
    "            total_loss += loss.item()\n",
    "            num_batches += 1\n",
    "\n",
    "    avg_accuracy = total_accuracy / num_batches\n",
    "    current_loss = total_loss / num_batches\n",
    "    \n",
    "    add_log_msg(f'Validation Loss: {current_loss:.4f} | Validation Accuracy: {avg_accuracy:.4f}\\n')\n",
    "    \n",
    "    if current_loss < best_val_loss:\n",
    "        best_val_loss = current_loss\n",
    "        waiting = 0\n",
    "        \n",
    "        if os.path.exists(best_model_path):\n",
    "            os.remove(best_model_path)\n",
    "            add_log_msg(\"Find a better model!!\")\n",
    "\n",
    "        torch.save(model.state_dict(), best_model_path)\n",
    "\n",
    "    else:\n",
    "        waiting += 1\n",
    "        if waiting >= patience:\n",
    "            add_log_msg(\"============================== Early stopping ==================================\")\n",
    "            break"
   ]
  },
  {
   "cell_type": "markdown",
   "metadata": {},
   "source": [
    "### Testing Part"
   ]
  },
  {
   "cell_type": "code",
   "execution_count": null,
   "metadata": {},
   "outputs": [],
   "source": [
    "# load the pretrained model\n",
    "pretrained_model_path = '../checkpoint_GAT/best_model_GAT_secureBERT_150.pt'\n",
    "model.load_state_dict(torch.load(pretrained_model_path))\n",
    "\n",
    "model.to(device)\n",
    "model.eval()\n",
    "\n",
    "total = 0\n",
    "correct = 0\n",
    "count = 0\n",
    "\n",
    "true_labels = []\n",
    "predicted_labels = []\n",
    "\n",
    "with torch.no_grad():\n",
    "    for data in tqdm(dataloaders['test'], desc=\"Testing\", position=0, leave=True):\n",
    "\n",
    "        loss, accuracy, predicted = model_fn(data, model, criterion, device, count, which_type='test')\n",
    "        labels = data[1].to(device)\n",
    "        \n",
    "        true_labels.extend(labels.cpu().numpy())\n",
    "        predicted_labels.extend(predicted.cpu().numpy())\n",
    "        \n",
    "        if count % 5000 == 0:\n",
    "            add_log_msg(f\"labels: {labels} {labels.shape}\")\n",
    "            add_log_msg(f\"predicted: {predicted} {predicted.shape}\")\n",
    "            \n",
    "        count += 1\n",
    "        \n",
    "        total += labels.size(0)\n",
    "        correct += (predicted == labels).sum().item()\n",
    "\n",
    "add_log_msg(f'Test Accuracy: {100 * correct / total} %\\n\\n\\n')\n",
    "\n",
    "\n",
    "# ======================================== handlig the output excel files ========================================\n",
    "mapping_file = './new_mapping.txt'\n",
    "label_mapping = {}\n",
    "with open(mapping_file, 'r') as f:\n",
    "    for line in f:\n",
    "        parts = line.strip().split(': ')\n",
    "        label_mapping[int(parts[1])] = parts[0]\n",
    "        \n",
    "# 将映射后的标签应用到true和predicted标签列表\n",
    "mapped_true_labels = [label_mapping[label] for label in true_labels]\n",
    "mapped_predicted_labels = [label_mapping[label] for label in predicted_labels]\n",
    "\n",
    "# 生成Scikit-learn报告信息的DataFrame\n",
    "report_data = classification_report(mapped_true_labels, mapped_predicted_labels, output_dict=True)\n",
    "report_df = pd.DataFrame(report_data).transpose()\n",
    "\n",
    "report_folder = 'classification_report'\n",
    "os.makedirs(report_folder, exist_ok=True)\n",
    "\n",
    "count = 0\n",
    "while True:\n",
    "    report_filename = f'classification_report-secureBERT_150-{count}.xlsx'\n",
    "    labels_filename = f'mapped_true_predicted_labels-secureBERT_150-{count}.xlsx'\n",
    "    \n",
    "    report_path = os.path.join(report_folder, report_filename)\n",
    "    labels_path = os.path.join(report_folder, labels_filename)\n",
    "    \n",
    "    if not os.path.exists(report_path) and not os.path.exists(labels_path):\n",
    "        break\n",
    "    count += 1\n",
    "\n",
    "    \n",
    "report_df.to_excel(report_path, index_label='Label')\n",
    "\n",
    "mapped_labels_df = pd.DataFrame({'true_label': mapped_true_labels, 'predicted_label': mapped_predicted_labels})\n",
    "mapped_labels_df.to_excel(labels_path, index=False)\n",
    "\n",
    "add_log_msg(f\"report path: {report_path}\")\n",
    "add_log_msg(f\"label path: {labels_path}\")\n",
    "\n",
    "mapped_report = classification_report(mapped_true_labels, mapped_predicted_labels)\n",
    "add_log_msg(f\"mapped_report:\\n{mapped_report}\")"
   ]
  },
  {
   "cell_type": "code",
   "execution_count": null,
   "metadata": {},
   "outputs": [],
   "source": []
  },
  {
   "cell_type": "code",
   "execution_count": null,
   "metadata": {},
   "outputs": [],
   "source": []
  }
 ],
 "metadata": {
  "kernelspec": {
   "display_name": "Python 3",
   "language": "python",
   "name": "python3"
  },
  "language_info": {
   "codemirror_mode": {
    "name": "ipython",
    "version": 3
   },
   "file_extension": ".py",
   "mimetype": "text/x-python",
   "name": "python",
   "nbconvert_exporter": "python",
   "pygments_lexer": "ipython3",
   "version": "3.6.9"
  }
 },
 "nbformat": 4,
 "nbformat_minor": 2
}
