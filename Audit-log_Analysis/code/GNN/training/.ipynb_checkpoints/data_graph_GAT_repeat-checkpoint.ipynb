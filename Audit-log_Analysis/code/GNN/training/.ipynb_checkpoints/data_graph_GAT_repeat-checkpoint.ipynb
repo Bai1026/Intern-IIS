{
 "cells": [
  {
   "cell_type": "markdown",
   "metadata": {},
   "source": [
    "# Test of GAT\n",
    "- use DGL\n",
    "- predict `graphs`\n",
    "- test: 0~99\n",
    "- validation: 100~199\n",
    "- train: 200~999\n",
    "- larger lr with scheduler\n",
    "- more epochs"
   ]
  },
  {
   "cell_type": "code",
   "execution_count": 1,
   "metadata": {},
   "outputs": [],
   "source": [
    "import dgl\n",
    "import json\n",
    "import torch\n",
    "import torch as th\n",
    "# from tqdm import tqdm\n",
    "from tqdm.notebook import tqdm  # 使用 notebook 版本的 tqdm\n",
    "import torch.nn as nn\n",
    "from dgl.nn import GraphConv, GATConv\n",
    "import torch.nn.functional as F\n",
    "from torch.utils.data import Dataset, DataLoader\n",
    "from transformers import get_linear_schedule_with_warmup\n",
    "from torch.optim import AdamW"
   ]
  },
  {
   "cell_type": "markdown",
   "metadata": {},
   "source": [
    "- check the GPU and assign the GPU by the best memory usage"
   ]
  },
  {
   "cell_type": "code",
   "execution_count": 2,
   "metadata": {},
   "outputs": [
    {
     "name": "stdout",
     "output_type": "stream",
     "text": [
      "cuda:2\n"
     ]
    }
   ],
   "source": [
    "import subprocess\n",
    "import torch\n",
    "\n",
    "def get_free_gpu():\n",
    "    try:\n",
    "        # Run nvidia-smi command to get GPU details\n",
    "        _output_to_list = lambda x: x.decode('ascii').split('\\n')[:-1]\n",
    "        command = \"nvidia-smi --query-gpu=memory.free --format=csv,nounits,noheader\"\n",
    "        memory_free_info = _output_to_list(subprocess.check_output(command.split())) \n",
    "        memory_free_values = [int(x) for i, x in enumerate(memory_free_info)]\n",
    "        \n",
    "        # Get the GPU with the maximum free memory\n",
    "        best_gpu_id = memory_free_values.index(max(memory_free_values))\n",
    "        return best_gpu_id\n",
    "    except:\n",
    "        # If any exception occurs, default to GPU 0 (this handles cases where nvidia-smi isn't installed)\n",
    "        return 0\n",
    "\n",
    "if torch.cuda.is_available():\n",
    "    # Get the best GPU ID based on free memory and set it\n",
    "    best_gpu_id = get_free_gpu()\n",
    "    device = torch.device(f\"cuda:{best_gpu_id}\")\n",
    "else:\n",
    "    device = torch.device(\"cpu\")\n",
    "    print(\"there's no available GPU\")\n",
    "\n",
    "print(device)\n"
   ]
  },
  {
   "cell_type": "markdown",
   "metadata": {},
   "source": [
    "## Fix the seed"
   ]
  },
  {
   "cell_type": "code",
   "execution_count": 3,
   "metadata": {},
   "outputs": [],
   "source": [
    "import numpy as np\n",
    "import torch\n",
    "import random\n",
    "\n",
    "#fix seed\n",
    "def same_seeds(seed = 8787):\n",
    "    torch.manual_seed(seed)\n",
    "    # random.seed(seed) \n",
    "    if torch.cuda.is_available():\n",
    "        torch.cuda.manual_seed(seed)\n",
    "        torch.cuda.manual_seed_all(seed)  \n",
    "    np.random.seed(seed)  \n",
    "    torch.backends.cudnn.benchmark = False\n",
    "    torch.backends.cudnn.deterministic = True"
   ]
  },
  {
   "cell_type": "markdown",
   "metadata": {},
   "source": [
    "## Data Loader"
   ]
  },
  {
   "cell_type": "code",
   "execution_count": 4,
   "metadata": {},
   "outputs": [],
   "source": [
    "class GraphDataset(Dataset):\n",
    "    def __init__(self, data_list, device):\n",
    "        self.data_list = data_list\n",
    "        self.device = device\n",
    "\n",
    "    def __len__(self):\n",
    "        return len(self.data_list)\n",
    "    \n",
    "    def __getitem__(self, idx):\n",
    "        data = self.data_list[idx]\n",
    "\n",
    "        g = dgl.graph((th.tensor(data[\"edge_index\"][0]), th.tensor(data[\"edge_index\"][1])), num_nodes=data[\"num_nodes\"]).to(self.device)\n",
    "\n",
    "        g.ndata['feat'] = th.tensor(data[\"node_feat\"]).to(self.device)\n",
    "        g.edata['feat'] = th.tensor(data[\"edge_attr\"]).to(self.device)  # Add edge features to graph\n",
    "\n",
    "        return g, th.tensor(data[\"label\"]).to(self.device)\n",
    "\n",
    "\n",
    "def collate(samples):\n",
    "    # The input `samples` is a list of pairs\n",
    "    #  (graph, label).\n",
    "    graphs, labels = map(list, zip(*samples))\n",
    "    batched_graph = dgl.batch(graphs)\n",
    "    return batched_graph, torch.tensor(labels)\n"
   ]
  },
  {
   "cell_type": "code",
   "execution_count": null,
   "metadata": {},
   "outputs": [
    {
     "data": {
      "application/vnd.jupyter.widget-view+json": {
       "model_id": "eda30814a4ae4b4d877d011f7cc34952",
       "version_major": 2,
       "version_minor": 0
      },
      "text/plain": [
       "  0%|          | 0/3 [00:00<?, ?it/s]"
      ]
     },
     "metadata": {},
     "output_type": "display_data"
    },
    {
     "name": "stdout",
     "output_type": "stream",
     "text": [
      "../../data_processing/dgl/data_new/training_data/train.jsonl\n"
     ]
    },
    {
     "data": {
      "application/vnd.jupyter.widget-view+json": {
       "model_id": "d56aa7757dcf4b498fe307a7e089eb25",
       "version_major": 2,
       "version_minor": 0
      },
      "text/plain": [
       "0it [00:00, ?it/s]"
      ]
     },
     "metadata": {},
     "output_type": "display_data"
    }
   ],
   "source": [
    "datasets = ['train', 'valid', 'test']\n",
    "dataset_data = {}\n",
    "\n",
    "for dataset_name in tqdm(datasets):\n",
    "#     file_path = f\"../../data_processing/dgl/data/test_graph/repeated_{dataset_name}.jsonl\"\n",
    "    file_path = f\"../../data_processing/dgl/data_new/training_data/{dataset_name}.jsonl\"\n",
    "    \n",
    "    print(file_path)\n",
    "    with open(file_path) as f:\n",
    "        data_list = [json.loads(line) for line in tqdm(f, position=0, leave=True)]\n",
    "    \n",
    "    dataset_data[dataset_name] = GraphDataset(data_list, device)\n",
    "\n",
    "print(\"Datasets loaded!\")"
   ]
  },
  {
   "cell_type": "markdown",
   "metadata": {},
   "source": [
    "- choose batch size"
   ]
  },
  {
   "cell_type": "code",
   "execution_count": null,
   "metadata": {},
   "outputs": [],
   "source": [
    "def create_dataloaders(batch_size, shuffle=True):\n",
    "    dataloaders = {}\n",
    "    for dataset_name, dataset in dataset_data.items():\n",
    "        dataloaders[dataset_name] = DataLoader(dataset, batch_size=batch_size, shuffle=shuffle, collate_fn=collate)\n",
    "    return dataloaders\n",
    "\n",
    "dataloaders = create_dataloaders(4)\n",
    "# dataloaders = create_dataloaders(16)"
   ]
  },
  {
   "cell_type": "markdown",
   "metadata": {},
   "source": [
    "- Turn the print message to a log file"
   ]
  },
  {
   "cell_type": "code",
   "execution_count": null,
   "metadata": {},
   "outputs": [],
   "source": [
    "import datetime\n",
    "\n",
    "now = datetime.datetime.now()\n",
    "\n",
    "formatted_time = now.strftime(\"%m%d_%H:%M\")\n",
    "\n",
    "log_file_path = f\"../log_message/{formatted_time}_GAT_data_graph_repeat.log\"\n",
    "\n",
    "def add_log_msg(msg, log_file_path=log_file_path):\n",
    "    with open(log_file_path, 'a') as f:\n",
    "        f.write(f'{datetime.datetime.now().strftime(\"%m/%d/%Y, %H:%M:%S\")}# {msg}\\n')\n",
    "    print(f'{datetime.datetime.now().strftime(\"%m/%d/%Y, %H:%M:%S\")}# {msg}')\n",
    "\n",
    "print(log_file_path)"
   ]
  },
  {
   "cell_type": "markdown",
   "metadata": {},
   "source": [
    "### Model"
   ]
  },
  {
   "cell_type": "code",
   "execution_count": null,
   "metadata": {},
   "outputs": [],
   "source": [
    "class GAT(nn.Module):\n",
    "    def __init__(self, in_dim, hidden_dim, out_dim, num_heads, dropout_prob=0.25):\n",
    "        super(GAT, self).__init__()\n",
    "        \n",
    "        # do not check the zero in_degree since we have all the complete graph\n",
    "        self.layer1 = GATConv(in_dim, hidden_dim, num_heads=num_heads, activation=F.relu, allow_zero_in_degree=True)\n",
    "        self.layer2 = GATConv(hidden_dim * num_heads, out_dim, num_heads=num_heads, allow_zero_in_degree=True)\n",
    "        \n",
    "        # Adding Batch Normalization after each GAT layer\n",
    "        self.batchnorm1 = nn.BatchNorm1d(hidden_dim * num_heads)\n",
    "        self.batchnorm2 = nn.BatchNorm1d(out_dim)\n",
    "        \n",
    "        # Adding Dropout for regularization\n",
    "        self.dropout = nn.Dropout(dropout_prob)\n",
    "\n",
    "    def forward(self, g, h):\n",
    "        # Apply GAT layers\n",
    "        h = self.layer1(g, h)\n",
    "        h = h.view(h.shape[0], -1)\n",
    "        h = F.relu(h)\n",
    "        h = self.dropout(h)\n",
    "        h = self.layer2(g, h).squeeze(1)\n",
    "        \n",
    "        # Store the output as a new node feature\n",
    "        g.ndata['h_out'] = h\n",
    "\n",
    "        # Use mean pooling to aggregate this new node feature\n",
    "        h_agg = dgl.mean_nodes(g, feat='h_out')\n",
    "        return h_agg\n",
    "\n",
    "    "
   ]
  },
  {
   "cell_type": "markdown",
   "metadata": {},
   "source": [
    "- Model Forward  "
   ]
  },
  {
   "cell_type": "code",
   "execution_count": null,
   "metadata": {},
   "outputs": [],
   "source": [
    "def model_fn(data, model, criterion, device, count=1, which_type='train'):\n",
    "    \"\"\"Forward a batch through the model.\"\"\"\n",
    "    batched_g, labels = data\n",
    "    batched_g = batched_g.to(device)\n",
    "    \n",
    "    labels = labels.to(device)\n",
    "    logits = model(batched_g, batched_g.ndata['feat'].float()) # for GAT\n",
    "    logits = logits.mean(dim=1)\n",
    "    \n",
    "    loss = criterion(logits, labels)\n",
    "\n",
    "    # Get the class id with the highest probability\n",
    "    preds = logits.argmax(1)\n",
    "    \n",
    "    # Compute accuracy\n",
    "    accuracy = torch.mean((preds == labels).float())\n",
    "    \n",
    "    if which_type == 'validation' and count % 1000 == 0:\n",
    "        add_log_msg(f\"labels of Validation: {labels} {labels.shape}\")\n",
    "        add_log_msg(f\"predicted of Validation: {preds} {preds.shape}\")\n",
    "        \n",
    "    elif which_type == 'test'  and count % 1000 == 0:\n",
    "        add_log_msg(f\"labels of Test: {labels} {labels.shape}\")\n",
    "        add_log_msg(f\"predicted of Test: {preds} {preds.shape}\")\n",
    "        \n",
    "    if count % 5000 == 0: \n",
    "        add_log_msg(f\"labels of {count}: {labels} {labels.shape}\")\n",
    "        add_log_msg(f\"predicted of {count}: {preds} {preds.shape}\")\n",
    "        \n",
    "    return loss, accuracy, preds"
   ]
  },
  {
   "cell_type": "markdown",
   "metadata": {},
   "source": [
    "### Training"
   ]
  },
  {
   "cell_type": "markdown",
   "metadata": {},
   "source": [
    "- Fix the seed and save the model.state_dict that contains the initial weight"
   ]
  },
  {
   "cell_type": "code",
   "execution_count": null,
   "metadata": {},
   "outputs": [],
   "source": [
    "seed = 8787\n",
    "same_seeds(seed)\n",
    "\n",
    "model = GAT(in_dim=50, hidden_dim=16, out_dim=168, num_heads=8)\n",
    "torch.save(model.state_dict(), 'model1_initial/initial_weight.pth')"
   ]
  },
  {
   "cell_type": "code",
   "execution_count": null,
   "metadata": {},
   "outputs": [],
   "source": [
    "model.layer1.fc.weight"
   ]
  },
  {
   "cell_type": "markdown",
   "metadata": {},
   "source": [
    "- Check if model really load the model_dict"
   ]
  },
  {
   "cell_type": "code",
   "execution_count": null,
   "metadata": {},
   "outputs": [],
   "source": [
    "model = GAT(in_dim=50, hidden_dim=16, out_dim=168, num_heads=8)\n",
    "model.load_state_dict(torch.load('model1_initial/initial_weight.pth'))\n",
    "model.layer1.fc.weight"
   ]
  },
  {
   "cell_type": "markdown",
   "metadata": {},
   "source": [
    "### test of valid and test part is ``graph``"
   ]
  },
  {
   "cell_type": "markdown",
   "metadata": {},
   "source": [
    "- \n",
    "- Batch size = 4\n",
    "- use small lr and scheduler"
   ]
  },
  {
   "cell_type": "code",
   "execution_count": 15,
   "metadata": {
    "scrolled": true
   },
   "outputs": [
    {
     "data": {
      "application/vnd.jupyter.widget-view+json": {
       "model_id": "221a4ef5572f4baa9766f05f0508e042",
       "version_major": 2,
       "version_minor": 0
      },
      "text/plain": [
       "  0%|          | 0/1000 [00:00<?, ?it/s]"
      ]
     },
     "metadata": {},
     "output_type": "display_data"
    },
    {
     "data": {
      "application/vnd.jupyter.widget-view+json": {
       "model_id": "78d6aa969f644737afb25d7680457753",
       "version_major": 2,
       "version_minor": 0
      },
      "text/plain": [
       "Training:   0%|          | 0/33000 [00:00<?, ?it/s]"
      ]
     },
     "metadata": {},
     "output_type": "display_data"
    },
    {
     "name": "stdout",
     "output_type": "stream",
     "text": [
      "08/24/2023, 16:18:59# labels of 5000: tensor([107,  73,  21, 144], device='cuda:2') torch.Size([4])\n",
      "08/24/2023, 16:18:59# predicted of 5000: tensor([17, 17, 17, 17], device='cuda:2') torch.Size([4])\n",
      "08/24/2023, 16:20:13# labels of 10000: tensor([ 74,  12, 161,  81], device='cuda:2') torch.Size([4])\n",
      "08/24/2023, 16:20:13# predicted of 10000: tensor([165,  52,  52,  52], device='cuda:2') torch.Size([4])\n",
      "08/24/2023, 16:21:33# labels of 15000: tensor([143,  67,  31, 132], device='cuda:2') torch.Size([4])\n",
      "08/24/2023, 16:21:33# predicted of 15000: tensor([132,  17, 132, 132], device='cuda:2') torch.Size([4])\n",
      "08/24/2023, 16:23:02# labels of 20000: tensor([162,  59, 165, 101], device='cuda:2') torch.Size([4])\n",
      "08/24/2023, 16:23:02# predicted of 20000: tensor([132, 132, 165, 132], device='cuda:2') torch.Size([4])\n",
      "08/24/2023, 16:24:28# labels of 25000: tensor([ 15,  95,  73, 140], device='cuda:2') torch.Size([4])\n",
      "08/24/2023, 16:24:28# predicted of 25000: tensor([118,  25,  80,  99], device='cuda:2') torch.Size([4])\n",
      "08/24/2023, 16:25:54# labels of 30000: tensor([ 35, 145, 119,  70], device='cuda:2') torch.Size([4])\n",
      "08/24/2023, 16:25:54# predicted of 30000: tensor([ 17, 145, 132,  70], device='cuda:2') torch.Size([4])\n",
      "08/24/2023, 16:26:31# total count: 33000\n",
      "08/24/2023, 16:26:31# Epoch 0 | Train Loss: 4.5642 | Train Accuracy: 0.0610\n"
     ]
    },
    {
     "data": {
      "application/vnd.jupyter.widget-view+json": {
       "model_id": "31ab6f23a06445a28fc7436f5be18d83",
       "version_major": 2,
       "version_minor": 0
      },
      "text/plain": [
       "Validation:   0%|          | 0/4125 [00:00<?, ?it/s]"
      ]
     },
     "metadata": {},
     "output_type": "display_data"
    },
    {
     "name": "stdout",
     "output_type": "stream",
     "text": [
      "08/24/2023, 16:26:31# labels of Validation: tensor([134,  42,  29,  24], device='cuda:2') torch.Size([4])\n",
      "08/24/2023, 16:26:31# predicted of Validation: tensor([134,   6, 165,   6], device='cuda:2') torch.Size([4])\n",
      "08/24/2023, 16:26:31# labels of 0: tensor([134,  42,  29,  24], device='cuda:2') torch.Size([4])\n",
      "08/24/2023, 16:26:31# predicted of 0: tensor([134,   6, 165,   6], device='cuda:2') torch.Size([4])\n",
      "08/24/2023, 16:26:38# labels of Validation: tensor([ 46,  39, 146, 148], device='cuda:2') torch.Size([4])\n",
      "08/24/2023, 16:26:38# predicted of Validation: tensor([ 6, 35, 80,  6], device='cuda:2') torch.Size([4])\n",
      "08/24/2023, 16:26:45# labels of Validation: tensor([47, 86, 38, 21], device='cuda:2') torch.Size([4])\n",
      "08/24/2023, 16:26:45# predicted of Validation: tensor([6, 6, 6, 6], device='cuda:2') torch.Size([4])\n",
      "08/24/2023, 16:26:52# labels of Validation: tensor([166, 107,  76, 147], device='cuda:2') torch.Size([4])\n",
      "08/24/2023, 16:26:52# predicted of Validation: tensor([ 6,  6,  6, 80], device='cuda:2') torch.Size([4])\n",
      "08/24/2023, 16:26:59# labels of Validation: tensor([138,  48,  36, 134], device='cuda:2') torch.Size([4])\n",
      "08/24/2023, 16:26:59# predicted of Validation: tensor([138,   6,   6, 134], device='cuda:2') torch.Size([4])\n",
      "08/24/2023, 16:27:00# Validation Loss: 4.0433 | Validation Accuracy: 0.1696\n",
      "\n"
     ]
    },
    {
     "data": {
      "application/vnd.jupyter.widget-view+json": {
       "model_id": "4e181d84bf3e4fcda41bad730034d1ae",
       "version_major": 2,
       "version_minor": 0
      },
      "text/plain": [
       "Training:   0%|          | 0/33000 [00:00<?, ?it/s]"
      ]
     },
     "metadata": {},
     "output_type": "display_data"
    },
    {
     "name": "stdout",
     "output_type": "stream",
     "text": [
      "08/24/2023, 16:28:24# labels of 5000: tensor([ 20, 115, 144, 102], device='cuda:2') torch.Size([4])\n",
      "08/24/2023, 16:28:24# predicted of 5000: tensor([28, 40,  6,  6], device='cuda:2') torch.Size([4])\n",
      "08/24/2023, 16:29:42# labels of 10000: tensor([ 23, 116, 155,   8], device='cuda:2') torch.Size([4])\n",
      "08/24/2023, 16:29:42# predicted of 10000: tensor([ 80,  28, 161, 161], device='cuda:2') torch.Size([4])\n",
      "08/24/2023, 16:30:53# labels of 15000: tensor([123,  52,   8,  17], device='cuda:2') torch.Size([4])\n",
      "08/24/2023, 16:30:53# predicted of 15000: tensor([123,  52, 132,  17], device='cuda:2') torch.Size([4])\n",
      "08/24/2023, 16:32:27# labels of 20000: tensor([132, 100,  17, 112], device='cuda:2') torch.Size([4])\n",
      "08/24/2023, 16:32:27# predicted of 20000: tensor([132, 132,  17, 132], device='cuda:2') torch.Size([4])\n",
      "08/24/2023, 16:34:06# labels of 25000: tensor([135,  90,  58,  95], device='cuda:2') torch.Size([4])\n",
      "08/24/2023, 16:34:06# predicted of 25000: tensor([131,  28, 166,  27], device='cuda:2') torch.Size([4])\n",
      "08/24/2023, 16:35:15# labels of 30000: tensor([ 55, 141, 164,  87], device='cuda:2') torch.Size([4])\n",
      "08/24/2023, 16:35:15# predicted of 30000: tensor([ 21, 101,  21,  21], device='cuda:2') torch.Size([4])\n",
      "08/24/2023, 16:36:05# total count: 33000\n",
      "08/24/2023, 16:36:05# Epoch 1 | Train Loss: 3.7773 | Train Accuracy: 0.2310\n"
     ]
    },
    {
     "data": {
      "application/vnd.jupyter.widget-view+json": {
       "model_id": "453feb65c69b45f58417e47021afab82",
       "version_major": 2,
       "version_minor": 0
      },
      "text/plain": [
       "Validation:   0%|          | 0/4125 [00:00<?, ?it/s]"
      ]
     },
     "metadata": {},
     "output_type": "display_data"
    },
    {
     "name": "stdout",
     "output_type": "stream",
     "text": [
      "08/24/2023, 16:36:05# labels of Validation: tensor([84, 63, 62, 75], device='cuda:2') torch.Size([4])\n",
      "08/24/2023, 16:36:05# predicted of Validation: tensor([84, 28, 62, 28], device='cuda:2') torch.Size([4])\n",
      "08/24/2023, 16:36:05# labels of 0: tensor([84, 63, 62, 75], device='cuda:2') torch.Size([4])\n",
      "08/24/2023, 16:36:05# predicted of 0: tensor([84, 28, 62, 28], device='cuda:2') torch.Size([4])\n",
      "08/24/2023, 16:36:12# labels of Validation: tensor([157,  80,  37,  45], device='cuda:2') torch.Size([4])\n",
      "08/24/2023, 16:36:12# predicted of Validation: tensor([28, 80, 28, 45], device='cuda:2') torch.Size([4])\n",
      "08/24/2023, 16:36:19# labels of Validation: tensor([101, 144,  35, 125], device='cuda:2') torch.Size([4])\n",
      "08/24/2023, 16:36:19# predicted of Validation: tensor([28, 28, 35, 28], device='cuda:2') torch.Size([4])\n",
      "08/24/2023, 16:36:26# labels of Validation: tensor([ 30, 146, 140,  93], device='cuda:2') torch.Size([4])\n",
      "08/24/2023, 16:36:26# predicted of Validation: tensor([ 28, 146, 140,  28], device='cuda:2') torch.Size([4])\n",
      "08/24/2023, 16:36:33# labels of Validation: tensor([ 61,  72,  58, 102], device='cuda:2') torch.Size([4])\n",
      "08/24/2023, 16:36:33# predicted of Validation: tensor([115,  45,  28,  28], device='cuda:2') torch.Size([4])\n",
      "08/24/2023, 16:36:34# Validation Loss: 3.5178 | Validation Accuracy: 0.3285\n",
      "\n"
     ]
    },
    {
     "data": {
      "application/vnd.jupyter.widget-view+json": {
       "model_id": "c3de7ba9936e4313aef8c5f3152d43a3",
       "version_major": 2,
       "version_minor": 0
      },
      "text/plain": [
       "Training:   0%|          | 0/33000 [00:00<?, ?it/s]"
      ]
     },
     "metadata": {},
     "output_type": "display_data"
    },
    {
     "name": "stdout",
     "output_type": "stream",
     "text": [
      "08/24/2023, 16:38:12# labels of 5000: tensor([136, 132,  51, 112], device='cuda:2') torch.Size([4])\n",
      "08/24/2023, 16:38:12# predicted of 5000: tensor([136,   6, 132,   6], device='cuda:2') torch.Size([4])\n",
      "08/24/2023, 16:39:42# labels of 10000: tensor([  0, 102,  98,  60], device='cuda:2') torch.Size([4])\n",
      "08/24/2023, 16:39:42# predicted of 10000: tensor([  0,  51,  90, 155], device='cuda:2') torch.Size([4])\n",
      "08/24/2023, 16:40:47# labels of 15000: tensor([ 72, 134,  31,  32], device='cuda:2') torch.Size([4])\n",
      "08/24/2023, 16:40:47# predicted of 15000: tensor([ 45, 134,  77,  32], device='cuda:2') torch.Size([4])\n",
      "08/24/2023, 16:41:51# labels of 20000: tensor([103, 143, 124,  53], device='cuda:2') torch.Size([4])\n",
      "08/24/2023, 16:41:52# predicted of 20000: tensor([132,  33,  44,   8], device='cuda:2') torch.Size([4])\n",
      "08/24/2023, 16:42:56# labels of 25000: tensor([127, 143,  16, 154], device='cuda:2') torch.Size([4])\n",
      "08/24/2023, 16:42:56# predicted of 25000: tensor([127, 166,  16, 154], device='cuda:2') torch.Size([4])\n",
      "08/24/2023, 16:44:02# labels of 30000: tensor([148, 132,  38,  84], device='cuda:2') torch.Size([4])\n",
      "08/24/2023, 16:44:02# predicted of 30000: tensor([132, 132,  28,  84], device='cuda:2') torch.Size([4])\n",
      "08/24/2023, 16:44:41# total count: 33000\n",
      "08/24/2023, 16:44:41# Epoch 2 | Train Loss: 3.3751 | Train Accuracy: 0.3221\n"
     ]
    },
    {
     "data": {
      "application/vnd.jupyter.widget-view+json": {
       "model_id": "6108d3fc6a56402eb1df17966de56f78",
       "version_major": 2,
       "version_minor": 0
      },
      "text/plain": [
       "Validation:   0%|          | 0/4125 [00:00<?, ?it/s]"
      ]
     },
     "metadata": {},
     "output_type": "display_data"
    },
    {
     "name": "stdout",
     "output_type": "stream",
     "text": [
      "08/24/2023, 16:44:41# labels of Validation: tensor([67, 80, 97, 36], device='cuda:2') torch.Size([4])\n",
      "08/24/2023, 16:44:41# predicted of Validation: tensor([ 78,  80, 101, 101], device='cuda:2') torch.Size([4])\n",
      "08/24/2023, 16:44:41# labels of 0: tensor([67, 80, 97, 36], device='cuda:2') torch.Size([4])\n",
      "08/24/2023, 16:44:41# predicted of 0: tensor([ 78,  80, 101, 101], device='cuda:2') torch.Size([4])\n",
      "08/24/2023, 16:44:49# labels of Validation: tensor([112, 142, 164, 154], device='cuda:2') torch.Size([4])\n",
      "08/24/2023, 16:44:49# predicted of Validation: tensor([101, 101, 101, 154], device='cuda:2') torch.Size([4])\n",
      "08/24/2023, 16:44:57# labels of Validation: tensor([154, 159,  24,  98], device='cuda:2') torch.Size([4])\n",
      "08/24/2023, 16:44:57# predicted of Validation: tensor([154, 159, 101, 101], device='cuda:2') torch.Size([4])\n",
      "08/24/2023, 16:45:04# labels of Validation: tensor([26, 79, 28, 36], device='cuda:2') torch.Size([4])\n",
      "08/24/2023, 16:45:04# predicted of Validation: tensor([101, 130, 132, 101], device='cuda:2') torch.Size([4])\n",
      "08/24/2023, 16:45:11# labels of Validation: tensor([130,  42,  37, 137], device='cuda:2') torch.Size([4])\n",
      "08/24/2023, 16:45:11# predicted of Validation: tensor([130, 101,  28, 101], device='cuda:2') torch.Size([4])\n",
      "08/24/2023, 16:45:12# Validation Loss: 3.1981 | Validation Accuracy: 0.3638\n",
      "\n"
     ]
    },
    {
     "data": {
      "application/vnd.jupyter.widget-view+json": {
       "model_id": "2170bddd7c0b41b9a6f74fda42eaa95a",
       "version_major": 2,
       "version_minor": 0
      },
      "text/plain": [
       "Training:   0%|          | 0/33000 [00:00<?, ?it/s]"
      ]
     },
     "metadata": {},
     "output_type": "display_data"
    },
    {
     "name": "stdout",
     "output_type": "stream",
     "text": [
      "08/24/2023, 16:46:16# labels of 5000: tensor([139, 105,  98,  60], device='cuda:2') torch.Size([4])\n",
      "08/24/2023, 16:46:16# predicted of 5000: tensor([ 88, 105, 161,  88], device='cuda:2') torch.Size([4])\n",
      "08/24/2023, 16:47:20# labels of 10000: tensor([138, 121,   1,  56], device='cuda:2') torch.Size([4])\n",
      "08/24/2023, 16:47:20# predicted of 10000: tensor([138, 131, 161,  56], device='cuda:2') torch.Size([4])\n",
      "08/24/2023, 16:48:23# labels of 15000: tensor([114,  23,  42,  13], device='cuda:2') torch.Size([4])\n",
      "08/24/2023, 16:48:23# predicted of 15000: tensor([132,  23, 141,  13], device='cuda:2') torch.Size([4])\n",
      "08/24/2023, 16:49:27# labels of 20000: tensor([128, 146, 164,  93], device='cuda:2') torch.Size([4])\n",
      "08/24/2023, 16:49:27# predicted of 20000: tensor([128, 146,  57,   6], device='cuda:2') torch.Size([4])\n",
      "08/24/2023, 16:50:31# labels of 25000: tensor([27, 77,  5, 50], device='cuda:2') torch.Size([4])\n",
      "08/24/2023, 16:50:31# predicted of 25000: tensor([ 27, 161,   5,  50], device='cuda:2') torch.Size([4])\n",
      "08/24/2023, 16:51:37# labels of 30000: tensor([ 61, 153,  98,  42], device='cuda:2') torch.Size([4])\n",
      "08/24/2023, 16:51:37# predicted of 30000: tensor([ 61, 101, 102,  97], device='cuda:2') torch.Size([4])\n",
      "08/24/2023, 16:52:15# total count: 33000\n",
      "08/24/2023, 16:52:15# Epoch 3 | Train Loss: 3.1229 | Train Accuracy: 0.3566\n"
     ]
    },
    {
     "data": {
      "application/vnd.jupyter.widget-view+json": {
       "model_id": "b89cb37e1fb74099a281f14efe274b20",
       "version_major": 2,
       "version_minor": 0
      },
      "text/plain": [
       "Validation:   0%|          | 0/4125 [00:00<?, ?it/s]"
      ]
     },
     "metadata": {},
     "output_type": "display_data"
    },
    {
     "name": "stdout",
     "output_type": "stream",
     "text": [
      "08/24/2023, 16:52:15# labels of Validation: tensor([102, 114,   1,  16], device='cuda:2') torch.Size([4])\n",
      "08/24/2023, 16:52:15# predicted of Validation: tensor([100, 132, 100,  16], device='cuda:2') torch.Size([4])\n",
      "08/24/2023, 16:52:15# labels of 0: tensor([102, 114,   1,  16], device='cuda:2') torch.Size([4])\n",
      "08/24/2023, 16:52:15# predicted of 0: tensor([100, 132, 100,  16], device='cuda:2') torch.Size([4])\n",
      "08/24/2023, 16:52:22# labels of Validation: tensor([ 20, 128, 161,  32], device='cuda:2') torch.Size([4])\n",
      "08/24/2023, 16:52:22# predicted of Validation: tensor([100, 128, 132,  32], device='cuda:2') torch.Size([4])\n",
      "08/24/2023, 16:52:30# labels of Validation: tensor([ 66,  21, 127,  97], device='cuda:2') torch.Size([4])\n",
      "08/24/2023, 16:52:30# predicted of Validation: tensor([132, 132, 127, 100], device='cuda:2') torch.Size([4])\n",
      "08/24/2023, 16:52:38# labels of Validation: tensor([  2,   9,  15, 102], device='cuda:2') torch.Size([4])\n",
      "08/24/2023, 16:52:38# predicted of Validation: tensor([100, 100,  15, 100], device='cuda:2') torch.Size([4])\n",
      "08/24/2023, 16:52:47# labels of Validation: tensor([107, 118,  74,  54], device='cuda:2') torch.Size([4])\n",
      "08/24/2023, 16:52:47# predicted of Validation: tensor([132, 118, 100, 100], device='cuda:2') torch.Size([4])\n",
      "08/24/2023, 16:52:48# Validation Loss: 2.9973 | Validation Accuracy: 0.3661\n",
      "\n"
     ]
    },
    {
     "data": {
      "application/vnd.jupyter.widget-view+json": {
       "model_id": "107e67e59b504b46ac83a36cbdbcef33",
       "version_major": 2,
       "version_minor": 0
      },
      "text/plain": [
       "Training:   0%|          | 0/33000 [00:00<?, ?it/s]"
      ]
     },
     "metadata": {},
     "output_type": "display_data"
    },
    {
     "name": "stdout",
     "output_type": "stream",
     "text": [
      "08/24/2023, 16:53:56# labels of 5000: tensor([160, 146,  59, 166], device='cuda:2') torch.Size([4])\n",
      "08/24/2023, 16:53:56# predicted of 5000: tensor([  6, 146,   6,   6], device='cuda:2') torch.Size([4])\n",
      "08/24/2023, 16:54:59# labels of 10000: tensor([ 93, 135,  48,  37], device='cuda:2') torch.Size([4])\n",
      "08/24/2023, 16:54:59# predicted of 10000: tensor([131, 100,  28,  28], device='cuda:2') torch.Size([4])\n",
      "08/24/2023, 16:56:03# labels of 15000: tensor([ 27,  56,  60, 140], device='cuda:2') torch.Size([4])\n",
      "08/24/2023, 16:56:03# predicted of 15000: tensor([ 27,  56, 160, 140], device='cuda:2') torch.Size([4])\n",
      "08/24/2023, 16:57:06# labels of 20000: tensor([152, 110,  23, 100], device='cuda:2') torch.Size([4])\n",
      "08/24/2023, 16:57:06# predicted of 20000: tensor([129,  37,  23,  51], device='cuda:2') torch.Size([4])\n",
      "08/24/2023, 16:58:12# labels of 25000: tensor([ 81,   8,  73, 149], device='cuda:2') torch.Size([4])\n",
      "08/24/2023, 16:58:12# predicted of 25000: tensor([ 37, 132,  73, 149], device='cuda:2') torch.Size([4])\n",
      "08/24/2023, 16:59:19# labels of 30000: tensor([ 70, 135,  13,  55], device='cuda:2') torch.Size([4])\n",
      "08/24/2023, 16:59:19# predicted of 30000: tensor([70, 12, 13, 33], device='cuda:2') torch.Size([4])\n",
      "08/24/2023, 16:59:59# total count: 33000\n",
      "08/24/2023, 16:59:59# Epoch 4 | Train Loss: 2.9735 | Train Accuracy: 0.3666\n"
     ]
    },
    {
     "data": {
      "application/vnd.jupyter.widget-view+json": {
       "model_id": "384c4f2f10b9461b9fc3b886367b80e1",
       "version_major": 2,
       "version_minor": 0
      },
      "text/plain": [
       "Validation:   0%|          | 0/4125 [00:00<?, ?it/s]"
      ]
     },
     "metadata": {},
     "output_type": "display_data"
    },
    {
     "name": "stdout",
     "output_type": "stream",
     "text": [
      "08/24/2023, 16:59:59# labels of Validation: tensor([  2, 132, 107, 111], device='cuda:2') torch.Size([4])\n",
      "08/24/2023, 16:59:59# predicted of Validation: tensor([155, 161, 155, 155], device='cuda:2') torch.Size([4])\n",
      "08/24/2023, 16:59:59# labels of 0: tensor([  2, 132, 107, 111], device='cuda:2') torch.Size([4])\n",
      "08/24/2023, 16:59:59# predicted of 0: tensor([155, 161, 155, 155], device='cuda:2') torch.Size([4])\n",
      "08/24/2023, 17:00:06# labels of Validation: tensor([134,  24, 129,  90], device='cuda:2') torch.Size([4])\n",
      "08/24/2023, 17:00:06# predicted of Validation: tensor([134, 155, 155, 155], device='cuda:2') torch.Size([4])\n",
      "08/24/2023, 17:00:13# labels of Validation: tensor([ 80, 138,  49, 117], device='cuda:2') torch.Size([4])\n",
      "08/24/2023, 17:00:13# predicted of Validation: tensor([ 80, 138, 155, 117], device='cuda:2') torch.Size([4])\n",
      "08/24/2023, 17:00:20# labels of Validation: tensor([158, 164,  51,  94], device='cuda:2') torch.Size([4])\n",
      "08/24/2023, 17:00:20# predicted of Validation: tensor([155, 155, 161,  94], device='cuda:2') torch.Size([4])\n",
      "08/24/2023, 17:00:27# labels of Validation: tensor([160,   0, 115,  73], device='cuda:2') torch.Size([4])\n",
      "08/24/2023, 17:00:27# predicted of Validation: tensor([155,   0, 115,  73], device='cuda:2') torch.Size([4])\n",
      "08/24/2023, 17:00:28# Validation Loss: 2.8967 | Validation Accuracy: 0.3684\n",
      "\n"
     ]
    },
    {
     "data": {
      "application/vnd.jupyter.widget-view+json": {
       "model_id": "d50e8a0534e642aabc80ebb3fc820402",
       "version_major": 2,
       "version_minor": 0
      },
      "text/plain": [
       "Training:   0%|          | 0/33000 [00:00<?, ?it/s]"
      ]
     },
     "metadata": {},
     "output_type": "display_data"
    },
    {
     "name": "stdout",
     "output_type": "stream",
     "text": [
      "08/24/2023, 17:01:30# labels of 5000: tensor([123,  11, 159,  57], device='cuda:2') torch.Size([4])\n",
      "08/24/2023, 17:01:30# predicted of 5000: tensor([123, 164, 159,  93], device='cuda:2') torch.Size([4])\n",
      "08/24/2023, 17:02:35# labels of 10000: tensor([ 74, 130,  79, 133], device='cuda:2') torch.Size([4])\n",
      "08/24/2023, 17:02:35# predicted of 10000: tensor([ 59, 130,  79, 132], device='cuda:2') torch.Size([4])\n",
      "08/24/2023, 17:03:40# labels of 15000: tensor([115,  84, 101,  44], device='cuda:2') torch.Size([4])\n",
      "08/24/2023, 17:03:40# predicted of 15000: tensor([115,  84, 132,  10], device='cuda:2') torch.Size([4])\n",
      "08/24/2023, 17:04:43# labels of 20000: tensor([ 54,  85, 104, 126], device='cuda:2') torch.Size([4])\n",
      "08/24/2023, 17:04:43# predicted of 20000: tensor([ 21,  85,  21, 126], device='cuda:2') torch.Size([4])\n",
      "08/24/2023, 17:05:46# labels of 25000: tensor([106, 140,  85,  75], device='cuda:2') torch.Size([4])\n",
      "08/24/2023, 17:05:46# predicted of 25000: tensor([106, 140,  85,  42], device='cuda:2') torch.Size([4])\n",
      "08/24/2023, 17:06:49# labels of 30000: tensor([ 49, 104, 166, 160], device='cuda:2') torch.Size([4])\n",
      "08/24/2023, 17:06:49# predicted of 30000: tensor([ 30, 144,  28,  88], device='cuda:2') torch.Size([4])\n",
      "08/24/2023, 17:07:28# total count: 33000\n",
      "08/24/2023, 17:07:28# Epoch 5 | Train Loss: 2.8971 | Train Accuracy: 0.3706\n"
     ]
    },
    {
     "data": {
      "application/vnd.jupyter.widget-view+json": {
       "model_id": "75056dd4965c408382f27f6478bb60df",
       "version_major": 2,
       "version_minor": 0
      },
      "text/plain": [
       "Validation:   0%|          | 0/4125 [00:00<?, ?it/s]"
      ]
     },
     "metadata": {},
     "output_type": "display_data"
    },
    {
     "name": "stdout",
     "output_type": "stream",
     "text": [
      "08/24/2023, 17:07:28# labels of Validation: tensor([ 52, 159, 137,  77], device='cuda:2') torch.Size([4])\n",
      "08/24/2023, 17:07:28# predicted of Validation: tensor([ 52, 159, 125,  28], device='cuda:2') torch.Size([4])\n",
      "08/24/2023, 17:07:28# labels of 0: tensor([ 52, 159, 137,  77], device='cuda:2') torch.Size([4])\n",
      "08/24/2023, 17:07:28# predicted of 0: tensor([ 52, 159, 125,  28], device='cuda:2') torch.Size([4])\n",
      "08/24/2023, 17:07:36# labels of Validation: tensor([158, 122,  76, 120], device='cuda:2') torch.Size([4])\n",
      "08/24/2023, 17:07:36# predicted of Validation: tensor([125, 122, 125, 120], device='cuda:2') torch.Size([4])\n",
      "08/24/2023, 17:07:44# labels of Validation: tensor([121, 118, 149,  87], device='cuda:2') torch.Size([4])\n",
      "08/24/2023, 17:07:44# predicted of Validation: tensor([125, 118, 149, 125], device='cuda:2') torch.Size([4])\n",
      "08/24/2023, 17:07:52# labels of Validation: tensor([ 79, 152,  60,  32], device='cuda:2') torch.Size([4])\n",
      "08/24/2023, 17:07:52# predicted of Validation: tensor([ 79, 125, 125,  32], device='cuda:2') torch.Size([4])\n",
      "08/24/2023, 17:08:00# labels of Validation: tensor([161, 138, 106, 119], device='cuda:2') torch.Size([4])\n",
      "08/24/2023, 17:08:00# predicted of Validation: tensor([ 28, 138, 106, 125], device='cuda:2') torch.Size([4])\n",
      "08/24/2023, 17:08:01# Validation Loss: 2.8507 | Validation Accuracy: 0.3770\n",
      "\n"
     ]
    },
    {
     "data": {
      "application/vnd.jupyter.widget-view+json": {
       "model_id": "aa8b125d5d594cd4b031fd8183c58762",
       "version_major": 2,
       "version_minor": 0
      },
      "text/plain": [
       "Training:   0%|          | 0/33000 [00:00<?, ?it/s]"
      ]
     },
     "metadata": {},
     "output_type": "display_data"
    },
    {
     "name": "stdout",
     "output_type": "stream",
     "text": [
      "08/24/2023, 17:09:05# labels of 5000: tensor([ 84, 117, 113,   1], device='cuda:2') torch.Size([4])\n",
      "08/24/2023, 17:09:05# predicted of 5000: tensor([ 84, 117, 161, 121], device='cuda:2') torch.Size([4])\n",
      "08/24/2023, 17:10:09# labels of 10000: tensor([ 28,  93,  47, 151], device='cuda:2') torch.Size([4])\n",
      "08/24/2023, 17:10:09# predicted of 10000: tensor([ 28,  28, 158,  59], device='cuda:2') torch.Size([4])\n",
      "08/24/2023, 17:11:13# labels of 15000: tensor([ 70,  19, 107, 166], device='cuda:2') torch.Size([4])\n",
      "08/24/2023, 17:11:13# predicted of 15000: tensor([70, 77, 28, 28], device='cuda:2') torch.Size([4])\n",
      "08/24/2023, 17:12:15# labels of 20000: tensor([ 84, 122, 151,  58], device='cuda:2') torch.Size([4])\n",
      "08/24/2023, 17:12:15# predicted of 20000: tensor([ 84, 122,  37, 148], device='cuda:2') torch.Size([4])\n",
      "08/24/2023, 17:13:19# labels of 25000: tensor([  6, 121,   0,   0], device='cuda:2') torch.Size([4])\n",
      "08/24/2023, 17:13:19# predicted of 25000: tensor([132, 155,   0,   0], device='cuda:2') torch.Size([4])\n",
      "08/24/2023, 17:14:23# labels of 30000: tensor([ 11, 158,  69, 135], device='cuda:2') torch.Size([4])\n",
      "08/24/2023, 17:14:23# predicted of 30000: tensor([129, 129,  69, 157], device='cuda:2') torch.Size([4])\n",
      "08/24/2023, 17:15:02# total count: 33000\n",
      "08/24/2023, 17:15:02# Epoch 6 | Train Loss: 2.8588 | Train Accuracy: 0.3732\n"
     ]
    },
    {
     "data": {
      "application/vnd.jupyter.widget-view+json": {
       "model_id": "729d3f0495364ad9bfe44bb9cfdeab8b",
       "version_major": 2,
       "version_minor": 0
      },
      "text/plain": [
       "Validation:   0%|          | 0/4125 [00:00<?, ?it/s]"
      ]
     },
     "metadata": {},
     "output_type": "display_data"
    },
    {
     "name": "stdout",
     "output_type": "stream",
     "text": [
      "08/24/2023, 17:15:02# labels of Validation: tensor([156, 111,  35,  16], device='cuda:2') torch.Size([4])\n",
      "08/24/2023, 17:15:02# predicted of Validation: tensor([156,  14,  35,  16], device='cuda:2') torch.Size([4])\n",
      "08/24/2023, 17:15:02# labels of 0: tensor([156, 111,  35,  16], device='cuda:2') torch.Size([4])\n",
      "08/24/2023, 17:15:02# predicted of 0: tensor([156,  14,  35,  16], device='cuda:2') torch.Size([4])\n",
      "08/24/2023, 17:15:11# labels of Validation: tensor([ 97, 161,  34, 159], device='cuda:2') torch.Size([4])\n",
      "08/24/2023, 17:15:11# predicted of Validation: tensor([ 14, 132,  14, 159], device='cuda:2') torch.Size([4])\n",
      "08/24/2023, 17:15:19# labels of Validation: tensor([ 94,  48, 154,  90], device='cuda:2') torch.Size([4])\n",
      "08/24/2023, 17:15:19# predicted of Validation: tensor([ 94,  14, 154, 132], device='cuda:2') torch.Size([4])\n",
      "08/24/2023, 17:15:27# labels of Validation: tensor([ 12, 127,  41, 159], device='cuda:2') torch.Size([4])\n",
      "08/24/2023, 17:15:27# predicted of Validation: tensor([ 14, 127,  14, 159], device='cuda:2') torch.Size([4])\n",
      "08/24/2023, 17:15:34# labels of Validation: tensor([41, 61, 11, 76], device='cuda:2') torch.Size([4])\n",
      "08/24/2023, 17:15:34# predicted of Validation: tensor([14, 61, 14, 14], device='cuda:2') torch.Size([4])\n",
      "08/24/2023, 17:15:35# Validation Loss: 2.8276 | Validation Accuracy: 0.3768\n",
      "\n"
     ]
    },
    {
     "data": {
      "application/vnd.jupyter.widget-view+json": {
       "model_id": "76e680ba8f204995b61c3734de74cff9",
       "version_major": 2,
       "version_minor": 0
      },
      "text/plain": [
       "Training:   0%|          | 0/33000 [00:00<?, ?it/s]"
      ]
     },
     "metadata": {},
     "output_type": "display_data"
    },
    {
     "name": "stdout",
     "output_type": "stream",
     "text": [
      "08/24/2023, 17:16:40# labels of 5000: tensor([ 48,  43,  12, 154], device='cuda:2') torch.Size([4])\n",
      "08/24/2023, 17:16:40# predicted of 5000: tensor([ 88,  88,  31, 154], device='cuda:2') torch.Size([4])\n",
      "08/24/2023, 17:17:44# labels of 10000: tensor([  7, 136, 114, 125], device='cuda:2') torch.Size([4])\n",
      "08/24/2023, 17:17:44# predicted of 10000: tensor([  7, 136,  66,  43], device='cuda:2') torch.Size([4])\n",
      "08/24/2023, 17:18:47# labels of 15000: tensor([ 35, 114,   3, 165], device='cuda:2') torch.Size([4])\n",
      "08/24/2023, 17:18:47# predicted of 15000: tensor([ 35, 108,   3, 165], device='cuda:2') torch.Size([4])\n",
      "08/24/2023, 17:19:51# labels of 20000: tensor([26, 77, 86, 41], device='cuda:2') torch.Size([4])\n",
      "08/24/2023, 17:19:51# predicted of 20000: tensor([112, 161, 160, 112], device='cuda:2') torch.Size([4])\n",
      "08/24/2023, 17:20:55# labels of 25000: tensor([ 34,  15, 160,  29], device='cuda:2') torch.Size([4])\n",
      "08/24/2023, 17:20:55# predicted of 25000: tensor([ 91,  15, 161,  29], device='cuda:2') torch.Size([4])\n",
      "08/24/2023, 17:21:58# labels of 30000: tensor([164, 125,  49,  60], device='cuda:2') torch.Size([4])\n",
      "08/24/2023, 17:21:58# predicted of 30000: tensor([ 37,  68, 131, 131], device='cuda:2') torch.Size([4])\n",
      "08/24/2023, 17:22:36# total count: 33000\n",
      "08/24/2023, 17:22:36# Epoch 7 | Train Loss: 2.8372 | Train Accuracy: 0.3745\n"
     ]
    },
    {
     "data": {
      "application/vnd.jupyter.widget-view+json": {
       "model_id": "e96e2717dc7a4209b7cb49e11d964408",
       "version_major": 2,
       "version_minor": 0
      },
      "text/plain": [
       "Validation:   0%|          | 0/4125 [00:00<?, ?it/s]"
      ]
     },
     "metadata": {},
     "output_type": "display_data"
    },
    {
     "name": "stdout",
     "output_type": "stream",
     "text": [
      "08/24/2023, 17:22:36# labels of Validation: tensor([ 84, 122, 166, 109], device='cuda:2') torch.Size([4])\n",
      "08/24/2023, 17:22:36# predicted of Validation: tensor([ 84, 122, 161,  63], device='cuda:2') torch.Size([4])\n",
      "08/24/2023, 17:22:36# labels of 0: tensor([ 84, 122, 166, 109], device='cuda:2') torch.Size([4])\n",
      "08/24/2023, 17:22:36# predicted of 0: tensor([ 84, 122, 161,  63], device='cuda:2') torch.Size([4])\n",
      "08/24/2023, 17:22:44# labels of Validation: tensor([153, 158, 115, 114], device='cuda:2') torch.Size([4])\n",
      "08/24/2023, 17:22:44# predicted of Validation: tensor([ 63,  63, 115, 161], device='cuda:2') torch.Size([4])\n",
      "08/24/2023, 17:22:51# labels of Validation: tensor([130, 125,  78,  52], device='cuda:2') torch.Size([4])\n",
      "08/24/2023, 17:22:51# predicted of Validation: tensor([130,  63,  78,  52], device='cuda:2') torch.Size([4])\n",
      "08/24/2023, 17:22:59# labels of Validation: tensor([ 14,  82,  51, 137], device='cuda:2') torch.Size([4])\n",
      "08/24/2023, 17:22:59# predicted of Validation: tensor([ 63,  82, 161,  63], device='cuda:2') torch.Size([4])\n",
      "08/24/2023, 17:23:06# labels of Validation: tensor([ 81, 159,  35,  77], device='cuda:2') torch.Size([4])\n",
      "08/24/2023, 17:23:06# predicted of Validation: tensor([ 63, 159,  35, 161], device='cuda:2') torch.Size([4])\n",
      "08/24/2023, 17:23:07# Validation Loss: 2.8129 | Validation Accuracy: 0.3783\n",
      "\n"
     ]
    },
    {
     "data": {
      "application/vnd.jupyter.widget-view+json": {
       "model_id": "d1c72d834fd347ca9f7f0ea38d447a03",
       "version_major": 2,
       "version_minor": 0
      },
      "text/plain": [
       "Training:   0%|          | 0/33000 [00:00<?, ?it/s]"
      ]
     },
     "metadata": {},
     "output_type": "display_data"
    },
    {
     "name": "stdout",
     "output_type": "stream",
     "text": [
      "08/24/2023, 17:24:09# labels of 5000: tensor([ 92,   4,  42, 132], device='cuda:2') torch.Size([4])\n",
      "08/24/2023, 17:24:09# predicted of 5000: tensor([100, 102,  21,  28], device='cuda:2') torch.Size([4])\n",
      "08/24/2023, 17:25:13# labels of 10000: tensor([ 76,  82,   3, 106], device='cuda:2') torch.Size([4])\n",
      "08/24/2023, 17:25:13# predicted of 10000: tensor([ 60,  82,   3, 106], device='cuda:2') torch.Size([4])\n",
      "08/24/2023, 17:26:19# labels of 15000: tensor([109,  34,  57, 142], device='cuda:2') torch.Size([4])\n",
      "08/24/2023, 17:26:19# predicted of 15000: tensor([ 51,  76,  49, 152], device='cuda:2') torch.Size([4])\n",
      "08/24/2023, 17:27:22# labels of 20000: tensor([53, 62, 32, 27], device='cuda:2') torch.Size([4])\n",
      "08/24/2023, 17:27:22# predicted of 20000: tensor([133,  62,  32,  27], device='cuda:2') torch.Size([4])\n",
      "08/24/2023, 17:28:25# labels of 25000: tensor([ 50, 130,  72,  11], device='cuda:2') torch.Size([4])\n",
      "08/24/2023, 17:28:25# predicted of 25000: tensor([ 50, 130,  72,  90], device='cuda:2') torch.Size([4])\n",
      "08/24/2023, 17:29:31# labels of 30000: tensor([144,  29,  58,  60], device='cuda:2') torch.Size([4])\n",
      "08/24/2023, 17:29:31# predicted of 30000: tensor([141,  29, 141,  37], device='cuda:2') torch.Size([4])\n",
      "08/24/2023, 17:30:11# total count: 33000\n",
      "08/24/2023, 17:30:11# Epoch 8 | Train Loss: 2.8241 | Train Accuracy: 0.3761\n"
     ]
    },
    {
     "data": {
      "application/vnd.jupyter.widget-view+json": {
       "model_id": "9639ef8e13f74b678b6eb4f528997b6d",
       "version_major": 2,
       "version_minor": 0
      },
      "text/plain": [
       "Validation:   0%|          | 0/4125 [00:00<?, ?it/s]"
      ]
     },
     "metadata": {},
     "output_type": "display_data"
    },
    {
     "name": "stdout",
     "output_type": "stream",
     "text": [
      "08/24/2023, 17:30:11# labels of Validation: tensor([  8, 119,  29, 106], device='cuda:2') torch.Size([4])\n",
      "08/24/2023, 17:30:11# predicted of Validation: tensor([  6,  37,  29, 106], device='cuda:2') torch.Size([4])\n",
      "08/24/2023, 17:30:11# labels of 0: tensor([  8, 119,  29, 106], device='cuda:2') torch.Size([4])\n",
      "08/24/2023, 17:30:11# predicted of 0: tensor([  6,  37,  29, 106], device='cuda:2') torch.Size([4])\n",
      "08/24/2023, 17:30:18# labels of Validation: tensor([113, 130,  75, 111], device='cuda:2') torch.Size([4])\n",
      "08/24/2023, 17:30:18# predicted of Validation: tensor([  6, 130,  37,  37], device='cuda:2') torch.Size([4])\n",
      "08/24/2023, 17:30:26# labels of Validation: tensor([ 25,  14,  76, 118], device='cuda:2') torch.Size([4])\n",
      "08/24/2023, 17:30:26# predicted of Validation: tensor([ 25,  37,  37, 118], device='cuda:2') torch.Size([4])\n",
      "08/24/2023, 17:30:33# labels of Validation: tensor([166,   1,  32,  59], device='cuda:2') torch.Size([4])\n",
      "08/24/2023, 17:30:33# predicted of Validation: tensor([132,  37,  32, 132], device='cuda:2') torch.Size([4])\n",
      "08/24/2023, 17:30:41# labels of Validation: tensor([129,  12,  32,  96], device='cuda:2') torch.Size([4])\n",
      "08/24/2023, 17:30:41# predicted of Validation: tensor([ 6, 37, 32, 96], device='cuda:2') torch.Size([4])\n",
      "08/24/2023, 17:30:42# Validation Loss: 2.8027 | Validation Accuracy: 0.3715\n",
      "\n"
     ]
    },
    {
     "data": {
      "application/vnd.jupyter.widget-view+json": {
       "model_id": "b14d16d78ed04265b7640ac4cdbfb017",
       "version_major": 2,
       "version_minor": 0
      },
      "text/plain": [
       "Training:   0%|          | 0/33000 [00:00<?, ?it/s]"
      ]
     },
     "metadata": {},
     "output_type": "display_data"
    },
    {
     "name": "stdout",
     "output_type": "stream",
     "text": [
      "08/24/2023, 17:31:47# labels of 5000: tensor([116, 111,  82, 120], device='cuda:2') torch.Size([4])\n",
      "08/24/2023, 17:31:47# predicted of 5000: tensor([ 36,  38,  82, 120], device='cuda:2') torch.Size([4])\n",
      "08/24/2023, 17:32:52# labels of 10000: tensor([ 51,   6,  95, 110], device='cuda:2') torch.Size([4])\n",
      "08/24/2023, 17:32:52# predicted of 10000: tensor([161, 132,  95, 132], device='cuda:2') torch.Size([4])\n",
      "08/24/2023, 17:33:55# labels of 15000: tensor([ 91,  26,  25, 164], device='cuda:2') torch.Size([4])\n",
      "08/24/2023, 17:33:55# predicted of 15000: tensor([132,   9,  25,  68], device='cuda:2') torch.Size([4])\n",
      "08/24/2023, 17:35:01# labels of 20000: tensor([ 75,  74, 111, 153], device='cuda:2') torch.Size([4])\n",
      "08/24/2023, 17:35:01# predicted of 20000: tensor([112,  63,  11, 110], device='cuda:2') torch.Size([4])\n",
      "08/24/2023, 17:36:05# labels of 25000: tensor([ 32, 129,  12, 161], device='cuda:2') torch.Size([4])\n",
      "08/24/2023, 17:36:05# predicted of 25000: tensor([ 32, 161,  77, 161], device='cuda:2') torch.Size([4])\n",
      "08/24/2023, 17:37:09# labels of 30000: tensor([ 18, 114,  77,  72], device='cuda:2') torch.Size([4])\n",
      "08/24/2023, 17:37:09# predicted of 30000: tensor([142, 161,  28,  79], device='cuda:2') torch.Size([4])\n",
      "08/24/2023, 17:37:47# total count: 33000\n",
      "08/24/2023, 17:37:47# Epoch 9 | Train Loss: 2.8142 | Train Accuracy: 0.3758\n"
     ]
    },
    {
     "data": {
      "application/vnd.jupyter.widget-view+json": {
       "model_id": "8467c011b75a431983f24dc0ecea13ea",
       "version_major": 2,
       "version_minor": 0
      },
      "text/plain": [
       "Validation:   0%|          | 0/4125 [00:00<?, ?it/s]"
      ]
     },
     "metadata": {},
     "output_type": "display_data"
    },
    {
     "name": "stdout",
     "output_type": "stream",
     "text": [
      "08/24/2023, 17:37:47# labels of Validation: tensor([ 12,  46, 153, 154], device='cuda:2') torch.Size([4])\n",
      "08/24/2023, 17:37:47# predicted of Validation: tensor([ 76,  76,  76, 154], device='cuda:2') torch.Size([4])\n",
      "08/24/2023, 17:37:47# labels of 0: tensor([ 12,  46, 153, 154], device='cuda:2') torch.Size([4])\n",
      "08/24/2023, 17:37:47# predicted of 0: tensor([ 76,  76,  76, 154], device='cuda:2') torch.Size([4])\n",
      "08/24/2023, 17:37:55# labels of Validation: tensor([127,   2,  59, 144], device='cuda:2') torch.Size([4])\n",
      "08/24/2023, 17:37:55# predicted of Validation: tensor([127,  76,  28,  76], device='cuda:2') torch.Size([4])\n",
      "08/24/2023, 17:38:02# labels of Validation: tensor([  6, 155,  18,  26], device='cuda:2') torch.Size([4])\n",
      "08/24/2023, 17:38:02# predicted of Validation: tensor([132,  28,  76,  76], device='cuda:2') torch.Size([4])\n",
      "08/24/2023, 17:38:09# labels of Validation: tensor([103,  94,  39, 160], device='cuda:2') torch.Size([4])\n",
      "08/24/2023, 17:38:09# predicted of Validation: tensor([91, 94, 39, 91], device='cuda:2') torch.Size([4])\n",
      "08/24/2023, 17:38:17# labels of Validation: tensor([ 9,  3, 89, 29], device='cuda:2') torch.Size([4])\n",
      "08/24/2023, 17:38:17# predicted of Validation: tensor([76,  3, 89, 29], device='cuda:2') torch.Size([4])\n",
      "08/24/2023, 17:38:18# Validation Loss: 2.7952 | Validation Accuracy: 0.3787\n",
      "\n"
     ]
    },
    {
     "data": {
      "application/vnd.jupyter.widget-view+json": {
       "model_id": "3af1a618c11c4ef4b8c1ee0987c5994b",
       "version_major": 2,
       "version_minor": 0
      },
      "text/plain": [
       "Training:   0%|          | 0/33000 [00:00<?, ?it/s]"
      ]
     },
     "metadata": {},
     "output_type": "display_data"
    },
    {
     "name": "stdout",
     "output_type": "stream",
     "text": [
      "08/24/2023, 17:39:21# labels of 5000: tensor([155,  93,  80, 109], device='cuda:2') torch.Size([4])\n",
      "08/24/2023, 17:39:21# predicted of 5000: tensor([155, 132,  80, 153], device='cuda:2') torch.Size([4])\n",
      "08/24/2023, 17:40:25# labels of 10000: tensor([118,  18,  12, 135], device='cuda:2') torch.Size([4])\n",
      "08/24/2023, 17:40:25# predicted of 10000: tensor([118,  47, 103, 103], device='cuda:2') torch.Size([4])\n",
      "08/24/2023, 17:41:28# labels of 15000: tensor([131,  77,   0, 130], device='cuda:2') torch.Size([4])\n",
      "08/24/2023, 17:41:28# predicted of 15000: tensor([161, 161,   0, 130], device='cuda:2') torch.Size([4])\n",
      "08/24/2023, 17:42:36# labels of 20000: tensor([ 21,  35,  43, 163], device='cuda:2') torch.Size([4])\n",
      "08/24/2023, 17:42:36# predicted of 20000: tensor([  6,  35, 107, 107], device='cuda:2') torch.Size([4])\n",
      "08/24/2023, 17:43:41# labels of 25000: tensor([ 48,  43, 111,  16], device='cuda:2') torch.Size([4])\n",
      "08/24/2023, 17:43:41# predicted of 25000: tensor([91, 38,  1, 16], device='cuda:2') torch.Size([4])\n",
      "08/24/2023, 17:44:46# labels of 30000: tensor([ 45, 160,  83, 103], device='cuda:2') torch.Size([4])\n",
      "08/24/2023, 17:44:46# predicted of 30000: tensor([ 45, 161, 143,  28], device='cuda:2') torch.Size([4])\n",
      "08/24/2023, 17:45:27# total count: 33000\n",
      "08/24/2023, 17:45:27# Epoch 10 | Train Loss: 2.8062 | Train Accuracy: 0.3773\n"
     ]
    },
    {
     "data": {
      "application/vnd.jupyter.widget-view+json": {
       "model_id": "c90b50dbf5a948b081dc59926c44eb0e",
       "version_major": 2,
       "version_minor": 0
      },
      "text/plain": [
       "Validation:   0%|          | 0/4125 [00:00<?, ?it/s]"
      ]
     },
     "metadata": {},
     "output_type": "display_data"
    },
    {
     "name": "stdout",
     "output_type": "stream",
     "text": [
      "08/24/2023, 17:45:27# labels of Validation: tensor([ 76,  64, 106,  82], device='cuda:2') torch.Size([4])\n",
      "08/24/2023, 17:45:27# predicted of Validation: tensor([ 74, 108, 106,  82], device='cuda:2') torch.Size([4])\n",
      "08/24/2023, 17:45:27# labels of 0: tensor([ 76,  64, 106,  82], device='cuda:2') torch.Size([4])\n",
      "08/24/2023, 17:45:27# predicted of 0: tensor([ 74, 108, 106,  82], device='cuda:2') torch.Size([4])\n",
      "08/24/2023, 17:45:34# labels of Validation: tensor([ 13,  64,  67, 114], device='cuda:2') torch.Size([4])\n",
      "08/24/2023, 17:45:34# predicted of Validation: tensor([ 13, 108,  67, 108], device='cuda:2') torch.Size([4])\n",
      "08/24/2023, 17:45:41# labels of Validation: tensor([  5, 147, 159,  90], device='cuda:2') torch.Size([4])\n",
      "08/24/2023, 17:45:41# predicted of Validation: tensor([  5, 147, 159, 108], device='cuda:2') torch.Size([4])\n",
      "08/24/2023, 17:45:49# labels of Validation: tensor([95, 73, 79, 74], device='cuda:2') torch.Size([4])\n",
      "08/24/2023, 17:45:49# predicted of Validation: tensor([95, 73, 72, 74], device='cuda:2') torch.Size([4])\n",
      "08/24/2023, 17:45:56# labels of Validation: tensor([ 13, 157,  11,  79], device='cuda:2') torch.Size([4])\n",
      "08/24/2023, 17:45:56# predicted of Validation: tensor([13, 74, 74, 79], device='cuda:2') torch.Size([4])\n",
      "08/24/2023, 17:45:57# Validation Loss: 2.7889 | Validation Accuracy: 0.3794\n",
      "\n"
     ]
    },
    {
     "data": {
      "application/vnd.jupyter.widget-view+json": {
       "model_id": "171347c67422412f825b1a253646cc4b",
       "version_major": 2,
       "version_minor": 0
      },
      "text/plain": [
       "Training:   0%|          | 0/33000 [00:00<?, ?it/s]"
      ]
     },
     "metadata": {},
     "output_type": "display_data"
    },
    {
     "name": "stdout",
     "output_type": "stream",
     "text": [
      "08/24/2023, 17:47:00# labels of 5000: tensor([ 11, 114, 127, 127], device='cuda:2') torch.Size([4])\n",
      "08/24/2023, 17:47:00# predicted of 5000: tensor([ 37, 101, 127, 127], device='cuda:2') torch.Size([4])\n",
      "08/24/2023, 17:48:04# labels of 10000: tensor([75, 82, 34, 54], device='cuda:2') torch.Size([4])\n",
      "08/24/2023, 17:48:04# predicted of 10000: tensor([137,  82, 150, 137], device='cuda:2') torch.Size([4])\n",
      "08/24/2023, 17:49:09# labels of 15000: tensor([112, 134,  59,  39], device='cuda:2') torch.Size([4])\n",
      "08/24/2023, 17:49:09# predicted of 15000: tensor([153, 134,  91,  39], device='cuda:2') torch.Size([4])\n",
      "08/24/2023, 17:50:15# labels of 20000: tensor([ 20, 106, 118,  38], device='cuda:2') torch.Size([4])\n",
      "08/24/2023, 17:50:15# predicted of 20000: tensor([ 97, 106, 118,  54], device='cuda:2') torch.Size([4])\n",
      "08/24/2023, 17:51:20# labels of 25000: tensor([95, 67, 80, 50], device='cuda:2') torch.Size([4])\n",
      "08/24/2023, 17:51:20# predicted of 25000: tensor([95, 67, 80, 50], device='cuda:2') torch.Size([4])\n",
      "08/24/2023, 17:52:23# labels of 30000: tensor([ 58,  49, 154,  52], device='cuda:2') torch.Size([4])\n",
      "08/24/2023, 17:52:23# predicted of 30000: tensor([ 90,  60, 154,  52], device='cuda:2') torch.Size([4])\n",
      "08/24/2023, 17:53:02# total count: 33000\n",
      "08/24/2023, 17:53:02# Epoch 11 | Train Loss: 2.8007 | Train Accuracy: 0.3776\n"
     ]
    },
    {
     "data": {
      "application/vnd.jupyter.widget-view+json": {
       "model_id": "a8025b8cc34f4351a076804511403660",
       "version_major": 2,
       "version_minor": 0
      },
      "text/plain": [
       "Validation:   0%|          | 0/4125 [00:00<?, ?it/s]"
      ]
     },
     "metadata": {},
     "output_type": "display_data"
    },
    {
     "name": "stdout",
     "output_type": "stream",
     "text": [
      "08/24/2023, 17:53:02# labels of Validation: tensor([148, 154,   6,  96], device='cuda:2') torch.Size([4])\n",
      "08/24/2023, 17:53:02# predicted of Validation: tensor([108, 154, 161,  96], device='cuda:2') torch.Size([4])\n",
      "08/24/2023, 17:53:02# labels of 0: tensor([148, 154,   6,  96], device='cuda:2') torch.Size([4])\n",
      "08/24/2023, 17:53:02# predicted of 0: tensor([108, 154, 161,  96], device='cuda:2') torch.Size([4])\n",
      "08/24/2023, 17:53:10# labels of Validation: tensor([106,  47,   0,  85], device='cuda:2') torch.Size([4])\n",
      "08/24/2023, 17:53:10# predicted of Validation: tensor([106, 109,   0,  85], device='cuda:2') torch.Size([4])\n",
      "08/24/2023, 17:53:17# labels of Validation: tensor([146, 146,  63, 130], device='cuda:2') torch.Size([4])\n",
      "08/24/2023, 17:53:17# predicted of Validation: tensor([146, 146, 109, 130], device='cuda:2') torch.Size([4])\n",
      "08/24/2023, 17:53:24# labels of Validation: tensor([123, 101,  49, 106], device='cuda:2') torch.Size([4])\n",
      "08/24/2023, 17:53:24# predicted of Validation: tensor([123,   6, 109, 106], device='cuda:2') torch.Size([4])\n",
      "08/24/2023, 17:53:31# labels of Validation: tensor([108,   8, 148,  68], device='cuda:2') torch.Size([4])\n",
      "08/24/2023, 17:53:31# predicted of Validation: tensor([161, 108, 108, 108], device='cuda:2') torch.Size([4])\n",
      "08/24/2023, 17:53:32# Validation Loss: 2.7832 | Validation Accuracy: 0.3790\n",
      "\n"
     ]
    },
    {
     "data": {
      "application/vnd.jupyter.widget-view+json": {
       "model_id": "8cb85777849c42aaa2c391f48a062ed9",
       "version_major": 2,
       "version_minor": 0
      },
      "text/plain": [
       "Training:   0%|          | 0/33000 [00:00<?, ?it/s]"
      ]
     },
     "metadata": {},
     "output_type": "display_data"
    },
    {
     "name": "stdout",
     "output_type": "stream",
     "text": [
      "08/24/2023, 17:54:37# labels of 5000: tensor([ 40,  62, 103,  85], device='cuda:2') torch.Size([4])\n",
      "08/24/2023, 17:54:37# predicted of 5000: tensor([ 40,  62, 161,  85], device='cuda:2') torch.Size([4])\n",
      "08/24/2023, 17:55:42# labels of 10000: tensor([ 56, 138,  42,  79], device='cuda:2') torch.Size([4])\n",
      "08/24/2023, 17:55:42# predicted of 10000: tensor([ 56, 138,  83,  15], device='cuda:2') torch.Size([4])\n",
      "08/24/2023, 17:56:48# labels of 15000: tensor([48, 24, 89, 75], device='cuda:2') torch.Size([4])\n",
      "08/24/2023, 17:56:48# predicted of 15000: tensor([ 71, 112,  89, 112], device='cuda:2') torch.Size([4])\n",
      "08/24/2023, 17:57:53# labels of 20000: tensor([151, 105, 166,  72], device='cuda:2') torch.Size([4])\n",
      "08/24/2023, 17:57:53# predicted of 20000: tensor([103, 105,   6,  72], device='cuda:2') torch.Size([4])\n",
      "08/24/2023, 17:58:59# labels of 25000: tensor([127,  39, 142,  56], device='cuda:2') torch.Size([4])\n",
      "08/24/2023, 17:58:59# predicted of 25000: tensor([127,  39,  87,  56], device='cuda:2') torch.Size([4])\n",
      "08/24/2023, 18:00:04# labels of 30000: tensor([106, 131, 164, 132], device='cuda:2') torch.Size([4])\n",
      "08/24/2023, 18:00:04# predicted of 30000: tensor([106, 132,  47, 132], device='cuda:2') torch.Size([4])\n",
      "08/24/2023, 18:00:42# total count: 33000\n",
      "08/24/2023, 18:00:42# Epoch 12 | Train Loss: 2.7948 | Train Accuracy: 0.3787\n"
     ]
    },
    {
     "data": {
      "application/vnd.jupyter.widget-view+json": {
       "model_id": "985ae80ee319483cb78c86fbd10c7f53",
       "version_major": 2,
       "version_minor": 0
      },
      "text/plain": [
       "Validation:   0%|          | 0/4125 [00:00<?, ?it/s]"
      ]
     },
     "metadata": {},
     "output_type": "display_data"
    },
    {
     "name": "stdout",
     "output_type": "stream",
     "text": [
      "08/24/2023, 18:00:42# labels of Validation: tensor([ 46, 127,  34, 129], device='cuda:2') torch.Size([4])\n",
      "08/24/2023, 18:00:42# predicted of Validation: tensor([ 55, 127,  55, 108], device='cuda:2') torch.Size([4])\n",
      "08/24/2023, 18:00:42# labels of 0: tensor([ 46, 127,  34, 129], device='cuda:2') torch.Size([4])\n",
      "08/24/2023, 18:00:42# predicted of 0: tensor([ 55, 127,  55, 108], device='cuda:2') torch.Size([4])\n",
      "08/24/2023, 18:00:50# labels of Validation: tensor([134,  25, 144, 155], device='cuda:2') torch.Size([4])\n",
      "08/24/2023, 18:00:50# predicted of Validation: tensor([134,  25,  55, 132], device='cuda:2') torch.Size([4])\n",
      "08/24/2023, 18:00:58# labels of Validation: tensor([ 39,  49, 147, 117], device='cuda:2') torch.Size([4])\n",
      "08/24/2023, 18:00:58# predicted of Validation: tensor([ 39,  55, 147, 117], device='cuda:2') torch.Size([4])\n",
      "08/24/2023, 18:01:06# labels of Validation: tensor([113, 113, 125, 115], device='cuda:2') torch.Size([4])\n",
      "08/24/2023, 18:01:06# predicted of Validation: tensor([108, 108,  55, 115], device='cuda:2') torch.Size([4])\n",
      "08/24/2023, 18:01:13# labels of Validation: tensor([142,  80, 155,  36], device='cuda:2') torch.Size([4])\n",
      "08/24/2023, 18:01:13# predicted of Validation: tensor([ 55,  80, 132,  55], device='cuda:2') torch.Size([4])\n",
      "08/24/2023, 18:01:14# Validation Loss: 2.7786 | Validation Accuracy: 0.3799\n",
      "\n"
     ]
    },
    {
     "data": {
      "application/vnd.jupyter.widget-view+json": {
       "model_id": "144286d83a1b4526b7034f75171a4103",
       "version_major": 2,
       "version_minor": 0
      },
      "text/plain": [
       "Training:   0%|          | 0/33000 [00:00<?, ?it/s]"
      ]
     },
     "metadata": {},
     "output_type": "display_data"
    },
    {
     "name": "stdout",
     "output_type": "stream",
     "text": [
      "08/24/2023, 18:02:20# labels of 5000: tensor([ 28, 103, 123,  87], device='cuda:2') torch.Size([4])\n",
      "08/24/2023, 18:02:20# predicted of 5000: tensor([132, 132, 123,  93], device='cuda:2') torch.Size([4])\n",
      "08/24/2023, 18:03:26# labels of 10000: tensor([ 43,  66, 124,  13], device='cuda:2') torch.Size([4])\n",
      "08/24/2023, 18:03:26# predicted of 10000: tensor([ 36, 132,  26,  13], device='cuda:2') torch.Size([4])\n",
      "08/24/2023, 18:04:32# labels of 15000: tensor([16, 39, 34, 40], device='cuda:2') torch.Size([4])\n",
      "08/24/2023, 18:04:32# predicted of 15000: tensor([ 16,  39, 135,  40], device='cuda:2') torch.Size([4])\n",
      "08/24/2023, 18:05:37# labels of 20000: tensor([86, 30, 58, 36], device='cuda:2') torch.Size([4])\n",
      "08/24/2023, 18:05:37# predicted of 20000: tensor([ 33, 163, 163,  33], device='cuda:2') torch.Size([4])\n",
      "08/24/2023, 18:06:41# labels of 25000: tensor([67, 32, 79,  5], device='cuda:2') torch.Size([4])\n",
      "08/24/2023, 18:06:41# predicted of 25000: tensor([78, 32, 79,  5], device='cuda:2') torch.Size([4])\n",
      "08/24/2023, 18:07:48# labels of 30000: tensor([  4,  39, 145,  52], device='cuda:2') torch.Size([4])\n",
      "08/24/2023, 18:07:48# predicted of 30000: tensor([150,  39, 145,  52], device='cuda:2') torch.Size([4])\n",
      "08/24/2023, 18:08:26# total count: 33000\n",
      "08/24/2023, 18:08:26# Epoch 13 | Train Loss: 2.7902 | Train Accuracy: 0.3789\n"
     ]
    },
    {
     "data": {
      "application/vnd.jupyter.widget-view+json": {
       "model_id": "b1ee0ba15fa347dc873c9c48a096fcb1",
       "version_major": 2,
       "version_minor": 0
      },
      "text/plain": [
       "Validation:   0%|          | 0/4125 [00:00<?, ?it/s]"
      ]
     },
     "metadata": {},
     "output_type": "display_data"
    },
    {
     "name": "stdout",
     "output_type": "stream",
     "text": [
      "08/24/2023, 18:08:26# labels of Validation: tensor([ 72,  91, 124,   9], device='cuda:2') torch.Size([4])\n",
      "08/24/2023, 18:08:26# predicted of Validation: tensor([72, 28, 87, 87], device='cuda:2') torch.Size([4])\n",
      "08/24/2023, 18:08:26# labels of 0: tensor([ 72,  91, 124,   9], device='cuda:2') torch.Size([4])\n",
      "08/24/2023, 18:08:26# predicted of 0: tensor([72, 28, 87, 87], device='cuda:2') torch.Size([4])\n",
      "08/24/2023, 18:08:35# labels of Validation: tensor([123, 131, 153,  46], device='cuda:2') torch.Size([4])\n",
      "08/24/2023, 18:08:35# predicted of Validation: tensor([123, 161,  87,  87], device='cuda:2') torch.Size([4])\n",
      "08/24/2023, 18:08:43# labels of Validation: tensor([108, 133,  87, 116], device='cuda:2') torch.Size([4])\n",
      "08/24/2023, 18:08:43# predicted of Validation: tensor([161,  28,  87,  87], device='cuda:2') torch.Size([4])\n",
      "08/24/2023, 18:08:51# labels of Validation: tensor([140,  64,  92,  44], device='cuda:2') torch.Size([4])\n",
      "08/24/2023, 18:08:51# predicted of Validation: tensor([140,  28,  87,  87], device='cuda:2') torch.Size([4])\n",
      "08/24/2023, 18:08:58# labels of Validation: tensor([139,  92,  14,  38], device='cuda:2') torch.Size([4])\n",
      "08/24/2023, 18:08:58# predicted of Validation: tensor([87, 87, 87, 87], device='cuda:2') torch.Size([4])\n",
      "08/24/2023, 18:08:59# Validation Loss: 2.7736 | Validation Accuracy: 0.3792\n",
      "\n"
     ]
    },
    {
     "data": {
      "application/vnd.jupyter.widget-view+json": {
       "model_id": "ae2730e7d0ee4960ace08b81133e8f49",
       "version_major": 2,
       "version_minor": 0
      },
      "text/plain": [
       "Training:   0%|          | 0/33000 [00:00<?, ?it/s]"
      ]
     },
     "metadata": {},
     "output_type": "display_data"
    },
    {
     "name": "stdout",
     "output_type": "stream",
     "text": [
      "08/24/2023, 18:10:05# labels of 5000: tensor([ 62,  33,  29, 153], device='cuda:2') torch.Size([4])\n",
      "08/24/2023, 18:10:05# predicted of 5000: tensor([62, 58, 29, 58], device='cuda:2') torch.Size([4])\n",
      "08/24/2023, 18:11:10# labels of 10000: tensor([  8,  95, 155, 133], device='cuda:2') torch.Size([4])\n",
      "08/24/2023, 18:11:10# predicted of 10000: tensor([ 51,  95, 132, 141], device='cuda:2') torch.Size([4])\n",
      "08/24/2023, 18:12:14# labels of 15000: tensor([119,  82, 158,  10], device='cuda:2') torch.Size([4])\n",
      "08/24/2023, 18:12:14# predicted of 15000: tensor([ 4, 82, 18,  4], device='cuda:2') torch.Size([4])\n",
      "08/24/2023, 18:13:18# labels of 20000: tensor([ 74, 106,  67, 108], device='cuda:2') torch.Size([4])\n",
      "08/24/2023, 18:13:18# predicted of 20000: tensor([114, 106,  78, 132], device='cuda:2') torch.Size([4])\n",
      "08/24/2023, 18:14:23# labels of 25000: tensor([102, 149,  79,  51], device='cuda:2') torch.Size([4])\n",
      "08/24/2023, 18:14:23# predicted of 25000: tensor([121, 149,  79, 131], device='cuda:2') torch.Size([4])\n",
      "08/24/2023, 18:15:28# labels of 30000: tensor([24, 61, 68, 59], device='cuda:2') torch.Size([4])\n",
      "08/24/2023, 18:15:28# predicted of 30000: tensor([100,  61, 133,  28], device='cuda:2') torch.Size([4])\n",
      "08/24/2023, 18:16:07# total count: 33000\n",
      "08/24/2023, 18:16:07# Epoch 14 | Train Loss: 2.7862 | Train Accuracy: 0.3795\n"
     ]
    },
    {
     "data": {
      "application/vnd.jupyter.widget-view+json": {
       "model_id": "73884dbe146249569b21e5d5748ad506",
       "version_major": 2,
       "version_minor": 0
      },
      "text/plain": [
       "Validation:   0%|          | 0/4125 [00:00<?, ?it/s]"
      ]
     },
     "metadata": {},
     "output_type": "display_data"
    },
    {
     "name": "stdout",
     "output_type": "stream",
     "text": [
      "08/24/2023, 18:16:07# labels of Validation: tensor([56, 70, 15, 31], device='cuda:2') torch.Size([4])\n",
      "08/24/2023, 18:16:07# predicted of Validation: tensor([56, 70, 15, 34], device='cuda:2') torch.Size([4])\n",
      "08/24/2023, 18:16:07# labels of 0: tensor([56, 70, 15, 31], device='cuda:2') torch.Size([4])\n",
      "08/24/2023, 18:16:07# predicted of 0: tensor([56, 70, 15, 34], device='cuda:2') torch.Size([4])\n",
      "08/24/2023, 18:16:15# labels of Validation: tensor([ 44,  69, 161,  31], device='cuda:2') torch.Size([4])\n",
      "08/24/2023, 18:16:15# predicted of Validation: tensor([ 34,  69, 132,  34], device='cuda:2') torch.Size([4])\n",
      "08/24/2023, 18:16:22# labels of Validation: tensor([148, 125,  38,  96], device='cuda:2') torch.Size([4])\n",
      "08/24/2023, 18:16:22# predicted of Validation: tensor([ 6, 34, 34, 96], device='cuda:2') torch.Size([4])\n",
      "08/24/2023, 18:16:30# labels of Validation: tensor([ 81, 119,  23,  24], device='cuda:2') torch.Size([4])\n",
      "08/24/2023, 18:16:30# predicted of Validation: tensor([34, 34, 23, 34], device='cuda:2') torch.Size([4])\n",
      "08/24/2023, 18:16:38# labels of Validation: tensor([ 89, 128, 114,  68], device='cuda:2') torch.Size([4])\n",
      "08/24/2023, 18:16:38# predicted of Validation: tensor([ 89, 128,   6,   6], device='cuda:2') torch.Size([4])\n",
      "08/24/2023, 18:16:39# Validation Loss: 2.7703 | Validation Accuracy: 0.3798\n",
      "\n"
     ]
    },
    {
     "data": {
      "application/vnd.jupyter.widget-view+json": {
       "model_id": "2a5d4fb06c3246d283a0bffd1545511f",
       "version_major": 2,
       "version_minor": 0
      },
      "text/plain": [
       "Training:   0%|          | 0/33000 [00:00<?, ?it/s]"
      ]
     },
     "metadata": {},
     "output_type": "display_data"
    },
    {
     "name": "stdout",
     "output_type": "stream",
     "text": [
      "08/24/2023, 18:17:43# labels of 5000: tensor([39, 15, 52, 26], device='cuda:2') torch.Size([4])\n",
      "08/24/2023, 18:17:43# predicted of 5000: tensor([39, 15, 52, 10], device='cuda:2') torch.Size([4])\n",
      "08/24/2023, 18:18:49# labels of 10000: tensor([ 98, 112,  32, 142], device='cuda:2') torch.Size([4])\n",
      "08/24/2023, 18:18:49# predicted of 10000: tensor([151, 151,  32, 153], device='cuda:2') torch.Size([4])\n",
      "08/24/2023, 18:19:55# labels of 15000: tensor([149,  54, 166, 156], device='cuda:2') torch.Size([4])\n",
      "08/24/2023, 18:19:55# predicted of 15000: tensor([149,  90, 137, 156], device='cuda:2') torch.Size([4])\n",
      "08/24/2023, 18:21:01# labels of 20000: tensor([ 91,  30,  84, 149], device='cuda:2') torch.Size([4])\n",
      "08/24/2023, 18:21:01# predicted of 20000: tensor([161, 107,  84, 149], device='cuda:2') torch.Size([4])\n",
      "08/24/2023, 18:22:07# labels of 25000: tensor([ 96,  15, 120,  50], device='cuda:2') torch.Size([4])\n",
      "08/24/2023, 18:22:07# predicted of 25000: tensor([ 96,  15, 120,  50], device='cuda:2') torch.Size([4])\n",
      "08/24/2023, 18:23:13# labels of 30000: tensor([ 50,  50,  91, 129], device='cuda:2') torch.Size([4])\n",
      "08/24/2023, 18:23:13# predicted of 30000: tensor([50, 50, 28, 28], device='cuda:2') torch.Size([4])\n",
      "08/24/2023, 18:23:52# total count: 33000\n",
      "08/24/2023, 18:23:52# Epoch 15 | Train Loss: 2.7821 | Train Accuracy: 0.3798\n"
     ]
    },
    {
     "data": {
      "application/vnd.jupyter.widget-view+json": {
       "model_id": "69a0c90ac7f54eef9eff8641a74d6afe",
       "version_major": 2,
       "version_minor": 0
      },
      "text/plain": [
       "Validation:   0%|          | 0/4125 [00:00<?, ?it/s]"
      ]
     },
     "metadata": {},
     "output_type": "display_data"
    },
    {
     "name": "stdout",
     "output_type": "stream",
     "text": [
      "08/24/2023, 18:23:52# labels of Validation: tensor([107,  78, 158, 160], device='cuda:2') torch.Size([4])\n",
      "08/24/2023, 18:23:52# predicted of Validation: tensor([166,  78,  33, 166], device='cuda:2') torch.Size([4])\n",
      "08/24/2023, 18:23:52# labels of 0: tensor([107,  78, 158, 160], device='cuda:2') torch.Size([4])\n",
      "08/24/2023, 18:23:52# predicted of 0: tensor([166,  78,  33, 166], device='cuda:2') torch.Size([4])\n",
      "08/24/2023, 18:24:00# labels of Validation: tensor([ 75, 154,  64, 127], device='cuda:2') torch.Size([4])\n",
      "08/24/2023, 18:24:00# predicted of Validation: tensor([ 33, 154, 166, 127], device='cuda:2') torch.Size([4])\n",
      "08/24/2023, 18:24:08# labels of Validation: tensor([ 59, 117,  53, 108], device='cuda:2') torch.Size([4])\n",
      "08/24/2023, 18:24:08# predicted of Validation: tensor([ 28, 117,  33,  28], device='cuda:2') torch.Size([4])\n",
      "08/24/2023, 18:24:15# labels of Validation: tensor([  6, 103, 108,  44], device='cuda:2') torch.Size([4])\n",
      "08/24/2023, 18:24:15# predicted of Validation: tensor([161, 166,  28,  33], device='cuda:2') torch.Size([4])\n",
      "08/24/2023, 18:24:24# labels of Validation: tensor([ 83, 153, 125,   5], device='cuda:2') torch.Size([4])\n",
      "08/24/2023, 18:24:24# predicted of Validation: tensor([33, 33, 33,  5], device='cuda:2') torch.Size([4])\n",
      "08/24/2023, 18:24:24# Validation Loss: 2.7672 | Validation Accuracy: 0.3801\n",
      "\n"
     ]
    },
    {
     "data": {
      "application/vnd.jupyter.widget-view+json": {
       "model_id": "1a4d306e3c014759b20aa718b1e7143f",
       "version_major": 2,
       "version_minor": 0
      },
      "text/plain": [
       "Training:   0%|          | 0/33000 [00:00<?, ?it/s]"
      ]
     },
     "metadata": {},
     "output_type": "display_data"
    },
    {
     "name": "stdout",
     "output_type": "stream",
     "text": [
      "08/24/2023, 18:25:31# labels of 5000: tensor([155,  93, 142,  11], device='cuda:2') torch.Size([4])\n",
      "08/24/2023, 18:25:31# predicted of 5000: tensor([132,  77,  71,  71], device='cuda:2') torch.Size([4])\n",
      "08/24/2023, 18:26:38# labels of 10000: tensor([ 38, 128, 149,  10], device='cuda:2') torch.Size([4])\n",
      "08/24/2023, 18:26:38# predicted of 10000: tensor([ 21, 128, 149,  66], device='cuda:2') torch.Size([4])\n",
      "08/24/2023, 18:27:44# labels of 15000: tensor([ 73, 123,  41, 116], device='cuda:2') torch.Size([4])\n",
      "08/24/2023, 18:27:44# predicted of 15000: tensor([ 73, 123, 143, 141], device='cuda:2') torch.Size([4])\n",
      "08/24/2023, 18:28:49# labels of 20000: tensor([ 15,  61,  21, 135], device='cuda:2') torch.Size([4])\n",
      "08/24/2023, 18:28:49# predicted of 20000: tensor([ 15,  61, 132,  46], device='cuda:2') torch.Size([4])\n",
      "08/24/2023, 18:29:54# labels of 25000: tensor([109, 126, 100,  71], device='cuda:2') torch.Size([4])\n",
      "08/24/2023, 18:29:54# predicted of 25000: tensor([ 58, 126, 155, 152], device='cuda:2') torch.Size([4])\n",
      "08/24/2023, 18:30:59# labels of 30000: tensor([137,  53,  35,  58], device='cuda:2') torch.Size([4])\n",
      "08/24/2023, 18:30:59# predicted of 30000: tensor([142,  19,  35, 119], device='cuda:2') torch.Size([4])\n",
      "08/24/2023, 18:31:38# total count: 33000\n",
      "08/24/2023, 18:31:38# Epoch 16 | Train Loss: 2.7786 | Train Accuracy: 0.3804\n"
     ]
    },
    {
     "data": {
      "application/vnd.jupyter.widget-view+json": {
       "model_id": "68ac1e86bfe5475e8b927bd97b30cc63",
       "version_major": 2,
       "version_minor": 0
      },
      "text/plain": [
       "Validation:   0%|          | 0/4125 [00:00<?, ?it/s]"
      ]
     },
     "metadata": {},
     "output_type": "display_data"
    },
    {
     "name": "stdout",
     "output_type": "stream",
     "text": [
      "08/24/2023, 18:31:38# labels of Validation: tensor([155,  94,  80, 155], device='cuda:2') torch.Size([4])\n",
      "08/24/2023, 18:31:38# predicted of Validation: tensor([161,  94,  80, 161], device='cuda:2') torch.Size([4])\n",
      "08/24/2023, 18:31:38# labels of 0: tensor([155,  94,  80, 155], device='cuda:2') torch.Size([4])\n",
      "08/24/2023, 18:31:38# predicted of 0: tensor([161,  94,  80, 161], device='cuda:2') torch.Size([4])\n",
      "08/24/2023, 18:31:45# labels of Validation: tensor([ 1, 31, 81, 56], device='cuda:2') torch.Size([4])\n",
      "08/24/2023, 18:31:45# predicted of Validation: tensor([24, 24, 24, 56], device='cuda:2') torch.Size([4])\n",
      "08/24/2023, 18:31:53# labels of Validation: tensor([124,  19, 163, 103], device='cuda:2') torch.Size([4])\n",
      "08/24/2023, 18:31:53# predicted of Validation: tensor([ 24,  24,  24, 161], device='cuda:2') torch.Size([4])\n",
      "08/24/2023, 18:32:01# labels of Validation: tensor([156, 166,  10, 141], device='cuda:2') torch.Size([4])\n",
      "08/24/2023, 18:32:01# predicted of Validation: tensor([156, 161,  24, 161], device='cuda:2') torch.Size([4])\n",
      "08/24/2023, 18:32:08# labels of Validation: tensor([ 11, 136, 121, 107], device='cuda:2') torch.Size([4])\n",
      "08/24/2023, 18:32:08# predicted of Validation: tensor([ 24, 136,  24, 161], device='cuda:2') torch.Size([4])\n",
      "08/24/2023, 18:32:09# Validation Loss: 2.7638 | Validation Accuracy: 0.3801\n",
      "\n"
     ]
    },
    {
     "data": {
      "application/vnd.jupyter.widget-view+json": {
       "model_id": "0622d39cb26247c397294bd15e9523c1",
       "version_major": 2,
       "version_minor": 0
      },
      "text/plain": [
       "Training:   0%|          | 0/33000 [00:00<?, ?it/s]"
      ]
     },
     "metadata": {},
     "output_type": "display_data"
    },
    {
     "name": "stdout",
     "output_type": "stream",
     "text": [
      "08/24/2023, 18:33:15# labels of 5000: tensor([140,  18, 151,   4], device='cuda:2') torch.Size([4])\n",
      "08/24/2023, 18:33:15# predicted of 5000: tensor([140,  20, 112, 141], device='cuda:2') torch.Size([4])\n",
      "08/24/2023, 18:34:20# labels of 10000: tensor([159,   1, 126,  58], device='cuda:2') torch.Size([4])\n",
      "08/24/2023, 18:34:20# predicted of 10000: tensor([159, 144, 126,  38], device='cuda:2') torch.Size([4])\n",
      "08/24/2023, 18:35:24# labels of 15000: tensor([ 97,  41, 143,  24], device='cuda:2') torch.Size([4])\n",
      "08/24/2023, 18:35:24# predicted of 15000: tensor([60, 60, 60, 60], device='cuda:2') torch.Size([4])\n",
      "08/24/2023, 18:36:30# labels of 20000: tensor([ 67,  94,  27, 154], device='cuda:2') torch.Size([4])\n",
      "08/24/2023, 18:36:30# predicted of 20000: tensor([ 78,  94,  27, 154], device='cuda:2') torch.Size([4])\n",
      "08/24/2023, 18:37:37# labels of 25000: tensor([ 76, 132, 162,   4], device='cuda:2') torch.Size([4])\n",
      "08/24/2023, 18:37:37# predicted of 25000: tensor([ 34, 132, 129,  34], device='cuda:2') torch.Size([4])\n",
      "08/24/2023, 18:38:41# labels of 30000: tensor([ 20, 162, 120,  23], device='cuda:2') torch.Size([4])\n",
      "08/24/2023, 18:38:41# predicted of 30000: tensor([157,  11, 120,  23], device='cuda:2') torch.Size([4])\n",
      "08/24/2023, 18:39:19# total count: 33000\n",
      "08/24/2023, 18:39:19# Epoch 17 | Train Loss: 2.7761 | Train Accuracy: 0.3799\n"
     ]
    },
    {
     "data": {
      "application/vnd.jupyter.widget-view+json": {
       "model_id": "de3750f260d04bdb94b2059368d2288d",
       "version_major": 2,
       "version_minor": 0
      },
      "text/plain": [
       "Validation:   0%|          | 0/4125 [00:00<?, ?it/s]"
      ]
     },
     "metadata": {},
     "output_type": "display_data"
    },
    {
     "name": "stdout",
     "output_type": "stream",
     "text": [
      "08/24/2023, 18:39:19# labels of Validation: tensor([155,   3, 114, 161], device='cuda:2') torch.Size([4])\n",
      "08/24/2023, 18:39:19# predicted of Validation: tensor([132,   3, 132, 132], device='cuda:2') torch.Size([4])\n",
      "08/24/2023, 18:39:19# labels of 0: tensor([155,   3, 114, 161], device='cuda:2') torch.Size([4])\n",
      "08/24/2023, 18:39:19# predicted of 0: tensor([132,   3, 132, 132], device='cuda:2') torch.Size([4])\n",
      "08/24/2023, 18:39:27# labels of Validation: tensor([ 45,  20,  24, 122], device='cuda:2') torch.Size([4])\n",
      "08/24/2023, 18:39:27# predicted of Validation: tensor([ 45,   9,   9, 122], device='cuda:2') torch.Size([4])\n",
      "08/24/2023, 18:39:34# labels of Validation: tensor([ 85, 107, 117, 154], device='cuda:2') torch.Size([4])\n",
      "08/24/2023, 18:39:34# predicted of Validation: tensor([ 85, 132, 117, 154], device='cuda:2') torch.Size([4])\n",
      "08/24/2023, 18:39:42# labels of Validation: tensor([ 98,  88,  63, 140], device='cuda:2') torch.Size([4])\n",
      "08/24/2023, 18:39:42# predicted of Validation: tensor([  9, 132,   9, 140], device='cuda:2') torch.Size([4])\n",
      "08/24/2023, 18:39:49# labels of Validation: tensor([ 31,  44, 125,  47], device='cuda:2') torch.Size([4])\n",
      "08/24/2023, 18:39:49# predicted of Validation: tensor([9, 9, 9, 9], device='cuda:2') torch.Size([4])\n",
      "08/24/2023, 18:39:51# Validation Loss: 2.7611 | Validation Accuracy: 0.3798\n",
      "\n"
     ]
    },
    {
     "data": {
      "application/vnd.jupyter.widget-view+json": {
       "model_id": "c9b5fc8445a7472dae7ab7bd348c1c9a",
       "version_major": 2,
       "version_minor": 0
      },
      "text/plain": [
       "Training:   0%|          | 0/33000 [00:00<?, ?it/s]"
      ]
     },
     "metadata": {},
     "output_type": "display_data"
    },
    {
     "name": "stdout",
     "output_type": "stream",
     "text": [
      "08/24/2023, 18:40:55# labels of 5000: tensor([105,  16,  51, 117], device='cuda:2') torch.Size([4])\n",
      "08/24/2023, 18:40:55# predicted of 5000: tensor([105,  16, 161, 117], device='cuda:2') torch.Size([4])\n",
      "08/24/2023, 18:42:00# labels of 10000: tensor([152,   0, 136,  64], device='cuda:2') torch.Size([4])\n",
      "08/24/2023, 18:42:01# predicted of 10000: tensor([ 59,   0, 136,  59], device='cuda:2') torch.Size([4])\n",
      "08/24/2023, 18:43:06# labels of 15000: tensor([106, 156, 105,  56], device='cuda:2') torch.Size([4])\n",
      "08/24/2023, 18:43:06# predicted of 15000: tensor([106, 156, 105,  56], device='cuda:2') torch.Size([4])\n",
      "08/24/2023, 18:44:11# labels of 20000: tensor([129,  56,  98, 166], device='cuda:2') torch.Size([4])\n",
      "08/24/2023, 18:44:11# predicted of 20000: tensor([141,  56,  58, 132], device='cuda:2') torch.Size([4])\n",
      "08/24/2023, 18:45:15# labels of 25000: tensor([66, 16, 60,  8], device='cuda:2') torch.Size([4])\n",
      "08/24/2023, 18:45:15# predicted of 25000: tensor([132,  16, 164, 161], device='cuda:2') torch.Size([4])\n",
      "08/24/2023, 18:46:22# labels of 30000: tensor([151, 164,  58, 165], device='cuda:2') torch.Size([4])\n",
      "08/24/2023, 18:46:22# predicted of 30000: tensor([ 74,  77,  48, 165], device='cuda:2') torch.Size([4])\n",
      "08/24/2023, 18:47:01# total count: 33000\n",
      "08/24/2023, 18:47:01# Epoch 18 | Train Loss: 2.7730 | Train Accuracy: 0.3806\n"
     ]
    },
    {
     "data": {
      "application/vnd.jupyter.widget-view+json": {
       "model_id": "540ba4738d7f4537b2987d89eefe3a45",
       "version_major": 2,
       "version_minor": 0
      },
      "text/plain": [
       "Validation:   0%|          | 0/4125 [00:00<?, ?it/s]"
      ]
     },
     "metadata": {},
     "output_type": "display_data"
    },
    {
     "name": "stdout",
     "output_type": "stream",
     "text": [
      "08/24/2023, 18:47:01# labels of Validation: tensor([104,  99, 120,  25], device='cuda:2') torch.Size([4])\n",
      "08/24/2023, 18:47:01# predicted of Validation: tensor([142,  99, 120,  25], device='cuda:2') torch.Size([4])\n",
      "08/24/2023, 18:47:01# labels of 0: tensor([104,  99, 120,  25], device='cuda:2') torch.Size([4])\n",
      "08/24/2023, 18:47:01# predicted of 0: tensor([142,  99, 120,  25], device='cuda:2') torch.Size([4])\n",
      "08/24/2023, 18:47:09# labels of Validation: tensor([ 36,  89, 120, 154], device='cuda:2') torch.Size([4])\n",
      "08/24/2023, 18:47:09# predicted of Validation: tensor([142,  89, 120, 154], device='cuda:2') torch.Size([4])\n",
      "08/24/2023, 18:47:16# labels of Validation: tensor([109, 141, 105, 138], device='cuda:2') torch.Size([4])\n",
      "08/24/2023, 18:47:16# predicted of Validation: tensor([142, 161, 105, 138], device='cuda:2') torch.Size([4])\n",
      "08/24/2023, 18:47:24# labels of Validation: tensor([ 36, 155,  38,  56], device='cuda:2') torch.Size([4])\n",
      "08/24/2023, 18:47:24# predicted of Validation: tensor([142, 161, 142,  56], device='cuda:2') torch.Size([4])\n",
      "08/24/2023, 18:47:31# labels of Validation: tensor([130,  14, 122,  51], device='cuda:2') torch.Size([4])\n",
      "08/24/2023, 18:47:31# predicted of Validation: tensor([130, 142, 122, 161], device='cuda:2') torch.Size([4])\n",
      "08/24/2023, 18:47:32# Validation Loss: 2.7601 | Validation Accuracy: 0.3802\n",
      "\n"
     ]
    },
    {
     "data": {
      "application/vnd.jupyter.widget-view+json": {
       "model_id": "7015c1ce66ba43ccb6f5a9455b97cc25",
       "version_major": 2,
       "version_minor": 0
      },
      "text/plain": [
       "Training:   0%|          | 0/33000 [00:00<?, ?it/s]"
      ]
     },
     "metadata": {},
     "output_type": "display_data"
    },
    {
     "name": "stdout",
     "output_type": "stream",
     "text": [
      "08/24/2023, 18:48:37# labels of 5000: tensor([158,  60, 110,  30], device='cuda:2') torch.Size([4])\n",
      "08/24/2023, 18:48:37# predicted of 5000: tensor([133,  75, 133, 133], device='cuda:2') torch.Size([4])\n",
      "08/24/2023, 18:49:43# labels of 10000: tensor([130, 105,  50,  89], device='cuda:2') torch.Size([4])\n",
      "08/24/2023, 18:49:43# predicted of 10000: tensor([130, 105,  50,  89], device='cuda:2') torch.Size([4])\n",
      "08/24/2023, 18:50:47# labels of 15000: tensor([46, 12, 32, 40], device='cuda:2') torch.Size([4])\n",
      "08/24/2023, 18:50:47# predicted of 15000: tensor([121, 102,  32,  40], device='cuda:2') torch.Size([4])\n",
      "08/24/2023, 18:51:52# labels of 20000: tensor([119,  50, 150,   6], device='cuda:2') torch.Size([4])\n",
      "08/24/2023, 18:51:52# predicted of 20000: tensor([144,  50, 102, 132], device='cuda:2') torch.Size([4])\n",
      "08/24/2023, 18:52:57# labels of 25000: tensor([27, 91, 48, 95], device='cuda:2') torch.Size([4])\n",
      "08/24/2023, 18:52:57# predicted of 25000: tensor([27, 42, 42, 95], device='cuda:2') torch.Size([4])\n",
      "08/24/2023, 18:54:02# labels of 30000: tensor([126,  90,  71,  68], device='cuda:2') torch.Size([4])\n",
      "08/24/2023, 18:54:02# predicted of 30000: tensor([126,  28,  58,  28], device='cuda:2') torch.Size([4])\n",
      "08/24/2023, 18:54:42# total count: 33000\n",
      "08/24/2023, 18:54:42# Epoch 19 | Train Loss: 2.7714 | Train Accuracy: 0.3806\n"
     ]
    },
    {
     "data": {
      "application/vnd.jupyter.widget-view+json": {
       "model_id": "a8286900a09c47549036cb393893f287",
       "version_major": 2,
       "version_minor": 0
      },
      "text/plain": [
       "Validation:   0%|          | 0/4125 [00:00<?, ?it/s]"
      ]
     },
     "metadata": {},
     "output_type": "display_data"
    },
    {
     "name": "stdout",
     "output_type": "stream",
     "text": [
      "08/24/2023, 18:54:42# labels of Validation: tensor([  0, 122,  35,  16], device='cuda:2') torch.Size([4])\n",
      "08/24/2023, 18:54:42# predicted of Validation: tensor([  0, 122,  35,  16], device='cuda:2') torch.Size([4])\n",
      "08/24/2023, 18:54:42# labels of 0: tensor([  0, 122,  35,  16], device='cuda:2') torch.Size([4])\n",
      "08/24/2023, 18:54:42# predicted of 0: tensor([  0, 122,  35,  16], device='cuda:2') torch.Size([4])\n",
      "08/24/2023, 18:54:49# labels of Validation: tensor([  2, 165,  11,   8], device='cuda:2') torch.Size([4])\n",
      "08/24/2023, 18:54:49# predicted of Validation: tensor([ 38, 165,  38, 161], device='cuda:2') torch.Size([4])\n",
      "08/24/2023, 18:54:57# labels of Validation: tensor([ 63,  61,  61, 159], device='cuda:2') torch.Size([4])\n",
      "08/24/2023, 18:54:57# predicted of Validation: tensor([ 38,  61,  61, 159], device='cuda:2') torch.Size([4])\n",
      "08/24/2023, 18:55:05# labels of Validation: tensor([ 85,  59,  20, 139], device='cuda:2') torch.Size([4])\n",
      "08/24/2023, 18:55:05# predicted of Validation: tensor([ 85, 161,  38,  38], device='cuda:2') torch.Size([4])\n",
      "08/24/2023, 18:55:12# labels of Validation: tensor([ 16,  61, 102, 138], device='cuda:2') torch.Size([4])\n",
      "08/24/2023, 18:55:12# predicted of Validation: tensor([ 16,  61,  38, 138], device='cuda:2') torch.Size([4])\n",
      "08/24/2023, 18:55:13# Validation Loss: 2.7567 | Validation Accuracy: 0.3802\n",
      "\n"
     ]
    },
    {
     "ename": "FileNotFoundError",
     "evalue": "[Errno 2] No such file or directory: '../checkpoint_GAT/best_model_19.pt'",
     "output_type": "error",
     "traceback": [
      "\u001b[0;31m---------------------------------------------------------------------------\u001b[0m",
      "\u001b[0;31mFileNotFoundError\u001b[0m                         Traceback (most recent call last)",
      "\u001b[0;32m<ipython-input-15-a1dec1a90ea2>\u001b[0m in \u001b[0;36m<module>\u001b[0;34m\u001b[0m\n\u001b[1;32m     88\u001b[0m                 \u001b[0;34m'optimizer_state_dict'\u001b[0m\u001b[0;34m:\u001b[0m \u001b[0moptimizer\u001b[0m\u001b[0;34m.\u001b[0m\u001b[0mstate_dict\u001b[0m\u001b[0;34m(\u001b[0m\u001b[0;34m)\u001b[0m\u001b[0;34m,\u001b[0m\u001b[0;34m\u001b[0m\u001b[0;34m\u001b[0m\u001b[0m\n\u001b[1;32m     89\u001b[0m                 \u001b[0;34m'loss'\u001b[0m\u001b[0;34m:\u001b[0m \u001b[0mloss\u001b[0m\u001b[0;34m,\u001b[0m\u001b[0;34m\u001b[0m\u001b[0;34m\u001b[0m\u001b[0m\n\u001b[0;32m---> 90\u001b[0;31m                 }, f\"../checkpoint_GAT/best_model_{epoch}.pt\")\n\u001b[0m\u001b[1;32m     91\u001b[0m \u001b[0;34m\u001b[0m\u001b[0m\n\u001b[1;32m     92\u001b[0m     \u001b[0;32melse\u001b[0m\u001b[0;34m:\u001b[0m\u001b[0;34m\u001b[0m\u001b[0;34m\u001b[0m\u001b[0m\n",
      "\u001b[0;32m~/.local/lib/python3.6/site-packages/torch/serialization.py\u001b[0m in \u001b[0;36msave\u001b[0;34m(obj, f, pickle_module, pickle_protocol, _use_new_zipfile_serialization)\u001b[0m\n\u001b[1;32m    374\u001b[0m     \u001b[0m_check_dill_version\u001b[0m\u001b[0;34m(\u001b[0m\u001b[0mpickle_module\u001b[0m\u001b[0;34m)\u001b[0m\u001b[0;34m\u001b[0m\u001b[0;34m\u001b[0m\u001b[0m\n\u001b[1;32m    375\u001b[0m \u001b[0;34m\u001b[0m\u001b[0m\n\u001b[0;32m--> 376\u001b[0;31m     \u001b[0;32mwith\u001b[0m \u001b[0m_open_file_like\u001b[0m\u001b[0;34m(\u001b[0m\u001b[0mf\u001b[0m\u001b[0;34m,\u001b[0m \u001b[0;34m'wb'\u001b[0m\u001b[0;34m)\u001b[0m \u001b[0;32mas\u001b[0m \u001b[0mopened_file\u001b[0m\u001b[0;34m:\u001b[0m\u001b[0;34m\u001b[0m\u001b[0;34m\u001b[0m\u001b[0m\n\u001b[0m\u001b[1;32m    377\u001b[0m         \u001b[0;32mif\u001b[0m \u001b[0m_use_new_zipfile_serialization\u001b[0m\u001b[0;34m:\u001b[0m\u001b[0;34m\u001b[0m\u001b[0;34m\u001b[0m\u001b[0m\n\u001b[1;32m    378\u001b[0m             \u001b[0;32mwith\u001b[0m \u001b[0m_open_zipfile_writer\u001b[0m\u001b[0;34m(\u001b[0m\u001b[0mopened_file\u001b[0m\u001b[0;34m)\u001b[0m \u001b[0;32mas\u001b[0m \u001b[0mopened_zipfile\u001b[0m\u001b[0;34m:\u001b[0m\u001b[0;34m\u001b[0m\u001b[0;34m\u001b[0m\u001b[0m\n",
      "\u001b[0;32m~/.local/lib/python3.6/site-packages/torch/serialization.py\u001b[0m in \u001b[0;36m_open_file_like\u001b[0;34m(name_or_buffer, mode)\u001b[0m\n\u001b[1;32m    228\u001b[0m \u001b[0;32mdef\u001b[0m \u001b[0m_open_file_like\u001b[0m\u001b[0;34m(\u001b[0m\u001b[0mname_or_buffer\u001b[0m\u001b[0;34m,\u001b[0m \u001b[0mmode\u001b[0m\u001b[0;34m)\u001b[0m\u001b[0;34m:\u001b[0m\u001b[0;34m\u001b[0m\u001b[0;34m\u001b[0m\u001b[0m\n\u001b[1;32m    229\u001b[0m     \u001b[0;32mif\u001b[0m \u001b[0m_is_path\u001b[0m\u001b[0;34m(\u001b[0m\u001b[0mname_or_buffer\u001b[0m\u001b[0;34m)\u001b[0m\u001b[0;34m:\u001b[0m\u001b[0;34m\u001b[0m\u001b[0;34m\u001b[0m\u001b[0m\n\u001b[0;32m--> 230\u001b[0;31m         \u001b[0;32mreturn\u001b[0m \u001b[0m_open_file\u001b[0m\u001b[0;34m(\u001b[0m\u001b[0mname_or_buffer\u001b[0m\u001b[0;34m,\u001b[0m \u001b[0mmode\u001b[0m\u001b[0;34m)\u001b[0m\u001b[0;34m\u001b[0m\u001b[0;34m\u001b[0m\u001b[0m\n\u001b[0m\u001b[1;32m    231\u001b[0m     \u001b[0;32melse\u001b[0m\u001b[0;34m:\u001b[0m\u001b[0;34m\u001b[0m\u001b[0;34m\u001b[0m\u001b[0m\n\u001b[1;32m    232\u001b[0m         \u001b[0;32mif\u001b[0m \u001b[0;34m'w'\u001b[0m \u001b[0;32min\u001b[0m \u001b[0mmode\u001b[0m\u001b[0;34m:\u001b[0m\u001b[0;34m\u001b[0m\u001b[0;34m\u001b[0m\u001b[0m\n",
      "\u001b[0;32m~/.local/lib/python3.6/site-packages/torch/serialization.py\u001b[0m in \u001b[0;36m__init__\u001b[0;34m(self, name, mode)\u001b[0m\n\u001b[1;32m    209\u001b[0m \u001b[0;32mclass\u001b[0m \u001b[0m_open_file\u001b[0m\u001b[0;34m(\u001b[0m\u001b[0m_opener\u001b[0m\u001b[0;34m)\u001b[0m\u001b[0;34m:\u001b[0m\u001b[0;34m\u001b[0m\u001b[0;34m\u001b[0m\u001b[0m\n\u001b[1;32m    210\u001b[0m     \u001b[0;32mdef\u001b[0m \u001b[0m__init__\u001b[0m\u001b[0;34m(\u001b[0m\u001b[0mself\u001b[0m\u001b[0;34m,\u001b[0m \u001b[0mname\u001b[0m\u001b[0;34m,\u001b[0m \u001b[0mmode\u001b[0m\u001b[0;34m)\u001b[0m\u001b[0;34m:\u001b[0m\u001b[0;34m\u001b[0m\u001b[0;34m\u001b[0m\u001b[0m\n\u001b[0;32m--> 211\u001b[0;31m         \u001b[0msuper\u001b[0m\u001b[0;34m(\u001b[0m\u001b[0m_open_file\u001b[0m\u001b[0;34m,\u001b[0m \u001b[0mself\u001b[0m\u001b[0;34m)\u001b[0m\u001b[0;34m.\u001b[0m\u001b[0m__init__\u001b[0m\u001b[0;34m(\u001b[0m\u001b[0mopen\u001b[0m\u001b[0;34m(\u001b[0m\u001b[0mname\u001b[0m\u001b[0;34m,\u001b[0m \u001b[0mmode\u001b[0m\u001b[0;34m)\u001b[0m\u001b[0;34m)\u001b[0m\u001b[0;34m\u001b[0m\u001b[0;34m\u001b[0m\u001b[0m\n\u001b[0m\u001b[1;32m    212\u001b[0m \u001b[0;34m\u001b[0m\u001b[0m\n\u001b[1;32m    213\u001b[0m     \u001b[0;32mdef\u001b[0m \u001b[0m__exit__\u001b[0m\u001b[0;34m(\u001b[0m\u001b[0mself\u001b[0m\u001b[0;34m,\u001b[0m \u001b[0;34m*\u001b[0m\u001b[0margs\u001b[0m\u001b[0;34m)\u001b[0m\u001b[0;34m:\u001b[0m\u001b[0;34m\u001b[0m\u001b[0;34m\u001b[0m\u001b[0m\n",
      "\u001b[0;31mFileNotFoundError\u001b[0m: [Errno 2] No such file or directory: '../checkpoint_GAT/best_model_19.pt'"
     ]
    }
   ],
   "source": [
    "from torch.optim import AdamW, lr_scheduler\n",
    "\n",
    "seed = 8787\n",
    "same_seeds(seed)\n",
    "\n",
    "model = GAT(in_dim=50, hidden_dim=16, out_dim=168, num_heads=8)\n",
    "# in_dim means the dimension of the node_feat(50 dim, since the 50-dim embedding)\n",
    "# out_dim means the # of the categories -> 168 for out tasks\n",
    "model.load_state_dict(torch.load('model1_initial/initial_weight.pth'))\n",
    "best_model_path = \"../checkpoint_GAT/best_model_GAT_repeat.pt\"\n",
    "\n",
    "model = model.to(device)\n",
    "\n",
    "optimizer = AdamW(model.parameters(), lr=2e-4)\n",
    "# scheduler = get_linear_schedule_with_warmup(optimizer, num_warmup_steps=100, num_training_steps=total_steps)\n",
    "\n",
    "# T_max control the period of the lr changing -> set 1/10 first\n",
    "scheduler = lr_scheduler.CosineAnnealingLR(optimizer, T_max=100, eta_min=0, last_epoch=- 1, verbose=False)\n",
    "\n",
    "\n",
    "criterion = nn.CrossEntropyLoss()\n",
    "total_steps = 1000\n",
    "\n",
    "# save the best model\n",
    "best_val_loss = float('inf')\n",
    "patience = 50  # Number of epochs with no improvement after which training will be stopped.\n",
    "waiting = 0  # The number of epochs with no improvement so far.\n",
    "\n",
    "\n",
    "# Training Part\n",
    "for epoch in tqdm(range(total_steps)):\n",
    "    # Train\n",
    "    model.train()\n",
    "    total_loss = 0.0\n",
    "    total_accuracy = 0.0\n",
    "    num_batches = 0\n",
    "    \n",
    "    count = 0 \n",
    "    \n",
    "    for data in tqdm(dataloaders['train'], desc=\"Training\", position=0, leave=True):\n",
    "        \n",
    "        count += 1\n",
    "        loss, accuracy, _ = model_fn(data, model, criterion, device, count, which_type='train')\n",
    "        \n",
    "        optimizer.zero_grad()\n",
    "        loss.backward()\n",
    "        optimizer.step()\n",
    "\n",
    "        total_loss += loss.item()\n",
    "        total_accuracy += accuracy.item()\n",
    "        num_batches += 1\n",
    "        \n",
    "    scheduler.step()\n",
    "    add_log_msg(f\"total count: {count}\")\n",
    "\n",
    "    avg_loss = total_loss / num_batches\n",
    "    avg_accuracy = total_accuracy / num_batches\n",
    "\n",
    "    add_log_msg(f'Epoch {epoch} | Train Loss: {avg_loss:.4f} | Train Accuracy: {avg_accuracy:.4f}')\n",
    "\n",
    "    \n",
    "    # Validation Part\n",
    "    model.eval()\n",
    "    total_accuracy = 0.0\n",
    "    total_loss = 0.0\n",
    "    num_batches = 0\n",
    "\n",
    "\n",
    "    with torch.no_grad():\n",
    "        for data in tqdm(dataloaders['valid'], desc=\"Validation\", position=0, leave=True):\n",
    "            loss, accuracy, _ = model_fn(data, model, criterion, device, num_batches, which_type='validation')\n",
    "            total_accuracy += accuracy.item()\n",
    "            total_loss += loss.item()\n",
    "            num_batches += 1\n",
    "\n",
    "    avg_accuracy = total_accuracy / num_batches\n",
    "    current_loss = total_loss / num_batches\n",
    "    \n",
    "    add_log_msg(f'Validation Loss: {current_loss:.4f} | Validation Accuracy: {avg_accuracy:.4f}\\n')\n",
    "    \n",
    "    \n",
    "    if current_loss < best_val_loss:\n",
    "        best_val_loss = current_loss\n",
    "        waiting = 0\n",
    "        \n",
    "        if os.path.exists(best_model_path):\n",
    "            os.remove(best_model_path)\n",
    "\n",
    "            torch.save({\n",
    "                    'epoch': epoch,\n",
    "                    'model_state_dict': model.state_dict(),\n",
    "                    'optimizer_state_dict': optimizer.state_dict(),\n",
    "                    'loss': loss,\n",
    "                    }, best_model_path)\n",
    "\n",
    "        else:\n",
    "            waiting += 1\n",
    "            if waiting >= patience:\n",
    "                add_log_msg(\"Early stopping\")\n",
    "                break\n",
    "            \n",
    "            \n",
    "# Testing Part\n",
    "model.eval()\n",
    "total = 0\n",
    "correct = 0\n",
    "count = 0\n",
    "\n",
    "with torch.no_grad():\n",
    "    for data in tqdm(dataloaders['test'], desc=\"Testing\", position=0, leave=True):\n",
    "\n",
    "        loss, accuracy, predicted = model_fn(data, model, criterion, device, count, which_type='test')\n",
    "        labels = data[1].to(device)  # Assuming labels are the second element in the tuple\n",
    "        \n",
    "        add_log_msg(f\"labels: {labels} {labels.shape}\")\n",
    "        add_log_msg(f\"predicted: {predicted} {predicted.shape}\")\n",
    "        count += 1\n",
    "        \n",
    "        total += labels.size(0) # label.size(0) is the batch size\n",
    "        correct += (predicted == labels).sum().item() \n",
    "        # (predicted == labels).sum() would return how many of them are equal;\n",
    "        # .item() would make the tensor to the regular value\n",
    "        \n",
    "#     print('Test Accuracy: %d %%' % (100 * correct / total))\n",
    "add_log_msg(f'Test Accuracy: {100 * correct / total} %%')"
   ]
  },
  {
   "cell_type": "code",
   "execution_count": null,
   "metadata": {},
   "outputs": [],
   "source": []
  }
 ],
 "metadata": {
  "kernelspec": {
   "display_name": "Python 3",
   "language": "python",
   "name": "python3"
  },
  "language_info": {
   "codemirror_mode": {
    "name": "ipython",
    "version": 3
   },
   "file_extension": ".py",
   "mimetype": "text/x-python",
   "name": "python",
   "nbconvert_exporter": "python",
   "pygments_lexer": "ipython3",
   "version": "3.6.9"
  }
 },
 "nbformat": 4,
 "nbformat_minor": 2
}
