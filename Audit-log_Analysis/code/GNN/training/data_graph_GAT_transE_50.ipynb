{
 "cells": [
  {
   "cell_type": "markdown",
   "metadata": {},
   "source": [
    "# Test of GAT\n",
    "- use DGL\n",
    "- predict `graphs`\n",
    "- test: 0~99\n",
    "- validation: 100~199\n",
    "- train: 200~999\n",
    "- larger lr with scheduler\n",
    "- try the sklearn report"
   ]
  },
  {
   "cell_type": "code",
   "execution_count": 10,
   "metadata": {},
   "outputs": [],
   "source": [
    "import os\n",
    "import dgl\n",
    "import json\n",
    "import torch\n",
    "import torch as th\n",
    "# from tqdm import tqdm\n",
    "from tqdm.notebook import tqdm  # 使用 notebook 版本的 tqdm\n",
    "import torch.nn as nn\n",
    "from dgl.nn import GraphConv, GATConv\n",
    "import torch.nn.functional as F\n",
    "from torch.utils.data import Dataset, DataLoader\n",
    "from transformers import get_linear_schedule_with_warmup\n",
    "from torch.optim import AdamW\n",
    "from sklearn.metrics import classification_report\n"
   ]
  },
  {
   "cell_type": "markdown",
   "metadata": {},
   "source": [
    "- check the GPU and assign the GPU by the best memory usage"
   ]
  },
  {
   "cell_type": "code",
   "execution_count": 11,
   "metadata": {},
   "outputs": [
    {
     "name": "stdout",
     "output_type": "stream",
     "text": [
      "cuda:3\n"
     ]
    }
   ],
   "source": [
    "import subprocess\n",
    "import torch\n",
    "\n",
    "def get_free_gpu():\n",
    "    try:\n",
    "        # Run nvidia-smi command to get GPU details\n",
    "        _output_to_list = lambda x: x.decode('ascii').split('\\n')[:-1]\n",
    "        command = \"nvidia-smi --query-gpu=memory.free --format=csv,nounits,noheader\"\n",
    "        memory_free_info = _output_to_list(subprocess.check_output(command.split())) \n",
    "        memory_free_values = [int(x) for i, x in enumerate(memory_free_info)]\n",
    "        \n",
    "        # Get the GPU with the maximum free memory\n",
    "        best_gpu_id = memory_free_values.index(max(memory_free_values))\n",
    "        return best_gpu_id\n",
    "    except:\n",
    "        # If any exception occurs, default to GPU 0 (this handles cases where nvidia-smi isn't installed)\n",
    "        return 0\n",
    "\n",
    "if torch.cuda.is_available():\n",
    "    # Get the best GPU ID based on free memory and set it\n",
    "    best_gpu_id = get_free_gpu()\n",
    "    device = torch.device(f\"cuda:{best_gpu_id}\")\n",
    "else:\n",
    "    device = torch.device(\"cpu\")\n",
    "    print(\"there's no available GPU\")\n",
    "\n",
    "# device = torch.device(f\"cuda:1\")\n",
    "print(device)\n"
   ]
  },
  {
   "cell_type": "markdown",
   "metadata": {},
   "source": [
    "## Fix the seed"
   ]
  },
  {
   "cell_type": "code",
   "execution_count": 12,
   "metadata": {},
   "outputs": [],
   "source": [
    "import numpy as np\n",
    "import torch\n",
    "import random\n",
    "\n",
    "#fix seed\n",
    "def same_seeds(seed = 8787):\n",
    "    torch.manual_seed(seed)\n",
    "    # random.seed(seed) \n",
    "    if torch.cuda.is_available():\n",
    "        torch.cuda.manual_seed(seed)\n",
    "        torch.cuda.manual_seed_all(seed)  \n",
    "    np.random.seed(seed)  \n",
    "    torch.backends.cudnn.benchmark = False\n",
    "    torch.backends.cudnn.deterministic = True"
   ]
  },
  {
   "cell_type": "markdown",
   "metadata": {},
   "source": [
    "## Data Loader"
   ]
  },
  {
   "cell_type": "code",
   "execution_count": 13,
   "metadata": {},
   "outputs": [],
   "source": [
    "class GraphDataset(Dataset):\n",
    "    def __init__(self, data_list, device):\n",
    "        self.data_list = data_list\n",
    "        self.device = device\n",
    "\n",
    "    def __len__(self):\n",
    "        return len(self.data_list)\n",
    "    \n",
    "    def __getitem__(self, idx):\n",
    "        data = self.data_list[idx]\n",
    "\n",
    "        g = dgl.graph((th.tensor(data[\"edge_index\"][0]), th.tensor(data[\"edge_index\"][1])), num_nodes=data[\"num_nodes\"]).to(self.device)\n",
    "\n",
    "        g.ndata['feat'] = th.tensor(data[\"node_feat\"]).to(self.device)\n",
    "        g.edata['feat'] = th.tensor(data[\"edge_attr\"]).to(self.device)  # Add edge features to graph\n",
    "\n",
    "        return g, th.tensor(data[\"label\"]).to(self.device)\n",
    "\n",
    "\n",
    "def collate(samples):\n",
    "    # The input `samples` is a list of pairs\n",
    "    #  (graph, label).\n",
    "    graphs, labels = map(list, zip(*samples))\n",
    "    batched_graph = dgl.batch(graphs)\n",
    "    return batched_graph, torch.tensor(labels)\n"
   ]
  },
  {
   "cell_type": "code",
   "execution_count": 14,
   "metadata": {},
   "outputs": [
    {
     "data": {
      "application/vnd.jupyter.widget-view+json": {
       "model_id": "901355d1b1564362a60aeef6426389fb",
       "version_major": 2,
       "version_minor": 0
      },
      "text/plain": [
       "  0%|          | 0/3 [00:00<?, ?it/s]"
      ]
     },
     "metadata": {},
     "output_type": "display_data"
    },
    {
     "name": "stdout",
     "output_type": "stream",
     "text": [
      "../../data_processing/dgl/data_new/training_data/transE_50/train.jsonl\n"
     ]
    },
    {
     "data": {
      "application/vnd.jupyter.widget-view+json": {
       "model_id": "0e84da4b4eb545fd885f5c517c455798",
       "version_major": 2,
       "version_minor": 0
      },
      "text/plain": [
       "0it [00:00, ?it/s]"
      ]
     },
     "metadata": {},
     "output_type": "display_data"
    },
    {
     "name": "stdout",
     "output_type": "stream",
     "text": [
      "../../data_processing/dgl/data_new/training_data/transE_50/valid.jsonl\n"
     ]
    },
    {
     "data": {
      "application/vnd.jupyter.widget-view+json": {
       "model_id": "b833d5bc7ad34d51847000a5bde97341",
       "version_major": 2,
       "version_minor": 0
      },
      "text/plain": [
       "0it [00:00, ?it/s]"
      ]
     },
     "metadata": {},
     "output_type": "display_data"
    },
    {
     "name": "stdout",
     "output_type": "stream",
     "text": [
      "../../data_processing/dgl/data_new/training_data/transE_50/test.jsonl\n"
     ]
    },
    {
     "data": {
      "application/vnd.jupyter.widget-view+json": {
       "model_id": "af887d7007ff476b89a512bee9d79264",
       "version_major": 2,
       "version_minor": 0
      },
      "text/plain": [
       "0it [00:00, ?it/s]"
      ]
     },
     "metadata": {},
     "output_type": "display_data"
    },
    {
     "name": "stdout",
     "output_type": "stream",
     "text": [
      "Datasets loaded!\n"
     ]
    }
   ],
   "source": [
    "datasets = ['train', 'valid', 'test']\n",
    "# datasets = ['test']\n",
    "dataset_data = {}\n",
    "\n",
    "for dataset_name in tqdm(datasets):\n",
    "#     file_path = f\"../../data_processing/dgl/data/test_graph/repeated_{dataset_name}.jsonl\"\n",
    "    file_path = f\"../../data_processing/dgl/data_new/training_data/transE_50/{dataset_name}.jsonl\"\n",
    "    \n",
    "    print(file_path)\n",
    "    with open(file_path) as f:\n",
    "        data_list = [json.loads(line) for line in tqdm(f, position=0, leave=True)]\n",
    "    \n",
    "    dataset_data[dataset_name] = GraphDataset(data_list, device)\n",
    "\n",
    "print(\"Datasets loaded!\")"
   ]
  },
  {
   "cell_type": "markdown",
   "metadata": {},
   "source": [
    "- choose batch size"
   ]
  },
  {
   "cell_type": "code",
   "execution_count": 15,
   "metadata": {},
   "outputs": [
    {
     "name": "stdout",
     "output_type": "stream",
     "text": [
      "OK!\n"
     ]
    }
   ],
   "source": [
    "def create_dataloaders(batch_size, shuffle=True):\n",
    "    dataloaders = {}\n",
    "    for dataset_name, dataset in dataset_data.items():\n",
    "        # do not shuffle the testing dataset\n",
    "        if dataset_name == \"test\":\n",
    "            dataloaders[dataset_name] = DataLoader(dataset, batch_size=batch_size, shuffle=False, collate_fn=collate)    \n",
    "        else:\n",
    "            dataloaders[dataset_name] = DataLoader(dataset, batch_size=batch_size, shuffle=shuffle, collate_fn=collate)\n",
    "    return dataloaders\n",
    "\n",
    "# dataloaders = create_dataloaders(4)\n",
    "dataloaders = create_dataloaders(16)\n",
    "\n",
    "\n",
    "if (len(dataloaders['test'].dataset) + len(dataloaders['valid'].dataset) + len(dataloaders['train'].dataset)) % 165 != 0: print(\"Error data!!\")\n",
    "else: print(\"OK!\")\n"
   ]
  },
  {
   "cell_type": "markdown",
   "metadata": {},
   "source": [
    "- Turn the print message to a log file"
   ]
  },
  {
   "cell_type": "code",
   "execution_count": 16,
   "metadata": {},
   "outputs": [
    {
     "name": "stdout",
     "output_type": "stream",
     "text": [
      "(Graph(num_nodes=26, num_edges=67,\n",
      "      ndata_schemes={'feat': Scheme(shape=(50,), dtype=torch.float32)}\n",
      "      edata_schemes={'feat': Scheme(shape=(50,), dtype=torch.float32)}), tensor(7, device='cuda:3'))\n",
      "16500\n",
      "16500\n",
      "132000\n",
      "165000\n"
     ]
    }
   ],
   "source": [
    "# print(dataloaders['test'][5])\n",
    "sample = dataset_data['train'][5000]\n",
    "print(sample)\n",
    "\n",
    "print(len(dataloaders['test'].dataset))\n",
    "print(len(dataloaders['valid'].dataset))\n",
    "print(len(dataloaders['train'].dataset))\n",
    "print(len(dataloaders['test'].dataset) + len(dataloaders['valid'].dataset) + len(dataloaders['train'].dataset))"
   ]
  },
  {
   "cell_type": "code",
   "execution_count": 17,
   "metadata": {},
   "outputs": [
    {
     "name": "stdout",
     "output_type": "stream",
     "text": [
      "../log_message/0829_01:15_GAT_transE_50.log\n"
     ]
    }
   ],
   "source": [
    "import datetime\n",
    "\n",
    "now = datetime.datetime.now()\n",
    "\n",
    "formatted_time = now.strftime(\"%m%d_%H:%M\")\n",
    "\n",
    "log_file_path = f\"../log_message/{formatted_time}_GAT_transE_50.log\"\n",
    "\n",
    "def add_log_msg(msg, log_file_path=log_file_path):\n",
    "    with open(log_file_path, 'a') as f:\n",
    "        f.write(f'{datetime.datetime.now().strftime(\"%m/%d/%Y, %H:%M:%S\")}# {msg}\\n')\n",
    "    print(f'{datetime.datetime.now().strftime(\"%m/%d/%Y, %H:%M:%S\")}# {msg}')\n",
    "\n",
    "print(log_file_path)"
   ]
  },
  {
   "cell_type": "markdown",
   "metadata": {},
   "source": [
    "### Model"
   ]
  },
  {
   "cell_type": "code",
   "execution_count": 18,
   "metadata": {},
   "outputs": [],
   "source": [
    "class GAT(nn.Module):\n",
    "    def __init__(self, in_dim, hidden_dim, out_dim, num_heads, dropout_prob=0.25):\n",
    "        super(GAT, self).__init__()\n",
    "        \n",
    "        # do not check the zero in_degree since we have all the complete graph\n",
    "        self.layer1 = GATConv(in_dim, hidden_dim, num_heads=num_heads, activation=F.relu, allow_zero_in_degree=True)\n",
    "        self.layer2 = GATConv(hidden_dim * num_heads, out_dim, num_heads=num_heads, allow_zero_in_degree=True)\n",
    "        \n",
    "        # Adding Batch Normalization after each GAT layer\n",
    "        self.batchnorm1 = nn.BatchNorm1d(hidden_dim * num_heads)\n",
    "        self.batchnorm2 = nn.BatchNorm1d(out_dim)\n",
    "        \n",
    "        # Adding Dropout for regularization\n",
    "        self.dropout = nn.Dropout(dropout_prob)\n",
    "\n",
    "    def forward(self, g, h):\n",
    "        # Apply GAT layers\n",
    "        h = self.layer1(g, h)\n",
    "        h = h.view(h.shape[0], -1)\n",
    "        h = F.relu(h)\n",
    "        h = self.dropout(h)\n",
    "        h = self.layer2(g, h).squeeze(1)\n",
    "        \n",
    "        # Store the output as a new node feature\n",
    "        g.ndata['h_out'] = h\n",
    "\n",
    "        # Use mean pooling to aggregate this new node feature\n",
    "        h_agg = dgl.mean_nodes(g, feat='h_out')\n",
    "        return h_agg\n",
    "\n",
    "    "
   ]
  },
  {
   "cell_type": "markdown",
   "metadata": {},
   "source": [
    "- Model Forward  "
   ]
  },
  {
   "cell_type": "code",
   "execution_count": 19,
   "metadata": {},
   "outputs": [],
   "source": [
    "def model_fn(data, model, criterion, device, count=1, which_type='train'):\n",
    "    \"\"\"Forward a batch through the model.\"\"\"\n",
    "    batched_g, labels = data\n",
    "    batched_g = batched_g.to(device)\n",
    "    \n",
    "    labels = labels.to(device)\n",
    "    logits = model(batched_g, batched_g.ndata['feat'].float()) # for GAT\n",
    "    logits = logits.mean(dim=1)\n",
    "    \n",
    "    loss = criterion(logits, labels)\n",
    "\n",
    "    # Get the class id with the highest probability\n",
    "    preds = logits.argmax(1)\n",
    "    \n",
    "    # Compute accuracy\n",
    "    accuracy = torch.mean((preds == labels).float())\n",
    "    \n",
    "    if which_type == 'validation' and count % 1000 == 0:\n",
    "        add_log_msg(f\"labels of Validation: {labels} {labels.shape}\")\n",
    "        add_log_msg(f\"predicted of Validation: {preds} {preds.shape}\")\n",
    "        \n",
    "    elif which_type == 'test'  and count % 1000 == 0:\n",
    "        add_log_msg(f\"labels of Test: {labels} {labels.shape}\")\n",
    "        add_log_msg(f\"predicted of Test: {preds} {preds.shape}\")\n",
    "        \n",
    "    if count % 5000 == 0: \n",
    "        add_log_msg(f\"labels of {count}: {labels} {labels.shape}\")\n",
    "        add_log_msg(f\"predicted of {count}: {preds} {preds.shape}\")\n",
    "        \n",
    "    return loss, accuracy, preds"
   ]
  },
  {
   "cell_type": "markdown",
   "metadata": {},
   "source": [
    "### Training"
   ]
  },
  {
   "cell_type": "markdown",
   "metadata": {},
   "source": [
    "- Fix the seed and save the model.state_dict that contains the initial weight"
   ]
  },
  {
   "cell_type": "code",
   "execution_count": 20,
   "metadata": {},
   "outputs": [],
   "source": [
    "seed = 8787\n",
    "same_seeds(seed)\n",
    "\n",
    "model = GAT(in_dim=50, hidden_dim=16, out_dim=168, num_heads=8)\n",
    "torch.save(model.state_dict(), 'model1_initial/initial_weight.pth')"
   ]
  },
  {
   "cell_type": "code",
   "execution_count": 21,
   "metadata": {},
   "outputs": [
    {
     "data": {
      "text/plain": [
       "Parameter containing:\n",
       "tensor([[-0.1806, -0.0598,  0.0091,  ...,  0.0719,  0.2496,  0.0873],\n",
       "        [ 0.1694, -0.0015, -0.0139,  ...,  0.0147,  0.0892,  0.0146],\n",
       "        [ 0.0969, -0.0595, -0.0115,  ..., -0.0474,  0.0529, -0.0565],\n",
       "        ...,\n",
       "        [-0.0433, -0.2248,  0.3002,  ...,  0.0850,  0.1621,  0.0422],\n",
       "        [ 0.2097, -0.2492,  0.0612,  ..., -0.0041,  0.0365, -0.1483],\n",
       "        [ 0.0971, -0.2221,  0.1652,  ..., -0.1312, -0.2610,  0.0077]],\n",
       "       requires_grad=True)"
      ]
     },
     "execution_count": 21,
     "metadata": {},
     "output_type": "execute_result"
    }
   ],
   "source": [
    "model.layer1.fc.weight"
   ]
  },
  {
   "cell_type": "markdown",
   "metadata": {},
   "source": [
    "- Check if model really load the model_dict"
   ]
  },
  {
   "cell_type": "code",
   "execution_count": 22,
   "metadata": {},
   "outputs": [
    {
     "data": {
      "text/plain": [
       "Parameter containing:\n",
       "tensor([[-0.1806, -0.0598,  0.0091,  ...,  0.0719,  0.2496,  0.0873],\n",
       "        [ 0.1694, -0.0015, -0.0139,  ...,  0.0147,  0.0892,  0.0146],\n",
       "        [ 0.0969, -0.0595, -0.0115,  ..., -0.0474,  0.0529, -0.0565],\n",
       "        ...,\n",
       "        [-0.0433, -0.2248,  0.3002,  ...,  0.0850,  0.1621,  0.0422],\n",
       "        [ 0.2097, -0.2492,  0.0612,  ..., -0.0041,  0.0365, -0.1483],\n",
       "        [ 0.0971, -0.2221,  0.1652,  ..., -0.1312, -0.2610,  0.0077]],\n",
       "       requires_grad=True)"
      ]
     },
     "execution_count": 22,
     "metadata": {},
     "output_type": "execute_result"
    }
   ],
   "source": [
    "model = GAT(in_dim=50, hidden_dim=16, out_dim=168, num_heads=8)\n",
    "model.load_state_dict(torch.load('model1_initial/initial_weight.pth'))\n",
    "model.layer1.fc.weight"
   ]
  },
  {
   "cell_type": "markdown",
   "metadata": {},
   "source": [
    "### test of valid and test part is ``graph``"
   ]
  },
  {
   "cell_type": "markdown",
   "metadata": {},
   "source": [
    "- Batch size = 4\n",
    "- use large lr and scheduler"
   ]
  },
  {
   "cell_type": "code",
   "execution_count": null,
   "metadata": {
    "scrolled": true
   },
   "outputs": [
    {
     "data": {
      "application/vnd.jupyter.widget-view+json": {
       "model_id": "f94ff8f356cf45669e1f8ed3cba5082e",
       "version_major": 2,
       "version_minor": 0
      },
      "text/plain": [
       "  0%|          | 0/100 [00:00<?, ?it/s]"
      ]
     },
     "metadata": {},
     "output_type": "display_data"
    },
    {
     "data": {
      "application/vnd.jupyter.widget-view+json": {
       "model_id": "4bc47d18cf674cdc922a0862e968237d",
       "version_major": 2,
       "version_minor": 0
      },
      "text/plain": [
       "Training:   0%|          | 0/8250 [00:00<?, ?it/s]"
      ]
     },
     "metadata": {},
     "output_type": "display_data"
    },
    {
     "name": "stdout",
     "output_type": "stream",
     "text": [
      "08/29/2023, 01:20:30# labels of 5000: tensor([ 61, 119,  49, 116, 136, 157, 161,  16,  57,  79,  70, 144, 162,  59,\n",
      "        165, 101], device='cuda:3') torch.Size([16])\n",
      "08/29/2023, 01:20:30# predicted of 5000: tensor([136, 161, 161, 132, 136,  28, 154,  82, 154, 106, 154, 154, 154, 154,\n",
      "         52, 132], device='cuda:3') torch.Size([16])\n",
      "08/29/2023, 01:23:25# total batches: 8250\n",
      "08/29/2023, 01:23:25# Epoch 0 | Train Loss: 4.6248 | Train Accuracy: 0.0854\n"
     ]
    },
    {
     "data": {
      "application/vnd.jupyter.widget-view+json": {
       "model_id": "c8991e0352bf4e828b919b589390c238",
       "version_major": 2,
       "version_minor": 0
      },
      "text/plain": [
       "Validation:   0%|          | 0/1032 [00:00<?, ?it/s]"
      ]
     },
     "metadata": {},
     "output_type": "display_data"
    },
    {
     "name": "stdout",
     "output_type": "stream",
     "text": [
      "08/29/2023, 01:23:25# labels of Validation: tensor([134,  42,  29,  24, 113, 156, 134,  42, 125, 138, 117,  47, 118,  60,\n",
      "        125,  11], device='cuda:3') torch.Size([16])\n",
      "08/29/2023, 01:23:25# predicted of Validation: tensor([134,   6, 165,   6,  28, 156, 134,   6,   6, 138,  62,   6, 118,   6,\n",
      "          6,   6], device='cuda:3') torch.Size([16])\n",
      "08/29/2023, 01:23:25# labels of 0: tensor([134,  42,  29,  24, 113, 156, 134,  42, 125, 138, 117,  47, 118,  60,\n",
      "        125,  11], device='cuda:3') torch.Size([16])\n",
      "08/29/2023, 01:23:25# predicted of 0: tensor([134,   6, 165,   6,  28, 156, 134,   6,   6, 138,  62,   6, 118,   6,\n",
      "          6,   6], device='cuda:3') torch.Size([16])\n",
      "08/29/2023, 01:24:08# labels of Validation: tensor([138,  48,  36, 134,  72,  71,  26,  75, 101,  43, 103, 146, 166,  88,\n",
      "         59, 147], device='cuda:3') torch.Size([16])\n",
      "08/29/2023, 01:24:08# predicted of Validation: tensor([138,   6,   6, 134,  35,   6,   6,   6,  28,   6,  28, 146,  28,  28,\n",
      "         28, 147], device='cuda:3') torch.Size([16])\n",
      "08/29/2023, 01:24:10# Validation Loss: 3.9986 | Validation Accuracy: 0.2599\n",
      "\n"
     ]
    },
    {
     "data": {
      "application/vnd.jupyter.widget-view+json": {
       "model_id": "e55475e3761e42a3a766dbd28b051fdf",
       "version_major": 2,
       "version_minor": 0
      },
      "text/plain": [
       "Training:   0%|          | 0/8250 [00:00<?, ?it/s]"
      ]
     },
     "metadata": {},
     "output_type": "display_data"
    },
    {
     "name": "stdout",
     "output_type": "stream",
     "text": [
      "08/29/2023, 01:28:37# labels of 5000: tensor([ 83,  63,  34, 165, 135, 159, 103,  87,  41, 160,  97,  74, 132, 100,\n",
      "         17, 112], device='cuda:3') torch.Size([16])\n",
      "08/29/2023, 01:28:37# predicted of 5000: tensor([121, 132, 132, 165, 132, 159, 132, 132, 132, 132, 132,  68, 132, 132,\n",
      "         17, 132], device='cuda:3') torch.Size([16])\n",
      "08/29/2023, 01:31:26# total batches: 8250\n",
      "08/29/2023, 01:31:26# Epoch 1 | Train Loss: 3.5998 | Train Accuracy: 0.3058\n"
     ]
    },
    {
     "data": {
      "application/vnd.jupyter.widget-view+json": {
       "model_id": "23c6c59b6528493a82fb052807c9f76c",
       "version_major": 2,
       "version_minor": 0
      },
      "text/plain": [
       "Validation:   0%|          | 0/1032 [00:00<?, ?it/s]"
      ]
     },
     "metadata": {},
     "output_type": "display_data"
    },
    {
     "name": "stdout",
     "output_type": "stream",
     "text": [
      "08/29/2023, 01:31:26# labels of Validation: tensor([ 84,  63,  62,  75, 105, 120, 151, 154, 149, 109, 144,  83,  58, 158,\n",
      "         39,  36], device='cuda:3') torch.Size([16])\n",
      "08/29/2023, 01:31:26# predicted of Validation: tensor([ 84,  77,  62,  77, 105, 120,  77, 154, 149,  77,  77,  77,  77,  77,\n",
      "         39,  77], device='cuda:3') torch.Size([16])\n",
      "08/29/2023, 01:31:26# labels of 0: tensor([ 84,  63,  62,  75, 105, 120, 151, 154, 149, 109, 144,  83,  58, 158,\n",
      "         39,  36], device='cuda:3') torch.Size([16])\n",
      "08/29/2023, 01:31:26# predicted of 0: tensor([ 84,  77,  62,  77, 105, 120,  77, 154, 149,  77,  77,  77,  77,  77,\n",
      "         39,  77], device='cuda:3') torch.Size([16])\n",
      "08/29/2023, 01:32:13# labels of Validation: tensor([ 61,  72,  58, 102,  43, 131,  54,  76, 117,  51,  45,  93,  27, 151,\n",
      "         13, 118], device='cuda:3') torch.Size([16])\n",
      "08/29/2023, 01:32:13# predicted of Validation: tensor([ 61,  45,  77,  77,  77,  28,  77,  77, 117,  28,  45,  28,  27,  77,\n",
      "         13, 118], device='cuda:3') torch.Size([16])\n",
      "08/29/2023, 01:32:15# Validation Loss: 3.2464 | Validation Accuracy: 0.3633\n",
      "\n",
      "08/29/2023, 01:32:15# Find a better model!!\n"
     ]
    },
    {
     "data": {
      "application/vnd.jupyter.widget-view+json": {
       "model_id": "576933a756f54354b50d13fc0bce153d",
       "version_major": 2,
       "version_minor": 0
      },
      "text/plain": [
       "Training:   0%|          | 0/8250 [00:00<?, ?it/s]"
      ]
     },
     "metadata": {},
     "output_type": "display_data"
    },
    {
     "name": "stdout",
     "output_type": "stream",
     "text": [
      "08/29/2023, 01:36:40# labels of 5000: tensor([ 37, 120,  12,  10,  98, 147, 119, 129,  57,  17,  85, 111, 103, 143,\n",
      "        124,  53], device='cuda:3') torch.Size([16])\n",
      "08/29/2023, 01:36:40# predicted of 5000: tensor([161, 120,   6,   8,   8, 147,   8, 132, 112,  17,  85,   8, 132, 112,\n",
      "         10,  59], device='cuda:3') torch.Size([16])\n",
      "08/29/2023, 01:39:25# total batches: 8250\n",
      "08/29/2023, 01:39:25# Epoch 2 | Train Loss: 3.1094 | Train Accuracy: 0.3599\n"
     ]
    },
    {
     "data": {
      "application/vnd.jupyter.widget-view+json": {
       "model_id": "b4d041dc39e947639d882d186608e301",
       "version_major": 2,
       "version_minor": 0
      },
      "text/plain": [
       "Validation:   0%|          | 0/1032 [00:00<?, ?it/s]"
      ]
     },
     "metadata": {},
     "output_type": "display_data"
    },
    {
     "name": "stdout",
     "output_type": "stream",
     "text": [
      "08/29/2023, 01:39:25# labels of Validation: tensor([ 67,  80,  97,  36, 102,   3, 140, 107, 151, 113,  71, 139, 129,  72,\n",
      "         41,  41], device='cuda:3') torch.Size([16])\n",
      "08/29/2023, 01:39:25# predicted of Validation: tensor([ 78,  80, 101, 101, 101,   3, 140,   6, 101,   6, 101, 101,   6,  50,\n",
      "        101, 101], device='cuda:3') torch.Size([16])\n",
      "08/29/2023, 01:39:25# labels of 0: tensor([ 67,  80,  97,  36, 102,   3, 140, 107, 151, 113,  71, 139, 129,  72,\n",
      "         41,  41], device='cuda:3') torch.Size([16])\n",
      "08/29/2023, 01:39:25# predicted of 0: tensor([ 78,  80, 101, 101, 101,   3, 140,   6, 101,   6, 101, 101,   6,  50,\n",
      "        101, 101], device='cuda:3') torch.Size([16])\n",
      "08/29/2023, 01:40:06# labels of Validation: tensor([130,  42,  37, 137,  70,  83,  57, 165,  42,  41,  92, 117, 124,  37,\n",
      "         46,  20], device='cuda:3') torch.Size([16])\n",
      "08/29/2023, 01:40:06# predicted of Validation: tensor([130, 101,   6, 101,  70, 101, 101, 165, 101, 101, 101, 117, 101,   6,\n",
      "        101, 101], device='cuda:3') torch.Size([16])\n",
      "08/29/2023, 01:40:07# Validation Loss: 2.9586 | Validation Accuracy: 0.3661\n",
      "\n",
      "08/29/2023, 01:40:07# Find a better model!!\n"
     ]
    },
    {
     "data": {
      "application/vnd.jupyter.widget-view+json": {
       "model_id": "e0c7583152794eceb155cbc85124ec79",
       "version_major": 2,
       "version_minor": 0
      },
      "text/plain": [
       "Training:   0%|          | 0/8250 [00:00<?, ?it/s]"
      ]
     },
     "metadata": {},
     "output_type": "display_data"
    },
    {
     "name": "stdout",
     "output_type": "stream",
     "text": [
      "08/29/2023, 01:44:00# labels of 5000: tensor([ 37,   2,  86, 137,  30,  95,  31, 133, 146, 106, 157, 132, 128, 146,\n",
      "        164,  93], device='cuda:3') torch.Size([16])\n",
      "08/29/2023, 01:44:00# predicted of 5000: tensor([ 51,  51,  49,   8,  24,  95,  51,  51, 146, 106,  37, 132, 128, 146,\n",
      "         37,  37], device='cuda:3') torch.Size([16])\n",
      "08/29/2023, 01:46:21# total batches: 8250\n",
      "08/29/2023, 01:46:21# Epoch 3 | Train Loss: 2.9277 | Train Accuracy: 0.3686\n"
     ]
    },
    {
     "data": {
      "application/vnd.jupyter.widget-view+json": {
       "model_id": "f2faf218da8b4bbda338018a4c38b536",
       "version_major": 2,
       "version_minor": 0
      },
      "text/plain": [
       "Validation:   0%|          | 0/1032 [00:00<?, ?it/s]"
      ]
     },
     "metadata": {},
     "output_type": "display_data"
    },
    {
     "name": "stdout",
     "output_type": "stream",
     "text": [
      "08/29/2023, 01:46:21# labels of Validation: tensor([102, 114,   1,  16, 126, 103, 104,  63, 142,  95, 148,  62,  75, 100,\n",
      "         44,  36], device='cuda:3') torch.Size([16])\n",
      "08/29/2023, 01:46:21# predicted of Validation: tensor([ 81, 132,  81,  16, 126, 132,  81,  81,  81,  95, 132,  62,  81, 132,\n",
      "         81,  81], device='cuda:3') torch.Size([16])\n",
      "08/29/2023, 01:46:21# labels of 0: tensor([102, 114,   1,  16, 126, 103, 104,  63, 142,  95, 148,  62,  75, 100,\n",
      "         44,  36], device='cuda:3') torch.Size([16])\n",
      "08/29/2023, 01:46:21# predicted of 0: tensor([ 81, 132,  81,  16, 126, 132,  81,  81,  81,  95, 132,  62,  81, 132,\n",
      "         81,  81], device='cuda:3') torch.Size([16])\n",
      "08/29/2023, 01:46:56# labels of Validation: tensor([107, 118,  74,  54,  93, 122, 121,  34, 150, 117, 134,  12,   6,   1,\n",
      "         73, 112], device='cuda:3') torch.Size([16])\n",
      "08/29/2023, 01:46:56# predicted of Validation: tensor([132, 118,  81,  81, 132, 122,  81,  81,  81, 117, 134,  81, 132,  81,\n",
      "         73,  81], device='cuda:3') torch.Size([16])\n",
      "08/29/2023, 01:46:58# Validation Loss: 2.8606 | Validation Accuracy: 0.3752\n",
      "\n",
      "08/29/2023, 01:46:58# Find a better model!!\n"
     ]
    },
    {
     "data": {
      "application/vnd.jupyter.widget-view+json": {
       "model_id": "1fe0ec15ca1b487d8785c9220f8c2804",
       "version_major": 2,
       "version_minor": 0
      },
      "text/plain": [
       "Training:   0%|          | 0/8250 [00:00<?, ?it/s]"
      ]
     },
     "metadata": {},
     "output_type": "display_data"
    },
    {
     "name": "stdout",
     "output_type": "stream",
     "text": [
      "08/29/2023, 01:50:37# labels of 5000: tensor([116, 163,  71,  40, 142, 101,  77, 116, 157,  95,  41,  38, 152, 110,\n",
      "         23, 100], device='cuda:3') torch.Size([16])\n",
      "08/29/2023, 01:50:37# predicted of 5000: tensor([ 97,  54, 129,  40,  37, 132, 132,  37,  37,  95,  11,  37, 129,  51,\n",
      "         23,  51], device='cuda:3') torch.Size([16])\n",
      "08/29/2023, 01:52:59# total batches: 8250\n",
      "08/29/2023, 01:52:59# Epoch 4 | Train Loss: 2.8587 | Train Accuracy: 0.3728\n"
     ]
    },
    {
     "data": {
      "application/vnd.jupyter.widget-view+json": {
       "model_id": "3eadff19d38e491ba730bbda17363e74",
       "version_major": 2,
       "version_minor": 0
      },
      "text/plain": [
       "Validation:   0%|          | 0/1032 [00:00<?, ?it/s]"
      ]
     },
     "metadata": {},
     "output_type": "display_data"
    },
    {
     "name": "stdout",
     "output_type": "stream",
     "text": [
      "08/29/2023, 01:52:59# labels of Validation: tensor([  2, 132, 107, 111, 136,  45,   1, 108, 125, 165,  73,  49, 105,  45,\n",
      "        126, 108], device='cuda:3') torch.Size([16])\n",
      "08/29/2023, 01:52:59# predicted of Validation: tensor([ 37, 161, 155,  37, 136,  45,  37, 161,  37, 165,  73,  37, 105,  45,\n",
      "        126, 161], device='cuda:3') torch.Size([16])\n",
      "08/29/2023, 01:52:59# labels of 0: tensor([  2, 132, 107, 111, 136,  45,   1, 108, 125, 165,  73,  49, 105,  45,\n",
      "        126, 108], device='cuda:3') torch.Size([16])\n",
      "08/29/2023, 01:52:59# predicted of 0: tensor([ 37, 161, 155,  37, 136,  45,  37, 161,  37, 165,  73,  37, 105,  45,\n",
      "        126, 161], device='cuda:3') torch.Size([16])\n",
      "08/29/2023, 01:53:38# labels of Validation: tensor([160,   0, 115,  73, 113,  20,  30, 140,   2,  98, 161, 158,  21, 141,\n",
      "        127, 118], device='cuda:3') torch.Size([16])\n",
      "08/29/2023, 01:53:38# predicted of Validation: tensor([155,   0, 115,  73, 155,  37,  37, 140,  37,  37, 161,  37, 161, 155,\n",
      "        127, 118], device='cuda:3') torch.Size([16])\n",
      "08/29/2023, 01:53:39# Validation Loss: 2.8236 | Validation Accuracy: 0.3715\n",
      "\n",
      "08/29/2023, 01:53:39# Find a better model!!\n"
     ]
    },
    {
     "data": {
      "application/vnd.jupyter.widget-view+json": {
       "model_id": "ca568a2a17784b2598c8e4d8faa47d5e",
       "version_major": 2,
       "version_minor": 0
      },
      "text/plain": [
       "Training:   0%|          | 0/8250 [00:00<?, ?it/s]"
      ]
     },
     "metadata": {},
     "output_type": "display_data"
    },
    {
     "name": "stdout",
     "output_type": "stream",
     "text": [
      "08/29/2023, 01:57:24# labels of 5000: tensor([ 43, 158,  74,   4,  66, 115,  81,  63,  16,  48,  24,  78,  54,  85,\n",
      "        104, 126], device='cuda:3') torch.Size([16])\n",
      "08/29/2023, 01:57:24# predicted of 5000: tensor([ 98,  31,  12, 162,  21, 115, 141,  53,  16,  53,  98,  78,  53,  85,\n",
      "         53, 126], device='cuda:3') torch.Size([16])\n",
      "08/29/2023, 01:59:49# total batches: 8250\n",
      "08/29/2023, 01:59:49# Epoch 5 | Train Loss: 2.8274 | Train Accuracy: 0.3745\n"
     ]
    },
    {
     "data": {
      "application/vnd.jupyter.widget-view+json": {
       "model_id": "6648a7b1b24d40d18a15516d9c46a9d9",
       "version_major": 2,
       "version_minor": 0
      },
      "text/plain": [
       "Validation:   0%|          | 0/1032 [00:00<?, ?it/s]"
      ]
     },
     "metadata": {},
     "output_type": "display_data"
    },
    {
     "name": "stdout",
     "output_type": "stream",
     "text": [
      "08/29/2023, 01:59:49# labels of Validation: tensor([ 52, 159, 137,  77,  11,  84,  81, 110,   8,  74,  86, 115, 127, 112,\n",
      "         25,   1], device='cuda:3') torch.Size([16])\n",
      "08/29/2023, 01:59:49# predicted of Validation: tensor([ 52, 159, 125,  28, 125,  84, 125,  28,  28, 125, 125, 115, 127, 125,\n",
      "         25, 125], device='cuda:3') torch.Size([16])\n",
      "08/29/2023, 01:59:49# labels of 0: tensor([ 52, 159, 137,  77,  11,  84,  81, 110,   8,  74,  86, 115, 127, 112,\n",
      "         25,   1], device='cuda:3') torch.Size([16])\n",
      "08/29/2023, 01:59:49# predicted of 0: tensor([ 52, 159, 125,  28, 125,  84, 125,  28,  28, 125, 125, 115, 127, 125,\n",
      "         25, 125], device='cuda:3') torch.Size([16])\n",
      "08/29/2023, 02:00:25# labels of Validation: tensor([161, 138, 106, 119, 137,   8,  49, 150, 102,  49, 124,  41,  73,  84,\n",
      "         42,  96], device='cuda:3') torch.Size([16])\n",
      "08/29/2023, 02:00:25# predicted of Validation: tensor([ 28, 138, 106, 125, 125,  28, 125, 125, 125, 125, 125, 125,  73,  84,\n",
      "        125,  96], device='cuda:3') torch.Size([16])\n",
      "08/29/2023, 02:00:27# Validation Loss: 2.8030 | Validation Accuracy: 0.3790\n",
      "\n",
      "08/29/2023, 02:00:27# Find a better model!!\n"
     ]
    },
    {
     "data": {
      "application/vnd.jupyter.widget-view+json": {
       "model_id": "1630c8caaf5a4bcb88feb73f938a7b40",
       "version_major": 2,
       "version_minor": 0
      },
      "text/plain": [
       "Training:   0%|          | 0/8250 [00:00<?, ?it/s]"
      ]
     },
     "metadata": {},
     "output_type": "display_data"
    },
    {
     "name": "stdout",
     "output_type": "stream",
     "text": [
      "08/29/2023, 02:04:06# labels of 5000: tensor([103, 129, 128, 165, 109, 166,  75,   6,  84,  17, 154, 115,  84, 122,\n",
      "        151,  58], device='cuda:3') torch.Size([16])\n",
      "08/29/2023, 02:04:06# predicted of 5000: tensor([  6,   6, 128, 165,   2,   6,  34,   6,  84,  17, 154, 115,  84, 122,\n",
      "          2,  34], device='cuda:3') torch.Size([16])\n",
      "08/29/2023, 02:06:31# total batches: 8250\n",
      "08/29/2023, 02:06:31# Epoch 6 | Train Loss: 2.8086 | Train Accuracy: 0.3766\n"
     ]
    },
    {
     "data": {
      "application/vnd.jupyter.widget-view+json": {
       "model_id": "46368e86ed7e4958a8161e6b26845c13",
       "version_major": 2,
       "version_minor": 0
      },
      "text/plain": [
       "Validation:   0%|          | 0/1032 [00:00<?, ?it/s]"
      ]
     },
     "metadata": {},
     "output_type": "display_data"
    },
    {
     "name": "stdout",
     "output_type": "stream",
     "text": [
      "08/29/2023, 02:06:31# labels of Validation: tensor([156, 111,  35,  16,  68,  85,  51,   2,   5,  61, 102,  27,  13,  96,\n",
      "         61,  74], device='cuda:3') torch.Size([16])\n",
      "08/29/2023, 02:06:31# predicted of Validation: tensor([156,  14,  35,  16, 108,  85, 132,  14,   5,  61,  14,  27,  13,  96,\n",
      "         61,  14], device='cuda:3') torch.Size([16])\n",
      "08/29/2023, 02:06:31# labels of 0: tensor([156, 111,  35,  16,  68,  85,  51,   2,   5,  61, 102,  27,  13,  96,\n",
      "         61,  74], device='cuda:3') torch.Size([16])\n",
      "08/29/2023, 02:06:31# predicted of 0: tensor([156,  14,  35,  16, 108,  85, 132,  14,   5,  61,  14,  27,  13,  96,\n",
      "         61,  14], device='cuda:3') torch.Size([16])\n",
      "08/29/2023, 02:07:09# labels of Validation: tensor([ 41,  61,  11,  76,  43, 113,   5, 100,  83, 150,  84,  53,  16, 102,\n",
      "         59,  92], device='cuda:3') torch.Size([16])\n",
      "08/29/2023, 02:07:09# predicted of Validation: tensor([ 14,  61,  14,  14,  14, 108,   5, 108,  14,  14,  84,  14,  16,  14,\n",
      "        132,  14], device='cuda:3') torch.Size([16])\n",
      "08/29/2023, 02:07:11# Validation Loss: 2.7888 | Validation Accuracy: 0.3782\n",
      "\n",
      "08/29/2023, 02:07:11# Find a better model!!\n"
     ]
    },
    {
     "data": {
      "application/vnd.jupyter.widget-view+json": {
       "model_id": "4115799e9f8f47859f82c8aef594b35c",
       "version_major": 2,
       "version_minor": 0
      },
      "text/plain": [
       "Training:   0%|          | 0/8250 [00:00<?, ?it/s]"
      ]
     },
     "metadata": {},
     "output_type": "display_data"
    },
    {
     "name": "stdout",
     "output_type": "stream",
     "text": [
      "08/29/2023, 02:10:43# labels of 5000: tensor([ 11,  26,  33,  57, 156, 113,  47,  78, 165,  89, 142,  21,  26,  77,\n",
      "         86,  41], device='cuda:3') torch.Size([16])\n",
      "08/29/2023, 02:10:43# predicted of 5000: tensor([ 54, 103,  54, 103, 156, 103, 148,  67, 165,  89, 137, 161, 164, 132,\n",
      "        112, 135], device='cuda:3') torch.Size([16])\n",
      "08/29/2023, 02:13:00# total batches: 8250\n",
      "08/29/2023, 02:13:00# Epoch 7 | Train Loss: 2.7933 | Train Accuracy: 0.3775\n"
     ]
    },
    {
     "data": {
      "application/vnd.jupyter.widget-view+json": {
       "model_id": "8f5c8380df034529b64d5a60bc06d75c",
       "version_major": 2,
       "version_minor": 0
      },
      "text/plain": [
       "Validation:   0%|          | 0/1032 [00:00<?, ?it/s]"
      ]
     },
     "metadata": {},
     "output_type": "display_data"
    },
    {
     "name": "stdout",
     "output_type": "stream",
     "text": [
      "08/29/2023, 02:13:01# labels of Validation: tensor([ 84, 122, 166, 109,  31,  87, 135, 162, 143,   5, 119, 163,  77,  14,\n",
      "         89,  46], device='cuda:3') torch.Size([16])\n",
      "08/29/2023, 02:13:01# predicted of Validation: tensor([ 84, 122, 161,  83,  83,  83,  83,  83,  83,   5,  83,  83, 161,  83,\n",
      "         89,  83], device='cuda:3') torch.Size([16])\n",
      "08/29/2023, 02:13:01# labels of 0: tensor([ 84, 122, 166, 109,  31,  87, 135, 162, 143,   5, 119, 163,  77,  14,\n",
      "         89,  46], device='cuda:3') torch.Size([16])\n",
      "08/29/2023, 02:13:01# predicted of 0: tensor([ 84, 122, 161,  83,  83,  83,  83,  83,  83,   5,  83,  83, 161,  83,\n",
      "         89,  83], device='cuda:3') torch.Size([16])\n",
      "08/29/2023, 02:13:30# labels of Validation: tensor([ 81, 159,  35,  77,  53, 102,  16, 110,  89, 143, 163, 166, 121,  87,\n",
      "        125, 160], device='cuda:3') torch.Size([16])\n",
      "08/29/2023, 02:13:30# predicted of Validation: tensor([ 83, 159,  35, 161,  83,  83,  16, 161,  89,  83,  83, 161,  83,  83,\n",
      "         83, 161], device='cuda:3') torch.Size([16])\n",
      "08/29/2023, 02:13:31# Validation Loss: 2.7750 | Validation Accuracy: 0.3792\n",
      "\n",
      "08/29/2023, 02:13:31# Find a better model!!\n"
     ]
    },
    {
     "data": {
      "application/vnd.jupyter.widget-view+json": {
       "model_id": "c66e93f1349a4512b7f03af8cdaadaf2",
       "version_major": 2,
       "version_minor": 0
      },
      "text/plain": [
       "Training:   0%|          | 0/8250 [00:00<?, ?it/s]"
      ]
     },
     "metadata": {},
     "output_type": "display_data"
    },
    {
     "name": "stdout",
     "output_type": "stream",
     "text": [
      "08/29/2023, 02:16:57# labels of 5000: tensor([ 75, 120,  25, 121,  99,  75, 131, 121,  29,  16,  53, 130,  53,  62,\n",
      "         32,  27], device='cuda:3') torch.Size([16])\n",
      "08/29/2023, 02:16:57# predicted of 5000: tensor([107, 120,  25,  71,  99, 107, 132, 116,  29,  16, 103, 130,  24,  62,\n",
      "         32,  27], device='cuda:3') torch.Size([16])\n",
      "08/29/2023, 02:19:12# total batches: 8250\n",
      "08/29/2023, 02:19:12# Epoch 8 | Train Loss: 2.7822 | Train Accuracy: 0.3785\n"
     ]
    },
    {
     "data": {
      "application/vnd.jupyter.widget-view+json": {
       "model_id": "4d7244c79e274134b40e86641af80f58",
       "version_major": 2,
       "version_minor": 0
      },
      "text/plain": [
       "Validation:   0%|          | 0/1032 [00:00<?, ?it/s]"
      ]
     },
     "metadata": {},
     "output_type": "display_data"
    },
    {
     "name": "stdout",
     "output_type": "stream",
     "text": [
      "08/29/2023, 02:19:12# labels of Validation: tensor([  8, 119,  29, 106,   4,  92,  96,  91, 100, 147,  47, 166,  47, 126,\n",
      "          7,  67], device='cuda:3') torch.Size([16])\n",
      "08/29/2023, 02:19:12# predicted of Validation: tensor([  6,  49,  29, 106,  49,  49,  96, 132,   6, 147,  49, 132,  49, 126,\n",
      "          7,  67], device='cuda:3') torch.Size([16])\n",
      "08/29/2023, 02:19:12# labels of 0: tensor([  8, 119,  29, 106,   4,  92,  96,  91, 100, 147,  47, 166,  47, 126,\n",
      "          7,  67], device='cuda:3') torch.Size([16])\n",
      "08/29/2023, 02:19:12# predicted of 0: tensor([  6,  49,  29, 106,  49,  49,  96, 132,   6, 147,  49, 132,  49, 126,\n",
      "          7,  67], device='cuda:3') torch.Size([16])\n",
      "08/29/2023, 02:19:39# labels of Validation: tensor([129,  12,  32,  96,  75,  32, 129, 107,  79, 129,  21,  38,  47,  82,\n",
      "         12, 134], device='cuda:3') torch.Size([16])\n",
      "08/29/2023, 02:19:39# predicted of Validation: tensor([  6,  49,  32,  96,  49,  32,   6,   6,  79,   6, 132,  49,  49,  82,\n",
      "         49, 134], device='cuda:3') torch.Size([16])\n",
      "08/29/2023, 02:19:40# Validation Loss: 2.7640 | Validation Accuracy: 0.3790\n",
      "\n",
      "08/29/2023, 02:19:40# Find a better model!!\n"
     ]
    },
    {
     "data": {
      "application/vnd.jupyter.widget-view+json": {
       "model_id": "dcf456c341cd410da7a215e3e926a50f",
       "version_major": 2,
       "version_minor": 0
      },
      "text/plain": [
       "Training:   0%|          | 0/8250 [00:00<?, ?it/s]"
      ]
     },
     "metadata": {},
     "output_type": "display_data"
    },
    {
     "name": "stdout",
     "output_type": "stream",
     "text": [
      "08/29/2023, 02:23:03# labels of 5000: tensor([ 26, 166, 153,  48,  14,  26,  15,  57,  52,  69,  12, 137,  75,  74,\n",
      "        111, 153], device='cuda:3') torch.Size([16])\n",
      "08/29/2023, 02:23:03# predicted of 5000: tensor([ 10, 132,  10, 107, 141, 112,  15,  11,  52,  69, 112, 112, 137, 112,\n",
      "         63,  10], device='cuda:3') torch.Size([16])\n",
      "08/29/2023, 02:25:19# total batches: 8250\n",
      "08/29/2023, 02:25:19# Epoch 9 | Train Loss: 2.7722 | Train Accuracy: 0.3792\n"
     ]
    },
    {
     "data": {
      "application/vnd.jupyter.widget-view+json": {
       "model_id": "badb22fa16704e4a9adda8e6c75a0b75",
       "version_major": 2,
       "version_minor": 0
      },
      "text/plain": [
       "Validation:   0%|          | 0/1032 [00:00<?, ?it/s]"
      ]
     },
     "metadata": {},
     "output_type": "display_data"
    },
    {
     "name": "stdout",
     "output_type": "stream",
     "text": [
      "08/29/2023, 02:25:19# labels of Validation: tensor([ 12,  46, 153, 154, 112,  66,  20, 144, 125,  58, 102, 132,  17, 102,\n",
      "        131, 164], device='cuda:3') torch.Size([16])\n",
      "08/29/2023, 02:25:19# predicted of Validation: tensor([  2,   2,   2, 154,   2,  28,   2,   2,   2,   2,   2, 132,  17,   2,\n",
      "         28,   2], device='cuda:3') torch.Size([16])\n",
      "08/29/2023, 02:25:19# labels of 0: tensor([ 12,  46, 153, 154, 112,  66,  20, 144, 125,  58, 102, 132,  17, 102,\n",
      "        131, 164], device='cuda:3') torch.Size([16])\n",
      "08/29/2023, 02:25:19# predicted of 0: tensor([  2,   2,   2, 154,   2,  28,   2,   2,   2,   2,   2, 132,  17,   2,\n",
      "         28,   2], device='cuda:3') torch.Size([16])\n",
      "08/29/2023, 02:25:47# labels of Validation: tensor([  9,   3,  89,  29, 108,  70, 103, 100, 108,  32,  61,  15,  34, 110,\n",
      "        126, 102], device='cuda:3') torch.Size([16])\n",
      "08/29/2023, 02:25:47# predicted of Validation: tensor([  2,   3,  89,  29,  28,  70,  28,  28,  28,  32,  61,  15,   2,  28,\n",
      "        126,   2], device='cuda:3') torch.Size([16])\n",
      "08/29/2023, 02:25:48# Validation Loss: 2.7556 | Validation Accuracy: 0.3800\n",
      "\n",
      "08/29/2023, 02:25:48# Find a better model!!\n"
     ]
    },
    {
     "data": {
      "application/vnd.jupyter.widget-view+json": {
       "model_id": "c102b111700e4a88b859761ce2a1bc28",
       "version_major": 2,
       "version_minor": 0
      },
      "text/plain": [
       "Training:   0%|          | 0/8250 [00:00<?, ?it/s]"
      ]
     },
     "metadata": {},
     "output_type": "display_data"
    },
    {
     "name": "stdout",
     "output_type": "stream",
     "text": [
      "08/29/2023, 02:29:13# labels of 5000: tensor([156,  68,  61,  75, 105,  56, 126,  66,  20,  87,   5,   0,  21,  35,\n",
      "         43, 163], device='cuda:3') torch.Size([16])\n",
      "08/29/2023, 02:29:13# predicted of 5000: tensor([156,   6,  61,  41, 105,  56, 126,   6, 152,  71,   5,   0,   6,  35,\n",
      "        107,  41], device='cuda:3') torch.Size([16])\n",
      "08/29/2023, 02:31:22# total batches: 8250\n",
      "08/29/2023, 02:31:22# Epoch 10 | Train Loss: 2.7640 | Train Accuracy: 0.3796\n"
     ]
    },
    {
     "data": {
      "application/vnd.jupyter.widget-view+json": {
       "model_id": "92d27f6475574d3b9146e14264359803",
       "version_major": 2,
       "version_minor": 0
      },
      "text/plain": [
       "Validation:   0%|          | 0/1032 [00:00<?, ?it/s]"
      ]
     },
     "metadata": {},
     "output_type": "display_data"
    },
    {
     "name": "stdout",
     "output_type": "stream",
     "text": [
      "08/29/2023, 02:31:22# labels of Validation: tensor([ 76,  64, 106,  82, 118, 154, 165,  11, 161, 126,   6, 161, 117,  40,\n",
      "          5, 153], device='cuda:3') torch.Size([16])\n",
      "08/29/2023, 02:31:22# predicted of Validation: tensor([ 74, 108, 106,  82, 118, 154, 165,  74, 132, 126, 132, 132, 117,  40,\n",
      "          5,  74], device='cuda:3') torch.Size([16])\n",
      "08/29/2023, 02:31:22# labels of 0: tensor([ 76,  64, 106,  82, 118, 154, 165,  11, 161, 126,   6, 161, 117,  40,\n",
      "          5, 153], device='cuda:3') torch.Size([16])\n",
      "08/29/2023, 02:31:22# predicted of 0: tensor([ 74, 108, 106,  82, 118, 154, 165,  74, 132, 126, 132, 132, 117,  40,\n",
      "          5,  74], device='cuda:3') torch.Size([16])\n",
      "08/29/2023, 02:31:46# labels of Validation: tensor([ 13, 157,  11,  79,  21, 166, 130,   0, 128,  25,  60, 158,  24,  16,\n",
      "         33,  70], device='cuda:3') torch.Size([16])\n",
      "08/29/2023, 02:31:46# predicted of Validation: tensor([ 13,  74,  74,  79, 132, 132, 130,   0, 128,  25,  74,  74,  74,  16,\n",
      "         74,  70], device='cuda:3') torch.Size([16])\n",
      "08/29/2023, 02:31:47# Validation Loss: 2.7495 | Validation Accuracy: 0.3800\n",
      "\n",
      "08/29/2023, 02:31:47# Find a better model!!\n"
     ]
    },
    {
     "data": {
      "application/vnd.jupyter.widget-view+json": {
       "model_id": "39d25cb46dfa49c9bd94ba6fb4b87141",
       "version_major": 2,
       "version_minor": 0
      },
      "text/plain": [
       "Training:   0%|          | 0/8250 [00:00<?, ?it/s]"
      ]
     },
     "metadata": {},
     "output_type": "display_data"
    },
    {
     "name": "stdout",
     "output_type": "stream",
     "text": [
      "08/29/2023, 02:35:00# labels of 5000: tensor([130, 139,  25,  74, 125,  46, 103,  68, 112, 165, 114,  69,  20, 106,\n",
      "        118,  38], device='cuda:3') torch.Size([16])\n",
      "08/29/2023, 02:35:00# predicted of 5000: tensor([130,  10,  25,  10,  54,  10,  43, 166,  54, 165,  66,  69,  10, 106,\n",
      "        118,  54], device='cuda:3') torch.Size([16])\n",
      "08/29/2023, 02:37:08# total batches: 8250\n",
      "08/29/2023, 02:37:08# Epoch 11 | Train Loss: 2.7567 | Train Accuracy: 0.3810\n"
     ]
    },
    {
     "data": {
      "application/vnd.jupyter.widget-view+json": {
       "model_id": "f67148e3cb85474db86b57ace268a0cc",
       "version_major": 2,
       "version_minor": 0
      },
      "text/plain": [
       "Validation:   0%|          | 0/1032 [00:00<?, ?it/s]"
      ]
     },
     "metadata": {},
     "output_type": "display_data"
    },
    {
     "name": "stdout",
     "output_type": "stream",
     "text": [
      "08/29/2023, 02:37:08# labels of Validation: tensor([148, 154,   6,  96, 157,  69,  23,  88,  72, 139,  85,  38, 102,   2,\n",
      "         12,  77], device='cuda:3') torch.Size([16])\n",
      "08/29/2023, 02:37:08# predicted of Validation: tensor([108, 154, 161,  96, 109,  69,  23, 108,  72, 109,  85, 109, 109, 109,\n",
      "        109, 108], device='cuda:3') torch.Size([16])\n",
      "08/29/2023, 02:37:08# labels of 0: tensor([148, 154,   6,  96, 157,  69,  23,  88,  72, 139,  85,  38, 102,   2,\n",
      "         12,  77], device='cuda:3') torch.Size([16])\n",
      "08/29/2023, 02:37:08# predicted of 0: tensor([108, 154, 161,  96, 109,  69,  23, 108,  72, 109,  85, 109, 109, 109,\n",
      "        109, 108], device='cuda:3') torch.Size([16])\n",
      "08/29/2023, 02:37:33# labels of Validation: tensor([108,   8, 148,  68, 146, 127,   0, 148, 123, 143, 150,  64, 131,  16,\n",
      "         63,  69], device='cuda:3') torch.Size([16])\n",
      "08/29/2023, 02:37:33# predicted of Validation: tensor([161, 108, 108, 108, 146, 127,   0, 108, 123, 109, 109, 108, 161,  16,\n",
      "        109,  69], device='cuda:3') torch.Size([16])\n",
      "08/29/2023, 02:37:34# Validation Loss: 2.7413 | Validation Accuracy: 0.3800\n",
      "\n",
      "08/29/2023, 02:37:34# Find a better model!!\n"
     ]
    },
    {
     "data": {
      "application/vnd.jupyter.widget-view+json": {
       "model_id": "f5909c5dec3348d3897bc6e7176839fb",
       "version_major": 2,
       "version_minor": 0
      },
      "text/plain": [
       "Training:   0%|          | 0/8250 [00:00<?, ?it/s]"
      ]
     },
     "metadata": {},
     "output_type": "display_data"
    },
    {
     "name": "stdout",
     "output_type": "stream",
     "text": [
      "08/29/2023, 02:40:49# labels of 5000: tensor([160,  10, 134, 124, 131, 130, 132, 133, 146, 151, 162,  30, 151, 105,\n",
      "        166,  72], device='cuda:3') torch.Size([16])\n",
      "08/29/2023, 02:40:49# predicted of 5000: tensor([  6,  19, 134,  12,   6, 130, 161,  77, 146,  19,  19,  19,  19, 105,\n",
      "          6,  72], device='cuda:3') torch.Size([16])\n",
      "08/29/2023, 02:43:00# total batches: 8250\n",
      "08/29/2023, 02:43:00# Epoch 12 | Train Loss: 2.7500 | Train Accuracy: 0.3816\n"
     ]
    },
    {
     "data": {
      "application/vnd.jupyter.widget-view+json": {
       "model_id": "bd21103abf4b4b70aa41aef0f12367db",
       "version_major": 2,
       "version_minor": 0
      },
      "text/plain": [
       "Validation:   0%|          | 0/1032 [00:00<?, ?it/s]"
      ]
     },
     "metadata": {},
     "output_type": "display_data"
    },
    {
     "name": "stdout",
     "output_type": "stream",
     "text": [
      "08/29/2023, 02:43:00# labels of Validation: tensor([ 46, 127,  34, 129,  79,  64, 158,  42,  57,  10, 119,  75,   6, 115,\n",
      "         47, 101], device='cuda:3') torch.Size([16])\n",
      "08/29/2023, 02:43:00# predicted of Validation: tensor([ 55, 127,  55, 108,  79, 108,  55,  55,  55,  55,  55,  55, 132, 115,\n",
      "         55, 132], device='cuda:3') torch.Size([16])\n",
      "08/29/2023, 02:43:00# labels of 0: tensor([ 46, 127,  34, 129,  79,  64, 158,  42,  57,  10, 119,  75,   6, 115,\n",
      "         47, 101], device='cuda:3') torch.Size([16])\n",
      "08/29/2023, 02:43:00# predicted of 0: tensor([ 55, 127,  55, 108,  79, 108,  55,  55,  55,  55,  55,  55, 132, 115,\n",
      "         55, 132], device='cuda:3') torch.Size([16])\n",
      "08/29/2023, 02:43:26# labels of Validation: tensor([142,  80, 155,  36, 164,  48,  38, 121,  25,  28,  41, 126,  12,  93,\n",
      "         88, 142], device='cuda:3') torch.Size([16])\n",
      "08/29/2023, 02:43:26# predicted of Validation: tensor([ 55,  80, 132,  55,  55,  55,  55,  55,  25, 132,  55, 126,  55, 108,\n",
      "        108,  55], device='cuda:3') torch.Size([16])\n",
      "08/29/2023, 02:43:27# Validation Loss: 2.7357 | Validation Accuracy: 0.3806\n",
      "\n",
      "08/29/2023, 02:43:27# Find a better model!!\n"
     ]
    },
    {
     "data": {
      "application/vnd.jupyter.widget-view+json": {
       "model_id": "28d030e547244e5191305d9985ca8087",
       "version_major": 2,
       "version_minor": 0
      },
      "text/plain": [
       "Training:   0%|          | 0/8250 [00:00<?, ?it/s]"
      ]
     },
     "metadata": {},
     "output_type": "display_data"
    }
   ],
   "source": [
    "import csv\n",
    "import pandas as pd\n",
    "from sklearn.metrics import classification_report\n",
    "from torch.optim import AdamW, lr_scheduler\n",
    "\n",
    "seed = 8787\n",
    "same_seeds(seed)\n",
    "\n",
    "model = GAT(in_dim=50, hidden_dim=16, out_dim=168, num_heads=8)\n",
    "# in_dim means the dimension of the node_feat(50 dim, since the 50-dim embedding)\n",
    "# out_dim means the # of the categories -> 168 for out tasks\n",
    "model.load_state_dict(torch.load('model1_initial/initial_weight.pth'))\n",
    "best_model_path = \"../checkpoint_GAT/best_model_GAT_transE_50.pt\"\n",
    "\n",
    "model = model.to(device)\n",
    "\n",
    "# optimizer = torch.optim.AdamW(model.parameters(), lr=1e-5)\n",
    "optimizer = AdamW(model.parameters(), lr=5e-4)\n",
    "# scheduler = get_linear_schedule_with_warmup(optimizer, num_warmup_steps=18, num_training_steps=total_steps)\n",
    "\n",
    "# T_max control the period of the lr changing -> set 1/10 first\n",
    "scheduler = lr_scheduler.CosineAnnealingLR(optimizer, T_max=36, eta_min=0, last_epoch=- 1, verbose=False)\n",
    "\n",
    "\n",
    "criterion = nn.CrossEntropyLoss()\n",
    "total_steps = 100\n",
    "\n",
    "# save the best model\n",
    "best_val_loss = float('inf')\n",
    "patience = 10  # Number of epochs with no improvement after which training will be stopped.\n",
    "waiting = 0  # The number of epochs with no improvement so far.\n",
    "\n",
    "\n",
    "# Training Part\n",
    "for epoch in tqdm(range(total_steps)):\n",
    "    # Train\n",
    "    model.train()\n",
    "    total_loss = 0.0\n",
    "    total_accuracy = 0.0\n",
    "    num_batches = 0\n",
    "    \n",
    "    for data in tqdm(dataloaders['train'], desc=\"Training\", position=0, leave=True):\n",
    "        num_batches += 1\n",
    "        loss, accuracy, _ = model_fn(data, model, criterion, device, num_batches, which_type='train')\n",
    "        \n",
    "        optimizer.zero_grad()\n",
    "        loss.backward()\n",
    "        optimizer.step()\n",
    "\n",
    "        total_loss += loss.item()\n",
    "        total_accuracy += accuracy.item()\n",
    "\n",
    "        \n",
    "#     scheduler.step()\n",
    "    add_log_msg(f\"total batches: {num_batches}\")\n",
    "\n",
    "    avg_loss = total_loss / num_batches\n",
    "    avg_accuracy = total_accuracy / num_batches\n",
    "\n",
    "    add_log_msg(f'Epoch {epoch} | Train Loss: {avg_loss:.4f} | Train Accuracy: {avg_accuracy:.4f}')\n",
    "\n",
    "    \n",
    "    # Validation Part\n",
    "    model.eval()\n",
    "    total_accuracy = 0.0\n",
    "    total_loss = 0.0\n",
    "    num_batches = 0\n",
    "\n",
    "\n",
    "    with torch.no_grad():\n",
    "        for data in tqdm(dataloaders['valid'], desc=\"Validation\", position=0, leave=True):\n",
    "            loss, accuracy, _ = model_fn(data, model, criterion, device, num_batches, which_type='validation')\n",
    "            total_accuracy += accuracy.item()\n",
    "            total_loss += loss.item()\n",
    "            num_batches += 1\n",
    "\n",
    "    avg_accuracy = total_accuracy / num_batches\n",
    "    current_loss = total_loss / num_batches\n",
    "    \n",
    "    add_log_msg(f'Validation Loss: {current_loss:.4f} | Validation Accuracy: {avg_accuracy:.4f}\\n')\n",
    "    \n",
    "            \n",
    "    if current_loss < best_val_loss:\n",
    "        best_val_loss = current_loss\n",
    "        waiting = 0\n",
    "        \n",
    "        if os.path.exists(best_model_path):\n",
    "            os.remove(best_model_path)\n",
    "            add_log_msg(\"Find a better model!!\")\n",
    "\n",
    "        torch.save(model.state_dict(), best_model_path)\n",
    "\n",
    "        \n",
    "#         print(best_model_path)\n",
    "\n",
    "    else:\n",
    "        waiting += 1\n",
    "        if waiting >= patience:\n",
    "            add_log_msg(\"============================== Early stopping ==================================\")\n",
    "            break"
   ]
  },
  {
   "cell_type": "markdown",
   "metadata": {},
   "source": [
    "### Testing Part"
   ]
  },
  {
   "cell_type": "code",
   "execution_count": null,
   "metadata": {},
   "outputs": [],
   "source": [
    "# load the pretrained model\n",
    "pretrained_model_path = '../checkpoint_GAT/best_model_GAT_transE_50.pt'\n",
    "model.load_state_dict(torch.load(pretrained_model_path))\n",
    "\n",
    "model.to(device)\n",
    "model.eval()\n",
    "\n",
    "total = 0\n",
    "correct = 0\n",
    "count = 0\n",
    "\n",
    "true_labels = []\n",
    "predicted_labels = []\n",
    "\n",
    "with torch.no_grad():\n",
    "    for data in tqdm(dataloaders['test'], desc=\"Testing\", position=0, leave=True):\n",
    "\n",
    "        loss, accuracy, predicted = model_fn(data, model, criterion, device, count, which_type='test')\n",
    "        labels = data[1].to(device)\n",
    "        \n",
    "        true_labels.extend(labels.cpu().numpy())\n",
    "        predicted_labels.extend(predicted.cpu().numpy())\n",
    "        \n",
    "        if count % 5000 == 0:\n",
    "            add_log_msg(f\"labels: {labels} {labels.shape}\")\n",
    "            add_log_msg(f\"predicted: {predicted} {predicted.shape}\")\n",
    "            \n",
    "        count += 1\n",
    "        \n",
    "        total += labels.size(0)\n",
    "        correct += (predicted == labels).sum().item()\n",
    "\n",
    "add_log_msg(f'Test Accuracy: {100 * correct / total} %\\n\\n\\n')\n",
    "\n",
    "\n",
    "# ======================================== handlig the output excel files ========================================\n",
    "mapping_file = './new_mapping.txt'\n",
    "label_mapping = {}\n",
    "with open(mapping_file, 'r') as f:\n",
    "    for line in f:\n",
    "        parts = line.strip().split(': ')\n",
    "        label_mapping[int(parts[1])] = parts[0]\n",
    "        \n",
    "# 将映射后的标签应用到true和predicted标签列表\n",
    "mapped_true_labels = [label_mapping[label] for label in true_labels]\n",
    "mapped_predicted_labels = [label_mapping[label] for label in predicted_labels]\n",
    "\n",
    "# 生成Scikit-learn报告信息的DataFrame\n",
    "report_data = classification_report(mapped_true_labels, mapped_predicted_labels, output_dict=True)\n",
    "report_df = pd.DataFrame(report_data).transpose()\n",
    "\n",
    "report_folder = 'classification_report'\n",
    "os.makedirs(report_folder, exist_ok=True)\n",
    "\n",
    "count = 0\n",
    "while True:\n",
    "    report_filename = f'classification_report-{count}.xlsx'\n",
    "    labels_filename = f'mapped_true_predicted_labels-{count}.xlsx'\n",
    "    \n",
    "    report_path = os.path.join(report_folder, report_filename)\n",
    "    labels_path = os.path.join(report_folder, labels_filename)\n",
    "    \n",
    "    if not os.path.exists(report_path) and not os.path.exists(labels_path):\n",
    "        break\n",
    "    count += 1\n",
    "\n",
    "    \n",
    "report_df.to_excel(report_path, index_label='Label')\n",
    "\n",
    "mapped_labels_df = pd.DataFrame({'true_label': mapped_true_labels, 'predicted_label': mapped_predicted_labels})\n",
    "mapped_labels_df.to_excel(labels_path, index=False)\n",
    "\n",
    "add_log_msg(f\"report path: {report_path}\")\n",
    "add_log_msg(f\"label path: {labels_path}\")\n",
    "\n",
    "mapped_report = classification_report(mapped_true_labels, mapped_predicted_labels)\n",
    "add_log_msg(f\"mapped_report:\\n{mapped_report}\")"
   ]
  },
  {
   "cell_type": "code",
   "execution_count": null,
   "metadata": {},
   "outputs": [],
   "source": []
  },
  {
   "cell_type": "code",
   "execution_count": null,
   "metadata": {},
   "outputs": [],
   "source": []
  }
 ],
 "metadata": {
  "kernelspec": {
   "display_name": "Python 3",
   "language": "python",
   "name": "python3"
  },
  "language_info": {
   "codemirror_mode": {
    "name": "ipython",
    "version": 3
   },
   "file_extension": ".py",
   "mimetype": "text/x-python",
   "name": "python",
   "nbconvert_exporter": "python",
   "pygments_lexer": "ipython3",
   "version": "3.6.9"
  }
 },
 "nbformat": 4,
 "nbformat_minor": 2
}
