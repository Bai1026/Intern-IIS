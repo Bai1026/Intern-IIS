{
 "cells": [
  {
   "cell_type": "markdown",
   "metadata": {},
   "source": [
    "# Test of GAT\n",
    "- use DGL\n",
    "- predict `graphs`\n",
    "- test: 0~99\n",
    "- validation: 100~199\n",
    "- train: 200~999\n",
    "- larger lr with scheduler\n",
    "- try the sklearn report"
   ]
  },
  {
   "cell_type": "code",
   "execution_count": 1,
   "metadata": {},
   "outputs": [],
   "source": [
    "import os\n",
    "import dgl\n",
    "import json\n",
    "import torch\n",
    "import torch as th\n",
    "# from tqdm import tqdm\n",
    "from tqdm.notebook import tqdm  # 使用 notebook 版本的 tqdm\n",
    "import torch.nn as nn\n",
    "from dgl.nn import GraphConv, GATConv\n",
    "import torch.nn.functional as F\n",
    "from torch.utils.data import Dataset, DataLoader\n",
    "from transformers import get_linear_schedule_with_warmup\n",
    "from torch.optim import AdamW\n",
    "from sklearn.metrics import classification_report\n"
   ]
  },
  {
   "cell_type": "markdown",
   "metadata": {},
   "source": [
    "- check the GPU and assign the GPU by the best memory usage"
   ]
  },
  {
   "cell_type": "code",
   "execution_count": 2,
   "metadata": {},
   "outputs": [
    {
     "name": "stdout",
     "output_type": "stream",
     "text": [
      "cuda:0\n"
     ]
    }
   ],
   "source": [
    "import subprocess\n",
    "import torch\n",
    "\n",
    "def get_free_gpu():\n",
    "    try:\n",
    "        # Run nvidia-smi command to get GPU details\n",
    "        _output_to_list = lambda x: x.decode('ascii').split('\\n')[:-1]\n",
    "        command = \"nvidia-smi --query-gpu=memory.free --format=csv,nounits,noheader\"\n",
    "        memory_free_info = _output_to_list(subprocess.check_output(command.split())) \n",
    "        memory_free_values = [int(x) for i, x in enumerate(memory_free_info)]\n",
    "        \n",
    "        # Get the GPU with the maximum free memory\n",
    "        best_gpu_id = memory_free_values.index(max(memory_free_values))\n",
    "        return best_gpu_id\n",
    "    except:\n",
    "        # If any exception occurs, default to GPU 0 (this handles cases where nvidia-smi isn't installed)\n",
    "        return 0\n",
    "\n",
    "if torch.cuda.is_available():\n",
    "    # Get the best GPU ID based on free memory and set it\n",
    "    best_gpu_id = get_free_gpu()\n",
    "    device = torch.device(f\"cuda:{best_gpu_id}\")\n",
    "else:\n",
    "    device = torch.device(\"cpu\")\n",
    "    print(\"there's no available GPU\")\n",
    "\n",
    "# device = torch.device(f\"cuda:1\")\n",
    "print(device)\n"
   ]
  },
  {
   "cell_type": "markdown",
   "metadata": {},
   "source": [
    "## Fix the seed"
   ]
  },
  {
   "cell_type": "code",
   "execution_count": 3,
   "metadata": {},
   "outputs": [],
   "source": [
    "import numpy as np\n",
    "import torch\n",
    "import random\n",
    "\n",
    "#fix seed\n",
    "def same_seeds(seed = 8787):\n",
    "    torch.manual_seed(seed)\n",
    "    # random.seed(seed) \n",
    "    if torch.cuda.is_available():\n",
    "        torch.cuda.manual_seed(seed)\n",
    "        torch.cuda.manual_seed_all(seed)  \n",
    "    np.random.seed(seed)  \n",
    "    torch.backends.cudnn.benchmark = False\n",
    "    torch.backends.cudnn.deterministic = True"
   ]
  },
  {
   "cell_type": "markdown",
   "metadata": {},
   "source": [
    "## Data Loader"
   ]
  },
  {
   "cell_type": "code",
   "execution_count": 4,
   "metadata": {},
   "outputs": [],
   "source": [
    "class GraphDataset(Dataset):\n",
    "    def __init__(self, data_list, device):\n",
    "        self.data_list = data_list\n",
    "        self.device = device\n",
    "\n",
    "    def __len__(self):\n",
    "        return len(self.data_list)\n",
    "    \n",
    "    def __getitem__(self, idx):\n",
    "        data = self.data_list[idx]\n",
    "\n",
    "        g = dgl.graph((th.tensor(data[\"edge_index\"][0]), th.tensor(data[\"edge_index\"][1])), num_nodes=data[\"num_nodes\"]).to(self.device)\n",
    "\n",
    "        g.ndata['feat'] = th.tensor(data[\"node_feat\"]).to(self.device)\n",
    "        g.edata['feat'] = th.tensor(data[\"edge_attr\"]).to(self.device)  # Add edge features to graph\n",
    "\n",
    "        return g, th.tensor(data[\"label\"]).to(self.device)\n",
    "\n",
    "\n",
    "def collate(samples):\n",
    "    # The input `samples` is a list of pairs\n",
    "    #  (graph, label).\n",
    "    graphs, labels = map(list, zip(*samples))\n",
    "    batched_graph = dgl.batch(graphs)\n",
    "    return batched_graph, torch.tensor(labels)\n"
   ]
  },
  {
   "cell_type": "code",
   "execution_count": 5,
   "metadata": {},
   "outputs": [
    {
     "data": {
      "application/vnd.jupyter.widget-view+json": {
       "model_id": "9e17aed2363343ca86ce422ab7b12ead",
       "version_major": 2,
       "version_minor": 0
      },
      "text/plain": [
       "  0%|          | 0/3 [00:00<?, ?it/s]"
      ]
     },
     "metadata": {},
     "output_type": "display_data"
    },
    {
     "name": "stdout",
     "output_type": "stream",
     "text": [
      "../../data_processing/dgl/data_new/training_data/exp_2/transH_100/train.jsonl\n"
     ]
    },
    {
     "data": {
      "application/vnd.jupyter.widget-view+json": {
       "model_id": "75e5f3a65b8e43f28c759753a1356b34",
       "version_major": 2,
       "version_minor": 0
      },
      "text/plain": [
       "0it [00:00, ?it/s]"
      ]
     },
     "metadata": {},
     "output_type": "display_data"
    },
    {
     "name": "stdout",
     "output_type": "stream",
     "text": [
      "../../data_processing/dgl/data_new/training_data/exp_2/transH_100/valid.jsonl\n"
     ]
    },
    {
     "data": {
      "application/vnd.jupyter.widget-view+json": {
       "model_id": "04a3891f8b59401185896ff52d3d03b7",
       "version_major": 2,
       "version_minor": 0
      },
      "text/plain": [
       "0it [00:00, ?it/s]"
      ]
     },
     "metadata": {},
     "output_type": "display_data"
    },
    {
     "name": "stdout",
     "output_type": "stream",
     "text": [
      "../../data_processing/dgl/data_new/training_data/exp_2/transH_100/test.jsonl\n"
     ]
    },
    {
     "data": {
      "application/vnd.jupyter.widget-view+json": {
       "model_id": "0e870b0ca4614c7cb027f2cec6cf1b6d",
       "version_major": 2,
       "version_minor": 0
      },
      "text/plain": [
       "0it [00:00, ?it/s]"
      ]
     },
     "metadata": {},
     "output_type": "display_data"
    },
    {
     "name": "stdout",
     "output_type": "stream",
     "text": [
      "Datasets loaded!\n"
     ]
    }
   ],
   "source": [
    "datasets = ['train', 'valid', 'test']\n",
    "# datasets = ['test']\n",
    "dataset_data = {}\n",
    "\n",
    "for dataset_name in tqdm(datasets):\n",
    "#     file_path = f\"../../data_processing/dgl/data/test_graph/repeated_{dataset_name}.jsonl\"\n",
    "    file_path = f\"../../data_processing/dgl/data_new/training_data/exp_2/transH_100/{dataset_name}.jsonl\"\n",
    "    \n",
    "    print(file_path)\n",
    "    with open(file_path) as f:\n",
    "        data_list = [json.loads(line) for line in tqdm(f, position=0, leave=True)]\n",
    "    \n",
    "    dataset_data[dataset_name] = GraphDataset(data_list, device)\n",
    "\n",
    "print(\"Datasets loaded!\")"
   ]
  },
  {
   "cell_type": "markdown",
   "metadata": {},
   "source": [
    "- choose batch size"
   ]
  },
  {
   "cell_type": "code",
   "execution_count": 6,
   "metadata": {},
   "outputs": [
    {
     "name": "stdout",
     "output_type": "stream",
     "text": [
      "OK!\n"
     ]
    }
   ],
   "source": [
    "def create_dataloaders(batch_size, shuffle=True):\n",
    "    dataloaders = {}\n",
    "    for dataset_name, dataset in dataset_data.items():\n",
    "        # do not shuffle the testing dataset\n",
    "        if dataset_name == \"test\":\n",
    "            dataloaders[dataset_name] = DataLoader(dataset, batch_size=batch_size, shuffle=False, collate_fn=collate)    \n",
    "        else:\n",
    "            dataloaders[dataset_name] = DataLoader(dataset, batch_size=batch_size, shuffle=shuffle, collate_fn=collate)\n",
    "    return dataloaders\n",
    "\n",
    "# dataloaders = create_dataloaders(4)\n",
    "dataloaders = create_dataloaders(16)\n",
    "\n",
    "\n",
    "if (len(dataloaders['test'].dataset) + len(dataloaders['valid'].dataset) + len(dataloaders['train'].dataset)) % 166 != 0: print(\"Error data!!\")\n",
    "else: print(\"OK!\")\n"
   ]
  },
  {
   "cell_type": "markdown",
   "metadata": {},
   "source": [
    "- Turn the print message to a log file"
   ]
  },
  {
   "cell_type": "code",
   "execution_count": 7,
   "metadata": {},
   "outputs": [
    {
     "name": "stdout",
     "output_type": "stream",
     "text": [
      "(Graph(num_nodes=10, num_edges=19,\n",
      "      ndata_schemes={'feat': Scheme(shape=(100,), dtype=torch.float32)}\n",
      "      edata_schemes={'feat': Scheme(shape=(100,), dtype=torch.float32)}), tensor(6, device='cuda:0'))\n",
      "16600\n",
      "16600\n",
      "132800\n",
      "166000\n"
     ]
    }
   ],
   "source": [
    "# print(dataloaders['test'][5])\n",
    "sample = dataset_data['train'][5000]\n",
    "print(sample)\n",
    "\n",
    "print(len(dataloaders['test'].dataset))\n",
    "print(len(dataloaders['valid'].dataset))\n",
    "print(len(dataloaders['train'].dataset))\n",
    "print(len(dataloaders['test'].dataset) + len(dataloaders['valid'].dataset) + len(dataloaders['train'].dataset))"
   ]
  },
  {
   "cell_type": "code",
   "execution_count": 8,
   "metadata": {},
   "outputs": [
    {
     "name": "stdout",
     "output_type": "stream",
     "text": [
      "../log_message/0901_19:32_GAT_transH_100.log\n"
     ]
    }
   ],
   "source": [
    "import datetime\n",
    "\n",
    "now = datetime.datetime.now()\n",
    "\n",
    "formatted_time = now.strftime(\"%m%d_%H:%M\")\n",
    "\n",
    "log_file_path = f\"../log_message/{formatted_time}_GAT_transH_100.log\"\n",
    "\n",
    "def add_log_msg(msg, log_file_path=log_file_path):\n",
    "    with open(log_file_path, 'a') as f:\n",
    "        f.write(f'{datetime.datetime.now().strftime(\"%m/%d/%Y, %H:%M:%S\")}# {msg}\\n')\n",
    "    print(f'{datetime.datetime.now().strftime(\"%m/%d/%Y, %H:%M:%S\")}# {msg}')\n",
    "\n",
    "print(log_file_path)"
   ]
  },
  {
   "cell_type": "markdown",
   "metadata": {},
   "source": [
    "### Model"
   ]
  },
  {
   "cell_type": "code",
   "execution_count": 9,
   "metadata": {},
   "outputs": [],
   "source": [
    "class GAT(nn.Module):\n",
    "    def __init__(self, in_dim, hidden_dim, out_dim, num_heads, dropout_prob=0.25):\n",
    "        super(GAT, self).__init__()\n",
    "        \n",
    "        # do not check the zero in_degree since we have all the complete graph\n",
    "        self.layer1 = GATConv(in_dim, hidden_dim, num_heads=num_heads, activation=F.relu, allow_zero_in_degree=True)\n",
    "        self.layer2 = GATConv(hidden_dim * num_heads, out_dim, num_heads=num_heads, allow_zero_in_degree=True)\n",
    "        \n",
    "        # Adding Batch Normalization after each GAT layer\n",
    "        self.batchnorm1 = nn.BatchNorm1d(hidden_dim * num_heads)\n",
    "        self.batchnorm2 = nn.BatchNorm1d(out_dim)\n",
    "        \n",
    "        # Adding Dropout for regularization\n",
    "        self.dropout = nn.Dropout(dropout_prob)\n",
    "\n",
    "    def forward(self, g, h):\n",
    "        # Apply GAT layers\n",
    "        h = self.layer1(g, h)\n",
    "        h = h.view(h.shape[0], -1)\n",
    "        h = F.relu(h)\n",
    "        h = self.dropout(h)\n",
    "        h = self.layer2(g, h).squeeze(1)\n",
    "        \n",
    "        # Store the output as a new node feature\n",
    "        g.ndata['h_out'] = h\n",
    "\n",
    "        # Use mean pooling to aggregate this new node feature\n",
    "        h_agg = dgl.mean_nodes(g, feat='h_out')\n",
    "        return h_agg\n",
    "\n",
    "    "
   ]
  },
  {
   "cell_type": "markdown",
   "metadata": {},
   "source": [
    "- Model Forward  "
   ]
  },
  {
   "cell_type": "code",
   "execution_count": 10,
   "metadata": {},
   "outputs": [],
   "source": [
    "def model_fn(data, model, criterion, device, count=1, which_type='train'):\n",
    "    \"\"\"Forward a batch through the model.\"\"\"\n",
    "    batched_g, labels = data\n",
    "    batched_g = batched_g.to(device)\n",
    "    \n",
    "    labels = labels.to(device)\n",
    "    logits = model(batched_g, batched_g.ndata['feat'].float()) # for GAT\n",
    "    logits = logits.mean(dim=1)\n",
    "    \n",
    "    loss = criterion(logits, labels)\n",
    "\n",
    "    # Get the class id with the highest probability\n",
    "    preds = logits.argmax(1)\n",
    "    \n",
    "    # Compute accuracy\n",
    "    accuracy = torch.mean((preds == labels).float())\n",
    "    \n",
    "    if which_type == 'validation' and count % 1000 == 0:\n",
    "        add_log_msg(f\"labels of Validation: {labels} {labels.shape}\")\n",
    "        add_log_msg(f\"predicted of Validation: {preds} {preds.shape}\")\n",
    "        \n",
    "    elif which_type == 'test'  and count % 1000 == 0:\n",
    "        add_log_msg(f\"labels of Test: {labels} {labels.shape}\")\n",
    "        add_log_msg(f\"predicted of Test: {preds} {preds.shape}\")\n",
    "        \n",
    "    if count % 5000 == 0: \n",
    "        add_log_msg(f\"labels of {count}: {labels} {labels.shape}\")\n",
    "        add_log_msg(f\"predicted of {count}: {preds} {preds.shape}\")\n",
    "        \n",
    "    return loss, accuracy, preds"
   ]
  },
  {
   "cell_type": "markdown",
   "metadata": {},
   "source": [
    "### Training"
   ]
  },
  {
   "cell_type": "markdown",
   "metadata": {},
   "source": [
    "- Fix the seed and save the model.state_dict that contains the initial weight"
   ]
  },
  {
   "cell_type": "code",
   "execution_count": 11,
   "metadata": {},
   "outputs": [],
   "source": [
    "seed = 8787\n",
    "same_seeds(seed)\n",
    "\n",
    "model = GAT(in_dim=100, hidden_dim=16, out_dim=168, num_heads=8)\n",
    "torch.save(model.state_dict(), 'model1_initial/initial_weight.pth')"
   ]
  },
  {
   "cell_type": "code",
   "execution_count": 12,
   "metadata": {},
   "outputs": [
    {
     "data": {
      "text/plain": [
       "Parameter containing:\n",
       "tensor([[-0.0372,  0.0397,  0.0935,  ..., -0.2031, -0.0468, -0.0559],\n",
       "        [-0.2012, -0.0840,  0.1344,  ...,  0.1873, -0.0882,  0.1701],\n",
       "        [ 0.0989,  0.1005, -0.2093,  ..., -0.2812, -0.2957, -0.0144],\n",
       "        ...,\n",
       "        [-0.1528,  0.2374,  0.1282,  ..., -0.0509,  0.0520, -0.0736],\n",
       "        [-0.0805, -0.1986, -0.1437,  ...,  0.1331,  0.0198,  0.0471],\n",
       "        [ 0.0363,  0.0976, -0.1171,  ...,  0.0343, -0.0835,  0.2840]],\n",
       "       requires_grad=True)"
      ]
     },
     "execution_count": 12,
     "metadata": {},
     "output_type": "execute_result"
    }
   ],
   "source": [
    "model.layer1.fc.weight"
   ]
  },
  {
   "cell_type": "markdown",
   "metadata": {},
   "source": [
    "- Check if model really load the model_dict"
   ]
  },
  {
   "cell_type": "code",
   "execution_count": 13,
   "metadata": {},
   "outputs": [
    {
     "data": {
      "text/plain": [
       "Parameter containing:\n",
       "tensor([[-0.0372,  0.0397,  0.0935,  ..., -0.2031, -0.0468, -0.0559],\n",
       "        [-0.2012, -0.0840,  0.1344,  ...,  0.1873, -0.0882,  0.1701],\n",
       "        [ 0.0989,  0.1005, -0.2093,  ..., -0.2812, -0.2957, -0.0144],\n",
       "        ...,\n",
       "        [-0.1528,  0.2374,  0.1282,  ..., -0.0509,  0.0520, -0.0736],\n",
       "        [-0.0805, -0.1986, -0.1437,  ...,  0.1331,  0.0198,  0.0471],\n",
       "        [ 0.0363,  0.0976, -0.1171,  ...,  0.0343, -0.0835,  0.2840]],\n",
       "       requires_grad=True)"
      ]
     },
     "execution_count": 13,
     "metadata": {},
     "output_type": "execute_result"
    }
   ],
   "source": [
    "model = GAT(in_dim=100, hidden_dim=16, out_dim=168, num_heads=8)\n",
    "model.load_state_dict(torch.load('model1_initial/initial_weight.pth'))\n",
    "model.layer1.fc.weight"
   ]
  },
  {
   "cell_type": "markdown",
   "metadata": {},
   "source": [
    "### test of valid and test part is ``graph``"
   ]
  },
  {
   "cell_type": "markdown",
   "metadata": {},
   "source": [
    "- Batch size = 4\n",
    "- use large lr and scheduler"
   ]
  },
  {
   "cell_type": "code",
   "execution_count": 14,
   "metadata": {
    "scrolled": true
   },
   "outputs": [
    {
     "data": {
      "application/vnd.jupyter.widget-view+json": {
       "model_id": "d4bc750ba0154c94ac9d87d7243b09e4",
       "version_major": 2,
       "version_minor": 0
      },
      "text/plain": [
       "  0%|          | 0/25 [00:00<?, ?it/s]"
      ]
     },
     "metadata": {},
     "output_type": "display_data"
    },
    {
     "data": {
      "application/vnd.jupyter.widget-view+json": {
       "model_id": "9e94d18e23dc4bb6adba9717abb3417a",
       "version_major": 2,
       "version_minor": 0
      },
      "text/plain": [
       "Training:   0%|          | 0/8300 [00:00<?, ?it/s]"
      ]
     },
     "metadata": {},
     "output_type": "display_data"
    },
    {
     "name": "stdout",
     "output_type": "stream",
     "text": [
      "09/01/2023, 19:34:47# labels of 5000: tensor([ 67, 164, 109,  93,  40,  15,  66,  42,  37, 150, 120,  44,  96,  37,\n",
      "        122,  33], device='cuda:0') torch.Size([16])\n",
      "09/01/2023, 19:34:47# predicted of 5000: tensor([149, 132, 161, 132,  99,  52, 132, 132, 132, 132,  99, 132,  99, 132,\n",
      "        165, 132], device='cuda:0') torch.Size([16])\n",
      "09/01/2023, 19:36:35# total batches: 8300\n",
      "09/01/2023, 19:36:35# Epoch 0 | Train Loss: 4.6242 | Train Accuracy: 0.0532\n"
     ]
    },
    {
     "data": {
      "application/vnd.jupyter.widget-view+json": {
       "model_id": "a19d1b04e14d4d7bae100dfa36abafb0",
       "version_major": 2,
       "version_minor": 0
      },
      "text/plain": [
       "Validation:   0%|          | 0/1038 [00:00<?, ?it/s]"
      ]
     },
     "metadata": {},
     "output_type": "display_data"
    },
    {
     "name": "stdout",
     "output_type": "stream",
     "text": [
      "09/01/2023, 19:36:35# labels of Validation: tensor([140,  63, 123,  33,  63, 126,  14, 142, 131, 118,  57,   2,  40,   1,\n",
      "        101,  64], device='cuda:0') torch.Size([16])\n",
      "09/01/2023, 19:36:35# predicted of Validation: tensor([128,  28, 123,  28,  28, 120,  28,  28, 132, 118,  28,  28, 106,  28,\n",
      "        132, 132], device='cuda:0') torch.Size([16])\n",
      "09/01/2023, 19:36:35# labels of 0: tensor([140,  63, 123,  33,  63, 126,  14, 142, 131, 118,  57,   2,  40,   1,\n",
      "        101,  64], device='cuda:0') torch.Size([16])\n",
      "09/01/2023, 19:36:35# predicted of 0: tensor([128,  28, 123,  28,  28, 120,  28,  28, 132, 118,  28,  28, 106,  28,\n",
      "        132, 132], device='cuda:0') torch.Size([16])\n",
      "09/01/2023, 19:36:57# labels of Validation: tensor([ 79, 124,  70, 138, 154,  24,  60,  43, 106,  29, 138,  56, 112,  19,\n",
      "        143,  46], device='cuda:0') torch.Size([16])\n",
      "09/01/2023, 19:36:57# predicted of Validation: tensor([ 32,  28,  70, 138, 154,  28,  28,  28, 106,  29, 138, 149,  28,  28,\n",
      "         28,  28], device='cuda:0') torch.Size([16])\n",
      "09/01/2023, 19:36:58# Validation Loss: 4.1380 | Validation Accuracy: 0.1446\n",
      "\n",
      "09/01/2023, 19:36:58# Find a better model!!\n"
     ]
    },
    {
     "data": {
      "application/vnd.jupyter.widget-view+json": {
       "model_id": "2b7c68618bb34cafa700aac81a8956a8",
       "version_major": 2,
       "version_minor": 0
      },
      "text/plain": [
       "Training:   0%|          | 0/8300 [00:00<?, ?it/s]"
      ]
     },
     "metadata": {},
     "output_type": "display_data"
    },
    {
     "name": "stdout",
     "output_type": "stream",
     "text": [
      "09/01/2023, 19:39:42# labels of 5000: tensor([ 87,   6,  91,  17, 103,  63,  96, 157, 105,  16, 126,  97, 142,   1,\n",
      "         45, 144], device='cuda:0') torch.Size([16])\n",
      "09/01/2023, 19:39:42# predicted of 5000: tensor([ 66, 132, 132,  17, 132,  28,  80,  65, 105,  16,  39, 101, 132, 101,\n",
      "         39,  65], device='cuda:0') torch.Size([16])\n",
      "09/01/2023, 19:41:31# total batches: 8300\n",
      "09/01/2023, 19:41:31# Epoch 1 | Train Loss: 3.8999 | Train Accuracy: 0.1669\n"
     ]
    },
    {
     "data": {
      "application/vnd.jupyter.widget-view+json": {
       "model_id": "91ec15ced464478c9f0bb9bea00c7aa1",
       "version_major": 2,
       "version_minor": 0
      },
      "text/plain": [
       "Validation:   0%|          | 0/1038 [00:00<?, ?it/s]"
      ]
     },
     "metadata": {},
     "output_type": "display_data"
    },
    {
     "name": "stdout",
     "output_type": "stream",
     "text": [
      "09/01/2023, 19:41:31# labels of Validation: tensor([114,   9, 148,  10, 126,  31, 143, 126, 131,  82,  36, 149, 144, 104,\n",
      "         26,  51], device='cuda:0') torch.Size([16])\n",
      "09/01/2023, 19:41:31# predicted of Validation: tensor([ 28, 155,  28, 155,  73, 155, 155, 117,  28,  82, 155, 149, 155, 155,\n",
      "        155,  28], device='cuda:0') torch.Size([16])\n",
      "09/01/2023, 19:41:31# labels of 0: tensor([114,   9, 148,  10, 126,  31, 143, 126, 131,  82,  36, 149, 144, 104,\n",
      "         26,  51], device='cuda:0') torch.Size([16])\n",
      "09/01/2023, 19:41:31# predicted of 0: tensor([ 28, 155,  28, 155,  73, 155, 155, 117,  28,  82, 155, 149, 155, 155,\n",
      "        155,  28], device='cuda:0') torch.Size([16])\n",
      "09/01/2023, 19:41:53# labels of Validation: tensor([ 85, 156,  85, 147,  54, 138, 126, 112, 112,  13, 149,  86,  87,  76,\n",
      "        133,  62], device='cuda:0') torch.Size([16])\n",
      "09/01/2023, 19:41:53# predicted of Validation: tensor([ 85, 156,  85, 147, 155, 138,  45, 155, 155, 117, 149, 155, 155, 155,\n",
      "         28,  62], device='cuda:0') torch.Size([16])\n",
      "09/01/2023, 19:41:54# Validation Loss: 3.6921 | Validation Accuracy: 0.2284\n",
      "\n",
      "09/01/2023, 19:41:54# Find a better model!!\n"
     ]
    },
    {
     "data": {
      "application/vnd.jupyter.widget-view+json": {
       "model_id": "17b4d9437a314e46838e7e810ead442a",
       "version_major": 2,
       "version_minor": 0
      },
      "text/plain": [
       "Training:   0%|          | 0/8300 [00:00<?, ?it/s]"
      ]
     },
     "metadata": {},
     "output_type": "display_data"
    },
    {
     "name": "stdout",
     "output_type": "stream",
     "text": [
      "09/01/2023, 19:44:38# labels of 5000: tensor([ 69, 161,  53, 147, 100, 135,  73,  24,  95,   6,  57, 158,  65, 123,\n",
      "         29,  76], device='cuda:0') torch.Size([16])\n",
      "09/01/2023, 19:44:38# predicted of 5000: tensor([ 69, 132,  28, 128, 132, 166,  61,   4,  95, 132,  34,  28,  65, 123,\n",
      "         29,  28], device='cuda:0') torch.Size([16])\n",
      "09/01/2023, 19:46:18# total batches: 8300\n",
      "09/01/2023, 19:46:18# Epoch 2 | Train Loss: 3.5715 | Train Accuracy: 0.2311\n"
     ]
    },
    {
     "data": {
      "application/vnd.jupyter.widget-view+json": {
       "model_id": "05b69316afe4417a962164f9f0dfce5a",
       "version_major": 2,
       "version_minor": 0
      },
      "text/plain": [
       "Validation:   0%|          | 0/1038 [00:00<?, ?it/s]"
      ]
     },
     "metadata": {},
     "output_type": "display_data"
    },
    {
     "name": "stdout",
     "output_type": "stream",
     "text": [
      "09/01/2023, 19:46:18# labels of Validation: tensor([ 96,  74, 134,  69,  20,  60, 140, 112, 103,  81, 148, 118,  31, 119,\n",
      "         95, 131], device='cuda:0') torch.Size([16])\n",
      "09/01/2023, 19:46:18# predicted of Validation: tensor([ 96,   8, 134,  69,   8,   8, 140,   8, 132,   8, 132, 118,   8,   8,\n",
      "         73, 132], device='cuda:0') torch.Size([16])\n",
      "09/01/2023, 19:46:18# labels of 0: tensor([ 96,  74, 134,  69,  20,  60, 140, 112, 103,  81, 148, 118,  31, 119,\n",
      "         95, 131], device='cuda:0') torch.Size([16])\n",
      "09/01/2023, 19:46:18# predicted of 0: tensor([ 96,   8, 134,  69,   8,   8, 140,   8, 132,   8, 132, 118,   8,   8,\n",
      "         73, 132], device='cuda:0') torch.Size([16])\n",
      "09/01/2023, 19:46:33# labels of Validation: tensor([ 55,  14,  81,  13,  70, 141,  65,   9,  75,  45, 141,  39,  44, 106,\n",
      "         84, 152], device='cuda:0') torch.Size([16])\n",
      "09/01/2023, 19:46:33# predicted of Validation: tensor([  8,   8,   8,  78,  70, 132,   8,   8,   8,  39, 132,  39,   8, 106,\n",
      "        140,   8], device='cuda:0') torch.Size([16])\n",
      "09/01/2023, 19:46:34# Validation Loss: 3.4378 | Validation Accuracy: 0.2791\n",
      "\n",
      "09/01/2023, 19:46:34# Find a better model!!\n"
     ]
    },
    {
     "data": {
      "application/vnd.jupyter.widget-view+json": {
       "model_id": "3164cfd3a2e44a4084829a5ae0480e4c",
       "version_major": 2,
       "version_minor": 0
      },
      "text/plain": [
       "Training:   0%|          | 0/8300 [00:00<?, ?it/s]"
      ]
     },
     "metadata": {},
     "output_type": "display_data"
    },
    {
     "name": "stdout",
     "output_type": "stream",
     "text": [
      "09/01/2023, 19:48:19# labels of 5000: tensor([117, 129,  29, 162, 140, 130, 123,  28, 155,  53,  17, 158,  46, 153,\n",
      "        158, 131], device='cuda:0') torch.Size([16])\n",
      "09/01/2023, 19:48:19# predicted of 5000: tensor([115, 132,  29,  34, 140, 130, 123, 132,  65,  65,  17, 141, 155,  88,\n",
      "        166, 132], device='cuda:0') torch.Size([16])\n",
      "09/01/2023, 19:49:31# total batches: 8300\n",
      "09/01/2023, 19:49:31# Epoch 3 | Train Loss: 3.3681 | Train Accuracy: 0.2748\n"
     ]
    },
    {
     "data": {
      "application/vnd.jupyter.widget-view+json": {
       "model_id": "c81fff9104a14cdd91c9f1a32d32538d",
       "version_major": 2,
       "version_minor": 0
      },
      "text/plain": [
       "Validation:   0%|          | 0/1038 [00:00<?, ?it/s]"
      ]
     },
     "metadata": {},
     "output_type": "display_data"
    },
    {
     "name": "stdout",
     "output_type": "stream",
     "text": [
      "09/01/2023, 19:49:31# labels of Validation: tensor([156,  97,  97, 145, 134,  96, 123, 116,  46, 119,  32, 122,  55,  62,\n",
      "        156, 123], device='cuda:0') torch.Size([16])\n",
      "09/01/2023, 19:49:31# predicted of Validation: tensor([156, 157, 157, 145, 134,  96, 123, 157, 157, 157,  32, 122, 157,  62,\n",
      "        156, 123], device='cuda:0') torch.Size([16])\n",
      "09/01/2023, 19:49:31# labels of 0: tensor([156,  97,  97, 145, 134,  96, 123, 116,  46, 119,  32, 122,  55,  62,\n",
      "        156, 123], device='cuda:0') torch.Size([16])\n",
      "09/01/2023, 19:49:31# predicted of 0: tensor([156, 157, 157, 145, 134,  96, 123, 157, 157, 157,  32, 122, 157,  62,\n",
      "        156, 123], device='cuda:0') torch.Size([16])\n",
      "09/01/2023, 19:49:48# labels of Validation: tensor([  1,  63,  59, 147,  32, 133, 142, 123,  89,  50,  17, 127, 119,  60,\n",
      "         43,  63], device='cuda:0') torch.Size([16])\n",
      "09/01/2023, 19:49:48# predicted of Validation: tensor([157, 157, 132, 147,  32, 161, 157, 123,  79,  50,  17, 127, 157, 157,\n",
      "        157, 157], device='cuda:0') torch.Size([16])\n",
      "09/01/2023, 19:49:49# Validation Loss: 3.2687 | Validation Accuracy: 0.3233\n",
      "\n",
      "09/01/2023, 19:49:49# Find a better model!!\n"
     ]
    },
    {
     "data": {
      "application/vnd.jupyter.widget-view+json": {
       "model_id": "553385dcf51944a29d9a024d4fbe508e",
       "version_major": 2,
       "version_minor": 0
      },
      "text/plain": [
       "Training:   0%|          | 0/8300 [00:00<?, ?it/s]"
      ]
     },
     "metadata": {},
     "output_type": "display_data"
    },
    {
     "name": "stdout",
     "output_type": "stream",
     "text": [
      "09/01/2023, 19:52:19# labels of 5000: tensor([165,  83, 149, 107, 123,  88, 109, 124, 123,  23, 112,  29,  19,  97,\n",
      "         89, 160], device='cuda:0') torch.Size([16])\n",
      "09/01/2023, 19:52:19# predicted of 5000: tensor([165, 107, 149, 161, 123, 111, 111, 111, 123,  23,  51,  29, 111, 111,\n",
      "         89,  51], device='cuda:0') torch.Size([16])\n",
      "09/01/2023, 19:54:12# total batches: 8300\n",
      "09/01/2023, 19:54:12# Epoch 4 | Train Loss: 3.2295 | Train Accuracy: 0.3037\n"
     ]
    },
    {
     "data": {
      "application/vnd.jupyter.widget-view+json": {
       "model_id": "4e64e2c1721e4526be25429a34463113",
       "version_major": 2,
       "version_minor": 0
      },
      "text/plain": [
       "Validation:   0%|          | 0/1038 [00:00<?, ?it/s]"
      ]
     },
     "metadata": {},
     "output_type": "display_data"
    },
    {
     "name": "stdout",
     "output_type": "stream",
     "text": [
      "09/01/2023, 19:54:12# labels of Validation: tensor([123,  35, 130, 150,  18,  84,  51, 118, 119, 112,  29, 137,  97,  39,\n",
      "         87,  14], device='cuda:0') torch.Size([16])\n",
      "09/01/2023, 19:54:12# predicted of Validation: tensor([123,  35, 130,  47,  47,  84, 132, 118,  47,  47,  29,  47,  47,  39,\n",
      "         47,  47], device='cuda:0') torch.Size([16])\n",
      "09/01/2023, 19:54:12# labels of 0: tensor([123,  35, 130, 150,  18,  84,  51, 118, 119, 112,  29, 137,  97,  39,\n",
      "         87,  14], device='cuda:0') torch.Size([16])\n",
      "09/01/2023, 19:54:12# predicted of 0: tensor([123,  35, 130,  47,  47,  84, 132, 118,  47,  47,  29,  47,  47,  39,\n",
      "         47,  47], device='cuda:0') torch.Size([16])\n",
      "09/01/2023, 19:54:34# labels of Validation: tensor([ 39, 135,  64,  99,  26, 124, 120,  80,  65,  60,  52, 122,  25,  96,\n",
      "          7, 135], device='cuda:0') torch.Size([16])\n",
      "09/01/2023, 19:54:34# predicted of Validation: tensor([ 95,  47,   6,  99,  47,  47, 120,  80,  47,  47,  52, 122,  25,  96,\n",
      "          7,  47], device='cuda:0') torch.Size([16])\n",
      "09/01/2023, 19:54:34# Validation Loss: 3.1509 | Validation Accuracy: 0.3371\n",
      "\n",
      "09/01/2023, 19:54:34# Find a better model!!\n"
     ]
    },
    {
     "data": {
      "application/vnd.jupyter.widget-view+json": {
       "model_id": "5af404c7b8f843b2a59377514fe1105c",
       "version_major": 2,
       "version_minor": 0
      },
      "text/plain": [
       "Training:   0%|          | 0/8300 [00:00<?, ?it/s]"
      ]
     },
     "metadata": {},
     "output_type": "display_data"
    },
    {
     "name": "stdout",
     "output_type": "stream",
     "text": [
      "09/01/2023, 19:56:55# labels of 5000: tensor([ 26,  31,  28,  23, 111,  77, 119,  33,   6, 116, 140,  81,  12,  88,\n",
      "         67,  24], device='cuda:0') torch.Size([16])\n",
      "09/01/2023, 19:56:55# predicted of 5000: tensor([144, 166, 132,  23, 166, 131,  65, 131, 132,  71, 140,  71, 141, 132,\n",
      "         78, 119], device='cuda:0') torch.Size([16])\n",
      "09/01/2023, 19:58:03# total batches: 8300\n",
      "09/01/2023, 19:58:03# Epoch 5 | Train Loss: 3.1308 | Train Accuracy: 0.3203\n"
     ]
    },
    {
     "data": {
      "application/vnd.jupyter.widget-view+json": {
       "model_id": "8af2784afa3143fd8b67b191fe996a6e",
       "version_major": 2,
       "version_minor": 0
      },
      "text/plain": [
       "Validation:   0%|          | 0/1038 [00:00<?, ?it/s]"
      ]
     },
     "metadata": {},
     "output_type": "display_data"
    },
    {
     "name": "stdout",
     "output_type": "stream",
     "text": [
      "09/01/2023, 19:58:03# labels of Validation: tensor([145,  75, 147, 143, 164, 155,   8,  44,  12, 141,  30, 156,  53,  48,\n",
      "         60, 145], device='cuda:0') torch.Size([16])\n",
      "09/01/2023, 19:58:03# predicted of Validation: tensor([145, 152, 147, 152, 152, 161, 161, 152, 152, 161, 152, 156, 152, 152,\n",
      "        152, 145], device='cuda:0') torch.Size([16])\n",
      "09/01/2023, 19:58:03# labels of 0: tensor([145,  75, 147, 143, 164, 155,   8,  44,  12, 141,  30, 156,  53,  48,\n",
      "         60, 145], device='cuda:0') torch.Size([16])\n",
      "09/01/2023, 19:58:03# predicted of 0: tensor([145, 152, 147, 152, 152, 161, 161, 152, 152, 161, 152, 156, 152, 152,\n",
      "        152, 145], device='cuda:0') torch.Size([16])\n",
      "09/01/2023, 19:58:20# labels of Validation: tensor([124, 154,  63,  64,  24,   0, 123, 107, 112,  48, 110,  28, 120,  27,\n",
      "         42, 101], device='cuda:0') torch.Size([16])\n",
      "09/01/2023, 19:58:20# predicted of Validation: tensor([152, 154, 152, 161, 152,   0, 123, 161, 152, 152, 161, 161, 120,  27,\n",
      "        152, 161], device='cuda:0') torch.Size([16])\n",
      "09/01/2023, 19:58:20# Validation Loss: 3.0688 | Validation Accuracy: 0.3479\n",
      "\n",
      "09/01/2023, 19:58:20# Find a better model!!\n"
     ]
    },
    {
     "data": {
      "application/vnd.jupyter.widget-view+json": {
       "model_id": "9d692c36d09a4701b1182b16c3d69028",
       "version_major": 2,
       "version_minor": 0
      },
      "text/plain": [
       "Training:   0%|          | 0/8300 [00:00<?, ?it/s]"
      ]
     },
     "metadata": {},
     "output_type": "display_data"
    },
    {
     "name": "stdout",
     "output_type": "stream",
     "text": [
      "09/01/2023, 20:00:25# labels of 5000: tensor([ 18,  89,  61, 155,  39, 120, 147, 145, 163,  63, 104, 163, 146,  23,\n",
      "         31,  17], device='cuda:0') torch.Size([16])\n",
      "09/01/2023, 20:00:25# predicted of 5000: tensor([ 37,  95,  15, 161,  39, 120, 147, 145,   8,   8,  31,  37,  94,  23,\n",
      "         37,  17], device='cuda:0') torch.Size([16])\n",
      "09/01/2023, 20:01:54# total batches: 8300\n",
      "09/01/2023, 20:01:54# Epoch 6 | Train Loss: 3.0595 | Train Accuracy: 0.3330\n"
     ]
    },
    {
     "data": {
      "application/vnd.jupyter.widget-view+json": {
       "model_id": "5f545bb5a3f647e3ace8faedd467174c",
       "version_major": 2,
       "version_minor": 0
      },
      "text/plain": [
       "Validation:   0%|          | 0/1038 [00:00<?, ?it/s]"
      ]
     },
     "metadata": {},
     "output_type": "display_data"
    },
    {
     "name": "stdout",
     "output_type": "stream",
     "text": [
      "09/01/2023, 20:01:54# labels of Validation: tensor([ 55,  65,  84,  73, 102,  47, 130, 151,  39,  29, 122,  84,  20,  86,\n",
      "          3, 135], device='cuda:0') torch.Size([16])\n",
      "09/01/2023, 20:01:54# predicted of Validation: tensor([  4,   4,  84,  73,   4,   4, 130,   4,  39,  29, 122,  84,   4,   4,\n",
      "          3,   4], device='cuda:0') torch.Size([16])\n",
      "09/01/2023, 20:01:54# labels of 0: tensor([ 55,  65,  84,  73, 102,  47, 130, 151,  39,  29, 122,  84,  20,  86,\n",
      "          3, 135], device='cuda:0') torch.Size([16])\n",
      "09/01/2023, 20:01:54# predicted of 0: tensor([  4,   4,  84,  73,   4,   4, 130,   4,  39,  29, 122,  84,   4,   4,\n",
      "          3,   4], device='cuda:0') torch.Size([16])\n",
      "09/01/2023, 20:02:11# labels of Validation: tensor([ 54,  75,  71,  52, 128,  76,   2, 144,  78,  73,  43, 154, 158, 153,\n",
      "         99,  29], device='cuda:0') torch.Size([16])\n",
      "09/01/2023, 20:02:11# predicted of Validation: tensor([  4,   4,   4,  52, 128,   4,   4,   4,  78,  50,   4, 154,   4,   4,\n",
      "         99,  29], device='cuda:0') torch.Size([16])\n",
      "09/01/2023, 20:02:12# Validation Loss: 3.0036 | Validation Accuracy: 0.3536\n",
      "\n",
      "09/01/2023, 20:02:12# Find a better model!!\n"
     ]
    },
    {
     "data": {
      "application/vnd.jupyter.widget-view+json": {
       "model_id": "962ad26a05e24819ba32c8f43dd43f81",
       "version_major": 2,
       "version_minor": 0
      },
      "text/plain": [
       "Training:   0%|          | 0/8300 [00:00<?, ?it/s]"
      ]
     },
     "metadata": {},
     "output_type": "display_data"
    },
    {
     "name": "stdout",
     "output_type": "stream",
     "text": [
      "09/01/2023, 20:04:48# labels of 5000: tensor([ 11, 133, 159,  21, 123,  57,  92, 135, 140, 153,  88, 164,  27,   0,\n",
      "         92, 104], device='cuda:0') torch.Size([16])\n",
      "09/01/2023, 20:04:48# predicted of 5000: tensor([  2, 132, 159, 131, 123,  24, 152,  97, 140,   8, 161,  24,  27,   0,\n",
      "        152,  24], device='cuda:0') torch.Size([16])\n",
      "09/01/2023, 20:06:44# total batches: 8300\n",
      "09/01/2023, 20:06:44# Epoch 7 | Train Loss: 3.0048 | Train Accuracy: 0.3422\n"
     ]
    },
    {
     "data": {
      "application/vnd.jupyter.widget-view+json": {
       "model_id": "5c32218545194129ace0757050d285d8",
       "version_major": 2,
       "version_minor": 0
      },
      "text/plain": [
       "Validation:   0%|          | 0/1038 [00:00<?, ?it/s]"
      ]
     },
     "metadata": {},
     "output_type": "display_data"
    },
    {
     "name": "stdout",
     "output_type": "stream",
     "text": [
      "09/01/2023, 20:06:44# labels of Validation: tensor([  1, 100, 154,  56,  99, 111, 146,  71,  18,  95,  72,  77,  99,  68,\n",
      "         91,  57], device='cuda:0') torch.Size([16])\n",
      "09/01/2023, 20:06:44# predicted of Validation: tensor([ 31,  28, 154,  56,  99,  31, 146,  31,  31,  95,  72,  28,  99,  28,\n",
      "         28,  31], device='cuda:0') torch.Size([16])\n",
      "09/01/2023, 20:06:44# labels of 0: tensor([  1, 100, 154,  56,  99, 111, 146,  71,  18,  95,  72,  77,  99,  68,\n",
      "         91,  57], device='cuda:0') torch.Size([16])\n",
      "09/01/2023, 20:06:44# predicted of 0: tensor([ 31,  28, 154,  56,  99,  31, 146,  31,  31,  95,  72,  28,  99,  28,\n",
      "         28,  31], device='cuda:0') torch.Size([16])\n",
      "09/01/2023, 20:07:08# labels of Validation: tensor([157,   3, 143, 119,  70,  43,  40, 137,   1, 121, 117,  41, 166,  26,\n",
      "        132,  31], device='cuda:0') torch.Size([16])\n",
      "09/01/2023, 20:07:08# predicted of Validation: tensor([ 31,   3,  31,  31,  70,  31,  40,  31,  31,  31, 117,  31,  28,  31,\n",
      "         28,  31], device='cuda:0') torch.Size([16])\n",
      "09/01/2023, 20:07:09# Validation Loss: 2.9581 | Validation Accuracy: 0.3580\n",
      "\n",
      "09/01/2023, 20:07:09# Find a better model!!\n"
     ]
    },
    {
     "data": {
      "application/vnd.jupyter.widget-view+json": {
       "model_id": "dd282771ec0149ad9d79be9a5d0e0927",
       "version_major": 2,
       "version_minor": 0
      },
      "text/plain": [
       "Training:   0%|          | 0/8300 [00:00<?, ?it/s]"
      ]
     },
     "metadata": {},
     "output_type": "display_data"
    },
    {
     "name": "stdout",
     "output_type": "stream",
     "text": [
      "09/01/2023, 20:10:06# labels of 5000: tensor([ 42,  75, 113, 162,  81,  41, 103,  41,  97,  44,  56,  42,  39,  66,\n",
      "        122,  68], device='cuda:0') torch.Size([16])\n",
      "09/01/2023, 20:10:06# predicted of 5000: tensor([ 71,  86,  51,  10,  30, 103,  66,  30, 103,  86,  56, 102,  39, 132,\n",
      "        122, 155], device='cuda:0') torch.Size([16])\n",
      "09/01/2023, 20:12:02# total batches: 8300\n",
      "09/01/2023, 20:12:02# Epoch 8 | Train Loss: 2.9628 | Train Accuracy: 0.3492\n"
     ]
    },
    {
     "data": {
      "application/vnd.jupyter.widget-view+json": {
       "model_id": "ad4c16c3382640b890ffd803367d9fff",
       "version_major": 2,
       "version_minor": 0
      },
      "text/plain": [
       "Validation:   0%|          | 0/1038 [00:00<?, ?it/s]"
      ]
     },
     "metadata": {},
     "output_type": "display_data"
    },
    {
     "name": "stdout",
     "output_type": "stream",
     "text": [
      "09/01/2023, 20:12:02# labels of Validation: tensor([  3,  73, 143,  72,  72, 102,  21,   6,  51,  70,  47, 147, 136,  73,\n",
      "        103,  27], device='cuda:0') torch.Size([16])\n",
      "09/01/2023, 20:12:02# predicted of Validation: tensor([  3,  73,   2,  72, 130,   2,  28,  28,  28,  70,   2, 147, 136,  73,\n",
      "         21,  27], device='cuda:0') torch.Size([16])\n",
      "09/01/2023, 20:12:02# labels of 0: tensor([  3,  73, 143,  72,  72, 102,  21,   6,  51,  70,  47, 147, 136,  73,\n",
      "        103,  27], device='cuda:0') torch.Size([16])\n",
      "09/01/2023, 20:12:02# predicted of 0: tensor([  3,  73,   2,  72, 130,   2,  28,  28,  28,  70,   2, 147, 136,  73,\n",
      "         21,  27], device='cuda:0') torch.Size([16])\n",
      "09/01/2023, 20:12:26# labels of Validation: tensor([117,  54,  38,  53, 151,  87,  97,   2,  71, 111, 159, 160, 118, 112,\n",
      "         23,  53], device='cuda:0') torch.Size([16])\n",
      "09/01/2023, 20:12:26# predicted of Validation: tensor([ 89,   2,   2,   2,   2,   2,   2,   2,   2,   2, 159,  21, 118,   2,\n",
      "         23,   2], device='cuda:0') torch.Size([16])\n",
      "09/01/2023, 20:12:26# Validation Loss: 2.9208 | Validation Accuracy: 0.3630\n",
      "\n",
      "09/01/2023, 20:12:26# Find a better model!!\n"
     ]
    },
    {
     "data": {
      "application/vnd.jupyter.widget-view+json": {
       "model_id": "a5866568a211494aa7a01ceb3ce6d195",
       "version_major": 2,
       "version_minor": 0
      },
      "text/plain": [
       "Training:   0%|          | 0/8300 [00:00<?, ?it/s]"
      ]
     },
     "metadata": {},
     "output_type": "display_data"
    },
    {
     "name": "stdout",
     "output_type": "stream",
     "text": [
      "09/01/2023, 20:15:17# labels of 5000: tensor([ 76, 162,  47,   2, 111,  29,   6,  76,  38,  67,  85, 108,  59,  26,\n",
      "        120,  85], device='cuda:0') torch.Size([16])\n",
      "09/01/2023, 20:15:17# predicted of 5000: tensor([157, 103,  74,  74, 111,  29, 132, 160, 103,  78,  85,   6, 132,  74,\n",
      "        120,  85], device='cuda:0') torch.Size([16])\n",
      "09/01/2023, 20:17:12# total batches: 8300\n",
      "09/01/2023, 20:17:12# Epoch 9 | Train Loss: 2.9301 | Train Accuracy: 0.3536\n"
     ]
    },
    {
     "data": {
      "application/vnd.jupyter.widget-view+json": {
       "model_id": "6208976387544b0b9930c72110ae66be",
       "version_major": 2,
       "version_minor": 0
      },
      "text/plain": [
       "Validation:   0%|          | 0/1038 [00:00<?, ?it/s]"
      ]
     },
     "metadata": {},
     "output_type": "display_data"
    },
    {
     "name": "stdout",
     "output_type": "stream",
     "text": [
      "09/01/2023, 20:17:12# labels of Validation: tensor([ 67,  15, 163,  55, 116, 164,  48,  51,  13, 112,  44, 110,  53, 124,\n",
      "         74,  66], device='cuda:0') torch.Size([16])\n",
      "09/01/2023, 20:17:12# predicted of Validation: tensor([ 67,  15, 116, 116, 116, 116, 116, 132,  13, 116, 116,  66, 116, 116,\n",
      "        116, 132], device='cuda:0') torch.Size([16])\n",
      "09/01/2023, 20:17:12# labels of 0: tensor([ 67,  15, 163,  55, 116, 164,  48,  51,  13, 112,  44, 110,  53, 124,\n",
      "         74,  66], device='cuda:0') torch.Size([16])\n",
      "09/01/2023, 20:17:12# predicted of 0: tensor([ 67,  15, 116, 116, 116, 116, 116, 132,  13, 116, 116,  66, 116, 116,\n",
      "        116, 132], device='cuda:0') torch.Size([16])\n",
      "09/01/2023, 20:17:35# labels of Validation: tensor([ 69, 166, 104,   6, 114,  83,  94,  46,  34, 156, 124,  43,  92, 115,\n",
      "        126, 122], device='cuda:0') torch.Size([16])\n",
      "09/01/2023, 20:17:35# predicted of Validation: tensor([ 69, 132, 116, 132,  66, 116,  94, 116, 116, 156, 116, 116, 116, 115,\n",
      "        126, 122], device='cuda:0') torch.Size([16])\n",
      "09/01/2023, 20:17:36# Validation Loss: 2.8918 | Validation Accuracy: 0.3640\n",
      "\n",
      "09/01/2023, 20:17:36# Find a better model!!\n"
     ]
    },
    {
     "data": {
      "application/vnd.jupyter.widget-view+json": {
       "model_id": "5bcb7d36f3fb4c87a6637913505252bb",
       "version_major": 2,
       "version_minor": 0
      },
      "text/plain": [
       "Training:   0%|          | 0/8300 [00:00<?, ?it/s]"
      ]
     },
     "metadata": {},
     "output_type": "display_data"
    },
    {
     "name": "stdout",
     "output_type": "stream",
     "text": [
      "09/01/2023, 20:20:30# labels of 5000: tensor([ 24,  48,  30, 128,  46,  93,  68,  94,  28,   0,  40,  18, 103, 166,\n",
      "        115,  61], device='cuda:0') torch.Size([16])\n",
      "09/01/2023, 20:20:30# predicted of 5000: tensor([100,  41,  66, 128, 125, 166,   6,   5, 132,   0,  40, 137,  28, 161,\n",
      "        115,  61], device='cuda:0') torch.Size([16])\n",
      "09/01/2023, 20:22:23# total batches: 8300\n",
      "09/01/2023, 20:22:23# Epoch 10 | Train Loss: 2.9048 | Train Accuracy: 0.3572\n"
     ]
    },
    {
     "data": {
      "application/vnd.jupyter.widget-view+json": {
       "model_id": "95a7ba4dcfe2405b88edb63383988d57",
       "version_major": 2,
       "version_minor": 0
      },
      "text/plain": [
       "Validation:   0%|          | 0/1038 [00:00<?, ?it/s]"
      ]
     },
     "metadata": {},
     "output_type": "display_data"
    },
    {
     "name": "stdout",
     "output_type": "stream",
     "text": [
      "09/01/2023, 20:22:23# labels of Validation: tensor([151,  84,  36,  31,  66,   3,  69, 160,  30, 145, 162,  95, 102,   4,\n",
      "         60, 165], device='cuda:0') torch.Size([16])\n",
      "09/01/2023, 20:22:23# predicted of Validation: tensor([116,  84, 116, 116, 161,   3,  69, 101, 116, 145, 116,  95, 116, 116,\n",
      "        116, 165], device='cuda:0') torch.Size([16])\n",
      "09/01/2023, 20:22:23# labels of 0: tensor([151,  84,  36,  31,  66,   3,  69, 160,  30, 145, 162,  95, 102,   4,\n",
      "         60, 165], device='cuda:0') torch.Size([16])\n",
      "09/01/2023, 20:22:23# predicted of 0: tensor([116,  84, 116, 116, 161,   3,  69, 101, 116, 145, 116,  95, 116, 116,\n",
      "        116, 165], device='cuda:0') torch.Size([16])\n",
      "09/01/2023, 20:22:47# labels of Validation: tensor([124, 122,  40,  10,  41,  57,  72,  16,  11, 122,  66, 135,  38,  76,\n",
      "         49, 113], device='cuda:0') torch.Size([16])\n",
      "09/01/2023, 20:22:47# predicted of Validation: tensor([116, 122,  40, 116, 116, 116, 126,  16, 116, 122, 161, 116, 116, 116,\n",
      "        116, 101], device='cuda:0') torch.Size([16])\n",
      "09/01/2023, 20:22:48# Validation Loss: 2.8701 | Validation Accuracy: 0.3662\n",
      "\n",
      "09/01/2023, 20:22:48# Find a better model!!\n"
     ]
    },
    {
     "data": {
      "application/vnd.jupyter.widget-view+json": {
       "model_id": "0d37afe161ed49018a461b1fcdd86f92",
       "version_major": 2,
       "version_minor": 0
      },
      "text/plain": [
       "Training:   0%|          | 0/8300 [00:00<?, ?it/s]"
      ]
     },
     "metadata": {},
     "output_type": "display_data"
    },
    {
     "name": "stdout",
     "output_type": "stream",
     "text": [
      "09/01/2023, 20:25:35# labels of 5000: tensor([ 83,  84,  78, 160,   0, 108, 121,  55, 100,  53, 101,  98, 156,   9,\n",
      "        127,   6], device='cuda:0') torch.Size([16])\n",
      "09/01/2023, 20:25:35# predicted of 5000: tensor([ 97,  84,  78, 132,   0, 132, 112,  97, 132,  97, 132,  97, 156,  97,\n",
      "        127, 132], device='cuda:0') torch.Size([16])\n",
      "09/01/2023, 20:27:29# total batches: 8300\n",
      "09/01/2023, 20:27:29# Epoch 11 | Train Loss: 2.8856 | Train Accuracy: 0.3603\n"
     ]
    },
    {
     "data": {
      "application/vnd.jupyter.widget-view+json": {
       "model_id": "1f8f8b3c6e7e40cebf01634c096683ed",
       "version_major": 2,
       "version_minor": 0
      },
      "text/plain": [
       "Validation:   0%|          | 0/1038 [00:00<?, ?it/s]"
      ]
     },
     "metadata": {},
     "output_type": "display_data"
    },
    {
     "name": "stdout",
     "output_type": "stream",
     "text": [
      "09/01/2023, 20:27:29# labels of Validation: tensor([ 68, 139,   5,  24, 151,  73,  69,  17,  21,  32, 123, 114,  31, 113,\n",
      "         58, 142], device='cuda:0') torch.Size([16])\n",
      "09/01/2023, 20:27:29# predicted of Validation: tensor([ 77,  75,   5,  75,  75,  73,  69,  17,  51,  32, 123,  77,  75,  77,\n",
      "         75,  75], device='cuda:0') torch.Size([16])\n",
      "09/01/2023, 20:27:29# labels of 0: tensor([ 68, 139,   5,  24, 151,  73,  69,  17,  21,  32, 123, 114,  31, 113,\n",
      "         58, 142], device='cuda:0') torch.Size([16])\n",
      "09/01/2023, 20:27:29# predicted of 0: tensor([ 77,  75,   5,  75,  75,  73,  69,  17,  51,  32, 123,  77,  75,  77,\n",
      "         75,  75], device='cuda:0') torch.Size([16])\n",
      "09/01/2023, 20:27:53# labels of Validation: tensor([ 90,  77,  76,  21, 144, 140, 165,  33,  19, 108, 152,   0, 128,  23,\n",
      "          5,  79], device='cuda:0') torch.Size([16])\n",
      "09/01/2023, 20:27:53# predicted of Validation: tensor([ 77,  51,  75,  51,  75, 140, 165,  75,  75,  28,  75,   0, 128,  23,\n",
      "          5,  45], device='cuda:0') torch.Size([16])\n",
      "09/01/2023, 20:27:54# Validation Loss: 2.8503 | Validation Accuracy: 0.3730\n",
      "\n",
      "09/01/2023, 20:27:54# Find a better model!!\n"
     ]
    },
    {
     "data": {
      "application/vnd.jupyter.widget-view+json": {
       "model_id": "1823160cf3cc4ba9bc2b26709f4dedf8",
       "version_major": 2,
       "version_minor": 0
      },
      "text/plain": [
       "Training:   0%|          | 0/8300 [00:00<?, ?it/s]"
      ]
     },
     "metadata": {},
     "output_type": "display_data"
    },
    {
     "name": "stdout",
     "output_type": "stream",
     "text": [
      "09/01/2023, 20:30:50# labels of 5000: tensor([ 77,  32,  10,  42, 102,  12,   7,  28,   5,  87,  55,   4,  21, 165,\n",
      "          3,  17], device='cuda:0') torch.Size([16])\n",
      "09/01/2023, 20:30:50# predicted of 5000: tensor([ 64,  32, 125, 144,  64,  43,   7, 132,   5,  64, 144,  43,  77, 165,\n",
      "          3,  17], device='cuda:0') torch.Size([16])\n",
      "09/01/2023, 20:32:45# total batches: 8300\n",
      "09/01/2023, 20:32:45# Epoch 12 | Train Loss: 2.8684 | Train Accuracy: 0.3617\n"
     ]
    },
    {
     "data": {
      "application/vnd.jupyter.widget-view+json": {
       "model_id": "bc4319634d8f46308dde1a329f07480c",
       "version_major": 2,
       "version_minor": 0
      },
      "text/plain": [
       "Validation:   0%|          | 0/1038 [00:00<?, ?it/s]"
      ]
     },
     "metadata": {},
     "output_type": "display_data"
    },
    {
     "name": "stdout",
     "output_type": "stream",
     "text": [
      "09/01/2023, 20:32:45# labels of Validation: tensor([ 53, 130, 152, 143, 144, 154, 135,  50, 122,   3, 107, 162,  84,   1,\n",
      "         35,  55], device='cuda:0') torch.Size([16])\n",
      "09/01/2023, 20:32:45# predicted of Validation: tensor([ 14, 130,  14,  14,  14, 154,  14,  50, 122,   3, 131,  14,  84,  14,\n",
      "         35,  14], device='cuda:0') torch.Size([16])\n",
      "09/01/2023, 20:32:45# labels of 0: tensor([ 53, 130, 152, 143, 144, 154, 135,  50, 122,   3, 107, 162,  84,   1,\n",
      "         35,  55], device='cuda:0') torch.Size([16])\n",
      "09/01/2023, 20:32:45# predicted of 0: tensor([ 14, 130,  14,  14,  14, 154,  14,  50, 122,   3, 131,  14,  84,  14,\n",
      "         35,  14], device='cuda:0') torch.Size([16])\n",
      "09/01/2023, 20:33:09# labels of Validation: tensor([127, 152, 100,  37,  48, 147,  10, 124, 135,  37, 132,  52, 133, 148,\n",
      "        160, 143], device='cuda:0') torch.Size([16])\n",
      "09/01/2023, 20:33:09# predicted of Validation: tensor([127,  14, 131, 131,  14, 147,  14,  14,  14, 131, 132,  52, 131, 131,\n",
      "        131,  14], device='cuda:0') torch.Size([16])\n",
      "09/01/2023, 20:33:10# Validation Loss: 2.8362 | Validation Accuracy: 0.3681\n",
      "\n",
      "09/01/2023, 20:33:10# Find a better model!!\n"
     ]
    },
    {
     "data": {
      "application/vnd.jupyter.widget-view+json": {
       "model_id": "d5f3f5ff7b244592837373c836987fdb",
       "version_major": 2,
       "version_minor": 0
      },
      "text/plain": [
       "Training:   0%|          | 0/8300 [00:00<?, ?it/s]"
      ]
     },
     "metadata": {},
     "output_type": "display_data"
    },
    {
     "name": "stdout",
     "output_type": "stream",
     "text": [
      "09/01/2023, 20:36:06# labels of 5000: tensor([ 18, 162,   9, 157, 134,  94,  19, 129,  83, 152, 136,   7,  10,  92,\n",
      "         70, 117], device='cuda:0') torch.Size([16])\n",
      "09/01/2023, 20:36:06# predicted of 5000: tensor([ 20, 157,  38,  90, 134,  40,  43,  37,  43,  43, 136,   7, 157,  38,\n",
      "         70,  62], device='cuda:0') torch.Size([16])\n",
      "09/01/2023, 20:37:59# total batches: 8300\n",
      "09/01/2023, 20:37:59# Epoch 13 | Train Loss: 2.8538 | Train Accuracy: 0.3640\n"
     ]
    },
    {
     "data": {
      "application/vnd.jupyter.widget-view+json": {
       "model_id": "f03f486c430a4a55a80229d0c48ab609",
       "version_major": 2,
       "version_minor": 0
      },
      "text/plain": [
       "Validation:   0%|          | 0/1038 [00:00<?, ?it/s]"
      ]
     },
     "metadata": {},
     "output_type": "display_data"
    },
    {
     "name": "stdout",
     "output_type": "stream",
     "text": [
      "09/01/2023, 20:38:00# labels of Validation: tensor([ 12,  27,  23, 117,  55, 126,   0,  80,  28,  32, 147, 147,  57,  41,\n",
      "        122, 110], device='cuda:0') torch.Size([16])\n",
      "09/01/2023, 20:38:00# predicted of Validation: tensor([ 26,  27,  23, 117,  26, 126,   0,  80, 132,  32, 147, 147,  26,  26,\n",
      "        122,  51], device='cuda:0') torch.Size([16])\n",
      "09/01/2023, 20:38:00# labels of 0: tensor([ 12,  27,  23, 117,  55, 126,   0,  80,  28,  32, 147, 147,  57,  41,\n",
      "        122, 110], device='cuda:0') torch.Size([16])\n",
      "09/01/2023, 20:38:00# predicted of 0: tensor([ 26,  27,  23, 117,  26, 126,   0,  80, 132,  32, 147, 147,  26,  26,\n",
      "        122,  51], device='cuda:0') torch.Size([16])\n",
      "09/01/2023, 20:38:23# labels of Validation: tensor([ 65, 163,  68, 116, 108, 125,  55,  17,  68,  92, 145,  11, 105,   0,\n",
      "        132, 158], device='cuda:0') torch.Size([16])\n",
      "09/01/2023, 20:38:23# predicted of Validation: tensor([ 26,  26,  51,  26, 132,  26,  26,  17,  51,  26, 145,  26, 105,   0,\n",
      "        132,  26], device='cuda:0') torch.Size([16])\n",
      "09/01/2023, 20:38:24# Validation Loss: 2.8251 | Validation Accuracy: 0.3692\n",
      "\n",
      "09/01/2023, 20:38:24# Find a better model!!\n"
     ]
    },
    {
     "data": {
      "application/vnd.jupyter.widget-view+json": {
       "model_id": "ebcdd1ba502c41c895ab7181cdfa2b9d",
       "version_major": 2,
       "version_minor": 0
      },
      "text/plain": [
       "Training:   0%|          | 0/8300 [00:00<?, ?it/s]"
      ]
     },
     "metadata": {},
     "output_type": "display_data"
    },
    {
     "name": "stdout",
     "output_type": "stream",
     "text": [
      "09/01/2023, 20:41:19# labels of 5000: tensor([120, 147,  68,  65,  61, 127, 130,  40,  80,  25, 163, 166,  85,  34,\n",
      "         94,  13], device='cuda:0') torch.Size([16])\n",
      "09/01/2023, 20:41:19# predicted of 5000: tensor([120, 147,  66, 161,  61, 127, 130,  40,  80,  25, 107, 161,  85, 119,\n",
      "         94,  13], device='cuda:0') torch.Size([16])\n",
      "09/01/2023, 20:43:13# total batches: 8300\n",
      "09/01/2023, 20:43:13# Epoch 14 | Train Loss: 2.8423 | Train Accuracy: 0.3665\n"
     ]
    },
    {
     "data": {
      "application/vnd.jupyter.widget-view+json": {
       "model_id": "5e476479bfad4a6296188ac923f7ad3f",
       "version_major": 2,
       "version_minor": 0
      },
      "text/plain": [
       "Validation:   0%|          | 0/1038 [00:00<?, ?it/s]"
      ]
     },
     "metadata": {},
     "output_type": "display_data"
    },
    {
     "name": "stdout",
     "output_type": "stream",
     "text": [
      "09/01/2023, 20:43:14# labels of Validation: tensor([ 43, 122,  39,  21,  81,  57, 137,  74,  38, 161, 144,   4,   2, 120,\n",
      "        128, 153], device='cuda:0') torch.Size([16])\n",
      "09/01/2023, 20:43:14# predicted of Validation: tensor([151, 122,  39, 161, 151, 151, 151, 151, 151, 161, 151, 151, 151, 120,\n",
      "        128, 151], device='cuda:0') torch.Size([16])\n",
      "09/01/2023, 20:43:14# labels of 0: tensor([ 43, 122,  39,  21,  81,  57, 137,  74,  38, 161, 144,   4,   2, 120,\n",
      "        128, 153], device='cuda:0') torch.Size([16])\n",
      "09/01/2023, 20:43:14# predicted of 0: tensor([151, 122,  39, 161, 151, 151, 151, 151, 151, 161, 151, 151, 151, 120,\n",
      "        128, 151], device='cuda:0') torch.Size([16])\n",
      "09/01/2023, 20:43:36# labels of Validation: tensor([ 26,  85,  34,  44, 140,  75, 144, 147,   0,  79,  47,  44, 163,  19,\n",
      "        136, 104], device='cuda:0') torch.Size([16])\n",
      "09/01/2023, 20:43:36# predicted of Validation: tensor([151,  85, 151, 151, 140, 151, 151, 147,   0,  79, 151, 151, 151, 151,\n",
      "        136, 151], device='cuda:0') torch.Size([16])\n",
      "09/01/2023, 20:43:37# Validation Loss: 2.8150 | Validation Accuracy: 0.3697\n",
      "\n",
      "09/01/2023, 20:43:37# Find a better model!!\n"
     ]
    },
    {
     "data": {
      "application/vnd.jupyter.widget-view+json": {
       "model_id": "5f7ccbe817574b758fe56373cd9dbb03",
       "version_major": 2,
       "version_minor": 0
      },
      "text/plain": [
       "Training:   0%|          | 0/8300 [00:00<?, ?it/s]"
      ]
     },
     "metadata": {},
     "output_type": "display_data"
    },
    {
     "name": "stdout",
     "output_type": "stream",
     "text": [
      "09/01/2023, 20:46:32# labels of 5000: tensor([161,  82, 150,  33,  44,  31,  25,  49, 145,  74,  11,  43, 105,  63,\n",
      "        165, 161], device='cuda:0') torch.Size([16])\n",
      "09/01/2023, 20:46:32# predicted of 5000: tensor([ 28,  82,  12, 148, 112,  97,  25, 100, 145, 148, 116,   9, 105,  93,\n",
      "        165,  28], device='cuda:0') torch.Size([16])\n",
      "09/01/2023, 20:48:27# total batches: 8300\n",
      "09/01/2023, 20:48:27# Epoch 15 | Train Loss: 2.8335 | Train Accuracy: 0.3675\n"
     ]
    },
    {
     "data": {
      "application/vnd.jupyter.widget-view+json": {
       "model_id": "214b31a541bf43579951865f62066094",
       "version_major": 2,
       "version_minor": 0
      },
      "text/plain": [
       "Validation:   0%|          | 0/1038 [00:00<?, ?it/s]"
      ]
     },
     "metadata": {},
     "output_type": "display_data"
    },
    {
     "name": "stdout",
     "output_type": "stream",
     "text": [
      "09/01/2023, 20:48:27# labels of Validation: tensor([107,  44,  25, 119,  69,  28, 142, 129,  84,   1,  31,  70, 154,   6,\n",
      "         15, 124], device='cuda:0') torch.Size([16])\n",
      "09/01/2023, 20:48:27# predicted of Validation: tensor([108,  71,  25,  71,  69, 161,  71, 108,  84,  71,  71,  70, 154, 161,\n",
      "         15,  71], device='cuda:0') torch.Size([16])\n",
      "09/01/2023, 20:48:27# labels of 0: tensor([107,  44,  25, 119,  69,  28, 142, 129,  84,   1,  31,  70, 154,   6,\n",
      "         15, 124], device='cuda:0') torch.Size([16])\n",
      "09/01/2023, 20:48:27# predicted of 0: tensor([108,  71,  25,  71,  69, 161,  71, 108,  84,  71,  71,  70, 154, 161,\n",
      "         15,  71], device='cuda:0') torch.Size([16])\n",
      "09/01/2023, 20:48:51# labels of Validation: tensor([ 24, 136, 131,   4,  15,  89, 136, 136, 123, 118,  86,  13, 119,  90,\n",
      "         39, 157], device='cuda:0') torch.Size([16])\n",
      "09/01/2023, 20:48:51# predicted of Validation: tensor([ 71, 136, 161,  71,  15,  89, 136, 136, 123, 118,  71,  13,  71, 108,\n",
      "         39,  71], device='cuda:0') torch.Size([16])\n",
      "09/01/2023, 20:48:52# Validation Loss: 2.8069 | Validation Accuracy: 0.3697\n",
      "\n",
      "09/01/2023, 20:48:52# Find a better model!!\n"
     ]
    },
    {
     "data": {
      "application/vnd.jupyter.widget-view+json": {
       "model_id": "285ac8a16cc44e7dbf7b3765917be86a",
       "version_major": 2,
       "version_minor": 0
      },
      "text/plain": [
       "Training:   0%|          | 0/8300 [00:00<?, ?it/s]"
      ]
     },
     "metadata": {},
     "output_type": "display_data"
    },
    {
     "name": "stdout",
     "output_type": "stream",
     "text": [
      "09/01/2023, 20:51:50# labels of 5000: tensor([135,  34,   0,   1,   3, 129, 141, 128,  88, 110,  97,  39,  19, 161,\n",
      "          5,  19], device='cuda:0') torch.Size([16])\n",
      "09/01/2023, 20:51:50# predicted of 5000: tensor([116,  43,   0, 158,   3, 101, 101, 128, 101, 101, 112,  39,  43, 132,\n",
      "          5,  76], device='cuda:0') torch.Size([16])\n",
      "09/01/2023, 20:53:43# total batches: 8300\n",
      "09/01/2023, 20:53:43# Epoch 16 | Train Loss: 2.8256 | Train Accuracy: 0.3691\n"
     ]
    },
    {
     "data": {
      "application/vnd.jupyter.widget-view+json": {
       "model_id": "2789cfb934c840ca80b7a537de2e239c",
       "version_major": 2,
       "version_minor": 0
      },
      "text/plain": [
       "Validation:   0%|          | 0/1038 [00:00<?, ?it/s]"
      ]
     },
     "metadata": {},
     "output_type": "display_data"
    },
    {
     "name": "stdout",
     "output_type": "stream",
     "text": [
      "09/01/2023, 20:53:43# labels of Validation: tensor([143,  86, 130,  62, 160,   7,  18,  47,  38,  33, 124, 118,  66,  79,\n",
      "        150,  88], device='cuda:0') torch.Size([16])\n",
      "09/01/2023, 20:53:43# predicted of Validation: tensor([ 92,  92, 130,  62,  51,   7,  92,  92,  92,  92,  92, 118, 132,  79,\n",
      "         92,  51], device='cuda:0') torch.Size([16])\n",
      "09/01/2023, 20:53:43# labels of 0: tensor([143,  86, 130,  62, 160,   7,  18,  47,  38,  33, 124, 118,  66,  79,\n",
      "        150,  88], device='cuda:0') torch.Size([16])\n",
      "09/01/2023, 20:53:43# predicted of 0: tensor([ 92,  92, 130,  62,  51,   7,  92,  92,  92,  92,  92, 118, 132,  79,\n",
      "         92,  51], device='cuda:0') torch.Size([16])\n",
      "09/01/2023, 20:54:07# labels of Validation: tensor([124, 161, 106, 165, 103,  47, 148, 116,  20,  27, 144,  92,  53,  69,\n",
      "        143, 123], device='cuda:0') torch.Size([16])\n",
      "09/01/2023, 20:54:07# predicted of Validation: tensor([ 92, 132, 106, 165,  51,  92,  51,  92,  92,  27,  92,  92,  92,  69,\n",
      "         92, 123], device='cuda:0') torch.Size([16])\n",
      "09/01/2023, 20:54:07# Validation Loss: 2.7988 | Validation Accuracy: 0.3705\n",
      "\n",
      "09/01/2023, 20:54:07# Find a better model!!\n"
     ]
    },
    {
     "data": {
      "application/vnd.jupyter.widget-view+json": {
       "model_id": "515687ef0fc8414e8672fc11e313dab1",
       "version_major": 2,
       "version_minor": 0
      },
      "text/plain": [
       "Training:   0%|          | 0/8300 [00:00<?, ?it/s]"
      ]
     },
     "metadata": {},
     "output_type": "display_data"
    },
    {
     "name": "stdout",
     "output_type": "stream",
     "text": [
      "09/01/2023, 20:57:05# labels of 5000: tensor([154,  97,  64,  73,  37,  53, 108,   5, 136, 117,  17,   0,   9,  38,\n",
      "         32,  73], device='cuda:0') torch.Size([16])\n",
      "09/01/2023, 20:57:05# predicted of 5000: tensor([154,  92, 131,  73, 131,  24, 132,   5, 136, 117,  17,   0,  92,  92,\n",
      "         32,  73], device='cuda:0') torch.Size([16])\n",
      "09/01/2023, 20:59:00# total batches: 8300\n",
      "09/01/2023, 20:59:00# Epoch 17 | Train Loss: 2.8180 | Train Accuracy: 0.3697\n"
     ]
    },
    {
     "data": {
      "application/vnd.jupyter.widget-view+json": {
       "model_id": "3bfd600bcd5d4c2ca93032c95c6b775c",
       "version_major": 2,
       "version_minor": 0
      },
      "text/plain": [
       "Validation:   0%|          | 0/1038 [00:00<?, ?it/s]"
      ]
     },
     "metadata": {},
     "output_type": "display_data"
    },
    {
     "name": "stdout",
     "output_type": "stream",
     "text": [
      "09/01/2023, 20:59:00# labels of Validation: tensor([ 38, 100,  80, 138, 154, 132,  57, 103,  47,  12, 157, 110,  61, 117,\n",
      "         88, 147], device='cuda:0') torch.Size([16])\n",
      "09/01/2023, 20:59:00# predicted of Validation: tensor([ 54, 113,  80, 138, 154, 132,  54, 113,  54,  54,  54, 113,  61, 117,\n",
      "        113, 147], device='cuda:0') torch.Size([16])\n",
      "09/01/2023, 20:59:00# labels of 0: tensor([ 38, 100,  80, 138, 154, 132,  57, 103,  47,  12, 157, 110,  61, 117,\n",
      "         88, 147], device='cuda:0') torch.Size([16])\n",
      "09/01/2023, 20:59:00# predicted of 0: tensor([ 54, 113,  80, 138, 154, 132,  54, 113,  54,  54,  54, 113,  61, 117,\n",
      "        113, 147], device='cuda:0') torch.Size([16])\n",
      "09/01/2023, 20:59:24# labels of Validation: tensor([ 70,  65,  84,  86,  23,  49,  51,  54, 155, 119, 122, 134,  72, 162,\n",
      "         87, 137], device='cuda:0') torch.Size([16])\n",
      "09/01/2023, 20:59:24# predicted of Validation: tensor([ 70,  54,  84,  54,  23,  54, 132,  54, 132,  54, 122, 134,  72,  54,\n",
      "         54,  54], device='cuda:0') torch.Size([16])\n",
      "09/01/2023, 20:59:25# Validation Loss: 2.7940 | Validation Accuracy: 0.3769\n",
      "\n",
      "09/01/2023, 20:59:25# Find a better model!!\n"
     ]
    },
    {
     "data": {
      "application/vnd.jupyter.widget-view+json": {
       "model_id": "821c50fddcb04839a74ac1f8f8f5104d",
       "version_major": 2,
       "version_minor": 0
      },
      "text/plain": [
       "Training:   0%|          | 0/8300 [00:00<?, ?it/s]"
      ]
     },
     "metadata": {},
     "output_type": "display_data"
    },
    {
     "name": "stdout",
     "output_type": "stream",
     "text": [
      "09/01/2023, 21:02:22# labels of 5000: tensor([ 53,  43, 158,  98, 129,  63,  36,   2, 140,  18,  10,  14,  69,  99,\n",
      "         76,  77], device='cuda:0') torch.Size([16])\n",
      "09/01/2023, 21:02:22# predicted of 5000: tensor([ 47, 121,   9, 141, 161, 141,   9, 121, 140, 100, 121,   9,  69,  99,\n",
      "          9, 161], device='cuda:0') torch.Size([16])\n",
      "09/01/2023, 21:04:17# total batches: 8300\n",
      "09/01/2023, 21:04:17# Epoch 18 | Train Loss: 2.8117 | Train Accuracy: 0.3705\n"
     ]
    },
    {
     "data": {
      "application/vnd.jupyter.widget-view+json": {
       "model_id": "e6fa12a0dd6546c8afc354b39f5b78f3",
       "version_major": 2,
       "version_minor": 0
      },
      "text/plain": [
       "Validation:   0%|          | 0/1038 [00:00<?, ?it/s]"
      ]
     },
     "metadata": {},
     "output_type": "display_data"
    },
    {
     "name": "stdout",
     "output_type": "stream",
     "text": [
      "09/01/2023, 21:04:17# labels of Validation: tensor([160,  63,  88,  63,  53,  13,   6,  99, 134,  17,  40,  74,  47, 121,\n",
      "         42,  97], device='cuda:0') torch.Size([16])\n",
      "09/01/2023, 21:04:17# predicted of Validation: tensor([ 66, 111,  66, 111, 111,  13, 132,  99, 134,  17,  40, 111, 111, 111,\n",
      "        111, 111], device='cuda:0') torch.Size([16])\n",
      "09/01/2023, 21:04:17# labels of 0: tensor([160,  63,  88,  63,  53,  13,   6,  99, 134,  17,  40,  74,  47, 121,\n",
      "         42,  97], device='cuda:0') torch.Size([16])\n",
      "09/01/2023, 21:04:17# predicted of 0: tensor([ 66, 111,  66, 111, 111,  13, 132,  99, 134,  17,  40, 111, 111, 111,\n",
      "        111, 111], device='cuda:0') torch.Size([16])\n",
      "09/01/2023, 21:04:41# labels of Validation: tensor([ 71,  81, 124,   8, 124, 159, 106,  33, 159, 126, 123, 102,  68,  33,\n",
      "         53,  16], device='cuda:0') torch.Size([16])\n",
      "09/01/2023, 21:04:41# predicted of Validation: tensor([111, 111, 111,  66, 111, 159, 106, 111, 159, 126, 123, 111,  66, 111,\n",
      "        111,  16], device='cuda:0') torch.Size([16])\n",
      "09/01/2023, 21:04:42# Validation Loss: 2.7882 | Validation Accuracy: 0.3707\n",
      "\n",
      "09/01/2023, 21:04:42# Find a better model!!\n"
     ]
    },
    {
     "data": {
      "application/vnd.jupyter.widget-view+json": {
       "model_id": "8047a7dc19cf4d43894f70daf818ca0b",
       "version_major": 2,
       "version_minor": 0
      },
      "text/plain": [
       "Training:   0%|          | 0/8300 [00:00<?, ?it/s]"
      ]
     },
     "metadata": {},
     "output_type": "display_data"
    },
    {
     "name": "stdout",
     "output_type": "stream",
     "text": [
      "09/01/2023, 21:07:37# labels of 5000: tensor([109, 159, 126,   3,  34, 136,  20,  63,  89,  80,  45, 160, 143, 132,\n",
      "         82, 107], device='cuda:0') torch.Size([16])\n",
      "09/01/2023, 21:07:37# predicted of 5000: tensor([ 81, 159, 126,   3,  57, 136,  42,  21,  89,  80,  45,  21,  57, 161,\n",
      "         82,   6], device='cuda:0') torch.Size([16])\n",
      "09/01/2023, 21:09:33# total batches: 8300\n",
      "09/01/2023, 21:09:33# Epoch 19 | Train Loss: 2.8065 | Train Accuracy: 0.3710\n"
     ]
    },
    {
     "data": {
      "application/vnd.jupyter.widget-view+json": {
       "model_id": "223a62190a064ae396123cd048992820",
       "version_major": 2,
       "version_minor": 0
      },
      "text/plain": [
       "Validation:   0%|          | 0/1038 [00:00<?, ?it/s]"
      ]
     },
     "metadata": {},
     "output_type": "display_data"
    },
    {
     "name": "stdout",
     "output_type": "stream",
     "text": [
      "09/01/2023, 21:09:33# labels of Validation: tensor([ 76, 130, 146, 149,  52, 116,   1,  61, 134,  99, 140,  25, 147,  12,\n",
      "        130,  74], device='cuda:0') torch.Size([16])\n",
      "09/01/2023, 21:09:33# predicted of Validation: tensor([ 92, 130, 146, 149,  52,  92,  92,  61, 134,  99, 140,  25, 147,  92,\n",
      "        130,  92], device='cuda:0') torch.Size([16])\n",
      "09/01/2023, 21:09:33# labels of 0: tensor([ 76, 130, 146, 149,  52, 116,   1,  61, 134,  99, 140,  25, 147,  12,\n",
      "        130,  74], device='cuda:0') torch.Size([16])\n",
      "09/01/2023, 21:09:33# predicted of 0: tensor([ 92, 130, 146, 149,  52,  92,  92,  61, 134,  99, 140,  25, 147,  92,\n",
      "        130,  92], device='cuda:0') torch.Size([16])\n",
      "09/01/2023, 21:09:57# labels of Validation: tensor([ 87, 109,  51, 132, 140, 113,  11,  77, 114,  24,  41, 115, 101, 128,\n",
      "        107,  10], device='cuda:0') torch.Size([16])\n",
      "09/01/2023, 21:09:57# predicted of Validation: tensor([ 92,  92, 132, 132, 140, 155,  92, 132, 155,  92,  92, 115, 132, 128,\n",
      "        155,  92], device='cuda:0') torch.Size([16])\n",
      "09/01/2023, 21:09:58# Validation Loss: 2.7830 | Validation Accuracy: 0.3711\n",
      "\n",
      "09/01/2023, 21:09:58# Find a better model!!\n"
     ]
    },
    {
     "data": {
      "application/vnd.jupyter.widget-view+json": {
       "model_id": "c9b06c5794ed4c138364d0ce1badabbf",
       "version_major": 2,
       "version_minor": 0
      },
      "text/plain": [
       "Training:   0%|          | 0/8300 [00:00<?, ?it/s]"
      ]
     },
     "metadata": {},
     "output_type": "display_data"
    },
    {
     "name": "stdout",
     "output_type": "stream",
     "text": [
      "09/01/2023, 21:12:53# labels of 5000: tensor([ 69,  74,  60,  65, 120,  97,  23, 158, 148,  23,  44, 111,  48, 133,\n",
      "        147, 113], device='cuda:0') torch.Size([16])\n",
      "09/01/2023, 21:12:53# predicted of 5000: tensor([ 69,  34,  74, 132, 120,  74,  23,  34,  51,  23, 101,  74,  74, 101,\n",
      "        147,  51], device='cuda:0') torch.Size([16])\n",
      "09/01/2023, 21:14:51# total batches: 8300\n",
      "09/01/2023, 21:14:51# Epoch 20 | Train Loss: 2.8021 | Train Accuracy: 0.3718\n"
     ]
    },
    {
     "data": {
      "application/vnd.jupyter.widget-view+json": {
       "model_id": "7d98b2e9c77d4cfba5b129280c594fab",
       "version_major": 2,
       "version_minor": 0
      },
      "text/plain": [
       "Validation:   0%|          | 0/1038 [00:00<?, ?it/s]"
      ]
     },
     "metadata": {},
     "output_type": "display_data"
    },
    {
     "name": "stdout",
     "output_type": "stream",
     "text": [
      "09/01/2023, 21:14:51# labels of Validation: tensor([ 41,  80, 166,  67,   5, 144, 148, 141,  57,  44,  14,  31, 105, 124,\n",
      "        134, 110], device='cuda:0') torch.Size([16])\n",
      "09/01/2023, 21:14:51# predicted of Validation: tensor([ 60,  80,  66,  67,   5,  60,  66,  66,  60,  60,  60,  60, 105,  60,\n",
      "        134,  66], device='cuda:0') torch.Size([16])\n",
      "09/01/2023, 21:14:51# labels of 0: tensor([ 41,  80, 166,  67,   5, 144, 148, 141,  57,  44,  14,  31, 105, 124,\n",
      "        134, 110], device='cuda:0') torch.Size([16])\n",
      "09/01/2023, 21:14:51# predicted of 0: tensor([ 60,  80,  66,  67,   5,  60,  66,  66,  60,  60,  60,  60, 105,  60,\n",
      "        134,  66], device='cuda:0') torch.Size([16])\n",
      "09/01/2023, 21:15:15# labels of Validation: tensor([133,  77,  24,  26, 111, 110,  74,  21,   6, 107, 119,  43,   4,  38,\n",
      "         73,  70], device='cuda:0') torch.Size([16])\n",
      "09/01/2023, 21:15:15# predicted of Validation: tensor([ 66,  66,  60,  60,  60,  66,  60,  66, 161,  66,  60,  60,  60,  60,\n",
      "         73,  70], device='cuda:0') torch.Size([16])\n",
      "09/01/2023, 21:15:16# Validation Loss: 2.7795 | Validation Accuracy: 0.3716\n",
      "\n",
      "09/01/2023, 21:15:16# Find a better model!!\n"
     ]
    },
    {
     "data": {
      "application/vnd.jupyter.widget-view+json": {
       "model_id": "c5133150140e4592ad309bf5a0945613",
       "version_major": 2,
       "version_minor": 0
      },
      "text/plain": [
       "Training:   0%|          | 0/8300 [00:00<?, ?it/s]"
      ]
     },
     "metadata": {},
     "output_type": "display_data"
    },
    {
     "name": "stdout",
     "output_type": "stream",
     "text": [
      "09/01/2023, 21:18:10# labels of 5000: tensor([144,  71, 161, 114, 120,  15,   8,  85, 162,  21,  90, 147,  50, 160,\n",
      "         73,  57], device='cuda:0') torch.Size([16])\n",
      "09/01/2023, 21:18:10# predicted of 5000: tensor([ 81,  87,  28, 132, 120,  15, 129,  85, 153, 132, 141, 147,  45,  91,\n",
      "         73,  86], device='cuda:0') torch.Size([16])\n",
      "09/01/2023, 21:20:08# total batches: 8300\n",
      "09/01/2023, 21:20:08# Epoch 21 | Train Loss: 2.7974 | Train Accuracy: 0.3727\n"
     ]
    },
    {
     "data": {
      "application/vnd.jupyter.widget-view+json": {
       "model_id": "083ec38756a249c19a59beec8543b6b8",
       "version_major": 2,
       "version_minor": 0
      },
      "text/plain": [
       "Validation:   0%|          | 0/1038 [00:00<?, ?it/s]"
      ]
     },
     "metadata": {},
     "output_type": "display_data"
    },
    {
     "name": "stdout",
     "output_type": "stream",
     "text": [
      "09/01/2023, 21:20:08# labels of Validation: tensor([132, 152,  76,  81,  96,  94, 115,  69,  54, 135,  90, 159,   4,  39,\n",
      "        109,  47], device='cuda:0') torch.Size([16])\n",
      "09/01/2023, 21:20:08# predicted of Validation: tensor([161, 139, 139, 139,  96,  94, 115,  69, 139, 139, 101, 159, 139,  39,\n",
      "        139, 139], device='cuda:0') torch.Size([16])\n",
      "09/01/2023, 21:20:08# labels of 0: tensor([132, 152,  76,  81,  96,  94, 115,  69,  54, 135,  90, 159,   4,  39,\n",
      "        109,  47], device='cuda:0') torch.Size([16])\n",
      "09/01/2023, 21:20:08# predicted of 0: tensor([161, 139, 139, 139,  96,  94, 115,  69, 139, 139, 101, 159, 139,  39,\n",
      "        139, 139], device='cuda:0') torch.Size([16])\n",
      "09/01/2023, 21:20:32# labels of Validation: tensor([ 32,  49, 150,  98,  32,  51, 165,  10,  25,  73, 149,  92,  77, 159,\n",
      "         99,  10], device='cuda:0') torch.Size([16])\n",
      "09/01/2023, 21:20:32# predicted of Validation: tensor([ 32, 139, 139, 139,  32, 161, 165, 139,  25,  73, 149, 139, 161, 159,\n",
      "         99, 139], device='cuda:0') torch.Size([16])\n",
      "09/01/2023, 21:20:33# Validation Loss: 2.7750 | Validation Accuracy: 0.3719\n",
      "\n",
      "09/01/2023, 21:20:33# Find a better model!!\n"
     ]
    },
    {
     "data": {
      "application/vnd.jupyter.widget-view+json": {
       "model_id": "e07b6c4bd17846a99ea0c9b7e672eaff",
       "version_major": 2,
       "version_minor": 0
      },
      "text/plain": [
       "Training:   0%|          | 0/8300 [00:00<?, ?it/s]"
      ]
     },
     "metadata": {},
     "output_type": "display_data"
    },
    {
     "name": "stdout",
     "output_type": "stream",
     "text": [
      "09/01/2023, 21:23:27# labels of 5000: tensor([130, 163,  67,  43,  50,  93, 161,  97,  46, 119,  75,  28,   1, 138,\n",
      "         90, 157], device='cuda:0') torch.Size([16])\n",
      "09/01/2023, 21:23:27# predicted of 5000: tensor([130,  46,  78,   2,  50, 161, 132,  18, 112,  12, 112, 161,  46, 138,\n",
      "        166,  46], device='cuda:0') torch.Size([16])\n",
      "09/01/2023, 21:25:23# total batches: 8300\n",
      "09/01/2023, 21:25:23# Epoch 22 | Train Loss: 2.7935 | Train Accuracy: 0.3731\n"
     ]
    },
    {
     "data": {
      "application/vnd.jupyter.widget-view+json": {
       "model_id": "b293b1322a3c4cdfa810a4f3b7c2e924",
       "version_major": 2,
       "version_minor": 0
      },
      "text/plain": [
       "Validation:   0%|          | 0/1038 [00:00<?, ?it/s]"
      ]
     },
     "metadata": {},
     "output_type": "display_data"
    },
    {
     "name": "stdout",
     "output_type": "stream",
     "text": [
      "09/01/2023, 21:25:23# labels of Validation: tensor([ 66,   1, 117,   7,   8,  56, 164,  80,  86,  23,   5, 100,  76,  95,\n",
      "         20, 144], device='cuda:0') torch.Size([16])\n",
      "09/01/2023, 21:25:23# predicted of Validation: tensor([131,  49, 117,   7, 131,  56,  49,  80,  49,  23,   5, 131,  49,  95,\n",
      "         49,  49], device='cuda:0') torch.Size([16])\n",
      "09/01/2023, 21:25:23# labels of 0: tensor([ 66,   1, 117,   7,   8,  56, 164,  80,  86,  23,   5, 100,  76,  95,\n",
      "         20, 144], device='cuda:0') torch.Size([16])\n",
      "09/01/2023, 21:25:23# predicted of 0: tensor([131,  49, 117,   7, 131,  56,  49,  80,  49,  23,   5, 131,  49,  95,\n",
      "         49,  49], device='cuda:0') torch.Size([16])\n",
      "09/01/2023, 21:25:47# labels of Validation: tensor([135,  85, 125,   7, 104,  23,   6, 106,  51,  67,  80,  39,  99,  31,\n",
      "        124, 102], device='cuda:0') torch.Size([16])\n",
      "09/01/2023, 21:25:47# predicted of Validation: tensor([ 49,  85,  49,   7,  49,  23, 161, 106, 161,  67,  80,  39,  99,  49,\n",
      "         49,  49], device='cuda:0') torch.Size([16])\n",
      "09/01/2023, 21:25:47# Validation Loss: 2.7735 | Validation Accuracy: 0.3728\n",
      "\n",
      "09/01/2023, 21:25:47# Find a better model!!\n"
     ]
    },
    {
     "data": {
      "application/vnd.jupyter.widget-view+json": {
       "model_id": "7c32ce4d4ff8456da42ac4932ec1efbc",
       "version_major": 2,
       "version_minor": 0
      },
      "text/plain": [
       "Training:   0%|          | 0/8300 [00:00<?, ?it/s]"
      ]
     },
     "metadata": {},
     "output_type": "display_data"
    },
    {
     "name": "stdout",
     "output_type": "stream",
     "text": [
      "09/01/2023, 21:28:43# labels of 5000: tensor([159, 120,  66,  39, 114, 102,  75, 117,   3,  66,  23, 136, 100, 147,\n",
      "         57, 144], device='cuda:0') torch.Size([16])\n",
      "09/01/2023, 21:28:43# predicted of 5000: tensor([159, 120, 132,  39, 155, 119, 119, 117,   3, 132,  23, 136,  88, 147,\n",
      "        119, 119], device='cuda:0') torch.Size([16])\n",
      "09/01/2023, 21:30:39# total batches: 8300\n",
      "09/01/2023, 21:30:39# Epoch 23 | Train Loss: 2.7894 | Train Accuracy: 0.3735\n"
     ]
    },
    {
     "data": {
      "application/vnd.jupyter.widget-view+json": {
       "model_id": "520606e74e8f465783fa5c544d00b2dc",
       "version_major": 2,
       "version_minor": 0
      },
      "text/plain": [
       "Validation:   0%|          | 0/1038 [00:00<?, ?it/s]"
      ]
     },
     "metadata": {},
     "output_type": "display_data"
    },
    {
     "name": "stdout",
     "output_type": "stream",
     "text": [
      "09/01/2023, 21:30:39# labels of Validation: tensor([ 95, 150, 101,  35, 117,  88,  79,  73,  28, 109,  52, 122,  27,  12,\n",
      "         35,  75], device='cuda:0') torch.Size([16])\n",
      "09/01/2023, 21:30:39# predicted of Validation: tensor([ 95, 162, 155,  35, 117, 155,  79,  73,   6, 162,  52, 122,  27, 162,\n",
      "         35, 162], device='cuda:0') torch.Size([16])\n",
      "09/01/2023, 21:30:39# labels of 0: tensor([ 95, 150, 101,  35, 117,  88,  79,  73,  28, 109,  52, 122,  27,  12,\n",
      "         35,  75], device='cuda:0') torch.Size([16])\n",
      "09/01/2023, 21:30:39# predicted of 0: tensor([ 95, 162, 155,  35, 117, 155,  79,  73,   6, 162,  52, 122,  27, 162,\n",
      "         35, 162], device='cuda:0') torch.Size([16])\n",
      "09/01/2023, 21:31:03# labels of Validation: tensor([ 92, 149, 152,   4,  30,  35,  12,   7,  14,   6, 143,  19, 129,  72,\n",
      "         31,  31], device='cuda:0') torch.Size([16])\n",
      "09/01/2023, 21:31:03# predicted of Validation: tensor([162, 149, 162, 162, 162,  35, 162,   7, 162,   6, 162, 162, 155,  29,\n",
      "        162, 162], device='cuda:0') torch.Size([16])\n",
      "09/01/2023, 21:31:04# Validation Loss: 2.7687 | Validation Accuracy: 0.3786\n",
      "\n",
      "09/01/2023, 21:31:04# Find a better model!!\n"
     ]
    },
    {
     "data": {
      "application/vnd.jupyter.widget-view+json": {
       "model_id": "835e6902b87c458d91acb34662303951",
       "version_major": 2,
       "version_minor": 0
      },
      "text/plain": [
       "Training:   0%|          | 0/8300 [00:00<?, ?it/s]"
      ]
     },
     "metadata": {},
     "output_type": "display_data"
    },
    {
     "name": "stdout",
     "output_type": "stream",
     "text": [
      "09/01/2023, 21:33:54# labels of 5000: tensor([ 25,  92,  96, 152, 157, 138, 134,  15,  92,  25,  90,  34,  16,  82,\n",
      "        100,  61], device='cuda:0') torch.Size([16])\n",
      "09/01/2023, 21:33:54# predicted of 5000: tensor([ 25, 124,  96, 104,  12, 138, 134,  15, 125,  25, 155,  19,  16,  82,\n",
      "         59,  61], device='cuda:0') torch.Size([16])\n",
      "09/01/2023, 21:35:48# total batches: 8300\n",
      "09/01/2023, 21:35:48# Epoch 24 | Train Loss: 2.7866 | Train Accuracy: 0.3733\n"
     ]
    },
    {
     "data": {
      "application/vnd.jupyter.widget-view+json": {
       "model_id": "8502ee6966604fb982e157d58f142362",
       "version_major": 2,
       "version_minor": 0
      },
      "text/plain": [
       "Validation:   0%|          | 0/1038 [00:00<?, ?it/s]"
      ]
     },
     "metadata": {},
     "output_type": "display_data"
    },
    {
     "name": "stdout",
     "output_type": "stream",
     "text": [
      "09/01/2023, 21:35:48# labels of Validation: tensor([153, 113,  74,  74,  39, 153,   5,  61, 162,  28,   4, 128,  71, 124,\n",
      "        100,  85], device='cuda:0') torch.Size([16])\n",
      "09/01/2023, 21:35:48# predicted of Validation: tensor([ 71, 108,  71,  71,  39,  71,   5,  61,  71, 132,  71, 128,  71,  71,\n",
      "        108,  85], device='cuda:0') torch.Size([16])\n",
      "09/01/2023, 21:35:48# labels of 0: tensor([153, 113,  74,  74,  39, 153,   5,  61, 162,  28,   4, 128,  71, 124,\n",
      "        100,  85], device='cuda:0') torch.Size([16])\n",
      "09/01/2023, 21:35:48# predicted of 0: tensor([ 71, 108,  71,  71,  39,  71,   5,  61,  71, 132,  71, 128,  71,  71,\n",
      "        108,  85], device='cuda:0') torch.Size([16])\n",
      "09/01/2023, 21:36:12# labels of Validation: tensor([ 14,  10, 165,  35, 152,  36,  48, 101, 151,  45,  98, 124,   0,  68,\n",
      "        121, 106], device='cuda:0') torch.Size([16])\n",
      "09/01/2023, 21:36:12# predicted of Validation: tensor([ 71,  71, 165,  35,  71,  71,  71, 132,  71,  45,  71,  71,   0, 108,\n",
      "         71, 106], device='cuda:0') torch.Size([16])\n",
      "09/01/2023, 21:36:13# Validation Loss: 2.7662 | Validation Accuracy: 0.3728\n",
      "\n",
      "09/01/2023, 21:36:13# Find a better model!!\n"
     ]
    }
   ],
   "source": [
    "import csv\n",
    "import pandas as pd\n",
    "from sklearn.metrics import classification_report\n",
    "from torch.optim import AdamW, lr_scheduler\n",
    "\n",
    "seed = 8787\n",
    "same_seeds(seed)\n",
    "\n",
    "model = GAT(in_dim=100, hidden_dim=16, out_dim=168, num_heads=8)\n",
    "# in_dim means the dimension of the node_feat(50 dim, since the 50-dim embedding)\n",
    "# out_dim means the # of the categories -> 168 for out tasks\n",
    "model.load_state_dict(torch.load('model1_initial/initial_weight.pth'))\n",
    "best_model_path = \"../checkpoint_GAT/best_model_GAT_transH_100.pt\"\n",
    "\n",
    "model = model.to(device)\n",
    "\n",
    "# optimizer = torch.optim.AdamW(model.parameters(), lr=1e-5)\n",
    "optimizer = AdamW(model.parameters(), lr=5e-4)\n",
    "# scheduler = get_linear_schedule_with_warmup(optimizer, num_warmup_steps=18, num_training_steps=total_steps)\n",
    "\n",
    "# T_max control the period of the lr changing -> set 1/10 first\n",
    "scheduler = lr_scheduler.CosineAnnealingLR(optimizer, T_max=36, eta_min=0, last_epoch=- 1, verbose=False)\n",
    "\n",
    "\n",
    "criterion = nn.CrossEntropyLoss()\n",
    "total_steps = 25\n",
    "\n",
    "# save the best model\n",
    "best_val_loss = float('inf')\n",
    "patience = 5  # Number of epochs with no improvement after which training will be stopped.\n",
    "waiting = 0  # The number of epochs with no improvement so far.\n",
    "\n",
    "\n",
    "# Training Part\n",
    "for epoch in tqdm(range(total_steps)):\n",
    "    # Train\n",
    "    model.train()\n",
    "    total_loss = 0.0\n",
    "    total_accuracy = 0.0\n",
    "    num_batches = 0\n",
    "    \n",
    "    for data in tqdm(dataloaders['train'], desc=\"Training\", position=0, leave=True):\n",
    "        num_batches += 1\n",
    "        loss, accuracy, _ = model_fn(data, model, criterion, device, num_batches, which_type='train')\n",
    "        \n",
    "        optimizer.zero_grad()\n",
    "        loss.backward()\n",
    "        optimizer.step()\n",
    "\n",
    "        total_loss += loss.item()\n",
    "        total_accuracy += accuracy.item()\n",
    "\n",
    "        \n",
    "#     scheduler.step()\n",
    "    add_log_msg(f\"total batches: {num_batches}\")\n",
    "\n",
    "    avg_loss = total_loss / num_batches\n",
    "    avg_accuracy = total_accuracy / num_batches\n",
    "\n",
    "    add_log_msg(f'Epoch {epoch} | Train Loss: {avg_loss:.4f} | Train Accuracy: {avg_accuracy:.4f}')\n",
    "\n",
    "    \n",
    "    # Validation Part\n",
    "    model.eval()\n",
    "    total_accuracy = 0.0\n",
    "    total_loss = 0.0\n",
    "    num_batches = 0\n",
    "\n",
    "\n",
    "    with torch.no_grad():\n",
    "        for data in tqdm(dataloaders['valid'], desc=\"Validation\", position=0, leave=True):\n",
    "            loss, accuracy, _ = model_fn(data, model, criterion, device, num_batches, which_type='validation')\n",
    "            total_accuracy += accuracy.item()\n",
    "            total_loss += loss.item()\n",
    "            num_batches += 1\n",
    "\n",
    "    avg_accuracy = total_accuracy / num_batches\n",
    "    current_loss = total_loss / num_batches\n",
    "    \n",
    "    add_log_msg(f'Validation Loss: {current_loss:.4f} | Validation Accuracy: {avg_accuracy:.4f}\\n')\n",
    "    \n",
    "            \n",
    "    if current_loss < best_val_loss:\n",
    "        best_val_loss = current_loss\n",
    "        waiting = 0\n",
    "        \n",
    "        if os.path.exists(best_model_path):\n",
    "            os.remove(best_model_path)\n",
    "            add_log_msg(\"Find a better model!!\")\n",
    "\n",
    "        torch.save(model.state_dict(), best_model_path)\n",
    "\n",
    "        \n",
    "#         print(best_model_path)\n",
    "\n",
    "    else:\n",
    "        waiting += 1\n",
    "        if waiting >= patience:\n",
    "            add_log_msg(\"============================== Early stopping ==================================\")\n",
    "            break"
   ]
  },
  {
   "cell_type": "markdown",
   "metadata": {},
   "source": [
    "### Testing Part"
   ]
  },
  {
   "cell_type": "code",
   "execution_count": 15,
   "metadata": {},
   "outputs": [
    {
     "data": {
      "application/vnd.jupyter.widget-view+json": {
       "model_id": "598623bfb9664a32add2899b00276eb5",
       "version_major": 2,
       "version_minor": 0
      },
      "text/plain": [
       "Testing:   0%|          | 0/1038 [00:00<?, ?it/s]"
      ]
     },
     "metadata": {},
     "output_type": "display_data"
    },
    {
     "name": "stdout",
     "output_type": "stream",
     "text": [
      "09/01/2023, 21:36:13# labels of Test: tensor([65, 65, 65, 65, 65, 65, 65, 65, 65, 65, 65, 65, 65, 65, 65, 65],\n",
      "       device='cuda:0') torch.Size([16])\n",
      "09/01/2023, 21:36:13# predicted of Test: tensor([71, 71, 71, 71, 71, 71, 71, 71, 71, 71, 71, 71, 71, 71, 71, 71],\n",
      "       device='cuda:0') torch.Size([16])\n",
      "09/01/2023, 21:36:13# labels of 0: tensor([65, 65, 65, 65, 65, 65, 65, 65, 65, 65, 65, 65, 65, 65, 65, 65],\n",
      "       device='cuda:0') torch.Size([16])\n",
      "09/01/2023, 21:36:13# predicted of 0: tensor([71, 71, 71, 71, 71, 71, 71, 71, 71, 71, 71, 71, 71, 71, 71, 71],\n",
      "       device='cuda:0') torch.Size([16])\n",
      "09/01/2023, 21:36:13# labels: tensor([65, 65, 65, 65, 65, 65, 65, 65, 65, 65, 65, 65, 65, 65, 65, 65],\n",
      "       device='cuda:0') torch.Size([16])\n",
      "09/01/2023, 21:36:13# predicted: tensor([71, 71, 71, 71, 71, 71, 71, 71, 71, 71, 71, 71, 71, 71, 71, 71],\n",
      "       device='cuda:0') torch.Size([16])\n",
      "09/01/2023, 21:36:36# labels of Test: tensor([162, 162, 162, 162, 162, 162, 162, 162, 162, 162, 162, 162, 162, 162,\n",
      "        162, 162], device='cuda:0') torch.Size([16])\n",
      "09/01/2023, 21:36:36# predicted of Test: tensor([71, 71, 71, 71, 71, 71, 71, 71, 71, 71, 71, 71, 71, 71, 71, 71],\n",
      "       device='cuda:0') torch.Size([16])\n",
      "09/01/2023, 21:36:37# Test Accuracy: 37.2710843373494 %\n",
      "\n",
      "\n",
      "\n"
     ]
    },
    {
     "name": "stderr",
     "output_type": "stream",
     "text": [
      "/workdir/home/euni/.local/lib/python3.6/site-packages/sklearn/metrics/_classification.py:1248: UndefinedMetricWarning: Precision and F-score are ill-defined and being set to 0.0 in labels with no predicted samples. Use `zero_division` parameter to control this behavior.\n",
      "  _warn_prf(average, modifier, msg_start, len(result))\n",
      "/workdir/home/euni/.local/lib/python3.6/site-packages/sklearn/metrics/_classification.py:1248: UndefinedMetricWarning: Precision and F-score are ill-defined and being set to 0.0 in labels with no predicted samples. Use `zero_division` parameter to control this behavior.\n",
      "  _warn_prf(average, modifier, msg_start, len(result))\n",
      "/workdir/home/euni/.local/lib/python3.6/site-packages/sklearn/metrics/_classification.py:1248: UndefinedMetricWarning: Precision and F-score are ill-defined and being set to 0.0 in labels with no predicted samples. Use `zero_division` parameter to control this behavior.\n",
      "  _warn_prf(average, modifier, msg_start, len(result))\n"
     ]
    },
    {
     "name": "stdout",
     "output_type": "stream",
     "text": [
      "09/01/2023, 21:36:47# report path: classification_report/classification_report-transH_100-0.xlsx\n",
      "09/01/2023, 21:36:47# label path: classification_report/mapped_true_predicted_labels-transH_100-0.xlsx\n"
     ]
    },
    {
     "name": "stderr",
     "output_type": "stream",
     "text": [
      "/workdir/home/euni/.local/lib/python3.6/site-packages/sklearn/metrics/_classification.py:1248: UndefinedMetricWarning: Precision and F-score are ill-defined and being set to 0.0 in labels with no predicted samples. Use `zero_division` parameter to control this behavior.\n",
      "  _warn_prf(average, modifier, msg_start, len(result))\n"
     ]
    },
    {
     "name": "stdout",
     "output_type": "stream",
     "text": [
      "09/01/2023, 21:36:48# mapped_report:\n",
      "                                                precision    recall  f1-score   support\n",
      "\n",
      "T1003.001_0ef4cc7b-611c-4237-b20b-db36b6906554       1.00      1.00      1.00       100\n",
      "    T1003.001_35d92515122effdd73801c6ac3021da7       0.99      1.00      1.00       100\n",
      "    T1003.002_5a484b65c247675e3b7ada4ba648d376       0.00      0.00      0.00       100\n",
      "    T1003.002_7fa4ea18694f2552547b65e23952cabb       1.00      1.00      1.00       100\n",
      "    T1003.003_9f73269695e54311dd61dc68940fb3e1       0.00      0.00      0.00       100\n",
      "    T1003.003_f049b89533298c2d6cd37a940248b219       0.00      0.00      0.00       100\n",
      "        T1003_18f31c311ac208802e88ab8d5af8603e       1.00      1.00      1.00       100\n",
      "        T1007_9d03c91bdae5a80f17f89c987942b5a8       1.00      1.00      1.00       100\n",
      "    T1007_c6607391-d02c-44b5-9b13-d3492ca58599       0.00      0.00      0.00       100\n",
      "        T1007_d6bb2a19da7246731ed9c44831b135f8       0.00      0.00      0.00       100\n",
      "    T1016_14a21534-350f-4d83-9dd7-3c56b93a0c17       0.00      0.00      0.00       100\n",
      "        T1016_71b3d2945679566b9d94d8cb11df4b70       0.00      0.00      0.00       100\n",
      "        T1016_7d8ee68f0e9731db82964f558f614608       0.00      0.00      0.00       100\n",
      "    T1016_921055f4-5970-4707-909e-62f594234d91       0.00      0.00      0.00       100\n",
      "    T1016_a0676fe1-cd52-482e-8dde-349b73f9aa69       0.00      0.00      0.00       100\n",
      "    T1016_e8017c46-acb8-400c-a4b5-b3362b5b5baa       0.00      0.00      0.00       100\n",
      "    T1018_26c8b8b5-7b5b-4de1-a128-7d37fb14f517       0.00      0.00      0.00       100\n",
      "        T1018_a44bb43474728496276d5d73aa14588f       0.00      0.00      0.00       100\n",
      "        T1018_ac20e592bc912bddff4d6b88289095f0       0.00      0.00      0.00       100\n",
      "    T1021.001_dd67068b052fa553ad4a0ac7d6a5ea89       0.97      1.00      0.99       100\n",
      "    T1033_bd527b63-9f9e-46e0-9816-b8434d2b8989       0.00      0.00      0.00       100\n",
      "    T1033_c0da588f-79f0-4263-8998-7496b1a40596       0.00      0.00      0.00       100\n",
      "    T1036.003_04e8d83e7badf098d50800d6aa1dd487       1.00      1.00      1.00       100\n",
      "    T1036.003_f5ef8466e5ebcd2ae03f338d9416069c       1.00      1.00      1.00       100\n",
      "    T1036.004_1f0614ea5c4af6faf1b44570f5f22f8a       0.00      0.00      0.00       100\n",
      "    T1036.004_7de3d7b4922a7b996d8df36fb22bb118       0.00      0.00      0.00       100\n",
      "    T1037.001_62cfa90fb03a6bc1a6ebcce8a3ea81b7       1.00      1.00      1.00       100\n",
      "        T1040_6881a4589710d53f0c146e91db513f01       0.98      0.99      0.99       100\n",
      "        T1047_09e0f9cf2eb803a1c35deeecf3665fad       0.00      0.00      0.00       100\n",
      "        T1047_6935e41353aa781bb723462d26114c44       0.00      0.00      0.00       100\n",
      "        T1047_ac122553ab4426ea3362bb4a97d31bfd       0.00      0.00      0.00       100\n",
      "        T1047_ac2764f7a67a9ce92b54e8e59b361838       0.00      0.00      0.00       100\n",
      "        T1047_b0255b5120cbabc062d8d4510a142c3b       0.00      0.00      0.00       100\n",
      "        T1047_ed736a123da6fb2aab22cfd4f437e8b5       0.00      0.00      0.00       100\n",
      "        T1047_f4b0b4129560ea66f9751275e82f6bab       0.00      0.00      0.00       100\n",
      "    T1049_638fb6bb-ba39-4285-93d1-7e4775b033a8       0.00      0.00      0.00       100\n",
      "        T1049_a14392d713dffba6a397682ff83259a0       0.00      0.00      0.00       100\n",
      "    T1053.005_5db2884b6ca3ab932848f295a3896dc0       0.00      0.00      0.00       100\n",
      "    T1053.005_ee454be9197890de62705ce6255933fd       0.00      0.00      0.00       100\n",
      "T1055.001_a74bc239-a196-4f7e-8d5c-fe8c0266071c       0.00      0.00      0.00       100\n",
      "T1055.002_e5bcefee-262d-4568-a261-e8a20855ec81       0.00      0.00      0.00       100\n",
      "    T1057_5a39d7ed-45c9-4a79-b581-e5fb99e24f65       0.00      0.00      0.00       100\n",
      "    T1057_8adf02e8-6e71-4244-886c-98c402857404       0.00      0.00      0.00       100\n",
      "        T1057_b2a1e430ca6d36eb5af2fe666e769847       0.00      0.00      0.00       100\n",
      "        T1057_f8de05d1741dcc468f772ab0ff4dac72       0.00      0.00      0.00       100\n",
      "T1059.001_55678719-e76e-4df9-92aa-10655bbd1cf4       1.00      1.00      1.00       100\n",
      "    T1059.001_6efbccc1869e8cd618c0d3ecda407d5f       1.00      1.00      1.00       100\n",
      "T1059.001_702bfdd2-9947-4eda-b551-c3a1ea9a59a2       0.98      0.99      0.99       100\n",
      "T1059.001_bfff9006-d1fb-46ce-b173-92cb04e9a031       1.00      1.00      1.00       100\n",
      "T1059.001_ccdb8caf-c69e-424b-b930-551969450c57       0.00      0.00      0.00       100\n",
      "T1059.001_e5f9de8f-3df1-4e78-ad92-a784e3f6770d       1.00      1.00      1.00       100\n",
      "    T1059.003_6c318ef0339d74d909ad556681b6493e       0.00      0.00      0.00       100\n",
      "    T1059.003_f38e58deb7ad20b5538ca40db7b7b4f8       0.01      1.00      0.03       100\n",
      "T1069.001_5c4dd985-89e3-4590-9b57-71fed66ff4e2       1.00      0.99      0.99       100\n",
      "    T1069.001_a1f48fa3ddee658b29b414523c9a295b       0.00      0.00      0.00       100\n",
      "    T1069.002_6103e503cb444bc7b4187704f2035708       0.00      0.00      0.00       100\n",
      "    T1070.005_1f91076e2be2014cc7b4f1296de02fd6       1.00      1.00      1.00       100\n",
      "    T1071.001_24c3b7b004401d839a5c337201da3484       1.00      0.99      0.99       100\n",
      "T1074.001_4e97e699-93d7-4040-b5a3-2e906a58199e       0.00      0.00      0.00       100\n",
      "T1074.001_6469befa-748a-4b9c-a96d-f191fde47d89       0.00      0.00      0.00       100\n",
      "    T1074.001_e6dfc7e89359ac6fa6de84b0e1d5762e       0.00      0.00      0.00       100\n",
      "    T1078.001_d0ca00832890baa1d42322cf70fcab1a       0.00      0.00      0.00       100\n",
      "    T1082_29451844-9b76-4e16-a9ee-d6feab4b24db       0.00      0.00      0.00       100\n",
      "    T1083_52177cc1-b9ab-4411-ac21-2eadc4b5d3b8       0.00      0.00      0.00       100\n",
      "    T1083_6e1a53c0-7352-4899-be35-fa7f364d5722       0.00      0.00      0.00       100\n",
      "    T1087.001_6334877e8e3ba48f7835d4856d90a282       0.00      0.00      0.00       100\n",
      "T1087.001_feaced8f-f43f-452a-9500-a5219488abb8       0.00      0.00      0.00       100\n",
      "    T1090.001_ba343199a4f15ed6b57eb52412f62e4e       0.75      0.33      0.46       100\n",
      "        T1105_0856c235a1d26113d4f2d92e39c9a9f8       1.00      1.00      1.00       100\n",
      "        T1105_1095434782a00c8a4772a11e625bcf5d       0.89      0.93      0.91       100\n",
      "        T1105_4f683658f161ccdc51337c470d32bab9       0.00      0.00      0.00       100\n",
      "    T1105_60f63260-39bb-4136-87a0-b6c2dca799fc       1.00      1.00      1.00       100\n",
      "        T1105_c521e0a70b243a0cf9217907ca3c6d27       1.00      1.00      1.00       100\n",
      "        T1105_c76968acda4aa1673dadcd67f3ab7664       1.00      1.00      1.00       100\n",
      "        T1105_e6715e61f5df646692c624b3499384c4       1.00      1.00      1.00       100\n",
      "    T1105_eb814e03-811a-467a-bc6d-dcd453750fa2       0.00      0.00      0.00       100\n",
      "        T1112_257313a3c93e3bb7dfb60d6753b09e34       0.95      1.00      0.98       100\n",
      "        T1112_34041639e6e501856ecaf5969ee29c76       0.98      0.99      0.99       100\n",
      "        T1112_35c0360d226cf38104f300d9d57ce60e       0.97      1.00      0.99       100\n",
      "        T1112_4bfb5f265a5ce07af6bf10da113af7db       1.00      0.98      0.99       100\n",
      "        T1112_7fe6a66d03f4dbfc022609ba311c2b11       0.97      0.99      0.98       100\n",
      "        T1112_ba6f6214dbd17c54001e0a163b60f151       0.99      0.98      0.98       100\n",
      "        T1112_cab7b85611a290c0769546bfa9d6f962       0.97      0.99      0.98       100\n",
      "        T1112_cd8be0e6b873919da25530a2c7ea6750       0.00      0.00      0.00       100\n",
      "        T1112_e74d2fb4ef5fa6c766a4151554033697       0.99      0.97      0.98       100\n",
      "        T1112_e7a987cbef27263e666e5b096488dc55       1.00      1.00      1.00       100\n",
      "        T1112_fa4ba6a06b4a5cd955ea5a60fae24281       0.99      0.99      0.99       100\n",
      "        T1112_fd992e8ecfdac9b56dd6868904044827       0.96      1.00      0.98       100\n",
      "    T1113_316251ed-6a28-4013-812b-ddf5b5b007f8       0.00      0.00      0.00       100\n",
      "        T1115_70795de7cbb842edb029b3378c27c008       1.00      1.00      1.00       100\n",
      "    T1115_b007fe0c-c6b0-4fda-915c-255bbc070de2       0.00      0.00      0.00       100\n",
      "        T1119_344e7eaf650763e0d3e9f02e62c1cf4b       0.00      0.00      0.00       100\n",
      "        T1119_7121cdf93b951311be9d7078c602efdc       1.00      1.00      1.00       100\n",
      "        T1120_7b9c7afaefa59aab759b49af0d699ac1       0.00      0.00      0.00       100\n",
      "        T1123_372e6f46fca18e4f1b43209c20ffafa2       1.00      1.00      1.00       100\n",
      "    T1124_fa6e8607-e0b1-425d-8924-9b894da5a002       0.00      0.00      0.00       100\n",
      "        T1125_da86001b5081fcf773d8e62f22cf2b00       1.00      1.00      1.00       100\n",
      "    T1135_530e47c6-8592-42bf-91df-c59ffbd8541b       0.00      0.00      0.00       100\n",
      "    T1135_deeac480-5c2a-42b5-90bb-41675ee53c7e       0.00      0.00      0.00       100\n",
      "    T1137.002_e2af3c3ab1b0f659c874b8af58c49759       1.00      0.99      0.99       100\n",
      "        T1137_12ad9edefc86af07700fbf49bfdac6ba       1.00      1.00      1.00       100\n",
      "        T1201_38f6f0e50a6b196140ec40d3dc9cc9e6       0.00      0.00      0.00       100\n",
      "        T1201_57296a2ddbeb7423c05feef2fe972111       0.00      0.00      0.00       100\n",
      "    T1204.002_522f3f35cd013e63830fa555495a0081       1.00      1.00      1.00       100\n",
      "        T1217_69bbe2183fa09c00ccaac62d48e214f8       0.00      0.00      0.00       100\n",
      "        T1217_f7a0f7d704aa52a764d9d1bee81e65d6       0.00      0.00      0.00       100\n",
      "        T1219_7dabcbecab0334b115feefab1630f84a       1.00      1.00      1.00       100\n",
      "        T1219_af8cb2bf9b436aae5c106a0a9c207e14       1.00      1.00      1.00       100\n",
      "        T1219_f1b3fca18d7465cd10e5a7477a3bf97d       1.00      1.00      1.00       100\n",
      "    T1482_6131397e-7765-424e-a594-3d7fb2d93a6a       0.00      0.00      0.00       100\n",
      "        T1482_cfb61005899996469ae3023796792ca5       0.00      0.00      0.00       100\n",
      "        T1486_d82ceb9939d3d920ee550187ad8235c8       0.00      0.00      0.00       100\n",
      "        T1490_2d53d6fabd39bf9c70b0dfcdfbbc926d       0.00      0.00      0.00       100\n",
      "        T1490_8467c994685ccf178db166964bd80fab       0.00      0.00      0.00       100\n",
      "        T1490_9e5e4c0655fd1b5be88bd40b8251175f       0.00      0.00      0.00       100\n",
      "        T1490_c156ac5c9fa67080365268d95f29053d       0.00      0.00      0.00       100\n",
      "        T1490_c8f329d2847ede593b6cb4a1ec6120fb       1.00      1.00      1.00       100\n",
      "        T1490_e90756bb6dcd21462dc4cc452661df91       0.00      0.00      0.00       100\n",
      "    T1491_47d08617-5ce1-424a-8cc5-c9c978ce6bf9       0.00      0.00      0.00       100\n",
      "    T1491_68235976-2404-42a8-9105-68230cfef562       0.00      0.00      0.00       100\n",
      "    T1496_46da2385-cf37-49cb-ba4b-a739c7a19de4       1.00      1.00      1.00       100\n",
      "T1497.001_1258b063-27d6-489b-a677-4807faacf868       0.00      0.00      0.00       100\n",
      "T1497.001_5dc841fd-28ad-40e2-b10e-fb007fe09e81       0.00      0.00      0.00       100\n",
      "T1497.001_7a6ba833-de40-466a-8969-5c37b13603e0       0.00      0.00      0.00       100\n",
      "    T1499_2fe2d5e6-7b06-4fc0-bf71-6966a1226731       0.00      0.00      0.00       100\n",
      "T1518.001_2dece965-37a0-4f70-a391-0f30e3331aba       0.00      0.00      0.00       100\n",
      "    T1518.001_33a24ff44719e6ac0614b58f8c9a7c72       0.00      0.00      0.00       100\n",
      "    T1518.001_b8453a5fe06b24aea12b27592d5c3d3a       0.00      0.00      0.00       100\n",
      "        T1518_8ddfaf982ab359cda13626b870ccb339       0.87      1.00      0.93       100\n",
      "    T1518_c9be8043-a445-4cbf-b77b-ed7bb007fc7c       0.00      0.00      0.00       100\n",
      "        T1531_aa6b15485a5f50ced34d87fda177b758       0.00      0.00      0.00       100\n",
      "        T1531_b25ae80dad74142fafb510e9c1949ace       0.00      0.00      0.00       100\n",
      "    T1546.013_f9a968af61d36983448c74cca5464e17       1.00      1.00      1.00       100\n",
      "    T1547.001_0dbdf1a2a87e718a6ac8a8e3415a7fac       1.00      1.00      1.00       100\n",
      "    T1547.001_163b023f43aba758d36f524d146cb8ea       0.99      1.00      1.00       100\n",
      "    T1547.001_1f15ab22c39a9b6bb2bb0d77276dfcb3       0.00      0.00      0.00       100\n",
      "    T1547.001_4b71ebb2f6f6a01235ba240fa40ce978       0.00      0.00      0.00       100\n",
      "    T1547.001_777043894e42d2aae3881e63f6c76d33       0.00      0.00      0.00       100\n",
      "    T1547.001_d3ef4145e4144fd694514b1c5cc17350       1.00      1.00      1.00       100\n",
      "    T1547.004_0856714c9810ac55b53e9964d02958a0       0.00      0.00      0.00       100\n",
      "    T1547.004_aa147165f6c116cb0b0f944abe1db8ce       0.00      0.00      0.00       100\n",
      "    T1547.009_501af516bd8b24fee0c7c650ae5cc861       0.00      0.00      0.00       100\n",
      "    T1547.009_b6e5c895c6709fe289352ee23f062229       0.00      0.00      0.00       100\n",
      "    T1547.010_4593d72a5145e3f494421ac772d37464       1.00      0.99      0.99       100\n",
      "        T1547_fe9eeee9a7b339089e5fa634b08522c1       1.00      1.00      1.00       100\n",
      "T1548.002_665432a4-42e7-4ee1-af19-a9a8c9455d0c       0.00      0.00      0.00       100\n",
      "    T1552.002_3e5b04b8ee0a1a4950da8f35d95e65fc       0.00      0.00      0.00       100\n",
      "        T1560_a1ee301b0508747b468d578a14e5c1a5       0.07      1.00      0.12       100\n",
      "    T1562.001_43e3334362b140924f001b256b229ee5       0.00      0.00      0.00       100\n",
      "    T1562.002_6a8d25d65a7d481dc479f89c62af1e6a       0.99      0.99      0.99       100\n",
      "    T1562.002_94f51bf01a7036fe02d07b4c18967669       0.00      0.00      0.00       100\n",
      "    T1562.004_280003641a5cddf916c4f2bf605a71d3       0.00      0.00      0.00       100\n",
      "    T1562.004_41627f71f968225b9f162cb76d16bd9d       0.00      0.00      0.00       100\n",
      "    T1562.004_5b93df032e230056c21a3e57334f77d1       0.00      0.00      0.00       100\n",
      "    T1562.004_8d0a4585e7c4646185a912b14cd9cb46       0.00      0.00      0.00       100\n",
      "    T1562.004_8fe59e288f10a486dc8b44bc872019ff       0.97      0.99      0.98       100\n",
      "    T1564.001_66a5fd5f244819181f074dd082a28905       0.00      0.00      0.00       100\n",
      "    T1564.001_dce51e632abdfe5392c7c1f942ac9273       0.50      1.00      0.66       100\n",
      "    T1564.003_9a2edad4053a2b59fb9167a9bc29e7dc       0.68      0.80      0.73       100\n",
      "    T1564.004_28862487a99f5f89bc0d68c87396c7e9       0.00      0.00      0.00       100\n",
      "    T1564.004_76b6066fe170d38215251102e42be973       0.00      0.00      0.00       100\n",
      "        T1564_dedfa0a54c9c13ce5714a0dc2e1f5d1a       0.00      0.00      0.00       100\n",
      "    T1566.001_1afaec09315ab71fdfb167175e8a019a       0.00      0.00      0.00       100\n",
      "    T1574.001_63bbedafba2f541552ac3579e9e3737b       1.00      1.00      1.00       100\n",
      "    T1574.011_72249c1e9ffe7d8f30243d838e0791ca       1.00      1.00      1.00       100\n",
      "                                        benign       0.00      0.00      0.00       100\n",
      "\n",
      "                                      accuracy                           0.37     16600\n",
      "                                     macro avg       0.36      0.37      0.36     16600\n",
      "                                  weighted avg       0.36      0.37      0.36     16600\n",
      "\n"
     ]
    },
    {
     "name": "stderr",
     "output_type": "stream",
     "text": [
      "/workdir/home/euni/.local/lib/python3.6/site-packages/sklearn/metrics/_classification.py:1248: UndefinedMetricWarning: Precision and F-score are ill-defined and being set to 0.0 in labels with no predicted samples. Use `zero_division` parameter to control this behavior.\n",
      "  _warn_prf(average, modifier, msg_start, len(result))\n",
      "/workdir/home/euni/.local/lib/python3.6/site-packages/sklearn/metrics/_classification.py:1248: UndefinedMetricWarning: Precision and F-score are ill-defined and being set to 0.0 in labels with no predicted samples. Use `zero_division` parameter to control this behavior.\n",
      "  _warn_prf(average, modifier, msg_start, len(result))\n"
     ]
    }
   ],
   "source": [
    "# load the pretrained model\n",
    "pretrained_model_path = '../checkpoint_GAT/best_model_GAT_transH_100.pt'\n",
    "model.load_state_dict(torch.load(pretrained_model_path))\n",
    "\n",
    "model.to(device)\n",
    "model.eval()\n",
    "\n",
    "total = 0\n",
    "correct = 0\n",
    "count = 0\n",
    "\n",
    "true_labels = []\n",
    "predicted_labels = []\n",
    "\n",
    "with torch.no_grad():\n",
    "    for data in tqdm(dataloaders['test'], desc=\"Testing\", position=0, leave=True):\n",
    "\n",
    "        loss, accuracy, predicted = model_fn(data, model, criterion, device, count, which_type='test')\n",
    "        labels = data[1].to(device)\n",
    "        \n",
    "        true_labels.extend(labels.cpu().numpy())\n",
    "        predicted_labels.extend(predicted.cpu().numpy())\n",
    "        \n",
    "        if count % 5000 == 0:\n",
    "            add_log_msg(f\"labels: {labels} {labels.shape}\")\n",
    "            add_log_msg(f\"predicted: {predicted} {predicted.shape}\")\n",
    "            \n",
    "        count += 1\n",
    "        \n",
    "        total += labels.size(0)\n",
    "        correct += (predicted == labels).sum().item()\n",
    "\n",
    "add_log_msg(f'Test Accuracy: {100 * correct / total} %\\n\\n\\n')\n",
    "\n",
    "\n",
    "# ======================================== handlig the output excel files ========================================\n",
    "mapping_file = './new_mapping.txt'\n",
    "label_mapping = {}\n",
    "with open(mapping_file, 'r') as f:\n",
    "    for line in f:\n",
    "        parts = line.strip().split(': ')\n",
    "        label_mapping[int(parts[1])] = parts[0]\n",
    "        \n",
    "# 将映射后的标签应用到true和predicted标签列表\n",
    "mapped_true_labels = [label_mapping[label] for label in true_labels]\n",
    "mapped_predicted_labels = [label_mapping[label] for label in predicted_labels]\n",
    "\n",
    "# 生成Scikit-learn报告信息的DataFrame\n",
    "report_data = classification_report(mapped_true_labels, mapped_predicted_labels, output_dict=True)\n",
    "report_df = pd.DataFrame(report_data).transpose()\n",
    "\n",
    "report_folder = 'classification_report'\n",
    "os.makedirs(report_folder, exist_ok=True)\n",
    "\n",
    "count = 0\n",
    "while True:\n",
    "    report_filename = f'classification_report-transH_100-{count}.xlsx'\n",
    "    labels_filename = f'mapped_true_predicted_labels-transH_100-{count}.xlsx'\n",
    "    \n",
    "    report_path = os.path.join(report_folder, report_filename)\n",
    "    labels_path = os.path.join(report_folder, labels_filename)\n",
    "    \n",
    "    if not os.path.exists(report_path) and not os.path.exists(labels_path):\n",
    "        break\n",
    "    count += 1\n",
    "\n",
    "    \n",
    "report_df.to_excel(report_path, index_label='Label')\n",
    "\n",
    "mapped_labels_df = pd.DataFrame({'true_label': mapped_true_labels, 'predicted_label': mapped_predicted_labels})\n",
    "mapped_labels_df.to_excel(labels_path, index=False)\n",
    "\n",
    "add_log_msg(f\"report path: {report_path}\")\n",
    "add_log_msg(f\"label path: {labels_path}\")\n",
    "\n",
    "mapped_report = classification_report(mapped_true_labels, mapped_predicted_labels)\n",
    "add_log_msg(f\"mapped_report:\\n{mapped_report}\")"
   ]
  },
  {
   "cell_type": "code",
   "execution_count": null,
   "metadata": {},
   "outputs": [],
   "source": []
  }
 ],
 "metadata": {
  "kernelspec": {
   "display_name": "Python 3",
   "language": "python",
   "name": "python3"
  },
  "language_info": {
   "codemirror_mode": {
    "name": "ipython",
    "version": 3
   },
   "file_extension": ".py",
   "mimetype": "text/x-python",
   "name": "python",
   "nbconvert_exporter": "python",
   "pygments_lexer": "ipython3",
   "version": "3.6.9"
  }
 },
 "nbformat": 4,
 "nbformat_minor": 2
}
