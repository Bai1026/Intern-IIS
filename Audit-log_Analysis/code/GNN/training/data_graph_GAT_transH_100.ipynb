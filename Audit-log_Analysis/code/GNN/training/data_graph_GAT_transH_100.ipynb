{
 "cells": [
  {
   "cell_type": "markdown",
   "metadata": {},
   "source": [
    "# Test of GAT\n",
    "- use DGL\n",
    "- predict `graphs`\n",
    "- test: 0~99\n",
    "- validation: 100~199\n",
    "- train: 200~999\n",
    "- larger lr with scheduler\n",
    "- try the sklearn report"
   ]
  },
  {
   "cell_type": "code",
   "execution_count": 1,
   "metadata": {},
   "outputs": [],
   "source": [
    "import os\n",
    "import dgl\n",
    "import json\n",
    "import torch\n",
    "import torch as th\n",
    "# from tqdm import tqdm\n",
    "from tqdm.notebook import tqdm  # 使用 notebook 版本的 tqdm\n",
    "import torch.nn as nn\n",
    "from dgl.nn import GraphConv, GATConv\n",
    "import torch.nn.functional as F\n",
    "from torch.utils.data import Dataset, DataLoader\n",
    "from transformers import get_linear_schedule_with_warmup\n",
    "from torch.optim import AdamW\n",
    "from sklearn.metrics import classification_report\n"
   ]
  },
  {
   "cell_type": "markdown",
   "metadata": {},
   "source": [
    "- check the GPU and assign the GPU by the best memory usage"
   ]
  },
  {
   "cell_type": "code",
   "execution_count": 2,
   "metadata": {},
   "outputs": [
    {
     "name": "stdout",
     "output_type": "stream",
     "text": [
      "cuda:3\n"
     ]
    }
   ],
   "source": [
    "import subprocess\n",
    "import torch\n",
    "\n",
    "def get_free_gpu():\n",
    "    try:\n",
    "        # Run nvidia-smi command to get GPU details\n",
    "        _output_to_list = lambda x: x.decode('ascii').split('\\n')[:-1]\n",
    "        command = \"nvidia-smi --query-gpu=memory.free --format=csv,nounits,noheader\"\n",
    "        memory_free_info = _output_to_list(subprocess.check_output(command.split())) \n",
    "        memory_free_values = [int(x) for i, x in enumerate(memory_free_info)]\n",
    "        \n",
    "        # Get the GPU with the maximum free memory\n",
    "        best_gpu_id = memory_free_values.index(max(memory_free_values))\n",
    "        return best_gpu_id\n",
    "    except:\n",
    "        # If any exception occurs, default to GPU 0 (this handles cases where nvidia-smi isn't installed)\n",
    "        return 0\n",
    "\n",
    "if torch.cuda.is_available():\n",
    "    # Get the best GPU ID based on free memory and set it\n",
    "    best_gpu_id = get_free_gpu()\n",
    "    device = torch.device(f\"cuda:{best_gpu_id}\")\n",
    "else:\n",
    "    device = torch.device(\"cpu\")\n",
    "    print(\"there's no available GPU\")\n",
    "\n",
    "# device = torch.device(f\"cuda:1\")\n",
    "print(device)\n"
   ]
  },
  {
   "cell_type": "markdown",
   "metadata": {},
   "source": [
    "## Fix the seed"
   ]
  },
  {
   "cell_type": "code",
   "execution_count": 3,
   "metadata": {},
   "outputs": [],
   "source": [
    "import numpy as np\n",
    "import torch\n",
    "import random\n",
    "\n",
    "#fix seed\n",
    "def same_seeds(seed = 8787):\n",
    "    torch.manual_seed(seed)\n",
    "    # random.seed(seed) \n",
    "    if torch.cuda.is_available():\n",
    "        torch.cuda.manual_seed(seed)\n",
    "        torch.cuda.manual_seed_all(seed)  \n",
    "    np.random.seed(seed)  \n",
    "    torch.backends.cudnn.benchmark = False\n",
    "    torch.backends.cudnn.deterministic = True"
   ]
  },
  {
   "cell_type": "markdown",
   "metadata": {},
   "source": [
    "## Data Loader"
   ]
  },
  {
   "cell_type": "code",
   "execution_count": 4,
   "metadata": {},
   "outputs": [],
   "source": [
    "class GraphDataset(Dataset):\n",
    "    def __init__(self, data_list, device):\n",
    "        self.data_list = data_list\n",
    "        self.device = device\n",
    "\n",
    "    def __len__(self):\n",
    "        return len(self.data_list)\n",
    "    \n",
    "    def __getitem__(self, idx):\n",
    "        data = self.data_list[idx]\n",
    "\n",
    "        g = dgl.graph((th.tensor(data[\"edge_index\"][0]), th.tensor(data[\"edge_index\"][1])), num_nodes=data[\"num_nodes\"]).to(self.device)\n",
    "\n",
    "        g.ndata['feat'] = th.tensor(data[\"node_feat\"]).to(self.device)\n",
    "        g.edata['feat'] = th.tensor(data[\"edge_attr\"]).to(self.device)  # Add edge features to graph\n",
    "\n",
    "        return g, th.tensor(data[\"label\"]).to(self.device)\n",
    "\n",
    "\n",
    "def collate(samples):\n",
    "    # The input `samples` is a list of pairs\n",
    "    #  (graph, label).\n",
    "    graphs, labels = map(list, zip(*samples))\n",
    "    batched_graph = dgl.batch(graphs)\n",
    "    return batched_graph, torch.tensor(labels)\n"
   ]
  },
  {
   "cell_type": "code",
   "execution_count": 5,
   "metadata": {},
   "outputs": [
    {
     "data": {
      "application/vnd.jupyter.widget-view+json": {
       "model_id": "63db594872c94d7da7b9fe6e61f89c55",
       "version_major": 2,
       "version_minor": 0
      },
      "text/plain": [
       "  0%|          | 0/3 [00:00<?, ?it/s]"
      ]
     },
     "metadata": {},
     "output_type": "display_data"
    },
    {
     "name": "stdout",
     "output_type": "stream",
     "text": [
      "../../data_processing/dgl/data_new/training_data/transH_100/train.jsonl\n"
     ]
    },
    {
     "data": {
      "application/vnd.jupyter.widget-view+json": {
       "model_id": "0ab395ea272446e6a77f63995d548b17",
       "version_major": 2,
       "version_minor": 0
      },
      "text/plain": [
       "0it [00:00, ?it/s]"
      ]
     },
     "metadata": {},
     "output_type": "display_data"
    },
    {
     "name": "stdout",
     "output_type": "stream",
     "text": [
      "../../data_processing/dgl/data_new/training_data/transH_100/valid.jsonl\n"
     ]
    },
    {
     "data": {
      "application/vnd.jupyter.widget-view+json": {
       "model_id": "02568d37a4f14ccabbb1008b915002d6",
       "version_major": 2,
       "version_minor": 0
      },
      "text/plain": [
       "0it [00:00, ?it/s]"
      ]
     },
     "metadata": {},
     "output_type": "display_data"
    },
    {
     "name": "stdout",
     "output_type": "stream",
     "text": [
      "../../data_processing/dgl/data_new/training_data/transH_100/test.jsonl\n"
     ]
    },
    {
     "data": {
      "application/vnd.jupyter.widget-view+json": {
       "model_id": "715fb5468544444f99fc8349ded5e168",
       "version_major": 2,
       "version_minor": 0
      },
      "text/plain": [
       "0it [00:00, ?it/s]"
      ]
     },
     "metadata": {},
     "output_type": "display_data"
    },
    {
     "name": "stdout",
     "output_type": "stream",
     "text": [
      "Datasets loaded!\n"
     ]
    }
   ],
   "source": [
    "datasets = ['train', 'valid', 'test']\n",
    "# datasets = ['test']\n",
    "dataset_data = {}\n",
    "\n",
    "for dataset_name in tqdm(datasets):\n",
    "#     file_path = f\"../../data_processing/dgl/data/test_graph/repeated_{dataset_name}.jsonl\"\n",
    "    file_path = f\"../../data_processing/dgl/data_new/training_data/transH_100/{dataset_name}.jsonl\"\n",
    "    \n",
    "    print(file_path)\n",
    "    with open(file_path) as f:\n",
    "        data_list = [json.loads(line) for line in tqdm(f, position=0, leave=True)]\n",
    "    \n",
    "    dataset_data[dataset_name] = GraphDataset(data_list, device)\n",
    "\n",
    "print(\"Datasets loaded!\")"
   ]
  },
  {
   "cell_type": "markdown",
   "metadata": {},
   "source": [
    "- choose batch size"
   ]
  },
  {
   "cell_type": "code",
   "execution_count": 6,
   "metadata": {},
   "outputs": [
    {
     "name": "stdout",
     "output_type": "stream",
     "text": [
      "OK!\n"
     ]
    }
   ],
   "source": [
    "def create_dataloaders(batch_size, shuffle=True):\n",
    "    dataloaders = {}\n",
    "    for dataset_name, dataset in dataset_data.items():\n",
    "        # do not shuffle the testing dataset\n",
    "        if dataset_name == \"test\":\n",
    "            dataloaders[dataset_name] = DataLoader(dataset, batch_size=batch_size, shuffle=False, collate_fn=collate)    \n",
    "        else:\n",
    "            dataloaders[dataset_name] = DataLoader(dataset, batch_size=batch_size, shuffle=shuffle, collate_fn=collate)\n",
    "    return dataloaders\n",
    "\n",
    "# dataloaders = create_dataloaders(4)\n",
    "dataloaders = create_dataloaders(16)\n",
    "\n",
    "\n",
    "if (len(dataloaders['test'].dataset) + len(dataloaders['valid'].dataset) + len(dataloaders['train'].dataset)) % 165 != 0: print(\"Error data!!\")\n",
    "else: print(\"OK!\")\n"
   ]
  },
  {
   "cell_type": "markdown",
   "metadata": {},
   "source": [
    "- Turn the print message to a log file"
   ]
  },
  {
   "cell_type": "code",
   "execution_count": 7,
   "metadata": {},
   "outputs": [
    {
     "name": "stdout",
     "output_type": "stream",
     "text": [
      "(Graph(num_nodes=26, num_edges=67,\n",
      "      ndata_schemes={'feat': Scheme(shape=(100,), dtype=torch.float32)}\n",
      "      edata_schemes={'feat': Scheme(shape=(100,), dtype=torch.float32)}), tensor(7, device='cuda:3'))\n",
      "16500\n",
      "16500\n",
      "132000\n",
      "165000\n"
     ]
    }
   ],
   "source": [
    "# print(dataloaders['test'][5])\n",
    "sample = dataset_data['train'][5000]\n",
    "print(sample)\n",
    "\n",
    "print(len(dataloaders['test'].dataset))\n",
    "print(len(dataloaders['valid'].dataset))\n",
    "print(len(dataloaders['train'].dataset))\n",
    "print(len(dataloaders['test'].dataset) + len(dataloaders['valid'].dataset) + len(dataloaders['train'].dataset))"
   ]
  },
  {
   "cell_type": "code",
   "execution_count": 9,
   "metadata": {},
   "outputs": [
    {
     "name": "stdout",
     "output_type": "stream",
     "text": [
      "../log_message/0829_10:12_GAT_transH_100.log\n"
     ]
    }
   ],
   "source": [
    "import datetime\n",
    "\n",
    "now = datetime.datetime.now()\n",
    "\n",
    "formatted_time = now.strftime(\"%m%d_%H:%M\")\n",
    "\n",
    "log_file_path = f\"../log_message/{formatted_time}_GAT_transH_100.log\"\n",
    "\n",
    "def add_log_msg(msg, log_file_path=log_file_path):\n",
    "    with open(log_file_path, 'a') as f:\n",
    "        f.write(f'{datetime.datetime.now().strftime(\"%m/%d/%Y, %H:%M:%S\")}# {msg}\\n')\n",
    "    print(f'{datetime.datetime.now().strftime(\"%m/%d/%Y, %H:%M:%S\")}# {msg}')\n",
    "\n",
    "print(log_file_path)"
   ]
  },
  {
   "cell_type": "markdown",
   "metadata": {},
   "source": [
    "### Model"
   ]
  },
  {
   "cell_type": "code",
   "execution_count": 10,
   "metadata": {},
   "outputs": [],
   "source": [
    "class GAT(nn.Module):\n",
    "    def __init__(self, in_dim, hidden_dim, out_dim, num_heads, dropout_prob=0.25):\n",
    "        super(GAT, self).__init__()\n",
    "        \n",
    "        # do not check the zero in_degree since we have all the complete graph\n",
    "        self.layer1 = GATConv(in_dim, hidden_dim, num_heads=num_heads, activation=F.relu, allow_zero_in_degree=True)\n",
    "        self.layer2 = GATConv(hidden_dim * num_heads, out_dim, num_heads=num_heads, allow_zero_in_degree=True)\n",
    "        \n",
    "        # Adding Batch Normalization after each GAT layer\n",
    "        self.batchnorm1 = nn.BatchNorm1d(hidden_dim * num_heads)\n",
    "        self.batchnorm2 = nn.BatchNorm1d(out_dim)\n",
    "        \n",
    "        # Adding Dropout for regularization\n",
    "        self.dropout = nn.Dropout(dropout_prob)\n",
    "\n",
    "    def forward(self, g, h):\n",
    "        # Apply GAT layers\n",
    "        h = self.layer1(g, h)\n",
    "        h = h.view(h.shape[0], -1)\n",
    "        h = F.relu(h)\n",
    "        h = self.dropout(h)\n",
    "        h = self.layer2(g, h).squeeze(1)\n",
    "        \n",
    "        # Store the output as a new node feature\n",
    "        g.ndata['h_out'] = h\n",
    "\n",
    "        # Use mean pooling to aggregate this new node feature\n",
    "        h_agg = dgl.mean_nodes(g, feat='h_out')\n",
    "        return h_agg\n",
    "\n",
    "    "
   ]
  },
  {
   "cell_type": "markdown",
   "metadata": {},
   "source": [
    "- Model Forward  "
   ]
  },
  {
   "cell_type": "code",
   "execution_count": 11,
   "metadata": {},
   "outputs": [],
   "source": [
    "def model_fn(data, model, criterion, device, count=1, which_type='train'):\n",
    "    \"\"\"Forward a batch through the model.\"\"\"\n",
    "    batched_g, labels = data\n",
    "    batched_g = batched_g.to(device)\n",
    "    \n",
    "    labels = labels.to(device)\n",
    "    logits = model(batched_g, batched_g.ndata['feat'].float()) # for GAT\n",
    "    logits = logits.mean(dim=1)\n",
    "    \n",
    "    loss = criterion(logits, labels)\n",
    "\n",
    "    # Get the class id with the highest probability\n",
    "    preds = logits.argmax(1)\n",
    "    \n",
    "    # Compute accuracy\n",
    "    accuracy = torch.mean((preds == labels).float())\n",
    "    \n",
    "    if which_type == 'validation' and count % 1000 == 0:\n",
    "        add_log_msg(f\"labels of Validation: {labels} {labels.shape}\")\n",
    "        add_log_msg(f\"predicted of Validation: {preds} {preds.shape}\")\n",
    "        \n",
    "    elif which_type == 'test'  and count % 1000 == 0:\n",
    "        add_log_msg(f\"labels of Test: {labels} {labels.shape}\")\n",
    "        add_log_msg(f\"predicted of Test: {preds} {preds.shape}\")\n",
    "        \n",
    "    if count % 5000 == 0: \n",
    "        add_log_msg(f\"labels of {count}: {labels} {labels.shape}\")\n",
    "        add_log_msg(f\"predicted of {count}: {preds} {preds.shape}\")\n",
    "        \n",
    "    return loss, accuracy, preds"
   ]
  },
  {
   "cell_type": "markdown",
   "metadata": {},
   "source": [
    "### Training"
   ]
  },
  {
   "cell_type": "markdown",
   "metadata": {},
   "source": [
    "- Fix the seed and save the model.state_dict that contains the initial weight"
   ]
  },
  {
   "cell_type": "code",
   "execution_count": 14,
   "metadata": {},
   "outputs": [],
   "source": [
    "seed = 8787\n",
    "same_seeds(seed)\n",
    "\n",
    "model = GAT(in_dim=100, hidden_dim=16, out_dim=168, num_heads=8)\n",
    "torch.save(model.state_dict(), 'model1_initial/initial_weight.pth')"
   ]
  },
  {
   "cell_type": "code",
   "execution_count": 15,
   "metadata": {},
   "outputs": [
    {
     "data": {
      "text/plain": [
       "Parameter containing:\n",
       "tensor([[-0.0372,  0.0397,  0.0935,  ..., -0.2031, -0.0468, -0.0559],\n",
       "        [-0.2012, -0.0840,  0.1344,  ...,  0.1873, -0.0882,  0.1701],\n",
       "        [ 0.0989,  0.1005, -0.2093,  ..., -0.2812, -0.2957, -0.0144],\n",
       "        ...,\n",
       "        [-0.1528,  0.2374,  0.1282,  ..., -0.0509,  0.0520, -0.0736],\n",
       "        [-0.0805, -0.1986, -0.1437,  ...,  0.1331,  0.0198,  0.0471],\n",
       "        [ 0.0363,  0.0976, -0.1171,  ...,  0.0343, -0.0835,  0.2840]],\n",
       "       requires_grad=True)"
      ]
     },
     "execution_count": 15,
     "metadata": {},
     "output_type": "execute_result"
    }
   ],
   "source": [
    "model.layer1.fc.weight"
   ]
  },
  {
   "cell_type": "markdown",
   "metadata": {},
   "source": [
    "- Check if model really load the model_dict"
   ]
  },
  {
   "cell_type": "code",
   "execution_count": 17,
   "metadata": {},
   "outputs": [
    {
     "data": {
      "text/plain": [
       "Parameter containing:\n",
       "tensor([[-0.0372,  0.0397,  0.0935,  ..., -0.2031, -0.0468, -0.0559],\n",
       "        [-0.2012, -0.0840,  0.1344,  ...,  0.1873, -0.0882,  0.1701],\n",
       "        [ 0.0989,  0.1005, -0.2093,  ..., -0.2812, -0.2957, -0.0144],\n",
       "        ...,\n",
       "        [-0.1528,  0.2374,  0.1282,  ..., -0.0509,  0.0520, -0.0736],\n",
       "        [-0.0805, -0.1986, -0.1437,  ...,  0.1331,  0.0198,  0.0471],\n",
       "        [ 0.0363,  0.0976, -0.1171,  ...,  0.0343, -0.0835,  0.2840]],\n",
       "       requires_grad=True)"
      ]
     },
     "execution_count": 17,
     "metadata": {},
     "output_type": "execute_result"
    }
   ],
   "source": [
    "model = GAT(in_dim=100, hidden_dim=16, out_dim=168, num_heads=8)\n",
    "model.load_state_dict(torch.load('model1_initial/initial_weight.pth'))\n",
    "model.layer1.fc.weight"
   ]
  },
  {
   "cell_type": "markdown",
   "metadata": {},
   "source": [
    "### test of valid and test part is ``graph``"
   ]
  },
  {
   "cell_type": "markdown",
   "metadata": {},
   "source": [
    "- Batch size = 4\n",
    "- use large lr and scheduler"
   ]
  },
  {
   "cell_type": "code",
   "execution_count": null,
   "metadata": {
    "scrolled": true
   },
   "outputs": [
    {
     "data": {
      "application/vnd.jupyter.widget-view+json": {
       "model_id": "40db06002b0a4ddf9be32d4df914ff76",
       "version_major": 2,
       "version_minor": 0
      },
      "text/plain": [
       "  0%|          | 0/30 [00:00<?, ?it/s]"
      ]
     },
     "metadata": {},
     "output_type": "display_data"
    },
    {
     "data": {
      "application/vnd.jupyter.widget-view+json": {
       "model_id": "f9ada07ebd3244c090f415073ca64a18",
       "version_major": 2,
       "version_minor": 0
      },
      "text/plain": [
       "Training:   0%|          | 0/8250 [00:00<?, ?it/s]"
      ]
     },
     "metadata": {},
     "output_type": "display_data"
    },
    {
     "name": "stdout",
     "output_type": "stream",
     "text": [
      "08/29/2023, 10:20:55# labels of 5000: tensor([ 60,  47,  68,  29,  48,  29,  16,  59, 138,  18,  85,  90,  87,  63,\n",
      "        135, 149], device='cuda:3') torch.Size([16])\n",
      "08/29/2023, 10:20:55# predicted of 5000: tensor([132, 132, 132, 105, 132, 105,  25, 132, 105, 132, 105, 132, 132, 132,\n",
      "        132, 154], device='cuda:3') torch.Size([16])\n",
      "08/29/2023, 10:22:53# total batches: 8250\n",
      "08/29/2023, 10:22:53# Epoch 0 | Train Loss: 4.6211 | Train Accuracy: 0.0522\n"
     ]
    },
    {
     "data": {
      "application/vnd.jupyter.widget-view+json": {
       "model_id": "66ca12e9547c4acc9ce9f1f8e51647eb",
       "version_major": 2,
       "version_minor": 0
      },
      "text/plain": [
       "Validation:   0%|          | 0/1032 [00:00<?, ?it/s]"
      ]
     },
     "metadata": {},
     "output_type": "display_data"
    },
    {
     "name": "stdout",
     "output_type": "stream",
     "text": [
      "08/29/2023, 10:22:53# labels of Validation: tensor([ 25,  46,  95,  62,  86,  20,  42, 120,  12,  14,  27,  30, 139,  78,\n",
      "        108,  55], device='cuda:3') torch.Size([16])\n",
      "08/29/2023, 10:22:53# predicted of Validation: tensor([ 25,   6,  40, 146,   6,   6,   6, 146,   6,   6, 106,   6,   6, 105,\n",
      "        132,   6], device='cuda:3') torch.Size([16])\n",
      "08/29/2023, 10:22:53# labels of 0: tensor([ 25,  46,  95,  62,  86,  20,  42, 120,  12,  14,  27,  30, 139,  78,\n",
      "        108,  55], device='cuda:3') torch.Size([16])\n",
      "08/29/2023, 10:22:53# predicted of 0: tensor([ 25,   6,  40, 146,   6,   6,   6, 146,   6,   6, 106,   6,   6, 105,\n",
      "        132,   6], device='cuda:3') torch.Size([16])\n",
      "08/29/2023, 10:23:14# labels of Validation: tensor([125,   9,  91, 129,   1,  67, 117, 101,  32, 118, 146,  92,  20,  90,\n",
      "         97,  76], device='cuda:3') torch.Size([16])\n",
      "08/29/2023, 10:23:14# predicted of Validation: tensor([  6,   6, 132, 132,   6,  40,  40, 132, 149, 149, 146,   6,   6, 132,\n",
      "          6,   6], device='cuda:3') torch.Size([16])\n",
      "08/29/2023, 10:23:15# Validation Loss: 4.1348 | Validation Accuracy: 0.1299\n",
      "\n"
     ]
    },
    {
     "data": {
      "application/vnd.jupyter.widget-view+json": {
       "model_id": "b8f69d37d98e40bcaee07aacd834ddf3",
       "version_major": 2,
       "version_minor": 0
      },
      "text/plain": [
       "Training:   0%|          | 0/8250 [00:00<?, ?it/s]"
      ]
     },
     "metadata": {},
     "output_type": "display_data"
    },
    {
     "name": "stdout",
     "output_type": "stream",
     "text": [
      "08/29/2023, 10:27:17# labels of 5000: tensor([137,  93, 130, 128, 152,  62, 154,  67,  43, 135,  16,  97,  41, 126,\n",
      "         11,  83], device='cuda:3') torch.Size([16])\n",
      "08/29/2023, 10:27:17# predicted of 5000: tensor([ 28, 132,  67,  62,  28,  96, 154,  67, 161, 100,  16,  28, 100,  67,\n",
      "         28,  28], device='cuda:3') torch.Size([16])\n",
      "08/29/2023, 10:30:10# total batches: 8250\n",
      "08/29/2023, 10:30:10# Epoch 1 | Train Loss: 3.8987 | Train Accuracy: 0.1657\n"
     ]
    },
    {
     "data": {
      "application/vnd.jupyter.widget-view+json": {
       "model_id": "a437a69055e646e5a0e4aa799f936757",
       "version_major": 2,
       "version_minor": 0
      },
      "text/plain": [
       "Validation:   0%|          | 0/1032 [00:00<?, ?it/s]"
      ]
     },
     "metadata": {},
     "output_type": "display_data"
    },
    {
     "name": "stdout",
     "output_type": "stream",
     "text": [
      "08/29/2023, 10:30:10# labels of Validation: tensor([ 63, 137,  47,   3,  49,  67,  32,  18, 129, 133, 139,  68, 105,  32,\n",
      "         35,  75], device='cuda:3') torch.Size([16])\n",
      "08/29/2023, 10:30:10# predicted of Validation: tensor([103, 103, 103, 128, 103,  67,  32, 103, 132, 132, 103, 132, 105,  32,\n",
      "         32, 103], device='cuda:3') torch.Size([16])\n",
      "08/29/2023, 10:30:10# labels of 0: tensor([ 63, 137,  47,   3,  49,  67,  32,  18, 129, 133, 139,  68, 105,  32,\n",
      "         35,  75], device='cuda:3') torch.Size([16])\n",
      "08/29/2023, 10:30:10# predicted of 0: tensor([103, 103, 103, 128, 103,  67,  32, 103, 132, 132, 103, 132, 105,  32,\n",
      "         32, 103], device='cuda:3') torch.Size([16])\n",
      "08/29/2023, 10:31:00# labels of Validation: tensor([ 59,  76,  57,  21, 151, 122, 150,  85, 117,  79, 142,  17,  70,  29,\n",
      "         48, 115], device='cuda:3') torch.Size([16])\n",
      "08/29/2023, 10:31:00# predicted of Validation: tensor([132, 103, 103, 132, 103, 122, 103,  85, 117,  40, 103,  17,  70,  29,\n",
      "        103, 115], device='cuda:3') torch.Size([16])\n",
      "08/29/2023, 10:31:02# Validation Loss: 3.6728 | Validation Accuracy: 0.2281\n",
      "\n",
      "08/29/2023, 10:31:02# Find a better model!!\n"
     ]
    },
    {
     "data": {
      "application/vnd.jupyter.widget-view+json": {
       "model_id": "200e1bac82d1463a8985169d977deb92",
       "version_major": 2,
       "version_minor": 0
      },
      "text/plain": [
       "Training:   0%|          | 0/8250 [00:00<?, ?it/s]"
      ]
     },
     "metadata": {},
     "output_type": "display_data"
    },
    {
     "name": "stdout",
     "output_type": "stream",
     "text": [
      "08/29/2023, 10:36:09# labels of 5000: tensor([ 75,  64,  46,  90,  77, 142, 126,  20,  45,  62,  36,  40,  32, 155,\n",
      "         81, 125], device='cuda:3') torch.Size([16])\n",
      "08/29/2023, 10:36:09# predicted of 5000: tensor([161, 161,  30,  21, 161,  77,   0, 161,  40, 146,  14,  40,  32,  87,\n",
      "         14, 161], device='cuda:3') torch.Size([16])\n",
      "08/29/2023, 10:39:27# total batches: 8250\n",
      "08/29/2023, 10:39:27# Epoch 2 | Train Loss: 3.5581 | Train Accuracy: 0.2333\n"
     ]
    },
    {
     "data": {
      "application/vnd.jupyter.widget-view+json": {
       "model_id": "01ab53355ee04e069cccf12f77615dfc",
       "version_major": 2,
       "version_minor": 0
      },
      "text/plain": [
       "Validation:   0%|          | 0/1032 [00:00<?, ?it/s]"
      ]
     },
     "metadata": {},
     "output_type": "display_data"
    },
    {
     "name": "stdout",
     "output_type": "stream",
     "text": [
      "08/29/2023, 10:39:27# labels of Validation: tensor([103,  25,  99,  91, 159, 156,  16,  48, 158, 144,   9,   8,  90,  81,\n",
      "        143, 166], device='cuda:3') torch.Size([16])\n",
      "08/29/2023, 10:39:27# predicted of Validation: tensor([ 28,  25,  99, 132, 159, 156,  16, 166, 166, 166, 166,  28,  28, 166,\n",
      "        166, 132], device='cuda:3') torch.Size([16])\n",
      "08/29/2023, 10:39:27# labels of 0: tensor([103,  25,  99,  91, 159, 156,  16,  48, 158, 144,   9,   8,  90,  81,\n",
      "        143, 166], device='cuda:3') torch.Size([16])\n",
      "08/29/2023, 10:39:27# predicted of 0: tensor([ 28,  25,  99, 132, 159, 156,  16, 166, 166, 166, 166,  28,  28, 166,\n",
      "        166, 132], device='cuda:3') torch.Size([16])\n",
      "08/29/2023, 10:40:17# labels of Validation: tensor([155, 100,  17, 142,  76,  95, 103, 135,  21,  72,  84,  29, 158, 100,\n",
      "         85, 121], device='cuda:3') torch.Size([16])\n",
      "08/29/2023, 10:40:17# predicted of Validation: tensor([132,  28,  17, 166, 166,  61,  28, 166, 132,  72, 146,  29, 166,  28,\n",
      "         85, 166], device='cuda:3') torch.Size([16])\n",
      "08/29/2023, 10:40:19# Validation Loss: 3.4141 | Validation Accuracy: 0.2644\n",
      "\n",
      "08/29/2023, 10:40:19# Find a better model!!\n"
     ]
    },
    {
     "data": {
      "application/vnd.jupyter.widget-view+json": {
       "model_id": "250deee3a86343788a6dfe426f75a613",
       "version_major": 2,
       "version_minor": 0
      },
      "text/plain": [
       "Training:   0%|          | 0/8250 [00:00<?, ?it/s]"
      ]
     },
     "metadata": {},
     "output_type": "display_data"
    },
    {
     "name": "stdout",
     "output_type": "stream",
     "text": [
      "08/29/2023, 10:45:18# labels of 5000: tensor([111,  36,  45, 125,  89, 164, 149,  86, 135, 137,  29, 106,   9, 122,\n",
      "        164, 105], device='cuda:3') torch.Size([16])\n",
      "08/29/2023, 10:45:18# predicted of 5000: tensor([162, 113,  95,  41,  32, 113, 149, 113, 162, 113,  29, 106, 162, 122,\n",
      "        132, 105], device='cuda:3') torch.Size([16])\n",
      "08/29/2023, 10:48:40# total batches: 8250\n",
      "08/29/2023, 10:48:40# Epoch 3 | Train Loss: 3.3519 | Train Accuracy: 0.2777\n"
     ]
    },
    {
     "data": {
      "application/vnd.jupyter.widget-view+json": {
       "model_id": "c4a352304c5441228f96843805cdb305",
       "version_major": 2,
       "version_minor": 0
      },
      "text/plain": [
       "Validation:   0%|          | 0/1032 [00:00<?, ?it/s]"
      ]
     },
     "metadata": {},
     "output_type": "display_data"
    },
    {
     "name": "stdout",
     "output_type": "stream",
     "text": [
      "08/29/2023, 10:48:40# labels of Validation: tensor([ 20, 119, 119, 123,  90, 139,  82, 145,  49,  27,  49,  95,  23,  45,\n",
      "        144,  75], device='cuda:3') torch.Size([16])\n",
      "08/29/2023, 10:48:40# predicted of Validation: tensor([ 48,  48,  48, 123, 132,  48,  82, 115,  48,  45,  48,  39,  23,  45,\n",
      "         48,  48], device='cuda:3') torch.Size([16])\n",
      "08/29/2023, 10:48:40# labels of 0: tensor([ 20, 119, 119, 123,  90, 139,  82, 145,  49,  27,  49,  95,  23,  45,\n",
      "        144,  75], device='cuda:3') torch.Size([16])\n",
      "08/29/2023, 10:48:40# predicted of 0: tensor([ 48,  48,  48, 123, 132,  48,  82, 115,  48,  45,  48,  39,  23,  45,\n",
      "         48,  48], device='cuda:3') torch.Size([16])\n",
      "08/29/2023, 10:49:33# labels of Validation: tensor([ 61,  50, 103, 115,  91, 129, 131, 161, 147,  88,  78, 133,  82, 156,\n",
      "         20,  66], device='cuda:3') torch.Size([16])\n",
      "08/29/2023, 10:49:33# predicted of Validation: tensor([ 39,  50, 132, 115, 132, 132, 132, 132, 147, 132,  67, 132,  82, 156,\n",
      "         48, 132], device='cuda:3') torch.Size([16])\n",
      "08/29/2023, 10:49:35# Validation Loss: 3.2416 | Validation Accuracy: 0.3203\n",
      "\n",
      "08/29/2023, 10:49:35# Find a better model!!\n"
     ]
    },
    {
     "data": {
      "application/vnd.jupyter.widget-view+json": {
       "model_id": "6243fdbc2a894760becbd470151bbc4f",
       "version_major": 2,
       "version_minor": 0
      },
      "text/plain": [
       "Training:   0%|          | 0/8250 [00:00<?, ?it/s]"
      ]
     },
     "metadata": {},
     "output_type": "display_data"
    },
    {
     "name": "stdout",
     "output_type": "stream",
     "text": [
      "08/29/2023, 10:54:35# labels of 5000: tensor([164,  39, 152,  79, 105,  32, 108, 157,  30, 112,  63,  17,  14,  21,\n",
      "        126,  95], device='cuda:3') torch.Size([16])\n",
      "08/29/2023, 10:54:35# predicted of 5000: tensor([162,   5,  92,  89, 105,  32,   6, 110, 110, 110, 162,  17, 110, 131,\n",
      "        126,  95], device='cuda:3') torch.Size([16])\n",
      "08/29/2023, 10:58:24# total batches: 8250\n",
      "08/29/2023, 10:58:24# Epoch 4 | Train Loss: 3.2121 | Train Accuracy: 0.3064\n"
     ]
    },
    {
     "data": {
      "application/vnd.jupyter.widget-view+json": {
       "model_id": "c0f8500dacb942178b3ebe2b9be017c1",
       "version_major": 2,
       "version_minor": 0
      },
      "text/plain": [
       "Validation:   0%|          | 0/1032 [00:00<?, ?it/s]"
      ]
     },
     "metadata": {},
     "output_type": "display_data"
    },
    {
     "name": "stdout",
     "output_type": "stream",
     "text": [
      "08/29/2023, 10:58:24# labels of Validation: tensor([ 20,  97, 136, 121, 155, 125, 116,  55,  88, 159,  50,  21,  57,  82,\n",
      "          0, 159], device='cuda:3') torch.Size([16])\n",
      "08/29/2023, 10:58:24# predicted of Validation: tensor([129, 129, 136, 129, 132, 129, 129, 129, 132, 159,  50, 132, 129,  82,\n",
      "          0, 159], device='cuda:3') torch.Size([16])\n",
      "08/29/2023, 10:58:24# labels of 0: tensor([ 20,  97, 136, 121, 155, 125, 116,  55,  88, 159,  50,  21,  57,  82,\n",
      "          0, 159], device='cuda:3') torch.Size([16])\n",
      "08/29/2023, 10:58:24# predicted of 0: tensor([129, 129, 136, 129, 132, 129, 129, 129, 132, 159,  50, 132, 129,  82,\n",
      "          0, 159], device='cuda:3') torch.Size([16])\n",
      "08/29/2023, 10:59:12# labels of Validation: tensor([ 31,  92,  53,  28,  59, 135,  47, 119, 106,  45,  82, 162, 159,  58,\n",
      "         88, 107], device='cuda:3') torch.Size([16])\n",
      "08/29/2023, 10:59:12# predicted of Validation: tensor([129, 129, 129, 132, 132, 129, 129, 129, 106,  45,  82, 129, 159, 129,\n",
      "        132, 132], device='cuda:3') torch.Size([16])\n",
      "08/29/2023, 10:59:14# Validation Loss: 3.1221 | Validation Accuracy: 0.3347\n",
      "\n",
      "08/29/2023, 10:59:14# Find a better model!!\n"
     ]
    },
    {
     "data": {
      "application/vnd.jupyter.widget-view+json": {
       "model_id": "863f736e70a04bb9bc9ddc1f23d42996",
       "version_major": 2,
       "version_minor": 0
      },
      "text/plain": [
       "Training:   0%|          | 0/8250 [00:00<?, ?it/s]"
      ]
     },
     "metadata": {},
     "output_type": "display_data"
    },
    {
     "name": "stdout",
     "output_type": "stream",
     "text": [
      "08/29/2023, 11:04:08# labels of 5000: tensor([155,  69,  29, 117,  40, 112,   9,  72,  92, 122, 142, 102, 114,  77,\n",
      "         13, 158], device='cuda:3') torch.Size([16])\n",
      "08/29/2023, 11:04:08# predicted of 5000: tensor([161,  69,  29, 117,  40,  44,  44,  56, 160, 122, 109,  44, 161, 161,\n",
      "         13,  44], device='cuda:3') torch.Size([16])\n",
      "08/29/2023, 11:08:19# total batches: 8250\n",
      "08/29/2023, 11:08:19# Epoch 5 | Train Loss: 3.1152 | Train Accuracy: 0.3235\n"
     ]
    },
    {
     "data": {
      "application/vnd.jupyter.widget-view+json": {
       "model_id": "00468326cd2444138af2540fa0d4410b",
       "version_major": 2,
       "version_minor": 0
      },
      "text/plain": [
       "Validation:   0%|          | 0/1032 [00:00<?, ?it/s]"
      ]
     },
     "metadata": {},
     "output_type": "display_data"
    },
    {
     "name": "stdout",
     "output_type": "stream",
     "text": [
      "08/29/2023, 11:08:19# labels of Validation: tensor([152,  71, 110, 129,  51,  20, 155,  14,  19, 160,  77,  35,  98,  13,\n",
      "        119, 130], device='cuda:3') torch.Size([16])\n",
      "08/29/2023, 11:08:19# predicted of Validation: tensor([158, 158, 161, 161, 161, 158, 161, 158, 158, 161, 161,  35, 158,  13,\n",
      "        158, 130], device='cuda:3') torch.Size([16])\n",
      "08/29/2023, 11:08:19# labels of 0: tensor([152,  71, 110, 129,  51,  20, 155,  14,  19, 160,  77,  35,  98,  13,\n",
      "        119, 130], device='cuda:3') torch.Size([16])\n",
      "08/29/2023, 11:08:19# predicted of 0: tensor([158, 158, 161, 161, 161, 158, 161, 158, 158, 161, 161,  35, 158,  13,\n",
      "        158, 130], device='cuda:3') torch.Size([16])\n",
      "08/29/2023, 11:09:35# labels of Validation: tensor([105,  61, 152,  31,  50,   7, 100, 124,  32, 123,  70, 118,  87,  99,\n",
      "        155,  40], device='cuda:3') torch.Size([16])\n",
      "08/29/2023, 11:09:35# predicted of Validation: tensor([105,  61, 158, 158,  50,   7, 161, 158,  32, 123,  70, 118, 158,  99,\n",
      "        161,  40], device='cuda:3') torch.Size([16])\n",
      "08/29/2023, 11:09:37# Validation Loss: 3.0372 | Validation Accuracy: 0.3527\n",
      "\n",
      "08/29/2023, 11:09:37# Find a better model!!\n"
     ]
    },
    {
     "data": {
      "application/vnd.jupyter.widget-view+json": {
       "model_id": "91e971625b5546819d40a3a41d0c9fc9",
       "version_major": 2,
       "version_minor": 0
      },
      "text/plain": [
       "Training:   0%|          | 0/8250 [00:00<?, ?it/s]"
      ]
     },
     "metadata": {},
     "output_type": "display_data"
    },
    {
     "name": "stdout",
     "output_type": "stream",
     "text": [
      "08/29/2023, 11:16:23# labels of 5000: tensor([115, 128,  46,  57,  15,  11,  90, 110, 148, 161,  19,  67, 100,  18,\n",
      "        145,  93], device='cuda:3') torch.Size([16])\n",
      "08/29/2023, 11:16:23# predicted of 5000: tensor([115, 128, 142,  88,  15,  77,  28,  28,  28, 161,  10,  67,  28,  60,\n",
      "        145, 129], device='cuda:3') torch.Size([16])\n",
      "08/29/2023, 11:20:58# total batches: 8250\n",
      "08/29/2023, 11:20:58# Epoch 6 | Train Loss: 3.0445 | Train Accuracy: 0.3351\n"
     ]
    },
    {
     "data": {
      "application/vnd.jupyter.widget-view+json": {
       "model_id": "cf88490ffb8e456da7db3459b465da08",
       "version_major": 2,
       "version_minor": 0
      },
      "text/plain": [
       "Validation:   0%|          | 0/1032 [00:00<?, ?it/s]"
      ]
     },
     "metadata": {},
     "output_type": "display_data"
    },
    {
     "name": "stdout",
     "output_type": "stream",
     "text": [
      "08/29/2023, 11:20:58# labels of Validation: tensor([128,  58,  96,  55,  97,  74,  12,   9,  53,  14,  66, 121,  53,  43,\n",
      "        132,  25], device='cuda:3') torch.Size([16])\n",
      "08/29/2023, 11:20:58# predicted of Validation: tensor([128, 150,  96, 150, 150, 150, 150, 150, 150, 150, 132, 150, 150, 150,\n",
      "        132,  25], device='cuda:3') torch.Size([16])\n",
      "08/29/2023, 11:20:58# labels of 0: tensor([128,  58,  96,  55,  97,  74,  12,   9,  53,  14,  66, 121,  53,  43,\n",
      "        132,  25], device='cuda:3') torch.Size([16])\n",
      "08/29/2023, 11:20:58# predicted of 0: tensor([128, 150,  96, 150, 150, 150, 150, 150, 150, 150, 132, 150, 150, 150,\n",
      "        132,  25], device='cuda:3') torch.Size([16])\n",
      "08/29/2023, 11:22:16# labels of Validation: tensor([118, 123,  96,  78, 105,  60,  25, 144, 160, 116,  49,  31, 150, 148,\n",
      "        108,  54], device='cuda:3') torch.Size([16])\n",
      "08/29/2023, 11:22:16# predicted of Validation: tensor([118, 123,  96,  67, 105, 150,  25, 150, 161, 150, 150, 150, 150, 161,\n",
      "        132, 150], device='cuda:3') torch.Size([16])\n",
      "08/29/2023, 11:22:19# Validation Loss: 2.9777 | Validation Accuracy: 0.3564\n",
      "\n",
      "08/29/2023, 11:22:19# Find a better model!!\n"
     ]
    },
    {
     "data": {
      "application/vnd.jupyter.widget-view+json": {
       "model_id": "ae5e94ca5dbf4304853deb4dfe0a3fa7",
       "version_major": 2,
       "version_minor": 0
      },
      "text/plain": [
       "Training:   0%|          | 0/8250 [00:00<?, ?it/s]"
      ]
     },
     "metadata": {},
     "output_type": "display_data"
    },
    {
     "name": "stdout",
     "output_type": "stream",
     "text": [
      "08/29/2023, 11:29:08# labels of 5000: tensor([141,  45, 106,  75, 158, 121,  75,  74,  43,  18,  36,  80,  43,  36,\n",
      "         64, 161], device='cuda:3') torch.Size([16])\n",
      "08/29/2023, 11:29:09# predicted of 5000: tensor([ 93,  45, 106,  43,  93, 124,  93, 124,  49, 148,  86,  80, 101,  93,\n",
      "        132, 132], device='cuda:3') torch.Size([16])\n",
      "08/29/2023, 11:33:41# total batches: 8250\n",
      "08/29/2023, 11:33:41# Epoch 7 | Train Loss: 2.9894 | Train Accuracy: 0.3449\n"
     ]
    },
    {
     "data": {
      "application/vnd.jupyter.widget-view+json": {
       "model_id": "3449740019ba46f89af3610c6dad80cb",
       "version_major": 2,
       "version_minor": 0
      },
      "text/plain": [
       "Validation:   0%|          | 0/1032 [00:00<?, ?it/s]"
      ]
     },
     "metadata": {},
     "output_type": "display_data"
    },
    {
     "name": "stdout",
     "output_type": "stream",
     "text": [
      "08/29/2023, 11:33:41# labels of Validation: tensor([ 16, 141,  94, 111,  58, 116, 156,  43,   0,  79,  73,  47,  17,  89,\n",
      "         25,  25], device='cuda:3') torch.Size([16])\n",
      "08/29/2023, 11:33:41# predicted of Validation: tensor([ 16, 161,  94,  60,  60,  60, 156,  60,   0,  79,  73,  60,  17,  89,\n",
      "         25,  25], device='cuda:3') torch.Size([16])\n",
      "08/29/2023, 11:33:41# labels of 0: tensor([ 16, 141,  94, 111,  58, 116, 156,  43,   0,  79,  73,  47,  17,  89,\n",
      "         25,  25], device='cuda:3') torch.Size([16])\n",
      "08/29/2023, 11:33:41# predicted of 0: tensor([ 16, 161,  94,  60,  60,  60, 156,  60,   0,  79,  73,  60,  17,  89,\n",
      "         25,  25], device='cuda:3') torch.Size([16])\n",
      "08/29/2023, 11:34:57# labels of Validation: tensor([110,  63,  80, 104, 111, 112,  76, 116,  34,  69, 133,  14,  41, 148,\n",
      "        146,   4], device='cuda:3') torch.Size([16])\n",
      "08/29/2023, 11:34:57# predicted of Validation: tensor([161,  60,  80,  60,  60,  60,  60,  60,  60,  69, 161,  60,  60, 161,\n",
      "        146,  60], device='cuda:3') torch.Size([16])\n",
      "08/29/2023, 11:34:59# Validation Loss: 2.9285 | Validation Accuracy: 0.3623\n",
      "\n",
      "08/29/2023, 11:34:59# Find a better model!!\n"
     ]
    },
    {
     "data": {
      "application/vnd.jupyter.widget-view+json": {
       "model_id": "9e40b196fd8b4684a910e234cda51416",
       "version_major": 2,
       "version_minor": 0
      },
      "text/plain": [
       "Training:   0%|          | 0/8250 [00:00<?, ?it/s]"
      ]
     },
     "metadata": {},
     "output_type": "display_data"
    },
    {
     "name": "stdout",
     "output_type": "stream",
     "text": [
      "08/29/2023, 11:41:59# labels of 5000: tensor([ 79, 134, 105,  27, 128,  40,  95, 165,   6, 166, 121,  84,   2,  11,\n",
      "         15,  37], device='cuda:3') torch.Size([16])\n",
      "08/29/2023, 11:41:59# predicted of 5000: tensor([ 15, 134, 105,  27, 128,  40,  95, 165, 132, 132,  44,  84,  14,  43,\n",
      "         15, 132], device='cuda:3') torch.Size([16])\n",
      "08/29/2023, 11:46:28# total batches: 8250\n",
      "08/29/2023, 11:46:28# Epoch 8 | Train Loss: 2.9499 | Train Accuracy: 0.3499\n"
     ]
    },
    {
     "data": {
      "application/vnd.jupyter.widget-view+json": {
       "model_id": "82ddc421deeb48e088b2faca2bd38d30",
       "version_major": 2,
       "version_minor": 0
      },
      "text/plain": [
       "Validation:   0%|          | 0/1032 [00:00<?, ?it/s]"
      ]
     },
     "metadata": {},
     "output_type": "display_data"
    },
    {
     "name": "stdout",
     "output_type": "stream",
     "text": [
      "08/29/2023, 11:46:28# labels of Validation: tensor([ 60,  56, 163,  40, 135, 122,  26, 113, 126,  77,  24,   8,  87, 109,\n",
      "          0,  29], device='cuda:3') torch.Size([16])\n",
      "08/29/2023, 11:46:28# predicted of Validation: tensor([  9,  56,   9,  40,   9, 122,   9, 131, 126, 131,   9, 131,   9,   9,\n",
      "          0,  29], device='cuda:3') torch.Size([16])\n",
      "08/29/2023, 11:46:28# labels of 0: tensor([ 60,  56, 163,  40, 135, 122,  26, 113, 126,  77,  24,   8,  87, 109,\n",
      "          0,  29], device='cuda:3') torch.Size([16])\n",
      "08/29/2023, 11:46:28# predicted of 0: tensor([  9,  56,   9,  40,   9, 122,   9, 131, 126, 131,   9, 131,   9,   9,\n",
      "          0,  29], device='cuda:3') torch.Size([16])\n",
      "08/29/2023, 11:47:42# labels of Validation: tensor([126, 100, 130,  13,  87,  78, 127, 122, 120, 116,  64,  71, 122, 119,\n",
      "        151,  63], device='cuda:3') torch.Size([16])\n",
      "08/29/2023, 11:47:42# predicted of Validation: tensor([126, 131, 130,  13,   9,  78, 127, 122, 120,   9, 131,   9, 122,   9,\n",
      "          9,   9], device='cuda:3') torch.Size([16])\n",
      "08/29/2023, 11:47:44# Validation Loss: 2.8937 | Validation Accuracy: 0.3700\n",
      "\n",
      "08/29/2023, 11:47:44# Find a better model!!\n"
     ]
    },
    {
     "data": {
      "application/vnd.jupyter.widget-view+json": {
       "model_id": "c1f29fd97af847dbb40b7d1d97b8fbb3",
       "version_major": 2,
       "version_minor": 0
      },
      "text/plain": [
       "Training:   0%|          | 0/8250 [00:00<?, ?it/s]"
      ]
     },
     "metadata": {},
     "output_type": "display_data"
    },
    {
     "name": "stdout",
     "output_type": "stream",
     "text": [
      "08/29/2023, 11:55:48# labels of 5000: tensor([ 96,  76, 113, 141, 118,  66,  70,   7,   2, 141,  30,  95,   9,   3,\n",
      "        130,  47], device='cuda:3') torch.Size([16])\n",
      "08/29/2023, 11:55:48# predicted of 5000: tensor([ 96,  60,  21,  66, 118, 132,  70,   7, 148, 148, 148,  95,  76,   3,\n",
      "        130,  60], device='cuda:3') torch.Size([16])\n",
      "08/29/2023, 12:01:01# total batches: 8250\n",
      "08/29/2023, 12:01:01# Epoch 9 | Train Loss: 2.9193 | Train Accuracy: 0.3548\n"
     ]
    },
    {
     "data": {
      "application/vnd.jupyter.widget-view+json": {
       "model_id": "e4c4ffc4ed284e458995ac00913ca3b7",
       "version_major": 2,
       "version_minor": 0
      },
      "text/plain": [
       "Validation:   0%|          | 0/1032 [00:00<?, ?it/s]"
      ]
     },
     "metadata": {},
     "output_type": "display_data"
    },
    {
     "name": "stdout",
     "output_type": "stream",
     "text": [
      "08/29/2023, 12:01:01# labels of Validation: tensor([ 36, 137, 126, 131,  17,  89, 106,  82, 108, 160, 135,  10,   2,  80,\n",
      "          0, 109], device='cuda:3') torch.Size([16])\n",
      "08/29/2023, 12:01:01# predicted of Validation: tensor([ 87,  87, 126,  28,  17,  89, 106,  82,  28,  28,  87,  87,  87,  80,\n",
      "          0,  87], device='cuda:3') torch.Size([16])\n",
      "08/29/2023, 12:01:01# labels of 0: tensor([ 36, 137, 126, 131,  17,  89, 106,  82, 108, 160, 135,  10,   2,  80,\n",
      "          0, 109], device='cuda:3') torch.Size([16])\n",
      "08/29/2023, 12:01:01# predicted of 0: tensor([ 87,  87, 126,  28,  17,  89, 106,  82,  28,  28,  87,  87,  87,  80,\n",
      "          0,  87], device='cuda:3') torch.Size([16])\n",
      "08/29/2023, 12:02:15# labels of Validation: tensor([ 71,  16,  83,  37, 112, 122, 140,  86, 131,  44, 116, 137,  84, 112,\n",
      "         51, 128], device='cuda:3') torch.Size([16])\n",
      "08/29/2023, 12:02:15# predicted of Validation: tensor([ 87,  16,  87,  28,  87, 122, 140,  87,  28,  87,  87,  87,  84,  87,\n",
      "         28, 128], device='cuda:3') torch.Size([16])\n",
      "08/29/2023, 12:02:18# Validation Loss: 2.8657 | Validation Accuracy: 0.3660\n",
      "\n",
      "08/29/2023, 12:02:18# Find a better model!!\n"
     ]
    },
    {
     "data": {
      "application/vnd.jupyter.widget-view+json": {
       "model_id": "e6f1c7694c154b71a6deaade7365d8f1",
       "version_major": 2,
       "version_minor": 0
      },
      "text/plain": [
       "Training:   0%|          | 0/8250 [00:00<?, ?it/s]"
      ]
     },
     "metadata": {},
     "output_type": "display_data"
    },
    {
     "name": "stdout",
     "output_type": "stream",
     "text": [
      "08/29/2023, 12:09:16# labels of 5000: tensor([154,  14,  25, 138, 166, 130, 151,  49,  96,  55,  99, 148,   5,  61,\n",
      "        156,  99], device='cuda:3') torch.Size([16])\n",
      "08/29/2023, 12:09:16# predicted of 5000: tensor([154,  86,  25, 138,   6, 130, 160,  53,  96, 160,  99,   6,   5,  61,\n",
      "        156,  99], device='cuda:3') torch.Size([16])\n",
      "08/29/2023, 12:13:45# total batches: 8250\n",
      "08/29/2023, 12:13:45# Epoch 10 | Train Loss: 2.8939 | Train Accuracy: 0.3586\n"
     ]
    },
    {
     "data": {
      "application/vnd.jupyter.widget-view+json": {
       "model_id": "db48e9bf06f34c98baf5fbf20c4735f8",
       "version_major": 2,
       "version_minor": 0
      },
      "text/plain": [
       "Validation:   0%|          | 0/1032 [00:00<?, ?it/s]"
      ]
     },
     "metadata": {},
     "output_type": "display_data"
    },
    {
     "name": "stdout",
     "output_type": "stream",
     "text": [
      "08/29/2023, 12:13:45# labels of Validation: tensor([117,  64, 105, 152, 131,  79,  12,  33,  64,   3,  48,   4,  11, 108,\n",
      "         67, 129], device='cuda:3') torch.Size([16])\n",
      "08/29/2023, 12:13:45# predicted of Validation: tensor([117, 155, 105,  92,  28,  79,  92,  92, 155,   3,  92,  92,  92,  28,\n",
      "         78, 155], device='cuda:3') torch.Size([16])\n",
      "08/29/2023, 12:13:45# labels of 0: tensor([117,  64, 105, 152, 131,  79,  12,  33,  64,   3,  48,   4,  11, 108,\n",
      "         67, 129], device='cuda:3') torch.Size([16])\n",
      "08/29/2023, 12:13:45# predicted of 0: tensor([117, 155, 105,  92,  28,  79,  92,  92, 155,   3,  92,  92,  92,  28,\n",
      "         78, 155], device='cuda:3') torch.Size([16])\n",
      "08/29/2023, 12:14:58# labels of Validation: tensor([ 56, 106,  55,  30,  75,  61, 111,  69,   2, 152,  87,  50,  59,  59,\n",
      "        157, 119], device='cuda:3') torch.Size([16])\n",
      "08/29/2023, 12:14:58# predicted of Validation: tensor([ 56, 106,  92,  92,  92,  61,  92,  69,  92,  92,  92,  50,  28,  28,\n",
      "         92,  92], device='cuda:3') torch.Size([16])\n",
      "08/29/2023, 12:15:00# Validation Loss: 2.8467 | Validation Accuracy: 0.3672\n",
      "\n",
      "08/29/2023, 12:15:00# Find a better model!!\n"
     ]
    },
    {
     "data": {
      "application/vnd.jupyter.widget-view+json": {
       "model_id": "2a4b580d53a241abba6cb0b2e608ebc2",
       "version_major": 2,
       "version_minor": 0
      },
      "text/plain": [
       "Training:   0%|          | 0/8250 [00:00<?, ?it/s]"
      ]
     },
     "metadata": {},
     "output_type": "display_data"
    },
    {
     "name": "stdout",
     "output_type": "stream",
     "text": [
      "08/29/2023, 12:21:51# labels of 5000: tensor([ 15, 145, 164,  68,  10,   3, 160,  16, 141, 130,  75,  33, 142,  92,\n",
      "        140,   0], device='cuda:3') torch.Size([16])\n",
      "08/29/2023, 12:21:51# predicted of 5000: tensor([ 15, 145,  76, 161, 152,   3, 107,  16, 161, 130,  53, 121,  53,  53,\n",
      "        140,   0], device='cuda:3') torch.Size([16])\n",
      "08/29/2023, 12:26:17# total batches: 8250\n",
      "08/29/2023, 12:26:17# Epoch 11 | Train Loss: 2.8755 | Train Accuracy: 0.3602\n"
     ]
    },
    {
     "data": {
      "application/vnd.jupyter.widget-view+json": {
       "model_id": "87719989e5d641c7abc4b7c37308a744",
       "version_major": 2,
       "version_minor": 0
      },
      "text/plain": [
       "Validation:   0%|          | 0/1032 [00:00<?, ?it/s]"
      ]
     },
     "metadata": {},
     "output_type": "display_data"
    },
    {
     "name": "stdout",
     "output_type": "stream",
     "text": [
      "08/29/2023, 12:26:18# labels of Validation: tensor([ 96,  45,   0,  85,  35, 156,  35,  82, 117, 129,   3,   4,  94, 131,\n",
      "        150, 112], device='cuda:3') torch.Size([16])\n",
      "08/29/2023, 12:26:18# predicted of Validation: tensor([ 96,  45,   0,  85,  35, 156,  35,  82, 117, 101,   3, 104,  94, 132,\n",
      "        104, 104], device='cuda:3') torch.Size([16])\n",
      "08/29/2023, 12:26:18# labels of 0: tensor([ 96,  45,   0,  85,  35, 156,  35,  82, 117, 129,   3,   4,  94, 131,\n",
      "        150, 112], device='cuda:3') torch.Size([16])\n",
      "08/29/2023, 12:26:18# predicted of 0: tensor([ 96,  45,   0,  85,  35, 156,  35,  82, 117, 101,   3, 104,  94, 132,\n",
      "        104, 104], device='cuda:3') torch.Size([16])\n",
      "08/29/2023, 12:27:30# labels of Validation: tensor([ 23,  59, 148,  74,  81,  44, 126,   5, 118,  41,  14,  67,  86,   0,\n",
      "         26,  64], device='cuda:3') torch.Size([16])\n",
      "08/29/2023, 12:27:30# predicted of Validation: tensor([ 23, 132, 101, 104, 104, 104, 126,   5, 118, 104, 104,  67, 104,   0,\n",
      "        104, 101], device='cuda:3') torch.Size([16])\n",
      "08/29/2023, 12:27:33# Validation Loss: 2.8289 | Validation Accuracy: 0.3686\n",
      "\n",
      "08/29/2023, 12:27:33# Find a better model!!\n"
     ]
    },
    {
     "data": {
      "application/vnd.jupyter.widget-view+json": {
       "model_id": "f8767aa86f8642c0973bbe8dac6c59d5",
       "version_major": 2,
       "version_minor": 0
      },
      "text/plain": [
       "Training:   0%|          | 0/8250 [00:00<?, ?it/s]"
      ]
     },
     "metadata": {},
     "output_type": "display_data"
    },
    {
     "name": "stdout",
     "output_type": "stream",
     "text": [
      "08/29/2023, 12:34:27# labels of 5000: tensor([112, 119,  80, 133,  73, 123, 148,  55, 107,  46,  49, 165,  58,  89,\n",
      "         76,  67], device='cuda:3') torch.Size([16])\n",
      "08/29/2023, 12:34:27# predicted of 5000: tensor([ 18,  18,  80,   6,  73, 123,  66, 107,   6, 152,   1, 165, 152,  89,\n",
      "         83,  78], device='cuda:3') torch.Size([16])\n",
      "08/29/2023, 12:39:01# total batches: 8250\n",
      "08/29/2023, 12:39:01# Epoch 12 | Train Loss: 2.8597 | Train Accuracy: 0.3634\n"
     ]
    },
    {
     "data": {
      "application/vnd.jupyter.widget-view+json": {
       "model_id": "bb5e6cd47e144c7898604d669bf46db9",
       "version_major": 2,
       "version_minor": 0
      },
      "text/plain": [
       "Validation:   0%|          | 0/1032 [00:00<?, ?it/s]"
      ]
     },
     "metadata": {},
     "output_type": "display_data"
    },
    {
     "name": "stdout",
     "output_type": "stream",
     "text": [
      "08/29/2023, 12:39:01# labels of Validation: tensor([ 82, 126, 160, 147,  83, 154,  48, 137,  74, 102,  13, 149,  11,  96,\n",
      "         27, 111], device='cuda:3') torch.Size([16])\n",
      "08/29/2023, 12:39:01# predicted of Validation: tensor([ 82, 126,  77, 147, 116, 154, 116, 116, 116, 116,  13, 149, 116,  96,\n",
      "         27, 116], device='cuda:3') torch.Size([16])\n",
      "08/29/2023, 12:39:01# labels of 0: tensor([ 82, 126, 160, 147,  83, 154,  48, 137,  74, 102,  13, 149,  11,  96,\n",
      "         27, 111], device='cuda:3') torch.Size([16])\n",
      "08/29/2023, 12:39:01# predicted of 0: tensor([ 82, 126,  77, 147, 116, 154, 116, 116, 116, 116,  13, 149, 116,  96,\n",
      "         27, 116], device='cuda:3') torch.Size([16])\n",
      "08/29/2023, 12:40:16# labels of Validation: tensor([122,  27,   9, 131,  79,  62, 151, 110,  60,  59, 159,  85,  16, 100,\n",
      "         47, 165], device='cuda:3') torch.Size([16])\n",
      "08/29/2023, 12:40:16# predicted of Validation: tensor([122,  27, 116, 132,  13,  62, 116,  77, 116, 132, 159,  85,  16,  77,\n",
      "        116, 165], device='cuda:3') torch.Size([16])\n",
      "08/29/2023, 12:40:19# Validation Loss: 2.8162 | Validation Accuracy: 0.3692\n",
      "\n",
      "08/29/2023, 12:40:19# Find a better model!!\n"
     ]
    },
    {
     "data": {
      "application/vnd.jupyter.widget-view+json": {
       "model_id": "c0c224fa7100422e879a36944f7feecb",
       "version_major": 2,
       "version_minor": 0
      },
      "text/plain": [
       "Training:   0%|          | 0/8250 [00:00<?, ?it/s]"
      ]
     },
     "metadata": {},
     "output_type": "display_data"
    },
    {
     "name": "stdout",
     "output_type": "stream",
     "text": [
      "08/29/2023, 12:47:24# labels of 5000: tensor([119,  70, 109, 125,  53,  73,  58,  85,   7, 166, 105,  56, 162,  44,\n",
      "         71, 124], device='cuda:3') torch.Size([16])\n",
      "08/29/2023, 12:47:24# predicted of 5000: tensor([ 44,  70,  88,  77,  44,  73,  44,  85,   7, 155, 105,  56,  44,  30,\n",
      "         30,  44], device='cuda:3') torch.Size([16])\n",
      "08/29/2023, 12:52:00# total batches: 8250\n",
      "08/29/2023, 12:52:00# Epoch 13 | Train Loss: 2.8467 | Train Accuracy: 0.3657\n"
     ]
    },
    {
     "data": {
      "application/vnd.jupyter.widget-view+json": {
       "model_id": "27df074c2c59462a826d7f96966393ad",
       "version_major": 2,
       "version_minor": 0
      },
      "text/plain": [
       "Validation:   0%|          | 0/1032 [00:00<?, ?it/s]"
      ]
     },
     "metadata": {},
     "output_type": "display_data"
    },
    {
     "name": "stdout",
     "output_type": "stream",
     "text": [
      "08/29/2023, 12:52:00# labels of Validation: tensor([ 24,  28,  76,  95,  31, 135,  89,  49,   3,  66,   2, 152,  72,   7,\n",
      "         79, 150], device='cuda:3') torch.Size([16])\n",
      "08/29/2023, 12:52:00# predicted of Validation: tensor([  4, 161,   4,  95,   4,   4,  89,   4,   3, 161,   4,   4,  79,   7,\n",
      "         79,   4], device='cuda:3') torch.Size([16])\n",
      "08/29/2023, 12:52:00# labels of 0: tensor([ 24,  28,  76,  95,  31, 135,  89,  49,   3,  66,   2, 152,  72,   7,\n",
      "         79, 150], device='cuda:3') torch.Size([16])\n",
      "08/29/2023, 12:52:00# predicted of 0: tensor([  4, 161,   4,  95,   4,   4,  89,   4,   3, 161,   4,   4,  79,   7,\n",
      "         79,   4], device='cuda:3') torch.Size([16])\n",
      "08/29/2023, 12:53:16# labels of Validation: tensor([126, 137, 139,   9, 112, 118,  11, 133, 133, 111,  94,  80, 125,  27,\n",
      "        104,  83], device='cuda:3') torch.Size([16])\n",
      "08/29/2023, 12:53:16# predicted of Validation: tensor([126,   4,   4,   4,   4, 118,   4,  51,  51,   4,  94,  80,   4,  27,\n",
      "          4,   4], device='cuda:3') torch.Size([16])\n",
      "08/29/2023, 12:53:18# Validation Loss: 2.8040 | Validation Accuracy: 0.3706\n",
      "\n",
      "08/29/2023, 12:53:18# Find a better model!!\n"
     ]
    },
    {
     "data": {
      "application/vnd.jupyter.widget-view+json": {
       "model_id": "1e960e88897645d99dd08bb5fa907092",
       "version_major": 2,
       "version_minor": 0
      },
      "text/plain": [
       "Training:   0%|          | 0/8250 [00:00<?, ?it/s]"
      ]
     },
     "metadata": {},
     "output_type": "display_data"
    },
    {
     "name": "stdout",
     "output_type": "stream",
     "text": [
      "08/29/2023, 13:00:24# labels of 5000: tensor([ 32,  62, 122,  56,  97,  89,  54, 117, 149,  41,  68,  74,  91,  60,\n",
      "         23, 161], device='cuda:3') torch.Size([16])\n",
      "08/29/2023, 13:00:24# predicted of 5000: tensor([ 32,  35, 122,  56, 104,  89,  12,  61, 149, 142,  64,  81,   6,  12,\n",
      "         23,  28], device='cuda:3') torch.Size([16])\n",
      "08/29/2023, 13:05:06# total batches: 8250\n",
      "08/29/2023, 13:05:06# Epoch 14 | Train Loss: 2.8349 | Train Accuracy: 0.3664\n"
     ]
    },
    {
     "data": {
      "application/vnd.jupyter.widget-view+json": {
       "model_id": "225c56c142ea4219aafe60ce68d34f91",
       "version_major": 2,
       "version_minor": 0
      },
      "text/plain": [
       "Validation:   0%|          | 0/1032 [00:00<?, ?it/s]"
      ]
     },
     "metadata": {},
     "output_type": "display_data"
    },
    {
     "name": "stdout",
     "output_type": "stream",
     "text": [
      "08/29/2023, 13:05:06# labels of Validation: tensor([ 24,  84, 131, 125,  25, 109, 161, 101,  18,  35,  15, 158, 111,  51,\n",
      "        140,  18], device='cuda:3') torch.Size([16])\n",
      "08/29/2023, 13:05:06# predicted of Validation: tensor([ 42,  84,  28,  42,  25,  42, 132, 108,  42,  62,  15,  42,  42,  28,\n",
      "        140,  42], device='cuda:3') torch.Size([16])\n",
      "08/29/2023, 13:05:06# labels of 0: tensor([ 24,  84, 131, 125,  25, 109, 161, 101,  18,  35,  15, 158, 111,  51,\n",
      "        140,  18], device='cuda:3') torch.Size([16])\n",
      "08/29/2023, 13:05:06# predicted of 0: tensor([ 42,  84,  28,  42,  25,  42, 132, 108,  42,  62,  15,  42,  42,  28,\n",
      "        140,  42], device='cuda:3') torch.Size([16])\n",
      "08/29/2023, 13:06:20# labels of Validation: tensor([ 17, 103,  50, 143,  81,   5, 128,  10, 121,   6,  51,  69,  19,  10,\n",
      "        120,  63], device='cuda:3') torch.Size([16])\n",
      "08/29/2023, 13:06:20# predicted of Validation: tensor([ 17, 108,  50,  42,  42,   5, 128,  42,  42, 132,  28,  69,  42,  42,\n",
      "        120,  42], device='cuda:3') torch.Size([16])\n",
      "08/29/2023, 13:06:22# Validation Loss: 2.7928 | Validation Accuracy: 0.3719\n",
      "\n",
      "08/29/2023, 13:06:22# Find a better model!!\n"
     ]
    },
    {
     "data": {
      "application/vnd.jupyter.widget-view+json": {
       "model_id": "6ff26b7322804d13858e6a0db6c3223b",
       "version_major": 2,
       "version_minor": 0
      },
      "text/plain": [
       "Training:   0%|          | 0/8250 [00:00<?, ?it/s]"
      ]
     },
     "metadata": {},
     "output_type": "display_data"
    },
    {
     "name": "stdout",
     "output_type": "stream",
     "text": [
      "08/29/2023, 13:13:31# labels of 5000: tensor([ 96, 137, 108,  84,  28,  13, 112,  28, 166,   2,  46,  84, 137,  39,\n",
      "        150,   7], device='cuda:3') torch.Size([16])\n",
      "08/29/2023, 13:13:31# predicted of 5000: tensor([ 96,  83, 161,  84, 161,  13,  83, 132, 161,  83,  83,  84,  77,  39,\n",
      "        111,   7], device='cuda:3') torch.Size([16])\n",
      "08/29/2023, 13:18:09# total batches: 8250\n",
      "08/29/2023, 13:18:09# Epoch 15 | Train Loss: 2.8256 | Train Accuracy: 0.3685\n"
     ]
    },
    {
     "data": {
      "application/vnd.jupyter.widget-view+json": {
       "model_id": "0f0ef7d93ff04ac4a8ef52093513e6eb",
       "version_major": 2,
       "version_minor": 0
      },
      "text/plain": [
       "Validation:   0%|          | 0/1032 [00:00<?, ?it/s]"
      ]
     },
     "metadata": {},
     "output_type": "display_data"
    },
    {
     "name": "stdout",
     "output_type": "stream",
     "text": [
      "08/29/2023, 13:18:09# labels of Validation: tensor([ 23,  37,   9, 120, 109,  90, 103,  48,  70,   2, 132, 150,  21, 161,\n",
      "          6, 138], device='cuda:3') torch.Size([16])\n",
      "08/29/2023, 13:18:09# predicted of Validation: tensor([ 23, 166, 144, 120, 144, 166, 166, 144,  70, 144, 132, 144, 132, 132,\n",
      "        132, 138], device='cuda:3') torch.Size([16])\n",
      "08/29/2023, 13:18:09# labels of 0: tensor([ 23,  37,   9, 120, 109,  90, 103,  48,  70,   2, 132, 150,  21, 161,\n",
      "          6, 138], device='cuda:3') torch.Size([16])\n",
      "08/29/2023, 13:18:09# predicted of 0: tensor([ 23, 166, 144, 120, 144, 166, 166, 144,  70, 144, 132, 144, 132, 132,\n",
      "        132, 138], device='cuda:3') torch.Size([16])\n",
      "08/29/2023, 13:19:25# labels of Validation: tensor([  8, 158,  30, 148, 106,  40, 111, 108,  52, 156, 110, 144, 147, 136,\n",
      "         54,  78], device='cuda:3') torch.Size([16])\n",
      "08/29/2023, 13:19:25# predicted of Validation: tensor([166, 144, 144, 166, 106,  40, 144, 132,  52, 156, 166, 144, 147, 136,\n",
      "        144,  67], device='cuda:3') torch.Size([16])\n",
      "08/29/2023, 13:19:27# Validation Loss: 2.7840 | Validation Accuracy: 0.3724\n",
      "\n",
      "08/29/2023, 13:19:27# Find a better model!!\n"
     ]
    },
    {
     "data": {
      "application/vnd.jupyter.widget-view+json": {
       "model_id": "0384c94621634b0283d17df03ec6c5ec",
       "version_major": 2,
       "version_minor": 0
      },
      "text/plain": [
       "Training:   0%|          | 0/8250 [00:00<?, ?it/s]"
      ]
     },
     "metadata": {},
     "output_type": "display_data"
    },
    {
     "name": "stdout",
     "output_type": "stream",
     "text": [
      "08/29/2023, 13:26:34# labels of 5000: tensor([161, 166, 162,  43,   5,  18,  30,  72, 104,   9, 130,  80,  37,  82,\n",
      "         86,   0], device='cuda:3') torch.Size([16])\n",
      "08/29/2023, 13:26:34# predicted of 5000: tensor([132, 132, 137, 137,   5,  87, 137,   0, 137, 151, 130,  80, 155,  82,\n",
      "         20,   0], device='cuda:3') torch.Size([16])\n",
      "08/29/2023, 13:30:22# total batches: 8250\n",
      "08/29/2023, 13:30:22# Epoch 16 | Train Loss: 2.8174 | Train Accuracy: 0.3693\n"
     ]
    },
    {
     "data": {
      "application/vnd.jupyter.widget-view+json": {
       "model_id": "8c1ef8673dea4e1588996771f13ffb16",
       "version_major": 2,
       "version_minor": 0
      },
      "text/plain": [
       "Validation:   0%|          | 0/1032 [00:00<?, ?it/s]"
      ]
     },
     "metadata": {},
     "output_type": "display_data"
    },
    {
     "name": "stdout",
     "output_type": "stream",
     "text": [
      "08/29/2023, 13:30:22# labels of Validation: tensor([134,  44, 138, 111, 140,  50, 119, 146, 114, 165, 144, 151, 105,  48,\n",
      "         27,  73], device='cuda:3') torch.Size([16])\n",
      "08/29/2023, 13:30:22# predicted of Validation: tensor([134,  10, 138,  10, 140,  50,  10, 146,   6, 165,  10,  10, 105,  10,\n",
      "         27,  73], device='cuda:3') torch.Size([16])\n",
      "08/29/2023, 13:30:22# labels of 0: tensor([134,  44, 138, 111, 140,  50, 119, 146, 114, 165, 144, 151, 105,  48,\n",
      "         27,  73], device='cuda:3') torch.Size([16])\n",
      "08/29/2023, 13:30:22# predicted of 0: tensor([134,  10, 138,  10, 140,  50,  10, 146,   6, 165,  10,  10, 105,  10,\n",
      "         27,  73], device='cuda:3') torch.Size([16])\n",
      "08/29/2023, 13:31:17# labels of Validation: tensor([114,  82,  79, 164,  86, 114, 109, 111,  28,  36, 117, 112,  61,  99,\n",
      "         86, 102], device='cuda:3') torch.Size([16])\n",
      "08/29/2023, 13:31:17# predicted of Validation: tensor([  6,  82,  94,  10,  10,   6,  10,  10,   6,  10, 117,  10,  61,  99,\n",
      "         10,  10], device='cuda:3') torch.Size([16])\n",
      "08/29/2023, 13:31:19# Validation Loss: 2.7775 | Validation Accuracy: 0.3783\n",
      "\n",
      "08/29/2023, 13:31:19# Find a better model!!\n"
     ]
    },
    {
     "data": {
      "application/vnd.jupyter.widget-view+json": {
       "model_id": "e234b8084c6c4cff90bab6d8b20dbe47",
       "version_major": 2,
       "version_minor": 0
      },
      "text/plain": [
       "Training:   0%|          | 0/8250 [00:00<?, ?it/s]"
      ]
     },
     "metadata": {},
     "output_type": "display_data"
    },
    {
     "name": "stdout",
     "output_type": "stream",
     "text": [
      "08/29/2023, 13:36:51# labels of 5000: tensor([  9, 102,  20,  30, 151, 125,  32,  87,  24,  69, 154, 154, 131,  87,\n",
      "         13,  85], device='cuda:3') torch.Size([16])\n",
      "08/29/2023, 13:36:51# predicted of 5000: tensor([  2,  48,   8, 111, 111,  48,  32,  48, 111,  69, 154, 154, 132, 142,\n",
      "         13,  85], device='cuda:3') torch.Size([16])\n",
      "08/29/2023, 13:41:10# total batches: 8250\n",
      "08/29/2023, 13:41:10# Epoch 17 | Train Loss: 2.8101 | Train Accuracy: 0.3703\n"
     ]
    },
    {
     "data": {
      "application/vnd.jupyter.widget-view+json": {
       "model_id": "5eba106d681749fabf2fc78d1c56fd30",
       "version_major": 2,
       "version_minor": 0
      },
      "text/plain": [
       "Validation:   0%|          | 0/1032 [00:00<?, ?it/s]"
      ]
     },
     "metadata": {},
     "output_type": "display_data"
    },
    {
     "name": "stdout",
     "output_type": "stream",
     "text": [
      "08/29/2023, 13:41:10# labels of Validation: tensor([ 99,  99, 160, 153,  81, 125, 126, 114, 121,  62,  19, 121, 155, 148,\n",
      "          7, 153], device='cuda:3') torch.Size([16])\n",
      "08/29/2023, 13:41:10# predicted of Validation: tensor([ 99,  99,  91,  86,  86,  86, 126,  91,  86,  62,  86,  86, 132,  91,\n",
      "          7,  86], device='cuda:3') torch.Size([16])\n",
      "08/29/2023, 13:41:10# labels of 0: tensor([ 99,  99, 160, 153,  81, 125, 126, 114, 121,  62,  19, 121, 155, 148,\n",
      "          7, 153], device='cuda:3') torch.Size([16])\n",
      "08/29/2023, 13:41:10# predicted of 0: tensor([ 99,  99,  91,  86,  86,  86, 126,  91,  86,  62,  86,  86, 132,  91,\n",
      "          7,  86], device='cuda:3') torch.Size([16])\n",
      "08/29/2023, 13:42:20# labels of Validation: tensor([ 52, 131,  72,  67, 145, 157, 124,  32, 100, 160,  52, 143, 112, 158,\n",
      "        145,  78], device='cuda:3') torch.Size([16])\n",
      "08/29/2023, 13:42:20# predicted of Validation: tensor([ 52, 132,  72,  67, 145,  86,  86,  32,  91,  91,  52,  86,  86,  86,\n",
      "        145,  67], device='cuda:3') torch.Size([16])\n",
      "08/29/2023, 13:42:23# Validation Loss: 2.7746 | Validation Accuracy: 0.3722\n",
      "\n",
      "08/29/2023, 13:42:23# Find a better model!!\n"
     ]
    },
    {
     "data": {
      "application/vnd.jupyter.widget-view+json": {
       "model_id": "287289340e88425e897277ab71014a97",
       "version_major": 2,
       "version_minor": 0
      },
      "text/plain": [
       "Training:   0%|          | 0/8250 [00:00<?, ?it/s]"
      ]
     },
     "metadata": {},
     "output_type": "display_data"
    }
   ],
   "source": [
    "import csv\n",
    "import pandas as pd\n",
    "from sklearn.metrics import classification_report\n",
    "from torch.optim import AdamW, lr_scheduler\n",
    "\n",
    "seed = 8787\n",
    "same_seeds(seed)\n",
    "\n",
    "model = GAT(in_dim=100, hidden_dim=16, out_dim=168, num_heads=8)\n",
    "# in_dim means the dimension of the node_feat(50 dim, since the 50-dim embedding)\n",
    "# out_dim means the # of the categories -> 168 for out tasks\n",
    "model.load_state_dict(torch.load('model1_initial/initial_weight.pth'))\n",
    "best_model_path = \"../checkpoint_GAT/best_model_GAT_transH_100.pt\"\n",
    "\n",
    "model = model.to(device)\n",
    "\n",
    "# optimizer = torch.optim.AdamW(model.parameters(), lr=1e-5)\n",
    "optimizer = AdamW(model.parameters(), lr=5e-4)\n",
    "# scheduler = get_linear_schedule_with_warmup(optimizer, num_warmup_steps=18, num_training_steps=total_steps)\n",
    "\n",
    "# T_max control the period of the lr changing -> set 1/10 first\n",
    "scheduler = lr_scheduler.CosineAnnealingLR(optimizer, T_max=36, eta_min=0, last_epoch=- 1, verbose=False)\n",
    "\n",
    "\n",
    "criterion = nn.CrossEntropyLoss()\n",
    "total_steps = 30\n",
    "\n",
    "# save the best model\n",
    "best_val_loss = float('inf')\n",
    "patience = 10  # Number of epochs with no improvement after which training will be stopped.\n",
    "waiting = 0  # The number of epochs with no improvement so far.\n",
    "\n",
    "\n",
    "# Training Part\n",
    "for epoch in tqdm(range(total_steps)):\n",
    "    # Train\n",
    "    model.train()\n",
    "    total_loss = 0.0\n",
    "    total_accuracy = 0.0\n",
    "    num_batches = 0\n",
    "    \n",
    "    for data in tqdm(dataloaders['train'], desc=\"Training\", position=0, leave=True):\n",
    "        num_batches += 1\n",
    "        loss, accuracy, _ = model_fn(data, model, criterion, device, num_batches, which_type='train')\n",
    "        \n",
    "        optimizer.zero_grad()\n",
    "        loss.backward()\n",
    "        optimizer.step()\n",
    "\n",
    "        total_loss += loss.item()\n",
    "        total_accuracy += accuracy.item()\n",
    "\n",
    "        \n",
    "#     scheduler.step()\n",
    "    add_log_msg(f\"total batches: {num_batches}\")\n",
    "\n",
    "    avg_loss = total_loss / num_batches\n",
    "    avg_accuracy = total_accuracy / num_batches\n",
    "\n",
    "    add_log_msg(f'Epoch {epoch} | Train Loss: {avg_loss:.4f} | Train Accuracy: {avg_accuracy:.4f}')\n",
    "\n",
    "    \n",
    "    # Validation Part\n",
    "    model.eval()\n",
    "    total_accuracy = 0.0\n",
    "    total_loss = 0.0\n",
    "    num_batches = 0\n",
    "\n",
    "\n",
    "    with torch.no_grad():\n",
    "        for data in tqdm(dataloaders['valid'], desc=\"Validation\", position=0, leave=True):\n",
    "            loss, accuracy, _ = model_fn(data, model, criterion, device, num_batches, which_type='validation')\n",
    "            total_accuracy += accuracy.item()\n",
    "            total_loss += loss.item()\n",
    "            num_batches += 1\n",
    "\n",
    "    avg_accuracy = total_accuracy / num_batches\n",
    "    current_loss = total_loss / num_batches\n",
    "    \n",
    "    add_log_msg(f'Validation Loss: {current_loss:.4f} | Validation Accuracy: {avg_accuracy:.4f}\\n')\n",
    "    \n",
    "            \n",
    "    if current_loss < best_val_loss:\n",
    "        best_val_loss = current_loss\n",
    "        waiting = 0\n",
    "        \n",
    "        if os.path.exists(best_model_path):\n",
    "            os.remove(best_model_path)\n",
    "            add_log_msg(\"Find a better model!!\")\n",
    "\n",
    "        torch.save(model.state_dict(), best_model_path)\n",
    "\n",
    "        \n",
    "#         print(best_model_path)\n",
    "\n",
    "    else:\n",
    "        waiting += 1\n",
    "        if waiting >= patience:\n",
    "            add_log_msg(\"============================== Early stopping ==================================\")\n",
    "            break"
   ]
  },
  {
   "cell_type": "markdown",
   "metadata": {},
   "source": [
    "### Testing Part"
   ]
  },
  {
   "cell_type": "code",
   "execution_count": null,
   "metadata": {},
   "outputs": [],
   "source": [
    "# load the pretrained model\n",
    "pretrained_model_path = '../checkpoint_GAT/best_model_GAT_transH_100.pt'\n",
    "model.load_state_dict(torch.load(pretrained_model_path))\n",
    "\n",
    "model.to(device)\n",
    "model.eval()\n",
    "\n",
    "total = 0\n",
    "correct = 0\n",
    "count = 0\n",
    "\n",
    "true_labels = []\n",
    "predicted_labels = []\n",
    "\n",
    "with torch.no_grad():\n",
    "    for data in tqdm(dataloaders['test'], desc=\"Testing\", position=0, leave=True):\n",
    "\n",
    "        loss, accuracy, predicted = model_fn(data, model, criterion, device, count, which_type='test')\n",
    "        labels = data[1].to(device)\n",
    "        \n",
    "        true_labels.extend(labels.cpu().numpy())\n",
    "        predicted_labels.extend(predicted.cpu().numpy())\n",
    "        \n",
    "        if count % 5000 == 0:\n",
    "            add_log_msg(f\"labels: {labels} {labels.shape}\")\n",
    "            add_log_msg(f\"predicted: {predicted} {predicted.shape}\")\n",
    "            \n",
    "        count += 1\n",
    "        \n",
    "        total += labels.size(0)\n",
    "        correct += (predicted == labels).sum().item()\n",
    "\n",
    "add_log_msg(f'Test Accuracy: {100 * correct / total} %\\n\\n\\n')\n",
    "\n",
    "\n",
    "# ======================================== handlig the output excel files ========================================\n",
    "mapping_file = './new_mapping.txt'\n",
    "label_mapping = {}\n",
    "with open(mapping_file, 'r') as f:\n",
    "    for line in f:\n",
    "        parts = line.strip().split(': ')\n",
    "        label_mapping[int(parts[1])] = parts[0]\n",
    "        \n",
    "# 将映射后的标签应用到true和predicted标签列表\n",
    "mapped_true_labels = [label_mapping[label] for label in true_labels]\n",
    "mapped_predicted_labels = [label_mapping[label] for label in predicted_labels]\n",
    "\n",
    "# 生成Scikit-learn报告信息的DataFrame\n",
    "report_data = classification_report(mapped_true_labels, mapped_predicted_labels, output_dict=True)\n",
    "report_df = pd.DataFrame(report_data).transpose()\n",
    "\n",
    "report_folder = 'classification_report'\n",
    "os.makedirs(report_folder, exist_ok=True)\n",
    "\n",
    "count = 0\n",
    "while True:\n",
    "    report_filename = f'classification_report-{count}.xlsx'\n",
    "    labels_filename = f'mapped_true_predicted_labels-{count}.xlsx'\n",
    "    \n",
    "    report_path = os.path.join(report_folder, report_filename)\n",
    "    labels_path = os.path.join(report_folder, labels_filename)\n",
    "    \n",
    "    if not os.path.exists(report_path) and not os.path.exists(labels_path):\n",
    "        break\n",
    "    count += 1\n",
    "\n",
    "    \n",
    "report_df.to_excel(report_path, index_label='Label')\n",
    "\n",
    "mapped_labels_df = pd.DataFrame({'true_label': mapped_true_labels, 'predicted_label': mapped_predicted_labels})\n",
    "mapped_labels_df.to_excel(labels_path, index=False)\n",
    "\n",
    "add_log_msg(f\"report path: {report_path}\")\n",
    "add_log_msg(f\"label path: {labels_path}\")\n",
    "\n",
    "mapped_report = classification_report(mapped_true_labels, mapped_predicted_labels)\n",
    "add_log_msg(f\"mapped_report:\\n{mapped_report}\")"
   ]
  },
  {
   "cell_type": "code",
   "execution_count": null,
   "metadata": {},
   "outputs": [],
   "source": []
  }
 ],
 "metadata": {
  "kernelspec": {
   "display_name": "Python 3",
   "language": "python",
   "name": "python3"
  },
  "language_info": {
   "codemirror_mode": {
    "name": "ipython",
    "version": 3
   },
   "file_extension": ".py",
   "mimetype": "text/x-python",
   "name": "python",
   "nbconvert_exporter": "python",
   "pygments_lexer": "ipython3",
   "version": "3.6.9"
  }
 },
 "nbformat": 4,
 "nbformat_minor": 2
}
