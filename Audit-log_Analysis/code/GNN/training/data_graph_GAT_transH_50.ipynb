{
 "cells": [
  {
   "cell_type": "markdown",
   "metadata": {},
   "source": [
    "# Test of GAT\n",
    "- use DGL\n",
    "- predict `graphs`\n",
    "- test: 0~99\n",
    "- validation: 100~199\n",
    "- train: 200~999\n",
    "- larger lr with scheduler\n",
    "- try the sklearn report"
   ]
  },
  {
   "cell_type": "code",
   "execution_count": 9,
   "metadata": {},
   "outputs": [],
   "source": [
    "import os\n",
    "import dgl\n",
    "import json\n",
    "import torch\n",
    "import torch as th\n",
    "# from tqdm import tqdm\n",
    "from tqdm.notebook import tqdm  # 使用 notebook 版本的 tqdm\n",
    "import torch.nn as nn\n",
    "from dgl.nn import GraphConv, GATConv\n",
    "import torch.nn.functional as F\n",
    "from torch.utils.data import Dataset, DataLoader\n",
    "from transformers import get_linear_schedule_with_warmup\n",
    "from torch.optim import AdamW\n",
    "from sklearn.metrics import classification_report\n"
   ]
  },
  {
   "cell_type": "markdown",
   "metadata": {},
   "source": [
    "- check the GPU and assign the GPU by the best memory usage"
   ]
  },
  {
   "cell_type": "code",
   "execution_count": 10,
   "metadata": {},
   "outputs": [
    {
     "name": "stdout",
     "output_type": "stream",
     "text": [
      "cuda:2\n"
     ]
    }
   ],
   "source": [
    "import subprocess\n",
    "import torch\n",
    "\n",
    "def get_free_gpu():\n",
    "    try:\n",
    "        # Run nvidia-smi command to get GPU details\n",
    "        _output_to_list = lambda x: x.decode('ascii').split('\\n')[:-1]\n",
    "        command = \"nvidia-smi --query-gpu=memory.free --format=csv,nounits,noheader\"\n",
    "        memory_free_info = _output_to_list(subprocess.check_output(command.split())) \n",
    "        memory_free_values = [int(x) for i, x in enumerate(memory_free_info)]\n",
    "        \n",
    "        # Get the GPU with the maximum free memory\n",
    "        best_gpu_id = memory_free_values.index(max(memory_free_values))\n",
    "        return best_gpu_id\n",
    "    except:\n",
    "        # If any exception occurs, default to GPU 0 (this handles cases where nvidia-smi isn't installed)\n",
    "        return 0\n",
    "\n",
    "if torch.cuda.is_available():\n",
    "    # Get the best GPU ID based on free memory and set it\n",
    "    best_gpu_id = get_free_gpu()\n",
    "    device = torch.device(f\"cuda:{best_gpu_id}\")\n",
    "else:\n",
    "    device = torch.device(\"cpu\")\n",
    "    print(\"there's no available GPU\")\n",
    "\n",
    "# device = torch.device(f\"cuda:1\")\n",
    "print(device)\n"
   ]
  },
  {
   "cell_type": "markdown",
   "metadata": {},
   "source": [
    "## Fix the seed"
   ]
  },
  {
   "cell_type": "code",
   "execution_count": 11,
   "metadata": {},
   "outputs": [],
   "source": [
    "import numpy as np\n",
    "import torch\n",
    "import random\n",
    "\n",
    "#fix seed\n",
    "def same_seeds(seed = 8787):\n",
    "    torch.manual_seed(seed)\n",
    "    # random.seed(seed) \n",
    "    if torch.cuda.is_available():\n",
    "        torch.cuda.manual_seed(seed)\n",
    "        torch.cuda.manual_seed_all(seed)  \n",
    "    np.random.seed(seed)  \n",
    "    torch.backends.cudnn.benchmark = False\n",
    "    torch.backends.cudnn.deterministic = True"
   ]
  },
  {
   "cell_type": "markdown",
   "metadata": {},
   "source": [
    "## Data Loader"
   ]
  },
  {
   "cell_type": "code",
   "execution_count": 12,
   "metadata": {},
   "outputs": [],
   "source": [
    "class GraphDataset(Dataset):\n",
    "    def __init__(self, data_list, device):\n",
    "        self.data_list = data_list\n",
    "        self.device = device\n",
    "\n",
    "    def __len__(self):\n",
    "        return len(self.data_list)\n",
    "    \n",
    "    def __getitem__(self, idx):\n",
    "        data = self.data_list[idx]\n",
    "\n",
    "        g = dgl.graph((th.tensor(data[\"edge_index\"][0]), th.tensor(data[\"edge_index\"][1])), num_nodes=data[\"num_nodes\"]).to(self.device)\n",
    "\n",
    "        g.ndata['feat'] = th.tensor(data[\"node_feat\"]).to(self.device)\n",
    "        g.edata['feat'] = th.tensor(data[\"edge_attr\"]).to(self.device)  # Add edge features to graph\n",
    "\n",
    "        return g, th.tensor(data[\"label\"]).to(self.device)\n",
    "\n",
    "\n",
    "def collate(samples):\n",
    "    # The input `samples` is a list of pairs\n",
    "    #  (graph, label).\n",
    "    graphs, labels = map(list, zip(*samples))\n",
    "    batched_graph = dgl.batch(graphs)\n",
    "    return batched_graph, torch.tensor(labels)\n"
   ]
  },
  {
   "cell_type": "code",
   "execution_count": 13,
   "metadata": {},
   "outputs": [
    {
     "data": {
      "application/vnd.jupyter.widget-view+json": {
       "model_id": "8bd8b06457914402a3ffb3972f115d30",
       "version_major": 2,
       "version_minor": 0
      },
      "text/plain": [
       "  0%|          | 0/3 [00:00<?, ?it/s]"
      ]
     },
     "metadata": {},
     "output_type": "display_data"
    },
    {
     "name": "stdout",
     "output_type": "stream",
     "text": [
      "../../data_processing/dgl/data_new/training_data/transH_50/train.jsonl\n"
     ]
    },
    {
     "data": {
      "application/vnd.jupyter.widget-view+json": {
       "model_id": "d38d6226e8d64cb59eb61a747099d919",
       "version_major": 2,
       "version_minor": 0
      },
      "text/plain": [
       "0it [00:00, ?it/s]"
      ]
     },
     "metadata": {},
     "output_type": "display_data"
    },
    {
     "name": "stdout",
     "output_type": "stream",
     "text": [
      "../../data_processing/dgl/data_new/training_data/transH_50/valid.jsonl\n"
     ]
    },
    {
     "data": {
      "application/vnd.jupyter.widget-view+json": {
       "model_id": "ac83d91d679e491caf0fd4c6fb1790fd",
       "version_major": 2,
       "version_minor": 0
      },
      "text/plain": [
       "0it [00:00, ?it/s]"
      ]
     },
     "metadata": {},
     "output_type": "display_data"
    },
    {
     "name": "stdout",
     "output_type": "stream",
     "text": [
      "../../data_processing/dgl/data_new/training_data/transH_50/test.jsonl\n"
     ]
    },
    {
     "data": {
      "application/vnd.jupyter.widget-view+json": {
       "model_id": "b7a4aeebaf3b4176b31441f75200154f",
       "version_major": 2,
       "version_minor": 0
      },
      "text/plain": [
       "0it [00:00, ?it/s]"
      ]
     },
     "metadata": {},
     "output_type": "display_data"
    },
    {
     "name": "stdout",
     "output_type": "stream",
     "text": [
      "Datasets loaded!\n"
     ]
    }
   ],
   "source": [
    "datasets = ['train', 'valid', 'test']\n",
    "# datasets = ['test']\n",
    "dataset_data = {}\n",
    "\n",
    "for dataset_name in tqdm(datasets):\n",
    "#     file_path = f\"../../data_processing/dgl/data/test_graph/repeated_{dataset_name}.jsonl\"\n",
    "    file_path = f\"../../data_processing/dgl/data_new/training_data/transH_50/{dataset_name}.jsonl\"\n",
    "    \n",
    "    print(file_path)\n",
    "    with open(file_path) as f:\n",
    "        data_list = [json.loads(line) for line in tqdm(f, position=0, leave=True)]\n",
    "    \n",
    "    dataset_data[dataset_name] = GraphDataset(data_list, device)\n",
    "\n",
    "print(\"Datasets loaded!\")"
   ]
  },
  {
   "cell_type": "markdown",
   "metadata": {},
   "source": [
    "- choose batch size"
   ]
  },
  {
   "cell_type": "code",
   "execution_count": 14,
   "metadata": {},
   "outputs": [
    {
     "name": "stdout",
     "output_type": "stream",
     "text": [
      "OK!\n"
     ]
    }
   ],
   "source": [
    "def create_dataloaders(batch_size, shuffle=True):\n",
    "    dataloaders = {}\n",
    "    for dataset_name, dataset in dataset_data.items():\n",
    "        # do not shuffle the testing dataset\n",
    "        if dataset_name == \"test\":\n",
    "            dataloaders[dataset_name] = DataLoader(dataset, batch_size=batch_size, shuffle=False, collate_fn=collate)    \n",
    "        else:\n",
    "            dataloaders[dataset_name] = DataLoader(dataset, batch_size=batch_size, shuffle=shuffle, collate_fn=collate)\n",
    "    return dataloaders\n",
    "\n",
    "# dataloaders = create_dataloaders(4)\n",
    "dataloaders = create_dataloaders(16)\n",
    "\n",
    "\n",
    "if (len(dataloaders['test'].dataset) + len(dataloaders['valid'].dataset) + len(dataloaders['train'].dataset)) % 165 != 0: print(\"Error data!!\")\n",
    "else: print(\"OK!\")\n"
   ]
  },
  {
   "cell_type": "markdown",
   "metadata": {},
   "source": [
    "- Turn the print message to a log file"
   ]
  },
  {
   "cell_type": "code",
   "execution_count": 15,
   "metadata": {},
   "outputs": [
    {
     "name": "stdout",
     "output_type": "stream",
     "text": [
      "(Graph(num_nodes=26, num_edges=67,\n",
      "      ndata_schemes={'feat': Scheme(shape=(50,), dtype=torch.float32)}\n",
      "      edata_schemes={'feat': Scheme(shape=(50,), dtype=torch.float32)}), tensor(7, device='cuda:2'))\n",
      "16500\n",
      "16500\n",
      "132000\n",
      "165000\n"
     ]
    }
   ],
   "source": [
    "# print(dataloaders['test'][5])\n",
    "sample = dataset_data['train'][5000]\n",
    "print(sample)\n",
    "\n",
    "print(len(dataloaders['test'].dataset))\n",
    "print(len(dataloaders['valid'].dataset))\n",
    "print(len(dataloaders['train'].dataset))\n",
    "print(len(dataloaders['test'].dataset) + len(dataloaders['valid'].dataset) + len(dataloaders['train'].dataset))"
   ]
  },
  {
   "cell_type": "code",
   "execution_count": 16,
   "metadata": {},
   "outputs": [
    {
     "name": "stdout",
     "output_type": "stream",
     "text": [
      "../log_message/0829_00:56_GAT_transH_50.log\n"
     ]
    }
   ],
   "source": [
    "import datetime\n",
    "\n",
    "now = datetime.datetime.now()\n",
    "\n",
    "formatted_time = now.strftime(\"%m%d_%H:%M\")\n",
    "\n",
    "log_file_path = f\"../log_message/{formatted_time}_GAT_transH_50.log\"\n",
    "\n",
    "def add_log_msg(msg, log_file_path=log_file_path):\n",
    "    with open(log_file_path, 'a') as f:\n",
    "        f.write(f'{datetime.datetime.now().strftime(\"%m/%d/%Y, %H:%M:%S\")}# {msg}\\n')\n",
    "    print(f'{datetime.datetime.now().strftime(\"%m/%d/%Y, %H:%M:%S\")}# {msg}')\n",
    "\n",
    "print(log_file_path)"
   ]
  },
  {
   "cell_type": "markdown",
   "metadata": {},
   "source": [
    "### Model"
   ]
  },
  {
   "cell_type": "code",
   "execution_count": 17,
   "metadata": {},
   "outputs": [],
   "source": [
    "class GAT(nn.Module):\n",
    "    def __init__(self, in_dim, hidden_dim, out_dim, num_heads, dropout_prob=0.25):\n",
    "        super(GAT, self).__init__()\n",
    "        \n",
    "        # do not check the zero in_degree since we have all the complete graph\n",
    "        self.layer1 = GATConv(in_dim, hidden_dim, num_heads=num_heads, activation=F.relu, allow_zero_in_degree=True)\n",
    "        self.layer2 = GATConv(hidden_dim * num_heads, out_dim, num_heads=num_heads, allow_zero_in_degree=True)\n",
    "        \n",
    "        # Adding Batch Normalization after each GAT layer\n",
    "        self.batchnorm1 = nn.BatchNorm1d(hidden_dim * num_heads)\n",
    "        self.batchnorm2 = nn.BatchNorm1d(out_dim)\n",
    "        \n",
    "        # Adding Dropout for regularization\n",
    "        self.dropout = nn.Dropout(dropout_prob)\n",
    "\n",
    "    def forward(self, g, h):\n",
    "        # Apply GAT layers\n",
    "        h = self.layer1(g, h)\n",
    "        h = h.view(h.shape[0], -1)\n",
    "        h = F.relu(h)\n",
    "        h = self.dropout(h)\n",
    "        h = self.layer2(g, h).squeeze(1)\n",
    "        \n",
    "        # Store the output as a new node feature\n",
    "        g.ndata['h_out'] = h\n",
    "\n",
    "        # Use mean pooling to aggregate this new node feature\n",
    "        h_agg = dgl.mean_nodes(g, feat='h_out')\n",
    "        return h_agg\n",
    "\n",
    "    "
   ]
  },
  {
   "cell_type": "markdown",
   "metadata": {},
   "source": [
    "- Model Forward  "
   ]
  },
  {
   "cell_type": "code",
   "execution_count": 18,
   "metadata": {},
   "outputs": [],
   "source": [
    "def model_fn(data, model, criterion, device, count=1, which_type='train'):\n",
    "    \"\"\"Forward a batch through the model.\"\"\"\n",
    "    batched_g, labels = data\n",
    "    batched_g = batched_g.to(device)\n",
    "    \n",
    "    labels = labels.to(device)\n",
    "    logits = model(batched_g, batched_g.ndata['feat'].float()) # for GAT\n",
    "    logits = logits.mean(dim=1)\n",
    "    \n",
    "    loss = criterion(logits, labels)\n",
    "\n",
    "    # Get the class id with the highest probability\n",
    "    preds = logits.argmax(1)\n",
    "    \n",
    "    # Compute accuracy\n",
    "    accuracy = torch.mean((preds == labels).float())\n",
    "    \n",
    "    if which_type == 'validation' and count % 1000 == 0:\n",
    "        add_log_msg(f\"labels of Validation: {labels} {labels.shape}\")\n",
    "        add_log_msg(f\"predicted of Validation: {preds} {preds.shape}\")\n",
    "        \n",
    "    elif which_type == 'test'  and count % 1000 == 0:\n",
    "        add_log_msg(f\"labels of Test: {labels} {labels.shape}\")\n",
    "        add_log_msg(f\"predicted of Test: {preds} {preds.shape}\")\n",
    "        \n",
    "    if count % 5000 == 0: \n",
    "        add_log_msg(f\"labels of {count}: {labels} {labels.shape}\")\n",
    "        add_log_msg(f\"predicted of {count}: {preds} {preds.shape}\")\n",
    "        \n",
    "    return loss, accuracy, preds"
   ]
  },
  {
   "cell_type": "markdown",
   "metadata": {},
   "source": [
    "### Training"
   ]
  },
  {
   "cell_type": "markdown",
   "metadata": {},
   "source": [
    "- Fix the seed and save the model.state_dict that contains the initial weight"
   ]
  },
  {
   "cell_type": "code",
   "execution_count": 19,
   "metadata": {},
   "outputs": [],
   "source": [
    "seed = 8787\n",
    "same_seeds(seed)\n",
    "\n",
    "model = GAT(in_dim=50, hidden_dim=16, out_dim=168, num_heads=8)\n",
    "torch.save(model.state_dict(), 'model1_initial/initial_weight.pth')"
   ]
  },
  {
   "cell_type": "code",
   "execution_count": 20,
   "metadata": {},
   "outputs": [
    {
     "data": {
      "text/plain": [
       "Parameter containing:\n",
       "tensor([[-0.1806, -0.0598,  0.0091,  ...,  0.0719,  0.2496,  0.0873],\n",
       "        [ 0.1694, -0.0015, -0.0139,  ...,  0.0147,  0.0892,  0.0146],\n",
       "        [ 0.0969, -0.0595, -0.0115,  ..., -0.0474,  0.0529, -0.0565],\n",
       "        ...,\n",
       "        [-0.0433, -0.2248,  0.3002,  ...,  0.0850,  0.1621,  0.0422],\n",
       "        [ 0.2097, -0.2492,  0.0612,  ..., -0.0041,  0.0365, -0.1483],\n",
       "        [ 0.0971, -0.2221,  0.1652,  ..., -0.1312, -0.2610,  0.0077]],\n",
       "       requires_grad=True)"
      ]
     },
     "execution_count": 20,
     "metadata": {},
     "output_type": "execute_result"
    }
   ],
   "source": [
    "model.layer1.fc.weight"
   ]
  },
  {
   "cell_type": "markdown",
   "metadata": {},
   "source": [
    "- Check if model really load the model_dict"
   ]
  },
  {
   "cell_type": "code",
   "execution_count": 21,
   "metadata": {},
   "outputs": [
    {
     "data": {
      "text/plain": [
       "Parameter containing:\n",
       "tensor([[-0.1806, -0.0598,  0.0091,  ...,  0.0719,  0.2496,  0.0873],\n",
       "        [ 0.1694, -0.0015, -0.0139,  ...,  0.0147,  0.0892,  0.0146],\n",
       "        [ 0.0969, -0.0595, -0.0115,  ..., -0.0474,  0.0529, -0.0565],\n",
       "        ...,\n",
       "        [-0.0433, -0.2248,  0.3002,  ...,  0.0850,  0.1621,  0.0422],\n",
       "        [ 0.2097, -0.2492,  0.0612,  ..., -0.0041,  0.0365, -0.1483],\n",
       "        [ 0.0971, -0.2221,  0.1652,  ..., -0.1312, -0.2610,  0.0077]],\n",
       "       requires_grad=True)"
      ]
     },
     "execution_count": 21,
     "metadata": {},
     "output_type": "execute_result"
    }
   ],
   "source": [
    "model = GAT(in_dim=50, hidden_dim=16, out_dim=168, num_heads=8)\n",
    "model.load_state_dict(torch.load('model1_initial/initial_weight.pth'))\n",
    "model.layer1.fc.weight"
   ]
  },
  {
   "cell_type": "markdown",
   "metadata": {},
   "source": [
    "### test of valid and test part is ``graph``"
   ]
  },
  {
   "cell_type": "markdown",
   "metadata": {},
   "source": [
    "- Batch size = 4\n",
    "- use large lr and scheduler"
   ]
  },
  {
   "cell_type": "code",
   "execution_count": null,
   "metadata": {
    "scrolled": true
   },
   "outputs": [
    {
     "data": {
      "application/vnd.jupyter.widget-view+json": {
       "model_id": "acc2960b2f0c41e9b72f78d50985067b",
       "version_major": 2,
       "version_minor": 0
      },
      "text/plain": [
       "  0%|          | 0/100 [00:00<?, ?it/s]"
      ]
     },
     "metadata": {},
     "output_type": "display_data"
    },
    {
     "data": {
      "application/vnd.jupyter.widget-view+json": {
       "model_id": "14a65795479d418c8cae8549220f0461",
       "version_major": 2,
       "version_minor": 0
      },
      "text/plain": [
       "Training:   0%|          | 0/8250 [00:00<?, ?it/s]"
      ]
     },
     "metadata": {},
     "output_type": "display_data"
    },
    {
     "name": "stdout",
     "output_type": "stream",
     "text": [
      "08/29/2023, 01:08:09# labels of 5000: tensor([ 61, 119,  49, 116, 136, 157, 161,  16,  57,  79,  70, 144, 162,  59,\n",
      "        165, 101], device='cuda:2') torch.Size([16])\n",
      "08/29/2023, 01:08:09# predicted of 5000: tensor([ 17, 132, 154, 154,  17, 132, 154,  17, 154,   7, 154, 154, 132, 132,\n",
      "         70, 132], device='cuda:2') torch.Size([16])\n",
      "08/29/2023, 01:10:32# total batches: 8250\n",
      "08/29/2023, 01:10:32# Epoch 0 | Train Loss: 4.5774 | Train Accuracy: 0.0619\n"
     ]
    },
    {
     "data": {
      "application/vnd.jupyter.widget-view+json": {
       "model_id": "71d9bfb0c3104997bb2d2e7e57646b1c",
       "version_major": 2,
       "version_minor": 0
      },
      "text/plain": [
       "Validation:   0%|          | 0/1032 [00:00<?, ?it/s]"
      ]
     },
     "metadata": {},
     "output_type": "display_data"
    },
    {
     "name": "stdout",
     "output_type": "stream",
     "text": [
      "08/29/2023, 01:10:32# labels of Validation: tensor([134,  42,  29,  24, 113, 156, 134,  42, 125, 138, 117,  47, 118,  60,\n",
      "        125,  11], device='cuda:2') torch.Size([16])\n",
      "08/29/2023, 01:10:32# predicted of Validation: tensor([134,   6, 165,   6,   6, 156, 134,   6,   6,  16,  35,   6, 118,   6,\n",
      "          6,   6], device='cuda:2') torch.Size([16])\n",
      "08/29/2023, 01:10:32# labels of 0: tensor([134,  42,  29,  24, 113, 156, 134,  42, 125, 138, 117,  47, 118,  60,\n",
      "        125,  11], device='cuda:2') torch.Size([16])\n",
      "08/29/2023, 01:10:32# predicted of 0: tensor([134,   6, 165,   6,   6, 156, 134,   6,   6,  16,  35,   6, 118,   6,\n",
      "          6,   6], device='cuda:2') torch.Size([16])\n",
      "08/29/2023, 01:11:10# labels of Validation: tensor([138,  48,  36, 134,  72,  71,  26,  75, 101,  43, 103, 146, 166,  88,\n",
      "         59, 147], device='cuda:2') torch.Size([16])\n",
      "08/29/2023, 01:11:10# predicted of Validation: tensor([ 16,   6,   6, 134,  35,   6,   6,   6,   6,   6,   6, 146,   6,   6,\n",
      "          6,  35], device='cuda:2') torch.Size([16])\n",
      "08/29/2023, 01:11:11# Validation Loss: 4.0598 | Validation Accuracy: 0.1811\n",
      "\n"
     ]
    },
    {
     "data": {
      "application/vnd.jupyter.widget-view+json": {
       "model_id": "fd6a9633f66d4f63b39ed74a6f74e10b",
       "version_major": 2,
       "version_minor": 0
      },
      "text/plain": [
       "Training:   0%|          | 0/8250 [00:00<?, ?it/s]"
      ]
     },
     "metadata": {},
     "output_type": "display_data"
    },
    {
     "name": "stdout",
     "output_type": "stream",
     "text": [
      "08/29/2023, 01:14:48# labels of 5000: tensor([ 83,  63,  34, 165, 135, 159, 103,  87,  41, 160,  97,  74, 132, 100,\n",
      "         17, 112], device='cuda:2') torch.Size([16])\n",
      "08/29/2023, 01:14:48# predicted of 5000: tensor([103, 132,  91, 165, 132, 159, 132, 132, 114, 132, 132, 103, 132, 132,\n",
      "         17, 132], device='cuda:2') torch.Size([16])\n",
      "08/29/2023, 01:17:24# total batches: 8250\n",
      "08/29/2023, 01:17:24# Epoch 1 | Train Loss: 3.7687 | Train Accuracy: 0.2320\n"
     ]
    },
    {
     "data": {
      "application/vnd.jupyter.widget-view+json": {
       "model_id": "f2156c5b18e2429591854cffa22c2783",
       "version_major": 2,
       "version_minor": 0
      },
      "text/plain": [
       "Validation:   0%|          | 0/1032 [00:00<?, ?it/s]"
      ]
     },
     "metadata": {},
     "output_type": "display_data"
    },
    {
     "name": "stdout",
     "output_type": "stream",
     "text": [
      "08/29/2023, 01:17:24# labels of Validation: tensor([ 84,  63,  62,  75, 105, 120, 151, 154, 149, 109, 144,  83,  58, 158,\n",
      "         39,  36], device='cuda:2') torch.Size([16])\n",
      "08/29/2023, 01:17:24# predicted of Validation: tensor([ 84,  77,  62,  77, 105, 120,  77, 154, 149,  77,  77,  77,  77,  77,\n",
      "         45,  77], device='cuda:2') torch.Size([16])\n",
      "08/29/2023, 01:17:24# labels of 0: tensor([ 84,  63,  62,  75, 105, 120, 151, 154, 149, 109, 144,  83,  58, 158,\n",
      "         39,  36], device='cuda:2') torch.Size([16])\n",
      "08/29/2023, 01:17:24# predicted of 0: tensor([ 84,  77,  62,  77, 105, 120,  77, 154, 149,  77,  77,  77,  77,  77,\n",
      "         45,  77], device='cuda:2') torch.Size([16])\n",
      "08/29/2023, 01:18:09# labels of Validation: tensor([ 61,  72,  58, 102,  43, 131,  54,  76, 117,  51,  45,  93,  27, 151,\n",
      "         13, 118], device='cuda:2') torch.Size([16])\n",
      "08/29/2023, 01:18:09# predicted of Validation: tensor([ 35,  73,  77,  77,  77,  28,  77,  77, 117,  28,  45,  28,  27,  77,\n",
      "         13, 118], device='cuda:2') torch.Size([16])\n",
      "08/29/2023, 01:18:10# Validation Loss: 3.4627 | Validation Accuracy: 0.3384\n",
      "\n",
      "08/29/2023, 01:18:10# Find a better model!!\n"
     ]
    },
    {
     "data": {
      "application/vnd.jupyter.widget-view+json": {
       "model_id": "f33741cd5ba74d1994c5548d302e6501",
       "version_major": 2,
       "version_minor": 0
      },
      "text/plain": [
       "Training:   0%|          | 0/8250 [00:00<?, ?it/s]"
      ]
     },
     "metadata": {},
     "output_type": "display_data"
    },
    {
     "name": "stdout",
     "output_type": "stream",
     "text": [
      "08/29/2023, 01:22:27# labels of 5000: tensor([ 37, 120,  12,  10,  98, 147, 119, 129,  57,  17,  85, 111, 103, 143,\n",
      "        124,  53], device='cuda:2') torch.Size([16])\n",
      "08/29/2023, 01:22:27# predicted of 5000: tensor([132, 120,   8, 112,  44, 147,  24, 132,   8,  17,  85,  24, 132, 112,\n",
      "        112,   6], device='cuda:2') torch.Size([16])\n",
      "08/29/2023, 01:25:19# total batches: 8250\n",
      "08/29/2023, 01:25:19# Epoch 2 | Train Loss: 3.2928 | Train Accuracy: 0.3295\n"
     ]
    },
    {
     "data": {
      "application/vnd.jupyter.widget-view+json": {
       "model_id": "1e7933998cc6422abd3677fce523748f",
       "version_major": 2,
       "version_minor": 0
      },
      "text/plain": [
       "Validation:   0%|          | 0/1032 [00:00<?, ?it/s]"
      ]
     },
     "metadata": {},
     "output_type": "display_data"
    },
    {
     "name": "stdout",
     "output_type": "stream",
     "text": [
      "08/29/2023, 01:25:19# labels of Validation: tensor([ 67,  80,  97,  36, 102,   3, 140, 107, 151, 113,  71, 139, 129,  72,\n",
      "         41,  41], device='cuda:2') torch.Size([16])\n",
      "08/29/2023, 01:25:19# predicted of Validation: tensor([ 78,  80, 101, 101, 101,   3, 140, 101, 101, 101, 101, 101, 101, 126,\n",
      "        101, 101], device='cuda:2') torch.Size([16])\n",
      "08/29/2023, 01:25:19# labels of 0: tensor([ 67,  80,  97,  36, 102,   3, 140, 107, 151, 113,  71, 139, 129,  72,\n",
      "         41,  41], device='cuda:2') torch.Size([16])\n",
      "08/29/2023, 01:25:19# predicted of 0: tensor([ 78,  80, 101, 101, 101,   3, 140, 101, 101, 101, 101, 101, 101, 126,\n",
      "        101, 101], device='cuda:2') torch.Size([16])\n",
      "08/29/2023, 01:26:00# labels of Validation: tensor([130,  42,  37, 137,  70,  83,  57, 165,  42,  41,  92, 117, 124,  37,\n",
      "         46,  20], device='cuda:2') torch.Size([16])\n",
      "08/29/2023, 01:26:00# predicted of Validation: tensor([130, 101, 101, 101,  70, 101, 101, 165, 101, 101, 101, 117, 101, 101,\n",
      "        101, 101], device='cuda:2') torch.Size([16])\n",
      "08/29/2023, 01:26:01# Validation Loss: 3.0987 | Validation Accuracy: 0.3626\n",
      "\n",
      "08/29/2023, 01:26:01# Find a better model!!\n"
     ]
    },
    {
     "data": {
      "application/vnd.jupyter.widget-view+json": {
       "model_id": "3bf8e07fcd794615a03eb4a392e371dc",
       "version_major": 2,
       "version_minor": 0
      },
      "text/plain": [
       "Training:   0%|          | 0/8250 [00:00<?, ?it/s]"
      ]
     },
     "metadata": {},
     "output_type": "display_data"
    },
    {
     "name": "stdout",
     "output_type": "stream",
     "text": [
      "08/29/2023, 01:30:13# labels of 5000: tensor([ 37,   2,  86, 137,  30,  95,  31, 133, 146, 106, 157, 132, 128, 146,\n",
      "        164,  93], device='cuda:2') torch.Size([16])\n",
      "08/29/2023, 01:30:13# predicted of 5000: tensor([ 51,  33, 121, 155,  24,  95,  51, 155, 146, 106,  71, 132, 128, 146,\n",
      "        155,   6], device='cuda:2') torch.Size([16])\n",
      "08/29/2023, 01:32:57# total batches: 8250\n",
      "08/29/2023, 01:32:57# Epoch 3 | Train Loss: 3.0339 | Train Accuracy: 0.3599\n"
     ]
    },
    {
     "data": {
      "application/vnd.jupyter.widget-view+json": {
       "model_id": "f863c016dafc4359bf764e3c2cbe8fc0",
       "version_major": 2,
       "version_minor": 0
      },
      "text/plain": [
       "Validation:   0%|          | 0/1032 [00:00<?, ?it/s]"
      ]
     },
     "metadata": {},
     "output_type": "display_data"
    },
    {
     "name": "stdout",
     "output_type": "stream",
     "text": [
      "08/29/2023, 01:32:57# labels of Validation: tensor([102, 114,   1,  16, 126, 103, 104,  63, 142,  95, 148,  62,  75, 100,\n",
      "         44,  36], device='cuda:2') torch.Size([16])\n",
      "08/29/2023, 01:32:57# predicted of Validation: tensor([ 81, 132,  81,  16, 126, 132,  81,  81,  81,  95, 132,  62,  81, 132,\n",
      "         81,  81], device='cuda:2') torch.Size([16])\n",
      "08/29/2023, 01:32:57# labels of 0: tensor([102, 114,   1,  16, 126, 103, 104,  63, 142,  95, 148,  62,  75, 100,\n",
      "         44,  36], device='cuda:2') torch.Size([16])\n",
      "08/29/2023, 01:32:57# predicted of 0: tensor([ 81, 132,  81,  16, 126, 132,  81,  81,  81,  95, 132,  62,  81, 132,\n",
      "         81,  81], device='cuda:2') torch.Size([16])\n",
      "08/29/2023, 01:33:39# labels of Validation: tensor([107, 118,  74,  54,  93, 122, 121,  34, 150, 117, 134,  12,   6,   1,\n",
      "         73, 112], device='cuda:2') torch.Size([16])\n",
      "08/29/2023, 01:33:39# predicted of Validation: tensor([132, 118,  81,  81, 132, 122,  81,  81,  81, 117, 134,  81, 132,  81,\n",
      "         73,  81], device='cuda:2') torch.Size([16])\n",
      "08/29/2023, 01:33:40# Validation Loss: 2.9271 | Validation Accuracy: 0.3728\n",
      "\n",
      "08/29/2023, 01:33:40# Find a better model!!\n"
     ]
    },
    {
     "data": {
      "application/vnd.jupyter.widget-view+json": {
       "model_id": "c4ea0a86c0284fa980177d24940dab47",
       "version_major": 2,
       "version_minor": 0
      },
      "text/plain": [
       "Training:   0%|          | 0/8250 [00:00<?, ?it/s]"
      ]
     },
     "metadata": {},
     "output_type": "display_data"
    },
    {
     "name": "stdout",
     "output_type": "stream",
     "text": [
      "08/29/2023, 01:37:35# labels of 5000: tensor([116, 163,  71,  40, 142, 101,  77, 116, 157,  95,  41,  38, 152, 110,\n",
      "         23, 100], device='cuda:2') torch.Size([16])\n",
      "08/29/2023, 01:37:35# predicted of 5000: tensor([ 20,  11,  49,  40,  37,  51, 155,  37,  11,  95,  49,  51, 113,  51,\n",
      "         23, 132], device='cuda:2') torch.Size([16])\n",
      "08/29/2023, 01:40:08# total batches: 8250\n",
      "08/29/2023, 01:40:08# Epoch 4 | Train Loss: 2.9101 | Train Accuracy: 0.3694\n"
     ]
    },
    {
     "data": {
      "application/vnd.jupyter.widget-view+json": {
       "model_id": "427648c6c98943ffaddaa59b5c7dbc02",
       "version_major": 2,
       "version_minor": 0
      },
      "text/plain": [
       "Validation:   0%|          | 0/1032 [00:00<?, ?it/s]"
      ]
     },
     "metadata": {},
     "output_type": "display_data"
    },
    {
     "name": "stdout",
     "output_type": "stream",
     "text": [
      "08/29/2023, 01:40:08# labels of Validation: tensor([  2, 132, 107, 111, 136,  45,   1, 108, 125, 165,  73,  49, 105,  45,\n",
      "        126, 108], device='cuda:2') torch.Size([16])\n",
      "08/29/2023, 01:40:08# predicted of Validation: tensor([137, 161, 155, 137, 136,  45, 137, 161, 137, 165,  73, 137, 105,  45,\n",
      "        126, 161], device='cuda:2') torch.Size([16])\n",
      "08/29/2023, 01:40:08# labels of 0: tensor([  2, 132, 107, 111, 136,  45,   1, 108, 125, 165,  73,  49, 105,  45,\n",
      "        126, 108], device='cuda:2') torch.Size([16])\n",
      "08/29/2023, 01:40:08# predicted of 0: tensor([137, 161, 155, 137, 136,  45, 137, 161, 137, 165,  73, 137, 105,  45,\n",
      "        126, 161], device='cuda:2') torch.Size([16])\n",
      "08/29/2023, 01:40:44# labels of Validation: tensor([160,   0, 115,  73, 113,  20,  30, 140,   2,  98, 161, 158,  21, 141,\n",
      "        127, 118], device='cuda:2') torch.Size([16])\n",
      "08/29/2023, 01:40:44# predicted of Validation: tensor([155,   0, 115,  73, 155, 137, 137, 140, 137, 137, 161, 137, 161, 155,\n",
      "        127, 118], device='cuda:2') torch.Size([16])\n",
      "08/29/2023, 01:40:45# Validation Loss: 2.8516 | Validation Accuracy: 0.3744\n",
      "\n",
      "08/29/2023, 01:40:45# Find a better model!!\n"
     ]
    },
    {
     "data": {
      "application/vnd.jupyter.widget-view+json": {
       "model_id": "3938497c07d040faa563a1bb24b5394e",
       "version_major": 2,
       "version_minor": 0
      },
      "text/plain": [
       "Training:   0%|          | 0/8250 [00:00<?, ?it/s]"
      ]
     },
     "metadata": {},
     "output_type": "display_data"
    },
    {
     "name": "stdout",
     "output_type": "stream",
     "text": [
      "08/29/2023, 01:44:17# labels of 5000: tensor([ 43, 158,  74,   4,  66, 115,  81,  63,  16,  48,  24,  78,  54,  85,\n",
      "        104, 126], device='cuda:2') torch.Size([16])\n",
      "08/29/2023, 01:44:17# predicted of 5000: tensor([ 21,  31,  20, 110, 132, 115,  20,  21,  16,  21,  31,  67,  21,  85,\n",
      "         98, 126], device='cuda:2') torch.Size([16])\n",
      "08/29/2023, 01:46:42# total batches: 8250\n",
      "08/29/2023, 01:46:42# Epoch 5 | Train Loss: 2.8525 | Train Accuracy: 0.3721\n"
     ]
    },
    {
     "data": {
      "application/vnd.jupyter.widget-view+json": {
       "model_id": "cd7381a5dd204e7ca148bd2d057b1ea3",
       "version_major": 2,
       "version_minor": 0
      },
      "text/plain": [
       "Validation:   0%|          | 0/1032 [00:00<?, ?it/s]"
      ]
     },
     "metadata": {},
     "output_type": "display_data"
    },
    {
     "name": "stdout",
     "output_type": "stream",
     "text": [
      "08/29/2023, 01:46:43# labels of Validation: tensor([ 52, 159, 137,  77,  11,  84,  81, 110,   8,  74,  86, 115, 127, 112,\n",
      "         25,   1], device='cuda:2') torch.Size([16])\n",
      "08/29/2023, 01:46:43# predicted of Validation: tensor([ 52, 159,  48,  28,  48,  84,  48,  28,  28,  48,  48, 115, 127,  48,\n",
      "         25,  48], device='cuda:2') torch.Size([16])\n",
      "08/29/2023, 01:46:43# labels of 0: tensor([ 52, 159, 137,  77,  11,  84,  81, 110,   8,  74,  86, 115, 127, 112,\n",
      "         25,   1], device='cuda:2') torch.Size([16])\n",
      "08/29/2023, 01:46:43# predicted of 0: tensor([ 52, 159,  48,  28,  48,  84,  48,  28,  28,  48,  48, 115, 127,  48,\n",
      "         25,  48], device='cuda:2') torch.Size([16])\n",
      "08/29/2023, 01:47:15# labels of Validation: tensor([161, 138, 106, 119, 137,   8,  49, 150, 102,  49, 124,  41,  73,  84,\n",
      "         42,  96], device='cuda:2') torch.Size([16])\n",
      "08/29/2023, 01:47:15# predicted of Validation: tensor([ 28, 138, 106,  48,  48,  28,  48,  48,  48,  48,  48,  48,  73,  84,\n",
      "         48,  96], device='cuda:2') torch.Size([16])\n",
      "08/29/2023, 01:47:16# Validation Loss: 2.8171 | Validation Accuracy: 0.3759\n",
      "\n",
      "08/29/2023, 01:47:16# Find a better model!!\n"
     ]
    },
    {
     "data": {
      "application/vnd.jupyter.widget-view+json": {
       "model_id": "480bdcc1a3bc4168aed3265df68ec9a0",
       "version_major": 2,
       "version_minor": 0
      },
      "text/plain": [
       "Training:   0%|          | 0/8250 [00:00<?, ?it/s]"
      ]
     },
     "metadata": {},
     "output_type": "display_data"
    },
    {
     "name": "stdout",
     "output_type": "stream",
     "text": [
      "08/29/2023, 01:50:48# labels of 5000: tensor([103, 129, 128, 165, 109, 166,  75,   6,  84,  17, 154, 115,  84, 122,\n",
      "        151,  58], device='cuda:2') torch.Size([16])\n",
      "08/29/2023, 01:50:48# predicted of 5000: tensor([  6,   6, 128, 165,  37,  37, 148,   6,  84,  17, 154, 115,  84, 122,\n",
      "         37,  34], device='cuda:2') torch.Size([16])\n",
      "08/29/2023, 01:53:10# total batches: 8250\n",
      "08/29/2023, 01:53:10# Epoch 6 | Train Loss: 2.8233 | Train Accuracy: 0.3751\n"
     ]
    },
    {
     "data": {
      "application/vnd.jupyter.widget-view+json": {
       "model_id": "213b33deb62f4645a01323e36690fd5b",
       "version_major": 2,
       "version_minor": 0
      },
      "text/plain": [
       "Validation:   0%|          | 0/1032 [00:00<?, ?it/s]"
      ]
     },
     "metadata": {},
     "output_type": "display_data"
    },
    {
     "name": "stdout",
     "output_type": "stream",
     "text": [
      "08/29/2023, 01:53:10# labels of Validation: tensor([156, 111,  35,  16,  68,  85,  51,   2,   5,  61, 102,  27,  13,  96,\n",
      "         61,  74], device='cuda:2') torch.Size([16])\n",
      "08/29/2023, 01:53:10# predicted of Validation: tensor([156,  14,  35,  16, 108,  85, 132,  14,   5,  61,  14,  27,  13,  96,\n",
      "         61,  14], device='cuda:2') torch.Size([16])\n",
      "08/29/2023, 01:53:10# labels of 0: tensor([156, 111,  35,  16,  68,  85,  51,   2,   5,  61, 102,  27,  13,  96,\n",
      "         61,  74], device='cuda:2') torch.Size([16])\n",
      "08/29/2023, 01:53:10# predicted of 0: tensor([156,  14,  35,  16, 108,  85, 132,  14,   5,  61,  14,  27,  13,  96,\n",
      "         61,  14], device='cuda:2') torch.Size([16])\n",
      "08/29/2023, 01:53:46# labels of Validation: tensor([ 41,  61,  11,  76,  43, 113,   5, 100,  83, 150,  84,  53,  16, 102,\n",
      "         59,  92], device='cuda:2') torch.Size([16])\n",
      "08/29/2023, 01:53:46# predicted of Validation: tensor([ 14,  61,  14,  14,  14, 108,   5, 108,  14,  14,  84,  14,  16,  14,\n",
      "        132,  14], device='cuda:2') torch.Size([16])\n",
      "08/29/2023, 01:53:47# Validation Loss: 2.7979 | Validation Accuracy: 0.3770\n",
      "\n",
      "08/29/2023, 01:53:47# Find a better model!!\n"
     ]
    },
    {
     "data": {
      "application/vnd.jupyter.widget-view+json": {
       "model_id": "5689cfba073f4ed29372e81dcea9d4d9",
       "version_major": 2,
       "version_minor": 0
      },
      "text/plain": [
       "Training:   0%|          | 0/8250 [00:00<?, ?it/s]"
      ]
     },
     "metadata": {},
     "output_type": "display_data"
    },
    {
     "name": "stdout",
     "output_type": "stream",
     "text": [
      "08/29/2023, 01:57:17# labels of 5000: tensor([ 11,  26,  33,  57, 156, 113,  47,  78, 165,  89, 142,  21,  26,  77,\n",
      "         86,  41], device='cuda:2') torch.Size([16])\n",
      "08/29/2023, 01:57:17# predicted of 5000: tensor([112,  54,  30,  54, 156, 160,  54,  67, 165,  89, 137, 161,  54, 132,\n",
      "        164, 160], device='cuda:2') torch.Size([16])\n",
      "08/29/2023, 01:59:39# total batches: 8250\n",
      "08/29/2023, 01:59:39# Epoch 7 | Train Loss: 2.8044 | Train Accuracy: 0.3772\n"
     ]
    },
    {
     "data": {
      "application/vnd.jupyter.widget-view+json": {
       "model_id": "dc1307c7d410415dbca930475ed8e063",
       "version_major": 2,
       "version_minor": 0
      },
      "text/plain": [
       "Validation:   0%|          | 0/1032 [00:00<?, ?it/s]"
      ]
     },
     "metadata": {},
     "output_type": "display_data"
    },
    {
     "name": "stdout",
     "output_type": "stream",
     "text": [
      "08/29/2023, 01:59:39# labels of Validation: tensor([ 84, 122, 166, 109,  31,  87, 135, 162, 143,   5, 119, 163,  77,  14,\n",
      "         89,  46], device='cuda:2') torch.Size([16])\n",
      "08/29/2023, 01:59:39# predicted of Validation: tensor([ 84, 122, 161,  83,  83,  83,  83,  83,  83,   5,  83,  83, 161,  83,\n",
      "         89,  83], device='cuda:2') torch.Size([16])\n",
      "08/29/2023, 01:59:39# labels of 0: tensor([ 84, 122, 166, 109,  31,  87, 135, 162, 143,   5, 119, 163,  77,  14,\n",
      "         89,  46], device='cuda:2') torch.Size([16])\n",
      "08/29/2023, 01:59:39# predicted of 0: tensor([ 84, 122, 161,  83,  83,  83,  83,  83,  83,   5,  83,  83, 161,  83,\n",
      "         89,  83], device='cuda:2') torch.Size([16])\n",
      "08/29/2023, 02:00:15# labels of Validation: tensor([ 81, 159,  35,  77,  53, 102,  16, 110,  89, 143, 163, 166, 121,  87,\n",
      "        125, 160], device='cuda:2') torch.Size([16])\n",
      "08/29/2023, 02:00:15# predicted of Validation: tensor([ 83, 159,  35, 161,  83,  83,  16, 131,  89,  83,  83, 161,  83,  83,\n",
      "         83, 131], device='cuda:2') torch.Size([16])\n",
      "08/29/2023, 02:00:16# Validation Loss: 2.7818 | Validation Accuracy: 0.3783\n",
      "\n",
      "08/29/2023, 02:00:16# Find a better model!!\n"
     ]
    },
    {
     "data": {
      "application/vnd.jupyter.widget-view+json": {
       "model_id": "bdcabc8458f845a2852a975a67be23bd",
       "version_major": 2,
       "version_minor": 0
      },
      "text/plain": [
       "Training:   0%|          | 0/8250 [00:00<?, ?it/s]"
      ]
     },
     "metadata": {},
     "output_type": "display_data"
    },
    {
     "name": "stdout",
     "output_type": "stream",
     "text": [
      "08/29/2023, 02:03:53# labels of 5000: tensor([ 75, 120,  25, 121,  99,  75, 131, 121,  29,  16,  53, 130,  53,  62,\n",
      "         32,  27], device='cuda:2') torch.Size([16])\n",
      "08/29/2023, 02:03:53# predicted of 5000: tensor([107, 120,  25, 125,  99,   1, 108, 116,  29,  16, 107, 130, 103,  62,\n",
      "         32,  27], device='cuda:2') torch.Size([16])\n",
      "08/29/2023, 02:06:16# total batches: 8250\n",
      "08/29/2023, 02:06:16# Epoch 8 | Train Loss: 2.7912 | Train Accuracy: 0.3782\n"
     ]
    },
    {
     "data": {
      "application/vnd.jupyter.widget-view+json": {
       "model_id": "10cf94389ee14c108b6726ce65014731",
       "version_major": 2,
       "version_minor": 0
      },
      "text/plain": [
       "Validation:   0%|          | 0/1032 [00:00<?, ?it/s]"
      ]
     },
     "metadata": {},
     "output_type": "display_data"
    },
    {
     "name": "stdout",
     "output_type": "stream",
     "text": [
      "08/29/2023, 02:06:16# labels of Validation: tensor([  8, 119,  29, 106,   4,  92,  96,  91, 100, 147,  47, 166,  47, 126,\n",
      "          7,  67], device='cuda:2') torch.Size([16])\n",
      "08/29/2023, 02:06:16# predicted of Validation: tensor([  6,  49,  29, 106,  49,  49,  96, 132,   6, 147,  49, 132,  49, 126,\n",
      "          7,  67], device='cuda:2') torch.Size([16])\n",
      "08/29/2023, 02:06:16# labels of 0: tensor([  8, 119,  29, 106,   4,  92,  96,  91, 100, 147,  47, 166,  47, 126,\n",
      "          7,  67], device='cuda:2') torch.Size([16])\n",
      "08/29/2023, 02:06:16# predicted of 0: tensor([  6,  49,  29, 106,  49,  49,  96, 132,   6, 147,  49, 132,  49, 126,\n",
      "          7,  67], device='cuda:2') torch.Size([16])\n",
      "08/29/2023, 02:06:52# labels of Validation: tensor([129,  12,  32,  96,  75,  32, 129, 107,  79, 129,  21,  38,  47,  82,\n",
      "         12, 134], device='cuda:2') torch.Size([16])\n",
      "08/29/2023, 02:06:52# predicted of Validation: tensor([  6,  49,  32,  96,  49,  32,   6,   6,  79,   6, 132,  49,  49,  82,\n",
      "         49, 134], device='cuda:2') torch.Size([16])\n",
      "08/29/2023, 02:06:53# Validation Loss: 2.7703 | Validation Accuracy: 0.3781\n",
      "\n",
      "08/29/2023, 02:06:53# Find a better model!!\n"
     ]
    },
    {
     "data": {
      "application/vnd.jupyter.widget-view+json": {
       "model_id": "61384332928a4cc08599ffdd1654dde3",
       "version_major": 2,
       "version_minor": 0
      },
      "text/plain": [
       "Training:   0%|          | 0/8250 [00:00<?, ?it/s]"
      ]
     },
     "metadata": {},
     "output_type": "display_data"
    },
    {
     "name": "stdout",
     "output_type": "stream",
     "text": [
      "08/29/2023, 02:10:20# labels of 5000: tensor([ 26, 166, 153,  48,  14,  26,  15,  57,  52,  69,  12, 137,  75,  74,\n",
      "        111, 153], device='cuda:2') torch.Size([16])\n",
      "08/29/2023, 02:10:20# predicted of 5000: tensor([112, 132, 150, 112,  11,  88,  15,  33,  52,  69,  10,  10, 125,  54,\n",
      "        143, 112], device='cuda:2') torch.Size([16])\n",
      "08/29/2023, 02:12:31# total batches: 8250\n",
      "08/29/2023, 02:12:31# Epoch 9 | Train Loss: 2.7805 | Train Accuracy: 0.3794\n"
     ]
    },
    {
     "data": {
      "application/vnd.jupyter.widget-view+json": {
       "model_id": "65e7c284f1d7475facc484cc63f2d038",
       "version_major": 2,
       "version_minor": 0
      },
      "text/plain": [
       "Validation:   0%|          | 0/1032 [00:00<?, ?it/s]"
      ]
     },
     "metadata": {},
     "output_type": "display_data"
    },
    {
     "name": "stdout",
     "output_type": "stream",
     "text": [
      "08/29/2023, 02:12:31# labels of Validation: tensor([ 12,  46, 153, 154, 112,  66,  20, 144, 125,  58, 102, 132,  17, 102,\n",
      "        131, 164], device='cuda:2') torch.Size([16])\n",
      "08/29/2023, 02:12:31# predicted of Validation: tensor([  2,   2,   2, 154,   2,  28,   2,   2,   2,   2,   2, 132,  17,   2,\n",
      "         28,   2], device='cuda:2') torch.Size([16])\n",
      "08/29/2023, 02:12:31# labels of 0: tensor([ 12,  46, 153, 154, 112,  66,  20, 144, 125,  58, 102, 132,  17, 102,\n",
      "        131, 164], device='cuda:2') torch.Size([16])\n",
      "08/29/2023, 02:12:31# predicted of 0: tensor([  2,   2,   2, 154,   2,  28,   2,   2,   2,   2,   2, 132,  17,   2,\n",
      "         28,   2], device='cuda:2') torch.Size([16])\n",
      "08/29/2023, 02:12:59# labels of Validation: tensor([  9,   3,  89,  29, 108,  70, 103, 100, 108,  32,  61,  15,  34, 110,\n",
      "        126, 102], device='cuda:2') torch.Size([16])\n",
      "08/29/2023, 02:12:59# predicted of Validation: tensor([  2,   3,  89,  29,  28,  70,  28,  28,  28,  32,  61,  15,   2,  28,\n",
      "        126,   2], device='cuda:2') torch.Size([16])\n",
      "08/29/2023, 02:13:00# Validation Loss: 2.7609 | Validation Accuracy: 0.3793\n",
      "\n",
      "08/29/2023, 02:13:00# Find a better model!!\n"
     ]
    },
    {
     "data": {
      "application/vnd.jupyter.widget-view+json": {
       "model_id": "777f623fb9584dc28069f58f540222c6",
       "version_major": 2,
       "version_minor": 0
      },
      "text/plain": [
       "Training:   0%|          | 0/8250 [00:00<?, ?it/s]"
      ]
     },
     "metadata": {},
     "output_type": "display_data"
    },
    {
     "name": "stdout",
     "output_type": "stream",
     "text": [
      "08/29/2023, 02:16:15# labels of 5000: tensor([156,  68,  61,  75, 105,  56, 126,  66,  20,  87,   5,   0,  21,  35,\n",
      "         43, 163], device='cuda:2') torch.Size([16])\n",
      "08/29/2023, 02:16:15# predicted of 5000: tensor([156,   6,  61,  41, 105,  56, 126,   6,  71,  20,   5,   0,   6,  35,\n",
      "         41, 107], device='cuda:2') torch.Size([16])\n",
      "08/29/2023, 02:18:26# total batches: 8250\n",
      "08/29/2023, 02:18:26# Epoch 10 | Train Loss: 2.7718 | Train Accuracy: 0.3792\n"
     ]
    },
    {
     "data": {
      "application/vnd.jupyter.widget-view+json": {
       "model_id": "536b5419c5af4884a114eafcfeb04cc5",
       "version_major": 2,
       "version_minor": 0
      },
      "text/plain": [
       "Validation:   0%|          | 0/1032 [00:00<?, ?it/s]"
      ]
     },
     "metadata": {},
     "output_type": "display_data"
    },
    {
     "name": "stdout",
     "output_type": "stream",
     "text": [
      "08/29/2023, 02:18:26# labels of Validation: tensor([ 76,  64, 106,  82, 118, 154, 165,  11, 161, 126,   6, 161, 117,  40,\n",
      "          5, 153], device='cuda:2') torch.Size([16])\n",
      "08/29/2023, 02:18:26# predicted of Validation: tensor([ 74, 108, 106,  82, 118, 154, 165,  74, 132, 126, 132, 132, 117,  40,\n",
      "          5,  74], device='cuda:2') torch.Size([16])\n",
      "08/29/2023, 02:18:26# labels of 0: tensor([ 76,  64, 106,  82, 118, 154, 165,  11, 161, 126,   6, 161, 117,  40,\n",
      "          5, 153], device='cuda:2') torch.Size([16])\n",
      "08/29/2023, 02:18:26# predicted of 0: tensor([ 74, 108, 106,  82, 118, 154, 165,  74, 132, 126, 132, 132, 117,  40,\n",
      "          5,  74], device='cuda:2') torch.Size([16])\n",
      "08/29/2023, 02:18:53# labels of Validation: tensor([ 13, 157,  11,  79,  21, 166, 130,   0, 128,  25,  60, 158,  24,  16,\n",
      "         33,  70], device='cuda:2') torch.Size([16])\n",
      "08/29/2023, 02:18:53# predicted of Validation: tensor([ 13,  74,  74,  79, 108, 108, 130,   0, 128,  25,  74,  74,  74,  16,\n",
      "         74,  70], device='cuda:2') torch.Size([16])\n",
      "08/29/2023, 02:18:54# Validation Loss: 2.7548 | Validation Accuracy: 0.3798\n",
      "\n",
      "08/29/2023, 02:18:54# Find a better model!!\n"
     ]
    },
    {
     "data": {
      "application/vnd.jupyter.widget-view+json": {
       "model_id": "a9a62518374745959c263899991af7b6",
       "version_major": 2,
       "version_minor": 0
      },
      "text/plain": [
       "Training:   0%|          | 0/8250 [00:00<?, ?it/s]"
      ]
     },
     "metadata": {},
     "output_type": "display_data"
    },
    {
     "name": "stdout",
     "output_type": "stream",
     "text": [
      "08/29/2023, 02:22:21# labels of 5000: tensor([130, 139,  25,  74, 125,  46, 103,  68, 112, 165, 114,  69,  20, 106,\n",
      "        118,  38], device='cuda:2') torch.Size([16])\n",
      "08/29/2023, 02:22:21# predicted of 5000: tensor([130,  10,  25,  53,  10, 157,  66, 161,  20, 165,   6,  69,  47, 106,\n",
      "        118,  10], device='cuda:2') torch.Size([16])\n",
      "08/29/2023, 02:24:34# total batches: 8250\n",
      "08/29/2023, 02:24:34# Epoch 11 | Train Loss: 2.7644 | Train Accuracy: 0.3808\n"
     ]
    },
    {
     "data": {
      "application/vnd.jupyter.widget-view+json": {
       "model_id": "d9dbddf6027547468fd221080031cadc",
       "version_major": 2,
       "version_minor": 0
      },
      "text/plain": [
       "Validation:   0%|          | 0/1032 [00:00<?, ?it/s]"
      ]
     },
     "metadata": {},
     "output_type": "display_data"
    },
    {
     "name": "stdout",
     "output_type": "stream",
     "text": [
      "08/29/2023, 02:24:34# labels of Validation: tensor([148, 154,   6,  96, 157,  69,  23,  88,  72, 139,  85,  38, 102,   2,\n",
      "         12,  77], device='cuda:2') torch.Size([16])\n",
      "08/29/2023, 02:24:34# predicted of Validation: tensor([108, 154, 161,  96, 109,  69,  23, 108,  72, 109,  85, 109, 109, 109,\n",
      "        109, 108], device='cuda:2') torch.Size([16])\n",
      "08/29/2023, 02:24:34# labels of 0: tensor([148, 154,   6,  96, 157,  69,  23,  88,  72, 139,  85,  38, 102,   2,\n",
      "         12,  77], device='cuda:2') torch.Size([16])\n",
      "08/29/2023, 02:24:34# predicted of 0: tensor([108, 154, 161,  96, 109,  69,  23, 108,  72, 109,  85, 109, 109, 109,\n",
      "        109, 108], device='cuda:2') torch.Size([16])\n",
      "08/29/2023, 02:25:02# labels of Validation: tensor([108,   8, 148,  68, 146, 127,   0, 148, 123, 143, 150,  64, 131,  16,\n",
      "         63,  69], device='cuda:2') torch.Size([16])\n",
      "08/29/2023, 02:25:02# predicted of Validation: tensor([  6, 108, 108, 108, 146, 127,   0, 108, 123, 109, 109, 108, 161,  16,\n",
      "        109,  69], device='cuda:2') torch.Size([16])\n",
      "08/29/2023, 02:25:02# Validation Loss: 2.7467 | Validation Accuracy: 0.3792\n",
      "\n",
      "08/29/2023, 02:25:02# Find a better model!!\n"
     ]
    },
    {
     "data": {
      "application/vnd.jupyter.widget-view+json": {
       "model_id": "d0ed78d57ce347c8b474c223d001487e",
       "version_major": 2,
       "version_minor": 0
      },
      "text/plain": [
       "Training:   0%|          | 0/8250 [00:00<?, ?it/s]"
      ]
     },
     "metadata": {},
     "output_type": "display_data"
    },
    {
     "name": "stdout",
     "output_type": "stream",
     "text": [
      "08/29/2023, 02:28:33# labels of 5000: tensor([160,  10, 134, 124, 131, 130, 132, 133, 146, 151, 162,  30, 151, 105,\n",
      "        166,  72], device='cuda:2') torch.Size([16])\n",
      "08/29/2023, 02:28:33# predicted of 5000: tensor([129,  19, 134,  19,   6, 130, 161,  77, 146,  19,  19,  19,  19, 105,\n",
      "        161,  72], device='cuda:2') torch.Size([16])\n",
      "08/29/2023, 02:30:43# total batches: 8250\n",
      "08/29/2023, 02:30:43# Epoch 12 | Train Loss: 2.7576 | Train Accuracy: 0.3821\n"
     ]
    },
    {
     "data": {
      "application/vnd.jupyter.widget-view+json": {
       "model_id": "fe4c87f2654f46e0be02a7ded1508ce3",
       "version_major": 2,
       "version_minor": 0
      },
      "text/plain": [
       "Validation:   0%|          | 0/1032 [00:00<?, ?it/s]"
      ]
     },
     "metadata": {},
     "output_type": "display_data"
    },
    {
     "name": "stdout",
     "output_type": "stream",
     "text": [
      "08/29/2023, 02:30:43# labels of Validation: tensor([ 46, 127,  34, 129,  79,  64, 158,  42,  57,  10, 119,  75,   6, 115,\n",
      "         47, 101], device='cuda:2') torch.Size([16])\n",
      "08/29/2023, 02:30:43# predicted of Validation: tensor([ 55, 127,  55,  77,  79,  77,  55,  55,  55,  55,  55,  55, 132, 115,\n",
      "         55, 132], device='cuda:2') torch.Size([16])\n",
      "08/29/2023, 02:30:43# labels of 0: tensor([ 46, 127,  34, 129,  79,  64, 158,  42,  57,  10, 119,  75,   6, 115,\n",
      "         47, 101], device='cuda:2') torch.Size([16])\n",
      "08/29/2023, 02:30:43# predicted of 0: tensor([ 55, 127,  55,  77,  79,  77,  55,  55,  55,  55,  55,  55, 132, 115,\n",
      "         55, 132], device='cuda:2') torch.Size([16])\n",
      "08/29/2023, 02:31:10# labels of Validation: tensor([142,  80, 155,  36, 164,  48,  38, 121,  25,  28,  41, 126,  12,  93,\n",
      "         88, 142], device='cuda:2') torch.Size([16])\n",
      "08/29/2023, 02:31:10# predicted of Validation: tensor([ 55,  80, 132,  55,  55,  55,  55,  55,  25, 132,  55, 126,  55,  77,\n",
      "         77,  55], device='cuda:2') torch.Size([16])\n",
      "08/29/2023, 02:31:11# Validation Loss: 2.7402 | Validation Accuracy: 0.3805\n",
      "\n",
      "08/29/2023, 02:31:11# Find a better model!!\n"
     ]
    },
    {
     "data": {
      "application/vnd.jupyter.widget-view+json": {
       "model_id": "5765dae5a2ab4650abd9598a1db20d1b",
       "version_major": 2,
       "version_minor": 0
      },
      "text/plain": [
       "Training:   0%|          | 0/8250 [00:00<?, ?it/s]"
      ]
     },
     "metadata": {},
     "output_type": "display_data"
    },
    {
     "name": "stdout",
     "output_type": "stream",
     "text": [
      "08/29/2023, 02:34:37# labels of 5000: tensor([150,  50,  94,   3, 147, 133, 123, 159,   2,  50,   4, 121,  86,  30,\n",
      "         58,  36], device='cuda:2') torch.Size([16])\n",
      "08/29/2023, 02:34:37# predicted of 5000: tensor([163,  50,  94,   3, 147,  51, 123, 159,  33,  50,  33,  54,  33,  33,\n",
      "         42, 163], device='cuda:2') torch.Size([16])\n",
      "08/29/2023, 02:36:43# total batches: 8250\n",
      "08/29/2023, 02:36:43# Epoch 13 | Train Loss: 2.7519 | Train Accuracy: 0.3822\n"
     ]
    },
    {
     "data": {
      "application/vnd.jupyter.widget-view+json": {
       "model_id": "844ec91ad033478a938ecc1c2143a5d0",
       "version_major": 2,
       "version_minor": 0
      },
      "text/plain": [
       "Validation:   0%|          | 0/1032 [00:00<?, ?it/s]"
      ]
     },
     "metadata": {},
     "output_type": "display_data"
    },
    {
     "name": "stdout",
     "output_type": "stream",
     "text": [
      "08/29/2023, 02:36:43# labels of Validation: tensor([ 72,  91, 124,   9,  69,  93,  56,   3, 148, 130,  73, 124,  98, 120,\n",
      "        155, 113], device='cuda:2') torch.Size([16])\n",
      "08/29/2023, 02:36:43# predicted of Validation: tensor([ 72,  28,  87,  87,  69,  77,  56,   3,  77, 130,  73,  87,  87, 120,\n",
      "         28,  77], device='cuda:2') torch.Size([16])\n",
      "08/29/2023, 02:36:43# labels of 0: tensor([ 72,  91, 124,   9,  69,  93,  56,   3, 148, 130,  73, 124,  98, 120,\n",
      "        155, 113], device='cuda:2') torch.Size([16])\n",
      "08/29/2023, 02:36:43# predicted of 0: tensor([ 72,  28,  87,  87,  69,  77,  56,   3,  77, 130,  73,  87,  87, 120,\n",
      "         28,  77], device='cuda:2') torch.Size([16])\n",
      "08/29/2023, 02:37:07# labels of Validation: tensor([139,  92,  14,  38,  48,  48,  30,  72, 104,  72, 164,  41,  51,  44,\n",
      "         52,  94], device='cuda:2') torch.Size([16])\n",
      "08/29/2023, 02:37:07# predicted of Validation: tensor([ 87,  87,  87,  87,  87,  87,  87,  72,  87,  72,  87,  87, 161,  87,\n",
      "         52,  94], device='cuda:2') torch.Size([16])\n",
      "08/29/2023, 02:37:08# Validation Loss: 2.7352 | Validation Accuracy: 0.3801\n",
      "\n",
      "08/29/2023, 02:37:08# Find a better model!!\n"
     ]
    },
    {
     "data": {
      "application/vnd.jupyter.widget-view+json": {
       "model_id": "72f72f98b2d64e6fb87adc0c2b65aece",
       "version_major": 2,
       "version_minor": 0
      },
      "text/plain": [
       "Training:   0%|          | 0/8250 [00:00<?, ?it/s]"
      ]
     },
     "metadata": {},
     "output_type": "display_data"
    },
    {
     "name": "stdout",
     "output_type": "stream",
     "text": [
      "08/29/2023, 02:40:25# labels of 5000: tensor([137,  92,  30,  37,  39,  90,  51, 166,  17, 151,  88, 150,  74, 106,\n",
      "         67, 108], device='cuda:2') torch.Size([16])\n",
      "08/29/2023, 02:40:25# predicted of 5000: tensor([  2,  18,  98, 108,  39, 131, 132, 132,  17,  53, 132, 113,  31, 106,\n",
      "         78, 108], device='cuda:2') torch.Size([16])\n",
      "08/29/2023, 02:42:34# total batches: 8250\n",
      "08/29/2023, 02:42:34# Epoch 14 | Train Loss: 2.7459 | Train Accuracy: 0.3831\n"
     ]
    },
    {
     "data": {
      "application/vnd.jupyter.widget-view+json": {
       "model_id": "f47113a85b4a405fa5f18e43e6e78c0e",
       "version_major": 2,
       "version_minor": 0
      },
      "text/plain": [
       "Validation:   0%|          | 0/1032 [00:00<?, ?it/s]"
      ]
     },
     "metadata": {},
     "output_type": "display_data"
    },
    {
     "name": "stdout",
     "output_type": "stream",
     "text": [
      "08/29/2023, 02:42:34# labels of Validation: tensor([ 56,  70,  15,  31,  29, 163,  61,  75,  14, 117, 152,   3,  63,   1,\n",
      "         59,  75], device='cuda:2') torch.Size([16])\n",
      "08/29/2023, 02:42:34# predicted of Validation: tensor([ 56,  70,  15,  43,  29,  43,  61,  43,  43, 117,  43,   3,  43,  43,\n",
      "        132,  43], device='cuda:2') torch.Size([16])\n",
      "08/29/2023, 02:42:34# labels of 0: tensor([ 56,  70,  15,  31,  29, 163,  61,  75,  14, 117, 152,   3,  63,   1,\n",
      "         59,  75], device='cuda:2') torch.Size([16])\n",
      "08/29/2023, 02:42:34# predicted of 0: tensor([ 56,  70,  15,  43,  29,  43,  61,  43,  43, 117,  43,   3,  43,  43,\n",
      "        132,  43], device='cuda:2') torch.Size([16])\n",
      "08/29/2023, 02:42:58# labels of Validation: tensor([ 89, 128, 114,  68, 152,   0,  82, 139, 164, 158, 129, 132, 101,  90,\n",
      "         73, 128], device='cuda:2') torch.Size([16])\n",
      "08/29/2023, 02:42:58# predicted of Validation: tensor([ 89, 128, 101, 101,  43,   0,  82,  43,  43,  43, 101, 132, 132, 101,\n",
      "         73, 128], device='cuda:2') torch.Size([16])\n",
      "08/29/2023, 02:42:59# Validation Loss: 2.7286 | Validation Accuracy: 0.3808\n",
      "\n",
      "08/29/2023, 02:42:59# Find a better model!!\n"
     ]
    },
    {
     "data": {
      "application/vnd.jupyter.widget-view+json": {
       "model_id": "e5440d4bcdfa423689772a45e993bb69",
       "version_major": 2,
       "version_minor": 0
      },
      "text/plain": [
       "Training:   0%|          | 0/8250 [00:00<?, ?it/s]"
      ]
     },
     "metadata": {},
     "output_type": "display_data"
    }
   ],
   "source": [
    "import csv\n",
    "import pandas as pd\n",
    "from sklearn.metrics import classification_report\n",
    "from torch.optim import AdamW, lr_scheduler\n",
    "\n",
    "seed = 8787\n",
    "same_seeds(seed)\n",
    "\n",
    "model = GAT(in_dim=50, hidden_dim=16, out_dim=168, num_heads=8)\n",
    "# in_dim means the dimension of the node_feat(50 dim, since the 50-dim embedding)\n",
    "# out_dim means the # of the categories -> 168 for out tasks\n",
    "model.load_state_dict(torch.load('model1_initial/initial_weight.pth'))\n",
    "best_model_path = \"../checkpoint_GAT/best_model_GAT_transH_50.pt\"\n",
    "\n",
    "model = model.to(device)\n",
    "\n",
    "# optimizer = torch.optim.AdamW(model.parameters(), lr=1e-5)\n",
    "optimizer = AdamW(model.parameters(), lr=5e-4)\n",
    "# scheduler = get_linear_schedule_with_warmup(optimizer, num_warmup_steps=18, num_training_steps=total_steps)\n",
    "\n",
    "# T_max control the period of the lr changing -> set 1/10 first\n",
    "scheduler = lr_scheduler.CosineAnnealingLR(optimizer, T_max=36, eta_min=0, last_epoch=- 1, verbose=False)\n",
    "\n",
    "\n",
    "criterion = nn.CrossEntropyLoss()\n",
    "total_steps = 100\n",
    "\n",
    "# save the best model\n",
    "best_val_loss = float('inf')\n",
    "patience = 10  # Number of epochs with no improvement after which training will be stopped.\n",
    "waiting = 0  # The number of epochs with no improvement so far.\n",
    "\n",
    "\n",
    "# Training Part\n",
    "for epoch in tqdm(range(total_steps)):\n",
    "    # Train\n",
    "    model.train()\n",
    "    total_loss = 0.0\n",
    "    total_accuracy = 0.0\n",
    "    num_batches = 0\n",
    "    \n",
    "    for data in tqdm(dataloaders['train'], desc=\"Training\", position=0, leave=True):\n",
    "        num_batches += 1\n",
    "        loss, accuracy, _ = model_fn(data, model, criterion, device, num_batches, which_type='train')\n",
    "        \n",
    "        optimizer.zero_grad()\n",
    "        loss.backward()\n",
    "        optimizer.step()\n",
    "\n",
    "        total_loss += loss.item()\n",
    "        total_accuracy += accuracy.item()\n",
    "\n",
    "        \n",
    "#     scheduler.step()\n",
    "    add_log_msg(f\"total batches: {num_batches}\")\n",
    "\n",
    "    avg_loss = total_loss / num_batches\n",
    "    avg_accuracy = total_accuracy / num_batches\n",
    "\n",
    "    add_log_msg(f'Epoch {epoch} | Train Loss: {avg_loss:.4f} | Train Accuracy: {avg_accuracy:.4f}')\n",
    "\n",
    "    \n",
    "    # Validation Part\n",
    "    model.eval()\n",
    "    total_accuracy = 0.0\n",
    "    total_loss = 0.0\n",
    "    num_batches = 0\n",
    "\n",
    "\n",
    "    with torch.no_grad():\n",
    "        for data in tqdm(dataloaders['valid'], desc=\"Validation\", position=0, leave=True):\n",
    "            loss, accuracy, _ = model_fn(data, model, criterion, device, num_batches, which_type='validation')\n",
    "            total_accuracy += accuracy.item()\n",
    "            total_loss += loss.item()\n",
    "            num_batches += 1\n",
    "\n",
    "    avg_accuracy = total_accuracy / num_batches\n",
    "    current_loss = total_loss / num_batches\n",
    "    \n",
    "    add_log_msg(f'Validation Loss: {current_loss:.4f} | Validation Accuracy: {avg_accuracy:.4f}\\n')\n",
    "    \n",
    "            \n",
    "    if current_loss < best_val_loss:\n",
    "        best_val_loss = current_loss\n",
    "        waiting = 0\n",
    "        \n",
    "        if os.path.exists(best_model_path):\n",
    "            os.remove(best_model_path)\n",
    "            add_log_msg(\"Find a better model!!\")\n",
    "\n",
    "        torch.save(model.state_dict(), best_model_path)\n",
    "\n",
    "        \n",
    "#         print(best_model_path)\n",
    "\n",
    "    else:\n",
    "        waiting += 1\n",
    "        if waiting >= patience:\n",
    "            add_log_msg(\"============================== Early stopping ==================================\")\n",
    "            break"
   ]
  },
  {
   "cell_type": "markdown",
   "metadata": {},
   "source": [
    "### Testing Part"
   ]
  },
  {
   "cell_type": "code",
   "execution_count": null,
   "metadata": {},
   "outputs": [],
   "source": [
    "# load the pretrained model\n",
    "pretrained_model_path = '../checkpoint_GAT/best_model_GAT_transH_50.pt'\n",
    "model.load_state_dict(torch.load(pretrained_model_path))\n",
    "\n",
    "model.to(device)\n",
    "model.eval()\n",
    "\n",
    "total = 0\n",
    "correct = 0\n",
    "count = 0\n",
    "\n",
    "true_labels = []\n",
    "predicted_labels = []\n",
    "\n",
    "with torch.no_grad():\n",
    "    for data in tqdm(dataloaders['test'], desc=\"Testing\", position=0, leave=True):\n",
    "\n",
    "        loss, accuracy, predicted = model_fn(data, model, criterion, device, count, which_type='test')\n",
    "        labels = data[1].to(device)\n",
    "        \n",
    "        true_labels.extend(labels.cpu().numpy())\n",
    "        predicted_labels.extend(predicted.cpu().numpy())\n",
    "        \n",
    "        if count % 5000 == 0:\n",
    "            add_log_msg(f\"labels: {labels} {labels.shape}\")\n",
    "            add_log_msg(f\"predicted: {predicted} {predicted.shape}\")\n",
    "            \n",
    "        count += 1\n",
    "        \n",
    "        total += labels.size(0)\n",
    "        correct += (predicted == labels).sum().item()\n",
    "\n",
    "add_log_msg(f'Test Accuracy: {100 * correct / total} %\\n\\n\\n')\n",
    "\n",
    "\n",
    "# ======================================== handlig the output excel files ========================================\n",
    "mapping_file = './new_mapping.txt'\n",
    "label_mapping = {}\n",
    "with open(mapping_file, 'r') as f:\n",
    "    for line in f:\n",
    "        parts = line.strip().split(': ')\n",
    "        label_mapping[int(parts[1])] = parts[0]\n",
    "        \n",
    "# 将映射后的标签应用到true和predicted标签列表\n",
    "mapped_true_labels = [label_mapping[label] for label in true_labels]\n",
    "mapped_predicted_labels = [label_mapping[label] for label in predicted_labels]\n",
    "\n",
    "# 生成Scikit-learn报告信息的DataFrame\n",
    "report_data = classification_report(mapped_true_labels, mapped_predicted_labels, output_dict=True)\n",
    "report_df = pd.DataFrame(report_data).transpose()\n",
    "\n",
    "report_folder = 'classification_report'\n",
    "os.makedirs(report_folder, exist_ok=True)\n",
    "\n",
    "count = 0\n",
    "while True:\n",
    "    report_filename = f'classification_report-{count}.xlsx'\n",
    "    labels_filename = f'mapped_true_predicted_labels-{count}.xlsx'\n",
    "    \n",
    "    report_path = os.path.join(report_folder, report_filename)\n",
    "    labels_path = os.path.join(report_folder, labels_filename)\n",
    "    \n",
    "    if not os.path.exists(report_path) and not os.path.exists(labels_path):\n",
    "        break\n",
    "    count += 1\n",
    "\n",
    "    \n",
    "report_df.to_excel(report_path, index_label='Label')\n",
    "\n",
    "mapped_labels_df = pd.DataFrame({'true_label': mapped_true_labels, 'predicted_label': mapped_predicted_labels})\n",
    "mapped_labels_df.to_excel(labels_path, index=False)\n",
    "\n",
    "add_log_msg(f\"report path: {report_path}\")\n",
    "add_log_msg(f\"label path: {labels_path}\")\n",
    "\n",
    "mapped_report = classification_report(mapped_true_labels, mapped_predicted_labels)\n",
    "add_log_msg(f\"mapped_report:\\n{mapped_report}\")"
   ]
  },
  {
   "cell_type": "code",
   "execution_count": null,
   "metadata": {},
   "outputs": [],
   "source": []
  }
 ],
 "metadata": {
  "kernelspec": {
   "display_name": "Python 3",
   "language": "python",
   "name": "python3"
  },
  "language_info": {
   "codemirror_mode": {
    "name": "ipython",
    "version": 3
   },
   "file_extension": ".py",
   "mimetype": "text/x-python",
   "name": "python",
   "nbconvert_exporter": "python",
   "pygments_lexer": "ipython3",
   "version": "3.6.9"
  }
 },
 "nbformat": 4,
 "nbformat_minor": 2
}
