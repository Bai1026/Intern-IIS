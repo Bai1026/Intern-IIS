{
 "cells": [
  {
   "cell_type": "markdown",
   "metadata": {},
   "source": [
    "# Test of GAT\n",
    "- use DGL\n",
    "- predict `graphs`\n",
    "- test: 0~99\n",
    "- validation: 100~199\n",
    "- train: 200~999\n",
    "- larger lr with scheduler"
   ]
  },
  {
   "cell_type": "code",
   "execution_count": 1,
   "metadata": {},
   "outputs": [],
   "source": [
    "import os\n",
    "import dgl\n",
    "import json\n",
    "import torch\n",
    "import torch as th\n",
    "# from tqdm import tqdm\n",
    "from tqdm.notebook import tqdm  # 使用 notebook 版本的 tqdm\n",
    "import torch.nn as nn\n",
    "from dgl.nn import GraphConv, GATConv\n",
    "import torch.nn.functional as F\n",
    "from torch.utils.data import Dataset, DataLoader\n",
    "from transformers import get_linear_schedule_with_warmup\n",
    "from torch.optim import AdamW"
   ]
  },
  {
   "cell_type": "markdown",
   "metadata": {},
   "source": [
    "- check the GPU and assign the GPU by the best memory usage"
   ]
  },
  {
   "cell_type": "code",
   "execution_count": 3,
   "metadata": {},
   "outputs": [
    {
     "name": "stdout",
     "output_type": "stream",
     "text": [
      "cuda:1\n"
     ]
    }
   ],
   "source": [
    "import subprocess\n",
    "import torch\n",
    "\n",
    "def get_free_gpu():\n",
    "    try:\n",
    "        # Run nvidia-smi command to get GPU details\n",
    "        _output_to_list = lambda x: x.decode('ascii').split('\\n')[:-1]\n",
    "        command = \"nvidia-smi --query-gpu=memory.free --format=csv,nounits,noheader\"\n",
    "        memory_free_info = _output_to_list(subprocess.check_output(command.split())) \n",
    "        memory_free_values = [int(x) for i, x in enumerate(memory_free_info)]\n",
    "        \n",
    "        # Get the GPU with the maximum free memory\n",
    "        best_gpu_id = memory_free_values.index(max(memory_free_values))\n",
    "        return best_gpu_id\n",
    "    except:\n",
    "        # If any exception occurs, default to GPU 0 (this handles cases where nvidia-smi isn't installed)\n",
    "        return 0\n",
    "\n",
    "if torch.cuda.is_available():\n",
    "    # Get the best GPU ID based on free memory and set it\n",
    "    best_gpu_id = get_free_gpu()\n",
    "    device = torch.device(f\"cuda:{best_gpu_id}\")\n",
    "else:\n",
    "    device = torch.device(\"cpu\")\n",
    "    print(\"there's no available GPU\")\n",
    "\n",
    "# device = torch.device(f\"cuda:1\")\n",
    "print(device)\n"
   ]
  },
  {
   "cell_type": "markdown",
   "metadata": {},
   "source": [
    "## Fix the seed"
   ]
  },
  {
   "cell_type": "code",
   "execution_count": 4,
   "metadata": {},
   "outputs": [],
   "source": [
    "import numpy as np\n",
    "import torch\n",
    "import random\n",
    "\n",
    "#fix seed\n",
    "def same_seeds(seed = 8787):\n",
    "    torch.manual_seed(seed)\n",
    "    # random.seed(seed) \n",
    "    if torch.cuda.is_available():\n",
    "        torch.cuda.manual_seed(seed)\n",
    "        torch.cuda.manual_seed_all(seed)  \n",
    "    np.random.seed(seed)  \n",
    "    torch.backends.cudnn.benchmark = False\n",
    "    torch.backends.cudnn.deterministic = True"
   ]
  },
  {
   "cell_type": "markdown",
   "metadata": {},
   "source": [
    "## Data Loader"
   ]
  },
  {
   "cell_type": "code",
   "execution_count": 5,
   "metadata": {},
   "outputs": [],
   "source": [
    "class GraphDataset(Dataset):\n",
    "    def __init__(self, data_list, device):\n",
    "        self.data_list = data_list\n",
    "        self.device = device\n",
    "\n",
    "    def __len__(self):\n",
    "        return len(self.data_list)\n",
    "    \n",
    "    def __getitem__(self, idx):\n",
    "        data = self.data_list[idx]\n",
    "\n",
    "        g = dgl.graph((th.tensor(data[\"edge_index\"][0]), th.tensor(data[\"edge_index\"][1])), num_nodes=data[\"num_nodes\"]).to(self.device)\n",
    "\n",
    "        g.ndata['feat'] = th.tensor(data[\"node_feat\"]).to(self.device)\n",
    "        g.edata['feat'] = th.tensor(data[\"edge_attr\"]).to(self.device)  # Add edge features to graph\n",
    "\n",
    "        return g, th.tensor(data[\"label\"]).to(self.device)\n",
    "\n",
    "\n",
    "def collate(samples):\n",
    "    # The input `samples` is a list of pairs\n",
    "    #  (graph, label).\n",
    "    graphs, labels = map(list, zip(*samples))\n",
    "    batched_graph = dgl.batch(graphs)\n",
    "    return batched_graph, torch.tensor(labels)\n"
   ]
  },
  {
   "cell_type": "code",
   "execution_count": 6,
   "metadata": {},
   "outputs": [
    {
     "data": {
      "application/vnd.jupyter.widget-view+json": {
       "model_id": "aab66959e6fb49ddaa6d8a3b089a0510",
       "version_major": 2,
       "version_minor": 0
      },
      "text/plain": [
       "  0%|          | 0/3 [00:00<?, ?it/s]"
      ]
     },
     "metadata": {},
     "output_type": "display_data"
    },
    {
     "name": "stdout",
     "output_type": "stream",
     "text": [
      "../../data_processing/dgl/data_new/training_data/train.jsonl\n"
     ]
    },
    {
     "data": {
      "application/vnd.jupyter.widget-view+json": {
       "model_id": "4ef5d5a26df7412e91b0192ffebb0d74",
       "version_major": 2,
       "version_minor": 0
      },
      "text/plain": [
       "0it [00:00, ?it/s]"
      ]
     },
     "metadata": {},
     "output_type": "display_data"
    },
    {
     "name": "stdout",
     "output_type": "stream",
     "text": [
      "../../data_processing/dgl/data_new/training_data/valid.jsonl\n"
     ]
    },
    {
     "data": {
      "application/vnd.jupyter.widget-view+json": {
       "model_id": "ca503ebbc2af4990b1732909a52bf5c7",
       "version_major": 2,
       "version_minor": 0
      },
      "text/plain": [
       "0it [00:00, ?it/s]"
      ]
     },
     "metadata": {},
     "output_type": "display_data"
    },
    {
     "name": "stdout",
     "output_type": "stream",
     "text": [
      "../../data_processing/dgl/data_new/training_data/test.jsonl\n"
     ]
    },
    {
     "data": {
      "application/vnd.jupyter.widget-view+json": {
       "model_id": "3cfccd9fce744307ae6cdb0018025ea8",
       "version_major": 2,
       "version_minor": 0
      },
      "text/plain": [
       "0it [00:00, ?it/s]"
      ]
     },
     "metadata": {},
     "output_type": "display_data"
    },
    {
     "name": "stdout",
     "output_type": "stream",
     "text": [
      "Datasets loaded!\n"
     ]
    }
   ],
   "source": [
    "datasets = ['train', 'valid', 'test']\n",
    "dataset_data = {}\n",
    "\n",
    "for dataset_name in tqdm(datasets):\n",
    "#     file_path = f\"../../data_processing/dgl/data/test_graph/repeated_{dataset_name}.jsonl\"\n",
    "    file_path = f\"../../data_processing/dgl/data_new/training_data/{dataset_name}.jsonl\"\n",
    "    \n",
    "    print(file_path)\n",
    "    with open(file_path) as f:\n",
    "        data_list = [json.loads(line) for line in tqdm(f, position=0, leave=True)]\n",
    "    \n",
    "    dataset_data[dataset_name] = GraphDataset(data_list, device)\n",
    "\n",
    "print(\"Datasets loaded!\")"
   ]
  },
  {
   "cell_type": "markdown",
   "metadata": {},
   "source": [
    "- choose batch size"
   ]
  },
  {
   "cell_type": "code",
   "execution_count": 7,
   "metadata": {},
   "outputs": [],
   "source": [
    "def create_dataloaders(batch_size, shuffle=True):\n",
    "    dataloaders = {}\n",
    "    for dataset_name, dataset in dataset_data.items():\n",
    "        dataloaders[dataset_name] = DataLoader(dataset, batch_size=batch_size, shuffle=shuffle, collate_fn=collate)\n",
    "    return dataloaders\n",
    "\n",
    "dataloaders = create_dataloaders(4)\n",
    "# dataloaders = create_dataloaders(16)"
   ]
  },
  {
   "cell_type": "markdown",
   "metadata": {},
   "source": [
    "- Turn the print message to a log file"
   ]
  },
  {
   "cell_type": "code",
   "execution_count": 8,
   "metadata": {},
   "outputs": [
    {
     "name": "stdout",
     "output_type": "stream",
     "text": [
      "../log_message/0827_12:12_GAT_data_graph_2.log\n"
     ]
    }
   ],
   "source": [
    "import datetime\n",
    "\n",
    "now = datetime.datetime.now()\n",
    "\n",
    "formatted_time = now.strftime(\"%m%d_%H:%M\")\n",
    "\n",
    "log_file_path = f\"../log_message/{formatted_time}_GAT_data_graph_2.log\"\n",
    "\n",
    "def add_log_msg(msg, log_file_path=log_file_path):\n",
    "    with open(log_file_path, 'a') as f:\n",
    "        f.write(f'{datetime.datetime.now().strftime(\"%m/%d/%Y, %H:%M:%S\")}# {msg}\\n')\n",
    "    print(f'{datetime.datetime.now().strftime(\"%m/%d/%Y, %H:%M:%S\")}# {msg}')\n",
    "\n",
    "print(log_file_path)"
   ]
  },
  {
   "cell_type": "markdown",
   "metadata": {},
   "source": [
    "### Model"
   ]
  },
  {
   "cell_type": "code",
   "execution_count": 9,
   "metadata": {},
   "outputs": [],
   "source": [
    "class GAT(nn.Module):\n",
    "    def __init__(self, in_dim, hidden_dim, out_dim, num_heads, dropout_prob=0.25):\n",
    "        super(GAT, self).__init__()\n",
    "        \n",
    "        # do not check the zero in_degree since we have all the complete graph\n",
    "        self.layer1 = GATConv(in_dim, hidden_dim, num_heads=num_heads, activation=F.relu, allow_zero_in_degree=True)\n",
    "        self.layer2 = GATConv(hidden_dim * num_heads, out_dim, num_heads=num_heads, allow_zero_in_degree=True)\n",
    "        \n",
    "        # Adding Batch Normalization after each GAT layer\n",
    "        self.batchnorm1 = nn.BatchNorm1d(hidden_dim * num_heads)\n",
    "        self.batchnorm2 = nn.BatchNorm1d(out_dim)\n",
    "        \n",
    "        # Adding Dropout for regularization\n",
    "        self.dropout = nn.Dropout(dropout_prob)\n",
    "\n",
    "    def forward(self, g, h):\n",
    "        # Apply GAT layers\n",
    "        h = self.layer1(g, h)\n",
    "        h = h.view(h.shape[0], -1)\n",
    "        h = F.relu(h)\n",
    "        h = self.dropout(h)\n",
    "        h = self.layer2(g, h).squeeze(1)\n",
    "        \n",
    "        # Store the output as a new node feature\n",
    "        g.ndata['h_out'] = h\n",
    "\n",
    "        # Use mean pooling to aggregate this new node feature\n",
    "        h_agg = dgl.mean_nodes(g, feat='h_out')\n",
    "        return h_agg\n",
    "\n",
    "    "
   ]
  },
  {
   "cell_type": "markdown",
   "metadata": {},
   "source": [
    "- Model Forward  "
   ]
  },
  {
   "cell_type": "code",
   "execution_count": 10,
   "metadata": {},
   "outputs": [],
   "source": [
    "def model_fn(data, model, criterion, device, count=1, which_type='train'):\n",
    "    \"\"\"Forward a batch through the model.\"\"\"\n",
    "    batched_g, labels = data\n",
    "    batched_g = batched_g.to(device)\n",
    "    \n",
    "    labels = labels.to(device)\n",
    "    logits = model(batched_g, batched_g.ndata['feat'].float()) # for GAT\n",
    "    logits = logits.mean(dim=1)\n",
    "    \n",
    "    loss = criterion(logits, labels)\n",
    "\n",
    "    # Get the class id with the highest probability\n",
    "    preds = logits.argmax(1)\n",
    "    \n",
    "    # Compute accuracy\n",
    "    accuracy = torch.mean((preds == labels).float())\n",
    "    \n",
    "    if which_type == 'validation' and count % 1000 == 0:\n",
    "        add_log_msg(f\"labels of Validation: {labels} {labels.shape}\")\n",
    "        add_log_msg(f\"predicted of Validation: {preds} {preds.shape}\")\n",
    "        \n",
    "    elif which_type == 'test'  and count % 1000 == 0:\n",
    "        add_log_msg(f\"labels of Test: {labels} {labels.shape}\")\n",
    "        add_log_msg(f\"predicted of Test: {preds} {preds.shape}\")\n",
    "        \n",
    "    if count % 5000 == 0: \n",
    "        add_log_msg(f\"labels of {count}: {labels} {labels.shape}\")\n",
    "        add_log_msg(f\"predicted of {count}: {preds} {preds.shape}\")\n",
    "        \n",
    "    return loss, accuracy, preds"
   ]
  },
  {
   "cell_type": "markdown",
   "metadata": {},
   "source": [
    "### Training"
   ]
  },
  {
   "cell_type": "markdown",
   "metadata": {},
   "source": [
    "- Fix the seed and save the model.state_dict that contains the initial weight"
   ]
  },
  {
   "cell_type": "code",
   "execution_count": 11,
   "metadata": {},
   "outputs": [],
   "source": [
    "seed = 8787\n",
    "same_seeds(seed)\n",
    "\n",
    "model = GAT(in_dim=50, hidden_dim=16, out_dim=168, num_heads=8)\n",
    "torch.save(model.state_dict(), 'model1_initial/initial_weight.pth')"
   ]
  },
  {
   "cell_type": "code",
   "execution_count": 12,
   "metadata": {},
   "outputs": [
    {
     "data": {
      "text/plain": [
       "Parameter containing:\n",
       "tensor([[-0.1806, -0.0598,  0.0091,  ...,  0.0719,  0.2496,  0.0873],\n",
       "        [ 0.1694, -0.0015, -0.0139,  ...,  0.0147,  0.0892,  0.0146],\n",
       "        [ 0.0969, -0.0595, -0.0115,  ..., -0.0474,  0.0529, -0.0565],\n",
       "        ...,\n",
       "        [-0.0433, -0.2248,  0.3002,  ...,  0.0850,  0.1621,  0.0422],\n",
       "        [ 0.2097, -0.2492,  0.0612,  ..., -0.0041,  0.0365, -0.1483],\n",
       "        [ 0.0971, -0.2221,  0.1652,  ..., -0.1312, -0.2610,  0.0077]],\n",
       "       requires_grad=True)"
      ]
     },
     "execution_count": 12,
     "metadata": {},
     "output_type": "execute_result"
    }
   ],
   "source": [
    "model.layer1.fc.weight"
   ]
  },
  {
   "cell_type": "markdown",
   "metadata": {},
   "source": [
    "- Check if model really load the model_dict"
   ]
  },
  {
   "cell_type": "code",
   "execution_count": 13,
   "metadata": {},
   "outputs": [
    {
     "data": {
      "text/plain": [
       "Parameter containing:\n",
       "tensor([[-0.1806, -0.0598,  0.0091,  ...,  0.0719,  0.2496,  0.0873],\n",
       "        [ 0.1694, -0.0015, -0.0139,  ...,  0.0147,  0.0892,  0.0146],\n",
       "        [ 0.0969, -0.0595, -0.0115,  ..., -0.0474,  0.0529, -0.0565],\n",
       "        ...,\n",
       "        [-0.0433, -0.2248,  0.3002,  ...,  0.0850,  0.1621,  0.0422],\n",
       "        [ 0.2097, -0.2492,  0.0612,  ..., -0.0041,  0.0365, -0.1483],\n",
       "        [ 0.0971, -0.2221,  0.1652,  ..., -0.1312, -0.2610,  0.0077]],\n",
       "       requires_grad=True)"
      ]
     },
     "execution_count": 13,
     "metadata": {},
     "output_type": "execute_result"
    }
   ],
   "source": [
    "model = GAT(in_dim=50, hidden_dim=16, out_dim=168, num_heads=8)\n",
    "model.load_state_dict(torch.load('model1_initial/initial_weight.pth'))\n",
    "model.layer1.fc.weight"
   ]
  },
  {
   "cell_type": "markdown",
   "metadata": {},
   "source": [
    "### test of valid and test part is ``graph``"
   ]
  },
  {
   "cell_type": "markdown",
   "metadata": {},
   "source": [
    "- Batch size = 4\n",
    "- use small lr and scheduler"
   ]
  },
  {
   "cell_type": "code",
   "execution_count": null,
   "metadata": {
    "scrolled": true
   },
   "outputs": [
    {
     "data": {
      "application/vnd.jupyter.widget-view+json": {
       "model_id": "5e24e108f0fc429baa3b7bfab50ba3dd",
       "version_major": 2,
       "version_minor": 0
      },
      "text/plain": [
       "  0%|          | 0/1000 [00:00<?, ?it/s]"
      ]
     },
     "metadata": {},
     "output_type": "display_data"
    },
    {
     "data": {
      "application/vnd.jupyter.widget-view+json": {
       "model_id": "fab35583885848e78d310b8f456d30c9",
       "version_major": 2,
       "version_minor": 0
      },
      "text/plain": [
       "Training:   0%|          | 0/33000 [00:00<?, ?it/s]"
      ]
     },
     "metadata": {},
     "output_type": "display_data"
    },
    {
     "name": "stdout",
     "output_type": "stream",
     "text": [
      "08/27/2023, 12:14:00# labels of 5000: tensor([71, 77, 29, 75], device='cuda:1') torch.Size([4])\n",
      "08/27/2023, 12:14:00# predicted of 5000: tensor([132, 132,  52, 132], device='cuda:1') torch.Size([4])\n",
      "08/27/2023, 12:15:40# labels of 10000: tensor([120,  70,  43,  38], device='cuda:1') torch.Size([4])\n",
      "08/27/2023, 12:15:40# predicted of 10000: tensor([120, 154, 161, 161], device='cuda:1') torch.Size([4])\n",
      "08/27/2023, 12:17:23# labels of 15000: tensor([123,  79, 138, 117], device='cuda:1') torch.Size([4])\n",
      "08/27/2023, 12:17:23# predicted of 15000: tensor([123, 138, 138, 128], device='cuda:1') torch.Size([4])\n",
      "08/27/2023, 12:19:04# labels of 20000: tensor([159, 152, 155,  15], device='cuda:1') torch.Size([4])\n",
      "08/27/2023, 12:19:04# predicted of 20000: tensor([159, 103, 132,  62], device='cuda:1') torch.Size([4])\n",
      "08/27/2023, 12:20:43# labels of 25000: tensor([131, 129,  44,  63], device='cuda:1') torch.Size([4])\n",
      "08/27/2023, 12:20:43# predicted of 25000: tensor([161,   6, 161, 161], device='cuda:1') torch.Size([4])\n",
      "08/27/2023, 12:22:23# labels of 30000: tensor([105, 102,   9,  72], device='cuda:1') torch.Size([4])\n",
      "08/27/2023, 12:22:23# predicted of 30000: tensor([105,  51,  51,  89], device='cuda:1') torch.Size([4])\n",
      "08/27/2023, 12:23:24# total batches: 33000\n",
      "08/27/2023, 12:23:24# Epoch 0 | Train Loss: 3.9879 | Train Accuracy: 0.1905\n"
     ]
    },
    {
     "data": {
      "application/vnd.jupyter.widget-view+json": {
       "model_id": "53664250faeb4581b7f9cf11cf302c90",
       "version_major": 2,
       "version_minor": 0
      },
      "text/plain": [
       "Validation:   0%|          | 0/4125 [00:00<?, ?it/s]"
      ]
     },
     "metadata": {},
     "output_type": "display_data"
    },
    {
     "name": "stdout",
     "output_type": "stream",
     "text": [
      "08/27/2023, 12:23:24# labels of Validation: tensor([150, 146,   1, 160], device='cuda:1') torch.Size([4])\n",
      "08/27/2023, 12:23:24# predicted of Validation: tensor([131, 146, 131, 132], device='cuda:1') torch.Size([4])\n",
      "08/27/2023, 12:23:24# labels of 0: tensor([150, 146,   1, 160], device='cuda:1') torch.Size([4])\n",
      "08/27/2023, 12:23:24# predicted of 0: tensor([131, 146, 131, 132], device='cuda:1') torch.Size([4])\n",
      "08/27/2023, 12:23:31# labels of Validation: tensor([137, 139,   6,  18], device='cuda:1') torch.Size([4])\n",
      "08/27/2023, 12:23:31# predicted of Validation: tensor([131, 131, 132, 131], device='cuda:1') torch.Size([4])\n",
      "08/27/2023, 12:23:39# labels of Validation: tensor([ 13,   9,  33, 154], device='cuda:1') torch.Size([4])\n",
      "08/27/2023, 12:23:39# predicted of Validation: tensor([ 13, 131, 131, 154], device='cuda:1') torch.Size([4])\n",
      "08/27/2023, 12:23:46# labels of Validation: tensor([ 73, 158, 150,  24], device='cuda:1') torch.Size([4])\n",
      "08/27/2023, 12:23:46# predicted of Validation: tensor([ 73, 131, 131, 131], device='cuda:1') torch.Size([4])\n",
      "08/27/2023, 12:23:53# labels of Validation: tensor([10, 46, 99, 46], device='cuda:1') torch.Size([4])\n",
      "08/27/2023, 12:23:53# predicted of Validation: tensor([131, 131,  99, 131], device='cuda:1') torch.Size([4])\n",
      "08/27/2023, 12:23:54# Validation Loss: 3.2910 | Validation Accuracy: 0.3574\n",
      "\n"
     ]
    },
    {
     "data": {
      "application/vnd.jupyter.widget-view+json": {
       "model_id": "924b4778de0f4a2e98f85156d1fa36c0",
       "version_major": 2,
       "version_minor": 0
      },
      "text/plain": [
       "Training:   0%|          | 0/33000 [00:00<?, ?it/s]"
      ]
     },
     "metadata": {},
     "output_type": "display_data"
    },
    {
     "name": "stdout",
     "output_type": "stream",
     "text": [
      "08/27/2023, 12:25:34# labels of 5000: tensor([ 18,  59, 107,  94], device='cuda:1') torch.Size([4])\n",
      "08/27/2023, 12:25:34# predicted of 5000: tensor([155, 132, 108,  94], device='cuda:1') torch.Size([4])\n",
      "08/27/2023, 12:27:04# labels of 10000: tensor([ 95,  77, 114, 139], device='cuda:1') torch.Size([4])\n",
      "08/27/2023, 12:27:04# predicted of 10000: tensor([ 95,   6,   6, 100], device='cuda:1') torch.Size([4])\n",
      "08/27/2023, 12:28:46# labels of 15000: tensor([ 93,  59,  45, 160], device='cuda:1') torch.Size([4])\n",
      "08/27/2023, 12:28:46# predicted of 15000: tensor([132,  28,  45,   6], device='cuda:1') torch.Size([4])\n",
      "08/27/2023, 12:30:27# labels of 20000: tensor([111,  68,  39,  25], device='cuda:1') torch.Size([4])\n",
      "08/27/2023, 12:30:27# predicted of 20000: tensor([135, 155,  39,  25], device='cuda:1') torch.Size([4])\n",
      "08/27/2023, 12:32:07# labels of 25000: tensor([ 62, 102,  64,  28], device='cuda:1') torch.Size([4])\n",
      "08/27/2023, 12:32:07# predicted of 25000: tensor([ 62,  88, 101,  28], device='cuda:1') torch.Size([4])\n",
      "08/27/2023, 12:33:48# labels of 30000: tensor([54, 74, 57, 64], device='cuda:1') torch.Size([4])\n",
      "08/27/2023, 12:33:48# predicted of 30000: tensor([161,  42, 132, 132], device='cuda:1') torch.Size([4])\n",
      "08/27/2023, 12:34:48# total batches: 33000\n",
      "08/27/2023, 12:34:48# Epoch 1 | Train Loss: 3.0703 | Train Accuracy: 0.3606\n"
     ]
    },
    {
     "data": {
      "application/vnd.jupyter.widget-view+json": {
       "model_id": "a3fc59884052494bb10ae6cdbb7b2de0",
       "version_major": 2,
       "version_minor": 0
      },
      "text/plain": [
       "Validation:   0%|          | 0/4125 [00:00<?, ?it/s]"
      ]
     },
     "metadata": {},
     "output_type": "display_data"
    },
    {
     "name": "stdout",
     "output_type": "stream",
     "text": [
      "08/27/2023, 12:34:48# labels of Validation: tensor([ 92, 132, 142,   3], device='cuda:1') torch.Size([4])\n",
      "08/27/2023, 12:34:48# predicted of Validation: tensor([110, 132, 110,   3], device='cuda:1') torch.Size([4])\n",
      "08/27/2023, 12:34:48# labels of 0: tensor([ 92, 132, 142,   3], device='cuda:1') torch.Size([4])\n",
      "08/27/2023, 12:34:48# predicted of 0: tensor([110, 132, 110,   3], device='cuda:1') torch.Size([4])\n",
      "08/27/2023, 12:34:55# labels of Validation: tensor([ 96,  61, 144,   1], device='cuda:1') torch.Size([4])\n",
      "08/27/2023, 12:34:55# predicted of Validation: tensor([ 96,  61, 110, 110], device='cuda:1') torch.Size([4])\n",
      "08/27/2023, 12:35:01# labels of Validation: tensor([42, 89, 68, 83], device='cuda:1') torch.Size([4])\n",
      "08/27/2023, 12:35:01# predicted of Validation: tensor([110,  89, 132, 110], device='cuda:1') torch.Size([4])\n",
      "08/27/2023, 12:35:07# labels of Validation: tensor([ 11,  23,   4, 156], device='cuda:1') torch.Size([4])\n",
      "08/27/2023, 12:35:07# predicted of Validation: tensor([110,  23, 110, 156], device='cuda:1') torch.Size([4])\n",
      "08/27/2023, 12:35:14# labels of Validation: tensor([125, 139,  32, 151], device='cuda:1') torch.Size([4])\n",
      "08/27/2023, 12:35:14# predicted of Validation: tensor([110, 110,  32, 110], device='cuda:1') torch.Size([4])\n",
      "08/27/2023, 12:35:15# Validation Loss: 2.8899 | Validation Accuracy: 0.3696\n",
      "\n"
     ]
    },
    {
     "data": {
      "application/vnd.jupyter.widget-view+json": {
       "model_id": "6a07b50bc03542e1a652055c59211d5b",
       "version_major": 2,
       "version_minor": 0
      },
      "text/plain": [
       "Training:   0%|          | 0/33000 [00:00<?, ?it/s]"
      ]
     },
     "metadata": {},
     "output_type": "display_data"
    },
    {
     "name": "stdout",
     "output_type": "stream",
     "text": [
      "08/27/2023, 12:36:35# labels of 5000: tensor([136, 106,  68, 121], device='cuda:1') torch.Size([4])\n",
      "08/27/2023, 12:36:35# predicted of 5000: tensor([136, 106, 101, 101], device='cuda:1') torch.Size([4])\n",
      "08/27/2023, 12:38:16# labels of 10000: tensor([132, 156, 145,  86], device='cuda:1') torch.Size([4])\n",
      "08/27/2023, 12:38:16# predicted of 10000: tensor([ 28, 156, 145,  88], device='cuda:1') torch.Size([4])\n",
      "08/27/2023, 12:40:00# labels of 15000: tensor([ 62,  60,  76, 139], device='cuda:1') torch.Size([4])\n",
      "08/27/2023, 12:40:00# predicted of 15000: tensor([ 62,  46, 155, 164], device='cuda:1') torch.Size([4])\n",
      "08/27/2023, 12:41:43# labels of 20000: tensor([ 60, 157, 154,  30], device='cuda:1') torch.Size([4])\n",
      "08/27/2023, 12:41:43# predicted of 20000: tensor([137,  51, 154,  51], device='cuda:1') torch.Size([4])\n",
      "08/27/2023, 12:43:25# labels of 25000: tensor([60, 21, 32, 54], device='cuda:1') torch.Size([4])\n",
      "08/27/2023, 12:43:25# predicted of 25000: tensor([114, 132,  32,  77], device='cuda:1') torch.Size([4])\n",
      "08/27/2023, 12:45:06# labels of 30000: tensor([148, 105,  62,  85], device='cuda:1') torch.Size([4])\n",
      "08/27/2023, 12:45:06# predicted of 30000: tensor([ 28, 105,  62,  85], device='cuda:1') torch.Size([4])\n",
      "08/27/2023, 12:46:04# total batches: 33000\n",
      "08/27/2023, 12:46:04# Epoch 2 | Train Loss: 2.8715 | Train Accuracy: 0.3728\n"
     ]
    },
    {
     "data": {
      "application/vnd.jupyter.widget-view+json": {
       "model_id": "a917b7f1e2124196bee9c223a62a842d",
       "version_major": 2,
       "version_minor": 0
      },
      "text/plain": [
       "Validation:   0%|          | 0/4125 [00:00<?, ?it/s]"
      ]
     },
     "metadata": {},
     "output_type": "display_data"
    },
    {
     "name": "stdout",
     "output_type": "stream",
     "text": [
      "08/27/2023, 12:46:04# labels of Validation: tensor([143, 157, 101, 114], device='cuda:1') torch.Size([4])\n",
      "08/27/2023, 12:46:04# predicted of Validation: tensor([75, 75, 28, 21], device='cuda:1') torch.Size([4])\n",
      "08/27/2023, 12:46:04# labels of 0: tensor([143, 157, 101, 114], device='cuda:1') torch.Size([4])\n",
      "08/27/2023, 12:46:04# predicted of 0: tensor([75, 75, 28, 21], device='cuda:1') torch.Size([4])\n",
      "08/27/2023, 12:46:10# labels of Validation: tensor([ 23, 158,  46,  21], device='cuda:1') torch.Size([4])\n",
      "08/27/2023, 12:46:10# predicted of Validation: tensor([23, 75, 75, 28], device='cuda:1') torch.Size([4])\n",
      "08/27/2023, 12:46:17# labels of Validation: tensor([154,  18, 140, 155], device='cuda:1') torch.Size([4])\n",
      "08/27/2023, 12:46:17# predicted of Validation: tensor([154,  75, 140, 132], device='cuda:1') torch.Size([4])\n",
      "08/27/2023, 12:46:23# labels of Validation: tensor([138,  38,  93, 145], device='cuda:1') torch.Size([4])\n",
      "08/27/2023, 12:46:23# predicted of Validation: tensor([138,  75,  21, 145], device='cuda:1') torch.Size([4])\n",
      "08/27/2023, 12:46:30# labels of Validation: tensor([ 12,  41, 115,  46], device='cuda:1') torch.Size([4])\n",
      "08/27/2023, 12:46:30# predicted of Validation: tensor([ 75,  75, 115,  75], device='cuda:1') torch.Size([4])\n",
      "08/27/2023, 12:46:31# Validation Loss: 2.8245 | Validation Accuracy: 0.3782\n",
      "\n"
     ]
    },
    {
     "data": {
      "application/vnd.jupyter.widget-view+json": {
       "model_id": "b64d932ec839443ea70ed417a7e642cf",
       "version_major": 2,
       "version_minor": 0
      },
      "text/plain": [
       "Training:   0%|          | 0/33000 [00:00<?, ?it/s]"
      ]
     },
     "metadata": {},
     "output_type": "display_data"
    },
    {
     "name": "stdout",
     "output_type": "stream",
     "text": [
      "08/27/2023, 12:47:55# labels of 5000: tensor([ 28,  47,  86, 110], device='cuda:1') torch.Size([4])\n",
      "08/27/2023, 12:47:55# predicted of 5000: tensor([51, 53,  1, 51], device='cuda:1') torch.Size([4])\n",
      "08/27/2023, 12:49:24# labels of 10000: tensor([140, 154,  46,  26], device='cuda:1') torch.Size([4])\n",
      "08/27/2023, 12:49:24# predicted of 10000: tensor([140, 154, 153,  48], device='cuda:1') torch.Size([4])\n",
      "08/27/2023, 12:50:59# labels of 15000: tensor([111, 143, 149,  84], device='cuda:1') torch.Size([4])\n",
      "08/27/2023, 12:50:59# predicted of 15000: tensor([137, 137, 149,  84], device='cuda:1') torch.Size([4])\n",
      "08/27/2023, 12:52:27# labels of 20000: tensor([147, 121,  14,  23], device='cuda:1') torch.Size([4])\n",
      "08/27/2023, 12:52:27# predicted of 20000: tensor([147,  92, 103,  23], device='cuda:1') torch.Size([4])\n",
      "08/27/2023, 12:54:09# labels of 25000: tensor([  0, 162,  16,  10], device='cuda:1') torch.Size([4])\n",
      "08/27/2023, 12:54:09# predicted of 25000: tensor([  0, 155,  16, 150], device='cuda:1') torch.Size([4])\n",
      "08/27/2023, 12:55:38# labels of 30000: tensor([116, 144,   9, 103], device='cuda:1') torch.Size([4])\n",
      "08/27/2023, 12:55:38# predicted of 30000: tensor([ 1, 43,  2, 28], device='cuda:1') torch.Size([4])\n",
      "08/27/2023, 12:56:38# total batches: 33000\n",
      "08/27/2023, 12:56:38# Epoch 3 | Train Loss: 2.8277 | Train Accuracy: 0.3758\n"
     ]
    },
    {
     "data": {
      "application/vnd.jupyter.widget-view+json": {
       "model_id": "d5c1df33cf4a4b6383e1b4ca51d51223",
       "version_major": 2,
       "version_minor": 0
      },
      "text/plain": [
       "Validation:   0%|          | 0/4125 [00:00<?, ?it/s]"
      ]
     },
     "metadata": {},
     "output_type": "display_data"
    },
    {
     "name": "stdout",
     "output_type": "stream",
     "text": [
      "08/27/2023, 12:56:38# labels of Validation: tensor([ 74, 156,  25,  70], device='cuda:1') torch.Size([4])\n",
      "08/27/2023, 12:56:38# predicted of Validation: tensor([ 41, 156,  25,  70], device='cuda:1') torch.Size([4])\n",
      "08/27/2023, 12:56:38# labels of 0: tensor([ 74, 156,  25,  70], device='cuda:1') torch.Size([4])\n",
      "08/27/2023, 12:56:38# predicted of 0: tensor([ 41, 156,  25,  70], device='cuda:1') torch.Size([4])\n",
      "08/27/2023, 12:56:48# labels of Validation: tensor([ 91,  70, 132,  72], device='cuda:1') torch.Size([4])\n",
      "08/27/2023, 12:56:48# predicted of Validation: tensor([ 28,  70, 161,  72], device='cuda:1') torch.Size([4])\n",
      "08/27/2023, 12:56:55# labels of Validation: tensor([ 32,  93, 104,  59], device='cuda:1') torch.Size([4])\n",
      "08/27/2023, 12:56:55# predicted of Validation: tensor([ 32, 131,  41,  28], device='cuda:1') torch.Size([4])\n",
      "08/27/2023, 12:57:02# labels of Validation: tensor([93, 48, 23, 30], device='cuda:1') torch.Size([4])\n",
      "08/27/2023, 12:57:02# predicted of Validation: tensor([131,  41,  23,  41], device='cuda:1') torch.Size([4])\n",
      "08/27/2023, 12:57:09# labels of Validation: tensor([122,   0,  44, 149], device='cuda:1') torch.Size([4])\n",
      "08/27/2023, 12:57:09# predicted of Validation: tensor([122,   0,  41, 149], device='cuda:1') torch.Size([4])\n",
      "08/27/2023, 12:57:10# Validation Loss: 2.8016 | Validation Accuracy: 0.3776\n",
      "\n"
     ]
    },
    {
     "data": {
      "application/vnd.jupyter.widget-view+json": {
       "model_id": "d2acfde3253540b79e33db48cccec715",
       "version_major": 2,
       "version_minor": 0
      },
      "text/plain": [
       "Training:   0%|          | 0/33000 [00:00<?, ?it/s]"
      ]
     },
     "metadata": {},
     "output_type": "display_data"
    },
    {
     "name": "stdout",
     "output_type": "stream",
     "text": [
      "08/27/2023, 12:58:47# labels of 5000: tensor([122,  84,  33,  90], device='cuda:1') torch.Size([4])\n",
      "08/27/2023, 12:58:47# predicted of 5000: tensor([122,  84,  49,  66], device='cuda:1') torch.Size([4])\n",
      "08/27/2023, 13:00:29# labels of 10000: tensor([156, 135, 158,  36], device='cuda:1') torch.Size([4])\n",
      "08/27/2023, 13:00:29# predicted of 10000: tensor([156,  48,  10, 157], device='cuda:1') torch.Size([4])\n",
      "08/27/2023, 13:02:10# labels of 15000: tensor([ 98, 104,  36,  83], device='cuda:1') torch.Size([4])\n",
      "08/27/2023, 13:02:10# predicted of 15000: tensor([57, 47, 47, 47], device='cuda:1') torch.Size([4])\n",
      "08/27/2023, 13:03:51# labels of 20000: tensor([ 31,  95, 117,  77], device='cuda:1') torch.Size([4])\n",
      "08/27/2023, 13:03:51# predicted of 20000: tensor([150,  95, 117, 132], device='cuda:1') torch.Size([4])\n",
      "08/27/2023, 13:05:24# labels of 25000: tensor([ 69, 142, 147, 134], device='cuda:1') torch.Size([4])\n",
      "08/27/2023, 13:05:24# predicted of 25000: tensor([ 69,   9, 147, 134], device='cuda:1') torch.Size([4])\n",
      "08/27/2023, 13:07:11# labels of 30000: tensor([ 40, 109, 135, 164], device='cuda:1') torch.Size([4])\n",
      "08/27/2023, 13:07:11# predicted of 30000: tensor([40, 46, 36, 36], device='cuda:1') torch.Size([4])\n",
      "08/27/2023, 13:08:14# total batches: 33000\n",
      "08/27/2023, 13:08:14# Epoch 4 | Train Loss: 2.8082 | Train Accuracy: 0.3775\n"
     ]
    },
    {
     "data": {
      "application/vnd.jupyter.widget-view+json": {
       "model_id": "4dc44c070cb4414eb7b387f2b5365d92",
       "version_major": 2,
       "version_minor": 0
      },
      "text/plain": [
       "Validation:   0%|          | 0/4125 [00:00<?, ?it/s]"
      ]
     },
     "metadata": {},
     "output_type": "display_data"
    },
    {
     "name": "stdout",
     "output_type": "stream",
     "text": [
      "08/27/2023, 13:08:14# labels of Validation: tensor([ 33, 139,  71, 129], device='cuda:1') torch.Size([4])\n",
      "08/27/2023, 13:08:14# predicted of Validation: tensor([36, 36, 36, 51], device='cuda:1') torch.Size([4])\n",
      "08/27/2023, 13:08:14# labels of 0: tensor([ 33, 139,  71, 129], device='cuda:1') torch.Size([4])\n",
      "08/27/2023, 13:08:14# predicted of 0: tensor([36, 36, 36, 51], device='cuda:1') torch.Size([4])\n",
      "08/27/2023, 13:08:20# labels of Validation: tensor([41, 68,  3, 75], device='cuda:1') torch.Size([4])\n",
      "08/27/2023, 13:08:20# predicted of Validation: tensor([36, 51,  3, 36], device='cuda:1') torch.Size([4])\n",
      "08/27/2023, 13:08:26# labels of Validation: tensor([ 59,  10, 126,  79], device='cuda:1') torch.Size([4])\n",
      "08/27/2023, 13:08:26# predicted of Validation: tensor([ 28,  36, 126,  79], device='cuda:1') torch.Size([4])\n",
      "08/27/2023, 13:08:32# labels of Validation: tensor([157, 131, 153,   7], device='cuda:1') torch.Size([4])\n",
      "08/27/2023, 13:08:32# predicted of Validation: tensor([36, 28, 36,  7], device='cuda:1') torch.Size([4])\n",
      "08/27/2023, 13:08:38# labels of Validation: tensor([153, 116, 130,  53], device='cuda:1') torch.Size([4])\n",
      "08/27/2023, 13:08:38# predicted of Validation: tensor([ 36,  36, 130,  36], device='cuda:1') torch.Size([4])\n",
      "08/27/2023, 13:08:39# Validation Loss: 2.7860 | Validation Accuracy: 0.3794\n",
      "\n"
     ]
    },
    {
     "data": {
      "application/vnd.jupyter.widget-view+json": {
       "model_id": "57973924e0c141c187e1113f8498cc4b",
       "version_major": 2,
       "version_minor": 0
      },
      "text/plain": [
       "Training:   0%|          | 0/33000 [00:00<?, ?it/s]"
      ]
     },
     "metadata": {},
     "output_type": "display_data"
    },
    {
     "name": "stdout",
     "output_type": "stream",
     "text": [
      "08/27/2023, 13:10:21# labels of 5000: tensor([ 46, 124,  11, 136], device='cuda:1') torch.Size([4])\n",
      "08/27/2023, 13:10:21# predicted of 5000: tensor([162,  47,   8, 136], device='cuda:1') torch.Size([4])\n",
      "08/27/2023, 13:12:00# labels of 10000: tensor([133, 120, 149,  30], device='cuda:1') torch.Size([4])\n",
      "08/27/2023, 13:12:00# predicted of 10000: tensor([ 66, 120, 149,   4], device='cuda:1') torch.Size([4])\n",
      "08/27/2023, 13:13:41# labels of 15000: tensor([145, 125, 147, 160], device='cuda:1') torch.Size([4])\n",
      "08/27/2023, 13:13:41# predicted of 15000: tensor([145, 102, 147,  28], device='cuda:1') torch.Size([4])\n",
      "08/27/2023, 13:15:21# labels of 20000: tensor([161, 163,  21,  36], device='cuda:1') torch.Size([4])\n",
      "08/27/2023, 13:15:21# predicted of 20000: tensor([132,  47, 155,  90], device='cuda:1') torch.Size([4])\n",
      "08/27/2023, 13:17:03# labels of 25000: tensor([ 76, 124, 160,  70], device='cuda:1') torch.Size([4])\n",
      "08/27/2023, 13:17:03# predicted of 25000: tensor([153, 153,   6,  70], device='cuda:1') torch.Size([4])\n",
      "08/27/2023, 13:18:44# labels of 30000: tensor([57, 78, 50,  7], device='cuda:1') torch.Size([4])\n",
      "08/27/2023, 13:18:44# predicted of 30000: tensor([21, 67, 50,  7], device='cuda:1') torch.Size([4])\n",
      "08/27/2023, 13:19:44# total batches: 33000\n",
      "08/27/2023, 13:19:44# Epoch 5 | Train Loss: 2.7950 | Train Accuracy: 0.3786\n"
     ]
    },
    {
     "data": {
      "application/vnd.jupyter.widget-view+json": {
       "model_id": "6e2fe87cb4474d9f87625c7895ecff21",
       "version_major": 2,
       "version_minor": 0
      },
      "text/plain": [
       "Validation:   0%|          | 0/4125 [00:00<?, ?it/s]"
      ]
     },
     "metadata": {},
     "output_type": "display_data"
    },
    {
     "name": "stdout",
     "output_type": "stream",
     "text": [
      "08/27/2023, 13:19:44# labels of Validation: tensor([  3,  37, 113,  37], device='cuda:1') torch.Size([4])\n",
      "08/27/2023, 13:19:44# predicted of Validation: tensor([ 3, 91, 91, 91], device='cuda:1') torch.Size([4])\n",
      "08/27/2023, 13:19:44# labels of 0: tensor([  3,  37, 113,  37], device='cuda:1') torch.Size([4])\n",
      "08/27/2023, 13:19:44# predicted of 0: tensor([ 3, 91, 91, 91], device='cuda:1') torch.Size([4])\n",
      "08/27/2023, 13:19:51# labels of Validation: tensor([112,   1, 124,  56], device='cuda:1') torch.Size([4])\n",
      "08/27/2023, 13:19:51# predicted of Validation: tensor([137, 137, 137,  56], device='cuda:1') torch.Size([4])\n",
      "08/27/2023, 13:19:58# labels of Validation: tensor([  6, 166,  39, 160], device='cuda:1') torch.Size([4])\n",
      "08/27/2023, 13:19:58# predicted of Validation: tensor([161, 161,  39,  91], device='cuda:1') torch.Size([4])\n",
      "08/27/2023, 13:20:05# labels of Validation: tensor([132,  93,  40,  16], device='cuda:1') torch.Size([4])\n",
      "08/27/2023, 13:20:05# predicted of Validation: tensor([161,  91,  40,  16], device='cuda:1') torch.Size([4])\n",
      "08/27/2023, 13:20:11# labels of Validation: tensor([161,  39,  33,  40], device='cuda:1') torch.Size([4])\n",
      "08/27/2023, 13:20:11# predicted of Validation: tensor([161,  39, 137,  40], device='cuda:1') torch.Size([4])\n",
      "08/27/2023, 13:20:12# Validation Loss: 2.7757 | Validation Accuracy: 0.3800\n",
      "\n"
     ]
    },
    {
     "data": {
      "application/vnd.jupyter.widget-view+json": {
       "model_id": "29c3246513204c59b31194807a415b49",
       "version_major": 2,
       "version_minor": 0
      },
      "text/plain": [
       "Training:   0%|          | 0/33000 [00:00<?, ?it/s]"
      ]
     },
     "metadata": {},
     "output_type": "display_data"
    },
    {
     "name": "stdout",
     "output_type": "stream",
     "text": [
      "08/27/2023, 13:21:53# labels of 5000: tensor([152, 131,  47,   5], device='cuda:1') torch.Size([4])\n",
      "08/27/2023, 13:21:53# predicted of 5000: tensor([135, 132,  44,   5], device='cuda:1') torch.Size([4])\n",
      "08/27/2023, 13:23:35# labels of 10000: tensor([45, 63, 12,  1], device='cuda:1') torch.Size([4])\n",
      "08/27/2023, 13:23:35# predicted of 10000: tensor([ 45, 141,  41,  36], device='cuda:1') torch.Size([4])\n",
      "08/27/2023, 13:25:15# labels of 15000: tensor([100,  86, 125,  85], device='cuda:1') torch.Size([4])\n",
      "08/27/2023, 13:25:15# predicted of 15000: tensor([ 91, 103, 144,  85], device='cuda:1') torch.Size([4])\n",
      "08/27/2023, 13:26:57# labels of 20000: tensor([ 80, 158, 164,  12], device='cuda:1') torch.Size([4])\n",
      "08/27/2023, 13:26:57# predicted of 20000: tensor([ 80, 160,  60, 163], device='cuda:1') torch.Size([4])\n",
      "08/27/2023, 13:28:38# labels of 25000: tensor([ 49,  60, 142, 109], device='cuda:1') torch.Size([4])\n",
      "08/27/2023, 13:28:38# predicted of 25000: tensor([164, 162,  64, 162], device='cuda:1') torch.Size([4])\n",
      "08/27/2023, 13:30:19# labels of 30000: tensor([ 89,  14, 104,  89], device='cuda:1') torch.Size([4])\n",
      "08/27/2023, 13:30:19# predicted of 30000: tensor([89, 53, 54, 89], device='cuda:1') torch.Size([4])\n",
      "08/27/2023, 13:31:20# total batches: 33000\n",
      "08/27/2023, 13:31:20# Epoch 6 | Train Loss: 2.7851 | Train Accuracy: 0.3798\n"
     ]
    },
    {
     "data": {
      "application/vnd.jupyter.widget-view+json": {
       "model_id": "5dd82f6db27a433a9aa29184d6a972bf",
       "version_major": 2,
       "version_minor": 0
      },
      "text/plain": [
       "Validation:   0%|          | 0/4125 [00:00<?, ?it/s]"
      ]
     },
     "metadata": {},
     "output_type": "display_data"
    },
    {
     "name": "stdout",
     "output_type": "stream",
     "text": [
      "08/27/2023, 13:31:20# labels of Validation: tensor([157,   7,  69, 131], device='cuda:1') torch.Size([4])\n",
      "08/27/2023, 13:31:20# predicted of Validation: tensor([ 10,   7,  69, 161], device='cuda:1') torch.Size([4])\n",
      "08/27/2023, 13:31:20# labels of 0: tensor([157,   7,  69, 131], device='cuda:1') torch.Size([4])\n",
      "08/27/2023, 13:31:20# predicted of 0: tensor([ 10,   7,  69, 161], device='cuda:1') torch.Size([4])\n",
      "08/27/2023, 13:31:26# labels of Validation: tensor([  8,   8, 116,  53], device='cuda:1') torch.Size([4])\n",
      "08/27/2023, 13:31:26# predicted of Validation: tensor([161, 161,  10,  10], device='cuda:1') torch.Size([4])\n",
      "08/27/2023, 13:31:33# labels of Validation: tensor([121,  82, 148,  75], device='cuda:1') torch.Size([4])\n",
      "08/27/2023, 13:31:33# predicted of Validation: tensor([ 10,  82, 161,  10], device='cuda:1') torch.Size([4])\n",
      "08/27/2023, 13:31:39# labels of Validation: tensor([126,  85,  30,  95], device='cuda:1') torch.Size([4])\n",
      "08/27/2023, 13:31:39# predicted of Validation: tensor([126,  85,  10,  95], device='cuda:1') torch.Size([4])\n",
      "08/27/2023, 13:31:45# labels of Validation: tensor([150,  20,  44, 136], device='cuda:1') torch.Size([4])\n",
      "08/27/2023, 13:31:45# predicted of Validation: tensor([ 10,  10,  10, 136], device='cuda:1') torch.Size([4])\n",
      "08/27/2023, 13:31:46# Validation Loss: 2.7672 | Validation Accuracy: 0.3802\n",
      "\n"
     ]
    },
    {
     "data": {
      "application/vnd.jupyter.widget-view+json": {
       "model_id": "0ebe50a03e0c46a1b33dd12128205ef0",
       "version_major": 2,
       "version_minor": 0
      },
      "text/plain": [
       "Training:   0%|          | 0/33000 [00:00<?, ?it/s]"
      ]
     },
     "metadata": {},
     "output_type": "display_data"
    },
    {
     "name": "stdout",
     "output_type": "stream",
     "text": [
      "08/27/2023, 13:33:17# labels of 5000: tensor([ 23, 157,  35, 109], device='cuda:1') torch.Size([4])\n",
      "08/27/2023, 13:33:17# predicted of 5000: tensor([23, 20, 35, 20], device='cuda:1') torch.Size([4])\n",
      "08/27/2023, 13:34:59# labels of 10000: tensor([ 90,  95, 145, 109], device='cuda:1') torch.Size([4])\n",
      "08/27/2023, 13:34:59# predicted of 10000: tensor([132,  95, 145,   4], device='cuda:1') torch.Size([4])\n",
      "08/27/2023, 13:36:40# labels of 15000: tensor([165, 101, 114, 133], device='cuda:1') torch.Size([4])\n",
      "08/27/2023, 13:36:40# predicted of 15000: tensor([165,   6,   6,   6], device='cuda:1') torch.Size([4])\n",
      "08/27/2023, 13:38:23# labels of 20000: tensor([161, 102,  11,  42], device='cuda:1') torch.Size([4])\n",
      "08/27/2023, 13:38:23# predicted of 20000: tensor([132,  36, 142, 119], device='cuda:1') torch.Size([4])\n",
      "08/27/2023, 13:39:58# labels of 25000: tensor([62,  0, 33, 32], device='cuda:1') torch.Size([4])\n",
      "08/27/2023, 13:39:58# predicted of 25000: tensor([62,  0, 53, 32], device='cuda:1') torch.Size([4])\n",
      "08/27/2023, 13:41:39# labels of 30000: tensor([ 66, 101,  95,  30], device='cuda:1') torch.Size([4])\n",
      "08/27/2023, 13:41:39# predicted of 30000: tensor([ 28,  28,  95, 124], device='cuda:1') torch.Size([4])\n",
      "08/27/2023, 13:42:40# total batches: 33000\n",
      "08/27/2023, 13:42:40# Epoch 7 | Train Loss: 2.7784 | Train Accuracy: 0.3794\n"
     ]
    },
    {
     "data": {
      "application/vnd.jupyter.widget-view+json": {
       "model_id": "b3f265961aaf4421894a5713808b1435",
       "version_major": 2,
       "version_minor": 0
      },
      "text/plain": [
       "Validation:   0%|          | 0/4125 [00:00<?, ?it/s]"
      ]
     },
     "metadata": {},
     "output_type": "display_data"
    },
    {
     "name": "stdout",
     "output_type": "stream",
     "text": [
      "08/27/2023, 13:42:40# labels of Validation: tensor([ 26,  96,  15, 116], device='cuda:1') torch.Size([4])\n",
      "08/27/2023, 13:42:40# predicted of Validation: tensor([53, 96, 15, 53], device='cuda:1') torch.Size([4])\n",
      "08/27/2023, 13:42:40# labels of 0: tensor([ 26,  96,  15, 116], device='cuda:1') torch.Size([4])\n",
      "08/27/2023, 13:42:40# predicted of 0: tensor([53, 96, 15, 53], device='cuda:1') torch.Size([4])\n",
      "08/27/2023, 13:42:46# labels of Validation: tensor([156, 105,  82,  40], device='cuda:1') torch.Size([4])\n",
      "08/27/2023, 13:42:46# predicted of Validation: tensor([156, 105,  82,  40], device='cuda:1') torch.Size([4])\n",
      "08/27/2023, 13:42:52# labels of Validation: tensor([ 14, 101,  86,  78], device='cuda:1') torch.Size([4])\n",
      "08/27/2023, 13:42:52# predicted of Validation: tensor([ 53, 161,  53,  67], device='cuda:1') torch.Size([4])\n",
      "08/27/2023, 13:42:58# labels of Validation: tensor([ 34, 120,  25, 100], device='cuda:1') torch.Size([4])\n",
      "08/27/2023, 13:42:58# predicted of Validation: tensor([ 53, 120,  25, 161], device='cuda:1') torch.Size([4])\n",
      "08/27/2023, 13:43:04# labels of Validation: tensor([ 58,  53, 135, 120], device='cuda:1') torch.Size([4])\n",
      "08/27/2023, 13:43:04# predicted of Validation: tensor([ 53,  53,  53, 120], device='cuda:1') torch.Size([4])\n",
      "08/27/2023, 13:43:05# Validation Loss: 2.7622 | Validation Accuracy: 0.3804\n",
      "\n"
     ]
    },
    {
     "data": {
      "application/vnd.jupyter.widget-view+json": {
       "model_id": "babf2b58523c4e5eac45acc51552f240",
       "version_major": 2,
       "version_minor": 0
      },
      "text/plain": [
       "Training:   0%|          | 0/33000 [00:00<?, ?it/s]"
      ]
     },
     "metadata": {},
     "output_type": "display_data"
    },
    {
     "name": "stdout",
     "output_type": "stream",
     "text": [
      "08/27/2023, 13:44:51# labels of 5000: tensor([  5,  46, 124, 113], device='cuda:1') torch.Size([4])\n",
      "08/27/2023, 13:44:51# predicted of 5000: tensor([  5, 150, 102, 166], device='cuda:1') torch.Size([4])\n",
      "08/27/2023, 13:46:32# labels of 10000: tensor([150,  61,  67, 121], device='cuda:1') torch.Size([4])\n",
      "08/27/2023, 13:46:32# predicted of 10000: tensor([68, 61, 67, 18], device='cuda:1') torch.Size([4])\n",
      "08/27/2023, 13:48:13# labels of 15000: tensor([  7,  64, 121, 164], device='cuda:1') torch.Size([4])\n",
      "08/27/2023, 13:48:13# predicted of 15000: tensor([  7,  28,  88, 119], device='cuda:1') torch.Size([4])\n",
      "08/27/2023, 13:49:34# labels of 20000: tensor([ 47,  58, 149,  96], device='cuda:1') torch.Size([4])\n",
      "08/27/2023, 13:49:34# predicted of 20000: tensor([ 98,   9, 149,  96], device='cuda:1') torch.Size([4])\n",
      "08/27/2023, 13:51:01# labels of 25000: tensor([ 33,  13, 124, 101], device='cuda:1') torch.Size([4])\n",
      "08/27/2023, 13:51:01# predicted of 25000: tensor([ 26,  13,  18, 132], device='cuda:1') torch.Size([4])\n",
      "08/27/2023, 13:52:34# labels of 30000: tensor([125,  33, 133, 157], device='cuda:1') torch.Size([4])\n",
      "08/27/2023, 13:52:34# predicted of 30000: tensor([ 33, 103, 155, 144], device='cuda:1') torch.Size([4])\n",
      "08/27/2023, 13:53:34# total batches: 33000\n",
      "08/27/2023, 13:53:34# Epoch 8 | Train Loss: 2.7735 | Train Accuracy: 0.3810\n"
     ]
    },
    {
     "data": {
      "application/vnd.jupyter.widget-view+json": {
       "model_id": "800eb0dfe4a04f92aebc2ed44c273684",
       "version_major": 2,
       "version_minor": 0
      },
      "text/plain": [
       "Validation:   0%|          | 0/4125 [00:00<?, ?it/s]"
      ]
     },
     "metadata": {},
     "output_type": "display_data"
    },
    {
     "name": "stdout",
     "output_type": "stream",
     "text": [
      "08/27/2023, 13:53:34# labels of Validation: tensor([ 47, 138, 109,   8], device='cuda:1') torch.Size([4])\n",
      "08/27/2023, 13:53:34# predicted of Validation: tensor([144, 138, 144,  66], device='cuda:1') torch.Size([4])\n",
      "08/27/2023, 13:53:34# labels of 0: tensor([ 47, 138, 109,   8], device='cuda:1') torch.Size([4])\n",
      "08/27/2023, 13:53:34# predicted of 0: tensor([144, 138, 144,  66], device='cuda:1') torch.Size([4])\n",
      "08/27/2023, 13:53:40# labels of Validation: tensor([125,  32, 160,   4], device='cuda:1') torch.Size([4])\n",
      "08/27/2023, 13:53:40# predicted of Validation: tensor([144,  32,  66, 144], device='cuda:1') torch.Size([4])\n",
      "08/27/2023, 13:53:46# labels of Validation: tensor([ 77,  90,  24, 116], device='cuda:1') torch.Size([4])\n",
      "08/27/2023, 13:53:46# predicted of Validation: tensor([ 66,  66, 144, 144], device='cuda:1') torch.Size([4])\n",
      "08/27/2023, 13:53:53# labels of Validation: tensor([161,  85, 165, 105], device='cuda:1') torch.Size([4])\n",
      "08/27/2023, 13:53:53# predicted of Validation: tensor([132,  85, 165, 105], device='cuda:1') torch.Size([4])\n",
      "08/27/2023, 13:53:59# labels of Validation: tensor([ 46,   7,  60, 118], device='cuda:1') torch.Size([4])\n",
      "08/27/2023, 13:53:59# predicted of Validation: tensor([144,   7, 144, 118], device='cuda:1') torch.Size([4])\n",
      "08/27/2023, 13:54:00# Validation Loss: 2.7559 | Validation Accuracy: 0.3808\n",
      "\n"
     ]
    },
    {
     "data": {
      "application/vnd.jupyter.widget-view+json": {
       "model_id": "091bd9dc86c94c70b85cd1e1979f45c6",
       "version_major": 2,
       "version_minor": 0
      },
      "text/plain": [
       "Training:   0%|          | 0/33000 [00:00<?, ?it/s]"
      ]
     },
     "metadata": {},
     "output_type": "display_data"
    },
    {
     "name": "stdout",
     "output_type": "stream",
     "text": [
      "08/27/2023, 13:55:40# labels of 5000: tensor([112, 122, 148, 127], device='cuda:1') torch.Size([4])\n",
      "08/27/2023, 13:55:40# predicted of 5000: tensor([ 53, 122, 161, 127], device='cuda:1') torch.Size([4])\n",
      "08/27/2023, 13:57:21# labels of 10000: tensor([128,  24, 104,  20], device='cuda:1') torch.Size([4])\n",
      "08/27/2023, 13:57:21# predicted of 10000: tensor([128, 109, 133,  12], device='cuda:1') torch.Size([4])\n",
      "08/27/2023, 13:59:02# labels of 15000: tensor([ 31, 106, 148,  63], device='cuda:1') torch.Size([4])\n",
      "08/27/2023, 13:59:02# predicted of 15000: tensor([ 48, 106, 131, 121], device='cuda:1') torch.Size([4])\n",
      "08/27/2023, 14:00:44# labels of 20000: tensor([166,  20, 159,  25], device='cuda:1') torch.Size([4])\n",
      "08/27/2023, 14:00:44# predicted of 20000: tensor([108,  57, 159,  25], device='cuda:1') torch.Size([4])\n",
      "08/27/2023, 14:02:27# labels of 25000: tensor([109,  11,  31,  55], device='cuda:1') torch.Size([4])\n",
      "08/27/2023, 14:02:27# predicted of 25000: tensor([ 60, 162, 162, 158], device='cuda:1') torch.Size([4])\n",
      "08/27/2023, 14:04:09# labels of 30000: tensor([ 38, 147,  75,  52], device='cuda:1') torch.Size([4])\n",
      "08/27/2023, 14:04:09# predicted of 30000: tensor([ 31, 147, 114,  52], device='cuda:1') torch.Size([4])\n",
      "08/27/2023, 14:05:09# total batches: 33000\n",
      "08/27/2023, 14:05:09# Epoch 9 | Train Loss: 2.7694 | Train Accuracy: 0.3818\n"
     ]
    },
    {
     "data": {
      "application/vnd.jupyter.widget-view+json": {
       "model_id": "98adea2f85ac41e2b5a1a72b5eccb82d",
       "version_major": 2,
       "version_minor": 0
      },
      "text/plain": [
       "Validation:   0%|          | 0/4125 [00:00<?, ?it/s]"
      ]
     },
     "metadata": {},
     "output_type": "display_data"
    },
    {
     "name": "stdout",
     "output_type": "stream",
     "text": [
      "08/27/2023, 14:05:09# labels of Validation: tensor([87, 58, 39, 26], device='cuda:1') torch.Size([4])\n",
      "08/27/2023, 14:05:09# predicted of Validation: tensor([20, 20, 39, 20], device='cuda:1') torch.Size([4])\n",
      "08/27/2023, 14:05:09# labels of 0: tensor([87, 58, 39, 26], device='cuda:1') torch.Size([4])\n",
      "08/27/2023, 14:05:09# predicted of 0: tensor([20, 20, 39, 20], device='cuda:1') torch.Size([4])\n",
      "08/27/2023, 14:05:15# labels of Validation: tensor([ 35,  45, 108,  33], device='cuda:1') torch.Size([4])\n",
      "08/27/2023, 14:05:15# predicted of Validation: tensor([35, 45, 28, 20], device='cuda:1') torch.Size([4])\n",
      "08/27/2023, 14:05:21# labels of Validation: tensor([131, 114,  95,  98], device='cuda:1') torch.Size([4])\n",
      "08/27/2023, 14:05:21# predicted of Validation: tensor([28, 28, 95, 20], device='cuda:1') torch.Size([4])\n",
      "08/27/2023, 14:05:27# labels of Validation: tensor([149,  76,  80,  66], device='cuda:1') torch.Size([4])\n",
      "08/27/2023, 14:05:27# predicted of Validation: tensor([149,  20,  80,  28], device='cuda:1') torch.Size([4])\n",
      "08/27/2023, 14:05:33# labels of Validation: tensor([ 53, 147,  51,  10], device='cuda:1') torch.Size([4])\n",
      "08/27/2023, 14:05:33# predicted of Validation: tensor([ 20, 147,  28,  20], device='cuda:1') torch.Size([4])\n",
      "08/27/2023, 14:05:34# Validation Loss: 2.7538 | Validation Accuracy: 0.3864\n",
      "\n"
     ]
    },
    {
     "data": {
      "application/vnd.jupyter.widget-view+json": {
       "model_id": "7aabdd94d5ed4df6b6da2c6b89219b3c",
       "version_major": 2,
       "version_minor": 0
      },
      "text/plain": [
       "Training:   0%|          | 0/33000 [00:00<?, ?it/s]"
      ]
     },
     "metadata": {},
     "output_type": "display_data"
    },
    {
     "name": "stdout",
     "output_type": "stream",
     "text": [
      "08/27/2023, 14:07:15# labels of 5000: tensor([ 43,  69,  89, 111], device='cuda:1') torch.Size([4])\n",
      "08/27/2023, 14:07:15# predicted of 5000: tensor([26, 69, 89, 26], device='cuda:1') torch.Size([4])\n",
      "08/27/2023, 14:08:57# labels of 10000: tensor([124,  68,  17, 156], device='cuda:1') torch.Size([4])\n",
      "08/27/2023, 14:08:57# predicted of 10000: tensor([ 81, 161,  17, 156], device='cuda:1') torch.Size([4])\n",
      "08/27/2023, 14:10:38# labels of 15000: tensor([119, 102, 132,  34], device='cuda:1') torch.Size([4])\n",
      "08/27/2023, 14:10:38# predicted of 15000: tensor([139,  10, 161, 139], device='cuda:1') torch.Size([4])\n",
      "08/27/2023, 14:12:22# labels of 20000: tensor([ 92,  42, 111,  27], device='cuda:1') torch.Size([4])\n",
      "08/27/2023, 14:12:22# predicted of 20000: tensor([30, 48, 30, 27], device='cuda:1') torch.Size([4])\n",
      "08/27/2023, 14:14:02# labels of 25000: tensor([ 17,  23, 130, 144], device='cuda:1') torch.Size([4])\n",
      "08/27/2023, 14:14:02# predicted of 25000: tensor([ 17,  23, 130, 116], device='cuda:1') torch.Size([4])\n",
      "08/27/2023, 14:15:44# labels of 30000: tensor([151,  26, 101, 131], device='cuda:1') torch.Size([4])\n",
      "08/27/2023, 14:15:44# predicted of 30000: tensor([ 9, 18, 59,  6], device='cuda:1') torch.Size([4])\n",
      "08/27/2023, 14:16:49# total batches: 33000\n",
      "08/27/2023, 14:16:49# Epoch 10 | Train Loss: 2.7657 | Train Accuracy: 0.3818\n"
     ]
    },
    {
     "data": {
      "application/vnd.jupyter.widget-view+json": {
       "model_id": "310cb118da15453faf31589c534db9fb",
       "version_major": 2,
       "version_minor": 0
      },
      "text/plain": [
       "Validation:   0%|          | 0/4125 [00:00<?, ?it/s]"
      ]
     },
     "metadata": {},
     "output_type": "display_data"
    },
    {
     "name": "stdout",
     "output_type": "stream",
     "text": [
      "08/27/2023, 14:16:49# labels of Validation: tensor([155,  12, 143,  85], device='cuda:1') torch.Size([4])\n",
      "08/27/2023, 14:16:49# predicted of Validation: tensor([132,  42,  42,  85], device='cuda:1') torch.Size([4])\n",
      "08/27/2023, 14:16:49# labels of 0: tensor([155,  12, 143,  85], device='cuda:1') torch.Size([4])\n",
      "08/27/2023, 14:16:49# predicted of 0: tensor([132,  42,  42,  85], device='cuda:1') torch.Size([4])\n",
      "08/27/2023, 14:16:55# labels of Validation: tensor([ 35, 122,  54, 132], device='cuda:1') torch.Size([4])\n",
      "08/27/2023, 14:16:55# predicted of Validation: tensor([ 35, 122,  42, 132], device='cuda:1') torch.Size([4])\n",
      "08/27/2023, 14:17:01# labels of Validation: tensor([ 30,  45, 131, 135], device='cuda:1') torch.Size([4])\n",
      "08/27/2023, 14:17:01# predicted of Validation: tensor([ 42,  45, 132,  42], device='cuda:1') torch.Size([4])\n",
      "08/27/2023, 14:17:07# labels of Validation: tensor([110, 104,  17,  33], device='cuda:1') torch.Size([4])\n",
      "08/27/2023, 14:17:07# predicted of Validation: tensor([59, 42, 17, 42], device='cuda:1') torch.Size([4])\n",
      "08/27/2023, 14:17:13# labels of Validation: tensor([106,  15,  48, 135], device='cuda:1') torch.Size([4])\n",
      "08/27/2023, 14:17:13# predicted of Validation: tensor([106,  15,  42,  42], device='cuda:1') torch.Size([4])\n",
      "08/27/2023, 14:17:14# Validation Loss: 2.7513 | Validation Accuracy: 0.3802\n",
      "\n"
     ]
    },
    {
     "data": {
      "application/vnd.jupyter.widget-view+json": {
       "model_id": "bd3c5aed35ea4f0b97bfc9a82f54cf28",
       "version_major": 2,
       "version_minor": 0
      },
      "text/plain": [
       "Training:   0%|          | 0/33000 [00:00<?, ?it/s]"
      ]
     },
     "metadata": {},
     "output_type": "display_data"
    },
    {
     "name": "stdout",
     "output_type": "stream",
     "text": [
      "08/27/2023, 14:18:55# labels of 5000: tensor([  6, 154, 145, 103], device='cuda:1') torch.Size([4])\n",
      "08/27/2023, 14:18:55# predicted of 5000: tensor([132, 154, 145, 108], device='cuda:1') torch.Size([4])\n",
      "08/27/2023, 14:20:40# labels of 10000: tensor([ 19,   2,  97, 114], device='cuda:1') torch.Size([4])\n",
      "08/27/2023, 14:20:40# predicted of 10000: tensor([121,  55,  20, 161], device='cuda:1') torch.Size([4])\n",
      "08/27/2023, 14:22:21# labels of 15000: tensor([135,   7, 126, 165], device='cuda:1') torch.Size([4])\n",
      "08/27/2023, 14:22:21# predicted of 15000: tensor([ 48,   7, 126, 165], device='cuda:1') torch.Size([4])\n",
      "08/27/2023, 14:24:02# labels of 20000: tensor([ 39,  42,   1, 145], device='cuda:1') torch.Size([4])\n",
      "08/27/2023, 14:24:02# predicted of 20000: tensor([ 39, 102, 102, 145], device='cuda:1') torch.Size([4])\n",
      "08/27/2023, 14:25:42# labels of 25000: tensor([ 35, 147, 163,  45], device='cuda:1') torch.Size([4])\n",
      "08/27/2023, 14:25:42# predicted of 25000: tensor([ 35, 147,  60,  45], device='cuda:1') torch.Size([4])\n",
      "08/27/2023, 14:27:23# labels of 30000: tensor([  1, 135, 132,  97], device='cuda:1') torch.Size([4])\n",
      "08/27/2023, 14:27:23# predicted of 30000: tensor([ 64, 143, 161, 103], device='cuda:1') torch.Size([4])\n",
      "08/27/2023, 14:28:25# total batches: 33000\n",
      "08/27/2023, 14:28:25# Epoch 11 | Train Loss: 2.7638 | Train Accuracy: 0.3812\n"
     ]
    },
    {
     "data": {
      "application/vnd.jupyter.widget-view+json": {
       "model_id": "1999bae3d1b94bfcb15e45c30522295c",
       "version_major": 2,
       "version_minor": 0
      },
      "text/plain": [
       "Validation:   0%|          | 0/4125 [00:00<?, ?it/s]"
      ]
     },
     "metadata": {},
     "output_type": "display_data"
    },
    {
     "name": "stdout",
     "output_type": "stream",
     "text": [
      "08/27/2023, 14:28:25# labels of Validation: tensor([ 48, 136, 150, 161], device='cuda:1') torch.Size([4])\n",
      "08/27/2023, 14:28:25# predicted of Validation: tensor([153, 136, 153, 132], device='cuda:1') torch.Size([4])\n",
      "08/27/2023, 14:28:25# labels of 0: tensor([ 48, 136, 150, 161], device='cuda:1') torch.Size([4])\n",
      "08/27/2023, 14:28:25# predicted of 0: tensor([153, 136, 153, 132], device='cuda:1') torch.Size([4])\n",
      "08/27/2023, 14:28:31# labels of Validation: tensor([74, 25, 86, 47], device='cuda:1') torch.Size([4])\n",
      "08/27/2023, 14:28:31# predicted of Validation: tensor([153,  25, 153, 153], device='cuda:1') torch.Size([4])\n",
      "08/27/2023, 14:28:37# labels of Validation: tensor([ 31, 129, 129,  17], device='cuda:1') torch.Size([4])\n",
      "08/27/2023, 14:28:37# predicted of Validation: tensor([153, 132, 132,  17], device='cuda:1') torch.Size([4])\n",
      "08/27/2023, 14:28:43# labels of Validation: tensor([ 24, 114, 145,  52], device='cuda:1') torch.Size([4])\n",
      "08/27/2023, 14:28:43# predicted of Validation: tensor([153, 132, 145,  52], device='cuda:1') torch.Size([4])\n",
      "08/27/2023, 14:28:49# labels of Validation: tensor([ 10,   7, 151, 164], device='cuda:1') torch.Size([4])\n",
      "08/27/2023, 14:28:49# predicted of Validation: tensor([153,   7, 153, 153], device='cuda:1') torch.Size([4])\n",
      "08/27/2023, 14:28:50# Validation Loss: 2.7502 | Validation Accuracy: 0.3809\n",
      "\n"
     ]
    },
    {
     "data": {
      "application/vnd.jupyter.widget-view+json": {
       "model_id": "b2781a0a40a1440fa19430d8ac78ec88",
       "version_major": 2,
       "version_minor": 0
      },
      "text/plain": [
       "Training:   0%|          | 0/33000 [00:00<?, ?it/s]"
      ]
     },
     "metadata": {},
     "output_type": "display_data"
    },
    {
     "name": "stdout",
     "output_type": "stream",
     "text": [
      "08/27/2023, 14:30:33# labels of 5000: tensor([ 63,  35, 133,  78], device='cuda:1') torch.Size([4])\n",
      "08/27/2023, 14:30:33# predicted of 5000: tensor([ 18,  35, 132,  67], device='cuda:1') torch.Size([4])\n",
      "08/27/2023, 14:32:14# labels of 10000: tensor([ 82,  57, 107, 113], device='cuda:1') torch.Size([4])\n",
      "08/27/2023, 14:32:14# predicted of 10000: tensor([ 82,  55, 161, 161], device='cuda:1') torch.Size([4])\n",
      "08/27/2023, 14:33:55# labels of 15000: tensor([148,  90,  88,  87], device='cuda:1') torch.Size([4])\n",
      "08/27/2023, 14:33:55# predicted of 15000: tensor([166,   6,   6,  46], device='cuda:1') torch.Size([4])\n",
      "08/27/2023, 14:35:36# labels of 20000: tensor([123, 151,  26,  73], device='cuda:1') torch.Size([4])\n",
      "08/27/2023, 14:35:36# predicted of 20000: tensor([123,  18,  18,  73], device='cuda:1') torch.Size([4])\n",
      "08/27/2023, 14:37:18# labels of 25000: tensor([ 56, 143, 146,  41], device='cuda:1') torch.Size([4])\n",
      "08/27/2023, 14:37:18# predicted of 25000: tensor([ 56,  60, 146,  38], device='cuda:1') torch.Size([4])\n",
      "08/27/2023, 14:38:58# labels of 30000: tensor([  3, 162,  16, 131], device='cuda:1') torch.Size([4])\n",
      "08/27/2023, 14:38:58# predicted of 30000: tensor([  3, 153,  16, 132], device='cuda:1') torch.Size([4])\n",
      "08/27/2023, 14:39:59# total batches: 33000\n",
      "08/27/2023, 14:39:59# Epoch 12 | Train Loss: 2.7615 | Train Accuracy: 0.3817\n"
     ]
    },
    {
     "data": {
      "application/vnd.jupyter.widget-view+json": {
       "model_id": "fb2354f7983f4f30b932937927340526",
       "version_major": 2,
       "version_minor": 0
      },
      "text/plain": [
       "Validation:   0%|          | 0/4125 [00:00<?, ?it/s]"
      ]
     },
     "metadata": {},
     "output_type": "display_data"
    },
    {
     "name": "stdout",
     "output_type": "stream",
     "text": [
      "08/27/2023, 14:39:59# labels of Validation: tensor([79,  6, 93, 17], device='cuda:1') torch.Size([4])\n",
      "08/27/2023, 14:39:59# predicted of Validation: tensor([79, 28, 28, 17], device='cuda:1') torch.Size([4])\n",
      "08/27/2023, 14:39:59# labels of 0: tensor([79,  6, 93, 17], device='cuda:1') torch.Size([4])\n",
      "08/27/2023, 14:39:59# predicted of 0: tensor([79, 28, 28, 17], device='cuda:1') torch.Size([4])\n",
      "08/27/2023, 14:40:05# labels of Validation: tensor([  1, 106, 124, 121], device='cuda:1') torch.Size([4])\n",
      "08/27/2023, 14:40:05# predicted of Validation: tensor([ 81, 106,  81,  81], device='cuda:1') torch.Size([4])\n",
      "08/27/2023, 14:40:11# labels of Validation: tensor([ 25, 148, 153, 109], device='cuda:1') torch.Size([4])\n",
      "08/27/2023, 14:40:11# predicted of Validation: tensor([25, 28, 81, 81], device='cuda:1') torch.Size([4])\n",
      "08/27/2023, 14:40:17# labels of Validation: tensor([106, 154,   5,  23], device='cuda:1') torch.Size([4])\n",
      "08/27/2023, 14:40:17# predicted of Validation: tensor([106, 154,   5,  23], device='cuda:1') torch.Size([4])\n",
      "08/27/2023, 14:40:23# labels of Validation: tensor([103,  63, 139,  99], device='cuda:1') torch.Size([4])\n",
      "08/27/2023, 14:40:23# predicted of Validation: tensor([28, 81, 81, 99], device='cuda:1') torch.Size([4])\n",
      "08/27/2023, 14:40:24# Validation Loss: 2.7498 | Validation Accuracy: 0.3809\n",
      "\n"
     ]
    },
    {
     "data": {
      "application/vnd.jupyter.widget-view+json": {
       "model_id": "1f66cc3bf2554eb9809fa4b5e11eb5d3",
       "version_major": 2,
       "version_minor": 0
      },
      "text/plain": [
       "Training:   0%|          | 0/33000 [00:00<?, ?it/s]"
      ]
     },
     "metadata": {},
     "output_type": "display_data"
    },
    {
     "name": "stdout",
     "output_type": "stream",
     "text": [
      "08/27/2023, 14:42:08# labels of 5000: tensor([91, 25,  9, 36], device='cuda:1') torch.Size([4])\n",
      "08/27/2023, 14:42:08# predicted of 5000: tensor([  6,  25, 164,  46], device='cuda:1') torch.Size([4])\n",
      "08/27/2023, 14:43:49# labels of 10000: tensor([  2, 147,  70,  20], device='cuda:1') torch.Size([4])\n",
      "08/27/2023, 14:43:49# predicted of 10000: tensor([ 49, 147,  70,  74], device='cuda:1') torch.Size([4])\n",
      "08/27/2023, 14:45:34# labels of 15000: tensor([122,  28, 139, 107], device='cuda:1') torch.Size([4])\n",
      "08/27/2023, 14:45:34# predicted of 15000: tensor([122,  28,  38,  28], device='cuda:1') torch.Size([4])\n",
      "08/27/2023, 14:47:16# labels of 20000: tensor([ 21, 127,  52,  70], device='cuda:1') torch.Size([4])\n",
      "08/27/2023, 14:47:16# predicted of 20000: tensor([161, 127,  52,  70], device='cuda:1') torch.Size([4])\n",
      "08/27/2023, 14:48:57# labels of 25000: tensor([ 45, 164, 123,  34], device='cuda:1') torch.Size([4])\n",
      "08/27/2023, 14:48:57# predicted of 25000: tensor([ 45, 111, 123,  36], device='cuda:1') torch.Size([4])\n",
      "08/27/2023, 14:50:38# labels of 30000: tensor([162, 106,  63, 160], device='cuda:1') torch.Size([4])\n",
      "08/27/2023, 14:50:38# predicted of 30000: tensor([113, 106,  30,  66], device='cuda:1') torch.Size([4])\n",
      "08/27/2023, 14:51:38# total batches: 33000\n",
      "08/27/2023, 14:51:38# Epoch 13 | Train Loss: 2.7604 | Train Accuracy: 0.3818\n"
     ]
    },
    {
     "data": {
      "application/vnd.jupyter.widget-view+json": {
       "model_id": "fda83137b75e4869b5a25227f4502095",
       "version_major": 2,
       "version_minor": 0
      },
      "text/plain": [
       "Validation:   0%|          | 0/4125 [00:00<?, ?it/s]"
      ]
     },
     "metadata": {},
     "output_type": "display_data"
    },
    {
     "name": "stdout",
     "output_type": "stream",
     "text": [
      "08/27/2023, 14:51:38# labels of Validation: tensor([ 69,  79, 139,  97], device='cuda:1') torch.Size([4])\n",
      "08/27/2023, 14:51:38# predicted of Validation: tensor([69, 79, 36, 36], device='cuda:1') torch.Size([4])\n",
      "08/27/2023, 14:51:38# labels of 0: tensor([ 69,  79, 139,  97], device='cuda:1') torch.Size([4])\n",
      "08/27/2023, 14:51:38# predicted of 0: tensor([69, 79, 36, 36], device='cuda:1') torch.Size([4])\n",
      "08/27/2023, 14:51:44# labels of Validation: tensor([104,  72,  40, 125], device='cuda:1') torch.Size([4])\n",
      "08/27/2023, 14:51:44# predicted of Validation: tensor([36, 72, 40, 36], device='cuda:1') torch.Size([4])\n",
      "08/27/2023, 14:51:51# labels of Validation: tensor([153, 127,  27,  52], device='cuda:1') torch.Size([4])\n",
      "08/27/2023, 14:51:51# predicted of Validation: tensor([ 36, 127,  27,  52], device='cuda:1') torch.Size([4])\n",
      "08/27/2023, 14:51:57# labels of Validation: tensor([89, 91,  9, 40], device='cuda:1') torch.Size([4])\n",
      "08/27/2023, 14:51:57# predicted of Validation: tensor([ 89, 161,  36,  40], device='cuda:1') torch.Size([4])\n",
      "08/27/2023, 14:52:03# labels of Validation: tensor([68, 47, 59, 80], device='cuda:1') torch.Size([4])\n",
      "08/27/2023, 14:52:03# predicted of Validation: tensor([161,  36, 161,  80], device='cuda:1') torch.Size([4])\n",
      "08/27/2023, 14:52:03# Validation Loss: 2.7464 | Validation Accuracy: 0.3807\n",
      "\n"
     ]
    },
    {
     "data": {
      "application/vnd.jupyter.widget-view+json": {
       "model_id": "b7f5f3f6043e470fa477b6079fe14c7e",
       "version_major": 2,
       "version_minor": 0
      },
      "text/plain": [
       "Training:   0%|          | 0/33000 [00:00<?, ?it/s]"
      ]
     },
     "metadata": {},
     "output_type": "display_data"
    },
    {
     "name": "stdout",
     "output_type": "stream",
     "text": [
      "08/27/2023, 14:53:47# labels of 5000: tensor([ 57, 121,  82, 104], device='cuda:1') torch.Size([4])\n",
      "08/27/2023, 14:53:47# predicted of 5000: tensor([12,  2, 82, 12], device='cuda:1') torch.Size([4])\n",
      "08/27/2023, 14:55:29# labels of 10000: tensor([151, 162, 136,  95], device='cuda:1') torch.Size([4])\n",
      "08/27/2023, 14:55:29# predicted of 10000: tensor([ 11,  11, 136,  95], device='cuda:1') torch.Size([4])\n",
      "08/27/2023, 14:57:17# labels of 15000: tensor([ 38, 136,  32, 157], device='cuda:1') torch.Size([4])\n",
      "08/27/2023, 14:57:17# predicted of 15000: tensor([119, 136,  32,  63], device='cuda:1') torch.Size([4])\n",
      "08/27/2023, 14:58:58# labels of 20000: tensor([166,  26, 140, 157], device='cuda:1') torch.Size([4])\n",
      "08/27/2023, 14:58:58# predicted of 20000: tensor([ 66,  30, 140,  58], device='cuda:1') torch.Size([4])\n",
      "08/27/2023, 15:00:38# labels of 25000: tensor([126,   5,  62, 137], device='cuda:1') torch.Size([4])\n",
      "08/27/2023, 15:00:38# predicted of 25000: tensor([126,   5,  62,  43], device='cuda:1') torch.Size([4])\n",
      "08/27/2023, 15:02:20# labels of 30000: tensor([108, 164, 145,  37], device='cuda:1') torch.Size([4])\n",
      "08/27/2023, 15:02:20# predicted of 30000: tensor([132, 112, 145,  21], device='cuda:1') torch.Size([4])\n",
      "08/27/2023, 15:03:20# total batches: 33000\n",
      "08/27/2023, 15:03:20# Epoch 14 | Train Loss: 2.7592 | Train Accuracy: 0.3819\n"
     ]
    },
    {
     "data": {
      "application/vnd.jupyter.widget-view+json": {
       "model_id": "775f64eebfc145238a13863037ad749b",
       "version_major": 2,
       "version_minor": 0
      },
      "text/plain": [
       "Validation:   0%|          | 0/4125 [00:00<?, ?it/s]"
      ]
     },
     "metadata": {},
     "output_type": "display_data"
    },
    {
     "name": "stdout",
     "output_type": "stream",
     "text": [
      "08/27/2023, 15:03:20# labels of Validation: tensor([112,  17, 161,  21], device='cuda:1') torch.Size([4])\n",
      "08/27/2023, 15:03:20# predicted of Validation: tensor([153,  17, 161, 161], device='cuda:1') torch.Size([4])\n",
      "08/27/2023, 15:03:20# labels of 0: tensor([112,  17, 161,  21], device='cuda:1') torch.Size([4])\n",
      "08/27/2023, 15:03:20# predicted of 0: tensor([153,  17, 161, 161], device='cuda:1') torch.Size([4])\n",
      "08/27/2023, 15:03:26# labels of Validation: tensor([44, 58, 96, 43], device='cuda:1') torch.Size([4])\n",
      "08/27/2023, 15:03:26# predicted of Validation: tensor([153, 153,  96, 153], device='cuda:1') torch.Size([4])\n",
      "08/27/2023, 15:03:32# labels of Validation: tensor([ 95,  34,  91, 110], device='cuda:1') torch.Size([4])\n",
      "08/27/2023, 15:03:32# predicted of Validation: tensor([ 95, 153, 161, 161], device='cuda:1') torch.Size([4])\n",
      "08/27/2023, 15:03:38# labels of Validation: tensor([162, 150, 160,  63], device='cuda:1') torch.Size([4])\n",
      "08/27/2023, 15:03:38# predicted of Validation: tensor([153, 153, 161, 153], device='cuda:1') torch.Size([4])\n",
      "08/27/2023, 15:03:44# labels of Validation: tensor([ 88,  43,  98, 133], device='cuda:1') torch.Size([4])\n",
      "08/27/2023, 15:03:44# predicted of Validation: tensor([161, 153, 153, 161], device='cuda:1') torch.Size([4])\n",
      "08/27/2023, 15:03:45# Validation Loss: 2.7463 | Validation Accuracy: 0.3806\n",
      "\n"
     ]
    },
    {
     "data": {
      "application/vnd.jupyter.widget-view+json": {
       "model_id": "e94e262412c34841a2b5f7046b3a3c36",
       "version_major": 2,
       "version_minor": 0
      },
      "text/plain": [
       "Training:   0%|          | 0/33000 [00:00<?, ?it/s]"
      ]
     },
     "metadata": {},
     "output_type": "display_data"
    },
    {
     "name": "stdout",
     "output_type": "stream",
     "text": [
      "08/27/2023, 15:05:25# labels of 5000: tensor([ 36,  74, 109,  86], device='cuda:1') torch.Size([4])\n",
      "08/27/2023, 15:05:25# predicted of 5000: tensor([158, 158, 143,  18], device='cuda:1') torch.Size([4])\n",
      "08/27/2023, 15:07:06# labels of 10000: tensor([114, 147, 134,  44], device='cuda:1') torch.Size([4])\n",
      "08/27/2023, 15:07:06# predicted of 10000: tensor([107, 147, 134, 144], device='cuda:1') torch.Size([4])\n",
      "08/27/2023, 15:08:48# labels of 15000: tensor([ 28, 137, 146, 136], device='cuda:1') torch.Size([4])\n",
      "08/27/2023, 15:08:48# predicted of 15000: tensor([132,  41, 146, 136], device='cuda:1') torch.Size([4])\n",
      "08/27/2023, 15:10:30# labels of 20000: tensor([ 50, 161,  10, 114], device='cuda:1') torch.Size([4])\n",
      "08/27/2023, 15:10:30# predicted of 20000: tensor([ 50, 161,   2,  28], device='cuda:1') torch.Size([4])\n",
      "08/27/2023, 15:12:14# labels of 25000: tensor([45, 58, 47, 66], device='cuda:1') torch.Size([4])\n",
      "08/27/2023, 15:12:14# predicted of 25000: tensor([45, 24, 24, 28], device='cuda:1') torch.Size([4])\n",
      "08/27/2023, 15:13:55# labels of 30000: tensor([ 66,   5, 116,  72], device='cuda:1') torch.Size([4])\n",
      "08/27/2023, 15:13:55# predicted of 30000: tensor([131,   5,  83,  72], device='cuda:1') torch.Size([4])\n",
      "08/27/2023, 15:14:58# total batches: 33000\n",
      "08/27/2023, 15:14:58# Epoch 15 | Train Loss: 2.7581 | Train Accuracy: 0.3817\n"
     ]
    },
    {
     "data": {
      "application/vnd.jupyter.widget-view+json": {
       "model_id": "4f205c3b7be24cfa885fdf8bb67dcd50",
       "version_major": 2,
       "version_minor": 0
      },
      "text/plain": [
       "Validation:   0%|          | 0/4125 [00:00<?, ?it/s]"
      ]
     },
     "metadata": {},
     "output_type": "display_data"
    },
    {
     "name": "stdout",
     "output_type": "stream",
     "text": [
      "08/27/2023, 15:14:58# labels of Validation: tensor([152,  11, 111, 151], device='cuda:1') torch.Size([4])\n",
      "08/27/2023, 15:14:58# predicted of Validation: tensor([12, 12, 12, 12], device='cuda:1') torch.Size([4])\n",
      "08/27/2023, 15:14:58# labels of 0: tensor([152,  11, 111, 151], device='cuda:1') torch.Size([4])\n",
      "08/27/2023, 15:14:58# predicted of 0: tensor([12, 12, 12, 12], device='cuda:1') torch.Size([4])\n",
      "08/27/2023, 15:15:04# labels of Validation: tensor([112, 161,  78,  99], device='cuda:1') torch.Size([4])\n",
      "08/27/2023, 15:15:04# predicted of Validation: tensor([ 12, 132,  78,  99], device='cuda:1') torch.Size([4])\n",
      "08/27/2023, 15:15:10# labels of Validation: tensor([145, 152, 111, 162], device='cuda:1') torch.Size([4])\n",
      "08/27/2023, 15:15:10# predicted of Validation: tensor([145,  12,  12,  12], device='cuda:1') torch.Size([4])\n",
      "08/27/2023, 15:15:16# labels of Validation: tensor([  0,  21,  85, 101], device='cuda:1') torch.Size([4])\n",
      "08/27/2023, 15:15:16# predicted of Validation: tensor([ 0, 51, 85, 51], device='cuda:1') torch.Size([4])\n",
      "08/27/2023, 15:15:22# labels of Validation: tensor([ 15,  67,   7, 139], device='cuda:1') torch.Size([4])\n",
      "08/27/2023, 15:15:22# predicted of Validation: tensor([15, 78,  7, 12], device='cuda:1') torch.Size([4])\n",
      "08/27/2023, 15:15:23# Validation Loss: 2.7435 | Validation Accuracy: 0.3812\n",
      "\n"
     ]
    },
    {
     "data": {
      "application/vnd.jupyter.widget-view+json": {
       "model_id": "fbb819d0340b43be8335983be078e2c6",
       "version_major": 2,
       "version_minor": 0
      },
      "text/plain": [
       "Training:   0%|          | 0/33000 [00:00<?, ?it/s]"
      ]
     },
     "metadata": {},
     "output_type": "display_data"
    },
    {
     "name": "stdout",
     "output_type": "stream",
     "text": [
      "08/27/2023, 15:17:09# labels of 5000: tensor([165,   7, 145,   0], device='cuda:1') torch.Size([4])\n",
      "08/27/2023, 15:17:09# predicted of 5000: tensor([165,   7, 145,   0], device='cuda:1') torch.Size([4])\n",
      "08/27/2023, 15:18:50# labels of 10000: tensor([  1, 108,  30,  63], device='cuda:1') torch.Size([4])\n",
      "08/27/2023, 15:18:50# predicted of 10000: tensor([  9, 131, 110,  11], device='cuda:1') torch.Size([4])\n",
      "08/27/2023, 15:20:30# labels of 15000: tensor([ 10,  12,   5, 117], device='cuda:1') torch.Size([4])\n",
      "08/27/2023, 15:20:30# predicted of 15000: tensor([ 46, 151,   5, 117], device='cuda:1') torch.Size([4])\n",
      "08/27/2023, 15:22:12# labels of 20000: tensor([118,  50, 146, 128], device='cuda:1') torch.Size([4])\n",
      "08/27/2023, 15:22:12# predicted of 20000: tensor([118,  50, 146, 128], device='cuda:1') torch.Size([4])\n",
      "08/27/2023, 15:23:55# labels of 25000: tensor([ 70,  43,  92, 154], device='cuda:1') torch.Size([4])\n",
      "08/27/2023, 15:23:55# predicted of 25000: tensor([ 70,  54,  54, 154], device='cuda:1') torch.Size([4])\n",
      "08/27/2023, 15:25:36# labels of 30000: tensor([47, 93, 94, 16], device='cuda:1') torch.Size([4])\n",
      "08/27/2023, 15:25:36# predicted of 30000: tensor([14, 77, 94, 16], device='cuda:1') torch.Size([4])\n",
      "08/27/2023, 15:26:36# total batches: 33000\n",
      "08/27/2023, 15:26:36# Epoch 16 | Train Loss: 2.7572 | Train Accuracy: 0.3821\n"
     ]
    },
    {
     "data": {
      "application/vnd.jupyter.widget-view+json": {
       "model_id": "d9dba794ea434efda6f1627175ed3ac3",
       "version_major": 2,
       "version_minor": 0
      },
      "text/plain": [
       "Validation:   0%|          | 0/4125 [00:00<?, ?it/s]"
      ]
     },
     "metadata": {},
     "output_type": "display_data"
    },
    {
     "name": "stdout",
     "output_type": "stream",
     "text": [
      "08/27/2023, 15:26:36# labels of Validation: tensor([ 94, 101,  51,  94], device='cuda:1') torch.Size([4])\n",
      "08/27/2023, 15:26:36# predicted of Validation: tensor([ 94, 166, 132,  94], device='cuda:1') torch.Size([4])\n",
      "08/27/2023, 15:26:36# labels of 0: tensor([ 94, 101,  51,  94], device='cuda:1') torch.Size([4])\n",
      "08/27/2023, 15:26:36# predicted of 0: tensor([ 94, 166, 132,  94], device='cuda:1') torch.Size([4])\n",
      "08/27/2023, 15:26:43# labels of Validation: tensor([ 18,  51, 117, 153], device='cuda:1') torch.Size([4])\n",
      "08/27/2023, 15:26:43# predicted of Validation: tensor([ 46, 132, 117,  46], device='cuda:1') torch.Size([4])\n",
      "08/27/2023, 15:26:50# labels of Validation: tensor([ 56,  40,  97, 156], device='cuda:1') torch.Size([4])\n",
      "08/27/2023, 15:26:50# predicted of Validation: tensor([ 56,  40,  46, 156], device='cuda:1') torch.Size([4])\n",
      "08/27/2023, 15:26:56# labels of Validation: tensor([114,  13, 109,  96], device='cuda:1') torch.Size([4])\n",
      "08/27/2023, 15:26:56# predicted of Validation: tensor([166,  13,  46,  96], device='cuda:1') torch.Size([4])\n",
      "08/27/2023, 15:27:03# labels of Validation: tensor([ 72,  68,   1, 129], device='cuda:1') torch.Size([4])\n",
      "08/27/2023, 15:27:03# predicted of Validation: tensor([ 72, 166,  46, 166], device='cuda:1') torch.Size([4])\n",
      "08/27/2023, 15:27:04# Validation Loss: 2.7438 | Validation Accuracy: 0.3869\n",
      "\n"
     ]
    },
    {
     "data": {
      "application/vnd.jupyter.widget-view+json": {
       "model_id": "c3daf5ad43724feba8c5eede7cbbb5c0",
       "version_major": 2,
       "version_minor": 0
      },
      "text/plain": [
       "Training:   0%|          | 0/33000 [00:00<?, ?it/s]"
      ]
     },
     "metadata": {},
     "output_type": "display_data"
    },
    {
     "name": "stdout",
     "output_type": "stream",
     "text": [
      "08/27/2023, 15:28:45# labels of 5000: tensor([132, 160, 112, 139], device='cuda:1') torch.Size([4])\n",
      "08/27/2023, 15:28:45# predicted of 5000: tensor([161,  66, 151, 151], device='cuda:1') torch.Size([4])\n",
      "08/27/2023, 15:30:26# labels of 10000: tensor([109,  58,   7,  35], device='cuda:1') torch.Size([4])\n",
      "08/27/2023, 15:30:26# predicted of 10000: tensor([ 46, 164,   7,  35], device='cuda:1') torch.Size([4])\n",
      "08/27/2023, 15:32:06# labels of 15000: tensor([136,  64,  92, 138], device='cuda:1') torch.Size([4])\n",
      "08/27/2023, 15:32:06# predicted of 15000: tensor([136, 166,  44, 138], device='cuda:1') torch.Size([4])\n",
      "08/27/2023, 15:33:47# labels of 20000: tensor([ 86, 150,  28,  12], device='cuda:1') torch.Size([4])\n",
      "08/27/2023, 15:33:47# predicted of 20000: tensor([ 76,  86, 132, 157], device='cuda:1') torch.Size([4])\n",
      "08/27/2023, 15:35:28# labels of 25000: tensor([ 62, 117, 118,  83], device='cuda:1') torch.Size([4])\n",
      "08/27/2023, 15:35:28# predicted of 25000: tensor([ 62, 117, 118,  24], device='cuda:1') torch.Size([4])\n",
      "08/27/2023, 15:37:10# labels of 30000: tensor([132,  84,  38,  46], device='cuda:1') torch.Size([4])\n",
      "08/27/2023, 15:37:10# predicted of 30000: tensor([132,  84,  12,  12], device='cuda:1') torch.Size([4])\n",
      "08/27/2023, 15:38:03# total batches: 33000\n",
      "08/27/2023, 15:38:03# Epoch 17 | Train Loss: 2.7565 | Train Accuracy: 0.3824\n"
     ]
    },
    {
     "data": {
      "application/vnd.jupyter.widget-view+json": {
       "model_id": "3fe6528832174d1aae988d67dcb410ec",
       "version_major": 2,
       "version_minor": 0
      },
      "text/plain": [
       "Validation:   0%|          | 0/4125 [00:00<?, ?it/s]"
      ]
     },
     "metadata": {},
     "output_type": "display_data"
    },
    {
     "name": "stdout",
     "output_type": "stream",
     "text": [
      "08/27/2023, 15:38:03# labels of Validation: tensor([114,  13,  78,  91], device='cuda:1') torch.Size([4])\n",
      "08/27/2023, 15:38:03# predicted of Validation: tensor([131,  13,  67, 131], device='cuda:1') torch.Size([4])\n",
      "08/27/2023, 15:38:03# labels of 0: tensor([114,  13,  78,  91], device='cuda:1') torch.Size([4])\n",
      "08/27/2023, 15:38:03# predicted of 0: tensor([131,  13,  67, 131], device='cuda:1') torch.Size([4])\n",
      "08/27/2023, 15:38:09# labels of Validation: tensor([ 16, 137,  98, 144], device='cuda:1') torch.Size([4])\n",
      "08/27/2023, 15:38:09# predicted of Validation: tensor([ 16, 109, 109, 109], device='cuda:1') torch.Size([4])\n",
      "08/27/2023, 15:38:15# labels of Validation: tensor([ 90,  48, 165,  45], device='cuda:1') torch.Size([4])\n",
      "08/27/2023, 15:38:15# predicted of Validation: tensor([131, 109, 165,  45], device='cuda:1') torch.Size([4])\n",
      "08/27/2023, 15:38:21# labels of Validation: tensor([162, 131,  62,  94], device='cuda:1') torch.Size([4])\n",
      "08/27/2023, 15:38:21# predicted of Validation: tensor([109, 161,  62,  94], device='cuda:1') torch.Size([4])\n",
      "08/27/2023, 15:38:27# labels of Validation: tensor([137,  44, 150,  26], device='cuda:1') torch.Size([4])\n",
      "08/27/2023, 15:38:27# predicted of Validation: tensor([109, 109, 109, 109], device='cuda:1') torch.Size([4])\n",
      "08/27/2023, 15:38:28# Validation Loss: 2.7436 | Validation Accuracy: 0.3807\n",
      "\n"
     ]
    },
    {
     "data": {
      "application/vnd.jupyter.widget-view+json": {
       "model_id": "c64df0d81dbd41289c0cb80cd0e762b2",
       "version_major": 2,
       "version_minor": 0
      },
      "text/plain": [
       "Training:   0%|          | 0/33000 [00:00<?, ?it/s]"
      ]
     },
     "metadata": {},
     "output_type": "display_data"
    },
    {
     "name": "stdout",
     "output_type": "stream",
     "text": [
      "08/27/2023, 15:40:10# labels of 5000: tensor([99, 48, 52, 42], device='cuda:1') torch.Size([4])\n",
      "08/27/2023, 15:40:10# predicted of 5000: tensor([99,  4, 52,  4], device='cuda:1') torch.Size([4])\n",
      "08/27/2023, 15:41:51# labels of 10000: tensor([144, 127, 112,  37], device='cuda:1') torch.Size([4])\n",
      "08/27/2023, 15:41:51# predicted of 10000: tensor([114, 127,  92, 114], device='cuda:1') torch.Size([4])\n",
      "08/27/2023, 15:43:32# labels of 15000: tensor([  2, 158,  89,  64], device='cuda:1') torch.Size([4])\n",
      "08/27/2023, 15:43:32# predicted of 15000: tensor([116, 113,  89,  66], device='cuda:1') torch.Size([4])\n",
      "08/27/2023, 15:45:13# labels of 20000: tensor([ 97, 152,  18,  95], device='cuda:1') torch.Size([4])\n",
      "08/27/2023, 15:45:13# predicted of 20000: tensor([ 71, 163, 107,  95], device='cuda:1') torch.Size([4])\n",
      "08/27/2023, 15:46:54# labels of 25000: tensor([35, 84, 19, 79], device='cuda:1') torch.Size([4])\n",
      "08/27/2023, 15:46:54# predicted of 25000: tensor([ 35,  84, 148,  79], device='cuda:1') torch.Size([4])\n",
      "08/27/2023, 15:48:36# labels of 30000: tensor([127,  30, 127, 148], device='cuda:1') torch.Size([4])\n",
      "08/27/2023, 15:48:36# predicted of 30000: tensor([127,  49, 127, 132], device='cuda:1') torch.Size([4])\n",
      "08/27/2023, 15:49:37# total batches: 33000\n",
      "08/27/2023, 15:49:37# Epoch 18 | Train Loss: 2.7559 | Train Accuracy: 0.3821\n"
     ]
    },
    {
     "data": {
      "application/vnd.jupyter.widget-view+json": {
       "model_id": "ec1bec02fdc042568fb17dee66ad9757",
       "version_major": 2,
       "version_minor": 0
      },
      "text/plain": [
       "Validation:   0%|          | 0/4125 [00:00<?, ?it/s]"
      ]
     },
     "metadata": {},
     "output_type": "display_data"
    },
    {
     "name": "stdout",
     "output_type": "stream",
     "text": [
      "08/27/2023, 15:49:37# labels of Validation: tensor([143,  93, 161, 101], device='cuda:1') torch.Size([4])\n",
      "08/27/2023, 15:49:37# predicted of Validation: tensor([  2,   6, 132,   6], device='cuda:1') torch.Size([4])\n",
      "08/27/2023, 15:49:37# labels of 0: tensor([143,  93, 161, 101], device='cuda:1') torch.Size([4])\n",
      "08/27/2023, 15:49:37# predicted of 0: tensor([  2,   6, 132,   6], device='cuda:1') torch.Size([4])\n",
      "08/27/2023, 15:49:43# labels of Validation: tensor([  7,  18, 123,  75], device='cuda:1') torch.Size([4])\n",
      "08/27/2023, 15:49:43# predicted of Validation: tensor([  7,   2, 123,   2], device='cuda:1') torch.Size([4])\n",
      "08/27/2023, 15:49:49# labels of Validation: tensor([135, 130,  86, 155], device='cuda:1') torch.Size([4])\n",
      "08/27/2023, 15:49:49# predicted of Validation: tensor([  2, 130,   2,   6], device='cuda:1') torch.Size([4])\n",
      "08/27/2023, 15:49:55# labels of Validation: tensor([21, 38, 10,  3], device='cuda:1') torch.Size([4])\n",
      "08/27/2023, 15:49:55# predicted of Validation: tensor([6, 2, 2, 3], device='cuda:1') torch.Size([4])\n",
      "08/27/2023, 15:50:02# labels of Validation: tensor([ 55, 125, 110,  99], device='cuda:1') torch.Size([4])\n",
      "08/27/2023, 15:50:02# predicted of Validation: tensor([ 2,  2,  6, 99], device='cuda:1') torch.Size([4])\n",
      "08/27/2023, 15:50:02# Validation Loss: 2.7420 | Validation Accuracy: 0.3807\n",
      "\n"
     ]
    },
    {
     "data": {
      "application/vnd.jupyter.widget-view+json": {
       "model_id": "9165b4cf3d374901b1aadb44e20a5b40",
       "version_major": 2,
       "version_minor": 0
      },
      "text/plain": [
       "Training:   0%|          | 0/33000 [00:00<?, ?it/s]"
      ]
     },
     "metadata": {},
     "output_type": "display_data"
    },
    {
     "name": "stdout",
     "output_type": "stream",
     "text": [
      "08/27/2023, 15:51:43# labels of 5000: tensor([143, 142,  43,  96], device='cuda:1') torch.Size([4])\n",
      "08/27/2023, 15:51:43# predicted of 5000: tensor([ 41, 150, 150,  96], device='cuda:1') torch.Size([4])\n",
      "08/27/2023, 15:53:24# labels of 10000: tensor([127, 133, 107,  92], device='cuda:1') torch.Size([4])\n",
      "08/27/2023, 15:53:24# predicted of 10000: tensor([127,  51, 131,  33], device='cuda:1') torch.Size([4])\n",
      "08/27/2023, 15:55:05# labels of 15000: tensor([143,  98,  62, 108], device='cuda:1') torch.Size([4])\n",
      "08/27/2023, 15:55:05# predicted of 15000: tensor([19, 19, 62, 28], device='cuda:1') torch.Size([4])\n",
      "08/27/2023, 15:56:47# labels of 20000: tensor([154,  38,  82,  44], device='cuda:1') torch.Size([4])\n",
      "08/27/2023, 15:56:47# predicted of 20000: tensor([154,  10,  82,  10], device='cuda:1') torch.Size([4])\n",
      "08/27/2023, 15:58:28# labels of 25000: tensor([ 57,  79, 118,  60], device='cuda:1') torch.Size([4])\n",
      "08/27/2023, 15:58:28# predicted of 25000: tensor([ 26,  79, 118, 160], device='cuda:1') torch.Size([4])\n",
      "08/27/2023, 15:59:57# labels of 30000: tensor([100, 139, 114, 136], device='cuda:1') torch.Size([4])\n",
      "08/27/2023, 15:59:58# predicted of 30000: tensor([ 28, 139,  51, 136], device='cuda:1') torch.Size([4])\n",
      "08/27/2023, 16:00:48# total batches: 33000\n",
      "08/27/2023, 16:00:48# Epoch 19 | Train Loss: 2.7551 | Train Accuracy: 0.3823\n"
     ]
    },
    {
     "data": {
      "application/vnd.jupyter.widget-view+json": {
       "model_id": "d967b22609314c5e9ecbf8a34edd31db",
       "version_major": 2,
       "version_minor": 0
      },
      "text/plain": [
       "Validation:   0%|          | 0/4125 [00:00<?, ?it/s]"
      ]
     },
     "metadata": {},
     "output_type": "display_data"
    },
    {
     "name": "stdout",
     "output_type": "stream",
     "text": [
      "08/27/2023, 16:00:48# labels of Validation: tensor([ 78, 145,  27,  47], device='cuda:1') torch.Size([4])\n",
      "08/27/2023, 16:00:48# predicted of Validation: tensor([ 67, 145,  27,  18], device='cuda:1') torch.Size([4])\n",
      "08/27/2023, 16:00:48# labels of 0: tensor([ 78, 145,  27,  47], device='cuda:1') torch.Size([4])\n",
      "08/27/2023, 16:00:48# predicted of 0: tensor([ 67, 145,  27,  18], device='cuda:1') torch.Size([4])\n",
      "08/27/2023, 16:00:54# labels of Validation: tensor([ 26,   2, 140, 100], device='cuda:1') torch.Size([4])\n",
      "08/27/2023, 16:00:54# predicted of Validation: tensor([ 18,  18, 140,  91], device='cuda:1') torch.Size([4])\n",
      "08/27/2023, 16:01:00# labels of Validation: tensor([149,  17,  61,  40], device='cuda:1') torch.Size([4])\n",
      "08/27/2023, 16:01:00# predicted of Validation: tensor([149,  17,  61,  40], device='cuda:1') torch.Size([4])\n",
      "08/27/2023, 16:01:06# labels of Validation: tensor([ 81,  48,  76, 117], device='cuda:1') torch.Size([4])\n",
      "08/27/2023, 16:01:06# predicted of Validation: tensor([ 18,  18,  18, 117], device='cuda:1') torch.Size([4])\n",
      "08/27/2023, 16:01:12# labels of Validation: tensor([150, 138, 125,  39], device='cuda:1') torch.Size([4])\n",
      "08/27/2023, 16:01:12# predicted of Validation: tensor([ 18, 138,  18,  39], device='cuda:1') torch.Size([4])\n",
      "08/27/2023, 16:01:13# Validation Loss: 2.7421 | Validation Accuracy: 0.3808\n",
      "\n"
     ]
    },
    {
     "data": {
      "application/vnd.jupyter.widget-view+json": {
       "model_id": "1c49306fef374688b1f1ef4765d57831",
       "version_major": 2,
       "version_minor": 0
      },
      "text/plain": [
       "Training:   0%|          | 0/33000 [00:00<?, ?it/s]"
      ]
     },
     "metadata": {},
     "output_type": "display_data"
    },
    {
     "name": "stdout",
     "output_type": "stream",
     "text": [
      "08/27/2023, 16:02:54# labels of 5000: tensor([51, 95, 50, 94], device='cuda:1') torch.Size([4])\n",
      "08/27/2023, 16:02:54# predicted of 5000: tensor([132,  95,  50,  94], device='cuda:1') torch.Size([4])\n",
      "08/27/2023, 16:04:35# labels of 10000: tensor([ 46, 115,  85,  94], device='cuda:1') torch.Size([4])\n",
      "08/27/2023, 16:04:35# predicted of 10000: tensor([158, 115,  85,  94], device='cuda:1') torch.Size([4])\n",
      "08/27/2023, 16:06:18# labels of 15000: tensor([ 95, 144, 141,  26], device='cuda:1') torch.Size([4])\n",
      "08/27/2023, 16:06:18# predicted of 15000: tensor([ 95, 119,  28, 102], device='cuda:1') torch.Size([4])\n",
      "08/27/2023, 16:07:59# labels of 20000: tensor([ 50, 150,  28,  32], device='cuda:1') torch.Size([4])\n",
      "08/27/2023, 16:07:59# predicted of 20000: tensor([ 50, 150, 132,  32], device='cuda:1') torch.Size([4])\n",
      "08/27/2023, 16:09:45# labels of 25000: tensor([ 49, 117, 143, 136], device='cuda:1') torch.Size([4])\n",
      "08/27/2023, 16:09:45# predicted of 25000: tensor([124, 117, 124, 136], device='cuda:1') torch.Size([4])\n",
      "08/27/2023, 16:11:31# labels of 30000: tensor([ 62, 101, 136,  66], device='cuda:1') torch.Size([4])\n",
      "08/27/2023, 16:11:31# predicted of 30000: tensor([ 62, 132, 136, 132], device='cuda:1') torch.Size([4])\n",
      "08/27/2023, 16:12:31# total batches: 33000\n",
      "08/27/2023, 16:12:31# Epoch 20 | Train Loss: 2.7552 | Train Accuracy: 0.3826\n"
     ]
    },
    {
     "data": {
      "application/vnd.jupyter.widget-view+json": {
       "model_id": "68472cb423ba4668a4063791b1cd9528",
       "version_major": 2,
       "version_minor": 0
      },
      "text/plain": [
       "Validation:   0%|          | 0/4125 [00:00<?, ?it/s]"
      ]
     },
     "metadata": {},
     "output_type": "display_data"
    },
    {
     "name": "stdout",
     "output_type": "stream",
     "text": [
      "08/27/2023, 16:12:31# labels of Validation: tensor([ 90, 161,   7,  42], device='cuda:1') torch.Size([4])\n",
      "08/27/2023, 16:12:31# predicted of Validation: tensor([166, 161,   7,   1], device='cuda:1') torch.Size([4])\n",
      "08/27/2023, 16:12:31# labels of 0: tensor([ 90, 161,   7,  42], device='cuda:1') torch.Size([4])\n",
      "08/27/2023, 16:12:31# predicted of 0: tensor([166, 161,   7,   1], device='cuda:1') torch.Size([4])\n",
      "08/27/2023, 16:12:38# labels of Validation: tensor([ 64,  62, 110,  23], device='cuda:1') torch.Size([4])\n",
      "08/27/2023, 16:12:38# predicted of Validation: tensor([166,  62, 166,  23], device='cuda:1') torch.Size([4])\n",
      "08/27/2023, 16:12:44# labels of Validation: tensor([  1,  11, 121,  88], device='cuda:1') torch.Size([4])\n",
      "08/27/2023, 16:12:44# predicted of Validation: tensor([  1,   1,   1, 166], device='cuda:1') torch.Size([4])\n",
      "08/27/2023, 16:12:50# labels of Validation: tensor([113,  28,  67, 139], device='cuda:1') torch.Size([4])\n",
      "08/27/2023, 16:12:50# predicted of Validation: tensor([166, 161,  78,   1], device='cuda:1') torch.Size([4])\n",
      "08/27/2023, 16:12:56# labels of Validation: tensor([  4,   1, 109,  59], device='cuda:1') torch.Size([4])\n",
      "08/27/2023, 16:12:56# predicted of Validation: tensor([  1,   1,   1, 161], device='cuda:1') torch.Size([4])\n",
      "08/27/2023, 16:12:57# Validation Loss: 2.7435 | Validation Accuracy: 0.3810\n",
      "\n"
     ]
    },
    {
     "data": {
      "application/vnd.jupyter.widget-view+json": {
       "model_id": "a6beb3a2ce6e4fd78d039fb47f071ee5",
       "version_major": 2,
       "version_minor": 0
      },
      "text/plain": [
       "Training:   0%|          | 0/33000 [00:00<?, ?it/s]"
      ]
     },
     "metadata": {},
     "output_type": "display_data"
    },
    {
     "name": "stdout",
     "output_type": "stream",
     "text": [
      "08/27/2023, 16:13:46# labels of 5000: tensor([125,  71,  33,  68], device='cuda:1') torch.Size([4])\n",
      "08/27/2023, 16:13:46# predicted of 5000: tensor([ 81,  64, 137,   6], device='cuda:1') torch.Size([4])\n",
      "08/27/2023, 16:15:06# labels of 10000: tensor([16, 69, 59, 50], device='cuda:1') torch.Size([4])\n",
      "08/27/2023, 16:15:06# predicted of 10000: tensor([16, 69, 21, 50], device='cuda:1') torch.Size([4])\n",
      "08/27/2023, 16:16:49# labels of 15000: tensor([ 79, 110, 164,  92], device='cuda:1') torch.Size([4])\n",
      "08/27/2023, 16:16:49# predicted of 15000: tensor([ 79, 161,  57, 109], device='cuda:1') torch.Size([4])\n",
      "08/27/2023, 16:17:53# labels of 20000: tensor([ 93,  80,  25, 121], device='cuda:1') torch.Size([4])\n",
      "08/27/2023, 16:17:53# predicted of 20000: tensor([77, 80, 25, 14], device='cuda:1') torch.Size([4])\n",
      "08/27/2023, 16:18:45# labels of 25000: tensor([ 94, 130, 108,  12], device='cuda:1') torch.Size([4])\n",
      "08/27/2023, 16:18:45# predicted of 25000: tensor([ 94, 130,   6,  54], device='cuda:1') torch.Size([4])\n",
      "08/27/2023, 16:19:38# labels of 30000: tensor([ 70, 164, 158,  93], device='cuda:1') torch.Size([4])\n",
      "08/27/2023, 16:19:38# predicted of 30000: tensor([ 70,  43,  43, 155], device='cuda:1') torch.Size([4])\n",
      "08/27/2023, 16:20:29# total batches: 33000\n",
      "08/27/2023, 16:20:29# Epoch 21 | Train Loss: 2.7547 | Train Accuracy: 0.3819\n"
     ]
    },
    {
     "data": {
      "application/vnd.jupyter.widget-view+json": {
       "model_id": "275fd9a19d0546bcb22c324bd7d34798",
       "version_major": 2,
       "version_minor": 0
      },
      "text/plain": [
       "Validation:   0%|          | 0/4125 [00:00<?, ?it/s]"
      ]
     },
     "metadata": {},
     "output_type": "display_data"
    },
    {
     "name": "stdout",
     "output_type": "stream",
     "text": [
      "08/27/2023, 16:20:29# labels of Validation: tensor([  5,  64, 129, 126], device='cuda:1') torch.Size([4])\n",
      "08/27/2023, 16:20:29# predicted of Validation: tensor([  5, 155, 155, 126], device='cuda:1') torch.Size([4])\n",
      "08/27/2023, 16:20:29# labels of 0: tensor([  5,  64, 129, 126], device='cuda:1') torch.Size([4])\n",
      "08/27/2023, 16:20:29# predicted of 0: tensor([  5, 155, 155, 126], device='cuda:1') torch.Size([4])\n",
      "08/27/2023, 16:20:35# labels of Validation: tensor([ 29, 156, 146,  90], device='cuda:1') torch.Size([4])\n",
      "08/27/2023, 16:20:35# predicted of Validation: tensor([ 29, 156, 146, 155], device='cuda:1') torch.Size([4])\n",
      "08/27/2023, 16:20:42# labels of Validation: tensor([ 28,  61, 146,  34], device='cuda:1') torch.Size([4])\n",
      "08/27/2023, 16:20:42# predicted of Validation: tensor([161,  61, 146, 121], device='cuda:1') torch.Size([4])\n",
      "08/27/2023, 16:20:48# labels of Validation: tensor([114, 162, 144,  74], device='cuda:1') torch.Size([4])\n",
      "08/27/2023, 16:20:48# predicted of Validation: tensor([155, 121, 121, 121], device='cuda:1') torch.Size([4])\n",
      "08/27/2023, 16:20:54# labels of Validation: tensor([ 56,  39,  68, 147], device='cuda:1') torch.Size([4])\n",
      "08/27/2023, 16:20:54# predicted of Validation: tensor([ 56,  39, 155, 147], device='cuda:1') torch.Size([4])\n",
      "08/27/2023, 16:20:55# Validation Loss: 2.7422 | Validation Accuracy: 0.3802\n",
      "\n"
     ]
    },
    {
     "data": {
      "application/vnd.jupyter.widget-view+json": {
       "model_id": "d8244bea2cf44bdb8dd6f6d46b7ed3da",
       "version_major": 2,
       "version_minor": 0
      },
      "text/plain": [
       "Training:   0%|          | 0/33000 [00:00<?, ?it/s]"
      ]
     },
     "metadata": {},
     "output_type": "display_data"
    },
    {
     "name": "stdout",
     "output_type": "stream",
     "text": [
      "08/27/2023, 16:22:36# labels of 5000: tensor([132, 135,  96,  32], device='cuda:1') torch.Size([4])\n",
      "08/27/2023, 16:22:36# predicted of 5000: tensor([132,  34,  96,  32], device='cuda:1') torch.Size([4])\n",
      "08/27/2023, 16:24:22# labels of 10000: tensor([ 75, 118,  40, 151], device='cuda:1') torch.Size([4])\n",
      "08/27/2023, 16:24:22# predicted of 10000: tensor([164, 118,  40, 164], device='cuda:1') torch.Size([4])\n",
      "08/27/2023, 16:26:04# labels of 15000: tensor([121,  57,  28,  27], device='cuda:1') torch.Size([4])\n",
      "08/27/2023, 16:26:04# predicted of 15000: tensor([63, 53,  6, 27], device='cuda:1') torch.Size([4])\n",
      "08/27/2023, 16:27:44# labels of 20000: tensor([85, 99, 21, 44], device='cuda:1') torch.Size([4])\n",
      "08/27/2023, 16:27:44# predicted of 20000: tensor([ 85,  99,   6, 163], device='cuda:1') torch.Size([4])\n",
      "08/27/2023, 16:29:24# labels of 25000: tensor([138, 104,   8,  84], device='cuda:1') torch.Size([4])\n",
      "08/27/2023, 16:29:24# predicted of 25000: tensor([138,  11, 161,  84], device='cuda:1') torch.Size([4])\n",
      "08/27/2023, 16:31:05# labels of 30000: tensor([ 44, 104, 107,  41], device='cuda:1') torch.Size([4])\n",
      "08/27/2023, 16:31:05# predicted of 30000: tensor([1, 1, 8, 1], device='cuda:1') torch.Size([4])\n",
      "08/27/2023, 16:32:07# total batches: 33000\n",
      "08/27/2023, 16:32:07# Epoch 22 | Train Loss: 2.7543 | Train Accuracy: 0.3828\n"
     ]
    },
    {
     "data": {
      "application/vnd.jupyter.widget-view+json": {
       "model_id": "cf8e46829adf49c38be7acd8883df6b7",
       "version_major": 2,
       "version_minor": 0
      },
      "text/plain": [
       "Validation:   0%|          | 0/4125 [00:00<?, ?it/s]"
      ]
     },
     "metadata": {},
     "output_type": "display_data"
    },
    {
     "name": "stdout",
     "output_type": "stream",
     "text": [
      "08/27/2023, 16:32:07# labels of Validation: tensor([ 77,  55, 159,  80], device='cuda:1') torch.Size([4])\n",
      "08/27/2023, 16:32:07# predicted of Validation: tensor([  6, 119, 159,  80], device='cuda:1') torch.Size([4])\n",
      "08/27/2023, 16:32:07# labels of 0: tensor([ 77,  55, 159,  80], device='cuda:1') torch.Size([4])\n",
      "08/27/2023, 16:32:07# predicted of 0: tensor([  6, 119, 159,  80], device='cuda:1') torch.Size([4])\n",
      "08/27/2023, 16:32:13# labels of Validation: tensor([75, 31, 31, 38], device='cuda:1') torch.Size([4])\n",
      "08/27/2023, 16:32:13# predicted of Validation: tensor([119, 119, 119, 119], device='cuda:1') torch.Size([4])\n",
      "08/27/2023, 16:32:19# labels of Validation: tensor([93, 58, 87, 10], device='cuda:1') torch.Size([4])\n",
      "08/27/2023, 16:32:19# predicted of Validation: tensor([101, 119, 119, 119], device='cuda:1') torch.Size([4])\n",
      "08/27/2023, 16:32:25# labels of Validation: tensor([154,   7,  39,  72], device='cuda:1') torch.Size([4])\n",
      "08/27/2023, 16:32:25# predicted of Validation: tensor([154,   7,  39,  72], device='cuda:1') torch.Size([4])\n",
      "08/27/2023, 16:32:31# labels of Validation: tensor([137, 123,  59,  40], device='cuda:1') torch.Size([4])\n",
      "08/27/2023, 16:32:31# predicted of Validation: tensor([119, 123,   6,  40], device='cuda:1') torch.Size([4])\n",
      "08/27/2023, 16:32:32# Validation Loss: 2.7418 | Validation Accuracy: 0.3812\n",
      "\n"
     ]
    },
    {
     "data": {
      "application/vnd.jupyter.widget-view+json": {
       "model_id": "89506105a9f64ab6a72fc57050f5d6a6",
       "version_major": 2,
       "version_minor": 0
      },
      "text/plain": [
       "Training:   0%|          | 0/33000 [00:00<?, ?it/s]"
      ]
     },
     "metadata": {},
     "output_type": "display_data"
    },
    {
     "name": "stdout",
     "output_type": "stream",
     "text": [
      "08/27/2023, 16:34:16# labels of 5000: tensor([148,  32, 107,  35], device='cuda:1') torch.Size([4])\n",
      "08/27/2023, 16:34:16# predicted of 5000: tensor([131,  32,  37,  35], device='cuda:1') torch.Size([4])\n",
      "08/27/2023, 16:35:57# labels of 10000: tensor([ 39, 124,  60, 155], device='cuda:1') torch.Size([4])\n",
      "08/27/2023, 16:35:57# predicted of 10000: tensor([39, 77,  2, 77], device='cuda:1') torch.Size([4])\n",
      "08/27/2023, 16:37:38# labels of 15000: tensor([64, 70, 62, 49], device='cuda:1') torch.Size([4])\n",
      "08/27/2023, 16:37:38# predicted of 15000: tensor([161,  70,  62, 164], device='cuda:1') torch.Size([4])\n",
      "08/27/2023, 16:39:19# labels of 20000: tensor([ 60,  49, 151,  11], device='cuda:1') torch.Size([4])\n",
      "08/27/2023, 16:39:19# predicted of 20000: tensor([125, 125, 164, 125], device='cuda:1') torch.Size([4])\n",
      "08/27/2023, 16:40:52# labels of 25000: tensor([144,  57,  39, 151], device='cuda:1') torch.Size([4])\n",
      "08/27/2023, 16:40:52# predicted of 25000: tensor([135,   8,  39, 135], device='cuda:1') torch.Size([4])\n",
      "08/27/2023, 16:41:48# labels of 30000: tensor([ 55,  48, 132,  87], device='cuda:1') torch.Size([4])\n",
      "08/27/2023, 16:41:48# predicted of 30000: tensor([ 30,  30, 132,  30], device='cuda:1') torch.Size([4])\n",
      "08/27/2023, 16:42:22# total batches: 33000\n",
      "08/27/2023, 16:42:22# Epoch 23 | Train Loss: 2.7543 | Train Accuracy: 0.3823\n"
     ]
    },
    {
     "data": {
      "application/vnd.jupyter.widget-view+json": {
       "model_id": "daaf3eafa0ae4a76b2a96ca22bf2f7b2",
       "version_major": 2,
       "version_minor": 0
      },
      "text/plain": [
       "Validation:   0%|          | 0/4125 [00:00<?, ?it/s]"
      ]
     },
     "metadata": {},
     "output_type": "display_data"
    },
    {
     "name": "stdout",
     "output_type": "stream",
     "text": [
      "08/27/2023, 16:42:22# labels of Validation: tensor([ 71, 119,  31,  58], device='cuda:1') torch.Size([4])\n",
      "08/27/2023, 16:42:22# predicted of Validation: tensor([139, 139, 139, 139], device='cuda:1') torch.Size([4])\n",
      "08/27/2023, 16:42:22# labels of 0: tensor([ 71, 119,  31,  58], device='cuda:1') torch.Size([4])\n",
      "08/27/2023, 16:42:22# predicted of 0: tensor([139, 139, 139, 139], device='cuda:1') torch.Size([4])\n",
      "08/27/2023, 16:42:29# labels of Validation: tensor([ 26,  89,  27, 100], device='cuda:1') torch.Size([4])\n",
      "08/27/2023, 16:42:29# predicted of Validation: tensor([139,  89,  27, 101], device='cuda:1') torch.Size([4])\n",
      "08/27/2023, 16:42:36# labels of Validation: tensor([124,  87,  57, 125], device='cuda:1') torch.Size([4])\n",
      "08/27/2023, 16:42:36# predicted of Validation: tensor([139, 139, 139, 139], device='cuda:1') torch.Size([4])\n",
      "08/27/2023, 16:42:43# labels of Validation: tensor([128,  73,  88,  14], device='cuda:1') torch.Size([4])\n",
      "08/27/2023, 16:42:43# predicted of Validation: tensor([128,  73, 101, 139], device='cuda:1') torch.Size([4])\n",
      "08/27/2023, 16:42:49# labels of Validation: tensor([67, 96, 93, 61], device='cuda:1') torch.Size([4])\n",
      "08/27/2023, 16:42:49# predicted of Validation: tensor([ 78,  96, 101,  61], device='cuda:1') torch.Size([4])\n",
      "08/27/2023, 16:42:50# Validation Loss: 2.7438 | Validation Accuracy: 0.3807\n",
      "\n"
     ]
    },
    {
     "data": {
      "application/vnd.jupyter.widget-view+json": {
       "model_id": "caa17dbc18d1425c8cc4c5b0a0f400bb",
       "version_major": 2,
       "version_minor": 0
      },
      "text/plain": [
       "Training:   0%|          | 0/33000 [00:00<?, ?it/s]"
      ]
     },
     "metadata": {},
     "output_type": "display_data"
    },
    {
     "name": "stdout",
     "output_type": "stream",
     "text": [
      "08/27/2023, 16:44:18# labels of 5000: tensor([10, 13, 92, 25], device='cuda:1') torch.Size([4])\n",
      "08/27/2023, 16:44:18# predicted of 5000: tensor([98, 13, 68, 25], device='cuda:1') torch.Size([4])\n",
      "08/27/2023, 16:46:00# labels of 10000: tensor([  5, 147, 163,  82], device='cuda:1') torch.Size([4])\n",
      "08/27/2023, 16:46:00# predicted of 10000: tensor([  5, 147,   2,  82], device='cuda:1') torch.Size([4])\n",
      "08/27/2023, 16:47:42# labels of 15000: tensor([86, 45, 74, 10], device='cuda:1') torch.Size([4])\n",
      "08/27/2023, 16:47:42# predicted of 15000: tensor([ 9, 45, 77, 60], device='cuda:1') torch.Size([4])\n",
      "08/27/2023, 16:49:23# labels of 20000: tensor([  3,  99,  30, 102], device='cuda:1') torch.Size([4])\n",
      "08/27/2023, 16:49:23# predicted of 20000: tensor([  3,  99, 158, 158], device='cuda:1') torch.Size([4])\n",
      "08/27/2023, 16:50:56# labels of 25000: tensor([145,  29,  24, 139], device='cuda:1') torch.Size([4])\n",
      "08/27/2023, 16:50:56# predicted of 25000: tensor([145,  29, 111, 111], device='cuda:1') torch.Size([4])\n",
      "08/27/2023, 16:52:39# labels of 30000: tensor([31, 52, 28, 72], device='cuda:1') torch.Size([4])\n",
      "08/27/2023, 16:52:39# predicted of 30000: tensor([150,  52, 132,  72], device='cuda:1') torch.Size([4])\n",
      "08/27/2023, 16:53:39# total batches: 33000\n",
      "08/27/2023, 16:53:39# Epoch 24 | Train Loss: 2.7542 | Train Accuracy: 0.3825\n"
     ]
    },
    {
     "data": {
      "application/vnd.jupyter.widget-view+json": {
       "model_id": "81c5a7c5d2b84922897c2ed4c1b83a5f",
       "version_major": 2,
       "version_minor": 0
      },
      "text/plain": [
       "Validation:   0%|          | 0/4125 [00:00<?, ?it/s]"
      ]
     },
     "metadata": {},
     "output_type": "display_data"
    },
    {
     "name": "stdout",
     "output_type": "stream",
     "text": [
      "08/27/2023, 16:53:39# labels of Validation: tensor([160, 133, 105,  91], device='cuda:1') torch.Size([4])\n",
      "08/27/2023, 16:53:39# predicted of Validation: tensor([108, 108, 105, 108], device='cuda:1') torch.Size([4])\n",
      "08/27/2023, 16:53:39# labels of 0: tensor([160, 133, 105,  91], device='cuda:1') torch.Size([4])\n",
      "08/27/2023, 16:53:39# predicted of 0: tensor([108, 108, 105, 108], device='cuda:1') torch.Size([4])\n",
      "08/27/2023, 16:53:45# labels of Validation: tensor([ 70, 137, 129,  53], device='cuda:1') torch.Size([4])\n",
      "08/27/2023, 16:53:45# predicted of Validation: tensor([ 70,   4, 108,   4], device='cuda:1') torch.Size([4])\n",
      "08/27/2023, 16:53:51# labels of Validation: tensor([ 36,  74, 124,  28], device='cuda:1') torch.Size([4])\n",
      "08/27/2023, 16:53:51# predicted of Validation: tensor([  4,   4,   4, 132], device='cuda:1') torch.Size([4])\n",
      "08/27/2023, 16:53:57# labels of Validation: tensor([141,  63, 161, 113], device='cuda:1') torch.Size([4])\n",
      "08/27/2023, 16:53:57# predicted of Validation: tensor([108,   4, 132, 108], device='cuda:1') torch.Size([4])\n",
      "08/27/2023, 16:54:03# labels of Validation: tensor([ 31,  94, 124,  36], device='cuda:1') torch.Size([4])\n",
      "08/27/2023, 16:54:03# predicted of Validation: tensor([ 4, 94,  4,  4], device='cuda:1') torch.Size([4])\n",
      "08/27/2023, 16:54:04# Validation Loss: 2.7403 | Validation Accuracy: 0.3813\n",
      "\n"
     ]
    },
    {
     "data": {
      "application/vnd.jupyter.widget-view+json": {
       "model_id": "73827cabd3394fde926b69cd9d0c7e68",
       "version_major": 2,
       "version_minor": 0
      },
      "text/plain": [
       "Training:   0%|          | 0/33000 [00:00<?, ?it/s]"
      ]
     },
     "metadata": {},
     "output_type": "display_data"
    },
    {
     "name": "stdout",
     "output_type": "stream",
     "text": [
      "08/27/2023, 16:55:45# labels of 5000: tensor([152,  26,  73,  31], device='cuda:1') torch.Size([4])\n",
      "08/27/2023, 16:55:45# predicted of 5000: tensor([ 68, 151,  73, 151], device='cuda:1') torch.Size([4])\n",
      "08/27/2023, 16:57:28# labels of 10000: tensor([83, 10, 78,  8], device='cuda:1') torch.Size([4])\n",
      "08/27/2023, 16:57:28# predicted of 10000: tensor([10, 10, 78, 28], device='cuda:1') torch.Size([4])\n",
      "08/27/2023, 16:59:09# labels of 15000: tensor([144,  66,  13,  12], device='cuda:1') torch.Size([4])\n",
      "08/27/2023, 16:59:09# predicted of 15000: tensor([102, 132,  13, 141], device='cuda:1') torch.Size([4])\n",
      "08/27/2023, 17:00:50# labels of 20000: tensor([ 79,  62, 165, 119], device='cuda:1') torch.Size([4])\n",
      "08/27/2023, 17:00:50# predicted of 20000: tensor([ 79,  62, 165,  14], device='cuda:1') torch.Size([4])\n",
      "08/27/2023, 17:02:31# labels of 25000: tensor([26, 94, 85, 75], device='cuda:1') torch.Size([4])\n",
      "08/27/2023, 17:02:31# predicted of 25000: tensor([124,  94,  85,  76], device='cuda:1') torch.Size([4])\n",
      "08/27/2023, 17:04:13# labels of 30000: tensor([ 23,  86, 108, 116], device='cuda:1') torch.Size([4])\n",
      "08/27/2023, 17:04:13# predicted of 30000: tensor([ 23,  74, 132,  12], device='cuda:1') torch.Size([4])\n",
      "08/27/2023, 17:05:13# total batches: 33000\n",
      "08/27/2023, 17:05:13# Epoch 25 | Train Loss: 2.7530 | Train Accuracy: 0.3822\n"
     ]
    },
    {
     "data": {
      "application/vnd.jupyter.widget-view+json": {
       "model_id": "73666df6ef7845ab80f2a7d71774d43e",
       "version_major": 2,
       "version_minor": 0
      },
      "text/plain": [
       "Validation:   0%|          | 0/4125 [00:00<?, ?it/s]"
      ]
     },
     "metadata": {},
     "output_type": "display_data"
    },
    {
     "name": "stdout",
     "output_type": "stream",
     "text": [
      "08/27/2023, 17:05:13# labels of Validation: tensor([166, 120,  47,   2], device='cuda:1') torch.Size([4])\n",
      "08/27/2023, 17:05:13# predicted of Validation: tensor([161, 120, 121, 121], device='cuda:1') torch.Size([4])\n",
      "08/27/2023, 17:05:13# labels of 0: tensor([166, 120,  47,   2], device='cuda:1') torch.Size([4])\n",
      "08/27/2023, 17:05:13# predicted of 0: tensor([161, 120, 121, 121], device='cuda:1') torch.Size([4])\n",
      "08/27/2023, 17:05:20# labels of Validation: tensor([103, 152,   0, 127], device='cuda:1') torch.Size([4])\n",
      "08/27/2023, 17:05:20# predicted of Validation: tensor([161, 121,   0, 127], device='cuda:1') torch.Size([4])\n",
      "08/27/2023, 17:05:26# labels of Validation: tensor([ 14, 124,  10,  13], device='cuda:1') torch.Size([4])\n",
      "08/27/2023, 17:05:26# predicted of Validation: tensor([121, 121, 121,  13], device='cuda:1') torch.Size([4])\n",
      "08/27/2023, 17:05:32# labels of Validation: tensor([162, 106,  13,  21], device='cuda:1') torch.Size([4])\n",
      "08/27/2023, 17:05:32# predicted of Validation: tensor([121, 106,  13, 161], device='cuda:1') torch.Size([4])\n",
      "08/27/2023, 17:05:38# labels of Validation: tensor([ 71,  79,  62, 136], device='cuda:1') torch.Size([4])\n",
      "08/27/2023, 17:05:38# predicted of Validation: tensor([121,  79,  62, 136], device='cuda:1') torch.Size([4])\n",
      "08/27/2023, 17:05:39# Validation Loss: 2.7419 | Validation Accuracy: 0.3813\n",
      "\n"
     ]
    },
    {
     "data": {
      "application/vnd.jupyter.widget-view+json": {
       "model_id": "486d674452374388b57da003ea34317b",
       "version_major": 2,
       "version_minor": 0
      },
      "text/plain": [
       "Training:   0%|          | 0/33000 [00:00<?, ?it/s]"
      ]
     },
     "metadata": {},
     "output_type": "display_data"
    },
    {
     "name": "stdout",
     "output_type": "stream",
     "text": [
      "08/27/2023, 17:07:20# labels of 5000: tensor([ 98, 151,  57, 161], device='cuda:1') torch.Size([4])\n",
      "08/27/2023, 17:07:20# predicted of 5000: tensor([  4,  48, 129, 161], device='cuda:1') torch.Size([4])\n",
      "08/27/2023, 17:09:00# labels of 10000: tensor([120, 158,  66,  89], device='cuda:1') torch.Size([4])\n",
      "08/27/2023, 17:09:00# predicted of 10000: tensor([120,  14, 161,  89], device='cuda:1') torch.Size([4])\n",
      "08/27/2023, 17:10:41# labels of 15000: tensor([156,   3, 108,  82], device='cuda:1') torch.Size([4])\n",
      "08/27/2023, 17:10:41# predicted of 15000: tensor([156,   3,  28,  82], device='cuda:1') torch.Size([4])\n",
      "08/27/2023, 17:12:13# labels of 20000: tensor([ 67, 133,  86, 111], device='cuda:1') torch.Size([4])\n",
      "08/27/2023, 17:12:13# predicted of 20000: tensor([ 67, 107,  83,  83], device='cuda:1') torch.Size([4])\n",
      "08/27/2023, 17:13:53# labels of 25000: tensor([35, 72, 28, 94], device='cuda:1') torch.Size([4])\n",
      "08/27/2023, 17:13:53# predicted of 25000: tensor([ 35,  72, 132,  94], device='cuda:1') torch.Size([4])\n",
      "08/27/2023, 17:15:18# labels of 30000: tensor([115,  59,  43, 107], device='cuda:1') torch.Size([4])\n",
      "08/27/2023, 17:15:18# predicted of 30000: tensor([115, 108,  83, 108], device='cuda:1') torch.Size([4])\n",
      "08/27/2023, 17:16:00# total batches: 33000\n",
      "08/27/2023, 17:16:00# Epoch 26 | Train Loss: 2.7533 | Train Accuracy: 0.3825\n"
     ]
    },
    {
     "data": {
      "application/vnd.jupyter.widget-view+json": {
       "model_id": "9ff28b0169654a70bcf6be5114f2f119",
       "version_major": 2,
       "version_minor": 0
      },
      "text/plain": [
       "Validation:   0%|          | 0/4125 [00:00<?, ?it/s]"
      ]
     },
     "metadata": {},
     "output_type": "display_data"
    },
    {
     "name": "stdout",
     "output_type": "stream",
     "text": [
      "08/27/2023, 17:16:00# labels of Validation: tensor([ 30,  41, 100,  47], device='cuda:1') torch.Size([4])\n",
      "08/27/2023, 17:16:00# predicted of Validation: tensor([ 55,  55, 108,  55], device='cuda:1') torch.Size([4])\n",
      "08/27/2023, 17:16:00# labels of 0: tensor([ 30,  41, 100,  47], device='cuda:1') torch.Size([4])\n",
      "08/27/2023, 17:16:00# predicted of 0: tensor([ 55,  55, 108,  55], device='cuda:1') torch.Size([4])\n",
      "08/27/2023, 17:16:07# labels of Validation: tensor([ 82,  78, 144, 165], device='cuda:1') torch.Size([4])\n",
      "08/27/2023, 17:16:07# predicted of Validation: tensor([ 82,  67,  55, 165], device='cuda:1') torch.Size([4])\n",
      "08/27/2023, 17:16:14# labels of Validation: tensor([164,  35,  99, 166], device='cuda:1') torch.Size([4])\n",
      "08/27/2023, 17:16:14# predicted of Validation: tensor([ 55,  35,  99, 108], device='cuda:1') torch.Size([4])\n",
      "08/27/2023, 17:16:21# labels of Validation: tensor([ 41, 138,  46,  43], device='cuda:1') torch.Size([4])\n",
      "08/27/2023, 17:16:21# predicted of Validation: tensor([ 55, 138,  55,  55], device='cuda:1') torch.Size([4])\n",
      "08/27/2023, 17:16:27# labels of Validation: tensor([140, 135,  68,  63], device='cuda:1') torch.Size([4])\n",
      "08/27/2023, 17:16:27# predicted of Validation: tensor([140,  55, 108,  55], device='cuda:1') torch.Size([4])\n",
      "08/27/2023, 17:16:28# Validation Loss: 2.7415 | Validation Accuracy: 0.3870\n",
      "\n"
     ]
    },
    {
     "data": {
      "application/vnd.jupyter.widget-view+json": {
       "model_id": "4522acdab2dd4cac83c4522224086786",
       "version_major": 2,
       "version_minor": 0
      },
      "text/plain": [
       "Training:   0%|          | 0/33000 [00:00<?, ?it/s]"
      ]
     },
     "metadata": {},
     "output_type": "display_data"
    },
    {
     "name": "stdout",
     "output_type": "stream",
     "text": [
      "08/27/2023, 17:17:59# labels of 5000: tensor([ 37,  53,   0, 156], device='cuda:1') torch.Size([4])\n",
      "08/27/2023, 17:17:59# predicted of 5000: tensor([ 90,  83,   0, 156], device='cuda:1') torch.Size([4])\n",
      "08/27/2023, 17:19:40# labels of 10000: tensor([ 55,  49, 142,  64], device='cuda:1') torch.Size([4])\n",
      "08/27/2023, 17:19:40# predicted of 10000: tensor([14, 14, 14, 59], device='cuda:1') torch.Size([4])\n",
      "08/27/2023, 17:21:22# labels of 15000: tensor([161,  96,  78, 164], device='cuda:1') torch.Size([4])\n",
      "08/27/2023, 17:21:22# predicted of 15000: tensor([132,  96,  67, 110], device='cuda:1') torch.Size([4])\n",
      "08/27/2023, 17:23:02# labels of 20000: tensor([ 94, 146,  76, 137], device='cuda:1') torch.Size([4])\n",
      "08/27/2023, 17:23:03# predicted of 20000: tensor([ 94, 146,  58,   8], device='cuda:1') torch.Size([4])\n",
      "08/27/2023, 17:24:45# labels of 25000: tensor([122, 122,  83, 109], device='cuda:1') torch.Size([4])\n",
      "08/27/2023, 17:24:45# predicted of 25000: tensor([122, 122,  47,  53], device='cuda:1') torch.Size([4])\n",
      "08/27/2023, 17:26:25# labels of 30000: tensor([20, 54, 83, 23], device='cuda:1') torch.Size([4])\n",
      "08/27/2023, 17:26:25# predicted of 30000: tensor([144,  26, 144,  23], device='cuda:1') torch.Size([4])\n",
      "08/27/2023, 17:27:26# total batches: 33000\n",
      "08/27/2023, 17:27:26# Epoch 27 | Train Loss: 2.7529 | Train Accuracy: 0.3825\n"
     ]
    },
    {
     "data": {
      "application/vnd.jupyter.widget-view+json": {
       "model_id": "6284a508d1cb44348b69ed08a3935d8a",
       "version_major": 2,
       "version_minor": 0
      },
      "text/plain": [
       "Validation:   0%|          | 0/4125 [00:00<?, ?it/s]"
      ]
     },
     "metadata": {},
     "output_type": "display_data"
    },
    {
     "name": "stdout",
     "output_type": "stream",
     "text": [
      "08/27/2023, 17:27:26# labels of Validation: tensor([124, 164, 154, 131], device='cuda:1') torch.Size([4])\n",
      "08/27/2023, 17:27:26# predicted of Validation: tensor([158, 158, 154, 132], device='cuda:1') torch.Size([4])\n",
      "08/27/2023, 17:27:26# labels of 0: tensor([124, 164, 154, 131], device='cuda:1') torch.Size([4])\n",
      "08/27/2023, 17:27:26# predicted of 0: tensor([158, 158, 154, 132], device='cuda:1') torch.Size([4])\n",
      "08/27/2023, 17:27:32# labels of Validation: tensor([ 98, 128, 160,  64], device='cuda:1') torch.Size([4])\n",
      "08/27/2023, 17:27:32# predicted of Validation: tensor([158, 128,   6,   6], device='cuda:1') torch.Size([4])\n",
      "08/27/2023, 17:27:39# labels of Validation: tensor([116, 115, 102,  59], device='cuda:1') torch.Size([4])\n",
      "08/27/2023, 17:27:39# predicted of Validation: tensor([158, 115, 158,   6], device='cuda:1') torch.Size([4])\n",
      "08/27/2023, 17:27:45# labels of Validation: tensor([151, 134,  19,  14], device='cuda:1') torch.Size([4])\n",
      "08/27/2023, 17:27:45# predicted of Validation: tensor([158, 134, 158, 158], device='cuda:1') torch.Size([4])\n",
      "08/27/2023, 17:27:52# labels of Validation: tensor([30, 26, 77, 38], device='cuda:1') torch.Size([4])\n",
      "08/27/2023, 17:27:52# predicted of Validation: tensor([158, 158,   6, 158], device='cuda:1') torch.Size([4])\n",
      "08/27/2023, 17:27:53# Validation Loss: 2.7408 | Validation Accuracy: 0.3812\n",
      "\n"
     ]
    },
    {
     "data": {
      "application/vnd.jupyter.widget-view+json": {
       "model_id": "5bb38181fba54636967170be9f7e79f2",
       "version_major": 2,
       "version_minor": 0
      },
      "text/plain": [
       "Training:   0%|          | 0/33000 [00:00<?, ?it/s]"
      ]
     },
     "metadata": {},
     "output_type": "display_data"
    },
    {
     "name": "stdout",
     "output_type": "stream",
     "text": [
      "08/27/2023, 17:29:34# labels of 5000: tensor([ 35, 153,  18,  21], device='cuda:1') torch.Size([4])\n",
      "08/27/2023, 17:29:34# predicted of 5000: tensor([ 35,  49,  49, 132], device='cuda:1') torch.Size([4])\n",
      "08/27/2023, 17:31:16# labels of 10000: tensor([149, 157,   4, 143], device='cuda:1') torch.Size([4])\n",
      "08/27/2023, 17:31:16# predicted of 10000: tensor([149,  36,  36, 150], device='cuda:1') torch.Size([4])\n",
      "08/27/2023, 17:32:57# labels of 15000: tensor([130, 145,  93,  66], device='cuda:1') torch.Size([4])\n",
      "08/27/2023, 17:32:57# predicted of 15000: tensor([130, 145,  91, 161], device='cuda:1') torch.Size([4])\n",
      "08/27/2023, 17:34:38# labels of 20000: tensor([164,  42,  68,  88], device='cuda:1') torch.Size([4])\n",
      "08/27/2023, 17:34:38# predicted of 20000: tensor([142, 142, 155,  51], device='cuda:1') torch.Size([4])\n",
      "08/27/2023, 17:36:18# labels of 25000: tensor([ 55,  52, 160,  57], device='cuda:1') torch.Size([4])\n",
      "08/27/2023, 17:36:18# predicted of 25000: tensor([ 31,  52, 132,  19], device='cuda:1') torch.Size([4])\n",
      "08/27/2023, 17:37:58# labels of 30000: tensor([ 10,   6,  72, 166], device='cuda:1') torch.Size([4])\n",
      "08/27/2023, 17:37:58# predicted of 30000: tensor([ 74,  28,  72, 161], device='cuda:1') torch.Size([4])\n",
      "08/27/2023, 17:38:59# total batches: 33000\n",
      "08/27/2023, 17:38:59# Epoch 28 | Train Loss: 2.7528 | Train Accuracy: 0.3823\n"
     ]
    },
    {
     "data": {
      "application/vnd.jupyter.widget-view+json": {
       "model_id": "b80daf7da91a4f48818cc1573c094fae",
       "version_major": 2,
       "version_minor": 0
      },
      "text/plain": [
       "Validation:   0%|          | 0/4125 [00:00<?, ?it/s]"
      ]
     },
     "metadata": {},
     "output_type": "display_data"
    },
    {
     "name": "stdout",
     "output_type": "stream",
     "text": [
      "08/27/2023, 17:38:59# labels of Validation: tensor([ 41, 103, 127,  91], device='cuda:1') torch.Size([4])\n",
      "08/27/2023, 17:38:59# predicted of Validation: tensor([ 48,  66, 127, 161], device='cuda:1') torch.Size([4])\n",
      "08/27/2023, 17:38:59# labels of 0: tensor([ 41, 103, 127,  91], device='cuda:1') torch.Size([4])\n",
      "08/27/2023, 17:38:59# predicted of 0: tensor([ 48,  66, 127, 161], device='cuda:1') torch.Size([4])\n",
      "08/27/2023, 17:39:06# labels of Validation: tensor([ 45,  64,  41, 155], device='cuda:1') torch.Size([4])\n",
      "08/27/2023, 17:39:06# predicted of Validation: tensor([ 45,  66,  48, 161], device='cuda:1') torch.Size([4])\n",
      "08/27/2023, 17:39:13# labels of Validation: tensor([155,   6, 166,  87], device='cuda:1') torch.Size([4])\n",
      "08/27/2023, 17:39:13# predicted of Validation: tensor([161, 161, 161,  48], device='cuda:1') torch.Size([4])\n",
      "08/27/2023, 17:39:21# labels of Validation: tensor([ 64,  51,  50, 122], device='cuda:1') torch.Size([4])\n",
      "08/27/2023, 17:39:21# predicted of Validation: tensor([ 66, 161,  50, 122], device='cuda:1') torch.Size([4])\n",
      "08/27/2023, 17:39:28# labels of Validation: tensor([ 74,  71, 116,  99], device='cuda:1') torch.Size([4])\n",
      "08/27/2023, 17:39:28# predicted of Validation: tensor([48, 48, 48, 99], device='cuda:1') torch.Size([4])\n",
      "08/27/2023, 17:39:29# Validation Loss: 2.7405 | Validation Accuracy: 0.3812\n",
      "\n"
     ]
    },
    {
     "data": {
      "application/vnd.jupyter.widget-view+json": {
       "model_id": "c83504652bc74d5fa6a72961cb2a41f0",
       "version_major": 2,
       "version_minor": 0
      },
      "text/plain": [
       "Training:   0%|          | 0/33000 [00:00<?, ?it/s]"
      ]
     },
     "metadata": {},
     "output_type": "display_data"
    },
    {
     "name": "stdout",
     "output_type": "stream",
     "text": [
      "08/27/2023, 17:41:09# labels of 5000: tensor([ 68,  73,  70, 150], device='cuda:1') torch.Size([4])\n",
      "08/27/2023, 17:41:09# predicted of 5000: tensor([ 28,  73,  70, 142], device='cuda:1') torch.Size([4])\n",
      "08/27/2023, 17:42:49# labels of 10000: tensor([117,  98,  10,  98], device='cuda:1') torch.Size([4])\n",
      "08/27/2023, 17:42:49# predicted of 10000: tensor([117,  30,  44,   1], device='cuda:1') torch.Size([4])\n",
      "08/27/2023, 17:44:06# labels of 15000: tensor([  1,  72, 113, 160], device='cuda:1') torch.Size([4])\n",
      "08/27/2023, 17:44:06# predicted of 15000: tensor([  4,  72, 132, 132], device='cuda:1') torch.Size([4])\n",
      "08/27/2023, 17:45:51# labels of 20000: tensor([156, 149,  45,  18], device='cuda:1') torch.Size([4])\n",
      "08/27/2023, 17:45:51# predicted of 20000: tensor([156, 149,  45, 102], device='cuda:1') torch.Size([4])\n",
      "08/27/2023, 17:47:16# labels of 25000: tensor([143, 159, 140, 140], device='cuda:1') torch.Size([4])\n",
      "08/27/2023, 17:47:16# predicted of 25000: tensor([110, 159, 140, 140], device='cuda:1') torch.Size([4])\n",
      "08/27/2023, 17:48:49# labels of 30000: tensor([83, 55, 54, 99], device='cuda:1') torch.Size([4])\n",
      "08/27/2023, 17:48:49# predicted of 30000: tensor([24, 24, 60, 99], device='cuda:1') torch.Size([4])\n",
      "08/27/2023, 17:49:50# total batches: 33000\n",
      "08/27/2023, 17:49:50# Epoch 29 | Train Loss: 2.7531 | Train Accuracy: 0.3826\n"
     ]
    },
    {
     "data": {
      "application/vnd.jupyter.widget-view+json": {
       "model_id": "14f9bb46a5254c5191734bcf2344fead",
       "version_major": 2,
       "version_minor": 0
      },
      "text/plain": [
       "Validation:   0%|          | 0/4125 [00:00<?, ?it/s]"
      ]
     },
     "metadata": {},
     "output_type": "display_data"
    },
    {
     "name": "stdout",
     "output_type": "stream",
     "text": [
      "08/27/2023, 17:49:50# labels of Validation: tensor([141, 118,  30, 147], device='cuda:1') torch.Size([4])\n",
      "08/27/2023, 17:49:50# predicted of Validation: tensor([131, 118,  36, 147], device='cuda:1') torch.Size([4])\n",
      "08/27/2023, 17:49:50# labels of 0: tensor([141, 118,  30, 147], device='cuda:1') torch.Size([4])\n",
      "08/27/2023, 17:49:50# predicted of 0: tensor([131, 118,  36, 147], device='cuda:1') torch.Size([4])\n",
      "08/27/2023, 17:49:57# labels of Validation: tensor([106,   6,  77, 156], device='cuda:1') torch.Size([4])\n",
      "08/27/2023, 17:49:57# predicted of Validation: tensor([106, 161, 131, 156], device='cuda:1') torch.Size([4])\n",
      "08/27/2023, 17:50:03# labels of Validation: tensor([135, 139, 155, 138], device='cuda:1') torch.Size([4])\n",
      "08/27/2023, 17:50:03# predicted of Validation: tensor([ 36,  36,  28, 138], device='cuda:1') torch.Size([4])\n",
      "08/27/2023, 17:50:10# labels of Validation: tensor([117,  25,  18,  46], device='cuda:1') torch.Size([4])\n",
      "08/27/2023, 17:50:10# predicted of Validation: tensor([117,  25,  36,  36], device='cuda:1') torch.Size([4])\n",
      "08/27/2023, 17:50:16# labels of Validation: tensor([160,  11,  96,  46], device='cuda:1') torch.Size([4])\n",
      "08/27/2023, 17:50:16# predicted of Validation: tensor([131,  36,  96,  36], device='cuda:1') torch.Size([4])\n",
      "08/27/2023, 17:50:17# Validation Loss: 2.7420 | Validation Accuracy: 0.3808\n",
      "\n"
     ]
    },
    {
     "data": {
      "application/vnd.jupyter.widget-view+json": {
       "model_id": "5ddf824bec9d414dbb416ccf73798c3f",
       "version_major": 2,
       "version_minor": 0
      },
      "text/plain": [
       "Training:   0%|          | 0/33000 [00:00<?, ?it/s]"
      ]
     },
     "metadata": {},
     "output_type": "display_data"
    },
    {
     "name": "stdout",
     "output_type": "stream",
     "text": [
      "08/27/2023, 17:51:50# labels of 5000: tensor([110, 108,  26, 135], device='cuda:1') torch.Size([4])\n",
      "08/27/2023, 17:51:50# predicted of 5000: tensor([ 91, 132, 163, 163], device='cuda:1') torch.Size([4])\n",
      "08/27/2023, 17:53:16# labels of 10000: tensor([  1,  27,  73, 109], device='cuda:1') torch.Size([4])\n",
      "08/27/2023, 17:53:16# predicted of 10000: tensor([33, 27, 73, 33], device='cuda:1') torch.Size([4])\n",
      "08/27/2023, 17:54:38# labels of 15000: tensor([ 16, 115, 108, 109], device='cuda:1') torch.Size([4])\n",
      "08/27/2023, 17:54:38# predicted of 15000: tensor([ 16, 115,  28, 104], device='cuda:1') torch.Size([4])\n",
      "08/27/2023, 17:56:15# labels of 20000: tensor([ 74, 150,  95,  63], device='cuda:1') torch.Size([4])\n",
      "08/27/2023, 17:56:15# predicted of 20000: tensor([ 49, 135,  95,  44], device='cuda:1') torch.Size([4])\n",
      "08/27/2023, 17:57:56# labels of 25000: tensor([ 0, 56, 15, 95], device='cuda:1') torch.Size([4])\n",
      "08/27/2023, 17:57:56# predicted of 25000: tensor([ 0, 56, 15, 95], device='cuda:1') torch.Size([4])\n",
      "08/27/2023, 17:59:36# labels of 30000: tensor([ 12,  74, 105,  61], device='cuda:1') torch.Size([4])\n",
      "08/27/2023, 17:59:36# predicted of 30000: tensor([ 81, 162, 105,  61], device='cuda:1') torch.Size([4])\n",
      "08/27/2023, 18:00:12# total batches: 33000\n",
      "08/27/2023, 18:00:12# Epoch 30 | Train Loss: 2.7532 | Train Accuracy: 0.3829\n"
     ]
    },
    {
     "data": {
      "application/vnd.jupyter.widget-view+json": {
       "model_id": "3dc61126d13743b2ba825b1313627454",
       "version_major": 2,
       "version_minor": 0
      },
      "text/plain": [
       "Validation:   0%|          | 0/4125 [00:00<?, ?it/s]"
      ]
     },
     "metadata": {},
     "output_type": "display_data"
    },
    {
     "name": "stdout",
     "output_type": "stream",
     "text": [
      "08/27/2023, 18:00:12# labels of Validation: tensor([ 62,  73, 122,  49], device='cuda:1') torch.Size([4])\n",
      "08/27/2023, 18:00:12# predicted of Validation: tensor([ 62,  73, 122,  75], device='cuda:1') torch.Size([4])\n",
      "08/27/2023, 18:00:12# labels of 0: tensor([ 62,  73, 122,  49], device='cuda:1') torch.Size([4])\n",
      "08/27/2023, 18:00:12# predicted of 0: tensor([ 62,  73, 122,  75], device='cuda:1') torch.Size([4])\n",
      "08/27/2023, 18:00:20# labels of Validation: tensor([ 87,  80, 101, 157], device='cuda:1') torch.Size([4])\n",
      "08/27/2023, 18:00:20# predicted of Validation: tensor([ 75,  80, 132,  75], device='cuda:1') torch.Size([4])\n",
      "08/27/2023, 18:00:27# labels of Validation: tensor([ 17, 123, 123,  21], device='cuda:1') torch.Size([4])\n",
      "08/27/2023, 18:00:27# predicted of Validation: tensor([ 17, 123, 123, 132], device='cuda:1') torch.Size([4])\n",
      "08/27/2023, 18:00:35# labels of Validation: tensor([  5,  73, 101,  97], device='cuda:1') torch.Size([4])\n",
      "08/27/2023, 18:00:35# predicted of Validation: tensor([  5,  73, 132,  75], device='cuda:1') torch.Size([4])\n",
      "08/27/2023, 18:00:42# labels of Validation: tensor([ 66,  11,  69, 116], device='cuda:1') torch.Size([4])\n",
      "08/27/2023, 18:00:42# predicted of Validation: tensor([132,  75,  69,  75], device='cuda:1') torch.Size([4])\n",
      "08/27/2023, 18:00:43# Validation Loss: 2.7418 | Validation Accuracy: 0.3810\n",
      "\n"
     ]
    },
    {
     "data": {
      "application/vnd.jupyter.widget-view+json": {
       "model_id": "ccf26098237040e180ec726807f6331c",
       "version_major": 2,
       "version_minor": 0
      },
      "text/plain": [
       "Training:   0%|          | 0/33000 [00:00<?, ?it/s]"
      ]
     },
     "metadata": {},
     "output_type": "display_data"
    },
    {
     "name": "stdout",
     "output_type": "stream",
     "text": [
      "08/27/2023, 18:01:44# labels of 5000: tensor([ 98,  12, 102, 119], device='cuda:1') torch.Size([4])\n",
      "08/27/2023, 18:01:44# predicted of 5000: tensor([ 19,  90,  19, 116], device='cuda:1') torch.Size([4])\n",
      "08/27/2023, 18:03:26# labels of 10000: tensor([160, 130,  17,  48], device='cuda:1') torch.Size([4])\n",
      "08/27/2023, 18:03:26# predicted of 10000: tensor([ 91, 130,  17,  47], device='cuda:1') torch.Size([4])\n",
      "08/27/2023, 18:05:09# labels of 15000: tensor([12, 40, 73, 77], device='cuda:1') torch.Size([4])\n",
      "08/27/2023, 18:05:09# predicted of 15000: tensor([121,  40,  73, 132], device='cuda:1') torch.Size([4])\n",
      "08/27/2023, 18:06:48# labels of 20000: tensor([110,   3,  85,  47], device='cuda:1') torch.Size([4])\n",
      "08/27/2023, 18:06:48# predicted of 20000: tensor([132,   3,  85, 142], device='cuda:1') torch.Size([4])\n",
      "08/27/2023, 18:08:29# labels of 25000: tensor([159,  45,   8,  25], device='cuda:1') torch.Size([4])\n",
      "08/27/2023, 18:08:29# predicted of 25000: tensor([159,  45,  51,  25], device='cuda:1') torch.Size([4])\n",
      "08/27/2023, 18:10:02# labels of 30000: tensor([115, 155,  72,  14], device='cuda:1') torch.Size([4])\n",
      "08/27/2023, 18:10:02# predicted of 30000: tensor([115, 132,  72, 102], device='cuda:1') torch.Size([4])\n",
      "08/27/2023, 18:11:02# total batches: 33000\n",
      "08/27/2023, 18:11:02# Epoch 31 | Train Loss: 2.7531 | Train Accuracy: 0.3834\n"
     ]
    },
    {
     "data": {
      "application/vnd.jupyter.widget-view+json": {
       "model_id": "5fae85f1460f4ae08f8047ee73ed0d10",
       "version_major": 2,
       "version_minor": 0
      },
      "text/plain": [
       "Validation:   0%|          | 0/4125 [00:00<?, ?it/s]"
      ]
     },
     "metadata": {},
     "output_type": "display_data"
    },
    {
     "name": "stdout",
     "output_type": "stream",
     "text": [
      "08/27/2023, 18:11:02# labels of Validation: tensor([ 74, 159,  92, 145], device='cuda:1') torch.Size([4])\n",
      "08/27/2023, 18:11:02# predicted of Validation: tensor([124, 159, 124, 145], device='cuda:1') torch.Size([4])\n",
      "08/27/2023, 18:11:02# labels of 0: tensor([ 74, 159,  92, 145], device='cuda:1') torch.Size([4])\n",
      "08/27/2023, 18:11:02# predicted of 0: tensor([124, 159, 124, 145], device='cuda:1') torch.Size([4])\n",
      "08/27/2023, 18:11:12# labels of Validation: tensor([ 16, 105,  26,  97], device='cuda:1') torch.Size([4])\n",
      "08/27/2023, 18:11:12# predicted of Validation: tensor([ 16, 105, 124, 124], device='cuda:1') torch.Size([4])\n",
      "08/27/2023, 18:11:22# labels of Validation: tensor([142, 111,  80, 105], device='cuda:1') torch.Size([4])\n",
      "08/27/2023, 18:11:22# predicted of Validation: tensor([124, 124,  80, 105], device='cuda:1') torch.Size([4])\n",
      "08/27/2023, 18:11:34# labels of Validation: tensor([ 12,  53, 102,   7], device='cuda:1') torch.Size([4])\n",
      "08/27/2023, 18:11:34# predicted of Validation: tensor([124, 124, 124,   7], device='cuda:1') torch.Size([4])\n",
      "08/27/2023, 18:11:46# labels of Validation: tensor([ 70, 143, 115,  59], device='cuda:1') torch.Size([4])\n",
      "08/27/2023, 18:11:46# predicted of Validation: tensor([ 70, 124, 115,   6], device='cuda:1') torch.Size([4])\n",
      "08/27/2023, 18:11:47# Validation Loss: 2.7410 | Validation Accuracy: 0.3812\n",
      "\n"
     ]
    },
    {
     "data": {
      "application/vnd.jupyter.widget-view+json": {
       "model_id": "8d26e0dfd426421496ff29edd6aa6f82",
       "version_major": 2,
       "version_minor": 0
      },
      "text/plain": [
       "Training:   0%|          | 0/33000 [00:00<?, ?it/s]"
      ]
     },
     "metadata": {},
     "output_type": "display_data"
    },
    {
     "name": "stdout",
     "output_type": "stream",
     "text": [
      "08/27/2023, 18:13:16# labels of 5000: tensor([138,  71,  24,  23], device='cuda:1') torch.Size([4])\n",
      "08/27/2023, 18:13:16# predicted of 5000: tensor([138, 141,  42,  23], device='cuda:1') torch.Size([4])\n",
      "08/27/2023, 18:14:44# labels of 10000: tensor([ 73,  52,   9, 101], device='cuda:1') torch.Size([4])\n",
      "08/27/2023, 18:14:44# predicted of 10000: tensor([ 73,  52,  12, 101], device='cuda:1') torch.Size([4])\n",
      "08/27/2023, 18:16:15# labels of 15000: tensor([ 30, 144,  77,  43], device='cuda:1') torch.Size([4])\n",
      "08/27/2023, 18:16:15# predicted of 15000: tensor([  2,  63, 131,  36], device='cuda:1') torch.Size([4])\n",
      "08/27/2023, 18:17:47# labels of 20000: tensor([153,  85,  72, 148], device='cuda:1') torch.Size([4])\n",
      "08/27/2023, 18:17:47# predicted of 20000: tensor([  9,  85,  72, 131], device='cuda:1') torch.Size([4])\n",
      "08/27/2023, 18:19:15# labels of 25000: tensor([25, 20, 11, 60], device='cuda:1') torch.Size([4])\n",
      "08/27/2023, 18:19:16# predicted of 25000: tensor([ 25,  92,  92, 104], device='cuda:1') torch.Size([4])\n",
      "08/27/2023, 18:20:49# labels of 30000: tensor([ 93, 116, 127,  46], device='cuda:1') torch.Size([4])\n",
      "08/27/2023, 18:20:49# predicted of 30000: tensor([114, 152, 127, 114], device='cuda:1') torch.Size([4])\n",
      "08/27/2023, 18:21:44# total batches: 33000\n",
      "08/27/2023, 18:21:44# Epoch 32 | Train Loss: 2.7529 | Train Accuracy: 0.3826\n"
     ]
    },
    {
     "data": {
      "application/vnd.jupyter.widget-view+json": {
       "model_id": "24c42be6b3384e7e8b573be273e36d29",
       "version_major": 2,
       "version_minor": 0
      },
      "text/plain": [
       "Validation:   0%|          | 0/4125 [00:00<?, ?it/s]"
      ]
     },
     "metadata": {},
     "output_type": "display_data"
    },
    {
     "name": "stdout",
     "output_type": "stream",
     "text": [
      "08/27/2023, 18:21:44# labels of Validation: tensor([149, 152, 166,  50], device='cuda:1') torch.Size([4])\n",
      "08/27/2023, 18:21:44# predicted of Validation: tensor([149,  30, 108,  50], device='cuda:1') torch.Size([4])\n",
      "08/27/2023, 18:21:44# labels of 0: tensor([149, 152, 166,  50], device='cuda:1') torch.Size([4])\n",
      "08/27/2023, 18:21:44# predicted of 0: tensor([149,  30, 108,  50], device='cuda:1') torch.Size([4])\n",
      "08/27/2023, 18:21:55# labels of Validation: tensor([ 20, 164,  49, 163], device='cuda:1') torch.Size([4])\n",
      "08/27/2023, 18:21:55# predicted of Validation: tensor([30, 30, 30, 30], device='cuda:1') torch.Size([4])\n",
      "08/27/2023, 18:22:05# labels of Validation: tensor([119,  72, 119,  57], device='cuda:1') torch.Size([4])\n",
      "08/27/2023, 18:22:05# predicted of Validation: tensor([30, 72, 30, 30], device='cuda:1') torch.Size([4])\n",
      "08/27/2023, 18:22:15# labels of Validation: tensor([ 47,  12,  86, 136], device='cuda:1') torch.Size([4])\n",
      "08/27/2023, 18:22:15# predicted of Validation: tensor([ 30,  30,  30, 136], device='cuda:1') torch.Size([4])\n",
      "08/27/2023, 18:22:27# labels of Validation: tensor([ 27,   4,  20, 156], device='cuda:1') torch.Size([4])\n",
      "08/27/2023, 18:22:27# predicted of Validation: tensor([ 27,  30,  30, 156], device='cuda:1') torch.Size([4])\n",
      "08/27/2023, 18:22:28# Validation Loss: 2.7412 | Validation Accuracy: 0.3811\n",
      "\n"
     ]
    },
    {
     "data": {
      "application/vnd.jupyter.widget-view+json": {
       "model_id": "85bd4501eb5f460d94eebc7a14982282",
       "version_major": 2,
       "version_minor": 0
      },
      "text/plain": [
       "Training:   0%|          | 0/33000 [00:00<?, ?it/s]"
      ]
     },
     "metadata": {},
     "output_type": "display_data"
    },
    {
     "name": "stdout",
     "output_type": "stream",
     "text": [
      "08/27/2023, 18:23:57# labels of 5000: tensor([ 88, 159,  37,  20], device='cuda:1') torch.Size([4])\n",
      "08/27/2023, 18:23:57# predicted of 5000: tensor([108, 159,  64,  64], device='cuda:1') torch.Size([4])\n",
      "08/27/2023, 18:25:27# labels of 10000: tensor([135,  53, 140, 143], device='cuda:1') torch.Size([4])\n",
      "08/27/2023, 18:25:27# predicted of 10000: tensor([ 18,  97, 140,  97], device='cuda:1') torch.Size([4])\n",
      "08/27/2023, 18:27:00# labels of 15000: tensor([ 74, 160, 165, 104], device='cuda:1') torch.Size([4])\n",
      "08/27/2023, 18:27:00# predicted of 15000: tensor([ 44, 148, 165,  44], device='cuda:1') torch.Size([4])\n",
      "08/27/2023, 18:28:31# labels of 20000: tensor([ 48, 136,  34,  82], device='cuda:1') torch.Size([4])\n",
      "08/27/2023, 18:28:31# predicted of 20000: tensor([ 41, 136, 144,  82], device='cuda:1') torch.Size([4])\n",
      "08/27/2023, 18:30:00# labels of 25000: tensor([ 92,  83, 101,  12], device='cuda:1') torch.Size([4])\n",
      "08/27/2023, 18:30:00# predicted of 25000: tensor([153, 137,  51, 153], device='cuda:1') torch.Size([4])\n",
      "08/27/2023, 18:31:23# labels of 30000: tensor([ 6, 98, 97, 91], device='cuda:1') torch.Size([4])\n",
      "08/27/2023, 18:31:23# predicted of 30000: tensor([132,  93,  18,  28], device='cuda:1') torch.Size([4])\n",
      "08/27/2023, 18:32:10# total batches: 33000\n",
      "08/27/2023, 18:32:10# Epoch 33 | Train Loss: 2.7529 | Train Accuracy: 0.3829\n"
     ]
    },
    {
     "data": {
      "application/vnd.jupyter.widget-view+json": {
       "model_id": "1d3eca56efe14273b2d95b4def68a80c",
       "version_major": 2,
       "version_minor": 0
      },
      "text/plain": [
       "Validation:   0%|          | 0/4125 [00:00<?, ?it/s]"
      ]
     },
     "metadata": {},
     "output_type": "display_data"
    },
    {
     "name": "stdout",
     "output_type": "stream",
     "text": [
      "08/27/2023, 18:32:10# labels of Validation: tensor([  9, 149,  54,   8], device='cuda:1') torch.Size([4])\n",
      "08/27/2023, 18:32:10# predicted of Validation: tensor([109, 149, 109,  28], device='cuda:1') torch.Size([4])\n",
      "08/27/2023, 18:32:10# labels of 0: tensor([  9, 149,  54,   8], device='cuda:1') torch.Size([4])\n",
      "08/27/2023, 18:32:10# predicted of 0: tensor([109, 149, 109,  28], device='cuda:1') torch.Size([4])\n",
      "08/27/2023, 18:32:18# labels of Validation: tensor([128,  25,  97, 162], device='cuda:1') torch.Size([4])\n",
      "08/27/2023, 18:32:18# predicted of Validation: tensor([128,  25, 109, 109], device='cuda:1') torch.Size([4])\n",
      "08/27/2023, 18:32:27# labels of Validation: tensor([121, 156,  24,  76], device='cuda:1') torch.Size([4])\n",
      "08/27/2023, 18:32:27# predicted of Validation: tensor([109, 156, 109, 109], device='cuda:1') torch.Size([4])\n",
      "08/27/2023, 18:32:36# labels of Validation: tensor([ 18,  16, 158,  85], device='cuda:1') torch.Size([4])\n",
      "08/27/2023, 18:32:36# predicted of Validation: tensor([109,  16, 109,  85], device='cuda:1') torch.Size([4])\n",
      "08/27/2023, 18:32:44# labels of Validation: tensor([151,  70,  26,  26], device='cuda:1') torch.Size([4])\n",
      "08/27/2023, 18:32:44# predicted of Validation: tensor([109,  70, 109, 109], device='cuda:1') torch.Size([4])\n",
      "08/27/2023, 18:32:45# Validation Loss: 2.7420 | Validation Accuracy: 0.3810\n",
      "\n"
     ]
    },
    {
     "data": {
      "application/vnd.jupyter.widget-view+json": {
       "model_id": "89e63063a7d2443a857d451468f7f288",
       "version_major": 2,
       "version_minor": 0
      },
      "text/plain": [
       "Training:   0%|          | 0/33000 [00:00<?, ?it/s]"
      ]
     },
     "metadata": {},
     "output_type": "display_data"
    },
    {
     "name": "stdout",
     "output_type": "stream",
     "text": [
      "08/27/2023, 18:34:06# labels of 5000: tensor([146,  29,   2, 104], device='cuda:1') torch.Size([4])\n",
      "08/27/2023, 18:34:06# predicted of 5000: tensor([146,  29, 157, 157], device='cuda:1') torch.Size([4])\n",
      "08/27/2023, 18:35:26# labels of 10000: tensor([128,   9,  14, 122], device='cuda:1') torch.Size([4])\n",
      "08/27/2023, 18:35:26# predicted of 10000: tensor([128, 152, 152, 122], device='cuda:1') torch.Size([4])\n",
      "08/27/2023, 18:36:38# labels of 15000: tensor([ 90, 109, 157,  38], device='cuda:1') torch.Size([4])\n",
      "08/27/2023, 18:36:38# predicted of 15000: tensor([132,  36,  36,  36], device='cuda:1') torch.Size([4])\n",
      "08/27/2023, 18:37:55# labels of 20000: tensor([  2, 114,  49,  48], device='cuda:1') torch.Size([4])\n",
      "08/27/2023, 18:37:55# predicted of 20000: tensor([158,  90,  87,  87], device='cuda:1') torch.Size([4])\n",
      "08/27/2023, 18:39:14# labels of 25000: tensor([154, 136,  23,  31], device='cuda:1') torch.Size([4])\n",
      "08/27/2023, 18:39:14# predicted of 25000: tensor([154, 136,  23, 116], device='cuda:1') torch.Size([4])\n",
      "08/27/2023, 18:40:35# labels of 30000: tensor([145,  56,  69,  49], device='cuda:1') torch.Size([4])\n",
      "08/27/2023, 18:40:35# predicted of 30000: tensor([145,  56,  69,   9], device='cuda:1') torch.Size([4])\n",
      "08/27/2023, 18:41:22# total batches: 33000\n",
      "08/27/2023, 18:41:22# Epoch 34 | Train Loss: 2.7527 | Train Accuracy: 0.3835\n"
     ]
    },
    {
     "data": {
      "application/vnd.jupyter.widget-view+json": {
       "model_id": "2d4f941896a043a3a640c4e6ebd53b1a",
       "version_major": 2,
       "version_minor": 0
      },
      "text/plain": [
       "Validation:   0%|          | 0/4125 [00:00<?, ?it/s]"
      ]
     },
     "metadata": {},
     "output_type": "display_data"
    },
    {
     "name": "stdout",
     "output_type": "stream",
     "text": [
      "08/27/2023, 18:41:22# labels of Validation: tensor([96, 62, 14, 97], device='cuda:1') torch.Size([4])\n",
      "08/27/2023, 18:41:22# predicted of Validation: tensor([ 96,  62, 139, 139], device='cuda:1') torch.Size([4])\n",
      "08/27/2023, 18:41:22# labels of 0: tensor([96, 62, 14, 97], device='cuda:1') torch.Size([4])\n",
      "08/27/2023, 18:41:22# predicted of 0: tensor([ 96,  62, 139, 139], device='cuda:1') torch.Size([4])\n",
      "08/27/2023, 18:41:29# labels of Validation: tensor([150,  57,  51, 112], device='cuda:1') torch.Size([4])\n",
      "08/27/2023, 18:41:29# predicted of Validation: tensor([139, 139, 132, 139], device='cuda:1') torch.Size([4])\n",
      "08/27/2023, 18:41:37# labels of Validation: tensor([ 71, 152, 129, 139], device='cuda:1') torch.Size([4])\n",
      "08/27/2023, 18:41:37# predicted of Validation: tensor([139, 139,  91, 139], device='cuda:1') torch.Size([4])\n",
      "08/27/2023, 18:41:45# labels of Validation: tensor([104,  59,  35, 115], device='cuda:1') torch.Size([4])\n",
      "08/27/2023, 18:41:45# predicted of Validation: tensor([139, 132,  35, 115], device='cuda:1') torch.Size([4])\n",
      "08/27/2023, 18:41:53# labels of Validation: tensor([142,  51,  95, 142], device='cuda:1') torch.Size([4])\n",
      "08/27/2023, 18:41:53# predicted of Validation: tensor([139, 132,  95, 139], device='cuda:1') torch.Size([4])\n",
      "08/27/2023, 18:41:54# Validation Loss: 2.7419 | Validation Accuracy: 0.3812\n",
      "\n"
     ]
    },
    {
     "data": {
      "application/vnd.jupyter.widget-view+json": {
       "model_id": "6f2d3c7655ec46dfaf92a9828706aa55",
       "version_major": 2,
       "version_minor": 0
      },
      "text/plain": [
       "Training:   0%|          | 0/33000 [00:00<?, ?it/s]"
      ]
     },
     "metadata": {},
     "output_type": "display_data"
    },
    {
     "name": "stdout",
     "output_type": "stream",
     "text": [
      "08/27/2023, 18:43:12# labels of 5000: tensor([137,  92,  98,  23], device='cuda:1') torch.Size([4])\n",
      "08/27/2023, 18:43:12# predicted of 5000: tensor([ 2,  2,  2, 23], device='cuda:1') torch.Size([4])\n",
      "08/27/2023, 18:44:28# labels of 10000: tensor([ 71, 115,  15, 162], device='cuda:1') torch.Size([4])\n",
      "08/27/2023, 18:44:28# predicted of 10000: tensor([158, 115,  15, 112], device='cuda:1') torch.Size([4])\n",
      "08/27/2023, 18:46:07# labels of 15000: tensor([108,  30,  69,  25], device='cuda:1') torch.Size([4])\n",
      "08/27/2023, 18:46:07# predicted of 15000: tensor([ 6, 76, 69, 25], device='cuda:1') torch.Size([4])\n",
      "08/27/2023, 18:47:42# labels of 20000: tensor([161, 115, 103,  67], device='cuda:1') torch.Size([4])\n",
      "08/27/2023, 18:47:42# predicted of 20000: tensor([132, 115, 101,  67], device='cuda:1') torch.Size([4])\n",
      "08/27/2023, 18:49:08# labels of 25000: tensor([152,  95,  60,  85], device='cuda:1') torch.Size([4])\n",
      "08/27/2023, 18:49:08# predicted of 25000: tensor([143,  95, 143,  85], device='cuda:1') torch.Size([4])\n",
      "08/27/2023, 18:50:24# labels of 30000: tensor([159, 133,  28,  62], device='cuda:1') torch.Size([4])\n",
      "08/27/2023, 18:50:24# predicted of 30000: tensor([159,  51, 132,  62], device='cuda:1') torch.Size([4])\n",
      "08/27/2023, 18:51:25# total batches: 33000\n",
      "08/27/2023, 18:51:25# Epoch 35 | Train Loss: 2.7526 | Train Accuracy: 0.3828\n"
     ]
    },
    {
     "data": {
      "application/vnd.jupyter.widget-view+json": {
       "model_id": "c37f69c9e4124d02a6658cb9845e96d7",
       "version_major": 2,
       "version_minor": 0
      },
      "text/plain": [
       "Validation:   0%|          | 0/4125 [00:00<?, ?it/s]"
      ]
     },
     "metadata": {},
     "output_type": "display_data"
    },
    {
     "name": "stdout",
     "output_type": "stream",
     "text": [
      "08/27/2023, 18:51:25# labels of Validation: tensor([118,  88,  30, 101], device='cuda:1') torch.Size([4])\n",
      "08/27/2023, 18:51:25# predicted of Validation: tensor([118,  91,  53, 161], device='cuda:1') torch.Size([4])\n",
      "08/27/2023, 18:51:25# labels of 0: tensor([118,  88,  30, 101], device='cuda:1') torch.Size([4])\n",
      "08/27/2023, 18:51:25# predicted of 0: tensor([118,  91,  53, 161], device='cuda:1') torch.Size([4])\n",
      "08/27/2023, 18:51:32# labels of Validation: tensor([ 17, 164,  58, 146], device='cuda:1') torch.Size([4])\n",
      "08/27/2023, 18:51:32# predicted of Validation: tensor([ 17,  53,  53, 146], device='cuda:1') torch.Size([4])\n",
      "08/27/2023, 18:51:39# labels of Validation: tensor([47, 38, 71, 38], device='cuda:1') torch.Size([4])\n",
      "08/27/2023, 18:51:39# predicted of Validation: tensor([53, 53, 53, 53], device='cuda:1') torch.Size([4])\n",
      "08/27/2023, 18:51:47# labels of Validation: tensor([ 14,  24, 156,  45], device='cuda:1') torch.Size([4])\n",
      "08/27/2023, 18:51:47# predicted of Validation: tensor([ 53,  53, 156,  45], device='cuda:1') torch.Size([4])\n",
      "08/27/2023, 18:51:55# labels of Validation: tensor([ 35,  64,  59, 113], device='cuda:1') torch.Size([4])\n",
      "08/27/2023, 18:51:55# predicted of Validation: tensor([ 35,  91, 161,  91], device='cuda:1') torch.Size([4])\n",
      "08/27/2023, 18:51:56# Validation Loss: 2.7406 | Validation Accuracy: 0.3818\n",
      "\n"
     ]
    },
    {
     "data": {
      "application/vnd.jupyter.widget-view+json": {
       "model_id": "371d67fc10c448eb86c638b8a71484a1",
       "version_major": 2,
       "version_minor": 0
      },
      "text/plain": [
       "Training:   0%|          | 0/33000 [00:00<?, ?it/s]"
      ]
     },
     "metadata": {},
     "output_type": "display_data"
    },
    {
     "name": "stdout",
     "output_type": "stream",
     "text": [
      "08/27/2023, 18:53:31# labels of 5000: tensor([66, 89,  0, 10], device='cuda:1') torch.Size([4])\n",
      "08/27/2023, 18:53:31# predicted of 5000: tensor([132,  89,   0, 116], device='cuda:1') torch.Size([4])\n",
      "08/27/2023, 18:55:06# labels of 10000: tensor([ 23,  71,  92, 149], device='cuda:1') torch.Size([4])\n",
      "08/27/2023, 18:55:06# predicted of 10000: tensor([ 23,  76,  76, 149], device='cuda:1') torch.Size([4])\n",
      "08/27/2023, 18:56:40# labels of 15000: tensor([157, 150,  48,  13], device='cuda:1') torch.Size([4])\n",
      "08/27/2023, 18:56:40# predicted of 15000: tensor([ 88,  88, 153,  13], device='cuda:1') torch.Size([4])\n",
      "08/27/2023, 18:58:14# labels of 20000: tensor([26,  8, 47, 98], device='cuda:1') torch.Size([4])\n",
      "08/27/2023, 18:58:14# predicted of 20000: tensor([ 34, 155,  34,  34], device='cuda:1') torch.Size([4])\n",
      "08/27/2023, 18:59:54# labels of 25000: tensor([154, 159,  32, 141], device='cuda:1') torch.Size([4])\n",
      "08/27/2023, 18:59:54# predicted of 25000: tensor([154, 159,  32,   6], device='cuda:1') torch.Size([4])\n",
      "08/27/2023, 19:01:31# labels of 30000: tensor([ 96, 116, 147, 148], device='cuda:1') torch.Size([4])\n",
      "08/27/2023, 19:01:31# predicted of 30000: tensor([ 96,   4, 147,  93], device='cuda:1') torch.Size([4])\n",
      "08/27/2023, 19:02:32# total batches: 33000\n",
      "08/27/2023, 19:02:32# Epoch 36 | Train Loss: 2.7531 | Train Accuracy: 0.3835\n"
     ]
    },
    {
     "data": {
      "application/vnd.jupyter.widget-view+json": {
       "model_id": "0215f14b31704ac5b203febbaa7035a0",
       "version_major": 2,
       "version_minor": 0
      },
      "text/plain": [
       "Validation:   0%|          | 0/4125 [00:00<?, ?it/s]"
      ]
     },
     "metadata": {},
     "output_type": "display_data"
    },
    {
     "name": "stdout",
     "output_type": "stream",
     "text": [
      "08/27/2023, 19:02:32# labels of Validation: tensor([  0,  41, 123, 107], device='cuda:1') torch.Size([4])\n",
      "08/27/2023, 19:02:32# predicted of Validation: tensor([  0,  24, 123,  28], device='cuda:1') torch.Size([4])\n",
      "08/27/2023, 19:02:32# labels of 0: tensor([  0,  41, 123, 107], device='cuda:1') torch.Size([4])\n",
      "08/27/2023, 19:02:32# predicted of 0: tensor([  0,  24, 123,  28], device='cuda:1') torch.Size([4])\n",
      "08/27/2023, 19:02:39# labels of Validation: tensor([ 10, 125,  40,  54], device='cuda:1') torch.Size([4])\n",
      "08/27/2023, 19:02:39# predicted of Validation: tensor([24, 24, 40, 24], device='cuda:1') torch.Size([4])\n",
      "08/27/2023, 19:02:46# labels of Validation: tensor([147,  92, 103,  26], device='cuda:1') torch.Size([4])\n",
      "08/27/2023, 19:02:46# predicted of Validation: tensor([147,  24,  28,  24], device='cuda:1') torch.Size([4])\n",
      "08/27/2023, 19:02:53# labels of Validation: tensor([ 52, 163, 128,  45], device='cuda:1') torch.Size([4])\n",
      "08/27/2023, 19:02:53# predicted of Validation: tensor([ 52,  24, 128,  45], device='cuda:1') torch.Size([4])\n",
      "08/27/2023, 19:03:00# labels of Validation: tensor([95, 30, 20, 55], device='cuda:1') torch.Size([4])\n",
      "08/27/2023, 19:03:00# predicted of Validation: tensor([95, 24, 24, 24], device='cuda:1') torch.Size([4])\n",
      "08/27/2023, 19:03:01# Validation Loss: 2.7411 | Validation Accuracy: 0.3821\n",
      "\n"
     ]
    },
    {
     "data": {
      "application/vnd.jupyter.widget-view+json": {
       "model_id": "57091293397041aba50480f9ea68dae1",
       "version_major": 2,
       "version_minor": 0
      },
      "text/plain": [
       "Training:   0%|          | 0/33000 [00:00<?, ?it/s]"
      ]
     },
     "metadata": {},
     "output_type": "display_data"
    },
    {
     "name": "stdout",
     "output_type": "stream",
     "text": [
      "08/27/2023, 19:04:24# labels of 5000: tensor([ 28, 103, 163,  43], device='cuda:1') torch.Size([4])\n",
      "08/27/2023, 19:04:24# predicted of 5000: tensor([132, 132,   1,   4], device='cuda:1') torch.Size([4])\n",
      "08/27/2023, 19:05:33# labels of 10000: tensor([162,  90,  40,  55], device='cuda:1') torch.Size([4])\n",
      "08/27/2023, 19:05:33# predicted of 10000: tensor([ 87, 131,  40,  76], device='cuda:1') torch.Size([4])\n",
      "08/27/2023, 19:06:49# labels of 15000: tensor([ 66, 112,   2,  64], device='cuda:1') torch.Size([4])\n",
      "08/27/2023, 19:06:49# predicted of 15000: tensor([132,  75,  18, 155], device='cuda:1') torch.Size([4])\n"
     ]
    }
   ],
   "source": [
    "from torch.optim import AdamW, lr_scheduler\n",
    "\n",
    "seed = 6969\n",
    "same_seeds(seed)\n",
    "\n",
    "model = GAT(in_dim=50, hidden_dim=16, out_dim=168, num_heads=8)\n",
    "# in_dim means the dimension of the node_feat(50 dim, since the 50-dim embedding)\n",
    "# out_dim means the # of the categories -> 168 for out tasks\n",
    "model.load_state_dict(torch.load('model1_initial/initial_weight.pth'))\n",
    "best_model_path = \"../checkpoint_GAT/best_model_GAT_2.pt\"\n",
    "\n",
    "model = model.to(device)\n",
    "\n",
    "# optimizer = torch.optim.AdamW(model.parameters(), lr=1e-5)\n",
    "optimizer = AdamW(model.parameters(), lr=5e-4)\n",
    "# scheduler = get_linear_schedule_with_warmup(optimizer, num_warmup_steps=18, num_training_steps=total_steps)\n",
    "\n",
    "# T_max control the period of the lr changing -> set 1/10 first\n",
    "scheduler = lr_scheduler.CosineAnnealingLR(optimizer, T_max=50, eta_min=0, last_epoch=- 1, verbose=False)\n",
    "\n",
    "\n",
    "criterion = nn.CrossEntropyLoss()\n",
    "total_steps = 1000\n",
    "\n",
    "# save the best model\n",
    "best_val_loss = float('inf')\n",
    "patience = 20  # Number of epochs with no improvement after which training will be stopped.\n",
    "waiting = 0  # The number of epochs with no improvement so far.\n",
    "\n",
    "\n",
    "# Training Part\n",
    "for epoch in tqdm(range(total_steps)):\n",
    "    # Train\n",
    "    model.train()\n",
    "    total_loss = 0.0\n",
    "    total_accuracy = 0.0\n",
    "    num_batches = 0\n",
    "#     count = 0 \n",
    "    \n",
    "    for data in tqdm(dataloaders['train'], desc=\"Training\", position=0, leave=True):\n",
    "#         count += 1\n",
    "        num_batches += 1\n",
    "        loss, accuracy, _ = model_fn(data, model, criterion, device, num_batches, which_type='train')\n",
    "        \n",
    "        optimizer.zero_grad()\n",
    "        loss.backward()\n",
    "        optimizer.step()\n",
    "\n",
    "        total_loss += loss.item()\n",
    "        total_accuracy += accuracy.item()\n",
    "\n",
    "        \n",
    "#     scheduler.step()\n",
    "    add_log_msg(f\"total batches: {num_batches}\")\n",
    "\n",
    "    avg_loss = total_loss / num_batches\n",
    "    avg_accuracy = total_accuracy / num_batches\n",
    "\n",
    "    add_log_msg(f'Epoch {epoch} | Train Loss: {avg_loss:.4f} | Train Accuracy: {avg_accuracy:.4f}')\n",
    "\n",
    "    \n",
    "    # Validation Part\n",
    "    model.eval()\n",
    "    total_accuracy = 0.0\n",
    "    total_loss = 0.0\n",
    "    num_batches = 0\n",
    "\n",
    "\n",
    "    with torch.no_grad():\n",
    "        for data in tqdm(dataloaders['valid'], desc=\"Validation\", position=0, leave=True):\n",
    "            loss, accuracy, _ = model_fn(data, model, criterion, device, num_batches, which_type='validation')\n",
    "            total_accuracy += accuracy.item()\n",
    "            total_loss += loss.item()\n",
    "            num_batches += 1\n",
    "\n",
    "    avg_accuracy = total_accuracy / num_batches\n",
    "    current_loss = total_loss / num_batches\n",
    "    \n",
    "    add_log_msg(f'Validation Loss: {current_loss:.4f} | Validation Accuracy: {avg_accuracy:.4f}\\n')\n",
    "    \n",
    "    \n",
    "    if current_loss < best_val_loss:\n",
    "        best_val_loss = current_loss\n",
    "        waiting = 0\n",
    "        \n",
    "        if os.path.exists(best_model_path):\n",
    "            os.remove(best_model_path)\n",
    "\n",
    "            torch.save({\n",
    "                    'epoch': epoch,\n",
    "                    'model_state_dict': model.state_dict(),\n",
    "                    'optimizer_state_dict': optimizer.state_dict(),\n",
    "                    'loss': loss,\n",
    "                    }, best_model_path)\n",
    "\n",
    "        else:\n",
    "            waiting += 1\n",
    "            if waiting >= patience:\n",
    "                add_log_msg(\"Early stopping\")\n",
    "                break\n",
    "\n",
    "            \n",
    "# Testing Part\n",
    "model.eval()\n",
    "total = 0\n",
    "correct = 0\n",
    "count = 0\n",
    "\n",
    "with torch.no_grad():\n",
    "    for data in tqdm(dataloaders['test'], desc=\"Testing\", position=0, leave=True):\n",
    "\n",
    "        loss, accuracy, predicted = model_fn(data, model, criterion, device, count, which_type='test')\n",
    "        labels = data[1].to(device)  # Assuming labels are the second element in the tuple\n",
    "        \n",
    "        add_log_msg(f\"labels: {labels} {labels.shape}\")\n",
    "        add_log_msg(f\"predicted: {predicted} {predicted.shape}\")\n",
    "        count += 1\n",
    "        \n",
    "        total += labels.size(0) # label.size(0) is the batch size\n",
    "        correct += (predicted == labels).sum().item() \n",
    "        # (predicted == labels).sum() would return how many of them are equal; \n",
    "        # .item() would make the tensor to the regular value\n",
    "        \n",
    "#     print('Test Accuracy: %d %%' % (100 * correct / total))\n",
    "add_log_msg(f'Test Accuracy: {100 * correct / total} %%')"
   ]
  },
  {
   "cell_type": "code",
   "execution_count": null,
   "metadata": {},
   "outputs": [],
   "source": []
  }
 ],
 "metadata": {
  "kernelspec": {
   "display_name": "Python 3",
   "language": "python",
   "name": "python3"
  },
  "language_info": {
   "codemirror_mode": {
    "name": "ipython",
    "version": 3
   },
   "file_extension": ".py",
   "mimetype": "text/x-python",
   "name": "python",
   "nbconvert_exporter": "python",
   "pygments_lexer": "ipython3",
   "version": "3.6.9"
  }
 },
 "nbformat": 4,
 "nbformat_minor": 2
}
