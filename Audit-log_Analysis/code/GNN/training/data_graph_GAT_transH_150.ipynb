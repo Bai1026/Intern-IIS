{
 "cells": [
  {
   "cell_type": "markdown",
   "metadata": {},
   "source": [
    "# Test of GAT\n",
    "- use DGL\n",
    "- predict `graphs`\n",
    "- test: 0~99\n",
    "- validation: 100~199\n",
    "- train: 200~999\n",
    "- larger lr with scheduler\n",
    "- try the sklearn report"
   ]
  },
  {
   "cell_type": "code",
   "execution_count": 1,
   "metadata": {},
   "outputs": [],
   "source": [
    "import os\n",
    "import dgl\n",
    "import json\n",
    "import torch\n",
    "import torch as th\n",
    "# from tqdm import tqdm\n",
    "from tqdm.notebook import tqdm  # 使用 notebook 版本的 tqdm\n",
    "import torch.nn as nn\n",
    "from dgl.nn import GraphConv, GATConv\n",
    "import torch.nn.functional as F\n",
    "from torch.utils.data import Dataset, DataLoader\n",
    "from transformers import get_linear_schedule_with_warmup\n",
    "from torch.optim import AdamW\n",
    "from sklearn.metrics import classification_report\n"
   ]
  },
  {
   "cell_type": "markdown",
   "metadata": {},
   "source": [
    "- check the GPU and assign the GPU by the best memory usage"
   ]
  },
  {
   "cell_type": "code",
   "execution_count": 2,
   "metadata": {},
   "outputs": [
    {
     "name": "stdout",
     "output_type": "stream",
     "text": [
      "cuda:2\n"
     ]
    }
   ],
   "source": [
    "import subprocess\n",
    "import torch\n",
    "\n",
    "def get_free_gpu():\n",
    "    try:\n",
    "        # Run nvidia-smi command to get GPU details\n",
    "        _output_to_list = lambda x: x.decode('ascii').split('\\n')[:-1]\n",
    "        command = \"nvidia-smi --query-gpu=memory.free --format=csv,nounits,noheader\"\n",
    "        memory_free_info = _output_to_list(subprocess.check_output(command.split())) \n",
    "        memory_free_values = [int(x) for i, x in enumerate(memory_free_info)]\n",
    "        \n",
    "        # Get the GPU with the maximum free memory\n",
    "        best_gpu_id = memory_free_values.index(max(memory_free_values))\n",
    "        return best_gpu_id\n",
    "    except:\n",
    "        # If any exception occurs, default to GPU 0 (this handles cases where nvidia-smi isn't installed)\n",
    "        return 0\n",
    "\n",
    "if torch.cuda.is_available():\n",
    "    # Get the best GPU ID based on free memory and set it\n",
    "    best_gpu_id = get_free_gpu()\n",
    "    device = torch.device(f\"cuda:{best_gpu_id}\")\n",
    "else:\n",
    "    device = torch.device(\"cpu\")\n",
    "    print(\"there's no available GPU\")\n",
    "\n",
    "# device = torch.device(f\"cuda:1\")\n",
    "print(device)\n"
   ]
  },
  {
   "cell_type": "markdown",
   "metadata": {},
   "source": [
    "## Fix the seed"
   ]
  },
  {
   "cell_type": "code",
   "execution_count": 3,
   "metadata": {},
   "outputs": [],
   "source": [
    "import numpy as np\n",
    "import torch\n",
    "import random\n",
    "\n",
    "#fix seed\n",
    "def same_seeds(seed = 8787):\n",
    "    torch.manual_seed(seed)\n",
    "    # random.seed(seed) \n",
    "    if torch.cuda.is_available():\n",
    "        torch.cuda.manual_seed(seed)\n",
    "        torch.cuda.manual_seed_all(seed)  \n",
    "    np.random.seed(seed)  \n",
    "    torch.backends.cudnn.benchmark = False\n",
    "    torch.backends.cudnn.deterministic = True"
   ]
  },
  {
   "cell_type": "markdown",
   "metadata": {},
   "source": [
    "## Data Loader"
   ]
  },
  {
   "cell_type": "code",
   "execution_count": 4,
   "metadata": {},
   "outputs": [],
   "source": [
    "class GraphDataset(Dataset):\n",
    "    def __init__(self, data_list, device):\n",
    "        self.data_list = data_list\n",
    "        self.device = device\n",
    "\n",
    "    def __len__(self):\n",
    "        return len(self.data_list)\n",
    "    \n",
    "    def __getitem__(self, idx):\n",
    "        data = self.data_list[idx]\n",
    "\n",
    "        g = dgl.graph((th.tensor(data[\"edge_index\"][0]), th.tensor(data[\"edge_index\"][1])), num_nodes=data[\"num_nodes\"]).to(self.device)\n",
    "\n",
    "        g.ndata['feat'] = th.tensor(data[\"node_feat\"]).to(self.device)\n",
    "        g.edata['feat'] = th.tensor(data[\"edge_attr\"]).to(self.device)  # Add edge features to graph\n",
    "\n",
    "        return g, th.tensor(data[\"label\"]).to(self.device)\n",
    "\n",
    "\n",
    "def collate(samples):\n",
    "    # The input `samples` is a list of pairs\n",
    "    #  (graph, label).\n",
    "    graphs, labels = map(list, zip(*samples))\n",
    "    batched_graph = dgl.batch(graphs)\n",
    "    return batched_graph, torch.tensor(labels)\n"
   ]
  },
  {
   "cell_type": "code",
   "execution_count": 5,
   "metadata": {},
   "outputs": [
    {
     "data": {
      "application/vnd.jupyter.widget-view+json": {
       "model_id": "4083365bcae54824b560e6116314fd74",
       "version_major": 2,
       "version_minor": 0
      },
      "text/plain": [
       "  0%|          | 0/3 [00:00<?, ?it/s]"
      ]
     },
     "metadata": {},
     "output_type": "display_data"
    },
    {
     "name": "stdout",
     "output_type": "stream",
     "text": [
      "../../data_processing/dgl/data_new/training_data/transH_150/train.jsonl\n"
     ]
    },
    {
     "data": {
      "application/vnd.jupyter.widget-view+json": {
       "model_id": "d0e9b888c8354687afd8e1975df30474",
       "version_major": 2,
       "version_minor": 0
      },
      "text/plain": [
       "0it [00:00, ?it/s]"
      ]
     },
     "metadata": {},
     "output_type": "display_data"
    },
    {
     "name": "stdout",
     "output_type": "stream",
     "text": [
      "../../data_processing/dgl/data_new/training_data/transH_150/valid.jsonl\n"
     ]
    },
    {
     "data": {
      "application/vnd.jupyter.widget-view+json": {
       "model_id": "fed4e562fe624ac88850d78554ea4e6f",
       "version_major": 2,
       "version_minor": 0
      },
      "text/plain": [
       "0it [00:00, ?it/s]"
      ]
     },
     "metadata": {},
     "output_type": "display_data"
    },
    {
     "name": "stdout",
     "output_type": "stream",
     "text": [
      "../../data_processing/dgl/data_new/training_data/transH_150/test.jsonl\n"
     ]
    },
    {
     "data": {
      "application/vnd.jupyter.widget-view+json": {
       "model_id": "2a8f9f0d58094f56a701d5eb0f951215",
       "version_major": 2,
       "version_minor": 0
      },
      "text/plain": [
       "0it [00:00, ?it/s]"
      ]
     },
     "metadata": {},
     "output_type": "display_data"
    },
    {
     "name": "stdout",
     "output_type": "stream",
     "text": [
      "Datasets loaded!\n"
     ]
    }
   ],
   "source": [
    "datasets = ['train', 'valid', 'test']\n",
    "# datasets = ['test']\n",
    "dataset_data = {}\n",
    "\n",
    "for dataset_name in tqdm(datasets):\n",
    "#     file_path = f\"../../data_processing/dgl/data/test_graph/repeated_{dataset_name}.jsonl\"\n",
    "    file_path = f\"../../data_processing/dgl/data_new/training_data/transH_150/{dataset_name}.jsonl\"\n",
    "    \n",
    "    print(file_path)\n",
    "    with open(file_path) as f:\n",
    "        data_list = [json.loads(line) for line in tqdm(f, position=0, leave=True)]\n",
    "    \n",
    "    dataset_data[dataset_name] = GraphDataset(data_list, device)\n",
    "\n",
    "print(\"Datasets loaded!\")"
   ]
  },
  {
   "cell_type": "markdown",
   "metadata": {},
   "source": [
    "- choose batch size"
   ]
  },
  {
   "cell_type": "code",
   "execution_count": 6,
   "metadata": {},
   "outputs": [
    {
     "name": "stdout",
     "output_type": "stream",
     "text": [
      "OK!\n"
     ]
    }
   ],
   "source": [
    "def create_dataloaders(batch_size, shuffle=True):\n",
    "    dataloaders = {}\n",
    "    for dataset_name, dataset in dataset_data.items():\n",
    "        # do not shuffle the testing dataset\n",
    "        if dataset_name == \"test\":\n",
    "            dataloaders[dataset_name] = DataLoader(dataset, batch_size=batch_size, shuffle=False, collate_fn=collate)    \n",
    "        else:\n",
    "            dataloaders[dataset_name] = DataLoader(dataset, batch_size=batch_size, shuffle=shuffle, collate_fn=collate)\n",
    "    return dataloaders\n",
    "\n",
    "# dataloaders = create_dataloaders(4)\n",
    "dataloaders = create_dataloaders(16)\n",
    "\n",
    "\n",
    "if (len(dataloaders['test'].dataset) + len(dataloaders['valid'].dataset) + len(dataloaders['train'].dataset)) % 165 != 0: print(\"Error data!!\")\n",
    "else: print(\"OK!\")\n"
   ]
  },
  {
   "cell_type": "markdown",
   "metadata": {},
   "source": [
    "- Turn the print message to a log file"
   ]
  },
  {
   "cell_type": "code",
   "execution_count": 7,
   "metadata": {},
   "outputs": [
    {
     "name": "stdout",
     "output_type": "stream",
     "text": [
      "(Graph(num_nodes=26, num_edges=67,\n",
      "      ndata_schemes={'feat': Scheme(shape=(150,), dtype=torch.float32)}\n",
      "      edata_schemes={'feat': Scheme(shape=(150,), dtype=torch.float32)}), tensor(7, device='cuda:2'))\n",
      "16500\n",
      "16500\n",
      "132000\n",
      "165000\n"
     ]
    }
   ],
   "source": [
    "# print(dataloaders['test'][5])\n",
    "sample = dataset_data['train'][5000]\n",
    "print(sample)\n",
    "\n",
    "print(len(dataloaders['test'].dataset))\n",
    "print(len(dataloaders['valid'].dataset))\n",
    "print(len(dataloaders['train'].dataset))\n",
    "print(len(dataloaders['test'].dataset) + len(dataloaders['valid'].dataset) + len(dataloaders['train'].dataset))"
   ]
  },
  {
   "cell_type": "code",
   "execution_count": 9,
   "metadata": {},
   "outputs": [
    {
     "name": "stdout",
     "output_type": "stream",
     "text": [
      "../log_message/0829_10:29_GAT_transH_150.log\n"
     ]
    }
   ],
   "source": [
    "import datetime\n",
    "\n",
    "now = datetime.datetime.now()\n",
    "\n",
    "formatted_time = now.strftime(\"%m%d_%H:%M\")\n",
    "\n",
    "log_file_path = f\"../log_message/{formatted_time}_GAT_transH_150.log\"\n",
    "\n",
    "def add_log_msg(msg, log_file_path=log_file_path):\n",
    "    with open(log_file_path, 'a') as f:\n",
    "        f.write(f'{datetime.datetime.now().strftime(\"%m/%d/%Y, %H:%M:%S\")}# {msg}\\n')\n",
    "    print(f'{datetime.datetime.now().strftime(\"%m/%d/%Y, %H:%M:%S\")}# {msg}')\n",
    "\n",
    "print(log_file_path)"
   ]
  },
  {
   "cell_type": "markdown",
   "metadata": {},
   "source": [
    "### Model"
   ]
  },
  {
   "cell_type": "code",
   "execution_count": 10,
   "metadata": {},
   "outputs": [],
   "source": [
    "class GAT(nn.Module):\n",
    "    def __init__(self, in_dim, hidden_dim, out_dim, num_heads, dropout_prob=0.25):\n",
    "        super(GAT, self).__init__()\n",
    "        \n",
    "        # do not check the zero in_degree since we have all the complete graph\n",
    "        self.layer1 = GATConv(in_dim, hidden_dim, num_heads=num_heads, activation=F.relu, allow_zero_in_degree=True)\n",
    "        self.layer2 = GATConv(hidden_dim * num_heads, out_dim, num_heads=num_heads, allow_zero_in_degree=True)\n",
    "        \n",
    "        # Adding Batch Normalization after each GAT layer\n",
    "        self.batchnorm1 = nn.BatchNorm1d(hidden_dim * num_heads)\n",
    "        self.batchnorm2 = nn.BatchNorm1d(out_dim)\n",
    "        \n",
    "        # Adding Dropout for regularization\n",
    "        self.dropout = nn.Dropout(dropout_prob)\n",
    "\n",
    "    def forward(self, g, h):\n",
    "        # Apply GAT layers\n",
    "        h = self.layer1(g, h)\n",
    "        h = h.view(h.shape[0], -1)\n",
    "        h = F.relu(h)\n",
    "        h = self.dropout(h)\n",
    "        h = self.layer2(g, h).squeeze(1)\n",
    "        \n",
    "        # Store the output as a new node feature\n",
    "        g.ndata['h_out'] = h\n",
    "\n",
    "        # Use mean pooling to aggregate this new node feature\n",
    "        h_agg = dgl.mean_nodes(g, feat='h_out')\n",
    "        return h_agg\n",
    "\n",
    "    "
   ]
  },
  {
   "cell_type": "markdown",
   "metadata": {},
   "source": [
    "- Model Forward  "
   ]
  },
  {
   "cell_type": "code",
   "execution_count": 11,
   "metadata": {},
   "outputs": [],
   "source": [
    "def model_fn(data, model, criterion, device, count=1, which_type='train'):\n",
    "    \"\"\"Forward a batch through the model.\"\"\"\n",
    "    batched_g, labels = data\n",
    "    batched_g = batched_g.to(device)\n",
    "    \n",
    "    labels = labels.to(device)\n",
    "    logits = model(batched_g, batched_g.ndata['feat'].float()) # for GAT\n",
    "    logits = logits.mean(dim=1)\n",
    "    \n",
    "    loss = criterion(logits, labels)\n",
    "\n",
    "    # Get the class id with the highest probability\n",
    "    preds = logits.argmax(1)\n",
    "    \n",
    "    # Compute accuracy\n",
    "    accuracy = torch.mean((preds == labels).float())\n",
    "    \n",
    "    if which_type == 'validation' and count % 1000 == 0:\n",
    "        add_log_msg(f\"labels of Validation: {labels} {labels.shape}\")\n",
    "        add_log_msg(f\"predicted of Validation: {preds} {preds.shape}\")\n",
    "        \n",
    "    elif which_type == 'test'  and count % 1000 == 0:\n",
    "        add_log_msg(f\"labels of Test: {labels} {labels.shape}\")\n",
    "        add_log_msg(f\"predicted of Test: {preds} {preds.shape}\")\n",
    "        \n",
    "    if count % 5000 == 0: \n",
    "        add_log_msg(f\"labels of {count}: {labels} {labels.shape}\")\n",
    "        add_log_msg(f\"predicted of {count}: {preds} {preds.shape}\")\n",
    "        \n",
    "    return loss, accuracy, preds"
   ]
  },
  {
   "cell_type": "markdown",
   "metadata": {},
   "source": [
    "### Training"
   ]
  },
  {
   "cell_type": "markdown",
   "metadata": {},
   "source": [
    "- Fix the seed and save the model.state_dict that contains the initial weight"
   ]
  },
  {
   "cell_type": "code",
   "execution_count": 12,
   "metadata": {},
   "outputs": [],
   "source": [
    "seed = 8787\n",
    "same_seeds(seed)\n",
    "\n",
    "model = GAT(in_dim=150, hidden_dim=16, out_dim=168, num_heads=8)\n",
    "torch.save(model.state_dict(), 'model1_initial/initial_weight.pth')"
   ]
  },
  {
   "cell_type": "code",
   "execution_count": 13,
   "metadata": {},
   "outputs": [
    {
     "data": {
      "text/plain": [
       "Parameter containing:\n",
       "tensor([[-0.1088, -0.0760,  0.1288,  ..., -0.1192, -0.0175,  0.0021],\n",
       "        [ 0.0325,  0.0195, -0.1396,  ...,  0.0864, -0.0855,  0.1670],\n",
       "        [-0.0041, -0.0149, -0.0657,  ..., -0.0180, -0.0733,  0.1429],\n",
       "        ...,\n",
       "        [ 0.2402, -0.1547, -0.0973,  ...,  0.0845, -0.2335, -0.0765],\n",
       "        [ 0.1358,  0.1819, -0.1881,  ..., -0.0790, -0.0578, -0.2301],\n",
       "        [ 0.0297, -0.0572, -0.1424,  ...,  0.2224, -0.1195,  0.0005]],\n",
       "       requires_grad=True)"
      ]
     },
     "execution_count": 13,
     "metadata": {},
     "output_type": "execute_result"
    }
   ],
   "source": [
    "model.layer1.fc.weight"
   ]
  },
  {
   "cell_type": "markdown",
   "metadata": {},
   "source": [
    "- Check if model really load the model_dict"
   ]
  },
  {
   "cell_type": "code",
   "execution_count": 14,
   "metadata": {},
   "outputs": [
    {
     "data": {
      "text/plain": [
       "Parameter containing:\n",
       "tensor([[-0.1088, -0.0760,  0.1288,  ..., -0.1192, -0.0175,  0.0021],\n",
       "        [ 0.0325,  0.0195, -0.1396,  ...,  0.0864, -0.0855,  0.1670],\n",
       "        [-0.0041, -0.0149, -0.0657,  ..., -0.0180, -0.0733,  0.1429],\n",
       "        ...,\n",
       "        [ 0.2402, -0.1547, -0.0973,  ...,  0.0845, -0.2335, -0.0765],\n",
       "        [ 0.1358,  0.1819, -0.1881,  ..., -0.0790, -0.0578, -0.2301],\n",
       "        [ 0.0297, -0.0572, -0.1424,  ...,  0.2224, -0.1195,  0.0005]],\n",
       "       requires_grad=True)"
      ]
     },
     "execution_count": 14,
     "metadata": {},
     "output_type": "execute_result"
    }
   ],
   "source": [
    "model = GAT(in_dim=150, hidden_dim=16, out_dim=168, num_heads=8)\n",
    "model.load_state_dict(torch.load('model1_initial/initial_weight.pth'))\n",
    "model.layer1.fc.weight"
   ]
  },
  {
   "cell_type": "markdown",
   "metadata": {},
   "source": [
    "### test of valid and test part is ``graph``"
   ]
  },
  {
   "cell_type": "markdown",
   "metadata": {},
   "source": [
    "- Batch size = 4\n",
    "- use large lr and scheduler"
   ]
  },
  {
   "cell_type": "code",
   "execution_count": null,
   "metadata": {
    "scrolled": true
   },
   "outputs": [
    {
     "data": {
      "application/vnd.jupyter.widget-view+json": {
       "model_id": "a752b02f3bc3488395d8eaf23eae3bf7",
       "version_major": 2,
       "version_minor": 0
      },
      "text/plain": [
       "  0%|          | 0/30 [00:00<?, ?it/s]"
      ]
     },
     "metadata": {},
     "output_type": "display_data"
    },
    {
     "data": {
      "application/vnd.jupyter.widget-view+json": {
       "model_id": "39ff995a9fb94c75af1bed01ad26bec0",
       "version_major": 2,
       "version_minor": 0
      },
      "text/plain": [
       "Training:   0%|          | 0/8250 [00:00<?, ?it/s]"
      ]
     },
     "metadata": {},
     "output_type": "display_data"
    },
    {
     "name": "stdout",
     "output_type": "stream",
     "text": [
      "08/29/2023, 10:34:13# labels of 5000: tensor([ 45, 142, 133, 139,  37, 134, 113,  50,  81,  57,  70,  87, 140,  85,\n",
      "        150, 156], device='cuda:2') torch.Size([16])\n",
      "08/29/2023, 10:34:13# predicted of 5000: tensor([146, 132, 132,  21, 132, 134, 132, 136, 132, 132, 154, 132, 154, 136,\n",
      "        132, 156], device='cuda:2') torch.Size([16])\n",
      "08/29/2023, 10:37:29# total batches: 8250\n",
      "08/29/2023, 10:37:29# Epoch 0 | Train Loss: 4.6445 | Train Accuracy: 0.0469\n"
     ]
    },
    {
     "data": {
      "application/vnd.jupyter.widget-view+json": {
       "model_id": "5b3a5d4da4554bbe8c2f21cf38fe0e45",
       "version_major": 2,
       "version_minor": 0
      },
      "text/plain": [
       "Validation:   0%|          | 0/1032 [00:00<?, ?it/s]"
      ]
     },
     "metadata": {},
     "output_type": "display_data"
    },
    {
     "name": "stdout",
     "output_type": "stream",
     "text": [
      "08/29/2023, 10:37:30# labels of Validation: tensor([ 95,  44,  55,  99,  97,  79, 143, 145, 113,  28, 153,  96, 137,  92,\n",
      "         64, 142], device='cuda:2') torch.Size([16])\n",
      "08/29/2023, 10:37:30# predicted of Validation: tensor([ 62, 131, 131,  99, 131, 128, 131,  80, 132, 132, 131, 128, 131, 131,\n",
      "        132, 131], device='cuda:2') torch.Size([16])\n",
      "08/29/2023, 10:37:30# labels of 0: tensor([ 95,  44,  55,  99,  97,  79, 143, 145, 113,  28, 153,  96, 137,  92,\n",
      "         64, 142], device='cuda:2') torch.Size([16])\n",
      "08/29/2023, 10:37:30# predicted of 0: tensor([ 62, 131, 131,  99, 131, 128, 131,  80, 132, 132, 131, 128, 131, 131,\n",
      "        132, 131], device='cuda:2') torch.Size([16])\n",
      "08/29/2023, 10:38:21# labels of Validation: tensor([ 73, 142, 151,  87,   2, 103,  69, 152, 158, 108,  18, 133, 135, 109,\n",
      "         68,  72], device='cuda:2') torch.Size([16])\n",
      "08/29/2023, 10:38:21# predicted of Validation: tensor([127, 131, 131, 131, 131, 132, 127, 131, 131, 132, 131, 132, 131, 131,\n",
      "        132,  16], device='cuda:2') torch.Size([16])\n",
      "08/29/2023, 10:38:23# Validation Loss: 4.1735 | Validation Accuracy: 0.1385\n",
      "\n"
     ]
    },
    {
     "data": {
      "application/vnd.jupyter.widget-view+json": {
       "model_id": "300627b23be14244bcb484fbd17f7731",
       "version_major": 2,
       "version_minor": 0
      },
      "text/plain": [
       "Training:   0%|          | 0/8250 [00:00<?, ?it/s]"
      ]
     },
     "metadata": {},
     "output_type": "display_data"
    },
    {
     "name": "stdout",
     "output_type": "stream",
     "text": [
      "08/29/2023, 10:43:36# labels of 5000: tensor([ 44, 104, 141, 117, 137,  57, 161,  47,  84,  34,  55, 100,  45,  42,\n",
      "        116,   6], device='cuda:2') torch.Size([16])\n",
      "08/29/2023, 10:43:36# predicted of 5000: tensor([ 37, 132, 161, 122,  37,  66, 161, 132,  32,  37, 132, 161, 105, 161,\n",
      "         51, 132], device='cuda:2') torch.Size([16])\n",
      "08/29/2023, 10:46:59# total batches: 8250\n",
      "08/29/2023, 10:46:59# Epoch 1 | Train Loss: 3.9339 | Train Accuracy: 0.1569\n"
     ]
    },
    {
     "data": {
      "application/vnd.jupyter.widget-view+json": {
       "model_id": "8de3ad7aeaf345b99292c4fd12734912",
       "version_major": 2,
       "version_minor": 0
      },
      "text/plain": [
       "Validation:   0%|          | 0/1032 [00:00<?, ?it/s]"
      ]
     },
     "metadata": {},
     "output_type": "display_data"
    },
    {
     "name": "stdout",
     "output_type": "stream",
     "text": [
      "08/29/2023, 10:46:59# labels of Validation: tensor([107,  72, 164, 128,   2, 133,  96, 139,  63, 132,  71, 123, 127,  19,\n",
      "         13, 145], device='cuda:2') torch.Size([16])\n",
      "08/29/2023, 10:46:59# predicted of Validation: tensor([108, 122, 107, 128, 107, 108,  96, 107, 107, 132, 107, 123, 127, 107,\n",
      "         13, 146], device='cuda:2') torch.Size([16])\n",
      "08/29/2023, 10:46:59# labels of 0: tensor([107,  72, 164, 128,   2, 133,  96, 139,  63, 132,  71, 123, 127,  19,\n",
      "         13, 145], device='cuda:2') torch.Size([16])\n",
      "08/29/2023, 10:46:59# predicted of 0: tensor([108, 122, 107, 128, 107, 108,  96, 107, 107, 132, 107, 123, 127, 107,\n",
      "         13, 146], device='cuda:2') torch.Size([16])\n",
      "08/29/2023, 10:47:54# labels of Validation: tensor([ 94,  97,  80, 135,  30, 156, 126,   0, 163, 145,  73, 153, 141,  40,\n",
      "          7,  98], device='cuda:2') torch.Size([16])\n",
      "08/29/2023, 10:47:54# predicted of Validation: tensor([ 40, 107, 146, 107, 107, 156,  95,  32, 107,  32, 146, 107, 108, 146,\n",
      "          7, 107], device='cuda:2') torch.Size([16])\n",
      "08/29/2023, 10:47:56# Validation Loss: 3.7162 | Validation Accuracy: 0.2259\n",
      "\n",
      "08/29/2023, 10:47:56# Find a better model!!\n"
     ]
    },
    {
     "data": {
      "application/vnd.jupyter.widget-view+json": {
       "model_id": "aa3be057e39441f5afb728ccde444f05",
       "version_major": 2,
       "version_minor": 0
      },
      "text/plain": [
       "Training:   0%|          | 0/8250 [00:00<?, ?it/s]"
      ]
     },
     "metadata": {},
     "output_type": "display_data"
    },
    {
     "name": "stdout",
     "output_type": "stream",
     "text": [
      "08/29/2023, 10:53:13# labels of 5000: tensor([ 20, 136,   3,  86,  17, 156,  42, 123, 141, 155,  31, 160,  90,  97,\n",
      "         80,  13], device='cuda:2') torch.Size([16])\n",
      "08/29/2023, 10:53:13# predicted of 5000: tensor([ 63, 147,   3, 143,  17, 156,  37, 123,  51, 132,  37, 132,  37, 144,\n",
      "         99,  56], device='cuda:2') torch.Size([16])\n",
      "08/29/2023, 10:56:54# total batches: 8250\n",
      "08/29/2023, 10:56:54# Epoch 2 | Train Loss: 3.6141 | Train Accuracy: 0.2118\n"
     ]
    },
    {
     "data": {
      "application/vnd.jupyter.widget-view+json": {
       "model_id": "7327000449ab44afbec43c25e40bdc95",
       "version_major": 2,
       "version_minor": 0
      },
      "text/plain": [
       "Validation:   0%|          | 0/1032 [00:00<?, ?it/s]"
      ]
     },
     "metadata": {},
     "output_type": "display_data"
    },
    {
     "name": "stdout",
     "output_type": "stream",
     "text": [
      "08/29/2023, 10:56:54# labels of Validation: tensor([ 54, 146,  53,  57,   3,  90,  34,  82,  64,  45,  27, 114,  55, 145,\n",
      "          9, 157], device='cuda:2') torch.Size([16])\n",
      "08/29/2023, 10:56:54# predicted of Validation: tensor([103, 146, 103, 103,   3, 132, 103,  82, 132,  67,  62, 132, 103, 145,\n",
      "        103, 103], device='cuda:2') torch.Size([16])\n",
      "08/29/2023, 10:56:54# labels of 0: tensor([ 54, 146,  53,  57,   3,  90,  34,  82,  64,  45,  27, 114,  55, 145,\n",
      "          9, 157], device='cuda:2') torch.Size([16])\n",
      "08/29/2023, 10:56:54# predicted of 0: tensor([103, 146, 103, 103,   3, 132, 103,  82, 132,  67,  62, 132, 103, 145,\n",
      "        103, 103], device='cuda:2') torch.Size([16])\n",
      "08/29/2023, 10:57:56# labels of Validation: tensor([103,   7,  37,  19,  46,  85, 106,   8,  56, 136, 156,  61, 107, 109,\n",
      "         52, 162], device='cuda:2') torch.Size([16])\n",
      "08/29/2023, 10:57:56# predicted of Validation: tensor([132,   7, 132, 103, 103,  85, 106, 132,  56, 136, 156,  61, 132, 103,\n",
      "         52, 103], device='cuda:2') torch.Size([16])\n",
      "08/29/2023, 10:57:58# Validation Loss: 3.4875 | Validation Accuracy: 0.2478\n",
      "\n",
      "08/29/2023, 10:57:58# Find a better model!!\n"
     ]
    },
    {
     "data": {
      "application/vnd.jupyter.widget-view+json": {
       "model_id": "6890915262c54b33856f99144002b2f3",
       "version_major": 2,
       "version_minor": 0
      },
      "text/plain": [
       "Training:   0%|          | 0/8250 [00:00<?, ?it/s]"
      ]
     },
     "metadata": {},
     "output_type": "display_data"
    },
    {
     "name": "stdout",
     "output_type": "stream",
     "text": [
      "08/29/2023, 11:03:16# labels of 5000: tensor([154, 141,  15, 112, 141,   8,  11,  32,  89, 107,  70,   6, 160, 153,\n",
      "        149,  48], device='cuda:2') torch.Size([16])\n",
      "08/29/2023, 11:03:16# predicted of 5000: tensor([154, 132,  15, 158, 132, 132,  71, 159,  56, 158,  70, 132, 132, 108,\n",
      "        149, 132], device='cuda:2') torch.Size([16])\n",
      "08/29/2023, 11:07:18# total batches: 8250\n",
      "08/29/2023, 11:07:18# Epoch 3 | Train Loss: 3.4417 | Train Accuracy: 0.2483\n"
     ]
    },
    {
     "data": {
      "application/vnd.jupyter.widget-view+json": {
       "model_id": "acc11568bf0d403dbef3dd09835daa26",
       "version_major": 2,
       "version_minor": 0
      },
      "text/plain": [
       "Validation:   0%|          | 0/1032 [00:00<?, ?it/s]"
      ]
     },
     "metadata": {},
     "output_type": "display_data"
    },
    {
     "name": "stdout",
     "output_type": "stream",
     "text": [
      "08/29/2023, 11:07:18# labels of Validation: tensor([ 35, 117, 131, 113,  79,  58,  93, 136, 128,  63,  21, 143, 151,  26,\n",
      "        156, 160], device='cuda:2') torch.Size([16])\n",
      "08/29/2023, 11:07:18# predicted of Validation: tensor([ 35, 117, 161, 161,  94, 129, 161, 136, 128, 129, 161, 129, 129, 129,\n",
      "        156, 161], device='cuda:2') torch.Size([16])\n",
      "08/29/2023, 11:07:18# labels of 0: tensor([ 35, 117, 131, 113,  79,  58,  93, 136, 128,  63,  21, 143, 151,  26,\n",
      "        156, 160], device='cuda:2') torch.Size([16])\n",
      "08/29/2023, 11:07:18# predicted of 0: tensor([ 35, 117, 161, 161,  94, 129, 161, 136, 128, 129, 161, 129, 129, 129,\n",
      "        156, 161], device='cuda:2') torch.Size([16])\n",
      "08/29/2023, 11:08:33# labels of Validation: tensor([162, 128,  78, 156,  38,  10,  45, 135,  43,  63, 152, 147, 126,  60,\n",
      "        162,  95], device='cuda:2') torch.Size([16])\n",
      "08/29/2023, 11:08:33# predicted of Validation: tensor([129, 128,  67, 156, 129, 129,   5, 129, 129, 129, 129, 147, 117, 129,\n",
      "        129,  39], device='cuda:2') torch.Size([16])\n",
      "08/29/2023, 11:08:36# Validation Loss: 3.3463 | Validation Accuracy: 0.2822\n",
      "\n",
      "08/29/2023, 11:08:36# Find a better model!!\n"
     ]
    },
    {
     "data": {
      "application/vnd.jupyter.widget-view+json": {
       "model_id": "90f56f23d4024812aab36118daa75e54",
       "version_major": 2,
       "version_minor": 0
      },
      "text/plain": [
       "Training:   0%|          | 0/8250 [00:00<?, ?it/s]"
      ]
     },
     "metadata": {},
     "output_type": "display_data"
    },
    {
     "name": "stdout",
     "output_type": "stream",
     "text": [
      "08/29/2023, 11:15:54# labels of 5000: tensor([ 55,  93,  18, 127, 139, 119, 156, 123, 130,  72, 111, 115, 166,  57,\n",
      "        121, 126], device='cuda:2') torch.Size([16])\n",
      "08/29/2023, 11:15:54# predicted of 5000: tensor([ 31,  31, 132, 127, 166, 166, 156, 123, 130,  78, 114, 145, 132, 114,\n",
      "        157,  56], device='cuda:2') torch.Size([16])\n",
      "08/29/2023, 11:20:34# total batches: 8250\n",
      "08/29/2023, 11:20:34# Epoch 4 | Train Loss: 3.3231 | Train Accuracy: 0.2720\n"
     ]
    },
    {
     "data": {
      "application/vnd.jupyter.widget-view+json": {
       "model_id": "024d0361291e47abb9ba24dc1b0fb40d",
       "version_major": 2,
       "version_minor": 0
      },
      "text/plain": [
       "Validation:   0%|          | 0/1032 [00:00<?, ?it/s]"
      ]
     },
     "metadata": {},
     "output_type": "display_data"
    },
    {
     "name": "stdout",
     "output_type": "stream",
     "text": [
      "08/29/2023, 11:20:34# labels of Validation: tensor([ 80,  89,  55, 147,  40,  57,  17,  18,  71, 131,  49, 105, 133,  15,\n",
      "        149,  85], device='cuda:2') torch.Size([16])\n",
      "08/29/2023, 11:20:34# predicted of Validation: tensor([ 80, 115, 158, 147, 115, 158,  17, 158, 158,  28, 158, 105,   6,  94,\n",
      "        149,  85], device='cuda:2') torch.Size([16])\n",
      "08/29/2023, 11:20:34# labels of 0: tensor([ 80,  89,  55, 147,  40,  57,  17,  18,  71, 131,  49, 105, 133,  15,\n",
      "        149,  85], device='cuda:2') torch.Size([16])\n",
      "08/29/2023, 11:20:34# predicted of 0: tensor([ 80, 115, 158, 147, 115, 158,  17, 158, 158,  28, 158, 105,   6,  94,\n",
      "        149,  85], device='cuda:2') torch.Size([16])\n",
      "08/29/2023, 11:21:50# labels of Validation: tensor([ 92,  25,  34,  10, 115,  66,  27,  88,  41,  29,  36, 114, 115,  97,\n",
      "         64,  58], device='cuda:2') torch.Size([16])\n",
      "08/29/2023, 11:21:50# predicted of Validation: tensor([158,  25, 158, 158, 115,   6,  27,   6, 158,  29, 158,   6, 115, 158,\n",
      "          6, 158], device='cuda:2') torch.Size([16])\n",
      "08/29/2023, 11:21:53# Validation Loss: 3.2436 | Validation Accuracy: 0.3061\n",
      "\n",
      "08/29/2023, 11:21:53# Find a better model!!\n"
     ]
    },
    {
     "data": {
      "application/vnd.jupyter.widget-view+json": {
       "model_id": "e95ad6c50e6340888aa35b109de414af",
       "version_major": 2,
       "version_minor": 0
      },
      "text/plain": [
       "Training:   0%|          | 0/8250 [00:00<?, ?it/s]"
      ]
     },
     "metadata": {},
     "output_type": "display_data"
    },
    {
     "name": "stdout",
     "output_type": "stream",
     "text": [
      "08/29/2023, 11:29:06# labels of 5000: tensor([159,  74, 137,  37,  98,  17,  37,  14,  86, 136,  19,   5,  56, 112,\n",
      "         31,  67], device='cuda:2') torch.Size([16])\n",
      "08/29/2023, 11:29:06# predicted of 5000: tensor([159,  11,  64,  11,  74,  17,   6,  55, 101, 147, 101,   5,  56,  98,\n",
      "         11, 130], device='cuda:2') torch.Size([16])\n",
      "08/29/2023, 11:33:43# total batches: 8250\n",
      "08/29/2023, 11:33:43# Epoch 5 | Train Loss: 3.2360 | Train Accuracy: 0.2870\n"
     ]
    },
    {
     "data": {
      "application/vnd.jupyter.widget-view+json": {
       "model_id": "2b2ff7e93d0748b9b340eacd53feedd0",
       "version_major": 2,
       "version_minor": 0
      },
      "text/plain": [
       "Validation:   0%|          | 0/1032 [00:00<?, ?it/s]"
      ]
     },
     "metadata": {},
     "output_type": "display_data"
    },
    {
     "name": "stdout",
     "output_type": "stream",
     "text": [
      "08/29/2023, 11:33:43# labels of Validation: tensor([ 90, 122,  47, 132,  42,  40,  27, 155,   5,  67,  60,  85, 152,   9,\n",
      "        154, 132], device='cuda:2') torch.Size([16])\n",
      "08/29/2023, 11:33:43# predicted of Validation: tensor([ 51, 122,  26, 161,  26,  62,  40, 161,  50,  78,  26,  85,  26,  26,\n",
      "        154, 161], device='cuda:2') torch.Size([16])\n",
      "08/29/2023, 11:33:43# labels of 0: tensor([ 90, 122,  47, 132,  42,  40,  27, 155,   5,  67,  60,  85, 152,   9,\n",
      "        154, 132], device='cuda:2') torch.Size([16])\n",
      "08/29/2023, 11:33:43# predicted of 0: tensor([ 51, 122,  26, 161,  26,  62,  40, 161,  50,  78,  26,  85,  26,  26,\n",
      "        154, 161], device='cuda:2') torch.Size([16])\n",
      "08/29/2023, 11:35:04# labels of Validation: tensor([127,  73,  84,  74,  64,  40, 124, 127,  66, 121,  47, 147,  91, 149,\n",
      "        118, 120], device='cuda:2') torch.Size([16])\n",
      "08/29/2023, 11:35:04# predicted of Validation: tensor([127,  40,  84,  26,  51,  40,  26, 127, 161,  26,  26, 147, 161, 149,\n",
      "        118, 120], device='cuda:2') torch.Size([16])\n",
      "08/29/2023, 11:35:07# Validation Loss: 3.1653 | Validation Accuracy: 0.3132\n",
      "\n",
      "08/29/2023, 11:35:07# Find a better model!!\n"
     ]
    },
    {
     "data": {
      "application/vnd.jupyter.widget-view+json": {
       "model_id": "87de7d3e3b1a4258ba75ff2fd161ddca",
       "version_major": 2,
       "version_minor": 0
      },
      "text/plain": [
       "Training:   0%|          | 0/8250 [00:00<?, ?it/s]"
      ]
     },
     "metadata": {},
     "output_type": "display_data"
    },
    {
     "name": "stdout",
     "output_type": "stream",
     "text": [
      "08/29/2023, 11:42:08# labels of 5000: tensor([149,  97, 131,  62, 160,  27, 101,  87,  28,  97,  61, 109,  94,  19,\n",
      "         14, 124], device='cuda:2') torch.Size([16])\n",
      "08/29/2023, 11:42:08# predicted of 5000: tensor([149,  10, 132,  62, 132,  72,  68,  68, 132,  10,   5,  68,  39,  10,\n",
      "         68,  10], device='cuda:2') torch.Size([16])\n",
      "08/29/2023, 11:46:43# total batches: 8250\n",
      "08/29/2023, 11:46:43# Epoch 6 | Train Loss: 3.1709 | Train Accuracy: 0.2992\n"
     ]
    },
    {
     "data": {
      "application/vnd.jupyter.widget-view+json": {
       "model_id": "341b25f64b0746acb61d7c89df7f3d7e",
       "version_major": 2,
       "version_minor": 0
      },
      "text/plain": [
       "Validation:   0%|          | 0/1032 [00:00<?, ?it/s]"
      ]
     },
     "metadata": {},
     "output_type": "display_data"
    },
    {
     "name": "stdout",
     "output_type": "stream",
     "text": [
      "08/29/2023, 11:46:44# labels of Validation: tensor([ 90,   5,  67,  93, 132, 106,  64,  37,  86,  49,  91, 150,  62,  32,\n",
      "         90, 137], device='cuda:2') torch.Size([16])\n",
      "08/29/2023, 11:46:44# predicted of Validation: tensor([ 66,   5,  67,  66, 161, 106,  66,  66,  20,  20,  66,  20,  62,  32,\n",
      "         66,  20], device='cuda:2') torch.Size([16])\n",
      "08/29/2023, 11:46:44# labels of 0: tensor([ 90,   5,  67,  93, 132, 106,  64,  37,  86,  49,  91, 150,  62,  32,\n",
      "         90, 137], device='cuda:2') torch.Size([16])\n",
      "08/29/2023, 11:46:44# predicted of 0: tensor([ 66,   5,  67,  66, 161, 106,  66,  66,  20,  20,  66,  20,  62,  32,\n",
      "         66,  20], device='cuda:2') torch.Size([16])\n",
      "08/29/2023, 11:48:04# labels of Validation: tensor([111, 145,  37, 146,  60,  77, 166, 116,  39, 126,  39,  37,  93,  69,\n",
      "        107,  55], device='cuda:2') torch.Size([16])\n",
      "08/29/2023, 11:48:04# predicted of Validation: tensor([ 20, 145,  66, 146,  20,  66,  66,  20, 115, 126,   0,  66,  66,  69,\n",
      "         66,  20], device='cuda:2') torch.Size([16])\n",
      "08/29/2023, 11:48:08# Validation Loss: 3.1063 | Validation Accuracy: 0.3246\n",
      "\n",
      "08/29/2023, 11:48:08# Find a better model!!\n"
     ]
    },
    {
     "data": {
      "application/vnd.jupyter.widget-view+json": {
       "model_id": "a94ca9bb17aa46668fdb3af28f3111d8",
       "version_major": 2,
       "version_minor": 0
      },
      "text/plain": [
       "Training:   0%|          | 0/8250 [00:00<?, ?it/s]"
      ]
     },
     "metadata": {},
     "output_type": "display_data"
    },
    {
     "name": "stdout",
     "output_type": "stream",
     "text": [
      "08/29/2023, 11:56:32# labels of 5000: tensor([  9,  74, 129,  40,  14, 102, 111, 129, 158, 137, 134, 160, 129,  98,\n",
      "        102,  96], device='cuda:2') torch.Size([16])\n",
      "08/29/2023, 11:56:32# predicted of 5000: tensor([  4,   4,   4,  40,   4,   4,  21,  21,   4,   4, 134,  21, 161,   4,\n",
      "          4, 146], device='cuda:2') torch.Size([16])\n",
      "08/29/2023, 12:01:50# total batches: 8250\n",
      "08/29/2023, 12:01:50# Epoch 7 | Train Loss: 3.1191 | Train Accuracy: 0.3088\n"
     ]
    },
    {
     "data": {
      "application/vnd.jupyter.widget-view+json": {
       "model_id": "c6952777fb3c42618420be2a9b2c3b86",
       "version_major": 2,
       "version_minor": 0
      },
      "text/plain": [
       "Validation:   0%|          | 0/1032 [00:00<?, ?it/s]"
      ]
     },
     "metadata": {},
     "output_type": "display_data"
    },
    {
     "name": "stdout",
     "output_type": "stream",
     "text": [
      "08/29/2023, 12:01:51# labels of Validation: tensor([ 40, 111,  23,  77,  37,   6,  15, 163, 126, 124, 102, 149,  53,  68,\n",
      "        135, 128], device='cuda:2') torch.Size([16])\n",
      "08/29/2023, 12:01:51# predicted of Validation: tensor([ 40, 163,  23, 132,  66, 132,  39, 163, 126, 163, 163, 149, 163,  66,\n",
      "        163, 128], device='cuda:2') torch.Size([16])\n",
      "08/29/2023, 12:01:51# labels of 0: tensor([ 40, 111,  23,  77,  37,   6,  15, 163, 126, 124, 102, 149,  53,  68,\n",
      "        135, 128], device='cuda:2') torch.Size([16])\n",
      "08/29/2023, 12:01:51# predicted of 0: tensor([ 40, 163,  23, 132,  66, 132,  39, 163, 126, 163, 163, 149, 163,  66,\n",
      "        163, 128], device='cuda:2') torch.Size([16])\n",
      "08/29/2023, 12:03:16# labels of Validation: tensor([ 82, 154,  82,  75,  81, 139, 142, 124, 103,  48,  49,  31,  94,  69,\n",
      "         67, 162], device='cuda:2') torch.Size([16])\n",
      "08/29/2023, 12:03:16# predicted of Validation: tensor([ 82, 154,  82, 163, 163, 163, 163, 163,  66, 163, 163, 163,  79,  69,\n",
      "         78, 163], device='cuda:2') torch.Size([16])\n",
      "08/29/2023, 12:03:18# Validation Loss: 3.0615 | Validation Accuracy: 0.3293\n",
      "\n",
      "08/29/2023, 12:03:18# Find a better model!!\n"
     ]
    },
    {
     "data": {
      "application/vnd.jupyter.widget-view+json": {
       "model_id": "e6a7307e1a634e07876f57ac998e8f9f",
       "version_major": 2,
       "version_minor": 0
      },
      "text/plain": [
       "Training:   0%|          | 0/8250 [00:00<?, ?it/s]"
      ]
     },
     "metadata": {},
     "output_type": "display_data"
    },
    {
     "name": "stdout",
     "output_type": "stream",
     "text": [
      "08/29/2023, 12:10:39# labels of 5000: tensor([145, 155,  58,  28,  31,  81, 114,  19, 147, 119, 110, 106,  29,   1,\n",
      "         69,  80], device='cuda:2') torch.Size([16])\n",
      "08/29/2023, 12:10:39# predicted of 5000: tensor([145, 161, 104, 132, 104, 104, 161,  91, 147,  33, 132, 106,  29,  24,\n",
      "         69,  80], device='cuda:2') torch.Size([16])\n",
      "08/29/2023, 12:15:23# total batches: 8250\n",
      "08/29/2023, 12:15:23# Epoch 8 | Train Loss: 3.0766 | Train Accuracy: 0.3167\n"
     ]
    },
    {
     "data": {
      "application/vnd.jupyter.widget-view+json": {
       "model_id": "3d2437d688454a7ca3416932b7bc3bce",
       "version_major": 2,
       "version_minor": 0
      },
      "text/plain": [
       "Validation:   0%|          | 0/1032 [00:00<?, ?it/s]"
      ]
     },
     "metadata": {},
     "output_type": "display_data"
    },
    {
     "name": "stdout",
     "output_type": "stream",
     "text": [
      "08/29/2023, 12:15:23# labels of Validation: tensor([  3,  88, 156,  62,  94,  94,  94, 142, 118,  16,  37, 119,  79,  94,\n",
      "         96, 100], device='cuda:2') torch.Size([16])\n",
      "08/29/2023, 12:15:23# predicted of Validation: tensor([  3, 108, 156,  62,  95,  78,   5, 152, 118,  16, 108, 152,  72,  89,\n",
      "         96, 108], device='cuda:2') torch.Size([16])\n",
      "08/29/2023, 12:15:23# labels of 0: tensor([  3,  88, 156,  62,  94,  94,  94, 142, 118,  16,  37, 119,  79,  94,\n",
      "         96, 100], device='cuda:2') torch.Size([16])\n",
      "08/29/2023, 12:15:23# predicted of 0: tensor([  3, 108, 156,  62,  95,  78,   5, 152, 118,  16, 108, 152,  72,  89,\n",
      "         96, 108], device='cuda:2') torch.Size([16])\n",
      "08/29/2023, 12:16:43# labels of Validation: tensor([158,  61, 119,  11, 140,  81, 100, 161, 164, 143, 103, 109,  60,  90,\n",
      "         95,  16], device='cuda:2') torch.Size([16])\n",
      "08/29/2023, 12:16:43# predicted of Validation: tensor([152,  61, 152, 152, 140, 152, 108, 132, 152, 152, 108, 152, 152, 108,\n",
      "         95,  16], device='cuda:2') torch.Size([16])\n",
      "08/29/2023, 12:16:46# Validation Loss: 3.0222 | Validation Accuracy: 0.3336\n",
      "\n",
      "08/29/2023, 12:16:46# Find a better model!!\n"
     ]
    },
    {
     "data": {
      "application/vnd.jupyter.widget-view+json": {
       "model_id": "7eb82f515e9743e3b1275d65e0028007",
       "version_major": 2,
       "version_minor": 0
      },
      "text/plain": [
       "Training:   0%|          | 0/8250 [00:00<?, ?it/s]"
      ]
     },
     "metadata": {},
     "output_type": "display_data"
    },
    {
     "name": "stdout",
     "output_type": "stream",
     "text": [
      "08/29/2023, 12:23:53# labels of 5000: tensor([126,  31, 118,  69,  17,  74,  83,  26,  50,  49, 143, 104, 102,   6,\n",
      "         74,  18], device='cuda:2') torch.Size([16])\n",
      "08/29/2023, 12:23:53# predicted of 5000: tensor([126, 141, 118,  69,  17,  43, 141, 113,  39,  11,  60,  60,   1, 132,\n",
      "         60, 141], device='cuda:2') torch.Size([16])\n",
      "08/29/2023, 12:28:35# total batches: 8250\n",
      "08/29/2023, 12:28:35# Epoch 9 | Train Loss: 3.0433 | Train Accuracy: 0.3234\n"
     ]
    },
    {
     "data": {
      "application/vnd.jupyter.widget-view+json": {
       "model_id": "f53857b8dc6340a58190836f17e2c4b9",
       "version_major": 2,
       "version_minor": 0
      },
      "text/plain": [
       "Validation:   0%|          | 0/1032 [00:00<?, ?it/s]"
      ]
     },
     "metadata": {},
     "output_type": "display_data"
    },
    {
     "name": "stdout",
     "output_type": "stream",
     "text": [
      "08/29/2023, 12:28:35# labels of Validation: tensor([  3,   1,  30,  79,  66, 151,   4,  71,  50, 127,  11, 129, 102,  38,\n",
      "          7,  89], device='cuda:2') torch.Size([16])\n",
      "08/29/2023, 12:28:35# predicted of Validation: tensor([  3,  36,  36,  79, 132,  36,  36,  36, 126, 127,  36, 108,  36,  36,\n",
      "          7,  89], device='cuda:2') torch.Size([16])\n",
      "08/29/2023, 12:28:35# labels of 0: tensor([  3,   1,  30,  79,  66, 151,   4,  71,  50, 127,  11, 129, 102,  38,\n",
      "          7,  89], device='cuda:2') torch.Size([16])\n",
      "08/29/2023, 12:28:35# predicted of 0: tensor([  3,  36,  36,  79, 132,  36,  36,  36, 126, 127,  36, 108,  36,  36,\n",
      "          7,  89], device='cuda:2') torch.Size([16])\n",
      "08/29/2023, 12:29:54# labels of Validation: tensor([126,  71,  74, 133, 115,  27,  93, 144,  35,  28, 100, 151,  94, 106,\n",
      "         99, 166], device='cuda:2') torch.Size([16])\n",
      "08/29/2023, 12:29:54# predicted of Validation: tensor([126,  36,  36, 108, 115,  27, 108,  36,  35, 132, 108,  36,   5, 106,\n",
      "         99, 132], device='cuda:2') torch.Size([16])\n",
      "08/29/2023, 12:29:56# Validation Loss: 2.9923 | Validation Accuracy: 0.3387\n",
      "\n",
      "08/29/2023, 12:29:56# Find a better model!!\n"
     ]
    },
    {
     "data": {
      "application/vnd.jupyter.widget-view+json": {
       "model_id": "97da4420482145b4a01708e3fe22f54f",
       "version_major": 2,
       "version_minor": 0
      },
      "text/plain": [
       "Training:   0%|          | 0/8250 [00:00<?, ?it/s]"
      ]
     },
     "metadata": {},
     "output_type": "display_data"
    },
    {
     "name": "stdout",
     "output_type": "stream",
     "text": [
      "08/29/2023, 12:36:57# labels of 5000: tensor([161,  98,  23, 148,  28,  73,  18, 131,  63, 140,  72, 116,  49, 101,\n",
      "        112,   1], device='cuda:2') torch.Size([16])\n",
      "08/29/2023, 12:36:57# predicted of 5000: tensor([132, 148,  23, 132, 132,  73,  74, 132,  74, 140,  79,  74,  74, 132,\n",
      "         63,  63], device='cuda:2') torch.Size([16])\n",
      "08/29/2023, 12:41:32# total batches: 8250\n",
      "08/29/2023, 12:41:32# Epoch 10 | Train Loss: 3.0164 | Train Accuracy: 0.3282\n"
     ]
    },
    {
     "data": {
      "application/vnd.jupyter.widget-view+json": {
       "model_id": "e03df70323494de1957b76d322d958ae",
       "version_major": 2,
       "version_minor": 0
      },
      "text/plain": [
       "Validation:   0%|          | 0/1032 [00:00<?, ?it/s]"
      ]
     },
     "metadata": {},
     "output_type": "display_data"
    },
    {
     "name": "stdout",
     "output_type": "stream",
     "text": [
      "08/29/2023, 12:41:32# labels of Validation: tensor([145,   7,  19,  54, 152, 114, 117,  31, 106, 135, 151,  69, 103,  28,\n",
      "        138, 152], device='cuda:2') torch.Size([16])\n",
      "08/29/2023, 12:41:32# predicted of Validation: tensor([145,   7,  92,  92,  92,   6, 117,  92, 106,  92,  92,  69,   6, 132,\n",
      "        138,  92], device='cuda:2') torch.Size([16])\n",
      "08/29/2023, 12:41:32# labels of 0: tensor([145,   7,  19,  54, 152, 114, 117,  31, 106, 135, 151,  69, 103,  28,\n",
      "        138, 152], device='cuda:2') torch.Size([16])\n",
      "08/29/2023, 12:41:32# predicted of 0: tensor([145,   7,  92,  92,  92,   6, 117,  92, 106,  92,  92,  69,   6, 132,\n",
      "        138,  92], device='cuda:2') torch.Size([16])\n",
      "08/29/2023, 12:42:49# labels of Validation: tensor([158, 156, 114,   0, 166,  92, 153,  89, 162, 115,  38,  35,  95, 150,\n",
      "         12, 139], device='cuda:2') torch.Size([16])\n",
      "08/29/2023, 12:42:49# predicted of Validation: tensor([ 92, 156,   6,   0, 132,  92,  92,  89,  92, 115,  92,  35,  73,  92,\n",
      "         92,  92], device='cuda:2') torch.Size([16])\n",
      "08/29/2023, 12:42:51# Validation Loss: 2.9677 | Validation Accuracy: 0.3409\n",
      "\n",
      "08/29/2023, 12:42:51# Find a better model!!\n"
     ]
    },
    {
     "data": {
      "application/vnd.jupyter.widget-view+json": {
       "model_id": "4aeb52b06ae942c4aaa8d05cdb85ba11",
       "version_major": 2,
       "version_minor": 0
      },
      "text/plain": [
       "Training:   0%|          | 0/8250 [00:00<?, ?it/s]"
      ]
     },
     "metadata": {},
     "output_type": "display_data"
    },
    {
     "name": "stdout",
     "output_type": "stream",
     "text": [
      "08/29/2023, 12:49:48# labels of 5000: tensor([111,  17, 133, 160, 140,  29,  84, 103,  60, 156,  29, 153, 121,  84,\n",
      "         20, 142], device='cuda:2') torch.Size([16])\n",
      "08/29/2023, 12:49:48# predicted of 5000: tensor([ 97,  17, 131,  97, 140,  29,  84, 141,  97, 156,  29,  10,  97,   3,\n",
      "        155,  18], device='cuda:2') torch.Size([16])\n",
      "08/29/2023, 12:54:16# total batches: 8250\n",
      "08/29/2023, 12:54:16# Epoch 11 | Train Loss: 2.9932 | Train Accuracy: 0.3322\n"
     ]
    },
    {
     "data": {
      "application/vnd.jupyter.widget-view+json": {
       "model_id": "d231169ac86b42a8922cbe33f7cadb15",
       "version_major": 2,
       "version_minor": 0
      },
      "text/plain": [
       "Validation:   0%|          | 0/1032 [00:00<?, ?it/s]"
      ]
     },
     "metadata": {},
     "output_type": "display_data"
    },
    {
     "name": "stdout",
     "output_type": "stream",
     "text": [
      "08/29/2023, 12:54:16# labels of Validation: tensor([ 54, 147,  96,  73, 139, 112, 109, 100,   8, 137,  29, 137,  49,  94,\n",
      "         74, 133], device='cuda:2') torch.Size([16])\n",
      "08/29/2023, 12:54:16# predicted of Validation: tensor([137, 147,  96,  73, 137, 137, 137,   6,   6, 137,  29, 137, 137,  94,\n",
      "        137,   6], device='cuda:2') torch.Size([16])\n",
      "08/29/2023, 12:54:16# labels of 0: tensor([ 54, 147,  96,  73, 139, 112, 109, 100,   8, 137,  29, 137,  49,  94,\n",
      "         74, 133], device='cuda:2') torch.Size([16])\n",
      "08/29/2023, 12:54:16# predicted of 0: tensor([137, 147,  96,  73, 137, 137, 137,   6,   6, 137,  29, 137, 137,  94,\n",
      "        137,   6], device='cuda:2') torch.Size([16])\n",
      "08/29/2023, 12:55:31# labels of Validation: tensor([165, 101, 149,  68,  52,  32, 138, 118,  19,  80,   2,  93, 102,  84,\n",
      "         19,  59], device='cuda:2') torch.Size([16])\n",
      "08/29/2023, 12:55:31# predicted of Validation: tensor([165,   6, 149,   6,  52,  32, 138, 118, 137,  80, 137,   6, 137,  84,\n",
      "        137,   6], device='cuda:2') torch.Size([16])\n",
      "08/29/2023, 12:55:34# Validation Loss: 2.9444 | Validation Accuracy: 0.3443\n",
      "\n",
      "08/29/2023, 12:55:34# Find a better model!!\n"
     ]
    },
    {
     "data": {
      "application/vnd.jupyter.widget-view+json": {
       "model_id": "b8f3d6bee6fb45ae96ffedb05a55a47d",
       "version_major": 2,
       "version_minor": 0
      },
      "text/plain": [
       "Training:   0%|          | 0/8250 [00:00<?, ?it/s]"
      ]
     },
     "metadata": {},
     "output_type": "display_data"
    },
    {
     "name": "stdout",
     "output_type": "stream",
     "text": [
      "08/29/2023, 13:02:21# labels of 5000: tensor([110, 143, 130, 138,  26,  17,  17,  97, 148,  87,  95,  54,  77, 164,\n",
      "         90,  81], device='cuda:2') torch.Size([16])\n",
      "08/29/2023, 13:02:21# predicted of 5000: tensor([ 21, 143, 130, 138,   2,  17,  17,  74, 155,  74, 117,  58, 155, 121,\n",
      "        155, 121], device='cuda:2') torch.Size([16])\n",
      "08/29/2023, 13:06:53# total batches: 8250\n",
      "08/29/2023, 13:06:53# Epoch 12 | Train Loss: 2.9731 | Train Accuracy: 0.3348\n"
     ]
    },
    {
     "data": {
      "application/vnd.jupyter.widget-view+json": {
       "model_id": "f98be2702675410296534f41a052420c",
       "version_major": 2,
       "version_minor": 0
      },
      "text/plain": [
       "Validation:   0%|          | 0/1032 [00:00<?, ?it/s]"
      ]
     },
     "metadata": {},
     "output_type": "display_data"
    },
    {
     "name": "stdout",
     "output_type": "stream",
     "text": [
      "08/29/2023, 13:06:53# labels of Validation: tensor([ 80,  11,  75,  31,  99,  83, 116,  16,  76,  38,  72, 108,  61,  92,\n",
      "        132, 107], device='cuda:2') torch.Size([16])\n",
      "08/29/2023, 13:06:53# predicted of Validation: tensor([ 80, 109, 109, 109,  99, 109, 109,  16, 109, 109,  15, 161,  61, 109,\n",
      "        161, 131], device='cuda:2') torch.Size([16])\n",
      "08/29/2023, 13:06:53# labels of 0: tensor([ 80,  11,  75,  31,  99,  83, 116,  16,  76,  38,  72, 108,  61,  92,\n",
      "        132, 107], device='cuda:2') torch.Size([16])\n",
      "08/29/2023, 13:06:53# predicted of 0: tensor([ 80, 109, 109, 109,  99, 109, 109,  16, 109, 109,  15, 161,  61, 109,\n",
      "        161, 131], device='cuda:2') torch.Size([16])\n",
      "08/29/2023, 13:08:08# labels of Validation: tensor([107,   1,  47,  83, 127, 129, 101,  82, 118,  86, 110,  97,  12, 121,\n",
      "        142, 139], device='cuda:2') torch.Size([16])\n",
      "08/29/2023, 13:08:08# predicted of Validation: tensor([131, 109, 109, 109, 127, 131, 131,  82, 118, 109, 131, 109, 109, 109,\n",
      "        109, 109], device='cuda:2') torch.Size([16])\n",
      "08/29/2023, 13:08:10# Validation Loss: 2.9269 | Validation Accuracy: 0.3476\n",
      "\n",
      "08/29/2023, 13:08:10# Find a better model!!\n"
     ]
    },
    {
     "data": {
      "application/vnd.jupyter.widget-view+json": {
       "model_id": "315f6308493d4ad6a03b2dc5ac4b5e17",
       "version_major": 2,
       "version_minor": 0
      },
      "text/plain": [
       "Training:   0%|          | 0/8250 [00:00<?, ?it/s]"
      ]
     },
     "metadata": {},
     "output_type": "display_data"
    },
    {
     "name": "stdout",
     "output_type": "stream",
     "text": [
      "08/29/2023, 13:15:09# labels of 5000: tensor([129,  94, 162,   4, 142,  34,  75,  25,  15, 127,   5, 125,  15,  38,\n",
      "        155,  20], device='cuda:2') torch.Size([16])\n",
      "08/29/2023, 13:15:09# predicted of 5000: tensor([108, 145, 109,  55,  34, 108, 107,  25,  15, 127,   5, 135,  15, 164,\n",
      "        161, 164], device='cuda:2') torch.Size([16])\n",
      "08/29/2023, 13:19:43# total batches: 8250\n",
      "08/29/2023, 13:19:43# Epoch 13 | Train Loss: 2.9557 | Train Accuracy: 0.3389\n"
     ]
    },
    {
     "data": {
      "application/vnd.jupyter.widget-view+json": {
       "model_id": "cded23fe394342a6af4fed5dc7794a09",
       "version_major": 2,
       "version_minor": 0
      },
      "text/plain": [
       "Validation:   0%|          | 0/1032 [00:00<?, ?it/s]"
      ]
     },
     "metadata": {},
     "output_type": "display_data"
    },
    {
     "name": "stdout",
     "output_type": "stream",
     "text": [
      "08/29/2023, 13:19:43# labels of Validation: tensor([159,   8,  73,  36,  18,  28,  26,  82,  24, 136, 126, 146, 104, 142,\n",
      "        112,  82], device='cuda:2') torch.Size([16])\n",
      "08/29/2023, 13:19:43# predicted of Validation: tensor([159, 131,  73,  87,  87, 132,  87,  82,  87, 136, 117, 146,  87,  87,\n",
      "         87,  82], device='cuda:2') torch.Size([16])\n",
      "08/29/2023, 13:19:43# labels of 0: tensor([159,   8,  73,  36,  18,  28,  26,  82,  24, 136, 126, 146, 104, 142,\n",
      "        112,  82], device='cuda:2') torch.Size([16])\n",
      "08/29/2023, 13:19:43# predicted of 0: tensor([159, 131,  73,  87,  87, 132,  87,  82,  87, 136, 117, 146,  87,  87,\n",
      "         87,  82], device='cuda:2') torch.Size([16])\n",
      "08/29/2023, 13:20:57# labels of Validation: tensor([ 49,  53, 164, 114,  66,  98,  97,  52,  73, 149, 163,  61,  46, 107,\n",
      "         92,  29], device='cuda:2') torch.Size([16])\n",
      "08/29/2023, 13:20:57# predicted of Validation: tensor([ 87,  87,  87, 131, 131,  87,  87,  52,  73, 149,  87,  61,  87, 131,\n",
      "         87,  29], device='cuda:2') torch.Size([16])\n",
      "08/29/2023, 13:21:00# Validation Loss: 2.9108 | Validation Accuracy: 0.3488\n",
      "\n",
      "08/29/2023, 13:21:00# Find a better model!!\n"
     ]
    },
    {
     "data": {
      "application/vnd.jupyter.widget-view+json": {
       "model_id": "ad1a9834134a42859b3bdda79cdc6b4e",
       "version_major": 2,
       "version_minor": 0
      },
      "text/plain": [
       "Training:   0%|          | 0/8250 [00:00<?, ?it/s]"
      ]
     },
     "metadata": {},
     "output_type": "display_data"
    },
    {
     "name": "stdout",
     "output_type": "stream",
     "text": [
      "08/29/2023, 13:27:58# labels of 5000: tensor([ 16,  63,  57, 154,  85,  71,  54,  45,  60,  99, 153,   7,  68,  13,\n",
      "        146, 159], device='cuda:2') torch.Size([16])\n",
      "08/29/2023, 13:27:58# predicted of 5000: tensor([ 16, 116, 162, 154,  85,  19,  19,  45,  63,  99, 162,   7, 129,  13,\n",
      "        146, 159], device='cuda:2') torch.Size([16])\n",
      "08/29/2023, 13:31:31# total batches: 8250\n",
      "08/29/2023, 13:31:31# Epoch 14 | Train Loss: 2.9411 | Train Accuracy: 0.3410\n"
     ]
    },
    {
     "data": {
      "application/vnd.jupyter.widget-view+json": {
       "model_id": "e3805e20283a4ba18285c518ed2e7dda",
       "version_major": 2,
       "version_minor": 0
      },
      "text/plain": [
       "Validation:   0%|          | 0/1032 [00:00<?, ?it/s]"
      ]
     },
     "metadata": {},
     "output_type": "display_data"
    },
    {
     "name": "stdout",
     "output_type": "stream",
     "text": [
      "08/29/2023, 13:31:31# labels of Validation: tensor([158, 138, 150, 130,  76, 166, 134, 160, 143,  41,  41, 111, 120, 164,\n",
      "         83,  95], device='cuda:2') torch.Size([16])\n",
      "08/29/2023, 13:31:31# predicted of Validation: tensor([ 86, 138,  86, 130,  86,   6, 134,   6,  86,  86,  86,  86, 120,  86,\n",
      "         86,  95], device='cuda:2') torch.Size([16])\n",
      "08/29/2023, 13:31:31# labels of 0: tensor([158, 138, 150, 130,  76, 166, 134, 160, 143,  41,  41, 111, 120, 164,\n",
      "         83,  95], device='cuda:2') torch.Size([16])\n",
      "08/29/2023, 13:31:31# predicted of 0: tensor([ 86, 138,  86, 130,  86,   6, 134,   6,  86,  86,  86,  86, 120,  86,\n",
      "         86,  95], device='cuda:2') torch.Size([16])\n",
      "08/29/2023, 13:32:28# labels of Validation: tensor([ 37, 145,   9, 109, 143, 161, 102,  11, 147,  15, 114,  15, 127,  50,\n",
      "        116, 103], device='cuda:2') torch.Size([16])\n",
      "08/29/2023, 13:32:28# predicted of Validation: tensor([  6, 145,  86,  86,  86,   6,  86,  86, 147,  15,   6,  94, 127,  50,\n",
      "         86,   6], device='cuda:2') torch.Size([16])\n",
      "08/29/2023, 13:32:30# Validation Loss: 2.8992 | Validation Accuracy: 0.3492\n",
      "\n",
      "08/29/2023, 13:32:30# Find a better model!!\n"
     ]
    },
    {
     "data": {
      "application/vnd.jupyter.widget-view+json": {
       "model_id": "60bae03c339b40119f04b202013576e0",
       "version_major": 2,
       "version_minor": 0
      },
      "text/plain": [
       "Training:   0%|          | 0/8250 [00:00<?, ?it/s]"
      ]
     },
     "metadata": {},
     "output_type": "display_data"
    },
    {
     "name": "stdout",
     "output_type": "stream",
     "text": [
      "08/29/2023, 13:38:24# labels of 5000: tensor([ 18, 136, 150, 156, 114, 158,  67, 158,  17, 163,  63, 132, 127,  81,\n",
      "        128,  84], device='cuda:2') torch.Size([16])\n",
      "08/29/2023, 13:38:24# predicted of 5000: tensor([ 43, 136,  19, 156, 131,  57,  78,  57,  17,  97, 164, 161, 127,  57,\n",
      "        128,  84], device='cuda:2') torch.Size([16])\n"
     ]
    }
   ],
   "source": [
    "import csv\n",
    "import pandas as pd\n",
    "from sklearn.metrics import classification_report\n",
    "from torch.optim import AdamW, lr_scheduler\n",
    "\n",
    "seed = 8787\n",
    "same_seeds(seed)\n",
    "\n",
    "model = GAT(in_dim=150, hidden_dim=16, out_dim=168, num_heads=8)\n",
    "# in_dim means the dimension of the node_feat(50 dim, since the 50-dim embedding)\n",
    "# out_dim means the # of the categories -> 168 for out tasks\n",
    "model.load_state_dict(torch.load('model1_initial/initial_weight.pth'))\n",
    "best_model_path = \"../checkpoint_GAT/best_model_GAT_transH_150.pt\"\n",
    "\n",
    "model = model.to(device)\n",
    "\n",
    "# optimizer = torch.optim.AdamW(model.parameters(), lr=1e-5)\n",
    "optimizer = AdamW(model.parameters(), lr=5e-4)\n",
    "# scheduler = get_linear_schedule_with_warmup(optimizer, num_warmup_steps=18, num_training_steps=total_steps)\n",
    "\n",
    "# T_max control the period of the lr changing -> set 1/10 first\n",
    "scheduler = lr_scheduler.CosineAnnealingLR(optimizer, T_max=36, eta_min=0, last_epoch=- 1, verbose=False)\n",
    "\n",
    "\n",
    "criterion = nn.CrossEntropyLoss()\n",
    "total_steps = 30\n",
    "\n",
    "# save the best model\n",
    "best_val_loss = float('inf')\n",
    "patience = 10  # Number of epochs with no improvement after which training will be stopped.\n",
    "waiting = 0  # The number of epochs with no improvement so far.\n",
    "\n",
    "\n",
    "# Training Part\n",
    "for epoch in tqdm(range(total_steps)):\n",
    "    # Train\n",
    "    model.train()\n",
    "    total_loss = 0.0\n",
    "    total_accuracy = 0.0\n",
    "    num_batches = 0\n",
    "    \n",
    "    for data in tqdm(dataloaders['train'], desc=\"Training\", position=0, leave=True):\n",
    "        num_batches += 1\n",
    "        loss, accuracy, _ = model_fn(data, model, criterion, device, num_batches, which_type='train')\n",
    "        \n",
    "        optimizer.zero_grad()\n",
    "        loss.backward()\n",
    "        optimizer.step()\n",
    "\n",
    "        total_loss += loss.item()\n",
    "        total_accuracy += accuracy.item()\n",
    "\n",
    "        \n",
    "#     scheduler.step()\n",
    "    add_log_msg(f\"total batches: {num_batches}\")\n",
    "\n",
    "    avg_loss = total_loss / num_batches\n",
    "    avg_accuracy = total_accuracy / num_batches\n",
    "\n",
    "    add_log_msg(f'Epoch {epoch} | Train Loss: {avg_loss:.4f} | Train Accuracy: {avg_accuracy:.4f}')\n",
    "\n",
    "    \n",
    "    # Validation Part\n",
    "    model.eval()\n",
    "    total_accuracy = 0.0\n",
    "    total_loss = 0.0\n",
    "    num_batches = 0\n",
    "\n",
    "\n",
    "    with torch.no_grad():\n",
    "        for data in tqdm(dataloaders['valid'], desc=\"Validation\", position=0, leave=True):\n",
    "            loss, accuracy, _ = model_fn(data, model, criterion, device, num_batches, which_type='validation')\n",
    "            total_accuracy += accuracy.item()\n",
    "            total_loss += loss.item()\n",
    "            num_batches += 1\n",
    "\n",
    "    avg_accuracy = total_accuracy / num_batches\n",
    "    current_loss = total_loss / num_batches\n",
    "    \n",
    "    add_log_msg(f'Validation Loss: {current_loss:.4f} | Validation Accuracy: {avg_accuracy:.4f}\\n')\n",
    "    \n",
    "            \n",
    "    if current_loss < best_val_loss:\n",
    "        best_val_loss = current_loss\n",
    "        waiting = 0\n",
    "        \n",
    "        if os.path.exists(best_model_path):\n",
    "            os.remove(best_model_path)\n",
    "            add_log_msg(\"Find a better model!!\")\n",
    "\n",
    "        torch.save(model.state_dict(), best_model_path)\n",
    "\n",
    "        \n",
    "#         print(best_model_path)\n",
    "\n",
    "    else:\n",
    "        waiting += 1\n",
    "        if waiting >= patience:\n",
    "            add_log_msg(\"============================== Early stopping ==================================\")\n",
    "            break"
   ]
  },
  {
   "cell_type": "markdown",
   "metadata": {},
   "source": [
    "### Testing Part"
   ]
  },
  {
   "cell_type": "code",
   "execution_count": null,
   "metadata": {},
   "outputs": [],
   "source": [
    "# load the pretrained model\n",
    "pretrained_model_path = '../checkpoint_GAT/best_model_GAT_transH_150.pt'\n",
    "model.load_state_dict(torch.load(pretrained_model_path))\n",
    "\n",
    "model.to(device)\n",
    "model.eval()\n",
    "\n",
    "total = 0\n",
    "correct = 0\n",
    "count = 0\n",
    "\n",
    "true_labels = []\n",
    "predicted_labels = []\n",
    "\n",
    "with torch.no_grad():\n",
    "    for data in tqdm(dataloaders['test'], desc=\"Testing\", position=0, leave=True):\n",
    "\n",
    "        loss, accuracy, predicted = model_fn(data, model, criterion, device, count, which_type='test')\n",
    "        labels = data[1].to(device)\n",
    "        \n",
    "        true_labels.extend(labels.cpu().numpy())\n",
    "        predicted_labels.extend(predicted.cpu().numpy())\n",
    "        \n",
    "        if count % 5000 == 0:\n",
    "            add_log_msg(f\"labels: {labels} {labels.shape}\")\n",
    "            add_log_msg(f\"predicted: {predicted} {predicted.shape}\")\n",
    "            \n",
    "        count += 1\n",
    "        \n",
    "        total += labels.size(0)\n",
    "        correct += (predicted == labels).sum().item()\n",
    "\n",
    "add_log_msg(f'Test Accuracy: {100 * correct / total} %\\n\\n\\n')\n",
    "\n",
    "\n",
    "# ======================================== handlig the output excel files ========================================\n",
    "mapping_file = './new_mapping.txt'\n",
    "label_mapping = {}\n",
    "with open(mapping_file, 'r') as f:\n",
    "    for line in f:\n",
    "        parts = line.strip().split(': ')\n",
    "        label_mapping[int(parts[1])] = parts[0]\n",
    "        \n",
    "# 将映射后的标签应用到true和predicted标签列表\n",
    "mapped_true_labels = [label_mapping[label] for label in true_labels]\n",
    "mapped_predicted_labels = [label_mapping[label] for label in predicted_labels]\n",
    "\n",
    "# 生成Scikit-learn报告信息的DataFrame\n",
    "report_data = classification_report(mapped_true_labels, mapped_predicted_labels, output_dict=True)\n",
    "report_df = pd.DataFrame(report_data).transpose()\n",
    "\n",
    "report_folder = 'classification_report'\n",
    "os.makedirs(report_folder, exist_ok=True)\n",
    "\n",
    "count = 0\n",
    "while True:\n",
    "    report_filename = f'classification_report-{count}.xlsx'\n",
    "    labels_filename = f'mapped_true_predicted_labels-{count}.xlsx'\n",
    "    \n",
    "    report_path = os.path.join(report_folder, report_filename)\n",
    "    labels_path = os.path.join(report_folder, labels_filename)\n",
    "    \n",
    "    if not os.path.exists(report_path) and not os.path.exists(labels_path):\n",
    "        break\n",
    "    count += 1\n",
    "\n",
    "    \n",
    "report_df.to_excel(report_path, index_label='Label')\n",
    "\n",
    "mapped_labels_df = pd.DataFrame({'true_label': mapped_true_labels, 'predicted_label': mapped_predicted_labels})\n",
    "mapped_labels_df.to_excel(labels_path, index=False)\n",
    "\n",
    "add_log_msg(f\"report path: {report_path}\")\n",
    "add_log_msg(f\"label path: {labels_path}\")\n",
    "\n",
    "mapped_report = classification_report(mapped_true_labels, mapped_predicted_labels)\n",
    "add_log_msg(f\"mapped_report:\\n{mapped_report}\")"
   ]
  },
  {
   "cell_type": "code",
   "execution_count": null,
   "metadata": {},
   "outputs": [],
   "source": []
  }
 ],
 "metadata": {
  "kernelspec": {
   "display_name": "Python 3",
   "language": "python",
   "name": "python3"
  },
  "language_info": {
   "codemirror_mode": {
    "name": "ipython",
    "version": 3
   },
   "file_extension": ".py",
   "mimetype": "text/x-python",
   "name": "python",
   "nbconvert_exporter": "python",
   "pygments_lexer": "ipython3",
   "version": "3.6.9"
  }
 },
 "nbformat": 4,
 "nbformat_minor": 2
}
