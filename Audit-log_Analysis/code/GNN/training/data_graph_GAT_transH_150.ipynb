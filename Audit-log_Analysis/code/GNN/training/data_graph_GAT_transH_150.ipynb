{
 "cells": [
  {
   "cell_type": "markdown",
   "metadata": {},
   "source": [
    "# Test of GAT\n",
    "- use DGL\n",
    "- predict `graphs`\n",
    "- test: 0~99\n",
    "- validation: 100~199\n",
    "- train: 200~999\n",
    "- larger lr with scheduler\n",
    "- try the sklearn report"
   ]
  },
  {
   "cell_type": "code",
   "execution_count": 16,
   "metadata": {},
   "outputs": [],
   "source": [
    "import os\n",
    "import dgl\n",
    "import json\n",
    "import torch\n",
    "import torch as th\n",
    "# from tqdm import tqdm\n",
    "from tqdm.notebook import tqdm  # 使用 notebook 版本的 tqdm\n",
    "import torch.nn as nn\n",
    "from dgl.nn import GraphConv, GATConv\n",
    "import torch.nn.functional as F\n",
    "from torch.utils.data import Dataset, DataLoader\n",
    "from transformers import get_linear_schedule_with_warmup\n",
    "from torch.optim import AdamW\n",
    "from sklearn.metrics import classification_report\n"
   ]
  },
  {
   "cell_type": "markdown",
   "metadata": {},
   "source": [
    "- check the GPU and assign the GPU by the best memory usage"
   ]
  },
  {
   "cell_type": "code",
   "execution_count": 17,
   "metadata": {},
   "outputs": [
    {
     "name": "stdout",
     "output_type": "stream",
     "text": [
      "cuda:1\n"
     ]
    }
   ],
   "source": [
    "import subprocess\n",
    "import torch\n",
    "\n",
    "def get_free_gpu():\n",
    "    try:\n",
    "        # Run nvidia-smi command to get GPU details\n",
    "        _output_to_list = lambda x: x.decode('ascii').split('\\n')[:-1]\n",
    "        command = \"nvidia-smi --query-gpu=memory.free --format=csv,nounits,noheader\"\n",
    "        memory_free_info = _output_to_list(subprocess.check_output(command.split())) \n",
    "        memory_free_values = [int(x) for i, x in enumerate(memory_free_info)]\n",
    "        \n",
    "        # Get the GPU with the maximum free memory\n",
    "        best_gpu_id = memory_free_values.index(max(memory_free_values))\n",
    "        return best_gpu_id\n",
    "    except:\n",
    "        # If any exception occurs, default to GPU 0 (this handles cases where nvidia-smi isn't installed)\n",
    "        return 0\n",
    "\n",
    "if torch.cuda.is_available():\n",
    "    # Get the best GPU ID based on free memory and set it\n",
    "    best_gpu_id = get_free_gpu()\n",
    "    device = torch.device(f\"cuda:{best_gpu_id}\")\n",
    "else:\n",
    "    device = torch.device(\"cpu\")\n",
    "    print(\"there's no available GPU\")\n",
    "\n",
    "# device = torch.device(f\"cuda:1\")\n",
    "print(device)\n"
   ]
  },
  {
   "cell_type": "markdown",
   "metadata": {},
   "source": [
    "## Fix the seed"
   ]
  },
  {
   "cell_type": "code",
   "execution_count": 18,
   "metadata": {},
   "outputs": [],
   "source": [
    "import numpy as np\n",
    "import torch\n",
    "import random\n",
    "\n",
    "#fix seed\n",
    "def same_seeds(seed = 8787):\n",
    "    torch.manual_seed(seed)\n",
    "    # random.seed(seed) \n",
    "    if torch.cuda.is_available():\n",
    "        torch.cuda.manual_seed(seed)\n",
    "        torch.cuda.manual_seed_all(seed)  \n",
    "    np.random.seed(seed)  \n",
    "    torch.backends.cudnn.benchmark = False\n",
    "    torch.backends.cudnn.deterministic = True"
   ]
  },
  {
   "cell_type": "markdown",
   "metadata": {},
   "source": [
    "## Data Loader"
   ]
  },
  {
   "cell_type": "code",
   "execution_count": 19,
   "metadata": {},
   "outputs": [],
   "source": [
    "class GraphDataset(Dataset):\n",
    "    def __init__(self, data_list, device):\n",
    "        self.data_list = data_list\n",
    "        self.device = device\n",
    "\n",
    "    def __len__(self):\n",
    "        return len(self.data_list)\n",
    "    \n",
    "    def __getitem__(self, idx):\n",
    "        data = self.data_list[idx]\n",
    "\n",
    "        g = dgl.graph((th.tensor(data[\"edge_index\"][0]), th.tensor(data[\"edge_index\"][1])), num_nodes=data[\"num_nodes\"]).to(self.device)\n",
    "\n",
    "        g.ndata['feat'] = th.tensor(data[\"node_feat\"]).to(self.device)\n",
    "        g.edata['feat'] = th.tensor(data[\"edge_attr\"]).to(self.device)  # Add edge features to graph\n",
    "\n",
    "        return g, th.tensor(data[\"label\"]).to(self.device)\n",
    "\n",
    "\n",
    "def collate(samples):\n",
    "    # The input `samples` is a list of pairs\n",
    "    #  (graph, label).\n",
    "    graphs, labels = map(list, zip(*samples))\n",
    "    batched_graph = dgl.batch(graphs)\n",
    "    return batched_graph, torch.tensor(labels)\n"
   ]
  },
  {
   "cell_type": "code",
   "execution_count": 20,
   "metadata": {},
   "outputs": [
    {
     "data": {
      "application/vnd.jupyter.widget-view+json": {
       "model_id": "8988a3fde20b49fc9009cd6b05cc17fd",
       "version_major": 2,
       "version_minor": 0
      },
      "text/plain": [
       "  0%|          | 0/3 [00:00<?, ?it/s]"
      ]
     },
     "metadata": {},
     "output_type": "display_data"
    },
    {
     "name": "stdout",
     "output_type": "stream",
     "text": [
      "../../data_processing/dgl/data_new/training_data/exp_2/transH_150/train.jsonl\n"
     ]
    },
    {
     "data": {
      "application/vnd.jupyter.widget-view+json": {
       "model_id": "bf898b171e754819aa3dbf2fdd811fc3",
       "version_major": 2,
       "version_minor": 0
      },
      "text/plain": [
       "0it [00:00, ?it/s]"
      ]
     },
     "metadata": {},
     "output_type": "display_data"
    },
    {
     "name": "stdout",
     "output_type": "stream",
     "text": [
      "../../data_processing/dgl/data_new/training_data/exp_2/transH_150/valid.jsonl\n"
     ]
    },
    {
     "data": {
      "application/vnd.jupyter.widget-view+json": {
       "model_id": "b95eaf8e83c04d0e834d48e8788d1a65",
       "version_major": 2,
       "version_minor": 0
      },
      "text/plain": [
       "0it [00:00, ?it/s]"
      ]
     },
     "metadata": {},
     "output_type": "display_data"
    },
    {
     "name": "stdout",
     "output_type": "stream",
     "text": [
      "../../data_processing/dgl/data_new/training_data/exp_2/transH_150/test.jsonl\n"
     ]
    },
    {
     "data": {
      "application/vnd.jupyter.widget-view+json": {
       "model_id": "529e4f03eb2e4fdf805d3dc8d77417a8",
       "version_major": 2,
       "version_minor": 0
      },
      "text/plain": [
       "0it [00:00, ?it/s]"
      ]
     },
     "metadata": {},
     "output_type": "display_data"
    },
    {
     "name": "stdout",
     "output_type": "stream",
     "text": [
      "Datasets loaded!\n"
     ]
    }
   ],
   "source": [
    "datasets = ['train', 'valid', 'test']\n",
    "# datasets = ['test']\n",
    "dataset_data = {}\n",
    "\n",
    "for dataset_name in tqdm(datasets):\n",
    "#     file_path = f\"../../data_processing/dgl/data/test_graph/repeated_{dataset_name}.jsonl\"\n",
    "    file_path = f\"../../data_processing/dgl/data_new/training_data/exp_2/transH_150/{dataset_name}.jsonl\"\n",
    "    \n",
    "    print(file_path)\n",
    "    with open(file_path) as f:\n",
    "        data_list = [json.loads(line) for line in tqdm(f, position=0, leave=True)]\n",
    "    \n",
    "    dataset_data[dataset_name] = GraphDataset(data_list, device)\n",
    "\n",
    "print(\"Datasets loaded!\")"
   ]
  },
  {
   "cell_type": "markdown",
   "metadata": {},
   "source": [
    "- choose batch size"
   ]
  },
  {
   "cell_type": "code",
   "execution_count": 21,
   "metadata": {},
   "outputs": [
    {
     "name": "stdout",
     "output_type": "stream",
     "text": [
      "Error data!!\n"
     ]
    }
   ],
   "source": [
    "def create_dataloaders(batch_size, shuffle=True):\n",
    "    dataloaders = {}\n",
    "    for dataset_name, dataset in dataset_data.items():\n",
    "        # do not shuffle the testing dataset\n",
    "        if dataset_name == \"test\":\n",
    "            dataloaders[dataset_name] = DataLoader(dataset, batch_size=batch_size, shuffle=False, collate_fn=collate)    \n",
    "        else:\n",
    "            dataloaders[dataset_name] = DataLoader(dataset, batch_size=batch_size, shuffle=shuffle, collate_fn=collate)\n",
    "    return dataloaders\n",
    "\n",
    "# dataloaders = create_dataloaders(4)\n",
    "dataloaders = create_dataloaders(16)\n",
    "\n",
    "\n",
    "if (len(dataloaders['test'].dataset) + len(dataloaders['valid'].dataset) + len(dataloaders['train'].dataset)) % 165 != 0: print(\"Error data!!\")\n",
    "else: print(\"OK!\")\n"
   ]
  },
  {
   "cell_type": "markdown",
   "metadata": {},
   "source": [
    "- Turn the print message to a log file"
   ]
  },
  {
   "cell_type": "code",
   "execution_count": 22,
   "metadata": {},
   "outputs": [
    {
     "name": "stdout",
     "output_type": "stream",
     "text": [
      "(Graph(num_nodes=10, num_edges=19,\n",
      "      ndata_schemes={'feat': Scheme(shape=(150,), dtype=torch.float32)}\n",
      "      edata_schemes={'feat': Scheme(shape=(150,), dtype=torch.float32)}), tensor(6, device='cuda:1'))\n",
      "16600\n",
      "16600\n",
      "132800\n",
      "166000\n"
     ]
    }
   ],
   "source": [
    "# print(dataloaders['test'][5])\n",
    "sample = dataset_data['train'][5000]\n",
    "print(sample)\n",
    "\n",
    "print(len(dataloaders['test'].dataset))\n",
    "print(len(dataloaders['valid'].dataset))\n",
    "print(len(dataloaders['train'].dataset))\n",
    "print(len(dataloaders['test'].dataset) + len(dataloaders['valid'].dataset) + len(dataloaders['train'].dataset))"
   ]
  },
  {
   "cell_type": "code",
   "execution_count": 23,
   "metadata": {},
   "outputs": [
    {
     "name": "stdout",
     "output_type": "stream",
     "text": [
      "../log_message/0902_12:41_GAT_transH_150.log\n"
     ]
    }
   ],
   "source": [
    "import datetime\n",
    "\n",
    "now = datetime.datetime.now()\n",
    "\n",
    "formatted_time = now.strftime(\"%m%d_%H:%M\")\n",
    "\n",
    "log_file_path = f\"../log_message/{formatted_time}_GAT_transH_150.log\"\n",
    "\n",
    "def add_log_msg(msg, log_file_path=log_file_path):\n",
    "    with open(log_file_path, 'a') as f:\n",
    "        f.write(f'{datetime.datetime.now().strftime(\"%m/%d/%Y, %H:%M:%S\")}# {msg}\\n')\n",
    "    print(f'{datetime.datetime.now().strftime(\"%m/%d/%Y, %H:%M:%S\")}# {msg}')\n",
    "\n",
    "print(log_file_path)"
   ]
  },
  {
   "cell_type": "markdown",
   "metadata": {},
   "source": [
    "### Model"
   ]
  },
  {
   "cell_type": "code",
   "execution_count": 24,
   "metadata": {},
   "outputs": [],
   "source": [
    "class GAT(nn.Module):\n",
    "    def __init__(self, in_dim, hidden_dim, out_dim, num_heads, dropout_prob=0.25):\n",
    "        super(GAT, self).__init__()\n",
    "        \n",
    "        # do not check the zero in_degree since we have all the complete graph\n",
    "        self.layer1 = GATConv(in_dim, hidden_dim, num_heads=num_heads, activation=F.relu, allow_zero_in_degree=True)\n",
    "        self.layer2 = GATConv(hidden_dim * num_heads, out_dim, num_heads=num_heads, allow_zero_in_degree=True)\n",
    "        \n",
    "        # Adding Batch Normalization after each GAT layer\n",
    "        self.batchnorm1 = nn.BatchNorm1d(hidden_dim * num_heads)\n",
    "        self.batchnorm2 = nn.BatchNorm1d(out_dim)\n",
    "        \n",
    "        # Adding Dropout for regularization\n",
    "        self.dropout = nn.Dropout(dropout_prob)\n",
    "\n",
    "    def forward(self, g, h):\n",
    "        # Apply GAT layers\n",
    "        h = self.layer1(g, h)\n",
    "        h = h.view(h.shape[0], -1)\n",
    "        h = F.relu(h)\n",
    "        h = self.dropout(h)\n",
    "        h = self.layer2(g, h).squeeze(1)\n",
    "        \n",
    "        # Store the output as a new node feature\n",
    "        g.ndata['h_out'] = h\n",
    "\n",
    "        # Use mean pooling to aggregate this new node feature\n",
    "        h_agg = dgl.mean_nodes(g, feat='h_out')\n",
    "        return h_agg\n",
    "\n",
    "    "
   ]
  },
  {
   "cell_type": "markdown",
   "metadata": {},
   "source": [
    "- Model Forward  "
   ]
  },
  {
   "cell_type": "code",
   "execution_count": 25,
   "metadata": {},
   "outputs": [],
   "source": [
    "def model_fn(data, model, criterion, device, count=1, which_type='train'):\n",
    "    \"\"\"Forward a batch through the model.\"\"\"\n",
    "    batched_g, labels = data\n",
    "    batched_g = batched_g.to(device)\n",
    "    \n",
    "    labels = labels.to(device)\n",
    "    logits = model(batched_g, batched_g.ndata['feat'].float()) # for GAT\n",
    "    logits = logits.mean(dim=1)\n",
    "    \n",
    "    loss = criterion(logits, labels)\n",
    "\n",
    "    # Get the class id with the highest probability\n",
    "    preds = logits.argmax(1)\n",
    "    \n",
    "    # Compute accuracy\n",
    "    accuracy = torch.mean((preds == labels).float())\n",
    "    \n",
    "    if which_type == 'validation' and count % 1000 == 0:\n",
    "        add_log_msg(f\"labels of Validation: {labels} {labels.shape}\")\n",
    "        add_log_msg(f\"predicted of Validation: {preds} {preds.shape}\")\n",
    "        \n",
    "    elif which_type == 'test'  and count % 1000 == 0:\n",
    "        add_log_msg(f\"labels of Test: {labels} {labels.shape}\")\n",
    "        add_log_msg(f\"predicted of Test: {preds} {preds.shape}\")\n",
    "        \n",
    "    if count % 5000 == 0: \n",
    "        add_log_msg(f\"labels of {count}: {labels} {labels.shape}\")\n",
    "        add_log_msg(f\"predicted of {count}: {preds} {preds.shape}\")\n",
    "        \n",
    "    return loss, accuracy, preds"
   ]
  },
  {
   "cell_type": "markdown",
   "metadata": {},
   "source": [
    "### Training"
   ]
  },
  {
   "cell_type": "markdown",
   "metadata": {},
   "source": [
    "- Fix the seed and save the model.state_dict that contains the initial weight"
   ]
  },
  {
   "cell_type": "code",
   "execution_count": 26,
   "metadata": {},
   "outputs": [],
   "source": [
    "seed = 8787\n",
    "same_seeds(seed)\n",
    "\n",
    "model = GAT(in_dim=150, hidden_dim=16, out_dim=168, num_heads=8)\n",
    "torch.save(model.state_dict(), 'model1_initial/initial_weight.pth')"
   ]
  },
  {
   "cell_type": "code",
   "execution_count": 27,
   "metadata": {},
   "outputs": [
    {
     "data": {
      "text/plain": [
       "Parameter containing:\n",
       "tensor([[-0.1088, -0.0760,  0.1288,  ..., -0.1192, -0.0175,  0.0021],\n",
       "        [ 0.0325,  0.0195, -0.1396,  ...,  0.0864, -0.0855,  0.1670],\n",
       "        [-0.0041, -0.0149, -0.0657,  ..., -0.0180, -0.0733,  0.1429],\n",
       "        ...,\n",
       "        [ 0.2402, -0.1547, -0.0973,  ...,  0.0845, -0.2335, -0.0765],\n",
       "        [ 0.1358,  0.1819, -0.1881,  ..., -0.0790, -0.0578, -0.2301],\n",
       "        [ 0.0297, -0.0572, -0.1424,  ...,  0.2224, -0.1195,  0.0005]],\n",
       "       requires_grad=True)"
      ]
     },
     "execution_count": 27,
     "metadata": {},
     "output_type": "execute_result"
    }
   ],
   "source": [
    "model.layer1.fc.weight"
   ]
  },
  {
   "cell_type": "markdown",
   "metadata": {},
   "source": [
    "- Check if model really load the model_dict"
   ]
  },
  {
   "cell_type": "code",
   "execution_count": 28,
   "metadata": {},
   "outputs": [
    {
     "data": {
      "text/plain": [
       "Parameter containing:\n",
       "tensor([[-0.1088, -0.0760,  0.1288,  ..., -0.1192, -0.0175,  0.0021],\n",
       "        [ 0.0325,  0.0195, -0.1396,  ...,  0.0864, -0.0855,  0.1670],\n",
       "        [-0.0041, -0.0149, -0.0657,  ..., -0.0180, -0.0733,  0.1429],\n",
       "        ...,\n",
       "        [ 0.2402, -0.1547, -0.0973,  ...,  0.0845, -0.2335, -0.0765],\n",
       "        [ 0.1358,  0.1819, -0.1881,  ..., -0.0790, -0.0578, -0.2301],\n",
       "        [ 0.0297, -0.0572, -0.1424,  ...,  0.2224, -0.1195,  0.0005]],\n",
       "       requires_grad=True)"
      ]
     },
     "execution_count": 28,
     "metadata": {},
     "output_type": "execute_result"
    }
   ],
   "source": [
    "model = GAT(in_dim=150, hidden_dim=16, out_dim=168, num_heads=8)\n",
    "model.load_state_dict(torch.load('model1_initial/initial_weight.pth'))\n",
    "model.layer1.fc.weight"
   ]
  },
  {
   "cell_type": "markdown",
   "metadata": {},
   "source": [
    "### test of valid and test part is ``graph``"
   ]
  },
  {
   "cell_type": "markdown",
   "metadata": {},
   "source": [
    "- Batch size = 4\n",
    "- use large lr and scheduler"
   ]
  },
  {
   "cell_type": "code",
   "execution_count": null,
   "metadata": {
    "scrolled": true
   },
   "outputs": [
    {
     "data": {
      "application/vnd.jupyter.widget-view+json": {
       "model_id": "d4210da4fd804ae4a9fe47971a5a64f0",
       "version_major": 2,
       "version_minor": 0
      },
      "text/plain": [
       "  0%|          | 0/25 [00:00<?, ?it/s]"
      ]
     },
     "metadata": {},
     "output_type": "display_data"
    },
    {
     "data": {
      "application/vnd.jupyter.widget-view+json": {
       "model_id": "30f5a337d4714e9082cd30c25e11658e",
       "version_major": 2,
       "version_minor": 0
      },
      "text/plain": [
       "Training:   0%|          | 0/8300 [00:00<?, ?it/s]"
      ]
     },
     "metadata": {},
     "output_type": "display_data"
    },
    {
     "name": "stdout",
     "output_type": "stream",
     "text": [
      "09/01/2023, 22:19:17# labels of 5000: tensor([ 85, 134,  50,   0, 122,  30,   5, 125,  63,  55, 154,  89,  95,  64,\n",
      "        141,  12], device='cuda:0') torch.Size([16])\n",
      "09/01/2023, 22:19:17# predicted of 5000: tensor([ 17, 134,  17,  17,  70, 161,  17, 161, 161, 161, 154,  17,  17,  28,\n",
      "        161, 161], device='cuda:0') torch.Size([16])\n",
      "09/01/2023, 22:20:27# total batches: 8300\n",
      "09/01/2023, 22:20:27# Epoch 0 | Train Loss: 4.6406 | Train Accuracy: 0.0490\n"
     ]
    },
    {
     "data": {
      "application/vnd.jupyter.widget-view+json": {
       "model_id": "645248f4a47443e3bd032716f4b539ff",
       "version_major": 2,
       "version_minor": 0
      },
      "text/plain": [
       "Validation:   0%|          | 0/1038 [00:00<?, ?it/s]"
      ]
     },
     "metadata": {},
     "output_type": "display_data"
    },
    {
     "name": "stdout",
     "output_type": "stream",
     "text": [
      "09/01/2023, 22:20:27# labels of Validation: tensor([ 84,  99,   9,   4,  77, 115,  34,  84,  74, 115,  28,  93,  19, 141,\n",
      "         98,  86], device='cuda:0') torch.Size([16])\n",
      "09/01/2023, 22:20:27# predicted of Validation: tensor([128,  99, 132, 132, 132, 146, 132, 128, 132, 146, 132, 132, 132, 132,\n",
      "        132, 132], device='cuda:0') torch.Size([16])\n",
      "09/01/2023, 22:20:27# labels of 0: tensor([ 84,  99,   9,   4,  77, 115,  34,  84,  74, 115,  28,  93,  19, 141,\n",
      "         98,  86], device='cuda:0') torch.Size([16])\n",
      "09/01/2023, 22:20:27# predicted of 0: tensor([128,  99, 132, 132, 132, 146, 132, 128, 132, 146, 132, 132, 132, 132,\n",
      "        132, 132], device='cuda:0') torch.Size([16])\n",
      "09/01/2023, 22:20:46# labels of Validation: tensor([125, 107, 155, 148, 117,  23,  20, 110,  72, 111,  28,  47, 166,  60,\n",
      "        130,  82], device='cuda:0') torch.Size([16])\n",
      "09/01/2023, 22:20:46# predicted of Validation: tensor([132, 132, 132, 132,  40,  99, 132, 132, 146, 132, 132, 132, 132, 132,\n",
      "        127,  82], device='cuda:0') torch.Size([16])\n",
      "09/01/2023, 22:20:47# Validation Loss: 4.1877 | Validation Accuracy: 0.1093\n",
      "\n",
      "09/01/2023, 22:20:47# Find a better model!!\n"
     ]
    },
    {
     "data": {
      "application/vnd.jupyter.widget-view+json": {
       "model_id": "d14950f03b434978b47de392b5b05097",
       "version_major": 2,
       "version_minor": 0
      },
      "text/plain": [
       "Training:   0%|          | 0/8300 [00:00<?, ?it/s]"
      ]
     },
     "metadata": {},
     "output_type": "display_data"
    },
    {
     "name": "stdout",
     "output_type": "stream",
     "text": [
      "09/01/2023, 22:22:44# labels of 5000: tensor([ 64,  23,  76,  14,  46,  32,  46,  83,   2,  14,  58, 113,  19,   4,\n",
      "        139, 138], device='cuda:0') torch.Size([16])\n",
      "09/01/2023, 22:22:44# predicted of 5000: tensor([161,  99, 132, 132, 132,  99, 132, 132, 132,  54, 132, 132, 132, 132,\n",
      "        132, 138], device='cuda:0') torch.Size([16])\n",
      "09/01/2023, 22:24:02# total batches: 8300\n",
      "09/01/2023, 22:24:02# Epoch 1 | Train Loss: 3.9747 | Train Accuracy: 0.1456\n"
     ]
    },
    {
     "data": {
      "application/vnd.jupyter.widget-view+json": {
       "model_id": "e8ccbf93fd3844ae9ec50fa1af390ce9",
       "version_major": 2,
       "version_minor": 0
      },
      "text/plain": [
       "Validation:   0%|          | 0/1038 [00:00<?, ?it/s]"
      ]
     },
     "metadata": {},
     "output_type": "display_data"
    },
    {
     "name": "stdout",
     "output_type": "stream",
     "text": [
      "09/01/2023, 22:24:02# labels of Validation: tensor([ 10,  95,  61,  83,   2, 165,  73,   9,  24,  75,  49,  99, 161,  34,\n",
      "        103,  56], device='cuda:0') torch.Size([16])\n",
      "09/01/2023, 22:24:02# predicted of Validation: tensor([  6, 122,  15,   6,   6, 165,  15,   6,   6,   6,   6,  99, 161,   6,\n",
      "          6,   0], device='cuda:0') torch.Size([16])\n",
      "09/01/2023, 22:24:02# labels of 0: tensor([ 10,  95,  61,  83,   2, 165,  73,   9,  24,  75,  49,  99, 161,  34,\n",
      "        103,  56], device='cuda:0') torch.Size([16])\n",
      "09/01/2023, 22:24:02# predicted of 0: tensor([  6, 122,  15,   6,   6, 165,  15,   6,   6,   6,   6,  99, 161,   6,\n",
      "          6,   0], device='cuda:0') torch.Size([16])\n",
      "09/01/2023, 22:24:21# labels of Validation: tensor([151,  20, 111,  59,  21,   6, 140,  16,  53,  43,  40,  17, 102,  24,\n",
      "         93,  48], device='cuda:0') torch.Size([16])\n",
      "09/01/2023, 22:24:21# predicted of Validation: tensor([  6,   6,   6,   6,   6,   6, 140,  16,   6,   6,  62,  17,   6,   6,\n",
      "          6,   6], device='cuda:0') torch.Size([16])\n",
      "09/01/2023, 22:24:22# Validation Loss: 3.7775 | Validation Accuracy: 0.2050\n",
      "\n",
      "09/01/2023, 22:24:22# Find a better model!!\n"
     ]
    },
    {
     "data": {
      "application/vnd.jupyter.widget-view+json": {
       "model_id": "f860cbb3a74541e3a819bff47aef311b",
       "version_major": 2,
       "version_minor": 0
      },
      "text/plain": [
       "Training:   0%|          | 0/8300 [00:00<?, ?it/s]"
      ]
     },
     "metadata": {},
     "output_type": "display_data"
    },
    {
     "name": "stdout",
     "output_type": "stream",
     "text": [
      "09/01/2023, 22:26:20# labels of 5000: tensor([ 80,  70,  51,  37, 136, 140,  99, 106,  65,  48,  33,  87,  18,  74,\n",
      "         86,  74], device='cuda:0') torch.Size([16])\n",
      "09/01/2023, 22:26:20# predicted of 5000: tensor([ 80,  70,  28, 150, 136,   3,  99, 106,  28, 111,  60,  51,  51,  38,\n",
      "         21, 107], device='cuda:0') torch.Size([16])\n",
      "09/01/2023, 22:27:43# total batches: 8300\n",
      "09/01/2023, 22:27:43# Epoch 2 | Train Loss: 3.6652 | Train Accuracy: 0.1994\n"
     ]
    },
    {
     "data": {
      "application/vnd.jupyter.widget-view+json": {
       "model_id": "b86f3f1fa6c048da88fb4856e07cc467",
       "version_major": 2,
       "version_minor": 0
      },
      "text/plain": [
       "Validation:   0%|          | 0/1038 [00:00<?, ?it/s]"
      ]
     },
     "metadata": {},
     "output_type": "display_data"
    },
    {
     "name": "stdout",
     "output_type": "stream",
     "text": [
      "09/01/2023, 22:27:44# labels of Validation: tensor([ 99, 124,  98,  59, 126,   2, 118,  34,  41,  36, 164, 120,  81,   2,\n",
      "         43,  77], device='cuda:0') torch.Size([16])\n",
      "09/01/2023, 22:27:44# predicted of Validation: tensor([ 99,  37,  37,  28, 117,  37, 118,  37,  37,  37,  37, 145,  37,  37,\n",
      "         37,  28], device='cuda:0') torch.Size([16])\n",
      "09/01/2023, 22:27:44# labels of 0: tensor([ 99, 124,  98,  59, 126,   2, 118,  34,  41,  36, 164, 120,  81,   2,\n",
      "         43,  77], device='cuda:0') torch.Size([16])\n",
      "09/01/2023, 22:27:44# predicted of 0: tensor([ 99,  37,  37,  28, 117,  37, 118,  37,  37,  37,  37, 145,  37,  37,\n",
      "         37,  28], device='cuda:0') torch.Size([16])\n",
      "09/01/2023, 22:28:02# labels of Validation: tensor([ 95, 145,  46, 134,  36,   3, 105, 152, 144, 139,  86,  61,  53,  76,\n",
      "         32,  26], device='cuda:0') torch.Size([16])\n",
      "09/01/2023, 22:28:02# predicted of Validation: tensor([ 15, 145,  37, 134,  37,   3, 105,  37,  37,  37,  37,  61,  37,  37,\n",
      "         32,  37], device='cuda:0') torch.Size([16])\n",
      "09/01/2023, 22:28:03# Validation Loss: 3.5437 | Validation Accuracy: 0.2474\n",
      "\n",
      "09/01/2023, 22:28:03# Find a better model!!\n"
     ]
    },
    {
     "data": {
      "application/vnd.jupyter.widget-view+json": {
       "model_id": "ed8de9ba59ce4dc083eef8b61b0dc602",
       "version_major": 2,
       "version_minor": 0
      },
      "text/plain": [
       "Training:   0%|          | 0/8300 [00:00<?, ?it/s]"
      ]
     },
     "metadata": {},
     "output_type": "display_data"
    },
    {
     "name": "stdout",
     "output_type": "stream",
     "text": [
      "09/01/2023, 22:30:04# labels of 5000: tensor([141, 129,  93, 126,  68,  17, 147,  64,  78,  78,  64, 100,  33, 157,\n",
      "        148, 110], device='cuda:0') torch.Size([16])\n",
      "09/01/2023, 22:30:04# predicted of 5000: tensor([132, 161, 161,  40, 161,  17, 147,  26,  67,  67,  26, 161,  74,  59,\n",
      "        161, 161], device='cuda:0') torch.Size([16])\n",
      "09/01/2023, 22:31:22# total batches: 8300\n",
      "09/01/2023, 22:31:22# Epoch 3 | Train Loss: 3.4857 | Train Accuracy: 0.2382\n"
     ]
    },
    {
     "data": {
      "application/vnd.jupyter.widget-view+json": {
       "model_id": "5b9fed950242437b9248d7c0946c5cee",
       "version_major": 2,
       "version_minor": 0
      },
      "text/plain": [
       "Validation:   0%|          | 0/1038 [00:00<?, ?it/s]"
      ]
     },
     "metadata": {},
     "output_type": "display_data"
    },
    {
     "name": "stdout",
     "output_type": "stream",
     "text": [
      "09/01/2023, 22:31:22# labels of Validation: tensor([162, 158,  80,  52,   3, 164,   3, 133, 143, 110, 112,  43, 126, 106,\n",
      "         49,  91], device='cuda:0') torch.Size([16])\n",
      "09/01/2023, 22:31:22# predicted of Validation: tensor([  9,   9,  80,  52,   3,   9,   3,   6,   9,   6,   9,   9,  95, 106,\n",
      "          9, 132], device='cuda:0') torch.Size([16])\n",
      "09/01/2023, 22:31:22# labels of 0: tensor([162, 158,  80,  52,   3, 164,   3, 133, 143, 110, 112,  43, 126, 106,\n",
      "         49,  91], device='cuda:0') torch.Size([16])\n",
      "09/01/2023, 22:31:22# predicted of 0: tensor([  9,   9,  80,  52,   3,   9,   3,   6,   9,   6,   9,   9,  95, 106,\n",
      "          9, 132], device='cuda:0') torch.Size([16])\n",
      "09/01/2023, 22:31:40# labels of Validation: tensor([141, 109,  59,  34, 103, 137,  36,  83, 118,  37,  48,  37,  21,  11,\n",
      "        160,   5], device='cuda:0') torch.Size([16])\n",
      "09/01/2023, 22:31:40# predicted of Validation: tensor([  6,   9, 132,   9,   6,   9,   9,   9, 118,   6,   9,   6, 132,   9,\n",
      "          6,   5], device='cuda:0') torch.Size([16])\n",
      "09/01/2023, 22:31:41# Validation Loss: 3.3991 | Validation Accuracy: 0.2792\n",
      "\n",
      "09/01/2023, 22:31:41# Find a better model!!\n"
     ]
    },
    {
     "data": {
      "application/vnd.jupyter.widget-view+json": {
       "model_id": "bce822be80dd4e739a0980884bed92ba",
       "version_major": 2,
       "version_minor": 0
      },
      "text/plain": [
       "Training:   0%|          | 0/8300 [00:00<?, ?it/s]"
      ]
     },
     "metadata": {},
     "output_type": "display_data"
    },
    {
     "name": "stdout",
     "output_type": "stream",
     "text": [
      "09/01/2023, 22:33:43# labels of 5000: tensor([ 20, 112,  55,  68,   1,  53,  78, 124,  70,  43, 139, 147,  89,  40,\n",
      "          5, 165], device='cuda:0') torch.Size([16])\n",
      "09/01/2023, 22:33:43# predicted of 5000: tensor([ 47,  30, 108,  28,  47,  51,  67,  51,  70,  30,  47,  45, 126,  62,\n",
      "         39, 165], device='cuda:0') torch.Size([16])\n",
      "09/01/2023, 22:35:01# total batches: 8300\n",
      "09/01/2023, 22:35:01# Epoch 4 | Train Loss: 3.3616 | Train Accuracy: 0.2637\n"
     ]
    },
    {
     "data": {
      "application/vnd.jupyter.widget-view+json": {
       "model_id": "20e4ba11dc2f4e2faa66dd2dac20603a",
       "version_major": 2,
       "version_minor": 0
      },
      "text/plain": [
       "Validation:   0%|          | 0/1038 [00:00<?, ?it/s]"
      ]
     },
     "metadata": {},
     "output_type": "display_data"
    },
    {
     "name": "stdout",
     "output_type": "stream",
     "text": [
      "09/01/2023, 22:35:02# labels of Validation: tensor([ 44,  74,  73,   5, 157,  59, 100, 112,  67,  34, 138, 154,  51,  13,\n",
      "         49,  34], device='cuda:0') torch.Size([16])\n",
      "09/01/2023, 22:35:02# predicted of Validation: tensor([157, 157,  72,  39, 157,  28, 155, 157,  67, 157, 138, 154, 132,  13,\n",
      "        157, 157], device='cuda:0') torch.Size([16])\n",
      "09/01/2023, 22:35:02# labels of 0: tensor([ 44,  74,  73,   5, 157,  59, 100, 112,  67,  34, 138, 154,  51,  13,\n",
      "         49,  34], device='cuda:0') torch.Size([16])\n",
      "09/01/2023, 22:35:02# predicted of 0: tensor([157, 157,  72,  39, 157,  28, 155, 157,  67, 157, 138, 154, 132,  13,\n",
      "        157, 157], device='cuda:0') torch.Size([16])\n",
      "09/01/2023, 22:35:20# labels of Validation: tensor([ 67, 100,  65,  50,  64,  41, 113, 147, 102, 113,  64,  93, 148, 103,\n",
      "        101,  50], device='cuda:0') torch.Size([16])\n",
      "09/01/2023, 22:35:20# predicted of Validation: tensor([ 67, 155, 157,  50, 155, 157, 155, 147, 157, 155, 155, 155, 155, 155,\n",
      "         28,  50], device='cuda:0') torch.Size([16])\n",
      "09/01/2023, 22:35:21# Validation Loss: 3.2891 | Validation Accuracy: 0.2900\n",
      "\n",
      "09/01/2023, 22:35:21# Find a better model!!\n"
     ]
    },
    {
     "data": {
      "application/vnd.jupyter.widget-view+json": {
       "model_id": "d0aaab89f1714eef86f6fc1f3f40a4e8",
       "version_major": 2,
       "version_minor": 0
      },
      "text/plain": [
       "Training:   0%|          | 0/8300 [00:00<?, ?it/s]"
      ]
     },
     "metadata": {},
     "output_type": "display_data"
    },
    {
     "name": "stdout",
     "output_type": "stream",
     "text": [
      "09/01/2023, 22:37:20# labels of 5000: tensor([147,  28,  37, 137,  35, 134,  95, 145,  40,  48,  55, 114,  16,  92,\n",
      "        158,  66], device='cuda:0') torch.Size([16])\n",
      "09/01/2023, 22:37:20# predicted of 5000: tensor([147,  28, 161,  90,  35, 134,  95,  80,  40,  90,  81, 161,  16,  37,\n",
      "         43, 161], device='cuda:0') torch.Size([16])\n",
      "09/01/2023, 22:38:39# total batches: 8300\n",
      "09/01/2023, 22:38:39# Epoch 5 | Train Loss: 3.2676 | Train Accuracy: 0.2820\n"
     ]
    },
    {
     "data": {
      "application/vnd.jupyter.widget-view+json": {
       "model_id": "62a45d4f1409437ea9916c012f18f727",
       "version_major": 2,
       "version_minor": 0
      },
      "text/plain": [
       "Validation:   0%|          | 0/1038 [00:00<?, ?it/s]"
      ]
     },
     "metadata": {},
     "output_type": "display_data"
    },
    {
     "name": "stdout",
     "output_type": "stream",
     "text": [
      "09/01/2023, 22:38:39# labels of Validation: tensor([153,  17, 153, 104, 143,  11,  92,  87,  89,  50,  57,  42, 151,  49,\n",
      "         55,  39], device='cuda:0') torch.Size([16])\n",
      "09/01/2023, 22:38:39# predicted of Validation: tensor([49, 17, 49, 49, 49, 49, 49, 49, 15, 95, 49, 49, 49, 49, 49, 39],\n",
      "       device='cuda:0') torch.Size([16])\n",
      "09/01/2023, 22:38:39# labels of 0: tensor([153,  17, 153, 104, 143,  11,  92,  87,  89,  50,  57,  42, 151,  49,\n",
      "         55,  39], device='cuda:0') torch.Size([16])\n",
      "09/01/2023, 22:38:39# predicted of 0: tensor([49, 17, 49, 49, 49, 49, 49, 49, 15, 95, 49, 49, 49, 49, 49, 39],\n",
      "       device='cuda:0') torch.Size([16])\n",
      "09/01/2023, 22:38:58# labels of Validation: tensor([ 58, 157,  73,  27, 129, 139,  69,  37,  34,  44,  25,  45,  47,  23,\n",
      "         52,   5], device='cuda:0') torch.Size([16])\n",
      "09/01/2023, 22:38:58# predicted of Validation: tensor([ 49,  49,  62,  27, 108,  49,  69, 108,  49,  49,  25,  45,  49,  23,\n",
      "         52,   5], device='cuda:0') torch.Size([16])\n",
      "09/01/2023, 22:38:58# Validation Loss: 3.2039 | Validation Accuracy: 0.3083\n",
      "\n",
      "09/01/2023, 22:38:58# Find a better model!!\n"
     ]
    },
    {
     "data": {
      "application/vnd.jupyter.widget-view+json": {
       "model_id": "88904749132342f491568116e24f8dd5",
       "version_major": 2,
       "version_minor": 0
      },
      "text/plain": [
       "Training:   0%|          | 0/8300 [00:00<?, ?it/s]"
      ]
     },
     "metadata": {},
     "output_type": "display_data"
    },
    {
     "name": "stdout",
     "output_type": "stream",
     "text": [
      "09/01/2023, 22:40:58# labels of 5000: tensor([114, 119,  51, 101,  21,  57,  20,  88,  18,  54,  63,  74, 111, 157,\n",
      "        112,  46], device='cuda:0') torch.Size([16])\n",
      "09/01/2023, 22:40:58# predicted of 5000: tensor([148, 124, 161, 161, 161, 107, 148, 107,  10, 148, 148, 148, 148, 107,\n",
      "        148, 148], device='cuda:0') torch.Size([16])\n",
      "09/01/2023, 22:42:17# total batches: 8300\n",
      "09/01/2023, 22:42:17# Epoch 6 | Train Loss: 3.1973 | Train Accuracy: 0.2956\n"
     ]
    },
    {
     "data": {
      "application/vnd.jupyter.widget-view+json": {
       "model_id": "2a25ef61620a45159725013878727f33",
       "version_major": 2,
       "version_minor": 0
      },
      "text/plain": [
       "Validation:   0%|          | 0/1038 [00:00<?, ?it/s]"
      ]
     },
     "metadata": {},
     "output_type": "display_data"
    },
    {
     "name": "stdout",
     "output_type": "stream",
     "text": [
      "09/01/2023, 22:42:17# labels of Validation: tensor([ 60,  40,  98,  19,  11,  34,   3, 162,  91,  89,  19, 111, 141, 101,\n",
      "         16, 156], device='cuda:0') torch.Size([16])\n",
      "09/01/2023, 22:42:17# predicted of Validation: tensor([ 19, 120,  19,  19,  19,  19,   3,  19,  28,  89,  19,  19,  88,  28,\n",
      "         16, 156], device='cuda:0') torch.Size([16])\n",
      "09/01/2023, 22:42:17# labels of 0: tensor([ 60,  40,  98,  19,  11,  34,   3, 162,  91,  89,  19, 111, 141, 101,\n",
      "         16, 156], device='cuda:0') torch.Size([16])\n",
      "09/01/2023, 22:42:17# predicted of 0: tensor([ 19, 120,  19,  19,  19,  19,   3,  19,  28,  89,  19,  19,  88,  28,\n",
      "         16, 156], device='cuda:0') torch.Size([16])\n",
      "09/01/2023, 22:42:35# labels of Validation: tensor([ 40,  42,  38,  39, 144, 103,  43, 107, 107,  39, 124, 112,  52,  21,\n",
      "        117, 156], device='cuda:0') torch.Size([16])\n",
      "09/01/2023, 22:42:35# predicted of Validation: tensor([ 40,  19,  19,  39,  19,  88,  19,  88,  88,   0,  19,  19,  52,  28,\n",
      "        117, 156], device='cuda:0') torch.Size([16])\n",
      "09/01/2023, 22:42:36# Validation Loss: 3.1425 | Validation Accuracy: 0.3229\n",
      "\n",
      "09/01/2023, 22:42:36# Find a better model!!\n"
     ]
    },
    {
     "data": {
      "application/vnd.jupyter.widget-view+json": {
       "model_id": "31b05df1c8994c5ca8029d63ad22a0bb",
       "version_major": 2,
       "version_minor": 0
      },
      "text/plain": [
       "Training:   0%|          | 0/8300 [00:00<?, ?it/s]"
      ]
     },
     "metadata": {},
     "output_type": "display_data"
    },
    {
     "name": "stdout",
     "output_type": "stream",
     "text": [
      "09/01/2023, 22:44:39# labels of 5000: tensor([164,  68,  59,  56,  62, 136, 134, 146,  63,  66,  41,  24, 128,  21,\n",
      "         78, 107], device='cuda:0') torch.Size([16])\n",
      "09/01/2023, 22:44:39# predicted of 5000: tensor([137, 108, 108,  56, 146, 136, 134, 146, 143, 108,  76,  49,  84,  51,\n",
      "         67,  28], device='cuda:0') torch.Size([16])\n",
      "09/01/2023, 22:45:59# total batches: 8300\n",
      "09/01/2023, 22:45:59# Epoch 7 | Train Loss: 3.1428 | Train Accuracy: 0.3060\n"
     ]
    },
    {
     "data": {
      "application/vnd.jupyter.widget-view+json": {
       "model_id": "bd3bb762da694ba898f35d69688cdd5a",
       "version_major": 2,
       "version_minor": 0
      },
      "text/plain": [
       "Validation:   0%|          | 0/1038 [00:00<?, ?it/s]"
      ]
     },
     "metadata": {},
     "output_type": "display_data"
    },
    {
     "name": "stdout",
     "output_type": "stream",
     "text": [
      "09/01/2023, 22:45:59# labels of Validation: tensor([ 96,  36,  46,  67,  18,  45,  96,  52,  83,  49, 128,  20, 132,  86,\n",
      "         98,  99], device='cuda:0') torch.Size([16])\n",
      "09/01/2023, 22:45:59# predicted of Validation: tensor([ 96,  11,  11,  67,  11,  45,  96,  52,  11,  11, 128,  11, 132,  11,\n",
      "         11,  99], device='cuda:0') torch.Size([16])\n",
      "09/01/2023, 22:45:59# labels of 0: tensor([ 96,  36,  46,  67,  18,  45,  96,  52,  83,  49, 128,  20, 132,  86,\n",
      "         98,  99], device='cuda:0') torch.Size([16])\n",
      "09/01/2023, 22:45:59# predicted of 0: tensor([ 96,  11,  11,  67,  11,  45,  96,  52,  11,  11, 128,  11, 132,  11,\n",
      "         11,  99], device='cuda:0') torch.Size([16])\n",
      "09/01/2023, 22:46:18# labels of Validation: tensor([104, 153, 144,  72,  12,  96, 115, 151,  74,  30, 132, 106,  55,  28,\n",
      "        158,  54], device='cuda:0') torch.Size([16])\n",
      "09/01/2023, 22:46:18# predicted of Validation: tensor([ 11,  11,  11,  79,  11,  96, 115,  11,  11,  11, 132, 106,  11, 132,\n",
      "         11,  11], device='cuda:0') torch.Size([16])\n",
      "09/01/2023, 22:46:18# Validation Loss: 3.0923 | Validation Accuracy: 0.3244\n",
      "\n",
      "09/01/2023, 22:46:18# Find a better model!!\n"
     ]
    },
    {
     "data": {
      "application/vnd.jupyter.widget-view+json": {
       "model_id": "0cfe191bb54349b9910590e6a0454882",
       "version_major": 2,
       "version_minor": 0
      },
      "text/plain": [
       "Training:   0%|          | 0/8300 [00:00<?, ?it/s]"
      ]
     },
     "metadata": {},
     "output_type": "display_data"
    },
    {
     "name": "stdout",
     "output_type": "stream",
     "text": [
      "09/01/2023, 22:48:18# labels of 5000: tensor([117,  50,  82, 118,  24, 104,  49,  31, 114,  84, 147,  15, 108,  53,\n",
      "         77, 109], device='cuda:0') torch.Size([16])\n",
      "09/01/2023, 22:48:18# predicted of 5000: tensor([ 79,  50,  82, 118,  83,  37, 103,  37, 108,  84, 147,  45, 161,  83,\n",
      "        161, 151], device='cuda:0') torch.Size([16])\n",
      "09/01/2023, 22:49:37# total batches: 8300\n",
      "09/01/2023, 22:49:37# Epoch 8 | Train Loss: 3.0992 | Train Accuracy: 0.3150\n"
     ]
    },
    {
     "data": {
      "application/vnd.jupyter.widget-view+json": {
       "model_id": "d0825a3d9c6a4bdd8a7ce50fe19bc4ca",
       "version_major": 2,
       "version_minor": 0
      },
      "text/plain": [
       "Validation:   0%|          | 0/1038 [00:00<?, ?it/s]"
      ]
     },
     "metadata": {},
     "output_type": "display_data"
    },
    {
     "name": "stdout",
     "output_type": "stream",
     "text": [
      "09/01/2023, 22:49:37# labels of Validation: tensor([124,  37,  78,  85, 149,  29,  24,  48,  97,  33,  23,  67, 150,  86,\n",
      "         21,   3], device='cuda:0') torch.Size([16])\n",
      "09/01/2023, 22:49:37# predicted of Validation: tensor([152, 131,  67,  85, 149,  29, 152, 152, 152, 152,  23,  67, 152, 152,\n",
      "         28,   3], device='cuda:0') torch.Size([16])\n",
      "09/01/2023, 22:49:37# labels of 0: tensor([124,  37,  78,  85, 149,  29,  24,  48,  97,  33,  23,  67, 150,  86,\n",
      "         21,   3], device='cuda:0') torch.Size([16])\n",
      "09/01/2023, 22:49:37# predicted of 0: tensor([152, 131,  67,  85, 149,  29, 152, 152, 152, 152,  23,  67, 152, 152,\n",
      "         28,   3], device='cuda:0') torch.Size([16])\n",
      "09/01/2023, 22:49:56# labels of Validation: tensor([142,  63,  19, 111, 112,  35, 149,  66, 132, 153, 140, 104,  89,  38,\n",
      "        135,  63], device='cuda:0') torch.Size([16])\n",
      "09/01/2023, 22:49:56# predicted of Validation: tensor([152, 152, 152, 152, 152,  35, 149,  28, 132, 152, 140, 152,  94, 152,\n",
      "        152, 152], device='cuda:0') torch.Size([16])\n",
      "09/01/2023, 22:49:56# Validation Loss: 3.0534 | Validation Accuracy: 0.3292\n",
      "\n",
      "09/01/2023, 22:49:56# Find a better model!!\n"
     ]
    },
    {
     "data": {
      "application/vnd.jupyter.widget-view+json": {
       "model_id": "862e7a9dc5a34dc6b9f55953469ab509",
       "version_major": 2,
       "version_minor": 0
      },
      "text/plain": [
       "Training:   0%|          | 0/8300 [00:00<?, ?it/s]"
      ]
     },
     "metadata": {},
     "output_type": "display_data"
    },
    {
     "name": "stdout",
     "output_type": "stream",
     "text": [
      "09/01/2023, 22:51:59# labels of 5000: tensor([111,   3,  73, 165, 153, 104,  53, 125,  23, 127,  45, 132, 160, 119,\n",
      "        127, 135], device='cuda:0') torch.Size([16])\n",
      "09/01/2023, 22:51:59# predicted of 5000: tensor([ 75,   3,  73, 165, 125,   8,   8,  54,  23, 127,  89,  28,  28,  66,\n",
      "        127, 164], device='cuda:0') torch.Size([16])\n",
      "09/01/2023, 22:53:18# total batches: 8300\n",
      "09/01/2023, 22:53:18# Epoch 9 | Train Loss: 3.0636 | Train Accuracy: 0.3214\n"
     ]
    },
    {
     "data": {
      "application/vnd.jupyter.widget-view+json": {
       "model_id": "e3d5b16697d9491b987b94572e2ee665",
       "version_major": 2,
       "version_minor": 0
      },
      "text/plain": [
       "Validation:   0%|          | 0/1038 [00:00<?, ?it/s]"
      ]
     },
     "metadata": {},
     "output_type": "display_data"
    },
    {
     "name": "stdout",
     "output_type": "stream",
     "text": [
      "09/01/2023, 22:53:18# labels of Validation: tensor([ 59,  29,  67,  85,  90, 120,   0,  29, 106,  56,  81, 126,  38, 132,\n",
      "         56, 117], device='cuda:0') torch.Size([16])\n",
      "09/01/2023, 22:53:18# predicted of Validation: tensor([132,  29,  67,  85,  51, 146,   0,  29, 106,  56,  71, 126,  71, 132,\n",
      "         56,  40], device='cuda:0') torch.Size([16])\n",
      "09/01/2023, 22:53:18# labels of 0: tensor([ 59,  29,  67,  85,  90, 120,   0,  29, 106,  56,  81, 126,  38, 132,\n",
      "         56, 117], device='cuda:0') torch.Size([16])\n",
      "09/01/2023, 22:53:18# predicted of 0: tensor([132,  29,  67,  85,  51, 146,   0,  29, 106,  56,  71, 126,  71, 132,\n",
      "         56,  40], device='cuda:0') torch.Size([16])\n",
      "09/01/2023, 22:53:37# labels of Validation: tensor([ 40, 130,  55, 111,  17, 111, 131,  41,  28,  45, 113,  97,  30,  40,\n",
      "         57,   2], device='cuda:0') torch.Size([16])\n",
      "09/01/2023, 22:53:37# predicted of Validation: tensor([ 40, 130,  71,  71,  17,  71, 132,  71, 132,  45,  51,  71,  71,  95,\n",
      "         71,  71], device='cuda:0') torch.Size([16])\n",
      "09/01/2023, 22:53:38# Validation Loss: 3.0213 | Validation Accuracy: 0.3327\n",
      "\n",
      "09/01/2023, 22:53:38# Find a better model!!\n"
     ]
    },
    {
     "data": {
      "application/vnd.jupyter.widget-view+json": {
       "model_id": "e84beac682de48ea8779d86c2ea60fc6",
       "version_major": 2,
       "version_minor": 0
      },
      "text/plain": [
       "Training:   0%|          | 0/8300 [00:00<?, ?it/s]"
      ]
     },
     "metadata": {},
     "output_type": "display_data"
    },
    {
     "name": "stdout",
     "output_type": "stream",
     "text": [
      "09/01/2023, 22:55:39# labels of 5000: tensor([ 16, 149,  76,   7, 119, 109, 152,  85,  39, 153,  50,  17,  60, 126,\n",
      "         28, 108], device='cuda:0') torch.Size([16])\n",
      "09/01/2023, 22:55:39# predicted of 5000: tensor([ 16, 149, 113,   7, 113,  58,  92,  85,  39,  58,  50,  17, 143,  45,\n",
      "        132, 161], device='cuda:0') torch.Size([16])\n",
      "09/01/2023, 22:56:57# total batches: 8300\n",
      "09/01/2023, 22:56:57# Epoch 10 | Train Loss: 3.0340 | Train Accuracy: 0.3260\n"
     ]
    },
    {
     "data": {
      "application/vnd.jupyter.widget-view+json": {
       "model_id": "c6643c17132543e4a0be317b2d930313",
       "version_major": 2,
       "version_minor": 0
      },
      "text/plain": [
       "Validation:   0%|          | 0/1038 [00:00<?, ?it/s]"
      ]
     },
     "metadata": {},
     "output_type": "display_data"
    },
    {
     "name": "stdout",
     "output_type": "stream",
     "text": [
      "09/01/2023, 22:56:57# labels of Validation: tensor([157,  27, 153,  74, 130,  64,  38,  72, 142,  12,  95,  14,  78,  33,\n",
      "          3, 166], device='cuda:0') torch.Size([16])\n",
      "09/01/2023, 22:56:57# predicted of Validation: tensor([ 54,  72,  54,  54, 130,  91,  54,   0,  54,  54,  95,  54,  78,  54,\n",
      "          3, 161], device='cuda:0') torch.Size([16])\n",
      "09/01/2023, 22:56:57# labels of 0: tensor([157,  27, 153,  74, 130,  64,  38,  72, 142,  12,  95,  14,  78,  33,\n",
      "          3, 166], device='cuda:0') torch.Size([16])\n",
      "09/01/2023, 22:56:57# predicted of 0: tensor([ 54,  72,  54,  54, 130,  91,  54,   0,  54,  54,  95,  54,  78,  54,\n",
      "          3, 161], device='cuda:0') torch.Size([16])\n",
      "09/01/2023, 22:57:16# labels of Validation: tensor([141,  56,  25,  18,  46, 161, 105,  52, 154,  88,  76, 124,   5, 114,\n",
      "         16, 110], device='cuda:0') torch.Size([16])\n",
      "09/01/2023, 22:57:16# predicted of Validation: tensor([ 91,  56,  25,  54,  54, 161, 105,  52, 154,  91,  54,  54,  72,  91,\n",
      "         16,  91], device='cuda:0') torch.Size([16])\n",
      "09/01/2023, 22:57:17# Validation Loss: 2.9929 | Validation Accuracy: 0.3380\n",
      "\n",
      "09/01/2023, 22:57:17# Find a better model!!\n"
     ]
    },
    {
     "data": {
      "application/vnd.jupyter.widget-view+json": {
       "model_id": "eb91a071f3b1480bb20525d1222b25bd",
       "version_major": 2,
       "version_minor": 0
      },
      "text/plain": [
       "Training:   0%|          | 0/8300 [00:00<?, ?it/s]"
      ]
     },
     "metadata": {},
     "output_type": "display_data"
    },
    {
     "name": "stdout",
     "output_type": "stream",
     "text": [
      "09/01/2023, 22:59:16# labels of 5000: tensor([ 38, 132, 156, 166,  29,  91,  46,  56,  39,  26,  59,  38, 132, 152,\n",
      "         18, 146], device='cuda:0') torch.Size([16])\n",
      "09/01/2023, 22:59:16# predicted of 5000: tensor([ 63, 161, 156, 161,  29, 161, 103,  56,  27,  63,  66,  63,   6,  66,\n",
      "         71, 146], device='cuda:0') torch.Size([16])\n",
      "09/01/2023, 23:00:36# total batches: 8300\n",
      "09/01/2023, 23:00:36# Epoch 11 | Train Loss: 3.0083 | Train Accuracy: 0.3311\n"
     ]
    },
    {
     "data": {
      "application/vnd.jupyter.widget-view+json": {
       "model_id": "430870c87d5447c7a199db28f61ffa33",
       "version_major": 2,
       "version_minor": 0
      },
      "text/plain": [
       "Validation:   0%|          | 0/1038 [00:00<?, ?it/s]"
      ]
     },
     "metadata": {},
     "output_type": "display_data"
    },
    {
     "name": "stdout",
     "output_type": "stream",
     "text": [
      "09/01/2023, 23:00:36# labels of Validation: tensor([ 78, 127,  99,  28,  46, 137,  54,   9, 129,  94,  78,  93, 120,  25,\n",
      "         44,  30], device='cuda:0') torch.Size([16])\n",
      "09/01/2023, 23:00:36# predicted of Validation: tensor([ 67, 127,  99, 132,  36,  36,  36,  36, 155,  94,  67, 155, 120,  25,\n",
      "         36,  36], device='cuda:0') torch.Size([16])\n",
      "09/01/2023, 23:00:36# labels of 0: tensor([ 78, 127,  99,  28,  46, 137,  54,   9, 129,  94,  78,  93, 120,  25,\n",
      "         44,  30], device='cuda:0') torch.Size([16])\n",
      "09/01/2023, 23:00:36# predicted of 0: tensor([ 67, 127,  99, 132,  36,  36,  36,  36, 155,  94,  67, 155, 120,  25,\n",
      "         36,  36], device='cuda:0') torch.Size([16])\n",
      "09/01/2023, 23:00:55# labels of Validation: tensor([132,  46,  80,  32, 150, 139,  95,  95, 166,  49, 111, 137,  59, 110,\n",
      "         24, 126], device='cuda:0') torch.Size([16])\n",
      "09/01/2023, 23:00:55# predicted of Validation: tensor([132,  36,  80,  32,  36,  36, 120,  95, 132,  36,  36,  36, 132, 155,\n",
      "         36, 126], device='cuda:0') torch.Size([16])\n",
      "09/01/2023, 23:00:55# Validation Loss: 2.9712 | Validation Accuracy: 0.3419\n",
      "\n",
      "09/01/2023, 23:00:55# Find a better model!!\n"
     ]
    },
    {
     "data": {
      "application/vnd.jupyter.widget-view+json": {
       "model_id": "4851526f33f2426ca24ff832a387fbb5",
       "version_major": 2,
       "version_minor": 0
      },
      "text/plain": [
       "Training:   0%|          | 0/8300 [00:00<?, ?it/s]"
      ]
     },
     "metadata": {},
     "output_type": "display_data"
    },
    {
     "name": "stdout",
     "output_type": "stream",
     "text": [
      "09/01/2023, 23:02:57# labels of 5000: tensor([111, 161,  42, 156, 149,  46,  49,  11, 131,  56, 128,   0,  13, 143,\n",
      "         96, 105], device='cuda:0') torch.Size([16])\n",
      "09/01/2023, 23:02:57# predicted of 5000: tensor([124,  28,  75, 156, 149,  75,   1,  75, 132,  56, 128,   0,  13,  33,\n",
      "         96, 105], device='cuda:0') torch.Size([16])\n",
      "09/01/2023, 23:04:17# total batches: 8300\n",
      "09/01/2023, 23:04:17# Epoch 12 | Train Loss: 2.9877 | Train Accuracy: 0.3357\n"
     ]
    },
    {
     "data": {
      "application/vnd.jupyter.widget-view+json": {
       "model_id": "d65d192051b04f12b2c21fdcd85ebaf9",
       "version_major": 2,
       "version_minor": 0
      },
      "text/plain": [
       "Validation:   0%|          | 0/1038 [00:00<?, ?it/s]"
      ]
     },
     "metadata": {},
     "output_type": "display_data"
    },
    {
     "name": "stdout",
     "output_type": "stream",
     "text": [
      "09/01/2023, 23:04:17# labels of Validation: tensor([ 27, 134, 146,  29, 125,  75,  50,  83,  18, 144,   2,   3, 116, 141,\n",
      "         62, 108], device='cuda:0') torch.Size([16])\n",
      "09/01/2023, 23:04:17# predicted of Validation: tensor([ 27, 134, 146,  29, 102, 102,  50, 102, 102, 102, 102,   3, 102,  93,\n",
      "         62,   6], device='cuda:0') torch.Size([16])\n",
      "09/01/2023, 23:04:17# labels of 0: tensor([ 27, 134, 146,  29, 125,  75,  50,  83,  18, 144,   2,   3, 116, 141,\n",
      "         62, 108], device='cuda:0') torch.Size([16])\n",
      "09/01/2023, 23:04:17# predicted of 0: tensor([ 27, 134, 146,  29, 102, 102,  50, 102, 102, 102, 102,   3, 102,  93,\n",
      "         62,   6], device='cuda:0') torch.Size([16])\n",
      "09/01/2023, 23:04:36# labels of Validation: tensor([134,   8,  24, 156,  26,  74,  89, 158,  51,  40,  25,  94,  93,  42,\n",
      "         27,   7], device='cuda:0') torch.Size([16])\n",
      "09/01/2023, 23:04:36# predicted of Validation: tensor([134,  93, 102, 156, 102, 102,  89, 102,   6,  40,  25,  94,  93, 102,\n",
      "         27,   7], device='cuda:0') torch.Size([16])\n",
      "09/01/2023, 23:04:37# Validation Loss: 2.9533 | Validation Accuracy: 0.3507\n",
      "\n",
      "09/01/2023, 23:04:37# Find a better model!!\n"
     ]
    },
    {
     "data": {
      "application/vnd.jupyter.widget-view+json": {
       "model_id": "c6bf4c5b5e7e4a8b9b20401660850145",
       "version_major": 2,
       "version_minor": 0
      },
      "text/plain": [
       "Training:   0%|          | 0/8300 [00:00<?, ?it/s]"
      ]
     },
     "metadata": {},
     "output_type": "display_data"
    },
    {
     "name": "stdout",
     "output_type": "stream",
     "text": [
      "09/01/2023, 23:06:36# labels of 5000: tensor([155,   6, 113,  51,  82, 129, 124,  72, 153,   7,  35, 140,  10, 165,\n",
      "        163, 107], device='cuda:0') torch.Size([16])\n",
      "09/01/2023, 23:06:36# predicted of 5000: tensor([132, 132, 132, 132,  82, 161,  68,  89,   9,   7,  23, 140,  74, 165,\n",
      "         44, 132], device='cuda:0') torch.Size([16])\n",
      "09/01/2023, 23:07:54# total batches: 8300\n",
      "09/01/2023, 23:07:54# Epoch 13 | Train Loss: 2.9712 | Train Accuracy: 0.3375\n"
     ]
    },
    {
     "data": {
      "application/vnd.jupyter.widget-view+json": {
       "model_id": "2da6bd157624440e979e454151e4f525",
       "version_major": 2,
       "version_minor": 0
      },
      "text/plain": [
       "Validation:   0%|          | 0/1038 [00:00<?, ?it/s]"
      ]
     },
     "metadata": {},
     "output_type": "display_data"
    },
    {
     "name": "stdout",
     "output_type": "stream",
     "text": [
      "09/01/2023, 23:07:54# labels of Validation: tensor([ 51,  89,  88,  50, 109,  84, 163, 123,   0, 164,  60,  18, 133, 137,\n",
      "        152,  72], device='cuda:0') torch.Size([16])\n",
      "09/01/2023, 23:07:54# predicted of Validation: tensor([161,  89, 166,  50,  30,  84,  30, 123,   0,  30,  30,  30, 166,  30,\n",
      "         30,  56], device='cuda:0') torch.Size([16])\n",
      "09/01/2023, 23:07:54# labels of 0: tensor([ 51,  89,  88,  50, 109,  84, 163, 123,   0, 164,  60,  18, 133, 137,\n",
      "        152,  72], device='cuda:0') torch.Size([16])\n",
      "09/01/2023, 23:07:54# predicted of 0: tensor([161,  89, 166,  50,  30,  84,  30, 123,   0,  30,  30,  30, 166,  30,\n",
      "         30,  56], device='cuda:0') torch.Size([16])\n",
      "09/01/2023, 23:08:12# labels of Validation: tensor([121, 162,  63,  80,  14,  75, 112,  52,  48, 101,  47,  69, 122,  30,\n",
      "         38,  95], device='cuda:0') torch.Size([16])\n",
      "09/01/2023, 23:08:12# predicted of Validation: tensor([ 30,  30,  30,  80,  30,  30,  30,  52,  30, 161,  30,  69, 122,  30,\n",
      "         30,  95], device='cuda:0') torch.Size([16])\n",
      "09/01/2023, 23:08:13# Validation Loss: 2.9350 | Validation Accuracy: 0.3459\n",
      "\n",
      "09/01/2023, 23:08:13# Find a better model!!\n"
     ]
    },
    {
     "data": {
      "application/vnd.jupyter.widget-view+json": {
       "model_id": "782be46d416c4dfebf639e90c69171cf",
       "version_major": 2,
       "version_minor": 0
      },
      "text/plain": [
       "Training:   0%|          | 0/8300 [00:00<?, ?it/s]"
      ]
     },
     "metadata": {},
     "output_type": "display_data"
    },
    {
     "name": "stdout",
     "output_type": "stream",
     "text": [
      "09/01/2023, 23:10:13# labels of 5000: tensor([ 60,  82,  74,   6,  30, 162, 155,  98,  85,  84,  69,  77, 118, 121,\n",
      "         79,  52], device='cuda:0') torch.Size([16])\n",
      "09/01/2023, 23:10:13# predicted of 5000: tensor([158,  82, 109, 132, 158, 109,  28,  60,  85,  84,  69,  37, 118, 104,\n",
      "         72,  52], device='cuda:0') torch.Size([16])\n",
      "09/01/2023, 23:11:31# total batches: 8300\n",
      "09/01/2023, 23:11:31# Epoch 14 | Train Loss: 2.9552 | Train Accuracy: 0.3402\n"
     ]
    },
    {
     "data": {
      "application/vnd.jupyter.widget-view+json": {
       "model_id": "b00315d692f14f238a5f80d60c09f1b1",
       "version_major": 2,
       "version_minor": 0
      },
      "text/plain": [
       "Validation:   0%|          | 0/1038 [00:00<?, ?it/s]"
      ]
     },
     "metadata": {},
     "output_type": "display_data"
    },
    {
     "name": "stdout",
     "output_type": "stream",
     "text": [
      "09/01/2023, 23:11:32# labels of Validation: tensor([ 23,  98,   9,  71,  54,  50, 152,  73, 164, 104,   5,   1,  34, 151,\n",
      "        127,  71], device='cuda:0') torch.Size([16])\n",
      "09/01/2023, 23:11:32# predicted of Validation: tensor([ 23,  75,  75,  75,  75,  50,  75,  73,  75,  75,   5,  75,  75,  75,\n",
      "        127,  75], device='cuda:0') torch.Size([16])\n",
      "09/01/2023, 23:11:32# labels of 0: tensor([ 23,  98,   9,  71,  54,  50, 152,  73, 164, 104,   5,   1,  34, 151,\n",
      "        127,  71], device='cuda:0') torch.Size([16])\n",
      "09/01/2023, 23:11:32# predicted of 0: tensor([ 23,  75,  75,  75,  75,  50,  75,  73,  75,  75,   5,  75,  75,  75,\n",
      "        127,  75], device='cuda:0') torch.Size([16])\n",
      "09/01/2023, 23:11:51# labels of Validation: tensor([142,  96,  76,  46,  65,  19,  45, 153,  52,  56, 106, 103, 109,  77,\n",
      "        116,  83], device='cuda:0') torch.Size([16])\n",
      "09/01/2023, 23:11:51# predicted of Validation: tensor([ 75,  96,  75,  75,  75,  75,   5,  75,  52,  56, 106,   6,  75,   6,\n",
      "         75,  75], device='cuda:0') torch.Size([16])\n",
      "09/01/2023, 23:11:51# Validation Loss: 2.9217 | Validation Accuracy: 0.3474\n",
      "\n",
      "09/01/2023, 23:11:51# Find a better model!!\n"
     ]
    },
    {
     "data": {
      "application/vnd.jupyter.widget-view+json": {
       "model_id": "a7a8fbd79c364a349208f1c4798f949d",
       "version_major": 2,
       "version_minor": 0
      },
      "text/plain": [
       "Training:   0%|          | 0/8300 [00:00<?, ?it/s]"
      ]
     },
     "metadata": {},
     "output_type": "display_data"
    }
   ],
   "source": [
    "import csv\n",
    "import pandas as pd\n",
    "from sklearn.metrics import classification_report\n",
    "from torch.optim import AdamW, lr_scheduler\n",
    "\n",
    "seed = 8787\n",
    "same_seeds(seed)\n",
    "\n",
    "model = GAT(in_dim=150, hidden_dim=16, out_dim=168, num_heads=8)\n",
    "# in_dim means the dimension of the node_feat(50 dim, since the 50-dim embedding)\n",
    "# out_dim means the # of the categories -> 168 for out tasks\n",
    "model.load_state_dict(torch.load('model1_initial/initial_weight.pth'))\n",
    "best_model_path = \"../checkpoint_GAT/best_model_GAT_transH_150.pt\"\n",
    "\n",
    "model = model.to(device)\n",
    "\n",
    "# optimizer = torch.optim.AdamW(model.parameters(), lr=1e-5)\n",
    "optimizer = AdamW(model.parameters(), lr=5e-4)\n",
    "# scheduler = get_linear_schedule_with_warmup(optimizer, num_warmup_steps=18, num_training_steps=total_steps)\n",
    "\n",
    "# T_max control the period of the lr changing -> set 1/10 first\n",
    "scheduler = lr_scheduler.CosineAnnealingLR(optimizer, T_max=36, eta_min=0, last_epoch=- 1, verbose=False)\n",
    "\n",
    "\n",
    "criterion = nn.CrossEntropyLoss()\n",
    "total_steps = 25\n",
    "\n",
    "# save the best model\n",
    "best_val_loss = float('inf')\n",
    "patience = 5  # Number of epochs with no improvement after which training will be stopped.\n",
    "waiting = 0  # The number of epochs with no improvement so far.\n",
    "\n",
    "\n",
    "# Training Part\n",
    "for epoch in tqdm(range(total_steps)):\n",
    "    # Train\n",
    "    model.train()\n",
    "    total_loss = 0.0\n",
    "    total_accuracy = 0.0\n",
    "    num_batches = 0\n",
    "    \n",
    "    for data in tqdm(dataloaders['train'], desc=\"Training\", position=0, leave=True):\n",
    "        num_batches += 1\n",
    "        loss, accuracy, _ = model_fn(data, model, criterion, device, num_batches, which_type='train')\n",
    "        \n",
    "        optimizer.zero_grad()\n",
    "        loss.backward()\n",
    "        optimizer.step()\n",
    "\n",
    "        total_loss += loss.item()\n",
    "        total_accuracy += accuracy.item()\n",
    "\n",
    "        \n",
    "#     scheduler.step()\n",
    "    add_log_msg(f\"total batches: {num_batches}\")\n",
    "\n",
    "    avg_loss = total_loss / num_batches\n",
    "    avg_accuracy = total_accuracy / num_batches\n",
    "\n",
    "    add_log_msg(f'Epoch {epoch} | Train Loss: {avg_loss:.4f} | Train Accuracy: {avg_accuracy:.4f}')\n",
    "\n",
    "    \n",
    "    # Validation Part\n",
    "    model.eval()\n",
    "    total_accuracy = 0.0\n",
    "    total_loss = 0.0\n",
    "    num_batches = 0\n",
    "\n",
    "\n",
    "    with torch.no_grad():\n",
    "        for data in tqdm(dataloaders['valid'], desc=\"Validation\", position=0, leave=True):\n",
    "            loss, accuracy, _ = model_fn(data, model, criterion, device, num_batches, which_type='validation')\n",
    "            total_accuracy += accuracy.item()\n",
    "            total_loss += loss.item()\n",
    "            num_batches += 1\n",
    "\n",
    "    avg_accuracy = total_accuracy / num_batches\n",
    "    current_loss = total_loss / num_batches\n",
    "    \n",
    "    add_log_msg(f'Validation Loss: {current_loss:.4f} | Validation Accuracy: {avg_accuracy:.4f}\\n')\n",
    "    \n",
    "            \n",
    "    if current_loss < best_val_loss:\n",
    "        best_val_loss = current_loss\n",
    "        waiting = 0\n",
    "        \n",
    "        if os.path.exists(best_model_path):\n",
    "            os.remove(best_model_path)\n",
    "            add_log_msg(\"Find a better model!!\")\n",
    "\n",
    "        torch.save(model.state_dict(), best_model_path)\n",
    "\n",
    "        \n",
    "#         print(best_model_path)\n",
    "\n",
    "    else:\n",
    "        waiting += 1\n",
    "        if waiting >= patience:\n",
    "            add_log_msg(\"============================== Early stopping ==================================\")\n",
    "            break"
   ]
  },
  {
   "cell_type": "markdown",
   "metadata": {},
   "source": [
    "### Testing Part"
   ]
  },
  {
   "cell_type": "code",
   "execution_count": 29,
   "metadata": {},
   "outputs": [
    {
     "data": {
      "application/vnd.jupyter.widget-view+json": {
       "model_id": "3cf2cd29085f4641b251360967dd8596",
       "version_major": 2,
       "version_minor": 0
      },
      "text/plain": [
       "Testing:   0%|          | 0/1038 [00:00<?, ?it/s]"
      ]
     },
     "metadata": {},
     "output_type": "display_data"
    },
    {
     "name": "stdout",
     "output_type": "stream",
     "text": [
      "09/02/2023, 12:41:27# labels of Test: tensor([65, 65, 65, 65, 65, 65, 65, 65, 65, 65, 65, 65, 65, 65, 65, 65],\n",
      "       device='cuda:1') torch.Size([16])\n",
      "09/02/2023, 12:41:27# predicted of Test: tensor([43, 43, 43, 43, 43, 43, 43, 43, 43, 43, 43, 43, 43, 43, 43, 43],\n",
      "       device='cuda:1') torch.Size([16])\n",
      "09/02/2023, 12:41:27# labels of 0: tensor([65, 65, 65, 65, 65, 65, 65, 65, 65, 65, 65, 65, 65, 65, 65, 65],\n",
      "       device='cuda:1') torch.Size([16])\n",
      "09/02/2023, 12:41:27# predicted of 0: tensor([43, 43, 43, 43, 43, 43, 43, 43, 43, 43, 43, 43, 43, 43, 43, 43],\n",
      "       device='cuda:1') torch.Size([16])\n",
      "09/02/2023, 12:41:27# labels: tensor([65, 65, 65, 65, 65, 65, 65, 65, 65, 65, 65, 65, 65, 65, 65, 65],\n",
      "       device='cuda:1') torch.Size([16])\n",
      "09/02/2023, 12:41:27# predicted: tensor([43, 43, 43, 43, 43, 43, 43, 43, 43, 43, 43, 43, 43, 43, 43, 43],\n",
      "       device='cuda:1') torch.Size([16])\n",
      "09/02/2023, 12:41:43# labels of Test: tensor([162, 162, 162, 162, 162, 162, 162, 162, 162, 162, 162, 162, 162, 162,\n",
      "        162, 162], device='cuda:1') torch.Size([16])\n",
      "09/02/2023, 12:41:43# predicted of Test: tensor([43, 43, 43, 43, 43, 43, 43, 43, 43, 43, 43, 43, 43, 43, 43, 43],\n",
      "       device='cuda:1') torch.Size([16])\n",
      "09/02/2023, 12:41:43# Test Accuracy: 35.54819277108434 %\n",
      "\n",
      "\n",
      "\n"
     ]
    },
    {
     "name": "stderr",
     "output_type": "stream",
     "text": [
      "/workdir/home/euni/.local/lib/python3.6/site-packages/sklearn/metrics/_classification.py:1248: UndefinedMetricWarning: Precision and F-score are ill-defined and being set to 0.0 in labels with no predicted samples. Use `zero_division` parameter to control this behavior.\n",
      "  _warn_prf(average, modifier, msg_start, len(result))\n",
      "/workdir/home/euni/.local/lib/python3.6/site-packages/sklearn/metrics/_classification.py:1248: UndefinedMetricWarning: Precision and F-score are ill-defined and being set to 0.0 in labels with no predicted samples. Use `zero_division` parameter to control this behavior.\n",
      "  _warn_prf(average, modifier, msg_start, len(result))\n",
      "/workdir/home/euni/.local/lib/python3.6/site-packages/sklearn/metrics/_classification.py:1248: UndefinedMetricWarning: Precision and F-score are ill-defined and being set to 0.0 in labels with no predicted samples. Use `zero_division` parameter to control this behavior.\n",
      "  _warn_prf(average, modifier, msg_start, len(result))\n"
     ]
    },
    {
     "name": "stdout",
     "output_type": "stream",
     "text": [
      "09/02/2023, 12:42:08# report path: classification_report/classification_report-transH_150-0.xlsx\n",
      "09/02/2023, 12:42:08# label path: classification_report/mapped_true_predicted_labels-transH_150-0.xlsx\n"
     ]
    },
    {
     "name": "stderr",
     "output_type": "stream",
     "text": [
      "/workdir/home/euni/.local/lib/python3.6/site-packages/sklearn/metrics/_classification.py:1248: UndefinedMetricWarning: Precision and F-score are ill-defined and being set to 0.0 in labels with no predicted samples. Use `zero_division` parameter to control this behavior.\n",
      "  _warn_prf(average, modifier, msg_start, len(result))\n",
      "/workdir/home/euni/.local/lib/python3.6/site-packages/sklearn/metrics/_classification.py:1248: UndefinedMetricWarning: Precision and F-score are ill-defined and being set to 0.0 in labels with no predicted samples. Use `zero_division` parameter to control this behavior.\n",
      "  _warn_prf(average, modifier, msg_start, len(result))\n"
     ]
    },
    {
     "name": "stdout",
     "output_type": "stream",
     "text": [
      "09/02/2023, 12:42:08# mapped_report:\n",
      "                                                precision    recall  f1-score   support\n",
      "\n",
      "T1003.001_0ef4cc7b-611c-4237-b20b-db36b6906554       1.00      1.00      1.00       100\n",
      "    T1003.001_35d92515122effdd73801c6ac3021da7       0.93      0.99      0.96       100\n",
      "    T1003.002_5a484b65c247675e3b7ada4ba648d376       0.00      0.00      0.00       100\n",
      "    T1003.002_7fa4ea18694f2552547b65e23952cabb       0.99      1.00      1.00       100\n",
      "    T1003.003_9f73269695e54311dd61dc68940fb3e1       0.00      0.00      0.00       100\n",
      "    T1003.003_f049b89533298c2d6cd37a940248b219       0.00      0.00      0.00       100\n",
      "        T1003_18f31c311ac208802e88ab8d5af8603e       0.90      0.98      0.94       100\n",
      "        T1007_9d03c91bdae5a80f17f89c987942b5a8       1.00      0.99      0.99       100\n",
      "    T1007_c6607391-d02c-44b5-9b13-d3492ca58599       0.00      0.00      0.00       100\n",
      "        T1007_d6bb2a19da7246731ed9c44831b135f8       0.00      0.00      0.00       100\n",
      "    T1016_14a21534-350f-4d83-9dd7-3c56b93a0c17       0.00      0.00      0.00       100\n",
      "        T1016_71b3d2945679566b9d94d8cb11df4b70       0.00      0.00      0.00       100\n",
      "        T1016_7d8ee68f0e9731db82964f558f614608       0.00      0.00      0.00       100\n",
      "    T1016_921055f4-5970-4707-909e-62f594234d91       0.00      0.00      0.00       100\n",
      "    T1016_a0676fe1-cd52-482e-8dde-349b73f9aa69       0.00      0.00      0.00       100\n",
      "    T1016_e8017c46-acb8-400c-a4b5-b3362b5b5baa       0.00      0.00      0.00       100\n",
      "    T1018_26c8b8b5-7b5b-4de1-a128-7d37fb14f517       0.00      0.00      0.00       100\n",
      "        T1018_a44bb43474728496276d5d73aa14588f       0.00      0.00      0.00       100\n",
      "        T1018_ac20e592bc912bddff4d6b88289095f0       0.00      0.00      0.00       100\n",
      "    T1021.001_dd67068b052fa553ad4a0ac7d6a5ea89       0.89      0.95      0.92       100\n",
      "    T1033_bd527b63-9f9e-46e0-9816-b8434d2b8989       0.00      0.00      0.00       100\n",
      "    T1033_c0da588f-79f0-4263-8998-7496b1a40596       0.00      0.00      0.00       100\n",
      "    T1036.003_04e8d83e7badf098d50800d6aa1dd487       1.00      1.00      1.00       100\n",
      "    T1036.003_f5ef8466e5ebcd2ae03f338d9416069c       1.00      1.00      1.00       100\n",
      "    T1036.004_1f0614ea5c4af6faf1b44570f5f22f8a       0.00      0.00      0.00       100\n",
      "    T1036.004_7de3d7b4922a7b996d8df36fb22bb118       0.00      0.00      0.00       100\n",
      "    T1037.001_62cfa90fb03a6bc1a6ebcce8a3ea81b7       1.00      1.00      1.00       100\n",
      "        T1040_6881a4589710d53f0c146e91db513f01       0.95      0.96      0.96       100\n",
      "        T1047_09e0f9cf2eb803a1c35deeecf3665fad       0.00      0.00      0.00       100\n",
      "        T1047_6935e41353aa781bb723462d26114c44       0.00      0.00      0.00       100\n",
      "        T1047_ac122553ab4426ea3362bb4a97d31bfd       0.00      0.00      0.00       100\n",
      "        T1047_ac2764f7a67a9ce92b54e8e59b361838       0.00      0.00      0.00       100\n",
      "        T1047_b0255b5120cbabc062d8d4510a142c3b       0.00      0.00      0.00       100\n",
      "        T1047_ed736a123da6fb2aab22cfd4f437e8b5       0.00      0.00      0.00       100\n",
      "        T1047_f4b0b4129560ea66f9751275e82f6bab       0.00      0.00      0.00       100\n",
      "    T1049_638fb6bb-ba39-4285-93d1-7e4775b033a8       0.00      0.00      0.00       100\n",
      "        T1049_a14392d713dffba6a397682ff83259a0       0.00      0.00      0.00       100\n",
      "    T1053.005_5db2884b6ca3ab932848f295a3896dc0       0.00      0.00      0.00       100\n",
      "    T1053.005_ee454be9197890de62705ce6255933fd       0.00      0.00      0.00       100\n",
      "T1055.001_a74bc239-a196-4f7e-8d5c-fe8c0266071c       0.00      0.00      0.00       100\n",
      "T1055.002_e5bcefee-262d-4568-a261-e8a20855ec81       0.00      0.00      0.00       100\n",
      "    T1057_5a39d7ed-45c9-4a79-b581-e5fb99e24f65       0.00      0.00      0.00       100\n",
      "    T1057_8adf02e8-6e71-4244-886c-98c402857404       0.00      0.00      0.00       100\n",
      "        T1057_b2a1e430ca6d36eb5af2fe666e769847       0.00      0.00      0.00       100\n",
      "        T1057_f8de05d1741dcc468f772ab0ff4dac72       0.00      0.00      0.00       100\n",
      "T1059.001_55678719-e76e-4df9-92aa-10655bbd1cf4       0.99      1.00      1.00       100\n",
      "    T1059.001_6efbccc1869e8cd618c0d3ecda407d5f       0.99      1.00      1.00       100\n",
      "T1059.001_702bfdd2-9947-4eda-b551-c3a1ea9a59a2       0.95      0.96      0.96       100\n",
      "T1059.001_bfff9006-d1fb-46ce-b173-92cb04e9a031       0.99      1.00      1.00       100\n",
      "T1059.001_ccdb8caf-c69e-424b-b930-551969450c57       0.00      0.00      0.00       100\n",
      "T1059.001_e5f9de8f-3df1-4e78-ad92-a784e3f6770d       1.00      1.00      1.00       100\n",
      "    T1059.003_6c318ef0339d74d909ad556681b6493e       0.00      0.00      0.00       100\n",
      "    T1059.003_f38e58deb7ad20b5538ca40db7b7b4f8       0.00      0.00      0.00       100\n",
      "T1069.001_5c4dd985-89e3-4590-9b57-71fed66ff4e2       1.00      0.95      0.97       100\n",
      "    T1069.001_a1f48fa3ddee658b29b414523c9a295b       0.00      0.00      0.00       100\n",
      "    T1069.002_6103e503cb444bc7b4187704f2035708       0.00      0.00      0.00       100\n",
      "    T1070.005_1f91076e2be2014cc7b4f1296de02fd6       0.88      1.00      0.94       100\n",
      "    T1071.001_24c3b7b004401d839a5c337201da3484       0.99      1.00      1.00       100\n",
      "T1074.001_4e97e699-93d7-4040-b5a3-2e906a58199e       0.00      0.00      0.00       100\n",
      "T1074.001_6469befa-748a-4b9c-a96d-f191fde47d89       0.00      0.00      0.00       100\n",
      "    T1074.001_e6dfc7e89359ac6fa6de84b0e1d5762e       0.00      0.00      0.00       100\n",
      "    T1078.001_d0ca00832890baa1d42322cf70fcab1a       0.00      0.00      0.00       100\n",
      "    T1082_29451844-9b76-4e16-a9ee-d6feab4b24db       0.00      0.00      0.00       100\n",
      "    T1083_52177cc1-b9ab-4411-ac21-2eadc4b5d3b8       0.00      0.00      0.00       100\n",
      "    T1083_6e1a53c0-7352-4899-be35-fa7f364d5722       0.00      0.00      0.00       100\n",
      "    T1087.001_6334877e8e3ba48f7835d4856d90a282       0.00      0.00      0.00       100\n",
      "T1087.001_feaced8f-f43f-452a-9500-a5219488abb8       0.00      0.00      0.00       100\n",
      "    T1090.001_ba343199a4f15ed6b57eb52412f62e4e       0.50      0.11      0.18       100\n",
      "        T1105_0856c235a1d26113d4f2d92e39c9a9f8       1.00      1.00      1.00       100\n",
      "        T1105_1095434782a00c8a4772a11e625bcf5d       0.65      0.65      0.65       100\n",
      "        T1105_4f683658f161ccdc51337c470d32bab9       0.00      0.00      0.00       100\n",
      "    T1105_60f63260-39bb-4136-87a0-b6c2dca799fc       1.00      1.00      1.00       100\n",
      "        T1105_c521e0a70b243a0cf9217907ca3c6d27       1.00      1.00      1.00       100\n",
      "        T1105_c76968acda4aa1673dadcd67f3ab7664       0.97      1.00      0.99       100\n",
      "        T1105_e6715e61f5df646692c624b3499384c4       1.00      1.00      1.00       100\n",
      "    T1105_eb814e03-811a-467a-bc6d-dcd453750fa2       0.07      1.00      0.12       100\n",
      "        T1112_257313a3c93e3bb7dfb60d6753b09e34       0.84      0.82      0.83       100\n",
      "        T1112_34041639e6e501856ecaf5969ee29c76       0.80      0.90      0.85       100\n",
      "        T1112_35c0360d226cf38104f300d9d57ce60e       0.85      0.93      0.89       100\n",
      "        T1112_4bfb5f265a5ce07af6bf10da113af7db       0.88      0.95      0.91       100\n",
      "        T1112_7fe6a66d03f4dbfc022609ba311c2b11       0.87      0.84      0.85       100\n",
      "        T1112_ba6f6214dbd17c54001e0a163b60f151       0.82      0.92      0.87       100\n",
      "        T1112_cab7b85611a290c0769546bfa9d6f962       0.93      0.87      0.90       100\n",
      "        T1112_cd8be0e6b873919da25530a2c7ea6750       0.00      0.00      0.00       100\n",
      "        T1112_e74d2fb4ef5fa6c766a4151554033697       0.90      0.75      0.82       100\n",
      "        T1112_e7a987cbef27263e666e5b096488dc55       1.00      1.00      1.00       100\n",
      "        T1112_fa4ba6a06b4a5cd955ea5a60fae24281       0.76      0.80      0.78       100\n",
      "        T1112_fd992e8ecfdac9b56dd6868904044827       0.83      0.90      0.87       100\n",
      "    T1113_316251ed-6a28-4013-812b-ddf5b5b007f8       0.00      0.00      0.00       100\n",
      "        T1115_70795de7cbb842edb029b3378c27c008       1.00      1.00      1.00       100\n",
      "    T1115_b007fe0c-c6b0-4fda-915c-255bbc070de2       0.00      0.00      0.00       100\n",
      "        T1119_344e7eaf650763e0d3e9f02e62c1cf4b       0.00      0.00      0.00       100\n",
      "        T1119_7121cdf93b951311be9d7078c602efdc       1.00      1.00      1.00       100\n",
      "        T1120_7b9c7afaefa59aab759b49af0d699ac1       0.00      0.00      0.00       100\n",
      "        T1123_372e6f46fca18e4f1b43209c20ffafa2       0.95      0.92      0.93       100\n",
      "    T1124_fa6e8607-e0b1-425d-8924-9b894da5a002       0.00      0.00      0.00       100\n",
      "        T1125_da86001b5081fcf773d8e62f22cf2b00       0.97      0.93      0.95       100\n",
      "    T1135_530e47c6-8592-42bf-91df-c59ffbd8541b       0.00      0.00      0.00       100\n",
      "    T1135_deeac480-5c2a-42b5-90bb-41675ee53c7e       0.00      0.00      0.00       100\n",
      "    T1137.002_e2af3c3ab1b0f659c874b8af58c49759       1.00      0.94      0.97       100\n",
      "        T1137_12ad9edefc86af07700fbf49bfdac6ba       1.00      1.00      1.00       100\n",
      "        T1201_38f6f0e50a6b196140ec40d3dc9cc9e6       0.00      0.00      0.00       100\n",
      "        T1201_57296a2ddbeb7423c05feef2fe972111       0.00      0.00      0.00       100\n",
      "    T1204.002_522f3f35cd013e63830fa555495a0081       1.00      1.00      1.00       100\n",
      "        T1217_69bbe2183fa09c00ccaac62d48e214f8       0.00      0.00      0.00       100\n",
      "        T1217_f7a0f7d704aa52a764d9d1bee81e65d6       0.00      0.00      0.00       100\n",
      "        T1219_7dabcbecab0334b115feefab1630f84a       1.00      1.00      1.00       100\n",
      "        T1219_af8cb2bf9b436aae5c106a0a9c207e14       1.00      1.00      1.00       100\n",
      "        T1219_f1b3fca18d7465cd10e5a7477a3bf97d       1.00      1.00      1.00       100\n",
      "    T1482_6131397e-7765-424e-a594-3d7fb2d93a6a       0.00      0.00      0.00       100\n",
      "        T1482_cfb61005899996469ae3023796792ca5       0.00      0.00      0.00       100\n",
      "        T1486_d82ceb9939d3d920ee550187ad8235c8       0.00      0.00      0.00       100\n",
      "        T1490_2d53d6fabd39bf9c70b0dfcdfbbc926d       0.00      0.00      0.00       100\n",
      "        T1490_8467c994685ccf178db166964bd80fab       0.00      0.00      0.00       100\n",
      "        T1490_9e5e4c0655fd1b5be88bd40b8251175f       0.00      0.00      0.00       100\n",
      "        T1490_c156ac5c9fa67080365268d95f29053d       0.00      0.00      0.00       100\n",
      "        T1490_c8f329d2847ede593b6cb4a1ec6120fb       0.95      1.00      0.98       100\n",
      "        T1490_e90756bb6dcd21462dc4cc452661df91       0.00      0.00      0.00       100\n",
      "    T1491_47d08617-5ce1-424a-8cc5-c9c978ce6bf9       0.00      0.00      0.00       100\n",
      "    T1491_68235976-2404-42a8-9105-68230cfef562       0.00      0.00      0.00       100\n",
      "    T1496_46da2385-cf37-49cb-ba4b-a739c7a19de4       1.00      1.00      1.00       100\n",
      "T1497.001_1258b063-27d6-489b-a677-4807faacf868       0.00      0.00      0.00       100\n",
      "T1497.001_5dc841fd-28ad-40e2-b10e-fb007fe09e81       0.00      0.00      0.00       100\n",
      "T1497.001_7a6ba833-de40-466a-8969-5c37b13603e0       0.00      0.00      0.00       100\n",
      "    T1499_2fe2d5e6-7b06-4fc0-bf71-6966a1226731       0.00      0.00      0.00       100\n",
      "T1518.001_2dece965-37a0-4f70-a391-0f30e3331aba       0.00      0.00      0.00       100\n",
      "    T1518.001_33a24ff44719e6ac0614b58f8c9a7c72       0.00      0.00      0.00       100\n",
      "    T1518.001_b8453a5fe06b24aea12b27592d5c3d3a       0.00      0.00      0.00       100\n",
      "        T1518_8ddfaf982ab359cda13626b870ccb339       0.71      0.76      0.73       100\n",
      "    T1518_c9be8043-a445-4cbf-b77b-ed7bb007fc7c       0.00      0.00      0.00       100\n",
      "        T1531_aa6b15485a5f50ced34d87fda177b758       0.00      0.00      0.00       100\n",
      "        T1531_b25ae80dad74142fafb510e9c1949ace       0.00      0.00      0.00       100\n",
      "    T1546.013_f9a968af61d36983448c74cca5464e17       1.00      1.00      1.00       100\n",
      "    T1547.001_0dbdf1a2a87e718a6ac8a8e3415a7fac       1.00      1.00      1.00       100\n",
      "    T1547.001_163b023f43aba758d36f524d146cb8ea       0.96      0.97      0.97       100\n",
      "    T1547.001_1f15ab22c39a9b6bb2bb0d77276dfcb3       0.00      0.00      0.00       100\n",
      "    T1547.001_4b71ebb2f6f6a01235ba240fa40ce978       0.00      0.00      0.00       100\n",
      "    T1547.001_777043894e42d2aae3881e63f6c76d33       0.00      0.00      0.00       100\n",
      "    T1547.001_d3ef4145e4144fd694514b1c5cc17350       0.96      0.98      0.97       100\n",
      "    T1547.004_0856714c9810ac55b53e9964d02958a0       0.01      1.00      0.03       100\n",
      "    T1547.004_aa147165f6c116cb0b0f944abe1db8ce       0.00      0.00      0.00       100\n",
      "    T1547.009_501af516bd8b24fee0c7c650ae5cc861       0.00      0.00      0.00       100\n",
      "    T1547.009_b6e5c895c6709fe289352ee23f062229       0.00      0.00      0.00       100\n",
      "    T1547.010_4593d72a5145e3f494421ac772d37464       1.00      0.98      0.99       100\n",
      "        T1547_fe9eeee9a7b339089e5fa634b08522c1       0.98      0.99      0.99       100\n",
      "T1548.002_665432a4-42e7-4ee1-af19-a9a8c9455d0c       0.00      0.00      0.00       100\n",
      "    T1552.002_3e5b04b8ee0a1a4950da8f35d95e65fc       0.00      0.00      0.00       100\n",
      "        T1560_a1ee301b0508747b468d578a14e5c1a5       0.00      0.00      0.00       100\n",
      "    T1562.001_43e3334362b140924f001b256b229ee5       0.00      0.00      0.00       100\n",
      "    T1562.002_6a8d25d65a7d481dc479f89c62af1e6a       0.92      0.88      0.90       100\n",
      "    T1562.002_94f51bf01a7036fe02d07b4c18967669       0.00      0.00      0.00       100\n",
      "    T1562.004_280003641a5cddf916c4f2bf605a71d3       0.00      0.00      0.00       100\n",
      "    T1562.004_41627f71f968225b9f162cb76d16bd9d       0.00      0.00      0.00       100\n",
      "    T1562.004_5b93df032e230056c21a3e57334f77d1       0.00      0.00      0.00       100\n",
      "    T1562.004_8d0a4585e7c4646185a912b14cd9cb46       0.00      0.00      0.00       100\n",
      "    T1562.004_8fe59e288f10a486dc8b44bc872019ff       0.86      0.94      0.90       100\n",
      "    T1564.001_66a5fd5f244819181f074dd082a28905       0.51      0.71      0.59       100\n",
      "    T1564.001_dce51e632abdfe5392c7c1f942ac9273       0.53      0.28      0.37       100\n",
      "    T1564.003_9a2edad4053a2b59fb9167a9bc29e7dc       0.47      0.54      0.50       100\n",
      "    T1564.004_28862487a99f5f89bc0d68c87396c7e9       0.00      0.00      0.00       100\n",
      "    T1564.004_76b6066fe170d38215251102e42be973       0.00      0.00      0.00       100\n",
      "        T1564_dedfa0a54c9c13ce5714a0dc2e1f5d1a       0.00      0.00      0.00       100\n",
      "    T1566.001_1afaec09315ab71fdfb167175e8a019a       0.00      0.00      0.00       100\n",
      "    T1574.001_63bbedafba2f541552ac3579e9e3737b       1.00      1.00      1.00       100\n",
      "    T1574.011_72249c1e9ffe7d8f30243d838e0791ca       0.99      0.97      0.98       100\n",
      "                                        benign       0.00      0.00      0.00       100\n",
      "\n",
      "                                      accuracy                           0.36     16600\n",
      "                                     macro avg       0.34      0.36      0.34     16600\n",
      "                                  weighted avg       0.34      0.36      0.34     16600\n",
      "\n"
     ]
    },
    {
     "name": "stderr",
     "output_type": "stream",
     "text": [
      "/workdir/home/euni/.local/lib/python3.6/site-packages/sklearn/metrics/_classification.py:1248: UndefinedMetricWarning: Precision and F-score are ill-defined and being set to 0.0 in labels with no predicted samples. Use `zero_division` parameter to control this behavior.\n",
      "  _warn_prf(average, modifier, msg_start, len(result))\n"
     ]
    }
   ],
   "source": [
    "# load the pretrained model\n",
    "pretrained_model_path = '../checkpoint_GAT/best_model_GAT_transH_150.pt'\n",
    "model.load_state_dict(torch.load(pretrained_model_path))\n",
    "\n",
    "model.to(device)\n",
    "model.eval()\n",
    "\n",
    "total = 0\n",
    "correct = 0\n",
    "count = 0\n",
    "\n",
    "true_labels = []\n",
    "predicted_labels = []\n",
    "\n",
    "with torch.no_grad():\n",
    "    for data in tqdm(dataloaders['test'], desc=\"Testing\", position=0, leave=True):\n",
    "\n",
    "        loss, accuracy, predicted = model_fn(data, model, criterion, device, count, which_type='test')\n",
    "        labels = data[1].to(device)\n",
    "        \n",
    "        true_labels.extend(labels.cpu().numpy())\n",
    "        predicted_labels.extend(predicted.cpu().numpy())\n",
    "        \n",
    "        if count % 5000 == 0:\n",
    "            add_log_msg(f\"labels: {labels} {labels.shape}\")\n",
    "            add_log_msg(f\"predicted: {predicted} {predicted.shape}\")\n",
    "            \n",
    "        count += 1\n",
    "        \n",
    "        total += labels.size(0)\n",
    "        correct += (predicted == labels).sum().item()\n",
    "\n",
    "add_log_msg(f'Test Accuracy: {100 * correct / total} %\\n\\n\\n')\n",
    "\n",
    "\n",
    "# ======================================== handlig the output excel files ========================================\n",
    "mapping_file = './new_mapping.txt'\n",
    "label_mapping = {}\n",
    "with open(mapping_file, 'r') as f:\n",
    "    for line in f:\n",
    "        parts = line.strip().split(': ')\n",
    "        label_mapping[int(parts[1])] = parts[0]\n",
    "        \n",
    "# 将映射后的标签应用到true和predicted标签列表\n",
    "mapped_true_labels = [label_mapping[label] for label in true_labels]\n",
    "mapped_predicted_labels = [label_mapping[label] for label in predicted_labels]\n",
    "\n",
    "# 生成Scikit-learn报告信息的DataFrame\n",
    "report_data = classification_report(mapped_true_labels, mapped_predicted_labels, output_dict=True)\n",
    "report_df = pd.DataFrame(report_data).transpose()\n",
    "\n",
    "report_folder = 'classification_report'\n",
    "os.makedirs(report_folder, exist_ok=True)\n",
    "\n",
    "count = 0\n",
    "while True:\n",
    "    report_filename = f'classification_report-transH_150-{count}.xlsx'\n",
    "    labels_filename = f'mapped_true_predicted_labels-transH_150-{count}.xlsx'\n",
    "    \n",
    "    report_path = os.path.join(report_folder, report_filename)\n",
    "    labels_path = os.path.join(report_folder, labels_filename)\n",
    "    \n",
    "    if not os.path.exists(report_path) and not os.path.exists(labels_path):\n",
    "        break\n",
    "    count += 1\n",
    "\n",
    "    \n",
    "report_df.to_excel(report_path, index_label='Label')\n",
    "\n",
    "mapped_labels_df = pd.DataFrame({'true_label': mapped_true_labels, 'predicted_label': mapped_predicted_labels})\n",
    "mapped_labels_df.to_excel(labels_path, index=False)\n",
    "\n",
    "add_log_msg(f\"report path: {report_path}\")\n",
    "add_log_msg(f\"label path: {labels_path}\")\n",
    "\n",
    "mapped_report = classification_report(mapped_true_labels, mapped_predicted_labels)\n",
    "add_log_msg(f\"mapped_report:\\n{mapped_report}\")"
   ]
  },
  {
   "cell_type": "code",
   "execution_count": null,
   "metadata": {},
   "outputs": [],
   "source": []
  },
  {
   "cell_type": "code",
   "execution_count": null,
   "metadata": {},
   "outputs": [],
   "source": []
  }
 ],
 "metadata": {
  "kernelspec": {
   "display_name": "Python 3",
   "language": "python",
   "name": "python3"
  },
  "language_info": {
   "codemirror_mode": {
    "name": "ipython",
    "version": 3
   },
   "file_extension": ".py",
   "mimetype": "text/x-python",
   "name": "python",
   "nbconvert_exporter": "python",
   "pygments_lexer": "ipython3",
   "version": "3.6.9"
  }
 },
 "nbformat": 4,
 "nbformat_minor": 2
}
