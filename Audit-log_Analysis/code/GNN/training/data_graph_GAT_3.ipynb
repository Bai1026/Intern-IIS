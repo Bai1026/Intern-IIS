{
 "cells": [
  {
   "cell_type": "markdown",
   "metadata": {},
   "source": [
    "# Test of GAT\n",
    "- use DGL\n",
    "- predict `graphs`\n",
    "- test: 0~99\n",
    "- validation: 100~199\n",
    "- train: 200~999\n",
    "- larger lr with scheduler"
   ]
  },
  {
   "cell_type": "code",
   "execution_count": 1,
   "metadata": {},
   "outputs": [],
   "source": [
    "import os\n",
    "import dgl\n",
    "import json\n",
    "import torch\n",
    "import torch as th\n",
    "# from tqdm import tqdm\n",
    "from tqdm.notebook import tqdm  # 使用 notebook 版本的 tqdm\n",
    "import torch.nn as nn\n",
    "from dgl.nn import GraphConv, GATConv\n",
    "import torch.nn.functional as F\n",
    "from torch.utils.data import Dataset, DataLoader\n",
    "from transformers import get_linear_schedule_with_warmup\n",
    "from torch.optim import AdamW"
   ]
  },
  {
   "cell_type": "markdown",
   "metadata": {},
   "source": [
    "- check the GPU and assign the GPU by the best memory usage"
   ]
  },
  {
   "cell_type": "code",
   "execution_count": 2,
   "metadata": {},
   "outputs": [
    {
     "name": "stdout",
     "output_type": "stream",
     "text": [
      "cuda:0\n"
     ]
    }
   ],
   "source": [
    "import subprocess\n",
    "import torch\n",
    "\n",
    "def get_free_gpu():\n",
    "    try:\n",
    "        # Run nvidia-smi command to get GPU details\n",
    "        _output_to_list = lambda x: x.decode('ascii').split('\\n')[:-1]\n",
    "        command = \"nvidia-smi --query-gpu=memory.free --format=csv,nounits,noheader\"\n",
    "        memory_free_info = _output_to_list(subprocess.check_output(command.split())) \n",
    "        memory_free_values = [int(x) for i, x in enumerate(memory_free_info)]\n",
    "        \n",
    "        # Get the GPU with the maximum free memory\n",
    "        best_gpu_id = memory_free_values.index(max(memory_free_values))\n",
    "        return best_gpu_id\n",
    "    except:\n",
    "        # If any exception occurs, default to GPU 0 (this handles cases where nvidia-smi isn't installed)\n",
    "        return 0\n",
    "\n",
    "if torch.cuda.is_available():\n",
    "    # Get the best GPU ID based on free memory and set it\n",
    "    best_gpu_id = get_free_gpu()\n",
    "    device = torch.device(f\"cuda:{best_gpu_id}\")\n",
    "else:\n",
    "    device = torch.device(\"cpu\")\n",
    "    print(\"there's no available GPU\")\n",
    "\n",
    "print(device)\n"
   ]
  },
  {
   "cell_type": "markdown",
   "metadata": {},
   "source": [
    "## Fix the seed"
   ]
  },
  {
   "cell_type": "code",
   "execution_count": 3,
   "metadata": {},
   "outputs": [],
   "source": [
    "import numpy as np\n",
    "import torch\n",
    "import random\n",
    "\n",
    "#fix seed\n",
    "def same_seeds(seed = 8787):\n",
    "    torch.manual_seed(seed)\n",
    "    # random.seed(seed) \n",
    "    if torch.cuda.is_available():\n",
    "        torch.cuda.manual_seed(seed)\n",
    "        torch.cuda.manual_seed_all(seed)  \n",
    "    np.random.seed(seed)  \n",
    "    torch.backends.cudnn.benchmark = False\n",
    "    torch.backends.cudnn.deterministic = True"
   ]
  },
  {
   "cell_type": "markdown",
   "metadata": {},
   "source": [
    "## Data Loader"
   ]
  },
  {
   "cell_type": "code",
   "execution_count": 4,
   "metadata": {},
   "outputs": [],
   "source": [
    "class GraphDataset(Dataset):\n",
    "    def __init__(self, data_list, device):\n",
    "        self.data_list = data_list\n",
    "        self.device = device\n",
    "\n",
    "    def __len__(self):\n",
    "        return len(self.data_list)\n",
    "    \n",
    "    def __getitem__(self, idx):\n",
    "        data = self.data_list[idx]\n",
    "\n",
    "        g = dgl.graph((th.tensor(data[\"edge_index\"][0]), th.tensor(data[\"edge_index\"][1])), num_nodes=data[\"num_nodes\"]).to(self.device)\n",
    "\n",
    "        g.ndata['feat'] = th.tensor(data[\"node_feat\"]).to(self.device)\n",
    "        g.edata['feat'] = th.tensor(data[\"edge_attr\"]).to(self.device)  # Add edge features to graph\n",
    "\n",
    "        return g, th.tensor(data[\"label\"]).to(self.device)\n",
    "\n",
    "\n",
    "def collate(samples):\n",
    "    # The input `samples` is a list of pairs\n",
    "    #  (graph, label).\n",
    "    graphs, labels = map(list, zip(*samples))\n",
    "    batched_graph = dgl.batch(graphs)\n",
    "    return batched_graph, torch.tensor(labels)\n"
   ]
  },
  {
   "cell_type": "code",
   "execution_count": 5,
   "metadata": {},
   "outputs": [
    {
     "data": {
      "application/vnd.jupyter.widget-view+json": {
       "model_id": "4060abf2dea44781bf6a254dbafd7729",
       "version_major": 2,
       "version_minor": 0
      },
      "text/plain": [
       "  0%|          | 0/3 [00:00<?, ?it/s]"
      ]
     },
     "metadata": {},
     "output_type": "display_data"
    },
    {
     "name": "stdout",
     "output_type": "stream",
     "text": [
      "../../data_processing/dgl/data_new/training_data/train.jsonl\n"
     ]
    },
    {
     "data": {
      "application/vnd.jupyter.widget-view+json": {
       "model_id": "78f0cec1f66d44f8be1587ea6087d2f7",
       "version_major": 2,
       "version_minor": 0
      },
      "text/plain": [
       "0it [00:00, ?it/s]"
      ]
     },
     "metadata": {},
     "output_type": "display_data"
    },
    {
     "name": "stdout",
     "output_type": "stream",
     "text": [
      "../../data_processing/dgl/data_new/training_data/valid.jsonl\n"
     ]
    },
    {
     "data": {
      "application/vnd.jupyter.widget-view+json": {
       "model_id": "a1390fc6a9d348f7ae6a238f607b1a59",
       "version_major": 2,
       "version_minor": 0
      },
      "text/plain": [
       "0it [00:00, ?it/s]"
      ]
     },
     "metadata": {},
     "output_type": "display_data"
    },
    {
     "name": "stdout",
     "output_type": "stream",
     "text": [
      "../../data_processing/dgl/data_new/training_data/test.jsonl\n"
     ]
    },
    {
     "data": {
      "application/vnd.jupyter.widget-view+json": {
       "model_id": "283b9ffbf05246dc9c28e172edf5b0aa",
       "version_major": 2,
       "version_minor": 0
      },
      "text/plain": [
       "0it [00:00, ?it/s]"
      ]
     },
     "metadata": {},
     "output_type": "display_data"
    },
    {
     "name": "stdout",
     "output_type": "stream",
     "text": [
      "Datasets loaded!\n"
     ]
    }
   ],
   "source": [
    "datasets = ['train', 'valid', 'test']\n",
    "dataset_data = {}\n",
    "\n",
    "for dataset_name in tqdm(datasets):\n",
    "#     file_path = f\"../../data_processing/dgl/data/test_graph/repeated_{dataset_name}.jsonl\"\n",
    "    file_path = f\"../../data_processing/dgl/data_new/training_data/{dataset_name}.jsonl\"\n",
    "    \n",
    "    print(file_path)\n",
    "    with open(file_path) as f:\n",
    "        data_list = [json.loads(line) for line in tqdm(f, position=0, leave=True)]\n",
    "    \n",
    "    dataset_data[dataset_name] = GraphDataset(data_list, device)\n",
    "\n",
    "print(\"Datasets loaded!\")"
   ]
  },
  {
   "cell_type": "markdown",
   "metadata": {},
   "source": [
    "- choose batch size"
   ]
  },
  {
   "cell_type": "code",
   "execution_count": 6,
   "metadata": {},
   "outputs": [],
   "source": [
    "def create_dataloaders(batch_size, shuffle=True):\n",
    "    dataloaders = {}\n",
    "    for dataset_name, dataset in dataset_data.items():\n",
    "        dataloaders[dataset_name] = DataLoader(dataset, batch_size=batch_size, shuffle=shuffle, collate_fn=collate)\n",
    "    return dataloaders\n",
    "\n",
    "dataloaders = create_dataloaders(4)\n",
    "# dataloaders = create_dataloaders(16)"
   ]
  },
  {
   "cell_type": "markdown",
   "metadata": {},
   "source": [
    "- Turn the print message to a log file"
   ]
  },
  {
   "cell_type": "code",
   "execution_count": 7,
   "metadata": {},
   "outputs": [
    {
     "name": "stdout",
     "output_type": "stream",
     "text": [
      "../log_message/0824_22:24_GAT_data_graph_3.log\n"
     ]
    }
   ],
   "source": [
    "import datetime\n",
    "\n",
    "now = datetime.datetime.now()\n",
    "\n",
    "formatted_time = now.strftime(\"%m%d_%H:%M\")\n",
    "\n",
    "log_file_path = f\"../log_message/{formatted_time}_GAT_data_graph_3.log\"\n",
    "\n",
    "def add_log_msg(msg, log_file_path=log_file_path):\n",
    "    with open(log_file_path, 'a') as f:\n",
    "        f.write(f'{datetime.datetime.now().strftime(\"%m/%d/%Y, %H:%M:%S\")}# {msg}\\n')\n",
    "    print(f'{datetime.datetime.now().strftime(\"%m/%d/%Y, %H:%M:%S\")}# {msg}')\n",
    "\n",
    "print(log_file_path)"
   ]
  },
  {
   "cell_type": "markdown",
   "metadata": {},
   "source": [
    "### Model"
   ]
  },
  {
   "cell_type": "code",
   "execution_count": 8,
   "metadata": {},
   "outputs": [],
   "source": [
    "class GAT(nn.Module):\n",
    "    def __init__(self, in_dim, hidden_dim, out_dim, num_heads, dropout_prob=0.25):\n",
    "        super(GAT, self).__init__()\n",
    "        \n",
    "        # do not check the zero in_degree since we have all the complete graph\n",
    "        self.layer1 = GATConv(in_dim, hidden_dim, num_heads=num_heads, activation=F.relu, allow_zero_in_degree=True)\n",
    "        self.layer2 = GATConv(hidden_dim * num_heads, out_dim, num_heads=num_heads, allow_zero_in_degree=True)\n",
    "        \n",
    "        # Adding Batch Normalization after each GAT layer\n",
    "        self.batchnorm1 = nn.BatchNorm1d(hidden_dim * num_heads)\n",
    "        self.batchnorm2 = nn.BatchNorm1d(out_dim)\n",
    "        \n",
    "        # Adding Dropout for regularization\n",
    "        self.dropout = nn.Dropout(dropout_prob)\n",
    "\n",
    "    def forward(self, g, h):\n",
    "        # Apply GAT layers\n",
    "        h = self.layer1(g, h)\n",
    "        h = h.view(h.shape[0], -1)\n",
    "        h = F.relu(h)\n",
    "        h = self.dropout(h)\n",
    "        h = self.layer2(g, h).squeeze(1)\n",
    "        \n",
    "        # Store the output as a new node feature\n",
    "        g.ndata['h_out'] = h\n",
    "\n",
    "        # Use mean pooling to aggregate this new node feature\n",
    "        h_agg = dgl.mean_nodes(g, feat='h_out')\n",
    "        return h_agg\n",
    "\n",
    "    "
   ]
  },
  {
   "cell_type": "markdown",
   "metadata": {},
   "source": [
    "- Model Forward  "
   ]
  },
  {
   "cell_type": "code",
   "execution_count": 9,
   "metadata": {},
   "outputs": [],
   "source": [
    "def model_fn(data, model, criterion, device, count=1, which_type='train'):\n",
    "    \"\"\"Forward a batch through the model.\"\"\"\n",
    "    batched_g, labels = data\n",
    "    batched_g = batched_g.to(device)\n",
    "    \n",
    "    labels = labels.to(device)\n",
    "    logits = model(batched_g, batched_g.ndata['feat'].float()) # for GAT\n",
    "    logits = logits.mean(dim=1)\n",
    "    \n",
    "    loss = criterion(logits, labels)\n",
    "\n",
    "    # Get the class id with the highest probability\n",
    "    preds = logits.argmax(1)\n",
    "    \n",
    "    # Compute accuracy\n",
    "    accuracy = torch.mean((preds == labels).float())\n",
    "    \n",
    "    if which_type == 'validation' and count % 1000 == 0:\n",
    "        add_log_msg(f\"labels of Validation: {labels} {labels.shape}\")\n",
    "        add_log_msg(f\"predicted of Validation: {preds} {preds.shape}\")\n",
    "        \n",
    "    elif which_type == 'test'  and count % 1000 == 0:\n",
    "        add_log_msg(f\"labels of Test: {labels} {labels.shape}\")\n",
    "        add_log_msg(f\"predicted of Test: {preds} {preds.shape}\")\n",
    "        \n",
    "    if count % 5000 == 0: \n",
    "        add_log_msg(f\"labels of {count}: {labels} {labels.shape}\")\n",
    "        add_log_msg(f\"predicted of {count}: {preds} {preds.shape}\")\n",
    "        \n",
    "    return loss, accuracy, preds"
   ]
  },
  {
   "cell_type": "markdown",
   "metadata": {},
   "source": [
    "### Training"
   ]
  },
  {
   "cell_type": "markdown",
   "metadata": {},
   "source": [
    "- Fix the seed and save the model.state_dict that contains the initial weight"
   ]
  },
  {
   "cell_type": "code",
   "execution_count": 10,
   "metadata": {},
   "outputs": [],
   "source": [
    "seed = 8787\n",
    "same_seeds(seed)\n",
    "\n",
    "model = GAT(in_dim=50, hidden_dim=16, out_dim=168, num_heads=8)\n",
    "torch.save(model.state_dict(), 'model1_initial/initial_weight.pth')"
   ]
  },
  {
   "cell_type": "code",
   "execution_count": 11,
   "metadata": {},
   "outputs": [
    {
     "data": {
      "text/plain": [
       "Parameter containing:\n",
       "tensor([[-0.1806, -0.0598,  0.0091,  ...,  0.0719,  0.2496,  0.0873],\n",
       "        [ 0.1694, -0.0015, -0.0139,  ...,  0.0147,  0.0892,  0.0146],\n",
       "        [ 0.0969, -0.0595, -0.0115,  ..., -0.0474,  0.0529, -0.0565],\n",
       "        ...,\n",
       "        [-0.0433, -0.2248,  0.3002,  ...,  0.0850,  0.1621,  0.0422],\n",
       "        [ 0.2097, -0.2492,  0.0612,  ..., -0.0041,  0.0365, -0.1483],\n",
       "        [ 0.0971, -0.2221,  0.1652,  ..., -0.1312, -0.2610,  0.0077]],\n",
       "       requires_grad=True)"
      ]
     },
     "execution_count": 11,
     "metadata": {},
     "output_type": "execute_result"
    }
   ],
   "source": [
    "model.layer1.fc.weight"
   ]
  },
  {
   "cell_type": "markdown",
   "metadata": {},
   "source": [
    "- Check if model really load the model_dict"
   ]
  },
  {
   "cell_type": "code",
   "execution_count": 12,
   "metadata": {},
   "outputs": [
    {
     "data": {
      "text/plain": [
       "Parameter containing:\n",
       "tensor([[-0.1806, -0.0598,  0.0091,  ...,  0.0719,  0.2496,  0.0873],\n",
       "        [ 0.1694, -0.0015, -0.0139,  ...,  0.0147,  0.0892,  0.0146],\n",
       "        [ 0.0969, -0.0595, -0.0115,  ..., -0.0474,  0.0529, -0.0565],\n",
       "        ...,\n",
       "        [-0.0433, -0.2248,  0.3002,  ...,  0.0850,  0.1621,  0.0422],\n",
       "        [ 0.2097, -0.2492,  0.0612,  ..., -0.0041,  0.0365, -0.1483],\n",
       "        [ 0.0971, -0.2221,  0.1652,  ..., -0.1312, -0.2610,  0.0077]],\n",
       "       requires_grad=True)"
      ]
     },
     "execution_count": 12,
     "metadata": {},
     "output_type": "execute_result"
    }
   ],
   "source": [
    "model = GAT(in_dim=50, hidden_dim=16, out_dim=168, num_heads=8)\n",
    "model.load_state_dict(torch.load('model1_initial/initial_weight.pth'))\n",
    "model.layer1.fc.weight"
   ]
  },
  {
   "cell_type": "markdown",
   "metadata": {},
   "source": [
    "### test of valid and test part is ``graph``"
   ]
  },
  {
   "cell_type": "markdown",
   "metadata": {},
   "source": [
    "- Batch size = 4\n",
    "- use large lr and scheduler"
   ]
  },
  {
   "cell_type": "code",
   "execution_count": null,
   "metadata": {
    "scrolled": true
   },
   "outputs": [
    {
     "data": {
      "application/vnd.jupyter.widget-view+json": {
       "model_id": "850586815ca54ec58309d2c488613345",
       "version_major": 2,
       "version_minor": 0
      },
      "text/plain": [
       "  0%|          | 0/360 [00:00<?, ?it/s]"
      ]
     },
     "metadata": {},
     "output_type": "display_data"
    },
    {
     "data": {
      "application/vnd.jupyter.widget-view+json": {
       "model_id": "071124c27381461ba98d38d5e753f3c1",
       "version_major": 2,
       "version_minor": 0
      },
      "text/plain": [
       "Training:   0%|          | 0/33000 [00:00<?, ?it/s]"
      ]
     },
     "metadata": {},
     "output_type": "display_data"
    },
    {
     "name": "stdout",
     "output_type": "stream",
     "text": [
      "08/24/2023, 22:29:39# labels of 5000: tensor([107,  73,  21, 144], device='cuda:0') torch.Size([4])\n",
      "08/24/2023, 22:29:39# predicted of 5000: tensor([52, 17, 52, 52], device='cuda:0') torch.Size([4])\n",
      "08/24/2023, 22:31:02# labels of 10000: tensor([ 74,  12, 161,  81], device='cuda:0') torch.Size([4])\n",
      "08/24/2023, 22:31:02# predicted of 10000: tensor([ 66,  21, 161, 131], device='cuda:0') torch.Size([4])\n",
      "08/24/2023, 22:32:20# labels of 15000: tensor([143,  67,  31, 132], device='cuda:0') torch.Size([4])\n",
      "08/24/2023, 22:32:20# predicted of 15000: tensor([132,  17, 132, 132], device='cuda:0') torch.Size([4])\n",
      "08/24/2023, 22:33:40# labels of 20000: tensor([162,  59, 165, 101], device='cuda:0') torch.Size([4])\n",
      "08/24/2023, 22:33:40# predicted of 20000: tensor([132, 132, 165, 132], device='cuda:0') torch.Size([4])\n",
      "08/24/2023, 22:35:01# labels of 25000: tensor([ 15,  95,  73, 140], device='cuda:0') torch.Size([4])\n",
      "08/24/2023, 22:35:01# predicted of 25000: tensor([94, 40, 80, 99], device='cuda:0') torch.Size([4])\n",
      "08/24/2023, 22:36:11# labels of 30000: tensor([ 35, 145, 119,  70], device='cuda:0') torch.Size([4])\n",
      "08/24/2023, 22:36:11# predicted of 30000: tensor([ 35, 145, 132,  70], device='cuda:0') torch.Size([4])\n",
      "08/24/2023, 22:36:50# total batches: 33000\n",
      "08/24/2023, 22:36:50# Epoch 0 | Train Loss: 4.4403 | Train Accuracy: 0.0857\n"
     ]
    },
    {
     "data": {
      "application/vnd.jupyter.widget-view+json": {
       "model_id": "a67f8cebfc5949af97c941987a025e99",
       "version_major": 2,
       "version_minor": 0
      },
      "text/plain": [
       "Validation:   0%|          | 0/4125 [00:00<?, ?it/s]"
      ]
     },
     "metadata": {},
     "output_type": "display_data"
    },
    {
     "name": "stdout",
     "output_type": "stream",
     "text": [
      "08/24/2023, 22:36:50# labels of Validation: tensor([134,  42,  29,  24], device='cuda:0') torch.Size([4])\n",
      "08/24/2023, 22:36:50# predicted of Validation: tensor([134,   6,  16,   6], device='cuda:0') torch.Size([4])\n",
      "08/24/2023, 22:36:50# labels of 0: tensor([134,  42,  29,  24], device='cuda:0') torch.Size([4])\n",
      "08/24/2023, 22:36:50# predicted of 0: tensor([134,   6,  16,   6], device='cuda:0') torch.Size([4])\n",
      "08/24/2023, 22:36:57# labels of Validation: tensor([ 46,  39, 146, 148], device='cuda:0') torch.Size([4])\n",
      "08/24/2023, 22:36:57# predicted of Validation: tensor([ 6, 35, 80,  6], device='cuda:0') torch.Size([4])\n",
      "08/24/2023, 22:37:05# labels of Validation: tensor([47, 86, 38, 21], device='cuda:0') torch.Size([4])\n",
      "08/24/2023, 22:37:05# predicted of Validation: tensor([6, 6, 6, 6], device='cuda:0') torch.Size([4])\n",
      "08/24/2023, 22:37:12# labels of Validation: tensor([166, 107,  76, 147], device='cuda:0') torch.Size([4])\n",
      "08/24/2023, 22:37:12# predicted of Validation: tensor([  6,   6,   6, 147], device='cuda:0') torch.Size([4])\n",
      "08/24/2023, 22:37:19# labels of Validation: tensor([138,  48,  36, 134], device='cuda:0') torch.Size([4])\n",
      "08/24/2023, 22:37:19# predicted of Validation: tensor([138,   6,   6, 134], device='cuda:0') torch.Size([4])\n",
      "08/24/2023, 22:37:20# Validation Loss: 3.8855 | Validation Accuracy: 0.2248\n",
      "\n"
     ]
    },
    {
     "data": {
      "application/vnd.jupyter.widget-view+json": {
       "model_id": "2e65ba90f36347d8a8e780da515e108b",
       "version_major": 2,
       "version_minor": 0
      },
      "text/plain": [
       "Training:   0%|          | 0/33000 [00:00<?, ?it/s]"
      ]
     },
     "metadata": {},
     "output_type": "display_data"
    },
    {
     "name": "stdout",
     "output_type": "stream",
     "text": [
      "08/24/2023, 22:38:27# labels of 5000: tensor([ 20, 115, 144, 102], device='cuda:0') torch.Size([4])\n",
      "08/24/2023, 22:38:27# predicted of 5000: tensor([28, 40, 28,  6], device='cuda:0') torch.Size([4])\n",
      "08/24/2023, 22:39:52# labels of 10000: tensor([ 23, 116, 155,   8], device='cuda:0') torch.Size([4])\n",
      "08/24/2023, 22:39:52# predicted of 10000: tensor([ 80, 166, 161, 161], device='cuda:0') torch.Size([4])\n",
      "08/24/2023, 22:41:32# labels of 15000: tensor([123,  52,   8,  17], device='cuda:0') torch.Size([4])\n",
      "08/24/2023, 22:41:32# predicted of 15000: tensor([123,  52, 132,  17], device='cuda:0') torch.Size([4])\n",
      "08/24/2023, 22:43:04# labels of 20000: tensor([132, 100,  17, 112], device='cuda:0') torch.Size([4])\n",
      "08/24/2023, 22:43:04# predicted of 20000: tensor([132, 132,  17, 132], device='cuda:0') torch.Size([4])\n",
      "08/24/2023, 22:44:34# labels of 25000: tensor([135,  90,  58,  95], device='cuda:0') torch.Size([4])\n",
      "08/24/2023, 22:44:34# predicted of 25000: tensor([101, 131, 166,  79], device='cuda:0') torch.Size([4])\n",
      "08/24/2023, 22:45:56# labels of 30000: tensor([ 55, 141, 164,  87], device='cuda:0') torch.Size([4])\n",
      "08/24/2023, 22:45:56# predicted of 30000: tensor([101, 101,  21, 160], device='cuda:0') torch.Size([4])\n",
      "08/24/2023, 22:46:56# total batches: 33000\n",
      "08/24/2023, 22:46:56# Epoch 1 | Train Loss: 3.6081 | Train Accuracy: 0.2706\n"
     ]
    },
    {
     "data": {
      "application/vnd.jupyter.widget-view+json": {
       "model_id": "2e2d76a8fad844df8ea2e8b7dd76f15d",
       "version_major": 2,
       "version_minor": 0
      },
      "text/plain": [
       "Validation:   0%|          | 0/4125 [00:00<?, ?it/s]"
      ]
     },
     "metadata": {},
     "output_type": "display_data"
    },
    {
     "name": "stdout",
     "output_type": "stream",
     "text": [
      "08/24/2023, 22:46:56# labels of Validation: tensor([84, 63, 62, 75], device='cuda:0') torch.Size([4])\n",
      "08/24/2023, 22:46:56# predicted of Validation: tensor([84, 28, 62, 28], device='cuda:0') torch.Size([4])\n",
      "08/24/2023, 22:46:56# labels of 0: tensor([84, 63, 62, 75], device='cuda:0') torch.Size([4])\n",
      "08/24/2023, 22:46:56# predicted of 0: tensor([84, 28, 62, 28], device='cuda:0') torch.Size([4])\n",
      "08/24/2023, 22:47:03# labels of Validation: tensor([157,  80,  37,  45], device='cuda:0') torch.Size([4])\n",
      "08/24/2023, 22:47:03# predicted of Validation: tensor([28, 80, 28, 45], device='cuda:0') torch.Size([4])\n",
      "08/24/2023, 22:47:10# labels of Validation: tensor([101, 144,  35, 125], device='cuda:0') torch.Size([4])\n",
      "08/24/2023, 22:47:10# predicted of Validation: tensor([28, 28, 35, 28], device='cuda:0') torch.Size([4])\n",
      "08/24/2023, 22:47:17# labels of Validation: tensor([ 30, 146, 140,  93], device='cuda:0') torch.Size([4])\n",
      "08/24/2023, 22:47:17# predicted of Validation: tensor([ 28, 146, 140,  28], device='cuda:0') torch.Size([4])\n",
      "08/24/2023, 22:47:24# labels of Validation: tensor([ 61,  72,  58, 102], device='cuda:0') torch.Size([4])\n",
      "08/24/2023, 22:47:24# predicted of Validation: tensor([115,  45,  28,  28], device='cuda:0') torch.Size([4])\n",
      "08/24/2023, 22:47:25# Validation Loss: 3.3406 | Validation Accuracy: 0.3520\n",
      "\n"
     ]
    },
    {
     "data": {
      "application/vnd.jupyter.widget-view+json": {
       "model_id": "2f98819903df422f9789fdf468b8fac6",
       "version_major": 2,
       "version_minor": 0
      },
      "text/plain": [
       "Training:   0%|          | 0/33000 [00:00<?, ?it/s]"
      ]
     },
     "metadata": {},
     "output_type": "display_data"
    },
    {
     "name": "stdout",
     "output_type": "stream",
     "text": [
      "08/24/2023, 22:49:04# labels of 5000: tensor([136, 132,  51, 112], device='cuda:0') torch.Size([4])\n",
      "08/24/2023, 22:49:04# predicted of 5000: tensor([136,   6, 132,   6], device='cuda:0') torch.Size([4])\n",
      "08/24/2023, 22:50:44# labels of 10000: tensor([  0, 102,  98,  60], device='cuda:0') torch.Size([4])\n",
      "08/24/2023, 22:50:44# predicted of 10000: tensor([ 0, 51, 90, 75], device='cuda:0') torch.Size([4])\n",
      "08/24/2023, 22:52:25# labels of 15000: tensor([ 72, 134,  31,  32], device='cuda:0') torch.Size([4])\n",
      "08/24/2023, 22:52:25# predicted of 15000: tensor([ 45, 134,  77,  32], device='cuda:0') torch.Size([4])\n",
      "08/24/2023, 22:53:23# labels of 20000: tensor([103, 143, 124,  53], device='cuda:0') torch.Size([4])\n",
      "08/24/2023, 22:53:23# predicted of 20000: tensor([132,  33,  44,   8], device='cuda:0') torch.Size([4])\n",
      "08/24/2023, 22:54:16# labels of 25000: tensor([127, 143,  16, 154], device='cuda:0') torch.Size([4])\n",
      "08/24/2023, 22:54:16# predicted of 25000: tensor([127,  58,  16, 154], device='cuda:0') torch.Size([4])\n",
      "08/24/2023, 22:55:47# labels of 30000: tensor([148, 132,  38,  84], device='cuda:0') torch.Size([4])\n",
      "08/24/2023, 22:55:47# predicted of 30000: tensor([132, 132,  28,  84], device='cuda:0') torch.Size([4])\n",
      "08/24/2023, 22:56:43# total batches: 33000\n",
      "08/24/2023, 22:56:43# Epoch 2 | Train Loss: 3.2066 | Train Accuracy: 0.3484\n"
     ]
    },
    {
     "data": {
      "application/vnd.jupyter.widget-view+json": {
       "model_id": "37d2d24eddeb4b13ad922b11a93aeaa9",
       "version_major": 2,
       "version_minor": 0
      },
      "text/plain": [
       "Validation:   0%|          | 0/4125 [00:00<?, ?it/s]"
      ]
     },
     "metadata": {},
     "output_type": "display_data"
    },
    {
     "name": "stdout",
     "output_type": "stream",
     "text": [
      "08/24/2023, 22:56:43# labels of Validation: tensor([67, 80, 97, 36], device='cuda:0') torch.Size([4])\n",
      "08/24/2023, 22:56:43# predicted of Validation: tensor([ 78,  80, 101, 101], device='cuda:0') torch.Size([4])\n",
      "08/24/2023, 22:56:43# labels of 0: tensor([67, 80, 97, 36], device='cuda:0') torch.Size([4])\n",
      "08/24/2023, 22:56:43# predicted of 0: tensor([ 78,  80, 101, 101], device='cuda:0') torch.Size([4])\n",
      "08/24/2023, 22:56:49# labels of Validation: tensor([112, 142, 164, 154], device='cuda:0') torch.Size([4])\n",
      "08/24/2023, 22:56:49# predicted of Validation: tensor([101, 101, 101, 154], device='cuda:0') torch.Size([4])\n",
      "08/24/2023, 22:56:56# labels of Validation: tensor([154, 159,  24,  98], device='cuda:0') torch.Size([4])\n",
      "08/24/2023, 22:56:56# predicted of Validation: tensor([154, 159, 101, 101], device='cuda:0') torch.Size([4])\n",
      "08/24/2023, 22:57:03# labels of Validation: tensor([26, 79, 28, 36], device='cuda:0') torch.Size([4])\n",
      "08/24/2023, 22:57:03# predicted of Validation: tensor([101, 130, 161, 101], device='cuda:0') torch.Size([4])\n",
      "08/24/2023, 22:57:09# labels of Validation: tensor([130,  42,  37, 137], device='cuda:0') torch.Size([4])\n",
      "08/24/2023, 22:57:09# predicted of Validation: tensor([130, 101, 101, 101], device='cuda:0') torch.Size([4])\n",
      "08/24/2023, 22:57:10# Validation Loss: 3.0381 | Validation Accuracy: 0.3644\n",
      "\n"
     ]
    },
    {
     "data": {
      "application/vnd.jupyter.widget-view+json": {
       "model_id": "b61e969e006944d3bc0628e224b2c7d6",
       "version_major": 2,
       "version_minor": 0
      },
      "text/plain": [
       "Training:   0%|          | 0/33000 [00:00<?, ?it/s]"
      ]
     },
     "metadata": {},
     "output_type": "display_data"
    },
    {
     "name": "stdout",
     "output_type": "stream",
     "text": [
      "08/24/2023, 22:58:51# labels of 5000: tensor([139, 105,  98,  60], device='cuda:0') torch.Size([4])\n",
      "08/24/2023, 22:58:51# predicted of 5000: tensor([ 88, 105, 161,  88], device='cuda:0') torch.Size([4])\n",
      "08/24/2023, 23:00:22# labels of 10000: tensor([138, 121,   1,  56], device='cuda:0') torch.Size([4])\n",
      "08/24/2023, 23:00:22# predicted of 10000: tensor([138, 131,  47,  56], device='cuda:0') torch.Size([4])\n",
      "08/24/2023, 23:02:03# labels of 15000: tensor([114,  23,  42,  13], device='cuda:0') torch.Size([4])\n",
      "08/24/2023, 23:02:03# predicted of 15000: tensor([132,  23, 141,  13], device='cuda:0') torch.Size([4])\n",
      "08/24/2023, 23:03:43# labels of 20000: tensor([128, 146, 164,  93], device='cuda:0') torch.Size([4])\n",
      "08/24/2023, 23:03:43# predicted of 20000: tensor([128, 146,  57,   6], device='cuda:0') torch.Size([4])\n",
      "08/24/2023, 23:05:24# labels of 25000: tensor([27, 77,  5, 50], device='cuda:0') torch.Size([4])\n",
      "08/24/2023, 23:05:24# predicted of 25000: tensor([ 27, 161,   5,  50], device='cuda:0') torch.Size([4])\n",
      "08/24/2023, 23:06:52# labels of 30000: tensor([ 61, 153,  98,  42], device='cuda:0') torch.Size([4])\n",
      "08/24/2023, 23:06:52# predicted of 30000: tensor([ 61, 101, 102,  97], device='cuda:0') torch.Size([4])\n",
      "08/24/2023, 23:07:52# total batches: 33000\n",
      "08/24/2023, 23:07:52# Epoch 3 | Train Loss: 2.9896 | Train Accuracy: 0.3662\n"
     ]
    },
    {
     "data": {
      "application/vnd.jupyter.widget-view+json": {
       "model_id": "4d2273f6b3f4474586829a244c584cd2",
       "version_major": 2,
       "version_minor": 0
      },
      "text/plain": [
       "Validation:   0%|          | 0/4125 [00:00<?, ?it/s]"
      ]
     },
     "metadata": {},
     "output_type": "display_data"
    },
    {
     "name": "stdout",
     "output_type": "stream",
     "text": [
      "08/24/2023, 23:07:52# labels of Validation: tensor([102, 114,   1,  16], device='cuda:0') torch.Size([4])\n",
      "08/24/2023, 23:07:52# predicted of Validation: tensor([100, 132, 100,  16], device='cuda:0') torch.Size([4])\n",
      "08/24/2023, 23:07:52# labels of 0: tensor([102, 114,   1,  16], device='cuda:0') torch.Size([4])\n",
      "08/24/2023, 23:07:52# predicted of 0: tensor([100, 132, 100,  16], device='cuda:0') torch.Size([4])\n",
      "08/24/2023, 23:07:59# labels of Validation: tensor([ 20, 128, 161,  32], device='cuda:0') torch.Size([4])\n",
      "08/24/2023, 23:07:59# predicted of Validation: tensor([100, 128, 132,  32], device='cuda:0') torch.Size([4])\n",
      "08/24/2023, 23:08:06# labels of Validation: tensor([ 66,  21, 127,  97], device='cuda:0') torch.Size([4])\n",
      "08/24/2023, 23:08:06# predicted of Validation: tensor([132, 132, 127, 100], device='cuda:0') torch.Size([4])\n",
      "08/24/2023, 23:08:12# labels of Validation: tensor([  2,   9,  15, 102], device='cuda:0') torch.Size([4])\n",
      "08/24/2023, 23:08:12# predicted of Validation: tensor([100, 100,  15, 100], device='cuda:0') torch.Size([4])\n",
      "08/24/2023, 23:08:19# labels of Validation: tensor([107, 118,  74,  54], device='cuda:0') torch.Size([4])\n",
      "08/24/2023, 23:08:19# predicted of Validation: tensor([132, 118, 100, 100], device='cuda:0') torch.Size([4])\n",
      "08/24/2023, 23:08:19# Validation Loss: 2.8979 | Validation Accuracy: 0.3684\n",
      "\n"
     ]
    },
    {
     "data": {
      "application/vnd.jupyter.widget-view+json": {
       "model_id": "0f0a319eea734801b55c75029d8bb91a",
       "version_major": 2,
       "version_minor": 0
      },
      "text/plain": [
       "Training:   0%|          | 0/33000 [00:00<?, ?it/s]"
      ]
     },
     "metadata": {},
     "output_type": "display_data"
    },
    {
     "name": "stdout",
     "output_type": "stream",
     "text": [
      "08/24/2023, 23:09:55# labels of 5000: tensor([160, 146,  59, 166], device='cuda:0') torch.Size([4])\n",
      "08/24/2023, 23:09:55# predicted of 5000: tensor([  6, 146,   6,   6], device='cuda:0') torch.Size([4])\n",
      "08/24/2023, 23:11:35# labels of 10000: tensor([ 93, 135,  48,  37], device='cuda:0') torch.Size([4])\n",
      "08/24/2023, 23:11:35# predicted of 10000: tensor([131,   9,  66,  28], device='cuda:0') torch.Size([4])\n",
      "08/24/2023, 23:13:15# labels of 15000: tensor([ 27,  56,  60, 140], device='cuda:0') torch.Size([4])\n",
      "08/24/2023, 23:13:15# predicted of 15000: tensor([ 27,  56, 119, 140], device='cuda:0') torch.Size([4])\n",
      "08/24/2023, 23:14:56# labels of 20000: tensor([152, 110,  23, 100], device='cuda:0') torch.Size([4])\n",
      "08/24/2023, 23:14:56# predicted of 20000: tensor([129,  37,  23,  51], device='cuda:0') torch.Size([4])\n",
      "08/24/2023, 23:16:26# labels of 25000: tensor([ 81,   8,  73, 149], device='cuda:0') torch.Size([4])\n",
      "08/24/2023, 23:16:26# predicted of 25000: tensor([ 37, 132,  73, 149], device='cuda:0') torch.Size([4])\n",
      "08/24/2023, 23:18:07# labels of 30000: tensor([ 70, 135,  13,  55], device='cuda:0') torch.Size([4])\n",
      "08/24/2023, 23:18:07# predicted of 30000: tensor([70, 98, 13, 33], device='cuda:0') torch.Size([4])\n",
      "08/24/2023, 23:19:07# total batches: 33000\n",
      "08/24/2023, 23:19:07# Epoch 4 | Train Loss: 2.8937 | Train Accuracy: 0.3712\n"
     ]
    },
    {
     "data": {
      "application/vnd.jupyter.widget-view+json": {
       "model_id": "fb98cce516b04db5b251346e4e5c9b32",
       "version_major": 2,
       "version_minor": 0
      },
      "text/plain": [
       "Validation:   0%|          | 0/4125 [00:00<?, ?it/s]"
      ]
     },
     "metadata": {},
     "output_type": "display_data"
    },
    {
     "name": "stdout",
     "output_type": "stream",
     "text": [
      "08/24/2023, 23:19:07# labels of Validation: tensor([  2, 132, 107, 111], device='cuda:0') torch.Size([4])\n",
      "08/24/2023, 23:19:07# predicted of Validation: tensor([104, 161, 155, 104], device='cuda:0') torch.Size([4])\n",
      "08/24/2023, 23:19:07# labels of 0: tensor([  2, 132, 107, 111], device='cuda:0') torch.Size([4])\n",
      "08/24/2023, 23:19:07# predicted of 0: tensor([104, 161, 155, 104], device='cuda:0') torch.Size([4])\n",
      "08/24/2023, 23:19:14# labels of Validation: tensor([134,  24, 129,  90], device='cuda:0') torch.Size([4])\n",
      "08/24/2023, 23:19:14# predicted of Validation: tensor([134, 104, 155, 155], device='cuda:0') torch.Size([4])\n",
      "08/24/2023, 23:19:20# labels of Validation: tensor([ 80, 138,  49, 117], device='cuda:0') torch.Size([4])\n",
      "08/24/2023, 23:19:20# predicted of Validation: tensor([ 80, 138, 104, 117], device='cuda:0') torch.Size([4])\n",
      "08/24/2023, 23:19:27# labels of Validation: tensor([158, 164,  51,  94], device='cuda:0') torch.Size([4])\n",
      "08/24/2023, 23:19:27# predicted of Validation: tensor([104, 104, 161,  94], device='cuda:0') torch.Size([4])\n",
      "08/24/2023, 23:19:33# labels of Validation: tensor([160,   0, 115,  73], device='cuda:0') torch.Size([4])\n",
      "08/24/2023, 23:19:33# predicted of Validation: tensor([155,   0, 115,  73], device='cuda:0') torch.Size([4])\n",
      "08/24/2023, 23:19:34# Validation Loss: 2.8455 | Validation Accuracy: 0.3773\n",
      "\n"
     ]
    },
    {
     "data": {
      "application/vnd.jupyter.widget-view+json": {
       "model_id": "d6466836cfdf4738a8802261b81ff23c",
       "version_major": 2,
       "version_minor": 0
      },
      "text/plain": [
       "Training:   0%|          | 0/33000 [00:00<?, ?it/s]"
      ]
     },
     "metadata": {},
     "output_type": "display_data"
    },
    {
     "name": "stdout",
     "output_type": "stream",
     "text": [
      "08/24/2023, 23:21:14# labels of 5000: tensor([123,  11, 159,  57], device='cuda:0') torch.Size([4])\n",
      "08/24/2023, 23:21:14# predicted of 5000: tensor([123, 164, 159,  93], device='cuda:0') torch.Size([4])\n",
      "08/24/2023, 23:22:47# labels of 10000: tensor([ 74, 130,  79, 133], device='cuda:0') torch.Size([4])\n",
      "08/24/2023, 23:22:47# predicted of 10000: tensor([ 46, 130,  79,  59], device='cuda:0') torch.Size([4])\n",
      "08/24/2023, 23:24:28# labels of 15000: tensor([115,  84, 101,  44], device='cuda:0') torch.Size([4])\n",
      "08/24/2023, 23:24:28# predicted of 15000: tensor([115,  84,  51,  10], device='cuda:0') torch.Size([4])\n",
      "08/24/2023, 23:26:08# labels of 20000: tensor([ 54,  85, 104, 126], device='cuda:0') torch.Size([4])\n",
      "08/24/2023, 23:26:08# predicted of 20000: tensor([ 21,  85,  21, 126], device='cuda:0') torch.Size([4])\n",
      "08/24/2023, 23:27:48# labels of 25000: tensor([106, 140,  85,  75], device='cuda:0') torch.Size([4])\n",
      "08/24/2023, 23:27:48# predicted of 25000: tensor([106, 140,  85, 150], device='cuda:0') torch.Size([4])\n",
      "08/24/2023, 23:29:28# labels of 30000: tensor([ 49, 104, 166, 160], device='cuda:0') torch.Size([4])\n",
      "08/24/2023, 23:29:28# predicted of 30000: tensor([ 18, 144,  28,  88], device='cuda:0') torch.Size([4])\n",
      "08/24/2023, 23:30:29# total batches: 33000\n",
      "08/24/2023, 23:30:29# Epoch 5 | Train Loss: 2.8528 | Train Accuracy: 0.3734\n"
     ]
    },
    {
     "data": {
      "application/vnd.jupyter.widget-view+json": {
       "model_id": "3858e6c4294749839eb4a147de76fa9f",
       "version_major": 2,
       "version_minor": 0
      },
      "text/plain": [
       "Validation:   0%|          | 0/4125 [00:00<?, ?it/s]"
      ]
     },
     "metadata": {},
     "output_type": "display_data"
    },
    {
     "name": "stdout",
     "output_type": "stream",
     "text": [
      "08/24/2023, 23:30:29# labels of Validation: tensor([ 52, 159, 137,  77], device='cuda:0') torch.Size([4])\n",
      "08/24/2023, 23:30:29# predicted of Validation: tensor([ 52, 159, 125,  28], device='cuda:0') torch.Size([4])\n",
      "08/24/2023, 23:30:29# labels of 0: tensor([ 52, 159, 137,  77], device='cuda:0') torch.Size([4])\n",
      "08/24/2023, 23:30:29# predicted of 0: tensor([ 52, 159, 125,  28], device='cuda:0') torch.Size([4])\n",
      "08/24/2023, 23:30:35# labels of Validation: tensor([158, 122,  76, 120], device='cuda:0') torch.Size([4])\n",
      "08/24/2023, 23:30:35# predicted of Validation: tensor([125, 122, 125, 120], device='cuda:0') torch.Size([4])\n",
      "08/24/2023, 23:30:42# labels of Validation: tensor([121, 118, 149,  87], device='cuda:0') torch.Size([4])\n",
      "08/24/2023, 23:30:42# predicted of Validation: tensor([125, 118, 149, 125], device='cuda:0') torch.Size([4])\n",
      "08/24/2023, 23:30:48# labels of Validation: tensor([ 79, 152,  60,  32], device='cuda:0') torch.Size([4])\n",
      "08/24/2023, 23:30:48# predicted of Validation: tensor([ 79, 125, 125,  32], device='cuda:0') torch.Size([4])\n",
      "08/24/2023, 23:30:54# labels of Validation: tensor([161, 138, 106, 119], device='cuda:0') torch.Size([4])\n",
      "08/24/2023, 23:30:54# predicted of Validation: tensor([ 28, 138, 106, 125], device='cuda:0') torch.Size([4])\n",
      "08/24/2023, 23:30:55# Validation Loss: 2.8217 | Validation Accuracy: 0.3782\n",
      "\n"
     ]
    },
    {
     "data": {
      "application/vnd.jupyter.widget-view+json": {
       "model_id": "4e18b237977346b1aa80562f639bedd4",
       "version_major": 2,
       "version_minor": 0
      },
      "text/plain": [
       "Training:   0%|          | 0/33000 [00:00<?, ?it/s]"
      ]
     },
     "metadata": {},
     "output_type": "display_data"
    },
    {
     "name": "stdout",
     "output_type": "stream",
     "text": [
      "08/24/2023, 23:32:36# labels of 5000: tensor([ 84, 117, 113,   1], device='cuda:0') torch.Size([4])\n",
      "08/24/2023, 23:32:36# predicted of 5000: tensor([ 84, 117, 161, 121], device='cuda:0') torch.Size([4])\n",
      "08/24/2023, 23:34:16# labels of 10000: tensor([ 28,  93,  47, 151], device='cuda:0') torch.Size([4])\n",
      "08/24/2023, 23:34:16# predicted of 10000: tensor([ 28,  28, 163,  59], device='cuda:0') torch.Size([4])\n",
      "08/24/2023, 23:35:56# labels of 15000: tensor([ 70,  19, 107, 166], device='cuda:0') torch.Size([4])\n",
      "08/24/2023, 23:35:56# predicted of 15000: tensor([70, 77, 28, 28], device='cuda:0') torch.Size([4])\n",
      "08/24/2023, 23:37:37# labels of 20000: tensor([ 84, 122, 151,  58], device='cuda:0') torch.Size([4])\n",
      "08/24/2023, 23:37:37# predicted of 20000: tensor([ 84, 122,  37, 148], device='cuda:0') torch.Size([4])\n",
      "08/24/2023, 23:39:17# labels of 25000: tensor([  6, 121,   0,   0], device='cuda:0') torch.Size([4])\n",
      "08/24/2023, 23:39:17# predicted of 25000: tensor([132,  81,   0,   0], device='cuda:0') torch.Size([4])\n",
      "08/24/2023, 23:40:47# labels of 30000: tensor([ 11, 158,  69, 135], device='cuda:0') torch.Size([4])\n",
      "08/24/2023, 23:40:47# predicted of 30000: tensor([129,  58,  69, 157], device='cuda:0') torch.Size([4])\n",
      "08/24/2023, 23:41:47# total batches: 33000\n",
      "08/24/2023, 23:41:47# Epoch 6 | Train Loss: 2.8314 | Train Accuracy: 0.3753\n"
     ]
    },
    {
     "data": {
      "application/vnd.jupyter.widget-view+json": {
       "model_id": "ab64f149c1bb452d8281dde3f199c0a4",
       "version_major": 2,
       "version_minor": 0
      },
      "text/plain": [
       "Validation:   0%|          | 0/4125 [00:00<?, ?it/s]"
      ]
     },
     "metadata": {},
     "output_type": "display_data"
    },
    {
     "name": "stdout",
     "output_type": "stream",
     "text": [
      "08/24/2023, 23:41:47# labels of Validation: tensor([156, 111,  35,  16], device='cuda:0') torch.Size([4])\n",
      "08/24/2023, 23:41:47# predicted of Validation: tensor([156,  14,  35,  16], device='cuda:0') torch.Size([4])\n",
      "08/24/2023, 23:41:47# labels of 0: tensor([156, 111,  35,  16], device='cuda:0') torch.Size([4])\n",
      "08/24/2023, 23:41:47# predicted of 0: tensor([156,  14,  35,  16], device='cuda:0') torch.Size([4])\n",
      "08/24/2023, 23:41:54# labels of Validation: tensor([ 97, 161,  34, 159], device='cuda:0') torch.Size([4])\n",
      "08/24/2023, 23:41:54# predicted of Validation: tensor([ 14, 132,  14, 159], device='cuda:0') torch.Size([4])\n",
      "08/24/2023, 23:42:00# labels of Validation: tensor([ 94,  48, 154,  90], device='cuda:0') torch.Size([4])\n",
      "08/24/2023, 23:42:00# predicted of Validation: tensor([ 94,  14, 154, 132], device='cuda:0') torch.Size([4])\n",
      "08/24/2023, 23:42:06# labels of Validation: tensor([ 12, 127,  41, 159], device='cuda:0') torch.Size([4])\n",
      "08/24/2023, 23:42:06# predicted of Validation: tensor([ 14, 127,  14, 159], device='cuda:0') torch.Size([4])\n",
      "08/24/2023, 23:42:12# labels of Validation: tensor([41, 61, 11, 76], device='cuda:0') torch.Size([4])\n",
      "08/24/2023, 23:42:12# predicted of Validation: tensor([14, 61, 14, 14], device='cuda:0') torch.Size([4])\n",
      "08/24/2023, 23:42:12# Validation Loss: 2.8078 | Validation Accuracy: 0.3776\n",
      "\n"
     ]
    },
    {
     "data": {
      "application/vnd.jupyter.widget-view+json": {
       "model_id": "c849165e1f294cd1b8c3a636ad111be6",
       "version_major": 2,
       "version_minor": 0
      },
      "text/plain": [
       "Training:   0%|          | 0/33000 [00:00<?, ?it/s]"
      ]
     },
     "metadata": {},
     "output_type": "display_data"
    },
    {
     "name": "stdout",
     "output_type": "stream",
     "text": [
      "08/24/2023, 23:43:54# labels of 5000: tensor([ 48,  43,  12, 154], device='cuda:0') torch.Size([4])\n",
      "08/24/2023, 23:43:54# predicted of 5000: tensor([150,  88,  31, 154], device='cuda:0') torch.Size([4])\n",
      "08/24/2023, 23:45:36# labels of 10000: tensor([  7, 136, 114, 125], device='cuda:0') torch.Size([4])\n",
      "08/24/2023, 23:45:36# predicted of 10000: tensor([  7, 136,  66, 139], device='cuda:0') torch.Size([4])\n",
      "08/24/2023, 23:47:17# labels of 15000: tensor([ 35, 114,   3, 165], device='cuda:0') torch.Size([4])\n",
      "08/24/2023, 23:47:17# predicted of 15000: tensor([ 35, 108,   3, 165], device='cuda:0') torch.Size([4])\n",
      "08/24/2023, 23:49:02# labels of 20000: tensor([26, 77, 86, 41], device='cuda:0') torch.Size([4])\n",
      "08/24/2023, 23:49:02# predicted of 20000: tensor([112, 161, 160,  54], device='cuda:0') torch.Size([4])\n",
      "08/24/2023, 23:50:43# labels of 25000: tensor([ 34,  15, 160,  29], device='cuda:0') torch.Size([4])\n",
      "08/24/2023, 23:50:43# predicted of 25000: tensor([100,  15, 131,  29], device='cuda:0') torch.Size([4])\n",
      "08/24/2023, 23:52:23# labels of 30000: tensor([164, 125,  49,  60], device='cuda:0') torch.Size([4])\n",
      "08/24/2023, 23:52:23# predicted of 30000: tensor([ 37,  68,  37, 131], device='cuda:0') torch.Size([4])\n",
      "08/24/2023, 23:53:23# total batches: 33000\n",
      "08/24/2023, 23:53:23# Epoch 7 | Train Loss: 2.8174 | Train Accuracy: 0.3760\n"
     ]
    },
    {
     "data": {
      "application/vnd.jupyter.widget-view+json": {
       "model_id": "fdabdc7738214b2ba7d38d69460b8232",
       "version_major": 2,
       "version_minor": 0
      },
      "text/plain": [
       "Validation:   0%|          | 0/4125 [00:00<?, ?it/s]"
      ]
     },
     "metadata": {},
     "output_type": "display_data"
    },
    {
     "name": "stdout",
     "output_type": "stream",
     "text": [
      "08/24/2023, 23:53:23# labels of Validation: tensor([ 84, 122, 166, 109], device='cuda:0') torch.Size([4])\n",
      "08/24/2023, 23:53:23# predicted of Validation: tensor([ 84, 122, 161,  63], device='cuda:0') torch.Size([4])\n",
      "08/24/2023, 23:53:23# labels of 0: tensor([ 84, 122, 166, 109], device='cuda:0') torch.Size([4])\n",
      "08/24/2023, 23:53:23# predicted of 0: tensor([ 84, 122, 161,  63], device='cuda:0') torch.Size([4])\n",
      "08/24/2023, 23:53:30# labels of Validation: tensor([153, 158, 115, 114], device='cuda:0') torch.Size([4])\n",
      "08/24/2023, 23:53:30# predicted of Validation: tensor([ 63,  63, 115, 161], device='cuda:0') torch.Size([4])\n",
      "08/24/2023, 23:53:36# labels of Validation: tensor([130, 125,  78,  52], device='cuda:0') torch.Size([4])\n",
      "08/24/2023, 23:53:36# predicted of Validation: tensor([130,  63,  78,  52], device='cuda:0') torch.Size([4])\n",
      "08/24/2023, 23:53:42# labels of Validation: tensor([ 14,  82,  51, 137], device='cuda:0') torch.Size([4])\n",
      "08/24/2023, 23:53:42# predicted of Validation: tensor([ 63,  82, 161,  63], device='cuda:0') torch.Size([4])\n",
      "08/24/2023, 23:53:48# labels of Validation: tensor([ 81, 159,  35,  77], device='cuda:0') torch.Size([4])\n",
      "08/24/2023, 23:53:48# predicted of Validation: tensor([ 63, 159,  35, 161], device='cuda:0') torch.Size([4])\n",
      "08/24/2023, 23:53:49# Validation Loss: 2.7974 | Validation Accuracy: 0.3790\n",
      "\n"
     ]
    },
    {
     "data": {
      "application/vnd.jupyter.widget-view+json": {
       "model_id": "39233baf80834a0fac05a02d6fa38ec2",
       "version_major": 2,
       "version_minor": 0
      },
      "text/plain": [
       "Training:   0%|          | 0/33000 [00:00<?, ?it/s]"
      ]
     },
     "metadata": {},
     "output_type": "display_data"
    },
    {
     "name": "stdout",
     "output_type": "stream",
     "text": [
      "08/24/2023, 23:55:31# labels of 5000: tensor([ 92,   4,  42, 132], device='cuda:0') torch.Size([4])\n",
      "08/24/2023, 23:55:31# predicted of 5000: tensor([100,  86,  21,  28], device='cuda:0') torch.Size([4])\n",
      "08/24/2023, 23:57:11# labels of 10000: tensor([ 76,  82,   3, 106], device='cuda:0') torch.Size([4])\n",
      "08/24/2023, 23:57:11# predicted of 10000: tensor([ 60,  82,   3, 106], device='cuda:0') torch.Size([4])\n",
      "08/24/2023, 23:58:52# labels of 15000: tensor([109,  34,  57, 142], device='cuda:0') torch.Size([4])\n",
      "08/24/2023, 23:58:52# predicted of 15000: tensor([88, 76, 49, 49], device='cuda:0') torch.Size([4])\n",
      "08/25/2023, 00:00:33# labels of 20000: tensor([53, 62, 32, 27], device='cuda:0') torch.Size([4])\n",
      "08/25/2023, 00:00:33# predicted of 20000: tensor([143,  62,  32,  27], device='cuda:0') torch.Size([4])\n",
      "08/25/2023, 00:01:59# labels of 25000: tensor([ 50, 130,  72,  11], device='cuda:0') torch.Size([4])\n",
      "08/25/2023, 00:01:59# predicted of 25000: tensor([ 50, 130,  72,  90], device='cuda:0') torch.Size([4])\n",
      "08/25/2023, 00:03:41# labels of 30000: tensor([144,  29,  58,  60], device='cuda:0') torch.Size([4])\n",
      "08/25/2023, 00:03:41# predicted of 30000: tensor([124,  29, 141,  37], device='cuda:0') torch.Size([4])\n",
      "08/25/2023, 00:04:45# total batches: 33000\n",
      "08/25/2023, 00:04:45# Epoch 8 | Train Loss: 2.8084 | Train Accuracy: 0.3773\n"
     ]
    },
    {
     "data": {
      "application/vnd.jupyter.widget-view+json": {
       "model_id": "25a495e175f54234b57e13aad1a3a5c1",
       "version_major": 2,
       "version_minor": 0
      },
      "text/plain": [
       "Validation:   0%|          | 0/4125 [00:00<?, ?it/s]"
      ]
     },
     "metadata": {},
     "output_type": "display_data"
    },
    {
     "name": "stdout",
     "output_type": "stream",
     "text": [
      "08/25/2023, 00:04:45# labels of Validation: tensor([  8, 119,  29, 106], device='cuda:0') torch.Size([4])\n",
      "08/25/2023, 00:04:45# predicted of Validation: tensor([  6,  49,  29, 106], device='cuda:0') torch.Size([4])\n",
      "08/25/2023, 00:04:45# labels of 0: tensor([  8, 119,  29, 106], device='cuda:0') torch.Size([4])\n",
      "08/25/2023, 00:04:45# predicted of 0: tensor([  6,  49,  29, 106], device='cuda:0') torch.Size([4])\n",
      "08/25/2023, 00:04:52# labels of Validation: tensor([113, 130,  75, 111], device='cuda:0') torch.Size([4])\n",
      "08/25/2023, 00:04:52# predicted of Validation: tensor([  6, 130,  49,  49], device='cuda:0') torch.Size([4])\n",
      "08/25/2023, 00:04:59# labels of Validation: tensor([ 25,  14,  76, 118], device='cuda:0') torch.Size([4])\n",
      "08/25/2023, 00:04:59# predicted of Validation: tensor([ 25,  49,  49, 118], device='cuda:0') torch.Size([4])\n",
      "08/25/2023, 00:05:05# labels of Validation: tensor([166,   1,  32,  59], device='cuda:0') torch.Size([4])\n",
      "08/25/2023, 00:05:05# predicted of Validation: tensor([132,  49,  32, 132], device='cuda:0') torch.Size([4])\n",
      "08/25/2023, 00:05:12# labels of Validation: tensor([129,  12,  32,  96], device='cuda:0') torch.Size([4])\n",
      "08/25/2023, 00:05:12# predicted of Validation: tensor([ 6, 49, 32, 96], device='cuda:0') torch.Size([4])\n",
      "08/25/2023, 00:05:13# Validation Loss: 2.7896 | Validation Accuracy: 0.3782\n",
      "\n"
     ]
    },
    {
     "data": {
      "application/vnd.jupyter.widget-view+json": {
       "model_id": "fffa90b1e64e4e8bb752fa803a9a3964",
       "version_major": 2,
       "version_minor": 0
      },
      "text/plain": [
       "Training:   0%|          | 0/33000 [00:00<?, ?it/s]"
      ]
     },
     "metadata": {},
     "output_type": "display_data"
    },
    {
     "name": "stdout",
     "output_type": "stream",
     "text": [
      "08/25/2023, 00:06:35# labels of 5000: tensor([116, 111,  82, 120], device='cuda:0') torch.Size([4])\n",
      "08/25/2023, 00:06:35# predicted of 5000: tensor([ 36,  38,  82, 120], device='cuda:0') torch.Size([4])\n",
      "08/25/2023, 00:08:18# labels of 10000: tensor([ 51,   6,  95, 110], device='cuda:0') torch.Size([4])\n",
      "08/25/2023, 00:08:18# predicted of 10000: tensor([161, 132,  95, 132], device='cuda:0') torch.Size([4])\n",
      "08/25/2023, 00:10:01# labels of 15000: tensor([ 91,  26,  25, 164], device='cuda:0') torch.Size([4])\n",
      "08/25/2023, 00:10:01# predicted of 15000: tensor([132,   9,  25,  68], device='cuda:0') torch.Size([4])\n",
      "08/25/2023, 00:11:43# labels of 20000: tensor([ 75,  74, 111, 153], device='cuda:0') torch.Size([4])\n",
      "08/25/2023, 00:11:43# predicted of 20000: tensor([112,  63,  11, 110], device='cuda:0') torch.Size([4])\n",
      "08/25/2023, 00:13:24# labels of 25000: tensor([ 32, 129,  12, 161], device='cuda:0') torch.Size([4])\n",
      "08/25/2023, 00:13:24# predicted of 25000: tensor([ 32, 161,  77, 161], device='cuda:0') torch.Size([4])\n",
      "08/25/2023, 00:15:00# labels of 30000: tensor([ 18, 114,  77,  72], device='cuda:0') torch.Size([4])\n",
      "08/25/2023, 00:15:00# predicted of 30000: tensor([142, 161, 161,  72], device='cuda:0') torch.Size([4])\n",
      "08/25/2023, 00:16:00# total batches: 33000\n",
      "08/25/2023, 00:16:00# Epoch 9 | Train Loss: 2.8008 | Train Accuracy: 0.3773\n"
     ]
    },
    {
     "data": {
      "application/vnd.jupyter.widget-view+json": {
       "model_id": "828cbf1a00d64269a650755752313e6f",
       "version_major": 2,
       "version_minor": 0
      },
      "text/plain": [
       "Validation:   0%|          | 0/4125 [00:00<?, ?it/s]"
      ]
     },
     "metadata": {},
     "output_type": "display_data"
    },
    {
     "name": "stdout",
     "output_type": "stream",
     "text": [
      "08/25/2023, 00:16:00# labels of Validation: tensor([ 12,  46, 153, 154], device='cuda:0') torch.Size([4])\n",
      "08/25/2023, 00:16:00# predicted of Validation: tensor([ 76,  76,  76, 154], device='cuda:0') torch.Size([4])\n",
      "08/25/2023, 00:16:00# labels of 0: tensor([ 12,  46, 153, 154], device='cuda:0') torch.Size([4])\n",
      "08/25/2023, 00:16:00# predicted of 0: tensor([ 76,  76,  76, 154], device='cuda:0') torch.Size([4])\n",
      "08/25/2023, 00:16:06# labels of Validation: tensor([127,   2,  59, 144], device='cuda:0') torch.Size([4])\n",
      "08/25/2023, 00:16:06# predicted of Validation: tensor([127,  76,  28,  76], device='cuda:0') torch.Size([4])\n",
      "08/25/2023, 00:16:12# labels of Validation: tensor([  6, 155,  18,  26], device='cuda:0') torch.Size([4])\n",
      "08/25/2023, 00:16:12# predicted of Validation: tensor([132,  28,  76,  76], device='cuda:0') torch.Size([4])\n",
      "08/25/2023, 00:16:18# labels of Validation: tensor([103,  94,  39, 160], device='cuda:0') torch.Size([4])\n",
      "08/25/2023, 00:16:18# predicted of Validation: tensor([91, 94, 39, 91], device='cuda:0') torch.Size([4])\n",
      "08/25/2023, 00:16:24# labels of Validation: tensor([ 9,  3, 89, 29], device='cuda:0') torch.Size([4])\n",
      "08/25/2023, 00:16:24# predicted of Validation: tensor([76,  3, 89, 29], device='cuda:0') torch.Size([4])\n",
      "08/25/2023, 00:16:25# Validation Loss: 2.7837 | Validation Accuracy: 0.3795\n",
      "\n"
     ]
    },
    {
     "data": {
      "application/vnd.jupyter.widget-view+json": {
       "model_id": "6567bad26934455088fad6f6d47dcb7e",
       "version_major": 2,
       "version_minor": 0
      },
      "text/plain": [
       "Training:   0%|          | 0/33000 [00:00<?, ?it/s]"
      ]
     },
     "metadata": {},
     "output_type": "display_data"
    },
    {
     "name": "stdout",
     "output_type": "stream",
     "text": [
      "08/25/2023, 00:18:06# labels of 5000: tensor([155,  93,  80, 109], device='cuda:0') torch.Size([4])\n",
      "08/25/2023, 00:18:06# predicted of 5000: tensor([155, 132,  80, 163], device='cuda:0') torch.Size([4])\n",
      "08/25/2023, 00:19:47# labels of 10000: tensor([118,  18,  12, 135], device='cuda:0') torch.Size([4])\n",
      "08/25/2023, 00:19:47# predicted of 10000: tensor([118,  47, 103, 103], device='cuda:0') torch.Size([4])\n",
      "08/25/2023, 00:21:27# labels of 15000: tensor([131,  77,   0, 130], device='cuda:0') torch.Size([4])\n",
      "08/25/2023, 00:21:27# predicted of 15000: tensor([161, 161,   0, 130], device='cuda:0') torch.Size([4])\n",
      "08/25/2023, 00:23:08# labels of 20000: tensor([ 21,  35,  43, 163], device='cuda:0') torch.Size([4])\n",
      "08/25/2023, 00:23:08# predicted of 20000: tensor([  6,  35, 107, 107], device='cuda:0') torch.Size([4])\n",
      "08/25/2023, 00:24:49# labels of 25000: tensor([ 48,  43, 111,  16], device='cuda:0') torch.Size([4])\n",
      "08/25/2023, 00:24:49# predicted of 25000: tensor([111,  38,   1,  16], device='cuda:0') torch.Size([4])\n",
      "08/25/2023, 00:26:29# labels of 30000: tensor([ 45, 160,  83, 103], device='cuda:0') torch.Size([4])\n",
      "08/25/2023, 00:26:29# predicted of 30000: tensor([ 45, 132, 143,  28], device='cuda:0') torch.Size([4])\n",
      "08/25/2023, 00:27:29# total batches: 33000\n",
      "08/25/2023, 00:27:29# Epoch 10 | Train Loss: 2.7944 | Train Accuracy: 0.3783\n"
     ]
    },
    {
     "data": {
      "application/vnd.jupyter.widget-view+json": {
       "model_id": "e42e413f2ece4ea2b31c6f5e223379ad",
       "version_major": 2,
       "version_minor": 0
      },
      "text/plain": [
       "Validation:   0%|          | 0/4125 [00:00<?, ?it/s]"
      ]
     },
     "metadata": {},
     "output_type": "display_data"
    },
    {
     "name": "stdout",
     "output_type": "stream",
     "text": [
      "08/25/2023, 00:27:29# labels of Validation: tensor([ 76,  64, 106,  82], device='cuda:0') torch.Size([4])\n",
      "08/25/2023, 00:27:29# predicted of Validation: tensor([ 74, 108, 106,  82], device='cuda:0') torch.Size([4])\n",
      "08/25/2023, 00:27:29# labels of 0: tensor([ 76,  64, 106,  82], device='cuda:0') torch.Size([4])\n",
      "08/25/2023, 00:27:29# predicted of 0: tensor([ 74, 108, 106,  82], device='cuda:0') torch.Size([4])\n",
      "08/25/2023, 00:27:35# labels of Validation: tensor([ 13,  64,  67, 114], device='cuda:0') torch.Size([4])\n",
      "08/25/2023, 00:27:35# predicted of Validation: tensor([ 13, 108,  67, 108], device='cuda:0') torch.Size([4])\n",
      "08/25/2023, 00:27:41# labels of Validation: tensor([  5, 147, 159,  90], device='cuda:0') torch.Size([4])\n",
      "08/25/2023, 00:27:41# predicted of Validation: tensor([  5, 147, 159, 108], device='cuda:0') torch.Size([4])\n",
      "08/25/2023, 00:27:47# labels of Validation: tensor([95, 73, 79, 74], device='cuda:0') torch.Size([4])\n",
      "08/25/2023, 00:27:47# predicted of Validation: tensor([95, 73, 72, 74], device='cuda:0') torch.Size([4])\n",
      "08/25/2023, 00:27:53# labels of Validation: tensor([ 13, 157,  11,  79], device='cuda:0') torch.Size([4])\n",
      "08/25/2023, 00:27:53# predicted of Validation: tensor([13, 74, 74, 79], device='cuda:0') torch.Size([4])\n",
      "08/25/2023, 00:27:54# Validation Loss: 2.7785 | Validation Accuracy: 0.3799\n",
      "\n"
     ]
    },
    {
     "data": {
      "application/vnd.jupyter.widget-view+json": {
       "model_id": "37cd5f08f03a4f6686d0ade5732b63e7",
       "version_major": 2,
       "version_minor": 0
      },
      "text/plain": [
       "Training:   0%|          | 0/33000 [00:00<?, ?it/s]"
      ]
     },
     "metadata": {},
     "output_type": "display_data"
    },
    {
     "name": "stdout",
     "output_type": "stream",
     "text": [
      "08/25/2023, 00:29:35# labels of 5000: tensor([ 11, 114, 127, 127], device='cuda:0') torch.Size([4])\n",
      "08/25/2023, 00:29:35# predicted of 5000: tensor([ 37,  59, 127, 127], device='cuda:0') torch.Size([4])\n",
      "08/25/2023, 00:31:16# labels of 10000: tensor([75, 82, 34, 54], device='cuda:0') torch.Size([4])\n",
      "08/25/2023, 00:31:16# predicted of 10000: tensor([137,  82,  26, 137], device='cuda:0') torch.Size([4])\n",
      "08/25/2023, 00:32:56# labels of 15000: tensor([112, 134,  59,  39], device='cuda:0') torch.Size([4])\n",
      "08/25/2023, 00:32:56# predicted of 15000: tensor([153, 134,  91,  39], device='cuda:0') torch.Size([4])\n",
      "08/25/2023, 00:34:37# labels of 20000: tensor([ 20, 106, 118,  38], device='cuda:0') torch.Size([4])\n",
      "08/25/2023, 00:34:37# predicted of 20000: tensor([ 97, 106, 118,  57], device='cuda:0') torch.Size([4])\n",
      "08/25/2023, 00:36:17# labels of 25000: tensor([95, 67, 80, 50], device='cuda:0') torch.Size([4])\n",
      "08/25/2023, 00:36:17# predicted of 25000: tensor([95, 67, 80, 50], device='cuda:0') torch.Size([4])\n",
      "08/25/2023, 00:37:58# labels of 30000: tensor([ 58,  49, 154,  52], device='cuda:0') torch.Size([4])\n",
      "08/25/2023, 00:37:58# predicted of 30000: tensor([ 36,  60, 154,  52], device='cuda:0') torch.Size([4])\n",
      "08/25/2023, 00:38:59# total batches: 33000\n",
      "08/25/2023, 00:38:59# Epoch 11 | Train Loss: 2.7901 | Train Accuracy: 0.3784\n"
     ]
    },
    {
     "data": {
      "application/vnd.jupyter.widget-view+json": {
       "model_id": "881afb82aaf54bdeb147042e5222d1f2",
       "version_major": 2,
       "version_minor": 0
      },
      "text/plain": [
       "Validation:   0%|          | 0/4125 [00:00<?, ?it/s]"
      ]
     },
     "metadata": {},
     "output_type": "display_data"
    },
    {
     "name": "stdout",
     "output_type": "stream",
     "text": [
      "08/25/2023, 00:38:59# labels of Validation: tensor([148, 154,   6,  96], device='cuda:0') torch.Size([4])\n",
      "08/25/2023, 00:38:59# predicted of Validation: tensor([108, 154, 161,  96], device='cuda:0') torch.Size([4])\n",
      "08/25/2023, 00:38:59# labels of 0: tensor([148, 154,   6,  96], device='cuda:0') torch.Size([4])\n",
      "08/25/2023, 00:38:59# predicted of 0: tensor([108, 154, 161,  96], device='cuda:0') torch.Size([4])\n",
      "08/25/2023, 00:39:05# labels of Validation: tensor([106,  47,   0,  85], device='cuda:0') torch.Size([4])\n",
      "08/25/2023, 00:39:05# predicted of Validation: tensor([106, 109,   0,  85], device='cuda:0') torch.Size([4])\n",
      "08/25/2023, 00:39:11# labels of Validation: tensor([146, 146,  63, 130], device='cuda:0') torch.Size([4])\n",
      "08/25/2023, 00:39:11# predicted of Validation: tensor([146, 146, 109, 130], device='cuda:0') torch.Size([4])\n",
      "08/25/2023, 00:39:17# labels of Validation: tensor([123, 101,  49, 106], device='cuda:0') torch.Size([4])\n",
      "08/25/2023, 00:39:17# predicted of Validation: tensor([123,   6, 109, 106], device='cuda:0') torch.Size([4])\n",
      "08/25/2023, 00:39:23# labels of Validation: tensor([108,   8, 148,  68], device='cuda:0') torch.Size([4])\n",
      "08/25/2023, 00:39:23# predicted of Validation: tensor([161, 108, 108, 108], device='cuda:0') torch.Size([4])\n",
      "08/25/2023, 00:39:24# Validation Loss: 2.7738 | Validation Accuracy: 0.3794\n",
      "\n"
     ]
    },
    {
     "data": {
      "application/vnd.jupyter.widget-view+json": {
       "model_id": "287364cecfd74633a7e83a9470b6e5a3",
       "version_major": 2,
       "version_minor": 0
      },
      "text/plain": [
       "Training:   0%|          | 0/33000 [00:00<?, ?it/s]"
      ]
     },
     "metadata": {},
     "output_type": "display_data"
    },
    {
     "name": "stdout",
     "output_type": "stream",
     "text": [
      "08/25/2023, 00:41:05# labels of 5000: tensor([ 40,  62, 103,  85], device='cuda:0') torch.Size([4])\n",
      "08/25/2023, 00:41:05# predicted of 5000: tensor([ 40,  62, 161,  85], device='cuda:0') torch.Size([4])\n",
      "08/25/2023, 00:42:45# labels of 10000: tensor([ 56, 138,  42,  79], device='cuda:0') torch.Size([4])\n",
      "08/25/2023, 00:42:45# predicted of 10000: tensor([ 56, 138,  83,  15], device='cuda:0') torch.Size([4])\n",
      "08/25/2023, 00:44:25# labels of 15000: tensor([48, 24, 89, 75], device='cuda:0') torch.Size([4])\n",
      "08/25/2023, 00:44:25# predicted of 15000: tensor([ 71, 112,  89, 112], device='cuda:0') torch.Size([4])\n",
      "08/25/2023, 00:46:03# labels of 20000: tensor([151, 105, 166,  72], device='cuda:0') torch.Size([4])\n",
      "08/25/2023, 00:46:03# predicted of 20000: tensor([162, 105,   6,  72], device='cuda:0') torch.Size([4])\n",
      "08/25/2023, 00:47:44# labels of 25000: tensor([127,  39, 142,  56], device='cuda:0') torch.Size([4])\n",
      "08/25/2023, 00:47:44# predicted of 25000: tensor([127,  39,  87,  56], device='cuda:0') torch.Size([4])\n",
      "08/25/2023, 00:49:24# labels of 30000: tensor([106, 131, 164, 132], device='cuda:0') torch.Size([4])\n",
      "08/25/2023, 00:49:24# predicted of 30000: tensor([106, 132,  47, 132], device='cuda:0') torch.Size([4])\n",
      "08/25/2023, 00:50:24# total batches: 33000\n",
      "08/25/2023, 00:50:24# Epoch 12 | Train Loss: 2.7854 | Train Accuracy: 0.3795\n"
     ]
    },
    {
     "data": {
      "application/vnd.jupyter.widget-view+json": {
       "model_id": "c920710eeb8c4c8092c7695f54eefa46",
       "version_major": 2,
       "version_minor": 0
      },
      "text/plain": [
       "Validation:   0%|          | 0/4125 [00:00<?, ?it/s]"
      ]
     },
     "metadata": {},
     "output_type": "display_data"
    },
    {
     "name": "stdout",
     "output_type": "stream",
     "text": [
      "08/25/2023, 00:50:24# labels of Validation: tensor([ 46, 127,  34, 129], device='cuda:0') torch.Size([4])\n",
      "08/25/2023, 00:50:24# predicted of Validation: tensor([ 55, 127,  55, 108], device='cuda:0') torch.Size([4])\n",
      "08/25/2023, 00:50:24# labels of 0: tensor([ 46, 127,  34, 129], device='cuda:0') torch.Size([4])\n",
      "08/25/2023, 00:50:24# predicted of 0: tensor([ 55, 127,  55, 108], device='cuda:0') torch.Size([4])\n",
      "08/25/2023, 00:50:31# labels of Validation: tensor([134,  25, 144, 155], device='cuda:0') torch.Size([4])\n",
      "08/25/2023, 00:50:31# predicted of Validation: tensor([134,  25,  55, 132], device='cuda:0') torch.Size([4])\n",
      "08/25/2023, 00:50:37# labels of Validation: tensor([ 39,  49, 147, 117], device='cuda:0') torch.Size([4])\n",
      "08/25/2023, 00:50:37# predicted of Validation: tensor([ 39,  55, 147, 117], device='cuda:0') torch.Size([4])\n",
      "08/25/2023, 00:50:43# labels of Validation: tensor([113, 113, 125, 115], device='cuda:0') torch.Size([4])\n",
      "08/25/2023, 00:50:43# predicted of Validation: tensor([108, 108,  55, 115], device='cuda:0') torch.Size([4])\n",
      "08/25/2023, 00:50:49# labels of Validation: tensor([142,  80, 155,  36], device='cuda:0') torch.Size([4])\n",
      "08/25/2023, 00:50:49# predicted of Validation: tensor([ 55,  80, 132,  55], device='cuda:0') torch.Size([4])\n",
      "08/25/2023, 00:50:50# Validation Loss: 2.7702 | Validation Accuracy: 0.3802\n",
      "\n"
     ]
    },
    {
     "data": {
      "application/vnd.jupyter.widget-view+json": {
       "model_id": "36734a444f0e4e9a958deeb31bea53da",
       "version_major": 2,
       "version_minor": 0
      },
      "text/plain": [
       "Training:   0%|          | 0/33000 [00:00<?, ?it/s]"
      ]
     },
     "metadata": {},
     "output_type": "display_data"
    },
    {
     "name": "stdout",
     "output_type": "stream",
     "text": [
      "08/25/2023, 00:52:31# labels of 5000: tensor([ 28, 103, 123,  87], device='cuda:0') torch.Size([4])\n",
      "08/25/2023, 00:52:31# predicted of 5000: tensor([132, 132, 123,  93], device='cuda:0') torch.Size([4])\n",
      "08/25/2023, 00:54:12# labels of 10000: tensor([ 43,  66, 124,  13], device='cuda:0') torch.Size([4])\n",
      "08/25/2023, 00:54:12# predicted of 10000: tensor([ 36, 132,  26,  13], device='cuda:0') torch.Size([4])\n",
      "08/25/2023, 00:55:52# labels of 15000: tensor([16, 39, 34, 40], device='cuda:0') torch.Size([4])\n",
      "08/25/2023, 00:55:52# predicted of 15000: tensor([16, 39, 38, 40], device='cuda:0') torch.Size([4])\n",
      "08/25/2023, 00:57:34# labels of 20000: tensor([86, 30, 58, 36], device='cuda:0') torch.Size([4])\n",
      "08/25/2023, 00:57:34# predicted of 20000: tensor([ 33, 163, 163,  33], device='cuda:0') torch.Size([4])\n",
      "08/25/2023, 00:59:15# labels of 25000: tensor([67, 32, 79,  5], device='cuda:0') torch.Size([4])\n",
      "08/25/2023, 00:59:15# predicted of 25000: tensor([78, 32, 79,  5], device='cuda:0') torch.Size([4])\n",
      "08/25/2023, 01:00:56# labels of 30000: tensor([  4,  39, 145,  52], device='cuda:0') torch.Size([4])\n",
      "08/25/2023, 01:00:56# predicted of 30000: tensor([ 83,  39, 145,  52], device='cuda:0') torch.Size([4])\n",
      "08/25/2023, 01:01:56# total batches: 33000\n",
      "08/25/2023, 01:01:56# Epoch 13 | Train Loss: 2.7820 | Train Accuracy: 0.3795\n"
     ]
    },
    {
     "data": {
      "application/vnd.jupyter.widget-view+json": {
       "model_id": "5d89e7f13e2c43d3a5badffe77272b4d",
       "version_major": 2,
       "version_minor": 0
      },
      "text/plain": [
       "Validation:   0%|          | 0/4125 [00:00<?, ?it/s]"
      ]
     },
     "metadata": {},
     "output_type": "display_data"
    },
    {
     "name": "stdout",
     "output_type": "stream",
     "text": [
      "08/25/2023, 01:01:56# labels of Validation: tensor([ 72,  91, 124,   9], device='cuda:0') torch.Size([4])\n",
      "08/25/2023, 01:01:56# predicted of Validation: tensor([72, 28, 87, 87], device='cuda:0') torch.Size([4])\n",
      "08/25/2023, 01:01:56# labels of 0: tensor([ 72,  91, 124,   9], device='cuda:0') torch.Size([4])\n",
      "08/25/2023, 01:01:56# predicted of 0: tensor([72, 28, 87, 87], device='cuda:0') torch.Size([4])\n",
      "08/25/2023, 01:02:02# labels of Validation: tensor([123, 131, 153,  46], device='cuda:0') torch.Size([4])\n",
      "08/25/2023, 01:02:02# predicted of Validation: tensor([123, 161,  87,  87], device='cuda:0') torch.Size([4])\n",
      "08/25/2023, 01:02:09# labels of Validation: tensor([108, 133,  87, 116], device='cuda:0') torch.Size([4])\n",
      "08/25/2023, 01:02:09# predicted of Validation: tensor([161,  28,  87,  87], device='cuda:0') torch.Size([4])\n",
      "08/25/2023, 01:02:15# labels of Validation: tensor([140,  64,  92,  44], device='cuda:0') torch.Size([4])\n",
      "08/25/2023, 01:02:15# predicted of Validation: tensor([140,  28,  87,  87], device='cuda:0') torch.Size([4])\n",
      "08/25/2023, 01:02:21# labels of Validation: tensor([139,  92,  14,  38], device='cuda:0') torch.Size([4])\n",
      "08/25/2023, 01:02:21# predicted of Validation: tensor([87, 87, 87, 87], device='cuda:0') torch.Size([4])\n",
      "08/25/2023, 01:02:22# Validation Loss: 2.7664 | Validation Accuracy: 0.3799\n",
      "\n"
     ]
    },
    {
     "data": {
      "application/vnd.jupyter.widget-view+json": {
       "model_id": "d5d575d12cde47fda98b29e1cfa52177",
       "version_major": 2,
       "version_minor": 0
      },
      "text/plain": [
       "Training:   0%|          | 0/33000 [00:00<?, ?it/s]"
      ]
     },
     "metadata": {},
     "output_type": "display_data"
    },
    {
     "name": "stdout",
     "output_type": "stream",
     "text": [
      "08/25/2023, 01:04:02# labels of 5000: tensor([ 62,  33,  29, 153], device='cuda:0') torch.Size([4])\n",
      "08/25/2023, 01:04:02# predicted of 5000: tensor([62, 58, 29, 58], device='cuda:0') torch.Size([4])\n",
      "08/25/2023, 01:05:44# labels of 10000: tensor([  8,  95, 155, 133], device='cuda:0') torch.Size([4])\n",
      "08/25/2023, 01:05:44# predicted of 10000: tensor([ 51,  95, 132,  51], device='cuda:0') torch.Size([4])\n",
      "08/25/2023, 01:07:25# labels of 15000: tensor([119,  82, 158,  10], device='cuda:0') torch.Size([4])\n",
      "08/25/2023, 01:07:25# predicted of 15000: tensor([ 4, 82, 71,  4], device='cuda:0') torch.Size([4])\n",
      "08/25/2023, 01:09:07# labels of 20000: tensor([ 74, 106,  67, 108], device='cuda:0') torch.Size([4])\n",
      "08/25/2023, 01:09:07# predicted of 20000: tensor([114, 106,  78, 132], device='cuda:0') torch.Size([4])\n",
      "08/25/2023, 01:10:47# labels of 25000: tensor([102, 149,  79,  51], device='cuda:0') torch.Size([4])\n",
      "08/25/2023, 01:10:47# predicted of 25000: tensor([121, 149,  79, 131], device='cuda:0') torch.Size([4])\n",
      "08/25/2023, 01:12:19# labels of 30000: tensor([24, 61, 68, 59], device='cuda:0') torch.Size([4])\n",
      "08/25/2023, 01:12:19# predicted of 30000: tensor([158,  61, 133,  28], device='cuda:0') torch.Size([4])\n",
      "08/25/2023, 01:13:19# total batches: 33000\n",
      "08/25/2023, 01:13:19# Epoch 14 | Train Loss: 2.7791 | Train Accuracy: 0.3799\n"
     ]
    },
    {
     "data": {
      "application/vnd.jupyter.widget-view+json": {
       "model_id": "7dadae6fd3664118a56731ec0f342c1a",
       "version_major": 2,
       "version_minor": 0
      },
      "text/plain": [
       "Validation:   0%|          | 0/4125 [00:00<?, ?it/s]"
      ]
     },
     "metadata": {},
     "output_type": "display_data"
    },
    {
     "name": "stdout",
     "output_type": "stream",
     "text": [
      "08/25/2023, 01:13:19# labels of Validation: tensor([56, 70, 15, 31], device='cuda:0') torch.Size([4])\n",
      "08/25/2023, 01:13:19# predicted of Validation: tensor([56, 70, 15, 34], device='cuda:0') torch.Size([4])\n",
      "08/25/2023, 01:13:19# labels of 0: tensor([56, 70, 15, 31], device='cuda:0') torch.Size([4])\n",
      "08/25/2023, 01:13:19# predicted of 0: tensor([56, 70, 15, 34], device='cuda:0') torch.Size([4])\n",
      "08/25/2023, 01:13:25# labels of Validation: tensor([ 44,  69, 161,  31], device='cuda:0') torch.Size([4])\n",
      "08/25/2023, 01:13:25# predicted of Validation: tensor([ 34,  69, 132,  34], device='cuda:0') torch.Size([4])\n",
      "08/25/2023, 01:13:31# labels of Validation: tensor([148, 125,  38,  96], device='cuda:0') torch.Size([4])\n",
      "08/25/2023, 01:13:31# predicted of Validation: tensor([ 6, 34, 34, 96], device='cuda:0') torch.Size([4])\n",
      "08/25/2023, 01:13:38# labels of Validation: tensor([ 81, 119,  23,  24], device='cuda:0') torch.Size([4])\n",
      "08/25/2023, 01:13:38# predicted of Validation: tensor([34, 34, 23, 34], device='cuda:0') torch.Size([4])\n",
      "08/25/2023, 01:13:44# labels of Validation: tensor([ 89, 128, 114,  68], device='cuda:0') torch.Size([4])\n",
      "08/25/2023, 01:13:44# predicted of Validation: tensor([ 89, 128,   6,   6], device='cuda:0') torch.Size([4])\n",
      "08/25/2023, 01:13:44# Validation Loss: 2.7640 | Validation Accuracy: 0.3802\n",
      "\n"
     ]
    },
    {
     "data": {
      "application/vnd.jupyter.widget-view+json": {
       "model_id": "cf568880f0f84d08aed43e2fe1eb7bf7",
       "version_major": 2,
       "version_minor": 0
      },
      "text/plain": [
       "Training:   0%|          | 0/33000 [00:00<?, ?it/s]"
      ]
     },
     "metadata": {},
     "output_type": "display_data"
    },
    {
     "name": "stdout",
     "output_type": "stream",
     "text": [
      "08/25/2023, 01:15:25# labels of 5000: tensor([39, 15, 52, 26], device='cuda:0') torch.Size([4])\n",
      "08/25/2023, 01:15:25# predicted of 5000: tensor([39, 15, 52, 10], device='cuda:0') torch.Size([4])\n",
      "08/25/2023, 01:17:06# labels of 10000: tensor([ 98, 112,  32, 142], device='cuda:0') torch.Size([4])\n",
      "08/25/2023, 01:17:06# predicted of 10000: tensor([153, 151,  32, 153], device='cuda:0') torch.Size([4])\n",
      "08/25/2023, 01:18:46# labels of 15000: tensor([149,  54, 166, 156], device='cuda:0') torch.Size([4])\n",
      "08/25/2023, 01:18:46# predicted of 15000: tensor([149,  90, 137, 156], device='cuda:0') torch.Size([4])\n",
      "08/25/2023, 01:20:26# labels of 20000: tensor([ 91,  30,  84, 149], device='cuda:0') torch.Size([4])\n",
      "08/25/2023, 01:20:26# predicted of 20000: tensor([161, 107,  84, 149], device='cuda:0') torch.Size([4])\n",
      "08/25/2023, 01:22:07# labels of 25000: tensor([ 96,  15, 120,  50], device='cuda:0') torch.Size([4])\n",
      "08/25/2023, 01:22:07# predicted of 25000: tensor([ 96,  15, 120,  50], device='cuda:0') torch.Size([4])\n",
      "08/25/2023, 01:23:42# labels of 30000: tensor([ 50,  50,  91, 129], device='cuda:0') torch.Size([4])\n",
      "08/25/2023, 01:23:42# predicted of 30000: tensor([50, 50, 28, 28], device='cuda:0') torch.Size([4])\n",
      "08/25/2023, 01:24:43# total batches: 33000\n",
      "08/25/2023, 01:24:43# Epoch 15 | Train Loss: 2.7757 | Train Accuracy: 0.3801\n"
     ]
    },
    {
     "data": {
      "application/vnd.jupyter.widget-view+json": {
       "model_id": "a4a88bacf2aa40be94f542d08a1599cf",
       "version_major": 2,
       "version_minor": 0
      },
      "text/plain": [
       "Validation:   0%|          | 0/4125 [00:00<?, ?it/s]"
      ]
     },
     "metadata": {},
     "output_type": "display_data"
    },
    {
     "name": "stdout",
     "output_type": "stream",
     "text": [
      "08/25/2023, 01:24:43# labels of Validation: tensor([107,  78, 158, 160], device='cuda:0') torch.Size([4])\n",
      "08/25/2023, 01:24:43# predicted of Validation: tensor([166,  78,  74, 166], device='cuda:0') torch.Size([4])\n",
      "08/25/2023, 01:24:43# labels of 0: tensor([107,  78, 158, 160], device='cuda:0') torch.Size([4])\n",
      "08/25/2023, 01:24:43# predicted of 0: tensor([166,  78,  74, 166], device='cuda:0') torch.Size([4])\n",
      "08/25/2023, 01:24:49# labels of Validation: tensor([ 75, 154,  64, 127], device='cuda:0') torch.Size([4])\n",
      "08/25/2023, 01:24:49# predicted of Validation: tensor([ 74, 154, 166, 127], device='cuda:0') torch.Size([4])\n",
      "08/25/2023, 01:24:55# labels of Validation: tensor([ 59, 117,  53, 108], device='cuda:0') torch.Size([4])\n",
      "08/25/2023, 01:24:55# predicted of Validation: tensor([ 28, 117,  74,  28], device='cuda:0') torch.Size([4])\n",
      "08/25/2023, 01:25:01# labels of Validation: tensor([  6, 103, 108,  44], device='cuda:0') torch.Size([4])\n",
      "08/25/2023, 01:25:01# predicted of Validation: tensor([161, 166,  28,  74], device='cuda:0') torch.Size([4])\n",
      "08/25/2023, 01:25:07# labels of Validation: tensor([ 83, 153, 125,   5], device='cuda:0') torch.Size([4])\n",
      "08/25/2023, 01:25:07# predicted of Validation: tensor([74, 74, 74,  5], device='cuda:0') torch.Size([4])\n",
      "08/25/2023, 01:25:08# Validation Loss: 2.7613 | Validation Accuracy: 0.3803\n",
      "\n"
     ]
    },
    {
     "data": {
      "application/vnd.jupyter.widget-view+json": {
       "model_id": "13e9ade7ff874e8f91a49a58b3f13a04",
       "version_major": 2,
       "version_minor": 0
      },
      "text/plain": [
       "Training:   0%|          | 0/33000 [00:00<?, ?it/s]"
      ]
     },
     "metadata": {},
     "output_type": "display_data"
    },
    {
     "name": "stdout",
     "output_type": "stream",
     "text": [
      "08/25/2023, 01:26:49# labels of 5000: tensor([155,  93, 142,  11], device='cuda:0') torch.Size([4])\n",
      "08/25/2023, 01:26:49# predicted of 5000: tensor([132,  51,  71,  71], device='cuda:0') torch.Size([4])\n",
      "08/25/2023, 01:28:30# labels of 10000: tensor([ 38, 128, 149,  10], device='cuda:0') torch.Size([4])\n",
      "08/25/2023, 01:28:30# predicted of 10000: tensor([ 21, 128, 149,  66], device='cuda:0') torch.Size([4])\n",
      "08/25/2023, 01:30:10# labels of 15000: tensor([ 73, 123,  41, 116], device='cuda:0') torch.Size([4])\n",
      "08/25/2023, 01:30:10# predicted of 15000: tensor([ 73, 123, 143, 141], device='cuda:0') torch.Size([4])\n",
      "08/25/2023, 01:31:48# labels of 20000: tensor([ 15,  61,  21, 135], device='cuda:0') torch.Size([4])\n",
      "08/25/2023, 01:31:48# predicted of 20000: tensor([ 15,  61, 132,  46], device='cuda:0') torch.Size([4])\n",
      "08/25/2023, 01:33:16# labels of 25000: tensor([109, 126, 100,  71], device='cuda:0') torch.Size([4])\n",
      "08/25/2023, 01:33:16# predicted of 25000: tensor([ 58, 126, 155, 152], device='cuda:0') torch.Size([4])\n",
      "08/25/2023, 01:34:58# labels of 30000: tensor([137,  53,  35,  58], device='cuda:0') torch.Size([4])\n",
      "08/25/2023, 01:34:58# predicted of 30000: tensor([142,  19,  35, 119], device='cuda:0') torch.Size([4])\n",
      "08/25/2023, 01:35:59# total batches: 33000\n",
      "08/25/2023, 01:35:59# Epoch 16 | Train Loss: 2.7731 | Train Accuracy: 0.3809\n"
     ]
    },
    {
     "data": {
      "application/vnd.jupyter.widget-view+json": {
       "model_id": "945c7f53d9cc4c2eae9c96ffefe13f11",
       "version_major": 2,
       "version_minor": 0
      },
      "text/plain": [
       "Validation:   0%|          | 0/4125 [00:00<?, ?it/s]"
      ]
     },
     "metadata": {},
     "output_type": "display_data"
    },
    {
     "name": "stdout",
     "output_type": "stream",
     "text": [
      "08/25/2023, 01:35:59# labels of Validation: tensor([155,  94,  80, 155], device='cuda:0') torch.Size([4])\n",
      "08/25/2023, 01:35:59# predicted of Validation: tensor([161,  94,  80, 161], device='cuda:0') torch.Size([4])\n",
      "08/25/2023, 01:35:59# labels of 0: tensor([155,  94,  80, 155], device='cuda:0') torch.Size([4])\n",
      "08/25/2023, 01:35:59# predicted of 0: tensor([161,  94,  80, 161], device='cuda:0') torch.Size([4])\n",
      "08/25/2023, 01:36:05# labels of Validation: tensor([ 1, 31, 81, 56], device='cuda:0') torch.Size([4])\n",
      "08/25/2023, 01:36:05# predicted of Validation: tensor([24, 24, 24, 56], device='cuda:0') torch.Size([4])\n",
      "08/25/2023, 01:36:11# labels of Validation: tensor([124,  19, 163, 103], device='cuda:0') torch.Size([4])\n",
      "08/25/2023, 01:36:11# predicted of Validation: tensor([ 24,  24,  24, 161], device='cuda:0') torch.Size([4])\n",
      "08/25/2023, 01:36:17# labels of Validation: tensor([156, 166,  10, 141], device='cuda:0') torch.Size([4])\n",
      "08/25/2023, 01:36:17# predicted of Validation: tensor([156, 161,  24, 161], device='cuda:0') torch.Size([4])\n",
      "08/25/2023, 01:36:23# labels of Validation: tensor([ 11, 136, 121, 107], device='cuda:0') torch.Size([4])\n",
      "08/25/2023, 01:36:23# predicted of Validation: tensor([ 24, 136,  24, 161], device='cuda:0') torch.Size([4])\n",
      "08/25/2023, 01:36:24# Validation Loss: 2.7592 | Validation Accuracy: 0.3801\n",
      "\n"
     ]
    },
    {
     "data": {
      "application/vnd.jupyter.widget-view+json": {
       "model_id": "17bd270b1a89463eb3fe484826ba8765",
       "version_major": 2,
       "version_minor": 0
      },
      "text/plain": [
       "Training:   0%|          | 0/33000 [00:00<?, ?it/s]"
      ]
     },
     "metadata": {},
     "output_type": "display_data"
    },
    {
     "name": "stdout",
     "output_type": "stream",
     "text": [
      "08/25/2023, 01:38:04# labels of 5000: tensor([140,  18, 151,   4], device='cuda:0') torch.Size([4])\n",
      "08/25/2023, 01:38:04# predicted of 5000: tensor([140, 102, 112, 113], device='cuda:0') torch.Size([4])\n",
      "08/25/2023, 01:39:44# labels of 10000: tensor([159,   1, 126,  58], device='cuda:0') torch.Size([4])\n",
      "08/25/2023, 01:39:44# predicted of 10000: tensor([159, 144, 126, 121], device='cuda:0') torch.Size([4])\n",
      "08/25/2023, 01:41:25# labels of 15000: tensor([ 97,  41, 143,  24], device='cuda:0') torch.Size([4])\n",
      "08/25/2023, 01:41:25# predicted of 15000: tensor([60, 60, 60, 60], device='cuda:0') torch.Size([4])\n",
      "08/25/2023, 01:43:06# labels of 20000: tensor([ 67,  94,  27, 154], device='cuda:0') torch.Size([4])\n",
      "08/25/2023, 01:43:06# predicted of 20000: tensor([ 78,  94,  27, 154], device='cuda:0') torch.Size([4])\n",
      "08/25/2023, 01:44:47# labels of 25000: tensor([ 76, 132, 162,   4], device='cuda:0') torch.Size([4])\n",
      "08/25/2023, 01:44:47# predicted of 25000: tensor([ 34, 132, 158,  34], device='cuda:0') torch.Size([4])\n",
      "08/25/2023, 01:46:28# labels of 30000: tensor([ 20, 162, 120,  23], device='cuda:0') torch.Size([4])\n",
      "08/25/2023, 01:46:28# predicted of 30000: tensor([112,  11, 120,  23], device='cuda:0') torch.Size([4])\n",
      "08/25/2023, 01:47:29# total batches: 33000\n",
      "08/25/2023, 01:47:29# Epoch 17 | Train Loss: 2.7715 | Train Accuracy: 0.3805\n"
     ]
    },
    {
     "data": {
      "application/vnd.jupyter.widget-view+json": {
       "model_id": "7c046a1540644753b907e482b2238936",
       "version_major": 2,
       "version_minor": 0
      },
      "text/plain": [
       "Validation:   0%|          | 0/4125 [00:00<?, ?it/s]"
      ]
     },
     "metadata": {},
     "output_type": "display_data"
    },
    {
     "name": "stdout",
     "output_type": "stream",
     "text": [
      "08/25/2023, 01:47:29# labels of Validation: tensor([155,   3, 114, 161], device='cuda:0') torch.Size([4])\n",
      "08/25/2023, 01:47:29# predicted of Validation: tensor([132,   3, 132, 132], device='cuda:0') torch.Size([4])\n",
      "08/25/2023, 01:47:29# labels of 0: tensor([155,   3, 114, 161], device='cuda:0') torch.Size([4])\n",
      "08/25/2023, 01:47:29# predicted of 0: tensor([132,   3, 132, 132], device='cuda:0') torch.Size([4])\n",
      "08/25/2023, 01:47:35# labels of Validation: tensor([ 45,  20,  24, 122], device='cuda:0') torch.Size([4])\n",
      "08/25/2023, 01:47:35# predicted of Validation: tensor([ 45,   9,   9, 122], device='cuda:0') torch.Size([4])\n",
      "08/25/2023, 01:47:41# labels of Validation: tensor([ 85, 107, 117, 154], device='cuda:0') torch.Size([4])\n",
      "08/25/2023, 01:47:41# predicted of Validation: tensor([ 85, 132, 117, 154], device='cuda:0') torch.Size([4])\n",
      "08/25/2023, 01:47:47# labels of Validation: tensor([ 98,  88,  63, 140], device='cuda:0') torch.Size([4])\n",
      "08/25/2023, 01:47:47# predicted of Validation: tensor([  9, 132,   9, 140], device='cuda:0') torch.Size([4])\n",
      "08/25/2023, 01:47:54# labels of Validation: tensor([ 31,  44, 125,  47], device='cuda:0') torch.Size([4])\n",
      "08/25/2023, 01:47:54# predicted of Validation: tensor([9, 9, 9, 9], device='cuda:0') torch.Size([4])\n",
      "08/25/2023, 01:47:55# Validation Loss: 2.7573 | Validation Accuracy: 0.3801\n",
      "\n"
     ]
    },
    {
     "data": {
      "application/vnd.jupyter.widget-view+json": {
       "model_id": "b9fb44b1349b450ea7d147af616cfe4b",
       "version_major": 2,
       "version_minor": 0
      },
      "text/plain": [
       "Training:   0%|          | 0/33000 [00:00<?, ?it/s]"
      ]
     },
     "metadata": {},
     "output_type": "display_data"
    },
    {
     "name": "stdout",
     "output_type": "stream",
     "text": [
      "08/25/2023, 01:49:32# labels of 5000: tensor([105,  16,  51, 117], device='cuda:0') torch.Size([4])\n",
      "08/25/2023, 01:49:32# predicted of 5000: tensor([105,  16, 161, 117], device='cuda:0') torch.Size([4])\n",
      "08/25/2023, 01:50:59# labels of 10000: tensor([152,   0, 136,  64], device='cuda:0') torch.Size([4])\n",
      "08/25/2023, 01:50:59# predicted of 10000: tensor([ 59,   0, 136,  59], device='cuda:0') torch.Size([4])\n",
      "08/25/2023, 01:51:48# labels of 15000: tensor([106, 156, 105,  56], device='cuda:0') torch.Size([4])\n",
      "08/25/2023, 01:51:48# predicted of 15000: tensor([106, 156, 105,  56], device='cuda:0') torch.Size([4])\n",
      "08/25/2023, 01:52:38# labels of 20000: tensor([129,  56,  98, 166], device='cuda:0') torch.Size([4])\n",
      "08/25/2023, 01:52:38# predicted of 20000: tensor([ 51,  56,  58, 132], device='cuda:0') torch.Size([4])\n",
      "08/25/2023, 01:54:00# labels of 25000: tensor([66, 16, 60,  8], device='cuda:0') torch.Size([4])\n",
      "08/25/2023, 01:54:00# predicted of 25000: tensor([161,  16, 160, 161], device='cuda:0') torch.Size([4])\n",
      "08/25/2023, 01:55:41# labels of 30000: tensor([151, 164,  58, 165], device='cuda:0') torch.Size([4])\n",
      "08/25/2023, 01:55:41# predicted of 30000: tensor([ 74,  77,  48, 165], device='cuda:0') torch.Size([4])\n",
      "08/25/2023, 01:56:41# total batches: 33000\n",
      "08/25/2023, 01:56:41# Epoch 18 | Train Loss: 2.7693 | Train Accuracy: 0.3813\n"
     ]
    },
    {
     "data": {
      "application/vnd.jupyter.widget-view+json": {
       "model_id": "2fab743b3bd84e0abe5509cff57c373a",
       "version_major": 2,
       "version_minor": 0
      },
      "text/plain": [
       "Validation:   0%|          | 0/4125 [00:00<?, ?it/s]"
      ]
     },
     "metadata": {},
     "output_type": "display_data"
    },
    {
     "name": "stdout",
     "output_type": "stream",
     "text": [
      "08/25/2023, 01:56:41# labels of Validation: tensor([104,  99, 120,  25], device='cuda:0') torch.Size([4])\n",
      "08/25/2023, 01:56:41# predicted of Validation: tensor([142,  99, 120,  25], device='cuda:0') torch.Size([4])\n",
      "08/25/2023, 01:56:41# labels of 0: tensor([104,  99, 120,  25], device='cuda:0') torch.Size([4])\n",
      "08/25/2023, 01:56:41# predicted of 0: tensor([142,  99, 120,  25], device='cuda:0') torch.Size([4])\n",
      "08/25/2023, 01:56:47# labels of Validation: tensor([ 36,  89, 120, 154], device='cuda:0') torch.Size([4])\n",
      "08/25/2023, 01:56:47# predicted of Validation: tensor([142,  89, 120, 154], device='cuda:0') torch.Size([4])\n",
      "08/25/2023, 01:56:53# labels of Validation: tensor([109, 141, 105, 138], device='cuda:0') torch.Size([4])\n",
      "08/25/2023, 01:56:53# predicted of Validation: tensor([142,  77, 105, 138], device='cuda:0') torch.Size([4])\n",
      "08/25/2023, 01:56:59# labels of Validation: tensor([ 36, 155,  38,  56], device='cuda:0') torch.Size([4])\n",
      "08/25/2023, 01:56:59# predicted of Validation: tensor([142, 161, 142,  56], device='cuda:0') torch.Size([4])\n",
      "08/25/2023, 01:57:05# labels of Validation: tensor([130,  14, 122,  51], device='cuda:0') torch.Size([4])\n",
      "08/25/2023, 01:57:05# predicted of Validation: tensor([130, 142, 122, 161], device='cuda:0') torch.Size([4])\n",
      "08/25/2023, 01:57:06# Validation Loss: 2.7566 | Validation Accuracy: 0.3804\n",
      "\n"
     ]
    },
    {
     "data": {
      "application/vnd.jupyter.widget-view+json": {
       "model_id": "6219d39986f444fa97404a291dd16522",
       "version_major": 2,
       "version_minor": 0
      },
      "text/plain": [
       "Training:   0%|          | 0/33000 [00:00<?, ?it/s]"
      ]
     },
     "metadata": {},
     "output_type": "display_data"
    },
    {
     "name": "stdout",
     "output_type": "stream",
     "text": [
      "08/25/2023, 01:58:47# labels of 5000: tensor([158,  60, 110,  30], device='cuda:0') torch.Size([4])\n",
      "08/25/2023, 01:58:47# predicted of 5000: tensor([133,  58, 133, 133], device='cuda:0') torch.Size([4])\n",
      "08/25/2023, 02:00:28# labels of 10000: tensor([130, 105,  50,  89], device='cuda:0') torch.Size([4])\n",
      "08/25/2023, 02:00:28# predicted of 10000: tensor([130, 105,  50,  89], device='cuda:0') torch.Size([4])\n",
      "08/25/2023, 02:02:09# labels of 15000: tensor([46, 12, 32, 40], device='cuda:0') torch.Size([4])\n",
      "08/25/2023, 02:02:09# predicted of 15000: tensor([ 63, 102,  32,  40], device='cuda:0') torch.Size([4])\n",
      "08/25/2023, 02:03:50# labels of 20000: tensor([119,  50, 150,   6], device='cuda:0') torch.Size([4])\n",
      "08/25/2023, 02:03:50# predicted of 20000: tensor([102,  50, 102, 132], device='cuda:0') torch.Size([4])\n",
      "08/25/2023, 02:05:31# labels of 25000: tensor([27, 91, 48, 95], device='cuda:0') torch.Size([4])\n",
      "08/25/2023, 02:05:31# predicted of 25000: tensor([27, 42, 42, 95], device='cuda:0') torch.Size([4])\n",
      "08/25/2023, 02:07:11# labels of 30000: tensor([126,  90,  71,  68], device='cuda:0') torch.Size([4])\n",
      "08/25/2023, 02:07:11# predicted of 30000: tensor([126,  28,  58, 132], device='cuda:0') torch.Size([4])\n",
      "08/25/2023, 02:08:12# total batches: 33000\n",
      "08/25/2023, 02:08:12# Epoch 19 | Train Loss: 2.7682 | Train Accuracy: 0.3808\n"
     ]
    },
    {
     "data": {
      "application/vnd.jupyter.widget-view+json": {
       "model_id": "0aefa9f22092477dadd9a70c1e4b02e5",
       "version_major": 2,
       "version_minor": 0
      },
      "text/plain": [
       "Validation:   0%|          | 0/4125 [00:00<?, ?it/s]"
      ]
     },
     "metadata": {},
     "output_type": "display_data"
    },
    {
     "name": "stdout",
     "output_type": "stream",
     "text": [
      "08/25/2023, 02:08:12# labels of Validation: tensor([  0, 122,  35,  16], device='cuda:0') torch.Size([4])\n",
      "08/25/2023, 02:08:12# predicted of Validation: tensor([  0, 122,  35,  16], device='cuda:0') torch.Size([4])\n",
      "08/25/2023, 02:08:12# labels of 0: tensor([  0, 122,  35,  16], device='cuda:0') torch.Size([4])\n",
      "08/25/2023, 02:08:12# predicted of 0: tensor([  0, 122,  35,  16], device='cuda:0') torch.Size([4])\n",
      "08/25/2023, 02:08:18# labels of Validation: tensor([  2, 165,  11,   8], device='cuda:0') torch.Size([4])\n",
      "08/25/2023, 02:08:18# predicted of Validation: tensor([ 38, 165,  38, 161], device='cuda:0') torch.Size([4])\n",
      "08/25/2023, 02:08:24# labels of Validation: tensor([ 63,  61,  61, 159], device='cuda:0') torch.Size([4])\n",
      "08/25/2023, 02:08:24# predicted of Validation: tensor([ 38,  61,  61, 159], device='cuda:0') torch.Size([4])\n",
      "08/25/2023, 02:08:31# labels of Validation: tensor([ 85,  59,  20, 139], device='cuda:0') torch.Size([4])\n",
      "08/25/2023, 02:08:31# predicted of Validation: tensor([ 85, 161,  38,  38], device='cuda:0') torch.Size([4])\n",
      "08/25/2023, 02:08:37# labels of Validation: tensor([ 16,  61, 102, 138], device='cuda:0') torch.Size([4])\n",
      "08/25/2023, 02:08:37# predicted of Validation: tensor([ 16,  61,  38, 138], device='cuda:0') torch.Size([4])\n",
      "08/25/2023, 02:08:38# Validation Loss: 2.7543 | Validation Accuracy: 0.3804\n",
      "\n"
     ]
    },
    {
     "data": {
      "application/vnd.jupyter.widget-view+json": {
       "model_id": "c384f67aa9754900bf23e3a76efcdbbe",
       "version_major": 2,
       "version_minor": 0
      },
      "text/plain": [
       "Training:   0%|          | 0/33000 [00:00<?, ?it/s]"
      ]
     },
     "metadata": {},
     "output_type": "display_data"
    },
    {
     "name": "stdout",
     "output_type": "stream",
     "text": [
      "08/25/2023, 02:10:16# labels of 5000: tensor([ 15,  46, 162,  89], device='cuda:0') torch.Size([4])\n",
      "08/25/2023, 02:10:16# predicted of 5000: tensor([ 15, 153,  71,  89], device='cuda:0') torch.Size([4])\n",
      "08/25/2023, 02:11:57# labels of 10000: tensor([  0, 133,  40, 147], device='cuda:0') torch.Size([4])\n",
      "08/25/2023, 02:11:57# predicted of 10000: tensor([  0,  28,  40, 147], device='cuda:0') torch.Size([4])\n",
      "08/25/2023, 02:13:42# labels of 15000: tensor([ 88, 110,  81,  78], device='cuda:0') torch.Size([4])\n",
      "08/25/2023, 02:13:42# predicted of 15000: tensor([ 77,  77, 139,  67], device='cuda:0') torch.Size([4])\n",
      "08/25/2023, 02:15:23# labels of 20000: tensor([ 56, 144,  86, 152], device='cuda:0') torch.Size([4])\n",
      "08/25/2023, 02:15:23# predicted of 20000: tensor([ 56, 129,  34, 166], device='cuda:0') torch.Size([4])\n",
      "08/25/2023, 02:17:04# labels of 25000: tensor([93, 38, 53, 75], device='cuda:0') torch.Size([4])\n",
      "08/25/2023, 02:17:04# predicted of 25000: tensor([132,  18, 135,  90], device='cuda:0') torch.Size([4])\n",
      "08/25/2023, 02:18:45# labels of 30000: tensor([27, 17, 48, 95], device='cuda:0') torch.Size([4])\n",
      "08/25/2023, 02:18:45# predicted of 30000: tensor([27, 17, 88, 95], device='cuda:0') torch.Size([4])\n",
      "08/25/2023, 02:19:45# total batches: 33000\n",
      "08/25/2023, 02:19:45# Epoch 20 | Train Loss: 2.7671 | Train Accuracy: 0.3807\n"
     ]
    },
    {
     "data": {
      "application/vnd.jupyter.widget-view+json": {
       "model_id": "3a9202036fbd43769f50d761341d38bb",
       "version_major": 2,
       "version_minor": 0
      },
      "text/plain": [
       "Validation:   0%|          | 0/4125 [00:00<?, ?it/s]"
      ]
     },
     "metadata": {},
     "output_type": "display_data"
    },
    {
     "name": "stdout",
     "output_type": "stream",
     "text": [
      "08/25/2023, 02:19:45# labels of Validation: tensor([ 86,  25,   8, 113], device='cuda:0') torch.Size([4])\n",
      "08/25/2023, 02:19:45# predicted of Validation: tensor([104,  25,  51,  51], device='cuda:0') torch.Size([4])\n",
      "08/25/2023, 02:19:45# labels of 0: tensor([ 86,  25,   8, 113], device='cuda:0') torch.Size([4])\n",
      "08/25/2023, 02:19:45# predicted of 0: tensor([104,  25,  51,  51], device='cuda:0') torch.Size([4])\n",
      "08/25/2023, 02:19:52# labels of Validation: tensor([  8, 133,  15,  91], device='cuda:0') torch.Size([4])\n",
      "08/25/2023, 02:19:52# predicted of Validation: tensor([ 51,  51,  15, 132], device='cuda:0') torch.Size([4])\n",
      "08/25/2023, 02:19:58# labels of Validation: tensor([144,  20, 136, 162], device='cuda:0') torch.Size([4])\n",
      "08/25/2023, 02:19:58# predicted of Validation: tensor([104, 104, 136, 104], device='cuda:0') torch.Size([4])\n",
      "08/25/2023, 02:20:04# labels of Validation: tensor([ 64,  85, 160,  25], device='cuda:0') torch.Size([4])\n",
      "08/25/2023, 02:20:04# predicted of Validation: tensor([51, 85, 51, 25], device='cuda:0') torch.Size([4])\n",
      "08/25/2023, 02:20:10# labels of Validation: tensor([ 54,  12,   1, 132], device='cuda:0') torch.Size([4])\n",
      "08/25/2023, 02:20:10# predicted of Validation: tensor([104, 104, 104, 132], device='cuda:0') torch.Size([4])\n",
      "08/25/2023, 02:20:11# Validation Loss: 2.7530 | Validation Accuracy: 0.3801\n",
      "\n"
     ]
    },
    {
     "data": {
      "application/vnd.jupyter.widget-view+json": {
       "model_id": "6bb1963bcfa34459b0ddfc811bf34a63",
       "version_major": 2,
       "version_minor": 0
      },
      "text/plain": [
       "Training:   0%|          | 0/33000 [00:00<?, ?it/s]"
      ]
     },
     "metadata": {},
     "output_type": "display_data"
    },
    {
     "name": "stdout",
     "output_type": "stream",
     "text": [
      "08/25/2023, 02:21:51# labels of 5000: tensor([  9,  98,  31, 160], device='cuda:0') torch.Size([4])\n",
      "08/25/2023, 02:21:51# predicted of 5000: tensor([104, 114, 137, 132], device='cuda:0') torch.Size([4])\n",
      "08/25/2023, 02:23:32# labels of 10000: tensor([ 48, 165,  67,  36], device='cuda:0') torch.Size([4])\n",
      "08/25/2023, 02:23:32# predicted of 10000: tensor([ 20, 165,  78, 142], device='cuda:0') torch.Size([4])\n",
      "08/25/2023, 02:24:34# labels of 15000: tensor([116,  36,  83,  99], device='cuda:0') torch.Size([4])\n",
      "08/25/2023, 02:24:34# predicted of 15000: tensor([ 58,  20, 101,  99], device='cuda:0') torch.Size([4])\n",
      "08/25/2023, 02:26:13# labels of 20000: tensor([101,  27,  67, 149], device='cuda:0') torch.Size([4])\n",
      "08/25/2023, 02:26:13# predicted of 20000: tensor([  6,  27,  78, 149], device='cuda:0') torch.Size([4])\n",
      "08/25/2023, 02:27:54# labels of 25000: tensor([ 99,  90, 151,   8], device='cuda:0') torch.Size([4])\n",
      "08/25/2023, 02:27:54# predicted of 25000: tensor([ 99,  91, 121,  28], device='cuda:0') torch.Size([4])\n",
      "08/25/2023, 02:29:35# labels of 30000: tensor([82, 87, 39, 99], device='cuda:0') torch.Size([4])\n",
      "08/25/2023, 02:29:35# predicted of 30000: tensor([82, 58, 39, 99], device='cuda:0') torch.Size([4])\n",
      "08/25/2023, 02:30:35# total batches: 33000\n",
      "08/25/2023, 02:30:35# Epoch 21 | Train Loss: 2.7657 | Train Accuracy: 0.3817\n"
     ]
    },
    {
     "data": {
      "application/vnd.jupyter.widget-view+json": {
       "model_id": "6daf9ee9538c440a8563d3f77851e081",
       "version_major": 2,
       "version_minor": 0
      },
      "text/plain": [
       "Validation:   0%|          | 0/4125 [00:00<?, ?it/s]"
      ]
     },
     "metadata": {},
     "output_type": "display_data"
    },
    {
     "name": "stdout",
     "output_type": "stream",
     "text": [
      "08/25/2023, 02:30:35# labels of Validation: tensor([ 83, 149,   5, 135], device='cuda:0') torch.Size([4])\n",
      "08/25/2023, 02:30:35# predicted of Validation: tensor([ 97, 149,   5,  97], device='cuda:0') torch.Size([4])\n",
      "08/25/2023, 02:30:35# labels of 0: tensor([ 83, 149,   5, 135], device='cuda:0') torch.Size([4])\n",
      "08/25/2023, 02:30:35# predicted of 0: tensor([ 97, 149,   5,  97], device='cuda:0') torch.Size([4])\n",
      "08/25/2023, 02:30:42# labels of Validation: tensor([80, 98, 28, 18], device='cuda:0') torch.Size([4])\n",
      "08/25/2023, 02:30:42# predicted of Validation: tensor([ 80,  97, 132,  97], device='cuda:0') torch.Size([4])\n",
      "08/25/2023, 02:30:48# labels of Validation: tensor([ 7, 33, 91, 56], device='cuda:0') torch.Size([4])\n",
      "08/25/2023, 02:30:48# predicted of Validation: tensor([  7,  97, 161,  56], device='cuda:0') torch.Size([4])\n",
      "08/25/2023, 02:30:54# labels of Validation: tensor([ 19,   8, 137,  72], device='cuda:0') torch.Size([4])\n",
      "08/25/2023, 02:30:54# predicted of Validation: tensor([97,  6, 97, 72], device='cuda:0') torch.Size([4])\n",
      "08/25/2023, 02:31:00# labels of Validation: tensor([ 69,  17, 119, 113], device='cuda:0') torch.Size([4])\n",
      "08/25/2023, 02:31:00# predicted of Validation: tensor([69, 17, 97,  6], device='cuda:0') torch.Size([4])\n",
      "08/25/2023, 02:31:01# Validation Loss: 2.7518 | Validation Accuracy: 0.3804\n",
      "\n"
     ]
    },
    {
     "data": {
      "application/vnd.jupyter.widget-view+json": {
       "model_id": "64fb0f4676f642639caac7a86c553266",
       "version_major": 2,
       "version_minor": 0
      },
      "text/plain": [
       "Training:   0%|          | 0/33000 [00:00<?, ?it/s]"
      ]
     },
     "metadata": {},
     "output_type": "display_data"
    },
    {
     "name": "stdout",
     "output_type": "stream",
     "text": [
      "08/25/2023, 02:32:42# labels of 5000: tensor([118, 100,  29, 104], device='cuda:0') torch.Size([4])\n",
      "08/25/2023, 02:32:42# predicted of 5000: tensor([118,   6,  29,  33], device='cuda:0') torch.Size([4])\n",
      "08/25/2023, 02:34:22# labels of 10000: tensor([105, 102,   3,  61], device='cuda:0') torch.Size([4])\n",
      "08/25/2023, 02:34:22# predicted of 10000: tensor([105,  26,   3,  61], device='cuda:0') torch.Size([4])\n",
      "08/25/2023, 02:36:03# labels of 15000: tensor([ 39, 149,  46,  64], device='cuda:0') torch.Size([4])\n",
      "08/25/2023, 02:36:03# predicted of 15000: tensor([ 39, 149, 164, 161], device='cuda:0') torch.Size([4])\n",
      "08/25/2023, 02:37:44# labels of 20000: tensor([  5, 143,  92, 119], device='cuda:0') torch.Size([4])\n",
      "08/25/2023, 02:37:44# predicted of 20000: tensor([ 5, 98, 31, 87], device='cuda:0') torch.Size([4])\n",
      "08/25/2023, 02:39:25# labels of 25000: tensor([51,  1, 83, 86], device='cuda:0') torch.Size([4])\n",
      "08/25/2023, 02:39:25# predicted of 25000: tensor([161, 157, 114, 104], device='cuda:0') torch.Size([4])\n",
      "08/25/2023, 02:41:06# labels of 30000: tensor([ 35,  30,  61, 132], device='cuda:0') torch.Size([4])\n",
      "08/25/2023, 02:41:06# predicted of 30000: tensor([ 35, 116,  61, 132], device='cuda:0') torch.Size([4])\n",
      "08/25/2023, 02:42:07# total batches: 33000\n",
      "08/25/2023, 02:42:07# Epoch 22 | Train Loss: 2.7651 | Train Accuracy: 0.3813\n"
     ]
    },
    {
     "data": {
      "application/vnd.jupyter.widget-view+json": {
       "model_id": "fede58ae3d3e468b8853ef5396eafbc2",
       "version_major": 2,
       "version_minor": 0
      },
      "text/plain": [
       "Validation:   0%|          | 0/4125 [00:00<?, ?it/s]"
      ]
     },
     "metadata": {},
     "output_type": "display_data"
    },
    {
     "name": "stdout",
     "output_type": "stream",
     "text": [
      "08/25/2023, 02:42:07# labels of Validation: tensor([ 36, 119,  27,  47], device='cuda:0') torch.Size([4])\n",
      "08/25/2023, 02:42:07# predicted of Validation: tensor([36, 36, 27, 36], device='cuda:0') torch.Size([4])\n",
      "08/25/2023, 02:42:07# labels of 0: tensor([ 36, 119,  27,  47], device='cuda:0') torch.Size([4])\n",
      "08/25/2023, 02:42:07# predicted of 0: tensor([36, 36, 27, 36], device='cuda:0') torch.Size([4])\n",
      "08/25/2023, 02:42:13# labels of Validation: tensor([  7,  28, 124, 114], device='cuda:0') torch.Size([4])\n",
      "08/25/2023, 02:42:13# predicted of Validation: tensor([  7, 161,  36, 161], device='cuda:0') torch.Size([4])\n",
      "08/25/2023, 02:42:19# labels of Validation: tensor([ 38, 153,  68, 134], device='cuda:0') torch.Size([4])\n",
      "08/25/2023, 02:42:19# predicted of Validation: tensor([ 36,  36, 161, 134], device='cuda:0') torch.Size([4])\n",
      "08/25/2023, 02:42:25# labels of Validation: tensor([ 45, 107, 114, 141], device='cuda:0') torch.Size([4])\n",
      "08/25/2023, 02:42:25# predicted of Validation: tensor([ 45, 161, 161, 161], device='cuda:0') torch.Size([4])\n",
      "08/25/2023, 02:42:32# labels of Validation: tensor([50, 13, 63, 30], device='cuda:0') torch.Size([4])\n",
      "08/25/2023, 02:42:32# predicted of Validation: tensor([50, 13, 36, 36], device='cuda:0') torch.Size([4])\n",
      "08/25/2023, 02:42:32# Validation Loss: 2.7515 | Validation Accuracy: 0.3804\n",
      "\n"
     ]
    },
    {
     "data": {
      "application/vnd.jupyter.widget-view+json": {
       "model_id": "1f839399f83e4bde9d03b5de106b4b03",
       "version_major": 2,
       "version_minor": 0
      },
      "text/plain": [
       "Training:   0%|          | 0/33000 [00:00<?, ?it/s]"
      ]
     },
     "metadata": {},
     "output_type": "display_data"
    },
    {
     "name": "stdout",
     "output_type": "stream",
     "text": [
      "08/25/2023, 02:44:13# labels of 5000: tensor([147,   8,  20,  73], device='cuda:0') torch.Size([4])\n",
      "08/25/2023, 02:44:13# predicted of 5000: tensor([147, 108,  60,  73], device='cuda:0') torch.Size([4])\n",
      "08/25/2023, 02:45:55# labels of 10000: tensor([ 80,  46, 147,  71], device='cuda:0') torch.Size([4])\n",
      "08/25/2023, 02:45:55# predicted of 10000: tensor([ 80,  98, 147,  98], device='cuda:0') torch.Size([4])\n",
      "08/25/2023, 02:47:15# labels of 15000: tensor([117, 142, 107,  96], device='cuda:0') torch.Size([4])\n",
      "08/25/2023, 02:47:15# predicted of 15000: tensor([117, 141, 132,  96], device='cuda:0') torch.Size([4])\n",
      "08/25/2023, 02:48:56# labels of 20000: tensor([ 92, 141,  76,  82], device='cuda:0') torch.Size([4])\n",
      "08/25/2023, 02:48:56# predicted of 20000: tensor([ 64,  51, 135,  82], device='cuda:0') torch.Size([4])\n",
      "08/25/2023, 02:50:37# labels of 25000: tensor([133, 111,  25,  10], device='cuda:0') torch.Size([4])\n",
      "08/25/2023, 02:50:37# predicted of 25000: tensor([161,  14,  25, 109], device='cuda:0') torch.Size([4])\n",
      "08/25/2023, 02:52:17# labels of 30000: tensor([100, 100, 116, 101], device='cuda:0') torch.Size([4])\n",
      "08/25/2023, 02:52:17# predicted of 30000: tensor([102,  28,   9,   6], device='cuda:0') torch.Size([4])\n",
      "08/25/2023, 02:53:18# total batches: 33000\n",
      "08/25/2023, 02:53:18# Epoch 23 | Train Loss: 2.7639 | Train Accuracy: 0.3815\n"
     ]
    },
    {
     "data": {
      "application/vnd.jupyter.widget-view+json": {
       "model_id": "7389f0c75381441ca9f93633cfa5c3fe",
       "version_major": 2,
       "version_minor": 0
      },
      "text/plain": [
       "Validation:   0%|          | 0/4125 [00:00<?, ?it/s]"
      ]
     },
     "metadata": {},
     "output_type": "display_data"
    },
    {
     "name": "stdout",
     "output_type": "stream",
     "text": [
      "08/25/2023, 02:53:18# labels of Validation: tensor([30, 26, 89, 90], device='cuda:0') torch.Size([4])\n",
      "08/25/2023, 02:53:18# predicted of Validation: tensor([121, 121,  89,  66], device='cuda:0') torch.Size([4])\n",
      "08/25/2023, 02:53:18# labels of 0: tensor([30, 26, 89, 90], device='cuda:0') torch.Size([4])\n",
      "08/25/2023, 02:53:18# predicted of 0: tensor([121, 121,  89,  66], device='cuda:0') torch.Size([4])\n",
      "08/25/2023, 02:53:24# labels of Validation: tensor([ 21, 135,  77, 113], device='cuda:0') torch.Size([4])\n",
      "08/25/2023, 02:53:24# predicted of Validation: tensor([132, 121, 132,  66], device='cuda:0') torch.Size([4])\n",
      "08/25/2023, 02:53:30# labels of Validation: tensor([ 73, 152, 136, 104], device='cuda:0') torch.Size([4])\n",
      "08/25/2023, 02:53:30# predicted of Validation: tensor([ 73, 121, 136, 121], device='cuda:0') torch.Size([4])\n",
      "08/25/2023, 02:53:36# labels of Validation: tensor([129,  31,   6,  68], device='cuda:0') torch.Size([4])\n",
      "08/25/2023, 02:53:36# predicted of Validation: tensor([ 66, 121, 132,  66], device='cuda:0') torch.Size([4])\n",
      "08/25/2023, 02:53:43# labels of Validation: tensor([ 69,  62,  99, 148], device='cuda:0') torch.Size([4])\n",
      "08/25/2023, 02:53:43# predicted of Validation: tensor([69, 62, 99, 66], device='cuda:0') torch.Size([4])\n",
      "08/25/2023, 02:53:43# Validation Loss: 2.7504 | Validation Accuracy: 0.3804\n",
      "\n"
     ]
    },
    {
     "data": {
      "application/vnd.jupyter.widget-view+json": {
       "model_id": "d186c113a24f428b8e07bcb250f23dba",
       "version_major": 2,
       "version_minor": 0
      },
      "text/plain": [
       "Training:   0%|          | 0/33000 [00:00<?, ?it/s]"
      ]
     },
     "metadata": {},
     "output_type": "display_data"
    },
    {
     "name": "stdout",
     "output_type": "stream",
     "text": [
      "08/25/2023, 02:55:00# labels of 5000: tensor([ 12, 145, 116,  70], device='cuda:0') torch.Size([4])\n",
      "08/25/2023, 02:55:00# predicted of 5000: tensor([116, 145, 121,  70], device='cuda:0') torch.Size([4])\n",
      "08/25/2023, 02:56:40# labels of 10000: tensor([156, 121,  18,  63], device='cuda:0') torch.Size([4])\n",
      "08/25/2023, 02:56:40# predicted of 10000: tensor([156,  91,  26,  30], device='cuda:0') torch.Size([4])\n",
      "08/25/2023, 02:58:21# labels of 15000: tensor([114, 133, 109,  15], device='cuda:0') torch.Size([4])\n",
      "08/25/2023, 02:58:21# predicted of 15000: tensor([64, 59, 11, 15], device='cuda:0') torch.Size([4])\n",
      "08/25/2023, 03:00:01# labels of 20000: tensor([ 25, 150,  43,  31], device='cuda:0') torch.Size([4])\n",
      "08/25/2023, 03:00:01# predicted of 20000: tensor([25, 58, 34, 37], device='cuda:0') torch.Size([4])\n",
      "08/25/2023, 03:01:43# labels of 25000: tensor([ 97, 122, 145,   9], device='cuda:0') torch.Size([4])\n",
      "08/25/2023, 03:01:43# predicted of 25000: tensor([151, 122, 145, 119], device='cuda:0') torch.Size([4])\n",
      "08/25/2023, 03:03:24# labels of 30000: tensor([ 23, 117,  95,  76], device='cuda:0') torch.Size([4])\n",
      "08/25/2023, 03:03:24# predicted of 30000: tensor([ 23, 117,  95,  46], device='cuda:0') torch.Size([4])\n",
      "08/25/2023, 03:04:24# total batches: 33000\n",
      "08/25/2023, 03:04:24# Epoch 24 | Train Loss: 2.7626 | Train Accuracy: 0.3823\n"
     ]
    },
    {
     "data": {
      "application/vnd.jupyter.widget-view+json": {
       "model_id": "1c709603a1ad459fbb5a2b81e083c96e",
       "version_major": 2,
       "version_minor": 0
      },
      "text/plain": [
       "Validation:   0%|          | 0/4125 [00:00<?, ?it/s]"
      ]
     },
     "metadata": {},
     "output_type": "display_data"
    },
    {
     "name": "stdout",
     "output_type": "stream",
     "text": [
      "08/25/2023, 03:04:24# labels of Validation: tensor([129, 113, 101, 166], device='cuda:0') torch.Size([4])\n",
      "08/25/2023, 03:04:24# predicted of Validation: tensor([ 51,  51, 161, 161], device='cuda:0') torch.Size([4])\n",
      "08/25/2023, 03:04:24# labels of 0: tensor([129, 113, 101, 166], device='cuda:0') torch.Size([4])\n",
      "08/25/2023, 03:04:24# predicted of 0: tensor([ 51,  51, 161, 161], device='cuda:0') torch.Size([4])\n",
      "08/25/2023, 03:04:30# labels of Validation: tensor([  9, 131,  10, 123], device='cuda:0') torch.Size([4])\n",
      "08/25/2023, 03:04:30# predicted of Validation: tensor([143, 161, 143, 123], device='cuda:0') torch.Size([4])\n",
      "08/25/2023, 03:04:36# labels of Validation: tensor([48, 32, 91, 34], device='cuda:0') torch.Size([4])\n",
      "08/25/2023, 03:04:36# predicted of Validation: tensor([143,  32, 161, 143], device='cuda:0') torch.Size([4])\n",
      "08/25/2023, 03:04:42# labels of Validation: tensor([118,  49, 122,  47], device='cuda:0') torch.Size([4])\n",
      "08/25/2023, 03:04:42# predicted of Validation: tensor([118, 143, 122, 143], device='cuda:0') torch.Size([4])\n",
      "08/25/2023, 03:04:48# labels of Validation: tensor([ 14, 101,  67, 117], device='cuda:0') torch.Size([4])\n",
      "08/25/2023, 03:04:48# predicted of Validation: tensor([143, 161,  78, 117], device='cuda:0') torch.Size([4])\n",
      "08/25/2023, 03:04:49# Validation Loss: 2.7499 | Validation Accuracy: 0.3802\n",
      "\n"
     ]
    },
    {
     "data": {
      "application/vnd.jupyter.widget-view+json": {
       "model_id": "c361f2d6b9d14653bee857f6b903c0c7",
       "version_major": 2,
       "version_minor": 0
      },
      "text/plain": [
       "Training:   0%|          | 0/33000 [00:00<?, ?it/s]"
      ]
     },
     "metadata": {},
     "output_type": "display_data"
    },
    {
     "name": "stdout",
     "output_type": "stream",
     "text": [
      "08/25/2023, 03:06:30# labels of 5000: tensor([101, 125, 124,  11], device='cuda:0') torch.Size([4])\n",
      "08/25/2023, 03:06:30# predicted of 5000: tensor([132, 102,  63, 150], device='cuda:0') torch.Size([4])\n",
      "08/25/2023, 03:08:11# labels of 10000: tensor([69,  6, 79,  8], device='cuda:0') torch.Size([4])\n",
      "08/25/2023, 03:08:11# predicted of 10000: tensor([ 69, 161,  79, 108], device='cuda:0') torch.Size([4])\n",
      "08/25/2023, 03:09:55# labels of 15000: tensor([ 78, 141,  44, 149], device='cuda:0') torch.Size([4])\n",
      "08/25/2023, 03:09:55# predicted of 15000: tensor([ 78, 129, 129, 149], device='cuda:0') torch.Size([4])\n",
      "08/25/2023, 03:11:36# labels of 20000: tensor([102,  76, 146, 113], device='cuda:0') torch.Size([4])\n",
      "08/25/2023, 03:11:36# predicted of 20000: tensor([139, 112, 146,  66], device='cuda:0') torch.Size([4])\n",
      "08/25/2023, 03:12:46# labels of 25000: tensor([21, 49, 44, 32], device='cuda:0') torch.Size([4])\n",
      "08/25/2023, 03:12:46# predicted of 25000: tensor([161,  48,  68,  32], device='cuda:0') torch.Size([4])\n",
      "08/25/2023, 03:13:50# labels of 30000: tensor([111,  55,  91,  50], device='cuda:0') torch.Size([4])\n",
      "08/25/2023, 03:13:50# predicted of 30000: tensor([ 30, 151, 161,  50], device='cuda:0') torch.Size([4])\n",
      "08/25/2023, 03:14:51# total batches: 33000\n",
      "08/25/2023, 03:14:51# Epoch 25 | Train Loss: 2.7621 | Train Accuracy: 0.3818\n"
     ]
    },
    {
     "data": {
      "application/vnd.jupyter.widget-view+json": {
       "model_id": "b396725d81aa45c89432325535df8833",
       "version_major": 2,
       "version_minor": 0
      },
      "text/plain": [
       "Validation:   0%|          | 0/4125 [00:00<?, ?it/s]"
      ]
     },
     "metadata": {},
     "output_type": "display_data"
    },
    {
     "name": "stdout",
     "output_type": "stream",
     "text": [
      "08/25/2023, 03:14:51# labels of Validation: tensor([ 96, 101,  20,  28], device='cuda:0') torch.Size([4])\n",
      "08/25/2023, 03:14:51# predicted of Validation: tensor([ 96, 132, 142, 132], device='cuda:0') torch.Size([4])\n",
      "08/25/2023, 03:14:51# labels of 0: tensor([ 96, 101,  20,  28], device='cuda:0') torch.Size([4])\n",
      "08/25/2023, 03:14:51# predicted of 0: tensor([ 96, 132, 142, 132], device='cuda:0') torch.Size([4])\n",
      "08/25/2023, 03:14:57# labels of Validation: tensor([130,   4, 145, 156], device='cuda:0') torch.Size([4])\n",
      "08/25/2023, 03:14:57# predicted of Validation: tensor([130, 142, 145, 156], device='cuda:0') torch.Size([4])\n",
      "08/25/2023, 03:15:03# labels of Validation: tensor([ 55,  40, 149,  25], device='cuda:0') torch.Size([4])\n",
      "08/25/2023, 03:15:03# predicted of Validation: tensor([142,  40, 149,  25], device='cuda:0') torch.Size([4])\n",
      "08/25/2023, 03:15:09# labels of Validation: tensor([155,  56,  16,  41], device='cuda:0') torch.Size([4])\n",
      "08/25/2023, 03:15:09# predicted of Validation: tensor([132,  56,  16, 142], device='cuda:0') torch.Size([4])\n",
      "08/25/2023, 03:15:15# labels of Validation: tensor([ 84, 156,  69, 154], device='cuda:0') torch.Size([4])\n",
      "08/25/2023, 03:15:15# predicted of Validation: tensor([ 84, 156,  69, 154], device='cuda:0') torch.Size([4])\n",
      "08/25/2023, 03:15:16# Validation Loss: 2.7490 | Validation Accuracy: 0.3804\n",
      "\n"
     ]
    },
    {
     "data": {
      "application/vnd.jupyter.widget-view+json": {
       "model_id": "85d602578dd046f7a38cca5645dc97d6",
       "version_major": 2,
       "version_minor": 0
      },
      "text/plain": [
       "Training:   0%|          | 0/33000 [00:00<?, ?it/s]"
      ]
     },
     "metadata": {},
     "output_type": "display_data"
    },
    {
     "name": "stdout",
     "output_type": "stream",
     "text": [
      "08/25/2023, 03:16:57# labels of 5000: tensor([111,  53,  31,  38], device='cuda:0') torch.Size([4])\n",
      "08/25/2023, 03:16:57# predicted of 5000: tensor([ 68, 151,  30, 151], device='cuda:0') torch.Size([4])\n",
      "08/25/2023, 03:18:05# labels of 10000: tensor([98, 62, 27, 79], device='cuda:0') torch.Size([4])\n",
      "08/25/2023, 03:18:05# predicted of 10000: tensor([26, 62, 27, 79], device='cuda:0') torch.Size([4])\n",
      "08/25/2023, 03:19:46# labels of 15000: tensor([155, 100, 144,  86], device='cuda:0') torch.Size([4])\n",
      "08/25/2023, 03:19:46# predicted of 15000: tensor([132, 155,   4,  19], device='cuda:0') torch.Size([4])\n",
      "08/25/2023, 03:21:26# labels of 20000: tensor([153,   2,  64,  82], device='cuda:0') torch.Size([4])\n",
      "08/25/2023, 03:21:26# predicted of 20000: tensor([49, 49,  6, 82], device='cuda:0') torch.Size([4])\n",
      "08/25/2023, 03:23:07# labels of 25000: tensor([ 36, 114,   6,  32], device='cuda:0') torch.Size([4])\n",
      "08/25/2023, 03:23:07# predicted of 25000: tensor([ 88, 132, 161,  32], device='cuda:0') torch.Size([4])\n",
      "08/25/2023, 03:24:48# labels of 30000: tensor([21, 58, 52,  1], device='cuda:0') torch.Size([4])\n",
      "08/25/2023, 03:24:48# predicted of 30000: tensor([132, 135,  52, 158], device='cuda:0') torch.Size([4])\n",
      "08/25/2023, 03:25:49# total batches: 33000\n",
      "08/25/2023, 03:25:49# Epoch 26 | Train Loss: 2.7617 | Train Accuracy: 0.3822\n"
     ]
    },
    {
     "data": {
      "application/vnd.jupyter.widget-view+json": {
       "model_id": "9aa773d1a1a84f0da152a2e4e2e8c7e7",
       "version_major": 2,
       "version_minor": 0
      },
      "text/plain": [
       "Validation:   0%|          | 0/4125 [00:00<?, ?it/s]"
      ]
     },
     "metadata": {},
     "output_type": "display_data"
    },
    {
     "name": "stdout",
     "output_type": "stream",
     "text": [
      "08/25/2023, 03:25:49# labels of Validation: tensor([125, 133, 106, 160], device='cuda:0') torch.Size([4])\n",
      "08/25/2023, 03:25:49# predicted of Validation: tensor([  2,  28, 106,  28], device='cuda:0') torch.Size([4])\n",
      "08/25/2023, 03:25:49# labels of 0: tensor([125, 133, 106, 160], device='cuda:0') torch.Size([4])\n",
      "08/25/2023, 03:25:49# predicted of 0: tensor([  2,  28, 106,  28], device='cuda:0') torch.Size([4])\n",
      "08/25/2023, 03:25:56# labels of Validation: tensor([ 63, 156,  89,  99], device='cuda:0') torch.Size([4])\n",
      "08/25/2023, 03:25:56# predicted of Validation: tensor([  2, 156,  89,  99], device='cuda:0') torch.Size([4])\n",
      "08/25/2023, 03:26:02# labels of Validation: tensor([162,   5,   2, 118], device='cuda:0') torch.Size([4])\n",
      "08/25/2023, 03:26:02# predicted of Validation: tensor([  2,   5,   2, 118], device='cuda:0') torch.Size([4])\n",
      "08/25/2023, 03:26:08# labels of Validation: tensor([140,  50,  60,  30], device='cuda:0') torch.Size([4])\n",
      "08/25/2023, 03:26:08# predicted of Validation: tensor([140,  50,   2,   2], device='cuda:0') torch.Size([4])\n",
      "08/25/2023, 03:26:14# labels of Validation: tensor([136,  27, 164,  98], device='cuda:0') torch.Size([4])\n",
      "08/25/2023, 03:26:14# predicted of Validation: tensor([136,  27,   2,   2], device='cuda:0') torch.Size([4])\n",
      "08/25/2023, 03:26:15# Validation Loss: 2.7482 | Validation Accuracy: 0.3804\n",
      "\n"
     ]
    },
    {
     "data": {
      "application/vnd.jupyter.widget-view+json": {
       "model_id": "9b759e66e31443f6b5e5b2d92099e0d3",
       "version_major": 2,
       "version_minor": 0
      },
      "text/plain": [
       "Training:   0%|          | 0/33000 [00:00<?, ?it/s]"
      ]
     },
     "metadata": {},
     "output_type": "display_data"
    },
    {
     "name": "stdout",
     "output_type": "stream",
     "text": [
      "08/25/2023, 03:27:56# labels of 5000: tensor([105,   0,  18,  28], device='cuda:0') torch.Size([4])\n",
      "08/25/2023, 03:27:56# predicted of 5000: tensor([105,   0,  81, 132], device='cuda:0') torch.Size([4])\n",
      "08/25/2023, 03:29:37# labels of 10000: tensor([101,  85,  38,  52], device='cuda:0') torch.Size([4])\n",
      "08/25/2023, 03:29:37# predicted of 10000: tensor([161,  85,   4,  52], device='cuda:0') torch.Size([4])\n",
      "08/25/2023, 03:31:18# labels of 15000: tensor([  6,  34, 166, 103], device='cuda:0') torch.Size([4])\n",
      "08/25/2023, 03:31:18# predicted of 15000: tensor([132,  55, 132,  51], device='cuda:0') torch.Size([4])\n",
      "08/25/2023, 03:33:00# labels of 20000: tensor([166,  98,  37, 153], device='cuda:0') torch.Size([4])\n",
      "08/25/2023, 03:33:00# predicted of 20000: tensor([161,  53,  90, 148], device='cuda:0') torch.Size([4])\n",
      "08/25/2023, 03:34:41# labels of 25000: tensor([ 25,  10,  70, 126], device='cuda:0') torch.Size([4])\n",
      "08/25/2023, 03:34:41# predicted of 25000: tensor([ 25,  58,  70, 126], device='cuda:0') torch.Size([4])\n",
      "08/25/2023, 03:36:21# labels of 30000: tensor([114,  41, 110,  31], device='cuda:0') torch.Size([4])\n",
      "08/25/2023, 03:36:21# predicted of 30000: tensor([ 68, 151,  77, 100], device='cuda:0') torch.Size([4])\n",
      "08/25/2023, 03:37:22# total batches: 33000\n",
      "08/25/2023, 03:37:22# Epoch 27 | Train Loss: 2.7609 | Train Accuracy: 0.3823\n"
     ]
    },
    {
     "data": {
      "application/vnd.jupyter.widget-view+json": {
       "model_id": "ef00175463f24afb85609635dac82d95",
       "version_major": 2,
       "version_minor": 0
      },
      "text/plain": [
       "Validation:   0%|          | 0/4125 [00:00<?, ?it/s]"
      ]
     },
     "metadata": {},
     "output_type": "display_data"
    },
    {
     "name": "stdout",
     "output_type": "stream",
     "text": [
      "08/25/2023, 03:37:22# labels of Validation: tensor([17, 69, 70, 28], device='cuda:0') torch.Size([4])\n",
      "08/25/2023, 03:37:22# predicted of Validation: tensor([ 17,  69,  70, 132], device='cuda:0') torch.Size([4])\n",
      "08/25/2023, 03:37:22# labels of 0: tensor([17, 69, 70, 28], device='cuda:0') torch.Size([4])\n",
      "08/25/2023, 03:37:22# predicted of 0: tensor([ 17,  69,  70, 132], device='cuda:0') torch.Size([4])\n",
      "08/25/2023, 03:37:28# labels of Validation: tensor([122,  27,  54, 122], device='cuda:0') torch.Size([4])\n",
      "08/25/2023, 03:37:28# predicted of Validation: tensor([122,  27, 104, 122], device='cuda:0') torch.Size([4])\n",
      "08/25/2023, 03:37:34# labels of Validation: tensor([ 77,  69, 116, 109], device='cuda:0') torch.Size([4])\n",
      "08/25/2023, 03:37:34# predicted of Validation: tensor([132,  69, 104, 104], device='cuda:0') torch.Size([4])\n",
      "08/25/2023, 03:37:41# labels of Validation: tensor([ 81, 131,  76,  79], device='cuda:0') torch.Size([4])\n",
      "08/25/2023, 03:37:41# predicted of Validation: tensor([104, 132, 104,  73], device='cuda:0') torch.Size([4])\n",
      "08/25/2023, 03:37:48# labels of Validation: tensor([ 84,  74, 131, 135], device='cuda:0') torch.Size([4])\n",
      "08/25/2023, 03:37:48# predicted of Validation: tensor([ 84, 104, 132, 104], device='cuda:0') torch.Size([4])\n",
      "08/25/2023, 03:37:48# Validation Loss: 2.7477 | Validation Accuracy: 0.3807\n",
      "\n"
     ]
    },
    {
     "data": {
      "application/vnd.jupyter.widget-view+json": {
       "model_id": "98a7e650939a493e981c2e03b4b44775",
       "version_major": 2,
       "version_minor": 0
      },
      "text/plain": [
       "Training:   0%|          | 0/33000 [00:00<?, ?it/s]"
      ]
     },
     "metadata": {},
     "output_type": "display_data"
    },
    {
     "name": "stdout",
     "output_type": "stream",
     "text": [
      "08/25/2023, 03:39:29# labels of 5000: tensor([120,  54, 140,  98], device='cuda:0') torch.Size([4])\n",
      "08/25/2023, 03:39:29# predicted of 5000: tensor([120, 150, 140,  10], device='cuda:0') torch.Size([4])\n",
      "08/25/2023, 03:41:10# labels of 10000: tensor([144,  71,  19, 125], device='cuda:0') torch.Size([4])\n",
      "08/25/2023, 03:41:10# predicted of 10000: tensor([34, 41, 76, 68], device='cuda:0') torch.Size([4])\n",
      "08/25/2023, 03:42:51# labels of 15000: tensor([110, 100,  37,  88], device='cuda:0') torch.Size([4])\n",
      "08/25/2023, 03:42:51# predicted of 15000: tensor([  6, 132,  28,  77], device='cuda:0') torch.Size([4])\n",
      "08/25/2023, 03:44:32# labels of 20000: tensor([117,   1,  27,  43], device='cuda:0') torch.Size([4])\n",
      "08/25/2023, 03:44:32# predicted of 20000: tensor([117,  92,  27, 101], device='cuda:0') torch.Size([4])\n",
      "08/25/2023, 03:46:13# labels of 25000: tensor([ 78, 152,   3, 138], device='cuda:0') torch.Size([4])\n",
      "08/25/2023, 03:46:13# predicted of 25000: tensor([ 67,  98,   3, 138], device='cuda:0') torch.Size([4])\n",
      "08/25/2023, 03:47:54# labels of 30000: tensor([ 99, 124, 102,  49], device='cuda:0') torch.Size([4])\n",
      "08/25/2023, 03:47:54# predicted of 30000: tensor([ 99,  31, 163, 102], device='cuda:0') torch.Size([4])\n",
      "08/25/2023, 03:48:55# total batches: 33000\n",
      "08/25/2023, 03:48:55# Epoch 28 | Train Loss: 2.7604 | Train Accuracy: 0.3824\n"
     ]
    },
    {
     "data": {
      "application/vnd.jupyter.widget-view+json": {
       "model_id": "93b096d7d8044f29b293c5a6793d2164",
       "version_major": 2,
       "version_minor": 0
      },
      "text/plain": [
       "Validation:   0%|          | 0/4125 [00:00<?, ?it/s]"
      ]
     },
     "metadata": {},
     "output_type": "display_data"
    },
    {
     "name": "stdout",
     "output_type": "stream",
     "text": [
      "08/25/2023, 03:48:55# labels of Validation: tensor([135,  59, 114,  30], device='cuda:0') torch.Size([4])\n",
      "08/25/2023, 03:48:55# predicted of Validation: tensor([137, 132,   6, 137], device='cuda:0') torch.Size([4])\n",
      "08/25/2023, 03:48:55# labels of 0: tensor([135,  59, 114,  30], device='cuda:0') torch.Size([4])\n",
      "08/25/2023, 03:48:55# predicted of 0: tensor([137, 132,   6, 137], device='cuda:0') torch.Size([4])\n",
      "08/25/2023, 03:49:01# labels of Validation: tensor([54, 28, 40,  2], device='cuda:0') torch.Size([4])\n",
      "08/25/2023, 03:49:01# predicted of Validation: tensor([137, 132,  40, 137], device='cuda:0') torch.Size([4])\n",
      "08/25/2023, 03:49:07# labels of Validation: tensor([  8,  88,  13, 114], device='cuda:0') torch.Size([4])\n",
      "08/25/2023, 03:49:07# predicted of Validation: tensor([ 6,  6, 13,  6], device='cuda:0') torch.Size([4])\n",
      "08/25/2023, 03:49:13# labels of Validation: tensor([ 58,  25, 142,  46], device='cuda:0') torch.Size([4])\n",
      "08/25/2023, 03:49:13# predicted of Validation: tensor([137,  25, 137, 137], device='cuda:0') torch.Size([4])\n",
      "08/25/2023, 03:49:20# labels of Validation: tensor([118,  91,  56, 153], device='cuda:0') torch.Size([4])\n",
      "08/25/2023, 03:49:20# predicted of Validation: tensor([118, 132,  56, 137], device='cuda:0') torch.Size([4])\n",
      "08/25/2023, 03:49:20# Validation Loss: 2.7475 | Validation Accuracy: 0.3809\n",
      "\n"
     ]
    },
    {
     "data": {
      "application/vnd.jupyter.widget-view+json": {
       "model_id": "0fd1a78706194909840a9b57bef7b41a",
       "version_major": 2,
       "version_minor": 0
      },
      "text/plain": [
       "Training:   0%|          | 0/33000 [00:00<?, ?it/s]"
      ]
     },
     "metadata": {},
     "output_type": "display_data"
    },
    {
     "name": "stdout",
     "output_type": "stream",
     "text": [
      "08/25/2023, 03:51:01# labels of 5000: tensor([ 19, 117, 138, 135], device='cuda:0') torch.Size([4])\n",
      "08/25/2023, 03:51:01# predicted of 5000: tensor([ 92, 117, 138, 129], device='cuda:0') torch.Size([4])\n",
      "08/25/2023, 03:52:42# labels of 10000: tensor([154, 120,  60, 136], device='cuda:0') torch.Size([4])\n",
      "08/25/2023, 03:52:42# predicted of 10000: tensor([154, 120,  63, 136], device='cuda:0') torch.Size([4])\n",
      "08/25/2023, 03:54:23# labels of 15000: tensor([ 64,  94, 118, 159], device='cuda:0') torch.Size([4])\n",
      "08/25/2023, 03:54:23# predicted of 15000: tensor([132,  94, 118, 159], device='cuda:0') torch.Size([4])\n",
      "08/25/2023, 03:55:58# labels of 20000: tensor([ 27, 113, 154,   3], device='cuda:0') torch.Size([4])\n",
      "08/25/2023, 03:55:58# predicted of 20000: tensor([ 27, 161, 154,   3], device='cuda:0') torch.Size([4])\n",
      "08/25/2023, 03:57:40# labels of 25000: tensor([126,  13,  73,  50], device='cuda:0') torch.Size([4])\n",
      "08/25/2023, 03:57:40# predicted of 25000: tensor([126,  13,  73,  50], device='cuda:0') torch.Size([4])\n",
      "08/25/2023, 03:59:21# labels of 30000: tensor([ 21,  55, 109,  49], device='cuda:0') torch.Size([4])\n",
      "08/25/2023, 03:59:21# predicted of 30000: tensor([132, 137,  60, 153], device='cuda:0') torch.Size([4])\n",
      "08/25/2023, 04:00:22# total batches: 33000\n",
      "08/25/2023, 04:00:22# Epoch 29 | Train Loss: 2.7602 | Train Accuracy: 0.3832\n"
     ]
    },
    {
     "data": {
      "application/vnd.jupyter.widget-view+json": {
       "model_id": "393d008b5caf4d77b0a6b75beecab551",
       "version_major": 2,
       "version_minor": 0
      },
      "text/plain": [
       "Validation:   0%|          | 0/4125 [00:00<?, ?it/s]"
      ]
     },
     "metadata": {},
     "output_type": "display_data"
    },
    {
     "name": "stdout",
     "output_type": "stream",
     "text": [
      "08/25/2023, 04:00:22# labels of Validation: tensor([ 70,  16, 152, 102], device='cuda:0') torch.Size([4])\n",
      "08/25/2023, 04:00:22# predicted of Validation: tensor([ 70,  16, 125, 125], device='cuda:0') torch.Size([4])\n",
      "08/25/2023, 04:00:22# labels of 0: tensor([ 70,  16, 152, 102], device='cuda:0') torch.Size([4])\n",
      "08/25/2023, 04:00:22# predicted of 0: tensor([ 70,  16, 125, 125], device='cuda:0') torch.Size([4])\n",
      "08/25/2023, 04:00:28# labels of Validation: tensor([  9, 161,  15, 133], device='cuda:0') torch.Size([4])\n",
      "08/25/2023, 04:00:28# predicted of Validation: tensor([125, 132,  15,   6], device='cuda:0') torch.Size([4])\n",
      "08/25/2023, 04:00:34# labels of Validation: tensor([98, 29, 85, 88], device='cuda:0') torch.Size([4])\n",
      "08/25/2023, 04:00:34# predicted of Validation: tensor([125,  29,  85,   6], device='cuda:0') torch.Size([4])\n",
      "08/25/2023, 04:00:40# labels of Validation: tensor([ 54, 135, 124,  95], device='cuda:0') torch.Size([4])\n",
      "08/25/2023, 04:00:40# predicted of Validation: tensor([125, 125, 125,  95], device='cuda:0') torch.Size([4])\n",
      "08/25/2023, 04:00:46# labels of Validation: tensor([ 46,  76, 147,  15], device='cuda:0') torch.Size([4])\n",
      "08/25/2023, 04:00:46# predicted of Validation: tensor([125, 125, 147,  15], device='cuda:0') torch.Size([4])\n",
      "08/25/2023, 04:00:47# Validation Loss: 2.7473 | Validation Accuracy: 0.3806\n",
      "\n"
     ]
    },
    {
     "data": {
      "application/vnd.jupyter.widget-view+json": {
       "model_id": "13a512619cd343f9b9a6ab1fde15eed2",
       "version_major": 2,
       "version_minor": 0
      },
      "text/plain": [
       "Training:   0%|          | 0/33000 [00:00<?, ?it/s]"
      ]
     },
     "metadata": {},
     "output_type": "display_data"
    },
    {
     "name": "stdout",
     "output_type": "stream",
     "text": [
      "08/25/2023, 04:02:05# labels of 5000: tensor([ 53,  20, 165, 145], device='cuda:0') torch.Size([4])\n",
      "08/25/2023, 04:02:05# predicted of 5000: tensor([ 49, 157, 165, 145], device='cuda:0') torch.Size([4])\n",
      "08/25/2023, 04:03:46# labels of 10000: tensor([ 92, 116,  17,  75], device='cuda:0') torch.Size([4])\n",
      "08/25/2023, 04:03:46# predicted of 10000: tensor([137, 102,  17,  24], device='cuda:0') torch.Size([4])\n",
      "08/25/2023, 04:05:26# labels of 15000: tensor([ 41,  48,  12, 139], device='cuda:0') torch.Size([4])\n",
      "08/25/2023, 04:05:26# predicted of 15000: tensor([ 1,  4, 58, 24], device='cuda:0') torch.Size([4])\n",
      "08/25/2023, 04:07:07# labels of 20000: tensor([ 39, 118, 164,  24], device='cuda:0') torch.Size([4])\n",
      "08/25/2023, 04:07:07# predicted of 20000: tensor([ 39, 118,  58,  42], device='cuda:0') torch.Size([4])\n",
      "08/25/2023, 04:08:48# labels of 25000: tensor([32, 85,  1, 14], device='cuda:0') torch.Size([4])\n",
      "08/25/2023, 04:08:48# predicted of 25000: tensor([32, 85, 12, 58], device='cuda:0') torch.Size([4])\n",
      "08/25/2023, 04:10:21# labels of 30000: tensor([133, 160,  38, 135], device='cuda:0') torch.Size([4])\n",
      "08/25/2023, 04:10:21# predicted of 30000: tensor([161, 131, 139,  75], device='cuda:0') torch.Size([4])\n",
      "08/25/2023, 04:11:22# total batches: 33000\n",
      "08/25/2023, 04:11:22# Epoch 30 | Train Loss: 2.7596 | Train Accuracy: 0.3826\n"
     ]
    },
    {
     "data": {
      "application/vnd.jupyter.widget-view+json": {
       "model_id": "9de56d570eb64276adcbe412836b9e4a",
       "version_major": 2,
       "version_minor": 0
      },
      "text/plain": [
       "Validation:   0%|          | 0/4125 [00:00<?, ?it/s]"
      ]
     },
     "metadata": {},
     "output_type": "display_data"
    },
    {
     "name": "stdout",
     "output_type": "stream",
     "text": [
      "08/25/2023, 04:11:22# labels of Validation: tensor([ 87,  61, 115, 145], device='cuda:0') torch.Size([4])\n",
      "08/25/2023, 04:11:22# predicted of Validation: tensor([ 49,  61, 115, 145], device='cuda:0') torch.Size([4])\n",
      "08/25/2023, 04:11:22# labels of 0: tensor([ 87,  61, 115, 145], device='cuda:0') torch.Size([4])\n",
      "08/25/2023, 04:11:22# predicted of 0: tensor([ 49,  61, 115, 145], device='cuda:0') torch.Size([4])\n",
      "08/25/2023, 04:11:28# labels of Validation: tensor([32, 62, 41, 40], device='cuda:0') torch.Size([4])\n",
      "08/25/2023, 04:11:28# predicted of Validation: tensor([32, 62, 49, 40], device='cuda:0') torch.Size([4])\n",
      "08/25/2023, 04:11:34# labels of Validation: tensor([38, 27, 95, 10], device='cuda:0') torch.Size([4])\n",
      "08/25/2023, 04:11:34# predicted of Validation: tensor([49, 27, 95, 49], device='cuda:0') torch.Size([4])\n",
      "08/25/2023, 04:11:40# labels of Validation: tensor([146,  36, 102,  52], device='cuda:0') torch.Size([4])\n",
      "08/25/2023, 04:11:40# predicted of Validation: tensor([146,  49,  49,  52], device='cuda:0') torch.Size([4])\n",
      "08/25/2023, 04:11:46# labels of Validation: tensor([122,  90,  80,   3], device='cuda:0') torch.Size([4])\n",
      "08/25/2023, 04:11:46# predicted of Validation: tensor([122,   6,  80,   3], device='cuda:0') torch.Size([4])\n",
      "08/25/2023, 04:11:47# Validation Loss: 2.7472 | Validation Accuracy: 0.3808\n",
      "\n"
     ]
    },
    {
     "data": {
      "application/vnd.jupyter.widget-view+json": {
       "model_id": "0b10bd1fcd334644ac170fab5d96ba62",
       "version_major": 2,
       "version_minor": 0
      },
      "text/plain": [
       "Training:   0%|          | 0/33000 [00:00<?, ?it/s]"
      ]
     },
     "metadata": {},
     "output_type": "display_data"
    },
    {
     "name": "stdout",
     "output_type": "stream",
     "text": [
      "08/25/2023, 04:13:28# labels of 5000: tensor([ 12, 121,  33, 122], device='cuda:0') torch.Size([4])\n",
      "08/25/2023, 04:13:28# predicted of 5000: tensor([121,  81,  58, 122], device='cuda:0') torch.Size([4])\n",
      "08/25/2023, 04:15:06# labels of 10000: tensor([20, 76, 34,  0], device='cuda:0') torch.Size([4])\n",
      "08/25/2023, 04:15:06# predicted of 10000: tensor([ 10, 163,  88,   0], device='cuda:0') torch.Size([4])\n",
      "08/25/2023, 04:16:43# labels of 15000: tensor([140,   0,  81, 150], device='cuda:0') torch.Size([4])\n",
      "08/25/2023, 04:16:43# predicted of 15000: tensor([140,   0,   9, 111], device='cuda:0') torch.Size([4])\n",
      "08/25/2023, 04:18:24# labels of 20000: tensor([39, 78, 81, 69], device='cuda:0') torch.Size([4])\n",
      "08/25/2023, 04:18:24# predicted of 20000: tensor([ 39,  78, 158,  69], device='cuda:0') torch.Size([4])\n",
      "08/25/2023, 04:20:04# labels of 25000: tensor([111, 154, 116,   2], device='cuda:0') torch.Size([4])\n",
      "08/25/2023, 04:20:04# predicted of 25000: tensor([  2, 154, 104,  34], device='cuda:0') torch.Size([4])\n",
      "08/25/2023, 04:21:45# labels of 30000: tensor([156,   1, 111,  56], device='cuda:0') torch.Size([4])\n",
      "08/25/2023, 04:21:45# predicted of 30000: tensor([156, 141,  11,  56], device='cuda:0') torch.Size([4])\n",
      "08/25/2023, 04:22:46# total batches: 33000\n",
      "08/25/2023, 04:22:46# Epoch 31 | Train Loss: 2.7594 | Train Accuracy: 0.3833\n"
     ]
    },
    {
     "data": {
      "application/vnd.jupyter.widget-view+json": {
       "model_id": "90eeb53b73f74d7cb1959bae8ecfd8fa",
       "version_major": 2,
       "version_minor": 0
      },
      "text/plain": [
       "Validation:   0%|          | 0/4125 [00:00<?, ?it/s]"
      ]
     },
     "metadata": {},
     "output_type": "display_data"
    },
    {
     "name": "stdout",
     "output_type": "stream",
     "text": [
      "08/25/2023, 04:22:46# labels of Validation: tensor([ 36,  41, 154, 139], device='cuda:0') torch.Size([4])\n",
      "08/25/2023, 04:22:46# predicted of Validation: tensor([157, 157, 154, 157], device='cuda:0') torch.Size([4])\n",
      "08/25/2023, 04:22:46# labels of 0: tensor([ 36,  41, 154, 139], device='cuda:0') torch.Size([4])\n",
      "08/25/2023, 04:22:46# predicted of 0: tensor([157, 157, 154, 157], device='cuda:0') torch.Size([4])\n",
      "08/25/2023, 04:22:52# labels of Validation: tensor([136, 133,  83,  42], device='cuda:0') torch.Size([4])\n",
      "08/25/2023, 04:22:52# predicted of Validation: tensor([136,  28, 157, 157], device='cuda:0') torch.Size([4])\n",
      "08/25/2023, 04:22:58# labels of Validation: tensor([ 86,  15,  70, 161], device='cuda:0') torch.Size([4])\n",
      "08/25/2023, 04:22:58# predicted of Validation: tensor([157,  15,  70, 132], device='cuda:0') torch.Size([4])\n",
      "08/25/2023, 04:23:04# labels of Validation: tensor([ 74,  27, 115,  96], device='cuda:0') torch.Size([4])\n",
      "08/25/2023, 04:23:04# predicted of Validation: tensor([157,  27, 115,  96], device='cuda:0') torch.Size([4])\n",
      "08/25/2023, 04:23:10# labels of Validation: tensor([77, 94, 41,  8], device='cuda:0') torch.Size([4])\n",
      "08/25/2023, 04:23:10# predicted of Validation: tensor([132,  94, 157,  28], device='cuda:0') torch.Size([4])\n",
      "08/25/2023, 04:23:11# Validation Loss: 2.7471 | Validation Accuracy: 0.3806\n",
      "\n"
     ]
    },
    {
     "data": {
      "application/vnd.jupyter.widget-view+json": {
       "model_id": "ca75d67e970c4f6bbd925ee89095c892",
       "version_major": 2,
       "version_minor": 0
      },
      "text/plain": [
       "Training:   0%|          | 0/33000 [00:00<?, ?it/s]"
      ]
     },
     "metadata": {},
     "output_type": "display_data"
    },
    {
     "name": "stdout",
     "output_type": "stream",
     "text": [
      "08/25/2023, 04:24:52# labels of 5000: tensor([143,  38,  10,  64], device='cuda:0') torch.Size([4])\n",
      "08/25/2023, 04:24:52# predicted of 5000: tensor([100,  10, 150,  51], device='cuda:0') torch.Size([4])\n",
      "08/25/2023, 04:26:32# labels of 10000: tensor([ 75, 126,  61, 154], device='cuda:0') torch.Size([4])\n",
      "08/25/2023, 04:26:32# predicted of 10000: tensor([139, 126,  61, 154], device='cuda:0') torch.Size([4])\n",
      "08/25/2023, 04:28:13# labels of 15000: tensor([ 47,  71,  41, 147], device='cuda:0') torch.Size([4])\n",
      "08/25/2023, 04:28:13# predicted of 15000: tensor([ 44, 162, 102, 147], device='cuda:0') torch.Size([4])\n",
      "08/25/2023, 04:29:54# labels of 20000: tensor([120,  46, 108, 100], device='cuda:0') torch.Size([4])\n",
      "08/25/2023, 04:29:54# predicted of 20000: tensor([120,  76,  28,  28], device='cuda:0') torch.Size([4])\n",
      "08/25/2023, 04:31:35# labels of 25000: tensor([ 0, 28, 40, 97], device='cuda:0') torch.Size([4])\n",
      "08/25/2023, 04:31:35# predicted of 25000: tensor([  0, 161,  40, 110], device='cuda:0') torch.Size([4])\n",
      "08/25/2023, 04:33:16# labels of 30000: tensor([ 43, 154,  32,  24], device='cuda:0') torch.Size([4])\n",
      "08/25/2023, 04:33:16# predicted of 30000: tensor([ 58, 154,  32,  54], device='cuda:0') torch.Size([4])\n",
      "08/25/2023, 04:34:16# total batches: 33000\n",
      "08/25/2023, 04:34:16# Epoch 32 | Train Loss: 2.7593 | Train Accuracy: 0.3833\n"
     ]
    },
    {
     "data": {
      "application/vnd.jupyter.widget-view+json": {
       "model_id": "64272832cc1042bda5d52b59aeadff72",
       "version_major": 2,
       "version_minor": 0
      },
      "text/plain": [
       "Validation:   0%|          | 0/4125 [00:00<?, ?it/s]"
      ]
     },
     "metadata": {},
     "output_type": "display_data"
    },
    {
     "name": "stdout",
     "output_type": "stream",
     "text": [
      "08/25/2023, 04:34:16# labels of Validation: tensor([ 89,   7, 161, 126], device='cuda:0') torch.Size([4])\n",
      "08/25/2023, 04:34:16# predicted of Validation: tensor([ 89,   7, 132, 126], device='cuda:0') torch.Size([4])\n",
      "08/25/2023, 04:34:16# labels of 0: tensor([ 89,   7, 161, 126], device='cuda:0') torch.Size([4])\n",
      "08/25/2023, 04:34:16# predicted of 0: tensor([ 89,   7, 132, 126], device='cuda:0') torch.Size([4])\n",
      "08/25/2023, 04:34:23# labels of Validation: tensor([ 95,  86, 107, 106], device='cuda:0') torch.Size([4])\n",
      "08/25/2023, 04:34:23# predicted of Validation: tensor([ 95, 157,  28, 106], device='cuda:0') torch.Size([4])\n",
      "08/25/2023, 04:34:29# labels of Validation: tensor([163,  92, 109,  17], device='cuda:0') torch.Size([4])\n",
      "08/25/2023, 04:34:29# predicted of Validation: tensor([157, 157, 157,  17], device='cuda:0') torch.Size([4])\n",
      "08/25/2023, 04:34:35# labels of Validation: tensor([114,  40,  42, 112], device='cuda:0') torch.Size([4])\n",
      "08/25/2023, 04:34:35# predicted of Validation: tensor([ 28,  40, 157, 157], device='cuda:0') torch.Size([4])\n",
      "08/25/2023, 04:34:41# labels of Validation: tensor([119,  78,  81, 109], device='cuda:0') torch.Size([4])\n",
      "08/25/2023, 04:34:41# predicted of Validation: tensor([157,  67, 157, 157], device='cuda:0') torch.Size([4])\n",
      "08/25/2023, 04:34:42# Validation Loss: 2.7470 | Validation Accuracy: 0.3807\n",
      "\n"
     ]
    },
    {
     "data": {
      "application/vnd.jupyter.widget-view+json": {
       "model_id": "852e91457217463797a62edc361bd0d4",
       "version_major": 2,
       "version_minor": 0
      },
      "text/plain": [
       "Training:   0%|          | 0/33000 [00:00<?, ?it/s]"
      ]
     },
     "metadata": {},
     "output_type": "display_data"
    },
    {
     "name": "stdout",
     "output_type": "stream",
     "text": [
      "08/25/2023, 04:36:23# labels of 5000: tensor([148,  71, 112,  40], device='cuda:0') torch.Size([4])\n",
      "08/25/2023, 04:36:23# predicted of 5000: tensor([155,  77, 139,  40], device='cuda:0') torch.Size([4])\n",
      "08/25/2023, 04:38:04# labels of 10000: tensor([102, 110, 119,  50], device='cuda:0') torch.Size([4])\n",
      "08/25/2023, 04:38:04# predicted of 10000: tensor([110,  64,  64,  50], device='cuda:0') torch.Size([4])\n",
      "08/25/2023, 04:39:45# labels of 15000: tensor([129, 120, 145, 106], device='cuda:0') torch.Size([4])\n",
      "08/25/2023, 04:39:45# predicted of 15000: tensor([ 28, 120, 145, 106], device='cuda:0') torch.Size([4])\n",
      "08/25/2023, 04:41:26# labels of 20000: tensor([164,  29,  13,  25], device='cuda:0') torch.Size([4])\n",
      "08/25/2023, 04:41:26# predicted of 20000: tensor([49, 29, 13, 25], device='cuda:0') torch.Size([4])\n",
      "08/25/2023, 04:43:08# labels of 25000: tensor([159,  77, 109,  29], device='cuda:0') torch.Size([4])\n",
      "08/25/2023, 04:43:08# predicted of 25000: tensor([159, 161,  47,  29], device='cuda:0') torch.Size([4])\n",
      "08/25/2023, 04:44:48# labels of 30000: tensor([ 61,  84, 159, 103], device='cuda:0') torch.Size([4])\n",
      "08/25/2023, 04:44:48# predicted of 30000: tensor([ 61,  84, 159,  28], device='cuda:0') torch.Size([4])\n",
      "08/25/2023, 04:45:49# total batches: 33000\n",
      "08/25/2023, 04:45:49# Epoch 33 | Train Loss: 2.7595 | Train Accuracy: 0.3837\n"
     ]
    },
    {
     "data": {
      "application/vnd.jupyter.widget-view+json": {
       "model_id": "50c92108ff9848f488f746c50d529ee7",
       "version_major": 2,
       "version_minor": 0
      },
      "text/plain": [
       "Validation:   0%|          | 0/4125 [00:00<?, ?it/s]"
      ]
     },
     "metadata": {},
     "output_type": "display_data"
    },
    {
     "name": "stdout",
     "output_type": "stream",
     "text": [
      "08/25/2023, 04:45:49# labels of Validation: tensor([41,  6, 88, 62], device='cuda:0') torch.Size([4])\n",
      "08/25/2023, 04:45:49# predicted of Validation: tensor([ 41, 132,  28,  62], device='cuda:0') torch.Size([4])\n",
      "08/25/2023, 04:45:49# labels of 0: tensor([41,  6, 88, 62], device='cuda:0') torch.Size([4])\n",
      "08/25/2023, 04:45:49# predicted of 0: tensor([ 41, 132,  28,  62], device='cuda:0') torch.Size([4])\n",
      "08/25/2023, 04:45:56# labels of Validation: tensor([ 45, 116, 134,  25], device='cuda:0') torch.Size([4])\n",
      "08/25/2023, 04:45:56# predicted of Validation: tensor([ 45,  41, 134,  25], device='cuda:0') torch.Size([4])\n",
      "08/25/2023, 04:46:02# labels of Validation: tensor([ 81, 162,  16,  17], device='cuda:0') torch.Size([4])\n",
      "08/25/2023, 04:46:02# predicted of Validation: tensor([41, 41, 16, 17], device='cuda:0') torch.Size([4])\n",
      "08/25/2023, 04:46:08# labels of Validation: tensor([ 77, 110,  72,  39], device='cuda:0') torch.Size([4])\n",
      "08/25/2023, 04:46:08# predicted of Validation: tensor([132,  28,  72,  39], device='cuda:0') torch.Size([4])\n",
      "08/25/2023, 04:46:15# labels of Validation: tensor([143,  75, 138, 108], device='cuda:0') torch.Size([4])\n",
      "08/25/2023, 04:46:15# predicted of Validation: tensor([ 41,  41, 138, 132], device='cuda:0') torch.Size([4])\n",
      "08/25/2023, 04:46:16# Validation Loss: 2.7473 | Validation Accuracy: 0.3807\n",
      "\n"
     ]
    },
    {
     "data": {
      "application/vnd.jupyter.widget-view+json": {
       "model_id": "315a6935b39445aa8321df8ad3c42e46",
       "version_major": 2,
       "version_minor": 0
      },
      "text/plain": [
       "Training:   0%|          | 0/33000 [00:00<?, ?it/s]"
      ]
     },
     "metadata": {},
     "output_type": "display_data"
    },
    {
     "name": "stdout",
     "output_type": "stream",
     "text": [
      "08/25/2023, 04:47:57# labels of 5000: tensor([ 77, 107, 160,  26], device='cuda:0') torch.Size([4])\n",
      "08/25/2023, 04:47:57# predicted of 5000: tensor([161, 132, 148, 137], device='cuda:0') torch.Size([4])\n",
      "08/25/2023, 04:49:37# labels of 10000: tensor([ 54, 134,  57, 162], device='cuda:0') torch.Size([4])\n",
      "08/25/2023, 04:49:37# predicted of 10000: tensor([ 18, 134, 141,  97], device='cuda:0') torch.Size([4])\n",
      "08/25/2023, 04:51:18# labels of 15000: tensor([ 62, 122, 138, 128], device='cuda:0') torch.Size([4])\n",
      "08/25/2023, 04:51:18# predicted of 15000: tensor([ 62, 122, 138, 128], device='cuda:0') torch.Size([4])\n",
      "08/25/2023, 04:52:59# labels of 20000: tensor([  0, 145,  73,  14], device='cuda:0') torch.Size([4])\n",
      "08/25/2023, 04:52:59# predicted of 20000: tensor([  0, 145,  73,  46], device='cuda:0') torch.Size([4])\n",
      "08/25/2023, 04:54:40# labels of 25000: tensor([21, 46, 40, 99], device='cuda:0') torch.Size([4])\n",
      "08/25/2023, 04:54:40# predicted of 25000: tensor([155, 163,  40,  99], device='cuda:0') torch.Size([4])\n",
      "08/25/2023, 04:56:21# labels of 30000: tensor([ 42,  55, 157,  82], device='cuda:0') torch.Size([4])\n",
      "08/25/2023, 04:56:21# predicted of 30000: tensor([111, 139,  60,  82], device='cuda:0') torch.Size([4])\n",
      "08/25/2023, 04:57:22# total batches: 33000\n",
      "08/25/2023, 04:57:22# Epoch 34 | Train Loss: 2.7590 | Train Accuracy: 0.3839\n"
     ]
    },
    {
     "data": {
      "application/vnd.jupyter.widget-view+json": {
       "model_id": "3e2b02a73a5346a0be5f7567304f856f",
       "version_major": 2,
       "version_minor": 0
      },
      "text/plain": [
       "Validation:   0%|          | 0/4125 [00:00<?, ?it/s]"
      ]
     },
     "metadata": {},
     "output_type": "display_data"
    },
    {
     "name": "stdout",
     "output_type": "stream",
     "text": [
      "08/25/2023, 04:57:22# labels of Validation: tensor([ 68, 120,  77, 152], device='cuda:0') torch.Size([4])\n",
      "08/25/2023, 04:57:22# predicted of Validation: tensor([ 28, 120, 132,  41], device='cuda:0') torch.Size([4])\n",
      "08/25/2023, 04:57:22# labels of 0: tensor([ 68, 120,  77, 152], device='cuda:0') torch.Size([4])\n",
      "08/25/2023, 04:57:22# predicted of 0: tensor([ 28, 120, 132,  41], device='cuda:0') torch.Size([4])\n",
      "08/25/2023, 04:57:28# labels of Validation: tensor([  1,   3, 123, 102], device='cuda:0') torch.Size([4])\n",
      "08/25/2023, 04:57:28# predicted of Validation: tensor([ 41,   3, 123,  41], device='cuda:0') torch.Size([4])\n",
      "08/25/2023, 04:57:35# labels of Validation: tensor([ 95,  61, 106,  77], device='cuda:0') torch.Size([4])\n",
      "08/25/2023, 04:57:35# predicted of Validation: tensor([ 95,  61, 106, 132], device='cuda:0') torch.Size([4])\n",
      "08/25/2023, 04:57:41# labels of Validation: tensor([116, 143, 151,  66], device='cuda:0') torch.Size([4])\n",
      "08/25/2023, 04:57:41# predicted of Validation: tensor([ 41,  41,  41, 132], device='cuda:0') torch.Size([4])\n",
      "08/25/2023, 04:57:47# labels of Validation: tensor([ 26, 137, 133, 107], device='cuda:0') torch.Size([4])\n",
      "08/25/2023, 04:57:47# predicted of Validation: tensor([41, 41, 28, 28], device='cuda:0') torch.Size([4])\n",
      "08/25/2023, 04:57:48# Validation Loss: 2.7471 | Validation Accuracy: 0.3806\n",
      "\n"
     ]
    },
    {
     "data": {
      "application/vnd.jupyter.widget-view+json": {
       "model_id": "0a0ecc342dde4df9b3f362251220d509",
       "version_major": 2,
       "version_minor": 0
      },
      "text/plain": [
       "Training:   0%|          | 0/33000 [00:00<?, ?it/s]"
      ]
     },
     "metadata": {},
     "output_type": "display_data"
    },
    {
     "name": "stdout",
     "output_type": "stream",
     "text": [
      "08/25/2023, 04:59:29# labels of 5000: tensor([ 98,  49,  15, 149], device='cuda:0') torch.Size([4])\n",
      "08/25/2023, 04:59:29# predicted of 5000: tensor([ 10, 109,  15, 149], device='cuda:0') torch.Size([4])\n",
      "08/25/2023, 05:01:09# labels of 10000: tensor([ 63,  23,  52, 152], device='cuda:0') torch.Size([4])\n",
      "08/25/2023, 05:01:09# predicted of 10000: tensor([53, 23, 52, 58], device='cuda:0') torch.Size([4])\n",
      "08/25/2023, 05:02:48# labels of 15000: tensor([ 29,  56, 129,  75], device='cuda:0') torch.Size([4])\n",
      "08/25/2023, 05:02:48# predicted of 15000: tensor([29, 56, 28, 57], device='cuda:0') torch.Size([4])\n",
      "08/25/2023, 05:04:30# labels of 20000: tensor([135,  41, 132,  33], device='cuda:0') torch.Size([4])\n",
      "08/25/2023, 05:04:30# predicted of 20000: tensor([119,  20, 132,  63], device='cuda:0') torch.Size([4])\n",
      "08/25/2023, 05:06:12# labels of 25000: tensor([ 33, 108,   1, 146], device='cuda:0') torch.Size([4])\n",
      "08/25/2023, 05:06:12# predicted of 25000: tensor([ 68, 132, 162, 146], device='cuda:0') torch.Size([4])\n",
      "08/25/2023, 05:07:54# labels of 30000: tensor([116,  81,  70,  48], device='cuda:0') torch.Size([4])\n",
      "08/25/2023, 05:07:54# predicted of 30000: tensor([157, 124,  70,   2], device='cuda:0') torch.Size([4])\n",
      "08/25/2023, 05:08:55# total batches: 33000\n",
      "08/25/2023, 05:08:55# Epoch 35 | Train Loss: 2.7589 | Train Accuracy: 0.3839\n"
     ]
    },
    {
     "data": {
      "application/vnd.jupyter.widget-view+json": {
       "model_id": "c98d78b5722945cd94fe6651db07ad58",
       "version_major": 2,
       "version_minor": 0
      },
      "text/plain": [
       "Validation:   0%|          | 0/4125 [00:00<?, ?it/s]"
      ]
     },
     "metadata": {},
     "output_type": "display_data"
    },
    {
     "name": "stdout",
     "output_type": "stream",
     "text": [
      "08/25/2023, 05:08:55# labels of Validation: tensor([106, 118, 118, 137], device='cuda:0') torch.Size([4])\n",
      "08/25/2023, 05:08:55# predicted of Validation: tensor([106, 118, 118,  41], device='cuda:0') torch.Size([4])\n",
      "08/25/2023, 05:08:55# labels of 0: tensor([106, 118, 118, 137], device='cuda:0') torch.Size([4])\n",
      "08/25/2023, 05:08:55# predicted of 0: tensor([106, 118, 118,  41], device='cuda:0') torch.Size([4])\n",
      "08/25/2023, 05:09:01# labels of Validation: tensor([151,  93,   1, 100], device='cuda:0') torch.Size([4])\n",
      "08/25/2023, 05:09:01# predicted of Validation: tensor([41, 28, 41, 28], device='cuda:0') torch.Size([4])\n",
      "08/25/2023, 05:09:07# labels of Validation: tensor([  1, 122,  38, 134], device='cuda:0') torch.Size([4])\n",
      "08/25/2023, 05:09:07# predicted of Validation: tensor([ 41, 122,  41, 134], device='cuda:0') torch.Size([4])\n",
      "08/25/2023, 05:09:13# labels of Validation: tensor([129,   5,   7,  78], device='cuda:0') torch.Size([4])\n",
      "08/25/2023, 05:09:13# predicted of Validation: tensor([28,  5,  7, 67], device='cuda:0') torch.Size([4])\n",
      "08/25/2023, 05:09:20# labels of Validation: tensor([146, 166,  21,  85], device='cuda:0') torch.Size([4])\n",
      "08/25/2023, 05:09:20# predicted of Validation: tensor([146, 132, 132,  85], device='cuda:0') torch.Size([4])\n",
      "08/25/2023, 05:09:20# Validation Loss: 2.7471 | Validation Accuracy: 0.3807\n",
      "\n"
     ]
    },
    {
     "data": {
      "application/vnd.jupyter.widget-view+json": {
       "model_id": "2b8ac375bcf7419cb8753f03ec3d2632",
       "version_major": 2,
       "version_minor": 0
      },
      "text/plain": [
       "Training:   0%|          | 0/33000 [00:00<?, ?it/s]"
      ]
     },
     "metadata": {},
     "output_type": "display_data"
    },
    {
     "name": "stdout",
     "output_type": "stream",
     "text": [
      "08/25/2023, 05:11:01# labels of 5000: tensor([ 39,   9,  62, 155], device='cuda:0') torch.Size([4])\n",
      "08/25/2023, 05:11:01# predicted of 5000: tensor([ 39, 157,  62, 132], device='cuda:0') torch.Size([4])\n",
      "08/25/2023, 05:12:41# labels of 10000: tensor([101,  23,  34,  34], device='cuda:0') torch.Size([4])\n",
      "08/25/2023, 05:12:41# predicted of 10000: tensor([161,  23,  10, 116], device='cuda:0') torch.Size([4])\n",
      "08/25/2023, 05:14:23# labels of 15000: tensor([ 86,  57, 151,   1], device='cuda:0') torch.Size([4])\n",
      "08/25/2023, 05:14:23# predicted of 15000: tensor([104, 133, 116,  20], device='cuda:0') torch.Size([4])\n",
      "08/25/2023, 05:16:04# labels of 20000: tensor([ 37,  85,  38, 164], device='cuda:0') torch.Size([4])\n",
      "08/25/2023, 05:16:04# predicted of 20000: tensor([ 6, 85, 58, 48], device='cuda:0') torch.Size([4])\n",
      "08/25/2023, 05:17:34# labels of 25000: tensor([110, 153, 143,  43], device='cuda:0') torch.Size([4])\n",
      "08/25/2023, 05:17:34# predicted of 25000: tensor([131, 160, 137, 142], device='cuda:0') torch.Size([4])\n",
      "08/25/2023, 05:18:22# labels of 30000: tensor([ 73, 143,  54, 150], device='cuda:0') torch.Size([4])\n",
      "08/25/2023, 05:18:22# predicted of 30000: tensor([ 73, 158,   2, 157], device='cuda:0') torch.Size([4])\n",
      "08/25/2023, 05:18:50# total batches: 33000\n",
      "08/25/2023, 05:18:50# Epoch 36 | Train Loss: 2.7594 | Train Accuracy: 0.3835\n"
     ]
    },
    {
     "data": {
      "application/vnd.jupyter.widget-view+json": {
       "model_id": "ff5cc0d8d9f544209aa4250ecb4ebe04",
       "version_major": 2,
       "version_minor": 0
      },
      "text/plain": [
       "Validation:   0%|          | 0/4125 [00:00<?, ?it/s]"
      ]
     },
     "metadata": {},
     "output_type": "display_data"
    },
    {
     "name": "stdout",
     "output_type": "stream",
     "text": [
      "08/25/2023, 05:18:50# labels of Validation: tensor([96, 20, 21, 48], device='cuda:0') torch.Size([4])\n",
      "08/25/2023, 05:18:50# predicted of Validation: tensor([ 96,  41, 132,  41], device='cuda:0') torch.Size([4])\n",
      "08/25/2023, 05:18:50# labels of 0: tensor([96, 20, 21, 48], device='cuda:0') torch.Size([4])\n",
      "08/25/2023, 05:18:50# predicted of 0: tensor([ 96,  41, 132,  41], device='cuda:0') torch.Size([4])\n",
      "08/25/2023, 05:18:56# labels of Validation: tensor([120, 144,  95,  59], device='cuda:0') torch.Size([4])\n",
      "08/25/2023, 05:18:56# predicted of Validation: tensor([120,  41,  95, 132], device='cuda:0') torch.Size([4])\n",
      "08/25/2023, 05:19:02# labels of Validation: tensor([ 17,  91, 147,  36], device='cuda:0') torch.Size([4])\n",
      "08/25/2023, 05:19:02# predicted of Validation: tensor([ 17, 132, 147,  41], device='cuda:0') torch.Size([4])\n",
      "08/25/2023, 05:19:08# labels of Validation: tensor([124,   5,  81,  66], device='cuda:0') torch.Size([4])\n",
      "08/25/2023, 05:19:08# predicted of Validation: tensor([ 41,   5,  41, 132], device='cuda:0') torch.Size([4])\n",
      "08/25/2023, 05:19:14# labels of Validation: tensor([ 60,  10,  87, 108], device='cuda:0') torch.Size([4])\n",
      "08/25/2023, 05:19:14# predicted of Validation: tensor([ 41,  41,  41, 132], device='cuda:0') torch.Size([4])\n",
      "08/25/2023, 05:19:15# Validation Loss: 2.7471 | Validation Accuracy: 0.3807\n",
      "\n"
     ]
    },
    {
     "data": {
      "application/vnd.jupyter.widget-view+json": {
       "model_id": "b0d20bf965fb4373966fe2b746d3ad8e",
       "version_major": 2,
       "version_minor": 0
      },
      "text/plain": [
       "Training:   0%|          | 0/33000 [00:00<?, ?it/s]"
      ]
     },
     "metadata": {},
     "output_type": "display_data"
    },
    {
     "name": "stdout",
     "output_type": "stream",
     "text": [
      "08/25/2023, 05:20:35# labels of 5000: tensor([ 73, 102,  71,  38], device='cuda:0') torch.Size([4])\n",
      "08/25/2023, 05:20:35# predicted of 5000: tensor([ 73, 110, 119,  12], device='cuda:0') torch.Size([4])\n",
      "08/25/2023, 05:22:16# labels of 10000: tensor([ 75, 119,  95, 113], device='cuda:0') torch.Size([4])\n",
      "08/25/2023, 05:22:16# predicted of 10000: tensor([158,  98,  95, 132], device='cuda:0') torch.Size([4])\n",
      "08/25/2023, 05:23:57# labels of 15000: tensor([122, 154,  36,   7], device='cuda:0') torch.Size([4])\n",
      "08/25/2023, 05:23:57# predicted of 15000: tensor([122, 154,  11,   7], device='cuda:0') torch.Size([4])\n",
      "08/25/2023, 05:25:38# labels of 20000: tensor([145, 158, 101,  92], device='cuda:0') torch.Size([4])\n",
      "08/25/2023, 05:25:38# predicted of 20000: tensor([145,  33, 132, 139], device='cuda:0') torch.Size([4])\n",
      "08/25/2023, 05:27:19# labels of 25000: tensor([ 52,   2,  84, 151], device='cuda:0') torch.Size([4])\n",
      "08/25/2023, 05:27:19# predicted of 25000: tensor([52, 11, 84, 14], device='cuda:0') torch.Size([4])\n",
      "08/25/2023, 05:29:00# labels of 30000: tensor([ 69,  62, 110,   3], device='cuda:0') torch.Size([4])\n",
      "08/25/2023, 05:29:00# predicted of 30000: tensor([69, 62, 28,  3], device='cuda:0') torch.Size([4])\n",
      "08/25/2023, 05:30:01# total batches: 33000\n",
      "08/25/2023, 05:30:01# Epoch 37 | Train Loss: 2.7591 | Train Accuracy: 0.3833\n"
     ]
    },
    {
     "data": {
      "application/vnd.jupyter.widget-view+json": {
       "model_id": "a938e9e5f8d44d0a8fcdfb479bec0f87",
       "version_major": 2,
       "version_minor": 0
      },
      "text/plain": [
       "Validation:   0%|          | 0/4125 [00:00<?, ?it/s]"
      ]
     },
     "metadata": {},
     "output_type": "display_data"
    },
    {
     "name": "stdout",
     "output_type": "stream",
     "text": [
      "08/25/2023, 05:30:01# labels of Validation: tensor([109, 164, 107, 113], device='cuda:0') torch.Size([4])\n",
      "08/25/2023, 05:30:01# predicted of Validation: tensor([41, 41, 28, 28], device='cuda:0') torch.Size([4])\n",
      "08/25/2023, 05:30:01# labels of 0: tensor([109, 164, 107, 113], device='cuda:0') torch.Size([4])\n",
      "08/25/2023, 05:30:01# predicted of 0: tensor([41, 41, 28, 28], device='cuda:0') torch.Size([4])\n",
      "08/25/2023, 05:30:07# labels of Validation: tensor([93, 89, 41, 67], device='cuda:0') torch.Size([4])\n",
      "08/25/2023, 05:30:07# predicted of Validation: tensor([28, 89, 41, 67], device='cuda:0') torch.Size([4])\n",
      "08/25/2023, 05:30:13# labels of Validation: tensor([107, 112,  35,  13], device='cuda:0') torch.Size([4])\n",
      "08/25/2023, 05:30:13# predicted of Validation: tensor([28, 41, 35, 13], device='cuda:0') torch.Size([4])\n",
      "08/25/2023, 05:30:19# labels of Validation: tensor([19, 83, 12, 86], device='cuda:0') torch.Size([4])\n",
      "08/25/2023, 05:30:19# predicted of Validation: tensor([41, 41, 41, 41], device='cuda:0') torch.Size([4])\n",
      "08/25/2023, 05:30:26# labels of Validation: tensor([  6, 115, 145,  75], device='cuda:0') torch.Size([4])\n",
      "08/25/2023, 05:30:26# predicted of Validation: tensor([132, 115, 145,  41], device='cuda:0') torch.Size([4])\n",
      "08/25/2023, 05:30:27# Validation Loss: 2.7471 | Validation Accuracy: 0.3807\n",
      "\n"
     ]
    },
    {
     "data": {
      "application/vnd.jupyter.widget-view+json": {
       "model_id": "3c784368f53e481e87a710b450a30cc1",
       "version_major": 2,
       "version_minor": 0
      },
      "text/plain": [
       "Training:   0%|          | 0/33000 [00:00<?, ?it/s]"
      ]
     },
     "metadata": {},
     "output_type": "display_data"
    },
    {
     "name": "stdout",
     "output_type": "stream",
     "text": [
      "08/25/2023, 05:32:08# labels of 5000: tensor([133,  16,   0,  61], device='cuda:0') torch.Size([4])\n",
      "08/25/2023, 05:32:08# predicted of 5000: tensor([132,  16,   0,  61], device='cuda:0') torch.Size([4])\n",
      "08/25/2023, 05:33:48# labels of 10000: tensor([ 1, 19, 94, 57], device='cuda:0') torch.Size([4])\n",
      "08/25/2023, 05:33:48# predicted of 10000: tensor([160,  41,  94,  41], device='cuda:0') torch.Size([4])\n",
      "08/25/2023, 05:35:29# labels of 15000: tensor([ 1, 29, 71, 29], device='cuda:0') torch.Size([4])\n",
      "08/25/2023, 05:35:29# predicted of 15000: tensor([141,  29, 163,  29], device='cuda:0') torch.Size([4])\n",
      "08/25/2023, 05:37:11# labels of 20000: tensor([ 82, 116,  82,  35], device='cuda:0') torch.Size([4])\n",
      "08/25/2023, 05:37:11# predicted of 20000: tensor([82, 58, 82, 35], device='cuda:0') torch.Size([4])\n",
      "08/25/2023, 05:38:52# labels of 25000: tensor([ 93,  69,  33, 147], device='cuda:0') torch.Size([4])\n",
      "08/25/2023, 05:38:52# predicted of 25000: tensor([161,  69,  92, 147], device='cuda:0') torch.Size([4])\n",
      "08/25/2023, 05:40:33# labels of 30000: tensor([ 23, 126,  40, 128], device='cuda:0') torch.Size([4])\n",
      "08/25/2023, 05:40:33# predicted of 30000: tensor([ 23, 126,  40, 128], device='cuda:0') torch.Size([4])\n",
      "08/25/2023, 05:41:33# total batches: 33000\n",
      "08/25/2023, 05:41:33# Epoch 38 | Train Loss: 2.7588 | Train Accuracy: 0.3833\n"
     ]
    },
    {
     "data": {
      "application/vnd.jupyter.widget-view+json": {
       "model_id": "ccc163d9734d4ec498e0364297c2f213",
       "version_major": 2,
       "version_minor": 0
      },
      "text/plain": [
       "Validation:   0%|          | 0/4125 [00:00<?, ?it/s]"
      ]
     },
     "metadata": {},
     "output_type": "display_data"
    },
    {
     "name": "stdout",
     "output_type": "stream",
     "text": [
      "08/25/2023, 05:41:33# labels of Validation: tensor([ 60,  42, 102, 109], device='cuda:0') torch.Size([4])\n",
      "08/25/2023, 05:41:33# predicted of Validation: tensor([162, 162, 162, 162], device='cuda:0') torch.Size([4])\n",
      "08/25/2023, 05:41:33# labels of 0: tensor([ 60,  42, 102, 109], device='cuda:0') torch.Size([4])\n",
      "08/25/2023, 05:41:33# predicted of 0: tensor([162, 162, 162, 162], device='cuda:0') torch.Size([4])\n",
      "08/25/2023, 05:41:40# labels of Validation: tensor([140, 129,  42,  18], device='cuda:0') torch.Size([4])\n",
      "08/25/2023, 05:41:40# predicted of Validation: tensor([140,  28, 162, 162], device='cuda:0') torch.Size([4])\n",
      "08/25/2023, 05:41:46# labels of Validation: tensor([119, 106,  56, 138], device='cuda:0') torch.Size([4])\n",
      "08/25/2023, 05:41:46# predicted of Validation: tensor([162, 106,  56, 138], device='cuda:0') torch.Size([4])\n",
      "08/25/2023, 05:41:52# labels of Validation: tensor([139,  66,  85,  92], device='cuda:0') torch.Size([4])\n",
      "08/25/2023, 05:41:52# predicted of Validation: tensor([162, 132,  85, 162], device='cuda:0') torch.Size([4])\n",
      "08/25/2023, 05:41:58# labels of Validation: tensor([ 54, 113,  79, 139], device='cuda:0') torch.Size([4])\n",
      "08/25/2023, 05:41:58# predicted of Validation: tensor([162,  28,  79, 162], device='cuda:0') torch.Size([4])\n",
      "08/25/2023, 05:41:59# Validation Loss: 2.7469 | Validation Accuracy: 0.3807\n",
      "\n"
     ]
    },
    {
     "data": {
      "application/vnd.jupyter.widget-view+json": {
       "model_id": "a6d9209fab824eed842f5b18f3f95dbf",
       "version_major": 2,
       "version_minor": 0
      },
      "text/plain": [
       "Training:   0%|          | 0/33000 [00:00<?, ?it/s]"
      ]
     },
     "metadata": {},
     "output_type": "display_data"
    },
    {
     "name": "stdout",
     "output_type": "stream",
     "text": [
      "08/25/2023, 05:43:37# labels of 5000: tensor([ 42,  64,  59, 132], device='cuda:0') torch.Size([4])\n",
      "08/25/2023, 05:43:37# predicted of 5000: tensor([ 58, 161, 161, 132], device='cuda:0') torch.Size([4])\n",
      "08/25/2023, 05:45:18# labels of 10000: tensor([ 18, 128, 133, 157], device='cuda:0') torch.Size([4])\n",
      "08/25/2023, 05:45:18# predicted of 10000: tensor([100, 128,  77,  92], device='cuda:0') torch.Size([4])\n",
      "08/25/2023, 05:46:59# labels of 15000: tensor([  7, 161,  61, 150], device='cuda:0') torch.Size([4])\n",
      "08/25/2023, 05:46:59# predicted of 15000: tensor([  7, 132,  61, 125], device='cuda:0') torch.Size([4])\n",
      "08/25/2023, 05:48:40# labels of 20000: tensor([123,  53, 134, 114], device='cuda:0') torch.Size([4])\n",
      "08/25/2023, 05:48:40# predicted of 20000: tensor([123,  76, 134, 131], device='cuda:0') torch.Size([4])\n",
      "08/25/2023, 05:50:21# labels of 25000: tensor([ 45, 152,  54, 108], device='cuda:0') torch.Size([4])\n",
      "08/25/2023, 05:50:21# predicted of 25000: tensor([ 45, 148, 163, 132], device='cuda:0') torch.Size([4])\n",
      "08/25/2023, 05:52:01# labels of 30000: tensor([156, 122, 154, 106], device='cuda:0') torch.Size([4])\n",
      "08/25/2023, 05:52:01# predicted of 30000: tensor([156, 122, 154, 106], device='cuda:0') torch.Size([4])\n",
      "08/25/2023, 05:53:02# total batches: 33000\n",
      "08/25/2023, 05:53:02# Epoch 39 | Train Loss: 2.7596 | Train Accuracy: 0.3834\n"
     ]
    },
    {
     "data": {
      "application/vnd.jupyter.widget-view+json": {
       "model_id": "7ae9378467054d7dbbf418618e93d8d8",
       "version_major": 2,
       "version_minor": 0
      },
      "text/plain": [
       "Validation:   0%|          | 0/4125 [00:00<?, ?it/s]"
      ]
     },
     "metadata": {},
     "output_type": "display_data"
    },
    {
     "name": "stdout",
     "output_type": "stream",
     "text": [
      "08/25/2023, 05:53:02# labels of Validation: tensor([38,  0, 16, 82], device='cuda:0') torch.Size([4])\n",
      "08/25/2023, 05:53:02# predicted of Validation: tensor([162,   0,  16,  82], device='cuda:0') torch.Size([4])\n",
      "08/25/2023, 05:53:02# labels of 0: tensor([38,  0, 16, 82], device='cuda:0') torch.Size([4])\n",
      "08/25/2023, 05:53:02# predicted of 0: tensor([162,   0,  16,  82], device='cuda:0') torch.Size([4])\n",
      "08/25/2023, 05:53:08# labels of Validation: tensor([ 78, 104, 114, 119], device='cuda:0') torch.Size([4])\n",
      "08/25/2023, 05:53:08# predicted of Validation: tensor([ 67, 162,  28, 162], device='cuda:0') torch.Size([4])\n",
      "08/25/2023, 05:53:14# labels of Validation: tensor([ 41, 124, 154,   0], device='cuda:0') torch.Size([4])\n",
      "08/25/2023, 05:53:14# predicted of Validation: tensor([162, 162, 154,   0], device='cuda:0') torch.Size([4])\n",
      "08/25/2023, 05:53:21# labels of Validation: tensor([  1, 146, 133, 147], device='cuda:0') torch.Size([4])\n",
      "08/25/2023, 05:53:21# predicted of Validation: tensor([162, 146,  28, 147], device='cuda:0') torch.Size([4])\n",
      "08/25/2023, 05:53:27# labels of Validation: tensor([104,  33,  26,  50], device='cuda:0') torch.Size([4])\n",
      "08/25/2023, 05:53:27# predicted of Validation: tensor([162, 162, 162,  50], device='cuda:0') torch.Size([4])\n",
      "08/25/2023, 05:53:28# Validation Loss: 2.7472 | Validation Accuracy: 0.3806\n",
      "\n"
     ]
    },
    {
     "data": {
      "application/vnd.jupyter.widget-view+json": {
       "model_id": "58c09d845f5f4334a93134bc8b905277",
       "version_major": 2,
       "version_minor": 0
      },
      "text/plain": [
       "Training:   0%|          | 0/33000 [00:00<?, ?it/s]"
      ]
     },
     "metadata": {},
     "output_type": "display_data"
    },
    {
     "name": "stdout",
     "output_type": "stream",
     "text": [
      "08/25/2023, 05:55:09# labels of 5000: tensor([163, 117,  89, 150], device='cuda:0') torch.Size([4])\n",
      "08/25/2023, 05:55:09# predicted of 5000: tensor([ 58, 117,  89,  58], device='cuda:0') torch.Size([4])\n",
      "08/25/2023, 05:56:50# labels of 10000: tensor([ 36, 109, 123,  92], device='cuda:0') torch.Size([4])\n",
      "08/25/2023, 05:56:50# predicted of 10000: tensor([ 57,  68, 123,  58], device='cuda:0') torch.Size([4])\n",
      "08/25/2023, 05:58:30# labels of 15000: tensor([145,  30,  59, 144], device='cuda:0') torch.Size([4])\n",
      "08/25/2023, 05:58:30# predicted of 15000: tensor([145,  83, 132,  53], device='cuda:0') torch.Size([4])\n",
      "08/25/2023, 06:00:11# labels of 20000: tensor([ 92, 113, 161, 108], device='cuda:0') torch.Size([4])\n",
      "08/25/2023, 06:00:11# predicted of 20000: tensor([153, 161, 132, 161], device='cuda:0') torch.Size([4])\n",
      "08/25/2023, 06:01:52# labels of 25000: tensor([ 78, 103,  36,  62], device='cuda:0') torch.Size([4])\n",
      "08/25/2023, 06:01:52# predicted of 25000: tensor([ 78, 132,  57,  62], device='cuda:0') torch.Size([4])\n",
      "08/25/2023, 06:03:34# labels of 30000: tensor([ 30,  16, 156,  10], device='cuda:0') torch.Size([4])\n",
      "08/25/2023, 06:03:34# predicted of 30000: tensor([121,  16, 156, 107], device='cuda:0') torch.Size([4])\n",
      "08/25/2023, 06:04:34# total batches: 33000\n",
      "08/25/2023, 06:04:34# Epoch 40 | Train Loss: 2.7600 | Train Accuracy: 0.3833\n"
     ]
    },
    {
     "data": {
      "application/vnd.jupyter.widget-view+json": {
       "model_id": "bd189060f0a34969bc2629efbd9c9964",
       "version_major": 2,
       "version_minor": 0
      },
      "text/plain": [
       "Validation:   0%|          | 0/4125 [00:00<?, ?it/s]"
      ]
     },
     "metadata": {},
     "output_type": "display_data"
    },
    {
     "name": "stdout",
     "output_type": "stream",
     "text": [
      "08/25/2023, 06:04:34# labels of Validation: tensor([142, 154,  18, 121], device='cuda:0') torch.Size([4])\n",
      "08/25/2023, 06:04:34# predicted of Validation: tensor([152, 154, 152, 152], device='cuda:0') torch.Size([4])\n",
      "08/25/2023, 06:04:34# labels of 0: tensor([142, 154,  18, 121], device='cuda:0') torch.Size([4])\n",
      "08/25/2023, 06:04:34# predicted of 0: tensor([152, 154, 152, 152], device='cuda:0') torch.Size([4])\n",
      "08/25/2023, 06:04:41# labels of Validation: tensor([165,  62,  84,  51], device='cuda:0') torch.Size([4])\n",
      "08/25/2023, 06:04:41# predicted of Validation: tensor([165,  62,  84, 132], device='cuda:0') torch.Size([4])\n",
      "08/25/2023, 06:04:48# labels of Validation: tensor([ 79, 158, 153, 138], device='cuda:0') torch.Size([4])\n",
      "08/25/2023, 06:04:48# predicted of Validation: tensor([ 79, 152, 152, 138], device='cuda:0') torch.Size([4])\n",
      "08/25/2023, 06:04:55# labels of Validation: tensor([ 97, 161,  83, 140], device='cuda:0') torch.Size([4])\n",
      "08/25/2023, 06:04:55# predicted of Validation: tensor([152, 132, 152, 140], device='cuda:0') torch.Size([4])\n",
      "08/25/2023, 06:05:01# labels of Validation: tensor([ 0, 87,  7,  3], device='cuda:0') torch.Size([4])\n",
      "08/25/2023, 06:05:01# predicted of Validation: tensor([  0, 152,   7,   3], device='cuda:0') torch.Size([4])\n",
      "08/25/2023, 06:05:02# Validation Loss: 2.7472 | Validation Accuracy: 0.3807\n",
      "\n"
     ]
    },
    {
     "data": {
      "application/vnd.jupyter.widget-view+json": {
       "model_id": "34455f412c5b419eb5f9313c0ce404bb",
       "version_major": 2,
       "version_minor": 0
      },
      "text/plain": [
       "Training:   0%|          | 0/33000 [00:00<?, ?it/s]"
      ]
     },
     "metadata": {},
     "output_type": "display_data"
    },
    {
     "name": "stdout",
     "output_type": "stream",
     "text": [
      "08/25/2023, 06:06:16# labels of 5000: tensor([41, 69, 53, 27], device='cuda:0') torch.Size([4])\n",
      "08/25/2023, 06:06:16# predicted of 5000: tensor([ 58,  69, 103,  27], device='cuda:0') torch.Size([4])\n",
      "08/25/2023, 06:07:42# labels of 10000: tensor([ 78, 129,  62, 109], device='cuda:0') torch.Size([4])\n",
      "08/25/2023, 06:07:42# predicted of 10000: tensor([ 67, 107,  62,  63], device='cuda:0') torch.Size([4])\n",
      "08/25/2023, 06:09:23# labels of 15000: tensor([164,  84, 102,  72], device='cuda:0') torch.Size([4])\n",
      "08/25/2023, 06:09:23# predicted of 15000: tensor([30, 84, 58, 72], device='cuda:0') torch.Size([4])\n",
      "08/25/2023, 06:11:03# labels of 20000: tensor([150,  51,  23,  12], device='cuda:0') torch.Size([4])\n",
      "08/25/2023, 06:11:03# predicted of 20000: tensor([  2, 161,  50, 162], device='cuda:0') torch.Size([4])\n",
      "08/25/2023, 06:12:44# labels of 25000: tensor([112, 139,  11,  97], device='cuda:0') torch.Size([4])\n",
      "08/25/2023, 06:12:44# predicted of 25000: tensor([ 58, 114, 139, 124], device='cuda:0') torch.Size([4])\n",
      "08/25/2023, 06:14:27# labels of 30000: tensor([132,  14, 127, 121], device='cuda:0') torch.Size([4])\n",
      "08/25/2023, 06:14:27# predicted of 30000: tensor([132,  37, 127, 129], device='cuda:0') torch.Size([4])\n",
      "08/25/2023, 06:15:28# total batches: 33000\n",
      "08/25/2023, 06:15:28# Epoch 41 | Train Loss: 2.7597 | Train Accuracy: 0.3826\n"
     ]
    },
    {
     "data": {
      "application/vnd.jupyter.widget-view+json": {
       "model_id": "53ebc54a103f4b76a8a9418d10fa1dfd",
       "version_major": 2,
       "version_minor": 0
      },
      "text/plain": [
       "Validation:   0%|          | 0/4125 [00:00<?, ?it/s]"
      ]
     },
     "metadata": {},
     "output_type": "display_data"
    },
    {
     "name": "stdout",
     "output_type": "stream",
     "text": [
      "08/25/2023, 06:15:28# labels of Validation: tensor([106, 136,  64, 106], device='cuda:0') torch.Size([4])\n",
      "08/25/2023, 06:15:28# predicted of Validation: tensor([106, 136,  28, 106], device='cuda:0') torch.Size([4])\n",
      "08/25/2023, 06:15:28# labels of 0: tensor([106, 136,  64, 106], device='cuda:0') torch.Size([4])\n",
      "08/25/2023, 06:15:28# predicted of 0: tensor([106, 136,  28, 106], device='cuda:0') torch.Size([4])\n",
      "08/25/2023, 06:15:34# labels of Validation: tensor([ 69, 121, 125, 112], device='cuda:0') torch.Size([4])\n",
      "08/25/2023, 06:15:34# predicted of Validation: tensor([ 69, 137, 137, 137], device='cuda:0') torch.Size([4])\n",
      "08/25/2023, 06:15:40# labels of Validation: tensor([ 93,  46,  75, 128], device='cuda:0') torch.Size([4])\n",
      "08/25/2023, 06:15:40# predicted of Validation: tensor([ 28, 137, 137, 128], device='cuda:0') torch.Size([4])\n",
      "08/25/2023, 06:15:46# labels of Validation: tensor([ 19, 125,  21, 154], device='cuda:0') torch.Size([4])\n",
      "08/25/2023, 06:15:46# predicted of Validation: tensor([137, 137, 132, 154], device='cuda:0') torch.Size([4])\n",
      "08/25/2023, 06:15:52# labels of Validation: tensor([105,  12,  82,  34], device='cuda:0') torch.Size([4])\n",
      "08/25/2023, 06:15:52# predicted of Validation: tensor([105, 137,  82, 137], device='cuda:0') torch.Size([4])\n",
      "08/25/2023, 06:15:53# Validation Loss: 2.7472 | Validation Accuracy: 0.3808\n",
      "\n"
     ]
    },
    {
     "data": {
      "application/vnd.jupyter.widget-view+json": {
       "model_id": "f93d64f571bb4d4a8f75145f61fdd8a7",
       "version_major": 2,
       "version_minor": 0
      },
      "text/plain": [
       "Training:   0%|          | 0/33000 [00:00<?, ?it/s]"
      ]
     },
     "metadata": {},
     "output_type": "display_data"
    },
    {
     "name": "stdout",
     "output_type": "stream",
     "text": [
      "08/25/2023, 06:17:35# labels of 5000: tensor([ 44, 116, 103,  93], device='cuda:0') torch.Size([4])\n",
      "08/25/2023, 06:17:35# predicted of 5000: tensor([ 90,  47, 155,   6], device='cuda:0') torch.Size([4])\n",
      "08/25/2023, 06:19:16# labels of 10000: tensor([ 24, 109, 158, 163], device='cuda:0') torch.Size([4])\n",
      "08/25/2023, 06:19:16# predicted of 10000: tensor([ 58, 110,  58,  30], device='cuda:0') torch.Size([4])\n",
      "08/25/2023, 06:20:58# labels of 15000: tensor([71, 13, 34, 48], device='cuda:0') torch.Size([4])\n",
      "08/25/2023, 06:20:58# predicted of 15000: tensor([143,  13,  90, 103], device='cuda:0') torch.Size([4])\n",
      "08/25/2023, 06:22:39# labels of 20000: tensor([ 50,  67, 121, 121], device='cuda:0') torch.Size([4])\n",
      "08/25/2023, 06:22:39# predicted of 20000: tensor([50, 78, 58, 49], device='cuda:0') torch.Size([4])\n",
      "08/25/2023, 06:24:19# labels of 25000: tensor([ 93,  49, 106, 132], device='cuda:0') torch.Size([4])\n",
      "08/25/2023, 06:24:19# predicted of 25000: tensor([129, 110, 106, 161], device='cuda:0') torch.Size([4])\n",
      "08/25/2023, 06:26:00# labels of 30000: tensor([ 20,  96,  15, 161], device='cuda:0') torch.Size([4])\n",
      "08/25/2023, 06:26:00# predicted of 30000: tensor([137,  96,  15, 132], device='cuda:0') torch.Size([4])\n",
      "08/25/2023, 06:27:00# total batches: 33000\n",
      "08/25/2023, 06:27:00# Epoch 42 | Train Loss: 2.7595 | Train Accuracy: 0.3835\n"
     ]
    },
    {
     "data": {
      "application/vnd.jupyter.widget-view+json": {
       "model_id": "0ec963b701da4db3a8a5bc89bf2a53c9",
       "version_major": 2,
       "version_minor": 0
      },
      "text/plain": [
       "Validation:   0%|          | 0/4125 [00:00<?, ?it/s]"
      ]
     },
     "metadata": {},
     "output_type": "display_data"
    },
    {
     "name": "stdout",
     "output_type": "stream",
     "text": [
      "08/25/2023, 06:27:00# labels of Validation: tensor([ 25,  92,   6, 148], device='cuda:0') torch.Size([4])\n",
      "08/25/2023, 06:27:00# predicted of Validation: tensor([ 25, 157, 132,  28], device='cuda:0') torch.Size([4])\n",
      "08/25/2023, 06:27:00# labels of 0: tensor([ 25,  92,   6, 148], device='cuda:0') torch.Size([4])\n",
      "08/25/2023, 06:27:00# predicted of 0: tensor([ 25, 157, 132,  28], device='cuda:0') torch.Size([4])\n",
      "08/25/2023, 06:27:06# labels of Validation: tensor([ 96,  60, 110,  50], device='cuda:0') torch.Size([4])\n",
      "08/25/2023, 06:27:06# predicted of Validation: tensor([ 96, 157,  28,  50], device='cuda:0') torch.Size([4])\n",
      "08/25/2023, 06:27:13# labels of Validation: tensor([ 31, 156, 164,  76], device='cuda:0') torch.Size([4])\n",
      "08/25/2023, 06:27:13# predicted of Validation: tensor([157, 156, 157, 157], device='cuda:0') torch.Size([4])\n",
      "08/25/2023, 06:27:19# labels of Validation: tensor([ 47,  72, 137,  16], device='cuda:0') torch.Size([4])\n",
      "08/25/2023, 06:27:19# predicted of Validation: tensor([157,  72, 157,  16], device='cuda:0') torch.Size([4])\n",
      "08/25/2023, 06:27:25# labels of Validation: tensor([10, 97, 34, 45], device='cuda:0') torch.Size([4])\n",
      "08/25/2023, 06:27:25# predicted of Validation: tensor([157, 157, 157,  45], device='cuda:0') torch.Size([4])\n",
      "08/25/2023, 06:27:26# Validation Loss: 2.7471 | Validation Accuracy: 0.3810\n",
      "\n"
     ]
    },
    {
     "data": {
      "application/vnd.jupyter.widget-view+json": {
       "model_id": "3f57498e84004a3594f65a5a8d1dd229",
       "version_major": 2,
       "version_minor": 0
      },
      "text/plain": [
       "Training:   0%|          | 0/33000 [00:00<?, ?it/s]"
      ]
     },
     "metadata": {},
     "output_type": "display_data"
    },
    {
     "name": "stdout",
     "output_type": "stream",
     "text": [
      "08/25/2023, 06:29:06# labels of 5000: tensor([ 19,  98, 123, 157], device='cuda:0') torch.Size([4])\n",
      "08/25/2023, 06:29:06# predicted of 5000: tensor([111,  92, 123,  63], device='cuda:0') torch.Size([4])\n",
      "08/25/2023, 06:30:47# labels of 10000: tensor([ 47, 134,  23,  51], device='cuda:0') torch.Size([4])\n",
      "08/25/2023, 06:30:47# predicted of 10000: tensor([100, 134,  23, 132], device='cuda:0') torch.Size([4])\n",
      "08/25/2023, 06:32:13# labels of 15000: tensor([166,   2,  16,  71], device='cuda:0') torch.Size([4])\n",
      "08/25/2023, 06:32:13# predicted of 15000: tensor([132, 125,  16,  31], device='cuda:0') torch.Size([4])\n",
      "08/25/2023, 06:33:54# labels of 20000: tensor([107, 146,  16, 112], device='cuda:0') torch.Size([4])\n",
      "08/25/2023, 06:33:54# predicted of 20000: tensor([101, 146,  16, 129], device='cuda:0') torch.Size([4])\n",
      "08/25/2023, 06:35:34# labels of 25000: tensor([38, 41, 55, 40], device='cuda:0') torch.Size([4])\n",
      "08/25/2023, 06:35:34# predicted of 25000: tensor([76, 98, 30, 40], device='cuda:0') torch.Size([4])\n",
      "08/25/2023, 06:37:14# labels of 30000: tensor([140, 158, 132,   9], device='cuda:0') torch.Size([4])\n",
      "08/25/2023, 06:37:14# predicted of 30000: tensor([140,  60, 161, 124], device='cuda:0') torch.Size([4])\n",
      "08/25/2023, 06:38:16# total batches: 33000\n",
      "08/25/2023, 06:38:16# Epoch 43 | Train Loss: 2.7597 | Train Accuracy: 0.3833\n"
     ]
    },
    {
     "data": {
      "application/vnd.jupyter.widget-view+json": {
       "model_id": "ffeb3311ee014f1497c09c66616d57c5",
       "version_major": 2,
       "version_minor": 0
      },
      "text/plain": [
       "Validation:   0%|          | 0/4125 [00:00<?, ?it/s]"
      ]
     },
     "metadata": {},
     "output_type": "display_data"
    },
    {
     "name": "stdout",
     "output_type": "stream",
     "text": [
      "08/25/2023, 06:38:16# labels of Validation: tensor([43, 78, 68, 95], device='cuda:0') torch.Size([4])\n",
      "08/25/2023, 06:38:16# predicted of Validation: tensor([43, 67,  6, 95], device='cuda:0') torch.Size([4])\n",
      "08/25/2023, 06:38:16# labels of 0: tensor([43, 78, 68, 95], device='cuda:0') torch.Size([4])\n",
      "08/25/2023, 06:38:16# predicted of 0: tensor([43, 67,  6, 95], device='cuda:0') torch.Size([4])\n",
      "08/25/2023, 06:38:22# labels of Validation: tensor([146, 137, 154,  52], device='cuda:0') torch.Size([4])\n",
      "08/25/2023, 06:38:22# predicted of Validation: tensor([146,  43, 154,  52], device='cuda:0') torch.Size([4])\n",
      "08/25/2023, 06:38:28# labels of Validation: tensor([ 36,  16,  26, 163], device='cuda:0') torch.Size([4])\n",
      "08/25/2023, 06:38:28# predicted of Validation: tensor([43, 16, 43, 43], device='cuda:0') torch.Size([4])\n",
      "08/25/2023, 06:38:34# labels of Validation: tensor([119,  56, 138,  71], device='cuda:0') torch.Size([4])\n",
      "08/25/2023, 06:38:34# predicted of Validation: tensor([ 43,  56, 138,  43], device='cuda:0') torch.Size([4])\n",
      "08/25/2023, 06:38:40# labels of Validation: tensor([119,  89, 138, 149], device='cuda:0') torch.Size([4])\n",
      "08/25/2023, 06:38:40# predicted of Validation: tensor([ 43,  89, 138, 149], device='cuda:0') torch.Size([4])\n",
      "08/25/2023, 06:38:41# Validation Loss: 2.7470 | Validation Accuracy: 0.3805\n",
      "\n"
     ]
    },
    {
     "data": {
      "application/vnd.jupyter.widget-view+json": {
       "model_id": "99e4eea303ab45d3b9ff9abf919367cf",
       "version_major": 2,
       "version_minor": 0
      },
      "text/plain": [
       "Training:   0%|          | 0/33000 [00:00<?, ?it/s]"
      ]
     },
     "metadata": {},
     "output_type": "display_data"
    },
    {
     "name": "stdout",
     "output_type": "stream",
     "text": [
      "08/25/2023, 06:40:22# labels of 5000: tensor([77, 68, 87, 61], device='cuda:0') torch.Size([4])\n",
      "08/25/2023, 06:40:22# predicted of 5000: tensor([132, 148,  71,  61], device='cuda:0') torch.Size([4])\n",
      "08/25/2023, 06:42:03# labels of 10000: tensor([ 96,  11, 152, 113], device='cuda:0') torch.Size([4])\n",
      "08/25/2023, 06:42:03# predicted of 10000: tensor([ 96, 150, 124, 107], device='cuda:0') torch.Size([4])\n",
      "08/25/2023, 06:43:44# labels of 15000: tensor([ 48, 121,  47,  74], device='cuda:0') torch.Size([4])\n",
      "08/25/2023, 06:43:44# predicted of 15000: tensor([91, 14, 12, 88], device='cuda:0') torch.Size([4])\n",
      "08/25/2023, 06:45:25# labels of 20000: tensor([151, 166, 121,  21], device='cuda:0') torch.Size([4])\n",
      "08/25/2023, 06:45:25# predicted of 20000: tensor([ 63,  28,  30, 132], device='cuda:0') torch.Size([4])\n",
      "08/25/2023, 06:47:10# labels of 25000: tensor([ 4, 75, 85, 92], device='cuda:0') torch.Size([4])\n",
      "08/25/2023, 06:47:10# predicted of 25000: tensor([ 18, 133,  85,   2], device='cuda:0') torch.Size([4])\n",
      "08/25/2023, 06:48:51# labels of 30000: tensor([165, 153,  91,   8], device='cuda:0') torch.Size([4])\n",
      "08/25/2023, 06:48:51# predicted of 30000: tensor([165,  14, 161, 161], device='cuda:0') torch.Size([4])\n",
      "08/25/2023, 06:49:52# total batches: 33000\n",
      "08/25/2023, 06:49:52# Epoch 44 | Train Loss: 2.7592 | Train Accuracy: 0.3829\n"
     ]
    },
    {
     "data": {
      "application/vnd.jupyter.widget-view+json": {
       "model_id": "31320abd091243dbbb619bc423b94c81",
       "version_major": 2,
       "version_minor": 0
      },
      "text/plain": [
       "Validation:   0%|          | 0/4125 [00:00<?, ?it/s]"
      ]
     },
     "metadata": {},
     "output_type": "display_data"
    },
    {
     "name": "stdout",
     "output_type": "stream",
     "text": [
      "08/25/2023, 06:49:52# labels of Validation: tensor([129, 160,  20,  12], device='cuda:0') torch.Size([4])\n",
      "08/25/2023, 06:49:52# predicted of Validation: tensor([  6,   6, 164, 164], device='cuda:0') torch.Size([4])\n",
      "08/25/2023, 06:49:52# labels of 0: tensor([129, 160,  20,  12], device='cuda:0') torch.Size([4])\n",
      "08/25/2023, 06:49:52# predicted of 0: tensor([  6,   6, 164, 164], device='cuda:0') torch.Size([4])\n",
      "08/25/2023, 06:49:58# labels of Validation: tensor([141,  54, 139,   8], device='cuda:0') torch.Size([4])\n",
      "08/25/2023, 06:49:58# predicted of Validation: tensor([  6, 164, 164,   6], device='cuda:0') torch.Size([4])\n",
      "08/25/2023, 06:50:04# labels of Validation: tensor([ 27, 146,  32,  62], device='cuda:0') torch.Size([4])\n",
      "08/25/2023, 06:50:04# predicted of Validation: tensor([ 27, 146,  32,  62], device='cuda:0') torch.Size([4])\n",
      "08/25/2023, 06:50:10# labels of Validation: tensor([ 98,  48, 152,  45], device='cuda:0') torch.Size([4])\n",
      "08/25/2023, 06:50:10# predicted of Validation: tensor([164, 164, 164,  45], device='cuda:0') torch.Size([4])\n",
      "08/25/2023, 06:50:16# labels of Validation: tensor([ 58,  10, 162, 123], device='cuda:0') torch.Size([4])\n",
      "08/25/2023, 06:50:16# predicted of Validation: tensor([164, 164, 164, 123], device='cuda:0') torch.Size([4])\n",
      "08/25/2023, 06:50:17# Validation Loss: 2.7469 | Validation Accuracy: 0.3803\n",
      "\n"
     ]
    },
    {
     "data": {
      "application/vnd.jupyter.widget-view+json": {
       "model_id": "a0943f031c634559a51f6d6e04db80d4",
       "version_major": 2,
       "version_minor": 0
      },
      "text/plain": [
       "Training:   0%|          | 0/33000 [00:00<?, ?it/s]"
      ]
     },
     "metadata": {},
     "output_type": "display_data"
    },
    {
     "name": "stdout",
     "output_type": "stream",
     "text": [
      "08/25/2023, 06:51:59# labels of 5000: tensor([111, 136,  80, 164], device='cuda:0') torch.Size([4])\n",
      "08/25/2023, 06:51:59# predicted of 5000: tensor([ 68, 136,  80, 155], device='cuda:0') torch.Size([4])\n",
      "08/25/2023, 06:53:40# labels of 10000: tensor([133,  61,  75,  70], device='cuda:0') torch.Size([4])\n",
      "08/25/2023, 06:53:40# predicted of 10000: tensor([ 6, 61,  1, 70], device='cuda:0') torch.Size([4])\n",
      "08/25/2023, 06:55:21# labels of 15000: tensor([158, 127, 141, 118], device='cuda:0') torch.Size([4])\n",
      "08/25/2023, 06:55:21# predicted of 15000: tensor([ 60, 127,  51, 118], device='cuda:0') torch.Size([4])\n",
      "08/25/2023, 06:57:01# labels of 20000: tensor([140,  97, 130,  29], device='cuda:0') torch.Size([4])\n",
      "08/25/2023, 06:57:01# predicted of 20000: tensor([140, 164, 130,  29], device='cuda:0') torch.Size([4])\n",
      "08/25/2023, 06:58:43# labels of 25000: tensor([124,  20, 155,  50], device='cuda:0') torch.Size([4])\n",
      "08/25/2023, 06:58:43# predicted of 25000: tensor([101,  83, 161,  50], device='cuda:0') torch.Size([4])\n",
      "08/25/2023, 07:00:24# labels of 30000: tensor([ 25,  14,  40, 155], device='cuda:0') torch.Size([4])\n",
      "08/25/2023, 07:00:24# predicted of 30000: tensor([ 25, 150,  40, 161], device='cuda:0') torch.Size([4])\n",
      "08/25/2023, 07:01:24# total batches: 33000\n",
      "08/25/2023, 07:01:24# Epoch 45 | Train Loss: 2.7594 | Train Accuracy: 0.3829\n"
     ]
    },
    {
     "data": {
      "application/vnd.jupyter.widget-view+json": {
       "model_id": "8532f697f4da46df96817694982a97ff",
       "version_major": 2,
       "version_minor": 0
      },
      "text/plain": [
       "Validation:   0%|          | 0/4125 [00:00<?, ?it/s]"
      ]
     },
     "metadata": {},
     "output_type": "display_data"
    },
    {
     "name": "stdout",
     "output_type": "stream",
     "text": [
      "08/25/2023, 07:01:24# labels of Validation: tensor([156,  40,  83, 137], device='cuda:0') torch.Size([4])\n",
      "08/25/2023, 07:01:24# predicted of Validation: tensor([156,  40, 152, 152], device='cuda:0') torch.Size([4])\n",
      "08/25/2023, 07:01:24# labels of 0: tensor([156,  40,  83, 137], device='cuda:0') torch.Size([4])\n",
      "08/25/2023, 07:01:24# predicted of 0: tensor([156,  40, 152, 152], device='cuda:0') torch.Size([4])\n",
      "08/25/2023, 07:01:31# labels of Validation: tensor([58, 38, 52, 75], device='cuda:0') torch.Size([4])\n",
      "08/25/2023, 07:01:31# predicted of Validation: tensor([152, 152,  52, 152], device='cuda:0') torch.Size([4])\n",
      "08/25/2023, 07:01:37# labels of Validation: tensor([39, 42, 68, 15], device='cuda:0') torch.Size([4])\n",
      "08/25/2023, 07:01:37# predicted of Validation: tensor([ 39, 152, 131,  15], device='cuda:0') torch.Size([4])\n",
      "08/25/2023, 07:01:43# labels of Validation: tensor([ 18, 135, 106,  71], device='cuda:0') torch.Size([4])\n",
      "08/25/2023, 07:01:43# predicted of Validation: tensor([152, 152, 106, 152], device='cuda:0') torch.Size([4])\n",
      "08/25/2023, 07:01:49# labels of Validation: tensor([50, 79, 87, 37], device='cuda:0') torch.Size([4])\n",
      "08/25/2023, 07:01:49# predicted of Validation: tensor([ 50,  72, 152, 131], device='cuda:0') torch.Size([4])\n",
      "08/25/2023, 07:01:50# Validation Loss: 2.7468 | Validation Accuracy: 0.3807\n",
      "\n"
     ]
    },
    {
     "data": {
      "application/vnd.jupyter.widget-view+json": {
       "model_id": "7a7a36d007804f45861039d65f37114e",
       "version_major": 2,
       "version_minor": 0
      },
      "text/plain": [
       "Training:   0%|          | 0/33000 [00:00<?, ?it/s]"
      ]
     },
     "metadata": {},
     "output_type": "display_data"
    },
    {
     "name": "stdout",
     "output_type": "stream",
     "text": [
      "08/25/2023, 07:03:30# labels of 5000: tensor([ 32,   3, 132,  55], device='cuda:0') torch.Size([4])\n",
      "08/25/2023, 07:03:30# predicted of 5000: tensor([ 32,   3, 132, 133], device='cuda:0') torch.Size([4])\n",
      "08/25/2023, 07:04:41# labels of 10000: tensor([ 12, 145, 106,  79], device='cuda:0') torch.Size([4])\n",
      "08/25/2023, 07:04:41# predicted of 10000: tensor([ 14, 145, 106,  79], device='cuda:0') torch.Size([4])\n",
      "08/25/2023, 07:06:22# labels of 15000: tensor([ 82,  54, 152,  85], device='cuda:0') torch.Size([4])\n",
      "08/25/2023, 07:06:22# predicted of 15000: tensor([ 82, 103, 112,  85], device='cuda:0') torch.Size([4])\n",
      "08/25/2023, 07:08:04# labels of 20000: tensor([156, 132,  25,  46], device='cuda:0') torch.Size([4])\n",
      "08/25/2023, 07:08:04# predicted of 20000: tensor([156, 161,  25, 103], device='cuda:0') torch.Size([4])\n",
      "08/25/2023, 07:09:44# labels of 25000: tensor([ 85, 101,  86, 120], device='cuda:0') torch.Size([4])\n",
      "08/25/2023, 07:09:44# predicted of 25000: tensor([ 85, 132, 110, 120], device='cuda:0') torch.Size([4])\n",
      "08/25/2023, 07:11:26# labels of 30000: tensor([ 33,  82, 150, 100], device='cuda:0') torch.Size([4])\n",
      "08/25/2023, 07:11:26# predicted of 30000: tensor([ 31,  82, 158,  28], device='cuda:0') torch.Size([4])\n",
      "08/25/2023, 07:12:29# total batches: 33000\n",
      "08/25/2023, 07:12:29# Epoch 46 | Train Loss: 2.7591 | Train Accuracy: 0.3825\n"
     ]
    },
    {
     "data": {
      "application/vnd.jupyter.widget-view+json": {
       "model_id": "ce0f043749304e20a5bed69da54cd832",
       "version_major": 2,
       "version_minor": 0
      },
      "text/plain": [
       "Validation:   0%|          | 0/4125 [00:00<?, ?it/s]"
      ]
     },
     "metadata": {},
     "output_type": "display_data"
    },
    {
     "name": "stdout",
     "output_type": "stream",
     "text": [
      "08/25/2023, 07:12:29# labels of Validation: tensor([ 83,   6, 119,  33], device='cuda:0') torch.Size([4])\n",
      "08/25/2023, 07:12:29# predicted of Validation: tensor([ 18, 132,  18,  18], device='cuda:0') torch.Size([4])\n",
      "08/25/2023, 07:12:29# labels of 0: tensor([ 83,   6, 119,  33], device='cuda:0') torch.Size([4])\n",
      "08/25/2023, 07:12:29# predicted of 0: tensor([ 18, 132,  18,  18], device='cuda:0') torch.Size([4])\n",
      "08/25/2023, 07:12:35# labels of Validation: tensor([135,  11, 141,  54], device='cuda:0') torch.Size([4])\n",
      "08/25/2023, 07:12:35# predicted of Validation: tensor([18, 18, 51, 18], device='cuda:0') torch.Size([4])\n",
      "08/25/2023, 07:12:41# labels of Validation: tensor([70, 71,  6, 11], device='cuda:0') torch.Size([4])\n",
      "08/25/2023, 07:12:41# predicted of Validation: tensor([ 70,  18, 132,  18], device='cuda:0') torch.Size([4])\n",
      "08/25/2023, 07:12:47# labels of Validation: tensor([ 28,   3,  91, 136], device='cuda:0') torch.Size([4])\n",
      "08/25/2023, 07:12:47# predicted of Validation: tensor([132,   3, 132, 136], device='cuda:0') torch.Size([4])\n",
      "08/25/2023, 07:12:53# labels of Validation: tensor([122,  85, 142,  62], device='cuda:0') torch.Size([4])\n",
      "08/25/2023, 07:12:53# predicted of Validation: tensor([122,  85,  18,  62], device='cuda:0') torch.Size([4])\n",
      "08/25/2023, 07:12:54# Validation Loss: 2.7464 | Validation Accuracy: 0.3805\n",
      "\n"
     ]
    },
    {
     "data": {
      "application/vnd.jupyter.widget-view+json": {
       "model_id": "91e4c11b60744a8e9c651f20d4eedf9d",
       "version_major": 2,
       "version_minor": 0
      },
      "text/plain": [
       "Training:   0%|          | 0/33000 [00:00<?, ?it/s]"
      ]
     },
     "metadata": {},
     "output_type": "display_data"
    },
    {
     "name": "stdout",
     "output_type": "stream",
     "text": [
      "08/25/2023, 07:14:35# labels of 5000: tensor([ 49, 162,  23,   1], device='cuda:0') torch.Size([4])\n",
      "08/25/2023, 07:14:35# predicted of 5000: tensor([ 10,  47,  23, 135], device='cuda:0') torch.Size([4])\n",
      "08/25/2023, 07:16:16# labels of 10000: tensor([ 28, 105,  37,  63], device='cuda:0') torch.Size([4])\n",
      "08/25/2023, 07:16:16# predicted of 10000: tensor([132, 105, 131, 151], device='cuda:0') torch.Size([4])\n",
      "08/25/2023, 07:17:57# labels of 15000: tensor([128, 153, 105,  33], device='cuda:0') torch.Size([4])\n",
      "08/25/2023, 07:17:57# predicted of 15000: tensor([128,  91, 105, 158], device='cuda:0') torch.Size([4])\n",
      "08/25/2023, 07:19:38# labels of 20000: tensor([158, 126,  20,  49], device='cuda:0') torch.Size([4])\n",
      "08/25/2023, 07:19:38# predicted of 20000: tensor([148, 126,  12, 111], device='cuda:0') torch.Size([4])\n",
      "08/25/2023, 07:21:18# labels of 25000: tensor([75, 88, 98, 73], device='cuda:0') torch.Size([4])\n",
      "08/25/2023, 07:21:18# predicted of 25000: tensor([58, 28, 76, 73], device='cuda:0') torch.Size([4])\n",
      "08/25/2023, 07:22:59# labels of 30000: tensor([38, 35, 70, 52], device='cuda:0') torch.Size([4])\n",
      "08/25/2023, 07:22:59# predicted of 30000: tensor([76, 35, 70, 52], device='cuda:0') torch.Size([4])\n",
      "08/25/2023, 07:24:00# total batches: 33000\n",
      "08/25/2023, 07:24:00# Epoch 47 | Train Loss: 2.7587 | Train Accuracy: 0.3829\n"
     ]
    },
    {
     "data": {
      "application/vnd.jupyter.widget-view+json": {
       "model_id": "c38fc19f13eb44de9e66424861fe184d",
       "version_major": 2,
       "version_minor": 0
      },
      "text/plain": [
       "Validation:   0%|          | 0/4125 [00:00<?, ?it/s]"
      ]
     },
     "metadata": {},
     "output_type": "display_data"
    },
    {
     "name": "stdout",
     "output_type": "stream",
     "text": [
      "08/25/2023, 07:24:00# labels of Validation: tensor([143, 107,  62,  73], device='cuda:0') torch.Size([4])\n",
      "08/25/2023, 07:24:00# predicted of Validation: tensor([49, 28, 62, 73], device='cuda:0') torch.Size([4])\n",
      "08/25/2023, 07:24:00# labels of 0: tensor([143, 107,  62,  73], device='cuda:0') torch.Size([4])\n",
      "08/25/2023, 07:24:00# predicted of 0: tensor([49, 28, 62, 73], device='cuda:0') torch.Size([4])\n",
      "08/25/2023, 07:24:07# labels of Validation: tensor([96, 93,  0, 52], device='cuda:0') torch.Size([4])\n",
      "08/25/2023, 07:24:07# predicted of Validation: tensor([96, 28,  0, 52], device='cuda:0') torch.Size([4])\n",
      "08/25/2023, 07:24:13# labels of Validation: tensor([129,   2,  76,   4], device='cuda:0') torch.Size([4])\n",
      "08/25/2023, 07:24:13# predicted of Validation: tensor([28, 49, 49, 49], device='cuda:0') torch.Size([4])\n",
      "08/25/2023, 07:24:19# labels of Validation: tensor([123, 138, 112,  49], device='cuda:0') torch.Size([4])\n",
      "08/25/2023, 07:24:19# predicted of Validation: tensor([123, 138,  49,  49], device='cuda:0') torch.Size([4])\n",
      "08/25/2023, 07:24:25# labels of Validation: tensor([ 75,  12, 121, 152], device='cuda:0') torch.Size([4])\n",
      "08/25/2023, 07:24:25# predicted of Validation: tensor([49, 49, 49, 49], device='cuda:0') torch.Size([4])\n",
      "08/25/2023, 07:24:26# Validation Loss: 2.7460 | Validation Accuracy: 0.3805\n",
      "\n"
     ]
    },
    {
     "data": {
      "application/vnd.jupyter.widget-view+json": {
       "model_id": "f5562a88f6554cbeb09bd603d7104a18",
       "version_major": 2,
       "version_minor": 0
      },
      "text/plain": [
       "Training:   0%|          | 0/33000 [00:00<?, ?it/s]"
      ]
     },
     "metadata": {},
     "output_type": "display_data"
    },
    {
     "name": "stdout",
     "output_type": "stream",
     "text": [
      "08/25/2023, 07:26:07# labels of 5000: tensor([ 87,  10, 104,  40], device='cuda:0') torch.Size([4])\n",
      "08/25/2023, 07:26:07# predicted of 5000: tensor([81, 81, 81, 40], device='cuda:0') torch.Size([4])\n",
      "08/25/2023, 07:27:52# labels of 10000: tensor([ 76, 126,  87, 151], device='cuda:0') torch.Size([4])\n",
      "08/25/2023, 07:27:52# predicted of 10000: tensor([135, 126,  97,  83], device='cuda:0') torch.Size([4])\n",
      "08/25/2023, 07:29:18# labels of 15000: tensor([ 76, 136,  47, 143], device='cuda:0') torch.Size([4])\n",
      "08/25/2023, 07:29:18# predicted of 15000: tensor([153, 136,  87,   9], device='cuda:0') torch.Size([4])\n",
      "08/25/2023, 07:30:58# labels of 20000: tensor([153, 110,  99, 114], device='cuda:0') torch.Size([4])\n",
      "08/25/2023, 07:30:58# predicted of 20000: tensor([  4, 161,  99, 161], device='cuda:0') torch.Size([4])\n",
      "08/25/2023, 07:32:39# labels of 25000: tensor([ 96, 162,  17, 118], device='cuda:0') torch.Size([4])\n",
      "08/25/2023, 07:32:39# predicted of 25000: tensor([ 96, 119,  17, 118], device='cuda:0') torch.Size([4])\n",
      "08/25/2023, 07:34:20# labels of 30000: tensor([81, 27, 75, 79], device='cuda:0') torch.Size([4])\n",
      "08/25/2023, 07:34:20# predicted of 30000: tensor([139,  27,   1,  79], device='cuda:0') torch.Size([4])\n",
      "08/25/2023, 07:35:20# total batches: 33000\n",
      "08/25/2023, 07:35:20# Epoch 48 | Train Loss: 2.7588 | Train Accuracy: 0.3825\n"
     ]
    },
    {
     "data": {
      "application/vnd.jupyter.widget-view+json": {
       "model_id": "dc046eb878ca4130b421559764cbd1ee",
       "version_major": 2,
       "version_minor": 0
      },
      "text/plain": [
       "Validation:   0%|          | 0/4125 [00:00<?, ?it/s]"
      ]
     },
     "metadata": {},
     "output_type": "display_data"
    },
    {
     "name": "stdout",
     "output_type": "stream",
     "text": [
      "08/25/2023, 07:35:20# labels of Validation: tensor([121, 106,  18,  14], device='cuda:0') torch.Size([4])\n",
      "08/25/2023, 07:35:20# predicted of Validation: tensor([ 54, 106,  54,  54], device='cuda:0') torch.Size([4])\n",
      "08/25/2023, 07:35:20# labels of 0: tensor([121, 106,  18,  14], device='cuda:0') torch.Size([4])\n",
      "08/25/2023, 07:35:20# predicted of 0: tensor([ 54, 106,  54,  54], device='cuda:0') torch.Size([4])\n",
      "08/25/2023, 07:35:26# labels of Validation: tensor([ 38, 125,  59,  18], device='cuda:0') torch.Size([4])\n",
      "08/25/2023, 07:35:26# predicted of Validation: tensor([ 54,  54, 132,  54], device='cuda:0') torch.Size([4])\n",
      "08/25/2023, 07:35:32# labels of Validation: tensor([ 37, 102,   5, 122], device='cuda:0') torch.Size([4])\n",
      "08/25/2023, 07:35:32# predicted of Validation: tensor([  6,  54,   5, 122], device='cuda:0') torch.Size([4])\n",
      "08/25/2023, 07:35:38# labels of Validation: tensor([155, 118,  68,  54], device='cuda:0') torch.Size([4])\n",
      "08/25/2023, 07:35:38# predicted of Validation: tensor([132, 118,   6,  54], device='cuda:0') torch.Size([4])\n",
      "08/25/2023, 07:35:44# labels of Validation: tensor([ 70,  67, 153,  51], device='cuda:0') torch.Size([4])\n",
      "08/25/2023, 07:35:44# predicted of Validation: tensor([ 70,  67,  54, 132], device='cuda:0') torch.Size([4])\n",
      "08/25/2023, 07:35:45# Validation Loss: 2.7457 | Validation Accuracy: 0.3807\n",
      "\n"
     ]
    },
    {
     "data": {
      "application/vnd.jupyter.widget-view+json": {
       "model_id": "711d0be854784a778785e14bf0c499a4",
       "version_major": 2,
       "version_minor": 0
      },
      "text/plain": [
       "Training:   0%|          | 0/33000 [00:00<?, ?it/s]"
      ]
     },
     "metadata": {},
     "output_type": "display_data"
    },
    {
     "name": "stdout",
     "output_type": "stream",
     "text": [
      "08/25/2023, 07:37:26# labels of 5000: tensor([  7,  55, 119, 102], device='cuda:0') torch.Size([4])\n",
      "08/25/2023, 07:37:26# predicted of 5000: tensor([ 7, 58,  1, 26], device='cuda:0') torch.Size([4])\n",
      "08/25/2023, 07:39:03# labels of 10000: tensor([ 80,  49, 151,  21], device='cuda:0') torch.Size([4])\n",
      "08/25/2023, 07:39:03# predicted of 10000: tensor([80, 58, 81, 51], device='cuda:0') torch.Size([4])\n",
      "08/25/2023, 07:40:44# labels of 15000: tensor([130, 108,  69,  56], device='cuda:0') torch.Size([4])\n",
      "08/25/2023, 07:40:44# predicted of 15000: tensor([130, 132,  69,  56], device='cuda:0') torch.Size([4])\n",
      "08/25/2023, 07:42:25# labels of 20000: tensor([132,  85,  48,  49], device='cuda:0') torch.Size([4])\n",
      "08/25/2023, 07:42:25# predicted of 20000: tensor([132,  85,  34,  34], device='cuda:0') torch.Size([4])\n",
      "08/25/2023, 07:44:06# labels of 25000: tensor([ 29, 150,  79,  74], device='cuda:0') torch.Size([4])\n",
      "08/25/2023, 07:44:06# predicted of 25000: tensor([ 29, 129,  79, 142], device='cuda:0') torch.Size([4])\n",
      "08/25/2023, 07:45:47# labels of 30000: tensor([150, 130,  58,  79], device='cuda:0') torch.Size([4])\n",
      "08/25/2023, 07:45:47# predicted of 30000: tensor([ 41, 130,  41,  72], device='cuda:0') torch.Size([4])\n",
      "08/25/2023, 07:46:48# total batches: 33000\n",
      "08/25/2023, 07:46:48# Epoch 49 | Train Loss: 2.7582 | Train Accuracy: 0.3828\n"
     ]
    },
    {
     "data": {
      "application/vnd.jupyter.widget-view+json": {
       "model_id": "ea3fb22d1a8f4372a3d83b8be15d9156",
       "version_major": 2,
       "version_minor": 0
      },
      "text/plain": [
       "Validation:   0%|          | 0/4125 [00:00<?, ?it/s]"
      ]
     },
     "metadata": {},
     "output_type": "display_data"
    },
    {
     "name": "stdout",
     "output_type": "stream",
     "text": [
      "08/25/2023, 07:46:48# labels of Validation: tensor([37, 33, 81, 72], device='cuda:0') torch.Size([4])\n",
      "08/25/2023, 07:46:48# predicted of Validation: tensor([ 51, 153, 153,  72], device='cuda:0') torch.Size([4])\n",
      "08/25/2023, 07:46:48# labels of 0: tensor([37, 33, 81, 72], device='cuda:0') torch.Size([4])\n",
      "08/25/2023, 07:46:48# predicted of 0: tensor([ 51, 153, 153,  72], device='cuda:0') torch.Size([4])\n",
      "08/25/2023, 07:46:54# labels of Validation: tensor([111,  45,  33, 146], device='cuda:0') torch.Size([4])\n",
      "08/25/2023, 07:46:54# predicted of Validation: tensor([153,  45, 153, 146], device='cuda:0') torch.Size([4])\n",
      "08/25/2023, 07:47:00# labels of Validation: tensor([ 16, 121,  29,  46], device='cuda:0') torch.Size([4])\n",
      "08/25/2023, 07:47:00# predicted of Validation: tensor([ 16, 153,  29, 153], device='cuda:0') torch.Size([4])\n",
      "08/25/2023, 07:47:06# labels of Validation: tensor([ 50,  63,  74, 151], device='cuda:0') torch.Size([4])\n",
      "08/25/2023, 07:47:06# predicted of Validation: tensor([ 50, 153, 153, 153], device='cuda:0') torch.Size([4])\n",
      "08/25/2023, 07:47:12# labels of Validation: tensor([148,  95,  93,  54], device='cuda:0') torch.Size([4])\n",
      "08/25/2023, 07:47:12# predicted of Validation: tensor([ 51,  95,  51, 153], device='cuda:0') torch.Size([4])\n",
      "08/25/2023, 07:47:13# Validation Loss: 2.7453 | Validation Accuracy: 0.3805\n",
      "\n"
     ]
    },
    {
     "data": {
      "application/vnd.jupyter.widget-view+json": {
       "model_id": "a46129ccde354c8b8359b981762a3b4c",
       "version_major": 2,
       "version_minor": 0
      },
      "text/plain": [
       "Training:   0%|          | 0/33000 [00:00<?, ?it/s]"
      ]
     },
     "metadata": {},
     "output_type": "display_data"
    },
    {
     "name": "stdout",
     "output_type": "stream",
     "text": [
      "08/25/2023, 07:48:54# labels of 5000: tensor([159, 102, 147,  91], device='cuda:0') torch.Size([4])\n",
      "08/25/2023, 07:48:54# predicted of 5000: tensor([159,  10, 147,  28], device='cuda:0') torch.Size([4])\n",
      "08/25/2023, 07:50:34# labels of 10000: tensor([83, 32, 20, 44], device='cuda:0') torch.Size([4])\n",
      "08/25/2023, 07:50:34# predicted of 10000: tensor([12, 32, 98, 34], device='cuda:0') torch.Size([4])\n",
      "08/25/2023, 07:52:15# labels of 15000: tensor([117, 115, 112,  94], device='cuda:0') torch.Size([4])\n",
      "08/25/2023, 07:52:15# predicted of 15000: tensor([117, 115, 114,  94], device='cuda:0') torch.Size([4])\n",
      "08/25/2023, 07:53:57# labels of 20000: tensor([ 57, 137, 138, 103], device='cuda:0') torch.Size([4])\n",
      "08/25/2023, 07:53:57# predicted of 20000: tensor([ 11,  11, 138, 131], device='cuda:0') torch.Size([4])\n",
      "08/25/2023, 07:55:37# labels of 25000: tensor([89, 10, 51, 23], device='cuda:0') torch.Size([4])\n",
      "08/25/2023, 07:55:37# predicted of 25000: tensor([ 89, 100, 132,  23], device='cuda:0') torch.Size([4])\n",
      "08/25/2023, 07:57:11# labels of 30000: tensor([166,  76,   8,  98], device='cuda:0') torch.Size([4])\n",
      "08/25/2023, 07:57:11# predicted of 30000: tensor([28, 57, 28, 77], device='cuda:0') torch.Size([4])\n",
      "08/25/2023, 07:58:12# total batches: 33000\n",
      "08/25/2023, 07:58:12# Epoch 50 | Train Loss: 2.7578 | Train Accuracy: 0.3824\n"
     ]
    },
    {
     "data": {
      "application/vnd.jupyter.widget-view+json": {
       "model_id": "def7f6e4775542cb9ee80aeb8fbfd93a",
       "version_major": 2,
       "version_minor": 0
      },
      "text/plain": [
       "Validation:   0%|          | 0/4125 [00:00<?, ?it/s]"
      ]
     },
     "metadata": {},
     "output_type": "display_data"
    },
    {
     "name": "stdout",
     "output_type": "stream",
     "text": [
      "08/25/2023, 07:58:12# labels of Validation: tensor([ 97, 113,  71,  12], device='cuda:0') torch.Size([4])\n",
      "08/25/2023, 07:58:12# predicted of Validation: tensor([49, 77, 49, 49], device='cuda:0') torch.Size([4])\n",
      "08/25/2023, 07:58:12# labels of 0: tensor([ 97, 113,  71,  12], device='cuda:0') torch.Size([4])\n",
      "08/25/2023, 07:58:12# predicted of 0: tensor([49, 77, 49, 49], device='cuda:0') torch.Size([4])\n",
      "08/25/2023, 07:58:18# labels of Validation: tensor([134,  89,  98, 152], device='cuda:0') torch.Size([4])\n",
      "08/25/2023, 07:58:18# predicted of Validation: tensor([134,  89,  49,  49], device='cuda:0') torch.Size([4])\n",
      "08/25/2023, 07:58:24# labels of Validation: tensor([45, 60, 75, 25], device='cuda:0') torch.Size([4])\n",
      "08/25/2023, 07:58:24# predicted of Validation: tensor([45, 49, 49, 25], device='cuda:0') torch.Size([4])\n",
      "08/25/2023, 07:58:30# labels of Validation: tensor([111, 126, 149, 148], device='cuda:0') torch.Size([4])\n",
      "08/25/2023, 07:58:30# predicted of Validation: tensor([ 49, 126, 149,  77], device='cuda:0') torch.Size([4])\n",
      "08/25/2023, 07:58:37# labels of Validation: tensor([137,  11,  84, 109], device='cuda:0') torch.Size([4])\n",
      "08/25/2023, 07:58:37# predicted of Validation: tensor([49, 49, 84, 49], device='cuda:0') torch.Size([4])\n",
      "08/25/2023, 07:58:37# Validation Loss: 2.7451 | Validation Accuracy: 0.3805\n",
      "\n"
     ]
    },
    {
     "data": {
      "application/vnd.jupyter.widget-view+json": {
       "model_id": "dde21318ad7a40d98646c548dbaba1d2",
       "version_major": 2,
       "version_minor": 0
      },
      "text/plain": [
       "Training:   0%|          | 0/33000 [00:00<?, ?it/s]"
      ]
     },
     "metadata": {},
     "output_type": "display_data"
    },
    {
     "name": "stdout",
     "output_type": "stream",
     "text": [
      "08/25/2023, 08:00:18# labels of 5000: tensor([ 97, 101, 122, 164], device='cuda:0') torch.Size([4])\n",
      "08/25/2023, 08:00:18# predicted of 5000: tensor([ 58, 129, 122,  74], device='cuda:0') torch.Size([4])\n",
      "08/25/2023, 08:01:59# labels of 10000: tensor([140,  50,  68,  33], device='cuda:0') torch.Size([4])\n",
      "08/25/2023, 08:01:59# predicted of 10000: tensor([140,  50, 161, 139], device='cuda:0') torch.Size([4])\n",
      "08/25/2023, 08:03:40# labels of 15000: tensor([116, 150, 129, 137], device='cuda:0') torch.Size([4])\n",
      "08/25/2023, 08:03:40# predicted of 15000: tensor([157, 157, 132,  12], device='cuda:0') torch.Size([4])\n",
      "08/25/2023, 08:05:21# labels of 20000: tensor([159,  47, 163,  60], device='cuda:0') torch.Size([4])\n",
      "08/25/2023, 08:05:21# predicted of 20000: tensor([159,  59,  37,  59], device='cuda:0') torch.Size([4])\n",
      "08/25/2023, 08:07:03# labels of 25000: tensor([ 87,  76, 142, 159], device='cuda:0') torch.Size([4])\n",
      "08/25/2023, 08:07:03# predicted of 25000: tensor([107, 107,  42, 159], device='cuda:0') torch.Size([4])\n",
      "08/25/2023, 08:08:43# labels of 30000: tensor([ 10,   3, 105,  72], device='cuda:0') torch.Size([4])\n",
      "08/25/2023, 08:08:43# predicted of 30000: tensor([ 88,   3, 105,  72], device='cuda:0') torch.Size([4])\n",
      "08/25/2023, 08:09:44# total batches: 33000\n",
      "08/25/2023, 08:09:44# Epoch 51 | Train Loss: 2.7582 | Train Accuracy: 0.3834\n"
     ]
    },
    {
     "data": {
      "application/vnd.jupyter.widget-view+json": {
       "model_id": "2f1cc926e30745d2a75dc993751853d1",
       "version_major": 2,
       "version_minor": 0
      },
      "text/plain": [
       "Validation:   0%|          | 0/4125 [00:00<?, ?it/s]"
      ]
     },
     "metadata": {},
     "output_type": "display_data"
    },
    {
     "name": "stdout",
     "output_type": "stream",
     "text": [
      "08/25/2023, 08:09:44# labels of Validation: tensor([  0, 114, 162,  69], device='cuda:0') torch.Size([4])\n",
      "08/25/2023, 08:09:44# predicted of Validation: tensor([ 0, 28, 47, 69], device='cuda:0') torch.Size([4])\n",
      "08/25/2023, 08:09:44# labels of 0: tensor([  0, 114, 162,  69], device='cuda:0') torch.Size([4])\n",
      "08/25/2023, 08:09:44# predicted of 0: tensor([ 0, 28, 47, 69], device='cuda:0') torch.Size([4])\n",
      "08/25/2023, 08:09:50# labels of Validation: tensor([143,  98,   7, 126], device='cuda:0') torch.Size([4])\n",
      "08/25/2023, 08:09:50# predicted of Validation: tensor([ 47,  47,   7, 126], device='cuda:0') torch.Size([4])\n",
      "08/25/2023, 08:09:56# labels of Validation: tensor([ 38, 116,   1,  24], device='cuda:0') torch.Size([4])\n",
      "08/25/2023, 08:09:56# predicted of Validation: tensor([47, 47, 47, 47], device='cuda:0') torch.Size([4])\n",
      "08/25/2023, 08:10:02# labels of Validation: tensor([ 17, 156,  85,  68], device='cuda:0') torch.Size([4])\n",
      "08/25/2023, 08:10:02# predicted of Validation: tensor([ 17, 156,  85,  28], device='cuda:0') torch.Size([4])\n",
      "08/25/2023, 08:10:09# labels of Validation: tensor([ 63, 109,  56,  59], device='cuda:0') torch.Size([4])\n",
      "08/25/2023, 08:10:09# predicted of Validation: tensor([47, 47, 56, 28], device='cuda:0') torch.Size([4])\n",
      "08/25/2023, 08:10:09# Validation Loss: 2.7447 | Validation Accuracy: 0.3805\n",
      "\n"
     ]
    },
    {
     "data": {
      "application/vnd.jupyter.widget-view+json": {
       "model_id": "87013c33fe8e4eb3b050b6da06b0690b",
       "version_major": 2,
       "version_minor": 0
      },
      "text/plain": [
       "Training:   0%|          | 0/33000 [00:00<?, ?it/s]"
      ]
     },
     "metadata": {},
     "output_type": "display_data"
    },
    {
     "name": "stdout",
     "output_type": "stream",
     "text": [
      "08/25/2023, 08:11:50# labels of 5000: tensor([157,   2,  20,  52], device='cuda:0') torch.Size([4])\n",
      "08/25/2023, 08:11:50# predicted of 5000: tensor([ 49,  49, 110,  52], device='cuda:0') torch.Size([4])\n",
      "08/25/2023, 08:13:31# labels of 10000: tensor([ 27,  18, 144,  12], device='cuda:0') torch.Size([4])\n",
      "08/25/2023, 08:13:31# predicted of 10000: tensor([27, 36, 36, 36], device='cuda:0') torch.Size([4])\n",
      "08/25/2023, 08:15:12# labels of 15000: tensor([ 50,  87,   1, 114], device='cuda:0') torch.Size([4])\n",
      "08/25/2023, 08:15:12# predicted of 15000: tensor([ 50,  81,  48, 161], device='cuda:0') torch.Size([4])\n",
      "08/25/2023, 08:16:53# labels of 20000: tensor([138,  51, 131, 158], device='cuda:0') torch.Size([4])\n",
      "08/25/2023, 08:16:53# predicted of 20000: tensor([138, 132, 132,  42], device='cuda:0') torch.Size([4])\n",
      "08/25/2023, 08:18:27# labels of 25000: tensor([21, 30, 78, 68], device='cuda:0') torch.Size([4])\n",
      "08/25/2023, 08:18:27# predicted of 25000: tensor([28, 98, 78, 28], device='cuda:0') torch.Size([4])\n",
      "08/25/2023, 08:20:08# labels of 30000: tensor([ 70, 137, 127,  19], device='cuda:0') torch.Size([4])\n",
      "08/25/2023, 08:20:08# predicted of 30000: tensor([ 70, 157, 127,  88], device='cuda:0') torch.Size([4])\n",
      "08/25/2023, 08:21:09# total batches: 33000\n",
      "08/25/2023, 08:21:09# Epoch 52 | Train Loss: 2.7575 | Train Accuracy: 0.3820\n"
     ]
    },
    {
     "data": {
      "application/vnd.jupyter.widget-view+json": {
       "model_id": "6d427e3817574d19a7746c0506a63d50",
       "version_major": 2,
       "version_minor": 0
      },
      "text/plain": [
       "Validation:   0%|          | 0/4125 [00:00<?, ?it/s]"
      ]
     },
     "metadata": {},
     "output_type": "display_data"
    },
    {
     "name": "stdout",
     "output_type": "stream",
     "text": [
      "08/25/2023, 08:21:09# labels of Validation: tensor([ 63,  10, 115, 105], device='cuda:0') torch.Size([4])\n",
      "08/25/2023, 08:21:09# predicted of Validation: tensor([ 38,  38, 115, 105], device='cuda:0') torch.Size([4])\n",
      "08/25/2023, 08:21:09# labels of 0: tensor([ 63,  10, 115, 105], device='cuda:0') torch.Size([4])\n",
      "08/25/2023, 08:21:09# predicted of 0: tensor([ 38,  38, 115, 105], device='cuda:0') torch.Size([4])\n",
      "08/25/2023, 08:21:15# labels of Validation: tensor([138, 124,  21, 160], device='cuda:0') torch.Size([4])\n",
      "08/25/2023, 08:21:15# predicted of Validation: tensor([138,  38, 161,  51], device='cuda:0') torch.Size([4])\n",
      "08/25/2023, 08:21:21# labels of Validation: tensor([155, 114, 138,   6], device='cuda:0') torch.Size([4])\n",
      "08/25/2023, 08:21:21# predicted of Validation: tensor([161,  51, 138, 161], device='cuda:0') torch.Size([4])\n",
      "08/25/2023, 08:21:28# labels of Validation: tensor([93, 37, 58, 91], device='cuda:0') torch.Size([4])\n",
      "08/25/2023, 08:21:28# predicted of Validation: tensor([ 51,  51,  38, 161], device='cuda:0') torch.Size([4])\n",
      "08/25/2023, 08:21:34# labels of Validation: tensor([122,  44,  71,  43], device='cuda:0') torch.Size([4])\n",
      "08/25/2023, 08:21:34# predicted of Validation: tensor([122,  38,  38,  38], device='cuda:0') torch.Size([4])\n",
      "08/25/2023, 08:21:35# Validation Loss: 2.7448 | Validation Accuracy: 0.3806\n",
      "\n"
     ]
    },
    {
     "data": {
      "application/vnd.jupyter.widget-view+json": {
       "model_id": "3c9633f951974d44a7f0a4d2a0d74118",
       "version_major": 2,
       "version_minor": 0
      },
      "text/plain": [
       "Training:   0%|          | 0/33000 [00:00<?, ?it/s]"
      ]
     },
     "metadata": {},
     "output_type": "display_data"
    },
    {
     "name": "stdout",
     "output_type": "stream",
     "text": [
      "08/25/2023, 08:23:02# labels of 5000: tensor([101, 134, 110, 105], device='cuda:0') torch.Size([4])\n",
      "08/25/2023, 08:23:02# predicted of 5000: tensor([131, 134, 131, 105], device='cuda:0') torch.Size([4])\n",
      "08/25/2023, 08:24:42# labels of 10000: tensor([139,  57, 141, 120], device='cuda:0') torch.Size([4])\n",
      "08/25/2023, 08:24:42# predicted of 10000: tensor([142, 119,  91, 120], device='cuda:0') torch.Size([4])\n",
      "08/25/2023, 08:26:23# labels of 15000: tensor([ 15, 111,   1,  91], device='cuda:0') torch.Size([4])\n",
      "08/25/2023, 08:26:23# predicted of 15000: tensor([15,  2,  2,  6], device='cuda:0') torch.Size([4])\n",
      "08/25/2023, 08:28:04# labels of 20000: tensor([  0,  69, 118,  86], device='cuda:0') torch.Size([4])\n",
      "08/25/2023, 08:28:04# predicted of 20000: tensor([  0,  69, 118, 121], device='cuda:0') torch.Size([4])\n",
      "08/25/2023, 08:29:44# labels of 25000: tensor([ 51, 150, 145, 112], device='cuda:0') torch.Size([4])\n",
      "08/25/2023, 08:29:44# predicted of 25000: tensor([132,  26, 145,  26], device='cuda:0') torch.Size([4])\n",
      "08/25/2023, 08:31:26# labels of 30000: tensor([ 25,  42, 106,   6], device='cuda:0') torch.Size([4])\n",
      "08/25/2023, 08:31:26# predicted of 30000: tensor([ 25,  31, 106, 132], device='cuda:0') torch.Size([4])\n",
      "08/25/2023, 08:32:26# total batches: 33000\n",
      "08/25/2023, 08:32:26# Epoch 53 | Train Loss: 2.7567 | Train Accuracy: 0.3827\n"
     ]
    },
    {
     "data": {
      "application/vnd.jupyter.widget-view+json": {
       "model_id": "809678c991c54127a6214ca1f67eb833",
       "version_major": 2,
       "version_minor": 0
      },
      "text/plain": [
       "Validation:   0%|          | 0/4125 [00:00<?, ?it/s]"
      ]
     },
     "metadata": {},
     "output_type": "display_data"
    },
    {
     "name": "stdout",
     "output_type": "stream",
     "text": [
      "08/25/2023, 08:32:26# labels of Validation: tensor([ 52, 116,  52,  55], device='cuda:0') torch.Size([4])\n",
      "08/25/2023, 08:32:26# predicted of Validation: tensor([ 52, 153,  52, 153], device='cuda:0') torch.Size([4])\n",
      "08/25/2023, 08:32:26# labels of 0: tensor([ 52, 116,  52,  55], device='cuda:0') torch.Size([4])\n",
      "08/25/2023, 08:32:26# predicted of 0: tensor([ 52, 153,  52, 153], device='cuda:0') torch.Size([4])\n",
      "08/25/2023, 08:32:32# labels of Validation: tensor([49, 35, 68, 91], device='cuda:0') torch.Size([4])\n",
      "08/25/2023, 08:32:32# predicted of Validation: tensor([153,  35, 131, 132], device='cuda:0') torch.Size([4])\n",
      "08/25/2023, 08:32:39# labels of Validation: tensor([ 67,  11, 108, 155], device='cuda:0') torch.Size([4])\n",
      "08/25/2023, 08:32:39# predicted of Validation: tensor([ 67, 153, 132, 132], device='cuda:0') torch.Size([4])\n",
      "08/25/2023, 08:32:45# labels of Validation: tensor([ 63, 129, 110,  68], device='cuda:0') torch.Size([4])\n",
      "08/25/2023, 08:32:45# predicted of Validation: tensor([153, 131, 131, 131], device='cuda:0') torch.Size([4])\n",
      "08/25/2023, 08:32:51# labels of Validation: tensor([163,  30,  86, 136], device='cuda:0') torch.Size([4])\n",
      "08/25/2023, 08:32:51# predicted of Validation: tensor([153, 153, 153, 136], device='cuda:0') torch.Size([4])\n",
      "08/25/2023, 08:32:52# Validation Loss: 2.7440 | Validation Accuracy: 0.3805\n",
      "\n"
     ]
    },
    {
     "data": {
      "application/vnd.jupyter.widget-view+json": {
       "model_id": "b6bd40063d334e8b9c16759806da11a1",
       "version_major": 2,
       "version_minor": 0
      },
      "text/plain": [
       "Training:   0%|          | 0/33000 [00:00<?, ?it/s]"
      ]
     },
     "metadata": {},
     "output_type": "display_data"
    },
    {
     "name": "stdout",
     "output_type": "stream",
     "text": [
      "08/25/2023, 08:34:33# labels of 5000: tensor([150, 100,  59, 100], device='cuda:0') torch.Size([4])\n",
      "08/25/2023, 08:34:33# predicted of 5000: tensor([26,  6,  6, 59], device='cuda:0') torch.Size([4])\n",
      "08/25/2023, 08:36:14# labels of 10000: tensor([ 69,  88, 158, 143], device='cuda:0') torch.Size([4])\n",
      "08/25/2023, 08:36:14# predicted of 10000: tensor([ 69, 155, 152, 152], device='cuda:0') torch.Size([4])\n",
      "08/25/2023, 08:37:57# labels of 15000: tensor([ 16,   6, 128,  88], device='cuda:0') torch.Size([4])\n",
      "08/25/2023, 08:37:57# predicted of 15000: tensor([ 16, 161, 128, 166], device='cuda:0') torch.Size([4])\n",
      "08/25/2023, 08:39:38# labels of 20000: tensor([ 75,  33, 160, 163], device='cuda:0') torch.Size([4])\n",
      "08/25/2023, 08:39:38# predicted of 20000: tensor([144, 102, 108,   2], device='cuda:0') torch.Size([4])\n",
      "08/25/2023, 08:41:20# labels of 25000: tensor([ 44,   9, 154, 164], device='cuda:0') torch.Size([4])\n",
      "08/25/2023, 08:41:20# predicted of 25000: tensor([ 90,  43, 154,   8], device='cuda:0') torch.Size([4])\n",
      "08/25/2023, 08:43:01# labels of 30000: tensor([138, 102,  85, 138], device='cuda:0') torch.Size([4])\n",
      "08/25/2023, 08:43:01# predicted of 30000: tensor([138, 141,  85, 138], device='cuda:0') torch.Size([4])\n",
      "08/25/2023, 08:44:01# total batches: 33000\n",
      "08/25/2023, 08:44:01# Epoch 54 | Train Loss: 2.7567 | Train Accuracy: 0.3832\n"
     ]
    },
    {
     "data": {
      "application/vnd.jupyter.widget-view+json": {
       "model_id": "954db2c3fa074e35939393348986e6f5",
       "version_major": 2,
       "version_minor": 0
      },
      "text/plain": [
       "Validation:   0%|          | 0/4125 [00:00<?, ?it/s]"
      ]
     },
     "metadata": {},
     "output_type": "display_data"
    },
    {
     "name": "stdout",
     "output_type": "stream",
     "text": [
      "08/25/2023, 08:44:01# labels of Validation: tensor([130,  24,  31,  71], device='cuda:0') torch.Size([4])\n",
      "08/25/2023, 08:44:01# predicted of Validation: tensor([130,  76,  76,  76], device='cuda:0') torch.Size([4])\n",
      "08/25/2023, 08:44:01# labels of 0: tensor([130,  24,  31,  71], device='cuda:0') torch.Size([4])\n",
      "08/25/2023, 08:44:01# predicted of 0: tensor([130,  76,  76,  76], device='cuda:0') torch.Size([4])\n",
      "08/25/2023, 08:44:07# labels of Validation: tensor([157,  96,  10,   2], device='cuda:0') torch.Size([4])\n",
      "08/25/2023, 08:44:07# predicted of Validation: tensor([76, 96, 76, 76], device='cuda:0') torch.Size([4])\n",
      "08/25/2023, 08:44:14# labels of Validation: tensor([ 32,  13, 166,  38], device='cuda:0') torch.Size([4])\n",
      "08/25/2023, 08:44:14# predicted of Validation: tensor([32, 13,  6, 76], device='cuda:0') torch.Size([4])\n",
      "08/25/2023, 08:44:20# labels of Validation: tensor([ 39,  84,  95, 135], device='cuda:0') torch.Size([4])\n",
      "08/25/2023, 08:44:20# predicted of Validation: tensor([39, 84, 95, 76], device='cuda:0') torch.Size([4])\n",
      "08/25/2023, 08:44:26# labels of Validation: tensor([116, 160,  98, 134], device='cuda:0') torch.Size([4])\n",
      "08/25/2023, 08:44:26# predicted of Validation: tensor([ 76,   6,  76, 134], device='cuda:0') torch.Size([4])\n",
      "08/25/2023, 08:44:27# Validation Loss: 2.7438 | Validation Accuracy: 0.3807\n",
      "\n"
     ]
    },
    {
     "data": {
      "application/vnd.jupyter.widget-view+json": {
       "model_id": "6ad8b808def14a5c8ad30b682b1e5b4a",
       "version_major": 2,
       "version_minor": 0
      },
      "text/plain": [
       "Training:   0%|          | 0/33000 [00:00<?, ?it/s]"
      ]
     },
     "metadata": {},
     "output_type": "display_data"
    },
    {
     "name": "stdout",
     "output_type": "stream",
     "text": [
      "08/25/2023, 08:46:08# labels of 5000: tensor([102,  14,  38,  85], device='cuda:0') torch.Size([4])\n",
      "08/25/2023, 08:46:08# predicted of 5000: tensor([152,  18, 152,  85], device='cuda:0') torch.Size([4])\n",
      "08/25/2023, 08:47:48# labels of 10000: tensor([ 44, 158,   6,  41], device='cuda:0') torch.Size([4])\n",
      "08/25/2023, 08:47:48# predicted of 10000: tensor([ 68,  68, 132, 163], device='cuda:0') torch.Size([4])\n",
      "08/25/2023, 08:49:29# labels of 15000: tensor([ 28, 118, 107,  42], device='cuda:0') torch.Size([4])\n",
      "08/25/2023, 08:49:29# predicted of 15000: tensor([132, 118,  28,  14], device='cuda:0') torch.Size([4])\n",
      "08/25/2023, 08:51:10# labels of 20000: tensor([ 57, 112, 151,  68], device='cuda:0') torch.Size([4])\n",
      "08/25/2023, 08:51:10# predicted of 20000: tensor([26, 43, 38, 51], device='cuda:0') torch.Size([4])\n",
      "08/25/2023, 08:52:51# labels of 25000: tensor([143, 160,  58, 148], device='cuda:0') torch.Size([4])\n",
      "08/25/2023, 08:52:51# predicted of 25000: tensor([  1, 161,  58, 161], device='cuda:0') torch.Size([4])\n",
      "08/25/2023, 08:54:31# labels of 30000: tensor([72, 95, 60, 99], device='cuda:0') torch.Size([4])\n",
      "08/25/2023, 08:54:31# predicted of 30000: tensor([72, 95, 19, 99], device='cuda:0') torch.Size([4])\n",
      "08/25/2023, 08:55:33# total batches: 33000\n",
      "08/25/2023, 08:55:33# Epoch 55 | Train Loss: 2.7560 | Train Accuracy: 0.3831\n"
     ]
    },
    {
     "data": {
      "application/vnd.jupyter.widget-view+json": {
       "model_id": "a00a12054bf74ba6a2ff19ede5a631ae",
       "version_major": 2,
       "version_minor": 0
      },
      "text/plain": [
       "Validation:   0%|          | 0/4125 [00:00<?, ?it/s]"
      ]
     },
     "metadata": {},
     "output_type": "display_data"
    },
    {
     "name": "stdout",
     "output_type": "stream",
     "text": [
      "08/25/2023, 08:55:33# labels of Validation: tensor([ 51,  51, 141,   8], device='cuda:0') torch.Size([4])\n",
      "08/25/2023, 08:55:33# predicted of Validation: tensor([161, 161,   6,   6], device='cuda:0') torch.Size([4])\n",
      "08/25/2023, 08:55:33# labels of 0: tensor([ 51,  51, 141,   8], device='cuda:0') torch.Size([4])\n",
      "08/25/2023, 08:55:33# predicted of 0: tensor([161, 161,   6,   6], device='cuda:0') torch.Size([4])\n",
      "08/25/2023, 08:55:39# labels of Validation: tensor([ 61, 149,  47,   1], device='cuda:0') torch.Size([4])\n",
      "08/25/2023, 08:55:39# predicted of Validation: tensor([ 61, 149,  42,  42], device='cuda:0') torch.Size([4])\n",
      "08/25/2023, 08:55:45# labels of Validation: tensor([ 98, 151,  83,  56], device='cuda:0') torch.Size([4])\n",
      "08/25/2023, 08:55:45# predicted of Validation: tensor([42, 42, 42, 56], device='cuda:0') torch.Size([4])\n",
      "08/25/2023, 08:55:51# labels of Validation: tensor([ 57, 154,  88,  45], device='cuda:0') torch.Size([4])\n",
      "08/25/2023, 08:55:51# predicted of Validation: tensor([ 42, 154,   6,  45], device='cuda:0') torch.Size([4])\n",
      "08/25/2023, 08:55:58# labels of Validation: tensor([81, 69, 64, 78], device='cuda:0') torch.Size([4])\n",
      "08/25/2023, 08:55:58# predicted of Validation: tensor([42, 69,  6, 67], device='cuda:0') torch.Size([4])\n",
      "08/25/2023, 08:55:59# Validation Loss: 2.7429 | Validation Accuracy: 0.3809\n",
      "\n"
     ]
    },
    {
     "data": {
      "application/vnd.jupyter.widget-view+json": {
       "model_id": "1120dfc2f7584f0080c6b9396000260f",
       "version_major": 2,
       "version_minor": 0
      },
      "text/plain": [
       "Training:   0%|          | 0/33000 [00:00<?, ?it/s]"
      ]
     },
     "metadata": {},
     "output_type": "display_data"
    },
    {
     "name": "stdout",
     "output_type": "stream",
     "text": [
      "08/25/2023, 08:57:40# labels of 5000: tensor([ 77,  46,  51, 104], device='cuda:0') torch.Size([4])\n",
      "08/25/2023, 08:57:40# predicted of 5000: tensor([ 51,  53, 161,  20], device='cuda:0') torch.Size([4])\n",
      "08/25/2023, 08:59:20# labels of 10000: tensor([ 54,  79,  26, 139], device='cuda:0') torch.Size([4])\n",
      "08/25/2023, 08:59:20# predicted of 10000: tensor([ 58, 130, 121, 121], device='cuda:0') torch.Size([4])\n",
      "08/25/2023, 09:01:01# labels of 15000: tensor([133, 103,  47,  53], device='cuda:0') torch.Size([4])\n",
      "08/25/2023, 09:01:01# predicted of 15000: tensor([64, 66, 58, 38], device='cuda:0') torch.Size([4])\n",
      "08/25/2023, 09:02:42# labels of 20000: tensor([ 94,  52, 126,  60], device='cuda:0') torch.Size([4])\n",
      "08/25/2023, 09:02:42# predicted of 20000: tensor([ 94,  52, 126,  93], device='cuda:0') torch.Size([4])\n",
      "08/25/2023, 09:04:24# labels of 25000: tensor([ 70, 134,  62, 154], device='cuda:0') torch.Size([4])\n",
      "08/25/2023, 09:04:24# predicted of 25000: tensor([ 70, 134,  62, 154], device='cuda:0') torch.Size([4])\n",
      "08/25/2023, 09:06:05# labels of 30000: tensor([100,  27,  19,  41], device='cuda:0') torch.Size([4])\n",
      "08/25/2023, 09:06:05# predicted of 30000: tensor([  6,  27, 109, 113], device='cuda:0') torch.Size([4])\n",
      "08/25/2023, 09:07:06# total batches: 33000\n",
      "08/25/2023, 09:07:06# Epoch 56 | Train Loss: 2.7555 | Train Accuracy: 0.3831\n"
     ]
    },
    {
     "data": {
      "application/vnd.jupyter.widget-view+json": {
       "model_id": "bdb45d6ef8db4c3591aa73f6675d5d56",
       "version_major": 2,
       "version_minor": 0
      },
      "text/plain": [
       "Validation:   0%|          | 0/4125 [00:00<?, ?it/s]"
      ]
     },
     "metadata": {},
     "output_type": "display_data"
    },
    {
     "name": "stdout",
     "output_type": "stream",
     "text": [
      "08/25/2023, 09:07:06# labels of Validation: tensor([ 17,  84, 108, 129], device='cuda:0') torch.Size([4])\n",
      "08/25/2023, 09:07:06# predicted of Validation: tensor([ 17,  84, 132, 131], device='cuda:0') torch.Size([4])\n",
      "08/25/2023, 09:07:06# labels of 0: tensor([ 17,  84, 108, 129], device='cuda:0') torch.Size([4])\n",
      "08/25/2023, 09:07:06# predicted of 0: tensor([ 17,  84, 132, 131], device='cuda:0') torch.Size([4])\n",
      "08/25/2023, 09:07:12# labels of Validation: tensor([100,  74, 140, 145], device='cuda:0') torch.Size([4])\n",
      "08/25/2023, 09:07:12# predicted of Validation: tensor([131,  81, 140, 145], device='cuda:0') torch.Size([4])\n",
      "08/25/2023, 09:07:18# labels of Validation: tensor([ 15,  51, 148,  35], device='cuda:0') torch.Size([4])\n",
      "08/25/2023, 09:07:18# predicted of Validation: tensor([ 15, 132, 131,  35], device='cuda:0') torch.Size([4])\n",
      "08/25/2023, 09:07:25# labels of Validation: tensor([ 53, 109, 101,  81], device='cuda:0') torch.Size([4])\n",
      "08/25/2023, 09:07:25# predicted of Validation: tensor([ 81,  81, 132,  81], device='cuda:0') torch.Size([4])\n",
      "08/25/2023, 09:07:31# labels of Validation: tensor([ 24, 110,  68,   9], device='cuda:0') torch.Size([4])\n",
      "08/25/2023, 09:07:31# predicted of Validation: tensor([ 81, 131, 131,  81], device='cuda:0') torch.Size([4])\n",
      "08/25/2023, 09:07:31# Validation Loss: 2.7428 | Validation Accuracy: 0.3807\n",
      "\n"
     ]
    },
    {
     "data": {
      "application/vnd.jupyter.widget-view+json": {
       "model_id": "d1131f34b3a24465a05e899c0a03f13e",
       "version_major": 2,
       "version_minor": 0
      },
      "text/plain": [
       "Training:   0%|          | 0/33000 [00:00<?, ?it/s]"
      ]
     },
     "metadata": {},
     "output_type": "display_data"
    },
    {
     "name": "stdout",
     "output_type": "stream",
     "text": [
      "08/25/2023, 09:09:12# labels of 5000: tensor([122, 123,   5,  76], device='cuda:0') torch.Size([4])\n",
      "08/25/2023, 09:09:12# predicted of 5000: tensor([122, 123,   5,  43], device='cuda:0') torch.Size([4])\n",
      "08/25/2023, 09:10:53# labels of 10000: tensor([148,  41, 126,  39], device='cuda:0') torch.Size([4])\n",
      "08/25/2023, 09:10:53# predicted of 10000: tensor([101,  30, 126,  39], device='cuda:0') torch.Size([4])\n",
      "08/25/2023, 09:12:34# labels of 15000: tensor([150,  82, 142, 114], device='cuda:0') torch.Size([4])\n",
      "08/25/2023, 09:12:34# predicted of 15000: tensor([150,  82, 150, 166], device='cuda:0') torch.Size([4])\n",
      "08/25/2023, 09:14:15# labels of 20000: tensor([ 67,  32, 120,  93], device='cuda:0') torch.Size([4])\n",
      "08/25/2023, 09:14:15# predicted of 20000: tensor([ 78,  32, 120, 155], device='cuda:0') torch.Size([4])\n",
      "08/25/2023, 09:15:56# labels of 25000: tensor([ 76,  99, 135,  37], device='cuda:0') torch.Size([4])\n",
      "08/25/2023, 09:15:56# predicted of 25000: tensor([36, 99, 36, 68], device='cuda:0') torch.Size([4])\n",
      "08/25/2023, 09:17:20# labels of 30000: tensor([113,   2,  11,  37], device='cuda:0') torch.Size([4])\n",
      "08/25/2023, 09:17:20# predicted of 30000: tensor([155, 141,  33, 155], device='cuda:0') torch.Size([4])\n",
      "08/25/2023, 09:18:04# total batches: 33000\n",
      "08/25/2023, 09:18:04# Epoch 57 | Train Loss: 2.7555 | Train Accuracy: 0.3830\n"
     ]
    },
    {
     "data": {
      "application/vnd.jupyter.widget-view+json": {
       "model_id": "d34739a1f8e24409b61eb738c054575e",
       "version_major": 2,
       "version_minor": 0
      },
      "text/plain": [
       "Validation:   0%|          | 0/4125 [00:00<?, ?it/s]"
      ]
     },
     "metadata": {},
     "output_type": "display_data"
    },
    {
     "name": "stdout",
     "output_type": "stream",
     "text": [
      "08/25/2023, 09:18:04# labels of Validation: tensor([ 77,  57,  49, 142], device='cuda:0') torch.Size([4])\n",
      "08/25/2023, 09:18:04# predicted of Validation: tensor([132,  31,  31,  31], device='cuda:0') torch.Size([4])\n",
      "08/25/2023, 09:18:04# labels of 0: tensor([ 77,  57,  49, 142], device='cuda:0') torch.Size([4])\n",
      "08/25/2023, 09:18:04# predicted of 0: tensor([132,  31,  31,  31], device='cuda:0') torch.Size([4])\n",
      "08/25/2023, 09:18:10# labels of Validation: tensor([ 15, 152,  94,  85], device='cuda:0') torch.Size([4])\n",
      "08/25/2023, 09:18:10# predicted of Validation: tensor([15, 31, 94, 85], device='cuda:0') torch.Size([4])\n",
      "08/25/2023, 09:18:16# labels of Validation: tensor([ 44, 126,  88, 132], device='cuda:0') torch.Size([4])\n",
      "08/25/2023, 09:18:16# predicted of Validation: tensor([ 31, 126, 132, 132], device='cuda:0') torch.Size([4])\n",
      "08/25/2023, 09:18:22# labels of Validation: tensor([90, 68, 96,  5], device='cuda:0') torch.Size([4])\n",
      "08/25/2023, 09:18:22# predicted of Validation: tensor([132, 132,  96,   5], device='cuda:0') torch.Size([4])\n",
      "08/25/2023, 09:18:28# labels of Validation: tensor([ 97, 102, 114,  99], device='cuda:0') torch.Size([4])\n",
      "08/25/2023, 09:18:28# predicted of Validation: tensor([ 31,  31, 132,  99], device='cuda:0') torch.Size([4])\n",
      "08/25/2023, 09:18:29# Validation Loss: 2.7430 | Validation Accuracy: 0.3814\n",
      "\n"
     ]
    },
    {
     "data": {
      "application/vnd.jupyter.widget-view+json": {
       "model_id": "760befc0abb54ee4b4b2a8d8a01376b2",
       "version_major": 2,
       "version_minor": 0
      },
      "text/plain": [
       "Training:   0%|          | 0/33000 [00:00<?, ?it/s]"
      ]
     },
     "metadata": {},
     "output_type": "display_data"
    },
    {
     "name": "stdout",
     "output_type": "stream",
     "text": [
      "08/25/2023, 09:20:12# labels of 5000: tensor([ 95,  21, 144,  40], device='cuda:0') torch.Size([4])\n",
      "08/25/2023, 09:20:12# predicted of 5000: tensor([ 95, 132, 162,  40], device='cuda:0') torch.Size([4])\n",
      "08/25/2023, 09:21:40# labels of 10000: tensor([59, 95, 30, 18], device='cuda:0') torch.Size([4])\n",
      "08/25/2023, 09:21:40# predicted of 10000: tensor([132,  95, 107,  71], device='cuda:0') torch.Size([4])\n",
      "08/25/2023, 09:23:16# labels of 15000: tensor([ 38, 128, 137, 100], device='cuda:0') torch.Size([4])\n",
      "08/25/2023, 09:23:16# predicted of 15000: tensor([114, 128,   1, 161], device='cuda:0') torch.Size([4])\n",
      "08/25/2023, 09:24:47# labels of 20000: tensor([ 13,  95, 162, 112], device='cuda:0') torch.Size([4])\n",
      "08/25/2023, 09:24:47# predicted of 20000: tensor([ 13,  95, 137,  33], device='cuda:0') torch.Size([4])\n",
      "08/25/2023, 09:26:15# labels of 25000: tensor([27, 30, 63, 26], device='cuda:0') torch.Size([4])\n",
      "08/25/2023, 09:26:15# predicted of 25000: tensor([ 27,   2, 139, 139], device='cuda:0') torch.Size([4])\n",
      "08/25/2023, 09:27:43# labels of 30000: tensor([ 83, 110, 100,  64], device='cuda:0') torch.Size([4])\n",
      "08/25/2023, 09:27:43# predicted of 30000: tensor([ 41, 108, 161, 166], device='cuda:0') torch.Size([4])\n",
      "08/25/2023, 09:28:41# total batches: 33000\n",
      "08/25/2023, 09:28:41# Epoch 58 | Train Loss: 2.7550 | Train Accuracy: 0.3831\n"
     ]
    },
    {
     "data": {
      "application/vnd.jupyter.widget-view+json": {
       "model_id": "3acfad0a356e472f8440078568657a36",
       "version_major": 2,
       "version_minor": 0
      },
      "text/plain": [
       "Validation:   0%|          | 0/4125 [00:00<?, ?it/s]"
      ]
     },
     "metadata": {},
     "output_type": "display_data"
    },
    {
     "name": "stdout",
     "output_type": "stream",
     "text": [
      "08/25/2023, 09:28:41# labels of Validation: tensor([97, 11, 86, 99], device='cuda:0') torch.Size([4])\n",
      "08/25/2023, 09:28:41# predicted of Validation: tensor([63, 63, 63, 99], device='cuda:0') torch.Size([4])\n",
      "08/25/2023, 09:28:41# labels of 0: tensor([97, 11, 86, 99], device='cuda:0') torch.Size([4])\n",
      "08/25/2023, 09:28:41# predicted of 0: tensor([63, 63, 63, 99], device='cuda:0') torch.Size([4])\n",
      "08/25/2023, 09:28:50# labels of Validation: tensor([ 50, 110, 155,  24], device='cuda:0') torch.Size([4])\n",
      "08/25/2023, 09:28:50# predicted of Validation: tensor([50, 28, 28, 63], device='cuda:0') torch.Size([4])\n",
      "08/25/2023, 09:28:59# labels of Validation: tensor([ 33,   8, 138,  48], device='cuda:0') torch.Size([4])\n",
      "08/25/2023, 09:28:59# predicted of Validation: tensor([ 63,  28, 138,  63], device='cuda:0') torch.Size([4])\n",
      "08/25/2023, 09:29:08# labels of Validation: tensor([  9,  84, 102,  49], device='cuda:0') torch.Size([4])\n",
      "08/25/2023, 09:29:08# predicted of Validation: tensor([63, 84, 63, 63], device='cuda:0') torch.Size([4])\n",
      "08/25/2023, 09:29:18# labels of Validation: tensor([ 78,  10, 125,   0], device='cuda:0') torch.Size([4])\n",
      "08/25/2023, 09:29:18# predicted of Validation: tensor([78, 63, 63,  0], device='cuda:0') torch.Size([4])\n",
      "08/25/2023, 09:29:19# Validation Loss: 2.7425 | Validation Accuracy: 0.3808\n",
      "\n"
     ]
    },
    {
     "data": {
      "application/vnd.jupyter.widget-view+json": {
       "model_id": "53ec8c7fb3a94e298644fe9b54573359",
       "version_major": 2,
       "version_minor": 0
      },
      "text/plain": [
       "Training:   0%|          | 0/33000 [00:00<?, ?it/s]"
      ]
     },
     "metadata": {},
     "output_type": "display_data"
    },
    {
     "name": "stdout",
     "output_type": "stream",
     "text": [
      "08/25/2023, 09:30:45# labels of 5000: tensor([ 90,  35,   2, 141], device='cuda:0') torch.Size([4])\n",
      "08/25/2023, 09:30:45# predicted of 5000: tensor([101,  35,  74, 108], device='cuda:0') torch.Size([4])\n",
      "08/25/2023, 09:32:01# labels of 10000: tensor([ 53, 115, 107,  87], device='cuda:0') torch.Size([4])\n",
      "08/25/2023, 09:32:01# predicted of 10000: tensor([ 58, 115, 161,  58], device='cuda:0') torch.Size([4])\n",
      "08/25/2023, 09:33:25# labels of 15000: tensor([146,  45,  61, 143], device='cuda:0') torch.Size([4])\n",
      "08/25/2023, 09:33:25# predicted of 15000: tensor([146,  45,  61, 135], device='cuda:0') torch.Size([4])\n",
      "08/25/2023, 09:34:45# labels of 20000: tensor([ 56,  42, 114, 150], device='cuda:0') torch.Size([4])\n",
      "08/25/2023, 09:34:45# predicted of 20000: tensor([ 56, 125,  68, 125], device='cuda:0') torch.Size([4])\n",
      "08/25/2023, 09:36:04# labels of 25000: tensor([108,  94, 115,  44], device='cuda:0') torch.Size([4])\n",
      "08/25/2023, 09:36:04# predicted of 25000: tensor([161,  94, 115, 114], device='cuda:0') torch.Size([4])\n",
      "08/25/2023, 09:37:21# labels of 30000: tensor([ 1, 87, 39, 31], device='cuda:0') torch.Size([4])\n",
      "08/25/2023, 09:37:21# predicted of 30000: tensor([ 58,  14,  39, 107], device='cuda:0') torch.Size([4])\n",
      "08/25/2023, 09:38:08# total batches: 33000\n",
      "08/25/2023, 09:38:08# Epoch 59 | Train Loss: 2.7548 | Train Accuracy: 0.3828\n"
     ]
    },
    {
     "data": {
      "application/vnd.jupyter.widget-view+json": {
       "model_id": "1e4882a534e14c3d94671df628408897",
       "version_major": 2,
       "version_minor": 0
      },
      "text/plain": [
       "Validation:   0%|          | 0/4125 [00:00<?, ?it/s]"
      ]
     },
     "metadata": {},
     "output_type": "display_data"
    },
    {
     "name": "stdout",
     "output_type": "stream",
     "text": [
      "08/25/2023, 09:38:08# labels of Validation: tensor([ 97, 126,  75,  43], device='cuda:0') torch.Size([4])\n",
      "08/25/2023, 09:38:08# predicted of Validation: tensor([ 20, 126,  20,  20], device='cuda:0') torch.Size([4])\n",
      "08/25/2023, 09:38:08# labels of 0: tensor([ 97, 126,  75,  43], device='cuda:0') torch.Size([4])\n",
      "08/25/2023, 09:38:08# predicted of 0: tensor([ 20, 126,  20,  20], device='cuda:0') torch.Size([4])\n",
      "08/25/2023, 09:38:19# labels of Validation: tensor([ 35,  37,  37, 106], device='cuda:0') torch.Size([4])\n",
      "08/25/2023, 09:38:19# predicted of Validation: tensor([ 35, 132, 132, 106], device='cuda:0') torch.Size([4])\n",
      "08/25/2023, 09:38:29# labels of Validation: tensor([ 74, 164,  25, 163], device='cuda:0') torch.Size([4])\n",
      "08/25/2023, 09:38:29# predicted of Validation: tensor([20, 20, 25, 20], device='cuda:0') torch.Size([4])\n",
      "08/25/2023, 09:38:39# labels of Validation: tensor([ 24, 137,  97,  92], device='cuda:0') torch.Size([4])\n",
      "08/25/2023, 09:38:39# predicted of Validation: tensor([20, 20, 20, 20], device='cuda:0') torch.Size([4])\n",
      "08/25/2023, 09:38:49# labels of Validation: tensor([ 78, 152,  96, 116], device='cuda:0') torch.Size([4])\n",
      "08/25/2023, 09:38:49# predicted of Validation: tensor([78, 20, 96, 20], device='cuda:0') torch.Size([4])\n",
      "08/25/2023, 09:38:50# Validation Loss: 2.7420 | Validation Accuracy: 0.3805\n",
      "\n"
     ]
    },
    {
     "data": {
      "application/vnd.jupyter.widget-view+json": {
       "model_id": "3ebc3410b4d947bfa7ea428ae5e33c22",
       "version_major": 2,
       "version_minor": 0
      },
      "text/plain": [
       "Training:   0%|          | 0/33000 [00:00<?, ?it/s]"
      ]
     },
     "metadata": {},
     "output_type": "display_data"
    },
    {
     "name": "stdout",
     "output_type": "stream",
     "text": [
      "08/25/2023, 09:40:09# labels of 5000: tensor([147, 147, 133, 107], device='cuda:0') torch.Size([4])\n",
      "08/25/2023, 09:40:09# predicted of 5000: tensor([147, 147, 132, 143], device='cuda:0') torch.Size([4])\n",
      "08/25/2023, 09:41:27# labels of 10000: tensor([ 80,  67, 157,  14], device='cuda:0') torch.Size([4])\n",
      "08/25/2023, 09:41:27# predicted of 10000: tensor([80, 78, 75, 59], device='cuda:0') torch.Size([4])\n",
      "08/25/2023, 09:42:45# labels of 15000: tensor([102, 127,  52,  71], device='cuda:0') torch.Size([4])\n",
      "08/25/2023, 09:42:45# predicted of 15000: tensor([ 24, 127,  52,  24], device='cuda:0') torch.Size([4])\n",
      "08/25/2023, 09:44:04# labels of 20000: tensor([142,  48, 158,  44], device='cuda:0') torch.Size([4])\n",
      "08/25/2023, 09:44:04# predicted of 20000: tensor([142, 143, 142, 143], device='cuda:0') torch.Size([4])\n",
      "08/25/2023, 09:45:23# labels of 25000: tensor([83, 88, 66, 24], device='cuda:0') torch.Size([4])\n",
      "08/25/2023, 09:45:23# predicted of 25000: tensor([ 41, 132, 132,  41], device='cuda:0') torch.Size([4])\n",
      "08/25/2023, 09:46:41# labels of 30000: tensor([155,  67,  58, 115], device='cuda:0') torch.Size([4])\n",
      "08/25/2023, 09:46:41# predicted of 30000: tensor([ 28,  67, 163, 115], device='cuda:0') torch.Size([4])\n",
      "08/25/2023, 09:47:28# total batches: 33000\n",
      "08/25/2023, 09:47:28# Epoch 60 | Train Loss: 2.7538 | Train Accuracy: 0.3838\n"
     ]
    },
    {
     "data": {
      "application/vnd.jupyter.widget-view+json": {
       "model_id": "d58d328506a646198e635a318e6cdd5c",
       "version_major": 2,
       "version_minor": 0
      },
      "text/plain": [
       "Validation:   0%|          | 0/4125 [00:00<?, ?it/s]"
      ]
     },
     "metadata": {},
     "output_type": "display_data"
    },
    {
     "name": "stdout",
     "output_type": "stream",
     "text": [
      "08/25/2023, 09:47:28# labels of Validation: tensor([143,  76, 132,  24], device='cuda:0') torch.Size([4])\n",
      "08/25/2023, 09:47:28# predicted of Validation: tensor([ 98,  98, 132,  98], device='cuda:0') torch.Size([4])\n",
      "08/25/2023, 09:47:28# labels of 0: tensor([143,  76, 132,  24], device='cuda:0') torch.Size([4])\n",
      "08/25/2023, 09:47:28# predicted of 0: tensor([ 98,  98, 132,  98], device='cuda:0') torch.Size([4])\n",
      "08/25/2023, 09:47:37# labels of Validation: tensor([109,  72, 113, 147], device='cuda:0') torch.Size([4])\n",
      "08/25/2023, 09:47:37# predicted of Validation: tensor([ 98,  72,   6, 147], device='cuda:0') torch.Size([4])\n",
      "08/25/2023, 09:47:47# labels of Validation: tensor([70, 50,  5, 27], device='cuda:0') torch.Size([4])\n",
      "08/25/2023, 09:47:47# predicted of Validation: tensor([70, 50,  5, 27], device='cuda:0') torch.Size([4])\n",
      "08/25/2023, 09:47:58# labels of Validation: tensor([129, 141, 151,  43], device='cuda:0') torch.Size([4])\n",
      "08/25/2023, 09:47:58# predicted of Validation: tensor([ 6,  6, 98, 98], device='cuda:0') torch.Size([4])\n",
      "08/25/2023, 09:48:09# labels of Validation: tensor([122,  42, 115, 140], device='cuda:0') torch.Size([4])\n",
      "08/25/2023, 09:48:09# predicted of Validation: tensor([122,  98, 115, 140], device='cuda:0') torch.Size([4])\n",
      "08/25/2023, 09:48:10# Validation Loss: 2.7415 | Validation Accuracy: 0.3807\n",
      "\n"
     ]
    },
    {
     "data": {
      "application/vnd.jupyter.widget-view+json": {
       "model_id": "27996b50b83b496995698851b5929568",
       "version_major": 2,
       "version_minor": 0
      },
      "text/plain": [
       "Training:   0%|          | 0/33000 [00:00<?, ?it/s]"
      ]
     },
     "metadata": {},
     "output_type": "display_data"
    },
    {
     "name": "stdout",
     "output_type": "stream",
     "text": [
      "08/25/2023, 09:49:28# labels of 5000: tensor([ 57,   0, 149,  34], device='cuda:0') torch.Size([4])\n",
      "08/25/2023, 09:49:28# predicted of 5000: tensor([158,   0, 149,  92], device='cuda:0') torch.Size([4])\n",
      "08/25/2023, 09:50:45# labels of 10000: tensor([113,  80,  73,  96], device='cuda:0') torch.Size([4])\n",
      "08/25/2023, 09:50:45# predicted of 10000: tensor([155,  80,  73,  96], device='cuda:0') torch.Size([4])\n",
      "08/25/2023, 09:52:04# labels of 15000: tensor([156,   4, 100,  81], device='cuda:0') torch.Size([4])\n",
      "08/25/2023, 09:52:04# predicted of 15000: tensor([156, 148,  37, 116], device='cuda:0') torch.Size([4])\n",
      "08/25/2023, 09:53:22# labels of 20000: tensor([ 26, 115, 123, 137], device='cuda:0') torch.Size([4])\n",
      "08/25/2023, 09:53:22# predicted of 20000: tensor([ 12, 115, 123,  12], device='cuda:0') torch.Size([4])\n",
      "08/25/2023, 09:54:41# labels of 25000: tensor([27, 29, 66, 54], device='cuda:0') torch.Size([4])\n",
      "08/25/2023, 09:54:41# predicted of 25000: tensor([ 27,  29, 161,  42], device='cuda:0') torch.Size([4])\n",
      "08/25/2023, 09:55:59# labels of 30000: tensor([  7,  38, 149,  77], device='cuda:0') torch.Size([4])\n",
      "08/25/2023, 09:55:59# predicted of 30000: tensor([  7, 125, 149, 132], device='cuda:0') torch.Size([4])\n",
      "08/25/2023, 09:56:47# total batches: 33000\n",
      "08/25/2023, 09:56:47# Epoch 61 | Train Loss: 2.7539 | Train Accuracy: 0.3841\n"
     ]
    },
    {
     "data": {
      "application/vnd.jupyter.widget-view+json": {
       "model_id": "c088b881f1494bc5a4831b2a2acdd113",
       "version_major": 2,
       "version_minor": 0
      },
      "text/plain": [
       "Validation:   0%|          | 0/4125 [00:00<?, ?it/s]"
      ]
     },
     "metadata": {},
     "output_type": "display_data"
    },
    {
     "name": "stdout",
     "output_type": "stream",
     "text": [
      "08/25/2023, 09:56:47# labels of Validation: tensor([ 21, 101, 121,  66], device='cuda:0') torch.Size([4])\n",
      "08/25/2023, 09:56:47# predicted of Validation: tensor([  6,   6,  33, 132], device='cuda:0') torch.Size([4])\n",
      "08/25/2023, 09:56:47# labels of 0: tensor([ 21, 101, 121,  66], device='cuda:0') torch.Size([4])\n",
      "08/25/2023, 09:56:47# predicted of 0: tensor([  6,   6,  33, 132], device='cuda:0') torch.Size([4])\n",
      "08/25/2023, 09:56:57# labels of Validation: tensor([106,  44,  28,  86], device='cuda:0') torch.Size([4])\n",
      "08/25/2023, 09:56:57# predicted of Validation: tensor([106,  33, 132,  33], device='cuda:0') torch.Size([4])\n",
      "08/25/2023, 09:57:06# labels of Validation: tensor([145, 143, 115,  20], device='cuda:0') torch.Size([4])\n",
      "08/25/2023, 09:57:06# predicted of Validation: tensor([145,  33, 115,  33], device='cuda:0') torch.Size([4])\n",
      "08/25/2023, 09:57:16# labels of Validation: tensor([101,  16, 145, 109], device='cuda:0') torch.Size([4])\n",
      "08/25/2023, 09:57:16# predicted of Validation: tensor([  6,  16, 145,  33], device='cuda:0') torch.Size([4])\n",
      "08/25/2023, 09:57:27# labels of Validation: tensor([49, 58, 94, 28], device='cuda:0') torch.Size([4])\n",
      "08/25/2023, 09:57:27# predicted of Validation: tensor([ 33,  33,  94, 132], device='cuda:0') torch.Size([4])\n",
      "08/25/2023, 09:57:28# Validation Loss: 2.7406 | Validation Accuracy: 0.3810\n",
      "\n"
     ]
    },
    {
     "data": {
      "application/vnd.jupyter.widget-view+json": {
       "model_id": "e5dbf9104cd243cdace3217015c276b6",
       "version_major": 2,
       "version_minor": 0
      },
      "text/plain": [
       "Training:   0%|          | 0/33000 [00:00<?, ?it/s]"
      ]
     },
     "metadata": {},
     "output_type": "display_data"
    },
    {
     "name": "stdout",
     "output_type": "stream",
     "text": [
      "08/25/2023, 09:58:46# labels of 5000: tensor([147,  19, 158,  31], device='cuda:0') torch.Size([4])\n",
      "08/25/2023, 09:58:46# predicted of 5000: tensor([147, 119, 137, 110], device='cuda:0') torch.Size([4])\n",
      "08/25/2023, 10:00:06# labels of 10000: tensor([154,  19,  52,  68], device='cuda:0') torch.Size([4])\n",
      "08/25/2023, 10:00:06# predicted of 10000: tensor([154, 129,  52,  28], device='cuda:0') torch.Size([4])\n",
      "08/25/2023, 10:01:25# labels of 15000: tensor([ 49, 162, 102,  18], device='cuda:0') torch.Size([4])\n",
      "08/25/2023, 10:01:25# predicted of 15000: tensor([  4, 124, 124, 124], device='cuda:0') torch.Size([4])\n",
      "08/25/2023, 10:02:43# labels of 20000: tensor([64, 70, 57, 83], device='cuda:0') torch.Size([4])\n",
      "08/25/2023, 10:02:43# predicted of 20000: tensor([107,  70, 162, 162], device='cuda:0') torch.Size([4])\n",
      "08/25/2023, 10:04:01# labels of 25000: tensor([ 54, 152, 114,  12], device='cuda:0') torch.Size([4])\n",
      "08/25/2023, 10:04:01# predicted of 25000: tensor([ 90,  19,  90, 152], device='cuda:0') torch.Size([4])\n",
      "08/25/2023, 10:05:19# labels of 30000: tensor([100,  53,  79,  63], device='cuda:0') torch.Size([4])\n",
      "08/25/2023, 10:05:19# predicted of 30000: tensor([116,  33,  79,  33], device='cuda:0') torch.Size([4])\n",
      "08/25/2023, 10:06:06# total batches: 33000\n",
      "08/25/2023, 10:06:06# Epoch 62 | Train Loss: 2.7529 | Train Accuracy: 0.3831\n"
     ]
    },
    {
     "data": {
      "application/vnd.jupyter.widget-view+json": {
       "model_id": "c216416b6d9f4835861c1a5301332891",
       "version_major": 2,
       "version_minor": 0
      },
      "text/plain": [
       "Validation:   0%|          | 0/4125 [00:00<?, ?it/s]"
      ]
     },
     "metadata": {},
     "output_type": "display_data"
    },
    {
     "name": "stdout",
     "output_type": "stream",
     "text": [
      "08/25/2023, 10:06:06# labels of Validation: tensor([129,  10,  28, 119], device='cuda:0') torch.Size([4])\n",
      "08/25/2023, 10:06:06# predicted of Validation: tensor([155,  49, 161,  49], device='cuda:0') torch.Size([4])\n",
      "08/25/2023, 10:06:06# labels of 0: tensor([129,  10,  28, 119], device='cuda:0') torch.Size([4])\n",
      "08/25/2023, 10:06:06# predicted of 0: tensor([155,  49, 161,  49], device='cuda:0') torch.Size([4])\n",
      "08/25/2023, 10:06:16# labels of Validation: tensor([131, 105,  69,  60], device='cuda:0') torch.Size([4])\n",
      "08/25/2023, 10:06:16# predicted of Validation: tensor([161, 105,  69,  49], device='cuda:0') torch.Size([4])\n",
      "08/25/2023, 10:06:26# labels of Validation: tensor([66, 34, 31, 30], device='cuda:0') torch.Size([4])\n",
      "08/25/2023, 10:06:26# predicted of Validation: tensor([161,  49,  49,  49], device='cuda:0') torch.Size([4])\n",
      "08/25/2023, 10:06:35# labels of Validation: tensor([ 72,  64, 154,  76], device='cuda:0') torch.Size([4])\n",
      "08/25/2023, 10:06:35# predicted of Validation: tensor([ 79, 155, 154,  49], device='cuda:0') torch.Size([4])\n",
      "08/25/2023, 10:06:45# labels of Validation: tensor([35, 66, 52, 98], device='cuda:0') torch.Size([4])\n",
      "08/25/2023, 10:06:45# predicted of Validation: tensor([ 35, 161,  52,  49], device='cuda:0') torch.Size([4])\n",
      "08/25/2023, 10:06:46# Validation Loss: 2.7404 | Validation Accuracy: 0.3806\n",
      "\n"
     ]
    },
    {
     "data": {
      "application/vnd.jupyter.widget-view+json": {
       "model_id": "4f392faebbf5455698a2e97d7cb0a1cf",
       "version_major": 2,
       "version_minor": 0
      },
      "text/plain": [
       "Training:   0%|          | 0/33000 [00:00<?, ?it/s]"
      ]
     },
     "metadata": {},
     "output_type": "display_data"
    },
    {
     "name": "stdout",
     "output_type": "stream",
     "text": [
      "08/25/2023, 10:08:04# labels of 5000: tensor([ 71, 161, 105,  74], device='cuda:0') torch.Size([4])\n",
      "08/25/2023, 10:08:04# predicted of 5000: tensor([ 43, 132, 105, 162], device='cuda:0') torch.Size([4])\n",
      "08/25/2023, 10:09:21# labels of 10000: tensor([ 50, 154,  23,  56], device='cuda:0') torch.Size([4])\n",
      "08/25/2023, 10:09:21# predicted of 10000: tensor([ 50, 154,  23,  56], device='cuda:0') torch.Size([4])\n",
      "08/25/2023, 10:10:39# labels of 15000: tensor([81, 26, 54,  1], device='cuda:0') torch.Size([4])\n",
      "08/25/2023, 10:10:39# predicted of 15000: tensor([ 14, 151,  76,  14], device='cuda:0') torch.Size([4])\n"
     ]
    }
   ],
   "source": [
    "from torch.optim import AdamW, lr_scheduler\n",
    "\n",
    "seed = 8787\n",
    "same_seeds(seed)\n",
    "\n",
    "model = GAT(in_dim=50, hidden_dim=16, out_dim=168, num_heads=8)\n",
    "# in_dim means the dimension of the node_feat(50 dim, since the 50-dim embedding)\n",
    "# out_dim means the # of the categories -> 168 for out tasks\n",
    "model.load_state_dict(torch.load('model1_initial/initial_weight.pth'))\n",
    "best_model_path = \"../checkpoint_GAT/best_model_GAT_3.pt\"\n",
    "\n",
    "model = model.to(device)\n",
    "\n",
    "# optimizer = torch.optim.AdamW(model.parameters(), lr=1e-5)\n",
    "optimizer = AdamW(model.parameters(), lr=2.5e-4)\n",
    "# scheduler = get_linear_schedule_with_warmup(optimizer, num_warmup_steps=18, num_training_steps=total_steps)\n",
    "\n",
    "# T_max control the period of the lr changing -> set 1/10 first\n",
    "scheduler = lr_scheduler.CosineAnnealingLR(optimizer, T_max=36, eta_min=0, last_epoch=- 1, verbose=False)\n",
    "\n",
    "\n",
    "criterion = nn.CrossEntropyLoss()\n",
    "total_steps = 360\n",
    "\n",
    "# save the best model\n",
    "best_val_loss = float('inf')\n",
    "patience = 20  # Number of epochs with no improvement after which training will be stopped.\n",
    "waiting = 0  # The number of epochs with no improvement so far.\n",
    "\n",
    "\n",
    "# Training Part\n",
    "for epoch in tqdm(range(total_steps)):\n",
    "    # Train\n",
    "    model.train()\n",
    "    total_loss = 0.0\n",
    "    total_accuracy = 0.0\n",
    "    num_batches = 0\n",
    "#     count = 0 \n",
    "    \n",
    "    for data in tqdm(dataloaders['train'], desc=\"Training\", position=0, leave=True):\n",
    "#         count += 1\n",
    "        num_batches += 1\n",
    "        loss, accuracy, _ = model_fn(data, model, criterion, device, num_batches, which_type='train')\n",
    "        \n",
    "        optimizer.zero_grad()\n",
    "        loss.backward()\n",
    "        optimizer.step()\n",
    "\n",
    "        total_loss += loss.item()\n",
    "        total_accuracy += accuracy.item()\n",
    "\n",
    "        \n",
    "    scheduler.step()\n",
    "    add_log_msg(f\"total batches: {num_batches}\")\n",
    "\n",
    "    avg_loss = total_loss / num_batches\n",
    "    avg_accuracy = total_accuracy / num_batches\n",
    "\n",
    "    add_log_msg(f'Epoch {epoch} | Train Loss: {avg_loss:.4f} | Train Accuracy: {avg_accuracy:.4f}')\n",
    "\n",
    "    \n",
    "    # Validation Part\n",
    "    model.eval()\n",
    "    total_accuracy = 0.0\n",
    "    total_loss = 0.0\n",
    "    num_batches = 0\n",
    "\n",
    "\n",
    "    with torch.no_grad():\n",
    "        for data in tqdm(dataloaders['valid'], desc=\"Validation\", position=0, leave=True):\n",
    "            loss, accuracy, _ = model_fn(data, model, criterion, device, num_batches, which_type='validation')\n",
    "            total_accuracy += accuracy.item()\n",
    "            total_loss += loss.item()\n",
    "            num_batches += 1\n",
    "\n",
    "    avg_accuracy = total_accuracy / num_batches\n",
    "    current_loss = total_loss / num_batches\n",
    "    \n",
    "    add_log_msg(f'Validation Loss: {current_loss:.4f} | Validation Accuracy: {avg_accuracy:.4f}\\n')\n",
    "    \n",
    "            \n",
    "    if current_loss < best_val_loss:\n",
    "        best_val_loss = current_loss\n",
    "        waiting = 0\n",
    "        \n",
    "        if os.path.exists(best_model_path):\n",
    "            os.remove(best_model_path)\n",
    "\n",
    "            torch.save({\n",
    "                    'epoch': epoch,\n",
    "                    'model_state_dict': model.state_dict(),\n",
    "                    'optimizer_state_dict': optimizer.state_dict(),\n",
    "                    'loss': loss,\n",
    "                    }, best_model_path)\n",
    "\n",
    "        else:\n",
    "            waiting += 1\n",
    "            if waiting >= patience:\n",
    "                add_log_msg(\"Early stopping\")\n",
    "                break\n",
    "\n",
    "\n",
    "# Testing Part\n",
    "model.eval()\n",
    "total = 0\n",
    "correct = 0\n",
    "count = 0\n",
    "\n",
    "with torch.no_grad():\n",
    "    for data in tqdm(dataloaders['test'], desc=\"Testing\", position=0, leave=True):\n",
    "\n",
    "        loss, accuracy, predicted = model_fn(data, model, criterion, device, count, which_type='test')\n",
    "        labels = data[1].to(device)  # Assuming labels are the second element in the tuple\n",
    "        \n",
    "        add_log_msg(f\"labels: {labels} {labels.shape}\")\n",
    "        add_log_msg(f\"predicted: {predicted} {predicted.shape}\")\n",
    "        count += 1\n",
    "        \n",
    "        total += labels.size(0) # label.size(0) is the batch size\n",
    "        correct += (predicted == labels).sum().item() \n",
    "        # (predicted == labels).sum() would return how many of them are equal; \n",
    "        # .item() would make the tensor to the regular value\n",
    "        \n",
    "#     print('Test Accuracy: %d %%' % (100 * correct / total))\n",
    "add_log_msg(f'Test Accuracy: {100 * correct / total} %%')"
   ]
  },
  {
   "cell_type": "code",
   "execution_count": null,
   "metadata": {},
   "outputs": [],
   "source": [
    "# device = torch.device(f\"cuda:2\")\n",
    "# print(device)"
   ]
  },
  {
   "cell_type": "code",
   "execution_count": null,
   "metadata": {},
   "outputs": [],
   "source": []
  }
 ],
 "metadata": {
  "kernelspec": {
   "display_name": "Python 3",
   "language": "python",
   "name": "python3"
  },
  "language_info": {
   "codemirror_mode": {
    "name": "ipython",
    "version": 3
   },
   "file_extension": ".py",
   "mimetype": "text/x-python",
   "name": "python",
   "nbconvert_exporter": "python",
   "pygments_lexer": "ipython3",
   "version": "3.6.9"
  }
 },
 "nbformat": 4,
 "nbformat_minor": 2
}
