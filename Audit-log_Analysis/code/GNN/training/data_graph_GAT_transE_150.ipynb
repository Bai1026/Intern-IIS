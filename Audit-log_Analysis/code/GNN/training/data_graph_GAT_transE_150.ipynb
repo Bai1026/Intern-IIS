{
 "cells": [
  {
   "cell_type": "markdown",
   "metadata": {},
   "source": [
    "# Test of GAT\n",
    "- use DGL\n",
    "- predict `graphs`\n",
    "- test: 0~99\n",
    "- validation: 100~199\n",
    "- train: 200~999\n",
    "- larger lr with scheduler\n",
    "- try the sklearn report"
   ]
  },
  {
   "cell_type": "code",
   "execution_count": 2,
   "metadata": {},
   "outputs": [],
   "source": [
    "import os\n",
    "import dgl\n",
    "import json\n",
    "import torch\n",
    "import torch as th\n",
    "# from tqdm import tqdm\n",
    "from tqdm.notebook import tqdm  # 使用 notebook 版本的 tqdm\n",
    "import torch.nn as nn\n",
    "from dgl.nn import GraphConv, GATConv\n",
    "import torch.nn.functional as F\n",
    "from torch.utils.data import Dataset, DataLoader\n",
    "from transformers import get_linear_schedule_with_warmup\n",
    "from torch.optim import AdamW\n",
    "from sklearn.metrics import classification_report\n"
   ]
  },
  {
   "cell_type": "markdown",
   "metadata": {},
   "source": [
    "- check the GPU and assign the GPU by the best memory usage"
   ]
  },
  {
   "cell_type": "code",
   "execution_count": 3,
   "metadata": {},
   "outputs": [
    {
     "name": "stdout",
     "output_type": "stream",
     "text": [
      "cuda:2\n"
     ]
    }
   ],
   "source": [
    "import subprocess\n",
    "import torch\n",
    "\n",
    "def get_free_gpu():\n",
    "    try:\n",
    "        # Run nvidia-smi command to get GPU details\n",
    "        _output_to_list = lambda x: x.decode('ascii').split('\\n')[:-1]\n",
    "        command = \"nvidia-smi --query-gpu=memory.free --format=csv,nounits,noheader\"\n",
    "        memory_free_info = _output_to_list(subprocess.check_output(command.split())) \n",
    "        memory_free_values = [int(x) for i, x in enumerate(memory_free_info)]\n",
    "        \n",
    "        # Get the GPU with the maximum free memory\n",
    "        best_gpu_id = memory_free_values.index(max(memory_free_values))\n",
    "        return best_gpu_id\n",
    "    except:\n",
    "        # If any exception occurs, default to GPU 0 (this handles cases where nvidia-smi isn't installed)\n",
    "        return 0\n",
    "\n",
    "if torch.cuda.is_available():\n",
    "    # Get the best GPU ID based on free memory and set it\n",
    "    best_gpu_id = get_free_gpu()\n",
    "    device = torch.device(f\"cuda:{best_gpu_id}\")\n",
    "else:\n",
    "    device = torch.device(\"cpu\")\n",
    "    print(\"there's no available GPU\")\n",
    "\n",
    "# device = torch.device(f\"cuda:1\")\n",
    "print(device)\n"
   ]
  },
  {
   "cell_type": "markdown",
   "metadata": {},
   "source": [
    "## Fix the seed"
   ]
  },
  {
   "cell_type": "code",
   "execution_count": 4,
   "metadata": {},
   "outputs": [],
   "source": [
    "import numpy as np\n",
    "import torch\n",
    "import random\n",
    "\n",
    "#fix seed\n",
    "def same_seeds(seed = 8787):\n",
    "    torch.manual_seed(seed)\n",
    "    # random.seed(seed) \n",
    "    if torch.cuda.is_available():\n",
    "        torch.cuda.manual_seed(seed)\n",
    "        torch.cuda.manual_seed_all(seed)  \n",
    "    np.random.seed(seed)  \n",
    "    torch.backends.cudnn.benchmark = False\n",
    "    torch.backends.cudnn.deterministic = True"
   ]
  },
  {
   "cell_type": "markdown",
   "metadata": {},
   "source": [
    "## Data Loader"
   ]
  },
  {
   "cell_type": "code",
   "execution_count": 5,
   "metadata": {},
   "outputs": [],
   "source": [
    "class GraphDataset(Dataset):\n",
    "    def __init__(self, data_list, device):\n",
    "        self.data_list = data_list\n",
    "        self.device = device\n",
    "\n",
    "    def __len__(self):\n",
    "        return len(self.data_list)\n",
    "    \n",
    "    def __getitem__(self, idx):\n",
    "        data = self.data_list[idx]\n",
    "\n",
    "        g = dgl.graph((th.tensor(data[\"edge_index\"][0]), th.tensor(data[\"edge_index\"][1])), num_nodes=data[\"num_nodes\"]).to(self.device)\n",
    "\n",
    "        g.ndata['feat'] = th.tensor(data[\"node_feat\"]).to(self.device)\n",
    "        g.edata['feat'] = th.tensor(data[\"edge_attr\"]).to(self.device)  # Add edge features to graph\n",
    "\n",
    "        return g, th.tensor(data[\"label\"]).to(self.device)\n",
    "\n",
    "\n",
    "def collate(samples):\n",
    "    # The input `samples` is a list of pairs\n",
    "    #  (graph, label).\n",
    "    graphs, labels = map(list, zip(*samples))\n",
    "    batched_graph = dgl.batch(graphs)\n",
    "    return batched_graph, torch.tensor(labels)\n"
   ]
  },
  {
   "cell_type": "code",
   "execution_count": 6,
   "metadata": {},
   "outputs": [
    {
     "data": {
      "application/vnd.jupyter.widget-view+json": {
       "model_id": "91ed93b8795c4f75b23a1d568e434423",
       "version_major": 2,
       "version_minor": 0
      },
      "text/plain": [
       "  0%|          | 0/3 [00:00<?, ?it/s]"
      ]
     },
     "metadata": {},
     "output_type": "display_data"
    },
    {
     "name": "stdout",
     "output_type": "stream",
     "text": [
      "../../data_processing/dgl/data_new/training_data/exp_2/transE_150/train.jsonl\n"
     ]
    },
    {
     "data": {
      "application/vnd.jupyter.widget-view+json": {
       "model_id": "741de0e542d042caba67713ce9e02cbe",
       "version_major": 2,
       "version_minor": 0
      },
      "text/plain": [
       "0it [00:00, ?it/s]"
      ]
     },
     "metadata": {},
     "output_type": "display_data"
    },
    {
     "name": "stdout",
     "output_type": "stream",
     "text": [
      "../../data_processing/dgl/data_new/training_data/exp_2/transE_150/valid.jsonl\n"
     ]
    },
    {
     "data": {
      "application/vnd.jupyter.widget-view+json": {
       "model_id": "824b2c9ffc8f4ea48a9d5f514e154472",
       "version_major": 2,
       "version_minor": 0
      },
      "text/plain": [
       "0it [00:00, ?it/s]"
      ]
     },
     "metadata": {},
     "output_type": "display_data"
    },
    {
     "name": "stdout",
     "output_type": "stream",
     "text": [
      "../../data_processing/dgl/data_new/training_data/exp_2/transE_150/test.jsonl\n"
     ]
    },
    {
     "data": {
      "application/vnd.jupyter.widget-view+json": {
       "model_id": "d3f50d29469d4dd18c6a23a342ded304",
       "version_major": 2,
       "version_minor": 0
      },
      "text/plain": [
       "0it [00:00, ?it/s]"
      ]
     },
     "metadata": {},
     "output_type": "display_data"
    },
    {
     "name": "stdout",
     "output_type": "stream",
     "text": [
      "Datasets loaded!\n"
     ]
    }
   ],
   "source": [
    "datasets = ['train', 'valid', 'test']\n",
    "# datasets = ['test']\n",
    "dataset_data = {}\n",
    "\n",
    "for dataset_name in tqdm(datasets):\n",
    "#     file_path = f\"../../data_processing/dgl/data/test_graph/repeated_{dataset_name}.jsonl\"\n",
    "    file_path = f\"../../data_processing/dgl/data_new/training_data/exp_2/transE_150/{dataset_name}.jsonl\"\n",
    "    \n",
    "    print(file_path)\n",
    "    with open(file_path) as f:\n",
    "        data_list = [json.loads(line) for line in tqdm(f, position=0, leave=True)]\n",
    "    \n",
    "    dataset_data[dataset_name] = GraphDataset(data_list, device)\n",
    "\n",
    "print(\"Datasets loaded!\")"
   ]
  },
  {
   "cell_type": "markdown",
   "metadata": {},
   "source": [
    "- choose batch size"
   ]
  },
  {
   "cell_type": "code",
   "execution_count": 7,
   "metadata": {},
   "outputs": [
    {
     "name": "stdout",
     "output_type": "stream",
     "text": [
      "Error data!!\n"
     ]
    }
   ],
   "source": [
    "def create_dataloaders(batch_size, shuffle=True):\n",
    "    dataloaders = {}\n",
    "    for dataset_name, dataset in dataset_data.items():\n",
    "        # do not shuffle the testing dataset\n",
    "        if dataset_name == \"test\":\n",
    "            dataloaders[dataset_name] = DataLoader(dataset, batch_size=batch_size, shuffle=False, collate_fn=collate)    \n",
    "        else:\n",
    "            dataloaders[dataset_name] = DataLoader(dataset, batch_size=batch_size, shuffle=shuffle, collate_fn=collate)\n",
    "    return dataloaders\n",
    "\n",
    "# dataloaders = create_dataloaders(4)\n",
    "dataloaders = create_dataloaders(16)\n",
    "\n",
    "\n",
    "if (len(dataloaders['test'].dataset) + len(dataloaders['valid'].dataset) + len(dataloaders['train'].dataset)) % 165 != 0: print(\"Error data!!\")\n",
    "else: print(\"OK!\")\n"
   ]
  },
  {
   "cell_type": "markdown",
   "metadata": {},
   "source": [
    "- Turn the print message to a log file"
   ]
  },
  {
   "cell_type": "code",
   "execution_count": 8,
   "metadata": {},
   "outputs": [
    {
     "name": "stdout",
     "output_type": "stream",
     "text": [
      "(Graph(num_nodes=10, num_edges=19,\n",
      "      ndata_schemes={'feat': Scheme(shape=(150,), dtype=torch.float32)}\n",
      "      edata_schemes={'feat': Scheme(shape=(150,), dtype=torch.float32)}), tensor(6, device='cuda:2'))\n",
      "16600\n",
      "16600\n",
      "132800\n",
      "166000\n"
     ]
    }
   ],
   "source": [
    "# print(dataloaders['test'][5])\n",
    "sample = dataset_data['train'][5000]\n",
    "print(sample)\n",
    "\n",
    "print(len(dataloaders['test'].dataset))\n",
    "print(len(dataloaders['valid'].dataset))\n",
    "print(len(dataloaders['train'].dataset))\n",
    "print(len(dataloaders['test'].dataset) + len(dataloaders['valid'].dataset) + len(dataloaders['train'].dataset))"
   ]
  },
  {
   "cell_type": "code",
   "execution_count": 9,
   "metadata": {},
   "outputs": [
    {
     "name": "stdout",
     "output_type": "stream",
     "text": [
      "../log_message/0901_20:03_GAT_transE_150.log\n"
     ]
    }
   ],
   "source": [
    "import datetime\n",
    "\n",
    "now = datetime.datetime.now()\n",
    "\n",
    "formatted_time = now.strftime(\"%m%d_%H:%M\")\n",
    "\n",
    "log_file_path = f\"../log_message/{formatted_time}_GAT_transE_150.log\"\n",
    "\n",
    "def add_log_msg(msg, log_file_path=log_file_path):\n",
    "    with open(log_file_path, 'a') as f:\n",
    "        f.write(f'{datetime.datetime.now().strftime(\"%m/%d/%Y, %H:%M:%S\")}# {msg}\\n')\n",
    "    print(f'{datetime.datetime.now().strftime(\"%m/%d/%Y, %H:%M:%S\")}# {msg}')\n",
    "\n",
    "print(log_file_path)"
   ]
  },
  {
   "cell_type": "markdown",
   "metadata": {},
   "source": [
    "### Model"
   ]
  },
  {
   "cell_type": "code",
   "execution_count": 10,
   "metadata": {},
   "outputs": [],
   "source": [
    "class GAT(nn.Module):\n",
    "    def __init__(self, in_dim, hidden_dim, out_dim, num_heads, dropout_prob=0.25):\n",
    "        super(GAT, self).__init__()\n",
    "        \n",
    "        # do not check the zero in_degree since we have all the complete graph\n",
    "        self.layer1 = GATConv(in_dim, hidden_dim, num_heads=num_heads, activation=F.relu, allow_zero_in_degree=True)\n",
    "        self.layer2 = GATConv(hidden_dim * num_heads, out_dim, num_heads=num_heads, allow_zero_in_degree=True)\n",
    "        \n",
    "        # Adding Batch Normalization after each GAT layer\n",
    "        self.batchnorm1 = nn.BatchNorm1d(hidden_dim * num_heads)\n",
    "        self.batchnorm2 = nn.BatchNorm1d(out_dim)\n",
    "        \n",
    "        # Adding Dropout for regularization\n",
    "        self.dropout = nn.Dropout(dropout_prob)\n",
    "\n",
    "    def forward(self, g, h):\n",
    "        # Apply GAT layers\n",
    "        h = self.layer1(g, h)\n",
    "        h = h.view(h.shape[0], -1)\n",
    "        h = F.relu(h)\n",
    "        h = self.dropout(h)\n",
    "        h = self.layer2(g, h).squeeze(1)\n",
    "        \n",
    "        # Store the output as a new node feature\n",
    "        g.ndata['h_out'] = h\n",
    "\n",
    "        # Use mean pooling to aggregate this new node feature\n",
    "        h_agg = dgl.mean_nodes(g, feat='h_out')\n",
    "        return h_agg\n",
    "\n",
    "    "
   ]
  },
  {
   "cell_type": "markdown",
   "metadata": {},
   "source": [
    "- Model Forward  "
   ]
  },
  {
   "cell_type": "code",
   "execution_count": 11,
   "metadata": {},
   "outputs": [],
   "source": [
    "def model_fn(data, model, criterion, device, count=1, which_type='train'):\n",
    "    \"\"\"Forward a batch through the model.\"\"\"\n",
    "    batched_g, labels = data\n",
    "    batched_g = batched_g.to(device)\n",
    "    \n",
    "    labels = labels.to(device)\n",
    "    logits = model(batched_g, batched_g.ndata['feat'].float()) # for GAT\n",
    "    logits = logits.mean(dim=1)\n",
    "    \n",
    "    loss = criterion(logits, labels)\n",
    "\n",
    "    # Get the class id with the highest probability\n",
    "    preds = logits.argmax(1)\n",
    "    \n",
    "    # Compute accuracy\n",
    "    accuracy = torch.mean((preds == labels).float())\n",
    "    \n",
    "    if which_type == 'validation' and count % 1000 == 0:\n",
    "        add_log_msg(f\"labels of Validation: {labels} {labels.shape}\")\n",
    "        add_log_msg(f\"predicted of Validation: {preds} {preds.shape}\")\n",
    "        \n",
    "    elif which_type == 'test'  and count % 1000 == 0:\n",
    "        add_log_msg(f\"labels of Test: {labels} {labels.shape}\")\n",
    "        add_log_msg(f\"predicted of Test: {preds} {preds.shape}\")\n",
    "        \n",
    "    if count % 5000 == 0: \n",
    "        add_log_msg(f\"labels of {count}: {labels} {labels.shape}\")\n",
    "        add_log_msg(f\"predicted of {count}: {preds} {preds.shape}\")\n",
    "        \n",
    "    return loss, accuracy, preds"
   ]
  },
  {
   "cell_type": "markdown",
   "metadata": {},
   "source": [
    "### Training"
   ]
  },
  {
   "cell_type": "markdown",
   "metadata": {},
   "source": [
    "- Fix the seed and save the model.state_dict that contains the initial weight"
   ]
  },
  {
   "cell_type": "code",
   "execution_count": 12,
   "metadata": {},
   "outputs": [],
   "source": [
    "seed = 8787\n",
    "same_seeds(seed)\n",
    "\n",
    "model = GAT(in_dim=150, hidden_dim=16, out_dim=168, num_heads=8)\n",
    "torch.save(model.state_dict(), 'model1_initial/initial_weight.pth')"
   ]
  },
  {
   "cell_type": "code",
   "execution_count": 13,
   "metadata": {},
   "outputs": [
    {
     "data": {
      "text/plain": [
       "Parameter containing:\n",
       "tensor([[-0.1088, -0.0760,  0.1288,  ..., -0.1192, -0.0175,  0.0021],\n",
       "        [ 0.0325,  0.0195, -0.1396,  ...,  0.0864, -0.0855,  0.1670],\n",
       "        [-0.0041, -0.0149, -0.0657,  ..., -0.0180, -0.0733,  0.1429],\n",
       "        ...,\n",
       "        [ 0.2402, -0.1547, -0.0973,  ...,  0.0845, -0.2335, -0.0765],\n",
       "        [ 0.1358,  0.1819, -0.1881,  ..., -0.0790, -0.0578, -0.2301],\n",
       "        [ 0.0297, -0.0572, -0.1424,  ...,  0.2224, -0.1195,  0.0005]],\n",
       "       requires_grad=True)"
      ]
     },
     "execution_count": 13,
     "metadata": {},
     "output_type": "execute_result"
    }
   ],
   "source": [
    "model.layer1.fc.weight"
   ]
  },
  {
   "cell_type": "markdown",
   "metadata": {},
   "source": [
    "- Check if model really load the model_dict"
   ]
  },
  {
   "cell_type": "code",
   "execution_count": 14,
   "metadata": {},
   "outputs": [
    {
     "data": {
      "text/plain": [
       "Parameter containing:\n",
       "tensor([[-0.1088, -0.0760,  0.1288,  ..., -0.1192, -0.0175,  0.0021],\n",
       "        [ 0.0325,  0.0195, -0.1396,  ...,  0.0864, -0.0855,  0.1670],\n",
       "        [-0.0041, -0.0149, -0.0657,  ..., -0.0180, -0.0733,  0.1429],\n",
       "        ...,\n",
       "        [ 0.2402, -0.1547, -0.0973,  ...,  0.0845, -0.2335, -0.0765],\n",
       "        [ 0.1358,  0.1819, -0.1881,  ..., -0.0790, -0.0578, -0.2301],\n",
       "        [ 0.0297, -0.0572, -0.1424,  ...,  0.2224, -0.1195,  0.0005]],\n",
       "       requires_grad=True)"
      ]
     },
     "execution_count": 14,
     "metadata": {},
     "output_type": "execute_result"
    }
   ],
   "source": [
    "model = GAT(in_dim=150, hidden_dim=16, out_dim=168, num_heads=8)\n",
    "model.load_state_dict(torch.load('model1_initial/initial_weight.pth'))\n",
    "model.layer1.fc.weight"
   ]
  },
  {
   "cell_type": "markdown",
   "metadata": {},
   "source": [
    "### test of valid and test part is ``graph``"
   ]
  },
  {
   "cell_type": "markdown",
   "metadata": {},
   "source": [
    "- Batch size = 4\n",
    "- use large lr and scheduler"
   ]
  },
  {
   "cell_type": "code",
   "execution_count": 15,
   "metadata": {
    "scrolled": true
   },
   "outputs": [
    {
     "data": {
      "application/vnd.jupyter.widget-view+json": {
       "model_id": "3ba13d7698c340f5a807d8b61e59569c",
       "version_major": 2,
       "version_minor": 0
      },
      "text/plain": [
       "  0%|          | 0/25 [00:00<?, ?it/s]"
      ]
     },
     "metadata": {},
     "output_type": "display_data"
    },
    {
     "data": {
      "application/vnd.jupyter.widget-view+json": {
       "model_id": "fec32ad2fdb943d3bea3165ad140e9fe",
       "version_major": 2,
       "version_minor": 0
      },
      "text/plain": [
       "Training:   0%|          | 0/8300 [00:00<?, ?it/s]"
      ]
     },
     "metadata": {},
     "output_type": "display_data"
    },
    {
     "name": "stdout",
     "output_type": "stream",
     "text": [
      "09/01/2023, 20:06:25# labels of 5000: tensor([ 85, 134,  50,   0, 122,  30,   5, 125,  63,  55, 154,  89,  95,  64,\n",
      "        141,  12], device='cuda:2') torch.Size([16])\n",
      "09/01/2023, 20:06:25# predicted of 5000: tensor([154, 134,  17,  99,  70, 161,  17, 161, 161, 108, 154,  17,  17, 161,\n",
      "        161, 161], device='cuda:2') torch.Size([16])\n",
      "09/01/2023, 20:08:22# total batches: 8300\n",
      "09/01/2023, 20:08:22# Epoch 0 | Train Loss: 4.6395 | Train Accuracy: 0.0498\n"
     ]
    },
    {
     "data": {
      "application/vnd.jupyter.widget-view+json": {
       "model_id": "ace8685f17ff4536ad79d41e71a7b43e",
       "version_major": 2,
       "version_minor": 0
      },
      "text/plain": [
       "Validation:   0%|          | 0/1038 [00:00<?, ?it/s]"
      ]
     },
     "metadata": {},
     "output_type": "display_data"
    },
    {
     "name": "stdout",
     "output_type": "stream",
     "text": [
      "09/01/2023, 20:08:22# labels of Validation: tensor([ 84,  99,   9,   4,  77, 115,  34,  84,  74, 115,  28,  93,  19, 141,\n",
      "         98,  86], device='cuda:2') torch.Size([16])\n",
      "09/01/2023, 20:08:22# predicted of Validation: tensor([128,  99, 132, 132, 132, 146, 132, 128, 132, 146, 132, 132, 132, 132,\n",
      "        132, 132], device='cuda:2') torch.Size([16])\n",
      "09/01/2023, 20:08:22# labels of 0: tensor([ 84,  99,   9,   4,  77, 115,  34,  84,  74, 115,  28,  93,  19, 141,\n",
      "         98,  86], device='cuda:2') torch.Size([16])\n",
      "09/01/2023, 20:08:22# predicted of 0: tensor([128,  99, 132, 132, 132, 146, 132, 128, 132, 146, 132, 132, 132, 132,\n",
      "        132, 132], device='cuda:2') torch.Size([16])\n",
      "09/01/2023, 20:08:49# labels of Validation: tensor([125, 107, 155, 148, 117,  23,  20, 110,  72, 111,  28,  47, 166,  60,\n",
      "        130,  82], device='cuda:2') torch.Size([16])\n",
      "09/01/2023, 20:08:49# predicted of Validation: tensor([132, 132, 132, 132, 115,  99, 132, 132, 127, 132, 132, 132, 132, 132,\n",
      "        127,  82], device='cuda:2') torch.Size([16])\n",
      "09/01/2023, 20:08:50# Validation Loss: 4.1845 | Validation Accuracy: 0.1211\n",
      "\n",
      "09/01/2023, 20:08:50# Find a better model!!\n"
     ]
    },
    {
     "data": {
      "application/vnd.jupyter.widget-view+json": {
       "model_id": "af02fa5780ff4d128b2c1c986e0a892b",
       "version_major": 2,
       "version_minor": 0
      },
      "text/plain": [
       "Training:   0%|          | 0/8300 [00:00<?, ?it/s]"
      ]
     },
     "metadata": {},
     "output_type": "display_data"
    },
    {
     "name": "stdout",
     "output_type": "stream",
     "text": [
      "09/01/2023, 20:11:48# labels of 5000: tensor([ 64,  23,  76,  14,  46,  32,  46,  83,   2,  14,  58, 113,  19,   4,\n",
      "        139, 138], device='cuda:2') torch.Size([16])\n",
      "09/01/2023, 20:11:48# predicted of 5000: tensor([132, 106,  28, 132, 132,  99,   9, 132, 132, 132, 132, 132, 132, 132,\n",
      "        132, 138], device='cuda:2') torch.Size([16])\n",
      "09/01/2023, 20:13:47# total batches: 8300\n",
      "09/01/2023, 20:13:47# Epoch 1 | Train Loss: 3.9604 | Train Accuracy: 0.1497\n"
     ]
    },
    {
     "data": {
      "application/vnd.jupyter.widget-view+json": {
       "model_id": "a2d43d123a7d42d6a36f29e020a46823",
       "version_major": 2,
       "version_minor": 0
      },
      "text/plain": [
       "Validation:   0%|          | 0/1038 [00:00<?, ?it/s]"
      ]
     },
     "metadata": {},
     "output_type": "display_data"
    },
    {
     "name": "stdout",
     "output_type": "stream",
     "text": [
      "09/01/2023, 20:13:47# labels of Validation: tensor([ 10,  95,  61,  83,   2, 165,  73,   9,  24,  75,  49,  99, 161,  34,\n",
      "        103,  56], device='cuda:2') torch.Size([16])\n",
      "09/01/2023, 20:13:47# predicted of Validation: tensor([  6,  95,  15,   6,   6, 165,  95,   6,   6,   6,   6,  99, 161,   6,\n",
      "          6, 127], device='cuda:2') torch.Size([16])\n",
      "09/01/2023, 20:13:47# labels of 0: tensor([ 10,  95,  61,  83,   2, 165,  73,   9,  24,  75,  49,  99, 161,  34,\n",
      "        103,  56], device='cuda:2') torch.Size([16])\n",
      "09/01/2023, 20:13:47# predicted of 0: tensor([  6,  95,  15,   6,   6, 165,  95,   6,   6,   6,   6,  99, 161,   6,\n",
      "          6, 127], device='cuda:2') torch.Size([16])\n",
      "09/01/2023, 20:14:13# labels of Validation: tensor([151,  20, 111,  59,  21,   6, 140,  16,  53,  43,  40,  17, 102,  24,\n",
      "         93,  48], device='cuda:2') torch.Size([16])\n",
      "09/01/2023, 20:14:13# predicted of Validation: tensor([  6,   6,   6, 161, 161, 161, 128,  16,   6,   6, 115,  17,   6,   6,\n",
      "          6,   6], device='cuda:2') torch.Size([16])\n",
      "09/01/2023, 20:14:14# Validation Loss: 3.7646 | Validation Accuracy: 0.1927\n",
      "\n",
      "09/01/2023, 20:14:14# Find a better model!!\n"
     ]
    },
    {
     "data": {
      "application/vnd.jupyter.widget-view+json": {
       "model_id": "d03af0c3b5aa47f7988a2de102946f73",
       "version_major": 2,
       "version_minor": 0
      },
      "text/plain": [
       "Training:   0%|          | 0/8300 [00:00<?, ?it/s]"
      ]
     },
     "metadata": {},
     "output_type": "display_data"
    },
    {
     "name": "stdout",
     "output_type": "stream",
     "text": [
      "09/01/2023, 20:17:08# labels of 5000: tensor([ 80,  70,  51,  37, 136, 140,  99, 106,  65,  48,  33,  87,  18,  74,\n",
      "         86,  74], device='cuda:2') torch.Size([16])\n",
      "09/01/2023, 20:17:08# predicted of 5000: tensor([ 80,  70,  51,  51,  99, 140,  99, 106,  28,  51,  51, 107, 107,  51,\n",
      "        111, 107], device='cuda:2') torch.Size([16])\n",
      "09/01/2023, 20:19:05# total batches: 8300\n",
      "09/01/2023, 20:19:05# Epoch 2 | Train Loss: 3.6612 | Train Accuracy: 0.2010\n"
     ]
    },
    {
     "data": {
      "application/vnd.jupyter.widget-view+json": {
       "model_id": "b96c43a0898e4e70b7b3626f336007b7",
       "version_major": 2,
       "version_minor": 0
      },
      "text/plain": [
       "Validation:   0%|          | 0/1038 [00:00<?, ?it/s]"
      ]
     },
     "metadata": {},
     "output_type": "display_data"
    },
    {
     "name": "stdout",
     "output_type": "stream",
     "text": [
      "09/01/2023, 20:19:05# labels of Validation: tensor([ 99, 124,  98,  59, 126,   2, 118,  34,  41,  36, 164, 120,  81,   2,\n",
      "         43,  77], device='cuda:2') torch.Size([16])\n",
      "09/01/2023, 20:19:05# predicted of Validation: tensor([ 99,  88,  88,  28, 117,  88, 118,  88,  88,  88,  88,  62,  88,  88,\n",
      "         88,  28], device='cuda:2') torch.Size([16])\n",
      "09/01/2023, 20:19:05# labels of 0: tensor([ 99, 124,  98,  59, 126,   2, 118,  34,  41,  36, 164, 120,  81,   2,\n",
      "         43,  77], device='cuda:2') torch.Size([16])\n",
      "09/01/2023, 20:19:05# predicted of 0: tensor([ 99,  88,  88,  28, 117,  88, 118,  88,  88,  88,  88,  62,  88,  88,\n",
      "         88,  28], device='cuda:2') torch.Size([16])\n",
      "09/01/2023, 20:19:32# labels of Validation: tensor([ 95, 145,  46, 134,  36,   3, 105, 152, 144, 139,  86,  61,  53,  76,\n",
      "         32,  26], device='cuda:2') torch.Size([16])\n",
      "09/01/2023, 20:19:32# predicted of Validation: tensor([ 50,  80,  88, 134,  88,   3, 105,  88,  88,  88,  88,  15,  88,  88,\n",
      "         32,  88], device='cuda:2') torch.Size([16])\n",
      "09/01/2023, 20:19:33# Validation Loss: 3.5496 | Validation Accuracy: 0.2414\n",
      "\n",
      "09/01/2023, 20:19:33# Find a better model!!\n"
     ]
    },
    {
     "data": {
      "application/vnd.jupyter.widget-view+json": {
       "model_id": "3f443c6b77e046329a93c8fd849c234f",
       "version_major": 2,
       "version_minor": 0
      },
      "text/plain": [
       "Training:   0%|          | 0/8300 [00:00<?, ?it/s]"
      ]
     },
     "metadata": {},
     "output_type": "display_data"
    },
    {
     "name": "stdout",
     "output_type": "stream",
     "text": [
      "09/01/2023, 20:22:27# labels of 5000: tensor([141, 129,  93, 126,  68,  17, 147,  64,  78,  78,  64, 100,  33, 157,\n",
      "        148, 110], device='cuda:2') torch.Size([16])\n",
      "09/01/2023, 20:22:27# predicted of 5000: tensor([161,  59, 155, 120, 161,  17,  73,  59,  67,  67, 132, 155,  74,  14,\n",
      "        161, 161], device='cuda:2') torch.Size([16])\n",
      "09/01/2023, 20:24:21# total batches: 8300\n",
      "09/01/2023, 20:24:21# Epoch 3 | Train Loss: 3.4938 | Train Accuracy: 0.2338\n"
     ]
    },
    {
     "data": {
      "application/vnd.jupyter.widget-view+json": {
       "model_id": "0bcef9a4d4514109adb75cf0ce74785c",
       "version_major": 2,
       "version_minor": 0
      },
      "text/plain": [
       "Validation:   0%|          | 0/1038 [00:00<?, ?it/s]"
      ]
     },
     "metadata": {},
     "output_type": "display_data"
    },
    {
     "name": "stdout",
     "output_type": "stream",
     "text": [
      "09/01/2023, 20:24:21# labels of Validation: tensor([162, 158,  80,  52,   3, 164,   3, 133, 143, 110, 112,  43, 126, 106,\n",
      "         49,  91], device='cuda:2') torch.Size([16])\n",
      "09/01/2023, 20:24:21# predicted of Validation: tensor([  9,   9,  80,  52,   3,   9,   3,   6,   9,   6,   9,   9,  50, 106,\n",
      "          9,   6], device='cuda:2') torch.Size([16])\n",
      "09/01/2023, 20:24:21# labels of 0: tensor([162, 158,  80,  52,   3, 164,   3, 133, 143, 110, 112,  43, 126, 106,\n",
      "         49,  91], device='cuda:2') torch.Size([16])\n",
      "09/01/2023, 20:24:21# predicted of 0: tensor([  9,   9,  80,  52,   3,   9,   3,   6,   9,   6,   9,   9,  50, 106,\n",
      "          9,   6], device='cuda:2') torch.Size([16])\n",
      "09/01/2023, 20:24:48# labels of Validation: tensor([141, 109,  59,  34, 103, 137,  36,  83, 118,  37,  48,  37,  21,  11,\n",
      "        160,   5], device='cuda:2') torch.Size([16])\n",
      "09/01/2023, 20:24:48# predicted of Validation: tensor([  6,   9,   6,   9,   6,   9,   9,   9, 118,   6,   9,   6,   6,   9,\n",
      "          6,   5], device='cuda:2') torch.Size([16])\n",
      "09/01/2023, 20:24:49# Validation Loss: 3.4111 | Validation Accuracy: 0.2702\n",
      "\n",
      "09/01/2023, 20:24:49# Find a better model!!\n"
     ]
    },
    {
     "data": {
      "application/vnd.jupyter.widget-view+json": {
       "model_id": "97df0ef87e414a42a09fe0649e477627",
       "version_major": 2,
       "version_minor": 0
      },
      "text/plain": [
       "Training:   0%|          | 0/8300 [00:00<?, ?it/s]"
      ]
     },
     "metadata": {},
     "output_type": "display_data"
    },
    {
     "name": "stdout",
     "output_type": "stream",
     "text": [
      "09/01/2023, 20:27:47# labels of 5000: tensor([ 20, 112,  55,  68,   1,  53,  78, 124,  70,  43, 139, 147,  89,  40,\n",
      "          5, 165], device='cuda:2') torch.Size([16])\n",
      "09/01/2023, 20:27:47# predicted of 5000: tensor([108,  47,  30, 142, 109,  30,  67,  47,  70,  75,  75, 147,  40,  62,\n",
      "         45, 165], device='cuda:2') torch.Size([16])\n",
      "09/01/2023, 20:29:46# total batches: 8300\n",
      "09/01/2023, 20:29:46# Epoch 4 | Train Loss: 3.3740 | Train Accuracy: 0.2589\n"
     ]
    },
    {
     "data": {
      "application/vnd.jupyter.widget-view+json": {
       "model_id": "705a4022e0074bbab5fd1a995ab5bba5",
       "version_major": 2,
       "version_minor": 0
      },
      "text/plain": [
       "Validation:   0%|          | 0/1038 [00:00<?, ?it/s]"
      ]
     },
     "metadata": {},
     "output_type": "display_data"
    },
    {
     "name": "stdout",
     "output_type": "stream",
     "text": [
      "09/01/2023, 20:29:46# labels of Validation: tensor([ 44,  74,  73,   5, 157,  59, 100, 112,  67,  34, 138, 154,  51,  13,\n",
      "         49,  34], device='cuda:2') torch.Size([16])\n",
      "09/01/2023, 20:29:46# predicted of Validation: tensor([157, 157,  39,   0, 157,  28,  28, 157,  67, 157, 138, 154,  28,  13,\n",
      "        157, 157], device='cuda:2') torch.Size([16])\n",
      "09/01/2023, 20:29:46# labels of 0: tensor([ 44,  74,  73,   5, 157,  59, 100, 112,  67,  34, 138, 154,  51,  13,\n",
      "         49,  34], device='cuda:2') torch.Size([16])\n",
      "09/01/2023, 20:29:46# predicted of 0: tensor([157, 157,  39,   0, 157,  28,  28, 157,  67, 157, 138, 154,  28,  13,\n",
      "        157, 157], device='cuda:2') torch.Size([16])\n",
      "09/01/2023, 20:30:12# labels of Validation: tensor([ 67, 100,  65,  50,  64,  41, 113, 147, 102, 113,  64,  93, 148, 103,\n",
      "        101,  50], device='cuda:2') torch.Size([16])\n",
      "09/01/2023, 20:30:12# predicted of Validation: tensor([ 67,  28, 157,   5,  28, 157,  28, 147, 157,  28,  28,  28,  28,  28,\n",
      "         28,  50], device='cuda:2') torch.Size([16])\n",
      "09/01/2023, 20:30:13# Validation Loss: 3.3048 | Validation Accuracy: 0.2845\n",
      "\n",
      "09/01/2023, 20:30:13# Find a better model!!\n"
     ]
    },
    {
     "data": {
      "application/vnd.jupyter.widget-view+json": {
       "model_id": "38db5654c7ae479fb1ede0fcedb8a089",
       "version_major": 2,
       "version_minor": 0
      },
      "text/plain": [
       "Training:   0%|          | 0/8300 [00:00<?, ?it/s]"
      ]
     },
     "metadata": {},
     "output_type": "display_data"
    },
    {
     "name": "stdout",
     "output_type": "stream",
     "text": [
      "09/01/2023, 20:33:11# labels of 5000: tensor([147,  28,  37, 137,  35, 134,  95, 145,  40,  48,  55, 114,  16,  92,\n",
      "        158,  66], device='cuda:2') torch.Size([16])\n",
      "09/01/2023, 20:33:11# predicted of 5000: tensor([ 62,  28, 161,  21,  35, 134,  50, 147,  40,  55, 150,  90,  16, 150,\n",
      "         21, 132], device='cuda:2') torch.Size([16])\n",
      "09/01/2023, 20:35:10# total batches: 8300\n",
      "09/01/2023, 20:35:10# Epoch 5 | Train Loss: 3.2849 | Train Accuracy: 0.2758\n"
     ]
    },
    {
     "data": {
      "application/vnd.jupyter.widget-view+json": {
       "model_id": "f792f12dbc474484a3e3f41b716f2530",
       "version_major": 2,
       "version_minor": 0
      },
      "text/plain": [
       "Validation:   0%|          | 0/1038 [00:00<?, ?it/s]"
      ]
     },
     "metadata": {},
     "output_type": "display_data"
    },
    {
     "name": "stdout",
     "output_type": "stream",
     "text": [
      "09/01/2023, 20:35:10# labels of Validation: tensor([153,  17, 153, 104, 143,  11,  92,  87,  89,  50,  57,  42, 151,  49,\n",
      "         55,  39], device='cuda:2') torch.Size([16])\n",
      "09/01/2023, 20:35:10# predicted of Validation: tensor([151,  17, 151, 151, 151, 151, 151, 151,  39,  15, 151, 151, 151, 151,\n",
      "        151,  39], device='cuda:2') torch.Size([16])\n",
      "09/01/2023, 20:35:10# labels of 0: tensor([153,  17, 153, 104, 143,  11,  92,  87,  89,  50,  57,  42, 151,  49,\n",
      "         55,  39], device='cuda:2') torch.Size([16])\n",
      "09/01/2023, 20:35:10# predicted of 0: tensor([151,  17, 151, 151, 151, 151, 151, 151,  39,  15, 151, 151, 151, 151,\n",
      "        151,  39], device='cuda:2') torch.Size([16])\n",
      "09/01/2023, 20:35:37# labels of Validation: tensor([ 58, 157,  73,  27, 129, 139,  69,  37,  34,  44,  25,  45,  47,  23,\n",
      "         52,   5], device='cuda:2') torch.Size([16])\n",
      "09/01/2023, 20:35:37# predicted of Validation: tensor([151, 151,  73,  50, 108, 151,  69, 108, 151, 151,  25,  45, 151,  23,\n",
      "         52,   5], device='cuda:2') torch.Size([16])\n",
      "09/01/2023, 20:35:38# Validation Loss: 3.2241 | Validation Accuracy: 0.2991\n",
      "\n",
      "09/01/2023, 20:35:38# Find a better model!!\n"
     ]
    },
    {
     "data": {
      "application/vnd.jupyter.widget-view+json": {
       "model_id": "f49ff4c281314ec99a3fef2d97e18024",
       "version_major": 2,
       "version_minor": 0
      },
      "text/plain": [
       "Training:   0%|          | 0/8300 [00:00<?, ?it/s]"
      ]
     },
     "metadata": {},
     "output_type": "display_data"
    },
    {
     "name": "stdout",
     "output_type": "stream",
     "text": [
      "09/01/2023, 20:38:34# labels of 5000: tensor([114, 119,  51, 101,  21,  57,  20,  88,  18,  54,  63,  74, 111, 157,\n",
      "        112,  46], device='cuda:2') torch.Size([16])\n",
      "09/01/2023, 20:38:34# predicted of 5000: tensor([148, 148, 161, 161,   6,  53,  10, 148,  33, 107, 148, 124,  53,  10,\n",
      "        148,  10], device='cuda:2') torch.Size([16])\n",
      "09/01/2023, 20:40:29# total batches: 8300\n",
      "09/01/2023, 20:40:29# Epoch 6 | Train Loss: 3.2181 | Train Accuracy: 0.2883\n"
     ]
    },
    {
     "data": {
      "application/vnd.jupyter.widget-view+json": {
       "model_id": "3b7f0ad2fe1241e9b9f7ce7a172eb8e9",
       "version_major": 2,
       "version_minor": 0
      },
      "text/plain": [
       "Validation:   0%|          | 0/1038 [00:00<?, ?it/s]"
      ]
     },
     "metadata": {},
     "output_type": "display_data"
    },
    {
     "name": "stdout",
     "output_type": "stream",
     "text": [
      "09/01/2023, 20:40:29# labels of Validation: tensor([ 60,  40,  98,  19,  11,  34,   3, 162,  91,  89,  19, 111, 141, 101,\n",
      "         16, 156], device='cuda:2') torch.Size([16])\n",
      "09/01/2023, 20:40:29# predicted of Validation: tensor([ 88,  62,  88,  88,  88,  88,   3,  88,  28,  89,  88,  88,  88,  28,\n",
      "         16, 156], device='cuda:2') torch.Size([16])\n",
      "09/01/2023, 20:40:29# labels of 0: tensor([ 60,  40,  98,  19,  11,  34,   3, 162,  91,  89,  19, 111, 141, 101,\n",
      "         16, 156], device='cuda:2') torch.Size([16])\n",
      "09/01/2023, 20:40:29# predicted of 0: tensor([ 88,  62,  88,  88,  88,  88,   3,  88,  28,  89,  88,  88,  88,  28,\n",
      "         16, 156], device='cuda:2') torch.Size([16])\n",
      "09/01/2023, 20:40:56# labels of Validation: tensor([ 40,  42,  38,  39, 144, 103,  43, 107, 107,  39, 124, 112,  52,  21,\n",
      "        117, 156], device='cuda:2') torch.Size([16])\n",
      "09/01/2023, 20:40:56# predicted of Validation: tensor([ 40,  88,  88,  39,  88,  88,  88,  88,  88,  39,  88,  88,  52,  28,\n",
      "          5, 156], device='cuda:2') torch.Size([16])\n",
      "09/01/2023, 20:40:57# Validation Loss: 3.1671 | Validation Accuracy: 0.3070\n",
      "\n",
      "09/01/2023, 20:40:57# Find a better model!!\n"
     ]
    },
    {
     "data": {
      "application/vnd.jupyter.widget-view+json": {
       "model_id": "41191aa017d843aa9731a932b9d5c799",
       "version_major": 2,
       "version_minor": 0
      },
      "text/plain": [
       "Training:   0%|          | 0/8300 [00:00<?, ?it/s]"
      ]
     },
     "metadata": {},
     "output_type": "display_data"
    },
    {
     "name": "stdout",
     "output_type": "stream",
     "text": [
      "09/01/2023, 20:43:55# labels of 5000: tensor([164,  68,  59,  56,  62, 136, 134, 146,  63,  66,  41,  24, 128,  21,\n",
      "         78, 107], device='cuda:2') torch.Size([16])\n",
      "09/01/2023, 20:43:55# predicted of 5000: tensor([129, 108, 108,  56, 146, 136, 134, 120, 137, 132, 129, 129, 128, 161,\n",
      "         67,  90], device='cuda:2') torch.Size([16])\n",
      "09/01/2023, 20:45:51# total batches: 8300\n",
      "09/01/2023, 20:45:51# Epoch 7 | Train Loss: 3.1640 | Train Accuracy: 0.2986\n"
     ]
    },
    {
     "data": {
      "application/vnd.jupyter.widget-view+json": {
       "model_id": "cad545eafc54496e83e78aeb2decb127",
       "version_major": 2,
       "version_minor": 0
      },
      "text/plain": [
       "Validation:   0%|          | 0/1038 [00:00<?, ?it/s]"
      ]
     },
     "metadata": {},
     "output_type": "display_data"
    },
    {
     "name": "stdout",
     "output_type": "stream",
     "text": [
      "09/01/2023, 20:45:51# labels of Validation: tensor([ 96,  36,  46,  67,  18,  45,  96,  52,  83,  49, 128,  20, 132,  86,\n",
      "         98,  99], device='cuda:2') torch.Size([16])\n",
      "09/01/2023, 20:45:51# predicted of Validation: tensor([ 96,  11,  11,  67,  11,  73,  96,  52,  11,  11, 128,  11, 132,  11,\n",
      "         11,  99], device='cuda:2') torch.Size([16])\n",
      "09/01/2023, 20:45:51# labels of 0: tensor([ 96,  36,  46,  67,  18,  45,  96,  52,  83,  49, 128,  20, 132,  86,\n",
      "         98,  99], device='cuda:2') torch.Size([16])\n",
      "09/01/2023, 20:45:51# predicted of 0: tensor([ 96,  11,  11,  67,  11,  73,  96,  52,  11,  11, 128,  11, 132,  11,\n",
      "         11,  99], device='cuda:2') torch.Size([16])\n",
      "09/01/2023, 20:46:18# labels of Validation: tensor([104, 153, 144,  72,  12,  96, 115, 151,  74,  30, 132, 106,  55,  28,\n",
      "        158,  54], device='cuda:2') torch.Size([16])\n",
      "09/01/2023, 20:46:18# predicted of Validation: tensor([ 11,  11,  11,  89,  11,  96, 115,  11,  11,  11, 132, 106,  11, 132,\n",
      "         11,  11], device='cuda:2') torch.Size([16])\n",
      "09/01/2023, 20:46:19# Validation Loss: 3.1168 | Validation Accuracy: 0.3183\n",
      "\n",
      "09/01/2023, 20:46:19# Find a better model!!\n"
     ]
    },
    {
     "data": {
      "application/vnd.jupyter.widget-view+json": {
       "model_id": "e39949fb022245dbb1c86a3a7b03a86b",
       "version_major": 2,
       "version_minor": 0
      },
      "text/plain": [
       "Training:   0%|          | 0/8300 [00:00<?, ?it/s]"
      ]
     },
     "metadata": {},
     "output_type": "display_data"
    },
    {
     "name": "stdout",
     "output_type": "stream",
     "text": [
      "09/01/2023, 20:49:18# labels of 5000: tensor([117,  50,  82, 118,  24, 104,  49,  31, 114,  84, 147,  15, 108,  53,\n",
      "         77, 109], device='cuda:2') torch.Size([16])\n",
      "09/01/2023, 20:49:18# predicted of 5000: tensor([146,   5,  82, 118, 137,  37, 103, 108, 108,  84, 147, 147, 161,  71,\n",
      "        166,  37], device='cuda:2') torch.Size([16])\n",
      "09/01/2023, 20:51:17# total batches: 8300\n",
      "09/01/2023, 20:51:17# Epoch 8 | Train Loss: 3.1200 | Train Accuracy: 0.3081\n"
     ]
    },
    {
     "data": {
      "application/vnd.jupyter.widget-view+json": {
       "model_id": "83f30209bdcc4cac89150fc775cae4d9",
       "version_major": 2,
       "version_minor": 0
      },
      "text/plain": [
       "Validation:   0%|          | 0/1038 [00:00<?, ?it/s]"
      ]
     },
     "metadata": {},
     "output_type": "display_data"
    },
    {
     "name": "stdout",
     "output_type": "stream",
     "text": [
      "09/01/2023, 20:51:17# labels of Validation: tensor([124,  37,  78,  85, 149,  29,  24,  48,  97,  33,  23,  67, 150,  86,\n",
      "         21,   3], device='cuda:2') torch.Size([16])\n",
      "09/01/2023, 20:51:17# predicted of Validation: tensor([152, 131,  67,  85, 149,  29, 152, 152, 152, 152,  23,  67, 152, 152,\n",
      "         28,   3], device='cuda:2') torch.Size([16])\n",
      "09/01/2023, 20:51:17# labels of 0: tensor([124,  37,  78,  85, 149,  29,  24,  48,  97,  33,  23,  67, 150,  86,\n",
      "         21,   3], device='cuda:2') torch.Size([16])\n",
      "09/01/2023, 20:51:17# predicted of 0: tensor([152, 131,  67,  85, 149,  29, 152, 152, 152, 152,  23,  67, 152, 152,\n",
      "         28,   3], device='cuda:2') torch.Size([16])\n",
      "09/01/2023, 20:51:44# labels of Validation: tensor([142,  63,  19, 111, 112,  35, 149,  66, 132, 153, 140, 104,  89,  38,\n",
      "        135,  63], device='cuda:2') torch.Size([16])\n",
      "09/01/2023, 20:51:44# predicted of Validation: tensor([152, 152, 152, 152, 152,  35, 149,  28, 132, 152, 140, 152,  89, 152,\n",
      "        152, 152], device='cuda:2') torch.Size([16])\n",
      "09/01/2023, 20:51:45# Validation Loss: 3.0779 | Validation Accuracy: 0.3308\n",
      "\n",
      "09/01/2023, 20:51:45# Find a better model!!\n"
     ]
    },
    {
     "data": {
      "application/vnd.jupyter.widget-view+json": {
       "model_id": "4256926b05b5486ebddda255d645dbe3",
       "version_major": 2,
       "version_minor": 0
      },
      "text/plain": [
       "Training:   0%|          | 0/8300 [00:00<?, ?it/s]"
      ]
     },
     "metadata": {},
     "output_type": "display_data"
    },
    {
     "name": "stdout",
     "output_type": "stream",
     "text": [
      "09/01/2023, 20:54:44# labels of 5000: tensor([111,   3,  73, 165, 153, 104,  53, 125,  23, 127,  45, 132, 160, 119,\n",
      "        127, 135], device='cuda:2') torch.Size([16])\n",
      "09/01/2023, 20:54:44# predicted of 5000: tensor([ 54,   3,  73, 165,  60, 125, 163,  54,  23, 127,  45, 161, 166,  66,\n",
      "        127,  66], device='cuda:2') torch.Size([16])\n",
      "09/01/2023, 20:56:42# total batches: 8300\n",
      "09/01/2023, 20:56:42# Epoch 9 | Train Loss: 3.0833 | Train Accuracy: 0.3157\n"
     ]
    },
    {
     "data": {
      "application/vnd.jupyter.widget-view+json": {
       "model_id": "f87d6e86b9084555be9915a45d227fbc",
       "version_major": 2,
       "version_minor": 0
      },
      "text/plain": [
       "Validation:   0%|          | 0/1038 [00:00<?, ?it/s]"
      ]
     },
     "metadata": {},
     "output_type": "display_data"
    },
    {
     "name": "stdout",
     "output_type": "stream",
     "text": [
      "09/01/2023, 20:56:42# labels of Validation: tensor([ 59,  29,  67,  85,  90, 120,   0,  29, 106,  56,  81, 126,  38, 132,\n",
      "         56, 117], device='cuda:2') torch.Size([16])\n",
      "09/01/2023, 20:56:42# predicted of Validation: tensor([132,  29,  67,  85,  51, 120,   0,  29, 106,  56,  71, 115,  71, 132,\n",
      "         56, 117], device='cuda:2') torch.Size([16])\n",
      "09/01/2023, 20:56:42# labels of 0: tensor([ 59,  29,  67,  85,  90, 120,   0,  29, 106,  56,  81, 126,  38, 132,\n",
      "         56, 117], device='cuda:2') torch.Size([16])\n",
      "09/01/2023, 20:56:42# predicted of 0: tensor([132,  29,  67,  85,  51, 120,   0,  29, 106,  56,  71, 115,  71, 132,\n",
      "         56, 117], device='cuda:2') torch.Size([16])\n",
      "09/01/2023, 20:57:09# labels of Validation: tensor([ 40, 130,  55, 111,  17, 111, 131,  41,  28,  45, 113,  97,  30,  40,\n",
      "         57,   2], device='cuda:2') torch.Size([16])\n",
      "09/01/2023, 20:57:09# predicted of Validation: tensor([ 40, 130,  71,  71,  17,  71, 132,  71, 132, 120,  51,  71,  71,  40,\n",
      "         71,  71], device='cuda:2') torch.Size([16])\n",
      "09/01/2023, 20:57:11# Validation Loss: 3.0436 | Validation Accuracy: 0.3268\n",
      "\n",
      "09/01/2023, 20:57:11# Find a better model!!\n"
     ]
    },
    {
     "data": {
      "application/vnd.jupyter.widget-view+json": {
       "model_id": "f0517f7344814ba8a495b5dec0bc38a7",
       "version_major": 2,
       "version_minor": 0
      },
      "text/plain": [
       "Training:   0%|          | 0/8300 [00:00<?, ?it/s]"
      ]
     },
     "metadata": {},
     "output_type": "display_data"
    },
    {
     "name": "stdout",
     "output_type": "stream",
     "text": [
      "09/01/2023, 21:00:12# labels of 5000: tensor([ 16, 149,  76,   7, 119, 109, 152,  85,  39, 153,  50,  17,  60, 126,\n",
      "         28, 108], device='cuda:2') torch.Size([16])\n",
      "09/01/2023, 21:00:12# predicted of 5000: tensor([ 16, 149, 144,   7, 144,  58, 113,  85,  39,  74,  50,  17, 113,  65,\n",
      "         59, 132], device='cuda:2') torch.Size([16])\n",
      "09/01/2023, 21:02:15# total batches: 8300\n",
      "09/01/2023, 21:02:15# Epoch 10 | Train Loss: 3.0539 | Train Accuracy: 0.3225\n"
     ]
    },
    {
     "data": {
      "application/vnd.jupyter.widget-view+json": {
       "model_id": "b84cf019ea3d47a78ff8eb8e933313bb",
       "version_major": 2,
       "version_minor": 0
      },
      "text/plain": [
       "Validation:   0%|          | 0/1038 [00:00<?, ?it/s]"
      ]
     },
     "metadata": {},
     "output_type": "display_data"
    },
    {
     "name": "stdout",
     "output_type": "stream",
     "text": [
      "09/01/2023, 21:02:16# labels of Validation: tensor([157,  27, 153,  74, 130,  64,  38,  72, 142,  12,  95,  14,  78,  33,\n",
      "          3, 166], device='cuda:2') torch.Size([16])\n",
      "09/01/2023, 21:02:16# predicted of Validation: tensor([ 83,  61,  83,  83, 130,  91,  83,  72,  83,  83,  89,  83,  78,  83,\n",
      "          3, 161], device='cuda:2') torch.Size([16])\n",
      "09/01/2023, 21:02:16# labels of 0: tensor([157,  27, 153,  74, 130,  64,  38,  72, 142,  12,  95,  14,  78,  33,\n",
      "          3, 166], device='cuda:2') torch.Size([16])\n",
      "09/01/2023, 21:02:16# predicted of 0: tensor([ 83,  61,  83,  83, 130,  91,  83,  72,  83,  83,  89,  83,  78,  83,\n",
      "          3, 161], device='cuda:2') torch.Size([16])\n",
      "09/01/2023, 21:02:43# labels of Validation: tensor([141,  56,  25,  18,  46, 161, 105,  52, 154,  88,  76, 124,   5, 114,\n",
      "         16, 110], device='cuda:2') torch.Size([16])\n",
      "09/01/2023, 21:02:43# predicted of Validation: tensor([ 91,  56,  25,  83,  83, 161, 105,  52, 154,  91,  83,  83,   5,  91,\n",
      "         16,  91], device='cuda:2') torch.Size([16])\n",
      "09/01/2023, 21:02:44# Validation Loss: 3.0145 | Validation Accuracy: 0.3329\n",
      "\n",
      "09/01/2023, 21:02:44# Find a better model!!\n"
     ]
    },
    {
     "data": {
      "application/vnd.jupyter.widget-view+json": {
       "model_id": "6715982c148e41cebb4a54b0c2c8ce08",
       "version_major": 2,
       "version_minor": 0
      },
      "text/plain": [
       "Training:   0%|          | 0/8300 [00:00<?, ?it/s]"
      ]
     },
     "metadata": {},
     "output_type": "display_data"
    },
    {
     "name": "stdout",
     "output_type": "stream",
     "text": [
      "09/01/2023, 21:05:46# labels of 5000: tensor([ 38, 132, 156, 166,  29,  91,  46,  56,  39,  26,  59,  38, 132, 152,\n",
      "         18, 146], device='cuda:2') torch.Size([16])\n",
      "09/01/2023, 21:05:46# predicted of 5000: tensor([113, 161, 156, 161,  29, 161, 113,  56,  89,  63,  66, 113,   6, 103,\n",
      "         71, 146], device='cuda:2') torch.Size([16])\n",
      "09/01/2023, 21:07:44# total batches: 8300\n",
      "09/01/2023, 21:07:44# Epoch 11 | Train Loss: 3.0270 | Train Accuracy: 0.3271\n"
     ]
    },
    {
     "data": {
      "application/vnd.jupyter.widget-view+json": {
       "model_id": "110f5c55b86c44ccb2c63534ef0b53f5",
       "version_major": 2,
       "version_minor": 0
      },
      "text/plain": [
       "Validation:   0%|          | 0/1038 [00:00<?, ?it/s]"
      ]
     },
     "metadata": {},
     "output_type": "display_data"
    },
    {
     "name": "stdout",
     "output_type": "stream",
     "text": [
      "09/01/2023, 21:07:45# labels of Validation: tensor([ 78, 127,  99,  28,  46, 137,  54,   9, 129,  94,  78,  93, 120,  25,\n",
      "         44,  30], device='cuda:2') torch.Size([16])\n",
      "09/01/2023, 21:07:45# predicted of Validation: tensor([ 78, 127,  99, 132,  36,  36,  36,  36, 155,  94,  67, 155, 120,  25,\n",
      "         36,  36], device='cuda:2') torch.Size([16])\n",
      "09/01/2023, 21:07:45# labels of 0: tensor([ 78, 127,  99,  28,  46, 137,  54,   9, 129,  94,  78,  93, 120,  25,\n",
      "         44,  30], device='cuda:2') torch.Size([16])\n",
      "09/01/2023, 21:07:45# predicted of 0: tensor([ 78, 127,  99, 132,  36,  36,  36,  36, 155,  94,  67, 155, 120,  25,\n",
      "         36,  36], device='cuda:2') torch.Size([16])\n",
      "09/01/2023, 21:08:11# labels of Validation: tensor([132,  46,  80,  32, 150, 139,  95,  95, 166,  49, 111, 137,  59, 110,\n",
      "         24, 126], device='cuda:2') torch.Size([16])\n",
      "09/01/2023, 21:08:11# predicted of Validation: tensor([132,  36,  80,  32,  36,  36,  35,  95, 132,  36,  36,  36, 132, 155,\n",
      "         36, 126], device='cuda:2') torch.Size([16])\n",
      "09/01/2023, 21:08:12# Validation Loss: 2.9913 | Validation Accuracy: 0.3370\n",
      "\n",
      "09/01/2023, 21:08:12# Find a better model!!\n"
     ]
    },
    {
     "data": {
      "application/vnd.jupyter.widget-view+json": {
       "model_id": "0a2398e30e2a41ddba17c5e6c66b62dc",
       "version_major": 2,
       "version_minor": 0
      },
      "text/plain": [
       "Training:   0%|          | 0/8300 [00:00<?, ?it/s]"
      ]
     },
     "metadata": {},
     "output_type": "display_data"
    },
    {
     "name": "stdout",
     "output_type": "stream",
     "text": [
      "09/01/2023, 21:11:12# labels of 5000: tensor([111, 161,  42, 156, 149,  46,  49,  11, 131,  56, 128,   0,  13, 143,\n",
      "         96, 105], device='cuda:2') torch.Size([16])\n",
      "09/01/2023, 21:11:12# predicted of 5000: tensor([ 33,  28,  75, 156, 149,  75,  33,  33, 132,  56, 128,   0,  13, 124,\n",
      "         96, 105], device='cuda:2') torch.Size([16])\n",
      "09/01/2023, 21:13:11# total batches: 8300\n",
      "09/01/2023, 21:13:11# Epoch 12 | Train Loss: 3.0055 | Train Accuracy: 0.3316\n"
     ]
    },
    {
     "data": {
      "application/vnd.jupyter.widget-view+json": {
       "model_id": "0fc504a2725249b8ad478c49ffb7d03f",
       "version_major": 2,
       "version_minor": 0
      },
      "text/plain": [
       "Validation:   0%|          | 0/1038 [00:00<?, ?it/s]"
      ]
     },
     "metadata": {},
     "output_type": "display_data"
    },
    {
     "name": "stdout",
     "output_type": "stream",
     "text": [
      "09/01/2023, 21:13:11# labels of Validation: tensor([ 27, 134, 146,  29, 125,  75,  50,  83,  18, 144,   2,   3, 116, 141,\n",
      "         62, 108], device='cuda:2') torch.Size([16])\n",
      "09/01/2023, 21:13:11# predicted of Validation: tensor([ 27, 134, 146,  29, 102, 102,  39, 102, 102, 102, 102,   3, 102,  93,\n",
      "         62,   6], device='cuda:2') torch.Size([16])\n",
      "09/01/2023, 21:13:11# labels of 0: tensor([ 27, 134, 146,  29, 125,  75,  50,  83,  18, 144,   2,   3, 116, 141,\n",
      "         62, 108], device='cuda:2') torch.Size([16])\n",
      "09/01/2023, 21:13:11# predicted of 0: tensor([ 27, 134, 146,  29, 102, 102,  39, 102, 102, 102, 102,   3, 102,  93,\n",
      "         62,   6], device='cuda:2') torch.Size([16])\n",
      "09/01/2023, 21:13:38# labels of Validation: tensor([134,   8,  24, 156,  26,  74,  89, 158,  51,  40,  25,  94,  93,  42,\n",
      "         27,   7], device='cuda:2') torch.Size([16])\n",
      "09/01/2023, 21:13:38# predicted of Validation: tensor([134,  93, 102, 156, 102, 102,  89, 102,   6,  40,  25, 126,  93, 102,\n",
      "          5,   7], device='cuda:2') torch.Size([16])\n",
      "09/01/2023, 21:13:39# Validation Loss: 2.9710 | Validation Accuracy: 0.3439\n",
      "\n",
      "09/01/2023, 21:13:39# Find a better model!!\n"
     ]
    },
    {
     "data": {
      "application/vnd.jupyter.widget-view+json": {
       "model_id": "e570b25a84264ac58f04b3f2c7bf53e8",
       "version_major": 2,
       "version_minor": 0
      },
      "text/plain": [
       "Training:   0%|          | 0/8300 [00:00<?, ?it/s]"
      ]
     },
     "metadata": {},
     "output_type": "display_data"
    },
    {
     "name": "stdout",
     "output_type": "stream",
     "text": [
      "09/01/2023, 21:16:40# labels of 5000: tensor([155,   6, 113,  51,  82, 129, 124,  72, 153,   7,  35, 140,  10, 165,\n",
      "        163, 107], device='cuda:2') torch.Size([16])\n",
      "09/01/2023, 21:16:40# predicted of 5000: tensor([ 28, 161, 100, 161,  82,  68,  41,  40,   9,   7,  35, 140,  74, 165,\n",
      "         44, 161], device='cuda:2') torch.Size([16])\n",
      "09/01/2023, 21:18:35# total batches: 8300\n",
      "09/01/2023, 21:18:35# Epoch 13 | Train Loss: 2.9845 | Train Accuracy: 0.3362\n"
     ]
    },
    {
     "data": {
      "application/vnd.jupyter.widget-view+json": {
       "model_id": "4a70f8c9f7ef4e7098f7561f3637bdcb",
       "version_major": 2,
       "version_minor": 0
      },
      "text/plain": [
       "Validation:   0%|          | 0/1038 [00:00<?, ?it/s]"
      ]
     },
     "metadata": {},
     "output_type": "display_data"
    },
    {
     "name": "stdout",
     "output_type": "stream",
     "text": [
      "09/01/2023, 21:18:35# labels of Validation: tensor([ 51,  89,  88,  50, 109,  84, 163, 123,   0, 164,  60,  18, 133, 137,\n",
      "        152,  72], device='cuda:2') torch.Size([16])\n",
      "09/01/2023, 21:18:35# predicted of Validation: tensor([161,  23, 166,  50, 151,  84, 151, 123,   0, 151, 151, 151, 166, 151,\n",
      "        151,  78], device='cuda:2') torch.Size([16])\n",
      "09/01/2023, 21:18:35# labels of 0: tensor([ 51,  89,  88,  50, 109,  84, 163, 123,   0, 164,  60,  18, 133, 137,\n",
      "        152,  72], device='cuda:2') torch.Size([16])\n",
      "09/01/2023, 21:18:35# predicted of 0: tensor([161,  23, 166,  50, 151,  84, 151, 123,   0, 151, 151, 151, 166, 151,\n",
      "        151,  78], device='cuda:2') torch.Size([16])\n",
      "09/01/2023, 21:19:02# labels of Validation: tensor([121, 162,  63,  80,  14,  75, 112,  52,  48, 101,  47,  69, 122,  30,\n",
      "         38,  95], device='cuda:2') torch.Size([16])\n",
      "09/01/2023, 21:19:02# predicted of Validation: tensor([151, 151, 151,  80, 151, 151, 151,  52, 151, 161, 151,  69, 122, 151,\n",
      "        151,  95], device='cuda:2') torch.Size([16])\n",
      "09/01/2023, 21:19:03# Validation Loss: 2.9495 | Validation Accuracy: 0.3419\n",
      "\n",
      "09/01/2023, 21:19:03# Find a better model!!\n"
     ]
    },
    {
     "data": {
      "application/vnd.jupyter.widget-view+json": {
       "model_id": "184a2af816ff47288d7f8b74ffd97242",
       "version_major": 2,
       "version_minor": 0
      },
      "text/plain": [
       "Training:   0%|          | 0/8300 [00:00<?, ?it/s]"
      ]
     },
     "metadata": {},
     "output_type": "display_data"
    },
    {
     "name": "stdout",
     "output_type": "stream",
     "text": [
      "09/01/2023, 21:22:03# labels of 5000: tensor([ 60,  82,  74,   6,  30, 162, 155,  98,  85,  84,  69,  77, 118, 121,\n",
      "         79,  52], device='cuda:2') torch.Size([16])\n",
      "09/01/2023, 21:22:03# predicted of 5000: tensor([157,  82, 104, 161, 157, 104,   6, 153,  85,   3,  69,  37, 118, 104,\n",
      "         35,  52], device='cuda:2') torch.Size([16])\n",
      "09/01/2023, 21:24:00# total batches: 8300\n",
      "09/01/2023, 21:24:00# Epoch 14 | Train Loss: 2.9673 | Train Accuracy: 0.3389\n"
     ]
    },
    {
     "data": {
      "application/vnd.jupyter.widget-view+json": {
       "model_id": "f00dd8915a20402fbe960c917472d333",
       "version_major": 2,
       "version_minor": 0
      },
      "text/plain": [
       "Validation:   0%|          | 0/1038 [00:00<?, ?it/s]"
      ]
     },
     "metadata": {},
     "output_type": "display_data"
    },
    {
     "name": "stdout",
     "output_type": "stream",
     "text": [
      "09/01/2023, 21:24:00# labels of Validation: tensor([ 23,  98,   9,  71,  54,  50, 152,  73, 164, 104,   5,   1,  34, 151,\n",
      "        127,  71], device='cuda:2') torch.Size([16])\n",
      "09/01/2023, 21:24:00# predicted of Validation: tensor([ 23,  75,  75,  75,  75,  50,  75,  73,  75,  75,   5,  75,  75,  75,\n",
      "        127,  75], device='cuda:2') torch.Size([16])\n",
      "09/01/2023, 21:24:00# labels of 0: tensor([ 23,  98,   9,  71,  54,  50, 152,  73, 164, 104,   5,   1,  34, 151,\n",
      "        127,  71], device='cuda:2') torch.Size([16])\n",
      "09/01/2023, 21:24:00# predicted of 0: tensor([ 23,  75,  75,  75,  75,  50,  75,  73,  75,  75,   5,  75,  75,  75,\n",
      "        127,  75], device='cuda:2') torch.Size([16])\n",
      "09/01/2023, 21:24:27# labels of Validation: tensor([142,  96,  76,  46,  65,  19,  45, 153,  52,  56, 106, 103, 109,  77,\n",
      "        116,  83], device='cuda:2') torch.Size([16])\n",
      "09/01/2023, 21:24:27# predicted of Validation: tensor([ 75,  96,  75,  75,  75,  75,  45,  75,  52,  56, 106,   6,  75,   6,\n",
      "         75,  75], device='cuda:2') torch.Size([16])\n",
      "09/01/2023, 21:24:28# Validation Loss: 2.9354 | Validation Accuracy: 0.3504\n",
      "\n",
      "09/01/2023, 21:24:28# Find a better model!!\n"
     ]
    },
    {
     "data": {
      "application/vnd.jupyter.widget-view+json": {
       "model_id": "dd91b6ed7e6c4251abc6cdde9a4d3a38",
       "version_major": 2,
       "version_minor": 0
      },
      "text/plain": [
       "Training:   0%|          | 0/8300 [00:00<?, ?it/s]"
      ]
     },
     "metadata": {},
     "output_type": "display_data"
    },
    {
     "name": "stdout",
     "output_type": "stream",
     "text": [
      "09/01/2023, 21:27:29# labels of 5000: tensor([ 24, 134, 108,  90,  68, 156,  16, 161,  57, 149,  64,  30, 109,   1,\n",
      "         43, 106], device='cuda:2') torch.Size([16])\n",
      "09/01/2023, 21:27:29# predicted of 5000: tensor([163, 134,  66, 108, 108, 156,  16, 161,  57, 149,  66,  57,  57, 114,\n",
      "         57, 106], device='cuda:2') torch.Size([16])\n",
      "09/01/2023, 21:29:26# total batches: 8300\n",
      "09/01/2023, 21:29:26# Epoch 15 | Train Loss: 2.9509 | Train Accuracy: 0.3417\n"
     ]
    },
    {
     "data": {
      "application/vnd.jupyter.widget-view+json": {
       "model_id": "932c1646bfbf4ff3b0d50b38529eb7a8",
       "version_major": 2,
       "version_minor": 0
      },
      "text/plain": [
       "Validation:   0%|          | 0/1038 [00:00<?, ?it/s]"
      ]
     },
     "metadata": {},
     "output_type": "display_data"
    },
    {
     "name": "stdout",
     "output_type": "stream",
     "text": [
      "09/01/2023, 21:29:26# labels of Validation: tensor([141, 102, 131,  73, 131, 131,  78,   6,  94,  64,  29,  55,  47,  23,\n",
      "        126, 127], device='cuda:2') torch.Size([16])\n",
      "09/01/2023, 21:29:26# predicted of Validation: tensor([161, 157, 161,  73, 161, 161,  67, 161,  79, 161,  29, 157, 157,  61,\n",
      "         79, 127], device='cuda:2') torch.Size([16])\n",
      "09/01/2023, 21:29:26# labels of 0: tensor([141, 102, 131,  73, 131, 131,  78,   6,  94,  64,  29,  55,  47,  23,\n",
      "        126, 127], device='cuda:2') torch.Size([16])\n",
      "09/01/2023, 21:29:26# predicted of 0: tensor([161, 157, 161,  73, 161, 161,  67, 161,  79, 161,  29, 157, 157,  61,\n",
      "         79, 127], device='cuda:2') torch.Size([16])\n",
      "09/01/2023, 21:29:53# labels of Validation: tensor([ 90,  33, 166, 126, 135,  66,  94, 123, 113, 131,  20,  38, 104, 111,\n",
      "        111, 117], device='cuda:2') torch.Size([16])\n",
      "09/01/2023, 21:29:53# predicted of Validation: tensor([161, 157, 161, 126, 157, 161,  13, 123, 161, 161, 157, 157, 157, 157,\n",
      "        157, 117], device='cuda:2') torch.Size([16])\n",
      "09/01/2023, 21:29:54# Validation Loss: 2.9217 | Validation Accuracy: 0.3463\n",
      "\n",
      "09/01/2023, 21:29:54# Find a better model!!\n"
     ]
    },
    {
     "data": {
      "application/vnd.jupyter.widget-view+json": {
       "model_id": "7a4b5d2b8c08476fb1fbf3e11ca2ad15",
       "version_major": 2,
       "version_minor": 0
      },
      "text/plain": [
       "Training:   0%|          | 0/8300 [00:00<?, ?it/s]"
      ]
     },
     "metadata": {},
     "output_type": "display_data"
    },
    {
     "name": "stdout",
     "output_type": "stream",
     "text": [
      "09/01/2023, 21:32:54# labels of 5000: tensor([159, 103,  79, 141, 136,  45,  89,  86,  92,  49,  36, 156,  74, 147,\n",
      "         81, 104], device='cuda:2') torch.Size([16])\n",
      "09/01/2023, 21:32:54# predicted of 5000: tensor([159,   6,   5,  68, 136,  73, 126, 158,  68,   2, 143, 156,  68, 147,\n",
      "        143,   1], device='cuda:2') torch.Size([16])\n",
      "09/01/2023, 21:34:49# total batches: 8300\n",
      "09/01/2023, 21:34:49# Epoch 16 | Train Loss: 2.9394 | Train Accuracy: 0.3438\n"
     ]
    },
    {
     "data": {
      "application/vnd.jupyter.widget-view+json": {
       "model_id": "ea4f94d9fe6f4047bba283d4b09462a5",
       "version_major": 2,
       "version_minor": 0
      },
      "text/plain": [
       "Validation:   0%|          | 0/1038 [00:00<?, ?it/s]"
      ]
     },
     "metadata": {},
     "output_type": "display_data"
    },
    {
     "name": "stdout",
     "output_type": "stream",
     "text": [
      "09/01/2023, 21:34:49# labels of Validation: tensor([  9, 118,  74,  26, 122, 157,  93,  23,  62,  38,  88,  51, 101,  50,\n",
      "         10,  41], device='cuda:2') torch.Size([16])\n",
      "09/01/2023, 21:34:49# predicted of Validation: tensor([163, 118, 163, 163, 122, 163, 101,  23,  62, 163, 101,  28, 131,  50,\n",
      "        163, 163], device='cuda:2') torch.Size([16])\n",
      "09/01/2023, 21:34:49# labels of 0: tensor([  9, 118,  74,  26, 122, 157,  93,  23,  62,  38,  88,  51, 101,  50,\n",
      "         10,  41], device='cuda:2') torch.Size([16])\n",
      "09/01/2023, 21:34:49# predicted of 0: tensor([163, 118, 163, 163, 122, 163, 101,  23,  62, 163, 101,  28, 131,  50,\n",
      "        163, 163], device='cuda:2') torch.Size([16])\n",
      "09/01/2023, 21:35:16# labels of Validation: tensor([103, 105, 145, 111,  57,  37,  17,  34,  90,  15, 133, 127, 131, 136,\n",
      "          3,  89], device='cuda:2') torch.Size([16])\n",
      "09/01/2023, 21:35:16# predicted of Validation: tensor([101, 105, 145, 163, 163, 101,  17, 163, 101,  15, 101, 127,  28, 136,\n",
      "          3,  45], device='cuda:2') torch.Size([16])\n",
      "09/01/2023, 21:35:17# Validation Loss: 2.9095 | Validation Accuracy: 0.3531\n",
      "\n",
      "09/01/2023, 21:35:17# Find a better model!!\n"
     ]
    },
    {
     "data": {
      "application/vnd.jupyter.widget-view+json": {
       "model_id": "827b1c08a23f422d8af7844bde53b6b3",
       "version_major": 2,
       "version_minor": 0
      },
      "text/plain": [
       "Training:   0%|          | 0/8300 [00:00<?, ?it/s]"
      ]
     },
     "metadata": {},
     "output_type": "display_data"
    },
    {
     "name": "stdout",
     "output_type": "stream",
     "text": [
      "09/01/2023, 21:37:50# labels of 5000: tensor([ 81,  83, 144, 132, 155,  96,  13,  77,  87, 153, 159, 164,  29,  89,\n",
      "         61,   3], device='cuda:2') torch.Size([16])\n",
      "09/01/2023, 21:37:50# predicted of 5000: tensor([ 63, 112,  38, 161, 161,  96,  13, 161,  92,  38, 159,  24,  29,  73,\n",
      "         61,   3], device='cuda:2') torch.Size([16])\n",
      "09/01/2023, 21:39:13# total batches: 8300\n",
      "09/01/2023, 21:39:13# Epoch 17 | Train Loss: 2.9292 | Train Accuracy: 0.3453\n"
     ]
    },
    {
     "data": {
      "application/vnd.jupyter.widget-view+json": {
       "model_id": "e634d00aad4b4c70b73f87d0b2b7fb28",
       "version_major": 2,
       "version_minor": 0
      },
      "text/plain": [
       "Validation:   0%|          | 0/1038 [00:00<?, ?it/s]"
      ]
     },
     "metadata": {},
     "output_type": "display_data"
    },
    {
     "name": "stdout",
     "output_type": "stream",
     "text": [
      "09/01/2023, 21:39:13# labels of Validation: tensor([138, 104, 108,  29,  73,  13,  58, 166, 115, 101,  21, 103, 129, 105,\n",
      "         82,   0], device='cuda:2') torch.Size([16])\n",
      "09/01/2023, 21:39:13# predicted of Validation: tensor([138,   9,   6,  29,  73,  13,   9,   6, 115,   6,   6, 100, 100, 105,\n",
      "         82,   0], device='cuda:2') torch.Size([16])\n",
      "09/01/2023, 21:39:13# labels of 0: tensor([138, 104, 108,  29,  73,  13,  58, 166, 115, 101,  21, 103, 129, 105,\n",
      "         82,   0], device='cuda:2') torch.Size([16])\n",
      "09/01/2023, 21:39:13# predicted of 0: tensor([138,   9,   6,  29,  73,  13,   9,   6, 115,   6,   6, 100, 100, 105,\n",
      "         82,   0], device='cuda:2') torch.Size([16])\n",
      "09/01/2023, 21:39:31# labels of Validation: tensor([ 30,   9, 157,  59, 109,  11,  17,  20,  55, 143,  90,  39, 137,  39,\n",
      "         40,  40], device='cuda:2') torch.Size([16])\n",
      "09/01/2023, 21:39:31# predicted of Validation: tensor([  9,   9,   9,   6,   9,   9,  17,   9,   9,   9, 100,  39,   9,  39,\n",
      "         40,  40], device='cuda:2') torch.Size([16])\n",
      "09/01/2023, 21:39:31# Validation Loss: 2.9003 | Validation Accuracy: 0.3546\n",
      "\n",
      "09/01/2023, 21:39:31# Find a better model!!\n"
     ]
    },
    {
     "data": {
      "application/vnd.jupyter.widget-view+json": {
       "model_id": "ba6f35a161c64f9caaa89dc53be08071",
       "version_major": 2,
       "version_minor": 0
      },
      "text/plain": [
       "Training:   0%|          | 0/8300 [00:00<?, ?it/s]"
      ]
     },
     "metadata": {},
     "output_type": "display_data"
    },
    {
     "name": "stdout",
     "output_type": "stream",
     "text": [
      "09/01/2023, 21:41:53# labels of 5000: tensor([146,   2,  48, 114,  16, 106, 105,  81,  40,  79,  73, 144,  96,  11,\n",
      "        122, 146], device='cuda:2') torch.Size([16])\n",
      "09/01/2023, 21:41:53# predicted of 5000: tensor([146,  46,  46, 160,  16, 106, 105,  57,  40,  79,  73,  19,  96, 121,\n",
      "        122, 146], device='cuda:2') torch.Size([16])\n",
      "09/01/2023, 21:43:33# total batches: 8300\n",
      "09/01/2023, 21:43:33# Epoch 18 | Train Loss: 2.9194 | Train Accuracy: 0.3470\n"
     ]
    },
    {
     "data": {
      "application/vnd.jupyter.widget-view+json": {
       "model_id": "f0e7a2b6df4740d9802267eb25780dec",
       "version_major": 2,
       "version_minor": 0
      },
      "text/plain": [
       "Validation:   0%|          | 0/1038 [00:00<?, ?it/s]"
      ]
     },
     "metadata": {},
     "output_type": "display_data"
    },
    {
     "name": "stdout",
     "output_type": "stream",
     "text": [
      "09/01/2023, 21:43:33# labels of Validation: tensor([ 42,  94,  43,  24,  67, 133,  93, 144, 102,  14,  49,  91,  57,  68,\n",
      "        158, 134], device='cuda:2') torch.Size([16])\n",
      "09/01/2023, 21:43:33# predicted of Validation: tensor([ 55,  94,  55,  55,  67,  91,  91,  55,  55,  55,  55,   6,  55,  91,\n",
      "         55, 134], device='cuda:2') torch.Size([16])\n",
      "09/01/2023, 21:43:33# labels of 0: tensor([ 42,  94,  43,  24,  67, 133,  93, 144, 102,  14,  49,  91,  57,  68,\n",
      "        158, 134], device='cuda:2') torch.Size([16])\n",
      "09/01/2023, 21:43:33# predicted of 0: tensor([ 55,  94,  55,  55,  67,  91,  91,  55,  55,  55,  55,   6,  55,  91,\n",
      "         55, 134], device='cuda:2') torch.Size([16])\n",
      "09/01/2023, 21:43:53# labels of Validation: tensor([ 52,  60,  64,  96,  42,  93,  47,  73, 111,  69, 150,  28, 107, 130,\n",
      "         18,  45], device='cuda:2') torch.Size([16])\n",
      "09/01/2023, 21:43:53# predicted of Validation: tensor([ 52,  55,  91,  96,  55,  91,  55,  61,  55,  69,  55, 132,  91, 130,\n",
      "         55,  45], device='cuda:2') torch.Size([16])\n",
      "09/01/2023, 21:43:54# Validation Loss: 2.8898 | Validation Accuracy: 0.3498\n",
      "\n",
      "09/01/2023, 21:43:54# Find a better model!!\n"
     ]
    },
    {
     "data": {
      "application/vnd.jupyter.widget-view+json": {
       "model_id": "70b1bd8f24a44559868bcfe9bb831edc",
       "version_major": 2,
       "version_minor": 0
      },
      "text/plain": [
       "Training:   0%|          | 0/8300 [00:00<?, ?it/s]"
      ]
     },
     "metadata": {},
     "output_type": "display_data"
    },
    {
     "name": "stdout",
     "output_type": "stream",
     "text": [
      "09/01/2023, 21:46:41# labels of 5000: tensor([ 19,  17, 134, 104,  91, 144, 158, 104,  73, 141,  80,  11,  39,  63,\n",
      "        131,  59], device='cuda:2') torch.Size([16])\n",
      "09/01/2023, 21:46:41# predicted of 5000: tensor([ 30,  17, 134,  30, 133,  30, 133, 133,  56, 132,  80,   9,  39,   9,\n",
      "        155, 132], device='cuda:2') torch.Size([16])\n",
      "09/01/2023, 21:48:37# total batches: 8300\n",
      "09/01/2023, 21:48:37# Epoch 19 | Train Loss: 2.9100 | Train Accuracy: 0.3484\n"
     ]
    },
    {
     "data": {
      "application/vnd.jupyter.widget-view+json": {
       "model_id": "04a961d31b0145d684caf612497e6f20",
       "version_major": 2,
       "version_minor": 0
      },
      "text/plain": [
       "Validation:   0%|          | 0/1038 [00:00<?, ?it/s]"
      ]
     },
     "metadata": {},
     "output_type": "display_data"
    },
    {
     "name": "stdout",
     "output_type": "stream",
     "text": [
      "09/01/2023, 21:48:37# labels of Validation: tensor([ 42,  39,  96,   6,  39,   2, 117,  24, 152, 107, 160,  50,  65,  92,\n",
      "        163, 164], device='cuda:2') torch.Size([16])\n",
      "09/01/2023, 21:48:37# predicted of Validation: tensor([137,  39,  96,   6,  39, 137, 117, 137, 137, 108, 108,  50, 137, 137,\n",
      "        137, 137], device='cuda:2') torch.Size([16])\n",
      "09/01/2023, 21:48:37# labels of 0: tensor([ 42,  39,  96,   6,  39,   2, 117,  24, 152, 107, 160,  50,  65,  92,\n",
      "        163, 164], device='cuda:2') torch.Size([16])\n",
      "09/01/2023, 21:48:37# predicted of 0: tensor([137,  39,  96,   6,  39, 137, 117, 137, 137, 108, 108,  50, 137, 137,\n",
      "        137, 137], device='cuda:2') torch.Size([16])\n",
      "09/01/2023, 21:49:04# labels of Validation: tensor([ 99, 103,  27,   7,  62, 162, 103,  72,  11,   1,  21, 155,  52,  21,\n",
      "         32,  35], device='cuda:2') torch.Size([16])\n",
      "09/01/2023, 21:49:04# predicted of Validation: tensor([ 99, 108,  27,   7,  62, 137, 108,  95, 137, 137,   6,   6,  52,   6,\n",
      "         32,  35], device='cuda:2') torch.Size([16])\n",
      "09/01/2023, 21:49:05# Validation Loss: 2.8812 | Validation Accuracy: 0.3568\n",
      "\n",
      "09/01/2023, 21:49:05# Find a better model!!\n"
     ]
    },
    {
     "data": {
      "application/vnd.jupyter.widget-view+json": {
       "model_id": "433198a2afd347a899434dab89d3ebdb",
       "version_major": 2,
       "version_minor": 0
      },
      "text/plain": [
       "Training:   0%|          | 0/8300 [00:00<?, ?it/s]"
      ]
     },
     "metadata": {},
     "output_type": "display_data"
    },
    {
     "name": "stdout",
     "output_type": "stream",
     "text": [
      "09/01/2023, 21:52:08# labels of 5000: tensor([152,  84,  17, 166,  69,  34,  59, 165,  44,  83, 165,   5, 105, 110,\n",
      "        145, 156], device='cuda:2') torch.Size([16])\n",
      "09/01/2023, 21:52:08# predicted of 5000: tensor([ 87,  84,  17,   6,  69, 137,   6, 165,  14,  14, 165,   5, 105,   6,\n",
      "        145, 156], device='cuda:2') torch.Size([16])\n",
      "09/01/2023, 21:54:08# total batches: 8300\n",
      "09/01/2023, 21:54:08# Epoch 20 | Train Loss: 2.9025 | Train Accuracy: 0.3501\n"
     ]
    },
    {
     "data": {
      "application/vnd.jupyter.widget-view+json": {
       "model_id": "df35a16e535d45c594b145c8eec87d89",
       "version_major": 2,
       "version_minor": 0
      },
      "text/plain": [
       "Validation:   0%|          | 0/1038 [00:00<?, ?it/s]"
      ]
     },
     "metadata": {},
     "output_type": "display_data"
    },
    {
     "name": "stdout",
     "output_type": "stream",
     "text": [
      "09/01/2023, 21:54:08# labels of Validation: tensor([ 64,  62,  13, 117,  25,   5, 158,  63,  74, 139, 118,  52,   4, 140,\n",
      "        107,  78], device='cuda:2') torch.Size([16])\n",
      "09/01/2023, 21:54:08# predicted of Validation: tensor([133,  62,  13, 117,  25,  73,  14,  14,  14,  14, 118,  52,  14, 140,\n",
      "        133,  78], device='cuda:2') torch.Size([16])\n",
      "09/01/2023, 21:54:08# labels of 0: tensor([ 64,  62,  13, 117,  25,   5, 158,  63,  74, 139, 118,  52,   4, 140,\n",
      "        107,  78], device='cuda:2') torch.Size([16])\n",
      "09/01/2023, 21:54:08# predicted of 0: tensor([133,  62,  13, 117,  25,  73,  14,  14,  14,  14, 118,  52,  14, 140,\n",
      "        133,  78], device='cuda:2') torch.Size([16])\n",
      "09/01/2023, 21:54:36# labels of Validation: tensor([ 86,  45,  57,  14, 156,   2, 135,   4,  72,  42,  71,  91,  31,  23,\n",
      "        148,  26], device='cuda:2') torch.Size([16])\n",
      "09/01/2023, 21:54:36# predicted of Validation: tensor([ 14,  45,  14,  14, 156,  14,  14,  14,  72,  14,  14, 161,  14, 147,\n",
      "        133,  14], device='cuda:2') torch.Size([16])\n",
      "09/01/2023, 21:54:37# Validation Loss: 2.8767 | Validation Accuracy: 0.3580\n",
      "\n",
      "09/01/2023, 21:54:37# Find a better model!!\n"
     ]
    },
    {
     "data": {
      "application/vnd.jupyter.widget-view+json": {
       "model_id": "b1f9c1fab12b4a038f637120a6b64f94",
       "version_major": 2,
       "version_minor": 0
      },
      "text/plain": [
       "Training:   0%|          | 0/8300 [00:00<?, ?it/s]"
      ]
     },
     "metadata": {},
     "output_type": "display_data"
    },
    {
     "name": "stdout",
     "output_type": "stream",
     "text": [
      "09/01/2023, 21:57:38# labels of 5000: tensor([ 71, 140, 135, 162,  49,  50, 158, 150,  25,  63, 154,  80,  82, 120,\n",
      "         42, 151], device='cuda:2') torch.Size([16])\n",
      "09/01/2023, 21:57:38# predicted of 5000: tensor([163, 140, 163, 114, 163,  15, 163,  48,  25, 124, 154,  80,  82, 120,\n",
      "        163, 163], device='cuda:2') torch.Size([16])\n",
      "09/01/2023, 21:59:37# total batches: 8300\n",
      "09/01/2023, 21:59:37# Epoch 21 | Train Loss: 2.8971 | Train Accuracy: 0.3501\n"
     ]
    },
    {
     "data": {
      "application/vnd.jupyter.widget-view+json": {
       "model_id": "f139edc3ba9c4c008675c0115e842eab",
       "version_major": 2,
       "version_minor": 0
      },
      "text/plain": [
       "Validation:   0%|          | 0/1038 [00:00<?, ?it/s]"
      ]
     },
     "metadata": {},
     "output_type": "display_data"
    },
    {
     "name": "stdout",
     "output_type": "stream",
     "text": [
      "09/01/2023, 21:59:37# labels of Validation: tensor([ 21,  32, 107, 124,  11,  37,   8,  13,   6,  18,  15, 154,  78,  66,\n",
      "        122,  29], device='cuda:2') torch.Size([16])\n",
      "09/01/2023, 21:59:37# predicted of Validation: tensor([  6,  32, 155,   9,   9, 155, 155,  13, 132,   9,  15, 154,  67,   6,\n",
      "        122,  29], device='cuda:2') torch.Size([16])\n",
      "09/01/2023, 21:59:37# labels of 0: tensor([ 21,  32, 107, 124,  11,  37,   8,  13,   6,  18,  15, 154,  78,  66,\n",
      "        122,  29], device='cuda:2') torch.Size([16])\n",
      "09/01/2023, 21:59:37# predicted of 0: tensor([  6,  32, 155,   9,   9, 155, 155,  13, 132,   9,  15, 154,  67,   6,\n",
      "        122,  29], device='cuda:2') torch.Size([16])\n",
      "09/01/2023, 22:00:06# labels of Validation: tensor([101,   1, 136, 120,  70, 107,  38,  45,  50, 103,  61, 143,  52, 107,\n",
      "         78,  26], device='cuda:2') torch.Size([16])\n",
      "09/01/2023, 22:00:06# predicted of Validation: tensor([  6,   9, 136, 120,  70, 155,   9,  45,  50, 155,  50,   9,  52, 155,\n",
      "         67,   9], device='cuda:2') torch.Size([16])\n",
      "09/01/2023, 22:00:07# Validation Loss: 2.8697 | Validation Accuracy: 0.3512\n",
      "\n",
      "09/01/2023, 22:00:07# Find a better model!!\n"
     ]
    },
    {
     "data": {
      "application/vnd.jupyter.widget-view+json": {
       "model_id": "22f33b09926d42a2b2a17e1ba2eebb27",
       "version_major": 2,
       "version_minor": 0
      },
      "text/plain": [
       "Training:   0%|          | 0/8300 [00:00<?, ?it/s]"
      ]
     },
     "metadata": {},
     "output_type": "display_data"
    },
    {
     "name": "stdout",
     "output_type": "stream",
     "text": [
      "09/01/2023, 22:03:05# labels of 5000: tensor([142, 110,  12,  60,  34, 120,  63, 148,   5, 162, 116, 156,  31,  77,\n",
      "         47,   5], device='cuda:2') torch.Size([16])\n",
      "09/01/2023, 22:03:05# predicted of 5000: tensor([143,   6, 100,  48, 162, 120, 110,   6, 120,  48,  11, 156,  48, 161,\n",
      "        151,   5], device='cuda:2') torch.Size([16])\n",
      "09/01/2023, 22:05:04# total batches: 8300\n",
      "09/01/2023, 22:05:04# Epoch 22 | Train Loss: 2.8916 | Train Accuracy: 0.3510\n"
     ]
    },
    {
     "data": {
      "application/vnd.jupyter.widget-view+json": {
       "model_id": "3fac34a603a640aeb1be40ec0f552db7",
       "version_major": 2,
       "version_minor": 0
      },
      "text/plain": [
       "Validation:   0%|          | 0/1038 [00:00<?, ?it/s]"
      ]
     },
     "metadata": {},
     "output_type": "display_data"
    },
    {
     "name": "stdout",
     "output_type": "stream",
     "text": [
      "09/01/2023, 22:05:04# labels of Validation: tensor([  1, 151, 147, 141,  46,  48,  84,  71,  74, 145, 124, 160, 162, 146,\n",
      "        147,  36], device='cuda:2') torch.Size([16])\n",
      "09/01/2023, 22:05:04# predicted of Validation: tensor([139, 139, 147,  66, 139, 139, 128, 139, 139, 145, 139,  66, 139,  62,\n",
      "        147, 139], device='cuda:2') torch.Size([16])\n",
      "09/01/2023, 22:05:04# labels of 0: tensor([  1, 151, 147, 141,  46,  48,  84,  71,  74, 145, 124, 160, 162, 146,\n",
      "        147,  36], device='cuda:2') torch.Size([16])\n",
      "09/01/2023, 22:05:04# predicted of 0: tensor([139, 139, 147,  66, 139, 139, 128, 139, 139, 145, 139,  66, 139,  62,\n",
      "        147, 139], device='cuda:2') torch.Size([16])\n",
      "09/01/2023, 22:05:34# labels of Validation: tensor([117, 143, 113,   1, 102, 155,  90,   1, 152,  64,  38,  47, 114, 141,\n",
      "         57, 123], device='cuda:2') torch.Size([16])\n",
      "09/01/2023, 22:05:34# predicted of Validation: tensor([117, 139,  66, 139, 139,   6,  66, 139, 139,  66, 139, 139,  66,  66,\n",
      "        139, 123], device='cuda:2') torch.Size([16])\n",
      "09/01/2023, 22:05:35# Validation Loss: 2.8663 | Validation Accuracy: 0.3594\n",
      "\n",
      "09/01/2023, 22:05:35# Find a better model!!\n"
     ]
    },
    {
     "data": {
      "application/vnd.jupyter.widget-view+json": {
       "model_id": "b7a2438a31334c6b8fcd9a35bf7e1301",
       "version_major": 2,
       "version_minor": 0
      },
      "text/plain": [
       "Training:   0%|          | 0/8300 [00:00<?, ?it/s]"
      ]
     },
     "metadata": {},
     "output_type": "display_data"
    },
    {
     "name": "stdout",
     "output_type": "stream",
     "text": [
      "09/01/2023, 22:07:41# labels of 5000: tensor([130, 141, 121,  41,   8,  92, 157, 154, 137,  77, 139, 142, 118,  87,\n",
      "        114, 155], device='cuda:2') torch.Size([16])\n",
      "09/01/2023, 22:07:41# predicted of 5000: tensor([130, 133,  97,  97, 161,  38, 163, 154,  91,  66, 163, 150, 118,  14,\n",
      "         91,  77], device='cuda:2') torch.Size([16])\n",
      "09/01/2023, 22:09:01# total batches: 8300\n",
      "09/01/2023, 22:09:01# Epoch 23 | Train Loss: 2.8865 | Train Accuracy: 0.3520\n"
     ]
    },
    {
     "data": {
      "application/vnd.jupyter.widget-view+json": {
       "model_id": "789620ef813d4c4aa33a5bde621b5a80",
       "version_major": 2,
       "version_minor": 0
      },
      "text/plain": [
       "Validation:   0%|          | 0/1038 [00:00<?, ?it/s]"
      ]
     },
     "metadata": {},
     "output_type": "display_data"
    },
    {
     "name": "stdout",
     "output_type": "stream",
     "text": [
      "09/01/2023, 22:09:01# labels of Validation: tensor([  4,  35,  27,  52,  51, 104, 132,   1,  10,  33,  81,  82,  97, 121,\n",
      "         97,  48], device='cuda:2') torch.Size([16])\n",
      "09/01/2023, 22:09:01# predicted of Validation: tensor([ 26,  35,  27,  52, 161,  26, 161,  26,  26,  26,  26,  82,  26,  26,\n",
      "         26,  26], device='cuda:2') torch.Size([16])\n",
      "09/01/2023, 22:09:01# labels of 0: tensor([  4,  35,  27,  52,  51, 104, 132,   1,  10,  33,  81,  82,  97, 121,\n",
      "         97,  48], device='cuda:2') torch.Size([16])\n",
      "09/01/2023, 22:09:01# predicted of 0: tensor([ 26,  35,  27,  52, 161,  26, 161,  26,  26,  26,  26,  82,  26,  26,\n",
      "         26,  26], device='cuda:2') torch.Size([16])\n",
      "09/01/2023, 22:09:19# labels of Validation: tensor([134, 139, 143, 134,  31,  11, 119,  72,  12, 127,  43,   7, 118, 158,\n",
      "          1,  99], device='cuda:2') torch.Size([16])\n",
      "09/01/2023, 22:09:19# predicted of Validation: tensor([134,  26,  26, 134,  26,  26,  26,  79,  26, 127,  26,   7, 118,  26,\n",
      "         26,  99], device='cuda:2') torch.Size([16])\n",
      "09/01/2023, 22:09:20# Validation Loss: 2.8613 | Validation Accuracy: 0.3521\n",
      "\n",
      "09/01/2023, 22:09:20# Find a better model!!\n"
     ]
    },
    {
     "data": {
      "application/vnd.jupyter.widget-view+json": {
       "model_id": "4d4bd67ceb704f27bd652fb641713134",
       "version_major": 2,
       "version_minor": 0
      },
      "text/plain": [
       "Training:   0%|          | 0/8300 [00:00<?, ?it/s]"
      ]
     },
     "metadata": {},
     "output_type": "display_data"
    },
    {
     "name": "stdout",
     "output_type": "stream",
     "text": [
      "09/01/2023, 22:11:22# labels of 5000: tensor([132,  32,  48,  65,  79, 109,  98, 129, 120, 108,  38, 132,  74,  15,\n",
      "         29, 111], device='cuda:2') torch.Size([16])\n",
      "09/01/2023, 22:11:22# predicted of 5000: tensor([132,  32, 152,  75,  89, 152, 124,  75, 120, 161, 158, 132, 158,  15,\n",
      "         29,  75], device='cuda:2') torch.Size([16])\n",
      "09/01/2023, 22:12:42# total batches: 8300\n",
      "09/01/2023, 22:12:42# Epoch 24 | Train Loss: 2.8815 | Train Accuracy: 0.3527\n"
     ]
    },
    {
     "data": {
      "application/vnd.jupyter.widget-view+json": {
       "model_id": "f746a9f283fa485c8a16b28e7b975e5d",
       "version_major": 2,
       "version_minor": 0
      },
      "text/plain": [
       "Validation:   0%|          | 0/1038 [00:00<?, ?it/s]"
      ]
     },
     "metadata": {},
     "output_type": "display_data"
    },
    {
     "name": "stdout",
     "output_type": "stream",
     "text": [
      "09/01/2023, 22:12:42# labels of Validation: tensor([121,  47, 149, 166, 149,  98, 144, 165,  37, 143, 141,  68,  91,  74,\n",
      "         70,   3], device='cuda:2') torch.Size([16])\n",
      "09/01/2023, 22:12:42# predicted of Validation: tensor([ 43,  43, 149, 161, 149,  43,  43, 165, 108,  43, 108, 108, 161,  43,\n",
      "         70,   3], device='cuda:2') torch.Size([16])\n",
      "09/01/2023, 22:12:42# labels of 0: tensor([121,  47, 149, 166, 149,  98, 144, 165,  37, 143, 141,  68,  91,  74,\n",
      "         70,   3], device='cuda:2') torch.Size([16])\n",
      "09/01/2023, 22:12:42# predicted of 0: tensor([ 43,  43, 149, 161, 149,  43,  43, 165, 108,  43, 108, 108, 161,  43,\n",
      "         70,   3], device='cuda:2') torch.Size([16])\n",
      "09/01/2023, 22:13:01# labels of Validation: tensor([116,   2,   1,  20,  74,  86,  52, 117, 113, 132,   2, 162, 111,   1,\n",
      "         29,  80], device='cuda:2') torch.Size([16])\n",
      "09/01/2023, 22:13:01# predicted of Validation: tensor([ 43,  43,  43,  43,  43,  43,  52, 117, 108, 161,  43,  43,  43,  43,\n",
      "         29,  80], device='cuda:2') torch.Size([16])\n",
      "09/01/2023, 22:13:01# Validation Loss: 2.8550 | Validation Accuracy: 0.3535\n",
      "\n",
      "09/01/2023, 22:13:01# Find a better model!!\n"
     ]
    }
   ],
   "source": [
    "import csv\n",
    "import pandas as pd\n",
    "from sklearn.metrics import classification_report\n",
    "from torch.optim import AdamW, lr_scheduler\n",
    "\n",
    "seed = 8787\n",
    "same_seeds(seed)\n",
    "\n",
    "model = GAT(in_dim=150, hidden_dim=16, out_dim=168, num_heads=8)\n",
    "# in_dim means the dimension of the node_feat(50 dim, since the 50-dim embedding)\n",
    "# out_dim means the # of the categories -> 168 for out tasks\n",
    "model.load_state_dict(torch.load('model1_initial/initial_weight.pth'))\n",
    "best_model_path = \"../checkpoint_GAT/best_model_GAT_transE_150.pt\"\n",
    "\n",
    "model = model.to(device)\n",
    "\n",
    "# optimizer = torch.optim.AdamW(model.parameters(), lr=1e-5)\n",
    "optimizer = AdamW(model.parameters(), lr=5e-4)\n",
    "# scheduler = get_linear_schedule_with_warmup(optimizer, num_warmup_steps=18, num_training_steps=total_steps)\n",
    "\n",
    "# T_max control the period of the lr changing -> set 1/10 first\n",
    "scheduler = lr_scheduler.CosineAnnealingLR(optimizer, T_max=36, eta_min=0, last_epoch=- 1, verbose=False)\n",
    "\n",
    "\n",
    "criterion = nn.CrossEntropyLoss()\n",
    "total_steps = 25\n",
    "\n",
    "# save the best model\n",
    "best_val_loss = float('inf')\n",
    "patience = 5  # Number of epochs with no improvement after which training will be stopped.\n",
    "waiting = 0  # The number of epochs with no improvement so far.\n",
    "\n",
    "\n",
    "# Training Part\n",
    "for epoch in tqdm(range(total_steps)):\n",
    "    # Train\n",
    "    model.train()\n",
    "    total_loss = 0.0\n",
    "    total_accuracy = 0.0\n",
    "    num_batches = 0\n",
    "    \n",
    "    for data in tqdm(dataloaders['train'], desc=\"Training\", position=0, leave=True):\n",
    "        num_batches += 1\n",
    "        loss, accuracy, _ = model_fn(data, model, criterion, device, num_batches, which_type='train')\n",
    "        \n",
    "        optimizer.zero_grad()\n",
    "        loss.backward()\n",
    "        optimizer.step()\n",
    "\n",
    "        total_loss += loss.item()\n",
    "        total_accuracy += accuracy.item()\n",
    "\n",
    "        \n",
    "#     scheduler.step()\n",
    "    add_log_msg(f\"total batches: {num_batches}\")\n",
    "\n",
    "    avg_loss = total_loss / num_batches\n",
    "    avg_accuracy = total_accuracy / num_batches\n",
    "\n",
    "    add_log_msg(f'Epoch {epoch} | Train Loss: {avg_loss:.4f} | Train Accuracy: {avg_accuracy:.4f}')\n",
    "\n",
    "    \n",
    "    # Validation Part\n",
    "    model.eval()\n",
    "    total_accuracy = 0.0\n",
    "    total_loss = 0.0\n",
    "    num_batches = 0\n",
    "\n",
    "\n",
    "    with torch.no_grad():\n",
    "        for data in tqdm(dataloaders['valid'], desc=\"Validation\", position=0, leave=True):\n",
    "            loss, accuracy, _ = model_fn(data, model, criterion, device, num_batches, which_type='validation')\n",
    "            total_accuracy += accuracy.item()\n",
    "            total_loss += loss.item()\n",
    "            num_batches += 1\n",
    "\n",
    "    avg_accuracy = total_accuracy / num_batches\n",
    "    current_loss = total_loss / num_batches\n",
    "    \n",
    "    add_log_msg(f'Validation Loss: {current_loss:.4f} | Validation Accuracy: {avg_accuracy:.4f}\\n')\n",
    "    \n",
    "            \n",
    "    if current_loss < best_val_loss:\n",
    "        best_val_loss = current_loss\n",
    "        waiting = 0\n",
    "        \n",
    "        if os.path.exists(best_model_path):\n",
    "            os.remove(best_model_path)\n",
    "            add_log_msg(\"Find a better model!!\")\n",
    "\n",
    "        torch.save(model.state_dict(), best_model_path)\n",
    "\n",
    "        \n",
    "#         print(best_model_path)\n",
    "\n",
    "    else:\n",
    "        waiting += 1\n",
    "        if waiting >= patience:\n",
    "            add_log_msg(\"============================== Early stopping ==================================\")\n",
    "            break"
   ]
  },
  {
   "cell_type": "markdown",
   "metadata": {},
   "source": [
    "### Testing Part"
   ]
  },
  {
   "cell_type": "code",
   "execution_count": 16,
   "metadata": {},
   "outputs": [
    {
     "data": {
      "application/vnd.jupyter.widget-view+json": {
       "model_id": "cc3b474b5d9545f894e8e81280dba619",
       "version_major": 2,
       "version_minor": 0
      },
      "text/plain": [
       "Testing:   0%|          | 0/1038 [00:00<?, ?it/s]"
      ]
     },
     "metadata": {},
     "output_type": "display_data"
    },
    {
     "name": "stdout",
     "output_type": "stream",
     "text": [
      "09/01/2023, 22:13:01# labels of Test: tensor([65, 65, 65, 65, 65, 65, 65, 65, 65, 65, 65, 65, 65, 65, 65, 65],\n",
      "       device='cuda:2') torch.Size([16])\n",
      "09/01/2023, 22:13:01# predicted of Test: tensor([43, 43, 43, 43, 43, 43, 43, 43, 43, 43, 43, 43, 43, 43, 43, 43],\n",
      "       device='cuda:2') torch.Size([16])\n",
      "09/01/2023, 22:13:01# labels of 0: tensor([65, 65, 65, 65, 65, 65, 65, 65, 65, 65, 65, 65, 65, 65, 65, 65],\n",
      "       device='cuda:2') torch.Size([16])\n",
      "09/01/2023, 22:13:01# predicted of 0: tensor([43, 43, 43, 43, 43, 43, 43, 43, 43, 43, 43, 43, 43, 43, 43, 43],\n",
      "       device='cuda:2') torch.Size([16])\n",
      "09/01/2023, 22:13:01# labels: tensor([65, 65, 65, 65, 65, 65, 65, 65, 65, 65, 65, 65, 65, 65, 65, 65],\n",
      "       device='cuda:2') torch.Size([16])\n",
      "09/01/2023, 22:13:01# predicted: tensor([43, 43, 43, 43, 43, 43, 43, 43, 43, 43, 43, 43, 43, 43, 43, 43],\n",
      "       device='cuda:2') torch.Size([16])\n",
      "09/01/2023, 22:13:20# labels of Test: tensor([162, 162, 162, 162, 162, 162, 162, 162, 162, 162, 162, 162, 162, 162,\n",
      "        162, 162], device='cuda:2') torch.Size([16])\n",
      "09/01/2023, 22:13:20# predicted of Test: tensor([43, 43, 43, 43, 43, 43, 43, 43, 43, 43, 43, 43, 43, 43, 43, 43],\n",
      "       device='cuda:2') torch.Size([16])\n",
      "09/01/2023, 22:13:20# Test Accuracy: 35.71084337349398 %\n",
      "\n",
      "\n",
      "\n"
     ]
    },
    {
     "name": "stderr",
     "output_type": "stream",
     "text": [
      "/workdir/home/euni/.local/lib/python3.6/site-packages/sklearn/metrics/_classification.py:1248: UndefinedMetricWarning: Precision and F-score are ill-defined and being set to 0.0 in labels with no predicted samples. Use `zero_division` parameter to control this behavior.\n",
      "  _warn_prf(average, modifier, msg_start, len(result))\n",
      "/workdir/home/euni/.local/lib/python3.6/site-packages/sklearn/metrics/_classification.py:1248: UndefinedMetricWarning: Precision and F-score are ill-defined and being set to 0.0 in labels with no predicted samples. Use `zero_division` parameter to control this behavior.\n",
      "  _warn_prf(average, modifier, msg_start, len(result))\n",
      "/workdir/home/euni/.local/lib/python3.6/site-packages/sklearn/metrics/_classification.py:1248: UndefinedMetricWarning: Precision and F-score are ill-defined and being set to 0.0 in labels with no predicted samples. Use `zero_division` parameter to control this behavior.\n",
      "  _warn_prf(average, modifier, msg_start, len(result))\n"
     ]
    },
    {
     "name": "stdout",
     "output_type": "stream",
     "text": [
      "09/01/2023, 22:13:32# report path: classification_report/classification_report-transE_150-0.xlsx\n",
      "09/01/2023, 22:13:32# label path: classification_report/mapped_true_predicted_labels-transE_150-0.xlsx\n"
     ]
    },
    {
     "name": "stderr",
     "output_type": "stream",
     "text": [
      "/workdir/home/euni/.local/lib/python3.6/site-packages/sklearn/metrics/_classification.py:1248: UndefinedMetricWarning: Precision and F-score are ill-defined and being set to 0.0 in labels with no predicted samples. Use `zero_division` parameter to control this behavior.\n",
      "  _warn_prf(average, modifier, msg_start, len(result))\n",
      "/workdir/home/euni/.local/lib/python3.6/site-packages/sklearn/metrics/_classification.py:1248: UndefinedMetricWarning: Precision and F-score are ill-defined and being set to 0.0 in labels with no predicted samples. Use `zero_division` parameter to control this behavior.\n",
      "  _warn_prf(average, modifier, msg_start, len(result))\n"
     ]
    },
    {
     "name": "stdout",
     "output_type": "stream",
     "text": [
      "09/01/2023, 22:13:32# mapped_report:\n",
      "                                                precision    recall  f1-score   support\n",
      "\n",
      "T1003.001_0ef4cc7b-611c-4237-b20b-db36b6906554       1.00      1.00      1.00       100\n",
      "    T1003.001_35d92515122effdd73801c6ac3021da7       0.94      0.99      0.97       100\n",
      "    T1003.002_5a484b65c247675e3b7ada4ba648d376       0.00      0.00      0.00       100\n",
      "    T1003.002_7fa4ea18694f2552547b65e23952cabb       1.00      0.99      0.99       100\n",
      "    T1003.003_9f73269695e54311dd61dc68940fb3e1       0.00      0.00      0.00       100\n",
      "    T1003.003_f049b89533298c2d6cd37a940248b219       0.00      0.00      0.00       100\n",
      "        T1003_18f31c311ac208802e88ab8d5af8603e       0.96      0.95      0.95       100\n",
      "        T1007_9d03c91bdae5a80f17f89c987942b5a8       0.99      1.00      1.00       100\n",
      "    T1007_c6607391-d02c-44b5-9b13-d3492ca58599       0.00      0.00      0.00       100\n",
      "        T1007_d6bb2a19da7246731ed9c44831b135f8       0.00      0.00      0.00       100\n",
      "    T1016_14a21534-350f-4d83-9dd7-3c56b93a0c17       0.00      0.00      0.00       100\n",
      "        T1016_71b3d2945679566b9d94d8cb11df4b70       0.00      0.00      0.00       100\n",
      "        T1016_7d8ee68f0e9731db82964f558f614608       0.00      0.00      0.00       100\n",
      "    T1016_921055f4-5970-4707-909e-62f594234d91       0.00      0.00      0.00       100\n",
      "    T1016_a0676fe1-cd52-482e-8dde-349b73f9aa69       0.00      0.00      0.00       100\n",
      "    T1016_e8017c46-acb8-400c-a4b5-b3362b5b5baa       0.00      0.00      0.00       100\n",
      "    T1018_26c8b8b5-7b5b-4de1-a128-7d37fb14f517       0.00      0.00      0.00       100\n",
      "        T1018_a44bb43474728496276d5d73aa14588f       0.00      0.00      0.00       100\n",
      "        T1018_ac20e592bc912bddff4d6b88289095f0       0.00      0.00      0.00       100\n",
      "    T1021.001_dd67068b052fa553ad4a0ac7d6a5ea89       0.91      0.95      0.93       100\n",
      "    T1033_bd527b63-9f9e-46e0-9816-b8434d2b8989       0.00      0.00      0.00       100\n",
      "    T1033_c0da588f-79f0-4263-8998-7496b1a40596       0.00      0.00      0.00       100\n",
      "    T1036.003_04e8d83e7badf098d50800d6aa1dd487       1.00      1.00      1.00       100\n",
      "    T1036.003_f5ef8466e5ebcd2ae03f338d9416069c       1.00      1.00      1.00       100\n",
      "    T1036.004_1f0614ea5c4af6faf1b44570f5f22f8a       0.00      0.00      0.00       100\n",
      "    T1036.004_7de3d7b4922a7b996d8df36fb22bb118       0.00      0.00      0.00       100\n",
      "    T1037.001_62cfa90fb03a6bc1a6ebcce8a3ea81b7       0.99      1.00      1.00       100\n",
      "        T1040_6881a4589710d53f0c146e91db513f01       0.95      0.98      0.97       100\n",
      "        T1047_09e0f9cf2eb803a1c35deeecf3665fad       0.00      0.00      0.00       100\n",
      "        T1047_6935e41353aa781bb723462d26114c44       0.00      0.00      0.00       100\n",
      "        T1047_ac122553ab4426ea3362bb4a97d31bfd       0.00      0.00      0.00       100\n",
      "        T1047_ac2764f7a67a9ce92b54e8e59b361838       0.00      0.00      0.00       100\n",
      "        T1047_b0255b5120cbabc062d8d4510a142c3b       0.00      0.00      0.00       100\n",
      "        T1047_ed736a123da6fb2aab22cfd4f437e8b5       0.00      0.00      0.00       100\n",
      "        T1047_f4b0b4129560ea66f9751275e82f6bab       0.00      0.00      0.00       100\n",
      "    T1049_638fb6bb-ba39-4285-93d1-7e4775b033a8       0.00      0.00      0.00       100\n",
      "        T1049_a14392d713dffba6a397682ff83259a0       0.00      0.00      0.00       100\n",
      "    T1053.005_5db2884b6ca3ab932848f295a3896dc0       0.00      0.00      0.00       100\n",
      "    T1053.005_ee454be9197890de62705ce6255933fd       0.00      0.00      0.00       100\n",
      "T1055.001_a74bc239-a196-4f7e-8d5c-fe8c0266071c       0.00      0.00      0.00       100\n",
      "T1055.002_e5bcefee-262d-4568-a261-e8a20855ec81       0.00      0.00      0.00       100\n",
      "    T1057_5a39d7ed-45c9-4a79-b581-e5fb99e24f65       0.00      0.00      0.00       100\n",
      "    T1057_8adf02e8-6e71-4244-886c-98c402857404       0.00      0.00      0.00       100\n",
      "        T1057_b2a1e430ca6d36eb5af2fe666e769847       0.00      0.00      0.00       100\n",
      "        T1057_f8de05d1741dcc468f772ab0ff4dac72       0.00      0.00      0.00       100\n",
      "T1059.001_55678719-e76e-4df9-92aa-10655bbd1cf4       1.00      1.00      1.00       100\n",
      "    T1059.001_6efbccc1869e8cd618c0d3ecda407d5f       1.00      1.00      1.00       100\n",
      "T1059.001_702bfdd2-9947-4eda-b551-c3a1ea9a59a2       0.94      1.00      0.97       100\n",
      "T1059.001_bfff9006-d1fb-46ce-b173-92cb04e9a031       0.97      1.00      0.99       100\n",
      "T1059.001_ccdb8caf-c69e-424b-b930-551969450c57       0.00      0.00      0.00       100\n",
      "T1059.001_e5f9de8f-3df1-4e78-ad92-a784e3f6770d       1.00      1.00      1.00       100\n",
      "    T1059.003_6c318ef0339d74d909ad556681b6493e       0.00      0.00      0.00       100\n",
      "    T1059.003_f38e58deb7ad20b5538ca40db7b7b4f8       0.00      0.00      0.00       100\n",
      "T1069.001_5c4dd985-89e3-4590-9b57-71fed66ff4e2       0.98      0.94      0.96       100\n",
      "    T1069.001_a1f48fa3ddee658b29b414523c9a295b       0.00      0.00      0.00       100\n",
      "    T1069.002_6103e503cb444bc7b4187704f2035708       0.00      0.00      0.00       100\n",
      "    T1070.005_1f91076e2be2014cc7b4f1296de02fd6       0.85      0.99      0.91       100\n",
      "    T1071.001_24c3b7b004401d839a5c337201da3484       0.97      0.97      0.97       100\n",
      "T1074.001_4e97e699-93d7-4040-b5a3-2e906a58199e       0.00      0.00      0.00       100\n",
      "T1074.001_6469befa-748a-4b9c-a96d-f191fde47d89       0.00      0.00      0.00       100\n",
      "    T1074.001_e6dfc7e89359ac6fa6de84b0e1d5762e       0.00      0.00      0.00       100\n",
      "    T1078.001_d0ca00832890baa1d42322cf70fcab1a       0.00      0.00      0.00       100\n",
      "    T1082_29451844-9b76-4e16-a9ee-d6feab4b24db       0.00      0.00      0.00       100\n",
      "    T1083_52177cc1-b9ab-4411-ac21-2eadc4b5d3b8       0.00      0.00      0.00       100\n",
      "    T1083_6e1a53c0-7352-4899-be35-fa7f364d5722       0.00      0.00      0.00       100\n",
      "    T1087.001_6334877e8e3ba48f7835d4856d90a282       0.00      0.00      0.00       100\n",
      "T1087.001_feaced8f-f43f-452a-9500-a5219488abb8       0.00      0.00      0.00       100\n",
      "    T1090.001_ba343199a4f15ed6b57eb52412f62e4e       0.53      0.17      0.26       100\n",
      "        T1105_0856c235a1d26113d4f2d92e39c9a9f8       1.00      1.00      1.00       100\n",
      "        T1105_1095434782a00c8a4772a11e625bcf5d       0.64      0.67      0.66       100\n",
      "        T1105_4f683658f161ccdc51337c470d32bab9       0.00      0.00      0.00       100\n",
      "    T1105_60f63260-39bb-4136-87a0-b6c2dca799fc       1.00      1.00      1.00       100\n",
      "        T1105_c521e0a70b243a0cf9217907ca3c6d27       0.99      1.00      1.00       100\n",
      "        T1105_c76968acda4aa1673dadcd67f3ab7664       1.00      0.99      0.99       100\n",
      "        T1105_e6715e61f5df646692c624b3499384c4       1.00      1.00      1.00       100\n",
      "    T1105_eb814e03-811a-467a-bc6d-dcd453750fa2       0.07      1.00      0.12       100\n",
      "        T1112_257313a3c93e3bb7dfb60d6753b09e34       0.92      0.89      0.90       100\n",
      "        T1112_34041639e6e501856ecaf5969ee29c76       0.81      0.93      0.87       100\n",
      "        T1112_35c0360d226cf38104f300d9d57ce60e       0.83      0.95      0.88       100\n",
      "        T1112_4bfb5f265a5ce07af6bf10da113af7db       0.90      0.92      0.91       100\n",
      "        T1112_7fe6a66d03f4dbfc022609ba311c2b11       0.87      0.86      0.86       100\n",
      "        T1112_ba6f6214dbd17c54001e0a163b60f151       0.78      0.94      0.85       100\n",
      "        T1112_cab7b85611a290c0769546bfa9d6f962       0.96      0.86      0.91       100\n",
      "        T1112_cd8be0e6b873919da25530a2c7ea6750       0.00      0.00      0.00       100\n",
      "        T1112_e74d2fb4ef5fa6c766a4151554033697       0.95      0.89      0.92       100\n",
      "        T1112_e7a987cbef27263e666e5b096488dc55       1.00      1.00      1.00       100\n",
      "        T1112_fa4ba6a06b4a5cd955ea5a60fae24281       0.89      0.85      0.87       100\n",
      "        T1112_fd992e8ecfdac9b56dd6868904044827       0.89      0.90      0.90       100\n",
      "    T1113_316251ed-6a28-4013-812b-ddf5b5b007f8       0.00      0.00      0.00       100\n",
      "        T1115_70795de7cbb842edb029b3378c27c008       1.00      1.00      1.00       100\n",
      "    T1115_b007fe0c-c6b0-4fda-915c-255bbc070de2       0.00      0.00      0.00       100\n",
      "        T1119_344e7eaf650763e0d3e9f02e62c1cf4b       0.00      0.00      0.00       100\n",
      "        T1119_7121cdf93b951311be9d7078c602efdc       1.00      1.00      1.00       100\n",
      "        T1120_7b9c7afaefa59aab759b49af0d699ac1       0.00      0.00      0.00       100\n",
      "        T1123_372e6f46fca18e4f1b43209c20ffafa2       0.94      0.98      0.96       100\n",
      "    T1124_fa6e8607-e0b1-425d-8924-9b894da5a002       0.00      0.00      0.00       100\n",
      "        T1125_da86001b5081fcf773d8e62f22cf2b00       0.94      0.99      0.97       100\n",
      "    T1135_530e47c6-8592-42bf-91df-c59ffbd8541b       0.00      0.00      0.00       100\n",
      "    T1135_deeac480-5c2a-42b5-90bb-41675ee53c7e       0.00      0.00      0.00       100\n",
      "    T1137.002_e2af3c3ab1b0f659c874b8af58c49759       0.98      0.97      0.97       100\n",
      "        T1137_12ad9edefc86af07700fbf49bfdac6ba       1.00      1.00      1.00       100\n",
      "        T1201_38f6f0e50a6b196140ec40d3dc9cc9e6       0.00      0.00      0.00       100\n",
      "        T1201_57296a2ddbeb7423c05feef2fe972111       0.00      0.00      0.00       100\n",
      "    T1204.002_522f3f35cd013e63830fa555495a0081       1.00      1.00      1.00       100\n",
      "        T1217_69bbe2183fa09c00ccaac62d48e214f8       0.00      0.00      0.00       100\n",
      "        T1217_f7a0f7d704aa52a764d9d1bee81e65d6       0.00      0.00      0.00       100\n",
      "        T1219_7dabcbecab0334b115feefab1630f84a       1.00      1.00      1.00       100\n",
      "        T1219_af8cb2bf9b436aae5c106a0a9c207e14       1.00      1.00      1.00       100\n",
      "        T1219_f1b3fca18d7465cd10e5a7477a3bf97d       1.00      1.00      1.00       100\n",
      "    T1482_6131397e-7765-424e-a594-3d7fb2d93a6a       0.00      0.00      0.00       100\n",
      "        T1482_cfb61005899996469ae3023796792ca5       0.00      0.00      0.00       100\n",
      "        T1486_d82ceb9939d3d920ee550187ad8235c8       0.00      0.00      0.00       100\n",
      "        T1490_2d53d6fabd39bf9c70b0dfcdfbbc926d       0.00      0.00      0.00       100\n",
      "        T1490_8467c994685ccf178db166964bd80fab       0.00      0.00      0.00       100\n",
      "        T1490_9e5e4c0655fd1b5be88bd40b8251175f       0.00      0.00      0.00       100\n",
      "        T1490_c156ac5c9fa67080365268d95f29053d       0.00      0.00      0.00       100\n",
      "        T1490_c8f329d2847ede593b6cb4a1ec6120fb       0.96      1.00      0.98       100\n",
      "        T1490_e90756bb6dcd21462dc4cc452661df91       0.00      0.00      0.00       100\n",
      "    T1491_47d08617-5ce1-424a-8cc5-c9c978ce6bf9       0.00      0.00      0.00       100\n",
      "    T1491_68235976-2404-42a8-9105-68230cfef562       0.00      0.00      0.00       100\n",
      "    T1496_46da2385-cf37-49cb-ba4b-a739c7a19de4       1.00      1.00      1.00       100\n",
      "T1497.001_1258b063-27d6-489b-a677-4807faacf868       0.00      0.00      0.00       100\n",
      "T1497.001_5dc841fd-28ad-40e2-b10e-fb007fe09e81       0.00      0.00      0.00       100\n",
      "T1497.001_7a6ba833-de40-466a-8969-5c37b13603e0       0.00      0.00      0.00       100\n",
      "    T1499_2fe2d5e6-7b06-4fc0-bf71-6966a1226731       0.00      0.00      0.00       100\n",
      "T1518.001_2dece965-37a0-4f70-a391-0f30e3331aba       0.00      0.00      0.00       100\n",
      "    T1518.001_33a24ff44719e6ac0614b58f8c9a7c72       0.00      0.00      0.00       100\n",
      "    T1518.001_b8453a5fe06b24aea12b27592d5c3d3a       0.00      0.00      0.00       100\n",
      "        T1518_8ddfaf982ab359cda13626b870ccb339       0.73      0.76      0.75       100\n",
      "    T1518_c9be8043-a445-4cbf-b77b-ed7bb007fc7c       0.00      0.00      0.00       100\n",
      "        T1531_aa6b15485a5f50ced34d87fda177b758       0.00      0.00      0.00       100\n",
      "        T1531_b25ae80dad74142fafb510e9c1949ace       0.00      0.00      0.00       100\n",
      "    T1546.013_f9a968af61d36983448c74cca5464e17       1.00      1.00      1.00       100\n",
      "    T1547.001_0dbdf1a2a87e718a6ac8a8e3415a7fac       0.99      0.97      0.98       100\n",
      "    T1547.001_163b023f43aba758d36f524d146cb8ea       0.92      0.98      0.95       100\n",
      "    T1547.001_1f15ab22c39a9b6bb2bb0d77276dfcb3       0.00      0.00      0.00       100\n",
      "    T1547.001_4b71ebb2f6f6a01235ba240fa40ce978       0.00      0.00      0.00       100\n",
      "    T1547.001_777043894e42d2aae3881e63f6c76d33       0.00      0.00      0.00       100\n",
      "    T1547.001_d3ef4145e4144fd694514b1c5cc17350       0.95      0.94      0.94       100\n",
      "    T1547.004_0856714c9810ac55b53e9964d02958a0       0.01      1.00      0.03       100\n",
      "    T1547.004_aa147165f6c116cb0b0f944abe1db8ce       0.00      0.00      0.00       100\n",
      "    T1547.009_501af516bd8b24fee0c7c650ae5cc861       0.00      0.00      0.00       100\n",
      "    T1547.009_b6e5c895c6709fe289352ee23f062229       0.00      0.00      0.00       100\n",
      "    T1547.010_4593d72a5145e3f494421ac772d37464       0.99      0.98      0.98       100\n",
      "        T1547_fe9eeee9a7b339089e5fa634b08522c1       1.00      0.99      0.99       100\n",
      "T1548.002_665432a4-42e7-4ee1-af19-a9a8c9455d0c       0.00      0.00      0.00       100\n",
      "    T1552.002_3e5b04b8ee0a1a4950da8f35d95e65fc       0.00      0.00      0.00       100\n",
      "        T1560_a1ee301b0508747b468d578a14e5c1a5       0.00      0.00      0.00       100\n",
      "    T1562.001_43e3334362b140924f001b256b229ee5       0.00      0.00      0.00       100\n",
      "    T1562.002_6a8d25d65a7d481dc479f89c62af1e6a       0.92      0.83      0.87       100\n",
      "    T1562.002_94f51bf01a7036fe02d07b4c18967669       0.00      0.00      0.00       100\n",
      "    T1562.004_280003641a5cddf916c4f2bf605a71d3       0.00      0.00      0.00       100\n",
      "    T1562.004_41627f71f968225b9f162cb76d16bd9d       0.00      0.00      0.00       100\n",
      "    T1562.004_5b93df032e230056c21a3e57334f77d1       0.00      0.00      0.00       100\n",
      "    T1562.004_8d0a4585e7c4646185a912b14cd9cb46       0.00      0.00      0.00       100\n",
      "    T1562.004_8fe59e288f10a486dc8b44bc872019ff       0.88      0.89      0.89       100\n",
      "    T1564.001_66a5fd5f244819181f074dd082a28905       0.48      0.61      0.54       100\n",
      "    T1564.001_dce51e632abdfe5392c7c1f942ac9273       0.46      0.33      0.39       100\n",
      "    T1564.003_9a2edad4053a2b59fb9167a9bc29e7dc       0.53      0.50      0.52       100\n",
      "    T1564.004_28862487a99f5f89bc0d68c87396c7e9       0.00      0.00      0.00       100\n",
      "    T1564.004_76b6066fe170d38215251102e42be973       0.00      0.00      0.00       100\n",
      "        T1564_dedfa0a54c9c13ce5714a0dc2e1f5d1a       0.00      0.00      0.00       100\n",
      "    T1566.001_1afaec09315ab71fdfb167175e8a019a       0.00      0.00      0.00       100\n",
      "    T1574.001_63bbedafba2f541552ac3579e9e3737b       1.00      1.00      1.00       100\n",
      "    T1574.011_72249c1e9ffe7d8f30243d838e0791ca       0.97      0.98      0.98       100\n",
      "                                        benign       0.00      0.00      0.00       100\n",
      "\n",
      "                                      accuracy                           0.36     16600\n",
      "                                     macro avg       0.34      0.36      0.34     16600\n",
      "                                  weighted avg       0.34      0.36      0.34     16600\n",
      "\n"
     ]
    },
    {
     "name": "stderr",
     "output_type": "stream",
     "text": [
      "/workdir/home/euni/.local/lib/python3.6/site-packages/sklearn/metrics/_classification.py:1248: UndefinedMetricWarning: Precision and F-score are ill-defined and being set to 0.0 in labels with no predicted samples. Use `zero_division` parameter to control this behavior.\n",
      "  _warn_prf(average, modifier, msg_start, len(result))\n"
     ]
    }
   ],
   "source": [
    "# load the pretrained model\n",
    "pretrained_model_path = '../checkpoint_GAT/best_model_GAT_transE_150.pt'\n",
    "model.load_state_dict(torch.load(pretrained_model_path))\n",
    "\n",
    "model.to(device)\n",
    "model.eval()\n",
    "\n",
    "total = 0\n",
    "correct = 0\n",
    "count = 0\n",
    "\n",
    "true_labels = []\n",
    "predicted_labels = []\n",
    "\n",
    "with torch.no_grad():\n",
    "    for data in tqdm(dataloaders['test'], desc=\"Testing\", position=0, leave=True):\n",
    "\n",
    "        loss, accuracy, predicted = model_fn(data, model, criterion, device, count, which_type='test')\n",
    "        labels = data[1].to(device)\n",
    "        \n",
    "        true_labels.extend(labels.cpu().numpy())\n",
    "        predicted_labels.extend(predicted.cpu().numpy())\n",
    "        \n",
    "        if count % 5000 == 0:\n",
    "            add_log_msg(f\"labels: {labels} {labels.shape}\")\n",
    "            add_log_msg(f\"predicted: {predicted} {predicted.shape}\")\n",
    "            \n",
    "        count += 1\n",
    "        \n",
    "        total += labels.size(0)\n",
    "        correct += (predicted == labels).sum().item()\n",
    "\n",
    "add_log_msg(f'Test Accuracy: {100 * correct / total} %\\n\\n\\n')\n",
    "\n",
    "\n",
    "# ======================================== handlig the output excel files ========================================\n",
    "mapping_file = './new_mapping.txt'\n",
    "label_mapping = {}\n",
    "with open(mapping_file, 'r') as f:\n",
    "    for line in f:\n",
    "        parts = line.strip().split(': ')\n",
    "        label_mapping[int(parts[1])] = parts[0]\n",
    "        \n",
    "# 将映射后的标签应用到true和predicted标签列表\n",
    "mapped_true_labels = [label_mapping[label] for label in true_labels]\n",
    "mapped_predicted_labels = [label_mapping[label] for label in predicted_labels]\n",
    "\n",
    "# 生成Scikit-learn报告信息的DataFrame\n",
    "report_data = classification_report(mapped_true_labels, mapped_predicted_labels, output_dict=True)\n",
    "report_df = pd.DataFrame(report_data).transpose()\n",
    "\n",
    "report_folder = 'classification_report'\n",
    "os.makedirs(report_folder, exist_ok=True)\n",
    "\n",
    "count = 0\n",
    "while True:\n",
    "    report_filename = f'classification_report-transE_150-{count}.xlsx'\n",
    "    labels_filename = f'mapped_true_predicted_labels-transE_150-{count}.xlsx'\n",
    "    \n",
    "    report_path = os.path.join(report_folder, report_filename)\n",
    "    labels_path = os.path.join(report_folder, labels_filename)\n",
    "    \n",
    "    if not os.path.exists(report_path) and not os.path.exists(labels_path):\n",
    "        break\n",
    "    count += 1\n",
    "\n",
    "    \n",
    "report_df.to_excel(report_path, index_label='Label')\n",
    "\n",
    "mapped_labels_df = pd.DataFrame({'true_label': mapped_true_labels, 'predicted_label': mapped_predicted_labels})\n",
    "mapped_labels_df.to_excel(labels_path, index=False)\n",
    "\n",
    "add_log_msg(f\"report path: {report_path}\")\n",
    "add_log_msg(f\"label path: {labels_path}\")\n",
    "\n",
    "mapped_report = classification_report(mapped_true_labels, mapped_predicted_labels)\n",
    "add_log_msg(f\"mapped_report:\\n{mapped_report}\")"
   ]
  },
  {
   "cell_type": "code",
   "execution_count": null,
   "metadata": {},
   "outputs": [],
   "source": []
  },
  {
   "cell_type": "code",
   "execution_count": null,
   "metadata": {},
   "outputs": [],
   "source": []
  },
  {
   "cell_type": "code",
   "execution_count": null,
   "metadata": {},
   "outputs": [],
   "source": []
  }
 ],
 "metadata": {
  "kernelspec": {
   "display_name": "Python 3",
   "language": "python",
   "name": "python3"
  },
  "language_info": {
   "codemirror_mode": {
    "name": "ipython",
    "version": 3
   },
   "file_extension": ".py",
   "mimetype": "text/x-python",
   "name": "python",
   "nbconvert_exporter": "python",
   "pygments_lexer": "ipython3",
   "version": "3.6.9"
  }
 },
 "nbformat": 4,
 "nbformat_minor": 2
}
