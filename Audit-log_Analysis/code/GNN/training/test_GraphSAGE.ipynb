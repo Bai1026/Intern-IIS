{
 "cells": [
  {
   "cell_type": "markdown",
   "metadata": {},
   "source": [
    "# Test of GraphSAGE\n",
    "- use DGL\n",
    "- predict `graphs`\n",
    "- valid, test data are in the training dataset"
   ]
  },
  {
   "cell_type": "code",
   "execution_count": 39,
   "metadata": {},
   "outputs": [
    {
     "name": "stdout",
     "output_type": "stream",
     "text": [
      "Found existing installation: dgl 1.1.1\n",
      "Uninstalling dgl-1.1.1:\n",
      "  Would remove:\n",
      "    /workdir/home/euni/anaconda3/lib/python3.9/site-packages/dgl-1.1.1.dist-info/*\n",
      "    /workdir/home/euni/anaconda3/lib/python3.9/site-packages/dgl/*\n",
      "Proceed (Y/n)? ^C\n",
      "\u001b[31mERROR: Operation cancelled by user\u001b[0m\n"
     ]
    }
   ],
   "source": [
    "!pip uninstall dgl"
   ]
  },
  {
   "cell_type": "code",
   "execution_count": 1,
   "metadata": {},
   "outputs": [],
   "source": [
    "import dgl\n",
    "import json\n",
    "import torch\n",
    "import torch as th\n",
    "import dgl.nn as dglnn\n",
    "# from tqdm import tqdm\n",
    "from tqdm.notebook import tqdm  # 使用 notebook 版本的 tqdm\n",
    "import torch.nn as nn\n",
    "from dgl.nn import GraphConv, GATConv, SAGEConv\n",
    "import torch.nn.functional as F\n",
    "from torch.utils.data import Dataset, DataLoader\n",
    "from transformers import get_linear_schedule_with_warmup"
   ]
  },
  {
   "cell_type": "markdown",
   "metadata": {},
   "source": [
    "- check the GPU and assign the GPU by the best memory usage"
   ]
  },
  {
   "cell_type": "code",
   "execution_count": 37,
   "metadata": {},
   "outputs": [
    {
     "name": "stdout",
     "output_type": "stream",
     "text": [
      "cuda:1\n"
     ]
    }
   ],
   "source": [
    "import subprocess\n",
    "import torch\n",
    "\n",
    "def get_free_gpu():\n",
    "    try:\n",
    "        # Run nvidia-smi command to get GPU details\n",
    "        _output_to_list = lambda x: x.decode('ascii').split('\\n')[:-1]\n",
    "        command = \"nvidia-smi --query-gpu=memory.free --format=csv,nounits,noheader\"\n",
    "        memory_free_info = _output_to_list(subprocess.check_output(command.split())) \n",
    "        memory_free_values = [int(x) for i, x in enumerate(memory_free_info)]\n",
    "        \n",
    "        # Get the GPU with the maximum free memory\n",
    "        best_gpu_id = memory_free_values.index(max(memory_free_values))\n",
    "        return best_gpu_id\n",
    "    except:\n",
    "        # If any exception occurs, default to GPU 0 (this handles cases where nvidia-smi isn't installed)\n",
    "        return 0\n",
    "\n",
    "if torch.cuda.is_available():\n",
    "    # Get the best GPU ID based on free memory and set it\n",
    "    best_gpu_id = get_free_gpu()\n",
    "    device = torch.device(f\"cuda:{best_gpu_id}\")\n",
    "else:\n",
    "    device = torch.device(\"cpu\")\n",
    "    print(\"there's no available GPU\")\n",
    "\n",
    "# device = torch.device(f\"cuda:{1}\")\n",
    "print(device)\n"
   ]
  },
  {
   "cell_type": "markdown",
   "metadata": {},
   "source": [
    "## Fix the seed"
   ]
  },
  {
   "cell_type": "code",
   "execution_count": 11,
   "metadata": {},
   "outputs": [],
   "source": [
    "import numpy as np\n",
    "import torch\n",
    "import random\n",
    "\n",
    "#fix seed\n",
    "def same_seeds(seed = 8787):\n",
    "    torch.manual_seed(seed)\n",
    "    # random.seed(seed) \n",
    "    if torch.cuda.is_available():\n",
    "        torch.cuda.manual_seed(seed)\n",
    "        torch.cuda.manual_seed_all(seed)  \n",
    "    np.random.seed(seed)  \n",
    "    torch.backends.cudnn.benchmark = False\n",
    "    torch.backends.cudnn.deterministic = True"
   ]
  },
  {
   "cell_type": "markdown",
   "metadata": {},
   "source": [
    "## Data Loader"
   ]
  },
  {
   "cell_type": "code",
   "execution_count": 4,
   "metadata": {},
   "outputs": [],
   "source": [
    "class GraphDataset(Dataset):\n",
    "    def __init__(self, data_list, device):\n",
    "        self.data_list = data_list\n",
    "        self.device = device\n",
    "\n",
    "    def __len__(self):\n",
    "        return len(self.data_list)\n",
    "    \n",
    "    def __getitem__(self, idx):\n",
    "        data = self.data_list[idx]\n",
    "\n",
    "        g = dgl.graph((th.tensor(data[\"edge_index\"][0]), th.tensor(data[\"edge_index\"][1])), num_nodes=data[\"num_nodes\"]).to(self.device)\n",
    "\n",
    "        g.ndata['feat'] = th.tensor(data[\"node_feat\"]).to(self.device)\n",
    "        g.edata['feat'] = th.tensor(data[\"edge_attr\"]).to(self.device)  # Add edge features to graph\n",
    "\n",
    "        return g, th.tensor(data[\"label\"]).to(self.device)\n",
    "\n",
    "\n",
    "def collate(samples):\n",
    "    # The input `samples` is a list of pairs\n",
    "    #  (graph, label).\n",
    "    graphs, labels = map(list, zip(*samples))\n",
    "    batched_graph = dgl.batch(graphs)\n",
    "    return batched_graph, torch.tensor(labels)\n"
   ]
  },
  {
   "cell_type": "code",
   "execution_count": 5,
   "metadata": {},
   "outputs": [
    {
     "data": {
      "application/vnd.jupyter.widget-view+json": {
       "model_id": "761e36f6b24e4fc4b4a89167a0f5bb0c",
       "version_major": 2,
       "version_minor": 0
      },
      "text/plain": [
       "  0%|          | 0/3 [00:00<?, ?it/s]"
      ]
     },
     "metadata": {},
     "output_type": "display_data"
    },
    {
     "name": "stdout",
     "output_type": "stream",
     "text": [
      "../../data_processing/dgl/data/test_graph/repeated_train.jsonl\n"
     ]
    },
    {
     "data": {
      "application/vnd.jupyter.widget-view+json": {
       "model_id": "b75e38897a1f4322adcb87537b6e6b0b",
       "version_major": 2,
       "version_minor": 0
      },
      "text/plain": [
       "0it [00:00, ?it/s]"
      ]
     },
     "metadata": {},
     "output_type": "display_data"
    },
    {
     "name": "stdout",
     "output_type": "stream",
     "text": [
      "../../data_processing/dgl/data/test_graph/repeated_valid.jsonl\n"
     ]
    },
    {
     "data": {
      "application/vnd.jupyter.widget-view+json": {
       "model_id": "dc912984af9e4d75a8e2e431cad99cae",
       "version_major": 2,
       "version_minor": 0
      },
      "text/plain": [
       "0it [00:00, ?it/s]"
      ]
     },
     "metadata": {},
     "output_type": "display_data"
    },
    {
     "name": "stdout",
     "output_type": "stream",
     "text": [
      "../../data_processing/dgl/data/test_graph/repeated_test.jsonl\n"
     ]
    },
    {
     "data": {
      "application/vnd.jupyter.widget-view+json": {
       "model_id": "4b252780fe28487094466962b0486081",
       "version_major": 2,
       "version_minor": 0
      },
      "text/plain": [
       "0it [00:00, ?it/s]"
      ]
     },
     "metadata": {},
     "output_type": "display_data"
    },
    {
     "name": "stdout",
     "output_type": "stream",
     "text": [
      "Datasets loaded!\n"
     ]
    }
   ],
   "source": [
    "datasets = ['train', 'valid', 'test']\n",
    "dataset_data = {}\n",
    "\n",
    "for dataset_name in tqdm(datasets):\n",
    "    file_path = f\"../../data_processing/dgl/data/test_graph/repeated_{dataset_name}.jsonl\"\n",
    "    \n",
    "    print(file_path)\n",
    "    with open(file_path) as f:\n",
    "        data_list = [json.loads(line) for line in tqdm(f, position=0, leave=True)]\n",
    "    \n",
    "    dataset_data[dataset_name] = GraphDataset(data_list, device)\n",
    "\n",
    "print(\"Datasets loaded!\")"
   ]
  },
  {
   "cell_type": "markdown",
   "metadata": {},
   "source": [
    "- choose batch size"
   ]
  },
  {
   "cell_type": "code",
   "execution_count": 6,
   "metadata": {},
   "outputs": [],
   "source": [
    "def create_dataloaders(batch_size, shuffle=True):\n",
    "    dataloaders = {}\n",
    "    for dataset_name, dataset in dataset_data.items():\n",
    "        dataloaders[dataset_name] = DataLoader(dataset, batch_size=batch_size, shuffle=shuffle, collate_fn=collate)\n",
    "    return dataloaders\n",
    "\n",
    "dataloaders = create_dataloaders(4)\n",
    "# dataloaders = create_dataloaders(16)"
   ]
  },
  {
   "cell_type": "markdown",
   "metadata": {},
   "source": [
    "- Turn the print message to a log file"
   ]
  },
  {
   "cell_type": "code",
   "execution_count": 7,
   "metadata": {},
   "outputs": [
    {
     "name": "stdout",
     "output_type": "stream",
     "text": [
      "../log_message/0816_16:24_GraphSAGE.log\n"
     ]
    }
   ],
   "source": [
    "import datetime\n",
    "\n",
    "now = datetime.datetime.now()\n",
    "\n",
    "formatted_time = now.strftime(\"%m%d_%H:%M\")\n",
    "\n",
    "log_file_path = f\"../log_message/{formatted_time}_GraphSAGE.log\"\n",
    "\n",
    "def add_log_msg(msg, log_file_path=log_file_path):\n",
    "    with open(log_file_path, 'a') as f:\n",
    "        f.write(f'{datetime.datetime.now().strftime(\"%m/%d/%Y, %H:%M:%S\")}# {msg}\\n')\n",
    "    print(f'{datetime.datetime.now().strftime(\"%m/%d/%Y, %H:%M:%S\")}# {msg}')\n",
    "\n",
    "print(log_file_path)"
   ]
  },
  {
   "cell_type": "markdown",
   "metadata": {},
   "source": [
    "### Model"
   ]
  },
  {
   "cell_type": "code",
   "execution_count": 21,
   "metadata": {},
   "outputs": [],
   "source": [
    "class GraphSAGE(nn.Module):\n",
    "    def __init__(self, in_dim, hidden_dim, out_dim):\n",
    "        super(GraphSAGE, self).__init__()\n",
    "        self.layer1 = dglnn.SAGEConv(in_dim, hidden_dim, 'mean')\n",
    "        self.layer2 = dglnn.SAGEConv(hidden_dim, out_dim, 'mean')  # Output layer\n",
    "\n",
    "    def forward(self, g, inputs):\n",
    "        h = self.layer1(g, inputs)\n",
    "        h = torch.relu(h)\n",
    "        h = self.layer2(g, h)  # You can apply another non-linearity here if needed\n",
    "        \n",
    "        g.ndata['h'] = h\n",
    "        hg = dgl.mean_nodes(g, 'h')\n",
    "        return hg\n"
   ]
  },
  {
   "cell_type": "markdown",
   "metadata": {},
   "source": [
    "- Model Forward  "
   ]
  },
  {
   "cell_type": "code",
   "execution_count": 22,
   "metadata": {},
   "outputs": [],
   "source": [
    "def model_fn(data, model, criterion, device, count=1, type='train'):\n",
    "    \"\"\"Forward a batch through the model.\"\"\"\n",
    "    batched_g, labels = data\n",
    "    batched_g = batched_g.to(device)\n",
    "    \n",
    "    labels = labels.to(device)\n",
    "    logits = model(batched_g, batched_g.ndata['feat'].float()) # for GAT\n",
    "    logits = logits.mean(dim=1)\n",
    "    \n",
    "    loss = criterion(logits, labels)\n",
    "\n",
    "    # Get the class id with the highest probability\n",
    "    preds = logits.argmax(1)\n",
    "    \n",
    "    # Compute accuracy\n",
    "    accuracy = torch.mean((preds == labels).float())\n",
    "    \n",
    "    if type == 'validation':\n",
    "        add_log_msg(f\"labels of Validation: {labels} {labels.shape}\")\n",
    "        add_log_msg(f\"predicted of Validation: {preds} {preds.shape}\")\n",
    "        \n",
    "    elif type == 'test':\n",
    "        add_log_msg(f\"labels of Test: {labels} {labels.shape}\")\n",
    "        add_log_msg(f\"predicted of Test: {preds} {preds.shape}\")\n",
    "        \n",
    "    if count % 5000 == 0: \n",
    "        add_log_msg(f\"labels of {count}: {labels} {labels.shape}\")\n",
    "        add_log_msg(f\"predicted of {count}: {preds} {preds.shape}\")\n",
    "        \n",
    "    return loss, accuracy, preds"
   ]
  },
  {
   "cell_type": "markdown",
   "metadata": {},
   "source": [
    "### Training"
   ]
  },
  {
   "cell_type": "markdown",
   "metadata": {},
   "source": [
    "- Fix the seed and save the model.state_dict that contains the initial weight"
   ]
  },
  {
   "cell_type": "code",
   "execution_count": 32,
   "metadata": {},
   "outputs": [],
   "source": [
    "seed = 8787\n",
    "same_seeds(seed)\n",
    "\n",
    "model = GraphSAGE(in_dim=50, hidden_dim=16, out_dim=168)\n",
    "torch.save(model.state_dict(), 'model3_initial(graphsage)/initial_weight.pth')"
   ]
  },
  {
   "cell_type": "code",
   "execution_count": 33,
   "metadata": {},
   "outputs": [
    {
     "data": {
      "text/plain": [
       "Parameter containing:\n",
       "tensor([[ 0.3966, -0.2622, -0.4172, -0.2120,  0.0392, -0.1415,  0.4194,  0.1208,\n",
       "         -0.0180, -0.4136, -0.3660,  0.2784,  0.1991, -0.0898,  0.3969, -0.1612,\n",
       "          0.2863, -0.3886, -0.0421, -0.1185, -0.3744,  0.3962,  0.2371, -0.3675,\n",
       "         -0.4098,  0.3475,  0.1936,  0.1666, -0.3460,  0.3121, -0.2045, -0.0577,\n",
       "          0.4003, -0.1058,  0.1000, -0.1319,  0.1262, -0.1793, -0.3533,  0.2065,\n",
       "         -0.3789,  0.1936,  0.2644, -0.4193,  0.2918,  0.1618,  0.0928, -0.0824,\n",
       "         -0.1039,  0.0728],\n",
       "        [ 0.2606, -0.4032,  0.3426,  0.3319, -0.1503, -0.0656, -0.1955, -0.2699,\n",
       "         -0.1863,  0.4212,  0.1890, -0.3355, -0.1435,  0.0435,  0.2325,  0.1970,\n",
       "          0.0711,  0.3621,  0.0238,  0.4196,  0.2668,  0.4046, -0.0977, -0.2018,\n",
       "          0.1634, -0.1156,  0.4119,  0.2383, -0.0069,  0.0162, -0.0569, -0.2738,\n",
       "          0.2987, -0.0467,  0.3767, -0.4006, -0.1762, -0.3149,  0.3337,  0.2914,\n",
       "         -0.3179,  0.1646,  0.2352,  0.1848, -0.0304, -0.2352, -0.0916, -0.4173,\n",
       "         -0.1962,  0.1680],\n",
       "        [-0.3955, -0.2733, -0.2143, -0.0949, -0.2613,  0.0485, -0.1711,  0.2472,\n",
       "          0.4258, -0.3867, -0.0101, -0.0509, -0.0020,  0.1807,  0.0531, -0.3851,\n",
       "         -0.1289, -0.2341,  0.2579, -0.0700, -0.0746,  0.0744, -0.1322, -0.2659,\n",
       "          0.1036, -0.2613,  0.0528,  0.2774,  0.1657, -0.0223,  0.2717,  0.2409,\n",
       "         -0.1759,  0.2770, -0.2728,  0.2717,  0.2931, -0.3396, -0.0655,  0.2213,\n",
       "         -0.1585,  0.3815,  0.0898,  0.2685, -0.0511, -0.0491, -0.1455, -0.3152,\n",
       "          0.3718,  0.0401],\n",
       "        [-0.0526,  0.3129,  0.1182,  0.1495,  0.3100, -0.2846,  0.2842,  0.3208,\n",
       "         -0.1709,  0.2818,  0.0574,  0.1631,  0.0176,  0.3787,  0.3850, -0.1557,\n",
       "          0.3404,  0.0212, -0.0585, -0.0840,  0.1000,  0.2150,  0.1874, -0.0934,\n",
       "          0.2823,  0.0364,  0.3107,  0.2605, -0.2760,  0.2738,  0.3397,  0.4261,\n",
       "         -0.0089, -0.4151, -0.3470, -0.3903,  0.0176,  0.0066,  0.4170,  0.0809,\n",
       "          0.2620,  0.2925, -0.0316,  0.3910, -0.0862,  0.0918,  0.0726, -0.0321,\n",
       "          0.2580,  0.2650],\n",
       "        [ 0.0809,  0.1844,  0.2368, -0.2497,  0.3937,  0.4161, -0.1714,  0.2564,\n",
       "          0.2421,  0.0008, -0.1180,  0.1060,  0.1978, -0.4016,  0.1255, -0.0681,\n",
       "          0.4020,  0.3465,  0.1458,  0.3296,  0.0295, -0.1697, -0.3350,  0.3008,\n",
       "          0.1973,  0.4147, -0.1843, -0.1982, -0.2045, -0.3087, -0.0983,  0.2928,\n",
       "         -0.3624, -0.2456,  0.2913,  0.4202,  0.0211,  0.0742,  0.4098, -0.2871,\n",
       "         -0.0412, -0.3656,  0.0905,  0.2548,  0.1606, -0.3483, -0.3074,  0.2003,\n",
       "          0.1364,  0.1945],\n",
       "        [ 0.3465,  0.0210, -0.3160, -0.2047,  0.1928,  0.0265, -0.0104,  0.2502,\n",
       "          0.2950, -0.2486, -0.1005, -0.0393,  0.2541,  0.0770,  0.3265,  0.0139,\n",
       "          0.2148, -0.3089, -0.3765,  0.0685, -0.2119, -0.2772, -0.0662,  0.3089,\n",
       "          0.3781, -0.2002, -0.1485, -0.4033,  0.2130, -0.3671,  0.3161, -0.1168,\n",
       "         -0.3976,  0.3946, -0.0490,  0.3798, -0.2464, -0.2154,  0.1883,  0.1512,\n",
       "          0.0772,  0.2752,  0.0770,  0.3352,  0.2286,  0.3050,  0.0232, -0.0484,\n",
       "          0.1438,  0.1350],\n",
       "        [ 0.0865, -0.1998,  0.2551, -0.2516,  0.2936,  0.1217,  0.2935,  0.2676,\n",
       "          0.2569, -0.3902,  0.0402, -0.2754,  0.2002, -0.2174, -0.4157,  0.1002,\n",
       "         -0.4213, -0.3210,  0.0042, -0.1022,  0.2842, -0.0266, -0.4259, -0.3642,\n",
       "         -0.0523,  0.1985,  0.1760,  0.3073,  0.0433,  0.2527,  0.0817,  0.3587,\n",
       "          0.0400, -0.2071, -0.3740,  0.2019, -0.3812, -0.1693,  0.0199,  0.2717,\n",
       "         -0.3279, -0.2870, -0.2542,  0.0218,  0.0065,  0.2792, -0.3168, -0.3030,\n",
       "         -0.1765, -0.2291],\n",
       "        [-0.0974,  0.0681,  0.3705,  0.3378, -0.0871,  0.3833, -0.2075, -0.4184,\n",
       "          0.0039, -0.2754,  0.4118,  0.2632, -0.0374,  0.0044, -0.2644,  0.2640,\n",
       "         -0.0033, -0.1948, -0.1722, -0.0203, -0.1935, -0.1658,  0.1571, -0.3501,\n",
       "          0.1841,  0.0695, -0.2524,  0.3420,  0.1361, -0.2062,  0.1536,  0.2644,\n",
       "          0.2315, -0.1814,  0.2079,  0.2888, -0.0622,  0.1731,  0.3946, -0.4192,\n",
       "          0.4138, -0.0254,  0.1522, -0.2319, -0.3396,  0.3404,  0.0400,  0.1102,\n",
       "          0.2690, -0.1969],\n",
       "        [ 0.3451, -0.3485, -0.0154,  0.0540,  0.1940,  0.1186,  0.2752,  0.1278,\n",
       "         -0.0472,  0.1369,  0.0916,  0.2476, -0.4053,  0.1082, -0.0348, -0.0343,\n",
       "         -0.0863,  0.1470, -0.3175,  0.3610,  0.1853,  0.2829, -0.0731, -0.2957,\n",
       "          0.3264, -0.0797,  0.2035, -0.1318,  0.1465, -0.3395,  0.3758, -0.3031,\n",
       "          0.0752, -0.2755,  0.1884,  0.1520,  0.0889, -0.2839, -0.1764, -0.0527,\n",
       "         -0.0733,  0.0557, -0.1347,  0.0319,  0.0474, -0.2055,  0.3556, -0.3010,\n",
       "         -0.1375,  0.0521],\n",
       "        [ 0.2512,  0.0021,  0.3049,  0.2307,  0.0684, -0.0689,  0.1481,  0.0792,\n",
       "          0.3411, -0.1899, -0.1305, -0.2483,  0.2239, -0.2841, -0.3196,  0.0792,\n",
       "         -0.3794,  0.2955, -0.3304,  0.3235,  0.1728,  0.1992,  0.0772,  0.2903,\n",
       "         -0.0914, -0.3157,  0.2919,  0.1768, -0.2779,  0.1249,  0.0320,  0.3014,\n",
       "          0.0472, -0.0314, -0.4216,  0.2833, -0.3722, -0.4260,  0.0741, -0.4072,\n",
       "         -0.2483, -0.0110, -0.3415,  0.3126, -0.3563, -0.0041, -0.2903, -0.2376,\n",
       "         -0.4249, -0.2237],\n",
       "        [ 0.2810, -0.3753, -0.3990, -0.0488,  0.1052, -0.0074,  0.3169, -0.2680,\n",
       "         -0.0781, -0.4229, -0.3627, -0.0477,  0.0053,  0.1862, -0.2472,  0.3865,\n",
       "         -0.0061,  0.1598, -0.2274, -0.4130,  0.2115, -0.3777,  0.2349,  0.1858,\n",
       "         -0.3197, -0.2045, -0.0061, -0.0310, -0.1111,  0.3608,  0.2678, -0.0662,\n",
       "          0.0984, -0.1406,  0.1794, -0.1250,  0.3153, -0.2828, -0.3745, -0.3821,\n",
       "         -0.3374, -0.2525,  0.1525, -0.3772,  0.3000, -0.3990,  0.3419,  0.0656,\n",
       "         -0.3652, -0.1180],\n",
       "        [-0.3710,  0.0852,  0.1024, -0.2855, -0.0229,  0.2096,  0.1020, -0.0780,\n",
       "         -0.2063,  0.3487,  0.4227, -0.2360, -0.3658,  0.0492, -0.2266, -0.0255,\n",
       "         -0.1213,  0.3051,  0.3865,  0.3418,  0.0144,  0.2157,  0.2428, -0.2703,\n",
       "         -0.2700,  0.2411,  0.3405, -0.4191,  0.2882, -0.3063, -0.4158,  0.1393,\n",
       "          0.4180,  0.0348,  0.4048,  0.0376,  0.3753, -0.0561,  0.2808,  0.0431,\n",
       "         -0.2323,  0.2125, -0.1057, -0.1570,  0.3889,  0.3545,  0.2135,  0.1808,\n",
       "         -0.2845, -0.0553],\n",
       "        [-0.3383,  0.1681, -0.1017,  0.2130, -0.3140,  0.0737,  0.1717, -0.3480,\n",
       "          0.3156,  0.3751, -0.1772,  0.2354, -0.2479, -0.3993, -0.0734, -0.2198,\n",
       "         -0.0785, -0.2074, -0.3281,  0.1539,  0.3796, -0.3314,  0.4038, -0.0546,\n",
       "          0.2317, -0.2939, -0.0005,  0.4075, -0.2280,  0.2192,  0.2653, -0.0153,\n",
       "         -0.3949, -0.3087,  0.0377,  0.1357, -0.2838,  0.1896,  0.1652, -0.3417,\n",
       "          0.1565, -0.3255,  0.3435, -0.1889,  0.3504, -0.0713, -0.3456,  0.3876,\n",
       "          0.1695,  0.0742],\n",
       "        [-0.2449, -0.2024,  0.2424,  0.3588,  0.1758, -0.0788,  0.1980, -0.1884,\n",
       "         -0.0570, -0.3697, -0.2051, -0.0956, -0.2723,  0.3247, -0.3421, -0.4079,\n",
       "         -0.0047, -0.3301, -0.3144,  0.3353, -0.3392,  0.1480, -0.3871,  0.2547,\n",
       "          0.1866, -0.0557, -0.3331, -0.1749,  0.1643, -0.2220,  0.3706,  0.0429,\n",
       "          0.3496, -0.3897, -0.1284, -0.3060,  0.0922,  0.3831,  0.1867, -0.0666,\n",
       "          0.3401, -0.2241, -0.2238, -0.0886,  0.0996,  0.1283,  0.3193, -0.0384,\n",
       "         -0.3754,  0.2367],\n",
       "        [ 0.2583,  0.1586, -0.4263,  0.3266,  0.3738, -0.2878, -0.0031,  0.2569,\n",
       "         -0.3633,  0.2934, -0.0189,  0.3302, -0.3839,  0.2389,  0.2838, -0.3675,\n",
       "         -0.4237,  0.1869, -0.3721,  0.1750, -0.2344, -0.3522,  0.0628,  0.0841,\n",
       "         -0.4091, -0.1319, -0.1330,  0.2291,  0.2065, -0.2599, -0.1051,  0.1456,\n",
       "         -0.1308,  0.3338,  0.1367,  0.3693, -0.1172,  0.3153,  0.4057, -0.1361,\n",
       "          0.1985, -0.1725,  0.0735,  0.3100,  0.0874,  0.0501, -0.2251,  0.0634,\n",
       "         -0.0650, -0.1329],\n",
       "        [-0.3987, -0.1397, -0.2321, -0.1635, -0.0825,  0.2782, -0.2349, -0.1756,\n",
       "          0.3969, -0.1123, -0.2454,  0.1455, -0.0837,  0.2237, -0.0819, -0.1751,\n",
       "          0.0240,  0.3532, -0.1970,  0.0272, -0.3916, -0.2981, -0.1291, -0.1274,\n",
       "          0.1960, -0.1504,  0.0623,  0.4089, -0.0492, -0.3787, -0.3993, -0.0232,\n",
       "          0.2797,  0.0746, -0.3203, -0.3951,  0.1246,  0.0734, -0.0708, -0.3647,\n",
       "          0.1245,  0.1614, -0.1981,  0.3926,  0.1790, -0.3246,  0.3508,  0.2509,\n",
       "         -0.2810,  0.0680]], requires_grad=True)"
      ]
     },
     "execution_count": 33,
     "metadata": {},
     "output_type": "execute_result"
    }
   ],
   "source": [
    "model.layer1.fc_self.weight"
   ]
  },
  {
   "cell_type": "markdown",
   "metadata": {},
   "source": [
    "- Check if model really load the model_dict"
   ]
  },
  {
   "cell_type": "code",
   "execution_count": 34,
   "metadata": {},
   "outputs": [
    {
     "data": {
      "text/plain": [
       "Parameter containing:\n",
       "tensor([[ 0.3966, -0.2622, -0.4172, -0.2120,  0.0392, -0.1415,  0.4194,  0.1208,\n",
       "         -0.0180, -0.4136, -0.3660,  0.2784,  0.1991, -0.0898,  0.3969, -0.1612,\n",
       "          0.2863, -0.3886, -0.0421, -0.1185, -0.3744,  0.3962,  0.2371, -0.3675,\n",
       "         -0.4098,  0.3475,  0.1936,  0.1666, -0.3460,  0.3121, -0.2045, -0.0577,\n",
       "          0.4003, -0.1058,  0.1000, -0.1319,  0.1262, -0.1793, -0.3533,  0.2065,\n",
       "         -0.3789,  0.1936,  0.2644, -0.4193,  0.2918,  0.1618,  0.0928, -0.0824,\n",
       "         -0.1039,  0.0728],\n",
       "        [ 0.2606, -0.4032,  0.3426,  0.3319, -0.1503, -0.0656, -0.1955, -0.2699,\n",
       "         -0.1863,  0.4212,  0.1890, -0.3355, -0.1435,  0.0435,  0.2325,  0.1970,\n",
       "          0.0711,  0.3621,  0.0238,  0.4196,  0.2668,  0.4046, -0.0977, -0.2018,\n",
       "          0.1634, -0.1156,  0.4119,  0.2383, -0.0069,  0.0162, -0.0569, -0.2738,\n",
       "          0.2987, -0.0467,  0.3767, -0.4006, -0.1762, -0.3149,  0.3337,  0.2914,\n",
       "         -0.3179,  0.1646,  0.2352,  0.1848, -0.0304, -0.2352, -0.0916, -0.4173,\n",
       "         -0.1962,  0.1680],\n",
       "        [-0.3955, -0.2733, -0.2143, -0.0949, -0.2613,  0.0485, -0.1711,  0.2472,\n",
       "          0.4258, -0.3867, -0.0101, -0.0509, -0.0020,  0.1807,  0.0531, -0.3851,\n",
       "         -0.1289, -0.2341,  0.2579, -0.0700, -0.0746,  0.0744, -0.1322, -0.2659,\n",
       "          0.1036, -0.2613,  0.0528,  0.2774,  0.1657, -0.0223,  0.2717,  0.2409,\n",
       "         -0.1759,  0.2770, -0.2728,  0.2717,  0.2931, -0.3396, -0.0655,  0.2213,\n",
       "         -0.1585,  0.3815,  0.0898,  0.2685, -0.0511, -0.0491, -0.1455, -0.3152,\n",
       "          0.3718,  0.0401],\n",
       "        [-0.0526,  0.3129,  0.1182,  0.1495,  0.3100, -0.2846,  0.2842,  0.3208,\n",
       "         -0.1709,  0.2818,  0.0574,  0.1631,  0.0176,  0.3787,  0.3850, -0.1557,\n",
       "          0.3404,  0.0212, -0.0585, -0.0840,  0.1000,  0.2150,  0.1874, -0.0934,\n",
       "          0.2823,  0.0364,  0.3107,  0.2605, -0.2760,  0.2738,  0.3397,  0.4261,\n",
       "         -0.0089, -0.4151, -0.3470, -0.3903,  0.0176,  0.0066,  0.4170,  0.0809,\n",
       "          0.2620,  0.2925, -0.0316,  0.3910, -0.0862,  0.0918,  0.0726, -0.0321,\n",
       "          0.2580,  0.2650],\n",
       "        [ 0.0809,  0.1844,  0.2368, -0.2497,  0.3937,  0.4161, -0.1714,  0.2564,\n",
       "          0.2421,  0.0008, -0.1180,  0.1060,  0.1978, -0.4016,  0.1255, -0.0681,\n",
       "          0.4020,  0.3465,  0.1458,  0.3296,  0.0295, -0.1697, -0.3350,  0.3008,\n",
       "          0.1973,  0.4147, -0.1843, -0.1982, -0.2045, -0.3087, -0.0983,  0.2928,\n",
       "         -0.3624, -0.2456,  0.2913,  0.4202,  0.0211,  0.0742,  0.4098, -0.2871,\n",
       "         -0.0412, -0.3656,  0.0905,  0.2548,  0.1606, -0.3483, -0.3074,  0.2003,\n",
       "          0.1364,  0.1945],\n",
       "        [ 0.3465,  0.0210, -0.3160, -0.2047,  0.1928,  0.0265, -0.0104,  0.2502,\n",
       "          0.2950, -0.2486, -0.1005, -0.0393,  0.2541,  0.0770,  0.3265,  0.0139,\n",
       "          0.2148, -0.3089, -0.3765,  0.0685, -0.2119, -0.2772, -0.0662,  0.3089,\n",
       "          0.3781, -0.2002, -0.1485, -0.4033,  0.2130, -0.3671,  0.3161, -0.1168,\n",
       "         -0.3976,  0.3946, -0.0490,  0.3798, -0.2464, -0.2154,  0.1883,  0.1512,\n",
       "          0.0772,  0.2752,  0.0770,  0.3352,  0.2286,  0.3050,  0.0232, -0.0484,\n",
       "          0.1438,  0.1350],\n",
       "        [ 0.0865, -0.1998,  0.2551, -0.2516,  0.2936,  0.1217,  0.2935,  0.2676,\n",
       "          0.2569, -0.3902,  0.0402, -0.2754,  0.2002, -0.2174, -0.4157,  0.1002,\n",
       "         -0.4213, -0.3210,  0.0042, -0.1022,  0.2842, -0.0266, -0.4259, -0.3642,\n",
       "         -0.0523,  0.1985,  0.1760,  0.3073,  0.0433,  0.2527,  0.0817,  0.3587,\n",
       "          0.0400, -0.2071, -0.3740,  0.2019, -0.3812, -0.1693,  0.0199,  0.2717,\n",
       "         -0.3279, -0.2870, -0.2542,  0.0218,  0.0065,  0.2792, -0.3168, -0.3030,\n",
       "         -0.1765, -0.2291],\n",
       "        [-0.0974,  0.0681,  0.3705,  0.3378, -0.0871,  0.3833, -0.2075, -0.4184,\n",
       "          0.0039, -0.2754,  0.4118,  0.2632, -0.0374,  0.0044, -0.2644,  0.2640,\n",
       "         -0.0033, -0.1948, -0.1722, -0.0203, -0.1935, -0.1658,  0.1571, -0.3501,\n",
       "          0.1841,  0.0695, -0.2524,  0.3420,  0.1361, -0.2062,  0.1536,  0.2644,\n",
       "          0.2315, -0.1814,  0.2079,  0.2888, -0.0622,  0.1731,  0.3946, -0.4192,\n",
       "          0.4138, -0.0254,  0.1522, -0.2319, -0.3396,  0.3404,  0.0400,  0.1102,\n",
       "          0.2690, -0.1969],\n",
       "        [ 0.3451, -0.3485, -0.0154,  0.0540,  0.1940,  0.1186,  0.2752,  0.1278,\n",
       "         -0.0472,  0.1369,  0.0916,  0.2476, -0.4053,  0.1082, -0.0348, -0.0343,\n",
       "         -0.0863,  0.1470, -0.3175,  0.3610,  0.1853,  0.2829, -0.0731, -0.2957,\n",
       "          0.3264, -0.0797,  0.2035, -0.1318,  0.1465, -0.3395,  0.3758, -0.3031,\n",
       "          0.0752, -0.2755,  0.1884,  0.1520,  0.0889, -0.2839, -0.1764, -0.0527,\n",
       "         -0.0733,  0.0557, -0.1347,  0.0319,  0.0474, -0.2055,  0.3556, -0.3010,\n",
       "         -0.1375,  0.0521],\n",
       "        [ 0.2512,  0.0021,  0.3049,  0.2307,  0.0684, -0.0689,  0.1481,  0.0792,\n",
       "          0.3411, -0.1899, -0.1305, -0.2483,  0.2239, -0.2841, -0.3196,  0.0792,\n",
       "         -0.3794,  0.2955, -0.3304,  0.3235,  0.1728,  0.1992,  0.0772,  0.2903,\n",
       "         -0.0914, -0.3157,  0.2919,  0.1768, -0.2779,  0.1249,  0.0320,  0.3014,\n",
       "          0.0472, -0.0314, -0.4216,  0.2833, -0.3722, -0.4260,  0.0741, -0.4072,\n",
       "         -0.2483, -0.0110, -0.3415,  0.3126, -0.3563, -0.0041, -0.2903, -0.2376,\n",
       "         -0.4249, -0.2237],\n",
       "        [ 0.2810, -0.3753, -0.3990, -0.0488,  0.1052, -0.0074,  0.3169, -0.2680,\n",
       "         -0.0781, -0.4229, -0.3627, -0.0477,  0.0053,  0.1862, -0.2472,  0.3865,\n",
       "         -0.0061,  0.1598, -0.2274, -0.4130,  0.2115, -0.3777,  0.2349,  0.1858,\n",
       "         -0.3197, -0.2045, -0.0061, -0.0310, -0.1111,  0.3608,  0.2678, -0.0662,\n",
       "          0.0984, -0.1406,  0.1794, -0.1250,  0.3153, -0.2828, -0.3745, -0.3821,\n",
       "         -0.3374, -0.2525,  0.1525, -0.3772,  0.3000, -0.3990,  0.3419,  0.0656,\n",
       "         -0.3652, -0.1180],\n",
       "        [-0.3710,  0.0852,  0.1024, -0.2855, -0.0229,  0.2096,  0.1020, -0.0780,\n",
       "         -0.2063,  0.3487,  0.4227, -0.2360, -0.3658,  0.0492, -0.2266, -0.0255,\n",
       "         -0.1213,  0.3051,  0.3865,  0.3418,  0.0144,  0.2157,  0.2428, -0.2703,\n",
       "         -0.2700,  0.2411,  0.3405, -0.4191,  0.2882, -0.3063, -0.4158,  0.1393,\n",
       "          0.4180,  0.0348,  0.4048,  0.0376,  0.3753, -0.0561,  0.2808,  0.0431,\n",
       "         -0.2323,  0.2125, -0.1057, -0.1570,  0.3889,  0.3545,  0.2135,  0.1808,\n",
       "         -0.2845, -0.0553],\n",
       "        [-0.3383,  0.1681, -0.1017,  0.2130, -0.3140,  0.0737,  0.1717, -0.3480,\n",
       "          0.3156,  0.3751, -0.1772,  0.2354, -0.2479, -0.3993, -0.0734, -0.2198,\n",
       "         -0.0785, -0.2074, -0.3281,  0.1539,  0.3796, -0.3314,  0.4038, -0.0546,\n",
       "          0.2317, -0.2939, -0.0005,  0.4075, -0.2280,  0.2192,  0.2653, -0.0153,\n",
       "         -0.3949, -0.3087,  0.0377,  0.1357, -0.2838,  0.1896,  0.1652, -0.3417,\n",
       "          0.1565, -0.3255,  0.3435, -0.1889,  0.3504, -0.0713, -0.3456,  0.3876,\n",
       "          0.1695,  0.0742],\n",
       "        [-0.2449, -0.2024,  0.2424,  0.3588,  0.1758, -0.0788,  0.1980, -0.1884,\n",
       "         -0.0570, -0.3697, -0.2051, -0.0956, -0.2723,  0.3247, -0.3421, -0.4079,\n",
       "         -0.0047, -0.3301, -0.3144,  0.3353, -0.3392,  0.1480, -0.3871,  0.2547,\n",
       "          0.1866, -0.0557, -0.3331, -0.1749,  0.1643, -0.2220,  0.3706,  0.0429,\n",
       "          0.3496, -0.3897, -0.1284, -0.3060,  0.0922,  0.3831,  0.1867, -0.0666,\n",
       "          0.3401, -0.2241, -0.2238, -0.0886,  0.0996,  0.1283,  0.3193, -0.0384,\n",
       "         -0.3754,  0.2367],\n",
       "        [ 0.2583,  0.1586, -0.4263,  0.3266,  0.3738, -0.2878, -0.0031,  0.2569,\n",
       "         -0.3633,  0.2934, -0.0189,  0.3302, -0.3839,  0.2389,  0.2838, -0.3675,\n",
       "         -0.4237,  0.1869, -0.3721,  0.1750, -0.2344, -0.3522,  0.0628,  0.0841,\n",
       "         -0.4091, -0.1319, -0.1330,  0.2291,  0.2065, -0.2599, -0.1051,  0.1456,\n",
       "         -0.1308,  0.3338,  0.1367,  0.3693, -0.1172,  0.3153,  0.4057, -0.1361,\n",
       "          0.1985, -0.1725,  0.0735,  0.3100,  0.0874,  0.0501, -0.2251,  0.0634,\n",
       "         -0.0650, -0.1329],\n",
       "        [-0.3987, -0.1397, -0.2321, -0.1635, -0.0825,  0.2782, -0.2349, -0.1756,\n",
       "          0.3969, -0.1123, -0.2454,  0.1455, -0.0837,  0.2237, -0.0819, -0.1751,\n",
       "          0.0240,  0.3532, -0.1970,  0.0272, -0.3916, -0.2981, -0.1291, -0.1274,\n",
       "          0.1960, -0.1504,  0.0623,  0.4089, -0.0492, -0.3787, -0.3993, -0.0232,\n",
       "          0.2797,  0.0746, -0.3203, -0.3951,  0.1246,  0.0734, -0.0708, -0.3647,\n",
       "          0.1245,  0.1614, -0.1981,  0.3926,  0.1790, -0.3246,  0.3508,  0.2509,\n",
       "         -0.2810,  0.0680]], requires_grad=True)"
      ]
     },
     "execution_count": 34,
     "metadata": {},
     "output_type": "execute_result"
    }
   ],
   "source": [
    "model = GraphSAGE(in_dim=50, hidden_dim=16, out_dim=168)\n",
    "model.load_state_dict(torch.load('model3_initial(graphsage)/initial_weight.pth'))\n",
    "model.layer1.fc_self.weight"
   ]
  },
  {
   "cell_type": "markdown",
   "metadata": {},
   "source": [
    "### test of valid and test part is ``graph``"
   ]
  },
  {
   "cell_type": "markdown",
   "metadata": {},
   "source": [
    "- 60 APs in training x 10000times\n",
    "- 5 APs in validation x 4 times\n",
    "- 3 APs in test x 4 times\n",
    "- Batch size = 4"
   ]
  },
  {
   "cell_type": "code",
   "execution_count": 38,
   "metadata": {},
   "outputs": [
    {
     "data": {
      "application/vnd.jupyter.widget-view+json": {
       "model_id": "e14956e52b334305aefceac79b7b29b8",
       "version_major": 2,
       "version_minor": 0
      },
      "text/plain": [
       "  0%|          | 0/180 [00:00<?, ?it/s]"
      ]
     },
     "metadata": {},
     "output_type": "display_data"
    },
    {
     "data": {
      "application/vnd.jupyter.widget-view+json": {
       "model_id": "88e5971b074241d4935b54d35d09ee6c",
       "version_major": 2,
       "version_minor": 0
      },
      "text/plain": [
       "Training:   0%|          | 0/222500 [00:00<?, ?it/s]"
      ]
     },
     "metadata": {},
     "output_type": "display_data"
    },
    {
     "ename": "DGLError",
     "evalue": "[16:38:02] /opt/dgl/src/runtime/c_runtime_api.cc:82: Check failed: allow_missing: Device API cuda is not enabled. Please install the cuda version of dgl.\nStack trace:\n  [bt] (0) /workdir/home/euni/anaconda3/lib/python3.9/site-packages/dgl/libdgl.so(dmlc::LogMessageFatal::~LogMessageFatal()+0x75) [0x7fd921d694e5]\n  [bt] (1) /workdir/home/euni/anaconda3/lib/python3.9/site-packages/dgl/libdgl.so(dgl::runtime::DeviceAPIManager::GetAPI(std::string, bool)+0x1f2) [0x7fd9220e99e2]\n  [bt] (2) /workdir/home/euni/anaconda3/lib/python3.9/site-packages/dgl/libdgl.so(dgl::runtime::DeviceAPI::Get(DGLContext, bool)+0x1e1) [0x7fd9220e3f91]\n  [bt] (3) /workdir/home/euni/anaconda3/lib/python3.9/site-packages/dgl/libdgl.so(dgl::runtime::NDArray::Empty(std::vector<long, std::allocator<long> >, DGLDataType, DGLContext)+0x13b) [0x7fd922106ebb]\n  [bt] (4) /workdir/home/euni/anaconda3/lib/python3.9/site-packages/dgl/libdgl.so(dgl::runtime::NDArray::CopyTo(DGLContext const&) const+0xc3) [0x7fd922141213]\n  [bt] (5) /workdir/home/euni/anaconda3/lib/python3.9/site-packages/dgl/libdgl.so(dgl::UnitGraph::CopyTo(std::shared_ptr<dgl::BaseHeteroGraph>, DGLContext const&)+0x3ef) [0x7fd92224eb8f]\n  [bt] (6) /workdir/home/euni/anaconda3/lib/python3.9/site-packages/dgl/libdgl.so(dgl::HeteroGraph::CopyTo(std::shared_ptr<dgl::BaseHeteroGraph>, DGLContext const&)+0xf6) [0x7fd922152676]\n  [bt] (7) /workdir/home/euni/anaconda3/lib/python3.9/site-packages/dgl/libdgl.so(+0x52dfa6) [0x7fd922161fa6]\n  [bt] (8) /workdir/home/euni/anaconda3/lib/python3.9/site-packages/dgl/libdgl.so(DGLFuncCall+0x48) [0x7fd9220e8fa8]\n\n",
     "output_type": "error",
     "traceback": [
      "\u001b[0;31m---------------------------------------------------------------------------\u001b[0m",
      "\u001b[0;31mDGLError\u001b[0m                                  Traceback (most recent call last)",
      "\u001b[1;32m/workdir/home/bai/dgl/code/test_GraphSAGE.ipynb Cell 26\u001b[0m in \u001b[0;36m<cell line: 24>\u001b[0;34m()\u001b[0m\n\u001b[1;32m     <a href='vscode-notebook-cell://ssh-remote%2B7b22686f73744e616d65223a22496e7465726e5f494953227d/workdir/home/bai/dgl/code/test_GraphSAGE.ipynb#X34sdnNjb2RlLXJlbW90ZQ%3D%3D?line=28'>29</a>\u001b[0m num_batches \u001b[39m=\u001b[39m \u001b[39m0\u001b[39m\n\u001b[1;32m     <a href='vscode-notebook-cell://ssh-remote%2B7b22686f73744e616d65223a22496e7465726e5f494953227d/workdir/home/bai/dgl/code/test_GraphSAGE.ipynb#X34sdnNjb2RlLXJlbW90ZQ%3D%3D?line=30'>31</a>\u001b[0m count \u001b[39m=\u001b[39m \u001b[39m0\u001b[39m \n\u001b[0;32m---> <a href='vscode-notebook-cell://ssh-remote%2B7b22686f73744e616d65223a22496e7465726e5f494953227d/workdir/home/bai/dgl/code/test_GraphSAGE.ipynb#X34sdnNjb2RlLXJlbW90ZQ%3D%3D?line=32'>33</a>\u001b[0m \u001b[39mfor\u001b[39;00m data \u001b[39min\u001b[39;00m tqdm(dataloaders[\u001b[39m'\u001b[39m\u001b[39mtrain\u001b[39m\u001b[39m'\u001b[39m], desc\u001b[39m=\u001b[39m\u001b[39m\"\u001b[39m\u001b[39mTraining\u001b[39m\u001b[39m\"\u001b[39m, position\u001b[39m=\u001b[39m\u001b[39m0\u001b[39m, leave\u001b[39m=\u001b[39m\u001b[39mTrue\u001b[39;00m):\n\u001b[1;32m     <a href='vscode-notebook-cell://ssh-remote%2B7b22686f73744e616d65223a22496e7465726e5f494953227d/workdir/home/bai/dgl/code/test_GraphSAGE.ipynb#X34sdnNjb2RlLXJlbW90ZQ%3D%3D?line=34'>35</a>\u001b[0m     count \u001b[39m+\u001b[39m\u001b[39m=\u001b[39m \u001b[39m1\u001b[39m\n\u001b[1;32m     <a href='vscode-notebook-cell://ssh-remote%2B7b22686f73744e616d65223a22496e7465726e5f494953227d/workdir/home/bai/dgl/code/test_GraphSAGE.ipynb#X34sdnNjb2RlLXJlbW90ZQ%3D%3D?line=35'>36</a>\u001b[0m     loss, accuracy, _ \u001b[39m=\u001b[39m model_fn(data, model, criterion, device, count, \u001b[39mtype\u001b[39m\u001b[39m=\u001b[39m\u001b[39m'\u001b[39m\u001b[39mtrain\u001b[39m\u001b[39m'\u001b[39m)\n",
      "File \u001b[0;32m~/anaconda3/lib/python3.9/site-packages/tqdm/notebook.py:254\u001b[0m, in \u001b[0;36mtqdm_notebook.__iter__\u001b[0;34m(self)\u001b[0m\n\u001b[1;32m    252\u001b[0m \u001b[39mtry\u001b[39;00m:\n\u001b[1;32m    253\u001b[0m     it \u001b[39m=\u001b[39m \u001b[39msuper\u001b[39m(tqdm_notebook, \u001b[39mself\u001b[39m)\u001b[39m.\u001b[39m\u001b[39m__iter__\u001b[39m()\n\u001b[0;32m--> 254\u001b[0m     \u001b[39mfor\u001b[39;00m obj \u001b[39min\u001b[39;00m it:\n\u001b[1;32m    255\u001b[0m         \u001b[39m# return super(tqdm...) will not catch exception\u001b[39;00m\n\u001b[1;32m    256\u001b[0m         \u001b[39myield\u001b[39;00m obj\n\u001b[1;32m    257\u001b[0m \u001b[39m# NB: except ... [ as ...] breaks IPython async KeyboardInterrupt\u001b[39;00m\n",
      "File \u001b[0;32m~/anaconda3/lib/python3.9/site-packages/tqdm/std.py:1178\u001b[0m, in \u001b[0;36mtqdm.__iter__\u001b[0;34m(self)\u001b[0m\n\u001b[1;32m   1175\u001b[0m time \u001b[39m=\u001b[39m \u001b[39mself\u001b[39m\u001b[39m.\u001b[39m_time\n\u001b[1;32m   1177\u001b[0m \u001b[39mtry\u001b[39;00m:\n\u001b[0;32m-> 1178\u001b[0m     \u001b[39mfor\u001b[39;00m obj \u001b[39min\u001b[39;00m iterable:\n\u001b[1;32m   1179\u001b[0m         \u001b[39myield\u001b[39;00m obj\n\u001b[1;32m   1180\u001b[0m         \u001b[39m# Update and possibly print the progressbar.\u001b[39;00m\n\u001b[1;32m   1181\u001b[0m         \u001b[39m# Note: does not call self.update(1) for speed optimisation.\u001b[39;00m\n",
      "File \u001b[0;32m~/anaconda3/lib/python3.9/site-packages/torch/utils/data/dataloader.py:633\u001b[0m, in \u001b[0;36m_BaseDataLoaderIter.__next__\u001b[0;34m(self)\u001b[0m\n\u001b[1;32m    630\u001b[0m \u001b[39mif\u001b[39;00m \u001b[39mself\u001b[39m\u001b[39m.\u001b[39m_sampler_iter \u001b[39mis\u001b[39;00m \u001b[39mNone\u001b[39;00m:\n\u001b[1;32m    631\u001b[0m     \u001b[39m# TODO(https://github.com/pytorch/pytorch/issues/76750)\u001b[39;00m\n\u001b[1;32m    632\u001b[0m     \u001b[39mself\u001b[39m\u001b[39m.\u001b[39m_reset()  \u001b[39m# type: ignore[call-arg]\u001b[39;00m\n\u001b[0;32m--> 633\u001b[0m data \u001b[39m=\u001b[39m \u001b[39mself\u001b[39;49m\u001b[39m.\u001b[39;49m_next_data()\n\u001b[1;32m    634\u001b[0m \u001b[39mself\u001b[39m\u001b[39m.\u001b[39m_num_yielded \u001b[39m+\u001b[39m\u001b[39m=\u001b[39m \u001b[39m1\u001b[39m\n\u001b[1;32m    635\u001b[0m \u001b[39mif\u001b[39;00m \u001b[39mself\u001b[39m\u001b[39m.\u001b[39m_dataset_kind \u001b[39m==\u001b[39m _DatasetKind\u001b[39m.\u001b[39mIterable \u001b[39mand\u001b[39;00m \\\n\u001b[1;32m    636\u001b[0m         \u001b[39mself\u001b[39m\u001b[39m.\u001b[39m_IterableDataset_len_called \u001b[39mis\u001b[39;00m \u001b[39mnot\u001b[39;00m \u001b[39mNone\u001b[39;00m \u001b[39mand\u001b[39;00m \\\n\u001b[1;32m    637\u001b[0m         \u001b[39mself\u001b[39m\u001b[39m.\u001b[39m_num_yielded \u001b[39m>\u001b[39m \u001b[39mself\u001b[39m\u001b[39m.\u001b[39m_IterableDataset_len_called:\n",
      "File \u001b[0;32m~/anaconda3/lib/python3.9/site-packages/torch/utils/data/dataloader.py:677\u001b[0m, in \u001b[0;36m_SingleProcessDataLoaderIter._next_data\u001b[0;34m(self)\u001b[0m\n\u001b[1;32m    675\u001b[0m \u001b[39mdef\u001b[39;00m \u001b[39m_next_data\u001b[39m(\u001b[39mself\u001b[39m):\n\u001b[1;32m    676\u001b[0m     index \u001b[39m=\u001b[39m \u001b[39mself\u001b[39m\u001b[39m.\u001b[39m_next_index()  \u001b[39m# may raise StopIteration\u001b[39;00m\n\u001b[0;32m--> 677\u001b[0m     data \u001b[39m=\u001b[39m \u001b[39mself\u001b[39;49m\u001b[39m.\u001b[39;49m_dataset_fetcher\u001b[39m.\u001b[39;49mfetch(index)  \u001b[39m# may raise StopIteration\u001b[39;00m\n\u001b[1;32m    678\u001b[0m     \u001b[39mif\u001b[39;00m \u001b[39mself\u001b[39m\u001b[39m.\u001b[39m_pin_memory:\n\u001b[1;32m    679\u001b[0m         data \u001b[39m=\u001b[39m _utils\u001b[39m.\u001b[39mpin_memory\u001b[39m.\u001b[39mpin_memory(data, \u001b[39mself\u001b[39m\u001b[39m.\u001b[39m_pin_memory_device)\n",
      "File \u001b[0;32m~/anaconda3/lib/python3.9/site-packages/torch/utils/data/_utils/fetch.py:51\u001b[0m, in \u001b[0;36m_MapDatasetFetcher.fetch\u001b[0;34m(self, possibly_batched_index)\u001b[0m\n\u001b[1;32m     49\u001b[0m         data \u001b[39m=\u001b[39m \u001b[39mself\u001b[39m\u001b[39m.\u001b[39mdataset\u001b[39m.\u001b[39m__getitems__(possibly_batched_index)\n\u001b[1;32m     50\u001b[0m     \u001b[39melse\u001b[39;00m:\n\u001b[0;32m---> 51\u001b[0m         data \u001b[39m=\u001b[39m [\u001b[39mself\u001b[39m\u001b[39m.\u001b[39mdataset[idx] \u001b[39mfor\u001b[39;00m idx \u001b[39min\u001b[39;00m possibly_batched_index]\n\u001b[1;32m     52\u001b[0m \u001b[39melse\u001b[39;00m:\n\u001b[1;32m     53\u001b[0m     data \u001b[39m=\u001b[39m \u001b[39mself\u001b[39m\u001b[39m.\u001b[39mdataset[possibly_batched_index]\n",
      "File \u001b[0;32m~/anaconda3/lib/python3.9/site-packages/torch/utils/data/_utils/fetch.py:51\u001b[0m, in \u001b[0;36m<listcomp>\u001b[0;34m(.0)\u001b[0m\n\u001b[1;32m     49\u001b[0m         data \u001b[39m=\u001b[39m \u001b[39mself\u001b[39m\u001b[39m.\u001b[39mdataset\u001b[39m.\u001b[39m__getitems__(possibly_batched_index)\n\u001b[1;32m     50\u001b[0m     \u001b[39melse\u001b[39;00m:\n\u001b[0;32m---> 51\u001b[0m         data \u001b[39m=\u001b[39m [\u001b[39mself\u001b[39;49m\u001b[39m.\u001b[39;49mdataset[idx] \u001b[39mfor\u001b[39;00m idx \u001b[39min\u001b[39;00m possibly_batched_index]\n\u001b[1;32m     52\u001b[0m \u001b[39melse\u001b[39;00m:\n\u001b[1;32m     53\u001b[0m     data \u001b[39m=\u001b[39m \u001b[39mself\u001b[39m\u001b[39m.\u001b[39mdataset[possibly_batched_index]\n",
      "\u001b[1;32m/workdir/home/bai/dgl/code/test_GraphSAGE.ipynb Cell 26\u001b[0m in \u001b[0;36mGraphDataset.__getitem__\u001b[0;34m(self, idx)\u001b[0m\n\u001b[1;32m      <a href='vscode-notebook-cell://ssh-remote%2B7b22686f73744e616d65223a22496e7465726e5f494953227d/workdir/home/bai/dgl/code/test_GraphSAGE.ipynb#X34sdnNjb2RlLXJlbW90ZQ%3D%3D?line=8'>9</a>\u001b[0m \u001b[39mdef\u001b[39;00m \u001b[39m__getitem__\u001b[39m(\u001b[39mself\u001b[39m, idx):\n\u001b[1;32m     <a href='vscode-notebook-cell://ssh-remote%2B7b22686f73744e616d65223a22496e7465726e5f494953227d/workdir/home/bai/dgl/code/test_GraphSAGE.ipynb#X34sdnNjb2RlLXJlbW90ZQ%3D%3D?line=9'>10</a>\u001b[0m     data \u001b[39m=\u001b[39m \u001b[39mself\u001b[39m\u001b[39m.\u001b[39mdata_list[idx]\n\u001b[0;32m---> <a href='vscode-notebook-cell://ssh-remote%2B7b22686f73744e616d65223a22496e7465726e5f494953227d/workdir/home/bai/dgl/code/test_GraphSAGE.ipynb#X34sdnNjb2RlLXJlbW90ZQ%3D%3D?line=11'>12</a>\u001b[0m     g \u001b[39m=\u001b[39m dgl\u001b[39m.\u001b[39;49mgraph((th\u001b[39m.\u001b[39;49mtensor(data[\u001b[39m\"\u001b[39;49m\u001b[39medge_index\u001b[39;49m\u001b[39m\"\u001b[39;49m][\u001b[39m0\u001b[39;49m]), th\u001b[39m.\u001b[39;49mtensor(data[\u001b[39m\"\u001b[39;49m\u001b[39medge_index\u001b[39;49m\u001b[39m\"\u001b[39;49m][\u001b[39m1\u001b[39;49m])), num_nodes\u001b[39m=\u001b[39;49mdata[\u001b[39m\"\u001b[39;49m\u001b[39mnum_nodes\u001b[39;49m\u001b[39m\"\u001b[39;49m])\u001b[39m.\u001b[39;49mto(\u001b[39mself\u001b[39;49m\u001b[39m.\u001b[39;49mdevice)\n\u001b[1;32m     <a href='vscode-notebook-cell://ssh-remote%2B7b22686f73744e616d65223a22496e7465726e5f494953227d/workdir/home/bai/dgl/code/test_GraphSAGE.ipynb#X34sdnNjb2RlLXJlbW90ZQ%3D%3D?line=13'>14</a>\u001b[0m     g\u001b[39m.\u001b[39mndata[\u001b[39m'\u001b[39m\u001b[39mfeat\u001b[39m\u001b[39m'\u001b[39m] \u001b[39m=\u001b[39m th\u001b[39m.\u001b[39mtensor(data[\u001b[39m\"\u001b[39m\u001b[39mnode_feat\u001b[39m\u001b[39m\"\u001b[39m])\u001b[39m.\u001b[39mto(\u001b[39mself\u001b[39m\u001b[39m.\u001b[39mdevice)\n\u001b[1;32m     <a href='vscode-notebook-cell://ssh-remote%2B7b22686f73744e616d65223a22496e7465726e5f494953227d/workdir/home/bai/dgl/code/test_GraphSAGE.ipynb#X34sdnNjb2RlLXJlbW90ZQ%3D%3D?line=14'>15</a>\u001b[0m     g\u001b[39m.\u001b[39medata[\u001b[39m'\u001b[39m\u001b[39mfeat\u001b[39m\u001b[39m'\u001b[39m] \u001b[39m=\u001b[39m th\u001b[39m.\u001b[39mtensor(data[\u001b[39m\"\u001b[39m\u001b[39medge_attr\u001b[39m\u001b[39m\"\u001b[39m])\u001b[39m.\u001b[39mto(\u001b[39mself\u001b[39m\u001b[39m.\u001b[39mdevice)  \u001b[39m# Add edge features to graph\u001b[39;00m\n",
      "File \u001b[0;32m~/anaconda3/lib/python3.9/site-packages/dgl/heterograph.py:5709\u001b[0m, in \u001b[0;36mDGLGraph.to\u001b[0;34m(self, device, **kwargs)\u001b[0m\n\u001b[1;32m   5706\u001b[0m ret \u001b[39m=\u001b[39m copy\u001b[39m.\u001b[39mcopy(\u001b[39mself\u001b[39m)\n\u001b[1;32m   5708\u001b[0m \u001b[39m# 1. Copy graph structure\u001b[39;00m\n\u001b[0;32m-> 5709\u001b[0m ret\u001b[39m.\u001b[39m_graph \u001b[39m=\u001b[39m \u001b[39mself\u001b[39;49m\u001b[39m.\u001b[39;49m_graph\u001b[39m.\u001b[39;49mcopy_to(utils\u001b[39m.\u001b[39;49mto_dgl_context(device))\n\u001b[1;32m   5711\u001b[0m \u001b[39m# 2. Copy features\u001b[39;00m\n\u001b[1;32m   5712\u001b[0m \u001b[39m# TODO(minjie): handle initializer\u001b[39;00m\n\u001b[1;32m   5713\u001b[0m new_nframes \u001b[39m=\u001b[39m []\n",
      "File \u001b[0;32m~/anaconda3/lib/python3.9/site-packages/dgl/heterograph_index.py:255\u001b[0m, in \u001b[0;36mHeteroGraphIndex.copy_to\u001b[0;34m(self, ctx)\u001b[0m\n\u001b[1;32m    240\u001b[0m \u001b[39mdef\u001b[39;00m \u001b[39mcopy_to\u001b[39m(\u001b[39mself\u001b[39m, ctx):\n\u001b[1;32m    241\u001b[0m     \u001b[39m\"\"\"Copy this immutable graph index to the given device context.\u001b[39;00m\n\u001b[1;32m    242\u001b[0m \n\u001b[1;32m    243\u001b[0m \u001b[39m    NOTE: this method only works for immutable graph index\u001b[39;00m\n\u001b[0;32m   (...)\u001b[0m\n\u001b[1;32m    253\u001b[0m \u001b[39m        The graph index on the given device context.\u001b[39;00m\n\u001b[1;32m    254\u001b[0m \u001b[39m    \"\"\"\u001b[39;00m\n\u001b[0;32m--> 255\u001b[0m     \u001b[39mreturn\u001b[39;00m _CAPI_DGLHeteroCopyTo(\u001b[39mself\u001b[39;49m, ctx\u001b[39m.\u001b[39;49mdevice_type, ctx\u001b[39m.\u001b[39;49mdevice_id)\n",
      "File \u001b[0;32mdgl/_ffi/_cython/./function.pxi:295\u001b[0m, in \u001b[0;36mdgl._ffi._cy3.core.FunctionBase.__call__\u001b[0;34m()\u001b[0m\n",
      "File \u001b[0;32mdgl/_ffi/_cython/./function.pxi:227\u001b[0m, in \u001b[0;36mdgl._ffi._cy3.core.FuncCall\u001b[0;34m()\u001b[0m\n",
      "File \u001b[0;32mdgl/_ffi/_cython/./function.pxi:217\u001b[0m, in \u001b[0;36mdgl._ffi._cy3.core.FuncCall3\u001b[0;34m()\u001b[0m\n",
      "\u001b[0;31mDGLError\u001b[0m: [16:38:02] /opt/dgl/src/runtime/c_runtime_api.cc:82: Check failed: allow_missing: Device API cuda is not enabled. Please install the cuda version of dgl.\nStack trace:\n  [bt] (0) /workdir/home/euni/anaconda3/lib/python3.9/site-packages/dgl/libdgl.so(dmlc::LogMessageFatal::~LogMessageFatal()+0x75) [0x7fd921d694e5]\n  [bt] (1) /workdir/home/euni/anaconda3/lib/python3.9/site-packages/dgl/libdgl.so(dgl::runtime::DeviceAPIManager::GetAPI(std::string, bool)+0x1f2) [0x7fd9220e99e2]\n  [bt] (2) /workdir/home/euni/anaconda3/lib/python3.9/site-packages/dgl/libdgl.so(dgl::runtime::DeviceAPI::Get(DGLContext, bool)+0x1e1) [0x7fd9220e3f91]\n  [bt] (3) /workdir/home/euni/anaconda3/lib/python3.9/site-packages/dgl/libdgl.so(dgl::runtime::NDArray::Empty(std::vector<long, std::allocator<long> >, DGLDataType, DGLContext)+0x13b) [0x7fd922106ebb]\n  [bt] (4) /workdir/home/euni/anaconda3/lib/python3.9/site-packages/dgl/libdgl.so(dgl::runtime::NDArray::CopyTo(DGLContext const&) const+0xc3) [0x7fd922141213]\n  [bt] (5) /workdir/home/euni/anaconda3/lib/python3.9/site-packages/dgl/libdgl.so(dgl::UnitGraph::CopyTo(std::shared_ptr<dgl::BaseHeteroGraph>, DGLContext const&)+0x3ef) [0x7fd92224eb8f]\n  [bt] (6) /workdir/home/euni/anaconda3/lib/python3.9/site-packages/dgl/libdgl.so(dgl::HeteroGraph::CopyTo(std::shared_ptr<dgl::BaseHeteroGraph>, DGLContext const&)+0xf6) [0x7fd922152676]\n  [bt] (7) /workdir/home/euni/anaconda3/lib/python3.9/site-packages/dgl/libdgl.so(+0x52dfa6) [0x7fd922161fa6]\n  [bt] (8) /workdir/home/euni/anaconda3/lib/python3.9/site-packages/dgl/libdgl.so(DGLFuncCall+0x48) [0x7fd9220e8fa8]\n\n"
     ]
    }
   ],
   "source": [
    "seed = 8787\n",
    "same_seeds(seed)\n",
    "\n",
    "model = GraphSAGE(in_dim=50, hidden_dim=16, out_dim=168)\n",
    "# in_dim means the dimension of the node_feat(50 dim, since the 50-dim embedding)\n",
    "# out_dim means the # of the categories -> 168 for out tasks\n",
    "model.load_state_dict(torch.load('model3_initial(graphsage)/initial_weight.pth'))\n",
    "\n",
    "model = model.to(device)\n",
    "\n",
    "optimizer = torch.optim.AdamW(model.parameters(), lr=1e-5)\n",
    "# scheduler = get_linear_schedule_with_warmup(optimizer, num_warmup_steps=100, num_training_steps=total_steps)\n",
    "\n",
    "criterion = nn.CrossEntropyLoss()\n",
    "total_steps = 180\n",
    "\n",
    "# save the best model\n",
    "best_val_loss = float('inf')\n",
    "patience = 500  # Number of epochs with no improvement after which training will be stopped.\n",
    "waiting = 0  # The number of epochs with no improvement so far.\n",
    "\n",
    "\n",
    "# Training Part\n",
    "for epoch in tqdm(range(total_steps)):\n",
    "    # Train\n",
    "    model.train()\n",
    "    total_loss = 0.0\n",
    "    total_accuracy = 0.0\n",
    "    num_batches = 0\n",
    "    \n",
    "    count = 0 \n",
    "    \n",
    "    for data in tqdm(dataloaders['train'], desc=\"Training\", position=0, leave=True):\n",
    "        \n",
    "        count += 1\n",
    "        loss, accuracy, _ = model_fn(data, model, criterion, device, count, type='train')\n",
    "        \n",
    "        optimizer.zero_grad()\n",
    "        loss.backward()\n",
    "        optimizer.step()\n",
    "\n",
    "        total_loss += loss.item()\n",
    "        total_accuracy += accuracy.item()\n",
    "        num_batches += 1\n",
    "        \n",
    "#     scheduler.step()\n",
    "    add_log_msg(f\"total count: {count}\")\n",
    "\n",
    "    avg_loss = total_loss / num_batches\n",
    "    avg_accuracy = total_accuracy / num_batches\n",
    "\n",
    "    add_log_msg(f'Epoch {epoch} | Train Loss: {avg_loss:.4f} | Train Accuracy: {avg_accuracy:.4f}')\n",
    "\n",
    "    \n",
    "    # Validation Part\n",
    "    model.eval()\n",
    "    total_accuracy = 0.0\n",
    "    total_loss = 0.0\n",
    "    num_batches = 0\n",
    "\n",
    "    with torch.no_grad():\n",
    "        for batched_g in dataloaders['valid']:\n",
    "            loss, accuracy, _ = model_fn(batched_g, model, criterion, device, type=='validation')\n",
    "            total_accuracy += accuracy.item()\n",
    "            total_loss += loss.item()\n",
    "            num_batches += 1\n",
    "\n",
    "    avg_accuracy = total_accuracy / num_batches\n",
    "    current_loss = total_loss / num_batches\n",
    "    \n",
    "    add_log_msg(f'Validation Loss: {current_loss:.4f} | Validation Accuracy: {avg_accuracy:.4f}\\n')\n",
    "    \n",
    "    \n",
    "    if current_loss < best_val_loss:\n",
    "        best_val_loss = current_loss\n",
    "        waiting = 0\n",
    "        \n",
    "#         torch.save(model.state_dict(), 'best_model.pth')\n",
    "        torch.save({\n",
    "                'epoch': epoch,\n",
    "                'model_state_dict': model.state_dict(),\n",
    "                'optimizer_state_dict': optimizer.state_dict(),\n",
    "                'loss': loss,\n",
    "                }, f\"../checkpoint_GAT/best_model_{epoch}.pt\")\n",
    "    \n",
    "    else:\n",
    "        waiting += 1\n",
    "        if waiting >= patience:\n",
    "            add_log_msg(\"Early stopping\")\n",
    "            break\n",
    "\n",
    "            \n",
    "# Testing Part\n",
    "model.eval()\n",
    "total = 0\n",
    "correct = 0\n",
    "\n",
    "with torch.no_grad():\n",
    "    for data in dataloaders['test']:\n",
    "        loss, accuracy, predicted = model_fn(data, model, criterion, device, type=='test')\n",
    "        labels = data[1].to(device)  # Assuming labels are the second element in the tuple\n",
    "        \n",
    "        add_log_msg(f\"labels: {labels} {labels.shape}\")\n",
    "        add_log_msg(f\"predicted: {predicted} {predicted.shape}\")\n",
    "        \n",
    "        total += labels.size(0) # label.size(0) is the batch size\n",
    "        correct += (predicted == labels).sum().item() \n",
    "        # (predicted == labels).sum() would return how many of them are equal; \n",
    "        # .item() would make the tensor to the regular value\n",
    "        \n",
    "#     print('Test Accuracy: %d %%' % (100 * correct / total))\n",
    "add_log_msg(f'Test Accuracy: {100 * correct / total} %%')"
   ]
  },
  {
   "cell_type": "code",
   "execution_count": null,
   "metadata": {},
   "outputs": [],
   "source": []
  }
 ],
 "metadata": {
  "kernelspec": {
   "display_name": "Python 3",
   "language": "python",
   "name": "python3"
  },
  "language_info": {
   "codemirror_mode": {
    "name": "ipython",
    "version": 3
   },
   "file_extension": ".py",
   "mimetype": "text/x-python",
   "name": "python",
   "nbconvert_exporter": "python",
   "pygments_lexer": "ipython3",
   "version": "3.9.12"
  }
 },
 "nbformat": 4,
 "nbformat_minor": 2
}
