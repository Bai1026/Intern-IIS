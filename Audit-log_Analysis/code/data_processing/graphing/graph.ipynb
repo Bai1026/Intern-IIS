{
 "cells": [
  {
   "cell_type": "markdown",
   "metadata": {},
   "source": [
    "# This is the code to construct the graph\n",
    "- Including main graph and neighbor nodes(currently ``one hop`` only)  \n",
    "- ``Main graph is red``, including nodes and edges  \n",
    "- Others would be mapped to other colors\n",
    "> Possible Issue: If label is T1002.001 -> 1002.001 -> T is gone\n",
    "\n"
   ]
  },
  {
   "cell_type": "markdown",
   "metadata": {},
   "source": [
    "## Draw all the graph without benign"
   ]
  },
  {
   "cell_type": "code",
   "execution_count": 1,
   "metadata": {},
   "outputs": [],
   "source": [
    "import os\n",
    "import numpy as np\n",
    "import networkx as nx\n",
    "import matplotlib.cm as cm\n",
    "import matplotlib.pyplot as plt\n",
    "from networkx.drawing.nx_agraph import graphviz_layout\n",
    "import matplotlib.patches as mpatches\n",
    "\n",
    "\n",
    "def read_data(file_path):\n",
    "    edges = []\n",
    "    with open(file_path, \"r\") as file:\n",
    "        for line in file:\n",
    "            source, destination, relation, label = line.strip().split(',')\n",
    "            edges.append((source, destination, relation, label))\n",
    "    # edges is a list contains all the information (each set is stored in a tuple)\n",
    "    return edges\n",
    "\n",
    "\n",
    "def get_other_labels_edges(full_edges, related_nodes, target_label):\n",
    "    other_labels_edges = []\n",
    "    for edge in full_edges:\n",
    "        source, destination, relation, label = edge\n",
    "        if label != target_label and (source in related_nodes or destination in related_nodes):\n",
    "            other_labels_edges.append(edge)\n",
    "    return other_labels_edges\n",
    "\n",
    "\n",
    "def get_related_nodes(edges, target, is_label=True):\n",
    "    related_nodes = set()\n",
    "\n",
    "    for edge in edges:\n",
    "        source, destination, relation, label = edge\n",
    "        if (is_label and label == target) or (not is_label and (source == target or destination == target)):\n",
    "            related_nodes.add(source)\n",
    "            related_nodes.add(destination)\n",
    "\n",
    "    return related_nodes"
   ]
  },
  {
   "cell_type": "markdown",
   "metadata": {},
   "source": [
    "### Draw graph function"
   ]
  },
  {
   "cell_type": "code",
   "execution_count": 13,
   "metadata": {},
   "outputs": [],
   "source": [
    "\n",
    "def draw_graph(full_edges, target_edges, file_name, target_label, title=None, figsize=(10, 8), dpi=100):\n",
    "    related_nodes = get_related_nodes(target_edges, title)  # only consider edges with target_label\n",
    "    other_labels_edges = get_other_labels_edges(full_edges, related_nodes, title)\n",
    "\n",
    "    # Separate edges into main graph and others\n",
    "    main_edges = [edge for edge in target_edges if edge[-1] == target_label]\n",
    "    other_edges = [edge for edge in target_edges if edge[-1] != target_label] + other_labels_edges\n",
    "\n",
    "    G = nx.DiGraph()\n",
    "    edge_labels = {}\n",
    "    node_colors = {}\n",
    "    edge_colors = {}\n",
    "\n",
    "    # Extract unique labels (e.g., 'T1115_707' from 'T1115_70795de7cbb842edb029b3378c27c008')\n",
    "    unique_labels = list(set([label.split('_')[0] + '_' + label.split('_')[1][:3] for _, _, _, label in other_edges]))  \n",
    "\n",
    "    # Convert the target_label to same format as other labels\n",
    "    target_label_modified = target_label.split('_')[0] + '_' + target_label.split('_')[1][:3]\n",
    "\n",
    "    # Create a color map with unique colors for each label\n",
    "    colors = cm.rainbow(np.linspace(0, 1, len(unique_labels)+1))\n",
    "    red_color = np.array([1, 0, 0, 1])  # Red color\n",
    "    color_map = {label: color for label, color in zip(unique_labels, colors) if not np.array_equal(color, red_color)}\n",
    "    color_map[target_label_modified] = red_color  # Assign red color to the target label separately\n",
    "\n",
    "    # Add other edges\n",
    "    for source, destination, relation, label in other_edges:\n",
    "        edge = (source, destination)\n",
    "        label_prefix = label.split('_')[0]  # Get the first element after splitting by '_'\n",
    "        label_prefix_extended = label_prefix + \"_\" + label.split('_')[1][:3]  # Add \"_\" and the first three characters after the second '_' to the label_prefix\n",
    "\n",
    "        if edge in G.edges():\n",
    "            edge_labels[edge] += \", \" + relation\n",
    "        else:\n",
    "            G.add_edge(source, destination)\n",
    "\n",
    "            # Check if the edge is a part of the target edges (main graph)\n",
    "            if label == target_label:\n",
    "                node_colors[source] = 'red'\n",
    "                node_colors[destination] = 'red'\n",
    "                edge_colors[edge] = 'red'\n",
    "            else:\n",
    "                node_colors[source] = color_map.get(label_prefix_extended, 'gray')  # Set gray as the default color\n",
    "                node_colors[destination] = color_map.get(label_prefix_extended, 'gray')  # Set gray as the default color\n",
    "                edge_colors[edge] = color_map.get(label_prefix_extended, 'black')\n",
    "\n",
    "            edge_labels[edge] = relation\n",
    "\n",
    "    # Add main graph edges\n",
    "    for source, destination, relation, label in main_edges:\n",
    "        edge = (source, destination)\n",
    "        G.add_edge(source, destination)\n",
    "        node_colors[source] = 'red'\n",
    "        node_colors[destination] = 'red'\n",
    "        edge_colors[edge] = 'red'\n",
    "\n",
    "        if edge in edge_labels:\n",
    "            edge_labels[edge] += \", \" + relation\n",
    "        else:\n",
    "            edge_labels[edge] = relation\n",
    "\n",
    "    pos = graphviz_layout(G, prog=\"dot\")\n",
    "    pos = {node: (x, y-0.1) for node, (x, y) in pos.items()}\n",
    "\n",
    "    plt.figure(figsize=figsize)\n",
    "\n",
    "    # Draw nodes with custom label styles\n",
    "    node_labels = {node: rf\"$\\bf{{{node}}}$\" for node in G.nodes()}\n",
    "    nx.draw(G, pos, with_labels=False, node_size=1500, font_size=8, node_color=[node_colors[node] for node in G.nodes()], edge_color=[edge_colors[edge] for edge in G.edges()], arrowsize=10, font_color='black')\n",
    "    nx.draw_networkx_labels(G, pos, labels=node_labels, font_size=8, font_weight='bold', font_color='black')\n",
    "\n",
    "    # Draw edges with custom edge labels\n",
    "    edge_labels = {(source, destination): f\"({len(relations.split(','))})\" for (source, destination), relations in edge_labels.items()}\n",
    "    nx.draw_networkx_edge_labels(G, pos, edge_labels=edge_labels)\n",
    "\n",
    "    if title:\n",
    "        plt.text(0.05, 0.95, title, transform=plt.gca().transAxes, fontsize=12, fontweight='bold', verticalalignment='top')\n",
    "\n",
    "    # for labeling all the label with the corresponding color\n",
    "    patches = [mpatches.Patch(color=color, label=label) for label, color in color_map.items()]\n",
    "    plt.legend(handles=patches)\n",
    "\n",
    "    plt.savefig(file_name + \".png\", dpi=dpi)\n",
    "    plt.clf()\n"
   ]
  },
  {
   "cell_type": "markdown",
   "metadata": {},
   "source": [
    "- Benign version"
   ]
  },
  {
   "cell_type": "code",
   "execution_count": 5,
   "metadata": {},
   "outputs": [],
   "source": [
    "def draw_graph(full_edges, target_edges, file_name, target_label, title=None, figsize=(10, 8), dpi=100):\n",
    "    related_nodes = get_related_nodes(target_edges, title)  # only consider edges with target_label\n",
    "    other_labels_edges = get_other_labels_edges(full_edges, related_nodes, title)\n",
    "\n",
    "    # Separate edges into main graph and others\n",
    "    main_edges = [edge for edge in target_edges if edge[-1] == target_label]\n",
    "    other_edges = [edge for edge in target_edges if edge[-1] != target_label] + other_labels_edges\n",
    "\n",
    "    G = nx.DiGraph()\n",
    "    edge_labels = {}\n",
    "    node_colors = {}\n",
    "    edge_colors = {}\n",
    "\n",
    "    # Extract unique labels (e.g., 'T1115_707' from 'T1115_70795de7cbb842edb029b3378c27c008')\n",
    "    unique_labels = list(set([label.split('_')[0] + '_' + label.split('_')[1][:3] if label != '0' else 'benign' for _, _, _, label in other_edges]))  \n",
    "\n",
    "    # Convert the target_label to same format as other labels\n",
    "    target_label_modified = target_label.split('_')[0] + '_' + target_label.split('_')[1][:3] if target_label != '0' else 'benign'\n",
    "\n",
    "    # Create a color map with unique colors for each label\n",
    "    colors = cm.rainbow(np.linspace(0, 1, len(unique_labels)+1))\n",
    "    red_color = np.array([1, 0, 0, 1])  # Red color\n",
    "    color_map = {label: color for label, color in zip(unique_labels, colors) if not np.array_equal(color, red_color)}\n",
    "    color_map[target_label_modified] = red_color  # Assign red color to the target label separately\n",
    "    color_map['benign'] = 'skyblue'  # Assign black color to the benign label\n",
    "\n",
    "    # Add other edges\n",
    "    for source, destination, relation, label in other_edges:\n",
    "        edge = (source, destination)\n",
    "\n",
    "        if label != '0':\n",
    "            label_prefix = label.split('_')[0]  # Get the first element after splitting by '_'\n",
    "            label_prefix_extended = label_prefix + \"_\" + label.split('_')[1][:3]  # Add \"_\" and the first three characters after the second '_' to the label_prefix\n",
    "        else:\n",
    "            label_prefix_extended = 'benign'\n",
    "\n",
    "        if edge in G.edges():\n",
    "            edge_labels[edge] += \", \" + relation\n",
    "        else:\n",
    "            G.add_edge(source, destination)\n",
    "\n",
    "            # Check if the edge is a part of the target edges (main graph)\n",
    "            if label == target_label:\n",
    "                node_colors[source] = 'red'\n",
    "                node_colors[destination] = 'red'\n",
    "                edge_colors[edge] = 'red'\n",
    "            else:\n",
    "                node_colors[source] = color_map.get(label_prefix_extended, 'gray')  # Set gray as the default color\n",
    "                node_colors[destination] = color_map.get(label_prefix_extended, 'gray')  # Set gray as the default color\n",
    "                edge_colors[edge] = color_map.get(label_prefix_extended, 'black')\n",
    "\n",
    "            edge_labels[edge] = relation\n",
    "\n",
    "    # Add main graph edges\n",
    "    for source, destination, relation, label in main_edges:\n",
    "        edge = (source, destination)\n",
    "        G.add_edge(source, destination)\n",
    "        node_colors[source] = 'red'\n",
    "        node_colors[destination] = 'red'\n",
    "        edge_colors[edge] = 'red'\n",
    "\n",
    "        if edge in edge_labels:\n",
    "            edge_labels[edge] += \", \" + relation\n",
    "        else:\n",
    "            edge_labels[edge] = relation\n",
    "\n",
    "    pos = graphviz_layout(G, prog=\"dot\")\n",
    "    pos = {node: (x, y-0.1) for node, (x, y) in pos.items()}\n",
    "\n",
    "    plt.figure(figsize=figsize)\n",
    "\n",
    "    # Draw nodes with custom label styles\n",
    "    node_labels = {node: rf\"$\\bf{{{node}}}$\" for node in G.nodes()}\n",
    "    nx.draw(G, pos, with_labels=False, node_size=1500, font_size=8, node_color=[node_colors[node] for node in G.nodes()], edge_color=[edge_colors[edge] for edge in G.edges()], arrowsize=10, font_color='black')\n",
    "    nx.draw_networkx_labels(G, pos, labels=node_labels, font_size=8, font_weight='bold', font_color='black')\n",
    "\n",
    "    # Draw edges with custom edge labels\n",
    "    edge_labels = {(source, destination): f\"({len(relations.split(','))})\" for (source, destination), relations in edge_labels.items()}\n",
    "    nx.draw_networkx_edge_labels(G, pos, edge_labels=edge_labels)\n",
    "\n",
    "    if title:\n",
    "        plt.text(0.05, 0.95, title, transform=plt.gca().transAxes, fontsize=12, fontweight='bold', verticalalignment='top')\n",
    "\n",
    "    # for labeling all the label with the corresponding color\n",
    "    patches = [mpatches.Patch(color=color, label=label) for label, color in color_map.items()]\n",
    "    plt.legend(handles=patches)\n",
    "\n",
    "    plt.savefig(file_name + \".png\", dpi=dpi)\n",
    "    plt.clf()\n"
   ]
  },
  {
   "cell_type": "code",
   "execution_count": 6,
   "metadata": {},
   "outputs": [
    {
     "name": "stdout",
     "output_type": "stream",
     "text": [
      "./graph_test5/T1499_2fe2d5e6-7b06-4fc0-bf71-6966a1226731.png has been generated!\n",
      "./graph_test5/T1105_60f63260-39bb-4136-87a0-b6c2dca799fc.png has been generated!\n",
      "./graph_test5/T1531_b25ae80dad74142fafb510e9c1949ace.png has been generated!\n",
      "./graph_test5/T1491_47d08617-5ce1-424a-8cc5-c9c978ce6bf9.png has been generated!\n",
      "./graph_test5/T1057_f8de05d1741dcc468f772ab0ff4dac72.png has been generated!\n",
      "./graph_test5/1003.003_9f73269695e54311dd61dc68940fb3e1.png has been generated!\n",
      "./graph_test5/1547.004_aa147165f6c116cb0b0f944abe1db8ce.png has been generated!\n",
      "./graph_test5/1562.004_8fe59e288f10a486dc8b44bc872019ff.png has been generated!\n",
      "./graph_test5/T1201_57296a2ddbeb7423c05feef2fe972111.png has been generated!\n"
     ]
    },
    {
     "name": "stderr",
     "output_type": "stream",
     "text": [
      "/tmp/ipykernel_23858/484784884.py:88: UserWarning: Creating legend with loc=\"best\" can be slow with large amounts of data.\n",
      "  plt.savefig(file_name + \".png\", dpi=dpi)\n"
     ]
    },
    {
     "name": "stdout",
     "output_type": "stream",
     "text": [
      "./graph_test5/T1560_a1ee301b0508747b468d578a14e5c1a5.png has been generated!\n",
      "./graph_test5/T1219_af8cb2bf9b436aae5c106a0a9c207e14.png has been generated!\n",
      "./graph_test5/1074.001_e6dfc7e89359ac6fa6de84b0e1d5762e.png has been generated!\n",
      "./graph_test5/T1490_2d53d6fabd39bf9c70b0dfcdfbbc926d.png has been generated!\n",
      "./graph_test5/1055.002_e5bcefee-262d-4568-a261-e8a20855ec81.png has been generated!\n",
      "./graph_test5/1518.001_b8453a5fe06b24aea12b27592d5c3d3a.png has been generated!\n",
      "./graph_test5/1547.001_777043894e42d2aae3881e63f6c76d33.png has been generated!\n",
      "./graph_test5/1087.001_6334877e8e3ba48f7835d4856d90a282.png has been generated!\n",
      "./graph_test5/T1125_da86001b5081fcf773d8e62f22cf2b00.png has been generated!\n",
      "./graph_test5/1003.001_35d92515122effdd73801c6ac3021da7.png has been generated!\n",
      "./graph_test5/T1518_c9be8043-a445-4cbf-b77b-ed7bb007fc7c.png has been generated!\n"
     ]
    },
    {
     "name": "stderr",
     "output_type": "stream",
     "text": [
      "/tmp/ipykernel_23858/484784884.py:70: RuntimeWarning: More than 20 figures have been opened. Figures created through the pyplot interface (`matplotlib.pyplot.figure`) are retained until explicitly closed and may consume too much memory. (To control this warning, see the rcParam `figure.max_open_warning`).\n",
      "  plt.figure(figsize=figsize)\n"
     ]
    },
    {
     "name": "stdout",
     "output_type": "stream",
     "text": [
      "./graph_test5/1053.005_ee454be9197890de62705ce6255933fd.png has been generated!\n",
      "./graph_test5/T1547_fe9eeee9a7b339089e5fa634b08522c1.png has been generated!\n",
      "./graph_test5/T1057_b2a1e430ca6d36eb5af2fe666e769847.png has been generated!\n",
      "./graph_test5/1074.001_6469befa-748a-4b9c-a96d-f191fde47d89.png has been generated!\n",
      "./graph_test5/1059.003_f38e58deb7ad20b5538ca40db7b7b4f8.png has been generated!\n",
      "./graph_test5/T1135_530e47c6-8592-42bf-91df-c59ffbd8541b.png has been generated!\n",
      "./graph_test5/T1490_c156ac5c9fa67080365268d95f29053d.png has been generated!\n",
      "./graph_test5/1003.003_f049b89533298c2d6cd37a940248b219.png has been generated!\n",
      "./graph_test5/T1112_ba6f6214dbd17c54001e0a163b60f151.png has been generated!\n",
      "./graph_test5/1562.004_8d0a4585e7c4646185a912b14cd9cb46.png has been generated!\n",
      "./graph_test5/T1105_0856c235a1d26113d4f2d92e39c9a9f8.png has been generated!\n",
      "./graph_test5/1518.001_2dece965-37a0-4f70-a391-0f30e3331aba.png has been generated!\n",
      "./graph_test5/T1112_e74d2fb4ef5fa6c766a4151554033697.png has been generated!\n",
      "./graph_test5/T1112_cd8be0e6b873919da25530a2c7ea6750.png has been generated!\n",
      "./graph_test5/T1018_26c8b8b5-7b5b-4de1-a128-7d37fb14f517.png has been generated!\n",
      "./graph_test5/1069.001_a1f48fa3ddee658b29b414523c9a295b.png has been generated!\n",
      "./graph_test5/1548.002_665432a4-42e7-4ee1-af19-a9a8c9455d0c.png has been generated!\n",
      "./graph_test5/1036.003_f5ef8466e5ebcd2ae03f338d9416069c.png has been generated!\n",
      "./graph_test5/1562.004_41627f71f968225b9f162cb76d16bd9d.png has been generated!\n",
      "./graph_test5/T1047_f4b0b4129560ea66f9751275e82f6bab.png has been generated!\n",
      "./graph_test5/1562.004_5b93df032e230056c21a3e57334f77d1.png has been generated!\n",
      "./graph_test5/T1115_b007fe0c-c6b0-4fda-915c-255bbc070de2.png has been generated!\n",
      "./graph_test5/1003.001_0ef4cc7b-611c-4237-b20b-db36b6906554.png has been generated!\n",
      "./graph_test5/1036.003_04e8d83e7badf098d50800d6aa1dd487.png has been generated!\n",
      "./graph_test5/T1018_a44bb43474728496276d5d73aa14588f.png has been generated!\n",
      "./graph_test5/T1113_316251ed-6a28-4013-812b-ddf5b5b007f8.png has been generated!\n",
      "./graph_test5/T1112_e7a987cbef27263e666e5b096488dc55.png has been generated!\n",
      "./graph_test5/T1496_46da2385-cf37-49cb-ba4b-a739c7a19de4.png has been generated!\n",
      "./graph_test5/1574.001_63bbedafba2f541552ac3579e9e3737b.png has been generated!\n",
      "./graph_test5/T1219_f1b3fca18d7465cd10e5a7477a3bf97d.png has been generated!\n",
      "./graph_test5/1547.009_b6e5c895c6709fe289352ee23f062229.png has been generated!\n",
      "./graph_test5/T1033_c0da588f-79f0-4263-8998-7496b1a40596.png has been generated!\n",
      "./graph_test5/1137.002_e2af3c3ab1b0f659c874b8af58c49759.png has been generated!\n",
      "./graph_test5/T1219_7dabcbecab0334b115feefab1630f84a.png has been generated!\n",
      "./graph_test5/1003.002_7fa4ea18694f2552547b65e23952cabb.png has been generated!\n",
      "./graph_test5/1036.004_7de3d7b4922a7b996d8df36fb22bb118.png has been generated!\n",
      "./graph_test5/1059.001_e5f9de8f-3df1-4e78-ad92-a784e3f6770d.png has been generated!\n",
      "./graph_test5/T1047_6935e41353aa781bb723462d26114c44.png has been generated!\n",
      "./graph_test5/T1564_dedfa0a54c9c13ce5714a0dc2e1f5d1a.png has been generated!\n",
      "./graph_test5/T1112_257313a3c93e3bb7dfb60d6753b09e34.png has been generated!\n",
      "./graph_test5/1562.004_280003641a5cddf916c4f2bf605a71d3.png has been generated!\n",
      "./graph_test5/1069.002_6103e503cb444bc7b4187704f2035708.png has been generated!\n",
      "./graph_test5/1053.005_5db2884b6ca3ab932848f295a3896dc0.png has been generated!\n",
      "./graph_test5/1552.002_3e5b04b8ee0a1a4950da8f35d95e65fc.png has been generated!\n",
      "./graph_test5/T1016_7d8ee68f0e9731db82964f558f614608.png has been generated!\n",
      "./graph_test5/T1047_09e0f9cf2eb803a1c35deeecf3665fad.png has been generated!\n",
      "./graph_test5/T1007_d6bb2a19da7246731ed9c44831b135f8.png has been generated!\n",
      "./graph_test5/1204.002_522f3f35cd013e63830fa555495a0081.png has been generated!\n",
      "./graph_test5/T1016_71b3d2945679566b9d94d8cb11df4b70.png has been generated!\n",
      "./graph_test5/T1112_7fe6a66d03f4dbfc022609ba311c2b11.png has been generated!\n",
      "./graph_test5/1564.004_28862487a99f5f89bc0d68c87396c7e9.png has been generated!\n",
      "./graph_test5/T1007_c6607391-d02c-44b5-9b13-d3492ca58599.png has been generated!\n",
      "./graph_test5/1546.013_f9a968af61d36983448c74cca5464e17.png has been generated!\n",
      "Invalid target_label: label\n",
      "./graph_test5/T1137_12ad9edefc86af07700fbf49bfdac6ba.png has been generated!\n",
      "./graph_test5/T1040_6881a4589710d53f0c146e91db513f01.png has been generated!\n",
      "./graph_test5/T1049_638fb6bb-ba39-4285-93d1-7e4775b033a8.png has been generated!\n",
      "./graph_test5/1059.003_6c318ef0339d74d909ad556681b6493e.png has been generated!\n",
      "./graph_test5/T1112_35c0360d226cf38104f300d9d57ce60e.png has been generated!\n",
      "./graph_test5/T1047_ac122553ab4426ea3362bb4a97d31bfd.png has been generated!\n",
      "./graph_test5/T1047_ed736a123da6fb2aab22cfd4f437e8b5.png has been generated!\n",
      "./graph_test5/T1057_8adf02e8-6e71-4244-886c-98c402857404.png has been generated!\n",
      "./graph_test5/T1112_fa4ba6a06b4a5cd955ea5a60fae24281.png has been generated!\n",
      "./graph_test5/T1486_d82ceb9939d3d920ee550187ad8235c8.png has been generated!\n",
      "./graph_test5/T1119_344e7eaf650763e0d3e9f02e62c1cf4b.png has been generated!\n",
      "./graph_test5/T1033_bd527b63-9f9e-46e0-9816-b8434d2b8989.png has been generated!\n",
      "./graph_test5/1036.004_1f0614ea5c4af6faf1b44570f5f22f8a.png has been generated!\n",
      "./graph_test5/T1120_7b9c7afaefa59aab759b49af0d699ac1.png has been generated!\n",
      "./graph_test5/1547.001_163b023f43aba758d36f524d146cb8ea.png has been generated!\n",
      "./graph_test5/1059.001_55678719-e76e-4df9-92aa-10655bbd1cf4.png has been generated!\n",
      "./graph_test5/T1016_14a21534-350f-4d83-9dd7-3c56b93a0c17.png has been generated!\n",
      "./graph_test5/1059.001_6efbccc1869e8cd618c0d3ecda407d5f.png has been generated!\n",
      "./graph_test5/T1124_fa6e8607-e0b1-425d-8924-9b894da5a002.png has been generated!\n",
      "./graph_test5/1562.002_6a8d25d65a7d481dc479f89c62af1e6a.png has been generated!\n",
      "./graph_test5/1547.001_d3ef4145e4144fd694514b1c5cc17350.png has been generated!\n",
      "./graph_test5/1055.001_a74bc239-a196-4f7e-8d5c-fe8c0266071c.png has been generated!\n",
      "./graph_test5/T1217_f7a0f7d704aa52a764d9d1bee81e65d6.png has been generated!\n",
      "./graph_test5/1090.001_ba343199a4f15ed6b57eb52412f62e4e.png has been generated!\n",
      "./graph_test5/1566.001_1afaec09315ab71fdfb167175e8a019a.png has been generated!\n",
      "./graph_test5/T1049_a14392d713dffba6a397682ff83259a0.png has been generated!\n",
      "./graph_test5/T1112_4bfb5f265a5ce07af6bf10da113af7db.png has been generated!\n",
      "./graph_test5/1564.004_76b6066fe170d38215251102e42be973.png has been generated!\n",
      "./graph_test5/1547.004_0856714c9810ac55b53e9964d02958a0.png has been generated!\n",
      "./graph_test5/T1105_1095434782a00c8a4772a11e625bcf5d.png has been generated!\n",
      "./graph_test5/T1115_70795de7cbb842edb029b3378c27c008.png has been generated!\n",
      "./graph_test5/1078.001_d0ca00832890baa1d42322cf70fcab1a.png has been generated!\n",
      "./graph_test5/T1105_c76968acda4aa1673dadcd67f3ab7664.png has been generated!\n",
      "./graph_test5/T1007_9d03c91bdae5a80f17f89c987942b5a8.png has been generated!\n",
      "./graph_test5/1518.001_33a24ff44719e6ac0614b58f8c9a7c72.png has been generated!\n",
      "./graph_test5/1547.001_4b71ebb2f6f6a01235ba240fa40ce978.png has been generated!\n",
      "./graph_test5/T1112_fd992e8ecfdac9b56dd6868904044827.png has been generated!\n",
      "./graph_test5/T1082_29451844-9b76-4e16-a9ee-d6feab4b24db.png has been generated!\n",
      "./graph_test5/T1083_6e1a53c0-7352-4899-be35-fa7f364d5722.png has been generated!\n",
      "./graph_test5/T1201_38f6f0e50a6b196140ec40d3dc9cc9e6.png has been generated!\n",
      "./graph_test5/1021.001_dd67068b052fa553ad4a0ac7d6a5ea89.png has been generated!\n",
      "./graph_test5/T1016_e8017c46-acb8-400c-a4b5-b3362b5b5baa.png has been generated!\n",
      "./graph_test5/1564.003_9a2edad4053a2b59fb9167a9bc29e7dc.png has been generated!\n",
      "./graph_test5/T1482_6131397e-7765-424e-a594-3d7fb2d93a6a.png has been generated!\n",
      "./graph_test5/T1057_5a39d7ed-45c9-4a79-b581-e5fb99e24f65.png has been generated!\n",
      "./graph_test5/1547.009_501af516bd8b24fee0c7c650ae5cc861.png has been generated!\n",
      "./graph_test5/1074.001_4e97e699-93d7-4040-b5a3-2e906a58199e.png has been generated!\n",
      "./graph_test5/1547.010_4593d72a5145e3f494421ac772d37464.png has been generated!\n",
      "./graph_test5/1070.005_1f91076e2be2014cc7b4f1296de02fd6.png has been generated!\n",
      "./graph_test5/1497.001_1258b063-27d6-489b-a677-4807faacf868.png has been generated!\n",
      "./graph_test5/1547.001_1f15ab22c39a9b6bb2bb0d77276dfcb3.png has been generated!\n",
      "./graph_test5/T1123_372e6f46fca18e4f1b43209c20ffafa2.png has been generated!\n",
      "./graph_test5/1003.002_5a484b65c247675e3b7ada4ba648d376.png has been generated!\n",
      "./graph_test5/T1490_9e5e4c0655fd1b5be88bd40b8251175f.png has been generated!\n",
      "./graph_test5/T1135_deeac480-5c2a-42b5-90bb-41675ee53c7e.png has been generated!\n",
      "./graph_test5/T1105_4f683658f161ccdc51337c470d32bab9.png has been generated!\n",
      "./graph_test5/T1482_cfb61005899996469ae3023796792ca5.png has been generated!\n",
      "./graph_test5/1562.001_43e3334362b140924f001b256b229ee5.png has been generated!\n",
      "./graph_test5/T1518_8ddfaf982ab359cda13626b870ccb339.png has been generated!\n",
      "./graph_test5/1564.001_dce51e632abdfe5392c7c1f942ac9273.png has been generated!\n",
      "Invalid target_label: 0\n",
      "./graph_test5/T1112_34041639e6e501856ecaf5969ee29c76.png has been generated!\n",
      "./graph_test5/T1490_e90756bb6dcd21462dc4cc452661df91.png has been generated!\n",
      "./graph_test5/T1047_ac2764f7a67a9ce92b54e8e59b361838.png has been generated!\n",
      "./graph_test5/T1490_8467c994685ccf178db166964bd80fab.png has been generated!\n",
      "./graph_test5/1574.011_72249c1e9ffe7d8f30243d838e0791ca.png has been generated!\n",
      "./graph_test5/1069.001_5c4dd985-89e3-4590-9b57-71fed66ff4e2.png has been generated!\n",
      "./graph_test5/1497.001_7a6ba833-de40-466a-8969-5c37b13603e0.png has been generated!\n",
      "./graph_test5/T1491_68235976-2404-42a8-9105-68230cfef562.png has been generated!\n",
      "./graph_test5/T1105_e6715e61f5df646692c624b3499384c4.png has been generated!\n",
      "./graph_test5/T1217_69bbe2183fa09c00ccaac62d48e214f8.png has been generated!\n",
      "./graph_test5/T1016_a0676fe1-cd52-482e-8dde-349b73f9aa69.png has been generated!\n",
      "./graph_test5/1037.001_62cfa90fb03a6bc1a6ebcce8a3ea81b7.png has been generated!\n",
      "./graph_test5/T1531_aa6b15485a5f50ced34d87fda177b758.png has been generated!\n",
      "./graph_test5/T1047_b0255b5120cbabc062d8d4510a142c3b.png has been generated!\n",
      "./graph_test5/1059.001_bfff9006-d1fb-46ce-b173-92cb04e9a031.png has been generated!\n",
      "./graph_test5/1497.001_5dc841fd-28ad-40e2-b10e-fb007fe09e81.png has been generated!\n",
      "./graph_test5/T1018_ac20e592bc912bddff4d6b88289095f0.png has been generated!\n",
      "./graph_test5/T1016_921055f4-5970-4707-909e-62f594234d91.png has been generated!\n",
      "./graph_test5/T1105_eb814e03-811a-467a-bc6d-dcd453750fa2.png has been generated!\n",
      "./graph_test5/1564.001_66a5fd5f244819181f074dd082a28905.png has been generated!\n",
      "./graph_test5/T1083_52177cc1-b9ab-4411-ac21-2eadc4b5d3b8.png has been generated!\n",
      "./graph_test5/T1105_c521e0a70b243a0cf9217907ca3c6d27.png has been generated!\n",
      "./graph_test5/1071.001_24c3b7b004401d839a5c337201da3484.png has been generated!\n",
      "./graph_test5/T1119_7121cdf93b951311be9d7078c602efdc.png has been generated!\n",
      "./graph_test5/T1490_c8f329d2847ede593b6cb4a1ec6120fb.png has been generated!\n",
      "./graph_test5/T1112_cab7b85611a290c0769546bfa9d6f962.png has been generated!\n",
      "./graph_test5/1562.002_94f51bf01a7036fe02d07b4c18967669.png has been generated!\n",
      "./graph_test5/1087.001_feaced8f-f43f-452a-9500-a5219488abb8.png has been generated!\n",
      "./graph_test5/T1003_18f31c311ac208802e88ab8d5af8603e.png has been generated!\n",
      "./graph_test5/1547.001_0dbdf1a2a87e718a6ac8a8e3415a7fac.png has been generated!\n",
      "./graph_test5/1059.001_ccdb8caf-c69e-424b-b930-551969450c57.png has been generated!\n",
      "./graph_test5/1059.001_702bfdd2-9947-4eda-b551-c3a1ea9a59a2.png has been generated!\n",
      "DONE!!\n"
     ]
    },
    {
     "data": {
      "text/plain": [
       "<Figure size 720x576 with 0 Axes>"
      ]
     },
     "metadata": {},
     "output_type": "display_data"
    },
    {
     "data": {
      "text/plain": [
       "<Figure size 720x576 with 0 Axes>"
      ]
     },
     "metadata": {},
     "output_type": "display_data"
    },
    {
     "data": {
      "text/plain": [
       "<Figure size 720x576 with 0 Axes>"
      ]
     },
     "metadata": {},
     "output_type": "display_data"
    },
    {
     "data": {
      "text/plain": [
       "<Figure size 720x576 with 0 Axes>"
      ]
     },
     "metadata": {},
     "output_type": "display_data"
    },
    {
     "data": {
      "text/plain": [
       "<Figure size 720x576 with 0 Axes>"
      ]
     },
     "metadata": {},
     "output_type": "display_data"
    },
    {
     "data": {
      "text/plain": [
       "<Figure size 720x576 with 0 Axes>"
      ]
     },
     "metadata": {},
     "output_type": "display_data"
    },
    {
     "data": {
      "text/plain": [
       "<Figure size 720x576 with 0 Axes>"
      ]
     },
     "metadata": {},
     "output_type": "display_data"
    },
    {
     "data": {
      "text/plain": [
       "<Figure size 720x576 with 0 Axes>"
      ]
     },
     "metadata": {},
     "output_type": "display_data"
    },
    {
     "data": {
      "text/plain": [
       "<Figure size 720x576 with 0 Axes>"
      ]
     },
     "metadata": {},
     "output_type": "display_data"
    },
    {
     "data": {
      "text/plain": [
       "<Figure size 720x576 with 0 Axes>"
      ]
     },
     "metadata": {},
     "output_type": "display_data"
    },
    {
     "data": {
      "text/plain": [
       "<Figure size 720x576 with 0 Axes>"
      ]
     },
     "metadata": {},
     "output_type": "display_data"
    },
    {
     "data": {
      "text/plain": [
       "<Figure size 720x576 with 0 Axes>"
      ]
     },
     "metadata": {},
     "output_type": "display_data"
    },
    {
     "data": {
      "text/plain": [
       "<Figure size 720x576 with 0 Axes>"
      ]
     },
     "metadata": {},
     "output_type": "display_data"
    },
    {
     "data": {
      "text/plain": [
       "<Figure size 720x576 with 0 Axes>"
      ]
     },
     "metadata": {},
     "output_type": "display_data"
    },
    {
     "data": {
      "text/plain": [
       "<Figure size 720x576 with 0 Axes>"
      ]
     },
     "metadata": {},
     "output_type": "display_data"
    },
    {
     "data": {
      "text/plain": [
       "<Figure size 720x576 with 0 Axes>"
      ]
     },
     "metadata": {},
     "output_type": "display_data"
    },
    {
     "data": {
      "text/plain": [
       "<Figure size 720x576 with 0 Axes>"
      ]
     },
     "metadata": {},
     "output_type": "display_data"
    },
    {
     "data": {
      "text/plain": [
       "<Figure size 720x576 with 0 Axes>"
      ]
     },
     "metadata": {},
     "output_type": "display_data"
    },
    {
     "data": {
      "text/plain": [
       "<Figure size 720x576 with 0 Axes>"
      ]
     },
     "metadata": {},
     "output_type": "display_data"
    },
    {
     "data": {
      "text/plain": [
       "<Figure size 720x576 with 0 Axes>"
      ]
     },
     "metadata": {},
     "output_type": "display_data"
    },
    {
     "data": {
      "text/plain": [
       "<Figure size 720x576 with 0 Axes>"
      ]
     },
     "metadata": {},
     "output_type": "display_data"
    },
    {
     "data": {
      "text/plain": [
       "<Figure size 720x576 with 0 Axes>"
      ]
     },
     "metadata": {},
     "output_type": "display_data"
    },
    {
     "data": {
      "text/plain": [
       "<Figure size 720x576 with 0 Axes>"
      ]
     },
     "metadata": {},
     "output_type": "display_data"
    },
    {
     "data": {
      "text/plain": [
       "<Figure size 720x576 with 0 Axes>"
      ]
     },
     "metadata": {},
     "output_type": "display_data"
    },
    {
     "data": {
      "text/plain": [
       "<Figure size 720x576 with 0 Axes>"
      ]
     },
     "metadata": {},
     "output_type": "display_data"
    },
    {
     "data": {
      "text/plain": [
       "<Figure size 720x576 with 0 Axes>"
      ]
     },
     "metadata": {},
     "output_type": "display_data"
    },
    {
     "data": {
      "text/plain": [
       "<Figure size 720x576 with 0 Axes>"
      ]
     },
     "metadata": {},
     "output_type": "display_data"
    },
    {
     "data": {
      "text/plain": [
       "<Figure size 720x576 with 0 Axes>"
      ]
     },
     "metadata": {},
     "output_type": "display_data"
    },
    {
     "data": {
      "text/plain": [
       "<Figure size 720x576 with 0 Axes>"
      ]
     },
     "metadata": {},
     "output_type": "display_data"
    },
    {
     "data": {
      "text/plain": [
       "<Figure size 720x576 with 0 Axes>"
      ]
     },
     "metadata": {},
     "output_type": "display_data"
    },
    {
     "data": {
      "text/plain": [
       "<Figure size 720x576 with 0 Axes>"
      ]
     },
     "metadata": {},
     "output_type": "display_data"
    },
    {
     "data": {
      "text/plain": [
       "<Figure size 720x576 with 0 Axes>"
      ]
     },
     "metadata": {},
     "output_type": "display_data"
    },
    {
     "data": {
      "text/plain": [
       "<Figure size 720x576 with 0 Axes>"
      ]
     },
     "metadata": {},
     "output_type": "display_data"
    },
    {
     "data": {
      "text/plain": [
       "<Figure size 720x576 with 0 Axes>"
      ]
     },
     "metadata": {},
     "output_type": "display_data"
    },
    {
     "data": {
      "text/plain": [
       "<Figure size 720x576 with 0 Axes>"
      ]
     },
     "metadata": {},
     "output_type": "display_data"
    },
    {
     "data": {
      "text/plain": [
       "<Figure size 720x576 with 0 Axes>"
      ]
     },
     "metadata": {},
     "output_type": "display_data"
    },
    {
     "data": {
      "text/plain": [
       "<Figure size 720x576 with 0 Axes>"
      ]
     },
     "metadata": {},
     "output_type": "display_data"
    },
    {
     "data": {
      "text/plain": [
       "<Figure size 720x576 with 0 Axes>"
      ]
     },
     "metadata": {},
     "output_type": "display_data"
    },
    {
     "data": {
      "text/plain": [
       "<Figure size 720x576 with 0 Axes>"
      ]
     },
     "metadata": {},
     "output_type": "display_data"
    },
    {
     "data": {
      "text/plain": [
       "<Figure size 720x576 with 0 Axes>"
      ]
     },
     "metadata": {},
     "output_type": "display_data"
    },
    {
     "data": {
      "text/plain": [
       "<Figure size 720x576 with 0 Axes>"
      ]
     },
     "metadata": {},
     "output_type": "display_data"
    },
    {
     "data": {
      "text/plain": [
       "<Figure size 720x576 with 0 Axes>"
      ]
     },
     "metadata": {},
     "output_type": "display_data"
    },
    {
     "data": {
      "text/plain": [
       "<Figure size 720x576 with 0 Axes>"
      ]
     },
     "metadata": {},
     "output_type": "display_data"
    },
    {
     "data": {
      "text/plain": [
       "<Figure size 720x576 with 0 Axes>"
      ]
     },
     "metadata": {},
     "output_type": "display_data"
    },
    {
     "data": {
      "text/plain": [
       "<Figure size 720x576 with 0 Axes>"
      ]
     },
     "metadata": {},
     "output_type": "display_data"
    },
    {
     "data": {
      "text/plain": [
       "<Figure size 720x576 with 0 Axes>"
      ]
     },
     "metadata": {},
     "output_type": "display_data"
    },
    {
     "data": {
      "text/plain": [
       "<Figure size 720x576 with 0 Axes>"
      ]
     },
     "metadata": {},
     "output_type": "display_data"
    },
    {
     "data": {
      "text/plain": [
       "<Figure size 720x576 with 0 Axes>"
      ]
     },
     "metadata": {},
     "output_type": "display_data"
    },
    {
     "data": {
      "text/plain": [
       "<Figure size 720x576 with 0 Axes>"
      ]
     },
     "metadata": {},
     "output_type": "display_data"
    },
    {
     "data": {
      "text/plain": [
       "<Figure size 720x576 with 0 Axes>"
      ]
     },
     "metadata": {},
     "output_type": "display_data"
    },
    {
     "data": {
      "text/plain": [
       "<Figure size 720x576 with 0 Axes>"
      ]
     },
     "metadata": {},
     "output_type": "display_data"
    },
    {
     "data": {
      "text/plain": [
       "<Figure size 720x576 with 0 Axes>"
      ]
     },
     "metadata": {},
     "output_type": "display_data"
    },
    {
     "data": {
      "text/plain": [
       "<Figure size 720x576 with 0 Axes>"
      ]
     },
     "metadata": {},
     "output_type": "display_data"
    },
    {
     "data": {
      "text/plain": [
       "<Figure size 720x576 with 0 Axes>"
      ]
     },
     "metadata": {},
     "output_type": "display_data"
    },
    {
     "data": {
      "text/plain": [
       "<Figure size 720x576 with 0 Axes>"
      ]
     },
     "metadata": {},
     "output_type": "display_data"
    },
    {
     "data": {
      "text/plain": [
       "<Figure size 720x576 with 0 Axes>"
      ]
     },
     "metadata": {},
     "output_type": "display_data"
    },
    {
     "data": {
      "text/plain": [
       "<Figure size 720x576 with 0 Axes>"
      ]
     },
     "metadata": {},
     "output_type": "display_data"
    },
    {
     "data": {
      "text/plain": [
       "<Figure size 720x576 with 0 Axes>"
      ]
     },
     "metadata": {},
     "output_type": "display_data"
    },
    {
     "data": {
      "text/plain": [
       "<Figure size 720x576 with 0 Axes>"
      ]
     },
     "metadata": {},
     "output_type": "display_data"
    },
    {
     "data": {
      "text/plain": [
       "<Figure size 720x576 with 0 Axes>"
      ]
     },
     "metadata": {},
     "output_type": "display_data"
    },
    {
     "data": {
      "text/plain": [
       "<Figure size 720x576 with 0 Axes>"
      ]
     },
     "metadata": {},
     "output_type": "display_data"
    },
    {
     "data": {
      "text/plain": [
       "<Figure size 720x576 with 0 Axes>"
      ]
     },
     "metadata": {},
     "output_type": "display_data"
    },
    {
     "data": {
      "text/plain": [
       "<Figure size 720x576 with 0 Axes>"
      ]
     },
     "metadata": {},
     "output_type": "display_data"
    },
    {
     "data": {
      "text/plain": [
       "<Figure size 720x576 with 0 Axes>"
      ]
     },
     "metadata": {},
     "output_type": "display_data"
    },
    {
     "data": {
      "text/plain": [
       "<Figure size 720x576 with 0 Axes>"
      ]
     },
     "metadata": {},
     "output_type": "display_data"
    },
    {
     "data": {
      "text/plain": [
       "<Figure size 720x576 with 0 Axes>"
      ]
     },
     "metadata": {},
     "output_type": "display_data"
    },
    {
     "data": {
      "text/plain": [
       "<Figure size 720x576 with 0 Axes>"
      ]
     },
     "metadata": {},
     "output_type": "display_data"
    },
    {
     "data": {
      "text/plain": [
       "<Figure size 720x576 with 0 Axes>"
      ]
     },
     "metadata": {},
     "output_type": "display_data"
    },
    {
     "data": {
      "text/plain": [
       "<Figure size 720x576 with 0 Axes>"
      ]
     },
     "metadata": {},
     "output_type": "display_data"
    },
    {
     "data": {
      "text/plain": [
       "<Figure size 720x576 with 0 Axes>"
      ]
     },
     "metadata": {},
     "output_type": "display_data"
    },
    {
     "data": {
      "text/plain": [
       "<Figure size 720x576 with 0 Axes>"
      ]
     },
     "metadata": {},
     "output_type": "display_data"
    },
    {
     "data": {
      "text/plain": [
       "<Figure size 720x576 with 0 Axes>"
      ]
     },
     "metadata": {},
     "output_type": "display_data"
    },
    {
     "data": {
      "text/plain": [
       "<Figure size 720x576 with 0 Axes>"
      ]
     },
     "metadata": {},
     "output_type": "display_data"
    },
    {
     "data": {
      "text/plain": [
       "<Figure size 720x576 with 0 Axes>"
      ]
     },
     "metadata": {},
     "output_type": "display_data"
    },
    {
     "data": {
      "text/plain": [
       "<Figure size 720x576 with 0 Axes>"
      ]
     },
     "metadata": {},
     "output_type": "display_data"
    },
    {
     "data": {
      "text/plain": [
       "<Figure size 720x576 with 0 Axes>"
      ]
     },
     "metadata": {},
     "output_type": "display_data"
    },
    {
     "data": {
      "text/plain": [
       "<Figure size 720x576 with 0 Axes>"
      ]
     },
     "metadata": {},
     "output_type": "display_data"
    },
    {
     "data": {
      "text/plain": [
       "<Figure size 720x576 with 0 Axes>"
      ]
     },
     "metadata": {},
     "output_type": "display_data"
    },
    {
     "data": {
      "text/plain": [
       "<Figure size 720x576 with 0 Axes>"
      ]
     },
     "metadata": {},
     "output_type": "display_data"
    },
    {
     "data": {
      "text/plain": [
       "<Figure size 720x576 with 0 Axes>"
      ]
     },
     "metadata": {},
     "output_type": "display_data"
    },
    {
     "data": {
      "text/plain": [
       "<Figure size 720x576 with 0 Axes>"
      ]
     },
     "metadata": {},
     "output_type": "display_data"
    },
    {
     "data": {
      "text/plain": [
       "<Figure size 720x576 with 0 Axes>"
      ]
     },
     "metadata": {},
     "output_type": "display_data"
    },
    {
     "data": {
      "text/plain": [
       "<Figure size 720x576 with 0 Axes>"
      ]
     },
     "metadata": {},
     "output_type": "display_data"
    },
    {
     "data": {
      "text/plain": [
       "<Figure size 720x576 with 0 Axes>"
      ]
     },
     "metadata": {},
     "output_type": "display_data"
    },
    {
     "data": {
      "text/plain": [
       "<Figure size 720x576 with 0 Axes>"
      ]
     },
     "metadata": {},
     "output_type": "display_data"
    },
    {
     "data": {
      "text/plain": [
       "<Figure size 720x576 with 0 Axes>"
      ]
     },
     "metadata": {},
     "output_type": "display_data"
    },
    {
     "data": {
      "text/plain": [
       "<Figure size 720x576 with 0 Axes>"
      ]
     },
     "metadata": {},
     "output_type": "display_data"
    },
    {
     "data": {
      "text/plain": [
       "<Figure size 720x576 with 0 Axes>"
      ]
     },
     "metadata": {},
     "output_type": "display_data"
    },
    {
     "data": {
      "text/plain": [
       "<Figure size 720x576 with 0 Axes>"
      ]
     },
     "metadata": {},
     "output_type": "display_data"
    },
    {
     "data": {
      "text/plain": [
       "<Figure size 720x576 with 0 Axes>"
      ]
     },
     "metadata": {},
     "output_type": "display_data"
    },
    {
     "data": {
      "text/plain": [
       "<Figure size 720x576 with 0 Axes>"
      ]
     },
     "metadata": {},
     "output_type": "display_data"
    },
    {
     "data": {
      "text/plain": [
       "<Figure size 720x576 with 0 Axes>"
      ]
     },
     "metadata": {},
     "output_type": "display_data"
    },
    {
     "data": {
      "text/plain": [
       "<Figure size 720x576 with 0 Axes>"
      ]
     },
     "metadata": {},
     "output_type": "display_data"
    },
    {
     "data": {
      "text/plain": [
       "<Figure size 720x576 with 0 Axes>"
      ]
     },
     "metadata": {},
     "output_type": "display_data"
    },
    {
     "data": {
      "text/plain": [
       "<Figure size 720x576 with 0 Axes>"
      ]
     },
     "metadata": {},
     "output_type": "display_data"
    },
    {
     "data": {
      "text/plain": [
       "<Figure size 720x576 with 0 Axes>"
      ]
     },
     "metadata": {},
     "output_type": "display_data"
    },
    {
     "data": {
      "text/plain": [
       "<Figure size 720x576 with 0 Axes>"
      ]
     },
     "metadata": {},
     "output_type": "display_data"
    },
    {
     "data": {
      "text/plain": [
       "<Figure size 720x576 with 0 Axes>"
      ]
     },
     "metadata": {},
     "output_type": "display_data"
    },
    {
     "data": {
      "text/plain": [
       "<Figure size 720x576 with 0 Axes>"
      ]
     },
     "metadata": {},
     "output_type": "display_data"
    },
    {
     "data": {
      "text/plain": [
       "<Figure size 720x576 with 0 Axes>"
      ]
     },
     "metadata": {},
     "output_type": "display_data"
    },
    {
     "data": {
      "text/plain": [
       "<Figure size 720x576 with 0 Axes>"
      ]
     },
     "metadata": {},
     "output_type": "display_data"
    },
    {
     "data": {
      "text/plain": [
       "<Figure size 720x576 with 0 Axes>"
      ]
     },
     "metadata": {},
     "output_type": "display_data"
    },
    {
     "data": {
      "text/plain": [
       "<Figure size 720x576 with 0 Axes>"
      ]
     },
     "metadata": {},
     "output_type": "display_data"
    },
    {
     "data": {
      "text/plain": [
       "<Figure size 720x576 with 0 Axes>"
      ]
     },
     "metadata": {},
     "output_type": "display_data"
    },
    {
     "data": {
      "text/plain": [
       "<Figure size 720x576 with 0 Axes>"
      ]
     },
     "metadata": {},
     "output_type": "display_data"
    },
    {
     "data": {
      "text/plain": [
       "<Figure size 720x576 with 0 Axes>"
      ]
     },
     "metadata": {},
     "output_type": "display_data"
    },
    {
     "data": {
      "text/plain": [
       "<Figure size 720x576 with 0 Axes>"
      ]
     },
     "metadata": {},
     "output_type": "display_data"
    },
    {
     "data": {
      "text/plain": [
       "<Figure size 720x576 with 0 Axes>"
      ]
     },
     "metadata": {},
     "output_type": "display_data"
    },
    {
     "data": {
      "text/plain": [
       "<Figure size 720x576 with 0 Axes>"
      ]
     },
     "metadata": {},
     "output_type": "display_data"
    },
    {
     "data": {
      "text/plain": [
       "<Figure size 720x576 with 0 Axes>"
      ]
     },
     "metadata": {},
     "output_type": "display_data"
    },
    {
     "data": {
      "text/plain": [
       "<Figure size 720x576 with 0 Axes>"
      ]
     },
     "metadata": {},
     "output_type": "display_data"
    },
    {
     "data": {
      "text/plain": [
       "<Figure size 720x576 with 0 Axes>"
      ]
     },
     "metadata": {},
     "output_type": "display_data"
    },
    {
     "data": {
      "text/plain": [
       "<Figure size 720x576 with 0 Axes>"
      ]
     },
     "metadata": {},
     "output_type": "display_data"
    },
    {
     "data": {
      "text/plain": [
       "<Figure size 720x576 with 0 Axes>"
      ]
     },
     "metadata": {},
     "output_type": "display_data"
    },
    {
     "data": {
      "text/plain": [
       "<Figure size 720x576 with 0 Axes>"
      ]
     },
     "metadata": {},
     "output_type": "display_data"
    },
    {
     "data": {
      "text/plain": [
       "<Figure size 720x576 with 0 Axes>"
      ]
     },
     "metadata": {},
     "output_type": "display_data"
    },
    {
     "data": {
      "text/plain": [
       "<Figure size 720x576 with 0 Axes>"
      ]
     },
     "metadata": {},
     "output_type": "display_data"
    },
    {
     "data": {
      "text/plain": [
       "<Figure size 720x576 with 0 Axes>"
      ]
     },
     "metadata": {},
     "output_type": "display_data"
    },
    {
     "data": {
      "text/plain": [
       "<Figure size 720x576 with 0 Axes>"
      ]
     },
     "metadata": {},
     "output_type": "display_data"
    },
    {
     "data": {
      "text/plain": [
       "<Figure size 720x576 with 0 Axes>"
      ]
     },
     "metadata": {},
     "output_type": "display_data"
    },
    {
     "data": {
      "text/plain": [
       "<Figure size 720x576 with 0 Axes>"
      ]
     },
     "metadata": {},
     "output_type": "display_data"
    },
    {
     "data": {
      "text/plain": [
       "<Figure size 720x576 with 0 Axes>"
      ]
     },
     "metadata": {},
     "output_type": "display_data"
    },
    {
     "data": {
      "text/plain": [
       "<Figure size 720x576 with 0 Axes>"
      ]
     },
     "metadata": {},
     "output_type": "display_data"
    },
    {
     "data": {
      "text/plain": [
       "<Figure size 720x576 with 0 Axes>"
      ]
     },
     "metadata": {},
     "output_type": "display_data"
    },
    {
     "data": {
      "text/plain": [
       "<Figure size 720x576 with 0 Axes>"
      ]
     },
     "metadata": {},
     "output_type": "display_data"
    },
    {
     "data": {
      "text/plain": [
       "<Figure size 720x576 with 0 Axes>"
      ]
     },
     "metadata": {},
     "output_type": "display_data"
    },
    {
     "data": {
      "text/plain": [
       "<Figure size 720x576 with 0 Axes>"
      ]
     },
     "metadata": {},
     "output_type": "display_data"
    },
    {
     "data": {
      "text/plain": [
       "<Figure size 720x576 with 0 Axes>"
      ]
     },
     "metadata": {},
     "output_type": "display_data"
    },
    {
     "data": {
      "text/plain": [
       "<Figure size 720x576 with 0 Axes>"
      ]
     },
     "metadata": {},
     "output_type": "display_data"
    },
    {
     "data": {
      "text/plain": [
       "<Figure size 720x576 with 0 Axes>"
      ]
     },
     "metadata": {},
     "output_type": "display_data"
    },
    {
     "data": {
      "text/plain": [
       "<Figure size 720x576 with 0 Axes>"
      ]
     },
     "metadata": {},
     "output_type": "display_data"
    },
    {
     "data": {
      "text/plain": [
       "<Figure size 720x576 with 0 Axes>"
      ]
     },
     "metadata": {},
     "output_type": "display_data"
    },
    {
     "data": {
      "text/plain": [
       "<Figure size 720x576 with 0 Axes>"
      ]
     },
     "metadata": {},
     "output_type": "display_data"
    },
    {
     "data": {
      "text/plain": [
       "<Figure size 720x576 with 0 Axes>"
      ]
     },
     "metadata": {},
     "output_type": "display_data"
    },
    {
     "data": {
      "text/plain": [
       "<Figure size 720x576 with 0 Axes>"
      ]
     },
     "metadata": {},
     "output_type": "display_data"
    },
    {
     "data": {
      "text/plain": [
       "<Figure size 720x576 with 0 Axes>"
      ]
     },
     "metadata": {},
     "output_type": "display_data"
    },
    {
     "data": {
      "text/plain": [
       "<Figure size 720x576 with 0 Axes>"
      ]
     },
     "metadata": {},
     "output_type": "display_data"
    },
    {
     "data": {
      "text/plain": [
       "<Figure size 720x576 with 0 Axes>"
      ]
     },
     "metadata": {},
     "output_type": "display_data"
    },
    {
     "data": {
      "text/plain": [
       "<Figure size 720x576 with 0 Axes>"
      ]
     },
     "metadata": {},
     "output_type": "display_data"
    },
    {
     "data": {
      "text/plain": [
       "<Figure size 720x576 with 0 Axes>"
      ]
     },
     "metadata": {},
     "output_type": "display_data"
    },
    {
     "data": {
      "text/plain": [
       "<Figure size 720x576 with 0 Axes>"
      ]
     },
     "metadata": {},
     "output_type": "display_data"
    },
    {
     "data": {
      "text/plain": [
       "<Figure size 720x576 with 0 Axes>"
      ]
     },
     "metadata": {},
     "output_type": "display_data"
    },
    {
     "data": {
      "text/plain": [
       "<Figure size 720x576 with 0 Axes>"
      ]
     },
     "metadata": {},
     "output_type": "display_data"
    },
    {
     "data": {
      "text/plain": [
       "<Figure size 720x576 with 0 Axes>"
      ]
     },
     "metadata": {},
     "output_type": "display_data"
    },
    {
     "data": {
      "text/plain": [
       "<Figure size 720x576 with 0 Axes>"
      ]
     },
     "metadata": {},
     "output_type": "display_data"
    },
    {
     "data": {
      "text/plain": [
       "<Figure size 720x576 with 0 Axes>"
      ]
     },
     "metadata": {},
     "output_type": "display_data"
    },
    {
     "data": {
      "text/plain": [
       "<Figure size 720x576 with 0 Axes>"
      ]
     },
     "metadata": {},
     "output_type": "display_data"
    },
    {
     "data": {
      "text/plain": [
       "<Figure size 720x576 with 0 Axes>"
      ]
     },
     "metadata": {},
     "output_type": "display_data"
    },
    {
     "data": {
      "text/plain": [
       "<Figure size 720x576 with 0 Axes>"
      ]
     },
     "metadata": {},
     "output_type": "display_data"
    },
    {
     "data": {
      "text/plain": [
       "<Figure size 720x576 with 0 Axes>"
      ]
     },
     "metadata": {},
     "output_type": "display_data"
    },
    {
     "data": {
      "text/plain": [
       "<Figure size 720x576 with 0 Axes>"
      ]
     },
     "metadata": {},
     "output_type": "display_data"
    },
    {
     "data": {
      "text/plain": [
       "<Figure size 720x576 with 0 Axes>"
      ]
     },
     "metadata": {},
     "output_type": "display_data"
    },
    {
     "data": {
      "text/plain": [
       "<Figure size 720x576 with 0 Axes>"
      ]
     },
     "metadata": {},
     "output_type": "display_data"
    },
    {
     "data": {
      "text/plain": [
       "<Figure size 720x576 with 0 Axes>"
      ]
     },
     "metadata": {},
     "output_type": "display_data"
    },
    {
     "data": {
      "text/plain": [
       "<Figure size 720x576 with 0 Axes>"
      ]
     },
     "metadata": {},
     "output_type": "display_data"
    },
    {
     "data": {
      "text/plain": [
       "<Figure size 720x576 with 0 Axes>"
      ]
     },
     "metadata": {},
     "output_type": "display_data"
    },
    {
     "data": {
      "text/plain": [
       "<Figure size 720x576 with 0 Axes>"
      ]
     },
     "metadata": {},
     "output_type": "display_data"
    },
    {
     "data": {
      "text/plain": [
       "<Figure size 720x576 with 0 Axes>"
      ]
     },
     "metadata": {},
     "output_type": "display_data"
    },
    {
     "data": {
      "text/plain": [
       "<Figure size 720x576 with 0 Axes>"
      ]
     },
     "metadata": {},
     "output_type": "display_data"
    },
    {
     "data": {
      "text/plain": [
       "<Figure size 720x576 with 0 Axes>"
      ]
     },
     "metadata": {},
     "output_type": "display_data"
    },
    {
     "data": {
      "text/plain": [
       "<Figure size 720x576 with 0 Axes>"
      ]
     },
     "metadata": {},
     "output_type": "display_data"
    },
    {
     "data": {
      "text/plain": [
       "<Figure size 720x576 with 0 Axes>"
      ]
     },
     "metadata": {},
     "output_type": "display_data"
    },
    {
     "data": {
      "text/plain": [
       "<Figure size 720x576 with 0 Axes>"
      ]
     },
     "metadata": {},
     "output_type": "display_data"
    },
    {
     "data": {
      "text/plain": [
       "<Figure size 720x576 with 0 Axes>"
      ]
     },
     "metadata": {},
     "output_type": "display_data"
    },
    {
     "data": {
      "text/plain": [
       "<Figure size 720x576 with 0 Axes>"
      ]
     },
     "metadata": {},
     "output_type": "display_data"
    }
   ],
   "source": [
    "def get_related_nodes(edges, target_label):\n",
    "    related_nodes = set()\n",
    "\n",
    "    for edge in edges:\n",
    "        if edge[3] == target_label:\n",
    "            related_nodes.add(edge[0])\n",
    "            related_nodes.add(edge[1])\n",
    "\n",
    "    return related_nodes\n",
    "\n",
    "def get_other_labels_edges(full_edges, related_nodes, target_label):\n",
    "    other_labels_edges = []\n",
    "    for edge in full_edges:\n",
    "        source, destination, relation, label = edge\n",
    "        if label != target_label and (source in related_nodes or destination in related_nodes):\n",
    "            other_labels_edges.append(edge)\n",
    "    return other_labels_edges\n",
    "\n",
    "\n",
    "def is_valid_target_label(target_label):\n",
    "    parts = target_label.split('_')\n",
    "    return len(parts) >= 2 and len(parts[0]) > 0 and len(parts[1]) > 0\n",
    "\n",
    "def draw_all_graphs(file_path):\n",
    "    full_edges = read_data(file_path) \n",
    "\n",
    "    unique_labels = set(edge[3] for edge in full_edges)\n",
    "\n",
    "    os.makedirs(\"./graph_test5/\", exist_ok=True)\n",
    "    \n",
    "    # every loop has it's own target label(unique)\n",
    "    for target_label in unique_labels:\n",
    "        if not is_valid_target_label(target_label):\n",
    "\n",
    "            # Here we meet a label: \"label\" WTF -> solve this in the future\n",
    "            print(f\"Invalid target_label: {target_label}\") \n",
    "            continue\n",
    "\n",
    "        target_edges = [edge for edge in full_edges if edge[3] == target_label]\n",
    "\n",
    "        # file_name = f\"./graph_test4/{target_label}\"\n",
    "        file_name = f\"./graph_test5/{target_label}\"\n",
    "        draw_graph(full_edges, target_edges, file_name, target_label, title=target_label)\n",
    "        print(f\"{file_name}.png has been generated!\")\n",
    "\n",
    "# file_path = \"./data/filtered_labeled_data_v2.txt\"\n",
    "file_path = \"./data/labeled_data_benign_AP.txt\"\n",
    "\n",
    "draw_all_graphs(file_path)\n",
    "print(\"DONE!!\")"
   ]
  },
  {
   "cell_type": "markdown",
   "metadata": {},
   "source": [
    "## Draw all the Graph"
   ]
  },
  {
   "cell_type": "code",
   "execution_count": null,
   "metadata": {},
   "outputs": [],
   "source": []
  }
 ],
 "metadata": {
  "kernelspec": {
   "display_name": "base",
   "language": "python",
   "name": "python3"
  },
  "language_info": {
   "codemirror_mode": {
    "name": "ipython",
    "version": 3
   },
   "file_extension": ".py",
   "mimetype": "text/x-python",
   "name": "python",
   "nbconvert_exporter": "python",
   "pygments_lexer": "ipython3",
   "version": "3.9.12"
  },
  "orig_nbformat": 4
 },
 "nbformat": 4,
 "nbformat_minor": 2
}
