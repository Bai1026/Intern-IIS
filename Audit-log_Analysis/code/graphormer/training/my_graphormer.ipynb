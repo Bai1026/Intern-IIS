{
 "cells": [
  {
   "cell_type": "markdown",
   "metadata": {},
   "source": [
    "# **Graph Classification with 🤗 Transformers**\n",
    "\n",
    "This notebook shows how to fine-tune the **Graphormer** model for Graph Classification on a dataset available on the hub. The idea is to add a randomly initialized classification head on top of a pre-trained encoder, and fine-tune the model altogether on a labeled dataset.\n",
    "\n",
    "Depending on the model and the GPU you are using, you might need to adjust the batch size to avoid out-of-memory(OOM) errors. \n",
    "\n",
    "In this notebook, we'll fine-tune from the https://huggingface.co/clefourrier/pcqm4mv2-graphormer-base checkpoint."
   ]
  },
  {
   "cell_type": "markdown",
   "metadata": {},
   "source": [
    "## Fine-tuning Graphormer on an graph classification task"
   ]
  },
  {
   "cell_type": "markdown",
   "metadata": {},
   "source": [
    "In this notebook, we will see how to fine-tune the Graphormer model on [🤗 Transformers](https://github.com/huggingface/transformers) on a Graph Classification dataset.\n",
    "\n",
    "Given a graph, the goal is to predict its class."
   ]
  },
  {
   "cell_type": "code",
   "execution_count": 5,
   "metadata": {},
   "outputs": [],
   "source": [
    "import os\n",
    "CUDA_VISIBLE_DEVICES = \"0,1,2\""
   ]
  },
  {
   "cell_type": "markdown",
   "metadata": {},
   "source": [
    "### Loading the dataset"
   ]
  },
  {
   "cell_type": "markdown",
   "metadata": {},
   "source": [
    "Loading a graph dataset from the Hub is very easy. Let's load the `VincentPai/encoded-MITRE` dataset, stored in the `VincentPai` repository. \n",
    "*To find other graph datasets, look for the \"Graph Machine Learning\" tag on the hub:  [here](https://huggingface.co/datasets?task_categories=task_categories:graph-ml&sort=downloads). You'll find social graphs, molecular datasets, some artificial ones, etc!*"
   ]
  },
  {
   "cell_type": "code",
   "execution_count": 6,
   "metadata": {},
   "outputs": [
    {
     "name": "stderr",
     "output_type": "stream",
     "text": [
      "Found cached dataset json (/workdir/home/euni/.cache/huggingface/datasets/VincentPai___json/VincentPai--encoded-MITRE-5bdfa67a52216983/0.0.0/8bb11242116d547c741b2e8a1f18598ffdd40a1d4f2a2872c7a28b697434bc96)\n"
     ]
    },
    {
     "data": {
      "application/vnd.jupyter.widget-view+json": {
       "model_id": "85662dc729a64a9ca82f9430075e9247",
       "version_major": 2,
       "version_minor": 0
      },
      "text/plain": [
       "  0%|          | 0/3 [00:00<?, ?it/s]"
      ]
     },
     "metadata": {},
     "output_type": "display_data"
    },
    {
     "name": "stderr",
     "output_type": "stream",
     "text": [
      "Loading cached shuffled indices for dataset at /workdir/home/euni/.cache/huggingface/datasets/VincentPai___json/VincentPai--encoded-MITRE-5bdfa67a52216983/0.0.0/8bb11242116d547c741b2e8a1f18598ffdd40a1d4f2a2872c7a28b697434bc96/cache-866ffe29a73f78c8.arrow\n",
      "Loading cached shuffled indices for dataset at /workdir/home/euni/.cache/huggingface/datasets/VincentPai___json/VincentPai--encoded-MITRE-5bdfa67a52216983/0.0.0/8bb11242116d547c741b2e8a1f18598ffdd40a1d4f2a2872c7a28b697434bc96/cache-ca9a9a2bbcdb7ed1.arrow\n",
      "Loading cached shuffled indices for dataset at /workdir/home/euni/.cache/huggingface/datasets/VincentPai___json/VincentPai--encoded-MITRE-5bdfa67a52216983/0.0.0/8bb11242116d547c741b2e8a1f18598ffdd40a1d4f2a2872c7a28b697434bc96/cache-0233e4faf4c367f7.arrow\n"
     ]
    }
   ],
   "source": [
    "from datasets import load_dataset \n",
    "\n",
    "# dataset = load_dataset(\"VincentPai/for-graphormer-new2\")\n",
    "dataset = load_dataset(\"VincentPai/encoded-MITRE\")\n",
    "\n",
    "# rename the label to y to fit the format of the input of the Graphormer\n",
    "# dataset['train'] = dataset['train'].rename_column('label', 'y')\n",
    "\n",
    "dataset = dataset.shuffle(seed = 87)"
   ]
  },
  {
   "cell_type": "markdown",
   "metadata": {},
   "source": [
    "Let us also load the Accuracy metric, which we'll use to evaluate our model both during and after training."
   ]
  },
  {
   "cell_type": "code",
   "execution_count": 7,
   "metadata": {},
   "outputs": [
    {
     "name": "stderr",
     "output_type": "stream",
     "text": [
      "/tmp/ipykernel_2647/3366162530.py:2: FutureWarning: load_metric is deprecated and will be removed in the next major version of datasets. Use 'evaluate.load' instead, from the new library 🤗 Evaluate: https://huggingface.co/docs/evaluate\n",
      "  metric = load_metric(\"accuracy\")\n"
     ]
    }
   ],
   "source": [
    "from datasets import load_metric\n",
    "metric = load_metric(\"accuracy\")"
   ]
  },
  {
   "cell_type": "markdown",
   "metadata": {},
   "source": [
    "The `dataset` object itself is a [`DatasetDict`](https://huggingface.co/docs/datasets/package_reference/main_classes.html#datasetdict), which contains one key per split (in this case, \"train\", \"validation\" and \"test\" splits)."
   ]
  },
  {
   "cell_type": "code",
   "execution_count": 8,
   "metadata": {},
   "outputs": [
    {
     "name": "stdout",
     "output_type": "stream",
     "text": [
      "DatasetDict({\n",
      "    train: Dataset({\n",
      "        features: ['y', 'num_nodes', 'node_feat', 'edge_attr', 'edge_index'],\n",
      "        num_rows: 2959563\n",
      "    })\n",
      "    validation: Dataset({\n",
      "        features: ['y', 'num_nodes', 'node_feat', 'edge_attr', 'edge_index'],\n",
      "        num_rows: 986521\n",
      "    })\n",
      "    test: Dataset({\n",
      "        features: ['y', 'num_nodes', 'node_feat', 'edge_attr', 'edge_index'],\n",
      "        num_rows: 986521\n",
      "    })\n",
      "})\n",
      "{'y': [0], 'num_nodes': 3, 'node_feat': [[368205], [6], [585037]], 'edge_attr': [[0], [0]], 'edge_index': [[0, 1], [1, 2]]}\n"
     ]
    }
   ],
   "source": [
    "# dataset\n",
    "print(dataset, dataset[\"train\"][0], sep = '\\n')\n",
    "# print(dataset[\"test\"][0])"
   ]
  },
  {
   "cell_type": "markdown",
   "metadata": {},
   "source": [
    "We can inspect the graph using networkx and pyplot."
   ]
  },
  {
   "cell_type": "code",
   "execution_count": 9,
   "metadata": {},
   "outputs": [
    {
     "name": "stdout",
     "output_type": "stream",
     "text": [
      "[[0, 1], [1, 2]]\n",
      "{'y': [0], 'num_nodes': 3, 'node_feat': [[368205], [6], [585037]], 'edge_attr': [[0], [0]], 'edge_index': [[0, 1], [1, 2]]}\n"
     ]
    },
    {
     "data": {
      "image/png": "[encoded data removed]",
      "text/plain": [
       "<Figure size 432x288 with 1 Axes>"
      ]
     },
     "metadata": {},
     "output_type": "display_data"
    }
   ],
   "source": [
    "import networkx as nx\n",
    "import matplotlib.pyplot as plt\n",
    "# We want to plot the first train graph\n",
    "graph = dataset[\"train\"][0] # would be a json here\n",
    "edges = graph[\"edge_index\"]\n",
    "\n",
    "print(graph[\"edge_index\"])\n",
    "print(graph)\n",
    "\n",
    "num_edges = len(edges[0])\n",
    "num_nodes = graph[\"num_nodes\"]\n",
    "\n",
    "G = nx.Graph()\n",
    "G = nx.DiGraph()\n",
    "G.add_nodes_from(range(num_nodes))\n",
    "G.add_edges_from([(edges[0][i], edges[1][i]) for i in range(num_edges)])\n",
    "\n",
    "# Plot\n",
    "nx.draw(G, with_labels=True)\n",
    "\n",
    "\n",
    "# print(graph[\"node_feat\"], type(graph[\"node_feat\"]))\n",
    "# graph[\"node_feat\"].append(0)\n",
    "# print(graph[\"node_feat\"])"
   ]
  },
  {
   "cell_type": "markdown",
   "metadata": {},
   "source": [
    "### Preprocessing the data"
   ]
  },
  {
   "cell_type": "markdown",
   "metadata": {},
   "source": [
    "Graph transformer frameworks usually apply specific preprocessing to their datasets to generate added features and properties which help the underlying learning task (classification in our case).\n",
    "\n",
    "Here, we use Graphormer's default preprocessing, which generates in/out degree information, the shortest path between node matrices, and other properties of interest for the model. "
   ]
  },
  {
   "cell_type": "code",
   "execution_count": 10,
   "metadata": {},
   "outputs": [
    {
     "name": "stderr",
     "output_type": "stream",
     "text": [
      "Loading cached processed dataset at /workdir/home/euni/.cache/huggingface/datasets/VincentPai___json/VincentPai--encoded-MITRE-5bdfa67a52216983/0.0.0/8bb11242116d547c741b2e8a1f18598ffdd40a1d4f2a2872c7a28b697434bc96/cache-647ec9f1adc9e746.arrow\n",
      "Loading cached processed dataset at /workdir/home/euni/.cache/huggingface/datasets/VincentPai___json/VincentPai--encoded-MITRE-5bdfa67a52216983/0.0.0/8bb11242116d547c741b2e8a1f18598ffdd40a1d4f2a2872c7a28b697434bc96/cache-dfd6f8ef02371a10.arrow\n",
      "Loading cached processed dataset at /workdir/home/euni/.cache/huggingface/datasets/VincentPai___json/VincentPai--encoded-MITRE-5bdfa67a52216983/0.0.0/8bb11242116d547c741b2e8a1f18598ffdd40a1d4f2a2872c7a28b697434bc96/cache-96b9d49c74e7a073.arrow\n"
     ]
    }
   ],
   "source": [
    "from transformers.models.graphormer.collating_graphormer import preprocess_item, GraphormerDataCollator\n",
    "dataset_processed = dataset.map(preprocess_item, batched=False)"
   ]
  },
  {
   "cell_type": "code",
   "execution_count": 11,
   "metadata": {},
   "outputs": [
    {
     "data": {
      "text/plain": [
       "DatasetDict({\n",
       "    train: Dataset({\n",
       "        features: ['y', 'num_nodes', 'node_feat', 'edge_attr', 'edge_index', 'input_nodes', 'attn_bias', 'attn_edge_type', 'spatial_pos', 'in_degree', 'out_degree', 'input_edges', 'labels'],\n",
       "        num_rows: 2959563\n",
       "    })\n",
       "    validation: Dataset({\n",
       "        features: ['y', 'num_nodes', 'node_feat', 'edge_attr', 'edge_index', 'input_nodes', 'attn_bias', 'attn_edge_type', 'spatial_pos', 'in_degree', 'out_degree', 'input_edges', 'labels'],\n",
       "        num_rows: 986521\n",
       "    })\n",
       "    test: Dataset({\n",
       "        features: ['y', 'num_nodes', 'node_feat', 'edge_attr', 'edge_index', 'input_nodes', 'attn_bias', 'attn_edge_type', 'spatial_pos', 'in_degree', 'out_degree', 'input_edges', 'labels'],\n",
       "        num_rows: 986521\n",
       "    })\n",
       "})"
      ]
     },
     "execution_count": 11,
     "metadata": {},
     "output_type": "execute_result"
    }
   ],
   "source": [
    "dataset_processed"
   ]
  },
  {
   "cell_type": "code",
   "execution_count": 12,
   "metadata": {},
   "outputs": [],
   "source": [
    "# split up training into training + validation\n",
    "\n",
    "train_ds = dataset_processed['train']\n",
    "val_ds = dataset_processed['validation']"
   ]
  },
  {
   "cell_type": "markdown",
   "metadata": {},
   "source": [
    "### Debugging Part for the data format"
   ]
  },
  {
   "cell_type": "code",
   "execution_count": 13,
   "metadata": {},
   "outputs": [
    {
     "name": "stdout",
     "output_type": "stream",
     "text": [
      "dict_keys(['y', 'num_nodes', 'node_feat', 'edge_attr', 'edge_index', 'input_nodes', 'attn_bias', 'attn_edge_type', 'spatial_pos', 'in_degree', 'out_degree', 'input_edges', 'labels'])\n",
      "3\n",
      "[[0.0, 0.0, 0.0, 0.0], [0.0, 0.0, 0.0, 0.0], [0.0, 0.0, 0.0, 0.0], [0.0, 0.0, 0.0, 0.0]]\n",
      "[[368205], [6], [585037]]\n",
      "[[368208], [9], [585040]]\n",
      "3\n",
      "input_nodes shape: (3, 1)\n",
      "attn_bias shape: (4, 4)\n",
      "\n"
     ]
    },
    {
     "data": {
      "text/plain": [
       "' \\nattn_bias = np.zeros([num_nodes + 1, num_nodes + 1], dtype=np.single)  # with graph token -> 4x4 in our case\\nitem[\"attn_bias\"] = attn_bias # in our case, it will be 4x4 tensor with element 0\\n\\nbatch[\"attn_bias\"] = torch.ze ros(batch_size, max_node_num + 1, max_node_num + 1, dtype=torch.float)\\nmax_node_num = max(len(i[\"input_nodes\"]) for i in features)\\n\\nerror : batch[\"attn_bias\"][ix, : f[\"attn_bias\"].shape[0], : f[\"attn_bias\"].shape[1]] = f[\"attn_bias\"] \\n'"
      ]
     },
     "execution_count": 13,
     "metadata": {},
     "output_type": "execute_result"
    }
   ],
   "source": [
    "import numpy as np\n",
    "\n",
    "print(train_ds[0].keys())\n",
    "\n",
    "# print(train_ds[0]['attn_bias'].shape)\n",
    "\n",
    "# attn_bias is 4x4\n",
    "print(train_ds[0]['num_nodes'])\n",
    "print(train_ds[0]['attn_bias'])\n",
    "print(train_ds[0]['node_feat'])\n",
    "print(train_ds[0]['input_nodes'], len(train_ds[0]['input_nodes']), sep='\\n')\n",
    "\n",
    "my_array = np.array(train_ds[0]['input_nodes'])\n",
    "print('input_nodes shape:', my_array.shape)\n",
    "\n",
    "my_array = np.array(train_ds[0]['attn_bias'])\n",
    "print('attn_bias shape:', my_array.shape, end='\\n\\n')\n",
    "\n",
    "''' \n",
    "attn_bias = np.zeros([num_nodes + 1, num_nodes + 1], dtype=np.single)  # with graph token -> 4x4 in our case\n",
    "item[\"attn_bias\"] = attn_bias # in our case, it will be 4x4 tensor with element 0\n",
    "\n",
    "batch[\"attn_bias\"] = torch.ze ros(batch_size, max_node_num + 1, max_node_num + 1, dtype=torch.float)\n",
    "max_node_num = max(len(i[\"input_nodes\"]) for i in features)\n",
    "\n",
    "error : batch[\"attn_bias\"][ix, : f[\"attn_bias\"].shape[0], : f[\"attn_bias\"].shape[1]] = f[\"attn_bias\"] \n",
    "'''\n"
   ]
  },
  {
   "cell_type": "code",
   "execution_count": 14,
   "metadata": {},
   "outputs": [
    {
     "name": "stdout",
     "output_type": "stream",
     "text": [
      "(1, 3)\n",
      "(3, 1)\n",
      "24\n",
      "[[445528]]\n"
     ]
    }
   ],
   "source": [
    "def convert_to_single_emb(x, offset: int = 512):\n",
    "    feature_num = x.shape[1] if len(x.shape) > 1 else 1\n",
    "    feature_offset = 1 + np.arange(0, feature_num * offset, offset, dtype=np.int64)\n",
    "    x = x + feature_offset\n",
    "    return x\n",
    "\n",
    "\n",
    "node_feat = [[445528, 24, 740662]]\n",
    "node_feature = np.asarray(node_feat, dtype=np.int64)\n",
    "input_nodes = convert_to_single_emb(node_feature) + 1\n",
    "print(input_nodes.shape)\n",
    "\n",
    "node_feat = [[445528], [24], [740662]]\n",
    "node_feature = np.asarray(node_feat, dtype=np.int64)\n",
    "input_nodes = convert_to_single_emb(node_feature) + 1\n",
    "print(input_nodes.shape)\n",
    "\n",
    "node_feat_2 = [[445528, 24, 740662]] \n",
    "print(node_feat_2[0][1])\n",
    "\n",
    "# 將node_feat轉換為3x1的二維陣列\n",
    "node_feat_2d_array = [[item[0]] for item in node_feat_2]\n",
    "\n",
    "print(node_feat_2d_array)"
   ]
  },
  {
   "cell_type": "markdown",
   "metadata": {},
   "source": [
    "### Training the model\n"
   ]
  },
  {
   "cell_type": "markdown",
   "metadata": {},
   "source": [
    "Calling the `from_pretrained` method on our model downloads and caches the weights for us. As the number of classes (for prediction) is dataset dependent, we pass the new `num_classes` as well as `ignore_mismatched_sizes` alongside the `model_checkpoint`. This makes sure a custom classification head is created, specific to our task, hence likely different from the original decoder head. \n",
    "\n",
    "(When using a pretrained model, you must make sure the embeddings of your data have the same shape as the ones used to pretrain your model.)"
   ]
  },
  {
   "cell_type": "code",
   "execution_count": 16,
   "metadata": {},
   "outputs": [
    {
     "name": "stderr",
     "output_type": "stream",
     "text": [
      "Some weights of GraphormerForGraphClassification were not initialized from the model checkpoint at clefourrier/graphormer-base-pcqm4mv2 and are newly initialized because the shapes did not match:\n",
      "- classifier.classifier.weight: found shape torch.Size([1, 768]) in the checkpoint and torch.Size([168, 768]) in the model instantiated\n",
      "You should probably TRAIN this model on a down-stream task to be able to use it for predictions and inference.\n"
     ]
    }
   ],
   "source": [
    "from transformers import GraphormerForGraphClassification\n",
    "\n",
    "model_checkpoint = \"clefourrier/graphormer-base-pcqm4mv2\" # pre-trained model from which to fine-tune\n",
    "\n",
    "model = GraphormerForGraphClassification.from_pretrained(\n",
    "    model_checkpoint, \n",
    "\n",
    "    # We have 167 attack patterns and 1 benign\n",
    "    num_classes=168, \n",
    "\n",
    "    ignore_mismatched_sizes = True, # provide this in case you're planning to fine-tune an already fine-tuned checkpoint\n",
    ")"
   ]
  },
  {
   "cell_type": "markdown",
   "metadata": {},
   "source": [
    "The warning is telling us we are throwing away some weights (the weights and bias of the `classifier` layer) and randomly initializing some other (the weights and bias of a new `classifier` layer). This is expected in this case, because we are adding a new head for which we don't have pretrained weights, so the library warns us we should fine-tune this model before using it for inference, which is exactly what we are going to do."
   ]
  },
  {
   "cell_type": "markdown",
   "metadata": {},
   "source": [
    "To instantiate a `Trainer`, we will need to define the training configuration and the evaluation metric. The most important is the [`TrainingArguments`](https://huggingface.co/transformers/main_classes/trainer.html#transformers.TrainingArguments), which is a class that contains all the attributes to customize the training. It requires one folder name, which will be used to save the checkpoints of the model.\n",
    "\n",
    "For graph datasets, it is particularly important to play around with batch sizes and gradient accumulation steps to train on enough samples while avoiding out-of-memory errors. "
   ]
  },
  {
   "cell_type": "code",
   "execution_count": 19,
   "metadata": {},
   "outputs": [],
   "source": [
    "from tqdm import tqdm\n",
    "from transformers import TrainingArguments, Trainer\n",
    "\n",
    "training_args = TrainingArguments(\n",
    "    \"graph-classification\",\n",
    "    logging_dir=\"graph-classification\",\n",
    "    \n",
    "    per_device_train_batch_size=2,\n",
    "    per_device_eval_batch_size=2,\n",
    "\n",
    "    auto_find_batch_size=False, # batch size can be changed automatically to prevent OOMs\n",
    "    gradient_accumulation_steps=10,\n",
    "    dataloader_num_workers=4, \n",
    "\n",
    "    num_train_epochs=5,\n",
    "\n",
    "    evaluation_strategy=\"epoch\",\n",
    "    logging_strategy=\"epoch\",\n",
    "    push_to_hub=False,\n",
    "\n",
    "    disable_tqdm=False,  # show the tqdm bar\n",
    ")"
   ]
  },
  {
   "cell_type": "markdown",
   "metadata": {},
   "source": [
    "To get the error message"
   ]
  },
  {
   "cell_type": "code",
   "execution_count": 20,
   "metadata": {},
   "outputs": [],
   "source": [
    "import os\n",
    "os.environ['CUDA_LAUNCH_BLOCKING'] = \"1\""
   ]
  },
  {
   "cell_type": "markdown",
   "metadata": {},
   "source": [
    "In the `Trainer` for graph classification, it is important to pass the specific data collator for the given graph dataset, which will convert individual graphs to batches for training. "
   ]
  },
  {
   "cell_type": "code",
   "execution_count": 22,
   "metadata": {},
   "outputs": [],
   "source": [
    "from transformers import TrainerCallback\n",
    "\n",
    "class PrintLossCallback(TrainerCallback):\n",
    "    def on_log(self, args, state, control, logs=None, **kwargs):\n",
    "        print(f\"Epoch: {state.epoch}, Step: {state.global_step}, Loss: {state.log_history[-1]['loss']}\")\n"
   ]
  },
  {
   "cell_type": "code",
   "execution_count": 23,
   "metadata": {},
   "outputs": [],
   "source": [
    "from sklearn.metrics import accuracy_score\n",
    "from transformers import EvalPrediction\n",
    "\n",
    "def compute_accuracy(p: EvalPrediction):\n",
    "    preds = p.predictions.argmax(-1)\n",
    "    return {\"accuracy\": accuracy_score(p.label_ids, preds)}"
   ]
  },
  {
   "cell_type": "code",
   "execution_count": 24,
   "metadata": {},
   "outputs": [],
   "source": [
    "trainer = Trainer(\n",
    "    model=model,\n",
    "    args=training_args,\n",
    "    train_dataset=train_ds,\n",
    "    eval_dataset=val_ds,\n",
    "\n",
    "    # data collator is important in our task\n",
    "    data_collator=GraphormerDataCollator(),\n",
    "    callbacks=[PrintLossCallback()],\n",
    "    compute_metrics=compute_accuracy,\n",
    ")"
   ]
  },
  {
   "cell_type": "markdown",
   "metadata": {},
   "source": [
    "We can now train our model!"
   ]
  },
  {
   "cell_type": "code",
   "execution_count": 25,
   "metadata": {},
   "outputs": [
    {
     "name": "stderr",
     "output_type": "stream",
     "text": [
      "/workdir/home/euni/anaconda3/lib/python3.9/site-packages/transformers/optimization.py:411: FutureWarning: This implementation of AdamW is deprecated and will be removed in a future version. Use the PyTorch implementation torch.optim.AdamW instead, or set `no_deprecation_warning=True` to disable this warning\n",
      "  warnings.warn(\n"
     ]
    }
   ],
   "source": [
    "train_results = trainer.train()\n",
    "\n",
    "# rest is optional but nice to have\n",
    "trainer.save_model()\n",
    "trainer.log_metrics(\"train\", train_results.metrics)\n",
    "trainer.save_metrics(\"train\", train_results.metrics)\n",
    "trainer.save_state()"
   ]
  },
  {
   "cell_type": "markdown",
   "metadata": {},
   "source": [
    "You can now upload the result of the training to the Hub with the following:\n",
    "- Need to login first(add some code in the front of the script)"
   ]
  },
  {
   "cell_type": "code",
   "execution_count": null,
   "metadata": {},
   "outputs": [],
   "source": [
    "trainer.push_to_hub()"
   ]
  }
 ],
 "metadata": {
  "kernelspec": {
   "display_name": "base",
   "language": "python",
   "name": "python3"
  },
  "language_info": {
   "codemirror_mode": {
    "name": "ipython",
    "version": 3
   },
   "file_extension": ".py",
   "mimetype": "text/x-python",
   "name": "python",
   "nbconvert_exporter": "python",
   "pygments_lexer": "ipython3",
   "version": "3.9.12"
  },
  "orig_nbformat": 4
 },
 "nbformat": 4,
 "nbformat_minor": 2
}
