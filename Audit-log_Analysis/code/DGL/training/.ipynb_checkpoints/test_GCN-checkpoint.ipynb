{
 "cells": [
  {
   "cell_type": "markdown",
   "metadata": {},
   "source": [
    "# Test of GCN\n",
    "- use DGL"
   ]
  },
  {
   "cell_type": "code",
   "execution_count": 13,
   "metadata": {},
   "outputs": [],
   "source": [
    "import dgl\n",
    "import json\n",
    "import torch\n",
    "import torch as th\n",
    "from tqdm import tqdm\n",
    "import torch.nn as nn\n",
    "from dgl.nn import GraphConv, GATConv\n",
    "import torch.nn.functional as F\n",
    "from torch.utils.data import Dataset, DataLoader\n",
    "from transformers import get_linear_schedule_with_warmup"
   ]
  },
  {
   "cell_type": "markdown",
   "metadata": {},
   "source": [
    "- check the GPU and assign the GPU"
   ]
  },
  {
   "cell_type": "code",
   "execution_count": 16,
   "metadata": {},
   "outputs": [
    {
     "name": "stdout",
     "output_type": "stream",
     "text": [
      "cuda:2\n"
     ]
    }
   ],
   "source": [
    "import subprocess\n",
    "import torch\n",
    "\n",
    "def get_free_gpu():\n",
    "    try:\n",
    "        # Run nvidia-smi command to get GPU details\n",
    "        _output_to_list = lambda x: x.decode('ascii').split('\\n')[:-1]\n",
    "        command = \"nvidia-smi --query-gpu=memory.free --format=csv,nounits,noheader\"\n",
    "        memory_free_info = _output_to_list(subprocess.check_output(command.split())) \n",
    "        memory_free_values = [int(x) for i, x in enumerate(memory_free_info)]\n",
    "        \n",
    "        # Get the GPU with the maximum free memory\n",
    "        best_gpu_id = memory_free_values.index(max(memory_free_values))\n",
    "        return best_gpu_id\n",
    "    except:\n",
    "        # If any exception occurs, default to GPU 0 (this handles cases where nvidia-smi isn't installed)\n",
    "        return 0\n",
    "\n",
    "if torch.cuda.is_available():\n",
    "    # Get the best GPU ID based on free memory and set it\n",
    "    best_gpu_id = get_free_gpu()\n",
    "    device = torch.device(f\"cuda:{best_gpu_id}\")\n",
    "else:\n",
    "    device = torch.device(\"cpu\")\n",
    "\n",
    "print(device)\n"
   ]
  },
  {
   "cell_type": "markdown",
   "metadata": {},
   "source": [
    "## Data Loader"
   ]
  },
  {
   "cell_type": "code",
   "execution_count": 5,
   "metadata": {},
   "outputs": [],
   "source": [
    "class GraphDataset(Dataset):\n",
    "    def __init__(self, data_list, device):\n",
    "        self.data_list = data_list\n",
    "        self.device = device\n",
    "\n",
    "    def __len__(self):\n",
    "        return len(self.data_list)\n",
    "\n",
    "    def __getitem__(self, idx):\n",
    "        data = self.data_list[idx]\n",
    "        g = dgl.graph((th.tensor(data[\"edge_index\"][0]), th.tensor(data[\"edge_index\"][1])), num_nodes=data[\"num_nodes\"]).to(self.device)\n",
    "        g = dgl.add_self_loop(g) # this would cause the num_edges = 2+3 in each sub_graph\n",
    "        g.ndata['feat'] = th.tensor(data[\"node_feat\"]).to(self.device)\n",
    "        return g, th.tensor(data[\"y\"]).to(self.device)\n",
    "\n",
    "\n",
    "def collate(samples):\n",
    "    # The input `samples` is a list of pairs\n",
    "    #  (graph, label).\n",
    "    graphs, labels = map(list, zip(*samples))\n",
    "    batched_graph = dgl.batch(graphs)\n",
    "    return batched_graph, torch.tensor(labels)"
   ]
  },
  {
   "cell_type": "code",
   "execution_count": 17,
   "metadata": {},
   "outputs": [
    {
     "name": "stderr",
     "output_type": "stream",
     "text": [
      "\r",
      "  0%|          | 0/3 [00:00<?, ?it/s]"
     ]
    },
    {
     "name": "stdout",
     "output_type": "stream",
     "text": [
      "../data/final_small_version/remaining_train.jsonl\n"
     ]
    },
    {
     "name": "stderr",
     "output_type": "stream",
     "text": [
      "\r",
      " 33%|███▎      | 1/3 [00:00<00:01,  1.83it/s]"
     ]
    },
    {
     "name": "stdout",
     "output_type": "stream",
     "text": [
      "../data/final_small_version/remaining_valid.jsonl\n"
     ]
    },
    {
     "name": "stderr",
     "output_type": "stream",
     "text": [
      "100%|██████████| 3/3 [00:00<00:00,  3.25it/s]"
     ]
    },
    {
     "name": "stdout",
     "output_type": "stream",
     "text": [
      "../data/final_small_version/remaining_test.jsonl\n",
      "Done!\n"
     ]
    },
    {
     "name": "stderr",
     "output_type": "stream",
     "text": [
      "\n"
     ]
    }
   ],
   "source": [
    "datasets = ['train', 'valid', 'test']\n",
    "dataloaders = {}\n",
    "\n",
    "for dataset_name in tqdm(datasets):\n",
    "#     file_path = f\"../data/final_small_version/remaining_{dataset_name}.jsonl\"\n",
    "#     file_path = f\"../data/training_data/repeated_{dataset_name}.jsonl\"\n",
    "    file_path = f\"../data/test/repeated_{dataset_name}.jsonl\"\n",
    "    print(file_path)\n",
    "    \n",
    "    with open(file_path) as f:\n",
    "        data_list = [json.loads(line) for line in f]\n",
    "    \n",
    "    dataset = GraphDataset(data_list, device)\n",
    "    dataloaders[dataset_name] = DataLoader(dataset, batch_size=32, shuffle=False, collate_fn=collate)\n",
    "    \n",
    "print(\"Done!\")"
   ]
  },
  {
   "cell_type": "markdown",
   "metadata": {},
   "source": [
    "### Model"
   ]
  },
  {
   "cell_type": "code",
   "execution_count": 18,
   "metadata": {},
   "outputs": [],
   "source": [
    "class GCN(nn.Module):\n",
    "    def __init__(self, in_feats, hidden_size, num_classes):\n",
    "        super(GCN, self).__init__()\n",
    "        self.conv1 = GraphConv(in_feats, hidden_size)\n",
    "        self.conv2 = GraphConv(hidden_size, hidden_size*4)\n",
    "        self.conv3 = GraphConv(hidden_size*4, num_classes)\n",
    "\n",
    "    def forward(self, g, inputs):\n",
    "        h = self.conv1(g, inputs)\n",
    "        h = torch.relu(h)\n",
    "        h = self.conv2(g, h)\n",
    "        h = torch.relu(h)\n",
    "        h = self.conv3(g, h)\n",
    "        \n",
    "        g.ndata['h'] = h\n",
    "        hg = dgl.mean_nodes(g, 'h')\n",
    "        return hg\n",
    "    \n",
    "# class GCN(nn.Module):\n",
    "#     def __init__(self, in_feats, hidden_size, num_classes):\n",
    "#         super(GCN, self).__init__()\n",
    "#         self.conv1 = GraphConv(in_feats, hidden_size)\n",
    "#         self.conv2 = GraphConv(hidden_size, num_classes)\n",
    "\n",
    "#     def forward(self, g, inputs):\n",
    "#         h = self.conv1(g, inputs)\n",
    "#         h = torch.relu(h)\n",
    "#         h = self.conv2(g, h)\n",
    "        \n",
    "#         g.ndata['h'] = h\n",
    "#         hg = dgl.mean_nodes(g, 'h')\n",
    "#         return hg"
   ]
  },
  {
   "cell_type": "markdown",
   "metadata": {},
   "source": [
    "- Model Forward"
   ]
  },
  {
   "cell_type": "code",
   "execution_count": 19,
   "metadata": {},
   "outputs": [
    {
     "data": {
      "text/plain": [
       "\"\\nbatched_g is like: \\nGraph(num_nodes=96, num_edges=160, ndata_schemes={'feat': Scheme(shape=(1,), dtype=torch.int64)}, edata_schemes={})\\nnum_nodes = 3*batch_size, num_edges = 5*batch_size\\n\\nlabels is like: tensor([ 76,   0,   0,   0,   0,   0,   0,   0,   0,  76,   0,  76,   0,   0,\\n                          0,   0,  76,   0,  30,  92,   0,   0,  76,   0,   0,   0,   0,   0,\\n                        116,   0,  76,  76])\\n\""
      ]
     },
     "execution_count": 19,
     "metadata": {},
     "output_type": "execute_result"
    }
   ],
   "source": [
    "def model_fn(data, model, criterion, device):\n",
    "    \"\"\"Forward a batch through the model.\"\"\"\n",
    "    batched_g, labels = data\n",
    "    batched_g = batched_g.to(device)\n",
    "    labels = labels.to(device)\n",
    "    logits = model(batched_g, batched_g.ndata['feat']) # for GCN\n",
    "#     logits = model(batched_g, batched_g.ndata['feat'].float()) # for GAT\n",
    "\n",
    "    loss = criterion(logits, labels)\n",
    "\n",
    "    # Get the class id with the highest probability.\n",
    "    preds = logits.argmax(1)\n",
    "    # Compute accuracy.\n",
    "    accuracy = torch.mean((preds == labels).float())\n",
    "\n",
    "    return loss, accuracy\n",
    "\n",
    "'''\n",
    "batched_g is like: \n",
    "Graph(num_nodes=96, num_edges=160, ndata_schemes={'feat': Scheme(shape=(1,), dtype=torch.int64)}, edata_schemes={})\n",
    "num_nodes = 3*batch_size, num_edges = 5*batch_size\n",
    "\n",
    "labels is like: tensor([ 76,   0,   0,   0,   0,   0,   0,   0,   0,  76,   0,  76,   0,   0,\n",
    "                          0,   0,  76,   0,  30,  92,   0,   0,  76,   0,   0,   0,   0,   0,\n",
    "                        116,   0,  76,  76])\n",
    "'''"
   ]
  },
  {
   "cell_type": "markdown",
   "metadata": {},
   "source": [
    "### Training"
   ]
  },
  {
   "cell_type": "code",
   "execution_count": 20,
   "metadata": {
    "scrolled": true
   },
   "outputs": [
    {
     "name": "stdout",
     "output_type": "stream",
     "text": [
      "Using: cuda:2 now\n"
     ]
    },
    {
     "name": "stderr",
     "output_type": "stream",
     "text": [
      "\r",
      "  0%|          | 0/400 [00:00<?, ?it/s]"
     ]
    },
    {
     "name": "stdout",
     "output_type": "stream",
     "text": [
      "Epoch 0 | Train Loss: 1762.2497 | Train Accuracy: 0.4942\n"
     ]
    },
    {
     "name": "stderr",
     "output_type": "stream",
     "text": [
      "\r",
      "  0%|          | 1/400 [00:56<6:18:21, 56.90s/it]"
     ]
    },
    {
     "name": "stdout",
     "output_type": "stream",
     "text": [
      "Validation Loss: 450.2558 | Validation Accuracy: 0.0203\n",
      "Epoch 1 | Train Loss: 472.8249 | Train Accuracy: 0.4911\n"
     ]
    },
    {
     "name": "stderr",
     "output_type": "stream",
     "text": [
      "\r",
      "  0%|          | 2/400 [01:56<6:29:50, 58.77s/it]"
     ]
    },
    {
     "name": "stdout",
     "output_type": "stream",
     "text": [
      "Validation Loss: 379.2609 | Validation Accuracy: 0.6642\n",
      "Epoch 2 | Train Loss: 375.2479 | Train Accuracy: 0.4899\n"
     ]
    },
    {
     "name": "stderr",
     "output_type": "stream",
     "text": [
      "\r",
      "  1%|          | 3/400 [02:57<6:34:52, 59.68s/it]"
     ]
    },
    {
     "name": "stdout",
     "output_type": "stream",
     "text": [
      "Validation Loss: 310.1361 | Validation Accuracy: 0.6642\n",
      "Epoch 3 | Train Loss: 316.4273 | Train Accuracy: 0.4883\n"
     ]
    },
    {
     "name": "stderr",
     "output_type": "stream",
     "text": [
      "\r",
      "  1%|          | 4/400 [03:57<6:35:14, 59.88s/it]"
     ]
    },
    {
     "name": "stdout",
     "output_type": "stream",
     "text": [
      "Validation Loss: 454.2131 | Validation Accuracy: 0.6642\n",
      "Epoch 4 | Train Loss: 288.2821 | Train Accuracy: 0.4904\n"
     ]
    },
    {
     "name": "stderr",
     "output_type": "stream",
     "text": [
      "\r",
      "  1%|▏         | 5/400 [04:58<6:35:25, 60.06s/it]"
     ]
    },
    {
     "name": "stdout",
     "output_type": "stream",
     "text": [
      "Validation Loss: 291.8018 | Validation Accuracy: 0.6642\n",
      "Epoch 5 | Train Loss: 227.2895 | Train Accuracy: 0.4928\n"
     ]
    },
    {
     "name": "stderr",
     "output_type": "stream",
     "text": [
      "\r",
      "  2%|▏         | 6/400 [05:57<6:32:04, 59.71s/it]"
     ]
    },
    {
     "name": "stdout",
     "output_type": "stream",
     "text": [
      "Validation Loss: 236.5204 | Validation Accuracy: 0.6642\n",
      "Epoch 6 | Train Loss: 197.2985 | Train Accuracy: 0.4914\n"
     ]
    },
    {
     "name": "stderr",
     "output_type": "stream",
     "text": [
      "\r",
      "  2%|▏         | 7/400 [06:57<6:32:36, 59.94s/it]"
     ]
    },
    {
     "name": "stdout",
     "output_type": "stream",
     "text": [
      "Validation Loss: 161.1641 | Validation Accuracy: 0.6642\n",
      "Epoch 7 | Train Loss: 193.0089 | Train Accuracy: 0.4945\n"
     ]
    },
    {
     "name": "stderr",
     "output_type": "stream",
     "text": [
      "\r",
      "  2%|▏         | 8/400 [07:56<6:29:25, 59.61s/it]"
     ]
    },
    {
     "name": "stdout",
     "output_type": "stream",
     "text": [
      "Validation Loss: 145.1741 | Validation Accuracy: 0.2770\n",
      "Epoch 8 | Train Loss: 163.3458 | Train Accuracy: 0.4892\n"
     ]
    },
    {
     "name": "stderr",
     "output_type": "stream",
     "text": [
      "\r",
      "  2%|▏         | 9/400 [08:55<6:26:25, 59.30s/it]"
     ]
    },
    {
     "name": "stdout",
     "output_type": "stream",
     "text": [
      "Validation Loss: 170.9074 | Validation Accuracy: 0.6642\n",
      "Epoch 9 | Train Loss: 144.1715 | Train Accuracy: 0.4881\n"
     ]
    },
    {
     "name": "stderr",
     "output_type": "stream",
     "text": [
      "\r",
      "  2%|▎         | 10/400 [09:53<6:23:26, 58.99s/it]"
     ]
    },
    {
     "name": "stdout",
     "output_type": "stream",
     "text": [
      "Validation Loss: 143.3423 | Validation Accuracy: 0.6642\n",
      "Epoch 10 | Train Loss: 125.8493 | Train Accuracy: 0.4938\n"
     ]
    },
    {
     "name": "stderr",
     "output_type": "stream",
     "text": [
      "\r",
      "  3%|▎         | 11/400 [10:53<6:25:10, 59.41s/it]"
     ]
    },
    {
     "name": "stdout",
     "output_type": "stream",
     "text": [
      "Validation Loss: 186.5803 | Validation Accuracy: 0.6642\n",
      "Epoch 11 | Train Loss: 112.5888 | Train Accuracy: 0.4945\n"
     ]
    },
    {
     "name": "stderr",
     "output_type": "stream",
     "text": [
      "\r",
      "  3%|▎         | 12/400 [11:53<6:25:00, 59.54s/it]"
     ]
    },
    {
     "name": "stdout",
     "output_type": "stream",
     "text": [
      "Validation Loss: 140.1985 | Validation Accuracy: 0.2769\n",
      "Epoch 12 | Train Loss: 98.1961 | Train Accuracy: 0.4962\n"
     ]
    },
    {
     "name": "stderr",
     "output_type": "stream",
     "text": [
      "\r",
      "  3%|▎         | 13/400 [12:52<6:23:13, 59.41s/it]"
     ]
    },
    {
     "name": "stdout",
     "output_type": "stream",
     "text": [
      "Validation Loss: 107.3567 | Validation Accuracy: 0.6642\n",
      "Epoch 13 | Train Loss: 89.3836 | Train Accuracy: 0.4961\n"
     ]
    },
    {
     "name": "stderr",
     "output_type": "stream",
     "text": [
      "\r",
      "  4%|▎         | 14/400 [13:53<6:23:39, 59.63s/it]"
     ]
    },
    {
     "name": "stdout",
     "output_type": "stream",
     "text": [
      "Validation Loss: 97.5504 | Validation Accuracy: 0.6642\n",
      "Epoch 14 | Train Loss: 74.5768 | Train Accuracy: 0.4979\n"
     ]
    },
    {
     "name": "stderr",
     "output_type": "stream",
     "text": [
      "\r",
      "  4%|▍         | 15/400 [14:52<6:22:38, 59.63s/it]"
     ]
    },
    {
     "name": "stdout",
     "output_type": "stream",
     "text": [
      "Validation Loss: 64.6815 | Validation Accuracy: 0.2777\n",
      "Epoch 15 | Train Loss: 61.3053 | Train Accuracy: 0.5021\n"
     ]
    },
    {
     "name": "stderr",
     "output_type": "stream",
     "text": [
      "\r",
      "  4%|▍         | 16/400 [15:53<6:23:50, 59.97s/it]"
     ]
    },
    {
     "name": "stdout",
     "output_type": "stream",
     "text": [
      "Validation Loss: 41.0657 | Validation Accuracy: 0.6642\n",
      "Epoch 16 | Train Loss: 46.5072 | Train Accuracy: 0.4962\n"
     ]
    },
    {
     "name": "stderr",
     "output_type": "stream",
     "text": [
      "\r",
      "  4%|▍         | 17/400 [16:53<6:22:35, 59.94s/it]"
     ]
    },
    {
     "name": "stdout",
     "output_type": "stream",
     "text": [
      "Validation Loss: 64.2860 | Validation Accuracy: 0.0116\n",
      "Epoch 17 | Train Loss: 37.1631 | Train Accuracy: 0.5059\n"
     ]
    },
    {
     "name": "stderr",
     "output_type": "stream",
     "text": [
      "\r",
      "  4%|▍         | 18/400 [17:53<6:21:57, 59.99s/it]"
     ]
    },
    {
     "name": "stdout",
     "output_type": "stream",
     "text": [
      "Validation Loss: 22.7576 | Validation Accuracy: 0.6642\n",
      "Epoch 18 | Train Loss: 29.1875 | Train Accuracy: 0.5059\n"
     ]
    },
    {
     "name": "stderr",
     "output_type": "stream",
     "text": [
      "\r",
      "  5%|▍         | 19/400 [18:54<6:23:28, 60.39s/it]"
     ]
    },
    {
     "name": "stdout",
     "output_type": "stream",
     "text": [
      "Validation Loss: 38.9837 | Validation Accuracy: 0.6642\n",
      "Epoch 19 | Train Loss: 24.3933 | Train Accuracy: 0.5069\n"
     ]
    },
    {
     "name": "stderr",
     "output_type": "stream",
     "text": [
      "\r",
      "  5%|▌         | 20/400 [19:53<6:19:12, 59.87s/it]"
     ]
    },
    {
     "name": "stdout",
     "output_type": "stream",
     "text": [
      "Validation Loss: 17.8095 | Validation Accuracy: 0.3393\n",
      "Epoch 20 | Train Loss: 18.6226 | Train Accuracy: 0.5124\n"
     ]
    },
    {
     "name": "stderr",
     "output_type": "stream",
     "text": [
      "\r",
      "  5%|▌         | 21/400 [20:52<6:17:04, 59.69s/it]"
     ]
    },
    {
     "name": "stdout",
     "output_type": "stream",
     "text": [
      "Validation Loss: 17.5678 | Validation Accuracy: 0.0040\n",
      "Epoch 21 | Train Loss: 15.5200 | Train Accuracy: 0.5124\n"
     ]
    },
    {
     "name": "stderr",
     "output_type": "stream",
     "text": [
      "\r",
      "  6%|▌         | 22/400 [21:52<6:15:49, 59.66s/it]"
     ]
    },
    {
     "name": "stdout",
     "output_type": "stream",
     "text": [
      "Validation Loss: 7.4699 | Validation Accuracy: 0.5052\n",
      "Epoch 22 | Train Loss: 13.5081 | Train Accuracy: 0.5171\n"
     ]
    },
    {
     "name": "stderr",
     "output_type": "stream",
     "text": [
      "\r",
      "  6%|▌         | 23/400 [22:50<6:13:05, 59.38s/it]"
     ]
    },
    {
     "name": "stdout",
     "output_type": "stream",
     "text": [
      "Validation Loss: 9.2653 | Validation Accuracy: 0.3367\n",
      "Epoch 23 | Train Loss: 6.5768 | Train Accuracy: 0.5558\n"
     ]
    },
    {
     "name": "stderr",
     "output_type": "stream",
     "text": [
      "\r",
      "  6%|▌         | 24/400 [23:51<6:13:22, 59.58s/it]"
     ]
    },
    {
     "name": "stdout",
     "output_type": "stream",
     "text": [
      "Validation Loss: 3.6949 | Validation Accuracy: 0.6642\n",
      "Epoch 24 | Train Loss: 3.4302 | Train Accuracy: 0.5892\n"
     ]
    },
    {
     "name": "stderr",
     "output_type": "stream",
     "text": [
      "\r",
      "  6%|▋         | 25/400 [24:51<6:14:14, 59.88s/it]"
     ]
    },
    {
     "name": "stdout",
     "output_type": "stream",
     "text": [
      "Validation Loss: 1.5668 | Validation Accuracy: 0.6642\n",
      "Epoch 25 | Train Loss: 3.3858 | Train Accuracy: 0.5998\n"
     ]
    },
    {
     "name": "stderr",
     "output_type": "stream",
     "text": [
      "\r",
      "  6%|▋         | 26/400 [25:51<6:13:02, 59.85s/it]"
     ]
    },
    {
     "name": "stdout",
     "output_type": "stream",
     "text": [
      "Validation Loss: 3.5416 | Validation Accuracy: 0.6642\n",
      "Epoch 26 | Train Loss: 3.7315 | Train Accuracy: 0.6055\n"
     ]
    },
    {
     "name": "stderr",
     "output_type": "stream",
     "text": [
      "\r",
      "  7%|▋         | 27/400 [26:51<6:12:48, 59.97s/it]"
     ]
    },
    {
     "name": "stdout",
     "output_type": "stream",
     "text": [
      "Validation Loss: 1.8650 | Validation Accuracy: 0.6642\n",
      "Epoch 27 | Train Loss: 2.2925 | Train Accuracy: 0.6315\n"
     ]
    },
    {
     "name": "stderr",
     "output_type": "stream",
     "text": [
      "\r",
      "  7%|▋         | 28/400 [27:51<6:11:31, 59.92s/it]"
     ]
    },
    {
     "name": "stdout",
     "output_type": "stream",
     "text": [
      "Validation Loss: 7.1513 | Validation Accuracy: 0.0462\n",
      "Epoch 28 | Train Loss: 3.2200 | Train Accuracy: 0.6204\n"
     ]
    },
    {
     "name": "stderr",
     "output_type": "stream",
     "text": [
      "\r",
      "  7%|▋         | 29/400 [28:52<6:12:29, 60.24s/it]"
     ]
    },
    {
     "name": "stdout",
     "output_type": "stream",
     "text": [
      "Validation Loss: 1.7684 | Validation Accuracy: 0.6563\n",
      "Epoch 29 | Train Loss: 3.1137 | Train Accuracy: 0.6247\n"
     ]
    },
    {
     "name": "stderr",
     "output_type": "stream",
     "text": [
      "\r",
      "  8%|▊         | 30/400 [29:52<6:10:56, 60.15s/it]"
     ]
    },
    {
     "name": "stdout",
     "output_type": "stream",
     "text": [
      "Validation Loss: 6.9693 | Validation Accuracy: 0.6415\n",
      "Epoch 30 | Train Loss: 2.2003 | Train Accuracy: 0.6336\n"
     ]
    },
    {
     "name": "stderr",
     "output_type": "stream",
     "text": [
      "\r",
      "  8%|▊         | 31/400 [30:52<6:10:32, 60.25s/it]"
     ]
    },
    {
     "name": "stdout",
     "output_type": "stream",
     "text": [
      "Validation Loss: 1.2505 | Validation Accuracy: 0.6510\n",
      "Epoch 31 | Train Loss: 1.6372 | Train Accuracy: 0.6356\n"
     ]
    },
    {
     "name": "stderr",
     "output_type": "stream",
     "text": [
      "\r",
      "  8%|▊         | 32/400 [31:53<6:09:40, 60.27s/it]"
     ]
    },
    {
     "name": "stdout",
     "output_type": "stream",
     "text": [
      "Validation Loss: 1.6937 | Validation Accuracy: 0.6642\n",
      "Epoch 32 | Train Loss: 1.2774 | Train Accuracy: 0.6432\n"
     ]
    },
    {
     "name": "stderr",
     "output_type": "stream",
     "text": [
      "\r",
      "  8%|▊         | 33/400 [32:52<6:07:32, 60.09s/it]"
     ]
    },
    {
     "name": "stdout",
     "output_type": "stream",
     "text": [
      "Validation Loss: 1.6181 | Validation Accuracy: 0.6642\n",
      "Epoch 33 | Train Loss: 1.1512 | Train Accuracy: 0.6507\n"
     ]
    },
    {
     "name": "stderr",
     "output_type": "stream",
     "text": [
      "\r",
      "  8%|▊         | 34/400 [33:53<6:08:25, 60.40s/it]"
     ]
    },
    {
     "name": "stdout",
     "output_type": "stream",
     "text": [
      "Validation Loss: 1.4627 | Validation Accuracy: 0.6642\n",
      "Epoch 34 | Train Loss: 1.1288 | Train Accuracy: 0.6529\n"
     ]
    },
    {
     "name": "stderr",
     "output_type": "stream",
     "text": [
      "\r",
      "  9%|▉         | 35/400 [34:54<6:08:02, 60.50s/it]"
     ]
    },
    {
     "name": "stdout",
     "output_type": "stream",
     "text": [
      "Validation Loss: 1.3623 | Validation Accuracy: 0.6642\n",
      "Epoch 35 | Train Loss: 1.0975 | Train Accuracy: 0.6515\n"
     ]
    },
    {
     "name": "stderr",
     "output_type": "stream",
     "text": [
      "\r",
      "  9%|▉         | 36/400 [35:55<6:07:02, 60.50s/it]"
     ]
    },
    {
     "name": "stdout",
     "output_type": "stream",
     "text": [
      "Validation Loss: 1.2747 | Validation Accuracy: 0.6642\n",
      "Epoch 36 | Train Loss: 1.0746 | Train Accuracy: 0.6496\n"
     ]
    },
    {
     "name": "stderr",
     "output_type": "stream",
     "text": [
      "\r",
      "  9%|▉         | 37/400 [36:57<6:09:50, 61.13s/it]"
     ]
    },
    {
     "name": "stdout",
     "output_type": "stream",
     "text": [
      "Validation Loss: 1.2687 | Validation Accuracy: 0.6642\n",
      "Epoch 37 | Train Loss: 1.0567 | Train Accuracy: 0.6491\n"
     ]
    },
    {
     "name": "stderr",
     "output_type": "stream",
     "text": [
      "\r",
      " 10%|▉         | 38/400 [37:56<6:05:15, 60.54s/it]"
     ]
    },
    {
     "name": "stdout",
     "output_type": "stream",
     "text": [
      "Validation Loss: 1.2723 | Validation Accuracy: 0.6642\n",
      "Epoch 38 | Train Loss: 1.0439 | Train Accuracy: 0.6472\n"
     ]
    },
    {
     "name": "stderr",
     "output_type": "stream",
     "text": [
      "\r",
      " 10%|▉         | 39/400 [38:56<6:01:52, 60.15s/it]"
     ]
    },
    {
     "name": "stdout",
     "output_type": "stream",
     "text": [
      "Validation Loss: 1.2816 | Validation Accuracy: 0.6642\n",
      "Epoch 39 | Train Loss: 1.0288 | Train Accuracy: 0.6486\n"
     ]
    },
    {
     "name": "stderr",
     "output_type": "stream",
     "text": [
      "\r",
      " 10%|█         | 40/400 [39:57<6:02:32, 60.42s/it]"
     ]
    },
    {
     "name": "stdout",
     "output_type": "stream",
     "text": [
      "Validation Loss: 1.3029 | Validation Accuracy: 0.6642\n",
      "Epoch 40 | Train Loss: 1.0194 | Train Accuracy: 0.6478\n"
     ]
    },
    {
     "name": "stderr",
     "output_type": "stream",
     "text": [
      "\r",
      " 10%|█         | 41/400 [40:57<6:01:15, 60.38s/it]"
     ]
    },
    {
     "name": "stdout",
     "output_type": "stream",
     "text": [
      "Validation Loss: 1.3097 | Validation Accuracy: 0.6642\n",
      "Epoch 41 | Train Loss: 1.0093 | Train Accuracy: 0.6505\n"
     ]
    },
    {
     "name": "stderr",
     "output_type": "stream",
     "text": [
      "\r",
      " 10%|█         | 42/400 [42:00<6:04:09, 61.03s/it]"
     ]
    },
    {
     "name": "stdout",
     "output_type": "stream",
     "text": [
      "Validation Loss: 1.3154 | Validation Accuracy: 0.6642\n",
      "Epoch 42 | Train Loss: 0.9986 | Train Accuracy: 0.6499\n"
     ]
    },
    {
     "name": "stderr",
     "output_type": "stream",
     "text": [
      "\r",
      " 11%|█         | 43/400 [43:00<6:02:49, 60.98s/it]"
     ]
    },
    {
     "name": "stdout",
     "output_type": "stream",
     "text": [
      "Validation Loss: 1.2968 | Validation Accuracy: 0.6642\n",
      "Epoch 43 | Train Loss: 0.9928 | Train Accuracy: 0.6504\n"
     ]
    },
    {
     "name": "stderr",
     "output_type": "stream",
     "text": [
      "\r",
      " 11%|█         | 44/400 [44:00<5:59:12, 60.54s/it]"
     ]
    },
    {
     "name": "stdout",
     "output_type": "stream",
     "text": [
      "Validation Loss: 1.3096 | Validation Accuracy: 0.6642\n",
      "Epoch 44 | Train Loss: 0.9891 | Train Accuracy: 0.6506\n"
     ]
    },
    {
     "name": "stderr",
     "output_type": "stream",
     "text": [
      "\r",
      " 11%|█▏        | 45/400 [44:59<5:55:38, 60.11s/it]"
     ]
    },
    {
     "name": "stdout",
     "output_type": "stream",
     "text": [
      "Validation Loss: 1.3137 | Validation Accuracy: 0.6642\n",
      "Epoch 45 | Train Loss: 0.9852 | Train Accuracy: 0.6514\n"
     ]
    },
    {
     "name": "stderr",
     "output_type": "stream",
     "text": [
      "\r",
      " 12%|█▏        | 46/400 [46:00<5:57:01, 60.51s/it]"
     ]
    },
    {
     "name": "stdout",
     "output_type": "stream",
     "text": [
      "Validation Loss: 1.3143 | Validation Accuracy: 0.6642\n",
      "Epoch 46 | Train Loss: 0.9814 | Train Accuracy: 0.6507\n"
     ]
    },
    {
     "name": "stderr",
     "output_type": "stream",
     "text": [
      "\r",
      " 12%|█▏        | 47/400 [47:00<5:53:39, 60.11s/it]"
     ]
    },
    {
     "name": "stdout",
     "output_type": "stream",
     "text": [
      "Validation Loss: 1.3132 | Validation Accuracy: 0.6642\n",
      "Epoch 47 | Train Loss: 0.9775 | Train Accuracy: 0.6505\n"
     ]
    },
    {
     "name": "stderr",
     "output_type": "stream",
     "text": [
      "\r",
      " 12%|█▏        | 48/400 [47:59<5:50:52, 59.81s/it]"
     ]
    },
    {
     "name": "stdout",
     "output_type": "stream",
     "text": [
      "Validation Loss: 1.3112 | Validation Accuracy: 0.6642\n",
      "Epoch 48 | Train Loss: 0.9739 | Train Accuracy: 0.6502\n"
     ]
    },
    {
     "name": "stderr",
     "output_type": "stream",
     "text": [
      "\r",
      " 12%|█▏        | 49/400 [49:00<5:52:12, 60.21s/it]"
     ]
    },
    {
     "name": "stdout",
     "output_type": "stream",
     "text": [
      "Validation Loss: 1.3085 | Validation Accuracy: 0.6642\n",
      "Epoch 49 | Train Loss: 0.9703 | Train Accuracy: 0.6500\n"
     ]
    },
    {
     "name": "stderr",
     "output_type": "stream",
     "text": [
      "\r",
      " 12%|█▎        | 50/400 [50:01<5:52:18, 60.39s/it]"
     ]
    },
    {
     "name": "stdout",
     "output_type": "stream",
     "text": [
      "Validation Loss: 1.3053 | Validation Accuracy: 0.6642\n",
      "Epoch 50 | Train Loss: 0.9668 | Train Accuracy: 0.6497\n"
     ]
    },
    {
     "name": "stderr",
     "output_type": "stream",
     "text": [
      "\r",
      " 13%|█▎        | 51/400 [51:00<5:49:20, 60.06s/it]"
     ]
    },
    {
     "name": "stdout",
     "output_type": "stream",
     "text": [
      "Validation Loss: 1.3013 | Validation Accuracy: 0.6642\n",
      "Epoch 51 | Train Loss: 0.9637 | Train Accuracy: 0.6494\n"
     ]
    },
    {
     "name": "stderr",
     "output_type": "stream",
     "text": [
      "\r",
      " 13%|█▎        | 52/400 [52:02<5:52:30, 60.78s/it]"
     ]
    },
    {
     "name": "stdout",
     "output_type": "stream",
     "text": [
      "Validation Loss: 1.2994 | Validation Accuracy: 0.6642\n",
      "Epoch 52 | Train Loss: 0.9614 | Train Accuracy: 0.6495\n"
     ]
    },
    {
     "name": "stderr",
     "output_type": "stream",
     "text": [
      "\r",
      " 13%|█▎        | 53/400 [53:02<5:50:04, 60.53s/it]"
     ]
    },
    {
     "name": "stdout",
     "output_type": "stream",
     "text": [
      "Validation Loss: 1.2974 | Validation Accuracy: 0.6642\n",
      "Epoch 53 | Train Loss: 0.9589 | Train Accuracy: 0.6492\n"
     ]
    },
    {
     "name": "stderr",
     "output_type": "stream",
     "text": [
      "\r",
      " 14%|█▎        | 54/400 [54:04<5:51:27, 60.95s/it]"
     ]
    },
    {
     "name": "stdout",
     "output_type": "stream",
     "text": [
      "Validation Loss: 1.2949 | Validation Accuracy: 0.6642\n",
      "Epoch 54 | Train Loss: 0.9565 | Train Accuracy: 0.6487\n"
     ]
    },
    {
     "name": "stderr",
     "output_type": "stream",
     "text": [
      "\r",
      " 14%|█▍        | 55/400 [55:04<5:48:46, 60.66s/it]"
     ]
    },
    {
     "name": "stdout",
     "output_type": "stream",
     "text": [
      "Validation Loss: 1.2918 | Validation Accuracy: 0.6642\n",
      "Epoch 55 | Train Loss: 1.2427 | Train Accuracy: 0.6390\n"
     ]
    },
    {
     "name": "stderr",
     "output_type": "stream",
     "text": [
      "\r",
      " 14%|█▍        | 56/400 [56:04<5:46:08, 60.37s/it]"
     ]
    },
    {
     "name": "stdout",
     "output_type": "stream",
     "text": [
      "Validation Loss: 1.2153 | Validation Accuracy: 0.6642\n",
      "Epoch 56 | Train Loss: 0.9912 | Train Accuracy: 0.6433\n"
     ]
    },
    {
     "name": "stderr",
     "output_type": "stream",
     "text": [
      "\r",
      " 14%|█▍        | 57/400 [57:04<5:44:43, 60.30s/it]"
     ]
    },
    {
     "name": "stdout",
     "output_type": "stream",
     "text": [
      "Validation Loss: 1.2173 | Validation Accuracy: 0.6628\n",
      "Epoch 57 | Train Loss: 0.9418 | Train Accuracy: 0.6444\n"
     ]
    },
    {
     "name": "stderr",
     "output_type": "stream",
     "text": [
      "\r",
      " 14%|█▍        | 58/400 [58:05<5:45:00, 60.53s/it]"
     ]
    },
    {
     "name": "stdout",
     "output_type": "stream",
     "text": [
      "Validation Loss: 1.2282 | Validation Accuracy: 0.6642\n",
      "Epoch 58 | Train Loss: 0.9436 | Train Accuracy: 0.6470\n"
     ]
    },
    {
     "name": "stderr",
     "output_type": "stream",
     "text": [
      "\r",
      " 15%|█▍        | 59/400 [59:06<5:44:49, 60.67s/it]"
     ]
    },
    {
     "name": "stdout",
     "output_type": "stream",
     "text": [
      "Validation Loss: 1.2397 | Validation Accuracy: 0.6642\n",
      "Epoch 59 | Train Loss: 0.9448 | Train Accuracy: 0.6481\n"
     ]
    },
    {
     "name": "stderr",
     "output_type": "stream",
     "text": [
      "\r",
      " 15%|█▌        | 60/400 [1:00:06<5:42:41, 60.48s/it]"
     ]
    },
    {
     "name": "stdout",
     "output_type": "stream",
     "text": [
      "Validation Loss: 1.2544 | Validation Accuracy: 0.6642\n",
      "Epoch 60 | Train Loss: 0.9452 | Train Accuracy: 0.6492\n"
     ]
    },
    {
     "name": "stderr",
     "output_type": "stream",
     "text": [
      "\r",
      " 15%|█▌        | 61/400 [1:01:06<5:40:39, 60.29s/it]"
     ]
    },
    {
     "name": "stdout",
     "output_type": "stream",
     "text": [
      "Validation Loss: 1.2658 | Validation Accuracy: 0.6642\n",
      "Epoch 61 | Train Loss: 0.9451 | Train Accuracy: 0.6489\n"
     ]
    },
    {
     "name": "stderr",
     "output_type": "stream",
     "text": [
      "\r",
      " 16%|█▌        | 62/400 [1:02:06<5:38:53, 60.16s/it]"
     ]
    },
    {
     "name": "stdout",
     "output_type": "stream",
     "text": [
      "Validation Loss: 1.2716 | Validation Accuracy: 0.6642\n",
      "Epoch 62 | Train Loss: 0.9442 | Train Accuracy: 0.6495\n"
     ]
    },
    {
     "name": "stderr",
     "output_type": "stream",
     "text": [
      "\r",
      " 16%|█▌        | 63/400 [1:03:07<5:38:47, 60.32s/it]"
     ]
    },
    {
     "name": "stdout",
     "output_type": "stream",
     "text": [
      "Validation Loss: 1.2739 | Validation Accuracy: 0.6642\n",
      "Epoch 63 | Train Loss: 0.9432 | Train Accuracy: 0.6497\n"
     ]
    },
    {
     "name": "stderr",
     "output_type": "stream",
     "text": [
      "\r",
      " 16%|█▌        | 64/400 [1:04:08<5:38:58, 60.53s/it]"
     ]
    },
    {
     "name": "stdout",
     "output_type": "stream",
     "text": [
      "Validation Loss: 1.2739 | Validation Accuracy: 0.6642\n",
      "Epoch 64 | Train Loss: 0.9421 | Train Accuracy: 0.6497\n"
     ]
    },
    {
     "name": "stderr",
     "output_type": "stream",
     "text": [
      "\r",
      " 16%|█▋        | 65/400 [1:05:07<5:35:42, 60.13s/it]"
     ]
    },
    {
     "name": "stdout",
     "output_type": "stream",
     "text": [
      "Validation Loss: 1.2723 | Validation Accuracy: 0.6642\n",
      "Epoch 65 | Train Loss: 0.9409 | Train Accuracy: 0.6499\n"
     ]
    },
    {
     "name": "stderr",
     "output_type": "stream",
     "text": [
      "\r",
      " 16%|█▋        | 66/400 [1:06:07<5:34:03, 60.01s/it]"
     ]
    },
    {
     "name": "stdout",
     "output_type": "stream",
     "text": [
      "Validation Loss: 1.2692 | Validation Accuracy: 0.6642\n",
      "Epoch 66 | Train Loss: 0.9397 | Train Accuracy: 0.6496\n"
     ]
    },
    {
     "name": "stderr",
     "output_type": "stream",
     "text": [
      "\r",
      " 17%|█▋        | 67/400 [1:07:09<5:37:50, 60.87s/it]"
     ]
    },
    {
     "name": "stdout",
     "output_type": "stream",
     "text": [
      "Validation Loss: 1.2648 | Validation Accuracy: 0.6642\n",
      "Epoch 67 | Train Loss: 0.9383 | Train Accuracy: 0.6496\n"
     ]
    },
    {
     "name": "stderr",
     "output_type": "stream",
     "text": [
      "\r",
      " 17%|█▋        | 68/400 [1:08:11<5:38:30, 61.18s/it]"
     ]
    },
    {
     "name": "stdout",
     "output_type": "stream",
     "text": [
      "Validation Loss: 1.2596 | Validation Accuracy: 0.6642\n",
      "Epoch 68 | Train Loss: 0.9366 | Train Accuracy: 0.6479\n"
     ]
    },
    {
     "name": "stderr",
     "output_type": "stream",
     "text": [
      "\r",
      " 17%|█▋        | 69/400 [1:09:15<5:41:30, 61.91s/it]"
     ]
    },
    {
     "name": "stdout",
     "output_type": "stream",
     "text": [
      "Validation Loss: 1.2535 | Validation Accuracy: 0.6642\n",
      "Epoch 69 | Train Loss: 0.9354 | Train Accuracy: 0.6494\n"
     ]
    },
    {
     "name": "stderr",
     "output_type": "stream",
     "text": [
      "\r",
      " 18%|█▊        | 70/400 [1:10:17<5:40:22, 61.89s/it]"
     ]
    },
    {
     "name": "stdout",
     "output_type": "stream",
     "text": [
      "Validation Loss: 1.2543 | Validation Accuracy: 0.6642\n",
      "Epoch 70 | Train Loss: 0.9347 | Train Accuracy: 0.6493\n"
     ]
    },
    {
     "name": "stderr",
     "output_type": "stream",
     "text": [
      "\r",
      " 18%|█▊        | 71/400 [1:11:16<5:35:23, 61.17s/it]"
     ]
    },
    {
     "name": "stdout",
     "output_type": "stream",
     "text": [
      "Validation Loss: 1.2541 | Validation Accuracy: 0.6642\n",
      "Epoch 71 | Train Loss: 0.9337 | Train Accuracy: 0.6488\n"
     ]
    },
    {
     "name": "stderr",
     "output_type": "stream",
     "text": [
      "\r",
      " 18%|█▊        | 72/400 [1:12:15<5:29:56, 60.36s/it]"
     ]
    },
    {
     "name": "stdout",
     "output_type": "stream",
     "text": [
      "Validation Loss: 1.2524 | Validation Accuracy: 0.6642\n",
      "Epoch 72 | Train Loss: 0.9326 | Train Accuracy: 0.6482\n"
     ]
    },
    {
     "name": "stderr",
     "output_type": "stream",
     "text": [
      "\r",
      " 18%|█▊        | 73/400 [1:13:14<5:27:39, 60.12s/it]"
     ]
    },
    {
     "name": "stdout",
     "output_type": "stream",
     "text": [
      "Validation Loss: 1.2501 | Validation Accuracy: 0.6642\n",
      "Epoch 73 | Train Loss: 0.9313 | Train Accuracy: 0.6485\n"
     ]
    },
    {
     "name": "stderr",
     "output_type": "stream",
     "text": [
      "\r",
      " 18%|█▊        | 74/400 [1:14:19<5:34:39, 61.59s/it]"
     ]
    },
    {
     "name": "stdout",
     "output_type": "stream",
     "text": [
      "Validation Loss: 1.2475 | Validation Accuracy: 0.6642\n",
      "Epoch 74 | Train Loss: 0.9298 | Train Accuracy: 0.6478\n"
     ]
    },
    {
     "name": "stderr",
     "output_type": "stream",
     "text": [
      "\r",
      " 19%|█▉        | 75/400 [1:15:21<5:33:40, 61.60s/it]"
     ]
    },
    {
     "name": "stdout",
     "output_type": "stream",
     "text": [
      "Validation Loss: 1.2445 | Validation Accuracy: 0.6642\n",
      "Epoch 75 | Train Loss: 0.9283 | Train Accuracy: 0.6478\n"
     ]
    },
    {
     "name": "stderr",
     "output_type": "stream",
     "text": [
      "\r",
      " 19%|█▉        | 76/400 [1:16:22<5:30:56, 61.29s/it]"
     ]
    },
    {
     "name": "stdout",
     "output_type": "stream",
     "text": [
      "Validation Loss: 1.2425 | Validation Accuracy: 0.6642\n",
      "Epoch 76 | Train Loss: 0.9270 | Train Accuracy: 0.6474\n"
     ]
    },
    {
     "name": "stderr",
     "output_type": "stream",
     "text": [
      "\r",
      " 19%|█▉        | 77/400 [1:17:24<5:31:10, 61.52s/it]"
     ]
    },
    {
     "name": "stdout",
     "output_type": "stream",
     "text": [
      "Validation Loss: 1.2388 | Validation Accuracy: 0.6642\n",
      "Epoch 77 | Train Loss: 1.0250 | Train Accuracy: 0.6474\n"
     ]
    },
    {
     "name": "stderr",
     "output_type": "stream",
     "text": [
      "\r",
      " 20%|█▉        | 78/400 [1:18:23<5:27:04, 60.94s/it]"
     ]
    },
    {
     "name": "stdout",
     "output_type": "stream",
     "text": [
      "Validation Loss: 1.2065 | Validation Accuracy: 0.6509\n",
      "Epoch 78 | Train Loss: 0.9200 | Train Accuracy: 0.6459\n"
     ]
    },
    {
     "name": "stderr",
     "output_type": "stream",
     "text": [
      "\r",
      " 20%|█▉        | 79/400 [1:19:23<5:24:56, 60.74s/it]"
     ]
    },
    {
     "name": "stdout",
     "output_type": "stream",
     "text": [
      "Validation Loss: 1.2060 | Validation Accuracy: 0.6629\n",
      "Epoch 79 | Train Loss: 0.9188 | Train Accuracy: 0.6468\n"
     ]
    },
    {
     "name": "stderr",
     "output_type": "stream",
     "text": [
      "\r",
      " 20%|██        | 80/400 [1:20:23<5:22:12, 60.41s/it]"
     ]
    },
    {
     "name": "stdout",
     "output_type": "stream",
     "text": [
      "Validation Loss: 1.2116 | Validation Accuracy: 0.6642\n",
      "Epoch 80 | Train Loss: 0.9198 | Train Accuracy: 0.6462\n"
     ]
    },
    {
     "name": "stderr",
     "output_type": "stream",
     "text": [
      "\r",
      " 20%|██        | 81/400 [1:21:23<5:20:07, 60.21s/it]"
     ]
    },
    {
     "name": "stdout",
     "output_type": "stream",
     "text": [
      "Validation Loss: 1.2176 | Validation Accuracy: 0.6642\n",
      "Epoch 81 | Train Loss: 0.9203 | Train Accuracy: 0.6472\n"
     ]
    },
    {
     "name": "stderr",
     "output_type": "stream",
     "text": [
      "\r",
      " 20%|██        | 82/400 [1:22:23<5:18:22, 60.07s/it]"
     ]
    },
    {
     "name": "stdout",
     "output_type": "stream",
     "text": [
      "Validation Loss: 1.2230 | Validation Accuracy: 0.6642\n",
      "Epoch 82 | Train Loss: 0.9203 | Train Accuracy: 0.6469\n"
     ]
    },
    {
     "name": "stderr",
     "output_type": "stream",
     "text": [
      "\r",
      " 21%|██        | 83/400 [1:23:22<5:16:21, 59.88s/it]"
     ]
    },
    {
     "name": "stdout",
     "output_type": "stream",
     "text": [
      "Validation Loss: 1.2271 | Validation Accuracy: 0.6642\n",
      "Epoch 83 | Train Loss: 0.9199 | Train Accuracy: 0.6469\n"
     ]
    },
    {
     "name": "stderr",
     "output_type": "stream",
     "text": [
      "\r",
      " 21%|██        | 84/400 [1:24:26<5:21:19, 61.01s/it]"
     ]
    },
    {
     "name": "stdout",
     "output_type": "stream",
     "text": [
      "Validation Loss: 1.2295 | Validation Accuracy: 0.6642\n",
      "Epoch 84 | Train Loss: 0.9192 | Train Accuracy: 0.6471\n"
     ]
    },
    {
     "name": "stderr",
     "output_type": "stream",
     "text": [
      "\r",
      " 21%|██▏       | 85/400 [1:25:25<5:17:06, 60.40s/it]"
     ]
    },
    {
     "name": "stdout",
     "output_type": "stream",
     "text": [
      "Validation Loss: 1.2305 | Validation Accuracy: 0.6642\n",
      "Epoch 85 | Train Loss: 0.9183 | Train Accuracy: 0.6463\n"
     ]
    },
    {
     "name": "stderr",
     "output_type": "stream",
     "text": [
      "\r",
      " 22%|██▏       | 86/400 [1:26:25<5:15:31, 60.29s/it]"
     ]
    },
    {
     "name": "stdout",
     "output_type": "stream",
     "text": [
      "Validation Loss: 1.2298 | Validation Accuracy: 0.6642\n",
      "Epoch 86 | Train Loss: 0.9292 | Train Accuracy: 0.6455\n"
     ]
    },
    {
     "name": "stderr",
     "output_type": "stream",
     "text": [
      "\r",
      " 22%|██▏       | 87/400 [1:27:24<5:13:14, 60.05s/it]"
     ]
    },
    {
     "name": "stdout",
     "output_type": "stream",
     "text": [
      "Validation Loss: 1.2261 | Validation Accuracy: 0.6640\n",
      "Epoch 87 | Train Loss: 0.9159 | Train Accuracy: 0.6465\n"
     ]
    },
    {
     "name": "stderr",
     "output_type": "stream",
     "text": [
      "\r",
      " 22%|██▏       | 88/400 [1:28:24<5:11:26, 59.89s/it]"
     ]
    },
    {
     "name": "stdout",
     "output_type": "stream",
     "text": [
      "Validation Loss: 1.2275 | Validation Accuracy: 0.6642\n",
      "Epoch 88 | Train Loss: 0.9156 | Train Accuracy: 0.6464\n"
     ]
    },
    {
     "name": "stderr",
     "output_type": "stream",
     "text": [
      "\r",
      " 22%|██▏       | 89/400 [1:29:24<5:10:29, 59.90s/it]"
     ]
    },
    {
     "name": "stdout",
     "output_type": "stream",
     "text": [
      "Validation Loss: 1.2280 | Validation Accuracy: 0.6641\n",
      "Epoch 89 | Train Loss: 0.9148 | Train Accuracy: 0.6464\n"
     ]
    },
    {
     "name": "stderr",
     "output_type": "stream",
     "text": [
      "\r",
      " 22%|██▎       | 90/400 [1:30:26<5:12:35, 60.50s/it]"
     ]
    },
    {
     "name": "stdout",
     "output_type": "stream",
     "text": [
      "Validation Loss: 1.2271 | Validation Accuracy: 0.6638\n",
      "Epoch 90 | Train Loss: 0.9553 | Train Accuracy: 0.6405\n"
     ]
    },
    {
     "name": "stderr",
     "output_type": "stream",
     "text": [
      "\r",
      " 23%|██▎       | 91/400 [1:31:27<5:12:19, 60.64s/it]"
     ]
    },
    {
     "name": "stdout",
     "output_type": "stream",
     "text": [
      "Validation Loss: 1.2004 | Validation Accuracy: 0.6561\n",
      "Epoch 91 | Train Loss: 0.9092 | Train Accuracy: 0.6448\n"
     ]
    },
    {
     "name": "stderr",
     "output_type": "stream",
     "text": [
      "\r",
      " 23%|██▎       | 92/400 [1:32:27<5:10:25, 60.47s/it]"
     ]
    },
    {
     "name": "stdout",
     "output_type": "stream",
     "text": [
      "Validation Loss: 1.2042 | Validation Accuracy: 0.6574\n",
      "Epoch 92 | Train Loss: 0.9101 | Train Accuracy: 0.6464\n"
     ]
    },
    {
     "name": "stderr",
     "output_type": "stream",
     "text": [
      "\r",
      " 23%|██▎       | 93/400 [1:33:27<5:09:09, 60.42s/it]"
     ]
    },
    {
     "name": "stdout",
     "output_type": "stream",
     "text": [
      "Validation Loss: 1.2098 | Validation Accuracy: 0.6591\n",
      "Epoch 93 | Train Loss: 0.9107 | Train Accuracy: 0.6456\n"
     ]
    },
    {
     "name": "stderr",
     "output_type": "stream",
     "text": [
      "\r",
      " 24%|██▎       | 94/400 [1:34:27<5:07:16, 60.25s/it]"
     ]
    },
    {
     "name": "stdout",
     "output_type": "stream",
     "text": [
      "Validation Loss: 1.2154 | Validation Accuracy: 0.6600\n",
      "Epoch 94 | Train Loss: 0.9110 | Train Accuracy: 0.6462\n"
     ]
    },
    {
     "name": "stderr",
     "output_type": "stream",
     "text": [
      "\r",
      " 24%|██▍       | 95/400 [1:35:27<5:05:39, 60.13s/it]"
     ]
    },
    {
     "name": "stdout",
     "output_type": "stream",
     "text": [
      "Validation Loss: 1.2200 | Validation Accuracy: 0.6602\n",
      "Epoch 95 | Train Loss: 0.9108 | Train Accuracy: 0.6464\n"
     ]
    },
    {
     "name": "stderr",
     "output_type": "stream",
     "text": [
      "\r",
      " 24%|██▍       | 96/400 [1:36:26<5:03:08, 59.83s/it]"
     ]
    },
    {
     "name": "stdout",
     "output_type": "stream",
     "text": [
      "Validation Loss: 1.2228 | Validation Accuracy: 0.6600\n",
      "Epoch 96 | Train Loss: 0.9102 | Train Accuracy: 0.6458\n"
     ]
    },
    {
     "name": "stderr",
     "output_type": "stream",
     "text": [
      "\r",
      " 24%|██▍       | 97/400 [1:37:25<5:01:59, 59.80s/it]"
     ]
    },
    {
     "name": "stdout",
     "output_type": "stream",
     "text": [
      "Validation Loss: 1.2237 | Validation Accuracy: 0.6590\n",
      "Epoch 97 | Train Loss: 0.9092 | Train Accuracy: 0.6461\n"
     ]
    },
    {
     "name": "stderr",
     "output_type": "stream",
     "text": [
      "\r",
      " 24%|██▍       | 98/400 [1:38:25<4:59:52, 59.58s/it]"
     ]
    },
    {
     "name": "stdout",
     "output_type": "stream",
     "text": [
      "Validation Loss: 1.2221 | Validation Accuracy: 0.6572\n",
      "Epoch 98 | Train Loss: 0.9085 | Train Accuracy: 0.6459\n"
     ]
    },
    {
     "name": "stderr",
     "output_type": "stream",
     "text": [
      "\r",
      " 25%|██▍       | 99/400 [1:39:24<4:59:12, 59.64s/it]"
     ]
    },
    {
     "name": "stdout",
     "output_type": "stream",
     "text": [
      "Validation Loss: 1.2231 | Validation Accuracy: 0.6570\n",
      "Epoch 99 | Train Loss: 0.9236 | Train Accuracy: 0.6421\n"
     ]
    },
    {
     "name": "stderr",
     "output_type": "stream",
     "text": [
      "\r",
      " 25%|██▌       | 100/400 [1:40:25<4:59:31, 59.91s/it]"
     ]
    },
    {
     "name": "stdout",
     "output_type": "stream",
     "text": [
      "Validation Loss: 1.2049 | Validation Accuracy: 0.6512\n",
      "Epoch 100 | Train Loss: 0.9045 | Train Accuracy: 0.6432\n"
     ]
    },
    {
     "name": "stderr",
     "output_type": "stream",
     "text": [
      "\r",
      " 25%|██▌       | 101/400 [1:41:26<5:00:16, 60.26s/it]"
     ]
    },
    {
     "name": "stdout",
     "output_type": "stream",
     "text": [
      "Validation Loss: 1.2091 | Validation Accuracy: 0.6529\n",
      "Epoch 101 | Train Loss: 0.9052 | Train Accuracy: 0.6444\n"
     ]
    },
    {
     "name": "stderr",
     "output_type": "stream",
     "text": [
      "\r",
      " 26%|██▌       | 102/400 [1:42:25<4:57:59, 60.00s/it]"
     ]
    },
    {
     "name": "stdout",
     "output_type": "stream",
     "text": [
      "Validation Loss: 1.2117 | Validation Accuracy: 0.6537\n",
      "Epoch 102 | Train Loss: 0.9050 | Train Accuracy: 0.6446\n"
     ]
    },
    {
     "name": "stderr",
     "output_type": "stream",
     "text": [
      "\r",
      " 26%|██▌       | 103/400 [1:43:25<4:56:38, 59.93s/it]"
     ]
    },
    {
     "name": "stdout",
     "output_type": "stream",
     "text": [
      "Validation Loss: 1.2126 | Validation Accuracy: 0.6528\n",
      "Epoch 103 | Train Loss: 0.9042 | Train Accuracy: 0.6444\n"
     ]
    },
    {
     "name": "stderr",
     "output_type": "stream",
     "text": [
      "\r",
      " 26%|██▌       | 104/400 [1:44:25<4:56:05, 60.02s/it]"
     ]
    },
    {
     "name": "stdout",
     "output_type": "stream",
     "text": [
      "Validation Loss: 1.2115 | Validation Accuracy: 0.6512\n",
      "Epoch 104 | Train Loss: 0.9029 | Train Accuracy: 0.6437\n"
     ]
    },
    {
     "name": "stderr",
     "output_type": "stream",
     "text": [
      "\r",
      " 26%|██▋       | 105/400 [1:45:24<4:53:28, 59.69s/it]"
     ]
    },
    {
     "name": "stdout",
     "output_type": "stream",
     "text": [
      "Validation Loss: 1.2094 | Validation Accuracy: 0.6510\n",
      "Epoch 105 | Train Loss: 0.9550 | Train Accuracy: 0.6436\n"
     ]
    },
    {
     "name": "stderr",
     "output_type": "stream",
     "text": [
      "\r",
      " 26%|██▋       | 106/400 [1:46:27<4:56:31, 60.52s/it]"
     ]
    },
    {
     "name": "stdout",
     "output_type": "stream",
     "text": [
      "Validation Loss: 1.1965 | Validation Accuracy: 0.6642\n",
      "Epoch 106 | Train Loss: 0.9015 | Train Accuracy: 0.6426\n"
     ]
    },
    {
     "name": "stderr",
     "output_type": "stream",
     "text": [
      "\r",
      " 27%|██▋       | 107/400 [1:47:27<4:55:58, 60.61s/it]"
     ]
    },
    {
     "name": "stdout",
     "output_type": "stream",
     "text": [
      "Validation Loss: 1.1982 | Validation Accuracy: 0.6474\n",
      "Epoch 107 | Train Loss: 0.9000 | Train Accuracy: 0.6420\n"
     ]
    },
    {
     "name": "stderr",
     "output_type": "stream",
     "text": [
      "\r",
      " 27%|██▋       | 108/400 [1:48:30<4:57:07, 61.05s/it]"
     ]
    },
    {
     "name": "stdout",
     "output_type": "stream",
     "text": [
      "Validation Loss: 1.1992 | Validation Accuracy: 0.6480\n",
      "Epoch 108 | Train Loss: 0.8999 | Train Accuracy: 0.6421\n"
     ]
    },
    {
     "name": "stderr",
     "output_type": "stream",
     "text": [
      "\r",
      " 27%|██▋       | 109/400 [1:49:30<4:55:15, 60.88s/it]"
     ]
    },
    {
     "name": "stdout",
     "output_type": "stream",
     "text": [
      "Validation Loss: 1.1998 | Validation Accuracy: 0.6480\n",
      "Epoch 109 | Train Loss: 0.8995 | Train Accuracy: 0.6418\n"
     ]
    },
    {
     "name": "stderr",
     "output_type": "stream",
     "text": [
      "\r",
      " 28%|██▊       | 110/400 [1:50:32<4:56:08, 61.27s/it]"
     ]
    },
    {
     "name": "stdout",
     "output_type": "stream",
     "text": [
      "Validation Loss: 1.1990 | Validation Accuracy: 0.6469\n",
      "Epoch 110 | Train Loss: 0.8984 | Train Accuracy: 0.6419\n"
     ]
    },
    {
     "name": "stderr",
     "output_type": "stream",
     "text": [
      "\r",
      " 28%|██▊       | 111/400 [1:51:35<4:57:27, 61.75s/it]"
     ]
    },
    {
     "name": "stdout",
     "output_type": "stream",
     "text": [
      "Validation Loss: 1.1955 | Validation Accuracy: 0.6453\n",
      "Epoch 111 | Train Loss: 0.9239 | Train Accuracy: 0.6374\n"
     ]
    },
    {
     "name": "stderr",
     "output_type": "stream",
     "text": [
      "\r",
      " 28%|██▊       | 112/400 [1:52:35<4:53:06, 61.06s/it]"
     ]
    },
    {
     "name": "stdout",
     "output_type": "stream",
     "text": [
      "Validation Loss: 1.1826 | Validation Accuracy: 0.6401\n",
      "Epoch 112 | Train Loss: 0.8942 | Train Accuracy: 0.6410\n"
     ]
    },
    {
     "name": "stderr",
     "output_type": "stream",
     "text": [
      "\r",
      " 28%|██▊       | 113/400 [1:53:34<4:50:26, 60.72s/it]"
     ]
    },
    {
     "name": "stdout",
     "output_type": "stream",
     "text": [
      "Validation Loss: 1.1826 | Validation Accuracy: 0.6427\n",
      "Epoch 113 | Train Loss: 0.8952 | Train Accuracy: 0.6412\n"
     ]
    },
    {
     "name": "stderr",
     "output_type": "stream",
     "text": [
      "\r",
      " 28%|██▊       | 114/400 [1:54:38<4:52:47, 61.42s/it]"
     ]
    },
    {
     "name": "stdout",
     "output_type": "stream",
     "text": [
      "Validation Loss: 1.1851 | Validation Accuracy: 0.6433\n",
      "Epoch 114 | Train Loss: 0.8954 | Train Accuracy: 0.6411\n"
     ]
    },
    {
     "name": "stderr",
     "output_type": "stream",
     "text": [
      "\r",
      " 29%|██▉       | 115/400 [1:55:40<4:52:58, 61.68s/it]"
     ]
    },
    {
     "name": "stdout",
     "output_type": "stream",
     "text": [
      "Validation Loss: 1.1868 | Validation Accuracy: 0.6429\n",
      "Epoch 115 | Train Loss: 0.9012 | Train Accuracy: 0.6420\n"
     ]
    },
    {
     "name": "stderr",
     "output_type": "stream",
     "text": [
      "\r",
      " 29%|██▉       | 116/400 [1:56:43<4:54:16, 62.17s/it]"
     ]
    },
    {
     "name": "stdout",
     "output_type": "stream",
     "text": [
      "Validation Loss: 1.1848 | Validation Accuracy: 0.6441\n",
      "Epoch 116 | Train Loss: 0.8968 | Train Accuracy: 0.6405\n"
     ]
    },
    {
     "name": "stderr",
     "output_type": "stream",
     "text": [
      "\r",
      " 29%|██▉       | 117/400 [1:57:44<4:51:04, 61.71s/it]"
     ]
    },
    {
     "name": "stdout",
     "output_type": "stream",
     "text": [
      "Validation Loss: 1.1734 | Validation Accuracy: 0.6413\n",
      "Epoch 117 | Train Loss: 0.8926 | Train Accuracy: 0.6411\n"
     ]
    },
    {
     "name": "stderr",
     "output_type": "stream",
     "text": [
      "\r",
      " 30%|██▉       | 118/400 [1:58:45<4:48:45, 61.44s/it]"
     ]
    },
    {
     "name": "stdout",
     "output_type": "stream",
     "text": [
      "Validation Loss: 1.1789 | Validation Accuracy: 0.6401\n",
      "Epoch 118 | Train Loss: 0.8927 | Train Accuracy: 0.6406\n"
     ]
    },
    {
     "name": "stderr",
     "output_type": "stream",
     "text": [
      "\r",
      " 30%|██▉       | 119/400 [1:59:45<4:45:37, 60.99s/it]"
     ]
    },
    {
     "name": "stdout",
     "output_type": "stream",
     "text": [
      "Validation Loss: 1.1800 | Validation Accuracy: 0.6400\n",
      "Epoch 119 | Train Loss: 0.8923 | Train Accuracy: 0.6401\n"
     ]
    },
    {
     "name": "stderr",
     "output_type": "stream",
     "text": [
      "\r",
      " 30%|███       | 120/400 [2:00:45<4:44:13, 60.91s/it]"
     ]
    },
    {
     "name": "stdout",
     "output_type": "stream",
     "text": [
      "Validation Loss: 1.1790 | Validation Accuracy: 0.6389\n",
      "Epoch 120 | Train Loss: 0.9286 | Train Accuracy: 0.6371\n"
     ]
    },
    {
     "name": "stderr",
     "output_type": "stream",
     "text": [
      "\r",
      " 30%|███       | 121/400 [2:01:45<4:42:04, 60.66s/it]"
     ]
    },
    {
     "name": "stdout",
     "output_type": "stream",
     "text": [
      "Validation Loss: 1.1643 | Validation Accuracy: 0.6305\n",
      "Epoch 121 | Train Loss: 0.8885 | Train Accuracy: 0.6382\n"
     ]
    },
    {
     "name": "stderr",
     "output_type": "stream",
     "text": [
      "\r",
      " 30%|███       | 122/400 [2:02:44<4:38:31, 60.11s/it]"
     ]
    },
    {
     "name": "stdout",
     "output_type": "stream",
     "text": [
      "Validation Loss: 1.1640 | Validation Accuracy: 0.6320\n",
      "Epoch 122 | Train Loss: 0.8889 | Train Accuracy: 0.6386\n"
     ]
    },
    {
     "name": "stderr",
     "output_type": "stream",
     "text": [
      "\r",
      " 31%|███       | 123/400 [2:03:43<4:36:20, 59.86s/it]"
     ]
    },
    {
     "name": "stdout",
     "output_type": "stream",
     "text": [
      "Validation Loss: 1.1653 | Validation Accuracy: 0.6324\n",
      "Epoch 123 | Train Loss: 0.8889 | Train Accuracy: 0.6393\n"
     ]
    },
    {
     "name": "stderr",
     "output_type": "stream",
     "text": [
      "\r",
      " 31%|███       | 124/400 [2:04:43<4:35:03, 59.79s/it]"
     ]
    },
    {
     "name": "stdout",
     "output_type": "stream",
     "text": [
      "Validation Loss: 1.1666 | Validation Accuracy: 0.6324\n",
      "Epoch 124 | Train Loss: 0.8891 | Train Accuracy: 0.6394\n"
     ]
    },
    {
     "name": "stderr",
     "output_type": "stream",
     "text": [
      "\r",
      " 31%|███▏      | 125/400 [2:05:44<4:35:09, 60.04s/it]"
     ]
    },
    {
     "name": "stdout",
     "output_type": "stream",
     "text": [
      "Validation Loss: 1.1685 | Validation Accuracy: 0.6324\n",
      "Epoch 125 | Train Loss: 0.8926 | Train Accuracy: 0.6389\n"
     ]
    },
    {
     "name": "stderr",
     "output_type": "stream",
     "text": [
      "\r",
      " 32%|███▏      | 126/400 [2:06:44<4:34:32, 60.12s/it]"
     ]
    },
    {
     "name": "stdout",
     "output_type": "stream",
     "text": [
      "Validation Loss: 1.1751 | Validation Accuracy: 0.6269\n",
      "Epoch 126 | Train Loss: 0.8903 | Train Accuracy: 0.6387\n"
     ]
    },
    {
     "name": "stderr",
     "output_type": "stream",
     "text": [
      "\r",
      " 32%|███▏      | 127/400 [2:07:43<4:32:31, 59.90s/it]"
     ]
    },
    {
     "name": "stdout",
     "output_type": "stream",
     "text": [
      "Validation Loss: 1.1635 | Validation Accuracy: 0.6254\n",
      "Epoch 127 | Train Loss: 0.8863 | Train Accuracy: 0.6371\n"
     ]
    },
    {
     "name": "stderr",
     "output_type": "stream",
     "text": [
      "\r",
      " 32%|███▏      | 128/400 [2:08:42<4:30:04, 59.58s/it]"
     ]
    },
    {
     "name": "stdout",
     "output_type": "stream",
     "text": [
      "Validation Loss: 1.1621 | Validation Accuracy: 0.6267\n",
      "Epoch 128 | Train Loss: 0.8863 | Train Accuracy: 0.6372\n"
     ]
    },
    {
     "name": "stderr",
     "output_type": "stream",
     "text": [
      "\r",
      " 32%|███▏      | 129/400 [2:09:43<4:30:54, 59.98s/it]"
     ]
    },
    {
     "name": "stdout",
     "output_type": "stream",
     "text": [
      "Validation Loss: 1.1613 | Validation Accuracy: 0.6265\n",
      "Epoch 129 | Train Loss: 0.8853 | Train Accuracy: 0.6364\n"
     ]
    },
    {
     "name": "stderr",
     "output_type": "stream",
     "text": [
      "\r",
      " 32%|███▎      | 130/400 [2:10:42<4:29:05, 59.80s/it]"
     ]
    },
    {
     "name": "stdout",
     "output_type": "stream",
     "text": [
      "Validation Loss: 1.1575 | Validation Accuracy: 0.6220\n",
      "Epoch 130 | Train Loss: 0.8836 | Train Accuracy: 0.6362\n"
     ]
    },
    {
     "name": "stderr",
     "output_type": "stream",
     "text": [
      "\r",
      " 33%|███▎      | 131/400 [2:11:41<4:26:49, 59.51s/it]"
     ]
    },
    {
     "name": "stdout",
     "output_type": "stream",
     "text": [
      "Validation Loss: 1.1506 | Validation Accuracy: 0.6180\n",
      "Epoch 131 | Train Loss: 0.8840 | Train Accuracy: 0.6359\n"
     ]
    },
    {
     "name": "stderr",
     "output_type": "stream",
     "text": [
      "\r",
      " 33%|███▎      | 132/400 [2:12:41<4:25:53, 59.53s/it]"
     ]
    },
    {
     "name": "stdout",
     "output_type": "stream",
     "text": [
      "Validation Loss: 1.1488 | Validation Accuracy: 0.6213\n",
      "Epoch 132 | Train Loss: 0.8825 | Train Accuracy: 0.6353\n"
     ]
    },
    {
     "name": "stderr",
     "output_type": "stream",
     "text": [
      "\r",
      " 33%|███▎      | 133/400 [2:13:41<4:25:13, 59.60s/it]"
     ]
    },
    {
     "name": "stdout",
     "output_type": "stream",
     "text": [
      "Validation Loss: 1.1429 | Validation Accuracy: 0.6158\n",
      "Epoch 133 | Train Loss: 0.8805 | Train Accuracy: 0.6338\n"
     ]
    },
    {
     "name": "stderr",
     "output_type": "stream",
     "text": [
      "\r",
      " 34%|███▎      | 134/400 [2:14:40<4:24:11, 59.59s/it]"
     ]
    },
    {
     "name": "stdout",
     "output_type": "stream",
     "text": [
      "Validation Loss: 1.1350 | Validation Accuracy: 0.6113\n",
      "Epoch 134 | Train Loss: 0.8901 | Train Accuracy: 0.6334\n"
     ]
    },
    {
     "name": "stderr",
     "output_type": "stream",
     "text": [
      "\r",
      " 34%|███▍      | 135/400 [2:15:39<4:22:35, 59.46s/it]"
     ]
    },
    {
     "name": "stdout",
     "output_type": "stream",
     "text": [
      "Validation Loss: 1.1349 | Validation Accuracy: 0.5889\n",
      "Epoch 135 | Train Loss: 0.8760 | Train Accuracy: 0.6315\n"
     ]
    },
    {
     "name": "stderr",
     "output_type": "stream",
     "text": [
      "\r",
      " 34%|███▍      | 136/400 [2:16:38<4:21:09, 59.36s/it]"
     ]
    },
    {
     "name": "stdout",
     "output_type": "stream",
     "text": [
      "Validation Loss: 1.1166 | Validation Accuracy: 0.5996\n",
      "Epoch 136 | Train Loss: 0.8765 | Train Accuracy: 0.6319\n"
     ]
    },
    {
     "name": "stderr",
     "output_type": "stream",
     "text": [
      "\r",
      " 34%|███▍      | 137/400 [2:17:38<4:20:03, 59.33s/it]"
     ]
    },
    {
     "name": "stdout",
     "output_type": "stream",
     "text": [
      "Validation Loss: 1.1114 | Validation Accuracy: 0.6006\n",
      "Epoch 137 | Train Loss: 0.8760 | Train Accuracy: 0.6321\n"
     ]
    },
    {
     "name": "stderr",
     "output_type": "stream",
     "text": [
      "\r",
      " 34%|███▍      | 138/400 [2:18:36<4:18:09, 59.12s/it]"
     ]
    },
    {
     "name": "stdout",
     "output_type": "stream",
     "text": [
      "Validation Loss: 1.1064 | Validation Accuracy: 0.5966\n",
      "Epoch 138 | Train Loss: 0.8840 | Train Accuracy: 0.6332\n"
     ]
    },
    {
     "name": "stderr",
     "output_type": "stream",
     "text": [
      "\r",
      " 35%|███▍      | 139/400 [2:19:38<4:19:50, 59.73s/it]"
     ]
    },
    {
     "name": "stdout",
     "output_type": "stream",
     "text": [
      "Validation Loss: 1.1020 | Validation Accuracy: 0.5922\n",
      "Epoch 139 | Train Loss: 0.8738 | Train Accuracy: 0.6325\n"
     ]
    },
    {
     "name": "stderr",
     "output_type": "stream",
     "text": [
      "\r",
      " 35%|███▌      | 140/400 [2:20:37<4:17:57, 59.53s/it]"
     ]
    },
    {
     "name": "stdout",
     "output_type": "stream",
     "text": [
      "Validation Loss: 1.0964 | Validation Accuracy: 0.5900\n",
      "Epoch 140 | Train Loss: 0.8732 | Train Accuracy: 0.6322\n"
     ]
    },
    {
     "name": "stderr",
     "output_type": "stream",
     "text": [
      "\r",
      " 35%|███▌      | 141/400 [2:21:36<4:16:20, 59.38s/it]"
     ]
    },
    {
     "name": "stdout",
     "output_type": "stream",
     "text": [
      "Validation Loss: 1.0916 | Validation Accuracy: 0.5914\n",
      "Epoch 141 | Train Loss: 0.8738 | Train Accuracy: 0.6330\n"
     ]
    },
    {
     "name": "stderr",
     "output_type": "stream",
     "text": [
      "\r",
      " 36%|███▌      | 142/400 [2:22:35<4:15:02, 59.31s/it]"
     ]
    },
    {
     "name": "stdout",
     "output_type": "stream",
     "text": [
      "Validation Loss: 1.0882 | Validation Accuracy: 0.5922\n",
      "Epoch 142 | Train Loss: 0.8724 | Train Accuracy: 0.6325\n"
     ]
    },
    {
     "name": "stderr",
     "output_type": "stream",
     "text": [
      "\r",
      " 36%|███▌      | 143/400 [2:23:34<4:13:32, 59.19s/it]"
     ]
    },
    {
     "name": "stdout",
     "output_type": "stream",
     "text": [
      "Validation Loss: 1.0847 | Validation Accuracy: 0.6005\n",
      "Epoch 143 | Train Loss: 0.8709 | Train Accuracy: 0.6336\n"
     ]
    },
    {
     "name": "stderr",
     "output_type": "stream",
     "text": [
      "\r",
      " 36%|███▌      | 144/400 [2:24:34<4:13:22, 59.39s/it]"
     ]
    },
    {
     "name": "stdout",
     "output_type": "stream",
     "text": [
      "Validation Loss: 1.0788 | Validation Accuracy: 0.6063\n",
      "Epoch 144 | Train Loss: 0.8737 | Train Accuracy: 0.6344\n"
     ]
    },
    {
     "name": "stderr",
     "output_type": "stream",
     "text": [
      "\r",
      " 36%|███▋      | 145/400 [2:25:34<4:13:08, 59.56s/it]"
     ]
    },
    {
     "name": "stdout",
     "output_type": "stream",
     "text": [
      "Validation Loss: 1.0748 | Validation Accuracy: 0.5958\n",
      "Epoch 145 | Train Loss: 0.8740 | Train Accuracy: 0.6335\n"
     ]
    },
    {
     "name": "stderr",
     "output_type": "stream",
     "text": [
      "\r",
      " 36%|███▋      | 146/400 [2:26:33<4:12:40, 59.69s/it]"
     ]
    },
    {
     "name": "stdout",
     "output_type": "stream",
     "text": [
      "Validation Loss: 1.0684 | Validation Accuracy: 0.5997\n",
      "Epoch 146 | Train Loss: 0.8748 | Train Accuracy: 0.6327\n"
     ]
    },
    {
     "name": "stderr",
     "output_type": "stream",
     "text": [
      "\r",
      " 37%|███▋      | 147/400 [2:27:33<4:11:42, 59.69s/it]"
     ]
    },
    {
     "name": "stdout",
     "output_type": "stream",
     "text": [
      "Validation Loss: 1.0780 | Validation Accuracy: 0.6001\n",
      "Epoch 147 | Train Loss: 0.8722 | Train Accuracy: 0.6332\n"
     ]
    },
    {
     "name": "stderr",
     "output_type": "stream",
     "text": [
      "\r",
      " 37%|███▋      | 148/400 [2:28:33<4:11:10, 59.81s/it]"
     ]
    },
    {
     "name": "stdout",
     "output_type": "stream",
     "text": [
      "Validation Loss: 1.0689 | Validation Accuracy: 0.6025\n",
      "Epoch 148 | Train Loss: 0.8692 | Train Accuracy: 0.6337\n"
     ]
    },
    {
     "name": "stderr",
     "output_type": "stream",
     "text": [
      "\r",
      " 37%|███▋      | 149/400 [2:29:33<4:09:42, 59.69s/it]"
     ]
    },
    {
     "name": "stdout",
     "output_type": "stream",
     "text": [
      "Validation Loss: 1.0654 | Validation Accuracy: 0.6109\n",
      "Epoch 149 | Train Loss: 0.8689 | Train Accuracy: 0.6340\n"
     ]
    },
    {
     "name": "stderr",
     "output_type": "stream",
     "text": [
      "\r",
      " 38%|███▊      | 150/400 [2:30:33<4:09:18, 59.83s/it]"
     ]
    },
    {
     "name": "stdout",
     "output_type": "stream",
     "text": [
      "Validation Loss: 1.0590 | Validation Accuracy: 0.6124\n",
      "Epoch 150 | Train Loss: 0.8673 | Train Accuracy: 0.6331\n"
     ]
    },
    {
     "name": "stderr",
     "output_type": "stream",
     "text": [
      "\r",
      " 38%|███▊      | 151/400 [2:31:33<4:08:34, 59.90s/it]"
     ]
    },
    {
     "name": "stdout",
     "output_type": "stream",
     "text": [
      "Validation Loss: 1.0468 | Validation Accuracy: 0.6143\n",
      "Epoch 151 | Train Loss: 0.8697 | Train Accuracy: 0.6326\n"
     ]
    },
    {
     "name": "stderr",
     "output_type": "stream",
     "text": [
      "\r",
      " 38%|███▊      | 152/400 [2:32:33<4:07:12, 59.81s/it]"
     ]
    },
    {
     "name": "stdout",
     "output_type": "stream",
     "text": [
      "Validation Loss: 1.0500 | Validation Accuracy: 0.6096\n",
      "Epoch 152 | Train Loss: 0.8672 | Train Accuracy: 0.6341\n"
     ]
    },
    {
     "name": "stderr",
     "output_type": "stream",
     "text": [
      "\r",
      " 38%|███▊      | 153/400 [2:33:34<4:08:01, 60.25s/it]"
     ]
    },
    {
     "name": "stdout",
     "output_type": "stream",
     "text": [
      "Validation Loss: 1.0439 | Validation Accuracy: 0.6143\n",
      "Epoch 153 | Train Loss: 0.8664 | Train Accuracy: 0.6332\n"
     ]
    },
    {
     "name": "stderr",
     "output_type": "stream",
     "text": [
      "\r",
      " 38%|███▊      | 154/400 [2:34:34<4:06:58, 60.24s/it]"
     ]
    },
    {
     "name": "stdout",
     "output_type": "stream",
     "text": [
      "Validation Loss: 1.0347 | Validation Accuracy: 0.6149\n",
      "Epoch 154 | Train Loss: 0.8659 | Train Accuracy: 0.6331\n"
     ]
    },
    {
     "name": "stderr",
     "output_type": "stream",
     "text": [
      "\r",
      " 39%|███▉      | 155/400 [2:35:33<4:04:46, 59.94s/it]"
     ]
    },
    {
     "name": "stdout",
     "output_type": "stream",
     "text": [
      "Validation Loss: 1.0254 | Validation Accuracy: 0.6143\n",
      "Epoch 155 | Train Loss: 0.8656 | Train Accuracy: 0.6337\n"
     ]
    },
    {
     "name": "stderr",
     "output_type": "stream",
     "text": [
      "\r",
      " 39%|███▉      | 156/400 [2:36:33<4:03:41, 59.92s/it]"
     ]
    },
    {
     "name": "stdout",
     "output_type": "stream",
     "text": [
      "Validation Loss: 1.0194 | Validation Accuracy: 0.6140\n",
      "Epoch 156 | Train Loss: 0.8654 | Train Accuracy: 0.6337\n"
     ]
    },
    {
     "name": "stderr",
     "output_type": "stream",
     "text": [
      "\r",
      " 39%|███▉      | 157/400 [2:37:33<4:02:37, 59.91s/it]"
     ]
    },
    {
     "name": "stdout",
     "output_type": "stream",
     "text": [
      "Validation Loss: 1.0151 | Validation Accuracy: 0.6139\n",
      "Epoch 157 | Train Loss: 0.8663 | Train Accuracy: 0.6342\n"
     ]
    },
    {
     "name": "stderr",
     "output_type": "stream",
     "text": [
      "\r",
      " 40%|███▉      | 158/400 [2:38:32<4:00:45, 59.69s/it]"
     ]
    },
    {
     "name": "stdout",
     "output_type": "stream",
     "text": [
      "Validation Loss: 1.0209 | Validation Accuracy: 0.6149\n",
      "Epoch 158 | Train Loss: 0.8652 | Train Accuracy: 0.6320\n"
     ]
    },
    {
     "name": "stderr",
     "output_type": "stream",
     "text": [
      "\r",
      " 40%|███▉      | 159/400 [2:39:33<4:00:59, 60.00s/it]"
     ]
    },
    {
     "name": "stdout",
     "output_type": "stream",
     "text": [
      "Validation Loss: 1.0149 | Validation Accuracy: 0.6157\n",
      "Epoch 159 | Train Loss: 0.8649 | Train Accuracy: 0.6332\n"
     ]
    },
    {
     "name": "stderr",
     "output_type": "stream",
     "text": [
      "\r",
      " 40%|████      | 160/400 [2:40:34<4:00:43, 60.18s/it]"
     ]
    },
    {
     "name": "stdout",
     "output_type": "stream",
     "text": [
      "Validation Loss: 1.0114 | Validation Accuracy: 0.6155\n",
      "Epoch 160 | Train Loss: 0.8646 | Train Accuracy: 0.6335\n"
     ]
    },
    {
     "name": "stderr",
     "output_type": "stream",
     "text": [
      "\r",
      " 40%|████      | 161/400 [2:41:34<3:59:49, 60.21s/it]"
     ]
    },
    {
     "name": "stdout",
     "output_type": "stream",
     "text": [
      "Validation Loss: 1.0075 | Validation Accuracy: 0.6149\n",
      "Epoch 161 | Train Loss: 0.8647 | Train Accuracy: 0.6321\n"
     ]
    },
    {
     "name": "stderr",
     "output_type": "stream",
     "text": [
      "\r",
      " 40%|████      | 162/400 [2:42:34<3:58:41, 60.18s/it]"
     ]
    },
    {
     "name": "stdout",
     "output_type": "stream",
     "text": [
      "Validation Loss: 1.0085 | Validation Accuracy: 0.6148\n",
      "Epoch 162 | Train Loss: 0.8666 | Train Accuracy: 0.6333\n"
     ]
    },
    {
     "name": "stderr",
     "output_type": "stream",
     "text": [
      "\r",
      " 41%|████      | 163/400 [2:43:34<3:58:05, 60.28s/it]"
     ]
    },
    {
     "name": "stdout",
     "output_type": "stream",
     "text": [
      "Validation Loss: 1.0069 | Validation Accuracy: 0.6180\n",
      "Epoch 163 | Train Loss: 0.8663 | Train Accuracy: 0.6333\n"
     ]
    },
    {
     "name": "stderr",
     "output_type": "stream",
     "text": [
      "\r",
      " 41%|████      | 164/400 [2:44:35<3:57:59, 60.51s/it]"
     ]
    },
    {
     "name": "stdout",
     "output_type": "stream",
     "text": [
      "Validation Loss: 1.0126 | Validation Accuracy: 0.6151\n",
      "Epoch 164 | Train Loss: 0.8645 | Train Accuracy: 0.6330\n"
     ]
    },
    {
     "name": "stderr",
     "output_type": "stream",
     "text": [
      "\r",
      " 41%|████▏     | 165/400 [2:45:34<3:54:38, 59.91s/it]"
     ]
    },
    {
     "name": "stdout",
     "output_type": "stream",
     "text": [
      "Validation Loss: 1.0097 | Validation Accuracy: 0.6151\n",
      "Epoch 165 | Train Loss: 0.8641 | Train Accuracy: 0.6330\n"
     ]
    },
    {
     "name": "stderr",
     "output_type": "stream",
     "text": [
      "\r",
      " 42%|████▏     | 166/400 [2:46:32<3:51:34, 59.38s/it]"
     ]
    },
    {
     "name": "stdout",
     "output_type": "stream",
     "text": [
      "Validation Loss: 1.0050 | Validation Accuracy: 0.6157\n",
      "Epoch 166 | Train Loss: 0.8658 | Train Accuracy: 0.6317\n"
     ]
    },
    {
     "name": "stderr",
     "output_type": "stream",
     "text": [
      "\r",
      " 42%|████▏     | 167/400 [2:47:32<3:51:03, 59.50s/it]"
     ]
    },
    {
     "name": "stdout",
     "output_type": "stream",
     "text": [
      "Validation Loss: 1.0145 | Validation Accuracy: 0.6148\n",
      "Epoch 167 | Train Loss: 0.8653 | Train Accuracy: 0.6331\n"
     ]
    },
    {
     "name": "stderr",
     "output_type": "stream",
     "text": [
      "\r",
      " 42%|████▏     | 168/400 [2:48:31<3:49:45, 59.42s/it]"
     ]
    },
    {
     "name": "stdout",
     "output_type": "stream",
     "text": [
      "Validation Loss: 1.0117 | Validation Accuracy: 0.6154\n",
      "Epoch 168 | Train Loss: 0.8640 | Train Accuracy: 0.6334\n"
     ]
    },
    {
     "name": "stderr",
     "output_type": "stream",
     "text": [
      "\r",
      " 42%|████▏     | 169/400 [2:49:33<3:51:54, 60.24s/it]"
     ]
    },
    {
     "name": "stdout",
     "output_type": "stream",
     "text": [
      "Validation Loss: 1.0067 | Validation Accuracy: 0.6155\n",
      "Epoch 169 | Train Loss: 0.8635 | Train Accuracy: 0.6328\n"
     ]
    },
    {
     "name": "stderr",
     "output_type": "stream",
     "text": [
      "\r",
      " 42%|████▎     | 170/400 [2:50:34<3:51:51, 60.48s/it]"
     ]
    },
    {
     "name": "stdout",
     "output_type": "stream",
     "text": [
      "Validation Loss: 1.0045 | Validation Accuracy: 0.6159\n",
      "Epoch 170 | Train Loss: 0.8642 | Train Accuracy: 0.6338\n"
     ]
    },
    {
     "name": "stderr",
     "output_type": "stream",
     "text": [
      "\r",
      " 43%|████▎     | 171/400 [2:51:34<3:49:43, 60.19s/it]"
     ]
    },
    {
     "name": "stdout",
     "output_type": "stream",
     "text": [
      "Validation Loss: 1.0077 | Validation Accuracy: 0.6151\n",
      "Epoch 171 | Train Loss: 0.8657 | Train Accuracy: 0.6333\n"
     ]
    },
    {
     "name": "stderr",
     "output_type": "stream",
     "text": [
      "\r",
      " 43%|████▎     | 172/400 [2:52:34<3:48:23, 60.10s/it]"
     ]
    },
    {
     "name": "stdout",
     "output_type": "stream",
     "text": [
      "Validation Loss: 1.0168 | Validation Accuracy: 0.6148\n",
      "Epoch 172 | Train Loss: 0.8641 | Train Accuracy: 0.6326\n"
     ]
    },
    {
     "name": "stderr",
     "output_type": "stream",
     "text": [
      "\r",
      " 43%|████▎     | 173/400 [2:53:34<3:47:59, 60.26s/it]"
     ]
    },
    {
     "name": "stdout",
     "output_type": "stream",
     "text": [
      "Validation Loss: 1.0119 | Validation Accuracy: 0.6174\n",
      "Epoch 173 | Train Loss: 0.8656 | Train Accuracy: 0.6329\n"
     ]
    },
    {
     "name": "stderr",
     "output_type": "stream",
     "text": [
      "\r",
      " 44%|████▎     | 174/400 [2:54:34<3:46:37, 60.16s/it]"
     ]
    },
    {
     "name": "stdout",
     "output_type": "stream",
     "text": [
      "Validation Loss: 1.0155 | Validation Accuracy: 0.6153\n",
      "Epoch 174 | Train Loss: 0.8637 | Train Accuracy: 0.6327\n"
     ]
    },
    {
     "name": "stderr",
     "output_type": "stream",
     "text": [
      "\r",
      " 44%|████▍     | 175/400 [2:55:35<3:45:48, 60.22s/it]"
     ]
    },
    {
     "name": "stdout",
     "output_type": "stream",
     "text": [
      "Validation Loss: 1.0107 | Validation Accuracy: 0.6169\n",
      "Epoch 175 | Train Loss: 0.8637 | Train Accuracy: 0.6333\n"
     ]
    },
    {
     "name": "stderr",
     "output_type": "stream",
     "text": [
      "\r",
      " 44%|████▍     | 176/400 [2:56:35<3:45:09, 60.31s/it]"
     ]
    },
    {
     "name": "stdout",
     "output_type": "stream",
     "text": [
      "Validation Loss: 1.0091 | Validation Accuracy: 0.6155\n",
      "Epoch 176 | Train Loss: 0.8634 | Train Accuracy: 0.6335\n"
     ]
    },
    {
     "name": "stderr",
     "output_type": "stream",
     "text": [
      "\r",
      " 44%|████▍     | 177/400 [2:57:36<3:44:30, 60.41s/it]"
     ]
    },
    {
     "name": "stdout",
     "output_type": "stream",
     "text": [
      "Validation Loss: 1.0069 | Validation Accuracy: 0.6152\n",
      "Epoch 177 | Train Loss: 0.8643 | Train Accuracy: 0.6334\n"
     ]
    },
    {
     "name": "stderr",
     "output_type": "stream",
     "text": [
      "\r",
      " 44%|████▍     | 178/400 [2:58:38<3:45:44, 61.01s/it]"
     ]
    },
    {
     "name": "stdout",
     "output_type": "stream",
     "text": [
      "Validation Loss: 1.0070 | Validation Accuracy: 0.6063\n",
      "Epoch 178 | Train Loss: 0.8636 | Train Accuracy: 0.6337\n"
     ]
    },
    {
     "name": "stderr",
     "output_type": "stream",
     "text": [
      "\r",
      " 45%|████▍     | 179/400 [2:59:38<3:43:03, 60.56s/it]"
     ]
    },
    {
     "name": "stdout",
     "output_type": "stream",
     "text": [
      "Validation Loss: 1.0068 | Validation Accuracy: 0.6155\n",
      "Epoch 179 | Train Loss: 0.8632 | Train Accuracy: 0.6333\n"
     ]
    },
    {
     "name": "stderr",
     "output_type": "stream",
     "text": [
      "\r",
      " 45%|████▌     | 180/400 [3:00:37<3:40:56, 60.26s/it]"
     ]
    },
    {
     "name": "stdout",
     "output_type": "stream",
     "text": [
      "Validation Loss: 1.0051 | Validation Accuracy: 0.6147\n",
      "Epoch 180 | Train Loss: 0.8632 | Train Accuracy: 0.6330\n"
     ]
    },
    {
     "name": "stderr",
     "output_type": "stream",
     "text": [
      "\r",
      " 45%|████▌     | 181/400 [3:01:38<3:40:28, 60.40s/it]"
     ]
    },
    {
     "name": "stdout",
     "output_type": "stream",
     "text": [
      "Validation Loss: 1.0037 | Validation Accuracy: 0.5926\n",
      "Epoch 181 | Train Loss: 0.8641 | Train Accuracy: 0.6345\n"
     ]
    },
    {
     "name": "stderr",
     "output_type": "stream",
     "text": [
      "\r",
      " 46%|████▌     | 182/400 [3:02:38<3:39:20, 60.37s/it]"
     ]
    },
    {
     "name": "stdout",
     "output_type": "stream",
     "text": [
      "Validation Loss: 1.0074 | Validation Accuracy: 0.6171\n",
      "Epoch 182 | Train Loss: 0.8629 | Train Accuracy: 0.6326\n"
     ]
    },
    {
     "name": "stderr",
     "output_type": "stream",
     "text": [
      "\r",
      " 46%|████▌     | 183/400 [3:03:38<3:38:05, 60.30s/it]"
     ]
    },
    {
     "name": "stdout",
     "output_type": "stream",
     "text": [
      "Validation Loss: 1.0039 | Validation Accuracy: 0.6112\n",
      "Epoch 183 | Train Loss: 0.8658 | Train Accuracy: 0.6324\n"
     ]
    },
    {
     "name": "stderr",
     "output_type": "stream",
     "text": [
      "\r",
      " 46%|████▌     | 184/400 [3:04:38<3:36:29, 60.14s/it]"
     ]
    },
    {
     "name": "stdout",
     "output_type": "stream",
     "text": [
      "Validation Loss: 1.0100 | Validation Accuracy: 0.6066\n",
      "Epoch 184 | Train Loss: 0.8636 | Train Accuracy: 0.6341\n"
     ]
    },
    {
     "name": "stderr",
     "output_type": "stream",
     "text": [
      "\r",
      " 46%|████▋     | 185/400 [3:05:41<3:38:09, 60.88s/it]"
     ]
    },
    {
     "name": "stdout",
     "output_type": "stream",
     "text": [
      "Validation Loss: 1.0150 | Validation Accuracy: 0.6180\n",
      "Epoch 185 | Train Loss: 0.8626 | Train Accuracy: 0.6316\n"
     ]
    },
    {
     "name": "stderr",
     "output_type": "stream",
     "text": [
      "\r",
      " 46%|████▋     | 186/400 [3:06:42<3:37:36, 61.01s/it]"
     ]
    },
    {
     "name": "stdout",
     "output_type": "stream",
     "text": [
      "Validation Loss: 1.0115 | Validation Accuracy: 0.6183\n",
      "Epoch 186 | Train Loss: 0.8625 | Train Accuracy: 0.6325\n"
     ]
    },
    {
     "name": "stderr",
     "output_type": "stream",
     "text": [
      "\r",
      " 47%|████▋     | 187/400 [3:07:41<3:34:40, 60.47s/it]"
     ]
    },
    {
     "name": "stdout",
     "output_type": "stream",
     "text": [
      "Validation Loss: 1.0090 | Validation Accuracy: 0.6171\n",
      "Epoch 187 | Train Loss: 0.8625 | Train Accuracy: 0.6331\n"
     ]
    },
    {
     "name": "stderr",
     "output_type": "stream",
     "text": [
      "\r",
      " 47%|████▋     | 188/400 [3:08:40<3:31:50, 59.96s/it]"
     ]
    },
    {
     "name": "stdout",
     "output_type": "stream",
     "text": [
      "Validation Loss: 1.0074 | Validation Accuracy: 0.6178\n",
      "Epoch 188 | Train Loss: 0.8625 | Train Accuracy: 0.6322\n"
     ]
    },
    {
     "name": "stderr",
     "output_type": "stream",
     "text": [
      "\r",
      " 47%|████▋     | 189/400 [3:09:40<3:30:27, 59.84s/it]"
     ]
    },
    {
     "name": "stdout",
     "output_type": "stream",
     "text": [
      "Validation Loss: 1.0087 | Validation Accuracy: 0.6169\n",
      "Epoch 189 | Train Loss: 0.8642 | Train Accuracy: 0.6341\n"
     ]
    },
    {
     "name": "stderr",
     "output_type": "stream",
     "text": [
      "\r",
      " 48%|████▊     | 190/400 [3:10:40<3:29:59, 60.00s/it]"
     ]
    },
    {
     "name": "stdout",
     "output_type": "stream",
     "text": [
      "Validation Loss: 1.0147 | Validation Accuracy: 0.6134\n",
      "Epoch 190 | Train Loss: 0.8734 | Train Accuracy: 0.6312\n"
     ]
    },
    {
     "name": "stderr",
     "output_type": "stream",
     "text": [
      "\r",
      " 48%|████▊     | 191/400 [3:11:39<3:28:25, 59.83s/it]"
     ]
    },
    {
     "name": "stdout",
     "output_type": "stream",
     "text": [
      "Validation Loss: 1.0283 | Validation Accuracy: 0.6218\n",
      "Epoch 191 | Train Loss: 0.8637 | Train Accuracy: 0.6334\n"
     ]
    },
    {
     "name": "stderr",
     "output_type": "stream",
     "text": [
      "\r",
      " 48%|████▊     | 192/400 [3:12:40<3:27:42, 59.92s/it]"
     ]
    },
    {
     "name": "stdout",
     "output_type": "stream",
     "text": [
      "Validation Loss: 1.0261 | Validation Accuracy: 0.6178\n",
      "Epoch 192 | Train Loss: 0.8629 | Train Accuracy: 0.6311\n"
     ]
    },
    {
     "name": "stderr",
     "output_type": "stream",
     "text": [
      "\r",
      " 48%|████▊     | 193/400 [3:13:38<3:25:10, 59.47s/it]"
     ]
    },
    {
     "name": "stdout",
     "output_type": "stream",
     "text": [
      "Validation Loss: 1.0243 | Validation Accuracy: 0.6183\n",
      "Epoch 193 | Train Loss: 0.8638 | Train Accuracy: 0.6309\n"
     ]
    },
    {
     "name": "stderr",
     "output_type": "stream",
     "text": [
      "\r",
      " 48%|████▊     | 194/400 [3:14:37<3:23:28, 59.26s/it]"
     ]
    },
    {
     "name": "stdout",
     "output_type": "stream",
     "text": [
      "Validation Loss: 1.0250 | Validation Accuracy: 0.6180\n",
      "Epoch 194 | Train Loss: 0.8622 | Train Accuracy: 0.6315\n"
     ]
    },
    {
     "name": "stderr",
     "output_type": "stream",
     "text": [
      "\r",
      " 49%|████▉     | 195/400 [3:15:38<3:24:46, 59.93s/it]"
     ]
    },
    {
     "name": "stdout",
     "output_type": "stream",
     "text": [
      "Validation Loss: 1.0204 | Validation Accuracy: 0.6186\n",
      "Epoch 195 | Train Loss: 0.8622 | Train Accuracy: 0.6328\n"
     ]
    },
    {
     "name": "stderr",
     "output_type": "stream",
     "text": [
      "\r",
      " 49%|████▉     | 196/400 [3:16:39<3:24:21, 60.10s/it]"
     ]
    },
    {
     "name": "stdout",
     "output_type": "stream",
     "text": [
      "Validation Loss: 1.0181 | Validation Accuracy: 0.6175\n",
      "Epoch 196 | Train Loss: 0.8625 | Train Accuracy: 0.6331\n"
     ]
    },
    {
     "name": "stderr",
     "output_type": "stream",
     "text": [
      "\r",
      " 49%|████▉     | 197/400 [3:17:40<3:24:16, 60.38s/it]"
     ]
    },
    {
     "name": "stdout",
     "output_type": "stream",
     "text": [
      "Validation Loss: 1.0180 | Validation Accuracy: 0.6169\n",
      "Epoch 197 | Train Loss: 0.8621 | Train Accuracy: 0.6328\n"
     ]
    },
    {
     "name": "stderr",
     "output_type": "stream",
     "text": [
      "\r",
      " 50%|████▉     | 198/400 [3:18:40<3:22:50, 60.25s/it]"
     ]
    },
    {
     "name": "stdout",
     "output_type": "stream",
     "text": [
      "Validation Loss: 1.0159 | Validation Accuracy: 0.6172\n",
      "Epoch 198 | Train Loss: 0.8621 | Train Accuracy: 0.6331\n"
     ]
    },
    {
     "name": "stderr",
     "output_type": "stream",
     "text": [
      "\r",
      " 50%|████▉     | 199/400 [3:19:40<3:21:25, 60.13s/it]"
     ]
    },
    {
     "name": "stdout",
     "output_type": "stream",
     "text": [
      "Validation Loss: 1.0129 | Validation Accuracy: 0.6134\n",
      "Epoch 199 | Train Loss: 0.8621 | Train Accuracy: 0.6328\n"
     ]
    },
    {
     "name": "stderr",
     "output_type": "stream",
     "text": [
      "\r",
      " 50%|█████     | 200/400 [3:20:40<3:20:18, 60.09s/it]"
     ]
    },
    {
     "name": "stdout",
     "output_type": "stream",
     "text": [
      "Validation Loss: 1.0140 | Validation Accuracy: 0.6171\n",
      "Epoch 200 | Train Loss: 0.8620 | Train Accuracy: 0.6327\n"
     ]
    },
    {
     "name": "stderr",
     "output_type": "stream",
     "text": [
      "\r",
      " 50%|█████     | 201/400 [3:21:42<3:21:20, 60.71s/it]"
     ]
    },
    {
     "name": "stdout",
     "output_type": "stream",
     "text": [
      "Validation Loss: 1.0134 | Validation Accuracy: 0.6170\n",
      "Epoch 201 | Train Loss: 0.8619 | Train Accuracy: 0.6329\n"
     ]
    },
    {
     "name": "stderr",
     "output_type": "stream",
     "text": [
      "\r",
      " 50%|█████     | 202/400 [3:22:42<3:19:52, 60.57s/it]"
     ]
    },
    {
     "name": "stdout",
     "output_type": "stream",
     "text": [
      "Validation Loss: 1.0127 | Validation Accuracy: 0.6171\n",
      "Epoch 202 | Train Loss: 0.8618 | Train Accuracy: 0.6330\n"
     ]
    },
    {
     "name": "stderr",
     "output_type": "stream",
     "text": [
      "\r",
      " 51%|█████     | 203/400 [3:23:42<3:18:10, 60.36s/it]"
     ]
    },
    {
     "name": "stdout",
     "output_type": "stream",
     "text": [
      "Validation Loss: 1.0123 | Validation Accuracy: 0.6170\n",
      "Epoch 203 | Train Loss: 0.8618 | Train Accuracy: 0.6325\n"
     ]
    },
    {
     "name": "stderr",
     "output_type": "stream",
     "text": [
      "\r",
      " 51%|█████     | 204/400 [3:24:42<3:16:33, 60.17s/it]"
     ]
    },
    {
     "name": "stdout",
     "output_type": "stream",
     "text": [
      "Validation Loss: 1.0125 | Validation Accuracy: 0.6171\n",
      "Epoch 204 | Train Loss: 0.8618 | Train Accuracy: 0.6330\n"
     ]
    },
    {
     "name": "stderr",
     "output_type": "stream",
     "text": [
      "\r",
      " 51%|█████▏    | 205/400 [3:25:43<3:16:26, 60.44s/it]"
     ]
    },
    {
     "name": "stdout",
     "output_type": "stream",
     "text": [
      "Validation Loss: 1.0120 | Validation Accuracy: 0.6171\n",
      "Epoch 205 | Train Loss: 0.8617 | Train Accuracy: 0.6328\n"
     ]
    },
    {
     "name": "stderr",
     "output_type": "stream",
     "text": [
      "\r",
      " 52%|█████▏    | 206/400 [3:26:44<3:15:57, 60.61s/it]"
     ]
    },
    {
     "name": "stdout",
     "output_type": "stream",
     "text": [
      "Validation Loss: 1.0115 | Validation Accuracy: 0.6178\n",
      "Epoch 206 | Train Loss: 0.8638 | Train Accuracy: 0.6337\n"
     ]
    },
    {
     "name": "stderr",
     "output_type": "stream",
     "text": [
      "\r",
      " 52%|█████▏    | 207/400 [3:27:43<3:13:54, 60.28s/it]"
     ]
    },
    {
     "name": "stdout",
     "output_type": "stream",
     "text": [
      "Validation Loss: 1.0154 | Validation Accuracy: 0.6170\n",
      "Epoch 207 | Train Loss: 0.8619 | Train Accuracy: 0.6306\n"
     ]
    },
    {
     "name": "stderr",
     "output_type": "stream",
     "text": [
      "\r",
      " 52%|█████▏    | 208/400 [3:28:43<3:12:54, 60.29s/it]"
     ]
    },
    {
     "name": "stdout",
     "output_type": "stream",
     "text": [
      "Validation Loss: 1.0190 | Validation Accuracy: 0.6178\n",
      "Epoch 208 | Train Loss: 0.8609 | Train Accuracy: 0.6297\n"
     ]
    },
    {
     "name": "stderr",
     "output_type": "stream",
     "text": [
      "\r",
      " 52%|█████▏    | 209/400 [3:29:43<3:11:30, 60.16s/it]"
     ]
    },
    {
     "name": "stdout",
     "output_type": "stream",
     "text": [
      "Validation Loss: 1.0157 | Validation Accuracy: 0.6183\n",
      "Epoch 209 | Train Loss: 0.8610 | Train Accuracy: 0.6304\n"
     ]
    },
    {
     "name": "stderr",
     "output_type": "stream",
     "text": [
      "\r",
      " 52%|█████▎    | 210/400 [3:30:43<3:10:16, 60.08s/it]"
     ]
    },
    {
     "name": "stdout",
     "output_type": "stream",
     "text": [
      "Validation Loss: 1.0142 | Validation Accuracy: 0.6193\n",
      "Epoch 210 | Train Loss: 0.8613 | Train Accuracy: 0.6321\n"
     ]
    },
    {
     "name": "stderr",
     "output_type": "stream",
     "text": [
      "\r",
      " 53%|█████▎    | 211/400 [3:31:44<3:09:29, 60.15s/it]"
     ]
    },
    {
     "name": "stdout",
     "output_type": "stream",
     "text": [
      "Validation Loss: 1.0138 | Validation Accuracy: 0.6183\n",
      "Epoch 211 | Train Loss: 0.8614 | Train Accuracy: 0.6329\n"
     ]
    },
    {
     "name": "stderr",
     "output_type": "stream",
     "text": [
      "\r",
      " 53%|█████▎    | 212/400 [3:32:42<3:07:00, 59.69s/it]"
     ]
    },
    {
     "name": "stdout",
     "output_type": "stream",
     "text": [
      "Validation Loss: 1.0135 | Validation Accuracy: 0.6183\n",
      "Epoch 212 | Train Loss: 0.8613 | Train Accuracy: 0.6326\n"
     ]
    },
    {
     "name": "stderr",
     "output_type": "stream",
     "text": [
      "\r",
      " 53%|█████▎    | 213/400 [3:33:43<3:07:23, 60.13s/it]"
     ]
    },
    {
     "name": "stdout",
     "output_type": "stream",
     "text": [
      "Validation Loss: 1.0128 | Validation Accuracy: 0.6190\n",
      "Epoch 213 | Train Loss: 0.8613 | Train Accuracy: 0.6321\n"
     ]
    },
    {
     "name": "stderr",
     "output_type": "stream",
     "text": [
      "\r",
      " 54%|█████▎    | 214/400 [3:34:44<3:06:43, 60.23s/it]"
     ]
    },
    {
     "name": "stdout",
     "output_type": "stream",
     "text": [
      "Validation Loss: 1.0136 | Validation Accuracy: 0.6191\n",
      "Epoch 214 | Train Loss: 0.8609 | Train Accuracy: 0.6305\n"
     ]
    },
    {
     "name": "stderr",
     "output_type": "stream",
     "text": [
      "\r",
      " 54%|█████▍    | 215/400 [3:35:44<3:06:03, 60.34s/it]"
     ]
    },
    {
     "name": "stdout",
     "output_type": "stream",
     "text": [
      "Validation Loss: 1.0117 | Validation Accuracy: 0.6191\n",
      "Epoch 215 | Train Loss: 0.8607 | Train Accuracy: 0.6307\n"
     ]
    },
    {
     "name": "stderr",
     "output_type": "stream",
     "text": [
      "\r",
      " 54%|█████▍    | 216/400 [3:36:44<3:04:26, 60.15s/it]"
     ]
    },
    {
     "name": "stdout",
     "output_type": "stream",
     "text": [
      "Validation Loss: 1.0107 | Validation Accuracy: 0.6071\n",
      "Epoch 216 | Train Loss: 0.8615 | Train Accuracy: 0.6311\n"
     ]
    },
    {
     "name": "stderr",
     "output_type": "stream",
     "text": [
      "\r",
      " 54%|█████▍    | 217/400 [3:37:45<3:03:46, 60.25s/it]"
     ]
    },
    {
     "name": "stdout",
     "output_type": "stream",
     "text": [
      "Validation Loss: 1.0120 | Validation Accuracy: 0.6189\n",
      "Epoch 217 | Train Loss: 0.8603 | Train Accuracy: 0.6294\n"
     ]
    },
    {
     "name": "stderr",
     "output_type": "stream",
     "text": [
      "\r",
      " 55%|█████▍    | 218/400 [3:38:45<3:03:12, 60.40s/it]"
     ]
    },
    {
     "name": "stdout",
     "output_type": "stream",
     "text": [
      "Validation Loss: 1.0098 | Validation Accuracy: 0.6177\n",
      "Epoch 218 | Train Loss: 0.8602 | Train Accuracy: 0.6291\n"
     ]
    },
    {
     "name": "stderr",
     "output_type": "stream",
     "text": [
      "\r",
      " 55%|█████▍    | 219/400 [3:39:44<3:00:54, 59.97s/it]"
     ]
    },
    {
     "name": "stdout",
     "output_type": "stream",
     "text": [
      "Validation Loss: 1.0084 | Validation Accuracy: 0.6178\n",
      "Epoch 219 | Train Loss: 0.8600 | Train Accuracy: 0.6294\n"
     ]
    },
    {
     "name": "stderr",
     "output_type": "stream",
     "text": [
      "\r",
      " 55%|█████▌    | 220/400 [3:40:44<2:59:33, 59.85s/it]"
     ]
    },
    {
     "name": "stdout",
     "output_type": "stream",
     "text": [
      "Validation Loss: 1.0075 | Validation Accuracy: 0.6178\n",
      "Epoch 220 | Train Loss: 0.8600 | Train Accuracy: 0.6294\n"
     ]
    },
    {
     "name": "stderr",
     "output_type": "stream",
     "text": [
      "\r",
      " 55%|█████▌    | 221/400 [3:41:43<2:58:14, 59.75s/it]"
     ]
    },
    {
     "name": "stdout",
     "output_type": "stream",
     "text": [
      "Validation Loss: 1.0067 | Validation Accuracy: 0.6180\n",
      "Epoch 221 | Train Loss: 0.8599 | Train Accuracy: 0.6295\n"
     ]
    },
    {
     "name": "stderr",
     "output_type": "stream",
     "text": [
      "\r",
      " 56%|█████▌    | 222/400 [3:42:44<2:57:54, 59.97s/it]"
     ]
    },
    {
     "name": "stdout",
     "output_type": "stream",
     "text": [
      "Validation Loss: 1.0060 | Validation Accuracy: 0.6182\n",
      "Epoch 222 | Train Loss: 0.8599 | Train Accuracy: 0.6295\n"
     ]
    },
    {
     "name": "stderr",
     "output_type": "stream",
     "text": [
      "\r",
      " 56%|█████▌    | 223/400 [3:43:44<2:56:55, 59.97s/it]"
     ]
    },
    {
     "name": "stdout",
     "output_type": "stream",
     "text": [
      "Validation Loss: 1.0054 | Validation Accuracy: 0.6183\n",
      "Epoch 223 | Train Loss: 0.8599 | Train Accuracy: 0.6295\n"
     ]
    },
    {
     "name": "stderr",
     "output_type": "stream",
     "text": [
      "\r",
      " 56%|█████▌    | 224/400 [3:44:44<2:56:22, 60.13s/it]"
     ]
    },
    {
     "name": "stdout",
     "output_type": "stream",
     "text": [
      "Validation Loss: 1.0049 | Validation Accuracy: 0.6183\n",
      "Epoch 224 | Train Loss: 0.8598 | Train Accuracy: 0.6294\n"
     ]
    },
    {
     "name": "stderr",
     "output_type": "stream",
     "text": [
      "\r",
      " 56%|█████▋    | 225/400 [3:45:45<2:55:28, 60.16s/it]"
     ]
    },
    {
     "name": "stdout",
     "output_type": "stream",
     "text": [
      "Validation Loss: 1.0044 | Validation Accuracy: 0.6185\n",
      "Epoch 225 | Train Loss: 0.8598 | Train Accuracy: 0.6295\n"
     ]
    },
    {
     "name": "stderr",
     "output_type": "stream",
     "text": [
      "\r",
      " 56%|█████▋    | 226/400 [3:46:44<2:54:02, 60.02s/it]"
     ]
    },
    {
     "name": "stdout",
     "output_type": "stream",
     "text": [
      "Validation Loss: 1.0041 | Validation Accuracy: 0.6189\n",
      "Epoch 226 | Train Loss: 0.8597 | Train Accuracy: 0.6293\n"
     ]
    },
    {
     "name": "stderr",
     "output_type": "stream",
     "text": [
      "\r",
      " 57%|█████▋    | 227/400 [3:47:44<2:52:46, 59.92s/it]"
     ]
    },
    {
     "name": "stdout",
     "output_type": "stream",
     "text": [
      "Validation Loss: 1.0037 | Validation Accuracy: 0.6190\n",
      "Epoch 227 | Train Loss: 0.8957 | Train Accuracy: 0.6294\n"
     ]
    },
    {
     "name": "stderr",
     "output_type": "stream",
     "text": [
      "\r",
      " 57%|█████▋    | 228/400 [3:48:44<2:51:37, 59.87s/it]"
     ]
    },
    {
     "name": "stdout",
     "output_type": "stream",
     "text": [
      "Validation Loss: 1.0230 | Validation Accuracy: 0.6159\n",
      "Epoch 228 | Train Loss: 0.8612 | Train Accuracy: 0.6307\n"
     ]
    },
    {
     "name": "stderr",
     "output_type": "stream",
     "text": [
      "\r",
      " 57%|█████▋    | 229/400 [3:49:43<2:50:28, 59.81s/it]"
     ]
    },
    {
     "name": "stdout",
     "output_type": "stream",
     "text": [
      "Validation Loss: 1.0203 | Validation Accuracy: 0.6180\n",
      "Epoch 229 | Train Loss: 0.8598 | Train Accuracy: 0.6289\n"
     ]
    },
    {
     "name": "stderr",
     "output_type": "stream",
     "text": [
      "\r",
      " 57%|█████▊    | 230/400 [3:50:44<2:50:12, 60.07s/it]"
     ]
    },
    {
     "name": "stdout",
     "output_type": "stream",
     "text": [
      "Validation Loss: 1.0175 | Validation Accuracy: 0.6131\n",
      "Epoch 230 | Train Loss: 0.8594 | Train Accuracy: 0.6263\n"
     ]
    },
    {
     "name": "stderr",
     "output_type": "stream",
     "text": [
      "\r",
      " 58%|█████▊    | 231/400 [3:51:44<2:48:58, 59.99s/it]"
     ]
    },
    {
     "name": "stdout",
     "output_type": "stream",
     "text": [
      "Validation Loss: 1.0147 | Validation Accuracy: 0.6117\n",
      "Epoch 231 | Train Loss: 0.8590 | Train Accuracy: 0.6270\n"
     ]
    },
    {
     "name": "stderr",
     "output_type": "stream",
     "text": [
      "\r",
      " 58%|█████▊    | 232/400 [3:52:46<2:49:49, 60.65s/it]"
     ]
    },
    {
     "name": "stdout",
     "output_type": "stream",
     "text": [
      "Validation Loss: 1.0125 | Validation Accuracy: 0.6145\n",
      "Epoch 232 | Train Loss: 0.8592 | Train Accuracy: 0.6283\n"
     ]
    },
    {
     "name": "stderr",
     "output_type": "stream",
     "text": [
      "\r",
      " 58%|█████▊    | 233/400 [3:53:46<2:48:27, 60.52s/it]"
     ]
    },
    {
     "name": "stdout",
     "output_type": "stream",
     "text": [
      "Validation Loss: 1.0114 | Validation Accuracy: 0.6165\n",
      "Epoch 233 | Train Loss: 0.8595 | Train Accuracy: 0.6292\n"
     ]
    },
    {
     "name": "stderr",
     "output_type": "stream",
     "text": [
      "\r",
      " 58%|█████▊    | 234/400 [3:54:46<2:47:10, 60.43s/it]"
     ]
    },
    {
     "name": "stdout",
     "output_type": "stream",
     "text": [
      "Validation Loss: 1.0106 | Validation Accuracy: 0.6178\n",
      "Epoch 234 | Train Loss: 0.8595 | Train Accuracy: 0.6295\n"
     ]
    },
    {
     "name": "stderr",
     "output_type": "stream",
     "text": [
      "\r",
      " 59%|█████▉    | 235/400 [3:55:47<2:45:54, 60.33s/it]"
     ]
    },
    {
     "name": "stdout",
     "output_type": "stream",
     "text": [
      "Validation Loss: 1.0100 | Validation Accuracy: 0.6183\n",
      "Epoch 235 | Train Loss: 0.8596 | Train Accuracy: 0.6292\n"
     ]
    },
    {
     "name": "stderr",
     "output_type": "stream",
     "text": [
      "\r",
      " 59%|█████▉    | 236/400 [3:56:46<2:44:18, 60.12s/it]"
     ]
    },
    {
     "name": "stdout",
     "output_type": "stream",
     "text": [
      "Validation Loss: 1.0094 | Validation Accuracy: 0.6183\n",
      "Epoch 236 | Train Loss: 0.8597 | Train Accuracy: 0.6294\n"
     ]
    },
    {
     "name": "stderr",
     "output_type": "stream",
     "text": [
      "\r",
      " 59%|█████▉    | 237/400 [3:57:47<2:44:07, 60.41s/it]"
     ]
    },
    {
     "name": "stdout",
     "output_type": "stream",
     "text": [
      "Validation Loss: 1.0091 | Validation Accuracy: 0.6196\n",
      "Epoch 237 | Train Loss: 0.8595 | Train Accuracy: 0.6294\n"
     ]
    },
    {
     "name": "stderr",
     "output_type": "stream",
     "text": [
      "\r",
      " 60%|█████▉    | 238/400 [3:58:48<2:43:00, 60.38s/it]"
     ]
    },
    {
     "name": "stdout",
     "output_type": "stream",
     "text": [
      "Validation Loss: 1.0082 | Validation Accuracy: 0.6190\n",
      "Epoch 238 | Train Loss: 0.8595 | Train Accuracy: 0.6293\n"
     ]
    },
    {
     "name": "stderr",
     "output_type": "stream",
     "text": [
      "\r",
      " 60%|█████▉    | 239/400 [3:59:47<2:41:33, 60.21s/it]"
     ]
    },
    {
     "name": "stdout",
     "output_type": "stream",
     "text": [
      "Validation Loss: 1.0078 | Validation Accuracy: 0.6193\n",
      "Epoch 239 | Train Loss: 0.8595 | Train Accuracy: 0.6293\n"
     ]
    },
    {
     "name": "stderr",
     "output_type": "stream",
     "text": [
      "\r",
      " 60%|██████    | 240/400 [4:00:48<2:40:54, 60.34s/it]"
     ]
    },
    {
     "name": "stdout",
     "output_type": "stream",
     "text": [
      "Validation Loss: 1.0074 | Validation Accuracy: 0.6190\n",
      "Epoch 240 | Train Loss: 0.8594 | Train Accuracy: 0.6295\n"
     ]
    },
    {
     "name": "stderr",
     "output_type": "stream",
     "text": [
      "\r",
      " 60%|██████    | 241/400 [4:01:49<2:40:10, 60.44s/it]"
     ]
    },
    {
     "name": "stdout",
     "output_type": "stream",
     "text": [
      "Validation Loss: 1.0070 | Validation Accuracy: 0.6193\n",
      "Epoch 241 | Train Loss: 0.8594 | Train Accuracy: 0.6295\n"
     ]
    },
    {
     "name": "stderr",
     "output_type": "stream",
     "text": [
      "\r",
      " 60%|██████    | 242/400 [4:02:48<2:38:09, 60.06s/it]"
     ]
    },
    {
     "name": "stdout",
     "output_type": "stream",
     "text": [
      "Validation Loss: 1.0066 | Validation Accuracy: 0.6192\n",
      "Epoch 242 | Train Loss: 0.8594 | Train Accuracy: 0.6296\n"
     ]
    },
    {
     "name": "stderr",
     "output_type": "stream",
     "text": [
      "\r",
      " 61%|██████    | 243/400 [4:03:49<2:37:39, 60.25s/it]"
     ]
    },
    {
     "name": "stdout",
     "output_type": "stream",
     "text": [
      "Validation Loss: 1.0064 | Validation Accuracy: 0.6194\n",
      "Epoch 243 | Train Loss: 0.8594 | Train Accuracy: 0.6296\n"
     ]
    },
    {
     "name": "stderr",
     "output_type": "stream",
     "text": [
      "\r",
      " 61%|██████    | 244/400 [4:04:50<2:37:50, 60.71s/it]"
     ]
    },
    {
     "name": "stdout",
     "output_type": "stream",
     "text": [
      "Validation Loss: 1.0062 | Validation Accuracy: 0.6190\n",
      "Epoch 244 | Train Loss: 0.8594 | Train Accuracy: 0.6295\n"
     ]
    },
    {
     "name": "stderr",
     "output_type": "stream",
     "text": [
      "\r",
      " 61%|██████▏   | 245/400 [4:05:51<2:36:25, 60.55s/it]"
     ]
    },
    {
     "name": "stdout",
     "output_type": "stream",
     "text": [
      "Validation Loss: 1.0060 | Validation Accuracy: 0.6196\n",
      "Epoch 245 | Train Loss: 0.8593 | Train Accuracy: 0.6296\n"
     ]
    },
    {
     "name": "stderr",
     "output_type": "stream",
     "text": [
      "\r",
      " 62%|██████▏   | 246/400 [4:06:51<2:35:16, 60.50s/it]"
     ]
    },
    {
     "name": "stdout",
     "output_type": "stream",
     "text": [
      "Validation Loss: 1.0056 | Validation Accuracy: 0.6196\n",
      "Epoch 246 | Train Loss: 0.8594 | Train Accuracy: 0.6296\n"
     ]
    },
    {
     "name": "stderr",
     "output_type": "stream",
     "text": [
      "\r",
      " 62%|██████▏   | 247/400 [4:07:51<2:34:11, 60.47s/it]"
     ]
    },
    {
     "name": "stdout",
     "output_type": "stream",
     "text": [
      "Validation Loss: 1.0053 | Validation Accuracy: 0.6194\n",
      "Epoch 247 | Train Loss: 0.8593 | Train Accuracy: 0.6296\n"
     ]
    },
    {
     "name": "stderr",
     "output_type": "stream",
     "text": [
      "\r",
      " 62%|██████▏   | 248/400 [4:08:52<2:33:24, 60.56s/it]"
     ]
    },
    {
     "name": "stdout",
     "output_type": "stream",
     "text": [
      "Validation Loss: 1.0051 | Validation Accuracy: 0.6197\n",
      "Epoch 248 | Train Loss: 0.8593 | Train Accuracy: 0.6297\n"
     ]
    },
    {
     "name": "stderr",
     "output_type": "stream",
     "text": [
      "\r",
      " 62%|██████▏   | 249/400 [4:09:52<2:32:01, 60.41s/it]"
     ]
    },
    {
     "name": "stdout",
     "output_type": "stream",
     "text": [
      "Validation Loss: 1.0050 | Validation Accuracy: 0.6193\n",
      "Epoch 249 | Train Loss: 0.8593 | Train Accuracy: 0.6297\n"
     ]
    },
    {
     "name": "stderr",
     "output_type": "stream",
     "text": [
      "\r",
      " 62%|██████▎   | 250/400 [4:10:52<2:30:37, 60.25s/it]"
     ]
    },
    {
     "name": "stdout",
     "output_type": "stream",
     "text": [
      "Validation Loss: 1.0051 | Validation Accuracy: 0.6197\n",
      "Epoch 250 | Train Loss: 0.8592 | Train Accuracy: 0.6297\n"
     ]
    },
    {
     "name": "stderr",
     "output_type": "stream",
     "text": [
      "\r",
      " 63%|██████▎   | 251/400 [4:11:52<2:29:03, 60.02s/it]"
     ]
    },
    {
     "name": "stdout",
     "output_type": "stream",
     "text": [
      "Validation Loss: 1.0052 | Validation Accuracy: 0.6197\n",
      "Epoch 251 | Train Loss: 0.8592 | Train Accuracy: 0.6297\n"
     ]
    },
    {
     "name": "stderr",
     "output_type": "stream",
     "text": [
      "\r",
      " 63%|██████▎   | 252/400 [4:12:52<2:28:36, 60.25s/it]"
     ]
    },
    {
     "name": "stdout",
     "output_type": "stream",
     "text": [
      "Validation Loss: 1.0050 | Validation Accuracy: 0.6197\n",
      "Epoch 252 | Train Loss: 0.8592 | Train Accuracy: 0.6298\n"
     ]
    },
    {
     "name": "stderr",
     "output_type": "stream",
     "text": [
      "\r",
      " 63%|██████▎   | 253/400 [4:13:53<2:27:55, 60.38s/it]"
     ]
    },
    {
     "name": "stdout",
     "output_type": "stream",
     "text": [
      "Validation Loss: 1.0049 | Validation Accuracy: 0.6193\n",
      "Epoch 253 | Train Loss: 0.8592 | Train Accuracy: 0.6298\n"
     ]
    },
    {
     "name": "stderr",
     "output_type": "stream",
     "text": [
      "\r",
      " 64%|██████▎   | 254/400 [4:14:53<2:26:46, 60.32s/it]"
     ]
    },
    {
     "name": "stdout",
     "output_type": "stream",
     "text": [
      "Validation Loss: 1.0048 | Validation Accuracy: 0.6196\n",
      "Epoch 254 | Train Loss: 0.8592 | Train Accuracy: 0.6297\n"
     ]
    },
    {
     "name": "stderr",
     "output_type": "stream",
     "text": [
      "\r",
      " 64%|██████▍   | 255/400 [4:15:54<2:26:06, 60.46s/it]"
     ]
    },
    {
     "name": "stdout",
     "output_type": "stream",
     "text": [
      "Validation Loss: 1.0048 | Validation Accuracy: 0.6196\n",
      "Epoch 255 | Train Loss: 0.8592 | Train Accuracy: 0.6297\n"
     ]
    },
    {
     "name": "stderr",
     "output_type": "stream",
     "text": [
      "\r",
      " 64%|██████▍   | 256/400 [4:16:53<2:24:22, 60.16s/it]"
     ]
    },
    {
     "name": "stdout",
     "output_type": "stream",
     "text": [
      "Validation Loss: 1.0048 | Validation Accuracy: 0.6196\n",
      "Epoch 256 | Train Loss: 0.8591 | Train Accuracy: 0.6299\n"
     ]
    },
    {
     "name": "stderr",
     "output_type": "stream",
     "text": [
      "\r",
      " 64%|██████▍   | 257/400 [4:17:54<2:23:34, 60.24s/it]"
     ]
    },
    {
     "name": "stdout",
     "output_type": "stream",
     "text": [
      "Validation Loss: 1.0050 | Validation Accuracy: 0.6192\n",
      "Epoch 257 | Train Loss: 0.8591 | Train Accuracy: 0.6298\n"
     ]
    },
    {
     "name": "stderr",
     "output_type": "stream",
     "text": [
      "\r",
      " 64%|██████▍   | 258/400 [4:18:54<2:22:33, 60.24s/it]"
     ]
    },
    {
     "name": "stdout",
     "output_type": "stream",
     "text": [
      "Validation Loss: 1.0052 | Validation Accuracy: 0.6197\n",
      "Epoch 258 | Train Loss: 0.8591 | Train Accuracy: 0.6299\n"
     ]
    },
    {
     "name": "stderr",
     "output_type": "stream",
     "text": [
      "\r",
      " 65%|██████▍   | 259/400 [4:19:54<2:21:25, 60.18s/it]"
     ]
    },
    {
     "name": "stdout",
     "output_type": "stream",
     "text": [
      "Validation Loss: 1.0053 | Validation Accuracy: 0.6195\n",
      "Epoch 259 | Train Loss: 0.8591 | Train Accuracy: 0.6299\n"
     ]
    },
    {
     "name": "stderr",
     "output_type": "stream",
     "text": [
      "\r",
      " 65%|██████▌   | 260/400 [4:20:54<2:20:01, 60.01s/it]"
     ]
    },
    {
     "name": "stdout",
     "output_type": "stream",
     "text": [
      "Validation Loss: 1.0054 | Validation Accuracy: 0.6200\n",
      "Epoch 260 | Train Loss: 0.8591 | Train Accuracy: 0.6299\n"
     ]
    },
    {
     "name": "stderr",
     "output_type": "stream",
     "text": [
      "\r",
      " 65%|██████▌   | 261/400 [4:21:56<2:20:15, 60.54s/it]"
     ]
    },
    {
     "name": "stdout",
     "output_type": "stream",
     "text": [
      "Validation Loss: 1.0055 | Validation Accuracy: 0.6200\n",
      "Epoch 261 | Train Loss: 0.8591 | Train Accuracy: 0.6299\n"
     ]
    },
    {
     "name": "stderr",
     "output_type": "stream",
     "text": [
      "\r",
      " 66%|██████▌   | 262/400 [4:22:55<2:18:10, 60.08s/it]"
     ]
    },
    {
     "name": "stdout",
     "output_type": "stream",
     "text": [
      "Validation Loss: 1.0056 | Validation Accuracy: 0.6200\n",
      "Epoch 262 | Train Loss: 0.8591 | Train Accuracy: 0.6298\n"
     ]
    },
    {
     "name": "stderr",
     "output_type": "stream",
     "text": [
      "\r",
      " 66%|██████▌   | 263/400 [4:23:55<2:17:07, 60.05s/it]"
     ]
    },
    {
     "name": "stdout",
     "output_type": "stream",
     "text": [
      "Validation Loss: 1.0055 | Validation Accuracy: 0.6200\n",
      "Epoch 263 | Train Loss: 0.8590 | Train Accuracy: 0.6299\n"
     ]
    },
    {
     "name": "stderr",
     "output_type": "stream",
     "text": [
      "\r",
      " 66%|██████▌   | 264/400 [4:24:55<2:16:08, 60.06s/it]"
     ]
    },
    {
     "name": "stdout",
     "output_type": "stream",
     "text": [
      "Validation Loss: 1.0057 | Validation Accuracy: 0.6200\n",
      "Epoch 264 | Train Loss: 0.8591 | Train Accuracy: 0.6299\n"
     ]
    },
    {
     "name": "stderr",
     "output_type": "stream",
     "text": [
      "\r",
      " 66%|██████▋   | 265/400 [4:25:54<2:14:51, 59.94s/it]"
     ]
    },
    {
     "name": "stdout",
     "output_type": "stream",
     "text": [
      "Validation Loss: 1.0058 | Validation Accuracy: 0.6200\n",
      "Epoch 265 | Train Loss: 0.8590 | Train Accuracy: 0.6300\n"
     ]
    },
    {
     "name": "stderr",
     "output_type": "stream",
     "text": [
      "\r",
      " 66%|██████▋   | 266/400 [4:26:55<2:14:13, 60.10s/it]"
     ]
    },
    {
     "name": "stdout",
     "output_type": "stream",
     "text": [
      "Validation Loss: 1.0059 | Validation Accuracy: 0.6201\n",
      "Epoch 266 | Train Loss: 0.8590 | Train Accuracy: 0.6299\n"
     ]
    },
    {
     "name": "stderr",
     "output_type": "stream",
     "text": [
      "\r",
      " 67%|██████▋   | 267/400 [4:27:55<2:13:39, 60.30s/it]"
     ]
    },
    {
     "name": "stdout",
     "output_type": "stream",
     "text": [
      "Validation Loss: 1.0061 | Validation Accuracy: 0.6201\n",
      "Epoch 267 | Train Loss: 1.3058 | Train Accuracy: 0.6320\n"
     ]
    },
    {
     "name": "stderr",
     "output_type": "stream",
     "text": [
      "\r",
      " 67%|██████▋   | 268/400 [4:28:55<2:12:09, 60.07s/it]"
     ]
    },
    {
     "name": "stdout",
     "output_type": "stream",
     "text": [
      "Validation Loss: 1.0307 | Validation Accuracy: 0.6154\n",
      "Epoch 268 | Train Loss: 0.8609 | Train Accuracy: 0.6326\n"
     ]
    },
    {
     "name": "stderr",
     "output_type": "stream",
     "text": [
      "\r",
      " 67%|██████▋   | 269/400 [4:29:55<2:11:20, 60.16s/it]"
     ]
    },
    {
     "name": "stdout",
     "output_type": "stream",
     "text": [
      "Validation Loss: 1.0300 | Validation Accuracy: 0.6206\n",
      "Epoch 269 | Train Loss: 0.8600 | Train Accuracy: 0.6301\n"
     ]
    },
    {
     "name": "stderr",
     "output_type": "stream",
     "text": [
      "\r",
      " 68%|██████▊   | 270/400 [4:30:55<2:10:03, 60.03s/it]"
     ]
    },
    {
     "name": "stdout",
     "output_type": "stream",
     "text": [
      "Validation Loss: 1.0328 | Validation Accuracy: 0.6190\n",
      "Epoch 270 | Train Loss: 0.8595 | Train Accuracy: 0.6298\n"
     ]
    },
    {
     "name": "stderr",
     "output_type": "stream",
     "text": [
      "\r",
      " 68%|██████▊   | 271/400 [4:31:55<2:08:46, 59.89s/it]"
     ]
    },
    {
     "name": "stdout",
     "output_type": "stream",
     "text": [
      "Validation Loss: 1.0347 | Validation Accuracy: 0.6165\n",
      "Epoch 271 | Train Loss: 0.8592 | Train Accuracy: 0.6289\n"
     ]
    },
    {
     "name": "stderr",
     "output_type": "stream",
     "text": [
      "\r",
      " 68%|██████▊   | 272/400 [4:32:55<2:07:49, 59.92s/it]"
     ]
    },
    {
     "name": "stdout",
     "output_type": "stream",
     "text": [
      "Validation Loss: 1.0359 | Validation Accuracy: 0.6148\n",
      "Epoch 272 | Train Loss: 0.8589 | Train Accuracy: 0.6279\n"
     ]
    },
    {
     "name": "stderr",
     "output_type": "stream",
     "text": [
      "\r",
      " 68%|██████▊   | 273/400 [4:33:55<2:07:21, 60.17s/it]"
     ]
    },
    {
     "name": "stdout",
     "output_type": "stream",
     "text": [
      "Validation Loss: 1.0362 | Validation Accuracy: 0.6132\n",
      "Epoch 273 | Train Loss: 0.8585 | Train Accuracy: 0.6266\n"
     ]
    },
    {
     "name": "stderr",
     "output_type": "stream",
     "text": [
      "\r",
      " 68%|██████▊   | 274/400 [4:34:57<2:07:22, 60.65s/it]"
     ]
    },
    {
     "name": "stdout",
     "output_type": "stream",
     "text": [
      "Validation Loss: 1.0353 | Validation Accuracy: 0.6109\n",
      "Epoch 274 | Train Loss: 0.8582 | Train Accuracy: 0.6260\n"
     ]
    },
    {
     "name": "stderr",
     "output_type": "stream",
     "text": [
      "\r",
      " 69%|██████▉   | 275/400 [4:35:58<2:06:09, 60.56s/it]"
     ]
    },
    {
     "name": "stdout",
     "output_type": "stream",
     "text": [
      "Validation Loss: 1.0330 | Validation Accuracy: 0.6107\n",
      "Epoch 275 | Train Loss: 0.8582 | Train Accuracy: 0.6261\n"
     ]
    },
    {
     "name": "stderr",
     "output_type": "stream",
     "text": [
      "\r",
      " 69%|██████▉   | 276/400 [4:36:57<2:04:46, 60.38s/it]"
     ]
    },
    {
     "name": "stdout",
     "output_type": "stream",
     "text": [
      "Validation Loss: 1.0306 | Validation Accuracy: 0.6135\n",
      "Epoch 276 | Train Loss: 0.8584 | Train Accuracy: 0.6278\n"
     ]
    },
    {
     "name": "stderr",
     "output_type": "stream",
     "text": [
      "\r",
      " 69%|██████▉   | 277/400 [4:37:56<2:02:52, 59.94s/it]"
     ]
    },
    {
     "name": "stdout",
     "output_type": "stream",
     "text": [
      "Validation Loss: 1.0290 | Validation Accuracy: 0.6167\n",
      "Epoch 277 | Train Loss: 0.8587 | Train Accuracy: 0.6291\n"
     ]
    },
    {
     "name": "stderr",
     "output_type": "stream",
     "text": [
      "\r",
      " 70%|██████▉   | 278/400 [4:38:58<2:02:41, 60.34s/it]"
     ]
    },
    {
     "name": "stdout",
     "output_type": "stream",
     "text": [
      "Validation Loss: 1.0276 | Validation Accuracy: 0.6188\n",
      "Epoch 278 | Train Loss: 0.8588 | Train Accuracy: 0.6294\n"
     ]
    },
    {
     "name": "stderr",
     "output_type": "stream",
     "text": [
      "\r",
      " 70%|██████▉   | 279/400 [4:39:57<2:01:14, 60.12s/it]"
     ]
    },
    {
     "name": "stdout",
     "output_type": "stream",
     "text": [
      "Validation Loss: 1.0263 | Validation Accuracy: 0.6194\n",
      "Epoch 279 | Train Loss: 0.8589 | Train Accuracy: 0.6295\n"
     ]
    },
    {
     "name": "stderr",
     "output_type": "stream",
     "text": [
      "\r",
      " 70%|███████   | 280/400 [4:40:58<2:00:29, 60.24s/it]"
     ]
    },
    {
     "name": "stdout",
     "output_type": "stream",
     "text": [
      "Validation Loss: 1.0253 | Validation Accuracy: 0.6195\n",
      "Epoch 280 | Train Loss: 0.8589 | Train Accuracy: 0.6295\n"
     ]
    },
    {
     "name": "stderr",
     "output_type": "stream",
     "text": [
      "\r",
      " 70%|███████   | 281/400 [4:41:58<1:59:43, 60.36s/it]"
     ]
    },
    {
     "name": "stdout",
     "output_type": "stream",
     "text": [
      "Validation Loss: 1.0242 | Validation Accuracy: 0.6197\n",
      "Epoch 281 | Train Loss: 0.8589 | Train Accuracy: 0.6293\n"
     ]
    },
    {
     "name": "stderr",
     "output_type": "stream",
     "text": [
      "\r",
      " 70%|███████   | 282/400 [4:42:58<1:58:10, 60.09s/it]"
     ]
    },
    {
     "name": "stdout",
     "output_type": "stream",
     "text": [
      "Validation Loss: 1.0233 | Validation Accuracy: 0.6199\n",
      "Epoch 282 | Train Loss: 0.8589 | Train Accuracy: 0.6294\n"
     ]
    },
    {
     "name": "stderr",
     "output_type": "stream",
     "text": [
      "\r",
      " 71%|███████   | 283/400 [4:43:58<1:57:08, 60.07s/it]"
     ]
    },
    {
     "name": "stdout",
     "output_type": "stream",
     "text": [
      "Validation Loss: 1.0222 | Validation Accuracy: 0.6199\n",
      "Epoch 283 | Train Loss: 0.8588 | Train Accuracy: 0.6296\n"
     ]
    },
    {
     "name": "stderr",
     "output_type": "stream",
     "text": [
      "\r",
      " 71%|███████   | 284/400 [4:44:57<1:55:49, 59.91s/it]"
     ]
    },
    {
     "name": "stdout",
     "output_type": "stream",
     "text": [
      "Validation Loss: 1.0213 | Validation Accuracy: 0.6200\n",
      "Epoch 284 | Train Loss: 0.8588 | Train Accuracy: 0.6295\n"
     ]
    },
    {
     "name": "stderr",
     "output_type": "stream",
     "text": [
      "\r",
      " 71%|███████▏  | 285/400 [4:45:59<1:55:46, 60.40s/it]"
     ]
    },
    {
     "name": "stdout",
     "output_type": "stream",
     "text": [
      "Validation Loss: 1.0205 | Validation Accuracy: 0.6201\n",
      "Epoch 285 | Train Loss: 0.8588 | Train Accuracy: 0.6296\n"
     ]
    },
    {
     "name": "stderr",
     "output_type": "stream",
     "text": [
      "\r",
      " 72%|███████▏  | 286/400 [4:46:59<1:54:32, 60.28s/it]"
     ]
    },
    {
     "name": "stdout",
     "output_type": "stream",
     "text": [
      "Validation Loss: 1.0196 | Validation Accuracy: 0.6200\n",
      "Epoch 286 | Train Loss: 0.8596 | Train Accuracy: 0.6297\n"
     ]
    },
    {
     "name": "stderr",
     "output_type": "stream",
     "text": [
      "\r",
      " 72%|███████▏  | 287/400 [4:47:58<1:52:56, 59.97s/it]"
     ]
    },
    {
     "name": "stdout",
     "output_type": "stream",
     "text": [
      "Validation Loss: 1.0186 | Validation Accuracy: 0.6193\n",
      "Epoch 287 | Train Loss: 0.8588 | Train Accuracy: 0.6296\n"
     ]
    },
    {
     "name": "stderr",
     "output_type": "stream",
     "text": [
      "\r",
      " 72%|███████▏  | 288/400 [4:49:00<1:52:51, 60.46s/it]"
     ]
    },
    {
     "name": "stdout",
     "output_type": "stream",
     "text": [
      "Validation Loss: 1.0180 | Validation Accuracy: 0.6196\n",
      "Epoch 288 | Train Loss: 0.8588 | Train Accuracy: 0.6298\n"
     ]
    },
    {
     "name": "stderr",
     "output_type": "stream",
     "text": [
      "\r",
      " 72%|███████▏  | 289/400 [4:49:59<1:51:20, 60.19s/it]"
     ]
    },
    {
     "name": "stdout",
     "output_type": "stream",
     "text": [
      "Validation Loss: 1.0173 | Validation Accuracy: 0.6196\n",
      "Epoch 289 | Train Loss: 0.8588 | Train Accuracy: 0.6297\n"
     ]
    },
    {
     "name": "stderr",
     "output_type": "stream",
     "text": [
      "\r",
      " 72%|███████▎  | 290/400 [4:50:59<1:50:02, 60.02s/it]"
     ]
    },
    {
     "name": "stdout",
     "output_type": "stream",
     "text": [
      "Validation Loss: 1.0167 | Validation Accuracy: 0.6196\n",
      "Epoch 290 | Train Loss: 0.8587 | Train Accuracy: 0.6296\n"
     ]
    },
    {
     "name": "stderr",
     "output_type": "stream",
     "text": [
      "\r",
      " 73%|███████▎  | 291/400 [4:52:00<1:49:18, 60.17s/it]"
     ]
    },
    {
     "name": "stdout",
     "output_type": "stream",
     "text": [
      "Validation Loss: 1.0161 | Validation Accuracy: 0.6197\n",
      "Epoch 291 | Train Loss: 0.8587 | Train Accuracy: 0.6296\n"
     ]
    },
    {
     "name": "stderr",
     "output_type": "stream",
     "text": [
      "\r",
      " 73%|███████▎  | 292/400 [4:53:01<1:48:56, 60.52s/it]"
     ]
    },
    {
     "name": "stdout",
     "output_type": "stream",
     "text": [
      "Validation Loss: 1.0156 | Validation Accuracy: 0.6197\n",
      "Epoch 292 | Train Loss: 0.8587 | Train Accuracy: 0.6296\n"
     ]
    },
    {
     "name": "stderr",
     "output_type": "stream",
     "text": [
      "\r",
      " 73%|███████▎  | 293/400 [4:54:00<1:47:18, 60.17s/it]"
     ]
    },
    {
     "name": "stdout",
     "output_type": "stream",
     "text": [
      "Validation Loss: 1.0150 | Validation Accuracy: 0.6195\n",
      "Epoch 293 | Train Loss: 0.8587 | Train Accuracy: 0.6297\n"
     ]
    },
    {
     "name": "stderr",
     "output_type": "stream",
     "text": [
      "\r",
      " 74%|███████▎  | 294/400 [4:55:01<1:46:47, 60.45s/it]"
     ]
    },
    {
     "name": "stdout",
     "output_type": "stream",
     "text": [
      "Validation Loss: 1.0147 | Validation Accuracy: 0.6200\n",
      "Epoch 294 | Train Loss: 0.8587 | Train Accuracy: 0.6297\n"
     ]
    },
    {
     "name": "stderr",
     "output_type": "stream",
     "text": [
      "\r",
      " 74%|███████▍  | 295/400 [4:56:01<1:45:27, 60.27s/it]"
     ]
    },
    {
     "name": "stdout",
     "output_type": "stream",
     "text": [
      "Validation Loss: 1.0142 | Validation Accuracy: 0.6200\n",
      "Epoch 295 | Train Loss: 0.8587 | Train Accuracy: 0.6299\n"
     ]
    },
    {
     "name": "stderr",
     "output_type": "stream",
     "text": [
      "\r",
      " 74%|███████▍  | 296/400 [4:57:01<1:44:20, 60.20s/it]"
     ]
    },
    {
     "name": "stdout",
     "output_type": "stream",
     "text": [
      "Validation Loss: 1.0139 | Validation Accuracy: 0.6200\n",
      "Epoch 296 | Train Loss: 0.8587 | Train Accuracy: 0.6298\n"
     ]
    },
    {
     "name": "stderr",
     "output_type": "stream",
     "text": [
      "\r",
      " 74%|███████▍  | 297/400 [4:58:02<1:43:39, 60.38s/it]"
     ]
    },
    {
     "name": "stdout",
     "output_type": "stream",
     "text": [
      "Validation Loss: 1.0137 | Validation Accuracy: 0.6200\n",
      "Epoch 297 | Train Loss: 0.8587 | Train Accuracy: 0.6298\n"
     ]
    },
    {
     "name": "stderr",
     "output_type": "stream",
     "text": [
      "\r",
      " 74%|███████▍  | 298/400 [4:59:02<1:42:20, 60.20s/it]"
     ]
    },
    {
     "name": "stdout",
     "output_type": "stream",
     "text": [
      "Validation Loss: 1.0135 | Validation Accuracy: 0.6201\n",
      "Epoch 298 | Train Loss: 0.8587 | Train Accuracy: 0.6297\n"
     ]
    },
    {
     "name": "stderr",
     "output_type": "stream",
     "text": [
      "\r",
      " 75%|███████▍  | 299/400 [5:00:02<1:41:13, 60.14s/it]"
     ]
    },
    {
     "name": "stdout",
     "output_type": "stream",
     "text": [
      "Validation Loss: 1.0133 | Validation Accuracy: 0.6201\n",
      "Epoch 299 | Train Loss: 0.8587 | Train Accuracy: 0.6298\n"
     ]
    },
    {
     "name": "stderr",
     "output_type": "stream",
     "text": [
      "\r",
      " 75%|███████▌  | 300/400 [5:01:00<1:39:28, 59.69s/it]"
     ]
    },
    {
     "name": "stdout",
     "output_type": "stream",
     "text": [
      "Validation Loss: 1.0129 | Validation Accuracy: 0.6199\n",
      "Epoch 300 | Train Loss: 0.8586 | Train Accuracy: 0.6296\n"
     ]
    },
    {
     "name": "stderr",
     "output_type": "stream",
     "text": [
      "\r",
      " 75%|███████▌  | 301/400 [5:02:00<1:38:09, 59.49s/it]"
     ]
    },
    {
     "name": "stdout",
     "output_type": "stream",
     "text": [
      "Validation Loss: 1.0127 | Validation Accuracy: 0.6200\n",
      "Epoch 301 | Train Loss: 0.8586 | Train Accuracy: 0.6299\n"
     ]
    },
    {
     "name": "stderr",
     "output_type": "stream",
     "text": [
      "\r",
      " 76%|███████▌  | 302/400 [5:02:59<1:37:03, 59.42s/it]"
     ]
    },
    {
     "name": "stdout",
     "output_type": "stream",
     "text": [
      "Validation Loss: 1.0126 | Validation Accuracy: 0.6200\n",
      "Epoch 302 | Train Loss: 0.8618 | Train Accuracy: 0.6299\n"
     ]
    },
    {
     "name": "stderr",
     "output_type": "stream",
     "text": [
      "\r",
      " 76%|███████▌  | 303/400 [5:03:59<1:36:13, 59.52s/it]"
     ]
    },
    {
     "name": "stdout",
     "output_type": "stream",
     "text": [
      "Validation Loss: 1.0125 | Validation Accuracy: 0.6198\n",
      "Epoch 303 | Train Loss: 0.8586 | Train Accuracy: 0.6297\n"
     ]
    },
    {
     "name": "stderr",
     "output_type": "stream",
     "text": [
      "\r",
      " 76%|███████▌  | 304/400 [5:04:59<1:35:33, 59.72s/it]"
     ]
    },
    {
     "name": "stdout",
     "output_type": "stream",
     "text": [
      "Validation Loss: 1.0120 | Validation Accuracy: 0.6199\n",
      "Epoch 304 | Train Loss: 0.8586 | Train Accuracy: 0.6298\n"
     ]
    },
    {
     "name": "stderr",
     "output_type": "stream",
     "text": [
      "\r",
      " 76%|███████▋  | 305/400 [5:05:58<1:34:25, 59.63s/it]"
     ]
    },
    {
     "name": "stdout",
     "output_type": "stream",
     "text": [
      "Validation Loss: 1.0118 | Validation Accuracy: 0.6200\n",
      "Epoch 305 | Train Loss: 0.8586 | Train Accuracy: 0.6298\n"
     ]
    },
    {
     "name": "stderr",
     "output_type": "stream",
     "text": [
      "\r",
      " 76%|███████▋  | 306/400 [5:06:58<1:33:30, 59.69s/it]"
     ]
    },
    {
     "name": "stdout",
     "output_type": "stream",
     "text": [
      "Validation Loss: 1.0117 | Validation Accuracy: 0.6200\n",
      "Epoch 306 | Train Loss: 0.8586 | Train Accuracy: 0.6299\n"
     ]
    },
    {
     "name": "stderr",
     "output_type": "stream",
     "text": [
      "\r",
      " 77%|███████▋  | 307/400 [5:07:57<1:31:59, 59.35s/it]"
     ]
    },
    {
     "name": "stdout",
     "output_type": "stream",
     "text": [
      "Validation Loss: 1.0116 | Validation Accuracy: 0.6201\n",
      "Epoch 307 | Train Loss: 0.8586 | Train Accuracy: 0.6300\n"
     ]
    },
    {
     "name": "stderr",
     "output_type": "stream",
     "text": [
      "\r",
      " 77%|███████▋  | 308/400 [5:08:56<1:31:12, 59.48s/it]"
     ]
    },
    {
     "name": "stdout",
     "output_type": "stream",
     "text": [
      "Validation Loss: 1.0117 | Validation Accuracy: 0.6201\n",
      "Epoch 308 | Train Loss: 0.8586 | Train Accuracy: 0.6299\n"
     ]
    },
    {
     "name": "stderr",
     "output_type": "stream",
     "text": [
      "\r",
      " 77%|███████▋  | 309/400 [5:09:57<1:30:41, 59.80s/it]"
     ]
    },
    {
     "name": "stdout",
     "output_type": "stream",
     "text": [
      "Validation Loss: 1.0116 | Validation Accuracy: 0.6200\n",
      "Epoch 309 | Train Loss: 0.8585 | Train Accuracy: 0.6299\n"
     ]
    },
    {
     "name": "stderr",
     "output_type": "stream",
     "text": [
      "\r",
      " 78%|███████▊  | 310/400 [5:10:53<1:28:13, 58.82s/it]"
     ]
    },
    {
     "name": "stdout",
     "output_type": "stream",
     "text": [
      "Validation Loss: 1.0115 | Validation Accuracy: 0.6200\n",
      "Epoch 310 | Train Loss: 0.9012 | Train Accuracy: 0.6298\n"
     ]
    },
    {
     "name": "stderr",
     "output_type": "stream",
     "text": [
      "\r",
      " 78%|███████▊  | 311/400 [5:11:48<1:25:30, 57.65s/it]"
     ]
    },
    {
     "name": "stdout",
     "output_type": "stream",
     "text": [
      "Validation Loss: 1.0325 | Validation Accuracy: 0.6151\n",
      "Epoch 311 | Train Loss: 0.8604 | Train Accuracy: 0.6329\n"
     ]
    },
    {
     "name": "stderr",
     "output_type": "stream",
     "text": [
      "\r",
      " 78%|███████▊  | 312/400 [5:12:45<1:24:16, 57.46s/it]"
     ]
    },
    {
     "name": "stdout",
     "output_type": "stream",
     "text": [
      "Validation Loss: 1.0343 | Validation Accuracy: 0.6210\n",
      "Epoch 312 | Train Loss: 0.8593 | Train Accuracy: 0.6298\n"
     ]
    },
    {
     "name": "stderr",
     "output_type": "stream",
     "text": [
      "\r",
      " 78%|███████▊  | 313/400 [5:13:43<1:23:13, 57.39s/it]"
     ]
    },
    {
     "name": "stdout",
     "output_type": "stream",
     "text": [
      "Validation Loss: 1.0351 | Validation Accuracy: 0.6169\n",
      "Epoch 313 | Train Loss: 0.8586 | Train Accuracy: 0.6282\n"
     ]
    },
    {
     "name": "stderr",
     "output_type": "stream",
     "text": [
      "\r",
      " 78%|███████▊  | 314/400 [5:14:38<1:21:19, 56.74s/it]"
     ]
    },
    {
     "name": "stdout",
     "output_type": "stream",
     "text": [
      "Validation Loss: 1.0335 | Validation Accuracy: 0.6135\n",
      "Epoch 314 | Train Loss: 0.8580 | Train Accuracy: 0.6267\n"
     ]
    },
    {
     "name": "stderr",
     "output_type": "stream",
     "text": [
      "\r",
      " 79%|███████▉  | 315/400 [5:15:33<1:19:43, 56.28s/it]"
     ]
    },
    {
     "name": "stdout",
     "output_type": "stream",
     "text": [
      "Validation Loss: 1.0306 | Validation Accuracy: 0.6118\n",
      "Epoch 315 | Train Loss: 0.8579 | Train Accuracy: 0.6264\n"
     ]
    },
    {
     "name": "stderr",
     "output_type": "stream",
     "text": [
      "\r",
      " 79%|███████▉  | 316/400 [5:16:30<1:19:00, 56.43s/it]"
     ]
    },
    {
     "name": "stdout",
     "output_type": "stream",
     "text": [
      "Validation Loss: 1.0276 | Validation Accuracy: 0.6140\n",
      "Epoch 316 | Train Loss: 0.8581 | Train Accuracy: 0.6279\n"
     ]
    },
    {
     "name": "stderr",
     "output_type": "stream",
     "text": [
      "\r",
      " 79%|███████▉  | 317/400 [5:17:25<1:17:44, 56.20s/it]"
     ]
    },
    {
     "name": "stdout",
     "output_type": "stream",
     "text": [
      "Validation Loss: 1.0256 | Validation Accuracy: 0.6169\n",
      "Epoch 317 | Train Loss: 0.8584 | Train Accuracy: 0.6290\n"
     ]
    },
    {
     "name": "stderr",
     "output_type": "stream",
     "text": [
      "\r",
      " 80%|███████▉  | 318/400 [5:18:23<1:17:16, 56.54s/it]"
     ]
    },
    {
     "name": "stdout",
     "output_type": "stream",
     "text": [
      "Validation Loss: 1.0242 | Validation Accuracy: 0.6191\n",
      "Epoch 318 | Train Loss: 0.8585 | Train Accuracy: 0.6296\n"
     ]
    },
    {
     "name": "stderr",
     "output_type": "stream",
     "text": [
      "\r",
      " 80%|███████▉  | 319/400 [5:19:17<1:15:24, 55.86s/it]"
     ]
    },
    {
     "name": "stdout",
     "output_type": "stream",
     "text": [
      "Validation Loss: 1.0229 | Validation Accuracy: 0.6198\n",
      "Epoch 319 | Train Loss: 0.8585 | Train Accuracy: 0.6294\n"
     ]
    },
    {
     "name": "stderr",
     "output_type": "stream",
     "text": [
      "\r",
      " 80%|████████  | 320/400 [5:20:15<1:15:13, 56.41s/it]"
     ]
    },
    {
     "name": "stdout",
     "output_type": "stream",
     "text": [
      "Validation Loss: 1.0219 | Validation Accuracy: 0.6201\n",
      "Epoch 320 | Train Loss: 0.8585 | Train Accuracy: 0.6294\n"
     ]
    },
    {
     "name": "stderr",
     "output_type": "stream",
     "text": [
      "\r",
      " 80%|████████  | 321/400 [5:21:10<1:13:57, 56.17s/it]"
     ]
    },
    {
     "name": "stdout",
     "output_type": "stream",
     "text": [
      "Validation Loss: 1.0208 | Validation Accuracy: 0.6201\n",
      "Epoch 321 | Train Loss: 0.8585 | Train Accuracy: 0.6296\n"
     ]
    },
    {
     "name": "stderr",
     "output_type": "stream",
     "text": [
      "\r",
      " 80%|████████  | 322/400 [5:22:10<1:14:24, 57.24s/it]"
     ]
    },
    {
     "name": "stdout",
     "output_type": "stream",
     "text": [
      "Validation Loss: 1.0202 | Validation Accuracy: 0.6200\n",
      "Epoch 322 | Train Loss: 0.8585 | Train Accuracy: 0.6296\n"
     ]
    },
    {
     "name": "stderr",
     "output_type": "stream",
     "text": [
      "\r",
      " 81%|████████  | 323/400 [5:23:05<1:12:44, 56.68s/it]"
     ]
    },
    {
     "name": "stdout",
     "output_type": "stream",
     "text": [
      "Validation Loss: 1.0195 | Validation Accuracy: 0.6200\n",
      "Epoch 323 | Train Loss: 0.8585 | Train Accuracy: 0.6297\n"
     ]
    },
    {
     "name": "stderr",
     "output_type": "stream",
     "text": [
      "\r",
      " 81%|████████  | 324/400 [5:24:01<1:11:18, 56.30s/it]"
     ]
    },
    {
     "name": "stdout",
     "output_type": "stream",
     "text": [
      "Validation Loss: 1.0190 | Validation Accuracy: 0.6200\n",
      "Epoch 324 | Train Loss: 0.8585 | Train Accuracy: 0.6298\n"
     ]
    },
    {
     "name": "stderr",
     "output_type": "stream",
     "text": [
      "\r",
      " 81%|████████▏ | 325/400 [5:24:59<1:11:09, 56.93s/it]"
     ]
    },
    {
     "name": "stdout",
     "output_type": "stream",
     "text": [
      "Validation Loss: 1.0186 | Validation Accuracy: 0.6200\n",
      "Epoch 325 | Train Loss: 0.8597 | Train Accuracy: 0.6287\n"
     ]
    },
    {
     "name": "stderr",
     "output_type": "stream",
     "text": [
      "\r",
      " 82%|████████▏ | 326/400 [5:25:55<1:09:55, 56.70s/it]"
     ]
    },
    {
     "name": "stdout",
     "output_type": "stream",
     "text": [
      "Validation Loss: 1.0196 | Validation Accuracy: 0.6199\n",
      "Epoch 326 | Train Loss: 0.8584 | Train Accuracy: 0.6295\n"
     ]
    },
    {
     "name": "stderr",
     "output_type": "stream",
     "text": [
      "\r",
      " 82%|████████▏ | 327/400 [5:26:52<1:08:53, 56.62s/it]"
     ]
    },
    {
     "name": "stdout",
     "output_type": "stream",
     "text": [
      "Validation Loss: 1.0185 | Validation Accuracy: 0.6200\n",
      "Epoch 327 | Train Loss: 0.8584 | Train Accuracy: 0.6296\n"
     ]
    },
    {
     "name": "stderr",
     "output_type": "stream",
     "text": [
      "\r",
      " 82%|████████▏ | 328/400 [5:27:47<1:07:24, 56.17s/it]"
     ]
    },
    {
     "name": "stdout",
     "output_type": "stream",
     "text": [
      "Validation Loss: 1.0179 | Validation Accuracy: 0.6200\n",
      "Epoch 328 | Train Loss: 0.8584 | Train Accuracy: 0.6297\n"
     ]
    },
    {
     "name": "stderr",
     "output_type": "stream",
     "text": [
      "\r",
      " 82%|████████▏ | 329/400 [5:28:43<1:06:24, 56.12s/it]"
     ]
    },
    {
     "name": "stdout",
     "output_type": "stream",
     "text": [
      "Validation Loss: 1.0175 | Validation Accuracy: 0.6200\n",
      "Epoch 329 | Train Loss: 0.8584 | Train Accuracy: 0.6298\n"
     ]
    },
    {
     "name": "stderr",
     "output_type": "stream",
     "text": [
      "\r",
      " 82%|████████▎ | 330/400 [5:29:41<1:06:09, 56.71s/it]"
     ]
    },
    {
     "name": "stdout",
     "output_type": "stream",
     "text": [
      "Validation Loss: 1.0172 | Validation Accuracy: 0.6200\n",
      "Epoch 330 | Train Loss: 0.8584 | Train Accuracy: 0.6298\n"
     ]
    },
    {
     "name": "stderr",
     "output_type": "stream",
     "text": [
      "\r",
      " 83%|████████▎ | 331/400 [5:30:38<1:05:10, 56.67s/it]"
     ]
    },
    {
     "name": "stdout",
     "output_type": "stream",
     "text": [
      "Validation Loss: 1.0169 | Validation Accuracy: 0.6200\n",
      "Epoch 331 | Train Loss: 0.8584 | Train Accuracy: 0.6298\n"
     ]
    },
    {
     "name": "stderr",
     "output_type": "stream",
     "text": [
      "\r",
      " 83%|████████▎ | 332/400 [5:31:34<1:04:13, 56.67s/it]"
     ]
    },
    {
     "name": "stdout",
     "output_type": "stream",
     "text": [
      "Validation Loss: 1.0167 | Validation Accuracy: 0.6199\n",
      "Epoch 332 | Train Loss: 0.8584 | Train Accuracy: 0.6298\n"
     ]
    },
    {
     "name": "stderr",
     "output_type": "stream",
     "text": [
      "\r",
      " 83%|████████▎ | 333/400 [5:32:32<1:03:34, 56.93s/it]"
     ]
    },
    {
     "name": "stdout",
     "output_type": "stream",
     "text": [
      "Validation Loss: 1.0165 | Validation Accuracy: 0.6199\n",
      "Epoch 333 | Train Loss: 0.8584 | Train Accuracy: 0.6298\n"
     ]
    },
    {
     "name": "stderr",
     "output_type": "stream",
     "text": [
      "\r",
      " 84%|████████▎ | 334/400 [5:33:28<1:02:26, 56.76s/it]"
     ]
    },
    {
     "name": "stdout",
     "output_type": "stream",
     "text": [
      "Validation Loss: 1.0163 | Validation Accuracy: 0.6199\n",
      "Epoch 334 | Train Loss: 0.8584 | Train Accuracy: 0.6298\n"
     ]
    },
    {
     "name": "stderr",
     "output_type": "stream",
     "text": [
      "\r",
      " 84%|████████▍ | 335/400 [5:34:26<1:01:55, 57.16s/it]"
     ]
    },
    {
     "name": "stdout",
     "output_type": "stream",
     "text": [
      "Validation Loss: 1.0161 | Validation Accuracy: 0.6199\n",
      "Epoch 335 | Train Loss: 0.8584 | Train Accuracy: 0.6299\n"
     ]
    },
    {
     "name": "stderr",
     "output_type": "stream",
     "text": [
      "\r",
      " 84%|████████▍ | 336/400 [5:35:26<1:01:47, 57.93s/it]"
     ]
    },
    {
     "name": "stdout",
     "output_type": "stream",
     "text": [
      "Validation Loss: 1.0160 | Validation Accuracy: 0.6200\n",
      "Epoch 336 | Train Loss: 0.8584 | Train Accuracy: 0.6298\n"
     ]
    },
    {
     "name": "stderr",
     "output_type": "stream",
     "text": [
      "\r",
      " 84%|████████▍ | 337/400 [5:36:22<1:00:04, 57.21s/it]"
     ]
    },
    {
     "name": "stdout",
     "output_type": "stream",
     "text": [
      "Validation Loss: 1.0158 | Validation Accuracy: 0.6200\n",
      "Epoch 337 | Train Loss: 0.8583 | Train Accuracy: 0.6298\n"
     ]
    },
    {
     "name": "stderr",
     "output_type": "stream",
     "text": [
      "\r",
      " 84%|████████▍ | 338/400 [5:37:17<58:39, 56.77s/it]  "
     ]
    },
    {
     "name": "stdout",
     "output_type": "stream",
     "text": [
      "Validation Loss: 1.0158 | Validation Accuracy: 0.6203\n",
      "Epoch 338 | Train Loss: 0.8583 | Train Accuracy: 0.6299\n"
     ]
    },
    {
     "name": "stderr",
     "output_type": "stream",
     "text": [
      "\r",
      " 85%|████████▍ | 339/400 [5:38:12<57:07, 56.19s/it]"
     ]
    },
    {
     "name": "stdout",
     "output_type": "stream",
     "text": [
      "Validation Loss: 1.0157 | Validation Accuracy: 0.6204\n",
      "Epoch 339 | Train Loss: 0.8583 | Train Accuracy: 0.6298\n"
     ]
    },
    {
     "name": "stderr",
     "output_type": "stream",
     "text": [
      "\r",
      " 85%|████████▌ | 340/400 [5:39:11<57:02, 57.04s/it]"
     ]
    },
    {
     "name": "stdout",
     "output_type": "stream",
     "text": [
      "Validation Loss: 1.0156 | Validation Accuracy: 0.6204\n",
      "Epoch 340 | Train Loss: 0.8610 | Train Accuracy: 0.6302\n"
     ]
    },
    {
     "name": "stderr",
     "output_type": "stream",
     "text": [
      "\r",
      " 85%|████████▌ | 341/400 [5:40:10<56:30, 57.46s/it]"
     ]
    },
    {
     "name": "stdout",
     "output_type": "stream",
     "text": [
      "Validation Loss: 1.0176 | Validation Accuracy: 0.6199\n",
      "Epoch 341 | Train Loss: 0.8582 | Train Accuracy: 0.6297\n"
     ]
    },
    {
     "name": "stderr",
     "output_type": "stream",
     "text": [
      "\r",
      " 86%|████████▌ | 342/400 [5:41:09<56:01, 57.96s/it]"
     ]
    },
    {
     "name": "stdout",
     "output_type": "stream",
     "text": [
      "Validation Loss: 1.0164 | Validation Accuracy: 0.6200\n",
      "Epoch 342 | Train Loss: 0.8582 | Train Accuracy: 0.6296\n"
     ]
    },
    {
     "name": "stderr",
     "output_type": "stream",
     "text": [
      "\r",
      " 86%|████████▌ | 343/400 [5:42:07<55:11, 58.10s/it]"
     ]
    },
    {
     "name": "stdout",
     "output_type": "stream",
     "text": [
      "Validation Loss: 1.0161 | Validation Accuracy: 0.6200\n",
      "Epoch 343 | Train Loss: 0.8583 | Train Accuracy: 0.6298\n"
     ]
    },
    {
     "name": "stderr",
     "output_type": "stream",
     "text": [
      "\r",
      " 86%|████████▌ | 344/400 [5:43:05<54:14, 58.11s/it]"
     ]
    },
    {
     "name": "stdout",
     "output_type": "stream",
     "text": [
      "Validation Loss: 1.0160 | Validation Accuracy: 0.6202\n",
      "Epoch 344 | Train Loss: 0.8583 | Train Accuracy: 0.6298\n"
     ]
    },
    {
     "name": "stderr",
     "output_type": "stream",
     "text": [
      "\r",
      " 86%|████████▋ | 345/400 [5:44:01<52:36, 57.39s/it]"
     ]
    },
    {
     "name": "stdout",
     "output_type": "stream",
     "text": [
      "Validation Loss: 1.0159 | Validation Accuracy: 0.6204\n",
      "Epoch 345 | Train Loss: 0.8583 | Train Accuracy: 0.6299\n"
     ]
    },
    {
     "name": "stderr",
     "output_type": "stream",
     "text": [
      "\r",
      " 86%|████████▋ | 346/400 [5:44:58<51:27, 57.18s/it]"
     ]
    },
    {
     "name": "stdout",
     "output_type": "stream",
     "text": [
      "Validation Loss: 1.0158 | Validation Accuracy: 0.6205\n",
      "Epoch 346 | Train Loss: 0.8583 | Train Accuracy: 0.6299\n"
     ]
    },
    {
     "name": "stderr",
     "output_type": "stream",
     "text": [
      "\r",
      " 87%|████████▋ | 347/400 [5:45:54<50:09, 56.78s/it]"
     ]
    },
    {
     "name": "stdout",
     "output_type": "stream",
     "text": [
      "Validation Loss: 1.0158 | Validation Accuracy: 0.6206\n",
      "Epoch 347 | Train Loss: 0.8583 | Train Accuracy: 0.6299\n"
     ]
    },
    {
     "name": "stderr",
     "output_type": "stream",
     "text": [
      "\r",
      " 87%|████████▋ | 348/400 [5:46:52<49:43, 57.37s/it]"
     ]
    },
    {
     "name": "stdout",
     "output_type": "stream",
     "text": [
      "Validation Loss: 1.0158 | Validation Accuracy: 0.6206\n",
      "Epoch 348 | Train Loss: 0.8583 | Train Accuracy: 0.6299\n"
     ]
    },
    {
     "name": "stderr",
     "output_type": "stream",
     "text": [
      "\r",
      " 87%|████████▋ | 349/400 [5:47:48<48:27, 57.00s/it]"
     ]
    },
    {
     "name": "stdout",
     "output_type": "stream",
     "text": [
      "Validation Loss: 1.0158 | Validation Accuracy: 0.6206\n",
      "Epoch 349 | Train Loss: 0.8582 | Train Accuracy: 0.6299\n"
     ]
    },
    {
     "name": "stderr",
     "output_type": "stream",
     "text": [
      "\r",
      " 88%|████████▊ | 350/400 [5:48:48<48:07, 57.76s/it]"
     ]
    },
    {
     "name": "stdout",
     "output_type": "stream",
     "text": [
      "Validation Loss: 1.0157 | Validation Accuracy: 0.6206\n",
      "Epoch 350 | Train Loss: 0.9245 | Train Accuracy: 0.6305\n"
     ]
    },
    {
     "name": "stderr",
     "output_type": "stream",
     "text": [
      "\r",
      " 88%|████████▊ | 351/400 [5:49:44<46:51, 57.38s/it]"
     ]
    },
    {
     "name": "stdout",
     "output_type": "stream",
     "text": [
      "Validation Loss: 1.0525 | Validation Accuracy: 0.6149\n",
      "Epoch 351 | Train Loss: 0.8604 | Train Accuracy: 0.6329\n"
     ]
    },
    {
     "name": "stderr",
     "output_type": "stream",
     "text": [
      "\r",
      " 88%|████████▊ | 352/400 [5:50:42<45:52, 57.35s/it]"
     ]
    },
    {
     "name": "stdout",
     "output_type": "stream",
     "text": [
      "Validation Loss: 1.0432 | Validation Accuracy: 0.6211\n",
      "Epoch 352 | Train Loss: 0.8592 | Train Accuracy: 0.6296\n"
     ]
    },
    {
     "name": "stderr",
     "output_type": "stream",
     "text": [
      "\r",
      " 88%|████████▊ | 353/400 [5:51:39<44:51, 57.27s/it]"
     ]
    },
    {
     "name": "stdout",
     "output_type": "stream",
     "text": [
      "Validation Loss: 1.0435 | Validation Accuracy: 0.6177\n",
      "Epoch 353 | Train Loss: 0.8585 | Train Accuracy: 0.6289\n"
     ]
    },
    {
     "name": "stderr",
     "output_type": "stream",
     "text": [
      "\r",
      " 88%|████████▊ | 354/400 [5:52:34<43:21, 56.54s/it]"
     ]
    },
    {
     "name": "stdout",
     "output_type": "stream",
     "text": [
      "Validation Loss: 1.0426 | Validation Accuracy: 0.6147\n",
      "Epoch 354 | Train Loss: 0.8580 | Train Accuracy: 0.6272\n"
     ]
    },
    {
     "name": "stderr",
     "output_type": "stream",
     "text": [
      "\r",
      " 89%|████████▉ | 355/400 [5:53:30<42:17, 56.39s/it]"
     ]
    },
    {
     "name": "stdout",
     "output_type": "stream",
     "text": [
      "Validation Loss: 1.0402 | Validation Accuracy: 0.6122\n",
      "Epoch 355 | Train Loss: 0.8577 | Train Accuracy: 0.6261\n"
     ]
    },
    {
     "name": "stderr",
     "output_type": "stream",
     "text": [
      "\r",
      " 89%|████████▉ | 356/400 [5:54:26<41:21, 56.39s/it]"
     ]
    },
    {
     "name": "stdout",
     "output_type": "stream",
     "text": [
      "Validation Loss: 1.0370 | Validation Accuracy: 0.6123\n",
      "Epoch 356 | Train Loss: 0.8577 | Train Accuracy: 0.6266\n"
     ]
    },
    {
     "name": "stderr",
     "output_type": "stream",
     "text": [
      "\r",
      " 89%|████████▉ | 357/400 [5:55:25<40:53, 57.06s/it]"
     ]
    },
    {
     "name": "stdout",
     "output_type": "stream",
     "text": [
      "Validation Loss: 1.0340 | Validation Accuracy: 0.6152\n",
      "Epoch 357 | Train Loss: 0.8580 | Train Accuracy: 0.6282\n"
     ]
    },
    {
     "name": "stderr",
     "output_type": "stream",
     "text": [
      "\r",
      " 90%|████████▉ | 358/400 [5:56:20<39:38, 56.64s/it]"
     ]
    },
    {
     "name": "stdout",
     "output_type": "stream",
     "text": [
      "Validation Loss: 1.0322 | Validation Accuracy: 0.6182\n",
      "Epoch 358 | Train Loss: 0.8582 | Train Accuracy: 0.6295\n"
     ]
    },
    {
     "name": "stderr",
     "output_type": "stream",
     "text": [
      "\r",
      " 90%|████████▉ | 359/400 [5:57:17<38:36, 56.50s/it]"
     ]
    },
    {
     "name": "stdout",
     "output_type": "stream",
     "text": [
      "Validation Loss: 1.0307 | Validation Accuracy: 0.6197\n",
      "Epoch 359 | Train Loss: 0.8583 | Train Accuracy: 0.6298\n"
     ]
    },
    {
     "name": "stderr",
     "output_type": "stream",
     "text": [
      "\r",
      " 90%|█████████ | 360/400 [5:58:12<37:26, 56.15s/it]"
     ]
    },
    {
     "name": "stdout",
     "output_type": "stream",
     "text": [
      "Validation Loss: 1.0294 | Validation Accuracy: 0.6201\n",
      "Epoch 360 | Train Loss: 0.8583 | Train Accuracy: 0.6296\n"
     ]
    },
    {
     "name": "stderr",
     "output_type": "stream",
     "text": [
      "\r",
      " 90%|█████████ | 361/400 [5:59:06<36:10, 55.66s/it]"
     ]
    },
    {
     "name": "stdout",
     "output_type": "stream",
     "text": [
      "Validation Loss: 1.0281 | Validation Accuracy: 0.6201\n",
      "Epoch 361 | Train Loss: 0.8583 | Train Accuracy: 0.6295\n"
     ]
    },
    {
     "name": "stderr",
     "output_type": "stream",
     "text": [
      "\r",
      " 90%|█████████ | 362/400 [6:00:02<35:10, 55.55s/it]"
     ]
    },
    {
     "name": "stdout",
     "output_type": "stream",
     "text": [
      "Validation Loss: 1.0269 | Validation Accuracy: 0.6199\n",
      "Epoch 362 | Train Loss: 0.8583 | Train Accuracy: 0.6295\n"
     ]
    },
    {
     "name": "stderr",
     "output_type": "stream",
     "text": [
      "\r",
      " 91%|█████████ | 363/400 [6:00:58<34:26, 55.86s/it]"
     ]
    },
    {
     "name": "stdout",
     "output_type": "stream",
     "text": [
      "Validation Loss: 1.0258 | Validation Accuracy: 0.6200\n",
      "Epoch 363 | Train Loss: 0.8583 | Train Accuracy: 0.6296\n"
     ]
    },
    {
     "name": "stderr",
     "output_type": "stream",
     "text": [
      "\r",
      " 91%|█████████ | 364/400 [6:01:55<33:41, 56.16s/it]"
     ]
    },
    {
     "name": "stdout",
     "output_type": "stream",
     "text": [
      "Validation Loss: 1.0249 | Validation Accuracy: 0.6200\n",
      "Epoch 364 | Train Loss: 0.8582 | Train Accuracy: 0.6299\n"
     ]
    },
    {
     "name": "stderr",
     "output_type": "stream",
     "text": [
      "\r",
      " 91%|█████████▏| 365/400 [6:02:55<33:26, 57.32s/it]"
     ]
    },
    {
     "name": "stdout",
     "output_type": "stream",
     "text": [
      "Validation Loss: 1.0242 | Validation Accuracy: 0.6201\n",
      "Epoch 365 | Train Loss: 0.8582 | Train Accuracy: 0.6297\n"
     ]
    },
    {
     "name": "stderr",
     "output_type": "stream",
     "text": [
      "\r",
      " 92%|█████████▏| 366/400 [6:03:51<32:11, 56.80s/it]"
     ]
    },
    {
     "name": "stdout",
     "output_type": "stream",
     "text": [
      "Validation Loss: 1.0235 | Validation Accuracy: 0.6202\n",
      "Epoch 366 | Train Loss: 0.8582 | Train Accuracy: 0.6298\n"
     ]
    },
    {
     "name": "stderr",
     "output_type": "stream",
     "text": [
      "\r",
      " 92%|█████████▏| 367/400 [6:04:47<31:10, 56.68s/it]"
     ]
    },
    {
     "name": "stdout",
     "output_type": "stream",
     "text": [
      "Validation Loss: 1.0231 | Validation Accuracy: 0.6204\n",
      "Epoch 367 | Train Loss: 0.8582 | Train Accuracy: 0.6298\n"
     ]
    },
    {
     "name": "stderr",
     "output_type": "stream",
     "text": [
      "\r",
      " 92%|█████████▏| 368/400 [6:05:49<30:59, 58.11s/it]"
     ]
    },
    {
     "name": "stdout",
     "output_type": "stream",
     "text": [
      "Validation Loss: 1.0226 | Validation Accuracy: 0.6204\n",
      "Epoch 368 | Train Loss: 0.8582 | Train Accuracy: 0.6298\n"
     ]
    },
    {
     "name": "stderr",
     "output_type": "stream",
     "text": [
      "\r",
      " 92%|█████████▏| 369/400 [6:06:44<29:38, 57.38s/it]"
     ]
    },
    {
     "name": "stdout",
     "output_type": "stream",
     "text": [
      "Validation Loss: 1.0223 | Validation Accuracy: 0.6206\n",
      "Epoch 369 | Train Loss: 0.8582 | Train Accuracy: 0.6298\n"
     ]
    },
    {
     "name": "stderr",
     "output_type": "stream",
     "text": [
      "\r",
      " 92%|█████████▎| 370/400 [6:07:40<28:30, 57.00s/it]"
     ]
    },
    {
     "name": "stdout",
     "output_type": "stream",
     "text": [
      "Validation Loss: 1.0219 | Validation Accuracy: 0.6206\n",
      "Epoch 370 | Train Loss: 0.8581 | Train Accuracy: 0.6298\n"
     ]
    },
    {
     "name": "stderr",
     "output_type": "stream",
     "text": [
      "\r",
      " 93%|█████████▎| 371/400 [6:08:36<27:24, 56.71s/it]"
     ]
    },
    {
     "name": "stdout",
     "output_type": "stream",
     "text": [
      "Validation Loss: 1.0216 | Validation Accuracy: 0.6207\n",
      "Epoch 371 | Train Loss: 0.8581 | Train Accuracy: 0.6298\n"
     ]
    },
    {
     "name": "stderr",
     "output_type": "stream",
     "text": [
      "\r",
      " 93%|█████████▎| 372/400 [6:09:32<26:22, 56.51s/it]"
     ]
    },
    {
     "name": "stdout",
     "output_type": "stream",
     "text": [
      "Validation Loss: 1.0214 | Validation Accuracy: 0.6207\n",
      "Epoch 372 | Train Loss: 0.8587 | Train Accuracy: 0.6299\n"
     ]
    },
    {
     "name": "stderr",
     "output_type": "stream",
     "text": [
      "\r",
      " 93%|█████████▎| 373/400 [6:10:28<25:20, 56.32s/it]"
     ]
    },
    {
     "name": "stdout",
     "output_type": "stream",
     "text": [
      "Validation Loss: 1.0211 | Validation Accuracy: 0.6206\n",
      "Epoch 373 | Train Loss: 0.8581 | Train Accuracy: 0.6299\n"
     ]
    },
    {
     "name": "stderr",
     "output_type": "stream",
     "text": [
      "\r",
      " 94%|█████████▎| 374/400 [6:11:25<24:23, 56.31s/it]"
     ]
    },
    {
     "name": "stdout",
     "output_type": "stream",
     "text": [
      "Validation Loss: 1.0207 | Validation Accuracy: 0.6207\n",
      "Epoch 374 | Train Loss: 0.8581 | Train Accuracy: 0.6300\n"
     ]
    },
    {
     "name": "stderr",
     "output_type": "stream",
     "text": [
      "\r",
      " 94%|█████████▍| 375/400 [6:12:23<23:41, 56.88s/it]"
     ]
    },
    {
     "name": "stdout",
     "output_type": "stream",
     "text": [
      "Validation Loss: 1.0205 | Validation Accuracy: 0.6207\n",
      "Epoch 375 | Train Loss: 0.8581 | Train Accuracy: 0.6300\n"
     ]
    },
    {
     "name": "stderr",
     "output_type": "stream",
     "text": [
      "\r",
      " 94%|█████████▍| 376/400 [6:13:23<23:07, 57.83s/it]"
     ]
    },
    {
     "name": "stdout",
     "output_type": "stream",
     "text": [
      "Validation Loss: 1.0203 | Validation Accuracy: 0.6209\n",
      "Epoch 376 | Train Loss: 0.8581 | Train Accuracy: 0.6299\n"
     ]
    },
    {
     "name": "stderr",
     "output_type": "stream",
     "text": [
      "\r",
      " 94%|█████████▍| 377/400 [6:14:19<21:58, 57.35s/it]"
     ]
    },
    {
     "name": "stdout",
     "output_type": "stream",
     "text": [
      "Validation Loss: 1.0200 | Validation Accuracy: 0.6211\n",
      "Epoch 377 | Train Loss: 0.8581 | Train Accuracy: 0.6299\n"
     ]
    },
    {
     "name": "stderr",
     "output_type": "stream",
     "text": [
      "\r",
      " 94%|█████████▍| 378/400 [6:15:14<20:46, 56.66s/it]"
     ]
    },
    {
     "name": "stdout",
     "output_type": "stream",
     "text": [
      "Validation Loss: 1.0199 | Validation Accuracy: 0.6211\n",
      "Epoch 378 | Train Loss: 0.8581 | Train Accuracy: 0.6300\n"
     ]
    },
    {
     "name": "stderr",
     "output_type": "stream",
     "text": [
      "\r",
      " 95%|█████████▍| 379/400 [6:16:09<19:41, 56.26s/it]"
     ]
    },
    {
     "name": "stdout",
     "output_type": "stream",
     "text": [
      "Validation Loss: 1.0198 | Validation Accuracy: 0.6211\n",
      "Epoch 379 | Train Loss: 0.8580 | Train Accuracy: 0.6299\n"
     ]
    },
    {
     "name": "stderr",
     "output_type": "stream",
     "text": [
      "\r",
      " 95%|█████████▌| 380/400 [6:17:09<19:03, 57.16s/it]"
     ]
    },
    {
     "name": "stdout",
     "output_type": "stream",
     "text": [
      "Validation Loss: 1.0199 | Validation Accuracy: 0.6210\n",
      "Epoch 380 | Train Loss: 0.8580 | Train Accuracy: 0.6300\n"
     ]
    },
    {
     "name": "stderr",
     "output_type": "stream",
     "text": [
      "\r",
      " 95%|█████████▌| 381/400 [6:18:06<18:04, 57.09s/it]"
     ]
    },
    {
     "name": "stdout",
     "output_type": "stream",
     "text": [
      "Validation Loss: 1.0198 | Validation Accuracy: 0.6210\n",
      "Epoch 381 | Train Loss: 0.8581 | Train Accuracy: 0.6300\n"
     ]
    },
    {
     "name": "stderr",
     "output_type": "stream",
     "text": [
      "\r",
      " 96%|█████████▌| 382/400 [6:19:01<16:57, 56.52s/it]"
     ]
    },
    {
     "name": "stdout",
     "output_type": "stream",
     "text": [
      "Validation Loss: 1.0200 | Validation Accuracy: 0.6210\n",
      "Epoch 382 | Train Loss: 0.8580 | Train Accuracy: 0.6300\n"
     ]
    },
    {
     "name": "stderr",
     "output_type": "stream",
     "text": [
      "\r",
      " 96%|█████████▌| 383/400 [6:19:56<15:54, 56.16s/it]"
     ]
    },
    {
     "name": "stdout",
     "output_type": "stream",
     "text": [
      "Validation Loss: 1.0198 | Validation Accuracy: 0.6210\n",
      "Epoch 383 | Train Loss: 0.8580 | Train Accuracy: 0.6300\n"
     ]
    },
    {
     "name": "stderr",
     "output_type": "stream",
     "text": [
      "\r",
      " 96%|█████████▌| 384/400 [6:20:50<14:48, 55.50s/it]"
     ]
    },
    {
     "name": "stdout",
     "output_type": "stream",
     "text": [
      "Validation Loss: 1.0197 | Validation Accuracy: 0.6210\n",
      "Epoch 384 | Train Loss: 0.8580 | Train Accuracy: 0.6300\n"
     ]
    },
    {
     "name": "stderr",
     "output_type": "stream",
     "text": [
      "\r",
      " 96%|█████████▋| 385/400 [6:21:45<13:49, 55.33s/it]"
     ]
    },
    {
     "name": "stdout",
     "output_type": "stream",
     "text": [
      "Validation Loss: 1.0196 | Validation Accuracy: 0.6210\n",
      "Epoch 385 | Train Loss: 0.8580 | Train Accuracy: 0.6301\n"
     ]
    },
    {
     "name": "stderr",
     "output_type": "stream",
     "text": [
      "\r",
      " 96%|█████████▋| 386/400 [6:22:45<13:11, 56.56s/it]"
     ]
    },
    {
     "name": "stdout",
     "output_type": "stream",
     "text": [
      "Validation Loss: 1.0196 | Validation Accuracy: 0.6210\n",
      "Epoch 386 | Train Loss: 0.8580 | Train Accuracy: 0.6301\n"
     ]
    },
    {
     "name": "stderr",
     "output_type": "stream",
     "text": [
      "\r",
      " 97%|█████████▋| 387/400 [6:23:44<12:26, 57.41s/it]"
     ]
    },
    {
     "name": "stdout",
     "output_type": "stream",
     "text": [
      "Validation Loss: 1.0196 | Validation Accuracy: 0.6210\n",
      "Epoch 387 | Train Loss: 0.8580 | Train Accuracy: 0.6302\n"
     ]
    },
    {
     "name": "stderr",
     "output_type": "stream",
     "text": [
      "\r",
      " 97%|█████████▋| 388/400 [6:24:40<11:22, 56.88s/it]"
     ]
    },
    {
     "name": "stdout",
     "output_type": "stream",
     "text": [
      "Validation Loss: 1.0197 | Validation Accuracy: 0.6210\n",
      "Epoch 388 | Train Loss: 0.8580 | Train Accuracy: 0.6302\n"
     ]
    },
    {
     "name": "stderr",
     "output_type": "stream",
     "text": [
      "\r",
      " 97%|█████████▋| 389/400 [6:25:35<10:22, 56.56s/it]"
     ]
    },
    {
     "name": "stdout",
     "output_type": "stream",
     "text": [
      "Validation Loss: 1.0199 | Validation Accuracy: 0.6210\n",
      "Epoch 389 | Train Loss: 0.8579 | Train Accuracy: 0.6302\n"
     ]
    },
    {
     "name": "stderr",
     "output_type": "stream",
     "text": [
      "\r",
      " 98%|█████████▊| 390/400 [6:26:32<09:25, 56.54s/it]"
     ]
    },
    {
     "name": "stdout",
     "output_type": "stream",
     "text": [
      "Validation Loss: 1.0200 | Validation Accuracy: 0.6210\n",
      "Epoch 390 | Train Loss: 0.9550 | Train Accuracy: 0.6314\n"
     ]
    },
    {
     "name": "stderr",
     "output_type": "stream",
     "text": [
      "\r",
      " 98%|█████████▊| 391/400 [6:27:29<08:31, 56.80s/it]"
     ]
    },
    {
     "name": "stdout",
     "output_type": "stream",
     "text": [
      "Validation Loss: 1.0596 | Validation Accuracy: 0.6142\n",
      "Epoch 391 | Train Loss: 0.8604 | Train Accuracy: 0.6331\n"
     ]
    },
    {
     "name": "stderr",
     "output_type": "stream",
     "text": [
      "\r",
      " 98%|█████████▊| 392/400 [6:28:29<07:42, 57.81s/it]"
     ]
    },
    {
     "name": "stdout",
     "output_type": "stream",
     "text": [
      "Validation Loss: 1.0505 | Validation Accuracy: 0.6211\n",
      "Epoch 392 | Train Loss: 0.8595 | Train Accuracy: 0.6309\n"
     ]
    },
    {
     "name": "stderr",
     "output_type": "stream",
     "text": [
      "\r",
      " 98%|█████████▊| 393/400 [6:29:29<06:47, 58.21s/it]"
     ]
    },
    {
     "name": "stdout",
     "output_type": "stream",
     "text": [
      "Validation Loss: 1.0540 | Validation Accuracy: 0.6200\n",
      "Epoch 393 | Train Loss: 0.8591 | Train Accuracy: 0.6296\n"
     ]
    },
    {
     "name": "stderr",
     "output_type": "stream",
     "text": [
      "\r",
      " 98%|█████████▊| 394/400 [6:30:27<05:50, 58.38s/it]"
     ]
    },
    {
     "name": "stdout",
     "output_type": "stream",
     "text": [
      "Validation Loss: 1.0567 | Validation Accuracy: 0.6185\n",
      "Epoch 394 | Train Loss: 0.8588 | Train Accuracy: 0.6294\n"
     ]
    },
    {
     "name": "stderr",
     "output_type": "stream",
     "text": [
      "\r",
      " 99%|█████████▉| 395/400 [6:31:27<04:54, 58.88s/it]"
     ]
    },
    {
     "name": "stdout",
     "output_type": "stream",
     "text": [
      "Validation Loss: 1.0590 | Validation Accuracy: 0.6168\n",
      "Epoch 395 | Train Loss: 0.8586 | Train Accuracy: 0.6290\n"
     ]
    },
    {
     "name": "stderr",
     "output_type": "stream",
     "text": [
      "\r",
      " 99%|█████████▉| 396/400 [6:32:26<03:55, 58.91s/it]"
     ]
    },
    {
     "name": "stdout",
     "output_type": "stream",
     "text": [
      "Validation Loss: 1.0608 | Validation Accuracy: 0.6151\n",
      "Epoch 396 | Train Loss: 0.8584 | Train Accuracy: 0.6283\n"
     ]
    },
    {
     "name": "stderr",
     "output_type": "stream",
     "text": [
      "\r",
      " 99%|█████████▉| 397/400 [6:33:25<02:56, 58.90s/it]"
     ]
    },
    {
     "name": "stdout",
     "output_type": "stream",
     "text": [
      "Validation Loss: 1.0616 | Validation Accuracy: 0.6143\n",
      "Epoch 397 | Train Loss: 0.8581 | Train Accuracy: 0.6277\n"
     ]
    },
    {
     "name": "stderr",
     "output_type": "stream",
     "text": [
      "\r",
      "100%|█████████▉| 398/400 [6:34:24<01:57, 58.99s/it]"
     ]
    },
    {
     "name": "stdout",
     "output_type": "stream",
     "text": [
      "Validation Loss: 1.0611 | Validation Accuracy: 0.6128\n",
      "Epoch 398 | Train Loss: 0.8578 | Train Accuracy: 0.6264\n"
     ]
    },
    {
     "name": "stderr",
     "output_type": "stream",
     "text": [
      "\r",
      "100%|█████████▉| 399/400 [6:35:24<00:59, 59.26s/it]"
     ]
    },
    {
     "name": "stdout",
     "output_type": "stream",
     "text": [
      "Validation Loss: 1.0592 | Validation Accuracy: 0.6113\n",
      "Epoch 399 | Train Loss: 0.8576 | Train Accuracy: 0.6262\n"
     ]
    },
    {
     "name": "stderr",
     "output_type": "stream",
     "text": [
      "100%|██████████| 400/400 [6:36:25<00:00, 59.46s/it]"
     ]
    },
    {
     "name": "stdout",
     "output_type": "stream",
     "text": [
      "Validation Loss: 1.0560 | Validation Accuracy: 0.6117\n"
     ]
    },
    {
     "name": "stderr",
     "output_type": "stream",
     "text": [
      "\n"
     ]
    },
    {
     "name": "stdout",
     "output_type": "stream",
     "text": [
      "Test Accuracy: 62 %\n"
     ]
    }
   ],
   "source": [
    "model = GCN(1, 16, 168) # 1是輸入特徵的維度，16是隱藏層大小，168是類別數量\n",
    "\n",
    "# model = GAT(in_dim=1, hidden_dim=16, out_dim=168, num_heads=4)\n",
    "# in_dim means the dimension of the node_feat(1 dim, since the design of our dataset), if a node has multiple feature -> in_dim > 1\n",
    "# out_dim means the # of the categories -> 168 for out tasks\n",
    "\n",
    "\n",
    "model = model.to(device)\n",
    "print(f\"Using: {device} now\")\n",
    "\n",
    "criterion = nn.CrossEntropyLoss()\n",
    "total_steps = 400\n",
    "\n",
    "optimizer = torch.optim.AdamW(model.parameters(), lr=5e-4)\n",
    "# scheduler = get_linear_schedule_with_warmup(optimizer, num_warmup_steps=30, num_training_steps=total_steps)\n",
    "\n",
    "\n",
    "\n",
    "for epoch in tqdm(range(total_steps)):\n",
    "    # Train\n",
    "    model.train()\n",
    "    total_loss = 0.0\n",
    "    total_accuracy = 0.0\n",
    "    num_batches = 0\n",
    "    \n",
    "    for data in dataloaders['train']:\n",
    "#         print(data)\n",
    "        loss, accuracy = model_fn(data, model, criterion, device)\n",
    "        \n",
    "        optimizer.zero_grad()\n",
    "        loss.backward()\n",
    "        optimizer.step()\n",
    "\n",
    "        total_loss += loss.item()\n",
    "        total_accuracy += accuracy.item()\n",
    "        num_batches += 1\n",
    "        \n",
    "#     scheduler.step()\n",
    "    avg_loss = total_loss / num_batches\n",
    "    avg_accuracy = total_accuracy / num_batches\n",
    "\n",
    "    print(f'Epoch {epoch} | Train Loss: {avg_loss:.4f} | Train Accuracy: {avg_accuracy:.4f}')\n",
    "\n",
    "    # Validate\n",
    "    model.eval()\n",
    "    total_accuracy = 0.0\n",
    "    total_loss = 0.0\n",
    "    num_batches = 0\n",
    "\n",
    "    with torch.no_grad():\n",
    "        for batched_g in dataloaders['valid']:\n",
    "            loss, accuracy = model_fn(batched_g, model, criterion, device)\n",
    "            total_accuracy += accuracy.item()\n",
    "            total_loss += loss.item()\n",
    "            num_batches += 1\n",
    "\n",
    "    avg_accuracy = total_accuracy / num_batches\n",
    "    avg_loss = total_loss / num_batches\n",
    "    print(f'Validation Loss: {avg_loss:.4f} | Validation Accuracy: {avg_accuracy:.4f}')\n",
    "\n",
    "\n",
    "    # Save checkpoint\n",
    "    torch.save({\n",
    "            'epoch': epoch,\n",
    "            'model_state_dict': model.state_dict(),\n",
    "            'optimizer_state_dict': optimizer.state_dict(),\n",
    "            'loss': loss,\n",
    "            }, f\"../checkpoint_GCN/checkpoint_{epoch}.pt\")\n",
    "    \n",
    "\n",
    "# After all epochs\n",
    "model.eval()\n",
    "total = 0\n",
    "correct = 0\n",
    "with torch.no_grad():\n",
    "#     for batched_g, labels in test_dataloader:\n",
    "    for batched_g, labels in dataloaders['test']:\n",
    "        batched_g = batched_g.to(device)\n",
    "        labels = labels.to(device)\n",
    "        logits = model(batched_g, batched_g.ndata['feat'])\n",
    "        _, predicted = torch.max(logits.data, 1)\n",
    "        total += labels.size(0)\n",
    "        correct += (predicted == labels).sum().item()\n",
    "    print('Test Accuracy: %d %%' % (100 * correct / total))"
   ]
  },
  {
   "cell_type": "code",
   "execution_count": null,
   "metadata": {},
   "outputs": [],
   "source": []
  },
  {
   "cell_type": "code",
   "execution_count": null,
   "metadata": {},
   "outputs": [],
   "source": [
    "# 1. 定義圖神經網路模型\n",
    "class GCN(nn.Module):\n",
    "    def __init__(self, in_feats, hidden_size, num_classes):\n",
    "        super(GCN, self).__init__()\n",
    "        self.conv1 = GraphConv(in_feats, hidden_size)\n",
    "        self.conv2 = GraphConv(hidden_size, num_classes)\n",
    "\n",
    "    def forward(self, g, inputs):\n",
    "        h = self.conv1(g, inputs)\n",
    "        h = torch.relu(h)\n",
    "        h = self.conv2(g, h)\n",
    "        g.ndata['h'] = h\n",
    "        # 將每個圖的所有節點特徵進行平均\n",
    "        hg = dgl.mean_nodes(g, 'h')\n",
    "        return hg\n",
    "\n",
    "# 2. 定義數據集\n",
    "class GraphDataset(Dataset):\n",
    "    def __init__(self, data_list):\n",
    "        self.data_list = data_list\n",
    "\n",
    "    def __len__(self):\n",
    "        return len(self.data_list)\n",
    "\n",
    "    def __getitem__(self, idx):\n",
    "        data = self.data_list[idx]\n",
    "        g = dgl.graph((data[\"edge_index\"][0], data[\"edge_index\"][1]), num_nodes=data[\"num_nodes\"])\n",
    "        g = dgl.add_self_loop(g)  # add self loop to each node\n",
    "        g.ndata['feat'] = torch.tensor(data[\"node_feat\"])\n",
    "        # g.edata['feat'] = torch.tensor(data[\"edge_attr\"])\n",
    "        return g, torch.tensor(data[\"y\"])\n",
    "\n",
    "\n",
    "def collate(samples):\n",
    "    # The input `samples` is a list of pairs\n",
    "    #  (graph, label).\n",
    "    graphs, labels = map(list, zip(*samples))\n",
    "    batched_graph = dgl.batch(graphs)\n",
    "    return batched_graph, torch.tensor(labels)\n",
    "\n",
    "\n",
    "with open(\"../data/final_small_version/remaining_train.jsonl\") as f:\n",
    "    train_data_list = [json.loads(line) for line in f]\n",
    "train_dataset = GraphDataset(train_data_list)\n",
    "# train_dataloader = DataLoader(train_dataset, batch_size=32, shuffle=True, collate_fn=dgl.batch)\n",
    "\n",
    "with open(\"../data/final_small_version/remaining_valid.jsonl\") as f:\n",
    "    val_data_list = [json.loads(line) for line in f]\n",
    "val_dataset = GraphDataset(val_data_list)\n",
    "# val_dataloader = DataLoader(val_dataset, batch_size=32, shuffle=True, collate_fn=dgl.batch)\n",
    "\n",
    "with open(\"../data/final_small_version/remaining_test.jsonl\") as f:\n",
    "    test_data_list = [json.loads(line) for line in f]\n",
    "test_dataset = GraphDataset(test_data_list)\n",
    "# test_dataloader = DataLoader(test_dataset, batch_size=32, shuffle=True, collate_fn=dgl.batch)\n",
    "\n",
    "train_dataloader = DataLoader(train_dataset, batch_size=32, shuffle=True, collate_fn=collate)\n",
    "val_dataloader = DataLoader(val_dataset, batch_size=32, shuffle=True, collate_fn=collate)\n",
    "test_dataloader = DataLoader(test_dataset, batch_size=32, shuffle=True, collate_fn=collate)\n",
    "\n",
    "\n",
    "\n",
    "# 4. 創建模型並訓練\n",
    "model = GCN(1, 16, 168) # 1是輸入特徵的維度，16是隱藏層大小，168是類別數量\n",
    "# model = model.to(device)\n",
    "optimizer = torch.optim.Adam(model.parameters(), lr=0.01)\n",
    "\n",
    "for epoch in tqdm(range(100)):\n",
    "    for batched_g, labels in train_dataloader:\n",
    "        # batched_g, labels = batched_g.to(device), labels.to(device)\n",
    "        logits = model(batched_g, batched_g.ndata['feat'])\n",
    "        loss = F.cross_entropy(logits, labels)\n",
    "        optimizer.zero_grad()\n",
    "        loss.backward()\n",
    "        optimizer.step()\n",
    "    print('Epoch %d | Loss: %.4f' % (epoch, loss.item()))\n",
    "\n",
    "    # 儲存 checkpoint\n",
    "    torch.save({\n",
    "            'epoch': epoch,\n",
    "            'model_state_dict': model.state_dict(),\n",
    "            'optimizer_state_dict': optimizer.state_dict(),\n",
    "            'loss': loss,\n",
    "            }, f\"./checkpoint/checkpoint_{epoch}.pt\")\n",
    "\n",
    "# 5. 驗證模型\n",
    "model.eval()\n",
    "with torch.no_grad():\n",
    "    for batched_g, labels in val_dataloader:\n",
    "        logits = model(batched_g, batched_g.ndata['feat'])\n",
    "        _, predicted = torch.max(logits.data, 1)\n",
    "        total = labels.size(0)\n",
    "        correct = (predicted == labels).sum().item()\n",
    "        print('Accuracy: %d %%' % (100 * correct / total))"
   ]
  },
  {
   "cell_type": "code",
   "execution_count": null,
   "metadata": {},
   "outputs": [],
   "source": []
  },
  {
   "cell_type": "code",
   "execution_count": null,
   "metadata": {},
   "outputs": [],
   "source": []
  }
 ],
 "metadata": {
  "kernelspec": {
   "display_name": "Python 3",
   "language": "python",
   "name": "python3"
  },
  "language_info": {
   "codemirror_mode": {
    "name": "ipython",
    "version": 3
   },
   "file_extension": ".py",
   "mimetype": "text/x-python",
   "name": "python",
   "nbconvert_exporter": "python",
   "pygments_lexer": "ipython3",
   "version": "3.6.9"
  }
 },
 "nbformat": 4,
 "nbformat_minor": 2
}
