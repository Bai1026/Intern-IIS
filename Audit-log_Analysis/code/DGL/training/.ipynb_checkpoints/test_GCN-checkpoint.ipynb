{
 "cells": [
  {
   "cell_type": "markdown",
   "metadata": {},
   "source": [
    "# Test of GCN\n",
    "- use DGL"
   ]
  },
  {
   "cell_type": "code",
   "execution_count": 13,
   "metadata": {},
   "outputs": [],
   "source": [
    "import dgl\n",
    "import json\n",
    "import torch\n",
    "import torch as th\n",
    "from tqdm import tqdm\n",
    "import torch.nn as nn\n",
    "from dgl.nn import GraphConv, GATConv\n",
    "import torch.nn.functional as F\n",
    "from torch.utils.data import Dataset, DataLoader\n",
    "from transformers import get_linear_schedule_with_warmup"
   ]
  },
  {
   "cell_type": "markdown",
   "metadata": {},
   "source": [
    "- check the GPU and assign the GPU"
   ]
  },
  {
   "cell_type": "code",
   "execution_count": 16,
   "metadata": {},
   "outputs": [
    {
     "name": "stdout",
     "output_type": "stream",
     "text": [
      "cuda:2\n"
     ]
    }
   ],
   "source": [
    "import subprocess\n",
    "import torch\n",
    "\n",
    "def get_free_gpu():\n",
    "    try:\n",
    "        # Run nvidia-smi command to get GPU details\n",
    "        _output_to_list = lambda x: x.decode('ascii').split('\\n')[:-1]\n",
    "        command = \"nvidia-smi --query-gpu=memory.free --format=csv,nounits,noheader\"\n",
    "        memory_free_info = _output_to_list(subprocess.check_output(command.split())) \n",
    "        memory_free_values = [int(x) for i, x in enumerate(memory_free_info)]\n",
    "        \n",
    "        # Get the GPU with the maximum free memory\n",
    "        best_gpu_id = memory_free_values.index(max(memory_free_values))\n",
    "        return best_gpu_id\n",
    "    except:\n",
    "        # If any exception occurs, default to GPU 0 (this handles cases where nvidia-smi isn't installed)\n",
    "        return 0\n",
    "\n",
    "if torch.cuda.is_available():\n",
    "    # Get the best GPU ID based on free memory and set it\n",
    "    best_gpu_id = get_free_gpu()\n",
    "    device = torch.device(f\"cuda:{best_gpu_id}\")\n",
    "else:\n",
    "    device = torch.device(\"cpu\")\n",
    "\n",
    "print(device)\n"
   ]
  },
  {
   "cell_type": "markdown",
   "metadata": {},
   "source": [
    "## Data Loader"
   ]
  },
  {
   "cell_type": "code",
   "execution_count": 5,
   "metadata": {},
   "outputs": [],
   "source": [
    "class GraphDataset(Dataset):\n",
    "    def __init__(self, data_list, device):\n",
    "        self.data_list = data_list\n",
    "        self.device = device\n",
    "\n",
    "    def __len__(self):\n",
    "        return len(self.data_list)\n",
    "\n",
    "    def __getitem__(self, idx):\n",
    "        data = self.data_list[idx]\n",
    "        g = dgl.graph((th.tensor(data[\"edge_index\"][0]), th.tensor(data[\"edge_index\"][1])), num_nodes=data[\"num_nodes\"]).to(self.device)\n",
    "        g = dgl.add_self_loop(g) # this would cause the num_edges = 2+3 in each sub_graph\n",
    "        g.ndata['feat'] = th.tensor(data[\"node_feat\"]).to(self.device)\n",
    "        return g, th.tensor(data[\"y\"]).to(self.device)\n",
    "\n",
    "\n",
    "def collate(samples):\n",
    "    # The input `samples` is a list of pairs\n",
    "    #  (graph, label).\n",
    "    graphs, labels = map(list, zip(*samples))\n",
    "    batched_graph = dgl.batch(graphs)\n",
    "    return batched_graph, torch.tensor(labels)"
   ]
  },
  {
   "cell_type": "code",
   "execution_count": 6,
   "metadata": {},
   "outputs": [
    {
     "name": "stderr",
     "output_type": "stream",
     "text": [
      "\r",
      "  0%|          | 0/3 [00:00<?, ?it/s]"
     ]
    },
    {
     "name": "stdout",
     "output_type": "stream",
     "text": [
      "../data/final_small_version/remaining_train.jsonl\n"
     ]
    },
    {
     "name": "stderr",
     "output_type": "stream",
     "text": [
      "100%|██████████| 3/3 [00:00<00:00,  4.42it/s]"
     ]
    },
    {
     "name": "stdout",
     "output_type": "stream",
     "text": [
      "../data/final_small_version/remaining_valid.jsonl\n",
      "../data/final_small_version/remaining_test.jsonl\n"
     ]
    },
    {
     "name": "stderr",
     "output_type": "stream",
     "text": [
      "\r",
      "100%|██████████| 3/3 [00:00<00:00,  3.98it/s]"
     ]
    },
    {
     "name": "stdout",
     "output_type": "stream",
     "text": [
      "Done!\n"
     ]
    },
    {
     "name": "stderr",
     "output_type": "stream",
     "text": [
      "\n"
     ]
    }
   ],
   "source": [
    "datasets = ['train', 'valid', 'test']\n",
    "dataloaders = {}\n",
    "\n",
    "for dataset_name in tqdm(datasets):\n",
    "#     file_path = f\"../data/final_small_version/remaining_{dataset_name}.jsonl\"\n",
    "    file_path = f\"../data/training_data/repeated_{dataset_name}.jsonl\"\n",
    "    print(file_path)\n",
    "    with open(file_path) as f:\n",
    "        data_list = [json.loads(line) for line in f]\n",
    "    \n",
    "    dataset = GraphDataset(data_list, device)\n",
    "    dataloaders[dataset_name] = DataLoader(dataset, batch_size=32, shuffle=False, collate_fn=collate)\n",
    "    \n",
    "print(\"Done!\")"
   ]
  },
  {
   "cell_type": "markdown",
   "metadata": {},
   "source": [
    "### Model"
   ]
  },
  {
   "cell_type": "code",
   "execution_count": 7,
   "metadata": {},
   "outputs": [],
   "source": [
    "class GCN(nn.Module):\n",
    "    def __init__(self, in_feats, hidden_size, num_classes):\n",
    "        super(GCN, self).__init__()\n",
    "        self.conv1 = GraphConv(in_feats, hidden_size)\n",
    "        self.conv2 = GraphConv(hidden_size, hidden_size*4)\n",
    "        self.conv3 = GraphConv(hidden_size*4, num_classes)\n",
    "\n",
    "    def forward(self, g, inputs):\n",
    "        h = self.conv1(g, inputs)\n",
    "        h = torch.relu(h)\n",
    "        h = self.conv2(g, h)\n",
    "        h = torch.relu(h)\n",
    "        h = self.conv3(g, h)\n",
    "        \n",
    "        g.ndata['h'] = h\n",
    "        hg = dgl.mean_nodes(g, 'h')\n",
    "        return hg\n",
    "    \n",
    "# class GCN(nn.Module):\n",
    "#     def __init__(self, in_feats, hidden_size, num_classes):\n",
    "#         super(GCN, self).__init__()\n",
    "#         self.conv1 = GraphConv(in_feats, hidden_size)\n",
    "#         self.conv2 = GraphConv(hidden_size, num_classes)\n",
    "\n",
    "#     def forward(self, g, inputs):\n",
    "#         h = self.conv1(g, inputs)\n",
    "#         h = torch.relu(h)\n",
    "#         h = self.conv2(g, h)\n",
    "        \n",
    "#         g.ndata['h'] = h\n",
    "#         hg = dgl.mean_nodes(g, 'h')\n",
    "#         return hg"
   ]
  },
  {
   "cell_type": "markdown",
   "metadata": {},
   "source": [
    "- Model Forward"
   ]
  },
  {
   "cell_type": "code",
   "execution_count": 8,
   "metadata": {},
   "outputs": [
    {
     "data": {
      "text/plain": [
       "\"\\nbatched_g is like: \\nGraph(num_nodes=96, num_edges=160, ndata_schemes={'feat': Scheme(shape=(1,), dtype=torch.int64)}, edata_schemes={})\\nnum_nodes = 3*batch_size, num_edges = 5*batch_size\\n\\nlabels is like: tensor([ 76,   0,   0,   0,   0,   0,   0,   0,   0,  76,   0,  76,   0,   0,\\n                          0,   0,  76,   0,  30,  92,   0,   0,  76,   0,   0,   0,   0,   0,\\n                        116,   0,  76,  76])\\n\""
      ]
     },
     "execution_count": 8,
     "metadata": {},
     "output_type": "execute_result"
    }
   ],
   "source": [
    "def model_fn(data, model, criterion, device):\n",
    "    \"\"\"Forward a batch through the model.\"\"\"\n",
    "    batched_g, labels = data\n",
    "    batched_g = batched_g.to(device)\n",
    "    labels = labels.to(device)\n",
    "    logits = model(batched_g, batched_g.ndata['feat']) # for GCN\n",
    "#     logits = model(batched_g, batched_g.ndata['feat'].float()) # for GAT\n",
    "\n",
    "    loss = criterion(logits, labels)\n",
    "\n",
    "    # Get the class id with the highest probability.\n",
    "    preds = logits.argmax(1)\n",
    "    # Compute accuracy.\n",
    "    accuracy = torch.mean((preds == labels).float())\n",
    "\n",
    "    return loss, accuracy\n",
    "\n",
    "'''\n",
    "batched_g is like: \n",
    "Graph(num_nodes=96, num_edges=160, ndata_schemes={'feat': Scheme(shape=(1,), dtype=torch.int64)}, edata_schemes={})\n",
    "num_nodes = 3*batch_size, num_edges = 5*batch_size\n",
    "\n",
    "labels is like: tensor([ 76,   0,   0,   0,   0,   0,   0,   0,   0,  76,   0,  76,   0,   0,\n",
    "                          0,   0,  76,   0,  30,  92,   0,   0,  76,   0,   0,   0,   0,   0,\n",
    "                        116,   0,  76,  76])\n",
    "'''"
   ]
  },
  {
   "cell_type": "markdown",
   "metadata": {},
   "source": [
    "### Training"
   ]
  },
  {
   "cell_type": "code",
   "execution_count": 12,
   "metadata": {
    "scrolled": false
   },
   "outputs": [
    {
     "name": "stdout",
     "output_type": "stream",
     "text": [
      "Using: cuda:0 now\n"
     ]
    },
    {
     "name": "stderr",
     "output_type": "stream",
     "text": [
      "\r",
      "  0%|          | 0/120 [00:00<?, ?it/s]"
     ]
    },
    {
     "name": "stdout",
     "output_type": "stream",
     "text": [
      "Epoch 0 | Train Loss: 2625.5943 | Train Accuracy: 0.4763\n"
     ]
    },
    {
     "name": "stderr",
     "output_type": "stream",
     "text": [
      "\r",
      "  1%|          | 1/120 [00:56<1:52:21, 56.65s/it]"
     ]
    },
    {
     "name": "stdout",
     "output_type": "stream",
     "text": [
      "Validation Loss: 494.0275 | Validation Accuracy: 0.6642\n",
      "Epoch 1 | Train Loss: 600.2995 | Train Accuracy: 0.4953\n"
     ]
    },
    {
     "name": "stderr",
     "output_type": "stream",
     "text": [
      "\r",
      "  2%|▏         | 2/120 [01:51<1:49:07, 55.49s/it]"
     ]
    },
    {
     "name": "stdout",
     "output_type": "stream",
     "text": [
      "Validation Loss: 606.5858 | Validation Accuracy: 0.6642\n",
      "Epoch 2 | Train Loss: 488.8606 | Train Accuracy: 0.4949\n"
     ]
    },
    {
     "name": "stderr",
     "output_type": "stream",
     "text": [
      "\r",
      "  2%|▎         | 3/120 [02:47<1:48:36, 55.69s/it]"
     ]
    },
    {
     "name": "stdout",
     "output_type": "stream",
     "text": [
      "Validation Loss: 616.4322 | Validation Accuracy: 0.0002\n",
      "Epoch 3 | Train Loss: 427.2716 | Train Accuracy: 0.4907\n"
     ]
    },
    {
     "name": "stderr",
     "output_type": "stream",
     "text": [
      "\r",
      "  3%|▎         | 4/120 [03:43<1:47:46, 55.74s/it]"
     ]
    },
    {
     "name": "stdout",
     "output_type": "stream",
     "text": [
      "Validation Loss: 430.2292 | Validation Accuracy: 0.6642\n",
      "Epoch 4 | Train Loss: 383.9496 | Train Accuracy: 0.4926\n"
     ]
    },
    {
     "name": "stderr",
     "output_type": "stream",
     "text": [
      "\r",
      "  4%|▍         | 5/120 [04:39<1:47:00, 55.83s/it]"
     ]
    },
    {
     "name": "stdout",
     "output_type": "stream",
     "text": [
      "Validation Loss: 315.8183 | Validation Accuracy: 0.6642\n",
      "Epoch 5 | Train Loss: 344.8707 | Train Accuracy: 0.4948\n"
     ]
    },
    {
     "name": "stderr",
     "output_type": "stream",
     "text": [
      "\r",
      "  5%|▌         | 6/120 [05:34<1:45:31, 55.54s/it]"
     ]
    },
    {
     "name": "stdout",
     "output_type": "stream",
     "text": [
      "Validation Loss: 435.5971 | Validation Accuracy: 0.0002\n",
      "Epoch 6 | Train Loss: 323.5571 | Train Accuracy: 0.4915\n"
     ]
    },
    {
     "name": "stderr",
     "output_type": "stream",
     "text": [
      "\r",
      "  6%|▌         | 7/120 [06:31<1:45:41, 56.12s/it]"
     ]
    },
    {
     "name": "stdout",
     "output_type": "stream",
     "text": [
      "Validation Loss: 353.6193 | Validation Accuracy: 0.6642\n",
      "Epoch 7 | Train Loss: 286.5976 | Train Accuracy: 0.4899\n"
     ]
    },
    {
     "name": "stderr",
     "output_type": "stream",
     "text": [
      "\r",
      "  7%|▋         | 8/120 [07:27<1:44:53, 56.19s/it]"
     ]
    },
    {
     "name": "stdout",
     "output_type": "stream",
     "text": [
      "Validation Loss: 342.9844 | Validation Accuracy: 0.6642\n",
      "Epoch 8 | Train Loss: 244.9461 | Train Accuracy: 0.4956\n"
     ]
    },
    {
     "name": "stderr",
     "output_type": "stream",
     "text": [
      "\r",
      "  8%|▊         | 9/120 [08:22<1:42:58, 55.66s/it]"
     ]
    },
    {
     "name": "stdout",
     "output_type": "stream",
     "text": [
      "Validation Loss: 248.3183 | Validation Accuracy: 0.6642\n",
      "Epoch 9 | Train Loss: 248.4652 | Train Accuracy: 0.4942\n"
     ]
    },
    {
     "name": "stderr",
     "output_type": "stream",
     "text": [
      "\r",
      "  8%|▊         | 10/120 [09:19<1:43:09, 56.26s/it]"
     ]
    },
    {
     "name": "stdout",
     "output_type": "stream",
     "text": [
      "Validation Loss: 226.0744 | Validation Accuracy: 0.6642\n",
      "Epoch 10 | Train Loss: 211.6099 | Train Accuracy: 0.4956\n"
     ]
    },
    {
     "name": "stderr",
     "output_type": "stream",
     "text": [
      "\r",
      "  9%|▉         | 11/120 [10:16<1:42:43, 56.54s/it]"
     ]
    },
    {
     "name": "stdout",
     "output_type": "stream",
     "text": [
      "Validation Loss: 165.2042 | Validation Accuracy: 0.6642\n",
      "Epoch 11 | Train Loss: 180.7896 | Train Accuracy: 0.4968\n"
     ]
    },
    {
     "name": "stderr",
     "output_type": "stream",
     "text": [
      "\r",
      " 10%|█         | 12/120 [11:11<1:40:55, 56.07s/it]"
     ]
    },
    {
     "name": "stdout",
     "output_type": "stream",
     "text": [
      "Validation Loss: 204.9502 | Validation Accuracy: 0.6642\n",
      "Epoch 12 | Train Loss: 175.7802 | Train Accuracy: 0.4944\n"
     ]
    },
    {
     "name": "stderr",
     "output_type": "stream",
     "text": [
      "\r",
      " 11%|█         | 13/120 [12:12<1:42:21, 57.39s/it]"
     ]
    },
    {
     "name": "stdout",
     "output_type": "stream",
     "text": [
      "Validation Loss: 126.9200 | Validation Accuracy: 0.3611\n",
      "Epoch 13 | Train Loss: 144.8497 | Train Accuracy: 0.4918\n"
     ]
    },
    {
     "name": "stderr",
     "output_type": "stream",
     "text": [
      "\r",
      " 12%|█▏        | 14/120 [13:08<1:40:33, 56.92s/it]"
     ]
    },
    {
     "name": "stdout",
     "output_type": "stream",
     "text": [
      "Validation Loss: 207.7641 | Validation Accuracy: 0.2769\n",
      "Epoch 14 | Train Loss: 129.5772 | Train Accuracy: 0.4924\n"
     ]
    },
    {
     "name": "stderr",
     "output_type": "stream",
     "text": [
      "\r",
      " 12%|█▎        | 15/120 [14:06<1:40:15, 57.29s/it]"
     ]
    },
    {
     "name": "stdout",
     "output_type": "stream",
     "text": [
      "Validation Loss: 140.3221 | Validation Accuracy: 0.6642\n",
      "Epoch 15 | Train Loss: 123.7912 | Train Accuracy: 0.4959\n"
     ]
    },
    {
     "name": "stderr",
     "output_type": "stream",
     "text": [
      "\r",
      " 13%|█▎        | 16/120 [15:01<1:38:11, 56.65s/it]"
     ]
    },
    {
     "name": "stdout",
     "output_type": "stream",
     "text": [
      "Validation Loss: 130.3518 | Validation Accuracy: 0.2770\n",
      "Epoch 16 | Train Loss: 100.0037 | Train Accuracy: 0.4941\n"
     ]
    },
    {
     "name": "stderr",
     "output_type": "stream",
     "text": [
      "\r",
      " 14%|█▍        | 17/120 [15:56<1:36:27, 56.19s/it]"
     ]
    },
    {
     "name": "stdout",
     "output_type": "stream",
     "text": [
      "Validation Loss: 96.4111 | Validation Accuracy: 0.6642\n",
      "Epoch 17 | Train Loss: 96.9231 | Train Accuracy: 0.4951\n"
     ]
    },
    {
     "name": "stderr",
     "output_type": "stream",
     "text": [
      "\r",
      " 15%|█▌        | 18/120 [16:50<1:34:10, 55.40s/it]"
     ]
    },
    {
     "name": "stdout",
     "output_type": "stream",
     "text": [
      "Validation Loss: 79.8914 | Validation Accuracy: 0.6487\n",
      "Epoch 18 | Train Loss: 86.4256 | Train Accuracy: 0.4992\n"
     ]
    },
    {
     "name": "stderr",
     "output_type": "stream",
     "text": [
      "\r",
      " 16%|█▌        | 19/120 [17:45<1:33:16, 55.41s/it]"
     ]
    },
    {
     "name": "stdout",
     "output_type": "stream",
     "text": [
      "Validation Loss: 114.5397 | Validation Accuracy: 0.6642\n",
      "Epoch 19 | Train Loss: 84.5219 | Train Accuracy: 0.4969\n"
     ]
    },
    {
     "name": "stderr",
     "output_type": "stream",
     "text": [
      "\r",
      " 17%|█▋        | 20/120 [18:40<1:31:52, 55.12s/it]"
     ]
    },
    {
     "name": "stdout",
     "output_type": "stream",
     "text": [
      "Validation Loss: 107.8029 | Validation Accuracy: 0.6642\n",
      "Epoch 20 | Train Loss: 66.3887 | Train Accuracy: 0.5054\n"
     ]
    },
    {
     "name": "stderr",
     "output_type": "stream",
     "text": [
      "\r",
      " 18%|█▊        | 21/120 [19:36<1:31:49, 55.65s/it]"
     ]
    },
    {
     "name": "stdout",
     "output_type": "stream",
     "text": [
      "Validation Loss: 73.4430 | Validation Accuracy: 0.6642\n",
      "Epoch 21 | Train Loss: 58.2606 | Train Accuracy: 0.5012\n"
     ]
    },
    {
     "name": "stderr",
     "output_type": "stream",
     "text": [
      "\r",
      " 18%|█▊        | 22/120 [20:31<1:30:08, 55.18s/it]"
     ]
    },
    {
     "name": "stdout",
     "output_type": "stream",
     "text": [
      "Validation Loss: 46.4625 | Validation Accuracy: 0.6642\n",
      "Epoch 22 | Train Loss: 46.7799 | Train Accuracy: 0.5066\n"
     ]
    },
    {
     "name": "stderr",
     "output_type": "stream",
     "text": [
      "\r",
      " 19%|█▉        | 23/120 [21:25<1:28:53, 54.99s/it]"
     ]
    },
    {
     "name": "stdout",
     "output_type": "stream",
     "text": [
      "Validation Loss: 46.3706 | Validation Accuracy: 0.6642\n",
      "Epoch 23 | Train Loss: 38.5775 | Train Accuracy: 0.5117\n"
     ]
    },
    {
     "name": "stderr",
     "output_type": "stream",
     "text": [
      "\r",
      " 20%|██        | 24/120 [22:21<1:28:15, 55.16s/it]"
     ]
    },
    {
     "name": "stdout",
     "output_type": "stream",
     "text": [
      "Validation Loss: 63.5831 | Validation Accuracy: 0.2064\n",
      "Epoch 24 | Train Loss: 30.2775 | Train Accuracy: 0.5125\n"
     ]
    },
    {
     "name": "stderr",
     "output_type": "stream",
     "text": [
      "\r",
      " 21%|██        | 25/120 [23:15<1:27:08, 55.03s/it]"
     ]
    },
    {
     "name": "stdout",
     "output_type": "stream",
     "text": [
      "Validation Loss: 26.2004 | Validation Accuracy: 0.6642\n",
      "Epoch 25 | Train Loss: 26.5093 | Train Accuracy: 0.5144\n"
     ]
    },
    {
     "name": "stderr",
     "output_type": "stream",
     "text": [
      "\r",
      " 22%|██▏       | 26/120 [24:15<1:28:25, 56.44s/it]"
     ]
    },
    {
     "name": "stdout",
     "output_type": "stream",
     "text": [
      "Validation Loss: 33.4090 | Validation Accuracy: 0.2826\n",
      "Epoch 26 | Train Loss: 22.4150 | Train Accuracy: 0.5117\n"
     ]
    },
    {
     "name": "stderr",
     "output_type": "stream",
     "text": [
      "\r",
      " 22%|██▎       | 27/120 [25:09<1:26:30, 55.81s/it]"
     ]
    },
    {
     "name": "stdout",
     "output_type": "stream",
     "text": [
      "Validation Loss: 12.8802 | Validation Accuracy: 0.5664\n",
      "Epoch 27 | Train Loss: 15.2368 | Train Accuracy: 0.5288\n"
     ]
    },
    {
     "name": "stderr",
     "output_type": "stream",
     "text": [
      "\r",
      " 23%|██▎       | 28/120 [26:06<1:25:47, 55.95s/it]"
     ]
    },
    {
     "name": "stdout",
     "output_type": "stream",
     "text": [
      "Validation Loss: 11.6570 | Validation Accuracy: 0.6263\n",
      "Epoch 28 | Train Loss: 11.2065 | Train Accuracy: 0.5371\n"
     ]
    },
    {
     "name": "stderr",
     "output_type": "stream",
     "text": [
      "\r",
      " 24%|██▍       | 29/120 [27:02<1:25:02, 56.07s/it]"
     ]
    },
    {
     "name": "stdout",
     "output_type": "stream",
     "text": [
      "Validation Loss: 14.6924 | Validation Accuracy: 0.6642\n",
      "Epoch 29 | Train Loss: 7.1230 | Train Accuracy: 0.5535\n"
     ]
    },
    {
     "name": "stderr",
     "output_type": "stream",
     "text": [
      "\r",
      " 25%|██▌       | 30/120 [27:57<1:23:25, 55.62s/it]"
     ]
    },
    {
     "name": "stdout",
     "output_type": "stream",
     "text": [
      "Validation Loss: 3.1240 | Validation Accuracy: 0.6655\n",
      "Epoch 30 | Train Loss: 3.5164 | Train Accuracy: 0.5874\n"
     ]
    },
    {
     "name": "stderr",
     "output_type": "stream",
     "text": [
      "\r",
      " 26%|██▌       | 31/120 [28:52<1:22:30, 55.62s/it]"
     ]
    },
    {
     "name": "stdout",
     "output_type": "stream",
     "text": [
      "Validation Loss: 4.9438 | Validation Accuracy: 0.6642\n",
      "Epoch 31 | Train Loss: 3.4609 | Train Accuracy: 0.5925\n"
     ]
    },
    {
     "name": "stderr",
     "output_type": "stream",
     "text": [
      "\r",
      " 27%|██▋       | 32/120 [29:50<1:22:31, 56.27s/it]"
     ]
    },
    {
     "name": "stdout",
     "output_type": "stream",
     "text": [
      "Validation Loss: 7.9241 | Validation Accuracy: 0.4156\n",
      "Epoch 32 | Train Loss: 2.7029 | Train Accuracy: 0.6088\n"
     ]
    },
    {
     "name": "stderr",
     "output_type": "stream",
     "text": [
      "\r",
      " 28%|██▊       | 33/120 [30:46<1:21:15, 56.04s/it]"
     ]
    },
    {
     "name": "stdout",
     "output_type": "stream",
     "text": [
      "Validation Loss: 12.2092 | Validation Accuracy: 0.0133\n",
      "Epoch 33 | Train Loss: 2.9257 | Train Accuracy: 0.6006\n"
     ]
    },
    {
     "name": "stderr",
     "output_type": "stream",
     "text": [
      "\r",
      " 28%|██▊       | 34/120 [31:40<1:19:49, 55.69s/it]"
     ]
    },
    {
     "name": "stdout",
     "output_type": "stream",
     "text": [
      "Validation Loss: 6.2106 | Validation Accuracy: 0.6642\n",
      "Epoch 34 | Train Loss: 1.8995 | Train Accuracy: 0.6295\n"
     ]
    },
    {
     "name": "stderr",
     "output_type": "stream",
     "text": [
      "\r",
      " 29%|██▉       | 35/120 [32:38<1:19:47, 56.32s/it]"
     ]
    },
    {
     "name": "stdout",
     "output_type": "stream",
     "text": [
      "Validation Loss: 2.3873 | Validation Accuracy: 0.6280\n",
      "Epoch 35 | Train Loss: 2.0635 | Train Accuracy: 0.6334\n"
     ]
    },
    {
     "name": "stderr",
     "output_type": "stream",
     "text": [
      "\r",
      " 30%|███       | 36/120 [33:37<1:20:02, 57.17s/it]"
     ]
    },
    {
     "name": "stdout",
     "output_type": "stream",
     "text": [
      "Validation Loss: 2.8139 | Validation Accuracy: 0.6642\n",
      "Epoch 36 | Train Loss: 1.9470 | Train Accuracy: 0.6313\n"
     ]
    },
    {
     "name": "stderr",
     "output_type": "stream",
     "text": [
      "\r",
      " 31%|███       | 37/120 [34:33<1:18:26, 56.70s/it]"
     ]
    },
    {
     "name": "stdout",
     "output_type": "stream",
     "text": [
      "Validation Loss: 1.3942 | Validation Accuracy: 0.6070\n",
      "Epoch 37 | Train Loss: 1.8056 | Train Accuracy: 0.6307\n"
     ]
    },
    {
     "name": "stderr",
     "output_type": "stream",
     "text": [
      "\r",
      " 32%|███▏      | 38/120 [35:29<1:17:03, 56.38s/it]"
     ]
    },
    {
     "name": "stdout",
     "output_type": "stream",
     "text": [
      "Validation Loss: 2.8793 | Validation Accuracy: 0.6642\n",
      "Epoch 38 | Train Loss: 1.8070 | Train Accuracy: 0.6271\n"
     ]
    },
    {
     "name": "stderr",
     "output_type": "stream",
     "text": [
      "\r",
      " 32%|███▎      | 39/120 [36:27<1:16:50, 56.92s/it]"
     ]
    },
    {
     "name": "stdout",
     "output_type": "stream",
     "text": [
      "Validation Loss: 3.8466 | Validation Accuracy: 0.6642\n",
      "Epoch 39 | Train Loss: 1.3964 | Train Accuracy: 0.6321\n"
     ]
    },
    {
     "name": "stderr",
     "output_type": "stream",
     "text": [
      "\r",
      " 33%|███▎      | 40/120 [37:23<1:15:36, 56.70s/it]"
     ]
    },
    {
     "name": "stdout",
     "output_type": "stream",
     "text": [
      "Validation Loss: 1.3615 | Validation Accuracy: 0.5942\n",
      "Epoch 40 | Train Loss: 1.7262 | Train Accuracy: 0.6272\n"
     ]
    },
    {
     "name": "stderr",
     "output_type": "stream",
     "text": [
      "\r",
      " 34%|███▍      | 41/120 [38:17<1:13:40, 55.96s/it]"
     ]
    },
    {
     "name": "stdout",
     "output_type": "stream",
     "text": [
      "Validation Loss: 7.1247 | Validation Accuracy: 0.6642\n",
      "Epoch 41 | Train Loss: 1.7596 | Train Accuracy: 0.6442\n"
     ]
    },
    {
     "name": "stderr",
     "output_type": "stream",
     "text": [
      "\r",
      " 35%|███▌      | 42/120 [39:12<1:12:27, 55.74s/it]"
     ]
    },
    {
     "name": "stdout",
     "output_type": "stream",
     "text": [
      "Validation Loss: 1.4279 | Validation Accuracy: 0.6407\n",
      "Epoch 42 | Train Loss: 1.4412 | Train Accuracy: 0.6327\n"
     ]
    },
    {
     "name": "stderr",
     "output_type": "stream",
     "text": [
      "\r",
      " 36%|███▌      | 43/120 [40:08<1:11:23, 55.63s/it]"
     ]
    },
    {
     "name": "stdout",
     "output_type": "stream",
     "text": [
      "Validation Loss: 1.3492 | Validation Accuracy: 0.5949\n",
      "Epoch 43 | Train Loss: 1.2300 | Train Accuracy: 0.6318\n"
     ]
    },
    {
     "name": "stderr",
     "output_type": "stream",
     "text": [
      "\r",
      " 37%|███▋      | 44/120 [41:02<1:10:03, 55.31s/it]"
     ]
    },
    {
     "name": "stdout",
     "output_type": "stream",
     "text": [
      "Validation Loss: 1.3519 | Validation Accuracy: 0.6089\n",
      "Epoch 44 | Train Loss: 1.7431 | Train Accuracy: 0.6307\n"
     ]
    },
    {
     "name": "stderr",
     "output_type": "stream",
     "text": [
      "\r",
      " 38%|███▊      | 45/120 [41:58<1:09:11, 55.36s/it]"
     ]
    },
    {
     "name": "stdout",
     "output_type": "stream",
     "text": [
      "Validation Loss: 1.3101 | Validation Accuracy: 0.6118\n",
      "Epoch 45 | Train Loss: 1.3916 | Train Accuracy: 0.6407\n"
     ]
    },
    {
     "name": "stderr",
     "output_type": "stream",
     "text": [
      "\r",
      " 38%|███▊      | 46/120 [42:52<1:07:56, 55.08s/it]"
     ]
    },
    {
     "name": "stdout",
     "output_type": "stream",
     "text": [
      "Validation Loss: 1.3406 | Validation Accuracy: 0.6262\n",
      "Epoch 46 | Train Loss: 1.5616 | Train Accuracy: 0.6305\n"
     ]
    },
    {
     "name": "stderr",
     "output_type": "stream",
     "text": [
      "\r",
      " 39%|███▉      | 47/120 [43:47<1:06:42, 54.82s/it]"
     ]
    },
    {
     "name": "stdout",
     "output_type": "stream",
     "text": [
      "Validation Loss: 1.3529 | Validation Accuracy: 0.6172\n",
      "Epoch 47 | Train Loss: 2.1877 | Train Accuracy: 0.6394\n"
     ]
    },
    {
     "name": "stderr",
     "output_type": "stream",
     "text": [
      "\r",
      " 40%|████      | 48/120 [44:41<1:05:47, 54.82s/it]"
     ]
    },
    {
     "name": "stdout",
     "output_type": "stream",
     "text": [
      "Validation Loss: 2.8905 | Validation Accuracy: 0.6642\n",
      "Epoch 48 | Train Loss: 2.5819 | Train Accuracy: 0.6644\n"
     ]
    },
    {
     "name": "stderr",
     "output_type": "stream",
     "text": [
      "\r",
      " 41%|████      | 49/120 [45:39<1:06:02, 55.81s/it]"
     ]
    },
    {
     "name": "stdout",
     "output_type": "stream",
     "text": [
      "Validation Loss: 2.3479 | Validation Accuracy: 0.6642\n",
      "Epoch 49 | Train Loss: 2.1874 | Train Accuracy: 0.6644\n"
     ]
    },
    {
     "name": "stderr",
     "output_type": "stream",
     "text": [
      "\r",
      " 42%|████▏     | 50/120 [46:37<1:05:39, 56.28s/it]"
     ]
    },
    {
     "name": "stdout",
     "output_type": "stream",
     "text": [
      "Validation Loss: 2.0554 | Validation Accuracy: 0.6642\n",
      "Epoch 50 | Train Loss: 1.9409 | Train Accuracy: 0.6644\n"
     ]
    },
    {
     "name": "stderr",
     "output_type": "stream",
     "text": [
      "\r",
      " 42%|████▎     | 51/120 [47:32<1:04:15, 55.88s/it]"
     ]
    },
    {
     "name": "stdout",
     "output_type": "stream",
     "text": [
      "Validation Loss: 1.8446 | Validation Accuracy: 0.6642\n",
      "Epoch 51 | Train Loss: 1.7438 | Train Accuracy: 0.6644\n"
     ]
    },
    {
     "name": "stderr",
     "output_type": "stream",
     "text": [
      "\r",
      " 43%|████▎     | 52/120 [48:26<1:02:50, 55.44s/it]"
     ]
    },
    {
     "name": "stdout",
     "output_type": "stream",
     "text": [
      "Validation Loss: 1.6600 | Validation Accuracy: 0.6642\n",
      "Epoch 52 | Train Loss: 1.5640 | Train Accuracy: 0.6644\n"
     ]
    },
    {
     "name": "stderr",
     "output_type": "stream",
     "text": [
      "\r",
      " 44%|████▍     | 53/120 [49:21<1:01:35, 55.16s/it]"
     ]
    },
    {
     "name": "stdout",
     "output_type": "stream",
     "text": [
      "Validation Loss: 1.4886 | Validation Accuracy: 0.6642\n",
      "Epoch 53 | Train Loss: 1.3998 | Train Accuracy: 0.6644\n"
     ]
    },
    {
     "name": "stderr",
     "output_type": "stream",
     "text": [
      "\r",
      " 45%|████▌     | 54/120 [50:16<1:00:40, 55.17s/it]"
     ]
    },
    {
     "name": "stdout",
     "output_type": "stream",
     "text": [
      "Validation Loss: 1.3368 | Validation Accuracy: 0.6642\n",
      "Epoch 54 | Train Loss: 1.2602 | Train Accuracy: 0.6644\n"
     ]
    },
    {
     "name": "stderr",
     "output_type": "stream",
     "text": [
      "\r",
      " 46%|████▌     | 55/120 [51:14<1:00:41, 56.02s/it]"
     ]
    },
    {
     "name": "stdout",
     "output_type": "stream",
     "text": [
      "Validation Loss: 1.2145 | Validation Accuracy: 0.6642\n",
      "Epoch 55 | Train Loss: 1.1535 | Train Accuracy: 0.6644\n"
     ]
    },
    {
     "name": "stderr",
     "output_type": "stream",
     "text": [
      "\r",
      " 47%|████▋     | 56/120 [52:09<59:26, 55.72s/it]  "
     ]
    },
    {
     "name": "stdout",
     "output_type": "stream",
     "text": [
      "Validation Loss: 1.1269 | Validation Accuracy: 0.6642\n",
      "Epoch 56 | Train Loss: 1.2918 | Train Accuracy: 0.6627\n"
     ]
    },
    {
     "name": "stderr",
     "output_type": "stream",
     "text": [
      "\r",
      " 48%|████▊     | 57/120 [53:04<58:09, 55.39s/it]"
     ]
    },
    {
     "name": "stdout",
     "output_type": "stream",
     "text": [
      "Validation Loss: 1.0709 | Validation Accuracy: 0.6642\n",
      "Epoch 57 | Train Loss: 1.0361 | Train Accuracy: 0.6644\n"
     ]
    },
    {
     "name": "stderr",
     "output_type": "stream",
     "text": [
      "\r",
      " 48%|████▊     | 58/120 [53:57<56:44, 54.92s/it]"
     ]
    },
    {
     "name": "stdout",
     "output_type": "stream",
     "text": [
      "Validation Loss: 1.0384 | Validation Accuracy: 0.6642\n",
      "Epoch 58 | Train Loss: 1.0101 | Train Accuracy: 0.6644\n"
     ]
    },
    {
     "name": "stderr",
     "output_type": "stream",
     "text": [
      "\r",
      " 49%|████▉     | 59/120 [54:56<57:03, 56.12s/it]"
     ]
    },
    {
     "name": "stdout",
     "output_type": "stream",
     "text": [
      "Validation Loss: 1.0197 | Validation Accuracy: 0.6642\n",
      "Epoch 59 | Train Loss: 0.9949 | Train Accuracy: 0.6644\n"
     ]
    },
    {
     "name": "stderr",
     "output_type": "stream",
     "text": [
      "\r",
      " 50%|█████     | 60/120 [55:55<56:50, 56.84s/it]"
     ]
    },
    {
     "name": "stdout",
     "output_type": "stream",
     "text": [
      "Validation Loss: 1.0088 | Validation Accuracy: 0.6642\n",
      "Epoch 60 | Train Loss: 0.9857 | Train Accuracy: 0.6644\n"
     ]
    },
    {
     "name": "stderr",
     "output_type": "stream",
     "text": [
      "\r",
      " 51%|█████     | 61/120 [56:49<55:01, 55.96s/it]"
     ]
    },
    {
     "name": "stdout",
     "output_type": "stream",
     "text": [
      "Validation Loss: 1.0023 | Validation Accuracy: 0.6642\n",
      "Epoch 61 | Train Loss: 0.9798 | Train Accuracy: 0.6644\n"
     ]
    },
    {
     "name": "stderr",
     "output_type": "stream",
     "text": [
      "\r",
      " 52%|█████▏    | 62/120 [57:44<53:51, 55.72s/it]"
     ]
    },
    {
     "name": "stdout",
     "output_type": "stream",
     "text": [
      "Validation Loss: 0.9982 | Validation Accuracy: 0.6642\n",
      "Epoch 62 | Train Loss: 0.9759 | Train Accuracy: 0.6644\n"
     ]
    },
    {
     "name": "stderr",
     "output_type": "stream",
     "text": [
      "\r",
      " 52%|█████▎    | 63/120 [58:42<53:28, 56.30s/it]"
     ]
    },
    {
     "name": "stdout",
     "output_type": "stream",
     "text": [
      "Validation Loss: 0.9956 | Validation Accuracy: 0.6642\n",
      "Epoch 63 | Train Loss: 0.9732 | Train Accuracy: 0.6644\n"
     ]
    },
    {
     "name": "stderr",
     "output_type": "stream",
     "text": [
      "\r",
      " 53%|█████▎    | 64/120 [59:39<52:46, 56.54s/it]"
     ]
    },
    {
     "name": "stdout",
     "output_type": "stream",
     "text": [
      "Validation Loss: 0.9937 | Validation Accuracy: 0.6642\n",
      "Epoch 64 | Train Loss: 0.9712 | Train Accuracy: 0.6644\n"
     ]
    },
    {
     "name": "stderr",
     "output_type": "stream",
     "text": [
      "\r",
      " 54%|█████▍    | 65/120 [1:00:33<51:21, 56.02s/it]"
     ]
    },
    {
     "name": "stdout",
     "output_type": "stream",
     "text": [
      "Validation Loss: 0.9925 | Validation Accuracy: 0.6642\n",
      "Epoch 65 | Train Loss: 0.9697 | Train Accuracy: 0.6644\n"
     ]
    },
    {
     "name": "stderr",
     "output_type": "stream",
     "text": [
      "\r",
      " 55%|█████▌    | 66/120 [1:01:30<50:35, 56.21s/it]"
     ]
    },
    {
     "name": "stdout",
     "output_type": "stream",
     "text": [
      "Validation Loss: 0.9916 | Validation Accuracy: 0.6642\n",
      "Epoch 66 | Train Loss: 0.9686 | Train Accuracy: 0.6644\n"
     ]
    },
    {
     "name": "stderr",
     "output_type": "stream",
     "text": [
      "\r",
      " 56%|█████▌    | 67/120 [1:02:27<49:54, 56.50s/it]"
     ]
    },
    {
     "name": "stdout",
     "output_type": "stream",
     "text": [
      "Validation Loss: 0.9910 | Validation Accuracy: 0.6642\n",
      "Epoch 67 | Train Loss: 0.9677 | Train Accuracy: 0.6644\n"
     ]
    },
    {
     "name": "stderr",
     "output_type": "stream",
     "text": [
      "\r",
      " 57%|█████▋    | 68/120 [1:03:23<48:39, 56.15s/it]"
     ]
    },
    {
     "name": "stdout",
     "output_type": "stream",
     "text": [
      "Validation Loss: 0.9905 | Validation Accuracy: 0.6642\n",
      "Epoch 68 | Train Loss: 0.9670 | Train Accuracy: 0.6644\n"
     ]
    },
    {
     "name": "stderr",
     "output_type": "stream",
     "text": [
      "\r",
      " 57%|█████▊    | 69/120 [1:04:18<47:32, 55.94s/it]"
     ]
    },
    {
     "name": "stdout",
     "output_type": "stream",
     "text": [
      "Validation Loss: 0.9902 | Validation Accuracy: 0.6642\n",
      "Epoch 69 | Train Loss: 0.9664 | Train Accuracy: 0.6644\n"
     ]
    },
    {
     "name": "stderr",
     "output_type": "stream",
     "text": [
      "\r",
      " 58%|█████▊    | 70/120 [1:05:13<46:17, 55.55s/it]"
     ]
    },
    {
     "name": "stdout",
     "output_type": "stream",
     "text": [
      "Validation Loss: 0.9900 | Validation Accuracy: 0.6642\n",
      "Epoch 70 | Train Loss: 0.9659 | Train Accuracy: 0.6644\n"
     ]
    },
    {
     "name": "stderr",
     "output_type": "stream",
     "text": [
      "\r",
      " 59%|█████▉    | 71/120 [1:06:07<45:06, 55.24s/it]"
     ]
    },
    {
     "name": "stdout",
     "output_type": "stream",
     "text": [
      "Validation Loss: 0.9900 | Validation Accuracy: 0.6642\n",
      "Epoch 71 | Train Loss: 0.9655 | Train Accuracy: 0.6644\n"
     ]
    },
    {
     "name": "stderr",
     "output_type": "stream",
     "text": [
      "\r",
      " 60%|██████    | 72/120 [1:07:09<45:40, 57.09s/it]"
     ]
    },
    {
     "name": "stdout",
     "output_type": "stream",
     "text": [
      "Validation Loss: 0.9899 | Validation Accuracy: 0.6642\n",
      "Epoch 72 | Train Loss: 0.9651 | Train Accuracy: 0.6644\n"
     ]
    },
    {
     "name": "stderr",
     "output_type": "stream",
     "text": [
      "\r",
      " 61%|██████    | 73/120 [1:08:08<45:11, 57.70s/it]"
     ]
    },
    {
     "name": "stdout",
     "output_type": "stream",
     "text": [
      "Validation Loss: 0.9899 | Validation Accuracy: 0.6642\n",
      "Epoch 73 | Train Loss: 0.9648 | Train Accuracy: 0.6644\n"
     ]
    },
    {
     "name": "stderr",
     "output_type": "stream",
     "text": [
      "\r",
      " 62%|██████▏   | 74/120 [1:09:03<43:46, 57.11s/it]"
     ]
    },
    {
     "name": "stdout",
     "output_type": "stream",
     "text": [
      "Validation Loss: 0.9900 | Validation Accuracy: 0.6642\n",
      "Epoch 74 | Train Loss: 0.9646 | Train Accuracy: 0.6644\n"
     ]
    },
    {
     "name": "stderr",
     "output_type": "stream",
     "text": [
      "\r",
      " 62%|██████▎   | 75/120 [1:09:58<42:12, 56.28s/it]"
     ]
    },
    {
     "name": "stdout",
     "output_type": "stream",
     "text": [
      "Validation Loss: 0.9901 | Validation Accuracy: 0.6642\n",
      "Epoch 75 | Train Loss: 0.9643 | Train Accuracy: 0.6644\n"
     ]
    },
    {
     "name": "stderr",
     "output_type": "stream",
     "text": [
      "\r",
      " 63%|██████▎   | 76/120 [1:10:52<40:53, 55.77s/it]"
     ]
    },
    {
     "name": "stdout",
     "output_type": "stream",
     "text": [
      "Validation Loss: 0.9903 | Validation Accuracy: 0.6642\n",
      "Epoch 76 | Train Loss: 0.9641 | Train Accuracy: 0.6644\n"
     ]
    },
    {
     "name": "stderr",
     "output_type": "stream",
     "text": [
      "\r",
      " 64%|██████▍   | 77/120 [1:11:48<39:58, 55.78s/it]"
     ]
    },
    {
     "name": "stdout",
     "output_type": "stream",
     "text": [
      "Validation Loss: 0.9904 | Validation Accuracy: 0.6642\n",
      "Epoch 77 | Train Loss: 0.9640 | Train Accuracy: 0.6644\n"
     ]
    },
    {
     "name": "stderr",
     "output_type": "stream",
     "text": [
      "\r",
      " 65%|██████▌   | 78/120 [1:12:56<41:37, 59.47s/it]"
     ]
    },
    {
     "name": "stdout",
     "output_type": "stream",
     "text": [
      "Validation Loss: 0.9906 | Validation Accuracy: 0.6642\n",
      "Epoch 78 | Train Loss: 0.9638 | Train Accuracy: 0.6644\n"
     ]
    },
    {
     "name": "stderr",
     "output_type": "stream",
     "text": [
      "\r",
      " 66%|██████▌   | 79/120 [1:14:13<44:06, 64.56s/it]"
     ]
    },
    {
     "name": "stdout",
     "output_type": "stream",
     "text": [
      "Validation Loss: 0.9908 | Validation Accuracy: 0.6642\n",
      "Epoch 79 | Train Loss: 0.9637 | Train Accuracy: 0.6644\n"
     ]
    },
    {
     "name": "stderr",
     "output_type": "stream",
     "text": [
      "\r",
      " 67%|██████▋   | 80/120 [1:15:07<40:55, 61.38s/it]"
     ]
    },
    {
     "name": "stdout",
     "output_type": "stream",
     "text": [
      "Validation Loss: 0.9910 | Validation Accuracy: 0.6642\n",
      "Epoch 80 | Train Loss: 0.9636 | Train Accuracy: 0.6644\n"
     ]
    },
    {
     "name": "stderr",
     "output_type": "stream",
     "text": [
      "\r",
      " 68%|██████▊   | 81/120 [1:16:00<38:22, 59.05s/it]"
     ]
    },
    {
     "name": "stdout",
     "output_type": "stream",
     "text": [
      "Validation Loss: 0.9912 | Validation Accuracy: 0.6642\n",
      "Epoch 81 | Train Loss: 0.9635 | Train Accuracy: 0.6644\n"
     ]
    },
    {
     "name": "stderr",
     "output_type": "stream",
     "text": [
      "\r",
      " 68%|██████▊   | 82/120 [1:16:55<36:36, 57.79s/it]"
     ]
    },
    {
     "name": "stdout",
     "output_type": "stream",
     "text": [
      "Validation Loss: 0.9915 | Validation Accuracy: 0.6642\n",
      "Epoch 82 | Train Loss: 0.9634 | Train Accuracy: 0.6644\n"
     ]
    },
    {
     "name": "stderr",
     "output_type": "stream",
     "text": [
      "\r",
      " 69%|██████▉   | 83/120 [1:17:50<35:10, 57.05s/it]"
     ]
    },
    {
     "name": "stdout",
     "output_type": "stream",
     "text": [
      "Validation Loss: 0.9917 | Validation Accuracy: 0.6642\n",
      "Epoch 83 | Train Loss: 0.9633 | Train Accuracy: 0.6644\n"
     ]
    },
    {
     "name": "stderr",
     "output_type": "stream",
     "text": [
      "\r",
      " 70%|███████   | 84/120 [1:18:46<33:56, 56.58s/it]"
     ]
    },
    {
     "name": "stdout",
     "output_type": "stream",
     "text": [
      "Validation Loss: 0.9919 | Validation Accuracy: 0.6642\n",
      "Epoch 84 | Train Loss: 0.9632 | Train Accuracy: 0.6644\n"
     ]
    },
    {
     "name": "stderr",
     "output_type": "stream",
     "text": [
      "\r",
      " 71%|███████   | 85/120 [1:19:46<33:31, 57.48s/it]"
     ]
    },
    {
     "name": "stdout",
     "output_type": "stream",
     "text": [
      "Validation Loss: 0.9922 | Validation Accuracy: 0.6642\n",
      "Epoch 85 | Train Loss: 0.9632 | Train Accuracy: 0.6644\n"
     ]
    },
    {
     "name": "stderr",
     "output_type": "stream",
     "text": [
      "\r",
      " 72%|███████▏  | 86/120 [1:20:41<32:09, 56.75s/it]"
     ]
    },
    {
     "name": "stdout",
     "output_type": "stream",
     "text": [
      "Validation Loss: 0.9925 | Validation Accuracy: 0.6642\n",
      "Epoch 86 | Train Loss: 0.9631 | Train Accuracy: 0.6644\n"
     ]
    },
    {
     "name": "stderr",
     "output_type": "stream",
     "text": [
      "\r",
      " 72%|███████▎  | 87/120 [1:21:35<30:50, 56.09s/it]"
     ]
    },
    {
     "name": "stdout",
     "output_type": "stream",
     "text": [
      "Validation Loss: 0.9927 | Validation Accuracy: 0.6642\n",
      "Epoch 87 | Train Loss: 0.9631 | Train Accuracy: 0.6644\n"
     ]
    },
    {
     "name": "stderr",
     "output_type": "stream",
     "text": [
      "\r",
      " 73%|███████▎  | 88/120 [1:22:29<29:35, 55.47s/it]"
     ]
    },
    {
     "name": "stdout",
     "output_type": "stream",
     "text": [
      "Validation Loss: 0.9930 | Validation Accuracy: 0.6642\n",
      "Epoch 88 | Train Loss: 0.9630 | Train Accuracy: 0.6644\n"
     ]
    },
    {
     "name": "stderr",
     "output_type": "stream",
     "text": [
      "\r",
      " 74%|███████▍  | 89/120 [1:23:26<28:52, 55.90s/it]"
     ]
    },
    {
     "name": "stdout",
     "output_type": "stream",
     "text": [
      "Validation Loss: 0.9932 | Validation Accuracy: 0.6642\n",
      "Epoch 89 | Train Loss: 0.9630 | Train Accuracy: 0.6644\n"
     ]
    },
    {
     "name": "stderr",
     "output_type": "stream",
     "text": [
      "\r",
      " 75%|███████▌  | 90/120 [1:24:21<27:46, 55.55s/it]"
     ]
    },
    {
     "name": "stdout",
     "output_type": "stream",
     "text": [
      "Validation Loss: 0.9934 | Validation Accuracy: 0.6642\n",
      "Epoch 90 | Train Loss: 0.9629 | Train Accuracy: 0.6644\n"
     ]
    },
    {
     "name": "stderr",
     "output_type": "stream",
     "text": [
      "\r",
      " 76%|███████▌  | 91/120 [1:25:16<26:51, 55.58s/it]"
     ]
    },
    {
     "name": "stdout",
     "output_type": "stream",
     "text": [
      "Validation Loss: 0.9937 | Validation Accuracy: 0.6642\n",
      "Epoch 91 | Train Loss: 0.9629 | Train Accuracy: 0.6644\n"
     ]
    },
    {
     "name": "stderr",
     "output_type": "stream",
     "text": [
      "\r",
      " 77%|███████▋  | 92/120 [1:26:12<25:55, 55.57s/it]"
     ]
    },
    {
     "name": "stdout",
     "output_type": "stream",
     "text": [
      "Validation Loss: 0.9939 | Validation Accuracy: 0.6642\n",
      "Epoch 92 | Train Loss: 0.9629 | Train Accuracy: 0.6644\n"
     ]
    },
    {
     "name": "stderr",
     "output_type": "stream",
     "text": [
      "\r",
      " 78%|███████▊  | 93/120 [1:27:07<24:55, 55.37s/it]"
     ]
    },
    {
     "name": "stdout",
     "output_type": "stream",
     "text": [
      "Validation Loss: 0.9941 | Validation Accuracy: 0.6642\n",
      "Epoch 93 | Train Loss: 0.9628 | Train Accuracy: 0.6644\n"
     ]
    },
    {
     "name": "stderr",
     "output_type": "stream",
     "text": [
      "\r",
      " 78%|███████▊  | 94/120 [1:28:02<23:54, 55.19s/it]"
     ]
    },
    {
     "name": "stdout",
     "output_type": "stream",
     "text": [
      "Validation Loss: 0.9943 | Validation Accuracy: 0.6642\n",
      "Epoch 94 | Train Loss: 0.9628 | Train Accuracy: 0.6644\n"
     ]
    },
    {
     "name": "stderr",
     "output_type": "stream",
     "text": [
      "\r",
      " 79%|███████▉  | 95/120 [1:28:57<23:04, 55.38s/it]"
     ]
    },
    {
     "name": "stdout",
     "output_type": "stream",
     "text": [
      "Validation Loss: 0.9944 | Validation Accuracy: 0.6642\n",
      "Epoch 95 | Train Loss: 0.9628 | Train Accuracy: 0.6644\n"
     ]
    },
    {
     "name": "stderr",
     "output_type": "stream",
     "text": [
      "\r",
      " 80%|████████  | 96/120 [1:29:53<22:10, 55.43s/it]"
     ]
    },
    {
     "name": "stdout",
     "output_type": "stream",
     "text": [
      "Validation Loss: 0.9946 | Validation Accuracy: 0.6642\n",
      "Epoch 96 | Train Loss: 0.9628 | Train Accuracy: 0.6644\n"
     ]
    },
    {
     "name": "stderr",
     "output_type": "stream",
     "text": [
      "\r",
      " 81%|████████  | 97/120 [1:30:49<21:16, 55.50s/it]"
     ]
    },
    {
     "name": "stdout",
     "output_type": "stream",
     "text": [
      "Validation Loss: 0.9948 | Validation Accuracy: 0.6642\n",
      "Epoch 97 | Train Loss: 0.9627 | Train Accuracy: 0.6644\n"
     ]
    },
    {
     "name": "stderr",
     "output_type": "stream",
     "text": [
      "\r",
      " 82%|████████▏ | 98/120 [1:31:46<20:32, 56.00s/it]"
     ]
    },
    {
     "name": "stdout",
     "output_type": "stream",
     "text": [
      "Validation Loss: 0.9949 | Validation Accuracy: 0.6642\n",
      "Epoch 98 | Train Loss: 0.9627 | Train Accuracy: 0.6644\n"
     ]
    },
    {
     "name": "stderr",
     "output_type": "stream",
     "text": [
      "\r",
      " 82%|████████▎ | 99/120 [1:32:42<19:36, 56.02s/it]"
     ]
    },
    {
     "name": "stdout",
     "output_type": "stream",
     "text": [
      "Validation Loss: 0.9950 | Validation Accuracy: 0.6642\n",
      "Epoch 99 | Train Loss: 0.9627 | Train Accuracy: 0.6644\n"
     ]
    },
    {
     "name": "stderr",
     "output_type": "stream",
     "text": [
      "\r",
      " 83%|████████▎ | 100/120 [1:33:42<19:02, 57.11s/it]"
     ]
    },
    {
     "name": "stdout",
     "output_type": "stream",
     "text": [
      "Validation Loss: 0.9951 | Validation Accuracy: 0.6642\n",
      "Epoch 100 | Train Loss: 0.9627 | Train Accuracy: 0.6644\n"
     ]
    },
    {
     "name": "stderr",
     "output_type": "stream",
     "text": [
      "\r",
      " 84%|████████▍ | 101/120 [1:34:37<17:54, 56.55s/it]"
     ]
    },
    {
     "name": "stdout",
     "output_type": "stream",
     "text": [
      "Validation Loss: 0.9952 | Validation Accuracy: 0.6642\n",
      "Epoch 101 | Train Loss: 0.9627 | Train Accuracy: 0.6644\n"
     ]
    },
    {
     "name": "stderr",
     "output_type": "stream",
     "text": [
      "\r",
      " 85%|████████▌ | 102/120 [1:35:32<16:51, 56.18s/it]"
     ]
    },
    {
     "name": "stdout",
     "output_type": "stream",
     "text": [
      "Validation Loss: 0.9953 | Validation Accuracy: 0.6642\n",
      "Epoch 102 | Train Loss: 0.9627 | Train Accuracy: 0.6644\n"
     ]
    },
    {
     "name": "stderr",
     "output_type": "stream",
     "text": [
      "\r",
      " 86%|████████▌ | 103/120 [1:36:27<15:49, 55.83s/it]"
     ]
    },
    {
     "name": "stdout",
     "output_type": "stream",
     "text": [
      "Validation Loss: 0.9954 | Validation Accuracy: 0.6642\n",
      "Epoch 103 | Train Loss: 0.9626 | Train Accuracy: 0.6644\n"
     ]
    },
    {
     "name": "stderr",
     "output_type": "stream",
     "text": [
      "\r",
      " 87%|████████▋ | 104/120 [1:37:22<14:49, 55.62s/it]"
     ]
    },
    {
     "name": "stdout",
     "output_type": "stream",
     "text": [
      "Validation Loss: 0.9955 | Validation Accuracy: 0.6642\n",
      "Epoch 104 | Train Loss: 0.9626 | Train Accuracy: 0.6644\n"
     ]
    },
    {
     "name": "stderr",
     "output_type": "stream",
     "text": [
      "\r",
      " 88%|████████▊ | 105/120 [1:38:17<13:50, 55.39s/it]"
     ]
    },
    {
     "name": "stdout",
     "output_type": "stream",
     "text": [
      "Validation Loss: 0.9956 | Validation Accuracy: 0.6642\n",
      "Epoch 105 | Train Loss: 0.9626 | Train Accuracy: 0.6644\n"
     ]
    },
    {
     "name": "stderr",
     "output_type": "stream",
     "text": [
      "\r",
      " 88%|████████▊ | 106/120 [1:39:12<12:53, 55.28s/it]"
     ]
    },
    {
     "name": "stdout",
     "output_type": "stream",
     "text": [
      "Validation Loss: 0.9957 | Validation Accuracy: 0.6642\n",
      "Epoch 106 | Train Loss: 0.9626 | Train Accuracy: 0.6644\n"
     ]
    },
    {
     "name": "stderr",
     "output_type": "stream",
     "text": [
      "\r",
      " 89%|████████▉ | 107/120 [1:40:06<11:53, 54.88s/it]"
     ]
    },
    {
     "name": "stdout",
     "output_type": "stream",
     "text": [
      "Validation Loss: 0.9958 | Validation Accuracy: 0.6642\n",
      "Epoch 107 | Train Loss: 0.9626 | Train Accuracy: 0.6644\n"
     ]
    },
    {
     "name": "stderr",
     "output_type": "stream",
     "text": [
      "\r",
      " 90%|█████████ | 108/120 [1:41:02<11:01, 55.10s/it]"
     ]
    },
    {
     "name": "stdout",
     "output_type": "stream",
     "text": [
      "Validation Loss: 0.9958 | Validation Accuracy: 0.6642\n",
      "Epoch 108 | Train Loss: 0.9626 | Train Accuracy: 0.6644\n"
     ]
    },
    {
     "name": "stderr",
     "output_type": "stream",
     "text": [
      "\r",
      " 91%|█████████ | 109/120 [1:41:56<10:04, 54.92s/it]"
     ]
    },
    {
     "name": "stdout",
     "output_type": "stream",
     "text": [
      "Validation Loss: 0.9959 | Validation Accuracy: 0.6642\n",
      "Epoch 109 | Train Loss: 0.9626 | Train Accuracy: 0.6644\n"
     ]
    },
    {
     "name": "stderr",
     "output_type": "stream",
     "text": [
      "\r",
      " 92%|█████████▏| 110/120 [1:42:51<09:07, 54.76s/it]"
     ]
    },
    {
     "name": "stdout",
     "output_type": "stream",
     "text": [
      "Validation Loss: 0.9960 | Validation Accuracy: 0.6642\n",
      "Epoch 110 | Train Loss: 0.9626 | Train Accuracy: 0.6644\n"
     ]
    },
    {
     "name": "stderr",
     "output_type": "stream",
     "text": [
      "\r",
      " 92%|█████████▎| 111/120 [1:43:46<08:13, 54.83s/it]"
     ]
    },
    {
     "name": "stdout",
     "output_type": "stream",
     "text": [
      "Validation Loss: 0.9960 | Validation Accuracy: 0.6642\n",
      "Epoch 111 | Train Loss: 0.9626 | Train Accuracy: 0.6644\n"
     ]
    },
    {
     "name": "stderr",
     "output_type": "stream",
     "text": [
      "\r",
      " 93%|█████████▎| 112/120 [1:44:40<07:17, 54.63s/it]"
     ]
    },
    {
     "name": "stdout",
     "output_type": "stream",
     "text": [
      "Validation Loss: 0.9961 | Validation Accuracy: 0.6642\n",
      "Epoch 112 | Train Loss: 0.9626 | Train Accuracy: 0.6644\n"
     ]
    },
    {
     "name": "stderr",
     "output_type": "stream",
     "text": [
      "\r",
      " 94%|█████████▍| 113/120 [1:45:35<06:23, 54.76s/it]"
     ]
    },
    {
     "name": "stdout",
     "output_type": "stream",
     "text": [
      "Validation Loss: 0.9961 | Validation Accuracy: 0.6642\n",
      "Epoch 113 | Train Loss: 0.9625 | Train Accuracy: 0.6644\n"
     ]
    },
    {
     "name": "stderr",
     "output_type": "stream",
     "text": [
      "\r",
      " 95%|█████████▌| 114/120 [1:46:30<05:29, 54.85s/it]"
     ]
    },
    {
     "name": "stdout",
     "output_type": "stream",
     "text": [
      "Validation Loss: 0.9962 | Validation Accuracy: 0.6642\n",
      "Epoch 114 | Train Loss: 0.9625 | Train Accuracy: 0.6644\n"
     ]
    },
    {
     "name": "stderr",
     "output_type": "stream",
     "text": [
      "\r",
      " 96%|█████████▌| 115/120 [1:47:25<04:34, 54.90s/it]"
     ]
    },
    {
     "name": "stdout",
     "output_type": "stream",
     "text": [
      "Validation Loss: 0.9963 | Validation Accuracy: 0.6642\n",
      "Epoch 115 | Train Loss: 0.9625 | Train Accuracy: 0.6644\n"
     ]
    },
    {
     "name": "stderr",
     "output_type": "stream",
     "text": [
      "\r",
      " 97%|█████████▋| 116/120 [1:48:21<03:40, 55.12s/it]"
     ]
    },
    {
     "name": "stdout",
     "output_type": "stream",
     "text": [
      "Validation Loss: 0.9963 | Validation Accuracy: 0.6642\n",
      "Epoch 116 | Train Loss: 0.9625 | Train Accuracy: 0.6644\n"
     ]
    },
    {
     "name": "stderr",
     "output_type": "stream",
     "text": [
      "\r",
      " 98%|█████████▊| 117/120 [1:49:16<02:45, 55.27s/it]"
     ]
    },
    {
     "name": "stdout",
     "output_type": "stream",
     "text": [
      "Validation Loss: 0.9964 | Validation Accuracy: 0.6642\n",
      "Epoch 117 | Train Loss: 0.9625 | Train Accuracy: 0.6644\n"
     ]
    },
    {
     "name": "stderr",
     "output_type": "stream",
     "text": [
      "\r",
      " 98%|█████████▊| 118/120 [1:50:11<01:50, 55.21s/it]"
     ]
    },
    {
     "name": "stdout",
     "output_type": "stream",
     "text": [
      "Validation Loss: 0.9964 | Validation Accuracy: 0.6642\n",
      "Epoch 118 | Train Loss: 0.9625 | Train Accuracy: 0.6644\n"
     ]
    },
    {
     "name": "stderr",
     "output_type": "stream",
     "text": [
      "\r",
      " 99%|█████████▉| 119/120 [1:51:06<00:55, 55.13s/it]"
     ]
    },
    {
     "name": "stdout",
     "output_type": "stream",
     "text": [
      "Validation Loss: 0.9964 | Validation Accuracy: 0.6642\n",
      "Epoch 119 | Train Loss: 0.9625 | Train Accuracy: 0.6644\n"
     ]
    },
    {
     "name": "stderr",
     "output_type": "stream",
     "text": [
      "100%|██████████| 120/120 [1:52:03<00:00, 56.03s/it]"
     ]
    },
    {
     "name": "stdout",
     "output_type": "stream",
     "text": [
      "Validation Loss: 0.9965 | Validation Accuracy: 0.6642\n"
     ]
    },
    {
     "name": "stderr",
     "output_type": "stream",
     "text": [
      "\n"
     ]
    },
    {
     "name": "stdout",
     "output_type": "stream",
     "text": [
      "Test Accuracy: 66 %\n"
     ]
    }
   ],
   "source": [
    "model = GCN(1, 16, 168) # 1是輸入特徵的維度，16是隱藏層大小，168是類別數量\n",
    "\n",
    "# model = GAT(in_dim=1, hidden_dim=16, out_dim=168, num_heads=4)\n",
    "# in_dim means the dimension of the node_feat(1 dim, since the design of our dataset), if a node has multiple feature -> in_dim > 1\n",
    "# out_dim means the # of the categories -> 168 for out tasks\n",
    "\n",
    "\n",
    "model = model.to(device)\n",
    "print(f\"Using: {device} now\")\n",
    "\n",
    "criterion = nn.CrossEntropyLoss()\n",
    "total_steps = 120\n",
    "\n",
    "optimizer = torch.optim.AdamW(model.parameters(), lr=5e-4)\n",
    "# scheduler = get_linear_schedule_with_warmup(optimizer, num_warmup_steps=30, num_training_steps=total_steps)\n",
    "\n",
    "\n",
    "\n",
    "for epoch in tqdm(range(total_steps)):\n",
    "    # Train\n",
    "    model.train()\n",
    "    total_loss = 0.0\n",
    "    total_accuracy = 0.0\n",
    "    num_batches = 0\n",
    "    \n",
    "    for data in dataloaders['train']:\n",
    "#         print(data)\n",
    "        loss, accuracy = model_fn(data, model, criterion, device)\n",
    "        \n",
    "        optimizer.zero_grad()\n",
    "        loss.backward()\n",
    "        optimizer.step()\n",
    "\n",
    "        total_loss += loss.item()\n",
    "        total_accuracy += accuracy.item()\n",
    "        num_batches += 1\n",
    "        \n",
    "#     scheduler.step()\n",
    "    avg_loss = total_loss / num_batches\n",
    "    avg_accuracy = total_accuracy / num_batches\n",
    "\n",
    "    print(f'Epoch {epoch} | Train Loss: {avg_loss:.4f} | Train Accuracy: {avg_accuracy:.4f}')\n",
    "\n",
    "    # Validate\n",
    "    model.eval()\n",
    "    total_accuracy = 0.0\n",
    "    total_loss = 0.0\n",
    "    num_batches = 0\n",
    "\n",
    "    with torch.no_grad():\n",
    "        for batched_g in dataloaders['valid']:\n",
    "            loss, accuracy = model_fn(batched_g, model, criterion, device)\n",
    "            total_accuracy += accuracy.item()\n",
    "            total_loss += loss.item()\n",
    "            num_batches += 1\n",
    "\n",
    "    avg_accuracy = total_accuracy / num_batches\n",
    "    avg_loss = total_loss / num_batches\n",
    "    print(f'Validation Loss: {avg_loss:.4f} | Validation Accuracy: {avg_accuracy:.4f}')\n",
    "\n",
    "\n",
    "    # Save checkpoint\n",
    "    torch.save({\n",
    "            'epoch': epoch,\n",
    "            'model_state_dict': model.state_dict(),\n",
    "            'optimizer_state_dict': optimizer.state_dict(),\n",
    "            'loss': loss,\n",
    "            }, f\"../checkpoint_GCN/checkpoint_{epoch}.pt\")\n",
    "    \n",
    "\n",
    "# After all epochs\n",
    "model.eval()\n",
    "total = 0\n",
    "correct = 0\n",
    "with torch.no_grad():\n",
    "#     for batched_g, labels in test_dataloader:\n",
    "    for batched_g, labels in dataloaders['test']:\n",
    "        batched_g = batched_g.to(device)\n",
    "        labels = labels.to(device)\n",
    "        logits = model(batched_g, batched_g.ndata['feat'])\n",
    "        _, predicted = torch.max(logits.data, 1)\n",
    "        total += labels.size(0)\n",
    "        correct += (predicted == labels).sum().item()\n",
    "    print('Test Accuracy: %d %%' % (100 * correct / total))"
   ]
  },
  {
   "cell_type": "code",
   "execution_count": null,
   "metadata": {},
   "outputs": [],
   "source": []
  },
  {
   "cell_type": "code",
   "execution_count": null,
   "metadata": {},
   "outputs": [],
   "source": [
    "# 1. 定義圖神經網路模型\n",
    "class GCN(nn.Module):\n",
    "    def __init__(self, in_feats, hidden_size, num_classes):\n",
    "        super(GCN, self).__init__()\n",
    "        self.conv1 = GraphConv(in_feats, hidden_size)\n",
    "        self.conv2 = GraphConv(hidden_size, num_classes)\n",
    "\n",
    "    def forward(self, g, inputs):\n",
    "        h = self.conv1(g, inputs)\n",
    "        h = torch.relu(h)\n",
    "        h = self.conv2(g, h)\n",
    "        g.ndata['h'] = h\n",
    "        # 將每個圖的所有節點特徵進行平均\n",
    "        hg = dgl.mean_nodes(g, 'h')\n",
    "        return hg\n",
    "\n",
    "# 2. 定義數據集\n",
    "class GraphDataset(Dataset):\n",
    "    def __init__(self, data_list):\n",
    "        self.data_list = data_list\n",
    "\n",
    "    def __len__(self):\n",
    "        return len(self.data_list)\n",
    "\n",
    "    def __getitem__(self, idx):\n",
    "        data = self.data_list[idx]\n",
    "        g = dgl.graph((data[\"edge_index\"][0], data[\"edge_index\"][1]), num_nodes=data[\"num_nodes\"])\n",
    "        g = dgl.add_self_loop(g)  # add self loop to each node\n",
    "        g.ndata['feat'] = torch.tensor(data[\"node_feat\"])\n",
    "        # g.edata['feat'] = torch.tensor(data[\"edge_attr\"])\n",
    "        return g, torch.tensor(data[\"y\"])\n",
    "\n",
    "\n",
    "def collate(samples):\n",
    "    # The input `samples` is a list of pairs\n",
    "    #  (graph, label).\n",
    "    graphs, labels = map(list, zip(*samples))\n",
    "    batched_graph = dgl.batch(graphs)\n",
    "    return batched_graph, torch.tensor(labels)\n",
    "\n",
    "\n",
    "with open(\"../data/final_small_version/remaining_train.jsonl\") as f:\n",
    "    train_data_list = [json.loads(line) for line in f]\n",
    "train_dataset = GraphDataset(train_data_list)\n",
    "# train_dataloader = DataLoader(train_dataset, batch_size=32, shuffle=True, collate_fn=dgl.batch)\n",
    "\n",
    "with open(\"../data/final_small_version/remaining_valid.jsonl\") as f:\n",
    "    val_data_list = [json.loads(line) for line in f]\n",
    "val_dataset = GraphDataset(val_data_list)\n",
    "# val_dataloader = DataLoader(val_dataset, batch_size=32, shuffle=True, collate_fn=dgl.batch)\n",
    "\n",
    "with open(\"../data/final_small_version/remaining_test.jsonl\") as f:\n",
    "    test_data_list = [json.loads(line) for line in f]\n",
    "test_dataset = GraphDataset(test_data_list)\n",
    "# test_dataloader = DataLoader(test_dataset, batch_size=32, shuffle=True, collate_fn=dgl.batch)\n",
    "\n",
    "train_dataloader = DataLoader(train_dataset, batch_size=32, shuffle=True, collate_fn=collate)\n",
    "val_dataloader = DataLoader(val_dataset, batch_size=32, shuffle=True, collate_fn=collate)\n",
    "test_dataloader = DataLoader(test_dataset, batch_size=32, shuffle=True, collate_fn=collate)\n",
    "\n",
    "\n",
    "\n",
    "# 4. 創建模型並訓練\n",
    "model = GCN(1, 16, 168) # 1是輸入特徵的維度，16是隱藏層大小，168是類別數量\n",
    "# model = model.to(device)\n",
    "optimizer = torch.optim.Adam(model.parameters(), lr=0.01)\n",
    "\n",
    "for epoch in tqdm(range(100)):\n",
    "    for batched_g, labels in train_dataloader:\n",
    "        # batched_g, labels = batched_g.to(device), labels.to(device)\n",
    "        logits = model(batched_g, batched_g.ndata['feat'])\n",
    "        loss = F.cross_entropy(logits, labels)\n",
    "        optimizer.zero_grad()\n",
    "        loss.backward()\n",
    "        optimizer.step()\n",
    "    print('Epoch %d | Loss: %.4f' % (epoch, loss.item()))\n",
    "\n",
    "    # 儲存 checkpoint\n",
    "    torch.save({\n",
    "            'epoch': epoch,\n",
    "            'model_state_dict': model.state_dict(),\n",
    "            'optimizer_state_dict': optimizer.state_dict(),\n",
    "            'loss': loss,\n",
    "            }, f\"./checkpoint/checkpoint_{epoch}.pt\")\n",
    "\n",
    "# 5. 驗證模型\n",
    "model.eval()\n",
    "with torch.no_grad():\n",
    "    for batched_g, labels in val_dataloader:\n",
    "        logits = model(batched_g, batched_g.ndata['feat'])\n",
    "        _, predicted = torch.max(logits.data, 1)\n",
    "        total = labels.size(0)\n",
    "        correct = (predicted == labels).sum().item()\n",
    "        print('Accuracy: %d %%' % (100 * correct / total))"
   ]
  },
  {
   "cell_type": "code",
   "execution_count": null,
   "metadata": {},
   "outputs": [],
   "source": []
  },
  {
   "cell_type": "code",
   "execution_count": null,
   "metadata": {},
   "outputs": [],
   "source": []
  }
 ],
 "metadata": {
  "kernelspec": {
   "display_name": "Python 3",
   "language": "python",
   "name": "python3"
  },
  "language_info": {
   "codemirror_mode": {
    "name": "ipython",
    "version": 3
   },
   "file_extension": ".py",
   "mimetype": "text/x-python",
   "name": "python",
   "nbconvert_exporter": "python",
   "pygments_lexer": "ipython3",
   "version": "3.6.9"
  }
 },
 "nbformat": 4,
 "nbformat_minor": 2
}
